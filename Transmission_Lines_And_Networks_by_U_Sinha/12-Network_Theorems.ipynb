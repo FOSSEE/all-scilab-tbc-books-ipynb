{
"cells": [
 {
		   "cell_type": "markdown",
	   "metadata": {},
	   "source": [
       "# Chapter 12: Network Theorems"
	   ]
	},
{
		   "cell_type": "markdown",
		   "metadata": {},
		   "source": [
			"## Example 12.10: Verifying_reciprocity_theorem.sce"
		   ]
		  },
  {
"cell_type": "code",
	   "execution_count": null,
	   "metadata": {
	    "collapsed": true
	   },
	   "outputs": [],
"source": [
"clear;\n",
"clc;\n",
"I=5*exp(%i*(90)/(180/%pi));Z1=5+(%i*5);Z2=2;Z3=-%i*2;\n",
"I2=I*Z1/(Z1+Z2+Z3);\n",
"V2=I2*Z3;\n",
"I1=I*Z3/(Z1+Z2+Z3);\n",
"V1=I1*Z1;\n",
"printf('The reciprocity theorem has been verified.');"
   ]
   }
,
{
		   "cell_type": "markdown",
		   "metadata": {},
		   "source": [
			"## Example 12.11: Calculating_value_of_compensation_source.sce"
		   ]
		  },
  {
"cell_type": "code",
	   "execution_count": null,
	   "metadata": {
	    "collapsed": true
	   },
	   "outputs": [],
"source": [
"clear;\n",
"clc;\n",
"Z1=%i*10;Z2=3+(%i*4);Z=5;V=20;\n",
"Zeq=1/((1/Z1)+(1/Z2));\n",
"Zi=Z+Zeq;\n",
"I=V/Zi;\n",
"Vc=I*Zeq;\n",
"A=real(Vc);\n",
"B=imag(Vc);\n",
"printf('Compensation source Vc = %f /_ %f volts',round(abs(Vc)*10)/10,round(atan(B,A)*180*10/%pi)/10);"
   ]
   }
,
{
		   "cell_type": "markdown",
		   "metadata": {},
		   "source": [
			"## Example 12.12: Calculating_power_in_load_and_turns_ratio_for_maximum_power_transfer.sce"
		   ]
		  },
  {
"cell_type": "code",
	   "execution_count": null,
	   "metadata": {
	    "collapsed": true
	   },
	   "outputs": [],
"source": [
"clear;\n",
"clc;\n",
"Zg=10000;Zl=24+(%i*7);Vrms=100; \n",
"Rl=real(Zl);\n",
"Xl=imag(Zl);\n",
"Zeq=sqrt(((Rl+Zg)^2)+((Xl)^2));\n",
"Irms=Vrms/Zeq;\n",
"P=Irms*Irms*Rl;\n",
"printf('(i)Power in the load if connected directly to the generator = %f mW\n',round(P*(10^3)*10)/10);\n",
"ampZl=sqrt((Rl*Rl)+(Xl*Xl));\n",
"n=1/sqrt(ampZl/Zg);\n",
"printf('(ii)The desired turn ratio of transformer is 1:%d\n',n);\n",
"Pl=Vrms*Vrms/(4*Zg);\n",
"printf('(iii)Power transferred under ideal load conditions =%f mW',Pl*(10^3));"
   ]
   }
,
{
		   "cell_type": "markdown",
		   "metadata": {},
		   "source": [
			"## Example 12.13: Determining_value_of_maximum_power.sce"
		   ]
		  },
  {
"cell_type": "code",
	   "execution_count": null,
	   "metadata": {
	    "collapsed": true
	   },
	   "outputs": [],
"source": [
"clear;\n",
"clc;\n",
"Zg=10+(%i*20);V=50;\n",
"Rg=real(Zg);Xg=imag(Zg);\n",
"ampZg=sqrt((Rg*Rg)+(Xg*Xg));\n",
"Rl=ampZg;\n",
"I=V/(Zg+Rl);\n",
"ampI=round(sqrt((real(I))^2+(imag(I))^2)*100)/100;\n",
"P=ampI*ampI*round(Rl*10)/10;\n",
"printf('Power delivered to the load = %f Watt',round(P*10)/10);"
   ]
   }
,
{
		   "cell_type": "markdown",
		   "metadata": {},
		   "source": [
			"## Example 12.14: EX12_14.sce"
		   ]
		  },
  {
"cell_type": "code",
	   "execution_count": null,
	   "metadata": {
	    "collapsed": true
	   },
	   "outputs": [],
"source": [
"clear;\n",
"clc;\n",
"V=50*exp(%i*45/(180/%pi));Z1=3;Z2=2+(%i*10);Xl=2;\n",
"Voc=V*Z2/(Z1+Z2);\n",
"Zab=1/((1/Z1)+(1/Z2));\n",
"Zg=Zab\n",
"Rl1=Zg-(%i*Xl);\n",
"Rl=abs(Rl1);\n",
"Z=Zab+Rl-(%i*Xl);\n",
"I1=Voc/Z;\n",
"I=abs(I1);\n",
"P=I*I*Rl;\n",
"printf('-Rl = %f ohms\n',round(Rl*100)/100);\n",
"printf('-Xl = %f ohms\n',Xl);\n",
"printf('-Maximum power delivered to load = %f Watts',round(P));\n",
"\n",
""
   ]
   }
,
{
		   "cell_type": "markdown",
		   "metadata": {},
		   "source": [
			"## Example 12.17: EX12_17.sce"
		   ]
		  },
  {
"cell_type": "code",
	   "execution_count": null,
	   "metadata": {
	    "collapsed": true
	   },
	   "outputs": [],
"source": [
"clear;\n",
"clc;\n",
"f=5*(10^6);C=400*(10^-12);R=10*(10^3);\n",
"w=2*%pi*f;\n",
"L=2/(w*w*C);\n",
"r=1/(w*w*C*C*R);\n",
"printf('-Effective resistance of the coil = %f ohms\n',round(r*100)/100);\n",
"printf('-Inductance of effective resistance of the coil = %f mH',round(L*(10^3)*1000)/1000);"
   ]
   }
,
{
		   "cell_type": "markdown",
		   "metadata": {},
		   "source": [
			"## Example 12.19: Determining_the_elements_of_a_series_type_Foster_network.sce"
		   ]
		  },
  {
"cell_type": "code",
	   "execution_count": null,
	   "metadata": {
	    "collapsed": true
	   },
	   "outputs": [],
"source": [
"clear;\n",
"clc;\n",
"w1=2*(10^6);w2=3*(10^6);w3=4*(10^6);w=1*(10^6);Z=%i*100;\n",
"F=((w*w)-(w2*w2))/(((w*w)-(w1*w1))*((w*w)-(w3*w3)));\n",
"H=Z/(%i*w*F);H1=round(H*10^-8*100)/(100*10^-8);\n",
"A=((w1*w1)-(w2*w2))/((w1*w1)-(w3*w3));\n",
"B=((w3*w3)-(w2*w2))/((w3*w3)-(w1*w1));\n",
"C2=-1/(H1*A);\n",
"printf('Elements of the series type Foster network are:\n');\n",
"printf('-C2 = %f pf\n',fix(C2*(10^12)))\n",
"L2=1/(w1*w1*C2);\n",
"printf('-L2 = %f microhenry\n',round(L2*(10^6)*10)/10);\n",
"C4=-1/(H1*B);\n",
"printf('-C4 = %f pf\n',fix(C4*(10^12)));\n",
"L4=1/(w3*w3*C4);\n",
"printf('-L4 = %f microhenry',round(L4*(10^6)*10)/10);"
   ]
   }
,
{
		   "cell_type": "markdown",
		   "metadata": {},
		   "source": [
			"## Example 12.1: Finding_the_rms_value_of_current.sce"
		   ]
		  },
  {
"cell_type": "code",
	   "execution_count": null,
	   "metadata": {
	    "collapsed": true
	   },
	   "outputs": [],
"source": [
"clear;\n",
"clc;\n",
"w=2*%pi*(10^6);C=100*(10^-12);V=10;L=100*(10^-6);\n",
"Zc=1/(w*C);\n",
"Ic=(V/sqrt(2))/Zc;\n",
"printf('-R.m.s. value of current flowing through capacitor C = %f mA\n',round(Ic*(10^3)*100)/100);\n",
"Zl=w*L;\n",
"Il=(V/sqrt(2))/Zl;\n",
"printf('-R.m.s. value of current flowing through inductor L = %f mA',fix(Il*(10^3)*10)/10);"
   ]
   }
,
{
		   "cell_type": "markdown",
		   "metadata": {},
		   "source": [
			"## Example 12.20: Determining_the_elements_of_series_type_Foster_network.sce"
		   ]
		  },
  {
"cell_type": "code",
	   "execution_count": null,
	   "metadata": {
	    "collapsed": true
	   },
	   "outputs": [],
"source": [
"clear;\n",
"clc;\n",
"w1=1000;w2=1500;w3=2000;w4=3000;w5=5000;w=100;Z=%i*100;\n",
"F=((w*w)-(w2*w2))*((w*w)-(w4*w4))/(((w*w)-(w1*w1))*((w*w)-(w3*w3))*((w*w)-(w5*w5)));\n",
"H=Z/(%i*w*F);\n",
"A=((w1*w1)-(w2*w2))*((w1*w1)-(w4*w4))/(((w1*w1)-(w3*w3))*((w1*w1)-(w5*w5)));\n",
"B=((w3*w3)-(w2*w2))*((w3*w3)-(w4*w4))/(((w3*w3)-(w5*w5))*((w3*w3)-(w1*w1)));\n",
"C=((w5*w5)-(w2*w2))*((w5*w5)-(w4*w4))/(((w5*w5)-(w1*w1))*((w5*w5)-(w3*w3)));\n",
"C2=-1/(H*A);\n",
"printf('-C2 = %f microfarads\n',round(C2*(10^6)*100)/100)\n",
"L2=1/(w1*w1*C2);\n",
"printf('-L2 = %f henry\n',round(L2*100)/100);\n",
"C4=-1/(H*B);\n",
"printf('-C4 = %f microfarads\n',round(C4*(10^6)*100)/100);\n",
"L4=1/(w3*w3*C4);\n",
"printf('-L4 = %f henry\n',round(L4*100)/100);\n",
"C6=-1/(H*C);\n",
"L6=1/(w5*w5*C6);\n",
"printf('-C6 = %f microfarads\n',round(L6*100)/100);\n",
"printf('-L6 = %f henry\n',round(C6*(10^6)*100)/100)"
   ]
   }
,
{
		   "cell_type": "markdown",
		   "metadata": {},
		   "source": [
			"## Example 12.21: Finding_current.sce"
		   ]
		  },
  {
"cell_type": "code",
	   "execution_count": null,
	   "metadata": {
	    "collapsed": true
	   },
	   "outputs": [],
"source": [
"clear;\n",
"clc;\n",
"V=10;Rl=10;Z1=5;Z2=5;\n",
"Zab=1/((1/Z1)+(1/Z2));\n",
"I1=V/(Z1+Z2);\n",
"Voc=I1*Z1;\n",
"I=Voc/(Zab+Rl);\n",
"printf('Current in the 10 ohm resistor = %d mA',I*(10^3));"
   ]
   }
,
{
		   "cell_type": "markdown",
		   "metadata": {},
		   "source": [
			"## Example 12.22: Using_Thevenins_theorem_to_calculate_power.sce"
		   ]
		  },
  {
"cell_type": "code",
	   "execution_count": null,
	   "metadata": {
	    "collapsed": true
	   },
	   "outputs": [],
"source": [
"clear;\n",
"clc;\n",
"Rl=10;V=100;Z1=-%i*30;Z2=-%i*30;Z3=20+(%i*10);\n",
"I=V/(Z1+Z2);\n",
"Voc=I*Z2;\n",
"Zab=1/((1/Z1)+(1/Z2))+Z3;\n",
"Z=Zab+Rl;\n",
"Il=Voc/Z;\n",
"ampIl=sqrt(real(Il)^2+imag(Il)^2);\n",
"Pl=ampIl*ampIl*Rl;\n",
"printf('Power in the load = %f Watts',round(Pl*100)/100);"
   ]
   }
,
{
		   "cell_type": "markdown",
		   "metadata": {},
		   "source": [
			"## Example 12.23: Finding_Thevenins_equivalent_generator.sce"
		   ]
		  },
  {
"cell_type": "code",
	   "execution_count": null,
	   "metadata": {
	    "collapsed": true
	   },
	   "outputs": [],
"source": [
"clear;\n",
"clc;\n",
"V=100;R1=10;R2=10;R3=10;R4=10;\n",
"I=V/(R1+R2);\n",
"Vab=I*R2;\n",
"Zab=1/((1/R1)+(1/R2));\n",
"V1=Vab*R4/(Zab+R3+R4);\n",
"Z1=1/((1/(Zab+R3))+(1/R4));\n",
"printf('The equivalent Thevenin circuit has an emf of %d volts and an internal impedance of %f ohms',V1,Z1);"
   ]
   }
,
{
		   "cell_type": "markdown",
		   "metadata": {},
		   "source": [
			"## Example 12.25: EX12_25.sce"
		   ]
		  },
  {
"cell_type": "code",
	   "execution_count": null,
	   "metadata": {
	    "collapsed": true
	   },
	   "outputs": [],
"source": [
"clear;\n",
"clc;\n",
"V=100;Z1=20;Z2=-%i*100;Z3=100;\n",
"Zab=1/((1/(Z2))+(1/Z3));\n",
"Voc=V*Z3/(Z2+Z3);\n",
"I=Voc/(Zab+Voc);\n",
"P=(abs(I))^2 * real(Zab);\n",
"Z=conj(Zab);\n",
"A=real(Z);\n",
"B=imag(Z);\n",
"printf('Value of load value for maximum power = %d + j(%d) ohms\n',A,B);\n",
"printf('  Maximum Power = %d Watts',P);"
   ]
   }
,
{
		   "cell_type": "markdown",
		   "metadata": {},
		   "source": [
			"## Example 12.26: Determining_Thevenins_equivalent_circuit.sce"
		   ]
		  },
  {
"cell_type": "code",
	   "execution_count": null,
	   "metadata": {
	    "collapsed": true
	   },
	   "outputs": [],
"source": [
"clear;\n",
"clc;\n",
"V=100;R1=50;R2=60;R3=40;R4=60;R5=40;\n",
"Rac=1/((1/(R2+R3))+(1/(R4+R5)));\n",
"Rt=Rac+R1;\n",
"I=V/Rt;\n",
"V1=I*R1;\n",
"Vac=V-V1;\n",
"Vab=R2*Vac/(R2+R3);\n",
"Vad=R5*Vac/(R4+R5);\n",
"Vbd=Vab-Vad;\n",
"Voc=Vbd;\n",
"R1y=R5*R1/(R1+R4+R5);\n",
"R2y=R1*R4/(R1+R4+R5);\n",
"R3y=R4*R5/(R1+R4+R5);\n",
"Rbd=R3y+(1/((1/(R1y+R2))+(1/(R2y+R3))));\n",
"printf('The equivalent Thevenin circuit has an emf of %d volts and an internal impedance of %d ohms',Vbd,Rbd);\n",
""
   ]
   }
,
{
		   "cell_type": "markdown",
		   "metadata": {},
		   "source": [
			"## Example 12.27: Calculating_current.sce"
		   ]
		  },
  {
"cell_type": "code",
	   "execution_count": null,
	   "metadata": {
	    "collapsed": true
	   },
	   "outputs": [],
"source": [
"clear;\n",
"clc;\n",
"V1=6;V2=6;R1=2;R2=1;R3=2;\n",
"Y1=1/R1;Y2=1/R2;\n",
"Vm=((V1*Y1)+(V2*Y2))/(Y1+Y2);\n",
"Zm=1/(Y1+Y2);\n",
"I=Vm/(Zm+R3);\n",
"printf('Current in resistor R3 = %f Amp',I);"
   ]
   }
,
{
		   "cell_type": "markdown",
		   "metadata": {},
		   "source": [
			"## Example 12.28: Using_Millmans_theorem_to_find_current_and_voltage.sce"
		   ]
		  },
  {
"cell_type": "code",
	   "execution_count": null,
	   "metadata": {
	    "collapsed": true
	   },
	   "outputs": [],
"source": [
"clear;\n",
"clc;\n",
"V1=5;V2=4;R1=5;R2=4;I3=1;R3=10;R4=5;\n",
"V3=I3*R3;\n",
"Y1=1/R1;Y2=1/R2;Y3=1/R3;\n",
"V4=((V1*Y1)+(V2*Y2)+(V3*Y3))/(Y1+Y2+Y3);\n",
"I4=V4/R4;\n",
"printf('Voltage across resistor R4 = %f volts\n',V4);\n",
"printf('Current in resistor R4 = %f Amp',I4);\n",
"//the difference in result  is due to erroneous value in textbook.\n",
"disp('The difference in result is due to erroneous value in textbook')"
   ]
   }
,
{
		   "cell_type": "markdown",
		   "metadata": {},
		   "source": [
			"## Example 12.29: Verifying_Tellegens_theorem.sce"
		   ]
		  },
  {
"cell_type": "code",
	   "execution_count": null,
	   "metadata": {
	    "collapsed": true
	   },
	   "outputs": [],
"source": [
"clear;\n",
"clc;\n",
"V=120;R1=6;R2=8;R3=3;R4=5;\n",
"a=[7 -4;-1 2];\n",
"b=[60;0];\n",
"b=inv(a)*b;\n",
"I1=b(1,1);\n",
"I2=b(2,1);\n",
"VI1=(R1*I1)+(R2*(I1-I2))-V;\n",
"printf('Summation V*I for first loop = %d\n',VI1);\n",
"VI2=(R3*I2)+(R4*I2)-(R2*(I1-I2));\n",
"printf('Summation V*I for second loop = %d\n',VI2);\n",
"printf('Hence Tellegens theorem has been verified.');"
   ]
   }
,
{
		   "cell_type": "markdown",
		   "metadata": {},
		   "source": [
			"## Example 12.2: Calculating_voltage.sce"
		   ]
		  },
  {
"cell_type": "code",
	   "execution_count": null,
	   "metadata": {
	    "collapsed": true
	   },
	   "outputs": [],
"source": [
"clear;\n",
"clc;\n",
"Z1=10;Z2=5;Z3=2;I1=2;I2=4;\n",
"Vab1=I1*(1/((1/Z2)+(1/(Z1+Z3))));\n",
"I5=I2*Z3/(Z1+Z2+Z3); //I5=current through the 5 ohm resistor\n",
"Vab2=Z2*I5;\n",
"Vab=Vab1+Vab2;\n",
"printf('Vab = %f volts',round(Vab*100)/100);"
   ]
   }
,
{
		   "cell_type": "markdown",
		   "metadata": {},
		   "source": [
			"## Example 12.30: Verifying_Tellegens_theorem.sce"
		   ]
		  },
  {
"cell_type": "code",
	   "execution_count": null,
	   "metadata": {
	    "collapsed": true
	   },
	   "outputs": [],
"source": [
"clear;\n",
"clc;\n",
"V1=4;V2=2;V3=2;V4=3;V5=-1;V6=-5;i1=2;i2=2;i3=4;i4=-2;i5=-6;i6=4;\n",
"Va=V2+V3-V1;\n",
"printf('V2+V3-V1= %d volts\n',Va);\n",
"Vb=V2+V4+V6;\n",
"printf('V2+V4+V6= %d volts\n',Vb);\n",
"Vc=V4+V5-V3;\n",
"printf('V4+V5-V6= %d volts\n',Vc);\n",
"printf('-Hence KVL is satisfied for all three loops PQTU,PRYX and QRST respectively.\n\n');\n",
"Ia=i1+i2-i6;\n",
"printf('i1+i2-i6= %d Amp\n',Ia);\n",
"Ib=i3+i4-i2;\n",
"printf('i3+i4-i2= %d Amp\n',Ib);\n",
"Ic=i5+i6-i4;\n",
"printf('i5+i6-i2= %d Amp\n',Ic);\n",
"printf('-Hence KCL is satisfied at all three nodes P,Q and R  respectively.\n\n');\n",
"VI=(V1*i1)+(V2*i2)+(V3*i3)+(V4*i4)+(V5*i5)+(V6*i6);\n",
"printf('-Summation V*I= %d\n\n',VI);\n",
"printf('-This proves Tellegens theorem.');"
   ]
   }
,
{
		   "cell_type": "markdown",
		   "metadata": {},
		   "source": [
			"## Example 12.31: Finding_current.sce"
		   ]
		  },
  {
"cell_type": "code",
	   "execution_count": null,
	   "metadata": {
	    "collapsed": true
	   },
	   "outputs": [],
"source": [
"clear;\n",
"clc;\n",
"Vrms=10;R1=5;Z1=20;Z2=20;Z3=10;Z4=10;\n",
"Zab=(1/((1/Z1)+(1/Z2)))+(1/((1/Z3)+(1/Z4)));\n",
"Voc=R1;\n",
"I=Voc/(Zab+R1);\n",
"printf('Current I = %f Amps',I);"
   ]
   }
,
{
		   "cell_type": "markdown",
		   "metadata": {},
		   "source": [
			"## Example 12.32: Calculating_current_and_voltage_using_Thevenins_theorem.sce"
		   ]
		  },
  {
"cell_type": "code",
	   "execution_count": null,
	   "metadata": {
	    "collapsed": true
	   },
	   "outputs": [],
"source": [
"clear;\n",
"clc;\n",
"I1=6;I2=8;R1=4;R2=4;R3=6;R4=4;Rl=3;\n",
"V1=I1*R1;V2=I2*R4;\n",
"Voc1=V1*(R3+R4)/(R1+R2+R3+R4);\n",
"Voc2=V2*(R1+R2)/(R1+R2+R3+R4);\n",
"Voc=Voc1+Voc2;\n",
"Zab=1/((1/(R1+R2))+(1/(R3+R4)));\n",
"Il=Voc/(Zab+Rl);\n",
"printf('-il = %f Amp\n',round(Il*10)/10);\n",
"el=Il*Rl;\n",
"printf('-el = %f volts',round(el*10)/10);"
   ]
   }
,
{
		   "cell_type": "markdown",
		   "metadata": {},
		   "source": [
			"## Example 12.3: Calculating_current.sce"
		   ]
		  },
  {
"cell_type": "code",
	   "execution_count": null,
	   "metadata": {
	    "collapsed": true
	   },
	   "outputs": [],
"source": [
"clear;\n",
"clc;\n",
"R1=5;R2=%i*5;R3=3+(%i*4);V1=50*exp(%i*90/(180/%pi));V2=50;\n",
"Z1=R1+(1/((1/R2)+(1/R3)));\n",
"I1=V1/Z1;\n",
"Iz1=I1*R2/(R2+R3);\n",
"Z2=R2+(1/((1/R1)+(1/R3)));\n",
"I2=V2/Z2;\n",
"Iz2=-I2*R1/(R1+R3);\n",
"Iz=Iz1+Iz2;\n",
"printf('Total current in the (3+j4)ohm branch = %f /_ %f Amp',round(abs(Iz)*10)/10,round(atan(imag(Iz),real(Iz))*180*10/%pi)/10);"
   ]
   }
,
{
		   "cell_type": "markdown",
		   "metadata": {},
		   "source": [
			"## Example 12.5: Determining_Thevenins_equivalent_generator.sce"
		   ]
		  },
  {
"cell_type": "code",
	   "execution_count": null,
	   "metadata": {
	    "collapsed": true
	   },
	   "outputs": [],
"source": [
"clear;\n",
"clc;\n",
"Isc=10;Voc=120;Rl=8;Il=6;\n",
"Zeq=Voc/Isc; //Zeq=impedance of the equivalent thevenin's generator Z=R+jX\n",
"t=Voc/Isc; //(R^2)+(X^2)=(t^2)\n",
"R=(((Voc/Il)^2)-(t^2)-(Rl^2))/(2*Rl);\n",
"X=sqrt((t^2)-(R^2));\n",
"printf('The equivalent Thevenin generator has an emf of %d volts and an internal impedance of (%d + j%d) ohms',Voc,R,X);\n",
""
   ]
   }
,
{
		   "cell_type": "markdown",
		   "metadata": {},
		   "source": [
			"## Example 12.6: Determining_Thevenins_equivalent_circuit.sce"
		   ]
		  },
  {
"cell_type": "code",
	   "execution_count": null,
	   "metadata": {
	    "collapsed": true
	   },
	   "outputs": [],
"source": [
"clear;\n",
"clc;\n",
"V=10;R1=5;R2=%i*5;R3=3+(%i*4);\n",
"Zab=R2+(1/((1/R1)+(1/R3)));\n",
"A=real(Zab);\n",
"B=imag(Zab);\n",
"I=V/(R1+R3);\n",
"Voc=I*R3;\n",
"C=real(Voc);\n",
"D=imag(Voc);\n",
"printf('The equivalent Thevenin circuit has an emf of %f /_ %f volts and an internal impedance of (%f + j%f) ohms',fix(abs(Voc)*100)/100,fix(atan(D,C)*180/%pi),A,B);"
   ]
   }
,
{
		   "cell_type": "markdown",
		   "metadata": {},
		   "source": [
			"## Example 12.7: Deriving_the_equivalent_voltage_generator_circuit.sce"
		   ]
		  },
  {
"cell_type": "code",
	   "execution_count": null,
	   "metadata": {
	    "collapsed": true
	   },
	   "outputs": [],
"source": [
"clear;\n",
"clc;\n",
"Voc=150;Rl=10;Il=2.65;Isc=3;\n",
"t=Voc/Isc; //(R^2)+(X^2)=(t^2)\n",
"R=(((Voc/Il)^2)-(t^2)-(Rl^2))/(2*Rl);\n",
"X=sqrt((t^2)-(R^2));\n",
"printf('-The equivalent voltage generator circuit has an emf of %d volts and an internal impedance of (%f + j%f) ohms\n',Voc,fix(R*100)/100,round(X*100)/100);\n",
"if X>0 then\n",
"    printf('-Since X has a positive value the circuit will be inductive');\n",
"else \n",
"    disp('-Since X has a negative value the circuit will be capacitve');\n",
"end\n",
""
   ]
   }
,
{
		   "cell_type": "markdown",
		   "metadata": {},
		   "source": [
			"## Example 12.8: Determining_the_Nortons_equivalent_circuit.sce"
		   ]
		  },
  {
"cell_type": "code",
	   "execution_count": null,
	   "metadata": {
	    "collapsed": true
	   },
	   "outputs": [],
"source": [
"clear;\n",
"clc;\n",
"Za=-%i*5;Zb=5+(%i*5);V=50;Z1=5-(%i*5);Z2=10;\n",
"Isc=V/Za;\n",
"A=real(Isc);\n",
"B=imag(Isc);\n",
"printf('-Short circuit current = %d /_ %d Amps\n',abs(Isc),atan(B,A)*180/%pi);\n",
"Zab=1/((1/Za)+(1/Zb));\n",
"C=real(Zab);\n",
"D=imag(Zab);\n",
"printf('-Equivalent impedance = %d + j(%d) ohms\n',C,D);\n",
"I1=Isc*(Zab/(Zab+Z1));\n",
"E=real(I1);\n",
"F=imag(I1);\n",
"printf('-Current through impedance Z1(=5-j5) = %d /_ %d Amps\n',abs(I1),atan(F,E)*180/%pi);\n",
"I2=Isc*(Zab/(Zab+Z2));\n",
"G=real(I2);\n",
"H=imag(I2);\n",
"printf('-Current through impedance Z2(=10) = %f /_ %f Amps',round(abs(I2)*100)/100,round(atan(H,G)*100*180/%pi)/100);"
   ]
   }
,
{
		   "cell_type": "markdown",
		   "metadata": {},
		   "source": [
			"## Example 12.9: Obtaining_Nortons_equivalent_circuit.sce"
		   ]
		  },
  {
"cell_type": "code",
	   "execution_count": null,
	   "metadata": {
	    "collapsed": true
	   },
	   "outputs": [],
"source": [
"clear;\n",
"clc;\n",
"V1=10;V2=20;R1=5;R2=15;\n",
"Isc=(V1/R1)+(V2/R2);\n",
"Zab=1/((1/R2)+(1/R1));\n",
"printf('-Short circuit current = %f Amp\n',round(Isc*100)/100);\n",
"printf('-Equivalent impedance = %f ohm',Zab);"
   ]
   }
],
"metadata": {
		  "kernelspec": {
		   "display_name": "Scilab",
		   "language": "scilab",
		   "name": "scilab"
		  },
		  "language_info": {
		   "file_extension": ".sce",
		   "help_links": [
			{
			 "text": "MetaKernel Magics",
			 "url": "https://github.com/calysto/metakernel/blob/master/metakernel/magics/README.md"
			}
		   ],
		   "mimetype": "text/x-octave",
		   "name": "scilab",
		   "version": "0.7.1"
		  }
		 },
		 "nbformat": 4,
		 "nbformat_minor": 0
}
