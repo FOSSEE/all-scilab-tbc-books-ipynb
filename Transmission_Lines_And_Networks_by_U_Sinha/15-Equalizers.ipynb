{
"cells": [
 {
		   "cell_type": "markdown",
	   "metadata": {},
	   "source": [
       "# Chapter 15: Equalizers"
	   ]
	},
{
		   "cell_type": "markdown",
		   "metadata": {},
		   "source": [
			"## Example 15.10: Calculating_value_of_R_and_L.sce"
		   ]
		  },
  {
"cell_type": "code",
	   "execution_count": null,
	   "metadata": {
	    "collapsed": true
	   },
	   "outputs": [],
"source": [
"clear;\n",
"clc;\n",
"R1=1;C=0.05;R0=1;\n",
"R2=R0*R0/R1;\n",
"printf('-Series arm will have a resistance R2 = %f ohms\n',R2);\n",
"L=C*R0*R0;\n",
"printf(' -Value of inductance in parallel with R2 = %f henry',L);"
   ]
   }
,
{
		   "cell_type": "markdown",
		   "metadata": {},
		   "source": [
			"## Example 15.11: Designing_a_constant_resistance_equalizer.sce"
		   ]
		  },
  {
"cell_type": "code",
	   "execution_count": null,
	   "metadata": {
	    "collapsed": true
	   },
	   "outputs": [],
"source": [
"clear;\n",
"clc;\n",
"f=500;Ro=400;f1=50;D1=17;\n",
"M1=10^(D1/10);\n",
"D2=4;f2=2500;\n",
"M2=10^(D2/10);\n",
"B=sqrt(((f1*f1*(M1-1))-(f2*f2*(M2-1)))/(M2-M1));\n",
"A=sqrt((B*B*M2)+(f2*f2*(M2-1)));\n",
"L11=Ro/(%pi*(A+B));\n",
"L12=Ro/(%pi*(A-B));\n",
"R11=L11*%pi*(A-B);\n",
"R12=L12*%pi*(A+B);\n",
"R21=Ro*Ro/R11;\n",
"R22=Ro*Ro/R12;\n",
"C21=L11/(Ro*Ro);\n",
"C22=L12/(Ro*Ro);\n",
"printf('The designed equalizer will have the configuration:\n');\n",
"printf(' I. R1 = %f ohms, C2 = %f microfarads, R2 = %f ohms, L1 = %f mH\n',round(R11),round(C21*(10^9))/1000,fix(R21),round(L11*(10^4))/10);\n",
"printf(' II. R1 = %f ohms, C2 = %f microfarads, R2 = %f ohms, L1 = %f mH\n\n',fix(R12),round(C22*(10^9))/1000,round(R22),round(L12*(10^3)));\n",
"M=((A*A)+(f*f))/((B*B)+(f*f));\n",
"F=10*log10(M);\n",
"printf(' Loss aat 500Hz = %f db',fix(F*10)/10);\n",
"\n",
""
   ]
   }
,
{
		   "cell_type": "markdown",
		   "metadata": {},
		   "source": [
			"## Example 15.12: Designing_a_constant_resistance_equalizer.sce"
		   ]
		  },
  {
"cell_type": "code",
	   "execution_count": null,
	   "metadata": {
	    "collapsed": true
	   },
	   "outputs": [],
"source": [
"clear;\n",
"clc;\n",
"R0=600;D=10;b=10/6;fr=8.5*(10^3);\n",
"k=round((10^(D/20)*100))/100;\n",
"fb=fr/b;\n",
"Cb=1/(2*%pi*fb*R0);\n",
"Lb=R0/(2*%pi*fb);\n",
"printf('The desired bridged-T constant resistance equalizer will be as:\n');\n",
"printf('-Ro = %f ohms\n',R0);\n",
"L1=Lb*((k-1)/sqrt(k))*(((b*b)-1)/(b*b));\n",
"printf('-L1 = %f Henry\n',round(L1*10^4)/10^4);\n",
"C1=Cb*(sqrt(k)/(k-1))*(1/((b*b)-1));\n",
"printf('-C1 = %f microfarads\n',round(C1*(10^10))/10^4);\n",
"L2=Lb*((sqrt(k))/(k-1))*(1/((b*b)-1));\n",
"printf('-L2 = %f Henry\n',round(L2*10^5)/10^5);\n",
"C2=Cb*((k-1)/sqrt(k))*(((b*b)-1)/(b*b));\n",
"printf('-C2 = %f microfarads\n',round(C2*(10^10))/10^4);\n",
"R1=R0*(k-1);\n",
"printf('-R1 = %f ohms\n',round(R1));\n",
"R2=R0/(k-1);\n",
"printf('-R2 = %f ohms',round(R2));"
   ]
   }
,
{
		   "cell_type": "markdown",
		   "metadata": {},
		   "source": [
			"## Example 15.13: Designing_a_lattice_equalizer.sce"
		   ]
		  },
  {
"cell_type": "code",
	   "execution_count": null,
	   "metadata": {
	    "collapsed": true
	   },
	   "outputs": [],
"source": [
"clear;\n",
"clc;\n",
"f1=200;f2=2400;Li=2.6;Lc1=0.494;Lc2=1.949;Ro=600;\n",
"//Li=total insertion loss\n",
"//value of f1 as taken in solution\n",
"//Lc=cable loss\n",
"Le1=Li-Lc1; //Le=equalizer loss\n",
"Le2=Li-Lc2;\n",
"M1=fix(exp(2*Le1));\n",
"M2=round(exp(2*Le2)*100)/100;\n",
"Q=((f2*f2*(M2-1))-(f1*f1*(M1-1)))/(M1-M2);\n",
"P=(f1*f1*(M1-1))+(M1*Q);\n",
"R11b=Ro*(sqrt(P)+sqrt(Q))/(sqrt(P)-sqrt(Q));\n",
"R21b=Ro*Ro/R11b;\n",
"L12b=Ro/(%pi*(sqrt(P)-sqrt(Q)));\n",
"C22b=L12b/(Ro*Ro);\n",
"L12a=Ro/(%pi*(sqrt(P)+sqrt(Q)));\n",
"R11a=Ro*(sqrt(P)-sqrt(Q))/(sqrt(P)+sqrt(Q));\n",
"R21a=Ro*Ro/R11a;\n",
"C22a=L12a/(Ro*Ro);\n",
"printf('The required equalizer will have the folllowing configuration:\n');\n",
"printf('I. R11 = %f ohms\n',fix(R11a));\n",
"printf('-L12 = %f mH\n',round(L12a*(10^4))/10);\n",
"printf('-R21 = %f ohms\n',round(R21a));\n",
"printf('-C22 = %f microfarads\n\n',round(C22a*(10^9))/10^3);\n",
"printf('II. R11 = %f ohms\n',round(R11b));\n",
"printf('-L12 = %f mH\n',fix(L12b*(10^4))/10);\n",
"printf('-R21 = %f ohms\n',round(R21b*100)/100);\n",
"printf('-C22 = %f microfarads',fix(C22b*(10^9))/10^3);"
   ]
   }
,
{
		   "cell_type": "markdown",
		   "metadata": {},
		   "source": [
			"## Example 15.4: Finding_the_elements_of_the_lattice.sce"
		   ]
		  },
  {
"cell_type": "code",
	   "execution_count": null,
	   "metadata": {
	    "collapsed": true
	   },
	   "outputs": [],
"source": [
"clear;\n",
"clc;\n",
"R0=600;R1=400;L=40*(10^-3);\n",
"R2=R0*R0/R1;\n",
"printf('-Other arm of lattice equalizer will have a resistance of R2 = %f ohms\n',R2);\n",
"C=L/(R0*R0);\n",
"printf(' -R2 resistance will be in parallel with a capacitance of C = %f microfarads',round(C*(10^8))/100);"
   ]
   }
,
{
		   "cell_type": "markdown",
		   "metadata": {},
		   "source": [
			"## Example 15.5: Calculating_values_of_L_and_C.sce"
		   ]
		  },
  {
"cell_type": "code",
	   "execution_count": null,
	   "metadata": {
	    "collapsed": true
	   },
	   "outputs": [],
"source": [
"clear;\n",
"clc;\n",
"R=600;f=4000;\n",
"a=3;\n",
"w=2*%pi*f;\n",
"C=sqrt((exp(2*3*0.115)-1)/(4*w*w*R*R));\n",
"printf('-C = %f microfarads\n',round(C*(10^9))/1000);\n",
"L=2*C*R*R;\n",
"printf(' -L = %f mH',fix(L*(10^5))/100);"
   ]
   }
,
{
		   "cell_type": "markdown",
		   "metadata": {},
		   "source": [
			"## Example 15.6: EX15_6.sce"
		   ]
		  },
  {
"cell_type": "code",
	   "execution_count": null,
	   "metadata": {
	    "collapsed": true
	   },
	   "outputs": [],
"source": [
"clear;\n",
"clc;\n",
"R1=1000;C1=0.0212*(10^-6);R2=250;\n",
"R0=sqrt(R1*R2);\n",
"printf('Characteristic impedance of line = %f ohms\n',R0);\n",
"L2=C1*R0*R0;\n",
"printf('Components of the shunt arm are inductance of %f mH in parallel with a given resistance of %f ohms.',L2*(10^3),R0);"
   ]
   }
],
"metadata": {
		  "kernelspec": {
		   "display_name": "Scilab",
		   "language": "scilab",
		   "name": "scilab"
		  },
		  "language_info": {
		   "file_extension": ".sce",
		   "help_links": [
			{
			 "text": "MetaKernel Magics",
			 "url": "https://github.com/calysto/metakernel/blob/master/metakernel/magics/README.md"
			}
		   ],
		   "mimetype": "text/x-octave",
		   "name": "scilab",
		   "version": "0.7.1"
		  }
		 },
		 "nbformat": 4,
		 "nbformat_minor": 0
}
