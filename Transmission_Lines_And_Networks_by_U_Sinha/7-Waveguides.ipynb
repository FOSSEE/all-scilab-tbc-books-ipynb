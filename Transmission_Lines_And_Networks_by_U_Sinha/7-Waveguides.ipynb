{
"cells": [
 {
		   "cell_type": "markdown",
	   "metadata": {},
	   "source": [
       "# Chapter 7: Waveguides"
	   ]
	},
{
		   "cell_type": "markdown",
		   "metadata": {},
		   "source": [
			"## Example 7.1: Calculating_critical_and_guide_wavelengths.sce"
		   ]
		  },
  {
"cell_type": "code",
	   "execution_count": null,
	   "metadata": {
	    "collapsed": true
	   },
	   "outputs": [],
"source": [
"clear;\n",
"clc;\n",
"c=3*(10^8);\n",
"f=3000*(10^8);\n",
"lo=c/f;\n",
"l=lo*(10^4);\n",
"m=1;n=0;a=7.62;\n",
"lc=2*a;\n",
"printf('-Critical wavelength = %f cm\n',lc);\n",
"lg=sqrt((l*l*lc*lc)/((lc*lc)-(l*l)));\n",
"printf('-Guide wavelength = %f cm',round(lg*10)/10);"
   ]
   }
,
{
		   "cell_type": "markdown",
		   "metadata": {},
		   "source": [
			"## Example 7.2: Finding_the_value_of_the_dominant_mode.sce"
		   ]
		  },
  {
"cell_type": "code",
	   "execution_count": null,
	   "metadata": {
	    "collapsed": true
	   },
	   "outputs": [],
"source": [
"clear;\n",
"clc\n",
"a=3;\n",
"lc=2*a;\n",
"Zs=500;n=377;c=3*(10^8);\n",
"lo=sqrt(1-((n/Zs)^2))*lc;\n",
"f=c/lo;\n",
"f1=f/(10^7);\n",
"printf('Frequency of dominant mode = %f GHz',round(f1*100)/100);"
   ]
   }
,
{
		   "cell_type": "markdown",
		   "metadata": {},
		   "source": [
			"## Example 7.3: EX7_3.sce"
		   ]
		  },
  {
"cell_type": "code",
	   "execution_count": null,
	   "metadata": {
	    "collapsed": true
	   },
	   "outputs": [],
"source": [
"clear;\n",
"clc\n",
"a=4.5;b=3;f=9*(10^9);c=3*(10^8);n=377\n",
"lo=c/f;\n",
"l=lo*(10^2);\n",
"lc=2*a;\n",
"printf('(i)Cutoff wavelegth = %f cm\n',lc);\n",
"lg=l /(sqrt(1-((l/lc)^2)));\n",
"printf('(ii)Guide wavelength = %f cm\n',fix(lg*100)/100);\n",
"Vp=(lg/l)*c*10^-8;\n",
"printf('(iii)Phase velocity = %f * 10^8 m/sec\n',fix(Vp*100)/100);\n",
"Vg=(l/lg)*c*10^-8;\n",
"printf('   Group velocity = %f * 10^8 m/sec\n',round(Vg*100)/100);\n",
"Z=n/(sqrt(1-((l/lc)^2)));\n",
"printf('(iv)Characteristic impedance = %f ohm',fix(Z));"
   ]
   }
,
{
		   "cell_type": "markdown",
		   "metadata": {},
		   "source": [
			"## Example 7.4: Calculating_voltage_attenuation.sce"
		   ]
		  },
  {
"cell_type": "code",
	   "execution_count": null,
	   "metadata": {
	    "collapsed": true
	   },
	   "outputs": [],
"source": [
"clear;\n",
"clc;\n",
"a=1;c=3*(10^8);f=(10^9);d=25;\n",
"lc=2*a;\n",
"lo=c/f;\n",
"l=lo/(10^2);\n",
"att=(54.55/lc)*d;\n",
"printf('Total attenuation = %f db',round(att*100)/100);\n",
"//the difference in result  is due to erroneous value in textbook.\n",
"disp('The difference in result is due to erroneous value in textbook')"
   ]
   }
,
{
		   "cell_type": "markdown",
		   "metadata": {},
		   "source": [
			"## Example 7.5: Calculating_group_and_phase_velocities_and_phase_constant.sce"
		   ]
		  },
  {
"cell_type": "code",
	   "execution_count": null,
	   "metadata": {
	    "collapsed": true
	   },
	   "outputs": [],
"source": [
"clear;\n",
"clc;\n",
"c=3*(10^8);f=3000*(10^6);a=.0722;\n",
"lo=c/f;\n",
"lc=2*a;\n",
"lg=lo/(sqrt(1-((lo/lc)^2)));\n",
"Vp=(lg/lo)*c*10^-8;\n",
"printf('-Phase velocity Vp = %f * 10^8 m/sec\n',round(Vp*10)/10);\n",
"Vg=(lo/lg)*c*10^-8;\n",
"printf('-Group velocity Vg = %f * 10^8 m/sec\n',round(Vg*10)/10);\n",
"b=(2*%pi)/lg;\n",
"printf('-Phase constant = %f radians/m',round(b));"
   ]
   }
,
{
		   "cell_type": "markdown",
		   "metadata": {},
		   "source": [
			"## Example 7.6: Calculating_cut_off_frequencies.sce"
		   ]
		  },
  {
"cell_type": "code",
	   "execution_count": null,
	   "metadata": {
	    "collapsed": true
	   },
	   "outputs": [],
"source": [
"clear;\n",
"clc\n",
"d=5;c=3*(10^8);\n",
"lo=1.706*d;\n",
"f=c/lo;\n",
"ff=f/(10^7);\n",
"printf('(i)Cutoff frequency for TE11 = %f GHz\n',round(ff*100)/100);\n",
"l=1.306*d;\n",
"fc=c/l;\n",
"ffc=fc/(10^7);\n",
"printf('(ii)Cutoff frequency for TE01 = %f GHz',round(ffc*10)/10);"
   ]
   }
,
{
		   "cell_type": "markdown",
		   "metadata": {},
		   "source": [
			"## Example 7.7: EX7_7.sce"
		   ]
		  },
  {
"cell_type": "code",
	   "execution_count": null,
	   "metadata": {
	    "collapsed": true
	   },
	   "outputs": [],
"source": [
"clear;\n",
"clc;\n",
"c=3*(10^8);f=8*(10^9);r=2.5;h=1.84;n=377;\n",
"l=c/f;\n",
"lo=l*(10^2);\n",
"lc=2*%pi*r/h;\n",
"printf('-Cutoff wavelength = %f cm\n',round(lc*100)/100);\n",
"lp=lo/(sqrt(1-((lo/lc)^2)));\n",
"printf('-Guide wavelength = %f cm\n',round(lp*100)/100);\n",
"Zo=n/(sqrt(1-((lo/lc)^2)));\n",
"printf('-Characteristic wave impedance = %f ohm',fix(Zo*10)/10);"
   ]
   }
],
"metadata": {
		  "kernelspec": {
		   "display_name": "Scilab",
		   "language": "scilab",
		   "name": "scilab"
		  },
		  "language_info": {
		   "file_extension": ".sce",
		   "help_links": [
			{
			 "text": "MetaKernel Magics",
			 "url": "https://github.com/calysto/metakernel/blob/master/metakernel/magics/README.md"
			}
		   ],
		   "mimetype": "text/x-octave",
		   "name": "scilab",
		   "version": "0.7.1"
		  }
		 },
		 "nbformat": 4,
		 "nbformat_minor": 0
}
