{
"cells": [
 {
		   "cell_type": "markdown",
	   "metadata": {},
	   "source": [
       "# Chapter 13: Network Parameters"
	   ]
	},
{
		   "cell_type": "markdown",
		   "metadata": {},
		   "source": [
			"## Example 13.10: Finding_ABCD_parameters_and_the_equivalent_T_network.sce"
		   ]
		  },
  {
"cell_type": "code",
	   "execution_count": null,
	   "metadata": {
	    "collapsed": true
	   },
	   "outputs": [],
"source": [
"clear;\n",
"clc;\n",
"z11=10;z22=20;z12=5;z21=5;\n",
"deltaz=(z11*z22)-(z12*z21);\n",
"A=z11/z12;\n",
"printf('(a)The ABCD parameters are:\n');\n",
"printf('  A = %f\n',A);\n",
"B=deltaz/z21;\n",
"printf('  B = %f ohms\n',B);\n",
"C=1/z12;\n",
"printf('  C = %f mho\n',C);\n",
"D=z22/z21;\n",
"printf('  D = %f\n\n',D);\n",
"Z3=z21;\n",
"Z1=z11-Z3;\n",
"Z2=z22-Z3;\n",
"printf('(b)The equivalent T-network:\n');\n",
"printf('  Z1 = %f ohms\n',Z1);\n",
"printf('  Z2 = %f ohms\n',Z2);\n",
"printf('  Z13 = %f ohms\n',Z3);\n",
"\n",
"\n",
""
   ]
   }
,
{
		   "cell_type": "markdown",
		   "metadata": {},
		   "source": [
			"## Example 13.11: Obtaining_the_parameters_Ya_and_Yb_and_Yc.sce"
		   ]
		  },
  {
"cell_type": "code",
	   "execution_count": null,
	   "metadata": {
	    "collapsed": true
	   },
	   "outputs": [],
"source": [
"clear;\n",
"clc;\n",
"V1=10;I1=2.5;I2a=-0.5; //values with terminals 3-4 short-circuited\n",
"V2=V1;I2b=1.5; //values with terminals 1-2 short circuited\n",
"Yb=-I2a/V1;\n",
"Ya=(I1/V1)-Yb;\n",
"Yc=(I2b/V2)-Yb;\n",
"printf('-Ya = %f mho\n',Ya);\n",
"printf('-Yb = %f mhp\n',Yb);\n",
"printf('-Yc = %f mho',Yc);"
   ]
   }
,
{
		   "cell_type": "markdown",
		   "metadata": {},
		   "source": [
			"## Example 13.12: Finding_the_equivalent_pi_network.sce"
		   ]
		  },
  {
"cell_type": "code",
	   "execution_count": null,
	   "metadata": {
	    "collapsed": true
	   },
	   "outputs": [],
"source": [
"clear;\n",
"clc;\n",
"Za=2;Zb=2.5;Zc=5;\n",
"Ya=1/Za;Yb=1/Zb;Yc=1/Zc;\n",
"Y1=(Ya*Yc)/(Ya+Yb+Yc);\n",
"Z1=1/Y1;\n",
"Y2=(Yb*Yc)/(Ya+Yb+Yc);\n",
"Z2=1/Y2;\n",
"Y3=(Ya*Yb)/(Ya+Yb+Yc);\n",
"Z3=1/Y3;\n",
"printf('The equivalent pi network is: \n');\n",
"printf(' Z1 = %f ohms\n',Z1);\n",
"printf(' Z2 = %f ohms\n',Z2);\n",
"printf(' Z3 = %f ohms\n',Z3);"
   ]
   }
,
{
		   "cell_type": "markdown",
		   "metadata": {},
		   "source": [
			"## Example 13.13: Obtaining_the_z_and_y_and_ABCD_parameters_and_the_equivalent_pi_network.sce"
		   ]
		  },
  {
"cell_type": "code",
	   "execution_count": null,
	   "metadata": {
	    "collapsed": true
	   },
	   "outputs": [],
"source": [
"clear;\n",
"clc;\n",
"y11=0.5;y12=-0.2;y21=-0.2;y22=1;\n",
"Y2=-y12;\n",
"Y1=y11-Y2;\n",
"Y3=y22-Y2;\n",
"deltay=(y11*y22)-(y12*y21);\n",
"z11=y22/deltay;\n",
"z22=y11/deltay;\n",
"z12=y12/deltay;\n",
"z21=z12;\n",
"A=-y22/y12;\n",
"B=-1/y12;\n",
"C=-deltay/y12;\n",
"D=-y11/y12;\n",
"printf('The y parameters are\n');\n",
"printf(' y11 = %f mho\n',y11);\n",
"printf(' y12 = %f mho\n',y12);\n",
"printf(' y21 = %f mho\n',y21);\n",
"printf(' y22 = %f mho\n\n',y22);\n",
"printf(' The z parameters are\n');\n",
"printf(' z11 = %f ohm\n',round(z11*1000)/1000);\n",
"printf(' z12 = %f ohm\n',round(z12*10^4)/10^4);\n",
"printf(' z21 = %f ohm\n',round(z21*10^4)/10^4);\n",
"printf(' z22 = %f ohm\n\n',round(z22*1000)/1000);\n",
"printf(' The ABCD parametrs are\n');\n",
"printf(' A = %f\n',A);\n",
"printf(' B = %f ohm\n',B);\n",
"printf(' C = %f mho\n',C);\n",
"printf(' D = %f\n\n',D);\n",
"printf(' The equivalent pi network is\n');\n",
"printf(' Y1 = %f mho\n',Y1);\n",
"printf(' Y2 = %f mho\n',Y2);\n",
"printf(' Y3 = %f mho',Y3);"
   ]
   }
,
{
		   "cell_type": "markdown",
		   "metadata": {},
		   "source": [
			"## Example 13.14: Finding_y_parameters.sce"
		   ]
		  },
  {
"cell_type": "code",
	   "execution_count": null,
	   "metadata": {
	    "collapsed": true
	   },
	   "outputs": [],
"source": [
"clear;\n",
"clc;\n",
"Y1=1;Y2=2;Y3=1;\n",
"y11=Y1+Y2;\n",
"y12=-Y2;\n",
"y21=y12;\n",
"y22=Y2+Y3;\n",
"Y11=y11+y11;\n",
"Y12=y12+y12;\n",
"Y21=Y12;\n",
"Y22=y22+y22;\n",
"printf('The y-parameters are:\n');\n",
"printf(' Y11 = %f mho\n',Y11);\n",
"printf(' Y12 = %f mho\n',Y12);\n",
"printf(' Y21 = %f mho\n',Y21);\n",
"printf(' Y22 = %f mho\n',Y22);"
   ]
   }
,
{
		   "cell_type": "markdown",
		   "metadata": {},
		   "source": [
			"## Example 13.15: Determining_the_ABCD_parameters_and_image_impedance.sce"
		   ]
		  },
  {
"cell_type": "code",
	   "execution_count": null,
	   "metadata": {
	    "collapsed": true
	   },
	   "outputs": [],
"source": [
"clear;\n",
"clc;\n",
"Za=10;Zb=10;Zc=5;\n",
"Ya=1/Za;Yb=1/Zb;Yc=1/Zc;\n",
"A=1+(Za*Yb);\n",
"printf('The ABCD parameters are:\n');\n",
"printf(' A = %f\n',A);\n",
"B=Za+Zb+(Za*Zb*Yc);\n",
"printf(' B = %f ohm\n',B);\n",
"C=Yc;\n",
"printf(' C = %f mho\n',C);\n",
"D=1+(Zb*Yc);\n",
"printf(' D = %f \n\n',D);\n",
"Zi1=sqrt((A*B)/(C*D));\n",
"printf(' Image impedances of the two port network are:\n');\n",
"printf(' Zi1 = %f ohms\n',round(Zi1*10)/10);\n",
"Zi2=sqrt((D*B)/(A*C));\n",
"printf(' Zi2 = %f ohms',round(Zi2*100)/100);"
   ]
   }
,
{
		   "cell_type": "markdown",
		   "metadata": {},
		   "source": [
			"## Example 13.17: Determining_the_open_and_short_circuit_impedance.sce"
		   ]
		  },
  {
"cell_type": "code",
	   "execution_count": null,
	   "metadata": {
	    "collapsed": true
	   },
	   "outputs": [],
"source": [
"clear;\n",
"clc;\n",
"R1=2;R2=1;R3=1;R4=2;\n",
"A=[R1+R2 R2 -R4;R2 R2+R4 R4;-R1 R1 R4+R3+R1];  \n",
"B=det(A);\n",
"C=[1 R2 -R1;0 R2+R1 R1;0 R4 R4+R3+R1];\n",
"D=det(C);\n",
"E=[1 -R1;0 R4+R3+R1];\n",
"F=[R2+R1 -R1;-R1 R4+R3+R1]; \n",
"G=[R4+R2 0 -R4;R1 1 R4;-R4 0 R4+R2];\n",
"H=[1 R1;0 R4+R3+R1];\n",
"I=[R2+R1 R1;R1 R4+R3+R1]; \n",
"printf('Z1s = %d/%d ohms\n',B,D);\n",
"printf(' Z1o = %d/%d ohms\n',det(F),det(E));\n",
"printf(' Z2s = %d/%d ohms\n',det(A),det(C));\n",
"printf(' Z2o = %d/%d ohms\n',det(I),det(H));"
   ]
   }
,
{
		   "cell_type": "markdown",
		   "metadata": {},
		   "source": [
			"## Example 13.18: Calculating_y_parameters.sce"
		   ]
		  },
  {
"cell_type": "code",
	   "execution_count": null,
	   "metadata": {
	    "collapsed": true
	   },
	   "outputs": [],
"source": [
"clear;\n",
"clc;\n",
"R1=2;R2=1;R3=2;R4=1;R5=2;\n",
"R3=R3/2;\n",
"z11=R2+R1;\n",
"z22=R3+R2;\n",
"z12=R2;\n",
"z21=R2;\n",
"Z11=z11+z11;\n",
"Z12=z12+z12;\n",
"Z21=z21+z21;\n",
"Z22=z22+z22;\n",
"deltaZ=(Z11*Z22)-(Z12*Z21);\n",
"y11=Z22/deltaZ;\n",
"y12=-Z12/deltaZ;\n",
"y21=y12;\n",
"y22=Z11/deltaZ;\n",
"printf('The y-parameters are:\n');\n",
"printf('-y11 = %f mho\n',y11);\n",
"printf('-y12 = %f mho\n',y12);\n",
"printf('-y21 = %f mho\n',y21);\n",
"printf('-y22 = %f mho\n',y22);"
   ]
   }
,
{
		   "cell_type": "markdown",
		   "metadata": {},
		   "source": [
			"## Example 13.19: Determining_the_image_impedances.sce"
		   ]
		  },
  {
"cell_type": "code",
	   "execution_count": null,
	   "metadata": {
	    "collapsed": true
	   },
	   "outputs": [],
"source": [
"clear;\n",
"clc;\n",
"R1=3;R2=2;R3=2;\n",
"A=(R3+R3+R2+R2)/(R1+R3+R1+R2);\n",
"Zi1=sqrt((R2*(R1+R3)+(R1*R2))/A);\n",
"printf('Zi1 = %f ohms\n',round(Zi1*10)/10);\n",
"Zi2=R2+(R3*(R1+Zi1)/(R3+R1+Zi1));\n",
"printf(' Zi2 = %f ohms\n',round(Zi2*10)/10);"
   ]
   }
,
{
		   "cell_type": "markdown",
		   "metadata": {},
		   "source": [
			"## Example 13.1: Determining_z_and_y_parameters.sce"
		   ]
		  },
  {
"cell_type": "code",
	   "execution_count": null,
	   "metadata": {
	    "collapsed": true
	   },
	   "outputs": [],
"source": [
"clear;\n",
"clc;\n",
"Z1=%i*20;Z2=%i*25;Z3=30;\n",
"Z11=Z1+Z3; //Z11=V1/I1 when I2=0\n",
"Z12=Z3; //Z12=V1/I2 when I1=0\n",
"Z21=Z3; //Z21=V2/I1 when I2=0\n",
"Z22=Z2+Z3; //Z22=V2/I2 when I1=0\n",
"printf('(a)The z-parameters are\n');\n",
"printf('  Z11 = %f + j(%f) ohms\n',real(Z11),imag(Z11));\n",
"printf('  Z12 = %f ohms\n',Z12);\n",
"printf('  Z21 = %f ohms\n',Z21);\n",
"printf('  Z22 = %f + j(%f) ohms\n',real(Z22),imag(Z22));\n",
"deltaz=(Z11*Z22)-(Z12*Z21);\n",
"y11=Z22/deltaz;\n",
"y12=-Z12/deltaz;\n",
"y21=-Z21/deltaz;\n",
"y22=Z11/deltaz;\n",
"\n",
"printf('(b)The y-parameters are\n');\n",
"printf('  y11 = %f + j(%f) mhos\n',real(y11),imag(y11));\n",
"printf('  y12 = %f + j(%f) mhos\n',real(y12),imag(y12));\n",
"printf('  y21 = %f + j(%f) mhos\n',real(y21),imag(y21));\n",
"printf('  y22 = %f + j(%f) mhos\n',real(y22),imag(y22));"
   ]
   }
,
{
		   "cell_type": "markdown",
		   "metadata": {},
		   "source": [
			"## Example 13.2: Obtaining_the_open_circuit_impedance_parameters.sce"
		   ]
		  },
  {
"cell_type": "code",
	   "execution_count": null,
	   "metadata": {
	    "collapsed": true
	   },
	   "outputs": [],
"source": [
"clear;\n",
"clc;\n",
"L=1;C=1;R=1;\n",
"printf('z11 = s + %d ohms\n',C);\n",
"printf(' z21 = %d ohms\n',C);\n",
"printf(' z22 = 1/s + %d ohms\n',C);\n",
"printf(' z12 = %d ohms\n',C);"
   ]
   }
,
{
		   "cell_type": "markdown",
		   "metadata": {},
		   "source": [
			"## Example 13.3: Finding_driving_point_and_transfer_impedances_and_loop_equations_and_voltage.sce"
		   ]
		  },
  {
"cell_type": "code",
	   "execution_count": null,
	   "metadata": {
	    "collapsed": true
	   },
	   "outputs": [],
"source": [
"clear;\n",
"clc;\n",
"Voc2=100;I1=10;V2=25;\n",
"Voc1=100;I2=20;V1=50;\n",
"z11=Voc1/I1;\n",
"z21=V2/I1;\n",
"z22=Voc2/I2;\n",
"z12=V1/I2;\n",
"printf('(a)The driving point impedances are:\n');\n",
"printf('  z11 = %f ohms\n',z11);\n",
"printf('  z22 = %f ohms\n\n',z22);\n",
"printf('  The transfer impedances are:\n');\n",
"printf('  z12 = %f ohms\n',z12);\n",
"printf('  z21 = %f ohms\n\n',z21);\n",
"printf('  The loop equations are:\n');\n",
"printf('  V1= %f*I1 + %f*I2\n',z11,z12);\n",
"printf('  V2= %f*I1+ %f*I2\n\n',z21,z22);\n",
"Rl=10;\n",
"a=[z11 z12 ; z21 (z22+Rl)];\n",
"b=[100 ; 0];\n",
"b=inv(a)*b;\n",
"I2=b(2,1);\n",
"Vl=-I2*Rl;\n",
"printf('(b)Voltage across resistor = %f volts',round(Vl*10)/10);"
   ]
   }
,
{
		   "cell_type": "markdown",
		   "metadata": {},
		   "source": [
			"## Example 13.4: Computing_y_parameters.sce"
		   ]
		  },
  {
"cell_type": "code",
	   "execution_count": null,
	   "metadata": {
	    "collapsed": true
	   },
	   "outputs": [],
"source": [
"clear;\n",
"clc;\n",
"z11=10;z22=12;z12=5;z21=5;\n",
"deltaz=(z11*z22)-(z12*z21);\n",
"y11=z22/deltaz;\n",
"printf('The y-parameters are:\n');\n",
"printf('-y11 = %f mho\n',round(y11*10^4)/10^4);\n",
"y22=z11/deltaz;\n",
"printf('-y22 = %f mho\n',round(y22*10^4)/10^4);\n",
"y12=-z12/deltaz;\n",
"printf('-y12 = %f mho\n',round(y12*10^3)/10^3);\n",
"y21=y12;\n",
"printf('-y21 = %f mho',round(y21*10^3)/10^3);"
   ]
   }
,
{
		   "cell_type": "markdown",
		   "metadata": {},
		   "source": [
			"## Example 13.5: Finding_the_z_parameters.sce"
		   ]
		  },
  {
"cell_type": "code",
	   "execution_count": null,
	   "metadata": {
	    "collapsed": true
	   },
	   "outputs": [],
"source": [
"clear;\n",
"clc;\n",
"Y1=1;Y2=1;Y3=2;V3=3;\n",
"Z1=1/Y1;Z2=1/Y2;Z3=1/Y3;\n",
"V1=1;I1=-1;\n",
"z11=V1/I1;\n",
"V2=1;I2=3;\n",
"z22=V2/I2;\n",
"z21=V2/I1;\n",
"printf('z11 = %f ohms\n',z11);\n",
"printf(' z22 = %f ohms\n',z22);\n",
"printf(' z21 = %f ohms\n',z21);\n",
"printf(' z11 = %f ohms\n',0);"
   ]
   }
,
{
		   "cell_type": "markdown",
		   "metadata": {},
		   "source": [
			"## Example 13.6: Computing_h_parameters.sce"
		   ]
		  },
  {
"cell_type": "code",
	   "execution_count": null,
	   "metadata": {
	    "collapsed": true
	   },
	   "outputs": [],
"source": [
"clear;\n",
"clc;\n",
"Vs1=25;Is1=1;Is2=2; //values with output terminal short circuited\n",
"Vo1=10;Vo2=50;Io2=2; //values with input terminal open circuited\n",
"Vs2=0;\n",
"h11=Vs1/Is1;\n",
"printf('The h-parameters are:\n');\n",
"printf('-h11 = %f ohms\n',h11); //with output terminals short circuited\n",
"h21=Is2/Is1;\n",
"printf('-h21 = %f\n',h21); //with input terminals open circuited\n",
"h12=Vo1/Vo2;\n",
"printf('-h12 = %f\n',h12); //with input terminals open circuited\n",
"h22=Io2/Vo2;\n",
"printf('-h22 = %f mho',h22); //with output terminals short circuited\n",
"//the difference in result of h22 is due to erroneous value in textbook.\n",
"disp('The difference in result of h22 is due to erroneous value in textbook')"
   ]
   }
,
{
		   "cell_type": "markdown",
		   "metadata": {},
		   "source": [
			"## Example 13.7: Calculating_transmission_parameters_and_loop_equations.sce"
		   ]
		  },
  {
"cell_type": "code",
	   "execution_count": null,
	   "metadata": {
	    "collapsed": true
	   },
	   "outputs": [],
"source": [
"clear;\n",
"clc;\n",
"z11=40;z22=30;z12=20;z21=20;\n",
"deltaz=(z11*z22)-(z12*z21);\n",
"A=z11/z12;\n",
"printf('The transmission parameters are:\n');\n",
"printf('  A = %f\n',A);\n",
"B=deltaz/z21;\n",
"printf('  B = %f ohms\n',B);\n",
"C=1/z21;\n",
"printf('  C = %f mho\n',C);\n",
"D=z22/z21;\n",
"printf('  D = %f\n',D);\n",
"printf(' The network equations using z-parameter are\n');\n",
"printf('  V1 = %fI1 + %fI2\n',z11,z12);\n",
"printf('  V2 = %fI1 + %fI2\n',z21,z22);\n",
"printf(' The network equations using ABCD parameter are\n');\n",
"printf('  V1 = %fV2 - %fI2\n',A,B);\n",
"printf('  I1 = %fV2 - %fI2\n',C,D);"
   ]
   }
,
{
		   "cell_type": "markdown",
		   "metadata": {},
		   "source": [
			"## Example 13.8: Obtaining_the_transmission_parameters.sce"
		   ]
		  },
  {
"cell_type": "code",
	   "execution_count": null,
	   "metadata": {
	    "collapsed": true
	   },
	   "outputs": [],
"source": [
"clear;\n",
"clc;\n",
"V1=1;R1=1;R2=2;R3=1;R4=2;I2=0;\n",
"//I2=0 because port 2-2' has been open circuited\n",
"a=[R1+R2 -R2;-2 5];\n",
"b=[1;0];\n",
"b=inv(a)*b;\n",
"I1=b(1,1);\n",
"I3=b(2,1);\n",
"V2=I3*R4;\n",
"A=V1/V2;\n",
"C=I1/V2;\n",
"V21=0; //because port 2-2' has been short circuited\n",
"c=[3 -2;-2 3];\n",
"d=[1;0];\n",
"d=inv(c)*d;\n",
"I11=d(1,1);\n",
"I21=d(2,1);\n",
"B=V1/I21;\n",
"D=I11/I21;\n",
"R=(A*D)-(B*C);\n",
"printf('The transmission parameters are:\n');\n",
"printf('  A = %f\n',A);\n",
"printf('  B = %f ohms\n',B);\n",
"printf('  C = %f mhos\n',C);\n",
"printf('  D = %f\n\n',D);\n",
"printf(' AD-BC = %f . Hence the circuit is reciprocal.',R);"
   ]
   }
,
{
		   "cell_type": "markdown",
		   "metadata": {},
		   "source": [
			"## Example 13.9: Calculating_input_impedance.sce"
		   ]
		  },
  {
"cell_type": "code",
	   "execution_count": null,
	   "metadata": {
	    "collapsed": true
	   },
	   "outputs": [],
"source": [
"clear;\n",
"clc;\n",
"Rl=3;z11=5;z12=2;z21=2;z22=1;\n",
"Zi=z11-(z12/z21);\n",
"printf('Input impedance = %f ohms',Zi);"
   ]
   }
],
"metadata": {
		  "kernelspec": {
		   "display_name": "Scilab",
		   "language": "scilab",
		   "name": "scilab"
		  },
		  "language_info": {
		   "file_extension": ".sce",
		   "help_links": [
			{
			 "text": "MetaKernel Magics",
			 "url": "https://github.com/calysto/metakernel/blob/master/metakernel/magics/README.md"
			}
		   ],
		   "mimetype": "text/x-octave",
		   "name": "scilab",
		   "version": "0.7.1"
		  }
		 },
		 "nbformat": 4,
		 "nbformat_minor": 0
}
