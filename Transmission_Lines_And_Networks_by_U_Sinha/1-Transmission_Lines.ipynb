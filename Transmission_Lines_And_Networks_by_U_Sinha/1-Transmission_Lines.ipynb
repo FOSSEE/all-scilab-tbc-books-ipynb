{
"cells": [
 {
		   "cell_type": "markdown",
	   "metadata": {},
	   "source": [
       "# Chapter 1: Transmission Lines"
	   ]
	},
{
		   "cell_type": "markdown",
		   "metadata": {},
		   "source": [
			"## Example 1.10: Calculating_characteristic_impedance.sce"
		   ]
		  },
  {
"cell_type": "code",
	   "execution_count": null,
	   "metadata": {
	    "collapsed": true
	   },
	   "outputs": [],
"source": [
"clc;\n",
"R=20;L=10*(10^-3);ins=0.1*(10^6);C=.1*(10^-6);w=5000; //ins=insulation resistance\n",
"G=1/ins;\n",
"Z=R+(%i*w*L);\n",
"Y=G+%i*w*C;\n",
"Zo=sqrt(Z/Y);\n",
"C=real(Zo);\n",
"D=imag(Zo);\n",
"printf('Input impedance Zo = %f /_%f ohms\n',(abs(Zo)),round(((atan(imag(Zo),real(Zo))*180/%pi))*10)/10);\n",
"//the difference in result of Zo is due to erroneous value in textbook.\n",
"disp('The difference in result of Zo is due to erroneous value in textbook')"
   ]
   }
,
{
		   "cell_type": "markdown",
		   "metadata": {},
		   "source": [
			"## Example 1.11: Calculating_the_voltage_across_load_in_terms_of_the_sending_end_voltage.sce"
		   ]
		  },
  {
"cell_type": "code",
	   "execution_count": null,
	   "metadata": {
	    "collapsed": true
	   },
	   "outputs": [],
"source": [
"clear;\n",
"clc;\n",
"x=1;l=12;V=0.1;\n",
"V1=1-V; \n",
"//V1=ratio of voltage at 1km from the sending end to the voltage at sending end\n",
"P=-log(V1);\n",
"V2=exp(-P*l);\n",
"x=V2*100;x1=round(x*100)/100;\n",
"//x=ratio of voltage across the load impedance to the voltage at sending end\n",
"printf('Voltage across the load impedance is %f percentage of the sending end voltage',x1);"
   ]
   }
,
{
		   "cell_type": "markdown",
		   "metadata": {},
		   "source": [
			"## Example 1.12: Calculating_dc_resistance_and_inductance_and_capacitance_and_ac_resistance.sce"
		   ]
		  },
  {
"cell_type": "code",
	   "execution_count": null,
	   "metadata": {
	    "collapsed": true
	   },
	   "outputs": [],
"source": [
"clear;\n",
"clc;\n",
"a=.1;d=30;Ur=1;s=5.57*(10^7);e=1;f=30000;\n",
"//ur= relative magnetic permeability of conductor material,\n",
"//s=conductivity of material\n",
"//e=relative dielectric constant of the material\n",
"L=(Ur+9.21*log10(d/a))*10^-7;\n",
"printf('-Inductance L = %f mH/km\n',L*10^3);\n",
"C=12.07*e/(log10(d/a));\n",
"printf('-Capacitance C = %f micromicrofarads/km\n',round(C*100)/100);\n",
"Rdc=2/(%pi*a*a*10^-2*10^-2*s);\n",
"Rdc1=Rdc*10^3;\n",
"printf('-D.C.resistance of line Rdc = %f ohms/km\n',round(Rdc1*100)/100);\n",
"Uo=4*%pi*10^-7;\n",
"//Uo=absolute permeability\n",
"Rac=(1/(a*10^-2))*(sqrt(f*Uo/(%pi*s)));\n",
"Rac1=Rac*10^3;\n",
"printf('-A.C.resistance of line = %f ohms/km',round(Rac1*100)/100);\n",
"//the difference in result of innductance and capacitance is due to erroneous value in textbook.\n",
"disp('The difference in result of inductance and capacitance is due to erroneous value in textbook')\n",
"\n",
"\n",
""
   ]
   }
,
{
		   "cell_type": "markdown",
		   "metadata": {},
		   "source": [
			"## Example 1.13: EX1_13.sce"
		   ]
		  },
  {
"cell_type": "code",
	   "execution_count": null,
	   "metadata": {
	    "collapsed": true
	   },
	   "outputs": [],
"source": [
"clear;\n",
"clc;\n",
"a=0.2;b=0.8;c=1;\n",
"a1=a*10^-2;b1=b*10^-2;c1=c*10^-2;s=5.57*(10^7);e=2.5;f=100*(10^3);\n",
"//e=relative dielectric constant of the material\n",
"//s=conductivity of copper\n",
"eo=(1/(36*%pi))*10^-9;\n",
"Uo=4*%pi*10^-7;\n",
"//Uo=absolute permeability\n",
"Llf=(((Uo/(2*%pi))*log(b1/a1))+((Uo/(8*%pi))*((((4*c1^4)/(((c1^2)-(b1^2))^2))*log(c1/b1))-((2*c1^2)/((c1^2)-(b1^2))))))*10^3;\n",
"printf('-Low frequency inductance = %f mH/km\n',round(Llf*(10^3)*10000)/10000);\n",
"Lhf=((Uo/(2*%pi))*log(b1/a1))*10^3;\n",
"printf('-High frequency inductance = %f mH/km\n',round(Lhf*(10^3)*1000)/1000);\n",
"C=(2*%pi*eo*e/(log(b1/a1)))*10^3;\n",
"printf('-Capacitance = %f microfarads/km\n',round(C*(10^6)*10000)/10000);\n",
"Rdc=((1/(%pi*s))*((1/(a1^2))+(1/((c1^2)-(b1^2)))))*10^3;\n",
"printf('-D.c.resistance = %f ohms/km\n',round(Rdc*1000)/1000);\n",
"Rac=((sqrt(f*Uo/(4*%pi*s)))*((1/a1)+(1/b1)))*10^3;\n",
"printf('-A.c.resistance = %f ohms/km',round(Rac*100)/100);\n",
""
   ]
   }
,
{
		   "cell_type": "markdown",
		   "metadata": {},
		   "source": [
			"## Example 1.14: Calculating_line_attenuation_and_velocity_of_propagation.sce"
		   ]
		  },
  {
"cell_type": "code",
	   "execution_count": null,
	   "metadata": {
	    "collapsed": true
	   },
	   "outputs": [],
"source": [
"clear;\n",
"clc;\n",
"Vd=10;l=2;b=20;f=796;\n",
"w=2*%pi*f;\n",
"//Vd=voltage drop(in percentage),b=phase change(in degrees)\n",
"V=(100-Vd)/100; //V=Vr/Vs;\n",
"a=(20*log10(1/V))/l;\n",
"printf('(i)Attenuation = %f db/km\n',round(a*1000)/1000);\n",
"b1=(b/l)*(%pi/180); //b1=phase constant/km(in radians)\n",
"Vp=w/b1;\n",
"printf('(ii)The velocity of propagation = %d km/sec',Vp);"
   ]
   }
,
{
		   "cell_type": "markdown",
		   "metadata": {},
		   "source": [
			"## Example 1.15: Calculating_sending_and_receiving_end_voltages_and_currents_and_power.sce"
		   ]
		  },
  {
"cell_type": "code",
	   "execution_count": null,
	   "metadata": {
	    "collapsed": true
	   },
	   "outputs": [],
"source": [
"clear;\n",
"clc;\n",
"l=200;Vg=10;Zg=500;Zs=683-(%i*138);P=0.0074+(%i*0.0356);Zo=Zs;\n",
"Is=Vg/(Zg+Zs);\n",
"modIs=abs(Is);\n",
"printf('-Sending end current = %f mA\n',round(modIs*(10^3)*100)/100);\n",
"Vs=Is*Zs;\n",
"modVs=abs(Vs);\n",
"printf('-Sending end voltge = %f V r.m.s.\n',round(modVs*100)/100);\n",
"Rs=real(Zs);\n",
"Ps=((modIs)^2)*Rs;\n",
"printf('-Sending end power = %f mW\n',round(Ps*(10^3)*100)/100);\n",
"Vr=modVs*exp(-P*l);\n",
"A=imag(-P*l);\n",
"printf('-Receiving end voltage = %f /_ %f V\n',round(abs(Vr)*100)/100,A);\n",
"Zr=Zs;\n",
"Ir=Vr/Zr;\n",
"modIr=abs(Ir);\n",
"printf('-Receiving end current = %f mA\n',round(modIr*(10^3)*100)/100);\n",
"Rr=Rs;\n",
"Pr=((modIr)^2)*Rr;\n",
"printf('-Receiving end power = %f mW',fix(Pr*(10^3)*100)/100);"
   ]
   }
,
{
		   "cell_type": "markdown",
		   "metadata": {},
		   "source": [
			"## Example 1.1: EX1_1.sce"
		   ]
		  },
  {
"cell_type": "code",
	   "execution_count": null,
	   "metadata": {
	    "collapsed": true
	   },
	   "outputs": [],
"source": [
"clear;\n",
"clc;\n",
"Zo=710* exp(%i*(-%pi/(180/16)));f=1000;\n",
"w=2*%pi*f;\n",
"a=.01;b=.035;\n",
"P=a+%i*b;\n",
"Z=Zo*P;\n",
"R=real(Z);\n",
"r=round(R*100)/100;\n",
"printf('-Resistance R = %f ohms/km\n',r);\n",
"L=((imag(Z))/w)*10^3;\n",
"l=round(L*100)/100;\n",
"printf('-Inductance L = %f mH/km\n',l);\n",
"Y=P/Zo;\n",
"G=real(Y);\n",
"printf('-Conductance G = %f mhos/km\n',-G);\n",
"C=((imag(Y))/w)*10^6;\n",
"c=round(C*1000)/1000;\n",
"printf('-Capacitance C = %f microfarads/km\n',c);\n",
"Vp=round(w*1000/(b*10^5))/1000;\n",
"printf('-Velocity of propagation Vp = %f^* 10^5 km/sec',Vp);"
   ]
   }
,
{
		   "cell_type": "markdown",
		   "metadata": {},
		   "source": [
			"## Example 1.2: Calculating_the_values_of_the_line_constants.sce"
		   ]
		  },
  {
"cell_type": "code",
	   "execution_count": null,
	   "metadata": {
	    "collapsed": true
	   },
	   "outputs": [],
"source": [
"clear;\n",
"clc;\n",
"Zo=2039.6;f=800; //value of Zo as taken in solution\n",
"P=0.054* exp(%i*(%pi/(180/87.9)));\n",
"w=2*%pi*f;\n",
"Z=Zo*P;\n",
"R=real(Z);\n",
"printf('-Resistance R = %f ohms/km\n',R);\n",
"L=(imag(Z))/w;\n",
"printf('-Inductance L = %f mH/km\n',L*(10^3));\n",
"Y=P/Zo;\n",
"G=real(Y);\n",
"printf('-Conductance G = %f micromhos/km\n',G*(10^6));\n",
"C=((imag(Y))/w)*(10^6);c=round(C*10000)/10000\n",
"printf('-Capacitance C = %f microfarads/km\n',c);"
   ]
   }
,
{
		   "cell_type": "markdown",
		   "metadata": {},
		   "source": [
			"## Example 1.3: Determining_Zo_and_a_and_b.sce"
		   ]
		  },
  {
"cell_type": "code",
	   "execution_count": null,
	   "metadata": {
	    "collapsed": true
	   },
	   "outputs": [],
"source": [
"clear;\n",
"clc;\n",
"R=10;L=.0037;f=1000;G=.4*(10^-6);C=.0083*(10^-6);\n",
"w=2*%pi*f;\n",
"Z=R+(%i*w*L);\n",
"Y=G+(%i*w*C);\n",
"Zo=sqrt(Z/Y);\n",
"C=round(real(Zo));\n",
"D=round(imag(Zo));\n",
"printf('-Zo = %f + j(%f) ohms\n',C,D);\n",
"P=sqrt(Z*Y);\n",
"a=real(P);\n",
"a1=round(a*10000)/10000;\n",
"printf('-Attenuation constant a = %f neper/km\n',a1);\n",
"b=imag(P);\n",
"b1=round(b*10000)/10000;\n",
"printf('-Phase constant b = %f radians/km',b1);"
   ]
   }
,
{
		   "cell_type": "markdown",
		   "metadata": {},
		   "source": [
			"## Example 1.4: Calculating_terminating_impedance_and_attenuation_and_phase_constant.sce"
		   ]
		  },
  {
"cell_type": "code",
	   "execution_count": null,
	   "metadata": {
	    "collapsed": true
	   },
	   "outputs": [],
"source": [
"clear;\n",
"clc;\n",
"f=1000;R=6;L=.0022;G=.25*(10^-6);C=.005*(10^-6);l=100; \n",
"//value of C as taken in solution\n",
"w=2*%pi*f;\n",
"Z=R+(%i*w*L);\n",
"Y=G+(%i*w*C);\n",
"Zo=sqrt(Z/Y);\n",
"C=real(Zo);\n",
"D=imag(Zo);\n",
"printf('(i)Terminating impedance for which there will be no reflection is Zo = %f /_%f ohms\n',fix(abs(Zo)),round(((atan(imag(Zo),real(Zo))*180/%pi))*10)/10);\n",
"P=sqrt(Z*Y);\n",
"a=real(P);\n",
"b=imag(P);\n",
"a1=a*l*8.66;\n",
"printf('(ii)(a)Attenuation suffered while travelling = %f db\n',a1);\n",
"Vp=(w/b)*(10^-5);v=round(Vp*100)/100;\n",
"printf('(ii)(b)Phase velocity Vp = %f * 10^5 km/sec\n',v);\n",
""
   ]
   }
,
{
		   "cell_type": "markdown",
		   "metadata": {},
		   "source": [
			"## Example 1.5: EX1_5.sce"
		   ]
		  },
  {
"cell_type": "code",
	   "execution_count": null,
	   "metadata": {
	    "collapsed": true
	   },
	   "outputs": [],
"source": [
"clear;\n",
"clc;\n",
"f=1000;R=10.4;L=.0037;G=.8*(10^-6);C=.00835*(10^-6);l=1000;Vs=1;\n",
"w=2*%pi*f;\n",
"Z=R+round((%i*w*L));\n",
"Y=G+(%i*w*C);\n",
"Zo=sqrt(Z/Y);\n",
"printf('-Characteristic impedance is Zo = %f /_%f ohms\n',fix(abs(Zo)),round(((atan(imag(Zo),real(Zo))*180/%pi))));\n",
"P=sqrt(Z*Y);\n",
"printf('-Propagation constant P = %f + j(%f)\n',fix(real(P)*10^4)/10^4,round(imag(P)*10^4)/10^4);\n",
"b=imag(P);\n",
"\n",
"Is=Vs/Zo;Vp=(w/b)*(10^-5);v=round(Vp*100)/100;\n",
"printf('-Phase velocity Vp = %f * 10^5 km/sec\n',v);\n",
"Ir=Is*exp(-P*l);\n",
"P=((abs(Ir))^2)*real(Zo);\n",
"printf('-Power delivered at receiving end = %f micro-watt',P*(10^6));\n",
"\n",
"\n",
""
   ]
   }
,
{
		   "cell_type": "markdown",
		   "metadata": {},
		   "source": [
			"## Example 1.6: Calculating_characteristic_impedance_and_propagation_constant.sce"
		   ]
		  },
  {
"cell_type": "code",
	   "execution_count": null,
	   "metadata": {
	    "collapsed": true
	   },
	   "outputs": [],
"source": [
"clear;\n",
"clc;\n",
"f=5000/(2*%pi);R=196;C=.09*(10^-6);L=.71*(10^-3);G=0;\n",
"//value of C as taken in solution\n",
"w=2*%pi*f;\n",
"Z=R+(%i*w*L);\n",
"Y=G+(%i*w*C);\n",
"Zo=sqrt(Z/Y);\n",
"printf('-Characteristic impedance is Zo = %f /_%f ohms\n',fix(abs(Zo)),round(((atan(imag(Zo),real(Zo))*180/%pi))*10)/10);\n",
"P=sqrt(Z*Y);F=fix(abs(P)*100)/100;\n",
"printf('-Propagation constant P =  %f /_%f ohms\n',F,((atan(imag(P),real(P))*180/%pi))); \n",
"//the difference in result  is due to erroneous value in textbook.\n",
"disp('The difference in result is due to erroneous value in textbook')"
   ]
   }
,
{
		   "cell_type": "markdown",
		   "metadata": {},
		   "source": [
			"## Example 1.7: Calculating_Zo_and_a_and_b_and_Vp.sce"
		   ]
		  },
  {
"cell_type": "code",
	   "execution_count": null,
	   "metadata": {
	    "collapsed": true
	   },
	   "outputs": [],
"source": [
"clc;\n",
"R=10.4;L=3.666*(10^-3);G=.08*(10^-6);C=.00835*(10^-6);w=5000;\n",
"//value of L and C as taken in solution\n",
"Z=R+(%i*w*L);\n",
"Y=G+%i*w*C;\n",
"Zo=sqrt(Z/Y);\n",
"printf('-Zo = %f /_%f ohms\n',fix(abs(Zo)),round(((atan(imag(Zo),real(Zo))*180/%pi))*10)/10);\n",
"P=sqrt(Z*Y);\n",
"a=real(P);\n",
"b=imag(P);\n",
"printf('-Attenuation constant a = %f neper/km\n',a);\n",
"printf('-Phase constant b = %f radians/km\n',b);\n",
"Vp=(w/b)*(10^-5);v=round(Vp*1000)/1000;\n",
"printf('(ii)(b)Phase velocity Vp = %f * 10^5 km/sec\n',v);\n",
"//the difference in result of Zo is due to erroneous value in textbook.\n",
"disp('The difference in result of Zo is due to erroneous value in textbook')"
   ]
   }
,
{
		   "cell_type": "markdown",
		   "metadata": {},
		   "source": [
			"## Example 1.8: Calculating_characteristic_impedance.sce"
		   ]
		  },
  {
"cell_type": "code",
	   "execution_count": null,
	   "metadata": {
	    "collapsed": true
	   },
	   "outputs": [],
"source": [
"clear;\n",
"clc;\n",
"R=65;L=1.6*(10^-3);C=.1*(10^-6);G=2.25*(10^-6);f=800;\n",
"w=5000;\n",
"Z=R+round(%i*w*L);\n",
"Y=G+%i*w*C;\n",
"Zo=sqrt(Z/Y);\n",
"printf('-Characteristic impedance is Zo = %f /_%f ohms\n',(abs(Zo)),(((atan(imag(Zo),real(Zo))*180/%pi))));"
   ]
   }
,
{
		   "cell_type": "markdown",
		   "metadata": {},
		   "source": [
			"## Example 1.9: Calculating_phase_velocity_and_attenuation.sce"
		   ]
		  },
  {
"cell_type": "code",
	   "execution_count": null,
	   "metadata": {
	    "collapsed": true
	   },
	   "outputs": [],
"source": [
"clear;\n",
"clc;\n",
"R=6;L=2*(10^-3);G=.5*(10^-6);C=.005*(10^-6);f=1000;l=100;\n",
"w=2*%pi*f;\n",
"Z=R+(%i*w*L);\n",
"Y=G+%i*w*C;\n",
"Zo=sqrt(Z/Y);\n",
"P=sqrt(Z*Y);\n",
"a=real(P);\n",
"b=imag(P);\n",
"a1=fix(a*8.66*l*10^3)/10^3;\n",
"printf('-Attenuation suffered while travelling = %f db\n',a1);\n",
"Vp=fix(w/b)/10^3;\n",
"printf('-Phase velocity Vp = %f km/sec',Vp );"
   ]
   }
],
"metadata": {
		  "kernelspec": {
		   "display_name": "Scilab",
		   "language": "scilab",
		   "name": "scilab"
		  },
		  "language_info": {
		   "file_extension": ".sce",
		   "help_links": [
			{
			 "text": "MetaKernel Magics",
			 "url": "https://github.com/calysto/metakernel/blob/master/metakernel/magics/README.md"
			}
		   ],
		   "mimetype": "text/x-octave",
		   "name": "scilab",
		   "version": "0.7.1"
		  }
		 },
		 "nbformat": 4,
		 "nbformat_minor": 0
}
