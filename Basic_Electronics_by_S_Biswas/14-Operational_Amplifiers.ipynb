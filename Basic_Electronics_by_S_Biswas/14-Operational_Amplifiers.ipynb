{
"cells": [
 {
		   "cell_type": "markdown",
	   "metadata": {},
	   "source": [
       "# Chapter 14: Operational Amplifiers"
	   ]
	},
{
		   "cell_type": "markdown",
		   "metadata": {},
		   "source": [
			"## Example 14.10: EX14_10.sce"
		   ]
		  },
  {
"cell_type": "code",
	   "execution_count": null,
	   "metadata": {
	    "collapsed": true
	   },
	   "outputs": [],
"source": [
"//Tested on Windows 7 Ultimate 32-bit\n",
"//Chapter 14 Operational Amplifiers Pg no. 432\n",
"clear;\n",
"clc;\n",
"\n",
"//Given\n",
"\n",
"Av_ol=175000;//open loop voltage gain\n",
"Zin=1.5D6;//input impedance in ohms\n",
"Zout=70;//output impedance in ohms\n",
"\n",
"//Solution\n",
"\n",
"Zi_vf=(1+Av_ol)*Zin;//input impedance of voltage follower in ohms\n",
"Zo_vf=Zout/(1+Av_ol);//output impedance of voltage follower in ohms\n",
"printf('Input impedance (Zi)VF = %.f Mega-ohms\n ',Zi_vf/10^6);\n",
"printf('Output impedance (Zo)VF = %.4f ohms\n ',Zo_vf);"
   ]
   }
,
{
		   "cell_type": "markdown",
		   "metadata": {},
		   "source": [
			"## Example 14.11: EX14_11.sce"
		   ]
		  },
  {
"cell_type": "code",
	   "execution_count": null,
	   "metadata": {
	    "collapsed": true
	   },
	   "outputs": [],
"source": [
"//Tested on Windows 7 Ultimate 32-bit\n",
"//Chapter 14 Operational Amplifiers Pg no. 435 and 436\n",
"clear;\n",
"clc;\n",
"\n",
"//Given\n",
"//Figure 14.21\n",
"\n",
"R=12D3;//resistances R1,R2,R3 in RC network in ohms\n",
"C=0.001D-6;//capacitances C1,C2,C3 in RC network in ohms\n",
"A=29;//gain for oscillator operation\n",
"\n",
"//Solution\n",
"\n",
"fr=1/(2*%pi*R*C*sqrt(6));//frequency of oscillations in hertz\n",
"Rf=A*R;//feedback resistance in ohms\n",
"printf('Frequency of oscillations fr = %.2f kHz\n ',fr/10^3);\n",
"printf('Feedback resistance Rf = %.f kilo-ohms\n ',Rf/10^3);"
   ]
   }
,
{
		   "cell_type": "markdown",
		   "metadata": {},
		   "source": [
			"## Example 14.13: Calculation_of_output_voltage_for_given_conditions_in_a_summer_circuit.sce"
		   ]
		  },
  {
"cell_type": "code",
	   "execution_count": null,
	   "metadata": {
	    "collapsed": true
	   },
	   "outputs": [],
"source": [
"//Tested on Windows 7 Ultimate 32-bit\n",
"//Chapter 14 Operational Amplifiers Pg no. 442\n",
"clear;\n",
"clc;\n",
"\n",
"//Given\n",
"//Figure 14.32\n",
"\n",
"V1=2;V2=1;V3=0.5;V4=0.2;//input voltages in volts\n",
"R=20D3;//input resistances R1,R2,R3,R4 in ohms\n",
"R5=20D3;//feedback resistance in ohms\n",
"\n",
"//Solution\n",
"\n",
"A=-R5/R;//gain for each input\n",
"disp('(a)');\n",
"Vo=A*(V1+V2+V3+V4);//output voltage in volts\n",
"printf('Normal output voltage Vo = %.1f Volts',Vo);\n",
"disp('(b)');\n",
"Vo=A*(V1+V2+V4);//output voltage in volts\n",
"printf('For R3 open, output voltage Vo = %.1f Volts',Vo);\n",
"disp('(c)');\n",
"printf('If resistor R5 opens output becomes -Vsat.')"
   ]
   }
,
{
		   "cell_type": "markdown",
		   "metadata": {},
		   "source": [
			"## Example 14.14: Calculation_of_output_voltage_for_given_conditions_in_a_summer_circuit.sce"
		   ]
		  },
  {
"cell_type": "code",
	   "execution_count": null,
	   "metadata": {
	    "collapsed": true
	   },
	   "outputs": [],
"source": [
"//Tested on Windows 7 Ultimate 32-bit\n",
"//Chapter 14 Operational Amplifiers Pg no. 442 and 443\n",
"clear;\n",
"clc;\n",
"\n",
"//Given\n",
"//Figure 14.33\n",
"\n",
"V1=2;V2=1;V3=5.5;V4=2.2;V5=1.1//input voltages in volts\n",
"R=50D3;//input resistances R1,R2,R3,R4 in ohms\n",
"R5=10D3;//feedback resistance in ohms\n",
"\n",
"//Solution\n",
"\n",
"A=-R5/R;//gain for each input\n",
"disp('(a)');\n",
"Vo=A*(V1+V2+V3+V4+V5);//output voltage in volts\n",
"printf('Normal output voltage Vo = %.2f Volts',Vo);\n",
"disp('(b)');\n",
"Vo=A*(V1+V2+V4+V5);//output voltage in volts\n",
"printf('For R3 open, output voltage Vo = %.2f Volts',Vo);"
   ]
   }
,
{
		   "cell_type": "markdown",
		   "metadata": {},
		   "source": [
			"## Example 14.1: Calculation_of_output_voltage_for_a_balanced_differential_amplifier.sce"
		   ]
		  },
  {
"cell_type": "code",
	   "execution_count": null,
	   "metadata": {
	    "collapsed": true
	   },
	   "outputs": [],
"source": [
"//Tested on Windows 7 Ultimate 32-bit\n",
"//Chapter 14 Operational Amplifiers Pg no. 418\n",
"clear;\n",
"clc;\n",
"\n",
"//Given\n",
"\n",
"vICM1=0;//input common mode vOltage in volts\n",
"vOCM1=5.4;//output common mode vOltage in volts\n",
"vICM2=1.05;//input common mode vOltage in volts\n",
"vOCM2=5.0;//output common mode vOltage in volts\n",
"vO2=5.4;//vOltage at collector of transistor Q2 in volts\n",
"\n",
"//Solution\n",
"\n",
"disp('vOCM=5.4 Volts');\n",
"vO1=2*vOCM1-vO2;//vOltage at collector of transistor Q1 in volts\n",
"printf('Voltage at collector of transistor Q1 vO1 = %.1f volts\n ',vO1);\n",
"\n",
"disp('vOCM=5.0 Volts');\n",
"vO1=2*vOCM2-vO2;//vOltage at collector of transistor Q1 in volts\n",
"printf('Voltage at collector of transistor Q1 vO1 = %.1f volts',vO1);\n",
"\n",
"//calculation for vOCM=5 Volts not done in textbook"
   ]
   }
,
{
		   "cell_type": "markdown",
		   "metadata": {},
		   "source": [
			"## Example 14.2: EX14_2.sce"
		   ]
		  },
  {
"cell_type": "code",
	   "execution_count": null,
	   "metadata": {
	    "collapsed": true
	   },
	   "outputs": [],
"source": [
"//Tested on Windows 7 Ultimate 32-bit\n",
"//Chapter 14 Operational Amplifiers Pg no. 418\n",
"clear;\n",
"clc;\n",
"\n",
"//Given\n",
"\n",
"vI1=1.15;//voltage at base of transistor Q1 in volts\n",
"vI2=0.95;//voltage at base of transistor Q2 in volts\n",
"vO1=2;//voltage at collector of transistor Q1 in volts\n",
"vO2=8;//voltage at collector of transistor Q2 in volts\n",
"\n",
"//Solution\n",
"\n",
"vICM=(vI1+vI2)/2;//input common mode voltage in volts\n",
"vOCM=(vO1+vO2)/2;//output common mode voltage in volts\n",
"printf('Input common mode voltage vICM = %.2f Volts\n ',vICM);\n",
"printf('Output common mode voltage vOCM = %.1f Volts',vOCM);"
   ]
   }
,
{
		   "cell_type": "markdown",
		   "metadata": {},
		   "source": [
			"## Example 14.3: EX14_3.sce"
		   ]
		  },
  {
"cell_type": "code",
	   "execution_count": null,
	   "metadata": {
	    "collapsed": true
	   },
	   "outputs": [],
"source": [
"//Tested on Windows 7 Ultimate 32-bit\n",
"//Chapter 14 Operational Amplifiers Pg no. 418 and 419\n",
"clear;\n",
"clc;\n",
"\n",
"//Given\n",
"\n",
"vI1=0;//voltage at base of transistor Q1 in volts\n",
"vI2p=5D-3;//peak voltage at base of transistor Q2 in volts\n",
"vI2w=0.2;//frequency of vI2 in hertz\n",
"vICM_a=0;//input common mode voltage in volts\n",
"vOCM_a=5;//output common mode voltage in volts\n",
"vICM_b=-2D-3;//input common mode voltage in volts\n",
"vOCM_b=5.01;//output common mode voltage in volts\n",
"vICM_c=2D-3;//input common mode voltage in volts\n",
"vOCM_c=4.99;//output common mode voltage in volts\n",
"\n",
"//Solution\n",
"\n",
"dvICMp=vI2p/2;//peak input common mode voltage in volts\n",
"dvICMw=vI2w;//input common mode frequency in hertz\n",
"printf('vICM = %.1f sin(%.1f pi t) mV\n ',dvICMp*10^3,dvICMw*2);\n",
"dvOCMp=(vOCM_b-vOCM_a)/vICM_b*dvICMp;//peak output common mode voltage in volts\n",
"dvOCMw=dvICMw;//output common mode frequency in hertz\n",
"printf('vOCM =5 V %.f sin(%.1f pi t) mV',dvOCMp*10^3,dvOCMw*2);\n",
"\n",
"//error in calculation of vOCM in textbook"
   ]
   }
,
{
		   "cell_type": "markdown",
		   "metadata": {},
		   "source": [
			"## Example 14.4: Calculation_of_common_mode_gain_for_a_balanced_differential_amplifier.sce"
		   ]
		  },
  {
"cell_type": "code",
	   "execution_count": null,
	   "metadata": {
	    "collapsed": true
	   },
	   "outputs": [],
"source": [
"//Tested on Windows 7 Ultimate 32-bit\n",
"//Chapter 14 Operational Amplifiers Pg no. 418\n",
"clear;\n",
"clc;\n",
"\n",
"//Given\n",
"\n",
"vI1=[-3.3 1.9];//voltage at base of transistor Q1 at instants T1 and T2 in volts\n",
"vI2=[-3.7 1.1];//voltage at base of transistor Q2 at instants T1 and T2 in volts\n",
"vO1=[4.3 2.7];//voltage at collector of transistor Q1 at instants T1 and T2 in volts\n",
"vO2=[4.5 3.1];//voltage at collector of transistor Q2 at instants T1 and T2 in volts\n",
"\n",
"//Solution\n",
"\n",
"vICM=((vI1(2)-vI1(1))+(vI2(2)-vI2(1)))/2;//input common mode voltage in volts\n",
"vOCM=((vO1(2)-vO1(1))+(vO2(2)-vO2(1)))/2;//output common mode voltage in volts\n",
"ACM=vOCM/vICM;//common mode gain\n",
"printf('Common mode gain ACM = %.2f',ACM);"
   ]
   }
,
{
		   "cell_type": "markdown",
		   "metadata": {},
		   "source": [
			"## Example 14.5: Calculation_of_CMRR_in_dB_units_for_given_operational_amplifier.sce"
		   ]
		  },
  {
"cell_type": "code",
	   "execution_count": null,
	   "metadata": {
	    "collapsed": true
	   },
	   "outputs": [],
"source": [
"//Tested on Windows 7 Ultimate 32-bit\n",
"//Chapter 14 Operational Amplifiers Pg no. 423\n",
"clear;\n",
"clc;\n",
"\n",
"//Given\n",
"\n",
"Ad=15000;//differential gain\n",
"Ac=15;//common mode gain\n",
"\n",
"//Solution\n",
"\n",
"CMRR=Ad/Ac;//common mode rejection ratio\n",
"CMRR_dB=20*log10(CMRR);//common mode rejection ratio in dB units\n",
"printf('(CMRR)dB = %.f dB',CMRR_dB);"
   ]
   }
,
{
		   "cell_type": "markdown",
		   "metadata": {},
		   "source": [
			"## Example 14.6: Calculation_of_slew_rate_for_given_operational_amplifier.sce"
		   ]
		  },
  {
"cell_type": "code",
	   "execution_count": null,
	   "metadata": {
	    "collapsed": true
	   },
	   "outputs": [],
"source": [
"//Tested on Windows 7 Ultimate 32-bit\n",
"//Chapter 14 Operational Amplifiers Pg no. 425 and 426\n",
"clear;\n",
"clc;\n",
"\n",
"//Given\n",
"\n",
"V1=-10.8;//output at time instant t1 in volts\n",
"V2=10.8;//output at time instant t2 in volts\n",
"t2_t1=2D-6;//time gap between t1 and t2 in seconds\n",
"\n",
"//Solution\n",
"\n",
"SR=(V2-V1)/t2_t1/10^6;//slew rate in Volts/micro-seconds\n",
"printf('Slew Rate S.R. = %.1f V/μS',SR);"
   ]
   }
,
{
		   "cell_type": "markdown",
		   "metadata": {},
		   "source": [
			"## Example 14.7: Calculation_of_feedback_resistance_for_given_opamp_closed_loop_amplifier.sce"
		   ]
		  },
  {
"cell_type": "code",
	   "execution_count": null,
	   "metadata": {
	    "collapsed": true
	   },
	   "outputs": [],
"source": [
"//Tested on Windows 7 Ultimate 32-bit\n",
"//Chapter 14 Operational Amplifiers Pg no. 428 and 429\n",
"clear;\n",
"clc;\n",
"\n",
"//Given\n",
"//Figure E 14.7\n",
"\n",
"Av_cl=50;//closed loop voltage gain\n",
"Ri=2.7D3;//resistance Ri in ohms\n",
"\n",
"//Solution\n",
"\n",
"Rf=Av_cl*Ri;//feedback resistance in ohms\n",
"printf('Feedback resistor Rf = %d kilo-ohms',Rf/10^3);"
   ]
   }
,
{
		   "cell_type": "markdown",
		   "metadata": {},
		   "source": [
			"## Example 14.8: Calculation_of_input_and_output_impedances_for_given_operational_amplifier.sce"
		   ]
		  },
  {
"cell_type": "code",
	   "execution_count": null,
	   "metadata": {
	    "collapsed": true
	   },
	   "outputs": [],
"source": [
"//Tested on Windows 7 Ultimate 32-bit\n",
"//Chapter 14 Operational Amplifiers Pg no. 429\n",
"clear;\n",
"clc;\n",
"\n",
"//Given\n",
"//Figure E 14.7\n",
"\n",
"Av_ol=200000;//open loop voltage gain\n",
"Zin=5;//input impedance in ohms\n",
"Zout=50;//output impedance in ohms\n",
"Ri=2.7D3;//resistance Ri in ohms\n",
"Rf=135D3;//feedback resistance in ohms\n",
"\n",
"//Solution\n",
"\n",
"Zin=Ri;//input impedance of amplifier in ohms\n",
"Zout_miller=Rf*Av_ol/(1+Av_ol);//miller output impedance in ohms\n",
"Zout_total=1/(1/Zout+1/Zout_miller);//total output impedance of amplifier in ohms\n",
"printf('Input impedance Zin = %.1f kilo-ohms\n ',Zin/10^3);\n",
"printf('Output impedance Zout = %.f ohms',Zout_total);"
   ]
   }
,
{
		   "cell_type": "markdown",
		   "metadata": {},
		   "source": [
			"## Example 14.9: EX14_9.sce"
		   ]
		  },
  {
"cell_type": "code",
	   "execution_count": null,
	   "metadata": {
	    "collapsed": true
	   },
	   "outputs": [],
"source": [
"//Tested on Windows 7 Ultimate 32-bit\n",
"//Chapter 14 Operational Amplifiers Pg no. 431 and 432\n",
"clear;\n",
"clc;\n",
"\n",
"//Given\n",
"\n",
"A=175000;//open loop voltage gain\n",
"Zin=1.5D6;//input impedance in ohms\n",
"Zout=70;//output impedance in ohms\n",
"Ri=8.2D3;//resistance Ri in ohms\n",
"Rf=180D3;//feedback resistance in ohms\n",
"\n",
"//Solution\n",
"\n",
"X=Ri/(Ri+Rf);//voltage divider ratio\n",
"Zin_n=Zin*(1+A*X);//input impedance in ohms\n",
"Zout_n=Zout/(1+A*X);//output impedance in ohms\n",
"Av_cl=1/X;//closed loop voltage gain\n",
"printf('Input impedance Zin = %.f Mega-ohms\n ',Zin_n/10^6);\n",
"printf('Output impedance Zout = %.4f ohms\n ',Zout_n);\n",
"printf('Closed loop voltage gain (Av)cl = %.f',Av_cl);"
   ]
   }
],
"metadata": {
		  "kernelspec": {
		   "display_name": "Scilab",
		   "language": "scilab",
		   "name": "scilab"
		  },
		  "language_info": {
		   "file_extension": ".sce",
		   "help_links": [
			{
			 "text": "MetaKernel Magics",
			 "url": "https://github.com/calysto/metakernel/blob/master/metakernel/magics/README.md"
			}
		   ],
		   "mimetype": "text/x-octave",
		   "name": "scilab",
		   "version": "0.7.1"
		  }
		 },
		 "nbformat": 4,
		 "nbformat_minor": 0
}
