{
"cells": [
 {
		   "cell_type": "markdown",
	   "metadata": {},
	   "source": [
       "# Chapter 10: Feedback in Amplifiers"
	   ]
	},
{
		   "cell_type": "markdown",
		   "metadata": {},
		   "source": [
			"## Example 10.10: Calculation_of_open_and_closed_loop_gain_for_given_amplifier_circuit.sce"
		   ]
		  },
  {
"cell_type": "code",
	   "execution_count": null,
	   "metadata": {
	    "collapsed": true
	   },
	   "outputs": [],
"source": [
"//Tested on Windows 7 Ultimate 32-bit\n",
"//Chapter 10 Feedback in Amplifiers Pg no. 343 and 344\n",
"clear;\n",
"clc;\n",
"\n",
"//Given\n",
"//Figure 10.16\n",
"\n",
"RD=4.7D3;//drain resistance in ohms\n",
"Rs=1D3;//source resistance in ohms\n",
"RF=15D3;//feedback resistance in ohms\n",
"gm=5D-3;//transconductance in Siemens\n",
"\n",
"//Solution\n",
"\n",
"A=-gm*RD;//open loop gain\n",
"Afb=A*RF/(RF-A*Rs);//closed loop gain\n",
"printf('Gain without feedback A = %.1f\n ',A);\n",
"printf('Gain with feedback Afb = %.2f',Afb);"
   ]
   }
,
{
		   "cell_type": "markdown",
		   "metadata": {},
		   "source": [
			"## Example 10.11: Calculation_of_closed_loop_gain_for_given_amplifier_circuit.sce"
		   ]
		  },
  {
"cell_type": "code",
	   "execution_count": null,
	   "metadata": {
	    "collapsed": true
	   },
	   "outputs": [],
"source": [
"//Tested on Windows 7 Ultimate 32-bit\n",
"//Chapter 10 Feedback in Amplifiers Pg no. 345\n",
"clear;\n",
"clc;\n",
"\n",
"//Given\n",
"//Figure 10.18\n",
"\n",
"VCC=15;//collector supply voltage in volts\n",
"RC=1.8D3;//collector resistance in ohms\n",
"RB=330;//base resistance in ohms\n",
"RE=390;//emitter resistance in ohms\n",
"hfe=150;//forward current gain\n",
"hie=1000;//input resistance of transistor in ohms\n",
"Vi=5D-3;//input rms voltage in volts\n",
"\n",
"//Solution\n",
"\n",
"A=-hfe/(hie+RE);//open loop gain\n",
"B=-RE;//feedback factor beta\n",
"Afb=A/(1+A*B);//closed loop gain\n",
"AVfb=Afb*RC;//closed loop voltage gain\n",
"printf('Voltage gain of the circuit (Av)fb = %.2f\n ',AVfb);"
   ]
   }
,
{
		   "cell_type": "markdown",
		   "metadata": {},
		   "source": [
			"## Example 10.12: Calculation_of_closed_loop_gain_and_feedback_transfer_ratio_for_given_amplifier.sce"
		   ]
		  },
  {
"cell_type": "code",
	   "execution_count": null,
	   "metadata": {
	    "collapsed": true
	   },
	   "outputs": [],
"source": [
"//Tested on Windows 7 Ultimate 32-bit\n",
"//Chapter 10 Feedback in Amplifiers Pg no. 345\n",
"clear;\n",
"clc;\n",
"\n",
"//Given\n",
"\n",
"A0=200;//open loop midband gain\n",
"B=0.05;//feedback factor beta\n",
"\n",
"//Solution\n",
"\n",
"Afb=A0/(1+A0*B);//closed loop midband gain\n",
"printf('Voltage gain of the circuit (Av)fb = %.2f\n ',Afb);"
   ]
   }
,
{
		   "cell_type": "markdown",
		   "metadata": {},
		   "source": [
			"## Example 10.13: EX10_13.sce"
		   ]
		  },
  {
"cell_type": "code",
	   "execution_count": null,
	   "metadata": {
	    "collapsed": true
	   },
	   "outputs": [],
"source": [
"//Tested on Windows 7 Ultimate 32-bit\n",
"//Chapter 10 Feedback in Amplifiers Pg no. 345 and 346\n",
"clear;\n",
"clc;\n",
"\n",
"//Given\n",
"\n",
"A0=200;//open loop midband gain\n",
"B=0.05;//feedback factor beta\n",
"fL=25;//open loop lower cutoff frequency in hertz\n",
"\n",
"//Solution\n",
"\n",
"fLfb=fL/(1+A0*B);//closed loop lower cutoff frequency in hertz\n",
"printf('Closed loop lower cutoff frequency (fL)fb = %.2f Hz\n ',fLfb);"
   ]
   }
,
{
		   "cell_type": "markdown",
		   "metadata": {},
		   "source": [
			"## Example 10.14: EX10_14.sce"
		   ]
		  },
  {
"cell_type": "code",
	   "execution_count": null,
	   "metadata": {
	    "collapsed": true
	   },
	   "outputs": [],
"source": [
"//Tested on Windows 7 Ultimate 32-bit\n",
"//Chapter 10 Feedback in Amplifiers Pg no. 346\n",
"clear;\n",
"clc;\n",
"\n",
"//Given\n",
"\n",
"A0=200;//open loop midband gain\n",
"B=0.05;//feedback factor beta\n",
"fH=100D3;//open loop higher cutoff frequency in hertz\n",
"\n",
"//Solution\n",
"\n",
"fHfb=fH*(1+A0*B);//closed loop higher cutoff frequency in hertz\n",
"printf('Closed loop higher cutoff frequency (fH)fb = %.1f MHz\n ',fHfb/10^6);"
   ]
   }
,
{
		   "cell_type": "markdown",
		   "metadata": {},
		   "source": [
			"## Example 10.1: Calculation_of_closed_loop_gain_and_feedback_factor_for_given_amplifier.sce"
		   ]
		  },
  {
"cell_type": "code",
	   "execution_count": null,
	   "metadata": {
	    "collapsed": true
	   },
	   "outputs": [],
"source": [
"//Tested on Windows 7 Ultimate 32-bit\n",
"//Chapter 10 Feedback in Amplifiers Pg no. 330\n",
"clear;\n",
"clc;\n",
"\n",
"//Given\n",
"\n",
"Vi=2D-3;//input voltage in volts\n",
"Vo_dash=10;//output voltage with feedback in volts\n",
"BVo_dash=200D-3;//feedback voltage in volts\n",
"\n",
"//Solution\n",
"\n",
"A=Vo_dash/Vi;//open loop gain\n",
"Afb=Vo_dash/(Vi+BVo_dash);//closed loop gain\n",
"B=1/Afb-1/A;//feedback gain beta\n",
"printf('β = %.2f',B);"
   ]
   }
,
{
		   "cell_type": "markdown",
		   "metadata": {},
		   "source": [
			"## Example 10.2: Calculation_of_feedback_parameters_and_output_voltage_for_given_amplifier.sce"
		   ]
		  },
  {
"cell_type": "code",
	   "execution_count": null,
	   "metadata": {
	    "collapsed": true
	   },
	   "outputs": [],
"source": [
"//Tested on Windows 7 Ultimate 32-bit\n",
"//Chapter 10 Feedback in Amplifiers Pg no. 330\n",
"clear;\n",
"clc;\n",
"\n",
"//Given\n",
"\n",
"Vi=25D-3;//input voltage in volts\n",
"A=300;//open loop gain\n",
"B=0.01;//feedback factor beta\n",
"\n",
"//Solution\n",
"\n",
"disp('(i)');\n",
"Afb=A/(1+A*B);//closed loop gain\n",
"printf('Afb = %d\n ',Afb);\n",
"\n",
"disp('(ii)');\n",
"Vo_dash=Afb*Vi;//output voltage with feedback in volts\n",
"printf('Vo'' = %.3f Volts\n ',Vo_dash);\n",
"\n",
"disp('(iii)');\n",
"AB=A*B;//feedback factor Aβ\n",
"printf('Feedback factor Aβ = %d\n ',AB);\n",
"\n",
"disp('(iv)');\n",
"BVo_dash=B*Vo_dash;//feedback voltage in volts\n",
"printf('Feedback voltage βVo'' = %.4f Volts',BVo_dash);"
   ]
   }
,
{
		   "cell_type": "markdown",
		   "metadata": {},
		   "source": [
			"## Example 10.3: Calculation_of_variation_in_closed_loop_gain_with_variation_in_open_loop_gain.sce"
		   ]
		  },
  {
"cell_type": "code",
	   "execution_count": null,
	   "metadata": {
	    "collapsed": true
	   },
	   "outputs": [],
"source": [
"//Tested on Windows 7 Ultimate 32-bit\n",
"//Chapter 10 Feedback in Amplifiers Pg no. 330 and 331\n",
"clear;\n",
"clc;\n",
"\n",
"//Given\n",
"\n",
"A=500;//open loop gain\n",
"B=0.1;//feedback factor beta\n",
"dA_to_A=10/100;//variation in open loop gain\n",
"\n",
"//Solution\n",
"\n",
"dAfb_to_Afb=dA_to_A*1/(A*B);//variation in closed loop gain\n",
"printf('Percentage variation in closed loop gain = %.1f %%',dAfb_to_Afb*100);"
   ]
   }
,
{
		   "cell_type": "markdown",
		   "metadata": {},
		   "source": [
			"## Example 10.4: Calculation_of_variation_in_closed_loop_gain_with_variation_in_open_loop_gain.sce"
		   ]
		  },
  {
"cell_type": "code",
	   "execution_count": null,
	   "metadata": {
	    "collapsed": true
	   },
	   "outputs": [],
"source": [
"//Tested on Windows 7 Ultimate 32-bit\n",
"//Chapter 10 Feedback in Amplifiers Pg no. 331\n",
"clear;\n",
"clc;\n",
"\n",
"//Given\n",
"\n",
"A=70;//open loop gain\n",
"B=0.1;//feedback factor beta\n",
"A_dash=A+0.05*A;//open loop gain increases by 5%\n",
"\n",
"//Solution\n",
"\n",
"Afb=A/(1+A*B);//closed loop gain at A open loop gain\n",
"Afb_dash=A_dash/(1+A_dash*B);//closed loop gain at A_dash open loop gain\n",
"PC=(Afb_dash-Afb)/Afb*100;//percentage change in closed loop gain\n",
"printf('Percentage change in closed loop gain = %.1f %%',PC);\n",
"\n",
"//approximations taken in textbook"
   ]
   }
,
{
		   "cell_type": "markdown",
		   "metadata": {},
		   "source": [
			"## Example 10.5: EX10_5.sce"
		   ]
		  },
  {
"cell_type": "code",
	   "execution_count": null,
	   "metadata": {
	    "collapsed": true
	   },
	   "outputs": [],
"source": [
"//Tested on Windows 7 Ultimate 32-bit\n",
"//Chapter 10 Feedback in Amplifiers Pg no. 332\n",
"clear;\n",
"clc;\n",
"\n",
"//Given\n",
"\n",
"A=100;//open loop gain\n",
"D=0.05;//distortion\n",
"Vi=0.5;//input voltage in volts\n",
"\n",
"//Solution\n",
"\n",
"disp('(a)');\n",
"Vo=A*Vi;//output voltage in volts\n",
"printf('Output signal voltage = %d Volts',Vo);\n",
"\n",
"disp('(b)');\n",
"DV=D*Vo;//distortion voltage in volts\n",
"printf('Distortion voltage = %.1f Volts',DV);\n",
"\n",
"disp('(c)');\n",
"AOV=DV+Vo;//amplifier output voltage in volts\n",
"printf('Amplifier output voltage = %.1f Volts',AOV);"
   ]
   }
,
{
		   "cell_type": "markdown",
		   "metadata": {},
		   "source": [
			"## Example 10.6: EX10_6.sce"
		   ]
		  },
  {
"cell_type": "code",
	   "execution_count": null,
	   "metadata": {
	    "collapsed": true
	   },
	   "outputs": [],
"source": [
"//Tested on Windows 7 Ultimate 32-bit\n",
"//Chapter 10 Feedback in Amplifiers Pg no. 332\n",
"clear;\n",
"clc;\n",
"\n",
"//Given\n",
"\n",
"A2=200;//second stage open loop gain\n",
"B=0.1;//feedback gain beta\n",
"D2=0.02;//second harmonic distortion\n",
"\n",
"//Solution\n",
"\n",
"disp('(a)');\n",
"A2_dash=A2/(1+B*A2);//second stage closed loop gain\n",
"A1=A2/A2_dash;//gain of the first stage\n",
"printf('The gain of the first stage A1 = %d',A1);\n",
"\n",
"disp('(b)');\n",
"D2_dash=D2/(1+B*A2);//total second harmonic distortion\n",
"printf('The second harmonic distortion D2''= %.1f %%',D2_dash*100);\n",
"\n",
"//calculation error in textbook as A*B=20 and not 2"
   ]
   }
,
{
		   "cell_type": "markdown",
		   "metadata": {},
		   "source": [
			"## Example 10.7: Calculation_of_bandwidth_after_introduction_of_feedback_in_an_amplifier.sce"
		   ]
		  },
  {
"cell_type": "code",
	   "execution_count": null,
	   "metadata": {
	    "collapsed": true
	   },
	   "outputs": [],
"source": [
"//Tested on Windows 7 Ultimate 32-bit\n",
"//Chapter 10 Feedback in Amplifiers Pg no. 333\n",
"clear;\n",
"clc;\n",
"\n",
"//Given\n",
"\n",
"A=250;//mid frequency open loop gain\n",
"f1=100;//open loop lower cutoff frequency in hertz\n",
"f2=25D3;//open loop higher cutoff frequency in hertz\n",
"B=0.025;//feedback gain beta\n",
"D2=0.02;//second harmonic distortion\n",
"\n",
"//Solution\n",
"\n",
"Afb=A/(1+A*B);//closed loop gain\n",
"f1_dash=f1/(1+A*B);//closed loop lower cutoff frequency in hertz\n",
"f2_dash=f2*(1+A*B);//closed loop higher cutoff frequency in hertz\n",
"BW=f2_dash-f1_dash;//closed loop bandwidth\n",
"printf('Closed loop gain Afb = %.2f\n ',Afb);\n",
"printf('Closed loop bandwidth BW = %.2f kHz',BW/10^3);"
   ]
   }
,
{
		   "cell_type": "markdown",
		   "metadata": {},
		   "source": [
			"## Example 10.8: Calculation_of_open_and_closed_loop_gain_for_given_FET_amplifier.sce"
		   ]
		  },
  {
"cell_type": "code",
	   "execution_count": null,
	   "metadata": {
	    "collapsed": true
	   },
	   "outputs": [],
"source": [
"//Tested on Windows 7 Ultimate 32-bit\n",
"//Chapter 10 Feedback in Amplifiers Pg no. 341\n",
"clear;\n",
"clc;\n",
"\n",
"//Given\n",
"//Figure 10.13\n",
"\n",
"RL=6.8D3;//load resistance in ohms\n",
"RD=6.8D3;//drain resistance in ohms\n",
"Rs=400;//source resistance in ohms\n",
"R1=400D3;//voltage divider resistance R1 in ohms\n",
"R2=100D3;//voltage divider resistance R2 in ohms\n",
"gm=5000D-6;//transconductance in Siemens\n",
"\n",
"//Solution\n",
"\n",
"RL_dash=RL*RD/(RL+RD);//total equivalent load resistance in ohms\n",
"A=-gm*RL_dash;//open loop gain\n",
"B=-R2/(R1+R2);//feedback factor beta\n",
"Afb=A/(1+A*B);//closed loop gain\n",
"printf('Gain without feedback A = %d\n ',A);\n",
"printf('Gain with feedback Afb = %.2f',Afb);"
   ]
   }
,
{
		   "cell_type": "markdown",
		   "metadata": {},
		   "source": [
			"## Example 10.9: Calculation_of_open_and_closed_loop_gain_for_given_amplifier_circuit.sce"
		   ]
		  },
  {
"cell_type": "code",
	   "execution_count": null,
	   "metadata": {
	    "collapsed": true
	   },
	   "outputs": [],
"source": [
"//Tested on Windows 7 Ultimate 32-bit\n",
"//Chapter 10 Feedback in Amplifiers Pg no. 343\n",
"clear;\n",
"clc;\n",
"\n",
"//Given\n",
"//Figure 10.16\n",
"\n",
"RD=4.7D3;//drain resistance in ohms\n",
"Rs=1D3;//source resistance in ohms\n",
"RF=10D6;//feedback resistance in ohms\n",
"gm=2D-3;//transconductance in Siemens\n",
"\n",
"//Solution\n",
"\n",
"A=-gm*RD;//open loop gain\n",
"Afb=A*RF/(RF-A*Rs);//closed loop gain\n",
"printf('Gain without feedback A = %.1f\n ',A);\n",
"printf('Gain with feedback Afb = %.1f',Afb);"
   ]
   }
],
"metadata": {
		  "kernelspec": {
		   "display_name": "Scilab",
		   "language": "scilab",
		   "name": "scilab"
		  },
		  "language_info": {
		   "file_extension": ".sce",
		   "help_links": [
			{
			 "text": "MetaKernel Magics",
			 "url": "https://github.com/calysto/metakernel/blob/master/metakernel/magics/README.md"
			}
		   ],
		   "mimetype": "text/x-octave",
		   "name": "scilab",
		   "version": "0.7.1"
		  }
		 },
		 "nbformat": 4,
		 "nbformat_minor": 0
}
