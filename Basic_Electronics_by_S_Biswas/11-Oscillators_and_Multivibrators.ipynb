{
"cells": [
 {
		   "cell_type": "markdown",
	   "metadata": {},
	   "source": [
       "# Chapter 11: Oscillators and Multivibrators"
	   ]
	},
{
		   "cell_type": "markdown",
		   "metadata": {},
		   "source": [
			"## Example 11.1: Calculation_of_frequency_of_oscillations_for_Colpitts_oscillator.sce"
		   ]
		  },
  {
"cell_type": "code",
	   "execution_count": null,
	   "metadata": {
	    "collapsed": true
	   },
	   "outputs": [],
"source": [
"//Tested on Windows 7 Ultimate 32-bit\n",
"//Chapter 11 Oscillators and Multivibrators Pg no. 355 and 356\n",
"clear;\n",
"clc;\n",
"\n",
"//Given\n",
"//Figure E 11.1\n",
"\n",
"L=20D-3;//colpitts inductance in henry\n",
"C1=0.2D-6;//colpitts capacitor C1 in farads\n",
"C2=0.02D-6;//colpitts capacitor C2 in farads\n",
"\n",
"//Solution\n",
"\n",
"Ce=C1*C2/(C1+C2);//equivalent capacitance in farads\n",
"f0=1/(2*%pi*sqrt(L*Ce));//frequency of oscillations in hertz\n",
"printf('Frequency of oscillations f0 = %.2f kHz',f0/10^3);"
   ]
   }
,
{
		   "cell_type": "markdown",
		   "metadata": {},
		   "source": [
			"## Example 11.2: Calculation_of_frequency_of_oscillations_for_given_circuit_and_Q_values.sce"
		   ]
		  },
  {
"cell_type": "code",
	   "execution_count": null,
	   "metadata": {
	    "collapsed": true
	   },
	   "outputs": [],
"source": [
"//Tested on Windows 7 Ultimate 32-bit\n",
"//Chapter 11 Oscillators and Multivibrators Pg no. 356\n",
"clear;\n",
"clc;\n",
"\n",
"//Given\n",
"//Figure E 11.1\n",
"\n",
"L=20D-3;//colpitts inductance in henry\n",
"C1=0.2D-6;//colpitts capacitor C1 in farads\n",
"C2=0.02D-6;//colpitts capacitor C2 in farads\n",
"Qa=10;//Q point (a)\n",
"Qb=5;//Q point (b)\n",
"\n",
"//Solution\n",
"\n",
"Ce=C1*C2/(C1+C2);//equivalent capacitance in farads\n",
"disp('(a)');\n",
"f0=1/(2*%pi*sqrt(L*Ce))*sqrt(Qa^2/(Qa^2+1));//frequency of oscillations in hertz\n",
"printf('Q = %d\n',Qa);\n",
"printf('Frequency of oscillations f0 = %.f Hz',f0);\n",
"\n",
"disp('(b)');\n",
"f0=1/(2*%pi*sqrt(L*Ce))*sqrt(Qb^2/(Qb^2+1));//frequency of oscillations in hertz\n",
"printf('Q = %d\n',Qb);\n",
"printf('Frequency of oscillations f0 = %.f Hz',f0);\n",
"\n",
"//Round-off error in textbook"
   ]
   }
,
{
		   "cell_type": "markdown",
		   "metadata": {},
		   "source": [
			"## Example 11.3: Calculation_of_Q_value_for_a_crystal_oscillator_with_given_parameters.sce"
		   ]
		  },
  {
"cell_type": "code",
	   "execution_count": null,
	   "metadata": {
	    "collapsed": true
	   },
	   "outputs": [],
"source": [
"//Tested on Windows 7 Ultimate 32-bit\n",
"//Chapter 11 Oscillators and Multivibrators Pg no. 359\n",
"clear;\n",
"clc;\n",
"\n",
"//Given\n",
"\n",
"f=3.8D6;//frequency of oscillations in hertz\n",
"L=0.2;//equivalent inductance in henry\n",
"R=6000;//series resistance in ohms\n",
"\n",
"//Solution\n",
"\n",
"Q=2*%pi*f*L/R;//quality factor Q\n",
"printf('Q = %d\n',Q);"
   ]
   }
,
{
		   "cell_type": "markdown",
		   "metadata": {},
		   "source": [
			"## Example 11.4: Calculation_of_frequency_of_oscillations_for_given_oscillator_circuit.sce"
		   ]
		  },
  {
"cell_type": "code",
	   "execution_count": null,
	   "metadata": {
	    "collapsed": true
	   },
	   "outputs": [],
"source": [
"//Tested on Windows 7 Ultimate 32-bit\n",
"//Chapter 11 Oscillators and Multivibrators Pg no. 361\n",
"clear;\n",
"clc;\n",
"\n",
"//Given\n",
"\n",
"R=4.7D3;//R1,R2,R3 resistances in RC filter circuit in ohms\n",
"C=2.2D-9;//C1,C2,C3 resistances in RC filter circuit in farads\n",
"\n",
"//Solution\n",
"\n",
"f0=1/(2*%pi*R*C*sqrt(6));//frequency of oscillation in hertz\n",
"printf('Frequency of oscillation f0 = %.3f kHz',f0/10^3);"
   ]
   }
,
{
		   "cell_type": "markdown",
		   "metadata": {},
		   "source": [
			"## Example 11.5: EX11_5.sce"
		   ]
		  },
  {
"cell_type": "code",
	   "execution_count": null,
	   "metadata": {
	    "collapsed": true
	   },
	   "outputs": [],
"source": [
"//Tested on Windows 7 Ultimate 32-bit\n",
"//Chapter 11 Oscillators and Multivibrators Pg no. 361\n",
"clear;\n",
"clc;\n",
"\n",
"//Given\n",
"\n",
"R=4.7D3;//R1,R2,R3 resistances in RC filter circuit in ohms\n",
"C=4.7D-9;//C1,C2,C3 resistances in RC filter circuit in farads\n",
"A=29;//voltage gain of RC phase shift oscillator\n",
"\n",
"//Solution\n",
"\n",
"f0=1/(2*%pi*R*C*sqrt(6));//frequency of oscillation in hertz\n",
"printf('Frequency of oscillation f0 = %.2f kHz\n ',f0/10^3);\n",
"Rf=A*R;//feedback resistance in ohms\n",
"printf('Feedback resistance Rf = %.1f kilo-ohms',Rf/10^3);"
   ]
   }
,
{
		   "cell_type": "markdown",
		   "metadata": {},
		   "source": [
			"## Example 11.6: Calculation_of_oscillation_frequency_for_Wien_Bridge_oscillator.sce"
		   ]
		  },
  {
"cell_type": "code",
	   "execution_count": null,
	   "metadata": {
	    "collapsed": true
	   },
	   "outputs": [],
"source": [
"//Tested on Windows 7 Ultimate 32-bit\n",
"//Chapter 11 Oscillators and Multivibrators Pg no. 367 and 368\n",
"clear;\n",
"clc;\n",
"\n",
"//Given\n",
"\n",
"f1=40;//lowest operating frequency in hertz\n",
"f2=40D3;//highest operating frequency in hertz\n",
"C1=40D-12;//lowest capacitance of variable capacitor in farads\n",
"C2=400D-12;//highest capacitance of variable capacitor in farads\n",
"A=10;//gain of amplifier\n",
"R2=7D3;//resistance of other arm of bridge in ohms\n",
"\n",
"//Solution\n",
"\n",
"R=1/(2*%pi*f1*C2);//resistance R of Wien bridge oscillator in ohms\n",
"printf('Since,capacitance can change in the ratio of 10:1 only\n ');\n",
"printf('For R = %.2f Mega-ohms frequency range 40 Hz to 400 Hz\n ',R/10^6);\n",
"printf('For R = %.2f kilo-ohms frequency range 400 Hz to 4 kHz\n ',R/10^5);\n",
"printf('For R = %.2f kilo-ohms frequency range 4 kHz to 40 kHz\n\n ',R/10^6);\n",
"\n",
"AB=1;//loop gain is unity for oscillator\n",
"B=AB/A;//feedback factor beta\n",
"R1_to_R2=1/(1/3-B)-1;//ratio of R1/R2 for wien bridge oscillator\n",
"R1=R1_to_R2*R2;//resistor R1 in ohms\n",
"printf('Resistance R1 = %d kilo-ohms',R1/10^3);"
   ]
   }
,
{
		   "cell_type": "markdown",
		   "metadata": {},
		   "source": [
			"## Example 11.7: EX11_7.sce"
		   ]
		  },
  {
"cell_type": "code",
	   "execution_count": null,
	   "metadata": {
	    "collapsed": true
	   },
	   "outputs": [],
"source": [
"//Tested on Windows 7 Ultimate 32-bit\n",
"//Chapter 11 Oscillators and Multivibrators Pg no. 368\n",
"clear;\n",
"clc;\n",
"\n",
"//Given\n",
"//Figure 11.18\n",
"\n",
"R1=1.5D3;//resistance R1 in ohms\n",
"R2=1.5D3;//resistance R2 in ohms\n",
"R3=12D3;//resistance R3 in ohms\n",
"R4=12D3;//resistance R4 in ohms\n",
"C1=0.068D-6;//capacitance C1 in farads\n",
"C2=0.068D-6;//capacitance C2 in farads\n",
"\n",
"//Solution\n",
"\n",
"T1=0.693*R3*C1;//time period of initial part of waveform in seconds\n",
"T2=0.693*R4*C2;//time period of final part of waveform in seconds\n",
"T=T1+T2;//total time period of waveform in seconds\n",
"f=1/T;//frequency of wave in hertz\n",
"printf('Frequency of oscillations of astable multivibrator f = %d Hz',f);"
   ]
   }
],
"metadata": {
		  "kernelspec": {
		   "display_name": "Scilab",
		   "language": "scilab",
		   "name": "scilab"
		  },
		  "language_info": {
		   "file_extension": ".sce",
		   "help_links": [
			{
			 "text": "MetaKernel Magics",
			 "url": "https://github.com/calysto/metakernel/blob/master/metakernel/magics/README.md"
			}
		   ],
		   "mimetype": "text/x-octave",
		   "name": "scilab",
		   "version": "0.7.1"
		  }
		 },
		 "nbformat": 4,
		 "nbformat_minor": 0
}
