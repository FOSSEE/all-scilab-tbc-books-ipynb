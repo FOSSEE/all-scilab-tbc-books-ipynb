{
"cells": [
 {
		   "cell_type": "markdown",
	   "metadata": {},
	   "source": [
       "# Chapter 2: Fundamental Concepts Energy Bands in Solids"
	   ]
	},
{
		   "cell_type": "markdown",
		   "metadata": {},
		   "source": [
			"## Example 2.1: KE_PE_and_Total_Energy_of_Electron.sce"
		   ]
		  },
  {
"cell_type": "code",
	   "execution_count": null,
	   "metadata": {
	    "collapsed": true
	   },
	   "outputs": [],
"source": [
"//Tested on Windows 7 Ultimate 32-bit\n",
"//Chapter 2 Fundamental Concepts: Energy Bands in Solids Pg no. 49\n",
"clear;\n",
"clc;\n",
"\n",
"//Given Data\n",
"m0=9.1D-31;//mass of electron in kg\n",
"e=1.602D-19;//charge on a electron in Coulombs\n",
"e0=8.854D-12;//electric permittivity of air\n",
"h=6.625D-34;//planck's constant in Joules-sec\n",
"n=2;//index of the Bohr orbit\n",
"\n",
"//Solution\n",
"\n",
"KE=(m0*e^4)/(8*e0^2*n^2*h^2);//Kinetic Energy  of electron in Joules\n",
"KE=KE/(1.6D-19);//Converting it into electron volts eV\n",
"\n",
"PE=-(m0*e^4)/(4*e0^2*n^2*h^2);//Potential Energy  of electron in Joules\n",
"PE=PE/(1.6D-19);//Converting it into electron volts eV\n",
"\n",
"TE=KE+PE;//Total energy is the sum of kinetic and potential energy of electron\n",
"\n",
"printf('Kinetic Energy=%.1f eV \n Potential Energy=%.1f eV \n Total Energy=%.1f eV',KE,PE,TE);"
   ]
   }
,
{
		   "cell_type": "markdown",
		   "metadata": {},
		   "source": [
			"## Example 2.2: Total_electrons_in_K_L_M_shells.sce"
		   ]
		  },
  {
"cell_type": "code",
	   "execution_count": null,
	   "metadata": {
	    "collapsed": true
	   },
	   "outputs": [],
"source": [
"//Tested on Windows 7 Ultimate 32-bit\n",
"//Chapter 2 Fundamental Concepts: Energy Bands in Solids Pg no. 49\n",
"clear;\n",
"clc;\n",
"\n",
"printf('According to Paulis principle no two electrons can possess same set of values for four quantum numbers.\n\n');\n",
"printf('Total electrons that can reside in eacvh shell is as follows\n');\n",
"printf('K shell: \n n=1,l=0,m=0,s=±1/2 \t\t\t 2 electrons Subshell:1s\n');\n",
"printf('\t\t\t\t   Total:2 electrons\n');\n",
"printf('L shell: \n n=2,l=0,m=0,s=±1/2 \t\t\t 2 electrons Subshell:2s\n');\n",
"printf(' n=2,l=1,m=-1,0,+1,s=±1/2 \t\t 6 electrons Subshell:2p\n');\n",
"printf('\t\t\t\t   Total:8 electrons\n');\n",
"printf('M shell: \n n=3,l=0,m=0,s=±1/2 \t\t\t 2 electrons Subshell:3s\n');\n",
"printf(' n=3,l=1,m=-1,0,+1,s=±1/2\t\t 6 electrons Subshell:3p\n');\n",
"printf(' n=3,l=2,m=-2,-1,0,+1,+2,s=±1/2 \t 10 electrons Subshell:3d\n');\n",
"printf('\t\t\t\t   Total:18 electrons\n');"
   ]
   }
,
{
		   "cell_type": "markdown",
		   "metadata": {},
		   "source": [
			"## Example 2.3: Calculation_of_KE_and_velocity_of_electron.sce"
		   ]
		  },
  {
"cell_type": "code",
	   "execution_count": null,
	   "metadata": {
	    "collapsed": true
	   },
	   "outputs": [],
"source": [
"//Tested on Windows 7 Ultimate 32-bit\n",
"//Chapter 2 Fundamental Concepts: Energy Bands in Solids Pg no. 50\n",
"clear;\n",
"clc;\n",
"\n",
"//Given Data\n",
"m0=9.1D-31;//mass of electron in kg\n",
"e=1.602D-19;//charge on a electron in Coulombs\n",
"V1=100;//Accelerating potential difference in volts for case (i)\n",
"V2=500;//Accelerating potential difference in volts for case (ii)\n",
"\n",
"//Solution\n",
"disp('case (i)')\n",
"\n",
"KE1=e*V1;//Kinetic Energy  of electron in Joules\n",
"KE2=KE1/(1.6D-19);//Converting it into electron volts eV\n",
"v=sqrt(2*KE1/m0);//Velocity of electron in meters per second\n",
"\n",
"printf('The Kinetic energy for V=%d volts is \n',V1);\n",
"printf('K.E.=%.3e Joules \nK.E.=%d eV\n',KE1,KE2);\n",
"printf('The corresponding velocity is %.2e m/sec\n',v);\n",
"\n",
"disp('case (ii)')\n",
"\n",
"KE1=e*V2;//Kinetic Energy  of electron in Joules\n",
"KE2=KE1/(1.6D-19);//Converting it into electron volts eV\n",
"v=sqrt(2*KE1/m0);//Velocity of electron in meters per second\n",
"\n",
"printf('The Kinetic energy for V=%d volts is \n',V1);\n",
"printf('K.E.=%.3e Joules \nK.E.=%d eV\n',KE1,KE2);\n",
"printf('The corresponding velocity is %.2e m/sec\n',v);\n",
"\n",
"//Decimal errors with respect to textbook due to approximations"
   ]
   }
,
{
		   "cell_type": "markdown",
		   "metadata": {},
		   "source": [
			"## Example 2.4: Calculation_of_KE_and_velocity_of_positively_charged_particle.sce"
		   ]
		  },
  {
"cell_type": "code",
	   "execution_count": null,
	   "metadata": {
	    "collapsed": true
	   },
	   "outputs": [],
"source": [
"//Tested on Windows 7 Ultimate 32-bit\n",
"//Chapter 2 Fundamental Concepts: Energy Bands in Solids Pg no. 50\n",
"clear;\n",
"clc;\n",
"\n",
"//Given Data\n",
"m0=9.1D-31;//mass of electron in kg\n",
"e=1.602D-19;//charge on a electron in Coulombs\n",
"V=5000;//Accelerating potential difference in volts for case (ii)\n",
"m=3674*m0;//mass of positively charged particle in kg;\n",
"q=2*e;//charge of positively charged particle in Coulombs;\n",
"\n",
"\n",
"//Solution\n",
"\n",
"\n",
"KE1=q*V;//Kinetic Energy  of positively charged particle in Joules\n",
"KE2=KE1/(1.6D-19);//Converting it into electron volts eV\n",
"\n",
"v=sqrt(2*KE1/m);//Velocity of positively charged particle in meters per second\n",
"v=v/1000;//Converting it into kilometers per second\n",
"\n",
"printf('The Kinetic energy is %d eV\n',KE2);\n",
"printf('The corresponding velocity is %d km/sec\n',v);\n",
"\n",
"//Error in kinetic energy due to approximations of decimals in textbook"
   ]
   }
,
{
		   "cell_type": "markdown",
		   "metadata": {},
		   "source": [
			"## Example 2.5: Calculation_of_mass_of_electron.sce"
		   ]
		  },
  {
"cell_type": "code",
	   "execution_count": null,
	   "metadata": {
	    "collapsed": true
	   },
	   "outputs": [],
"source": [
"//Tested on Windows 7 Ultimate 32-bit\n",
"//Chapter 2 Fundamental Concepts: Energy Bands in Solids Pg no. 50 and 51\n",
"clear;\n",
"clc;\n",
"\n",
"//Given Data\n",
"m0=9.1D-31;//mass of electron in kg\n",
"v_to_c_ratio=0.2;\n",
"\n",
"//Solution\n",
"\n",
"m=m0/sqrt(1-v_to_c_ratio^2);//mass of electron in kg\n",
"\n",
"printf('Mass of electron for v=0.2c is equal to m=%.2e kg',m);"
   ]
   }
,
{
		   "cell_type": "markdown",
		   "metadata": {},
		   "source": [
			"## Example 2.6: Determination_of_Balmer_series_for_hydrogen_atom.sce"
		   ]
		  },
  {
"cell_type": "code",
	   "execution_count": null,
	   "metadata": {
	    "collapsed": true
	   },
	   "outputs": [],
"source": [
"//Tested on Windows 7 Ultimate 32-bit\n",
"//Chapter 2 Fundamental Concepts: Energy Bands in Solids Pg no. 51\n",
"clear;\n",
"clc;\n",
"\n",
"//Given Data\n",
"\n",
"n=2;//orbit for Balmer series\n",
"h=6.625D-34;//planck's constant in Joules-sec\n",
"c=3D8;//speed of light in meter per second\n",
"\n",
"//Solution\n",
"\n",
"for k=3:6\n",
"    hf=-13.6*(1/(k^2)-1/(2^2));//radiated energy in eV\n",
"    hf2=hf*1.6D-19;//converting from eV to Joules\n",
"    f=hf2/h;//frequency of emitted radiation in Hz\n",
"    l=c/f;//wavelength of emitted radiation in meters\n",
"    u=l*10^6;//converting wavelength into micro meter\n",
"    A=l*10^10;//converting wavelength into angstroms\n",
"    \n",
"    printf('n=%d,hf%d2=%.2f eV,λ=%.3f μm = %d Å \n',k,k,hf,u,A);\n",
"end\n",
"\n",
"hf=-13.6*(0-1/(2^2));//as k tends to infinity 1/k tends to zero\n",
"hf2=hf*1.6D-19;//converting from eV to Joules\n",
"f=hf2/h;//frequency of emitted radiation in Hz\n",
"l=c/f;//wavelength of emitted radiation in meters\n",
"u=l*10^6;//converting wavelength into micro meter\n",
"A=l*10^10;//converting wavelength into angstroms\n",
"    \n",
"    printf('n=∞ ,hf∞2=%.2f eV,λ=%.3f μm = %d Å \n',hf,u,A);\n",
"\n",
"\n",
"//Errors with respect to book due to decimal approximations"
   ]
   }
],
"metadata": {
		  "kernelspec": {
		   "display_name": "Scilab",
		   "language": "scilab",
		   "name": "scilab"
		  },
		  "language_info": {
		   "file_extension": ".sce",
		   "help_links": [
			{
			 "text": "MetaKernel Magics",
			 "url": "https://github.com/calysto/metakernel/blob/master/metakernel/magics/README.md"
			}
		   ],
		   "mimetype": "text/x-octave",
		   "name": "scilab",
		   "version": "0.7.1"
		  }
		 },
		 "nbformat": 4,
		 "nbformat_minor": 0
}
