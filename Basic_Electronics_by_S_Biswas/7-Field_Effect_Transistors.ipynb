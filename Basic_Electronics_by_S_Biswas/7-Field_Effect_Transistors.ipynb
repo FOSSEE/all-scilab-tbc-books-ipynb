{
"cells": [
 {
		   "cell_type": "markdown",
	   "metadata": {},
	   "source": [
       "# Chapter 7: Field Effect Transistors"
	   ]
	},
{
		   "cell_type": "markdown",
		   "metadata": {},
		   "source": [
			"## Example 7.10: Calculation_of_voltage_gain_for_given_circuit_parameters.sce"
		   ]
		  },
  {
"cell_type": "code",
	   "execution_count": null,
	   "metadata": {
	    "collapsed": true
	   },
	   "outputs": [],
"source": [
"//Tested on Windows 7 Ultimate 32-bit\n",
"//Chapter 7 Field Effect Transistors Pg no. 237 and 238\n",
"clear;\n",
"clc;\n",
"\n",
"//Given Data\n",
"\n",
"gm=5D-3;//transconductance in Siemens\n",
"RD=1D3;//drain resistance in ohms\n",
"\n",
"//Solution\n",
"\n",
"GV=gm*RD;//voltage gain\n",
"printf('GV = %d',GV);"
   ]
   }
,
{
		   "cell_type": "markdown",
		   "metadata": {},
		   "source": [
			"## Example 7.11: Calculation_of_voltage_gain_for_given_circuit_parameters.sce"
		   ]
		  },
  {
"cell_type": "code",
	   "execution_count": null,
	   "metadata": {
	    "collapsed": true
	   },
	   "outputs": [],
"source": [
"//Tested on Windows 7 Ultimate 32-bit\n",
"//Chapter 7 Field Effect Transistors Pg no. 238\n",
"clear;\n",
"clc;\n",
"\n",
"//Given Data\n",
"//Figure 7.30\n",
"\n",
"gm=5D-3;//transconductance in Siemens\n",
"RD=1.2D3;//drain resistance in ohms\n",
"RS=330;//source resistance in ohms\n",
"\n",
"//Solution\n",
"\n",
"GV=gm*RD/(1+gm*RS);//voltage gain\n",
"printf('GV = %.2f',GV);"
   ]
   }
,
{
		   "cell_type": "markdown",
		   "metadata": {},
		   "source": [
			"## Example 7.12: Calculation_of_voltage_gain_for_given_circuit_parameters.sce"
		   ]
		  },
  {
"cell_type": "code",
	   "execution_count": null,
	   "metadata": {
	    "collapsed": true
	   },
	   "outputs": [],
"source": [
"//Tested on Windows 7 Ultimate 32-bit\n",
"//Chapter 7 Field Effect Transistors Pg no. 241\n",
"clear;\n",
"clc;\n",
"\n",
"//Given Data\n",
"//Figure 7.31\n",
"\n",
"gm=5D-3;//transconductance in Siemens\n",
"RD=2.7D3;//drain resistance in ohms\n",
"RL=3.3D3;//load resistance in ohms\n",
"\n",
"//Solution\n",
"\n",
"RL_eq=RD*RL/(RD+RL);//equivalent load resistance in ohms\n",
"GV_dash=gm*RL_eq;//voltage gain for loaded circuit\n",
"GV=gm*RD;//voltage gain for unloaded circuit\n",
"printf('Voltage gain GV'' = %.2f\n Unloaded a.c. voltage gain GV = %.1f',GV_dash,GV);\n",
"\n",
"//decimal approximation in textbook"
   ]
   }
,
{
		   "cell_type": "markdown",
		   "metadata": {},
		   "source": [
			"## Example 7.13: Calculation_of_circuit_parameters_for_given_circuit.sce"
		   ]
		  },
  {
"cell_type": "code",
	   "execution_count": null,
	   "metadata": {
	    "collapsed": true
	   },
	   "outputs": [],
"source": [
"clear;\n",
"clc;\n",
"\n",
"disp('AS ON PAGE NUMBER 242');\n",
"//Tested on Windows 7 Ultimate 32-bit\n",
"//Chapter 7 Field Effect Transistors Pg no. 242,243 and 244\n",
"\n",
"//Given Data\n",
"//Figure 7.37\n",
"\n",
"VGS_Q=-2.5;//quiscent gate to source voltage in volts\n",
"IDQ=5D-3;//quiscent drain current in amperes\n",
"VDD=12;//drain supply voltage in volts\n",
"IDSS=12D-3;//drain saturation current in amperes\n",
"VP=-5;//pinch off voltage in volts\n",
"YOS=20D-6;//AC drain admittance of JFET in Siemens\n",
"RS=1.5D3;//sourcce resistance in ohms\n",
"RG=1.5D6;//gate resistance in ohms\n",
"C1=0.1D-6;//gate coupling capacitance in farads\n",
"C2=0.1D-6;//drain coupling capacitance in farads\n",
"\n",
"//Solution\n",
"\n",
"disp('(i)');\n",
"gm0=2*IDSS/abs(VP);//transconductance for VGS=0 Volts in Siemens\n",
"gm=gm0*(1-VGS_Q/VP);//transconductance in Siemens\n",
"printf('gm = %.1f mS\n',gm*10^3);\n",
"\n",
"disp('(ii)');\n",
"rd=1/YOS;//AC drain resistance in ohms\n",
"printf('rd = %d kilo ohms\n',rd/10^3);\n",
"\n",
"disp('(iii)');\n",
"Zin=RG;//input impedance in ohms\n",
"printf('Zin = %.1f Mega-ohms\n',Zin/10^6);\n",
"\n",
"disp('(iv)');\n",
"Zout=1/(1/rd+1/RS+gm);//output impedance with rd connected in ohms\n",
"printf('Zout with rd = %d ohms\n',Zout);\n",
"Zout_dash=1/(1/RS+gm);//output impedance with rd disconnected in ohms\n",
"printf('Zout without rd = %.2f ohms\n',Zout_dash);\n",
"\n",
"disp('(v)');\n",
"GV=gm*rd*RS/(rd+RS+gm*rd*RS);//voltage gain with rd connected\n",
"printf('GV with rd = %.2f\n',GV);\n",
"GV_dash=gm*RS/(1+gm*RS);//voltage gain with rd disconnected\n",
"printf('GV without rd = %.3f\n',GV_dash);\n",
"\n",
"//decimal approximations in textbook\n",
"\n",
"disp('AS ON PAGE NUMBER 245');\n",
"\n",
"//Tested on Windows 7 Ultimate 32-bit\n",
"//Chapter 7 Field Effect Transistors Pg no. 245 and 246\n",
"\n",
"//Given Data\n",
"//Figure E7.13\n",
"\n",
"VDD=12;//drain supply voltage in volts\n",
"gm=4000D-6;//transconductance in Siemens\n",
"YOS=20D-6;//AC drain admittance of JFET in Siemens\n",
"RS=2.2D3;//sourcce resistance in ohms\n",
"RD=5D3;//drain resistance in ohms\n",
"RL=5D3;//load resistance in ohms\n",
"\n",
"//Solution\n",
"\n",
"RL_dash=RD*RL/(RD+RL);//equivalent load resistance in ohms\n",
"GV=gm*RL_dash;//voltage gain\n",
"Rin_source=1/gm;//input resistance at source terminal in ohms\n",
"Rin_net=Rin_source*RS/(Rin_source+RS);//net input resistance in ohms\n",
"Rout=1/(1/rd+1/RD+1/RL);//output resistance in ohms\n",
"printf('Voltage gain GV = %d\n',GV);\n",
"printf('Input resistance Rin = %.1f ohms\n',Rin_net);\n",
"printf('Output resistance Rout = %.2f kilo-ohms\n',Rout/10^3);"
   ]
   }
,
{
		   "cell_type": "markdown",
		   "metadata": {},
		   "source": [
			"## Example 7.14: Calculation_of_drain_current_for_given_circuit_specifications.sce"
		   ]
		  },
  {
"cell_type": "code",
	   "execution_count": null,
	   "metadata": {
	    "collapsed": true
	   },
	   "outputs": [],
"source": [
"//Tested on Windows 7 Ultimate 32-bit\n",
"//Chapter 7 Field Effect Transistors Pg no. 251\n",
"clear;\n",
"clc;\n",
"\n",
"//Given Data\n",
"\n",
"IDSS=15D-3;//drain saturation current in amperes\n",
"VGS0=-6;//gate to source cutoff voltage in volts\n",
"VGS_1=-2;//gate to source voltage in volts\n",
"VGS_2=2;//gate to source voltage in volts\n",
"\n",
"//Solution\n",
"\n",
"ID_1=IDSS*(1-VGS_1/VGS0)^2;//drain current for VGS_1 in amperes\n",
"ID_2=IDSS*(1-VGS_2/VGS0)^2;//drain current for VGS_2 in amperes\n",
"printf('For VGS = %d Volts\nID = %.2f mA\n\n',VGS_1,ID_1*10^3);\n",
"printf('For VGS = %d Volts\nID = %.2f mA\n\n',VGS_2,ID_2*10^3);\n",
"\n",
"//decimal are rounded off here"
   ]
   }
,
{
		   "cell_type": "markdown",
		   "metadata": {},
		   "source": [
			"## Example 7.15: Determination_of_n_channel_or_p_channel_D_MOSFET_using_circuit_specifications.sce"
		   ]
		  },
  {
"cell_type": "code",
	   "execution_count": null,
	   "metadata": {
	    "collapsed": true
	   },
	   "outputs": [],
"source": [
"//Tested on Windows 7 Ultimate 32-bit\n",
"//Chapter 7 Field Effect Transistors Pg no. 251 and 252\n",
"clear;\n",
"clc;\n",
"\n",
"//Given Data\n",
"\n",
"IDSS=20D-3;//drain saturation current in amperes\n",
"VGS0=6;//gate to source cutoff voltage in volts\n",
"VGS_1=3;//gate to source voltage in volts\n",
"VGS_2=-3;//gate to source voltage in volts\n",
"\n",
"//Solution\n",
"\n",
"ID_1=IDSS*(1-VGS_1/VGS0)^2;//drain current for VGS_1 in amperes\n",
"ID_2=IDSS*(1-VGS_2/VGS0)^2;//drain current for VGS_2 in amperes\n",
"printf('For VGS = %d Volts\nID = %d mA\n\n',VGS_1,ID_1*10^3);\n",
"printf('For VGS = %d Volts\nID = %d mA\n\n',VGS_2,ID_2*10^3);\n",
"if VGS0>0 then\n",
"    printf('Since VGS0 is positive,this is an p-channel MOSFET');\n",
"else\n",
"    printf('Since VGS0 is negative,this is an n-channel MOSFET');\n",
"end"
   ]
   }
,
{
		   "cell_type": "markdown",
		   "metadata": {},
		   "source": [
			"## Example 7.16: Calculation_of_VGS_and_VDS_for_given_circuit_parameters.sce"
		   ]
		  },
  {
"cell_type": "code",
	   "execution_count": null,
	   "metadata": {
	    "collapsed": true
	   },
	   "outputs": [],
"source": [
"//Tested on Windows 7 Ultimate 32-bit\n",
"//Chapter 7 Field Effect Transistors Pg no. 253\n",
"clear;\n",
"clc;\n",
"\n",
"//Given Data\n",
"//Figure 7.47\n",
"\n",
"ID_ON=5D-3;//ON drain current in amperes\n",
"VGS_th=5;//threshold gate to source voltage in volts\n",
"VGS=9;//gate to source voltage in volts\n",
"VDD=20;//drain supply voltage in volts\n",
"RD=1D3;//drain resistance in ohms\n",
"R1=2.2D3;//voltage divider network resistance R1 in ohms\n",
"R2=3.3D3;//voltage divider network resistance R2 in ohms\n",
"\n",
"//Solution\n",
"\n",
"VGS_Q=VDD*R2/(R1+R2);//gate to source voltage in volts\n",
"C=ID_ON/(VGS-VGS_th)^2;//constant C in ampere/volt^2\n",
"ID=C*(VGS_Q-VGS_th)^2;//drain current in amperes\n",
"VDS=VDD-ID*RD;//drain to source voltage in volts\n",
"printf('VGS = %d Volts\n VDS = %.2f Volts',VGS_Q,VDS);"
   ]
   }
,
{
		   "cell_type": "markdown",
		   "metadata": {},
		   "source": [
			"## Example 7.17: Calculation_of_VDS_for_given_D_MOSFET_circuit_parameters.sce"
		   ]
		  },
  {
"cell_type": "code",
	   "execution_count": null,
	   "metadata": {
	    "collapsed": true
	   },
	   "outputs": [],
"source": [
"//Tested on Windows 7 Ultimate 32-bit\n",
"//Chapter 7 Field Effect Transistors Pg no. 254 and 255\n",
"clear;\n",
"clc;\n",
"\n",
"//Given Data\n",
"//Figure 7.50\n",
"\n",
"IDSS=15D-3;//drain saturation current in amperes\n",
"VGS0=-6;//cut-off gate to source voltage in volts\n",
"VDD=20;//drain supply voltage in volts\n",
"RD=470;//drain resistance in ohms\n",
"RG=8.2D6;//gate resistance in ohms\n",
"\n",
"//Solution\n",
"\n",
"ID=IDSS;//drain current in amperes\n",
"VDS=VDD-ID*RD;//drain to source voltage in volts\n",
"printf('VDS = %.2f Volts',VDS);"
   ]
   }
,
{
		   "cell_type": "markdown",
		   "metadata": {},
		   "source": [
			"## Example 7.18: Calculation_of_VDS_for_given_E_MOSFET_circuit_parameters.sce"
		   ]
		  },
  {
"cell_type": "code",
	   "execution_count": null,
	   "metadata": {
	    "collapsed": true
	   },
	   "outputs": [],
"source": [
"//Tested on Windows 7 Ultimate 32-bit\n",
"//Chapter 7 Field Effect Transistors Pg no. 255 and 256\n",
"clear;\n",
"clc;\n",
"\n",
"//Given Data\n",
"//Figure 7.49(b)\n",
"\n",
"R1=8.2D3;//divider network resistance R1 in ohms\n",
"R2=15D3;//divider network resistance R2 in ohms\n",
"RD=680;//drain resistance in ohms\n",
"RS=0;//source resistance in ohms\n",
"VDD=20;//drain supply voltage in volts\n",
"ID_ON=2D-3;//ON drain current in amperes\n",
"VGS=10;//gate to source voltage in volts\n",
"VGS_th=5;//threshold voltage in volts\n",
"\n",
"//Solution\n",
"\n",
"VGS_Q=VDD*R2/(R1+R2);//gate to source voltage in volts\n",
"C=ID_ON/(VGS-VGS_th)^2;//constant C in ampere/volt^2\n",
"ID=C*(VGS_Q-VGS_th)^2;//drain current in amperes\n",
"VDS=VDD-ID*RD;//drain to source voltage in volts\n",
"printf('VDS = %.2f Volts',VDS);"
   ]
   }
,
{
		   "cell_type": "markdown",
		   "metadata": {},
		   "source": [
			"## Example 7.19: Calculation_of_VDS_for_given_circuit_parameters.sce"
		   ]
		  },
  {
"cell_type": "code",
	   "execution_count": null,
	   "metadata": {
	    "collapsed": true
	   },
	   "outputs": [],
"source": [
"//Tested on Windows 7 Ultimate 32-bit\n",
"//Chapter 7 Field Effect Transistors Pg no. 255 and 256\n",
"clear;\n",
"clc;\n",
"\n",
"//Given Data\n",
"//Figure 7.49(b)\n",
"\n",
"R1=8.2D3;//divider network resistance R1 in ohms\n",
"R2=15D3;//divider network resistance R2 in ohms\n",
"RD=680;//drain resistance in ohms\n",
"RS=0;//source resistance in ohms\n",
"VDD=20;//drain supply voltage in volts\n",
"ID_ON=2D-3;//ON drain current in amperes\n",
"VGS=10;//gate to source voltage in volts\n",
"VGS_th=5;//threshold voltage in volts\n",
"\n",
"//Solution\n",
"\n",
"VGS_Q=VDD*R2/(R1+R2);//gate to source voltage in volts\n",
"C=ID_ON/(VGS-VGS_th)^2;//constant C in ampere/volt^2\n",
"ID=C*(VGS_Q-VGS_th)^2;//drain current in amperes\n",
"VDS=VDD-ID*RD;//drain to source voltage in volts\n",
"printf('VDS = %.2f Volts',VDS);"
   ]
   }
,
{
		   "cell_type": "markdown",
		   "metadata": {},
		   "source": [
			"## Example 7.1: Calculation_of_drain_current_for_given_circuit_specifications.sce"
		   ]
		  },
  {
"cell_type": "code",
	   "execution_count": null,
	   "metadata": {
	    "collapsed": true
	   },
	   "outputs": [],
"source": [
"//Tested on Windows 7 Ultimate 32-bit\n",
"//Chapter 7 Field Effect Transistors Pg no. 220\n",
"clear;\n",
"clc;\n",
"\n",
"//Given Data\n",
"//Figure 7.7\n",
"\n",
"IDSS=15D-3;//drain saturation current in amperes\n",
"VGS_cutoff=-5;//gate to source cutoff voltage in volts\n",
"RD=300;//drain resistance in ohms\n",
"\n",
"//Solution\n",
"\n",
"VP=-VGS_cutoff;//pinch-off voltage in volts\n",
"VDS=VP;//drain to source voltage in volts should be equal to VP or more than that for constant current region\n",
"VGS=0;//gate to source voltage in volts\n",
"ID=IDSS;//drain current in amperes is saturation current because VGS=0 volts\n",
"VRD=ID*RD;//voltage drop across resistor\n",
"VD_dash_min=VRD+VDS;//minimum source voltage required for constant current region in volts\n",
"printf('Minimum VD'' required to place JFET into constant current region = %.1f Volts\n ',VD_dash_min);\n",
"VD_dash=15;//given value of VD'\n",
"if VD_dash>VD_dash_min then\n",
"    ID=IDSS;//drain current in equal to saturation current\n",
"end\n",
"printf('Drain current for VD'' = %d Volts , ID = %d mA\n And increased voltage will appear as drop in drain source terminals.',VD_dash,ID*1000);"
   ]
   }
,
{
		   "cell_type": "markdown",
		   "metadata": {},
		   "source": [
			"## Example 7.2: EX7_2.sce"
		   ]
		  },
  {
"cell_type": "code",
	   "execution_count": null,
	   "metadata": {
	    "collapsed": true
	   },
	   "outputs": [],
"source": [
"//Tested on Windows 7 Ultimate 32-bit\n",
"//Chapter 7 Field Effect Transistors Pg no. 224\n",
"clear;\n",
"clc;\n",
"\n",
"//Given Data\n",
"\n",
"IDSS=30D-3;//drain saturation current in amperes\n",
"VGS_cutoff=-10;//gate to source cutoff voltage in volts\n",
"gm0=5000D-6;//transconductance at VGS=0 Volts in Siemens\n",
"VGS=-5;//gate to source voltage in volts\n",
"\n",
"//Solution\n",
"\n",
"gm=gm0*(1-VGS/VGS_cutoff);//transconductance for given VGS in Siemens\n",
"ID=IDSS*(1-VGS/VGS_cutoff)^2;//drain current for given VGS in amperes\n",
"printf('gm = %d μS\n ',gm*10^6);\n",
"printf('ID = %.1f mA',ID*10^3);\n",
"\n",
"//calculation of gm is incorrect in textbook as gm0=5000μS and not 500μS"
   ]
   }
,
{
		   "cell_type": "markdown",
		   "metadata": {},
		   "source": [
			"## Example 7.3: EX7_3.sce"
		   ]
		  },
  {
"cell_type": "code",
	   "execution_count": null,
	   "metadata": {
	    "collapsed": true
	   },
	   "outputs": [],
"source": [
"//Tested on Windows 7 Ultimate 32-bit\n",
"//Chapter 7 Field Effect Transistors Pg no. 224 and 225\n",
"clear;\n",
"clc;\n",
"\n",
"//Given Data\n",
"\n",
"IDSS=10D-3;//drain saturation current in amperes\n",
"VP=6;//pinch-off voltage in volts\n",
"VGS=-3;//gate to source voltage in volts\n",
"\n",
"//Solution\n",
"\n",
"disp('(i)');\n",
"ID=IDSS*(1-VGS/(-VP))^2;//drain current for given VGS in amperes\n",
"printf('ID = %.1f mA',ID*10^3);\n",
"\n",
"disp('(ii)');\n",
"gm0=-2*IDSS/(-VP);//transconductance for VGS=0 Volts in Siemens\n",
"printf('gm0 = %.2f mS',gm0*10^3);\n",
"\n",
"disp('(iii)');\n",
"gm=gm0*(1-VGS/(-VP));//transconductance for given VGS in Siemens\n",
"printf('gm = %.2f mS',gm*10^3);"
   ]
   }
,
{
		   "cell_type": "markdown",
		   "metadata": {},
		   "source": [
			"## Example 7.4: Calculation_of_drain_current_for_given_circuit_specifications.sce"
		   ]
		  },
  {
"cell_type": "code",
	   "execution_count": null,
	   "metadata": {
	    "collapsed": true
	   },
	   "outputs": [],
"source": [
"//Tested on Windows 7 Ultimate 32-bit\n",
"//Chapter 7 Field Effect Transistors Pg no. 225\n",
"clear;\n",
"clc;\n",
"\n",
"//Given Data\n",
"\n",
"IDSS=15D-3;//drain saturation current in amperes\n",
"gm0=5D-3;//transconductance for VGS=0 Volts in Siemens\n",
"gm=2.5D-3;//transconductance in Siemens\n",
"\n",
"//Solution\n",
"\n",
"ID=IDSS*(gm/gm0)^2;//drain current in amperes\n",
"printf('ID = %.2f mA',ID*10^3);"
   ]
   }
,
{
		   "cell_type": "markdown",
		   "metadata": {},
		   "source": [
			"## Example 7.5: Calculation_of_circuit_parameters_for_given_circuit.sce"
		   ]
		  },
  {
"cell_type": "code",
	   "execution_count": null,
	   "metadata": {
	    "collapsed": true
	   },
	   "outputs": [],
"source": [
"//Tested on Windows 7 Ultimate 32-bit\n",
"//Chapter 7 Field Effect Transistors Pg no. 227\n",
"clear;\n",
"clc;\n",
"\n",
"//Given Data\n",
"//Figure 7.14\n",
"\n",
"VDD=15;//drain supply voltage in volts\n",
"IDSS=15D-3;//drain saturation current in amperes\n",
"VP=-6;//pinchoff voltage in volts\n",
"RD=1D3;//drain resistance in ohms\n",
"RG=2D6;//gate resistance in ohms\n",
"VGG=1.5;//gate supply voltage in volts\n",
"\n",
"//Solution\n",
"\n",
"disp('(i)');\n",
"VGS_Q=-VGG;//quiscent gate to source voltage in volts (since gate current is zero and drop across RG=0 Volts)\n",
"printf('VGS_Q = %.1f Volts',VGS_Q);\n",
"\n",
"disp('(ii)');\n",
"IDQ=IDSS*(1-VGS_Q/VP)^2;//quiscent drain current in amperes\n",
"printf('IDQ = %.3f mA',IDQ*10^3);\n",
"\n",
"disp('(iii)');\n",
"VDS=VDD-IDQ*RD;//drain to source voltage in volts\n",
"printf('VDS = %.3f Volts',VDS);\n",
"\n",
"disp('(iv)');\n",
"VD=VDS;//drain to ground voltage in volts (since source is grounded)\n",
"printf('VD = %.3f Volts',VD);\n",
"\n",
"disp('(v)');\n",
"VG=VGS_Q;//gate to ground voltage in volts (since source is grounded)\n",
"printf('VG = %.1f Volts',VG);\n",
"\n",
"disp('(vi)');\n",
"VS=0;//source to ground voltage in volts (since source is grounded)\n",
"printf('VS = %d Volts',VS);"
   ]
   }
,
{
		   "cell_type": "markdown",
		   "metadata": {},
		   "source": [
			"## Example 7.6: Calculation_of_circuit_parameters_for_given_circuit.sce"
		   ]
		  },
  {
"cell_type": "code",
	   "execution_count": null,
	   "metadata": {
	    "collapsed": true
	   },
	   "outputs": [],
"source": [
"//Tested on Windows 7 Ultimate 32-bit\n",
"//Chapter 7 Field Effect Transistors Pg no. 229\n",
"clear;\n",
"clc;\n",
"\n",
"//Given Data\n",
"//Figure 7.16\n",
"\n",
"VDD=15;//drain supply voltage in volts\n",
"IDSS=10D-3;//drain saturation current in amperes\n",
"VP=-6;//pinchoff voltage in volts\n",
"RD=1D3;//drain resistance in ohms\n",
"RG=2D6;//gate resistance in ohms\n",
"RS=1D3;//source resistance in ohms\n",
"\n",
"//Solution\n",
"\n",
"disp('(i)');\n",
"ID_A=5D-3;ID_B=3D-3;//assuming two currents below and above the characteristic curve\n",
"VGS_A=ID_A*RS;VGS_B=ID_B*RS;//calculating corresponding gate to source voltages in volts\n",
"//constructing a line joining A and B. It intersects characteristic curve at Q point VGS_Q\n",
"VGS_Q=-3.2;//quiscent gate to source voltage in volts (solved using characteristic graph)\n",
"printf('VGS_Q = %.1f Volts',VGS_Q);\n",
"\n",
"disp('(ii)');\n",
"IDQ=-VGS_Q/RS;//quiscent drain current in amperes\n",
"printf('IDQ = %.1f mA',IDQ*10^3);\n",
"\n",
"disp('(iii)');\n",
"VDS=VDD-IDQ*(RD+RS);//drain to source voltage in volts\n",
"printf('VDS = %.1f Volts',VDS);\n",
"\n",
"disp('(iv)');\n",
"VS=IDQ*RS;//source to ground voltage in volts\n",
"printf('VS = %.1f Volts',VS);\n",
"\n",
"disp('(v)');\n",
"VG=0;//gate to ground voltage in volts (since gate current is almost zero,drop across RG is zero)\n",
"printf('VG = %d Volts',VG);\n",
"\n",
"disp('(vi)');\n",
"VD=VDD-IDQ*RD;//drain to ground voltage in volts (since source is grounded)\n",
"printf('VD = %.1f Volts',VD);\n",
"\n",
"//error in calculations in textbook as values are not taken as per the figure"
   ]
   }
,
{
		   "cell_type": "markdown",
		   "metadata": {},
		   "source": [
			"## Example 7.7: Calculation_of_circuit_parameters_for_given_circuit.sce"
		   ]
		  },
  {
"cell_type": "code",
	   "execution_count": null,
	   "metadata": {
	    "collapsed": true
	   },
	   "outputs": [],
"source": [
"//Tested on Windows 7 Ultimate 32-bit\n",
"//Chapter 7 Field Effect Transistors Pg no. 230 and 231\n",
"clear;\n",
"clc;\n",
"\n",
"//Given Data\n",
"//Figure 7.18 and 7.19\n",
"\n",
"VDD=18;//drain supply voltage in volts\n",
"IDSS=12D-3;//drain saturation current in amperes\n",
"VP=-2;//pinchoff voltage in volts\n",
"RD=1172;//drain resistance in ohms\n",
"RS=1028;//source resistance in ohms\n",
"VSS=9;//source supply voltage in volts\n",
"\n",
"//Solution\n",
"\n",
"disp('(i)');\n",
"VGS_a=9;//for ID=0 mA VGS=VSS volts\n",
"ID_a=8.754D-3;//for VGS=0 volts ID=VSS/RS amperes0\n",
"//a load line is constructed using these values and the intersection with charecteristic curve gives Q point\n",
"IDQ=9D-3;//quiscent drain current found graphically in amperes\n",
"printf('IDQ = %d mA',IDQ*10^3);\n",
"\n",
"disp('(ii)');\n",
"VGS_Q=-0.25;//quiscent gate to source voltage in volts found graphically\n",
"printf('VGS_Q = %.2f Volts',VGS_Q);\n",
"\n",
"disp('(iii)');\n",
"VDS=VDD-IDQ*(RD+RS)+VSS;//drain to source voltage in volts\n",
"printf('VDS = %.1f Volts',VDS);\n",
"\n",
"disp('(iv)');\n",
"VD=VDD-IDQ*RD;//drain to ground voltage in volts (since source is grounded)\n",
"printf('VD = %.2f Volts',VD);\n",
"\n",
"disp('(v)');\n",
"VS=VD-VDS;//source to ground voltage in volts\n",
"printf('VS = %.2f Volts',VS);"
   ]
   }
,
{
		   "cell_type": "markdown",
		   "metadata": {},
		   "source": [
			"## Example 7.8: Calculation_of_circuit_parameters_for_given_circuit.sce"
		   ]
		  },
  {
"cell_type": "code",
	   "execution_count": null,
	   "metadata": {
	    "collapsed": true
	   },
	   "outputs": [],
"source": [
"//Tested on Windows 7 Ultimate 32-bit\n",
"//Chapter 7 Field Effect Transistors Pg no. 232,233 and 234\n",
"clear;\n",
"clc;\n",
"\n",
"//Given Data\n",
"//Figure 7.23 and 7.24\n",
"\n",
"VDD=18;//drain supply voltage in volts\n",
"IDSS=10D-3;//drain saturation current in amperes\n",
"VP=-5;//pinchoff voltage in volts\n",
"RD=1.5D3;//drain resistance in ohms\n",
"RS=1D3;//source resistance in ohms\n",
"R1=1.5D6;//divider network resistance R1 in ohms\n",
"R2=180D3;//divider network resistance R2 in ohms\n",
"C1=5D-6;//gate coupling capacitance in farads\n",
"C2=25D-6;//source bypass capacitance in farads\n",
"C3=15D-6;//drain coupling capacitance in farads\n",
"\n",
"//Solution\n",
"\n",
"disp('(i)');\n",
"VG=VDD*R2/(R1+R2);//gate to ground voltage in volts\n",
"VGS_a=1.93;//for ID=0 mA VGS=VSS volts\n",
"ID_a=1.93D-3;//for VGS=0 volts ID=VG/RS amperes0\n",
"//a load line is constructed using these values and the intersection with charecteristic curve gives Q point\n",
"IDQ=3.64D-3;//quiscent drain current found graphically in amperes\n",
"printf('IDQ = %.2f mA',IDQ*10^3);\n",
"\n",
"disp('(ii)');\n",
"VGS_Q=-1.85;//quiscent gate to source voltage in volts found graphically\n",
"printf('VGS_Q = %.2f Volts',VGS_Q);\n",
"\n",
"disp('(iii)');\n",
"VD=VDD-IDQ*RD;//drain to ground voltage in volts (since source is grounded)\n",
"printf('VD = %.2f Volts',VD);\n",
"\n",
"disp('(iv)');\n",
"VS=IDQ*RS;//source to ground voltage in volts\n",
"printf('VS = %.2f Volts',VS);\n",
"\n",
"disp('(v)');\n",
"VDS=VDD-IDQ*(RD+RS);//drain to source voltage in volts\n",
"printf('VDS = %.1f Volts',VDS);\n",
""
   ]
   }
,
{
		   "cell_type": "markdown",
		   "metadata": {},
		   "source": [
			"## Example 7.9: Calculation_of_voltage_gain_for_given_circuit_parameters.sce"
		   ]
		  },
  {
"cell_type": "code",
	   "execution_count": null,
	   "metadata": {
	    "collapsed": true
	   },
	   "outputs": [],
"source": [
"//Tested on Windows 7 Ultimate 32-bit\n",
"//Chapter 7 Field Effect Transistors Pg no. 237\n",
"clear;\n",
"clc;\n",
"\n",
"//Given Data\n",
"\n",
"gm=5D-3;//transconductance in Siemens\n",
"RD=1D3;//drain resistance in ohms\n",
"rd=7D3;//AC drain resistance in ohms\n",
"\n",
"//Solution\n",
"\n",
"GV=gm*RD*rd/(RD+rd);//voltage gain\n",
"printf('GV = %.3f',GV);"
   ]
   }
],
"metadata": {
		  "kernelspec": {
		   "display_name": "Scilab",
		   "language": "scilab",
		   "name": "scilab"
		  },
		  "language_info": {
		   "file_extension": ".sce",
		   "help_links": [
			{
			 "text": "MetaKernel Magics",
			 "url": "https://github.com/calysto/metakernel/blob/master/metakernel/magics/README.md"
			}
		   ],
		   "mimetype": "text/x-octave",
		   "name": "scilab",
		   "version": "0.7.1"
		  }
		 },
		 "nbformat": 4,
		 "nbformat_minor": 0
}
