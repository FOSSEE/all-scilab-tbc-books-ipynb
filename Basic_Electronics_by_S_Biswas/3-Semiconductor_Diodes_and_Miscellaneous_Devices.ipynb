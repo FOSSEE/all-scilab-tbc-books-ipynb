{
"cells": [
 {
		   "cell_type": "markdown",
	   "metadata": {},
	   "source": [
       "# Chapter 3: Semiconductor Diodes and Miscellaneous Devices"
	   ]
	},
{
		   "cell_type": "markdown",
		   "metadata": {},
		   "source": [
			"## Example 3.10: Calculation_of_Vz_for_zener_diode_at_given_temperature.sce"
		   ]
		  },
  {
"cell_type": "code",
	   "execution_count": null,
	   "metadata": {
	    "collapsed": true
	   },
	   "outputs": [],
"source": [
"//Tested on Windows 7 Ultimate 32-bit\n",
"//Chapter 3 Semiconductor Diodes and Miscellaneous Devices Pg no. 95\n",
"clear;\n",
"clc;\n",
"\n",
"//Given Data\n",
"\n",
"Pz=0.5;//power dissipation of zener diode in watts\n",
"Vz=12;//zener breakdown voltage in volts\n",
"Tr=25;//reference temperature in degree celsius\n",
"T=90;//given temperature in degree celcius\n",
"Tc=0.075/100;//Temperature co-efficient in degree celcius inverse\n",
"\n",
"//Solution\n",
"\n",
"dVz=Vz*Tc*(T-Tr);//Change in Vz in volts\n",
"Vz90=Vz+dVz;//Zener voltage at T=90 degree celsius\n",
"\n",
"printf('The value of Vz at T=90° C Vz=%.2f Volts',Vz90);"
   ]
   }
,
{
		   "cell_type": "markdown",
		   "metadata": {},
		   "source": [
			"## Example 3.11: Determination_of_bias_for_a_zener_diode.sce"
		   ]
		  },
  {
"cell_type": "code",
	   "execution_count": null,
	   "metadata": {
	    "collapsed": true
	   },
	   "outputs": [],
"source": [
"//Tested on Windows 7 Ultimate 32-bit\n",
"//Chapter 3 Semiconductor Diodes and Miscellaneous Devices Pg no. 96\n",
"clear;\n",
"clc;\n",
"\n",
"//Given Data\n",
"//From Figure 3.27\n",
"\n",
"V=15;//value of voltage source in volts\n",
"Vz=12;//zener breakdown voltage in volts\n",
"R=390;//series resistance in ohms\n",
"Izmax=10;//maximum zener current in milli-amperes\n",
"\n",
"//Solution\n",
"\n",
"//Assuming ideal diode Vz=12V and Rz=0 ohms\n",
"Vr=V-Vz;//voltage across resistor in volts\n",
"Iz=Vr/R*1000;//current through circuit in milli-amperes\n",
"printf('Iz max=%d mA\n Iz=%.2f mA\n',Izmax,Iz);\n",
"\n",
"if Iz<Izmax then\n",
"    printf('The diode is properly biased.');\n",
"else printf('The diode is not properly biased.');\n",
"end"
   ]
   }
,
{
		   "cell_type": "markdown",
		   "metadata": {},
		   "source": [
			"## Example 3.12: Determination_of_bias_for_a_zener_diode_and_calculating_power_dissipation.sce"
		   ]
		  },
  {
"cell_type": "code",
	   "execution_count": null,
	   "metadata": {
	    "collapsed": true
	   },
	   "outputs": [],
"source": [
"//Tested on Windows 7 Ultimate 32-bit\n",
"//Chapter 3 Semiconductor Diodes and Miscellaneous Devices Pg no. 96\n",
"clear;\n",
"clc;\n",
"\n",
"//Given Data\n",
"//From Figure 3.27\n",
"\n",
"V=15;//value of voltage source in volts\n",
"Vz=12;//zener breakdown voltage in volts\n",
"R=390;//series resistance in ohms\n",
"rz=10;//diode resistance in ohms\n",
"Izmax=10;//maximum zener current in milli-amperes\n",
"\n",
"//Solution\n",
"\n",
"//Assuming ideal diode Vz=12V and Rz=0 ohms\n",
"Vr=V-Vz;//voltage across resistor in volts\n",
"Iz=Vr/(R+rz)*1000;//current through circuit in milli-amperes\n",
"\n",
"if Iz<Izmax then\n",
"    printf('The diode is properly biased.\n');\n",
"else printf('The diode is not biased properly.\n');\n",
"end\n",
"\n",
"Pz=Vz*Iz;//power dissipation in milli-watts\n",
"\n",
"printf('The dissipated power = Pz = %d mW',Pz);"
   ]
   }
,
{
		   "cell_type": "markdown",
		   "metadata": {},
		   "source": [
			"## Example 3.13: Determination_of_bias_for_a_zener_diode_and_calculating_power_dissipation_and_Iz.sce"
		   ]
		  },
  {
"cell_type": "code",
	   "execution_count": null,
	   "metadata": {
	    "collapsed": true
	   },
	   "outputs": [],
"source": [
"//Tested on Windows 7 Ultimate 32-bit\n",
"//Chapter 3 Semiconductor Diodes and Miscellaneous Devices Pg no. 97\n",
"clear;\n",
"clc;\n",
"\n",
"//Given Data\n",
"//From Figure 3.28\n",
"\n",
"V=15;//value of voltage source in volts\n",
"Vz=10;//zener breakdown voltage in volts\n",
"Rs=300;//series resistance R in ohms\n",
"Rp=900;//shunt resistance R' in ohms\n",
"Izmax=10;//maximum zener current in milli-amperes\n",
"\n",
"//Solution\n",
"\n",
"//Assuming ideal diode Vz=12V and Rz=0 ohms\n",
"Vrs=V-Vz;//voltage across resistor in volts\n",
"Irs=Vrs/Rs*1000;//current through resistor R in milli-amperes\n",
"Irp=Vz/Rp*1000;//current through resistor R' in milli-amperes\n",
"\n",
"Iz=Irs-Irp;//current through diode in milli-amperes\n",
"\n",
"if Iz<Izmax then\n",
"    printf('The diode is properly biased.\n');\n",
"else printf('The diode is not biased properly.\n');\n",
"end\n",
"\n",
"Pd=Vz*Iz;//power dissipation in milli-watts\n",
"\n",
"printf('The dissipated power = Pd = %.1f mW',Pd);"
   ]
   }
,
{
		   "cell_type": "markdown",
		   "metadata": {},
		   "source": [
			"## Example 3.14: Calculation_of_output_voltage_for_given_zener_circuit.sce"
		   ]
		  },
  {
"cell_type": "code",
	   "execution_count": null,
	   "metadata": {
	    "collapsed": true
	   },
	   "outputs": [],
"source": [
"//Tested on Windows 7 Ultimate 32-bit\n",
"//Chapter 3 Semiconductor Diodes and Miscellaneous Devices Pg no. 97 and 98\n",
"clear;\n",
"clc;\n",
"\n",
"//Given Data\n",
"\n",
"Vin=18;//input voltage in volts\n",
"Vz=10;//zener breakdown voltage in volts\n",
"Tr=20;//reference temperature in degree celsius\n",
"T=40;//given temperature in degree celcius\n",
"Tc=0.075/100;//Temperature co-efficient in degree celcius inverse\n",
"R=150;//value of resistor in ohms\n",
"\n",
"//Solution\n",
"\n",
"dVz=Vz*Tc*(T-Tr);//Change in Vz in volts\n",
"Vz40=Vz+dVz;//Zener voltage at T=40 degree celsius\n",
"Vr=Vin-Vz40;//voltage drop across resistor\n",
"\n",
"printf('The output voltage Vo = Vr =%.2f Volts',Vr);"
   ]
   }
,
{
		   "cell_type": "markdown",
		   "metadata": {},
		   "source": [
			"## Example 3.15: Calculation_of_all_branch_currents_for_given_zener_circuit.sce"
		   ]
		  },
  {
"cell_type": "code",
	   "execution_count": null,
	   "metadata": {
	    "collapsed": true
	   },
	   "outputs": [],
"source": [
"//Tested on Windows 7 Ultimate 32-bit\n",
"//Chapter 3 Semiconductor Diodes and Miscellaneous Devices Pg no. 99 and 100\n",
"clear;\n",
"clc;\n",
"\n",
"//Given Data\n",
"\n",
"Vin1=50;//input voltage in volts\n",
"Vin2=75;//input voltage in volts\n",
"Vz=15;//zener breakdown voltage in volts\n",
"Pmax=1;//diode maximum power dissipation in watts\n",
"R=3.9D3;//value of resistor in ohms\n",
"Rload=3D3;//value of load resistance in ohms\n",
"\n",
"//Solution\n",
"//With reference to Figure 3.32\n",
"disp('Case (a)');\n",
"disp('Vin=50V');\n",
"Vbc=Vz;//voltage across diode in volts\n",
"Vab=Vin1-Vbc;//voltage across resiston in volts\n",
"I=Vab/R*1000;//battery current in milli-amperes\n",
"Iload=Vbc/Rload*1000;//current through load in milli-amperes\n",
"Iz=I-Iload;//current through diode in milli-amperes\n",
"Izmax=Pmax/Vz*1000;//maximum current through diode in milli-amperes\n",
"\n",
"printf('\n Battery current I = %.2f mA\n Zenner current Iz = %.2f mA\n Load current Iload = %d mA',I,Iz,Iload)\n",
"\n",
"disp('Case (b)');\n",
"disp('Vin=75V');\n",
"Vbc=Vz;//voltage across diode in volts\n",
"Vab=Vin2-Vbc;//voltage across resiston in volts\n",
"I=Vab/R*1000;//battery current in milli-amperes\n",
"Iload=Vbc/Rload*1000;//current through load in milli-amperes\n",
"Iz=I-Iload;//current through diode in milli-amperes\n",
"Izmax=Pmax/Vz*1000;//maximum current through diode in milli-amperes\n",
"\n",
"printf('\n Battery current I = %.2f mA\n Zenner current Iz = %.2f mA\n Load current Iload = %d mA',I,Iz,Iload)\n",
"\n",
"printf('\n\n Load current remains constant for any voltage input.');"
   ]
   }
,
{
		   "cell_type": "markdown",
		   "metadata": {},
		   "source": [
			"## Example 3.16: Calculation_of_zener_current_for_different_load_resistances.sce"
		   ]
		  },
  {
"cell_type": "code",
	   "execution_count": null,
	   "metadata": {
	    "collapsed": true
	   },
	   "outputs": [],
"source": [
"//Tested on Windows 7 Ultimate 32-bit\n",
"//Chapter 3 Semiconductor Diodes and Miscellaneous Devices Pg no. 100\n",
"clear;\n",
"clc;\n",
"\n",
"//Given Data\n",
"\n",
"Vin=50;//input voltage in volts\n",
"Vz=30;//zener breakdown voltage in volts\n",
"R=2D3;//value of resistor in ohms\n",
"\n",
"//Solution\n",
"//With reference to Figure 3.32\n",
"\n",
"disp('Case (i)');\n",
"disp('Rload=30 kohm');\n",
"Rload=30D3;//load resistance in ohms\n",
"Vbc=Vz;//voltage across diode in volts\n",
"Vab=Vin-Vbc;//voltage across resiston in volts\n",
"I=Vab/R*1000;//battery current in milli-amperes\n",
"Iload=Vbc/Rload*1000;//current through load in milli-amperes\n",
"Iz=I-Iload;//current through diode in milli-amperes\n",
"\n",
"printf('\n Zenner current Iz = %d mA\n',Iz)\n",
"\n",
"disp('Case (ii)');\n",
"disp('Rload=10 kohm');\n",
"Rload=10D3;//load resistance in ohms\n",
"Vbc=Vz;//voltage across diode in volts\n",
"Vab=Vin-Vbc;//voltage across resiston in volts\n",
"I=Vab/R*1000;//battery current in milli-amperes\n",
"Iload=Vbc/Rload*1000;//current through load in milli-amperes\n",
"Iz=I-Iload;//current through diode in milli-amperes\n",
"\n",
"printf('\n Zenner current Iz = %d mA\n',Iz)\n",
"\n",
"disp('Case (iii)');\n",
"disp('Rload=3 kohm');\n",
"Rload=3D3;//load resistance in ohms\n",
"Vbc=Vz;//voltage across diode in volts\n",
"Vab=Vin-Vbc;//voltage across resiston in volts\n",
"I=Vab/R*1000;//battery current in milli-amperes\n",
"Iload=Vbc/Rload*1000;//current through load in milli-amperes\n",
"Iz=I-Iload;//current through diode in milli-amperes\n",
"\n",
"printf('\n Zenner current Iz = %d mA\n',Iz)\n",
"\n",
"printf('\n Since Iz=0 the diode will come out of breakdown region\n and diode will no longer act as a voltage regulator.');"
   ]
   }
,
{
		   "cell_type": "markdown",
		   "metadata": {},
		   "source": [
			"## Example 3.17: EX3_17.sce"
		   ]
		  },
  {
"cell_type": "code",
	   "execution_count": null,
	   "metadata": {
	    "collapsed": true
	   },
	   "outputs": [],
"source": [
"//Tested on Windows 7 Ultimate 32-bit\n",
"//Chapter 3 Semiconductor Diodes and Miscellaneous Devices Pg no. 101\n",
"clear;\n",
"clc;\n",
"\n",
"//Given Data\n",
"\n",
"Vin1=24;//value of voltage source in volts\n",
"Vin2=20;//value of voltage source in volts\n",
"Vz=12;//zener breakdown voltage in volts\n",
"Izmax=20;//maximum zener current in milli-amperes\n",
"\n",
"//Solution\n",
"\n",
"disp('Vin=24V');\n",
"R=(Vin1-Vz)/Izmax*1000;//series resistance required for maximum safe current in ohms\n",
"\n",
"printf('The minimum value of resistor required R=%d ohms.',R);\n",
"printf('Using R=680 ohms i.e. standaed value.')\n",
"R=680;//standard value of resistor selected\n",
"disp('Vin=20V');\n",
"Iz=(Vin2-Vz)/R*1000;//value of zener current in milli-amperes\n",
"\n",
"printf('Current level at Vin=20V is Iz=%.1f mA',Iz);"
   ]
   }
,
{
		   "cell_type": "markdown",
		   "metadata": {},
		   "source": [
			"## Example 3.18: Design_of_a_zener_voltage_regulator.sce"
		   ]
		  },
  {
"cell_type": "code",
	   "execution_count": null,
	   "metadata": {
	    "collapsed": true
	   },
	   "outputs": [],
"source": [
"//Tested on Windows 7 Ultimate 32-bit\n",
"//Chapter 3 Semiconductor Diodes and Miscellaneous Devices Pg no. 101 and 102\n",
"clear;\n",
"clc;\n",
"\n",
"//Given Data\n",
"\n",
"Vin=20;//supply input voltage in volts\n",
"Vz=9.1;//zener breakdown voltage in volts\n",
"Pmax=400D-3;//diode maximum power dissipation in watts\n",
"Izmin=5;//minimum current for diode to be in breakdown region in milli-amperes\n",
"\n",
"//Solution\n",
"\n",
"Izmax=Pmax/Vz;//maximum safe current through diode in milli-amperes\n",
"R=(Vin-Vz)/Izmax;\n",
"\n",
"printf('Optimum value of resistor R=%.2f ohms.\n',R);\n",
"printf(' Standard value is 270 ohms.\n');\n",
"\n",
"Iloadmax=Izmax*1000-Izmin;//maximum load current in milli-amperes\n",
"printf('Maximum load current in the circuit Iload max=%.2f mA',Iloadmax)"
   ]
   }
,
{
		   "cell_type": "markdown",
		   "metadata": {},
		   "source": [
			"## Example 3.19: Calculation_of_range_of_voltage_for_zener_diode_to_be_on.sce"
		   ]
		  },
  {
"cell_type": "code",
	   "execution_count": null,
	   "metadata": {
	    "collapsed": true
	   },
	   "outputs": [],
"source": [
"//Tested on Windows 7 Ultimate 32-bit\n",
"//Chapter 3 Semiconductor Diodes and Miscellaneous Devices Pg no. 102\n",
"clear;\n",
"clc;\n",
"\n",
"//Given Data\n",
"\n",
"Vz=18;//zener breakdown voltage in volts\n",
"Izmax=60;//maximum safe current through diode in milli-amperes \n",
"R=150;//series resistance in ohms\n",
"Rl=1D3;//load resistance in ohms\n",
"\n",
"//Solution\n",
"\n",
"Vinmin=((Rl+R)/Rl)*Vz;//minimum value of input voltage\n",
"Iload=Vz/Rl*1000;//load current in milli-amperes\n",
"Imax=Izmax+Iload;//maximum current through battery in milli-amperes\n",
"Vinmax=Vz+Imax/1000*R;//maximum value of input voltage\n",
"\n",
"printf('So the input voltage ranges from %.1f volts to %.1f volts',Vinmin,Vinmax);"
   ]
   }
,
{
		   "cell_type": "markdown",
		   "metadata": {},
		   "source": [
			"## Example 3.1: Calculation_of_output_voltage_for_half_wave_transformer_rectifier.sce"
		   ]
		  },
  {
"cell_type": "code",
	   "execution_count": null,
	   "metadata": {
	    "collapsed": true
	   },
	   "outputs": [],
"source": [
"//Tested on Windows 7 Ultimate 32-bit\n",
"//Chapter 3 Semiconductor Diodes and Miscellaneous Devices Pg no. 71\n",
"clear;\n",
"clc;\n",
"\n",
"//Given Data\n",
"\n",
"//Figure 3.14\n",
"e1=4;//Relative emf of primary side\n",
"e2=1;//Relative emf of secondary side\n",
"vinp=220;//Input peak voltage in volts\n",
"Vd=0.7;//Forward voltage drop of diode\n",
"\n",
"//Solution\n",
"\n",
"tr=e2/e1;//turns ratio n2/n1\n",
"V2=tr*vinp;//as v2/v1=n2/n1\n",
"Voutp=V2-Vd;//Vout across Rl in volts\n",
"\n",
"printf('The peak value of rectified output voltage is:\n(Vout)peak=%.1f V',Voutp);"
   ]
   }
,
{
		   "cell_type": "markdown",
		   "metadata": {},
		   "source": [
			"## Example 3.20: Calculation_of_series_resistance_and_dark_current_for_given_relay_circuit.sce"
		   ]
		  },
  {
"cell_type": "code",
	   "execution_count": null,
	   "metadata": {
	    "collapsed": true
	   },
	   "outputs": [],
"source": [
"//Tested on Windows 7 Ultimate 32-bit\n",
"//Chapter 3 Semiconductor Diodes and Miscellaneous Devices Pg no. 119 and 120\n",
"clear;\n",
"clc;\n",
"\n",
"//Given Data\n",
"\n",
"Irelay=10;//relay current in milli-amperes\n",
"Int=400//light intensity in lm/m^2\n",
"Rc_d=100D3;//cell resistance in ohms when it is dark\n",
"Rc_i=1200;//cell resistance in ohms when illumination is 500lm/m^2\n",
"V=30;//source voltage in volts\n",
"\n",
"//Solution\n",
"\n",
"R=V/Irelay*1000-Rc_i;//series resistance in ohms\n",
"Id=V/(R+Rc_d)*1000;//dark current in milli-amperes\n",
"\n",
"printf('Series resistance R = %d ohms\n Dark current = %.3f mA ',R,Id)"
   ]
   }
,
{
		   "cell_type": "markdown",
		   "metadata": {},
		   "source": [
			"## Example 3.2: Calculation_of_important_quantities_for_half_wave_rectifier.sce"
		   ]
		  },
  {
"cell_type": "code",
	   "execution_count": null,
	   "metadata": {
	    "collapsed": true
	   },
	   "outputs": [],
"source": [
"//Tested on Windows 7 Ultimate 32-bit\n",
"//Chapter 3 Semiconductor Diodes and Miscellaneous Devices Pg no. 89\n",
"clear;\n",
"clc;\n",
"\n",
"//Given Data\n",
"\n",
"r=1.0;//Diode resistance in ohms\n",
"Rl=100;//Load resistance in ohms\n",
"Ep=30;//Input supply voltage in volts peak\n",
"\n",
"//Solution\n",
"\n",
"disp('(a)');\n",
"Ip=Ep/(Rl+r)*1000;//peak current in milli-amperes\n",
"Irms=Ip/sqrt(2);//rms current in milli-amperes\n",
"Iavg=Ip/%pi;//average or d.c. value of current in in milli-amperes\n",
"\n",
"printf('The peak value of current = Ip=%d mA\n',Ip);\n",
"printf('The rms value of current = Irms=%.1f mA\n',Irms);\n",
"printf('The average or d.c. value of current = Iav=%.1f mA\n',Iavg);\n",
"\n",
"disp('(b)');\n",
"Pdc=(Iavg/1000)^2*Rl//d.c. output power in watts\n",
"\n",
"printf('The d.c. output power = Pdc=%.3f watts\n',Pdc);\n",
"\n",
"disp('(c)');\n",
"Pac=(Irms/1000)^2*(Rl+r);//input ac power in watts\n",
"\n",
"printf('The a.c. input power = Pin=%.2f watts\n',Pac);\n",
"\n",
"disp('(d)');\n",
"n=Pdc/Pac;//Rectification efficiency is output dc power over input ac power\n",
"\n",
"printf('Rectification efficiency= %d percentage',n*100);\n",
"\n",
"\n",
"//Error in textbook as Irms=Ip/sqrt(2) and not Ip/2"
   ]
   }
,
{
		   "cell_type": "markdown",
		   "metadata": {},
		   "source": [
			"## Example 3.3: Calculation_of_important_quantities_for_center_tapped_full_wave_rectifier.sce"
		   ]
		  },
  {
"cell_type": "code",
	   "execution_count": null,
	   "metadata": {
	    "collapsed": true
	   },
	   "outputs": [],
"source": [
"//Tested on Windows 7 Ultimate 32-bit\n",
"//Chapter 3 Semiconductor Diodes and Miscellaneous Devices Pg no. 89\n",
"clear;\n",
"clc;\n",
"\n",
"//Given Data\n",
"\n",
"Rl=470;//Load resistance in ohms\n",
"r=2;//Diodes dynamic resistance in ohms\n",
"esp=50;//Input signal voltage magnitude in volts peak\n",
"esf=314/(2*%pi);//Input signal frequncy in hertz\n",
"\n",
"//Solution\n",
"\n",
"disp('(a)');\n",
"Ep=esp*sqrt(2);//peak voltage in volts\n",
"Ip=Ep/(Rl+r)*1000;//peak current in amperes\n",
"\n",
"printf('The peak value of current = Ip=%.1f mA\n',Ip*1000);\n",
"\n",
"disp('(b)');\n",
"Iavg=2*Ip/%pi;//average or d.c. value of current in in milli-amperes\n",
"\n",
"printf('The average or d.c. value of current = Iav=%.2f mA\n',Iavg);\n",
"\n",
"disp('(c)');\n",
"Irms=Ip/sqrt(2);//rms current in milli-amperes\n",
"\n",
"printf('The rms value of current = Irms=%.2f mA\n',Irms);\n",
"\n",
"disp('(d)');\n",
"RF=sqrt((Irms/Iavg)^2-1);//ripple factor\n",
"\n",
"printf('The ripple factor = RF=%.4f\n',RF);\n",
"\n",
"disp('(e)');\n",
"Pdc=(Iavg/1000)^2*Rl//d.c. output power in watts\n",
"Pac=(Irms/1000)^2*(Rl+r);//input ac power in watts\n",
"n=Pdc/Pac;//Rectification efficiency is output dc power over input ac power\n",
"\n",
"printf('Rectification efficiency= %.2f percentage',n*100);\n",
"\n",
"//Efficiency calculation error in textbook and also decimal errors due to approximations"
   ]
   }
,
{
		   "cell_type": "markdown",
		   "metadata": {},
		   "source": [
			"## Example 3.4: Calculation_of_capacitance_for_half_wave_rectifier_with_shunt_capacitance_filter.sce"
		   ]
		  },
  {
"cell_type": "code",
	   "execution_count": null,
	   "metadata": {
	    "collapsed": true
	   },
	   "outputs": [],
"source": [
"//Tested on Windows 7 Ultimate 32-bit\n",
"//Chapter 3 Semiconductor Diodes and Miscellaneous Devices Pg no. 90\n",
"clear;\n",
"clc;\n",
"\n",
"//Given Data\n",
"\n",
"Rl=2D3;//Load resistance in ohms\n",
"esp=50;//Input signal voltage magnitude in volts peak\n",
"esf=314/(2*%pi);//Input signal frequncy in hertz\n",
"Vr_to_Vdc=6/100;//Ratio of peak to peak ripple voltage to d.c. output voltage\n",
"\n",
"//Solution\n",
"\n",
"//Using figure E3.4\n",
"//From right angled triangle pqr\n",
"\n",
"C=1/(esf*Rl*Vr_to_Vdc)*10^6;//Capacitance in micro faraday;\n",
"\n",
"printf('The size of filter capacitor is C = %.1f μF',C);\n",
"\n",
"//Decimal errors in textbook due to approximations"
   ]
   }
,
{
		   "cell_type": "markdown",
		   "metadata": {},
		   "source": [
			"## Example 3.5: Calculation_of_output_power_in_filter_capacitor_connected_full_wave_rectifier.sce"
		   ]
		  },
  {
"cell_type": "code",
	   "execution_count": null,
	   "metadata": {
	    "collapsed": true
	   },
	   "outputs": [],
"source": [
"//Tested on Windows 7 Ultimate 32-bit\n",
"//Chapter 3 Semiconductor Diodes and Miscellaneous Devices Pg no. 90 and 91\n",
"clear;\n",
"clc;\n",
"\n",
"//Given Data\n",
"//Taken as in Example 3.4\n",
"esp=50;//Input signal voltage magnitude in volts peak\n",
"esf=314/(2*%pi);//Input signal frequncy in hertz\n",
"Vr_to_Vdc=6/100;//Ratio of peak to peak ripple voltage to d.c. output voltage\n",
"\n",
"//Solution\n",
"\n",
"//Using figure E3.5\n",
"\n",
"e0av=esp*(1-Vr_to_Vdc/2);//average value of d.c. output voltage in volts\n",
"printf('The average value of d.c. output voltage e0av = %.1f Volts',e0av);"
   ]
   }
,
{
		   "cell_type": "markdown",
		   "metadata": {},
		   "source": [
			"## Example 3.6: Calculation_of_ripple_factor_for_full_wave_rectifier.sce"
		   ]
		  },
  {
"cell_type": "code",
	   "execution_count": null,
	   "metadata": {
	    "collapsed": true
	   },
	   "outputs": [],
"source": [
"//Tested on Windows 7 Ultimate 32-bit\n",
"//Chapter 3 Semiconductor Diodes and Miscellaneous Devices Pg no. 91\n",
"clear;\n",
"clc;\n",
"\n",
"//Given Data\n",
"\n",
"Rl=1D3;//Load resistance in ohms\n",
"esf=50;//Input signal frequncy in hertz\n",
"RF=4/100;//Ripple Factor\n",
"\n",
"//Solution\n",
"\n",
"//Using figure E3.6\n",
"//From right angled triangle pqr\n",
"\n",
"C=1/(esf*Rl*2*RF)*10^6;//Capacitance in micro faraday;\n",
"\n",
"printf('The size of filter capacitor is C = %d μF',C);\n",
"\n",
"//Error in textbook as ripple factor is already given and capacitance is calculated"
   ]
   }
,
{
		   "cell_type": "markdown",
		   "metadata": {},
		   "source": [
			"## Example 3.7: Calculation_of_capacitance_for_full_wave_rectifier_with_shunt_capacitance_filter.sce"
		   ]
		  },
  {
"cell_type": "code",
	   "execution_count": null,
	   "metadata": {
	    "collapsed": true
	   },
	   "outputs": [],
"source": [
"//Tested on Windows 7 Ultimate 32-bit\n",
"//Chapter 3 Semiconductor Diodes and Miscellaneous Devices Pg no. 91\n",
"clear;\n",
"clc;\n",
"\n",
"//Given Data\n",
"\n",
"Rl=200;//Load resistance in ohms\n",
"esf=50;//Input signal frequncy in hertz\n",
"RF=5/100;//Ripple Factor\n",
"\n",
"//Solution\n",
"\n",
"C=1/(esf*Rl*2*RF)*10^6;//Capacitance in micro faraday;\n",
"\n",
"printf('The size of shunt capacitor is C = %d μF',C);"
   ]
   }
,
{
		   "cell_type": "markdown",
		   "metadata": {},
		   "source": [
			"## Example 3.8: Calculation_of_turns_ratio_of_a_full_wave_rectifier_with_transformer.sce"
		   ]
		  },
  {
"cell_type": "code",
	   "execution_count": null,
	   "metadata": {
	    "collapsed": true
	   },
	   "outputs": [],
"source": [
"//Tested on Windows 7 Ultimate 32-bit\n",
"//Chapter 3 Semiconductor Diodes and Miscellaneous Devices Pg no. 91 and 92\n",
"clear;\n",
"clc;\n",
"\n",
"//Given Data\n",
"\n",
"Rl=220;//Load resistance in ohms\n",
"r=4;//Diodes dynamic resistance in ohms\n",
"esp=50*sqrt(2);//Input signal voltage magnitude in volts peak\n",
"esf=314/(2*%pi);//Input signal frequncy in hertz\n",
"Vdc=30;//output dc voltage in volts\n",
"\n",
"//Solution\n",
"\n",
"ne0dc=2*esp/%pi;//output dc voltage multiplied by turns ratio\n",
"i0dc=30/(2/%pi)/220;//output dc current\n",
"Vd=r*i0dc;//voltage across conducting diode\n",
"eout=i0dc*Rl;//output voltage across Rl\n",
"e0dc=(eout+Vd)*2/%pi;//output dc voltage of transformer\n",
"n=ne0dc/e0dc;//transformer ratio\n",
"printf('The transformer turns ratio = n = %.3f',n);\n",
"\n",
"//Error in decimal places in textbook due to approximations"
   ]
   }
,
{
		   "cell_type": "markdown",
		   "metadata": {},
		   "source": [
			"## Example 3.9: Calculation_of_output_voltages_and_regulation_for_a_bridge_rectifier.sce"
		   ]
		  },
  {
"cell_type": "code",
	   "execution_count": null,
	   "metadata": {
	    "collapsed": true
	   },
	   "outputs": [],
"source": [
"//Tested on Windows 7 Ultimate 32-bit\n",
"//Chapter 3 Semiconductor Diodes and Miscellaneous Devices Pg no. 92 and 93\n",
"clear;\n",
"clc;\n",
"\n",
"//Given Data\n",
"\n",
"Rl=1500;//Load resistance in ohms\n",
"Rf=10;//Diodes dynamic resistance in ohms\n",
"esp=110*sqrt(2);//Input signal voltage magnitude in volts peak\n",
"esf=314/(2*%pi);//Input signal frequncy in hertz\n",
"\n",
"//Solution\n",
"\n",
"disp('(a)');\n",
"Ip=esp/(Rl+2*Rf)*1000;//peak output current in milli-ampere\n",
"I0av=2*Ip/%pi;//average value of output current in milli-ampere\n",
"E0av=I0av*Rl/1000;//DC load voltage in volts\n",
"\n",
"printf('DC load voltage (E0)dc = %.2f Volts',E0av);\n",
"\n",
"disp('(b)');\n",
"I0rms=Ip/sqrt(2);//rms output current in milli-ampere\n",
"Vr=sqrt((I0rms/1000)^2-(I0av/1000)^2)*Rl;//output ripple voltage in volts\n",
"\n",
"printf('Output ripple voltage Vr = %.1f Volts',Vr);\n",
"\n",
"disp('(c)');\n",
"pr=2*Rf/Rl*100;//Percentage Regulation of voltage\n",
"\n",
"printf('The percentage regulation is = %.2f percentage',pr);\n",
"\n",
"//Error in textbook in calculation of average current"
   ]
   }
],
"metadata": {
		  "kernelspec": {
		   "display_name": "Scilab",
		   "language": "scilab",
		   "name": "scilab"
		  },
		  "language_info": {
		   "file_extension": ".sce",
		   "help_links": [
			{
			 "text": "MetaKernel Magics",
			 "url": "https://github.com/calysto/metakernel/blob/master/metakernel/magics/README.md"
			}
		   ],
		   "mimetype": "text/x-octave",
		   "name": "scilab",
		   "version": "0.7.1"
		  }
		 },
		 "nbformat": 4,
		 "nbformat_minor": 0
}
