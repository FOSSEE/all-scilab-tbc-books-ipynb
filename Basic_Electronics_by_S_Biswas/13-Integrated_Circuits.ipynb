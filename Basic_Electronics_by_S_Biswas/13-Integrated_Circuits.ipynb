{
"cells": [
 {
		   "cell_type": "markdown",
	   "metadata": {},
	   "source": [
       "# Chapter 13: Integrated Circuits"
	   ]
	},
{
		   "cell_type": "markdown",
		   "metadata": {},
		   "source": [
			"## Example 13.1: Design_of_diffused_resistors_of_given_value.sce"
		   ]
		  },
  {
"cell_type": "code",
	   "execution_count": null,
	   "metadata": {
	    "collapsed": true
	   },
	   "outputs": [],
"source": [
"//Tested on Windows 7 Ultimate 32-bit\n",
"//Chapter 13 Integrated Circuit Pg no. 414\n",
"clear;\n",
"clc;\n",
"\n",
"//Given\n",
"\n",
"R_a=0.5D3;//diffused resistor value in ohms\n",
"R_b=10D3;//diffused resistor value in ohms\n",
"Rs_n=10;//n-type emitter diffusion sheet resistance in ohms\n",
"Rs_p=250;//p-type emitter diffusion sheet resistance in ohms\n",
"\n",
"//Solution\n",
"\n",
"disp('(a)');\n",
"L_to_W_a=R_a/Rs_n;//length to width ratio of resistor\n",
"printf(' Thus a %d ohm resistor of n-type emitter diffusion,\n can be fabricated by using a pattern of\n ',R_a);\n",
"printf('%d mils long by 1 mil wide',L_to_W_a);\n",
"\n",
"disp('(b)');\n",
"L_to_W_b=R_b/Rs_p;//length to width ratio of resistor\n",
"printf(' Thus a %d kilo-ohm resistor of p-type emitter diffusion,\n can be fabricated by using a pattern of\n ',R_b/10^3);\n",
"printf('%d mils long by 1 mil wide',L_to_W_b);"
   ]
   }
],
"metadata": {
		  "kernelspec": {
		   "display_name": "Scilab",
		   "language": "scilab",
		   "name": "scilab"
		  },
		  "language_info": {
		   "file_extension": ".sce",
		   "help_links": [
			{
			 "text": "MetaKernel Magics",
			 "url": "https://github.com/calysto/metakernel/blob/master/metakernel/magics/README.md"
			}
		   ],
		   "mimetype": "text/x-octave",
		   "name": "scilab",
		   "version": "0.7.1"
		  }
		 },
		 "nbformat": 4,
		 "nbformat_minor": 0
}
