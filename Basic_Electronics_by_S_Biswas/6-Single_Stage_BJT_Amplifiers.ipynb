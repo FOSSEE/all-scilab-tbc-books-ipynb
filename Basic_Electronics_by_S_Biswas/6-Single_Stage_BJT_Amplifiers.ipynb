{
"cells": [
 {
		   "cell_type": "markdown",
	   "metadata": {},
	   "source": [
       "# Chapter 6: Single Stage BJT Amplifiers"
	   ]
	},
{
		   "cell_type": "markdown",
		   "metadata": {},
		   "source": [
			"## Example 6.10: Calculations_of_specific_gains_and_impedances_for_given_CB_amplifier.sce"
		   ]
		  },
  {
"cell_type": "code",
	   "execution_count": null,
	   "metadata": {
	    "collapsed": true
	   },
	   "outputs": [],
"source": [
"//Tested on Windows 7 Ultimate 32-bit\n",
"//Chapter 6 Single Staje BJT Amplifiers Pg no. 202 and 203\n",
"clear;\n",
"clc;\n",
"\n",
"//Given Data\n",
"//Figure 6.28\n",
"\n",
"VCC=12;//collector supply voltage in volts\n",
"RC=1.5D3;//collector resistance in ohms\n",
"RE=1.5D3;//emitter resistance in ohms\n",
"R1=82D3;//divider network resistance R1 in ohms\n",
"R2=18D3;//divider network resistance R2 in ohms\n",
"VBE=0.7;//forward voltage drop of emitter diode in volts\n",
"VT=25D-3;//voltage equivalent of temperature in volts\n",
"RL=15D3;//load resistance in ohms\n",
"\n",
"//Solution\n",
"\n",
"VB=VCC*R2/(R1+R2);//d.c. base to ground voltage in volts\n",
"VE=VB-VBE;//d.c. emitter to ground voltage in volts\n",
"IE=VE/RE;//d.c. emitter current in amperes\n",
"re=VT/IE;//equivalent BJT model emitter resistance in ohms\n",
"Rin=re;//total input resistance in ohms\n",
"RL_dash=RC*RL/(RC+RL);//equivalent output resistance in ohms\n",
"Gv=RL_dash/re;//voltage gain of CC configuration\n",
"Gi=1;//current gain for a CB amplifier is almost equal to unity\n",
"Gp=Gi*Gv;//a.c. power gain\n",
"printf('Voltage gain Gv = %.1f\n Current gain Gi = %d\n Power gain Gp = %.1f\n Total input resistance Rin = %.2f ohms',Gv,Gi,Gp,Rin);"
   ]
   }
,
{
		   "cell_type": "markdown",
		   "metadata": {},
		   "source": [
			"## Example 6.11: Calculation_of_current_gain_for_a_superbeta_transistor.sce"
		   ]
		  },
  {
"cell_type": "code",
	   "execution_count": null,
	   "metadata": {
	    "collapsed": true
	   },
	   "outputs": [],
"source": [
"//Tested on Windows 7 Ultimate 32-bit\n",
"//Chapter 6 Single Staje BJT Amplifiers Pg no. 204\n",
"clear;\n",
"clc;\n",
"\n",
"//Given Data\n",
"\n",
"B=190;//current gain of single transistor\n",
"\n",
"//Solution\n",
"\n",
"Bac=B^2;//current gain of superbeta transistor if B is the gain of each of the employed transistor\n",
"printf('Bac = %d',Bac);"
   ]
   }
,
{
		   "cell_type": "markdown",
		   "metadata": {},
		   "source": [
			"## Example 6.12: Calculation_dc_bias_voltages_and_currents_for_given_circuits.sce"
		   ]
		  },
  {
"cell_type": "code",
	   "execution_count": null,
	   "metadata": {
	    "collapsed": true
	   },
	   "outputs": [],
"source": [
"//Tested on Windows 7 Ultimate 32-bit\n",
"//Chapter 6 Single Staje BJT Amplifiers Pg no. 205\n",
"clear;\n",
"clc;\n",
"\n",
"//Given Data\n",
"//Figure 6.31\n",
"\n",
"VCC=18;//collector supply voltage in volts\n",
"RB=3.9D6;//base resistance in ohms\n",
"RE=470;//emitter resistance in ohms\n",
"VBE=1.6;//forward voltage drop of emitter diode of darlington pair in volts\n",
"Bac=10000;//DC current gain beta for darlington pair\n",
"\n",
"//Solution\n",
"\n",
"IB=(VCC-VBE)/(RB+Bac*RE);//base current in amperes\n",
"IE=Bac*IB;//emitter current in amperes\n",
"IC=IE;//collector current is almost equal to emitter current\n",
"VE=IE*RE;//emitter to ground voltage in volts\n",
"VB=VE+VBE;//base to ground voltage in volts\n",
"printf('IB = %.2f μA\n ',IB*10^6);\n",
"printf('IE = %.1f mA\n ',IE*10^3);\n",
"printf('IC = %.1f mA\n ',IC*10^3);\n",
"printf('VE = %.2f Volts\n ',VE);\n",
"printf('VB = %.2f Volts\n ',VB);\n",
"\n",
"//error in calculation in textbook for VB"
   ]
   }
,
{
		   "cell_type": "markdown",
		   "metadata": {},
		   "source": [
			"## Example 6.13: Calculation_of_input_impedances_for_given_circuit.sce"
		   ]
		  },
  {
"cell_type": "code",
	   "execution_count": null,
	   "metadata": {
	    "collapsed": true
	   },
	   "outputs": [],
"source": [
"//Tested on Windows 7 Ultimate 32-bit\n",
"//Chapter 6 Single Staje BJT Amplifiers Pg no. 207\n",
"clear;\n",
"clc;\n",
"\n",
"//Given Data\n",
"//Figure 6.31\n",
"\n",
"VCC=18;//collector supply voltage in volts\n",
"RB=3.9D6;//base resistance in ohms\n",
"RE=470;//emitter resistance in ohms\n",
"VBE=1.6;//forward voltage drop of emitter diode of darlington pair in volts\n",
"Bac=10000;//DC current gain beta for darlington pair\n",
"ri=6D3;//emitter diode forward resistance\n",
"\n",
"//Solution\n",
"\n",
"Zin=1/(1/RB+1/(ri+Bac*RE));//input impedance of the circuit\n",
"printf('Zin = %.3f Mega-ohms',Zin/10^6);"
   ]
   }
,
{
		   "cell_type": "markdown",
		   "metadata": {},
		   "source": [
			"## Example 6.14: Calculation_of_base_current_and_ac_current_gain_for_given_circuit.sce"
		   ]
		  },
  {
"cell_type": "code",
	   "execution_count": null,
	   "metadata": {
	    "collapsed": true
	   },
	   "outputs": [],
"source": [
"//Tested on Windows 7 Ultimate 32-bit\n",
"//Chapter 6 Single Staje BJT Amplifiers Pg no. 207\n",
"clear;\n",
"clc;\n",
"\n",
"//Given Data\n",
"//Figure 6.31\n",
"\n",
"VCC=18;//collector supply voltage in volts\n",
"RB=3.9D6;//base resistance in ohms\n",
"RE=470;//emitter resistance in ohms\n",
"VBE=1.6;//forward voltage drop of emitter diode of darlington pair in volts\n",
"Bac=10000;//DC current gain beta for darlington pair\n",
"\n",
"//Solution\n",
"\n",
"Gi=RB/(RE+RB/Bac);//a.c. circuit current gain\n",
"printf('Gi = %d',Gi);\n",
"\n",
"//error in question as base current can not be obtained without an input also not solved in textbook"
   ]
   }
,
{
		   "cell_type": "markdown",
		   "metadata": {},
		   "source": [
			"## Example 6.15: Calculation_of_ac_output_impedances_and_voltage_gain_for_given_circuit.sce"
		   ]
		  },
  {
"cell_type": "code",
	   "execution_count": null,
	   "metadata": {
	    "collapsed": true
	   },
	   "outputs": [],
"source": [
"//Tested on Windows 7 Ultimate 32-bit\n",
"//Chapter 6 Single Staje BJT Amplifiers Pg no. 207\n",
"clear;\n",
"clc;\n",
"\n",
"//Given Data\n",
"//Figure 6.31\n",
"\n",
"VCC=18;//collector supply voltage in volts\n",
"RB=3.9D6;//base resistance in ohms\n",
"RE=470;//emitter resistance in ohms\n",
"VBE=1.6;//forward voltage drop of emitter diode of darlington pair in volts\n",
"Bac=10000;//DC current gain beta for darlington pair\n",
"ri=6D3;//emitter forward resistance of darlington pair\n",
"\n",
"//Solution\n",
"\n",
"Zout=1/(1/RE+1/ri+1/(ri/Bac));//output impedance of the overall circuit in ohms\n",
"Gv=(RE+Bac*RE)/(ri+RE+Bac*RE);//a.c. voltage gain\n",
"printf('Zout = %.1f ohms\n ',Zout);\n",
"printf('Gv = %.4f',Gv);"
   ]
   }
,
{
		   "cell_type": "markdown",
		   "metadata": {},
		   "source": [
			"## Example 6.1: Plot_of_DC_and_AC_load_lines_for_given_circuit.sce"
		   ]
		  },
  {
"cell_type": "code",
	   "execution_count": null,
	   "metadata": {
	    "collapsed": true
	   },
	   "outputs": [],
"source": [
"//Tested on Windows 7 Ultimate 32-bit\n",
"//Chapter 6 Single Staje BJT Amplifiers Pg no. 184 and 185\n",
"clear;\n",
"clc;\n",
"\n",
"//Given Data\n",
"//Figure 6.7\n",
"\n",
"VCC=20;//collector supply voltage in volts\n",
"RC=1.5D3;//collector resistance in ohms\n",
"RE=1.8D3;//emitter resistance in ohms\n",
"R1=8.2D3;//divider network resistance R1 in ohms\n",
"R2=3.9D3;//divider network resistance R2 in ohms\n",
"VBE=0.7;//forward voltage drop of emitter diode in volts\n",
"\n",
"//Solution\n",
"\n",
"//For DC load line\n",
"VCEd=0:VCC;//as for load line maximum VCE is at IC=0 mA ie. VCE=VCC\n",
"ICd=(VCC-VCEd)/(RC+RE)*1000;//equation for DC load line\n",
"VB=VCC*R2/(R1+R2);//base to ground voltage in volts\n",
"VE=VB-VBE;//emitter to ground voltage in volts\n",
"IE=VE/RE;//emitter current in milli-amperes\n",
"IC=IE;//collector current is approximately equal to emitter current\n",
"VCE=VCC-IC*(RC+RE);//collector to emitter voltage in volts\n",
"\n",
"//For AC load line\n",
"m=-1/RC;//slope of AC load line i.e. ΔIC/ΔVCE\n",
"c=IC-m*VCE;//load line passes through Q point\n",
"ICa=(m*VCEd+c)*1000;//AC load line equation\n",
"\n",
"plot2d(VCEd,[ICd' ICa'],[1,2],leg='DC LOAD LINE@AC LOAD LINE',rect=[0,0,21,7]);\n",
"plot2d(VCE,IC*1000,-1);\n",
"xlabel('VCE (in Volts)');\n",
"ylabel('IC (in mA)');\n",
"xstring(VCE+.1,IC*1000+.1,'Q point');\n",
"xstring(VCC,.1,'R');\n",
"xstring(.1,VCC/(RC+RE)*1000,'P');\n",
"title('LOAD LINES FOR EXAMPLE 6.1')"
   ]
   }
,
{
		   "cell_type": "markdown",
		   "metadata": {},
		   "source": [
			"## Example 6.2: DC_and_AC_analysis_of_given_circuit.sce"
		   ]
		  },
  {
"cell_type": "code",
	   "execution_count": null,
	   "metadata": {
	    "collapsed": true
	   },
	   "outputs": [],
"source": [
"//Tested on Windows 7 Ultimate 32-bit\n",
"//Chapter 6 Single Staje BJT Amplifiers Pg no. 186,187 and 188\n",
"clear;\n",
"clc;\n",
"\n",
"//Given Data\n",
"//Figure 6.9,6.10,6.11,6.12,6.13\n",
"\n",
"VCC=15;//collector supply voltage in volts\n",
"RC=1D3;//collector resistance in ohms\n",
"RE=390;//emitter resistance in ohms\n",
"R1=18D3;//divider network resistance R1 in ohms\n",
"R2=3.9D3;//divider network resistance R2 in ohms\n",
"VBE=0.7;//forward voltage drop of emitter diode in volts\n",
"Bdc=120;//DC CE current gain beta\n",
"Bac=130;//AC CE current gain beta\n",
"\n",
"//Solution\n",
"\n",
"disp('DC analysis for Figure 6.10');\n",
"Rin_dc=Bdc*RE;//dc input resistance in ohms\n",
"if 0.1*Rin_dc>R2 then\n",
"    VB=VCC*R2/(R1+R2);//base to ground voltage in volts , since Rin>10*R2 it can be neglected\n",
"end\n",
"VE=VB-VBE;//emitter to ground voltage in volts\n",
"IE=VE/RE;//emitter current in amperes\n",
"IC=IE;//collector current is approximately equal to emitter current\n",
"VC=VCC-IC*RC;//collector to ground voltage in volts\n",
"VCE=VC-VE;//collector to emitter voltage in volts\n",
"\n",
"printf('IC = %.2f mA\n',IC*1000);\n",
"printf('VCE = %.2f Volts\n',VCE);\n",
"\n",
"disp('AC analysis for Figure 6.12');\n",
"printf('Rin'' = R1||R2||Rin where Rin=Vb/Ib\n');\n",
"printf('Vb=Ie*(re+RE)\n  =Bac*Ib*(re+RE)\n');\n",
"printf('(Rin)''= Bac*(re+RE)\n');\n",
"printf('Rout = RC||rC = RC\n as rC>>RC\n');\n",
"\n",
"//decimal error w.r.t. textbook due to approximations"
   ]
   }
,
{
		   "cell_type": "markdown",
		   "metadata": {},
		   "source": [
			"## Example 6.3: Calculation_of_base_voltage_for_given_circuit_parameters.sce"
		   ]
		  },
  {
"cell_type": "code",
	   "execution_count": null,
	   "metadata": {
	    "collapsed": true
	   },
	   "outputs": [],
"source": [
"//Tested on Windows 7 Ultimate 32-bit\n",
"//Chapter 6 Single Staje BJT Amplifiers Pg no. 188\n",
"clear;\n",
"clc;\n",
"\n",
"//Given Data\n",
"//Figure 6.11\n",
"\n",
"VCC=15;//collector supply voltage in volts\n",
"RC=1D3;//collector resistance in ohms\n",
"RE=390;//emitter resistance in ohms\n",
"R1=18D3;//divider network resistance R1 in ohms\n",
"R2=3.9D3;//divider network resistance R2 in ohms\n",
"VBE=0.7;//forward voltage drop of emitter diode in volts\n",
"Bdc=120;//DC CE current gain beta\n",
"Bac=130;//AC CE current gain beta\n",
"VT=0.25D-3;//voltage equivalent of temperature in volts\n",
"Vs=5D-3;//source rms voltage in volts\n",
"Rs=600;//source internal impedance in ohms\n",
"\n",
"//Solution\n",
"\n",
"Rin_dc=Bdc*RE;//dc input resistance in ohms\n",
"if 0.1*Rin_dc>R2 then\n",
"    VB=VCC*R2/(R1+R2);//base to ground voltage in volts , since Rin>10*R2 it can be neglected\n",
"end\n",
"VE=VB-VBE;//emitter to ground voltage in volts\n",
"IE=VE/RE;//emitter current in amperes\n",
"IC=IE;//collector current is approximately equal to emitter current\n",
"VC=VCC-IC*RC;//collector to ground voltage in volts\n",
"VCE=VC-VE;//collector to emitter voltage in volts\n",
"\n",
"re=VT/IE;//equivalent BJT model emitter resistance in ohms\n",
"Rin_dash=Bac*(RE+re);//internal resistance of BJT in ohms\n",
"Rin=1/(1/R1+1/R2+1/Rin_dash);//total internal resistance is Rin=R1||R2||Rin'\n",
"Vb=Rin/(Rs+Rin)*Vs;//signal voltage at base in volts\n",
"printf('Vb = %.2f mV',Vb*1000);"
   ]
   }
,
{
		   "cell_type": "markdown",
		   "metadata": {},
		   "source": [
			"## Example 6.4: Calculation_of_base_to_collector_gain_for_given_conditions_of_RE.sce"
		   ]
		  },
  {
"cell_type": "code",
	   "execution_count": null,
	   "metadata": {
	    "collapsed": true
	   },
	   "outputs": [],
"source": [
"//Tested on Windows 7 Ultimate 32-bit\n",
"//Chapter 6 Single Staje BJT Amplifiers Pg no. 190\n",
"clear;\n",
"clc;\n",
"\n",
"//Given Data\n",
"//Figure 6.11\n",
"\n",
"VCC=15;//collector supply voltage in volts\n",
"RC=1D3;//collector resistance in ohms\n",
"RE=390;//emitter resistance in ohms\n",
"R1=18D3;//divider network resistance R1 in ohms\n",
"R2=3.9D3;//divider network resistance R2 in ohms\n",
"VBE=0.7;//forward voltage drop of emitter diode in volts\n",
"Bdc=120;//DC CE current gain beta\n",
"Bac=130;//AC CE current gain beta\n",
"VT=25D-3;//voltage equivalent of temperature in volts\n",
"\n",
"//Solution\n",
"\n",
"Rin_dc=Bdc*RE;//dc input resistance in ohms\n",
"if 0.1*Rin_dc>R2 then\n",
"    VB=VCC*R2/(R1+R2);//base to ground voltage in volts , since Rin>10*R2 it can be neglected\n",
"end\n",
"VE=VB-VBE;//emitter to ground voltage in volts\n",
"IE=VE/RE;//emitter current in amperes\n",
"IC=IE;//collector current is approximately equal to emitter current\n",
"VC=VCC-IC*RC;//collector to ground voltage in volts\n",
"VCE=VC-VE;//collector to emitter voltage in volts\n",
"re=VT/IE;//equivalent BJT model emitter resistance in ohms\n",
"\n",
"disp('(i)');\n",
"printf('Without emitter bypass capacitor.\n');\n",
"gain=RC/(re+RE);//base to collector voltage gain\n",
"printf('Base to collector voltage gain = %.2f\n',gain);\n",
"\n",
"disp('(ii)');\n",
"printf('With RE shorted.\n');\n",
"gain=RC/re;//base to collector voltage gain\n",
"printf('Base to collector voltage gain = %d\n',gain);\n",
"\n",
"//gain deviation due to approximations in textbook"
   ]
   }
,
{
		   "cell_type": "markdown",
		   "metadata": {},
		   "source": [
			"## Example 6.5: Calculations_of_specific_gains_for_given_circuit_parameters.sce"
		   ]
		  },
  {
"cell_type": "code",
	   "execution_count": null,
	   "metadata": {
	    "collapsed": true
	   },
	   "outputs": [],
"source": [
"//Tested on Windows 7 Ultimate 32-bit\n",
"//Chapter 6 Single Staje BJT Amplifiers Pg no. 191 and 192\n",
"clear;\n",
"clc;\n",
"\n",
"//Given Data\n",
"//Figure 6.9\n",
"\n",
"VCC=15;//collector supply voltage in volts\n",
"RC=1D3;//collector resistance in ohms\n",
"RE=390;//emitter resistance in ohms\n",
"R1=18D3;//divider network resistance R1 in ohms\n",
"R2=3.9D3;//divider network resistance R2 in ohms\n",
"VBE=0.7;//forward voltage drop of emitter diode in volts\n",
"Bdc=120;//DC CE current gain beta\n",
"Bac=130;//AC CE current gain beta\n",
"VT=25D-3;//voltage equivalent of temperature in volts\n",
"Vs=5D-3;//source rms voltage in volts\n",
"Rs=600;//source internal impedance in ohms\n",
"re=5;//equivalent BJT model emitter resistance in ohms\n",
"RL=6.8D3;//load resistance in ohms\n",
"C2=50D-6;//emitter bypass capacitance in farads\n",
"\n",
"//Solution\n",
"\n",
"disp('(i)');\n",
"RL_dash=RC*RL/(RC+RL);//a.c. value of collector resistance in ohms\n",
"Gv=RL_dash/re;//a.c. voltage gain\n",
"printf('A.C. Voltage gain Gv = %.1f\n',Gv);\n",
"\n",
"disp('(ii)');\n",
"Rin_dash=Bac*(RE+re);//internal resistance of BJT in ohms\n",
"Rin=1/(1/R1+1/R2+1/Rin_dash);//total internal resistance is Rin=R1||R2||Rin'\n",
"f=Rin/(Rs+Rin);//input attenuation factor\n",
"Gv_dash=f*Gv;//overall a.c. voltage gain\n",
"printf('Overall A.C. Voltage gain Gv'' = %.1f\n',Gv_dash);\n",
"\n",
"//gain deviation due to approximations in textbook"
   ]
   }
,
{
		   "cell_type": "markdown",
		   "metadata": {},
		   "source": [
			"## Example 6.6: Calculation_of_output_voltage_for_given_circuit.sce"
		   ]
		  },
  {
"cell_type": "code",
	   "execution_count": null,
	   "metadata": {
	    "collapsed": true
	   },
	   "outputs": [],
"source": [
"//Tested on Windows 7 Ultimate 32-bit\n",
"//Chapter 6 Single Staje BJT Amplifiers Pg no. 193,194 and 195\n",
"clear;\n",
"clc;\n",
"\n",
"//Given Data\n",
"//Figure 6.18,6.19,6.20\n",
"\n",
"VCC=15;//collector supply voltage in volts\n",
"RC=5.6D3;//collector resistance in ohms\n",
"RE0=390;//unbypassed emitter resistance in ohms\n",
"RE1=390;//bypased emitter resistance in ohms\n",
"R1=33D3;//divider network resistance R1 in ohms\n",
"R2=4.7D3;//divider network resistance R2 in ohms\n",
"VBE=0.7;//forward voltage drop of emitter diode in volts\n",
"Bdc=140;//DC CE current gain beta\n",
"Bac=160;//AC CE current gain beta\n",
"VT=25D-3;//voltage equivalent of temperature in volts\n",
"Vs=15D-3;//source rms voltage in volts\n",
"Rs=600;//source internal impedance in ohms\n",
"RL=68D3;//load resistance in ohms\n",
"C1=10D-6;//input coupling capacitance in farads\n",
"C2=50D-6;//emitter bypass capacitance in farads\n",
"C3=10D-6;//output coupling capacitance in farads\n",
"\n",
"\n",
"//Solution\n",
"\n",
"//DC analysis\n",
"Rin_dc=Bdc*(RE0+RE1);//dc input resistance in ohms\n",
"if 0.1*Rin_dc>R2 then\n",
"    VB=VCC*R2/(R1+R2);//base to ground voltage in volts , since Rin>10*R2 it can be neglected\n",
"end\n",
"VE=VB-VBE;//emitter to ground voltage in volts\n",
"IE=VE/(RE0+RE1);//emitter current in amperes\n",
"IC=IE;//collector current is approximately equal to emitter current\n",
"VC=VCC-IC*RC;//collector to ground voltage in volts\n",
"\n",
"//AC analysis\n",
"re=VT/IE;//equivalent BJT model emitter resistance in ohms\n",
"Rin_dash=Bac*(RE0+re);//internal resistance of BJT in ohms\n",
"Rin=1/(1/R1+1/R2+1/Rin_dash);//total internal resistance is Rin=R1||R2||Rin'\n",
"f=Rin/(Rs+Rin);//input attenuation factor\n",
"RL_dash=1/(1/RC+1/RL);//effective load resistance\n",
"Gv=RL_dash/(re+RE0);//a.c. voltage gain\n",
"Gv_dash=f*Gv;//overall a.c. voltage gain\n",
"vc=Gv_dash*Vs;//a.c voltage at collector in volts\n",
"printf('Output voltage will be a.c. signal of amplitude %d mV \nCollector voltage will be the same voltage mounted on a d.c. level of %.1f Volts',vc*1000,VC);\n",
"//plotting the curves\n",
"t=0:0.01:2*3.14;//one period\n",
"y1=VC+vc*sin(t);//total collector voltage\n",
"y2=vc*1000*sin(t);//output voltage\n",
"\n",
"subplot(2,1,1);\n",
"plot(y1);\n",
"title('(a)Collector Voltage');\n",
"ylabel('Vc (volts)');\n",
"xlabel('time period');\n",
"\n",
"subplot(2,1,2);\n",
"plot(y2);\n",
"title('(b)Output Voltage');\n",
"ylabel('Vc (milli-volts)');\n",
"xlabel('time period');"
   ]
   }
,
{
		   "cell_type": "markdown",
		   "metadata": {},
		   "source": [
			"## Example 6.7: Calculation_of_output_voltage_for_given_value_of_load_resistances.sce"
		   ]
		  },
  {
"cell_type": "code",
	   "execution_count": null,
	   "metadata": {
	    "collapsed": true
	   },
	   "outputs": [],
"source": [
"//Tested on Windows 7 Ultimate 32-bit\n",
"//Chapter 6 Single Staje BJT Amplifiers Pg no. 195 and 196\n",
"clear;\n",
"clc;\n",
"\n",
"//Given Data\n",
"//Figure 6.18,6.19,6.20\n",
"\n",
"VCC=15;//collector supply voltage in volts\n",
"RC=5.6D3;//collector resistance in ohms\n",
"RE0=390;//unbypassed emitter resistance in ohms\n",
"RE1=390;//bypased emitter resistance in ohms\n",
"R1=33D3;//divider network resistance R1 in ohms\n",
"R2=4.7D3;//divider network resistance R2 in ohms\n",
"VBE=0.7;//forward voltage drop of emitter diode in volts\n",
"Bdc=140;//DC CE current gain beta\n",
"Bac=160;//AC CE current gain beta\n",
"VT=25D-3;//voltage equivalent of temperature in volts\n",
"Vs=15D-3;//source rms voltage in volts\n",
"Rs=600;//source internal impedance in ohms\n",
"C1=10D-6;//input coupling capacitance in farads\n",
"C2=50D-6;//emitter bypass capacitance in farads\n",
"C3=10D-6;//output coupling capacitance in farads\n",
"RL=[3.3D3 10D3 33D3 100D3 500D3 %inf] ;//load resistances in ohms\n",
"\n",
"\n",
"//Solution\n",
"\n",
"for i=1:6\n",
"\n",
"printf('Case (%d)\n RL = %.1f kilo-ohms\n',i,RL(i)/1000);\n",
"Rin_dc=Bdc*(RE0+RE1);//dc input resistance in ohms\n",
"if 0.1*Rin_dc>R2 then\n",
"    VB=VCC*R2/(R1+R2);//base to ground voltage in volts , since Rin>10*R2 it can be neglected\n",
"end\n",
"VE=VB-VBE;//emitter to ground voltage in volts\n",
"IE=VE/(RE0+RE1);//emitter current in amperes\n",
"IC=IE;//collector current is approximately equal to emitter current\n",
"VC=VCC-IC*RC;//collector to ground voltage in volts\n",
"re=VT/IE;//equivalent BJT model emitter resistance in ohms\n",
"Rin_dash=Bac*(RE0+re);//internal resistance of BJT in ohms\n",
"Rin=1/(1/R1+1/R2+1/Rin_dash);//total internal resistance is Rin=R1||R2||Rin'\n",
"f=Rin/(Rs+Rin);//input attenuation factor\n",
"if RL(i)==%inf then\n",
"    RL_dash=RC;//effective load resistance\n",
"else\n",
"    RL_dash=1/(1/RC+1/RL(i));//effective load resistance\n",
"end\n",
"Gv=RL_dash/(re+RE0);//a.c. voltage gain\n",
"Gv_dash=f*Gv;//overall a.c. voltage gain\n",
"vc=Gv_dash*Vs;//a.c voltage at collector in volts\n",
"\n",
"printf('Output voltage vc = %.2f mV\n',vc*1000);\n",
"end\n",
"\n",
"//error in answers in textbook due to approximations"
   ]
   }
,
{
		   "cell_type": "markdown",
		   "metadata": {},
		   "source": [
			"## Example 6.8: Calculation_of_current_gain_and_power_gain_for_given_circuit.sce"
		   ]
		  },
  {
"cell_type": "code",
	   "execution_count": null,
	   "metadata": {
	    "collapsed": true
	   },
	   "outputs": [],
"source": [
"//Tested on Windows 7 Ultimate 32-bit\n",
"//Chapter 6 Single Staje BJT Amplifiers Pg no. 197\n",
"clear;\n",
"clc;\n",
"\n",
"//Given Data\n",
"//Figure 6.18,6.19,6.20\n",
"\n",
"VCC=15;//collector supply voltage in volts\n",
"RC=5.6D3;//collector resistance in ohms\n",
"RE0=390;//unbypassed emitter resistance in ohms\n",
"RE1=390;//bypased emitter resistance in ohms\n",
"R1=33D3;//divider network resistance R1 in ohms\n",
"R2=4.7D3;//divider network resistance R2 in ohms\n",
"VBE=0.7;//forward voltage drop of emitter diode in volts\n",
"Bdc=140;//DC CE current gain beta\n",
"Bac=160;//AC CE current gain beta\n",
"VT=25D-3;//voltage equivalent of temperature in volts\n",
"Vs=15D-3;//source rms voltage in volts\n",
"Rs=600;//source internal impedance in ohms\n",
"C1=10D-6;//input coupling capacitance in farads\n",
"C2=50D-6;//emitter bypass capacitance in farads\n",
"C3=10D-6;//output coupling capacitance in farads\n",
"RL=68D3;//load resistance in ohms\n",
"\n",
"//Solution\n",
"\n",
"Rin_dc=Bdc*(RE0+RE1);//dc input resistance in ohms\n",
"if 0.1*Rin_dc>R2 then\n",
"    VB=VCC*R2/(R1+R2);//base to ground voltage in volts , since Rin>10*R2 it can be neglected\n",
"end\n",
"VE=VB-VBE;//emitter to ground voltage in volts\n",
"IE=VE/(RE0+RE1);//emitter current in amperes\n",
"IC=IE;//collector current is approximately equal to emitter current\n",
"VC=VCC-IC*RC;//collector to ground voltage in volts\n",
"\n",
"re=VT/IE;//equivalent BJT model emitter resistance in ohms\n",
"Rin_dash=Bac*(RE0+re);//internal resistance of BJT in ohms\n",
"Rin=1/(1/R1+1/R2+1/Rin_dash);//total internal resistance is Rin=R1||R2||Rin'\n",
"Vb=Rin/(Rs+Rin)*Vs;//signal voltage at base in volts\n",
"Ib=Vb/Rin_dash;//base current due to source\n",
"Is=Vs/(Rin+Rs);//current driven from source in amperes\n",
"Ic=Bac*Ib;//collector a.c. current\n",
"Gi_dash=Ic/Is;//overall a.c. current gain\n",
"RL_dash=RC*RL/(RC+RL);//a.c. value of collector resistance in ohms\n",
"Gv=RL_dash/re;//a.c. voltage gain\n",
"f=Rin/(Rs+Rin);//input attenuation factor\n",
"Gv_dash=f*Gv;//overall a.c. voltage gain\n",
"Gp_dash=Gv_dash*Gi_dash;//a.c. power gain\n",
"\n",
"printf('Current gain Gi'' = %.2f and power gain Gp'' = %.2f',Gi_dash,Gp_dash);\n",
"\n",
"\n",
"//error in calculation and missing calculation of power gain in textbook"
   ]
   }
,
{
		   "cell_type": "markdown",
		   "metadata": {},
		   "source": [
			"## Example 6.9: Calculations_of_specific_gains_and_impedances_for_given_CC_amplifier.sce"
		   ]
		  },
  {
"cell_type": "code",
	   "execution_count": null,
	   "metadata": {
	    "collapsed": true
	   },
	   "outputs": [],
"source": [
"//Tested on Windows 7 Ultimate 32-bit\n",
"//Chapter 6 Single Staje BJT Amplifiers Pg no. 200\n",
"clear;\n",
"clc;\n",
"\n",
"//Given Data\n",
"//Figure 6.25\n",
"\n",
"VCC=15;//collector supply voltage in volts\n",
"RE=1.5D3;//emitter resistance in ohms\n",
"R1=12D3;//divider network resistance R1 in ohms\n",
"R2=10D3;//divider network resistance R2 in ohms\n",
"VBE=0.7;//forward voltage drop of emitter diode in volts\n",
"Bac=150;//AC CE current gain beta\n",
"VT=25D-3;//voltage equivalent of temperature in volts\n",
"Vs=1;//input rms a.c. voltage in volts\n",
"Rs=600;//source internal impedance in ohms\n",
"RL=12D3;//load resistance in ohms\n",
"\n",
"//Solution\n",
"\n",
"Req=RE*RL/(RE+RL);//equivalent output resistance in ohms\n",
"Rin_dash=Bac*Req;//base input resistance\n",
"Rin=1/(1/R1+1/R2+1/Rin_dash);//total input resistance in ohms\n",
"VB=VCC*R2/(R1+R2);//d.c. base to ground voltage in volts\n",
"VE=VB-VBE;//d.c. emitter to ground voltage in volts\n",
"IE=VE/RE;//d.c. emitter current in amperes\n",
"re=VT/IE;//equivalent BJT model emitter resistance in ohms\n",
"Gv=Req/(Req+re);//voltage gain of CC configuration\n",
"Ie=Gv*Vs/Req;//a.c. emitter current in amperes\n",
"Iin=Vs/Rin;//a.c. input current in amperes\n",
"Gi=Ie/Iin;//a.c. current gain\n",
"Gp=Gi*Gv;//a.c. power gain\n",
"printf('Voltage gain Gv = %.3f\n Current gain Gi = %.2f\n Power gain Gp = %.2f\n Total input resistance Rin = %.2f kilo-ohms',Gv,Gi,Gp,Rin/1000);\n",
"\n",
"//decimal errors in textbook due to approximations"
   ]
   }
],
"metadata": {
		  "kernelspec": {
		   "display_name": "Scilab",
		   "language": "scilab",
		   "name": "scilab"
		  },
		  "language_info": {
		   "file_extension": ".sce",
		   "help_links": [
			{
			 "text": "MetaKernel Magics",
			 "url": "https://github.com/calysto/metakernel/blob/master/metakernel/magics/README.md"
			}
		   ],
		   "mimetype": "text/x-octave",
		   "name": "scilab",
		   "version": "0.7.1"
		  }
		 },
		 "nbformat": 4,
		 "nbformat_minor": 0
}
