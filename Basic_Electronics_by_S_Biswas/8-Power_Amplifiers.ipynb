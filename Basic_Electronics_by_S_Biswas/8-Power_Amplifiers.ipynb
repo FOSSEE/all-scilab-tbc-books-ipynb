{
"cells": [
 {
		   "cell_type": "markdown",
	   "metadata": {},
	   "source": [
       "# Chapter 8: Power Amplifiers"
	   ]
	},
{
		   "cell_type": "markdown",
		   "metadata": {},
		   "source": [
			"## Example 8.10: Calculation_of_maximum_efficiency_for_an_inductor_coupled_amplifier.sce"
		   ]
		  },
  {
"cell_type": "code",
	   "execution_count": null,
	   "metadata": {
	    "collapsed": true
	   },
	   "outputs": [],
"source": [
"//Tested on Windows 7 Ultimate 32-bit\n",
"//Chapter 8 Power Amplifiers Pg no. 288\n",
"clear;\n",
"clc;\n",
"\n",
"//Given Data\n",
"\n",
"VCC=12;//collector supply voltage in volts\n",
"RL=220;//load resistance in ohms\n",
"\n",
"//Solution\n",
"\n",
"PL_max=(VCC/RL)^2*RL/2;//maximum load power in watts\n",
"Pin=VCC*VCC/RL;//power delivered to load in watts\n",
"e=PL_max/Pin;//efficiency of amplifier\n",
"printf('Efficiency of the amplifier η = %.f %%',e*100);"
   ]
   }
,
{
		   "cell_type": "markdown",
		   "metadata": {},
		   "source": [
			"## Example 8.11: Calculation_of_maximum_load_power_of_amplifier_for_given_VCC_and_RL.sce"
		   ]
		  },
  {
"cell_type": "code",
	   "execution_count": null,
	   "metadata": {
	    "collapsed": true
	   },
	   "outputs": [],
"source": [
"//Tested on Windows 7 Ultimate 32-bit\n",
"//Chapter 8 Power Amplifiers Pg no. 289\n",
"clear;\n",
"clc;\n",
"\n",
"//Given Data\n",
"\n",
"VCC=12;//collector supply voltage in volts\n",
"RL=12;//load resistance in ohms\n",
"\n",
"//Solution\n",
"\n",
"PL_max=(VCC/RL)^2*RL/2;//power developed in watts\n",
"printf('Maximum value of load power = %.f Watts',PL_max);"
   ]
   }
,
{
		   "cell_type": "markdown",
		   "metadata": {},
		   "source": [
			"## Example 8.12: Calculation_of_turns_ratio_of_a_transformer_for_given_parameters.sce"
		   ]
		  },
  {
"cell_type": "code",
	   "execution_count": null,
	   "metadata": {
	    "collapsed": true
	   },
	   "outputs": [],
"source": [
"//Tested on Windows 7 Ultimate 32-bit\n",
"//Chapter 8 Power Amplifiers Pg no. 289 and 290\n",
"clear;\n",
"clc;\n",
"\n",
"//Given Data\n",
"\n",
"VCC=12;//collector supply voltage in volts\n",
"RL=16;//load resistance of loudspeaker in ohms\n",
"Pmax=1;//input power of loudspeaker\n",
"VCE_sat=0.7;//collector to emitter saturation voltage in volts\n",
"\n",
"//Solution\n",
"\n",
"k=(VCC-VCE_sat)/sqrt(2*RL*Pmax);//turns ratio\n",
"printf('Turns ratio η = %.3f or %.f turns',k,k);"
   ]
   }
,
{
		   "cell_type": "markdown",
		   "metadata": {},
		   "source": [
			"## Example 8.13: Calculation_of_supplied_and_collector_dissipated_power_for_an_amplifier.sce"
		   ]
		  },
  {
"cell_type": "code",
	   "execution_count": null,
	   "metadata": {
	    "collapsed": true
	   },
	   "outputs": [],
"source": [
"//Tested on Windows 7 Ultimate 32-bit\n",
"//Chapter 8 Power Amplifiers Pg no. 290\n",
"clear;\n",
"clc;\n",
"\n",
"//Given Data\n",
"\n",
"VCC=12;//collector supply voltage in volts\n",
"RL=16;//load resistance of loudspeaker in ohms\n",
"Pmax=1;//input power of loudspeaker\n",
"VCE_sat=0.7;//collector to emitter saturation voltage in volts\n",
"\n",
"//Solution\n",
"\n",
"PCC=4/%pi*Pmax;//supplied power in watts\n",
"P=0.5*(PCC-Pmax);//collector dissipated power in watts\n",
"printf('Supplied power PCC = %.3f Watts\n ',PCC);\n",
"printf('Collector dissipated power = %.3f Watts',P);\n",
"\n",
"//decimal approximations taken here"
   ]
   }
,
{
		   "cell_type": "markdown",
		   "metadata": {},
		   "source": [
			"## Example 8.14: EX8_14.sce"
		   ]
		  },
  {
"cell_type": "code",
	   "execution_count": null,
	   "metadata": {
	    "collapsed": true
	   },
	   "outputs": [],
"source": [
"//Tested on Windows 7 Ultimate 32-bit\n",
"//Chapter 8 Power Amplifiers Pg no. 290\n",
"clear;\n",
"clc;\n",
"\n",
"//Given Data\n",
"//Figure 8.21\n",
"\n",
"VCC=12;//collector supply voltage in volts\n",
"RL=4;//load resistance in ohms\n",
"Pmax=15;//maximum load power in watts\n",
"IC_max=2.5;//maximum collector current in amperes\n",
"\n",
"//Solution\n",
"\n",
"P1=2/%pi*VCC*IC_max;//power supplied in watts\n",
"e=Pmax/P1;//maximum efficiency of the amplifier\n",
"printf('Maximum efficiency ηmax = %.2f %%',e*100);"
   ]
   }
,
{
		   "cell_type": "markdown",
		   "metadata": {},
		   "source": [
			"## Example 8.1: Calculation_of_maximum_collector_current_for_given_VCC_and_PD.sce"
		   ]
		  },
  {
"cell_type": "code",
	   "execution_count": null,
	   "metadata": {
	    "collapsed": true
	   },
	   "outputs": [],
"source": [
"//Tested on Windows 7 Ultimate 32-bit\n",
"//Chapter 8 Power Amplifiers Pg no. 267\n",
"clear;\n",
"clc;\n",
"\n",
"//Given Data\n",
"\n",
"VCC=15;//battery voltage in volts\n",
"P_OUT=5;//output power in watts\n",
"\n",
"//Solution\n",
"\n",
"IC_MAX=P_OUT/VCC;//maximum collector current in amperes\n",
"printf('Maximum collector current IC = %d mA',IC_MAX*10^3);"
   ]
   }
,
{
		   "cell_type": "markdown",
		   "metadata": {},
		   "source": [
			"## Example 8.2: Calculation_of_ac_output_voltage_and_current_for_given_circuit.sce"
		   ]
		  },
  {
"cell_type": "code",
	   "execution_count": null,
	   "metadata": {
	    "collapsed": true
	   },
	   "outputs": [],
"source": [
"//Tested on Windows 7 Ultimate 32-bit\n",
"//Chapter 8 Power Amplifiers Pg no. 267,268 and 269\n",
"clear;\n",
"clc;\n",
"\n",
"//Given Data\n",
"\n",
"p_out=32;//output power of speaker in watts\n",
"Z_speaker=8;//impedance of speaker in ohms\n",
"\n",
"//Solution\n",
"\n",
"v_out=sqrt(p_out*Z_speaker);//output a.c. voltage in volts\n",
"i_out=v_out/Z_speaker;//output a.c. current in amperes\n",
"printf('The a.c. output voltage V = %d Volts\n The a.c. output current I = %d Amperes',v_out,i_out);"
   ]
   }
,
{
		   "cell_type": "markdown",
		   "metadata": {},
		   "source": [
			"## Example 8.3: Calculation_of_effective_resistance_at_primary_of_transformer.sce"
		   ]
		  },
  {
"cell_type": "code",
	   "execution_count": null,
	   "metadata": {
	    "collapsed": true
	   },
	   "outputs": [],
"source": [
"//Tested on Windows 7 Ultimate 32-bit\n",
"//Chapter 8 Power Amplifiers Pg no. 271 and 272\n",
"clear;\n",
"clc;\n",
"\n",
"//Given Data\n",
"\n",
"k=10;//turn ratio of transformer\n",
"RL=8;//load resistance in ohms\n",
"\n",
"//Solution\n",
"\n",
"RL_eq=k^2*RL;//equivalent resistance at primary in ohms\n",
"printf('RL'' = %d ohms',RL_eq);"
   ]
   }
,
{
		   "cell_type": "markdown",
		   "metadata": {},
		   "source": [
			"## Example 8.4: Calculation_of_turns_ratio_of_a_transformer_for_given_parameters.sce"
		   ]
		  },
  {
"cell_type": "code",
	   "execution_count": null,
	   "metadata": {
	    "collapsed": true
	   },
	   "outputs": [],
"source": [
"//Tested on Windows 7 Ultimate 32-bit\n",
"//Chapter 8 Power Amplifiers Pg no. 272\n",
"clear;\n",
"clc;\n",
"\n",
"//Given Data\n",
"\n",
"RL=8;//load resistance in ohms\n",
"RL_eq=5D3;//equivalent resistance at primary in ohms\n",
"\n",
"//Solution\n",
"\n",
"k=sqrt(RL_eq/RL);//turns ratio N1/N2\n",
"printf('N1:N2 = %d:1',k);"
   ]
   }
,
{
		   "cell_type": "markdown",
		   "metadata": {},
		   "source": [
			"## Example 8.5: Calculation_of_power_parameters_and_efficiency_of_transistor.sce"
		   ]
		  },
  {
"cell_type": "code",
	   "execution_count": null,
	   "metadata": {
	    "collapsed": true
	   },
	   "outputs": [],
"source": [
"//Tested on Windows 7 Ultimate 32-bit\n",
"//Chapter 8 Power Amplifiers Pg no. 277,278 and 279\n",
"clear;\n",
"clc;\n",
"\n",
"//Given Data\n",
"//Figure 8.13\n",
"\n",
"VCC=20;//collector supply voltage in volts\n",
"RC=270;//collector resistance in ohms\n",
"RE=150;//emitter resistance in ohms\n",
"R1=3.3D3;//divider network resistance R1 in ohms\n",
"R2=1.5D3;//divider network resistance R2 in ohms\n",
"VBE=0.7;//forward voltage drop of emitter diode in volts\n",
"B=100;//DC CE current gain beta\n",
"RL=470;//load resistance in ohms\n",
"C1=15D-6;//input coupling capacitance in farads\n",
"C2=15D-6;//output coupling capacitance in farads\n",
"\n",
"//Solution\n",
"\n",
"VB=VCC*R2/(R1+R2);//base to ground voltage in volts\n",
"VE=VB-VBE;//emitter to ground voltage in volts\n",
"IE=VE/RE;//emitter current in amperes\n",
"ICQ=IE;//neglecting base current, collector current is equal to emitter current in amperes\n",
"VC=VCC-ICQ*RC;//collector to ground voltage in volts\n",
"VCEQ=VC-VE;//collector to emitter quiscent voltage in volts\n",
"PD=VCEQ*ICQ;//power dissipation in watts\n",
"RL_dash=RC*RL/(RC+RL);//equivalent a.c. load resistance in ohms\n",
"IC_sat=ICQ+VCEQ/RL_dash;//saturation collector current in amperes\n",
"VCE_cutoff=VCEQ+ICQ*RL_dash;//cutoff collector to emitter voltage in volts\n",
"Pout=0.5*ICQ^2*RL_dash;//output a.c. power in watts\n",
"e=Pout/VCC/ICQ;//efficiency of circuit = Pout/Pin(dc)\n",
"printf('(a) The minimum transistor power rating required PD = %.3f Watts\n ',PD);\n",
"printf('(b) AC output power Pout = %d milli-Watts\n ',Pout*10^3);\n",
"printf('(c) Efficiency of the amplifier η = %.2f\n ',e);\n",
"\n",
"//decimal approximation taken here in efficiency"
   ]
   }
,
{
		   "cell_type": "markdown",
		   "metadata": {},
		   "source": [
			"## Example 8.6: Calculation_of_maximum_load_power_of_amplifier.sce"
		   ]
		  },
  {
"cell_type": "code",
	   "execution_count": null,
	   "metadata": {
	    "collapsed": true
	   },
	   "outputs": [],
"source": [
"//Tested on Windows 7 Ultimate 32-bit\n",
"//Chapter 8 Power Amplifiers Pg no. 279\n",
"clear;\n",
"clc;\n",
"\n",
"//Given Data\n",
"//Figure 8.13\n",
"\n",
"VCC=20;//collector supply voltage in volts\n",
"RC=270;//collector resistance in ohms\n",
"RE=150;//emitter resistance in ohms\n",
"R1=3.3D3;//divider network resistance R1 in ohms\n",
"R2=1.5D3;//divider network resistance R2 in ohms\n",
"VBE=0.7;//forward voltage drop of emitter diode in volts\n",
"B=100;//DC CE current gain beta\n",
"RL=470;//load resistance in ohms\n",
"C1=15D-6;//input coupling capacitance in farads\n",
"C2=15D-6;//output coupling capacitance in farads\n",
"\n",
"//Solution\n",
"\n",
"VB=VCC*R2/(R1+R2);//base to ground voltage in volts\n",
"VE=VB-VBE;//emitter to ground voltage in volts\n",
"IE=VE/RE;//emitter current in amperes\n",
"ICQ=IE;//neglecting base current, collector current is equal to emitter current in amperes\n",
"VC=VCC-ICQ*RC;//collector to ground voltage in volts\n",
"VCEQ=VC-VE;//collector to emitter quiscent voltage in volts\n",
"RL_dash=RC*RL/(RC+RL);//equivalent a.c. load resistance in ohms\n",
"VCEQ_midpt=(VCEQ+ICQ*RL_dash)/2;//collector to emitter voltage in Q point is set at midpoint of load line\n",
"Pout_max=0.5*VCEQ_midpt^2/RL_dash;//maximum output power for amplifier\n",
"printf('Maximum value of load power Pout(max) = %d milli-Watts',Pout_max*10^3);"
   ]
   }
,
{
		   "cell_type": "markdown",
		   "metadata": {},
		   "source": [
			"## Example 8.7: EX8_7.sce"
		   ]
		  },
  {
"cell_type": "code",
	   "execution_count": null,
	   "metadata": {
	    "collapsed": true
	   },
	   "outputs": [],
"source": [
"//Tested on Windows 7 Ultimate 32-bit\n",
"//Chapter 8 Power Amplifiers Pg no. 279 and 280\n",
"clear;\n",
"clc;\n",
"\n",
"//Given Data\n",
"//Figure 8.15\n",
"\n",
"VCC=25;//collector supply voltage in volts\n",
"RL=25;//load collector resistance in ohms\n",
"RB=1.5D3;//base resistance in ohms\n",
"VBE=0.7;//forward voltage drop of emitter diode in volts\n",
"B=50;//DC CE current gain beta\n",
"Iin=12D-3;//input peak current in amperes\n",
"\n",
"//Solution\n",
"\n",
"IBQ=(VCC-VBE)/RB;//base quiscent current in amperes\n",
"ICQ=B*IBQ;//collector quiscent current in amperes\n",
"VCEQ=VCC-ICQ*RL;//quiscent collector to emitter voltage in volts\n",
"Ic_p=B*Iin;//peak collector current swing in amperes\n",
"Pout_ac=Ic_p^2*RL/2;//output a.c. power in watts\n",
"Pin_dc=VCC*ICQ;//input d.c. power in watts\n",
"e=Pout_ac/Pin_dc;//efficiency of amplifier\n",
"printf('(a) Input power = %.2f Watts\n ',Pin_dc);\n",
"printf('(b) Output power = %.1f Watts\n ',Pout_ac);\n",
"printf('(c) Efficiency of the amplifier η = %.2f %%\n ',e*100);"
   ]
   }
,
{
		   "cell_type": "markdown",
		   "metadata": {},
		   "source": [
			"## Example 8.8: EX8_8.sce"
		   ]
		  },
  {
"cell_type": "code",
	   "execution_count": null,
	   "metadata": {
	    "collapsed": true
	   },
	   "outputs": [],
"source": [
"//Tested on Windows 7 Ultimate 32-bit\n",
"//Chapter 8 Power Amplifiers Pg no. 288\n",
"clear;\n",
"clc;\n",
"\n",
"//Given Data\n",
"\n",
"vin_p=2;//input signal amplitude in volts\n",
"fin=50;//input signal frequency in hertz\n",
"I1=10;I2=1.5;I3=0.70;I4=0.3;//input current nth harmonic's amplitude in amperes\n",
"\n",
"//Solution\n",
"\n",
"D2=I2/I1;//second harmonic distortion\n",
"D3=I3/I1;//third harmonic distortion\n",
"D4=I4/I1;//fourth harmonic distortion\n",
"disp('(a)');\n",
"printf('Second harmonic distortion D2 = %.f %%\n ',D2*100);\n",
"printf('Third harmonic distortion D3 = %.f %%\n ',D3*100);\n",
"printf('Fourth harmonic distortion D4 = %.f %%\n ',D4*100);\n",
"\n",
"D=sqrt(D2^2+D3^2+D4^2);//distortion factor\n",
"P=D^2;//percentage increase in power\n",
"disp('(b)');\n",
"printf('Percentage increase in power = %.2f %%',P*100);"
   ]
   }
,
{
		   "cell_type": "markdown",
		   "metadata": {},
		   "source": [
			"## Example 8.9: Calculation_of_output_power_for_given_amplifier_circuit.sce"
		   ]
		  },
  {
"cell_type": "code",
	   "execution_count": null,
	   "metadata": {
	    "collapsed": true
	   },
	   "outputs": [],
"source": [
"//Tested on Windows 7 Ultimate 32-bit\n",
"//Chapter 8 Power Amplifiers Pg no. 288\n",
"clear;\n",
"clc;\n",
"\n",
"//Given Data\n",
"//Figure 8.23\n",
"\n",
"VCC=25;//collector supply voltage in volts\n",
"RL=220;//load resistance in ohms\n",
"\n",
"//Solution\n",
"\n",
"PCC=VCC^2/RL;//power developed in watts\n",
"printf('Power developed in amplifier PCC = %.2f Watts',PCC);"
   ]
   }
],
"metadata": {
		  "kernelspec": {
		   "display_name": "Scilab",
		   "language": "scilab",
		   "name": "scilab"
		  },
		  "language_info": {
		   "file_extension": ".sce",
		   "help_links": [
			{
			 "text": "MetaKernel Magics",
			 "url": "https://github.com/calysto/metakernel/blob/master/metakernel/magics/README.md"
			}
		   ],
		   "mimetype": "text/x-octave",
		   "name": "scilab",
		   "version": "0.7.1"
		  }
		 },
		 "nbformat": 4,
		 "nbformat_minor": 0
}
