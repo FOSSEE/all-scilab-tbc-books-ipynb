{
"cells": [
 {
		   "cell_type": "markdown",
	   "metadata": {},
	   "source": [
       "# Chapter 4: Bipolar Junction Transistor"
	   ]
	},
{
		   "cell_type": "markdown",
		   "metadata": {},
		   "source": [
			"## Example 4.1: Calculation_of_CE_and_CB_current_gains.sce"
		   ]
		  },
  {
"cell_type": "code",
	   "execution_count": null,
	   "metadata": {
	    "collapsed": true
	   },
	   "outputs": [],
"source": [
"//Tested on Windows 7 Ultimate 32-bit\n",
"//Chapter 4 Bipolar Junction transistors Pg no. 131\n",
"clear;\n",
"clc;\n",
"\n",
"//Given Data\n",
"\n",
"IB=40D-6;//base current in amperes\n",
"IC=4.25D-3;//collector current in amperes\n",
"\n",
"//Solution\n",
"\n",
"Bdc=IC/IB;//value of dc CE current gain\n",
"Adc=Bdc/(Bdc+1);//value of dc CB current gain\n",
"\n",
"printf('The value of βdc = %.2f and αdc = %.4f',Bdc,Adc);\n",
"\n",
"//Error in decimal places due to approximations in textbook"
   ]
   }
,
{
		   "cell_type": "markdown",
		   "metadata": {},
		   "source": [
			"## Example 4.2: Calculation_of_CB_current_gain_and_collector_current.sce"
		   ]
		  },
  {
"cell_type": "code",
	   "execution_count": null,
	   "metadata": {
	    "collapsed": true
	   },
	   "outputs": [],
"source": [
"//Tested on Windows 7 Ultimate 32-bit\n",
"//Chapter 4 Bipolar Junction transistors Pg no. 131\n",
"clear;\n",
"clc;\n",
"\n",
"//Given Data\n",
"\n",
"Bdc=175;//value of dc CE current gain\n",
"IB=40D-6;//base current in amperes\n",
"\n",
"//Solution\n",
"\n",
"IC=IB*Bdc*1000;//collector current in milli-amperes\n",
"Adc=Bdc/(Bdc+1);//value of dc CB current gain\n",
"\n",
"printf('The value of IC = %d mA and αdc = %.4f',IC,Adc);\n",
"\n",
"//Error in decimal places due to approximations in textbook"
   ]
   }
,
{
		   "cell_type": "markdown",
		   "metadata": {},
		   "source": [
			"## Example 4.3: Calculation_of_CE_current_gain_and_base_current.sce"
		   ]
		  },
  {
"cell_type": "code",
	   "execution_count": null,
	   "metadata": {
	    "collapsed": true
	   },
	   "outputs": [],
"source": [
"//Tested on Windows 7 Ultimate 32-bit\n",
"//Chapter 4 Bipolar Junction transistors Pg no. 131\n",
"clear;\n",
"clc;\n",
"\n",
"//Given Data\n",
"\n",
"IC=7.5D-3;//collector current in amperes\n",
"Adc=0.9914;//value of dc CB current gain\n",
"\n",
"//Solution\n",
"\n",
"IE=IC/Adc;//emitter current in amperes\n",
"IB=IE-IC;//base current in amperes\n",
"IB=IB*10^6;//converting base current to mICro-amperes\n",
"Bdc=Adc/(1-Adc);//value of dc CE current gain\n",
"\n",
"printf('The value of IB = %d μA and βdc = %.2f',IB,Bdc);\n",
"\n",
"//Error in decimal places due to approximations in textbook"
   ]
   }
,
{
		   "cell_type": "markdown",
		   "metadata": {},
		   "source": [
			"## Example 4.4: Determination_of_whether_transistor_is_saturated.sce"
		   ]
		  },
  {
"cell_type": "code",
	   "execution_count": null,
	   "metadata": {
	    "collapsed": true
	   },
	   "outputs": [],
"source": [
"//Tested on Windows 7 Ultimate 32-bit\n",
"//Chapter 4 Bipolar Junction transistors Pg no. 133\n",
"clear;\n",
"clc;\n",
"\n",
"//Given Data\n",
"\n",
"VCEsat=0.25;//VCEsat in volts\n",
"VBB=4.5;//base driving source in volts\n",
"RB=20;//base resistance in kilo-ohms\n",
"RC=680;//collector resistance in ohms\n",
"VCC=9;//collector driving source in volts\n",
"VBE=0.7;//forward drop of emitter diode\n",
"Bdc=100;//dc current gain for CE configuration\n",
"\n",
"//Solution\n",
"//Figure 4.12\n",
"\n",
"ICsat=(VCC-VCEsat)/RC*1000;//value of collector saturation current in milli-amperes\n",
"printf('IC(sat)=%.2f mA\n\n',ICsat);\n",
"IB=(VBB-VBE)/RB;//value of base current in milli-amperes\n",
"printf('IB=%.2f mA\n\n',IB);\n",
"IC=Bdc*IB;//collector current for given IB in milli-amperes\n",
"printf('IC=%d mA\n\n',IC);\n",
"\n",
"if IC>ICsat then\n",
"    printf('Since IC(calculated) = %d mA is greater than IC(sat),\nthe transistor is in saturation.\nThe collector current of %d mA is never reached.\nIf you increase IB further,\nthe collector current is at the saturation value.',IC,IC);\n",
"end\n",
"\n",
"//Error of 0.01 mA in textbook in the calculation of IC(sat)"
   ]
   }
,
{
		   "cell_type": "markdown",
		   "metadata": {},
		   "source": [
			"## Example 4.5: Determination_of_whether_transistor_is_saturated.sce"
		   ]
		  },
  {
"cell_type": "code",
	   "execution_count": null,
	   "metadata": {
	    "collapsed": true
	   },
	   "outputs": [],
"source": [
"//Tested on Windows 7 Ultimate 32-bit\n",
"//Chapter 4 Bipolar Junction transistors Pg no. 133 and 134\n",
"clear;\n",
"clc;\n",
"\n",
"//Given Data\n",
"\n",
"Bdc=50;//dc current gain for CE configuration\n",
"VBB=3;//base driving source in volts\n",
"RB=15;//base resistance in kilo-ohms\n",
"RC=1;//collector resistance in kilo-ohms\n",
"VCC=12;//collector driving source in volts\n",
"VCEsat=0.25;//VCEsat in volts\n",
"VBE=0.7;//forward drop of emitter diode\n",
"\n",
"\n",
"//Solution\n",
"\n",
"ICsat=(VCC-VCEsat)/RC;//value of collector saturation current in milli-amperes\n",
"IB=(VBB-VBE)/RB;//value of base current in milli-amperes\n",
"IC=Bdc*IB;//collector current for given IB in milli-amperes\n",
"\n",
"if IC>ICsat then\n",
"    printf('The transistor is in saturation and VCE=VCEsat=%.2f Volts',VCEsat);\n",
"else\n",
"    printf('The transistor is not in saturation and VCE=VCC-IC*Rc = %.2fVolts',(VCC-IC*RC));\n",
"end"
   ]
   }
,
{
		   "cell_type": "markdown",
		   "metadata": {},
		   "source": [
			"## Example 4.6: Calculation_of_voltage_gain_and_output_voltage_for_given_amplifier_figure.sce"
		   ]
		  },
  {
"cell_type": "code",
	   "execution_count": null,
	   "metadata": {
	    "collapsed": true
	   },
	   "outputs": [],
"source": [
"//Tested on Windows 7 Ultimate 32-bit\n",
"//Chapter 4 Bipolar Junction transistors Pg no. 135\n",
"clear;\n",
"clc;\n",
"\n",
"//Given Data\n",
"\n",
"Vin=50D-3;//rms value of input ac voltage in volts\n",
"Rl=1D3;//load resistance in ohms\n",
"re=40;//emitter diode resistance in ohms\n",
"\n",
"//Solution\n",
"//Figure 4.16\n",
"\n",
"Gv=Rl/re;//voltage gain\n",
"Vout=Gv*Vin;//output voltage in volts\n",
"\n",
"printf('Voltage Gain Gv = %d and Output Voltage Vout = %.2f Vrms(Volts).',Gv,Vout);"
   ]
   }
,
{
		   "cell_type": "markdown",
		   "metadata": {},
		   "source": [
			"## Example 4.7: EX4_7.sce"
		   ]
		  },
  {
"cell_type": "code",
	   "execution_count": null,
	   "metadata": {
	    "collapsed": true
	   },
	   "outputs": [],
"source": [
"//Tested on Windows 7 Ultimate 32-bit\n",
"//Chapter 4 Bipolar Junction transistors Pg no. 139\n",
"clear;\n",
"clc;\n",
"\n",
"//Given Data\n",
"\n",
"IE=2D-3;//emitter current in amperes\n",
"A=0.97;//dc current gain of CB configuration\n",
"Vi=1D-3;//rms value of input ac voltage in volts\n",
"Rl=500;//load resistance in ohms\n",
"VT=26D-3;//temperature equivalent voltage of pn junction\n",
"\n",
"//Solution\n",
"\n",
"disp('(a)');\n",
"re=VT/IE;//emitter diode resistance in ohms\n",
"Zi=re;//input impedance in ohms\n",
"printf('Input impedance of CB circuit = re = %d ohms\n',Zi);\n",
"\n",
"disp('(b)');\n",
"Ii=Vi/Zi;//input current in amperes\n",
"Vo=A*Ii*Rl;//output voltage in volts\n",
"Gv=Vo/Vi;//voltage gain\n",
"\n",
"printf('Voltage gain of CB circuit Gv = %.1f\n',Gv);\n",
"\n",
"disp('(c)');\n",
"//as output cicuit contains reverse biased junction output impedance is infinite\n",
"Gi=-A;//current gain\n",
"\n",
"printf('Output impedance Zo=∞ and Current Gain Gi = %.2f',Gi);"
   ]
   }
,
{
		   "cell_type": "markdown",
		   "metadata": {},
		   "source": [
			"## Example 4.8: Calculation_of_input_impedance_and_current_and_voltage_gain_at_given_load.sce"
		   ]
		  },
  {
"cell_type": "code",
	   "execution_count": null,
	   "metadata": {
	    "collapsed": true
	   },
	   "outputs": [],
"source": [
"//Tested on Windows 7 Ultimate 32-bit\n",
"//Chapter 4 Bipolar Junction transistors Pg no. 139\n",
"clear;\n",
"clc;\n",
"\n",
"//Given Data\n",
"\n",
"B=140;//dc current gain of CE configuration\n",
"IE=2D-3;//emitter current in amperes\n",
"Rl1=2D3;//load resistance in ohms\n",
"Rl2=1.2D3;//load resistance in ohms\n",
"VT=26D-3;//temperature equivalent voltage of pn junction\n",
"\n",
"//Solution\n",
"\n",
"disp('(a)');\n",
"re=VT/IE;//emitter diode resistance in ohms\n",
"Zi=B*re;//input impedance in ohms\n",
"printf('Input impedance of CE circuit = re = %d ohms\n',Zi);\n",
"\n",
"disp('(b)');\n",
"Gv=-Rl1/re;//voltage gain\n",
"\n",
"printf('Voltage gain of CE circuit at 2k-ohm load = Gv = %.1f\n',Gv);\n",
"\n",
"disp('(c)');\n",
"Gi=B;//current gain\n",
"\n",
"printf('Current Gain Gi = %d',Gi);\n",
"\n",
"//Error in voltage gain in part (b) as Rl is mistaken as 1.2 kilo-ohm instead of 2 kilo-ohm"
   ]
   }
,
{
		   "cell_type": "markdown",
		   "metadata": {},
		   "source": [
			"## Example 4.9: Determination_of_CE_hybrid_model_and_CB_re_model.sce"
		   ]
		  },
  {
"cell_type": "code",
	   "execution_count": null,
	   "metadata": {
	    "collapsed": true
	   },
	   "outputs": [],
"source": [
"//Tested on Windows 7 Ultimate 32-bit\n",
"//Chapter 4 Bipolar Junction transistors Pg no. 141 and 142\n",
"clear;\n",
"clc;\n",
"\n",
"//Given Data\n",
"\n",
"hfe=120;//forward transfer current ratio of CE configuration\n",
"hoe=20D-6;//output conductance of CE configuration in siemens\n",
"hohfe=1D-6;//output conductance of Chfe configuration in siemens\n",
"IE=2D-3;//emitter current in amperes\n",
"VT=26D-3;//temperature equivalent voltage of pn junction\n",
"\n",
"//Solution\n",
"\n",
"disp('(a)');\n",
"re=VT/IE;//emitter diode resistance in ohms\n",
"hi=hfe*re/1000;//input impedance in kilo-ohms\n",
"ro=1/hoe/1000;//output impedance in kilo-ohms\n",
"printf('hi = %.2f kilo-ohms\nro = %d kilo-ohms\nValue of current source is %d*Ib',hi,ro,hfe);\n",
"//output circuit is given as Figure 4.24\n",
"\n",
"disp('(b)');\n",
"hi=re;//input impedance in ohms\n",
"A=hfe/(hfe+1);//current gain alpha of Chfe circuit\n",
"A=round(A);//taking approximate value\n",
"ro=1/hohfe/10^6;//output impedance in mega-ohms\n",
"printf('hi = %d ohms\nro = %d mega-ohms\nValue of current source is %d*Ib',hi,ro,A);\n",
"//output circuit is given as Figure 4.25\n",
"\n",
"//Error in decimal places due to approximations in textbook"
   ]
   }
],
"metadata": {
		  "kernelspec": {
		   "display_name": "Scilab",
		   "language": "scilab",
		   "name": "scilab"
		  },
		  "language_info": {
		   "file_extension": ".sce",
		   "help_links": [
			{
			 "text": "MetaKernel Magics",
			 "url": "https://github.com/calysto/metakernel/blob/master/metakernel/magics/README.md"
			}
		   ],
		   "mimetype": "text/x-octave",
		   "name": "scilab",
		   "version": "0.7.1"
		  }
		 },
		 "nbformat": 4,
		 "nbformat_minor": 0
}
