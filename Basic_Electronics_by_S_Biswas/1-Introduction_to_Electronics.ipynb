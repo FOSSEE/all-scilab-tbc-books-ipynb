{
"cells": [
 {
		   "cell_type": "markdown",
	   "metadata": {},
	   "source": [
       "# Chapter 1: Introduction to Electronics"
	   ]
	},
{
		   "cell_type": "markdown",
		   "metadata": {},
		   "source": [
			"## Example 1.10: Calculation_of_Current_rating_of_Resistor.sce"
		   ]
		  },
  {
"cell_type": "code",
	   "execution_count": null,
	   "metadata": {
	    "collapsed": true
	   },
	   "outputs": [],
"source": [
"//Tested on Windows 7 Ultimate 32-bit\n",
"//Chapter 1 Introduction to Electronics Pg no. 33\n",
"//Solved Problem 3\n",
"clear;\n",
"clc;\n",
"\n",
"//Given Data\n",
"\n",
"R=120;//resistance in ohms\n",
"P=1000;//power in watts\n",
"\n",
"//Solution\n",
"\n",
"I=sqrt(P/R);//current in amperes\n",
"\n",
"printf('I=%.2f Amperes.',I);//Displaying upto 2 places of decimal"
   ]
   }
,
{
		   "cell_type": "markdown",
		   "metadata": {},
		   "source": [
			"## Example 1.11: Calculation_of_Current_rating_of_Resistor.sce"
		   ]
		  },
  {
"cell_type": "code",
	   "execution_count": null,
	   "metadata": {
	    "collapsed": true
	   },
	   "outputs": [],
"source": [
"//Tested on Windows 7 Ultimate 32-bit\n",
"//Chapter 1 Introduction to Electronics Pg no. 33\n",
"//Solved Problem 4\n",
"clear;\n",
"clc;\n",
"\n",
"//Given Data\n",
"\n",
"R=10;//resistance in ohms\n",
"P=4;//power in watts\n",
"\n",
"//Solution\n",
"\n",
"I=sqrt(P/R);//current in amperes\n",
"\n",
"printf('Maximum safe current is I=%.3f Amperes.',I);//Displaying upto 3 places of decimal"
   ]
   }
,
{
		   "cell_type": "markdown",
		   "metadata": {},
		   "source": [
			"## Example 1.12: Potentiometer_for_Motor_Speed_Control.sce"
		   ]
		  },
  {
"cell_type": "code",
	   "execution_count": null,
	   "metadata": {
	    "collapsed": true
	   },
	   "outputs": [],
"source": [
"//Tested on Windows 7 Ultimate 32-bit\n",
"//Chapter 1 Introduction to Electronics Pg no. 33 and 34\n",
"//Solved Problem 5\n",
"clear;\n",
"clc;\n",
"\n",
"//Given Data\n",
"//Figure 1.34\n",
"\n",
"Rm=2;//resistance of motor in ohms\n",
"V=10;//battery voltage in volts\n",
"Rpot=10;//maximum resistance of potentiometer in ohms\n",
"Ppot=100;//maximum power rating of potentiometer in watts\n",
"\n",
"//Solution\n",
"\n",
"Ipot=sqrt(Ppot/(Rpot+Rm));//maximum safe current possible through potentiometer in amperes\n",
"printf('Current rating of potentiometer I = %.2f Amps\n\n',Ipot);\n",
"\n",
"Rp=10;//Resistance of potentiometer set in ohms\n",
"I10=V/(Rp+Rm);//Current for corresponding resistance of potentiometer\n",
"\n",
"printf('When the potentiometer is set to %d Ohms,\nthe total resistance of the circuit is %d ohms.\n',Rp,Rp+Rm);\n",
"printf('I = %.1f Amps\n',I10);\n",
"\n",
"if(I10<Ipot)\n",
"    printf('\nThe amount of current is less than %.2f Amps and the potentiometer is safe.\n\n',Ipot);\n",
"end\n",
"\n",
"\n",
"Rp=2;//Resistance of potentiometer set in ohms\n",
"I2=V/(Rp+Rm);//Current for corresponding resistance of potentiometer\n",
"\n",
"printf('When the potentiometer is set to %d Ohms,\nthe total resistance of the circuit is %d ohms\n',Rp,Rp+Rm);\n",
"printf('I = %.1f Amps\n',I2);\n",
"\n",
"if(I10<Ipot)\n",
"    printf('\nThe amount of current is less than %.2f Amps and the potentiometer is safe \n',Ipot);\n",
"end\n",
"\n",
"Rp=1;//Resistance of potentiometer set in ohms\n",
"I3=V/(Rp+Rm);//Current for corresponding resistance of potentiometer\n",
"\n",
"printf('\n However when potentiometer resistance is %d ohms, I= %d/%d = %.1f Amp.\nThis is greater than %.2f Amperes.\nThe potentiometer wire will get heated and temperature will rise.\nFor still lower values of potentiometer setting,\nI will be still higher and the potentiometer will be damaged.\nIt may even burn out.',Rp,V,(Rp+Rm),I3,Ipot)"
   ]
   }
,
{
		   "cell_type": "markdown",
		   "metadata": {},
		   "source": [
			"## Example 1.1: Colour_coding_of_resistors.sce"
		   ]
		  },
  {
"cell_type": "code",
	   "execution_count": null,
	   "metadata": {
	    "collapsed": true
	   },
	   "outputs": [],
"source": [
"//Tested on Windows 7 Ultimate 32-bit\n",
"//Chapter 1 Introduction to Electronics Pg no. 8\n",
"clear;\n",
"clc;\n",
"\n",
"//Given Data\n",
"\n",
"//Colour coding of four band resistor\n",
"//Given Sequence: [Gray Red Red Gold]\n",
"gray=8;\n",
"red=2;\n",
"gold=0.05;\n",
"\n",
"//Solution\n",
"\n",
"R=(gray*10+red)*(10^(red));//Base resistance in ohms\n",
"R_min=R*(1-0.05);//Least possible resistance in ohms using variance\n",
"R_max=R*(1+0.05);//Most possible resistance in ohms using variance\n",
"\n",
"printf('Resistance should be in between %d ohms and %d ohms',R_min,R_max);\n",
"//Error in textbook as 5% of 8200 is 410 and not 41\n",
""
   ]
   }
,
{
		   "cell_type": "markdown",
		   "metadata": {},
		   "source": [
			"## Example 1.2: Colour_coding_of_resistors.sce"
		   ]
		  },
  {
"cell_type": "code",
	   "execution_count": null,
	   "metadata": {
	    "collapsed": true
	   },
	   "outputs": [],
"source": [
"//Tested on Windows 7 Ultimate 32-bit\n",
"//Chapter 1 Introduction to Electronics Pg no. 9\n",
"clear;\n",
"clc;\n",
"\n",
"//Given Data\n",
"\n",
"//Colour coding of four band resistor\n",
"//Given Sequence: [Orange Orange Yellow Silver]\n",
"orange=3;\n",
"yellow=4;\n",
"silver=0.1;\n",
"\n",
"//Solution\n",
"\n",
"R=(orange*10+orange)*(10^(yellow));//Base resistance in ohms\n",
"R_min=R*(1-silver);//Least possible resistance in ohms using variance\n",
"R_max=R*(1+silver);//Most possible resistance in ohms using variance\n",
"\n",
"printf('Resistance should be in between %d ohms and %d ohms',R_min,R_max);\n",
"//Error in textbook as 330K is not 33000 and is 330000\n",
""
   ]
   }
,
{
		   "cell_type": "markdown",
		   "metadata": {},
		   "source": [
			"## Example 1.3: Colour_coding_of_resistors.sce"
		   ]
		  },
  {
"cell_type": "code",
	   "execution_count": null,
	   "metadata": {
	    "collapsed": true
	   },
	   "outputs": [],
"source": [
"//Tested on Windows 7 Ultimate 32-bit\n",
"//Chapter 1 Introduction to Electronics Pg no. 9\n",
"clear;\n",
"clc;\n",
"\n",
"//Given Data\n",
"\n",
"//Colour coding of five band resistor\n",
"//Given Sequence: [Yellow Gray Violet Black Green]\n",
"yellow=4;\n",
"gray=8;\n",
"violet=7;\n",
"black=0;\n",
"green=0.005;\n",
"\n",
"//Solution\n",
"\n",
"R=(yellow*100+gray*10+violet)*(10^(black));//Base resistance in ohms\n",
"R_min=R*(1-green);//Least possible resistance in ohms using variance\n",
"R_max=R*(1+green);//Most possible resistance in ohms using variance\n",
"\n",
"printf('Resistance should be in between %.2f ohms and %.2f ohms',R_min,R_max);//Upto 2 decimal points\n",
"//Decimal approximation error w.r.t. textbook"
   ]
   }
,
{
		   "cell_type": "markdown",
		   "metadata": {},
		   "source": [
			"## Example 1.4: Calculation_of_Parallel_Plate_Capacitance.sce"
		   ]
		  },
  {
"cell_type": "code",
	   "execution_count": null,
	   "metadata": {
	    "collapsed": true
	   },
	   "outputs": [],
"source": [
"//Tested on Windows 7 Ultimate 32-bit\n",
"//Chapter 1 Introduction to Electronics Pg no. 12\n",
"clear;\n",
"clc;\n",
"\n",
"//Given Data\n",
"\n",
"area=1;//meter squares\n",
"d=0.25;//distance between plates in centimeters\n",
"e=8.85D-12;//permittivity of air\n",
"\n",
"//Solution\n",
"\n",
"d=d*10^-2;//converting distance into meters\n",
"C=e*area/d;//Capacitance in Farads\n",
"C=C*10^12;//Coverting capacitance to pF from F\n",
"printf('C= %d pF\n',C);\n",
"printf('The capacitor can thus store a charge of %d*10^-12 C with 1 Volt.',C);"
   ]
   }
,
{
		   "cell_type": "markdown",
		   "metadata": {},
		   "source": [
			"## Example 1.6: Colour_coding_of_Tantalum_Capacitors.sce"
		   ]
		  },
  {
"cell_type": "code",
	   "execution_count": null,
	   "metadata": {
	    "collapsed": true
	   },
	   "outputs": [],
"source": [
"//Tested on Windows 7 Ultimate 32-bit\n",
"//Chapter 1 Introduction to Electronics Pg no. 17\n",
"clear;\n",
"clc;\n",
"\n",
"//Given Data\n",
"//Fig. 1.16\n",
"\n",
"//Solution\n",
"blue=6;\n",
"gray=8;\n",
"violet=50;\n",
"gold=0.05;\n",
"\n",
"C=(blue*10+gray)*10^blue*10^-12;//Capacitance in Farads\n",
"C=C*10^6;//Converting from Farads to micro Farads\n",
"\n",
"printf('The value of capacitance is %d uF \n and voltage rating is %d volts and tolerance of ±%d percent.',C,violet,gold*100);"
   ]
   }
,
{
		   "cell_type": "markdown",
		   "metadata": {},
		   "source": [
			"## Example 1.7: Calculation_of_Output_Voltage_of_an_Amplifier_equivalent_circuit.sce"
		   ]
		  },
  {
"cell_type": "code",
	   "execution_count": null,
	   "metadata": {
	    "collapsed": true
	   },
	   "outputs": [],
"source": [
"//Tested on Windows 7 Ultimate 32-bit\n",
"//Chapter 1 Introduction to Electronics Pg no. 29\n",
"clear;\n",
"clc;\n",
"\n",
"//Given Data\n",
"//Fig 1.33\n",
"vi=6D-3;//input volatage in volts\n",
"Rin=1200;//input resistance in ohms\n",
"Ai=100;//current gain\n",
"Ro=25000;//output resistance in ohms\n",
"Rl=1000;//load impedance\n",
"\n",
"//Solution\n",
"\n",
"is=vi/Rin;//Input current\n",
"i2=Ai*is;//Output circuit current source value\n",
"iL=i2*(Ro/(Ro+Rl));//Current divider to  find load current\n",
"Vout=iL*Rl;\n",
"\n",
"printf('The output voltage is Vout=%.2f V',Vout);//Displaying upto 2 places of decimal"
   ]
   }
,
{
		   "cell_type": "markdown",
		   "metadata": {},
		   "source": [
			"## Example 1.8: Calculation_of_maximum_current_capacity.sce"
		   ]
		  },
  {
"cell_type": "code",
	   "execution_count": null,
	   "metadata": {
	    "collapsed": true
	   },
	   "outputs": [],
"source": [
"//Tested on Windows 7 Ultimate 32-bit\n",
"//Chapter 1 Introduction to Electronics Pg no. 33\n",
"//Solved Problem 1\n",
"clear;\n",
"clc;\n",
"\n",
"//Given Data\n",
"\n",
"wattage=100;//wattage in watts\n",
"voltage=220;//voltage in volts\n",
"\n",
"//Solution\n",
"\n",
"I=wattage/voltage;//current in amperes\n",
"\n",
"printf('I=%.3f Amp.',I);//Displaying upto 3 places of decimal\n",
"//Error due to decimal approximations"
   ]
   }
,
{
		   "cell_type": "markdown",
		   "metadata": {},
		   "source": [
			"## Example 1.9: Calculation_of_Power_in_a_Resistor.sce"
		   ]
		  },
  {
"cell_type": "code",
	   "execution_count": null,
	   "metadata": {
	    "collapsed": true
	   },
	   "outputs": [],
"source": [
"//Tested on Windows 7 Ultimate 32-bit\n",
"//Chapter 1 Introduction to Electronics Pg no. 33\n",
"//Solved Problem 2\n",
"clear;\n",
"clc;\n",
"\n",
"//Given Data\n",
"\n",
"I=6;//current in amperes\n",
"R=36;//resistance in ohms\n",
"\n",
"//Solution\n",
"\n",
"P=I^2*R;//power in watts\n",
"\n",
"printf('P=%d W.',P);"
   ]
   }
],
"metadata": {
		  "kernelspec": {
		   "display_name": "Scilab",
		   "language": "scilab",
		   "name": "scilab"
		  },
		  "language_info": {
		   "file_extension": ".sce",
		   "help_links": [
			{
			 "text": "MetaKernel Magics",
			 "url": "https://github.com/calysto/metakernel/blob/master/metakernel/magics/README.md"
			}
		   ],
		   "mimetype": "text/x-octave",
		   "name": "scilab",
		   "version": "0.7.1"
		  }
		 },
		 "nbformat": 4,
		 "nbformat_minor": 0
}
