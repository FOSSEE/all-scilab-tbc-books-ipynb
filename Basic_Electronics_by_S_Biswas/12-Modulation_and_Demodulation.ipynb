{
"cells": [
 {
		   "cell_type": "markdown",
	   "metadata": {},
	   "source": [
       "# Chapter 12: Modulation and Demodulation"
	   ]
	},
{
		   "cell_type": "markdown",
		   "metadata": {},
		   "source": [
			"## Example 12.10: Calculation_of_modulation_index_for_given_FM_transmission.sce"
		   ]
		  },
  {
"cell_type": "code",
	   "execution_count": null,
	   "metadata": {
	    "collapsed": true
	   },
	   "outputs": [],
"source": [
"//Tested on Windows 7 Ultimate 32-bit\n",
"//Chapter 12 Modulation and Demodulation Pg no. 393\n",
"clear;\n",
"clc;\n",
"\n",
"//Given\n",
"\n",
"fc=150D6;//frequency of carrier wave in hertz\n",
"fm=10D3;//frequency of modulating wave in hertz\n",
"df=25D3;//maximum frequency deviation\n",
"\n",
"//Solution\n",
"\n",
"disp('(i)');\n",
"B=df/fm;//modulation index for FM wave\n",
"printf('Modulation index β = %.1f',B);\n",
"disp('(ii)');\n",
"printf('The three significant side frequency pairs are:\n ');\n",
"printf('%d MHz ± %d kHz\n ',fc/10^6,fm/10^3);\n",
"printf('%d MHz ± %d kHz\n ',fc/10^6,fm*2/10^3);\n",
"printf('%d MHz ± %d kHz\n ',fc/10^6,fm*3/10^3);"
   ]
   }
,
{
		   "cell_type": "markdown",
		   "metadata": {},
		   "source": [
			"## Example 12.11: Calculation_of_bandwidth_for_given_FM_wave_transmission.sce"
		   ]
		  },
  {
"cell_type": "code",
	   "execution_count": null,
	   "metadata": {
	    "collapsed": true
	   },
	   "outputs": [],
"source": [
"//Tested on Windows 7 Ultimate 32-bit\n",
"//Chapter 12 Modulation and Demodulation Pg no. 394\n",
"clear;\n",
"clc;\n",
"\n",
"//Given\n",
"\n",
"df=75D3;//maximum frequency deviation\n",
"fm=20D3;//frequency of modulating wave in hertz\n",
"\n",
"//Solution\n",
"\n",
"BW=2*(df+fm);//bandwidth for FM wave\n",
"printf('Bandwidth required in FM wave transmission B = %d kHz',BW/10^3);"
   ]
   }
,
{
		   "cell_type": "markdown",
		   "metadata": {},
		   "source": [
			"## Example 12.12: Calculation_of_average_power_output_for_a_FM_signal.sce"
		   ]
		  },
  {
"cell_type": "code",
	   "execution_count": null,
	   "metadata": {
	    "collapsed": true
	   },
	   "outputs": [],
"source": [
"//Tested on Windows 7 Ultimate 32-bit\n",
"//Chapter 12 Modulation and Demodulation Pg no. 394\n",
"clear;\n",
"clc;\n",
"\n",
"//Given\n",
"\n",
"df=6D3;//maximum frequency deviation\n",
"fm=1.5D3;//frequency of modulating wave in hertz\n",
"Pc=25;//carrier power in watts\n",
"J=[-0.4 -0.07 0.36 0.43 0.28 0.13 0.05 0.02];//Bessel function values required for given problem's modualtion index\n",
"\n",
"//Solution\n",
"\n",
"B=df/fm;//modulation index\n",
"PT=Pc*(J(1)^2+2*(J(2)^2+J(3)^2+J(4)^2+J(5)^2+J(6)^2+J(7)^2+J(8)^2));//total carrier power in watts\n",
"printf('Total carrier power PT = %.f Watts',PT);"
   ]
   }
,
{
		   "cell_type": "markdown",
		   "metadata": {},
		   "source": [
			"## Example 12.1: EX12_1.sce"
		   ]
		  },
  {
"cell_type": "code",
	   "execution_count": null,
	   "metadata": {
	    "collapsed": true
	   },
	   "outputs": [],
"source": [
"//Tested on Windows 7 Ultimate 32-bit\n",
"//Chapter 12 Modulation and Demodulation Pg no. 378\n",
"clear;\n",
"clc;\n",
"\n",
"//Given\n",
"\n",
"Emax=10;//maximum peak to peak voltage of an AM signal\n",
"Emin=3;//minimum peak to peak voltage of an AM signal\n",
"\n",
"//Solution\n",
"\n",
"m=(Emax-Emin)/(Emax+Emin);//modulation index m\n",
"printf('Percent modulation = %.2f %%\n\n ',m*100);\n",
"Ac=(Emax-Emin)/(2*m);//amplitude of unmodulated carrier wave\n",
"printf('Amplitude of unmodulated carrier wave Ac = %.1f Volts',Ac);"
   ]
   }
,
{
		   "cell_type": "markdown",
		   "metadata": {},
		   "source": [
			"## Example 12.2: Calculations_of_sideband_parameters_and_width_for_given_AM_wave.sce"
		   ]
		  },
  {
"cell_type": "code",
	   "execution_count": null,
	   "metadata": {
	    "collapsed": true
	   },
	   "outputs": [],
"source": [
"//Tested on Windows 7 Ultimate 32-bit\n",
"//Chapter 12 Modulation and Demodulation Pg no. 378 and 379\n",
"clear;\n",
"clc;\n",
"\n",
"//Given\n",
"\n",
"fc=1000D3;//frequency of carrier wave in hertz\n",
"fa1=450;//lowest audio frequency of modulating signal in hertz\n",
"fa2=1650;//highest audio frequency of modulating signal in hertz\n",
"\n",
"//Solution\n",
"\n",
"disp('(i)');\n",
"FS=fa2-fa1;//frequency span of each sideband in hertz\n",
"printf('Frequency span of each sideband = %d Hz',FS);\n",
"\n",
"disp('(ii)');\n",
"FMAX=fc+fa2;//maximum upper side frequency in hertz\n",
"printf('Maximum upper side frequency = %.2f kHz',FMAX/10^3);\n",
"\n",
"disp('(iii)');\n",
"FMIN=fc-fa2;//minimum upper side frequency in hertz\n",
"printf('Minimum upper side frequency = %.2f kHz',FMIN/10^3);\n",
"\n",
"disp('(iv)');\n",
"CW=FMAX-FMIN;//channel width in hertz\n",
"printf('Channel width = %.1f kHz',CW/10^3);"
   ]
   }
,
{
		   "cell_type": "markdown",
		   "metadata": {},
		   "source": [
			"## Example 12.3: Calculation_of_power_developed_by_AM_wave.sce"
		   ]
		  },
  {
"cell_type": "code",
	   "execution_count": null,
	   "metadata": {
	    "collapsed": true
	   },
	   "outputs": [],
"source": [
"//Tested on Windows 7 Ultimate 32-bit\n",
"//Chapter 12 Modulation and Demodulation Pg no. 379\n",
"clear;\n",
"clc;\n",
"\n",
"//Given\n",
"\n",
"RL=180;//load resistance in ohms\n",
"Vc=90;//peak voltage of carrier wave in volts\n",
"m=0.5;//modulation index of AM wave\n",
"\n",
"//Solution\n",
"\n",
"Pc=Vc^2/(2*RL);//unmodulated carrier power in watts\n",
"Pt=Pc*(1+m^2/2);//total power developed by AM wave in watts\n",
"Pcs=Pc*m^2/2;//power in sideband in watts\n",
"printf('Total power developed by AM wave Pt = %.4f Watts\n ',Pt);\n",
"printf('Power in sideband Pc = %.4f Watts',Pcs);"
   ]
   }
,
{
		   "cell_type": "markdown",
		   "metadata": {},
		   "source": [
			"## Example 12.4: EX12_4.sce"
		   ]
		  },
  {
"cell_type": "code",
	   "execution_count": null,
	   "metadata": {
	    "collapsed": true
	   },
	   "outputs": [],
"source": [
"//Tested on Windows 7 Ultimate 32-bit\n",
"//Chapter 12 Modulation and Demodulation Pg no. 379\n",
"clear;\n",
"clc;\n",
"\n",
"//Given\n",
"\n",
"Vm=12;//modulating signal peak to peak voltage in volts\n",
"Vc=9;//carrier wave peak amplitude in volts\n",
"\n",
"//Solution\n",
"\n",
"Emax=Vc+Vm/2;//maximum amplitude of AM signal in volts\n",
"Emin=Vc-Vm/2;//minimum amplitude of AM signal in volts\n",
"m=(Emax-Emin)/(Emax+Emin);//depth of modulation\n",
"L1_to_L2=Emin/Emax;//ratio of side lengths\n",
"printf('Depth of modulation = %.2f %%\n ',m*100);\n",
"printf('Ratio of side-lengths L1/L2 = %.1f',L1_to_L2);"
   ]
   }
,
{
		   "cell_type": "markdown",
		   "metadata": {},
		   "source": [
			"## Example 12.6: Plot_of_frequency_spectrum_and_calculation_of_modulation_index_for_AM_wave.sce"
		   ]
		  },
  {
"cell_type": "code",
	   "execution_count": null,
	   "metadata": {
	    "collapsed": true
	   },
	   "outputs": [],
"source": [
"//Tested on Windows 7 Ultimate 32-bit\n",
"//Chapter 12 Modulation and Demodulation Pg no. 380\n",
"clear;\n",
"clc;\n",
"\n",
"//Given\n",
"\n",
"fc=9D6;//frequency of carrier wave in hertz\n",
"Vc=9;//peak value of carrier wave in volts\n",
"fm=10D3;//frequency of modulating wave in hertz\n",
"Vm=4.5;//amplitude of modulating sine wave in volts\n",
"\n",
"//Solution\n",
"\n",
"m=Vm/Vc;//modulation index\n",
"printf('Modulation index m = %d %%',m*100);\n",
"fu=fc+fm;//upper side band frequency in hertz\n",
"fl=fc-fm;//lower side band frequency in hertz\n",
"f=[fc-2*fm fc-fm fc fc+fm fc+2*fm];//frequency range\n",
"for i=1:5\n",
"    if f(i)==fu | f(i)==fl then\n",
"        A(i)=m*Vc/2;//amplitude of side frequency in volts\n",
"    else\n",
"        A(i)=0;//amplitude of side frequency in volts\n",
"    end\n",
"end\n",
"\n",
"bar(f/10^6,A,0.1,'red');\n",
"title('Frequency spectrum of AM wave');\n",
"xlabel('Frequency in MHz');\n",
"ylabel('Amplitude in volts');\n",
"xstring(8.988,2.3,'lower side band');\n",
"xstring(9.008,2.3,'upper side band');"
   ]
   }
,
{
		   "cell_type": "markdown",
		   "metadata": {},
		   "source": [
			"## Example 12.7: Calculation_of_the_modulation_index_for_given_transmitter_currents.sce"
		   ]
		  },
  {
"cell_type": "code",
	   "execution_count": null,
	   "metadata": {
	    "collapsed": true
	   },
	   "outputs": [],
"source": [
"//Tested on Windows 7 Ultimate 32-bit\n",
"//Chapter 12 Modulation and Demodulation Pg no. 380 and 381\n",
"clear;\n",
"clc;\n",
"\n",
"//Given\n",
"\n",
"Ic=12;//rms current of unmodulated carrier in amperes\n",
"I=14;//rms current of modulated carrier in amperes\n",
"\n",
"//Solution\n",
"\n",
"m=sqrt(2*((I/Ic)^2-1));//modulation index of AM wave\n",
"printf('Modulation index m = %.2f %%',m*100);"
   ]
   }
,
{
		   "cell_type": "markdown",
		   "metadata": {},
		   "source": [
			"## Example 12.8: Calculation_of_required_audio_power_for_given_AM_signal.sce"
		   ]
		  },
  {
"cell_type": "code",
	   "execution_count": null,
	   "metadata": {
	    "collapsed": true
	   },
	   "outputs": [],
"source": [
"//Tested on Windows 7 Ultimate 32-bit\n",
"//Chapter 12 Modulation and Demodulation Pg no. 381\n",
"clear;\n",
"clc;\n",
"\n",
"//Given\n",
"\n",
"Pc=10D3;//carrier wave power in watts\n",
"m=0.75;//depth of modulation\n",
"e=0.65;//efficiency of modulator\n",
"\n",
"//Solution\n",
"\n",
"Ps=0.5*m^2*Pc;//total sideband power in watts\n",
"Pa=Ps/e;//required audio power in watts\n",
"printf('Required audio power P = %.3f kW',Pa/10^3);"
   ]
   }
,
{
		   "cell_type": "markdown",
		   "metadata": {},
		   "source": [
			"## Example 12.9: Calculation_of_maximum_carrier_power_for_given_transmission_of_AM_wave.sce"
		   ]
		  },
  {
"cell_type": "code",
	   "execution_count": null,
	   "metadata": {
	    "collapsed": true
	   },
	   "outputs": [],
"source": [
"//Tested on Windows 7 Ultimate 32-bit\n",
"//Chapter 12 Modulation and Demodulation Pg no. 381\n",
"clear;\n",
"clc;\n",
"\n",
"//Given\n",
"\n",
"Pc1=12D3;//carrier wave power in watts\n",
"m1=0.75;//maximum modulation index that can be achieved\n",
"m2=0.45;//modulation index for AM wave\n",
"\n",
"//Solution\n",
"\n",
"Pt=Pc1*(1+m1^2/2);//total power of AM wave in watts\n",
"Pc2=Pt/(1+m2^2/2);//carrier power in watts for m=m2\n",
"printf('Carrier power cane be raised to Pc = %.2f kW',Pc2/10^3);"
   ]
   }
],
"metadata": {
		  "kernelspec": {
		   "display_name": "Scilab",
		   "language": "scilab",
		   "name": "scilab"
		  },
		  "language_info": {
		   "file_extension": ".sce",
		   "help_links": [
			{
			 "text": "MetaKernel Magics",
			 "url": "https://github.com/calysto/metakernel/blob/master/metakernel/magics/README.md"
			}
		   ],
		   "mimetype": "text/x-octave",
		   "name": "scilab",
		   "version": "0.7.1"
		  }
		 },
		 "nbformat": 4,
		 "nbformat_minor": 0
}
