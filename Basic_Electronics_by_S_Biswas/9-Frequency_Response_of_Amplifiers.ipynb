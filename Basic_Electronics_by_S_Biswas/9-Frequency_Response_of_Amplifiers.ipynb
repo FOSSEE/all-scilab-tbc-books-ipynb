{
"cells": [
 {
		   "cell_type": "markdown",
	   "metadata": {},
	   "source": [
       "# Chapter 9: Frequency Response of Amplifiers"
	   ]
	},
{
		   "cell_type": "markdown",
		   "metadata": {},
		   "source": [
			"## Example 9.10: Calculation_of_phase_shift_of_input_RC_network_of_a_given_amplifier.sce"
		   ]
		  },
  {
"cell_type": "code",
	   "execution_count": null,
	   "metadata": {
	    "collapsed": true
	   },
	   "outputs": [],
"source": [
"//Tested on Windows 7 Ultimate 32-bit\n",
"//Chapter 9 Frequency Response of Amplifier Pg no. 313 and 314\n",
"clear;\n",
"clc;\n",
"\n",
"//Given\n",
"\n",
"VCC=12;//collector supply voltage in volts\n",
"RC=2.7D3;//collector resistance in ohms\n",
"RE=560;//emitter resistance in ohms\n",
"R1=15D3;//divider network resistance R1 in ohms\n",
"R2=5.6D3;//divider network resistance R2 in ohms\n",
"VBE=0.7;//forward voltage drop of emitter diode in volts\n",
"VT=25D-3;//voltage equivalent of temperature in volts\n",
"B=100;//DC CE current gain bet\n",
"Rs=600;//source internal impedance in ohms\n",
"RL=2.7D3;//load resistance in ohms\n",
"Cbe=15D-12;//base to emitter capacitance in farads\n",
"Cbc=2D-12;//base to collector capacitance in farads\n",
"Cwi=5D-12;//wiring capacitance in farads\n",
"f=[1.19D6 2.38D6 4.76D6];//frequency values in hertz\n",
"\n",
"//Solution\n",
"\n",
"VB=VCC*R2/(R1+R2);//base to ground voltage in volts\n",
"VE=VB-VBE;//emitter to ground voltage in volts\n",
"IE=VE/RE;//emitter current in amperes\n",
"re=VT/IE;//a.c. emitter resistance in ohms\n",
"RTH=1/(1/Rs+1/R1+1/R2+1/B/re);//thevenised input resistance in ohms\n",
"Gv_mid=RC*RL/(RC+RL)/re;//midrange gain of amplifier\n",
"Cin_miller=Cbc*(1+Gv_mid);//input miller capacitance in farads\n",
"C=Cwi+Cbe+Cin_miller;//total input capacitance in farads\n",
"\n",
"for i=1:3\n",
"    phi=atand(2*%pi*RTH*f(i)*C);\n",
"    printf('At f=%.2f MHz ɸ = %.2f°\n\n ',f(i)/10^6,phi);\n",
"end"
   ]
   }
,
{
		   "cell_type": "markdown",
		   "metadata": {},
		   "source": [
			"## Example 9.11: EX9_11.sce"
		   ]
		  },
  {
"cell_type": "code",
	   "execution_count": null,
	   "metadata": {
	    "collapsed": true
	   },
	   "outputs": [],
"source": [
"//Tested on Windows 7 Ultimate 32-bit\n",
"//Chapter 9 Frequency Response of Amplifier Pg no. 314 and 315\n",
"clear;\n",
"clc;\n",
"\n",
"//Given\n",
"\n",
"VCC=12;//collector supply voltage in volts\n",
"RC=2.7D3;//collector resistance in ohms\n",
"RE=560;//emitter resistance in ohms\n",
"R1=15D3;//divider network resistance R1 in ohms\n",
"R2=5.6D3;//divider network resistance R2 in ohms\n",
"VBE=0.7;//forward voltage drop of emitter diode in volts\n",
"VT=25D-3;//voltage equivalent of temperature in volts\n",
"B=100;//DC CE current gain bet\n",
"Rs=600;//source internal impedance in ohms\n",
"RL=2.7D3;//load resistance in ohms\n",
"Cbe=15D-12;//base to emitter capacitance in farads\n",
"Cbc=2D-12;//base to collector capacitance in farads\n",
"Cwo=1D-12;//output wiring capacitance in farads\n",
"f=[1.19D6 2.38D6 4.76D6];//frequency values in hertz\n",
"\n",
"//Solution\n",
"\n",
"VB=VCC*R2/(R1+R2);//base to ground voltage in volts\n",
"VE=VB-VBE;//emitter to ground voltage in volts\n",
"IE=VE/RE;//emitter current in amperes\n",
"re=VT/IE;//a.c. emitter resistance in ohms\n",
"RTH=1/(1/Rs+1/R1+1/R2+1/B/re);//thevenised input resistance in ohms\n",
"Gv_mid=RC*RL/(RC+RL)/re;//midrange gain of amplifier\n",
"Cout_miller=Cbc*(1+Gv_mid)/Gv_mid;//output miller capacitance in farads\n",
"Cout_dash=Cout_miller+Cwo;//total output capacitance in farads\n",
"RL_dash=RL*RC/(RL+RC);//total output resistance in ohms\n",
"printf('The high frequency input R-C network consists of\n ');\n",
"printf('R = %.2f kilo-ohms\n ',RL_dash/10^3);\n",
"printf('C = %.f pF\n\n ',Cout_dash*10^12);\n",
"\n",
"fc=1/2/%pi/RL_dash/Cout_dash;//critical frequency in hertz\n",
"printf('fc = %.1f MHz',fc/10^6);\n",
""
   ]
   }
,
{
		   "cell_type": "markdown",
		   "metadata": {},
		   "source": [
			"## Example 9.12: Calculation_of_bandwidth_of_an_amplifier_for_given_cutoff_frequencies.sce"
		   ]
		  },
  {
"cell_type": "code",
	   "execution_count": null,
	   "metadata": {
	    "collapsed": true
	   },
	   "outputs": [],
"source": [
"//Tested on Windows 7 Ultimate 32-bit\n",
"//Chapter 9 Frequency Response of Amplifier Pg no. 316\n",
"clear;\n",
"clc;\n",
"\n",
"//Given\n",
"\n",
"fch1=5D3;//higher cut-off frequency in hertz\n",
"fcl1=20;//lower cut-off frequency in hertz\n",
"\n",
"//Solution\n",
"\n",
"BW=fch1-fcl1;//bandwidth in hertz\n",
"printf('BW = %.f Hz',BW);\n",
""
   ]
   }
,
{
		   "cell_type": "markdown",
		   "metadata": {},
		   "source": [
			"## Example 9.13: EX9_13.sce"
		   ]
		  },
  {
"cell_type": "code",
	   "execution_count": null,
	   "metadata": {
	    "collapsed": true
	   },
	   "outputs": [],
"source": [
"//Tested on Windows 7 Ultimate 32-bit\n",
"//Chapter 9 Frequency Response of Amplifier Pg no. 316\n",
"clear;\n",
"clc;\n",
"\n",
"//Given\n",
"\n",
"fT=150D6;//transition frequency in hertz\n",
"Gv_mid=25;//midband voltage gain\n",
"\n",
"//Solution\n",
"\n",
"BW=fT/Gv_mid;//bandwidth in hertz\n",
"printf('BW = %.f MHz',BW/10^6);"
   ]
   }
,
{
		   "cell_type": "markdown",
		   "metadata": {},
		   "source": [
			"## Example 9.14: Determination_of_cutoff_frequency_for_given_input_RC_network.sce"
		   ]
		  },
  {
"cell_type": "code",
	   "execution_count": null,
	   "metadata": {
	    "collapsed": true
	   },
	   "outputs": [],
"source": [
"//Tested on Windows 7 Ultimate 32-bit\n",
"//Chapter 9 Frequency Response of Amplifier Pg no. 318 and 319\n",
"clear;\n",
"clc;\n",
"\n",
"//Given\n",
"//Figure 9.31\n",
"\n",
"VGS=12;//gate to source voltage in volts\n",
"IGSS=40D-9;//gate saturation current in amperes\n",
"VDD=12;//drain supply voltage in volts\n",
"RD=6.8D3;//drain resistance in ohms\n",
"RG=15D6;//gate resistance in ohms\n",
"Cin=0.001D-6;//input coupling capacitance in farads\n",
"Cout=0.001D-6;//output coupling capacitance in farads\n",
"\n",
"//Solution\n",
"\n",
"Rin_gate=VGS/IGSS;//gate input resistance in ohms\n",
"Rin=Rin_gate*RG/(Rin_gate+RG);//input resistance in ohms\n",
"fc=1/(2*%pi*Rin*Cin);//cutoff frequency in hertz\n",
"printf('Cutoff frequency for input RC network fc = %.2f Hz',fc);"
   ]
   }
,
{
		   "cell_type": "markdown",
		   "metadata": {},
		   "source": [
			"## Example 9.15: Determination_of_cutoff_frequency_for_given_output_RC_network.sce"
		   ]
		  },
  {
"cell_type": "code",
	   "execution_count": null,
	   "metadata": {
	    "collapsed": true
	   },
	   "outputs": [],
"source": [
"//Tested on Windows 7 Ultimate 32-bit\n",
"//Chapter 9 Frequency Response of Amplifier Pg no. 319\n",
"clear;\n",
"clc;\n",
"//Given\n",
"//Figure 9.31\n",
"//Given data is from Fig 9.31\n",
"VGS=12;//gate to source voltage in volts\n",
"IGSS=40D-9;//gate saturation current in amperes\n",
"RD=6.8D3;//drain resistance in ohms\n",
"RG=15D6;//gate resistance in ohms\n",
"Cout=0.001D-6;//output coupling capacitance in farads\n",
"\n",
"//Solution\n",
"\n",
"Rin_gate=VGS/IGSS;//gate input resistance in ohms\n",
"Rin=Rin_gate*RG/(Rin_gate+RG);//input resistance in ohms\n",
"RL=Rin;//load resistance is input resistance of next stage in ohms\n",
"CC2=Cout;//output RC network capacitance is equal to Cout\n",
"//The following equation is given as Equation 9.45 in textbook\n",
"fc=1/(2*%pi*(RD+RL)*CC2);//cutoff frequency in hertz\n",
"printf('Critical frequency for output RC network fc'' = %.2f Hz',fc);\n",
"\n",
"//Error in decimal approximation in textbook."
   ]
   }
,
{
		   "cell_type": "markdown",
		   "metadata": {},
		   "source": [
			"## Example 9.16: Calculation_of_Cgd_Cds_and_Cgs_for_2N3796_using_datasheet_values.sce"
		   ]
		  },
  {
"cell_type": "code",
	   "execution_count": null,
	   "metadata": {
	    "collapsed": true
	   },
	   "outputs": [],
"source": [
"//Tested on Windows 7 Ultimate 32-bit\n",
"//Chapter 9 Frequency Response of Amplifier Pg no. 320\n",
"clear;\n",
"clc;\n",
"\n",
"//Given\n",
"\n",
"Ciss=5D-12;//FET input capacitance in farads\n",
"Crss=0.5D-12;//FET reverse transfer capacitance in farads\n",
"Coss=2D-12;//FET output capacitance in farads\n",
"\n",
"//Solution\n",
"\n",
"Cgd=Crss;//gate to drain capacitance in farads\n",
"Cgs=Ciss-Crss;//gate to source capacitance in farads\n",
"Cds=Coss-Crss;//drain to source capacitance in farads\n",
"printf('Cgd = %.1f pF\n ',Cgd*10^12);\n",
"printf('Cgs = %.1f pF\n ',Cgs*10^12);\n",
"printf('Cds = %.1f pF\n ',Cds*10^12);"
   ]
   }
,
{
		   "cell_type": "markdown",
		   "metadata": {},
		   "source": [
			"## Example 9.17: EX9_17.sce"
		   ]
		  },
  {
"cell_type": "code",
	   "execution_count": null,
	   "metadata": {
	    "collapsed": true
	   },
	   "outputs": [],
"source": [
"//Tested on Windows 7 Ultimate 32-bit\n",
"//Chapter 9 Frequency Response of Amplifier Pg no. 321\n",
"clear;\n",
"clc;\n",
"\n",
"//Given\n",
"//Figure 9.35\n",
"\n",
"Ciss=6D-12;//FET input capacitance in farads\n",
"Crss=2.5D-12;//FET reverse transfer capacitance in farads\n",
"gm=7500D-6;//transconductance in Siemens\n",
"Cwi=2D-12;//wiring capacitance in farads\n",
"VDD=12;//drain supply voltage in volts\n",
"Rs=50;//source resistance in ohms\n",
"RG=15D6;//gate resistance in ohms\n",
"RD=1.2D3;//drain resistance in ohms\n",
"RS=1D3;//source resistance in ohms\n",
"RL=15D6;//load resistance in ohms\n",
"\n",
"//Solution\n",
"\n",
"Cgd=Crss;//gate to drain capacitance in farads\n",
"Cgs=Ciss-Crss;//gate to source capacitance in farads\n",
"RL_dash=RD*RL/(RD+RL);//total load resistance in ohms\n",
"GV=gm*RL_dash;//total voltage gain\n",
"Cin_miller=Cgd*(1+GV);//input miller capacitance in farads\n",
"Cin_dash=Cgs+Cwi+Cin_miller;//total input capacitance in farads\n",
"fc=1/(2*%pi*Rs*Cin_dash);//cutoff frequency in hertz\n",
"printf('Cut-off frequency fc = %.2f MHz\n ',fc/10^6);"
   ]
   }
,
{
		   "cell_type": "markdown",
		   "metadata": {},
		   "source": [
			"## Example 9.18: EX9_18.sce"
		   ]
		  },
  {
"cell_type": "code",
	   "execution_count": null,
	   "metadata": {
	    "collapsed": true
	   },
	   "outputs": [],
"source": [
"//Tested on Windows 7 Ultimate 32-bit\n",
"//Chapter 9 Frequency Response of Amplifier Pg no. 321 and 322\n",
"clear;\n",
"clc;\n",
"\n",
"//Given\n",
"//Figure 9.35\n",
"\n",
"Ciss=6D-12;//FET input capacitance in farads\n",
"Crss=2.5D-12;//FET reverse transfer capacitance in farads\n",
"gm=5000D-6;//transconductance in Siemens\n",
"VDD=12;//drain supply voltage in volts\n",
"Rs=50;//source resistance in ohms\n",
"RG=15D6;//gate resistance in ohms\n",
"RD=1.2D3;//drain resistance in ohms\n",
"RS=1D3;//source resistance in ohms\n",
"RL=15D6;//load resistance in ohms\n",
"\n",
"//Solution\n",
"\n",
"Cgd=Crss;//gate to drain capacitance in farads\n",
"Cgs=Ciss-Crss;//gate to source capacitance in farads\n",
"RL_dash=RD*RL/(RD+RL);//total load resistance in ohms\n",
"GV=gm*RL_dash;//total voltage gain\n",
"Cin_miller=Cgd*(1+GV);//input miller capacitance in farads\n",
"Cin_dash=Cgs+Cin_miller;//total input capacitance in farads\n",
"fc=1/(2*%pi*Rs*Cin_dash);//cutoff frequency in hertz\n",
"printf('Critical frequency fc = %.2f MHz\n ',fc/10^6);\n",
"\n",
"//calculation error in textbook"
   ]
   }
,
{
		   "cell_type": "markdown",
		   "metadata": {},
		   "source": [
			"## Example 9.19: EX9_19.sce"
		   ]
		  },
  {
"cell_type": "code",
	   "execution_count": null,
	   "metadata": {
	    "collapsed": true
	   },
	   "outputs": [],
"source": [
"//Tested on Windows 7 Ultimate 32-bit\n",
"//Chapter 9 Frequency Response of Amplifier Pg no. 322\n",
"clear;\n",
"clc;\n",
"\n",
"//Given\n",
"//Figure 9.35\n",
"\n",
"Ciss=6D-12;//FET input capacitance in farads\n",
"Crss=2.5D-12;//FET reverse transfer capacitance in farads\n",
"gm=7500D-6;//transconductance in Siemens\n",
"VDD=12;//drain supply voltage in volts\n",
"Rs=50;//source resistance in ohms\n",
"RG=15D6;//gate resistance in ohms\n",
"RD=1.2D3;//drain resistance in ohms\n",
"RS=1D3;//source resistance in ohms\n",
"RL=15D6;//load resistance in ohms\n",
"Cwo=1D-12;//output wiring capacitance in farads\n",
"\n",
"//Solution\n",
"\n",
"Cgd=Crss;//gate to drain capacitance in farads\n",
"Cgs=Ciss-Crss;//gate to source capacitance in farads\n",
"RL_dash=RD*RL/(RD+RL);//total load resistance in ohms\n",
"GV=gm*RL_dash;//total voltage gain\n",
"Cout_miller=Cgd*(1+GV)/GV;//output miller capacitance in farads\n",
"Cout_dash=Cwo+Cout_miller;//total output capacitance in farads\n",
"fc=1/(2*%pi*RL_dash*Cout_dash);//cutoff frequency in hertz\n",
"printf('Critical frequency fc = %.2f MHz\n ',fc/10^6);"
   ]
   }
,
{
		   "cell_type": "markdown",
		   "metadata": {},
		   "source": [
			"## Example 9.1: Calculation_of_voltage_and_power_gains_in_dB_units.sce"
		   ]
		  },
  {
"cell_type": "code",
	   "execution_count": null,
	   "metadata": {
	    "collapsed": true
	   },
	   "outputs": [],
"source": [
"//Tested on Windows 7 Ultimate 32-bit\n",
"//Chapter 9 Frequency Response of Amplifier Pg no. 299\n",
"clear;\n",
"clc;\n",
"\n",
"//Solution\n",
"disp('(i)');\n",
"Gp1=200;//power gain\n",
"Gp_dB1=10*log10(Gp1);//power gain in decibles\n",
"printf('Gp(dB) = %.2f dB',Gp_dB1);\n",
"disp('(ii)');\n",
"Gp2=100;//power gain\n",
"Gp_dB2=10*log10(Gp2);//power gain in decibles\n",
"printf('Gp(dB) = %.f dB',Gp_dB2);\n",
"disp('(iii)');\n",
"Gp3=50;//power gain\n",
"Gp_dB3=10*log10(Gp3);//power gain in decibles\n",
"printf('Gp(dB) = %.2f dB',Gp_dB3);\n",
"disp('(iv)');\n",
"Gp4=10;//power gain\n",
"Gp_dB4=10*log10(Gp4);//power gain in decibles\n",
"printf('Gp(dB) = %.f dB',Gp_dB4);\n",
"disp('(v)');\n",
"Gv5=20;//voltage gain\n",
"Gv_dB5=20*log10(Gv5);//voltage gain in decibles\n",
"printf('Gv(dB) = %.f dB',Gv_dB5);\n",
"disp('(vi)');\n",
"Gv6=0.707;//voltage gain\n",
"Gv_dB6=20*log10(Gv6);//voltage gain in decibles\n",
"printf('Gv(dB) = %.f dB',Gv_dB6);\n",
"disp('(vii)');\n",
"Gp7=0.5;//power gain\n",
"Gp_dB7=10*log10(Gp7);//power gain in decibles\n",
"printf('Gp(dB) = %.f dB',Gp_dB7);\n",
"disp('(viii)');\n",
"Gv8=0.25;//voltage gain\n",
"Gv_dB8=20*log10(Gv8);//voltage gain in decibles\n",
"printf('Gv(dB) = %.f dB',Gv_dB8);\n",
"disp('(ix)');\n",
"Gv9=0.125;//voltage gain\n",
"Gv_dB9=20*log10(Gv9);//voltage gain in decibles\n",
"printf('Gv(dB) = %.f dB',Gv_dB9);\n",
"disp('(x)');\n",
"Gv10=0.0625;//voltage gain\n",
"Gv_dB10=20*log10(Gv10);//voltage gain in decibles\n",
"printf('Gv(dB) = %.f dB',Gv_dB10);\n",
"disp('(xi)');\n",
"Gv11=2;//voltage gain\n",
"Gv_dB11=20*log10(Gv11);//voltage gain in decibles\n",
"printf('Gv(dB) = %.f dB',Gv_dB11);\n",
"disp('(xii)');\n",
"Gv12=4;//voltage gain\n",
"Gv_dB12=20*log10(Gv12);//voltage gain in decibles\n",
"printf('Gv(dB) = %.f dB',Gv_dB12);\n",
"disp('(xiii)');\n",
"Gv13=8;//voltage gain\n",
"Gv_dB13=20*log10(Gv13);//voltage gain in decibles\n",
"printf('Gv(dB) = %.f dB',Gv_dB13);\n",
"disp('(xiv)');\n",
"Gv14=16;//voltage gain\n",
"Gv_dB14=20*log10(Gv14);//voltage gain in decibles\n",
"printf('Gv(dB) = %.f dB',Gv_dB14);"
   ]
   }
,
{
		   "cell_type": "markdown",
		   "metadata": {},
		   "source": [
			"## Example 9.2: Calculation_of_input_and_output_miller_capacitances_for_given_amplifier_circuit.sce"
		   ]
		  },
  {
"cell_type": "code",
	   "execution_count": null,
	   "metadata": {
	    "collapsed": true
	   },
	   "outputs": [],
"source": [
"//Tested on Windows 7 Ultimate 32-bit\n",
"//Chapter 9 Frequency Response of Amplifier Pg no. 299 and 300\n",
"clear;\n",
"clc;\n",
"\n",
"//Given\n",
"\n",
"Gv=-48;//voltage gain of amplifier\n",
"Cbc=2D-12;//base to collector capacitance in farads\n",
"Cbe=0.5D-12;//base to emitter capacitance in farads\n",
"\n",
"//Solution\n",
"\n",
"Cin_miller=Cbc*(1-Gv);//input miller capacitance in farads\n",
"Cout_miller=Cbc*(1-1/Gv);//output miller capacitance in farads\n",
"disp('(i)');\n",
"printf('Input Miller capacitance Cin(Miller) = %.f pF',Cin_miller*10^12);\n",
"disp('(ii)');\n",
"printf('Output Miller capacitance Cout(Miller) = %.f pF',Cout_miller*10^12);\n",
"\n",
""
   ]
   }
,
{
		   "cell_type": "markdown",
		   "metadata": {},
		   "source": [
			"## Example 9.3: Calculation_of_input_and_output_miller_capacitances_for_given_amplifier_circuit.sce"
		   ]
		  },
  {
"cell_type": "code",
	   "execution_count": null,
	   "metadata": {
	    "collapsed": true
	   },
	   "outputs": [],
"source": [
"//Tested on Windows 7 Ultimate 32-bit\n",
"//Chapter 9 Frequency Response of Amplifier Pg no. 300\n",
"clear;\n",
"clc;\n",
"\n",
"//Given\n",
"\n",
"Gv=-120;//voltage gain of amplifier\n",
"Cbc=2D-12;//base to collector capacitance in farads\n",
"Cbe=0.5D-12;//base to emitter capacitance in farads\n",
"\n",
"//Solution\n",
"\n",
"Cin_miller=Cbc*(1-Gv);//input miller capacitance in farads\n",
"Cout_miller=Cbc*(1-1/Gv);//output miller capacitance in farads\n",
"disp('(i)');\n",
"printf('Input Miller capacitance Cin(Miller) = %.f pF',Cin_miller*10^12);\n",
"disp('(ii)');\n",
"printf('Output Miller capacitance Cout(Miller) = %.f pF',Cout_miller*10^12);"
   ]
   }
,
{
		   "cell_type": "markdown",
		   "metadata": {},
		   "source": [
			"## Example 9.4: Calculation_of_gain_magnitude_from_dB_units.sce"
		   ]
		  },
  {
"cell_type": "code",
	   "execution_count": null,
	   "metadata": {
	    "collapsed": true
	   },
	   "outputs": [],
"source": [
"//Tested on Windows 7 Ultimate 32-bit\n",
"//Chapter 9 Frequency Response of Amplifier Pg no. 301\n",
"clear;\n",
"clc;\n",
"\n",
"//Given\n",
"\n",
"Gv_dB=75;//voltage gain of amplifier in dB units\n",
"\n",
"//Solution\n",
"\n",
"Gv=10^(0.1*Gv_dB);//voltage gain magnitude\n",
"printf('P2/P1 = %.f',Gv);\n",
""
   ]
   }
,
{
		   "cell_type": "markdown",
		   "metadata": {},
		   "source": [
			"## Example 9.5: Calculation_of_input_voltage_and_power_required_for_given_amplifier_parameters.sce"
		   ]
		  },
  {
"cell_type": "code",
	   "execution_count": null,
	   "metadata": {
	    "collapsed": true
	   },
	   "outputs": [],
"source": [
"//Tested on Windows 7 Ultimate 32-bit\n",
"//Chapter 9 Frequency Response of Amplifier Pg no. 301\n",
"clear;\n",
"clc;\n",
"\n",
"//Given\n",
"\n",
"P_rated=50;//wattage rating of amplifier\n",
"RL=16;//load resistance of speaker in ohms\n",
"Gp_dB=22;//power gain in dB units\n",
"Gv_dB=37;//voltage gain in dB units\n",
"\n",
"//Solution\n",
"\n",
"disp('(i)');\n",
"Pi=P_rated/10^(Gp_dB/10);//input power required in watts\n",
"printf('Pi = %.2f mW',Pi*10^3);\n",
"\n",
"disp('(ii)');\n",
"Vin=sqrt(P_rated*RL)/10^(Gv_dB/20);//input voltage required in volts\n",
"printf('Vin = %.2f mV',Vin*10^3);\n",
"\n",
"//calculation error in textbook as wattage mentioned in question is 50 W and in solution is 37 W"
   ]
   }
,
{
		   "cell_type": "markdown",
		   "metadata": {},
		   "source": [
			"## Example 9.6: Calculation_of_critical_frequency_for_a_given_bypass_network.sce"
		   ]
		  },
  {
"cell_type": "code",
	   "execution_count": null,
	   "metadata": {
	    "collapsed": true
	   },
	   "outputs": [],
"source": [
"//Tested on Windows 7 Ultimate 32-bit\n",
"//Chapter 9 Frequency Response of Amplifier Pg no. 307 and 308\n",
"clear;\n",
"clc;\n",
"\n",
"//Given\n",
"\n",
"VCC=15;//collector supply voltage in volts\n",
"RC=2.2D3;//collector resistance in ohms\n",
"RE=470;//emitter resistance in ohms\n",
"R1=33D3;//divider network resistance R1 in ohms\n",
"R2=10D3;//divider network resistance R2 in ohms\n",
"VBE=0.7;//forward voltage drop of emitter diode in volts\n",
"B=150;//DC CE current gain beta\n",
"Rs=600;//source internal impedance in ohms\n",
"RL=4.7D3;//load resistance in ohms\n",
"C1=0.1D-6;//input coupling capacitance in farads\n",
"C2=50D-6;//emitter bypass capacitance in farads\n",
"C3=0.1D-6;//output coupling capacitance in farads\n",
"re=4;//a.c. emitter resistance in ohms\n",
"\n",
"//Solution\n",
"\n",
"Rth=1/(1/R1+1/R2+1/Rs);//thevenin resistance at base in ohms\n",
"Rin_emitter=re+Rth/B;//resistance looking into the emitter in ohms\n",
"R=1/(1/Rin_emitter+1/RE);//resistance of the equivalent RC network in ohms\n",
"fc=1/(2*%pi*R*C2);//critical frequency of the bypass network in hertz\n",
"\n",
"printf('critical frequency of the bypass network fc = %d Hz',fc);"
   ]
   }
,
{
		   "cell_type": "markdown",
		   "metadata": {},
		   "source": [
			"## Example 9.7: Calculation_of_corner_frequency_for_a_given_bypass_network.sce"
		   ]
		  },
  {
"cell_type": "code",
	   "execution_count": null,
	   "metadata": {
	    "collapsed": true
	   },
	   "outputs": [],
"source": [
"//Tested on Windows 7 Ultimate 32-bit\n",
"//Chapter 9 Frequency Response of Amplifier Pg no. 308\n",
"clear;\n",
"clc;\n",
"\n",
"//Given\n",
"\n",
"VCC=12;//collector supply voltage in volts\n",
"RE=1D3;//emitter resistance in ohms\n",
"R1=47D3;//divider network resistance R1 in ohms\n",
"R2=15D3;//divider network resistance R2 in ohms\n",
"VBE=0.7;//forward voltage drop of emitter diode in volts\n",
"B=100;//DC CE current gain beta\n",
"Rs=1000;//source internal impedance in ohms\n",
"CE=100D-6;//emitter bypass capacitance in farads\n",
"re=11.5;//a.c. emitter resistance in ohms\n",
"\n",
"//Solution\n",
"\n",
"Rth=1/(1/R1+1/R2+1/Rs);//thevenin resistance at base in ohms\n",
"Rin_emitter=re+Rth/B;//resistance looking into the emitter in ohms\n",
"R=1/(1/Rin_emitter+1/RE);//resistance of the equivalent RC network in ohms\n",
"fc=1/(2*%pi*R*CE);//critical frequency of the bypass network in hertz\n",
"\n",
"printf('critical frequency of the bypass network fc = %.2f Hz',fc);\n",
"\n",
"//decimal approximation taken here"
   ]
   }
,
{
		   "cell_type": "markdown",
		   "metadata": {},
		   "source": [
			"## Example 9.8: Plot_of_total_frequency_response_for_given_amplifier.sce"
		   ]
		  },
  {
"cell_type": "code",
	   "execution_count": null,
	   "metadata": {
	    "collapsed": true
	   },
	   "outputs": [],
"source": [
"//Tested on Windows 7 Ultimate 32-bit\n",
"//Chapter 9 Frequency Response of Amplifier Pg no. 310\n",
"clear;\n",
"clc;\n",
"\n",
"//Given\n",
"\n",
"VCC=15;//collector supply voltage in volts\n",
"RC=2.2D3;//collector resistance in ohms\n",
"RE=470;//emitter resistance in ohms\n",
"R1=33D3;//divider network resistance R1 in ohms\n",
"R2=10D3;//divider network resistance R2 in ohms\n",
"VBE=0.7;//forward voltage drop of emitter diode in volts\n",
"B=150;//DC CE current gain beta\n",
"Rs=600;//source internal impedance in ohms\n",
"RL=4.7D3;//load resistance in ohms\n",
"C1=0.1D-6;//input coupling capacitance in farads\n",
"C2=50D-6;//emitter bypass capacitance in farads\n",
"C3=0.1D-6;//output coupling capacitance in farads\n",
"re=4;//a.c. emitter resistance in ohms\n",
"\n",
"//Solution\n",
"\n",
"Rin=1/(1/R1+1/R2+1/(B*re));//thevenised input network resistance in ohms\n",
"fc_input=1/(2*%pi*(Rs+Rin)*C1);//input cutoff frequency in hertz\n",
"Rth=1/(1/R1+1/R2+1/Rs);//thevenised bypass network resistance in ohms\n",
"Rin_emitter=7.7;//resistance looking into the emitter in ohms\n",
"fc_bypass=1/(2*%pi*1/(1/RE+1/Rin_emitter)*C2);//bypass cutoff frequency in hertz\n",
"Rout=RC+RL;//thevenised output network resistance in ohms\n",
"fc_output=1/(2*%pi*Rout*C3);//output cutoff frequency in hertz\n",
"\n",
"s=poly(0,'s')\n",
"F=syslin('c',8*%pi^3*(fc_input*fc_bypass*fc_output)/(s+2*%pi*fc_output)/(s+2*%pi*fc_bypass)/(s+2*%pi*fc_input));\n",
"clf;\n",
"gainplot(F,100,10000,'Bode Plot for given amplifier in Example 9.8');"
   ]
   }
,
{
		   "cell_type": "markdown",
		   "metadata": {},
		   "source": [
			"## Example 9.9: EX9_9.sce"
		   ]
		  },
  {
"cell_type": "code",
	   "execution_count": null,
	   "metadata": {
	    "collapsed": true
	   },
	   "outputs": [],
"source": [
"//Tested on Windows 7 Ultimate 32-bit\n",
"//Chapter 9 Frequency Response of Amplifier Pg no. 312 and 313\n",
"clear;\n",
"clc;\n",
"\n",
"//Given\n",
"\n",
"VCC=12;//collector supply voltage in volts\n",
"RC=2.7D3;//collector resistance in ohms\n",
"RE=560;//emitter resistance in ohms\n",
"R1=15D3;//divider network resistance R1 in ohms\n",
"R2=5.6D3;//divider network resistance R2 in ohms\n",
"VBE=0.7;//forward voltage drop of emitter diode in volts\n",
"VT=25D-3;//voltage equivalent of temperature in volts\n",
"B=100;//DC CE current gain bet\n",
"Rs=600;//source internal impedance in ohms\n",
"RL=2.7D3;//load resistance in ohms\n",
"Cbe=15D-12;//base to emitter capacitance in farads\n",
"Cbc=2D-12;//base to collector capacitance in farads\n",
"Cwi=5D-12;//wiring capacitance in farads\n",
"\n",
"\n",
"//Solution\n",
"\n",
"VB=VCC*R2/(R1+R2);//base to ground voltage in volts\n",
"VE=VB-VBE;//emitter to ground voltage in volts\n",
"IE=VE/RE;//emitter current in amperes\n",
"re=VT/IE;//a.c. emitter resistance in ohms\n",
"RTH=1/(1/Rs+1/R1+1/R2+1/B/re);//thevenised input resistance in ohms\n",
"Gv_mid=RC*RL/(RC+RL)/re;//midrange gain of amplifier\n",
"Cin_miller=Cbc*(1+Gv_mid);//input miller capacitance in farads\n",
"C=Cwi+Cbe+Cin_miller;//total input capacitance in farads\n",
"printf('The high frequency input R-C network consists of\n ');\n",
"printf('R = %.2f ohms\n ',RTH);\n",
"printf('C = %.1f pF\n\n ',C*10^12);\n",
"\n",
"fc=1/2/%pi/RTH/C;//critical frequency in hertz\n",
"printf('fc = %.2f MHz',fc/10^6);\n",
"\n",
"//calculation errors in textbook"
   ]
   }
],
"metadata": {
		  "kernelspec": {
		   "display_name": "Scilab",
		   "language": "scilab",
		   "name": "scilab"
		  },
		  "language_info": {
		   "file_extension": ".sce",
		   "help_links": [
			{
			 "text": "MetaKernel Magics",
			 "url": "https://github.com/calysto/metakernel/blob/master/metakernel/magics/README.md"
			}
		   ],
		   "mimetype": "text/x-octave",
		   "name": "scilab",
		   "version": "0.7.1"
		  }
		 },
		 "nbformat": 4,
		 "nbformat_minor": 0
}
