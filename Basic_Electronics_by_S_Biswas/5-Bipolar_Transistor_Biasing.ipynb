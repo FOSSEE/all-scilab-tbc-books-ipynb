{
"cells": [
 {
		   "cell_type": "markdown",
	   "metadata": {},
	   "source": [
       "# Chapter 5: Bipolar Transistor Biasing"
	   ]
	},
{
		   "cell_type": "markdown",
		   "metadata": {},
		   "source": [
			"## Example 5.10: Design_of_a_bias_circuit_for_amplifier_for_given_current_IE.sce"
		   ]
		  },
  {
"cell_type": "code",
	   "execution_count": null,
	   "metadata": {
	    "collapsed": true
	   },
	   "outputs": [],
"source": [
"//Tested on Windows 7 Ultimate 32-bit\n",
"//Chapter 5 Bipolar Transistor Biasing Pg no. 164 and 165\n",
"clear;\n",
"clc;\n",
"\n",
"//Given Data\n",
"\n",
"IE=1.5D-3;//emitter current in amperes\n",
"VCC=15;//supply voltage in volts\n",
"B=100;//DC CE current gain beta\n",
"VBE=0.7;//forward voltage drop of emitter diode in volts\n",
"\n",
"//Solution\n",
"\n",
"//Approximations\n",
"VR2=VCC/3;//voltage across R2 is 1/3rd of supply voltage\n",
"VRL=VCC/3;//voltage across RL is 1/3rd of supply voltage\n",
"\n",
"VB=VR2;//voltage of base to ground in volts\n",
"VE=VB-VBE;//voltage of emitter to ground in volts\n",
"RE=VE/IE;//emitter resistance in ohms\n",
"I=0.1*IE;//setting voltage divider current as 0.1IE and neglecting base current\n",
"R1_plus_R2=VCC/I;//R1+R2 in ohms\n",
"R2=VR2/VCC*R1_plus_R2;//R2 in ohms\n",
"R1=R1_plus_R2-R2;//R1 in ohms\n",
"\n",
"printf('RE = %.2f kilo-ohms\n',RE/1000);\n",
"printf('R1 = %.2f kilo-ohms\n',R1/1000);\n",
"printf('R2 = %.2f kilo-ohms\n',R2/1000);\n",
"//design is given in Figure E5.10\n",
"//IE for this circuit is 1.40 mA and more accuracy can be obtained by exact equations and eliminating approximations"
   ]
   }
,
{
		   "cell_type": "markdown",
		   "metadata": {},
		   "source": [
			"## Example 5.11: Calculation_of_stability_factor_for_collector_to_base_bias_circuit.sce"
		   ]
		  },
  {
"cell_type": "code",
	   "execution_count": null,
	   "metadata": {
	    "collapsed": true
	   },
	   "outputs": [],
"source": [
"//Tested on Windows 7 Ultimate 32-bit\n",
"//Chapter 5 Bipolar Transistor Biasing Pg no. 165\n",
"clear;\n",
"clc;\n",
"\n",
"//Given Data\n",
"//Figure 5.26\n",
"\n",
"RL=470;//collector load resistance in ohms\n",
"R=20D3;//base collector parallel resistance in ohms\n",
"B=90;//DC CE current gain beta\n",
"\n",
"//Solution\n",
"\n",
"S=(B+1)/(1+(B*RL)/(RL+R));//stability factor S\n",
"printf('S = %.2f',S);\n",
"\n",
"//decimal error as calculation is not accurate in textbook"
   ]
   }
,
{
		   "cell_type": "markdown",
		   "metadata": {},
		   "source": [
			"## Example 5.12: Calculation_of_stability_factor_for_given_circuit_and_load.sce"
		   ]
		  },
  {
"cell_type": "code",
	   "execution_count": null,
	   "metadata": {
	    "collapsed": true
	   },
	   "outputs": [],
"source": [
"//Tested on Windows 7 Ultimate 32-bit\n",
"//Chapter 5 Bipolar Transistor Biasing Pg no. 165\n",
"clear;\n",
"clc;\n",
"\n",
"//Given Data\n",
"//Figure 5.26\n",
"\n",
"RL=10;//load resistance in ohms which is dc resistance of primary coil of transistor\n",
"R=20D3;//base collector parallel resistance in ohms\n",
"B=90;//DC CE current gain beta\n",
"\n",
"//Solution\n",
"\n",
"S=(B+1)/(1+(B*RL)/(RL+R));//stability factor S\n",
"printf('S = %.2f',S);"
   ]
   }
,
{
		   "cell_type": "markdown",
		   "metadata": {},
		   "source": [
			"## Example 5.13: Calculation_of_stability_factors_for_given_circuit_and_parameters.sce"
		   ]
		  },
  {
"cell_type": "code",
	   "execution_count": null,
	   "metadata": {
	    "collapsed": true
	   },
	   "outputs": [],
"source": [
"//Tested on Windows 7 Ultimate 32-bit\n",
"//Chapter 5 Bipolar Transistor Biasing Pg no. 166\n",
"clear;\n",
"clc;\n",
"\n",
"//Given Data\n",
"//Figure 5.27\n",
"\n",
"IC=20D-3;//collector current in amperes\n",
"VCE=6;//collector to emitter voltage in volts\n",
"VCC=15;//supply voltage in volts\n",
"RL=390;//collector load resistance in ohms\n",
"IB=2D-3;//base bias current in amperes\n",
"B=90;//DC CE current gain beta\n",
"RE=82;//emitter resistance in ohms\n",
"C1=10D-6;//base coupling capacitance in farads\n",
"C2=10D-6;//collector coupling capacitance in farads\n",
"VBE=0.7;//forward voltage drop of emitter diode in volts\n",
"\n",
"//Solution\n",
"\n",
"R=(VCC-VBE-IC*RL-(IC+IB)*RE)/IB;//base collector parallel resistance in ohms\n",
"S=(B+1)/(1+(B*RE)/(RE+R));//stability factor S\n",
"printf('S = %.2f',S);\n",
"\n",
"//calculation errors in textbook as KVL is incorrectly applied"
   ]
   }
,
{
		   "cell_type": "markdown",
		   "metadata": {},
		   "source": [
			"## Example 5.14: Calculation_of_Q_point_for_given_circuit.sce"
		   ]
		  },
  {
"cell_type": "code",
	   "execution_count": null,
	   "metadata": {
	    "collapsed": true
	   },
	   "outputs": [],
"source": [
"//Tested on Windows 7 Ultimate 32-bit\n",
"//Chapter 5 Bipolar Transistor Biasing Pg no. 166 and 167\n",
"clear;\n",
"clc;\n",
"\n",
"//Given Data\n",
"//Figure 5.28\n",
"\n",
"VCC=12;//supply voltage in volts\n",
"RL=6.8D3;//collector load resistance in ohms\n",
"B=75;//DC CE current gain beta\n",
"R=82D3;//base collector parallel resistance in ohms\n",
"VBE=0.7;//forward voltage drop of emitter diode in volts\n",
"\n",
"//Solution\n",
"\n",
"IC=(VCC-VBE)/(RL+R/B);//collector current in amperes\n",
"VCE=VCC-IC*RL;//collector to emitter voltage in volts and VCE = VC as VE = 0 V since emitter is grounded\n",
"printf('IC = %.2f mA\n',IC*1000);\n",
"printf('VCE = %.2f Volts\n',VCE);"
   ]
   }
,
{
		   "cell_type": "markdown",
		   "metadata": {},
		   "source": [
			"## Example 5.15: Calculation_of_Q_point_for_given_circuit_and_given_beta.sce"
		   ]
		  },
  {
"cell_type": "code",
	   "execution_count": null,
	   "metadata": {
	    "collapsed": true
	   },
	   "outputs": [],
"source": [
"//Tested on Windows 7 Ultimate 32-bit\n",
"//Chapter 5 Bipolar Transistor Biasing Pg no. 167 and 168\n",
"clear;\n",
"clc;\n",
"\n",
"//Given Data\n",
"//Figure 5.28\n",
"\n",
"VCC=12;//supply voltage in volts\n",
"RL=6.8D3;//collector load resistance in ohms\n",
"B=200;//DC CE current gain beta\n",
"R=82D3;//base collector parallel resistance in ohms\n",
"VBE=0.7;//forward voltage drop of emitter diode in volts\n",
"\n",
"//Solution\n",
"\n",
"IC=(VCC-VBE)/(RL+R/B);//collector current in amperes\n",
"VCE=VCC-IC*RL;//collector to emitter voltage in volts and VCE = VC as VE = 0 V since emitter is grounded\n",
"printf('IC = %.2f mA\n',IC*1000);\n",
"printf('VCE = %.2f Volts\n',VCE);\n",
"\n",
"//error in textbooks as question is about Fig 5.27 and solved for Fig 5.28 , here solved as Fig 5.28\n",
"//decimal approximation error in textbook"
   ]
   }
,
{
		   "cell_type": "markdown",
		   "metadata": {},
		   "source": [
			"## Example 5.16: Calculation_of_Q_point_and_stability_factors_for_given_circuit_and_parameters.sce"
		   ]
		  },
  {
"cell_type": "code",
	   "execution_count": null,
	   "metadata": {
	    "collapsed": true
	   },
	   "outputs": [],
"source": [
"//Tested on Windows 7 Ultimate 32-bit\n",
"//Chapter 5 Bipolar Transistor Biasing Pg no. 168\n",
"clear;\n",
"clc;\n",
"\n",
"//Given Data\n",
"//Figure E5.15\n",
"\n",
"VCC=15;//supply voltage in volts\n",
"RL=1.5D3;//collector load resistance in ohms\n",
"B=100;//DC CE current gain beta\n",
"R=82D3;//base collector parallel resistance in ohms\n",
"VBE=0.7;//forward voltage drop of emitter diode in volts\n",
"\n",
"//Solution\n",
"\n",
"IC=(VCC-VBE)/(RL+R/B);//collector current in amperes\n",
"VCE=VCC-IC*RL;//collector to emitter voltage in volts and VCE = VC as VE = 0 V since emitter is grounded\n",
"disp('Q - point');\n",
"printf('IB = %.2f μA\n',IC*1D6/B);\n",
"printf('IC = %.2f mA\n',IC*1000);\n",
"printf('VCE = %.2f Volts\n',VCE);\n",
"\n",
"disp('Stability factors');\n",
"\n",
"S1=(B+1)/(1+(B*RL)/(RL+R));//stability factor S\n",
"printf('S = %.2f\n',S1);\n",
"\n",
"S2=-B/(R+RL+B*RL);//Stability factor S'\n",
"printf('S'' = %.3f mA/V\n',S2*1000);\n",
"\n",
"S3=(VCC-VBE-IC*RL)/(R+RL/(1+B));//Stability factor S''\n",
"printf('S'''' = %.2f μA\n',S3*1D6);\n",
"\n",
"//decimal approximation error w.r.t textbook"
   ]
   }
,
{
		   "cell_type": "markdown",
		   "metadata": {},
		   "source": [
			"## Example 5.17: Calculation_of_unknown_resistances_for_the_given_circuit_and_parameters.sce"
		   ]
		  },
  {
"cell_type": "code",
	   "execution_count": null,
	   "metadata": {
	    "collapsed": true
	   },
	   "outputs": [],
"source": [
"//Tested on Windows 7 Ultimate 32-bit\n",
"//Chapter 5 Bipolar Transistor Biasing Pg no. 168 and 169\n",
"clear;\n",
"clc;\n",
"\n",
"//Given Data\n",
"//Figure E5.17\n",
"\n",
"B=100;//DC CE current gain beta\n",
"VCC=15;//supply voltage in volts\n",
"RL=1D3;//collector load resistance in ohms\n",
"VCE=7.5;//collector to emitter voltage in volts\n",
"IC=6D-3;//collector current in amperes\n",
"VBE=0.7;//forward voltage drop of emitter diode in volts\n",
"S=12;//stability factor S\n",
"\n",
"\n",
"//Solution\n",
"\n",
"IB=IC/B;//base current in amperes\n",
"RE=(VCC-VCE-IC*RL)/(IC+IB);//emitter resistance in ohms\n",
"Rth=RE*(S-1)/(1-S/(1+B));//thevenin resistance of divider network in ohms\n",
"R1=VCC*Rth/(IB*Rth+VBE+(IC+IB)*RE);//resistance R1 in ohms\n",
"R2=R1*Rth/(R1-Rth);//resistance R2 in ohms\n",
"\n",
"printf('RE = %.3f kilo-ohms\n',RE/1000);\n",
"printf('R1 = %.2f kilo-ohms\n',R1/1000);\n",
"printf('R2 = %.2f kilo-ohms\n',R2/1000);\n",
"\n",
"//error in calculations in textbook for R1 and R2 as R2 cannot be less than Rth which is parallel resistance of R1 and R2"
   ]
   }
,
{
		   "cell_type": "markdown",
		   "metadata": {},
		   "source": [
			"## Example 5.18: Calculation_of_given_parameters_for_circuit_and_stated_parameters.sce"
		   ]
		  },
  {
"cell_type": "code",
	   "execution_count": null,
	   "metadata": {
	    "collapsed": true
	   },
	   "outputs": [],
"source": [
"//Tested on Windows 7 Ultimate 32-bit\n",
"//Chapter 5 Bipolar Transistor Biasing Pg no. 170 and 171\n",
"clear;\n",
"clc;\n",
"\n",
"//Given Data\n",
"//Figure 5.30\n",
"\n",
"B=100;//DC CE current gain beta\n",
"VCC=18;//collector supply voltage in volts\n",
"VEE=9;//emitter supply voltage in volts\n",
"VBE=0.7;//forward voltage drop of emitter diode in volts\n",
"RE=30D3;//emitter resistance in ohms\n",
"R=15D3;//base bias resistance in ohms\n",
"RL=15D3;//collector load resistance in ohms\n",
"\n",
"//Solution\n",
"\n",
"disp('(i)');\n",
"IE=(VEE-VBE)/(RE+R/B);//emitter current in amperes\n",
"printf('IE = %.3f mA\n',IE*1000);\n",
"\n",
"disp('(ii)');\n",
"IC=IE;//collector current in amperes\n",
"printf('IE = %.3f mA\n',IC*1000);\n",
"\n",
"disp('(iii)');\n",
"VC=VCC-IC*RL;//collector to groud voltage in volts\n",
"printf('VC = %.2f Volts\n',VC);\n",
"\n",
"disp('(iv)');\n",
"VE=-(IC*R/B+VBE);//emitter to groud voltage in volts\n",
"printf('VE = %.2f Volts\n',VE);\n",
"\n",
"disp('(v)');\n",
"VCE=VC-VE;//collector to emitter voltage in volts\n",
"printf('VCE = %.2f Volts\n',VCE);\n",
"\n",
"disp('(vi)');\n",
"S=(1+R/RE)/(1+R/B/RE);//stability factor S\n",
"printf('S = %.4f\n',S);\n",
"\n",
"//calculations are carried out taking RL=9 kilo-ohm instead of 15 kilo-ohm as in Figure 5.30 in textbook\n",
"//resulting in change in values of VC and VCE"
   ]
   }
,
{
		   "cell_type": "markdown",
		   "metadata": {},
		   "source": [
			"## Example 5.1: Calculation_of_quantities_for_Q_point_for_given_figure.sce"
		   ]
		  },
  {
"cell_type": "code",
	   "execution_count": null,
	   "metadata": {
	    "collapsed": true
	   },
	   "outputs": [],
"source": [
"//Tested on Windows 7 Ultimate 32-bit\n",
"//Chapter 5 Bipolar Transistor Biasing Pg no. 147\n",
"clear;\n",
"clc;\n",
"\n",
"//Given Data\n",
"//Figure 5.4\n",
"\n",
"B=100;//current gain of CE configuration\n",
"VCC=15;//biasing voltage in volts\n",
"R=180D3;//biasing resistance in ohms\n",
"Rl=1.5D3;//load resistance in ohms\n",
"VBE=0.7;//forward drop of emitter diode in volts\n",
"\n",
"//Solution\n",
"\n",
"disp('(i)');\n",
"IB=(VCC-VBE)/R*10^6;//base current in micro-amperes\n",
"IC=B*IB/1000;//colelctor current in milli-amperes\n",
" \n",
"printf('IB = %.2f μA\nIC = %.2f mA\n',IB,IC);\n",
"\n",
"disp('(ii)');\n",
"VCE=VCC-IC*Rl/1000;//volatage between collector and emitter in volts\n",
"\n",
"printf('VCE = %.1f  Volts',VCE);\n",
"\n",
"disp('(iii)');\n",
"VB=VBE;//base voltage w.r.t. ground in volts\n",
"VC=VCE;//coollector voltage w.r.t. ground in volts\n",
"\n",
"printf('VB = %.1f Volts\nVC = %.1f Volts\n',VB,VC);\n",
"\n",
"disp('(iv)');\n",
"VCB=VC-VB;//voltage between collector and base in volts\n",
"VBC=-VCB;//voltage between base and collector in volts\n",
"\n",
"printf('VCB = %.1f Volts\n',VCB);\n",
"if VBC<0 then\n",
"    printf('Base collector junction is reverse biased.\n')\n",
"end"
   ]
   }
,
{
		   "cell_type": "markdown",
		   "metadata": {},
		   "source": [
			"## Example 5.2: Calculation_of_saturation_current_for_given_figure.sce"
		   ]
		  },
  {
"cell_type": "code",
	   "execution_count": null,
	   "metadata": {
	    "collapsed": true
	   },
	   "outputs": [],
"source": [
"//Tested on Windows 7 Ultimate 32-bit\n",
"//Chapter 5 Bipolar Transistor Biasing Pg no. 149\n",
"clear;\n",
"clc;\n",
"\n",
"//Given Data\n",
"//Figure 5.4\n",
"\n",
"VCC=15;//biasing voltage in volts\n",
"Rl=1.5D3;//load resistance in ohms\n",
"\n",
"//Solution\n",
"\n",
"//Assuming VCEsat=0 volts\n",
"ICsat=VCC/Rl*1000;//saturation current in milli-amperes \n",
"\n",
"printf('ICsat = %d mA\n',ICsat);"
   ]
   }
,
{
		   "cell_type": "markdown",
		   "metadata": {},
		   "source": [
			"## Example 5.3: Calculation_of_Vcc_and_given_resistances_for_the_load_line_and_Q_point_given.sce"
		   ]
		  },
  {
"cell_type": "code",
	   "execution_count": null,
	   "metadata": {
	    "collapsed": true
	   },
	   "outputs": [],
"source": [
"//Tested on Windows 7 Ultimate 32-bit\n",
"//Chapter 5 Bipolar Transistor Biasing Pg no. 151\n",
"clear;\n",
"clc;\n",
"\n",
"//Given Data\n",
"//Figure 5.10\n",
"\n",
"VCE=15;//voltage between collector and emitter in volts at IC = 0 mA\n",
"IC=15D-3;//collecotr current in amperes in VCE = 0 Volts\n",
"IB=35D-6;//base current at Q point in amperes\n",
"VBE=0.7;//forward voltage drop of emitter diode in volts\n",
"\n",
"//Solution\n",
"\n",
"VCC=VCE;//biasing voltage in volts = VCE at IC = 0 mA\n",
"R=(VCC-VBE)/IB/1000;//base biasing resistance in kilo-ohms\n",
"Rl=VCC/IC/1000;//load resistance in kilo-ohms\n",
"\n",
"printf('VCC = %d Volts\n R = %.1f kilo-ohms\n Rl = %d kilo-ohm',VCC,R,Rl);"
   ]
   }
,
{
		   "cell_type": "markdown",
		   "metadata": {},
		   "source": [
			"## Example 5.4: Calculation_of_parameters_for_emitter_biased_circuit.sce"
		   ]
		  },
  {
"cell_type": "code",
	   "execution_count": null,
	   "metadata": {
	    "collapsed": true
	   },
	   "outputs": [],
"source": [
"//Tested on Windows 7 Ultimate 32-bit\n",
"//Chapter 5 Bipolar Transistor Biasing Pg no. 153 and 154\n",
"clear;\n",
"clc;\n",
"\n",
"//Given Data\n",
"//Figure 5.14\n",
"\n",
"VCC=15;//supply voltage in volts\n",
"RB=330D3;//base resistance in ohms\n",
"RL=2D3;//load collector resistance in ohms\n",
"RE=820;//emitter resistance in ohms\n",
"B=75;//DC CE current gain beta\n",
"VBE=0.7;//forward voltage drop of emitter diode in volts\n",
"Cb=12D-6;//base coupling capacitor in farads\n",
"Ce=50D-6;//emitter bypass capacitor in farads\n",
"\n",
"//Solution\n",
"\n",
"disp('(i)');\n",
"IB=(VCC-VBE)/(RB+B*RE)*10^6;//base current in micro ampere\n",
"printf('IB = %.2f μA\n',IB);\n",
"\n",
"disp('(ii)');\n",
"IC=B*IB/1000;//collector current in milli ampere\n",
"printf('IC = %.2f mA\n',IC);\n",
"\n",
"disp('(iii)');\n",
"VCE=VCC-IC*(RL+RE)/1000;//collector to emitter voltage in volts\n",
"printf('VCE = %.1f Volts\n',VCE);\n",
"\n",
"disp('(iv)');\n",
"VC=VCC-IC*RL/1000;//collector to ground voltage in volts\n",
"printf('VC = %.2f Volts\n',VC);\n",
"\n",
"disp('(v)');\n",
"VE=VC-VCE;//emitter to ground voltage in volts\n",
"printf('VE = %.2f Volts\n',VE);\n",
"\n",
"disp('(vi)');\n",
"VB=VBE+VE;//base to ground voltage in volts\n",
"printf('VB = %.2f Volts\n',VB);\n",
"\n",
"disp('(vi)');\n",
"VCB=VC-VB;//collector to base voltage in volts\n",
"printf('VCB = %.1f Volts\n',VCB);\n",
"\n",
"if VCB>0  \n",
"    printf('VBC is less than zero indicating collector base juntion is reverse biased.')\n",
"end\n",
"\n",
"//error in answers w.r.t. text book as BETA in figure is 75 and in calculations is 76\n",
"//here BETA is taken as 75\n",
"//also in (iv) answer is not printed in textbook"
   ]
   }
,
{
		   "cell_type": "markdown",
		   "metadata": {},
		   "source": [
			"## Example 5.5: Calculation_of_Q_point_for_given_dc_bias_circuit.sce"
		   ]
		  },
  {
"cell_type": "code",
	   "execution_count": null,
	   "metadata": {
	    "collapsed": true
	   },
	   "outputs": [],
"source": [
"//Tested on Windows 7 Ultimate 32-bit\n",
"//Chapter 5 Bipolar Transistor Biasing Pg no. 157 and 158\n",
"clear;\n",
"clc;\n",
"\n",
"//Given Data\n",
"//Figure 5.19\n",
"\n",
"VCC=20;//supply voltage in volts\n",
"R1=22D3;//bias resistance in ohms\n",
"R2=2.2D3;//bias resistance in ohms\n",
"RL=10D3;//load collector resistance in ohms\n",
"RE=820;//emitter resistance in ohms\n",
"B=100;//DC CE current gain beta\n",
"VBE=0.7;//forward voltage drop of emitter diode in volts\n",
"Cb=15D-6;//base coupling capacitor in farads\n",
"Ce=40D-6;//emitter bypass capacitor in farads\n",
"Cc=15D-6;//collector coupling capacitor in farads\n",
"\n",
"//Solution\n",
"\n",
"Rth=R1*R2/(R1+R2);//thevenin resistance of R1 and R2 at base in ohms\n",
"Vth=VCC*R2/(R1+R2);//thevenin voltage at base in volts\n",
"\n",
"IB=(Vth-VBE)/(Rth+(B+1)*RE)*10^6;//base current in micro ampere\n",
"printf('IB = %.2f μA\n',IB);\n",
"\n",
"IC=B*IB/1000;//collector current in milli ampere\n",
"printf('IC = %.2f mA\n',IC);\n",
"\n",
"VCE=VCC-IC*(RL+RE)/1000;//collector to emitter voltage in volts\n",
"printf('VCE = %.3f Volts\n',VCE);\n",
"\n",
"//calculation error in textbook as Vth turns out to be 1.818 V instead of 1.67 V"
   ]
   }
,
{
		   "cell_type": "markdown",
		   "metadata": {},
		   "source": [
			"## Example 5.6: Calculation_of_stability_factors_for_given_circuit.sce"
		   ]
		  },
  {
"cell_type": "code",
	   "execution_count": null,
	   "metadata": {
	    "collapsed": true
	   },
	   "outputs": [],
"source": [
"//Tested on Windows 7 Ultimate 32-bit\n",
"//Chapter 5 Bipolar Transistor Biasing Pg no. 158 and 159\n",
"clear;\n",
"clc;\n",
"\n",
"//Given Data\n",
"//Figure 5.19\n",
"\n",
"VCC=20;//supply voltage in volts\n",
"R1=22D3;//bias resistance in ohms\n",
"R2=2.2D3;//bias resistance in ohms\n",
"RL=10D3;//load collector resistance in ohms\n",
"RE=820;//emitter resistance in ohms\n",
"B=100;//DC CE current gain beta\n",
"VBE=0.7;//forward voltage drop of emitter diode in volts\n",
"Cb=15D-6;//base coupling capacitor in farads\n",
"Ce=40D-6;//emitter bypass capacitor in farads\n",
"Cc=15D-6;//collector coupling capacitor in farads\n",
"ICO=1D-6;//leakage current in amperes\n",
"\n",
"//Solution\n",
"\n",
"Rth=R1*R2/(R1+R2);//thevenin resistance of R1 and R2 at base in ohms\n",
"Vth=VCC*R2/(R1+R2);//thevenin voltage at base in volts\n",
"IB=(Vth-VBE)/(Rth+(B+1)*RE);//base current in ampere\n",
"IC=B*IB;//collector current in ampere\n",
"\n",
"S1=(B+1)*(1+Rth/RE)/(1+B+Rth/RE);//Stability factor S of IC against ICO\n",
"\n",
"S2=-B/(Rth+RE+B*RE);//Stability factor S' of IC against VBE\n",
"\n",
"S3=1/(B*(1+B))*(IC*((Rth+RE)*(1+B)-B*S1*RE)/(RE+Rth)-S1*ICO);//Stability factor S'' of IC against BETA\n",
"\n",
"printf('S=δIC/δICO=%.3f\n',S1);\n",
"printf('S''=δIC/δVBE=%.3e\n',S2);\n",
"printf('S''''=δIC/δB=%e\n',S3);\n",
"\n",
"//error in calculation in textbook for IC and S''"
   ]
   }
,
{
		   "cell_type": "markdown",
		   "metadata": {},
		   "source": [
			"## Example 5.7: Calculation_of_Q_point_for_given_circuit.sce"
		   ]
		  },
  {
"cell_type": "code",
	   "execution_count": null,
	   "metadata": {
	    "collapsed": true
	   },
	   "outputs": [],
"source": [
"//Tested on Windows 7 Ultimate 32-bit\n",
"//Chapter 5 Bipolar Transistor Biasing Pg no. 161 and 162\n",
"clear;\n",
"clc;\n",
"\n",
"//Given Data\n",
"//Figure 5.23\n",
"\n",
"VCC=11;//supply voltage in volts\n",
"R=220D3;//base bias resistance in ohms\n",
"RL=5.6D3;//load collector resistance in ohms\n",
"RE=1.5D3;//emitter resistance in ohms\n",
"B=75;//DC CE current gain beta\n",
"VBE=0.7;//forward voltage drop of emitter diode in volts\n",
"Cb=12D-6;//base coupling capacitor in farads\n",
"Cc=12D-6;//collector coupling capacitor in farads\n",
"\n",
"//Solution\n",
"\n",
"IB=(VCC-VBE)/(B*(RL+RE)+R);//base current in ampere\n",
"ICQ=B*IB*1000;//quiscent collector current in milli ampere\n",
"VCEQ=VCC-ICQ*(RE+RL)/1000;//quiscent collector to emitter voltage in volts\n",
"printf('ICQ = %.2f mA\n',ICQ);\n",
"printf('VCEQ = %.2f Volts\n',VCEQ);\n",
"\n",
"//decimal approximation error w.r.t textbook"
   ]
   }
,
{
		   "cell_type": "markdown",
		   "metadata": {},
		   "source": [
			"## Example 5.8: Calculation_of_Q_point_for_given_circuit_and_given_beta.sce"
		   ]
		  },
  {
"cell_type": "code",
	   "execution_count": null,
	   "metadata": {
	    "collapsed": true
	   },
	   "outputs": [],
"source": [
"//Tested on Windows 7 Ultimate 32-bit\n",
"//Chapter 5 Bipolar Transistor Biasing Pg no. 162\n",
"clear;\n",
"clc;\n",
"\n",
"//Given Data\n",
"//Figure 5.23\n",
"\n",
"VCC=11;//supply voltage in volts\n",
"R=220D3;//base bias resistance in ohms\n",
"RL=5.6D3;//load collector resistance in ohms\n",
"RE=1.5D3;//emitter resistance in ohms\n",
"B=120;//DC CE current gain beta\n",
"VBE=0.7;//forward voltage drop of emitter diode in volts\n",
"Cb=12D-6;//base coupling capacitor in farads\n",
"Cc=12D-6;//collector coupling capacitor in farads\n",
"\n",
"//Solution\n",
"\n",
"IB=(VCC-VBE)/(B*(RL+RE)+R);//base current in ampere\n",
"ICQ=B*IB*1000;//quiscent collector current in milli ampere\n",
"VCEQ=VCC-ICQ*(RE+RL)/1000;//quiscent collector to emitter voltage in volts\n",
"printf('ICQ = %.2f mA\n',ICQ);\n",
"printf('VCEQ = %.2f Volts\n',VCEQ);\n",
"\n",
"//decimal approximation error w.r.t textbook"
   ]
   }
,
{
		   "cell_type": "markdown",
		   "metadata": {},
		   "source": [
			"## Example 5.9: Calcualtion_of_dc_level_of_IB_and_VC_for_given_circuit.sce"
		   ]
		  },
  {
"cell_type": "code",
	   "execution_count": null,
	   "metadata": {
	    "collapsed": true
	   },
	   "outputs": [],
"source": [
"//Tested on Windows 7 Ultimate 32-bit\n",
"//Chapter 5 Bipolar Transistor Biasing Pg no. 162 and 163\n",
"clear;\n",
"clc;\n",
"\n",
"//Given Data\n",
"//Figure 5.24\n",
"\n",
"VCC=20;//supply voltage in volts\n",
"R=270D3;//base bias resistance in ohms(60k+90k+120k)\n",
"RL=3.9D3;//load collector resistance in ohms\n",
"RE=410;//emitter resistance in ohms\n",
"B=100;//DC CE current gain beta\n",
"VBE=0.7;//forward voltage drop of emitter diode in volts\n",
"Cb=12D-6;//base coupling capacitor in farads\n",
"Cc=12D-6;//collector coupling capacitor in farads\n",
"Ce=60D-6;//emitter bypass capacitor in farads\n",
"\n",
"//Solution\n",
"\n",
"IB=(VCC-VBE)/(B*(RL+RE)+R);//base current in ampere\n",
"IC=B*IB*1000;//collector current in milli ampere\n",
"VC=VCC-IC*RL/1000;//collector to ground voltage in volts\n",
"printf('d.c. level of IB = %.1f μA\n',IB*10^6);\n",
"printf('d.c. level of VC = %.2f Volts\n',VC);\n",
"\n",
"//decimal approximation error w.r.t textbook"
   ]
   }
],
"metadata": {
		  "kernelspec": {
		   "display_name": "Scilab",
		   "language": "scilab",
		   "name": "scilab"
		  },
		  "language_info": {
		   "file_extension": ".sce",
		   "help_links": [
			{
			 "text": "MetaKernel Magics",
			 "url": "https://github.com/calysto/metakernel/blob/master/metakernel/magics/README.md"
			}
		   ],
		   "mimetype": "text/x-octave",
		   "name": "scilab",
		   "version": "0.7.1"
		  }
		 },
		 "nbformat": 4,
		 "nbformat_minor": 0
}
