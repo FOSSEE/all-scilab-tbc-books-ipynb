{
"cells": [
 {
		   "cell_type": "markdown",
	   "metadata": {},
	   "source": [
       "# Chapter 21: Communication Systems"
	   ]
	},
{
		   "cell_type": "markdown",
		   "metadata": {},
		   "source": [
			"## Example 21.13_1: To_calculate_the_critical_frequencies_and_the_maximum_frequencies.sce"
		   ]
		  },
  {
"cell_type": "code",
	   "execution_count": null,
	   "metadata": {
	    "collapsed": true
	   },
	   "outputs": [],
"source": [
"//scilab 5.4.1\n",
"//Windows 7 operating system\n",
"//chapter 21 Communication Systems\n",
"clc\n",
"clear\n",
"Npe=6*10^10//Npe=peak electron concentration for the E layer in m^-3\n",
"Npf=10^12//Npf=peak electron concentration for the F layer in m^-3\n",
"fCE=9*sqrt(Npe)//fCE=critical frequency for the E layer\n",
"format('v',5)\n",
"disp('MHz',fCE/10^6,'Critical frequency for the E layer is =')\n",
"fCF=9*sqrt(Npf)//fCF=critical frequency for the F layer\n",
"format('v',5)\n",
"disp('MHz',fCF/10^6,'Critical frequency for the F layer is =')\n",
"R=6400//R=radius of the earth in km\n",
"He=110//He=height of the E layer above the earth surface in km\n",
"ime=asind(R/(R+He))//ime=angle corresponding to maximum frequency fmE for E layer in degrees\n",
"format('v',3)\n",
"fmE=fCE*secd(ime)//fmE=maximum frequency reflected from the E layer\n",
"disp('MHz',fmE/10^6,'The maximum frequency reflected from the E layer is =')\n",
"Hf=250//Hf=height of the F layer above the earth surface in km\n",
"imf=asind(R/(R+Hf))//imf=angle corresponding to maximum frequency fmF for F layer in degrees\n",
"format('v',3)\n",
"fmF=fCF*secd(imf)//fmF=maximum frequency reflected from the F layer\n",
"disp('MHz',fmF/10^6,'The maximum frequency reflected from the F layer is =')\n",
""
   ]
   }
,
{
		   "cell_type": "markdown",
		   "metadata": {},
		   "source": [
			"## Example 21.13_2: To_find_the_maximum_distance_between_the_transmitting_and_receiving_points.sce"
		   ]
		  },
  {
"cell_type": "code",
	   "execution_count": null,
	   "metadata": {
	    "collapsed": true
	   },
	   "outputs": [],
"source": [
"//scilab 5.4.1\n",
"//Windows 7 operating system\n",
"//chapter 21 Communication Systems\n",
"clc\n",
"clear\n",
"R=6400//R=radius of the earth in km\n",
"He=110//He=height of the E layer above the earth surface in km\n",
"ime=asin(R/(R+He))//ime=angle corresponding to maximum frequency fmE for E layer in radian\n",
"format('v',10)\n",
"o=(%pi/2)-ime//o=angle made by the incident ray at the centre of the earth in degrees\n",
"format('v',5)\n",
"L=2*o*R//L=maximum distance between the transmitting and the receiving points on the earth surface for single hop transmission of the radiowave reflected from the E layer\n",
"format('v',5)\n",
"disp('km',L,'The maximum distance for single hop transmission is =')\n",
"//Answer given in textbook is 2459 km which is incorrect as it is actually around 2356 km."
   ]
   }
,
{
		   "cell_type": "markdown",
		   "metadata": {},
		   "source": [
			"## Example 21.13_3: EX21_13_3.sce"
		   ]
		  },
  {
"cell_type": "code",
	   "execution_count": null,
	   "metadata": {
	    "collapsed": true
	   },
	   "outputs": [],
"source": [
"//scilab 5.4.1\n",
"//Windows 7 operating system\n",
"//chapter 21 Communication Systems\n",
"clc\n",
"clear\n",
"//fc=9*sqrt(Np)\n",
"fc=3*10^6//fc=critical frequency in Hz\n",
"Np=(fc^2)/81//Np=electron concentration at the reflecting point\n",
"//h=height of the reflecting point from the bottom of the layer\n",
"//Np=(5*10^10)+(10^9*h)....(given)\n",
"h=(Np-(5*10^10))/10^9\n",
"H=100//H=height above the surface of the earth in km\n",
"disp('km',h+H,'The required height above the ground is =')"
   ]
   }
],
"metadata": {
		  "kernelspec": {
		   "display_name": "Scilab",
		   "language": "scilab",
		   "name": "scilab"
		  },
		  "language_info": {
		   "file_extension": ".sce",
		   "help_links": [
			{
			 "text": "MetaKernel Magics",
			 "url": "https://github.com/calysto/metakernel/blob/master/metakernel/magics/README.md"
			}
		   ],
		   "mimetype": "text/x-octave",
		   "name": "scilab",
		   "version": "0.7.1"
		  }
		 },
		 "nbformat": 4,
		 "nbformat_minor": 0
}
