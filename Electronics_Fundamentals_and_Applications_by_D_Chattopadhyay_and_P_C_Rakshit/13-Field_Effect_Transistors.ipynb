{
"cells": [
 {
		   "cell_type": "markdown",
	   "metadata": {},
	   "source": [
       "# Chapter 13: Field Effect Transistors"
	   ]
	},
{
		   "cell_type": "markdown",
		   "metadata": {},
		   "source": [
			"## Example 13.16_10: To_find_the_gate_source_voltage.sce"
		   ]
		  },
  {
"cell_type": "code",
	   "execution_count": null,
	   "metadata": {
	    "collapsed": true
	   },
	   "outputs": [],
"source": [
"//scilab 5.4.1\n",
"//Windows 7 operating system\n",
"//chapter 13 Field-Effect Transistors\n",
"clc\n",
"clear\n",
"IDS=-15//IDS=drain saturation current in terms of mA\n",
"Vp=5//Vp=pinch-off voltage\n",
"IDSS=-40//IDSS=saturation drain current in mA when VGS(gate-to-source voltage)=0V\n",
"//By Shockley's equation\n",
"//IDS=IDSS*(1-(VGS/Vp))^2\n",
"VGS=Vp*(1-sqrt(IDS/IDSS))//VGS=gate-to-source voltage\n",
"disp('V',VGS,'The gate-to-source voltage VGS is=')"
   ]
   }
,
{
		   "cell_type": "markdown",
		   "metadata": {},
		   "source": [
			"## Example 13.16_11: To_calculate_Rs_and_the_channel_resistance.sce"
		   ]
		  },
  {
"cell_type": "code",
	   "execution_count": null,
	   "metadata": {
	    "collapsed": true
	   },
	   "outputs": [],
"source": [
"//scilab 5.4.1\n",
"//Windows 7 operating system\n",
"//chapter 13 Field-Effect Transistors\n",
"clc\n",
"clear\n",
"IDSS=10*10^-3//IDSS=saturation drain current in Ampere when VGS(gate-to-source voltage)=0V\n",
"Vp=-5//Vp=pinch-off voltage\n",
"VDD=24//VDD=drain supply voltage\n",
"VDS=8//VDS=drain-to-source voltage\n",
"ID=4*10^-3//ID=drain current in Ampere\n",
"R1=2*10^6//R1=resistance in the voltage divider network in ohms\n",
"R2=1*10^6//R2=resistance in the voltage divider network in ohms\n",
"VT=(R2/(R1+R2))*VDD//VT=Thevenin voltage\n",
"//By Shockley's equation\n",
"//ID=IDS=IDSS*(1-(VGS/Vp))^2\n",
"VGS=Vp*(1-sqrt(ID/IDSS))//VGS=gate-to-source voltage\n",
"//VGS=VT-(ID*Rs) where Rs=resistance connected at the source terminal\n",
"Rs=(VT-VGS)/ID\n",
"disp('kilo ohm',Rs/10^3,'The value of Rs =')//converting Rs in terms of kilo-ohm\n",
"Rch=VDS/ID//Rch=channel resistance at the Q-point\n",
"disp('kilo ohm',Rch/10^3,'The channel resistance at the Q-point is=')//converting Rch in terms of kilo-ohm"
   ]
   }
,
{
		   "cell_type": "markdown",
		   "metadata": {},
		   "source": [
			"## Example 13.16_12: To_find_the_saturation_drain_current.sce"
		   ]
		  },
  {
"cell_type": "code",
	   "execution_count": null,
	   "metadata": {
	    "collapsed": true
	   },
	   "outputs": [],
"source": [
"//scilab 5.4.1\n",
"//Windows 7 operating system\n",
"//chapter 13 Field-Effect Transistors\n",
"clc\n",
"clear\n",
"ID=5//ID=saturation drain current in terms of mA in an n-channel enhancement mode MOSFET\n",
"VGS=8//VGS=gate-to-source voltage\n",
"VT=4//VT=Threshold voltage\n",
"VGS2=10//VGS2=gate-to-source voltage for which saturation drain current is to be calculated\n",
"//ID=K*(VGS-VT)^2 where K=(IDSS/(Vp^2)) and Vp=pinch-off voltage ,IDSS=drain saturation current for VGS=0 V\n",
"K=ID/((VGS-VT)^2)\n",
"ID1=K*(VGS2-VT)^2//ID1=The saturation drain current for gate-source voltage of 10V i e VGS2\n",
"disp('mA',ID1,'The saturation drain current for gate-source voltage of 10V is =')"
   ]
   }
,
{
		   "cell_type": "markdown",
		   "metadata": {},
		   "source": [
			"## Example 13.16_13: EX13_16_13.sce"
		   ]
		  },
  {
"cell_type": "code",
	   "execution_count": null,
	   "metadata": {
	    "collapsed": true
	   },
	   "outputs": [],
"source": [
"//scilab 5.4.1\n",
"//Windows 7 operating system\n",
"//chapter 13 Field-Effect Transistors\n",
"clc\n",
"clear\n",
"//For n-channel enhancement mode MOSFET operating in active region\n",
"VT=2//VT=Threshold voltage\n",
"K=0.5//K=(IDSS/(Vp^2)) in terms of mA/V^2\n",
"VDD=15//VDD=drain supply voltage\n",
"RL=1//RL=load resistance in kilo ohm\n",
"R1=200*10^3//R1=resistance in the voltage divider network in terms of ohms\n",
"R2=100*10^3//R2=resistance in the voltage divider network in terms of ohms\n",
"VGS=(R2/(R1+R2))*VDD//VGS=gate-to-source voltage\n",
"disp('V',VT,'Threshold voltage is =')\n",
"disp('V',VGS,'The gate-to-source voltage VGS is =')\n",
"ID=K*(VGS-VT)^2//ID=drain current in mA\n",
"disp('mA',ID,'The value of drain current ID is =')\n",
"VDS=VDD-(ID*RL)//VDS=drain-to-source voltage\n",
"disp('V',VDS,'The value of drain-to-source voltage VDS is=')\n",
"if (VDS>(VGS-VT)) then\n",
"    disp('As VDS>(VGS-VT),(i.e. 10.5>(5-2)),the operation is indeed in the active region ')\n",
"end"
   ]
   }
,
{
		   "cell_type": "markdown",
		   "metadata": {},
		   "source": [
			"## Example 13.16_14: To_calculate_K_along_with_drain_current_and_drain_source_voltage.sce"
		   ]
		  },
  {
"cell_type": "code",
	   "execution_count": null,
	   "metadata": {
	    "collapsed": true
	   },
	   "outputs": [],
"source": [
"//scilab 5.4.1\n",
"//Windows 7 operating system\n",
"//chapter 13 Field-Effect Transistors\n",
"clc\n",
"clear\n",
"//For n-channel MOSFET operating in the depletion mode\n",
"VDD=18//VDD=drain supply voltage\n",
"VGS=0//VGS=gate-to-source voltage\n",
"RL=600//RL=load resistance in ohms\n",
"IDSS=18//IDSS=drain saturation current in mA for gate-to-source voltage (VGS)=0V\n",
"Vp=-5//Vp=pinch-off voltage\n",
"//Assuming that the operation is in the active region\n",
"//ID=IDS=IDSS*(1-(VGS/Vp))^2\n",
"//ID=(IDSS/Vp^2)(VGS-Vp)^2\n",
"K=IDSS/(Vp^2)\n",
"disp('mA/V^2',K,'The value of K is =')\n",
"ID=IDSS//ID=drain current \n",
"disp('mA',ID,'Since VGS=0,the value of ID=IDSS is=')\n",
"VDS=VDD-(ID*(RL/10^3))//VDS=drain-to-source voltage and also converting RL in terms of kilo ohm\n",
"disp('V',VDS,'The value of VDS is =')\n",
"disp('V',Vp,'Pinch off voltage Vp is =')\n",
"disp('V',VGS,'Gate to source voltage VGS is =')\n",
"if (VDS>(VGS-Vp)) then\n",
"    disp('As VDS>(VGS-Vp),(i.e.7.5>(0-(-5))),the MOSFET is actually in the active region ')\n",
"end\n",
""
   ]
   }
,
{
		   "cell_type": "markdown",
		   "metadata": {},
		   "source": [
			"## Example 13.16_15: To_calculate_the_voltage_gain_and_the_output_resistance.sce"
		   ]
		  },
  {
"cell_type": "code",
	   "execution_count": null,
	   "metadata": {
	    "collapsed": true
	   },
	   "outputs": [],
"source": [
"//scilab 5.4.1\n",
"//Windows 7 operating system\n",
"//chapter 13 Field-Effect Transistors\n",
"clc\n",
"clear\n",
"//r given in textbook is taken as rd afterwards.Hence r=rd\n",
"rd=100*10^3//rd=drain resistance in ohms\n",
"gm=3500*10^-6//gm=transconductance in terms of A/V (or S)\n",
"RL=5*10^3//RL=load resistance in ohms\n",
"u=rd*gm//u=amplification factor\n",
"AV=(u*RL)/(((u+1)*RL)+rd)//AV=voltage gain\n",
"format('v',6)\n",
"disp(AV,'The voltage gain is=')\n",
"Ro=rd/(u+1)//Ro=output resistance excluding RL\n",
"format('v',5)\n",
"disp('ohm',Ro,'The output resistance excluding RL is =')\n",
"Ro1=(rd*RL)/(rd+((u+1)*RL))//Ro1=Ro'=output resistance including RL\n",
"format('v',6)\n",
"disp('ohm',floor(Ro1),'The output resistance including RL is=')//floor function is used to round down the value\n",
""
   ]
   }
,
{
		   "cell_type": "markdown",
		   "metadata": {},
		   "source": [
			"## Example 13.16_16: To_find_the_small_signal_voltage_gain.sce"
		   ]
		  },
  {
"cell_type": "code",
	   "execution_count": null,
	   "metadata": {
	    "collapsed": true
	   },
	   "outputs": [],
"source": [
"//scilab 5.4.1\n",
"//Windows 7 operating system\n",
"//chapter 13 Field-Effect Transistors\n",
"clc\n",
"clear\n",
"//In a FET used in a CS amplifier\n",
"IDSS=4//IDSS=drain saturation current in mA for gate-to-source voltage (VGS)=0V\n",
"Vp=-3//Vp=pinch-off voltage\n",
"RL=10//RL=load resistance in kilo ohms\n",
"VGS=-0.7//VGS=gate-to-source voltage\n",
"gmo=-(2*IDSS)/Vp//gmo=transconductance in A/V of a JFET when VGS=0V\n",
"gm=gmo*(1-(VGS/Vp))//gm=transconductance\n",
"AV=-gm*RL//AV=the small signal voltage gain\n",
"disp(AV,'The small signal voltage gain is =')\n",
"//Decimal term in the answer displayed in textbook is incorrect as 2.04*10=20.4 and not 20.04."
   ]
   }
,
{
		   "cell_type": "markdown",
		   "metadata": {},
		   "source": [
			"## Example 13.16_1: To_find_the_pinch_off_voltage_and_the_saturation_voltage.sce"
		   ]
		  },
  {
"cell_type": "code",
	   "execution_count": null,
	   "metadata": {
	    "collapsed": true
	   },
	   "outputs": [],
"source": [
"//scilab 5.4.1\n",
"//Windows 7 operating system\n",
"//chapter 13 Field-Effect Transistors\n",
"clc\n",
"clear\n",
"ND=2*10^21//ND=donor concentration in m^-3 of an n-channel silicon JFET\n",
"e=1.6*10^-19//e=charge of an electron\n",
"E=12*8.854*10^-12//E=permittivity of the material where 12=dielectric constant of silicon(given)\n",
"a=(4*10^-6)/2//2*a=channel width in metres and 2*a=4*10^-6\n",
"Vp=(e*ND*(a^2))/(2*E)\n",
"format('v',5)\n",
"disp('V',Vp,'The pinch-off voltage is =')\n",
"VGS=-2//VGS=gate source voltage\n",
"//Vp=VDsat-VGS where VDsat=saturation voltage\n",
"VDsat=Vp+VGS\n",
"format('v',5)\n",
"disp('V',VDsat,'The saturation voltage is =')"
   ]
   }
,
{
		   "cell_type": "markdown",
		   "metadata": {},
		   "source": [
			"## Example 13.16_2: To_find_the_resistance_RS.sce"
		   ]
		  },
  {
"cell_type": "code",
	   "execution_count": null,
	   "metadata": {
	    "collapsed": true
	   },
	   "outputs": [],
"source": [
"//scilab 5.4.1\n",
"//Windows 7 operating system\n",
"//chapter 13 Field-Effect Transistors\n",
"clc\n",
"clear\n",
"VGS=-1.5//VGS=gate-to-source voltage of a JFET\n",
"IDsat=5*10^-3//IDsat=drain saturation current in Ampere\n",
"RS=(abs(VGS))/(abs(IDsat))//RS=resistance to be calculated=|VGS| / |IDsat|\n",
"disp('ohm',RS,'Resistance to be calculated is =')"
   ]
   }
,
{
		   "cell_type": "markdown",
		   "metadata": {},
		   "source": [
			"## Example 13.16_3: To_find_the_transconductance_of_the_FET_along_with_the_amplification_factor.sce"
		   ]
		  },
  {
"cell_type": "code",
	   "execution_count": null,
	   "metadata": {
	    "collapsed": true
	   },
	   "outputs": [],
"source": [
"//scilab 5.4.1\n",
"//Windows 7 operating system\n",
"//chapter 13 Field-Effect Transistors\n",
"clc\n",
"clear\n",
"VGS1=-1\n",
"VGS2=-1.5//VGS1,VGS2=change in VGS(gate-to-source voltage) from VGS1 to VGS2 keeping VDS(drain-to-source voltage) constant\n",
"ID1=7*10^-3\n",
"ID2=5*10^-3//ID1,ID2=change in ID(drain current) in Ampere from ID1 to ID2\n",
"//gm=(id/vgs)|VDS=constant where gm=transconductance\n",
"id=ID1-ID2\n",
"vgs=VGS1-VGS2\n",
"gm=id/vgs\n",
"disp('mA/V',gm*10^3,'The transconductance of the FET is =')\n",
"rd=200*10^3//rd=ac drain resistance in ohms\n",
"u=rd*gm//u=amplification factor\n",
"disp(u,'The amplification factor of the FET is =')"
   ]
   }
,
{
		   "cell_type": "markdown",
		   "metadata": {},
		   "source": [
			"## Example 13.16_4: To_calculate_the_voltage_gain_and_the_output_resistance.sce"
		   ]
		  },
  {
"cell_type": "code",
	   "execution_count": null,
	   "metadata": {
	    "collapsed": true
	   },
	   "outputs": [],
"source": [
"//scilab 5.4.1\n",
"//Windows 7 operating system\n",
"//chapter 13 Field-Effect Transistors\n",
"clc\n",
"clear\n",
"RL=250*10^3//RL=load resistance in ohms in a FET amplifier\n",
"rd=100*10^3//rd=ac drain resistance in ohms\n",
"gm=0.5*10^-3//gm=transconductance in A/V\n",
"u=rd*gm//u=amplification factor\n",
"AV=-(u*RL)/(rd+RL)//AV=voltage gain\n",
"disp(AV,'The voltage gain of FET amplifier is =')\n",
"disp('kilo ohm',rd/1000,'The output resistance excluding RL is rd=')\n",
"ro=(rd*RL)/(rd+RL)//ro=output resistance including RL\n",
"disp('kilo ohm',ro/1000,'Including RL,the output resistance is=')"
   ]
   }
,
{
		   "cell_type": "markdown",
		   "metadata": {},
		   "source": [
			"## Example 13.16_5: To_find_the_drain_current_and_the_pinch_off_voltage.sce"
		   ]
		  },
  {
"cell_type": "code",
	   "execution_count": null,
	   "metadata": {
	    "collapsed": true
	   },
	   "outputs": [],
"source": [
"//scilab 5.4.1\n",
"//Windows 7 operating system\n",
"//chapter 13 Field-Effect Transistors\n",
"clc\n",
"clear\n",
"//For n-channel JFET \n",
"IDSS=12*10^-3//IDSS=saturation drain current in Ampere when VGS(gate-to-source voltage)=0V\n",
"Vp=-4//Vp=pinch-off voltage\n",
"VGS=-2//VGS=gate-to-source voltage\n",
"//By Shockley's equation\n",
"IDS=IDSS*(1-(VGS/Vp))^2//IDS=saturation drain current to be calculated for given value of VGS\n",
"disp('mA',IDS/10^-3,'The drain current for given value of VGS is=')\n",
"gmo=4*10^-3//gmo=transconductance in A/V of a JFET when VGS=0V\n",
"//gmo=-(2*IDSS)/Vp\n",
"Vp=-(2*IDSS)/gmo//Vp=pinch-off voltage to be calculated for given value of transconductance\n",
"disp('V',Vp,'The pinch-off voltage for given value of gmo is =')"
   ]
   }
,
{
		   "cell_type": "markdown",
		   "metadata": {},
		   "source": [
			"## Example 13.16_6: EX13_16_6.sce"
		   ]
		  },
  {
"cell_type": "code",
	   "execution_count": null,
	   "metadata": {
	    "collapsed": true
	   },
	   "outputs": [],
"source": [
"//scilab 5.4.1\n",
"//Windows 7 operating system\n",
"//chapter 13 Field-Effect Transistors\n",
"clc\n",
"clear\n",
"IDSS=12*10^-3//IDSS=saturation drain current in Ampere when VGS(gate-to-source voltage)=0V\n",
"Vp=-4//Vp=pinch-off voltage\n",
"VDD=30//VDD=drain supply voltage\n",
"RL=5*10^3//RL=load resistance in ohms\n",
"Rs=600//Rs=resistance connected to source terminal in ohms\n",
"Rg=1.5*10^6//Rg=resistance connected to gate terminal in ohms\n",
"//By Shockley's equation\n",
"//IDS=IDSS*(1-(VGS/Vp))^2 where IDS=saturation drain current to be calculated for given value of VGS\n",
"//Substituting VGS=(-ID*Rs) we get ID=IDS\n",
"//ID=IDSS*(1+((ID*Rs)/Vp))^2\n",
"//ID=12*(1+((0.6*ID)/-4))^2 where ID is obtained in mA\n",
"//(0.27*ID^2)-(4.6*ID)+12=0.........(1)\n",
"ID1=(4.6+sqrt((4.6^2)-(48*0.27)))/(2*0.27)\n",
"format('v',5)\n",
"ID2=(4.6-sqrt((4.6^2)-(48*0.27)))/(2*0.27)//ID1,ID2 are the 2 roots of the above equation (1)\n",
"format('v',5)\n",
"disp('mA',ID1,'ID1=')\n",
"disp('mA',ID2,'ID2=')\n",
"if (ID1>(IDSS/10^-3)) then//IDSS is converted in terms of mA\n",
"    disp('mA',ID1,'As ID1>IDSS ,the value rejected is ID1=')\n",
"end\n",
"if (ID2>(IDSS/10^-3)) then//IDSS is converted in terms of mA\n",
"    disp('mA',ID2,'As ID2>IDSS ,the value rejected is ID2=')\n",
"end\n",
"disp('mA',ID2,'Therefore,the drain current is =')\n",
"ID=ID2*10^-3//converting ID2 in terms of Ampere\n",
"VDS=VDD-ID*(RL+Rs)//VDS=drain-to-source voltage\n",
"disp('V',VDS,'The value of drain-to-source voltage VDS is =')\n",
"VGS=-ID*Rs//VGS=gate-to-source voltage\n",
"disp('V',VGS,'The value of gate-to-source voltage VGS is=')\n",
"if(Vp<0 & VDS>(VGS-Vp))\n",
"    disp('As Vp=(-4)<VGS<0V and VDS=12V>(VGS-Vp),it is verified that the JFET is in the saturation region of the drain characteristics')\n",
"end"
   ]
   }
,
{
		   "cell_type": "markdown",
		   "metadata": {},
		   "source": [
			"## Example 13.16_7: To_calculate_the_drain_current.sce"
		   ]
		  },
  {
"cell_type": "code",
	   "execution_count": null,
	   "metadata": {
	    "collapsed": true
	   },
	   "outputs": [],
"source": [
"//scilab 5.4.1\n",
"//Windows 7 operating system\n",
"//chapter 13 Field-Effect Transistors\n",
"clc\n",
"clear\n",
"IDSS=10*10^-3//IDSS=saturation drain current in Ampere when VGS(gate-to-source voltage)=0V\n",
"Vp=-2//Vp=pinch-off voltage\n",
"VDD=20//VDD=drain supply voltage\n",
"RL=1*10^3//RL=load resistance in ohms\n",
"Rs=2*1000//Rs=resistance connected to source terminal in ohms\n",
"R1=12*10^6//R1=resistance in the voltage divider network in ohms\n",
"R2=8*10^6//R2=resistance in the voltage divider network in ohms\n",
"VT=(R2/(R1+R2))*VDD//VT=Thevenin voltage\n",
"//VGS=VT-(ID*Rs)\n",
"//By Shockley's equation\n",
"//IDS=IDSS*(1-(VGS/Vp))^2 where IDS=saturation drain current to be calculated for given value of VGS\n",
"//Substituting VGS=(VGS-ID*Rs) we get ID=IDS\n",
"//(10*ID^2)-(101*ID)+250=0.........(1)where ID is obtained in mA\n",
"ID1=(101+sqrt((101^2)-(40*250)))/(2*10)\n",
"format('v',5)\n",
"ID2=(101-sqrt((101^2)-(40*250)))/(2*10)//ID1,ID2 are the 2 roots of the above equation (1)\n",
"format('v',5)\n",
"disp('mA',ID1,'ID1=')\n",
"disp('mA',ID2,'ID2=')\n",
"//For ID1\n",
"VGS=VT-(ID1*Rs)//VGS=gate-to-source voltage calculated for ID1\n",
"if (Vp>VGS) then\n",
"    disp('mA',ID1,'As Vp>(VGS calculated using ID1), the value rejected is ID1=')\n",
"end\n",
"disp('mA',ID2,'Therefore,the drain current is =')\n",
"ID=ID2*10^-3//converting ID2 in terms of Amperes\n",
"VGS=VT-(ID*Rs)//VGS=gate-to-source voltage\n",
"disp('V',VGS,'VGS=')\n",
"VDS=VDD-(ID*(RL+Rs))//VDS=drain-to-source voltage\n",
"format('v',2)\n",
"disp('V',VDS,'VDS=')\n",
"if(Vp<VGS & VDS>(VGS-Vp))\n",
"    disp('As Vp=(-2)<(VGS=-0.68V) and VDS=7V>(VGS-Vp),it is checked that the JFET operates in the saturation region ')\n",
"end"
   ]
   }
,
{
		   "cell_type": "markdown",
		   "metadata": {},
		   "source": [
			"## Example 13.16_8: EX13_16_8.sce"
		   ]
		  },
  {
"cell_type": "code",
	   "execution_count": null,
	   "metadata": {
	    "collapsed": true
	   },
	   "outputs": [],
"source": [
"//scilab 5.4.1\n",
"//Windows 7 operating system\n",
"//chapter 13 Field-Effect Transistors\n",
"clc\n",
"clear\n",
"//For a n-channel JFET\n",
"IDSS=10*10^-3//IDSS=saturation drain current in Ampere when VGS(gate-to-source voltage)=0V\n",
"Vp=(-4)//Vp=pinch-off voltage\n",
"VGS=(-2.5)//VGS=gate-to-source voltage\n",
"//By Shockley's equation\n",
"IDS=IDSS*(1-(VGS/Vp))^2//IDS=saturation drain current to be calculated for given value of VGS\n",
"format('v',5)\n",
"disp('mA',IDS/10^-3,'The drain current for given value of VGS is=')//converting IDS in terms of mA\n",
"VDSmin=VGS-Vp//VDSmin=minimum value of drain-to-source voltage for the onset of the saturation region\n",
"format('v',5)\n",
"disp('V',VDSmin,'The minimum value of VDS for saturation is=')"
   ]
   }
,
{
		   "cell_type": "markdown",
		   "metadata": {},
		   "source": [
			"## Example 13.16_9: To_determine_gate_source_voltage_and_the_transconductance.sce"
		   ]
		  },
  {
"cell_type": "code",
	   "execution_count": null,
	   "metadata": {
	    "collapsed": true
	   },
	   "outputs": [],
"source": [
"//scilab 5.4.1\n",
"//Windows 7 operating system\n",
"//chapter 13 Field-Effect Transistors\n",
"clc\n",
"clear\n",
"VDD=20//VDD=drain supply voltage\n",
"IDS=0.9//IDS=drain saturation current in terms of mA\n",
"Vp=-3//Vp=pinch-off voltage\n",
"IDSS=8//IDSS=saturation drain current in mA when VGS(gate-to-source voltage)=0V\n",
"//By Shockley's equation\n",
"//IDS=IDSS*(1-(VGS/Vp))^2\n",
"VGS=Vp*(1-sqrt(IDS/IDSS))//VGS=gate-to-source voltage\n",
"disp('V',VGS,'The gate-to-source voltage VGS is=')\n",
"//gm=(dIDS/dVGS)|VDS=constant where gm=transconductance\n",
"gm=-((2*IDSS)/Vp)*(1-(VGS/Vp))\n",
"format('v',5)\n",
"disp('mS',gm,'The value of transconductance is=')\n",
""
   ]
   }
],
"metadata": {
		  "kernelspec": {
		   "display_name": "Scilab",
		   "language": "scilab",
		   "name": "scilab"
		  },
		  "language_info": {
		   "file_extension": ".sce",
		   "help_links": [
			{
			 "text": "MetaKernel Magics",
			 "url": "https://github.com/calysto/metakernel/blob/master/metakernel/magics/README.md"
			}
		   ],
		   "mimetype": "text/x-octave",
		   "name": "scilab",
		   "version": "0.7.1"
		  }
		 },
		 "nbformat": 4,
		 "nbformat_minor": 0
}
