{
"cells": [
 {
		   "cell_type": "markdown",
	   "metadata": {},
	   "source": [
       "# Chapter 4: Metal Semiconductor Contacts"
	   ]
	},
{
		   "cell_type": "markdown",
		   "metadata": {},
		   "source": [
			"## Example 4.7_1: to_find_barrier_height_and_depletion_region_width_and_maximum_electric_field.sce"
		   ]
		  },
  {
"cell_type": "code",
	   "execution_count": null,
	   "metadata": {
	    "collapsed": true
	   },
	   "outputs": [],
"source": [
"//scilab 5.4.1\n",
"//windows 7 operating system\n",
"//chapter 4:Metal-Semiconductor Contacts\n",
"clc\n",
"clear\n",
"//given\n",
"Qm=4.55//Qm=work function of tungsten in eV\n",
"X=4.01//X=electron affinity of silicon in eV\n",
"eQb=(Qm-X)//eQb=barrier height as seen from the metal\n",
"disp('eV',eQb,'eQb=')\n",
"a=0.21//a=(Ec-Ef)=forbidden gap in eV\n",
"eVbi=eQb-a//eVbi=barrier height from semiconductor side\n",
"disp('eV',eVbi,'eVbi=')\n",
"Es=11.7*8.854*(10^-12)//Es=permittivity of semiconductor;11.7=dielectric constant of silicon\n",
"e=1.6*10^(-19)//e=charge of an electron\n",
"Nd=10^22//Nd=donor concentration in m^-3\n",
"W=((2*Es*eVbi)/(e*Nd))^(1/2)//W=width of the depletion region\n",
"disp('m',W,'W=')\n",
"Fm=((e*Nd*W)/Es)//Fm=maximum electric field in V/m\n",
"disp('V/m',Fm,'Fm=')"
   ]
   }
,
{
		   "cell_type": "markdown",
		   "metadata": {},
		   "source": [
			"## Example 4.7_2: to_find_the_barrier_height_and_concentration.sce"
		   ]
		  },
  {
"cell_type": "code",
	   "execution_count": null,
	   "metadata": {
	    "collapsed": true
	   },
	   "outputs": [],
"source": [
"//scilab 5.4.1\n",
"//windows 7 operating system\n",
"//chapter 4:Metal-Semiconductor Contacts\n",
"clc\n",
"clear\n",
"//given\n",
"// as per given data barrier height =Vbi=intercept on Vr axis=0.4 V\n",
"Es=11.7*8.854*(10^-12)//Es=permittivity of semiconductor;11.7=dielectric constant of silicon\n",
"e=1.6*10^(-19)//e=charge of an electron\n",
"m=4.4*10^(15)//m=slope of (1/C^2) vs Vr plot of a Schottky contact in(cm^4)(F^-2)(V^-1)\n",
"//m=2/(e*Es*Nd)\n",
"Nd=(2*10^8)/(e*Es*m)//Nd=donor concentration in silicon in m^-3\n",
"disp('m^-3',Nd,'Nd=')"
   ]
   }
,
{
		   "cell_type": "markdown",
		   "metadata": {},
		   "source": [
			"## Example 4.7_3: to_calculate_barrier_lowering_and_the_position_of_the_maximum_barrier_height.sce"
		   ]
		  },
  {
"cell_type": "code",
	   "execution_count": null,
	   "metadata": {
	    "collapsed": true
	   },
	   "outputs": [],
"source": [
"//scilab 5.4.1\n",
"//windows 7 operating system\n",
"//chapter 4:Metal-Semiconductor Contacts\n",
"clc\n",
"clear\n",
"//given\n",
"e=1.6*10^-19//e=charge of an electron in C\n",
"Fa=7*10^6//Fa=reverse bias field in V/m\n",
"Es=13.1*8.854*10^-12//(Es/Eo)=13.1;Eo=8.854*10^-12\n",
"dQ=((e*Fa)/(4*%pi*Es))^(1/2)//dQ=barrier lowering in V \n",
"disp('V',dQ,'dQ=')\n",
"Xm=(dQ)/(2*Fa)//Xm=position of the maximum barrier height\n",
"disp('m',Xm,'Xm=')"
   ]
   }
,
{
		   "cell_type": "markdown",
		   "metadata": {},
		   "source": [
			"## Example 4.7_4: to_determine_the_effective_richardson_constant.sce"
		   ]
		  },
  {
"cell_type": "code",
	   "execution_count": null,
	   "metadata": {
	    "collapsed": true
	   },
	   "outputs": [],
"source": [
"//scilab 5.4.1\n",
"//windows 7 operating system\n",
"//chapter 4:Metal-Semiconductor Contacts\n",
"clc\n",
"clear\n",
"//given\n",
"//Js=A*(T^2)*exp(-((e*Qbn)/(kB*T)))\n",
"kB=1.38*10^(-23)//kB=Boltzmann's constant in J/K\n",
"T=300//T=temperature in Kelvin\n",
"e=1.6*10^-19//e=charge of an electron in C\n",
"Js=6*10^-5//Js=emission current density in A/cm^2\n",
"Qbn=0.668//Qbn=barrier height in V\n",
"A=(Js/(T^2))*exp((e*Qbn)/(kB*T))//A=Richardson constant\n",
"disp('(cm^-2)(K^-2)',A,'A=')"
   ]
   }
,
{
		   "cell_type": "markdown",
		   "metadata": {},
		   "source": [
			"## Example 4.7_5: to_calculate_current_in_a_Schottky_diode.sce"
		   ]
		  },
  {
"cell_type": "code",
	   "execution_count": null,
	   "metadata": {
	    "collapsed": true
	   },
	   "outputs": [],
"source": [
"//scilab 5.4.1\n",
"//windows 7 operating system\n",
"//chapter 4:Metal-Semiconductor Contacts\n",
"clc\n",
"clear\n",
"//given\n",
"e=1.6*10^-19//e=charge of an electron in C\n",
"V=0.32//V =applied forward bias in V\n",
"kB=1.38*10^(-23)//kB=Boltzmann's constant in J/K\n",
"T=300//T=Temperature in Kelvin\n",
"Js=0.61//Js=reverse saturation current density in A/m^2\n",
"J=Js*(exp((e*V)/(kB*T))-1)//J=current density in A/m^2\n",
"disp('A/m^2',J,'J=')\n",
"A=4*10^-8//A=cross sectional area in m^2\n",
"I=(J*A)*10^3//I=current\n",
"disp('mA',I,'I=')"
   ]
   }
],
"metadata": {
		  "kernelspec": {
		   "display_name": "Scilab",
		   "language": "scilab",
		   "name": "scilab"
		  },
		  "language_info": {
		   "file_extension": ".sce",
		   "help_links": [
			{
			 "text": "MetaKernel Magics",
			 "url": "https://github.com/calysto/metakernel/blob/master/metakernel/magics/README.md"
			}
		   ],
		   "mimetype": "text/x-octave",
		   "name": "scilab",
		   "version": "0.7.1"
		  }
		 },
		 "nbformat": 4,
		 "nbformat_minor": 0
}
