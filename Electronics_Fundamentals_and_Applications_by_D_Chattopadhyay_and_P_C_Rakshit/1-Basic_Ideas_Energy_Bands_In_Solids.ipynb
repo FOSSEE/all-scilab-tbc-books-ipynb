{
"cells": [
 {
		   "cell_type": "markdown",
	   "metadata": {},
	   "source": [
       "# Chapter 1: Basic Ideas Energy Bands In Solids"
	   ]
	},
{
		   "cell_type": "markdown",
		   "metadata": {},
		   "source": [
			"## Example 1.7_1: To_find_the_final_velocity_of_electron.sce"
		   ]
		  },
  {
"cell_type": "code",
	   "execution_count": null,
	   "metadata": {
	    "collapsed": true
	   },
	   "outputs": [],
"source": [
"//scilab 5.4.1\n",
"//windows 7 operating system\n",
"//chapter 1:Basic Ideas:Energy Bands In Solids\n",
"clc\n",
"clear\n",
"//given\n",
"Ek=1.6*(10^-19)*100;//Ek=final kinetic energy of electron in Joules\n",
"m0=9.11*(10^-31);//m0=rest mass of the electron in kg\n",
"//solving final velocity of the electron\n",
"v=sqrt((2*Ek)/m0)//v=final velocity of the electron\n",
"disp('m/s',v,'v=')\n",
""
   ]
   }
,
{
		   "cell_type": "markdown",
		   "metadata": {},
		   "source": [
			"## Example 1.7_2: To_find_the_velocity_and_kinetic_energy_of_ion.sce"
		   ]
		  },
  {
"cell_type": "code",
	   "execution_count": null,
	   "metadata": {
	    "collapsed": true
	   },
	   "outputs": [],
"source": [
"//scilab 5.4.1\n",
"//windows 7 operating system\n",
"//chapter 1:Basic Ideas:Energy Bands In Solids\n",
"clc\n",
"clear\n",
"//given data\n",
"m=7360*9.11*(10^-31);//m=mass of the ion in kg\n",
"q=2*1.6*(10^-19);//q=charge of the ion in Coulomb\n",
"V=2000;//V=potential difference in Volt\n",
"//solving velocity & kinetic energy of the ion\n",
"v=sqrt((2*q*V)/m)//v=velocity of the ion\n",
"disp('m/s',v,'v=')\n",
"Ek=(1/2)*m*(v^2)//Ek=kinetic energy of the ion\n",
"disp('J',Ek,'Ek=')"
   ]
   }
],
"metadata": {
		  "kernelspec": {
		   "display_name": "Scilab",
		   "language": "scilab",
		   "name": "scilab"
		  },
		  "language_info": {
		   "file_extension": ".sce",
		   "help_links": [
			{
			 "text": "MetaKernel Magics",
			 "url": "https://github.com/calysto/metakernel/blob/master/metakernel/magics/README.md"
			}
		   ],
		   "mimetype": "text/x-octave",
		   "name": "scilab",
		   "version": "0.7.1"
		  }
		 },
		 "nbformat": 4,
		 "nbformat_minor": 0
}
