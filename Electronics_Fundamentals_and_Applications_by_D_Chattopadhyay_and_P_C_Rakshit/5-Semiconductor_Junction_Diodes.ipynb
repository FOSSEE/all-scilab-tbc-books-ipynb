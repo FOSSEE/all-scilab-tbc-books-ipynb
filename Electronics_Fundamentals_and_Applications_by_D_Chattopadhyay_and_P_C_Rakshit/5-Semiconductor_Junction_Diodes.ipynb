{
"cells": [
 {
		   "cell_type": "markdown",
	   "metadata": {},
	   "source": [
       "# Chapter 5: Semiconductor Junction Diodes"
	   ]
	},
{
		   "cell_type": "markdown",
		   "metadata": {},
		   "source": [
			"## Example 5.7_10: To_find_whether_power_dissipated_exceeds_the_maximum_power_limit.sce"
		   ]
		  },
  {
"cell_type": "code",
	   "execution_count": null,
	   "metadata": {
	    "collapsed": true
	   },
	   "outputs": [],
"source": [
"//scilab 5.4.1\n",
"//windows 7 operating system\n",
"//chapter 5:Semiconductor Junction Diodes\n",
"clc\n",
"clear\n",
"Vz=3//Vz=breakdown voltage of zener diode\n",
"Vi=12//Vi=input voltage\n",
"V=[12;-3]//V=[Vi:-Vz]\n",
"R1=1000\n",
"R2=1000\n",
"R3=500//R1,R2,R3=resistances\n",
"R=[R1+R2 -R2;-R2 R2+R3]\n",
"I1=inv(R)*V//solving this matrix on the basis of application of KCL & KVL,we get the values of branch currents I & Iz as I1=[I;Iz]\n",
"disp('A',I1(1),'I=')\n",
"disp('A',I1(2),'Iz=')\n",
"Pz=Vz*I1(2)//Pz=power dissipated in zener diode\n",
"disp('W',Pz,'Pz=')\n",
"disp('Power dissipated does not exceed the maximum power limit of 20mW')\n",
"\n",
""
   ]
   }
,
{
		   "cell_type": "markdown",
		   "metadata": {},
		   "source": [
			"## Example 5.7_11: To_determine_the_range_of_variation_of_the_output_voltage.sce"
		   ]
		  },
  {
"cell_type": "code",
	   "execution_count": null,
	   "metadata": {
	    "collapsed": true
	   },
	   "outputs": [],
"source": [
"//scilab 5.4.1\n",
"//windows 7 operating system\n",
"//chapter 5:Semiconductor Junction Diodes\n",
"clc\n",
"clear\n",
"Vs1=15\n",
"Vs2=30//Vs=supply voltage varying from 15(Vs1) to 30(Vs2) Volt\n",
"Vzo=9//Vzo=knee voltage\n",
"rZ=5//rZ=dynamic resistance in ohms\n",
"R=800//R=series resistance in ohms\n",
"Izmin=(Vs1-Vzo)/(R+rZ)//Izmin=current through zener diode when Vs is 15 V\n",
"disp('A',Izmin,'Izmin=')\n",
"Vomin=(rZ*Izmin)+Vzo//Vomin=corresponding minimum output voltage\n",
"disp('V',Vomin,'Vomin=')\n",
"Izmax=(Vs2-Vzo)/(R+rZ)//Izmax=current through zener diode when Vs is 30 V\n",
"disp('A',Izmax,'Izmax=')\n",
"Vomax=(rZ*Izmax)+Vzo//Vomax=corresponding maximum output voltage\n",
"disp('V',Vomax,'Vomax=')\n",
"disp('Output voltage Vo varies in the range Vomin to Vomax')\n",
"\n",
""
   ]
   }
,
{
		   "cell_type": "markdown",
		   "metadata": {},
		   "source": [
			"## Example 5.7_12: To_find_the_value_of_resistance_R.sce"
		   ]
		  },
  {
"cell_type": "code",
	   "execution_count": null,
	   "metadata": {
	    "collapsed": true
	   },
	   "outputs": [],
"source": [
"//scilab 5.4.1\n",
"//windows 7 operating system\n",
"//chapter 5:Semiconductor Junction Diodes\n",
"clc\n",
"clear\n",
"V=35//V=supply voltage\n",
"Iz=25*10^(-3)//Iz=diode current\n",
"Il=5*10^(-3)//Il=load current\n",
"Vzo=7//Vzo=knee voltage of zener diode\n",
"rZ=6//rZ=dynamic resistance in ohms\n",
"Vz=Vzo+(rZ*Iz)//Vz=zener voltage\n",
"disp('V',Vz,'Vz=')\n",
"I=Iz+Il//I=current through resistance R\n",
"disp('A',I,'I=')\n",
"R=(V-Vz)/I\n",
"disp('ohm',R,'R=')"
   ]
   }
,
{
		   "cell_type": "markdown",
		   "metadata": {},
		   "source": [
			"## Example 5.7_1: To_find_the_voltage_to_be_applied_across_the_junction.sce"
		   ]
		  },
  {
"cell_type": "code",
	   "execution_count": null,
	   "metadata": {
	    "collapsed": true
	   },
	   "outputs": [],
"source": [
"//scilab 5.4.1\n",
"//windows 7 operating system\n",
"//Chapter 5:Semiconductor Junction Diodes\n",
"clc\n",
"clear\n",
"//I=Is*(exp((e*V)/kB*T)-1)\n",
"I=50*10^(-3)//I=Forward current in ampere\n",
"Is=5*10^(-6)//Is=Reverse saturation current in ampere\n",
"e=1.6*10^(-19)//e=charge of electron in coulomb\n",
"//V=voltage\n",
"kB=1.38*10^(-23)//kB=Boltzmann's constant in Joule/kelvin\n",
"T=300//T=Temperature in kelvin\n",
"a=(I/Is)+1\n",
"//exp((e*V)/kB*T)=a\n",
"V=((kB*T)/e)*log(10^4)\n",
"disp('V',V,'V=')"
   ]
   }
,
{
		   "cell_type": "markdown",
		   "metadata": {},
		   "source": [
			"## Example 5.7_2: To_calculate_the_ratio_of_current_for_forward_bias_to_that_of_reverse_bias.sce"
		   ]
		  },
  {
"cell_type": "code",
	   "execution_count": null,
	   "metadata": {
	    "collapsed": true
	   },
	   "outputs": [],
"source": [
"//scilab 5.4.1\n",
"//windows 7 operating system\n",
"//chapter 5:Semiconductor Junction Diodes\n",
"clc\n",
"clear\n",
"//given\n",
"e=1.6*10^-19//e=charge of an electron in C\n",
"V1=0.06//V1=applied forward bias in V\n",
"V2=(-0.06)//V2 =applied reverse bias in V\n",
"kB=1.38*10^(-23)//kB=Boltzmann's constant in J/K\n",
"T=300//T=Temperature in Kelvin\n",
"//Is=reverse saturation current in A\n",
"//I1=Is*(exp((e*V1)/(kB*T))-1)//I1=current for forward bias\n",
"//I2=Is*(exp((e*V2)/(kB*T))-1)//I2=current for reverse bias\n",
"a=((exp((e*V1)/(kB*T))-1))/((exp((e*V2)/(kB*T))-1))//a=(I1/I2)\n",
"disp('',abs(a),'a')"
   ]
   }
,
{
		   "cell_type": "markdown",
		   "metadata": {},
		   "source": [
			"## Example 5.7_3: To_determine_the_static_and_dynamic_resistance_of_the_diode.sce"
		   ]
		  },
  {
"cell_type": "code",
	   "execution_count": null,
	   "metadata": {
	    "collapsed": true
	   },
	   "outputs": [],
"source": [
"//scilab 5.4.1\n",
"//windows 7 operating system\n",
"//Chapter 5:Semiconductor Junction Diodes\n",
"clc\n",
"clear\n",
"V=0.9//V=forward bias voltage\n",
"I=60*10^(-3)//I=Current in ampere\n",
"rdc=(V/I)//rdc=static resistance in ohm\n",
"n=2//n=emission coefficient\n",
"rac=((26*n*10^(-3))/I)//rac=dynamic resistance\n",
"disp('ohm',rdc,'rdc=')\n",
"disp('ohm',rac,'rac=')"
   ]
   }
,
{
		   "cell_type": "markdown",
		   "metadata": {},
		   "source": [
			"## Example 5.7_4: To_calculate_the_increase_in_the_bias_voltage.sce"
		   ]
		  },
  {
"cell_type": "code",
	   "execution_count": null,
	   "metadata": {
	    "collapsed": true
	   },
	   "outputs": [],
"source": [
"//scilab 5.4.1\n",
"//windows 7 operating system\n",
"//chapter 5:Semiconductor Junction Diodes\n",
"clc\n",
"clear\n",
"e=1.6*10^(-19)//e=charge of an electron in C\n",
"kB=1.38*10^(-23)//kB=Boltzmann's constant in J/K\n",
"//V,V1=forward bias voltagesin V\n",
"n=2//n=emission coefficient for silicon pn junction diode\n",
"T=300//T=Temperature in kelvin\n",
"//Is=Reverse saturation current in A\n",
"//I=Is*(exp((e*V)/(n*kB*T)))//I=current for forward bias voltage V\n",
"//2I=Is*(exp((e*V1)/(n*kB*T)))//2I=current for forward bias voltage V1\n",
"//exp((e*(V1-V)/(n*kB*T)))=2\n",
"a=(((n*kB*T)/e)*log(2))*10^3//a=(V1-V)=increase in the bias voltage in V\n",
"disp('mV',a,'V1-V')\n",
"\n",
"\n",
""
   ]
   }
,
{
		   "cell_type": "markdown",
		   "metadata": {},
		   "source": [
			"## Example 5.7_5: To_find_the_bias_voltage_of_pn_junction_diode.sce"
		   ]
		  },
  {
"cell_type": "code",
	   "execution_count": null,
	   "metadata": {
	    "collapsed": true
	   },
	   "outputs": [],
"source": [
"//scilab 5.4.1\n",
"//windows 7 operating system\n",
"//chapter 5:Semiconductor Junction Diodes\n",
"clc\n",
"clear\n",
"e=1.6*10^(-19)//e=charge of an electron in C\n",
"kB=1.38*10^(-23)//kB=Boltzmann's constant in J/K\n",
"n=2//n=emission coefficient for silicon pn junction diode\n",
"T=300//T=Temperature in kelvin\n",
"//Is=Reverse saturation current in A\n",
"//V=bias voltage in V\n",
"//I=Is*(exp((e*V)/(n*kB*T))-1)//I=reverse current in A\n",
"//I=(-(Is/2))\n",
"a=(((n*kB*T)/e)*log(1/2))*10^3//a=bias for reverse current in silicon pn junction diode \n",
"disp('mV',a,'V')\n",
"disp('The negative sign suggests diode in reverse bias')"
   ]
   }
,
{
		   "cell_type": "markdown",
		   "metadata": {},
		   "source": [
			"## Example 5.7_6: To_calculate_the_rise_in_temperature.sce"
		   ]
		  },
  {
"cell_type": "code",
	   "execution_count": null,
	   "metadata": {
	    "collapsed": true
	   },
	   "outputs": [],
"source": [
"//scilab 5.4.1\n",
"//windows 7 operating system\n",
"//chapter 5:Semiconductor Junction Diodes\n",
"clc\n",
"clear\n",
"//T1,T2=Temperature in kelvin\n",
"//Is1=Reverse saturation current at temperature T1 in ampere\n",
"//Is2=Reverse saturation current at temperature T2 in ampere\n",
"//Is2=Is1*2^((T2-T1)/10)\n",
"//((T2-T1)/10)*log(2)=log(Is2/Is1)\n",
"//b=(Is2/Is1)\n",
"b=50\n",
"a=((10*log(b))/log(2))//a=(T2-T1)=rise in temperature in degree celcius\n",
"disp('C',a,'T2-T1')"
   ]
   }
,
{
		   "cell_type": "markdown",
		   "metadata": {},
		   "source": [
			"## Example 5.7_7: To_calculate_the_maximum_permissible_battery_voltage.sce"
		   ]
		  },
  {
"cell_type": "code",
	   "execution_count": null,
	   "metadata": {
	    "collapsed": true
	   },
	   "outputs": [],
"source": [
"//scilab 5.4.1\n",
"//windows 7 operating system\n",
"//chapter 5:Semiconductor Junction Diodes\n",
"clc\n",
"clear\n",
"V=0.6//V=cutin voltage in V\n",
"r=150//r=forward resistance in ohm\n",
"P=200*(10^-3)//P=maximum power in Watt\n",
"//P=(i^2)*r where i=maximum safe diode current\n",
"i=(sqrt(P/r))*10^3\n",
"disp('mA',i,'i=')\n",
"//i=((Vb/3)-V)/3 by applying KCL\n",
"Vb=((3*i)+V)*3//Vb=maximum permissible battery voltage\n",
"disp('V',Vb,'Vb=')\n",
"\n",
""
   ]
   }
,
{
		   "cell_type": "markdown",
		   "metadata": {},
		   "source": [
			"## Example 5.7_8: EX5_7_8.sce"
		   ]
		  },
  {
"cell_type": "code",
	   "execution_count": null,
	   "metadata": {
	    "collapsed": true
	   },
	   "outputs": [],
"source": [
"//scilab 5.4.1\n",
"//windows 7 operating system\n",
"//chapter 5:Semiconductor Junction Diodes\n",
"clc\n",
"clear\n",
"V=15//V=supply voltage\n",
"Vz=12//Vz=Zener voltage\n",
"P=0.36//P=power of Zener diode\n",
"//P=Vz*I\n",
"I=(P/Vz)//I=maximum allowable Zener current \n",
"disp('A',I,'I=')\n",
"Vr=V-Vz//Vr=voltage drop across series resistance R\n",
"disp('V',Vr,'Vr=')\n",
"R=Vr/I//R=series resistance\n",
"disp('ohm',R,'R=')\n",
"//I=Iz+Il\n",
"Iz=2*(10^-3)//Iz=minimum diode current\n",
"Il=I-Iz//Il=current through load resistance Rl\n",
"disp('A',Il,'Il=')\n",
"Rlm=Vz/Il//Rlm=minimum value of Rl\n",
"disp('ohm',Rlm,'Rlm=')\n",
"disp('The allowable range of variation of Rl is 428.6ohm<=Rl<infinite')\n",
""
   ]
   }
,
{
		   "cell_type": "markdown",
		   "metadata": {},
		   "source": [
			"## Example 5.7_9: To_determine_the_limits_between_which_the_supply_voltage_can_vary.sce"
		   ]
		  },
  {
"cell_type": "code",
	   "execution_count": null,
	   "metadata": {
	    "collapsed": true
	   },
	   "outputs": [],
"source": [
"//scilab 5.4.1\n",
"//windows 7 operating system\n",
"//chapter 5:Semiconductor Junction Diodes\n",
"clc\n",
"clear\n",
"V=15//V=supply voltage\n",
"Vz=12//Vz=Zener voltage\n",
"P=0.36//P=power of Zener diode\n",
"//P=Vz*I\n",
"I=(P/Vz)//I=maximum allowable Zener current \n",
"disp('A',I,'I=')\n",
"Iz=2*10^(-3)//Iz=minimum value attained by the zener current\n",
"Rl=1000//Rl=load resistance\n",
"i=Vz/Rl//i=load current\n",
"disp('A',i,'i=')\n",
"Imin=Iz+i//Imin=minimum allowable value of current\n",
"R=100//R=series resistance\n",
"Vr=Imin*R//Vr=voltage drop across R\n",
"disp('V',Vr,'Vr=')\n",
"Vmin=Vz+Vr//Vmin=minimum value of V\n",
"disp('V',Vmin,'Vmin=')\n",
"I1=I+i\n",
"disp('A',I1,'I1=')\n",
"VR=I1*R\n",
"disp('V',VR,'VR=')\n",
"Vmax=Vz+VR//Vmax=maximum value of V\n",
"disp('V',Vmax,'Vmax=')\n",
"disp('V can vary between Vmin & Vmax')"
   ]
   }
],
"metadata": {
		  "kernelspec": {
		   "display_name": "Scilab",
		   "language": "scilab",
		   "name": "scilab"
		  },
		  "language_info": {
		   "file_extension": ".sce",
		   "help_links": [
			{
			 "text": "MetaKernel Magics",
			 "url": "https://github.com/calysto/metakernel/blob/master/metakernel/magics/README.md"
			}
		   ],
		   "mimetype": "text/x-octave",
		   "name": "scilab",
		   "version": "0.7.1"
		  }
		 },
		 "nbformat": 4,
		 "nbformat_minor": 0
}
