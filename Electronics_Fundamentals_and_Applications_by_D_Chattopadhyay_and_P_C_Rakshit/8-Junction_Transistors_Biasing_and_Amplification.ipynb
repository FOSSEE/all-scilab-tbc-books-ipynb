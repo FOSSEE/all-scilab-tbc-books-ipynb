{
"cells": [
 {
		   "cell_type": "markdown",
	   "metadata": {},
	   "source": [
       "# Chapter 8: Junction Transistors Biasing and Amplification"
	   ]
	},
{
		   "cell_type": "markdown",
		   "metadata": {},
		   "source": [
			"## Example 8.14_10: To_find_the_quiescent_values_of_IE_and_VCE.sce"
		   ]
		  },
  {
"cell_type": "code",
	   "execution_count": null,
	   "metadata": {
	    "collapsed": true
	   },
	   "outputs": [],
"source": [
"//scilab 5.4.1\n",
"//Windows 7 operating system\n",
"//chapter 8 Junction Transistors:Biasing and Amplification\n",
"clc\n",
"clear\n",
"VBE=0.7//VBE=base emitter voltage\n",
"b=90//b=dc current gain of the common emitter transistor\n",
"VCC=10//VCC=collector supply voltage\n",
"RE=1.2//RE=resistance in kilo ohms connected to the emitter terminal\n",
"RC=4.7//RC=resistance in kilo ohms connected to the collector terminal\n",
"RB=250//RB=resistance in kilo ohms connected to the base terminal\n",
"//Applying Kirchhoff's voltage law\n",
"//VCE=(RB*IB)+VBE where VCE=collector emitter voltage\n",
"//Also VCC=((IB+IC)*RC)+VCE+(IE*RE)\n",
"//IC=b*IB where IC=collector current and IB=base current\n",
"//IE=IC+IB where IE=emitter current\n",
"//IE=(b+1)*IB\n",
"IB=(VCC-VBE)/(((b+1)*(RC+RE))+RB)\n",
"format('v',6)\n",
"IE=(b+1)*IB\n",
"format('v',5)\n",
"VCE=(RB*IB)+VBE\n",
"format('v',5)\n",
"IC=b*IB\n",
"format('v',5)\n",
"disp('mA',IE,'The quiescent value of IE is =')\n",
"disp('V',VCE,'The quiescent value of VCE is =')\n",
"disp('mA',IC,'When dc current gain=90,IC=')\n",
"//b is increased by 50%\n",
"b1=((50*b)/100)+b\n",
"IB1=(VCC-VBE)/(((b1+1)*(RC+RE))+RB)\n",
"IC1=b1*IB1\n",
"disp('mA',IC1,'When dc current gain is increased by 50%,IC=')\n",
"x=((IC1-IC)/IC)*100//x=increase in the collector current\n",
"disp('%',x,'The increase in the collector current IC is =')\n",
"disp('The percentage increase of IC being less than that of the dc current gain,the circuit provides some stabilization against the changes in the dc current gain.')\n",
"disp('VCE does not depend on dc current gain and hence it is not affected when the dc current gain changes.')"
   ]
   }
,
{
		   "cell_type": "markdown",
		   "metadata": {},
		   "source": [
			"## Example 8.14_11: To_calculate_the_quiescent_values_of_IB_IC_IE_and_VCE.sce"
		   ]
		  },
  {
"cell_type": "code",
	   "execution_count": null,
	   "metadata": {
	    "collapsed": true
	   },
	   "outputs": [],
"source": [
"//scilab 5.4.1\n",
"//Windows 7 operating system\n",
"//chapter 8 Junction Transistors:Biasing and Amplification\n",
"clc\n",
"clear\n",
"VBE=0.7//VBE=base emitter voltage\n",
"b=99//b=dc current gain of the common emitter transistor\n",
"VCC=15//VCC=collector supply voltage\n",
"RE=7//RE=resistance in kilo ohms connected to the emitter terminal\n",
"RC=4//RC=resistance in kilo ohms connected to the collector terminal\n",
"RB=5//RB=resistance in kilo ohms connected to the base terminal\n",
"VEE=(-15)//VEE=emitter supply voltage\n",
"//Applying Kirchhoff's voltage law in the base emitter loop\n",
"//-VEE=(RB*IB)+VBE +(IE*RE)\n",
"//IC=b*IB where IC=collector current and IB=base current\n",
"//IE=IC+IB where IE=emitter current\n",
"//IE=(b+1)*IB\n",
"IB=(-VEE-VBE)/(RB+((b+1)*RE))\n",
"format('v',7)\n",
"disp('mA',IB,'The quiescent value of IB is =')\n",
"IC=b*IB\n",
"format('v',5)\n",
"disp('mA',IC,'The quiescent value of IC is =')\n",
"IE=(b+1)*IB\n",
"format('v',5)\n",
"disp('mA',IE,'The quiescent value of IE is =')\n",
"//Applying Kirchhoff's voltage law in the output circuit\n",
"//(IC*RC)+VCE+(IE*RE)=VCC-VEE\n",
"VCE=(VCC-VEE)-(IE*RE)-(IC*RC)\n",
"format('v',5)\n",
"disp('V',VCE,'The quiescent value of VCE is =')\n",
"//b is increased by 20%\n",
"b1=((20*b)/100)+b\n",
"IB1=(-VEE-VBE)/(RB+((b1+1)*RE))\n",
"format('v',10)\n",
"IC1=b1*IB1\n",
"format('v',6)\n",
"disp('mA',IC1,'When dc current gain is increased by 20%,IC=')\n",
"x=((IC1-IC)/IC)*100//x=increase in the collector current\n",
"disp('%',x,'The increase in the collector current IC is =')\n",
"disp('Since a 20% increase in current gain produces a mere 0.284% enhancement of IC,the circuit provides a good stabilization against the changes in the current gain')\n",
"//In textbook the increase in the collector current is given as 0.5% which is actually coming as 0.284% approximately"
   ]
   }
,
{
		   "cell_type": "markdown",
		   "metadata": {},
		   "source": [
			"## Example 8.14_12: To_determine_the_operating_point.sce"
		   ]
		  },
  {
"cell_type": "code",
	   "execution_count": null,
	   "metadata": {
	    "collapsed": true
	   },
	   "outputs": [],
"source": [
"//scilab 5.4.1\n",
"//Windows 7 operating system\n",
"//chapter 8 Junction Transistors:Biasing and Amplification\n",
"clc\n",
"clear\n",
"//For a self-bias circuit\n",
"VBE=0.7//VBE=base emitter voltage\n",
"b=100//b=dc current gain of the common emitter transistor\n",
"VCC=22//VCC=collector supply voltage\n",
"R1=82//R1=resistance in kilo ohms\n",
"R2=16//R2=resistance in kilo ohms\n",
"RL=2.2//RL=load resistance in kilo ohms\n",
"Re=0.750//Re=resistance in kilo ohms connected to the emitter terminal\n",
"//ICO is to be neglected\n",
"VT=(R2*VCC)/(R1+R2)//VT=Thevenin equivalent voltage\n",
"RT=(R1*R2)/(R1+R2)//RT=Thevenin equivalent resistance\n",
"//Applying Kirchhoff's voltage law to the base circuit\n",
"//(IB*(RT+Re))+(IC*Re)=VT-VBE\n",
"//IC=b*IB\n",
"IB=(VT-VBE)/(RT+Re+(b*Re))//IB=base current\n",
"IC=b*IB//IC=collector current\n",
"format('v',8)\n",
"//Applying Kirchhoff's voltage law to the collector circuit\n",
"//(IC*(RL+Re))+(IB*Re)+VCE=VCC\n",
"VCE=VCC-((IC*(RL+Re))+(IB*Re))//VCE=collector emitter voltage\n",
"format('v',5)\n",
"disp('The operating point is specified by')\n",
"disp('mA',IC,'IC=')\n",
"disp('V',VCE,'VCE=')"
   ]
   }
,
{
		   "cell_type": "markdown",
		   "metadata": {},
		   "source": [
			"## Example 8.14_13: To_determine_the_operating_point.sce"
		   ]
		  },
  {
"cell_type": "code",
	   "execution_count": null,
	   "metadata": {
	    "collapsed": true
	   },
	   "outputs": [],
"source": [
"//scilab 5.4.1\n",
"//Windows 7 operating system\n",
"//chapter 8 Junction Transistors:Biasing and Amplification\n",
"clc\n",
"clear\n",
"RE=0.680//RE=resistance in kilo ohms connected to the emitter terminal\n",
"RC=2.7//RC=resistance in kilo ohms connected to the collector terminal\n",
"//RB=resistance connected to the base terminal\n",
"VCE=7.3//VCE=collector emitter voltage\n",
"VBE=0.7//VBE=base emitter voltage\n",
"Vre=2.1//Vre=voltage across RE resistance\n",
"IB=0.02//IB=base current in mA\n",
"IE=Vre/RE//IE=emitter current in mA\n",
"IC=IE-IB//IC=collector current in mA\n",
"b=IC/IB//b=current gain\n",
"format('v',6)\n",
"disp(b,'The current gain β is =')\n",
"VCC=(IC*RC)+VCE+Vre//VCC=collector supply voltage\n",
"format('v',5)\n",
"disp('V',VCC,'The collector supply voltage VCC is =')\n",
"//Voltage across RB (Vrb)resistance is given by\n",
"Vrb=VCC-(VBE+Vre)\n",
"RB=Vrb/IB\n",
"format('v',5)\n",
"disp('kilo ohm',RB,'The resistance RB is =')\n",
"//To draw the DC load line,we neglect the base current in RE resistance\n",
"//Equation for DC load line is:\n",
"//VCE=VCC-(RC+RE)*IC\n",
"disp('For the DC load line')\n",
"disp('V',VCC,'The intercept of the load line on the VCE-axis(X-axis) is =')\n",
"disp('mA',VCC/(RC+RE),'The intercept of the load line on the IC axis(Y-axis) is =')\n",
"disp('The DC load line is the straight line joining above two intercepts.')\n",
"disp('The co-ordinates of the operating point Q on the load line are (7.3V,3.07mA)')\n",
"\n",
"\n",
" "
   ]
   }
,
{
		   "cell_type": "markdown",
		   "metadata": {},
		   "source": [
			"## Example 8.14_14: EX8_14_14.sce"
		   ]
		  },
  {
"cell_type": "code",
	   "execution_count": null,
	   "metadata": {
	    "collapsed": true
	   },
	   "outputs": [],
"source": [
"//scilab 5.4.1\n",
"//Windows 7 operating system\n",
"//chapter 8 Junction Transistors:Biasing and Amplification\n",
"clc\n",
"clear\n",
"VBE=0.7//VBE=base emitter voltage\n",
"b=120//b=dc current gain of the common emitter transistor\n",
"VCC=15//VCC=collector supply voltage\n",
"R1=72//R1=resistance in kilo ohms\n",
"R2=8//R2=resistance in kilo ohms\n",
"RL=2//RL=load resistance in kilo ohms\n",
"Re=0.700//Re=resistance in kilo ohms connected to the emitter terminal\n",
"RC=2//RC=resistance in kilo ohms connected to the collector terminal\n",
"Rin=1.5//Rin=input resistance in kilo ohms of the amplifier\n",
"vi=1//vi=amplitude of the ac input signal in mV\n",
"VT=(R2*VCC)/(R1+R2)//VT=Thevenin equivalent voltage\n",
"RT=(R1*R2)/(R1+R2)//RT=Thevenin equivalent resistance\n",
"//Applying Kirchhoff's voltage law to the base circuit\n",
"//(IB*(RT+Re))+(IC*Re)=VT-VBE\n",
"//IC=b*IB\n",
"IB=(VT-VBE)/(RT+Re+(b*Re))//IB=base current\n",
"IC=b*IB//IC=collector current\n",
"format('v',5)\n",
"//Applying Kirchhoff's voltage law to the collector circuit\n",
"//(IC*(RL+Re))+(IB*Re)+VCE=VCC\n",
"VCE=VCC-((IC*(RL+Re)))//VCE=collector emitter voltage(neglecting small term IB*RE)\n",
"format('v',5)\n",
"//Equation for DC load line is:\n",
"//VCE=VCC-(RL+Re)*IC\n",
"disp(' 1. For the DC load line')\n",
"disp('The operating point Q is specified by')\n",
"disp('mA',IC,'IC=')\n",
"disp('V',VCE,'VCE=')\n",
"disp('V',VCC,'The intercept of the dc load line on the VCE-axis(X-axis) is =')\n",
"disp('mA',VCC/(RC+Re),'The intercept of the dc load line on the IC axis(Y-axis) is =')\n",
"disp('The DC load line is the straight line joining above two intercepts.')\n",
"Rac=(RL*RC)/(RL+RC)//Rac=ac load resistance\n",
"disp(' 2. For the AC load line')\n",
"disp('V',VCE+(IC*Rac),'The intercept of the ac load line on the VCE-axis(X-axis) is =')\n",
"disp('The line joining the above intercept and the operating point Q extended to meet the IC axis(Y-axis) gives the AC load line')\n",
"AV=-(b*Rac)/Rin//AV=voltage gain of the amplifier\n",
"vo=abs(AV)*vi//vo=amplitude of the output voltage signal\n",
"disp('mV',vo,' 3. The amplitude of the output voltage vo is =')\n",
""
   ]
   }
,
{
		   "cell_type": "markdown",
		   "metadata": {},
		   "source": [
			"## Example 8.14_1: To_find_the_Q_point_and_stability_factors.sce"
		   ]
		  },
  {
"cell_type": "code",
	   "execution_count": null,
	   "metadata": {
	    "collapsed": true
	   },
	   "outputs": [],
"source": [
"\n",
"//scilab 5.4.1\n",
"//windows 7 operating system\n",
"//chapter 8:Junction Transistors:Biasing and Amplification\n",
"clc;\n",
"clear;\n",
"//given data\n",
"b=99;\n",
"Vbe=0.7;    //Volatge between base and emitter in V\n",
"Vcc=12;     //Volatge source applied at collector in V4\n",
"Rl=2*10^3;      //load resistance in ohms\n",
"Rb=100*10^3;       //Resistance at base in ohms\n",
"Ib=(12-0.7)/((100*Rl)+Rb);        //Base current in micro Ampere\n",
"format('v',7)\n",
"disp('mA',Ib*10^3,'Ib=');\n",
"\n",
"Ic=b*Ib;\n",
"format('v',7)\n",
"disp('mA',Ic*10^3,'Ic=');\n",
"Vce=4.47;       //Voltage between collector and emitter in V\n",
"\n",
"S=(b+1)/(1+b*Rl/(Rl+Rb));       //stabilty factor 1\n",
"disp(S,'S=');\n",
"S1=b/(Rb+Rl*(1+b));      //stabilty factor 2 in A/V\n",
"disp('A/V',S1,'S1=');\n",
"S2=(Vcc-Vbe-(Ic*Rl))/(Rb+Rl*(1+b));        //stability factor 3 in A\n",
"disp('A',S2,'S2=');\n",
""
   ]
   }
,
{
		   "cell_type": "markdown",
		   "metadata": {},
		   "source": [
			"## Example 8.14_2: To_find_the_resistances_R1_R2_and_Re.sce"
		   ]
		  },
  {
"cell_type": "code",
	   "execution_count": null,
	   "metadata": {
	    "collapsed": true
	   },
	   "outputs": [],
"source": [
"\n",
"//scilab 5.4.1\n",
"//windows 7 operating system\n",
"//chapter 8:Junction Transistors:Biasing and Amplification\n",
"clc;\n",
"clear;\n",
"//given data\n",
"b=49;//b=dc current gain of the common emitter transistor\n",
"Vbe=0.2;    //Volatge between base and emitter in V\n",
"Vcc=10;     //Volatge source applied at collector in V4\n",
"Vce=5;      //Collector to emitter voltage in V\n",
"Ic=4.9;     //collector current in mA\n",
"Rl=1;      //load resistance in kilo ohms\n",
"S=10;       //stability factor\n",
"\n",
"Ib=Ic/b;    //base current in mA\n",
"Re=((Vcc-Vce-(Ic*Rl))/(Ic+Ib))*1000;       //Resistance at emitter in ohms\n",
"disp('ohms',Re,'Re=');\n",
"//S=((1+b)*(1+(RT/Re)))/(1+b+(RT/Re)) \n",
"RT=((S-1)*Re)/(1-(S/(1+b)))//RT=Thevenin resistance =(R1*R2)/(R1+R2)\n",
"VT=(Ib*(10^-3)*RT)+Vbe+((Ib+Ic)*(10^-3)*Re)//VT=Thevenin voltage=(R2*Vcc)/(R1+R2)\n",
"// R2/(R1+R2)=VT/Vcc\n",
"R1=(RT*Vcc)/VT\n",
"format('v',6)\n",
"disp('kilo ohm',R1/10^3,'R1=')\n",
"R2=((VT/Vcc)*R1)/(1-(VT/Vcc))\n",
"disp('ohm',R2,'R2=')\n",
"\n",
""
   ]
   }
,
{
		   "cell_type": "markdown",
		   "metadata": {},
		   "source": [
			"## Example 8.14_3: To_calculate_the_input_and_output_resistances_and_current_voltage_and_power_gain.sce"
		   ]
		  },
  {
"cell_type": "code",
	   "execution_count": null,
	   "metadata": {
	    "collapsed": true
	   },
	   "outputs": [],
"source": [
"\n",
"//scilab 5.4.1\n",
"//windows 7 operating system\n",
"//chapter 8:Junction Transistors:Biasing and Amplification\n",
"clc;\n",
"clear;\n",
"//given data\n",
"hib=30;     //h parameter of CB a transistor\n",
"hrb=4*10^-4;        //h parameter of CB a transistor\n",
"hfb=-0.99;        //h parameter of CB a transistor\n",
"hob=0.9*10^-6;        //h parameter of CB a transistor in S\n",
"Rl=6*10^3;       //Load resistance in ohms\n",
"\n",
"AI=-hfb/(1+(hob*Rl));        //Current gain\n",
"disp(AI,'AI=');\n",
"\n",
"Ri=hib-((hfb*hrb*Rl)/(1+(hob*Rl)));    //Input resistance in ohms\n",
"disp('ohms',Ri,'Ri=');\n",
"\n",
"Ro=hib/((hib*hob)-(hfb*hrb));       //Output Resistance in kohms\n",
"disp('kilo ohms',Ro*10^-3,'Ro=');\n",
"\n",
"AV=AI*Rl/Ri;        //Voltage gain\n",
"disp(AV,'AV=');\n",
"\n",
"AP=AI*AV;       //Power gain\n",
"disp(AP,'AP=');"
   ]
   }
,
{
		   "cell_type": "markdown",
		   "metadata": {},
		   "source": [
			"## Example 8.14_4: To_find_the_input_and_output_resistance.sce"
		   ]
		  },
  {
"cell_type": "code",
	   "execution_count": null,
	   "metadata": {
	    "collapsed": true
	   },
	   "outputs": [],
"source": [
"\n",
"//scilab 5.4.1\n",
"//windows 7 operating system\n",
"//chapter 8:Junction Transistors:Biasing and Amplification\n",
"clc;\n",
"clear;\n",
"//given data\n",
"Rg=1*10^3;      //internal resistance in ohms\n",
"Rl=20*10^3;     //Load resistance in ohms\n",
"hie=1*10^3;     //h parameter of the transistor in terms of ohms\n",
"hre=2.5*10^-4;     //h parameter of the transistor\n",
"hfe=150;     //h parameter of the transistor\n",
"hoe=1/(40*10^3);      //h parameter of the transistor in terms of mho\n",
"\n",
"AI=(-hfe)/(1+(hoe*Rl));      //Current gain\n",
"disp(AI,'AI=');\n",
"\n",
"Ri=hie+(AI*hre*Rl);     //input resistance in ohms\n",
"disp('ohms',Ri,'Ri=');\n",
"Ro=(Rg+hie)/((Rg*hoe)+(hie*hoe)-(hfe*hre));     //output resistance in ohms\n",
"disp('kilo ohms',Ro*10^-3,'Ro=');"
   ]
   }
,
{
		   "cell_type": "markdown",
		   "metadata": {},
		   "source": [
			"## Example 8.14_5: To_find_the_current_amplification_and_voltage_and_power_gains.sce"
		   ]
		  },
  {
"cell_type": "code",
	   "execution_count": null,
	   "metadata": {
	    "collapsed": true
	   },
	   "outputs": [],
"source": [
"\n",
"//scilab 5.4.1\n",
"//windows 7 operating system\n",
"//chapter 8:Junction Transistors:Biasing and Amplification\n",
"clc;\n",
"clear;\n",
"//given data\n",
"Rl=5*10^3;     //Load resistance in ohms\n",
"hie=1*10^3;     //h parameter of the transistor in terms of ohms\n",
"hre=5*10^-4;     //h parameter of the transistor\n",
"hfe=100;     //h parameter of the transistor\n",
"hoe=25*10^-6;      //h parameter of the transistor in terms of mho\n",
"Rg=1*10^3;      //source reistance in ohms\n",
"\n",
"AI=(-hfe)/(1+(hoe*Rl));      //Current gain\n",
"disp(AI,'AI=');\n",
"\n",
"Ri=hie+(AI*hre*Rl);     //input resistance in ohms\n",
"disp('ohms',Ri,'Ri=');\n",
"\n",
"AVo=AI*Rl/(Rg+Ri);      //Overall voltage gain including source resistance \n",
"disp(AVo,'AVo=');\n",
"\n",
"APo=AVo*AI;     //Overall voltage gain including source resistance \n",
"disp(APo,'APo=');"
   ]
   }
,
{
		   "cell_type": "markdown",
		   "metadata": {},
		   "source": [
			"## Example 8.14_6: EX8_14_6.sce"
		   ]
		  },
  {
"cell_type": "code",
	   "execution_count": null,
	   "metadata": {
	    "collapsed": true
	   },
	   "outputs": [],
"source": [
"\n",
"//scilab 5.4.1\n",
"//windows 7 operating system\n",
"//chapter 8:Junction Transistors:Biasing and Amplification\n",
"clc;\n",
"clear;\n",
"//given data\n",
"hoe=25*10^-6;       //h parameter in A/V\n",
"hie=4000;       //h paramater in ohms\n",
"hfe=135;        //h paramater of transistor\n",
"hre=7*10^-4;        //h paramater of transistor\n",
"Re=100;     //emitter resistance in ohms\n",
"Rl=3*10^3;      //Load resistance in ohms\n",
"\n",
"//Here hoe*Rl is less than 0.1. So we can simplify the circuit and according to it the current gain is AI=Ic/Ib. here Ic=-hfe*Ib.\n",
"\n",
"AI=-hfe;        //current gain\n",
"disp(AI,'AI=');\n",
"\n",
"Ri=hie+(1+hfe)*Re;      //input resistance in ohms\n",
"disp('kilo ohms',Ri*10^-3,'Ri=');\n",
"\n",
"AV=AI*Rl/Ri;        //voltage gain\n",
"disp(AV,'AV=');\n",
"\n",
"disp('The output resistance of the transistor excluding RL is infinite.')\n",
"disp('kilo ohm',Rl/10^3,'The output resistance of the transistor including RL is =.')\n",
""
   ]
   }
,
{
		   "cell_type": "markdown",
		   "metadata": {},
		   "source": [
			"## Example 8.14_7: EX8_14_7.sce"
		   ]
		  },
  {
"cell_type": "code",
	   "execution_count": null,
	   "metadata": {
	    "collapsed": true
	   },
	   "outputs": [],
"source": [
"\n",
"//scilab 5.4.1\n",
"//windows 7 operating system\n",
"//chapter 8:Junction Transistors:Biasing and Amplification\n",
"clc;\n",
"clear;\n",
"//given data\n",
"\n",
"hfe=100;        //h parameter of transistor\n",
"hie=560;        //h parameter of transistor in ohms\n",
"Rc=2*10^3;      //collector resistance in ohms\n",
"Re=10^3;        //emitter resistance in ohms\n",
"Rb=600*10^3;        //Base resistance in ohms\n",
"\n",
"//Since hoe is neglected we can use the simplified equivalent circuit hence the Ri is\n",
"\n",
"Ri=hie+(1+hfe)*Re;      //Input resistance in ohms\n",
"disp('kilo ohms',Ri*10^-3,'Ri=');\n",
"\n",
"Rib=(Ri*Rb)/(Ri+Rb);        //Input resistance including Rb in ohms\n",
"disp('kilo ohms',Rib*10^-3,'Input resistance (including Rb)=');\n",
"\n",
"disp('The output resistance excluding load is infinita')\n",
"Ro=Rc;\n",
"disp('kilo ohms',Ro*10^-3,'Output resistance including load =')\n",
"\n",
"AV=-(hfe*Ro)/(hie+((1+hfe)*Re));        //voltage gain\n",
"disp(AV,'AV=');\n",
"disp('Small signals are used,since otherwise the output waveform will be distorted.Also,the equivalent circuit will not hold.')\n",
"\n",
"//Taking DC emitter current and collector current nearly equal\n",
"\n",
"Ib=20/(Rb+Re*101);      //base current in mA\n",
"disp('mA',Ib*10^3,'Ib=');\n",
"\n",
"disp('The Q-point is defined by')\n",
"Ic=hfe*Ib;      //collector current in mA\n",
"disp('mA',Ic*10^3,'Ic=');\n",
"\n",
"VCE=20-(3*Ic*10^3)\n",
"disp('V',VCE,'VCE=');"
   ]
   }
,
{
		   "cell_type": "markdown",
		   "metadata": {},
		   "source": [
			"## Example 8.14_8: To_design_a_CE_transistor_amplifier.sce"
		   ]
		  },
  {
"cell_type": "code",
	   "execution_count": null,
	   "metadata": {
	    "collapsed": true
	   },
	   "outputs": [],
"source": [
"//scilab 5.4.1\n",
"//Windows 7 operating system\n",
"//chapter 8 Junction Transistors:Biasing and Amplification\n",
"clc\n",
"clear\n",
"//For a CE transistor amplifier circuit with self-bias\n",
"f=1000//f=frequency in Hz\n",
"AV=-200//AV=voltage gain\n",
"hfe=100//hfe=current gain\n",
"hie=1//hie=input impedance in kilo ohms\n",
"Pcmax=75*10^-3//Pcmax=maximum collector dissipation in Watt\n",
"//hre and hoe are to be neglected\n",
"VCC=12//VCC=collector supply voltage\n",
"//AV=-(hfe*RL)/hie where RL is the load resistance\n",
"RL=-(AV*hie)/hfe\n",
"format('v',5)\n",
"disp('The designed values of the components of a CE transistor amplifier are:')\n",
"disp('kilo ohm',RL,'The load resistance RL is =')\n",
"//For the amplifier to be linear,the quiescent point is chosen to lie in the middle of the DC load line\n",
"VCG=VCC/2  //VCG=DC collector to ground voltage\n",
"//VCC=(IC*RL)+VCG where IC=DC collector current\n",
"IC=(VCC-VCG)/RL\n",
"format('v',5)\n",
"disp('mA',IC,'Ihe DC collector current is =')\n",
"Pr=(IC^2)*RL//Pr=power dissipation in RL\n",
"//Pc=the collector dissipation is set at 14.5 mW which is below the value of Pcmax\n",
"//Pc=VCE*IC\n",
"Pc=14.5\n",
"VCE=Pc/IC//VCE=collector-to-emitter voltage drop\n",
"format('v',4)\n",
"VEG=VCG-VCE//VEG=DC voltage drop across resistance Re\n",
"IE=IC//IE=emitter current\n",
"Re=VEG/(IC)\n",
"disp('ohm',Re*1000,'The resistance Re is =')//Re is converted in terms of ohms\n",
"Pe=(IC^2)*Re//Pe=power dissipation in Re\n",
"VBE=0.7//VBE=assumed DC base-to-emitter voltage drop\n",
"VBG=VBE+(IE*Re)//VBG=DC voltage across resistance R2\n",
"//VT=(VCC*R2)/(R1+R2) where VT=Thevenin equivalent voltage\n",
"//RT=(R1*R2)/(R1+R2).............(1) where RT=Thevenin equivalent resistance\n",
"//VBG=VT-(IB*RT)\n",
"//VBG=((VCC*R2)/(R1+R2))-(IB*((R1*R2)/(R1+R2)))..................(2)\n",
"//Let (R2/(R1+R2))=x ..............(3)\n",
"x=VBG/VCC//neglecting the second term on the right hand side of equation (2)\n",
"a=(1-x)/x    //a=R1/R2\n",
"//S=((1+b)*(1+RT/Re))/(1+b+(RT/Re)) where S=stability factor and b=current gain=hfe\n",
"//b>>1 hence S=(hfe*(1+RT/Re))/(1+b+(RT/Re))\n",
"//For good stability we choose S=hfe/20\n",
"RT=((hfe-20)/19)*Re\n",
"R1=RT/x//from equation (1) and (3)\n",
"format('v',5)\n",
"disp('kilo ohm',R1,'The resistance R1 is=')\n",
"R2=R1/5.33\n",
"format('v',4)\n",
"disp('kilo ohm',R2,'The resistance R2 is =')\n",
"Pr2=(VBG^2)/R2//Pr2=power dissipation in R2\n",
"Pr1=((VCC-VBG)^2)/R1 //Pr1=power dissipation in R1\n",
"Ce=1/(2*%pi*f*((Re*1000)/10))//Ce=bypass capacitor\n",
"format('v',2)\n",
"disp('micro farad',Ce/10^-6,'The bypass capacitance Ce is =')//Ce is converted in terms of micro farad\n",
"C1=2/(2*%pi*f*100)//C1=coupling capacitor\n",
"format('v',4)\n",
"disp('micro farad',C1/10^-6,'The coupling capacitance C1 is =')//C1 is converted in terms of micro farad\n",
"Rin=20*1000//Rin=assumed input impedance in ohms\n",
"C2=1/(2*%pi*f*0.1*Rin)//C2=coupling capacitor\n",
"format('v',4)\n",
"disp('micro farad',C2/10^-6,'The coupling capacitance C2 is =')//C2 is converted in terms of micro farad\n",
""
   ]
   }
,
{
		   "cell_type": "markdown",
		   "metadata": {},
		   "source": [
			"## Example 8.14_9: To_find_the_resistance_R1.sce"
		   ]
		  },
  {
"cell_type": "code",
	   "execution_count": null,
	   "metadata": {
	    "collapsed": true
	   },
	   "outputs": [],
"source": [
"//scilab 5.4.1\n",
"//Windows 7 operating system\n",
"//chapter 8 Junction Transistors:Biasing and Amplification\n",
"clc\n",
"clear\n",
"VCC=12//VCC=collector supply voltage\n",
"a=0.98//a=dc current gain of the common base transistor\n",
"VBE=0.7//VBE=base emitter voltage\n",
"IE=2//IE=emitter current in mA\n",
"//Ico is to be neglected\n",
"b=a/(1-a)//b=dc current gain of the common emitter transistor\n",
"//IC=b*IB where IC=collector current and IB=base current\n",
"//IE=IC+IB\n",
"//IE=(b+1)*IB\n",
"IB=IE/(b+1)\n",
"IC=b*IB\n",
"RE=0.1//RE=resistance in kilo ohms connected to the emitter terminal\n",
"R2=20//R2=resistance in kilo ohms\n",
"RC=3.3//RC=resistance in kilo ohms connected to the collector terminal\n",
"//Let I be the current in the resistance R2\n",
"//Applying Kirchhoff's voltage law in the base-emitter circuit\n",
"//VBE+(RE*IE)=R2*I\n",
"I=(1/R2)*(VBE+(RE*IE))\n",
"//Applying Kirchhoff's voltage law\n",
"//((I+IB+IC)*RC)+((I+IB)*R1)+(I*R2)=VCC\n",
"R1=(VCC-((I+IB+IC)*RC)-(I*R2))/(I+IB)\n",
"format('v',5)\n",
"disp('kilo ohm',R1,'The resistance R1 is =')\n",
""
   ]
   }
],
"metadata": {
		  "kernelspec": {
		   "display_name": "Scilab",
		   "language": "scilab",
		   "name": "scilab"
		  },
		  "language_info": {
		   "file_extension": ".sce",
		   "help_links": [
			{
			 "text": "MetaKernel Magics",
			 "url": "https://github.com/calysto/metakernel/blob/master/metakernel/magics/README.md"
			}
		   ],
		   "mimetype": "text/x-octave",
		   "name": "scilab",
		   "version": "0.7.1"
		  }
		 },
		 "nbformat": 4,
		 "nbformat_minor": 0
}
