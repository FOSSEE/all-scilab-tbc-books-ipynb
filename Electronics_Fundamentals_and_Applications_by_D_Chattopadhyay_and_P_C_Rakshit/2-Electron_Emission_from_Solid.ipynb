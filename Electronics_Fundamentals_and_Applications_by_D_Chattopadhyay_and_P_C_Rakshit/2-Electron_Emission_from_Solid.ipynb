{
"cells": [
 {
		   "cell_type": "markdown",
	   "metadata": {},
	   "source": [
       "# Chapter 2: Electron Emission from Solid"
	   ]
	},
{
		   "cell_type": "markdown",
		   "metadata": {},
		   "source": [
			"## Example 2.7_1: to_calculate_the_number_of_electrons_emitted_per_unit_area_per_second.sce"
		   ]
		  },
  {
"cell_type": "code",
	   "execution_count": null,
	   "metadata": {
	    "collapsed": true
	   },
	   "outputs": [],
"source": [
"//scilab 5.4.1\n",
"//windows 7 operating system\n",
"//chapter 2:Electron Emission from Solids\n",
"clc\n",
"clear\n",
"//given\n",
"A=6.02*(10^5)//A=thermionic emission constant in A(m^(-2))(K^(-2))\n",
"Ew=4.54//Ew=work function in eV\n",
"T=2500//T=temperature in Kelvin\n",
"kB=1.38*10^(-23)//kB=Boltzmann's constant in J/K\n",
"e=1.6*10^(-19)//e=charge of anelectron in C\n",
"b=(e*Ew)/kB//b=thermionic emission constant in K\n",
"disp('K',b,'b=')\n",
"Jx=A*(T^2)*exp(-b/T)//Jx=emission current density in A/m^(2)\n",
"disp('A/(m^2)',Jx,'Jx=')\n",
"n=Jx/e//n=number of electrons emitted per unit area per second in (m^-2)(s^-1)\n",
"disp('(m^-2)(s^-1)',n,'n=')"
   ]
   }
,
{
		   "cell_type": "markdown",
		   "metadata": {},
		   "source": [
			"## Example 2.7_2: To_find_the_percentage_change_in_emission_current.sce"
		   ]
		  },
  {
"cell_type": "code",
	   "execution_count": null,
	   "metadata": {
	    "collapsed": true
	   },
	   "outputs": [],
"source": [
"//scilab 5.4.1\n",
"//windows 7 operating system\n",
"//chapter 2:Electron Emission from Solids\n",
"clc\n",
"clear\n",
"//given\n",
"T=2673//T=temperature in Kelvin\n",
"dT=10//dT=change in temperature in Kelvin\n",
"Ew=4.54//Ew=work function in eV\n",
"e=1.6*10^(-19)//e=charge of anelectron in C\n",
"kB=1.38*10^(-23)//kB=Boltzmann's constant in J/K\n",
"//I=(S*A*(T^2))*exp(-((e*Ew)/(kB*T))//I=emission current,S=surface area of the filament,dI=change in emission current\n",
"d=((2*dT)/T)+(((e*Ew)/(kB*(T^2))*dT))//d=change in emission current\n",
"disp('',d,'d=')\n",
"d*100//percent change in emission current\n",
"disp('%',d*100,'d*100=')"
   ]
   }
,
{
		   "cell_type": "markdown",
		   "metadata": {},
		   "source": [
			"## Example 2.7_3: difference_between_thermionic_work_function_of_the_two_emitters.sce"
		   ]
		  },
  {
"cell_type": "code",
	   "execution_count": null,
	   "metadata": {
	    "collapsed": true
	   },
	   "outputs": [],
"source": [
"//scilab 5.4.1\n",
"//windows 7 operating system\n",
"//chapter 2:Electron Emission from Solids\n",
"clc\n",
"clear\n",
"//given\n",
"kB=1.38*10^(-23)//kB=Boltzmann's constant in J/K\n",
"//A=6.02*(10^5)//A=thermionic emission constant in A(m^(-2))(K^(-2))\n",
"//Ew1,Ew2=thermionic work function of 2 emitters in eV\n",
"e=1.6*10^(-19)//e=charge of anelectron in C\n",
"T=2000//T=temperature in Kelvin\n",
"//Jx1=A*(T^2)*exp(-(a/(kB*T)))//Jx=emission current density in A/m^(2)\n",
"//Jx2=A*(T^2)*exp(-(b/(kB*T)))\n",
"//(Jx1/Jx2)=2\n",
"//(Jx1/Jx2)=exp((Ew2-Ew1)/(kB*T))\n",
"//exp((Ew2-Ew1)/(kB*T))=2\n",
"d=(kB*T*log(2))//d=(Ew2-Ew1)=difference in thermionic work functions of 2 emitters\n",
"disp('J',d,'d=')\n",
"d/e\n",
"disp('eV',d/e,'d/e=')"
   ]
   }
,
{
		   "cell_type": "markdown",
		   "metadata": {},
		   "source": [
			"## Example 2.7_4: to_find_the_anode_voltage.sce"
		   ]
		  },
  {
"cell_type": "code",
	   "execution_count": null,
	   "metadata": {
	    "collapsed": true
	   },
	   "outputs": [],
"source": [
"//scilab 5.4.1\n",
"//windows 7 operating system\n",
"//chapter 2:Electron Emission from Solids\n",
"clc\n",
"clear\n",
"//given\n",
"//Ia=(K*(Va^(3/2)));Ia=space charge limited current ,Va=anode voltage,K=proportionality constant\n",
"Ia1=300//Ia1=space charge limited current of 1st anode in A\n",
"Ia2=200//Ia2=space charge limited current of 2nd anode in A\n",
"Va1=200//Va=anode voltage of 1st anode in V\n",
"Va2=(Va1*((Ia2/Ia1)^(2/3)))//Va2=anode voltage of 2nd anode in V\n",
"disp('V',Va2,'Va2=')"
   ]
   }
],
"metadata": {
		  "kernelspec": {
		   "display_name": "Scilab",
		   "language": "scilab",
		   "name": "scilab"
		  },
		  "language_info": {
		   "file_extension": ".sce",
		   "help_links": [
			{
			 "text": "MetaKernel Magics",
			 "url": "https://github.com/calysto/metakernel/blob/master/metakernel/magics/README.md"
			}
		   ],
		   "mimetype": "text/x-octave",
		   "name": "scilab",
		   "version": "0.7.1"
		  }
		 },
		 "nbformat": 4,
		 "nbformat_minor": 0
}
