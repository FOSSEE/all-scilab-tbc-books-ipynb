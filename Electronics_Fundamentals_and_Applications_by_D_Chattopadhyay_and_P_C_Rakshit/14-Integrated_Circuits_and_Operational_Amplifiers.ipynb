{
"cells": [
 {
		   "cell_type": "markdown",
	   "metadata": {},
	   "source": [
       "# Chapter 14: Integrated Circuits and Operational Amplifiers"
	   ]
	},
{
		   "cell_type": "markdown",
		   "metadata": {},
		   "source": [
			"## Example 14.12_1: EX14_12_1.sce"
		   ]
		  },
  {
"cell_type": "code",
	   "execution_count": null,
	   "metadata": {
	    "collapsed": true
	   },
	   "outputs": [],
"source": [
"//scilab 5.4.1\n",
"//Windows 7 operating system\n",
"//chapter 14 Integrated Circuits and Operational Amplifiers\n",
"clc\n",
"clear\n",
"R1=1000//R1=input resistance in ohms in the inverting amplifier circuit\n",
"Rf=3*1000//Rf=feedback resistance in ohms\n",
"v1=2//v1=input voltage in the inverting terminal of an amplifier circuit\n",
"vo=-(Rf/R1)*v1//vo=output voltage\n",
"disp('V',vo,'Output voltage is=')\n",
"disp('Output voltage is negative as it is the circuit of inverting amplifier')\n",
"disp('kilo ohm',R1/1000,'Input resistance Rin=R1 is =')\n",
"i=v1/R1//i=input current\n",
"disp('mA',i*1000,'The input currrent is =')"
   ]
   }
,
{
		   "cell_type": "markdown",
		   "metadata": {},
		   "source": [
			"## Example 14.12_2: To_calculate_the_voltage_gai.sce"
		   ]
		  },
  {
"cell_type": "code",
	   "execution_count": null,
	   "metadata": {
	    "collapsed": true
	   },
	   "outputs": [],
"source": [
"//scilab 5.4.1\n",
"//Windows 7 operating system\n",
"//chapter 14 Integrated Circuits and Operational Amplifiers\n",
"clc\n",
"clear\n",
"R1=2*1000//R1=input resistance in ohms in the non-inverting amplifier circuit\n",
"Rf=5*1000//Rf=feedback resistance in ohms\n",
"AV=1+(Rf/R1)//AV=voltage gain of the non-inverting amplifier circuit\n",
"disp(AV,'The voltage gain of the given non-inverting amplifier circuit is =')"
   ]
   }
,
{
		   "cell_type": "markdown",
		   "metadata": {},
		   "source": [
			"## Example 14.12_3: EX14_12_3.sce"
		   ]
		  },
  {
"cell_type": "code",
	   "execution_count": null,
	   "metadata": {
	    "collapsed": true
	   },
	   "outputs": [],
"source": [
"//scilab 5.4.1\n",
"//Windows 7 operating system\n",
"//chapter 14 Integrated Circuits and Operational Amplifiers\n",
"clc\n",
"clear\n",
"//First case\n",
"v1=40*10^-6//v1=voltage applied to the non-inverting input terminal\n",
"v2=-40*10^-6//v2=voltage applied to the inverting input terminal\n",
"vo=100*10^-3//vo=output voltage for the above inputs v1 and v2\n",
"//Second case\n",
"V1=40*10^-6//V1=voltage applied to the non-inverting input terminal\n",
"V2=40*10^-6//V2=voltage applied to the inverting input terminal\n",
"Vo=0.4*10^-3//Vo=output voltage for the above inputs V1 and V2\n",
"disp('In first case:')\n",
"vd=v1-v2//vd=difference signal voltage\n",
"disp('µV',vd/10^-6,'vd=')\n",
"vc=(v1+v2)/2//vc=common mode signal voltage\n",
"format('v',5)\n",
"disp('µV',vc/10^-6,'vc=')\n",
"//Output voltage is vo=(Ad*vd)+(Ac*vc) where Ad and Ac are the voltage gains for the difference signal and the common-mode signal,respectively\n",
"Ad=vo/vd//Ad calculated in first case as common mode signal vc=0 \n",
"disp(Ad,'Voltage gain for the difference signal is Ad =')\n",
"disp('In second case:')\n",
"Vd=V1-V2//Vd=difference signal voltage\n",
"disp('µV',Vd/10^-6,'Vd=')\n",
"Vc=(V1+V2)/2//Vc=common mode signal voltage\n",
"format('v',5)\n",
"disp('µV',Vc/10^-6,'Vc=')\n",
"Ac=Vo/Vc//Ac calculated in second case as difference signal Vc=0 \n",
"disp(Ac,'Voltage gain for the common-mode signal is Ac =')\n",
"CMRR=abs(Ad/Ac)//CMRR=Common Mode Rejection Ratio=|Ad/Ac|\n",
"disp(CMRR,'Common Mode Rejection Ratio is CMRR=')"
   ]
   }
,
{
		   "cell_type": "markdown",
		   "metadata": {},
		   "source": [
			"## Example 14.12_4: To_find_the_output_voltage_of_the_three_input_summing_amplifier.sce"
		   ]
		  },
  {
"cell_type": "code",
	   "execution_count": null,
	   "metadata": {
	    "collapsed": true
	   },
	   "outputs": [],
"source": [
"//scilab 5.4.1\n",
"//Windows 7 operating system\n",
"//chapter 14 Integrated Circuits and Operational Amplifiers\n",
"clc\n",
"clear\n",
"R1=1*1000//R1=input resistance in ohms in the inverting terminal of the amplifier circuit\n",
"R2=200//R2=input resistance in ohms in the inverting terminal of the amplifier circuit\n",
"R3=400//R3=input resistance in ohms in the inverting terminal of the amplifier circuit\n",
"Rf=500//Rf=feedback resistance in ohms\n",
"v1=-5//v1=input voltage in the inverting terminal of an amplifier circuit at R1 resistor\n",
"v2=3//v2=input voltage in the inverting terminal of an amplifier circuit at R2 resistor\n",
"v3=4//v3=input voltage in the inverting terminal of an amplifier circuit at R3 resistor\n",
"vo=-(((Rf/R1)*v1)+((Rf/R2)*v2)+((Rf/R3)*v3))//vo=output voltage for inverting summing summing amplifier circuit\n",
"disp('V',vo,'Output voltage of the 3-input summing amplifier circuit is =')\n",
"disp('Output voltage is negative as it the circuit of inverting summing amplifier')\n",
""
   ]
   }
,
{
		   "cell_type": "markdown",
		   "metadata": {},
		   "source": [
			"## Example 14.12_5: To_find_the_voltage_gain_along_with_the_output_voltage.sce"
		   ]
		  },
  {
"cell_type": "code",
	   "execution_count": null,
	   "metadata": {
	    "collapsed": true
	   },
	   "outputs": [],
"source": [
"//scilab 5.4.1\n",
"//Windows 7 operating system\n",
"//chapter 14 Integrated Circuits and Operational Amplifiers\n",
"clc\n",
"clear\n",
"R1=1*1000//R1=input resistance in ohms in the inverting amplifier circuit\n",
"Rf=50*1000//Rf=feedback resistance in ohms\n",
"A=-(Rf/R1)//AV=voltage gain of the inverting amplifier circuit\n",
"disp(A,'The voltage gain of the given inverting amplifier circuit is =')\n",
"//vin=0.5*sin(100*%pi*t)\n",
"//vout=A*vin=-50*0.5*sin(100*%pi*t)=-25*sin(100*%pi*t)\n",
"disp('If the operation were entirely linear ,the output voltage would have been -25*sin(100*%pi*t)')\n",
"disp('But since the voltage supply is +-12V ,the op-amp is saturated when |vout| attains 12V')\n",
"//Let at time t=to,vout=-12V \n",
"//-12=-25*sin(100*%pi*to)\n",
"to=(1/(100*%pi))*asin(12/25)\n",
"format('v',8)\n",
"disp('s',to,'to=')\n",
"disp('Thus over the entire cycle,')\n",
"disp('vout=-25*sin(100*%pi*t) V when 0<=t<=to')\n",
"disp('vout=-12V when to<=t<=(0.01-to)')\n",
"disp('vout=-25*sin(100*%pi*t) V when (0.01-to)<=t<=(0.01+to)')\n",
"disp('vout=+12V when (0.01+to)<=t<=(0.02-to)')\n",
"disp('vout=-25*sin(100*%pi*t) V when (0.02-to)<=t<=0.02 seconds')"
   ]
   }
,
{
		   "cell_type": "markdown",
		   "metadata": {},
		   "source": [
			"## Example 14.12_6: To_find_the_output_voltage_of_the_differentiator.sce"
		   ]
		  },
  {
"cell_type": "code",
	   "execution_count": null,
	   "metadata": {
	    "collapsed": true
	   },
	   "outputs": [],
"source": [
"//scilab 5.4.1\n",
"//Windows 7 operating system\n",
"//chapter 14 Integrated Circuits and Operational Amplifiers\n",
"clc\n",
"clear\n",
"R=2*1000//R=feedback resistance in ohms in the differentiator circuit\n",
"C=0.01*10^-6//C=input capacitance in farad in the differentiator circuit\n",
"//dvi/dt=1.5V/1ms for 0<t<1ms (given ramp input signal)\n",
"//output voltage of a differentiator is given as vo=-RC(dvi/dt)\n",
"d=1.5/(10^-3)//d=dvi/dt=1.5V/1ms\n",
"vo=-R*C*d\n",
"disp('V',vo,'Output voltage of a differentiator is ')\n",
"disp('Hence for <t<1 ms,vo=-0.03V=-30mV.Otherwise,vo=0V')"
   ]
   }
,
{
		   "cell_type": "markdown",
		   "metadata": {},
		   "source": [
			"## Example 14.12_8: To_calculate_the_output_voltage.sce"
		   ]
		  },
  {
"cell_type": "code",
	   "execution_count": null,
	   "metadata": {
	    "collapsed": true
	   },
	   "outputs": [],
"source": [
"//scilab 5.4.1\n",
"//Windows 7 operating system\n",
"//chapter 14 Integrated Circuits and Operational Amplifiers\n",
"clc\n",
"clear\n",
"R1=5*1000//R1=input resistance in ohms in the given op-amp circuit\n",
"Rf=10*1000//Rf=feedback resistance in ohms\n",
"vi=5//vi=input voltage at the inverting terminal of an op-amp\n",
"V=4//V=voltage at the non-inverting terminal of an op-amp\n",
"//By applying superposition theorem \n",
"Vo=((1+(Rf/R1))*V)+(-(Rf/R1)*vi)\n",
"disp('V',Vo,'Output voltage Vo of the circuit is =')"
   ]
   }
,
{
		   "cell_type": "markdown",
		   "metadata": {},
		   "source": [
			"## Example 14.12_9: To_find_the_differential_mode_gain.sce"
		   ]
		  },
  {
"cell_type": "code",
	   "execution_count": null,
	   "metadata": {
	    "collapsed": true
	   },
	   "outputs": [],
"source": [
"//scilab 5.4.1\n",
"//Windows 7 operating system\n",
"//chapter 14 Integrated Circuits and Operational Amplifiers\n",
"clc\n",
"clear\n",
"R1=10*1000//R1=resistance in ohms\n",
"R2=100//R2=resistance in ohms\n",
"R3=10*1000//R3=resistance in ohms\n",
"R4=10*1000//R4=resistance in ohms\n",
"R5=10*1000//R5=resistance in ohms\n",
"//Since the voltage gains of the OP AMPs are infinite,the voltages of the points X and Y in the given figure are V1 and V2 respectively\n",
"//Applying Kirchhoff's current law at X\n",
"//(V1/R1)+((V1-V)/R3)+((V1-V2)/R2)=0\n",
"//Applying Kirchhoff's current law at Y\n",
"//((V2-V)/R4)+((V2-V1)/R2)+((V2-Vo)/R5)=0\n",
"//Eliminating V from the above equations\n",
"//V2*((1/R2)+(1/R4)+(1/R5)+(R3/(R2*R4)))-V1*((1/R2)+(1/R4)+((R3/R4)*((1/R1)+(1/R2))))=Vo/R5\n",
"//V2*R-V1*r=Vo/R5...................(1)\n",
"R=((1/R2)+(1/R4)+(1/R5)+(R3/(R2*R4)))\n",
"r=((1/R2)+(1/R4)+((R3/R4)*((1/R1)+(1/R2))))\n",
"disp(R,'R=')\n",
"disp(r,'r=')\n",
"//R=r from above calculation and its answer displayed\n",
"//Hence from the above equation (1) A=Vo/(V1-V2)=-(R5*R)=-(R5*r)\n",
"disp(-R5*r,'Differential mode gain A=Vo/(V1-V2)=')"
   ]
   }
],
"metadata": {
		  "kernelspec": {
		   "display_name": "Scilab",
		   "language": "scilab",
		   "name": "scilab"
		  },
		  "language_info": {
		   "file_extension": ".sce",
		   "help_links": [
			{
			 "text": "MetaKernel Magics",
			 "url": "https://github.com/calysto/metakernel/blob/master/metakernel/magics/README.md"
			}
		   ],
		   "mimetype": "text/x-octave",
		   "name": "scilab",
		   "version": "0.7.1"
		  }
		 },
		 "nbformat": 4,
		 "nbformat_minor": 0
}
