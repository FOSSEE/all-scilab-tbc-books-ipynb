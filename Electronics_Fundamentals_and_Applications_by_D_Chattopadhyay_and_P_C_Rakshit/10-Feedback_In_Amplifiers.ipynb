{
"cells": [
 {
		   "cell_type": "markdown",
	   "metadata": {},
	   "source": [
       "# Chapter 10: Feedback In Amplifiers"
	   ]
	},
{
		   "cell_type": "markdown",
		   "metadata": {},
		   "source": [
			"## Example 10.7_1: EX10_7_1.sce"
		   ]
		  },
  {
"cell_type": "code",
	   "execution_count": null,
	   "metadata": {
	    "collapsed": true
	   },
	   "outputs": [],
"source": [
"//scilab 5.4.1\n",
"//windows 7 operating system\n",
"//chapter 10:Feedback In Amplifiers\n",
"clc\n",
"clear\n",
"A=(-100)//A=voltage gain of an amplifier\n",
"B=(-0.04)//B=feedback ratio\n",
"Af=A/(1+(A*B))//Af=voltage gain with feedback\n",
"disp('',Af,'1.Voltage gain with feedback Af=')\n",
"F=20*log10(abs(Af/A))//F=amount of feedback\n",
"format('v',6)\n",
"disp('dB',F,'2.Amount of feedback F=')\n",
"Vi=40*(10^-3)//Vi=input voltage\n",
"Vo=Af*Vi//Vo=output voltage\n",
"disp('V',Vo,'3.Output voltage Vo=')\n",
"f=(-A*B)//f=feedback factor\n",
"disp('',f,'4.Feedback factor f=')\n",
"Vf=B*Vo//Vf=feedback voltage\n",
"disp('mV',Vf/10^-3,'5.Feedback voltage is Vf=')//Vf is converted in terms of mV\n",
""
   ]
   }
,
{
		   "cell_type": "markdown",
		   "metadata": {},
		   "source": [
			"## Example 10.7_2: To_find_the_minimum_value_of_the_feedback_ratio_and_the_open_loop_gain.sce"
		   ]
		  },
  {
"cell_type": "code",
	   "execution_count": null,
	   "metadata": {
	    "collapsed": true
	   },
	   "outputs": [],
"source": [
"//scilab 5.4.1\n",
"//windows 7 operating system\n",
"//chapter 10:Feedback In Amplifiers\n",
"clc\n",
"clear\n",
"disp('Negative feedback has to be applied for gain stability')\n",
"//A=open loop gain of an amplifier\n",
"//B=feedback ratio\n",
"Af=10//Af=voltage gain with feedback\n",
"//dAf/Af=(1/(1+(A*B)))*(dA/A)\n",
"y=2//(dAf/Af)=y=percent change of gain that is allowable\n",
"x=20//(dA/A)=x=percent change in open loop gain of an amplifier\n",
"a=(x/y)//(1+(A*B))=a\n",
"disp('',a,'(1+(A*B))=')\n",
"//Af=A/((1+(A*B)))\n",
"A=(Af*a)\n",
"disp('',A,'Open loop gain A=')\n",
"//1+(A*B)=a\n",
"B=(a-1)/A\n",
"disp('',B,'Minimum value of feedback ratio B=')\n",
""
   ]
   }
,
{
		   "cell_type": "markdown",
		   "metadata": {},
		   "source": [
			"## Example 10.7_3: To_find_the_reverse_transmission_factor.sce"
		   ]
		  },
  {
"cell_type": "code",
	   "execution_count": null,
	   "metadata": {
	    "collapsed": true
	   },
	   "outputs": [],
"source": [
"//scilab 5.4.1\n",
"//windows 7 operating system\n",
"//chapter 10:Feedback In Amplifiers\n",
"clc\n",
"clear\n",
"VD=0.1//VD=outputdistortion voltage\n",
"VDf=0.05//VDf=output distortion voltage with feedback\n",
"A=-80//A=open loop gain of an amplifier\n",
"//VDf=VD/(1+(A*B))\n",
"B=((VD/VDf)-1)/A//B=reverse transmission factor\n",
"format('v',10)\n",
"disp('',B,'Reverse transmission factor B=')"
   ]
   }
,
{
		   "cell_type": "markdown",
		   "metadata": {},
		   "source": [
			"## Example 10.7_4: To_find_voltages_current_and_power_dissipation_of_a_given_transistor_circuit.sce"
		   ]
		  },
  {
"cell_type": "code",
	   "execution_count": null,
	   "metadata": {
	    "collapsed": true
	   },
	   "outputs": [],
"source": [
"//scilab 5.4.1\n",
"//windows 7 operating system\n",
"//chapter 10:Feedback In Amplifiers\n",
"clc\n",
"clear\n",
"B=50//B=reverse transmission factor for silicon transistor T1\n",
"VB=((640)*10)/(640+360)//calculating voltage at point B i.e VB by applying voltage divider rule in the given circuit\n",
"format('v',4)\n",
"disp('V',VB,'VB=')\n",
"VBE=VB-5.6//VBE=base emitter voltage drop for silicon transistors T1 and T2 both\n",
"disp('V',VBE,'VBE=')\n",
"VA=10-0.8//VA=voltage at point A in the given circuit\n",
"disp('V',VA,'VA=')\n",
"I1=10/(360+640)//I1=current through resistor of 360 ohm\n",
"format('v',5)\n",
"disp('A',I1,'I1=')\n",
"IE1=I1+1//IE1=emitter current of transistor T1\n",
"format('v',5)\n",
"disp('A',IE1,'IE1=')\n",
"//IC1=-IB1+IE1\n",
"IB1=IE1/(B+1)//IB1=base current of transistor T1\n",
"disp('mA',IB1/10^-3,'IB1=')//IB1 is converted in terms of mA\n",
"I2=(20-VA)/300//I2=current through resistor of 300 ohm\n",
"disp('mA',I2/10^-3,'I2=')//I2 is converted in terms of mA\n",
"IC2=I2-IB1//IC2=collector current of transistor T2\n",
"disp('mA',IC2/10^-3,'IC2=')//IC2 is converted in terms of mA\n",
"//Assuming the base current IB2 of transistor T2 is negligibly small\n",
"IE2=IC2//IE2=emitter current of transistor T2\n",
"disp('mA',IE2/10^-3,'IE2=')//IE2 is converted in terms of mA\n",
"I3=(20-5.6)/1000//I3=current through 1000 ohm resistor\n",
"disp('mA',I3/10^-3,'I3=')//I3 is converted in terms of mA\n",
"IZ=I3+IE2//IZ=current through zener diode\n",
"disp('mA',IZ/10^-3,'IZ=')//IZ is converted in terms of mA\n",
"VCE=20-10//VCE=collector emitter voltage drop for transistor T1\n",
"disp('V',VCE,'VCE=')\n",
"IC1=B*IB1\n",
"P=VCE*IC1//P=power dissipation in transistor T1\n",
"disp('W',P,'P=')"
   ]
   }
,
{
		   "cell_type": "markdown",
		   "metadata": {},
		   "source": [
			"## Example 10.7_5: To_calculate_the_voltage_gain_and_input_output_resistances.sce"
		   ]
		  },
  {
"cell_type": "code",
	   "execution_count": null,
	   "metadata": {
	    "collapsed": true
	   },
	   "outputs": [],
"source": [
"//scilab 5.4.1\n",
"//windows 7 operating system\n",
"//chapter 10:Feedback In Amplifiers\n",
"clc\n",
"clear\n",
"A=50//A=voltage gain of transistor amplifier\n",
"Ri=1000//Ri=input resistance of transistor amplifier without feedback\n",
"Ro=40*1000//Ro=output resistance of transistor amplifier feedback\n",
"//Vf=0.1*Vo (given) where Vf=feedback voltage and Vo=output voltage\n",
"B=0.1//B=(Vf/Vo)=feedback fraction\n",
"Af=A/(1+(A*B))//Af=gain of the feedback amplifier\n",
"format('v',5)\n",
"disp('',Af,'Gain of feedback amplifier Af=')\n",
"Rif=Ri*(1+(A*B))//Rif=input resistance of the feedback amplifier\n",
"Rof=Ro/(1+(A*B))//Rof=output resistance of the feedback amplifier\n",
"format('v',5)\n",
"disp('kilo ohm',Rif/10^3,'Input resistance with feedback Rif=')//Rif is converted in terms of kilo ohm\n",
"disp('kilo ohm',Rof/10^3,'Output resistance with feedback Rof=')//Rof is converted in terms of kilo ohm"
   ]
   }
],
"metadata": {
		  "kernelspec": {
		   "display_name": "Scilab",
		   "language": "scilab",
		   "name": "scilab"
		  },
		  "language_info": {
		   "file_extension": ".sce",
		   "help_links": [
			{
			 "text": "MetaKernel Magics",
			 "url": "https://github.com/calysto/metakernel/blob/master/metakernel/magics/README.md"
			}
		   ],
		   "mimetype": "text/x-octave",
		   "name": "scilab",
		   "version": "0.7.1"
		  }
		 },
		 "nbformat": 4,
		 "nbformat_minor": 0
}
