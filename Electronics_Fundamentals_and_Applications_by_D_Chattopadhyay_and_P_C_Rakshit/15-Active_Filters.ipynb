{
"cells": [
 {
		   "cell_type": "markdown",
	   "metadata": {},
	   "source": [
       "# Chapter 15: Active Filters"
	   ]
	},
{
		   "cell_type": "markdown",
		   "metadata": {},
		   "source": [
			"## Example 15.7_1: To_design_a_Butterworth_low_pass_filter.sce"
		   ]
		  },
  {
"cell_type": "code",
	   "execution_count": null,
	   "metadata": {
	    "collapsed": true
	   },
	   "outputs": [],
"source": [
"//scilab 5.4.1\n",
"//Windows 7 operating system\n",
"//chapter 15 Active Filters\n",
"clc\n",
"clear\n",
"fc=1000//fc=given cut-off frequency in Hz\n",
"A=-56//A=required gain to be dropped by this much amount in dB\n",
"//Also,A=normalized gain of Butterworth filter=|A(jw)/Ao|\n",
"f=10*1000//f=given frequency in Hz where the normalized gain is dropped by given amount\n",
"//|A(jw)/Ao|=(-20)*n*log10(w/wc) where n=order of the filter\n",
"//|A(jw)/Ao|=(-20)*n*log10(f/fc)\n",
"n=A/((-20)*log10(f/fc))//n=order of Butterworth low-pass filter\n",
"disp(ceil(n),'Order of given filter to be designed is (n)=')\n",
"//As n=3 (from above calculation) we need cascading of first-order section and second-order section\n",
"//For n=3\n",
"k=0.5//k=damping factor\n",
"Ao=3-(2*k)//Ao=DC gain for each op-amp in a given Butterworth Filter to be designed\n",
"R1=10*1000//R1=Assumed resistance in ohms\n",
"//Ao=(R1+R2)/R1\n",
"R2=(Ao*R1)-R1\n",
"//fc=1/(2*%pi*R*C)\n",
"R=1000//R=Assumed resistance in ohms\n",
"C=1/(2*%pi*R*fc)\n",
"format('v',5)\n",
"disp('The designed values of resistance and capacitance for a low-pass Butterworth filter are:')\n",
"disp('kilo ohm',R1/1000,'R1=')\n",
"disp('kilo ohm',R2/1000,'R2=')\n",
"disp('kilo ohm',R/1000,'R=')\n",
"disp('micro Farad',C/10^-6,'C=')\n",
"\n",
""
   ]
   }
,
{
		   "cell_type": "markdown",
		   "metadata": {},
		   "source": [
			"## Example 15.7_2: To_design_a_first_order_Butterworth_active_High_Pass_filter.sce"
		   ]
		  },
  {
"cell_type": "code",
	   "execution_count": null,
	   "metadata": {
	    "collapsed": true
	   },
	   "outputs": [],
"source": [
"//scilab 5.4.1\n",
"//Windows 7 operating system\n",
"//chapter 15 Active Filters\n",
"clc\n",
"clear\n",
"Ao=5//Ao=high frequency gain of a given first-order Butterworth active HP filter\n",
"//Ao=(R1+R2)/R1\n",
"R1=1000//R1=Assumed resistance in ohms\n",
"R2=(Ao*R1)-R1\n",
"fc=200//fc=given cut-off frequency in Hz\n",
"//fc=1/(2*%pi*R*C)\n",
"R=5*1000//R=Assumed resistance in ohms\n",
"C=1/(2*%pi*R*fc)\n",
"disp('The designed values of resistance and capacitance for a high-pass Butterworth filter are:')\n",
"disp('kilo ohm',R1/1000,'R1=')\n",
"disp('kilo ohm',R2/1000,'R2=')\n",
"disp('kilo ohm',R/1000,'R=')\n",
"disp('micro Farad',C/10^-6,'C=')"
   ]
   }
,
{
		   "cell_type": "markdown",
		   "metadata": {},
		   "source": [
			"## Example 15.7_3: To_design_a_second_order_band_pass_Butterworth_filter.sce"
		   ]
		  },
  {
"cell_type": "code",
	   "execution_count": null,
	   "metadata": {
	    "collapsed": true
	   },
	   "outputs": [],
"source": [
"//scilab 5.4.1\n",
"//Windows 7 operating system\n",
"//chapter 15 Active Filters\n",
"clc\n",
"clear\n",
"fo=1000//fo=centre frequency in Hz\n",
"f=100//f=bandwidth in Hz\n",
"//Q=wo/w=Quality factor\n",
"Q=(2*%pi*fo)/(2*%pi*f)\n",
"C1=0.02*10^-6\n",
"C2=0.02*10^-6//C1=C2=Assumed Capacitances in Farad\n",
"Ao=2//Ao=gain at the centre frequency\n",
"//R1*C1=Q/(wo*Ao) for active band pass Butterworth filter\n",
"wo=2*%pi*fo\n",
"R1=Q/(Ao*wo*C1)\n",
"R3=Q/(wo*((C1*C2)/(C1+C2)))\n",
"Rp=1/((wo^2)*R3*C1*C2)\n",
"R2=(R1*Rp)/(R1-Rp)\n",
"disp('The designed values of resistance and capacitance for a second order band-pass Butterworth filter are:')\n",
"disp('kilo ohm',ceil(R1/1000),'R1=')//floor() and ceil() functions are used in order to get truncated floating values as per the requirement\n",
"disp('ohm',floor(R2),'R2=')\n",
"disp('kilo ohm',ceil(R3/1000),'R3=')\n",
"disp('micro Farad',C1/10^-6,'C1=')\n",
"disp('micro Farad',C2/10^-6,'C2=')"
   ]
   }
,
{
		   "cell_type": "markdown",
		   "metadata": {},
		   "source": [
			"## Example 15.7_4: To_design_a_notch_filter.sce"
		   ]
		  },
  {
"cell_type": "code",
	   "execution_count": null,
	   "metadata": {
	    "collapsed": true
	   },
	   "outputs": [],
"source": [
"//scilab 5.4.1\n",
"//Windows 7 operating system\n",
"//chapter 15 Active Filters\n",
"clc\n",
"clear\n",
"fo=400//fo=centre frequency in Hz\n",
"Q=10//Q=wo/w=Quality factor\n",
"C1=0.1*10^-6\n",
"C2=0.1*10^-6//C1=C2=Assumed Capacitances in Farad\n",
"Ao=2//Ao=gain at the centre frequency\n",
"//R1*C1=Q/(wo*Ao) for active band pass Butterworth filter\n",
"wo=2*%pi*fo\n",
"R1=Q/(Ao*wo*C1)\n",
"format('v',6)\n",
"R3=Q/(wo*((C1*C2)/(C1+C2)))\n",
"Rp=1/((wo^2)*R3*C1*C2)\n",
"R2=(R1*Rp)/(R1-Rp)\n",
"//Assuming arbitrarily (R6/R5)=10=a\n",
"a=10\n",
"R6=10*1000//R6=Assumed resistance in ohms\n",
"R5=R6/a\n",
"R4=R5/Ao\n",
"disp('The designed values of resistance and capacitance for a notch filter are:')\n",
"disp('kilo ohm',(R1/1000),'R1=')\n",
"disp('ohm',(R2),'R2=')\n",
"disp('kilo ohm',(R3/1000),'R3=')\n",
"disp('ohm',R4,'R4=')\n",
"disp('kilo ohm',(R5/1000),'R5=')\n",
"disp('kilo ohm',(R6/1000),'R6=')\n",
"disp('micro Farad',C1/10^-6,'C1=')\n",
"disp('micro Farad',C2/10^-6,'C2=')\n",
""
   ]
   }
],
"metadata": {
		  "kernelspec": {
		   "display_name": "Scilab",
		   "language": "scilab",
		   "name": "scilab"
		  },
		  "language_info": {
		   "file_extension": ".sce",
		   "help_links": [
			{
			 "text": "MetaKernel Magics",
			 "url": "https://github.com/calysto/metakernel/blob/master/metakernel/magics/README.md"
			}
		   ],
		   "mimetype": "text/x-octave",
		   "name": "scilab",
		   "version": "0.7.1"
		  }
		 },
		 "nbformat": 4,
		 "nbformat_minor": 0
}
