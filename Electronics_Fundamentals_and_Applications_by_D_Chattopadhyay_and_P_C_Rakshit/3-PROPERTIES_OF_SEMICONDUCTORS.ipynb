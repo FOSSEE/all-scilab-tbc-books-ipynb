{
"cells": [
 {
		   "cell_type": "markdown",
	   "metadata": {},
	   "source": [
       "# Chapter 3: PROPERTIES OF SEMICONDUCTORS"
	   ]
	},
{
		   "cell_type": "markdown",
		   "metadata": {},
		   "source": [
			"## Example 3.11_1: To_find_the_conductivity_and_resistivity.sce"
		   ]
		  },
  {
"cell_type": "code",
	   "execution_count": null,
	   "metadata": {
	    "collapsed": true
	   },
	   "outputs": [],
"source": [
"//scilab 5.4.1\n",
"//WINDOWS 7 Operating System \n",
"//chapter 3 PROPERTIES OF SEMICONDUCTORS\n",
"//example 1\n",
"\n",
"clc\n",
"//Given data\n",
"T=300;  //K\n",
"ni=1.5*10^16;    //Intrinsic carrier concentartion per m^3\n",
"yn=0.13;    //Electron mobility in m^2/(V*s)\n",
"yp=0.05;   //Hole mobility in m^2/(V*s)\n",
"e=1.6*10^-19;   //Charge of electron in C\n",
"\n",
"//Required Formula\n",
"Gi=e*ni*(yn+yp);    //Intrinsic conductivity\n",
"\n",
"Ri=1/Gi;    //Intrinsic resistivity\n",
"\n",
"disp('S/m',Gi,'Intrinsic conductivity=');\n",
"\n",
"disp('ohm*meter',Ri,'Intrinsic resistivity=');\n",
"//End"
   ]
   }
,
{
		   "cell_type": "markdown",
		   "metadata": {},
		   "source": [
			"## Example 3.11_2: To_find_Concentration_of_donor_atoms.sce"
		   ]
		  },
  {
"cell_type": "code",
	   "execution_count": null,
	   "metadata": {
	    "collapsed": true
	   },
	   "outputs": [],
"source": [
"//scilab 5.4.1\n",
"//WINDOWS 7 Operating Systems\n",
"//chapter 3 PROPERTIES OF SEMICONDUCTORS\n",
"\n",
"//example 2\n",
"clc\n",
"//Given data\n",
"Sn=480;     //Conductivity in S/m\n",
"yn=0.38;    //Electron mobility in m^2/(V*s)\n",
"e=1.6*10^-19;   //Charge of electron in C\n",
"\n",
"//Required Formula\n",
"Nd=Sn/(e*yn);   //Concentration of donor atoms per m^3\n",
" disp('m^-3',Nd,'Concentration of donor atoms');\n",
" //End"
   ]
   }
,
{
		   "cell_type": "markdown",
		   "metadata": {},
		   "source": [
			"## Example 3.11_4: To_find_intrinsic_conductivity_and_resistance_required.sce"
		   ]
		  },
  {
"cell_type": "code",
	   "execution_count": null,
	   "metadata": {
	    "collapsed": true
	   },
	   "outputs": [],
"source": [
"//scilab 5.4.1\n",
"//OS-WINDOWS 7\n",
"//chapter 3 PROPERTIES OF SEMICONDUCTORS\n",
"//example 4\n",
"\n",
"clc\n",
"//Given data\n",
"T=300;  //K\n",
"ni=1.5*10^16;    //Intrinsic carrier concentartion per m^3\n",
"yn=0.13;    //Electron mobility in m^2/(V*s)\n",
"yp=0.05;   //Hole mobility in m^2/(V*s)\n",
"e=1.6*10^-19;   //Charge of electron in C\n",
"l=0.01;    //length in m\n",
"a=10^-6;    //cross sectional area in m^2\n",
"\n",
"//Required Formula\n",
"Gi=e*ni*(yn+yp);    //Intrinsic conductivity\n",
"\n",
"Ri=l/(Gi*a);    //Required resistance\n",
"\n",
"disp('S/m',Gi,'Intrinsic conductivity=');\n",
"\n",
"disp('ohm',Ri,'required resistance');\n",
"//End"
   ]
   }
,
{
		   "cell_type": "markdown",
		   "metadata": {},
		   "source": [
			"## Example 3.11_5: To_find_the_conductivity_and_current_density_of_doped_sample.sce"
		   ]
		  },
  {
"cell_type": "code",
	   "execution_count": null,
	   "metadata": {
	    "collapsed": true
	   },
	   "outputs": [],
"source": [
"//scilab 5.4.1\n",
"//windows 7 operating system\n",
"//chapter 3:Properties of Semiconductors\n",
"clc\n",
"clear\n",
"//given\n",
"z=(100/60);//z=conductiarrier concentration in /(m^3)\n",
"ni=2.5*10^(19);//ni=intrinsic conductivity of intrinsic material in S/m\n",
"//(P/N)=(1/2);//(P/N)=ratio of hole mobility(P) to electron mobility(N)\n",
"e=1.6*(10^-19);//e=charge of electron in Coulomb\n",
"N=(z/(e*ni*(1+(1/2))))\n",
"disp('(m^2)/(V.s)',N,'N=')\n",
"P=(N/2)\n",
"disp('(m^2)/(V.s)',P,'P=')\n",
"//Nd+p=Na+n;n=electron concentration;p=hole concentration\n",
"//np=(ni^2)\n",
"Nd=(10^20)//Nd=donor concentration in /(m^3)\n",
"Na=5*(10^19)//Na=acceptor concentration in /(m^3)\n",
"n=(1/2)*((Nd-Na)+sqrt(((Nd-Na)^2)+(4*(ni^2))))\n",
"disp('/(m^3)',n,'n=')\n",
"p=(ni^2)/n\n",
"disp('/(m^3)',p,'p=')\n",
"Z=e*((n*N)+(p*P))//Z=conductivity of doped sample in S/m\n",
"disp('S/m',Z,'Z=')\n",
"F=200//F=applied electric field in V/cm\n",
"J=Z*F//J=total conduction current density in A/(m^2)\n",
"disp('A/(m^2)',J,'J=')\n",
"\n",
"\n",
"\n",
""
   ]
   }
,
{
		   "cell_type": "markdown",
		   "metadata": {},
		   "source": [
			"## Example 3.11_6: To_find_the_electron_and_hole_concentration_and_conductivity_of_doped_sample.sce"
		   ]
		  },
  {
"cell_type": "code",
	   "execution_count": null,
	   "metadata": {
	    "collapsed": true
	   },
	   "outputs": [],
"source": [
"//scilab 5.4.1\n",
"//windows 7 operating system\n",
"//chapter 3:Properties of Semiconductors\n",
"clc\n",
"clear\n",
"//given\n",
"ni=2.5*10^(19);//ni=intrinsic conductivity of intrinsic material in S/m\n",
"Nd=5*(10^19)//Nd=donor concentration in /(m^3)\n",
"n=(1/2)*(Nd+sqrt((Nd^2)+(4*(ni^2))))//n=electron concentration\n",
"disp('/(m^3)',n,'n=')\n",
"p=(ni^2)/n//p=hole concentration\n",
"disp('/(m^3)',p,'p=')\n",
"N=0.38//N=electron mobility in (m^2)/(V.s)\n",
"P=0.18//P=hole mobility in (m^2)/(V.s)\n",
"e=1.6*(10^-19)//e=electronic charge in Coulomb\n",
"Z=e*((n*N)+(p*P))//Z=conductivity of doped sample in S/m\n",
"disp('S/m',Z,'Z=')"
   ]
   }
,
{
		   "cell_type": "markdown",
		   "metadata": {},
		   "source": [
			"## Example 3.11_7: To_find_the_required_wavelength.sce"
		   ]
		  },
  {
"cell_type": "code",
	   "execution_count": null,
	   "metadata": {
	    "collapsed": true
	   },
	   "outputs": [],
"source": [
"//scilab 5.4.1\n",
"//windows 8 operating system\n",
"//chapter 3:Properties of Semiconductors\n",
"clc\n",
"clear\n",
"//given\n",
"c=3*(10^8);//c=velocity of light in vacuum in m/s\n",
"h=6.6*(10^-34);//h=Planck's constant in J.s\n",
"Eg=1.98*1.6*(10^-19)//Eg=band gap in J\n",
"//calculating Y=required wavelength\n",
"Y=((c*h)/Eg)/(10^-9)\n",
"disp('nm',Y,'Y=')"
   ]
   }
,
{
		   "cell_type": "markdown",
		   "metadata": {},
		   "source": [
			"## Example 3.11_8: To_find_the_magnetic_and_hall_field.sce"
		   ]
		  },
  {
"cell_type": "code",
	   "execution_count": null,
	   "metadata": {
	    "collapsed": true
	   },
	   "outputs": [],
"source": [
"//scilab 5.4.1\n",
"//windows 7 operating system\n",
"//chapter 3:Properties of Semiconductors\n",
"clc\n",
"clear\n",
"//given\n",
"RH=(10^-2);//RH=Hall coefficient in (m^3)/C\n",
"VH=(10^-3);//VH=Hall Voltage in V\n",
"b=2*(10^-3);//b=width in m\n",
"I=(10^-3);//I=current in A\n",
"//RH=(VH*b)/(I*B)\n",
"B=(VH*b)/(I*RH)//B=magnetic field\n",
"disp('T',B,'B=')\n",
"t=(10^-3)//t=thickness in m\n",
"FH=(VH/t)//FH=Hall field\n",
"disp('V/m',FH,'FH=')\n",
""
   ]
   }
],
"metadata": {
		  "kernelspec": {
		   "display_name": "Scilab",
		   "language": "scilab",
		   "name": "scilab"
		  },
		  "language_info": {
		   "file_extension": ".sce",
		   "help_links": [
			{
			 "text": "MetaKernel Magics",
			 "url": "https://github.com/calysto/metakernel/blob/master/metakernel/magics/README.md"
			}
		   ],
		   "mimetype": "text/x-octave",
		   "name": "scilab",
		   "version": "0.7.1"
		  }
		 },
		 "nbformat": 4,
		 "nbformat_minor": 0
}
