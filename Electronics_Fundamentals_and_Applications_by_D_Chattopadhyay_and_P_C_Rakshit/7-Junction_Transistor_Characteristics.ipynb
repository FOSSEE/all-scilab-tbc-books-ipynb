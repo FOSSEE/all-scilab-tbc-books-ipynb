{
"cells": [
 {
		   "cell_type": "markdown",
	   "metadata": {},
	   "source": [
       "# Chapter 7: Junction Transistor Characteristics"
	   ]
	},
{
		   "cell_type": "markdown",
		   "metadata": {},
		   "source": [
			"## Example 7.13_1: To_find_the_voltage_gain_and_power_gain_of_a_transistor.sce"
		   ]
		  },
  {
"cell_type": "code",
	   "execution_count": null,
	   "metadata": {
	    "collapsed": true
	   },
	   "outputs": [],
"source": [
"\n",
"//scilab 5.4.1\n",
"//windows 7 operating system\n",
"//chapter 7:Junction Transistor Characteristics\n",
"clc;\n",
"clear;\n",
"//given data\n",
"a=0.99;//a=fraction of the emitter current contributed by the carriers injected into the base and reaching the collector\n",
"Rl=4500;     //Load resistance in ohms\n",
"rd=50;      //dynamic resistance in ohms\n",
"\n",
"Av=a*Rl/rd;     //Voltage gain\n",
"Ap=a*Av;//Power gain\n",
"\n",
"disp(Av,'Av=');\n",
"disp(Ap,'Ap=');\n",
""
   ]
   }
,
{
		   "cell_type": "markdown",
		   "metadata": {},
		   "source": [
			"## Example 7.13_2: To_find_the_base_and_collector_current_of_a_given_transistor.sce"
		   ]
		  },
  {
"cell_type": "code",
	   "execution_count": null,
	   "metadata": {
	    "collapsed": true
	   },
	   "outputs": [],
"source": [
"\n",
"//scilab 5.4.1\n",
"//windows 7 operating system\n",
"//chapter 7:Junction Transistor Characteristics\n",
"clc;\n",
"clear;\n",
"//given data\n",
"a=0.98;//a=fraction of the emitter current contributed by the carriers injected into the base and reaching the collector\n",
"Ie=0.003;   //emitter current in A\n",
"Ico=10*10^-6;   //reverse saturation current in A\n",
"\n",
"Ic=a*Ie+Ico;      //collector current in A\n",
"format('v',8)\n",
"disp('mA',Ic/10^-3,'Ic=');//Ic is converted in terms of mA\n",
"\n",
"Ib=Ie-Ic;       //base current in A\n",
"format('v',8)\n",
"disp('µA',Ib/10^-6,'Ib=');//Ib is converted in terms of µA"
   ]
   }
,
{
		   "cell_type": "markdown",
		   "metadata": {},
		   "source": [
			"## Example 7.13_3: To_calculate_the_emitter_and_collector_current_of_a_given_transistor.sce"
		   ]
		  },
  {
"cell_type": "code",
	   "execution_count": null,
	   "metadata": {
	    "collapsed": true
	   },
	   "outputs": [],
"source": [
"\n",
"//scilab 5.4.1\n",
"//windows 7 operating system\n",
"//chapter 7:Junction Transistor Characteristics\n",
"clc;\n",
"clear;\n",
"//given data\n",
"a=0.975;//a=fraction of the emitter current contributed by the carriers injected into the base and reaching the collector\n",
"Ico=10*10^-6;   //reverse saturation current in A\n",
"Ib=250*10^-6;   //base current in A\n",
"\n",
"b=a/(1-a);      //transistor gain\n",
"disp(b,'gain B=');\n",
"Ic=b*Ib+(b+1)*Ico;       //collector current in A\n",
"format('v',5)\n",
"disp('mA',Ic/10^-3,'Ic=');//Ic is converted in terms of mA\n",
"Ie=(Ic-Ico)/a;      //emitter current in A\n",
"format('v',5)\n",
"disp('mA',Ie/10^-3,'Ie=');//Ie is converted in terms of mA"
   ]
   }
,
{
		   "cell_type": "markdown",
		   "metadata": {},
		   "source": [
			"## Example 7.13_4: To_calculate_the_voltage_between_collector_and_emitter_terminals.sce"
		   ]
		  },
  {
"cell_type": "code",
	   "execution_count": null,
	   "metadata": {
	    "collapsed": true
	   },
	   "outputs": [],
"source": [
"\n",
"//scilab 5.4.1\n",
"//windows 7 operating system\n",
"//chapter 7:Junction Transistor Characteristics\n",
"clc;\n",
"clear;\n",
"//given data\n",
"b=125;//b=forward current transfer ratio or dc current gain\n",
"Vbe=0.6;    //base to emitter voltage in V\n",
"\n",
"Ib=(10-Vbe)/(310*10^3);     //base current in A\n",
"disp('mA',Ib*10^3,'Ib=');\n",
"Ic=b*Ib;        //collector current in A\n",
"disp('mA',Ic*10^3,'Ic=');\n",
"Vce=20-(Ic*5000);       //collector to emitter voltage\n",
"disp('V',Vce,'Vce=');"
   ]
   }
,
{
		   "cell_type": "markdown",
		   "metadata": {},
		   "source": [
			"## Example 7.13_5: To_check_what_happens_if_resistance_Rc_is_indefinitely_increased.sce"
		   ]
		  },
  {
"cell_type": "code",
	   "execution_count": null,
	   "metadata": {
	    "collapsed": true
	   },
	   "outputs": [],
"source": [
"//scilab 5.4.1\n",
"//Windows 7 operating system\n",
"//chapter 7 Junction Transistor Characteristics\n",
"clc\n",
"clear\n",
"disp('As the base is forward biased,transistor is not cut off.')\n",
"disp('Assuming the transistor in active region ')\n",
"VBB=5//VBB=base bias voltage\n",
"VBE=0.7//VBE=voltage between base and emitter terminal\n",
"RB=220//RB=base circuit resistor in kilo ohms\n",
"IB=(VBB-VBE)/RB//IB=base current in mA(By applying Kirchhoff's voltage law)\n",
"format('v',7)\n",
"disp('mA',IB,'IB=')\n",
"disp('Ico<<IB')//Ico=reverse saturation current and is given as 22nA\n",
"B=100//B=dc current gain\n",
"IC=B*IB\n",
"format('v',5)\n",
"disp('mA',IC,'IC=')\n",
"Vcc=12//Vcc=collector supply voltage\n",
"Rc=3.3//Rc=collector circuit resistor in kilo ohms\n",
"VCB=Vcc-(IC*Rc)-VBE//VCB=voltage between collector and base terminal (by applying Kirchhoff's voltage law to the collector circuit)\n",
"disp('V',VCB,'VCB=')\n",
"disp('A positive value of VCB implies that for n-p-n transistor,the collector junction is reverse biased and hence the transistor is actually in active region')\n",
"IE=-(IB+IC)//IE=emitter current\n",
"disp('mA',IE,'IE=')\n",
"format('v',7)\n",
"disp('The negative sign indicates that IE actually flows in the opposite direction.')\n",
"disp('IB and IC do not depend on the collector circuit resistance Rc.So if it is increased, at one stage VCB becomes negative and transistor goes into saturation region ')"
   ]
   }
,
{
		   "cell_type": "markdown",
		   "metadata": {},
		   "source": [
			"## Example 7.13_6: EX7_13_6.sce"
		   ]
		  },
  {
"cell_type": "code",
	   "execution_count": null,
	   "metadata": {
	    "collapsed": true
	   },
	   "outputs": [],
"source": [
"//scilab 5.4.1\n",
"//Windows 7 operating system\n",
"//chapter 7 Junction Transistor Characteristics\n",
"clc\n",
"clear\n",
"disp('Applying Kirchhoff voltage law to the base & collector circuit respectively')\n",
"//(R1*IB)+VBE+(RE*(Ic+IB))=VBB..........(1)\n",
"//(R2*Ic)+VCE+(RE*(Ic+IB))=Vcc..........(2)\n",
"R1=47//R1=value of base circuit resistance in kilo ohms\n",
"RE=2.2//RE=emitter circuit resistance in kilo ohms\n",
"R2=3.3//R2=collector circuit resistance in kilo ohms\n",
"VBE=0.85//VBE=voltage between base and emitter terminals\n",
"VBB=5//VBB=base supply voltage\n",
"Vcc=9//Vcc=collector supply voltage\n",
"VCE=0.22//VCE=voltage between collector and emitter terminals\n",
"R=[(R1+RE) RE;RE (R2+RE)];\n",
"V=[(VBB-VBE);(Vcc-VCE)];\n",
"I=inv(R)*V\n",
"disp('mA',I(1),'IB=')\n",
"disp('mA',I(2),'IC=')\n",
"hFE=110//hFE=dc current gain\n",
"disp('The minimum base current required for saturation is')\n",
"IBmin=I(2)/hFE\n",
"disp('mA',IBmin,'IBmin=')\n",
"if (I(1)<IBmin) then\n",
"    disp('As IB<IBmin transitor is not in the saturation region.It must be in the active region.')\n",
"end"
   ]
   }
,
{
		   "cell_type": "markdown",
		   "metadata": {},
		   "source": [
			"## Example 7.13_7: To_calculate_the_output_resistance_along_with_the_current_gain.sce"
		   ]
		  },
  {
"cell_type": "code",
	   "execution_count": null,
	   "metadata": {
	    "collapsed": true
	   },
	   "outputs": [],
"source": [
"//scilab 5.4.1\n",
"//Windows 7 operating system\n",
"//chapter 7 Junction Transistor Characteristics\n",
"clc\n",
"clear\n",
"IB=(30*10^-3)//IB=base current (in mA) of transistor in CE mode\n",
"IC1=3.5\n",
"IC2=3.7\n",
"VCE1=7.5\n",
"VCE2=12.5//IC1 and IC2 are the change found in collector current IC in mA when collector emitter voltage VCE changes from VCE1 to VCE2(in volts)\n",
"VCE=VCE2-VCE1\n",
"IC=IC2-IC1\n",
"disp('Output resistance is')\n",
"Ro=VCE/IC\n",
"disp('kilo ohm',Ro,'The output resistance is =')\n",
"b=IC2/IB//b=forward current transfer ratio or dc current gain\n",
"disp(b,'b=')\n",
"a=b/(b+1)//a=fraction of the emitter current contributed by the carriers injected into the base and reaching the collector\n",
"//b=a/(1-a) Hence a=b/(b+1)\n",
"disp(a,'a=')"
   ]
   }
,
{
		   "cell_type": "markdown",
		   "metadata": {},
		   "source": [
			"## Example 7.13_8: To_find_the_resistance_R1_R2_and_the_range_of_RL.sce"
		   ]
		  },
  {
"cell_type": "code",
	   "execution_count": null,
	   "metadata": {
	    "collapsed": true
	   },
	   "outputs": [],
"source": [
"//scilab 5.4.1\n",
"//Windows 7 operating system\n",
"//chapter 7 Junction Transistor Characteristics\n",
"clc\n",
"clear\n",
"b=100//b=forward current transfer ratio or dc current gain\n",
"Vz=4//Vz=Zener diode voltage\n",
"IL=2//IL=load current in mA\n",
"Iz=5//Iz=Zener current in mA\n",
"VCC=12//VCC=collector supply voltage\n",
"VEB1=0.7\n",
"VEB2=VEB1//VEB1,VEB2=emitter-to-base voltage for both transistors Q1 and Q2 respectively\n",
"//Since IL is the collector current of transistor Q1\n",
"IB=IL/b//IB=base current of transistor Q1\n",
"IE=IB+IL//IE=emitter current of transistor Q1\n",
"VR1=VCC-VEB2-Vz//VR1=voltage drop across resistor R1\n",
"R1=VR1/(IB+Iz)\n",
"format('v',5)\n",
"disp('kilo ohm',R1,'The resistance R1 is =')\n",
"VR2=VEB2+Vz-VEB1//VR2=voltage drop across resistor R2\n",
"R2=VR2/IE\n",
"format('v',5)\n",
"disp('kilo ohm',R2,'The resistance R2 is =')\n",
"//VBC=VCC-VR2-VEB1-(IL*RL) where VBC=base-collector voltage drop for transistor Q1\n",
"//VBC=7.3-(2*RL) where RL=load resistance for transistor Q1 in terms of kilo ohm\n",
"disp('For Q1 to remain in the active region,VBC≥0,i.e.')\n",
"disp('RL≤(7.3/2) kilo ohm')\n",
"disp('RL≤3.65 kilo ohm')\n",
"disp('So the range of RL for Q1 to remain in the active region is 0≤RL≤3.65 kilo ohm')"
   ]
   }
],
"metadata": {
		  "kernelspec": {
		   "display_name": "Scilab",
		   "language": "scilab",
		   "name": "scilab"
		  },
		  "language_info": {
		   "file_extension": ".sce",
		   "help_links": [
			{
			 "text": "MetaKernel Magics",
			 "url": "https://github.com/calysto/metakernel/blob/master/metakernel/magics/README.md"
			}
		   ],
		   "mimetype": "text/x-octave",
		   "name": "scilab",
		   "version": "0.7.1"
		  }
		 },
		 "nbformat": 4,
		 "nbformat_minor": 0
}
