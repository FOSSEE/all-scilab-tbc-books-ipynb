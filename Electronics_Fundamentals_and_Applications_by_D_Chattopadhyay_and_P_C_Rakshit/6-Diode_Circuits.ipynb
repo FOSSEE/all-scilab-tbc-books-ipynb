{
"cells": [
 {
		   "cell_type": "markdown",
	   "metadata": {},
	   "source": [
       "# Chapter 6: Diode Circuits"
	   ]
	},
{
		   "cell_type": "markdown",
		   "metadata": {},
		   "source": [
			"## Example 6.11_1: EX6_11_1.sce"
		   ]
		  },
  {
"cell_type": "code",
	   "execution_count": null,
	   "metadata": {
	    "collapsed": true
	   },
	   "outputs": [],
"source": [
"\n",
"//scilab 5.4.1\n",
"//windows 7 operating system\n",
"//chapter 6:Diode Circuits\n",
"clc;\n",
"clear;\n",
"//given data\n",
"Vrms=20;    //in volts\n",
"Vm=20*1.41; //in volts\n",
"Rf=50;  //forward resistance in ohms\n",
"RL=1200;    //load resistance in ohms\n",
"\n",
"Im=Vm/(Rf+RL);  //peak load current\n",
"format('v',7)\n",
"disp('A',Im,'Im=');\n",
"\n",
"Idc=Im/%pi;     //dc load current\n",
"format('v',8)//to set the current printing format with the specified parameter type\n",
"disp('A',Idc,'Idc=');\n",
"\n",
"Irms=Im/2;//rms load current\n",
"Irms1=sqrt((Irms^2)-(Idc^2))//rms ac load current\n",
"format('v',8)\n",
"disp('A',Irms1,'rms ac load current is=');\n",
"\n",
"Vdc=Idc*Rf;     //Dc voltage across the diode\n",
"format('v',6)\n",
"disp('V',Vdc,'Dc voltage across the diode=');\n",
"\n",
"Pdc=Idc*Idc*RL;     //Dc output power\n",
"format('v',6)\n",
"disp('W',Pdc,'Dc output power=');\n",
"\n",
"n=40.6/(1+(Rf/RL));     //conversion efficiency\n",
"format('v',5)\n",
"disp('%',n,'conversion efficiency=');\n",
"\n",
"s=Rf*100/RL;        //Pertcentage regulation\n",
"format('v',5)\n",
"disp('%',s,'Pertcentage regulation=');\n",
"\n",
"//end\n",
""
   ]
   }
,
{
		   "cell_type": "markdown",
		   "metadata": {},
		   "source": [
			"## Example 6.11_2: EX6_11_2.sce"
		   ]
		  },
  {
"cell_type": "code",
	   "execution_count": null,
	   "metadata": {
	    "collapsed": true
	   },
	   "outputs": [],
"source": [
"\n",
"//scilab 5.4.1\n",
"//windows 7 operating system\n",
"//chapter 6:Diode Circuits\n",
"clc;\n",
"clear;\n",
"//given data\n",
"Rf=100; //forward resistance in ohms\n",
"Rl=1000; //load resistance in ohms\n",
"n=10;   //Primary to secondary turns ratio\n",
"Vp=240; //Primary input V(rms)\n",
"\n",
"Vm=24*(2^(1/2))/2;   //secondary peak voltage from cenre tap\n",
"Vs=Vp/n;    //Secondary input voltage\n",
"Im=Vm/(Rf+Rl);  //peak current through the resistance in A\n",
"Idc=(2*Im)/%pi;  //DC Load current in A\n",
"format('v',8)\n",
"disp('A',Idc,'DC load current Idc=',);\n",
"I=Idc/2;    //Direct current supplied by each diode in A\n",
"format('v',7)\n",
"disp('A',I,'Direct current supplied by each diode Idc=',);\n",
"Pdc=Idc*Idc*Rl; //DC power output\n",
"format('v',6)\n",
"disp('W',Pdc,'Pdc=');\n",
"Irms=Im/(2^(1/2));\n",
"Vrp=sqrt((Irms*Irms)-(Idc*Idc))*Rl;   //Ripple voltage in V\n",
"format('v',7)\n",
"disp('V',Vrp,'Ripple voltage Vrp=');\n",
"\n",
"\n",
"M=(Rf*100)/Rl;    //percentage regulation\n",
"disp('%',M,'Percentage regulation=');\n",
"n=81.2/(1+(Rf/Rl));  //Efficiency of rectification\n",
"format('v',5)\n",
"disp('%',n,'Efficiency of rectification');\n",
"\n",
"//end"
   ]
   }
,
{
		   "cell_type": "markdown",
		   "metadata": {},
		   "source": [
			"## Example 6.11_3: To_calculate_the_dc_load_voltage_ripple_voltage_and_the_percentage_regulation.sce"
		   ]
		  },
  {
"cell_type": "code",
	   "execution_count": null,
	   "metadata": {
	    "collapsed": true
	   },
	   "outputs": [],
"source": [
"//scilab 5.4.1\n",
"//windows 7 operating system\n",
"//chapter 6:Diode Circuits\n",
"clc;\n",
"clear;\n",
"//given data\n",
"Rf=50;  //forward resistance in ohms\n",
"Rl=2500; //load resistance in ohms\n",
"Vp=30;   //Primary input V(rms)\n",
"Vm=30*sqrt(2);\n",
"\n",
"Im=Vm/(2*Rf+Rl);    //peak load current in A\n",
"Idc=2*Im/%pi;\n",
"\n",
"Vdc=Idc*Rl;     //DC load voltage\n",
"disp('V',Vdc,'Vdc=');\n",
"Irms=Im/sqrt(2);\n",
"Vrp=Rl*sqrt(((Irms*Irms)-(Idc*Idc)));   //Ripple voltage in V\n",
"disp('V',Vrp,'Ripple voltage Vrp=');\n",
"\n",
"M=(2*Rf/Rl)*100;    //Percentage regulation\n",
"disp('%',M,'Percentage regulation=');\n",
"\n",
"//end"
   ]
   }
,
{
		   "cell_type": "markdown",
		   "metadata": {},
		   "source": [
			"## Example 6.11_4: To_calculate_ripple_voltage_and_the_percentage_ripple.sce"
		   ]
		  },
  {
"cell_type": "code",
	   "execution_count": null,
	   "metadata": {
	    "collapsed": true
	   },
	   "outputs": [],
"source": [
"\n",
"//scilab 5.4.1\n",
"//windows 7 operating system\n",
"//chapter 6:Diode Circuits\n",
"clc;\n",
"clear;\n",
"//given data\n",
"\n",
"Vdc=20;  //DC value in V\n",
"Vpp=1;  //Peak to peak ripple voltage in V\n",
"\n",
"Vp=Vpp/2;   //Peak ripple voltage in V\n",
"Vrms=Vp/sqrt(2);    //Vrms voltage in V\n",
"S=Vrms/Vdc;     //Ripple Factor\n",
"format('v',7)\n",
"disp(S,'Ripple factor=')\n",
"T=S*100;\n",
"format('v',5)\n",
"disp('%',T,'Percentage Ripple=')\n",
"//end"
   ]
   }
,
{
		   "cell_type": "markdown",
		   "metadata": {},
		   "source": [
			"## Example 6.11_5: To_design_a_full_wave_rectifier_with_L_type_LC_filter.sce"
		   ]
		  },
  {
"cell_type": "code",
	   "execution_count": null,
	   "metadata": {
	    "collapsed": true
	   },
	   "outputs": [],
"source": [
"//scilab 5.4.1\n",
"//Windows 7 operating system\n",
"//chapter 6 Diode Circuits\n",
"clc\n",
"clear\n",
"//For a full wave rectifier \n",
"//L-type LC filter\n",
"f=50//f=line frequency in Hz\n",
"w=2*%pi*f\n",
"Vdc=10//Vdc=dc output voltage\n",
"Idc=100*10^-3//Idc=load current in Amperes\n",
"y=0.02//y=allowable ripple factor\n",
"//y=sqrt(2)/(12*(w^2)*L*C)\n",
"//Let L*C=a...............(1)\n",
"a=sqrt(2)/(y*12*(w^2))\n",
"RL=Vdc/Idc//RL=load resistance\n",
"//Lc=critical inductance \n",
"//Lc=RL/(3*w)\n",
"//For line frequency of 50Hz,Lc=RL/(300*%pi)\n",
"//Lc=RL/950\n",
"Lc=RL/950\n",
"format('v',4)\n",
"L=0.1//Assumed inductance in henry\n",
"C=a/L//C=capacitance calculated from equation (1)\n",
"format('v',4)\n",
"L1=1//Assumed inductance in henry\n",
"C1=a/L1//C1=capacitance calculated from equation (1)\n",
"format('v',4)\n",
"Rb=950*L1//Rb=bleeder resistance for good voltage regulation\n",
"disp('The designed values of the components for a full wave rectifier with L-type LC filter are')\n",
"disp('ohm',RL,'The load resistance RL is =')\n",
"disp('H',Lc,'The critical inductance Lc is =')\n",
"disp('H',L,'The inductance L is=')\n",
"disp('µF',C/10^-6,'The capacitance C is')//C is converted in terms of microfarad\n",
"//In textbook 957µF is approximately taken as 600µF\n",
"disp('H',L1,'But if the inductance L designed is of the value =')\n",
"disp('µF',C1/10^-6,'the capacitance C will be of the value =')//C1 is converted in terms of microfarad\n",
"disp('So,a standard value of 50µF can be used in practice')\n",
"disp('ohm',Rb,'The bleeder resistance Rb for good voltage regulation is=')\n",
"disp('As Rb is much greater than RL,little power is wasted in Rb.This reflects the advantage of selecting L>Lc')\n",
"\n",
""
   ]
   }
],
"metadata": {
		  "kernelspec": {
		   "display_name": "Scilab",
		   "language": "scilab",
		   "name": "scilab"
		  },
		  "language_info": {
		   "file_extension": ".sce",
		   "help_links": [
			{
			 "text": "MetaKernel Magics",
			 "url": "https://github.com/calysto/metakernel/blob/master/metakernel/magics/README.md"
			}
		   ],
		   "mimetype": "text/x-octave",
		   "name": "scilab",
		   "version": "0.7.1"
		  }
		 },
		 "nbformat": 4,
		 "nbformat_minor": 0
}
