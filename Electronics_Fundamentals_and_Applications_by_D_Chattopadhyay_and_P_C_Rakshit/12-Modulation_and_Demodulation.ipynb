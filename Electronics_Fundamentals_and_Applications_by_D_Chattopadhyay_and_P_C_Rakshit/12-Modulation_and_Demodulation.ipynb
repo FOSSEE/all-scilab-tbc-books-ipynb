{
"cells": [
 {
		   "cell_type": "markdown",
	   "metadata": {},
	   "source": [
       "# Chapter 12: Modulation and Demodulation"
	   ]
	},
{
		   "cell_type": "markdown",
		   "metadata": {},
		   "source": [
			"## Example 12.9_1: To_find_the_percentage_modulation_and_the_amplitude_of_the_unmodulated_carrier.sce"
		   ]
		  },
  {
"cell_type": "code",
	   "execution_count": null,
	   "metadata": {
	    "collapsed": true
	   },
	   "outputs": [],
"source": [
"//scilab 5.4.1\n",
"//Windows 7 operating system\n",
"//chapter 12 Modulation and Demodulation\n",
"clc\n",
"clear\n",
"Vmax=8//Vmax=maximum peak to peak value of an AM voltage\n",
"Vmin=2//Vmin=minimum peak to peak value of an AM voltage\n",
"ma=(Vmax-Vmin)/(Vmax+Vmin)//ma=percentage modulation \n",
"disp('%',(ma*100),'Percentage modulation ma=')\n",
"//ma=(Vmax-Vmin)/(2*VC) where VC=amplitude of the unmodulated carrier\n",
"VC=(Vmax-Vmin)/(2*ma)\n",
"disp('V',VC,'Amplitude of the unmodulated carrier is VC=')\n",
"disp('In the textbook answer given is incorrect as they have further divided by 2 which is not the part of given formula.')"
   ]
   }
,
{
		   "cell_type": "markdown",
		   "metadata": {},
		   "source": [
			"## Example 12.9_2: EX12_9_2.sce"
		   ]
		  },
  {
"cell_type": "code",
	   "execution_count": null,
	   "metadata": {
	    "collapsed": true
	   },
	   "outputs": [],
"source": [
"//scilab 5.4.1\n",
"//Windows 7 operating system\n",
"//chapter 12 Modulation and Demodulation\n",
"clc\n",
"clear\n",
"fc=1000*(10^3)//fc=frequency of the carrier wave in Hz(hertz)\n",
"fmin=400\n",
"fmax=1600//fmin and fmax represent the frequency range of audio signals by which the carrier wave is amplitude modulated.\n",
"fs=fmax-fmin//fs=frequency span of each sideband\n",
"disp('Hz',fs,'1.Frequency span of each sideband is ')\n",
"fumax=(fc+fmax)/1000//fumax=maximum upper side frequency\n",
"disp('kHz',fumax,'2.The maximum upper side frequency is ')\n",
"flmin=(fc-fmax)/1000//flmin=minimum lower side frequency\n",
"disp('kHz',flmin,'3.The minimum lower side frequency is ')\n",
"Wc=fumax-flmin//Wc=channelwidth\n",
"disp('kHz',Wc,'4.The channelwidth is ')"
   ]
   }
,
{
		   "cell_type": "markdown",
		   "metadata": {},
		   "source": [
			"## Example 12.9_3: To_calculate_the_power_developed_by_an_AM_wave.sce"
		   ]
		  },
  {
"cell_type": "code",
	   "execution_count": null,
	   "metadata": {
	    "collapsed": true
	   },
	   "outputs": [],
"source": [
"//scilab 5.4.1\n",
"//Windows 7 operating system\n",
"//chapter 12 Modulation and Demodulation\n",
"clc\n",
"clear\n",
"R=100//R=load resistance in ohms\n",
"Vc=100//Vc=peak voltage of the carrier in volts\n",
"ma=0.4//ma=modulation factor\n",
"Pc=(Vc^2)/(2*R)//Pc=unmodulated carrier power developed by an AM wave\n",
"disp('W',Pc,'The unmodulated carrier power is Pc= ')\n",
"Pt=Pc*(1+((ma^2)/2))//Pt=total power developed\n",
"disp('W',Pt,'The total power developed by the AM wave is Pt=')\n",
""
   ]
   }
,
{
		   "cell_type": "markdown",
		   "metadata": {},
		   "source": [
			"## Example 12.9_4: To_determine_the_necessary_audio_power.sce"
		   ]
		  },
  {
"cell_type": "code",
	   "execution_count": null,
	   "metadata": {
	    "collapsed": true
	   },
	   "outputs": [],
"source": [
"//scilab 5.4.1\n",
"//Windows 7 operating system\n",
"//chapter 12 Modulation and Demodulation\n",
"clc\n",
"clear\n",
"ma=0.5//ma=modulation factor\n",
"Pc=20//Pc=unmodulated carrier power in kilowatts(kW)\n",
"Ps=(1/2)*(ma^2)*Pc//Ps=total sideband power\n",
"disp('kW',Ps,'The total sideband power is Ps=')\n",
"//modulator system efficiency is given as 70 per cent\n",
"Pa=Ps/0.7//Pa=audio power necessary toamplitude modulate a given carrier wave\n",
"format('v',5)\n",
"disp('kW',Pa,'The required audio power is ')"
   ]
   }
,
{
		   "cell_type": "markdown",
		   "metadata": {},
		   "source": [
			"## Example 12.9_5: To_find_the_modulation_index_three_pairs_of_side_frequency_and_the_channelwidth.sce"
		   ]
		  },
  {
"cell_type": "code",
	   "execution_count": null,
	   "metadata": {
	    "collapsed": true
	   },
	   "outputs": [],
"source": [
"//scilab 5.4.1\n",
"//Windows 7 operating system\n",
"//chapter 12 Modulation and Demodulation\n",
"clc\n",
"clear\n",
"df=30//df=maximum frequency deviation in kilohertz(kHz)\n",
"fm=15//fm=modulation frequency of a sinusoidal audio signal in kilohertz(kHz)\n",
"mf=df/fm//mf=frequency modulation index\n",
"disp(mf,'1.The modulation index is mf=')\n",
"fc=100//fc=carrier wave frequency in megahertz(MHz)\n",
"disp('2.The three significant pairs of side frequencies are 100MHz+-15kHz(fc+-fm);100MHz+-30kHz(fc+-2fm);100MHz+-45kHz(fc+-3fm)')\n",
"wc=mf*3*fm//wc=channelwidth required for 3 above mentioned side frequency pairs\n",
"disp('kHz',wc,'3.The required channelwidth is ')\n",
""
   ]
   }
,
{
		   "cell_type": "markdown",
		   "metadata": {},
		   "source": [
			"## Example 12.9_6: To_find_the_highest_modulation_frequency.sce"
		   ]
		  },
  {
"cell_type": "code",
	   "execution_count": null,
	   "metadata": {
	    "collapsed": true
	   },
	   "outputs": [],
"source": [
"//scilab 5.4.1\n",
"//Windows 7 operating system\n",
"//chapter 12 Modulation and Demodulation\n",
"clc\n",
"clear\n",
"R=0.2*(10^6)//R=load resistance in ohms in a diode detector \n",
"C=150*(10^-12)//C=capacitance in farad in a diode detector \n",
"//fmh=wmh/(2*%pi)where fmh=highest modulation frequency that can be detected with tolerable distortion and wmh=corresponding angular frequency\n",
"ma=0.5//ma=modulation factor or depth of modulation\n",
"fmh=(1/(2*%pi*ma*R*C))/1000\n",
"format('v',6)\n",
"disp('kHz',fmh,'The required frequency is fmh=')\n",
""
   ]
   }
,
{
		   "cell_type": "markdown",
		   "metadata": {},
		   "source": [
			"## Example 12.9_7: To_find_the_depth_of_modulation_and_the_total_radiated_power.sce"
		   ]
		  },
  {
"cell_type": "code",
	   "execution_count": null,
	   "metadata": {
	    "collapsed": true
	   },
	   "outputs": [],
"source": [
"//scilab 5.4.1\n",
"//Windows 7 operating system\n",
"//chapter 12 Modulation and Demodulation\n",
"clc\n",
"clear\n",
"Pc=10//Pc=unmodulated carrier power in kilowatts(kW)\n",
"Pt=12.5//Pt=total power in kilowatts(kW)\n",
"//Pt=Pc*(1+((ma^2)/2)) \n",
"ma=sqrt(2*((Pt/Pc)-1))//ma=depth of modulation of the first signal\n",
"disp(ma,'The depth of modulation is ma=')\n",
"mb=0.6//mb=depth of modulation of the second signal\n",
"PT=Pc*(1+((ma^2)/2)+((mb^2)/2))//PT=the total radiated power\n",
"disp('kW',PT,'The total radiated power is PT=')"
   ]
   }
],
"metadata": {
		  "kernelspec": {
		   "display_name": "Scilab",
		   "language": "scilab",
		   "name": "scilab"
		  },
		  "language_info": {
		   "file_extension": ".sce",
		   "help_links": [
			{
			 "text": "MetaKernel Magics",
			 "url": "https://github.com/calysto/metakernel/blob/master/metakernel/magics/README.md"
			}
		   ],
		   "mimetype": "text/x-octave",
		   "name": "scilab",
		   "version": "0.7.1"
		  }
		 },
		 "nbformat": 4,
		 "nbformat_minor": 0
}
