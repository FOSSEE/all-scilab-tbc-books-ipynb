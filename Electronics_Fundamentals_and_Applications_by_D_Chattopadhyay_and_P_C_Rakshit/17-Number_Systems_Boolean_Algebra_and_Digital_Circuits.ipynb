{
"cells": [
 {
		   "cell_type": "markdown",
	   "metadata": {},
	   "source": [
       "# Chapter 17: Number Systems Boolean Algebra and Digital Circuits"
	   ]
	},
{
		   "cell_type": "markdown",
		   "metadata": {},
		   "source": [
			"## Example 17.17_10: To_solve_the_Boolean_expression.sce"
		   ]
		  },
  {
"cell_type": "code",
	   "execution_count": null,
	   "metadata": {
	    "collapsed": true
	   },
	   "outputs": [],
"source": [
"//scilab 5.4.1\n",
"//Windows 7 operating system\n",
"//chapter 17 Number Systems,Boolean Algebra,and Digital Circuits\n",
"clc\n",
"clear\n",
"A=0\n",
"B=0\n",
"C=bitor(A,B)//bitwise OR operation is performed\n",
"disp(C,'Boolean expression C=A+B for inputs A=0 and B=0 is')\n",
"A=1\n",
"B=0\n",
"C=bitor(A,B)\n",
"disp(C,'Boolean expression C=A+B for inputs A=1 and B=0 is')\n",
"A=1\n",
"B=1\n",
"C=bitor(A,B)\n",
"disp(C,'Boolean expression C=A+B for inputs A=1 and B=1 is')"
   ]
   }
,
{
		   "cell_type": "markdown",
		   "metadata": {},
		   "source": [
			"## Example 17.17_1: To_determine_the_binary_equivalents.sce"
		   ]
		  },
  {
"cell_type": "code",
	   "execution_count": null,
	   "metadata": {
	    "collapsed": true
	   },
	   "outputs": [],
"source": [
"//scilab 5.4.1\n",
"//Windows 7 operating system\n",
"//chapter 17 Number Systems,Boolean Algebra,and Digital Circuits\n",
"clc\n",
"clear\n",
"x=25\n",
"s=dec2bin(x)\n",
"disp(,s,'1 Binary equivalent of 25 is ')\n",
"y=576\n",
"s1=dec2bin(y)\n",
"disp(,s1,'2 Binary equivalent of 576 is ')"
   ]
   }
,
{
		   "cell_type": "markdown",
		   "metadata": {},
		   "source": [
			"## Example 17.17_2: To_determine_the_decimal_equivalent.sce"
		   ]
		  },
  {
"cell_type": "code",
	   "execution_count": null,
	   "metadata": {
	    "collapsed": true
	   },
	   "outputs": [],
"source": [
"//scilab 5.4.1\n",
"//Windows 7 operating system\n",
"//chapter 17 Number Systems,Boolean Algebra,and Digital Circuits\n",
"clc\n",
"clear\n",
"s='1111'\n",
"x=bin2dec(s)\n",
"disp(,x,'Decimal equivalent of 1111 is ')"
   ]
   }
,
{
		   "cell_type": "markdown",
		   "metadata": {},
		   "source": [
			"## Example 17.17_3: To_convert_from_binary_system_to_decimal_system.sce"
		   ]
		  },
  {
"cell_type": "code",
	   "execution_count": null,
	   "metadata": {
	    "collapsed": true
	   },
	   "outputs": [],
"source": [
"//scilab 5.4.1\n",
"//Windows 7 operating system\n",
"//chapter 17 Number Systems,Boolean Algebra,and Digital Circuits\n",
"clc\n",
"clear\n",
"p=1;\n",
"//initialising variables\n",
"q=1;\n",
"z=0;\n",
"b=0;\n",
"w=0;\n",
"f=0;\n",
"format('v',18);//increasing the precision to 18 .\n",
"bin=11.1101;\n",
"d=modulo(bin,1);//separating the decimal part and the integer part\n",
"d=d*10^10;\n",
"a=floor(bin);//removing the decimal part\n",
"while(a>0)//loop to take the binary bits of integer into a matrix\n",
"r=modulo(a,10);\n",
"b(1,q)=r;\n",
"a=a/10;\n",
"a= floor(a);\n",
"q=q+1;\n",
"end\n",
"for m=1:q-1//multiplying the bits of integer with their position values and adding\n",
"c=m-1;\n",
"f=f+b(1,m)*(2^c);\n",
"end\n",
"while(d>0)//loop to take the binary bits of decimal into a matrix\n",
"e=modulo(d,2)\n",
"w(1,p)=e\n",
"d=d /10;\n",
"d=floor(d)\n",
"p=p+1;\n",
"end\n",
"for n=1:p-1//multiplying the bits of decimal with their position values and adding\n",
"z=z+w(1,n) *(0.5) ^(11-n);\n",
"end\n",
"z=z*10000;\n",
"//rounding of to 4 decimal values\n",
"z=round(z);\n",
"z=z/10000;\n",
"printf('The decimal equivalent of 11.1101 is = %f' ,f+z)"
   ]
   }
,
{
		   "cell_type": "markdown",
		   "metadata": {},
		   "source": [
			"## Example 17.17_4: To_convert_from_decimal_system_to_binary_system.sce"
		   ]
		  },
  {
"cell_type": "code",
	   "execution_count": null,
	   "metadata": {
	    "collapsed": true
	   },
	   "outputs": [],
"source": [
"//scilab 5.4.1\n",
"//Windows 7 operating system\n",
"//chapter 17 Number Systems,Boolean Algebra,and Digital Circuits\n",
"clc\n",
"clear\n",
"q=0;\n",
"b=0;\n",
"s=0;\n",
"format('v',18);//increasing the precision to 18 .\n",
"a=4.625;\n",
"d=modulo(a,1);//separating the decimal part and the integer part\n",
"a=floor(a);//removing the decimal part\n",
"while(a>0)//taking integer part into a matrix and converting into equivalent binary\n",
"x=modulo(a,2);\n",
"b=b+(10^q)*x;\n",
"a=a/2;\n",
"a=floor(a);\n",
"q=q+1;\n",
"end\n",
"for i=1:10//for values after decimal point converting into binary\n",
"d=d*2;\n",
"q=floor(d);\n",
"s=s+q/(10^i);\n",
"if d>=1 then\n",
"d=d-1;\n",
"end\n",
"end\n",
"k=b+s;\n",
"printf ('The binary equivalent of 4.625 is = %f' ,k);"
   ]
   }
,
{
		   "cell_type": "markdown",
		   "metadata": {},
		   "source": [
			"## Example 17.17_5: To_find_the_equivalent_of_given_number_in_a_code_base_5.sce"
		   ]
		  },
  {
"cell_type": "code",
	   "execution_count": null,
	   "metadata": {
	    "collapsed": true
	   },
	   "outputs": [],
"source": [
"//scilab 5.4.1\n",
"//Windows 7 operating system\n",
"//chapter 17 Number Systems,Boolean Algebra,and Digital Circuits\n",
"clc\n",
"clear\n",
"dec=263\n",
"base=5\n",
"s=dec2base(dec,base)\n",
"disp(,s,'Equivalent of 263 in a code base 5 is ')"
   ]
   }
,
{
		   "cell_type": "markdown",
		   "metadata": {},
		   "source": [
			"## Example 17.17_6: To_perform_binary_addition_corresponding_to_decimal_addition.sce"
		   ]
		  },
  {
"cell_type": "code",
	   "execution_count": null,
	   "metadata": {
	    "collapsed": true
	   },
	   "outputs": [],
"source": [
"//scilab 5.4.1\n",
"//Windows 7 operating system\n",
"//chapter 17 Number Systems,Boolean Algebra,and Digital Circuits\n",
"clc\n",
"clear\n",
"x=2\n",
"s=x+x\n",
"s1=dec2bin(s)\n",
"disp(,s1,'Binary addition corresponding to decimal addition 2+2 is ')"
   ]
   }
,
{
		   "cell_type": "markdown",
		   "metadata": {},
		   "source": [
			"## Example 17.17_7: To_perform_binary_addition_and_also_to_show_the_corresponding_decimal_addition.sce"
		   ]
		  },
  {
"cell_type": "code",
	   "execution_count": null,
	   "metadata": {
	    "collapsed": true
	   },
	   "outputs": [],
"source": [
"//scilab 5.4.1\n",
"//Windows 7 operating system\n",
"//chapter 17 Number Systems,Boolean Algebra,and Digital Circuits\n",
"clc\n",
"clear\n",
"x='11111'\n",
"y='1011'\n",
"z='101'\n",
"w='10'\n",
"v='1'\n",
"s1=bin2dec(x)\n",
"s2=bin2dec(y)\n",
"s3=bin2dec(z)\n",
"s4=bin2dec(w)\n",
"s5=bin2dec(v)\n",
"a=s1+s2+s3+s4+s5\n",
"b=dec2bin(a)\n",
"disp(,b,'Binary addition of 11111+1011+101+10+1 is ')\n",
"disp(,a,'Decimal equivalent corresponding to above binary addition is ')"
   ]
   }
,
{
		   "cell_type": "markdown",
		   "metadata": {},
		   "source": [
			"## Example 17.17_8: To_perform_the_binary_subtraction.sce"
		   ]
		  },
  {
"cell_type": "code",
	   "execution_count": null,
	   "metadata": {
	    "collapsed": true
	   },
	   "outputs": [],
"source": [
"//scilab 5.4.1\n",
"//Windows 7 operating system\n",
"//chapter 17 Number Systems,Boolean Algebra,and Digital Circuits\n",
"clc\n",
"clear\n",
"x='1101'\n",
"y='111'\n",
"s1=bin2dec(x)\n",
"s2=bin2dec(y)\n",
"a=s1-s2\n",
"s=dec2bin(a)\n",
"disp(,s,'Binary subtraction 1101-111 is =')"
   ]
   }
,
{
		   "cell_type": "markdown",
		   "metadata": {},
		   "source": [
			"## Example 17.17_9: EX17_17_9.sce"
		   ]
		  },
  {
"cell_type": "code",
	   "execution_count": null,
	   "metadata": {
	    "collapsed": true
	   },
	   "outputs": [],
"source": [
"//scilab 5.4.1\n",
"//Windows 7 operating system\n",
"//chapter 17 Number Systems,Boolean Algebra,and Digital Circuits\n",
"clc\n",
"clear\n",
"hFE=30//hFE=dc current gain of given silicon transistor\n",
"VBE=0.8//VBE=base-emitter voltage drop at saturation\n",
"VCE=0.2//VCE=collector-emitter voltage drop at saturation\n",
"R1=15*1000//resistance at the base side of the transistor in ohms\n",
"R2=100*1000//another resistance at the base side of the transistor in ohms\n",
"RL=2*1000//load resistance at the collector side of the transistor in ohms\n",
"VCC=10//VCC=collector supply voltage\n",
"VBB=-10//VBB=base supply voltage\n",
"//If the input level is 0 volt i e vi=0,the open-circuited base voltage is given as\n",
"VB=VBB*(R1/(R1+R2))\n",
"disp('For input level 0 V:')\n",
"disp('As a bias of approximately 0 V is sufficient to cut off a silicon emitter junction ,it follows that transistor is cut off when vi=0')\n",
"disp('V',VCC,'When vi=0,the output voltage is vo=VCC=')\n",
"disp('This indicates that the output is in state 1 when the input is in state 0')\n",
"//When the input level is 10 volt i e vi=10, we have to show that the transistor is in saturation\n",
"//The minimum base current for saturation is given by iB(min)=iC/hFE\n",
"iC=(VCC-VCE)/RL//collector current when the transistor saturates\n",
"iB=iC/hFE//iB=iB(min)=minimum base current for saturation in mA\n",
"i1=(10-VBE)/R1//i1=current through R1 resistor connected at the base side and here vi=10 is taken\n",
"i2=(VBE-VBB)/R2//i2=current through R2 resistor connected at the base side\n",
"iB1=i1-i2//iB1=actual base current\n",
"disp('For input level 10 V:')\n",
"if (iB1>iB) then\n",
"    disp('Since iB>iB(min),it is verified that the transistor is in saturation')//iB indicates actual base current & iB(min) indicates minimum base current for saturation\n",
"    disp('V',VCE,'When vi=10,the output voltage is vo=VCE(sat)=')\n",
"    disp('This indicates that the output is in state 0 when the input is in state 1')\n",
"end\n",
"disp('Overall it has been thus verified that the circuit has performed the NOT operation')"
   ]
   }
],
"metadata": {
		  "kernelspec": {
		   "display_name": "Scilab",
		   "language": "scilab",
		   "name": "scilab"
		  },
		  "language_info": {
		   "file_extension": ".sce",
		   "help_links": [
			{
			 "text": "MetaKernel Magics",
			 "url": "https://github.com/calysto/metakernel/blob/master/metakernel/magics/README.md"
			}
		   ],
		   "mimetype": "text/x-octave",
		   "name": "scilab",
		   "version": "0.7.1"
		  }
		 },
		 "nbformat": 4,
		 "nbformat_minor": 0
}
