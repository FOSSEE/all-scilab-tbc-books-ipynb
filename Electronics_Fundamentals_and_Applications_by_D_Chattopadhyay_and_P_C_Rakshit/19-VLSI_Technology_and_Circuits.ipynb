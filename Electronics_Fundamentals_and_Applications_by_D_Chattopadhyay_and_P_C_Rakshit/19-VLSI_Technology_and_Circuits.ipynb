{
"cells": [
 {
		   "cell_type": "markdown",
	   "metadata": {},
	   "source": [
       "# Chapter 19: VLSI Technology and Circuits"
	   ]
	},
{
		   "cell_type": "markdown",
		   "metadata": {},
		   "source": [
			"## Example 19.29_1: EX19_29_1.sce"
		   ]
		  },
  {
"cell_type": "code",
	   "execution_count": null,
	   "metadata": {
	    "collapsed": true
	   },
	   "outputs": [],
"source": [
"//scilab 5.4.1\n",
"//Windows 7 operating system\n",
"//chapter 19 VLSI Technology and Circuits\n",
"clc\n",
"clear\n",
"ID=50*10^-6//ID=drain current in amperes\n",
"k=25*10^-6//k=ue/D in A/V^2\n",
"VDS=0.25//VDS=drain-to-source voltage\n",
"VGS=5//VGS=gate-to-source voltage\n",
"VTH=1.5//VTH=threshold voltage\n",
"w=ID/(k*(VGS-VTH)*VDS)//w=W/L\n",
"format('v',5)\n",
"disp(w,'W/L=')\n",
"P=VDS*ID//P=power dissipated by the transistor\n",
"disp('micro Watt',P*10^6,'The dissipated power is=')\n",
"VDD=5//VDD=drain supply voltage of given NMOS transistor\n",
"R=(VDD-VDS)/ID//R=load resistor to be connected in series with the drain\n",
"disp('kilo ohm',R/1000,'The load resistance is=')"
   ]
   }
,
{
		   "cell_type": "markdown",
		   "metadata": {},
		   "source": [
			"## Example 19.29_2: To_find_the_pull_up_and_pull_down_aspect_ratio.sce"
		   ]
		  },
  {
"cell_type": "code",
	   "execution_count": null,
	   "metadata": {
	    "collapsed": true
	   },
	   "outputs": [],
"source": [
"//scilab 5.4.1\n",
"//Windows 7 operating system\n",
"//chapter 19 VLSI Technology and Circuits\n",
"clc\n",
"clear\n",
"ID=50*10^-6//ID=drain current in amperes\n",
"k=25*10^-6//k=ue/D in A/V^2\n",
"VDEP=3\n",
"l=(k*((-VDEP)^2))/(2*ID)//l=(L/W)=aspect ratio of the pull-up\n",
"disp(l,'Pull-up (L/W)=')\n",
"VGS=5//VGS=gate-to-source voltage\n",
"VTH=1//VTH=threshold voltage\n",
"VDs=4.75//VDs=the drain source voltage of the depletion mode pull-up in saturation\n",
"VDD=5//VDD=drain supply voltage of given NMOS inverter\n",
"//L/W=(k*(VGS-VTH)*VDS)/ID where L/W=pull down aspect ratio\n",
"l1=(k*(VGS-VTH)*(VDD-VDs))/ID//l1=L/W\n",
"disp(l1,'Pull-down (L/W)=')"
   ]
   }
,
{
		   "cell_type": "markdown",
		   "metadata": {},
		   "source": [
			"## Example 19.29_3: EX19_29_3.sce"
		   ]
		  },
  {
"cell_type": "code",
	   "execution_count": null,
	   "metadata": {
	    "collapsed": true
	   },
	   "outputs": [],
"source": [
"//scilab 5.4.1\n",
"//Windows 7 operating system\n",
"//chapter 19 VLSI Technology and Circuits\n",
"clc\n",
"clear\n",
"w=10//w=W/L value of the NMOS transistor in a CMOS inverter\n",
"un=1350//un=electron mobility for NMOS transistor in cm^2/V s\n",
"up=540//up=electron mobility for PMOS transistor in cm^2/V s\n",
"//(Wpu/Lpu)*up*(VINV-VDD-VTHP)^2=(Wpd/Lpd)*un*(VINV-VTHN)^2\n",
"//For a symmetrical inverter VINV=(VDD/2) and VTHN=(-VTHP)\n",
"//Also for input voltage=VDD/2 both transistors operate in saturation region\n",
"//Therefore,up*(Wpu/Lpu)=un*(Wpd/Lpd)\n",
"w1=(un*w)/up//w1=Wpu/Lpu=W/L value of the PMOS for a symmetrical inverter\n",
"disp(w1,'W/L value of the PMOS transistor in a CMOS inverter is =')"
   ]
   }
,
{
		   "cell_type": "markdown",
		   "metadata": {},
		   "source": [
			"## Example 19.29_4: To_determine_the_maximum_permissible_number_of_fan_outs.sce"
		   ]
		  },
  {
"cell_type": "code",
	   "execution_count": null,
	   "metadata": {
	    "collapsed": true
	   },
	   "outputs": [],
"source": [
"//scilab 5.4.1\n",
"//Windows 7 operating system\n",
"//chapter 19 VLSI Technology and Circuits\n",
"clc\n",
"clear\n",
"f=2*10^9//f=clock frequency in Hz\n",
"VDD=3//VDD=drain supply voltage \n",
"Cl=1*10^-12//C1=load capacitance in Farad\n",
"P=50*10^-3//P=maximum power dissipation capability in W/stage\n",
"N=P/(f*Cl*VDD^2)//N=maximum permissible number of fan outs\n",
"format('v',5)\n",
"disp(N,'N=')\n",
"disp(floor(N),'The maximum permissible number of fan-outs is(integer just below actual value)=')"
   ]
   }
,
{
		   "cell_type": "markdown",
		   "metadata": {},
		   "source": [
			"## Example 19.29_5: To_calculate_the_channel_transit_time.sce"
		   ]
		  },
  {
"cell_type": "code",
	   "execution_count": null,
	   "metadata": {
	    "collapsed": true
	   },
	   "outputs": [],
"source": [
"//scilab 5.4.1\n",
"//Windows 7 operating system\n",
"//chapter 19 VLSI Technology and Circuits\n",
"clc\n",
"clear\n",
"L=3*10^-6//L=length of an NMOS pass transistor in metres\n",
"VDS=0.5//VDS=drain-source voltage\n",
"u=1400*10^-4//u=electron mobility in m^2/V s\n",
"t=L^2/(VDS*u)//t=channel transit time\n",
"format('v',5)\n",
"disp('nanoseconds',t/10^-9,'The transit time is=')"
   ]
   }
,
{
		   "cell_type": "markdown",
		   "metadata": {},
		   "source": [
			"## Example 19.29_6: To_calculate_the_required_metal_line_width.sce"
		   ]
		  },
  {
"cell_type": "code",
	   "execution_count": null,
	   "metadata": {
	    "collapsed": true
	   },
	   "outputs": [],
"source": [
"//scilab 5.4.1\n",
"//Windows 7 operating system\n",
"//chapter 19 VLSI Technology and Circuits\n",
"clc\n",
"clear\n",
"y=2//y=length unit in micrometres\n",
"W=3*y//W=mimimum metal linewidth in micrometres\n",
"disp('micrometres',W,'W=')\n",
"n=80//n=number of driven inverters\n",
"i=0.07//i=average current ratings in milliamperes\n",
"I=n*i//I=total currrent drawn by n inverters\n",
"disp('mA',I,'I=')\n",
"//1mA per micrometre of aluminium line width is the maximum safe average current an aluminium wire can carry.\n",
"disp('This needs a line at least width of')\n",
"disp('micrometres',I)\n",
"if (W>I) then\n",
"    disp('Above calculated minimum metal line-width (W) is thus the safe width of the metal line driving 80 inverters.')\n",
"end\n",
"f=5//f=number of fanout lines\n",
"w=f*W//w=required metal line width\n",
"disp('micrometres',w,'The metal line-width required to supply a fan-out of 5 lines is=')"
   ]
   }
],
"metadata": {
		  "kernelspec": {
		   "display_name": "Scilab",
		   "language": "scilab",
		   "name": "scilab"
		  },
		  "language_info": {
		   "file_extension": ".sce",
		   "help_links": [
			{
			 "text": "MetaKernel Magics",
			 "url": "https://github.com/calysto/metakernel/blob/master/metakernel/magics/README.md"
			}
		   ],
		   "mimetype": "text/x-octave",
		   "name": "scilab",
		   "version": "0.7.1"
		  }
		 },
		 "nbformat": 4,
		 "nbformat_minor": 0
}
