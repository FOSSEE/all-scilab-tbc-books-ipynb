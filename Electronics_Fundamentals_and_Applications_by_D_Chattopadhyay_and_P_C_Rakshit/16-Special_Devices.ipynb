{
"cells": [
 {
		   "cell_type": "markdown",
	   "metadata": {},
	   "source": [
       "# Chapter 16: Special Devices"
	   ]
	},
{
		   "cell_type": "markdown",
		   "metadata": {},
		   "source": [
			"## Example 16.10_1: To_determine_the_time_period_of_the_sawtooth_voltage_across_capacitor_C.sce"
		   ]
		  },
  {
"cell_type": "code",
	   "execution_count": null,
	   "metadata": {
	    "collapsed": true
	   },
	   "outputs": [],
"source": [
"//scilab 5.4.1\n",
"//Windows 7 operating system\n",
"//chapter 16 Special Devices\n",
"clc\n",
"clear\n",
"Vp=15//Vp=firing voltage of a unijunction transistor in Volts\n",
"VBB=40//VBB=source voltage in Volts\n",
"n=(Vp/VBB)//n=intrinsic stand-off ratio\n",
"disp(n,'The intrinsic stand-off ratio is ')\n",
"R=50*(10^3)//R=resistance in ohms\n",
"C=2000*(10^-12)//c=capacitance in farad\n",
"T=(R*C*log(1/(1-n)))*(10^6)//T=time period of the sawtooth voltage across C\n",
"format('v',7)\n",
"disp('microseconds',T,'The time period is ')"
   ]
   }
],
"metadata": {
		  "kernelspec": {
		   "display_name": "Scilab",
		   "language": "scilab",
		   "name": "scilab"
		  },
		  "language_info": {
		   "file_extension": ".sce",
		   "help_links": [
			{
			 "text": "MetaKernel Magics",
			 "url": "https://github.com/calysto/metakernel/blob/master/metakernel/magics/README.md"
			}
		   ],
		   "mimetype": "text/x-octave",
		   "name": "scilab",
		   "version": "0.7.1"
		  }
		 },
		 "nbformat": 4,
		 "nbformat_minor": 0
}
