{
"cells": [
 {
		   "cell_type": "markdown",
	   "metadata": {},
	   "source": [
       "# Chapter 20: Cathode Ray Oscilloscope"
	   ]
	},
{
		   "cell_type": "markdown",
		   "metadata": {},
		   "source": [
			"## Example 20.9_1: EX20_9_1.sce"
		   ]
		  },
  {
"cell_type": "code",
	   "execution_count": null,
	   "metadata": {
	    "collapsed": true
	   },
	   "outputs": [],
"source": [
"//scilab 5.4.1\n",
"//Windows 7 operating system\n",
"//chapter 20 Cathode Ray Oscilloscope\n",
"clc\n",
"clear\n",
"e=1.6*10^-19//e=charge of an electron\n",
"Va=1000//Va=potential difference in volts\n",
"m=9.11*10^-31//m=mass of an electron\n",
"v=sqrt((2*e*Va)/m)//v=axial velocity of an electron\n",
"l=2*10^-2//l=axial length of deflecting plates in metre\n",
"t=l/v//t=transit time of the beam through the deflecting plates\n",
"format('v',9)\n",
"disp('s',t,'The transit time is =')\n",
"Vd=20//Vd=potential difference applied between the deflecting plates in volts\n",
"s=5*10^-3//s=separation between the plates in metre\n",
"ta=(e*Vd)/(s*m)//ta=the traverse acceleration imparted to the electrons by the deflecting voltage\n",
"format('v',10)\n",
"disp('m/s^2',ta,'Traverse acceleration is =')\n",
"L=25*10^-2//L=distance of the CRT screen from the centre of the deflecting plates in metre\n",
"d=(l*L*Vd)/(2*s*Va)//d=deflection of the spot on the CRT screen\n",
"format('v',13)\n",
"disp('cm',d*100,'Spot deflection is =')//d is converted in terms of cm\n",
"S=d/Vd//S=deflection sensitivity\n",
"format('v',10)\n",
"disp('mm/V',S/10^-3,'Deflection sensitivity is =')//S is converted in terms of mm/V"
   ]
   }
,
{
		   "cell_type": "markdown",
		   "metadata": {},
		   "source": [
			"## Example 20.9_2: To_calculate_the_highest_frequency_of_the_deflecting_voltage.sce"
		   ]
		  },
  {
"cell_type": "code",
	   "execution_count": null,
	   "metadata": {
	    "collapsed": true
	   },
	   "outputs": [],
"source": [
"//scilab 5.4.1\n",
"//Windows 7 operating system\n",
"//chapter 20 Cathode Ray Oscilloscope\n",
"clc\n",
"clear\n",
"e=1.6*10^-19//e=charge of an electron\n",
"Va=1000//Va=potential difference in volts\n",
"m=9.11*10^-31//m=mass of an electron\n",
"v=sqrt((2*e*Va)/m)//v=axial velocity of an electron\n",
"l=1.5*10^-2//l=axial length of deflecting plates in metre\n",
"t=l/v//t=transit time of the beam through the deflecting plates\n",
"//T=time period of the sinusoidal deflecting voltage \n",
"//tmax=maximum transit time\n",
"//(0.1/360)*T=tmax,since 1 cycle corresponds to 360 degrees\n",
"T=(t*360)/0.1\n",
"f=1/T//f=highest frequency of the deflecting voltage\n",
"format('v',5)\n",
"disp('kHz',f/1000,'The highest frequency of the deflecting voltage is =')"
   ]
   }
,
{
		   "cell_type": "markdown",
		   "metadata": {},
		   "source": [
			"## Example 20.9_3: To_find_the_deflection_of_the_spot_and_the_magnetic_deflection_sensitivity.sce"
		   ]
		  },
  {
"cell_type": "code",
	   "execution_count": null,
	   "metadata": {
	    "collapsed": true
	   },
	   "outputs": [],
"source": [
"//scilab 5.4.1\n",
"//Windows 7 operating system\n",
"//chapter 20 Cathode Ray Oscilloscope\n",
"clc\n",
"clear\n",
"V=1000//V=potential difference in volts\n",
"//B=150 gauss (given)\n",
"B=1.5*10^-2//B=magnetic field in tesla\n",
"l=1*10^-2//l=axial length of deflecting plates in metre\n",
"L1=20*10^-2//L1=(L+(l/2))=distance of the fluorescent screen from the centre of the deflection system in metre\n",
"e=1.6*10^-19//e=charge of an electron\n",
"m=9.11*10^-31//m=mass of an electron\n",
"d=B*sqrt(e/(2*V*m))*l*L1//d=deflection of the spot \n",
"format('v',5)\n",
"disp('cm',d*100,'The deflection of the spot is=')\n",
"Sm=d/B//Sm=magnetic deflection sensitivity\n",
"format('v',5)\n",
"disp('mm/gauss',Sm/10,'The magnetic deflection sensitivity is=')"
   ]
   }
,
{
		   "cell_type": "markdown",
		   "metadata": {},
		   "source": [
			"## Example 20.9_4: To_calculate_the_frequency_of_the_signal.sce"
		   ]
		  },
  {
"cell_type": "code",
	   "execution_count": null,
	   "metadata": {
	    "collapsed": true
	   },
	   "outputs": [],
"source": [
"//scilab 5.4.1\n",
"//Windows 7 operating system\n",
"//chapter 20 Cathode Ray Oscilloscope\n",
"clc\n",
"clear\n",
"sw=10//sw=sweep width in cm\n",
"n=5/2//n=number of cycles given by vertical deflection plates\n",
"c=sw/n//c=centimetres occupied by one cycle of signal\n",
"ct=0.1//ct=calibrated time base of CRO in ms/cm\n",
"t=ct*c//t=time interval corresponding to centimetres occupied by one cycle of signal\n",
"T=t/5//T=time period of the signal,since the scale is 5 times magnified\n",
"f=1/T//f=frequency of the signal\n",
"disp('kHz',f,'The frequency of the signal is =')"
   ]
   }
,
{
		   "cell_type": "markdown",
		   "metadata": {},
		   "source": [
			"## Example 20.9_5: To_find_the_frequency_of_the_vertical_signal.sce"
		   ]
		  },
  {
"cell_type": "code",
	   "execution_count": null,
	   "metadata": {
	    "collapsed": true
	   },
	   "outputs": [],
"source": [
"//scilab 5.4.1\n",
"//Windows 7 operating system\n",
"//chapter 20 Cathode Ray Oscilloscope\n",
"clc\n",
"clear\n",
"//Let fv=frequency of the vertical signals in kHz\n",
"//fh=frequency of the horizontal signals \n",
"//Number of horizontal tangencies=nh\n",
"//Number of vertical tangencies=nv\n",
"//fv/fh=nh/nv\n",
"fh=1\n",
"nh=3\n",
"nv=4\n",
"fv=(nh/nv)*fh\n",
"disp('Hz',fv*1000,'The frequency of the vertical signal is =')\n",
""
   ]
   }
,
{
		   "cell_type": "markdown",
		   "metadata": {},
		   "source": [
			"## Example 20.9_6: To_find_the_phase_difference_between_the_voltages.sce"
		   ]
		  },
  {
"cell_type": "code",
	   "execution_count": null,
	   "metadata": {
	    "collapsed": true
	   },
	   "outputs": [],
"source": [
"//scilab 5.4.1\n",
"//Windows 7 operating system\n",
"//chapter 20 Cathode Ray Oscilloscope\n",
"clc\n",
"clear\n",
"//slope of the major axis is negative (given)\n",
"A=2.6//A=The maximum y-displacement\n",
"vyo=1.1//vyo=the vertical displacement\n",
"sino=(vyo/A)//o=phase difference between the two voltages\n",
"x=asind(sino)\n",
"disp('As the major axis of the ellipse has a negative slope,phase difference between the two voltages must lie between 90 degree and 180 degree')\n",
"disp('degree',180-x,'Therefore,phase difference between the voltages is =')"
   ]
   }
],
"metadata": {
		  "kernelspec": {
		   "display_name": "Scilab",
		   "language": "scilab",
		   "name": "scilab"
		  },
		  "language_info": {
		   "file_extension": ".sce",
		   "help_links": [
			{
			 "text": "MetaKernel Magics",
			 "url": "https://github.com/calysto/metakernel/blob/master/metakernel/magics/README.md"
			}
		   ],
		   "mimetype": "text/x-octave",
		   "name": "scilab",
		   "version": "0.7.1"
		  }
		 },
		 "nbformat": 4,
		 "nbformat_minor": 0
}
