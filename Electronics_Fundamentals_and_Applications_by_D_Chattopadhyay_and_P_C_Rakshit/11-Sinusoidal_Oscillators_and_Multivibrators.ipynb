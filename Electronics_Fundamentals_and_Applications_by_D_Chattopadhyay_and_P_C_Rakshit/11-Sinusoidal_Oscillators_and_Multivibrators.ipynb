{
"cells": [
 {
		   "cell_type": "markdown",
	   "metadata": {},
	   "source": [
       "# Chapter 11: Sinusoidal Oscillators and Multivibrators"
	   ]
	},
{
		   "cell_type": "markdown",
		   "metadata": {},
		   "source": [
			"## Example 11.12_1: To_calculate_the_frequency_of_oscillation_and_mutual_inductance.sce"
		   ]
		  },
  {
"cell_type": "code",
	   "execution_count": null,
	   "metadata": {
	    "collapsed": true
	   },
	   "outputs": [],
"source": [
"//scilab 5.4.1\n",
"//Windows 7 operating system\n",
"//chapter 11 Sinusoidal oscillator and multivibrators\n",
"clc\n",
"clear\n",
"L=50*10^-3//L=primary inductance of a transformer in henry\n",
"C=(200*10^-12)//C=capacitor connected across transformer in farad\n",
"R=50//dc resistance of primary coil in ohm\n",
"hie=2000//hie=input impedance in ohm\n",
"hre=10^(-4)//hre=reverse voltage amplification factor\n",
"hfe=98//hfe=current gain\n",
"hoe=(0.5*10^(-4))//hoe=output impedance in mho\n",
"RB=50000//RB=resistance\n",
"f=1/(2*%pi*sqrt(L*C))//f=frequency of oscillation\n",
"format('v',5)\n",
"g=((hie*hoe)-(hfe*hre))//g=dhe=delta he\n",
"//M=mutual inductance in henry between the transformer primary and the secondary coils for sustained oscillations\n",
"M=((RB/hfe)*((C*R)+(hoe*L)))+((C*R*hie)/hfe)+((L*g)/hfe)\n",
"format('v',5)\n",
"disp('kHz',f/10^3,'Frequency of oscillation is =')//f is converted in terms of kHz\n",
"disp('mH',M/10^-3,'Mutual inductance is =')//M is converted in terms of mH"
   ]
   }
,
{
		   "cell_type": "markdown",
		   "metadata": {},
		   "source": [
			"## Example 11.12_2: To_find_the_values_of_the_inductances.sce"
		   ]
		  },
  {
"cell_type": "code",
	   "execution_count": null,
	   "metadata": {
	    "collapsed": true
	   },
	   "outputs": [],
"source": [
"//scilab 5.4.1\n",
"//Windows 7 operating system\n",
"//chapter 11 Sinusoidal oscillator and multivibrators\n",
"clc\n",
"clear\n",
"//L1 and L2=inductances in henry in a Hartley oscillator\n",
"//Suppose L1=a\n",
"//L2=b\n",
"f=60*10^3//f=frequency in Hz\n",
"C=400*10^(-12)//C=capacitance in Farad\n",
"//Also tuning capacitance varies from 100 pF to 400 pF\n",
"//f=1/(2*%pi*sqrt((L1+L2)*C)) where f=frequency of a Hartley oscillator which varies from 60 kHz to 120 kHz\n",
"//d=L1+L2=a+b\n",
"//d=1/(((2*%pi*f)^2)*C)\n",
"d=1/(((2*%pi*f)^2)*C)//.......(1)\n",
"format('v',10)\n",
"//e=L2/L1=hfe/dhe\n",
"hfe=90//hfe=current gain\n",
"dhe=0.2//dhe=delta he\n",
"e=hfe/dhe//..........(2)\n",
"//From equation (1) and (2)\n",
"//L*x=y\n",
"x=[1 1 ; e -1]\n",
"y=[d ; 0]\n",
"L=inv(x)*y\n",
"format('v',6)\n",
"disp('micro Henry',(L(1))/10^-6,'Inductance L1 is =')//converting L(1) in terms of micro Henry\n",
"disp('mH',(L(2))/10^-3,'Inductance L2 is =')//converting L(2) in terms of mH\n",
""
   ]
   }
,
{
		   "cell_type": "markdown",
		   "metadata": {},
		   "source": [
			"## Example 11.12_3: To_calculate_the_frequency_of_oscillation.sce"
		   ]
		  },
  {
"cell_type": "code",
	   "execution_count": null,
	   "metadata": {
	    "collapsed": true
	   },
	   "outputs": [],
"source": [
"//scilab 5.4.1\n",
"//Windows 7 operating system\n",
"//chapter 11 Sinusoidal oscillator and multivibrators\n",
"clc\n",
"clear\n",
"L=20*10^-3//L=inductance in henry\n",
"C1=(200*10^(-12))//C1=capacitance in farad\n",
"C2=(300*10^(-12))//C2=capacitance in farad\n",
"Cs=((C1*C2)/(C1+C2))\n",
"f=1/(2*%pi*sqrt(L*Cs))\n",
"disp('kHz',f/10^3,'Frequency of oscillation is =')//converting f in terms of kHz"
   ]
   }
,
{
		   "cell_type": "markdown",
		   "metadata": {},
		   "source": [
			"## Example 11.12_4: To_determine_the_frequency_of_oscillation.sce"
		   ]
		  },
  {
"cell_type": "code",
	   "execution_count": null,
	   "metadata": {
	    "collapsed": true
	   },
	   "outputs": [],
"source": [
"//scilab 5.4.1\n",
"//Windows 7 operating system\n",
"//chapter 11 Sinusoidal oscillator and multivibrators\n",
"clc\n",
"clear\n",
"R=4700//R=resistance in a phase-shift oscillator in ohm\n",
"C=(0.01*10^(-6))//C=capacitance in a phase-shift oscillator in farad\n",
"f=1/(2*%pi*sqrt(10)*R*C)\n",
"disp('kHz',f/10^3,'Frequency of oscillation f is =')//converting f in terms of kHz"
   ]
   }
,
{
		   "cell_type": "markdown",
		   "metadata": {},
		   "source": [
			"## Example 11.12_5: EX11_12_5.sce"
		   ]
		  },
  {
"cell_type": "code",
	   "execution_count": null,
	   "metadata": {
	    "collapsed": true
	   },
	   "outputs": [],
"source": [
"//scilab 5.4.1\n",
"//Windows 7 operating system\n",
"//chapter 11 Sinusoidal oscillator and multivibrators\n",
"clc\n",
"clear\n",
"f=30//f=frequency of oscillation of a Wien-bridge oscillator in Hz\n",
"C=(500*10^(-12))//C=capacitance in farad\n",
"//f=1/2*%pi*R*C//R=resistance in ohm\n",
"R=1/(2*%pi*f*C)\n",
"disp('Mega ohms',R/10^6,'Resistance needed to span the frequency range,R=')//converting R in terms of Mega ohms\n",
"//C1=50pF C2=500pF where C1,C2 are variable capacitances in a Wien bridge oscillator\n",
"//ratio of capacitance=(1:10)\n",
"//frequency range is 30 Hz to 300 Hz with R=10.6 Megaohms\n",
"//for the next frequency range from 300 Hz to 3 kHz ,new R=(10.6/10)=1.06 Megaohm\n",
"//for frequency range 3 kHz to 30kHz,R=1.06/10=106 Kilo-ohm\n",
"//So,three values of R are 10.6 Megaohm,1.06 Megaohm,106 Kilo ohm\n",
"A=6//A=gain of amplifier\n",
"//R2/(R1+R2)=(1/3)-(1/A)=(1/3)-(1/6)\n",
"//1+(R1/R2)=6\n",
"//Hence R1/R2=5\n",
"//R3=(R1/R2)\n",
"R3='5:1'\n",
"disp(R3,'The ratio of the resistances in the other arms of the bridge,R1/R2 is =')"
   ]
   }
,
{
		   "cell_type": "markdown",
		   "metadata": {},
		   "source": [
			"## Example 11.12_6: To_find_the_quality_factor_of_the_crystal.sce"
		   ]
		  },
  {
"cell_type": "code",
	   "execution_count": null,
	   "metadata": {
	    "collapsed": true
	   },
	   "outputs": [],
"source": [
"//scilab 5.4.1\n",
"//Windows 7 operating system\n",
"//chapter 11 Sinusoidal oscillator and multivibrators\n",
"clc\n",
"clear\n",
"//Q=Quality factor\n",
"L=3.5//L=inductance in henry\n",
"f=450000//f=frequency in Hz\n",
"R=9050//R=resistance in ohm\n",
"Q=(2*%pi*f*L)/R\n",
"format('v',5)//format() sets the current printing format\n",
"disp(Q,'Quality factor is')"
   ]
   }
],
"metadata": {
		  "kernelspec": {
		   "display_name": "Scilab",
		   "language": "scilab",
		   "name": "scilab"
		  },
		  "language_info": {
		   "file_extension": ".sce",
		   "help_links": [
			{
			 "text": "MetaKernel Magics",
			 "url": "https://github.com/calysto/metakernel/blob/master/metakernel/magics/README.md"
			}
		   ],
		   "mimetype": "text/x-octave",
		   "name": "scilab",
		   "version": "0.7.1"
		  }
		 },
		 "nbformat": 4,
		 "nbformat_minor": 0
}
