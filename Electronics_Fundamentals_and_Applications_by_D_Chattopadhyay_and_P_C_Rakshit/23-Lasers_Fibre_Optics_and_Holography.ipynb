{
"cells": [
 {
		   "cell_type": "markdown",
	   "metadata": {},
	   "source": [
       "# Chapter 23: Lasers Fibre Optics and Holography"
	   ]
	},
{
		   "cell_type": "markdown",
		   "metadata": {},
		   "source": [
			"## Example 23.31_10: EX23_31_10.sce"
		   ]
		  },
  {
"cell_type": "code",
	   "execution_count": null,
	   "metadata": {
	    "collapsed": true
	   },
	   "outputs": [],
"source": [
"//scilab 5.4.1\n",
"//Windows 7 operating system\n",
"//chapter 23 Lasers,Fibre Optics,and Holography\n",
"clc\n",
"clear\n",
"u1=1.55//u1=refractive index of the core of the fibre\n",
"u2=1.50//u2=refractive index of the cladding\n",
"oa=asind(sqrt((u1^2)-(u2^2)))//oa=acceptance angle\n",
"format('v',5)\n",
"disp('degree',oa,'The acceptance angle is =')\n",
"NA=sind(oa)//NA=numerical aperture\n",
"disp(,NA,'NA=')\n",
"oc=asind(u2/u1)//oc=critical angle\n",
"disp('degree',oc,'Critical angle=')\n",
"d=50*10^-6//d=core diameter in meters\n",
"x=d*tand(oc)//x=axial distance traversed by the ray between two consecutive reflections\n",
"n=1/x//n=number of reflections per metre\n",
"disp(,n,'The number of reflections per metre is =')"
   ]
   }
,
{
		   "cell_type": "markdown",
		   "metadata": {},
		   "source": [
			"## Example 23.31_1: To_calculate_the_number_of_photons_emitted_per_second.sce"
		   ]
		  },
  {
"cell_type": "code",
	   "execution_count": null,
	   "metadata": {
	    "collapsed": true
	   },
	   "outputs": [],
"source": [
"//scilab 5.4.1\n",
"//Windows 7 operating system\n",
"//chapter 23 Lasers,Fibre Optics,and Holography\n",
"clc\n",
"clear\n",
"y=630*10^(-9)//y=emitted wavelength in meters\n",
"c=3*10^8//c=velocity of light in free space in m/s\n",
"v=c/y//v=frequency of the emitted radiation\n",
"format('v',9)\n",
"disp('The frequency of the emitted radiation is')\n",
"disp('Hz',v,'v=')\n",
"h=6.62*10^(-34)//h=Planck's constant\n",
"P=1*10^(-3)//P=output power of gas laser(given)\n",
"n=P/(h*v)\n",
"format('v',9)\n",
"disp('s^-1',n,'The number of photons emitted per second is=')"
   ]
   }
,
{
		   "cell_type": "markdown",
		   "metadata": {},
		   "source": [
			"## Example 23.31_2: To_calculate_the_coherence_time_and_the_longitudinal_coherence_length.sce"
		   ]
		  },
  {
"cell_type": "code",
	   "execution_count": null,
	   "metadata": {
	    "collapsed": true
	   },
	   "outputs": [],
"source": [
"//scilab 5.4.1\n",
"//Windows 7 operating system\n",
"//chapter 23 Lasers,Fibre Optics,and Holography\n",
"clc\n",
"clear\n",
"V=500//V=bandwidth of a He-Ne laser in Hz\n",
"t=1/V//t=coherence time\n",
"disp('ms',(t*(10^3)),'The coherence time is =')\n",
"c=3*10^8//c=velocity of light in m/s\n",
"Lc=c/V//Lc=longitudinal coherence length\n",
"disp('km',(Lc/1000),'The longitudinal coherence length is=')"
   ]
   }
,
{
		   "cell_type": "markdown",
		   "metadata": {},
		   "source": [
			"## Example 23.31_3: EX23_31_3.sce"
		   ]
		  },
  {
"cell_type": "code",
	   "execution_count": null,
	   "metadata": {
	    "collapsed": true
	   },
	   "outputs": [],
"source": [
"//scilab 5.4.1\n",
"//Windows 7 operating system\n",
"//chapter 23 Lasers,Fibre Optics,and Holography\n",
"clc\n",
"clear\n",
"//To obtain interference fringes of good visibility the path difference for the central fringe must be an integral multiple of each of the 2 wavelengths.\n",
"//2*d=(n1*y1)=(n2*y2)where y1 & y2 are 2 wave-lengths and d=path difference and n1 and n2 are 2 integers\n",
"//(2*d)*((1/y2)-(1/y1))=(n2-n1)=m where m is another integer\n",
"//Now m=(-2*d*Y)/(y^2)=(2*d*V)/(v*y)=(2*d*V)/c=(2*d)/Lc\n",
"Lc=600//Lc=coherence length in km\n",
"d=(Lc/2)//d=minimum difference between the 2 arms of the Michelson interferometer\n",
"disp('km',d,'The minimum difference between the two arms of the Michelson interferometer is=')\n",
""
   ]
   }
,
{
		   "cell_type": "markdown",
		   "metadata": {},
		   "source": [
			"## Example 23.31_4: EX23_31_4.sce"
		   ]
		  },
  {
"cell_type": "code",
	   "execution_count": null,
	   "metadata": {
	    "collapsed": true
	   },
	   "outputs": [],
"source": [
"//scilab 5.4.1\n",
"//Windows 7 operating system\n",
"//chapter 23 Lasers,Fibre Optics,and Holography\n",
"clc\n",
"clear\n",
"h=6.62*10^(-34)//h=Planck's constant\n",
"v=3*10^8//v=velocity of light(as normal optical source is mentioned) in m/s\n",
"kB=1.38*10^-23//kB=Boltzmann's constant\n",
"T=1000//T=temperature in Kelvin\n",
"w=6000//w=wavelength in Armstrong\n",
"R=(exp((h*v)/(w*(10^-10)*kB*T)))-1//R=the ratio of the number of spontaneous to stimulated transitions\n",
"disp(,R,'R=')\n",
"if (R>1) then\n",
"    \n",
"    disp('As the ratio of the number of spontaneous to stimulated transitions (R) is >> 1 the emission is predominantly due to spontaneous transitions and is thus incoherent')\n",
"end"
   ]
   }
,
{
		   "cell_type": "markdown",
		   "metadata": {},
		   "source": [
			"## Example 23.31_5: To_determine_coherence_time_and_the_coherence_length.sce"
		   ]
		  },
  {
"cell_type": "code",
	   "execution_count": null,
	   "metadata": {
	    "collapsed": true
	   },
	   "outputs": [],
"source": [
"//scilab 5.4.1\n",
"//Windows 7 operating system\n",
"//chapter 23 Lasers,Fibre Optics,and Holography\n",
"clc\n",
"clear\n",
"u=8/(10^14)//u=(V/v)=the short term frequency stability of a He-Ne gas laser \n",
"//v=c/y where c=velocity of light in vacuum  and y=wavelength\n",
"c=3*10^8//c=velocity of light in m/s\n",
"y=1153*10^(-9)//y=emitted wavelength in meters\n",
"V=(u*c)/y\n",
"t=1/V//t=coherence time\n",
"disp('ms',(t*(10^3)),'The coherence time is =')\n",
"format('v',9)\n",
"Lc=c/V//Lc=coherence length\n",
"disp('m',Lc,'The coherence length is=')\n",
"format('v',3)"
   ]
   }
,
{
		   "cell_type": "markdown",
		   "metadata": {},
		   "source": [
			"## Example 23.31_6: To_find_the_line_width_and_the_coherence_length.sce"
		   ]
		  },
  {
"cell_type": "code",
	   "execution_count": null,
	   "metadata": {
	    "collapsed": true
	   },
	   "outputs": [],
"source": [
"//scilab 5.4.1\n",
"//Windows 7 operating system\n",
"//chapter 23 Lasers,Fibre Optics,and Holography\n",
"clc\n",
"clear\n",
"//y0=vacuum wavelength for the frequency v\n",
"//c=(v*y0)\n",
"//The deviation in the wavelength is Y0=(c*V)/(v^2)\n",
"//Y0=((y0^2)*V)/c\n",
"//V being spread in frequency over the linewidth.\n",
"//V=(1/tc)\n",
"c=3*(10^8)//c=velocity of light in m/s\n",
"tc=10^(-8)//tc=coherence time in seconds\n",
"y0=650*(10^(-9))//y0=vacuum wavelength in m\n",
"Y0=(y0^2)/(c*tc)\n",
"format('e',9)\n",
"disp('nm',Y0/(10^-9),'Line width is =')//Y0 is converted in terms of nm\n",
"Lc=c*tc//Lc=coherence length\n",
"format('v',5)\n",
"disp('m',Lc,'The coherence length Lc is=')"
   ]
   }
,
{
		   "cell_type": "markdown",
		   "metadata": {},
		   "source": [
			"## Example 23.31_7: EX23_31_7.sce"
		   ]
		  },
  {
"cell_type": "code",
	   "execution_count": null,
	   "metadata": {
	    "collapsed": true
	   },
	   "outputs": [],
"source": [
"//scilab 5.4.1\n",
"//Windows 7 operating system\n",
"//chapter 23 Lasers,Fibre Optics,and Holography\n",
"clc\n",
"clear\n",
"o=5*10^-5//o=angular spread in radians\n",
"f=10//f=focal length in cm\n",
"D=f*o//D=diameter of the image\n",
"r=(D/2)//r=image radius\n",
"format('v',15)\n",
"disp('cm',r,'The image radius is =')\n",
"a=%pi*(r^2)//a=cross sectional area of the image in cm^2\n",
"P=10*10^-3//P=power in Watts\n",
"PD=P/a//PD=power density\n",
"format('v',10)\n",
"disp('W/cm^2',PD,'Power density is =')\n",
"y=6000*10^-8//y=wavelength in cm\n",
"d=y/o//d=coherent width\n",
"disp('cm',d,'The lateral coherent width is =')"
   ]
   }
,
{
		   "cell_type": "markdown",
		   "metadata": {},
		   "source": [
			"## Example 23.31_8: To_find_the_amount_of_pumping_energy_required_for_transition_from_3s_to_2p.sce"
		   ]
		  },
  {
"cell_type": "code",
	   "execution_count": null,
	   "metadata": {
	    "collapsed": true
	   },
	   "outputs": [],
"source": [
"//scilab 5.4.1\n",
"//Windows 7 operating system\n",
"//chapter 23 Lasers,Fibre Optics,and Holography\n",
"clc\n",
"clear\n",
"h=6.62*10^-34//h=Planck's constant\n",
"c=3*10^8//c=velocity of light in vacuum in m/s\n",
"y=632.8*10^-9//y=emitted wavelength in m\n",
"E=(h*c)/y//E=emitted photon energy in Joules\n",
"e=15.2*10^-19//e=energy of 2p level in Joules\n",
"P=E+e//P=Pumping energy required for transition from 3s to 2p level in a He-Ne laser\n",
"disp('eV',P/(1.6*10^-19),'The desired pumping energy is =')\n",
"format('v',10)"
   ]
   }
,
{
		   "cell_type": "markdown",
		   "metadata": {},
		   "source": [
			"## Example 23.31_9: To_calculate_the_probability_of_stimulated_emissio.sce"
		   ]
		  },
  {
"cell_type": "code",
	   "execution_count": null,
	   "metadata": {
	    "collapsed": true
	   },
	   "outputs": [],
"source": [
"//scilab 5.4.1\n",
"//Windows 7 operating system\n",
"//chapter 23 Lasers,Fibre Optics,and Holography\n",
"clc\n",
"clear\n",
"h=6.62*10^-34//h=Planck's constant\n",
"v=2.4*10^15//v=frequency of emitted radiation in Hz\n",
"c=3*10^8//c=velocity of light in vacuum in m/s\n",
"A21=1/(1.66*10^-8)//A21=mean spontaneous life time\n",
"B21=((c^3)*A21)/(8*%pi*h*(v^3))//B21=probability of stimulated emission\n",
"disp('m^3/(J.s^2)',B21,'The desired probability is =')"
   ]
   }
],
"metadata": {
		  "kernelspec": {
		   "display_name": "Scilab",
		   "language": "scilab",
		   "name": "scilab"
		  },
		  "language_info": {
		   "file_extension": ".sce",
		   "help_links": [
			{
			 "text": "MetaKernel Magics",
			 "url": "https://github.com/calysto/metakernel/blob/master/metakernel/magics/README.md"
			}
		   ],
		   "mimetype": "text/x-octave",
		   "name": "scilab",
		   "version": "0.7.1"
		  }
		 },
		 "nbformat": 4,
		 "nbformat_minor": 0
}
