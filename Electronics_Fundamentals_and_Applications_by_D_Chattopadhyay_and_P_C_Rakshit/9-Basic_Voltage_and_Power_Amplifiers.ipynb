{
"cells": [
 {
		   "cell_type": "markdown",
	   "metadata": {},
	   "source": [
       "# Chapter 9: Basic Voltage and Power Amplifiers"
	   ]
	},
{
		   "cell_type": "markdown",
		   "metadata": {},
		   "source": [
			"## Example 9.12_1: To_determine_the_lower_and_upper_half_power_frequencies.sce"
		   ]
		  },
  {
"cell_type": "code",
	   "execution_count": null,
	   "metadata": {
	    "collapsed": true
	   },
	   "outputs": [],
"source": [
"//scilab 5.4.1\n",
"//Windows 7 operating system\n",
"//chapter 9 Basic Voltage and Power Amplifiers\n",
"clc\n",
"clear\n",
"AVm=120//AVm=mid-band gain of an RC-coupled amplifier\n",
"fm=100//fm=frequency in Hz corresponding to the mid-band gain\n",
"AVl=60//AVl=reduced gain\n",
"AVh=AVl\n",
"f=100*10^3//f=frequency in Hz corresponding to the reduced gain\n",
"//|AVl|=(|AVm|)/sqrt(1+(fl/fm)^2) where fl=lower half power frequency\n",
"fl=sqrt((abs(AVm)/abs(AVl))^2 -1)*fm\n",
"format('v',6)\n",
"disp('Hz',fl,'The lower half-power frequency is =')\n",
"//|AVh|=(|AVm|)/sqrt(1+(f/fh)^2) where fh=upper half power frequency\n",
"fh=f/sqrt((abs(AVm)/abs(AVh))^2 -1)\n",
"format('v',5)\n",
"disp('kHz',fh/10^3,'The upper half-power frequency is =')//fh is converted in terms of kHz"
   ]
   }
,
{
		   "cell_type": "markdown",
		   "metadata": {},
		   "source": [
			"## Example 9.12_2: To_determine_the_lower_and_upper_half_power_frequencies.sce"
		   ]
		  },
  {
"cell_type": "code",
	   "execution_count": null,
	   "metadata": {
	    "collapsed": true
	   },
	   "outputs": [],
"source": [
"//scilab 5.4.1\n",
"//Windows 7 operating system\n",
"//chapter 9 Basic Voltage and Power Amplifiers\n",
"clc\n",
"clear\n",
"//For two identical transistors employed by an RC-coupled amplifier\n",
"hfe=100//hfe=current gain\n",
"hie=2*10^3//hie=input impedance in ohm\n",
"Cob=2*10^-12//Cob=capacitance in farad quoted by the transistor manufacturers\n",
"C=0.4*10^-6//C=coupling capacitance in farad\n",
"RL=8*10^3//RL=load resistance in ohms for each transistor\n",
"CW=10*10^-12//CW=wiring capacitance in farad\n",
"fl=1/(2*%pi*C*(hie+RL))//fl=lower half power frequency\n",
"format('v',5)\n",
"disp('Hz',fl,'The lower half-power frequency is =')\n",
"hfb=-hfe/(1+hfe)//hfb=current gain for common base transistor\n",
"Coc=Cob/(1+hfb)//Coc=transistor collector capacitance in farad\n",
"Cs=Coc+CW//Cs=shunt capacitance in farad\n",
"Ro=(hie*RL)/(hie+RL)//Ro=equivalent resistance of the parallel combination of hie and RL\n",
"fh=1/(2*%pi*Cs*Ro)//fh=upper half power frequency\n",
"format('v',5)\n",
"disp('kHz',fh/10^3,'The upper half-power frequency is =')//fh is converted in terms of kHz"
   ]
   }
,
{
		   "cell_type": "markdown",
		   "metadata": {},
		   "source": [
			"## Example 9.12_3: To_find_the_gain_relative_to_the_mid_frequency_gain.sce"
		   ]
		  },
  {
"cell_type": "code",
	   "execution_count": null,
	   "metadata": {
	    "collapsed": true
	   },
	   "outputs": [],
"source": [
"//scilab 5.4.1\n",
"//Windows 7 operating system\n",
"//chapter 9 Basic Voltage and Power Amplifiers\n",
"clc\n",
"clear\n",
"//AVm=mid-band gain of an RC-coupled amplifier\n",
"fm=60//fm=frequency in Hz corresponding to the mid-band gain\n",
"//AVl=reduced gain\n",
"//AVh=AVl\n",
"f=600*10^3//f=frequency in Hz corresponding to the reduced gain\n",
"fl=30//fl=The lower half-power frequency in Hz\n",
"fh=300*10^3//fh=The upper half-power frequency in Hz\n",
"//|AVl|=(|AVm|)/sqrt(1+(fl/fm)^2)\n",
"//Suppose (AVl/AVm)=a=low frequency gain with respect to the mid frequency gain\n",
"//a=1/sqrt(1+(fl/fm)^2)//a=magnitude of the low frequency gain\n",
"a=1/sqrt(1+(fl/fm)^2)\n",
"format('v',5)\n",
"o=atand(fl/fm)//o=phase angle in degree of the low frequency gain\n",
"format('v',5)\n",
"disp('For the low frequency gain with respect to the mid frequency gain ')\n",
"disp(a,'Magnitude=')\n",
"disp('degree',o,'Phase angle=')\n",
"//|AVh|=(|AVm|)/sqrt(1+(f/fh)^2)\n",
"//Suppose (AVh/AVm)=b=high frequency gain with respect to the mid frequency gain\n",
"//b=1/sqrt(1+(f/fh)^2)//b=magnitude of the high frequency gain\n",
"b=1/sqrt(1+(f/fh)^2)\n",
"format('v',6)\n",
"O=-atand(f/fh)//O=phase angle in degree of the high frequency gain\n",
"format('v',6)\n",
"disp('For the high frequency gain with respect to the mid frequency gain ')\n",
"disp(b,'Magnitude=')\n",
"disp('degree',O,'Phase angle=')\n",
""
   ]
   }
,
{
		   "cell_type": "markdown",
		   "metadata": {},
		   "source": [
			"## Example 9.12_4: To_calculate_the_output_power.sce"
		   ]
		  },
  {
"cell_type": "code",
	   "execution_count": null,
	   "metadata": {
	    "collapsed": true
	   },
	   "outputs": [],
"source": [
"//scilab 5.4.1\n",
"//Windows 7 operating system\n",
"//chapter 9 Basic Voltage and Power Amplifiers\n",
"clc\n",
"clear\n",
"//In a CE class A power amplifier\n",
"RL=12//RL=load resistance in ohms\n",
"n=8//n=primary-to-secondary turns ratio of a transformer\n",
"//Peak-to-peak swing of the signal current is 250mA\n",
"Im=(250*10^-3)/2//Im=ac collector current in Ampere\n",
"RL1=(n^2)*RL//RL1=RL'=resistance reflected to the primary for the resistance RL in presence of an ac signal\n",
"//Pac=(1/2)*Vm*Im where Pac=ac output power\n",
"//Pac=(1/2)*(Im^2)*RL1\n",
"Pac=(1/2)*(Im^2)*RL1\n",
"disp('W',Pac,'The output power is =')"
   ]
   }
,
{
		   "cell_type": "markdown",
		   "metadata": {},
		   "source": [
			"## Example 9.12_5: EX9_12_5.sce"
		   ]
		  },
  {
"cell_type": "code",
	   "execution_count": null,
	   "metadata": {
	    "collapsed": true
	   },
	   "outputs": [],
"source": [
"//scilab 5.4.1\n",
"//Windows 7 operating system\n",
"//chapter 9 Basic Voltage and Power Amplifiers\n",
"clc\n",
"clear\n",
"VCQ=6//VCQ=quiescent collector voltage\n",
"ICQ=50*10^-3//ICQ=quiescent collector current\n",
"VCmin=1\n",
"VCmax=11//VCmin,VCmax=output signal voltage variation\n",
"ICmin=10*10^-3\n",
"ICmax=90*10^-3//ICmin,ICmax=output signal current variation in Ampere\n",
"Ps=VCQ*ICQ//Ps=dc input power to the transistor\n",
"disp('W',Ps,'The dc input power is =')\n",
"Pac=(1/8)*(ICmax-ICmin)*(VCmax-VCmin)//Pac=ac output power delivered to the load\n",
"disp('W',Pac,'The ac output power is =')\n",
"PT=(VCQ*ICQ)-Pac//PT=the collector dissipation\n",
"disp('W',PT,'The collector dissipation is =')\n",
"n=(Pac/Ps)*100//n=the efficiency of the active device\n",
"format('v',5)\n",
"disp('%',n,'The efficiency is =')"
   ]
   }
,
{
		   "cell_type": "markdown",
		   "metadata": {},
		   "source": [
			"## Example 9.12_6: EX9_12_6.sce"
		   ]
		  },
  {
"cell_type": "code",
	   "execution_count": null,
	   "metadata": {
	    "collapsed": true
	   },
	   "outputs": [],
"source": [
"//scilab 5.4.1\n",
"//Windows 7 operating system\n",
"//chapter 9 Basic Voltage and Power Amplifiers\n",
"clc\n",
"clear\n",
"//In a class B push pull circuit\n",
"//Transformer winding resistances are to be ignored\n",
"n=3//n=primary-to-secondary turns ratio of a transformer\n",
"RL=9//RL=load resistance in ohms\n",
"VCC=15//VCC=collector supply voltage\n",
"RL1=((n/2)^2)*RL//RL1=reflected load resistance for one transistor\n",
"Pactot=(VCC^2)/(2*RL1)//Pactot=maximum output power\n",
"format('v',5)\n",
"disp('W',Pactot,'The maximum output power is =')\n",
"Pstot=(2*VCC^2)/(%pi*RL1)//Pstot=the maximum dc power supplied to the two transistors\n",
"format('v',5)\n",
"disp('W',Pstot,'The maximum dc power supplied is =')\n",
"n=(Pactot/Pstot)*100//n=efficiency\n",
"format('v',5)\n",
"disp('%',n,'The efficiency is =')"
   ]
   }
,
{
		   "cell_type": "markdown",
		   "metadata": {},
		   "source": [
			"## Example 9.12_7: EX9_12_7.sce"
		   ]
		  },
  {
"cell_type": "code",
	   "execution_count": null,
	   "metadata": {
	    "collapsed": true
	   },
	   "outputs": [],
"source": [
"//scilab 5.4.1\n",
"//Windows 7 operating system\n",
"//chapter 9 Basic Voltage and Power Amplifiers\n",
"clc\n",
"clear\n",
"//In a single tuned amplifier\n",
"L=120*10^-6//L=inductance in henry\n",
"C=100*10^-12//C=capacitance in farad\n",
"R=10//R=resistance in ohms\n",
"hoe=50*10^-6//hoe=output impedance in mho(or S)\n",
"hfe=100//hfe=current gain\n",
"hie=2.5*10^3//hie=input impedance in ohm\n",
"RT=10*10^3//RT=equivalent resistance of RB and Ri in parallel\n",
"fo=1/(2*%pi*sqrt(L*C))//fo=resonant frequency\n",
"format('v',5)\n",
"disp('MHz',fo/10^6,'The resonant frequency is =')//fo is converted in terms of MHz\n",
"Qo=(1/R)*sqrt(L/C)//Qo=Q-factor of the resonant frequency\n",
"Ro=(Qo^2)*R//Ro=maximum impedance Zm\n",
"Rp=1/(hoe+(1/Ro)+(1/RT))//Rp=equivalent resistance of the parallel combination of Ro,ro and RT\n",
"Qe=(Qo*Rp)/Ro//Qe=effective Q-factor\n",
"B=fo/Qe//B=bandwidth\n",
"format('v',6)\n",
"disp('kHz',B/10^3,'The bandwidth is =')//B is converted in terms of kHz\n",
"AVm=-(hfe*Rp)/hie//AVm=maximum voltage gain\n",
"format('v',6)\n",
"disp(AVm,'The maximum voltage gain is =')"
   ]
   }
,
{
		   "cell_type": "markdown",
		   "metadata": {},
		   "source": [
			"## Example 9.12_8: To_find_out_the_decibel_change_in_the_output_power_level.sce"
		   ]
		  },
  {
"cell_type": "code",
	   "execution_count": null,
	   "metadata": {
	    "collapsed": true
	   },
	   "outputs": [],
"source": [
"//scilab 5.4.1\n",
"//Windows 7 operating system\n",
"//chapter 9 Basic Voltage and Power Amplifiers\n",
"clc\n",
"clear\n",
"V=10//V=voltage at frequency 5kHz\n",
"Vr=7.07//Vr=voltage at frequency 25kHz\n",
"//x=10*log10(P/Pr) where x=change in decibel(dB) of power P from some standard power Pr\n",
"//P=V^2/R=I^2*R \n",
"//Also Pr=Vr^2/R=Ir^2*R\n",
"//x=10*(log10(V/Vr))^2=20*log10(V/Vr)\n",
"x=20*log10(V/Vr)//x=change in decibel(dB) of voltage V from some standard voltage Vr\n",
"format('v',4)\n",
"disp('dB',x,'The decibel change in the output power level is =')"
   ]
   }
,
{
		   "cell_type": "markdown",
		   "metadata": {},
		   "source": [
			"## Example 9.12_9: EX9_12_9.sce"
		   ]
		  },
  {
"cell_type": "code",
	   "execution_count": null,
	   "metadata": {
	    "collapsed": true
	   },
	   "outputs": [],
"source": [
"//scilab 5.4.1\n",
"//Windows 7 operating system\n",
"//chapter 9 Basic Voltage and Power Amplifiers\n",
"clc\n",
"clear\n",
"Vorms=2//Vorms=rms output voltage in the midband region of an amplifier\n",
"Pa=42//Pa=power gain in dB\n",
"Pol=0.4//Pol=power output in W at the lower cut-off frequency 100Hz\n",
"Ri=10^3//Ri=input resistance in ohms\n",
"VOrms=2/sqrt(2)//VOrms=rms output voltage at 100Hz\n",
"format('v',6)\n",
"disp('V',VOrms,'1. The rms output voltage at 100Hz,which is the lower cutoff frequency,is =')\n",
"Po=2*Pol//Po=output power in the midband region\n",
"disp('W',Po,'2. The output power in the midband region is =')\n",
"//Let Pi=input power\n",
"//10*log10(Po/Pi)=Pa\n",
"Pi=Po/(10^(Pa/10))\n",
"//Pi=(Vi^2)/Ri where Vi=rms input voltage\n",
"Vi=sqrt(Pi*Ri)\n",
"format('v',7)\n",
"disp('V',Vi,'3. The rms input voltage is =')\n",
""
   ]
   }
],
"metadata": {
		  "kernelspec": {
		   "display_name": "Scilab",
		   "language": "scilab",
		   "name": "scilab"
		  },
		  "language_info": {
		   "file_extension": ".sce",
		   "help_links": [
			{
			 "text": "MetaKernel Magics",
			 "url": "https://github.com/calysto/metakernel/blob/master/metakernel/magics/README.md"
			}
		   ],
		   "mimetype": "text/x-octave",
		   "name": "scilab",
		   "version": "0.7.1"
		  }
		 },
		 "nbformat": 4,
		 "nbformat_minor": 0
}
