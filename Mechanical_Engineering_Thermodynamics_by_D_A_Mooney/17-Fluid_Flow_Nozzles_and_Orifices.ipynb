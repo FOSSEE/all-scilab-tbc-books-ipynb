{
"cells": [
 {
		   "cell_type": "markdown",
	   "metadata": {},
	   "source": [
       "# Chapter 17: Fluid Flow Nozzles and Orifices"
	   ]
	},
{
		   "cell_type": "markdown",
		   "metadata": {},
		   "source": [
			"## Example 17.1_a: example_1.sce"
		   ]
		  },
  {
"cell_type": "code",
	   "execution_count": null,
	   "metadata": {
	    "collapsed": true
	   },
	   "outputs": [],
"source": [
"clc\n",
"//initialization of varaibles\n",
"w=1 //lb/sec\n",
"v2=36.4\n",
"h1=1279.1 //B/lb\n",
"h2=1091.7 //B/lb\n",
"V1=100 //fps\n",
"//calculations\n",
"a2=w*v2/(sqrt(2*32.2*778*(h1-h2) + V1^2)) //sq ft\n",
"a2=1.705 //sq in\n",
"//results\n",
"printf('Exit area = %.3f sq. in',a2)"
   ]
   }
,
{
		   "cell_type": "markdown",
		   "metadata": {},
		   "source": [
			"## Example 17.1_b: example_2.sce"
		   ]
		  },
  {
"cell_type": "code",
	   "execution_count": null,
	   "metadata": {
	    "collapsed": true
	   },
	   "outputs": [],
"source": [
"clc\n",
"//initialization of varaibles\n",
"k=1.3\n",
"P=100 //psia\n",
"//calculations\n",
"Pratio=(2/(k+1))^(k/(k-1))\n",
"Pt=Pratio*P\n",
"disp('From table 3,')\n",
"ht=1221.5 //B/lb\n",
"vt=8.841 //cu ft/lb\n",
"at=w*vt/1700\n",
"//results\n",
"printf('Throat area = %.4f sq ft',at)"
   ]
   }
,
{
		   "cell_type": "markdown",
		   "metadata": {},
		   "source": [
			"## Example 17.2: example_2.sce"
		   ]
		  },
  {
"cell_type": "code",
	   "execution_count": null,
	   "metadata": {
	    "collapsed": true
	   },
	   "outputs": [],
"source": [
"clc\n",
"//initialization of varaibles\n",
"k=1.3\n",
"P=250 //psia\n",
"h0=1263.4 //B/lb\n",
"w=10000\n",
"cv=0.949\n",
"vts=3.415 //cu ft/lb\n",
"//calculations\n",
"Pratio=(2/(k+1))^(k/(k-1))\n",
"Pt=Pratio*P\n",
"hts=1208.2 //B/lb\n",
"h2s=891 //B/lb\n",
"Vts=sqrt(2*32.2*778*(h0-hts))\n",
"w=w/3600 //lb/sec\n",
"at=w*vts/(Vts)\n",
"V2=cv*sqrt(2*32.2*778*(h0-h2s))\n",
"etan=cv^2\n",
"h2=928 //B/lb\n",
"disp('From table 3,')\n",
"v2=276 //cu ft/lb\n",
"a2=w*v2/V2\n",
"a2s=0.17 //ft^2\n",
"Cw=0.98\n",
"at2=at/Cw\n",
"//results\n",
"printf('\n Throat area = %.5f ft^2',at)\n",
"printf('\n Exit area = %.3f ft^2',a2)\n",
"printf('\n For frictionless nozzle = %.3f ft^2',a2s)\n",
"printf('\n Changed throat area = %.5f ft^2 and exit area is unchanged',at2)"
   ]
   }
,
{
		   "cell_type": "markdown",
		   "metadata": {},
		   "source": [
			"## Example 17.3_a: example_4.sce"
		   ]
		  },
  {
"cell_type": "code",
	   "execution_count": null,
	   "metadata": {
	    "collapsed": true
	   },
	   "outputs": [],
"source": [
"clc\n",
"//initialization of varaibles\n",
"w=1 //lb/sec\n",
"Pratio=0.53\n",
"k=1.4\n",
"T0=800 //R\n",
"cp=0.24\n",
"P0=150 //psia\n",
"P2=15 //psia\n",
"//calculations\n",
"Pt=Pratio*P0\n",
"Tratio=(Pratio)^((k-1)/k)\n",
"Tts=T0*Tratio\n",
"Vts=sqrt(2*32.2*778*cp*(T0-Tts))\n",
"vts=53.34*Tts/(Pt*144)\n",
"at=w*vts/(Vts)\n",
"T2s=T0*(Pt/P0)^((k-1)/k)\n",
"T2=460 //R\n",
"V2=sqrt(2*32.2*cp*778*(T0-T2))\n",
"v2=53.34*T2/(144*P2)\n",
"a2=w*v2/V2\n",
"//results\n",
"printf('Exit velocity = %d fps',Vts)\n",
"printf('\n Throat area = %.5f ft^2',at)\n",
"printf('\n Exit area = %.5f ft^2',a2)"
   ]
   }
,
{
		   "cell_type": "markdown",
		   "metadata": {},
		   "source": [
			"## Example 17.3_b: example_5.sce"
		   ]
		  },
  {
"cell_type": "code",
	   "execution_count": null,
	   "metadata": {
	    "collapsed": true
	   },
	   "outputs": [],
"source": [
"clc\n",
"//initialization of varaibles\n",
"h0=191.81 //B/lb\n",
"Pr0=5.526\n",
"w=1 //lb/sec\n",
"Pratio=0.53\n",
"k=1.4\n",
"T0=800 //R\n",
"cp=0.24\n",
"P0=150 //psia\n",
"P2=15 //psia\n",
"//calculations\n",
"Prt=Pratio*Pr0\n",
"disp('From keenan and kaye steam tables,')\n",
"Pr=2.929\n",
"Tts=668 //R\n",
"hts=159.9 //B/lb\n",
"Vts=sqrt(2*32.2*778*(h0-hts))\n",
"vts=53.34*Tts/(Pt*144)\n",
"at=w*vts/(Vts)\n",
"Pr2=P2*Pr0/P0\n",
"T2s=415 //R\n",
"h2s=99.13 //B/lb\n",
"h2=110.25 //B/lb\n",
"T2=462 //R\n",
"V2=sqrt(2*32.2*778*(h0-h2))\n",
"v2=53.34*T2/(144*P2)\n",
"a2=w*v2/V2\n",
"//results\n",
"printf('Exit velocity = %d fps',Vts)\n",
"printf('\n Throat area = %.5f ft^2',at)\n",
"printf('\n Exit area = %.5f ft^2',a2)"
   ]
   }
],
"metadata": {
		  "kernelspec": {
		   "display_name": "Scilab",
		   "language": "scilab",
		   "name": "scilab"
		  },
		  "language_info": {
		   "file_extension": ".sce",
		   "help_links": [
			{
			 "text": "MetaKernel Magics",
			 "url": "https://github.com/calysto/metakernel/blob/master/metakernel/magics/README.md"
			}
		   ],
		   "mimetype": "text/x-octave",
		   "name": "scilab",
		   "version": "0.7.1"
		  }
		 },
		 "nbformat": 4,
		 "nbformat_minor": 0
}
