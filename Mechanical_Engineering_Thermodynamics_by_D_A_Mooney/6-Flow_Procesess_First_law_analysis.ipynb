{
"cells": [
 {
		   "cell_type": "markdown",
	   "metadata": {},
	   "source": [
       "# Chapter 6: Flow Procesess First law analysis"
	   ]
	},
{
		   "cell_type": "markdown",
		   "metadata": {},
		   "source": [
			"## Example 6.1: example_1.sce"
		   ]
		  },
  {
"cell_type": "code",
	   "execution_count": null,
	   "metadata": {
	    "collapsed": true
	   },
	   "outputs": [],
"source": [
"clc\n",
"//initialization of varaibles\n",
"u1=1111.9 //Btu/lb\n",
"P1=170 //psia\n",
"v1=2.675 //cu ft/lb\n",
"v2=100.9 //cu ft/lb\n",
"z1=10 //ft\n",
"V1=6000/60 //ft/sec\n",
"Q=-1000\n",
"u2=914.6 //B/lb\n",
"P2=3 //psia\n",
"V2=300 //ft/sec\n",
"rate=2500  //lb/hr\n",
"//calculations\n",
"Wx=rate*(u1-u2 + (P1*v1-P2*v2)*144/778 +(V1^2 -V2^2)/(2*32.2*778) +z1/778 +Q/rate)\n",
"f=3.92*10^-4\n",
"//results\n",
"printf('Power output of turbine = %d B/hr',Wx)\n",
"printf('\n Power output in hp = %d hp',Wx*f+1)"
   ]
   }
,
{
		   "cell_type": "markdown",
		   "metadata": {},
		   "source": [
			"## Example 6.2: example_2.sce"
		   ]
		  },
  {
"cell_type": "code",
	   "execution_count": null,
	   "metadata": {
	    "collapsed": true
	   },
	   "outputs": [],
"source": [
"clc\n",
"//initialization of varaibles\n",
"w1=500              //lb/min\n",
"h1=132.9            //lb/min\n",
"h2=1150             //B/lb\n",
"h3=180              //B/lb\n",
"//calculations\n",
"w2=(w1*h1-w1*h3)/(h3-h2)\n",
"//results\n",
"printf('Flow rate = %.1f lb/min',w2)"
   ]
   }
,
{
		   "cell_type": "markdown",
		   "metadata": {},
		   "source": [
			"## Example 6.3: example_3.sce"
		   ]
		  },
  {
"cell_type": "code",
	   "execution_count": null,
	   "metadata": {
	    "collapsed": true
	   },
	   "outputs": [],
"source": [
"clc\n",
"//initialization of varaibles\n",
"v2=5.434        //cu ft/lb\n",
"v1=4.937        //cu ft/lb\n",
"h1=1227.6\n",
"h2=1223.9\n",
"A1=%pi/144\n",
"//calculations\n",
"Vratio=v2/v1\n",
"V1=sqrt(64.4*(h1-h2)*778/(Vratio^2 -1))\n",
"V2=V1*Vratio\n",
"w=A1*V1/v1\n",
"//results\n",
"printf('Average velocity at 1 = %d fps',V1)\n",
"printf('\n Average velocity at 2 = %d fps',V2)\n",
"printf('\n Rate of flow = %.2f lb/sec',w)"
   ]
   }
],
"metadata": {
		  "kernelspec": {
		   "display_name": "Scilab",
		   "language": "scilab",
		   "name": "scilab"
		  },
		  "language_info": {
		   "file_extension": ".sce",
		   "help_links": [
			{
			 "text": "MetaKernel Magics",
			 "url": "https://github.com/calysto/metakernel/blob/master/metakernel/magics/README.md"
			}
		   ],
		   "mimetype": "text/x-octave",
		   "name": "scilab",
		   "version": "0.7.1"
		  }
		 },
		 "nbformat": 4,
		 "nbformat_minor": 0
}
