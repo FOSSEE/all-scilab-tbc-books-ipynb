{
"cells": [
 {
		   "cell_type": "markdown",
	   "metadata": {},
	   "source": [
       "# Chapter 3: Temperature and Heat"
	   ]
	},
{
		   "cell_type": "markdown",
		   "metadata": {},
		   "source": [
			"## Example 3.1: example_1.sce"
		   ]
		  },
  {
"cell_type": "code",
	   "execution_count": null,
	   "metadata": {
	    "collapsed": true
	   },
	   "outputs": [],
"source": [
"clc\n",
"//Initialization of variables\n",
"T1=500 //F\n",
"T2=100 //F\n",
"Tf=75 //F\n",
"cpi=0.120 //B/lb F\n",
"cpw=1.0 //B/lb F\n",
"//calculations\n",
"Qw=1*cpw*(T2-Tf)\n",
"Qi=-1*cpi*(T2-T1)\n",
"mw=Qi/Qw\n",
"//results\n",
"printf('Mass of water = %.2f lb water/lb iron',mw)"
   ]
   }
,
{
		   "cell_type": "markdown",
		   "metadata": {},
		   "source": [
			"## Example 3.2: example_2.sce"
		   ]
		  },
  {
"cell_type": "code",
	   "execution_count": null,
	   "metadata": {
	    "collapsed": true
	   },
	   "outputs": [],
"source": [
"clc\n",
"//Initialization of variables\n",
"m=5 //lb\n",
"T1=1540+460  //R\n",
"T2=540+460  //R\n",
"//calculations\n",
"function [cp]=q(T)\n",
"    cp=m*(0.248+0.448*10^-8 *T^2)\n",
"endfunction\n",
"Q=intg(T1,T2,q)\n",
"//results\n",
"printf('Heat transferred = %d Btu',Q)"
   ]
   }
,
{
		   "cell_type": "markdown",
		   "metadata": {},
		   "source": [
			"## Example 3.3: example_3.sce"
		   ]
		  },
  {
"cell_type": "code",
	   "execution_count": null,
	   "metadata": {
	    "collapsed": true
	   },
	   "outputs": [],
"source": [
"clc\n",
"//Initialization of variables\n",
"Tm=235 //F\n",
"Tb=832 //F\n",
"T=70 //F\n",
"cps=0.18 //B/lb F\n",
"cpl=0.235 //B/lb F\n",
"Lf=15.8 //B/lb\n",
"Lv=120 //B/lb\n",
"m=10 //lb\n",
"//calculations\n",
"Qa=m*cps*(Tm-T)\n",
"Qb=m*Lf\n",
"Qc=m*cpl*(Tb-Tm)\n",
"Qd=m*Lv\n",
"Q=Qa+Qb+Qc+Qd\n",
"//results\n",
"printf('Heat required = %d Btu',Q)"
   ]
   }
,
{
		   "cell_type": "markdown",
		   "metadata": {},
		   "source": [
			"## Example 3.4: example_4.sce"
		   ]
		  },
  {
"cell_type": "code",
	   "execution_count": null,
	   "metadata": {
	    "collapsed": true
	   },
	   "outputs": [],
"source": [
"clc\n",
"//Initialization of variables\n",
"T1=22 //F\n",
"T2=32 //F\n",
"T3=40 //F\n",
"T4=70 //F\n",
"cps=0.501 //B/lb F\n",
"cpw=1 //B/lb F\n",
"Lf=143.3 //B/lb\n",
"m=40 //lb\n",
"//calculations\n",
"Qa=cps*(T2-T1)\n",
"Qb=Lf\n",
"Qc=cpw*(T3-T2)\n",
"Qd=m*cpw*(T3-T4)\n",
"mi=-Qd/(Qa+Qb+Qc)\n",
"//results\n",
"printf('Mass of ice required  = %.2f lb ice',mi)"
   ]
   }
,
{
		   "cell_type": "markdown",
		   "metadata": {},
		   "source": [
			"## Example 3.5: example_5.sce"
		   ]
		  },
  {
"cell_type": "code",
	   "execution_count": null,
	   "metadata": {
	    "collapsed": true
	   },
	   "outputs": [],
"source": [
"clc\n",
"//Initialization of variables\n",
"T1=22 //F\n",
"T2=32 //F\n",
"T3=40 //F\n",
"T4=70 //F\n",
"cps=0.501 //B/lb F\n",
"cpw=1 //B/lb F\n",
"Lf=143.3 //B/lb\n",
"m=40 //lb\n",
"cp=0.092\n",
"mc=10\n",
"//calculations\n",
"Qa=cps*(T2-T1)\n",
"Qb=Lf\n",
"Qc=cpw*(T3-T2)\n",
"Qe=mc*cp*(T3-T4)\n",
"mi=-Qe/(Qa+Qb+Qc)\n",
"//results\n",
"printf('Extra Mass of ice required  = %.3f lb ice',mi)\n",
""
   ]
   }
],
"metadata": {
		  "kernelspec": {
		   "display_name": "Scilab",
		   "language": "scilab",
		   "name": "scilab"
		  },
		  "language_info": {
		   "file_extension": ".sce",
		   "help_links": [
			{
			 "text": "MetaKernel Magics",
			 "url": "https://github.com/calysto/metakernel/blob/master/metakernel/magics/README.md"
			}
		   ],
		   "mimetype": "text/x-octave",
		   "name": "scilab",
		   "version": "0.7.1"
		  }
		 },
		 "nbformat": 4,
		 "nbformat_minor": 0
}
