{
"cells": [
 {
		   "cell_type": "markdown",
	   "metadata": {},
	   "source": [
       "# Chapter 8: Basic applications of the second law"
	   ]
	},
{
		   "cell_type": "markdown",
		   "metadata": {},
		   "source": [
			"## Example 8.1: example_1.sce"
		   ]
		  },
  {
"cell_type": "code",
	   "execution_count": null,
	   "metadata": {
	    "collapsed": true
	   },
	   "outputs": [],
"source": [
"clc\n",
"//initialization of varaibles\n",
"T1=85+460 //R\n",
"T2=50+460 //R\n",
"//calculations\n",
"eta=(T1-T2)/T1\n",
"//results\n",
"printf('Max. efficiency = %.1f percent',eta*100)"
   ]
   }
,
{
		   "cell_type": "markdown",
		   "metadata": {},
		   "source": [
			"## Example 8.2: example_2.sce"
		   ]
		  },
  {
"cell_type": "code",
	   "execution_count": null,
	   "metadata": {
	    "collapsed": true
	   },
	   "outputs": [],
"source": [
"clc\n",
"//initialization of varaibles\n",
"T1=1050+460//R\n",
"T2=90+460 //R\n",
"//calculations\n",
"eta=(T1-T2)/T1\n",
"//results\n",
"printf('Max. possible efficiency = %d percent',eta*100)"
   ]
   }
,
{
		   "cell_type": "markdown",
		   "metadata": {},
		   "source": [
			"## Example 8.3: example_3.sce"
		   ]
		  },
  {
"cell_type": "code",
	   "execution_count": null,
	   "metadata": {
	    "collapsed": true
	   },
	   "outputs": [],
"source": [
"clc\n",
"//initialization of varaibles\n",
"T1=50+460 //R\n",
"T2=150+460 //R\n",
"m=1\n",
"cp=0.240\n",
"//calculations\n",
"ds=m*cp*(log(T2) - log(T1))\n",
"//results\n",
"printf('Change in entropy = %.4f B/ F abs',ds)"
   ]
   }
,
{
		   "cell_type": "markdown",
		   "metadata": {},
		   "source": [
			"## Example 8.4: example_4.sce"
		   ]
		  },
  {
"cell_type": "code",
	   "execution_count": null,
	   "metadata": {
	    "collapsed": true
	   },
	   "outputs": [],
"source": [
"clc\n",
"//initialization of varaibles\n",
"T1=50+460 //R\n",
"T2=150+460 //R\n",
"m=1\n",
"cp=0.240\n",
"//calculations\n",
"ds=m*cp*(log(T2) - log(T1))\n",
"//results\n",
"printf('Change in entropy = %.4f B/ F abs',ds)"
   ]
   }
,
{
		   "cell_type": "markdown",
		   "metadata": {},
		   "source": [
			"## Example 8.5: example_5.sce"
		   ]
		  },
  {
"cell_type": "code",
	   "execution_count": null,
	   "metadata": {
	    "collapsed": true
	   },
	   "outputs": [],
"source": [
"clc\n",
"//initialization of varaibles\n",
"Q=826 //B/lb\n",
"T=860 //R\n",
"T1=2000+460 //R\n",
"T2=1000+460 //R\n",
"//calculations\n",
"ds=Q/T\n",
"dsgas=Q*(log(T2)-log(T1))/(T1-T2)\n",
"dst=ds+dsgas\n",
"//results\n",
"printf('Total entropy change = %.3f B/R',dst)"
   ]
   }
,
{
		   "cell_type": "markdown",
		   "metadata": {},
		   "source": [
			"## Example 8.6: example_6.sce"
		   ]
		  },
  {
"cell_type": "code",
	   "execution_count": null,
	   "metadata": {
	    "collapsed": true
	   },
	   "outputs": [],
"source": [
"clc\n",
"//initialization of varaibles\n",
"T0=540 //R\n",
"Q=826 //B/lb\n",
"ds=0.534\n",
"ds2=0.431\n",
"//calculations\n",
"tds=T0*ds\n",
"tds2=T0*ds2\n",
"H=Q-tds2\n",
"Loss=tds/H\n",
"//results\n",
"printf('Loss = %d percent',Loss*100+1)"
   ]
   }
],
"metadata": {
		  "kernelspec": {
		   "display_name": "Scilab",
		   "language": "scilab",
		   "name": "scilab"
		  },
		  "language_info": {
		   "file_extension": ".sce",
		   "help_links": [
			{
			 "text": "MetaKernel Magics",
			 "url": "https://github.com/calysto/metakernel/blob/master/metakernel/magics/README.md"
			}
		   ],
		   "mimetype": "text/x-octave",
		   "name": "scilab",
		   "version": "0.7.1"
		  }
		 },
		 "nbformat": 4,
		 "nbformat_minor": 0
}
