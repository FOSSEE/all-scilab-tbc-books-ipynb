{
"cells": [
 {
		   "cell_type": "markdown",
	   "metadata": {},
	   "source": [
       "# Chapter 24: Refrigeration"
	   ]
	},
{
		   "cell_type": "markdown",
		   "metadata": {},
		   "source": [
			"## Example 24.1: example_1.sce"
		   ]
		  },
  {
"cell_type": "code",
	   "execution_count": null,
	   "metadata": {
	    "collapsed": true
	   },
	   "outputs": [],
"source": [
"clc\n",
"//initialization of varaibles\n",
"disp('From tables,')\n",
"h1=611.8 //B/lb\n",
"h2=704.4 //B/lb\n",
"h3=127.4 //B/lb\n",
"h4=h3\n",
"T2=460 //R\n",
"T1=76+460 //R\n",
"W=10000 //B/hr\n",
"e=0.7\n",
"//calculations\n",
"Qe=h1-h4\n",
"Wc=h2-h1\n",
"CP=Qe/Wc\n",
"CP2=T2/(T1-T2)\n",
"w=W/(Qe*60)\n",
"v1=9.116 //cu ft/lb\n",
"PD=w*v1/(e)\n",
"//results\n",
"printf('Coefficient of performance in case 1 = %.2f',CP)\n",
"printf('\n Coefficient of performance in case 2 = %.2f',CP2)\n",
"printf('\n Piston displacement = %.2f cu ft/min',PD)"
   ]
   }
],
"metadata": {
		  "kernelspec": {
		   "display_name": "Scilab",
		   "language": "scilab",
		   "name": "scilab"
		  },
		  "language_info": {
		   "file_extension": ".sce",
		   "help_links": [
			{
			 "text": "MetaKernel Magics",
			 "url": "https://github.com/calysto/metakernel/blob/master/metakernel/magics/README.md"
			}
		   ],
		   "mimetype": "text/x-octave",
		   "name": "scilab",
		   "version": "0.7.1"
		  }
		 },
		 "nbformat": 4,
		 "nbformat_minor": 0
}
