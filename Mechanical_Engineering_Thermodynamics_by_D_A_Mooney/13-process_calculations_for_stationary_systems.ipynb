{
"cells": [
 {
		   "cell_type": "markdown",
	   "metadata": {},
	   "source": [
       "# Chapter 13: process calculations for stationary systems"
	   ]
	},
{
		   "cell_type": "markdown",
		   "metadata": {},
		   "source": [
			"## Example 13.1_a: example_1.sce"
		   ]
		  },
  {
"cell_type": "code",
	   "execution_count": null,
	   "metadata": {
	    "collapsed": true
	   },
	   "outputs": [],
"source": [
"clc\n",
"//initialization of varaibles\n",
"P1=100 //psia\n",
"T1=500+460 //R\n",
"v=10 //cu ft\n",
"P2=50 //psia\n",
"cv=0.172\n",
"R=53.34\n",
"m=2.81 //lb\n",
"//calculations\n",
"T2=T1*P2/P1\n",
"Q1=P1*144*v*cv*(T2-T1)/(R*T1)\n",
"u1=165.26\n",
"u2=81.77\n",
"du=u2-u1\n",
"Q2=m*du\n",
"//results\n",
"printf('Case 1,')\n",
"printf('\n Final temperature of the steam = %d R',T2)\n",
"printf('\n Heat transferred = %d Btu',Q1+1)\n",
"printf('\n Heat transferred in case 2 = %d Btu',Q2-1)"
   ]
   }
,
{
		   "cell_type": "markdown",
		   "metadata": {},
		   "source": [
			"## Example 13.1_b: example_2.sce"
		   ]
		  },
  {
"cell_type": "code",
	   "execution_count": null,
	   "metadata": {
	    "collapsed": true
	   },
	   "outputs": [],
"source": [
"clc\n",
"//initialization of varaibles\n",
"P1=100 //psia\n",
"T1=500+460 //R\n",
"V=10 //cu ft\n",
"P2=50 //psia\n",
"cv=0.172\n",
"R=53.34\n",
"v=5.589 //cu ft/lb\n",
"//calculations\n",
"m=V/v\n",
"x2=(v-0.017)/8.498\n",
"disp('From table 2,')\n",
"T2=281.01//F\n",
"h1=1279.1\n",
"u1=h1-144*P1*v/778\n",
"uf=249.93\n",
"ufg=845.4\n",
"u2=uf+x2*ufg\n",
"Q=m*(u2-u1)\n",
"//results\n",
"printf('Final temperature = %.2f F',T2)\n",
"printf('\n Heat transferred = %d Btu',Q)"
   ]
   }
,
{
		   "cell_type": "markdown",
		   "metadata": {},
		   "source": [
			"## Example 13.2_a: example_2.sce"
		   ]
		  },
  {
"cell_type": "code",
	   "execution_count": null,
	   "metadata": {
	    "collapsed": true
	   },
	   "outputs": [],
"source": [
"clc\n",
"//initialization of varaibles\n",
"T1=350+460 //R\n",
"v1=6 //cu ft/lb\n",
"m=1 //lb\n",
"R=53.34\n",
"v2=2*v1\n",
"cp=0.24\n",
"//calculations\n",
"P=R*T1/(v1*144)\n",
"W=P*144*(v2-v1)\n",
"T2=T1*v2/v1\n",
"Q=cp*(T2-T1)\n",
"h1=194.25\n",
"h2=401.09\n",
"dh=h2-h1\n",
"//results\n",
"printf('Final temperature = %d F',T2-460)\n",
"printf('\n Enthalpy = %.2f B/lb',dh)\n",
"printf('\n Heat = %d B/lb',Q)"
   ]
   }
,
{
		   "cell_type": "markdown",
		   "metadata": {},
		   "source": [
			"## Example 13.2_b: example_4.sce"
		   ]
		  },
  {
"cell_type": "code",
	   "execution_count": null,
	   "metadata": {
	    "collapsed": true
	   },
	   "outputs": [],
"source": [
"clc\n",
"//initialization of varaibles\n",
"T1=350+460 //R\n",
"v1=6 //cu ft/lb\n",
"m=1 //lb\n",
"R=53.34\n",
"v2=2*v1\n",
"cp=0.24\n",
"//calculations\n",
"disp('From steam tables,')\n",
"vg=3.342 //cu ft/lb\n",
"P1=77.5 //psia\n",
"P2=P1\n",
"h1=1204.8  //B/lb\n",
"v2=2*v1\n",
"T2=1106 //F\n",
"h2=1586.7 //B/lb\n",
"Q=h2-h1\n",
"W=P1*144*(v2-v1)\n",
"//results\n",
"printf('Final temperature = %d F',T2)\n",
"printf('\n Work = %d ft lb/lb',W)\n",
"printf('\n Heat = %.1f B/lb',Q)"
   ]
   }
,
{
		   "cell_type": "markdown",
		   "metadata": {},
		   "source": [
			"## Example 13.3_a: example_5.sce"
		   ]
		  },
  {
"cell_type": "code",
	   "execution_count": null,
	   "metadata": {
	    "collapsed": true
	   },
	   "outputs": [],
"source": [
"clc\n",
"//initialization of varaibles\n",
"T1=400+460 //R\n",
"P1=50 //psia\n",
"ratio=1/10\n",
"R=53.34\n",
"//calculations\n",
"P2=P1/ratio\n",
"W=R*T1*log(ratio)\n",
"du=0\n",
"//results\n",
"printf('Final pressure =  %d psia',P2)\n",
"printf('\n Work done = %.1f B/lb',W)\n",
"printf('\n Change in Internal energy = %d ',du)"
   ]
   }
,
{
		   "cell_type": "markdown",
		   "metadata": {},
		   "source": [
			"## Example 13.3_b: example_6.sce"
		   ]
		  },
  {
"cell_type": "code",
	   "execution_count": null,
	   "metadata": {
	    "collapsed": true
	   },
	   "outputs": [],
"source": [
"clc\n",
"//initialization of varaibles\n",
"T1=400+460 //R\n",
"P1=50 //psia\n",
"ratio=1/10\n",
"R=53.34\n",
"v1=10.065 //cu ft/lb\n",
"vfg=1.8447 //cu ft/lb\n",
"vg=1.8633 //cu ft/lb\n",
"//calculations\n",
"v2=v1*ratio\n",
"dx=(v2-vg)/vfg\n",
"P2=247.3 //psia\n",
"disp('From steam tables,')\n",
"u2=773 //B/lb\n",
"u1=1141.6 //B/lb\n",
"du=u2-u1\n",
"s1=1.7349 //B/lb R\n",
"s2=1.082 //B/lb R\n",
"W=T1*(s2-s1) - du\n",
"//results\n",
"printf('Final pressure =  %.1f psia',P2)\n",
"printf('\n Work done = %d B/lb',W)\n",
"printf('\n Change in Internal energy = %d B/lb ',du)"
   ]
   }
,
{
		   "cell_type": "markdown",
		   "metadata": {},
		   "source": [
			"## Example 13.4_a: example_7.sce"
		   ]
		  },
  {
"cell_type": "code",
	   "execution_count": null,
	   "metadata": {
	    "collapsed": true
	   },
	   "outputs": [],
"source": [
"clc\n",
"//initialization of varaibles\n",
"P1=150 //psia\n",
"T1=400+460 //R\n",
"P2=15 //psia\n",
"g=1.4\n",
"R=53.34\n",
"//calculations\n",
"Tratio=(P2/P1)^((g-1)/g)\n",
"W=53.34*T1*(Tratio-1)/(1-g)\n",
"T2=T1*Tratio\n",
"v2=R*T2/(P2*144)\n",
"u1=147.50\n",
"Pr1=7.149\n",
"Pr2=Pr1*P2/P1\n",
"disp('From tables,')\n",
"Pr=0.7149\n",
"T2=447 //R\n",
"u2=76.13 //B/lb\n",
"W=-(u2-u1)\n",
"v2=R*T2/(P2*144)\n",
"//results\n",
"printf('Final specific volume = %.1f cu ft/lb',v2)\n",
"printf('\n Work per pound of fluid = %.1f B/lb',W)"
   ]
   }
,
{
		   "cell_type": "markdown",
		   "metadata": {},
		   "source": [
			"## Example 13.4_b: example_8.sce"
		   ]
		  },
  {
"cell_type": "code",
	   "execution_count": null,
	   "metadata": {
	    "collapsed": true
	   },
	   "outputs": [],
"source": [
"clc\n",
"//initialization of varaibles\n",
"disp('From Steam tables,')\n",
"h1=1219.4\n",
"P1=150 //psia\n",
"v1=0.59733 //cu ft/lb\n",
"s1=1.5995 //B/lb R\n",
"//calculations\n",
"u1=h1-P1*v1\n",
"sg=1.7549\n",
"sfg=1.4415\n",
"s2=s1\n",
"dx=(sg-s2)/sfg\n",
"u2=981.3\n",
"W=u1-u2\n",
"v2=23.48\n",
"//results\n",
"printf('Final specific volume = %.2f cu ft/lb',v2)\n",
"printf('\n Work per pound of fluid = %.1f B/lb',W)"
   ]
   }
,
{
		   "cell_type": "markdown",
		   "metadata": {},
		   "source": [
			"## Example 13.5_a: example_9.sce"
		   ]
		  },
  {
"cell_type": "code",
	   "execution_count": null,
	   "metadata": {
	    "collapsed": true
	   },
	   "outputs": [],
"source": [
"clc\n",
"//initialization of varaibles\n",
"P1=150 //psia\n",
"T1=400+460 //R\n",
"P2=15  //psia\n",
"n=1.15\n",
"cv=0.172\n",
"R=53.34\n",
"//calculations\n",
"v2=R*T1*(P1/P2)^(1/n) /(P1*144)\n",
"v1=R*T1/(P1*144)\n",
"T2=T1*P2*v2/(P1*v1)\n",
"Q=(cv - 0.458)*(T2-T1)\n",
"//results\n",
"printf('Final specific volume = %.1f cu ft/lb',v2)\n",
"printf('\n Final temperature = %d R',T2)\n",
"printf('\n Heat transferred = %.1f B/lb',Q)"
   ]
   }
,
{
		   "cell_type": "markdown",
		   "metadata": {},
		   "source": [
			"## Example 13.5_b: example_10.sce"
		   ]
		  },
  {
"cell_type": "code",
	   "execution_count": null,
	   "metadata": {
	    "collapsed": true
	   },
	   "outputs": [],
"source": [
"clc\n",
"//initialization of varaibles\n",
"disp('From table 3,')\n",
"v1=3.223 //cu ft/lb\n",
"P1=150 //psia\n",
"T1=400+460 //R\n",
"P2=15  //psia\n",
"n=1.15\n",
"//calculations\n",
"v2=v1*(P1/P2)^(1/n)\n",
"T2=213 //F\n",
"W=144*(P2*v2-P1*v1)*0.00129/(1-n)\n",
"u1=1129.8 //B/lb\n",
"v2=23.9\n",
"vg=26.29\n",
"vfg=26.27\n",
"dx=(vg-v2)/vfg\n",
"u2=996.1\n",
"Q=(u2-u1)+W\n",
"//results\n",
"printf('Final specific volume = %.1f cu ft/lb',v2)\n",
"printf('\n Final temperature = %d F',T2)\n",
"printf('\n Heat transferred = %.1f B/lb',Q)"
   ]
   }
,
{
		   "cell_type": "markdown",
		   "metadata": {},
		   "source": [
			"## Example 13.6_a: example_11.sce"
		   ]
		  },
  {
"cell_type": "code",
	   "execution_count": null,
	   "metadata": {
	    "collapsed": true
	   },
	   "outputs": [],
"source": [
"clc\n",
"//initialization of varaibles\n",
"v2=15.7 //cu ft/lb\n",
"T2=640 //R\n",
"cv=0.172\n",
"T1=400+460 //R\n",
"//calculations\n",
"du=cv*(T2-T1)\n",
"W=-du\n",
"//results\n",
"printf('Final specific volume = %.1f cu ft/lb',v2)\n",
"printf('\n Final temperature = %d ',T2)\n",
"printf('\n Work done = %.1f B/lb',W)"
   ]
   }
,
{
		   "cell_type": "markdown",
		   "metadata": {},
		   "source": [
			"## Example 13.6_b: example_12.sce"
		   ]
		  },
  {
"cell_type": "code",
	   "execution_count": null,
	   "metadata": {
	    "collapsed": true
	   },
	   "outputs": [],
"source": [
"clc\n",
"//initialization of varaibles\n",
"disp('From steam tables,')\n",
"T2=213 //F\n",
"v2=23.9 //cu ft/lb\n",
"W=133.7 //B/lb\n",
"//results\n",
"printf('Final specific volume = %.1f cu ft/lb',v2)\n",
"printf('\n Final temperature = %d ',T2)\n",
"printf('\n Work done = %.1f B/lb',W)"
   ]
   }
],
"metadata": {
		  "kernelspec": {
		   "display_name": "Scilab",
		   "language": "scilab",
		   "name": "scilab"
		  },
		  "language_info": {
		   "file_extension": ".sce",
		   "help_links": [
			{
			 "text": "MetaKernel Magics",
			 "url": "https://github.com/calysto/metakernel/blob/master/metakernel/magics/README.md"
			}
		   ],
		   "mimetype": "text/x-octave",
		   "name": "scilab",
		   "version": "0.7.1"
		  }
		 },
		 "nbformat": 4,
		 "nbformat_minor": 0
}
