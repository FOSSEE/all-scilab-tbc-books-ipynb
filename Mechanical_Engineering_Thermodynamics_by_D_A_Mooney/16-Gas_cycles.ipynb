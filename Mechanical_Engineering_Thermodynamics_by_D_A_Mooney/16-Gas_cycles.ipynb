{
"cells": [
 {
		   "cell_type": "markdown",
	   "metadata": {},
	   "source": [
       "# Chapter 16: Gas cycles"
	   ]
	},
{
		   "cell_type": "markdown",
		   "metadata": {},
		   "source": [
			"## Example 16.1_a: example_1.sce"
		   ]
		  },
  {
"cell_type": "code",
	   "execution_count": null,
	   "metadata": {
	    "collapsed": true
	   },
	   "outputs": [],
"source": [
"clc\n",
"//initialization of varaibles\n",
"Pb=75 //psia\n",
"Pc=15 //psia\n",
"k=1.4\n",
"Td=550 //R\n",
"Tb=1700  //R\n",
"cp=0.24\n",
"//calculations\n",
"disp('Gas law solution')\n",
"Pratio=Pb/Pc\n",
"Ta=Td*(Pratio)^((k-1)/k)\n",
"Tc=Tb/(Pratio)^((k-1)/k)\n",
"Q1=cp*(Tb-Ta)\n",
"Q2=cp*(Tc-Td)\n",
"Wnet=Q1-Q2\n",
"eta=Wnet/Q1\n",
"eta2=1-Td/Ta\n",
"//results\n",
"printf('Efficiency in 1= %.3f',eta)\n",
"printf('\n Efficiency in 2 = %.2f',eta2)\n",
"printf('\n Work per pound of fluid = %d B/lb',Wnet)"
   ]
   }
,
{
		   "cell_type": "markdown",
		   "metadata": {},
		   "source": [
			"## Example 16.1_b: example_2.sce"
		   ]
		  },
  {
"cell_type": "code",
	   "execution_count": null,
	   "metadata": {
	    "collapsed": true
	   },
	   "outputs": [],
"source": [
"clc\n",
"//initialization of variables\n",
"Pb=75 //psia\n",
"Pc=15 //psia\n",
"k=1.4\n",
"Td=550 //R\n",
"Tb=1700  //R\n",
"cp=0.24\n",
"//calculations\n",
"Prd=1.4779\n",
"hd=131.46 //B/lb\n",
"Prb=90.95\n",
"hb=422.59 //B/lb\n",
"Pratio=Pb/Pc\n",
"Pra=Pratio*(Prd)\n",
"Ta=868 //R\n",
"ha=208.41\n",
"Prc=Prb/Pratio\n",
"Tc=1113//R\n",
"hc=269.27\n",
"Q1=hb-ha\n",
"Q2=hc-hd\n",
"Wnet=Q1-Q2\n",
"eta=Wnet/Q1\n",
"//results\n",
"printf('Efficiency = %.3f',eta)\n",
"printf('\n Work per pound of fluid = %.2f B/lb',Wnet)"
   ]
   }
,
{
		   "cell_type": "markdown",
		   "metadata": {},
		   "source": [
			"## Example 16.2: example_3.sce"
		   ]
		  },
  {
"cell_type": "code",
	   "execution_count": null,
	   "metadata": {
	    "collapsed": true
	   },
	   "outputs": [],
"source": [
"clc\n",
"//initialization of varaibles\n",
"e=0.75\n",
"Ta=870 //R\n",
"Tc=1075//R\n",
"cp=0.24\n",
"Td=550 //R\n",
"//calculations\n",
"Tadash=e*(Tc-Ta) +Ta\n",
"Tcdash=Tc+Ta-Tadash\n",
"Q1=cp*(Tb-Tadash)\n",
"Q2=cp*(Tcdash-Td)\n",
"Wnet=Q1-Q2\n",
"eta=Wnet/Q1\n",
"//results\n",
"printf('Net work done = %d B/lb',Wnet)\n",
"printf('\n efficiency = %.2f ',eta)"
   ]
   }
],
"metadata": {
		  "kernelspec": {
		   "display_name": "Scilab",
		   "language": "scilab",
		   "name": "scilab"
		  },
		  "language_info": {
		   "file_extension": ".sce",
		   "help_links": [
			{
			 "text": "MetaKernel Magics",
			 "url": "https://github.com/calysto/metakernel/blob/master/metakernel/magics/README.md"
			}
		   ],
		   "mimetype": "text/x-octave",
		   "name": "scilab",
		   "version": "0.7.1"
		  }
		 },
		 "nbformat": 4,
		 "nbformat_minor": 0
}
