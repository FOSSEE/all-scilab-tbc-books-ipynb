{
"cells": [
 {
		   "cell_type": "markdown",
	   "metadata": {},
	   "source": [
       "# Chapter 2: Work"
	   ]
	},
{
		   "cell_type": "markdown",
		   "metadata": {},
		   "source": [
			"## Example 2.1: example_1.sce"
		   ]
		  },
  {
"cell_type": "code",
	   "execution_count": null,
	   "metadata": {
	    "collapsed": true
	   },
	   "outputs": [],
"source": [
"clc\n",
"//Initialization of variables\n",
"g=1.4\n",
"P=100 //psia\n",
"V1=3 //cu ft\n",
"Pf=20 //psia\n",
"//calculations\n",
"V2=V1*(P/Pf)^(1/g)\n",
"W=(Pf*V2-P*V1)*144/(1-g)\n",
"//results\n",
"printf('Net work done = %d ft',W)"
   ]
   }
,
{
		   "cell_type": "markdown",
		   "metadata": {},
		   "source": [
			"## Example 2.2: example_2.sce"
		   ]
		  },
  {
"cell_type": "code",
	   "execution_count": null,
	   "metadata": {
	    "collapsed": true
	   },
	   "outputs": [],
"source": [
"clc\n",
"//Initialization of variables\n",
"Wb=-33000 //ft-lb\n",
"V2=3 //cu ft\n",
"V1=1 //cu ft\n",
"P=69.4 //psia\n",
"//calculations\n",
"Wa=P*(V2-V1)*144\n",
"W=Wa+Wb\n",
"//results\n",
"printf('Net work done = %d ft-lb',W)"
   ]
   }
,
{
		   "cell_type": "markdown",
		   "metadata": {},
		   "source": [
			"## Example 2.3: example_3.sce"
		   ]
		  },
  {
"cell_type": "code",
	   "execution_count": null,
	   "metadata": {
	    "collapsed": true
	   },
	   "outputs": [],
"source": [
"clc\n",
"//Initialization of variables\n",
"b=11 //in\n",
"s=15 //in\n",
"l=2.4 //in\n",
"k=80 //psi per in\n",
"//calculations\n",
"a=%pi*b^2 /4\n",
"L=s/12\n",
"Pm=1.6/l *k\n",
"W=Pm*a*L\n",
"//results\n",
"printf('Net work done = %d ft lb',W)"
   ]
   }
],
"metadata": {
		  "kernelspec": {
		   "display_name": "Scilab",
		   "language": "scilab",
		   "name": "scilab"
		  },
		  "language_info": {
		   "file_extension": ".sce",
		   "help_links": [
			{
			 "text": "MetaKernel Magics",
			 "url": "https://github.com/calysto/metakernel/blob/master/metakernel/magics/README.md"
			}
		   ],
		   "mimetype": "text/x-octave",
		   "name": "scilab",
		   "version": "0.7.1"
		  }
		 },
		 "nbformat": 4,
		 "nbformat_minor": 0
}
