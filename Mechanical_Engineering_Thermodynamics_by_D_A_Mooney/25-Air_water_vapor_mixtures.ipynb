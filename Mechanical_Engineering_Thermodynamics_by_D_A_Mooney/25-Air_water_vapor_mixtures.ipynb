{
"cells": [
 {
		   "cell_type": "markdown",
	   "metadata": {},
	   "source": [
       "# Chapter 25: Air water vapor mixtures"
	   ]
	},
{
		   "cell_type": "markdown",
		   "metadata": {},
		   "source": [
			"## Example 25.1: example_1.sce"
		   ]
		  },
  {
"cell_type": "code",
	   "execution_count": null,
	   "metadata": {
	    "collapsed": true
	   },
	   "outputs": [],
"source": [
"clc\n",
"//initialization of varaibles\n",
"Pg=0.4298 //steam tables psi\n",
"phi=0.5\n",
"P=14.7 //psi\n",
"//calculations\n",
"pw=phi*Pg\n",
"Pa=P-pw\n",
"gamma=0.622*pw/Pa\n",
"T=55 //F from dew point tables  \n",
"//results\n",
"printf('Specific humidity = %.5f lb water/lb dry air',gamma)\n",
"printf('\n Dew temperature = %d F',T)"
   ]
   }
,
{
		   "cell_type": "markdown",
		   "metadata": {},
		   "source": [
			"## Example 25.2: example_2.sce"
		   ]
		  },
  {
"cell_type": "code",
	   "execution_count": null,
	   "metadata": {
	    "collapsed": true
	   },
	   "outputs": [],
"source": [
"clc\n",
"//initialization of varaibles\n",
"disp('From psychrometric chart ,')\n",
"hgdp=1061.8 \n",
"cpw=0.44\n",
"tdb=72 //F\n",
"cp=0.24\n",
"g=0.0071\n",
"//calculations\n",
"rh=0.42\n",
"sp=g\n",
"tdp=58 //F\n",
"hw=hgdp+cpw*tdb\n",
"h=cp*tdb+g*hw\n",
"//results\n",
"printf('Enthalpy = %.2f B/lb dry air',h)\n",
"printf('\n relative humidity = %.2f ',rh)\n",
"printf('\n specific humidity = %.2f ',sp)\n",
"printf('\n Dew point temperature = %d F',tdp)"
   ]
   }
,
{
		   "cell_type": "markdown",
		   "metadata": {},
		   "source": [
			"## Example 25.3: example_3.sce"
		   ]
		  },
  {
"cell_type": "code",
	   "execution_count": null,
	   "metadata": {
	    "collapsed": true
	   },
	   "outputs": [],
"source": [
"clc\n",
"//initialization of varaibles\n",
"disp('From the psychrometric chart,')\n",
"ha=12.9 //B/lb\n",
"g1=0.0032 //lb water/ lb dry air\n",
"g2=0.0078 //lb water/ lb dry air\n",
"hl=13 //B/lb\n",
"hd=25.33 //B/lb\n",
"p=14.7 //psia\n",
"phi=0.6\n",
"cp=0.24\n",
"t2=70 //F\n",
"//calculations\n",
"wl=g2-g1\n",
"Q=hd-ha-wl*hl\n",
"pg=0.1217 //psia\n",
"pa=p-pg\n",
"G1=0.622*pg*phi/pa\n",
"G2=0.00788\n",
"wl2=G2-G1\n",
"t1=40 //F\n",
"hw1=1061.8 + 0.44*t1\n",
"hw2=1092.6 //B/lb\n",
"Q2=cp*(t2-t1) + G2*hw2 -G1*hw1 - wl2*hl\n",
"//results\n",
"printf('Method 1')\n",
"printf('\n Water to be supplied = %.4f lb/lb of dry air',wl)\n",
"printf('\n heat supplied = %.1f B/lb of dry air',Q)\n",
"printf('\n Method 2')\n",
"printf('\n Water to be supplied = %.5f lb/lb of dry air',wl2)\n",
"printf('\n heat supplied = %.1f B/lb of dry air',Q2)"
   ]
   }
,
{
		   "cell_type": "markdown",
		   "metadata": {},
		   "source": [
			"## Example 25.4: example_4.sce"
		   ]
		  },
  {
"cell_type": "code",
	   "execution_count": null,
	   "metadata": {
	    "collapsed": true
	   },
	   "outputs": [],
"source": [
"clc\n",
"//initialization of varaibles\n",
"disp('From psychrometric charts,')\n",
"e=0.7\n",
"phi=0.5\n",
"g1=0.0131 //lb water/lb dry air\n",
"h1=32.36 //B/lb of dry air\n",
"g3=0.0073\n",
"h3=24.26\n",
"pg=0.3390\n",
"T3=528 //R\n",
"V3=1000\n",
"Rw=85.8\n",
"//calculations\n",
"pw3=phi*pg\n",
"ww3=pw3*144*V3/(Rw*T3)\n",
"wa3=ww3/g3\n",
"wa1=phi*wa3\n",
"wa2=phi*wa3\n",
"ww1=g1*wa1\n",
"ww2=ww3-ww1\n",
"g2=ww2/wa2\n",
"h2=(wa3*h3-wa1*h1)/wa2\n",
"tdb=61 //F\n",
"//results\n",
"printf('Air supplied = %.3f lb/min',ww2)\n",
"printf('\n temperature = %d F',tdb)\n",
"printf('\n Humidity = %.5f lb water/lb dry air',g2)"
   ]
   }
,
{
		   "cell_type": "markdown",
		   "metadata": {},
		   "source": [
			"## Example 25.5: example_5.sce"
		   ]
		  },
  {
"cell_type": "code",
	   "execution_count": null,
	   "metadata": {
	    "collapsed": true
	   },
	   "outputs": [],
"source": [
"clc\n",
"//initialization of varaibles\n",
"disp('From psychrometric charts,')\n",
"g1=0.0131 //lb water/lb dry air\n",
"g2=0.0093 //lb water/lb dry air\n",
"h1=32.36 //B/lb dry air\n",
"h2=27.03\n",
"hd2=23.4 //B/lb dry air\n",
"hf=23.4  //B/lb dry air\n",
"hw1=1094.5\n",
"//calculations\n",
"tdp=55.3 //F\n",
"wratio=g1-g2\n",
"Qc=hd2-h1+wratio*hf\n",
"Qh=h2-hd2\n",
"Heat=wratio*(hw1-hf)\n",
"frac=-Heat/Qc\n",
"//results\n",
"printf('Cooling temperature = %.1f F',tdp)\n",
"printf('\n heat transfer = %.2f B/lb dry air',Heat)\n",
"printf('\n Fraction of heat removed = %.2f',frac)"
   ]
   }
],
"metadata": {
		  "kernelspec": {
		   "display_name": "Scilab",
		   "language": "scilab",
		   "name": "scilab"
		  },
		  "language_info": {
		   "file_extension": ".sce",
		   "help_links": [
			{
			 "text": "MetaKernel Magics",
			 "url": "https://github.com/calysto/metakernel/blob/master/metakernel/magics/README.md"
			}
		   ],
		   "mimetype": "text/x-octave",
		   "name": "scilab",
		   "version": "0.7.1"
		  }
		 },
		 "nbformat": 4,
		 "nbformat_minor": 0
}
