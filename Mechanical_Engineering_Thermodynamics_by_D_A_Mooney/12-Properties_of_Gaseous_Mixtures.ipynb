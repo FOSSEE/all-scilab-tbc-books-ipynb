{
"cells": [
 {
		   "cell_type": "markdown",
	   "metadata": {},
	   "source": [
       "# Chapter 12: Properties of Gaseous Mixtures"
	   ]
	},
{
		   "cell_type": "markdown",
		   "metadata": {},
		   "source": [
			"## Example 12.1: example_1.sce"
		   ]
		  },
  {
"cell_type": "code",
	   "execution_count": null,
	   "metadata": {
	    "collapsed": true
	   },
	   "outputs": [],
"source": [
"clc\n",
"//initialization of varaibles\n",
"P=15 //psia\n",
"T2=70+460 //R\n",
"T1=55+460 //R\n",
"//calculations\n",
"pw=0.2141\n",
"pA=P-pw\n",
"mratio=pA*29/(pw*18)\n",
"mAbym=mratio/(1+mratio)\n",
"mwbym=1/(1+mratio)\n",
"pg=0.3631 //psia\n",
"phi=pw/pg\n",
"gamma=1/mratio\n",
"//results\n",
"printf('Partial pressure of water vapor = %.2f psia',pA)\n",
"printf('\n Specific humidity = %.4f lb vapor/lb air',gamma)"
   ]
   }
,
{
		   "cell_type": "markdown",
		   "metadata": {},
		   "source": [
			"## Example 12.2: example_2.sce"
		   ]
		  },
  {
"cell_type": "code",
	   "execution_count": null,
	   "metadata": {
	    "collapsed": true
	   },
	   "outputs": [],
"source": [
"clc\n",
"//initialization of varaibles\n",
"rh=0.75\n",
"pg=0.5069\n",
"inc=10 //in\n",
"pA=29.50 //psia\n",
"//calculations\n",
"pw=rh*pg\n",
"p=(29.50+ inc/13.6)*0.491\n",
"pA=p-pw\n",
"mratio=pw*18/(pA*29)\n",
"//results\n",
"printf('Pounds of water vapor enter the surface per pound of dry air = %.4f lb vapor/lb air',mratio)"
   ]
   }
],
"metadata": {
		  "kernelspec": {
		   "display_name": "Scilab",
		   "language": "scilab",
		   "name": "scilab"
		  },
		  "language_info": {
		   "file_extension": ".sce",
		   "help_links": [
			{
			 "text": "MetaKernel Magics",
			 "url": "https://github.com/calysto/metakernel/blob/master/metakernel/magics/README.md"
			}
		   ],
		   "mimetype": "text/x-octave",
		   "name": "scilab",
		   "version": "0.7.1"
		  }
		 },
		 "nbformat": 4,
		 "nbformat_minor": 0
}
