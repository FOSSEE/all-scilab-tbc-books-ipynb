{
"cells": [
 {
		   "cell_type": "markdown",
	   "metadata": {},
	   "source": [
       "# Chapter 14: Vapor cycles rankine cycle"
	   ]
	},
{
		   "cell_type": "markdown",
		   "metadata": {},
		   "source": [
			"## Example 14.1: example_1.sce"
		   ]
		  },
  {
"cell_type": "code",
	   "execution_count": null,
	   "metadata": {
	    "collapsed": true
	   },
	   "outputs": [],
"source": [
"clc\n",
"//initialization of varaibles\n",
"P1=200 //psia\n",
"T1=750+460 //R\n",
"P2=1 //psia\n",
"//calculations\n",
"disp('From steam tables,')\n",
"h1=1399.2\n",
"h2=976\n",
"h3=69.70\n",
"v3=0.01614\n",
"dh3=v3*(P1-P2)*144/778\n",
"h4=dh3+h3\n",
"Q1=h1-h4\n",
"Wt=h1-h2\n",
"Wp=h4-h3\n",
"eta=(Wt-Wp)/Q1\n",
"w=2545/Wt\n",
"//results\n",
"printf('Heat supplied = %d B/lb',Q1+1)\n",
"printf('\n Turbine work = %d B/lb',Wt)\n",
"printf('\n Pump work = %.3f B/lb',Wp)\n",
"printf('\n Efficiency =  %.3f',eta)\n",
"printf('\n Steam rate = %.2f lb steam per hr',w)"
   ]
   }
,
{
		   "cell_type": "markdown",
		   "metadata": {},
		   "source": [
			"## Example 14.2: example_2.sce"
		   ]
		  },
  {
"cell_type": "code",
	   "execution_count": null,
	   "metadata": {
	    "collapsed": true
	   },
	   "outputs": [],
"source": [
"clc\n",
"//initialization of varaibles\n",
"h1=1399.2 //B/lb\n",
"h2s=976 //B/lb\n",
"wt=8 //lb /hp hr\n",
"//calculations\n",
"Wt=2545/wt\n",
"etaT=Wt/(h1-h2s)\n",
"h2=h1-Wt\n",
"//results\n",
"printf('Engine efficiency = %.3f',etaT)"
   ]
   }
,
{
		   "cell_type": "markdown",
		   "metadata": {},
		   "source": [
			"## Example 14.3_a: example_3.sce"
		   ]
		  },
  {
"cell_type": "code",
	   "execution_count": null,
	   "metadata": {
	    "collapsed": true
	   },
	   "outputs": [],
"source": [
"clc\n",
"//initialization of varaibles\n",
"P1=200 //psia\n",
"P2=1 //psia\n",
"e=0.7\n",
"//calculations\n",
"h1=1198.4\n",
"h2s=863.5\n",
"h3r=69.7\n",
"h4r=70.3\n",
"h3c=300.7\n",
"h4c=355.4\n",
"disp('For Rankine cycle, ')\n",
"Wtr=h1-h2s\n",
"Q1r=h1-h4r\n",
"Wpr=h4r-h3r\n",
"Wnetr=Wtr-Wpr\n",
"eta1=(Wtr-Wpr)/Q1r\n",
"wr=2545/Wtr\n",
"printf('Back work = %.1f B/lb',Wnetr)\n",
"printf('\n Efficiency = %.3f ',eta1)\n",
"printf('\n Steam rate = %.1f lb/hp hr',wr)\n",
"disp('For carnot cycle,')\n",
"Wtc=h1-h2s\n",
"Q1c=h1-h4c\n",
"Wpc=h4c-h3c\n",
"Wnetc=Wtc-Wpc\n",
"eta2=(Wtc-Wpc)/Q1c\n",
"wc=9.1\n",
"printf('Back work = %.1f B/lb',Wnetc)\n",
"printf('\n Efficiency = %.3f ',eta2)\n",
"printf('\n Steam rate = %.1f lb/hp hr',wc)"
   ]
   }
,
{
		   "cell_type": "markdown",
		   "metadata": {},
		   "source": [
			"## Example 14.3_b: example_4.sce"
		   ]
		  },
  {
"cell_type": "code",
	   "execution_count": null,
	   "metadata": {
	    "collapsed": true
	   },
	   "outputs": [],
"source": [
"clc\n",
"//initialization of varaibles\n",
"P1=200 //psia\n",
"P2=1 //psia\n",
"e=0.7\n",
"//calculations\n",
"h1=1198.4\n",
"h2s=863.5\n",
"h3r=69.7\n",
"h4r=70.3\n",
"h3c=300.7\n",
"h4c=355.4\n",
"disp('For Rankine cycle with actual machines, ')\n",
"Wtr=e*(h1-h2s)\n",
"Q1r=(h1-h4r)\n",
"Wpr=(h4r-h3r)/e\n",
"Wnetr=Wtr-Wpr\n",
"eta1=(Wtr-Wpr)/Q1r\n",
"wr=2545/Wtr\n",
"printf('Back work = %.1f B/lb',Wnetr)\n",
"printf('\n Efficiency = %.3f ',eta1)\n",
"printf('\n Steam rate = %.1f lb/hp hr',wr)\n",
"disp('For carnot cycle,')\n",
"Wtc=e*(h1-h2s)\n",
"Q1c=h1-h4c\n",
"Wpc=(h4c-h3c)/e\n",
"Wnetc=Wtc-Wpc\n",
"eta2=(Wtc-Wpc)/Q1c\n",
"wc=16.2\n",
"printf('Back work = %.1f B/lb',Wnetc)\n",
"printf('\n Efficiency = %.3f ',eta2)\n",
"printf('\n Steam rate = %.1f lb/hp hr',wc)"
   ]
   }
],
"metadata": {
		  "kernelspec": {
		   "display_name": "Scilab",
		   "language": "scilab",
		   "name": "scilab"
		  },
		  "language_info": {
		   "file_extension": ".sce",
		   "help_links": [
			{
			 "text": "MetaKernel Magics",
			 "url": "https://github.com/calysto/metakernel/blob/master/metakernel/magics/README.md"
			}
		   ],
		   "mimetype": "text/x-octave",
		   "name": "scilab",
		   "version": "0.7.1"
		  }
		 },
		 "nbformat": 4,
		 "nbformat_minor": 0
}
