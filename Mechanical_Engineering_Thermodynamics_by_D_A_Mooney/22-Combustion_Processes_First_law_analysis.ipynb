{
"cells": [
 {
		   "cell_type": "markdown",
	   "metadata": {},
	   "source": [
       "# Chapter 22: Combustion Processes First law analysis"
	   ]
	},
{
		   "cell_type": "markdown",
		   "metadata": {},
		   "source": [
			"## Example 22.10: example_6.sce"
		   ]
		  },
  {
"cell_type": "code",
	   "execution_count": null,
	   "metadata": {
	    "collapsed": true
	   },
	   "outputs": [],
"source": [
"clc\n",
"//initialization of varaibles\n",
"disp('From data and steam tables,')\n",
"Q=10240000 //B/hr\n",
"w=700 //lb/hr\n",
"h=19500 //B/lb\n",
"//calculations\n",
"HV=w*h\n",
"e=Q/HV\n",
"//results\n",
"printf('Efficiency = %.2f',e)"
   ]
   }
,
{
		   "cell_type": "markdown",
		   "metadata": {},
		   "source": [
			"## Example 22.5: example_1.sce"
		   ]
		  },
  {
"cell_type": "code",
	   "execution_count": null,
	   "metadata": {
	    "collapsed": true
	   },
	   "outputs": [],
"source": [
"clc\n",
"//initialization of varaibles\n",
"mO=1.33\n",
"CO=0.155\n",
"mC=3.67\n",
"CC=0.165\n",
"t2=1000 //F\n",
"tb=68 //F\n",
"t1=300 //F\n",
"mC2=1\n",
"CC2=0.17\n",
"mO2=4\n",
"CO2=0.155\n",
"H=-14087 //B/lb\n",
"//calculations\n",
"dE2=mO*CO*(t2-tb) + mC*CC*(t2-tb)\n",
"dE1=mO2*CO2*(tb-t1) + mC2*CC2*(tb-t1)\n",
"Q=dE2+dE1+H\n",
"//results\n",
"printf('Heat transfer from the system = %d Btu',Q)"
   ]
   }
,
{
		   "cell_type": "markdown",
		   "metadata": {},
		   "source": [
			"## Example 22.6: example_2.sce"
		   ]
		  },
  {
"cell_type": "code",
	   "execution_count": null,
	   "metadata": {
	    "collapsed": true
	   },
	   "outputs": [],
"source": [
"clc\n",
"//initialization of varaibles\n",
"H1=17889 //Cal/g\n",
"H2=-94052 //Cal/g\n",
"H3=2* -68317 //Cal/g\n",
"//calculations\n",
"x=H1+H2+H3\n",
"//results\n",
"printf('Constant pressure heating value of methane = %d cal/gm formula wt.',x)"
   ]
   }
,
{
		   "cell_type": "markdown",
		   "metadata": {},
		   "source": [
			"## Example 22.7: example_3.sce"
		   ]
		  },
  {
"cell_type": "code",
	   "execution_count": null,
	   "metadata": {
	    "collapsed": true
	   },
	   "outputs": [],
"source": [
"clc\n",
"//initialization of varaibles\n",
"HV=4344 //B/lb\n",
"xC=56 //lb\n",
"R=1.986\n",
"T=530 //R\n",
"MC=56 //g/mol\n",
"//calculations\n",
"HR=xC*HV\n",
"Eb=-HR -R*T*(2-3)\n",
"HV=-Eb/MC\n",
"//results\n",
"printf('COnstant volume heating value = %d B/lb ',HV)"
   ]
   }
,
{
		   "cell_type": "markdown",
		   "metadata": {},
		   "source": [
			"## Example 22.8: example_4.sce"
		   ]
		  },
  {
"cell_type": "code",
	   "execution_count": null,
	   "metadata": {
	    "collapsed": true
	   },
	   "outputs": [],
"source": [
"clc\n",
"//initialization of varaibles\n",
"dH2=14087 //B/lb\n",
"xc=3.67 //lb\n",
"xN=8.78 //lb\n",
"tb=100 //F\n",
"//calculations\n",
"dt2=dH2/(xc*0.196 + xN*0.248)\n",
"t2=dt2+tb\n",
"//results\n",
"printf('products temperature = %d F',t2)"
   ]
   }
,
{
		   "cell_type": "markdown",
		   "metadata": {},
		   "source": [
			"## Example 22.9: example_5.sce"
		   ]
		  },
  {
"cell_type": "code",
	   "execution_count": null,
	   "metadata": {
	    "collapsed": true
	   },
	   "outputs": [],
"source": [
"clc\n",
"//initialization of varaibles\n",
"Heat=14087 //Btu/lb\n",
"x1=0.9 //lb\n",
"x2=0.05 //lb\n",
"x3=0.05 //lb\n",
"Heat2=3952 //Btu/lb\n",
"//calculations\n",
"h1=x1*Heat\n",
"h2=x2*Heat2\n",
"e=(h1+h2)/Heat\n",
"//results\n",
"printf('Efficiency = %.2f',e)"
   ]
   }
],
"metadata": {
		  "kernelspec": {
		   "display_name": "Scilab",
		   "language": "scilab",
		   "name": "scilab"
		  },
		  "language_info": {
		   "file_extension": ".sce",
		   "help_links": [
			{
			 "text": "MetaKernel Magics",
			 "url": "https://github.com/calysto/metakernel/blob/master/metakernel/magics/README.md"
			}
		   ],
		   "mimetype": "text/x-octave",
		   "name": "scilab",
		   "version": "0.7.1"
		  }
		 },
		 "nbformat": 4,
		 "nbformat_minor": 0
}
