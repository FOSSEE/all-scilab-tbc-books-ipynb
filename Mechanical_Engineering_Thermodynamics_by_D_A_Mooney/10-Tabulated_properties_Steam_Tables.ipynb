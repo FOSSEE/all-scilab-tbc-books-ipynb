{
"cells": [
 {
		   "cell_type": "markdown",
	   "metadata": {},
	   "source": [
       "# Chapter 10: Tabulated properties Steam Tables"
	   ]
	},
{
		   "cell_type": "markdown",
		   "metadata": {},
		   "source": [
			"## Example 10.10: example_10.sce"
		   ]
		  },
  {
"cell_type": "code",
	   "execution_count": null,
	   "metadata": {
	    "collapsed": true
	   },
	   "outputs": [],
"source": [
"clc\n",
"//initialization of varaibles\n",
"T=100 //F\n",
"P=1000 //psia\n",
"//calculations\n",
"disp('From table 4')\n",
"dvf=-5.1*10^-5\n",
"dhf=2.7\n",
"vf=0.01613\n",
"hf=67.97\n",
"v=vf+dvf\n",
"h=hf+dhf\n",
"//results\n",
"printf('Enthalpy = %.2f B/lb',h)\n",
"printf('\n Volume = %.5f cu ft/lb',v)"
   ]
   }
,
{
		   "cell_type": "markdown",
		   "metadata": {},
		   "source": [
			"## Example 10.11: example_11.sce"
		   ]
		  },
  {
"cell_type": "code",
	   "execution_count": null,
	   "metadata": {
	    "collapsed": true
	   },
	   "outputs": [],
"source": [
"clc\n",
"//initialization of varaibles\n",
"h1=1183.2 //B/lb\n",
"hg=1198.4 //B/lb\n",
"hfg=843\n",
"//calculations\n",
"x=1- (hg-h1)/hfg\n",
"//results\n",
"printf('Quality = %.3f',x)"
   ]
   }
,
{
		   "cell_type": "markdown",
		   "metadata": {},
		   "source": [
			"## Example 10.1: example_1.sce"
		   ]
		  },
  {
"cell_type": "code",
	   "execution_count": null,
	   "metadata": {
	    "collapsed": true
	   },
	   "outputs": [],
"source": [
"clc\n",
"//initialization of varaibles\n",
"P=100 //psia\n",
"hfg=888.8 //B/lb\n",
"//calculations\n",
"disp('From steam tables,')\n",
"vg=4.432 //cu ft/lb\n",
"vf=0.001774 //cu ft/lb\n",
"W=P*(vg-vf)*144\n",
"ufg=807.1 //B/lb\n",
"W=hfg-ufg\n",
"sfg=1.1286\n",
"Q=788*sfg\n",
"//results\n",
"printf('Work done = %.1f B/lb',W)\n",
"printf('\n Heat of vaporization of water = %d B/lb',Q)"
   ]
   }
,
{
		   "cell_type": "markdown",
		   "metadata": {},
		   "source": [
			"## Example 10.2: example_2.sce"
		   ]
		  },
  {
"cell_type": "code",
	   "execution_count": null,
	   "metadata": {
	    "collapsed": true
	   },
	   "outputs": [],
"source": [
"clc\n",
"//initialization of varaibles\n",
"s=1.6315 //B/lb R\n",
"//calculations\n",
"disp('From table 1 ')\n",
"h=1180.6 //B/lb\n",
"t=302.92 //F\n",
"p=70 //psia\n",
"//results\n",
"printf('Pressure = %d psia',p)\n",
"printf('\n Temperature = %.2f F',t)\n",
"printf('\n Enthalpy = %.1f B/lb',h)"
   ]
   }
,
{
		   "cell_type": "markdown",
		   "metadata": {},
		   "source": [
			"## Example 10.3: example_3.sce"
		   ]
		  },
  {
"cell_type": "code",
	   "execution_count": null,
	   "metadata": {
	    "collapsed": true
	   },
	   "outputs": [],
"source": [
"clc\n",
"//initialization of varaibles\n",
"T=250 //F\n",
"disp('From table 1,')\n",
"p=29.825 //psia\n",
"hg=1164 //B/lb\n",
"vg=13.821 //cu ft/lb\n",
"//calculations\n",
"ug=hg-(p)*144*vg/778\n",
"//results\n",
"printf('Internal energy of the gas = %.1f B/lb',ug)"
   ]
   }
,
{
		   "cell_type": "markdown",
		   "metadata": {},
		   "source": [
			"## Example 10.4: example_4.sce"
		   ]
		  },
  {
"cell_type": "code",
	   "execution_count": null,
	   "metadata": {
	    "collapsed": true
	   },
	   "outputs": [],
"source": [
"clc\n",
"//initialization of varaibles\n",
"x=0.4\n",
"P=100 //psia\n",
"//calculations\n",
"y=1-x\n",
"disp('From table 2,')\n",
"vf=0.01774\n",
"vg=4.432\n",
"vx=x*vf+y*vg\n",
"hf=298.4\n",
"hfg=888.8\n",
"hx=hf+y*hfg\n",
"sg=1.6026\n",
"sfg=1.1286\n",
"sx=sg-x*sfg\n",
"//results\n",
"printf('Specific volume = %.3f cu ft/lb',vx)\n",
"printf('\n Enthalpy = %.1f B/lb',hx)\n",
"printf('\n Entropy = %.4f B/lb R',sx)"
   ]
   }
,
{
		   "cell_type": "markdown",
		   "metadata": {},
		   "source": [
			"## Example 10.5: example_5.sce"
		   ]
		  },
  {
"cell_type": "code",
	   "execution_count": null,
	   "metadata": {
	    "collapsed": true
	   },
	   "outputs": [],
"source": [
"clc\n",
"//initialization of varaibles\n",
"x=0.97\n",
"P=100 //psia\n",
"//calculations\n",
"disp('From table 2,')\n",
"hf=298.4\n",
"hfg=888.8\n",
"hx=hf+x*hfg\n",
"hg=1187.2\n",
"hx2=hg-(1-x)*hfg\n",
"//results\n",
"printf('Accurate Enthalpy = %.1f B/lb',hx2)\n",
"printf('\n Enthalpy = %d B/lb')"
   ]
   }
,
{
		   "cell_type": "markdown",
		   "metadata": {},
		   "source": [
			"## Example 10.6: example_6.sce"
		   ]
		  },
  {
"cell_type": "code",
	   "execution_count": null,
	   "metadata": {
	    "collapsed": true
	   },
	   "outputs": [],
"source": [
"clc\n",
"//initialization of varaibles\n",
"s=1.7050 //B/lb R\n",
"//calculations\n",
"disp('From table 2,')\n",
"sx=1.7050\n",
"sg=1.7549\n",
"sfg=1.4415\n",
"dx=(sg-sx)/sfg\n",
"hg=1150.8\n",
"hfg=969.7\n",
"hx=hg-dx*hfg\n",
"vg=26.29\n",
"vfg=26.27\n",
"vx=vg-dx*vfg\n",
"//results\n",
"printf('Specific volume = %.3f cu ft/lb',vx)\n",
"printf('\n Enthalpy = %.1f B/lb',hx)"
   ]
   }
,
{
		   "cell_type": "markdown",
		   "metadata": {},
		   "source": [
			"## Example 10.7: example_7.sce"
		   ]
		  },
  {
"cell_type": "code",
	   "execution_count": null,
	   "metadata": {
	    "collapsed": true
	   },
	   "outputs": [],
"source": [
"clc\n",
"//initialization of varaibles\n",
"P=150 //psia\n",
"T=400 //F\n",
"//calculations\n",
"disp('From table 3,')\n",
"h=1219.4 //B/lb\n",
"//results\n",
"printf('Enthalpy = %.1f B/lb',h)"
   ]
   }
,
{
		   "cell_type": "markdown",
		   "metadata": {},
		   "source": [
			"## Example 10.8: example_8.sce"
		   ]
		  },
  {
"cell_type": "code",
	   "execution_count": null,
	   "metadata": {
	    "collapsed": true
	   },
	   "outputs": [],
"source": [
"clc\n",
"//initialization of varaibles\n",
"en=1303.7 //B/lb\n",
"P=300 //psia\n",
"//calculations\n",
"disp('Given hg is less than h, steam is superheated. T=580 F')\n",
"T=580 //F\n",
"//results\n",
"printf('Temperature = %d F',T)"
   ]
   }
],
"metadata": {
		  "kernelspec": {
		   "display_name": "Scilab",
		   "language": "scilab",
		   "name": "scilab"
		  },
		  "language_info": {
		   "file_extension": ".sce",
		   "help_links": [
			{
			 "text": "MetaKernel Magics",
			 "url": "https://github.com/calysto/metakernel/blob/master/metakernel/magics/README.md"
			}
		   ],
		   "mimetype": "text/x-octave",
		   "name": "scilab",
		   "version": "0.7.1"
		  }
		 },
		 "nbformat": 4,
		 "nbformat_minor": 0
}
