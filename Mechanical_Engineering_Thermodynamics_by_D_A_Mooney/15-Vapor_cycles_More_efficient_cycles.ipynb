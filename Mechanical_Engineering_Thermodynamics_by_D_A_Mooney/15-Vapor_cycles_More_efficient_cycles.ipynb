{
"cells": [
 {
		   "cell_type": "markdown",
	   "metadata": {},
	   "source": [
       "# Chapter 15: Vapor cycles More efficient cycles"
	   ]
	},
{
		   "cell_type": "markdown",
		   "metadata": {},
		   "source": [
			"## Example 15.1: example_1.sce"
		   ]
		  },
  {
"cell_type": "code",
	   "execution_count": null,
	   "metadata": {
	    "collapsed": true
	   },
	   "outputs": [],
"source": [
"clc\n",
"//initialization of varaibles\n",
"e=0.85\n",
"disp('From Mollier chart and table 3,')\n",
"h1=1474.5 //B/lb\n",
"s1=1.5603 //B/lb R\n",
"h2s=1277.5 //B/lb\n",
"//calculations\n",
"h2=h1-e*(h1-h2s)\n",
"h3=1522.4 //B/lb\n",
"h4s=948 //B/lb\n",
"h4=h3-e*(h3-h4s)\n",
"h5=47.6 //B/lb\n",
"h6=53.5 //B/lb\n",
"h7s=840 //B/lb\n",
"h7=h1-e*(h1-h7s)\n",
"h8=1493.2 //B/lb\n",
"h9s=866 //B/lb\n",
"h9=h8-e*(h8-h9s)\n",
"h11=51.5 //B/lb\n",
"eta1=0.401\n",
"eta2=0.375\n",
"eta3=0.366\n",
"IE1=(eta1-eta2)/eta2\n",
"IE2=(eta1-eta3)/eta3\n",
"//results\n",
"printf('Improvement in efficiency = %d percent',IE1*100 +1)\n",
"printf('\nImprovement in efficiency in case 2= %.1f percent',IE2*100)"
   ]
   }
,
{
		   "cell_type": "markdown",
		   "metadata": {},
		   "source": [
			"## Example 15.2_a: example_2.sce"
		   ]
		  },
  {
"cell_type": "code",
	   "execution_count": null,
	   "metadata": {
	    "collapsed": true
	   },
	   "outputs": [],
"source": [
"clc\n",
"//initialization of varaibles\n",
"disp('From mollier chart and table 3,')\n",
"h1=1371 //B/lb\n",
"h2s=1149 //B/lb\n",
"h3=118 //B/lb\n",
"e=0.9\n",
"disp('Neglecting pump work,')\n",
"Q1=h1-h3\n",
"W=156 //B/lb\n",
"eta1=W/Q1\n",
"Q=h1-W-h3\n",
"UE=W+e*Q\n",
"fraction = UE/Q1\n",
"//results\n",
"printf('Fraction supplied = %.2f',fraction)"
   ]
   }
,
{
		   "cell_type": "markdown",
		   "metadata": {},
		   "source": [
			"## Example 15.2_b: example_3.sce"
		   ]
		  },
  {
"cell_type": "code",
	   "execution_count": null,
	   "metadata": {
	    "collapsed": true
	   },
	   "outputs": [],
"source": [
"clc\n",
"//initialization of varaibles\n",
"disp('From mollier chart and table 3,')\n",
"h1=1371 //B/lb\n",
"h2s=1149 //B/lb\n",
"h3=118 //B/lb\n",
"e=0.23\n",
"e2=0.9\n",
"disp('Neglecting pump work,')\n",
"Q1=h1-h3\n",
"W=156 //B/lb\n",
"eta1=W/Q1\n",
"Q=h1-W-h3\n",
"We=W/e\n",
"UE=We+Q\n",
"UE1=W+e2*Q\n",
"Q2=Q+We\n",
"fraction = UE1/UE\n",
"//results\n",
"printf('Fraction supplied = %.2f',fraction)"
   ]
   }
],
"metadata": {
		  "kernelspec": {
		   "display_name": "Scilab",
		   "language": "scilab",
		   "name": "scilab"
		  },
		  "language_info": {
		   "file_extension": ".sce",
		   "help_links": [
			{
			 "text": "MetaKernel Magics",
			 "url": "https://github.com/calysto/metakernel/blob/master/metakernel/magics/README.md"
			}
		   ],
		   "mimetype": "text/x-octave",
		   "name": "scilab",
		   "version": "0.7.1"
		  }
		 },
		 "nbformat": 4,
		 "nbformat_minor": 0
}
