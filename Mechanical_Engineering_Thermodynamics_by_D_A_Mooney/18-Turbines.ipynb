{
"cells": [
 {
		   "cell_type": "markdown",
	   "metadata": {},
	   "source": [
       "# Chapter 18: Turbines"
	   ]
	},
{
		   "cell_type": "markdown",
		   "metadata": {},
		   "source": [
			"## Example 18.1: example_1.sce"
		   ]
		  },
  {
"cell_type": "code",
	   "execution_count": null,
	   "metadata": {
	    "collapsed": true
	   },
	   "outputs": [],
"source": [
"clc\n",
"//initialization of varaibles\n",
"drop=50 //B/lb\n",
"cv=0.95\n",
"Vb=700 //fps\n",
"alpha=20 //degrees\n",
"beta=30 //degrees\n",
"Cb=0.95\n",
"//calculations\n",
"V1=cv*sqrt(2*32.2*778*drop)\n",
"y1=V1*cosd(alpha)\n",
"z1=V1*sind(alpha)\n",
"y1R=y1-Vb\n",
"V1R=sqrt(y1R^2 + z1^2)\n",
"V2R=Cb*V1R\n",
"y2R=-V2R*cosd(beta)\n",
"z2=V2R*sind(beta)\n",
"Wx=(y1R-y2R)*Vb/32.2\n",
"Fa=(z1-z2)/32.2\n",
"Vc=1582.77\n",
"etanb=Wx/(Vc^2 /(2*32.2))\n",
"//results\n",
"printf('Work per pound of fluid = %d ft lbf/lbm',Wx)\n",
"printf('\n Axial thrust = %.1f lbf/lbm/sec',Fa)\n",
"printf('\n Nozzle bucket efficiency = %.2f',etanb)"
   ]
   }
,
{
		   "cell_type": "markdown",
		   "metadata": {},
		   "source": [
			"## Example 18.2: example_2.sce"
		   ]
		  },
  {
"cell_type": "code",
	   "execution_count": null,
	   "metadata": {
	    "collapsed": true
	   },
	   "outputs": [],
"source": [
"clc\n",
"//initialization of varaibles\n",
"ha=1187.2 //B/lb\n",
"sa=1.6026 //B/lb R\n",
"h3s=895 //B/lb\n",
"h1s=1090 //B/lb\n",
"p1=28 //psia\n",
"h2s=993 //B/lb\n",
"p2=6.2 //psia\n",
"n=0.65\n",
"//calculations\n",
"disp('From  Table 3,')\n",
"h1=ha-n*(ha-h1s)\n",
"s1=1.65 //B/lb R\n",
"h2dash=1024 //B/lb\n",
"h2=h1-n*(h1-h2dash)\n",
"s2=1.706 //B/lb R\n",
"h3dash=953 //B/lb\n",
"h3=h2-n*(h2-h3dash)\n",
"etaT=(ha-h3)/(ha-h3s)\n",
"reheat=etaT/n\n",
"//results\n",
"printf('Internal efficiency = %.3f',etaT)\n",
"printf('\n Reheat factor = %.2f',reheat)"
   ]
   }
],
"metadata": {
		  "kernelspec": {
		   "display_name": "Scilab",
		   "language": "scilab",
		   "name": "scilab"
		  },
		  "language_info": {
		   "file_extension": ".sce",
		   "help_links": [
			{
			 "text": "MetaKernel Magics",
			 "url": "https://github.com/calysto/metakernel/blob/master/metakernel/magics/README.md"
			}
		   ],
		   "mimetype": "text/x-octave",
		   "name": "scilab",
		   "version": "0.7.1"
		  }
		 },
		 "nbformat": 4,
		 "nbformat_minor": 0
}
