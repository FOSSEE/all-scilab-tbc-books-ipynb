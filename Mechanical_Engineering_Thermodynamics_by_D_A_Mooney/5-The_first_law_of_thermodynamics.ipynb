{
"cells": [
 {
		   "cell_type": "markdown",
	   "metadata": {},
	   "source": [
       "# Chapter 5: The first law of thermodynamics"
	   ]
	},
{
		   "cell_type": "markdown",
		   "metadata": {},
		   "source": [
			"## Example 5.1: example_1.sce"
		   ]
		  },
  {
"cell_type": "code",
	   "execution_count": null,
	   "metadata": {
	    "collapsed": true
	   },
	   "outputs": [],
"source": [
"clc\n",
"//initialization of varaibles\n",
"V1=10 //cu ft\n",
"P1=15 //psia\n",
"V2=5 //cu ft\n",
"H=34.7 //Btu\n",
"//calculations\n",
"W=P1*(V2-V1)*144\n",
"dE=-H-W/778\n",
"//results\n",
"printf('Internal energy change = %.1f Btu',dE)"
   ]
   }
,
{
		   "cell_type": "markdown",
		   "metadata": {},
		   "source": [
			"## Example 5.2: example_2.sce"
		   ]
		  },
  {
"cell_type": "code",
	   "execution_count": null,
	   "metadata": {
	    "collapsed": true
	   },
	   "outputs": [],
"source": [
"clc\n",
"//initialization of varaibles\n",
"dT=35 //F\n",
"H=34 //Btu\n",
"cv=1.2 //B/lb F\n",
"m= 2 //lb\n",
"//calculations\n",
"U=cv*dT*m\n",
"W=H-U\n",
"//results\n",
"printf('Work done = %d Btu',W)\n",
"printf('\n Internal energy change = %.1f Btu',U)"
   ]
   }
,
{
		   "cell_type": "markdown",
		   "metadata": {},
		   "source": [
			"## Example 5.3: example_3.sce"
		   ]
		  },
  {
"cell_type": "code",
	   "execution_count": null,
	   "metadata": {
	    "collapsed": true
	   },
	   "outputs": [],
"source": [
"clc\n",
"//initialization of varaibles\n",
"p=500 //psia\n",
"V2=0.9278 //cu ft\n",
"V1=0.0197 //cu ft\n",
"h2=1204.4 //B/lb\n",
"h1=449.4 //B/lb\n",
"//calculations\n",
"W=p*(V2-V1)*144\n",
"du=h2-h1-144*p*(V2-V1)/778\n",
"du2=h2-h1-W/778\n",
"//results\n",
"printf('Change in internal energy = %.1f Btu',du)\n",
"printf('\n Method 2, Internal energy change = %.1f Btu',du2)"
   ]
   }
,
{
		   "cell_type": "markdown",
		   "metadata": {},
		   "source": [
			"## Example 5.4_a: example_4.sce"
		   ]
		  },
  {
"cell_type": "code",
	   "execution_count": null,
	   "metadata": {
	    "collapsed": true
	   },
	   "outputs": [],
"source": [
"clc\n",
"//initialization of varaibles\n",
"P1=75 //psia\n",
"P2=15 //psia\n",
"V1=6 //cu ft\n",
"g=1.2\n",
"m=3\n",
"//calculations\n",
"V2=V1*(P1/P2)^(1/g)\n",
"U=0.48*(P2*V2-P1*V1)\n",
"W=(P2*V2-P1*V1)*144/((1-g)*778)\n",
"Q=U+W\n",
"//results\n",
"printf('Heat = %.3f Btu',Q)\n",
"//The answer given in textbook is wrong. please check using a calculator"
   ]
   }
,
{
		   "cell_type": "markdown",
		   "metadata": {},
		   "source": [
			"## Example 5.4_b: example_5.sce"
		   ]
		  },
  {
"cell_type": "code",
	   "execution_count": null,
	   "metadata": {
	    "collapsed": true
	   },
	   "outputs": [],
"source": [
"clc\n",
"//initialization of varaibles\n",
"P1=75 //psia\n",
"P2=15 //psia\n",
"V1=6 //cu ft\n",
"g=1.2\n",
"m=3\n",
"//calculations\n",
"Q=30 //Btu\n",
"V2=V1*(P1/P2)^(1/g)\n",
"U=0.48*(P2*V2-P1*V1)\n",
"W=Q-U\n",
"//results\n",
"printf('Work done = %.1f  Btu',W)\n",
"//The answer given in textbook is wrong. please check using a calculator"
   ]
   }
],
"metadata": {
		  "kernelspec": {
		   "display_name": "Scilab",
		   "language": "scilab",
		   "name": "scilab"
		  },
		  "language_info": {
		   "file_extension": ".sce",
		   "help_links": [
			{
			 "text": "MetaKernel Magics",
			 "url": "https://github.com/calysto/metakernel/blob/master/metakernel/magics/README.md"
			}
		   ],
		   "mimetype": "text/x-octave",
		   "name": "scilab",
		   "version": "0.7.1"
		  }
		 },
		 "nbformat": 4,
		 "nbformat_minor": 0
}
