{
"cells": [
 {
		   "cell_type": "markdown",
	   "metadata": {},
	   "source": [
       "# Chapter 19: Reciprocating expanders and compressors"
	   ]
	},
{
		   "cell_type": "markdown",
		   "metadata": {},
		   "source": [
			"## Example 19.1: example_1.sce"
		   ]
		  },
  {
"cell_type": "code",
	   "execution_count": null,
	   "metadata": {
	    "collapsed": true
	   },
	   "outputs": [],
"source": [
"clc\n",
"//initialization of varaibles\n",
"disp('From tables,')\n",
"h1=1185.3 //B/lb\n",
"v1=4.896 //cu ft/lb\n",
"v2=23.66 //cu ft/lb\n",
"h2=1054.3 //B/lb\n",
"Pd1=1 //cu ft\n",
"Pd2=0.98 //cu ft\n",
"N=300 //rpm\n",
"//calculations\n",
"Wx=h1-h2\n",
"Pd=Pd1+Pd2\n",
"Cl=0.05\n",
"mf=Pd*(1-Cl*(v2/v1 - 1))/v2\n",
"P=Wx*mf*N/(2545/60)\n",
"mep=P*33000/(N*Pd)\n",
"//results\n",
"printf('Horsepower output = %.3f hp',P)\n",
"printf('\n Mean effective pressure = %d psf',mep)\n",
"//The answers in the book are a bit different due to round off error."
   ]
   }
,
{
		   "cell_type": "markdown",
		   "metadata": {},
		   "source": [
			"## Example 19.2: example_2.sce"
		   ]
		  },
  {
"cell_type": "code",
	   "execution_count": null,
	   "metadata": {
	    "collapsed": true
	   },
	   "outputs": [],
"source": [
"clc\n",
"//initialization of varaibles\n",
"R=53.34\n",
"T1=540 //R\n",
"P1=15 //psia\n",
"T2=720 //R\n",
"P2=60 //psia\n",
"PD=150 //cu ft/min\n",
"p1=0.03\n",
"p2=0.06\n",
"//calculations\n",
"v1=R*T1/(P1*144)\n",
"vratio=T1*P2/(P1*T2)\n",
"Nmf=PD*(1-p1*(vratio-1))/v1\n",
"Nmf2=PD*(1-p2*(vratio-1))/v1\n",
"//results\n",
"printf('For clearance of 3 percent, Mass per min = %.1f lb/min',Nmf)\n",
"printf('\n For clearance of 6 percent, Mass per min = %.1f lb/min',Nmf2)"
   ]
   }
],
"metadata": {
		  "kernelspec": {
		   "display_name": "Scilab",
		   "language": "scilab",
		   "name": "scilab"
		  },
		  "language_info": {
		   "file_extension": ".sce",
		   "help_links": [
			{
			 "text": "MetaKernel Magics",
			 "url": "https://github.com/calysto/metakernel/blob/master/metakernel/magics/README.md"
			}
		   ],
		   "mimetype": "text/x-octave",
		   "name": "scilab",
		   "version": "0.7.1"
		  }
		 },
		 "nbformat": 4,
		 "nbformat_minor": 0
}
