{
"cells": [
 {
		   "cell_type": "markdown",
	   "metadata": {},
	   "source": [
       "# Chapter 8: DC Transients"
	   ]
	},
{
		   "cell_type": "markdown",
		   "metadata": {},
		   "source": [
			"## Example 8.1: Capacitor_charging_through_a_series_resistor.sce"
		   ]
		  },
  {
"cell_type": "code",
	   "execution_count": null,
	   "metadata": {
	    "collapsed": true
	   },
	   "outputs": [],
"source": [
"// Scilab code Ex8.1: Pg 253 (2008)\n",
"clc; clear;\n",
"\n",
"C = 8e-06;    // Value of capacitance of capacitor, farad\n",
"R = 0.5e+06;    // Value of series resistor, ohm\n",
"E = 200;    // Value of d.c. voltage supply, volt\n",
"\n",
"// Part (a)\n",
"tau = C*R;    // Time constant of the R-C circuit while charging, s\n",
"printf('\nThe circuit time constant while charging = %1d s', tau);\n",
"\n",
"// Part (b)\n",
"I_0 = E/R;    // Initial charging current through capacitor, A\n",
"printf('\nThe initial charging current through capacitor = %3d micro-ampere', I_0/1e-06);\n",
"\n",
"// Part (c)\n",
"t = 4;  // Time after the supply is connected, s\n",
"v_C = 0.632*E;  // p.d. across the capacitor 4s after the supply is connected, V\n",
"v_R = E - v_C;  // p.d. across the resistor 4s after the supply is connected, V\n",
"printf('\nThe p.d. across resistor and capacitor %d s after the supply is connected = %5.1f V and %4.1f V respectively', t, v_C, v_R);\n",
"\n",
"// Result\n",
"// The circuit time constant while charging = 4 s\n",
"// The initial charging current through capacitor = 400 micro-ampere\n",
"// The p.d. across resistor and capacitor 4 s after the supply is connected = 126.4 V and 73.6 V respectively \n",
"// "
   ]
   }
,
{
		   "cell_type": "markdown",
		   "metadata": {},
		   "source": [
			"## Example 8.2: Capacitor_discharging_through_a_resistor.sce"
		   ]
		  },
  {
"cell_type": "code",
	   "execution_count": null,
	   "metadata": {
	    "collapsed": true
	   },
	   "outputs": [],
"source": [
"// Scilab code Ex8.2: Pg 255 (2008)\n",
"clc; clear;\n",
"C = 0.5e-06;    // Value of capacitance of capacitor, farad\n",
"R1 = 220e+03;    // Value of series resistor, ohm\n",
"R2 = 110e+03;    // Value of parallel resistor, ohm\n",
"E = 150;    // Value of d.c. voltage supply, volt\n",
"\n",
"// Part (a)\n",
"tau = C*R1;    // Time constant of the R1-C circuit while charging, s\n",
"printf('\nThe circuit time constant while charging = %4.2f s', tau);\n",
"I_0 = E/R1;    // Initial charging current through capacitor, A\n",
"printf('\nThe initial charging current through capacitor = %3d micro-ampere', I_0/1e-06);\n",
"\n",
"// Part (b)\n",
"tau = C*(R1+R2);    // Time constant of the R1-C-R2 circuit while discharging, s\n",
"printf('\nThe circuit time constant while discharging = %4.2f s', tau);\n",
"I_0 = E/(R1 + R2);    // Initial discharging current through capacitor, ampere\n",
"i = 0.368*I_0;    // Discharge current after one time constant, ampere\n",
"V_R2 = i*R2;    // Potential difference across R2 after one time constant, volt\n",
"printf('\nThe p.d. across R2 after one time constant while discharging = %4.1f volt', V_R2);\n",
"\n",
"\n",
"// Result\n",
"// The circuit time constant while charging = 0.11 s\n",
"// The initial charging current through capacitor = 681 micro-ampere\n",
"// The circuit time constant while discharging = 0.16 s\n",
"// The p.d. across R2 after one time constant while discharging = 18.4 volt "
   ]
   }
,
{
		   "cell_type": "markdown",
		   "metadata": {},
		   "source": [
			"## Example 8.3: The_series_RL_circuit.sce"
		   ]
		  },
  {
"cell_type": "code",
	   "execution_count": null,
	   "metadata": {
	    "collapsed": true
	   },
	   "outputs": [],
"source": [
"// Scilab code Ex8.3: Pg 258 (2008)\n",
"clc; clear;\n",
"E = 110;    // Value of d.c. voltage supply, volt\n",
"L = 1.5;    // Inductor value, henry\n",
"R = 220;    // Value of series resistor, ohm\n",
"\n",
"// Part (a)\n",
"di_dt = E/L;    // The initial rate of change of current through inductor, H\n",
"printf('\nThe initial rate of change of current through inductor = %5.2f A/s', di_dt);\n",
"\n",
"// Part (b)\n",
"I = E/R;    // The final steady current, A\n",
"printf('\nThe final steady current through inductor = %3.1f A', I);\n",
"\n",
"// Part (c)\n",
"tau = L/R;    // The time taken for the current to reach its fi nal steady value, s\n",
"printf('\nThe time taken for the current to reach its final steady value = %4.1f ms', 5*tau/1e-03);\n",
"\n",
"// Result\n",
"// The initial rate of change of current through inductor = 73.33 A/s\n",
"// The final steady current through inductor = 0.5 A\n",
"// The time taken for the current to reach its final steady value = 34.1 ms "
   ]
   }
],
"metadata": {
		  "kernelspec": {
		   "display_name": "Scilab",
		   "language": "scilab",
		   "name": "scilab"
		  },
		  "language_info": {
		   "file_extension": ".sce",
		   "help_links": [
			{
			 "text": "MetaKernel Magics",
			 "url": "https://github.com/calysto/metakernel/blob/master/metakernel/magics/README.md"
			}
		   ],
		   "mimetype": "text/x-octave",
		   "name": "scilab",
		   "version": "0.7.1"
		  }
		 },
		 "nbformat": 4,
		 "nbformat_minor": 0
}
