{
"cells": [
 {
		   "cell_type": "markdown",
	   "metadata": {},
	   "source": [
       "# Chapter 6: Alternating Quantities"
	   ]
	},
{
		   "cell_type": "markdown",
		   "metadata": {},
		   "source": [
			"## Example 6.10: Three_alternating_currents.sce"
		   ]
		  },
  {
"cell_type": "code",
	   "execution_count": null,
	   "metadata": {
	    "collapsed": true
	   },
	   "outputs": [],
"source": [
"// Scilab code Ex6.10: Pg 215 (2008)\n",
"clc; clear;\n",
"// The general expression for alternating current is I = Io*sin(2*%pi*f*t + phi)\n",
"f = poly(0, 'f');   // Declare the variable for frequency\n",
"f = roots(2*%pi*f - 80*%pi);    // Frequency of alternating current, Hz\n",
"// I2 is the reference waveform with zero phase angle, so that\n",
"phi2 = 0;   // Phase angle for reference waveform I2, degrees\n",
"Im2 = 3;    // Current amplitude of reference waveform I2, A\n",
"Im1 = 5;    // Current amplitude of reference waveform I1, A\n",
"Im3 = 6;    // Current amplitude of reference waveform I3, A\n",
"phi1 = %pi/6*(180/%pi); // Phase angle for reference waveform I1, degrees\n",
"phi3 = %pi/4*(180/%pi); // Phase angle for reference waveform I3, degrees\n",
"printf('\nThe frequency of all three waveforms = %2d Hz', f);\n",
"printf('\nI1 leads I2 by = %2.0f degrees', phi1-phi2);\n",
"printf('\nI3 lags I2 by = %2d degrees', phi3-phi2);\n",
"printf('\nCurrent amplitude of reference waveform I1 = %1d A', Im1);\n",
"printf('\nCurrent amplitude of reference waveform I2 = %1d A', Im2);\n",
"printf('\nCurrent amplitude of reference waveform I3 = %1d A', Im3);\n",
"// Result\n",
"// The frequency of all three waveforms = 40 Hz\n",
"// I1 leads I2 by = 30 degrees\n",
"// I3 lags I2 by = 45 degrees\n",
"// Current amplitude of reference waveform I1 = 5 A\n",
"// Current amplitude of reference waveform I2 = 3 A\n",
"// Current amplitude of reference waveform I3 = 6 A "
   ]
   }
,
{
		   "cell_type": "markdown",
		   "metadata": {},
		   "source": [
			"## Example 6.12: Standard_expression_for_waveforms.sce"
		   ]
		  },
  {
"cell_type": "code",
	   "execution_count": null,
	   "metadata": {
	    "collapsed": true
	   },
	   "outputs": [],
"source": [
"// Scilab code Ex6.12: Pg 218 (2008)\n",
"clc; clear;\n",
"Im1 = 7;    // Current amplitude of reference waveform I1, A\n",
"Im2 = 6;    // Current amplitude of reference waveform I2, A\n",
"Im3 = 5;    // Current amplitude of reference waveform I3, A\n",
"Im4 = 4;    // Current amplitude of reference waveform I4, A\n",
"phi1 = 70*%pi/180;   // Phase angle for reference waveform I1, rad\n",
"phi2 = 0*%pi/180;   // Phase angle for reference waveform I2, rad\n",
"phi3 = -50*%pi/180;   // Phase angle for reference waveform I3, rad\n",
"phi4 = -90*%pi/180;   // Phase angle for reference waveform I4, rad\n",
"printf('\ni1 = %dsin(wt + %4.2f) amp', Im1, phi1);\n",
"printf('\ni2 = %dsin wt amp', Im2);\n",
"printf('\ni3 = %dsin(wt + %4.2f) amp', Im3, phi3);\n",
"printf('\ni4 = %dsin(wt + %4.2f) amp', Im4, phi4);\n",
"// Result\n",
"// i1 = 7sin(wt + 1.22) amp\n",
"// i2 = 6sin wt amp\n",
"// i3 = 5sin(wt + -0.87) amp\n",
"// i4 = 4sin(wt + -1.57) amp "
   ]
   }
,
{
		   "cell_type": "markdown",
		   "metadata": {},
		   "source": [
			"## Example 6.13: Phasor_sum_of_two_voltages.sce"
		   ]
		  },
  {
"cell_type": "code",
	   "execution_count": null,
	   "metadata": {
	    "collapsed": true
	   },
	   "outputs": [],
"source": [
"// Scilab code Ex6.13: Pg 221 (2008)\n",
"clc; clear;\n",
"omega = 314;    // Angular frequency of voltage, rad per sec\n",
"Vm1 = 25;   // Peak value of first phasor, V\n",
"Vm2 = 15;   // Peak value of second phasor, V\n",
"H_C = Vm1*cosd(%pi/3*180/%pi)+Vm2*cosd(-%pi/6*180/%pi); // Horizontal component of phasor sum, V\n",
"V_C = Vm1*sind(%pi/3*180/%pi)+Vm2*sind(-%pi/6*180/%pi); // Vertical component of phasor sum, V\n",
"Vm = sqrt(H_C^2+V_C^2); // Peak value of phasor sum, V\n",
"phi = atan(V_C/H_C);   // Phase angle, degrees\n",
"printf('\nv = %5.2fsin(%3dt + %5.3f) volt', Vm, omega, phi);\n",
"// Result\n",
"// v = 29.15sin(314t + 0.507) volt "
   ]
   }
,
{
		   "cell_type": "markdown",
		   "metadata": {},
		   "source": [
			"## Example 6.14: Phasor_sum_of_three_currents.sce"
		   ]
		  },
  {
"cell_type": "code",
	   "execution_count": null,
	   "metadata": {
	    "collapsed": true
	   },
	   "outputs": [],
"source": [
"// Scilab code Ex6.14: Pg 222 (2008)\n",
"clc; clear;\n",
"Im1 = 6;   // Peak value of first phasor, A\n",
"Im2 = 8;   // Peak value of second phasor, A\n",
"Im3 = 4;   // Peak value of third phasor, A\n",
"H_C = Im1*cosd(0*180/%pi)+Im2*cosd(-%pi/2*180/%pi)+Im3*cosd(%pi/6*180/%pi); // Horizontal component of phasor sum, A\n",
"V_C = Im1*sind(0*180/%pi)+Im2*sind(-%pi/2*180/%pi)+Im3*sind(%pi/6*180/%pi); // Vertical component of phasor sum, A\n",
"Im = sqrt(H_C^2+V_C^2); // Peak value of phasor sum, V\n",
"phi = atan(V_C/H_C);   // Phase angle, rad\n",
"printf('\ni = %4.1fsin(wt%5.3f) amp', Im, phi);\n",
"// Result\n",
"// i = 11.2sin(wt-0.565) amp "
   ]
   }
,
{
		   "cell_type": "markdown",
		   "metadata": {},
		   "source": [
			"## Example 6.15: Phasor_sum_of_three_voltages.sce"
		   ]
		  },
  {
"cell_type": "code",
	   "execution_count": null,
	   "metadata": {
	    "collapsed": true
	   },
	   "outputs": [],
"source": [
"// Scilab code Ex6.15: Pg 222 (2008)\n",
"clc; clear;\n",
"// Part (a)\n",
"omega = 628;    // Angular frequency of voltage, rad per sec\n",
"f = omega/(2*%pi);  // Frequency of the waveforms, Hz\n",
"Vm1 = 10;   // Peak value of first phasor, V\n",
"Vm2 = 8;   // Peak value of second phasor, V\n",
"Vm3 = 12;   // Peak value of third phasor, V\n",
"phi1 = -%pi/6*180/%pi;      // Phase angle for first voltage, degrees\n",
"phi2 = %pi/3*180/%pi;      // Phase angle for second voltage, degrees\n",
"phi3 = %pi/4*180/%pi;      // Phase angle for third voltage, degrees\n",
"printf('\nThe frequency of all three waveforms = %3d Hz', f);\n",
"printf('\nThe phase angle and frequency of first voltage : %2d degrees, %2d V', phi1, Vm1);\n",
"printf('\nThe phase angle and frequency of second voltage : %2d degrees, %2d V', phi2, Vm2);\n",
"printf('\nThe phase angle and frequency of third voltage : %2d degrees, %2d V', phi3, Vm3);\n",
"// Part (b)\n",
"H_C = Vm1*cosd(phi1)+Vm2*cosd(phi2)+Vm3*cosd(phi3); // Horizontal component of phasor sum, V\n",
"V_C = Vm1*sind(phi1)+Vm2*sind(phi2)+Vm3*sind(phi3); // Horizontal component of phasor sum, V\n",
"Vm = sqrt(H_C^2+V_C^2); // Peak value of phasor sum, V\n",
"phi = atan(V_C/H_C);   // Phase angle, rad\n",
"printf('\nv = %5.2fsin(%3dt + %5.3f) volt', Vm, omega, phi);\n",
"// Result\n",
"// The frequency of all three waveforms =  99 Hz\n",
"// The phase angle and frequency of first voltage : -29 degrees, 10 V\n",
"// The phase angle and frequency of second voltage : 59 degrees,  8 V\n",
"// The phase angle and frequency of third voltage : 45 degrees, 12 V\n",
"// v = 23.57sin(628t + 0.458) volt "
   ]
   }
,
{
		   "cell_type": "markdown",
		   "metadata": {},
		   "source": [
			"## Example 6.16: Dual_Beam_Oscilloscope.sce"
		   ]
		  },
  {
"cell_type": "code",
	   "execution_count": null,
	   "metadata": {
	    "collapsed": true
	   },
	   "outputs": [],
"source": [
"// Scilab code Ex6.16: Pg 228 (2008)\n",
"clc; clear;\n",
"tb1 = 0.1e-03;  // Timebase of channel 1, s/cm\n",
"tb2 = 10e-06;  // Timebase of channel 2, s/cm\n",
"Y_amp1 = 5; // Y-amp setting for channel 1, V/cm\n",
"Y_amp2 = 0.5; // Y-amp setting for channel 2, V/cm\n",
"// Channel 1\n",
"V_pp = 3*Y_amp1;    // Peak-to-peak value of waveform in channel 1, V\n",
"Vm = V_pp/2;    // Amplitude of waveform in channel 1, V\n",
"V = Vm/sqrt(2); // rms value of sine wave in channel 1, V\n",
"T = 4*tb1;  // Time period of sine wave, second\n",
"f = 1/(T*1000);    // Frequency of sine wave, kHz\n",
"printf('\nThe amplitude of sine waveform in channel 1 = %3.1f V', Vm);\n",
"printf('\nThe rms value of sine wave in channel 1 = %3.1f V', V);\n",
"printf('\nThe frequency of sine wave in channel 1 = %3.1f kHz', f);\n",
"// Channel 2\n",
"V_pp = 2*Y_amp2;    // Peak-to-peak value of waveform in channel 2, V\n",
"Vm = V_pp/2;    // Amplitude of waveform in channel 2, V\n",
"V = Vm; // rms value of square wave in channel 2, V\n",
"T = 2/3*tb2;  // Time period of square wave, second\n",
"f = 1/(T*1000);    // Frequency of square wave, kHz\n",
"printf('\nThe amplitude of square waveform in channel 2 = %3.1f V', Vm);\n",
"printf('\nThe rms value of square wave in channel 2 = %3.1f V', V);\n",
"printf('\nThe frequency of square wave in channel 2 = %3d kHz', f);\n",
"// Result\n",
"// The amplitude of sine waveform in channel 1 = 7.5 V\n",
"// The rms value of sine wave in channel 1 = 5.3 V\n",
"// The frequency of sine wave in channel 1 = 2.5 kHz\n",
"// The amplitude of square waveform in channel 2 = 0.5 V\n",
"// The rms value of square wave in channel 2 = 0.5 V\n",
"// The frequency of square wave in channel 2 = 150 kHz "
   ]
   }
,
{
		   "cell_type": "markdown",
		   "metadata": {},
		   "source": [
			"## Example 6.1: Alternating_Voltage.sce"
		   ]
		  },
  {
"cell_type": "code",
	   "execution_count": null,
	   "metadata": {
	    "collapsed": true
	   },
	   "outputs": [],
"source": [
"// Scilab code Ex6.1: Pg 202 (2008)\n",
"clc; clear;\n",
"// Comparing alternating voltage v = 35*sin(314.2*t) with the standard Eq.\n",
"// Part (a)\n",
"V_m = 35;  // Maximum value of alternating voltage, volt\n",
"// Part (b)\n",
"f = poly(0, 'f');       // Declare a variable for freq.\n",
"f = roots(2*%pi*f - 314.2);     // Frequency of waveform, Hz\n",
"// Part (c)\n",
"T = 1/f;    // Time period of waveform, sec\n",
"// Part (d)\n",
"t = 3.5;    // Time with reference to zero crossing, sec\n",
"v = 35*sin(2*%pi*50*3.5*1e-03);    // Volatge value after the waveform passes through zero, going positive\n",
"printf('\nThe maximum value of alternating voltage = %2d volt', V_m);\n",
"printf('\nThe frequency of alternating voltage = %2d Hz', f);\n",
"printf('\nThe time period of alternating voltage = %3.1f ms', T/1e-03);\n",
"printf('\nThe volatge value after the waveform passes through zero = %5.2f volt', v);\n",
"// Result\n",
"// The maximum value of alternating voltage = 35 volt\n",
"// The frequency of alternating voltage = 50 Hz\n",
"// The time period of alternating voltage = 20.0 ms\n",
"// The volatge value after the waveform passes through zero = 31.19 volt"
   ]
   }
,
{
		   "cell_type": "markdown",
		   "metadata": {},
		   "source": [
			"## Example 6.2: Frequency_and_time_for_alternating_current.sce"
		   ]
		  },
  {
"cell_type": "code",
	   "execution_count": null,
	   "metadata": {
	    "collapsed": true
	   },
	   "outputs": [],
"source": [
"// Scilab code Ex6.2: Pg 202 (2008)\n",
"clc; clear;\n",
"// Part (a)\n",
"f = poly(0, 'f');       // Declare a variable for freq.\n",
"// Given i = 75*sin(200*%pi*t) mA which on comparing with the general expression gives\n",
"f = roots(2*%pi*f - 200*%pi);    // Frequency of alternating current, Hz\n",
"// Part(b)\n",
"i = 35;     // Alternating current after passing through zero, mA\n",
"t = asin(i/75)/(200*%pi*1e-03);   // Time taken for current to reach 35 mA, ms\n",
"printf('\nThe frequency of alternating current = %2d Hz', f);\n",
"printf('\nThe time taken for current to reach 35 mA = %5.3f mA', t);\n",
"// Result\n",
"// The frequency of alternating current = 100 Hz\n",
"// The time taken for current to reach 35 mA = 0.773 mA"
   ]
   }
,
{
		   "cell_type": "markdown",
		   "metadata": {},
		   "source": [
			"## Example 6.3: Standard_expression_for_ac_current_from_its_average_value.sce"
		   ]
		  },
  {
"cell_type": "code",
	   "execution_count": null,
	   "metadata": {
	    "collapsed": true
	   },
	   "outputs": [],
"source": [
"// Scilab code Ex6.3: Pg 204 (2008)\n",
"clc; clear;\n",
"V_av = 3.5;     // Average value of sinusoidal alternating voltage, V\n",
"T = 6.67e-03;   // Time period of alternating current, s\n",
"V_m = V_av/0.637;   // Peak value of alternating current, V\n",
"f = 1/T;    // Frequency of alternating volatge, Hz\n",
"printf('\nThe standard expression for %3.1f voltage = %3.1f sin(%3d*pi*t) volt', V_av, V_m, round(2*f));\n",
"// Result\n",
"// The standard expression for 3.5 voltage = 5.5 sin(300*pi*t) volt "
   ]
   }
,
{
		   "cell_type": "markdown",
		   "metadata": {},
		   "source": [
			"## Example 6.4: Instantaneous_value_of_sinusoidal_alternating_voltage.sce"
		   ]
		  },
  {
"cell_type": "code",
	   "execution_count": null,
	   "metadata": {
	    "collapsed": true
	   },
	   "outputs": [],
"source": [
"// Scilab code Ex6.4: Pg 204 (2008)\n",
"clc; clear;\n",
"V_av = 3.5;     // Average value of sinusoidal alternating voltage, V\n",
"T = 6.67e-03;   // Time period of alternating voltage, s\n",
"V_m = V_av/0.637;   // Peak value of alternating voltage, V\n",
"f = 1/T;    // Frequency of alternating volatge, Hz\n",
"// Part (a)\n",
"t = 0.5e-03;    // Time taken by the waveform after passing through zero, s\n",
"v = V_m*sin(2*%pi*f*t);     // Instantaneous value of alternating voltage, s\n",
"printf('\nThe instantaneous value of alternating voltage after %3.1f ms = %3.1f volt', t/1e-03, v);\n",
"// Part (b)\n",
"t = 4.5e-03;    // Time taken by the waveform after passing through zero, s\n",
"v = V_m*sin(2*%pi*f*t);     // Instantaneous value of alternating voltage, s\n",
"printf('\nThe instantaneous value of alternating voltage after %3.1f ms = %3.1f volt', t/1e-03, v);\n",
"// Part (c)\n",
"v = 3;     // Alternating voltage after passing through zero, mA\n",
"t = asin(v/V_m)/(2*%pi*f);   // Time taken for current to reach 3 V, s\n",
"printf('\nThe time taken for voltage to reach %1d volt = %5.3f ms', v, t/1e-03);\n",
"// Result\n",
"// The instantaneous value of alternating voltage after 0.5 ms = 2.5 volt\n",
"// The instantaneous value of alternating voltage after 4.5 ms = -4.9 volt\n",
"// The time taken for voltage to reach 3 volt = 0.613 ms "
   ]
   }
,
{
		   "cell_type": "markdown",
		   "metadata": {},
		   "source": [
			"## Example 6.5: Amplitude_fo_the_household_supply_voltage.sce"
		   ]
		  },
  {
"cell_type": "code",
	   "execution_count": null,
	   "metadata": {
	    "collapsed": true
	   },
	   "outputs": [],
"source": [
"// Scilab code Ex6.5:  Pg 206 (2008)\n",
"clc; clear;\n",
"V = 240;    // Rms vlaue of alternating voltage, volt\n",
"V_m = sqrt(2)*V;   // Peak value of alternating voltage, volt\n",
"printf('\nThe amplitude of household %3d volt supply = %5.1f volt', V, V_m);\n",
"// Result\n",
"// The amplitude of household 240 volt supply = 339.4 volt "
   ]
   }
,
{
		   "cell_type": "markdown",
		   "metadata": {},
		   "source": [
			"## Example 6.6: Minimum_voltage_rating_of_capacitor.sce"
		   ]
		  },
  {
"cell_type": "code",
	   "execution_count": null,
	   "metadata": {
	    "collapsed": true
	   },
	   "outputs": [],
"source": [
"// Scilab code Ex6.6: Pg 207 (2008)\n",
"clc; clear;\n",
"pf = 2.5;   // Peak factor of non-sinusoidal alternating voltage\n",
"V = 240;    // Rms vlaue of alternating voltage, volt\n",
"V_m = pf*V;   // Peak value of alternating voltage, volt\n",
"printf('\nThe absolute minimum working voltage = %3d volt', V_m);\n",
"// Result\n",
"// The absolute minimum working voltage = 600 volt "
   ]
   }
,
{
		   "cell_type": "markdown",
		   "metadata": {},
		   "source": [
			"## Example 6.7: Rectangular_coil_rotating_in_uniform_magnetic_field.sce"
		   ]
		  },
  {
"cell_type": "code",
	   "execution_count": null,
	   "metadata": {
	    "collapsed": true
	   },
	   "outputs": [],
"source": [
"// Scilab code Ex6.7: Pg 207 (2008)\n",
"clc; clear;\n",
"l = 0.25;   // Length of the rectangular coil, m\n",
"d = 0.2;    // Width of rectangular coil, m\n",
"N = 80;     // Number of turns of the rectangular coil\n",
"B = 0.075;  // Magnetic flux density, tesla\n",
"n = 3000/60;   // Frequency of revolution of the coil, rev/s\n",
"v = n*%pi*d;    // Linear speed with which the coil sides move, m/s\n",
"t = 2e-03;      // Time after the emf crosses zero, s\n",
"// Part (a)\n",
"// As e = 2*N*B*l*v*sin(2*%pi*f*t) volt, and for maximum value of sin(2*%pi*f*t) = 1\n",
"E_m = 2*N*B*l*v*(1);  // Amplitude of emf, volt\n",
"E = 0.707*E_m;      // rms value of emf, volt\n",
"E_av = 0.637*E_m;   // Average value of emf, volt\n",
"// For a two pole field system, \n",
"f = n;      // Frequency of generated waveform, Hz\n",
"// Part (b)\n",
"T = 1/f;    // Time period of generated waveform, Hz\n",
"// Part (c)\n",
"e = E_m*sin(2*%pi*f*t);     // Instantaneous value at time 2 ms after zero, volt\n",
"printf('\nThe amplitude, rms and average value of emf = %5.2f V, %5.2f V and %5.2f V resp.', E_m, E, E_av);\n",
"printf('\nThe frequency and time period of generated waveform = %2d Hz and %2d ms resp.', f, T/1e-03);\n",
"printf('\nThe instantaneous value of emf at time 2 ms after crossing zero = %4.1f V', e);\n",
"// Result\n",
"// The amplitude, rms and average value of emf = 94.25 V, 66.63 V and 60.04 V resp.\n",
"// The frequency and time period of generated waveform = 50 Hz and 20 ms resp.\n",
"// The instantaneous value of emf at time 2 ms after crossing zero = 55.4 V"
   ]
   }
,
{
		   "cell_type": "markdown",
		   "metadata": {},
		   "source": [
			"## Example 6.8: Value_of_multiplier_required_for_required_dc_value.sce"
		   ]
		  },
  {
"cell_type": "code",
	   "execution_count": null,
	   "metadata": {
	    "collapsed": true
	   },
	   "outputs": [],
"source": [
"// Scilab code Ex6.8: Pg 212 (2008)\n",
"clc; clear;\n",
"R_c = 50;   // Resistance of the coil of meter, ohm\n",
"K = 10e+03;     // Figure of merit of the moving coil meter, ohm per volt\n",
"V = 10;     // d.c. range of coil meter, volt\n",
"// Part (a)\n",
"I_fsd = 1/K;    // Full scale deflection for moving coil meter, ampere\n",
"R = V/I_fsd;    // Total meter resistance, ohm\n",
"// As R = R_m + R_c, solvign for R_m\n",
"R_m = R - R_c;      // Multiplier resistance required by the meter, ohm\n",
"printf('\nThe multiplier resistance required for 10 V d.c. range = %5.2f k-ohm', R_m/1e+03);\n",
"// Part(b)\n",
"I_av = I_fsd;   // Average value of ac current, A\n",
"I_rms = %pi/(2*sqrt(2))*I_av;    // rms value of ac current, A\n",
"V = 10 ;     // a.c. range of coil meter, volt\n",
"R = V/I_rms;    // Total meter resistance, ohm\n",
"// As R = R_m + R_c, solvign for R_m\n",
"R_m = R - R_c;      // Multiplier resistance required by the meter, ohm\n",
"printf('\nThe multiplier resistance required for 10 V a.c. range = %5.2f k-ohm', R_m/1e+03);\n",
"// Result\n",
"// The multiplier resistance required for 10 V d.c. range = 99.95 k-ohm\n",
"// The multiplier resistance required for 10 V a.c. range = 89.98 k-ohm"
   ]
   }
,
{
		   "cell_type": "markdown",
		   "metadata": {},
		   "source": [
			"## Example 6.9: True_rms_values_with_moving_coil_meter.sce"
		   ]
		  },
  {
"cell_type": "code",
	   "execution_count": null,
	   "metadata": {
	    "collapsed": true
	   },
	   "outputs": [],
"source": [
"// Scilab code Ex6.9: Pg 213 (2008)\n",
"clc; clear;\n",
"// Case_I: Square_wave\n",
"ff = 1.11;  //  Form factor of calibrated meter\n",
"ff_square = 1;  // Form factor for square wave\n",
"V_apparent = 5;     // Meter reading for sqaure wave, volt\n",
"V_true = V_apparent*1*(ff_square/ff);    // True rms value of square wave voltage, volt\n",
"printf('\nThe true rms value of square wave voltage = %5.3f V', V_true);\n",
"// Case_II: Triangular_wave\n",
"ff_triangle = 1.15;  // Form factor for triangular wave\n",
"V_apparent = 5;     // Meter reading for triangular wave, volt\n",
"V_true = V_apparent*(ff_triangle/ff);    // True rms value of triangular wave voltage, volt\n",
"printf('\nThe true rms value of triangular wave voltage = %4.2f V', V_true);\n",
"// Result\n",
"// The true rms value of square wave voltage = 4.505 V\n",
"// The true rms value of triangular wave voltage = 5.18 V "
   ]
   }
],
"metadata": {
		  "kernelspec": {
		   "display_name": "Scilab",
		   "language": "scilab",
		   "name": "scilab"
		  },
		  "language_info": {
		   "file_extension": ".sce",
		   "help_links": [
			{
			 "text": "MetaKernel Magics",
			 "url": "https://github.com/calysto/metakernel/blob/master/metakernel/magics/README.md"
			}
		   ],
		   "mimetype": "text/x-octave",
		   "name": "scilab",
		   "version": "0.7.1"
		  }
		 },
		 "nbformat": 4,
		 "nbformat_minor": 0
}
