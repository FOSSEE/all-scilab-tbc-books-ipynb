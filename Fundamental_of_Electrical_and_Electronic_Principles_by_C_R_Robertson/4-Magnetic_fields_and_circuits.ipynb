{
"cells": [
 {
		   "cell_type": "markdown",
	   "metadata": {},
	   "source": [
       "# Chapter 4: Magnetic fields and circuits"
	   ]
	},
{
		   "cell_type": "markdown",
		   "metadata": {},
		   "source": [
			"## Example 4.10: Coil_current_and_relative_permeaility.sce"
		   ]
		  },
  {
"cell_type": "code",
	   "execution_count": null,
	   "metadata": {
	    "collapsed": true
	   },
	   "outputs": [],
"source": [
"// Scilab code Ex4.10: Pg 125 (2008)\n",
"clc; clear;\n",
"N = 1000;                                     // Number of turns on coil\n",
"r = 0.1;                                      // Mean radius of toroid, m\n",
"phi = 0.1775e-03;                             // Flux density(value from graph), Wb\n",
"A = %pi*1e-04;                               // Csa of toroid, m^2\n",
"H = 88;                                       // Magnetic field strength(value from graph), At/m\n",
"B = phi/A;                                    // Flux density, T\n",
"\n",
"// Part (a)\n",
"l = 2*%pi*r;                                  // Effective length of toroid, m\n",
"// Since H = (N*I)/l, solving for I\n",
"I = (H*l)/N ;                                 // Electric current in coil, A\n",
"printf('\nCoil current = %4.1f mA', I/1e-03);\n",
"\n",
"// Part (b)\n",
"mew_o = 4*(%pi)*1e-07;                        // Pemeability for free space\n",
"// Since B = mew_o * mew_r * H, solving for mew_r\n",
"mew_r = B/(mew_o*H);                         //Relative permeability of toroid\n",
"printf('\nThe relative permeability of toroid = %4d',mew_r);\n",
"\n",
"// Result\n",
"// Coil current = 55.3 mA\n",
"// The relative permeability of toroid = 5109"
   ]
   }
,
{
		   "cell_type": "markdown",
		   "metadata": {},
		   "source": [
			"## Example 4.11: Flux_density_and_relative_permeability_of_toroid.sce"
		   ]
		  },
  {
"cell_type": "code",
	   "execution_count": null,
	   "metadata": {
	    "collapsed": true
	   },
	   "outputs": [],
"source": [
"// Scilab code Ex4.11: Pg 125-126 (2008)\n",
"clc; clear;\n",
"mew_o = 4*(%pi)*1e-07;          // Pemeability for free space\n",
"l = 0.15;                       // Mean length, m\n",
"N = 2500;                      // Number of turns\n",
"I = 0.3;                       // Electric current, A\n",
"// Since magnetic field strength is defined as the mmf per metre length of the magnetic circuit, therefore, we have\n",
"H = (N*I)/l;                   // Magnetic field strength, At/m\n",
"B = 0.75;                      // Flux density( value taken from graph ), T\n",
"// Since B = ( mew_r * mew_o * H ), solving for mew_r\n",
"mew_r = B/(mew_o * H);               // Relative permeability\n",
"printf('\nThe flux desity of given toroid = %3.2f T ', B);\n",
"printf('\nThe relative permeability of given toroid = %5.1f', mew_r);\n",
"\n",
"// Result\n",
"// The flux desity of given toroid = 0.75 T\n",
"// The relative permeability of given toroid = 119.4"
   ]
   }
,
{
		   "cell_type": "markdown",
		   "metadata": {},
		   "source": [
			"## Example 4.12: Currents_in_differently_configured_toroids_with_same_flux.sce"
		   ]
		  },
  {
"cell_type": "code",
	   "execution_count": null,
	   "metadata": {
	    "collapsed": true
	   },
	   "outputs": [],
"source": [
"// Scilab code Ex4.12: Pg 126-127 (2008)\n",
"clc; clear;\n",
"mew_o = 4*(%pi)*1e-07;              // Permeability for free space\n",
"l = 0.1875;                         // Mean length, m\n",
"A = 8e-05;                          // Cross- sectional area of of coil, metre-square\n",
"N = 750;                            // Number of turns\n",
"phi = 112e-06;                      // Flux, Wb\n",
"l_gap = 0.5e-03;                    // Average length of the magnetic circuit,m\n",
"B = phi/A;                          // Flux density, Wb\n",
"H = 2000;                           // Magnetic field strength( value taken from graph ), At/m\n",
"F_Fe = H*l;                         // The m.m.f in the iron part of the circuit, At\n",
"// Since F = I*N, solving for I\n",
"I = F_Fe/N;                         // Coil current under normal conditions, A\n",
"// Since B = mew_o * H_gap, solving for H_gap\n",
"H_gap = B/mew_o;                    // Magnetic field strength, At/m\n",
"// Since H_gap = F_gap/l_gap, solving for F_gap\n",
"F_gap = H_gap * l_gap;              // The mmf in the air part of the circuit, At\n",
"F = F_Fe + F_gap;                  // Total circuit mmf, At\n",
"I_new = F/N;                       // Current required to maintain the flux at its original value, A\n",
"printf('\nThe coil current required to produce a flux of %3d micro-weber in the toroid = %3.1f A ', phi/1e-06, I);\n",
"printf('\nCurrent required to maintain the flux at its original value = %5.3f A', I_new);\n",
"\n",
"// Result\n",
"// The coil current required to produce a flux of 112 micro-weber in the toroid = 0.5 A \n",
"// Current required to maintain the flux at its original value = 1.243 A"
   ]
   }
,
{
		   "cell_type": "markdown",
		   "metadata": {},
		   "source": [
			"## Example 4.13: Coil_current_in_a_magnetic_circuit.sce"
		   ]
		  },
  {
"cell_type": "code",
	   "execution_count": null,
	   "metadata": {
	    "collapsed": true
	   },
	   "outputs": [],
"source": [
"// Scilab code Ex4.13: Pg 127-128 (2008)\n",
"clc; clear;\n",
"l_A = 0.25;                  // Mean length of cicuit A, m\n",
"l_B = 0.15;                  // Mean length of cicuit A, m\n",
"A_A = 11.5e-04;              // Cross-sectional area of circuit A, metre-square\n",
"A_B = 12e-04;                // Cross-sectional area of circuit B, metre-square\n",
"phi = 1.5e-03;               // Flux, Wb\n",
"N = 1000;                    // Number of turns\n",
"B_A = phi/A_A;              // Flux density linked with circuit A, T\n",
"B_B = phi/A_B;              // Flux density linked with circuit B, T\n",
"H_A = 1470;                 // Magnetic field strength of cicuit A( value taken from graph ), At/m\n",
"H_B = 845;                  // Magnetic field strength of cicuit B( value taken from graph ), At/m\n",
"// Snce H = F/l, solving for F \n",
"F_A = H_A * l_A;                // Magnetic field strength of circuit A, At/m\n",
"F_B = H_B * l_B;                // Magnetic field strength of circuit B, At/m\n",
"F = F_A + F_B;                   // Total circuit m.m.f, At/m\n",
"I = F/N;                          // Coil current, A\n",
"printf('\Coil current in the magnetic circuit = %5.3f A', I);\n",
"\n",
"// Result\n",
"//  Coil current in the magnetic circuit = 0.494 A "
   ]
   }
,
{
		   "cell_type": "markdown",
		   "metadata": {},
		   "source": [
			"## Example 4.14: Magnetomotive_force_required_by_ring_for_generating_desired_flux.sce"
		   ]
		  },
  {
"cell_type": "code",
	   "execution_count": null,
	   "metadata": {
	    "collapsed": true
	   },
	   "outputs": [],
"source": [
"// Scilab code Ex4.14: Pg 129-130 (2008)\n",
"clc; clear;\n",
"A = 8e-04;                                // Cross-sectional area, metre-square\n",
"d = 24e-02;                               // Mean diametre of iron ring, m \n",
"phi = 1.2e-03;                            // Flux, Wb\n",
"mew_r = 1200;                             // Relative permeability\n",
"mew_o = 4*(%pi)*1e-07;                   // Pemeability for free space\n",
"mew_air = 1;                             // Pemeability for air\n",
"l_gap = 3e-03;                           // Mean length, m\n",
"l_Fe = (%pi) * d;                        // Mean length of iron circuit, m\n",
"S_Fe = l_Fe/(mew_r * mew_o *A);          // Reluctance of iron circuit, At/Wb\n",
"S_gap = l_gap/(mew_air * mew_o *A);        // Reluctance of gap, At/Wb\n",
"S = S_Fe + S_gap;                        // Total circuit reluctance, At/Wb\n",
"// Since phi = F/S, solving for F\n",
"F = phi*S;                               // Magnetomotive force, At\n",
"printf('\nThe required mmf = %5.1f At', F);\n",
"\n",
"// Result\n",
"// The required mmf = 4331 At"
   ]
   }
,
{
		   "cell_type": "markdown",
		   "metadata": {},
		   "source": [
			"## Example 4.15: Reluctance_and_current_in_a_circuit_placed_in_magnetic_field.sce"
		   ]
		  },
  {
"cell_type": "code",
	   "execution_count": null,
	   "metadata": {
	    "collapsed": true
	   },
	   "outputs": [],
"source": [
"// Scilab code Ex4.15: Pg 130-131 (2008)\n",
"clc; clear;\n",
"N = 500;                                       // Number of turns on first section's coil\n",
"phi = 2e-03;                                   // Flux produced by first section, Wb\n",
"l_1 = 85e-02;                                  // Length of first section, m\n",
"l_2 = 65e-02;                                  // Length of second section, m\n",
"l_3 = 0.1e-02;                                 // Length of third section, m\n",
"A_1 = 10e-04;                                  // Csa of first section, m^2\n",
"A_2 = 15e-04;                                  // Csa of second section, m^2\n",
"A_3 = 12.5e-04;                                // Csa of second section, m^2\n",
"mew_o = 4*(%pi)*1e-07;                         // Pemeability for free space\n",
"mew_r1 = 600;                                  // Relative permeability of first section\n",
"mew_r2 = 950;                                  // Relative permeability of second section\n",
"mew_r3 = 1;                                    // Relative permeability of third section\n",
"\n",
"// Part (a)\n",
"S_1 = l_1/(mew_r1 * mew_o * A_1);              // Reluctance of first section, At/Wb\n",
"S_2 = l_2/(mew_r2 * mew_o * A_2);              // Reluctance of first section, At/Wb\n",
"S_3 = l_3/(mew_r3 * mew_o * A_3);              // Reluctance of first section, At/Wb\n",
"S = S_1 + S_2 + S_3;                           // Total reluctance of the circuit, At/Wb\n",
"printf('\nTotal reluctance of the circuit = %4.2fe+06 At/Wb', S*1e-06);\n",
"\n",
"// Part (b)\n",
"// Since phi = F/S, solving for F\n",
"F = phi*S;                                    // Magnetomotive force, At\n",
"// Since F = N*I, solving for I\n",
"I = F/N;                                      // Electric current in first section, A\n",
"printf('\nElectric current in first section = %4.2f A', I);\n",
"\n",
"// Result\n",
"// Total reluctance of the circuit = 2.13e+06 At/Wb\n",
"// Electric current in first section = 8.51 A"
   ]
   }
,
{
		   "cell_type": "markdown",
		   "metadata": {},
		   "source": [
			"## Example 4.1: Flux_density_at_the_pole_face.sce"
		   ]
		  },
  {
"cell_type": "code",
	   "execution_count": null,
	   "metadata": {
	    "collapsed": true
	   },
	   "outputs": [],
"source": [
"// Scilab code Ex4.1: Pg 116 (2008)\n",
"clc; clear;\n",
"A = 6e-04;                  // Cross-sectional area of pole face, metre-square\n",
"phi = 30e-06;              // Flux, Wb\n",
"B = phi/A;                  // Flux density, T\n",
"printf('\nThe flux desity at the pole face = %2d mT', B/1e-03);\n",
"\n",
"// Result\n",
"// The flux desity at the pole face = 50 mT"
   ]
   }
,
{
		   "cell_type": "markdown",
		   "metadata": {},
		   "source": [
			"## Example 4.2: Magnetic_Flux.sce"
		   ]
		  },
  {
"cell_type": "code",
	   "execution_count": null,
	   "metadata": {
	    "collapsed": true
	   },
	   "outputs": [],
"source": [
"// Scilab code Ex4.2: Pg 116 (2008)\n",
"clc; clear;\n",
"A = 45e-06;                    // Cross sectional area of pole face, metre-square\n",
"B = 0.6;                      // Flux density, T\n",
"// Using formula B = phi/A, solving for phi\n",
"phi = B*A;                   // Flux, Wb\n",
"printf('\nThe flux produced by pole face = %2d micro-wWb', phi/1e-06);\n",
"\n",
"// Result \n",
"//The flux produced by pole face = 27 micro-Wb "
   ]
   }
,
{
		   "cell_type": "markdown",
		   "metadata": {},
		   "source": [
			"## Example 4.3: Magnetomotive_force_and_flux_density_produced_in_a_toroid.sce"
		   ]
		  },
  {
"cell_type": "code",
	   "execution_count": null,
	   "metadata": {
	    "collapsed": true
	   },
	   "outputs": [],
"source": [
"// Scilab code Ex4.3: Pg 117 (2008)\n",
"clc; clear;\n",
"N = 1500;                      // Number of turns in a coil\n",
"A = 5e-04;                     // Cross- sectional area of of coil, metre-square\n",
"phi = 0.2e-03;                 // Flux, Wb\n",
"I = 0.75;                      // Coil-current, A\n",
"// Since m.m.f is the product of the current and the number of turns, therefore, we have\n",
"F = N*I;                      // Magnetomotive force, At\n",
"B = phi/A;                    // Flux density, T\n",
"printf('\The m.m.f and flux density produced are %4d At and %3.1f T respectively', F, B);\n",
"\n",
"// Result\n",
"// The m.m.f and flux density produced are 1125 At and 0.4 T respectively\n",
""
   ]
   }
,
{
		   "cell_type": "markdown",
		   "metadata": {},
		   "source": [
			"## Example 4.4: Excitation_current_required_to_produce_required_magnetomotive_force.sce"
		   ]
		  },
  {
"cell_type": "code",
	   "execution_count": null,
	   "metadata": {
	    "collapsed": true
	   },
	   "outputs": [],
"source": [
"// Scilab code Ex4.4:Pg 117 (2008)\n",
"clc; clear;\n",
"N = 600;                      // Number of turns in a coil\n",
"F = 1500;                      // Magnetomotive force, At\n",
"// Since magnetomotive force,F = N*I, solving for I\n",
"I = F/N;                      // Excitation-current, A\n",
"printf('\nThe excitation current required = %3.1f A', I);\n",
"\n",
"// Result\n",
"// The excitation current required = 2.5 A"
   ]
   }
,
{
		   "cell_type": "markdown",
		   "metadata": {},
		   "source": [
			"## Example 4.5: Magnetic_field_strength_inside_a_toroid.sce"
		   ]
		  },
  {
"cell_type": "code",
	   "execution_count": null,
	   "metadata": {
	    "collapsed": true
	   },
	   "outputs": [],
"source": [
"// Scilab code Ex4.5: Pg 118 (2008)\n",
"clc; clear;\n",
"I = 0.4;                  // Current, A\n",
"N = 550;                  // Number of turns in a coil\n",
"d = 8e-02;                // Diameter, m\n",
"l = (%pi*d);              // Average length of the magnetic circuit, m\n",
"// Since magnetic field strength is defined as the mmf per metre length of the magnetic circuit, therefore, we have\n",
"H = (N*I)/l;                // Magnetic field strength, At/m\n",
"printf('\nThe magnetic field strength inside the toroid = %6.2f At/m', H);\n",
"\n",
"// Result\n",
"// The magnetic field strength inside the toroid = 875.35 At/m "
   ]
   }
,
{
		   "cell_type": "markdown",
		   "metadata": {},
		   "source": [
			"## Example 4.6: Flux_and_flux_density_with_changed_permeability.sce"
		   ]
		  },
  {
"cell_type": "code",
	   "execution_count": null,
	   "metadata": {
	    "collapsed": true
	   },
	   "outputs": [],
"source": [
"// Scilab code Ex4.6: Pg 119-120 (2008)\n",
"clc; clear;\n",
"A = 15e-04;                   // Cross-sectional area of core, metre-square\n",
"mew_r1 = 65;                  // Relative permeability of core\n",
"phi_1 = 2e-04;                // Flux, Wb\n",
"mew_r2 = 800;                 // Changed relative permeability of core\n",
"B_1 = phi_1/A;                // Flux density, T\n",
"mew_r = mew_r2/mew_r1;        // Relative permeability of core\n",
"// Since cross-sectional area of core A remains constant, therefore, we have mew_r = B_1/B_2 , solving for B_2\n",
"B_2 = mew_r*B_1;              //  New flux density, T\n",
"// Since B_2 = phi_2/A, solving for phi_2\n",
"phi_2 = B_2*A;                // New flux, Wb\n",
"printf('\nThe new flux and flux density are %5.3f mWb and %5.3f T respectively', phi_2/1e-03, B_2);\n",
"\n",
"// Result\n",
"// The new flux and flux density are 2.462 mWb and 1.641 T respectively"
   ]
   }
,
{
		   "cell_type": "markdown",
		   "metadata": {},
		   "source": [
			"## Example 4.7: Magnetic_properties_of_toroid.sce"
		   ]
		  },
  {
"cell_type": "code",
	   "execution_count": null,
	   "metadata": {
	    "collapsed": true
	   },
	   "outputs": [],
"source": [
"// Scilab code Ex4.7: Pg 120 (2008)\n",
"clc; clear;\n",
"r = 0.04;                           // Mean radius of torod, m\n",
"A = 3e-04;                          // Csa of toroid, m^2\n",
"mew_o = 4*(%pi)*1e-07;              // Permeability of free space\n",
"mew_r = 150;                        // Relative permeability of toroid\n",
"N = 900;                            // Number of turns on coil\n",
"I = 1.5;                            // Coil current, A\n",
"l = 2*(%pi)*r;                      // Effective length of toroid, m\n",
"\n",
"// Part (a)\n",
"// Since m.m.f is the product of the current and the number of turns, therefore, we have\n",
"F = N*I;                            // Magnetomotive force, At\n",
"printf('\nThe m.m.f of toroid = %4d At', F);\n",
"\n",
"// Part (b)\n",
"// Since magnetic field strength is defined as the mmf per metre length of the magnetic circuit, therefore, we have\n",
"H = F/l;                               // Magnetic field strength, At/m\n",
"printf('\nThe magntic field strength = %6.1f At/m', H);\n",
"\n",
"// Part (c)\n",
"B = (mew_r*mew_o*H);                   // Flux density, T\n",
"phi = B*A;                             // Flux, Wb\n",
"printf('\nThe flux and flux density are %6.2f micro-weber and %6.4f T respectively', phi/1e-06, B)\n",
"\n",
"// Result\n",
"// The m.m.f of toroid = 1350 At\n",
"// The magntic field strength = 5371.5 At/m\n",
"// The flux and flux density are 303.75 micro-weber and 1.0125 T respectively"
   ]
   }
,
{
		   "cell_type": "markdown",
		   "metadata": {},
		   "source": [
			"## Example 4.8: Coil_current_to_produce_desired_flux.sce"
		   ]
		  },
  {
"cell_type": "code",
	   "execution_count": null,
	   "metadata": {
	    "collapsed": true
	   },
	   "outputs": [],
"source": [
"// Scilab code Ex4.8: Pg 120-121 (2008)\n",
"clc; clear;\n",
"r = 3e-02;                            // Radius of toroid, m\n",
"A = 4.5e-04;                          // Cross-sectional area of toroid, metre-square\n",
"N = 500;                              // Number of turns \n",
"phi = 250e-06;                        // Flux, Wb\n",
"mew_o = 4*(%pi)*(1e-07);              // Permeability of free space\n",
"mew_r = 300;                          // Relative permeability\n",
"l = 2*(%pi)*r;                        // Effective length, m\n",
"B = phi/A;                            // Flux density, T\n",
"// Since B = (mew_r)*(mew_o)*H, solving for H\n",
"H = B /((mew_r)*(mew_o));              // Magnetic field strength, At/m\n",
"// Since H = F/l, solving for F\n",
"F = H*l;                               // Magnetomotive force, At\n",
"// Since mmf,F = N*I, solving for I\n",
"I = F/N;                               // Electric current, A\n",
"printf('\nThe value of current needs to be passed through the coil = %4.2f A', I);\n",
"\n",
"// Result\n",
"// The value of current needs to be passed through the coil = 0.56 A"
   ]
   }
,
{
		   "cell_type": "markdown",
		   "metadata": {},
		   "source": [
			"## Example 4.9: Charactersittic_measurements_in_a_coil.sce"
		   ]
		  },
  {
"cell_type": "code",
	   "execution_count": null,
	   "metadata": {
	    "collapsed": true
	   },
	   "outputs": [],
"source": [
"// Scilab code Ex4.9: Pg 121-122 (2008)\n",
"clc; clear; \n",
"// Part (a)\n",
"I = 0.2;                    // Electric current, A\n",
"l = 5e-02;                  // Effective length, m\n",
"A = 7e-04;                  // Cross-sectional area, metre-square\n",
"d = 0.5e-03;                // Diametre, m\n",
"mew_r = 1;                  //Relative permeability for wood\n",
"mew_o = 4*(%pi)*1e-07;      // Pemeability for free space\n",
"N = l/d;                    // Number of turns \n",
"// Since mmf is the product of the current and the number of turns, therefore, we have\n",
"F = N*I;                     // Magnetomotive force, At\n",
"// Part (b)\n",
"// Since magnetic field strength is defined as the mmf per metre length of the magnetic circuit, therefore, we have\n",
"H = F/l;                               // Magnetic field strength, At/m\n",
"B = ( mew_r * mew_o * H );             //  Flux density, T\n",
"// Part (c)\n",
"phi = B * A;                           // Flux, Wb\n",
"printf('\nThe mmf produced = %2d At', F);\n",
"printf('\nThe flux density produced = %3d micro-tesla', B/1e-06);\n",
"printf('\nThe flux produced = %5.3f micro-weber', phi/1e-06);\n",
"\n",
"// Result\n",
"// The mmf produced = 20 At\n",
"// The flux density produced = 502 micro-tesla\n",
"// The flux produced = 0.352 micro-weber"
   ]
   }
],
"metadata": {
		  "kernelspec": {
		   "display_name": "Scilab",
		   "language": "scilab",
		   "name": "scilab"
		  },
		  "language_info": {
		   "file_extension": ".sce",
		   "help_links": [
			{
			 "text": "MetaKernel Magics",
			 "url": "https://github.com/calysto/metakernel/blob/master/metakernel/magics/README.md"
			}
		   ],
		   "mimetype": "text/x-octave",
		   "name": "scilab",
		   "version": "0.7.1"
		  }
		 },
		 "nbformat": 4,
		 "nbformat_minor": 0
}
