{
"cells": [
 {
		   "cell_type": "markdown",
	   "metadata": {},
	   "source": [
       "# Chapter 7: DC Machines"
	   ]
	},
{
		   "cell_type": "markdown",
		   "metadata": {},
		   "source": [
			"## Example 7.1: The_shunt_generator.sce"
		   ]
		  },
  {
"cell_type": "code",
	   "execution_count": null,
	   "metadata": {
	    "collapsed": true
	   },
	   "outputs": [],
"source": [
"// Scilab code Ex7.1: Pg 243 (2008)\n",
"clc; clear;\n",
"Rf = 200;    // The resistance of field winding of a shunt generator, ohm\n",
"Po = 80e+03;     // Power delivered by the machine, watt\n",
"V = 450;    // The terminal voltage, volt\n",
"E = 475;    // The generated emf, volt\n",
"// Part (a)\n",
"// Po = V*I_L, solving for I_L\n",
"I_L = Po/V;     // Load current, A\n",
"I_f = V/Rf;     // Current through field resistor, A\n",
"I_a = I_L + I_f;    // Current through armature resistance, A\n",
"// As I_a*Ra = E - V, solving for Ra\n",
"Ra = 25/I_a;    // Armature resistance, ohm\n",
"// Part (b)\n",
"Po = 50e+03;    // Output power delivered by the machine, watt\n",
"V = 460;    // The terminal voltage, volt\n",
"I_L = Po/V;     // Load current, A\n",
"I_f = V/Rf;     // Current through field resistor, A\n",
"I_a = I_L + I_f;    // Current through armature resistance, A\n",
"// As I_a*Ra = E - V, solving for E\n",
"E = V + I_a*Ra;     // The generated voltage, volt\n",
"printf('\nThe armature resistance = %5.3f ohm', Ra);\n",
"printf('\nThe value of generated emf = %5.1f V', E);\n",
"// Result\n",
"// The armature resistance = 0.139 ohm\n",
"// The value of generated emf = 475.4 V"
   ]
   }
],
"metadata": {
		  "kernelspec": {
		   "display_name": "Scilab",
		   "language": "scilab",
		   "name": "scilab"
		  },
		  "language_info": {
		   "file_extension": ".sce",
		   "help_links": [
			{
			 "text": "MetaKernel Magics",
			 "url": "https://github.com/calysto/metakernel/blob/master/metakernel/magics/README.md"
			}
		   ],
		   "mimetype": "text/x-octave",
		   "name": "scilab",
		   "version": "0.7.1"
		  }
		 },
		 "nbformat": 4,
		 "nbformat_minor": 0
}
