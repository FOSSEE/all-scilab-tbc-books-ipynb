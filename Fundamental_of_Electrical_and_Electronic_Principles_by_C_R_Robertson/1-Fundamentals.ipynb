{
"cells": [
 {
		   "cell_type": "markdown",
	   "metadata": {},
	   "source": [
       "# Chapter 1: Fundamentals"
	   ]
	},
{
		   "cell_type": "markdown",
		   "metadata": {},
		   "source": [
			"## Example 1.10: Resitances_in_a_battery_circuit.sce"
		   ]
		  },
  {
"cell_type": "code",
	   "execution_count": null,
	   "metadata": {
	    "collapsed": true
	   },
	   "outputs": [],
"source": [
"// Scilab code Ex1.10: Pg 16 (2008)\n",
"clc; clear;\n",
"E = 12;        // E.m.f, V\n",
"I = 5;         // Electric current, A\n",
"V = 11.5;       // Terminal potential difference, V\n",
"// Using relation V = E - I*r, solving for r\n",
"r = ( E - V )/I;     // Internal resistance of battery, ohm\n",
"// From Ohm's law, V = I*R, then solving for R\n",
"R = V/I;              // Resistance, ohms\n",
"printf('\nThe internal resistance of battery = %3.1f ohm', r)\n",
"printf('\nThe resistance of external circuit = %3.1f ohm', R)\n",
"\n",
"// Result\n",
"// The internal resistance of battery = 0.1 ohm\n",
"// The resistance of external circuit = 2.3 ohm"
   ]
   }
,
{
		   "cell_type": "markdown",
		   "metadata": {},
		   "source": [
			"## Example 1.11: Potential_difference_and_energy_dissipated_across_a_resistor.sce"
		   ]
		  },
  {
"cell_type": "code",
	   "execution_count": null,
	   "metadata": {
	    "collapsed": true
	   },
	   "outputs": [],
"source": [
"// Scilab code Ex1.11:Pg 17 (2008)\n",
"clc; clear;\n",
"I = 200e-03;       // Electric current, A\n",
"t = 300;            // Time for which current flows, s\n",
"R = 750;            // Resistance, ohms\n",
"// Using Ohm's law, V = I*R\n",
"V = I*R;            // Electric potential difference, V\n",
"W = I^2*R*t;         // Energy dissipated, joule\n",
"printf('\nThe potential difference developed across the resistor = %3d V\nThe energy dissipated across the resistor = %4.0f J or %1d kJ', V, W, W*1e-03)\n",
"\n",
"// Result\n",
"// The potential difference developed across the resistor = 150 V\n",
"// The energy dissipated across the resistor = 9000 J or 9 kJ"
   ]
   }
,
{
		   "cell_type": "markdown",
		   "metadata": {},
		   "source": [
			"## Example 1.12: Potential_difference_and_current_from_electric_power.sce"
		   ]
		  },
  {
"cell_type": "code",
	   "execution_count": null,
	   "metadata": {
	    "collapsed": true
	   },
	   "outputs": [],
"source": [
"// Scilab code Ex1.12: Pg 18 (2008)\n",
"clc; clear;\n",
"R = 680;          // Resistance, ohms\n",
"P = 85e-03;           // Electric power, W\n",
"// Using P = V^2/R, solving for V\n",
"V = sqrt( P*R );       // Potential difference, V\n",
"// Using P = I^2*R, solving for I\n",
"I = sqrt( P/R );        // Electric current, A\n",
"printf('\nThe potential difference developed across the resistance = %3.1f V\nThe current flowing through the resistor = %5.2f mA', V, I/1e-03)\n",
"\n",
"// Result\n",
"// The potential difference developed across the resistance = 7.6 V\n",
"// The current flowing through the resistor = 11.18 mA"
   ]
   }
,
{
		   "cell_type": "markdown",
		   "metadata": {},
		   "source": [
			"## Example 1.13: Potential_difference_and_power_across_a_resistor.sce"
		   ]
		  },
  {
"cell_type": "code",
	   "execution_count": null,
	   "metadata": {
	    "collapsed": true
	   },
	   "outputs": [],
"source": [
"// Scilab code Ex1.13:Pg 19 (2008)\n",
"clc; clear;\n",
"I = 1.4;           // Electric current, A\n",
"t = 900;           // Time for which current flows, s\n",
"W = 200000;        // Energy dissipated, J\n",
"// Using relation W = V*I*t, solving for V\n",
"V = W/( I*t );       // Potential difference, V\n",
"// Using relation P = V*I\n",
"P = V*I;             // Electric power, W\n",
"// From Ohm's law, V = I*R, solving for R\n",
"R = V/I;              // Resistance, ohm\n",
"printf('\nThe potential difference developed = %5.1f V\nThe power dissipated = %5.1f W\nThe resistance of the circuit = %5.1f ohm', V, P, R)\n",
"\n",
"// Result\n",
"// The potential difference developed = 158.7 V\n",
"// The power dissipated = 222.2 W\n",
"// The resistance of the circuit = 113.4 ohm"
   ]
   }
,
{
		   "cell_type": "markdown",
		   "metadata": {},
		   "source": [
			"## Example 1.14: Cost_of_machine_operation.sce"
		   ]
		  },
  {
"cell_type": "code",
	   "execution_count": null,
	   "metadata": {
	    "collapsed": true
	   },
	   "outputs": [],
"source": [
"// Scilab code Ex1.14: Pg 20 (2008)\n",
"clc; clear;\n",
"P = 12.5;    // Power of the machine, kW\n",
"t = 8.5;    // Time for which the machine is operated, h\n",
"W = P*t;         // Electric energy, kWh\n",
"// Cost per unit = 7.902 p, therefore calulating the cost of 106.25 units\n",
"cost = ( W*7.902 );       // Cost for operating machine, p\n",
"printf('\nThe cost of operating the machine = %4.2f pounds', cost*1e-02)\n",
"\n",
"// Result\n",
"// The cost of operating the machine = 8.40 pounds"
   ]
   }
,
{
		   "cell_type": "markdown",
		   "metadata": {},
		   "source": [
			"## Example 1.15: Cost_of_unit_energy_and_total_electicity_bill.sce"
		   ]
		  },
  {
"cell_type": "code",
	   "execution_count": null,
	   "metadata": {
	    "collapsed": true
	   },
	   "outputs": [],
"source": [
"// Scilab code Ex1.15: Pg 20 (2008)\n",
"clc; clear;\n",
"Total_bill = 78.75;      // pounds\n",
"Standing_charge = 15.00;     // pounds\n",
"Units_used = 750;            // kWh\n",
"Cost_per_unit = ( Total_bill - Standing_charge )/Units_used;      // p\n",
"Cost_of_energy_used = 67.50;         // pounds\n",
"Total_bill = Cost_of_energy_used + Standing_charge;      // pounds\n",
"printf('\nThe cost per unit = %5.3f pounds or %3.1f p\nTotal bill = %5.2f pounds',Cost_per_unit,Cost_per_unit/1e-02,Total_bill);\n",
"\n",
"// Result\n",
"// The cost per unit = 0.085  Pounds or 8.5 p\n",
"// Total bill = 82.50 pounds"
   ]
   }
,
{
		   "cell_type": "markdown",
		   "metadata": {},
		   "source": [
			"## Example 1.16: Resistance_of_the_copper_coil.sce"
		   ]
		  },
  {
"cell_type": "code",
	   "execution_count": null,
	   "metadata": {
	    "collapsed": true
	   },
	   "outputs": [],
"source": [
"// Scilab code Ex1.16: Pg 22 (2008)\n",
"clc; clear;\n",
"l = 200;          // Length of Cu wire, metre\n",
"rho = 2e-08;       // Resistivity of Cu, ohm-metre\n",
"A = 8e-07;          // Cross sectional area of Cu wire, metre square\n",
"// Using relation R = ( rho*l )/A\n",
"R = ( rho*l )/A;          // Resistance, ohm\n",
"printf('\nThe resistance of the coil = %1d ohm', R)\n",
"\n",
"// Result\n",
"// The resistance of the coil = 5 ohm"
   ]
   }
,
{
		   "cell_type": "markdown",
		   "metadata": {},
		   "source": [
			"## Example 1.17: Resistance_of_wire_wound_resistor.sce"
		   ]
		  },
  {
"cell_type": "code",
	   "execution_count": null,
	   "metadata": {
	    "collapsed": true
	   },
	   "outputs": [],
"source": [
"// Scilab code Ex1.17:  Pg 22 (2008)\n",
"clc; clear;\n",
"l = 250;          // Length of Cu wire, metre\n",
"d = 5e-04;         // Diameter of Cu wire, metre\n",
"rho = 1.8e-08;       // Resistivity of Cu wire, ohm-metre\n",
"A = ( %pi*d^2 )/4;          // Cross sectional area of Cu wire, metre square\n",
"// Using relation R = rho*l/A\n",
"R = rho*l/A;          // Resistance, ohm\n",
"printf('\nThe resistance of the coil = %5.2f ohm', R)\n",
"\n",
"// Result\n",
"// The resistance of the coil = 22.92 ohm"
   ]
   }
,
{
		   "cell_type": "markdown",
		   "metadata": {},
		   "source": [
			"## Example 1.18: Variation_of_resistance_with_temperature.sce"
		   ]
		  },
  {
"cell_type": "code",
	   "execution_count": null,
	   "metadata": {
	    "collapsed": true
	   },
	   "outputs": [],
"source": [
"// Scilab code Ex1.18: Pg 23 (2008)\n",
"\n",
"clc; clear;\n",
"R_1 = 250;           // Resistance of field coil, ohm\n",
"Theta_1 = 15;        // Initial temperature of motor, degree celcius \n",
"Theta_2 = 45;        // Final temperature of motor, degree celcius\n",
"Alpha = 4.28e-03;     // Temperature coefficient of resistance, per degree celcius\n",
"// Using relation, R_1/R_2 = ( 1 + Alpha*Theta_1 )/( 1 + Alpha*Theta_2 ), solving for R_2\n",
"R_2 = R_1 * (( 1 + Alpha*Theta_2 )/( 1 + Alpha*Theta_1 ));      // Resistance, ohms\n",
"printf('\nThe resistance of field coil at %2d degree celcius = %5.1f ohm',Theta_2, R_2)\n",
"\n",
"// Result\n",
"// The resistance of field coil at 45 degree celcius = 280.2 ohm"
   ]
   }
,
{
		   "cell_type": "markdown",
		   "metadata": {},
		   "source": [
			"## Example 1.19: Resistance_of_wire_at_given_temperature.sce"
		   ]
		  },
  {
"cell_type": "code",
	   "execution_count": null,
	   "metadata": {
	    "collapsed": true
	   },
	   "outputs": [],
"source": [
"// Scilab code Ex1.19: Pg 24 (2008)\n",
"\n",
"clc; clear;\n",
"R_0 = 350;           // Resistance, ohms\n",
"Theta_1 = 60;        // Temperature, degree celcius \n",
"Alpha = 4.26e-03;     // Temperature coefficient, per degree celcius\n",
"// Using relation R_1 = R_0 * ( 1 + Alpha*Theta_1 )\n",
"R_1 = R_0 * ( 1 + Alpha*Theta_1 );      // Resistance, ohms\n",
"printf('\nThe resistance of the wire at %2d degree celcius = %5.1f ohm',Theta_1, R_1)\n",
"\n",
"// Result\n",
"// The resistance of the wire at 60 degree celcius = 439.5 ohm"
   ]
   }
,
{
		   "cell_type": "markdown",
		   "metadata": {},
		   "source": [
			"## Example 1.1: Standard_form_and_Scientific_notation.sce"
		   ]
		  },
  {
"cell_type": "code",
	   "execution_count": null,
	   "metadata": {
	    "collapsed": true
	   },
	   "outputs": [],
"source": [
"// Scilab code Ex1.1: Pg 3 (2008)\n",
"clc; clear;\n",
"I =.000018;    // Electric current, A\n",
"V = 15000;    // Electric potential, V\n",
"P = 250000000    // Electric Power, W\n",
"// Display standard form \n",
"printf('\nStandard form:');\n",
"printf('\n==============');\n",
"printf('\n%f A = %3.1e A', I, I);\n",
"printf('\n%5.0f V = %3.1e V', V, V);\n",
"printf('\n%9.0f W = %3.1e W', P, P);\n",
"// Display scientific notation \n",
"printf('\n\nScientific form:');\n",
"printf('\n================');\n",
"printf('\n%f A = %2d micro-ampere', I, I/1e-06);\n",
"printf('\n%5.0f V = %2d kilo-volt', V, V/1e+03);\n",
"printf('\n%9.0f W = %3d mega-watt', P, P/1e+06);\n",
"\n",
"// Result \n",
"// Standard form:\n",
"// ==============\n",
"// 0.000018 A = 1.8e-005 A\n",
"// 15000 V = 1.5e+004 V\n",
"// 250000000 W = 2.5e+008 W\n",
"\n",
"// Scientific form:\n",
"// ================\n",
"// 0.000018 A = 18 micro-ampere\n",
"// 15000 V = 15 kilo-volt\n",
"// 250000000 W = 250 mega-watt"
   ]
   }
,
{
		   "cell_type": "markdown",
		   "metadata": {},
		   "source": [
			"## Example 1.20: Resistance_of_carbon_composite_resistor_at_a_given_temperature.sce"
		   ]
		  },
  {
"cell_type": "code",
	   "execution_count": null,
	   "metadata": {
	    "collapsed": true
	   },
	   "outputs": [],
"source": [
"// Scilab code Ex1.20: Pg. 24 (2008)\n",
"clc; clear;\n",
"R_1 = 120;           // Resistance, ohms\n",
"Theta_1 = 16;        // Temperature, degree celcius \n",
"Theta_2 = 32;        // Temperature, degree celcius\n",
"Alpha = -4.8e-04;     // Temperature coefficient, per degree celcius\n",
"// Using relation, R_1/R_2 = ( 1 + Alpha*Theta_1 )/( 1 + Alpha*Theta_2 ), solving for R_2\n",
"R_2 = R_1 * (( 1 + Alpha*Theta_2 )/( 1 + Alpha*Theta_1 ));      // Resistance, ohm\n",
"printf('\nThe resistance of carbon resistor at %2d degree celcius = %5.1f ohm',Theta_2, R_2)\n",
"\n",
"// Result\n",
"// The resistance of field coil at 32 degree celcius = 119.1 ohm"
   ]
   }
,
{
		   "cell_type": "markdown",
		   "metadata": {},
		   "source": [
			"## Example 1.2: Quantities_in_scientific_notation.sce"
		   ]
		  },
  {
"cell_type": "code",
	   "execution_count": null,
	   "metadata": {
	    "collapsed": true
	   },
	   "outputs": [],
"source": [
"// Scilab code Ex1.2: Pg.4 (2008)\n",
"clc; clear;\n",
"I = 25e-05;    // Electric Current,A\n",
"P = 3e+04;    // Electric Power, W\n",
"W = 850000;    // Work done, J\n",
"V = 0.0016;    // Electric Potential, V\n",
"printf('\n\nScientific (Engineering) notation:');\n",
"printf('\n===================================');\n",
"printf('\n%2e A = %3d micro-ampere = %3.2f mA', I, I/1e-06, I/1e-03);\n",
"printf('\n%1.0e W = %3d micro-watt', P, P/1e-06);\n",
"printf('\n%6d J = %3d kJ = %3.2f MJ', W, W/1e+03, W/1e+06);\n",
"printf('\n%5.4f V = %3.1f milli-volt', V, V/1e-03);\n",
"\n",
"// Result \n",
"// Scientific (Engineering) notation:\n",
"// ===================================\n",
"//2.500000e-004 A = 250 micro-ampere = 0.25 mA\n",
"// 3e+004 W = -64771072 micro-watt\n",
"// 850000 J = 850 kJ = 0.85 MJ\n",
"// 0.0016 V = 1.6 milli-volt "
   ]
   }
,
{
		   "cell_type": "markdown",
		   "metadata": {},
		   "source": [
			"## Example 1.3: Resulting_acceleration_of_the_mass.sce"
		   ]
		  },
  {
"cell_type": "code",
	   "execution_count": null,
	   "metadata": {
	    "collapsed": true
	   },
	   "outputs": [],
"source": [
"// Scilab code Ex1.3: Pg.5 (2008)\n",
"clc; clear;\n",
"m = 750/1e+03;    // Mass of the body, kg\n",
"F = 2;    // Force acting on the mass, N\n",
"// Since F = m * a, (Newton's Second Law of motion), solving for a\n",
"a = F/m;    // Acceleration produced in the body, metre per second square\n",
"printf('\nThe acceleration produced in the body = %5.3f metre per second square', a)\n",
"\n",
"// Result\n",
"// The acceleration produced in the body = 2.667 metre per second square "
   ]
   }
,
{
		   "cell_type": "markdown",
		   "metadata": {},
		   "source": [
			"## Example 1.4: Current_flowing_between_two_points.sce"
		   ]
		  },
  {
"cell_type": "code",
	   "execution_count": null,
	   "metadata": {
	    "collapsed": true
	   },
	   "outputs": [],
"source": [
"// Scilab code Ex1.4: Pg.9 (2008)\n",
"clc; clear;\n",
"Q = 35e-03;    // Electric charge, C\n",
"t = 20e-03;    // Time for transference of charge between two points, s\n",
"// Since Q = I * t, solving for I\n",
"I = Q/t;    // Electric current flowing between the two points, A\n",
"printf('\nThe value of electric current flowing = %4.2f A', I);\n",
"\n",
"// Result\n",
"// The value of electric current flowing = 1.75 A "
   ]
   }
,
{
		   "cell_type": "markdown",
		   "metadata": {},
		   "source": [
			"## Example 1.5: Amount_of_charge_transferred_in_a_given_time.sce"
		   ]
		  },
  {
"cell_type": "code",
	   "execution_count": null,
	   "metadata": {
	    "collapsed": true
	   },
	   "outputs": [],
"source": [
"// Scilab code Ex1.5: Pg.9 (2008)\n",
"clc; clear;\n",
"I = 120e-06;    // Electric current, A\n",
"t = 15;    // Time for transference of charge between two points, s\n",
"// Since I = Q/t, solving for Q\n",
"Q = I*t;    // Electric chrage transferred, C\n",
"printf('\nThe value of electric charge transferred = %3.1f mC', Q/1e-03);\n",
"\n",
"// Result\n",
"// The value of electric charge transferred = 1.8 mC "
   ]
   }
,
{
		   "cell_type": "markdown",
		   "metadata": {},
		   "source": [
			"## Example 1.6: Time_for_current_flow.sce"
		   ]
		  },
  {
"cell_type": "code",
	   "execution_count": null,
	   "metadata": {
	    "collapsed": true
	   },
	   "outputs": [],
"source": [
"// Scilab code Ex1.6: Pg.10 (2008)\n",
"clc; clear;\n",
"Q = 80;     // Electric charge, C\n",
"I = 0.5;     // Electric current, A\n",
"// Since Q = I*t, solving for t\n",
"t = Q/I;     // Time for transference of charge between two points, s\n",
"printf('\nThe duration of time for which the current flowed = %3d s', t); \n",
"\n",
"// Result\n",
"// The duration of time for which the current flowed = 160 s"
   ]
   }
,
{
		   "cell_type": "markdown",
		   "metadata": {},
		   "source": [
			"## Example 1.7: Potential_difference_developed_across_a_resistor.sce"
		   ]
		  },
  {
"cell_type": "code",
	   "execution_count": null,
	   "metadata": {
	    "collapsed": true
	   },
	   "outputs": [],
"source": [
"// Scilab code Ex1.7: Pg.13 (2008)\n",
"clc; clear;\n",
"I = 5.5e-03;        // Electric current, A\n",
"R = 33000;          // Resistance, ohms\n",
"// From Ohm's law, V = I*R\n",
"V = I*R;            // Potential difference across resistor, V\n",
"printf('\nThe potential difference developed across resistor = %5.1f V',V)\n",
"\n",
"// Result\n",
"// The potential difference developed across resistor = 181.5 V"
   ]
   }
,
{
		   "cell_type": "markdown",
		   "metadata": {},
		   "source": [
			"## Example 1.8: Current_flowing_through_a_resistor.sce"
		   ]
		  },
  {
"cell_type": "code",
	   "execution_count": null,
	   "metadata": {
	    "collapsed": true
	   },
	   "outputs": [],
"source": [
"// Scilab code Ex1.8: Pg 14 (2008)\n",
"clc; clear;\n",
"V = 24;            // Potential difference,V\n",
"R = 15;             // Resistance, ohms\n",
"// From Ohm's law, V = I*R, then solving for I\n",
"I = V/R;             // Electric current, A\n",
"printf('\nThe current flowing through the resistor = %3.1f A', I)\n",
"\n",
"// Result\n",
"// The current flowing through the resistor  = 1.6 A"
   ]
   }
,
{
		   "cell_type": "markdown",
		   "metadata": {},
		   "source": [
			"## Example 1.9: Terminal_potential_difference_for_a_given_current.sce"
		   ]
		  },
  {
"cell_type": "code",
	   "execution_count": null,
	   "metadata": {
	    "collapsed": true
	   },
	   "outputs": [],
"source": [
"// Scilab code Ex1.9: Pg 16 (2008)\n",
"clc; clear;\n",
"E = 6;           // E.m.f of battery, V\n",
"r = 0.15;        // Internal resistance of battery, ohm\n",
"I_1 = .5;        // Electric current, A\n",
"I_2 = 2;          // Electric current, A\n",
"I_3 = 10;          // Electric current, A\n",
"// Using relation V = E - I*R and substituting the values of I_1, I_2 and I_3 one by one in it\n",
"V_1 = E - I_1*r;     // Terminal potential difference, V\n",
"V_2 = E - I_2*r;      // Terminal potential difference, V\n",
"V_3 = E - I_3*r;       // Terminal potential difference, V\n",
"printf('\nThe terminal potential difference developed across resistor for a current of %3.1f A = %5.3f V',I_1,V_1)\n",
"printf('\nThe terminal potential difference developed across resistor for a current of %1d A = %3.1f V',I_2,V_2)\n",
"printf('\nThe terminal potential difference developed across resistor for a current of %2d A = %3.1f V',I_3,V_3);\n",
"\n",
"// Result\n",
"// The terminal potential difference developed across resistor for a current of 0.5 A = 5.925 V\n",
"// The terminal potential difference developed across resistor for a current of 2 A = 5.7 V\n",
"// The terminal potential difference developed across resistor for a current of 10 A = 4.5 V"
   ]
   }
],
"metadata": {
		  "kernelspec": {
		   "display_name": "Scilab",
		   "language": "scilab",
		   "name": "scilab"
		  },
		  "language_info": {
		   "file_extension": ".sce",
		   "help_links": [
			{
			 "text": "MetaKernel Magics",
			 "url": "https://github.com/calysto/metakernel/blob/master/metakernel/magics/README.md"
			}
		   ],
		   "mimetype": "text/x-octave",
		   "name": "scilab",
		   "version": "0.7.1"
		  }
		 },
		 "nbformat": 4,
		 "nbformat_minor": 0
}
