{
"cells": [
 {
		   "cell_type": "markdown",
	   "metadata": {},
	   "source": [
       "# Chapter 3: Electric fields and capacitors"
	   ]
	},
{
		   "cell_type": "markdown",
		   "metadata": {},
		   "source": [
			"## Example 3.10: Characteristics_of_series_combination_of_capacitors.sce"
		   ]
		  },
  {
"cell_type": "code",
	   "execution_count": null,
	   "metadata": {
	    "collapsed": true
	   },
	   "outputs": [],
"source": [
"// Scilab code Ex3.10: Pg 90-91 (2008)\n",
"clc; clear;\n",
"C_1 = 6e-06;                    //Capacitance, F\n",
"C_2 = 4e-06;                   //Capacitance, F\n",
"V = 150;                      // Supply voltage, V\n",
"// Part (a)\n",
"// The reciprocal of the resulting capacitance of capacitors connected in series is the sum of the reciprocal of the individual capacitances present in the circuit i.e 1/C =  1/C1 + 1/C2, solving for C\n",
"C = ( C_1*C_2 )/(C_1 + C_2);               // Resulting capacitance, F\n",
"// Part (b)\n",
"Q = V*C;                                  // Electric charge on the capacitors, C\n",
"// Part (c)\n",
"V_1 = Q/C_1;                              // P.d across capacitor C_1, V\n",
"V_2 = Q/C_2;                              // P.d across capacitor C_2, V\n",
"printf('\nThe total capacitance of the combination = %3.1f micro-farad', C/1e-06);\n",
"printf('\nThe charge on each capacitor = %3d micro-coulomb',Q/1e-06);\n",
"printf('\nThe p.d. developed across %1d micro-farad capacitor = %2d V', C_1/1e-06, V_1);\n",
"printf('\nThe p.d. developed across %1d micro-farad capacitor = %2d V', C_2/1e-06, V_2);\n",
"\n",
"// Result\n",
"// The total capacitance of the combination = 2.4 micro-farad\n",
"// The charge on each capacitor = 360 micro-coulomb\n",
"// The p.d. developed across 6 micro-farad capacitor = 60 V\n",
"// The p.d. developed across 4 micro-farad capacitor = 90 V"
   ]
   }
,
{
		   "cell_type": "markdown",
		   "metadata": {},
		   "source": [
			"## Example 3.11: Potential_difference_across_each_capacitor_in_series_combination.sce"
		   ]
		  },
  {
"cell_type": "code",
	   "execution_count": null,
	   "metadata": {
	    "collapsed": true
	   },
	   "outputs": [],
"source": [
"// Scilab code Ex3.11: Pg 91-92 (2008)\n",
"clc; clear;\n",
"C_1 = 3e-06;                    //Capacitance, F\n",
"C_3 = 12e-06;                   //Capacitance, F\n",
"C_2 = 6e-06;                    //Capacitance, F\n",
"V = 400;                        // Supply voltage, V\n",
"// The reciprocal of the resulting capacitance of capacitors connected in series is the sum of the reciprocal of the individual capacitances present in the circuit i.e 1/C =  1/C1 + 1/C2 + 1/C_3, solving for C\n",
"C = (C_1 * C_2 * C_3)/( C_1*C_2 + C_2*C_3 + C_3*C_1);               // Resulting capacitance, F\n",
"Q = V*C;                                  // Electric charge on the capacitors, C\n",
"// Part (c)\n",
"V_1 = Q/C_1;                              // P.d across capacitor C_1, V\n",
"V_2 = Q/C_2;                              // P.d across capacitor C_2, V\n",
"V_3 =Q/C_3;                               // P.d across capacitor C_2, V\n",
"printf('\nP.d across capacitor %1d micro-farad = %5.1f V', C_1/1e-06, V_1);\n",
"printf('\nP.d across capacitor %1d micro-farad = %5.1f V', C_2/1e-06, V_2);\n",
"printf('\nP.d across capacitor %2d micro-farad = %4.1f V', C_3/1e-06, V_3);\n",
"\n",
"// Result\n",
"// P.d across capacitor 3 micro-farad = 228.6 V\n",
"// P.d across capacitor 6 micro-farad = 114.3 V\n",
"// P.d across capacitor 12 micro-farad = 57.1 V"
   ]
   }
,
{
		   "cell_type": "markdown",
		   "metadata": {},
		   "source": [
			"## Example 3.12: Charge_stored_and_potential_difference_across_capacitors.sce"
		   ]
		  },
  {
"cell_type": "code",
	   "execution_count": null,
	   "metadata": {
	    "collapsed": true
	   },
	   "outputs": [],
"source": [
"// Scilab code Ex3.12: Pg 92-95 (2008)\n",
"clc; clear;\n",
"V = 200;                      // Supply voltage, voltage\n",
"C_AB = 2;                // Capacitance across branch AB, micro-farad\n",
"C_BC = 3;                 // Capacitance across branch BC, micro-farad\n",
"C_CD = 6;                 // Capacitance across branch CD, micro-farad\n",
"C_EF = 8;                // Capacitance across branch EF, micro-farad\n",
"C_BD = 4;                 // Capacitance across branch EF, micro-farad\n",
"\n",
"// Part (a)\n",
"// Since 3-micro-farad & 6-micro-farad  capacitors are in series & the reciprocal of the resulting capacitance of capacitors connected in series is the sum of the reciprocal of the individual capacitances present in the circuit, therefore i.e 1/C =  1/C1 + 1/C2 \n",
"C_BCD = ( C_BC*C_CD )/(C_BC+C_CD);         // Resulting capacitance across branch BCD, micro-farad\n",
"//Since C_BCD & 4-micro-farad  capacitors are in parallel & the resulting capacitance of parallerly connected capacitors is the sum of the individual capacitance present in the circuit\n",
"C_BD = C_BCD + C_BD;         // Resulting capacitance across branch BD, micro-farad\n",
"//  Since 2-micro-farad & C_BD  capacitors are in series & the reciprocal of the resulting capacitance of capacitors connected in series is the sum of the reciprocal of the individual capacitances present in the circuit, therefore, we have\n",
"C_AD = (C_BD*C_AB)/(C_BD+C_AB);         // Resulting capacitance across branch AD, micro-farad\n",
"//Since C_AD & C_EF  capacitors are in parallel & the resulting capacitance of parallerly connected capacitors is the sum of the individual capacitance present in the circuit\n",
"C = C_AD + C_EF;         // Resulting capacitance of the circuit, micro-farad\n",
"Q = V*C;                                  // Electric  charge drawn from the supply, C\n",
"\n",
"// Part (b)\n",
"Q_EF = V*C_EF;                        // The charge on the 8 micro-farad capacitor, micro-coulomb\n",
"\n",
"// Part (c)\n",
"Q_AD = Q - Q_EF;                        // The charge on the 4 micro-farad capacitor, C\n",
"Q_BD = Q_AD;    // Charge in series combination of capacitors, micro-farad\n",
"// Since Q = C*V, solving for V\n",
"V_BD = Q_BD/C_BD;                    // The p.d. across the 4  F capacitor,V\n",
"\n",
"// Part(d)\n",
"Q_BCD = V_BD*C_BCD;                  // Electric charge across branch BCD, C\n",
"Q_BC = Q_BCD;                        // Electric charge, C\n",
"V_BC = Q_BC/C_BC;                    // The p.d. across the 3 micro-farad capacitor\n",
"printf('\nThe charge drawn from the supply = %3.1f mC', Q/1e+03);\n",
"printf('\nThe charge on the %1d micro-farad capacitor = %3.1f mC', C_EF, Q_EF/1e+03);\n",
"printf('\nThe p.d. across the %1d micro-farad capacitor= %2d V', C_BD, V_BD);\n",
"printf('\nThe p.d. across the %1d micro-farad capacitor = %5.2f V', Q_BC, V_BC);\n",
"\n",
"// Result \n",
"// The charge drawn from the supply = 1.9 mC\n",
"// The charge on the 8 micro-farad capacitor = 1.6 mC\n",
"// The p.d. across the 6 micro-farad capacitor= 50 V\n",
"// The p.d. across the 100 micro-farad capacitor = 33.33 V "
   ]
   }
,
{
		   "cell_type": "markdown",
		   "metadata": {},
		   "source": [
			"## Example 3.13: Capacitance_of_parallel_plate_capacitor_with_mica_sheet.sce"
		   ]
		  },
  {
"cell_type": "code",
	   "execution_count": null,
	   "metadata": {
	    "collapsed": true
	   },
	   "outputs": [],
"source": [
"// Scilab code Ex3.13: Pg 96 (2008)\n",
"clc; clear;\n",
"N = 20;                  // Number of plates in a capacitor\n",
"A = 6400e-06;            // Cross - sectional area of plate, m^2\n",
"d = 1.5e-03;             // Distance between plates, m\n",
"epsilon_r = 6.4;         // Relative permittivity for mica\n",
"epsilon_o = 8.854e-12;     // Relative permittivity for free space\n",
"// Calculating the capacitance of the capacitor\n",
"C = ((epsilon_o)*(epsilon_r)*A*(N-1))/d;       // Capacitance, F\n",
"printf('\n The capacitance of the capacitor = %3.1f nF', C/1e-09);\n",
"\n",
"// Result\n",
"// The capacitance of the capacitor = 4.6 nF"
   ]
   }
,
{
		   "cell_type": "markdown",
		   "metadata": {},
		   "source": [
			"## Example 3.14: Thickness_of_mica_between_parallel_plates_of_a_capacitor.sce"
		   ]
		  },
  {
"cell_type": "code",
	   "execution_count": null,
	   "metadata": {
	    "collapsed": true
	   },
	   "outputs": [],
"source": [
"// Scilab code Ex3.14: Pg 96-97 (2008)\n",
"clc; clear;\n",
"N = 9;                      // Number of plates in a capacitor\n",
"A = 1200e-06;               // Cross - sectional area of plate, m^2\n",
"C = 3e-10;                  // Capacitance, F\n",
"epsilon_r = 5;              // Relative permittivity for mica\n",
"epsilon_o = 8.854e-12;      // Relative permittivity for free space\n",
"// Using the formula of capacitance, C = ((epsilon_o)*(epsilon_r)*A*(N-1))/d and solving for d, we have\n",
"d = ((epsilon_o)*(epsilon_r)*A*(N-1))/C;        // Distance between plates, m\n",
"printf('\nThe thickness of mica between parallel plates of a capacitor = %4.2f mm', d/1e-03);\n",
"\n",
"// Result\n",
"// The thickness of mica between parallel plates of a capacitor = 1.42 mm "
   ]
   }
,
{
		   "cell_type": "markdown",
		   "metadata": {},
		   "source": [
			"## Example 3.15: Capacitance_of_a_parallel_plate_capacitor_with_air_gap.sce"
		   ]
		  },
  {
"cell_type": "code",
	   "execution_count": null,
	   "metadata": {
	    "collapsed": true
	   },
	   "outputs": [],
"source": [
"// Scilab code Ex3.15: Pg 97 (2008)\n",
"clc; clear;\n",
"N = 11;                       // Number of plates in a capacitor\n",
"r = 25e-03;                   // Radius of circular plate, m\n",
"A = (%pi*r^2);                // Cross - sectional area of plate, m^2\n",
"d = 5e-04;                    // Distance between plates, m\n",
"epsilon_r = 1;                // Relative permittivity for air\n",
"epsilon_o = 8.854e-12;        // Relative permittivity for free space\n",
"// Calculating the capacitance of the capacitor\n",
"C = ((epsilon_o)*(epsilon_r)*A*(N-1))/d;       // Capacitance, F\n",
"printf('\n The capacitance of the capacitor = %3.2f pF', C/1e-10);\n",
"\n",
"// Result\n",
"// The capacitance of the capacitor = 3.48 pF"
   ]
   }
,
{
		   "cell_type": "markdown",
		   "metadata": {},
		   "source": [
			"## Example 3.16: Charging_and_energy_storing_ability_of_capacitor.sce"
		   ]
		  },
  {
"cell_type": "code",
	   "execution_count": null,
	   "metadata": {
	    "collapsed": true
	   },
	   "outputs": [],
"source": [
"// Scilab code Ex3.16: Pg 99 (2008)\n",
"clc; clear;\n",
"C_1 = 3e-06;                                  // Capacitance, F\n",
"C_2 = 6e-06;                                  // Capacitance, F\n",
"V_1 = 250;                                   // Voltage across capacitor C_1, V\n",
"// Since each capacitor will take charge according to its capacitance, so we have\n",
"Q = C_1*V_1;                                 // Charge on first capacitor C_1, C\n",
"W_1 = 0.5*C_1*(V_1^2);                       // Energy stored, J\n",
"// When the two capacitors are connected in parallel the 3 micro-farad will share its charge with 6 micro-farad capacitor. Thus the total charge in the system will remain unchanged, but the total capacitance will now be different\n",
"C = C_1 + C_2;                              // Total capacitance, F\n",
"// Since Q = C*V, solving for V\n",
"V = Q/C;                                    // Voltage across capacitor C_2, V\n",
"W = 0.5*C*(V^2);                            // Total energy stored by the combination, J\n",
"printf('\nThe charge and energy stored by %1d micro-F capcitor are %3.2f mC and %5.2f mJ respectively ', C_1/1e-06, Q/1e-03 , W_1/1e-03);\n",
"printf('\nThe p.d. between the plates = %5.2f V', V);\n",
"printf('\nThe energy stored by the combination of %1d micro-F and %1d micro-F capacitors = %5.2f mJ', C_1/1e-06, C_2/1e-06, W/1e-03);\n",
"\n",
"// Result\n",
"// The charge and energy stored by 3 micro-F capcitor are 0.75 mC and 93.75 mJ respectively \n",
"// The p.d. between the plates = 83.33 V\n",
"// The energy stored by the combination of 3 micro-F and 6 micro-F capacitors = 31.25 mJ "
   ]
   }
,
{
		   "cell_type": "markdown",
		   "metadata": {},
		   "source": [
			"## Example 3.17: Charging_and_discharging_capacitors.sce"
		   ]
		  },
  {
"cell_type": "code",
	   "execution_count": null,
	   "metadata": {
	    "collapsed": true
	   },
	   "outputs": [],
"source": [
"// Scilab code Ex3.17: Pg 99-100 (2008)\n",
"clc; clear;\n",
"V = 200;                       // Supply voltage, V\n",
"C_1 = 10e-06;                  // Capacitance, farad\n",
"C_2 = 6.8e-06;                 // Capacitance, farad\n",
"C_3 = 4.7e-06;                 // Capacitance, farad\n",
"// Part (a)\n",
"// Since each capacitor will take charge according to its capacitance, so we have\n",
"Q_1 = V*C_1;                   // Charge sored on  capacitor C_1, C\n",
"W_1 = 0.5*C_1*(V^2);           // Energy sored on  capacitor C_1, J\n",
"// Part (b)\n",
"// Since C_2 and C_3 are in series and hence, their equivalent capacitance is given by their series combination\n",
"C_4 = (C_2 * C_3)/(C_2 + C_3);          // Equivalent capacitance of C_2 and C_3, F\n",
"// Since C_1 and C_4 are in parallel and hence, their equivalent capacitance is given by their parallel combination\n",
"C = C_1 + C_4;               // Total capacitance of circuit, F\n",
"// Since Q = C*V, solving for V\n",
"V_1 = Q_1/C;                         // New p.d across C_1, V\n",
"W = 0.5*C*(V_1^2);                 // Total energy remaining in the circuit, J\n",
"energy_used = W_1 - W;             // Energy, J\n",
"printf('\nThe charge and energy stored by %2d micro-F capacitor are %1d mC and %2.1f J respectively ', C_1/1e-06, Q_1/1e-03, W_1);\n",
"printf('\nThe new p.d across %2d micro-F capacitor = %5.1f V', C_1/1e-06, V_1);\n",
"printf('\nThe amount of energy used in charging %3.1f micro-F and %3.2f micro-F capacitors from %2d micro-F capacitor = %4.3f J', C_2/1e-06, C_3/1e-06, C_1/1e-06, energy_used/1e-03);\n",
" \n",
"// Result\n",
"// The charge and energy stored by 10 micro-F capacitor are 2 mC and 0.2 J respectively \n",
"// The new p.d across 10 micro-F capacitor = 156.5 V\n",
"// The amount of energy used in charging 6.8 micro-F and 4.70 micro-F capacitors from 10 micro-F capacitor = 43.495 J "
   ]
   }
,
{
		   "cell_type": "markdown",
		   "metadata": {},
		   "source": [
			"## Example 3.18: Minimum_required_thickness_of_dielectric_material.sce"
		   ]
		  },
  {
"cell_type": "code",
	   "execution_count": null,
	   "metadata": {
	    "collapsed": true
	   },
	   "outputs": [],
"source": [
"// Scilab code Ex3.18: Pg 101 (2008)\n",
"clc; clear;\n",
"V = 400;               // Supply voltage, V\n",
"E = 0.5e06;            // Dielectric strength, V/m\n",
"// Since E = V/d, solving for d\n",
"d = V/E;               // Thickness of dielectric, m\n",
"printf('\nThe minimum thickness of dielectric required = %3.1fmm', d/1e-03);\n",
"\n",
"// Result\n",
"// The minimum thickness of dielectric required = 0.8 mm"
   ]
   }
,
{
		   "cell_type": "markdown",
		   "metadata": {},
		   "source": [
			"## Example 3.19: Maximum_voltage_of_capacitor_and_thickness_of_dielectric_material.sce"
		   ]
		  },
  {
"cell_type": "code",
	   "execution_count": null,
	   "metadata": {
	    "collapsed": true
	   },
	   "outputs": [],
"source": [
"// Scilab code Ex3.19: Pg 101-102 (2008)\n",
"clc; clear;\n",
"C = 270e-12;              // Capacitance, F\n",
"A = 60e-04;               // Cross-sectional area of plate, m^2\n",
"E = 350e03;               // Dielectric strength, V/m\n",
"epsilon_r = 2.1;           // Relative pemittivity\n",
"epsilon_o = 8.854e-12;     // Permittivity of free space\n",
"// Part (a)\n",
"// Since formula for capacitance, C = ((epsilon_o)*(eplison_r)*A)/d, solving for d\n",
"d = ((epsilon_o)*(epsilon_r)*A)/C;      // Thickness of dielectric, m\n",
"// Part (b)\n",
"// Since E = V/d, solving for V\n",
"V = E*d;                                  // Maximum possible working voltage, V\n",
"printf('\nThe thickness of Teflon sheet required = %5.4f mm', d/1e-03);\n",
"printf('\nThe maximum possible working voltage for the capacitor = %5.1f V', V);\n",
"\n",
"// Result\n",
"// The thickness of Teflon sheet required = 0.413 mm\n",
"// The maximum possible working voltage for the capacitor = 144.6 V"
   ]
   }
,
{
		   "cell_type": "markdown",
		   "metadata": {},
		   "source": [
			"## Example 3.1: Density_of_electric_field_between_plates_of_capacitor.sce"
		   ]
		  },
  {
"cell_type": "code",
	   "execution_count": null,
	   "metadata": {
	    "collapsed": true
	   },
	   "outputs": [],
"source": [
"// Scilab code Ex3.1: Pg 79 (2008)\n",
"clc; clear;\n",
"Q = 50e-03;                 // Electric charge, C\n",
"A = 600e-06;                // Area of plate, m^2\n",
"// Solving for electric field density, D\n",
"D = Q/A;                      // Electric field density, C/m^2\n",
"printf('\nThe density of the electric field existing between the plates = %4.1f C/m-square', D);\n",
"\n",
"// Result\n",
"// The density of the electric field existing between the plates = 83.3 C/m-square"
   ]
   }
,
{
		   "cell_type": "markdown",
		   "metadata": {},
		   "source": [
			"## Example 3.2: Charge_on_plates_of_capacitor_and_electric_field_density_between_them.sce"
		   ]
		  },
  {
"cell_type": "code",
	   "execution_count": null,
	   "metadata": {
	    "collapsed": true
	   },
	   "outputs": [],
"source": [
"// Scilab code Ex3.2: Pg 80 (2008)\n",
"clc; clear;\n",
"A = 400e-06;              // Cross-sectional area of plate, m^2\n",
"I = 50e-06;              // Source current, A\n",
"t = 3;                   // Flow time of current, s\n",
"// Since electric current is the rate of flow of charge i.e I = Q/t, solving for Q \n",
"Q = I*t;                 // Amount of charge on plates, C\n",
"//Solving for density of the electric field between the plates\n",
"D = Q/A;                    // Electric field density, C/m^2\n",
"printf('\The charge on the plates = %3d micro-coloumb', Q/1e-06);\n",
"printf('\nThe density of the electric field between the plates = %5.3f C/m-square', D);\n",
"\n",
"// Result\n",
"// The charge on the plates = 150 micro-coloumb\n",
"// The density of the electric field between the plates =0.375 C/m-square"
   ]
   }
,
{
		   "cell_type": "markdown",
		   "metadata": {},
		   "source": [
			"## Example 3.3: Electric_field_strength_and_flux_density_of_parallel_plates_capacitor.sce"
		   ]
		  },
  {
"cell_type": "code",
	   "execution_count": null,
	   "metadata": {
	    "collapsed": true
	   },
	   "outputs": [],
"source": [
"// Scilab code Ex3.3: Pg 83 (2008)\n",
"clc; clear;\n",
"d = 3e-03;                  // Thickness of dielectric, m\n",
"Q = 35e-03;                 // Electric charge on plates, C\n",
"V = 150;                   // Supply voltage, V\n",
"A = 144e-06;              // Cross-sectional area of plates, m^2\n",
"// Part (a)\n",
"// Since electric field strength(E) = potential gradient therefore we have\n",
"E = V/d;                    // Electric field strength, V/m\n",
"// Part (b)\n",
"// Solving for electric field density, D\n",
"D = Q/A;                      // Electric field density, C/m^2\n",
"printf('\nThe electric field strength = %2d kV/m', E*1e-03);\n",
"printf('\nThe flux density = %5.1f C/m^2', D);\n",
"\n",
"// Result\n",
"// The electric field strength = 50 kV/m\n",
"// The flux density = 243.1 C/m^2"
   ]
   }
,
{
		   "cell_type": "markdown",
		   "metadata": {},
		   "source": [
			"## Example 3.4: Characteristics_of_a_parallel_plate_capacitor.sce"
		   ]
		  },
  {
"cell_type": "code",
	   "execution_count": null,
	   "metadata": {
	    "collapsed": true
	   },
	   "outputs": [],
"source": [
"// Scilab code Ex3.4: Pg 83-84 (2008)\n",
"clc; clear;\n",
"d = 4e-03;                   // Thickness of air, m\n",
"Q = 2e-04;                  // Electric charge on plates, C\n",
"V = 125;                   // Supply voltage, V\n",
"D = 15;                   // Electric field density, coulomb-per-metre-square\n",
"// Part (a)\n",
"// Since electric field strength(E) = potential gradient, therefore we have \n",
"E = V/d;                    // Electric field strength, V/m\n",
"// Part (b)\n",
"// Since D = Q/A, solving for A\n",
"A = Q/D;              // Cross-sectional area of plates, m^2\n",
"// Part (c)\n",
"// Since Q = C*V, solving for C\n",
"C = Q/V;                    // Capacitance of the plates, F\n",
"printf('\nThe electric field strength between the plates = %5.2f kV/m',E*1e-03);\n",
"printf('\nThe csa of the field between the plates = %4.1f mm^2', A/1e-06);\n",
"printf('\nThe capacitance of the plates = %3.1f micro-coulomb', C/1e-06);\n",
"\n",
"// Result\n",
"// The electric field strength between the plates = 31.25 kV/m\n",
"// The csa of the field between the plates = 13.3 mm^2\n",
"// The capacitance of the plates = 1.6 micro-coulomb"
   ]
   }
,
{
		   "cell_type": "markdown",
		   "metadata": {},
		   "source": [
			"## Example 3.5: Capacitance_and_electric_field_stength_of_a_parallel_plate_capacitor.sce"
		   ]
		  },
  {
"cell_type": "code",
	   "execution_count": null,
	   "metadata": {
	    "collapsed": true
	   },
	   "outputs": [],
"source": [
"// Scilab code Ex3.5: Pg 86 (2008)\n",
"clc; clear;\n",
"A = 6e-04;                          // Cross-sectional area of plates, m^2\n",
"d = 5e-04;                          // Thickness of mica sheet, m\n",
"Epsilon_r = 5.8;                    // Relative permittivity, unitless\n",
"Epsilon_0 = 8.854e-12;              // Permittivity of Free Space\n",
"V = 200;                            // Potential difference, V\n",
"// Part (a)\n",
"// Since absolute permittivity, Epsilon = C*(d/A), therefore solving for d & putting Epsilon = Epsilon_0*Epsilon_r \n",
"C = ( Epsilon_r*Epsilon_0*A )/d;         // Capacitance, F\n",
"// Part (b)\n",
"// Since electric field strength(E) = potential gradient, therefore we have \n",
"E = V/d;                    // Electric field strength, V/m\n",
"printf('\nThe capacitance of the capacitor = %5.2f pF', C/1e-12);\n",
"printf('\nElectric field strength = %3d kV/m',E*1e-03);\n",
"\n",
"// Result\n",
"// The capacitance of the capacitor = 61.62 pF\n",
"// Electric field strength = 400 kV/m"
   ]
   }
,
{
		   "cell_type": "markdown",
		   "metadata": {},
		   "source": [
			"## Example 3.6: Thickness_of_paper_between_plates_of_a_capacitor.sce"
		   ]
		  },
  {
"cell_type": "code",
	   "execution_count": null,
	   "metadata": {
	    "collapsed": true
	   },
	   "outputs": [],
"source": [
"// Scilab code Ex3.6: Pg 86 (2008)\n",
"clc; clear;\n",
"C = 0.224e-09;                    //Capacitance, F\n",
"A = 5625e-06;                     // Cross-sectional area of plates, m^2\n",
"Epsilon_r = 2.5;                  // Relative permittivity\n",
"Epsilon_0 = 8.854e-12;            // Permittivity of Free Space\n",
"// Since absolute permittivity, Epsilon = C*(d/A), therefore solving for d & putting Epsilon = Epsilon_0*Epsilon_r\n",
"d = ( Epsilon_r*Epsilon_0*A )/C;                  // Thickness of waxed paper dielectric, m\n",
"printf('\nThe thickness of paper required = %3.2f mm', d/1e-03);\n",
"\n",
"// Result\n",
"// The thickness of paper required = 0.56 mm"
   ]
   }
,
{
		   "cell_type": "markdown",
		   "metadata": {},
		   "source": [
			"## Example 3.7: Relative_permittivity_of_ceramic_dielectric.sce"
		   ]
		  },
  {
"cell_type": "code",
	   "execution_count": null,
	   "metadata": {
	    "collapsed": true
	   },
	   "outputs": [],
"source": [
"// Scilab code Ex3.7: Pg 86 (2008)\n",
"clc; clear;\n",
"C = 4.7e-08;                   //Capacitance, F\n",
"A = 4e-04;                   // Cross-sectional area of plates, m^2\n",
"d = 1e-04;                  // Thickness of dielectric, m\n",
"Epsilon_0 = 8.854e-12;            // Permittivity of Free Space\n",
"// Since absolute permittivity, Epsilon = C*(d/A), therefore solving for Epsilon_r & putting Epsilon = Epsilon_0*Epsilon_r\n",
"Epsilon_r = (C*d)/(Epsilon_0*A);                  // Relative permittivity\n",
"printf('\nRelative permittivity = %4d', Epsilon_r);\n",
"\n",
"// Result\n",
"// Relative permittivity = 1327"
   ]
   }
,
{
		   "cell_type": "markdown",
		   "metadata": {},
		   "source": [
			"## Example 3.8: Electric_flux_and_flux_density_produced_in_dielectric_material.sce"
		   ]
		  },
  {
"cell_type": "code",
	   "execution_count": null,
	   "metadata": {
	    "collapsed": true
	   },
	   "outputs": [],
"source": [
"// Scilab code Ex3.8: Pg 87 (2008)\n",
"clc; clear;\n",
"V = 180;                            // Potential difference, V\n",
"d = 3e-03;                         // Thickness of dielectric, m\n",
"A = 4.2e-04;                       // Cross-sectional area of plates, m^2\n",
"Epsilon_r = 3.5;                   // Relative permittivity\n",
"Epsilon_0 = 8.854e-12;             // Permittivity of Free Space\n",
"// Since absolute permittivity, Epsilon = C*(d/A), therefore solving for C & putting Epsilon = Epsilon_0*Epsilon_r \n",
"C = ( Epsilon_r*Epsilon_0*A )/d;         // Capacitance, F\n",
"// Since C = Q/V, solving for Q\n",
"Q = C*V;                                 // Electric charge, C\n",
"// Using  D = Q/A,\n",
" D = Q/A;                                // Electric field density, C/m^2\n",
" printf('\The flux thus produced = %3.2f nC.',Q/1e-09);\n",
" printf('\nThe flux density thus produced. = %3.2f micro-coulomb-per-metre-square', D/1e-06); \n",
" \n",
"// Result\n",
"// The flux thus produced = 0.78 nC\n",
"// The flux density thus produced. = 1.86 micro-C/m^2"
   ]
   }
,
{
		   "cell_type": "markdown",
		   "metadata": {},
		   "source": [
			"## Example 3.9: Effective_capacitance_of_capacitors_in_parallel.sce"
		   ]
		  },
  {
"cell_type": "code",
	   "execution_count": null,
	   "metadata": {
	    "collapsed": true
	   },
	   "outputs": [],
"source": [
"// Scilab code Ex3.9: Pg 89 (2008)\n",
"clc; clear;\n",
"C_1 = 4.7e-06;                   //Capacitance, F\n",
"C_2 = 3.9e-06;                   //Capacitance, F\n",
"C_3 = 2.2e-06;                   //Capacitance, F\n",
"// The resulting capacitance of parallerly connected capacitors is the sum of the individual capacitance present in the circuit\n",
"C = C_1 + C_2 + C_3;             // Resulting capacitance  of the circuit, F\n",
"printf('\nThe resulting capacitance of the combination = %4.1f micro-farad', C/1e-06);\n",
"\n",
"// Result\n",
"// The resulting capacitance of the combination = 10.8 micro-farad"
   ]
   }
],
"metadata": {
		  "kernelspec": {
		   "display_name": "Scilab",
		   "language": "scilab",
		   "name": "scilab"
		  },
		  "language_info": {
		   "file_extension": ".sce",
		   "help_links": [
			{
			 "text": "MetaKernel Magics",
			 "url": "https://github.com/calysto/metakernel/blob/master/metakernel/magics/README.md"
			}
		   ],
		   "mimetype": "text/x-octave",
		   "name": "scilab",
		   "version": "0.7.1"
		  }
		 },
		 "nbformat": 4,
		 "nbformat_minor": 0
}
