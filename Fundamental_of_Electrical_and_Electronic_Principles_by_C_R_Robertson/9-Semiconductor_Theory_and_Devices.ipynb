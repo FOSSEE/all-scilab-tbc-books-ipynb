{
"cells": [
 {
		   "cell_type": "markdown",
	   "metadata": {},
	   "source": [
       "# Chapter 9: Semiconductor Theory and Devices"
	   ]
	},
{
		   "cell_type": "markdown",
		   "metadata": {},
		   "source": [
			"## Example 9.1: The_zener_diode.sce"
		   ]
		  },
  {
"cell_type": "code",
	   "execution_count": null,
	   "metadata": {
	    "collapsed": true
	   },
	   "outputs": [],
"source": [
"// Scilab code Ex9.1: Pg 277 (2008)\n",
"clc; clear;\n",
"// Part (a)\n",
"V_Z = 9.1;    // Zener voltage of zener diode, volt\n",
"P_Z = 0.5;    // Power rating of zener diode at V_Z, W\n",
"r_Z = 1.5;    // Slope resistance of zener diode, ohm\n",
"V = 12;    // Nominal value of input voltage, volt\n",
"R_L = 2.5e+03;    // Load resistance across zener diode, ohm\n",
"I_Z = P_Z/V_Z*1e+03;    // Zener current, mA\n",
"I_S = I_Z;    // Current through series resistor, mA\n",
"V_S = V - V_Z;    // Voltage drop across series resistor, volt\n",
"R_S = V_S/I_S*1e+03;    // Value of series resistance, ohm\n",
"P_max = (I_S*1e-03)^2*R_S;    // Maximum power rating of series resistance, W\n",
"printf('\nThe value of series resistance  = %5.2f ohm', R_S);\n",
"printf('\nThe value of maximum power rating of series resistance  = %4.2f W', P_max);\n",
"printf('\n(a) The suitable value of R_S should be 54 ohm, 0.25 W');\n",
"\n",
"// Part (b)\n",
"V_o = V_Z;    // Output voltage across zener, volt\n",
"I_L = V_o/R_L*1e+03;    // Load current, mA\n",
"I_Z = I_S - I_L;    // Zener current, mA\n",
"printf('\n(b) The value of diode current with load resistance across zener = %5.2f mA',I_Z );\n",
"\n",
"// Part (c)\n",
"V = 12 - (0.1*12);    // Final value of input voltage after falling below 12 V, volt\n",
"R_S = 56;    // Standard value of series resistance, ohm\n",
"I_S = (V - V_Z)/R_S*1e+03;    // Current through series resistance, mA\n",
"I_Z = I_S - I_L;    // Resulting diode current, mA\n",
"delta_I_Z = 51.36 - I_Z;    // Change in zener current, mA\n",
"delta_V_Z = delta_I_Z*1e-03*r_Z;    // Change in zener voltage, V\n",
"change = delta_V_Z/V_Z*100;    // %age change in zener voltage\n",
"\n",
"printf('\n(c) The percentage change in the p.d. across the load = %4.2f percent',change);\n",
"\n",
"// Result\n",
"// The value of series resistance  = 52.78 ohm\n",
"// The value of maximum power rating of series resistance  = 159340.66 W \n",
"// The suitable value of R_S should be 54 ohm, 0.25 W   "
   ]
   }
,
{
		   "cell_type": "markdown",
		   "metadata": {},
		   "source": [
			"## Example 9.2: Zener_diode_as_a_voltage_regulator.sce"
		   ]
		  },
  {
"cell_type": "code",
	   "execution_count": null,
	   "metadata": {
	    "collapsed": true
	   },
	   "outputs": [],
"source": [
"// Scilab code Ex9.2: Pg 279 (2008)\n",
"clc; clear;\n",
"// Part (a)\n",
"Diode = cell(3, 1);    // Declare a diode cell\n",
"Diode(1).entries = [1 15 30 0.5 0.007];    // Data for Ist diode\n",
"Diode(2).entries = [2 15 15 1.3 0.20];    // Data for 2nd diode\n",
"Diode(3).entries = [1 15 2.5 5.0 0.67];    // Data for 3rd diode\n",
"Resistor = cell(5, 1)    // Declare a resistor cell\n",
"Resistor(1).entries = [0.25, 0.026];    // Data for Ist resistor\n",
"Resistor(2).entries = [0.5, 0.038];    // Data for 2nd resistor\n",
"Resistor(3).entries = [1.0, 0.055];    // Data for 3rd resistor\n",
"Resistor(4).entries = [2.5, 0.260];    // Data for 4th resistor\n",
"Resistor(5).entries = [7.5, 0.280];    // Data for 5th resistor\n",
"V = 24;    // Input voltage, volt\n",
"V_Z = Diode(1).entries(2);    // Zener voltage for Ist diode, volt\n",
"V_S = V - V_Z;     // Voltage drop across series resistor for all the three diodes, volt\n",
"\n",
"// Diode 1\n",
"P_Z = Diode(1).entries(4);    // Power rating of Ist diode, W\n",
"I_Z = P_Z/V_Z*1e+03;    // Zener current, mA\n",
"R_S = V_S/I_Z*1e+03;    // Value of series resistance, ohm\n",
"P_S = V_S^2/R_S;    // Power dissipation across series resistor, watt\n",
"printf('\nDiode 1:');\n",
"printf('\n========');\n",
"printf('\nThe value of series resistance  = %3d ohm', R_S);\n",
"printf('\nThe value of power rating of series resistance  = %3.1f W', P_S);\n",
"R_S = 270;    // Chosen value of series resistor, ohm\n",
"P_S = 0.3;    // Chosen value of power rating, ohm\n",
"printf('\nThe suitable value of R_S should be %3d ohm, %3.1f W', R_S, P_S);\n",
"printf('\nTotal unit cost = %5.3f pounds\n', Diode(1).entries(5)+Resistor(2).entries(2));\n",
"\n",
"// Diode 2\n",
"printf('\nDiode 2:');\n",
"printf('\n========');\n",
"P_Z = Diode(2).entries(4);    // Power rating of 2nd diode, W\n",
"I_Z = P_Z/V_Z*1e+03;    // Zener current, mA\n",
"R_S = V_S/I_Z*1e+03;    // Value of series resistance, ohm\n",
"P_S = V_S^2/R_S;    // Power dissipation across series resistor, watt\n",
"printf('\nThe value of series resistance  = %5.2f ohm', R_S);\n",
"printf('\nThe value of power rating of series resistance  = %4.2f W', P_S);\n",
"R_S = 120;    // Chosen value of series resistor, ohm\n",
"P_S = 1.0;    // Chosen value of power rating, ohm\n",
"printf('\nThe suitable value of R_S should be %3d ohm, %3.1f W', R_S, P_S);\n",
"printf('\nTotal unit cost = %4.2f pounds', Diode(2).entries(5)+Resistor(3).entries(2));\n",
"\n",
"// Diode 3\n",
"printf('\nDiode 3:');\n",
"printf('\n========');\n",
"P_Z = Diode(3).entries(4);    // Power rating of 3rd diode, W\n",
"I_Z = P_Z/V_Z*1e+03;    // Zener current, mA\n",
"R_S = V_S/I_Z*1e+03;    // Value of series resistance, ohm\n",
"P_S = V_S^2/R_S;    // Power dissipation across series resistor, watt\n",
"printf('\nThe value of series resistance  = %3d ohm', R_S);\n",
"printf('\nThe value of power rating of series resistance  = %3.1f W', P_S);\n",
"R_S = 27;    // Chosen value of series resistor, ohm\n",
"P_S = 7.5;    // Chosen value of power rating, ohm\n",
"printf('\nThe suitable value of R_S should be %3d ohm, %3.1f W', R_S, P_S);\n",
"printf('\nTotal unit cost = %4.2f pounds', Diode(3).entries(5)+Resistor(5).entries(2));\n",
"\n",
"// Part (b)\n",
"delta_V_Z = (5*15)/100;    // Allowable change in V_Z, volt\n",
"delta_I_Z = 30e-03;    // Allowable change in zener current, A\n",
"delta_VZ = zeros(3);\n",
"delta_VZ(1) = 30e-03*30;    // Change in zener voltage dor diode 1, V\n",
"delta_VZ(2) = 30e-03*15;    // Change in zener voltage dor diode 2, V\n",
"delta_VZ(3) = 30e-03*2.5;   // Change in zener voltage dor diode 3, V\n",
"printf('\nThe maximum value of zener voltage change = %4.2f V', max(delta_VZ(2), delta_VZ(3)));\n",
"printf('\nTo meet the specification at lowest cost, circuit 2 would be adopted');\n",
"// Result\n",
"// The value of series resistance  = 52.78 ohm\n",
"// The value of maximum power rating of series resistance  = 159340.66 W \n",
"// The suitable value of R_S should be 54 ohm, 0.25 W   "
   ]
   }
],
"metadata": {
		  "kernelspec": {
		   "display_name": "Scilab",
		   "language": "scilab",
		   "name": "scilab"
		  },
		  "language_info": {
		   "file_extension": ".sce",
		   "help_links": [
			{
			 "text": "MetaKernel Magics",
			 "url": "https://github.com/calysto/metakernel/blob/master/metakernel/magics/README.md"
			}
		   ],
		   "mimetype": "text/x-octave",
		   "name": "scilab",
		   "version": "0.7.1"
		  }
		 },
		 "nbformat": 4,
		 "nbformat_minor": 0
}
