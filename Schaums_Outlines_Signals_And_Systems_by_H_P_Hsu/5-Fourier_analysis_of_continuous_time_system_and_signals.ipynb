{
"cells": [
 {
		   "cell_type": "markdown",
	   "metadata": {},
	   "source": [
       "# Chapter 5: Fourier analysis of continuous time system and signals"
	   ]
	},
{
		   "cell_type": "markdown",
		   "metadata": {},
		   "source": [
			"## Example 5.10: differentiation_property_of_fourier_series.sce"
		   ]
		  },
  {
"cell_type": "code",
	   "execution_count": null,
	   "metadata": {
	    "collapsed": true
	   },
	   "outputs": [],
"source": [
"clear;\n",
"close;\n",
"clc;\n",
"T0=4;\n",
"t=-7.99:0.01:8;\n",
"t_temp=0.01:0.01:T0;\n",
"s=length(t)/length(t_temp);\n",
"dx=[];\n",
"x=[];\n",
"for i=1:s\n",
"    x=[x 0.5*t_temp($:-1:1)];\n",
"end\n",
"for i=1:length(t)\n",
"    if modulo(t(i),T0)==0  then\n",
"        dx(i)=1;\n",
"    else\n",
"        dx(i)=0;\n",
"    end\n",
"end\n",
"dx1=-1/T0;\n",
"figure\n",
"a=gca();\n",
"plot2d(t,x,6)\n",
"poly1=a.children.children;\n",
"poly1.thickness=3;\n",
"poly1.foreground=2;\n",
"xtitle('x(t)','t')\n",
"figure\n",
"plot(t,dx,'r');\n",
"plot(t,dx1);\n",
"poly1=a.children.children;\n",
"poly1.thickness=3;\n",
"poly1.foreground=2;\n",
"xtitle('diff(x(t))','t')\n",
"w0=%pi/2;\n",
"//by sifting property\n",
"cdk=1/T0; \n",
"for k=-10:10\n",
"    if k~=0 then\n",
"    ck(k+11)=cdk/(%i*k*w0);\n",
" else\n",
"     ck(k+11)=.5;\n",
"     c0=ck(k+11);\n",
"    end\n",
"end\n",
"a0=2*c0;\n",
"ak=2*real(ck);\n",
"bk=-2*imag(ck);\n",
"\n",
"\n",
""
   ]
   }
,
{
		   "cell_type": "markdown",
		   "metadata": {},
		   "source": [
			"## Example 5.11: magnitude_spectra_of_a_periodic_square_wave.sce"
		   ]
		  },
  {
"cell_type": "code",
	   "execution_count": null,
	   "metadata": {
	    "collapsed": true
	   },
	   "outputs": [],
"source": [
"clear ;\n",
"close;\n",
"clc;\n",
"T0=16;\n",
"t=-79.99:0.01:80;\n",
"t_temp=0.01:0.01:T0/4;\n",
"s=length(t)/length(t_temp);\n",
"x=[];\n",
"for i=1:s\n",
"    if modulo(i,4)==1  then\n",
"        x=[x ones(1,length(t_temp))];\n",
"    else\n",
"        x=[x zeros(1,length(t_temp))];\n",
"    end\n",
"end\n",
"a=gca();\n",
"plot(t,x,'r')\n",
"poly1=a.children.children;\n",
"poly1.thickness=3;\n",
"poly1.foreground=2;\n",
"xtitle('x(t)','t')\n",
"w0=%pi/8;\n",
"for k=-30:30;\n",
"    cc(k+31,:)=exp(-%i*k*w0*t);\n",
"    ck(k+31)=x*cc(k+31,:)'/length(t);\n",
"    if abs(ck(k+31))<0.01 then\n",
"    ck(k+31)=0;\n",
"    //else if real(ck(k+11))<0.1  then\n",
"    //ck(k+11)=%i*imag(ck(k+11));\n",
"    //end\n",
"    end\n",
"    if k==0 then\n",
"      c0=ck(k+31);\n",
"    end\n",
"end \n",
"k=-30:30;\n",
"figure\n",
"a=gca();\n",
"plot2d3(k,abs(ck));\n",
"poly1=a.children.children;\n",
"poly1.thickness=3;\n",
"poly1.foreground=2;\n",
"xtitle('|ck|','k')\n",
"//part b\n",
"t_temp=0.01:0.01:T0/8;\n",
"s=length(t)/length(t_temp);\n",
"x=[];\n",
"for i=1:s\n",
"    if modulo(i,8)==1  then\n",
"        x=[x ones(1,length(t_temp))];\n",
"    else\n",
"        x=[x zeros(1,length(t_temp))];\n",
"    end\n",
"end\n",
"figure\n",
"a=gca();\n",
"plot(t,x,'r')\n",
"poly1=a.children.children;\n",
"poly1.thickness=3;\n",
"poly1.foreground=2;\n",
"xtitle('x(t)','t')\n",
"w0=%pi/8;\n",
"for k=-30:30;\n",
"    cc(k+31,:)=exp(-%i*k*w0*t);\n",
"    ck(k+31)=x*cc(k+31,:)'/length(t);\n",
"    if abs(ck(k+31))<0.01 then\n",
"    ck(k+31)=0;\n",
"    //else if real(ck(k+11))<0.1  then\n",
"    //ck(k+11)=%i*imag(ck(k+11));\n",
"    //end\n",
"    end\n",
"    if k==0 then\n",
"      c0=ck(k+31);\n",
"    end\n",
"end \n",
"k=-30:30;\n",
"figure\n",
"a=gca();\n",
"plot2d3(k,abs(ck));\n",
"poly1=a.children.children;\n",
"poly1.thickness=3;\n",
"poly1.foreground=2;\n",
"xtitle('|ck|','k')"
   ]
   }
,
{
		   "cell_type": "markdown",
		   "metadata": {},
		   "source": [
			"## Example 5.19: fourier_transform_of_a_rectangular_pulse.sce"
		   ]
		  },
  {
"cell_type": "code",
	   "execution_count": null,
	   "metadata": {
	    "collapsed": true
	   },
	   "outputs": [],
"source": [
"clear;\n",
"clc;\n",
"close;\n",
"A=1;\n",
"t0=1;\n",
"dt=.1;\n",
"t=-10:dt:10;\n",
"for i=1:length(t)\n",
"    if t(i)>-t0 & t(i)<t0 then\n",
"        x(i)=A;\n",
"    else\n",
"        x(i)=0;\n",
"    end\n",
"end\n",
"a=gca();\n",
"plot(t,x);\n",
"poly1=a.children.children;\n",
"poly1.thickness=3;\n",
"poly1.foreground=2;\n",
"xtitle('x(t)','t')\n",
"//clf();\n",
"wmax=10;\n",
"w=-wmax:0.1:wmax;\n",
"Xw=x'*exp(-%i*(w'*t))*dt;\n",
"Xw_mag=(Xw);\n",
"Xw_mag=[Xw_mag($:-1:1) Xw_mag];\n",
"w=[w($:-1:1) w];\n",
"figure\n",
"a=gca();\n",
"plot2d(w,Xw_mag);\n",
"poly1=a.children.children;\n",
"poly1.thickness=3;\n",
"poly1.foreground=2;\n",
"xtitle('|X(w)|','w')"
   ]
   }
,
{
		   "cell_type": "markdown",
		   "metadata": {},
		   "source": [
			"## Example 5.20: fourier_transform_of_a_sinc_function.sce"
		   ]
		  },
  {
"cell_type": "code",
	   "execution_count": null,
	   "metadata": {
	    "collapsed": true
	   },
	   "outputs": [],
"source": [
"clear;\n",
"clc;\n",
"close;\n",
"A=1;\n",
"t0=1;\n",
"dt=.1;\n",
"t=-10:dt:10;\n",
"for i=1:length(t)\n",
"    if t(i)==0 then\n",
"        x(i)=A/%pi;\n",
"    else\n",
"        x(i)=sin(A*t(i))./(%pi*t(i));\n",
"    end\n",
"end\n",
"a=gca();\n",
"plot(t,x);\n",
"poly1=a.children.children;\n",
"poly1.thickness=3;\n",
"poly1.foreground=2;\n",
"xtitle('x(t)','t')\n",
"//clf();\n",
"wmax=10;\n",
"w=-wmax:0.1:wmax;\n",
"Xw=x'*exp(-%i*(w'*t))*dt;\n",
"Xw_mag=(Xw);\n",
"//Xw_mag=[Xw_mag($:-1:1) Xw_mag];\n",
"figure\n",
"a=gca();\n",
"plot2d(w,Xw_mag);\n",
"poly1=a.children.children;\n",
"poly1.thickness=3;\n",
"poly1.foreground=2;\n",
"xtitle('|X(w)|','w')"
   ]
   }
,
{
		   "cell_type": "markdown",
		   "metadata": {},
		   "source": [
			"## Example 5.21: fourier_transform.sce"
		   ]
		  },
  {
"cell_type": "code",
	   "execution_count": null,
	   "metadata": {
	    "collapsed": true
	   },
	   "outputs": [],
"source": [
"clear;\n",
"clc;\n",
"close;\n",
"a=1;\n",
"dt=.01;\n",
"t=0:dt:10;\n",
"x=exp(-a*t);\n",
"y=[x($:-1:1) x];\n",
"t1=-10:dt:10.01;\n",
"a=gca();\n",
"plot(t1,y);\n",
"poly1=a.children.children;\n",
"poly1.thickness=3;\n",
"poly1.foreground=2;\n",
"xtitle('x(t)','t')\n",
"//clf();\n",
"//stacksize(10000,100000) \n",
"wmax=10;\n",
"w=0:0.01:wmax;\n",
"Xw=x*exp(-%i*(w'*t))*dt;\n",
"Xw_mag=(Xw);\n",
"Xw_mag=[Xw_mag($:-1:1) Xw_mag];\n",
"w=[-w($:-1:1) w];\n",
"figure\n",
"a=gca();\n",
"plot2d(w,Xw_mag);\n",
"poly1=a.children.children;\n",
"poly1.thickness=3;\n",
"poly1.foreground=2;\n",
"xtitle('X(w)','w')"
   ]
   }
,
{
		   "cell_type": "markdown",
		   "metadata": {},
		   "source": [
			"## Example 5.22: fourier_transform.sce"
		   ]
		  },
  {
"cell_type": "code",
	   "execution_count": null,
	   "metadata": {
	    "collapsed": true
	   },
	   "outputs": [],
"source": [
"clear;\n",
"clc;\n",
"close;\n",
"a=1.5;\n",
"dt=.1;\n",
"t=0:dt:10;\n",
"s=size(t);\n",
"x=ones(1,s(2))./(a^2+t^2);\n",
"y=[x($:-1:1) x];\n",
"t1=-10:dt:10.1;\n",
"a=gca();\n",
"plot(t1,y);\n",
"poly1=a.children.children;\n",
"poly1.thickness=3;\n",
"poly1.foreground=2;\n",
"xtitle('x(t)','t')\n",
"\n",
"//clf();\n",
"wmax=10;\n",
"w=0:0.1:wmax;\n",
"Xw=x*exp(-%i*(w'*t))*dt;\n",
"Xw_mag=(Xw);\n",
"Xw_mag=[Xw_mag($:-1:1) Xw_mag];\n",
"w=[-w($:-1:1) w];\n",
"figure\n",
"a=gca()\n",
"plot2d(w,Xw_mag);\n",
"poly1=a.children.children;\n",
"poly1.thickness=3;\n",
"poly1.foreground=2;\n",
"xtitle('X(w)','w')"
   ]
   }
,
{
		   "cell_type": "markdown",
		   "metadata": {},
		   "source": [
			"## Example 5.23_a: fourier_transform.sce"
		   ]
		  },
  {
"cell_type": "code",
	   "execution_count": null,
	   "metadata": {
	    "collapsed": true
	   },
	   "outputs": [],
"source": [
"clear;\n",
"clc;\n",
"close;\n",
"dt=.1\n",
"t=-10:dt:10;\n",
"for i=1:length(t)\n",
"    if t(i)==0 then\n",
"        x(i)=1;\n",
"    else\n",
"        x(i)=0;\n",
"    end\n",
"end\n",
"a=gca();\n",
"plot2d3(t,x);\n",
"poly1=a.children.children;\n",
"poly1.thickness=3;\n",
"poly1.foreground=2;\n",
"xtitle('x(t)','t')\n",
"wmax=10;\n",
"w=-wmax:0.1:wmax;\n",
"Xw=x'*exp(-%i*(w'*t))*dt;\n",
"Xw_mag=(Xw);\n",
"figure\n",
"a=gca();\n",
"plot2d(w,Xw_mag);\n",
"poly1=a.children.children;\n",
"poly1.thickness=3;\n",
"poly1.foreground=2;\n",
"xtitle('X(w)','w')"
   ]
   }
,
{
		   "cell_type": "markdown",
		   "metadata": {},
		   "source": [
			"## Example 5.23_b: fourier_transform.sce"
		   ]
		  },
  {
"cell_type": "code",
	   "execution_count": null,
	   "metadata": {
	    "collapsed": true
	   },
	   "outputs": [],
"source": [
"//frequency shifting\n",
"clear;\n",
"clc;\n",
"close;\n",
"dt=.1;\n",
"w0=1;//positive number\n",
"t=-10:dt:10;\n",
"x=exp(%i*t*w0);\n",
"a=gca();\n",
"plot(t,x);\n",
"poly1=a.children.children;\n",
"poly1.thickness=3;\n",
"poly1.foreground=2;\n",
"xtitle('x(t)','t')\n",
"wmax=10;\n",
"w=-wmax:0.1:wmax;\n",
"Xw=x*exp(-%i*(w'*t))*dt;\n",
"figure\n",
"a=gca();\n",
"plot2d(w,round(Xw/10));\n",
"poly1=a.children.children;\n",
"poly1.thickness=3;\n",
"poly1.foreground=2;\n",
"xtitle('X(w)','w')"
   ]
   }
,
{
		   "cell_type": "markdown",
		   "metadata": {},
		   "source": [
			"## Example 5.23_c: fourier_transform.sce"
		   ]
		  },
  {
"cell_type": "code",
	   "execution_count": null,
	   "metadata": {
	    "collapsed": true
	   },
	   "outputs": [],
"source": [
"//frequency shifting\n",
"clear;\n",
"clc;\n",
"close;\n",
"dt=.1;\n",
"w0=1;//positive number\n",
"t=-10:dt:10;\n",
"x=exp(-%i*t*w0);\n",
"a=gca();\n",
"plot(t,x);\n",
"poly1=a.children.children;\n",
"poly1.thickness=3;\n",
"poly1.foreground=2;\n",
"xtitle('x(t)','t')\n",
"wmax=10;\n",
"w=-wmax:0.1:wmax;\n",
"Xw=x*exp(-%i*(w'*t))*dt;\n",
"figure\n",
"a=gca();\n",
"plot2d3(w,round(Xw/10));\n",
"poly1=a.children.children;\n",
"poly1.thickness=1;\n",
"poly1.foreground=2;\n",
"xtitle('X(w)','w')\n",
"plot(w,round(Xw/10),'b.')"
   ]
   }
,
{
		   "cell_type": "markdown",
		   "metadata": {},
		   "source": [
			"## Example 5.23_d: fourier_transform.sce"
		   ]
		  },
  {
"cell_type": "code",
	   "execution_count": null,
	   "metadata": {
	    "collapsed": true
	   },
	   "outputs": [],
"source": [
"//frequency shifting\n",
"clear;\n",
"clc;\n",
"close;\n",
"dt=.1;\n",
"w0=2;//positive number\n",
"t=-10:dt:10;\n",
"x=cos(w0*t);//or 1/2*(exp(-j*w*t)+exp(j*w*t))\n",
"a=gca();\n",
"plot(t,x);\n",
"poly1=a.children.children;\n",
"poly1.thickness=3;\n",
"poly1.foreground=2;\n",
"xtitle('x(t)','t')\n",
"wmax=10;\n",
"w=-wmax:0.1:wmax;\n",
"Xw=x*exp(-%i*(w'*t))*dt;\n",
"figure\n",
"a=gca();\n",
"plot2d3(w,round(abs(Xw/10)));\n",
"poly1=a.children.children;\n",
"poly1.thickness=2;\n",
"poly1.foreground=2;\n",
"xtitle('X(w)','w')"
   ]
   }
,
{
		   "cell_type": "markdown",
		   "metadata": {},
		   "source": [
			"## Example 5.23_e: fourier_transform.sce"
		   ]
		  },
  {
"cell_type": "code",
	   "execution_count": null,
	   "metadata": {
	    "collapsed": true
	   },
	   "outputs": [],
"source": [
"//frequency shifting\n",
"clear;\n",
"clc;\n",
"close;\n",
"dt=.1;\n",
"w0=.8;//positive number\n",
"t=-10:dt:10;\n",
"x=sin(w0*t);//or 1/2*(exp(-j*w*t)+exp(j*w*t))\n",
"plot(t,x);\n",
"a=gca()\n",
"poly1=a.children.children;\n",
"poly1.thickness=3;\n",
"poly1.foreground=2;\n",
"xtitle('x(t)','t')\n",
"wmax=10;\n",
"w=-wmax:0.1:wmax;\n",
"Xw=x*exp(-%i*(w'*t))*dt;\n",
"figure\n",
"a=gca()\n",
"plot2d3(w,round(abs(Xw/10)));\n",
"poly1=a.children.children;\n",
"poly1.thickness=2;\n",
"poly1.foreground=2;\n",
"xtitle('X(w)','w')"
   ]
   }
,
{
		   "cell_type": "markdown",
		   "metadata": {},
		   "source": [
			"## Example 5.25: fourier_transform_of_a_periodic_impulse_train.sce"
		   ]
		  },
  {
"cell_type": "code",
	   "execution_count": null,
	   "metadata": {
	    "collapsed": true
	   },
	   "outputs": [],
"source": [
"clear;\n",
"clc;\n",
"close;\n",
"dt=.1;\n",
"t0=1;//positive number\n",
"t=-10:dt:10;\n",
"for i=1:length(t)\n",
"    if modulo(t(i),t0)==0 then\n",
"        x(i)=1;\n",
"    else\n",
"        x(i)=0;\n",
"    end\n",
"end\n",
"a=gca();\n",
"plot2d3(t,x);\n",
"plot(t,x,'r.')\n",
"poly1=a.children.children;\n",
"poly1.thickness=3;\n",
"poly1.foreground=2;\n",
"xtitle('x(t)','t')\n",
"wmax=10;\n",
"w=-wmax:0.1:wmax;\n",
"Xw=x'*exp(-%i*(w'*t))*dt;\n",
"figure\n",
"a=gca();\n",
"plot2d3(w,round(abs(Xw)));\n",
"poly1=a.children.children;\n",
"poly1.thickness=2;\n",
"poly1.foreground=2;\n",
"xtitle('X(w)','w')\n",
"//or the fourier series is doesnt work\n",
"//ck=1/t0;\n",
"//k=-10:0.1:10;\n",
"//x=ck*(exp(%i*2*%pi*t.*k/t0));\n",
"//wmax=10;\n",
"//w=-wmax:0.1:wmax;\n",
"//Xw=x*exp(-%i*(w'*t))*dt;\n",
"//clf();\n",
"//plot2d3(k,x);"
   ]
   }
,
{
		   "cell_type": "markdown",
		   "metadata": {},
		   "source": [
			"## Example 5.27: inverse_fourier_transform.sce"
		   ]
		  },
  {
"cell_type": "code",
	   "execution_count": null,
	   "metadata": {
	    "collapsed": true
	   },
	   "outputs": [],
"source": [
"clear;\n",
"clc;\n",
"close;\n",
"A=1/2;\n",
"dw=.1;\n",
"w0=4;\n",
"a=1;\n",
"w=-10:dw:10;\n",
"for i=1:length(w)\n",
"    if ((w(i)>(-w0-a) & w(i)<(-w0+a)) | (w(i)>(w0-a) & w(i)<(w0+a))) then\n",
"   Xw(i)=2;\n",
"else\n",
"    Xw(i)=0;\n",
"    end\n",
"   \n",
"end\n",
"a=gca();\n",
"plot(w,Xw);\n",
"poly1=a.children.children;\n",
"poly1.thickness=3;\n",
"poly1.foreground=2;\n",
"xtitle('X(w)','w')\n",
"tmax=10;\n",
"t=-tmax:0.1:tmax;\n",
"x=Xw'*exp(-%i*(t'*w))*dw;\n",
"x_mag=(x);\n",
"figure\n",
"a=gca();\n",
"plot2d(t,x_mag);\n",
"poly1=a.children.children;\n",
"poly1.thickness=3;\n",
"poly1.foreground=2;\n",
"xtitle('x(t)','t')"
   ]
   }
,
{
		   "cell_type": "markdown",
		   "metadata": {},
		   "source": [
			"## Example 5.29: fourier_transform_of_a_signum_function.sce"
		   ]
		  },
  {
"cell_type": "code",
	   "execution_count": null,
	   "metadata": {
	    "collapsed": true
	   },
	   "outputs": [],
"source": [
"clear;\n",
"clc;\n",
"close;\n",
"dt=.1;\n",
"t=-10:dt:10;\n",
"h=find(t==0);\n",
"x=[-ones(1,h) ones(1,length(t)-h)];\n",
"//sgn(t)=2u(t)-1 .: d(sgn(t))/dt=2delta(t);\n",
"a=gca();\n",
"plot(t,x);\n",
"poly1=a.children.children;\n",
"poly1.thickness=3;\n",
"poly1.foreground=2;\n",
"xtitle('sgn(t)','t')\n",
"y=diff(x);\n",
"y=[y 0];\n",
"figure\n",
"a=gca();\n",
"plot2d3(t,y);\n",
"poly1=a.children.children;\n",
"poly1.thickness=3;\n",
"poly1.foreground=2;\n",
"xtitle('diff(sgn(t))','t')\n",
"wmax=10;\n",
"w=-wmax:0.1:wmax;\n",
"Xw=y*exp(-%i*(w'*t))*dt*10;\n",
"for i=1:length(w)\n",
"    if w(i)<>0 then       \n",
" XW(i)=Xw(i)./(%i*w(i));\n",
"else\n",
"    XW(i)=20;\n",
"    end\n",
"end\n",
"figure\n",
"a=gca();\n",
"plot2d(w,abs(XW));\n",
"poly1=a.children.children;\n",
"poly1.thickness=3;\n",
"poly1.foreground=2;\n",
"xtitle('X(w)','w')"
   ]
   }
,
{
		   "cell_type": "markdown",
		   "metadata": {},
		   "source": [
			"## Example 5.30: fourier_transform_of_a_step_signal.sce"
		   ]
		  },
  {
"cell_type": "code",
	   "execution_count": null,
	   "metadata": {
	    "collapsed": true
	   },
	   "outputs": [],
"source": [
"clear;\n",
"clc;\n",
"close;\n",
"dt=.1;\n",
"t=-10:dt:10;\n",
"u=[zeros(1,find(t==0)) ones(1,length(t)-find(t==0))];\n",
"a=gca();\n",
"plot(t,u);\n",
"poly1=a.children.children;\n",
"poly1.thickness=3;\n",
"poly1.foreground=2;\n",
"xtitle('u(t)','t')\n",
"u1=1/2;//even part\n",
"figure\n",
"a=gca()\n",
"plot(t,u1);\n",
"poly1=a.children.children;\n",
"poly1.thickness=3;\n",
"poly1.foreground=2;\n",
"xtitle('even part of u(t)','t')\n",
"h=find(t==0);\n",
"u2=[-ones(1,h) ones(1,length(t)-h)];//odd part\n",
"figure\n",
"a=gca()\n",
"plot(t,u2);\n",
"poly1=a.children.children;\n",
"poly1.thickness=3;\n",
"poly1.foreground=2;\n",
"xtitle('odd part of u(t)','t')\n",
"//u(t)=u1(t)+u2(t)\n",
"//.: U[w]=U1[w]+U2[w] i.e U[w]=%pi*delta(w)+1/(%i*w)\n",
"w=-10:0.1:10;\n",
"for i=1:length(w)\n",
"    if w(i)==0 then\n",
"        delta(i)=1;\n",
"    else\n",
"        delta(i)=0;\n",
"    end\n",
"end\n",
"Uw=ones(1,length(w))./(%i*w)+%pi*delta';\n",
"figure\n",
"a=gca()\n",
"plot2d(w,abs(Uw));\n",
"poly1=a.children.children;\n",
"poly1.thickness=3;\n",
"poly1.foreground=2;\n",
"xtitle('U(w)','w')"
   ]
   }
,
{
		   "cell_type": "markdown",
		   "metadata": {},
		   "source": [
			"## Example 5.32: inverse_fourier_transform_using_convolution.sce"
		   ]
		  },
  {
"cell_type": "code",
	   "execution_count": null,
	   "metadata": {
	    "collapsed": true
	   },
	   "outputs": [],
"source": [
"clear;\n",
"clc;\n",
"close;\n",
"disp('X(w)=1/(a+jw)^2=1/(a+jw)*1/(a+jw) ');\n",
"disp('exp(-a*t)*u(t) <--> 1/(a+jw) ');\n",
"disp('therefore x(t)=convolution(exp(-a*t)*u(t),exp(-a*t)*u(t))');\n",
"a=2;\n",
"t=0:0.1:10;\n",
"y=exp(-a*t);\n",
"z=convol(y,y);\n",
"disp('t*exp(-a*t)*u(t) <--> 1/(a+jw)^2 ');\n",
"t1=[-t($:-1:2) t];\n",
"a=gca()\n",
"plot(t1,z);\n",
"poly1=a.children.children;\n",
"poly1.thickness=3;\n",
"poly1.foreground=2;\n",
"xtitle('x(t)','t')"
   ]
   }
,
{
		   "cell_type": "markdown",
		   "metadata": {},
		   "source": [
			"## Example 5.34: integration_property.sce"
		   ]
		  },
  {
"cell_type": "code",
	   "execution_count": null,
	   "metadata": {
	    "collapsed": true
	   },
	   "outputs": [],
"source": [
"clear;\n",
"clc;\n",
"close;\n",
"disp('u(t)=integral(delta(t))');\n",
"disp('integral(x(t)) <--> %pi*X[0]*delta(w)+X(w)/(%i*w)');\n",
"disp('delta(t) <--> 1');\n",
"w=-10:0.1:10;\n",
"for i=1:length(w)\n",
"    if w(i)==0 then\n",
"        delta(i)=1;\n",
"    else\n",
"        delta(i)=0;\n",
"    end\n",
"end\n",
"Xw=%pi*delta'+ones(1,length(w))./(%i*w);\n",
"disp( 'U[w]=%pi*delta(w)+1/(%i*w)');\n",
"figure\n",
"a=gca();\n",
"plot(w,abs(Xw));\n",
"poly1=a.children.children;\n",
"poly1.thickness=3;\n",
"poly1.foreground=2;\n",
"xtitle('X(w)','w')"
   ]
   }
,
{
		   "cell_type": "markdown",
		   "metadata": {},
		   "source": [
			"## Example 5.40_a: fourier_transform.sce"
		   ]
		  },
  {
"cell_type": "code",
	   "execution_count": null,
	   "metadata": {
	    "collapsed": true
	   },
	   "outputs": [],
"source": [
"clear;\n",
"clc;\n",
"close;\n",
"disp('x(-t) <--> X(-w)=X*(w)');\n",
"t=-10:0.1:10;\n",
"u=[ones(1,find(t==0)) zeros(1,length(t)-find(t==0))];\n",
"a=gca();\n",
"plot(t,u);\n",
"poly1=a.children.children;\n",
"poly1.thickness=3;\n",
"poly1.foreground=2;\n",
"xtitle('u(-t)','t')\n",
"w=-10:0.1:10;\n",
"for i=1:length(w)\n",
"    if w(i)==0 then\n",
"        delta(i)=1;\n",
"    else\n",
"        delta(i)=0;\n",
"    end\n",
"end\n",
"Xw=%pi*delta'-ones(1,length(w))./(%i*w);\n",
"disp( 'U[-w]=%pi*delta(w)-1/(%i*w)');"
   ]
   }
,
{
		   "cell_type": "markdown",
		   "metadata": {},
		   "source": [
			"## Example 5.40_b: fourier_transform.sce"
		   ]
		  },
  {
"cell_type": "code",
	   "execution_count": null,
	   "metadata": {
	    "collapsed": true
	   },
	   "outputs": [],
"source": [
"clear;\n",
"clc;\n",
"close;\n",
"disp('x(-t) <--> X(-w)=X*(w)');\n",
"a=0.1;\n",
"t=-10:0.1:10;\n",
"u=[ones(1,find(t==0)) zeros(1,length(t)-find(t==0))];\n",
"x=exp(-a*t).*u;\n",
"d=gca();\n",
"plot(t,x);\n",
"poly1=d.children.children;\n",
"poly1.thickness=3;\n",
"poly1.foreground=2;\n",
"xtitle('e^(a*t)*u(-t)','t')\n",
"w=-10:0.1:10;\n",
"Xw=ones(1,length(w))./(a-(%i*w));\n",
"disp( 'exp(-a*t)*u(-t) <--> 1/(a-(%i*w))');\n",
"figure\n",
"d=gca();\n",
"plot(w,abs(Xw));\n",
"poly1=d.children.children;\n",
"poly1.thickness=3;\n",
"poly1.foreground=2;\n",
"xtitle('U(w)','w')"
   ]
   }
,
{
		   "cell_type": "markdown",
		   "metadata": {},
		   "source": [
			"## Example 5.42: fourier_transform_of_a_exponential_signal.sce"
		   ]
		  },
  {
"cell_type": "code",
	   "execution_count": null,
	   "metadata": {
	    "collapsed": true
	   },
	   "outputs": [],
"source": [
"clear;\n",
"clc;\n",
"close;\n",
"a=2;\n",
"t=-10:0.1:10;\n",
"x=[exp(a*t(1:find(t==0))) exp(-a*t(find(t==0)+1:$))];\n",
"d=gca()\n",
"plot(t,x);\n",
"poly1=d.children.children;\n",
"poly1.thickness=3;\n",
"poly1.foreground=2;\n",
"xtitle('x(t)','t')\n",
"disp('1/2*exp(-a*|t|) is even part of 1/2*exp(-a*t)*u(t)');\n",
"disp('even(x(t)) <--> real(X(w))=a/(a^2+w^2)');\n",
"w=-10:0.01:10;\n",
"Xw=2*a*ones(1,length(w))./(a^2+w^2);\n",
"figure\n",
"d=gca()\n",
"plot(w,Xw);\n",
"poly1=d.children.children;\n",
"poly1.thickness=3;\n",
"poly1.foreground=2;\n",
"xtitle('X(w)','w')\n",
"//not sure if it works properly"
   ]
   }
,
{
		   "cell_type": "markdown",
		   "metadata": {},
		   "source": [
			"## Example 5.43: fourier_transform_of_a_guassian_pulse.sce"
		   ]
		  },
  {
"cell_type": "code",
	   "execution_count": null,
	   "metadata": {
	    "collapsed": true
	   },
	   "outputs": [],
"source": [
"clear;\n",
"clc;\n",
"close;\n",
"a=.5;\n",
"t=-10:0.1:10;\n",
"x=exp(-a*t.*t);\n",
"disp('guassian pulse signal x(t)=exp(-a*t^2)');\n",
"disp('X(w)=integral(exp(-a*t^2)*exp(-%i*w*t)) w.r.t  dt');\n",
"disp('d(X(w))/dw=-%i*w/(2*a)*integral(exp(-a*t^2)*exp(-%i*w*t))');\n",
"disp('d(X(w))/dw=-w*X(w)/2a');\n",
"disp('solving this we get X(w)=A*exp(-w^2/4a)')\n",
"disp('A=sqrt(%pi/a)');\n",
"d=gca()\n",
"plot(t,x);\n",
"poly1=d.children.children;\n",
"poly1.thickness=3;\n",
"poly1.foreground=2;\n",
"xtitle('x(t)','t')\n",
"A=sqrt(%pi/a);\n",
"w=t;\n",
"Xw=A*exp(-w.*w/(4*a));\n",
"figure\n",
"d=gca()\n",
"plot(w,Xw);\n",
"poly1=d.children.children;\n",
"poly1.thickness=3;\n",
"poly1.foreground=2;\n",
"xtitle('X(w)','w')"
   ]
   }
,
{
		   "cell_type": "markdown",
		   "metadata": {},
		   "source": [
			"## Example 5.44: impulse_response_using_fourier_transform.sce"
		   ]
		  },
  {
"cell_type": "code",
	   "execution_count": null,
	   "metadata": {
	    "collapsed": true
	   },
	   "outputs": [],
"source": [
"clear;\n",
"clc;\n",
"close;\n",
"disp('system given is dy(t)/dt+2y(t)=x(t)+dx(t)/dt');\n",
"disp('taking fourier transform on both sides we get');\n",
"disp('H(w)=Y(w)/X(w)=1-(1/(2+%j*w))');\n",
"w=-10:0.1:10;\n",
"dw=.1;\n",
"Hw=1-ones(1,length(w))./(2+%i*w);\n",
"t=0:0.1:10;\n",
"d=gca()\n",
"plot(w,Hw);\n",
"poly1=d.children.children;\n",
"poly1.thickness=3;\n",
"poly1.foreground=2;\n",
"xtitle('X(w)','w')\n",
"for i=1:length(t)\n",
"    if t(i)==0 then\n",
"        delta(i)=1;\n",
"    else\n",
"        delta(i)=0;\n",
"    end\n",
"end\n",
"h=delta'-exp(-2*t);\n",
"figure;\n",
"d=gca()\n",
"plot(t,(h));\n",
"poly1=d.children.children;\n",
"poly1.thickness=3;\n",
"poly1.foreground=2;\n",
"xtitle('h(t)','t')"
   ]
   }
,
{
		   "cell_type": "markdown",
		   "metadata": {},
		   "source": [
			"## Example 5.45_a: output_response_using_fourier_transform.sce"
		   ]
		  },
  {
"cell_type": "code",
	   "execution_count": null,
	   "metadata": {
	    "collapsed": true
	   },
	   "outputs": [],
"source": [
"clear;\n",
"clc;\n",
"close;\n",
"disp('dy(t)/dt+2y(t)=x(t)');\n",
"w=0:0.1:10;\n",
"t=w;\n",
"dw=.1;\n",
"Xw=ones(1,length(w))./(1+%i*w);\n",
"Hw=ones(1,length(w))./(2+%i*w);\n",
"Yw=Xw.*Hw;\n",
"y=Yw*exp(%i*t'*w)*dw*.31;\n",
"d=gca()\n",
"plot(t,y);\n",
"poly1=d.children.children;\n",
"poly1.thickness=3;\n",
"poly1.foreground=2;\n",
"xtitle('y(t)','t')\n",
"yy=exp(-t)-exp(-2*t);\n",
"disp('y(t)=exp(-t)-exp(-2*t)')\n",
"figure\n",
"d=gca()\n",
"plot(t,yy);\n",
"poly1=d.children.children;\n",
"poly1.thickness=3;\n",
"poly1.foreground=2;\n",
"xtitle('y(t)','t')"
   ]
   }
,
{
		   "cell_type": "markdown",
		   "metadata": {},
		   "source": [
			"## Example 5.45_b: output_response_using_fourier_transform.sce"
		   ]
		  },
  {
"cell_type": "code",
	   "execution_count": null,
	   "metadata": {
	    "collapsed": true
	   },
	   "outputs": [],
"source": [
"clear;\n",
"clc;\n",
"close;\n",
"disp('dy(t)/dt+2y(t)=x(t)');\n",
"w=0.1:0.1:10;\n",
"t=w;\n",
"dw=.1;\n",
"Xw=ones(1,length(w))./(%i*w);\n",
"Hw=ones(1,length(w))./(2+%i*w);\n",
"Yw=Xw.*Hw;\n",
"y=Yw*exp(%i*t'*w)*dw;\n",
"d=gca()\n",
"plot(t,y);\n",
"poly1=d.children.children;\n",
"poly1.thickness=3;\n",
"poly1.foreground=2;\n",
"xtitle('y(t)','t')\n",
"yy=0.5*(1-exp(-2*t));\n",
"disp('y(t)=0.5(1-exp(-2*t))')\n",
"figure\n",
"d=gca()\n",
"plot(t,yy);\n",
"poly1=d.children.children;\n",
"poly1.thickness=3;\n",
"poly1.foreground=2;\n",
"xtitle('y(t)','t')"
   ]
   }
,
{
		   "cell_type": "markdown",
		   "metadata": {},
		   "source": [
			"## Example 5.46: harmonics_in_the_output_response.sce"
		   ]
		  },
  {
"cell_type": "code",
	   "execution_count": null,
	   "metadata": {
	    "collapsed": true
	   },
	   "outputs": [],
"source": [
"clear;\n",
"clc;\n",
"close;\n",
"T0=1;\n",
"t=-5.99:0.01:6;\n",
"t_temp=0.01:0.01:T0;\n",
"s=length(t)/length(t_temp);\n",
"x=[];\n",
"for i=1:s\n",
"    if modulo(i,2)==1  then\n",
"        x=[x zeros(1,length(t_temp))];\n",
"    else\n",
"        x=[x 10*ones(1,length(t_temp))];\n",
"    end\n",
"end\n",
"d=gca()\n",
"plot(t,x,'r')\n",
"poly1=d.children.children;\n",
"poly1.thickness=3;\n",
"poly1.foreground=2;\n",
"xtitle('x(t)','t')\n",
"disp('y(t)=sum(H(kw0)*exp(%j*k*w0*t))');\n",
"//fourier series of x(t)\n",
"w0=%pi;\n",
"for k=-10:10\n",
"    cc(k+11,:)=exp(-%i*k*w0*t);\n",
"    ck(k+11)=x*cc(k+11,:)'/length(t);\n",
"    if abs(ck(k+11))<0.01 then\n",
"    ck(k+11)=0;\n",
"    else if real(ck(k+11))<0.1  then\n",
"    ck(k+11)=%i*imag(ck(k+11));\n",
"    end\n",
"    end\n",
"    if k==1 then\n",
"        c1=ck(k+11);\n",
"    end\n",
"    if k==3 then\n",
"        c3=ck(k+11);\n",
"    end\n",
"end \n",
"yc1=2*abs(c1/(2+%i*w0));\n",
"yc3=2*abs(c3/(2+%i*w0*3));\n",
"disp(yc1,'first harmonic is');\n",
"disp(yc3,'third harmonic is');"
   ]
   }
,
{
		   "cell_type": "markdown",
		   "metadata": {},
		   "source": [
			"## Example 5.47_a: bode_plot.sce"
		   ]
		  },
  {
"cell_type": "code",
	   "execution_count": null,
	   "metadata": {
	    "collapsed": true
	   },
	   "outputs": [],
"source": [
"clear;\n",
"clc;\n",
"fmin=0.1; \n",
"fmax=100; \n",
"f=fmin:0.1:fmax;\n",
"Hdb=20*log(abs(1+%i*f/10)); \n",
"figure\n",
"a=gca();\n",
"a.data_bounds=[fmin,-20;fmax,40];\n",
"a.log_flags='lnn';\n",
"subplot(2,1,1)\n",
"plot(f,Hdb);\n",
"xtitle('|H(w)|db','w')\n",
"subplot(2,1,2)\n",
"plot(f,atan(f/10));\n",
"xtitle('theta(H(w))','w')\n",
"a=gca();\n",
"a.data_bounds=[fmin,0;fmax,%pi/2];\n",
"a.log_flags='lnn';"
   ]
   }
,
{
		   "cell_type": "markdown",
		   "metadata": {},
		   "source": [
			"## Example 5.47_b: bode_plot.sce"
		   ]
		  },
  {
"cell_type": "code",
	   "execution_count": null,
	   "metadata": {
	    "collapsed": true
	   },
	   "outputs": [],
"source": [
"clear;\n",
"clc;\n",
"s=poly(0,'s'); \n",
"H=syslin('c',[100/(100+s)]) ;\n",
"fmin=0.1; \n",
"fmax=100; \n",
"scf(1);clf;\n",
"bode(H,fmin,fmax); \n",
"show_margins(H) ;"
   ]
   }
,
{
		   "cell_type": "markdown",
		   "metadata": {},
		   "source": [
			"## Example 5.47_c: bode_plot.sce"
		   ]
		  },
  {
"cell_type": "code",
	   "execution_count": null,
	   "metadata": {
	    "collapsed": true
	   },
	   "outputs": [],
"source": [
"clear;\n",
"clc;\n",
"s=poly(0,'s'); \n",
"H=syslin('c',[(10^4+s*10^4)/((100+s)*(10+s))]) ;\n",
"a=pfss(H);\n",
"fmin=0.1; \n",
"fmax=1000; \n",
"scf(1);clf;\n",
"bode(a(1),fmin,fmax); \n",
"show_margins(H) ;"
   ]
   }
,
{
		   "cell_type": "markdown",
		   "metadata": {},
		   "source": [
			"## Example 5.48: impulse_response_of_a_phase_shifter.sce"
		   ]
		  },
  {
"cell_type": "code",
	   "execution_count": null,
	   "metadata": {
	    "collapsed": true
	   },
	   "outputs": [],
"source": [
"clear;\n",
"clc;\n",
"close;\n",
"w=-10:0.1:10;\n",
"Hw=[exp(%i*%pi/2)*ones(1,find(w==0)) exp(-%i*%pi/2)*ones(1,find(w==0)-1)];\n",
"d=gca();\n",
"plot(w,imag(Hw));\n",
"poly1=d.children.children;\n",
"poly1.thickness=3;\n",
"poly1.foreground=2;\n",
"xtitle('H(w)','w')\n",
"disp('H(w)=-%i*sgn(w)');\n",
"disp('we know sgn(t) <--> 2/(j*w)')\n",
"disp('by duality property 2/(j*t) <-->2*%pi*sgn(-w)=-2*%pi*sgn(w) ')\n",
"disp('therefore 1/(%pi*t) <--> -j*sgn(w)');\n",
"t=0.1:0.1:10;\n",
"h=ones(1,length(t))./(%pi*t);\n",
"figure\n",
"d=gca()\n",
"plot(t,h);\n",
"poly1=d.children.children;\n",
"poly1.thickness=3;\n",
"poly1.foreground=2;\n",
"xtitle('h(t)','t')\n",
"w0=2;\n",
"x=cos(w0*t);\n",
"figure\n",
"d=gca();\n",
"plot(t,x);\n",
"poly1=d.children.children;\n",
"poly1.thickness=3;\n",
"poly1.foreground=2;\n",
"xtitle('x(t)','t')\n",
"y=convol(x,h);\n",
"figure\n",
"d=gca()\n",
"plot(t,y(1:length(t)));\n",
"poly1=d.children.children;\n",
"poly1.thickness=3;\n",
"poly1.foreground=2;\n",
"xtitle('y(t)','t')"
   ]
   }
,
{
		   "cell_type": "markdown",
		   "metadata": {},
		   "source": [
			"## Example 5.4_a: fourier_series_representation.sce"
		   ]
		  },
  {
"cell_type": "code",
	   "execution_count": null,
	   "metadata": {
	    "collapsed": true
	   },
	   "outputs": [],
"source": [
"clear;\n",
"close;\n",
"clc;\n",
"T=1;\n",
"t=0:0.01:1;\n",
"w0=2*%pi*T;\n",
"x=cos(w0*t);\n",
"for k=-5:5\n",
"    cc(k+6,:)=exp(-%i*k*w0*t);\n",
"    ck(k+6)=x*cc(k+6,:)'/length(t);\n",
"    if abs(ck(k+6))<0.01 then\n",
"    ck(k+6)=0;\n",
"    end\n",
"end"
   ]
   }
,
{
		   "cell_type": "markdown",
		   "metadata": {},
		   "source": [
			"## Example 5.4_b: fourier_series_representation.sce"
		   ]
		  },
  {
"cell_type": "code",
	   "execution_count": null,
	   "metadata": {
	    "collapsed": true
	   },
	   "outputs": [],
"source": [
"clear;\n",
"close;\n",
"clc;\n",
"T=1;\n",
"t=0:0.01:1;\n",
"w0=2*%pi*T;\n",
"x=sin(w0*t);\n",
"for k=-5:5\n",
"    cc(k+6,:)=exp(-%i*k*w0*t);\n",
"    ck(k+6)=x*cc(k+6,:)'/length(t);\n",
"    if abs(ck(k+6))<0.01 then\n",
"    ck(k+6)=0;\n",
"    end\n",
"end"
   ]
   }
,
{
		   "cell_type": "markdown",
		   "metadata": {},
		   "source": [
			"## Example 5.4_c: fourier_series_representation.sce"
		   ]
		  },
  {
"cell_type": "code",
	   "execution_count": null,
	   "metadata": {
	    "collapsed": true
	   },
	   "outputs": [],
"source": [
"clear ;\n",
"clear cc;\n",
"close;\n",
"clc;\n",
"t=0:0.01:20;\n",
"x=cos(2*t+%pi/4);\n",
"w0=2*%pi*1;\n",
"for k=-5:5\n",
"    cc(k+6,:)=exp(-%i*k*2*t);\n",
"    ck(k+6)=x*cc(k+6,:)'/length(t);\n",
"    if abs(ck(k+6))<0.1 then\n",
"    ck(k+6)=0;\n",
"    end\n",
"end "
   ]
   }
,
{
		   "cell_type": "markdown",
		   "metadata": {},
		   "source": [
			"## Example 5.4_d: fourier_series_representation.sce"
		   ]
		  },
  {
"cell_type": "code",
	   "execution_count": null,
	   "metadata": {
	    "collapsed": true
	   },
	   "outputs": [],
"source": [
"clear ;\n",
"close;\n",
"clc;\n",
"t=0:0.01:50;\n",
"x1=cos(4*t);\n",
"x2=sin(6*t);\n",
"w1=4;\n",
"w2=6;\n",
"w=int32([w1,w2]);\n",
"w0=gcd(w);\n",
"x=x1+x2;\n",
"for k=-5:5\n",
"    cc(k+6,:)=exp(-%i*k.*t*2);\n",
"    ck(k+6)=x*cc(k+6,:)'/length(t);\n",
"    if abs(ck(k+6))<0.1 then\n",
"    ck(k+6)=0;\n",
"    end\n",
"end "
   ]
   }
,
{
		   "cell_type": "markdown",
		   "metadata": {},
		   "source": [
			"## Example 5.4_e: fourier_series_representation.sce"
		   ]
		  },
  {
"cell_type": "code",
	   "execution_count": null,
	   "metadata": {
	    "collapsed": true
	   },
	   "outputs": [],
"source": [
"clear ;\n",
"close;\n",
"clc;\n",
"t=0:0.01:50;\n",
"x=(sin(t))^2;\n",
"for k=-5:5\n",
"    cc(k+6,:)=exp(-%i*k*2*t);\n",
"    ck(k+6)=x*cc(k+6,:)'/length(t);\n",
"    if abs(ck(k+6))<0.1 then\n",
"    ck(k+6)=0;\n",
"    end\n",
"end "
   ]
   }
,
{
		   "cell_type": "markdown",
		   "metadata": {},
		   "source": [
			"## Example 5.52: output_of_a_ideal_LPF.sce"
		   ]
		  },
  {
"cell_type": "code",
	   "execution_count": null,
	   "metadata": {
	    "collapsed": true
	   },
	   "outputs": [],
"source": [
"clear;\n",
"clc;\n",
"close;\n",
"w=-10:0.1:10;\n",
"wc=2;\n",
"for i=1:length(w)\n",
"    if w(i)>-wc & w(i)<wc then\n",
"        Hw(i)=1;\n",
"    else\n",
"        Hw(i)=0;\n",
"    end\n",
"end\n",
"d=gca()\n",
"plot(w,Hw);\n",
"poly1=d.children.children;\n",
"poly1.thickness=3;\n",
"poly1.foreground=2;\n",
"xtitle('H(w)','w')\n",
"disp('x(t)=sin(a*t)/(%pi*t)');\n",
"disp('X(w)= 1 for |w|<a ');\n",
"disp('      0 elsewhere');\n",
"a=1;\n",
"for i=1:length(w)\n",
"    if w(i)>-a & w(i)<a then\n",
"        Xw(i)=1;\n",
"    else\n",
"        Xw(i)=0;\n",
"    end\n",
"end\n",
"Yw=Xw.*Hw;\n",
"figure\n",
"d=gca()\n",
"plot(w,Yw);\n",
"poly1=d.children.children;\n",
"poly1.thickness=3;\n",
"poly1.foreground=2;\n",
"xtitle('Y(w)','w')\n",
"disp('therefore y(t)=x(t) for a<wc');\n",
"disp('and y(t)=h(t) for a>wc');\n",
"disp('thus the output suffers distortion when a>wc');"
   ]
   }
,
{
		   "cell_type": "markdown",
		   "metadata": {},
		   "source": [
			"## Example 5.53: output_of_a_ideal_LPF.sce"
		   ]
		  },
  {
"cell_type": "code",
	   "execution_count": null,
	   "metadata": {
	    "collapsed": true
	   },
	   "outputs": [],
"source": [
"clear;\n",
"clc;\n",
"close;\n",
"w=-20:0.1:20;\n",
"wc=4*%pi;\n",
"for i=1:length(w)\n",
"    if w(i)>-wc & w(i)<wc then\n",
"        Hw(i)=1;\n",
"    else\n",
"        Hw(i)=0;\n",
"    end\n",
"end\n",
"a=gca();\n",
"plot(w,Hw);\n",
"poly1=a.children.children;\n",
"poly1.thickness=3;\n",
"poly1.foreground=2;\n",
"xtitle('H(w)','w')\n",
"T0=1;\n",
"t=-5.99:0.01:6;\n",
"t_temp=0.01:0.01:T0;\n",
"s=length(t)/length(t_temp);\n",
"x=[];\n",
"for i=1:s\n",
"    if modulo(i,2)==1  then\n",
"        x=[x zeros(1,length(t_temp))];\n",
"    else\n",
"        x=[x 10*ones(1,length(t_temp))];\n",
"    end\n",
"end\n",
"figure\n",
"a=gca();\n",
"plot(t,x,'r');\n",
"poly1=a.children.children;\n",
"poly1.thickness=3;\n",
"poly1.foreground=2;\n",
"xtitle('x(t)','t')\n",
"//fourier series of x(t)\n",
"w0=%pi;\n",
"for k=-10:10\n",
"    cc(k+11,:)=exp(-%i*k*w0*t);\n",
"    ck(k+11)=x*cc(k+11,:)'/length(t);\n",
"    if abs(ck(k+11))<0.01 then\n",
"    ck(k+11)=0;\n",
"    else if real(ck(k+11))<0.1  then\n",
"    ck(k+11)=%i*imag(ck(k+11));\n",
"    end\n",
"    end\n",
"    if k==1 then\n",
"        c1=ck(k+11);\n",
"    end\n",
"    if k==3 then\n",
"        c3=ck(k+11);\n",
"    end\n",
"end \n",
"yc1=2*abs(c1/(2+%i*w0));\n",
"yc3=2*abs(c3/(2+%i*w0*3));\n",
"disp('since frequencies above 4*%pi are cut off only first and third harmonics exists in the output');\n",
"y=5+yc1*sin(%pi*t)+yc3*sin(3*%pi*t);\n",
"figure\n",
"a=gca();\n",
"plot(t,y);\n",
"poly1=a.children.children;\n",
"poly1.thickness=3;\n",
"poly1.foreground=2;\n",
"xtitle('y(t)','t')\n",
"disp('y=5+(20/%pi)*sin(%pi*t)+20/(%pi*3)*sin(3*%pi*t)');"
   ]
   }
,
{
		   "cell_type": "markdown",
		   "metadata": {},
		   "source": [
			"## Example 5.54: ideal_low_pass_filter.sce"
		   ]
		  },
  {
"cell_type": "code",
	   "execution_count": null,
	   "metadata": {
	    "collapsed": true
	   },
	   "outputs": [],
"source": [
"syms t w0 W\n",
"w=-10:0.1:10;\n",
"wc=2;\n",
"for i=1:length(w)\n",
"    if w(i)>-wc & w(i)<wc then\n",
"        Hw(i)=1;\n",
"    else\n",
"        Hw(i)=0;\n",
"    end\n",
"end\n",
"a=gca();\n",
"plot(w,Hw);\n",
"poly1=a.children.children;\n",
"poly1.thickness=3;\n",
"poly1.foreground=2;\n",
"xtitle('x(t)','t')\n",
"disp('we know y(t)=x(t) for w<wc');\n",
"Xw=ones(1,length(w))./(2+%i*w);\n",
"ex=integ(exp(-4*t),t,0,%inf);\n",
"disp('energy in x(t) is 1/4');\n",
"ey=(1/(2*%pi))*integ(1/(4+W^2),W,-wc,wc);\n",
"ratio=ey/ex;\n",
"disp('the ratio is two therefore wc=2 rad/s ');"
   ]
   }
,
{
		   "cell_type": "markdown",
		   "metadata": {},
		   "source": [
			"## Example 5.55: equivalent_bandwidth.sce"
		   ]
		  },
  {
"cell_type": "code",
	   "execution_count": null,
	   "metadata": {
	    "collapsed": true
	   },
	   "outputs": [],
"source": [
"clear;\n",
"clc;\n",
"close;\n",
"w=-10:0.1:10;\n",
"w0=3;//w0=1/(rc)\n",
"for i=1:length(w)\n",
"    Hw(i)=1/(1+%i*(w(i)/w0));\n",
"    if abs(Hw(i))==1 then\n",
"        wmax=w(i);\n",
"        Hmax=Hw(i)\n",
"    end\n",
"    if abs(Hw(i))==abs(1/(1+%i)) then\n",
"        w3db=w(i);\n",
"    end\n",
"end\n",
"disp('rad/s',w3db,'the 3-db bandwidth is w=');\n",
"weq=(1/Hmax^2)*(%pi)/(2*w0);//integral(|H(w)|^2)=%pi*rc/2;\n",
"disp('rad/s',weq,'the equiva;ent bandwidth is weq=');\n",
"a=gca();\n",
"plot(w,abs(Hw)^2);\n",
"poly1=a.children.children;\n",
"poly1.thickness=3;\n",
"poly1.foreground=2;\n",
"xtitle('|H(w)|','w')"
   ]
   }
,
{
		   "cell_type": "markdown",
		   "metadata": {},
		   "source": [
			"## Example 5.58: fourier_spectrum.sce"
		   ]
		  },
  {
"cell_type": "code",
	   "execution_count": null,
	   "metadata": {
	    "collapsed": true
	   },
	   "outputs": [],
"source": [
"w1 = -1:0.1:1;\n",
"w2 = -10:0.1:10;\n",
"X1 = ones(1,length(w1));\n",
"X2 = zeros(1,length(w2));\n",
"X = [X2(1:find(w2==-1)-2),0.5,X1,0.5,X2(find(w2==1)+2:$)];\n",
"a=gca();\n",
"subplot(2,1,1)\n",
"plot(w2,X);\n",
"poly1=a.children.children;\n",
"poly1.thickness=3;\n",
"poly1.foreground=2;\n",
"xtitle('X(w)','w')\n",
"tmax=10;\n",
"dw=0.1;\n",
"t=-tmax:0.1:tmax;\n",
"x=X*exp(%i*(t'*w2))*dw;\n",
"subplot(2,1,2)\n",
"a=gca();\n",
"plot(t,x);\n",
"poly1=a.children.children;\n",
"poly1.thickness=3;\n",
"poly1.foreground=2;\n",
"xtitle('x(t)','t')\n",
"wM=1.5;\n",
"//Ts<%pi/wM\n",
"Ts=1;\n",
"for i=1:length(t)\n",
"    if modulo(t(i),Ts)==0 then\n",
"        deltaT(i)=1;\n",
"    else\n",
"        deltaT(i)=0;\n",
"    end\n",
"end\n",
"figure\n",
"subplot(2,1,1)\n",
"a=gca();\n",
"plot2d3(t,deltaT);\n",
"poly1=a.children.children;\n",
"poly1.thickness=3;\n",
"poly1.foreground=2;\n",
"xtitle('detlaT(t) Ts<%pi/wM','t')\n",
"ws=floor(2*%pi/Ts);\n",
"for i=1:length(w2)\n",
"    if modulo(w2(i),ws)==0 then\n",
"        deltaW(i)=1;\n",
"    else\n",
"        deltaW(i)=0;\n",
"    end\n",
"end\n",
"subplot(2,1,2)\n",
"a=gca();\n",
"plot2d3(w2,deltaW);\n",
"poly1=a.children.children;\n",
"poly1.thickness=3;\n",
"poly1.foreground=2;\n",
"xtitle('deltaW(w)','w')\n",
"xs=x.*deltaT';\n",
"figure\n",
"subplot(2,1,1)\n",
"a=gca();\n",
"plot2d3(t,xs)\n",
"poly1=a.children.children;\n",
"poly1.thickness=3;\n",
"poly1.foreground=2;\n",
"xtitle('xs(t)','t')\n",
"Xsw=convol(X,deltaW');\n",
"subplot(2,1,2)\n",
"a=gca();\n",
"plot2d(w2,Xsw(101:301));\n",
"poly1=a.children.children;\n",
"poly1.thickness=3;\n",
"poly1.foreground=2;\n",
"//Ts>%Pi/wM\n",
"Ts=3.5;\n",
"for i=1:length(t)\n",
"    if modulo(t(i),Ts)==0 then\n",
"        deltaT(i)=1;\n",
"    else\n",
"        deltaT(i)=0;\n",
"    end\n",
"end\n",
"figure\n",
"subplot(2,1,1)\n",
"a=gca();\n",
"plot2d3(t,deltaT);\n",
"poly1=a.children.children;\n",
"poly1.thickness=3;\n",
"poly1.foreground=2;\n",
"xtitle('deltaT(t) Ts<%pi/wM','t')\n",
"ws=floor(2*%pi/Ts);\n",
"for i=1:length(w2)\n",
"    if modulo(w2(i),ws)==0 then\n",
"        deltaW(i)=1;\n",
"    else\n",
"        deltaW(i)=0;\n",
"    end\n",
"end\n",
"subplot(2,1,2)\n",
"a=gca();\n",
"plot2d3(w2,deltaW);\n",
"poly1=a.children.children;\n",
"poly1.thickness=3;\n",
"poly1.foreground=2;\n",
"xtitle('deltaW(w)','w')\n",
"xs=x.*deltaT';\n",
"figure\n",
"subplot(2,1,1)\n",
"a=gca();\n",
"plot2d3(t,xs)\n",
"poly1=a.children.children;\n",
"poly1.thickness=3;\n",
"poly1.foreground=2;\n",
"xtitle('xs(t)','t')\n",
"subplot(2,1,2)\n",
"d=gca();\n",
"for i=1:length(w2)\n",
"    if modulo(w2(i),ws)==0 then\n",
"        plot(w2+w2(i),X)\n",
"    end\n",
"end\n",
"poly1=d.children.children;\n",
"poly1.thickness=1;\n",
"d.data_bounds=[-5 0;5 2];\n",
"\n",
"poly1.foreground=2;\n",
"xtitle('Xs(w)','w')"
   ]
   }
,
{
		   "cell_type": "markdown",
		   "metadata": {},
		   "source": [
			"## Example 5.5: fourier_series_of_a_periodic_square_wave.sce"
		   ]
		  },
  {
"cell_type": "code",
	   "execution_count": null,
	   "metadata": {
	    "collapsed": true
	   },
	   "outputs": [],
"source": [
"clear;\n",
"close;\n",
"clc;\n",
"T0=2\n",
"t=-5.99:0.01:6;\n",
"t_temp=0.01:0.01:T0;\n",
"s=length(t)/length(t_temp);\n",
"x=[];\n",
"for i=1:s\n",
"    if modulo(i,2)==1  then\n",
"        x=[x zeros(1,length(t_temp))];\n",
"    else\n",
"        x=[x ones(1,length(t_temp))];\n",
"    end\n",
"end\n",
"a=gca();\n",
"plot(t,x,'r')\n",
"poly1=a.children.children;\n",
"poly1.thickness=3;\n",
"poly1.foreground=2;\n",
"xtitle('x(t)','t')\n",
"w0=%pi/2;\n",
"for k=-10:10\n",
"    cc(k+11,:)=exp(-%i*k*w0*t);\n",
"    ck(k+11)=x*cc(k+11,:)'/length(t);\n",
"    if abs(ck(k+11))<0.01 then\n",
"    ck(k+11)=0;\n",
"    else if real(ck(k+11))<0.1  then\n",
"    ck(k+11)=%i*imag(ck(k+11));\n",
"    end\n",
"    end\n",
"    if k==0 then\n",
"        c0=ck(k+11);\n",
"    end\n",
"end \n",
"//trigmometeric form\n",
"a0=2*c0;\n",
"a=2*real(ck);\n",
"b=2*imag(ck);"
   ]
   }
,
{
		   "cell_type": "markdown",
		   "metadata": {},
		   "source": [
			"## Example 5.6: fourier_series_of_a_periodic_square_wave.sce"
		   ]
		  },
  {
"cell_type": "code",
	   "execution_count": null,
	   "metadata": {
	    "collapsed": true
	   },
	   "outputs": [],
"source": [
"clear ;\n",
"close;\n",
"clc;\n",
"T0=4;\n",
"t=-20.99:0.01:21;\n",
"t_temp=0.01:0.01:T0/2;\n",
"s=length(t)/length(t_temp);\n",
"x=[];\n",
"for i=1:s\n",
"    if modulo(i,2)==0  then\n",
"        x=[x zeros(1,length(t_temp))];\n",
"    else\n",
"        x=[x ones(1,length(t_temp))];\n",
"    end\n",
"end\n",
"a=gca();\n",
"plot(t,x,'r')\n",
"poly1=a.children.children;\n",
"poly1.thickness=3;\n",
"poly1.foreground=2;\n",
"xtitle('x(t)','t')\n",
"w0=%pi/2;\n",
"for k=-10:10\n",
"    cc(k+11,:)=exp(-%i*k*w0*t);\n",
"    ck(k+11)=x*cc(k+11,:)'/length(t);\n",
"    if abs(ck(k+11))<0.01 then\n",
"    ck(k+11)=0;\n",
"    else if imag(ck(k+11))<0.01  then\n",
"    ck(k+11)=real(ck(k+11));\n",
"    end\n",
"    end\n",
"    if k==0 then\n",
"        c0=ck(k+11);\n",
"    end\n",
"end \n",
"//trigmometeric form\n",
"a0=2*c0;\n",
"a=2*real(ck);\n",
"b=2*imag(ck);"
   ]
   }
,
{
		   "cell_type": "markdown",
		   "metadata": {},
		   "source": [
			"## Example 5.7: fourier_series_of_a_periodic_square_wave.sce"
		   ]
		  },
  {
"cell_type": "code",
	   "execution_count": null,
	   "metadata": {
	    "collapsed": true
	   },
	   "outputs": [],
"source": [
"clear;\n",
"close;\n",
"clc;\n",
"T0=4;\n",
"t=-5.99:0.01:6;\n",
"t_temp=0.01:0.01:T0/2;\n",
"s=length(t)/length(t_temp);\n",
"x=[];\n",
"for i=1:s\n",
"    if modulo(i,2)==1  then\n",
"        x=[x -ones(1,length(t_temp))];\n",
"    else\n",
"        x=[x ones(1,length(t_temp))];\n",
"    end\n",
"end\n",
"plot(t,x,'r')\n",
"w0=%pi/2;\n",
"for k=-10:10\n",
"    cc(k+11,:)=exp(-%i*k*w0*t);\n",
"    ck(k+11)=x*cc(k+11,:)'/length(t);\n",
"    if abs(ck(k+11))<0.01 then\n",
"    ck(k+11)=0;\n",
"    else if real(ck(k+11))<0.1  then\n",
"    ck(k+11)=%i*imag(ck(k+11));\n",
"    end\n",
"    end\n",
"    if k==0 then\n",
"        c0=ck(k+11);\n",
"    end\n",
"end \n",
"//trigmometeric form\n",
"a0=2*c0;\n",
"a=2*real(ck);\n",
"b=2*imag(ck);"
   ]
   }
,
{
		   "cell_type": "markdown",
		   "metadata": {},
		   "source": [
			"## Example 5.8: fourier_series_of_a_periodic_impulse_trai.sce"
		   ]
		  },
  {
"cell_type": "code",
	   "execution_count": null,
	   "metadata": {
	    "collapsed": true
	   },
	   "outputs": [],
"source": [
"clear;\n",
"close;\n",
"clc;\n",
"T0=2;\n",
"t=-6:0.01:6;\n",
"x=[];\n",
"for i=1:length(t)\n",
"    if modulo(t(i),T0)==0  then\n",
"        x(i)=1;\n",
"    else\n",
"        x(i)=0;\n",
"    end\n",
"end\n",
"plot(t,x,'r')\n",
"//by sifting property\n",
"ck=1/T0; \n",
"//trigmometeric form\n",
"a0=2*ck;\n",
"a=2*real(ck);\n",
"b=2*imag(ck);"
   ]
   }
,
{
		   "cell_type": "markdown",
		   "metadata": {},
		   "source": [
			"## Example 5.9: differentiation_property_of_fourier_series.sce"
		   ]
		  },
  {
"cell_type": "code",
	   "execution_count": null,
	   "metadata": {
	    "collapsed": true
	   },
	   "outputs": [],
"source": [
"clear;\n",
"close;\n",
"clc;\n",
"T0=4;\n",
"t=-5.99:0.01:6;\n",
"t_temp=0.01:0.01:T0/2;\n",
"s=length(t)/length(t_temp);\n",
"dx=[];\n",
"x=[];\n",
"for i=1:s\n",
"    if modulo(i,2)==1  then\n",
"        dx=[dx -ones(1,length(t_temp))];\n",
"        x=[x .5*t_temp($:-1:1)];\n",
"    else\n",
"        dx=[dx ones(1,length(t_temp))];\n",
"        x=[x .5*t_temp]; \n",
"    end\n",
"end\n",
"figure\n",
"a=gca();\n",
"plot2d(t,x,8)\n",
"poly1=a.children.children;\n",
"poly1.thickness=3;\n",
"poly1.foreground=2;\n",
"xtitle('x(t)','t')\n",
"figure\n",
"a=gca();\n",
"plot(t,dx,'r')\n",
"poly1=a.children.children;\n",
"poly1.thickness=3;\n",
"poly1.foreground=2;\n",
"xtitle('x(t)','t')\n",
"w0=%pi/2;\n",
"for k=-10:10\n",
"    cc(k+11,:)=exp(-%i*k*w0*t);\n",
"    cdk(k+11)=dx*cc(k+11,:)'/length(t);\n",
"    if abs(cdk(k+11))<0.01 then\n",
"    cdk(k+11)=0;\n",
"    else if real(cdk(k+11))<0.1  then\n",
"    cdk(k+11)=-%i*imag(cdk(k+11));\n",
"    end\n",
"    end\n",
"    if k==0 then\n",
"        ck(k+11)=.5;\n",
"        c0=ck(k+11);\n",
"    else\n",
"       ck(k+11)=cdk(k+11)/(%i*k*w0); \n",
"    end\n",
"end \n",
"//trigmometeric form\n",
"a0=2*c0;\n",
"a=2*real(ck);\n",
"b=2*imag(ck);"
   ]
   }
],
"metadata": {
		  "kernelspec": {
		   "display_name": "Scilab",
		   "language": "scilab",
		   "name": "scilab"
		  },
		  "language_info": {
		   "file_extension": ".sce",
		   "help_links": [
			{
			 "text": "MetaKernel Magics",
			 "url": "https://github.com/calysto/metakernel/blob/master/metakernel/magics/README.md"
			}
		   ],
		   "mimetype": "text/x-octave",
		   "name": "scilab",
		   "version": "0.7.1"
		  }
		 },
		 "nbformat": 4,
		 "nbformat_minor": 0
}
