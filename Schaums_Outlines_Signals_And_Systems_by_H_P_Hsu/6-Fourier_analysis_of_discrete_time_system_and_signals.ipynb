{
"cells": [
 {
		   "cell_type": "markdown",
	   "metadata": {},
	   "source": [
       "# Chapter 6: Fourier analysis of discrete time system and signals"
	   ]
	},
{
		   "cell_type": "markdown",
		   "metadata": {},
		   "source": [
			"## Example 6.11: fourier_transform.sce"
		   ]
		  },
  {
"cell_type": "code",
	   "execution_count": null,
	   "metadata": {
	    "collapsed": true
	   },
	   "outputs": [],
"source": [
"clear;\n",
"close;\n",
"clc;\n",
"n=-10:10;\n",
"a=2;\n",
"for i=1:length(n)\n",
"    if n(i)<=-1 then\n",
"        x(i)=-2^n(i);\n",
"    else\n",
"        x(i)=0;\n",
"    end\n",
"end\n",
"x=x';\n",
"figure\n",
"subplot(2,1,1)\n",
"plot2d3(n,x);\n",
"title('x[n]')\n",
"plot(n,x,'r.')\n",
"w=-10:0.1:10;\n",
"Xw=x*exp(-%i*n'*w);\n",
"subplot(2,1,2)\n",
"plot2d(w,Xw);\n",
"title('X[w] fourier transform')"
   ]
   }
,
{
		   "cell_type": "markdown",
		   "metadata": {},
		   "source": [
			"## Example 6.12: fourier_transform_of_a_rectangular_pulse.sce"
		   ]
		  },
  {
"cell_type": "code",
	   "execution_count": null,
	   "metadata": {
	    "collapsed": true
	   },
	   "outputs": [],
"source": [
"clear;\n",
"close;\n",
"clc;\n",
"n=-10:10;\n",
"N=5;\n",
"for i=1:length(n)\n",
"    if n(i)>=0 & n(i)<=N then\n",
"        x(i)=1;\n",
"    else\n",
"        x(i)=0;\n",
"    end\n",
"end\n",
"x=x';\n",
"figure\n",
"subplot(2,1,1)\n",
"plot2d3(n,x);\n",
"title('x[n]')\n",
"plot(n,x,'r.')\n",
"w=-10:0.1:10;\n",
"Xw=x*exp(-%i*n'*w);\n",
"subplot(2,1,2)\n",
"plot2d(w,Xw);\n",
"title('X[w] fourier transform')"
   ]
   }
,
{
		   "cell_type": "markdown",
		   "metadata": {},
		   "source": [
			"## Example 6.14: fourier_transform.sce"
		   ]
		  },
  {
"cell_type": "code",
	   "execution_count": null,
	   "metadata": {
	    "collapsed": true
	   },
	   "outputs": [],
"source": [
"clear;\n",
"close;\n",
"clc;\n",
"n=-10:10;\n",
"N=4;\n",
"for i=1:length(n)\n",
"    if n(i)>=-N & n(i)<=N then\n",
"        x(i)=1;\n",
"    else\n",
"        x(i)=0;\n",
"    end\n",
"end\n",
"x=x';\n",
"figure\n",
"subplot(2,1,1)\n",
"plot2d3(n,x);\n",
"title('x[n]')\n",
"plot(n,x,'r.')\n",
"w=-10:0.1:10;\n",
"Xw=x*exp(-%i*n'*w);\n",
"subplot(2,1,2)\n",
"plot2d(w,Xw);\n",
"title('X[w] fourier transform')\n",
"N=8;\n",
"for i=1:length(n)\n",
"    if n(i)>=-N & n(i)<=N then\n",
"        x(i)=1;\n",
"    else\n",
"        x(i)=0;\n",
"    end\n",
"end\n",
"x=x';\n",
"figure\n",
"subplot(2,1,1)\n",
"plot2d3(n,x);\n",
"title('x[n]')\n",
"plot(n,x,'r.')\n",
"w=-10:0.1:10;\n",
"Xw=x'*exp(-%i*n'*w);\n",
"subplot(2,1,2)\n",
"plot2d(w,Xw);\n",
"title('X[w] fourier transform')"
   ]
   }
,
{
		   "cell_type": "markdown",
		   "metadata": {},
		   "source": [
			"## Example 6.15: inverse_fourier_transform_of_a_rectangular_pulse.sce"
		   ]
		  },
  {
"cell_type": "code",
	   "execution_count": null,
	   "metadata": {
	    "collapsed": true
	   },
	   "outputs": [],
"source": [
"clear;\n",
"close;\n",
"clc;\n",
"W=%pi/4;\n",
"w=-10:0.1:10;\n",
"for i=1:length(w)\n",
"    if (w(i)>=-2*%pi-W & w(i)<=-2*%pi+W)  then\n",
"   X(i)=1;\n",
"elseif (w(i)>=-W & w(i)<=W)\n",
"    X(i)=1;\n",
"elseif (w(i)>=2*%pi-W & w(i)<=2*%pi+W)\n",
"    X(i)=1;\n",
"else\n",
"    X(i)=0;\n",
"    end\n",
"end\n",
"figure\n",
"subplot(2,1,1)\n",
"plot(w,X);\n",
"title('X[w]');\n",
"n=-15:15;\n",
"x=X'*exp(-%i*w'*n);\n",
"subplot(2,1,2)\n",
"plot2d3(n,x);\n",
"plot(n,x,'r.')\n",
"title('x[n] inverse fourier transform')"
   ]
   }
,
{
		   "cell_type": "markdown",
		   "metadata": {},
		   "source": [
			"## Example 6.17: inverse_fourier_transform_of_a_impulse_signal.sce"
		   ]
		  },
  {
"cell_type": "code",
	   "execution_count": null,
	   "metadata": {
	    "collapsed": true
	   },
	   "outputs": [],
"source": [
"clear;\n",
"close;\n",
"clc;\n",
"w=-5:0.01:5;\n",
"W0=2;\n",
"for i=1:length(w)\n",
"    if w(i)==W0 then\n",
"        delta(i)=2*%pi;\n",
"    else \n",
"        delta(i)=0;\n",
"    end\n",
"end\n",
"figure\n",
"subplot(2,1,1)\n",
"plot(w,delta);\n",
"title('2*%pi*delta(w-w0)')\n",
"//by shifting property\n",
"n=-10:10;\n",
"x=%e^-%i*W0*n;\n",
"subplot(2,1,2)\n",
"plot2d3(n,abs(x))\n",
"plot(n,abs(x),'r.')\n",
"title('x[n]')"
   ]
   }
,
{
		   "cell_type": "markdown",
		   "metadata": {},
		   "source": [
			"## Example 6.18: fourier_transform_of_constant_signal.sce"
		   ]
		  },
  {
"cell_type": "code",
	   "execution_count": null,
	   "metadata": {
	    "collapsed": true
	   },
	   "outputs": [],
"source": [
"clear;\n",
"close;\n",
"clc;\n",
"n=-10:10;\n",
"x=ones(1,length(n));\n",
"figure\n",
"subplot(2,1,1)\n",
"plot2d3(n,x)\n",
"plot(n,x,'r.')\n",
"xtitle('x[n]','n')\n",
"w=-5:0.01:5;\n",
"for i=1:length(w)\n",
"    if w(i)==0 then\n",
"        delta(i)=1;\n",
"    else \n",
"        delta(i)=0;\n",
"    end\n",
"end\n",
"Xw=2*%pi*delta';\n",
"subplot(2,1,2)\n",
"plot(w,Xw);\n",
"xtitle('X(w)','w')"
   ]
   }
,
{
		   "cell_type": "markdown",
		   "metadata": {},
		   "source": [
			"## Example 6.19: fourier_transform_of_a_sinusoidal_sequence.sce"
		   ]
		  },
  {
"cell_type": "code",
	   "execution_count": null,
	   "metadata": {
	    "collapsed": true
	   },
	   "outputs": [],
"source": [
"clear;\n",
"close;\n",
"clc;\n",
"n=-10:10;\n",
"W0=1;\n",
"x=cos(W0*n);\n",
"figure\n",
"subplot(2,1,1)\n",
"plot2d3(n,x);\n",
"title('x[n]')\n",
"plot(n,x,'r.')\n",
"//cos(W0*n)=1/2*(e^-%j*W0*n+e^%j*W0*n)\n",
"w=-5:0.01:5;\n",
"for i=1:length(w)\n",
"    if w(i)==W0 then\n",
"        deltaW0(i)=1;\n",
"    else \n",
"        deltaW0(i)=0;\n",
"    end\n",
"end\n",
"delta_W0=deltaW0($:-1:1);\n",
"//by frequency shifting property\n",
"Xw=1/2*[deltaW0+delta_W0];\n",
"subplot(2,1,2)\n",
"plot2d(w,Xw);\n",
"title('X[w] fourier transform')"
   ]
   }
,
{
		   "cell_type": "markdown",
		   "metadata": {},
		   "source": [
			"## Example 6.22: fourier_transform.sce"
		   ]
		  },
  {
"cell_type": "code",
	   "execution_count": null,
	   "metadata": {
	    "collapsed": true
	   },
	   "outputs": [],
"source": [
"clear;\n",
"close;\n",
"clc;\n",
"n=-10:10;\n",
"N=2;\n",
"for i=1:length(n)\n",
"    if n(i)>=-N & n(i)<=N then\n",
"        x(i)=1;\n",
"    else\n",
"        x(i)=0;\n",
"    end\n",
"end\n",
"x=x';\n",
"figure\n",
"subplot(2,1,1)\n",
"plot2d3(n,x);\n",
"title('x[n]')\n",
"plot(n,x,'r.')\n",
"w=-10:0.1:10;\n",
"Xw=x*exp(-%i*n'*w);\n",
"subplot(2,1,2)\n",
"plot2d(w,Xw);\n",
"title('X[w] fourier transform')\n",
"//time scaled sequence x2[n]\n",
"n2=-20:2:20;\n",
"figure\n",
"subplot(2,1,1)\n",
"plot2d3(n2,x);\n",
"title('x2[n]')\n",
"plot(n2,x,'r.')\n",
"w2=-5:0.05:5;\n",
"subplot(2,1,2)\n",
"plot2d(w2,Xw);\n",
"title('X2[w] fourier transform')\n",
"//time scaled sequence x3[n]\n",
"n3=-30:3:30;\n",
"figure\n",
"subplot(2,1,1)\n",
"plot2d3(n3,x);\n",
"title('x3[n]')\n",
"plot(n3,x,'r.')\n",
"w3=w/3;\n",
"subplot(2,1,2)\n",
"plot2d(w3,Xw);\n",
"title('X3[w] fourier transform')\n",
""
   ]
   }
,
{
		   "cell_type": "markdown",
		   "metadata": {},
		   "source": [
			"## Example 6.25: inverse_fourier_transform_using_convolution.sce"
		   ]
		  },
  {
"cell_type": "code",
	   "execution_count": null,
	   "metadata": {
	    "collapsed": true
	   },
	   "outputs": [],
"source": [
"clear;\n",
"close;\n",
"clc;\n",
"a=0.7;\n",
"n=-10:10;\n",
"disp('X(w)=1/(1-a*e^(%i*w))^2=[1/(1-a*e^(%i*w))]*[1/(1-a*e^(%i*w))]');\n",
"disp('we know a^n*u[n] <--> 1/(1-a*e^(%i*w))  ')\n",
"//therefore by convolution property\n",
"xpartial=[zeros(1,find(n==0)-1) a^n(find(n==0):$)];\n",
"x=convol(xpartial,xpartial);\n",
"n1=-20:20;\n",
"plot2d3(n1,x);\n",
"plot(n1,x,'r.');\n",
"xtitle('x[n]','n')"
   ]
   }
,
{
		   "cell_type": "markdown",
		   "metadata": {},
		   "source": [
			"## Example 6.28: frequency_response.sce"
		   ]
		  },
  {
"cell_type": "code",
	   "execution_count": null,
	   "metadata": {
	    "collapsed": true
	   },
	   "outputs": [],
"source": [
"clear;\n",
"close;\n",
"clc;\n",
"n=-10:10; \n",
"x=[zeros(1,find(n==0)-1) ones(1,length(n)-find(n==0)+1)];\n",
"plot2d3(n,x)\n",
"plot(n,x,'r.')\n",
"xtitle('x[n]','n')\n",
"figure\n",
"w=-2:2;\n",
"Xw=x*exp(-%i*n'*w);\n",
"subplot(2,1,1)\n",
"plot2d(w,real(Xw));\n",
"xtitle('U[w] fourier transform','w')\n",
"for i=1:length(w)\n",
"    if w(i)==0 then\n",
"        delta(i)=1;\n",
"    else \n",
"        delta(i)=0;\n",
"    end\n",
"end\n",
"Xwproof=%pi*delta'+ones(1,length(w))./(1-%e^(-%i*w));\n",
"subplot(2,1,2)\n",
"plot(w,Xwproof)\n",
"xtitle('%pi*delta+1/(1-e^i*w','w')\n",
"disp('it can be seen that both the figures are approximately same hence          X(w)=%pi*delta+1/(1-e^i*w');"
   ]
   }
,
{
		   "cell_type": "markdown",
		   "metadata": {},
		   "source": [
			"## Example 6.31: frequency_response.sce"
		   ]
		  },
  {
"cell_type": "code",
	   "execution_count": null,
	   "metadata": {
	    "collapsed": true
	   },
	   "outputs": [],
"source": [
"clear;\n",
"clc;\n",
"close;\n",
"disp('y[n]-3/4y[n-1]+1/8y[n-2]=x[n]');\n",
"disp('taking fourier transform on both sides');\n",
"disp('H(w)=Y(w)/X(w)=1/(1-(3/4)*e^(-j*w)+(1/8)*e^(-j*2*w))');\n",
"w=-10:0.1:10;\n",
"Hw=ones(1,length(w))./(1-(3/4)*%e^(-%i*w)+(1/8)*%e^(-%i*2*w));\n",
"figure\n",
"subplot(2,1,1)\n",
"plot(w,Hw);\n",
"xtitle('H(w)','w')\n",
"n=-10:10;\n",
"h=(1/(2*%pi))*Hw*exp(%i*w'*n);\n",
"subplot(2,1,2)\n",
"plot2d3(n,h)\n",
"plot(n,h,'r.')\n",
"xtitle('h[n]','n')"
   ]
   }
,
{
		   "cell_type": "markdown",
		   "metadata": {},
		   "source": [
			"## Example 6.32: frequency_response.sce"
		   ]
		  },
  {
"cell_type": "code",
	   "execution_count": null,
	   "metadata": {
	    "collapsed": true
	   },
	   "outputs": [],
"source": [
"clear;\n",
"clc;\n",
"close;\n",
"disp('y[n]-1/2*y[n-1]=x[n]+1/2*x[n-1]');\n",
"disp('taking fourier transform on both sides');\n",
"disp('H(w)=Y(w)/X(w)=(1+1/2*e^-j*w)/(1-1/2*e^-j*w)');\n",
"w=-10:0.1:10;\n",
"Hw=(1+(1/2)*%e^(-%i*w))./(1-(1/2)*%e^(-%i*w));\n",
"figure\n",
"subplot(2,1,1)\n",
"plot(w,Hw);\n",
"xtitle('H(w)','w')\n",
"n=-10:10;\n",
"h=(1/(2*%pi))*Hw*exp(%i*w'*n);\n",
"subplot(2,1,2)\n",
"plot2d3(n,h)\n",
"xtitle('h[n]','n')\n",
"plot(n,h,'r.')\n",
"x=cos(%pi*n/2);\n",
"figure\n",
"subplot(2,1,1)\n",
"plot2d3(n,x);\n",
"xtitle('x[n]','n')\n",
"plot(n,x,'r.')\n",
"y=convol(x,h);\n",
"subplot(2,1,2)\n",
"plot2d3(n,y(11:31))\n",
"xtitle('y[n]','n')\n",
"plot(n,y(11:31),'r.')"
   ]
   }
,
{
		   "cell_type": "markdown",
		   "metadata": {},
		   "source": [
			"## Example 6.33: output_response.sce"
		   ]
		  },
  {
"cell_type": "code",
	   "execution_count": null,
	   "metadata": {
	    "collapsed": true
	   },
	   "outputs": [],
"source": [
"clear;\n",
"clc;\n",
"close;\n",
"n=-20:19;\n",
"h=sinc(%pi*n/4)/4;\n",
"disp('it can be seen that h[n] is a filter that allows frequencies between       -%pi/4 and +%pi/4')\n",
"disp('therefore only the dc part of x[n] is passed i.e c0')\n",
"subplot(2,1,1)\n",
"plot2d3(n,h);\n",
"plot(n,h,'r.');\n",
"xtitle('h[n]','n')\n",
"w=-4:0.01:4;\n",
"Hw=h*exp(-%i*n'*w);\n",
"subplot(2,1,2)\n",
"plot2d(w,Hw);\n",
"title('H[w] fourier transform')\n",
"T0=5;\n",
"w0=%pi*2/5;\n",
"z=[ones(1,3) zeros(1,2)];\n",
"x=[];\n",
"for i=1:length(n)/T0\n",
"    x=[x z];\n",
"end\n",
"figure\n",
"subplot(2,1,1)\n",
"plot2d3(n,x);\n",
"plot(n,x,'r.')\n",
"xtitle('x[n]','n')\n",
"c0= (1/5)*sum(z);\n",
"y=ones(1,length(n))*c0;\n",
"subplot(2,1,2)\n",
"plot2d3(n,y);\n",
"plot(n,y,'r.--')\n",
"xtitle('y[n]','n')"
   ]
   }
,
{
		   "cell_type": "markdown",
		   "metadata": {},
		   "source": [
			"## Example 6.34: magnitude_and_phase_response.sce"
		   ]
		  },
  {
"cell_type": "code",
	   "execution_count": null,
	   "metadata": {
	    "collapsed": true
	   },
	   "outputs": [],
"source": [
"clear;\n",
"clc;\n",
"close;\n",
"disp('given system is y[n]=x[n]+x[n-1]');\n",
"disp('taking fourier transform H(w)=Y(w)/X(w)=1+e^-j*w');\n",
"//for impulse response x[n]=delta[n]\n",
"n=-10:10;\n",
"for i=1:length(n)\n",
"    if n(i)==0 then\n",
"        delta1(i)=1;\n",
"        delta2(i)=0;\n",
"    elseif n(i)==1\n",
"        delta2(i)=1;\n",
"        delta1(i)=0\n",
"    else \n",
"        delta1(i)=0;\n",
"        delta2(i)=0\n",
"    end\n",
"end \n",
"h=delta1+delta2;\n",
"plot2d3(n,h);\n",
"plot(n,h,'r.')\n",
"xtitle('h[n]','n')\n",
"figure\n",
"subplot(2,1,1)\n",
"w=-3:0.01:3;\n",
"Hw=1+%e^(-%i*w);\n",
"plot(w,abs(Hw))\n",
"xtitle('|H(w)|','w')\n",
"subplot(2,1,2)\n",
"a=gca();\n",
"plot(w,phasemag(Hw)*%pi/180)\n",
"xtitle('theta(H(w))','w')\n",
"a.y_location='origin';\n",
"//3-db bandwidth\n",
"cutoff=find(round(100*abs(Hw))==round(100*max(abs(Hw))/sqrt(2)));\n",
"threedb=w(cutoff(3));\n",
"disp(threedb,'3db bandwidth=')"
   ]
   }
,
{
		   "cell_type": "markdown",
		   "metadata": {},
		   "source": [
			"## Example 6.35: frequency_response.sce"
		   ]
		  },
  {
"cell_type": "code",
	   "execution_count": null,
	   "metadata": {
	    "collapsed": true
	   },
	   "outputs": [],
"source": [
"clear;\n",
"clc;\n",
"close;\n",
"disp('given system is y[n]-a*y[n-1]=x[n]');\n",
"disp('taking fourier transform H(w)=Y(w)/X(w)=1/(1-a*e^-j*w)');\n",
"//impulse response \n",
"n=-10:10;\n",
"w=-3:0.01:3;\n",
"a=.5;\n",
"Hw=ones(1,length(w))./(1-a*%e^(-%i*w));\n",
"h=(1/2*%pi)*Hw*exp(%i*w'*n); \n",
"disp('impulse response is a^n*u[n]')\n",
"plot2d3(n,h);\n",
"plot(n,h,'r.')\n",
"xtitle('h[n]','n')\n",
"figure\n",
"plot(w,abs(Hw),'r')\n",
"a=0.9;\n",
"Hw=ones(1,length(w))./(1-a*%e^(-%i*w));\n",
"plot(w,abs(Hw),'b')\n",
"xtitle('|H(w)|','w')\n",
"legend(['a=0.5';'a=0.9']);"
   ]
   }
,
{
		   "cell_type": "markdown",
		   "metadata": {},
		   "source": [
			"## Example 6.36: discrete_time_low_pass_filter.sce"
		   ]
		  },
  {
"cell_type": "code",
	   "execution_count": null,
	   "metadata": {
	    "collapsed": true
	   },
	   "outputs": [],
"source": [
"clear;\n",
"clc;\n",
"close;\n",
"wLPF=-3:0.1:3;\n",
"wc=1;\n",
"for i=1:length(wLPF)\n",
"    if wLPF(i)>-wc & wLPF(i)<wc then\n",
"        HwLPF(i)=1;\n",
"    else\n",
"        HwLPF(i)=0;\n",
"    end\n",
"end\n",
"subplot(2,1,1)\n",
"plot(wLPF,HwLPF)\n",
"a=gca()\n",
"poly1=a.children.children;\n",
"poly1.thickness=3;\n",
"poly1.foreground=2;\n",
"title('low pass filter')\n",
"disp('given h[n]=(-1)^n * hLPF[n]=e^(j*%pi*n) * hLPF[n]');\n",
"disp('by shifting property H(w)=HLPF(w-%pi)')\n",
"w=wLPF+%pi;\n",
"subplot(2,1,2)\n",
"plot(w,HwLPF)\n",
"a=gca()\n",
"poly1=a.children.children;\n",
"poly1.thickness=3;\n",
"poly1.foreground=2;\n",
"title('high pass filter')"
   ]
   }
,
{
		   "cell_type": "markdown",
		   "metadata": {},
		   "source": [
			"## Example 6.38: convertion_of_LPF_to_HPF.sce"
		   ]
		  },
  {
"cell_type": "code",
	   "execution_count": null,
	   "metadata": {
	    "collapsed": true
	   },
	   "outputs": [],
"source": [
"clear;\n",
"clc;\n",
"close;\n",
"disp('given y[n]=x[n]+x[n-1]  this can be converted to high pass filter by      multiplying with (-1)^n')\n",
"disp('then y[n]=x[n]-x[n-1] taking fourier transform');\n",
"disp('H(w)=1-e^-j*w');\n",
"w=-3:0.01:3;\n",
"Hw=1-%e^(-%i*w);\n",
"subplot(2,1,1)\n",
"plot(w,abs(Hw));\n",
"xtitle('|H(w)|','w')\n",
"subplot(2,1,2)\n",
"plot(w(1:find(w==0)-1),phasemag(Hw(1:find(w==0)-1))*%pi/180)\n",
"a=gca();\n",
"a.y_location='origin';\n",
"plot(w(find(w==0)+1:$),phasemag(Hw(find(w==0)+1:$))*%pi/180)\n",
"xtitle('phase(H(w))','w')"
   ]
   }
,
{
		   "cell_type": "markdown",
		   "metadata": {},
		   "source": [
			"## Example 6.3: fourier_coefficients.sce"
		   ]
		  },
  {
"cell_type": "code",
	   "execution_count": null,
	   "metadata": {
	    "collapsed": true
	   },
	   "outputs": [],
"source": [
"clear;\n",
"close;\n",
"clc;\n",
"w0=2*%pi/4;//%pi/2\n",
"N0=4;\n",
"n=-8:7;\n",
"y=0:3;\n",
"x=[];\n",
"for i=1:length(n)/4\n",
"    x=[x y];\n",
"end\n",
"plot2d3(n,x');\n",
"plot(n,x','r.')\n",
"xtitle('x[n]','n')\n",
"for k=0:3\n",
"    c(k+1)=0;\n",
"    for n=0:3\n",
"       c(k+1)=c(k+1)+ (1/4)*(y(n+1))*(-%i)^(k*n);\n",
"    end\n",
"end"
   ]
   }
,
{
		   "cell_type": "markdown",
		   "metadata": {},
		   "source": [
			"## Example 6.40: impulse_response_os_a_FIR_filter.sce"
		   ]
		  },
  {
"cell_type": "code",
	   "execution_count": null,
	   "metadata": {
	    "collapsed": true
	   },
	   "outputs": [],
"source": [
"close;\n",
"clc;\n",
"clear;\n",
"N=7;\n",
"n=-4:12;\n",
"for i=1:length(n)\n",
"    if n(i)>=0 & n(i)<=(N-1)/2 then\n",
"        h(i)=n(i);\n",
"    elseif n(i)>=(N-1)/2 & n(i)<N\n",
"        h(i)=-n(i)+(13+(-1)^N)/2;\n",
"    else\n",
"        h(i)=0;\n",
"        \n",
"    end\n",
"end\n",
"subplot(2,1,1)\n",
"plot2d3(n,h)\n",
"plot(n,h,'r.')\n",
"title('N is odd')\n",
"N=8;\n",
"n=-4:12;\n",
"for i=1:length(n)\n",
"    if n(i)>=0 & n(i)<=(N-1)/2 then\n",
"        h(i)=n(i);\n",
"    elseif n(i)>=(N-1)/2 & n(i)<N\n",
"        h(i)=-n(i)+(13+(-1)^N)/2;\n",
"    else\n",
"        h(i)=0;\n",
"        \n",
"    end\n",
"end\n",
"subplot(2,1,2)\n",
"plot2d3(n,h)\n",
"plot(n,h,'r.')\n",
"title('N is even')\n",
"disp('given h[n]=h[N-1-n] taking DFTF we get')\n",
"disp('H(w)=H*(w) e^(-j*(N-1)*w)');\n",
"disp('phase(w)=-1/2(N-1)*w');\n",
"//h[n]=-h[N-1-n]\n",
"N=7;\n",
"n=-4:12;\n",
"for i=1:length(n)\n",
"    if n(i)>=0 & n(i)<N then\n",
"        h(i)=n(i)-(N-1)/2;\n",
"    else\n",
"        h(i)=0;\n",
"        \n",
"    end\n",
"end\n",
"figure\n",
"subplot(2,1,1)\n",
"plot2d3(n,h)\n",
"plot(n,h,'r.')\n",
"title('N is odd')\n",
"N=8;\n",
"n=-4:12;\n",
"for i=1:length(n)\n",
"    if n(i)>=0 & n(i)<N then\n",
"        h(i)=n(i)-(N-1)/2;\n",
"      else\n",
"        h(i)=0; \n",
"    end\n",
"end\n",
"subplot(2,1,2)\n",
"plot2d3(n,h)\n",
"plot(n,h,'r.')\n",
"title('N is even')\n",
"disp('given h[n]=-h[N-1-n] taking DFTF we get')\n",
"disp('H(w)=-H*(w) e^(-j*(N-1)*w)');\n",
"disp('phase(w)=%pi/2 - 1/2(N-1)*w')"
   ]
   }
,
{
		   "cell_type": "markdown",
		   "metadata": {},
		   "source": [
			"## Example 6.41: three_point_moving_average_discrete_time_filter.sce"
		   ]
		  },
  {
"cell_type": "code",
	   "execution_count": null,
	   "metadata": {
	    "collapsed": true
	   },
	   "outputs": [],
"source": [
"close;\n",
"clc;\n",
"clear;\n",
"disp('given system y[n]=1/3*{x[n]+x[n-1]+x[n-2]}');\n",
"disp('taking h[n]=1/3*{delta[n]+delta[n-1]+delta[n-2]}')\n",
"n=-10:10;\n",
"for i=1:length(n)\n",
"    if n(i)==0 then\n",
"        delta1(i)=1;\n",
"        delta2(i)=0;\n",
"        delta3(i)=0;\n",
"    elseif n(i)==1\n",
"        delta2(i)=1;\n",
"        delta1(i)=0;\n",
"        delta3(i)=0;\n",
"    elseif n(i)==2\n",
"        delta1(i)=0;\n",
"        delta2(i)=0;\n",
"        delta3(i)=1;\n",
"    else \n",
"        delta1(i)=0;\n",
"        delta2(i)=0;\n",
"        delta3(i)=0;\n",
"    end\n",
"end \n",
"h={delta1+delta2+delta3}/3;\n",
"plot2d3(n,h)\n",
"plot(n,h,'r.')\n",
"xtitle('h[n]','n')\n",
"disp('taking DTFT H(w)={1+e^-j*w+e^-2*j*w}/3');\n",
"w=-3:0.1:3;\n",
"Hw={1+%e^(-%i*w)+%e^(-2*%i*w)}/3;\n",
"figure\n",
"subplot(2,1,1)\n",
"plot(w,abs(Hw));\n",
"xtitle('|H(w)|','w')\n",
"subplot(2,1,2)\n",
"plot(w,phasemag(Hw)*%pi/180);\n",
"xtitle('phase(H(w))','w')"
   ]
   }
,
{
		   "cell_type": "markdown",
		   "metadata": {},
		   "source": [
			"## Example 6.42: causal_discrete_time_FIR_filter.sce"
		   ]
		  },
  {
"cell_type": "code",
	   "execution_count": null,
	   "metadata": {
	    "collapsed": true
	   },
	   "outputs": [],
"source": [
"close;\n",
"clc;\n",
"clear;\n",
"n=-10:10;\n",
"h=[zeros(1,find(n==0)-1) 2 2 -2 -2 zeros(1,length(n)-find(n==0)-3)];\n",
"plot2d3(n,h)\n",
"plot(n,h,'r.')\n",
"title('impulse response h[n]')\n",
"disp('taking DTFT H(w)=sin(w/2)+sin(3*w/2)')\n",
"w=-3:0.01:3;\n",
"Hw=h*exp(-%i*n'*w);\n",
"figure\n",
"subplot(2,1,1)\n",
"plot(w,abs(Hw)/4)\n",
"xtitle('|H(w)|','w')\n",
"subplot(2,1,2)\n",
"plot(w(1:find(w==0)-1),phasemag(Hw(1:find(w==0)-1))*%pi/180)\n",
"a=gca();\n",
"a.y_location='origin';\n",
"xtitle('phase(H(w))','w')\n",
"plot(w(find(w==0)+1:$),phasemag(Hw(find(w==0)+1:$))*%pi/180)"
   ]
   }
,
{
		   "cell_type": "markdown",
		   "metadata": {},
		   "source": [
			"## Example 6.43: Rc_low_pass_filter.sce"
		   ]
		  },
  {
"cell_type": "code",
	   "execution_count": null,
	   "metadata": {
	    "collapsed": true
	   },
	   "outputs": [],
"source": [
"close;\n",
"clear;\n",
"clc;\n",
"disp('the system can be represented as Yc(s)=Xc(s)/(1+RCs)');\n",
"disp('therefore Hc(s)=1/(1+RCs) hence hc(t)=e^-t*u(t) by frequency shifting     property')\n",
"disp('therefore hd[n]=hc(t)=e^(-n*Ts)*u[n]');\n",
"disp('taking z-transform Hd(z)=1/(1-e^(-n*Ts)*z^-1)');\n",
"Ts=1;\n",
"w=0:0.1:15;\n",
"Hcw=ones(1,length(w))./(1+%i*w);\n",
"subplot(2,1,1)\n",
"plot(w,Hcw,'r')\n",
"//z=%e^%i*w*Ts\n",
"title('Ts=1')\n",
"Hdw=ones(1,length(w))./(1-exp(-Ts-%i*w*Ts));\n",
"plot(w,Hdw,'b')\n",
"legend(['Hc(w)';'Hd(wTs)'])\n",
"Ts=0.1;\n",
"w=0:0.1:15;\n",
"Hcw=ones(1,length(w))./(1+%i*w);\n",
"subplot(2,1,2)\n",
"plot(w,Hcw,'r')\n",
"//z=%e^%i*w*Ts\n",
"title('Ts=0.1')\n",
"Hdw=ones(1,length(w))./(1-exp(-Ts-%i*w*Ts));\n",
"//Hdw=ones(1,length(w))./(1+%e^(-2*Ts)-2*%e^(-Ts)*cos(w*Ts))^.5;\n",
"plot(w,Hdw,'b')\n",
"legend(['Hc(w)';'Hd(wTs)'])\n",
""
   ]
   }
,
{
		   "cell_type": "markdown",
		   "metadata": {},
		   "source": [
			"## Example 6.44: frequency_response.sce"
		   ]
		  },
  {
"cell_type": "code",
	   "execution_count": null,
	   "metadata": {
	    "collapsed": true
	   },
	   "outputs": [],
"source": [
"close;\n",
"clear;\n",
"clc;\n",
"disp('the system is Hc(s)=1/(s+1)*(s+2)');\n",
"disp('therefore hc(t)=(e^-t-e^-2*t)*u(t) by frequency shifting     property')\n",
"disp('therefore hd[n]=hc(t)=(e^(-n*Ts)-e^(-2*n*Ts))*u[n]');\n",
"disp('taking z-transform Hd(z)=1/(1-e^(-n*Ts)*z^-1)  -  1/(1-e^(-2*n*Ts)*z^-1');"
   ]
   }
,
{
		   "cell_type": "markdown",
		   "metadata": {},
		   "source": [
			"## Example 6.45: bilinear_transformation.sce"
		   ]
		  },
  {
"cell_type": "code",
	   "execution_count": null,
	   "metadata": {
	    "collapsed": true
	   },
	   "outputs": [],
"source": [
"close;\n",
"clear;\n",
"clc;\n",
"disp('Hc(s)=s')\n",
"disp(' bilinear transformation s=2*(1-z^-1)/Ts*(1+z^-1)');\n",
"disp('Hd(z)=2*(1-z^-1)/Ts*(1+z^-1)')\n",
"//z=e^-j*w*Ts\n",
"w=-1:0.01:1;\n",
"Ts=2;\n",
"Hdw=2*(1-%e^(-%i*w*Ts))./(1+%e^(-%i*w*Ts));\n",
"//HdwTs=2*tan(w*Ts/2)/Ts;\n",
"plot(w*Ts,imag(Hdw));\n",
"xtitle('Hd(w)','w')"
   ]
   }
,
{
		   "cell_type": "markdown",
		   "metadata": {},
		   "source": [
			"## Example 6.49: N_point_DFT.sce"
		   ]
		  },
  {
"cell_type": "code",
	   "execution_count": null,
	   "metadata": {
	    "collapsed": true
	   },
	   "outputs": [],
"source": [
"close;\n",
"clc;\n",
"clear;\n",
"n=0:10;\n",
"N=8;\n",
"for i=1:length(n)\n",
"    if n(i)==0 then\n",
"        delta(i)=1;\n",
"    else\n",
"        delta(i)=0;\n",
"    end\n",
"end\n",
"x=delta';\n",
"subplot(2,1,1)\n",
"plot2d3(n,x);\n",
"a=gca();\n",
"plot(n,x,'r.')\n",
"poly1=a.children.children;\n",
"poly1.thickness=3;\n",
"poly1.foreground=2;\n",
"xtitle('x[n]','n')\n",
"X=dft(x,-1);\n",
"Y=X(1:find(n==N)-1);\n",
"subplot(2,1,2)\n",
"plot2d3(n,[Y' 0 0 0]);\n",
"a=gca();\n",
"plot(n,[Y' 0 0 0],'r.')\n",
"poly1=a.children.children;\n",
"poly1.thickness=3;\n",
"poly1.foreground=2;\n",
"xtitle('X[k]','k')\n",
"for  i=1:length(n)\n",
"    if n(i)>=0 & n(i)<N then\n",
"        x(i)=1;\n",
"    else\n",
"        x(i)=0;\n",
"    end\n",
"    \n",
"end\n",
"figure \n",
"subplot(2,1,1)\n",
"plot2d3(n,x);\n",
"plot(n,x,'r.')\n",
"a=gca();\n",
"poly1=a.children.children;\n",
"poly1.thickness=3;\n",
"poly1.foreground=2;\n",
"xtitle('x[n]','n')\n",
"subplot(2,1,2)\n",
"plot2d3(n,round(dft(x,-1)));\n",
"plot(n,round(dft(x,-1)),'r.')\n",
"a=gca();\n",
"poly1=a.children.children;\n",
"poly1.thickness=3;\n",
"poly1.foreground=2;\n",
"xtitle('X[k]','k')"
   ]
   }
,
{
		   "cell_type": "markdown",
		   "metadata": {},
		   "source": [
			"## Example 6.4: fourier_coefficients_of_a_periodic_sequence.sce"
		   ]
		  },
  {
"cell_type": "code",
	   "execution_count": null,
	   "metadata": {
	    "collapsed": true
	   },
	   "outputs": [],
"source": [
"clear;\n",
"close;\n",
"clc;\n",
"T0=10;\n",
"w0=%pi/5;\n",
"y=[ones(1,5) zeros(1,5)];\n",
"n=-20:19;\n",
"x=[];\n",
"for i=1:length(n)/T0\n",
"    x=[x y];\n",
"end\n",
"plot2d3(n,x);\n",
"plot(n,x,'r.')\n",
"xtitle('x[n]','n')\n",
"for k=0:9\n",
"     c(k+1)=0;\n",
"    for n=0:4\n",
"       c(k+1)=c(k+1)+ (1/4)*(y(n+1))*(%e)^(%i*w0*k*n);\n",
"    end\n",
"end\n",
"c=[c($:-1:2) ;c];\n",
"k=-9:9;\n",
"figure\n",
"plot2d3(k,abs(c));\n",
"plot(k,abs(c),'r.--')\n",
"xtitle('|ck|','k')"
   ]
   }
,
{
		   "cell_type": "markdown",
		   "metadata": {},
		   "source": [
			"## Example 6.50: DFT.sce"
		   ]
		  },
  {
"cell_type": "code",
	   "execution_count": null,
	   "metadata": {
	    "collapsed": true
	   },
	   "outputs": [],
"source": [
"close;\n",
"clc;\n",
"clear;\n",
"n=0:3;\n",
"x=cos(%pi*n/2);\n",
"subplot(4,1,1)\n",
"plot2d3(n,x)\n",
"xtitle('x[n]','n')\n",
"a=gca();\n",
"a.x_location='origin';\n",
"a.y_location='right';\n",
"poly1=a.children.children;\n",
"poly1.thickness=3;\n",
"poly1.foreground=2;\n",
"plot(n,x,'r.')\n",
"subplot(4,1,2)\n",
"h=.5^n;\n",
"plot2d3(n,h);\n",
"xtitle('h[n]','n')\n",
"a=gca();\n",
"a.x_location='origin';\n",
"a.y_location='right';\n",
"poly1=a.children.children;\n",
"poly1.thickness=3;\n",
"poly1.foreground=2;\n",
"plot(n,h,'r.')\n",
"y=convol(x,h)\n",
"subplot(4,1,3)\n",
"plot2d3(n,y(1:4));\n",
"xtitle('y[n]','n')\n",
"plot(n,y(1:4),'r.')\n",
"a=gca();\n",
"a.x_location='origin';\n",
"a.y_location='right';\n",
"poly1=a.children.children;\n",
"poly1.thickness=3;\n",
"poly1.foreground=2;\n",
"clear y;\n",
"X=dft(x,-1);\n",
"H=dft(h,-1);\n",
"Y=H.*X;\n",
"y=dft(Y,1);\n",
"subplot(4,1,4)\n",
"plot2d3(n,y);\n",
"xtitle('y[n]','n')\n",
"plot(n,y,'r.')\n",
"a=gca();\n",
"a.x_location='origin';\n",
"a.y_location='right';\n",
"poly1=a.children.children;\n",
"poly1.thickness=3;\n",
"poly1.foreground=2;\n",
"plot(n,x,'r.')"
   ]
   }
,
{
		   "cell_type": "markdown",
		   "metadata": {},
		   "source": [
			"## Example 6.55: DFT_using_matrices.sce"
		   ]
		  },
  {
"cell_type": "code",
	   "execution_count": null,
	   "metadata": {
	    "collapsed": true
	   },
	   "outputs": [],
"source": [
"x=[0 1 2 3];\n",
"X=dft(x,-1);\n",
"disp(X,'DFT is X(k)=')\n",
"x=dft(X,1);\n",
"disp(round(x),'IDFT is x[n]=')"
   ]
   }
,
{
		   "cell_type": "markdown",
		   "metadata": {},
		   "source": [
			"## Example 6.56: DFT_using_matrices.sce"
		   ]
		  },
  {
"cell_type": "code",
	   "execution_count": null,
	   "metadata": {
	    "collapsed": true
	   },
	   "outputs": [],
"source": [
"clc;\n",
"N=4;\n",
"n=-10:10;\n",
"x=[zeros(1,find(n==0)-1) rand(1,-find(n==0)+find(n==N)+1) zeros(1,length(n)-find(n==N))];\n",
"plot2d3(n,x)\n",
"nf=-5:0.5:5;\n",
"figure\n",
"subplot(2,1,1)\n",
"plot2d3(ceil(nf),x);\n",
"xtitle('f[n]','n')\n",
"subplot(2,1,2)\n",
"ng=nf-1/2;\n",
"plot2d3(ceil(ng),x);\n",
"xtitle('g[n]','n')\n",
"disp('from the graphs it is visible that f[n]=g[n]=0 outside 0<=n<=N/2-1');"
   ]
   }
,
{
		   "cell_type": "markdown",
		   "metadata": {},
		   "source": [
			"## Example 6.57: decimation_in_time_FFT_algorithm.sce"
		   ]
		  },
  {
"cell_type": "code",
	   "execution_count": null,
	   "metadata": {
	    "collapsed": true
	   },
	   "outputs": [],
"source": [
"clear;\n",
"close;\n",
"clc;\n",
"x=[1 1 -1 -1 -1 1 1 -1];\n",
"N=8;\n",
"n=0:7;\n",
"k=0:N/2-1;\n",
"WkN=exp(-%i*2*%pi*k/N);\n",
"f=[];\n",
"g=[];\n",
"for i=1:length(n)\n",
"    if modulo(n(i),2)==0 then\n",
"        f=[f x(i)];\n",
"    else\n",
"        g=[g x(i)];\n",
"    end\n",
"end\n",
"Fk=dft(f,-1);\n",
"Gk=dft(g,-1);\n",
"//Xk=Fk-WkN*Gk\n",
"Xk=Fk-WkN'.*Gk;\n",
"Xk=[Xk; Xk];\n",
"disp(round(Xk))"
   ]
   }
,
{
		   "cell_type": "markdown",
		   "metadata": {},
		   "source": [
			"## Example 6.59: decimation_in_time_FFT_algorithm.sce"
		   ]
		  },
  {
"cell_type": "code",
	   "execution_count": null,
	   "metadata": {
	    "collapsed": true
	   },
	   "outputs": [],
"source": [
"clear;\n",
"close;\n",
"clc;\n",
"x=[1 1 -1 -1 -1 1 1 -1];\n",
"N=8;\n",
"n=0:7;\n",
"p=x(1:4)+x(5:8);\n",
"k=0:N/2-1;\n",
"WkN=exp(-%i*2*%pi*k/N);\n",
"q=[x(1:4)-x(5:8)].*WkN;\n",
"Pk=dft(p,-1);\n",
"Qk=dft(q,-1);\n",
"//X[2k]=P[k]  X[2k+1]=Q[k]\n",
"for i=1:length(k)\n",
"    if modulo(i,2)==0 then\n",
"        Xk(i)=Qk(i/2);\n",
"    else\n",
"       Xk(i)=Pk(ceil((i)/2));\n",
"    end\n",
"end\n",
"Xk=[Xk;Xk];\n",
"disp(round(Xk));"
   ]
   }
,
{
		   "cell_type": "markdown",
		   "metadata": {},
		   "source": [
			"## Example 6.5: fourier_coefficients.sce"
		   ]
		  },
  {
"cell_type": "code",
	   "execution_count": null,
	   "metadata": {
	    "collapsed": true
	   },
	   "outputs": [],
"source": [
"clear;\n",
"close;\n",
"clc;\n",
"T0=4;\n",
"w0=%pi/2;\n",
"y=[1 0 0 0];\n",
"n=-8:7;\n",
"x=[];\n",
"for i=1:length(n)/T0\n",
"    x=[x y];\n",
"end\n",
"plot2d3(n,x);\n",
"plot(n,x,'r.');\n",
"xtitle('x[n]','n')\n",
"for k=-9:9\n",
"     c(k+10)=0;\n",
"    for n=0:3\n",
"       c(k+10)=c(k+10)+ (1/4)*(y(n+1))*(%e)^(%i*w0*k*n);\n",
"    end\n",
"end\n",
"k=-9:9;\n",
"figure\n",
"plot2d3(k,abs(c));\n",
"plot(k,c,'r.')\n",
"xtitle('x[n]','n')"
   ]
   }
,
{
		   "cell_type": "markdown",
		   "metadata": {},
		   "source": [
			"## Example 6.61: fourier_spectrum_using_DFT.sce"
		   ]
		  },
  {
"cell_type": "code",
	   "execution_count": null,
	   "metadata": {
	    "collapsed": true
	   },
	   "outputs": [],
"source": [
"clear;\n",
"close;\n",
"clc;\n",
"T1=10;\n",
"wM=100;\n",
"N=ceil(wM*T1/%pi);\n",
"dw=2*wM/N;\n",
"dt=%pi/wM;\n",
"WN=exp(-%i*2*%pi/N);\n",
"n=0:N-1;\n",
"x=%e^-(n*dt);\n",
"k=0:10;\n",
"Xk=dt*x*exp(-%i*2*%pi*n'*k/N);\n",
"disp(Xk(find(k==0)),Xk(find(k==1)),Xk(find(k==10)),'X[0] X[1] X[10] from X[k]')\n",
"w=0:dw:10*dw;\n",
"Xw=ones(1,length(w))./(%i*w+1);\n",
"disp(Xw(find(w==0)),Xw(find(w==dw)),Xw(find(w==10*dw)),'X(0) X(dw) X(10*dw) from X(w)')\n",
"disp('it can be seen that X[k] gives a good approximation to X(w)') "
   ]
   }
,
{
		   "cell_type": "markdown",
		   "metadata": {},
		   "source": [
			"## Example 6.6: discrete_fourier_series_representation.sce"
		   ]
		  },
  {
"cell_type": "code",
	   "execution_count": null,
	   "metadata": {
	    "collapsed": true
	   },
	   "outputs": [],
"source": [
"clear;\n",
"close;\n",
"clc;\n",
"//cos(%pi*n/4)\n",
"N0=8;\n",
"w0=2*%pi/N0;\n",
"n=-8:8;\n",
"x=cos(%pi*n/4);\n",
"subplot(2,1,1)\n",
"xtitle('x[n]','n')\n",
"plot2d3(n,x);\n",
"plot(n,x,'r.');\n",
"for k=-6:6\n",
"     c(k+7)=0;\n",
"    for n=0:7\n",
"       c(k+7)=c(k+7)+ (1/8)*(x(n+1))*(%e)^(%i*w0*k*n);\n",
"    end\n",
"end\n",
"k=-6:6;\n",
"subplot(2,1,2)\n",
"xtitle('|ck|','k')\n",
"plot2d3(k,abs(c));\n",
"plot(k,c,'r.')\n",
"//cos(%pi*n/3)+sin(%pi*n/4)\n",
"N0=24;\n",
"w0=2*%pi/N0;\n",
"n=-24:24;\n",
"x=cos(%pi*n/3)+sin(%pi*n/4);\n",
"figure\n",
"subplot(2,1,1)\n",
"xtitle('x[n]','n')\n",
"plot2d3(n,x);\n",
"plot(n,x,'r.--');\n",
"for k=-24:24\n",
"     c(k+25)=0;\n",
"    for n=0:23\n",
"       c(k+25)=c(k+25)+ (1/N0)*(x(n+1))*(%e)^(%i*w0*k*n);\n",
"    end\n",
"end\n",
"k=-24:24;\n",
"subplot(2,1,2)\n",
"xtitle('|ck|','k')\n",
"plot2d3(k,abs(c));\n",
"plot(k,c,'r.')\n",
"//[cos(%pi*n/8)]^2\n",
"N0=8;\n",
"w0=2*%pi/N0;\n",
"n=-8:8;\n",
"x=[cos(%pi*n/8)]^2;\n",
"clear c;\n",
"figure\n",
"subplot(2,1,1)\n",
"xtitle('x[n]','n')\n",
"plot2d3(n,x);\n",
"plot(n,x,'r.--');\n",
"for k=-6:6\n",
"     c(k+7)=0;\n",
"    for n=0:7\n",
"       c(k+7)=c(k+7)+ (1/N0)*(x(n+1))*(%e)^(%i*w0*k*n);\n",
"    end\n",
"end\n",
"k=-6:6;\n",
"subplot(2,1,2)\n",
"xtitle('|ck|','k')\n",
"plot2d3(k,abs(c));\n",
"plot(k,c,'r.')\n",
"disp('fourier series is x[n]=1/N0*sum(c(k)*e^%i*w0*n*k)');"
   ]
   }
],
"metadata": {
		  "kernelspec": {
		   "display_name": "Scilab",
		   "language": "scilab",
		   "name": "scilab"
		  },
		  "language_info": {
		   "file_extension": ".sce",
		   "help_links": [
			{
			 "text": "MetaKernel Magics",
			 "url": "https://github.com/calysto/metakernel/blob/master/metakernel/magics/README.md"
			}
		   ],
		   "mimetype": "text/x-octave",
		   "name": "scilab",
		   "version": "0.7.1"
		  }
		 },
		 "nbformat": 4,
		 "nbformat_minor": 0
}
