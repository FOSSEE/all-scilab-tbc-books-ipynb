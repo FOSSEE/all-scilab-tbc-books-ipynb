{
"cells": [
 {
		   "cell_type": "markdown",
	   "metadata": {},
	   "source": [
       "# Chapter 2: Linear Time Invariant Systems"
	   ]
	},
{
		   "cell_type": "markdown",
		   "metadata": {},
		   "source": [
			"## Example 2.10: output_response.sce"
		   ]
		  },
  {
"cell_type": "code",
	   "execution_count": null,
	   "metadata": {
	    "collapsed": true
	   },
	   "outputs": [],
"source": [
"//Example 2.10:Convolution Integral \n",
"clear;\n",
"close;\n",
"clc;\n",
"t =-3:1/100:8;\n",
"s=[];\n",
"ss=[];\n",
"for i=1:length(t)\n",
"    if t(i)<1|t(i)>3 then\n",
"        x(i)=0;\n",
"    else\n",
"        x(i)=1;\n",
"    end\n",
"    if t(i)<0 then\n",
"        s(i)=0;\n",
"    else\n",
"       s(i)=exp(-t(i)); \n",
"    end\n",
"end\n",
"figure\n",
"a=gca();\n",
"a.y_location='origin';\n",
"a.x_location='origin';\n",
"plot2d(t,s) \n",
"xtitle('Output step Response','t','s(t)');\n",
"a.children.children.thickness = 3;\n",
"a.children.children.foreground= 2;\n",
"figure\n",
"a=gca();\n",
"a.x_location='origin';\n",
"a.y_location='origin';\n",
"plot2d(t,x) \n",
"xtitle('Input Response','t','x(t)');\n",
"a.children.children.thickness = 3;\n",
"a.children.children.foreground= 2;\n",
"t1=t+1;\n",
"t2=t+3;\n",
"s=s';\n",
"tt=min(min(t1,t2)):1/100:max(max(t1,t2));\n",
"ee=zeros(tt);\n",
"x=find(tt==-2);\n",
"y=find(tt==0);\n",
"z=find(tt==9);\n",
"for i=1:1:length(tt)\n",
"    if i<y then\n",
"        ee(i)=s(i);\n",
"    elseif i<z\n",
"        ee(i)=s(i)-s(i-y+1);\n",
"    else\n",
"        ee(i)=-s(i-y+1);\n",
"    end\n",
"end\n",
"figure\n",
"a=gca();\n",
"a.y_location='left';\n",
"a.x_location='origin';\n",
"plot2d(tt,ee) \n",
"xtitle('Output Response','t','s(t-1)-s(t-3)');\n",
"a.children.children.thickness = 3;\n",
"a.children.children.foreground= 2;"
   ]
   }
,
{
		   "cell_type": "markdown",
		   "metadata": {},
		   "source": [
			"## Example 2.14_a: cascaded_system.sce"
		   ]
		  },
  {
"cell_type": "code",
	   "execution_count": null,
	   "metadata": {
	    "collapsed": true
	   },
	   "outputs": [],
"source": [
"//Example 2.14:Convolution Integral \n",
"clear;\n",
"close;\n",
"clc; \n",
"t =-5:1/100:5;\n",
"for i=1:length(t)\n",
"    if t(i)<0 then  \n",
"        h1(i)=0;\n",
"        h2(i)=0;\n",
"    else\n",
"        h1(i)=exp(-2.*t(i));\n",
"        h2(i)=2*exp(-t(i));\n",
"    end\n",
"end\n",
"h=convol(h1,h2);\n",
"figure\n",
"a=gca();\n",
"a.x_location='origin';\n",
"plot2d(t,h1) \n",
"xtitle('Impulse Response exp(-2*t)','t','h1(t)');\n",
"a.children.children.thickness = 3;\n",
"a.children.children.foreground= 2;\n",
"figure \n",
"a=gca();\n",
"plot2d(t,h2) \n",
"xtitle('Impulse Response 2*exp(-t)','t','h2(t)');\n",
"a.children.children.thickness = 3;\n",
"a.children.children.foreground= 2;\n",
"figure\n",
"a=gca();\n",
"t1=-10:1/100:10;\n",
"a.y_location='origin';\n",
"plot2d(t1,h) \n",
"xtitle('Impulse Response of the overall system =h1(t)*h2(t)','t','h(t)');\n",
"a.children.children.thickness = 3;\n",
"a.children.children.foreground= 2;"
   ]
   }
,
{
		   "cell_type": "markdown",
		   "metadata": {},
		   "source": [
			"## Example 2.14_b: BIBO_stability.sce"
		   ]
		  },
  {
"cell_type": "code",
	   "execution_count": null,
	   "metadata": {
	    "collapsed": true
	   },
	   "outputs": [],
"source": [
"syms x y\n",
"y=integ(exp(-x)-exp(-2*x),x,0,1000000000)\n",
"disp('which is less than inf',y,'system  is bibo stable as y=');"
   ]
   }
,
{
		   "cell_type": "markdown",
		   "metadata": {},
		   "source": [
			"## Example 2.15: eigenfunction_of_the_system.sce"
		   ]
		  },
  {
"cell_type": "code",
	   "execution_count": null,
	   "metadata": {
	    "collapsed": true
	   },
	   "outputs": [],
"source": [
"syms s T t\n",
"y=integ(exp(-(t-T))*exp(s*T),T,-%inf,t)\n",
"x=exp(s*t)\n",
"lamda=y/x//eigen value\n",
"disp(lamda,'b)  lamda=')\n",
"lamda_=laplace(exp(-t))\n",
"disp(lamda_,'c)  lamda=')"
   ]
   }
,
{
		   "cell_type": "markdown",
		   "metadata": {},
		   "source": [
			"## Example 2.16: eigen_value_of_the_system.sce"
		   ]
		  },
  {
"cell_type": "code",
	   "execution_count": null,
	   "metadata": {
	    "collapsed": true
	   },
	   "outputs": [],
"source": [
"syms s t T tou\n",
"y=T^-1*integ(exp(s*tou),tou,t-T/2,t+T/2)\n",
"x=exp(s*t)\n",
"lamda=y/x\n",
"disp(lamda,'lamda=')"
   ]
   }
,
{
		   "cell_type": "markdown",
		   "metadata": {},
		   "source": [
			"## Example 2.28: output_response_of_a_discrete_time_system.sce"
		   ]
		  },
  {
"cell_type": "code",
	   "execution_count": null,
	   "metadata": {
	    "collapsed": true
	   },
	   "outputs": [],
"source": [
"clear;\n",
"clc;\n",
"n=0:10;\n",
"alpha=.5;\n",
"x=ones(n);\n",
"h=alpha^n;\n",
"y=convol(x,h);\n",
"figure\n",
"a=gca();\n",
"a.x_location='origin';\n",
"plot2d3(n,h) \n",
"plot(n,h,'r.')\n",
"xtitle('Impulse Response','n','h[n]');\n",
"a.children.children.thickness = 3;\n",
"a.children.children.foreground= 2;\n",
"figure\n",
"a=gca();\n",
"plot2d3(n,x)\n",
"plot(n,x,'r.') \n",
"xtitle('Input Response','n','x[n]');\n",
"a.children.children.thickness = 3;\n",
"a.children.children.foreground= 2;\n",
"figure\n",
"b=gca();\n",
"N=0:20;\n",
"a=find(N==7)\n",
"plot2d3(N(1:a),y(1:a)) \n",
"plot(N(1:a),y(1:a),'r.')\n",
"xtitle('Output Response','n','y[n]');\n",
"b.children.children.thickness = 3;\n",
"b.children.children.foreground= 2;"
   ]
   }
,
{
		   "cell_type": "markdown",
		   "metadata": {},
		   "source": [
			"## Example 2.29_a: convolution_of_discrete_signals.sce"
		   ]
		  },
  {
"cell_type": "code",
	   "execution_count": null,
	   "metadata": {
	    "collapsed": true
	   },
	   "outputs": [],
"source": [
"clear;\n",
"clc;\n",
"n=0:10;\n",
"alpha=.5;\n",
"betaa=.6;\n",
"x=betaa^n;\n",
"h=alpha^n;\n",
"y=convol(x,h);\n",
"figure\n",
"a=gca();\n",
"a.x_location='origin';\n",
"plot2d3(n,h) \n",
"plot(n,h,'r.')\n",
"xtitle('Impulse Response','n','h[n]');\n",
"a.children.children.thickness = 3;\n",
"a.children.children.foreground= 2;\n",
"figure\n",
"a=gca();\n",
"plot2d3(n,x) \n",
"plot(n,x,'r.')\n",
"xtitle('Input Response','n','x[n]');\n",
"a.children.children.thickness = 3;\n",
"a.children.children.foreground= 2;\n",
"figure\n",
"a=gca();\n",
"N=0:20; \n",
"plot2d3(N,y)\n",
"plot(N,y,'r.')\n",
"xtitle('Output Response','n','y[n]');\n",
"a.children.children.thickness = 3;\n",
"a.children.children.foreground= 2;"
   ]
   }
,
{
		   "cell_type": "markdown",
		   "metadata": {},
		   "source": [
			"## Example 2.29_b: convolution_of_discrete_signals.sce"
		   ]
		  },
  {
"cell_type": "code",
	   "execution_count": null,
	   "metadata": {
	    "collapsed": true
	   },
	   "outputs": [],
"source": [
"clear;\n",
"clc;\n",
"n=0:10;\n",
"alpha=.9;\n",
"x=[ zeros(1,length(n)-1) alpha^n];\n",
"h=[alpha^-n];\n",
"h=[h zeros(1,length(n)-1)];\n",
"y=convol(x,h);\n",
"figure\n",
"a=gca();\n",
"a.x_location='origin';\n",
"n=-10:10;\n",
"plot2d3(n,h) \n",
"plot(n,h,'r.')\n",
"xtitle('Impulse Response','n','h[n]');\n",
"a.children.children.thickness = 3;\n",
"a.children.children.foreground= 2;\n",
"a.y_location='origin';\n",
"figure\n",
"a=gca();\n",
"plot2d3(n,x) \n",
"plot(n,x,'r.')\n",
"a.y_location='origin';\n",
"a.x_location='origin';\n",
"xtitle('Input Response','n','x[n]');\n",
"a.children.children.thickness = 3;\n",
"a.children.children.foreground= 2;\n",
"figure\n",
"a=gca();\n",
"N=-20:20; \n",
"plot2d3(N,y)\n",
"plot(N,y,'r.')\n",
"a.x_location='origin';\n",
"a.y_location='origin';\n",
"xtitle('Output Response','n','y[n]');\n",
"a.children.children.thickness = 3;\n",
"a.children.children.foreground= 2;"
   ]
   }
,
{
		   "cell_type": "markdown",
		   "metadata": {},
		   "source": [
			"## Example 2.30: convolution_of_discrete_signals.sce"
		   ]
		  },
  {
"cell_type": "code",
	   "execution_count": null,
	   "metadata": {
	    "collapsed": true
	   },
	   "outputs": [],
"source": [
"clear;\n",
"clc;\n",
"x=[0 0 1 1 1 1 0 0];\n",
"h=[0 0 1 1 1 0 0];\n",
"nx=-2:length(x)-3;\n",
"nh=-2:length(h)-3;\n",
"y=convol(x,h);\n",
"ny=min(nx)+min(nh):max(nx)+max(nh);\n",
"figure\n",
"a=gca();\n",
"a.x_location='origin';\n",
"plot2d3(nh,h) \n",
"plot(nh,h,'r.')\n",
"xtitle('Impulse Response','n','h[n]');\n",
"a.children.children.thickness = 3;\n",
"a.children.children.foreground= 2;\n",
"a.y_location='left';\n",
"figure\n",
"a=gca();\n",
"plot2d3(nx,x)\n",
"plot(nx,x,'r.') \n",
"a.y_location='left';\n",
"a.x_location='origin';\n",
"xtitle('Input Response','n','x[n]');\n",
"a.children.children.thickness = 3;\n",
"a.children.children.foreground= 2;\n",
"figure\n",
"a=gca(); \n",
"plot2d3(ny,y)\n",
"plot(ny,y,'r.')\n",
"a.x_location='origin';\n",
"a.y_location='left';\n",
"xtitle('Output Response','n','y[n]');\n",
"a.children.children.thickness = 3;\n",
"a.children.children.foreground= 2;"
   ]
   }
,
{
		   "cell_type": "markdown",
		   "metadata": {},
		   "source": [
			"## Example 2.34: output_response_without_using_convolution.sce"
		   ]
		  },
  {
"cell_type": "code",
	   "execution_count": null,
	   "metadata": {
	    "collapsed": true
	   },
	   "outputs": [],
"source": [
"clear;\n",
"clc;\n",
"h=[0 1 1 1 1 -1 -1 0];\n",
"x=[0 0 1 0 -1 0];\n",
"nx=0:length(x)-1;\n",
"nh=-1:length(h)-2;\n",
"//y=convol(x,h);\n",
"ny=min(nx)+min(nh):max(nx)+max(nh);\n",
"//or x[n]=delta[n-2]-delta[n-4] therefore y[n]=h[n-2]-h[n-4]\n",
"n1=nh+2;\n",
"n2=nh+4;\n",
"ny=min(nx)+min(nh):max(nx)+max(nh);\n",
"j=1;\n",
"k=1;\n",
"h2=zeros(ny);\n",
"h4=h2;\n",
"a=find(ny==n1(1))\n",
"for j=1:length(nh)\n",
"    h2(a+j-1)=h(j)\n",
"       end\n",
"a=find(ny==n2(1))\n",
"for j=1:length(nh)\n",
"    h4(a+j-1)=h(j)\n",
"       end\n",
"y=h2-h4;\n",
"figure\n",
"a=gca();\n",
"a.x_location='origin';\n",
"plot2d3(nh,h) \n",
"plot(nh,h,'r.')\n",
"xtitle('Impulse Response','n','h[n]');\n",
"a.children.children.thickness = 3;\n",
"a.children.children.foreground= 2;\n",
"a.y_location='left';\n",
"figure\n",
"a=gca();\n",
"plot2d3(nx,x)\n",
"plot(nx,x,'r.') \n",
"a.y_location='left';\n",
"a.x_location='origin';\n",
"xtitle('Input Response','n','x[n]');\n",
"a.children.children.thickness = 3;\n",
"a.children.children.foreground= 2;\n",
"figure\n",
"a=gca(); \n",
"plot2d3(ny,y)\n",
"plot(ny,y,'r.')\n",
"a.x_location='origin';\n",
"a.y_location='left';\n",
"xtitle('Output Response','n','y[n]');\n",
"a.children.children.thickness = 3;\n",
"a.children.children.foreground= 2;"
   ]
   }
,
{
		   "cell_type": "markdown",
		   "metadata": {},
		   "source": [
			"## Example 2.36: causality.sce"
		   ]
		  },
  {
"cell_type": "code",
	   "execution_count": null,
	   "metadata": {
	    "collapsed": true
	   },
	   "outputs": [],
"source": [
"clear;\n",
"clc;\n",
"n=-5:5;\n",
"for i=1:length(n)\n",
"    if(n(i)>=-1)\n",
"        h(i)=2^-(n(i)+1);\n",
"     else\n",
"         h(i)=0;\n",
"     end \n",
" end\n",
"causal=%t;\n",
"for i=1:length(n)\n",
"    if n(i)<0 & h(i)~=0 then\n",
"    causal=%f;\n",
"    end\n",
"end\n",
"disp(causal,'the statement that the system is causal is');"
   ]
   }
,
{
		   "cell_type": "markdown",
		   "metadata": {},
		   "source": [
			"## Example 2.38: BIBO_stability_and_causality.sce"
		   ]
		  },
  {
"cell_type": "code",
	   "execution_count": null,
	   "metadata": {
	    "collapsed": true
	   },
	   "outputs": [],
"source": [
"clear;\n",
"clc;\n",
"n=-5:5;\n",
"alpha=.6;\n",
"for i=1:length(n)\n",
"    if(n(i)>=0)\n",
"        h(i)=alpha^n(i);\n",
"     else\n",
"         h(i)=0;\n",
"     end \n",
" end\n",
"causal=%t;\n",
"for i=1:length(n)\n",
"    if n(i)<0 & h(i)~=0 then\n",
"    causal=%f;\n",
"    end\n",
"end\n",
"disp(causal,'the statement that the system is causal is');\n",
"n=0:100000;\n",
"for i=1:length(n)\n",
"    if(n(i)>=0)\n",
"        h(i)=alpha^n(i);\n",
"     else\n",
"         h(i)=0;\n",
"     end \n",
" end\n",
" bibo=sum(h);\n",
" if (bibo<%inf) then\n",
"     disp('system is bibo stable');\n",
" else\n",
"    disp('system is not stable'); \n",
" end"
   ]
   }
,
{
		   "cell_type": "markdown",
		   "metadata": {},
		   "source": [
			"## Example 2.4: output_response.sce"
		   ]
		  },
  {
"cell_type": "code",
	   "execution_count": null,
	   "metadata": {
	    "collapsed": true
	   },
	   "outputs": [],
"source": [
"//Example 2.4:Convolution Integral \n",
"clear;\n",
"close;\n",
"clc;\n",
"t =-5:1/100:5;\n",
"for i=1:length(t)\n",
"    if t(i)<0 then\n",
"        h(i)=0;\n",
"        x(i)=0;\n",
"    else\n",
"        h(i)=exp(-t(i));\n",
"        x(i)=1;\n",
"    end\n",
"end\n",
"y = convol(x,h)./100;\n",
"figure\n",
"a=gca();\n",
"a.x_location='origin';\n",
"plot2d(t,h) \n",
"xtitle('Impulse Response','t','h(t)');\n",
"a.thickness = 2;\n",
"figure\n",
"a=gca();\n",
"plot2d(t,x) \n",
"xtitle('Input Response','t','x(t)');\n",
"a.thickness = 2;\n",
"figure\n",
"a=gca();\n",
"t1=-10:1/100:10;\n",
"a.y_location='origin';\n",
"a.x_location='origin';\n",
"d=find(t1==5);\n",
"plot2d(t1(1:d),y(1:d)) \n",
"xtitle('Output Response','t','y(t)');\n",
"a.thickness = 2;"
   ]
   }
,
{
		   "cell_type": "markdown",
		   "metadata": {},
		   "source": [
			"## Example 2.5: output_response.sce"
		   ]
		  },
  {
"cell_type": "code",
	   "execution_count": null,
	   "metadata": {
	    "collapsed": true
	   },
	   "outputs": [],
"source": [
"//Example 2.4:Convolution Integral \n",
"clear;\n",
"close;\n",
"clc;\n",
"t =-5:1/100:5;\n",
"for i=1:length(t)\n",
"    if t(i)<0 then\n",
"        h(i)=0;\n",
"        x(i)=exp(t(i));\n",
"    else\n",
"        h(i)=exp(-t(i));\n",
"        x(i)=0;\n",
"    end\n",
"end\n",
"y = convol(x,h)./100;\n",
"figure\n",
"a=gca();\n",
"a.x_location='origin';\n",
"plot2d(t,h) \n",
"xtitle('Impulse Response','t','h(t)');\n",
"a.thickness = 2;\n",
"figure\n",
"a=gca();\n",
"plot2d(t,x) \n",
"xtitle('Input Response','t','x(t)');\n",
"a.thickness = 2;\n",
"figure\n",
"a=gca();\n",
"t1=-10:1/100:10;\n",
"a.y_location='origin';\n",
"plot2d(t1,y) \n",
"xtitle('Output Response','t','y(t)');\n",
"a.thickness = 2;"
   ]
   }
,
{
		   "cell_type": "markdown",
		   "metadata": {},
		   "source": [
			"## Example 2.6: convolution.sce"
		   ]
		  },
  {
"cell_type": "code",
	   "execution_count": null,
	   "metadata": {
	    "collapsed": true
	   },
	   "outputs": [],
"source": [
"//Example 2.6:Convolution Integral \n",
"clear;\n",
"close;\n",
"clc;\n",
"t =-5:1/100:5;\n",
"for i=1:length(t)\n",
"    if t(i)<0 then\n",
"        h(i)=0;\n",
"        x(i)=0;\n",
"    elseif t(i)<=2\n",
"        h(i)=1;\n",
"        x(i)=1;\n",
"    elseif t(i)<=3\n",
"        h(i)=0;\n",
"        x(i)=1;\n",
"    else\n",
"        h(i)=0;\n",
"        x(i)=0; \n",
"    end\n",
"end\n",
"y = convol(x,h)./100;\n",
"figure\n",
"a=gca();\n",
"a.x_location='origin';\n",
"plot2d(t,h) \n",
"xtitle('Impulse Response','t','h(t)');\n",
"a.children.children.thickness = 3;\n",
"a.children.children.foreground= 2;\n",
"figure\n",
"a=gca();\n",
"plot2d(t,x) \n",
"xtitle('Input Response','t','x(t)');\n",
"a.children.children.thickness = 3;\n",
"a.children.children.foreground= 2;\n",
"figure\n",
"a=gca();\n",
"t1=-10:1/100:10;\n",
"a.y_location='origin';\n",
"a.x_location='origin';\n",
"plot2d(t1,y) \n",
"xtitle('Output Response','t','y(t)');\n",
"a.children.children.thickness = 3;\n",
"a.children.children.foreground= 2;"
   ]
   }
,
{
		   "cell_type": "markdown",
		   "metadata": {},
		   "source": [
			"## Example 2.7_a: convolution_of_two_rectangular_pulse.sce"
		   ]
		  },
  {
"cell_type": "code",
	   "execution_count": null,
	   "metadata": {
	    "collapsed": true
	   },
	   "outputs": [],
"source": [
"//Example 2.7:Convolution Integral \n",
"clear;\n",
"close;\n",
"clc;\n",
"t =-6:1/100:6;\n",
"for i=1:length(t)\n",
"    if modulo(t(i),3)==0 then\n",
"        h(i)=1;\n",
"    else \n",
"        h(i)=0;\n",
"    end\n",
"    if t(i)<-1 then\n",
"        x(i)=0;\n",
"    elseif t(i)<0\n",
"        x(i)=1+t(i);\n",
"    elseif t(i)<1\n",
"        x(i)=1-t(i);\n",
"    else\n",
"        x(i)=0;\n",
"    end\n",
"end\n",
"y = convol(x,h);\n",
"figure\n",
"a=gca();\n",
"a.x_location='origin';\n",
"a.y_location='origin';\n",
"plot2d(t,h) \n",
"xtitle('Impulse Response','t','h(t)');\n",
"a.children.children.thickness = 3;\n",
"a.children.children.foreground= 2;\n",
"figure\n",
"a=gca();\n",
"a.x_location='origin';\n",
"a.y_location='origin';\n",
"plot2d(t,x) \n",
"xtitle('Input Response','t','x(t)');\n",
"a.children.children.thickness = 3;\n",
"a.children.children.foreground= 2;\n",
"figure\n",
"a=gca();\n",
"t1=-12:1/100:12;\n",
"a.y_location='origin';\n",
"a.x_location='origin';\n",
"plot2d(t1,y) \n",
"xtitle('Output Response','t','y(t)');\n",
"a.children.children.thickness = 3;\n",
"a.children.children.foreground= 2;"
   ]
   }
,
{
		   "cell_type": "markdown",
		   "metadata": {},
		   "source": [
			"## Example 2.7_b: convolution_of_two_rectangular_pulse.sce"
		   ]
		  },
  {
"cell_type": "code",
	   "execution_count": null,
	   "metadata": {
	    "collapsed": true
	   },
	   "outputs": [],
"source": [
"//Example 2.7:Convolution Integral \n",
"clear;\n",
"close;\n",
"clc;\n",
"t =-6:1/100:6;\n",
"for i=1:length(t)\n",
"    if modulo(t(i),2)==0 then\n",
"        h(i)=1;\n",
"    else \n",
"        h(i)=0;\n",
"    end\n",
"    if t(i)<-1 then\n",
"        x(i)=0;\n",
"    elseif t(i)<0\n",
"        x(i)=1+t(i);\n",
"    elseif t(i)<1\n",
"        x(i)=1-t(i);\n",
"    else\n",
"        x(i)=0;\n",
"    end\n",
"end\n",
"y = convol(x,h);\n",
"figure\n",
"a=gca();\n",
"a.x_location='origin';\n",
"a.y_location='origin';\n",
"plot2d(t,h) \n",
"xtitle('Impulse Response','t','h(t)');\n",
"a.children.children.thickness = 3;\n",
"a.children.children.foreground= 2;\n",
"figure\n",
"a=gca();\n",
"a.x_location='origin';\n",
"a.y_location='origin';\n",
"plot2d(t,x) \n",
"xtitle('Input Response','t','x(t)');\n",
"a.children.children.thickness = 3;\n",
"a.children.children.foreground= 2;\n",
"figure\n",
"a=gca();\n",
"t1=-12:1/100:12;\n",
"a.y_location='origin';\n",
"a.x_location='origin';\n",
"plot2d(t1,y) \n",
"xtitle('Output Response','t','y(t)');\n",
"a.children.children.thickness = 3;\n",
"a.children.children.foreground= 2;"
   ]
   }
,
{
		   "cell_type": "markdown",
		   "metadata": {},
		   "source": [
			"## Example 2.7_c: convolution_of_two_rectangular_pulse.sce"
		   ]
		  },
  {
"cell_type": "code",
	   "execution_count": null,
	   "metadata": {
	    "collapsed": true
	   },
	   "outputs": [],
"source": [
"//Example 2.7:Convolution Integral \n",
"clear;\n",
"close;\n",
"clc;\n",
"t =-6:1/100:6;\n",
"for i=1:length(t)\n",
"    if modulo(t(i),1.5)==0 then\n",
"        h(i)=1;\n",
"    else \n",
"        h(i)=0;\n",
"    end\n",
"    if t(i)<-1 then\n",
"        x(i)=0;\n",
"    elseif t(i)<0\n",
"        x(i)=1+t(i);\n",
"    elseif t(i)<1\n",
"        x(i)=1-t(i);\n",
"    else\n",
"        x(i)=0;\n",
"    end\n",
"end\n",
"y = convol(x,h);\n",
"figure\n",
"a=gca();\n",
"a.x_location='origin';\n",
"a.y_location='origin';\n",
"plot2d(t,h) \n",
"xtitle('Impulse Response','t','h(t)');\n",
"a.children.children.thickness = 3;\n",
"a.children.children.foreground= 2;\n",
"figure\n",
"a=gca();\n",
"a.x_location='origin';\n",
"a.y_location='origin';\n",
"plot2d(t,x) \n",
"xtitle('Input Response','t','x(t)');\n",
"a.children.children.thickness = 3;\n",
"a.children.children.foreground= 2;\n",
"figure\n",
"a=gca();\n",
"t1=-12:1/100:12;\n",
"a.y_location='origin';\n",
"a.x_location='origin';\n",
"b=find(t1==6.5);\n",
"c=find(t1==-6.5);\n",
"plot2d(t1(c:b),y(c:b)) \n",
"xtitle('Output Response','t','y(t)');\n",
"a.children.children.thickness = 3;\n",
"a.children.children.foreground= 2;"
   ]
   }
,
{
		   "cell_type": "markdown",
		   "metadata": {},
		   "source": [
			"## Example 2.8: periodic_convolution.sce"
		   ]
		  },
  {
"cell_type": "code",
	   "execution_count": null,
	   "metadata": {
	    "collapsed": true
	   },
	   "outputs": [],
"source": [
"//Example 2.8:Convolution Integral \n",
"clear;\n",
"close;\n",
"clc;\n",
"t =-4*10:1/100:4*10;\n",
"t2=-4:1/100:0;\n",
"for i=1:length(t2)\n",
"    if t2(i)<-2  then\n",
"        x(i)=1;\n",
"     else\n",
"        x(i)=0;\n",
"    end\n",
"end\n",
"fac=ceil(length(t)/length(t2));\n",
"s=[];\n",
"for i=1:fac;\n",
"   s=[s ;x];\n",
"end\n",
"y = convol(s,s)./2000;\n",
"figure\n",
"a=gca();\n",
"a.x_location='origin';\n",
"a.y_location='origin';\n",
"b=find(t==8);\n",
"c=find(t==-8);\n",
"plot2d(t(c:b),s(c:b)) \n",
"xtitle('Input Response','t','x(t)');\n",
"a.children.children.thickness = 3;\n",
"a.children.children.foreground= 2;\n",
"figure\n",
"a=gca();\n",
"t1=-8*10:1/100:8*10;\n",
"a.y_location='origin';\n",
"a.x_location='origin';\n",
"b=find(t1==8);\n",
"c=find(t1==-8);\n",
"plot2d(t1(c:b),y(c:b)) \n",
"xtitle('Output Response','t','y(t)');\n",
"a.children.children.thickness = 3;\n",
"a.children.children.foreground= 2;"
   ]
   }
,
{
		   "cell_type": "markdown",
		   "metadata": {},
		   "source": [
			"## Example 2.9: output_response.sce"
		   ]
		  },
  {
"cell_type": "code",
	   "execution_count": null,
	   "metadata": {
	    "collapsed": true
	   },
	   "outputs": [],
"source": [
"//Example 2.9:Convolution Integral \n",
"clear;\n",
"close;\n",
"clc;\n",
"t =-2:1/100:2;\n",
"for i=1:length(t)\n",
"    if t(i)<-1|t(i)>1 then\n",
"        x(i)=0;\n",
"    else\n",
"        x(i)=1;\n",
"    end\n",
"end\n",
"ty=-2:1/100:4;\n",
"for i=1:length(ty)\n",
"    if ty(i)<-1|ty(i)>3 then\n",
"        y(i)=0;\n",
"    elseif ty(i)<1\n",
"        y(i)=1+ty(i);\n",
"    else\n",
"        y(i)=3-ty(i);\n",
"    end\n",
"end\n",
"figure\n",
"a=gca();\n",
"a.x_location='origin';\n",
"a.y_location='origin';\n",
"plot2d(t,x) \n",
"xtitle('Input Response','t','x(t)');\n",
"a.children.children.thickness = 3;\n",
"a.children.children.foreground= 2;\n",
"figure\n",
"a=gca();\n",
"a.y_location='origin';\n",
"a.x_location='origin';\n",
"plot2d(ty,y) \n",
"xtitle('Output Response','t','y(t)');\n",
"a.children.children.thickness = 3;\n",
"a.children.children.foreground= 2;\n",
"//since it is a time invariant system for x(t-2) o/p is y(t-2)\n",
"ty1=ty+2;\n",
"figure\n",
"a=gca();\n",
"a.y_location='origin';\n",
"a.x_location='origin';\n",
"plot2d(ty1,y) \n",
"xtitle('Output Response','t','y(t-2)');\n",
"a.children.children.thickness = 3;\n",
"a.children.children.foreground= 2;\n",
"//since the system is linear,for x(t)/2 o/p is y(t)/2\n",
"figure\n",
"a=gca();\n",
"a.y_location='origin';\n",
"a.x_location='origin';\n",
"plot2d(ty,y./2) \n",
"xtitle('Output Response','t','.5*y(t)');\n",
"a.children.children.thickness = 3;\n",
"a.children.children.foreground= 2;"
   ]
   }
],
"metadata": {
		  "kernelspec": {
		   "display_name": "Scilab",
		   "language": "scilab",
		   "name": "scilab"
		  },
		  "language_info": {
		   "file_extension": ".sce",
		   "help_links": [
			{
			 "text": "MetaKernel Magics",
			 "url": "https://github.com/calysto/metakernel/blob/master/metakernel/magics/README.md"
			}
		   ],
		   "mimetype": "text/x-octave",
		   "name": "scilab",
		   "version": "0.7.1"
		  }
		 },
		 "nbformat": 4,
		 "nbformat_minor": 0
}
