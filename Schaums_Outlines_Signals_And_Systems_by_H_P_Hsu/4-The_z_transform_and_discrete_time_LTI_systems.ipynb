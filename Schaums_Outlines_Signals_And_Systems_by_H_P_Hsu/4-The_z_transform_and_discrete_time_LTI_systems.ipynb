{
"cells": [
 {
		   "cell_type": "markdown",
	   "metadata": {},
	   "source": [
       "# Chapter 4: The z transform and discrete time LTI systems"
	   ]
	},
{
		   "cell_type": "markdown",
		   "metadata": {},
		   "source": [
			"## Example 4.10: z_transform.sce"
		   ]
		  },
  {
"cell_type": "code",
	   "execution_count": null,
	   "metadata": {
	    "collapsed": true
	   },
	   "outputs": [],
"source": [
"clc;\n",
"syms n z n0 a;\n",
"X=symsum(-1*z^-n,n,n0,%inf)\n",
"disp(X,'u[n-n0] <-->')\n",
"X2=symsum(z^-n,n,n0,n0);\n",
"disp(X2,'delta[n-n0] <-->')\n",
"X=symsum((a)^(n+1)*z^-n,n,-1,%inf)\n",
"disp(X,'a^(n+1)*u[n+1] <-->')\n",
"X=symsum(1*z^-n,n,-%inf,0)\n",
"disp(X,'u[-n] <-->')\n",
"X=symsum(a^-n*z^-n,n,-%inf,0)\n",
"disp(X,'a^-n*u[-n] <-->')"
   ]
   }
,
{
		   "cell_type": "markdown",
		   "metadata": {},
		   "source": [
			"## Example 4.12: differentiation_property.sce"
		   ]
		  },
  {
"cell_type": "code",
	   "execution_count": null,
	   "metadata": {
	    "collapsed": true
	   },
	   "outputs": [],
"source": [
"clc;\n",
"syms n z a;\n",
"X=symsum(a^n*z^-n,n,0,%inf)\n",
"disp(X,'a^n*u[n] <-->')\n",
"//by differentiation of z property\n",
"Xn=-z*diff(X,z);\n",
"disp(Xn,'n*a^n*u[n] <-->')\n",
"Xa=diff(X,a);\n",
"disp(Xa,'n*a^(n-1)*u[n] <-->')"
   ]
   }
,
{
		   "cell_type": "markdown",
		   "metadata": {},
		   "source": [
			"## Example 4.15: inverse_z_transform.sce"
		   ]
		  },
  {
"cell_type": "code",
	   "execution_count": null,
	   "metadata": {
	    "collapsed": true
	   },
	   "outputs": [],
"source": [
"clear;\n",
"clc;\n",
"syms z;\n",
"X=[z^2 .5*z -5/2 z^-1];\n",
"n=-2:1;\n",
"a=size(X);\n",
"for i = 1:a(2)\n",
"    x(i)=X(i)*(z^n(i));\n",
"end\n",
"disp(x,'x[n]=')"
   ]
   }
,
{
		   "cell_type": "markdown",
		   "metadata": {},
		   "source": [
			"## Example 4.16: inverse_z_transform.sce"
		   ]
		  },
  {
"cell_type": "code",
	   "execution_count": null,
	   "metadata": {
	    "collapsed": true
	   },
	   "outputs": [],
"source": [
"clear;\n",
"clc;\n",
"z = %z;\n",
"a=5;\n",
"syms n z1;\n",
"X  =1/(1-a*z^-1);\n",
"X1 = denom(X);\n",
"zp = roots(X1);\n",
"X1 = 1/(1-a*z1^-1);\n",
"F = X1*(z1^(n-1))*(z1-zp(1));\n",
"ha = limit(F,z1,zp(1));\n",
"disp(ha*'u(n)','han]=')\n",
"a=.5\n",
"X  =1/(1-a*z^-1);\n",
"X1 = denom(X);\n",
"zp = roots(X1);\n",
"X1 = 1/(1-a*z1^-1);\n",
"F = X1*(z1^(n-1))*(z1-zp(1));\n",
"hb = limit(F,z1,zp(1));\n",
"disp(hb*'-u(-n-1)','hb[n]=')"
   ]
   }
,
{
		   "cell_type": "markdown",
		   "metadata": {},
		   "source": [
			"## Example 4.18_a: power_series_expansion_technique.sce"
		   ]
		  },
  {
"cell_type": "code",
	   "execution_count": null,
	   "metadata": {
	    "collapsed": true
	   },
	   "outputs": [],
"source": [
"z=%z;\n",
"x=ldiv(z,2*z^2-3*z+1,5)\n",
"for i=5:-1:1\n",
"    y(6-i)=x(i)*2^i;\n",
"end\n",
"mprintf('x[n]={ . . . . %d %d %d %d 0}',y(2),y(3),y(4),y(5))"
   ]
   }
,
{
		   "cell_type": "markdown",
		   "metadata": {},
		   "source": [
			"## Example 4.18_b: power_series_expansion_technique.sce"
		   ]
		  },
  {
"cell_type": "code",
	   "execution_count": null,
	   "metadata": {
	    "collapsed": true
	   },
	   "outputs": [],
"source": [
"z=%z;\n",
"x=ldiv(z,2*z^2-3*z+1,5);\n",
"mprintf('x[n]={0,%.2f,%.2f,%.2f,....}',x(1),x(2),x(3));"
   ]
   }
,
{
		   "cell_type": "markdown",
		   "metadata": {},
		   "source": [
			"## Example 4.19: inverse_z_transform.sce"
		   ]
		  },
  {
"cell_type": "code",
	   "execution_count": null,
	   "metadata": {
	    "collapsed": true
	   },
	   "outputs": [],
"source": [
"z = %z;\n",
"syms n z1;//To find out Inverse z transform z must be linear z = z1\n",
"X  =z*.5/((z-(1/2))*(z-1))\n",
"X1 = denom(X);\n",
"zp = roots(X1);\n",
"X1 = z1*.5/((z1-(1/2))*(z1-1))\n",
"F1 = X1*(z1^(n-1))*(z1-zp(1));\n",
"F2 = X1*(z1^(n-1))*(z1-zp(2));\n",
"x1 = limit(F1,z1,zp(1));\n",
"disp(x1,'x1[n]=')\n",
"x2 = limit(F2,z1,zp(2));\n",
"disp(x2,'x2[n]=')\n",
"x = x1+x2;\n",
"disp(x,'x[n]=')\n",
"//a) when |z|<.5\n",
"n=-10:0;\n",
"disp(-x*'u(-n-1)','when |z|<1/2 x[n]=')\n",
"xn=-(1-2^-n);\n",
"mprintf('x[n]={....,%.2f,%.2f,%.2f,0}',xn($-3),xn($-2),xn($-1));\n",
"//b) when |z|>1\n",
"n=0:10;\n",
"disp(x*'u(n)','when |z|>1 x[n]=')\n",
"xn=(1-2^-n);\n",
"mprintf('x[n]={%.2f,%.2f,%.2f...}',xn(1),xn(2),xn(3));"
   ]
   }
,
{
		   "cell_type": "markdown",
		   "metadata": {},
		   "source": [
			"## Example 4.1_a: z_transform.sce"
		   ]
		  },
  {
"cell_type": "code",
	   "execution_count": null,
	   "metadata": {
	    "collapsed": true
	   },
	   "outputs": [],
"source": [
"clear;\n",
"clc;\n",
"syms n z a;\n",
"x=a^n;\n",
"X=symsum(-x*z^-n,n,-%inf,-1)\n",
"disp(X,'ans=')"
   ]
   }
,
{
		   "cell_type": "markdown",
		   "metadata": {},
		   "source": [
			"## Example 4.1_b: z_transform.sce"
		   ]
		  },
  {
"cell_type": "code",
	   "execution_count": null,
	   "metadata": {
	    "collapsed": true
	   },
	   "outputs": [],
"source": [
"clear;\n",
"clc;\n",
"syms n z a;\n",
"x=a^-n;\n",
"X=symsum(x*z^-n,n,-%inf,-1)\n",
"disp(X,'ans=')"
   ]
   }
,
{
		   "cell_type": "markdown",
		   "metadata": {},
		   "source": [
			"## Example 4.20: inverse_z_transform.sce"
		   ]
		  },
  {
"cell_type": "code",
	   "execution_count": null,
	   "metadata": {
	    "collapsed": true
	   },
	   "outputs": [],
"source": [
"z = %z;\n",
"syms n z1;\n",
"X  =z/((z-1)*(z-2)^2);\n",
"X1 = denom(X);\n",
"zp = roots(X1);\n",
"X1 = z1/((z1-1)*(z1-2)^2);\n",
"F1 = X1/z1*(z1-zp(3))^2;\n",
"F2 = X1/z1*(z1-zp(1));\n",
"Y2 = limit(F1,z1,zp(3));\n",
"C1 = limit(F2,z1,zp(1));\n",
"F3=(X1/z1-(Y2*F1+C1*F2))*(z1-zp(3));\n",
"Y1 = limit(F3,z1,0);\n",
"\n",
"Xa=z1/(z1-zp(1));\n",
"F2 = Xa*z1^(n-1)*(z1-zp(1));\n",
"x1=limit(F2,z1,zp(1));\n",
"Xb=z1/(z1-zp(3));\n",
"F1= Xb*z1^(n-1)*(z1-zp(3));\n",
"x2 =limit(F1,z1,zp(3));\n",
"//x3 is differntiation of x2 w.r.t a where a is x2=a^n\n",
"x3=n*2^(n-1);\n",
"x=C1*x1+Y1*x2+Y2*x3;\n",
"disp(x*'u(n)','x[n]=');"
   ]
   }
,
{
		   "cell_type": "markdown",
		   "metadata": {},
		   "source": [
			"## Example 4.21: inverse_z_transform.sce"
		   ]
		  },
  {
"cell_type": "code",
	   "execution_count": null,
	   "metadata": {
	    "collapsed": true
	   },
	   "outputs": [],
"source": [
"z = %z;\n",
"syms n z1 ;\n",
"X  =1/((z-1)*(z-2));\n",
"//Xz=2z+1+X;\n",
"X1 = denom(X);\n",
"zp = roots(X1);\n",
"X1 = 1/((z1-1)*(z1-2));\n",
"F1 = X1*(z1^(n-1))*(z1-zp(1));\n",
"F2 = X1*(z1^(n-1))*(z1-zp(2));\n",
"x1 = limit(F1,z1,zp(1));\n",
"disp(x1,'x1[n]=')\n",
"x2 = limit(F2,z1,zp(2));\n",
"disp(x2,'x2[n]=')\n",
"x = x1+x2;\n",
"disp(x,'xt[n]=')\n",
"disp(x*'-u(-n-1)'+'2*delta(n+1)+3/4*delta(n)','x[n]=')"
   ]
   }
,
{
		   "cell_type": "markdown",
		   "metadata": {},
		   "source": [
			"## Example 4.22: inverse_z_transform.sce"
		   ]
		  },
  {
"cell_type": "code",
	   "execution_count": null,
	   "metadata": {
	    "collapsed": true
	   },
	   "outputs": [],
"source": [
"clc;\n",
"z = %z;\n",
"syms n z1 ;\n",
"X  =3/(z-2);\n",
"X1 = denom(X);\n",
"zp = roots(X1);\n",
"X1 = 3/(z1-2);\n",
"F1 = X1*(z1^(n-1))*(z1-zp(1));\n",
"x1 = limit(F1,z1,zp(1));\n",
"disp(x1,'x1[n]=')\n",
"disp(x1*'u(n-1)','x[n]=')"
   ]
   }
,
{
		   "cell_type": "markdown",
		   "metadata": {},
		   "source": [
			"## Example 4.23: inverse_z_transform.sce"
		   ]
		  },
  {
"cell_type": "code",
	   "execution_count": null,
	   "metadata": {
	    "collapsed": true
	   },
	   "outputs": [],
"source": [
"clc;\n",
"z = %z;\n",
"syms n z1 ;\n",
"X  =z/((z+1)*(z+3));\n",
"X1 = denom(X);\n",
"zp = roots(X1);\n",
"X1 = z1/((z1+1)*(z1+3));\n",
"F1 = X1*(z1^(n-1))*(z1-zp(1));\n",
"F2 = X1*(z1^(n-1))*(z1-zp(2));\n",
"x1 = limit(F1,z1,zp(1));\n",
"disp(x1,'x1[n]=')\n",
"x2 = limit(F2,z1,zp(2));\n",
"disp(x2,'x2[n]=')\n",
"xt = x1+x2;\n",
"disp(xt*'u(n)','xt[n]=')\n",
"//x[n]=2*xt[n-1]+xt[n-3]+3*xt[n-5];F1 = X1*(z1^(n-1))*(z1-zp(1));\n",
"F1 = X1*(z1^(n-2))*(z1-zp(1));\n",
"F2 = X1*(z1^(n-2))*(z1-zp(2));\n",
"x1 = limit(F1,z1,zp(1));\n",
"disp(x1,'x1[n]=')\n",
"x2 = limit(F2,z1,zp(2));\n",
"disp(x2,'x2[n]=')\n",
"xt1 = x1+x2;\n",
"F1 = X1*(z1^(n-4))*(z1-zp(1));\n",
"F2 = X1*(z1^(n-4))*(z1-zp(2));\n",
"x1 = limit(F1,z1,zp(1));\n",
"disp(x1,'x1[n]=')\n",
"x2 = limit(F2,z1,zp(2));\n",
"disp(x2,'x2[n]=')\n",
"xt3 = x1+x2;\n",
"F1 = X1*(z1^(n-6))*(z1-zp(1));\n",
"F2 = X1*(z1^(n-6))*(z1-zp(2));\n",
"x1 = limit(F1,z1,zp(1));\n",
"disp(x1,'x1[n]=')\n",
"x2 = limit(F2,z1,zp(2));\n",
"disp(x2,'x2[n]=')\n",
"xt5 = x1+x2;\n",
"disp(2*xt1*'u(n-1)'+xt3*'u(n-3)'+3*xt5*'u(n-5)','x[n]')"
   ]
   }
,
{
		   "cell_type": "markdown",
		   "metadata": {},
		   "source": [
			"## Example 4.25: inverse_z_transform.sce"
		   ]
		  },
  {
"cell_type": "code",
	   "execution_count": null,
	   "metadata": {
	    "collapsed": true
	   },
	   "outputs": [],
"source": [
"clc;\n",
"syms n z a;\n",
"X=symsum(-1*z^-n,n,0,%inf)\n",
"disp(X,'u[n] <-->')\n",
"h=a^n;\n",
"H=symsum(h*z^-n,n,0,%inf)\n",
"disp(H,'H(z)=')\n",
"Y=X*H;\n",
"disp(Y,'Y(z)=')\n",
"Y=z^2/((z-1)*(z-a));\n",
"F1=Y*z^(n-1)*(z-a);\n",
"F2=Y*z^(n-1)*(z-1);\n",
"x1=limit(F1,z,a);\n",
"x2=limit(F2,z,1);\n",
"x=x1+x2;\n",
"disp(x*'u(n)','x[n]=')"
   ]
   }
,
{
		   "cell_type": "markdown",
		   "metadata": {},
		   "source": [
			"## Example 4.26: output_response.sce"
		   ]
		  },
  {
"cell_type": "code",
	   "execution_count": null,
	   "metadata": {
	    "collapsed": true
	   },
	   "outputs": [],
"source": [
"clc;\n",
"syms n z a b;\n",
"x=a^n;\n",
"X=symsum(x*z^-n,n,0,%inf)\n",
"disp(X,'a^n*u[n] <-->')\n",
"h=b^n;\n",
"H=symsum(h*z^-n,n,0,%inf)\n",
"disp(H,'H(z)=')\n",
"Y=X*H;\n",
"disp(Y,'Y(z)=')\n",
"Y=z^2/((z-a)*(z-b));\n",
"F1=Y*(z-a)*z^(n-1);\n",
"F2=Y*(z-b)*z^(n-1);\n",
"x1=limit(F1,z,a);\n",
"x2=limit(F2,z,b);\n",
"x=x1+x2;\n",
"disp(x*'u(n)','x[n]=')"
   ]
   }
,
{
		   "cell_type": "markdown",
		   "metadata": {},
		   "source": [
			"## Example 4.27: output_response.sce"
		   ]
		  },
  {
"cell_type": "code",
	   "execution_count": null,
	   "metadata": {
	    "collapsed": true
	   },
	   "outputs": [],
"source": [
"clc;\n",
"x=[1 1 1 1];\n",
"h=[1 1 1];\n",
"Xz=0;\n",
"z=poly(0,'z');\n",
"for i=1:length(x)\n",
"    Xz=Xz+x(i)*z^(1-i);\n",
"end\n",
"Hz=0;\n",
"for i=1:length(h)\n",
"    Hz=Hz+h(i)*z^(1-i);\n",
"end\n",
"Yz=Xz*Hz;\n",
"y=coeff(numer(Yz))\n",
"disp(y,'y[n]=')"
   ]
   }
,
{
		   "cell_type": "markdown",
		   "metadata": {},
		   "source": [
			"## Example 4.28: impulse_response.sce"
		   ]
		  },
  {
"cell_type": "code",
	   "execution_count": null,
	   "metadata": {
	    "collapsed": true
	   },
	   "outputs": [],
"source": [
"clc;\n",
"syms n z a;\n",
"X=symsum(1*z^-n,n,0,%inf)\n",
"disp(X,'u[n] <-->')\n",
"y=a^n;\n",
"Y=symsum(y*z^-n,n,0,%inf)\n",
"disp(Y,'a^n*u[n] <-->')\n",
"H=Y/X;\n",
"disp(H,'H(z)=');\n",
"H=(z-1)/(z-a);\n",
"F1=H*z^(n-1)*(z-a);\n",
"h=limit(F1,z,a);\n",
"disp(h*'u(n)'+'1/a*delta(n)','h[n]=')"
   ]
   }
,
{
		   "cell_type": "markdown",
		   "metadata": {},
		   "source": [
			"## Example 4.29: impulse_response_and_output.sce"
		   ]
		  },
  {
"cell_type": "code",
	   "execution_count": null,
	   "metadata": {
	    "collapsed": true
	   },
	   "outputs": [],
"source": [
"clc;\n",
"syms n z1 z;\n",
"z=%z;\n",
"X=symsum(1*z1^-n,n,0,%inf)\n",
"disp(X,'u[n] <-->')\n",
"y=2*3^-n;\n",
"Y=symsum(y*z1^-n,n,0,%inf)\n",
"disp(Y,'Y(z)=')\n",
"H=Y/X;\n",
"disp(H,'H(z)=')\n",
"Hz=2*(z-1)/(z-1/3);\n",
"Hd=denom(Hz);\n",
"zp=roots(Hd);\n",
"Hz=2*(z1-1)/(z1-1/3);\n",
"F1 = Hz*(z1^(n-1))*(z1-zp(1));\n",
"x1 = limit(F1,z1,zp(1));\n",
"disp(x1,'x1[n]=')\n",
"x =x1;\n",
"disp(x*'u(n)'+'6*delta(n)','y[n]=');\n",
"disp('part b')\n",
"x=(1/2)^n;\n",
"X=symsum(x*z1^-n,n,0,%inf)\n",
"disp(X,'X(z)')\n",
"Yz=X*Hz;\n",
"disp(Yz,'Y(z)=')\n",
"Yz=2*z1*(z1-1)/((z1-1/2)*(z1-1/3));\n",
"F1 = Yz*(z1^(n-1))*(z1-1/2);\n",
"F2 = Yz*(z1^(n-1))*(z1-1/3);\n",
"y1 = limit(F1,z1,1/2);\n",
"disp(y1,'y1[n]=')\n",
"y2 = limit(F2,z1,1/3);\n",
"disp(y2,'y2[n]=')\n",
"y = y1+y2;\n",
"disp(y*'u(n)','y[n]=')"
   ]
   }
,
{
		   "cell_type": "markdown",
		   "metadata": {},
		   "source": [
			"## Example 4.31: impulse_response.sce"
		   ]
		  },
  {
"cell_type": "code",
	   "execution_count": null,
	   "metadata": {
	    "collapsed": true
	   },
	   "outputs": [],
"source": [
"clear;\n",
"clc;\n",
"syms n z1 a b;\n",
"h=a^n;\n",
"H=symsum(h*z1^-n,n,0,%inf)\n",
"disp(H,'H(z)');\n",
"disp('since |z|>|a| z=%inf is included hence the system is causal')\n",
"disp('if |a|<1 then the ROC of H(z) contains the unit circle and hence the      system will be stable')"
   ]
   }
,
{
		   "cell_type": "markdown",
		   "metadata": {},
		   "source": [
			"## Example 4.32: impulse_and_step_response.sce"
		   ]
		  },
  {
"cell_type": "code",
	   "execution_count": null,
	   "metadata": {
	    "collapsed": true
	   },
	   "outputs": [],
"source": [
"z = %z;\n",
"syms n z1;//To find out Inverse z transform z must be linear z = z1\n",
"X  =z^2/((z-(1/4))*(z-(1/2)))\n",
"X1 = denom(X);\n",
"zp = roots(X1);\n",
"X1 = z1^2/((z1-(1/4))*(z1-(1/2)))\n",
"F1 = X1*(z1^(n-1))*(z1-zp(1));\n",
"F2 = X1*(z1^(n-1))*(z1-zp(2));\n",
"h1 = limit(F1,z1,zp(1));\n",
"disp(h1,'h1[n]=')\n",
"h2 = limit(F2,z1,zp(2));\n",
"disp(h2,'h2[n]=')\n",
"h = h1+h2;\n",
"disp(h,'h[n]=')\n",
"//step response\n",
"Xz = z/(z-1);//u[n]\n",
"Y  = Xz*X;\n",
"Y1 = denom(Y);\n",
"zp = roots(Y1);\n",
"Y1 = z1^3/((z1-1)*(z1-(1/4))*(z1-(1/2)))\n",
"F1 = Y1*(z1^(n-1))*(z1-zp(1));\n",
"F2 = Y1*(z1^(n-1))*(z1-zp(2));\n",
"F3=  Y1*(z1^(n-1))*(z1-zp(3));\n",
"y1 = limit(F1,z1,zp(1));\n",
"disp(y1,'y1[n]=')\n",
"y2 = limit(F2,z1,zp(2));\n",
"disp(y2,'y2[n]=')\n",
"y3 = limit(F3,z1,zp(3));\n",
"disp(y3,'y3[n]=')\n",
"y = y1+y2+y3;\n",
"disp(y*'u(n)','y[n]=')"
   ]
   }
,
{
		   "cell_type": "markdown",
		   "metadata": {},
		   "source": [
			"## Example 4.35: unilateral_z_transform.sce"
		   ]
		  },
  {
"cell_type": "code",
	   "execution_count": null,
	   "metadata": {
	    "collapsed": true
	   },
	   "outputs": [],
"source": [
"//unilateral z-transform\n",
"clear;\n",
"clc;\n",
"syms n z a;\n",
"x=a^n;\n",
"X=symsum(x*z^-n,n,0,%inf)\n",
"disp(X,'ans=')\n",
"//x[n]=a^(n+1)*u[n+1]\n",
"x=a^(n+1);\n",
"X=symsum(x*z^-n,n,0,%inf)\n",
"disp(X,'ans=')"
   ]
   }
,
{
		   "cell_type": "markdown",
		   "metadata": {},
		   "source": [
			"## Example 4.37: unilateral_z_transform_method.sce"
		   ]
		  },
  {
"cell_type": "code",
	   "execution_count": null,
	   "metadata": {
	    "collapsed": true
	   },
	   "outputs": [],
"source": [
"clc;\n",
"clear;\n",
"syms n z a b y1 K;\n",
"Yz=a*y1*(z/(z-a))+K*z^2/((z-b)*(z-a));\n",
"//y1=y[-1]\n",
"Y1=z/(z-a);\n",
"Y2=z^2/((z-b)*(z-a));\n",
"FY1=Y1*z^(n-1)*(z-a);\n",
"y1n= limit(FY1,z,a);\n",
"FY21 = Y2*(z^(n-1))*(z-a);\n",
"FY22 = Y2*(z^(n-1))*(z-b);\n",
"y21n = limit(FY21,z,a);\n",
"y22n = limit(FY22,z,b);\n",
"y=a*y1*y1n+K*(y22n+y21n);\n",
"disp(y*'u(n)','y[n]=')"
   ]
   }
,
{
		   "cell_type": "markdown",
		   "metadata": {},
		   "source": [
			"## Example 4.38: difference_equation.sce"
		   ]
		  },
  {
"cell_type": "code",
	   "execution_count": null,
	   "metadata": {
	    "collapsed": true
	   },
	   "outputs": [],
"source": [
"clear;\n",
"clc;\n",
"syms z n ;\n",
"x=(1/3)^n;\n",
"X=symsum(x*z^-n,n,0,%inf)\n",
"disp(X,'X(z)=')\n",
"Xz=z/(z-1/3);\n",
"Yz=z/(2*(z-1/2))+z^2/((z-1/3)*(z-1/2));\n",
"//y[-1]=1\n",
"Y1=z/(z-1/2);\n",
"Y2=z^2/((z-1/3)*(z-1/2));\n",
"FY1=Y1*z^(n-1)*(z-1/2);\n",
"y1n= limit(FY1,z,1/2);\n",
"FY21 = Y2*(z^(n-1))*(z-1/2);\n",
"FY22 = Y2*(z^(n-1))*(z-1/3);\n",
"y21n = limit(FY21,z,1/2);\n",
"y22n = limit(FY22,z,1/3);\n",
"y=(1/2)*y1n+(y22n+y21n);\n",
"disp(y*'u(n+1)','part a) y[n]=')\n",
"//b)\n",
"x=(1/2)^n;\n",
"X=symsum(x*z^-n,n,0,%inf)\n",
"disp(X,'X(z)=')\n",
"Xz=z/(z-1/2);\n",
"Yz=z*(3*z^2-2*z+.5)/(3*(z-1)*(z-1/2)*(z-1/3));\n",
"//y[-1]=1 y[-2]=2\n",
"F1 = Yz*(z^(n-1))*(z-1);\n",
"F2 = Yz*(z^(n-1))*(z-1/2);\n",
"F3=  Yz*(z^(n-1))*(z-1/3);\n",
"y1 = limit(F1,z,1);\n",
"disp(y1,'y1[n]=')\n",
"y2 = limit(F2,z,1/2);\n",
"disp(y2,'y2[n]=')\n",
"y3 = limit(F3,z,1/3);\n",
"disp(y3,'y3[n]=')\n",
"y = y1+y2+y3;\n",
"disp(y*'u(n+2)','y[n]=')"
   ]
   }
,
{
		   "cell_type": "markdown",
		   "metadata": {},
		   "source": [
			"## Example 4.3: finite_sequence_z_transform.sce"
		   ]
		  },
  {
"cell_type": "code",
	   "execution_count": null,
	   "metadata": {
	    "collapsed": true
	   },
	   "outputs": [],
"source": [
"clear;\n",
" clc;\n",
" syms n z X;\n",
" x=[5 3 -2 0 4 -3]\n",
" X=0;\n",
" for i=-2:3;\n",
"     X=X+x(i+3)*z^-i\n",
" end\n",
" "
   ]
   }
,
{
		   "cell_type": "markdown",
		   "metadata": {},
		   "source": [
			"## Example 4.4: pole_zero_plot.sce"
		   ]
		  },
  {
"cell_type": "code",
	   "execution_count": null,
	   "metadata": {
	    "collapsed": true
	   },
	   "outputs": [],
"source": [
"clear;\n",
"clc;\n",
"syms N n z a;\n",
"x=a^n;\n",
"X=symsum(x*z^-n,n,0,N-1)\n",
"//pole zero map for N=8,a=2,\n",
"z=%s;\n",
"X1=%s;\n",
"X1=0;\n",
"for i=0:7\n",
"    X1=X1+(2*z^-1)^i\n",
"end\n",
"plzr(X1)"
   ]
   }
,
{
		   "cell_type": "markdown",
		   "metadata": {},
		   "source": [
			"## Example 4.6_a: z_transform_and_pole_zero_plot.sce"
		   ]
		  },
  {
"cell_type": "code",
	   "execution_count": null,
	   "metadata": {
	    "collapsed": true
	   },
	   "outputs": [],
"source": [
"clear;\n",
"clc;\n",
"syms n z;\n",
"x1=(1/2)^n;\n",
"X1=symsum(x1*(z^-n),n,0,%inf)\n",
"x2=3^-n;\n",
"X2=symsum(x2*(z^-n),n,0,%inf)\n",
"X=X1+X2\n",
"z=%s;\n",
"XX=%s;\n",
"XX=z/(z-.5)+z/(z-(1/3));\n",
"plzr(XX)\n",
"a=denom(XX)\n",
"b=roots(a)\n",
"i=1;\n",
"for theta=0:1/50:360 \n",
"    rx(i)=.5*cos(theta);\n",
"    ry(i)=.5*sin(theta);\n",
"    i=i+1;\n",
"end\n",
"plot(rx,ry)\n",
"// the region outside blue circle indicates roc"
   ]
   }
,
{
		   "cell_type": "markdown",
		   "metadata": {},
		   "source": [
			"## Example 4.6_b: z_transform_and_pole_zero_plot.sce"
		   ]
		  },
  {
"cell_type": "code",
	   "execution_count": null,
	   "metadata": {
	    "collapsed": true
	   },
	   "outputs": [],
"source": [
"clear;\n",
"clc;\n",
"syms n z;\n",
"x1=(1/2)^n;\n",
"X1=symsum(x1*(z^-n),n,-%inf,-1)\n",
"x2=3^-n;\n",
"X2=symsum(x2*(z^-n),n,0,%inf)\n",
"X=X1+X2\n",
"z=%s;\n",
"XX=%s;\n",
"XX=-z/(z-.5)+z/(z-(1/3));\n",
"plzr(XX)\n",
"a=denom(XX)\n",
"b=roots(a)\n",
"i=1;\n",
"for theta=0:1/50:360 \n",
"    rx(i)=b(1)*cos(theta);\n",
"    ry(i)=b(1)*sin(theta);\n",
"    i=i+1;\n",
"end\n",
"plot(rx,ry)\n",
"i=1;\n",
"for theta=0:1/50:360 \n",
"    rx(i)=b(2)*cos(theta);\n",
"    ry(i)=b(2)*sin(theta);\n",
"    i=i+1;\n",
"end\n",
"plot(rx,ry)\n",
"// the region between the blue circles indicates roc"
   ]
   }
,
{
		   "cell_type": "markdown",
		   "metadata": {},
		   "source": [
			"## Example 4.6_c: z_transform_and_pole_zero_plot.sce"
		   ]
		  },
  {
"cell_type": "code",
	   "execution_count": null,
	   "metadata": {
	    "collapsed": true
	   },
	   "outputs": [],
"source": [
"clear;\n",
"clc;\n",
"syms n z;\n",
"x1=(1/2)^n;\n",
"X1=symsum(x1*(z^-n),n,-%inf,-1)\n",
"x2=3^-n;\n",
"X2=symsum(x2*(z^-n),n,0,%inf)\n",
"//we see that the ROC of X1 and X2 donot overlap therefore X(z)does not exists"
   ]
   }
,
{
		   "cell_type": "markdown",
		   "metadata": {},
		   "source": [
			"## Example 4.7: pole_zero_plot.sce"
		   ]
		  },
  {
"cell_type": "code",
	   "execution_count": null,
	   "metadata": {
	    "collapsed": true
	   },
	   "outputs": [],
"source": [
"clear ;\n",
"clear x;\n",
"clear n;\n",
"clc;\n",
"//0<a<1\n",
"a=.7 ;\n",
"n=-10:10;\n",
"for i=1:length(n)\n",
"    if n(i)>0 then\n",
"        x(i)=a^n(i);\n",
"    else\n",
"        x(i)=a^-n(i);\n",
"    end\n",
"end\n",
"figure\n",
"a=gca();\n",
"a.x_location='origin'; \n",
"xtitle('x[n] for a<1','n','x[n]');\n",
"a.thickness = 2;\n",
"plot2d3(n,x)\n",
"plot(n,x,'r.')\n",
"//a>1\n",
"a=1.3;\n",
"for i=1:length(n)\n",
"    if n(i)>0 then\n",
"        x(i)=a^n(i);\n",
"    else\n",
"        x(i)=a^-n(i);\n",
"    end\n",
"end\n",
"figure\n",
"a=gca();\n",
"a.x_location='origin'; \n",
"xtitle('x[n] for a>1','n','x[n]');\n",
"a.thickness = 2;\n",
"plot2d3(n,x)\n",
"plot(n,x,'r.')\n",
"//|z|>a  then X(z)=z/(z-a) if |z|<1/a then X(z)=-z/(z-1/a)\n",
"z=%s;\n",
"a=.5;\n",
"xx=z/(z-a)-z/(z-(1/a));\n",
"figure\n",
"plzr(xx);\n",
"d=denom(xx);\n",
"r=roots(d);\n",
"i=1;\n",
"for theta=0:1/50:360 \n",
"    rx(i)=r(1)*cos(theta);\n",
"    ry(i)=r(1)*sin(theta);\n",
"    i=i+1;\n",
"end\n",
"plot(rx,ry)\n",
"i=1;\n",
"for theta=0:1/50:360 \n",
"    rx(i)=r(2)*cos(theta);\n",
"    ry(i)=r(2)*sin(theta);\n",
"    i=i+1;\n",
"end\n",
"plot(rx,ry)\n",
"//the region between the blue lines is the ROC"
   ]
   }
],
"metadata": {
		  "kernelspec": {
		   "display_name": "Scilab",
		   "language": "scilab",
		   "name": "scilab"
		  },
		  "language_info": {
		   "file_extension": ".sce",
		   "help_links": [
			{
			 "text": "MetaKernel Magics",
			 "url": "https://github.com/calysto/metakernel/blob/master/metakernel/magics/README.md"
			}
		   ],
		   "mimetype": "text/x-octave",
		   "name": "scilab",
		   "version": "0.7.1"
		  }
		 },
		 "nbformat": 4,
		 "nbformat_minor": 0
}
