{
"cells": [
 {
		   "cell_type": "markdown",
	   "metadata": {},
	   "source": [
       "# Chapter 7: state space analysis"
	   ]
	},
{
		   "cell_type": "markdown",
		   "metadata": {},
		   "source": [
			"## Example 7.11: state_equation_for_discrete_time_system.sce"
		   ]
		  },
  {
"cell_type": "code",
	   "execution_count": null,
	   "metadata": {
	    "collapsed": true
	   },
	   "outputs": [],
"source": [
"clc;\n",
"clear;\n",
"close;\n",
"z=%s;\n",
"Hz=syslin('d',(z/(2*z^2-3*z+1)));\n",
"ss=tf2ss(Hz)\n",
"disp(ss)"
   ]
   }
,
{
		   "cell_type": "markdown",
		   "metadata": {},
		   "source": [
			"## Example 7.14: state_equation_for_continuous_time_system.sce"
		   ]
		  },
  {
"cell_type": "code",
	   "execution_count": null,
	   "metadata": {
	    "collapsed": true
	   },
	   "outputs": [],
"source": [
"clc;\n",
"close\n",
"clear;\n",
"s=%s;\n",
"tf=syslin('c',(1/(s^2+3*s+2)));\n",
"ss=tf2ss(tf);"
   ]
   }
,
{
		   "cell_type": "markdown",
		   "metadata": {},
		   "source": [
			"## Example 7.15: state_equation_for_continuous_time_system.sce"
		   ]
		  },
  {
"cell_type": "code",
	   "execution_count": null,
	   "metadata": {
	    "collapsed": true
	   },
	   "outputs": [],
"source": [
"clc;\n",
"close\n",
"clear;\n",
"s=%s;\n",
"tf=syslin('c',((4*s+1)/(s^2+3*s+2)));\n",
"ss=tf2ss(tf);\n",
"disp(ss)"
   ]
   }
,
{
		   "cell_type": "markdown",
		   "metadata": {},
		   "source": [
			"## Example 7.16: state_equation_for_continuous_time_system.sce"
		   ]
		  },
  {
"cell_type": "code",
	   "execution_count": null,
	   "metadata": {
	    "collapsed": true
	   },
	   "outputs": [],
"source": [
"clc;\n",
"close\n",
"clear;\n",
"s=%s;\n",
"b0=1;\n",
"b1=2;\n",
"b2=3;\n",
"b3=4;\n",
"a1=5;\n",
"a2=6;\n",
"a3=7;\n",
"tf=syslin('d',((b0*s^3+b1*s^2+b2*s^1+b3)/(s^3+a1*s^2+a2*s+a3)));\n",
"ss=tf2ss(tf);\n",
"disp(ss)"
   ]
   }
,
{
		   "cell_type": "markdown",
		   "metadata": {},
		   "source": [
			"## Example 7.18: state_equation_for_continuous_time_system.sce"
		   ]
		  },
  {
"cell_type": "code",
	   "execution_count": null,
	   "metadata": {
	    "collapsed": true
	   },
	   "outputs": [],
"source": [
"clc;\n",
"close\n",
"clear;\n",
"s=%s;\n",
"tf=syslin('c',((3*s+7)/((s+1)*(s+2)*(s+5))));\n",
"ss=tf2ss(tf);\n",
"disp(ss)"
   ]
   }
,
{
		   "cell_type": "markdown",
		   "metadata": {},
		   "source": [
			"## Example 7.20: A_power.sce"
		   ]
		  },
  {
"cell_type": "code",
	   "execution_count": null,
	   "metadata": {
	    "collapsed": true
	   },
	   "outputs": [],
"source": [
"clc;\n",
"syms n;\n",
"A=[0 1;-1/8 3/4];\n",
"e=spec(A);\n",
"b1=(e(2)^n-e(1)^n)/(e(2)-e(1));\n",
"b0=e(2)^n-b1*e(2);\n",
"An=b0*eye(A)+b1*A;\n",
"disp(An,'A^n')"
   ]
   }
,
{
		   "cell_type": "markdown",
		   "metadata": {},
		   "source": [
			"## Example 7.24: A_power.sce"
		   ]
		  },
  {
"cell_type": "code",
	   "execution_count": null,
	   "metadata": {
	    "collapsed": true
	   },
	   "outputs": [],
"source": [
"clc;\n",
"syms n;\n",
"A=[0 1;-1/3 4/3];\n",
"e=spec(A);\n",
"b1=(e(2)^n-e(1)^n)/(e(2)-e(1));\n",
"b0=e(2)^n-b1*e(2);\n",
"An=b0*eye(A)+b1*A;\n",
"disp(An,'A^n')"
   ]
   }
,
{
		   "cell_type": "markdown",
		   "metadata": {},
		   "source": [
			"## Example 7.25: A_power.sce"
		   ]
		  },
  {
"cell_type": "code",
	   "execution_count": null,
	   "metadata": {
	    "collapsed": true
	   },
	   "outputs": [],
"source": [
"clc;\n",
"syms n;\n",
"A=[2 1;0 2];\n",
"e=spec(A);//since we get equal eigen values\n",
"b1=n*e(1)^(n-1);\n",
"b0=e(1)^n-b1*e(1);\n",
"An=b0*eye(A)+b1*A;\n",
"disp(An,'A^n')"
   ]
   }
,
{
		   "cell_type": "markdown",
		   "metadata": {},
		   "source": [
			"## Example 7.26: decomposition_of_matrix_A.sce"
		   ]
		  },
  {
"cell_type": "code",
	   "execution_count": null,
	   "metadata": {
	    "collapsed": true
	   },
	   "outputs": [],
"source": [
"clear;\n",
"clc;\n",
"close;\n",
"A=[2 1;0 2];\n",
"D=[2 0; 0 2];\n",
"N=[0 1;0 0];\n",
"disp(N^2,'N*N=');\n",
"p=D*N;\n",
"q=N*D;\n",
"if (p==q) then\n",
"    disp('D and N commute')\n",
"end"
   ]
   }
,
{
		   "cell_type": "markdown",
		   "metadata": {},
		   "source": [
			"## Example 7.27: minimal_polynomial.sce"
		   ]
		  },
  {
"cell_type": "code",
	   "execution_count": null,
	   "metadata": {
	    "collapsed": true
	   },
	   "outputs": [],
"source": [
"clc;\n",
"syms n;\n",
"A=[2 0 0;0 -2 1;0 4 1];\n",
"eig=spec(A);\n",
"m=poly(eig(1:2),'A',['roots']);\n",
"disp(m,'minimal polynomial is')\n",
"e=spec(A);\n",
"b1=(e(2)^n-e(1)^n)/(e(2)-e(1));\n",
"b0=e(2)^n-b1*e(2);\n",
"An=b0*eye(A)+b1*A;\n",
"disp(An,'A^n')"
   ]
   }
,
{
		   "cell_type": "markdown",
		   "metadata": {},
		   "source": [
			"## Example 7.29: step_response.sce"
		   ]
		  },
  {
"cell_type": "code",
	   "execution_count": null,
	   "metadata": {
	    "collapsed": true
	   },
	   "outputs": [],
"source": [
"clc;\n",
"A=[0 1;-1/8 3/4];\n",
"B=[0;1];\n",
"C=[-1/8 3/4];\n",
"D=[1];\n",
"Hz=ss2tf(syslin('d',A,B,C,D));\n",
"disp(Hz,'H(z)=');\n",
"z = %z;\n",
"syms n z1; //To f i n d out I n v e r s e z t r a n s f o rm z must be l i n e a r z = z1\n",
"X =z ^2 /((z -(1/2) )*(z -(1/4) ))\n",
"X1 = denom (X);\n",
"zp = roots (X1);\n",
"X1 = z1 ^2 /(( z1 -(1/4) )*(z1 -(1/2) ))\n",
"F1 = X1 *( z1 ^(n -1) )*(z1 -zp (1) );\n",
"F2 = X1 *( z1 ^(n -1) )*(z1 -zp (2) );\n",
"h1 = limit (F1 ,z1 ,zp (1) );\n",
"disp (h1 , ' h1 [ n]= ' )\n",
"h2 = limit (F2 ,z1 ,zp (2) );\n",
"disp (h2 , ' h2 [ n]= ' )\n",
"h = h1+h2;\n",
"disp (h, ' h [ n]= ' )\n",
"n=0:10;\n",
"x=[zeros(1,find(n==0)-1) ones(1,length(n)-find(n==0)+1)];\n",
"hn=2^(1-n)-4^-n;\n",
"y=convol(x,hn);\n",
"plot2d3(n,y(1:length(n)))\n",
"figure\n",
"plot2d3(n,8/3-2^(1-n)+4^-n)\n",
"disp('hence from the figure we can say y[n]=8/3-2^(1-n)+4^-n')"
   ]
   }
,
{
		   "cell_type": "markdown",
		   "metadata": {},
		   "source": [
			"## Example 7.30: impulse_response.sce"
		   ]
		  },
  {
"cell_type": "code",
	   "execution_count": null,
	   "metadata": {
	    "collapsed": true
	   },
	   "outputs": [],
"source": [
"clc;\n",
"A=[0 1;-1/8 3/4];\n",
"B=[0;1];\n",
"C=[-1/8 3/4];\n",
"D=[1];\n",
"Hz=ss2tf(syslin('d',A,B,C,D));\n",
"disp(Hz,'H(z)=');\n",
"z = %z;\n",
"syms n z1; //To f i n d out I n v e r s e z t r a n s f o rm z must\n",
"//be l i n e a r z = z1\n",
"X =z ^2 /((z -(1/2) )*(z -(1/4) ))\n",
"X1 = denom (X);\n",
"zp = roots (X1);\n",
"X1 = z1 ^2 /(( z1 -(1/4) )*(z1 -(1/2) ))\n",
"F1 = X1 *( z1 ^(n -1) )*(z1 -zp (1) );\n",
"F2 = X1 *( z1 ^(n -1) )*(z1 -zp (2) );\n",
"h1 = limit (F1 ,z1 ,zp (1) );\n",
"disp (h1 , ' h1 [ n]= ' )\n",
"h2 = limit (F2 ,z1 ,zp (2) );\n",
"disp (h2 , ' h2 [ n]= ' )\n",
"h = h1+h2;\n",
"disp ('for n>=0',h, ' h [ n]= ' )"
   ]
   }
,
{
		   "cell_type": "markdown",
		   "metadata": {},
		   "source": [
			"## Example 7.31: difference_equation.sce"
		   ]
		  },
  {
"cell_type": "code",
	   "execution_count": null,
	   "metadata": {
	    "collapsed": true
	   },
	   "outputs": [],
"source": [
"clc;\n",
"A=[0 1;-1/3 4/3];\n",
"B=[0;1/3];\n",
"C=[-1/3 4/3];\n",
"D=[1/3];\n",
"Hz=ss2tf(syslin('d',A,B,C,D));\n",
"disp(Hz,'H(z)=');\n",
"z = %z;\n",
"syms n z1; \n",
"X =z ^2 /(1-4*z+3*z^2)\n",
"X1 = denom (X);\n",
"zp = roots (X1);\n",
"X1 = z1 ^2 /((z1-1)*(z1-1/3))\n",
"F1 = X1 *( z1 ^(n -1) )*(z1 -1/3 );\n",
"F2 = X1 *( z1 ^(n -1) )*(z1 -1 );\n",
"h1 = limit (F1 ,z1 ,zp (1) );\n",
"disp (h1 , ' h1 [ n]= ' )\n",
"h2 = limit (F2 ,z1 ,zp (2) );\n",
"disp (h2 , ' h2 [ n]= ' )\n",
"h = h1+h2;\n",
"disp ('for n>=0',h, ' h [ n]= ' ) \n",
"n=0:10;\n",
"x=2^-n.*[zeros(1,find(n==0)-1) ones(1,length(n)-find(n==0)+1)];\n",
"hn= 3/2-(3^-n)/2;\n",
"y=convol(x,hn);\n",
"plot2d3(n,y(1:length(n)))\n",
"figure\n",
"plot2d3(n,(3/2)-2^-n+(3^-n)/2)\n",
"disp('hence from the figure we can say y[n]=(3/2)-2^-n+(3^-n)/2')  "
   ]
   }
,
{
		   "cell_type": "markdown",
		   "metadata": {},
		   "source": [
			"## Example 7.32: stability.sce"
		   ]
		  },
  {
"cell_type": "code",
	   "execution_count": null,
	   "metadata": {
	    "collapsed": true
	   },
	   "outputs": [],
"source": [
"clc;\n",
"A=[0 3/2;-1/2 2];\n",
"B=[0.71;-0.71];\n",
"C=[0.71 -0.71];\n",
"D=[0];\n",
"Hz=ss2tf(syslin('d',A,B,C,D));\n",
"disp(Hz,'H(z)=');\n",
"disp(' it has only one pole at z=1/2 and it lies inside the unit circle         hence the system is BIBO stable')"
   ]
   }
,
{
		   "cell_type": "markdown",
		   "metadata": {},
		   "source": [
			"## Example 7.35: observability_and_controllability.sce"
		   ]
		  },
  {
"cell_type": "code",
	   "execution_count": null,
	   "metadata": {
	    "collapsed": true
	   },
	   "outputs": [],
"source": [
"clc;\n",
"A=[0 1 ;-1/8 3/4];\n",
"B=[0;1];\n",
"C=[-1/8 3/4];\n",
"D=[1];\n",
"Mc=[B A*B];\n",
"if (det(Mc)<>0) then\n",
"    disp('and is controllable',rank(Mc),'Mc has a rank of')\n",
"else\n",
"    disp('and is uncontrollable',rank(Mc),'Mc has a rank of');\n",
"end\n",
"Mo=[C;C*A];\n",
"if (det(Mo)<>0) then\n",
"    disp('and is observable',rank(Mo),'Mo has a rank of')\n",
"else\n",
"    disp('and is unobservable',rank(Mo),'Mo has a rank of');\n",
"end\n",
"Hz=ss2tf(syslin('d',A,B,C,D));\n",
"disp(Hz,'H(z)=');"
   ]
   }
,
{
		   "cell_type": "markdown",
		   "metadata": {},
		   "source": [
			"## Example 7.36: finding_vector_x.sce"
		   ]
		  },
  {
"cell_type": "code",
	   "execution_count": null,
	   "metadata": {
	    "collapsed": true
	   },
	   "outputs": [],
"source": [
"clc;\n",
"A=[0 1;-1/8 3/4];\n",
"B=[0;1];\n",
"q2=[0 ;0];\n",
"q0=[0;1];\n",
"//we know q2=A^2*q0+[B A*B]*X\n",
"X=inv([B A*B])*[q2-A^2*q0];\n",
"disp(X,'therefore [x(1);x(0)]=')"
   ]
   }
,
{
		   "cell_type": "markdown",
		   "metadata": {},
		   "source": [
			"## Example 7.37: finding_vector_y.sce"
		   ]
		  },
  {
"cell_type": "code",
	   "execution_count": null,
	   "metadata": {
	    "collapsed": true
	   },
	   "outputs": [],
"source": [
"clc;\n",
"c=[-1/8 3/4];\n",
"A=[0 1;-1/8 3/4];\n",
"y=[1;0];\n",
"//we know y=[c;c*A]*q0\n",
"Q0=inv([c;c*A])*y;\n",
"disp(Q0,'therefore [q1(0);q2(0)]=')"
   ]
   }
,
{
		   "cell_type": "markdown",
		   "metadata": {},
		   "source": [
			"## Example 7.38: observability_and_controllability.sce"
		   ]
		  },
  {
"cell_type": "code",
	   "execution_count": null,
	   "metadata": {
	    "collapsed": true
	   },
	   "outputs": [],
"source": [
"clc;\n",
"A=[0 3/2;-1/2 2];\n",
"B=[1;0];\n",
"C=[1 -1];\n",
"D=[0];\n",
"Mc=[B A*B];\n",
"if (det(Mc)<>0) then\n",
"    disp('and is controllable',rank(Mc),'Mc has a rank of')\n",
"else\n",
"    disp('and is uncontrollable',rank(Mc),'Mc has a rank of');\n",
"end\n",
"Mo=[C;C*A];\n",
"if (det(Mo)<>0) then\n",
"    disp('and is observable',rank(Mo),'Mo has a rank of')\n",
"else\n",
"    disp('and is unobservable',rank(Mo),'Mo has a rank of');\n",
"end"
   ]
   }
,
{
		   "cell_type": "markdown",
		   "metadata": {},
		   "source": [
			"## Example 7.39: e_power_At.sce"
		   ]
		  },
  {
"cell_type": "code",
	   "execution_count": null,
	   "metadata": {
	    "collapsed": true
	   },
	   "outputs": [],
"source": [
"clc;\n",
"A=[0 1;-6 -5];\n",
"syms t\n",
"//we know %e^(at)=b0*I+b1*A;\n",
"e=spec(A);//eigen values\n",
"b0=e(1)*%e^(e(2)*t)-e(2)*%e^(e(1)*t);\n",
"b1=%e^(e(1)*t)-%e^(e(2)*t);\n",
"eAt=b0*eye(A)+b1*A;\n",
"disp(eAt,'e^(At)')"
   ]
   }
,
{
		   "cell_type": "markdown",
		   "metadata": {},
		   "source": [
			"## Example 7.43: e_power_At.sce"
		   ]
		  },
  {
"cell_type": "code",
	   "execution_count": null,
	   "metadata": {
	    "collapsed": true
	   },
	   "outputs": [],
"source": [
"clc;\n",
"A=[-2 1;1 -2];\n",
"syms t\n",
"//we know %e^(at)=b0*I+b1*A;\n",
"e=spec(A);//eigen values\n",
"b0=e(1)*%e^(e(2)*t)-e(2)*%e^(e(1)*t);\n",
"b1=%e^(e(1)*t)-%e^(e(2)*t);\n",
"eAt=b0*eye(A)+b1*A;\n",
"disp(eAt,'e^(At)')"
   ]
   }
,
{
		   "cell_type": "markdown",
		   "metadata": {},
		   "source": [
			"## Example 7.44: e_power_At.sce"
		   ]
		  },
  {
"cell_type": "code",
	   "execution_count": null,
	   "metadata": {
	    "collapsed": true
	   },
	   "outputs": [],
"source": [
"clc;\n",
"syms t\n",
"A=[0 -2 1;0 0 3;0 0 0];\n",
"z=A*A*A;\n",
"if z==0 then\n",
"    disp('A is a nilpotent of index 3');\n",
"else\n",
"    disp('A is not nilpotent')\n",
"end\n",
"//we know %e^(at)=b0*I+b1*A+b2*A^2; \n",
"e=spec(A);//eigen values\n",
"b2=t^2*%e^(e(3)*t);\n",
"b1=t*%e^(e(2)*t)-b2*2*e(2);\n",
"b0=%e^(e(1)*t)-b1*e(1)-b2*e(1)^2;\n",
"eAt=b0*eye(A)+b1*A+b2*A^2;\n",
"disp(eAt,'e^(At)')"
   ]
   }
,
{
		   "cell_type": "markdown",
		   "metadata": {},
		   "source": [
			"## Example 7.45: e_power_At.sce"
		   ]
		  },
  {
"cell_type": "code",
	   "execution_count": null,
	   "metadata": {
	    "collapsed": true
	   },
	   "outputs": [],
"source": [
"clc;\n",
"syms t\n",
"A=[0 -2 1;0 0 3;0 0 0];\n",
"//we know %e^(at)=b0*I+b1*A+b2*A^2; \n",
"e=spec(A);//eigen values\n",
"b2=t^2*%e^(e(3)*t);\n",
"b1=t*%e^(e(2)*t)-b2*2*e(2);\n",
"b0=%e^(e(1)*t)-b1*e(1)-b2*e(1)^2;\n",
"eAt=b0*eye(A)+b1*A+b2*A^2;\n",
"disp(eAt,'e^(At)')"
   ]
   }
,
{
		   "cell_type": "markdown",
		   "metadata": {},
		   "source": [
			"## Example 7.47: nilpotent_matrix.sce"
		   ]
		  },
  {
"cell_type": "code",
	   "execution_count": null,
	   "metadata": {
	    "collapsed": true
	   },
	   "outputs": [],
"source": [
"clc;\n",
"A=[2 1 0;0 2 1;0 0 2];\n",
"V=[2 0 0;0 2 0; 0 0 2];\n",
"N=[0 1 0;0 0 1;0 0 0];\n",
"z=N*N*N;\n",
"if z==0 then\n",
"    disp('N is a nilpotent of index 3');\n",
"else\n",
"    disp('N is not nilpotent')\n",
"end\n",
"if V*N==N*V then\n",
"    disp('V and N commute')\n",
"else\n",
"    disp('V and N dont commute')\n",
"end\n",
"syms t\n",
"//e^(A*t)=e^(v*t)*e^(N*t)\n",
"e=spec(V);//eigen values\n",
"b2=t^2*%e^(e(3)*t);\n",
"b1=t*%e^(e(2)*t)-b2*2*e(2);\n",
"b0=%e^(e(1)*t)-b1*e(1)-b2*e(1)^2;\n",
"eVt=b0*eye(V)+b1*V+b2*V^2;\n",
"disp(eVt,'e^(Vt)')\n",
"e=spec(N);//eigen values\n",
"b2=t^2*%e^(e(3)*t);\n",
"b1=t*%e^(e(2)*t)-b2*2*e(2);\n",
"b0=%e^(e(1)*t)-b1*e(1)-b2*e(1)^2;\n",
"eNt=b0*eye(N)+b1*N+b2*N^2;\n",
"disp(eNt,'e^(Nt)')\n",
"eAt=eVt*eNt;\n",
"disp(eAt,'e^(A*t)=')"
   ]
   }
,
{
		   "cell_type": "markdown",
		   "metadata": {},
		   "source": [
			"## Example 7.48: second_order_ODE.sce"
		   ]
		  },
  {
"cell_type": "code",
	   "execution_count": null,
	   "metadata": {
	    "collapsed": true
	   },
	   "outputs": [],
"source": [
"clc;\n",
"A=[0 1;-6 -5];\n",
"b=[0;1];\n",
"c=[1 0];\n",
"q0=[2;1];\n",
"syms t T\n",
"//y=c*e^(A*t)*q0+integ(c*e^A*(t-T)*b*x,0,t) \n",
"e=spec(A);//eigen values\n",
"b0=e(1)*%e^(e(2)*t)-e(2)*%e^(e(1)*t);\n",
"b1=%e^(e(1)*t)-%e^(e(2)*t);\n",
"eAt=b0*eye(A)+b1*A;\n",
"b0=e(1)*%e^(e(2)*(t-T))-e(2)*%e^(e(1)*(t-T));\n",
"b1=%e^(e(1)*(t-T))-%e^(e(2)*(t-T));\n",
"eAtT=b0*eye(A)+b1*A;\n",
"disp(eAt,'e^(At)');\n",
"ceAtq0=c*eAt*q0;\n",
"ceAtTq0=c*eAtT*q0;\n",
"y=ceAtq0+integ(ceAtTq0*%e^-T,T);\n",
"y0=limit(y,T,0);\n",
"yt=limit(y,T,t);\n",
"Y=yt-y0;\n",
"disp(Y,'y(t)=')"
   ]
   }
,
{
		   "cell_type": "markdown",
		   "metadata": {},
		   "source": [
			"## Example 7.49: RC_circuit_response.sce"
		   ]
		  },
  {
"cell_type": "code",
	   "execution_count": null,
	   "metadata": {
	    "collapsed": true
	   },
	   "outputs": [],
"source": [
"clc;\n",
"A=[-2 1;1 -2];\n",
"q0=[.5;1];\n",
"//Q=e^(A*t)*q0+integ(e^A*(t-T)*b*x,T,t0,t)\n",
"X=0;\n",
"//therefore integ term is zero\n",
"e=spec(A);//eigen values\n",
"b0=e(1)*%e^(e(2)*t)-e(2)*%e^(e(1)*t);\n",
"b1=%e^(e(1)*t)-%e^(e(2)*t);\n",
"eAt=b0*eye(A)+b1*A;\n",
"Q=eAt*q0;\n",
"disp(Q,'thus [vc1(t)  vc2(t)]=');"
   ]
   }
,
{
		   "cell_type": "markdown",
		   "metadata": {},
		   "source": [
			"## Example 7.50: stability.sce"
		   ]
		  },
  {
"cell_type": "code",
	   "execution_count": null,
	   "metadata": {
	    "collapsed": true
	   },
	   "outputs": [],
"source": [
"clc;\n",
"A=[0 1;2 1];\n",
"b=[1;-1];\n",
"c=[1 -1];\n",
"d=[0];\n",
"e=spec(A);\n",
"if real(e(1))>0 |real(e(2))>0 then\n",
"    disp('the sytem is not asymptotically stable')\n",
"else\n",
"    disp('the system is asymptotically stable')\n",
"end\n",
"Hs=ss2tf(syslin('c',A,b,c,d));\n",
"disp(Hs,'H(s)=')\n",
"disp('there is only one pole and it is located at -1 which is in the LHP        hence the system is BIBO stable')"
   ]
   }
,
{
		   "cell_type": "markdown",
		   "metadata": {},
		   "source": [
			"## Example 7.53: observability_and_controllability.sce"
		   ]
		  },
  {
"cell_type": "code",
	   "execution_count": null,
	   "metadata": {
	    "collapsed": true
	   },
	   "outputs": [],
"source": [
"clc;\n",
"A=[0 1;2 1];\n",
"B=[1;-1];\n",
"C=[1 -1];\n",
"D=[0];\n",
"Mc=[B A*B];\n",
"if (det(Mc)<>0) then\n",
"    disp('and is controllable',rank(Mc),'Mc has a rank of')\n",
"else\n",
"    disp('and is not controllable',rank(Mc),'Mc has a rank of');\n",
"end\n",
"Mo=[C;C*A];\n",
"if (det(Mo)<>0) then\n",
"    disp('and is observable',rank(Mo),'Mo has a rank of')\n",
"else\n",
"    disp('and is unobservable',rank(Mo),'Mo has a rank of');\n",
"end"
   ]
   }
,
{
		   "cell_type": "markdown",
		   "metadata": {},
		   "source": [
			"## Example 7.54: observability_and_controllability.sce"
		   ]
		  },
  {
"cell_type": "code",
	   "execution_count": null,
	   "metadata": {
	    "collapsed": true
	   },
	   "outputs": [],
"source": [
"clc;\n",
"A=[1  2;0 3];\n",
"B=[1;1];\n",
"C=[1 -1];\n",
"D=[0];\n",
"Mc=[B A*B];\n",
"if (det(Mc)<>0) then\n",
"    disp('and is controllable',rank(Mc),'Mc has a rank of')\n",
"else\n",
"    disp('and is uncontrollable',rank(Mc),'Mc has a rank of');\n",
"end\n",
"Mo=[C;C*A];\n",
"if (det(Mo)<>0) then\n",
"    disp('and is observable',rank(Mo),'Mo has a rank of')\n",
"else\n",
"    disp('and is unobservable',rank(Mo),'Mo has a rank of');\n",
"end\n",
"Hs=ss2tf(syslin('c',A,B,C,D));\n",
"disp(Hs,'H(s)=')"
   ]
   }
,
{
		   "cell_type": "markdown",
		   "metadata": {},
		   "source": [
			"## Example 7.5: state_space_representation.sce"
		   ]
		  },
  {
"cell_type": "code",
	   "execution_count": null,
	   "metadata": {
	    "collapsed": true
	   },
	   "outputs": [],
"source": [
"clc;\n",
"clear;\n",
"close;\n",
"s=%s;\n",
"r=2;\n",
"L=4;\n",
"c=6;\n",
"tf=syslin('c',(1/(L*s+r+(1/(c*s)))));\n",
"ss=tf2ss(tf)"
   ]
   }
,
{
		   "cell_type": "markdown",
		   "metadata": {},
		   "source": [
			"## Example 7.7: state_equation_for_discrete_system.sce"
		   ]
		  },
  {
"cell_type": "code",
	   "execution_count": null,
	   "metadata": {
	    "collapsed": true
	   },
	   "outputs": [],
"source": [
"clc;\n",
"close\n",
"clear;\n",
"z=%s;\n",
"Hz=syslin('d',(1/(1-(3/4)*z^-1+(1/8)*z^-2)));\n",
"ss=tf2ss(Hz);"
   ]
   }
,
{
		   "cell_type": "markdown",
		   "metadata": {},
		   "source": [
			"## Example 7.8: state_equation_for_discrete_time_system.sce"
		   ]
		  },
  {
"cell_type": "code",
	   "execution_count": null,
	   "metadata": {
	    "collapsed": true
	   },
	   "outputs": [],
"source": [
"clc;\n",
"close\n",
"clear;\n",
"z=%s;\n",
"tf=syslin('d',((1+(1/2)*z^-1)/(1-(3/4)*z^-1+(1/8)*z^-2)));\n",
"ss=tf2ss(tf);"
   ]
   }
,
{
		   "cell_type": "markdown",
		   "metadata": {},
		   "source": [
			"## Example 7.9: state_equation_for_discrete_time_system.sce"
		   ]
		  },
  {
"cell_type": "code",
	   "execution_count": null,
	   "metadata": {
	    "collapsed": true
	   },
	   "outputs": [],
"source": [
"clc;\n",
"close\n",
"clear;\n",
"z=%s;\n",
"b0=1;\n",
"b1=2;\n",
"b2=3;\n",
"a1=4;\n",
"a2=5;\n",
"tf=syslin('d',((b0+b1*z^-1+b2*z^-2)/(1+a1*z^-1+a2*z^-2)));\n",
"ss=tf2ss(tf);"
   ]
   }
],
"metadata": {
		  "kernelspec": {
		   "display_name": "Scilab",
		   "language": "scilab",
		   "name": "scilab"
		  },
		  "language_info": {
		   "file_extension": ".sce",
		   "help_links": [
			{
			 "text": "MetaKernel Magics",
			 "url": "https://github.com/calysto/metakernel/blob/master/metakernel/magics/README.md"
			}
		   ],
		   "mimetype": "text/x-octave",
		   "name": "scilab",
		   "version": "0.7.1"
		  }
		 },
		 "nbformat": 4,
		 "nbformat_minor": 0
}
