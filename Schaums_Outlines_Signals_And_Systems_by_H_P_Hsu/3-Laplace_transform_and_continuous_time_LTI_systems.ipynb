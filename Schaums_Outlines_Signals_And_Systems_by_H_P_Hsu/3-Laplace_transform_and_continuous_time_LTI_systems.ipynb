{
"cells": [
 {
		   "cell_type": "markdown",
	   "metadata": {},
	   "source": [
       "# Chapter 3: Laplace transform and continuous time LTI systems"
	   ]
	},
{
		   "cell_type": "markdown",
		   "metadata": {},
		   "source": [
			"## Example 3.13: derivative_and_shifting_property.sce"
		   ]
		  },
  {
"cell_type": "code",
	   "execution_count": null,
	   "metadata": {
	    "collapsed": true
	   },
	   "outputs": [],
"source": [
"syms t s a w\n",
"// given u(t)<-->1/s\n",
"//delta(t)=diff(u(t))\n",
"u=laplace(1);\n",
"d=s*u\n",
"disp(d,'delta(t) <-->')\n",
"d1=s*d\n",
"disp(d1,'diff(delta(t)) <-->')\n",
"tu=-diff(u,s)\n",
"disp(tu,'t*u(t) <-->')\n",
"eu=laplace(%e^-(a*t))\n",
"disp(eu,'e^-a*t*u(t) <-->')\n",
"teu=-diff(eu,s)\n",
"disp(teu,'t*e^-a*t*u(t) <-->')\n",
"cu=laplace(cos(w*t))\n",
"disp(cu,'cos(w0*t)*u(t) <-->')\n",
"ecu=laplace(%e^(-a*t)*cos(w*t))\n",
"disp(tu,'e^(-a*t)*cos(w0*t)*u(t) <-->')"
   ]
   }
,
{
		   "cell_type": "markdown",
		   "metadata": {},
		   "source": [
			"## Example 3.16: inverse_laplace_transform.sce"
		   ]
		  },
  {
"cell_type": "code",
	   "execution_count": null,
	   "metadata": {
	    "collapsed": true
	   },
	   "outputs": [],
"source": [
"clear;\n",
"syms t s\n",
"x=1/(s+1)\n",
"f1=ilaplace(x)\n",
"disp(f1*'u(t)','a) x(t)=')\n",
"y=-1/(s+1)\n",
"f2=ilaplace(y)\n",
"disp(f2*'u(-t)','b) x(t)=')\n",
"z=s/(s^2+4)\n",
"f3=ilaplace(z)\n",
"disp(f3*'u(t)','c) x(t)=')\n",
"zz=(s+1)/((s+1)^2+4)\n",
"f4=ilaplace(zz)\n",
"disp(f4*'u(t)','d) x(t)=')"
   ]
   }
,
{
		   "cell_type": "markdown",
		   "metadata": {},
		   "source": [
			"## Example 3.17: inverse_laplace_transform.sce"
		   ]
		  },
  {
"cell_type": "code",
	   "execution_count": null,
	   "metadata": {
	    "collapsed": true
	   },
	   "outputs": [],
"source": [
"clear;\n",
"syms t s\n",
"x=(2*s+4)/(s^2+4*s+3)\n",
"f1=ilaplace(x)\n",
"disp(f1*'u(t)','a) x(t)=')\n",
"y=-(x)\n",
"f2=ilaplace(y)\n",
"disp(f2*'u(-t)','b) x(t)=')\n",
"q= %s\n",
"z=pfss((2*q+4)/(q^2+4*q+3))\n",
"f3=ilaplace(-z(1))\n",
"f4=ilaplace(z(2))\n",
"ff=f3+f4\n",
"disp(f3*'u(-t)'+f4*'u(t)','c) x(t)=')"
   ]
   }
,
{
		   "cell_type": "markdown",
		   "metadata": {},
		   "source": [
			"## Example 3.18: inverse_laplace_transform.sce"
		   ]
		  },
  {
"cell_type": "code",
	   "execution_count": null,
	   "metadata": {
	    "collapsed": true
	   },
	   "outputs": [],
"source": [
"clear;\n",
"clc;\n",
"syms t s\n",
"x=(5*s+13)/(s*(s^2+4*s+13));\n",
"X=ilaplace(x);\n",
"disp(X*'u(t)','x(t)=')"
   ]
   }
,
{
		   "cell_type": "markdown",
		   "metadata": {},
		   "source": [
			"## Example 3.19: inverse_laplace_transform.sce"
		   ]
		  },
  {
"cell_type": "code",
	   "execution_count": null,
	   "metadata": {
	    "collapsed": true
	   },
	   "outputs": [],
"source": [
"syms t s\n",
"x=ilaplace((s^2+2*s+5)/((s+3)*(s+5)^2))\n",
"disp(x*'u(t)','x(t)=')"
   ]
   }
,
{
		   "cell_type": "markdown",
		   "metadata": {},
		   "source": [
			"## Example 3.1_a: laplace_transform.sce"
		   ]
		  },
  {
"cell_type": "code",
	   "execution_count": null,
	   "metadata": {
	    "collapsed": true
	   },
	   "outputs": [],
"source": [
"syms t a y\n",
"y= -laplace(-exp(-a*t),t)"
   ]
   }
,
{
		   "cell_type": "markdown",
		   "metadata": {},
		   "source": [
			"## Example 3.1_b: laplace_transform.sce"
		   ]
		  },
  {
"cell_type": "code",
	   "execution_count": null,
	   "metadata": {
	    "collapsed": true
	   },
	   "outputs": [],
"source": [
"syms t a y\n",
"y= -laplace(exp(a*t),t)"
   ]
   }
,
{
		   "cell_type": "markdown",
		   "metadata": {},
		   "source": [
			"## Example 3.20: inverse_laplace_transform_by_partial_fractions.sce"
		   ]
		  },
  {
"cell_type": "code",
	   "execution_count": null,
	   "metadata": {
	    "collapsed": true
	   },
	   "outputs": [],
"source": [
"syms t s\n",
"s= %s\n",
"a1=pfss((2*s+1)/(s+2))\n",
"f1=ilaplace(a1(1))\n",
"fx=f1\n",
"disp(fx*'u(t)'+'2*delta(t)' ,'a) x(t)=')\n",
"a2=pfss((s^2+6*s+7)/(s^2+3*s+2))\n",
"f1=ilaplace(a2(1))\n",
"f2=ilaplace(a2(2))\n",
"fy=f1+f2\n",
"disp(fy*'u(t)'+'delta(t)' ,'b) x(t)=')\n",
"a3=pfss((s^3+2*s^2+6)/(s^2+3*s))\n",
"f1=ilaplace(a3(1))\n",
"f2=ilaplace(a3(2))\n",
"fz=f1+f2\n",
"disp(fz*'u(t)'+'-delta(t)+delta1(t)','c) x(t)=')"
   ]
   }
,
{
		   "cell_type": "markdown",
		   "metadata": {},
		   "source": [
			"## Example 3.21: inverse_laplace_transform_of_time_shifted_signal.sce"
		   ]
		  },
  {
"cell_type": "code",
	   "execution_count": null,
	   "metadata": {
	    "collapsed": true
	   },
	   "outputs": [],
"source": [
"syms t s\n",
"s=%s\n",
"a=ilaplace(2/(s^2+4*s+3))\n",
"b=ilaplace(2*s/(s^2+4*s+3))\n",
"c=ilaplace(4/(s^2+4*s+3))\n",
"disp(a*'u(t)'+b*'u(t-2)'+c*'u(t-4)','x(t)=')"
   ]
   }
,
{
		   "cell_type": "markdown",
		   "metadata": {},
		   "source": [
			"## Example 3.22: differentiation_in_s_domain.sce"
		   ]
		  },
  {
"cell_type": "code",
	   "execution_count": null,
	   "metadata": {
	    "collapsed": true
	   },
	   "outputs": [],
"source": [
"syms t s a\n",
"x=ilaplace((s+a)^-2)\n",
"disp(x*'u(t)','x(t)=')"
   ]
   }
,
{
		   "cell_type": "markdown",
		   "metadata": {},
		   "source": [
			"## Example 3.24: output_response.sce"
		   ]
		  },
  {
"cell_type": "code",
	   "execution_count": null,
	   "metadata": {
	    "collapsed": true
	   },
	   "outputs": [],
"source": [
"syms t s a\n",
"H=laplace(%e^(-a*t))\n",
"X=laplace(-%e^(a*t))\n",
"Y=X*H\n",
"y=ilaplace(Y)\n",
"disp(y,'y(t)=')"
   ]
   }
,
{
		   "cell_type": "markdown",
		   "metadata": {},
		   "source": [
			"## Example 3.25: impulse_response.sce"
		   ]
		  },
  {
"cell_type": "code",
	   "execution_count": null,
	   "metadata": {
	    "collapsed": true
	   },
	   "outputs": [],
"source": [
"syms t s\n",
"X=laplace(1)\n",
"Y=laplace(2*%e^(-3*t))\n",
"H=Y/X;\n",
"disp(H,'H(s)=')\n",
"s=%s;\n",
"h=2*s/(s+3);\n",
"hp=pfss(h);\n",
"h1=ilaplace(hp(1));\n",
"disp(h1*'u(t)'+'2*delta(t)','h(t)=')\n",
"//part b)\n",
"X=laplace(%e^-t)\n",
"Y=X*H;\n",
"y=ilaplace(Y);\n",
"disp(y*'u(t)','y(t)=')"
   ]
   }
,
{
		   "cell_type": "markdown",
		   "metadata": {},
		   "source": [
			"## Example 3.27: cascaded_system_transfer_function.sce"
		   ]
		  },
  {
"cell_type": "code",
	   "execution_count": null,
	   "metadata": {
	    "collapsed": true
	   },
	   "outputs": [],
"source": [
"clear;\n",
"clc;\n",
"syms t s\n",
"H1=laplace(%e^(-2*t))\n",
"H2=laplace(2*%e^(-t))\n",
"H=H1*H2;\n",
"h=ilaplace(H)\n",
"disp(h*'u(t)','h(t)=')"
   ]
   }
,
{
		   "cell_type": "markdown",
		   "metadata": {},
		   "source": [
			"## Example 3.28: first_order_differntial_equation.sce"
		   ]
		  },
  {
"cell_type": "code",
	   "execution_count": null,
	   "metadata": {
	    "collapsed": true
	   },
	   "outputs": [],
"source": [
"clear;\n",
"clc;\n",
"syms t s a\n",
"H=1/(s+a);\n",
"h=ilaplace(H)\n",
"disp(h*'u(t)','h(t)=')"
   ]
   }
,
{
		   "cell_type": "markdown",
		   "metadata": {},
		   "source": [
			"## Example 3.29: impulse_response.sce"
		   ]
		  },
  {
"cell_type": "code",
	   "execution_count": null,
	   "metadata": {
	    "collapsed": true
	   },
	   "outputs": [],
"source": [
"clear;\n",
"clc;\n",
"syms t s1 a\n",
"s=%s\n",
"H=(s+1)/(s+2);\n",
"hp=pfss(H)\n",
"h1=ilaplace(hp(1))\n",
"disp(h1*'u(t)'+'delta(t)','h(t)=')"
   ]
   }
,
{
		   "cell_type": "markdown",
		   "metadata": {},
		   "source": [
			"## Example 3.30: causality_and_stability.sce"
		   ]
		  },
  {
"cell_type": "code",
	   "execution_count": null,
	   "metadata": {
	    "collapsed": true
	   },
	   "outputs": [],
"source": [
"clear;\n",
"clc;\n",
"syms t s1 a\n",
"s=%s;\n",
"H=1/((s+2)*(s-1));\n",
"hp=pfss(H)\n",
"h1=ilaplace(hp(1))\n",
"h2=ilaplace(hp(2))\n",
"disp((h1+h2)*'u(t)','when the system is causal h(t)=')\n",
"disp(h1*'u(-t)'+h2*'u(-t)','when the system is stable h(t)=')\n",
"disp((h1+h2)*'u(-t)','when the system is neither stable nor causal h(t)=')"
   ]
   }
,
{
		   "cell_type": "markdown",
		   "metadata": {},
		   "source": [
			"## Example 3.34: bilateral_laplace_transform.sce"
		   ]
		  },
  {
"cell_type": "code",
	   "execution_count": null,
	   "metadata": {
	    "collapsed": true
	   },
	   "outputs": [],
"source": [
"syms t s\n",
"X1=laplace(%e^(-2*t))\n",
"X2=laplace(exp(2*t))\n",
"X=X1-X2\n",
"disp(X,'bilateral transform of x(t)=')"
   ]
   }
,
{
		   "cell_type": "markdown",
		   "metadata": {},
		   "source": [
			"## Example 3.36: unilateral_laplace_transform.sce"
		   ]
		  },
  {
"cell_type": "code",
	   "execution_count": null,
	   "metadata": {
	    "collapsed": true
	   },
	   "outputs": [],
"source": [
"syms s t\n",
"u=integ(exp(-s*t),t,0,%inf)\n",
"delta=s*u-1;\n",
"disp(u,'unilateral transform of u(t)')\n",
"disp(delta,'unilateral transform of delta(t)')"
   ]
   }
,
{
		   "cell_type": "markdown",
		   "metadata": {},
		   "source": [
			"## Example 3.37: unilateral_laplace_transform_method.sce"
		   ]
		  },
  {
"cell_type": "code",
	   "execution_count": null,
	   "metadata": {
	    "collapsed": true
	   },
	   "outputs": [],
"source": [
"clear;\n",
"clc;\n",
"syms n s a b y0 K t;\n",
"X=laplace(K*%e^(-b*t));\n",
"Y=y0/(s+a)+X/(s+a);\n",
"y=ilaplace(Y)\n",
"disp(y,'y(t)=')"
   ]
   }
,
{
		   "cell_type": "markdown",
		   "metadata": {},
		   "source": [
			"## Example 3.38: second_order_ODE.sce"
		   ]
		  },
  {
"cell_type": "code",
	   "execution_count": null,
	   "metadata": {
	    "collapsed": true
	   },
	   "outputs": [],
"source": [
"clear;\n",
"clc;\n",
"syms n s t;\n",
"//y(0)=2 y'(0)=1\n",
"X=laplace(%e^(-t));\n",
"Y=(X+2*s+11)/(s^2+5*s+6);\n",
"y=ilaplace(Y)\n",
"disp(y,'y(t)=')"
   ]
   }
,
{
		   "cell_type": "markdown",
		   "metadata": {},
		   "source": [
			"## Example 3.39: RC_circuit.sce"
		   ]
		  },
  {
"cell_type": "code",
	   "execution_count": null,
	   "metadata": {
	    "collapsed": true
	   },
	   "outputs": [],
"source": [
"clear;\n",
"clc;\n",
"syms n s t R C V v0;\n",
"I=(V-v0)/(s*(R+1/(C*s)));\n",
"i=ilaplace(I);\n",
"disp(i*'u(t)','i(t)=')\n",
"Vc=(V/(R*C*s)+v0)/(s+1/(R*C));\n",
"vc=ilaplace(Vc)\n",
"disp(vc,'vc(t)=')"
   ]
   }
,
{
		   "cell_type": "markdown",
		   "metadata": {},
		   "source": [
			"## Example 3.3: laplace_transform.sce"
		   ]
		  },
  {
"cell_type": "code",
	   "execution_count": null,
	   "metadata": {
	    "collapsed": true
	   },
	   "outputs": [],
"source": [
"syms t s a T\n",
"y= integ(exp(-a*t-s*t),t,0,T)"
   ]
   }
,
{
		   "cell_type": "markdown",
		   "metadata": {},
		   "source": [
			"## Example 3.40: RC_circuit_response.sce"
		   ]
		  },
  {
"cell_type": "code",
	   "execution_count": null,
	   "metadata": {
	    "collapsed": true
	   },
	   "outputs": [],
"source": [
"clear;\n",
"clc;\n",
"syms n s t R C V v0;\n",
"I=(V-v0)/(s*(R+1/(C*s)));\n",
"i=ilaplace(I);\n",
"disp(i*'u(t)','i(t)=')\n",
"Vc=(V/(R*C*s)+v0)/(s+1/(R*C));\n",
"vc=ilaplace(Vc)\n",
"disp(vc*'u(t)','vc(t)=')"
   ]
   }
,
{
		   "cell_type": "markdown",
		   "metadata": {},
		   "source": [
			"## Example 3.41: RLC_circuit.sce"
		   ]
		  },
  {
"cell_type": "code",
	   "execution_count": null,
	   "metadata": {
	    "collapsed": true
	   },
	   "outputs": [],
"source": [
"clear;\n",
"clc;\n",
"syms s t n;\n",
"I=1/(s/2+2+20/s)\n",
"i=ilaplace(I)\n",
"disp(i,'i(t)=')"
   ]
   }
,
{
		   "cell_type": "markdown",
		   "metadata": {},
		   "source": [
			"## Example 3.42: circuit_analysis.sce"
		   ]
		  },
  {
"cell_type": "code",
	   "execution_count": null,
	   "metadata": {
	    "collapsed": true
	   },
	   "outputs": [],
"source": [
"clear;\n",
"clc;\n",
"s=%s;\n",
"I1=(s+1)/(s+1/4);\n",
"I1p=pfss(I1)\n",
"i1=ilaplace(I1p(1))\n",
"disp(i1*'u(t)'+'delta(t)','i1(t)=')\n",
"I2=(s-1/2)/(s+1/4);\n",
"I2p=pfss(I2)\n",
"i2=ilaplace(I2p(1))\n",
"disp(i2*'u(t)'+'delta(t)','i2(t)=')"
   ]
   }
,
{
		   "cell_type": "markdown",
		   "metadata": {},
		   "source": [
			"## Example 3.5: pole_zero_plot.sce"
		   ]
		  },
  {
"cell_type": "code",
	   "execution_count": null,
	   "metadata": {
	    "collapsed": true
	   },
	   "outputs": [],
"source": [
"clc\n",
"syms t s \n",
"s1=%s;\n",
"x=laplace(exp(-2*t)+exp(-3*t),t,s)\n",
"y=laplace(exp(-3*t)-%e^(2*t))\n",
"z=laplace(%e^(2*t)-%e^(-3*t))\n",
"disp(z,y,x,'laplace transform of a b c is')\n",
"x=1/(s1+2)+1/(s1+3);\n",
"plzr(x)\n",
"y=1/(s1+3)-1/(s1-2);\n",
"figure\n",
"plzr(y)\n",
"z=1/(s1-2)-1/(s1+3);\n",
"figure\n",
"plzr(z)\n",
"disp('there is no region of convergence for c hence no transform exists')"
   ]
   }
,
{
		   "cell_type": "markdown",
		   "metadata": {},
		   "source": [
			"## Example 3.6: ROC_and_pole_zero_plot.sce"
		   ]
		  },
  {
"cell_type": "code",
	   "execution_count": null,
	   "metadata": {
	    "collapsed": true
	   },
	   "outputs": [],
"source": [
"syms t s a\n",
"y=laplace(%e^(-a*t)-%e^(a*t))\n",
"disp(y,'X(s)=')\n",
"s1=%s;\n",
"//a>0\n",
"a=2;\n",
"t=-5:0.1:5;\n",
"x=%e^(-a*abs(t));\n",
"subplot(2,1,1)\n",
"plot(t,x)\n",
"subplot(2,1,2)\n",
"x=1/(s1+a)-1/(s1-a);\n",
"plzr(x)\n",
"//a<0\n",
"a=-0.5;\n",
"t=-5:0.1:5;\n",
"x=%e^(-a*abs(t));\n",
"figure\n",
"subplot(2,1,1)\n",
"plot(t,x)\n",
"subplot(2,1,2)\n",
"x=1/(s1+a)-1/(s1-a);\n",
"plzr(x)\n",
"disp('there is no region of convergence when a<0 hence no transform exists for a<0')\n",
""
   ]
   }
],
"metadata": {
		  "kernelspec": {
		   "display_name": "Scilab",
		   "language": "scilab",
		   "name": "scilab"
		  },
		  "language_info": {
		   "file_extension": ".sce",
		   "help_links": [
			{
			 "text": "MetaKernel Magics",
			 "url": "https://github.com/calysto/metakernel/blob/master/metakernel/magics/README.md"
			}
		   ],
		   "mimetype": "text/x-octave",
		   "name": "scilab",
		   "version": "0.7.1"
		  }
		 },
		 "nbformat": 4,
		 "nbformat_minor": 0
}
