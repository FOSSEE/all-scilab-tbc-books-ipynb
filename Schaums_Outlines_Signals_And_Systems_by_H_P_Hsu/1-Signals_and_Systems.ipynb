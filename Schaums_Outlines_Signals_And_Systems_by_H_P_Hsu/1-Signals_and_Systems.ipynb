{
"cells": [
 {
		   "cell_type": "markdown",
	   "metadata": {},
	   "source": [
       "# Chapter 1: Signals and Systems"
	   ]
	},
{
		   "cell_type": "markdown",
		   "metadata": {},
		   "source": [
			"## Example 1.10: periodicity_of_sinusoidal_signal.sce"
		   ]
		  },
  {
"cell_type": "code",
	   "execution_count": null,
	   "metadata": {
	    "collapsed": true
	   },
	   "outputs": [],
"source": [
"clear;\n",
"clc;\n",
"close;\n",
"t=0:1/100:10;\n",
"w=1;\n",
"theta=%pi/3;\n",
"T=2*%pi/w;\n",
"x=cos(t*w+theta);\n",
"y=cos((t+T)*w+theta);\n",
"if ceil(x)==ceil(y) then\n",
"    disp('cos(wo*t+theta) is periodic with T=2*pi/W0')\n",
"else\n",
"    disp('nonperiodic')\n",
"end"
   ]
   }
,
{
		   "cell_type": "markdown",
		   "metadata": {},
		   "source": [
			"## Example 1.11: periodicity_of_exponential_sequence.sce"
		   ]
		  },
  {
"cell_type": "code",
	   "execution_count": null,
	   "metadata": {
	    "collapsed": true
	   },
	   "outputs": [],
"source": [
"clear;\n",
"clc;\n",
"close;\n",
"n=0:100;\n",
"w0=1;\n",
"N=2*%pi/w0;\n",
"x=exp(%i*w0*n);\n",
"y=exp(%i*w0*(n+N));\n",
"if ceil(x)==ceil(y) then\n",
"    disp('e^iwn is periodic with N=2*pi/W0')\n",
"else\n",
"    disp('nonperiodic')\n",
"end"
   ]
   }
,
{
		   "cell_type": "markdown",
		   "metadata": {},
		   "source": [
			"## Example 1.16: fundamental_period.sce"
		   ]
		  },
  {
"cell_type": "code",
	   "execution_count": null,
	   "metadata": {
	    "collapsed": true
	   },
	   "outputs": [],
"source": [
"//ex_16 to check if a function is periodic\n",
"clear;\n",
"clc;\n",
"close;\n",
"//x(t)=cos(t+pi/4)\n",
"w=1\n",
"t=2*%pi;//t=2*pi/w\n",
"disp(t,'a')\n",
"//x(t)=sin(2pi*t/3)\n",
"w=2*%pi/3;\n",
"t=2*%pi/w;//check if t is rational\n",
"if t==ceil(t) then\n",
"    disp(t,'b');\n",
"else\n",
"    disp('non periodic','b')\n",
"end\n",
"//x(t)=cos(pi*t/3)+sin(pi*t/4)\n",
"w1=%pi/3;\n",
"w2=%pi/4;\n",
"t1=2*%pi/w1;\n",
"t2=2*%pi/w2;\n",
"t=lcm([t1 t2/2]);\n",
"\n",
"if t==ceil(t) then\n",
"    disp(t,'c');\n",
"else\n",
"    disp('non periodic')\n",
"end \n",
"//x(t)=cos(t)+sin(sqrt(2)*t)\n",
"w1=1;\n",
"w2=sqrt(2);\n",
"t1=2*%pi/w1;\n",
"t2=2*%pi/w2;\n",
"t=lcm([t1 t2]);\n",
"if t==ceil(t) then\n",
"    disp(t,'d');\n",
"else\n",
"    disp('non periodic')\n",
"end \n",
"//x(t)=(sin(t))^2=(1-cos(2*t))/2\n",
"w=2;\n",
"t=2*%pi/w;\n",
"disp(t,'e')\n",
"//x(t)=e^(%i*(%pi/2)*t-1)\n",
"w=%pi/2;\n",
"t=2*%pi/w;\n",
"disp(t,'f')\n",
"//x[n]=e^(%i*(%pi/4))\n",
"w=%pi/4;\n",
"N=2*%pi/w;\n",
"disp(N,'g')\n",
"//x[n]=cos(1*n/4)\n",
"w=1/4;\n",
"N=2*%pi/w;\n",
"if N==ceil(N) then\n",
"    disp(N,'h');\n",
"else\n",
"    disp('non periodic','h')\n",
"end \n",
"//x[n]=cos(%pi*n/3)+sin(%pi*n/4)\n",
"w1=%pi/3;\n",
"w2=%pi/4;\n",
"N1=2*%pi/w1;\n",
"N2=2*%pi/w2;\n",
"N=lcm([N1 N2/2]);\n",
"if N==ceil(N) then\n",
"    disp(N,'i');\n",
"else\n",
"    disp('non periodic','i')\n",
"end\n",
"//x[n]=(cos(%pi*n/8))^2=(1+cos(%pi*n/4))/2\n",
"w=%pi/4;\n",
"N=2*%pi/w;\n",
"disp(N,'j')\n",
" "
   ]
   }
,
{
		   "cell_type": "markdown",
		   "metadata": {},
		   "source": [
			"## Example 1.1: shifting_and_scaling_of_continuous_time_signal.sce"
		   ]
		  },
  {
"cell_type": "code",
	   "execution_count": null,
	   "metadata": {
	    "collapsed": true
	   },
	   "outputs": [],
"source": [
"//shifting and scaling\n",
"//example 1.1\n",
"clear;\n",
"clc;\n",
"close;\n",
"t = 0:1/100:4;\n",
"for i = 1:length(t)\n",
"  x(i) = (3/4)*t(i) ;\n",
"end\n",
"for i = length(t)+1:2*length(t)\n",
"x(i) = 0;\n",
"end\n",
"figure\n",
"a=gca();\n",
"t1=0:1/100:8;\n",
"plot(t1,x(1:$-1))\n",
"xtitle('x(t)')\n",
"figure\n",
"a=gca();\n",
"t2=t1+2;\n",
"plot(t2,x(1:$-1))\n",
"xtitle('x(t-2)')\n",
"a.y_location='origin'\n",
"figure\n",
"a=gca();\n",
"t3=0:1/200:4;\n",
"plot(t3,x(1:$-1))\n",
"xtitle('x(2t)')\n",
"figure\n",
"a=gca();\n",
"t4=0:1/50:16;\n",
"plot(t4,x(1:$-1))\n",
"xtitle('x(t/2)')\n",
"figure\n",
"a=gca();\n",
"t5=-8:1/100:0;\n",
"plot(t5,x($:-1:2))\n",
"xtitle('x(-t)')\n",
"a.y_location = 'right';"
   ]
   }
,
{
		   "cell_type": "markdown",
		   "metadata": {},
		   "source": [
			"## Example 1.21: unit_step_signal.sce"
		   ]
		  },
  {
"cell_type": "code",
	   "execution_count": null,
	   "metadata": {
	    "collapsed": true
	   },
	   "outputs": [],
"source": [
"//ex_21  to check if u(-t)={1 for t<0 and 0 for t>0}\n",
"clear;\n",
"clc;\n",
"close;\n",
"t=-10:1/100:10;\n",
"for i = 1:(length(t))\n",
"    if t(i)<0  then\n",
"        x(i)=0\n",
"    else\n",
"        x(i)=1\n",
"    end\n",
"end\n",
"figure\n",
"a=gca();\n",
"plot(t,x)\n",
"xtitle('u(t)','t')\n",
"a.data_bounds=[-10,-1;10,2];\n",
"figure\n",
"a=gca();\n",
"plot(t,x($:-1:1))\n",
"xtitle('u(-t)','t')\n",
"a.data_bounds=[-10,-1;10,2];"
   ]
   }
,
{
		   "cell_type": "markdown",
		   "metadata": {},
		   "source": [
			"## Example 1.22: continuous_time_signal.sce"
		   ]
		  },
  {
"cell_type": "code",
	   "execution_count": null,
	   "metadata": {
	    "collapsed": true
	   },
	   "outputs": [],
"source": [
"//ex_22 product of x(t) and unit step function\n",
"clear x;\n",
"clear t;\n",
"clear;\n",
"clear y;\n",
"clc;\n",
"close;\n",
"t=-1:1/100:2\n",
"for i=1:(length(t))\n",
"    if t(i)<0 then\n",
"        x(i)=t(i)+1;\n",
"    elseif t(i)<1\n",
"        x(i)=1\n",
"    else\n",
"        x(i)=2\n",
"    end\n",
"end\n",
"figure\n",
"a=gca();\n",
"plot2d(t,x)\n",
"a.y_location='origin'\n",
"xtitle('x(t)','t')\n",
"//a.x(t)*u(1-t)\n",
"for i = 1:(length(t))\n",
"    if t(i)<1  then\n",
"        u1(i)=1\n",
"    else\n",
"        u1(i)=0\n",
"    end\n",
"end\n",
"y=x.*u1\n",
"figure\n",
"a=gca();\n",
"plot2d(t,y)\n",
"a.y_location='origin'\n",
"xtitle('x(t)*u(1-t)','t')\n",
"for i = 1:(length(t))\n",
"    if t(i)<1 & t(i)>0 then\n",
"        u2(i)=1\n",
"    else\n",
"        u2(i)=0\n",
"    end\n",
"end\n",
"y=x.*u2;\n",
"figure\n",
"a=gca();\n",
"plot2d(t,y)\n",
"a.y_location='origin'\n",
"xtitle('x(t)*u(t-1)','t')\n",
"for i = 1:(length(t))\n",
"    if t(i)==3/2 then\n",
"        z(i)=x(i)\n",
"    else\n",
"        z(i)=0\n",
"    end\n",
"end\n",
"figure\n",
"a=gca();\n",
"plot2d3(t,z)\n",
"poly_1=a.children.children;\n",
"poly_1.thickness=3;\n",
"a.y_location='origin'\n",
"xtitle('x(t)*delta(t-3/2)','t')"
   ]
   }
,
{
		   "cell_type": "markdown",
		   "metadata": {},
		   "source": [
			"## Example 1.23: discrete_time_signal.sce"
		   ]
		  },
  {
"cell_type": "code",
	   "execution_count": null,
	   "metadata": {
	    "collapsed": true
	   },
	   "outputs": [],
"source": [
"//ex_23 product of discrete signal and unit step function\n",
"clear;\n",
"clc;\n",
"close;\n",
"t=-3:3;\n",
"x=[3 2 1 0 1 2 3];\n",
"//u[1-n]\n",
"for i=1:length(t);\n",
"    if t(i)<=1 then\n",
"        u1(i)=1;\n",
"    else\n",
"        u1(i)=0;\n",
"    end\n",
"end\n",
"y=x.*u1';\n",
"figure\n",
"a=gca();\n",
"plot2d3(t,y)\n",
"plot(t,y,'r.')\n",
"xtitle('y[n]','n')\n",
"a.y_location='origin'\n",
"//u[n+2]-u[n]\n",
"for i=1:length(t);\n",
"    if t(i)<1 & t(i)>=-2 then\n",
"        u2(i)=1;\n",
"    else\n",
"        u2(i)=0;\n",
"    end\n",
"end\n",
"z=x.*u2';\n",
"figure\n",
"a=gca();\n",
"plot2d3(t,z)\n",
"plot(t,z,'r.')\n",
"xtitle('z[n]','n')\n",
"a.y_location='origin'\n",
"//$[n-1]\n",
"for i=1:length(t);\n",
"    if t(i)==1 then\n",
"        del(i)=1;\n",
"    else\n",
"        del(i)=0;\n",
"    end\n",
"end\n",
"p=x.*del';\n",
"figure\n",
"a=gca();\n",
"plot2d3(t,p)\n",
"plot(t,p,'r.')\n",
"xtitle('y[n]','n')\n",
"a.y_location='origin'\n",
""
   ]
   }
,
{
		   "cell_type": "markdown",
		   "metadata": {},
		   "source": [
			"## Example 1.2: shifting_and_scaling_of_discrete_time_signal.sce"
		   ]
		  },
  {
"cell_type": "code",
	   "execution_count": null,
	   "metadata": {
	    "collapsed": true
	   },
	   "outputs": [],
"source": [
"//example 1.2\n",
"//shifting and scaling discrete signals\n",
"clear ;\n",
"clc;\n",
"close;\n",
"t=-2:6;\n",
"x(1:3)=0;\n",
"for i = 3:(length(t)-3)\n",
"  x(i) =i-3;\n",
"end\n",
"x(i+1)=x(i);\n",
"x(i+2:9)=0;\n",
"figure\n",
"a=gca();\n",
"plot2d3(t,x)\n",
"plot(t,x,'r.')\n",
"xtitle('x[n]')\n",
"t1=t+2;\n",
"figure\n",
"a=gca();\n",
"plot2d3(t1,x)\n",
"plot(t1,x,'r.')\n",
"xtitle('x[n-2]')\n",
"a.thickness=2;\n",
"t2=-1:1/2:3;\n",
"figure\n",
"a=gca()\n",
"plot2d3(ceil(t2),x)\n",
"plot(ceil(t2),x,'r.')\n",
"xtitle('x[2n]')\n",
"a.thickness=2;\n",
"t3=-6:2;\n",
"figure\n",
"a=gca();\n",
"plot2d3(t3,x($:-1:1))\n",
"plot(t3,x($:-1:1),'r.')\n",
"xtitle('x[-n]')\n",
"a.y_location='right';\n",
"a.thickness=2;\n",
"t4=t3+2;\n",
"figure\n",
"a=gca();\n",
"plot2d3(t4,x($:-1:1))\n",
"plot(t4,x($:-1:1),'r.')\n",
"xtitle('x[-n+2]')\n",
"a.y_location='right';\n",
"a.thickness=2;"
   ]
   }
,
{
		   "cell_type": "markdown",
		   "metadata": {},
		   "source": [
			"## Example 1.31: first_derivative_of_the_signals.sce"
		   ]
		  },
  {
"cell_type": "code",
	   "execution_count": null,
	   "metadata": {
	    "collapsed": true
	   },
	   "outputs": [],
"source": [
"clear;\n",
"close;\n",
"clc;\n",
"t=-10:0.1:10;\n",
"a=2;\n",
"//x(t)=u(t)-u(t-a)\n",
"x=[zeros(1,find(t==0)-1) ones(1,find(t==a)-find(t==0)+1) zeros(1,length(t)-find(t==a))];\n",
"subplot(2,1,1)\n",
"plot(t,x)\n",
"xtitle('x(t)','t')\n",
"subplot(2,1,2)\n",
"plot2d3(t(1:$-1),diff(x))\n",
"xtitle('diff(x(t))','t')\n",
"//x(t)=t*(u(t)-u(t-a))\n",
"xb=t.*x;\n",
"figure\n",
"subplot(2,1,1)\n",
"plot(t,xb)\n",
"xtitle('x(t)','t')\n",
"subplot(2,1,2)\n",
"plot2d(t(1:$-1),diff(xb))\n",
"xtitle('diff(x(t))','t')\n",
"//x(t)=sgn(t)\n",
"x=[-ones(1,find(t==0)-1) ones(1,length(t)-find(t==0)+1)];\n",
"figure\n",
"subplot(2,1,1)\n",
"plot(t,x)\n",
"xtitle('x(t)','t')\n",
"subplot(2,1,2)\n",
"plot2d(t(1:$-1),diff(x))\n",
"xtitle('diff(x(t))','t')"
   ]
   }
,
{
		   "cell_type": "markdown",
		   "metadata": {},
		   "source": [
			"## Example 1.35: linearity.sce"
		   ]
		  },
  {
"cell_type": "code",
	   "execution_count": null,
	   "metadata": {
	    "collapsed": true
	   },
	   "outputs": [],
"source": [
"//ex_35 to check if a system is linear or non-linear\n",
"clear;\n",
"clc;\n",
"close;\n",
"x1=2;\n",
"x2=3;\n",
"y1=x1*x1;\n",
"y2=x2*x2;\n",
"y=y1+y2;\n",
"z=(x1+x2)*(x1+x2);\n",
"if z==y then\n",
"    disp('the system  is linear')\n",
"else\n",
"    disp('the system is nonlinear')\n",
"end"
   ]
   }
,
{
		   "cell_type": "markdown",
		   "metadata": {},
		   "source": [
			"## Example 1.36: memoryless_causal_stable_system.sce"
		   ]
		  },
  {
"cell_type": "code",
	   "execution_count": null,
	   "metadata": {
	    "collapsed": true
	   },
	   "outputs": [],
"source": [
"// ex_36 check if y[n] = x[n-1] memoryless ,causal, linear, time variant\n",
"clear;\n",
"clc;\n",
"s = 2;//shift \n",
"T = 20; //lenght of signal\n",
"x(1)=1;\n",
"for n = 2:T\n",
"  x(n) = n;\n",
"  y(n) = x(n-1);\n",
"end\n",
"if y(2)==x(2) then\n",
"    disp('memoryless')\n",
"else\n",
"    disp('not memoryless')\n",
"end\n",
"//causal if it does'nt depend on future\n",
"if y(2)==x(2) | y(2)==x(1) then\n",
"    disp('causal')\n",
"else\n",
"    disp('non casual')\n",
"end\n",
"x1=x;\n",
"y1=y;\n",
"x2(1)=2;\n",
"for n = 2:T\n",
"  x2(n) = 2;\n",
"  y2(n) = x2(n-1);\n",
"end\n",
"z=y1+y2;\n",
"for n = 2:T\n",
"  y3(n) = (x2(n-1)+x1(n-1));\n",
"end\n",
"if z==y3 then\n",
"    disp('linear')\n",
"else\n",
"    disp('nonlinear')\n",
"end\n",
"Ip = x(T-s);\n",
"Op = y(T-s);\n",
"if(Ip == Op)\n",
"  disp(' Time In-variant system');\n",
"else\n",
"  disp('Time Variant system');\n",
"end\n",
"Max =20;\n",
"dd=1;\n",
"for n=2:T\n",
"    if y(n)>Max then\n",
"        dd=0\n",
"    end\n",
"end\n",
"if dd==0\n",
"  disp('unstable')\n",
" else\n",
"  disp('stable');\n",
"end"
   ]
   }
,
{
		   "cell_type": "markdown",
		   "metadata": {},
		   "source": [
			"## Example 1.38: memoryless_causal_time_invariant_system.sce"
		   ]
		  },
  {
"cell_type": "code",
	   "execution_count": null,
	   "metadata": {
	    "collapsed": true
	   },
	   "outputs": [],
"source": [
"// ex_38 check if y[n] = n.x[n] is memoryless, causal, linear, time-varaint\n",
"clear;\n",
"clc;\n",
"s = 2;//shift \n",
"T = 20; //lenght of signal\n",
"for n = 1:T\n",
"  x(n) = n;\n",
"  y(n) = n*x(n);\n",
"end\n",
"if y(1)==x(1) then\n",
"    disp('memoryless and causal')\n",
"else\n",
"    disp('noncausal')\n",
"end\n",
"x1=x;\n",
"y1=y;\n",
"for n = 1:T\n",
"  x2(n) = 2;\n",
"  y2(n) = n*x2(n);\n",
"end\n",
"z=y1+y2;\n",
"for n = 1:T\n",
"  y3(n) = n*(x2(n)+x1(n));\n",
"end\n",
"if z==y3 then\n",
"    disp('linear')\n",
"else\n",
"    disp('nonlinear')\n",
"end\n",
"Ip = x(T-s);\n",
"Op = y(T-s);\n",
"if(Ip == Op)\n",
"  disp(' Time In-variant system');\n",
"else\n",
"  disp('Time Variant system');\n",
"end\n",
"Max = 50;\n",
"S = 0;\n",
"for n=1:T          \n",
"  S = S+y(n);\n",
"end \n",
"if (S >Max)\n",
"  disp('unstable')\n",
" else\n",
"  disp('stable');\n",
"end"
   ]
   }
,
{
		   "cell_type": "markdown",
		   "metadata": {},
		   "source": [
			"## Example 1.39: time_invariancy.sce"
		   ]
		  },
  {
"cell_type": "code",
	   "execution_count": null,
	   "metadata": {
	    "collapsed": true
	   },
	   "outputs": [],
"source": [
"//ex_39check if y[n]=x[k*n] is time invariant\n",
"clear;\n",
"clc;\n",
"s = 2;//shift \n",
"x=[1 2 3 4 5 6 7 8 9 1 2 3 4 5 6 7 8 9];\n",
"T=length(x);\n",
"k=3;\n",
"for n=1:T/k\n",
"    y(n)=x(k*n);\n",
"end\n",
"T=5;\n",
"Ip = x(T-s);\n",
"Op = y(T-s);\n",
"if(Ip == Op)\n",
"  disp(' Time In-variant system');\n",
"else\n",
"  disp('Time Variant system');\n",
"end"
   ]
   }
,
{
		   "cell_type": "markdown",
		   "metadata": {},
		   "source": [
			"## Example 1.3: sampling_of_continuous_time_signal.sce"
		   ]
		  },
  {
"cell_type": "code",
	   "execution_count": null,
	   "metadata": {
	    "collapsed": true
	   },
	   "outputs": [],
"source": [
"//example_1.3\n",
"// sampling of continuos function\n",
"clear;\n",
"clc;\n",
"close;\n",
"t=-1:1/100:1;\n",
"for i=1:length(t)\n",
"    x(i)=1-abs(t(i))\n",
"end\n",
"figure\n",
"a=gca();\n",
"plot2d(t,x)\n",
"xtitle('x(t)')\n",
"a.y_location='middle'\n",
"figure\n",
"a=gca();\n",
"for i=1:length(t)\n",
"    if t(i)<0 then\n",
"        t1(i)=ceil(t(i)*4)\n",
"    else\n",
"        t1(i)=floor(t(i)*4)\n",
"    end\n",
"end\n",
"plot2d3(ceil(t1),x)\n",
"xtitle('x[n]=x[n/4]')\n",
"figure\n",
"a=gca();\n",
"for i=1:length(t)\n",
"    if t(i)<0 then\n",
"        t2(i)=ceil(t(i)*2)\n",
"    else\n",
"        t2(i)=floor(t(i)*2)\n",
"    end\n",
"end\n",
"plot2d3(ceil(t2),x)\n",
"xtitle('x[n]=x[n/2]')\n",
"figure\n",
"a=gca();\n",
"for i=1:length(t)\n",
"    if t(i)<0 then\n",
"        t3(i)=ceil(t(i))\n",
"    else\n",
"        t3(i)=floor(t(i))\n",
"    end\n",
"end\n",
"plot2d3(ceil(t3),x)\n",
"xtitle('x[n]')"
   ]
   }
,
{
		   "cell_type": "markdown",
		   "metadata": {},
		   "source": [
			"## Example 1.41: linearity.sce"
		   ]
		  },
  {
"cell_type": "code",
	   "execution_count": null,
	   "metadata": {
	    "collapsed": true
	   },
	   "outputs": [],
"source": [
"clear;\n",
"close;\n",
"clc;\n",
"n=-2:4;\n",
"x1=[0 0 0 0 2 0 0];\n",
"y1=[0 0 0 0 1 2 0];\n",
"x2=[0 1 0 0 0 0 0];\n",
"y2=[0 2 1 0 0 0 0];\n",
"x3=[0 0 0 1 2 0 0];\n",
"y3=[0 0 0 2 3 1 0];\n",
"subplot(3,2,1);plot2d3(n,x1);plot(n,x1,'r.');xtitle('x1')\n",
"subplot(3,2,2);plot2d3(n,y1);plot(n,y1,'r.');xtitle('y1')\n",
"subplot(3,2,3);plot2d3(n,x2);plot(n,x2,'r.');xtitle('x2')\n",
"subplot(3,2,4);plot2d3(n,y2);plot(n,y2,'r.');xtitle('y2')\n",
"subplot(3,2,5);plot2d3(n,x3);plot(n,x3,'r.');xtitle('x3')\n",
"subplot(3,2,6);plot2d3(n,y3);plot(n,y3,'r.');xtitle('y3')\n",
"disp('it can be seen that x3[n]=x1[n]+x2[n-2] therefore for linear system        y3[n]=y1[n]+y2[n-2]')\n",
"figure\n",
"subplot(4,1,1);plot2d3(n,y1);plot(n,y1,'r.');xtitle('y1')\n",
"subplot(4,1,2);plot2d3(n+2,y2);plot(n+2,y2,'r.');xtitle('y2[n-2]')\n",
"subplot(4,1,3);plot2d3(n,y1+[0 0 y2(1:find(n+2==4))]);plot(n,y1+[0 0 y2(1:find(n+2==4))],'r.');xtitle('y1[n]+y2[n-2]')\n",
"subplot(4,1,4);plot2d3(n,y3);plot(n,y3,'r.');xtitle('y3[n]')\n",
"disp('from the figure y3[n]<>y1[n]+y2[n-2] therefore the system is not linear')"
   ]
   }
,
{
		   "cell_type": "markdown",
		   "metadata": {},
		   "source": [
			"## Example 1.4: discrete_time_signal.sce"
		   ]
		  },
  {
"cell_type": "code",
	   "execution_count": null,
	   "metadata": {
	    "collapsed": true
	   },
	   "outputs": [],
"source": [
"//ex_4 combining two discrete signals\n",
"clear;\n",
"clc;\n",
"close;\n",
"t1=-2:7\n",
"t2=-3:4\n",
"x1=[0 0 0 1 2 3 0 0 2 2 0];\n",
"x2=[0 -2 -2 2 2 0 -2 0 0 0 0];\n",
"t3=min(t1(1),t2(1)):max(t1(length(t1)),t2(length(t2)));\n",
"figure\n",
"a=gca();\n",
"plot2d3(t3,x1)\n",
"plot(t3,x1,'r.')\n",
"xtitle('x1[n]')\n",
"figure\n",
"a=gca();\n",
"plot2d3(t3,x2)\n",
"plot(t3,x2,'r.')\n",
"xtitle('x2[n]')\n",
"a.x_location='middle'\n",
"figure\n",
"a=gca();\n",
"plot2d3(t3,x1+x2)\n",
"plot(t3,x1+x2,'r.')\n",
"xtitle('y1[n]=x1[n]+x2[n]')\n",
"a.x_location='origin'\n",
"figure\n",
"a=gca();\n",
"plot2d3(t3,2.*x1)\n",
"plot(t3,2.*x1,'r.')\n",
"xtitle('y2[n]=2 * x1[n]')\n",
"figure\n",
"a=gca();\n",
"plot2d3(t3,x1.*x2)\n",
"plot(t3,x1.*x2,'r.')\n",
"xtitle('y2[n]=x2[n] * x1[n]')"
   ]
   }
,
{
		   "cell_type": "markdown",
		   "metadata": {},
		   "source": [
			"## Example 1.5_a: even_and_odd_components.sce"
		   ]
		  },
  {
"cell_type": "code",
	   "execution_count": null,
	   "metadata": {
	    "collapsed": true
	   },
	   "outputs": [],
"source": [
"//ex_5 even and odd signals of x(t)\n",
"clear ;\n",
"clear x;\n",
"clear t;\n",
"clc;\n",
"close;\n",
"t = 0:1/100:5;\n",
"for i = 1:length(t)\n",
"  x(i) = (4/5)*t(i) ;\n",
"end\n",
"for i = length(t)+1:2*length(t)\n",
"x(i) = 0;\n",
"end\n",
"figure\n",
"a=gca();\n",
"t1=0:1/100:10;\n",
"plot(t1,x(1:$-1))\n",
"xtitle('x(t)')\n",
"figure\n",
"a=gca();\n",
"t3=0:1/100:10;\n",
"plot(t3,x(1:$-1)/2)\n",
"xtitle('[x(t)+x(-t)]/2=even')\n",
"t2=-10:1/100:0;\n",
"plot(t2,x($:-1:2)/2)\n",
"a.y_location='origin'\n",
"figure\n",
"a=gca();\n",
"t4=0:1/100:10;\n",
"plot(t3,x(1:$-1)/2)\n",
"xtitle('[x(t)-x(-t)]/2=odd')\n",
"t5=-10:1/100:0;\n",
"plot(t5,-x($:-1:2)/2)\n",
"a.y_location='origin'\n",
"a.x_location='origin'"
   ]
   }
,
{
		   "cell_type": "markdown",
		   "metadata": {},
		   "source": [
			"## Example 1.5_b: even_and_odd_components.sce"
		   ]
		  },
  {
"cell_type": "code",
	   "execution_count": null,
	   "metadata": {
	    "collapsed": true
	   },
	   "outputs": [],
"source": [
"//ex_5 even and odd signals of x(t)\n",
"clear;\n",
"clc;\n",
"close;\n",
"t = 0:1/100:5;\n",
"x=4*exp(-0.5.*t)\n",
"figure\n",
"a=gca();\n",
"xtitle('x(t)')\n",
"plot2d(t,x)\n",
"figure\n",
"a=gca();\n",
"xtitle('even signal')\n",
"plot2d(t,x/2)\n",
"t1=-5:1/100:0;\n",
"plot2d(t1,x($:-1:1)/2)\n",
"a.y_location='origin'\n",
"figure\n",
"a=gca();\n",
"xtitle('odd signal')\n",
"plot2d(t,x/2)\n",
"t1=-5:1/100:0;\n",
"plot2d(t1,-x($:-1:1)/2)\n",
"a.y_location='origin'\n",
"a.x_location='origin'"
   ]
   }
,
{
		   "cell_type": "markdown",
		   "metadata": {},
		   "source": [
			"## Example 1.5_c: even_and_odd_components.sce"
		   ]
		  },
  {
"cell_type": "code",
	   "execution_count": null,
	   "metadata": {
	    "collapsed": true
	   },
	   "outputs": [],
"source": [
"//ex_5 even and odd signals of x(t)\n",
"clear;\n",
"clc;\n",
"close;\n",
"t=0:7;\n",
"x=[4 4 4 4 4 4 0 0];\n",
"figure\n",
"a=gca();\n",
"plot2d3(t,x)\n",
"plot(t,x,'r.')\n",
"xtitle('x[n]')\n",
"a.thickness=2;\n",
"t1=-7:0;\n",
"figure\n",
"a=gca();\n",
"t2=-7:7;\n",
"y=[x($:-1:2)./2  x(1)  x(2:8)./2 ]\n",
"plot2d3(t2,y)\n",
"plot(t2,y,'r.')\n",
"xtitle('even')\n",
"a.y_location='right';\n",
"a.thickness=2;\n",
"figure\n",
"a=gca();\n",
"z=[-x($:-1:2)./2  0  x(2:8)./2 ]\n",
"plot2d3(t2,z)\n",
"plot(t2,z,'r.')\n",
"xtitle('odd')\n",
"a.y_location='right';\n",
"a.x_location='origin';\n",
"a.thickness=2;\n",
""
   ]
   }
,
{
		   "cell_type": "markdown",
		   "metadata": {},
		   "source": [
			"## Example 1.5_d: even_and_odd_components.sce"
		   ]
		  },
  {
"cell_type": "code",
	   "execution_count": null,
	   "metadata": {
	    "collapsed": true
	   },
	   "outputs": [],
"source": [
"//ex_5 d even and odd signals of x(t)\n",
"clear;\n",
"clc;\n",
"close;\n",
"t=0:5;\n",
"x=[ 0 2 4 2 0 0];\n",
"figure\n",
"a=gca();\n",
"plot2d3(t,x)\n",
"plot(t,x,'r.')\n",
"xtitle('x[n]','n')\n",
"a.thickness=2;\n",
"figure\n",
"a=gca();\n",
"t2=-5:5 ;\n",
"y=[ x($:-1:2)./2  x(1)  x(2:6)./2 ]\n",
"plot2d3(t2,y)\n",
"plot(t2,y,'r.')\n",
"xtitle('even','n')\n",
"a.y_location='right';\n",
"a.thickness=2;\n",
"figure\n",
"a=gca();\n",
"z=[ -x($:-1:2)./2  0  x(2:6)./2  ]\n",
"plot2d3(t2,z)\n",
"plot(t2,z,'r.')\n",
"xtitle('odd','n')\n",
"a.y_location='right';\n",
"a.x_location='origin';\n",
"a.thickness=2;"
   ]
   }
,
{
		   "cell_type": "markdown",
		   "metadata": {},
		   "source": [
			"## Example 1.6: even_and_odd_components.sce"
		   ]
		  },
  {
"cell_type": "code",
	   "execution_count": null,
	   "metadata": {
	    "collapsed": true
	   },
	   "outputs": [],
"source": [
"//ex_6 even and odd signal of e^jt\n",
"clear;\n",
"clc;\n",
"close;\n",
"t = 0:1/100:5;\n",
"x=exp(%i.*t);\n",
"y=exp(-%i.*t);\n",
"even=x./2+y./2;\n",
"odd=x./2-y./2;\n",
"figure\n",
"a=gca();\n",
"plot2d(t,even)\n",
"a.x_location='origin'\n",
"xtitle('even','t')\n",
"figure\n",
"a=gca();\n",
"plot2d(t,odd./%i)\n",
"a.x_location='origin'\n",
"xtitle('odd','t')"
   ]
   }
,
{
		   "cell_type": "markdown",
		   "metadata": {},
		   "source": [
			"## Example 1.9: periodicity_of_exponential_signal.sce"
		   ]
		  },
  {
"cell_type": "code",
	   "execution_count": null,
	   "metadata": {
	    "collapsed": true
	   },
	   "outputs": [],
"source": [
"//ex_9 to show that e^iwt is periodic with T=2*pi/W0\n",
"clear;\n",
"clc;\n",
"close;\n",
"t=0:1/100:10;\n",
"w0=1;\n",
"T=2*%pi/w0;\n",
"x=exp(%i*w0*t);\n",
"y=exp(%i*w0*(t+T));\n",
"if ceil(x)==ceil(y) then\n",
"    disp('e^iwt is periodic with T=2*pi/W0')\n",
"else\n",
"    disp('nonperiodic')\n",
"end"
   ]
   }
],
"metadata": {
		  "kernelspec": {
		   "display_name": "Scilab",
		   "language": "scilab",
		   "name": "scilab"
		  },
		  "language_info": {
		   "file_extension": ".sce",
		   "help_links": [
			{
			 "text": "MetaKernel Magics",
			 "url": "https://github.com/calysto/metakernel/blob/master/metakernel/magics/README.md"
			}
		   ],
		   "mimetype": "text/x-octave",
		   "name": "scilab",
		   "version": "0.7.1"
		  }
		 },
		 "nbformat": 4,
		 "nbformat_minor": 0
}
