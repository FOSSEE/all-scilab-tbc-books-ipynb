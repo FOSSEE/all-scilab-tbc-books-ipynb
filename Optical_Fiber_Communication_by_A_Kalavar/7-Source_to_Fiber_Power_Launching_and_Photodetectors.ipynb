{
"cells": [
 {
		   "cell_type": "markdown",
	   "metadata": {},
	   "source": [
       "# Chapter 7: Source to Fiber Power Launching and Photodetectors"
	   ]
	},
{
		   "cell_type": "markdown",
		   "metadata": {},
		   "source": [
			"## Example 7.10_1: Find_multiplication_factor.sce"
		   ]
		  },
  {
"cell_type": "code",
	   "execution_count": null,
	   "metadata": {
	    "collapsed": true
	   },
	   "outputs": [],
"source": [
"// Example 7.10.1  page 7.53\n",
"\n",
"clc;\n",
"clear;\n",
"\n",
"lamda=0.85d-6;\n",
"h=6.626d-34;    //plank's constant\n",
"c=3d8;      //speed of light\n",
"q=1.6d-19;  //charge of electron\n",
"eta=75/100; //quantum efficiency\n",
"P0=0.6d-6;  //incident optical power\n",
"Im=15d2;   //avalanche gain\n",
"\n",
"R= eta*q*lamda/(h*c);   //computing responsivity\n",
"Ip=10^8*P0*R;       //computing photocurrent\n",
"Ip=floor(Ip);\n",
"M=Im/Ip;        //computing multiplication factor\n",
"printf('\nMultiplication factor is %d.',M);"
   ]
   }
,
{
		   "cell_type": "markdown",
		   "metadata": {},
		   "source": [
			"## Example 7.10_2: Find_avalanche_gain.sce"
		   ]
		  },
  {
"cell_type": "code",
	   "execution_count": null,
	   "metadata": {
	    "collapsed": true
	   },
	   "outputs": [],
"source": [
"// Example 7.10.3  page 7.54\n",
"\n",
"clc;\n",
"clear;\n",
"\n",
"lamda=900d-9;\n",
"h=6.626d-34;    //plank's constant\n",
"c=3d8;      //speed of light\n",
"q=1.6d-19;  //charge of electron\n",
"eta=65/100; //quantum efficiency\n",
"P0=0.5d-6;  //incident optical power\n",
"Im=10d2;   //avalanche gain\n",
"\n",
"R= eta*q*lamda/(h*c);   //computing responsivity\n",
"Ip=10^8*P0*R;       //computing photocurrent\n",
"M=Im/Ip;        //computing multiplication factor\n",
"printf('\nMultiplication factor is %d.',M);\n",
"\n",
"//answer in the book is 41.7 deviation 0.3."
   ]
   }
,
{
		   "cell_type": "markdown",
		   "metadata": {},
		   "source": [
			"## Example 7.10_3: Find_multiplication_factor.sce"
		   ]
		  },
  {
"cell_type": "code",
	   "execution_count": null,
	   "metadata": {
	    "collapsed": true
	   },
	   "outputs": [],
"source": [
"// Example 7.10.3  page 7.54\n",
"\n",
"clc;\n",
"clear;\n",
"\n",
"lamda=900d-9;\n",
"h=6.626d-34;    //plank's constant\n",
"c=3d8;      //speed of light\n",
"q=1.6d-19;  //charge of electron\n",
"eta=65/100; //quantum efficiency\n",
"P0=0.5d-6;  //incident optical power\n",
"Im=10d2;   //avalanche gain\n",
"\n",
"R= eta*q*lamda/(h*c);   //computong responsivity\n",
"Ip=10^8*P0*R;       //computing photocurrent\n",
"Ip=floor(Ip);\n",
"M=Im/Ip;        //computing multiplication factor\n",
"printf('\nMultiplication factor is %d.',M);\n",
""
   ]
   }
,
{
		   "cell_type": "markdown",
		   "metadata": {},
		   "source": [
			"## Example 7.10_4: Find_wavelength_incident_optical_power_and_responsivity.sce"
		   ]
		  },
  {
"cell_type": "code",
	   "execution_count": null,
	   "metadata": {
	    "collapsed": true
	   },
	   "outputs": [],
"source": [
"// Example 7.10.4  page 7.54\n",
"\n",
"clc;\n",
"clear;\n",
"\n",
"h=6.626d-34;    //plank's constant\n",
"c=3d8;      //speed of light\n",
"q=1.602d-19;  //charge of electron\n",
"eta=70/100; //quantum efficiency\n",
"P0=0.5d-6;  //incident optical power\n",
"Ip=4d-6;   //avalanche gain\n",
"E=1.5d-19;\n",
"\n",
"lamda=h*c/(E);   //computing wavelength\n",
"R= eta*q*lamda/(h*c);   //computing responsivity\n",
"P0=Ip/R;    //computing optical power\n",
"\n",
"lamda=lamda*10^6;\n",
"P0=P0*10^6;\n",
"printf('\nWavelength is %.3f micrometer.\nResponsivity is %.4f A/W.\nOptical power is %.2f microWatt.',lamda,R,P0);\n",
"\n",
"//answer of optical power in the book is 5.53 microWatt, deviation of 0.17 microWatt.\n",
"\n",
""
   ]
   }
,
{
		   "cell_type": "markdown",
		   "metadata": {},
		   "source": [
			"## Example 7.10_5: Find_multiplication_factor.sce"
		   ]
		  },
  {
"cell_type": "code",
	   "execution_count": null,
	   "metadata": {
	    "collapsed": true
	   },
	   "outputs": [],
"source": [
"// Example 7.10.5  page 7.55\n",
"\n",
"clc;\n",
"clear;\n",
"\n",
"lamda=900d-9;\n",
"h=6.626d-34;    //plank's constant\n",
"c=3d8;      //speed of light\n",
"q=1.6d-19;  //charge of electron\n",
"eta=65/100; //quantum efficiency\n",
"P0=0.5d-6;  //incident optical power\n",
"Im=10d2;   //avalanche gain\n",
"\n",
"R= eta*q*lamda/(h*c);   //computing responsivity\n",
"Ip=10^8*P0*R;       //computing photocurrent\n",
"Ip=floor(Ip);\n",
"M=Im/Ip;        //computing multiplication factor\n",
"printf('\nMultiplication factor is %d.',M);\n",
"\n",
"//answer in the book is 42.55 deviation 0.45"
   ]
   }
,
{
		   "cell_type": "markdown",
		   "metadata": {},
		   "source": [
			"## Example 7.10_6: Calculate_quantum_efficiency_and_output_photocurrent.sce"
		   ]
		  },
  {
"cell_type": "code",
	   "execution_count": null,
	   "metadata": {
	    "collapsed": true
	   },
	   "outputs": [],
"source": [
"// Example 7.10.6  page 7.55\n",
"\n",
"clc;\n",
"clear;\n",
"\n",
"h=6.626d-34;    //plank's constant\n",
"c=3d8;      //speed of light\n",
"q=1.602d-19;  //charge of electron\n",
"P0=0.5d-6;  //incident optical power(assumption)\n",
"lamda=1.5d-6;   //wavelength\n",
"M=20;       //Multiplication factor\n",
"R=0.6;      //Responsivity\n",
"\n",
"eta=(R*h*c)/(q*lamda);  //computing quantum efficiency\n",
"Ip=P0*R;        //computing photocurrent\n",
"I=M*Ip*10^6;    //computing output current\n",
"\n",
"printf('\nQuantum efficiency is %.3f micrometer.\nOutput current %d microAmpere.',eta,I);\n",
"\n",
"//answer of quantum efficiency in the book is given as 0.495, deviation of 0.001.\n",
"\n",
""
   ]
   }
,
{
		   "cell_type": "markdown",
		   "metadata": {},
		   "source": [
			"## Example 7.2_1: Find_Fresnel_reflection_and_power_loss.sce"
		   ]
		  },
  {
"cell_type": "code",
	   "execution_count": null,
	   "metadata": {
	    "collapsed": true
	   },
	   "outputs": [],
"source": [
"// Example 7.2.1  page 7.11\n",
"\n",
"clc;\n",
"clear;\n",
"\n",
"n1=3.4;    //refractive index of optical source\n",
"n=1.46;     //refractive index of silica fiber\n",
"\n",
"r=((n1-n)/(n1+n))^2;    //computing Frensel reflection\n",
"L=-10*log10(1-r);      //computing loss\n",
"\n",
"printf('\nFrensel reflection is %.3f.\nPower loss is %.2f dB.',r,L);"
   ]
   }
,
{
		   "cell_type": "markdown",
		   "metadata": {},
		   "source": [
			"## Example 7.2_2: Compute_optical_power_coupled.sce"
		   ]
		  },
  {
"cell_type": "code",
	   "execution_count": null,
	   "metadata": {
	    "collapsed": true
	   },
	   "outputs": [],
"source": [
"// Example 7.2.2  page 7.11\n",
"\n",
"clc;\n",
"clear;\n",
"\n",
"r=35d-6;        //radius\n",
"R=150;      //Lambertian emission pattern\n",
"NA=0.2;     //Numerical aperture\n",
"Pled= %pi^2*r^2*R*NA^2;\n",
"Pled=Pled*10^7;\n",
"printf('\nOptical power for larger core of 35 micrometer is %.3f mW.',Pled);\n",
"r1=25d-6;\n",
"Pled1=(r1/r)^2*Pled;\n",
"printf('\nOptical power for smaller core of 25 micrometer is %.2f mW.',Pled1);"
   ]
   }
,
{
		   "cell_type": "markdown",
		   "metadata": {},
		   "source": [
			"## Example 7.2_3: Calculate_coupled_power.sce"
		   ]
		  },
  {
"cell_type": "code",
	   "execution_count": null,
	   "metadata": {
	    "collapsed": true
	   },
	   "outputs": [],
"source": [
"// Example 7.2.3  page 7.12\n",
"\n",
"clc;\n",
"clear;\n",
"\n",
"r=25d-6;        //radius\n",
"R=39;      //Lambertian emission pattern\n",
"NA=0.25;    //numerical aperture\n",
"a=35d-6;    //area\n",
"Pc1= %pi^2*a^2*R*NA^2;  //computing coupled power when r<a\n",
"Pc1=Pc1*10^7;\n",
"Pc= %pi^2*r^2*R*NA^2;   //computing coupled power when r>a\n",
"Pc=Pc*10^7;\n",
"\n",
"printf('\nOptical power when r>a is %.2f mW.\nOptical power when r<a is %.3f mW.',Pc,Pc1);\n",
""
   ]
   }
,
{
		   "cell_type": "markdown",
		   "metadata": {},
		   "source": [
			"## Example 7.2_4: Estimate_external_power_efficiency.sce"
		   ]
		  },
  {
"cell_type": "code",
	   "execution_count": null,
	   "metadata": {
	    "collapsed": true
	   },
	   "outputs": [],
"source": [
"// Example 7.2.4  page 7.12\n",
"\n",
"clc;\n",
"clear;\n",
"\n",
"n1=3.6;  //refractive index\n",
"n=1;    //refractive index of air\n",
"F=0.68; //transmission factor\n",
"Pin=30/100; //percent power supplied\n",
"\n",
"eta =(n1*(n1+1)^2)^-1;     //computing eta\n",
"P=Pin*eta;      //computing optical power emitted\n",
"eta=eta*100;\n",
"P=P*1000;\n",
"Pt=P*Pin;       //computing internal power\n",
"\n",
"printf('\neta external is %.1f percent.\nOptical power emitted is %.1f mW.\nInternal power is %.2f mW.',eta,P,Pt);\n",
"printf('\nNote - Printing error in the book they have printed 1.5 instead of 1.3 as the answer of eta.');\n",
"\n",
"//Printing error in the book they have printed 1.5 instead of 1.3 as the answer of eta\n",
""
   ]
   }
,
{
		   "cell_type": "markdown",
		   "metadata": {},
		   "source": [
			"## Example 7.5_1: Estimate_upper_wavelength_cutoff.sce"
		   ]
		  },
  {
"cell_type": "code",
	   "execution_count": null,
	   "metadata": {
	    "collapsed": true
	   },
	   "outputs": [],
"source": [
"// Example 7.5.1  page 7.24\n",
"\n",
"clc;\n",
"clear;\n",
"\n",
"h=6.626d-34;    //plank's constant\n",
"c=3d8;      //speed of light\n",
"e=1.6d-19;  //charge of electron\n",
"q=1.43;     //Bandgap energy\n",
"\n",
"lamda=h*c/(q*e)*10^9;    //computing wavelength\n",
"printf('\nWavelength is %d nm',lamda);\n",
"printf('\nThis proves that photodiode will not operate for photon of wavelength greater than %d nm.',lamda);\n",
"\n",
"//answer in the book 868nm; deviation of 1nm"
   ]
   }
,
{
		   "cell_type": "markdown",
		   "metadata": {},
		   "source": [
			"## Example 7.5_2: Find_photocurrent.sce"
		   ]
		  },
  {
"cell_type": "code",
	   "execution_count": null,
	   "metadata": {
	    "collapsed": true
	   },
	   "outputs": [],
"source": [
"// Example 7.5.2  page 7.24\n",
"\n",
"clc;\n",
"clear;\n",
"\n",
"R=0.6;      //responsivity\n",
"Pin=15;     //optical power in microwatt\n",
"\n",
"Ip=R*Pin;       //computing photocurrent\n",
"printf('\nPhotocurrent generated is %d microAmpere.',Ip);"
   ]
   }
,
{
		   "cell_type": "markdown",
		   "metadata": {},
		   "source": [
			"## Example 7.5_3: Find_cut_off_wavelength.sce"
		   ]
		  },
  {
"cell_type": "code",
	   "execution_count": null,
	   "metadata": {
	    "collapsed": true
	   },
	   "outputs": [],
"source": [
"// Example 7.5.3  page 7.24\n",
"\n",
"clc;\n",
"clear;\n",
"\n",
"lamda1=1300d-9;\n",
"lamda2=1600d-9;\n",
"h=6.625d-34;    //plank's constant\n",
"c=3d8;      //speed of light\n",
"q=1.6d-19;  //charge of electron\n",
"eta=90/100; //quantum efficiency\n",
"E=0.73;      //energy gap in eV\n",
"R1=eta*q*lamda1/(h*c);\n",
"R2=eta*q*lamda2/(h*c);\n",
"lamdac=1.24/E;\n",
"\n",
"printf('\nResponsivity at 1300nm is %.2f A/W.\nResponsivity at 1600nm is %.2f A/W.\nCut-off wavelength is %.1f micrometer.',R1,R2,lamdac);\n",
"\n",
"//R1 is calculated as 0.92 in the book, deviation of 0.02."
   ]
   }
,
{
		   "cell_type": "markdown",
		   "metadata": {},
		   "source": [
			"## Example 7.5_4: Determine_quantum_efficiency_and_responsivity.sce"
		   ]
		  },
  {
"cell_type": "code",
	   "execution_count": null,
	   "metadata": {
	    "collapsed": true
	   },
	   "outputs": [],
"source": [
"// Example 7.5.4  page 7.25\n",
"\n",
"clc;\n",
"clear;\n",
"\n",
"lamda=0.8d-6;\n",
"h=6.625d-34;    //plank's constant\n",
"c=3d8;      //speed of light\n",
"q=1.6d-19;  //charge of electron\n",
"ne=1.8d11;  //electrons collected\n",
"np=4d11;    //photons incident\n",
"\n",
"eta=ne/np;      //computing quantum efficiency\n",
"R=eta*q*lamda/(h*c);    //computing responsivity\n",
"\n",
"printf('\nResponsivity of photodiode at 0.8 micrometer is %.3f A/W.',R);\n",
"\n",
"//answer in the book is 0.289. deviation of 0.001 A/W"
   ]
   }
,
{
		   "cell_type": "markdown",
		   "metadata": {},
		   "source": [
			"## Example 7.5_5: Find_wavelength_and_incident_power.sce"
		   ]
		  },
  {
"cell_type": "code",
	   "execution_count": null,
	   "metadata": {
	    "collapsed": true
	   },
	   "outputs": [],
"source": [
"\n",
"// Example 7.5.5  page 7.25\n",
"\n",
"clc;\n",
"clear;\n",
"\n",
"h=6.626d-34;    //plank's constant\n",
"c=3d8;      //speed of light\n",
"eta=70/100; //quantum efficiency\n",
"I=3d-6;     //photocurrent \n",
"E=1.8d-19;  //energy of photns\n",
"q=1.6d-19;  //charge of electron\n",
"\n",
"lamda=h*c/E;   //computing wavelength\n",
"R=eta*q*lamda/(h*c);    //computing responsivity\n",
"Popt=I/R;       //computing optical power\n",
"lamda=lamda*10^6;\n",
"Popt=Popt*10^6;\n",
"\n",
"printf('\nWavelength is %.2f micrometer.\nResponsivity is %.3f A/W.\nIncident optical power required is %.3f microWatt.',lamda,R,Popt);\n",
"\n",
"//answer of Popt in the book is calculated as 4.823, deviation of 0.002"
   ]
   }
,
{
		   "cell_type": "markdown",
		   "metadata": {},
		   "source": [
			"## Example 7.5_6: Determine_wavelength.sce"
		   ]
		  },
  {
"cell_type": "code",
	   "execution_count": null,
	   "metadata": {
	    "collapsed": true
	   },
	   "outputs": [],
"source": [
"// Example 7.5.6  page 7.26\n",
"\n",
"clc;\n",
"clear;\n",
"\n",
"h=6.626d-34;    //plank's constant\n",
"c=3d8;      //speed of light\n",
"q=1.6d-19;  //charge of electron\n",
"E=1.35;      //energy gap in eV\n",
"\n",
"lamda=h*c/(q*E);   //computing wavelength\n",
"lamda=lamda*10^6;\n",
"\n",
"printf('\nThe InP photodetector will stop operation above %.2f micrometer.',lamda);\n",
"printf('\nNOTE - calculation error in the book');\n",
"\n",
"//calculation error in the book\n",
"//answer in the book 1.47 micrometer.(incorrect)"
   ]
   }
,
{
		   "cell_type": "markdown",
		   "metadata": {},
		   "source": [
			"## Example 7.5_7: Calculate_wavelength_and_incident_optical_power.sce"
		   ]
		  },
  {
"cell_type": "code",
	   "execution_count": null,
	   "metadata": {
	    "collapsed": true
	   },
	   "outputs": [],
"source": [
"\n",
"// Example 7.5.7  page 7.27\n",
"\n",
"clc;\n",
"clear;\n",
"\n",
"h=6.626d-34;    //plank's constant\n",
"c=3d8;      //speed of light\n",
"eta=65/100; //quantum efficiency\n",
"I=2.5d-6;     //photocurrent \n",
"E=1.5d-19;  //energy of photns\n",
"q=1.6d-19;  //charge of electron\n",
"\n",
"lamda=h*c/E;   //computing wavelength\n",
"R=eta*q*lamda/(h*c);    //computing responsivity\n",
"Popt=I/R;       //computing optical power\n",
"lamda=lamda*10^6;\n",
"Popt=Popt*10^6;\n",
"\n",
"printf('\nWavelength is %.3f micrometer.\nResponsivity is %.3f A/W.\nIncident optical power required is %.1f microWatt.',lamda,R,Popt);\n",
"\n",
"//answer of R(responsivity) in the book is calculated as 0.694 A/W, deviation of 0.001."
   ]
   }
,
{
		   "cell_type": "markdown",
		   "metadata": {},
		   "source": [
			"## Example 7.5_8: Find_quantum_efficiency.sce"
		   ]
		  },
  {
"cell_type": "code",
	   "execution_count": null,
	   "metadata": {
	    "collapsed": true
	   },
	   "outputs": [],
"source": [
"// Example 7.5.8  page 7.27\n",
"\n",
"clc;\n",
"clear;\n",
"\n",
"ne=3.9d6;  //electrons collected\n",
"np=6d6;    //photons incident\n",
"\n",
"eta=100*ne/np;  //computing efficiency\n",
"printf('\nQuantum efficiency is %d percent.',eta);"
   ]
   }
,
{
		   "cell_type": "markdown",
		   "metadata": {},
		   "source": [
			"## Example 7.8_1: Determine_drift_time_and_junction_temperature.sce"
		   ]
		  },
  {
"cell_type": "code",
	   "execution_count": null,
	   "metadata": {
	    "collapsed": true
	   },
	   "outputs": [],
"source": [
"// Example 7.8.1  page 7.39\n",
"\n",
"clc;\n",
"clear;\n",
"\n",
"w=25d-6;    //width\n",
"v=1d5;      //velocity\n",
"r=40d-6;    //radius\n",
"eps=12.5d-13;\n",
"\n",
"t=w/v;      //computing drift time\n",
"c=eps*3.14*(r)^2/w;     //computing junction capacitance\n",
"c=c*10^16;\n",
"printf('\nDrift time %.1e sec.\nJunction capacitance %.1f pf.',t,c);\n",
"printf('\nCalculation error in the book at the answer of drift time.');\n",
"\n",
"//calculation error in drift time answer in the book is 25*10^-10. it should be 2.5*10^-10.\n",
"\n",
"\n",
""
   ]
   }
,
{
		   "cell_type": "markdown",
		   "metadata": {},
		   "source": [
			"## Example 7.8_2: Find_maximum_response_time.sce"
		   ]
		  },
  {
"cell_type": "code",
	   "execution_count": null,
	   "metadata": {
	    "collapsed": true
	   },
	   "outputs": [],
"source": [
"// Example 7.8.2  page 7.39\n",
"\n",
"clc;\n",
"clear;\n",
"\n",
"w=20d-6;    //width\n",
"v=4d4;      //velocity\n",
"\n",
"t=w/v;      //computing drift time\n",
"BW=(2*%pi*t)^-1;        //computing bandwidth\n",
"rt=1/BW;    //computing response time\n",
"rt=rt*10^9;\n",
"\n",
"printf('\nMaximum response time is %.1f ns.',rt);\n",
"printf('\nNOTE - Calculation error in the book.');\n",
"\n",
"//Calculation error in the book, answer given is 6.2ns"
   ]
   }
,
{
		   "cell_type": "markdown",
		   "metadata": {},
		   "source": [
			"## Example 7.9_1: Calculate_noise_equivalent_power_and_specific_directivity.sce"
		   ]
		  },
  {
"cell_type": "code",
	   "execution_count": null,
	   "metadata": {
	    "collapsed": true
	   },
	   "outputs": [],
"source": [
"// Example 7.9.1  page 7.45\n",
"\n",
"clc;\n",
"clear;\n",
"\n",
"lamda=1.4d-6;\n",
"h=6.626d-34;    //plank's constant\n",
"c=3d8;      //speed of light\n",
"q=1.6d-19;  //charge of electron\n",
"eta=65/100; //quantum efficiency\n",
"I=10d-9;    //current\n",
"\n",
"NEP= h*c*sqrt(2*q*I)/(eta*q*lamda);\n",
"D=NEP^-1;\n",
"\n",
"printf('\nNoise equivalent power is %.3e W.\nSpecific directivity is %.2e.',NEP,D);\n",
"\n",
"//answers in the book for NEP is 7.683*10^-14, deviation of 0.04*10^-14.\n",
"//answers in the book for D is 13.01 *10^12, deviation of 0.11*10^12."
   ]
   }
,
{
		   "cell_type": "markdown",
		   "metadata": {},
		   "source": [
			"## Example 7.9_2: Find_mean_square_quantum_noise_current_and_mean_square_dark_current.sce"
		   ]
		  },
  {
"cell_type": "code",
	   "execution_count": null,
	   "metadata": {
	    "collapsed": true
	   },
	   "outputs": [],
"source": [
"// Example 7.9.2  page 7.46\n",
"\n",
"clc;\n",
"clear;\n",
"\n",
"lamda=1300d-9;\n",
"h=6.626d-34;    //plank's constant\n",
"c=3d8;      //speed of light\n",
"q=1.6d-19;  //charge of electron\n",
"eta=90/100; //quantum efficiency\n",
"P0=300d-9;  //optical power\n",
"Id=4;    //dark current\n",
"B=20d6;     //bandwidth\n",
"K=1.39d-23; //Boltzman constant\n",
"T=298;      //temperature\n",
"R=1000;     //load resister\n",
"Ip= 10^9*eta*P0*q*lamda/(h*c);\n",
"Its=10^9*(2*q*B*(Ip+Id));\n",
"Its=sqrt(Its);\n",
"printf('\nrms shot noise current is %.2f nA.',Its);\n",
"\n",
"It= 4*K*T*B/R;\n",
"It=sqrt(It);\n",
"printf('\nThermal noise is %.2e A.',It);\n",
"\n",
"//answer given in book for shot noise is 1.34nA, deviation of 0.01nA.\n",
"//answer given in book for Thermal noise it is 1.81*10^-8 A, deviation of 0.01*10^-8."
   ]
   }
],
"metadata": {
		  "kernelspec": {
		   "display_name": "Scilab",
		   "language": "scilab",
		   "name": "scilab"
		  },
		  "language_info": {
		   "file_extension": ".sce",
		   "help_links": [
			{
			 "text": "MetaKernel Magics",
			 "url": "https://github.com/calysto/metakernel/blob/master/metakernel/magics/README.md"
			}
		   ],
		   "mimetype": "text/x-octave",
		   "name": "scilab",
		   "version": "0.7.1"
		  }
		 },
		 "nbformat": 4,
		 "nbformat_minor": 0
}
