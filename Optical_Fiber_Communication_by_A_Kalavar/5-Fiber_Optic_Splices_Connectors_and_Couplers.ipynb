{
"cells": [
 {
		   "cell_type": "markdown",
	   "metadata": {},
	   "source": [
       "# Chapter 5: Fiber Optic Splices Connectors and Couplers"
	   ]
	},
{
		   "cell_type": "markdown",
		   "metadata": {},
		   "source": [
			"## Example 5.2_1: Calculate_loss_due_to_Fresnel_reflection.sce"
		   ]
		  },
  {
"cell_type": "code",
	   "execution_count": null,
	   "metadata": {
	    "collapsed": true
	   },
	   "outputs": [],
"source": [
"// Example 5.2.1  page 5.2\n",
"\n",
"clc;\n",
"clear;\n",
"\n",
"n1=1.47;        //refractive index of fiber\n",
"n=1;        //refractive index of air\n",
"\n",
"r=((n1-n)/(n1+n))^2;    //computing fraction of light reflected\n",
"loss=-10*log10(1-r);    //loss\n",
"total_loss=2*loss;\n",
"printf('r = %.3f, which means %.1f percent of the transimitted light is reflected at one interface',r,r*100);\n",
"printf('\nTotal loss is %.3f dB',total_loss);\n",
"\n",
"//answer in the book for total loss of fiber is 0.318 dB, deviation of 0.002"
   ]
   }
,
{
		   "cell_type": "markdown",
		   "metadata": {},
		   "source": [
			"## Example 5.2_2: Estimate_insertion_loss_due_to_lateral_misalingment.sce"
		   ]
		  },
  {
"cell_type": "code",
	   "execution_count": null,
	   "metadata": {
	    "collapsed": true
	   },
	   "outputs": [],
"source": [
"// Example 5.2.2  page 5.4\n",
"\n",
"clc;\n",
"clear;\n",
"\n",
"n1=1.47;        //refractive index of fiber\n",
"n=1;        //refractive index of air\n",
"d=40d-6;    //core diameter\n",
"y=4d-6;     //lateral dispalcement\n",
"\n",
"a=d/2;      //computing core radius\n",
"eta_lateral = (16*(n1/n)^2)/(%pi*(1+(n1/n))^4)*(2*acos(y/(2*a))-(y/a)*(1-(y/(2*a))^2)^0.5);     //computing eta_lateral with air gap\n",
"loss=-10*log10(eta_lateral);        //computing loss when air gap is present\n",
"eta_lateral1=(2*acos(y/(2*a))-(y/a)*(1-(y/(2*a))^2)^0.5)/%pi;       //computing eta_lateral without air gap\n",
"loss1=-10*log10(eta_lateral1);      //computing loss when air gap is not present\n",
"\n",
"printf('\nloss with air gap is %.2f dB.\nloss with no air gap is %.2f dB.\n Thus we can say that loss reduces considerably if there is no air gap.',loss,loss1);\n",
"\n",
"//answer in the book for loss with air gap is 0.91dB, deviation of 0.01dB."
   ]
   }
,
{
		   "cell_type": "markdown",
		   "metadata": {},
		   "source": [
			"## Example 5.2_3: Estimate_angular_misalignment_insertion_loss.sce"
		   ]
		  },
  {
"cell_type": "code",
	   "execution_count": null,
	   "metadata": {
	    "collapsed": true
	   },
	   "outputs": [],
"source": [
"// Example 5.2.3  page 5.5\n",
"\n",
"clc;\n",
"clear;\n",
"\n",
"n1=1.48;        //refractive index of fiber\n",
"n=1;        //refractive index of air\n",
"theta=10;   //angle in degree\n",
"NA1=0.3;\n",
"NA2=0.6\n",
"eta_angular1= (16*(n1/n)^2)/((1+(n1/n))^4)*(1-((n*theta*%pi/180)/(%pi*NA1)));   //computing eta angular\n",
"eta_angular2= (16*(n1/n)^2)/((1+(n1/n))^4)*(1-((n*theta*%pi/180)/(%pi*NA2)));   //computing eta angular\n",
"loss1=-10*log10(eta_angular1);      //computing loss\n",
"loss2=-10*log10(eta_angular2);      //computing loss\n",
"printf('\nLoss when NA is %.1f is %.2f dB.\nLoss when NA is %.1f is %.2f dB.',NA1,loss1,NA2,loss2);\n",
"printf('\nThus we can say that insertion loss is considerably reduced with higher NA.');"
   ]
   }
,
{
		   "cell_type": "markdown",
		   "metadata": {},
		   "source": [
			"## Example 5.2_4: Loss_due_to_Fresnel_reflection.sce"
		   ]
		  },
  {
"cell_type": "code",
	   "execution_count": null,
	   "metadata": {
	    "collapsed": true
	   },
	   "outputs": [],
"source": [
"// Example 5.2.4  page 5.7\n",
"\n",
"clc;\n",
"clear;\n",
"\n",
"n1=1.5;        //refractive index of fiber\n",
"n=1;        //refractive index of air\n",
"\n",
"r=((n1-n)/(n1+n))^2;    //computing fraction of light reflected\n",
"loss=-10*log10(1-r);    //loss\n",
"total_loss=2*loss;\n",
"printf('r = %.2f, which means %.1f percent of the transimitted light is reflected at one interface',r,r*100);\n",
"printf('\nTotal loss is %.2f dB',total_loss);\n",
"\n",
"//answer in the book for total loss of fiber is 0.36 dB, deviation of 0.01"
   ]
   }
,
{
		   "cell_type": "markdown",
		   "metadata": {},
		   "source": [
			"## Example 5.2_5: Estimate_insertion_loss_due_to_lateral_misalignment.sce"
		   ]
		  },
  {
"cell_type": "code",
	   "execution_count": null,
	   "metadata": {
	    "collapsed": true
	   },
	   "outputs": [],
"source": [
"// Example 5.2.5  page 5.7\n",
"\n",
"clc;\n",
"clear;\n",
"\n",
"n1=1.5;        //refractive index of fiber\n",
"n=1;        //refractive index of air\n",
"d=50d-6;    //core diameter\n",
"y=5d-6;     //lateral dispalcement\n",
"\n",
"a=d/2;      //computing core radius\n",
"eta_lateral = (16*(n1/n)^2)/(%pi*(1+(n1/n))^4)*(2*acos(y/(2*a))-(y/a)*(1-(y/(2*a))^2)^0.5);     //computing eta_lateral with air gap\n",
"loss=-10*log10(eta_lateral);        //computing loss when air gap is present\n",
"eta_lateral1=(2*acos(y/(2*a))-(y/a)*(1-(y/(2*a))^2)^0.5)/%pi;       //computing eta_lateral without air gap\n",
"loss1=-10*log10(eta_lateral1);      //computing loss when air gap is not present\n",
"\n",
"printf('\nloss with air gap is %.2f dB.\nloss with no air gap is %.2f dB.',loss,loss1);\n",
"\n",
"//answer in the book for loss with air gap is 0.95dB, deviation of 0.01dB."
   ]
   }
,
{
		   "cell_type": "markdown",
		   "metadata": {},
		   "source": [
			"## Example 5.2_6: Total_insertion_loss.sce"
		   ]
		  },
  {
"cell_type": "code",
	   "execution_count": null,
	   "metadata": {
	    "collapsed": true
	   },
	   "outputs": [],
"source": [
"// Example 5.2.6  page 5.8\n",
"\n",
"clc;\n",
"clear;\n",
"\n",
"n1=1.47;        //refractive index of fiber\n",
"n=1;        //refractive index of air\n",
"theta=3;   //angle in degree\n",
"d=80d-6;    //core diameter\n",
"y=2d-6;     //lateral dispalcement\n",
"delta=2/100;    //relative refractive index\n",
"\n",
"a=d/2;      //computing core radius\n",
"eta_lateral = (16*(n1/n)^2)/(%pi*(1+(n1/n))^4)*(2*acos(y/(2*a))-(y/a)*(1-(y/(2*a))^2)^0.5);     //computing eta lateral\n",
"loss_lateral=-10*log10(eta_lateral);    //computing loss due to lateral misalignment\n",
"eta_angular= (16*(n1/n)^2)/((1+(n1/n))^4)*(1-((n*theta*%pi/180)/(%pi*n1*(sqrt(2*delta)))));     //computing eta angular\n",
"loss_angular=-10*log10(eta_angular);   //computing loss due to angular misalignment\n",
"total_loss=loss_lateral+loss_angular;   //computing total loss due to misalignment\n",
"printf('\nloss due to lateral misalignment is %.2f dB.\nloss due to angular misalignment is %.2f dB.\nTotal loss is %.2f dB',loss_lateral,loss_angular,total_loss);\n",
"\n",
"//answer in the book for loss due to lateral misalignment is 0.48 dB, deviation of 0.02.\n",
"//answer in the book for total loss due is 1.05 dB, deviation of 0.02."
   ]
   }
,
{
		   "cell_type": "markdown",
		   "metadata": {},
		   "source": [
			"## Example 5.4_1: Find_insertion_loss.sce"
		   ]
		  },
  {
"cell_type": "code",
	   "execution_count": null,
	   "metadata": {
	    "collapsed": true
	   },
	   "outputs": [],
"source": [
"// Example 5.4.1  page 5.17\n",
"\n",
"clc;\n",
"clear;\n",
"\n",
"d=1d-6;     //lateral displacement\n",
"W=4.95d-6;  //MFD\n",
"\n",
"Lsm_lat= -10*log10(%e^(-(d/W)^2));      //computing loss\n",
"printf('\nInsertion loss is %.2f dB.',Lsm_lat);"
   ]
   }
,
{
		   "cell_type": "markdown",
		   "metadata": {},
		   "source": [
			"## Example 5.4_2: Find_angular_misalignment_loss.sce"
		   ]
		  },
  {
"cell_type": "code",
	   "execution_count": null,
	   "metadata": {
	    "collapsed": true
	   },
	   "outputs": [],
"source": [
"// Example 5.4.2  page 5.18\n",
"\n",
"clc;\n",
"clear;\n",
"\n",
"lamda=1.3d-6;   //wavelength\n",
"theta=1;        //angle in degree\n",
"n2=1.465;       //cladding refractive index\n",
"W=4.95d-6;      //MFD\n",
"\n",
"Lsm_ang= -10*log10(%e^(-(%pi*n2*W*(theta*%pi/180)/lamda)^2));      //computing loss\n",
"printf('\nInsertion loss is %.2f dB.',Lsm_ang);"
   ]
   }
,
{
		   "cell_type": "markdown",
		   "metadata": {},
		   "source": [
			"## Example 5.6_1: Determine_excess_loss_insertion_loss_cross_talk_and_split_ratio.sce"
		   ]
		  },
  {
"cell_type": "code",
	   "execution_count": null,
	   "metadata": {
	    "collapsed": true
	   },
	   "outputs": [],
"source": [
"// Example 5.6.1  page 5.30\n",
"\n",
"clc;\n",
"clear;\n",
"\n",
"p1=50d-6;\n",
"p2=0.003d-6;\n",
"p3=25d-6;\n",
"p4=26.5d-6\n",
"\n",
"EL=10*log10(p1/(p3+p4));        //computing excess loss\n",
"IL13=10*log10(p1/p3);     //computing insertion loss\n",
"IL14=10*log10(p1/p4);     //computing insertion loss\n",
"ct=10*log10(p2/p1);     //computing cross talk\n",
"sr=(p3/(p3+p4))*100;    //computing split ratio\n",
"\n",
"printf('\nExcess loss is %.2f dB.\nInsertion loss from port 1 to port 3 is %.2f dB.\nInsertion loss from port 1 to port 4 is %.2f dB.\ncross talk is %.2f dB.\nSplit ratio is %.2f percent',EL,IL13,IL14,ct,sr  );\n",
"printf('\nNOTE - calculation error in the book.\n Minus sign is not printed in the answer of excess loss.\nP1 is taken 25 instead of 50 while calculating cross talk.');\n",
"\n",
"//calculation error in the book.Minus sign is not printed in the answer of excess loss.P1 is taken 25 instead of 50 while calculating cross talk. \n",
"//answers in the book with slight deviations\n",
"//Excess loss is 0.12 dB.(printing error)\n",
"//Insertion loss from port 1 to port 4 is 2.75 dB.\n",
"//cross talk is -39.2 dB. (calculation error)"
   ]
   }
,
{
		   "cell_type": "markdown",
		   "metadata": {},
		   "source": [
			"## Example 5.6_2: Find_total_loss_and_average_insertion_loss.sce"
		   ]
		  },
  {
"cell_type": "code",
	   "execution_count": null,
	   "metadata": {
	    "collapsed": true
	   },
	   "outputs": [],
"source": [
"// Example 5.6.2  page 5.32\n",
"\n",
"clc;\n",
"clear;\n",
"\n",
"N=16;       //Number of ports\n",
"Pin=1d-3;   //input power\n",
"Pout=12d-6; //output power\n",
"\n",
"split_loss=10*log10(N);     //computing split loss\n",
"excess_loss=10*log10(Pin/(Pout*N));     //computing excess loss\n",
"total_loss=split_loss+excess_loss;      //computing total loss\n",
"insertion_loss= 10*log10(Pin/Pout);     //computing insertion loss\n",
"\n",
"printf('\nTotal loss is %.2f dB.\nInsertion loss is %.2f dB.',total_loss,insertion_loss);\n",
"\n",
"//answer in the book for Total loss is 19.14, deviation of 0.06dB.\n",
"//answer in the book for insertion loss is 19.20, deviation of 0.01dB."
   ]
   }
],
"metadata": {
		  "kernelspec": {
		   "display_name": "Scilab",
		   "language": "scilab",
		   "name": "scilab"
		  },
		  "language_info": {
		   "file_extension": ".sce",
		   "help_links": [
			{
			 "text": "MetaKernel Magics",
			 "url": "https://github.com/calysto/metakernel/blob/master/metakernel/magics/README.md"
			}
		   ],
		   "mimetype": "text/x-octave",
		   "name": "scilab",
		   "version": "0.7.1"
		  }
		 },
		 "nbformat": 4,
		 "nbformat_minor": 0
}
