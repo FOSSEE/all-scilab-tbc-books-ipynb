{
"cells": [
 {
		   "cell_type": "markdown",
	   "metadata": {},
	   "source": [
       "# Chapter 10: state space analysis"
	   ]
	},
{
		   "cell_type": "markdown",
		   "metadata": {},
		   "source": [
			"## Example 10.10: diagonalized_form_of_state_equation.sce"
		   ]
		  },
  {
"cell_type": "code",
	   "execution_count": null,
	   "metadata": {
	    "collapsed": true
	   },
	   "outputs": [],
"source": [
"A=[0 1;-2 -3];\n",
"[V,lambda]=spec(A);\n",
"B=[1;2];\n",
"Bhat=P*B\n",
"disp(P,'P=')\n",
"disp(Bhat,'B^=')\n",
"disp(lambda,'lambda=')"
   ]
   }
,
{
		   "cell_type": "markdown",
		   "metadata": {},
		   "source": [
			"## Example 10.11: controllability_and_observability.sce"
		   ]
		  },
  {
"cell_type": "code",
	   "execution_count": null,
	   "metadata": {
	    "collapsed": true
	   },
	   "outputs": [],
"source": [
"A=[1 0;1 -1];\n",
"[V,lambda]=spec(A);\n",
"B=[1;0];\n",
"C=[1 -2];\n",
"P=inv(V);\n",
"Bhat=P*B\n",
"Chat=C*inv(P)\n",
"disp(' (a):')\n",
"disp(Bhat,'B^=')\n",
"disp(Chat,'C^=')\n",
"A=[-1 0;-2 1];\n",
"[V,lambda]=spec(A);\n",
"B=[1;1];\n",
"C=[0 1];\n",
"P=inv(V);\n",
"Bhat=P*B\n",
"Chat=C*inv(P)\n",
"disp('Part (b):')\n",
"disp(Bhat,'B^=')\n",
"disp(Chat,'c^=')"
   ]
   }
,
{
		   "cell_type": "markdown",
		   "metadata": {},
		   "source": [
			"## Example 10.12: state_space_description_of_a_given_description.sce"
		   ]
		  },
  {
"cell_type": "code",
	   "execution_count": null,
	   "metadata": {
	    "collapsed": true
	   },
	   "outputs": [],
"source": [
"A=[0 1;-1/6 5/6];\n",
"B=[0;1];\n",
"C=[-1 5];\n",
"D=0;\n",
"sys=syslin('d',A,B,C,D);\n",
"N=25;\n",
"x=ones(1,N+1);n=(0:N);\n",
"q0=[2;3];\n",
"[ y q]=csim('step',n,sys);\n",
"y=dsimul(sys,x);\n",
"plot2d3(y)"
   ]
   }
,
{
		   "cell_type": "markdown",
		   "metadata": {},
		   "source": [
			"## Example 10.13: total_response_using_z_transform.sce"
		   ]
		  },
  {
"cell_type": "code",
	   "execution_count": null,
	   "metadata": {
	    "collapsed": true
	   },
	   "outputs": [],
"source": [
"//LTi Systems characterized by Linear Constant\n",
"//Inverse Z Transform\n",
"//z = %z;\n",
"syms n z;\n",
"H1 = (-2*z)/(z-(1/3));\n",
"H2 = (3*z)/(z-0.5);\n",
"H3 = (24*z)/(z-1);\n",
"F1 = H1*z^(n-1)*(z-(1/3));\n",
"F2 = H2*z^(n-1)*(z-0.5);\n",
"F3 = H3*z^(n-1)*(z-1);\n",
"h1 = limit(F1,z,(1/3));\n",
"disp(h1,'h1[n]=')\n",
"h2 = limit(F2,z,0.5);\n",
"disp(h2,'h2[n]=')\n",
"h3 = limit(F3,z,1);\n",
"disp(h3,'h3[n]=')\n",
"h = h1+h2+h3;\n",
"disp(h,'h[n]=') "
   ]
   }
,
{
		   "cell_type": "markdown",
		   "metadata": {},
		   "source": [
			"## Example 10.4: state_space_descrption_by_transfer_function.sce"
		   ]
		  },
  {
"cell_type": "code",
	   "execution_count": null,
	   "metadata": {
	    "collapsed": true
	   },
	   "outputs": [],
"source": [
"//signals and systems\n",
"//state space analysis\n",
"//state space description\n",
"clear;\n",
"close;\n",
"clc;\n",
"s=poly(0,'s'); \n",
"H=[(4/3)/(1+s),-2/(3+s), (2/3)/(4+s)];\n",
"Sys=tf2ss(H)\n",
"clean(ss2tf(Sys))\n",
"disp(Sys)"
   ]
   }
,
{
		   "cell_type": "markdown",
		   "metadata": {},
		   "source": [
			"## Example 10.5: finding_the_state_vector.sce"
		   ]
		  },
  {
"cell_type": "code",
	   "execution_count": null,
	   "metadata": {
	    "collapsed": true
	   },
	   "outputs": [],
"source": [
"syms t s\n",
"A=[-12 2/3;-36 -1]; B=[1/3;1]; q0=[2;1]; X=1/s;\n",
"size(A)\n",
"size(s*eye(2,2))\n",
"Q=inv(s*eye(2,2)-A)*(q0+B*X);\n",
"q=[];\n",
"q(1)=ilaplace(Q(1));\n",
"q(2)=ilaplace(Q(2));\n",
"disp(q*'u(t)','[q1(t) ; q2(t)]')"
   ]
   }
,
{
		   "cell_type": "markdown",
		   "metadata": {},
		   "source": [
			"## Example 10.6: state_space_descrption_by_transfer_function.sce"
		   ]
		  },
  {
"cell_type": "code",
	   "execution_count": null,
	   "metadata": {
	    "collapsed": true
	   },
	   "outputs": [],
"source": [
"A=[0 1;-2 -3];\n",
"B=[1 0;1 1];\n",
"C=[1 0;1 1;0 2];\n",
"D=[0 0;1 0; 0 1];\n",
"syms s;\n",
"H=C*inv(s*eye(2,2)-A)*B+D;\n",
"disp(H,'the transfer function matrix H(s)=')\n",
"disp(H(3,2),'the transfer function relating y3 and x2 is H32(s)=')"
   ]
   }
,
{
		   "cell_type": "markdown",
		   "metadata": {},
		   "source": [
			"## Example 10.7: time_domain_method.sce"
		   ]
		  },
  {
"cell_type": "code",
	   "execution_count": null,
	   "metadata": {
	    "collapsed": true
	   },
	   "outputs": [],
"source": [
"//signals and systems\n",
"//state space\n",
"//time domain method to find the state vector\n",
"clc;\n",
"clf;\n",
"s=poly(0,'s');\n",
"A=[s+12 -2/3; 36 s+1];\n",
"y=roots(det(A))\n",
"t=poly(0,'t');\n",
"beta=inv([1 y(1); 1 y(2)])*[%e^-y(1)*t; %e^-y(2)*t];\n",
"disp(beta)\n",
"size(beta)\n",
"W=beta(1)*[1 0;0 1]+ beta(2)*[-12 2/3;-36 -1];\n",
"zir=W*[2;1];\n",
"disp(zir);\n",
"zsr=W*[1/3;1];\n",
"disp(zsr);\n",
"total=zir+zsr;\n",
"disp(total);"
   ]
   }
,
{
		   "cell_type": "markdown",
		   "metadata": {},
		   "source": [
			"## Example 10.8: state_space_descrption_by_transfer_function.sce"
		   ]
		  },
  {
"cell_type": "code",
	   "execution_count": null,
	   "metadata": {
	    "collapsed": true
	   },
	   "outputs": [],
"source": [
"syms t s;\n",
"F1=ilaplace((s+3)/((s+1)*(s+2))) \n",
"F2=ilaplace(1/((s+1)*(s+2)))\n",
"F3=ilaplace(-2/((s+1)*(s+2)))\n",
"F4=ilaplace(s/((s+1)*(s+2)))\n",
"F=[F1 F2;F3 F4];\n",
"disp(F,'f(t)=')\n",
"A=[1 0;1 1;0 2];\n",
"B=[0 0;1 0;0 1];\n",
"h=A*F*[1 0;1 1]+B*eye(2,2);//here 1 represents del(t)\n",
"disp(h,'h(t)=')"
   ]
   }
,
{
		   "cell_type": "markdown",
		   "metadata": {},
		   "source": [
			"## Example 10.9: state_equations_of_a_given_systems.sce"
		   ]
		  },
  {
"cell_type": "code",
	   "execution_count": null,
	   "metadata": {
	    "collapsed": true
	   },
	   "outputs": [],
"source": [
"A=[0 1;-2 -3];\n",
"B=[1;2];\n",
"P=[1 1;1 -1];\n",
"Ahat= P*A*inv(P)\n",
"Bhat=P*B\n",
"disp(Ahat,'A^=')\n",
"disp(Bhat,'B^=')"
   ]
   }
],
"metadata": {
		  "kernelspec": {
		   "display_name": "Scilab",
		   "language": "scilab",
		   "name": "scilab"
		  },
		  "language_info": {
		   "file_extension": ".sce",
		   "help_links": [
			{
			 "text": "MetaKernel Magics",
			 "url": "https://github.com/calysto/metakernel/blob/master/metakernel/magics/README.md"
			}
		   ],
		   "mimetype": "text/x-octave",
		   "name": "scilab",
		   "version": "0.7.1"
		  }
		 },
		 "nbformat": 4,
		 "nbformat_minor": 0
}
