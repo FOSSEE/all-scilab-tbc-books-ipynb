{
"cells": [
 {
		   "cell_type": "markdown",
	   "metadata": {},
	   "source": [
       "# Chapter 1: signals and systems"
	   ]
	},
{
		   "cell_type": "markdown",
		   "metadata": {},
		   "source": [
			"## Example 1.10: input_output_equation.sce"
		   ]
		  },
  {
"cell_type": "code",
	   "execution_count": null,
	   "metadata": {
	    "collapsed": true
	   },
	   "outputs": [],
"source": [
"//signals and systems\n",
"//formation of differential equation for a series RC circuit \n",
"clear\n",
"close\n",
"clc\n",
"r=15;\n",
"c=0.2;\n",
"//let the input voltage be x(t)\n",
"//let the loop current be i(t)\n",
"//let capacitor voltage be y(t)\n",
"disp('the loop equation 4 the circuit is given by r*i(t)+(5/D)*i(t)=x(t)')\n",
"disp('final form - (3D+1)y(t)=x(t)')\n",
"//the next few problems are of the same type where we have to frame the eqation based on the scenario"
   ]
   }
,
{
		   "cell_type": "markdown",
		   "metadata": {},
		   "source": [
			"## Example 1.2: power_and_rms_value.sce"
		   ]
		  },
  {
"cell_type": "code",
	   "execution_count": null,
	   "metadata": {
	    "collapsed": true
	   },
	   "outputs": [],
"source": [
"//signals and systems\n",
"//power and rms value of a signal\n",
"clear\n",
"close\n",
"clc\n",
"//part a is a periodic function with period 2*pi/w0\n",
"\n",
"disp('consider the power for almost infinite range');\n",
"disp('part (a)')\n",
"disp('integrating ((c*cos(w0*t +theta))^2) for this big range gives c^2/2 as the power which is irrespective of w0');\n",
"disp('rms value is the square root of power and therefpre equal to sqrt(c^2/2)\n\n');\n",
"//part b is the sum of 2 sinusoids\n",
"disp('part (b)')\n",
"disp('again integrating in the same way and ignoring the zero terms we get (c1^2+c2^2)/2');\n",
"//part c deals with a complex signal\n",
"disp('part (c)')\n",
"disp('integrating the expression we get |D|^2 as the power and |D| as the rms value');"
   ]
   }
,
{
		   "cell_type": "markdown",
		   "metadata": {},
		   "source": [
			"## Example 1.3: time_shifting.sce"
		   ]
		  },
  {
"cell_type": "code",
	   "execution_count": null,
	   "metadata": {
	    "collapsed": true
	   },
	   "outputs": [],
"source": [
"//signals and systems\n",
"//time shifting\n",
"clear\n",
"close\n",
"clc\n",
"t=[-4:0.001:4];\n",
"a=gca();\n",
"plot(t,(exp(-2*t)).*(t>0))\n",
"a.thickness=2;\n",
"a.y_location='middle';\n",
"xtitle=('the signal x(t)')\n",
"//delaying the function by 1 second we obtain\n",
"figure\n",
"a=gca();\n",
"plot(t,(exp(-2*(t-1))).*((t>1)))\n",
"a.thickness=2;\n",
"a.y_location='middle';\n",
"title=('the signal x(t-1)')\n",
"//advancing the function by 1 second we obtain\n",
"figure\n",
"a=gca();\n",
"plot(t,(exp(-2*(t+1))).*(t>-1))\n",
"a.thickness=2;\n",
"a.y_location='middle';\n",
"xtitle=('the signal x(t+1)')"
   ]
   }
,
{
		   "cell_type": "markdown",
		   "metadata": {},
		   "source": [
			"## Example 1.4: time_scaling.sce"
		   ]
		  },
  {
"cell_type": "code",
	   "execution_count": null,
	   "metadata": {
	    "collapsed": true
	   },
	   "outputs": [],
"source": [
"//signals and systems\n",
"//time scaling\n",
"clear\n",
"close\n",
"clc\n",
"t=[-4:0.1:6];\n",
"a=gca();\n",
"plot(t,2.*((t>-1.5)&(t<=0))+2*exp(-t/2).*((t>0)&(t<=3)));\n",
"figure\n",
"a.thickness=2;\n",
"a.y_location='middle';\n",
"xtitle=('the signal x(t)');\n",
"//compressing this graph by a factor 3\n",
"a=gca();\n",
"plot(t,2.*((t>-0.5)&(t<=0))+2*exp(-3*t/2).*((t>0)&(t<=1)));\n",
"figure\n",
"a.thickness=2;\n",
"a.y_location='middle';\n",
"xtitle=('the signal x(3t)');\n",
"//expanding this signal by a factor 2\n",
"a=gca();\n",
"plot(t,2.*((t>-3)&(t<=0))+2*exp(-t/4).*((t>0)&(t<=6)));\n",
"a.thickness=2;\n",
"a.y_location='middle';\n",
"xtitle=('the signal x(t/2)');\n",
"//the coordinates can b easily obtained from the graphs"
   ]
   }
,
{
		   "cell_type": "markdown",
		   "metadata": {},
		   "source": [
			"## Example 1.5: time_reversal.sce"
		   ]
		  },
  {
"cell_type": "code",
	   "execution_count": null,
	   "metadata": {
	    "collapsed": true
	   },
	   "outputs": [],
"source": [
"//signals and systems\n",
"//time reversal\n",
"clear\n",
"close\n",
"clc\n",
"t=[-6:0.1:6];\n",
"a=gca();\n",
"plot(t,exp(t/2).*((t>=-5)&(t<=-1)));\n",
"figure\n",
"a.thickness=2;\n",
"a.y_location='middle';\n",
"xtitle=('the signal x(t)')\n",
"//by replacing t by -t we get\n",
"a=gca();\n",
"plot(t,exp(-t/2).*((t>=1)&(t<5)));\n",
"a.thickness=2;\n",
"a.y_location='middle';\n",
"xtitle=('the signal x(-t)')\n",
"//the coordinates can be easily observed from the graphs\n",
""
   ]
   }
,
{
		   "cell_type": "markdown",
		   "metadata": {},
		   "source": [
			"## Example 1.6: basic_signal_models.sce"
		   ]
		  },
  {
"cell_type": "code",
	   "execution_count": null,
	   "metadata": {
	    "collapsed": true
	   },
	   "outputs": [],
"source": [
"//signals and systems\n",
"//representation of a signal\n",
"clear\n",
"close\n",
"clc\n",
"t=[0:0.1:5];\n",
"a=gca();\n",
"plot(t,t.*((t>=0)&(t<=2)) - 2*(t-3).*((t>2)&(t<=3)));\n",
"a.thickness=2;\n",
"a.y_location='middle';\n",
"xtitle=('the signal x(t)')\n",
"//this can be written as a combination of 2 lines\n",
"disp('x(t)=x1(t)+x2(t)= tu(t)-3(t-2)u(t-2)+2(t-3)u(t-3)');"
   ]
   }
,
{
		   "cell_type": "markdown",
		   "metadata": {},
		   "source": [
			"## Example 1.7: describing_a_signal_in_a_single_expression.sce"
		   ]
		  },
  {
"cell_type": "code",
	   "execution_count": null,
	   "metadata": {
	    "collapsed": true
	   },
	   "outputs": [],
"source": [
"//signals and systems\n",
"//representation of a signal\n",
"clear\n",
"close\n",
"clc\n",
"t=[-2:0.1:5];\n",
"a=gca();\n",
"plot(t,2.*((t>=-1.5)&(t<0))+2*exp(-t/2).*((t>=0)&(t<3)));\n",
"a.thickness=2;\n",
"a.y_location='middle';\n",
"xtitle=('the signal x(t-1)')\n",
"//this is a cobination of a constant function and an exponential function\n",
"disp('x(t)=x1(t)+x2(t)= 2u(t+1.5)-2(1-exp(-t/2))u(t)-2exp(-t/2)u(t-3)');"
   ]
   }
,
{
		   "cell_type": "markdown",
		   "metadata": {},
		   "source": [
			"## Example 1.8: even_and_odd_components_of_a_signal.sce"
		   ]
		  },
  {
"cell_type": "code",
	   "execution_count": null,
	   "metadata": {
	    "collapsed": true
	   },
	   "outputs": [],
"source": [
"//signals and systems\n",
"//odd and even components\n",
"clear\n",
"close\n",
"clc\n",
"t = 0:1/100:5;\n",
"x=exp(%i.*t);\n",
"y=exp(-%i.*t);\n",
"even=x./2+y./2;\n",
"odd=x./2-y./2;\n",
"figure\n",
"a=gca();\n",
"plot2d(t,even)\n",
"a.x_location='origin'\n",
"xtitle=('even')\n",
"figure\n",
"a=gca();\n",
"plot2d(t,odd./%i)\n",
"a.x_location='origin'\n",
"xtitle=('odd')"
   ]
   }
],
"metadata": {
		  "kernelspec": {
		   "display_name": "Scilab",
		   "language": "scilab",
		   "name": "scilab"
		  },
		  "language_info": {
		   "file_extension": ".sce",
		   "help_links": [
			{
			 "text": "MetaKernel Magics",
			 "url": "https://github.com/calysto/metakernel/blob/master/metakernel/magics/README.md"
			}
		   ],
		   "mimetype": "text/x-octave",
		   "name": "scilab",
		   "version": "0.7.1"
		  }
		 },
		 "nbformat": 4,
		 "nbformat_minor": 0
}
