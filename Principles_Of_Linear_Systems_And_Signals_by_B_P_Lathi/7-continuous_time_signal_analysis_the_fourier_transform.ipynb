{
"cells": [
 {
		   "cell_type": "markdown",
	   "metadata": {},
	   "source": [
       "# Chapter 7: continuous time signal analysis the fourier transform"
	   ]
	},
{
		   "cell_type": "markdown",
		   "metadata": {},
		   "source": [
			"## Example 7.12: fourier_transform_of_exponential_function.sce"
		   ]
		  },
  {
"cell_type": "code",
	   "execution_count": null,
	   "metadata": {
	    "collapsed": true
	   },
	   "outputs": [],
"source": [
"//signals and systems\n",
"//Continuous Time Fourier Transform\n",
"//Continuous Time Signal x(t)= exp(-A*abs(t))\n",
"clear;\n",
"clc;\n",
"close;\n",
"\n",
"A =1;    //Amplitude\n",
"Dt = 0.005;\n",
"t = -4.5:Dt:4.5;\n",
"xt = exp(-A*abs(t));\n",
"\n",
"Wmax = 2*%pi*1;        //Analog Frequency = 1Hz\n",
"K = 4;\n",
"k = 0:(K/1000):K;\n",
"W = k*Wmax/K;\n",
"XW = xt* exp(-sqrt(-1)*t'*W) * Dt;\n",
"XW = real(XW);\n",
"W = [-mtlb_fliplr(W), W(2:1001)]; // Omega from -Wmax to Wmax\n",
"XW = [mtlb_fliplr(XW), XW(2:1001)];\n",
"subplot(1,1,1)\n",
"subplot(2,1,1);\n",
"a = gca();\n",
"a.y_location = 'origin';\n",
"plot(t,xt);\n",
"xlabel('t in sec.');\n",
"ylabel('x(t)')\n",
"title('Continuous Time Signal')\n",
"subplot(2,1,2);\n",
"a = gca();\n",
"a.y_location = 'origin';\n",
"plot(W,XW);\n",
"xlabel('Frequency in Radians/Seconds W');\n",
"ylabel('X(jW)')\n",
"title('Continuous-time Fourier Transform')"
   ]
   }
,
{
		   "cell_type": "markdown",
		   "metadata": {},
		   "source": [
			"## Example 7.1: fourier_transform_of_exponential_function.sce"
		   ]
		  },
  {
"cell_type": "code",
	   "execution_count": null,
	   "metadata": {
	    "collapsed": true
	   },
	   "outputs": [],
"source": [
"//signals and systems\n",
"//continuous time signal analysis the fourier transform\n",
"//fourier transform of exp(-A*t)\n",
"clear;\n",
"clc;\n",
"A =1;    //Amplitude\n",
"Dt = 0.005;\n",
"t = -4.5:Dt:4.5;\n",
"xt = exp(-A*abs(t));\n",
"Wmax = 2*%pi*1;        //Analog Frequency = 1Hz\n",
"K = 4;\n",
"k = 0:(K/1000):K;\n",
"W = k*Wmax/K;\n",
"XW = xt* exp(-sqrt(-1)*t'*W) * Dt;\n",
"XW = real(XW);\n",
"W = [-mtlb_fliplr(W), W(2:1001)]; // Omega from -Wmax to Wmax\n",
"XW = [mtlb_fliplr(XW), XW(2:1001)];\n",
"subplot(2,1,1);\n",
"a = gca();\n",
"a.y_location = 'origin';\n",
"plot(t,xt);\n",
"xlabel('t in sec.');\n",
"ylabel('x(t)')\n",
"title('Continuous Time Signal')\n",
"subplot(2,1,2);\n",
"a = gca();\n",
"a.y_location = 'origin';\n",
"plot(W,XW);\n",
"xlabel('Frequency in Radians/Seconds W');\n",
"ylabel('X(jW)')\n",
"title('Continuous-time Fourier Transform')"
   ]
   }
,
{
		   "cell_type": "markdown",
		   "metadata": {},
		   "source": [
			"## Example 7.4: inverse_fourier_transform.sce"
		   ]
		  },
  {
"cell_type": "code",
	   "execution_count": null,
	   "metadata": {
	    "collapsed": true
	   },
	   "outputs": [],
"source": [
"//Example 4.5\n",
"// Inverse Continuous Time Fourier Transform\n",
"// impulse funtion\n",
"clear;\n",
"clc;\n",
"close;\n",
"// CTFT\n",
"A =1;    //Amplitude\n",
"Dw = 0.005;\n",
"W1 = 4;  //Time in seconds\n",
"w = -W1/2:Dw:W1/2;\n",
"  for i=1:length(w)\n",
"      XW(1)=1;\n",
"      end\n",
"XW = XW';\n",
"\n",
"//Inverse Continuous-time Fourier Transform\n",
"t = -0.01:1/length(w):0.01;\n",
"xt =(1/(2*%pi))*XW *exp(sqrt(-1)*w'*t)*Dw;\n",
"xt = real(xt);\n",
"figure\n",
"a = gca();\n",
"a.y_location ='origin';\n",
"a.x_location ='origin';\n",
"plot(t,xt);\n",
"xlabel('                                     t time in Seconds');\n",
"title('Inverse Continuous Time Fourier Transform x(t)')"
   ]
   }
,
{
		   "cell_type": "markdown",
		   "metadata": {},
		   "source": [
			"## Example 7.5: inverse_fourier_transform.sce"
		   ]
		  },
  {
"cell_type": "code",
	   "execution_count": null,
	   "metadata": {
	    "collapsed": true
	   },
	   "outputs": [],
"source": [
"//signals and systems\n",
"// Inverse Continuous Time Fourier Transform\n",
"// shifted impulse function\n",
"clear;\n",
"clc;\n",
"close;\n",
"w0=1\n",
"A =1;    //Amplitude\n",
"Dw = 0.005;\n",
"W1 = 4;  //Time in seconds\n",
"w = -W1/2:Dw:W1/2;\n",
"XW=[zeros(1,length(w)/2) 1 zeros(1,length(w/2))];\n",
"XW = XW';\n",
"\n",
"//Inverse Continuous-time Fourier Transform\n",
"t = -0.01:1/length(w):0.01;\n",
"size(XW)\n",
"size(t)\n",
"xt =(1/(2*%pi))*XW *exp(sqrt(-1)*w'.*t).*exp(sqrt(-1).*t)*Dw;\n",
"xt = real(xt);\n",
"figure\n",
"a = gca();\n",
"a.y_location ='origin';\n",
"a.x_location ='origin';\n",
"plot(t,xt);\n",
"xlabel('                                     t time in Seconds');\n",
"title('Inverse Continuous Time Fourier Transform x(t)')"
   ]
   }
,
{
		   "cell_type": "markdown",
		   "metadata": {},
		   "source": [
			"## Example 7.6: fourier_transform_for_everlasting_sinusoid.sce"
		   ]
		  },
  {
"cell_type": "code",
	   "execution_count": null,
	   "metadata": {
	    "collapsed": true
	   },
	   "outputs": [],
"source": [
"//signals and systems\n",
"// Continuous Time Fourier Transforms\n",
"// Sinusoidal waveforms cos(Wot)\n",
"clear;\n",
"clc;\n",
"close;\n",
"\n",
"T1 = 2;\n",
"T = 4*T1;\n",
"Wo = 2*%pi/T;\n",
"W = [-Wo,0,Wo];\n",
"ak = (2*%pi*Wo*T1/%pi)/sqrt(-1);\n",
"XW = [-ak,0,ak];\n",
"ak1 = (2*%pi*Wo*T1/%pi);\n",
"XW1 =[ak1,0,ak1];\n",
"\n",
"figure\n",
"a = gca();\n",
"a.y_location ='origin';\n",
"a.x_location ='origin';\n",
"plot2d3('gnn',W,XW1,2);\n",
"poly1 = a.children(1).children(1);\n",
"poly1.thickness = 3; \n",
"xlabel('                                                       W');\n",
"title('CTFT of cos(Wot)')"
   ]
   }
,
{
		   "cell_type": "markdown",
		   "metadata": {},
		   "source": [
			"## Example 7.7: fourier_transform_of_a_periodic_signal.sce"
		   ]
		  },
  {
"cell_type": "code",
	   "execution_count": null,
	   "metadata": {
	    "collapsed": true
	   },
	   "outputs": [],
"source": [
"//signals and systems\n",
"// Continuous Time Fourier Transform of Symmetric\n",
"// periodic Square waveform\n",
"clear;\n",
"clc;\n",
"close;\n",
"\n",
"T1 = 2;\n",
"T = 4*T1;\n",
"Wo = 2*%pi/T;\n",
"W = -%pi:Wo:%pi;\n",
"delta = ones(1,length(W));\n",
"XW(1) = (2*%pi*Wo*T1/%pi);\n",
"mid_value = ceil(length(W)/2);\n",
"for k = 2:mid_value\n",
"  XW(k) = (2*%pi*sin((k-1)*Wo*T1)/(%pi*(k-1)));\n",
"end\n",
"figure\n",
"a = gca();\n",
"a.y_location ='origin';\n",
"a.x_location ='origin';\n",
"plot2d3('gnn',W(mid_value:$),XW,2);\n",
"poly1 = a.children(1).children(1);\n",
"poly1.thickness = 3; \n",
"plot2d3('gnn',W(1:mid_value-1),XW($:-1:2),2);\n",
"poly1 = a.children(1).children(1);\n",
"poly1.thickness = 3; \n",
"xlabel('W in radians/Seconds');\n",
"title('Continuous Time Fourier Transform of Periodic Square Wave')"
   ]
   }
,
{
		   "cell_type": "markdown",
		   "metadata": {},
		   "source": [
			"## Example 7.8: fourier_transform_of_a_unit_impulse_train.sce"
		   ]
		  },
  {
"cell_type": "code",
	   "execution_count": null,
	   "metadata": {
	    "collapsed": true
	   },
	   "outputs": [],
"source": [
"//signals and systems\n",
"//continuous time signal analysis the fourier transform \n",
"// Periodic Impulse Train\n",
"clear;\n",
"clc;\n",
"close;\n",
"T = -4:4;;\n",
"T1 = 1; //Sampling Interval\n",
"xt = ones(1,length(T));\n",
"ak = 1/T1;\n",
"XW = 2*%pi*ak*ones(1,length(T));\n",
"Wo = 2*%pi/T1;\n",
"W = Wo*T;\n",
"figure\n",
"subplot(2,1,1)\n",
"a = gca();\n",
"a.y_location ='origin';\n",
"a.x_location ='origin';\n",
"plot2d3('gnn',T,xt,2);\n",
"poly1 = a.children(1).children(1);\n",
"poly1.thickness = 3; \n",
"xlabel('                                                         t');\n",
"title('Periodic Impulse Train')\n",
"subplot(2,1,2)\n",
"a = gca();\n",
"a.y_location ='origin';\n",
"a.x_location ='origin';\n",
"plot2d3('gnn',W,XW,2);\n",
"poly1 = a.children(1).children(1);\n",
"poly1.thickness = 3; \n",
"xlabel('                                                         t');\n",
"title('CTFT of Periodic Impulse Train')"
   ]
   }
,
{
		   "cell_type": "markdown",
		   "metadata": {},
		   "source": [
			"## Example 7.9: fourier_transform_of_unit_step_function.sce"
		   ]
		  },
  {
"cell_type": "code",
	   "execution_count": null,
	   "metadata": {
	    "collapsed": true
	   },
	   "outputs": [],
"source": [
"//signals and systems\n",
"//continuous time signal analysis the fourier transform\n",
"//fourier transform of unit step function u(t)\n",
"clear;\n",
"clc;\n",
"A =0.000000001;    //Amplitude\n",
"Dt = 0.005;\n",
"t = 0:Dt:4.5;\n",
"xt = exp(-A*abs(t));\n",
"Wmax = 2*%pi*1;        //Analog Frequency = 1Hz\n",
"K = 4;\n",
"k = 0:(K/500):K;\n",
"W = k*Wmax/K;\n",
"XW = xt* exp(-sqrt(-1)*t'*W) * Dt;\n",
"XW = real(XW);\n",
"W = [-mtlb_fliplr(W), W(2:501)]; // Omega from -Wmax to Wmax\n",
"XW = [mtlb_fliplr(XW), XW(2:501)];\n",
"subplot(2,1,1);\n",
"a = gca();\n",
"a.y_location = 'origin';\n",
"plot(t,xt);\n",
"xlabel('t in sec.');\n",
"ylabel('x(t)')\n",
"title('Continuous Time Signal')\n",
"subplot(2,1,2);\n",
"a = gca();\n",
"a.y_location = 'origin';\n",
"plot(W,XW);\n",
"xlabel('Frequency in Radians/Seconds W');\n",
"ylabel('X(jW)')\n",
"title('Continuous-time Fourier Transform')"
   ]
   }
],
"metadata": {
		  "kernelspec": {
		   "display_name": "Scilab",
		   "language": "scilab",
		   "name": "scilab"
		  },
		  "language_info": {
		   "file_extension": ".sce",
		   "help_links": [
			{
			 "text": "MetaKernel Magics",
			 "url": "https://github.com/calysto/metakernel/blob/master/metakernel/magics/README.md"
			}
		   ],
		   "mimetype": "text/x-octave",
		   "name": "scilab",
		   "version": "0.7.1"
		  }
		 },
		 "nbformat": 4,
		 "nbformat_minor": 0
}
