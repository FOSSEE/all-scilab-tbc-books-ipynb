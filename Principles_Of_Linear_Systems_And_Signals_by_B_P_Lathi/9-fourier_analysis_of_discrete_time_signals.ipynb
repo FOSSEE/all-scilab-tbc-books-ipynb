{
"cells": [
 {
		   "cell_type": "markdown",
	   "metadata": {},
	   "source": [
       "# Chapter 9: fourier analysis of discrete time signals"
	   ]
	},
{
		   "cell_type": "markdown",
		   "metadata": {},
		   "source": [
			"## Example 9.10_a: sketching_the_spectrum_for_a_modulated_signal.sce"
		   ]
		  },
  {
"cell_type": "code",
	   "execution_count": null,
	   "metadata": {
	    "collapsed": true
	   },
	   "outputs": [],
"source": [
"//signals and systems\n",
"//discrete fourier transform\n",
"//Frequency Shifting Property of DTFT\n",
"clear;\n",
"clc;\n",
"close;\n",
"mag = 4;\n",
"W  = -%pi/4:0.1:%pi/4;\n",
"H1 = mag*ones(1,length(W));\n",
"W1 =W+%pi/2;\n",
"W2 = -W-%pi/2;\n",
"figure\n",
"subplot(2,1,1)\n",
"a = gca();\n",
"a.y_location ='origin';\n",
"a.x_location ='origin';\n",
"a.data_bounds=[-%pi,0;%pi,2];\n",
"plot2d(W,H1);\n",
"xtitle('Frequency Response of the given H(exp(jW))')\n",
"subplot(2,1,2)\n",
"a = gca();\n",
"a.y_location ='origin';\n",
"a.x_location ='origin';\n",
"a.data_bounds=[-2*%pi,0;2*%pi,2];\n",
"plot2d(W1,0.5*H1);\n",
"plot2d(W2,0.5*H1);\n",
"xtitle('Frequency Response of modulated signal H1(exp(jW))')"
   ]
   }
,
{
		   "cell_type": "markdown",
		   "metadata": {},
		   "source": [
			"## Example 9.13: frequency_response_of_LTID.sce"
		   ]
		  },
  {
"cell_type": "code",
	   "execution_count": null,
	   "metadata": {
	    "collapsed": true
	   },
	   "outputs": [],
"source": [
"//LTi Systems characterized by Linear Constant\n",
"//fourier analysis of discrete systems\n",
"//Inverse Z Transform\n",
"//z = %z;\n",
"syms n z;\n",
"H1 = (-5/3)/(z-0.5);\n",
"H2 = (8/3)/(z-0.8);\n",
"F1 = H1*z^(n)*(z-0.5);\n",
"F2 = H2*z^(n)*(z-0.8);\n",
"h1 = limit(F1,z,0.5);\n",
"disp(h1,'h1[n]=')\n",
"h2 = limit(F2,z,0.8);\n",
"disp(h2,'h2[n]=')\n",
"h = h1-h2;\n",
"disp(h,'h[n]=') "
   ]
   }
,
{
		   "cell_type": "markdown",
		   "metadata": {},
		   "source": [
			"## Example 9.1: discrete_time_fourier_series.sce"
		   ]
		  },
  {
"cell_type": "code",
	   "execution_count": null,
	   "metadata": {
	    "collapsed": true
	   },
	   "outputs": [],
"source": [
"//signals and systems\n",
"//fourier analysis of discrete time signals\n",
"//Example5.5:Discrete Time Fourier Transform:x[n]= sin(nWo)\n",
"clear;\n",
"clc;\n",
"close;\n",
"N = 0.1;\n",
"Wo = %pi;\n",
"W = [-Wo/10,0,Wo/10];\n",
"XW =[0.5,0,0.5];\n",
"//\n",
"figure\n",
"a = gca();\n",
"a.y_location ='origin';\n",
"a.x_location ='origin';\n",
"plot2d3('gnn',W,XW,2);\n",
"poly1 = a.children(1).children(1);\n",
"poly1.thickness = 3; \n",
"xlabel('                                                      W');\n",
"title('DTFT of cos(nWo)')\n",
"disp(Wo/10)"
   ]
   }
,
{
		   "cell_type": "markdown",
		   "metadata": {},
		   "source": [
			"## Example 9.2: DTFT_for_periodic_sampled_gate_function.sce"
		   ]
		  },
  {
"cell_type": "code",
	   "execution_count": null,
	   "metadata": {
	    "collapsed": true
	   },
	   "outputs": [],
"source": [
"N_0=32; n=(0:N_0-1);\n",
"x_n= [ones(1,5) zeros(1,23) ones(1,4)];\n",
"for r=0:31\n",
"    X_r(r+1)=sum(x_n.*exp(-sqrt(-1)*r*2*3.14/N_0*n))/32;\n",
"end\n",
"subplot(2,1,1); r=n; plot2d3(r,real(X_r));\n",
"xlabel('r'); ylabel('X_r');\n",
"X_r=fft(x_n)/N_0;\n",
"subplot(2,1,2);\n",
"plot2d3(r,phasemag(X_r));\n",
"xlabel('r'); ylabel('phase of X_r');\n",
"disp(N_0,'period=')\n",
"disp(2*%pi/N_0,'omega=')"
   ]
   }
,
{
		   "cell_type": "markdown",
		   "metadata": {},
		   "source": [
			"## Example 9.3: discrete_time_fourier_series.sce"
		   ]
		  },
  {
"cell_type": "code",
	   "execution_count": null,
	   "metadata": {
	    "collapsed": true
	   },
	   "outputs": [],
"source": [
"//signals and systems\n",
"//Discrete Time Fourier Transform of discrete sequence\n",
"//x[n]= (a^n).u[n], a>0 and a<0\n",
"clear;\n",
"clc;\n",
"close;\n",
"// DTS Signal\n",
"a1 = 0.5;\n",
"a2 = -0.5;\n",
"max_limit = 10;\n",
"for n = 0:max_limit-1\n",
"  x1(n+1) = (a1^n);\n",
"  x2(n+1) = (a2^n);\n",
"end\n",
"n = 0:max_limit-1;\n",
"// Discrete-time Fourier Transform\n",
"Wmax = 2*%pi;       \n",
"K = 4;\n",
"k = 0:(K/1000):K;\n",
"W = k*Wmax/K;\n",
"x1 = x1';\n",
"x2 = x2';\n",
"XW1 = x1* exp(-sqrt(-1)*n'*W);\n",
"XW2 = x2* exp(-sqrt(-1)*n'*W);\n",
"XW1_Mag = abs(XW1);\n",
"XW2_Mag = abs(XW2);\n",
"W = [-mtlb_fliplr(W), W(2:1001)]; // Omega from -Wmax to Wmax\n",
"XW1_Mag = [mtlb_fliplr(XW1_Mag), XW1_Mag(2:1001)];\n",
"XW2_Mag = [mtlb_fliplr(XW2_Mag), XW2_Mag(2:1001)];\n",
"[XW1_Phase,db] = phasemag(XW1);\n",
"[XW2_Phase,db] = phasemag(XW2);\n",
"XW1_Phase = [-mtlb_fliplr(XW1_Phase),XW1_Phase(2:1001)];\n",
"XW2_Phase = [-mtlb_fliplr(XW2_Phase),XW2_Phase(2:1001)];\n",
"//plot for a>0\n",
"figure\n",
"subplot(3,1,1);\n",
"plot2d3('gnn',n,x1);\n",
"xtitle('Discrete Time Sequence x[n] for a>0')\n",
"subplot(3,1,2);\n",
"a = gca();\n",
"a.y_location ='origin';\n",
"a.x_location ='origin';\n",
"plot2d(W,XW1_Mag);\n",
"title('Magnitude Response abs(X(jW))')\n",
"subplot(3,1,3);\n",
"a = gca();\n",
"a.y_location ='origin';\n",
"a.x_location ='origin';\n",
"plot2d(W,XW1_Phase);\n",
"title('Phase Response <(X(jW))')\n",
"//plot for a<0\n",
"figure\n",
"subplot(3,1,1);\n",
"plot2d3('gnn',n,x2);\n",
"xtitle('Discrete Time Sequence x[n] for a>0')\n",
"subplot(3,1,2);\n",
"a = gca();\n",
"a.y_location ='origin';\n",
"a.x_location ='origin';\n",
"plot2d(W,XW2_Mag);\n",
"title('Magnitude Response abs(X(jW))')\n",
"subplot(3,1,3);\n",
"a = gca();\n",
"a.y_location ='origin';\n",
"a.x_location ='origin';\n",
"plot2d(W,XW2_Phase);\n",
"title('Phase Response <(X(jW))')"
   ]
   }
,
{
		   "cell_type": "markdown",
		   "metadata": {},
		   "source": [
			"## Example 9.4: discrete_time_fourier_series.sce"
		   ]
		  },
  {
"cell_type": "code",
	   "execution_count": null,
	   "metadata": {
	    "collapsed": true
	   },
	   "outputs": [],
"source": [
"//signals and systems\n",
"//Discrete Time Fourier Transform of discrete sequence\n",
"//x[n]= (a^n).u[-n], a>0 and a<0\n",
"clear;\n",
"clc;\n",
"close;\n",
"// DTS Signal\n",
"a = 0.5;\n",
"max_limit = 10;\n",
"for n = 0:max_limit-1\n",
"  x1(n+1) = (a^n);\n",
"end\n",
"n = 0:max_limit-1;\n",
"// Discrete-time Fourier Transform\n",
"Wmax = 2*%pi;       \n",
"K = 4;\n",
"k = 0:(K/1000):K;\n",
"W = k*Wmax/K;\n",
"x1 = x1';\n",
"XW1 = x1* exp(-sqrt(-1)*n'*W);\n",
"\n",
"XW1_Mag = abs(XW1);\n",
"W = [-mtlb_fliplr(W), W(2:1001)]; // Omega from -Wmax to Wmax\n",
"XW1_Mag = [mtlb_fliplr(XW1_Mag), XW1_Mag(2:1001)];\n",
"[XW1_Phase,db] = phasemag(XW1);\n",
"XW1_Phase = [-mtlb_fliplr(XW1_Phase),XW1_Phase(2:1001)];\n",
"//plot for a>0\n",
"figure\n",
"subplot(3,1,1);\n",
"plot2d3('gnn',-n,x1);\n",
"xtitle('Discrete Time Sequence x[n] for a>0')\n",
"subplot(3,1,2);\n",
"a = gca();\n",
"a.y_location ='origin';\n",
"a.x_location ='origin';\n",
"plot2d(W,XW1_Mag);\n",
"title('Magnitude Response abs(X(jW))')\n",
"subplot(3,1,3);\n",
"a = gca();\n",
"a.y_location ='origin';\n",
"a.x_location ='origin';\n",
"plot2d(W,XW1_Phase+%pi/2);\n",
"title('Phase Response <(X(jW))')"
   ]
   }
,
{
		   "cell_type": "markdown",
		   "metadata": {},
		   "source": [
			"## Example 9.5: DTFT_for_rectangular_pulse.sce"
		   ]
		  },
  {
"cell_type": "code",
	   "execution_count": null,
	   "metadata": {
	    "collapsed": true
	   },
	   "outputs": [],
"source": [
"//signals and systems\n",
"//Discrete Time Fourier Transform\n",
"//x[n]= 1 , abs(n)<=N1\n",
"clear;\n",
"clc;\n",
"close;\n",
"// DTS Signal\n",
"N1 = 2;\n",
"n = -N1:N1;\n",
"x = ones(1,length(n));\n",
"// Discrete-time Fourier Transform\n",
"Wmax = 2*%pi;       \n",
"K = 4;\n",
"k = 0:(K/1000):K;\n",
"W = k*Wmax/K;\n",
"XW = x* exp(-sqrt(-1)*n'*W);\n",
"XW_Mag = real(XW);\n",
"W = [-mtlb_fliplr(W), W(2:1001)]; // Omega from -Wmax to Wmax\n",
"XW_Mag = [mtlb_fliplr(XW_Mag), XW_Mag(2:1001)];\n",
"//plot for abs(a)<1\n",
"figure\n",
"subplot(2,1,1);\n",
"a = gca();\n",
"a.y_location ='origin';\n",
"a.x_location ='origin';\n",
"plot2d3('gnn',n,x);\n",
"xtitle('Discrete Time Sequence x[n]')\n",
"subplot(2,1,2);\n",
"a = gca();\n",
"a.y_location ='origin';\n",
"a.x_location ='origin';\n",
"plot2d(W,XW_Mag);\n",
"title('Discrete Time Fourier Transform X(exp(jW))')"
   ]
   }
,
{
		   "cell_type": "markdown",
		   "metadata": {},
		   "source": [
			"## Example 9.6: DTFT_for_rectangular_pulse_spectrum.sce"
		   ]
		  },
  {
"cell_type": "code",
	   "execution_count": null,
	   "metadata": {
	    "collapsed": true
	   },
	   "outputs": [],
"source": [
"//signals and systems\n",
"//discreet time fourier series\n",
"//IDTFT:Impulse Response of Ideal Low pass Filter \n",
"clear;\n",
"clc;\n",
"close;\n",
"Wc = 1;    //1 rad/sec\n",
"W  = -Wc:0.1:Wc; //Passband of filter\n",
"H0 = 1; //Magnitude of Filter\n",
"HlpW = H0*ones(1,length(W));\n",
"//Inverse Discrete-time Fourier Transform\n",
"t = -2*%pi:2*%pi/length(W):2*%pi;\n",
"ht =(1/(2*%pi))*HlpW *exp(sqrt(-1)*W'*t);\n",
"ht = real(ht);\n",
"figure\n",
"subplot(2,1,1)\n",
"a = gca();\n",
"a.y_location ='origin';\n",
"a.x_location ='origin';\n",
"a.data_bounds=[-%pi,0;%pi,2];\n",
"plot2d(W,HlpW,2);\n",
"poly1 = a.children(1).children(1);\n",
"poly1.thickness = 3;\n",
"xtitle('Frequency Response of LPF H(exp(jW))')\n",
"subplot(2,1,2)\n",
"a = gca();\n",
"a.y_location ='origin';\n",
"a.x_location ='origin';\n",
"a.data_bounds=[-2*%pi,-1;2*%pi,2];\n",
"plot2d3('gnn',t,ht);\n",
"poly1 = a.children(1).children(1);\n",
"poly1.thickness = 3;\n",
"xtitle('Impulse Response of LPF h(t)')"
   ]
   }
,
{
		   "cell_type": "markdown",
		   "metadata": {},
		   "source": [
			"## Example 9.9: DTFT_of_sinc_function.sce"
		   ]
		  },
  {
"cell_type": "code",
	   "execution_count": null,
	   "metadata": {
	    "collapsed": true
	   },
	   "outputs": [],
"source": [
"//signals and systems\n",
"//discreet time fourier series\n",
"//IDTFT:Impulse Response of Ideal Low pass Filter \n",
"clear;\n",
"clc;\n",
"close;\n",
"Wc = 1;    //1 rad/sec\n",
"W  = -Wc:0.1:Wc; //Passband of filter\n",
"H0 = 1; //Magnitude of Filter\n",
"HlpW = H0*ones(1,length(W));\n",
"//Inverse Discrete-time Fourier Transform\n",
"t = -2*%pi:2*%pi/length(W):2*%pi;\n",
"ht1 =(1/(2*%pi))*HlpW *exp(sqrt(-1)*W'*t);\n",
"size(ht1)\n",
"n=-21:21;\n",
"size(n)\n",
"ht=ht1.*(%e^%i*2*t);\n",
"ht = real(ht);\n",
"figure\n",
"subplot(2,1,1)\n",
"a = gca();\n",
"a.y_location ='origin';\n",
"a.x_location ='origin';\n",
"a.data_bounds=[-%pi,0;%pi,2];\n",
"plot2d(W,HlpW,2);\n",
"poly1 = a.children(1).children(1);\n",
"poly1.thickness = 3;\n",
"xtitle('Frequency Response of LPF H(exp(jW))')\n",
"subplot(2,1,2)\n",
"a = gca();\n",
"a.y_location ='origin';\n",
"a.x_location ='origin';\n",
"a.data_bounds=[-2*%pi,-1;2*%pi,2];\n",
"size(t)\n",
"size(ht)\n",
"plot2d3('gnn',t,ht);\n",
"poly1 = a.children(1).children(1);\n",
"poly1.thickness = 3;\n",
"xtitle('Impulse Response of LPF h(t)')"
   ]
   }
],
"metadata": {
		  "kernelspec": {
		   "display_name": "Scilab",
		   "language": "scilab",
		   "name": "scilab"
		  },
		  "language_info": {
		   "file_extension": ".sce",
		   "help_links": [
			{
			 "text": "MetaKernel Magics",
			 "url": "https://github.com/calysto/metakernel/blob/master/metakernel/magics/README.md"
			}
		   ],
		   "mimetype": "text/x-octave",
		   "name": "scilab",
		   "version": "0.7.1"
		  }
		 },
		 "nbformat": 4,
		 "nbformat_minor": 0
}
