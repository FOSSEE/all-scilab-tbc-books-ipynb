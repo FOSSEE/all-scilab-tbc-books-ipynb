{
"cells": [
 {
		   "cell_type": "markdown",
	   "metadata": {},
	   "source": [
       "# Chapter 8: Sampling The bridge from continuous to discrete"
	   ]
	},
{
		   "cell_type": "markdown",
		   "metadata": {},
		   "source": [
			"## Example 8.10: frequency_response_of_a_low_pass_filter.sce"
		   ]
		  },
  {
"cell_type": "code",
	   "execution_count": null,
	   "metadata": {
	    "collapsed": true
	   },
	   "outputs": [],
"source": [
"//signals and systems\n",
"// sampling: the bridge between continuous to discrete\n",
"T_0 = 4;\n",
"N_0 = 32;\n",
"T = T_0/N_0;n = 0:N_0-1;r = n;\n",
"x_n = [ones(1,4),0.5,zeros(1,23),0.5,ones(1,3)]';\n",
"H_r = [ones(1,8),0.5,zeros(1,15),0.5,ones(1,7)]';\n",
"X_r = fft(x_n,-1);\n",
"Y_r = H_r .*(X_r);y_n = mtlb_ifft(Y_r);\n",
"subplot(2,2,1);\n",
"plot2d3(n,x_n);\n",
"plot(n,x_n,'r.')\n",
"xtitle('xn','n')\n",
"subplot(2,2,2);\n",
"plot2d3(r,real(X_r));\n",
"plot(r,real(X_r),'ro')\n",
"xtitle('Xr','r')\n",
"subplot(2,2,3);\n",
"plot2d3(n,real(y_n));\n",
"plot(n,real(y_n),'r.')\n",
"xtitle('yn','n')\n",
"subplot(2,2,4);\n",
"plot2d3(r,(X_r).*H_r);\n",
"plot(r,(X_r).*H_r,'ro')\n",
"xtitle('XrHr','r')"
   ]
   }
,
{
		   "cell_type": "markdown",
		   "metadata": {},
		   "source": [
			"## Example 8.8: discrete_fourier_transform.sce"
		   ]
		  },
  {
"cell_type": "code",
	   "execution_count": null,
	   "metadata": {
	    "collapsed": true
	   },
	   "outputs": [],
"source": [
"//signals and systems\n",
"//sampling:the bridge from continuous to discrete\n",
"//DFT to compute the fourier transform of e^-2t.u(t)\n",
"T_0 = 4;\n",
"N_0 = 256;\n",
"T = T_0/N_0;\n",
"t = (0:T:T*(N_0-1))';\n",
"x = T*exp(-2*t);\n",
"x = mtlb_i(x,1,(T*(exp(-2*T_0)+1))/2);\n",
"X_r = fft(x);\n",
"r = (-N_0/2:N_0/2-1)';\n",
"omega_r = ((r*2)*%pi)/T_0;\n",
"omega = linspace(-%pi/T,%pi/T,4097);\n",
"X = 1 ./(%i*omega+2);\n",
"subplot(2,1,1);\n",
"a = gca();\n",
"a.y_location ='origin';\n",
"a.x_location ='origin';\n",
"plot(omega,abs(X),'k',omega_r,fftshift(abs(X_r)),'ko');\n",
"xtitle('magnitude of X(omega) for true FT and DFT');\n",
"subplot(2,1,2);\n",
"a = gca();\n",
"a.y_location ='origin';\n",
"a.x_location ='origin';\n",
"plot(omega,atan(imag(X),real(X)),'k',omega_r,fftshift(atan(imag(X_r),real(X_r))),'ko');\n",
"xtitle('angle of X(omega) for true FT and DFT');"
   ]
   }
,
{
		   "cell_type": "markdown",
		   "metadata": {},
		   "source": [
			"## Example 8.9: discrete_fourier_transform.sce"
		   ]
		  },
  {
"cell_type": "code",
	   "execution_count": null,
	   "metadata": {
	    "collapsed": true
	   },
	   "outputs": [],
"source": [
"//signals and systems\n",
"//sampling:the bridge from continuous to discrete\n",
"//DFT to compute the fourier transform of 8rect(t)\n",
"T_0 = 4;\n",
"N_0 = 32;\n",
"T = T_0/N_0;\n",
"x_n = [ones(1,4) 0.5 zeros(1,23) 0.5 ones(1,3)]';\n",
"size(x_n)\n",
"x_r = fft(x_n);r = (-N_0/2:(N_0/2)-1)';\n",
"omega_r = ((r*2)*%pi)/T_0;\n",
"size(omega_r)\n",
"size(omega)\n",
"omega = linspace(-%pi/T,%pi/T,4097);\n",
"X = 8*(sinc(omega/2));\n",
"size(X)\n",
"figure(1);\n",
"subplot(2,1,1);\n",
"plot(omega,abs(X),'k');\n",
"plot(omega_r,fftshift(abs(x_r)),'ko')\n",
"xtitle('angle of X(omega) for true FT and DFT');\n",
"a=gca();\n",
"subplot(2,1,2);\n",
"a = gca();\n",
"a.y_location ='origin';\n",
"a.x_location ='origin';\n",
"plot(omega,atan(imag(X),real(X)),'k',omega_r,fftshift(atan(imag(x_r),real(x_r))),'r.');\n",
"xtitle('angle of X(omega) for true FT and DFT');"
   ]
   }
],
"metadata": {
		  "kernelspec": {
		   "display_name": "Scilab",
		   "language": "scilab",
		   "name": "scilab"
		  },
		  "language_info": {
		   "file_extension": ".sce",
		   "help_links": [
			{
			 "text": "MetaKernel Magics",
			 "url": "https://github.com/calysto/metakernel/blob/master/metakernel/magics/README.md"
			}
		   ],
		   "mimetype": "text/x-octave",
		   "name": "scilab",
		   "version": "0.7.1"
		  }
		 },
		 "nbformat": 4,
		 "nbformat_minor": 0
}
