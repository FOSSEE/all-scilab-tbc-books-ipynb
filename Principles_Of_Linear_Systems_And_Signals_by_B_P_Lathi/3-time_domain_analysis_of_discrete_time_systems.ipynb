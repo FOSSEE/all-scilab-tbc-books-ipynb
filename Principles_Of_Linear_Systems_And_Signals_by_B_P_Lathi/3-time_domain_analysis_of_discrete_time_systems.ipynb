{
"cells": [
 {
		   "cell_type": "markdown",
	   "metadata": {},
	   "source": [
       "# Chapter 3: time domain analysis of discrete time systems"
	   ]
	},
{
		   "cell_type": "markdown",
		   "metadata": {},
		   "source": [
			"## Example 3.10: total_response_with_given_initial_conditions.sce"
		   ]
		  },
  {
"cell_type": "code",
	   "execution_count": null,
	   "metadata": {
	    "collapsed": true
	   },
	   "outputs": [],
"source": [
"//signals and systems\n",
"//time domain analysis of discreet time systems\n",
"//total response with initial conditions\n",
"clear;\n",
"close;\n",
"clc; \n",
"n=(-2:10)';\n",
"y=[25/4;0;zeros(length(n)-2,1)];\n",
"x=[0;0;4^-n(3:length(n))];\n",
"for k=1:length(n)-2\n",
"    y(k+2)=0.6*y(k+1)+0.16*y(k)+5*x(k+2);\n",
"end;\n",
"clf;\n",
"a=gca();\n",
"plot2d3(n,y);\n",
"\n",
"y1=[25/4;0;zeros(length(n)-2,1)];\n",
"x=[0;0;4^-n(3:length(n))];\n",
"for k=1:length(n)-2\n",
"    y1(k+2)=-6*y1(k+1)-9*y1(k)+2*x(k+2)+6*x(k+1);\n",
"end\n",
"figure \n",
"a=gca();\n",
"plot2d3(n,y1);\n",
"\n",
"\n",
"y2=[25/4;0;zeros(length(n)-2,1)];\n",
"x=[0;0;4^-n(3:length(n))];\n",
"for k=1:length(n)-2\n",
"    y2(k+2)=1.56*y2(k+1)-0.81*y2(k)+ x(k+1)+3*x(k);\n",
"end\n",
"figure \n",
"a=gca();\n",
"plot2d3(n,y2);"
   ]
   }
,
{
		   "cell_type": "markdown",
		   "metadata": {},
		   "source": [
			"## Example 3.11: iterative_determination_of_unit_impulse_response.sce"
		   ]
		  },
  {
"cell_type": "code",
	   "execution_count": null,
	   "metadata": {
	    "collapsed": true
	   },
	   "outputs": [],
"source": [
"//signals and systems\n",
"//time domain analysis of discreet time systems\n",
"//impulse response with initial conditions\n",
"clear;\n",
"close;\n",
"clc; \n",
"n=(0:19);\n",
"x=[1 zeros(1,length(n)-1)];\n",
"a=[1 -0.6 -0.16];\n",
"b=[5 0 0];\n",
"h=filter(b,a,x);\n",
"clf;\n",
"plot2d3(n,h); xlabel('n'); ylabel('h[n]');"
   ]
   }
,
{
		   "cell_type": "markdown",
		   "metadata": {},
		   "source": [
			"## Example 3.13: convolution_of_discrete_signals.sce"
		   ]
		  },
  {
"cell_type": "code",
	   "execution_count": null,
	   "metadata": {
	    "collapsed": true
	   },
	   "outputs": [],
"source": [
"//signals and systems\n",
"//time domain analysis of discreet time systems\n",
"//convolution\n",
"clear;\n",
"close;\n",
"clc; \n",
"n=(0:19);\n",
"x=0.8^n;\n",
"g=0.3^n;\n",
"n1=(0:1:length(x)+length(g)-2);\n",
"c=convol(x,g);\n",
"plot2d3(n1,c);"
   ]
   }
,
{
		   "cell_type": "markdown",
		   "metadata": {},
		   "source": [
			"## Example 3.14: convolution_of_discrete_signals.sce"
		   ]
		  },
  {
"cell_type": "code",
	   "execution_count": null,
	   "metadata": {
	    "collapsed": true
	   },
	   "outputs": [],
"source": [
"//signals and systems\n",
"//time domain analysis of discreet time systems\n",
"//convolution\n",
"clear;\n",
"close;\n",
"clc; \n",
"n=(0:14);\n",
"x=4^-n;\n",
"a=[1 -0.6 -0.16];\n",
"b=[5 0 0];\n",
"y=filter(b,a,x);\n",
"clf;\n",
"plot2d3(n,y); xlabel('n'); ylabel('y[n]');\n",
""
   ]
   }
,
{
		   "cell_type": "markdown",
		   "metadata": {},
		   "source": [
			"## Example 3.16: sliding_tape_method_of_convolution.sce"
		   ]
		  },
  {
"cell_type": "code",
	   "execution_count": null,
	   "metadata": {
	    "collapsed": true
	   },
	   "outputs": [],
"source": [
"//signals and systems\n",
"//time domain analysis of discreet time systems\n",
"//convolution by sliding tape method\n",
"clear;\n",
"close;\n",
"clc; \n",
"x=[-2 -1 0 1 2 3 4];\n",
"g=[1 1 1 1 1 1 1 1];\n",
"n=(0:1:length(x)+length(g)-2);\n",
"c=convol(x,g);\n",
"clf;\n",
"plot2d3(n,c); xlabel('n'); ylabel('c[n]');"
   ]
   }
,
{
		   "cell_type": "markdown",
		   "metadata": {},
		   "source": [
			"## Example 3.17: total_response_with_given_initial_conditions.sce"
		   ]
		  },
  {
"cell_type": "code",
	   "execution_count": null,
	   "metadata": {
	    "collapsed": true
	   },
	   "outputs": [],
"source": [
"//signals and systems\n",
"//time domain analysis of discreet time systems\n",
"//convolution by sliding tape method\n",
"clear;\n",
"close;\n",
"clc;\n",
"n=(0:10)';\n",
"y=[4;13;zeros(length(n)-2,1)];\n",
"x=(3*n+5).*(n>=0);\n",
"for k=1:length(n)-2\n",
"    y(k+2)=5*y(k+1)-6*y(k)+x(k+1)-5*x(k);\n",
"end\n",
"clf;\n",
"plot2d3(n,y); xlabel('n'); ylabel('y[n]');\n",
"disp('n                         y');\n",
"disp(msprintf('%f\t\t%f\n',[n,y]));"
   ]
   }
,
{
		   "cell_type": "markdown",
		   "metadata": {},
		   "source": [
			"## Example 3.18: total_response_with_given_initial_conditions.sce"
		   ]
		  },
  {
"cell_type": "code",
	   "execution_count": null,
	   "metadata": {
	    "collapsed": true
	   },
	   "outputs": [],
"source": [
"//signals and systems\n",
"//time domain analysis of discreet time systems\n",
"//convolution by sliding tape method\n",
"clear;\n",
"close;\n",
"clc;\n",
"n=(0:10)';\n",
"y=[0;zeros(length(n)-1,1)];\n",
"x=(n+1)^2;\n",
"for k=1:length(n)-1\n",
"    y(k+1)=y(k)+x(k);\n",
"end;\n",
"clf;\n",
"a=gca();\n",
"plot2d3(n,y);xtitle('sum','n')\n",
"plot(n,y,'b.')"
   ]
   }
,
{
		   "cell_type": "markdown",
		   "metadata": {},
		   "source": [
			"## Example 3.19: forced_response.sce"
		   ]
		  },
  {
"cell_type": "code",
	   "execution_count": null,
	   "metadata": {
	    "collapsed": true
	   },
	   "outputs": [],
"source": [
"//signals and systems\n",
"//time domain analysis of discreet time systems\n",
"//convolution by sliding tape method\n",
"clear;\n",
"close;\n",
"clc;\n",
"n=(0:14);\n",
"x=3^n;\n",
"a=[1 -3 2];\n",
"b=[0 1 2];\n",
"y=filter(b,a,x);\n",
"clf;\n",
"plot2d3(n,y); xlabel('n'); ylabel('y[n]');"
   ]
   }
,
{
		   "cell_type": "markdown",
		   "metadata": {},
		   "source": [
			"## Example 3.1: energy_and_power_of_a_signal.sce"
		   ]
		  },
  {
"cell_type": "code",
	   "execution_count": null,
	   "metadata": {
	    "collapsed": true
	   },
	   "outputs": [],
"source": [
"//signals and systems\n",
"//time domain analysis of discreet time systems\n",
"//energy of a signal\n",
"clear;\n",
"close;\n",
"clc;\n",
"n=0:1:5\n",
"figure\n",
"a=gca();\n",
"plot2d(n,n);\n",
"energy=sum(n^2)\n",
"power=(1/6)*sum(n^2)\n",
"disp(energy)\n",
"disp(power)"
   ]
   }
,
{
		   "cell_type": "markdown",
		   "metadata": {},
		   "source": [
			"## Example 3.20: forced_response.sce"
		   ]
		  },
  {
"cell_type": "code",
	   "execution_count": null,
	   "metadata": {
	    "collapsed": true
	   },
	   "outputs": [],
"source": [
"//signals and systems\n",
"//time domain analysis of discreet time systems\n",
"//convolution by sliding tape method\n",
"clear;\n",
"close;\n",
"clc;\n",
"pi=3.14;\n",
"n=(0:14);\n",
"x=cos(2*n+pi/3);\n",
"a=[1 -1 0.16];\n",
"b=[0 1 0.32];\n",
"y=filter(b,a,x);\n",
"clf;\n",
"plot2d3(n,y); xlabel('n'); ylabel('y[n]');"
   ]
   }
,
{
		   "cell_type": "markdown",
		   "metadata": {},
		   "source": [
			"## Example 3.8: iterative_solutio.sce"
		   ]
		  },
  {
"cell_type": "code",
	   "execution_count": null,
	   "metadata": {
	    "collapsed": true
	   },
	   "outputs": [],
"source": [
"//signals and systems\n",
"//time domain analysis of discreet time systems\n",
"//iterative solution\n",
"clear;\n",
"close;\n",
"clc; \n",
"n=(-1:10)';\n",
"y=[16;0;zeros(length(n)-2,1)];\n",
"x=[0;0;n(3:length(n))];\n",
"for k=1:length(n)-1\n",
"    y(k+1)=0.5*y(k)+x(k+1);\n",
"end;\n",
"clf;\n",
"size(y)\n",
"size(n)\n",
"plot2d3(n,y);\n",
"plot(n,y,'r.')\n",
"disp([msprintf([n,y])]);"
   ]
   }
,
{
		   "cell_type": "markdown",
		   "metadata": {},
		   "source": [
			"## Example 3.9: iterative_solutio.sce"
		   ]
		  },
  {
"cell_type": "code",
	   "execution_count": null,
	   "metadata": {
	    "collapsed": true
	   },
	   "outputs": [],
"source": [
"//signals and systems\n",
"//time domain analysis of discreet time systems\n",
"//iterative solution\n",
"clear;\n",
"close;\n",
"clc; \n",
"n=(-2:10)';\n",
"y=[1;2;zeros(length(n)-2,1)];\n",
"x=[0;0;n(3:length(n))];\n",
"for k=1:length(n)-2\n",
"    y(k+2)=y(k+1)-0.24*y(k)+x(k+2)-2*x(k+1);\n",
"end;\n",
"clf;\n",
"plot2d3(n,y);\n",
"disp([msprintf([n,y])]);"
   ]
   }
],
"metadata": {
		  "kernelspec": {
		   "display_name": "Scilab",
		   "language": "scilab",
		   "name": "scilab"
		  },
		  "language_info": {
		   "file_extension": ".sce",
		   "help_links": [
			{
			 "text": "MetaKernel Magics",
			 "url": "https://github.com/calysto/metakernel/blob/master/metakernel/magics/README.md"
			}
		   ],
		   "mimetype": "text/x-octave",
		   "name": "scilab",
		   "version": "0.7.1"
		  }
		 },
		 "nbformat": 4,
		 "nbformat_minor": 0
}
