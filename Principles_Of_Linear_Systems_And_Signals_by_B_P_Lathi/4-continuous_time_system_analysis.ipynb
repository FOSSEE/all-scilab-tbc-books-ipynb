{
"cells": [
 {
		   "cell_type": "markdown",
	   "metadata": {},
	   "source": [
       "# Chapter 4: continuous time system analysis"
	   ]
	},
{
		   "cell_type": "markdown",
		   "metadata": {},
		   "source": [
			"## Example 4.10: second_order_linear_differential_equation.sce"
		   ]
		  },
  {
"cell_type": "code",
	   "execution_count": null,
	   "metadata": {
	    "collapsed": true
	   },
	   "outputs": [],
"source": [
"//signals and systems\n",
"//Unilateral  Laplace Transform:Solving Differential Equation\n",
"//example 4.10\n",
"s = %s;\n",
"syms t;\n",
"[A] = pfss((2*s^2+20*s+45)/((s+2)*(s+3)*(s+4)));\n",
"F1 = ilaplace(A(1),s,t)\n",
"F2 = ilaplace(A(2),s,t)\n",
"F3 = ilaplace(A(3),s,t)\n",
"F = F1+F2+F3\n",
"disp(F)"
   ]
   }
,
{
		   "cell_type": "markdown",
		   "metadata": {},
		   "source": [
			"## Example 4.11: solution_to_ode_using_laplace_transform.sce"
		   ]
		  },
  {
"cell_type": "code",
	   "execution_count": null,
	   "metadata": {
	    "collapsed": true
	   },
	   "outputs": [],
"source": [
"//signals and systems\n",
"//Unilateral  Laplace Transform:Solving Differential Equation\n",
"//example 4.11\n",
"s = %s;\n",
"syms t;\n",
"[A] = pfss((2*s)/(s^2+2*s+5));\n",
"F1 = ilaplace(A(1),s,t)\n",
"//F2 = ilaplace(A(2),s,t)\n",
"//F3 = ilaplace(A(3),s,t)\n",
"F = F1+F2+F3\n",
"disp(F)"
   ]
   }
,
{
		   "cell_type": "markdown",
		   "metadata": {},
		   "source": [
			"## Example 4.12: response_to_LTIC_system.sce"
		   ]
		  },
  {
"cell_type": "code",
	   "execution_count": null,
	   "metadata": {
	    "collapsed": true
	   },
	   "outputs": [],
"source": [
"//signals and systems\n",
"//Unilateral  Laplace Transform:Solving Differential Equation\n",
"//example 4.12\n",
"s = %s;\n",
"syms t;\n",
"[A] = pfss((3*s+3)/((s+5)*(s^2+5*s+6)));\n",
"F1 = ilaplace(A(1),s,t)\n",
"F2 = ilaplace(A(2),s,t)\n",
"F3 = ilaplace(A(3),s,t)\n",
"F = F1+F2+F3\n",
"disp(F)"
   ]
   }
,
{
		   "cell_type": "markdown",
		   "metadata": {},
		   "source": [
			"## Example 4.15: loop_current_in_a_given_network.sce"
		   ]
		  },
  {
"cell_type": "code",
	   "execution_count": null,
	   "metadata": {
	    "collapsed": true
	   },
	   "outputs": [],
"source": [
"//signals and systems\n",
"//Unilateral  Laplace Transform:Solving Differential Equation\n",
"//example 4.15\n",
"s = %s;\n",
"syms t;\n",
"[A] = pfss((10)/(s^2+3*s+2));\n",
"F1 = ilaplace(A(1),s,t)\n",
"F2 = ilaplace(A(2),s,t)\n",
"//F3 = ilaplace(A(3),s,t)\n",
"F = F1+F2+F3\n",
"disp(F)"
   ]
   }
,
{
		   "cell_type": "markdown",
		   "metadata": {},
		   "source": [
			"## Example 4.16: loop_current_in_a_given_network.sce"
		   ]
		  },
  {
"cell_type": "code",
	   "execution_count": null,
	   "metadata": {
	    "collapsed": true
	   },
	   "outputs": [],
"source": [
"//signals and systems\n",
"//Unilateral  Laplace Transform: transfer function\n",
"//example 4.16\n",
"s = %s;\n",
"syms t s;\n",
"y1 =laplace('24*%e^(-3*t)+48*%e^(-4*t)',t,s);\n",
"disp(y1)\n",
"y2 =laplace('16*%e^(-3*t)-12*%e^(-4*t)',t,s);\n",
"disp(y2)"
   ]
   }
,
{
		   "cell_type": "markdown",
		   "metadata": {},
		   "source": [
			"## Example 4.17: voltage_and_current_of_a_given_network.sce"
		   ]
		  },
  {
"cell_type": "code",
	   "execution_count": null,
	   "metadata": {
	    "collapsed": true
	   },
	   "outputs": [],
"source": [
"//signals and systems\n",
"//Unilateral  Laplace Transform:Solving Differential Equation\n",
"//example 4.17\n",
"s= %s;\n",
"syms t;\n",
"[A] = pfss((2*s^2+9*s+4)/((s)*(s^2+3*s+1)));\n",
"F1 = ilaplace(A(1),s,t)\n",
"F2 = ilaplace(A(2),s,t)\n",
"F3 = ilaplace(A(3),s,t)\n",
"F = F1+F2+F3\n",
"disp(F)"
   ]
   }
,
{
		   "cell_type": "markdown",
		   "metadata": {},
		   "source": [
			"## Example 4.1: laplace_transform_of_exponential_signal.sce"
		   ]
		  },
  {
"cell_type": "code",
	   "execution_count": null,
	   "metadata": {
	    "collapsed": true
	   },
	   "outputs": [],
"source": [
"//signals and systems\n",
"//Laplace Transform x(t) = exp(-at).u(t) for t negative and positive\n",
"syms t s;\n",
"a = 3;\n",
"y =laplace('%e^(-a*t)',t,s);\n",
"t1=0:0.001:10;\n",
"plot2d(t1,exp(-a*t1));\n",
"disp(y)\n",
"y1 = laplace('%e^(a*-t)',t,s);\n",
"disp(y1)"
   ]
   }
,
{
		   "cell_type": "markdown",
		   "metadata": {},
		   "source": [
			"## Example 4.23: frequency_response_of_a_given_system.sce"
		   ]
		  },
  {
"cell_type": "code",
	   "execution_count": null,
	   "metadata": {
	    "collapsed": true
	   },
	   "outputs": [],
"source": [
"s=poly(0,'s')\n",
"h=syslin('c',(s+0.1)/(s+5))\n",
"clf();bode(h,0.1,100);"
   ]
   }
,
{
		   "cell_type": "markdown",
		   "metadata": {},
		   "source": [
			"## Example 4.24: frequency_response_of_a_given_system.sce"
		   ]
		  },
  {
"cell_type": "code",
	   "execution_count": null,
	   "metadata": {
	    "collapsed": true
	   },
	   "outputs": [],
"source": [
"s=poly(0,'s')\n",
"h=syslin('c',(s^2/s))\n",
"clf();bode(h,0.1,100);\n",
"h1=syslin('c',(1/s))\n",
"clf(); bode(h1,0.1,100);"
   ]
   }
,
{
		   "cell_type": "markdown",
		   "metadata": {},
		   "source": [
			"## Example 4.25: bode_plots_for_given_transfer_function.sce"
		   ]
		  },
  {
"cell_type": "code",
	   "execution_count": null,
	   "metadata": {
	    "collapsed": true
	   },
	   "outputs": [],
"source": [
"s=poly(0,'s')\n",
"h=syslin('c',((20*s^2+2000*s)/(s^2+12*s+20)))\n",
"clf();bode(h,0.1,100);"
   ]
   }
,
{
		   "cell_type": "markdown",
		   "metadata": {},
		   "source": [
			"## Example 4.26: bode_plots_for_given_transfer_function.sce"
		   ]
		  },
  {
"cell_type": "code",
	   "execution_count": null,
	   "metadata": {
	    "collapsed": true
	   },
	   "outputs": [],
"source": [
"s=poly(0,'s')\n",
"h=syslin('c',((10*s+1000)/(s^2+2*s+100)))\n",
"clf();bode(h,0.1,100);"
   ]
   }
,
{
		   "cell_type": "markdown",
		   "metadata": {},
		   "source": [
			"## Example 4.27: second_order_notch_filter_to_suppress_60Hz_hum.sce"
		   ]
		  },
  {
"cell_type": "code",
	   "execution_count": null,
	   "metadata": {
	    "collapsed": true
	   },
	   "outputs": [],
"source": [
"omega_0=2*%pi*60; theta = [60 80 87]*(%pi/180);\n",
"omega = (0:0.5:1000)'; mag = zeros(3,length(omega));\n",
"s=poly(0,'s')\n",
"for m =1:length(theta)\n",
"    H=syslin('c',((s^2+omega_0^2)/(s^2+2*omega_0*cos(theta(m))*s +omega_0^2)));\n",
"    bode(H,10,100);\n",
"end\n",
"f=omega/((2*%pi))plot(f,mag(1,:),'k-',f mag(2,:),'k--',f,mag(3,:),'k-.');\n",
"xlabel('f[hz]'); ylabel('|H(j2/pi f)|');\n",
"legend('\theta=60^\circ','\theta = 80^\circ','\theta = 87^\circ',0)"
   ]
   }
,
{
		   "cell_type": "markdown",
		   "metadata": {},
		   "source": [
			"## Example 4.28: bilateral_inverse_transform.sce"
		   ]
		  },
  {
"cell_type": "code",
	   "execution_count": null,
	   "metadata": {
	    "collapsed": true
	   },
	   "outputs": [],
"source": [
"//signals and systems\n",
"//bilateral Inverse Lapalce Transform \n",
"//X(S) = 1/((s-1)(s+2))\n",
"s =%s ;\n",
"syms t ;\n",
"[A]=pfss(1/((s-1)*(s+2))) //partial fraction of F(s)\n",
"F1 = ilaplace(A(1),s,t)\n",
"F2 = ilaplace(A(2),s,t)\n",
"F=F1+F2;\n",
"disp(F,'f(t)=')\n",
"\n",
"\n",
"//X(S) = 1/((s-1)(s+2))  Re(s)> -1,Re(s)< -2\n",
"s =%s ;\n",
"syms t ;\n",
"[A]=pfss(1/((s-1)*(s+2))) //partial fraction of F(s)\n",
"F1 = ilaplace(A(1),s,t)\n",
"F2 = ilaplace(A(2),s,t)\n",
"F = -F1-F2;\n",
"disp(F,'f(t)=')\n",
"\n",
"\n",
"//X(S) = 1/((s-1)(s+2))  -2< Re(s)< 1\n",
"s =%s ;\n",
"syms t ;\n",
"[A]=pfss(1/((s-1)*(s+2))) //partial fraction of F(s)\n",
"F1 = ilaplace(A(1),s,t)\n",
"F2 = ilaplace(A(2),s,t)\n",
"F = -F1+F2;\n",
"disp(F,'f(t)=')"
   ]
   }
,
{
		   "cell_type": "markdown",
		   "metadata": {},
		   "source": [
			"## Example 4.29: current_for_a_given_RC_network.sce"
		   ]
		  },
  {
"cell_type": "code",
	   "execution_count": null,
	   "metadata": {
	    "collapsed": true
	   },
	   "outputs": [],
"source": [
"//signals and systems\n",
"//Unilateral  Laplace Transform:Solving Differential Equation\n",
"//example 4.30\n",
"s= %s;\n",
"syms t;\n",
"[A] = pfss((-s)/((s-1)*(s-2)*(s+1)));\n",
"F1 = ilaplace(A(1),s,t)\n",
"F2 = ilaplace(A(2),s,t)\n",
"F3 = ilaplace(A(3),s,t)\n",
"F = F1+F2+F3\n",
"disp(F)"
   ]
   }
,
{
		   "cell_type": "markdown",
		   "metadata": {},
		   "source": [
			"## Example 4.2: laplace_transform_of_given_fsignal.sce"
		   ]
		  },
  {
"cell_type": "code",
	   "execution_count": null,
	   "metadata": {
	    "collapsed": true
	   },
	   "outputs": [],
"source": [
"//signals and systems\n",
"//(a) laplace transform x(t) = del(t)\n",
"syms t s;\n",
"\n",
"y =laplace('0',t,s)\n",
"disp(y)\n",
"//(b) Laplace Transform x(t) = u(t)\n",
"\n",
"y1 =laplace('1',t,s);\n",
"disp(y1)\n",
"//(c) laplace transform x(t) = cos(w0*t)u(t)\n",
"\n",
"y2 =laplace('cos(w0*t)',t,s);\n",
"disp(y2)"
   ]
   }
,
{
		   "cell_type": "markdown",
		   "metadata": {},
		   "source": [
			"## Example 4.30: response_of_a_noncausal_sytem.sce"
		   ]
		  },
  {
"cell_type": "code",
	   "execution_count": null,
	   "metadata": {
	    "collapsed": true
	   },
	   "outputs": [],
"source": [
"//signals and systems\n",
"//Unilateral  Laplace Transform:Solving Differential Equation\n",
"//example 4.30\n",
"s= %s;\n",
"syms t;\n",
"[A] = pfss((-1)/((s-1)*(s+2)));\n",
"F1 = ilaplace(A(1),s,t)\n",
"F2 = ilaplace(A(2),s,t)\n",
"//F3 = ilaplace(A(3),s,t)\n",
"F = F1+F2\n",
"disp(F)"
   ]
   }
,
{
		   "cell_type": "markdown",
		   "metadata": {},
		   "source": [
			"## Example 4.31: response_of_a_fn_with_given_tf.sce"
		   ]
		  },
  {
"cell_type": "code",
	   "execution_count": null,
	   "metadata": {
	    "collapsed": true
	   },
	   "outputs": [],
"source": [
"//signals and systems\n",
"//Unilateral  Laplace Transform:Solving Differential Equation\n",
"//example 4.17\n",
"s= %s;\n",
"syms t;\n",
"// Re s>-1\n",
"[A] = pfss(1/((s+1)*(s+5)));\n",
"F1 = ilaplace(A(1),s,t)\n",
"F2 = ilaplace(A(2),s,t)\n",
"//F3 = ilaplace(A(3),s,t)\n",
"F = F1+F2\n",
"disp(F)\n",
"//-5< Re s <-2\n",
"[B] = pfss(-1/((s+2)*(s+5)));\n",
"G1 = ilaplace(B(1),s,t)\n",
"G2 = ilaplace(B(2),s,t)\n",
"//F3 = ilaplace(A(3),s,t)\n",
"G = G1+G2\n",
"disp(G)"
   ]
   }
,
{
		   "cell_type": "markdown",
		   "metadata": {},
		   "source": [
			"## Example 4.3_a: laplace_transform_in_case_of_different_roots.sce"
		   ]
		  },
  {
"cell_type": "code",
	   "execution_count": null,
	   "metadata": {
	    "collapsed": true
	   },
	   "outputs": [],
"source": [
"//signals and systems\n",
"//Inverse Lapalce Transform \n",
"//(a) X(S) = (7s-6)/s^2-s-6  Re(s)>-1\n",
"s =%s ;\n",
"syms t ;\n",
"[A]=pfss((7*s-6)/((s^2-s-6))); //partial fraction of F(s)\n",
"F1 = ilaplace(A(1),s,t)\n",
"F2 = ilaplace(A(2),s,t)\n",
"//F3 = ilaplace(A(3),s,t)\n",
"F = F1+F2;\n",
"disp(F,'f(t)=')\n",
""
   ]
   }
,
{
		   "cell_type": "markdown",
		   "metadata": {},
		   "source": [
			"## Example 4.3_b: laplace_transform_in_case_of_similar_roots.sce"
		   ]
		  },
  {
"cell_type": "code",
	   "execution_count": null,
	   "metadata": {
	    "collapsed": true
	   },
	   "outputs": [],
"source": [
"//example 4.3\n",
"//(b) X(S) = (2*s^2+5)/s^2-3*s+2  Re(s)>-1\n",
"s =%s ;\n",
"syms t ;\n",
"[A]=pfss((2*s^2+5)/((s^2-3*s+2))); //partial fraction of F(s)\n",
"F1 = ilaplace(A(1),s,t)\n",
"F2 = ilaplace(A(2),s,t)\n",
"//F3 = ilaplace(A(3),s,t)\n",
"F = F1+F2;\n",
"disp(F,'f(t)=')"
   ]
   }
,
{
		   "cell_type": "markdown",
		   "metadata": {},
		   "source": [
			"## Example 4.3_c: laplace_transform_in_case_of_imaginary_roots.sce"
		   ]
		  },
  {
"cell_type": "code",
	   "execution_count": null,
	   "metadata": {
	    "collapsed": true
	   },
	   "outputs": [],
"source": [
"//example4.3\n",
"//(c) X(S) = 6(s+34)/s(s^2+10*s+34)  Re(s)>-1\n",
"s =%s ;\n",
"syms t ;\n",
"[A]=pfss((6*(s+34))/(s*(s^2+10*s+34))); //partial fraction of F(s)\n",
"F1 = ilaplace(A(1),s,t)\n",
"F2 = ilaplace(A(2),s,t)\n",
"//F3 = ilaplace(A(3),s,t)\n",
"F = F1+F2;\n",
"disp(F,'f(t)=')"
   ]
   }
,
{
		   "cell_type": "markdown",
		   "metadata": {},
		   "source": [
			"## Example 4.4: laplace_transform_of_a_given_signal.sce"
		   ]
		  },
  {
"cell_type": "code",
	   "execution_count": null,
	   "metadata": {
	    "collapsed": true
	   },
	   "outputs": [],
"source": [
"//signals and systems\n",
"//Lapalce Transform x(t) = (t-1)u(t-1)-(t-2)u(t-2)-u(t-4), 0<t<T\n",
"syms t s;\n",
"a = 3;\n",
"T = 1;\n",
"//t = T;\n",
"y1 = laplace('t',t,s);\n",
"y2 = laplace('t',t,s);\n",
"y3 = laplace('1',t,s);\n",
"y=y1*(%e^(-s))+y2*(%e^(-2*s))+y3*(%e^(-4*s))\n",
"disp(y)"
   ]
   }
,
{
		   "cell_type": "markdown",
		   "metadata": {},
		   "source": [
			"## Example 4.5: inverse_laplace_transform.sce"
		   ]
		  },
  {
"cell_type": "code",
	   "execution_count": null,
	   "metadata": {
	    "collapsed": true
	   },
	   "outputs": [],
"source": [
"//signals and systems\n",
"//example4.5\n",
"// X(S) = s+3+5*exp(-2*s)/(s+1)*(s+2))  Re(s)>-1\n",
"s1 =%s ;\n",
"syms t s;\n",
"[A]=pfss((s1+3)/((s1+1)*(s1+2))); //partial fraction of F(s)\n",
"F1 = ilaplace(A(1),s,t)\n",
"F2 = ilaplace(A(2),s,t)\n",
"//F3 = ilaplace(A(3),s,t)\n",
"Fa = F1+F2;\n",
"disp(Fa,'f1(t)=')\n",
"[B]=pfss((5)/((s1+1)*(s1+2))); //partial fraction of F(s)\n",
"F1 = ilaplace(B(1),s,t)\n",
"F2 = ilaplace(B(2),s,t)\n",
"Fb = (F1+F2)*(%e^(-2*s));\n",
"disp(Fb,'f2(t)=')\n",
"disp(Fa+Fb,'f(t)=')"
   ]
   }
,
{
		   "cell_type": "markdown",
		   "metadata": {},
		   "source": [
			"## Example 4.8: time_convolution_property.sce"
		   ]
		  },
  {
"cell_type": "code",
	   "execution_count": null,
	   "metadata": {
	    "collapsed": true
	   },
	   "outputs": [],
"source": [
" //signals and systems\n",
"//Example 4.8\n",
"//Lapalce Transform for convolution\n",
"s=%s\n",
"syms t ;\n",
"a=3;b=2;\n",
"[A]=pfss(1/(s^2-5*s+6)); //partial fraction of F(s)\n",
"F1 = ilaplace(A(1),s,t)\n",
"F2 = ilaplace(A(2),s,t)\n",
"//F3 = ilaplace(A(3),s,t)\n",
"F = F1+F2;\n",
"disp(F,'f(t)=')"
   ]
   }
,
{
		   "cell_type": "markdown",
		   "metadata": {},
		   "source": [
			"## Example 4.9: initial_and_final_value.sce"
		   ]
		  },
  {
"cell_type": "code",
	   "execution_count": null,
	   "metadata": {
	    "collapsed": true
	   },
	   "outputs": [],
"source": [
"//Initial and final Value Theorem of Lapalace Transform\n",
"syms s;\n",
"num =poly([30 20],'s','coeff')\n",
"den =poly([0 5 2 1],'s','coeff')\n",
"X = num/den\n",
"disp (X,'X(s)=')\n",
"SX = s*X;\n",
"Initial_Value =limit(SX,s,%inf);\n",
"final_value =limit(SX,s,0); \n",
"disp(Initial_Value,'x(0)=')\n",
"disp(final_value,'x(inf)=')"
   ]
   }
],
"metadata": {
		  "kernelspec": {
		   "display_name": "Scilab",
		   "language": "scilab",
		   "name": "scilab"
		  },
		  "language_info": {
		   "file_extension": ".sce",
		   "help_links": [
			{
			 "text": "MetaKernel Magics",
			 "url": "https://github.com/calysto/metakernel/blob/master/metakernel/magics/README.md"
			}
		   ],
		   "mimetype": "text/x-octave",
		   "name": "scilab",
		   "version": "0.7.1"
		  }
		 },
		 "nbformat": 4,
		 "nbformat_minor": 0
}
