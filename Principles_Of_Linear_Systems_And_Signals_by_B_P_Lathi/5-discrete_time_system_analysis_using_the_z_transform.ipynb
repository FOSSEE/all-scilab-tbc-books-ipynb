{
"cells": [
 {
		   "cell_type": "markdown",
	   "metadata": {},
	   "source": [
       "# Chapter 5: discrete time system analysis using the z transform"
	   ]
	},
{
		   "cell_type": "markdown",
		   "metadata": {},
		   "source": [
			"## Example 5.10: response_of_an_LTID_system_using_difference_eq.sce"
		   ]
		  },
  {
"cell_type": "code",
	   "execution_count": null,
	   "metadata": {
	    "collapsed": true
	   },
	   "outputs": [],
"source": [
"omega= linspace(-%pi,%pi,106);\n",
"H= syslin('c',(s/(s-0.8)));\n",
"H_omega= squeeze(calfrq(H,0.01,10));\n",
"size(H_omega)\n",
"subplot(2,1,1); plot2d(omega, abs(H_omega));\n",
"//xlabel('\omega');\n",
"//ylabel('|H[e^{j\omega}]|');\n",
"subplot(2,1,2); plot2d(omega,atan(imag(H_omega),real(H_omega))*180/%pi);\n",
"//xlabel('\omega');\n",
"//ylabel('\angle H[e^{j \omega}] [deg]');"
   ]
   }
,
{
		   "cell_type": "markdown",
		   "metadata": {},
		   "source": [
			"## Example 5.12: maximum_sampling_timeinterval.sce"
		   ]
		  },
  {
"cell_type": "code",
	   "execution_count": null,
	   "metadata": {
	    "collapsed": true
	   },
	   "outputs": [],
"source": [
"//signals and systems\n",
"//maximum sampling interval\n",
"f=50*10^3;\n",
"T=0.5/f;\n",
"disp(T)//in seconds"
   ]
   }
,
{
		   "cell_type": "markdown",
		   "metadata": {},
		   "source": [
			"## Example 5.13: discrete_time_amplifier_highest_frequency.sce"
		   ]
		  },
  {
"cell_type": "code",
	   "execution_count": null,
	   "metadata": {
	    "collapsed": true
	   },
	   "outputs": [],
"source": [
"//signals and systems\n",
"//highest frequency of a signal\n",
"T=25*10^-6\n",
"f=0.5/T\n",
"disp(f)//in hertz"
   ]
   }
,
{
		   "cell_type": "markdown",
		   "metadata": {},
		   "source": [
			"## Example 5.17: bilateral_z_transfrom.sce"
		   ]
		  },
  {
"cell_type": "code",
	   "execution_count": null,
	   "metadata": {
	    "collapsed": true
	   },
	   "outputs": [],
"source": [
"//Z transform of x[n] = a^n.u[n]+b^-n.u[-n-1]\n",
"syms n z;\n",
"a=0.9\n",
"b = 1.2;\n",
"\n",
"x1=(a)^(n)\n",
"x2=(b)^(-n)\n",
"//plot2d3(n1,x1+x2)\n",
"X1=symsum(x1*(z^(-n)),n,0,%inf)\n",
"X2=symsum(x2*(z^(n)),n,1,%inf)\n",
"X = X1+X2;\n",
"disp(X,'ans=')"
   ]
   }
,
{
		   "cell_type": "markdown",
		   "metadata": {},
		   "source": [
			"## Example 5.18: bilateral_inverse_z_transform.sce"
		   ]
		  },
  {
"cell_type": "code",
	   "execution_count": null,
	   "metadata": {
	    "collapsed": true
	   },
	   "outputs": [],
"source": [
"//signals and systems\n",
"//Inverse Z Transform:ROC |z|>2\n",
"z = %z;\n",
"syms n z1;//To find out Inverse z transform z must be linear z = z1\n",
"X  =-z*(z+0.4)/((z-0.8)*(z-2))\n",
"X1 = denom(X);\n",
"zp = roots(X1);\n",
"X1 = -z1*(z1+0.4)/((z1-0.8)*(z1-2))\n",
"F1 = X1*(z1^(n-1))*(z1-zp(1));\n",
"F2 = X1*(z1^(n-1))*(z1-zp(2));\n",
"h1 = limit(F1,z1,zp(1));\n",
"disp(h1,'h1[n]=')\n",
"h2 = limit(F2,z1,zp(2));\n",
"disp(h2,'h2[n]=')\n",
"h = h1+h2;\n",
"disp(h,'h[n]=')\n",
"\n",
"//Inverse Z Transform:ROC 0.8<|z|<2\n",
"z = %z;\n",
"syms n z1;\n",
"X  =-z*(z+0.4)/((z-0.8)*(z-2))\n",
"X1 = denom(X);\n",
"zp = roots(X1);\n",
"X1 = -z1*(z1+0.4)/((z1-0.8)*(z1-2))\n",
"F1 = X1*(z1^(n-1))*(z1-zp(1));\n",
"F2 = X1*(z1^(n-1))*(z1-zp(2));\n",
"h1 = limit(F1,z1,zp(1));\n",
"disp(h1*'u(n)','h1[n]=')\n",
"h2 = limit(F2,z1,zp(2));\n",
"disp((h2)*'u(-n-1)','h2[n]=')\n",
"disp((h1)*'u(n)'-(h2)*'u(n-1)','h[n]=')\n",
"\n",
"//Inverse Z Transform:ROC |z|<0.8\n",
"z = %z;\n",
"syms n z1;\n",
"X  =-z*(z+0.4)/((z-0.8)*(z-2))\n",
"X1 = denom(X);\n",
"zp = roots(X1);\n",
"X1 = -z1*(z1+0.4)/((z1-0.8)*(z1-2))\n",
"F1 = X1*(z1^(n-1))*(z1-zp(1));\n",
"F2 = X1*(z1^(n-1))*(z1-zp(2));\n",
"h1 = limit(F1,z1,zp(1));\n",
"disp(h1*'u(-n-1)','h1[n]=')\n",
"h2 = limit(F2,z1,zp(2));\n",
"disp((h2)*'u(-n-1)','h2[n]=')\n",
"disp(-(h1)*'u(-n-1)'-(h2)*'u(-n-1)','h[n]=')"
   ]
   }
,
{
		   "cell_type": "markdown",
		   "metadata": {},
		   "source": [
			"## Example 5.19: transfer_function_for_a_causal_system.sce"
		   ]
		  },
  {
"cell_type": "code",
	   "execution_count": null,
	   "metadata": {
	    "collapsed": true
	   },
	   "outputs": [],
"source": [
"//LTi Systems characterized by Linear Constant\n",
"//Coefficient Difference equations\n",
"//Inverse Z Transform\n",
"//z = %z;\n",
"syms n z;\n",
"H1 = -z/(z-0.5);\n",
"H2 = (8/3)*z/(z-0.8);\n",
"H3=(-8/3)*z/(z-2);\n",
"F1 = H1*z^(n-1)*(z-0.5);\n",
"F2 = H2*z^(n-1)*(z-0.8);\n",
"F3 = H3*z^(n-1)*(z-2);\n",
"h1 = limit(F1,z,0.5);\n",
"disp(h1,'h1[n]=')\n",
"h2 = limit(F2,z,0.8);\n",
"disp(h2,'h2[n]=')\n",
"h3 = limit(F3,z,2);\n",
"disp(h3,'h3[n]=')\n",
"h = h1+h2+h3;\n",
"disp(h,'h[n]=')"
   ]
   }
,
{
		   "cell_type": "markdown",
		   "metadata": {},
		   "source": [
			"## Example 5.1: z_transform_of_a_given_signal.sce"
		   ]
		  },
  {
"cell_type": "code",
	   "execution_count": null,
	   "metadata": {
	    "collapsed": true
	   },
	   "outputs": [],
"source": [
"//signals and systems\n",
"// Ztransform of x[n]  = (a)^n.u[n]\n",
"syms n z;\n",
"a = 0.5;\n",
"x =(a)^n;\n",
"n1=0:10;\n",
"plot2d3(n1,a^n1); xtitle('a^n','n');\n",
"plot(n1,a^n1,'r.')\n",
"X = symsum(x*(z^(-n)),n,0,%inf)\n",
"disp(X,'ans=')"
   ]
   }
,
{
		   "cell_type": "markdown",
		   "metadata": {},
		   "source": [
			"## Example 5.20: zero_state_response_for_a_given_input.sce"
		   ]
		  },
  {
"cell_type": "code",
	   "execution_count": null,
	   "metadata": {
	    "collapsed": true
	   },
	   "outputs": [],
"source": [
"//LTi Systems characterized by Linear Constant\n",
"//Coefficient Difference equations\n",
"//Inverse Z Transform\n",
"//z = %z;\n",
"syms n z;\n",
"H1 = (-5/3)*z/(z-0.5);\n",
"H2 = (8/3)*z/(z-0.8);\n",
"H3=5*z/(z-0.5);\n",
"H4=-6*z/(z-0.6);\n",
"F1 = H1*z^(n-1)*(z-0.5);\n",
"F2 = H2*z^(n-1)*(z-0.8);\n",
"F3 = H3*z^(n-1)*(z-0.5);\n",
"F4 = H4*z^(n-1)*(z-0.6);\n",
"h1 = limit(F1,z,0.5);\n",
"disp(h1,'h1[n]=')\n",
"h2 = limit(F2,z,0.8);\n",
"disp(h2,'h2[n]=')\n",
"h3 = limit(F3,z,0.5);\n",
"disp(h3,'h3[n]=')\n",
"h4 = limit(F4,z,0.6);\n",
"disp(h4,'h4[n]=')\n",
"h = h1+h2+h3+h4;\n",
"disp(h,'h[n]=')"
   ]
   }
,
{
		   "cell_type": "markdown",
		   "metadata": {},
		   "source": [
			"## Example 5.2: z_transform_of_a_given_signal.sce"
		   ]
		  },
  {
"cell_type": "code",
	   "execution_count": null,
	   "metadata": {
	    "collapsed": true
	   },
	   "outputs": [],
"source": [
"//example 5.2 (c)\n",
"//Z-transform of sine signal\n",
"syms n z;\n",
"Wo =%pi/4;\n",
"a = (0.33)^n;\n",
"x1=%e^(sqrt(-1)*Wo*n);\n",
"X1=symsum(a*x1*(z^(-n)),n,0,%inf)\n",
"x2=%e^(-sqrt(-1)*Wo*n)\n",
"X2=symsum(a*x2*(z^(-n)),n,0,%inf)\n",
"X =(1/(2*sqrt(-1)))*(X1+X2)\n",
"disp(X,'ans=')\n",
"\n",
"//example 5.2 (a)\n",
"//Z-transform of Impulse Sequence\n",
"syms n z;\n",
"X=symsum(1*(z^(-n)),n,0,0);\n",
"disp(X,'ans=')\n",
"\n",
"//example 5.2 (d)\n",
"//Z-transform of given Sequence\n",
"syms n z;\n",
"X=symsum(1*(z^(-n)),n,0,4);\n",
"disp(X,'ans=')\n",
"\n",
"//example 5.2 (b)\n",
"//Z-transform of unit function Sequence\n",
"syms n z;\n",
"X=symsum(1*(z^(-n)),n,0,%inf);\n",
"disp(X,'ans=')"
   ]
   }
,
{
		   "cell_type": "markdown",
		   "metadata": {},
		   "source": [
			"## Example 5.3_a: z_transform_of_a_given_signal_with_different_roots.sce"
		   ]
		  },
  {
"cell_type": "code",
	   "execution_count": null,
	   "metadata": {
	    "collapsed": true
	   },
	   "outputs": [],
"source": [
"//signals and systems\n",
"//Inverse Z Transform:ROC |z|>1/3\n",
"z = %z;\n",
"syms n z1;//To find out Inverse z transform z must be linear z = z1\n",
"X  =(8*z-19)/((z-2)*(z-3))\n",
"X1 = denom(X);\n",
"zp = roots(X1);\n",
"X1 = (8*z1-19)/((z1-2)*(z1-3))\n",
"F1 = X1*(z1^(n-1))*(z1-zp(1));\n",
"F2 = X1*(z1^(n-1))*(z1-zp(2));\n",
"h1 = limit(F1,z1,zp(1));\n",
"disp(h1,'h1[n]=')\n",
"h2 = limit(F2,z1,zp(2));\n",
"disp(h2,'h2[n]=')\n",
"h = h1+h2;\n",
"disp(h,'h[n]=')"
   ]
   }
,
{
		   "cell_type": "markdown",
		   "metadata": {},
		   "source": [
			"## Example 5.3_c: z_transform_of_a_given_signal_with_imaginary_roots.sce"
		   ]
		  },
  {
"cell_type": "code",
	   "execution_count": null,
	   "metadata": {
	    "collapsed": true
	   },
	   "outputs": [],
"source": [
"//signals and systems\n",
"//Inverse Z Transform:ROC |z|>1/3\n",
"z = %z;\n",
"syms n z1;//To find out Inverse z transform z must be linear z = z1\n",
"X  =(2*z*(3*z+17))/((z-1)*(z^2-6*z+25))\n",
"X1 = denom(X);\n",
"zp = roots(X1);\n",
"X1 = 2*z1*(3*z1+17)/((z1-1)*(z1^2-6*z1+25))\n",
"F1 = X1*(z1^(n-1))*(z1-zp(1));\n",
"F2 = X1*(z1^(n-1))*(z1-zp(2));\n",
"h1 = limit(F1,z1,zp(1));\n",
"disp(h1,'h1[n]=')\n",
"h2 = limit(F2,z1,zp(2));\n",
"disp(h2,'h2[n]=')\n",
"h = h1+h2;\n",
"disp(h,'h[n]=')"
   ]
   }
,
{
		   "cell_type": "markdown",
		   "metadata": {},
		   "source": [
			"## Example 5.5: solution_to_differential_equation.sce"
		   ]
		  },
  {
"cell_type": "code",
	   "execution_count": null,
	   "metadata": {
	    "collapsed": true
	   },
	   "outputs": [],
"source": [
"//LTi Systems characterized by Linear Constant\n",
"//Coefficient Difference equations\n",
"//Inverse Z Transform\n",
"//z = %z;\n",
"syms n z;\n",
"H1 = (26/15)/(z-(1/2));\n",
"H2 = (7/3)/(z-2);\n",
"H3 = (18/5)/(z-3);\n",
"F1 = H1*z^(n)*(z-(1/2));\n",
"F2 = H2*z^(n)*(z-2);\n",
"F3 = H3*z^(n)*(z-3);\n",
"h1 = limit(F1,z,1/2);\n",
"disp(h1,'h1[n]=')\n",
"h2 = limit(F2,z,2);\n",
"disp(h2,'h2[n]=')\n",
"h3 = limit(F3,z,3);\n",
"disp(h3,'h3[n]=')\n",
"h = h1-h2+h3;\n",
"disp(h,'h[n]=') "
   ]
   }
,
{
		   "cell_type": "markdown",
		   "metadata": {},
		   "source": [
			"## Example 5.6: response_of_an_LTID_system_using_difference_eq.sce"
		   ]
		  },
  {
"cell_type": "code",
	   "execution_count": null,
	   "metadata": {
	    "collapsed": true
	   },
	   "outputs": [],
"source": [
"//LTi Systems characterized by Linear Constant\n",
"//Coefficient Difference equations\n",
"//Inverse Z Transform\n",
"//z = %z;\n",
"syms n z;\n",
"H1 = (2/3)/(z+0.2);\n",
"H2 = (8/3)/(z+0.8);\n",
"H3 = (2)/(z+0.5);\n",
"F1 = H1*z^(n)*(z+0.2);\n",
"F2 = H2*z^(n)*(z+0.8);\n",
"F3 = H3*z^(n)*(z+0.5);\n",
"h1 = limit(F1,z,-0.2);\n",
"disp(h1,'h1[n]=')\n",
"h2 = limit(F2,z,-0.8);\n",
"disp(h2,'h2[n]=')\n",
"h3 = limit(F3,z,-0.5);\n",
"disp(h3,'h3[n]=')\n",
"h = h1-h2+h3;\n",
"disp(h,'h[n]=') "
   ]
   }
],
"metadata": {
		  "kernelspec": {
		   "display_name": "Scilab",
		   "language": "scilab",
		   "name": "scilab"
		  },
		  "language_info": {
		   "file_extension": ".sce",
		   "help_links": [
			{
			 "text": "MetaKernel Magics",
			 "url": "https://github.com/calysto/metakernel/blob/master/metakernel/magics/README.md"
			}
		   ],
		   "mimetype": "text/x-octave",
		   "name": "scilab",
		   "version": "0.7.1"
		  }
		 },
		 "nbformat": 4,
		 "nbformat_minor": 0
}
