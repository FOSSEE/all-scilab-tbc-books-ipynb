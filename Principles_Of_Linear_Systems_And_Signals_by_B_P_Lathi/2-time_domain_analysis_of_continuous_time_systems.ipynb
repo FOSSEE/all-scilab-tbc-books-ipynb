{
"cells": [
 {
		   "cell_type": "markdown",
	   "metadata": {},
	   "source": [
       "# Chapter 2: time domain analysis of continuous time systems"
	   ]
	},
{
		   "cell_type": "markdown",
		   "metadata": {},
		   "source": [
			"## Example 2.5: unit_impulse_response_for_an_LTIC_system.sce"
		   ]
		  },
  {
"cell_type": "code",
	   "execution_count": null,
	   "metadata": {
	    "collapsed": true
	   },
	   "outputs": [],
"source": [
"//time domain analysis of continuous time systems\n",
"//Convolution Integral of input x(t) = (e^-t).u(t)and g(t) =(e^-2*t)u(t)\n",
"clear;\n",
"close;\n",
"clc;\n",
"Max_Limit = 10;\n",
"t = 0:0.001:10;\n",
"for i=1:length(t)\n",
"     g(i) =(exp(-2*t(i)));\n",
"end\n",
"  x= exp(-(t));\n",
"\n",
"y = convol(x,g)\n",
"figure\n",
"a=gca();\n",
"plot2d(t,g) \n",
"xtitle('Impulse Response','t','h(t)');\n",
"a.thickness = 2;\n",
"figure\n",
"a=gca();\n",
"plot2d(t,x) \n",
"xtitle('Input Response','t','x(t)');\n",
"a.thickness = 2;\n",
"figure\n",
"a=gca();\n",
"T=0:0.001:20;\n",
"plot2d(T,y) \n",
"xtitle('Output Response','t','y(t)');\n",
"a.thickness = 2;"
   ]
   }
,
{
		   "cell_type": "markdown",
		   "metadata": {},
		   "source": [
			"## Example 2.6: zero_state_response.sce"
		   ]
		  },
  {
"cell_type": "code",
	   "execution_count": null,
	   "metadata": {
	    "collapsed": true
	   },
	   "outputs": [],
"source": [
"//time domain analysis of continuous time systems\n",
"//Convolution Integral of input x(t) = (e^-3t).u(t)and h(t) =(2*e^-2*t-e^-t)u(t)\n",
"clear;\n",
"close;\n",
"clc;\n",
"Max_Limit = 10;\n",
"t = 0:0.001:10;\n",
"for i=1:length(t)\n",
"     g(i) =(2*exp(-2*t(i))-exp(-t(i)));\n",
"end\n",
"  x= exp(-3*(t));\n",
"\n",
"y = convol(x,g)\n",
"figure\n",
"a=gca();\n",
"plot2d(t,g) \n",
"xtitle('Impulse Response','t','h(t)');\n",
"a.thickness = 2;\n",
"figure\n",
"a=gca();\n",
"plot2d(t,x) \n",
"xtitle('Input Response','t','x(t)');\n",
"a.thickness = 2;\n",
"figure\n",
"a=gca();\n",
"T=0:0.001:20;\n",
"plot2d(T,y) \n",
"xtitle('Output Response','t','y(t)');\n",
"a.thickness = 2;"
   ]
   }
,
{
		   "cell_type": "markdown",
		   "metadata": {},
		   "source": [
			"## Example 2.7: graphical_convolution.sce"
		   ]
		  },
  {
"cell_type": "code",
	   "execution_count": null,
	   "metadata": {
	    "collapsed": true
	   },
	   "outputs": [],
"source": [
"//time domain analysis of continuous time systems\n",
"//Convolution Integral of input x(t) = (e^-t).u(t)and g(t) =u(t)\n",
"clear;\n",
"close;\n",
"clc;\n",
"Max_Limit = 10;\n",
"t = -10:0.001:10;\n",
"for i=1:length(t)\n",
"    \n",
"       g(i)=exp(-t(i));\n",
"       x(i)=exp(-2*t(i));\n",
"end\n",
"\n",
"y = convol(x,g)\n",
"figure\n",
"a=gca();\n",
"plot2d(t,g) \n",
"xtitle('Impulse Response','t','h(t)');\n",
"a.thickness = 2;\n",
"figure\n",
"a=gca();\n",
"plot2d(t,x) \n",
"xtitle('Input Response','t','x(t)');\n",
"a.thickness = 2;\n",
"figure\n",
"a=gca();\n",
"T=-20:0.001:20;\n",
"plot2d(T,y) \n",
"xtitle('Output Response','t','y(t)');\n",
"a.thickness = 2;"
   ]
   }
,
{
		   "cell_type": "markdown",
		   "metadata": {},
		   "source": [
			"## Example 2.8: graphical_convolution.sce"
		   ]
		  },
  {
"cell_type": "code",
	   "execution_count": null,
	   "metadata": {
	    "collapsed": true
	   },
	   "outputs": [],
"source": [
"//time domain analysis of continuous time systems\n",
"//Convolution Integral of input x(t) = (e^-t).u(t)and g(t) =u(t)\n",
"clear;\n",
"close;\n",
"clc;\n",
"Max_Limit = 10;\n",
"t = -10:0.001:10;\n",
"for i=1:length(t)\n",
"    if t(i)<0 then\n",
"       g(i)=-2*exp(2*t(i));\n",
"       x(i)=0;\n",
"    else\n",
"        g(i)=2*exp(-t(i));\n",
"        x(i)=1;\n",
"    end\n",
"end\n",
"\n",
"y = convol(x,g)\n",
"figure\n",
"a=gca();\n",
"plot2d(t,g) \n",
"xtitle('Impulse Response','t','h(t)');\n",
"a.thickness = 2;\n",
"figure\n",
"a=gca();\n",
"plot2d(t,x) \n",
"xtitle('Input Response','t','x(t)');\n",
"a.thickness = 2;\n",
"figure\n",
"a=gca();\n",
"T=-20:0.001:20;\n",
"plot2d(T,y) \n",
"xtitle('Output Response','t','y(t)');\n",
"a.thickness = 2;"
   ]
   }
,
{
		   "cell_type": "markdown",
		   "metadata": {},
		   "source": [
			"## Example 2.9: graphical_convolution.sce"
		   ]
		  },
  {
"cell_type": "code",
	   "execution_count": null,
	   "metadata": {
	    "collapsed": true
	   },
	   "outputs": [],
"source": [
"//time domain analysis of continuous time systems\n",
"//Convolution Integral of input x(t) = (e^-t).u(t)and g(t) =u(t)\n",
"clear;\n",
"close;\n",
"clc;\n",
"Max_Limit = 10;\n",
"t =linspace(-1,1,10001);\n",
"for i=1:length(t)\n",
"    g(i)=1;\n",
"end\n",
"t1=linspace(0,3,10001);\n",
"for i=1:length(t1)\n",
"x(i)= t1(i)/3;\n",
"end\n",
"y = convol(x,g);\n",
"figure\n",
"a=gca();\n",
"size(t)\n",
"size(g)\n",
"plot2d(t,g) \n",
"xtitle('Impulse Response','t','h(t)');\n",
"a.thickness = 2;\n",
"figure\n",
"a=gca();\n",
"size(x)\n",
"plot2d(t1,x) \n",
"xtitle('Input Response','t','x(t)');\n",
"a.thickness = 2;\n",
"figure\n",
"a=gca();\n",
"T=linspace(-1,4,20001);\n",
"size(y)\n",
"plot2d(T,y) \n",
"xtitle('Output Response','t','y(t)');\n",
"a.thickness = 2;"
   ]
   }
],
"metadata": {
		  "kernelspec": {
		   "display_name": "Scilab",
		   "language": "scilab",
		   "name": "scilab"
		  },
		  "language_info": {
		   "file_extension": ".sce",
		   "help_links": [
			{
			 "text": "MetaKernel Magics",
			 "url": "https://github.com/calysto/metakernel/blob/master/metakernel/magics/README.md"
			}
		   ],
		   "mimetype": "text/x-octave",
		   "name": "scilab",
		   "version": "0.7.1"
		  }
		 },
		 "nbformat": 4,
		 "nbformat_minor": 0
}
