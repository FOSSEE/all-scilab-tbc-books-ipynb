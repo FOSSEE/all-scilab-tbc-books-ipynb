{
"cells": [
 {
		   "cell_type": "markdown",
	   "metadata": {},
	   "source": [
       "# Chapter 6: continuous time signal analysis the fourier series"
	   ]
	},
{
		   "cell_type": "markdown",
		   "metadata": {},
		   "source": [
			"## Example 6.1: fourier_coefficients_of_a_periodic_sequence.sce"
		   ]
		  },
  {
"cell_type": "code",
	   "execution_count": null,
	   "metadata": {
	    "collapsed": true
	   },
	   "outputs": [],
"source": [
"n=0:10;\n",
"a_n=0.504*2*ones(1,length(n))./(1+16*n.^2);\n",
"a_n(1)=0.504\n",
"b_n=0.504*8*n./(1+16*n.*n);\n",
"size(n)\n",
"size(a_n)\n",
"size(b_n)\n",
"disp(b_n(1))\n",
"C_n=sqrt(a_n.^2+(b_n).^2);\n",
"theta_n(1)=0; theta_n=atan(-b_n,a_n);\n",
"//n=[0,n];\n",
"clf;\n",
"size(n)\n",
"subplot(2,2,1); plot2d3(n,a_n);xtitle('a_n','n');plot(n,a_n,'ro');\n",
"subplot(2,2,2); plot2d3(n,b_n);xtitle('b_n','n');plot(n,b_n,'r.');\n",
"subplot(2,2,3); plot2d3(n,C_n);xtitle('C_n','n');plot(n,C_n,'ro');\n",
"subplot(2,2,4); plot2d3(n,theta_n,);xtitle('theta_n','n');plot(n,theta_n,'r.')"
   ]
   }
,
{
		   "cell_type": "markdown",
		   "metadata": {},
		   "source": [
			"## Example 6.2: fourier_coefficients_of_a_periodic_sequence.sce"
		   ]
		  },
  {
"cell_type": "code",
	   "execution_count": null,
	   "metadata": {
	    "collapsed": true
	   },
	   "outputs": [],
"source": [
" n=0:10;\n",
"a_n=zeros(1,length(n));\n",
"size(a_n)\n",
"b_n=(8/%pi^2*n.^2).*sin(n.*%pi/2);\n",
"size(n)\n",
"size(a_n)\n",
"size(b_n)\n",
"disp(b_n(1))\n",
"C_n=b_n\n",
"//theta_n(1)=0;\n",
" theta_n=atan(-b_n,a_n);\n",
"//n=[0,n];\n",
"clf;\n",
"size(n)\n",
"subplot(2,2,1); plot2d3(n,a_n); xtitle('a_n','n');plot(n,a_n,'ro') \n",
"subplot(2,2,2); plot2d3(n,b_n);xtitle('b_n','n');plot(n,b_n,'r.') \n",
"subplot(2,2,3); plot2d3(n,C_n);xtitle('C_n','n');plot(n,C_n,'ro') \n",
"subplot(2,2,4); plot2d3(n,theta_n,);xtitle('theta_n','n');plot(n,theta_n,'r.') "
   ]
   }
,
{
		   "cell_type": "markdown",
		   "metadata": {},
		   "source": [
			"## Example 6.3: fourier_spectra_of_a_signal.sce"
		   ]
		  },
  {
"cell_type": "code",
	   "execution_count": null,
	   "metadata": {
	    "collapsed": true
	   },
	   "outputs": [],
"source": [
"n=0:10;\n",
"\n",
"for n=0:10\n",
"     //if(n%2==0)\n",
"       //  a_n=0;\n",
"     //else \n",
"         if (n==4*n-3)\n",
"             a_n=2/(%pi.*n);\n",
"         else if (n==4*n-1)\n",
"                 a_n=-2/(%pi.*n);\n",
"             end end end\n",
"             \n",
"b_n=zeros(1,length(n));\n",
"size(n)\n",
"size(a_n)\n",
"size(b_n)\n",
"disp(b_n(1))\n",
"C_n=sqrt(a_n.^2+(b_n).^2);\n",
"theta_n(1)=0; theta_n=atan(-b_n,a_n);\n",
"//n=[0,n];\n",
"clf;\n",
"size(n)\n",
"subplot(2,2,1); plot2d3(n,a_n);xtitle('a_n','n');plot(n,a_n,'ro');\n",
"subplot(2,2,2); plot2d3(n,b_n);xtitle('b_n','n');plot(n,b_n,'r.');\n",
"subplot(2,2,3); plot2d3(n,C_n);xtitle('C_n','n');plot(n,C_n,'ro');\n",
"subplot(2,2,4); plot2d3(n,theta_n,);xtitle('theta_n','n');plot(n,theta_n,'r.');"
   ]
   }
,
{
		   "cell_type": "markdown",
		   "metadata": {},
		   "source": [
			"## Example 6.5: exponential_fourier_series.sce"
		   ]
		  },
  {
"cell_type": "code",
	   "execution_count": null,
	   "metadata": {
	    "collapsed": true
	   },
	   "outputs": [],
"source": [
"n=(-10:10); D_n=0.504./(1+ %i*4*n);\n",
"clf;\n",
"subplot(2,1,1); plot2d3(n,abs(D_n));\n",
"subplot(2,1,2); plot2d3(n,atan(imag(D_n),real(D_n)));"
   ]
   }
,
{
		   "cell_type": "markdown",
		   "metadata": {},
		   "source": [
			"## Example 6.7: exponential_fourier_series_for_the_impulse_train.sce"
		   ]
		  },
  {
"cell_type": "code",
	   "execution_count": null,
	   "metadata": {
	    "collapsed": true
	   },
	   "outputs": [],
"source": [
"//signals and systems\n",
"//fourier series for train of impulses\n",
"clear;\n",
"close;\n",
"clc;\n",
"n=-3:1:3\n",
"x = ones(1,length(n))\n",
"D_n=ones(1,length(n));\n",
"C_n=[0 0 0 1 2 2 2]\n",
"subplot(3,1,1)\n",
"a = gca();\n",
"a.y_location = 'origin';\n",
"a.x_location = 'origin';\n",
"plot2d3(n,x)\n",
"subplot(3,1,2)\n",
"a = gca();\n",
"a.y_location = 'origin';\n",
"a.x_location = 'origin';\n",
"plot2d3(n,D_n)\n",
"subplot(3,1,3)\n",
"a = gca();\n",
"a.y_location = 'origin';\n",
"a.x_location = 'origin';\n",
"plot2d3(n,C_n); plot(n,C_n,'r.')"
   ]
   }
,
{
		   "cell_type": "markdown",
		   "metadata": {},
		   "source": [
			"## Example 6.9: exponential_fourier_series_to_find_the_output.sce"
		   ]
		  },
  {
"cell_type": "code",
	   "execution_count": null,
	   "metadata": {
	    "collapsed": true
	   },
	   "outputs": [],
"source": [
"n=(-10:10); D_n=2/(3.14*(1-4.*n.^2).*(%i*6.*n+1));\n",
"clf;\n",
"subplot(2,1,1); plot2d3(n,abs(D_n));\n",
"subplot(2,1,2); plot2d3(n,atan(imag(D_n),real(D_n)));"
   ]
   }
],
"metadata": {
		  "kernelspec": {
		   "display_name": "Scilab",
		   "language": "scilab",
		   "name": "scilab"
		  },
		  "language_info": {
		   "file_extension": ".sce",
		   "help_links": [
			{
			 "text": "MetaKernel Magics",
			 "url": "https://github.com/calysto/metakernel/blob/master/metakernel/magics/README.md"
			}
		   ],
		   "mimetype": "text/x-octave",
		   "name": "scilab",
		   "version": "0.7.1"
		  }
		 },
		 "nbformat": 4,
		 "nbformat_minor": 0
}
