{
"cells": [
 {
		   "cell_type": "markdown",
	   "metadata": {},
	   "source": [
       "# Chapter 8: SELECTED OP AMP APPLICATIONS"
	   ]
	},
{
		   "cell_type": "markdown",
		   "metadata": {},
		   "source": [
			"## Example 8.1: basic_differential_amplifier.sce"
		   ]
		  },
  {
"cell_type": "code",
	   "execution_count": null,
	   "metadata": {
	    "collapsed": true
	   },
	   "outputs": [],
"source": [
"Adm=100;\n",
"printf('Gain of an difference amplifier Adm=(1+(R2/R1))/(1+(R3/R4))\n');\n",
"printf('Let (R2/R1)=A and (R3/R4)=B\n');\n",
"printf('Therefore Adm=(1+A)/(1+B)\n');\n",
"printf('A=Adm,');\n",
"printf('gives B=1/Adm\n');\n",
"A=Adm;\n",
"B=1/Adm;\n",
"printf('By suitable selection of resistors say R1=R2=1 Kohm');\n",
"R1=1;//in Kohm\n",
"R3=1;\n",
"R2=Adm*R1;\n",
"R4=Adm*R3;\n",
"printf('\nRESULTS:\n');\n",
"printf('Reasonable set of resistors R1=%d Kohm,R2=%d Kohms,R3=%d Kohm,R4=%d Kohms.',R1,R2,R3,R4);"
   ]
   }
,
{
		   "cell_type": "markdown",
		   "metadata": {},
		   "source": [
			"## Example 8.2: Instrumental_amplifier.sce"
		   ]
		  },
  {
"cell_type": "code",
	   "execution_count": null,
	   "metadata": {
	    "collapsed": true
	   },
	   "outputs": [],
"source": [
"Adm=100;\n",
"printf('Adm=100=10*10,therefore it requires(R2/R1)=10 Kohms and (R4/R3)=10 Kohms\n')\n",
"printf('Therefore if R1=R3=10 Kohms, then R2=R4=100 kohms\n');\n",
"R1=10;//in Kohms\n",
"R2=100;\n",
"R3=10;\n",
"R4=100;\n",
"printf('Adm=(1+2(Rb/Ra))*R4/R3\n');\n",
"printf('(Rb/Ra)=B\n');\n",
"printf('Adm=(1+2*B)*R4/R3\n');\n",
"B=((Adm/(R4/R3))-1)/2;\n",
"printf('Rb/Ra=%1.1f\n',B);\n",
"printf('If Ra=10 Kohms\n');\n",
"Ra=10;//in kohms\n",
"Rb=B*Ra;\n",
"printf('\nRESULTS:\n');\n",
"printf('The value of resistors are R1=%d Kohms,R2=%d Kohms,R3=%d Kohms,R4=%d Kohms,Ra=%d Kohms,Rb=%d Kohms',R1,R2,R3,R4,Ra,Rb);"
   ]
   }
,
{
		   "cell_type": "markdown",
		   "metadata": {},
		   "source": [
			"## Example 8.3: wein_bridge_oscillator.sce"
		   ]
		  },
  {
"cell_type": "code",
	   "execution_count": null,
	   "metadata": {
	    "collapsed": true
	   },
	   "outputs": [],
"source": [
"//caption:wein bridge oscillator\n",
"//To design a wein bridge oscillator of frequency fo=10KHz\n",
"fo=10000;//in Hz\n",
"printf('Capacitance C,Resistance R and Frequency fo are related as C*R=1/(2*pi*fo)\n');\n",
"printf('If C*R=A\n');\n",
"A=1/(2*%pi*fo);\n",
"C=0.01*(10^-6);//in farads\n",
"R=A/C;//in ohms\n",
"B=R/1000;//to convert to Kohms\n",
"printf('Taking C=0.01microfarad, we get R=%1.2f Kohms\n',B);//in Kohms\n",
"printf('Gain of a non-inverting amplifier should be 3 i.e. Av=1+(R1/R2)=3\n');\n",
"printf('This gives (R1/R2)=2, by selecting R2=10 Kohms, we get R1=20 Kohms\n');\n",
"R2=10;\n",
"R1=20;//in Kohms\n",
"printf('The gain must be restricted between 2.8 to 3.2, by selecting proper resistors Ra and Rb such that R1=Ra||Rb this can be achieved.\n');\n",
"printf('These values of Ra and Rb comes out to be Ra=22Kohms and Rb=220Kohms\n');\n",
"printf('RESULTS:\n');\n",
"printf('design values are R=%1.2f Kohms, C=0.01 microFarad,Ra=22 Kohms,Rb=220 Kohms\n',B);"
   ]
   }
],
"metadata": {
		  "kernelspec": {
		   "display_name": "Scilab",
		   "language": "scilab",
		   "name": "scilab"
		  },
		  "language_info": {
		   "file_extension": ".sce",
		   "help_links": [
			{
			 "text": "MetaKernel Magics",
			 "url": "https://github.com/calysto/metakernel/blob/master/metakernel/magics/README.md"
			}
		   ],
		   "mimetype": "text/x-octave",
		   "name": "scilab",
		   "version": "0.7.1"
		  }
		 },
		 "nbformat": 4,
		 "nbformat_minor": 0
}
