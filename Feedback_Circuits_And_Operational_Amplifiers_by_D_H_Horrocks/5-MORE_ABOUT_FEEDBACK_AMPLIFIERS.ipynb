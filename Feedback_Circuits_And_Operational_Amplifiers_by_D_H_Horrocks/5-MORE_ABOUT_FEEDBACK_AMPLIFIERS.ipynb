{
"cells": [
 {
		   "cell_type": "markdown",
	   "metadata": {},
	   "source": [
       "# Chapter 5: MORE ABOUT FEEDBACK AMPLIFIERS"
	   ]
	},
{
		   "cell_type": "markdown",
		   "metadata": {},
		   "source": [
			"## Example 5.1: Voltage_shunt_feedback_circuit.sce"
		   ]
		  },
  {
"cell_type": "code",
	   "execution_count": null,
	   "metadata": {
	    "collapsed": true
	   },
	   "outputs": [],
"source": [
"//caption:shunt voltage feedback circuit\n",
"//example5.1\n",
"printf('Given:');\n",
"printf('R=10 Kohms,\nR1=20Kohms,\nR2=5Kohms,\nhfe=100Kohms,hie=1Kohm,\nRc=1Kohm');\n",
"R=10000;\n",
"R1=20000;//in ohms\n",
"R2=5000;\n",
"Rc=1000;\n",
"hfe=100;\n",
"Bg=-1/R;\n",
"hie=1000;\n",
"printf('Therefore Bg=%1.5f\n',Bg);\n",
"printf('RT=input current coupling factor*-hfe*effective cdollector resistance\n');\n",
"printf('RT=(R1||R2||R)/((R1||R2||R)+hfe)*hfe*(Rc||R)\n');\n",
"a=(R1*R2*R)/((R1*R)+(R*R2)+(R1*R2));\n",
"b=(Rc*R)/(Rc+R);\n",
"RT=(-hfe*a*b)/(a+hie)/1000;\n",
"printf('RT=%2.1fKohms\n',RT);\n",
"c=1+(RT*1000*Bg);\n",
"d=(1/R1)+(1/R2)+(1/R)+(1/hie);\n",
"Zi=1/d;\n",
"Zo=b;\n",
"RTf=RT/c;\n",
"rif=Zi/c;\n",
"rof=Zo/c;\n",
"printf('RESULTS:\n');\n",
"printf('RT=%2.1fKohms\n',RT);\n",
"printf('Zi=%3.1fohms\n',Zi);\n",
"printf('Zo=%dohms\n',Zo);\n",
"printf('Closed-loop gain,RTf=%1.2fKohms\n',RTf);\n",
"printf('Closed-loop input resistance,rif=%dohms\n',rif);\n",
"printf('Closed-loop output resistance,rof=%dohms\n',rof);"
   ]
   }
,
{
		   "cell_type": "markdown",
		   "metadata": {},
		   "source": [
			"## Example 5.2: amplifier_parameters.sce"
		   ]
		  },
  {
"cell_type": "code",
	   "execution_count": null,
	   "metadata": {
	    "collapsed": true
	   },
	   "outputs": [],
"source": [
"//caption:amplifier parameters\n",
"//given values of resistances\n",
"R1=10000;//in ohms\n",
"R2=2000;//in ohms\n",
"Rc=2000;//in ohms\n",
"hie=1000;//in ohms\n",
"hfe=100;\n",
"ri1=2*hie;\n",
"//unloaded feed-backfraction Bv\n",
"Bv=R2/(R1+R2);\n",
"disp('Av=ri1/(ri1+(R1||R2))*(Vo/Via)');\n",
"disp('Av=(1*hfe/2)*(ri1/(ri1+(R1||R2)))*(Rc||(R1+R2))/hie');\n",
"Av=(1*hfe/2)*(ri1/(ri1+(R1*R2/(R1+R2))))*(Rc*(R1+R2)/(Rc+R1+R2))/hie;\n",
"C=1+(Av*Bv);\n",
"//open-loop input resistance ri\n",
"ri=ri1+(R1*R2/(R1+R2));\n",
"//open-loop output resistance ro\n",
"ro=Rc*(R1+R2)/(Rc+R1+R2);\n",
"//closed-loop gain,Avf\n",
"disp('closed-loop gain, Avf=Av/C,where C=1+Av*Bv');\n",
"Avf=Av/C;\n",
"//closed-loop input resistance,rif\n",
"disp('closed-loop input resistance, rif=ri*C');\n",
"rif=ri*C;\n",
"//closed-loop output resistance, rof\n",
"disp('closed-loop output resistance, rof=ro/C,where C=1+Av*Bv');\n",
"rof=ro/C;\n",
"printf('RESULTS:\n');\n",
"printf('Closed-loop gain,Avf=%1.2f(previously 5.66)\n',Avf);\n",
"printf('Closed-loop input resistance,rif=%2.1f Kohms(previously 35.3Kohms)\n',rif/1000);//divided by 1000 to convert to Kohms\n",
"printf('Closed-loop output resistance,rof=%3.0f Ohms(previously 113 ohms)\n',rof);"
   ]
   }
,
{
		   "cell_type": "markdown",
		   "metadata": {},
		   "source": [
			"## Example 5.4: closed_loop_current_gain_input_output_resistance.sce"
		   ]
		  },
  {
"cell_type": "code",
	   "execution_count": null,
	   "metadata": {
	    "collapsed": true
	   },
	   "outputs": [],
"source": [
"//example5.4\n",
"//Shunt circuit feedback configuration//given \n",
"R1=10000;//in ohms\n",
"R2=2000;//in ohms\n",
"Rc1=5000;//in ohms\n",
"hie=1000;//in ohms\n",
"hfe=100;\n",
"//unloaded feedback fraction B1\n",
"B1=R2/(R1+R2);\n",
"disp('open loop forward current amplification A1=io/i');\n",
"iia=1;//let\n",
"disp('ib=input-current coupling factor*iia');\n",
"disp('ib=(R1+R2)*iia/(R1+R2+hie)');\n",
"ib=(R1+R2)*iia/(R1+R2+hie);\n",
"disp('V2=(-hfe)*(Rc1||ri2)*ib');\n",
"disp('ri2=hie+(1+hfe)*(R1||R2)');\n",
"ri2=hie+(1+hfe)*(R1*R2/(R1+R2));\n",
"V2=(-hfe)*(Rc1*ri2/(Rc1+ri2))*ib;\n",
"disp('io/V2=C=-hfe/(hie+(1+hfe)*(R1||R2))');\n",
"C=-hfe/(hie+(1+hfe)*(R1*R2/(R1+R2)));\n",
"disp('Open loop current gain=A1=io/i=(ib/i)*(V2/ib)*(io/V2)');\n",
"A1=(ib/iia)*(V2/ib)*(C);\n",
"disp('Open-loop input resistance, ri=(R1+R2)||hie');\n",
"ri=(R1+R2)*hie/(R1+R2+hie);\n",
"disp('Open-loop output resistance ro as seen by the load resistance Rc2 is infinitely large since the load is in series with the infinitely large collector resistance of the transistor.');\n",
"disp('Closed-loop current gain,A1f=A1/(1+A1*B1)');\n",
"A1f=A1/(1+A1*B1);\n",
"disp(A1f);\n",
"disp('Closed-loop input resistance,rif=ri/(1+A1*B1)');\n",
"rif=ri/(1+A1*B1);\n",
"disp(rif);\n",
"disp('Closed-loop output resistance,rof=ro(1+A1*B1), since ro is infinitely large,the rof is also large infinitely..');\n",
"printf(' RESULTS:\n\n');\n",
"printf(' A1f=%1.2f,\n\n',A1f);\n",
"printf(' rif=%2.1f ohms,\n\n',rif);//approximately\n",
"printf(' rof=infinite\n\n');"
   ]
   }
,
{
		   "cell_type": "markdown",
		   "metadata": {},
		   "source": [
			"## Example 5.5: Voltage_shunt_feedback_circuit.sce"
		   ]
		  },
  {
"cell_type": "code",
	   "execution_count": null,
	   "metadata": {
	    "collapsed": true
	   },
	   "outputs": [],
"source": [
"//important:In this example ro1 value is contradicting in text book,sometimes they used 1K0hm and sometimes 4Kohms,the code below used ro1=2KOhms as specified in question\n",
"//example5.5\n",
"//caption:Shunt voltage feedback circuit\n",
"//input resistance ri1\n",
"ri1=1000;//in ohms\n",
"//output resistance ro1\n",
"ro1=2000;//in ohms\n",
"//trans resistance Kr\n",
"Kr=-10^6;//in ohms\n",
"//Feedback resistor R\n",
"R=10000;//in ohms\n",
"//current source Jg\n",
"Jg=0.001;//in Amps\n",
"//source internal resistance rg\n",
"rg=2000;//in ohms\n",
"//load resistance rl\n",
"rl=5000;//in ohms\n",
"//unloaded feedback fraction \n",
"Bg=-1/R;\n",
"disp('Unloaded feedback fraction,Bg=-1/R');\n",
"disp('open loop gain,RTs=Vo/Jg=input current coupling factor*Kr*output voltage coupling factor');\n",
"RTs=((rg*R/(rg+R))/(ri1+(rg*R/(rg+R))))*Kr*((rl*R/(rl+R))/(ro1+(rg*R/(rg+R))));\n",
"printf('RTs=%d ohms',RTs/1000);\n",
"disp('Open-loop input resistance,ris=rg||R||ri1');\n",
"ris=rg*R*ri1/(rg*R+R*ri1+rg*ri1);\n",
"printf('\nris=%d ohms',ris);\n",
"disp('Open-loop output resistance,ros=ro1||R||rl');\n",
"ros=rl*R*ro1/(rl*R+R*ro1+rl*ro1);\n",
"printf('ros=%d Ohms',ros);\n",
"disp('Closed-loop gain,RTf=RTs/(1+RTs*Bg)');\n",
"RTfs=RTs/(1+RTs*Bg);\n",
"printf('\nRTfs=%1.2f Kohms',RTfs/1000);\n",
"disp('Closed-loop input resistance,rifs=ris/(1+RTs*Bg)');\n",
"rifs=ris/(1+RTs*Bg);\n",
"printf('rifs=%d Ohms',rifs);\n",
"disp('Closed-loop output resistance,rof=ros/(1+RTs*Bg)');\n",
"rofs=ros/(1+RTs*Bg);\n",
"printf('rofs=%2.1f Ohms',rofs);\n",
"printf('RESULTS:\n');\n",
"Vout=RTfs*Jg;\n",
"printf('\n(i)The output voltage=%1.2f V',Vout);\n",
"disp('rifs=rif*rg/(rif+rg)==>rif=rg*rifs/(rg-rifs)');\n",
"rif=rg*rifs/(rg-rifs);\n",
"printf('\n(ii)The input resistance seen by the actual signal source is %2.1f Ohms',rif);\n",
"disp('rofs=rof*rl/(rof+rl)==>rof=rl*rofs/(rl-rofs)');\n",
"rof=rl*rofs/(rl-rofs)\n",
"printf('\n(iii)The output resistance seen by the load is %2.1f Ohms',rof);\n",
"printf('(iV)The closed-loop gain of the amplifier');\n",
"disp('RTf=Vo/i1,where')\n",
"disp('i1=current coupling factor*Jg=rg*Jg/(rg+rif)');\n",
"RTf=(rg+rif)*RTfs/rg;\n",
"printf('(iV)The closed-loop gain of the amplifier circuit is %1.2f Kohms',RTf/1000);//divided by 1000 to convert ohms to Kohms."
   ]
   }
,
{
		   "cell_type": "markdown",
		   "metadata": {},
		   "source": [
			"## Example 5.6: feed_back_fractio.sce"
		   ]
		  },
  {
"cell_type": "code",
	   "execution_count": null,
	   "metadata": {
	    "collapsed": true
	   },
	   "outputs": [],
"source": [
"//given\n",
"//current gain of transistor A\n",
"A=100;\n",
"//upper half-power frequency fh\n",
"fh=2*(10^6);//in Hz\n",
"//closed-loop current gain Acl\n",
"Acl=10;\n",
"//band width BW\n",
"BW=10*(10^6);//in Hz\n",
"//gain bandwidth product ABWp\n",
"ABWp=Acl*BW;//in Hz\n",
"//gain bandwidth product of transistor ABWpt\n",
"ABWpt=A*fh;//in Hz\n",
"printf('The gain bandwidth product of the transistor is %d*(10^8),which is greater the minimum required i.e. %d*(10^8) and therefore the transistor is suitable\n',ABWpt/(10^8),ABWp/(10^8))\n",
"disp('Acl=A/(1+A*B)==&gt; B =(1/A)*(A/Acl-1)\n');\n",
"B =(1/A)*(A/Acl-1);\n",
"printf('Required value of B is %1.2f',B);"
   ]
   }
],
"metadata": {
		  "kernelspec": {
		   "display_name": "Scilab",
		   "language": "scilab",
		   "name": "scilab"
		  },
		  "language_info": {
		   "file_extension": ".sce",
		   "help_links": [
			{
			 "text": "MetaKernel Magics",
			 "url": "https://github.com/calysto/metakernel/blob/master/metakernel/magics/README.md"
			}
		   ],
		   "mimetype": "text/x-octave",
		   "name": "scilab",
		   "version": "0.7.1"
		  }
		 },
		 "nbformat": 4,
		 "nbformat_minor": 0
}
