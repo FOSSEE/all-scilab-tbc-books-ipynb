{
"cells": [
 {
		   "cell_type": "markdown",
	   "metadata": {},
	   "source": [
       "# Chapter 9: FURTHER OP AMP APPLICATIONS"
	   ]
	},
{
		   "cell_type": "markdown",
		   "metadata": {},
		   "source": [
			"## Example 9.1: Design_of_phase_shifter.sce"
		   ]
		  },
  {
"cell_type": "code",
	   "execution_count": null,
	   "metadata": {
	    "collapsed": true
	   },
	   "outputs": [],
"source": [
"//caption:Design of phase shifter\n",
"//example9.1\n",
"disp('Given frequency fo=10 KHz,Vrms=5 V,phi=10 degrees\n');\n",
"disp('Taking A=C3*R4\n');\n",
"phi=10;//in degrees\n",
"fo=1000;//in Hz\n",
"disp('phi=180-2(atan(2*%pi*f*A))');\n",
"A=tan((180-10)*%pi/(180*2))/(2*fo*%pi);\n",
"printf('Therefore A=C3*R4=%f sec.\n',A);\n",
"R4=10000;//let (in ohms)\n",
"printf('C3 and R4 values are selected such that their product equals or greater than %f, The above values are preferable for low cost and bias compensation',A);\n",
"C3=A/R4;\n",
"printf('\nC3=%f uF',C3*10^6);\n",
"disp('To lower the cost of design,the preferred value is C31=0.22uF');\n",
"C31=0.22;//let Such that C31>C3\n",
"disp('since,C31*R4>A,C31 can be preferred')\n",
"printf('Similarly, R1 and R2 values should be of Good matching to obtain accurate unity gain modulus ');\n",
"printf('RESULTS:\n');\n",
"printf('(i)Resistors, R1=R2=10Kohms\n');\n",
"printf('(iii)R4=%d Kohms\n',R4/1000);//divided by 1000 to display in Kohms\n",
"printf('(iii)Capacitor, C3=%1.2f uF\n',C31);"
   ]
   }
,
{
		   "cell_type": "markdown",
		   "metadata": {},
		   "source": [
			"## Example 9.2: design_of_non_inverting_amplifier.sce"
		   ]
		  },
  {
"cell_type": "code",
	   "execution_count": null,
	   "metadata": {
	    "collapsed": true
	   },
	   "outputs": [],
"source": [
"//caption:design of non inverting amplifier\n",
"//to design a non inverting amplifier\n",
"//mid-band gain Av\n",
"Av=100;\n",
"//input impedance Zin\n",
"Zin=1000000;//in ohms\n",
"//cut-off frequencies fl1 and fl2\n",
"fl1=10;//in Hz\n",
"fl2=10;//in Hz\n",
"//From problem it follows\n",
"R3=Zin;\n",
"disp('fl2=1/(2*%pi*C2*R3)');\n",
"disp('C2=1/(2*%pi*fl2*R3)');\n",
"C2=1/(2*%pi*fl2*R3);\n",
"disp('Av=1+(R2/R1)');\n",
"disp('Bias compensation can also be obtained by taking R2=R3=1MHz');\n",
"R2=R3;\n",
"disp('R1=1/(Av-1)*R2');\n",
"R1=1/(Av-1)*R2;\n",
"printf('R1=%1.1f Kohms, preferred and standard value is 10Kohms\n',R1/1000);\n",
"R=R1;\n",
"R1=10000;//in ohms\n",
"disp('fl1=1/(2*%pi*C1*R3)');\n",
"disp('C1=1/(2*%pi*fl1*R3)');\n",
"C1=1/(2*%pi*fl1*R1);\n",
"printf('RESULTS: Design summary\n');\n",
"printf('R1=%1.1f Kohms, preferred and standard value is 10Kohms\n',R/1000);\n",
"printf('R2=R3=%d Mohm\n',R3/10**6);//divided by 10^6 to convert to Mohms\n",
"printf('C1=%1.2f uF but standard and preferred value is 2.2 uF\n',C1*(10**6));\n",
"printf('C2=%2.1f nF but standard and preferred value is 22 uF\n',C2*(10**9));\n",
""
   ]
   }
,
{
		   "cell_type": "markdown",
		   "metadata": {},
		   "source": [
			"## Example 9.3: low_pass_second_order_filter.sce"
		   ]
		  },
  {
"cell_type": "code",
	   "execution_count": null,
	   "metadata": {
	    "collapsed": true
	   },
	   "outputs": [],
"source": [
"//caption:low pass second order filter\n",
"//to design a low pass second order filter\n",
"//since it is butterworth filter\n",
"Q=1/sqrt(2);\n",
"Wo=100;//in rad/sec.\n",
"H=-2;\n",
"bo=H;\n",
"a1=1/(Q*Wo);\n",
"a2=1/(Wo**2);\n",
"printf('It is convenient to choose R=100Kohms\n');\n",
"R=100;//in Kohms\n",
"R3=R;\n",
"R4=R;\n",
"R1=R4/(-bo);\n",
"a3=R3+R4+((R3*R4)/R1);\n",
"C5=(a1/a3)*(10**6);//in uF\n",
"C2=a2/(R3*R4*C5)*(10**9);//in nF\n",
"printf('RESULTS:\n');\n",
"printf('R=%dKohms,\nR1=%dKohms,\nR3=%dKohms,\nR4=%dKohms,\nC2=%1.3f nF,\nC5=%2.1fuF',R,R1,R3,R4,C2,C5);"
   ]
   }
],
"metadata": {
		  "kernelspec": {
		   "display_name": "Scilab",
		   "language": "scilab",
		   "name": "scilab"
		  },
		  "language_info": {
		   "file_extension": ".sce",
		   "help_links": [
			{
			 "text": "MetaKernel Magics",
			 "url": "https://github.com/calysto/metakernel/blob/master/metakernel/magics/README.md"
			}
		   ],
		   "mimetype": "text/x-octave",
		   "name": "scilab",
		   "version": "0.7.1"
		  }
		 },
		 "nbformat": 4,
		 "nbformat_minor": 0
}
