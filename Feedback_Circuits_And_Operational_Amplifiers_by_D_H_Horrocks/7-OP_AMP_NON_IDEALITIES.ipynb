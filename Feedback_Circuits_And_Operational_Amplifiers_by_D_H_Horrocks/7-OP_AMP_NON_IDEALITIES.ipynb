{
"cells": [
 {
		   "cell_type": "markdown",
	   "metadata": {},
	   "source": [
       "# Chapter 7: OP AMP NON IDEALITIES"
	   ]
	},
{
		   "cell_type": "markdown",
		   "metadata": {},
		   "source": [
			"## Example 7.1: Output_voltage.sce"
		   ]
		  },
  {
"cell_type": "code",
	   "execution_count": null,
	   "metadata": {
	    "collapsed": true
	   },
	   "outputs": [],
"source": [
"A=200000;\n",
"//Offset voltage Vos in mV\n",
"Vos=5;\n",
"//output voltage Vout=A*Vos in mV\n",
"printf('\nVout=A*Vos\n');\n",
"Vout=A*Vos;\n",
"printf('RESULTS:\n')\n",
"printf('The maximum output voltage Vout=%d V',Vout/1000);//in volts"
   ]
   }
,
{
		   "cell_type": "markdown",
		   "metadata": {},
		   "source": [
			"## Example 7.2: output_offset_voltage.sce"
		   ]
		  },
  {
"cell_type": "code",
	   "execution_count": null,
	   "metadata": {
	    "collapsed": true
	   },
	   "outputs": [],
"source": [
"printf('A=1+(R1/R2)\n');\n",
"A=10;\n",
"//out put voltage of an op-amp owing to voltage offset effects Vout\n",
"printf('Vout=-A*Vos');\n",
"Vos=5;//in mV\n",
"Vout=-A*Vos;\n",
"printf('\nRESULTS:\n');\n",
"printf('Output offset voltage is Vout=%d mV',Vout);"
   ]
   }
,
{
		   "cell_type": "markdown",
		   "metadata": {},
		   "source": [
			"## Example 7.4: inverting_voltage_amplifier.sce"
		   ]
		  },
  {
"cell_type": "code",
	   "execution_count": null,
	   "metadata": {
	    "collapsed": true
	   },
	   "outputs": [],
"source": [
"Av=-10;\n",
"disp('Av=-(R2/R1)*(A*B/1+A*B), where A-differential gain and B=R1/R1+R2');\n",
"disp('When A*B&gt;&gt;1,Av=-(R2/R1)=Av1');\n",
"Av1=Av;\n",
"disp('abs(A)&gt;&gt;1+(R2/R1)=1+abs(Av1)');\n",
"A=1+abs(Av1);\n",
"disp('Because the cross over point occurs at a significantly higher frequency than the dominant frequency at 10Hz ');\n",
"disp('The phase angle of A is very close to -90degrees=%pi/2 radians');\n",
"disp('Using the j-notation the gain A at the crossover point is equal to %i*11');\n",
"A=%i*11;\n",
"disp('1+abs(Av1)=(R1+R2)/R1');\n",
"Av=(-10)*(A/(1+abs(Av1)))/(1+(A/(1+abs(Av1))));\n",
"Av2=abs(Av);\n",
"M=Av/Av2;\n",
"printf(' The closed-loop gain at the cross over point is thus reduced by a factor %f and therefore point corresponds to upper half-power frequency which is 90KHz',M)\n",
"disp('Therefore fh=90KHz, fl=0KHz');\n",
"fh=90;//in KHz\n",
"fl=0;//in KHz\n",
"disp('Bandwidth BW=fh-fl'); \n",
"BW=fh-fl;\n",
"printf(' RESULTS:\n');\n",
"printf(' The closed-loop bandwidth is %d KHz',BW);"
   ]
   }
,
{
		   "cell_type": "markdown",
		   "metadata": {},
		   "source": [
			"## Example 7.5: Full_power_bandwith_frequency.sce"
		   ]
		  },
  {
"cell_type": "code",
	   "execution_count": null,
	   "metadata": {
	    "collapsed": true
	   },
	   "outputs": [],
"source": [
"SR=0.5*(10^6);\n",
"//given operating power supplies +-12V\n",
"printf('\nGiven operating power supplies +-12V\n');\n",
"printf('For 741 op-amp,the output can work typically to within 1V of the power supplies.\nSo,Vom=11V\n');\n",
"Vom=11;//in volts\n",
"printf('f=(1/(2*pi))*(SR/Vom)\n');\n",
"f=(1/(2*%pi))*(SR/Vom);\n",
"printf('RESULTS:\n');\n",
"printf('Full-power bandwidth frequency f=%d Hz',f);"
   ]
   }
],
"metadata": {
		  "kernelspec": {
		   "display_name": "Scilab",
		   "language": "scilab",
		   "name": "scilab"
		  },
		  "language_info": {
		   "file_extension": ".sce",
		   "help_links": [
			{
			 "text": "MetaKernel Magics",
			 "url": "https://github.com/calysto/metakernel/blob/master/metakernel/magics/README.md"
			}
		   ],
		   "mimetype": "text/x-octave",
		   "name": "scilab",
		   "version": "0.7.1"
		  }
		 },
		 "nbformat": 4,
		 "nbformat_minor": 0
}
