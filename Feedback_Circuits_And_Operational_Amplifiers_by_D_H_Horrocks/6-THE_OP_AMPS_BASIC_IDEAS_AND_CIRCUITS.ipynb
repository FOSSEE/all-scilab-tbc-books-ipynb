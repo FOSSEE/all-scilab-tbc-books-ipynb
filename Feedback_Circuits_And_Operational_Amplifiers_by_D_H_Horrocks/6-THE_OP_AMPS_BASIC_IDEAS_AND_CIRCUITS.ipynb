{
"cells": [
 {
		   "cell_type": "markdown",
	   "metadata": {},
	   "source": [
       "# Chapter 6: THE OP AMPS BASIC IDEAS AND CIRCUITS"
	   ]
	},
{
		   "cell_type": "markdown",
		   "metadata": {},
		   "source": [
			"## Example 6.1: design_values_of_an_inverting_amplifier.sce"
		   ]
		  },
  {
"cell_type": "code",
	   "execution_count": null,
	   "metadata": {
	    "collapsed": true
	   },
	   "outputs": [],
"source": [
"R1=1;\n",
"//voltage gain of an inverting amplifier Av\n",
"Av=-100;\n",
"printf('Av=(-R2/R1)\nTherefore R2=-Av*R1');\n",
"R2=-Av*R1;\n",
"printf('\nRESULTS:\n');\n",
"printf('The design values are R1=%d Kohms and R2=%d Kohms',R1,R2);"
   ]
   }
,
{
		   "cell_type": "markdown",
		   "metadata": {},
		   "source": [
			"## Example 6.2: gain_of_a_negative_feedback_amplifier.sce"
		   ]
		  },
  {
"cell_type": "code",
	   "execution_count": null,
	   "metadata": {
	    "collapsed": true
	   },
	   "outputs": [],
"source": [
"//Typical 741 type op-amp Differential gain A\n",
"A=200000;\n",
"R1=1;//in Kohms\n",
"R2=10;\n",
"//Circuit gain in negative feedback Av\n",
"Av=-(R2/R1)*(A*(R1/(R1+R2))/(1+(A*(R1/(R1+R2)))));\n",
"printf('Circuit gain Av=%2.4f',Av);"
   ]
   }
,
{
		   "cell_type": "markdown",
		   "metadata": {},
		   "source": [
			"## Example 6.4: non_inverting_amplifier.sce"
		   ]
		  },
  {
"cell_type": "code",
	   "execution_count": null,
	   "metadata": {
	    "collapsed": true
	   },
	   "outputs": [],
"source": [
"Av=100;\n",
"printf('Av=1+(R1/R2)\n');\n",
"//Let R2=1 Kohms\n",
"R2=1;//in Kohms\n",
"printf('R1=(Av-1)*R2');\n",
"R1=(Av-1)*R2;\n",
"printf('\nRESULTS:\n');\n",
"printf('The design values are R1=%d Kohms and R2=%d Kohm',R1,R2);"
   ]
   }
],
"metadata": {
		  "kernelspec": {
		   "display_name": "Scilab",
		   "language": "scilab",
		   "name": "scilab"
		  },
		  "language_info": {
		   "file_extension": ".sce",
		   "help_links": [
			{
			 "text": "MetaKernel Magics",
			 "url": "https://github.com/calysto/metakernel/blob/master/metakernel/magics/README.md"
			}
		   ],
		   "mimetype": "text/x-octave",
		   "name": "scilab",
		   "version": "0.7.1"
		  }
		 },
		 "nbformat": 4,
		 "nbformat_minor": 0
}
