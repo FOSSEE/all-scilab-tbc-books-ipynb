{
"cells": [
 {
		   "cell_type": "markdown",
	   "metadata": {},
	   "source": [
       "# Chapter 4: FEEDBACK AMPLIFIER CIRCUITS"
	   ]
	},
{
		   "cell_type": "markdown",
		   "metadata": {},
		   "source": [
			"## Example 4.1: input_resistance_of_a_feedback_amplifier.sce"
		   ]
		  },
  {
"cell_type": "code",
	   "execution_count": null,
	   "metadata": {
	    "collapsed": true
	   },
	   "outputs": [],
"source": [
"//input resistance in Kohm\n",
"Rin=1;\n",
"//voltage gain\n",
"Av=1000;\n",
"//feedback fraction \n",
"Bv=0.1;\n",
"//Let input resistance after feedback is applied be Zif\n",
"AB=Av*Bv;\n",
"Zif=Rin*(1+AB);//Zif in Kohms\n",
"printf('RESULTS:\n');\n",
"printf('Input resistance after feedback is applied Zif=%dKohms',Zif);"
   ]
   }
,
{
		   "cell_type": "markdown",
		   "metadata": {},
		   "source": [
			"## Example 4.2: input_resistance_of_a_feedback_amplifier.sce"
		   ]
		  },
  {
"cell_type": "code",
	   "execution_count": null,
	   "metadata": {
	    "collapsed": true
	   },
	   "outputs": [],
"source": [
"//input impedance in ohms\n",
"Rin=10000;\n",
"//Trans-resistance in ohms\n",
"Rt=(10)^(5);\n",
"//feedback fraction Bg\n",
"Bg=(10)^(-3);\n",
"AB=Rt*Bg;\n",
"//input impedance after feedback is applied Zif in ohms\n",
"Zif=Rin/(1+AB);\n",
"printf('RESULTS:\n');\n",
"printf('Input impedance after feedback applied is Zif=%d Ohms',Zif);"
   ]
   }
,
{
		   "cell_type": "markdown",
		   "metadata": {},
		   "source": [
			"## Example 4.3: parameters_of_a_feedback_amplifier.sce"
		   ]
		  },
  {
"cell_type": "code",
	   "execution_count": null,
	   "metadata": {
	    "collapsed": true
	   },
	   "outputs": [],
"source": [
"//Trans-resistance Rtf in Kohms\n",
"Rtf=(-10);\n",
"//given\n",
"R1=20;//in Kohms\n",
"R2=5;\n",
"Rc=1;\n",
"//transistor parameters in kohms\n",
"hie=1;\n",
"hfe=0.1;\n",
"//feedback fraction Bg\n",
"Bg=1/Rtf;\n",
"R=(-Rtf);\n",
"//input resistance ri in ohms\n",
"a=(R1*R2*hie)/((R1*R2)+(R1*hie)+(R2*hie));\n",
"ri=(a);\n",
"//Output resistance in ohms\n",
"ro=1000*Rc;\n",
"b=(R1*R2)/(R1+R2);\n",
"//let\n",
"i1=1;\n",
"ib=i1*b/(b+hie);\n",
"ic=hfe*ib;\n",
"//output voltage Vo\n",
"Vo=(-Rc*ic);\n",
"Rt=Vo/i1*1000;\n",
"//Feedback factor F\n",
"F=1+(Rt*Bg);\n",
"//closed loop gain Rtf\n",
"Rtf=Rt/F;\n",
"//closed loop input resistance rif\n",
"rif=ri/F;\n",
"//closed loop output resistance rof\n",
"rof=ro/F;\n",
"printf('RESULTS\n');\n",
"printf('closed-loop gain,Rtf=%1.2fKohms\n',Rtf);\n",
"printf('closed-loop input resistance rif=%2.0f Ohms\n',1000*rif);//in ohms\n",
"printf('closed-loop output resistance rof=%d Ohms',rof);"
   ]
   }
,
{
		   "cell_type": "markdown",
		   "metadata": {},
		   "source": [
			"## Example 4.4: series_voltage_feedback_circuit.sce"
		   ]
		  },
  {
"cell_type": "code",
	   "execution_count": null,
	   "metadata": {
	    "collapsed": true
	   },
	   "outputs": [],
"source": [
"//caption:series voltage feedback circuit\n",
"//given in ohms\n",
"R1=10000;\n",
"R2=2000;\n",
"Rc=2000;\n",
"//transistor parameters in Ohms\n",
"hie=1000;//in ohms\n",
"hfe=100;\n",
"//loop gain Avf\n",
"Avf1=(R1+R2)/R2;//there is corrected equation.in text book,it needs a correction\n",
"Bv=1/Avf1;\n",
"//forward voltage gain Av\n",
"Av=(0.5)*hfe*Rc/hie;\n",
"//feedback factor F\n",
"F=(1+Av*Bv);\n",
"//closed loop gain Avf\n",
"Avf=Av/F;\n",
"//input resistance ri\n",
"ri=2*hie;\n",
"//input resistance after feed back rif\n",
"rif=ri*F;\n",
"//output resistance ro\n",
"ro=Rc;\n",
"//output resistance after feedback rof\n",
"rof=ro/F;\n",
"printf('RESULTS\n');\n",
"printf('(i)voltage amplification Avf=%1.2f, This accords with the previous value of Avf=%d\n',Avf,Avf1);\n",
"printf('(ii)input resistance after feed back rif=%2.1fKohms\n',rif/1000);//to convert ohms to Kohms\n",
"printf('(iii)input resistance after feed back rof=%dKohms\n',rof);//to convert ohms to Kohms\n",
""
   ]
   }
],
"metadata": {
		  "kernelspec": {
		   "display_name": "Scilab",
		   "language": "scilab",
		   "name": "scilab"
		  },
		  "language_info": {
		   "file_extension": ".sce",
		   "help_links": [
			{
			 "text": "MetaKernel Magics",
			 "url": "https://github.com/calysto/metakernel/blob/master/metakernel/magics/README.md"
			}
		   ],
		   "mimetype": "text/x-octave",
		   "name": "scilab",
		   "version": "0.7.1"
		  }
		 },
		 "nbformat": 4,
		 "nbformat_minor": 0
}
