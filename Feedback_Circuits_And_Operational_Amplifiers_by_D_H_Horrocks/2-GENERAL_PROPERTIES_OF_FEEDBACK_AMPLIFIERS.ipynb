{
"cells": [
 {
		   "cell_type": "markdown",
	   "metadata": {},
	   "source": [
       "# Chapter 2: GENERAL PROPERTIES OF FEEDBACK AMPLIFIERS"
	   ]
	},
{
		   "cell_type": "markdown",
		   "metadata": {},
		   "source": [
			"## Example 2.1: feedback_fractio.sce"
		   ]
		  },
  {
"cell_type": "code",
	   "execution_count": null,
	   "metadata": {
	    "collapsed": true
	   },
	   "outputs": [],
"source": [
"//example1:\n",
"printf(' Given:')\n",
"disp('value of A=1000')//To display given values\n",
"A=1000\n",
"disp('Magnitude of closed loop gain with feedback,Af=10')\n",
"Af=10\n",
"disp('Af=(A)/(1+A*b)')//standard formula for closed loop gain \n",
"disp('b=((A/Af)-1)*(1/A)')\n",
"b=((A/Af)-1)*(1/A)\n",
"printf(' The value of b is %f',b)\n",
"//if,A becomes 900angle(-30 degrees)\n",
"A=900*cos(-%pi/6)+%i*900*sin(-%pi/6) \n",
"disp('If,A becomes 900angle(-30 degrees)')\n",
"disp('Af=(A)/((1+A*b))')//standard formula for closed loop gain \n",
"Af=(A)/((1+A*b))\n",
"r=real(Af)//To get real part of Af\n",
"i=imag(Af)//To get imaginary part of Af\n",
"printf(' The value of Af is (%f)+i(%f)',r,i)//to display value of Af\n",
"t=tan(i/r)//to get angle in radians of Af\n",
"t=t*180/%pi//to get angle in degrees\n",
"m=abs(Af)//to get magnitude of Af\n",
"printf('\n Af=%fangle(%f degrees)',m,t)\n",
"printf('\n Af=10.004angle(-0.32 degrees)')//rounding to 3 digits"
   ]
   }
,
{
		   "cell_type": "markdown",
		   "metadata": {},
		   "source": [
			"## Example 2.2: Expected_variations_in_closed_loop_gain.sce"
		   ]
		  },
  {
"cell_type": "code",
	   "execution_count": null,
	   "metadata": {
	    "collapsed": true
	   },
	   "outputs": [],
"source": [
"//To calculate the expected variations in closed loop gain \n",
"disp('Given:')\n",
"disp('Af=10+0.2% or 10-0.2%')//To display given values\n",
"disp('-->Af=10 and dAf/Af=0.2%')\n",
"disp('The available amplifiers are with gains 50,500,5000')\n",
"disp('dA/A=20%')\n",
"disp('We have from formula')\n",
"disp('dAf/Af=(1/(1+A*b))*(dA/A)')//standard formula for closed loop gain \n",
"disp('let f=0.2%=(dAf/Af),a=20%=(dA/A),k=(1+A*b)')\n",
"disp('Therefore we have:')\n",
"Af=10;\n",
"printf(' Af=%d\n',Af)\n",
"f=0.2/100;\n",
"printf(' f=%f\n',f)\n",
"a=20/100;\n",
"printf(' a=%f',a)\n",
"disp('Therefore,the above formula becomes f=(1/k)*a')\n",
"k=a/f\n",
"printf(' Therefore (1=A*b)>=%d,but,A=(1+A*b)*Af',k)\n",
"l=k*Af//store partial value\n",
"disp('A>=k*Af')//given condition\n",
"printf(' Therefore we got the value of A to be >=%d',l)//display value of A\n",
"printf('\n Therefore A=5000 satisfies the obtained condition.Therefore A=5000 is most economical')\n",
"A=5000\n",
"b=((A/Af)-1)*(1/A)\n",
"printf(' The value of b is %f',b)\n",
"disp('Pratical values of A are 4000 and 6000,since dA/A=(+-20%) and A=5000')\n",
"disp('Therefore ')\n",
"Afmin=(4000/(1+(4000*b)))//to print result\n",
"Afmax=(6000/(1+(6000*b)))//to print result\n",
"printf(' Afmin=%1.3f',Afmin)\n",
"devAfmin=(1-(Afmin/Af))*100;//deviation of Afmin from Af\n",
"printf('(%1.2f percent low)',devAfmin)//to display deviation from original value\n",
"printf('\n Afmax=%2.3f',Afmax)\n",
"devAfmax=(1-(Afmax/Af))*100;//deviation of Afmax from Af\n",
"dev=abs(devAfmax);//negative value of devAfmax indicates Afmax is greater than Af by abs(devAfmax)\n",
"printf('(%1.2f percent high) ',dev)//to display deviation from original value"
   ]
   }
],
"metadata": {
		  "kernelspec": {
		   "display_name": "Scilab",
		   "language": "scilab",
		   "name": "scilab"
		  },
		  "language_info": {
		   "file_extension": ".sce",
		   "help_links": [
			{
			 "text": "MetaKernel Magics",
			 "url": "https://github.com/calysto/metakernel/blob/master/metakernel/magics/README.md"
			}
		   ],
		   "mimetype": "text/x-octave",
		   "name": "scilab",
		   "version": "0.7.1"
		  }
		 },
		 "nbformat": 4,
		 "nbformat_minor": 0
}
