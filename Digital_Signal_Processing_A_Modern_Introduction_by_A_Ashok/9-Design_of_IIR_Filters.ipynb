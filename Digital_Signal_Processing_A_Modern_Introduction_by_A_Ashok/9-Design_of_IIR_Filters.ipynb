{
"cells": [
 {
		   "cell_type": "markdown",
	   "metadata": {},
	   "source": [
       "# Chapter 9: Design of IIR Filters"
	   ]
	},
{
		   "cell_type": "markdown",
		   "metadata": {},
		   "source": [
			"## Example 9.10a: Bilinear_Design_of_Second_Order_Filters.sce"
		   ]
		  },
  {
"cell_type": "code",
	   "execution_count": null,
	   "metadata": {
	    "collapsed": true
	   },
	   "outputs": [],
"source": [
"//Bilinear design of second order filters\n",
"s=%s;z=%z;\n",
"fo=6;Wo=2*%pi*fo/25;\n",
"delf=5;S=25;\n",
"B=cos(2*%pi*fo/25)\n",
"C=tan(%pi*delf/25)\n",
"HS=1/(s+1);\n",
"HZ=horner(HS,(z^2-(2*B*z)+1)/(C*(z^2)-C))\n",
"f=0:0.5:12.5;\n",
"HZ1=horner(HZ,exp(%i*2*%pi*f'/25));\n",
"HZ1=abs(HZ1);\n",
"W2=(%pi*delf/25)+acos(cos(Wo)*cos(%pi*delf/25))\n",
"W1=W2-(2*%pi*delf/25)\n",
"f1=S*W1/(2*%pi),f2=S*W2/(2*%pi)\n",
"f3=[f1;fo;f2];\n",
"HZf=abs(horner(HZ,exp(%i*2*%pi*f3'/25)));\n",
"a=gca();\n",
"a.x_location='origin';\n",
"plot2d(f,HZ1,rect=[0 0 13 1]);\n",
"plot2d3('gnn',f3,HZf);\n",
"xlabel('Analog Frequency f[kHZ]');\n",
"ylabel('Magnitude');\n",
"xtitle('Band pass filter fo=6kHZ,delf=5kHZ');"
   ]
   }
,
{
		   "cell_type": "markdown",
		   "metadata": {},
		   "source": [
			"## Example 9.10b: Bilinear_Design_of_Second_Order_Filters.sce"
		   ]
		  },
  {
"cell_type": "code",
	   "execution_count": null,
	   "metadata": {
	    "collapsed": true
	   },
	   "outputs": [],
"source": [
"//Bilinear design of second order filters\n",
"s=%s;z=%z;\n",
"f1=4;f2=9;\n",
"delf=f2-f1;S=25;\n",
"B=cos(%pi*(f1+f2)/25)/cos(%pi*(f2-f1)/25)\n",
"C=tan(%pi*delf/25)\n",
"HS=1/(s+1);\n",
"HZ=horner(HS,(z^2-(2*B*z)+1)/(C*(z^2)-C))\n",
"f=0:0.5:12.5;\n",
"HZ1=horner(HZ,exp(%i*2*%pi*f'/25));\n",
"HZ1=abs(HZ1);\n",
"fo=S*acos(B)/(2*%pi)\n",
"f3=[f1 fo f2]; \n",
"HZf=abs(horner(HZ,exp(-%i*2*%pi*f3'/25)));\n",
"a=gca();\n",
"a.x_location='origin';\n",
"plot2d(f,HZ1);\n",
"plot2d3('gnn',f3,HZf);\n",
"xlabel('Analog Frequency f[kHZ]');\n",
"ylabel('Magnitude');\n",
"xtitle('Band pass filter f1=4kHZ,f2=9kHZ');"
   ]
   }
,
{
		   "cell_type": "markdown",
		   "metadata": {},
		   "source": [
			"## Example 9.10c: Bilinear_Design_of_Second_Order_Filters.sce"
		   ]
		  },
  {
"cell_type": "code",
	   "execution_count": null,
	   "metadata": {
	    "collapsed": true
	   },
	   "outputs": [],
"source": [
"//Bilinear design of second order filters\n",
"s=%s;z=%z;\n",
"fo=40;Wo=2*%pi*fo/200;\n",
"delf=2;S=25;\n",
"delW=2*%pi*delf/200;\n",
"B=cos(2*%pi*fo/200)\n",
"K=0.557;\n",
"C=K*tan(0.5*delW)\n",
"HS=1/(s+1);\n",
"HZ=horner(HS,(z^2-(2*B*z)+1)/(C*(z^2)-C))\n",
"f=0:2:100;\n",
"f1=35:0.5:45;\n",
"HZ1=horner(HZ,exp(%i*2*%pi*f'/200));\n",
"HZ2=horner(HZ,exp(%i*2*%pi*f1'/200));\n",
"HZ1=abs(HZ1);\n",
"HZ2=abs(HZ2);\n",
"a=gca();\n",
"a.x_location='origin';\n",
"subplot(211);\n",
"plot2d(f,HZ1);\n",
"xlabel('Analog Frequency f[kHZ]');\n",
"ylabel('Magnitude');\n",
"xtitle('peaking filter fo=40HZ,delf=2HZ');\n",
"subplot(212);\n",
"plot2d(f1,HZ2);\n",
"xtitle('Blowup of response 35HZ to 45HZ');"
   ]
   }
,
{
		   "cell_type": "markdown",
		   "metadata": {},
		   "source": [
			"## Example 9.11: Interference_Rejection.sce"
		   ]
		  },
  {
"cell_type": "code",
	   "execution_count": null,
	   "metadata": {
	    "collapsed": true
	   },
	   "outputs": [],
"source": [
"//interference Rejection\n",
"//design oh high-Q and low-Q notch filters\n",
"s=%s;z=%z;\n",
"Q=50;\n",
"fo=60;S=300;\n",
"delf=fo/Q;\n",
"Wo=2*%pi*fo/S;\n",
"delW=2*%pi*delf/S;\n",
"C=tan(0.5*delW),B=cos(Wo)\n",
"HS=(s)/(s+1);\n",
"H1Z=horner(HS,(z^2-(2*B*z)+1)/(C*(z^2)-C))\n",
"Q1=5;delf1=fo/Q1;\n",
"delW1=2*%pi*delf1/S;\n",
"C1=tan(0.5*delW1),B1=cos(Wo)\n",
"H2Z=horner(HS,(z^2-(2*B1*z)+1)/(C1*(z^2)-C1))\n",
"f=0:0.5:150;\n",
"H1Z1=horner(H1Z,exp(%i*2*%pi*f'/S));\n",
"H2Z1=horner(H2Z,exp(%i*2*%pi*f'/S));\n",
"a=gca();\n",
"subplot(211);\n",
"plot2d(f,H1Z1);\n",
"xlabel('Analog Frequency f[Hz]');\n",
"ylabel('Magnitude');\n",
"xtitle('60 HZ notch filter with Q=50');\n",
"subplot(212);\n",
"plot2d(f,H2Z1);\n",
"xlabel('Analog Frequency f[Hz]');\n",
"ylabel('Magnitude');\n",
"xtitle('60 HZ notch filter with Q=5');\n",
""
   ]
   }
,
{
		   "cell_type": "markdown",
		   "metadata": {},
		   "source": [
			"## Example 9.12: IIR_Filter_Desig.sce"
		   ]
		  },
  {
"cell_type": "code",
	   "execution_count": null,
	   "metadata": {
	    "collapsed": true
	   },
	   "outputs": [],
"source": [
"//IIR filter design\n",
"//Design of chebyshev IIR filter with following specifications\n",
"fp1=1.6;fp2=1.8;fs1=3.2;fs2=4.8;//pass band edges\n",
"Ap=2;As=20;S=12;\n",
"s=%s;z=%z;\n",
"//(a)Indirect Bilinear design\n",
"W=2*%pi*[fp1 fp2 fs1 fs2]/S\n",
"C=2;\n",
"omega=2*tan(0.5*W');//prewarping each band edge frequency\n",
"epsilon=sqrt(10^(0.1*Ap)-1);\n",
"n=acosh(((10^(0.1*As)-1)/epsilon^2)^1/2)/(acosh(fs1/fp1));\n",
"n=ceil(n)\n",
"alpha=(1/n)*asinh(1/epsilon);\n",
"for i=1:n\n",
"    B(i)=(2*i-1)*%pi/(2*n);\n",
"end\n",
"for i=1:n\n",
"    p(i)=-sinh(alpha)*sin(B(i))+%i*cosh(alpha)*cos(B(i));\n",
"end\n",
"Qs=1;\n",
"for i=1:n\n",
"    Qs=Qs*(s-p(i))\n",
"end\n",
"Qo=0.1634;\n",
"HPS=Qo/Qs\n",
"HBPS=horner(HPS,(s^2+1.5045^2)/(s*1.202))\n",
"HZ=horner(HBPS,2*(z-1)/(z+1))\n",
"f=0:0.001:0.5;\n",
"HZF=abs(horner(HZ,exp(%i*2*%pi*f')));\n",
"HBPF=abs(horner(HBPS,%i*2*%pi*f'));\n",
"a=gca();\n",
"plot2d(f,HZF);\n",
"plot2d(f,HBPF);\n",
"xlabel('Analog Frequency');\n",
"ylabel('magnitude');\n",
"xtitle('band pass filter designed by the bilinear transformation');"
   ]
   }
,
{
		   "cell_type": "markdown",
		   "metadata": {},
		   "source": [
			"## Example 9.1: Response_Invariant_Mappings.sce"
		   ]
		  },
  {
"cell_type": "code",
	   "execution_count": null,
	   "metadata": {
	    "collapsed": true
	   },
	   "outputs": [],
"source": [
"//Response in variant mappings\n",
"s=%s;z=%z;\n",
"HS=1/(s+1);\n",
"f=0:0.05:0.5;\n",
"HS1=horner(HS,(%i*%pi*2*f'));\n",
"ts=1;\n",
"HZ=z/(z-0.3679);\n",
"HZ1=horner(HZ,exp(%i*%pi*2*f'));\n",
"a=gca();\n",
"a.x_location='origin';\n",
"subplot(211)\n",
"plot2d(f,HS1);\n",
"plot2d(f,HZ1);\n",
"xlabel('Analog frequency f(Hz)');\n",
"ylabel('Magnitude');\n",
"xtitle('magnitude of H(s) and H(z)');\n",
"HZ1=HZ1-0.582;//magnitude after gain matching at dc \n",
"b=gca();\n",
"b.x_location='origin';\n",
"subplot(212);\n",
"plot2d(f,HS1);\n",
"plot2d(f,HZ1);\n",
"xlabel('Analog frequency f(Hz)');\n",
"ylabel('Magnitude');\n",
"xtitle('magnitude after gain matching at DC');\n",
"//Impulse response of analog and digital filter\n",
"t=0:0.01:6;\n",
"ht=exp(-t');\n",
"n=0:6;\n",
"hn=exp(-n');\n",
"xset('window',1)\n",
"c=gca();\n",
"subplot(211);\n",
"plot2d(t,ht);\n",
"plot2d3('gnn',n,hn);\n",
"xlabel('DT index n and time t=nts');\n",
"ylabel('Amplitude');\n",
"xtitle('Impulse response of analog and digital filter');\n",
"//Step response of analog and digital filter\n",
"t=0:0.01:6;\n",
"st=1-exp(-t');\n",
"n=0:6;\n",
"sn=(%e-%e^(-n'))/(%e-1);\n",
"c=gca();\n",
"subplot(212);\n",
"plot2d(t,st);\n",
"plot2d3('gnn',n,sn);\n",
"xlabel('DT index n and time t=nts');\n",
"ylabel('Amplitude');\n",
"xtitle('Step response of analog and digital filter');\n",
"\n",
"\n",
""
   ]
   }
,
{
		   "cell_type": "markdown",
		   "metadata": {},
		   "source": [
			"## Example 9.2: Impulse_Invariant_Mappings.sce"
		   ]
		  },
  {
"cell_type": "code",
	   "execution_count": null,
	   "metadata": {
	    "collapsed": true
	   },
	   "outputs": [],
"source": [
"//Impulse invariant mappings\n",
"//(a)converting H(s)=4s+7/s^2+5s+4 to H(z) using impulse invariance\n",
"s=%s;\n",
"z=%z;\n",
"HS=(4*s+7)/(s^2+5*s+4);\n",
"pfss(HS)\n",
"ts=0.5;\n",
"HZ=3*z/(z-%e^(-4*ts))+z/(z-%e^(-ts))\n",
"//(b)converting H(s)=4s+7/s^2+5s+4 to H(z) using impulse invariance\n",
"HS1=4/((s+1)*(s^2+4*s+5))\n",
"pfss(HS1);\n",
"HZ1=2*z/(z-%e^-ts)+(2*1.414*z^2*cos(-0.75*%pi)-2*1.414*(z/%e)*cos(0.5-0.75*%pi))/(z^2-2*(z/%e)*cos(0.5)+%e^-2)"
   ]
   }
,
{
		   "cell_type": "markdown",
		   "metadata": {},
		   "source": [
			"## Example 9.3ab: Modified_Impulse_Invariant_Design.sce"
		   ]
		  },
  {
"cell_type": "code",
	   "execution_count": null,
	   "metadata": {
	    "collapsed": true
	   },
	   "outputs": [],
"source": [
"//(a)Impulse invariant design\n",
"s=%s;z=%z;\n",
"HS=1/(s+1);\n",
"H1s=horner(HS,3*s/%pi)\n",
"H1z=%pi/3*z/(z-%e^(-%pi/3))\n",
"//Modified inmpulse invariant design\n",
"HZ=z/(z-1/%e);\n",
"HMZ=0.5*(z+1/%e)/(z-1/%e);//modified transfer function\n",
"H1Z=HZ/horner(HZ,1)\n",
"HM1Z=HMZ/horner(HMZ,1)\n",
"f=0:0.05:0.5;\n",
"HZ1=horner(HZ,exp(%i*2*%pi*f'));\n",
"HMZ1=horner(HMZ,exp(%i*2*%pi*f'));\n",
"H1Z1=horner(H1Z,exp(%i*2*%pi*f'));\n",
"HM1Z1=horner(HM1Z,exp(%i*2*%pi*f'));\n",
"a=gca();\n",
"a.x_location='origin';\n",
"plot2d(f,HZ1);\n",
"plot2d(f,HMZ1);\n",
"plot2d(f,H1Z1);\n",
"plot2d(f,HM1Z1);\n",
"xlabel('digital frequency');\n",
"ylabel('Magnitude');\n",
"xtitle('Impulse invariant design of H(s)=1/s+1 (dashed)');"
   ]
   }
,
{
		   "cell_type": "markdown",
		   "metadata": {},
		   "source": [
			"## Example 9.3cd: Modified_Impulse_Invariant_Design.sce"
		   ]
		  },
  {
"cell_type": "code",
	   "execution_count": null,
	   "metadata": {
	    "collapsed": true
	   },
	   "outputs": [],
"source": [
"//modified Impulse invariant Design\n",
"//(c)H(s)=4s+7/s^2+5s+4\n",
"s=%s;z=%z;\n",
"HS=(4*s+7)/(s^2+5*s+4);\n",
"[d1]=degree(numer(HS));\n",
"[d2]=degree(denom(HS));\n",
"HZ=((3*z)/(z-%e^-2))+(z/(z-%e^-0.5))\n",
"if (d2-d1==1) then\n",
"    h=(4+7/%inf)/(1+5/%inf+4/%inf)\n",
"    HMZ=HZ-0.5*h\n",
"else\n",
"    HMZ=HZ\n",
"end\n",
"HS1=4/((s+1)*(s^2+4*s+5))\n",
"HZ1=(0.2146*z^2+0.093*z)/(z^3-1.2522*z^2+0.527*z-0.0821);\n",
"[d1]=degree(numer(HS1));\n",
"[d2]=degree(denom(HS1));\n",
"if (d2-d1==1) then\n",
"    HMZ1=HZ1-0.5*h\n",
"else\n",
"    HMZ1=HZ1\n",
"end"
   ]
   }
,
{
		   "cell_type": "markdown",
		   "metadata": {},
		   "source": [
			"## Example 9.5: Mappings_from_Difference_Algorithms.sce"
		   ]
		  },
  {
"cell_type": "code",
	   "execution_count": null,
	   "metadata": {
	    "collapsed": true
	   },
	   "outputs": [],
"source": [
"//Mappings from difference algorithms\n",
"//Backward difference mappings\n",
"s=%s;z=%z;\n",
"ts=1;a=1;\n",
"HS=1/(s+a);\n",
"HZa=horner(HS,(z-1)/(z*ts))\n",
"z1=roots(denom(HZa))//for ts >0 HZa always stable\n",
"HZb=horner(HS,(z-1)/ts)\n",
"z2=roots(denom(HZb))//stable only for 0<ats<2\n",
"HZc=horner(HS,(z^2-1)/(2*z*ts))\n",
"z3=roots(denom(HZc))//magnitude of 1 pole is always>1 hence unstable\n",
""
   ]
   }
,
{
		   "cell_type": "markdown",
		   "metadata": {},
		   "source": [
			"## Example 9.6: Mappings_From_Integration_Algorithms.sce"
		   ]
		  },
  {
"cell_type": "code",
	   "execution_count": null,
	   "metadata": {
	    "collapsed": true
	   },
	   "outputs": [],
"source": [
"//Mappings from integration algorithm\n",
"//(a)Trapezoidal integration algorithm\n",
"s=%s;z=%z;\n",
"a=input('enter the value of a')\n",
"ts=input('enter the value of sampling time')\n",
"HS=1/(s+1);\n",
"HZa=horner(HS,2*(z-1)/(ts*(z+1)))\n",
"za=roots(denom(HZa))//pole always less than 1 ,hence HZ is stable\n",
"//(b)simphson's algorithm\n",
"HZb=horner(HS,3*(z^2-1)/(ts*(z^2+4*z+1)))\n",
"zb=roots(denom(HZb))\n",
"//magnitude of 1 pole always greater than 1 ,hence HZ is unstable"
   ]
   }
,
{
		   "cell_type": "markdown",
		   "metadata": {},
		   "source": [
			"## Example 9.7: DTFT_of_Numerical_Algorithms.sce"
		   ]
		  },
  {
"cell_type": "code",
	   "execution_count": null,
	   "metadata": {
	    "collapsed": true
	   },
	   "outputs": [],
"source": [
"//DTFT of numerical algorithms\n",
"//(a)For trapezoidal numerical integrator\n",
"ieee(2)\n",
"F=0:0.01:0.2;\n",
"HTF=1/(%i*2*tan(%pi*F'));\n",
"HIF=1/(%i*2*%pi*F');\n",
"Ha=1-((%pi*F')^2)/3-((%pi*F')^4/45);\n",
"//(b)For simphson's numerical integrator\n",
"Hb=((2*%pi*F')).*((2+cos(2*%pi*F'))./(3*sin(2*%pi*F')));\n",
"//For forward difference operator\n",
"HFF=(%e^(%i*2*%pi*F'))-1;\n",
"HDF=1/(%i*2*%pi*F');\n",
"Hc=1+(%i*2*%pi*F')/2-(2*%pi*F')^2/6;\n",
"Hc=abs(Hc);\n",
"//for central difference operator\n",
"HCF=sin(2*%pi*F')./(%i*4*%pi*%pi*F'^2);\n",
"Hd=abs(sin(2*%pi*F')./(2*%pi*F'));\n",
"length(F),length(Ha)\n",
"a=gca();\n",
"a.x_location='origin';\n",
"plot2d(F,Ha,rect=[0,0.8,0.2,1.1]);\n",
"plot2d(F,Hb);\n",
"xtitle('Magnitude spectrum of Integration algorithms','Digital Frequency F','Magnitude');\n",
"xset('window',1);\n",
"plot2d(F,Hc,rect=[0,0.8,0.2,1.1]);\n",
"plot2d(F,Hd);\n",
"xtitle('Magnitude spectrum of difference algorithms','Digital Frequency F','Magnitude');"
   ]
   }
,
{
		   "cell_type": "markdown",
		   "metadata": {},
		   "source": [
			"## Example 9.8a: Bilinear_Transformation.sce"
		   ]
		  },
  {
"cell_type": "code",
	   "execution_count": null,
	   "metadata": {
	    "collapsed": true
	   },
	   "outputs": [],
"source": [
"//Bilinear transformation\n",
"//To convert bessel analog filter to digital filter\n",
"s=%s;\n",
"z=%z;\n",
"HS=3/(s^2+3*s+3);\n",
"Wa=4;//analog omega\n",
"Wd=%pi/2;//digital omega\n",
"T=(2/Wa)*(tan(Wd/2));\n",
"HZ=horner(HS,(2/T)*(z-1)/(z+1))\n",
"f=0:0.1:6;\n",
"HS1=horner(HS,(%i*4*f'/3));\n",
"HS1=abs(HS1);\n",
"HZ1=horner(HZ,exp(-%i*%pi*f'/6));\n",
"HZ1=abs(HZ1);\n",
"a=gca();\n",
"a.x_location='origin';\n",
"plot2d(f,HS1);\n",
"plot2d(f,HZ1);\n",
"xlabel('Analog Frequency f[kHZ)');\n",
"ylabel('Magnitude');\n",
"xtitle('Bessel filter H(s) and digital filter H(z)');"
   ]
   }
,
{
		   "cell_type": "markdown",
		   "metadata": {},
		   "source": [
			"## Example 9.8b: Bilinear_Transformation.sce"
		   ]
		  },
  {
"cell_type": "code",
	   "execution_count": null,
	   "metadata": {
	    "collapsed": true
	   },
	   "outputs": [],
"source": [
"//Bilinear transformation\n",
"//To convert twin-T notch analog filter to digital filter\n",
"s=%s;\n",
"z=%z;\n",
"HS=(s^2+1)/(s^2+4*s+1);\n",
"Wo=1;\n",
"S=240;f=60;//sampling and analog frequencies\n",
"W=0.5*%pi;//digital frequency\n",
"C=Wo/tan(0.5*W)\n",
"HZ=horner(HS,C*(z-1)/(z+1))\n",
"f=0:120;\n",
"HZ1=abs(horner(HZ,exp(-%i*%pi*f'/120)));\n",
"HS1=abs(horner(HS,(%i*f'/60)));\n",
"a=gca();\n",
"a.x_location='origin';\n",
"plot2d(f,HZ1);\n",
"plot2d(f,HS1);\n",
"xlabel('Analog Frequency f[kHZ]');\n",
"ylabel('Magnitude');\n",
"xtitle('Notch filter H(S) and digital filter H(z)');"
   ]
   }
,
{
		   "cell_type": "markdown",
		   "metadata": {},
		   "source": [
			"## Example 9.9: D2D_transformations.sce"
		   ]
		  },
  {
"cell_type": "code",
	   "execution_count": null,
	   "metadata": {
	    "collapsed": true
	   },
	   "outputs": [],
"source": [
"//D2D transformations\n",
"//(a)LP 2 HP transformation\n",
"z=%z;\n",
"HZ=(3*(z+1)^2)/(31*z^2-26*z+7);\n",
"WD=0.5*%pi;WC=0.25*%pi;//Band edges\n",
"a=-cos(0.5*(WD+WC))/cos(0.5*(WD-WC))//Mapping parameter\n",
"HHPZ=horner(HZ,-(z+a)/(1+a*z))\n",
"//(b)LP 2 BP transformation\n",
"W1=0.25*%pi;\n",
"W2=0.75*%pi;\n",
"K=tan(0.5*WD)/tan(0.5*(W2-W1))\n",
"a=-cos(0.5*(W1+W2))/cos(0.5*(W1-W2))//Mapping parameters k,a,A1,A2\n",
"A1=2*K*a/(K+1),A2=(K-1)/(K+1)\n",
"HBPZ=horner(HZ,-(z^2+A1*z+A2)/(A2*z^2+A1*z+1))\n",
"//(c)Lp 2 BS transformation\n",
"w1=3/8*%pi;w2=5/8*%pi;//band edges\n",
"K1=tan(0.5*WD)*tan(0.5*(w2-w1))\n",
"a1=-cos(0.5*(w1+w2))/cos(0.5*(w2-w1))//Mapping parameters k1,a1,A1c,A2c\n",
"A1c=2*a1/(K1+1),A2c=-(K1-1)/(K1+1)\n",
"HBSZ=horner(HZ,(z^2+A1c*z+A2c)/(A2c*z^2+A1c*z+1))\n",
"f=0:1/256:4;\n",
"for i=1:length(f)\n",
"HZ1(i)=horner(HZ,exp(-%i*%pi*f(i)/4));\n",
"end\n",
"HZ1=abs(HZ1);\n",
"HHPZ1=abs(horner(HHPZ,exp(-%i*%pi*f'/4)));\n",
"HBPZ1=abs(horner(HBPZ,exp(-%i*%pi*f'/4)));\n",
"HBSZ1=abs(horner(HBSZ,exp(-%i*%pi*f'/4)));\n",
"a=gca();\n",
"a.x_location='origin';\n",
"plot2d(f,HZ1);\n",
"plot2d(f,HHPZ1);\n",
"plot2d(f,HBPZ1);\n",
"plot2d(f,HBSZ1);\n",
"xlabel('Analog Frequency');\n",
"ylabel('Magnitude');\n",
"xtitle('Digital-to-digital transformations of a low pass filter');"
   ]
   }
],
"metadata": {
		  "kernelspec": {
		   "display_name": "Scilab",
		   "language": "scilab",
		   "name": "scilab"
		  },
		  "language_info": {
		   "file_extension": ".sce",
		   "help_links": [
			{
			 "text": "MetaKernel Magics",
			 "url": "https://github.com/calysto/metakernel/blob/master/metakernel/magics/README.md"
			}
		   ],
		   "mimetype": "text/x-octave",
		   "name": "scilab",
		   "version": "0.7.1"
		  }
		 },
		 "nbformat": 4,
		 "nbformat_minor": 0
}
