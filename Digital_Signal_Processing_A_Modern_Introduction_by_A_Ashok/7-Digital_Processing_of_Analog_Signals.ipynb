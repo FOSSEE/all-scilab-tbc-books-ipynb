{
"cells": [
 {
		   "cell_type": "markdown",
	   "metadata": {},
	   "source": [
       "# Chapter 7: Digital Processing of Analog Signals"
	   ]
	},
{
		   "cell_type": "markdown",
		   "metadata": {},
		   "source": [
			"## Example 7.10: ADC_considerations.sce"
		   ]
		  },
  {
"cell_type": "code",
	   "execution_count": null,
	   "metadata": {
	    "collapsed": true
	   },
	   "outputs": [],
"source": [
"//ADC considerations\n",
"//(a)Aperture time TA\n",
"B=12;\n",
"fo=15000;//band limited frquency\n",
"TAm=(1/((2^B)))/(%pi*fo);\n",
"TAm=TAm*10^9\n",
"//Hence TA must satisfy TA<=TAm nano sec\n",
"//(b)conversion time of quantizer\n",
"TA=4*10^-9;\n",
"TH=10*10^-6;//hold time\n",
"S=30*10^3;\n",
"TCm=1/S-TA-TH;\n",
"TCm=TCm*10^6\n",
"//Hence TC must satisfy TC<=TCm micro sec\n",
"//(c)Holding capacitance C\n",
"Vo=10;\n",
"TH=10*10^-6;\n",
"B=12;\n",
"R=10^6;//input resistance\n",
"delv=Vo/(2^(B+1));\n",
"Cm=(Vo*TH)/(R*delv);\n",
"Cm=Cm*10^9\n",
"//Hence C must satisfy C>=Cm nano farad"
   ]
   }
,
{
		   "cell_type": "markdown",
		   "metadata": {},
		   "source": [
			"## Example 7.11: Anti_Aliasing_Filter_Considerations.sce"
		   ]
		  },
  {
"cell_type": "code",
	   "execution_count": null,
	   "metadata": {
	    "collapsed": true
	   },
	   "outputs": [],
"source": [
"//Anti Aliasing filter considerations\n",
"//minimum stop band attenuation As\n",
"B=input('enter no. of bits');//no. of samples\n",
"n=input('enter band width in KHZ');\n",
"As=20*log10(2^B*sqrt(6))\n",
"//nomalised frequency\n",
"Vs=(10^(0.1*As)-1)^(1/(2*n))\n",
"fp=4;//pass edge frequency\n",
"fs=Vs*fp//stop band frquency\n",
"S=2*fs//sampling frequency\n",
"fa=S-fp//aliaed frequency\n",
"Va=fa/fp;\n",
"//Attenuation at aliased frequency\n",
"Aa=10*log10(1+Va^(2*n))"
   ]
   }
,
{
		   "cell_type": "markdown",
		   "metadata": {},
		   "source": [
			"## Example 7.12: Anti_Imaging_Filter_Considerations.sce"
		   ]
		  },
  {
"cell_type": "code",
	   "execution_count": null,
	   "metadata": {
	    "collapsed": true
	   },
	   "outputs": [],
"source": [
"//Anti Imaging Filter considerations\n",
"Ap=0.5;//passband attenuation\n",
"fp=20;//passband edge frequency\n",
"As=60;//stopband attenuation\n",
"S=42.1;\n",
"fs=S-fp;//stopband edge frequency\n",
"e=sqrt(10^(0.1*Ap)-1);\n",
"e1=sqrt(10^(0.1*As)-1);\n",
"n=(log10(e1/e))/(log10(fs/fp));\n",
"n=ceil(n)//design of nth order butworth filter\n",
"//(b)Assuming Zero-order hold sampling\n",
"S1=176.4;\n",
"fs1=S1-fp;\n",
"Ap=0.316;\n",
"e2=sqrt(10^(0.1*Ap)-1);\n",
"n1=(log10(e1/e2))/(log(fs1/fp));//new order of butworth filter\n",
"n1=ceil(n1)\n",
"f=0:100;\n",
"x=abs(sinc(f*%pi/S));\n",
"f1=0:500;\n",
"x1=abs(sinc(f1*%pi/S1));\n",
"a=gca();\n",
"subplot(211);\n",
"plot2d(f,x);\n",
"xtitle('spectra under normal sampling condition','f(kHZ)','sinc(f/s1)');\n",
"subplot(212);\n",
"plot2d(f1,x1);\n",
"xtitle('spectra under over sampling condition','f(kHZ)','sinc(f/s1)');"
   ]
   }
,
{
		   "cell_type": "markdown",
		   "metadata": {},
		   "source": [
			"## Example 7.3: Sampling_oscilloscope.sce"
		   ]
		  },
  {
"cell_type": "code",
	   "execution_count": null,
	   "metadata": {
	    "collapsed": true
	   },
	   "outputs": [],
"source": [
"//Sampling Oscilloscope Concepts\n",
"fo=100;a=50;\n",
"s=(a-1)*fo/a;\n",
"B=100-s;\n",
"i=s/(2*B);\n",
"i=ceil(i);\n",
"disp(i,'The sampling frequency can at max divided by i');\n",
"disp(s,2*B,'range of sampling rate is between s and 2*B');\n",
"fo1=100;\n",
"a=50;\n",
"s1=(a-1)*fo1/a;\n",
"B1=400-4*s1;\n",
"j=s1/(2*B1);\n",
"j=ceil(j);\n",
"disp(j,'The sampling frequency can at max divided by j');\n",
"disp(s1,2*B1,'range of sampling rate is between s1 and 2*B1');"
   ]
   }
,
{
		   "cell_type": "markdown",
		   "metadata": {},
		   "source": [
			"## Example 7.4: Sampling_of_Band_pass_signals.sce"
		   ]
		  },
  {
"cell_type": "code",
	   "execution_count": null,
	   "metadata": {
	    "collapsed": true
	   },
	   "outputs": [],
"source": [
"//sampling of bandpass signals\n",
"fc=4;fl=6;\n",
"B=fl-fc;\n",
"xt=[0 1 2 1];\n",
"xtt=[0 1 2];\n",
"a=0;b=1;c=2;\n",
"xta=[xt];\n",
"xtb=[0 0 2 1 0];\n",
"xtc=[0 0 0 2 1 0];\n",
"xt1=[xta xta xta]; \n",
"xt2=[xtb xtb(length(xtb):-1:2) xtb(2:length(xtb)) xtb(length(xtb):-1:2)];\n",
"xt3=[xtc(length(xtc):-1:2) xtc(3:length(xtc)) zeros(1:7) xtc(length(xtc):-1:2) xtc(3:length(xtc))];\n",
"f1=0:length(xt1)-1;\n",
"f2=[0 1 1.001 2:6 6.001 7 7.001 8:12 12.001];\n",
"f3=[-10:-8 -7.99 -7:-6 -5.99 -5:6 6.01 7:8 8.01 9:10];\n",
"subplot(211);\n",
"plot2d(f1,xt1);\n",
"xtitle('spectrum of signal sampled at 4KHZ');\n",
"subplot(212);\n",
"plot2d(f2,xt2);\n",
"xtitle('spectrum of signal sampled at 7KHZ');\n",
"xset('window',1);\n",
"b=gca();\n",
"b.y_location='origin'\n",
"plot2d(f3,xt3);\n",
"xtitle('spectrum of signal sampled at 14KHZ');"
   ]
   }
,
{
		   "cell_type": "markdown",
		   "metadata": {},
		   "source": [
			"## Example 7.6: Signal_Reconstruction_from_Samples.sce"
		   ]
		  },
  {
"cell_type": "code",
	   "execution_count": null,
	   "metadata": {
	    "collapsed": true
	   },
	   "outputs": [],
"source": [
"//signal reconstruction from samples\n",
"//(a)By step interpolation method\n",
"x=[-1 2 3 2];\n",
"t=2.5;\n",
"ts=1;\n",
"t1=ceil(t);\n",
"t2=floor(t);\n",
"x1t=x(t2)\n",
"//(b)By linear interpolation method\n",
"x2t=(x(t1)+x(t2))/2\n",
"//(c)By sinc interpolation method\n",
"x3t=0;x1=[1 2 3 4];\n",
"for k=1:4\n",
"    x3t=x3t+(x1(k)*sinc(%pi*(t-(k-1))));\n",
"end\n",
"x3t//sinc interpolated value of x(2.5)\n",
"//(d)raised cosine interpolation method\n",
"x4t=0;\n",
"for k=1:4\n",
"    p=(cos(0.5*%pi*(t-k+1))/(1-(t-k+1)^2));\n",
"    xt=x1(k)*sinc(%pi*(t-k+1))*p;\n",
"    x4t=x4t+xt;\n",
"end\n",
"x4t//raised cosine interpolated value of x(2.5)"
   ]
   }
,
{
		   "cell_type": "markdown",
		   "metadata": {},
		   "source": [
			"## Example 7.7: Zero_Interpolation_and_Spectrum_Replication.sce"
		   ]
		  },
  {
"cell_type": "code",
	   "execution_count": null,
	   "metadata": {
	    "collapsed": true
	   },
	   "outputs": [],
"source": [
"//Zero interpolation and spectrum replication\n",
"XF=[0 1 2 1];\n",
"X1F=[XF XF XF 0];\n",
"YF=[X1F X1F];\n",
"DF=0.5*[XF XF 0];\n",
"GF=0.5*[XF 0 XF 0 XF 0];\n",
"f=-0.2:0.1:1;\n",
"f1=-0.1:0.05:1.15;\n",
"f2=-0.4:0.2:1.2;\n",
"f3=-0.2:0.1:1.2;\n",
"length(f3),length(GF)\n",
"a=gca();\n",
"a.y_location='origin';\n",
"subplot(211);\n",
"plot2d(f,X1F);\n",
"ylabel('X1F');\n",
"subplot(212);\n",
"a.y_location='origin';\n",
"plot2d(f1,YF);\n",
"ylabel('YF');\n",
"xset('window',1);\n",
"b=gca();\n",
"b.y_location='origin';\n",
"subplot(211);\n",
"plot2d(f2,DF);\n",
"ylabel('DF');\n",
"subplot(212);\n",
"b.y_location='origin';\n",
"plot2d(f3,GF);\n",
"ylabel('GF');"
   ]
   }
,
{
		   "cell_type": "markdown",
		   "metadata": {},
		   "source": [
			"## Example 7.8: Up_Sampling_and_Filtering.sce"
		   ]
		  },
  {
"cell_type": "code",
	   "execution_count": null,
	   "metadata": {
	    "collapsed": true
	   },
	   "outputs": [],
"source": [
"clf();\n",
"X=[0 0.5 1 0.5];\n",
"XF=[X 0];\n",
"WF=[X X X 0];\n",
"f=-0.5:0.25:0.5;\n",
"f1=-0.75:0.125:0.75;\n",
"HF=[0 1 1 1 0];\n",
"f2=[-0.126,-0.125:0.125:0.125,0.126];\n",
"for i=1:5\n",
"    YF(i)=WF(i)*HF(i);\n",
"end\n",
"f3=[-0.126 -0.125 0 0.125 0.126];\n",
"a=gca();\n",
"a.y_location='origin';\n",
"subplot(211);\n",
"plot2d(f,XF);\n",
"xtitle('spectrum of XF');\n",
"a.y_location='origin';\n",
"subplot(212);\n",
"plot2d(f1,WF);\n",
"xtitle('spectrum of WF');\n",
"xset('window',1);\n",
"b=gca();\n",
"b.y_location='origin';\n",
"subplot(211);\n",
"plot2d(f2,HF);\n",
"xtitle('spectrum of HF');\n",
"b.y_location='origin';\n",
"subplot(212);\n",
"plot2d(f3,YF);\n",
"xtitle('spectrum of YF');"
   ]
   }
,
{
		   "cell_type": "markdown",
		   "metadata": {},
		   "source": [
			"## Example 7.9: Quantisation_Effects.sce"
		   ]
		  },
  {
"cell_type": "code",
	   "execution_count": null,
	   "metadata": {
	    "collapsed": true
	   },
	   "outputs": [],
"source": [
"//(a)Quantisation effects\n",
"sig=0.005;\n",
"D=4;\n",
"B=log2(D/(sig*sqrt(12)));//no.of samples\n",
"//value of B to ensure quantisation error to 5mv\n",
"//(b)Quantisation error and noise\n",
"xn=0:0.2:2.0;\n",
"xqn=[0 0 0.5 0.5 1 1 1 1.5 1.5 2 2];\n",
"en=xn-xqn;//quantization error\n",
"//Quantisation signal top noise ratio\n",
"x=0;e=0;\n",
"for i=1:length(xn)\n",
"    x=x+xn(i)^2;\n",
"    e=e+en(i)^2;\n",
"end\n",
"//method 1\n",
"SNRQ=10*log10(x/e)\n",
"//method 2\n",
"SNRQ=10*log10(x/length(xn))+10.8+20*log10(4)-20*log10(2)\n",
"SNRS=10*log10(1.33)+10*log10(12)+20*log10(4)-20*log10(2)\n",
"//from results we see that SNRS is statistical estimate"
   ]
   }
],
"metadata": {
		  "kernelspec": {
		   "display_name": "Scilab",
		   "language": "scilab",
		   "name": "scilab"
		  },
		  "language_info": {
		   "file_extension": ".sce",
		   "help_links": [
			{
			 "text": "MetaKernel Magics",
			 "url": "https://github.com/calysto/metakernel/blob/master/metakernel/magics/README.md"
			}
		   ],
		   "mimetype": "text/x-octave",
		   "name": "scilab",
		   "version": "0.7.1"
		  }
		 },
		 "nbformat": 4,
		 "nbformat_minor": 0
}
