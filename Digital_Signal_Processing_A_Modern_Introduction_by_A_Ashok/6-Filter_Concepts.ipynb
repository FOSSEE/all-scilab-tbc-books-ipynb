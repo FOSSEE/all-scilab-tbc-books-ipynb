{
"cells": [
 {
		   "cell_type": "markdown",
	   "metadata": {},
	   "source": [
       "# Chapter 6: Filter Concepts"
	   ]
	},
{
		   "cell_type": "markdown",
		   "metadata": {},
		   "source": [
			"## Example 6.1: The_Minimum_Phase_Concept.sce"
		   ]
		  },
  {
"cell_type": "code",
	   "execution_count": null,
	   "metadata": {
	    "collapsed": true
	   },
	   "outputs": [],
"source": [
"//The minimum phase concept\n",
"z=%z;\n",
"F=0:(0.5/400):0.5;\n",
"z=exp(%i*2*%pi*F);\n",
"for i=1:401\n",
"H1Z(i)=((z(i)-1/2)*(z(i)-1/4))/((z(i)-1/3)*(z(i)-1/5));\n",
"end\n",
"for i=1:401\n",
"H2Z(i)=(((-1/2)*z(i)+1)*(z(i)-1/4))/((z(i)-1/3)*(z(i)-1/5));\n",
"end\n",
"for i=1:401\n",
"H3Z(i)=(((-1/2)*z(i)+1)*((-1/4)*z(i)+1))/((z(i)-1/3)*(z(i)-1/5));\n",
"end\n",
"[phase_H1Z,m]=phasemag(H1Z);\n",
"[phase_H2Z,m]=phasemag(H2Z);\n",
"[phase_H3Z,m]=phasemag(H3Z);\n",
"a=gca();\n",
"a.x_location='origin';\n",
"xlabel('Digital Frequency F');\n",
"ylabel('phase[degrees]');\n",
"xtitle('phase of three filters');\n",
"plot2d(F,phase_H1Z,rect=[0,-200,0.5,200]);\n",
"plot2d(F,phase_H2Z,rect=[0,-200,0.5,200]);\n",
"plot2d(F,phase_H3Z,rect=[0,-200,0.5,200]);"
   ]
   }
,
{
		   "cell_type": "markdown",
		   "metadata": {},
		   "source": [
			"## Example 6.4: Linear_Phase_Filters.sce"
		   ]
		  },
  {
"cell_type": "code",
	   "execution_count": null,
	   "metadata": {
	    "collapsed": true
	   },
	   "outputs": [],
"source": [
"//linear phase filters\n",
"z=%z\n",
"H1Z=((z^3)+2*(z^2)+2*z+1)/(z^3);\n",
"//from pole zero diagram its not a linear phase filter\n",
"H2Z=(z^4+4.25*z^2+1)/(z^4);\n",
"xset('window',1);\n",
"plzr(H2Z);\n",
"//from pole zero diagram and LPF\n",
"// characteristics its a linear phase filter\n",
"H3Z=((z^4+2.5*z^3-2.5*z-1)/(z^4));\n",
"xset('window',2);\n",
"plzr(H3Z);\n",
"//from pole zero diagram and LPF\n",
"// characteristics its a linear phase filter"
   ]
   }
,
{
		   "cell_type": "markdown",
		   "metadata": {},
		   "source": [
			"## Example 6.6: Frequency_Response_and_Filter_characteristics.sce"
		   ]
		  },
  {
"cell_type": "code",
	   "execution_count": null,
	   "metadata": {
	    "collapsed": true
	   },
	   "outputs": [],
"source": [
"//Frequency Response and filter characteristics\n",
"z=%z;\n",
"F=0:(0.5/200):0.5;\n",
"z=exp(%i*2*%pi*F);\n",
"H1=(1/3)*(z+1+z^-1);\n",
"H2=(z/4)+(1/2)+(1/4)*(z^-1);\n",
"H1=abs(H1);\n",
"H2=abs(H2);\n",
"a=gca();\n",
"a.x_location='origin';\n",
"subplot(211);\n",
"plot2d(F,H1);\n",
"xlabel('Digital frequency F');\n",
"ylabel('impuse function H1(f)');\n",
"subplot(212);\n",
"plot2d(F,H2);\n",
"xlabel('Digital frequency F');\n",
"ylabel('impuse function H1(f)');"
   ]
   }
,
{
		   "cell_type": "markdown",
		   "metadata": {},
		   "source": [
			"## Example 6.7a: Filters_and_Pole_Zero_Plots.sce"
		   ]
		  },
  {
"cell_type": "code",
	   "execution_count": null,
	   "metadata": {
	    "collapsed": true
	   },
	   "outputs": [],
"source": [
"z=%z;\n",
"s=%s;\n",
"F=0:(0.5/400):0.5;\n",
"s=exp(%i*2*%pi*F);\n",
"H1Z=(z^4+1)/(z^4+1.6982*z^2+0.7210);\n",
"for i=1:401\n",
"    H1(i)=(s(i)^4+1)/(s(i)^4+1.6982*s(i)^2+0.7210);\n",
"end\n",
"H1=abs(H1);\n",
"plzr(H1Z);\n",
"a=gca();\n",
"xset('window',1);\n",
"a.x_location='origin';\n",
"a.y_location='origin';\n",
"plot2d(F,H1)\n",
"xlabel('Digital frequency F');\n",
"ylabel('magnitude');\n",
"xtitle('Magnitude spectrum of bandpass filter');"
   ]
   }
,
{
		   "cell_type": "markdown",
		   "metadata": {},
		   "source": [
			"## Example 6.7b: Filters_and_Pole_Zero_Plots.sce"
		   ]
		  },
  {
"cell_type": "code",
	   "execution_count": null,
	   "metadata": {
	    "collapsed": true
	   },
	   "outputs": [],
"source": [
"z=%z;\n",
"s=%s;\n",
"F=0:(0.5/400):0.5;\n",
"s=exp(%i*2*%pi*F);\n",
"H1Z=(z^2+1-0.618*z)/(z^2-0.5857*z+0.898);\n",
"for i=1:401\n",
"    H1(i)=(s(i)^2+1-0.618*s(i))/(s(i)^2-0.5857*s(i)+0.898);\n",
"end\n",
"H1=abs(H1);\n",
"plzr(H1Z);\n",
"a=gca();\n",
"xset('window',1);\n",
"a.x_location='origin';\n",
"a.y_location='origin';\n",
"plot2d(F,H1)\n",
"xlabel('Digital frequency F');\n",
"ylabel('magnitude');\n",
"xtitle('Magnitude spectrum of bandpass filter');"
   ]
   }
,
{
		   "cell_type": "markdown",
		   "metadata": {},
		   "source": [
			"## Example 6.8: Digital_resonator_Design.sce"
		   ]
		  },
  {
"cell_type": "code",
	   "execution_count": null,
	   "metadata": {
	    "collapsed": true
	   },
	   "outputs": [],
"source": [
"//Digital Resonator design with peak gain 50 HZ \n",
"//and 3 db bandwidth of 6HZ at sampling of 300 HZ\n",
"clf();\n",
"s=%s;\n",
"F=0:150;\n",
"f=F/300;\n",
"s=exp(%i*2*%pi*f);\n",
"for i=1:151\n",
"    H1(i)=(0.1054*(s(i)^2))/(s(i)^2-0.9372*s(i)+0.8783);\n",
"end\n",
"H1=abs(H1);\n",
"H2=H1(40:60);\n",
"F1=40:60;\n",
"f1=F1/300;\n",
"a=gca();\n",
"a.x_location='origin';\n",
"a.y_location='origin';\n",
"plot2d(F,H1)\n",
"xlabel('Analog frequency F');\n",
"ylabel('magnitude');\n",
"xtitle('Magnitude spectrum of digital resonator with peak 50HZ');\n",
"xset('window',1);\n",
"a.x_location='origin';\n",
"a.y_location='origin';\n",
"plot2d(F1,H2)\n",
"xlabel('Analog frequency F');\n",
"ylabel('magnitude');\n",
"xtitle('passband detail');"
   ]
   }
,
{
		   "cell_type": "markdown",
		   "metadata": {},
		   "source": [
			"## Example 6.9: Periodic_Notch_Filter_Desig.sce"
		   ]
		  },
  {
"cell_type": "code",
	   "execution_count": null,
	   "metadata": {
	    "collapsed": true
	   },
	   "outputs": [],
"source": [
"//Periodic notch filter design at 60 HZ and sampling frequency 300HZ\n",
"z=%z;\n",
"f=0:(0.5/400):0.5;\n",
"z1=exp(%i*2*%pi*f);\n",
"for i=1:401\n",
"    H1Z(i)=(z1(i)^5-1)/((z1(i)^5)-(0.9^5));\n",
"    H2Z(i)=(z1(i)^5-1)/((z1(i)^5)-(0.99^5));\n",
"end\n",
"H1Z=abs(H1Z);\n",
"H2Z=abs(H2Z);\n",
"N1z=(1-z^-5)/(1-z^-1);\n",
"H3z=(N1z)/(horner(N1z,z/0.9));\n",
"H4z=(N1z)/(horner(N1z,z/0.99));\n",
"H3z=horner(H3z,z1);\n",
"H4z=horner(H4z,z1);\n",
"a=gca();\n",
"a.x_location='origin';\n",
"a.y_location='origin';\n",
"plot2d(f,H1Z);\n",
"plot2d(f,H2Z);\n",
"xlabel('Digital frequency f');\n",
"ylabel('magnitude');\n",
"xtitle('Periodic Notch Filter N=5,R=0.9,0.99');\n",
"xset('window',1);\n",
"plot2d(f,H3z);\n",
"plot2d(f,H4z);\n",
"xlabel('Digital frequency f');\n",
"ylabel('magnitude');\n",
"xtitle('Notch Filter that also passes DC N=5,R=0.9,0.99');"
   ]
   }
],
"metadata": {
		  "kernelspec": {
		   "display_name": "Scilab",
		   "language": "scilab",
		   "name": "scilab"
		  },
		  "language_info": {
		   "file_extension": ".sce",
		   "help_links": [
			{
			 "text": "MetaKernel Magics",
			 "url": "https://github.com/calysto/metakernel/blob/master/metakernel/magics/README.md"
			}
		   ],
		   "mimetype": "text/x-octave",
		   "name": "scilab",
		   "version": "0.7.1"
		  }
		 },
		 "nbformat": 4,
		 "nbformat_minor": 0
}
