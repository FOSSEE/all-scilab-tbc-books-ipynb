{
"cells": [
 {
		   "cell_type": "markdown",
	   "metadata": {},
	   "source": [
       "# Chapter 3: Response of Digital Filters"
	   ]
	},
{
		   "cell_type": "markdown",
		   "metadata": {},
		   "source": [
			"## Example 3.19a: Analytical_Evaluation_of_Discrete_Convolution.sce"
		   ]
		  },
  {
"cell_type": "code",
	   "execution_count": null,
	   "metadata": {
	    "collapsed": true
	   },
	   "outputs": [],
"source": [
"//Analytical evaluation of Discrete Convolution\n",
"clear;close;clc;\n",
"max_limit=10;\n",
"h=ones(1,max_limit);\n",
"n2=0:length(h)-1;\n",
"x=h;\n",
"n1=-length(x)+1:0;\n",
"y=convol(x,h);\n",
"n=-length(x)+1:length(h)-1;\n",
"a=gca();\n",
"subplot(211);\n",
"plot2d3('gnn',n2,h)\n",
"xtitle('impulse Response','n','h[n]');\n",
"a.thickness=2;\n",
"a.y_location='origin';\n",
"subplot(212);\n",
"plot2d3('gnn',n1,x)\n",
"a.y_location='origin';\n",
"xtitle('input response','n','x[n]');\n",
"xset('window',1);\n",
"a=gca();\n",
"plot2d3('gnn',n,y)\n",
"xtitle('output response','n','y[n]');\n",
""
   ]
   }
,
{
		   "cell_type": "markdown",
		   "metadata": {},
		   "source": [
			"## Example 3.19b: Analytical_Evaluation_of_Discrete_Convolution.sce"
		   ]
		  },
  {
"cell_type": "code",
	   "execution_count": null,
	   "metadata": {
	    "collapsed": true
	   },
	   "outputs": [],
"source": [
"clear;close;clc;\n",
"max_limit=10;\n",
"for n=1:max_limit\n",
"    h(n)=(0.4)^n;\n",
"end\n",
"n2=0:length(h)-1;\n",
"for n=1:max_limit\n",
"    x(n)=(0.8)^n;\n",
"end\n",
"n1=-length(x)+1:0;\n",
"y=convol(x,h)\n",
"n=-length(x)+1:length(h)-1;\n",
"a=gca();\n",
"subplot(211);\n",
"plot2d3('gnn',n2,h)\n",
"xtitle('impulse Response','n','h[n]');\n",
"a.thickness=2;\n",
"a.y_location='origin';\n",
"subplot(212);\n",
"plot2d3('gnn',n1,x)\n",
"a.y_location='origin';\n",
"xtitle('input response','n','x[n]');\n",
"xset('window',1);\n",
"a=gca();\n",
"plot2d3('gnn',n,y)\n",
"xtitle('output response','n','y[n]');"
   ]
   }
,
{
		   "cell_type": "markdown",
		   "metadata": {},
		   "source": [
			"## Example 3.19c: Analytical_Evaluation_of_Discrete_Convolution.sce"
		   ]
		  },
  {
"cell_type": "code",
	   "execution_count": null,
	   "metadata": {
	    "collapsed": true
	   },
	   "outputs": [],
"source": [
"//Analytical Evaluation of Discrete convolution\n",
"clear;close;clc;\n",
"max_limit=5;\n",
"h(1)=0;\n",
"for n=2:max_limit\n",
"    h(n)=0.8^n;\n",
"end\n",
"n2=0:length(h)-1;\n",
"x=[0 ones(1:max_limit)]\n",
"n1=-length(x)+1:0;\n",
"y=convol(x,h);\n",
"n=-length(x)+1:length(h)-1;\n",
"a=gca();\n",
"subplot(211);\n",
"plot2d3('gnn',n2,h)\n",
"xtitle('impulse Response','n','h[n]');\n",
"a.thickness=2;\n",
"a.y_location='origin';\n",
"a=gca();\n",
"subplot(212);\n",
"plot2d3('gnn',n1,x)\n",
"a.y_location='origin';\n",
"xtitle('input response','n','x[n]');\n",
"xset('window',1);\n",
"a=gca();\n",
"plot2d3('gnn',n,y)\n",
"a.y_location='origin';\n",
"a.x_location='origin';\n",
"xtitle('output response','n','y[n]');"
   ]
   }
,
{
		   "cell_type": "markdown",
		   "metadata": {},
		   "source": [
			"## Example 3.20a: Properties_of_Convolution.sce"
		   ]
		  },
  {
"cell_type": "code",
	   "execution_count": null,
	   "metadata": {
	    "collapsed": true
	   },
	   "outputs": [],
"source": [
"//properties of convolution\n",
"x=[1 2 3 4 5];\n",
"h=[1 zeros(1:5)];\n",
"a=convol(x,h);\n",
"b=convol(h,x);\n",
"a==b"
   ]
   }
,
{
		   "cell_type": "markdown",
		   "metadata": {},
		   "source": [
			"## Example 3.20b: Properties_of_Convolution.sce"
		   ]
		  },
  {
"cell_type": "code",
	   "execution_count": null,
	   "metadata": {
	    "collapsed": true
	   },
	   "outputs": [],
"source": [
"//Convolution with Step Function\n",
"x=[1 2 3 4 5];\n",
"h=[ones(1:5)];\n",
"a=convol(h,x);\n",
"b(1)=a(1);\n",
"for i=2:length(x)\n",
"    b(i)=b(i-1)+x(i);\n",
"end\n",
"disp(a(1:length(x)),b,'Step Response is running sum of impulses can be seen below');"
   ]
   }
,
{
		   "cell_type": "markdown",
		   "metadata": {},
		   "source": [
			"## Example 3.21a: Convolution_of_finite_length_Signals.sce"
		   ]
		  },
  {
"cell_type": "code",
	   "execution_count": null,
	   "metadata": {
	    "collapsed": true
	   },
	   "outputs": [],
"source": [
"//convolution of finite length signals\n",
"clear;close;clc;\n",
"max_limit=10;\n",
"h=[1 2 2 3];\n",
"n2=0:length(h)-1;\n",
"x=[2 -1 3];\n",
"n1=0:length(x)-1;\n",
"y=convol(x,h);\n",
"n=0:length(h)+length(x)-2;\n",
"a=gca();\n",
"subplot(211);\n",
"plot2d3('gnn',n2,h)\n",
"xtitle('impulse Response','n','h[n]');\n",
"a.thickness=2;\n",
"a.y_location='origin';\n",
"a=gca();\n",
"subplot(212);\n",
"plot2d3('gnn',n1,x)\n",
"a.y_location='origin';\n",
"a.x_location='origin';\n",
"xtitle('input response','n','x[n]');\n",
"xset('window',2);\n",
"a=gca();\n",
"plot2d3('gnn',n,y)\n",
"a.y_location='origin';\n",
"xtitle('output response','n','y[n]');\n",
""
   ]
   }
,
{
		   "cell_type": "markdown",
		   "metadata": {},
		   "source": [
			"## Example 3.21b: Convolution_of_finite_length_Signals.sce"
		   ]
		  },
  {
"cell_type": "code",
	   "execution_count": null,
	   "metadata": {
	    "collapsed": true
	   },
	   "outputs": [],
"source": [
"clear;close;clc;\n",
"max_limit=10;\n",
"h=[2 5 0 4];\n",
"n2=-2:length(h)-3;\n",
"x=[4 1 3];\n",
"n1=-1:length(x)-2;\n",
"y=convol(x,h);\n",
"n=-3:length(x)+length(h)-5;\n",
"a=gca();\n",
"subplot(211);\n",
"plot2d3('gnn',n2,h)\n",
"xtitle('impulse Response','n','h[n]');\n",
"a.thickness=2;\n",
"a.y_location='origin';\n",
"a=gca();\n",
"subplot(212);\n",
"plot2d3('gnn',n1,x)\n",
"a.y_location='origin';\n",
"xtitle('input response','n','x[n]');\n",
"xset('window',1);\n",
"a=gca();\n",
"plot2d3('gnn',n,y)\n",
"a.y_location='origin';\n",
"a.x_location='origin';\n",
"xtitle('output response','n','y[n]');"
   ]
   }
,
{
		   "cell_type": "markdown",
		   "metadata": {},
		   "source": [
			"## Example 3.21c: Convolution_of_finite_length_Signals.sce"
		   ]
		  },
  {
"cell_type": "code",
	   "execution_count": null,
	   "metadata": {
	    "collapsed": true
	   },
	   "outputs": [],
"source": [
"clear;close;clc;\n",
"max_limit=10;\n",
"h=[1/2 1/2 1/2];\n",
"n2=0:length(h)-1;\n",
"x=[2 4 6 8 10];\n",
"n1=0:length(x)-1;\n",
"y=convol(x,h);\n",
"n=0:length(x)+length(h)-2;\n",
"a=gca();\n",
"subplot(211);\n",
"plot2d3('gnn',n2,h);\n",
"xtitle('impulse Response','n','h[n]');\n",
"a.thickness=2;\n",
"a.y_location='origin';\n",
"a=gca();\n",
"subplot(212);\n",
"plot2d3('gnn',n1,x);\n",
"a.y_location='origin';\n",
"xtitle('input response','n','x[n]');\n",
"xset('window',1);\n",
"a=gca();\n",
"plot2d3('gnn',n,y)\n",
"a.y_location='origin';\n",
"a.x_location='origin';\n",
"xtitle('output response','n','y[n]');"
   ]
   }
,
{
		   "cell_type": "markdown",
		   "metadata": {},
		   "source": [
			"## Example 3.22: Convolution_of_finite_length_Signals.sce"
		   ]
		  },
  {
"cell_type": "code",
	   "execution_count": null,
	   "metadata": {
	    "collapsed": true
	   },
	   "outputs": [],
"source": [
"max_limit=10;\n",
"h=[2 5 0 4];\n",
"n2=0:length(h)-1;\n",
"x=[4 1 3];\n",
"n1=0:length(x)-1;\n",
"y=convol(x,h);\n",
"n=0:length(x)+length(h)-2;\n",
"a=gca();\n",
"subplot(211);\n",
"plot2d3('gnn',n2,h)\n",
"xtitle('impulse Response','n','h[n]');\n",
"a.thickness=2;\n",
"a.y_location='origin';\n",
"a=gca();\n",
"subplot(212);\n",
"plot2d3('gnn',n1,x)\n",
"a.y_location='origin';\n",
"a.x_location='origin';\n",
"xtitle('input response','n','x[n]');\n",
"xset('window',1);\n",
"a=gca();\n",
"plot2d3('gnn',n,y)\n",
"a.y_location='origin';\n",
"a.x_location='origin';\n",
"xtitle('output response','n','y[n]');"
   ]
   }
,
{
		   "cell_type": "markdown",
		   "metadata": {},
		   "source": [
			"## Example 3.23: effect_of_Zero_Insertion.sce"
		   ]
		  },
  {
"cell_type": "code",
	   "execution_count": null,
	   "metadata": {
	    "collapsed": true
	   },
	   "outputs": [],
"source": [
"//convolution by polynomial method\n",
"x=[4 1 3];\n",
"h=[2 5 0 4];\n",
"z=%z;\n",
"n=length(x)-1:-1:0;\n",
"X=x*z^n';\n",
"n1=length(h)-1:-1:0;\n",
"H=h*z^n1';\n",
"y=X*H\n",
"//effect of zero insertion on convolution\n",
"h=[2 0 5 0 0 0 4];\n",
"x=[4 0 1 0 3];\n",
"y=convol(x,h)\n",
"//effect of zero padding on convolution\n",
"h=[2 5 0 4 0 0];\n",
"x=[4 1 3 0];\n",
"y=convol(x,h)"
   ]
   }
,
{
		   "cell_type": "markdown",
		   "metadata": {},
		   "source": [
			"## Example 3.25: Stability_and_Causality.sce"
		   ]
		  },
  {
"cell_type": "code",
	   "execution_count": null,
	   "metadata": {
	    "collapsed": true
	   },
	   "outputs": [],
"source": [
"//concepts based on stability and Causality\n",
"function[]=stability(X)\n",
"if (abs(roots(X))<1)\n",
"    disp('given system is stable')\n",
"else \n",
"    disp('given system is not stable')\n",
"end\n",
"endfunction\n",
"x=[1 -1/6 -1/6];\n",
"z=%z;\n",
"n=length(x)-1:-1:0;\n",
"//characteristic eqn is\n",
"X=x*(z)^n'\n",
"stability(X)\n",
"x=[1 -1];\n",
"n=length(x)-1:-1:0;\n",
"//characteristic eqn is\n",
"X=x*(z)^n'\n",
"stability(X)\n",
"x=[1 -2 1];\n",
"n=length(x)-1:-1:0;\n",
"//characteristic eqn is\n",
"X=x*(z)^n'\n",
"stability(X)"
   ]
   }
,
{
		   "cell_type": "markdown",
		   "metadata": {},
		   "source": [
			"## Example 3.26: Response_to_Periodic_Inputs.sci"
		   ]
		  },
  {
"cell_type": "code",
	   "execution_count": null,
	   "metadata": {
	    "collapsed": true
	   },
	   "outputs": [],
"source": [
"//Response of periodic inputs\n",
"function[p]=period(x)\n",
"for i=2:length(x)\n",
"    v=i\n",
"    if (abs(x(i)-x(1))<0.00001)    \n",
"        k=2\n",
"        for j=i+1:i+i\n",
"            if (abs(x(j)-x(k))<0.00001)   \n",
"                v=v+1\n",
"            end\n",
"        k=k+1;      \n",
"        end\n",
"     end \n",
"    if (v==(2*i)) then\n",
"        break\n",
"    end\n",
"end\n",
"p=i-1\n",
"endfunction\n",
"x=[1 2 -3 1 2 -3 1 2 -3];\n",
"h=[1 1];\n",
"y=convol(x,h)\n",
"y(1)=y(4);\n",
"period(x)\n",
"period(y)\n",
"h=[1 1 1];\n",
"y=convol(x,h)"
   ]
   }
,
{
		   "cell_type": "markdown",
		   "metadata": {},
		   "source": [
			"## Example 3.27: Periodic_Extension.sce"
		   ]
		  },
  {
"cell_type": "code",
	   "execution_count": null,
	   "metadata": {
	    "collapsed": true
	   },
	   "outputs": [],
"source": [
"//to find periodic extension\n",
"x=[1 5 2;0 4 3;6 7 0];\n",
"y=[0 0 0];\n",
"for i=1:3\n",
"    for j=1:3\n",
"        y(i)=y(i)+x(j,i);\n",
"    end\n",
"end\n",
"y\n",
""
   ]
   }
,
{
		   "cell_type": "markdown",
		   "metadata": {},
		   "source": [
			"## Example 3.28: System_Response_to_Periodic_Inputs.sce"
		   ]
		  },
  {
"cell_type": "code",
	   "execution_count": null,
	   "metadata": {
	    "collapsed": true
	   },
	   "outputs": [],
"source": [
"//method of wrapping to fing convolution of periodic signal with one period\n",
"x=[1 2 -3];\n",
"h=[1 1];\n",
"y1=convol(h,x)\n",
"y1=[y1,zeros(5:9)]\n",
"y2=[y1(1:3);y1(4:6);y1(7:9)];\n",
"y=[0 0 0];\n",
"for i=1:3\n",
"    for j=1:3\n",
"        y(i)=y(i)+y2(j,i);\n",
"    end\n",
"end\n",
"y\n",
"x=[2 1 3];\n",
"h=[2 1 1 3 1];\n",
"y1=convol(h,x)\n",
"y1=[y1,zeros(8:9)]\n",
"y2=[y1(1:3);y1(4:6);y1(7:9)];\n",
"y=[0 0 0];\n",
"for i=1:3\n",
"    for j=1:3\n",
"        y(i)=y(i)+y2(j,i);\n",
"    end\n",
"end\n",
"y"
   ]
   }
,
{
		   "cell_type": "markdown",
		   "metadata": {},
		   "source": [
			"## Example 3.29: Periodic_Convolution.sce"
		   ]
		  },
  {
"cell_type": "code",
	   "execution_count": null,
	   "metadata": {
	    "collapsed": true
	   },
	   "outputs": [],
"source": [
"//periodic or circular convolution\n",
"x=[1 0 1 1];\n",
"h=[1 2 3 1];\n",
"y1=convol(h,x)\n",
"y1=[y1,zeros(8:12)];\n",
"y2=[y1(1:4);y1(5:8);y1(9:12)];\n",
"y=[0 0 0 0];\n",
"for i=1:4\n",
"    for j=1:3\n",
"        y(i)=y(i)+y2(j,i);\n",
"    end\n",
"end\n",
"y"
   ]
   }
,
{
		   "cell_type": "markdown",
		   "metadata": {},
		   "source": [
			"## Example 3.30: Periodic_Convolution_by_Circulant_Matrix.sce"
		   ]
		  },
  {
"cell_type": "code",
	   "execution_count": null,
	   "metadata": {
	    "collapsed": true
	   },
	   "outputs": [],
"source": [
"//periodic convolution by circulant matrix\n",
"x=[1 0 2];\n",
"h=[1;2;3];\n",
"//generation of circulant matrix\n",
"c(1,:)=x;\n",
"for i=2:length(x)\n",
"    c(i,:)=[x(length(x):length(x)-i),x(1:length(x)-i)]\n",
"end\n",
"c'"
   ]
   }
,
{
		   "cell_type": "markdown",
		   "metadata": {},
		   "source": [
			"## Example 3.32: Deconvolution_By_polynomial_Division.sce"
		   ]
		  },
  {
"cell_type": "code",
	   "execution_count": null,
	   "metadata": {
	    "collapsed": true
	   },
	   "outputs": [],
"source": [
"//deconvolution by polynomial division\n",
"x=[2 5 0 4];\n",
"y=[8 22 11 31 4 12];\n",
"z=%z\n",
"n=length(x)-1:-1:0;\n",
"X=x*(z)^n'\n",
"n1=length(y)-1:-1:0;\n",
"Y=y*(z)^n1'\n",
"h=Y/X"
   ]
   }
,
{
		   "cell_type": "markdown",
		   "metadata": {},
		   "source": [
			"## Example 3.33: Autocorrelation_and_Cross_Correlation.sce"
		   ]
		  },
  {
"cell_type": "code",
	   "execution_count": null,
	   "metadata": {
	    "collapsed": true
	   },
	   "outputs": [],
"source": [
"//discrete auto correlation and cross correlation\n",
"x=[2 5 0 4];\n",
"h=[3 1 4];\n",
"x1=x(length(x):-1:1)\n",
"h1=h(length(h):-1:1)\n",
"rxhn=convol(x,h1)\n",
"rhxn=convol(x1,h)\n",
"rhxn1=rhxn(length(rhxn):-1:1)\n",
"//we observe that rhxn1=rxhn\n",
"x=[3 1 -4];\n",
"x1=x(length(x):-1:1)\n",
"rxxn=convol(x,x1)\n",
"//we observe that rxxn is even symmetric about origin"
   ]
   }
,
{
		   "cell_type": "markdown",
		   "metadata": {},
		   "source": [
			"## Example 3.35: Periodic_Autocorrelation_and_Cross_Correlation.sce"
		   ]
		  },
  {
"cell_type": "code",
	   "execution_count": null,
	   "metadata": {
	    "collapsed": true
	   },
	   "outputs": [],
"source": [
"//discrete periodic auto correlation and cross correlation\n",
"x=[2 5 0 4];\n",
"h=[3 1 -1 2];\n",
"x1=x(length(x):-1:1);\n",
"h1=h(length(h):-1:1);\n",
"rxhn=convol(x,h1)\n",
"rhxn=convol(x1,h)\n",
"rxxn=convol(x,x1)\n",
"rhhn=convol(h,h1)\n",
"y1=[rxhn,zeros(8:12)];\n",
"y2=[y1(1:4);y1(5:8);y1(9:12)];\n",
"y3=[rhxn,zeros(8:12)];\n",
"y4=[y3(1:4);y3(5:8);y3(9:12)];\n",
"y5=[rxxn,zeros(8:12)];\n",
"y6=[y5(1:4);y5(5:8);y5(9:12)];\n",
"y7=[rhhn,zeros(8:12)];\n",
"y8=[y7(1:4);y7(5:8);y7(9:12)];\n",
"rxhp=[0 0 0 0];\n",
"rhxp=[0 0 0 0];\n",
"rxxn=[0 0 0 0];\n",
"rhhp=[0 0 0 0];\n",
"for i=1:4\n",
"     for j=1:3\n",
"        rhxp(i)=rhxp(i)+y4(j,i);\n",
"        rxhp(i)=rxhp(i)+y2(j,i);\n",
"        rxxn(i)=rxxn(i)+y6(j,i);\n",
"        rhhp(i)=rhhp(i)+y8(j,i);\n",
"    end\n",
"end\n",
"rxhp\n",
"rhxp\n",
"rxxn\n",
"rhhp"
   ]
   }
,
{
		   "cell_type": "markdown",
		   "metadata": {},
		   "source": [
			"## Example 3.5: FIR_filter_response.sce"
		   ]
		  },
  {
"cell_type": "code",
	   "execution_count": null,
	   "metadata": {
	    "collapsed": true
	   },
	   "outputs": [],
"source": [
"//Response of non-recursive Filters\n",
"for i=1:4\n",
"    x(i)=0.5^i;\n",
"end\n",
"x1=[0;1;x(1:2)]\n",
"for i=1:4\n",
"     y(i)=2*x(i)-3*x1(i);\n",
"end     \n",
"y(1),y(2)"
   ]
   }
],
"metadata": {
		  "kernelspec": {
		   "display_name": "Scilab",
		   "language": "scilab",
		   "name": "scilab"
		  },
		  "language_info": {
		   "file_extension": ".sce",
		   "help_links": [
			{
			 "text": "MetaKernel Magics",
			 "url": "https://github.com/calysto/metakernel/blob/master/metakernel/magics/README.md"
			}
		   ],
		   "mimetype": "text/x-octave",
		   "name": "scilab",
		   "version": "0.7.1"
		  }
		 },
		 "nbformat": 4,
		 "nbformat_minor": 0
}
