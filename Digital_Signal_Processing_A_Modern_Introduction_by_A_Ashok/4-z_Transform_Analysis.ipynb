{
"cells": [
 {
		   "cell_type": "markdown",
	   "metadata": {},
	   "source": [
       "# Chapter 4: z Transform Analysis"
	   ]
	},
{
		   "cell_type": "markdown",
		   "metadata": {},
		   "source": [
			"## Example 4.10: Inverse_Transform_of_sequences.sce"
		   ]
		  },
  {
"cell_type": "code",
	   "execution_count": null,
	   "metadata": {
	    "collapsed": true
	   },
	   "outputs": [],
"source": [
"//inverse transform of sequences\n",
"//(a)X(z)=3z^-1+5z^-3+2z^-4\n",
"z=%z;\n",
"X1=[3*z^-1;0;5*z^-3;2*z^-4];\n",
"n1=1:4;\n",
"ZI=z^n1';\n",
"x1=numer(X1.*ZI);\n",
"disp(x1,'x[n]=');\n",
"//(b)X(z)=2z^2-5z+5z^-1-2z^-2\n",
"X2=[2*z^2;-5*z;0;5*z^-1;-2*z^-2];\n",
"n2=-2:2;\n",
"ZI=z^n2';\n",
"x2=numer(X2.*ZI);\n",
"disp(x2,'x[n]=');"
   ]
   }
,
{
		   "cell_type": "markdown",
		   "metadata": {},
		   "source": [
			"## Example 4.11: Inverse_Transform_by_Long_Division.sce"
		   ]
		  },
  {
"cell_type": "code",
	   "execution_count": null,
	   "metadata": {
	    "collapsed": true
	   },
	   "outputs": [],
"source": [
"//inverse transform by long division\n",
"z=%z;\n",
"x=ldiv(z-4,1-z+z^2,5)"
   ]
   }
,
{
		   "cell_type": "markdown",
		   "metadata": {},
		   "source": [
			"## Example 4.12: Inverse_transform_of_Right_sided_sequences.sce"
		   ]
		  },
  {
"cell_type": "code",
	   "execution_count": null,
	   "metadata": {
	    "collapsed": true
	   },
	   "outputs": [],
"source": [
"//inverse z transforms from standard transforms\n",
"z=%z;\n",
"xz=z/((z-0.5)*(z-0.25));\n",
"yz=xz/z;\n",
"pfss(yz)\n",
"//hence x[n]=-4(0.25)^n*un+4(0.5)^n*un;\n",
"xz=1/((z-0.5)*(z-0.25));\n",
"yz=xz/z;\n",
"pfss(yz)\n",
"//hence x[n]=-4(0.25)^n-1*u[n-1]+4(0.5)^n-1*u[n-1];\n",
""
   ]
   }
,
{
		   "cell_type": "markdown",
		   "metadata": {},
		   "source": [
			"## Example 4.1b: z_transform_of_finite_length_sequences.sci"
		   ]
		  },
  {
"cell_type": "code",
	   "execution_count": null,
	   "metadata": {
	    "collapsed": true
	   },
	   "outputs": [],
"source": [
"function[za]=ztransfer(sequence,n)\n",
"    z=poly(0,'z','r')\n",
"    za=sequence*(1/z)^n'\n",
"endfunction\n",
"x1=[2 1 -5 4];\n",
"n=-1:length(x1)-2;\n",
"ztransfer(x1,n)    "
   ]
   }
,
{
		   "cell_type": "markdown",
		   "metadata": {},
		   "source": [
			"## Example 4.20: z_Transform_of_Switched_periodic_Signals.sce"
		   ]
		  },
  {
"cell_type": "code",
	   "execution_count": null,
	   "metadata": {
	    "collapsed": true
	   },
	   "outputs": [],
"source": [
"//z transform of switched periodic signals\n",
"z=%z;\n",
"//sol. for 4.20a\n",
"x1=[0 1 2];\n",
"n=0:2;\n",
"N=3;\n",
"x1z=x1*(1/z)^n'\n",
"xz=x1z/(1-z^-N)\n",
"//sol.for 4.20b\n",
"x1=[0 1 0 -1];\n",
"n=0:3;\n",
"N=4;\n",
"x1z=x1*(1/z)^n'\n",
"xz=x1z/(1-z^-N)\n",
"//sol.for 4.20c\n",
"xz=(2+z^-1)/(1-z^-3);\n",
"x1z=numer(xz)\n",
"//thus first period of xn is [2 1 0]\n",
"//sol.for 4.20d\n",
"xz=(z^-1-z^-4)/(1-z^-6);\n",
"x1z=numer(xz)\n",
"//thus first period of xn is [0 1 0 0 -1 0]"
   ]
   }
,
{
		   "cell_type": "markdown",
		   "metadata": {},
		   "source": [
			"## Example 4.4a: Pole_Zero_Plots.sce"
		   ]
		  },
  {
"cell_type": "code",
	   "execution_count": null,
	   "metadata": {
	    "collapsed": true
	   },
	   "outputs": [],
"source": [
"//Pole-Zero plots\n",
"z=%z;\n",
"az=2*z*(z+1);\n",
"bz=(z-1/3)*((z^2)+1/4)*((z^2)+4*z+5);\n",
"poles=roots(bz)\n",
"zeroes=roots(az)\n",
"h=az/bz\n",
"plzr(h)"
   ]
   }
,
{
		   "cell_type": "markdown",
		   "metadata": {},
		   "source": [
			"## Example 4.4b: Pole_Zero_plots.sce"
		   ]
		  },
  {
"cell_type": "code",
	   "execution_count": null,
	   "metadata": {
	    "collapsed": true
	   },
	   "outputs": [],
"source": [
"//Pole-Zero plots\n",
"z=%z;\n",
"az=z^4+4.25*z^2+1;\n",
"bz=z^4;\n",
"poles=roots(bz)\n",
"zeroes=roots(az)\n",
"h=az/bz\n",
"plzr(h)"
   ]
   }
,
{
		   "cell_type": "markdown",
		   "metadata": {},
		   "source": [
			"## Example 4.8: Stability_of_Recursive_Filters.sce"
		   ]
		  },
  {
"cell_type": "code",
	   "execution_count": null,
	   "metadata": {
	    "collapsed": true
	   },
	   "outputs": [],
"source": [
"//stability of recursive filter\n",
"//for roc:/z/>/a/ \n",
"a=input('enter the value of alpha')\n",
"z=%z;\n",
"H=z/(z-a);\n",
"if (abs(a)<1)\n",
"    disp('system is stable')\n",
"else\n",
"    disp('system is not stable')\n",
" end\n",
" //for roc:/z/</a/\n",
" if (abs(a)>1)\n",
"    disp('system is stable')\n",
"else\n",
"    disp('system is not stable')\n",
" end\n",
"        "
   ]
   }
,
{
		   "cell_type": "markdown",
		   "metadata": {},
		   "source": [
			"## Example 4.9: Inverse_Systems.sce"
		   ]
		  },
  {
"cell_type": "code",
	   "execution_count": null,
	   "metadata": {
	    "collapsed": true
	   },
	   "outputs": [],
"source": [
"//inverse systems\n",
"z=%z;\n",
"H=(1+2*(z^(-1)))/(1+3*(z^(-1)));\n",
"//inverse of H is\n",
"H1=1/H\n",
"H=1+2*(z^(-1))+3*(z^(-2));\n",
"H1=1/H"
   ]
   }
],
"metadata": {
		  "kernelspec": {
		   "display_name": "Scilab",
		   "language": "scilab",
		   "name": "scilab"
		  },
		  "language_info": {
		   "file_extension": ".sce",
		   "help_links": [
			{
			 "text": "MetaKernel Magics",
			 "url": "https://github.com/calysto/metakernel/blob/master/metakernel/magics/README.md"
			}
		   ],
		   "mimetype": "text/x-octave",
		   "name": "scilab",
		   "version": "0.7.1"
		  }
		 },
		 "nbformat": 4,
		 "nbformat_minor": 0
}
