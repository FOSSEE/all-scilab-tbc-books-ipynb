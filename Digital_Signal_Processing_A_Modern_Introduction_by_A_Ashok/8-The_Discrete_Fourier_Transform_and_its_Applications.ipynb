{
"cells": [
 {
		   "cell_type": "markdown",
	   "metadata": {},
	   "source": [
       "# Chapter 8: The Discrete Fourier Transform and its Applications"
	   ]
	},
{
		   "cell_type": "markdown",
		   "metadata": {},
		   "source": [
			"## Example 8.10: DFS_of_sampled_Periodic_Signals.sce"
		   ]
		  },
  {
"cell_type": "code",
	   "execution_count": null,
	   "metadata": {
	    "collapsed": true
	   },
	   "outputs": [],
"source": [
"//DFS of sampled periodic signals\n",
"xn=[0 ones(2:16) 0 -ones(18:32)];\n",
"XDFS=0.032*dft(xn,-1);\n",
"for i=1:length(XDFS)\n",
"    if (abs(XDFS(i))<0.000001) then\n",
"        XDFS(i)=0;\n",
"    end\n",
"end\n",
"disp(XDFS,'The DFS of x[n] is');"
   ]
   }
,
{
		   "cell_type": "markdown",
		   "metadata": {},
		   "source": [
			"## Example 8.11: The_effects_of_leakage.sce"
		   ]
		  },
  {
"cell_type": "code",
	   "execution_count": null,
	   "metadata": {
	    "collapsed": true
	   },
	   "outputs": [],
"source": [
"//Effects of leakage\n",
"n1=0:0.005:0.1;\n",
"n2=0:0.005:0.125;\n",
"n3=0:0.005:1.125;\n",
"xt1=(2*cos(20*%pi*n1')+5*cos(100*%pi*n1'));\n",
"xt2=(2*cos(20*%pi*n2')+5*cos(100*%pi*n2'));\n",
"xt3=(2*cos(20*%pi*n3')+5*cos(100*%pi*n3'));\n",
"XDFS1=abs(dft(xt1,-1))/20;\n",
"XDFS2=abs(dft(xt2,-1))/25;\n",
"XDFS3=abs(dft(xt3,-1))/225;\n",
"f1=0:5:100;\n",
"f2=0:4:100;\n",
"f3=0:100/225:100;\n",
"a=gca();\n",
"a.x_location='origin';\n",
"plot2d3('gnn',f1,XDFS1);\n",
"xlabel('analog frequency');\n",
"ylabel('Magnitude');\n",
"xset('window',1);\n",
"subplot(211);\n",
"plot2d3('gnn',f2,XDFS2);\n",
"xlabel('analog frequency');\n",
"ylabel('Magnitude');\n",
"subplot(212);\n",
"plot2d3('gnn',f3,XDFS3);\n",
"xlabel('analog frequency');\n",
"ylabel('Magnitude');"
   ]
   }
,
{
		   "cell_type": "markdown",
		   "metadata": {},
		   "source": [
			"## Example 8.15a: Methods_to_find_convolution.sce"
		   ]
		  },
  {
"cell_type": "code",
	   "execution_count": null,
	   "metadata": {
	    "collapsed": true
	   },
	   "outputs": [],
"source": [
"//overlapp-add and overlap-save methods of convolution\n",
"//overlap-add method\n",
"xn=[1 2 3 3 4 5];\n",
"xon=[1 2 3];\n",
"x1n=[3 4 5];\n",
"hn=[1 1 1];\n",
"yon=convol(xon,hn);\n",
"y1n=convol(x1n,hn);\n",
"yon=[yon,0,0,0];\n",
"y1n=[0,0,0,y1n];\n",
"yn=yon+y1n\n",
"yn1=convol(xn,hn) "
   ]
   }
,
{
		   "cell_type": "markdown",
		   "metadata": {},
		   "source": [
			"## Example 8.15b: Methods_to_find_convolution.sce"
		   ]
		  },
  {
"cell_type": "code",
	   "execution_count": null,
	   "metadata": {
	    "collapsed": true
	   },
	   "outputs": [],
"source": [
"//(b)overlap-save method\n",
"xn=[1 2 3 3 4 5];\n",
"hn=[1 1 1];\n",
"xon=[0 0 1 2 3];\n",
"x1n=[2 3 3 4 5];\n",
"x2n=[4 5 0 0 0];\n",
"yon=convol(xon,hn);\n",
"y1n=convol(x1n,hn);\n",
"y2n=convol(x2n,hn);\n",
"yno=yon(3:5);\n",
"yn1=y1n(3:5);\n",
"yn2=y2n(3:5);\n",
"yn=[yno yn1 yn2]\n",
"YN=convol(xn,hn)"
   ]
   }
,
{
		   "cell_type": "markdown",
		   "metadata": {},
		   "source": [
			"## Example 8.16: Signal_Interpolation_using_FFT.sce"
		   ]
		  },
  {
"cell_type": "code",
	   "execution_count": null,
	   "metadata": {
	    "collapsed": true
	   },
	   "outputs": [],
"source": [
"//signal interpolation using FFT\n",
"xn=[0 1 0 -1];\n",
"XDFT=dft(xn,-1)\n",
"ZT=[0 -2*%i 0 zeros(1:27) 0 2*%i];\n",
"xn1=dft(ZT,1);\n",
"t=0:1/length(xn1):1-(1/length(xn1));\n",
"a=gca();\n",
"a.x_location='origin';\n",
"plot2d(t,xn1);\n",
"xlabel('time t');\n",
"ylabel('Amplitude');\n",
"xtitle('Interpolated Sinusoid:4 samples over one period');"
   ]
   }
,
{
		   "cell_type": "markdown",
		   "metadata": {},
		   "source": [
			"## Example 8.17: The_Concept_of_Periodogram.sce"
		   ]
		  },
  {
"cell_type": "code",
	   "execution_count": null,
	   "metadata": {
	    "collapsed": true
	   },
	   "outputs": [],
"source": [
"//concept of periodogram\n",
"xn=[0 1 0 -1];\n",
"N=4;\n",
"XDFT=dft(xn,-1);\n",
"for i=1:length(XDFT)\n",
"    p(i)=(1/N)*abs(XDFT(i)^2);\n",
"end\n",
"p//periodogram"
   ]
   }
,
{
		   "cell_type": "markdown",
		   "metadata": {},
		   "source": [
			"## Example 8.18: DFT_from_matrix_formulatio.sce"
		   ]
		  },
  {
"cell_type": "code",
	   "execution_count": null,
	   "metadata": {
	    "collapsed": true
	   },
	   "outputs": [],
"source": [
"//The DFT from the matrix formulation\n",
"xn=[1;2;1;0];\n",
"w=exp(-%i*%pi/2);\n",
"for i=1:4\n",
"    for j=1:4\n",
"        WN(i,j)=w^((i-1)*(j-1));\n",
"    end\n",
"end\n",
"XDFT=WN*xn"
   ]
   }
,
{
		   "cell_type": "markdown",
		   "metadata": {},
		   "source": [
			"## Example 8.19: Using_DFT_to_find_IDFT.sce"
		   ]
		  },
  {
"cell_type": "code",
	   "execution_count": null,
	   "metadata": {
	    "collapsed": true
	   },
	   "outputs": [],
"source": [
"//using DFT to find IDFT\n",
"XDFT=[4;-2*%i;0;2*%i];\n",
"XDFTc=[4;2*%i;0;-2*%i];\n",
"w=exp(-%i*%pi/2);\n",
"for i=1:4\n",
"    for j=1:4\n",
"        WN(i,j)=w^((i-1)*(j-1));\n",
"    end\n",
"end\n",
"xn=1/4*(WN*XDFTc)"
   ]
   }
,
{
		   "cell_type": "markdown",
		   "metadata": {},
		   "source": [
			"## Example 8.1: DFT_from_Defining_Relation.sce"
		   ]
		  },
  {
"cell_type": "code",
	   "execution_count": null,
	   "metadata": {
	    "collapsed": true
	   },
	   "outputs": [],
"source": [
"//DFT from defining relation\n",
"//N-point DFT\n",
"x=[1 2 1 0];\n",
"XDFT=dft(x,-1);\n",
"disp(XDFT,'The DFT of x[n] is');\n",
"//DFT of periodic signal x with period N=4"
   ]
   }
,
{
		   "cell_type": "markdown",
		   "metadata": {},
		   "source": [
			"## Example 8.20: Decimation_in_Frequency_FFT_algorithm.sce"
		   ]
		  },
  {
"cell_type": "code",
	   "execution_count": null,
	   "metadata": {
	    "collapsed": true
	   },
	   "outputs": [],
"source": [
"//A four point decimation-in-frequency FFT algorithm\n",
"x=[1 2 1 0];\n",
"w=-%i;\n",
"xdft(1)=x(1)+x(3)+x(2)+x(4);\n",
"xdft(2)=x(1)-x(3)+w*(x(2)-x(4));\n",
"xdft(3)=x(1)+x(3)-x(2)-x(4);\n",
"xdft(4)=x(1)-x(3)-w*(x(2)-x(4));\n",
"XDFT=dft(x,-1);\n",
"xdft,XDFT"
   ]
   }
,
{
		   "cell_type": "markdown",
		   "metadata": {},
		   "source": [
			"## Example 8.21: Decimation_in_time_FFT_algorithm.sce"
		   ]
		  },
  {
"cell_type": "code",
	   "execution_count": null,
	   "metadata": {
	    "collapsed": true
	   },
	   "outputs": [],
"source": [
"//A four point decimation-in-time FFT algorithm\n",
"x=[1 2 1 0];\n",
"w=-%i;\n",
"xdft=[0 0 0 0];\n",
"for i=1:4\n",
"    for j=1:4\n",
"        xdft(i)=xdft(i)+x(j)*w^((i-1)*(j-1));\n",
"    end\n",
"end\n",
"XDFT=dft(x,-1);\n",
"xdft,XDFT"
   ]
   }
,
{
		   "cell_type": "markdown",
		   "metadata": {},
		   "source": [
			"## Example 8.22: 4_point_DFT_from_3_point_sequence.sce"
		   ]
		  },
  {
"cell_type": "code",
	   "execution_count": null,
	   "metadata": {
	    "collapsed": true
	   },
	   "outputs": [],
"source": [
"//A 4-point DFT from a 3-point sequence\n",
"xn=[1;2;1];\n",
"w=exp(-%i*%pi/2);\n",
"for i=1:4\n",
"    for j=1:3\n",
"        WN(i,j)=w^((i-1)*(j-1));\n",
"    end\n",
"end\n",
"XDFT=WN*xn"
   ]
   }
,
{
		   "cell_type": "markdown",
		   "metadata": {},
		   "source": [
			"## Example 8.23: 3_point_IDFT_from_4_point_DFT.sce"
		   ]
		  },
  {
"cell_type": "code",
	   "execution_count": null,
	   "metadata": {
	    "collapsed": true
	   },
	   "outputs": [],
"source": [
"//A 3-point IDFT from 4-point DFT\n",
"XDFT=[4;-2*%i;0;2*%i];\n",
"w=exp(-%i*%pi/2);\n",
"for i=1:4\n",
"    for j=1:3\n",
"        WN(i,j)=w^((i-1)*(j-1));\n",
"    end\n",
"end\n",
"WI=WN';\n",
"xn=1/4*(WI*XDFT)"
   ]
   }
,
{
		   "cell_type": "markdown",
		   "metadata": {},
		   "source": [
			"## Example 8.24: The_importance_of_Periodic_Extension.sce"
		   ]
		  },
  {
"cell_type": "code",
	   "execution_count": null,
	   "metadata": {
	    "collapsed": true
	   },
	   "outputs": [],
"source": [
"//The importance of Periodic extension\n",
"//(a)For M=3\n",
"x=[1 2 1];\n",
"XDFT=dft(x,-1)\n",
"w=exp(-%i*2*%pi/3);\n",
"for i=1:3\n",
"    for j=1:3\n",
"        WN(i,j)=w^((i-1)*(j-1));\n",
"    end\n",
"end\n",
"WI=WN';\n",
"xn=1/3*WI*XDFT\n",
"//The result is periodic with M=3 & 1 period equals x[n]\n",
"//(b)For M=4\n",
"y=[1 2 1 0];\n",
"YDFT=dft(y,-1)\n",
"w=exp(-%i*%pi/2);\n",
"for i=1:4\n",
"    for j=1:4\n",
"        WN(i,j)=w^((i-1)*(j-1));\n",
"    end\n",
"end\n",
"WI=WN';\n",
"yn=1/4*WI*YDFT"
   ]
   }
,
{
		   "cell_type": "markdown",
		   "metadata": {},
		   "source": [
			"## Example 8.2: The_DFT_and_conjugate_Symmetry.sce"
		   ]
		  },
  {
"cell_type": "code",
	   "execution_count": null,
	   "metadata": {
	    "collapsed": true
	   },
	   "outputs": [],
"source": [
"//The DTFT and conjugate symmetry\n",
"//8-point DFT\n",
"x=[1 1 0 0 0 0 0 0];\n",
"XDFT=dft(x,-1);\n",
"disp(XDFT,'The DFT of x is');\n",
"disp('from conjugate symmetry we see XDFT[k]=XDFT[8-k]');"
   ]
   }
,
{
		   "cell_type": "markdown",
		   "metadata": {},
		   "source": [
			"## Example 8.3: Circular_Shift_and_Flipping.sce"
		   ]
		  },
  {
"cell_type": "code",
	   "execution_count": null,
	   "metadata": {
	    "collapsed": true
	   },
	   "outputs": [],
"source": [
"//Circular shift and flipping\n",
"//(a)right circular shift\n",
"y=[1 2 3 4 5 0 0 6];\n",
"f=y;g=y;h=y;\n",
"for i=1:2\n",
"    b=f(length(f));\n",
"    for j=length(f):-1:2\n",
"        f(j)=f(j-1);\n",
"     end\n",
"     f(1)=b;\n",
"end\n",
"disp(f,'By right circular shift y[n-2] is');\n",
"//(b)left circular shift\n",
"for i=1:2\n",
"    a=g(1);\n",
"    for j=1:length(g)-1\n",
"        g(j)=g(j+1);\n",
"     end\n",
"     g(length(g))=a;\n",
"end\n",
"disp(g,'By left circular shift y[n+2] is');\n",
"//(c)flipping property\n",
"h=[h(1) h(length(h):-1:2)];\n",
"disp(h,'By flipping property y[-n] is');"
   ]
   }
,
{
		   "cell_type": "markdown",
		   "metadata": {},
		   "source": [
			"## Example 8.4: Properties_of_DFT.sce"
		   ]
		  },
  {
"cell_type": "code",
	   "execution_count": null,
	   "metadata": {
	    "collapsed": true
	   },
	   "outputs": [],
"source": [
"x=[1 2 1 0];\n",
"XDFT=dft(x,-1)\n",
"//(a)time shift property\n",
"y=x;\n",
"for i=1:2\n",
"    a=y(1);\n",
"    for j=1:length(y)-1\n",
"        y(j)=y(j+1);\n",
"     end\n",
"     y(length(y))=a;\n",
"end\n",
"YDFT=dft(y,-1)\n",
"disp(YDFT,'By Time-Shift property DFT of x[n-2] is');  \n",
"//(b)flipping property\n",
"g=[x(1) x(length(x):-1:2)]\n",
"GDFT=dft(g,-1)\n",
"disp(GDFT,'By Time reversal property DFT of x[-n] is');  \n",
"//(c)conjugation property\n",
"p=XDFT;\n",
"PDFT=[p(1);p(4:-1:2)];\n",
"disp(YDFT,'BY conjugation property DFT of x*[n] is');  "
   ]
   }
,
{
		   "cell_type": "markdown",
		   "metadata": {},
		   "source": [
			"## Example 8.5a: Properties_of_DFT.sce"
		   ]
		  },
  {
"cell_type": "code",
	   "execution_count": null,
	   "metadata": {
	    "collapsed": true
	   },
	   "outputs": [],
"source": [
"//properties of DFT\n",
"//a1)product\n",
"xn=[1 2 1 0];\n",
"XDFT=dft(xn,-1)\n",
"hn=xn.*xn\n",
"HDFT=dft(hn,-1)\n",
"HDFT1=1/4*(convol(XDFT,XDFT))\n",
"HDFT1=[HDFT1,zeros(8:12)];\n",
"HDFT2=[HDFT1(1:4);HDFT1(5:8);HDFT1(9:12)];\n",
"HDFT3=[0 0 0 0];\n",
"for i=1:4\n",
"    for j=1:3\n",
"        HDFT3(i)=HDFT3(i)+HDFT2(j,i);\n",
"    end\n",
"end\n",
"disp(HDFT3,'DFT of x[n]^2 is');\n",
"//a2)periodic convolution\n",
"vn=convol(xn,xn);\n",
"vn=[vn,zeros(8:12)];\n",
"vn=[vn(1:4);vn(5:8);vn(9:12)];\n",
"vn1=[0 0 0 0];\n",
"for i=1:4\n",
"    for j=1:3\n",
"        vn1(i)=vn1(i)+vn(j,i);\n",
"    end\n",
"end\n",
"VDFT=dft(vn1,-1);\n",
"VDFT1=XDFT.*XDFT;\n",
"disp(VDFT1,'DFT of x[n]*x[n] is');\n",
"//a3)signal energy(parcewell's theorem)\n",
"xn2=xn^2;\n",
"E=0;\n",
"for i=1:length(xn2)\n",
"    E=E+abs(xn2(i));\n",
"end\n",
"XDFT2=XDFT^2\n",
"E1=0;\n",
"for i=1:length(XDFT2)\n",
"    E1=E1+abs(XDFT2(i));\n",
"end\n",
"E,(1/4)*E1;\n",
"disp(1/4*E1,'The energy of the signal is');"
   ]
   }
,
{
		   "cell_type": "markdown",
		   "metadata": {},
		   "source": [
			"## Example 8.5b: Properties_of_DFT.sce"
		   ]
		  },
  {
"cell_type": "code",
	   "execution_count": null,
	   "metadata": {
	    "collapsed": true
	   },
	   "outputs": [],
"source": [
"//b1)modulation\n",
"XDFT=[4 -2*%i 0 2*%i];\n",
"xn=dft(XDFT,1)\n",
"for i=1:length(xn)\n",
"    zn(i)=xn(i)*%e^((%i*%pi*(i-1))/2);\n",
"end\n",
"disp(zn,'The IDFT of XDFT[k-1] is');\n",
"ZDFT=[2*%i 4 -2*%i 0];\n",
"zn1=dft(ZDFT,1)\n",
"//b2)periodic convolution\n",
"HDFT=(convol(XDFT,XDFT))\n",
"HDFT=[HDFT,zeros(8:12)];\n",
"HDFT=[HDFT(1:4);HDFT(5:8);HDFT(9:12)];\n",
"HDFT1=[0 0 0 0];\n",
"for i=1:4\n",
"    for j=1:3\n",
"        HDFT1(i)=HDFT1(i)+HDFT(j,i);\n",
"    end\n",
"end\n",
"HDFT1;\n",
"hn=dft(HDFT1,1)\n",
"hn1=4*(xn.*xn);\n",
"disp(hn1,'The IDFT of XDFT*XDFT is');\n",
"//b3)product\n",
"WDFT=XDFT.*XDFT;\n",
"wn=dft(WDFT,1)\n",
"wn1=convol(xn,xn);\n",
"wn1=[wn1,zeros(8:12)];\n",
"wn1=[wn1(1:4);wn1(5:8);wn1(9:12)];\n",
"WN=[0 0 0 0];\n",
"for i=1:4\n",
"    for j=1:3\n",
"        WN(i)=WN(i)+wn1(j,i);\n",
"    end\n",
"end\n",
"disp(WN,'The IDFT of XDFT.XDFT is');\n",
"//b4)Central ordinates and signal Energy\n",
"E=0;\n",
"for i=1:length(xn)\n",
"    E=E+abs(xn(i)^2);\n",
"end\n",
"disp(E,'the signal energy is'); "
   ]
   }
,
{
		   "cell_type": "markdown",
		   "metadata": {},
		   "source": [
			"## Example 8.5c: Properties_of_DFT.sce"
		   ]
		  },
  {
"cell_type": "code",
	   "execution_count": null,
	   "metadata": {
	    "collapsed": true
	   },
	   "outputs": [],
"source": [
"//Regular convolution\n",
"xn=[1 2 1 0];\n",
"yn=[1 2 1 0 0 0 0];\n",
"YDFT=dft(yn,-1)\n",
"SDFT=YDFT.*YDFT\n",
"sn=dft(SDFT,1)\n",
"sn1=convol(xn,xn)"
   ]
   }
,
{
		   "cell_type": "markdown",
		   "metadata": {},
		   "source": [
			"## Example 8.6: Signal_and_Spectrum_Replication.sce"
		   ]
		  },
  {
"cell_type": "code",
	   "execution_count": null,
	   "metadata": {
	    "collapsed": true
	   },
	   "outputs": [],
"source": [
"//Signal and spectrum replication\n",
"xn=[2 3 2 1];\n",
"XDFT=dft(xn,-1)\n",
"yn=[xn xn xn];\n",
"YDFT=dft(yn,-1)\n",
"YDFT1=3*[XDFT(1:1/3:length(XDFT))];\n",
"for i=2:3\n",
"    YDFT1(i:3:length(YDFT1))=0;\n",
"end\n",
"YDFT1(12:-1:11)=0;\n",
"disp(YDFT1,'the DFT of x[n/3] is');\n",
"hn=[xn(1:1/3:length(xn))]\n",
"for i=2:3\n",
"    hn(i:3:length(hn))=0;\n",
"end\n",
"hn(12:-1:11)=0;\n",
"hn\n",
"HDFT=dft(hn,-1)\n",
"HDFT1=[XDFT;XDFT;XDFT];\n",
"disp(HDFT1,'the DFT of y[n]=[x[n],x[n],x[n]] is');"
   ]
   }
,
{
		   "cell_type": "markdown",
		   "metadata": {},
		   "source": [
			"## Example 8.7: Relating_DFT_and_DTFT.sce"
		   ]
		  },
  {
"cell_type": "code",
	   "execution_count": null,
	   "metadata": {
	    "collapsed": true
	   },
	   "outputs": [],
"source": [
"//relating DFT and IDFT\n",
"XDFT1=[4 -2*%i 0 2*%i];\n",
"xn1=dft(XDFT1,1);\n",
"disp(xn1,'The IDFT of XDFT1');\n",
"XDFT2=[12 -24*%i 0 4*%e^(%i*%pi/4) 0 4*%e^(-%i*%pi/4) 0 24*%i];\n",
"xn2=dft(XDFT2,1);\n",
"disp(xn2,'The IDFT of XDFT1'); "
   ]
   }
,
{
		   "cell_type": "markdown",
		   "metadata": {},
		   "source": [
			"## Example 8.8: Relating_DFT_and_DTFT.sce"
		   ]
		  },
  {
"cell_type": "code",
	   "execution_count": null,
	   "metadata": {
	    "collapsed": true
	   },
	   "outputs": [],
"source": [
"//Relating DFT and DTFT\n",
"xn=[1 2 1 0];\n",
"XDFT=dft(xn,-1);\n",
"//for F=k/4,k=0,1,2,3\n",
"for k=1:4\n",
"    XF(k)=1+2*%e^(-%i*%pi*(k-1)/2)+%e^(-%i*%pi*(k-1));\n",
"end\n",
"XF,XDFT\n",
"disp(XF,'The DFT of x[n] is');"
   ]
   }
,
{
		   "cell_type": "markdown",
		   "metadata": {},
		   "source": [
			"## Example 8.9a: The_DFT_and_DFS_of_sinusoids.sce"
		   ]
		  },
  {
"cell_type": "code",
	   "execution_count": null,
	   "metadata": {
	    "collapsed": true
	   },
	   "outputs": [],
"source": [
"//DFT and DFS of sinusoids\n",
"n2=0:0.5/1000:5.5/100;\n",
"xt=4*cos(100*%pi*n2');\n",
"n=0:(0.5)/100:(5.5)/100;//F=3/12 hence N=12\n",
"xn=4*cos(100*%pi*n');\n",
"XDFT=dft(xn,-1);\n",
"n1=0:11;\n",
"a=gca();\n",
"a.x_location='origin';\n",
"plot2d(n2,xt);\n",
"plot2d3('gnn',n,xn);\n",
"xset('window',1);\n",
"b=gca();\n",
"b.x_location='origin';\n",
"plot2d3('gnn',n1,XDFT);"
   ]
   }
,
{
		   "cell_type": "markdown",
		   "metadata": {},
		   "source": [
			"## Example 8.9b: The_DFT_and_DFS_of_sinusoids.sce"
		   ]
		  },
  {
"cell_type": "code",
	   "execution_count": null,
	   "metadata": {
	    "collapsed": true
	   },
	   "outputs": [],
"source": [
"//DFT and DFS of sinusoids\n",
"n2=0:1/1280:31/128;\n",
"xt=4*sin(72*%pi*n2');\n",
"n=0:1/128:31/128;//F=9/32 hence N=32\n",
"xn=4*sin(72*%pi*n');\n",
"XDFT=abs(dft(xn,-1));\n",
"n1=0:31;\n",
"a=gca();\n",
"a.x_location='origin';\n",
"plot2d(n2,xt);\n",
"plot2d3('gnn',n,xn);\n",
"xset('window',1);\n",
"b=gca();\n",
"b.x_location='origin';\n",
"plot2d3('gnn',n1,XDFT);"
   ]
   }
,
{
		   "cell_type": "markdown",
		   "metadata": {},
		   "source": [
			"## Example 8.9c: The_DFT_and_DFS_of_sinusoids.sce"
		   ]
		  },
  {
"cell_type": "code",
	   "execution_count": null,
	   "metadata": {
	    "collapsed": true
	   },
	   "outputs": [],
"source": [
"//DFT and DFS of sinusoids\n",
"n2=0:1/840:6/21;\n",
"xt=4*sin(72*%pi*n2')-6*cos(12*%pi*n2');\n",
"n=0:1/21:6/21;//F=3/12 hence N=12\n",
"xn=4*sin(72*%pi*n')-6*cos(12*%pi*n');\n",
"XDFT=abs(dft(xn,-1));\n",
"n1=0:6;\n",
"a=gca();\n",
"a.x_location='origin';\n",
"plot2d(n2,xt);\n",
"plot2d3('gnn',n,xn);\n",
"xset('window',1);\n",
"b=gca();\n",
"b.x_location='origin';\n",
"plot2d3('gnn',n1,XDFT);"
   ]
   }
,
{
		   "cell_type": "markdown",
		   "metadata": {},
		   "source": [
			"## Example 8.9d: The_DFT_and_DFS_of_sinusoids.sce"
		   ]
		  },
  {
"cell_type": "code",
	   "execution_count": null,
	   "metadata": {
	    "collapsed": true
	   },
	   "outputs": [],
"source": [
"//DFT and DFS of sinusoids\n",
"n2=0:1/2400:23/240;\n",
"xt=1+4*sin(120*%pi*n2')+4*sin(40*%pi*n2');\n",
"n=0:1/240:23/240;//F=9/32 hence N=32\n",
"xn=1+4*sin(120*%pi*n')+4*sin(40*%pi*n');\n",
"XDFT=abs(dft(xn,-1));\n",
"n1=0:23;\n",
"a=gca();\n",
"a.x_location='origin';\n",
"plot2d(n2,xt);\n",
"plot2d3('gnn',n,xn);\n",
"xset('window',1);\n",
"b=gca();\n",
"b.x_location='origin';\n",
"plot2d3('gnn',n1,XDFT);"
   ]
   }
],
"metadata": {
		  "kernelspec": {
		   "display_name": "Scilab",
		   "language": "scilab",
		   "name": "scilab"
		  },
		  "language_info": {
		   "file_extension": ".sce",
		   "help_links": [
			{
			 "text": "MetaKernel Magics",
			 "url": "https://github.com/calysto/metakernel/blob/master/metakernel/magics/README.md"
			}
		   ],
		   "mimetype": "text/x-octave",
		   "name": "scilab",
		   "version": "0.7.1"
		  }
		 },
		 "nbformat": 4,
		 "nbformat_minor": 0
}
