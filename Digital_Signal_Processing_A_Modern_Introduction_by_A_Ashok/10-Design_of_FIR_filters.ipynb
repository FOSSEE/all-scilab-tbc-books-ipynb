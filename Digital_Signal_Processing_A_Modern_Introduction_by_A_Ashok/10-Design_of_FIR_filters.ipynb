{
"cells": [
 {
		   "cell_type": "markdown",
	   "metadata": {},
	   "source": [
       "# Chapter 10: Design of FIR filters"
	   ]
	},
{
		   "cell_type": "markdown",
		   "metadata": {},
		   "source": [
			"## Example 10.10: Maximally_Flat_FIR_filter_Desig.sce"
		   ]
		  },
  {
"cell_type": "code",
	   "execution_count": null,
	   "metadata": {
	    "collapsed": true
	   },
	   "outputs": [],
"source": [
"//Maximally flat FIR filter design\n",
"Fp=0.2;\n",
"Fs=0.4;\n",
"Fc=0.3;\n",
"Ft=0.2;\n",
"N0=1+0.5/Ft^2;\n",
"N0=ceil(N0);\n",
"alpha=(cos(%pi*Fc))^2;\n",
"k=5;Mmin=14;\n",
"L=Mmin-k;\n",
"N=2*Mmin-1;\n",
"disp(N,'Hence with this length we can get maximally flat FIR filter with no ripples in passband');"
   ]
   }
,
{
		   "cell_type": "markdown",
		   "metadata": {},
		   "source": [
			"## Example 10.2: Truncation_and_Windowing.sce"
		   ]
		  },
  {
"cell_type": "code",
	   "execution_count": null,
	   "metadata": {
	    "collapsed": true
	   },
	   "outputs": [],
"source": [
"//Truncation and Windowing\n",
"//(a)N=9,Barlett Window.\n",
"z=%z;\n",
"Fc=0.25;\n",
"n=-4:4;\n",
"hn=2*Fc*(sinc(0.5*n'*%pi))\n",
"Wn=1-(2*abs(n'))/8//Barlett window\n",
"hwn=hn.*Wn\n",
"Hcz=0;\n",
"for i=1:length(hwn)\n",
"     Hcz=Hcz+hwn(i)*(z^((2-i)));\n",
"end\n",
"Hcz//indicates delay of 0.15ms\n",
"//(b)N=6,vonhann Window\n",
"n1=-2.5:2.5;\n",
"hn1=2*Fc*(sinc(0.5*n1'*%pi))\n",
"Wn1=0.5+0.5*(cos(0.4*%pi*n1'))//Vonhann window\n",
"hwn1=hn1.*Wn1\n",
"Hcz1=0;\n",
"for i=1:length(hwn1)\n",
"     Hcz1=Hcz1+hwn1(i)*(z^((2-i)));\n",
"end\n",
"Hcz1//1st sample of hwn is 0 hence delay is 1.5ms"
   ]
   }
,
{
		   "cell_type": "markdown",
		   "metadata": {},
		   "source": [
			"## Example 10.3ab: FIR_lowpass_Filter_desig.sce"
		   ]
		  },
  {
"cell_type": "code",
	   "execution_count": null,
	   "metadata": {
	    "collapsed": true
	   },
	   "outputs": [],
"source": [
"//FIR filter design using windows\n",
"//(a)Design of FIR filter to meet following specifications\n",
"fp=2;fs=4;Ap=2;As=40;S=20;\n",
"Fp=fp/S;Fs=fs/S;\n",
"Fc=0.15;\n",
"z=%z;\n",
"N1=3.21/(Fs-Fp);\n",
"N1=ceil(N1)\n",
"N2=5.71/(Fs-Fp);\n",
"N2=ceil(N2)\n",
"n1=-16:16;\n",
"n2=-28.5:1:28.5;\n",
"hn1=2*Fc*(sinc(2*Fc*n1'));\n",
"hn2=2*Fc*(sinc(2*Fc*n2'));\n",
"Wn1=0.5+0.5*(cos(2*%pi*n1'/(N1-1)));//Vonhann window\n",
"Wn2=0.42+0.5*(cos(2*%pi*n2'/(N2-1)))+0.08*(cos(4*%pi*n2'/(N2-1)));//Blackman window\n",
"hwn1=abs(hn1.*Wn1);\n",
"hwn2=abs(hn2.*Wn2);\n",
"[hwn1F,fr1]=frmag(hwn1,256);\n",
"[hwn2F,fr2]=frmag(hwn2,256);\n",
"hwn1F1=20*log10(hwn1F);\n",
"hwn2F1=20*log10(hwn2F);\n",
"plot2d(fr1,hwn1F1);\n",
"plot2d(fr2(1:length(fr2)-2),hwn2F1(1:length(fr2)-2));\n",
"xlabel('Digital frequency');\n",
"ylabel('Magnitude [dB]');\n",
"title('Low pass filter using vonhann and Blackmann windows Fc=0.15,vonhann N=33,Blackman N=58');\n",
"//(b)Minimum length design\n",
"Fcv=0.1313;\n",
"Fcb=0.1278;\n",
"Nv=23;Nb=29;\n",
"nv=-11:11;\n",
"nb=-14:14;\n",
"hnv=2*Fcv*(sinc(2*Fcv*nv'));\n",
"hnb=2*Fcb*(sinc(2*Fcb*nb'));\n",
"Wnv=0.5+0.5*(cos(2*%pi*nv'/(Nv-1)));//Vonhann window\n",
"Wnb=0.42+0.5*(cos(2*%pi*nb'/(Nb-1)))+0.08*(cos(4*%pi*nb'/(Nb-1)));//Blackman window\n",
"hwnv=abs(hnv.*Wnv);\n",
"hwnb=abs(hnb.*Wnb);\n",
"[hwnvF,frv]=frmag(hwnv,256);\n",
"[hwnbF,frb]=frmag(hwnb,256);\n",
"hwnvF=20*log10(hwnvF);\n",
"hwnbF=20*log10(hwnbF);\n",
"b=gca();\n",
"xset('window',2);\n",
"plot(frv,hwnvF);\n",
"plot(frb,hwnbF);\n",
"xlabel('Digital frequency');\n",
"ylabel('Magnitude [dB]');\n",
"title('Vonhann Fc=0.1313,Minimum N=23,Blackmann Fc=0.1278,Minimum N=29');"
   ]
   }
,
{
		   "cell_type": "markdown",
		   "metadata": {},
		   "source": [
			"## Example 10.3cd: FIR_filter_Desig.sce"
		   ]
		  },
  {
"cell_type": "code",
	   "execution_count": null,
	   "metadata": {
	    "collapsed": true
	   },
	   "outputs": [],
"source": [
"//Design of high pass FIR filter with specifications\n",
"//fp=4kHZ;fs=2kHZ;Ap=2dB;As=40dB\n",
"fp=2;fs=4;Ap=2;As=40;S=20;\n",
"Fp=fp/S;Fs=fs/S;\n",
"Ft=0.1;\n",
"Fc=0.15\n",
"N1=3.47/(Fs-Fp);//hamming\n",
"N1=int(N1)+1\n",
"N2=5.71/(Fs-Fp);//blackman\n",
"N2=int(N2)+1\n",
"[hn1]=eqfir(N1,[0 0.1;0.2 0.5],[0 1],[1 1]);\n",
"[HF1,fr1]=frmag(hn1,512);\n",
"Hf1=20*log10(HF1);\n",
"[hn2]=eqfir(58,[0 0.1;0.2 0.43],[0 1],[1 1]);\n",
"[HF2,fr2]=frmag(hn2,512);\n",
"Hf2=20*log10(HF2);\n",
"a=gca();\n",
"plot2d(fr1,Hf1,rect=[0 -120 0.5 4]);\n",
"plot2d(fr2(1:length(fr2)-5),Hf2(1:length(fr2)-5),rect=[0 -120 0.5 4]);\n",
"xlabel('Digital Frequency F');\n",
"ylabel('Magnitude [dB]');\n",
"xtitle('High pass filter using Hamming and Blackmann windows LPP Fc=0.35');\n",
"//Minimum Length Design\n",
"[hn3]=eqfir(22,[0 0.1;0.2 0.43],[0 1],[1 1]);\n",
"[HF3,fr3]=frmag(hn3,512);\n",
"Hf3=20*log10(HF3);\n",
"[hn4]=eqfir(29,[0 0.1;0.2 0.5],[0 1],[1 1]);\n",
"[HF4,fr4]=frmag(hn4,512);\n",
"Hf4=20*log10(HF4);\n",
"xset('window',1);\n",
"a=gca();\n",
"plot2d(fr3(1:length(fr3)-5),Hf3(1:length(fr3)-5),rect=[0 -120 0.5 4]);\n",
"plot2d(fr4,Hf4,rect=[0 -120 0.5 4]);\n",
"xlabel('Digital Frequency F');\n",
"ylabel('Magnitude [dB]');\n",
"xtitle('Hamming LPP Fc=0.3293 N=22;Blackmann LPP Fc=0.3277 N=29');\n",
""
   ]
   }
,
{
		   "cell_type": "markdown",
		   "metadata": {},
		   "source": [
			"## Example 10.4a: Half_Band_lowpass_FIR_filter_Design.sce"
		   ]
		  },
  {
"cell_type": "code",
	   "execution_count": null,
	   "metadata": {
	    "collapsed": true
	   },
	   "outputs": [],
"source": [
"//Half band FIR Filter Design\n",
"//(a)lowpass Half band Filter\n",
"s=%s;z=%z;\n",
"fp=8;fs=16;Ap=1;As=50;\n",
"S=2*(fs+fp);\n",
"Fp=fp/S;Fs=fs/S;Fc=0.25;\n",
"delp=(10^(Ap/20)-1)/(10^(Ap/20)+1);\n",
"dels=10^(-As/20);\n",
"del=min(delp,dels);\n",
"As0=-20*log10(del)\n",
"N1=(As0-7.95)/(14.36*(Fs-Fp))+1;\n",
"N1=int(N1)+1;\n",
"B=0.0351*(As0-8.7)\n",
"[hn1]=eqfir(19,[0 1/6;1/3 0.5],[1 0],[1 1]);\n",
"[HLPF1,fr1]=frmag(hn1,512);\n",
"HLPf1=20*log10(HLPF1);\n",
"a=gca();\n",
"plot2d(fr1,HLPf1);\n",
"xlabel('Digital Frequency');\n",
"ylabel('Magnitude in dB');\n",
"xtitle('Kaiser half band LPF:B=1.44;Fc=0.25');\n",
"[hn2]=eqfir(21,[0 1/6;1/3 0.5],[1 0],[1 1]);\n",
"[HLPF2,fr2]=frmag(hn2,512);\n",
"HLPf2=20*log10(HLPF2);\n",
"xset('window',1);\n",
"plot2d(fr2,HLPf2);\n",
"xlabel('Digital Frequency');\n",
"ylabel('Magnitude in dB');\n",
"xtitle('Hamming half-band LPF:N=21;Fc=0.25');"
   ]
   }
,
{
		   "cell_type": "markdown",
		   "metadata": {},
		   "source": [
			"## Example 10.4b: Half_Band_bandstop_FIR_filter_Design.sce"
		   ]
		  },
  {
"cell_type": "code",
	   "execution_count": null,
	   "metadata": {
	    "collapsed": true
	   },
	   "outputs": [],
"source": [
"//Half band FIR Filter Design\n",
"//(a)band-stop Half band Filter\n",
"s=%s;z=%z;\n",
"fp1=1;fs1=2;fp2=4;fs2=3;Ap=1;As=50;\n",
"S=2*(fs1+fs2);\n",
"Fp=0.5*(fs2/S-fs1/S);Fs=0.5*(fp2/S-fp1/S);\n",
"Fc=0.5*(Fp+Fs);Fo=0.25;\n",
"delp=(10^(Ap/20)-1)/(10^(Ap/20)+1);\n",
"dels=10^(-As/20);\n",
"del=min(delp,dels);\n",
"As0=-20*log10(del)\n",
"N1=(As0-7.95)/(14.36*(Fs-Fp))+1;\n",
"N1=ceil(N1);\n",
"B=0.0351*(As0-8.7)\n",
"[hn1]=eqfir(31,[0 0.1;0.2 0.3;0.4 0.5],[1 0 1],[1 1 1]);\n",
"[HBSF1,fr1]=frmag(hn1,400);\n",
"HBSf1=20*log10(HBSF1);\n",
"a=gca();\n",
"plot2d(fr1,HBSf1);\n",
"xlabel('Digital Frequency');\n",
"ylabel('Magnitude in dB');\n",
"xtitle('Kaiser half band LPF:B=1.44;Fc=0.25');\n",
"[hn2]=eqfir(35,[0 0.1;0.2 0.3;0.4 0.5],[1 0 1],[1 1 1]);\n",
"[HF2,fr2]=frmag(hn2,200);\n",
"HBSf2=20*log10(HF2);\n",
"xset('window',1);\n",
"plot2d(fr2,HBSf2);\n",
"xlabel('Digital Frequency');\n",
"ylabel('Magnitude in dB');\n",
"xtitle('Hamming half-band LPF:N=21;Fc=0.25');"
   ]
   }
,
{
		   "cell_type": "markdown",
		   "metadata": {},
		   "source": [
			"## Example 10.5a: Design_by_Frequency_Sampling.sce"
		   ]
		  },
  {
"cell_type": "code",
	   "execution_count": null,
	   "metadata": {
	    "collapsed": true
	   },
	   "outputs": [],
"source": [
"//Fir low pass filter design by frequency sampling\n",
"z=%z;\n",
"N=10;\n",
"magHk=[1 1 1 0 0 0 0 0 1 1];\n",
"k=[0:7 -1 -2];\n",
"fik=-%pi*k'*(N-1)/N;\n",
"for i=1:length(fik)\n",
"    H1k(i)=magHk(i)*exp(%i*fik(i));\n",
"end\n",
"H1n=(dft(H1k,1));\n",
"H2k=H1k;\n",
"H2k(3)=0.5*%e^(-%i*1.8*%pi);\n",
"H2k(9)=0.5*%e^(%i*1.8*%pi);\n",
"H2n=(dft(H2k,1));\n",
"H1Z=0;H2Z=0;\n",
"for i=1:length(H1n)\n",
"    H1Z=H1Z+H1n(i)*z^(-i); \n",
"end\n",
"for i=1:length(H2n)\n",
"    H2Z=H2Z+H2n(i)*z^(-i); \n",
"end\n",
"F=0:0.01:1;\n",
"F1=0:0.1:0.9;\n",
"H1F=abs(horner(H1Z,exp(%i*2*%pi*F')));\n",
"H2F=abs(horner(H2Z,exp(%i*2*%pi*F')));\n",
"a=gca();\n",
"plot2d(F1,magHk);\n",
"plot2d(F,H2F);\n",
"plot2d(F,H1F);\n",
"xlabel('Digital Frequency F');\n",
"ylabel('magnitude');\n",
"xtitle('Low pass filter using frequency sampling');"
   ]
   }
,
{
		   "cell_type": "markdown",
		   "metadata": {},
		   "source": [
			"## Example 10.5b: Design_by_Frequency_Sampling.sce"
		   ]
		  },
  {
"cell_type": "code",
	   "execution_count": null,
	   "metadata": {
	    "collapsed": true
	   },
	   "outputs": [],
"source": [
"//Fir high pass filter design by frequency sampling\n",
"z=%z;\n",
"N=10;\n",
"magHk=[0 0 0 1 1 1 1 1 0 0];\n",
"k=[0:5 -4:-1:-1];\n",
"fik=(-%pi*k'*(N-1)/N)+(0.5*%pi);\n",
"for i=1:length(fik)\n",
"    H1k(i)=magHk(i)*exp(%i*fik(i));\n",
"end\n",
"H1n=(dft(H1k,1));\n",
"H2k=H1k;\n",
"H2k(3)=0.5*%e^(-%i*1.3*%pi);\n",
"H2k(9)=0.5*%e^(%i*1.3*%pi);\n",
"H2n=(dft(H2k,1));\n",
"H1Z=0;H2Z=0;\n",
"for i=1:length(H1n)\n",
"    H1Z=H1Z+H1n(i)*z^(-i); \n",
"end\n",
"for i=1:length(H2n)\n",
"    H2Z=H2Z+H2n(i)*z^(-i); \n",
"end\n",
"F=0:0.01:1;\n",
"F1=0:0.1:0.9;\n",
"H1F=abs(horner(H1Z,exp(%i*2*%pi*F')));\n",
"H2F=abs(horner(H2Z,exp(%i*2*%pi*F')));\n",
"a=gca();\n",
"plot2d(F1,magHk);\n",
"plot2d(F,H2F);\n",
"plot2d(F,H1F);\n",
"xlabel('Digital Frequency F');\n",
"ylabel('magnitude');\n",
"xtitle('Low pass filter using frequency sampling');"
   ]
   }
,
{
		   "cell_type": "markdown",
		   "metadata": {},
		   "source": [
			"## Example 10.6a: Optimal_FIR_Bandstop_Filter_Design.sce"
		   ]
		  },
  {
"cell_type": "code",
	   "execution_count": null,
	   "metadata": {
	    "collapsed": true
	   },
	   "outputs": [],
"source": [
"//optimal Fir band stop filter design\n",
"fp1=1;fp2=4;fs1=2;fs2=3;\n",
"Ap=1;As=50;S=10;\n",
"Fp1=fp1/S;Fp2=fp2/S;Fs1=fs1/S;Fs2=fs2/S;\n",
"FT=0.1;FC=0.25\n",
"//calculation of filter length\n",
"delp=(10^(Ap/20)-1)/(10^(Ap/20)+1);\n",
"dels=10^(-As/20);\n",
"N=1+((-10*log10(delp*dels)-13)/(14.6*FT))\n",
"N1=21;\n",
"[hn]=eqfir(N1,[0 0.1;0.2 0.3;0.4 0.5],[1 0 1],[1 1 1]);\n",
"[HF,fr]=frmag(hn,512);\n",
"Hf=20*log10(HF);\n",
"a=gca();\n",
"plot(fr,Hf);\n",
"xlabel('Digital frequency F');\n",
"ylabel('Magnitude in dB');\n",
"xtitle('optimal BSF:N=21;Ap=0.2225;As=56.79dB');"
   ]
   }
,
{
		   "cell_type": "markdown",
		   "metadata": {},
		   "source": [
			"## Example 10.6b: Optimal_Half_Band_Filter_Design.sce"
		   ]
		  },
  {
"cell_type": "code",
	   "execution_count": null,
	   "metadata": {
	    "collapsed": true
	   },
	   "outputs": [],
"source": [
"//optimal Fir band pass filter design\n",
"fp=8;fs=16;\n",
"Ap=1;As=50;S=48;\n",
"Fp=fp/S;Fs=fs/S;\n",
"FT=0.1;FC=0.25\n",
"//calculation of filter length\n",
"delp=(10^(Ap/20)-1)/(10^(Ap/20)+1);\n",
"dels=10^(-As/20);\n",
"del=min(delp,dels);\n",
"N=1+((-10*log10(del*del)-13)/(14.6*FT));\n",
"N1=19;\n",
"[hn]=eqfir(N1,[0 1/6;1/3 0.5],[1 0],[1 1]);\n",
"[HF,fr]=frmag(hn,200);\n",
"Hf=20*log10(HF);\n",
"a=gca();\n",
"plot(fr,Hf);\n",
"xlabel('Digital frequency F');\n",
"ylabel('Magnitude in dB');\n",
"xtitle('optimal Half band LPF N=17');"
   ]
   }
,
{
		   "cell_type": "markdown",
		   "metadata": {},
		   "source": [
			"## Example 10.7: Multistage_Interpolation.sce"
		   ]
		  },
  {
"cell_type": "code",
	   "execution_count": null,
	   "metadata": {
	    "collapsed": true
	   },
	   "outputs": [],
"source": [
"//The concept of multistage Interpolation\n",
"//(a)Single stage interpolator\n",
"Sin=4;Sout=48;\n",
"fp=1.8;\n",
"fs=Sin-fp;\n",
"FT=(fs-fp)/Sout;\n",
"disp('By using single stage the total filter length is:')  \n",
"L=4/FT\n",
"//(b)Two-stage interpolator\n",
"Sin=[4 12];\n",
"I=[3 4];//interpolating factors\n",
"Sout=[12 48];\n",
"fp=[1.8 1.8];\n",
"fs=Sin-fp;\n",
"L1=4*Sout./(fs-fp);\n",
"L=0;\n",
"for i=1:length(L1)\n",
"    L=L+L1(i);\n",
"end\n",
"disp('By using 2 stage interpolator filter length is:')\n",
"ceil(L)\n",
"//(c)3 stage interpolator with I1=2;I2=3;I3=2\n",
"Sin=[4 8 24];\n",
"I=[2 3 2];\n",
"Sout=[8 24 48];\n",
"fp=[1.8 1.8 1.8];\n",
"fs=Sin-fp;\n",
"L2=4*Sout./(fs-fp);L=0;\n",
"for i=1:length(L2)\n",
"    L=L+L2(i);\n",
"end\n",
"disp('By using 3 stage interpolator filter length is:')\n",
"ceil(L)\n",
"//(d)3 stage interpolator with I1=2;I2=3;I3=2\n",
"Sin=[4 12 24];\n",
"I=[3 2 2];\n",
"Sout=[12 24 48];\n",
"fp=[1.8 1.8 1.8];\n",
"fs=Sin-fp;\n",
"L3=4*Sout./(fs-fp);L=0;\n",
"for i=1:length(L3)\n",
"    L=L+L3(i);\n",
"end\n",
"disp('By using 2 stage interpolator filter length is:')\n",
"ceil(L)"
   ]
   }
,
{
		   "cell_type": "markdown",
		   "metadata": {},
		   "source": [
			"## Example 10.8: Design_of_Interpolating_Filters.sce"
		   ]
		  },
  {
"cell_type": "code",
	   "execution_count": null,
	   "metadata": {
	    "collapsed": true
	   },
	   "outputs": [],
"source": [
"//Design of interpolating filters\n",
"//(a)Design using a single stage interpolator\n",
"fp=1.8;Sout=48;Sin=4;\n",
"Ap=0.6;As=50;\n",
"fs=Sin-fp;\n",
"//finding ripple parameters\n",
"delp=(10^(Ap/20)-1)/(10^(Ap/20)+1);\n",
"dels=10^(-As/20);\n",
"N=Sout*(-10*log10(delp*dels)-13)/(14.6*(fs-fp))+1;\n",
"disp('By using single stage interpolator the filter design is:');\n",
"ceil(N)\n",
"//Design using 3-stage interpolator with I1=2;I2=3;I3=2\n",
"Ap=0.2;\n",
"Sin=[4 8 24];\n",
"Sout=[8 24 48];\n",
"fp=[1.8 1.8 1.8];\n",
"fs=Sin-fp;\n",
"delp=(10^(Ap/20)-1)/(10^(Ap/20)+1);\n",
"dels=10^(-As/20);\n",
"p=14.6*(fs-fp);\n",
"N1=((-10*log10(delp*dels)-13)./p);\n",
"N1=(Sout.*N1)+1;N=0;\n",
"for i=1:length(N1)\n",
"    N=N+N1(i);\n",
"end\n",
"disp('By using single stage interpolator the filter design is:');\n",
"ceil(N)"
   ]
   }
,
{
		   "cell_type": "markdown",
		   "metadata": {},
		   "source": [
			"## Example 10.9: Multistage_Decimatio.sce"
		   ]
		  },
  {
"cell_type": "code",
	   "execution_count": null,
	   "metadata": {
	    "collapsed": true
	   },
	   "outputs": [],
"source": [
"//The concept of multistage Decimation\n",
"//(a)Single stage decimator\n",
"Sin=48;Sout=4;\n",
"fp=1.8;\n",
"fs=Sout-fp;\n",
"FT=(fs-fp)/Sin;\n",
"disp('By using single stage the total filter length is:')  \n",
"L=4/FT\n",
"//(b)Two-stage decimator\n",
"Sin=[48 12];\n",
"D=[4 3];//decimating factors\n",
"Sout=[12 4];\n",
"fp=[1.8 1.8];\n",
"fs=Sout-fp;\n",
"L1=4*Sin./(fs-fp);\n",
"L=0;\n",
"for i=1:length(L1)\n",
"    L=L+L1(i);\n",
"end\n",
"disp('By using 2 stage decimator filter length is:')\n",
"ceil(L)\n",
"//3 stage decimator with D1=2;D2=3;D3=2\n",
"Sin=[48 24 8];\n",
"D=[2 3 2];\n",
"Sout=[24 8 4];\n",
"fp=[1.8 1.8 1.8];\n",
"fs=Sout-fp;\n",
"L2=4*Sin./(fs-fp);L=0;\n",
"for i=1:length(L2)\n",
"    L=L+L2(i);\n",
"end\n",
"disp('By using 3 stage decimator filter length is:')\n",
"ceil(L)\n",
"//3 stage decimator with I1=2;I2=3;I3=2\n",
"Sin=[48 24 12];\n",
"D=[2 2 3];\n",
"Sout=[24 12 4];\n",
"fp=[1.8 1.8 1.8];\n",
"fs=Sout-fp;\n",
"L3=4*Sin./(fs-fp);L=0;\n",
"for i=1:length(L3)\n",
"    L=L+L3(i);\n",
"end\n",
"disp('By using 3 stage decimator filter length is:')\n",
"ceil(L)"
   ]
   }
],
"metadata": {
		  "kernelspec": {
		   "display_name": "Scilab",
		   "language": "scilab",
		   "name": "scilab"
		  },
		  "language_info": {
		   "file_extension": ".sce",
		   "help_links": [
			{
			 "text": "MetaKernel Magics",
			 "url": "https://github.com/calysto/metakernel/blob/master/metakernel/magics/README.md"
			}
		   ],
		   "mimetype": "text/x-octave",
		   "name": "scilab",
		   "version": "0.7.1"
		  }
		 },
		 "nbformat": 4,
		 "nbformat_minor": 0
}
