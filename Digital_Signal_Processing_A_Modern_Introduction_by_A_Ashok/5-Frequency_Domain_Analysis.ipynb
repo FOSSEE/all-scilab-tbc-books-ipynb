{
"cells": [
 {
		   "cell_type": "markdown",
	   "metadata": {},
	   "source": [
       "# Chapter 5: Frequency Domain Analysis"
	   ]
	},
{
		   "cell_type": "markdown",
		   "metadata": {},
		   "source": [
			"## Example 5.10a: System_Representation_in_various_forms.sce"
		   ]
		  },
  {
"cell_type": "code",
	   "execution_count": null,
	   "metadata": {
	    "collapsed": true
	   },
	   "outputs": [],
"source": [
"//System Representation in various forms\n",
"a=0.8;b=2;\n",
"n=0:50;\n",
"h=b*(a^n);\n",
"//Discrete-Time Fourier transform\n",
"K=500;\n",
"k=0:1:K;\n",
"w=%pi*k/K;\n",
"H=h*exp(-%i*n'*w);\n",
"//caluculation of phase and magnitude of h(z)\n",
"[phase_H,m]=phasemag(H);\n",
"H=abs(H);\n",
"subplot(2,1,1);\n",
"plot2d(w/%pi,H);\n",
"xlabel('Frequency in radians')\n",
"ylabel('abs(H)')\n",
"title('magnitude Response')\n",
"subplot(2,1,2)\n",
"plot2d(w/%pi,phase_H)\n",
"xlabel('Frequency in Radians');\n",
"ylabel('<(H)')\n",
"title('Phase Response')"
   ]
   }
,
{
		   "cell_type": "markdown",
		   "metadata": {},
		   "source": [
			"## Example 5.10b: System_Representation_in_various_forms.sce"
		   ]
		  },
  {
"cell_type": "code",
	   "execution_count": null,
	   "metadata": {
	    "collapsed": true
	   },
	   "outputs": [],
"source": [
"//System Representation in various forms\n",
"a=0.6;b=1;\n",
"n=0:50;\n",
"h=b*(a^n);\n",
"//Discrete-Time Fourier transform\n",
"K=500;\n",
"k=0:1:K;\n",
"w=%pi*k/K;\n",
"H=h*exp(-%i*n'*w);\n",
"//caluculation of phase and magnitude of h(z)\n",
"[phase_H,m]=phasemag(H);\n",
"H=abs(H);\n",
"subplot(2,1,1);\n",
"plot2d(w/%pi,H);\n",
"xlabel('Frequency in radians')\n",
"ylabel('abs(H)')\n",
"title('magnitude Response')\n",
"subplot(2,1,2)\n",
"plot2d(w/%pi,phase_H)\n",
"xlabel('Frequency in Radians');\n",
"ylabel('<(H)')\n",
"title('Phase Response')"
   ]
   }
,
{
		   "cell_type": "markdown",
		   "metadata": {},
		   "source": [
			"## Example 5.1c: DTFT_from_Defining_Relation.sce"
		   ]
		  },
  {
"cell_type": "code",
	   "execution_count": null,
	   "metadata": {
	    "collapsed": true
	   },
	   "outputs": [],
"source": [
"//DTFT of x[n]=(a)^n*u[n]\n",
"clear;\n",
"clc;close;\n",
"//DTS signal\n",
"a1=0.5;\n",
"a2=-0.5;\n",
"max_limit=10;\n",
"for n=0:max_limit-1\n",
"  x1(n+1)=(a1^n);\n",
"  x2(n+1)=(a2^n);\n",
"end\n",
"n=0:max_limit-1;\n",
"//discrete time fourier transform\n",
"wmax=2*%pi;\n",
"K=4;\n",
"k=0:(K/1000):K;\n",
"W=k*wmax/K;\n",
"x1=x1'\n",
"x2=x2'\n",
"XW1=x1*exp(%i*n'*W);\n",
"XW2=x2*exp(%i*n'*W);\n",
"XW1_Mag=abs(XW1);\n",
"XW2_Mag=abs(XW2);\n",
"W=[-mtlb_fliplr(W),W(2:1001)];//omega form\n",
"XW1_Mag=[mtlb_fliplr(XW1_Mag),XW1_Mag(2:1001)];\n",
"XW2_Mag=[mtlb_fliplr(XW2_Mag),XW2_Mag(2:1001)];\n",
"[XW1_phase,db]=phasemag(XW1);\n",
"[XW2_phase,db]=phasemag(XW2);\n",
"XW1_phase=[-mtlb_fliplr(XW1_phase),XW1_phase(2:1001)];\n",
"XW2_phase=[-mtlb_fliplr(XW2_phase),XW2_phase(2:1001)];\n",
"\n",
"//plot for a>0\n",
"figure\n",
"subplot(3,1,1);\n",
"plot2d3('gnn',n,x1)\n",
"xtitle('Discrete time sequencex[n] a>0')\n",
"subplot(3,1,2);\n",
"a=gca();\n",
"a.y_location='origin';\n",
"a.x_location='origin';\n",
"plot2d3(W,XW1_Mag);\n",
"title('magnitude Response abs(exp(jw))')\n",
"subplot(3,1,3);\n",
"a=gca();\n",
"a.y_location='origin';\n",
"a.x_location='origin';\n",
"plot2d(W,XW1_phase);\n",
"title('magnitude Response abs(exp(jw))')\n",
"//plot for a<0\n",
"figure\n",
"subplot(3,1,1);\n",
"plot2d3('gnn',n,x2);\n",
"xtitle('Discrete Time sequence x[n] for a>0')\n",
"subplot(3,1,2);\n",
"a=gca();\n",
"a.y_location='origin';\n",
"a.x_location='origin';\n",
"plot2d(W,XW2_Mag);\n",
"title('Magnitude Response abs(X(jw))')\n",
"subplot(3,1,3);\n",
"a=gca();\n",
"a.y_location='origin';\n",
"a.x_location='origin';\n",
"plot2d(W,XW2_phase);\n",
"title('phase Response<(X(jw))')"
   ]
   }
,
{
		   "cell_type": "markdown",
		   "metadata": {},
		   "source": [
			"## Example 5.3a: Some_DTFT_pairs_using_properties.sce"
		   ]
		  },
  {
"cell_type": "code",
	   "execution_count": null,
	   "metadata": {
	    "collapsed": true
	   },
	   "outputs": [],
"source": [
"//DTFT of x[n]=n*(a)^n*u[n]\n",
"clear;\n",
"clc;close;\n",
"//DTS signal\n",
"a1=0.5;\n",
"a2=-0.5;\n",
"max_limit=10;\n",
"for n=0:max_limit-1\n",
"  x1(n+1)=n*(a1^n);\n",
"  x2(n+1)=n*(a2^n);\n",
"end\n",
"n=0:max_limit-1;\n",
"//discrete time fourier transform\n",
"wmax=2*%pi;\n",
"K=4;\n",
"k=0:(K/1000):K;\n",
"W=k*wmax/K;\n",
"x1=x1';\n",
"x2=x2';\n",
"XW1=x1*exp(%i*n'*W);\n",
"XW2=x2*exp(%i*n'*W);\n",
"XW1_Mag=abs(XW1);\n",
"XW2_Mag=abs(XW2);\n",
"W=[-mtlb_fliplr(W),W(2:1001)];//omega form\n",
"XW1_Mag=[mtlb_fliplr(XW1_Mag),XW1_Mag(2:1001)];\n",
"XW2_Mag=[mtlb_fliplr(XW2_Mag),XW2_Mag(2:1001)];\n",
"[XW1_phase,db]=phasemag(XW1);\n",
"[XW2_phase,db]=phasemag(XW2);\n",
"XW1_phase=[-mtlb_fliplr(XW1_phase),XW1_phase(2:1001)];\n",
"XW2_phase=[-mtlb_fliplr(XW2_phase),XW2_phase(2:1001)];\n",
"\n",
"//plot for a>0\n",
"figure\n",
"subplot(3,1,1);\n",
"plot2d3('gnn',n,x1)\n",
"xtitle('Discrete time sequencex[n] a>0')\n",
"subplot(3,1,2);\n",
"a=gca();\n",
"a.y_location='origin';\n",
"a.x_location='origin';\n",
"plot2d3(W,XW1_Mag);\n",
"title('magnitude Response abs(exp(jw))')\n",
"subplot(3,1,3);\n",
"a=gca();\n",
"a.y_location='origin';\n",
"a.x_location='origin';\n",
"plot2d(W,XW1_phase);\n",
"title('magnitude Response abs(exp(jw))')\n",
"//plot for a<0\n",
"figure\n",
"subplot(3,1,1);\n",
"plot2d3('gnn',n,x2);\n",
"xtitle('Discrete Time sequence x[n] for a>0')\n",
"subplot(3,1,2);\n",
"a=gca();\n",
"a.y_location='origin';\n",
"a.x_location='origin';\n",
"plot2d(W,XW2_Mag);\n",
"title('Magnitude Response abs(X(jw))')\n",
"subplot(3,1,3);\n",
"a=gca();\n",
"a.y_location='origin';\n",
"a.x_location='origin';\n",
"plot2d(W,XW2_phase);\n",
"title('phase Response<(X(jw))')"
   ]
   }
,
{
		   "cell_type": "markdown",
		   "metadata": {},
		   "source": [
			"## Example 5.3b: Some_DTFT_pairs_using_properties.sce"
		   ]
		  },
  {
"cell_type": "code",
	   "execution_count": null,
	   "metadata": {
	    "collapsed": true
	   },
	   "outputs": [],
"source": [
"//DTFT of x[n]=n*(a)^n*u[n]\n",
"clear;\n",
"clc;close;\n",
"//DTS signal\n",
"a1=0.5;\n",
"a2=-0.5;\n",
"max_limit=10;\n",
"for n=0:max_limit-1\n",
"  x1(n+1)=(n+1)*(a1^n);\n",
"  x2(n+1)=(n+1)*(a2^n);\n",
"end\n",
"n=0:max_limit-1;\n",
"//discrete time fourier transform\n",
"wmax=2*%pi;\n",
"K=4;\n",
"k=0:(K/1000):K;\n",
"W=k*wmax/K;\n",
"x1=x1';\n",
"x2=x2';\n",
"XW1=x1*exp(%i*n'*W);\n",
"XW2=x2*exp(%i*n'*W);\n",
"XW1_Mag=abs(XW1);\n",
"XW2_Mag=abs(XW2);\n",
"W=[-mtlb_fliplr(W),W(2:1001)];//omega form\n",
"XW1_Mag=[mtlb_fliplr(XW1_Mag),XW1_Mag(2:1001)];\n",
"XW2_Mag=[mtlb_fliplr(XW2_Mag),XW2_Mag(2:1001)];\n",
"[XW1_phase,db]=phasemag(XW1);\n",
"[XW2_phase,db]=phasemag(XW2);\n",
"XW1_phase=[-mtlb_fliplr(XW1_phase),XW1_phase(2:1001)];\n",
"XW2_phase=[-mtlb_fliplr(XW2_phase),XW2_phase(2:1001)];\n",
"\n",
"//plot for a>0\n",
"figure\n",
"subplot(3,1,1);\n",
"plot2d3('gnn',n,x1)\n",
"xtitle('Discrete time sequencex[n] a>0')\n",
"subplot(3,1,2);\n",
"a=gca();\n",
"a.y_location='origin';\n",
"a.x_location='origin';\n",
"plot2d3(W,XW1_Mag);\n",
"title('magnitude Response abs(exp(jw))')\n",
"subplot(3,1,3);\n",
"a=gca();\n",
"a.y_location='origin';\n",
"a.x_location='origin';\n",
"plot2d(W,XW1_phase);\n",
"title('magnitude Response abs(exp(jw))')\n",
"//plot for a<0\n",
"figure\n",
"subplot(3,1,1);\n",
"plot2d3('gnn',n,x2);\n",
"xtitle('Discrete Time sequence x[n] for a>0')\n",
"subplot(3,1,2);\n",
"a=gca();\n",
"a.y_location='origin';\n",
"a.x_location='origin';\n",
"plot2d(W,XW2_Mag);\n",
"title('Magnitude Response abs(X(jw))')\n",
"subplot(3,1,3);\n",
"a=gca();\n",
"a.y_location='origin';\n",
"a.x_location='origin';\n",
"plot2d(W,XW2_phase);\n",
"title('phase Response<(X(jw))')"
   ]
   }
,
{
		   "cell_type": "markdown",
		   "metadata": {},
		   "source": [
			"## Example 5.3d: Some_DTFT_pairs_using_properties.sce"
		   ]
		  },
  {
"cell_type": "code",
	   "execution_count": null,
	   "metadata": {
	    "collapsed": true
	   },
	   "outputs": [],
"source": [
"//DTFT of x[n]=a^abs(n)\n",
"a=0.5;\n",
"n=-9:9;\n",
"x=a^abs(n);\n",
"//Discrete time Fourier Transform\n",
"k=0:(4/1000):4;\n",
"w=(2*%pi*k)/4;\n",
"xw=x*exp(%i*n'*w);\n",
"xw_mag=real(xw);\n",
"w=[-mtlb_fliplr(xw_mag),w(2:1001)];\n",
"xw_mag=[mtlb_fliplr(xw_mag),xw_mag(2:1001)];\n",
"figure\n",
"subplot(2,1,1);\n",
"a=gca();\n",
"a.x_location='origin';\n",
"a.y_location='origin';\n",
"plot2d3('gnn',n,x);\n",
"xtitle('discrete time sequence x[n]');\n",
"subplot(2,1,2);\n",
"a=gca();\n",
"a.x_location='origin';\n",
"a.y_location='origin';\n",
"plot2d(w,xw_mag);\n",
"title('discrete time fourier transform x(exp(jw))');"
   ]
   }
,
{
		   "cell_type": "markdown",
		   "metadata": {},
		   "source": [
			"## Example 5.3e: Some_DTFT_pairs_using_properties.sce"
		   ]
		  },
  {
"cell_type": "code",
	   "execution_count": null,
	   "metadata": {
	    "collapsed": true
	   },
	   "outputs": [],
"source": [
"//DTFT of x[n]=n*(a)^n*u[n]\n",
"clear;\n",
"clc;close;\n",
"//DTS signal\n",
"a1=0.5;\n",
"a2=-0.5;\n",
"max_limit=10;\n",
"for n=0:max_limit-1\n",
"  x1(n+1)=4*(a1^(n+3));\n",
"  x2(n+1)=4*(a2^(n+3));\n",
"end\n",
"n=0:max_limit-1;\n",
"//discrete time fourier transform\n",
"wmax=2*%pi;\n",
"K=4;\n",
"k=0:(K/1000):K;\n",
"W=k*wmax/K;\n",
"x1=x1';\n",
"x2=x2';\n",
"XW1=x1*exp(%i*n'*W);\n",
"XW2=x2*exp(%i*n'*W);\n",
"XW1_Mag=abs(XW1);\n",
"XW2_Mag=abs(XW2);\n",
"W=[-mtlb_fliplr(W),W(2:1001)];//omega form\n",
"XW1_Mag=[mtlb_fliplr(XW1_Mag),XW1_Mag(2:1001)];\n",
"XW2_Mag=[mtlb_fliplr(XW2_Mag),XW2_Mag(2:1001)];\n",
"[XW1_phase,db]=phasemag(XW1);\n",
"[XW2_phase,db]=phasemag(XW2);\n",
"XW1_phase=[-mtlb_fliplr(XW1_phase),XW1_phase(2:1001)];\n",
"XW2_phase=[-mtlb_fliplr(XW2_phase),XW2_phase(2:1001)];\n",
"\n",
"//plot for a>0\n",
"figure\n",
"subplot(3,1,1);\n",
"plot2d3('gnn',n,x1)\n",
"xtitle('Discrete time sequencex[n] a>0')\n",
"subplot(3,1,2);\n",
"a=gca();\n",
"a.y_location='origin';\n",
"a.x_location='origin';\n",
"plot2d3(W,XW1_Mag);\n",
"title('magnitude Response abs(exp(jw))')\n",
"subplot(3,1,3);\n",
"a=gca();\n",
"a.y_location='origin';\n",
"a.x_location='origin';\n",
"plot2d(W,XW1_phase);\n",
"title('magnitude Response abs(exp(jw))')\n",
"//plot for a<0\n",
"figure\n",
"subplot(3,1,1);\n",
"plot2d3('gnn',n,x2);\n",
"xtitle('Discrete Time sequence x[n] for a>0')\n",
"subplot(3,1,2);\n",
"a=gca();\n",
"a.y_location='origin';\n",
"a.x_location='origin';\n",
"plot2d(W,XW2_Mag);\n",
"title('Magnitude Response abs(X(jw))')\n",
"subplot(3,1,3);\n",
"a=gca();\n",
"a.y_location='origin';\n",
"a.x_location='origin';\n",
"plot2d(W,XW2_phase);\n",
"title('phase Response<(X(jw))')"
   ]
   }
,
{
		   "cell_type": "markdown",
		   "metadata": {},
		   "source": [
			"## Example 5.4: DTFT_of_periodic_Signals.sce"
		   ]
		  },
  {
"cell_type": "code",
	   "execution_count": null,
	   "metadata": {
	    "collapsed": true
	   },
	   "outputs": [],
"source": [
"//DTfT of periodic signals\n",
"x=[3 2 1 2];//one period of signal\n",
"n=0:3;\n",
"k=0:3;\n",
"x1=x*exp(%i*n'*2*k*%pi/4)\n",
"dtftx=abs(x1)\n",
"x=[3 2 1 2 3 2 1 2 3];\n",
"n=-4:4;\n",
"a=gca();\n",
"a.y_location='origin';\n",
"a.x_location='origin';\n",
"plot2d3('gnn',n,x);\n",
"xtitle('discrete periodic time signal');\n",
"x2=[dtftx dtftx 8];\n",
"a=gca();\n",
"xset('window',1);\n",
"a.x_location='origin';\n",
"a.y_location='origin';\n",
"plot2d3('gnn',n,x2);\n",
"xtitle('DTFT of discrete periodic signal');"
   ]
   }
,
{
		   "cell_type": "markdown",
		   "metadata": {},
		   "source": [
			"## Example 5.5: The_DFT.sce"
		   ]
		  },
  {
"cell_type": "code",
	   "execution_count": null,
	   "metadata": {
	    "collapsed": true
	   },
	   "outputs": [],
"source": [
"x=[1 0 2 0 3];//one period of signal\n",
"n=0:4;\n",
"k=0:4;\n",
"x1=x*exp(%i*n'*2*k*%pi/4)\n",
"DTFTx=abs(x1)\n",
"DFT=dft(x,-1)\n",
"DFS=DFT/5"
   ]
   }
,
{
		   "cell_type": "markdown",
		   "metadata": {},
		   "source": [
			"## Example 5.7: Frequency_Response_of_Recursive_Filter.sce"
		   ]
		  },
  {
"cell_type": "code",
	   "execution_count": null,
	   "metadata": {
	    "collapsed": true
	   },
	   "outputs": [],
"source": [
"a=0.5;b=1;\n",
"n=0:50;\n",
"h=b*(a^n);\n",
"//Discrete-Time Fourier transform\n",
"K=500;\n",
"k=-250:1:250;\n",
"w=%pi*k/K;\n",
"H=h*exp(-%i*n'*w);\n",
"//caluculation of phase and magnitude of h(z)\n",
"[phase_H,m]=phasemag(H);\n",
"H=abs(H);\n",
"a=gca();\n",
"subplot(2,1,1);\n",
"a.y_location='origin';\n",
"plot2d(w/%pi,H);\n",
"xlabel('Frequency in radians')\n",
"ylabel('abs(H)')\n",
"title('magnitude Response')\n",
"subplot(2,1,2);\n",
"a=gca();\n",
"a.x_location='origin';\n",
"a.y_location='origin';\n",
"plot2d(w/(2*%pi),phase_H)\n",
"xlabel('Frequency in Radians');\n",
"ylabel('<(H)')\n",
"title('Phase Response'))"
   ]
   }
,
{
		   "cell_type": "markdown",
		   "metadata": {},
		   "source": [
			"## Example 5.8a: The_DTFT_in_System_Analysis.sce"
		   ]
		  },
  {
"cell_type": "code",
	   "execution_count": null,
	   "metadata": {
	    "collapsed": true
	   },
	   "outputs": [],
"source": [
"//DTFT in system analysis\n",
"a=0.5;b=1;\n",
"n=0:50;\n",
"h=b*(a^n);\n",
"//Discrete-Time Fourier transform\n",
"K=500;\n",
"k=0:1:K;\n",
"w=%pi*k/K;\n",
"H=h*exp(-%i*n'*w);\n",
"//x[n] is given as (a)^n*u[n]\n",
"xw=h*exp(-%i*n'*w);\n",
"for i=1:501\n",
"    y(i)=H(i)*xw(i);\n",
"end\n",
"[phase_y,m]=phasemag(y);\n",
"y=real(y);\n",
"subplot(2,1,1)\n",
"plot2d(w/%pi,y);\n",
"xlabel('Frequency in radians')\n",
"ylabel('abs(y)')\n",
"title('magnitude Response')\n",
"subplot(2,1,2)\n",
"plot2d(w/%pi,phase_y)\n",
"xlabel('Frequency in Radians');\n",
"ylabel('<(y)')\n",
"title('Phase Response')"
   ]
   }
,
{
		   "cell_type": "markdown",
		   "metadata": {},
		   "source": [
			"## Example 5.8b: The_DTFT_in_System_Analysis.sce"
		   ]
		  },
  {
"cell_type": "code",
	   "execution_count": null,
	   "metadata": {
	    "collapsed": true
	   },
	   "outputs": [],
"source": [
"a=0.5;b=1;\n",
"n=0:50;\n",
"h=4*(a^n);\n",
"//Discrete-Time Fourier transform\n",
"K=500;\n",
"k=0:1:K;\n",
"w=%pi*k/K;\n",
"H=h*exp(-%i*n'*w);\n",
"//x[n] is given as (a)^n*u[n]\n",
"x=4*[ones(1:51)];\n",
"xw=x*exp(%i*n'*w);\n",
"for i=1:501\n",
"    y(i)=H(i)*xw(i);\n",
"end\n",
"[phase_y,m]=phasemag(y);\n",
"y=real(y);\n",
"subplot(2,1,1);\n",
"plot2d(w/%pi,y);\n",
"xlabel('Frequency in radians')\n",
"ylabel('abs(y)')\n",
"title('magnitude Response')\n",
"subplot(2,1,2)\n",
"plot2d(w/%pi,phase_y)\n",
"xlabel('Frequency in Radians');\n",
"ylabel('<(y)')\n",
"title('Phase Response')"
   ]
   }
,
{
		   "cell_type": "markdown",
		   "metadata": {},
		   "source": [
			"## Example 5.9a: DTFT_and_steady_state_response.sce"
		   ]
		  },
  {
"cell_type": "code",
	   "execution_count": null,
	   "metadata": {
	    "collapsed": true
	   },
	   "outputs": [],
"source": [
"//DTFT and steady state response \n",
"a=0.5,b=1;F=0.25;\n",
"n=0:(5/1000):5;\n",
"h=(a^n);\n",
"x=10*cos(0.5*%pi*n'+%pi/3);\n",
"H=h*exp(-%i*n'*F);\n",
"Yss=H*x;\n",
"[phase_Yss,m]=phasemag(Yss);\n",
"Yss=real(Yss);\n",
"subplot(2,1,1)\n",
"plot2d(n,Yss);\n",
"xlabel('Frequency in radians')\n",
"ylabel('abs(Yss)')\n",
"title('magnitude Response')\n",
"subplot(2,1,2)\n",
"plot2d(n,phase_Yss)\n",
"xlabel('Frequency in Radians');\n",
"ylabel('<(y)')\n",
"title('Phase Response')"
   ]
   }
,
{
		   "cell_type": "markdown",
		   "metadata": {},
		   "source": [
			"## Example 5.9b: DTFT_and_steady_state_response.sce"
		   ]
		  },
  {
"cell_type": "code",
	   "execution_count": null,
	   "metadata": {
	    "collapsed": true
	   },
	   "outputs": [],
"source": [
"//DTFT and steady state response \n",
"a=0.8,b=1;F=0;\n",
"n=0:50;\n",
"h=(a^n);\n",
"x=4*[ones(1:10)];\n",
"H=h*exp(-%i*n'*F)\n",
"Yss=H*x"
   ]
   }
],
"metadata": {
		  "kernelspec": {
		   "display_name": "Scilab",
		   "language": "scilab",
		   "name": "scilab"
		  },
		  "language_info": {
		   "file_extension": ".sce",
		   "help_links": [
			{
			 "text": "MetaKernel Magics",
			 "url": "https://github.com/calysto/metakernel/blob/master/metakernel/magics/README.md"
			}
		   ],
		   "mimetype": "text/x-octave",
		   "name": "scilab",
		   "version": "0.7.1"
		  }
		 },
		 "nbformat": 4,
		 "nbformat_minor": 0
}
