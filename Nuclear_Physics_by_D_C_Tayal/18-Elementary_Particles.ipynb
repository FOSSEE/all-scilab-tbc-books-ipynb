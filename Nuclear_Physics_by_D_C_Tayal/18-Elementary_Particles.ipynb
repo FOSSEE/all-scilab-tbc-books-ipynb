{
"cells": [
 {
		   "cell_type": "markdown",
	   "metadata": {},
	   "source": [
       "# Chapter 18: Elementary Particles"
	   ]
	},
{
		   "cell_type": "markdown",
		   "metadata": {},
		   "source": [
			"## Example 18.10: Estimation_of_the_mean_life_of_tau_plus.sce"
		   ]
		  },
  {
"cell_type": "code",
	   "execution_count": null,
	   "metadata": {
	    "collapsed": true
	   },
	   "outputs": [],
"source": [
"// Scilab code Exa18.10 : : Page-767 (2011)\n",
"clc; clear;\n",
"m_mew = 106;        // Mass of mew lepton, mega electron volts per square c\n",
"m_tau = 1784;       // Mass of tau lepton, mega electron volts per square c\n",
"tau_mew = 2.2e-06;    // Mean life of mew lepton, sec\n",
"R = 16/100;           // Branching factor\n",
"tau_plus = R*(m_mew/m_tau)^5*tau_mew;        // Mean life for tau plus, sec\n",
"printf('\nThe mean life for tau plus : %3.1e sec', tau_plus);\n",
"// Result\n",
"// The mean life for tau plus : 2.6e-013 sec "
   ]
   }
,
{
		   "cell_type": "markdown",
		   "metadata": {},
		   "source": [
			"## Example 18.13: Possible_electric_charge_for_a_baryon_and_a_meson.sce"
		   ]
		  },
  {
"cell_type": "code",
	   "execution_count": null,
	   "metadata": {
	    "collapsed": true
	   },
	   "outputs": [],
"source": [
"// Scilab code Exa18.13 : : Page-768(2011)\n",
"clc; clear;\n",
"function s = symbol(val)\n",
"    if val == 2 then\n",
"        s = '++';\n",
"    elseif val == 1 then\n",
"        s = '+';\n",
"    elseif val == 0 then\n",
"        s = '0';\n",
"    elseif val == -1 then\n",
"        s = '-';\n",
"    end\n",
"endfunction\n",
"B = 1;         // Baryon number\n",
"S = 0;        // Strangeness quantum number\n",
"Q = rand(1,4)    // Charge\n",
"I3 = 3/2; \n",
"printf('\nThe possible charge states are');\n",
"for i = 0:1:3\n",
"    Q = I3+(B+S)/2;\n",
"    sym = symbol(Q);\n",
"    printf(' %s', sym);\n",
"    I3 = I3 - 1;\n",
"end\n",
"printf(' respectively');\n",
"// Result\n",
"// The possible charge states are ++ + 0 - respectively "
   ]
   }
,
{
		   "cell_type": "markdown",
		   "metadata": {},
		   "source": [
			"## Example 18.15: Branching_ratio_for_resonant_decay.sce"
		   ]
		  },
  {
"cell_type": "code",
	   "execution_count": null,
	   "metadata": {
	    "collapsed": true
	   },
	   "outputs": [],
"source": [
"// Scilab code Exa18.15 : : Page-768 (2011)\n",
"clc; clear;\n",
"I_1 = 3/2;         // Isospin for delta(1232)\n",
"I_2 = 1/2;         // Isospin for delta 0\n",
"delta_ratio = sqrt((2/3)^2)/sqrt((1/3)^2);        // Branching ratio\n",
"printf('\nThe branching ratio for a resonance with I = 1/2 is %d', delta_ratio);\n",
"// Result\n",
"// The branching ratio for a resonance with I = 1/2 is 2 "
   ]
   }
,
{
		   "cell_type": "markdown",
		   "metadata": {},
		   "source": [
			"## Example 18.16: Ratio_of_cross_section_for_reactions.sce"
		   ]
		  },
  {
"cell_type": "code",
	   "execution_count": null,
	   "metadata": {
	    "collapsed": true
	   },
	   "outputs": [],
"source": [
"// Scilab code Exa18.16 : : Page-768 (2011)\n",
"clc; clear;\n",
"phi = 45*%pi/180;        // Phase difference\n",
"Cross_sec_ratio = 1/4*(5+4*cos(phi))/(1-cos(phi));        // Cross section ratio\n",
"printf('\nThe cross section ratio : %4.2f', Cross_sec_ratio);\n",
"// Result"
   ]
   }
,
{
		   "cell_type": "markdown",
		   "metadata": {},
		   "source": [
			"## Example 18.18: Root_mean_square_radius_of_charge_distribution.sce"
		   ]
		  },
  {
"cell_type": "code",
	   "execution_count": null,
	   "metadata": {
	    "collapsed": true
	   },
	   "outputs": [],
"source": [
"// Scilab code Exa18.18 : : Page-770 (2011)\n",
"clc; clear; \n",
"m_sqr = 0.71;        // For proton, (GeV/c-square)^2\n",
"R_rms = sqrt(12)/(sqrt(m_sqr)*5.1);    // Root mean square radius, femto metre\n",
"printf('\nThe root mean square radius of charge distribution: %4.2f fermi', R_rms);\n",
"// Result\n",
"// The root mean square radius of charge distribution: 0.81 fermi "
   ]
   }
,
{
		   "cell_type": "markdown",
		   "metadata": {},
		   "source": [
			"## Example 18.1: Root_mean_square_radius_of_charge_distribution.sce"
		   ]
		  },
  {
"cell_type": "code",
	   "execution_count": null,
	   "metadata": {
	    "collapsed": true
	   },
	   "outputs": [],
"source": [
"// Scilab code Exa18.1 : : Page-770 (2011)\n",
"clc; clear; \n",
"m_sqr = 0.71;        // For proton, (GeV/c-square)^2\n",
"R_rms = sqrt(12)/(sqrt(m_sqr)*5.1);    // Root mean square radius, femto metre\n",
"printf('\nThe root mean square radius of charge distribution: %4.2f fermi', R_rms);\n",
"// Result\n",
"// The root mean square radius of charge distribution: 0.81 fermi "
   ]
   }
,
{
		   "cell_type": "markdown",
		   "metadata": {},
		   "source": [
			"## Example 18.3: Isospin_of_the_strange_particles.sce"
		   ]
		  },
  {
"cell_type": "code",
	   "execution_count": null,
	   "metadata": {
	    "collapsed": true
	   },
	   "outputs": [],
"source": [
"// Scilab code Ex18.3 : : Page-763 (2011)\n",
"clc; clear;\n",
"p = rand(1,2);             // proton\n",
"pi_minus = rand(1,2);      //pi minus meson\n",
"pi_plus = rand(1,2);       // pi plus meson\n",
"n = rand(1,2);             // neutron\n",
"lamda_0 = rand(1,2);       // lamda hyperon\n",
"K_0 = rand(1,2);           // K zero (Kaons)\n",
"K_plus = rand(1,2);        // K plus (Kaons)\n",
"sigma_plus = rand(1,2);    // hyperon \n",
"sigma_minus = rand(1,2)    // hyperon\n",
"ksi_minus = rand(1,2);     // hyperon\n",
"// Allocate the value of Isospins (T and T3)\n",
"p(1,1) = 1/2;\n",
"p(1,2) = 1/2;\n",
"pi_minus(1,1) = 1;\n",
"pi_minus(1,2) = -1;\n",
"pi_plus(1,1) = 1;\n",
"pi_plus(1,2) = +1;\n",
"n(1,1) = 1/2;\n",
"n(1,2) = -1/2;\n",
"lambda_0(1,1) = 0;\n",
"lambda_0(1,2) = 0;\n",
"K_0(1,1) = pi_minus(1,1)+p(1,1);\n",
"K_0(1,2) = pi_minus(1,2)+p(1,2) ;\n",
"K_plus(1,1) = p(1,1)+p(1,1)-lambda_0(1,1)-p(1,1);\n",
"K_plus(1,2) = p(1,2)+p(1,2)-lambda_0(1,2)-p(1,2) ;\n",
"sigma_plus(1,1) = pi_plus(1,1)+p(1,1)-K_plus(1,1);\n",
"sigma_plus(1,2) =  pi_plus(1,2)+p(1,2)-K_plus(1,2);\n",
"sigma_minus(1,1) =  pi_minus(1,1)+p(1,1)-K_plus(1,1);\n",
"sigma_minus(1,2) =  pi_minus(1,2)+p(1,2)-K_plus(1,2);\n",
"ksi_minus(1,1) = pi_plus(1,1)+n(1,1)-K_plus(1,1)-K_plus(1,1);\n",
"ksi_minus(1,2) = pi_plus(1,2)+n(1,2)-K_plus(1,2)-K_plus(1,2);\n",
"printf('\n  Reaction I \n         pi_minus + p ......> lambda_0  + K_0');\n",
"printf('\n The value of T for K_0 is : %3.1f ',K_0(1,1));\n",
"printf('\n The value of T3 for K_0 is : %3.1f ',K_0(1,2));\n",
"printf('\n  Reaction II \n         pi_plus + p -> lambda_0  + K_plus');\n",
"printf('\n The value of T for K_plus is : %3.1f ',K_plus(1,1));\n",
"printf('\n The value of T3 for K_plus is : %3.1f ',K_plus(1,2));\n",
"printf('\n  Reaction III \n         pi_plus + n -> lambda_0 + K_plus');\n",
"printf('\n The value of T for K_plus is : %3.1f ',K_plus(1,1));\n",
"printf('\n The value of T3 for K_plus is : %3.1f ',K_plus(1,2));\n",
"printf('\n  Reaction VI \n         pi_minus + p -> sigma_minus  + K_plus');\n",
"printf('\n The value of T for sigma_minus is : %3.1f ',sigma_minus(1,1));\n",
"printf('\n The value of T3 for sigma_minus is : %3.1f ',sigma_minus(1,2));\n",
"printf('\n  Reaction V \n         pi_plus + p -> sigma_plus  + K_plus');\n",
"printf('\n The value of T for sigma_plus is : %3.1f ',sigma_plus(1,1));\n",
"printf('\n The value of T3 for sigma_plus is : %3.1f ',sigma_plus(1,2));\n",
"printf('\n  Reaction VI \n         pi_plus + n -> ksi_minus  + K_plus + K_plus');\n",
"printf('\n The value of T for Ksi_minus is : %3.1f ',ksi_minus(1,1));\n",
"printf('\n The value of T3 for Ksi_minus is : %3.1f ',ksi_minus(1,2));\n",
"// Result\n",
"//  \n",
"//  Reaction I \n",
"//         pi_minus + p -> lambda_0  + K_0\n",
"// The value of T for K_0 is : 1.5 \n",
"// The value of T3 for K_0 is : -0.5 \n",
"//  Reaction II \n",
"//         pi_plus + p -> lambda_0  + K_plus\n",
"// The value of T for K_plus is : 0.5 \n",
"// The value of T3 for K_plus is : 0.5 \n",
"//  Reaction III \n",
"//         pi_plus + n -> lambda_0  + K_plus\n",
"// The value of T for K_plus is : 0.5 \n",
"// The value of T3 for K_plus is : 0.5 \n",
"//  Reaction VI \n",
" //        pi_minus + p -> sigma_minus  + K_plus\n",
"// The value of T for sigma_minus is : 1.0 \n",
"// The value of T3 for sigma_minus is : -1.0 \n",
"//  Reaction V \n",
"//         pi_plus + p -> sigma_plus  + K_plus\n",
"// The value of T for sigma_plus is : 1.0 \n",
"// The value of T3 for sigma_plus is : 1.0 \n",
"//  Reaction VI \n",
" //        pi_plus + n -> ksi_minus  + K_plus + K_plus\n",
"// The value of T for Ksi_minus is : 0.5 \n",
"// The value of T3 for Ksi_minus is : -0.5  "
   ]
   }
,
{
		   "cell_type": "markdown",
		   "metadata": {},
		   "source": [
			"## Example 18.4: Allowed_and_forbidden_reactions_under_conservation_laws.sce"
		   ]
		  },
  {
"cell_type": "code",
	   "execution_count": null,
	   "metadata": {
	    "collapsed": true
	   },
	   "outputs": [],
"source": [
"// Scilab code Exa18.4 : : Page-764 (2011)\n",
"clc;clear;\n",
"p = rand(1,3);            // proton\n",
"pi_minus = rand(1,3);     // pi minus meson\n",
"pi_plus = rand(1,3);      // pi plus meson\n",
"pi_0 = rand(1,3);         // pi zero meson\n",
"n = rand(1,3);            // neutron\n",
"lambda_0 = rand(1,3);     // lambda zero hyperon\n",
"K_0 = rand(1,3);          // k zero meson\n",
"K_plus = rand(1,3);       // k plus meson\n",
"K_0_bar = rand(1,3);      // anti particle of k zero\n",
"sigma_plus = rand(1,3);   // sigma hyperon\n",
"// Now in the following steps we allocated the value of charge(Q),baryon number(B) and strangeness number (S) \n",
"p(1,1) = 1;\n",
"p(1,2) = 1;\n",
"p(1,3) = 0;\n",
"pi_minus(1,1) = -1;\n",
"pi_minus(1,2) = 0;\n",
"pi_minus(1,3) = 0;\n",
"pi_plus(1,1) = 1;\n",
"pi_plus(1,2) = 0;\n",
"pi_plus(1,3) = 0;\n",
"n(1,1) = 0;\n",
"n(1,2) = 1;\n",
"n(1,3) = 0;\n",
"lambda_0(1,1) = 0;\n",
"lambda_0(1,2) = 1;\n",
"lambda_0(1,3) = -1;\n",
"K_0(1,1) =0 ;\n",
"K_0(1,2) = 0 ;\n",
"K_0(1,3) = 1;\n",
"K_plus(1,1) = 1;\n",
"K_plus(1,2) = 0 ;\n",
"K_plus(1,3) = 1;\n",
"sigma_plus(1,1) = 1;\n",
"sigma_plus(1,2) =  1;\n",
"sigma_plus(1,3) = -1;\n",
"K_0_bar(1,1) = 0;\n",
"K_0_bar(1,2) = 0;\n",
"K_0_bar(1,3) = -1;\n",
"pi_0(1,1)  = 0;\n",
"pi_0(1,2)  = 0;\n",
"pi_0(1,3)  = 0;\n",
"j = 0;\n",
"k = 0;\n",
"printf('\n  Reaction I \n         pi_plus + n ......> lambda_0 + K_plus')\n",
"for i = 1:3\n",
"    if pi_plus(1,i)+n(1,i) == lambda_0(1,i)+K_plus(1,i) then\n",
"     j = j+1;\n",
"    else\n",
"     printf('\n Reaction I is forbidden')\n",
"     if i == 1 then\n",
"         printf('\n Delta Q is not zero')\n",
"      elseif i == 2 then\n",
"         printf('\n Delta B is not zero')\n",
"        elseif i == 3 then\n",
"         printf('\n Delta S is not zero')\n",
"      end                  \n",
"   end       \n",
"end    \n",
"if j==3 then\n",
"    printf('\n Reaction I is allowed ');\n",
"   printf('\n Delta Q is zero \n Delta B is zero \n Delta S is zero')\n",
"end  \n",
"printf('\n  Reaction II \n         pi_plus + n ......> K_0 + K_plus')\n",
"j = 0;\n",
"for i = 1:3\n",
"    if pi_plus(1,i)+n(1,i) == K_0(1,i)+K_plus(1,i) then\n",
"     j = j+1;\n",
"    else\n",
"     printf('\n Reaction II is forbidden')\n",
"     if i == 1 then\n",
"         printf('\n Delta Q is not zero')\n",
"      elseif i == 2 then\n",
"         printf('\n Delta B is not zero')\n",
"        elseif i == 3 then\n",
"         printf('\n Delta S is not zero')\n",
"      end                  \n",
"   end       \n",
"end    \n",
"if j==3 then\n",
"    printf('\n Reaction II is allowed ');\n",
"   printf('\n Delta Q is zero \n Delta B is zero \n Delta S is zero')\n",
"end  \n",
"j = 0;\n",
"printf('\n  Reaction III \n         pi_plus + n ......> K_0_bar + sumison_plus')\n",
"for i = 1:3\n",
"    if pi_plus(1,i)+n(1,i) == K_0_bar(1,i)+sigma_plus(1,i) then\n",
"     j = j+1;\n",
"    else\n",
"     printf('\n Reaction III is forbidden')\n",
"     if i == 1 then\n",
"         printf('\n Delta Q is not zero')\n",
"      elseif i == 2 then\n",
"         printf('\n Delta B is not zero')\n",
"        elseif i == 3 then\n",
"         printf('\n Delta S is not zero')\n",
"      end                  \n",
"   end       \n",
"end    \n",
"if j==3 then\n",
"    printf('\n Reaction III is allowed ');\n",
"   printf('\n Delta Q is zero \n Delta B is zero \n Delta S is zero')\n",
"end  \n",
"j = 0;\n",
"printf('\n  Reaction IV \n         pi_plus + n ......> pi_minus  + p')\n",
"for i = 1:3\n",
"    if pi_plus(1,i)+n(1,i) == pi_minus(1,i)+p(1,i) then\n",
"     j = j+1;\n",
"    else\n",
"     printf('\n Reaction IV is forbidden')\n",
"     if i == 1 then\n",
"         printf('\n Delta Q is not zero')\n",
"      elseif i == 2 then\n",
"         printf('\n Delta B is not zero')\n",
"        elseif i == 3 then\n",
"         printf('\n Delta S is not zero')\n",
"      end                  \n",
"   end       \n",
"end    \n",
"if j==3 then\n",
"    printf('\n Reaction IV is allowed ');\n",
"   printf('\n Delta Q is zero \n Delta B is zero \n Delta S is zero')\n",
"end  \n",
"j = 0;\n",
"printf('\n  Reaction V \n         pi_minus + p ......> lambda_0  + K_0')\n",
"for i = 1:3\n",
"    if pi_minus(1,i)+p(1,i) == lambda_0(1,i)+K_0(1,i) then\n",
"     j = j+1;\n",
"    else\n",
"     printf('\n Reaction V is forbidden')\n",
"     if i == 1 then\n",
"         printf('\n Delta Q is not zero')\n",
"      elseif i == 2 then\n",
"         printf('\n Delta B is not zero')\n",
"        elseif i == 3 then\n",
"         printf('\n Delta S is not zero')\n",
"      end                  \n",
"   end       \n",
"end    \n",
"if j==3 then\n",
"    printf('\n Reaction V is allowed ');\n",
"   printf('\n Delta Q is zero \n Delta B is zero \n Delta S is zero')\n",
"end  \n",
"j = 0;\n",
"printf('\n  Reaction VI \n         pi_plus + n ......> lambda_0  + K_plus')\n",
"for i = 1:3\n",
"    if pi_minus(1,i)+p(1,i) == pi_0(1,i)+lambda_0(1,i) then\n",
"     j = j+1;\n",
"    else\n",
"     printf('\n Reaction VI is forbidden')\n",
"     if i == 1 then\n",
"         printf('\n Delta Q is not zero');\n",
"      elseif i == 2 then\n",
"         printf('\n Delta B is not zero')\n",
"        elseif i == 3 then\n",
"         printf('\n Delta S is not zero')\n",
"      end                  \n",
"   end       \n",
"end    \n",
"if j==3 then\n",
"    printf('\n Reaction VI is allowed ');\n",
"   printf('\n Delta Q is zero \n Delta B is zero \n Delta S is zero');\n",
"end\n",
"  \n",
"// Result\n",
"// Reaction I \n",
" //        pi_plus +   n ......> lambda_0  + K_plus\n",
"// Reaction I is allowed \n",
"// Delta Q is zero \n",
"// Delta B is zero \n",
"// Delta S is zero\n",
"//  Reaction II \n",
" //        pi_plus +   n ......> K_0  + K_plus\n",
"//  Reaction II is forbidden\n",
"// Delta B is not zero\n",
"// Reaction II is forbidden\n",
"// Delta S is not zero\n",
"//  Reaction III \n",
"//         pi_plus +   n ......> K_0_bar  + sumison_plus\n",
"// Reaction III is forbidden\n",
"// Delta S is not zero\n",
"//  Reaction IV \n",
"//         pi_plus +   n ......> pi_minus  + p\n",
"// Reaction IV is forbidden\n",
"// Delta Q is not zero\n",
"//  Reaction V \n",
"//         pi_minus +   p ......> lambda_0  + K_0\n",
"// Reaction V is allowed \n",
"// Delta Q is zero \n",
"// Delta B is zero \n",
"// Delta S is zero\n",
"//  Reaction VI \n",
"//         pi_plus +   n ......> lambda_0  + K_plus\n",
"// Reaction VI is forbidden\n",
"// Delta S is not zero "
   ]
   }
,
{
		   "cell_type": "markdown",
		   "metadata": {},
		   "source": [
			"## Example 18.9: Decay_of_sigma_particle.sce"
		   ]
		  },
  {
"cell_type": "code",
	   "execution_count": null,
	   "metadata": {
	    "collapsed": true
	   },
	   "outputs": [],
"source": [
"// Scilab code Ex18.9 : : Page-766 (2011)\n",
"clc; clear;\n",
"h_cross = 6.62e-022;      // Redueced planck's constant, MeV sec\n",
"p_width = 0.88*35;        // Partial width of the decay, MeV    \n",
"tau = h_cross/p_width;    // Life time of sigma, sec    \n",
"T_pi = 1;                 // Isospin of pi plus particle  \n",
"T_lambda = 0;             // Isospin of lambda zero particle   \n",
"T_sigma  = T_pi+T_lambda; // Isospin of sigma particle   \n",
"printf('\nThe lifetime of sigma particle = %4.2e s\nThe reaction is strong\nThe isospin of sigma particle is : %d',tau, T_sigma);\n",
"// Result\n",
"// The lifetime of sigma particle = 2.15e-023 s\n",
"// The reaction is strong\n",
"// The isospin of sigma particle is : 1 "
   ]
   }
],
"metadata": {
		  "kernelspec": {
		   "display_name": "Scilab",
		   "language": "scilab",
		   "name": "scilab"
		  },
		  "language_info": {
		   "file_extension": ".sce",
		   "help_links": [
			{
			 "text": "MetaKernel Magics",
			 "url": "https://github.com/calysto/metakernel/blob/master/metakernel/magics/README.md"
			}
		   ],
		   "mimetype": "text/x-octave",
		   "name": "scilab",
		   "version": "0.7.1"
		  }
		 },
		 "nbformat": 4,
		 "nbformat_minor": 0
}
