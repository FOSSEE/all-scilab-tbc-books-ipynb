{
"cells": [
 {
		   "cell_type": "markdown",
	   "metadata": {},
	   "source": [
       "# Chapter 8: Beta Decay"
	   ]
	},
{
		   "cell_type": "markdown",
		   "metadata": {},
		   "source": [
			"## Example 6.8: Beta_decayed_particle_emission_of_Li8.sce"
		   ]
		  },
  {
"cell_type": "code",
	   "execution_count": null,
	   "metadata": {
	    "collapsed": true
	   },
	   "outputs": [],
"source": [
"// Scilab code Exa6.8: : Page-243 (2011)\n",
"clc; clear;\n",
"l = 2;    // Orbital angular momentum quantum number\n",
"P = (+1)^2*(-1)^l;    // Parity of the 2.9 MeV level in Be-8\n",
"M_Li = 7.0182;        // Mass of lithium, MeV\n",
"M_Be = 7.998876;        // Mass of beryllium, MeV\n",
"m_n = 1;                // Mass of neutron, MeV\n",
"E_th = (M_Li+m_n-M_Be)*931.5;    // Threshold energy, MeV\n",
"printf('\nThe parity of the 2.9 MeV level in be-8 = +%d \nThe threshold energy for lithium 7 neutron capture = %d MeV',P, E_th);\n",
"\n",
"// Result\n",
"// The parity of the 2.9 MeV level in be-8 = +1 \n",
"// The threshold energy for lithium 7 neutron capture = 18 MeV "
   ]
   }
,
{
		   "cell_type": "markdown",
		   "metadata": {},
		   "source": [
			"## Example 8.10: Kinetic_energy_of_the_two_interacting_nucleons_in_different_frames.sce"
		   ]
		  },
  {
"cell_type": "code",
	   "execution_count": null,
	   "metadata": {
	    "collapsed": true
	   },
	   "outputs": [],
"source": [
"// Scilab code Exa8.10 : : Page-352 (2011)\n",
"clc; clear;\n",
"r = 2e-015;          // Range of nuclear force, metre\n",
"h_kt = 1.0546e-34;   // Reduced value of Planck's constant, joule sec\n",
"m = 1.674e-27;       // Mass of each nucleon, Kg\n",
"K = round (2*h_kt^2/(2*m*r^2*1.6023e-13));        // Kinetic energy of each nucleon in centre of mass frame, mega electron volts\n",
"K_t = 2*K;        // Total kinetic energy, mega electron volts\n",
"K_inc = 2*K_t;    // Kinetic energy of the incident nucleon, mega electron volts\n",
"printf('\nThe kinetic energy of each nucleon = %d MeV\nThe total kinetic energy = %d MeV\nThe kinetic energy of the incident nucleon = %d MeV', K, K_t, K_inc);\n",
"// Result\n",
"// "
   ]
   }
,
{
		   "cell_type": "markdown",
		   "metadata": {},
		   "source": [
			"## Example 8.3: Neutron_and_proton_interacting_within_the_deuteron.sce"
		   ]
		  },
  {
"cell_type": "code",
	   "execution_count": null,
	   "metadata": {
	    "collapsed": true
	   },
	   "outputs": [],
"source": [
"// Scilab code Exa8.3 : : Page-349 (2011)\n",
"clc; clear;\n",
"b = 1.9e-15;        // Width of square well potential, metre\n",
"h_kt = 1.054571e-034;        // Reduced planck's constant, joule sec\n",
"c = 3e+08;                // Velocity of light, metre per sec\n",
"m_n = 1.67e-27;            // Mass of a nucleon , Kg\n",
"V_0 = 40*1.6e-13;            // Depth, metre\n",
"E_B = (V_0-(1/(m_n*c^2)*(%pi*h_kt*c/(2*b))^2))/1.6e-13;        // Binding energy, mega electron volts\n",
"alpha = sqrt(m_n*c^2*E_B*1.6e-13)/(h_kt*c);    // scattering co efficient, per metre\n",
"P = (1+1/(alpha*b))^-1;        // Probability\n",
"R_mean = sqrt (b^2/2*(1/3+4/%pi^2+2.5));    // Mean square radius, metre\n",
"printf('\nThe probability that the proton moves within the range of neutron = %4.2f \nThe mean square radius of the deuteron = %4.2e metre', P, R_mean);\n",
"// Result\n",
"// The probability that the proton moves within the range of neutron = 0.50 \n",
"// The mean square radius of the deuteron = 2.42e-015 metre "
   ]
   }
,
{
		   "cell_type": "markdown",
		   "metadata": {},
		   "source": [
			"## Example 8.5: Total_cross_section_for_np_scattering_at_neutron_energy.sce"
		   ]
		  },
  {
"cell_type": "code",
	   "execution_count": null,
	   "metadata": {
	    "collapsed": true
	   },
	   "outputs": [],
"source": [
"// Scilab code Exa8.5 : : Page-349 (2011)\n",
"clc; clear;\n",
"a_t = 5.38e-15;\n",
"a_s = -23.7e-15;\n",
"r_ot = 1.70e-15;\n",
"r_os = 2.40e-15;\n",
"m = 1.6748e-27;\n",
"E = 1.6e-13;\n",
"h_cut = 1.0549e-34;\n",
"K_sqr = m*E/h_cut^2;\n",
"sigma = 1/4*(3*4*%pi*a_t^2/(a_t^2*K_sqr+(1-1/2*K_sqr*a_t*r_ot)^2)+4*%pi*a_s^2/(a_s^2*K_sqr+(1-1/2*K_sqr*a_s*r_os)^2))*1e+028; // Total cross-section for n-p scattering, barn\n",
"printf('\nThe total cross section for n-p scattering = %5.3f barn', sigma);\n",
"// Result\n",
"// The total cross section for n-p scattering = 2.911 barn "
   ]
   }
,
{
		   "cell_type": "markdown",
		   "metadata": {},
		   "source": [
			"## Example 8.8: Possible_angular_momentum_states_for_the_deuterons_in_an_LS_coupling_scheme.sce"
		   ]
		  },
  {
"cell_type": "code",
	   "execution_count": null,
	   "metadata": {
	    "collapsed": true
	   },
	   "outputs": [],
"source": [
"// Scilab code Exa8.8 : : Page-351 (2011)\n",
"clc; clear;\n",
"S = 1;        // Spin angular momentum(s1+-s2), whereas s1 is the spin of proton and s2 is the spin of neutron.\n",
"m = 2*S+1;    // Spin multiplicity\n",
"j = 1;        // Total angular momentum\n",
"printf('\nThe possible angular momentum states with their parities are as follows : ');\n",
"        printf('\n         %dS%d has even parity ', m, j);\n",
"        printf('\n         %dP%d has odd parity ', m, j);\n",
"        printf('\n         %dD%d has even parity', m, j);   \n",
"S = 0;\n",
"m = 2*S+1\n",
"    printf('\n         %dP%d has odd parity ', m, j);\n",
"   \n",
"// Result \n",
"// The possible angular momentum states with their parities are as follows : \n",
"//         3S1 has even parity \n",
"//         3P1 has odd parity \n",
"//         3D1 has even parity\n",
"//         1P1 has odd parity  "
   ]
   }
,
{
		   "cell_type": "markdown",
		   "metadata": {},
		   "source": [
			"## Example 8.9: States_of_a_two_neutron_system_with_given_total_angular_momentum.sce"
		   ]
		  },
  {
"cell_type": "code",
	   "execution_count": null,
	   "metadata": {
	    "collapsed": true
	   },
	   "outputs": [],
"source": [
"// Scilab code Exa8.9 : : Page-351 (2011)\n",
"clc; clear;\n",
"printf('\nThe possible states are : ');\n",
"// For s = 0\n",
"s = 0;            // Spin angular momentum\n",
"m = 2*s+1;        // Spin multiplicity\n",
"for j = 0:2       // Total angular momentum\n",
"    l = j\n",
"    if l == 0 then\n",
"       printf('\n     %dS%d, ', j,m); \n",
"        elseif l == 2 then\n",
"       printf(' %dD%d, ', j,m); \n",
"    end\n",
"end\n",
"// For s = 1\n",
"s = 1;\n",
"m = 2*s+1;\n",
" l = 2\n",
"for j = 0:2   \n",
"    if j == 0 then\n",
"       printf(' %dP%d, ', j,m); \n",
"       elseif j ==1 then\n",
"       printf(' %dP%d, ', j,m);\n",
"        elseif j ==2 then\n",
"       printf('%dP%d and ', j,m); \n",
"    end\n",
"end\n",
"for j = 2\n",
"    printf(' %dF%d', j,m)\n",
"end\n",
"// Result\n",
"// Possible states are : \n",
"// The possible states are : \n",
"//     0S1,  2D1,  0P3,  1P3, 2P3 and  2F3 "
   ]
   }
],
"metadata": {
		  "kernelspec": {
		   "display_name": "Scilab",
		   "language": "scilab",
		   "name": "scilab"
		  },
		  "language_info": {
		   "file_extension": ".sce",
		   "help_links": [
			{
			 "text": "MetaKernel Magics",
			 "url": "https://github.com/calysto/metakernel/blob/master/metakernel/magics/README.md"
			}
		   ],
		   "mimetype": "text/x-octave",
		   "name": "scilab",
		   "version": "0.7.1"
		  }
		 },
		 "nbformat": 4,
		 "nbformat_minor": 0
}
