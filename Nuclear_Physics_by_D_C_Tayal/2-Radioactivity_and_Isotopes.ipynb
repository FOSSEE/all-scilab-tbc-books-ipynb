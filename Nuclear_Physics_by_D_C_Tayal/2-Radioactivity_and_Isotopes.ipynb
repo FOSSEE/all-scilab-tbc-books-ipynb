{
"cells": [
 {
		   "cell_type": "markdown",
	   "metadata": {},
	   "source": [
       "# Chapter 2: Radioactivity and Isotopes"
	   ]
	},
{
		   "cell_type": "markdown",
		   "metadata": {},
		   "source": [
			"## Example 2.10: Radioactive_disintegration_of_Bi.sce"
		   ]
		  },
  {
"cell_type": "code",
	   "execution_count": null,
	   "metadata": {
	    "collapsed": true
	   },
	   "outputs": [],
"source": [
"// Scilab code Exa2.10 : : Page 91 (2011)\n",
"clc; clear;\n",
"lambda_t = 0.693/(60.5*60);// Total decay constant, per sec\n",
"lambda_a = 0.34*lambda_t;// Decay constant for alpha_decay, per sec\n",
"lambda_b = 0.66*lambda_t;// Decay constant for beta_decay, per sec\n",
"printf('\nThe decay constant for total emission = %4.2e /sec', lambda_t);\n",
"printf('\nThe decay constant for beta_decay lambda_b = %4.2e /sec', lambda_b);\n",
"printf('\nThe decay constant for alpha_decay lambda_a = %4.2e /sec', lambda_a);\n",
"\n",
"// Result \n",
"// The decay constant for total emission = 1.91e-004 /sec\n",
"// The decay constant for beta_decay lambda_b = 1.26e-004 /sec\n",
"// The decay constant for alpha_decay lambda_a = 6.49e-005 /sec "
   ]
   }
,
{
		   "cell_type": "markdown",
		   "metadata": {},
		   "source": [
			"## Example 2.13: Half_life_of_Pu239.sce"
		   ]
		  },
  {
"cell_type": "code",
	   "execution_count": null,
	   "metadata": {
	    "collapsed": true
	   },
	   "outputs": [],
"source": [
"// Scilab code Exa2.13 :  : Page 93 (2011)\n",
"clc; clear;\n",
"M_A = 4;    // Mass of alpha particle, amu\n",
"M_U = 235;    //Mass of U-235, amu\n",
"M_P = 239;    // Mass of P-239, amu\n",
"Amount = 120.1;    // quantity of P-239, g\n",
"E_A = 5.144;    // Energy of emitting alpha particles, Mev\n",
"E_R = (2*M_A)/(2*M_U)*E_A;    // The recoil energy of U-235, Mev\n",
"E = E_R + E_A;    // The energy released per disintegration, Mev\n",
"P = 0.231;    // Evaporation rate, watt\n",
"D = P/(E*1.60218e-013);    // Disintegration rate, per sec\n",
"A = 6.022137e+023;    // Avagadro's number, atoms\n",
"N = Amount/M_P*A;    // Number of nuclei in 120.1g of P-239\n",
"T = 0.693/(D*3.15e+07)*N;    // Half life of Pu_239, years\n",
"printf('\nThe half life of Pu-239 = %3.2e years', T);\n",
"\n",
"// Result \n",
"// The half life of Pu-239 = 2.42e+004 years "
   ]
   }
,
{
		   "cell_type": "markdown",
		   "metadata": {},
		   "source": [
			"## Example 2.14: Disintegration_rate_of_Au199.sce"
		   ]
		  },
  {
"cell_type": "code",
	   "execution_count": null,
	   "metadata": {
	    "collapsed": true
	   },
	   "outputs": [],
"source": [
"// Scilab code Exa2.14 : : Page 93 (2011)\n",
"clc; clear;\n",
"T_h_1 = 2.7*24*3600; // Half life of Au-198, sec\n",
"T_h_2 = 3.15*24*3600; // Half life of Au-199, sec\n",
"S_1 = 99e-028; // Crossection for first reaction, Sq.m\n",
"S_2 = 2.6e-024; // Crossection for second reaction, Sq.m\n",
"I = 1e+018; // Intensity of radiation, per Sq.m per sec\n",
"L_1 = I*S_1;    // Decay constant of Au-197, per sec\n",
"L_2 = 0.693/T_h_1+I*S_2; // Decay constant of Au-198, per sec\n",
"L_3 = 0.693/T_h_2; // Decay constant of Au-199, per sec\n",
"N_0 = 6.022137e+023; // Avogadro number\n",
"N_1 = N_0/197; // Initial number of atoms of Au-197\n",
"t = 30*3600; // Given time, sec\n",
"p = [exp(-L_1*t)]/[(L_2-L_1)*(L_3-L_1)];\n",
"q = [exp(-L_2*t)]/[(L_1-L_2)*(L_3-L_2)];\n",
"r = [exp(-L_3*t)]/[(L_1-L_3)*(L_2-L_3)];\n",
"N3 = N_1*L_1*L_2*[p+q+r];\n",
"N_199 = N3;\n",
"L = L_3*N_199; // Disintegration rate of Au-199, per sec\n",
"printf('\nThe disintegration rate of Au-199 = %3.1e ', L);\n",
"\n",
"// Result\n",
"// The disintegration rate of Au-199 = 1.9e+012  (Wrong answer in the textbook)"
   ]
   }
,
{
		   "cell_type": "markdown",
		   "metadata": {},
		   "source": [
			"## Example 2.15: Activity_of_Na24.sce"
		   ]
		  },
  {
"cell_type": "code",
	   "execution_count": null,
	   "metadata": {
	    "collapsed": true
	   },
	   "outputs": [],
"source": [
"// Scilab code Exa2.15 : : Page 94 (2011)\n",
"clc; clear;\n",
"Y = 110e-03;// Yield of Na-24, mCi/hr\n",
"T = 14.8;// Half life of Na-24, hours\n",
"t = 8;// Time after which activity to be compute, hours\n",
"lambda = 0.693/T;// Disintegration constant, hours^-1\n",
"A = 1.44*Y*T;// Maximum activity of Na-24, Ci\n",
"A_C = A*[1-%e^(-lambda*t)];// Activity after a continuous bombardment, Ci\n",
"Activity = A_C*(%e^(-lambda*t));// Activity after 8hours, Ci\n",
"printf('\nThe maximum activity of Na-24 = %5.3f Ci\nThe activity after a continuous bombardment = %6.4f Ci\nThe activity after 8hours = %7.5f Ci',A, A_C, Activity);\n",
"\n",
"// Result\n",
"// The maximum activity of Na-24 = 2.344 Ci\n",
"// The activity after a continuous bombardment = 0.7324 Ci\n",
"// The activity after 8hours = 0.50360 Ci "
   ]
   }
,
{
		   "cell_type": "markdown",
		   "metadata": {},
		   "source": [
			"## Example 2.16: Radiation_dose_absorbed_in_24_hr_by_the_tissue_in_REP.sce"
		   ]
		  },
  {
"cell_type": "code",
	   "execution_count": null,
	   "metadata": {
	    "collapsed": true
	   },
	   "outputs": [],
"source": [
"// Scilab code Exa2.16 : : Page 94 (2011)\n",
"clc; clear;\n",
"A_0 = 3.7e+07;    // Initial activity, disintegrations per sec\n",
"T = 12.6;    // Half life of I-130, hours\n",
"t = 24*3600;    // time for dose absorbed calculation,sec\n",
"E = 0.29*1.6e-06;    // Average energy of beta rays, ergs\n",
"m = 2;    // Mass of iodine thyroid tissue, gm\n",
"lambda = 0.693/(T*3600);    // Disintegration constant, sec^-1\n",
"N_0 = A_0/lambda;    // Initial number of atoms\n",
"N = N_0*[1-%e^(-lambda*t)];    // Number of average atoms disintegrated\n",
"E_A = N*E;    // Energy of beta rays emitted, ergs\n",
"E_G = E_A/(2*97.00035);    // Energy of beta rays emitted per gram of tissue, REP  \n",
"printf('\nThe energy of beta rays emitted per gram of tissue = %6.1f REP', E_G);\n",
"\n",
"// Result\n",
"// The energy of beta rays emitted per gram of tissue = 4245.0 REP "
   ]
   }
,
{
		   "cell_type": "markdown",
		   "metadata": {},
		   "source": [
			"## Example 2.18: Activity_and_the_maximum_amount_of_Au198_produced_in_the_foil_of_Au197.sce"
		   ]
		  },
  {
"cell_type": "code",
	   "execution_count": null,
	   "metadata": {
	    "collapsed": true
	   },
	   "outputs": [],
"source": [
"// Scilab code Exa2.18 : : Page 95 (2011)\n",
"clc; clear;\n",
"N_0 = 6.022137e+023; //  Avagadro number\n",
"d = 0.02; // Thickness of the foil, cm\n",
"R = 19.3; // Density of Au,g/cc\n",
"N_1 = d*R/197*N_0; // Initial number of Au-197 nuclei per unit area of foil,cm^-2\n",
"T_H = 2.7*24*3600; // Half life of Au-198,sec\n",
"L = log(2)/T_H; // Decay constant for Au-198,sec^-1\n",
"I = 10^12; // Intensity of neutron beam,neutrons/cm^2/sec\n",
"S = 97.8e-024; // Cross section for reaction,cm^-2\n",
"t = 5*60; // Reaction time,s\n",
"A = S*I*N_1*(1-%e^(-L*t)); // Activity of Au-198,cm^-2sec^-1\n",
"N_2 = S*I*N_1/L; // The maximum amount of Au-198 produced,cm^-2\n",
"printf('\nThe activity of Au-198 = %5.3e per Sq.cm per sec\nThe maximum amount of Au-198 produced = %4.2e per Sq.cm', A, N_2);\n",
"\n",
"// Result\n",
"// The activity of Au-198 = 1.028e+008 per Sq.cm per sec\n",
"// The maximum amount of Au-198 produced = 3.88e+016 per Sq.cm "
   ]
   }
,
{
		   "cell_type": "markdown",
		   "metadata": {},
		   "source": [
			"## Example 2.19: Pu238_as_power_source_in_space_flights.sce"
		   ]
		  },
  {
"cell_type": "code",
	   "execution_count": null,
	   "metadata": {
	    "collapsed": true
	   },
	   "outputs": [],
"source": [
"// Scilab code Exa2.19 : : Page 95 (2011)\n",
"clc; clear;\n",
"N_0 = 6.022137e+023; //  Avagadro number \n",
"T_P = 90*365*24*3600; // Half life of Pu-238,s\n",
"L_P = 0.693/T_P ; // Decay constant of Pu-238,s^-1\n",
"E = 5.5; // Energy of alpha particle, MeV\n",
"P =E*L_P*N_0; // Power released by the gm molecule of Pu-238,MeV/s\n",
"t = log(8)/(L_P*365*24*3600); // Time in which power reduces to 1/8 time of its initial value \n",
"printf('\nThe power released by the gm molecule of Pu-238 = %4.2e MeV/s \nThe time in which power reduces to 1/8 time of its initial value = %d yrs',P,t)\n",
"\n",
"// Result\n",
"// The power released by the gm molecule of Pu-238 = 8.09e+014 MeV/s \n",
"// The time in which power reduces to 1/8 time of its initial value = 270 yrs "
   ]
   }
,
{
		   "cell_type": "markdown",
		   "metadata": {},
		   "source": [
			"## Example 2.1: Weight_of_one_Curie_and_one_Rutherford_of_RaB.sce"
		   ]
		  },
  {
"cell_type": "code",
	   "execution_count": null,
	   "metadata": {
	    "collapsed": true
	   },
	   "outputs": [],
"source": [
"// Scilab code Exa2.1: : Page-88 (2011) \n",
"clc; clear;\n",
"T = 26.8*60;    // Half life of the substance, s\n",
"C = 3.7e+010;   // One curie, disintegration per sec\n",
"N = 6.022137e+026; // Avogadro number, per kmol\n",
"m = 214; // Molecular weight of RaB, kg/kmol\n",
"R = 1e+006; // One Rutherford, disintegration per sec.\n",
"W_C = C*T*m/(N*0.693); // Weight of one Curie of RaB, Kg \n",
"W_R = R*T*m/(N*0.693); // Weight of one Rutherford of RaB, Kg \n",
"printf('\nWeight of one Curie of RaB : %5.3e Kg \nWeight of one Rutherford of RaB : %5.3e Kg', W_C, W_R);\n",
"\n",
"// Result\n",
"// Weight of one Curie of RaB : 3.051e-011 Kg \n",
"// Weight of one Rutherford of RaB : 8.245e-016 Kg "
   ]
   }
,
{
		   "cell_type": "markdown",
		   "metadata": {},
		   "source": [
			"## Example 2.20: Series_radioactive_decay_of_parent_isotope.sce"
		   ]
		  },
  {
"cell_type": "code",
	   "execution_count": null,
	   "metadata": {
	    "collapsed": true
	   },
	   "outputs": [],
"source": [
"// Scilab code Exa2.20 : : Page 96 (2011)\n",
"clc; clear;\n",
"N_1 = 10^20; // Number of nuclei of parent isotopes\n",
"T_P = 10^4; // Half life of parent nucleus,years\n",
"T_D = 20; // Half life of daughter nucleus,years\n",
"T = 10^4; // Given time,years\n",
"L_P = 0.693/T_P ; // Decay constant of parent nucleus,years^-1\n",
"L_D = 0.693/T_D ; // Decay constant of daughter nucleus,years^-1\n",
"t_0 = log(0.03)/(L_P-L_D); // Required time for decay of daughter nucleus,years\n",
"N = L_P/L_D*(%e^(-L_P*T)-%e^(-L_D*T))*N_1; // Number of nuclei of daughter isotope\n",
"printf('\nThe required time for decay of daughter nucleus = %d yr \nThe number of nuclei of daughter isotope = %1.0e ', t_0, N);\n",
"\n",
"// Result\n",
"// The required time for decay of daughter nucleus = 101 yr \n",
"// The number of nuclei of daughter isotope = 1e+017  "
   ]
   }
,
{
		   "cell_type": "markdown",
		   "metadata": {},
		   "source": [
			"## Example 2.2: Induced_radioactivity_of_sodium_by_neutron_bombardment.sce"
		   ]
		  },
  {
"cell_type": "code",
	   "execution_count": null,
	   "metadata": {
	    "collapsed": true
	   },
	   "outputs": [],
"source": [
"// Scilab code Exa2.2 : : Page 88 (2011)\n",
"clc; clear;\n",
"T_h = 14.8; // Half life of Na-24, hours\n",
"Q = 1e+008; // Production rate of Na-24, per sec\n",
"L = 0.693/T_h; // Decay constant, per sec\n",
"t = 2; // Time after the bombardment, hours\n",
"A = Q/3.7e+010*1000; // The maximum activity of Na-24, mCi\n",
"T = -1*log(0.1)/L; // The time needed to produced 90% of the maximum activity, hour\n",
"N = 0.9*Q*3600/L*%e^(-L*t); // Number of atoms of Na-24 left two hours after bombardment was stopped\n",
"printf('\nThe maximum activity of Na-24 = %3.1f mCi\nThe time needed to produced 90 percent of the maximum activity = %4.1f hrs \nNumber of atoms of Na-24 left two hours after bombardment was stopped = %4.2e ', A, T, N);\n",
"\n",
"// Result\n",
"// The maximum activity of Na-24 = 2.7 mCi\n",
"// The time needed to produced 90 percent of the maximum activity = 49.2 hrs \n",
"// Number of atoms of Na-24 left two hours after bombardment was stopped = 6.30e+012  "
   ]
   }
,
{
		   "cell_type": "markdown",
		   "metadata": {},
		   "source": [
			"## Example 2.3: Activity_of_K40_in_man_of_weight_100_Kg.sce"
		   ]
		  },
  {
"cell_type": "code",
	   "execution_count": null,
	   "metadata": {
	    "collapsed": true
	   },
	   "outputs": [],
"source": [
"// Scilab code Exa2.3: : Page 89 (2011)\n",
"clc; clear;\n",
"T = 1.31e+09*365*24*60*60;    // Half life of the substance,sec\n",
"N = 6.022137e+026; // Avogadro number.\n",
"m = 0.35*0.012*10^-2; // Mass of K-40, Kg.\n",
"A = m*N*0.693/(T*40); // Activity of K-40, disintegrations/sec. \n",
"printf('\nThe activity of K-40 = %5.3e disintegrations/sec = %5.3f micro-curie', A, A/3.7e+004);\n",
"\n",
"// Result\n",
"// The activity of K-40 = 1.061e+004 disintegrations/sec = 0.287 micro-curie "
   ]
   }
,
{
		   "cell_type": "markdown",
		   "metadata": {},
		   "source": [
			"## Example 2.4: Age_of_an_ancient_wooden_boat.sce"
		   ]
		  },
  {
"cell_type": "code",
	   "execution_count": null,
	   "metadata": {
	    "collapsed": true
	   },
	   "outputs": [],
"source": [
"// Scilab code Exa2.4 : : Page 89 (2011)\n",
"clc; clear;\n",
"T = 5568;    // Half life of the C-14,years\n",
"lambda = 0.693/T; // Disintegration constant, years^-1.\n",
"N_0 = 15.6/lambda; // Activity of fresh carbon, dpm .gm\n",
"N = 3.9/lambda; // Activity of an ancient wooden boat,dpm.gm.\n",
"t = 1/(lambda)*log(N_0/N); // Age of the boat, years\n",
"printf('\nThe age of the boat : %5.3e years', t);\n",
"\n",
"// Result\n",
"// The age of the boat : 1.114e+004 years"
   ]
   }
,
{
		   "cell_type": "markdown",
		   "metadata": {},
		   "source": [
			"## Example 2.5: Activity_of_the_U234.sce"
		   ]
		  },
  {
"cell_type": "code",
	   "execution_count": null,
	   "metadata": {
	    "collapsed": true
	   },
	   "outputs": [],
"source": [
"// Scilab code Exa2.5 : : Page 90 (2011)\n",
"clc; clear;\n",
"m_0 = 3e-06;// Initial mass of the U-234, Kg\n",
"A = 6.022137e+026; //Avagadro's number, atoms\n",
"N_0 = m_0*A/234; // Initial number of atoms\n",
"T = 2.50e+05; // Half life, years\n",
"lambda = 0.693/T; // Disintegration constant\n",
"t = 150000; // Disintegration time, years\n",
"m = m_0*%e^(-lambda*t); // Mass after time t,Kg\n",
"activity = m*lambda/(365*24*60*60)*A/234; // Activity of U-234 after time t,dps\n",
"printf('\nThe activity of U-234 after %6d yrs = %5.3e disintegrations/sec', t, activity);\n",
"\n",
"// Result\n",
"// The activity of U-234 after 150000 yrs = 4.478e+005 disintegrations/sec "
   ]
   }
,
{
		   "cell_type": "markdown",
		   "metadata": {},
		   "source": [
			"## Example 2.6: Number_of_alpha_decays_in_Th232.sce"
		   ]
		  },
  {
"cell_type": "code",
	   "execution_count": null,
	   "metadata": {
	    "collapsed": true
	   },
	   "outputs": [],
"source": [
"// Scilab code Exa2.6 : : Page 90 (2011)\n",
"clc; clear;\n",
"A = 6.022137e+023; //Avagadro's number, atoms\n",
"N_0 = A/232; // Initial number of atoms\n",
"t = 3.150e+07; // Decay time, sec\n",
"lambda = 1.58e-018; // Disintegration constant,sec^-1\n",
"N = lambda*t*N_0; // Number of alpha decays in Th-232\n",
"printf('\nThe number of alpha decays in Th-232 = %5.2e ', N);\n",
"\n",
"// Result\n",
"// The number of alpha decays in Th-232 = 1.29e+011"
   ]
   }
,
{
		   "cell_type": "markdown",
		   "metadata": {},
		   "source": [
			"## Example 2.7: Maximum_possible_age_of_the_earth_crust.sce"
		   ]
		  },
  {
"cell_type": "code",
	   "execution_count": null,
	   "metadata": {
	    "collapsed": true
	   },
	   "outputs": [],
"source": [
"// Scilab code Exa2.7 : : Page 90 (2011)\n",
"clc; clear;\n",
"T_238 = 4.5e+09;// Half life of U-238, years\n",
"T_235 = 7.13e+08; // Half life of U-238, years\n",
"lambda_238 = 0.693/T_238; // Disintegration constant of U-238, years^-1\n",
"lambda_235 = 0.693/T_235; // Disintegration constant of U-235, years^-1 \n",
"N = 137.8; // Abundances of U-238/U-235\n",
"t = log(N)/(lambda_235 - lambda_238);// Age of the earth's crust, years\n",
"printf('\nThe maximum possible age of the earth crust = %5.3e years', t);\n",
"\n",
"// Result \n",
"// The maximum possible age of the earth crust = 6.022e+009 years "
   ]
   }
,
{
		   "cell_type": "markdown",
		   "metadata": {},
		   "source": [
			"## Example 2.8: Number_of_radon_half_lives.sce"
		   ]
		  },
  {
"cell_type": "code",
	   "execution_count": null,
	   "metadata": {
	    "collapsed": true
	   },
	   "outputs": [],
"source": [
"// Scilab code Exa2.8 : : Page 91 (2011)\n",
"clc; clear;\n",
"N = 10; // Number of atoms left undecayed in Rn-222\n",
"n = log(10)/log(2); // Number of half lives in Ra-222\n",
"printf('\nThe number of half lives in radon-222 = %5.3f ', n);\n",
"\n",
"// Result\n",
"// The number of half lives in radon-222 = 3.322  "
   ]
   }
,
{
		   "cell_type": "markdown",
		   "metadata": {},
		   "source": [
			"## Example 2.9: Weight_and_initial_acivity_of_Po210.sce"
		   ]
		  },
  {
"cell_type": "code",
	   "execution_count": null,
	   "metadata": {
	    "collapsed": true
	   },
	   "outputs": [],
"source": [
"// Scilab code Exa2.9 :  : Page 91 (2011)\n",
"clc; clear;\n",
"M_Po = 209.9829; // Mass of Polonium, g\n",
"M_Pb = 205.9745; // Mass of lead, g\n",
"A = 6.22137e+023; // Avogadro's number\n",
"M_He = 4.0026; // Mass of alpha particle, g\n",
"C = 3e+08; // Velocity of light, m/s\n",
"T = 138*24*3600; // Half life, sec\n",
"P = 250; // Power produced, joule/sec\n",
"Q = [M_Po-M_Pb-M_He]*931.25; // disintegration energy, MeV\n",
"lambda = 0.693/T; // Disintegration constant, per year\n",
"N = P/(lambda*Q*1.60218e-013); // Number of atoms, atom\n",
"N_0 = N*%e^(1.833); // Number of atoms present initially, atom\n",
"W = N_0/A*210; // Weight of Po-210 after one year, g\n",
"A_0 = N_0*lambda/(3.7e+010); // Initial activity, curie\n",
"printf('\nThe weight of Po-210 after one year = %5.2f g \nThe initial activity of the material = %4.2e curies', W, A_0);\n",
"\n",
"// Result\n",
"// The weight of Po-210 after one year = 10.49 g \n",
"// The initial activity of the material = 4.88e+004 curies"
   ]
   }
],
"metadata": {
		  "kernelspec": {
		   "display_name": "Scilab",
		   "language": "scilab",
		   "name": "scilab"
		  },
		  "language_info": {
		   "file_extension": ".sce",
		   "help_links": [
			{
			 "text": "MetaKernel Magics",
			 "url": "https://github.com/calysto/metakernel/blob/master/metakernel/magics/README.md"
			}
		   ],
		   "mimetype": "text/x-octave",
		   "name": "scilab",
		   "version": "0.7.1"
		  }
		 },
		 "nbformat": 4,
		 "nbformat_minor": 0
}
