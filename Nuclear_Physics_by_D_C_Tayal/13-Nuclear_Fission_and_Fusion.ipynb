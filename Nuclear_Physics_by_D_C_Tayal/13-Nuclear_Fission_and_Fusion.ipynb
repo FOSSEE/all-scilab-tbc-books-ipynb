{
"cells": [
 {
		   "cell_type": "markdown",
	   "metadata": {},
	   "source": [
       "# Chapter 13: Nuclear Fission and Fusion"
	   ]
	},
{
		   "cell_type": "markdown",
		   "metadata": {},
		   "source": [
			"## Example 13.1: Fission_rate_and_energy_released_during_fission_of_U235.sce"
		   ]
		  },
  {
"cell_type": "code",
	   "execution_count": null,
	   "metadata": {
	    "collapsed": true
	   },
	   "outputs": [],
"source": [
"// Scilab code Exa13.1 : : Page-600 (2011)\n",
"clc; clear;\n",
"E = 200*1.6023e-13;     // Energy released per fission, joule\n",
"E_t = 2;                // Total power produced, watt\n",
"R_fiss = E_t/E;        // Fission rate, fissions per sec\n",
"m = 0.5;                // Mass of uranium, Kg\n",
"M = 235;                // Mass number of uranium\n",
"N_0 = 6.023e+26;        // Avogadro's number, per mole\n",
"N = m/M*N_0            // Number of uranium nuclei\n",
"E_rel = N*E/4.08*10^-3;        // Energy released, kilocalories\n",
"printf('\nThe rate of fission of U-235 = %4.2e fissions per sec \nEnergy released = %e kcal', R_fiss, E_rel);\n",
"// Result\n",
"// The rate of fission of U-235 = 6.24e+010 fissions per sec \n",
"// Energy released = 1.006535e+010 kcal "
   ]
   }
,
{
		   "cell_type": "markdown",
		   "metadata": {},
		   "source": [
			"## Example 13.2: Number_of_free_neutrons_in_the_reactor.sce"
		   ]
		  },
  {
"cell_type": "code",
	   "execution_count": null,
	   "metadata": {
	    "collapsed": true
	   },
	   "outputs": [],
"source": [
"// Scilab code Exa13.2 : : Page-600 (2011)\n",
"clc; clear;\n",
"E = 200*1.6e-13;        // Energy released per fission, joules per neutron\n",
"t = 10^-3;            // Time, sec\n",
"P = E/t;              // Power produced by one free neutron, watt per neutron\n",
"P_l = 10^9;            // Power level, watt\n",
"N = P_l/P;            // Number of free neutrons in the reactor, neutrons\n",
"printf('\nThe number of free neutrons in the reactor = %5.3e neutrons', N);\n",
"// Result\n",
"// The number of free neutrons in the reactor = 3.125e+016 neutrons "
   ]
   }
,
{
		   "cell_type": "markdown",
		   "metadata": {},
		   "source": [
			"## Example 13.3: Number_of_neutrons_released_per_absorption.sce"
		   ]
		  },
  {
"cell_type": "code",
	   "execution_count": null,
	   "metadata": {
	    "collapsed": true
	   },
	   "outputs": [],
"source": [
"// Scilab code Exa13.3 : : Page-600 (2011)\n",
"clc; clear;\n",
"N_0_235 = 1;        // Number of uranium 235 per 238 \n",
"N_0_238 = 20;        // Number of uranium 238 for one uranium 235    \n",
"sigma_a_235 = 683;   // Absorption cross section for uranium 235, barn\n",
"sigma_a_238 = 2.73;  // Absorption cross section for uranium 238, barn\n",
"sigma_f_235 = 583;   // Fission cross section, barn\n",
"sigma_a = (N_0_235*sigma_a_235+N_0_238*sigma_a_238)/(N_0_235+N_0_238); //Asorption cross sec, barn\n",
"sigma_f = N_0_235*sigma_f_235/(N_0_235+N_0_238);        // Fisssion cross section \n",
"v = 2.43;\n",
"eta = v*sigma_f/sigma_a;    //    Average number of neutron released per absorption\n",
"printf('\nThe average number of neutrons released per absorption = %5.3f', eta);\n",
"// Result\n",
"// The average number of neutrons released per absorption = 1.921 "
   ]
   }
,
{
		   "cell_type": "markdown",
		   "metadata": {},
		   "source": [
			"## Example 13.4: Excitation_energy_for_uranium_isotopes.sce"
		   ]
		  },
  {
"cell_type": "code",
	   "execution_count": null,
	   "metadata": {
	    "collapsed": true
	   },
	   "outputs": [],
"source": [
"// Scilab code Exa13.4 : : Page-600(2011)\n",
"clc; clear;\n",
"a_v = 14.0;        // Volume binding energy constant, mega electron volts\n",
"a_s = 13.0;        // Surface binding energy constant, mega electron volts\n",
"a_c = 0.583;        // Coulomb constant, mega electron volts\n",
"a_a = 19.3;        // Asymmetric constant, mega electron volts\n",
"a_p = 33.5;        // Pairing energy constant, mega electron volts\n",
"Z = 92;            // Atomic number \n",
"// For U-236\n",
"A = 235;           // Mass number\n",
"E_exc_236 = a_v*(A+1-A)-a_s*((A+1)^(2/3)-A^(2/3))-a_c*(Z^2/(A+1)^(1/3)-Z^2/A^(1/3))-a_a*((A+1-2*Z)^2/(A+1)-(A-2*Z)^2/A)+a_p*(A+1)^(-3/4);        // Excitation energy for uranium 236, mega electron volts\n",
"// For U-239\n",
"A = 238;            // Mass number\n",
"E_exc_239 = a_v*(A+1-A)-a_s*((A+1)^(2/3)-A^(2/3))-a_c*(Z^2/(A+1)^(1/3)-Z^2/A^(1/3))-a_a*((A+1-2*Z)^2/(A+1)-(A-2*Z)^2/A)+a_p*((A+1)^(-3/4)-A^(-3/4));    // Excitation energy for uranium 239\n",
"// Now calculate the rate of spontaneous fissioning for U-235\n",
"N_0 = 6.02214e+23;        // Avogadro's constant, per mole\n",
"M = 235;                // Mass number\n",
"t_half = 3e+17*3.15e+7;        // Half life, years \n",
"lambda = 0.693/t_half;        // Decay constant, per year\n",
"N = N_0/M;                    // Mass of uranium 235, Kg\n",
"dN_dt = N*lambda*3600;            // Rate of spontaneous fissioning of uranium 235, per hour\n",
"printf('\nThe excitation energy for uranium 236 = %3.1f MeV\nThe excitation energy for uranium 239 = %3.1f MeV\nThe rate of spontaneous fissioning of uranium 235 = %4.2f per hour', E_exc_236, E_exc_239, dN_dt);\n",
"// Result\n",
"// The excitation energy for uranium 236 = 6.8 MeV\n",
"// The excitation energy for uranium 239 = 5.9 MeV\n",
"// The rate of spontaneous fissioning of uranium 235 = 0.68 per hour \n",
"  "
   ]
   }
,
{
		   "cell_type": "markdown",
		   "metadata": {},
		   "source": [
			"## Example 13.5: Total_energy_released_in_fusion_reaction.sce"
		   ]
		  },
  {
"cell_type": "code",
	   "execution_count": null,
	   "metadata": {
	    "collapsed": true
	   },
	   "outputs": [],
"source": [
"// Scilab code Exa13.5 : : Page-601 (2011)\n",
"clc; clear; \n",
"a = 10^5;        // Area of the lake, square mile\n",
"d = 1/20;        // Depth of the lake, mile\n",
"V = a*d*(1.6e+03)^3;   // Volume of the lake, cubic metre\n",
"rho = 10^3;            // Density of water, kg per cubic metre\n",
"M_water = V*rho;        // Total mass of water in the lake, Kg\n",
"N_0 = 6.02214e+26;      // Avogadro's constant, per mole\n",
"A = 18;                 // Milecular mass of water\n",
"N = M_water*N_0/A;      // Number of molecules of water, molecules\n",
"abund_det = 0.0156e-02; // Abundance of deterium\n",
"N_d = N*2*abund_det;    // Number of deterium atoms\n",
"E_per_det = 43/6;       // Energy released per deterium atom, mega electron volts\n",
"E_t = N_d*E_per_det;    // Total energy released during fusion, mega electron volt\n",
"printf('\nThe total energy released during fusion = %4.2e MeV', E_t);\n",
"// Result\n",
"// Total energy released during fusion = 1.53e+039 MeV\n",
"  "
   ]
   }
,
{
		   "cell_type": "markdown",
		   "metadata": {},
		   "source": [
			"## Example 13.6: Maximum_temperature_attained_by_thermonuclear_device.sce"
		   ]
		  },
  {
"cell_type": "code",
	   "execution_count": null,
	   "metadata": {
	    "collapsed": true
	   },
	   "outputs": [],
"source": [
"// Scilab code Exa13.6 : : Page-601 (2011)\n",
"clc; clear; \n",
"r = 1/2;            // Radius of the tube, metre\n",
"a = %pi*r^2;        // Area of the torus, square metre\n",
"V = 3*%pi*a;        // Volume of the torus, cubic metre\n",
"P = 10^-5*13.6e+3*9.81;   // Pressure of the gas, newton per square metre\n",
"C = 1200e-6;        // Capacitance, farad\n",
"v = 4e+4;            //  potential, volts\n",
"T_room = 293;        // Room temperature, kelvin\n",
"N_k = P*V/T_room;    // From gas equation\n",
"E = 1/2*C*v^2;       // Energy stored, joules\n",
"T_k = 1/6*E/(N_k*10);    // Temperature attained by thermonuclear device, kelvin\n",
"printf('\nThe temperature attained by thermonuclear device = %4.2e K', T_k);\n",
"// Result\n",
"// The temperature attained by thermonuclear device = 4.75e+005 K \n",
"  "
   ]
   }
,
{
		   "cell_type": "markdown",
		   "metadata": {},
		   "source": [
			"## Example 13.7: Energy_radiated_and_the_temperature_of_the_sun.sce"
		   ]
		  },
  {
"cell_type": "code",
	   "execution_count": null,
	   "metadata": {
	    "collapsed": true
	   },
	   "outputs": [],
"source": [
"// Scilab code Exa13.7 : : Page-601 (2011)\n",
"clc; clear; \n",
"G = 6.67e-11;        // Gravitational constant, newton square m per square kg\n",
"r = 7e+08;        // Radius of the sun, metre\n",
"M_0 = 2e+30;        // Mass of the sun, kg\n",
"E_rel = 3/5*G*M_0^2/r;      // Energy released by the sun, joule\n",
"E_dia_shrink_10 = E_rel/9;  // Energy released when sun diameter shrink by 10 percent, joule\n",
"R = 8.314;       // Universal gas constant, joule per kelvin per kelvin per mole\n",
"T = E_rel/(M_0*R);  // Temperature of the sun, kelvin\n",
"printf('\nThe energy released by the sun = %4.2e joule \nThe energy released when sun diameter is shrinked by 10 percent = %4.2e joule \nThe temperature of the sun = %4.2e kelvin ',E_rel, E_dia_shrink_10, T);\n",
"// Result\n",
"// The energy released by the sun = 2.29e+041 joule \n",
"// The energy released when sun diameter is shrinked by 10 percent = 2.54e+040 joule \n",
"// The temperature of the sun = 1.38e+010 kelvin \n",
"  "
   ]
   }
,
{
		   "cell_type": "markdown",
		   "metadata": {},
		   "source": [
			"## Example 13.8: Estimating_the_Q_value_for_symmetric_fission_of_a_nucleus.sce"
		   ]
		  },
  {
"cell_type": "code",
	   "execution_count": null,
	   "metadata": {
	    "collapsed": true
	   },
	   "outputs": [],
"source": [
"// Scilab code Exa13.8 : : Page-602 (2011)\n",
"clc; clear;\n",
"A_0 = 240;        // Mass number of parent nucleus\n",
"A_1 = 120;        // Mass number of daughter nucleus\n",
"B_120 = 8.5;        // Binding energy of daughter nucleus\n",
"B_240 = 7.6;        //  Binding energy of parent nucleus\n",
"Q = 2*A_1*B_120-A_0*B_240;    // Estimated Q-value, mega electron volts\n",
"printf('\nThe estimated Q-value is = %d MeV', Q);\n",
"// Result\n",
"// The estimated Q-value is = 216 MeV \n",
"  "
   ]
   }
,
{
		   "cell_type": "markdown",
		   "metadata": {},
		   "source": [
			"## Example 13.9: Estimating_the_asymmetric_binding_energy_term.sce"
		   ]
		  },
  {
"cell_type": "code",
	   "execution_count": null,
	   "metadata": {
	    "collapsed": true
	   },
	   "outputs": [],
"source": [
"// Scilab code Exa13.9 : : Page-602 (2011)\n",
"clc; clear;\n",
"E = 31.7;        // Energy, MeV\n",
"a_a = 5/9*2^(-2/3)*E;        // Asymmetric binding energy term, mega electron volts\n",
"printf('\nThe asymmetric binding energy term = %4.1f MeV', a_a);\n",
"// Result\n",
"// The asymmetric binding energy term = 11.1 MeV \n",
"  "
   ]
   }
],
"metadata": {
		  "kernelspec": {
		   "display_name": "Scilab",
		   "language": "scilab",
		   "name": "scilab"
		  },
		  "language_info": {
		   "file_extension": ".sce",
		   "help_links": [
			{
			 "text": "MetaKernel Magics",
			 "url": "https://github.com/calysto/metakernel/blob/master/metakernel/magics/README.md"
			}
		   ],
		   "mimetype": "text/x-octave",
		   "name": "scilab",
		   "version": "0.7.1"
		  }
		 },
		 "nbformat": 4,
		 "nbformat_minor": 0
}
