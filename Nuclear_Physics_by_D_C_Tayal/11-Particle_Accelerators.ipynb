{
"cells": [
 {
		   "cell_type": "markdown",
	   "metadata": {},
	   "source": [
       "# Chapter 11: Particle Accelerators"
	   ]
	},
{
		   "cell_type": "markdown",
		   "metadata": {},
		   "source": [
			"## Example 11.10: Electrons_accelerated_in_electron_synchrotron.sce"
		   ]
		  },
  {
"cell_type": "code",
	   "execution_count": null,
	   "metadata": {
	    "collapsed": true
	   },
	   "outputs": [],
"source": [
"// Scilab code Exa11.10 : : Page-538 (2011)\n",
"clc; clear;\n",
"e = 1.6023e-19;        // Charge of an electron, C\n",
"E = 70*1.6e-13;        // Energy, electron volts\n",
"R = 0.28;            // Radius of the orbit, metre\n",
"c = 3e+08;            // Velocity of light, metre per sec\n",
"B = E/(e*R*c);        // Magnetic field intensity, tesla\n",
"f = e*B*c^2/(2*%pi*E);        // Frequency, cycle per sec\n",
"del_E = 88.5*(0.07)^4*10^3/(R);     // Energy radiated by an electron, electron volts\n",
" printf('\nThe frequency of the applied electric field = %5.3e cycles per sec \nThe magnetic field intensity = %4.3f tesla\nThe energy radiated by the electron = %3.1f eV', f, B, del_E);\n",
"// Result\n",
"// The frequency of the applied electric field = 1.705e+008 cycles per sec \n",
"// The magnetic field intensity = 0.832 tesla\n",
"// The energy radiated by the electron = 7.6 eV "
   ]
   }
,
{
		   "cell_type": "markdown",
		   "metadata": {},
		   "source": [
			"## Example 11.11: Kinetic_energy_of_the_accelerated_nitrogen_ion.sce"
		   ]
		  },
  {
"cell_type": "code",
	   "execution_count": null,
	   "metadata": {
	    "collapsed": true
	   },
	   "outputs": [],
"source": [
"// Scilab code Exa11.11 : : Page-538 (2011)\n",
"clc; clear;\n",
"E = 3;        // Energy of proton synchrotron, giga electron volts\n",
"m_0_c_sq = 0.938;        // Relativistic energy, mega electron volts\n",
"P_p = sqrt(E^2-m_0_c_sq^2);        // Momentum of the proton, giga electron volts per c\n",
"P_n = 6*P_p;        // Momentum of the N(14) ions, giga electron volts\n",
"T_n = sqrt(P_n^2+(0.938*14)^2)-0.938*14;        // Kinetic energy of the accelerated nitrogen ion\n",
" printf('\nThe kinetic energy of the accelerated nitrogen ion = %4.2f MeV', T_n);\n",
"// Result\n",
"// The kinetic energy of the accelerated nitrogen ion = 8.43 MeV "
   ]
   }
,
{
		   "cell_type": "markdown",
		   "metadata": {},
		   "source": [
			"## Example 11.12: EX11_12.sce"
		   ]
		  },
  {
"cell_type": "code",
	   "execution_count": null,
	   "metadata": {
	    "collapsed": true
	   },
	   "outputs": [],
"source": [
"// Scilab code Exa11.12 : : Page-539 (2011)\n",
"clc; clear;\n",
"e = 1.6e-19;        // Charge of an electron, C\n",
"R = 9.144;            // Radius, metre\n",
"m_p = 1.67e-027;        // Mass of the proton, Kg\n",
"E = 3.6*1.6e-13;        // Energy, joule\n",
"L = 3.048;         // Length of the one synchrotron section, metre \n",
"T = 3;            // Kinetic energy, giga electron volts\n",
"c = 3e+08;        // Velocity of the light, metre per sec\n",
"m_0_c_sq = 0.938;    // Relativistic energy, mega electron volts\n",
"B = round (sqrt(2*m_p*E)/(R*e)*10^4);        // Maximum magnetic field density, web per square metre\n",
"v = B*10^-4*e*R/m_p;        // Velocity of the proton, metre per sec\n",
"f_c = v/(2*%pi*R*10^6);        // Frequency of the circular orbit, mega cycles per sec\n",
"f_0 = 2*%pi*R*f_c*10^3/(2*%pi*R+4*L);    // Reduced frequency, kilo cycles per sec\n",
"B_m = 3.33*sqrt(T*(T+2*m_0_c_sq))/R;    // Relativistic field, web per square metre\n",
"f_0 = c^2*e*R*B*1e-004/((2*%pi*R+4*L)*(T+m_0_c_sq)*e*1e+015);    // Maximum frequency of the accelerating voltage, mega cycles per sec\n",
" printf('\nThe maximum magnetic flux density = %5.3f weber/Sq.m\nThe maximum frequency of the accelerating voltage = %4.2f MHz', B_m, f_0);\n",
" \n",
"// Result\n",
"// The maximum magnetic flux density = 1.393 weber/Sq.m\n",
"// The maximum frequency of the accelerating voltage = 0.09 MHz\n",
"// Answer is given wrongly in the textbook "
   ]
   }
,
{
		   "cell_type": "markdown",
		   "metadata": {},
		   "source": [
			"## Example 11.13: Energy_of_the_single_proton_in_the_colliding_beam.sce"
		   ]
		  },
  {
"cell_type": "code",
	   "execution_count": null,
	   "metadata": {
	    "collapsed": true
	   },
	   "outputs": [],
"source": [
"// Scilab code Exa11.13 : : Page-539 (2011)\n",
"clc; clear;\n",
"E_c = 30e+009;        // Energy of the proton accelerator, GeV\n",
"m_0_c_sq = 0.938*10^6;        // Relativistic energy, GeV\n",
"E_p = (4*E_c^2-2*m_0_c_sq^2)/(2*m_0_c_sq) ;    // Energy of the proton, GeV\n",
"printf('\nThe energy of the proton = %5.2e GeV', E_p/1e+009);\n",
" \n",
"// Result\n",
"// The energy of the proton = 1.92e+006 GeV \n",
"// Wrong answer given in the textbook"
   ]
   }
,
{
		   "cell_type": "markdown",
		   "metadata": {},
		   "source": [
			"## Example 11.14: Energy_of_the_electron_during_boson_production.sce"
		   ]
		  },
  {
"cell_type": "code",
	   "execution_count": null,
	   "metadata": {
	    "collapsed": true
	   },
	   "outputs": [],
"source": [
"// Scilab code Exa11.14 : : Page-539 (2011)\n",
"clc; clear;\n",
"M_z = 92;        // Mass of the boson,giga electron volts\n",
"E_e = M_z/2;        // Energy of the electron,giga electron volts\n",
"c = 3e+08;        // Velocity of the light, metre per second\n",
"m_e = 9.1e-31*c^2/(1.6e-019*1e+009);        // Mass of electron, giga electron volts\n",
"E_e_plus = M_z^2/(2*m_e);        // Threshold energy for the positron, giga electron volts \n",
" printf('\nThe energy of the electron = %d GeV\nThe threshold energy of the positron = %4.2e GeV', E_e, E_e_plus);\n",
" \n",
"// Result\n",
"// The energy of the electron = 46 GeV\n",
"// The threshold energy of the positron = 8.27e+006 GeV "
   ]
   }
,
{
		   "cell_type": "markdown",
		   "metadata": {},
		   "source": [
			"## Example 11.1: Optimum_number_of_stages_and_ripple_voltage_in_Cockcroft_Walton_accelerator.sce"
		   ]
		  },
  {
"cell_type": "code",
	   "execution_count": null,
	   "metadata": {
	    "collapsed": true
	   },
	   "outputs": [],
"source": [
"// Scilab code Exa11.1 : : Page-535(2011) \n",
"clc; clear;\n",
"V_0 = 10^5;        // Accelerating voltage, volts\n",
"C = 0.02e-006;        // Capacitance, farad\n",
"I = 4*1e-003;            // Current, ampere\n",
"f = 200;            // Frequency, cycles per sec\n",
"n = sqrt (V_0*f*C/I);    // Number of particles\n",
"delta_V = I*n*(n+1)/(4*f*C);\n",
"printf('\nThe optimum number of stages in the accelerator = %d', n);\n",
"printf('\nThe ripple voltage = %4.1f kV', delta_V/1e+003);\n",
"// Result\n",
"// The optimum number of stages in the accelerator = 10\n",
"// The ripple voltage = 27.5 kV  "
   ]
   }
,
{
		   "cell_type": "markdown",
		   "metadata": {},
		   "source": [
			"## Example 11.2: Charging_current_and_potential_of_an_electrostatic_generator.sce"
		   ]
		  },
  {
"cell_type": "code",
	   "execution_count": null,
	   "metadata": {
	    "collapsed": true
	   },
	   "outputs": [],
"source": [
"// Scilab code Exa11.2 : : Page-536 (2011)\n",
"clc; clear;\n",
"s = 15;        // Speed, metre per sec\n",
"w = 0.3;        // Width of the electrode, metre\n",
"E = 3e+06;        // Breakdown strength, volts per metre\n",
"eps = 8.85e-12;    // Absolute permitivity of free space, farad per metre\n",
"C = 111e-12;        // Capacitance, farad\n",
"i = round (2*eps*E*s*w*10^6);    // Current, micro ampere\n",
"V = i/C*10^-12;            // Rate of rise of electrode potential, mega volts per sec\n",
"printf('\nThe charging current = %d micro-ampere \nThe rate of rise of electrode potential = %4.2f MV/sec', i, V);\n",
"// Result\n",
"// The charging current = 239 micro-ampere \n",
"// The rate of rise of electrode potential = 2.15 MV/sec "
   ]
   }
,
{
		   "cell_type": "markdown",
		   "metadata": {},
		   "source": [
			"## Example 11.3: Linear_proton_accelerator.sce"
		   ]
		  },
  {
"cell_type": "code",
	   "execution_count": null,
	   "metadata": {
	    "collapsed": true
	   },
	   "outputs": [],
"source": [
"// Scilab code Exa11.3 : : Page-536 (2011)\n",
"clc; clear;\n",
"f = 200*10^6;        // Frequency of the accelerator, cycle per sec\n",
"M = 1.6724e-27;        // Mass of the proton, Kg\n",
"E = 45.3*1.6e-13;        // Accelerating energy, joule\n",
"L_f = round (1/f*sqrt(2*E/M)*100);    // Length of the final drift tube, centi metre\n",
"L_1 = 5.35*10^-2;                // Length of the first drift tube, metre\n",
"K_E = (1/2*M*L_1^2*f^2)/1.6e-13;    // Kinetic energy of the injected proton, MeV\n",
"E_inc = E/1.6e-13-K_E;        // Increase in energy, MeV\n",
"q = 1.6e-19;                // Charge of the proton, C\n",
"V = 1.49e+06;            // Accelerating voltage, volts\n",
"N = E_inc*1.6e-13/(q*V);    // Number of drift protons\n",
"L = 1/f*sqrt(2*q*V/M)*integrate('n^(1/2)', 'n', 0, N);    // Total length of the accelerator, metre\n",
"printf('\nThe length of the final drift tube = %d cm\nThe kinetic energy of the injected protons = %4.2f MeV\nThe total length of the accelerator = %3.1f metre', L_f, K_E, L);\n",
"// Result\n",
"// The length of the final drift tube = 47 cm\n",
"// The kinetic energy of the injected protons = 0.60 MeV\n",
"// The total length of the accelerator = 9.2 metre "
   ]
   }
,
{
		   "cell_type": "markdown",
		   "metadata": {},
		   "source": [
			"## Example 11.5: Energy_and_the_frequency_of_deuterons_accelerated_in_cyclotron.sce"
		   ]
		  },
  {
"cell_type": "code",
	   "execution_count": null,
	   "metadata": {
	    "collapsed": true
	   },
	   "outputs": [],
"source": [
"// Scilab code Exa11.5 : : Page-536 (2011)\n",
"clc; clear;\n",
"B = 1.4;        // Magnetic field, tesla\n",
"R = 88e-002;        // Radius of the orbit, metre\n",
"q = 1.6023e-019;                // Charge of the deutron, C\n",
"M_d = 2.014102*1.66e-27;        // Mass of the deutron, Kg\n",
"M_He = 4.002603*1.66e-27;        // Mass of the He ion, Kg\n",
"E = B^2*R^2*q^2/(2*M_d*1.6e-13);        // Energy og the emerging deutron, mega electron volts\n",
"f = B*q/(2*%pi*M_d)*10^-6;        // Frequency of the deutron voltage, mega cycles per sec\n",
"B_He = 2*%pi*M_He*f*10^6/(2*q);    // Magnetic field required for He(++) ions, weber per square metre\n",
"B_change = B-B_He;        // Change in magnetic field, tesla\n",
"printf('\nThe energy of the emerging deutron = %4.1f MeV\nThe frequency of the dee voltage = %5.2f MHz\nThe change in magnetic field = %4.2f tesla', E, f, B_change);\n",
"// Result\n",
"// The energy of the emerging deutron = 36.4 MeV\n",
"// The frequency of the dee voltage = 10.68 MHz\n",
"// The change in magnetic field = 0.01 tesla "
   ]
   }
,
{
		   "cell_type": "markdown",
		   "metadata": {},
		   "source": [
			"## Example 11.6: Protons_extracted_from_a_cyclotron.sce"
		   ]
		  },
  {
"cell_type": "code",
	   "execution_count": null,
	   "metadata": {
	    "collapsed": true
	   },
	   "outputs": [],
"source": [
"// Scilab code Exa11.6: : Page-537 (2011)\n",
"clc; clear;\n",
"K_E = 7.5*1.6023e-13;        // Kinetic energy, joule \n",
"r = 0.51;                    // Radius of the proton's orbit, metre\n",
"E = 5*10^6;                // Electric field, volts per metre\n",
"m = 1.67e-27;            // Mass of the proton, Kg\n",
"q = 1.6023e-19;                // Charge of the proton, C\n",
"v = sqrt(2*K_E/m);        // Velocity of the proton, metre per sec\n",
"B_red = E/v;                // The effective reduction in magnetic field, tesla\n",
"B = m*v/(q*r);            // Total magnetic field produced, tesla\n",
"r_change = r*B_red/B;        // The change in orbit radius, metre\n",
" printf('\nThe effective reduction in magnetic field = %5.3f tesla  \nThe change in orbit radius = %5.3f metre ', B_red, r_change);\n",
"// Result\n",
"// The effective reduction in magnetic field = 0.132 tesla  \n",
"// The change in orbit radius = 0.087 metre  "
   ]
   }
,
{
		   "cell_type": "markdown",
		   "metadata": {},
		   "source": [
			"## Example 11.7: Energy_of_the_electrons_in_a_betatron.sce"
		   ]
		  },
  {
"cell_type": "code",
	   "execution_count": null,
	   "metadata": {
	    "collapsed": true
	   },
	   "outputs": [],
"source": [
"// Scilab code Exa11.7 : : Page-537 (2011)\n",
"clc; clear;\n",
"B = 0.4;        // Magnetic field, tesla\n",
"e = 1.6203e-19;        // Charge of an electron, C\n",
"R = 30*2.54e-02;        // Radius, metre\n",
"c = 3e+08;            // Capacitance, farad\n",
"E = B*e*R*c/1.6e-13;        // The energy of the electron, mega electron volts\n",
"f = 50;                // Frequency, cycles per sec\n",
"N = c/(4*2*%pi*f*R);        // Total number of revolutions\n",
"Avg_E_per_rev = E*1e+006/N;        // Average energy gained per revolution, electron volt\n",
"printf('\nThe energy of the electron = %4.1f MeV\nThe average energy gained per revolution = %6.2f eV', E, Avg_E_per_rev);\n",
"// Result\n",
"// The energy of the electron = 92.6 MeV\n",
"// The average energy gained per revolution = 295.57 eV \n",
"// Note: Wrong answer is given in the textbook \n",
"//   Average energy gained per revolution : 295.57 electron volts"
   ]
   }
,
{
		   "cell_type": "markdown",
		   "metadata": {},
		   "source": [
			"## Example 11.8: Electrons_accelerated_into_betatron.sce"
		   ]
		  },
  {
"cell_type": "code",
	   "execution_count": null,
	   "metadata": {
	    "collapsed": true
	   },
	   "outputs": [],
"source": [
"// Scilab code Exa11.8 : : Page-537 (2011)\n",
"clc; clear;\n",
"R = 0.35;            // Orbit radius, metre\n",
"N = 100e+06/480;        // Total number of revolutions\n",
"L = 2*%pi*R*N;            // Distance traversed by the electron, metre\n",
"t = 2e-06;                // Pulse duration, sec\n",
"e = 1.6203e-19;            // Charge of an electron, C\n",
"n = 3e+09;                // Number of electrons\n",
"f = 180;                // frequency, hertz\n",
"I_p = n*e/t;            // Peak current, ampere\n",
"I_avg = n*e*f;           // Average current, ampere \n",
"tau = t*f;                // Duty cycle\n",
" printf('\nThe peak current = %3.1e ampere  \nThe average current = %4.2e ampere \nThe duty cycle = %3.1e', I_p, I_avg, tau);\n",
"// Result\n",
"// The peak current = 2.4e-004 ampere  \n",
"// The average current = 8.75e-008 ampere \n",
"// The duty cycle = 3.6e-004 "
   ]
   }
,
{
		   "cell_type": "markdown",
		   "metadata": {},
		   "source": [
			"## Example 11.9: Deuterons_accelerated_in_synchrocyclotron.sce"
		   ]
		  },
  {
"cell_type": "code",
	   "execution_count": null,
	   "metadata": {
	    "collapsed": true
	   },
	   "outputs": [],
"source": [
"// Scilab code Exa11.9 : : Page-538 (2011)\n",
"clc; clear;\n",
"q = 1.6023e-19;        // Charge of an electron, C\n",
"B_0 = 1.5;            // Magnetic field at the centre, tesla\n",
"m_d = 2.014102*1.66e-27;        // Mass of the deutron, Kg\n",
"f_max = B_0*q/(2*%pi*m_d*10^6);        // Maximum frequency of the dee voltage, mega cycles per sec\n",
"B_prime = 1.4310;        // Magnetic field at the periphery of the dee, tesla\n",
"f_prime = 10^7;            // Frequency, cycles per sec\n",
"c = 3e+08;            // Velocity of the light, metre per sec\n",
"M = B_prime*q/(2*%pi*f_prime*1.66e-27);        // Relativistic mass, u\n",
"K_E = (M-m_d/1.66e-27)*931.5;        // Kinetic energy of the particle, mega electron volts\n",
" printf('\nThe maximum frequency of the dee voltage = %5.2f MHz\nThe kinetic energy of the deuteron = %5.1f MeV', f_max, K_E);\n",
" \n",
"// Result\n",
"// The maximum frequency of the dee voltage = 11.44 MHz\n",
"// The kinetic energy of the deuteron = 171.6 MeV "
   ]
   }
],
"metadata": {
		  "kernelspec": {
		   "display_name": "Scilab",
		   "language": "scilab",
		   "name": "scilab"
		  },
		  "language_info": {
		   "file_extension": ".sce",
		   "help_links": [
			{
			 "text": "MetaKernel Magics",
			 "url": "https://github.com/calysto/metakernel/blob/master/metakernel/magics/README.md"
			}
		   ],
		   "mimetype": "text/x-octave",
		   "name": "scilab",
		   "version": "0.7.1"
		  }
		 },
		 "nbformat": 4,
		 "nbformat_minor": 0
}
