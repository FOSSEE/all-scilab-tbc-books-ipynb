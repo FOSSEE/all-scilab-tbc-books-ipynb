{
"cells": [
 {
		   "cell_type": "markdown",
	   "metadata": {},
	   "source": [
       "# Chapter 3: Interactions of Nuclear Radiations with Matter"
	   ]
	},
{
		   "cell_type": "markdown",
		   "metadata": {},
		   "source": [
			"## Example 3.10: Average_energy_of_the_positron.sce"
		   ]
		  },
  {
"cell_type": "code",
	   "execution_count": null,
	   "metadata": {
	    "collapsed": true
	   },
	   "outputs": [],
"source": [
"// Scilab code Exa3.10 : : Page-125(2011)\n",
"clc; clear;\n",
"m_e = 9.1e-31;    // Mass of the positron, Kg\n",
"e = 1.6e-19;        // Charge of the positron, coulomb\n",
"c = 3e+08;            // Velocity of the light, metre per sec\n",
"eps = 8.85e-12;        // Absolute permittivity of free space, per N per metre-square per coulomb square\n",
"h = 6.6e-34;        // Planck's constant, joule sec\n",
"E = e^2*m_e*c/(eps*h*1.6e-13);        // Average energy of the positron, mega electron volts\n",
"printf('\nThe average energy of the positron = %6.4fZ MeV', E);\n",
"\n",
"// Result\n",
"// The average energy of the positron = 0.0075Z MeV "
   ]
   }
,
{
		   "cell_type": "markdown",
		   "metadata": {},
		   "source": [
			"## Example 3.11: To_calculate_the_refractive_index_of_the_material.sce"
		   ]
		  },
  {
"cell_type": "code",
	   "execution_count": null,
	   "metadata": {
	    "collapsed": true
	   },
	   "outputs": [],
"source": [
"// Scilab code Exa3.11 : : Page-125(2011)\n",
"clc; clear;\n",
"P = 1;     // Momentum of the proton, GeV/c\n",
"M_0 = 0.94;    // Rest mass of the proton, GeV/c-square\n",
"G = sqrt((P/M_0)^2+1) // Lorentz factor\n",
"V = sqrt(1-1/G^2);     // Minimum velocity of the electron, m/s\n",
"u = 1/V;     // Refractive index of the gas\n",
"printf('\nThe refractive index of the gas = %4.2f', u); \n",
"u = 1.6;     // Refractive index\n",
"theta = round (acos(1/(u*V))*180/3.14);     // Angle at which cerenkov radiatin is emitted,degree\n",
"printf('\nThe angle at which Cerenkov radiation is emitted = %d degree',theta) \n",
"\n",
"// Result \n",
"//  The refractive index of the gas = 1.37\n",
"// The angle at which Cerenkov radiation is emitted = 31 degree "
   ]
   }
,
{
		   "cell_type": "markdown",
		   "metadata": {},
		   "source": [
			"## Example 3.12: Minimum_kinetic_energy_of_the_electron_to_emit_Cerenkov_radiation.sce"
		   ]
		  },
  {
"cell_type": "code",
	   "execution_count": null,
	   "metadata": {
	    "collapsed": true
	   },
	   "outputs": [],
"source": [
"// Scilab code Exa3.12 : : Page-126(2011)\n",
"clc; clear;\n",
"n = 1+1.35e-04; // Refractive index of the medium\n",
"V_min = 1/n; // Minimum velocity of the electron, m/s\n",
"p = (1+V_min)*(1-V_min); // It is nothing but just to take the product \n",
"G_min = 1/sqrt(p); // Lorentz  factor\n",
"m_e = 9.10939e-031; // Mass of the electron, Kg\n",
"C = 3e+08; // Velocity of light, metre per  sec\n",
"T_min = [(G_min-1)*m_e*C^2]/(1.602e-013); // Minimum kinetic energy required by an  electro to emit cerenkov radiation, mega electron volts\n",
"printf('\nThe minimum kinetic energy required to  electron to emit cerenkov radiation = %5.2f MeV', T_min);\n",
" \n",
"// Result \n",
"// The minimum kinetic energy required to  electron to emit cerenkov radiation = 30.64 MeV "
   ]
   }
,
{
		   "cell_type": "markdown",
		   "metadata": {},
		   "source": [
			"## Example 3.1: Alpha_particle_impinging_on_an_aluminium_foil.sce"
		   ]
		  },
  {
"cell_type": "code",
	   "execution_count": null,
	   "metadata": {
	    "collapsed": true
	   },
	   "outputs": [],
"source": [
"// Scilab code Exa3.1 : : Page-123 (2011)\n",
"clc; clear;\n",
"E = 9;    // Energy of the alpha particle, MeV\n",
"S = 1700; //  Stopping power of Al\n",
"D = 2700; // Density of Al, Kg per cubic metre\n",
"R_air = 0.00318*E^(3/2); // Range of an alpha particle in air,metre\n",
"R_Al =  R_air/S; // Range of an alpha particle in Al, metre\n",
"T = D*1/S; // Thickness in Al of 1m air, Kg per square metre\n",
"printf('\nThe range of an alpha particle = %4.2e metre \nThe thickness in Al of 1 m air = %4.2f Kg per square metre', R_Al, T);\n",
"\n",
"// Result\n",
"// The range of an alpha particle = 5.05e-05 metre \n",
"// The thickness in Al of 1 m air = 1.59 Kg per square metre "
   ]
   }
,
{
		   "cell_type": "markdown",
		   "metadata": {},
		   "source": [
			"## Example 3.4: Thickness_of_beta_absorption.sce"
		   ]
		  },
  {
"cell_type": "code",
	   "execution_count": null,
	   "metadata": {
	    "collapsed": true
	   },
	   "outputs": [],
"source": [
"// Scilab code Exa3.4: : Page-124 (2011)\n",
"clc; clear;\n",
"E_max = 1.17; // Maximum energy of the beta particle, mega electron volts\n",
"D = 2.7; // Density of Al,gram per cubic metre\n",
"u_m = 22/E_max; // Mass absorption coefficient,centimetre square per gram\n",
"x_h = log(2)/(u_m*D); // Half value thickness for beta absorption, cm\n",
"printf('\nThe Half value thickness for beta absorption = %5.3f cm', x_h); \n",
"\n",
"// Result \n",
"// The Half value thickness for beta absorption = 0.014 cm "
   ]
   }
,
{
		   "cell_type": "markdown",
		   "metadata": {},
		   "source": [
			"## Example 3.7: Beta_particles_passing_through_lead.sce"
		   ]
		  },
  {
"cell_type": "code",
	   "execution_count": null,
	   "metadata": {
	    "collapsed": true
	   },
	   "outputs": [],
"source": [
"// Scilab code Exa3.7: : Page 125(2011)\n",
"clc; clear;\n",
"Z = 82;    // Atomic number\n",
"E = 1; // Energy of the beta paricle, MeV\n",
"I_l = 800;     // Ionisation loss, MeV\n",
"R = Z*E/I_l;     // Ratio of radiation loss to ionisation loss\n",
"E_1 = I_l/Z;     // Energy of the beta particle when radiation radiation loss is equal to ionisation loss, MeV\n",
"\n",
"printf('\nThe ratio of radiation loss to ionisation loss = %5.3e  \nThe energy of the beta particle = %4.2f MeV ', R, E_1);\n",
"\n",
"// Result\n",
"// The ratio of radiation loss to ionisation loss = 1.025e-01  \n",
"// The energy of the beta particle = 9.76 MeV  "
   ]
   }
,
{
		   "cell_type": "markdown",
		   "metadata": {},
		   "source": [
			"## Example 3.8: Thickness_of_gamma_absorption.sce"
		   ]
		  },
  {
"cell_type": "code",
	   "execution_count": null,
	   "metadata": {
	    "collapsed": true
	   },
	   "outputs": [],
"source": [
"// Scilab code Exa3.8 : : Page 125(2011)\n",
"clc; clear;\n",
"x = 0.25;     // Thickness of Al, metre\n",
"U_l = 1/x*log(50);     // Linear  absorption coefficient\n",
"d = 2700;             // density of the Al, Kg per cubic centimetre \n",
"x_h = log(2)/U_l;     // Half value thickness of Al, metre\n",
"U_m =  U_l/d;         // Mass absorption coefficient, square metre per Kg\n",
"printf('\nThe half value thickness of Al = %6.4f Kg per cubic metre \nThe mass absorption coefficient = %7.5f square metre per Kg ',x_h, U_m);\n",
"\n",
"// Result\n",
"// The half value thickness of Al = 0.0443 Kg per cubic metre \n",
"// The mass absorption coefficient = 0.00580 square metre per Kg  "
   ]
   }
,
{
		   "cell_type": "markdown",
		   "metadata": {},
		   "source": [
			"## Example 3.9: The_energy_of_recoil_electrons.sce"
		   ]
		  },
  {
"cell_type": "code",
	   "execution_count": null,
	   "metadata": {
	    "collapsed": true
	   },
	   "outputs": [],
"source": [
"// Scilab code Exa3.9 : : Page-125(2011)\n",
"clc; clear;\n",
"E_g = 2.19*1.6e-013; // Energy of the gamma rays, joule\n",
"m_e = 9.10939e-031; // Mass of the electron, Kg\n",
"C = 3e+08; // Velocity of light, m/s\n",
"E_max = [E_g/(1+(m_e*C^2)/(2*E_g))]/(1.6e-013); // Energy of the compton recoil electron, MeV\n",
"printf('\nThe energy of the compton recoil electrons = %5.3f MeV', E_max); \n",
"\n",
"// Result \n",
"// The energy of the compton recoil electrons = 1.961 MeV"
   ]
   }
],
"metadata": {
		  "kernelspec": {
		   "display_name": "Scilab",
		   "language": "scilab",
		   "name": "scilab"
		  },
		  "language_info": {
		   "file_extension": ".sce",
		   "help_links": [
			{
			 "text": "MetaKernel Magics",
			 "url": "https://github.com/calysto/metakernel/blob/master/metakernel/magics/README.md"
			}
		   ],
		   "mimetype": "text/x-octave",
		   "name": "scilab",
		   "version": "0.7.1"
		  }
		 },
		 "nbformat": 4,
		 "nbformat_minor": 0
}
