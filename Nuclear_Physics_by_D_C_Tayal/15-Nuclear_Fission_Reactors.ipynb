{
"cells": [
 {
		   "cell_type": "markdown",
	   "metadata": {},
	   "source": [
       "# Chapter 15: Nuclear Fission Reactors"
	   ]
	},
{
		   "cell_type": "markdown",
		   "metadata": {},
		   "source": [
			"## Example 15.1: Estimation_of_the_leakage_factor_for_thermal_reactor.sce"
		   ]
		  },
  {
"cell_type": "code",
	   "execution_count": null,
	   "metadata": {
	    "collapsed": true
	   },
	   "outputs": [],
"source": [
"// Scilab code Exa15.1 : : Page-652 (2011)\n",
"clc; clear;\n",
"N_0_235 = 1;        // Number of uranium atom\n",
"N_0_c = 10^5;        // Number of graphite atoms per uranium atom\n",
"sigma_a_235 = 698;    // Absorption cross section for uranium, barns\n",
"sigma_a_c = 0.003;        // Absorption cross section for graphite, barns\n",
"f = N_0_235*sigma_a_235/(N_0_235*sigma_a_235+N_0_c*sigma_a_c );    // Thermal utilization factor\n",
"eta = 2.08;        // Number of fast fission neutron produced\n",
"k_inf = eta*f;        // Multiplication factor\n",
"L_m = 0.54;            // Material length, metre\n",
"L_sqr = ((L_m)^2*(1-f));   // diffusion length, metre\n",
"tau = 0.0364;                // Age of the neutron\n",
"B_sqr = 3.27;            // Geometrical buckling\n",
"k_eff = round (k_inf*exp(-tau*B_sqr)/(1+L_sqr*B_sqr));   // Effective multiplication factor\n",
"N_lf = k_eff/k_inf;    // Non leakage factor\n",
"lf = (1-N_lf)*100;        // Leakage factor, percent\n",
"printf('\n Total leakage factor = %4.1f percent',lf)\n",
"// Result\n",
"//  Total leakage factor = 31.3 percent  "
   ]
   }
,
{
		   "cell_type": "markdown",
		   "metadata": {},
		   "source": [
			"## Example 15.2: Neutron_multiplication_factor_of_uranium_reactor.sce"
		   ]
		  },
  {
"cell_type": "code",
	   "execution_count": null,
	   "metadata": {
	    "collapsed": true
	   },
	   "outputs": [],
"source": [
"// Scilab code Exa15.2 : : Page-652 (2011)\n",
"clc; clear;\n",
"N_m = 50;        // Number of molecules of heavy water per uranium molecule\n",
"N_u = 1;        // Number of uranium molecules \n",
"sigma_a_u = 7.68;        // Absorption cross section for uranium, barns\n",
"sigma_s_u = 8.3;        // Scattered cross section for uranium, barns\n",
"sigma_a_D = 0.00092;    // Absorption cross section for heavy water, barns\n",
"sigma_s_D = 10.6;        // Scattered cross section for uranium, barns \n",
"f = N_u*sigma_a_u/(N_u*sigma_a_u+N_m*sigma_a_D );        // Thermal utilization factor\n",
"zeta = 0.570;        // Average number of collisions\n",
"N_0 = N_u*139/140;        // Number of U-238 atoms per unit volume \n",
"sigma_s = N_m/N_0*sigma_s_D;    // Scattered cross section, barns\n",
"sigma_a_eff = 3.85*(sigma_s/N_0)^0.415;    // Effective absorption cross section, barns\n",
"p = exp(-sigma_a_eff/sigma_s);        // Resonance escape probablity\n",
"eps = 1;                // Fast fission factor\n",
"eta = 1.34;            // Number of fast fission neutron produced\n",
"k_inf = eps*eta*p*f;        // Effective multiplication factor\n",
"printf('\nNeutron multiplication factor = %4.1f ', k_inf);\n",
"// Result\n",
"// Neutron multiplication factor =  1.2  "
   ]
   }
,
{
		   "cell_type": "markdown",
		   "metadata": {},
		   "source": [
			"## Example 15.3: Multiplication_factor_for_uranium_graphite_moderated_assembly.sce"
		   ]
		  },
  {
"cell_type": "code",
	   "execution_count": null,
	   "metadata": {
	    "collapsed": true
	   },
	   "outputs": [],
"source": [
"// Scilab code Exa15.3 : : Page-652 (2011)\n",
"clc; clear;\n",
"// For graphite\n",
"sigma_a_g = 0.0032;        // Absorption cross section for graphite, barns\n",
"sigma_s_g = 4.8;        // Scattered cross section for graphite, barns\n",
"zeta = 0.158;        // Average number of collisions\n",
"N_m = 50;        // Number of molecules of graphite per uranium molecule\n",
"// For uranium\n",
"sigma_f = 590;     // Fissioning cross section, barns\n",
"sigma_a_u = 698;        // Absorption cross section for U-235, barns\n",
"sigma_a_238 = 2.75;        // Absorption cross section for U-238, barns\n",
"v = 2.46;            // Number of fast neutrons emitted\n",
"N_u = 1            // Number of uranium atoms \n",
"f = N_u*sigma_a_u/(N_u*sigma_a_u+N_m*sigma_a_g );        // Thermal utilization factor\n",
"N_0 = N_u*(75/76);        // Number of U-238 atoms per unit volume\n",
"sigma_s = N_m*76/75*sigma_s_g/N_u;        // Scattered cross section, barns\n",
"sigma_eff = 3.85*(sigma_s/N_0)^0.415;        // Effective cross section, barns\n",
"p = exp(-sigma_eff/sigma_s);        // Resonance escape probability, barns\n",
"eps = 1;        // Fast fission factor\n",
"eta = 1.34;        // Number of fast fission neutron produced\n",
"k_inf = eps*eta*p*f;        // Multiplication factor\n",
"printf('\nThe required multiplication factor = %3.1f ', k_inf);\n",
"// Result\n",
"// The required multiplication factor = 1.1  "
   ]
   }
,
{
		   "cell_type": "markdown",
		   "metadata": {},
		   "source": [
			"## Example 15.4: Ratio_of_number_of_uranium_atoms_to_graphite_atoms.sce"
		   ]
		  },
  {
"cell_type": "code",
	   "execution_count": null,
	   "metadata": {
	    "collapsed": true
	   },
	   "outputs": [],
"source": [
"// Scilab code Exa15.4 : : Page-653 (2011)\n",
"clc; clear;\n",
"eta = 2.07;        // Number of fast fission neutron produced\n",
"x = 1/(eta-1);     \n",
"sigma_a_u = 687;   // Absorption cross section for uranium, barns\n",
"sigma_a_g = 0.0045; // Absorption cross section for graphite, barns\n",
"N_ratio = x*sigma_a_g/sigma_a_u;    // Ratio of number of uranium atoms to graphite atoms\n",
"printf('\nThe ratio of number of uranium atoms to graphite atoms = %4.2e ', N_ratio);\n",
"// Result\n",
"// The ratio of number of uranium atoms to graphite atoms = 6.12e-006  "
   ]
   }
,
{
		   "cell_type": "markdown",
		   "metadata": {},
		   "source": [
			"## Example 15.5: Multiplication_factor_for_LOPO_nuclear_reactor.sce"
		   ]
		  },
  {
"cell_type": "code",
	   "execution_count": null,
	   "metadata": {
	    "collapsed": true
	   },
	   "outputs": [],
"source": [
"// Scilab code Exa15.5 : : Page-653 (2011)\n",
"clc; clear; \n",
"f = 0.754;        // Thermal utilization factor\n",
"sigma_s_o = 4.2;        // Scattered cross section for oxygen, barns\n",
"sigma_s_H = 20;        // Scattered cross section for hydrogen, barns\n",
"N_O = 879.25;        // Number of oxygen atoms\n",
"N_238 = 14.19;        // Number of uranium atoms\n",
"N_H = 1573;            // Number of hydrogen atoms\n",
"sigma_s = N_O/N_238*sigma_s_o+N_H/N_238*sigma_s_H;        // Scattered cross section, barns\n",
"N_0 = 14.19;        // Number of U-238 per unit volume\n",
"zeta_o = 0.120;    // Number of collision for oxygen\n",
"zeta_H = 1;        // Number of collision for hydrogen\n",
"sigma_eff = (N_0/(zeta_o*sigma_s_o*N_O+zeta_H*sigma_s_H*N_H ));        // Effective cross section, barns\n",
"p = exp(-sigma_eff/sigma_s);        // Resonance escape probablity\n",
"eta = 2.08;        // Number of fission neutron produced.\n",
"eps = 1;        // Fission factor\n",
"K_inf = eps*eta*p*f;    // Multiplication factor\n",
"printf('\nThe multiplication factor for LOPO reactor = %3.1f ', K_inf);\n",
"// Result\n",
"// The multiplication factor for LOPO reactor = 1.6  "
   ]
   }
,
{
		   "cell_type": "markdown",
		   "metadata": {},
		   "source": [
			"## Example 15.6: Control_poison_required_to_maintain_the_criticality_of_U235.sce"
		   ]
		  },
  {
"cell_type": "code",
	   "execution_count": null,
	   "metadata": {
	    "collapsed": true
	   },
	   "outputs": [],
"source": [
"// Scilab code Exa15.6 : : Page-654 (2011)\n",
"clc; clear;\n",
"r = 35;        // Radius of the reactor, centi metre\n",
"B_sqr = (%pi/r)^2;    // Geometrical buckling, per square centi metre\n",
"D = 0.220;        // Diffusion coefficient, centi metre\n",
"sigma_a_f = 0.057;    // Rate of absorption of thermal neutrons\n",
"v = 2.5;        // Number of fast neutrons emitted\n",
"tau = 50;        // Age of the neutron\n",
"sigma_f = 0.048;    // Rate of fission\n",
"sigma_a_c = -1/(1+tau*B_sqr)*(-v*sigma_f+sigma_a_f+B_sqr*D+tau*B_sqr*sigma_a_f);        // Controlled cross section\n",
"printf('\nThe required controlled cross section = %6.4f ', sigma_a_c);\n",
"// Result\n",
"// The required controlled cross section = 0.0273  "
   ]
   }
,
{
		   "cell_type": "markdown",
		   "metadata": {},
		   "source": [
			"## Example 15.7: Dimensions_of_a_reactor.sce"
		   ]
		  },
  {
"cell_type": "code",
	   "execution_count": null,
	   "metadata": {
	    "collapsed": true
	   },
	   "outputs": [],
"source": [
"// Scilab code Exa15.7 : : Page-655 (2011)\n",
"clc; clear;\n",
"B_sqr = 65;        // Geometrical buckling\n",
"a = sqrt(3*%pi^2/B_sqr)*100;    // Side of the cubical reactor, centi metre\n",
"R = round(%pi/sqrt(B_sqr)*100); // Radius of the cubical reactor,centi metre\n",
"printf('\nThe side of the cubical reactor = %4.1f cm\nThe critical radius of the reactor = %d cm', a, R);\n",
"// Result\n",
"// The side of the cubical reactor = 67.5 cm\n",
"// The critical radius of the reactor = 39 cm "
   ]
   }
,
{
		   "cell_type": "markdown",
		   "metadata": {},
		   "source": [
			"## Example 15.8: Critical_volume_of_the_spherical_reactor.sce"
		   ]
		  },
  {
"cell_type": "code",
	   "execution_count": null,
	   "metadata": {
	    "collapsed": true
	   },
	   "outputs": [],
"source": [
"// Scilab code Exa15.8 : : Page-655 (2011)\n",
"clc; clear;\n",
"sigma_a_u = 698;        // Absorption cross section for uranium, barns\n",
"sigma_a_M = 0.00092;        // Absorption cross section for heavy water, barns\n",
"N_m = 10^5;        // Number of atoms of heavy water\n",
"N_u = 1;        // Number of atoms of uranium\n",
"f = sigma_a_u/(sigma_a_u+sigma_a_M*N_m/N_u);   // Thermal utilization factor\n",
"eta = 2.08;        // Number of fast fission neutron produced\n",
"k_inf = eta*f;        // Multiplication factor\n",
"L_m_sqr = 1.70;        // Material length, metre\n",
"L_sqr = L_m_sqr*(1-f);    // Diffusion length, metre\n",
"B_sqr = 1.819/0.30381*exp(-1/12)-1/0.3038;    // Geometrical buckling, per square metre\n",
"V_c = 120/(B_sqr*sqrt(B_sqr));        // Volume of the reactor, cubic metre\n",
"printf('\nThe critical volume of the reactor = %4.1f cubic metre', V_c);\n",
"// Result\n",
"// The critical volume of the reactor = 36.4 cubic metre "
   ]
   }
],
"metadata": {
		  "kernelspec": {
		   "display_name": "Scilab",
		   "language": "scilab",
		   "name": "scilab"
		  },
		  "language_info": {
		   "file_extension": ".sce",
		   "help_links": [
			{
			 "text": "MetaKernel Magics",
			 "url": "https://github.com/calysto/metakernel/blob/master/metakernel/magics/README.md"
			}
		   ],
		   "mimetype": "text/x-octave",
		   "name": "scilab",
		   "version": "0.7.1"
		  }
		 },
		 "nbformat": 4,
		 "nbformat_minor": 0
}
