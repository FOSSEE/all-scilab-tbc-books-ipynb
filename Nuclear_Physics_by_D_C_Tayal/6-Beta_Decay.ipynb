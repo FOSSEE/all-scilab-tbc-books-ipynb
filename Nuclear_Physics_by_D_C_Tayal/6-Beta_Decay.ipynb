{
"cells": [
 {
		   "cell_type": "markdown",
	   "metadata": {},
	   "source": [
       "# Chapter 6: Beta Decay"
	   ]
	},
{
		   "cell_type": "markdown",
		   "metadata": {},
		   "source": [
			"## Example 6.10: Half_life_of_tritium.sce"
		   ]
		  },
  {
"cell_type": "code",
	   "execution_count": null,
	   "metadata": {
	    "collapsed": true
	   },
	   "outputs": [],
"source": [
"// Scilab code Exa6.10: : Page-244 (2011)\n",
"clc; clear;\n",
"tau_0 = 7000;        // Time constant, sec\n",
"M_mod_sqr = 3;        // Nuclear matrix\n",
"E_0 = 0.018;        // Energy of beta spectrum, MeV \n",
"ft = 0.693*tau_0/M_mod_sqr;   // Comparative half life\n",
"fb = 10^(4.0*log10(E_0)+0.78+0.02);    //\n",
"t = 10^(log10(ft)-log10(fb));   // Half life of H3, sec\n",
"printf('\nThe half life of H3 = %4.2e sec', t);\n",
"\n",
"// Result\n",
"// The half life of H3 = 2.44e+009 sec "
   ]
   }
,
{
		   "cell_type": "markdown",
		   "metadata": {},
		   "source": [
			"## Example 6.11: Degree_of_forbiddenness_of_transition.sce"
		   ]
		  },
  {
"cell_type": "code",
	   "execution_count": null,
	   "metadata": {
	    "collapsed": true
	   },
	   "outputs": [],
"source": [
"// Scilab code Exa6.11: : Page-244 (2011)\n",
"clc; clear;\n",
"t_p = 33/0.92*365*84800;    // Partial half life for beta emission, sec\n",
"E_0 = 0.51;        // Kinetic energy\n",
"Z = 55;            // Atomic number of cesium\n",
"log_fb = 4.0*log10(E_0)+0.78+0.02*Z-0.005*(Z-1)*log10(E_0);    // Comparitive half life\n",
"log_ft1 = log_fb+log10(t_p);     // Forbidden tansition\n",
"// For 8 percent beta minus emission\n",
"t_p = 33/0.08*365*84800;    // Partial half life, sec\n",
"E_0 = 1.17;        // Kinetic energy\n",
"Z = 55;            // Atomic energy\n",
"log_fb = 4.0*log10(E_0)+0.78+0.02*Z-0.005*(Z-1)*log10(E_0);    // Comparitive half life\n",
"log_ft2 = log_fb+log10(t_p);    // Forbidden transition\n",
"// Check the degree of forbiddenness !!!!!\n",
"if log_ft1 <= 10 then\n",
"    printf('\nFor 92 percent beta emission :')\n",
"    printf('\n\tTransition is once forbidden and parity change');\n",
"end\n",
"if log_ft2 >= 10 then\n",
"    printf('\nFor 8 percent beta emission :')\n",
"    printf('\n\t ransition is twice forbidden and no parity change');\n",
"end\n",
"\n",
"// Result\n",
"// For 92 percent beta emission :\n",
"//	Transition is once forbidden and parity change\n",
"// For 8 percent beta emission :\n",
"//	Transition is twice forbidden and no parity change\n",
" "
   ]
   }
,
{
		   "cell_type": "markdown",
		   "metadata": {},
		   "source": [
			"## Example 6.12: Coupling_constant_and_ratio_of_coupling_strengths_for_beta_transitons.sce"
		   ]
		  },
  {
"cell_type": "code",
	   "execution_count": null,
	   "metadata": {
	    "collapsed": true
	   },
	   "outputs": [],
"source": [
"// Scilab code Exa6.12: : Page-244(2011)\n",
"clc; clear;\n",
"h_kt = 1.05457e-34;    // Reduced planck's constant, joule sec\n",
"c = 3e+08;             // velocity of light, metre per sec\n",
"m_e = 9.1e-31;         // Mass of the electron, Kg\n",
"ft_O = 3162.28;        // Comparative half life for oxygen\n",
"ft_n = 1174.90;        // Comparative half life for neutron\n",
"M_f_sqr = 2            // Matrix element\n",
"g_f = sqrt(2*%pi^3*h_kt^7*log(2)/(m_e^5*c^4*ft_O*M_f_sqr));    // Coupling constant, joule cubic metre\n",
"C_ratio = (2*ft_O/(ft_n)-1)/3;    // Ratio of coupling strength\n",
"printf('\nThe value of coupling constant = %6.4e joule cubic metre\nThe ratio of coupling constant = %5.3f', g_f, C_ratio);\n",
"\n",
"// Result\n",
"// The value of coupling constant = 1.3965e-062 joule cubic metre\n",
"// The ratio of coupling constant = 1.461 "
   ]
   }
,
{
		   "cell_type": "markdown",
		   "metadata": {},
		   "source": [
			"## Example 6.13: Relative_capture_rate_in_holmium_for_3p_to_3s_sublevels.sce"
		   ]
		  },
  {
"cell_type": "code",
	   "execution_count": null,
	   "metadata": {
	    "collapsed": true
	   },
	   "outputs": [],
"source": [
"// Scilab code Exa6.13: : Page-245 (2011)\n",
"clc; clear;\n",
"Q_EC = 850;        // Q value for holmium 161, keV\n",
"B_p = 2.0;    // Binding energy for p-orbital electron, keV\n",
"B_s = 1.8;        // Binding energy for s-orbital electron, keV\n",
"M_ratio = 0.05*(Q_EC-B_p)^2/(Q_EC-B_s)^2;    // Matrix ratio\n",
"Q_EC = 2.5;        // Q value for holmium 163, keV\n",
"C_rate = M_ratio*(Q_EC-B_s)^2/(Q_EC-B_p)^2*100;    // The relative capture rate in holmium, percent\n",
"printf('\nThe relative capture rate in holmium 161 = %3.1f percent', C_rate);\n",
"\n",
"// Result\n",
"// The relative capture rate in holmium 161 = 9.8 percent "
   ]
   }
,
{
		   "cell_type": "markdown",
		   "metadata": {},
		   "source": [
			"## Example 6.14: Tritium_isotope_undergoing_beta_decay.sce"
		   ]
		  },
  {
"cell_type": "code",
	   "execution_count": null,
	   "metadata": {
	    "collapsed": true
	   },
	   "outputs": [],
"source": [
"// Scilab code Exa6.14: : Page-246 (2011)\n",
"clc; clear;\n",
"t_half = 12.5*365*24;        // Half life of hydrogen 3, hour\n",
"lambda = log(2)/t_half;      // Decay constant, per hour\n",
"N_0 = 6.023e+26;             // Avogadro's number, per mole\n",
"m = 0.1e-03;                // Mass of tritium, Kg\n",
"dN_by_dt = lambda*m*N_0/3;  // Decay rate, per hour\n",
"H = 21*4.18;                // Heat produed, joule \n",
"E = H/dN_by_dt;             // The average energy of the beta particle, joule\n",
"printf('\nThe average energy of beta particles = %4.2e joule = %3.1f keV', E, E/1.6e-016);\n",
"\n",
"// Result\n",
"// The average energy of beta particles = 6.91e-016 joule = 4.3 keV \n",
" "
   ]
   }
,
{
		   "cell_type": "markdown",
		   "metadata": {},
		   "source": [
			"## Example 6.15: Fermi_and_Gamow_Teller_selection_rule_for_allowed_beta_transitions.sce"
		   ]
		  },
  {
"cell_type": "code",
	   "execution_count": null,
	   "metadata": {
	    "collapsed": true
	   },
	   "outputs": [],
"source": [
"// Scilab code Exa6.15: : Page-246 (2011)\n",
"clc; clear;\n",
"S = string(rand(2,1))\n",
"S(1,1) = 'antiparallel spin'\n",
"S(2,1) = 'parallel spin'\n",
"\n",
"for i = 1:2\n",
"    if S(i,1) == 'antiparallel spin' then\n",
"       printf('\nFor Fermi types :')\n",
"        printf('\n\n The selection rules for allowed transitions are :  \n\tdelta I is zero \n\tdelta pi is plus \nThe emited neutrino and electron have %s',S(i,1))\n",
"      elseif S(i,1) == 'parallel spin' then\n",
"        printf('\nFor Gamow-Teller types :')\n",
"        printf('\nThe selection rules for allowed transitions are : \n\tdelta I is zero,plus one and minus one\n\tdelta pi is plus\nThe emited neutrino and electron have %s',S(i,1)) \n",
"    end\n",
" end\n",
"// Calculation of ratio of transition probability\n",
"M_F = 1;    // Matrix for Fermi particles\n",
"g_F = 1;        // Coupling constant of fermi particles\n",
"M_GT = 5/3;        // Matrix for Gamow Teller\n",
"g_GT = 1.24;        // Coupling constant of Gamow Teller\n",
"T_prob = g_F^2*M_F/(g_GT^2*M_GT);    // Ratio of transition probability\n",
"// Calculation of Space phase factor\n",
"e = 1.6e-19;        // Charge of an electron, coulomb\n",
"c = 3e+08;            // Velocity of light, metre per sec\n",
"K = 8.99e+9;        // Coulomb constant\n",
"R_0 = 1.2e-15;        // Distance of closest approach, metre\n",
"A = 57;            // Mass number\n",
"Z = 28;            // Atomic number \n",
"m_n = 1.6749e-27;    // Mass of neutron, Kg\n",
"m_p = 1.6726e-27;    // Mass of proton, Kg\n",
"m_e = 9.1e-31;        // Mass of electron. Kg\n",
"E_1 = 0.76;         // First excited state of nickel\n",
"delta_E = ((3*e^2*K/(5*R_0*A^(1/3))*((Z+1)^2-Z^2))-(m_n-m_p)*c^2)/1.6e-13;         // Mass difference, mega electron volts\n",
"E_0 = delta_E-(2*m_e*c^2)/1.6e-13;    // End point energy, mega electron volts\n",
"P_factor = (E_0-E_1)^5/E_0^5;    // Space phase factor \n",
" printf('\nThe ratio of transition probability = %4.2f\nThe space phase factor = %4.2f', T_prob, P_factor);\n",
" \n",
"// Result\n",
"// The emited neutrino and electron have antiparallel spin\n",
"// For Gamow-Teller types :\n",
"// The selection rules for allowed transitions are : \n",
"//	delta I is zero,plus one and minus one\n",
"//	delta pi is plus\n",
"// The emited neutrino and electron have parallel spin\n",
"// The ratio of transition probability = 0.39\n",
"// The space phase factor = 0.62 "
   ]
   }
,
{
		   "cell_type": "markdown",
		   "metadata": {},
		   "source": [
			"## Example 6.1: Disintegration_of_the_beta_particles_by_Bi210.sce"
		   ]
		  },
  {
"cell_type": "code",
	   "execution_count": null,
	   "metadata": {
	    "collapsed": true
	   },
	   "outputs": [],
"source": [
"// Scilab code Exa6.1: : Page- 240 (2011)\n",
"clc; clear;\n",
"T = 5*24*60*60;    // Half life of the substance, sec\n",
"N = 6.023e+026*4e-06/210;        // Number of atoms\n",
"lambda = 0.693/T;             // Disintegration constant, per sec\n",
"K = lambda*N;                // Rate of disintegration, \n",
"E = 0.34*1.60218e-013;        // Energy of the beta particle, joule\n",
"P = E*K;                    //   Rate at which energy is emitted, watt\n",
"printf('\nThe rate at which energy is emitted = %d watt', P);\n",
"\n",
"// Result\n",
"// The rate at which energy is emitted = 1 watt "
   ]
   }
,
{
		   "cell_type": "markdown",
		   "metadata": {},
		   "source": [
			"## Example 6.2: Beta_particle_placed_in_the_magnetic_field.sce"
		   ]
		  },
  {
"cell_type": "code",
	   "execution_count": null,
	   "metadata": {
	    "collapsed": true
	   },
	   "outputs": [],
"source": [
"// Scilab code Exa6.2 : : Page-241 (2011)\n",
"clc; clear;\n",
"M_0 = 9.10939e-031;         // Rest mass of the electron, Kg\n",
"C = 2.92e+08;            // Velocity of the light, metre per sec\n",
"E = 1.71*1.60218e-013;        // Energy of the beta particle, joule\n",
"e = 1.60218e-019;                // Charge of the electron, C \n",
"R = 0.1;                     // Radius of the orbit, metre\n",
"B = M_0*C*(E/(M_0*C^2)+1)*1/(R*e); // Magnetic field perpendicular to the beam  of the particle, weber per square metre\n",
"\n",
"printf('\nThe magnetic field perpendicular to the beam of the particle = %5.3f Wb/square-metre', B);\n",
"\n",
"// Result\n",
"// The magnetic field perpendicular to the beam of the particle = 0.075 Wb/square-metre "
   ]
   }
,
{
		   "cell_type": "markdown",
		   "metadata": {},
		   "source": [
			"## Example 6.3: K_conversion.sce"
		   ]
		  },
  {
"cell_type": "code",
	   "execution_count": null,
	   "metadata": {
	    "collapsed": true
	   },
	   "outputs": [],
"source": [
"// Scilab code Exa6.3 : : Page-241 (2011)\n",
"clc; clear;\n",
"m_0 = 9.10963e-031;         // Rest mass of the electron, Kg\n",
"e = 1.60218e-019;           // Charge of the electron, C\n",
"c = 2.9979e+08;            // Velocity of the light, metre per sec\n",
"BR = 3381e-006;     // Field-radius product, tesla-m\n",
"E_k = 37.44;    // Binding energy of k-electron\n",
"v = 1/sqrt((m_0/(BR*e))^2+1/c^2); // Velocity of the converson electron, m/s\n",
"E = m_0*c^2*(1/sqrt(1-v^2/c^2)-1)/(e*1e+003);   // Energy of the electron, keV \n",
"E_C = E+E_k;            // Energy of the converted gamma ray photon, KeV\n",
"printf('\nThe energy of the electron = %6.2f keV \nThe energy of the converted gamma ray photon = %6.2f keV', E, E_C);\n",
"\n",
"// Result\n",
"// The energy of the electron = 624.11 keV \n",
"// The energy of the converted gamma ray photon = 661.55 keV "
   ]
   }
,
{
		   "cell_type": "markdown",
		   "metadata": {},
		   "source": [
			"## Example 6.4: Average_energy_carried_away_by_neutrino_during_beta_decay_process.sce"
		   ]
		  },
  {
"cell_type": "code",
	   "execution_count": null,
	   "metadata": {
	    "collapsed": true
	   },
	   "outputs": [],
"source": [
"// Scilab code Exa6.4 : : Page-241 (2011)\n",
"clc; clear;\n",
"E = 18.1;                // Energy carried by beta particle, keV \n",
"E_av = E/3;               // Average energy carried away by beta particle, keV\n",
"E_r = E-E_av;            // The rest energy carried out by the neutrino, keV\n",
"\n",
"printf('\nThe rest energy carried out by the neutrino : %5.3f KeV', E_r);\n",
"\n",
"// Result\n",
"// The rest energy carried out by the neutrino : 12.067 KeV "
   ]
   }
,
{
		   "cell_type": "markdown",
		   "metadata": {},
		   "source": [
			"## Example 6.5: Maximum_energy_available_to_the_electrons_in_the_beta_decay_of_Na24.sce"
		   ]
		  },
  {
"cell_type": "code",
	   "execution_count": null,
	   "metadata": {
	    "collapsed": true
	   },
	   "outputs": [],
"source": [
"// Scilab code Exa6.5: : Page-242(2011)\n",
"clc; clear;\n",
"M_Na = -8420.40;        // Mass of sodium 24, keV\n",
"M_Mg = -13933.567;      // Mass of magnesium 24, keV\n",
"E = (M_Na-M_Mg)/1000;    // Energy of the electron, MeV\n",
"printf('\nThe maximum energy available to the electrons in the beta decay = %5.3f MeV', E);\n",
"\n",
"// Result\n",
"// The maximum energy available to the electrons in the beta decay = 5.513 MeV "
   ]
   }
,
{
		   "cell_type": "markdown",
		   "metadata": {},
		   "source": [
			"## Example 6.6: Linear_momenta_of_particles_during_beta_decay_process.sce"
		   ]
		  },
  {
"cell_type": "code",
	   "execution_count": null,
	   "metadata": {
	    "collapsed": true
	   },
	   "outputs": [],
"source": [
"// Scilab code Exa6.6: : Page-242 (2011)\n",
"clc; clear;\n",
"c = 1;  // For simplicity assume speed of light to be unity, m/s\n",
"E_0 = 0.155;        // End point energy, mega electron volts\n",
"E_beta = 0.025;        // Energy of beta particle, mega electron volts\n",
"E_v = E_0-E_beta;        // Energy of the neutrino, mega electron volts\n",
"p_v = E_v/c;            // Linear momentum of neutrino, mega electron volts per c\n",
"m = 0.511;            // Mass of an electron, Kg\n",
"M = 14*1.66e-27;        // Mass of carbon 14,Kg\n",
"c = 3e+8;                // Velocity of light, metre per sec\n",
"e = 1.60218e-19;            // Charge of an electron, coulomb\n",
"p_beta = sqrt(2*m*E_beta);    // Linear momentum of beta particle, MeV/c\n",
"sin_theta = p_beta/p_v*sind(45);    // Sine of angle theta\n",
"p_R = p_beta*cosd(45)+p_v*sqrt(1-sin_theta^2);  // Linear momemtum of recoil nucleus, MeV/c\n",
"E_R = (p_R*1.6e-13/2.9979e+08)^2/(2*M*e);  // Recoil energy of product nucleus, MeV\n",
"printf('\nThe linear momentum of neutrino = %4.2f MeV/c \nThe linear momentum of beta particle = %6.4f MeV/c \nThe energy of the recoil nucleus = %4.2f eV', p_v, p_beta, E_R);\n",
"\n",
"// Result\n",
"// The linear momentum of neutrino = 0.13 MeV/c \n",
"// The linear momentum of beta particle = 0.1598 MeV/c \n",
"// The energy of the recoil nucleus = 1.20 eV "
   ]
   }
,
{
		   "cell_type": "markdown",
		   "metadata": {},
		   "source": [
			"## Example 6.7: Energies_during_disintergation_of_Bi210.sce"
		   ]
		  },
  {
"cell_type": "code",
	   "execution_count": null,
	   "metadata": {
	    "collapsed": true
	   },
	   "outputs": [],
"source": [
"// Scilab code Exa6.7: : Page-242 (2011)\n",
"clc; clear;\n",
"N = 3.7e+10*60;        // Number of disintegration, per sec\n",
"H = 0.0268*4.182;        // Heat produced at the output, joule\n",
"E = H/(N*1.6e-013);        // Energy of the beta particle, joule\n",
"M_Bi = -14.815;            // Mass of Bismuth, MeV\n",
"M_Po = -15.977;            // Mass of polonium, MeV\n",
"E_0 = M_Bi-M_Po;            // End point energy, MeV\n",
"E_ratio = E/E_0;            // Ratio of beta particle energy with end point energy\n",
"printf('\nThe energy of the beta particle = %5.3f MeV \nThe ratio of beta particle energy with end point energy = %5.3f ', E, E_ratio);\n",
"\n",
"// Result\n",
"// The energy of the beta particle = 0.316 MeV \n",
"// The ratio of beta particle energy with end point energy = 0.272  "
   ]
   }
,
{
		   "cell_type": "markdown",
		   "metadata": {},
		   "source": [
			"## Example 6.9: The_unstable_nucleus_in_the_nuclide_pair.sce"
		   ]
		  },
  {
"cell_type": "code",
	   "execution_count": null,
	   "metadata": {
	    "collapsed": true
	   },
	   "outputs": [],
"source": [
"// Scilab code Exa6.9: : Page-243(2011)\n",
"clc; clear;\n",
"M = rand(4,2);\n",
"M(1,1) = 7.0182*931.5;    // Mass of lithium, MeV\n",
"M(1,2) = 7.0192*931.5;    // Mass of beryllium, MeV\n",
"M(2,1) = 13.0076*931.5;    // Mass of carbon, MeV\n",
"M(2,2) = 13.0100*931.5;    // Mass of nitrogen, MeV\n",
"M(3,1) = 19.0045*931.5;    // Mass of fluorine, MeV\n",
"M(3,2) = 19.0080*931.5;    // Mass of neon, MeV\n",
"M(4,1) = 33.9983*931.5;    // Mass of phosphorous, MeV\n",
"M(4,2) = 33.9987*931.5;    // Mass of sulphur, MeV\n",
"j = 1; \n",
"// Check the stability !!!!\n",
"for i = 1:4\n",
"    if round (M(i,j+1)-M(i,j)) == 1 then\n",
"        printf('\n From pair a :')\n",
"        printf('\n         Be(4,7) is unstable');\n",
"      elseif round (M(i,j+1)-M(i,j)) ==  2 then\n",
"           printf('\n From pair b :')\n",
"            printf('\n         N(7,13) is unstable');\n",
"      elseif round (M(i,j+1)-M(i,j)) == 3 then\n",
"            printf('\n From pair c :')\n",
"            printf('\n         Ne(10,19) is unstable');\n",
"      elseif round (M(i,j+1)-M(i,j)) == 0 then\n",
"             printf('\n From pair d :')\n",
"            printf('\n         P(15,34) is unstable');\n",
"    end \n",
"end\n",
"\n",
"// Result\n",
"// \n",
"// From pair a :\n",
"//         Be(4,7) is unstable\n",
"// From pair b :\n",
"//         N(7,13) is unstable\n",
"// From pair c :\n",
"//         Ne(10,19) is unstable\n",
"// From pair d :\n",
"//         P(15,34) is unstable "
   ]
   }
],
"metadata": {
		  "kernelspec": {
		   "display_name": "Scilab",
		   "language": "scilab",
		   "name": "scilab"
		  },
		  "language_info": {
		   "file_extension": ".sce",
		   "help_links": [
			{
			 "text": "MetaKernel Magics",
			 "url": "https://github.com/calysto/metakernel/blob/master/metakernel/magics/README.md"
			}
		   ],
		   "mimetype": "text/x-octave",
		   "name": "scilab",
		   "version": "0.7.1"
		  }
		 },
		 "nbformat": 4,
		 "nbformat_minor": 0
}
