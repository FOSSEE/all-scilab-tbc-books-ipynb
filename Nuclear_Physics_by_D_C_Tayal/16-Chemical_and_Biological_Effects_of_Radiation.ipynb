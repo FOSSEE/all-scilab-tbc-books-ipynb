{
"cells": [
 {
		   "cell_type": "markdown",
	   "metadata": {},
	   "source": [
       "# Chapter 16: Chemical and Biological Effects of Radiation"
	   ]
	},
{
		   "cell_type": "markdown",
		   "metadata": {},
		   "source": [
			"## Example 16.1: Radiation_dosimetry.sce"
		   ]
		  },
  {
"cell_type": "code",
	   "execution_count": null,
	   "metadata": {
	    "collapsed": true
	   },
	   "outputs": [],
"source": [
"// Scilab code Exa16.1 : : Page-672 (2011)\n",
"clc; clear;\n",
"R_d = 25;        // Radiation dose, milli rad\n",
"R_c_gy = 25e-03; // Dose in centigray\n",
"R_Sv = 25*10^-2  // Dose in milli sieverts\n",
"printf('\n25 mrad = %2.0e cGy = %4.2f mSv', R_c_gy, R_Sv);\n",
"// Results\n",
"// 25 mrad = 3e-002 cGy = 0.25 mSv "
   ]
   }
,
{
		   "cell_type": "markdown",
		   "metadata": {},
		   "source": [
			"## Example 16.2: Conversion_of_becquerel_into_curie.sce"
		   ]
		  },
  {
"cell_type": "code",
	   "execution_count": null,
	   "metadata": {
	    "collapsed": true
	   },
	   "outputs": [],
"source": [
"// Scilab code Exa16.2 : : Page-673 (2011)\n",
"clc; clear;\n",
"BC_conv = 100*1e+009/3.7e+10;        // Becquerel curie conversion, milli curie\n",
"printf('\n100 mega becquerel = %3.1f milli curie ', BC_conv)\n",
"// Results\n",
"// 100 mega becquerel = 2.7 milli curie  "
   ]
   }
,
{
		   "cell_type": "markdown",
		   "metadata": {},
		   "source": [
			"## Example 16.4: Amount_of_liver_dose_for_a_liver_scan.sce"
		   ]
		  },
  {
"cell_type": "code",
	   "execution_count": null,
	   "metadata": {
	    "collapsed": true
	   },
	   "outputs": [],
"source": [
"// Scilab code Exa16.4 : : Page-673 (2011)\n",
"clc; clear;\n",
"A = 80*10^6;        // Activity, becquerel\n",
"t_half = 6*3600;    // Half life, s\n",
"N = A*t_half/0.693;    // Number of surviving radionuclei\n",
"E_released = 0.9*N*(140e+03)*1.6e-19;    // Energy released, joule\n",
"m_l = 1.8;                    // Mass of liver of average man, Kg\n",
"liv_dose = E_released*10^2/m_l;    // Liver dose, centigray\n",
"printf('\nThe requiresd liver dose = %3.1f cGy', liv_dose);\n",
"// Result\n",
"// The requiresd liver dose = 2.8 cGy "
   ]
   }
],
"metadata": {
		  "kernelspec": {
		   "display_name": "Scilab",
		   "language": "scilab",
		   "name": "scilab"
		  },
		  "language_info": {
		   "file_extension": ".sce",
		   "help_links": [
			{
			 "text": "MetaKernel Magics",
			 "url": "https://github.com/calysto/metakernel/blob/master/metakernel/magics/README.md"
			}
		   ],
		   "mimetype": "text/x-octave",
		   "name": "scilab",
		   "version": "0.7.1"
		  }
		 },
		 "nbformat": 4,
		 "nbformat_minor": 0
}
