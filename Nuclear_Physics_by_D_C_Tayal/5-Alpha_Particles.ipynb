{
"cells": [
 {
		   "cell_type": "markdown",
	   "metadata": {},
	   "source": [
       "# Chapter 5: Alpha Particles"
	   ]
	},
{
		   "cell_type": "markdown",
		   "metadata": {},
		   "source": [
			"## Example 5.10: Degree_of_hindrance_for_alpha_particle_from_U238.sce"
		   ]
		  },
  {
"cell_type": "code",
	   "execution_count": null,
	   "metadata": {
	    "collapsed": true
	   },
	   "outputs": [],
"source": [
"// Scilab code Exa5.10 : : Page 206 (2011)\n",
"clc; clear;\n",
"h_kt = 1.05457e-34;        // Reduced Planck's constant, joule sec\n",
"e = 1.60218e-19;        // Charge of an electron, coulomb\n",
"l = 2;                // Orbital angular momentum\n",
"eps_0 = 8.5542e-12;        // Absolute permittivity of free space, coulomb square per newton per metre square\n",
"Z_D = 90;            // Atomic number of daughter nucleus\n",
"m = 6.644e-27;        // Mass of alpha particle, Kg\n",
"R = 8.627e-15;        // Radius of daughter nucleus, metre\n",
"T1_by_T0 = exp(2*l*(l+1)*h_kt/e*sqrt(%pi*eps_0/(Z_D*m*R)));    // Hindrance factor\n",
"printf('\nThe hindrance factor for alpha particle = %5.3f' ,T1_by_T0);\n",
"\n",
"// Result\n",
"// The hindrance factor for alpha particle = 1.768 "
   ]
   }
,
{
		   "cell_type": "markdown",
		   "metadata": {},
		   "source": [
			"## Example 5.1: Disintegration_energy_of_alpha_particle.sce"
		   ]
		  },
  {
"cell_type": "code",
	   "execution_count": null,
	   "metadata": {
	    "collapsed": true
	   },
	   "outputs": [],
"source": [
"// Scilab code Exa5.1 : : Page 203 (2011)\n",
"clc; clear;\n",
"E_a = 8.766;    // Energy of the alpha particle, MeV\n",
"A = 212;          // Atomic mass of Po-212, amu\n",
"M_a = 4;         // Atomic mass of alpha particle, amu\n",
"e = 1.6e-019;        // Charge of an electron, coulomb\n",
"Z = 82;                // Atomic number of Po-212\n",
"R_0 = 1.4e-015;        // Distance of closest approach,metre\n",
"K = 8.99e+09;            // Coulomb constant\n",
"E = E_a*A/(A-M_a);    // Disintegration energy, mega electron volts\n",
"B_H = 2*Z*e^2*K/(R_0*A^(1/3)*1.6*10^-13);    // Barrier height for an alpha particle within the nucleus, MeV\n",
"printf('\nDisintegration energy : %5.3f MeV \nBarrier height for alpha-particle: %5.2f MeV', E,B_H);\n",
"\n",
"// Result\n",
"// Disintegration energy : 8.935 MeV \n",
"// Barrier height for alpha-particle: 28.26 MeV "
   ]
   }
,
{
		   "cell_type": "markdown",
		   "metadata": {},
		   "source": [
			"## Example 5.2: Calculation_of_the_barrier_height.sce"
		   ]
		  },
  {
"cell_type": "code",
	   "execution_count": null,
	   "metadata": {
	    "collapsed": true
	   },
	   "outputs": [],
"source": [
"// Scilab code Exa5.2 : : Page 203 (2011)\n",
"// We have to make calculation for alpha particle and for  proton\n",
"clc; clear;\n",
"E_a = 8.766;     // Energy of the alpha particle, mega electron volts\n",
"A_Bi = 209;      // Atomic mass of Bi-209, atomic mass unit\n",
"A_a = 4;         // Atomic mass of alpha particle, atomic mass unit\n",
"A_p = 1;         // Atomic mass of proton, atomic mass unit\n",
"e = 1.6e-019;    // Charge of an electron, coulomb\n",
"Z = 83;          // Atomic number of bismuth\n",
"R_0 = 1.4e-015;  // Distance of closest approach,metre\n",
"K = 8.99e+09;    // Coulomb constant\n",
"B_H_a = 2*Z*e^2*K/(R_0*1.6e-013*(A_Bi^(1/3)+A_a^(1/3)));    // Barrier height for an alpha particle, mega electron volts\n",
"B_H_p = 1*Z*e^2*K/(R_0*1.6e-013*(A_Bi^(1/3)+A_p^(1/3)));    // Barrier height for proton, mega electron volts\n",
"printf('\nBarrier height for the alpha particle = %5.2f MeV \nBarrier height for the proton = %5.2f MeV', B_H_a,B_H_p);\n",
"\n",
"// Result\n",
"// Barrier height for the alpha particle = 22.67 MeV \n",
"// Barrier height for the proton = 12.30 MeV "
   ]
   }
,
{
		   "cell_type": "markdown",
		   "metadata": {},
		   "source": [
			"## Example 5.3: Speed_and_BR_value_of_alpha_particles.sce"
		   ]
		  },
  {
"cell_type": "code",
	   "execution_count": null,
	   "metadata": {
	    "collapsed": true
	   },
	   "outputs": [],
"source": [
"// Scilab code Exa5.3 : : Page 203 (2011)\n",
"// We have also calculate the value of magnetic field in a particular orbit. \n",
"clc; clear;\n",
"C = 3e+08;                // Velocity of light, m/S\n",
"M_0 = 6.644e-027*(C)^2/(1.60218e-013);        // Rest mass of alpha particle, MeV\n",
"T = 5.998;                // Kinetic energy of alpha particle emitted by Po-218\n",
"q = 2*1.60218e-019;        // Charge of alpha particle, C\n",
"V = sqrt(C^2*T*(T+2*M_0)/(T+M_0)^2);            // Velocity of alpha particle,metre per sec\n",
"B_r = V*M_0*(1.60218e-013)/(C^2*q*sqrt(1-V^2/C^2));                // magnetic field in a particular orbit, Web per mtere\n",
"printf('\nThe velocity of alpha particle : %5.3e m/s\nThe magnetic field in a particular orbit : %6.4f Wb/m', V , B_r);\n",
"\n",
"// Result\n",
"// The velocity of alpha particle : 1.699e+007 m/s\n",
"// The magnetic field in a particular orbit : 0.3528 Wb/m "
   ]
   }
,
{
		   "cell_type": "markdown",
		   "metadata": {},
		   "source": [
			"## Example 5.4: Transmission_probability_for_an_alpha_particle_through_a_potential_barrier.sce"
		   ]
		  },
  {
"cell_type": "code",
	   "execution_count": null,
	   "metadata": {
	    "collapsed": true
	   },
	   "outputs": [],
"source": [
"// Scilab code Exa5.4: : Page 204 (2011)\n",
"clc; clear;\n",
"a = 10^-14;        // Width of the  potential barrier, m\n",
"E = 5*1.60218e-013;        // Energy of the alpha particle, joule\n",
"V = 10*1.60218e-013;        // Potential height, joule\n",
"M_0 = 6.644e-027;        // Rest mass of the alpha particle, joule\n",
"h_red = 1.05457e-034;        // Reduced value of Planck's constant,joule sec \n",
"T = 4*exp(-2*a*sqrt(2*M_0*(V-E)/h_red^2));   // Probability of leakage through through potential barrier\n",
"printf('\nThe probability of leakage of alpha-particle through potential barrier = %5.3e ',T);\n",
"\n",
"// Result\n",
"// The probability of leakage of alpha-particle through potential barrier = 1.271e-008  "
   ]
   }
,
{
		   "cell_type": "markdown",
		   "metadata": {},
		   "source": [
			"## Example 5.6: Difference_in_life_times_of_Polonium_isotopes.sce"
		   ]
		  },
  {
"cell_type": "code",
	   "execution_count": null,
	   "metadata": {
	    "collapsed": true
	   },
	   "outputs": [],
"source": [
"// Scilab code Exa5.6: : Page 204 (2011)\n",
"clc; clear; \n",
"Z_D = 82;    // Atomic number of Po\n",
"E_Po210 = 5.3;    // Alpha-source for Po210, MeV\n",
"E_Po214 = 7.7;    // Alpha-source for Po214, MeV\n",
"log_lambda_Po210 = -1*1.72*Z_D*E_Po210^(-1/2);    \n",
"log_lambda_Po214 = -1*1.72*Z_D*E_Po214^(-1/2);    \n",
"delta_OM_t = log_lambda_Po214 - log_lambda_Po210;    // Difference in order of magnitude of life times of Po214 and Po210\n",
"printf('\nThe disintegration constant increases by a factor of some 10^%2d', delta_OM_t);\n",
"\n",
"// Result\n",
"// The disintegration constant increases by a factor of some 10^10  "
   ]
   }
,
{
		   "cell_type": "markdown",
		   "metadata": {},
		   "source": [
			"## Example 5.8: Half_life_of_plutonium.sce"
		   ]
		  },
  {
"cell_type": "code",
	   "execution_count": null,
	   "metadata": {
	    "collapsed": true
	   },
	   "outputs": [],
"source": [
"// Scilab code Exa5.8:  : Page 205 (2011)\n",
"clc; clear;\n",
"N = 120.1*6.023e+023/239;    // Number of Pu nuclei\n",
"P_rel = 0.231;        // Power released, watt\n",
"E_rel = 5.323*1.6026e-13;        // Energy released, joule\n",
"decay_rate = P_rel/E_rel;        // Decay rate of Pu239, per hour\n",
"t_half = N*log(2)/(decay_rate*365*86400);    // Half life of Po239, sec\n",
"printf('\nThe half life of Pu = %4.2e yr', t_half);\n",
"\n",
"// Result\n",
"// The half life of Pu = 2.46e+004 yr "
   ]
   }
,
{
		   "cell_type": "markdown",
		   "metadata": {},
		   "source": [
			"## Example 5.9: Slope_of_alpha_decay_energy_versus_atomic_number.sce"
		   ]
		  },
  {
"cell_type": "code",
	   "execution_count": null,
	   "metadata": {
	    "collapsed": true
	   },
	   "outputs": [],
"source": [
"// Scilab code Exa5.9 : : Page 205(2011)\n",
"clc; clear;\n",
"a_v = 14;        // Volume energy constant, MeV\n",
"a_s = 13;        // Surface energy constant, MeV\n",
"a_c = 0.60;      // Coulomb energy constant, MeV\n",
"a_a = 19;        // Asymmetric energy constant, MeV\n",
"A = 202;        // Mass number\n",
"Z = 82;         //  Atomic number \n",
"dE_by_dN = -8/9*a_s/A^(4/3)-4/3*a_c*Z/A^(4/3)*(1-4*Z/(3*A))-16*a_a*Z/A^2*(1-2*Z/A);        // Slope, mega electron volts per nucleon\n",
"printf('\nThe slope of alpha decay energy versus atomic number = %7.5f MeV/nucleon', dE_by_dN);\n",
"\n",
"// Result\n",
"// The slope of alpha decay energy versus atomic number = -0.15007 MeV/nucleon "
   ]
   }
],
"metadata": {
		  "kernelspec": {
		   "display_name": "Scilab",
		   "language": "scilab",
		   "name": "scilab"
		  },
		  "language_info": {
		   "file_extension": ".sce",
		   "help_links": [
			{
			 "text": "MetaKernel Magics",
			 "url": "https://github.com/calysto/metakernel/blob/master/metakernel/magics/README.md"
			}
		   ],
		   "mimetype": "text/x-octave",
		   "name": "scilab",
		   "version": "0.7.1"
		  }
		 },
		 "nbformat": 4,
		 "nbformat_minor": 0
}
