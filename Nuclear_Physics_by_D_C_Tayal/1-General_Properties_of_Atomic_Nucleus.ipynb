{
"cells": [
 {
		   "cell_type": "markdown",
	   "metadata": {},
	   "source": [
       "# Chapter 1: General Properties of Atomic Nucleus"
	   ]
	},
{
		   "cell_type": "markdown",
		   "metadata": {},
		   "source": [
			"## Example 1.10: Calculation_of_energy_released_during_nuclear_fusion_reaction.sce"
		   ]
		  },
  {
"cell_type": "code",
	   "execution_count": null,
	   "metadata": {
	    "collapsed": true
	   },
	   "outputs": [],
"source": [
"// Scilab code Ex1.10 :  : Page 55 (2011)\n",
"clc; clear;\n",
"M_Li = 7.0116004;   // Mass of lithium nucleus, u\n",
"M_Be = 7.016929;    // Mass of beryllium nucleus, u\n",
"m_e = 0.511;        // Mass of an electron, MeV\n",
"if (M_Li-M_Be)*931.48 < 2*m_e then\n",
"    printf('\nThe Li-7 is not a beta emitter');\n",
"else\n",
"    printf('\nThe Li-7 is a beta emitter');    \n",
"end\n",
"if (M_Be-M_Li)*931.48 > 2*m_e then\n",
"    printf('\nThe Be-7 is a beta emitter');\n",
"else\n",
"    printf('\nThe Be-7 is not a beta emitter');    \n",
"end\n",
"\n",
"// Result\n",
"// The Li-7 is not a beta emitter\n",
"// The Be-7 is a beta emitter "
   ]
   }
,
{
		   "cell_type": "markdown",
		   "metadata": {},
		   "source": [
			"## Example 1.11: Binding_energies_calculation.sce"
		   ]
		  },
  {
"cell_type": "code",
	   "execution_count": null,
	   "metadata": {
	    "collapsed": true
	   },
	   "outputs": [],
"source": [
"// Scilab code Ex1.11 :  : Page 55 (2011)\n",
"clc; clear;\n",
"M_n =  1.008665;             // Mass of neutron, amu\n",
"M_p = 1.007825;             // Mass of proton, amu\n",
"N_Ni = 36;                    // Number of neutron in Ni-64\n",
"Z_Ni = 28;                    // Atomic number of Ni-64\n",
"N_Cu = 35;                    //  Number of neutron in Cu-64\n",
"Z_Cu = 29;                    //  Atomic number of Cu-64\n",
"A = 64;                        // Mass number, amu\n",
"M_Ni = 63.927958;              // Mass of Ni-64\n",
"M_Cu = 63.929759;              // Mass of Cu-64\n",
"m_e = 0.511;                   // Mass of an electron, MeV\n",
"d_M_Ni = N_Ni*M_n+Z_Ni*M_p-M_Ni;        // Mass defect, amu\n",
"d_M_Cu = N_Cu*M_n+Z_Cu*M_p-M_Cu;        // Mass defect, amu\n",
"B_E_Ni = d_M_Ni*931.49;                // Binding energy of Ni-64, MeV\n",
"B_E_Cu = d_M_Cu*931.49;                // Binding energy of Cu-64, MeV\n",
"Av_B_E_Ni = B_E_Ni/A;                //  Average binding energy of Ni-64, MeV\n",
"Av_B_E_Cu = B_E_Cu/A;                //  Average binding energy of Cu-64, MeV\n",
"printf('\nBinding energy of Ni-64 : %7.3f MeV \nBinding energy of CU-64 : %7.3f MeV  \nAverage binding energy of Ni-64 : %5.3f MeV \nAverage binding energy of Cu-64 : %5.3f MeV ', B_E_Ni, B_E_Cu, Av_B_E_Ni, Av_B_E_Cu);\n",
"if (M_Cu - M_Ni)*931.48 > 2*m_e then\n",
"    printf('\nNi-64 is not a beta emitter but Cu-64 is a beta emitter');\n",
"end\n",
"\n",
"// Result\n",
"// Binding energy of Ni-64 : 561.765 MeV \n",
"// Binding energy of CU-64 : 559.305 MeV  \n",
"// Average binding energy of Ni-64 : 8.778 MeV \n",
"// Average binding energy of Cu-64 : 8.739 MeV  \n",
"// Ni-64 is not a beta emitter but Cu-64 is a beta emitter "
   ]
   }
,
{
		   "cell_type": "markdown",
		   "metadata": {},
		   "source": [
			"## Example 1.12: Calculation_of_energy_released_during_nuclear_fusion_reaction.sce"
		   ]
		  },
  {
"cell_type": "code",
	   "execution_count": null,
	   "metadata": {
	    "collapsed": true
	   },
	   "outputs": [],
"source": [
"// Scilab code Exa1.12 :  : Page 55 (2011)\n",
"clc; clear;\n",
"M_n =  1.008665*931.49;             // Mass of neutron, MeV\n",
"M_p = 1.007825*931.49;             // Mass of proton, MeV\n",
"M_He = 2*M_p+2*M_n-28;        // Mass of He-4 nucleus, MeV\n",
"M_H = M_p+M_n-2.2;            // Mass of H-2 nucleus, MeV\n",
"d_E = 2*M_H-M_He;                // Energy released during fusion reaction, MeV\n",
"printf('\nEnergy released during fusion reaction : %4.1f MeV ',d_E);\n",
"\n",
"// Result\n",
"// Energy released during fusion reaction : 23.6 MeV "
   ]
   }
,
{
		   "cell_type": "markdown",
		   "metadata": {},
		   "source": [
			"## Example 1.13: To_find_the_stable_Isobar.sce"
		   ]
		  },
  {
"cell_type": "code",
	   "execution_count": null,
	   "metadata": {
	    "collapsed": true
	   },
	   "outputs": [],
"source": [
"// Scilab code Ex1.13 : : P.No.55 (2011)\n",
"// We have to determine for mass numbers 80 and 97.\n",
"clc; clear;\n",
"A = [80, 97];   // Matrix of Mass numbers\n",
"Element = ['Br','Mo'];  // Matrix of elements\n",
"M_n = 939.6;    // Mass of neutron, MeV\n",
"M_H = 938.8;    // Mass of proton, MeV\n",
"a_v = 14.0;     // Volume energy, MeV\n",
"a_s = 13.0;     // Surface energy, MeV\n",
"a_c = 0.583;    // Coulomb energy, MeV\n",
"a_a = 19.3;     // Asymmetry energy, MeV\n",
"a_p = 33.5;     // Pairing energy, MeV\n",
"for i = 1:1:2\n",
"Z = poly(0,'Z');        // Declare the polynomial variable\n",
"M_AZ = M_n*(A(i)-Z)+M_H*Z-a_v*A(i)+a_s*A(i)^(2/3)+a_c*Z*(Z-1)*A(i)^(-1/3)+a_a*(A(i)-2*Z)^2/A(i)+a_p*A(i)^(-3/4); // Mass of the nuclide, MeV/c^2\n",
"Z = roots(derivat(M_AZ));\n",
"printf('\nFor A = %d, the most stable isobar is %s(%d,%d)', A(i), Element(i), Z, A(i));    \n",
"end\n",
"\n",
"// Result\n",
"// For A = 80, the most stable isobar is Br(35,80)\n",
"// For A = 97, the most stable isobar is Mo(42,97) "
   ]
   }
,
{
		   "cell_type": "markdown",
		   "metadata": {},
		   "source": [
			"## Example 1.14: To_calculate_the_pairing_energy_term.sce"
		   ]
		  },
  {
"cell_type": "code",
	   "execution_count": null,
	   "metadata": {
	    "collapsed": true
	   },
	   "outputs": [],
"source": [
"// Scilab code Exa1.14 :  : P.no. 56(2011)\n",
"clc; clear;\n",
"A = 50;                 // Mass number\n",
"M_Sc = 49.951730;        // Mass of scandium, atomic mass unit\n",
"M_Ti = 49.944786;         // Mass of titanium, atomic mass unit\n",
"M_V = 49.947167;         // Mass of vanadium, atomic mass unit\n",
"M_Cr = 49.946055;         // Mass of chromium, atomic mass unit\n",
"M_Mn = 49.954215;         // Mass of manganese, atomic mass unit\n",
"a_p = (M_Mn-M_Cr+M_V-M_Ti)/(8*A^(-3/4))*931.5;    // Pairing energy temr, mega electron volts\n",
"printf('\nPairing energy term : %5.2f MeV', a_p);\n",
"\n",
"// Result\n",
"// Pairing energy term : 23.08 MeV "
   ]
   }
,
{
		   "cell_type": "markdown",
		   "metadata": {},
		   "source": [
			"## Example 1.17: Relative_error_in_the_electric_potential_at_the_first_Bohr_radius.sce"
		   ]
		  },
  {
"cell_type": "code",
	   "execution_count": null,
	   "metadata": {
	    "collapsed": true
	   },
	   "outputs": [],
"source": [
"// Scilab code Ex1.17 :  : Page 57 (2011)\n",
"clc; clear;\n",
"b = 1;  // For simplicity assume minor axis length to be unity, unit\n",
"a = 10/100+b;   // Major axis length, unit\n",
"A = 125;    // Mass number of medium nucleus\n",
"r = 0.53e-010;  // Bohr's radius, m\n",
"eps = (a-b)/(0.5*a+b);  // Deformation parameter\n",
"R = 1.2e-015*A^(1/3);    // Radius of the nucleus, m\n",
"Q = 1.22/15*R^2   // Electric Quadrupole moment, metre square\n",
"V_rel_err = Q/r^2;      // Relative error in the potential\n",
"printf('\nThe relative error in the electric potential at the first Bohr radius : %e', V_rel_err);\n",
"\n",
"// Result\n",
"// The relative error in the electric potential at the first Bohr radius : 1.042364e-09 "
   ]
   }
,
{
		   "cell_type": "markdown",
		   "metadata": {},
		   "source": [
			"## Example 1.1: Distance_of_closest_approach.sce"
		   ]
		  },
  {
"cell_type": "code",
	   "execution_count": null,
	   "metadata": {
	    "collapsed": true
	   },
	   "outputs": [],
"source": [
"// Scilab code Exa1.1 :  : Page 51 (2011)\n",
"clc; clear;\n",
"Z = 79;       // Atomic number of Gold \n",
"z = 1;        // Atomic number of Hydrogen\n",
"e = 1.60218e-019;        // Charge of an electron, coulomb\n",
"K = 9e+09;            // Coulomb constant, newton metre square per coulomb square\n",
"E = 2*1.60218e-013;        // Energy of the proton, joule\n",
"b = Z*z*e^2*K/E;            // Distance of closest approach, metre\n",
"printf('\nDistance of closest approach : %7.5e metre', b);\n",
"\n",
"// Result\n",
"// Distance of closest approach : 5.69575e-014 meter "
   ]
   }
,
{
		   "cell_type": "markdown",
		   "metadata": {},
		   "source": [
			"## Example 1.21: Spherical_symmetry_of_Gadolinium_nucleus.sce"
		   ]
		  },
  {
"cell_type": "code",
	   "execution_count": null,
	   "metadata": {
	    "collapsed": true
	   },
	   "outputs": [],
"source": [
"// Scilab code Exa1.21 :  : Page-58(2011)\n",
"clc; clear;\n",
"Q = 130;    // Quadrupole moment, square femto metre\n",
"A = 155;    // Mass number of gadolinium\n",
"R_0 = 1.4*A^(1/3)   // Distance of closest approach, fm\n",
"Z = 64;     // Atomic number\n",
"delR0 = 5*Q/(6*Z*R_0^2)*100;    // Change in the value of R_0, percent\n",
"printf('\nChange in the value of fractional change in R_0 is only %4.2f percent \nThus, we can assumed that Gadolinium nucleus is spherical.', delR0);\n",
"\n",
"// Result\n",
"// Change in the value of fractional change in R_0 is only 2.99 percent \n",
"// Thus, we can assumed that Gadolinium nucleus is spherical. "
   ]
   }
,
{
		   "cell_type": "markdown",
		   "metadata": {},
		   "source": [
			"## Example 1.2: Nuclear_Spi.sce"
		   ]
		  },
  {
"cell_type": "code",
	   "execution_count": null,
	   "metadata": {
	    "collapsed": true
	   },
	   "outputs": [],
"source": [
"// Scilab code Exa1.2 :  : Page 51 (2011)\n",
"clc; clear;\n",
"A = 14;        // Number of protons\n",
"Z = 7;        // Number of neutrons\n",
"N = A-Z;        // Number of electrons \n",
"i = modulo((N+A),2);   // Remainder\n",
"// Check for even and odd number of particles !!!!! \n",
"if  i == 0 then        // For even number of particles\n",
"    printf('\nParticles have integral spin');\n",
"    s = 1;    // Nuclear spin\n",
"end\n",
" if i == 1 then        // For odd number of particles\n",
"    printf(' \nParticles have half integral spin ');\n",
"    s = 1/2;\n",
"end\n",
"if s == 1 then\n",
"    printf( '\nMeasured value agree with the assumption');\n",
"end\n",
"if s == 1/2 then\n",
"    printf( '\nMeasured value disagree with the assumption' );\n",
"end\n",
"\n",
"// Result\n",
"// Particles have half integral spin \n",
"// Measured value disagree with the assumption  "
   ]
   }
,
{
		   "cell_type": "markdown",
		   "metadata": {},
		   "source": [
			"## Example 1.3: Kinetic_energy_and_Coulomb_energy_for_an_electron_confined_within_the_nucleus.sce"
		   ]
		  },
  {
"cell_type": "code",
	   "execution_count": null,
	   "metadata": {
	    "collapsed": true
	   },
	   "outputs": [],
"source": [
"// Scilab code Exa1.3 :  : Page 52 (2011)\n",
"clc; clear; \n",
"p = 62;                 // Momentum of the electron, MeV/c\n",
"K = 9e+09;              // Coulomb constant\n",
"E = 0.511;              // Energy of the electron, MeV\n",
"e = 1.60218e-019;       // Charge of an electron, C\n",
"Z = 23;                 // Atomic number\n",
"R = 0.5*10^-14;         // Diameter of the nucleus, meter\n",
"T = sqrt(p^2+E^2)-E;    // Kinetic energy of the electron,MeV\n",
"E_c = -Z*K*e^2/(R*1.60218e-013);                // Coulomb energy, MeV\n",
"printf('\nKinetic energy of the electron : %5.2f MeV \nCoulomb energy per electron : %5.3f MeV',T,E_c);\n",
"\n",
"// Result\n",
"// Kinetic energy of the electron : 61.49 MeV \n",
"// Coulomb energy per electron : -6.633 MeV "
   ]
   }
,
{
		   "cell_type": "markdown",
		   "metadata": {},
		   "source": [
			"## Example 1.4: Scattering_of_electron_from_target_nucleus.sce"
		   ]
		  },
  {
"cell_type": "code",
	   "execution_count": null,
	   "metadata": {
	    "collapsed": true
	   },
	   "outputs": [],
"source": [
"// Scilab code Exa1.4 :  : Page 52 (2011) \n",
"clc; clear;\n",
"K = 500*1.60218e-013;        // Kinetic energy of the electron,joule\n",
"h = 6.6262e-034;             // Planck's constant, joule sec\n",
"C = 3e+08;                   // Velocity of light, metre per sec\n",
"p = K/C;                     // Momentum of the electron, joule sec per meter\n",
"lambda = h/p;                // de Broglie wavelength, metre\n",
"A = 30*%pi/180;              // Angle (in radian)\n",
"r = lambda/(A*10^-15);       // Radius of the target nucleus, femtometre\n",
"printf('\nRadius of the target nucleus : %4.2f fm', r);\n",
"\n",
"// Result\n",
"// Radius of the target nucleus : 4.74 fm"
   ]
   }
,
{
		   "cell_type": "markdown",
		   "metadata": {},
		   "source": [
			"## Example 1.5: Positron_emission_from_Cl33_decays.sce"
		   ]
		  },
  {
"cell_type": "code",
	   "execution_count": null,
	   "metadata": {
	    "collapsed": true
	   },
	   "outputs": [],
"source": [
"// Scilab code Exa1.5 :  : Page 52 (2011) \n",
"clc; clear;\n",
"e = 1.60218e-019;        // Charge of an electron, C\n",
"A = 33;                // Atomic mass of Chlorine, amu\n",
"K = 9e+09;            // Coulomb constant, newton metre sqaure per coulomb square\n",
"E = 6.1*1.60218e-013;        // Coulomb energy, joule\n",
"R_0 = 3/5*K/E*e^2*(A)^(2/3); // Distance of closest approach, metre\n",
"R = R_0*A^(1/3);             // Radius of the nucleus, metre\n",
"printf('\nRadius of the nucleus : %4.2e metre', R);\n",
"\n",
"// Result\n",
"// Radius of the nucleus : 4.6805e-015 metre "
   ]
   }
,
{
		   "cell_type": "markdown",
		   "metadata": {},
		   "source": [
			"## Example 1.6: Charge_accelerated_in_mass_spectrometer.sce"
		   ]
		  },
  {
"cell_type": "code",
	   "execution_count": null,
	   "metadata": {
	    "collapsed": true
	   },
	   "outputs": [],
"source": [
"// Scilab code Exa1.6:  : Page 53 (2011)\n",
"clc; clear;\n",
"V = 1000;            // Potential difference, volts\n",
"R = 18.2e-02;        // Radius of the orbit, metre\n",
"B = 1000e-04;        // Magnetic field, tesla\n",
"e = 1.60218e-019;        // Charge of an electron, C\n",
"n = 1;                    // Number of the ion\n",
"v = 2*V/(R*B);            // Speed of the ion, metre per sec\n",
"M = 2*n*e*V/v^2;            // Mass of the ion, Kg\n",
"printf('\nSpeed of the ion: %6.4e m/s \nMass of the ion : %4.2f u', v, M/1.67e-027);\n",
"\n",
"// Result\n",
"// Speed of the ion: 1.0989e+05 m/s \n",
"// Mass of the ion : 15.89 u "
   ]
   }
,
{
		   "cell_type": "markdown",
		   "metadata": {},
		   "source": [
			"## Example 1.7: Ionized_atoms_in_Bainbridge_mass_spectrograph.sce"
		   ]
		  },
  {
"cell_type": "code",
	   "execution_count": null,
	   "metadata": {
	    "collapsed": true
	   },
	   "outputs": [],
"source": [
"// Scilab code Exa1.7 : : Page 53 (2011)\n",
"clc; clear;\n",
"M = 20*1.66054e-027;        //\n",
"v = 10^5;            // Speed of the ion, metre per sec\n",
"B = 0.08;        // Magnetic field, tesla\n",
"e = 1.60218e-019;   // Charge of an electron, C\n",
"n = 1;              // Number of the ion\n",
"R_20 = M*v/(B*n*e)  // Radius of the neon-20, metre\n",
"R_22 = 22/20*R_20;  // Radius of the neon-22, metre\n",
"printf('\nRadius of the neon-20 : %5.3f metre \nRadius of the neon-22 : %5.3f metre', R_20, R_22);\n",
"\n",
"// Result\n",
"// Radius of the neon-20 : 0.259 metre \n",
"// Radius of the neon-22 : 0.285 metre "
   ]
   }
,
{
		   "cell_type": "markdown",
		   "metadata": {},
		   "source": [
			"## Example 1.8: Calculating_the_mass_of_hydrogen.sce"
		   ]
		  },
  {
"cell_type": "code",
	   "execution_count": null,
	   "metadata": {
	    "collapsed": true
	   },
	   "outputs": [],
"source": [
"// Scilab code Exa1.8 :  : Page 53 (2011)\n",
"clc; clear;\n",
"a = 17.78e-03;            // First doublet mass difference, u\n",
"b = 72.97e-03;            // Second doublet mass difference, u\n",
"c = 87.33e-03;             // Third doublet mass difference, u\n",
"M_H = 1+1/32*(4*a+5*b-2*c);        // Mass of the hydrogen,amu\n",
"printf('\nMass of the hydrogen: %8.6f amu',M_H);\n",
"\n",
"// Result\n",
"// Mass of the hydrogen: 1.008166 amu "
   ]
   }
,
{
		   "cell_type": "markdown",
		   "metadata": {},
		   "source": [
			"## Example 1.9: Silver_ions_in_Smith_mass_spectrometer.sce"
		   ]
		  },
  {
"cell_type": "code",
	   "execution_count": null,
	   "metadata": {
	    "collapsed": true
	   },
	   "outputs": [],
"source": [
"// Scilab code Exa1.9 : : Page 54 (2011)\n",
"clc; clear;\n",
"e = 1.60218e-019;            // Charge of an electron,C\n",
"B = 0.65;                    // Magnetic field, tesla\n",
"d_S1_S2 = 27.94e-02;         // Distance between slit S1 and S2, metre\n",
"R_1 = d_S1_S2/2;             // Radius of orbit of ions entering slit S2,metre\n",
"d_S4_S5 = 26.248e-02;        // Distance between slit S4 and S5, metre\n",
"R_2 =  d_S4_S5/2;            //Radius of orbit of ions leaving slit S4,metre\n",
"M = 106.9*1.66054e-027;            // Mass of an ion(Ag+)Kg, \n",
"T_1 = B^2*e^2*R_1^2/(2*M*1.60218e-019);             // Kinetic energy of the ion entering slit S2,eV \n",
"T_2 = B^2*e^2*R_2^2/(2*M*1.60218e-019);             // Kinetic energy of the ion leaving slit S4,eV \n",
"printf('\nKinetic energy of the ion entering slit S2 : %d eV \nKinetic energy of the ion leaving slit S4 : %d eV ',T_1,T_2)\n",
"\n",
"// Result\n",
"// Kinetic energy of the ion entering slit S2 : 3721 eV \n",
"// Kinetic energy of the ion leaving slit S4 : 3284 eV  "
   ]
   }
],
"metadata": {
		  "kernelspec": {
		   "display_name": "Scilab",
		   "language": "scilab",
		   "name": "scilab"
		  },
		  "language_info": {
		   "file_extension": ".sce",
		   "help_links": [
			{
			 "text": "MetaKernel Magics",
			 "url": "https://github.com/calysto/metakernel/blob/master/metakernel/magics/README.md"
			}
		   ],
		   "mimetype": "text/x-octave",
		   "name": "scilab",
		   "version": "0.7.1"
		  }
		 },
		 "nbformat": 4,
		 "nbformat_minor": 0
}
