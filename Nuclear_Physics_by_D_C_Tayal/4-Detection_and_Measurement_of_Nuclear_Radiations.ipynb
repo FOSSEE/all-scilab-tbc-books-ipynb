{
"cells": [
 {
		   "cell_type": "markdown",
	   "metadata": {},
	   "source": [
       "# Chapter 4: Detection and Measurement of Nuclear Radiations"
	   ]
	},
{
		   "cell_type": "markdown",
		   "metadata": {},
		   "source": [
			"## Example 4.10: Charge_collected_at_the_anode_of_photo_multiplier_tube.sce"
		   ]
		  },
  {
"cell_type": "code",
	   "execution_count": null,
	   "metadata": {
	    "collapsed": true
	   },
	   "outputs": [],
"source": [
"// Scilab code Exa4.10 : : Page 180 (2011)\n",
"clc; clear;\n",
"E = 4e+006;        // Energy lost in the scintillator, eV\n",
"N_pe = E/10^2*0.5*0.1;        // Number of photoelectrons emitted\n",
"G = 10^6;                     // Gain of photomultiplier tube\n",
"e = 1.6e-019;                 // Charge of the electron, C\n",
"Q = N_pe*G*e;                 // Charge collected at the anode of photo multiplier tube, C\n",
"printf('\nThe charge collected at the anode of photo multiplier tube : %6.4e C', Q);\n",
"\n",
"// Result\n",
"// The charge collected at the anode of photo multiplier tube : 3.2000e-010 C "
   ]
   }
,
{
		   "cell_type": "markdown",
		   "metadata": {},
		   "source": [
			"## Example 4.11: Charge_collected_at_the_anode_of_photo_multiplier_tube.sce"
		   ]
		  },
  {
"cell_type": "code",
	   "execution_count": null,
	   "metadata": {
	    "collapsed": true
	   },
	   "outputs": [],
"source": [
"// Scilab code Exa11 : : Page 180 (2011)\n",
"E = 4e+06;        // Energy lost in the scintillator, eV\n",
"N_pe = E/10^2*0.5*0.1;        // Number of photoelectrons emitted\n",
"G = 10^6;                     // Gain\n",
"e = 1.6e-019;                 // Charge of the electron, C\n",
"Q = N_pe*G*e;                    // Charge collected at the anode of photo multiplier tube, C\n",
"printf('\nCharge collected at the anode of photo multiplier tube : %6.4e C',Q);\n",
"// Result\n",
"//  Charge collected at the anode of photo multiplier tube : 3.2000e-010 C "
   ]
   }
,
{
		   "cell_type": "markdown",
		   "metadata": {},
		   "source": [
			"## Example 4.12: Measurement_of_the_number_of_counts_and_determining_standard_deviation.sce"
		   ]
		  },
  {
"cell_type": "code",
	   "execution_count": null,
	   "metadata": {
	    "collapsed": true
	   },
	   "outputs": [],
"source": [
"// Scilab code Exa4.12 : : Page 181 (2011)\n",
"// Defining an array\n",
"clc; clear;\n",
"n = cell (1,6); // Declare the cell matrix of 1X6 \n",
"n(1,1).entries = 10000;\n",
"n(2,1).entries = 10200;\n",
"n(3,1).entries = 10400;\n",
"n(4,1).entries = 10600;\n",
"n(5,1).entries = 10800;\n",
"n(6,1).entries = 11000;\n",
"g = 0; // \n",
"k = 6;\n",
"H = 0;\n",
"for i = 1:k;\n",
"    g = g + n(i,1).entries\n",
"end;\n",
"N = g/k; // Mean of the count\n",
"D = sqrt(N);\n",
"for i = 1:k;\n",
" H = H+((n(i,1).entries-N)*(n(i,1).entries-N))   \n",
"end;\n",
"S_D = round(sqrt(H/(k-1)));\n",
"printf('\nStandard deviation of the reading  : %d', S_D);\n",
"delta_N = sqrt(N);\n",
"if (S_D > delta_N) then\n",
"    printf('\nThe foil cannot be considered uniform..!');\n",
"else\n",
"    printf('\nThe foil can be considered uniform.');\n",
"end\n",
"\n",
"// Result\n",
"// Standard deviation of the reading  : 374\n",
"// The foil cannot be considered uniform..! "
   ]
   }
,
{
		   "cell_type": "markdown",
		   "metadata": {},
		   "source": [
			"## Example 4.13: Beta_particle_incident_on_the_scintillator.sce"
		   ]
		  },
  {
"cell_type": "code",
	   "execution_count": null,
	   "metadata": {
	    "collapsed": true
	   },
	   "outputs": [],
"source": [
"// Scilab code Exa4.13 : : Page 181 (2011)\n",
"clc; clear;\n",
"V = 2e-03;         // Voltage impulse, volt\n",
"C = 120e-012;    // Capacitance of the capacitor, F\n",
"e = 1.6e-019;    // Charge of the electron, C\n",
"n = C*V/(15*e);     // No. of electons\n",
"N = n^(1/10);     // No. of electrons in the output\n",
"printf('\nNo. of electrons in the output : %4.2f (approx)', N);\n",
"\n",
"// Result\n",
"// No. of electrons in the output : 3.16 (approx) "
   ]
   }
,
{
		   "cell_type": "markdown",
		   "metadata": {},
		   "source": [
			"## Example 4.14: Time_of_flight_of_proton_in_scintillation_counter.sce"
		   ]
		  },
  {
"cell_type": "code",
	   "execution_count": null,
	   "metadata": {
	    "collapsed": true
	   },
	   "outputs": [],
"source": [
"// Scilab code Exa4.14 : : Page 181 (2011)\n",
"clc; clear;\n",
"m_p = 0.938;    // Mass of the proton, GeV\n",
"E = 1.4;        // Total energy of proton, GeV\n",
"gama = E/m_p;     // Boost parameter\n",
"bta = sqrt(1-1/gama^2);    // Relativistic factor\n",
"d = 10;        // Distance between two counters,m\n",
"C = 3e+08;     // Velocity of light ,m/s\n",
"t_p = d/(bta*C);    // Time of flight of proton ,sec\n",
"T_e = d/C;        // Time of flight of electron, sec\n",
"printf('\nTime of flight of proton: %4.2f ns \nTime of flight of electron : %4.2f ns ', t_p/1e-009, T_e/1e-009);\n",
"\n",
"// Result\n",
"// Time of flight of proton: 44.90 ns \n",
"// Time of flight of electron : 33.33 ns  "
   ]
   }
,
{
		   "cell_type": "markdown",
		   "metadata": {},
		   "source": [
			"## Example 4.15: Fractional_error_in_rest_mass_of_the_particle_with_a_Cerenkov_Detector.sce"
		   ]
		  },
  {
"cell_type": "code",
	   "execution_count": null,
	   "metadata": {
	    "collapsed": true
	   },
	   "outputs": [],
"source": [
"// Scilab code Exa4.15 : : Page 182 (2011)\n",
"clc; clear;\n",
"p = 100;        // Momentum of the particle, GeV\n",
"n = 1+1.35e-04;    // Refractive index of the gas \n",
"m_0 = 1;         // Mass, GeV per square coulomb\n",
"gama = sqrt((p^2+m_0^2)/m_0);     // Boost parameter\n",
"bta = sqrt (1-1/gama^2);        // Relativistic parameter\n",
"d_theta = 1e-003;    // Error in the emission angle, radian\n",
"theta = acos(1/(n*bta));         // Emision angle of photon, radian \n",
"F_err = (p^2*n^2*2*theta*10^-3)/(2*m_0^2);        // Fractional error\n",
"printf('\nThe fractional error in rest mass of the particle =  %4.2f', F_err);\n",
"\n",
"// Result \n",
"// The fractional error in rest mass of the particle =  0.13 "
   ]
   }
,
{
		   "cell_type": "markdown",
		   "metadata": {},
		   "source": [
			"## Example 4.16: Charged_particles_passing_through_the_Cerenkov_detector.sce"
		   ]
		  },
  {
"cell_type": "code",
	   "execution_count": null,
	   "metadata": {
	    "collapsed": true
	   },
	   "outputs": [],
"source": [
"// Scilab code Exa4.16 : : Page 182 (2011)\n",
"clc; clear;\n",
"u = 1.49;        // Refractive index\n",
"E = 20*1.60218e-019;        // Energy of the electron, joule\n",
"m_e = 9.1e-031;            // Mass of the electron, Kg\n",
"C = 3e-08;                // Velocity of the light, m/s\n",
"bta = (1 + {1/(E/(m_e*C^2)+1)}^2 );   // Boost parameter\n",
"z = 1;         // \n",
"L_1 = 4000e-010;            // Initial wavelength, metre\n",
"L_2 = 7000e-010;            // Final wavelength, metre\n",
"N = 2*%pi*z^2/137*(1/L_1-1/L_2)*(1-1/(bta^2*u^2));        // Number of quanta of visible light, quanta per centimetre\n",
"printf('\nThe total number of quantas during emission of visible light = %d quanta/cm', round(N/100));\n",
"\n",
"// Result \n",
"// The total number of quantas during emission of visible light = 270 quanta/cm "
   ]
   }
,
{
		   "cell_type": "markdown",
		   "metadata": {},
		   "source": [
			"## Example 4.1: Resultant_pulse_height_recorded_in_the_fission_chamber.sce"
		   ]
		  },
  {
"cell_type": "code",
	   "execution_count": null,
	   "metadata": {
	    "collapsed": true
	   },
	   "outputs": [],
"source": [
"// Scilab code Exa4.1 : : Page 178 (2011)\n",
"clc; clear;\n",
"N = 200e+006/35;    // Total number of ion-pairs\n",
"e = 1.60218e-019;     // Charge of an ion, coulomb\n",
"Q = N*e;    // Total charge produced in the chamber, coulomb\n",
"C = 25e-012;     // Capacity of the collector, farad\n",
"V = Q/C;     // Resultant pulse height, volt \n",
"printf('\nThe resultant pulse height recorded in the fission chamber = %4.2e volt', V);\n",
"\n",
"// Result\n",
"// The resultant pulse height recorded in the fission chamber = 3.66e-002 volt "
   ]
   }
,
{
		   "cell_type": "markdown",
		   "metadata": {},
		   "source": [
			"## Example 4.2: Energy_of_the_alpha_particles.sce"
		   ]
		  },
  {
"cell_type": "code",
	   "execution_count": null,
	   "metadata": {
	    "collapsed": true
	   },
	   "outputs": [],
"source": [
"// Scilab code Exa4.2 : : Page 178 (2011)\n",
"clc; clear;\n",
"V = 0.8/4;    // Pulse height, volt\n",
"e = 1.60218e-019;     // Charge of an ion, coulomb\n",
"C = 0.5e-012;     // Capacity of the collector, farad\n",
"Q = V*C;    // Total charge produced, coulomb\n",
"N = Q/e;     // Number of ion pairs \n",
"E_1 = 35;    // Energy of one ion pair, electron volt\n",
"E = N*E_1/10^6;    // Energy of the alpha particles, mega electron volt\n",
"printf('\nThe energy of the alpha particles = %4.3f MeV', E);\n",
"\n",
"// Result\n",
"// The energy of the alpha particles = 21.845 MeV (The answer is wrong in the textbook)"
   ]
   }
,
{
		   "cell_type": "markdown",
		   "metadata": {},
		   "source": [
			"## Example 4.3: Height_of_the_voltage_pulse.sce"
		   ]
		  },
  {
"cell_type": "code",
	   "execution_count": null,
	   "metadata": {
	    "collapsed": true
	   },
	   "outputs": [],
"source": [
"// Scilab code Exa4.3 : : Page 178 (2011)\n",
"clc; clear;\n",
"E = 10e+06;    // Energy produced by the ion pairs, electron volts \n",
"N = E/35;        // Number of ion pair produced\n",
"m = 10^3;        // Multiplication factor\n",
"N_t = N*m;        // Total number of ion pairs produced\n",
"e = 1.60218e-019;  // Charge of an ion, coulomb\n",
"Q = N_t*e;         // Total charge flow in the counter, coulomb\n",
"t = 10^-3;        // Pulse time, sec\n",
"R = 10^4;        // Resistance , ohm\n",
"I = Q/t;        // Current passes through the resistor, ampere\n",
"V = I*R;        // Height of the voltage pulse, volt\n",
" printf('\nTotal number of ion pairs produced: %5.3e \nTotal charge flow in the counter : %5.3e coulomb \nHeight of the voltage pulse : %5.3e volt', N_t, Q, V);\n",
" \n",
"// Result\n",
"// Total number of ion pairs produced: 2.857e+008 \n",
"// Total charge flow in the counter : 4.578e-011 coulomb\n",
"// Height of the voltage pulse : 4.578e-004 volt "
   ]
   }
,
{
		   "cell_type": "markdown",
		   "metadata": {},
		   "source": [
			"## Example 4.4: Radial_field_and_life_time_of_Geiger_Muller_Counter.sce"
		   ]
		  },
  {
"cell_type": "code",
	   "execution_count": null,
	   "metadata": {
	    "collapsed": true
	   },
	   "outputs": [],
"source": [
"// Scilab code Exa4.4 : : Page 178 (2011)\n",
"clc; clear;\n",
"V = 1000;    // Operating voltage of Counter, volt \n",
"x = 1e-004;        // Time taken, sec\n",
"b = 2;            // Radius of the cathode, cm\n",
"a = 0.01;        // Diameter of the wire, cm\n",
"E_r = V/(x*log(b/a)); // Radial electric field, V/m\n",
"C = 1e+009;              // Total counts in the GM counter\n",
"T = C/(50*60*60*2000); // Life of the G.M. Counter, year\n",
"printf('\nThe radial electric field: %4.2eV/m\nThe life of the G.M. Counter : %5.3f years', E_r, T);\n",
"\n",
"// Result\n",
"// The radial electric field: 1.89e+006V/m\n",
"// The life of the G.M. Counter : 2.778 years "
   ]
   }
,
{
		   "cell_type": "markdown",
		   "metadata": {},
		   "source": [
			"## Example 4.5: Avalanche_voltage_in_Geiger_Muller_tube.sce"
		   ]
		  },
  {
"cell_type": "code",
	   "execution_count": null,
	   "metadata": {
	    "collapsed": true
	   },
	   "outputs": [],
"source": [
"// Scilab code Exa4.5 : : Page 178 (2011)\n",
"clc; clear; \n",
"I = 15.7;    // Ionisation potential of argon, eV\n",
"b = 0.025;            // Radius of the cathode, metre\n",
"a = 0.006e-02;        // Radius of the wire, metre\n",
"L = 7.8e-06;     // Mean free path, metre\n",
"V = round(I*a*log(b/a)/L);    // Avalanche voltage in G.M. tube, volt\n",
"printf('\nThe avalanche voltage in G.M. tube = %d volt', V);\n",
"\n",
"// Result\n",
"// The avalanche voltage in G.M. tube = 729 volt "
   ]
   }
,
{
		   "cell_type": "markdown",
		   "metadata": {},
		   "source": [
			"## Example 4.6: Voltage_fluctuation_in_GM_tube.sce"
		   ]
		  },
  {
"cell_type": "code",
	   "execution_count": null,
	   "metadata": {
	    "collapsed": true
	   },
	   "outputs": [],
"source": [
"// Scilab code Exa4.6 :  : Page 179 (2011)\n",
"clc; clear;\n",
"C_r = 0.1e-02;     // Counting rate of GM tube\n",
"S = 3;             // Slope of the curve\n",
"V = C_r*100*100/S;       // Voltage fluctuation, volt\n",
"printf('\nThe voltage fluctuation GM tube = %4.2f volt', V);\n",
"\n",
"// Result\n",
"// The voltage fluctuation GM tube = 3.33 volt "
   ]
   }
,
{
		   "cell_type": "markdown",
		   "metadata": {},
		   "source": [
			"## Example 4.7: Time_measurement_of_counts_in_GM_counter.sce"
		   ]
		  },
  {
"cell_type": "code",
	   "execution_count": null,
	   "metadata": {
	    "collapsed": true
	   },
	   "outputs": [],
"source": [
"// Scilab code Exa4.7 : : Page-179 (2011)\n",
"clc; clear;\n",
"R_t = 100;        // Actual count rate, per sec\n",
"R_B = 25;         // Backward count rate, per sec\n",
"V_S = 0.03;        // Coefficient of variation\n",
"R_S = R_t-R_B;        // Source counting rate,per sec\n",
"T_t = (R_t+sqrt(R_t*R_B))/(V_S^2*R_S^2);   // Time measurement for actual count, sec\n",
"T_B = T_t*sqrt(R_B/R_t);       // Time measurement for backward count, sec\n",
"printf('\nTime measurement for actual count : %5.3f sec \nTime measurement for backward count : %4.1f sec', T_t, T_B);\n",
"\n",
"// Result\n",
"//  Time measurement for actual count : 29.630 sec \n",
"//  Time measurement for backward count : 14.8 sec"
   ]
   }
,
{
		   "cell_type": "markdown",
		   "metadata": {},
		   "source": [
			"## Example 4.8: Capacitance_of_the_silicon_detector.sce"
		   ]
		  },
  {
"cell_type": "code",
	   "execution_count": null,
	   "metadata": {
	    "collapsed": true
	   },
	   "outputs": [],
"source": [
"// Scilab code Exa4.8 : : Page-179 (2011)\n",
"clc; clear; \n",
"A = 1.5e-4;           // Area of capacitor plates, square metre\n",
"K = 12;               // Dielectric constant\n",
"D = K*8.8542e-012;   // Electrical permittivity of the medium, per newton-metre-square coulomb square\n",
"x = 50e-06;           // Width of depletion layer, metre\n",
"C = A*D/x*10^12;      // Capacitance of the silicon detector, pF\n",
"E = 4.5e+06;          // Energy produced by the ion pairs, eV\n",
"N = E/3.5;            // Number of ion pairs\n",
"e = 1.60218e-019;     // Charge of each ion, coulomb\n",
"Q = N*e;              // Total charge, coulomb\n",
"V = Q/C*10^12;        //  Potential applied across the capacitor, volt\n",
"printf('\nThe capacitance of the detector : %6.2f pF\nThe potential applied across the capacitor : %4.2e volt', C, V);\n",
"\n",
"// Result\n",
"// The capacitance of the detector : 318.75 pF\n",
"// The potential applied across the capacitor : 6.46e-004 volt "
   ]
   }
,
{
		   "cell_type": "markdown",
		   "metadata": {},
		   "source": [
			"## Example 4.9: Statistical_error_on_the_measured_ratio.sce"
		   ]
		  },
  {
"cell_type": "code",
	   "execution_count": null,
	   "metadata": {
	    "collapsed": true
	   },
	   "outputs": [],
"source": [
"// Scilab code Exa4.9 : : Page-180 (2011)\n",
"clc; clear;\n",
"N_A = 1000;        // Number of count observed for radiation A\n",
"N_B = 2000;        // Number of count observed for radiation B\n",
"r = N_A/N_B;        // Ratio of count A to the count B\n",
"E_r = sqrt(1/N_A+1/N_B);        // Statistical error \n",
"printf('\nThe statistical error of the measured ratio = %4.2f', E_r*r);\n",
"\n",
"// Result\n",
"// The statistical error of the measured ratio = 0.02 (Wrong answer in the textbook)"
   ]
   }
],
"metadata": {
		  "kernelspec": {
		   "display_name": "Scilab",
		   "language": "scilab",
		   "name": "scilab"
		  },
		  "language_info": {
		   "file_extension": ".sce",
		   "help_links": [
			{
			 "text": "MetaKernel Magics",
			 "url": "https://github.com/calysto/metakernel/blob/master/metakernel/magics/README.md"
			}
		   ],
		   "mimetype": "text/x-octave",
		   "name": "scilab",
		   "version": "0.7.1"
		  }
		 },
		 "nbformat": 4,
		 "nbformat_minor": 0
}
