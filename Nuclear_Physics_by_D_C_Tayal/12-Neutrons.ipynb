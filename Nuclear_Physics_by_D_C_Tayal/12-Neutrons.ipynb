{
"cells": [
 {
		   "cell_type": "markdown",
	   "metadata": {},
	   "source": [
       "# Chapter 12: Neutrons"
	   ]
	},
{
		   "cell_type": "markdown",
		   "metadata": {},
		   "source": [
			"## Example 12.10: Energy_of_the_neutrons_reflected_from_the_crystal.sce"
		   ]
		  },
  {
"cell_type": "code",
	   "execution_count": null,
	   "metadata": {
	    "collapsed": true
	   },
	   "outputs": [],
"source": [
"// Scilab code Exa12.10 : : Page-576 (2011)\n",
"clc; clear;\n",
"theta = 3.5*%pi/180;  // Reflection angle, radian\n",
"d = 2.3e-10;          // Lattice spacing, metre\n",
"n = 1;                // For first order\n",
"h = 6.6256e-34;       // Planck's constant, joule sec\n",
"m = 1.6748e-27;       // Mass of the neutron, Kg\n",
"E = n^2*h^2/(8*m*d^2*sin(theta)^2*1.6023e-19);        // Energy of the neutrons, electron volts\n",
"printf('\nThe energy of the neutrons = %4.2f eV', E);\n",
"// Result\n",
"// The energy of the neutrons = 1.04 eV \n",
" "
   ]
   }
,
{
		   "cell_type": "markdown",
		   "metadata": {},
		   "source": [
			"## Example 12.1: Maximum_activity_induced_in_100_mg_of_Cu_foil.sce"
		   ]
		  },
  {
"cell_type": "code",
	   "execution_count": null,
	   "metadata": {
	    "collapsed": true
	   },
	   "outputs": [],
"source": [
"// Scilab code Exa12.1 : : Page-573 (2011)\n",
"clc; clear; \n",
"N_0 = 6.23e+23;    // Avogadro's number, per mole\n",
"m = 0.1;        // Mass of copper foil, Kg\n",
"phi = 10^12;        // Neutron flux density, per square centimetre sec\n",
"a_63 = 0.691;        // Abundance of Cu-63\n",
"a_65 = 0.309;        // Abundance of Cu-65\n",
"W_m = 63.57;        // Molecular weight, gram\n",
"sigma_63 =  4.5e-24;    // Activation cross section for Cu-63, square centi metre\n",
"sigma_65 = 2.3e-24;        // Activation cross section for Cu-65, square centi metre\n",
"A_63 = phi*sigma_63*m*a_63/W_m*N_0;        // Activity for Cu-63, disintegrations per sec\n",
"A_65 = phi*sigma_65*m*a_65/W_m*N_0;        // Activity for Cu-65, disintegrations per sec\n",
"printf('\nThe activity for Cu-63 is = %4.3e disintegrations per sec \nThe activity for Cu-65 is = %4.2e disintegrations per sec', A_63, A_65);\n",
"// Result\n",
"// The activity for Cu-63 is = 3.047e+009 disintegrations per sec \n",
"// The activity for Cu-65 is = 6.97e+008 disintegrations per sec "
   ]
   }
,
{
		   "cell_type": "markdown",
		   "metadata": {},
		   "source": [
			"## Example 12.2: Energy_loss_during_neutron_scattering.sce"
		   ]
		  },
  {
"cell_type": "code",
	   "execution_count": null,
	   "metadata": {
	    "collapsed": true
	   },
	   "outputs": [],
"source": [
"// Scilab code Exa12.2 : : Page-573 (2011)\n",
"clc; clear; \n",
"A_Be = 9;        // Mass number of beryllium\n",
"A_U = 238;        // Mass number of uranium\n",
"E_los_Be = (1-((A_Be-1)^2/(A_Be+1)^2))*100;    // Energy loss for beryllium\n",
"E_los_U = round((1-((A_U-1)^2/(A_U+1)^2))*100);    // Energy loss for uranium\n",
"printf('\nThe energy loss for beryllium is = %d percent \nThe energy loss for uranium is = %d percent', E_los_Be, E_los_U);\n",
"// Check for greater energy loss !!!!\n",
"if E_los_Be >= E_los_U then\n",
"    printf('\nThe energy loss is greater for beryllium');\n",
"else\n",
"    printf('\nThe energy loss is greater for uranium');\n",
"end\n",
"// Result\n",
"// The energy loss for beryllium is = 36 percent \n",
"// The energy loss for uranium is = 2 percent\n",
"// The energy loss is greater for beryllium \n",
" "
   ]
   }
,
{
		   "cell_type": "markdown",
		   "metadata": {},
		   "source": [
			"## Example 12.3: Energy_loss_of_neutron_during_collision_with_carbon.sce"
		   ]
		  },
  {
"cell_type": "code",
	   "execution_count": null,
	   "metadata": {
	    "collapsed": true
	   },
	   "outputs": [],
"source": [
"// Scilab code Exa12.3 : : Page-574 (2011)\n",
"clc; clear; \n",
"A = 12;        // Mass number of Carbon\n",
"alpha = (A-1)^2/(A+1)^2;        // Scattering coefficient\n",
"E_loss = 1/2*(1-alpha)*100;        // Energy loss of neutron\n",
"printf('\nThe energy loss of neutron = %5.3f percent',E_loss)\n",
"// Result\n",
"// The energy loss of neutron = 14.201 percent \n",
" "
   ]
   }
,
{
		   "cell_type": "markdown",
		   "metadata": {},
		   "source": [
			"## Example 12.4: Number_of_collisions_for_neutron_loss.sce"
		   ]
		  },
  {
"cell_type": "code",
	   "execution_count": null,
	   "metadata": {
	    "collapsed": true
	   },
	   "outputs": [],
"source": [
"// Scilab code Exa12.4 : : Page-574 (2011)\n",
"clc; clear; \n",
"zeta = 0.209;        // Moderated assembly\n",
"E_change = 100/1;        // Change in energy of the neutron\n",
"E_thermal = 0.025;        // Thermal energy of the neutron, electron volts\n",
"E_n = 2*10^6;            // Energy of the neutron, electron volts\n",
"n = 1/zeta*log(E_change);        // Number of collisions of neutrons to loss 99 percent of their energies \n",
"n_thermal = 1/zeta*log(E_n/E_thermal);        // Number of collisions of neutrons to reach thermal energies\n",
"printf('\nThe number of collisions  of neutrons to loss 99 percent of their energies = %d \nThe number of collisions of neutrons to reach thermal energies = %d',n,n_thermal)\n",
"// Result\n",
"// The number of collisions  of neutrons to loss 99 percent of their energies = 22 \n",
"// The number of collisions of neutrons to reach thermal energies = 87 \n",
" "
   ]
   }
,
{
		   "cell_type": "markdown",
		   "metadata": {},
		   "source": [
			"## Example 12.5: Average_distance_travelled_by_a_neutron.sce"
		   ]
		  },
  {
"cell_type": "code",
	   "execution_count": null,
	   "metadata": {
	    "collapsed": true
	   },
	   "outputs": [],
"source": [
"// Scilab code Exa12.5 : : Page-574 (2011)\n",
"clc; clear;\n",
"L = 1;    // For simplicity assume thermal diffusion length to be unity, unit\n",
"x_bar = integrate('x*exp(-x/L)', 'x', 0, 100);    // Average distance travelled by the neutron, unit\n",
"x_rms = sqrt(integrate('x^2*exp(-x/L)', 'x', 0, 100));    // Root mean square of the distance trvelled by the neutron, unit\n",
"printf('\nThe average distance travelled by the neutron = %d*L', x_bar);\n",
"printf('\nThe root mean square distance travelled by the neutron = %5.3fL = %5.3fx_bar', x_rms, x_rms);\n",
"// Result\n",
"// The average distance travelled by the neutron = 1*L\n",
"// The root mean square distance travelled by the neutron = 1.414L = 1.414x_bar \n",
" "
   ]
   }
,
{
		   "cell_type": "markdown",
		   "metadata": {},
		   "source": [
			"## Example 12.6: Neutron_flux_through_water_tank.sce"
		   ]
		  },
  {
"cell_type": "code",
	   "execution_count": null,
	   "metadata": {
	    "collapsed": true
	   },
	   "outputs": [],
"source": [
"// Scilab code Exa12.6 : : Page-574 (2011)\n",
"clc; clear;\n",
"Q = 5e+08;        // Rate at which neutrons produce, neutrons per sec\n",
"r = 20;            // Distance from the source, centi metre\n",
"// For water\n",
"lambda_wtr = 0.45;    //  Transport mean free path, centi metre\n",
"L_wtr = 2.73;         // Thermal diffusion length, centi metre\n",
"phi_wtr = 3*Q/(4*%pi*lambda_wtr*r)*exp(-r/L_wtr);    // Neutron flux for water, neutrons per square centimetre per sec\n",
"// For heavy water\n",
"lambda_h_wtr = 2.40;        //  Transport mean free path, centi metre\n",
"L_h_wtr = 171;            // Thermal diffusion length, centi metre\n",
"phi_h_wtr = 3*Q/(4*%pi*lambda_h_wtr*r)*exp(-r/L_h_wtr);    // Neutron flux for heavy water, neutrons per square centimetre per sec\n",
"printf('\nThe neutron flux through water = %5.3e neutrons per square cm per sec \nThe neutron flux through heavy water = %5.3e neutrons per square cm per sec', phi_wtr, phi_h_wtr);\n",
"// Result\n",
"// The neutron flux through water = 8.730e+003 neutrons per square cm per sec \n",
"// The neutron flux through heavy water = 2.212e+006 neutrons per square cm per sec \n",
" "
   ]
   }
,
{
		   "cell_type": "markdown",
		   "metadata": {},
		   "source": [
			"## Example 12.7: Diffusion_length_and_neutron_flux_for_thermal_neutrons.sce"
		   ]
		  },
  {
"cell_type": "code",
	   "execution_count": null,
	   "metadata": {
	    "collapsed": true
	   },
	   "outputs": [],
"source": [
"// Scilab code Exa12.7 : : Page-575 (2011)\n",
"clc; clear;\n",
"k = 1.38e-23;        // Boltzmann constant, joules per kelvin\n",
"T = 323;            // Temperature, kelvin\n",
"E = (k*T)/1.6e-19;    // Thermal energy, joules\n",
"sigma_0 = 13.2e-28;   // Cross section, square metre\n",
"E_0 = 0.025;            // Energy of the neutron, electron volts\n",
"sigma_a = sigma_0*sqrt(E_0/E);        // Absorption cross section, square metre\n",
"t_half = 2.25;            // Half life, hours\n",
"lambda = 0.69/t_half;        // Decay constant, per hour\n",
"N_0 = 6.023e+026;            // Avogadro's number, per \n",
"m_Mn = 55;                // Mass number of mangnese\n",
"w = 0.1e-03;            // Weight of mangnese foil, Kg\n",
"A = 200;                // Activity, disintegrations per sec\n",
"N = N_0*w/m_Mn;        // Number of mangnese nuclei in the foil\n",
"x1 = 1.5;                // Base, metre\n",
"x2 = 2.0;                // Height, metre\n",
"phi = A/(N*sigma_a*0.416);        // Neutron flux, neutrons per square metre per sec\n",
"phi1 = 1;    // For simplicity assume initial neutron flux to be unity, neutrons/Sq.m-sec\n",
"phi2 = 1/2*phi1;    // Given neutron flux, neutrons/Sq.m-sec\n",
"L1 = 1/log(phi1/phi2)/(x2-x1);    // Thermal diffusion length for given neutron flux, m\n",
"L = sqrt(1/((1/L1)^2+(%pi/x1)^2+(%pi/x2)^2));        // Diffusion length, metre\n",
"printf('\nThe neutron flux = %3.2e neutrons per square metre per sec \nThe diffusion length = %4.2f metre', phi, L);\n",
"// Result\n",
"// The neutron flux = 3.51e+008 neutrons per square metre per sec \n",
"// The diffusion length = 0.38 metre\n",
"// Note: the difussion length is solved wrongly in the testbook\n",
" "
   ]
   }
,
{
		   "cell_type": "markdown",
		   "metadata": {},
		   "source": [
			"## Example 12.8: Diffusion_length_for_thermal_neutrons_in_graphite.sce"
		   ]
		  },
  {
"cell_type": "code",
	   "execution_count": null,
	   "metadata": {
	    "collapsed": true
	   },
	   "outputs": [],
"source": [
"// Scilab code Exa12.8 : : Page-575(2011)\n",
"clc; clear;\n",
"N_0 = 6.023e+026;        // Avogadro's number, per mole\n",
"rho = 1.62e+03;        // Density, kg per cubic metre\n",
"sigma_a = 3.2e-31;        // Absorption cross section, square metre\n",
"sigma_s = 4.8e-28;        // Scattered cross section, square metre\n",
"A = 12;                // Mass number\n",
"lambda_a = A/(N_0*rho*sigma_a);        // Absorption mean free path, metre\n",
"lambda_tr = A/(N_0*rho*sigma_s*(1-2/(3*A)));        // Transport mean free path, metre\n",
"L = sqrt(lambda_a*lambda_tr/3);        // Diffusion length for thermal neutron\n",
"printf('\nThe diffusion length for thermal neutron = %5.3f metre ',L)\n",
"// Result\n",
"// The diffusion length for thermal neutron = 0.590 metre  \n",
" "
   ]
   }
,
{
		   "cell_type": "markdown",
		   "metadata": {},
		   "source": [
			"## Example 12.9: Neutron_age_and_slowing_down_length_of_neutrons_in_graphite_and_beryllium.sce"
		   ]
		  },
  {
"cell_type": "code",
	   "execution_count": null,
	   "metadata": {
	    "collapsed": true
	   },
	   "outputs": [],
"source": [
"// Scilab code Exa12.9 : : Page-575 (2011)\n",
"clc; clear;\n",
"E_0 = 2e+06;        // Average energy of the neutron, electron volts\n",
"E = 0.025;            // Thermal energy of the neutron, electron volts\n",
"// For graphite\n",
"A = 12            // Mass number\n",
"sigma_g = 33.5;    // The value of sigma for graphite\n",
"tau_0 = 1/(6*sigma_g^2)*(A+2/3)/(1-2/(3*A))*log(E_0/E);    // Age of neutron for graphite, Sq.m\n",
"L_f = sqrt(tau_0);    // Slowing down length of neutron through graphite, m\n",
"printf('\nFor Graphite, A = %d', A);\n",
"printf('\nNeutron age = %d Sq.cm', tau_0*1e+004);\n",
"printf('\nSlowing down length = %5.3f m', L_f);\n",
"// For beryllium\n",
"A = 9            // Mass number\n",
"sigma_b = 57;    // The value of sigma for beryllium\n",
"tau_0 = 1/(6*sigma_b^2)*(A+2/3)/(1-2/(3*A))*log(E_0/E);    // Age of neutron for beryllium, Sq.m\n",
"L_f = sqrt(tau_0);    // Slowing down length of neutron through graphite, m\n",
"printf('\n\nFor Beryllium, A = %d', A);\n",
"printf('\nNeutron age = %d Sq.cm', tau_0*1e+004);\n",
"printf('\nSlowing down length = %3.1e m', L_f);\n",
"// Result\n",
"// For Graphite, A = 12\n",
"// Neutron age = 362 Sq.cm\n",
"// Slowing down length = 0.190 m\n",
"// For Beryllium, A = 9\n",
"// Neutron age = 97 Sq.cm\n",
"// Slowing down length = 9.9e-002 m "
   ]
   }
],
"metadata": {
		  "kernelspec": {
		   "display_name": "Scilab",
		   "language": "scilab",
		   "name": "scilab"
		  },
		  "language_info": {
		   "file_extension": ".sce",
		   "help_links": [
			{
			 "text": "MetaKernel Magics",
			 "url": "https://github.com/calysto/metakernel/blob/master/metakernel/magics/README.md"
			}
		   ],
		   "mimetype": "text/x-octave",
		   "name": "scilab",
		   "version": "0.7.1"
		  }
		 },
		 "nbformat": 4,
		 "nbformat_minor": 0
}
