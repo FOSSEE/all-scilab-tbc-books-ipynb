{
"cells": [
 {
		   "cell_type": "markdown",
	   "metadata": {},
	   "source": [
       "# Chapter 9: Nuclear Models"
	   ]
	},
{
		   "cell_type": "markdown",
		   "metadata": {},
		   "source": [
			"## Example 9.11: Quadrupole_and_magnetic_moment_of_ground_state_of_nuclides.sce"
		   ]
		  },
  {
"cell_type": "code",
	   "execution_count": null,
	   "metadata": {
	    "collapsed": true
	   },
	   "outputs": [],
"source": [
"// Scilab code Exa9.11 : : Page-394 (2011)\n",
"clc; clear;\n",
"R_0 = 1.2e-015;        // Distance of closest approach, metre\n",
"// Mass number of the nuclei are allocated below :\n",
"N = rand(4,1)\n",
"N(1,1) = 17;        // for oxygen\n",
"N(2,1) = 33;        // for sulphur\n",
"N(3,1) = 63;        // for copper\n",
"N(4,1) = 209;        // for bismuth\n",
"for i = 1:4\n",
"\n",
"   if N(i,1) == 17 then\n",
"       printf('\n For Oxygen : ')\n",
"        I = 5/2;        // Total angular momentum\n",
"        l = 2;        // Orbital angular momentum\n",
"        mu = -1.91;        // for odd neutron and I = l+1/2\n",
"        Q = -3/5*(2*I-1)/(2*I+2)*(R_0*N(i,1)^(1/3))^2*10^28;    // Quadrupole moment of oxygen, barn\n",
"        printf('\n         The value of magnetic moment is : %4.2f \n         The value of quadrupole moment is : %6.4f barn', mu, Q);\n",
"    elseif N(i,1) == 33 then\n",
"        printf('\n\n For Sulphur : ')\n",
"         I = 3/2;        // Total angular momentum\n",
"         l = 2;            // Orbital angular momentum\n",
"         mu = 1.91*I/(I+1);        // for odd neutron and I = l-1/2\n",
"         Q = -3/5*(2*I-1)/(2*I+2)*(R_0*N(i,1)^(1/3))^2*10^28;    // Quadrupole moment of sulphur, barn\n",
"        printf('\n         The value of magnetic moment is : %5.3f \n         The value of quadrupole moment is : %6.4f barn', mu, Q);  \n",
"        elseif N(i,1) == 63 then\n",
"            printf('\n\n For Copper : ')\n",
"         I = 3/2;        // Total angular momentum\n",
"         l = 1;            // Orbital angular momentum\n",
"         mu = I+2.29;            // for odd protons and I = l+1/2\n",
"         Q = -3/5*(2*I-1)/(2*I+2)*(R_0*N(i,1)^(1/3))^2*10^28;    // Quadrupole momentum of copper, barn\n",
"        printf('\n         The value of magnetic moment is : %4.2f \n         The value of quadrupole moment is : %6.4f barn', mu, Q);\n",
"        elseif N(i,1) == 209 then\n",
"            printf('\n\n For Bismuth : ')\n",
"         I = 9/2;    // Total angular momentum\n",
"         l = 5;        // Orbital angular momentum\n",
"         mu = I-2.29*I/(I+1);     // for odd protons and I = l-1/2\n",
"         Q = -3/5*(2*I-1)/(2*I+2)*(R_0*N(i,1)^(1/3))^2*10^28;    // Quadrupole momentum of bismuth, barn\n",
"        printf('\n         The value of magnetic moment is : %4.2f \n         The value of quadrupole moment is : %5.3f barn', mu, Q);\n",
"   end\n",
"end\n",
"\n",
"// Result\n",
"// For Oxygen : \n",
"//         The value of magnetic moment is : -1.91 \n",
"//         The value of quadrupole moment is : -0.0326 barn\n",
"\n",
"// For Sulphur : \n",
"//         The value of magnetic moment is : 1.146 \n",
"//         The value of quadrupole moment is : -0.0356 barn\n",
"\n",
"// For Copper : \n",
"//         The value of magnetic moment is : 3.79 \n",
"//         The value of quadrupole moment is : -0.0547 barn\n",
"\n",
"// For Bismuth : \n",
"//         The value of magnetic moment is : 2.63 \n",
"//         The value of quadrupole moment is : -0.221 barn   "
   ]
   }
,
{
		   "cell_type": "markdown",
		   "metadata": {},
		   "source": [
			"## Example 9.12: Kinetic_energy_of_iron_nucleus.sce"
		   ]
		  },
  {
"cell_type": "code",
	   "execution_count": null,
	   "metadata": {
	    "collapsed": true
	   },
	   "outputs": [],
"source": [
"// Scilab code Exa9.12 : : Page-395 (2011)\n",
"clc; clear;\n",
"h_cut = 1.054571628e-34;    // Redued planck's constant, joule sec\n",
"a = 1e-014;            // Distance of closest approach, metre\n",
"m = 1.67e-27;        // Mass of each nucleon, Kg\n",
"KE = 14*%pi^2*h_cut^2/(2*m*a^2*1.6e-13);        // Kinetic energy of iron nucleus, MeV\n",
"printf('\nThe kinetic energy of iron nuclei = %5.2f MeV', KE);\n",
"\n",
"// Result\n",
"// The kinetic energy of iron nuclei = 28.76 MeV "
   ]
   }
,
{
		   "cell_type": "markdown",
		   "metadata": {},
		   "source": [
			"## Example 9.14: Electric_quadrupole_moment_of_scandium.sce"
		   ]
		  },
  {
"cell_type": "code",
	   "execution_count": null,
	   "metadata": {
	    "collapsed": true
	   },
	   "outputs": [],
"source": [
"// Scilab code Exa9.14 : : Page-396 (2011)\n",
"clc; clear;\n",
"R_0 = 1.2e-15;  // Distance of closest approach, metre\n",
"j = 7/2;        // Total angular momentum\n",
"A = 41;         // Mass number of Scandium\n",
"Z = 20;         // Atomic number of Calcium\n",
"Q_Sc = -(2*j-1)/(2*j+2)*(R_0*A^(1/3))^2;       // Electric quadrupole of Scandium nucleus, Sq. m\n",
"Q_Ca = Z/(A-1)^2*abs(Q_Sc);        // Electric quadrupole of calcium nucleus, Sq. m\n",
"printf('\nThe electric quadrupole of scandium nucleus = %4.2e square metre \nThe electric quadrupole of calcium nucleus = %4.2e square metre', Q_Sc, Q_Ca);\n",
"\n",
"// Result\n",
"// The electric quadrupole of scandium nucleus = -1.14e-029 square metre \n",
"// The electric quadrupole of calcium nucleus = 1.43e-031 square metre "
   ]
   }
,
{
		   "cell_type": "markdown",
		   "metadata": {},
		   "source": [
			"## Example 9.16: Energy_of_lowest_lying_tungsten_states.sce"
		   ]
		  },
  {
"cell_type": "code",
	   "execution_count": null,
	   "metadata": {
	    "collapsed": true
	   },
	   "outputs": [],
"source": [
"// Scilab code Exa9.16 : : Page-398 (2011)\n",
"clc; clear;\n",
"h_cut_sqr_upon_2f = 0.01667;        // A constant value, joule square per sec cube\n",
"for I = 4:6\n",
"    if I == 4 then\n",
"        E = I*(I+1)*h_cut_sqr_upon_2f;\n",
"       printf('\nThe energy for 4+ tungsten state = %5.3f MeV', E);\n",
"    elseif I == 6 then\n",
"        E = I*(I+1)*h_cut_sqr_upon_2f; \n",
"      printf('\nThe energy for 6+ tungsten state = %5.3f MeV', E); \n",
"    end\n",
"end\n",
"\n",
"// Result\n",
"// The energy for 4+ tungsten state = 0.333 MeV\n",
"// The energy for 6+ tungsten state = 0.700 MeV  "
   ]
   }
,
{
		   "cell_type": "markdown",
		   "metadata": {},
		   "source": [
			"## Example 9.1: Estimating_the_Fermi_energies_for_neutrons_and_protons.sce"
		   ]
		  },
  {
"cell_type": "code",
	   "execution_count": null,
	   "metadata": {
	    "collapsed": true
	   },
	   "outputs": [],
"source": [
"// Scilab code Exa9.1 : : Page-389 (2011)  \n",
"clc; clear;\n",
"h_cut = 1.054e-034;   // Reduced Planck's constant, joule sec\n",
"rho = 2e+044;    // Density of the nuclear matter, kg per metre cube\n",
"V = 238/rho;    // Volume of the nuclear matter, metre cube\n",
"// For neutron\n",
"N = 238-92;    // Number of neutrons\n",
"M = 1.67482e-027;    // Mass of a neutron, kg\n",
"e = 1.602e-019;    // Energy equivalent of 1 eV, J/eV\n",
"E_f = (3*%pi^2)^(2/3)*h_cut^2/(2*M)*(N/V)^(2/3)/e;    // Fermi energy of neutron, eV \n",
"printf('\nThe Fermi energy of neutron = %5.2f MeV', E_f/1e+006);\n",
"// For proton\n",
"N = 92;    // Number of protons\n",
"M = 1.67482e-027;    // Mass of a proton, kg\n",
"e = 1.602e-019;    // Energy equivalent of 1 eV, J/eV\n",
"E_f = (3*%pi^2)^(2/3)*h_cut^2/(2*M)*(N/V)^(2/3)/e;    // Fermi energy of neutron, eV \n",
"printf('\nThe Fermi energy of proton = %5.2f MeV', E_f/1e+006);\n",
"\n",
"// Result\n",
"// The Fermi energy of neutron = 48.92 MeV\n",
"// The Fermi energy of proton = 35.96 MeV "
   ]
   }
,
{
		   "cell_type": "markdown",
		   "metadata": {},
		   "source": [
			"## Example 9.3: General_propeties_of_a_neutron_star.sce"
		   ]
		  },
  {
"cell_type": "code",
	   "execution_count": null,
	   "metadata": {
	    "collapsed": true
	   },
	   "outputs": [],
"source": [
"// Scilab code Exa9.3 : : Page-390 (2011)\n",
"clc; clear;\n",
"h_cut = 1.0545e-34; // Reduced Planck's constant, joule sec\n",
"G = 6.6e-11;        // Gravitational constant, newton square metre per square Kg \n",
"m = 10^30;        // Mass of the star, Kg\n",
"m_n = 1.67e-27;        // Mass of the neutron, Kg\n",
"R = (9*%pi/4)^(2/3)*h_cut^2/(G*(m_n)^3)*(m_n/m)^(1/3);        // Radius of the neutron star, metre\n",
"printf('\nThe radius of the neutron star = %3.1e metre', R);\n",
"\n",
"// Result\n",
"// The radius of the neutron star = 1.6e+004 metre "
   ]
   }
,
{
		   "cell_type": "markdown",
		   "metadata": {},
		   "source": [
			"## Example 9.4: Stability_of_the_isobar_using_the_liquid_drop_model.sce"
		   ]
		  },
  {
"cell_type": "code",
	   "execution_count": null,
	   "metadata": {
	    "collapsed": true
	   },
	   "outputs": [],
"source": [
"// Scilab code Exa9.4 : : Page-391 (2011)\n",
"clc; clear;\n",
"A = 77;        // Mass number of the isotopes\n",
"Z = round (A/((0.015*A^(2/3))+2));    // Atomic number of stable isotope\n",
"// Check the stability !!!!!\n",
"  if Z == 34 then\n",
"    printf('\nSe( %d,%d) is stable \nAs (%d,%d) and Br(%d,%d) are unstable', Z, A, Z-1, A, Z+1, A);\n",
"  elseif Z == 33 then\n",
"    printf('\nAs( %d,%d) is stable \nSe (%d,%d) and Br(%d,%d) are unstable', Z, A, Z+1, A, Z+2, A);\n",
"   elseif Z == 35 then\n",
"    printf('\nBr( %d,%d) is stable \nSe (%d,%d) and As(%d,%d) are unstable',Z,A,Z-2,A,Z-1,A);      \n",
"end\n",
"\n",
"// Result\n",
"// Se( 34,77) is stable \n",
"// As (33,77) and Br(35,77) are unstable "
   ]
   }
,
{
		   "cell_type": "markdown",
		   "metadata": {},
		   "source": [
			"## Example 9.5: Energy_difference_between_neutron_shells.sce"
		   ]
		  },
  {
"cell_type": "code",
	   "execution_count": null,
	   "metadata": {
	    "collapsed": true
	   },
	   "outputs": [],
"source": [
"// Scilab code Exa9.5 : : Page-391 (2011)\n",
"clc; clear;\n",
"m_40 = 39.962589;         // Mass of calcium 40, atomic mass unit\n",
"m_41 = 40.962275;         // Mass of calcium 41, atomic mass unit\n",
"m_39 = 38.970691;          // Mass of calcium 39, atomic mass unit \n",
"m_n = 1.008665;            // Mass of the neutron, atomic mass unit\n",
"BE_1d = (m_39+m_n-m_40)*931.5;        // Binding energy of 1d 3/2 neutron, mega electron volts\n",
"BE_1f = (m_40+m_n-m_41)*931.5;        // Binding energy of 1f 7/2 neutron, mega electron volts\n",
"delta = BE_1d-BE_1f;        // Energy difference between neutron shells, mega electron volts\n",
"printf('\nThe energy difference between neutron shells = %4.2f MeV', delta);\n",
"\n",
"// Result\n",
"// The energy difference between neutron shells = 7.25 MeV "
   ]
   }
,
{
		   "cell_type": "markdown",
		   "metadata": {},
		   "source": [
			"## Example 9.7: Angular_frequency_of_the_nuclei.sce"
		   ]
		  },
  {
"cell_type": "code",
	   "execution_count": null,
	   "metadata": {
	    "collapsed": true
	   },
	   "outputs": [],
"source": [
"// Scilab code Exa9.7 : : Page-392 (2011)\n",
"clc; clear;\n",
"h_cut = 1.0545e-34;       // Reduced Planck's constant, joule sec\n",
"R = 1.2e-15;            // Distance of closest approach, metre\n",
"m = 1.67482e-27;        // Mass of the nucleon, Kg\n",
"// For O-17\n",
"for A = 17:60           // Mass numbers\n",
"if A == 17 then\n",
"omega_O = 5*3^(1/3)*h_cut*17^(-1/3)/(2^(7/3)*m*R^2);    // Angular frequency of oxygen \n",
"// For Ni-60\n",
"elseif A == 60 then\n",
"omega_Ni =  5*3^(1/3)*h_cut*60^(-1/3)/(2^(7/3)*m*R^2);  // Angular frequency of nickel\n",
"end \n",
"end \n",
"printf('\nThe angular frequency for oxygen 17 = %4.2e \nThe angular frequency for nickel 60 = %4.2e', omega_O, omega_Ni);\n",
"\n",
"// Result\n",
"// The angular frequency for oxygen 17 = 2.43e+022 \n",
"// The angular frequency for nickel 60 = 1.60e+022 "
   ]
   }
,
{
		   "cell_type": "markdown",
		   "metadata": {},
		   "source": [
			"## Example 9.9: Angular_momenta_and_parities.sce"
		   ]
		  },
  {
"cell_type": "code",
	   "execution_count": null,
	   "metadata": {
	    "collapsed": true
	   },
	   "outputs": [],
"source": [
"// Scilab code Exa9.9 : : Page-393 (2011)\n",
"clc; clear;\n",
"Z = rand(5,1);\n",
"N = rand(5,1);\n",
"E = string (rand(5,1));\n",
"// Elements allocated\n",
"E(1,1) = 'Carbon'\n",
"E(2,1) = 'Boron'\n",
"E(3,1) = 'Oxygen'\n",
"E(4,1) = 'Zinc'\n",
"E(5,1) = 'Nitrogen'\n",
"Z(1,1) = 6;        // Number of proton in carbon nuclei\n",
"Z(2,1) = 5;         // Number of proton in boron nuclei\n",
"Z(3,1) = 8;         // Number of proton in oxygen nuclei\n",
"Z(4,1) = 30;         // Number of proton in zinc nuclei\n",
"Z(5,1) = 7;         // Number of proton in nitrogen nuclei\n",
"N(1,1) = 6;        // Mass number of carbon\n",
"N(2,1) = 6;         // Mass number of boron\n",
"N(3,1) = 9;         // Mass number of oxygen\n",
"N(4,1) = 37;         // Mass number of zinc\n",
"N(5,1) = 9;         // Mass number of nitrogem\n",
"for i = 1:5\n",
"    if Z(i,1) == 8  then\n",
"            printf('\nThe angular momentum is 5/2 and the parity is +1 for %s ', E(i,1));\n",
"    elseif Z(i,1) == 5 then\n",
"            printf('\nThe angular momentum is 3/2 and the parity is -1 for %s', E(i,1));\n",
"        end\n",
"    if Z(i,1) == N(i,1) then\n",
"        printf('\nThe angular mometum is 0 and the parity is +1 for %s', E(i,1));\n",
"    end\n",
"    if N(i,1)-Z(i,1) == 2  then\n",
"        printf('\nThe angular momentum is 2 and the parity is -1 for %s', E(i,1));\n",
"    end\n",
"    if N(i,1)-Z(i,1) == 7 then\n",
"        printf('\nThe angular momentum is 5/2 and the parity is -1 for %s', E(i,1));\n",
"    end\n",
"end\n",
"\n",
"// Result\n",
"// The angular mometum is 0 and the parity is +1 for Carbon\n",
"// The angular momentum is 3/2 and the parity is -1 for Boron\n",
"// The angular momentum is 5/2 and the parity is +1 for Oxygen \n",
"// The angular momentum is 5/2 and the parity is -1 for Zinc\n",
"// The angular momentum is 2 and the parity is -1 for Nitrogen "
   ]
   }
],
"metadata": {
		  "kernelspec": {
		   "display_name": "Scilab",
		   "language": "scilab",
		   "name": "scilab"
		  },
		  "language_info": {
		   "file_extension": ".sce",
		   "help_links": [
			{
			 "text": "MetaKernel Magics",
			 "url": "https://github.com/calysto/metakernel/blob/master/metakernel/magics/README.md"
			}
		   ],
		   "mimetype": "text/x-octave",
		   "name": "scilab",
		   "version": "0.7.1"
		  }
		 },
		 "nbformat": 4,
		 "nbformat_minor": 0
}
