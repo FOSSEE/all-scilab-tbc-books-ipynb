{
"cells": [
 {
		   "cell_type": "markdown",
	   "metadata": {},
	   "source": [
       "# Chapter 10: Nuclear Reactions"
	   ]
	},
{
		   "cell_type": "markdown",
		   "metadata": {},
		   "source": [
			"## Example 10.10: Fractional_attenuation_of_neutron_beam_on_passing_through_nickel_sheet.sce"
		   ]
		  },
  {
"cell_type": "code",
	   "execution_count": null,
	   "metadata": {
	    "collapsed": true
	   },
	   "outputs": [],
"source": [
"// Scilab code Exa10.10 : : Page-458 (2011)\n",
"clc; clear;\n",
"N_0 = 6.02252e+26;        // Avogadro's constant\n",
"sigma = 3.5e-28;            // Cross section, square metre\n",
"rho = 8.9e+03;                // Nuclear density, Kg per cubic metre\n",
"M = 58;                          // Mass number  \n",
"summation = rho/M*N_0*sigma;    // Macroscopic cross section, per metre\n",
"x = 0.01e-02;                   // Thickness of nickel sheet, metre\n",
"I0_ratio_I = exp(summation*x/2.3026);    // Fractional attenuation of neutron beam on passing through nickel sheet\n",
"printf('\nThe fractional attenuation of neutron beam on passing through nickel sheet = %6.4f', I0_ratio_I);\n",
"// Result\n",
"// The fractional attenuation of neutron beam on passing through nickel sheet = 1.0014 \n",
"// Wrong answer given in the textbook"
   ]
   }
,
{
		   "cell_type": "markdown",
		   "metadata": {},
		   "source": [
			"## Example 10.11: Scattering_contribution_to_the_resonance.sce"
		   ]
		  },
  {
"cell_type": "code",
	   "execution_count": null,
	   "metadata": {
	    "collapsed": true
	   },
	   "outputs": [],
"source": [
"// Scilab code Exa10.11 : : Page-458 (2011)\n",
"clc; clear;\n",
"lambda = sqrt(1.45e-021/(4*%pi));        // Wavelength, metre\n",
"W_ratio = 2.3e-07;                    // Width ratio\n",
"sigma = W_ratio*(4*%pi)*lambda^2*10^28;            // Scattering contribution, barn\n",
"printf('\nThe scattering contribution to the resonance = %4.2f barns', sigma);\n",
"// Result\n",
"// The scattering contribution to the resonance = 3.33 barns "
   ]
   }
,
{
		   "cell_type": "markdown",
		   "metadata": {},
		   "source": [
			"## Example 10.12: Estimating_the_relative_probabilities_interactions_in_the_indium.sce"
		   ]
		  },
  {
"cell_type": "code",
	   "execution_count": null,
	   "metadata": {
	    "collapsed": true
	   },
	   "outputs": [],
"source": [
"// Scilab code Exa10.12 : : Page-458 (2011)\n",
"clc; clear;\n",
"sigma = 2.8e-024;        // Cross section, metre square\n",
"lambda = 2.4e-11;        // de Broglie wavelength, metre\n",
"R_prob = %pi*sigma/lambda^2;        // Relative probabilities of (n,n) and (n,y) in indium\n",
"printf('\nThe relative probabilities of (n,n) and (n,y) in indium = %5.3f', R_prob);\n",
"// Result\n",
"// The relative probabilities of (n,n) and (n,y) in indium = 0.015 \n",
" "
   ]
   }
,
{
		   "cell_type": "markdown",
		   "metadata": {},
		   "source": [
			"## Example 10.13: Peak_cross_section_during_neutron_capture.sce"
		   ]
		  },
  {
"cell_type": "code",
	   "execution_count": null,
	   "metadata": {
	    "collapsed": true
	   },
	   "outputs": [],
"source": [
"// Scilab code Exa10.13 : : Page-459 (2011)\n",
"clc; clear;\n",
"h = 6.625e-34;            // Planck's constant, joule sec \n",
"m_n = 1.67e-27;          // Mass of neutron, Kg\n",
"E = 4.906;           // Energy, joule \n",
"w_y = 0.124;                // radiation width, eV\n",
"w_n = 0.007*E^(1/2);                // Probability of elastic emission of neutron, eV\n",
"I = 3;                    // Total angular momentum\n",
"I_c = 2;                    // Total angular momentum in the compound state\n",
"sigma = ((h^2)*(2*I_c+1)*w_y*w_n)*10^28/(2*%pi*m_n*E*1.602e-019*(2*I+1)*(w_y+w_n)^2);    // Cross section, barns\n",
"printf('\nThe cross section of neutron capture = %5.3e barns', sigma);\n",
"// Result\n",
"// The cross section of neutron capture = 3.755e+004 barns \n",
" "
   ]
   }
,
{
		   "cell_type": "markdown",
		   "metadata": {},
		   "source": [
			"## Example 10.14: Angle_at_which_differential_cross_section_is_maximumat_a_givem_l_value.sce"
		   ]
		  },
  {
"cell_type": "code",
	   "execution_count": null,
	   "metadata": {
	    "collapsed": true
	   },
	   "outputs": [],
"source": [
"// Scilab code Exa10.14 : : Page-459 (2011)\n",
"clc; clear;\n",
"R = 5;                   // Radius, femto metre\n",
"k_d = 0.98;               // The value of k for deutron \n",
"k_p = 0.82;            // The value of k for triton\n",
"theta = rand(1,5);        // Angles at which differetial cross section is maximum, degree\n",
"// Use of for loop for angles calculation(in degree)\n",
"for l = 0:4\n",
"    theta = round((acos((k_d^2+k_p^2)/(2*k_d*k_p)-l^2/(2*k_d*k_p*R^2)))*180/3.14);\n",
"    printf('\nFor l = %d', l);\n",
"    printf(',the value of theta_max = %d degree', ceil(theta));\n",
"    end\n",
"// Result\n",
"// For l = 0,the value of theta_max = 0 degree\n",
"// For l = 1,the value of theta_max = 8 degree\n",
"// For l = 2,the value of theta_max = 24 degree\n",
"// For l = 3,the value of theta_max = 38 degree\n",
"// For l = 4,the value of theta_max = 52 degree "
   ]
   }
,
{
		   "cell_type": "markdown",
		   "metadata": {},
		   "source": [
			"## Example 10.15: Estimating_the_angular_momentum_transfer.sce"
		   ]
		  },
  {
"cell_type": "code",
	   "execution_count": null,
	   "metadata": {
	    "collapsed": true
	   },
	   "outputs": [],
"source": [
"// Scilab code Exa10.15 : : Page-459 (2011)\n",
"clc; clear;\n",
"k_d = 2.02e+30;        // The value of k for deutron\n",
"k_t = 2.02e+30;        // The value of k for triton\n",
"theta = 23*3.14/180;        // Angle, radiams\n",
"q = sqrt (k_d+k_t-2*k_t*cos(theta))*10^-15;        // the value of q in femto metre\n",
"R_0 = 1.2;        // Distance of closest approach, femto metre\n",
"A = 90;            // Mass number of Zr-90\n",
"z = 4.30;            // Deutron size, femto metre\n",
"R = R_0*A^(1/3)+1/2*z;        // Radius of the nucleus, femto metre\n",
"l = round(q*R);            // Orbital angular momentum\n",
"I = l+1/2                    // Total angular momentum\n",
"printf('\nThe total angular momentum transfer = %3.1f ', I);\n",
"// Result\n",
"// The total angular momentum transfer = 4.5  "
   ]
   }
,
{
		   "cell_type": "markdown",
		   "metadata": {},
		   "source": [
			"## Example 10.1: Q_value_for_the_formation_of_P30_in_the_ground_state.sce"
		   ]
		  },
  {
"cell_type": "code",
	   "execution_count": null,
	   "metadata": {
	    "collapsed": true
	   },
	   "outputs": [],
"source": [
"// Scilab code Exa10.1 : : Page-455 (2011)  \n",
"clc; clear;\n",
"M = 47.668;            // Total mass of reaction, MeV\n",
"E = 44.359;            // Total energy, MeV\n",
"Q = M-E;                // Q-value, MeV\n",
"printf('\nThe Q-value for the formation of P30 = %5.3f MeV', Q);\n",
"\n",
"// Result\n",
"// The Q-value for the formation of P30 = 3.309 MeV  "
   ]
   }
,
{
		   "cell_type": "markdown",
		   "metadata": {},
		   "source": [
			"## Example 10.2: Q_value_of_the_reaction_and_atomic_mass_of_the_residual_nucleus.sce"
		   ]
		  },
  {
"cell_type": "code",
	   "execution_count": null,
	   "metadata": {
	    "collapsed": true
	   },
	   "outputs": [],
"source": [
"// Scilab code Exa10.2 : : Page-455 (2011) \n",
"clc; clear;\n",
"E_x = 7.70; // Energy of the alpha particle, MeV\n",
"E_y = 4.44; // Energy of the proton, MeV\n",
"m_x = 4.0;  // Mass number of alpha particle\n",
"m_y = 1.0;   // Mass number of protium ion\n",
"M_X = 14;   // Mass number of nitrogen nucleus\n",
"M_Y = 17;  // Mass number of oxygen nucleus\n",
"theta = 90*3.14/180; //  Angle between incident beam direction and emitted proton, degree\n",
"A_x = 4.0026033; // Atomic mass of alpha particle, u\n",
"A_X = 14.0030742; // Atomic mass of nitrogen nucleus, u\n",
"A_y = 1.0078252;  // Atomic mass of proton, u\n",
"Q = ((E_y*(1+m_y/M_Y))-(E_x*(1-m_x/M_Y))-2/M_Y*sqrt((m_x*m_y*E_x*E_y))*cos(theta))/931.5;     // Q-value, u\n",
"A_Y = A_x+A_X-A_y-Q;     // Atomic mass of O-17, u\n",
"printf('\nThe Q-value of the reaction = %9.7f u \nThe atomic mass of the O-17 = %10.7f u', Q, A_Y);\n",
"\n",
"// Result\n",
"// The Q-value of the reaction = -0.0012755 u \n",
"// The atomic mass of the O-17 = 16.9991278 u \n",
"//  Atomic mass of the O-17 : 16.9991278 u "
   ]
   }
,
{
		   "cell_type": "markdown",
		   "metadata": {},
		   "source": [
			"## Example 10.3: Kinetic_energy_of_the_neutrons_emitted_at_given_angle_to_the_incident_beam.sce"
		   ]
		  },
  {
"cell_type": "code",
	   "execution_count": null,
	   "metadata": {
	    "collapsed": true
	   },
	   "outputs": [],
"source": [
"// Scilab code Exa10.3 : : Page-455 (2011)  \n",
"clc; clear;\n",
"m_p = 1.007276;       // Atomic mass of the proton, u\n",
"m_H = 3.016049;         // Atomic mass of the tritium, u \n",
"m_He = 3.016029;          // Atomic mass of the He ion, u \n",
"m_n = 1.008665;            // Atomic mass of the emitted neutron, u\n",
"Q = (m_p+m_H-m_He-m_n)*931.5;         // Q-value in MeV\n",
"E_p = 3;                      // Kinetic energy of the proton, MeV \n",
"theta = 30*3.14/180;           // angle, radian\n",
"u = sqrt(m_p*m_n*E_p)/(m_He+m_n)*cos(theta);         //\n",
"v = ((m_He*Q)+E_p*(m_He-m_p))/(m_He+m_n);                 //\n",
"E_n = (u+sqrt(u^2+v))^2;                  // Kinetic energy of the emitted neutron,MeV\n",
"printf('\nThe kinetic energy of the emitted neutron = %5.3f MeV', E_n);\n",
"\n",
"// Result\n",
"// The kinetic energy of the emitted neutron = 1.445 MeV "
   ]
   }
,
{
		   "cell_type": "markdown",
		   "metadata": {},
		   "source": [
			"## Example 10.4: Estimating_the_temperature_of_nuclear_fusion_reaction.sce"
		   ]
		  },
  {
"cell_type": "code",
	   "execution_count": null,
	   "metadata": {
	    "collapsed": true
	   },
	   "outputs": [],
"source": [
"// Scilab code Exa10.4 : : Page-456 (2011)  \n",
"clc; clear;\n",
"r_min = 4e-015;        // Distance between two deutrons, metre\n",
"k = 1.3806504e-023;       // Boltzmann's constant, Joule per kelvin\n",
"alpha = 1/137;            // Fine structure constant\n",
"h_red = 1.05457168e-034;        // Reduced planck's constant, Joule sec\n",
"C = 3e+08;                    // Velocity of light, meter per second\n",
"T = alpha*h_red*C/(r_min*k);\n",
"printf('\nThe temperature in the fusion reaction is = %3.1e K', T);\n",
"\n",
"// Result\n",
"// The temperature in the fusion reaction is = 4.2e+009 K "
   ]
   }
,
{
		   "cell_type": "markdown",
		   "metadata": {},
		   "source": [
			"## Example 10.5: Excitation_energy_of_the_compound_nucleus.sce"
		   ]
		  },
  {
"cell_type": "code",
	   "execution_count": null,
	   "metadata": {
	    "collapsed": true
	   },
	   "outputs": [],
"source": [
"// Scilab code Exa11.5 : : Page-456 (2011)  \n",
"clc; clear;\n",
"E_0 = 4.99;        // Energy of the proton, MeV \n",
"m_p = 1;            // Mass number of the proton\n",
"m_F = 19;            // Mass number of the flourine\n",
"E = E_0/(1+m_p/m_F);        // Energy of the relative motion, MeV\n",
"A_F = 18.998405;        // Atomic mass of the fluorine, amu\n",
"A_H = 1.007276;          //  Atomic mass of the proton, amu\n",
"A_Ne = 19.992440;         // Atomic mass of the neon, amu\n",
"del_E = (A_F+A_H-A_Ne)*931.5;        // Binding energy of the absorbed proton, MeV\n",
"E_exc = E+del_E;            // Excitation energy of the compound nucleus, MeV\n",
"printf('\nThe excitation energy of the compound nucleus = %6.3f MeV', E_exc);\n",
"\n",
"// Result\n",
"// The excitation energy of the compound nucleus = 17.074 MeV "
   ]
   }
,
{
		   "cell_type": "markdown",
		   "metadata": {},
		   "source": [
			"## Example 10.6: Excitation_energy_and_parity_for_compound_nucleus.sce"
		   ]
		  },
  {
"cell_type": "code",
	   "execution_count": null,
	   "metadata": {
	    "collapsed": true
	   },
	   "outputs": [],
"source": [
"// Scilab code Exa10.6 : : Page-457 (2011)  \n",
"clc; clear;\n",
"E_d = 0.6;        // Energy of the deutron, MeV \n",
"m_d = 2;            // Mass number of the deutron\n",
"m_Li = 19;            // Mass number of the Lithium\n",
"E = E_d/(1+m_d/m_Li);        // Energy of the relative motion, MeV\n",
"A_Li = 6.017;        // Atomic mass of the Lithium, amu\n",
"A_d = 2.015;          //  Atomic mass of the deutron, amu\n",
"A_Be = 8.008;         // Atomic mass of the Beryllium, amu\n",
"del_E = (A_Li+A_d-A_Be)*931.5;        // Binding energy of the absorbed proton, MeV\n",
"E_exc = E+del_E;            // Excitation energy of the compound nucleus, MeV\n",
"l_f = 2;            // orbital angular momentum of two alpha particle\n",
"P = (-1)^l_f*(+1)^2;        // Parity of the compound nucleus\n",
"printf('\nThe excitation energy of the compound nucleus = %6.3f MeV\nThe parity of the compound nucleus = %d', E_exc, P);\n",
"\n",
"// Result\n",
"// The excitation energy of the compound nucleus = 22.899 MeV\n",
"// The parity of the compound nucleus = 1 "
   ]
   }
,
{
		   "cell_type": "markdown",
		   "metadata": {},
		   "source": [
			"## Example 10.7: Cross_section_for_neutron_induced_fission.sce"
		   ]
		  },
  {
"cell_type": "code",
	   "execution_count": null,
	   "metadata": {
	    "collapsed": true
	   },
	   "outputs": [],
"source": [
"// Scilab code Exa10.7 : : Page-457 (2011)\n",
"clc; clear;\n",
"lambda = 1e-016;        // Disintegration constant, per sec\n",
"phi = 10^11;              // Neutron flux, neutrons per square cm per sec\n",
"sigma = 5*lambda/(phi*10^-27);             // Cross section, milli barns\n",
"printf('\nThe cross section for neutron induced fission = %d milli barns', sigma);\n",
"// Result\n",
"// The cross section for neutron induced fission = 5 milli barns "
   ]
   }
,
{
		   "cell_type": "markdown",
		   "metadata": {},
		   "source": [
			"## Example 10.8: Irradiance_of_neutron_beam_with_the_thin_sheet_of_Co59.sce"
		   ]
		  },
  {
"cell_type": "code",
	   "execution_count": null,
	   "metadata": {
	    "collapsed": true
	   },
	   "outputs": [],
"source": [
"// Scilab code Exa10.8 : : Page-457 (2011)\n",
"clc; clear;\n",
"N_0 = 6.02252e+026;        // Avogadro's constant \n",
"rho = 8.9*10^3;            // Nuclear density of Co-59, Kg per cubic metre\n",
"M = 59;                    // Mass number\n",
"sigma = 30e-028;             // Cross section, per square metre\n",
"phi = 10^16;              // Neutron flux, neutrons per square metre per sec\n",
"d = 0.04e-02;                // Thickness of Co-59 sheet, metre\n",
"t = 3*60*60;                // Total reaction time, sec\n",
"t_half = 5.2*365*86400;        // Half life of Co-60, sec \n",
"lambda = 0.693/t_half;        // Disintegration constant, per sec\n",
"N_nuclei = round(N_0*rho/M*sigma*phi*d*t);        // Number of nuclei of Co-60 produced\n",
"Init_activity = lambda*N_nuclei;        // Initial activity, decays per sec\n",
"printf('\nThe number of nuclei of Co60 produced = %5.2e \nThe initial activity per Sq. metre = %1.0g decays per sec', N_nuclei, Init_activity);\n",
"// Result\n",
"// The number of nuclei of Co60 produced = 1.18e+019 \n",
"// The initial activity per Sq. metre = 5e+010 decays per sec "
   ]
   }
,
{
		   "cell_type": "markdown",
		   "metadata": {},
		   "source": [
			"## Example 10.9: Bombardment_of_protons_on_Fe54_target.sce"
		   ]
		  },
  {
"cell_type": "code",
	   "execution_count": null,
	   "metadata": {
	    "collapsed": true
	   },
	   "outputs": [],
"source": [
"// Scilab code Exa10.9 : : Page-458 (2011)\n",
"clc; clear;\n",
"d = 0.1;                // Thickness of Fe-54 sheet, Kg per squre metre\n",
"M = 54;                   // Mass number of Fe \n",
"m = 1.66e-027;            // Mass of the proton, Kg\n",
"n = d/(M*m);            // Number of nuclei in unit area of the target, nuclei per square metre\n",
"ds = 10^-5;            // Area, metre square\n",
"r = 0.1;                // Distance between detector and target foil, metre\n",
"d_omega =ds/r^2;        // Solid angle, steradian\n",
"d_sigma = 1.3e-03*10^-3*10^-28;        // Differential cross section, square metre per nuclei\n",
"P = d_sigma*n;                // Probablity, event per proton\n",
"I = 10^-7;                    // Current, ampere\n",
"e = 1.6e-19;                // Charge of the proton, C\n",
"N = I/e;            // Number of protons per second in the incident beam, proton per sec\n",
"dN = P*N;            // Number of events detected per second, events per sec\n",
"printf('\nThe number of events detected = %d events per sec', dN);\n",
"// Result\n",
"// The number of events detected = 90 events per sec "
   ]
   }
],
"metadata": {
		  "kernelspec": {
		   "display_name": "Scilab",
		   "language": "scilab",
		   "name": "scilab"
		  },
		  "language_info": {
		   "file_extension": ".sce",
		   "help_links": [
			{
			 "text": "MetaKernel Magics",
			 "url": "https://github.com/calysto/metakernel/blob/master/metakernel/magics/README.md"
			}
		   ],
		   "mimetype": "text/x-octave",
		   "name": "scilab",
		   "version": "0.7.1"
		  }
		 },
		 "nbformat": 4,
		 "nbformat_minor": 0
}
