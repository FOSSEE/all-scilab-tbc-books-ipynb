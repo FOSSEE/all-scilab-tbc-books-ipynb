{
"cells": [
 {
		   "cell_type": "markdown",
	   "metadata": {},
	   "source": [
       "# Chapter 7: Gamma Radiation"
	   ]
	},
{
		   "cell_type": "markdown",
		   "metadata": {},
		   "source": [
			"## Example 7.10: EX7_10.sce"
		   ]
		  },
  {
"cell_type": "code",
	   "execution_count": null,
	   "metadata": {
	    "collapsed": true
	   },
	   "outputs": [],
"source": [
"// Scilab code Exa7.10: : Page-296 (2011)\n",
"clc; clear;\n",
"l = 2,3,4\n",
"printf('\nThe possible multipolarities are ')\n",
"for l = 2:4\n",
"    if l == 2 then\n",
"        printf('E%d,', l);\n",
"        elseif l == 3 then\n",
"        printf(' M%d', l);\n",
"        elseif l == 4 then\n",
"        printf(' and E%d', l);\n",
"    end\n",
"end\n",
"for l = 2:4\n",
"    if l == 2 then \n",
"     printf('\nThe transition E%d dominates',l);\n",
"    end\n",
"end\n",
"\n",
"// Result\n",
"// The possible multipolarities are E2, M3 and E4\n",
"// The transition E2 dominates \n",
"\n",
""
   ]
   }
,
{
		   "cell_type": "markdown",
		   "metadata": {},
		   "source": [
			"## Example 7.13: Relative_source_absorber_velocity_required_to_obtain_resonance_absorption.sce"
		   ]
		  },
  {
"cell_type": "code",
	   "execution_count": null,
	   "metadata": {
	    "collapsed": true
	   },
	   "outputs": [],
"source": [
"// Scilab code Exa7.13: : Page-297 (2011)\n",
"clc; clear;\n",
"E_0 = 0.014*1.6022e-13;   // Energy of the gamma rays, joule\n",
"A = 57;                   // Mass number\n",
"m = 1.67e-27;             // Mass of each nucleon, Kg\n",
"c = 3e+08;                // Velocity of light, metre per sec\n",
"N = 1000;                 // Number of atoms in the lattice\n",
"v = E_0/(A*N*m*c);        // Ralative velocity, metre per sec\n",
"printf('\nThe relative source absorber velocity = %5.3f m/s', v);\n",
"\n",
"// Result\n",
"// The relative source absorber velocity = 0.079 m/s \n",
"\n",
""
   ]
   }
,
{
		   "cell_type": "markdown",
		   "metadata": {},
		   "source": [
			"## Example 7.14: Estimating_the_frequency_shift_of_a_photon.sce"
		   ]
		  },
  {
"cell_type": "code",
	   "execution_count": null,
	   "metadata": {
	    "collapsed": true
	   },
	   "outputs": [],
"source": [
"// Scilab code Exa7.14: : Page-297 (2011)\n",
"clc; clear;\n",
"g = 9.8;            // Acceleration due to gravity, metre per square sec\n",
"c = 3e+08;                // Velocity of light, metre per sec\n",
"y = 20;                // Vertical distance between source and absorber, metre\n",
"delta_v = g*y/c^2;        // Frequency shift\n",
"printf('\nThe required frequency shift of the photon = %4.2e ', delta_v);\n",
"\n",
"// Result\n",
"// The required frequency shift of the photon = 2.18e-015  \n",
"\n",
""
   ]
   }
,
{
		   "cell_type": "markdown",
		   "metadata": {},
		   "source": [
			"## Example 7.1: Bragg_reflection_for_first_order_in_a_bent_crystal_spectrometer.sce"
		   ]
		  },
  {
"cell_type": "code",
	   "execution_count": null,
	   "metadata": {
	    "collapsed": true
	   },
	   "outputs": [],
"source": [
"// Scilab code Exa7.1: : Page-292 (2011)\n",
"clc; clear;\n",
"h = 6.6261e-034;            // Planck's constant, joule sec\n",
"C = 2.998e+08;            // Velocity of light, metre per sec\n",
"f = 2;                    // Radius of focal circle, metre\n",
"d = 1.18e-010;            // Interplaner spacing for quartz crystal, metre\n",
"E_1 = 1.17*1.6022e-013;        // Energy of the gamma rays, joule\n",
"E_2 = 1.33*1.6022e-013;        // Energy of the gamma rays, joule\n",
"D = h*C*f*(1/E_1-1/E_2)*1/(2*d);        //Distance to be moved for obtaining first order reflection for two different energies, metre\n",
"printf('\nThe distance to be moved for obtaining first order Bragg reflection = %4.2e metre', D);\n",
"\n",
"// Result\n",
"// The distance to be moved for obtaining first order Bragg reflection = 1.08e-003 metre "
   ]
   }
,
{
		   "cell_type": "markdown",
		   "metadata": {},
		   "source": [
			"## Example 7.2: Energy_of_the_gamma_rays_from_magnetic_spectrograph_data.sce"
		   ]
		  },
  {
"cell_type": "code",
	   "execution_count": null,
	   "metadata": {
	    "collapsed": true
	   },
	   "outputs": [],
"source": [
"// Scilab code Exa7.2: : Page-293 (2011)\n",
"clc; clear;\n",
"m_0 = 9.1094e-031;    // Rest mass of the electron, Kg\n",
"B_R = 1250e-06;       // Magnetic field,tesla metre\n",
"e =  1.6022e-019;     // Charge of the electron, coulomb\n",
"C = 3e+08;            // Velocity of the light, metre per sec\n",
"E_k = 0.089;          // Binding energy of the K-shell electron,MeV\n",
"v = B_R*e/(m_0*sqrt(1+B_R^2*e^2/(m_0^2*C^2)));  // Velocity of the photoelectron, metre per sec\n",
"E_pe = m_0/(1.6022e-013)*C^2*(1/sqrt(1-v^2/C^2)-1);  // Energy of the photoelectron,MeV\n",
"E_g = E_pe+E_k;    // Energy of the gamma rays, MeV\n",
"printf('\nThe energy of the gamma rays = %5.3f MeV', E_g);\n",
"\n",
"// Result\n",
"// The energy of the gamma rays = 0.212 MeV "
   ]
   }
,
{
		   "cell_type": "markdown",
		   "metadata": {},
		   "source": [
			"## Example 7.3: Attenuation_of_beam_of_X_rays_in_passing_through_human_tissue.sce"
		   ]
		  },
  {
"cell_type": "code",
	   "execution_count": null,
	   "metadata": {
	    "collapsed": true
	   },
	   "outputs": [],
"source": [
"// Scilab code Exa7.3: : Page-292 (2011)\n",
"clc; clear;\n",
"a_c = 0.221;      // Attenuation coefficient, cm^2/g\n",
"A = (1-exp(-0.22))*100;    // Attenuation of beam of X-rays in passing through human tissue\n",
"printf('\nThe attenuation of beam of X-rays in passing through human tissue = %d percent', ceil(A));\n",
"\n",
"// Result\n",
"// The attenuation of beam of X-rays in passing through human tissue = 20 percent "
   ]
   }
,
{
		   "cell_type": "markdown",
		   "metadata": {},
		   "source": [
			"## Example 7.4: Partial_half_life_for_gamma_emission_of_Hg195_isomer.sce"
		   ]
		  },
  {
"cell_type": "code",
	   "execution_count": null,
	   "metadata": {
	    "collapsed": true
	   },
	   "outputs": [],
"source": [
"// Scilab code Exa7.4: : Page-293 (2011)\n",
"clc; clear;\n",
"alpha_k = 45;            // Ratio between decay constants\n",
"sum_alpha = 0.08;        // Sum of alphas\n",
"P = 0.35*1/60;            // Probability of the isomeric transition,per hour\n",
"lambda_g = P*sum_alpha/alpha_k;   // Decay constant of the gamma radiations, per hour\n",
"T_g = 1/(lambda_g*365*24);        // Partial life time for gamma emission,years\n",
"printf('\nThe partial life time for gamma emission = %5.3f years', T_g);\n",
"\n",
"// Result\n",
"// The partial life time for gamma emission = 11.008 years \n",
"\n",
""
   ]
   }
,
{
		   "cell_type": "markdown",
		   "metadata": {},
		   "source": [
			"## Example 7.5: Estimating_the_gamma_width_from_Weisskopf_model.sce"
		   ]
		  },
  {
"cell_type": "code",
	   "execution_count": null,
	   "metadata": {
	    "collapsed": true
	   },
	   "outputs": [],
"source": [
"// Scilab code Exa7.5:  : Page-294 (2011)\n",
"clc; clear;\n",
"A = 11;            // Mass number of boron\n",
"E_g = 4.82;        // Energy of the gamma radiation, mega electron volts\n",
"W_g = 0.0675*A^(2/3)*E_g^3;        // Gamma width, mega electron volts\n",
"printf('\nThe required gamma width = %5.2f MeV', W_g);\n",
"\n",
"// Result\n",
"// The required gamma width = 37.39 MeV \n",
"\n",
""
   ]
   }
,
{
		   "cell_type": "markdown",
		   "metadata": {},
		   "source": [
			"## Example 7.8: K_electronic_states_in_indium.sce"
		   ]
		  },
  {
"cell_type": "code",
	   "execution_count": null,
	   "metadata": {
	    "collapsed": true
	   },
	   "outputs": [],
"source": [
"// Scilab code Exa7.8:  : Page-295 (2011)\n",
"clc; clear;\n",
"e = 1.6022e-19;        // Charge of an electron, coulomb\n",
"BR = 2370e-06;         // Magnetic field in an orbit, tesla metre\n",
"m_0 = 9.1094e-31;      // Mass of an electron, Kg\n",
"c = 3e+08;             // Velocity of light, metre per sec\n",
"v = 1/sqrt((m_0/(BR*e))^2+1/c^2);      // velocity of the particle, metre per sec\n",
"E_e = m_0*c^2*((1-(v/c)^2)^(-1/2)-1)/1.6e-13;    // Energy of an electron, MeV\n",
"E_b = 0.028;        // Binding energy, MeV\n",
"E_g = E_e+E_b;        // Excitation energy, MeV\n",
"alpha_k = 0.5;        // K conversion coefficient\n",
"Z = 49;                // Number of protons\n",
"alpha = 1/137;        // Fine structure constant\n",
"L = (1/(1-(Z^3/alpha_k*alpha^4*(2*0.511/0.392)^(15/2))))/2;    // Angular momentum\n",
"l = 1;        // Orbital angular momentum\n",
"I = l-1/2;    // Parity\n",
"printf('\nFor K-electron state:\nThe excitation energy = %5.3f MeV\nThe angular momentum = %d\nThe parity : %3.1f', E_g, ceil(L), I);\n",
"// Result\n",
"// For K-electron state:\n",
"// The excitation energy = 0.393 MeV\n",
"// The angular momentum = 5\n",
"// The parity : 0.5 \n",
"\n",
""
   ]
   }
,
{
		   "cell_type": "markdown",
		   "metadata": {},
		   "source": [
			"## Example 7.9: Radioactive_lifetime_of_the_lowest_energy_electric_dipole_transition_for_F17.sce"
		   ]
		  },
  {
"cell_type": "code",
	   "execution_count": null,
	   "metadata": {
	    "collapsed": true
	   },
	   "outputs": [],
"source": [
"// Scilab code Exa7.9: : Page-295 (2011)\n",
"clc; clear;\n",
"c = 3e+10;            // Velocity of light, centimetre per sec\n",
"R_0 = 1.4e-13;        // Distance of closest approach, centimetre \n",
"alpha = 1/137;        // Fine scattering constant\n",
"A = 17;                // Mass number\n",
"E_g = 5*1.6e-06;        // Energy of gamma transition, ergs\n",
"h_cut = 1.054571628e-27;        // Reduced planck constant, ergs per sec\n",
"lambda = c/4*R_0^2*alpha*(E_g/(h_cut*c))^3*A^(2/3);        // Disintegration constant, per sec\n",
"tau = 1/lambda;        // Radioactive lifr\e time, sec\n",
"printf('\nThe radioactive life time = %1.0e sec', tau);\n",
"\n",
"// Result\n",
"// The radioactive life time = 9e-018 sec \n",
"\n",
""
   ]
   }
],
"metadata": {
		  "kernelspec": {
		   "display_name": "Scilab",
		   "language": "scilab",
		   "name": "scilab"
		  },
		  "language_info": {
		   "file_extension": ".sce",
		   "help_links": [
			{
			 "text": "MetaKernel Magics",
			 "url": "https://github.com/calysto/metakernel/blob/master/metakernel/magics/README.md"
			}
		   ],
		   "mimetype": "text/x-octave",
		   "name": "scilab",
		   "version": "0.7.1"
		  }
		 },
		 "nbformat": 4,
		 "nbformat_minor": 0
}
