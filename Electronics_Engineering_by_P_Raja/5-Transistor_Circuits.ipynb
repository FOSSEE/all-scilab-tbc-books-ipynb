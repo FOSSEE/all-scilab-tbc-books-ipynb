{
"cells": [
 {
		   "cell_type": "markdown",
	   "metadata": {},
	   "source": [
       "# Chapter 5: Transistor Circuits"
	   ]
	},
{
		   "cell_type": "markdown",
		   "metadata": {},
		   "source": [
			"## Example 5.10: Voltage_gai.sce"
		   ]
		  },
  {
"cell_type": "code",
	   "execution_count": null,
	   "metadata": {
	    "collapsed": true
	   },
	   "outputs": [],
"source": [
"// Exa 5.10\n",
"clc;\n",
"clear;\n",
"close;\n",
"// Given data\n",
"R_L = 10;// in kohm\n",
"R_L= R_L*10^3;// in ohm\n",
"R_C = 3.6;// in kohm\n",
"R_C= R_C*10^3;// in ohm\n",
"r_e_desh = 22.73;// in ohm \n",
"R_L_desh = R_L/2;// in ohm\n",
"A_v = ( (R_C*R_L_desh)/(R_C+R_L_desh))/r_e_desh;\n",
"disp(A_v,'The voltage gain is');"
   ]
   }
,
{
		   "cell_type": "markdown",
		   "metadata": {},
		   "source": [
			"## Example 5.11: Input_impedance.sce"
		   ]
		  },
  {
"cell_type": "code",
	   "execution_count": null,
	   "metadata": {
	    "collapsed": true
	   },
	   "outputs": [],
"source": [
"// Exa 5.11\n",
"clc;\n",
"clear;\n",
"close;\n",
"// Given data\n",
"R_E = 1;// in kohm\n",
"R_E = R_E * 10^3;// in ohm\n",
"R_L = 3.3;// in kohm\n",
"R_L = R_L * 10^3;// in ohm\n",
"r_e = (R_E*R_L)/(R_E+R_L);// in ohm\n",
"V_CC = 15;// in V\n",
"R2 = 2.2;// in K ohm\n",
"R2 = R2 * 10^3;// in ohm\n",
"R1 = R2;// in ohm\n",
"V_B = (V_CC*R2)/(R1+R2);// in V\n",
"V_BE = 0.7;// in V\n",
"R_E = 1;// in K ohm\n",
"R_E = R_E * 10^3;// in ohm\n",
"I_E = (V_B-V_BE)/R_E;// in A\n",
"V1 = 25*10^-3;// in V\n",
"r_e1 = V1/I_E;\n",
"bita = 200;\n",
"Zin_base = bita*(r_e+r_e1);// in ohm\n",
"disp(Zin_base*10^-3,'The input impedence of the base in kΩ is : ')\n",
"Zin_stage = (R1*R2*Zin_base)/(R1*R2+R2*Zin_base+R1*Zin_base);// in ohm\n",
"disp(Zin_stage*10^-3,'The input impedance of the stage in kΩ is');"
   ]
   }
,
{
		   "cell_type": "markdown",
		   "metadata": {},
		   "source": [
			"## Example 5.12: Voltage_gain_and_ac_load_voltage.sce"
		   ]
		  },
  {
"cell_type": "code",
	   "execution_count": null,
	   "metadata": {
	    "collapsed": true
	   },
	   "outputs": [],
"source": [
"// Exa 5.12\n",
"clc;\n",
"clear;\n",
"close;\n",
"// Given data\n",
"r_e = 767.44;\n",
"r_e1 = 3.68;\n",
"V_in = 1;// in V\n",
"A_v = round(r_e/(r_e+r_e1));\n",
"disp(A_v,'The voltage gain is : ')\n",
"V_o = A_v*V_in;// in V\n",
"disp(V_o,'The load voltage in V is');"
   ]
   }
,
{
		   "cell_type": "markdown",
		   "metadata": {},
		   "source": [
			"## Example 5.1: Value_of_C.sce"
		   ]
		  },
  {
"cell_type": "code",
	   "execution_count": null,
	   "metadata": {
	    "collapsed": true
	   },
	   "outputs": [],
"source": [
"// exa 5.1\n",
"clc;\n",
"clear;\n",
"close;\n",
"// Given data\n",
"R1 = 600;// in ohm\n",
"R2 = 1000;// in ohm\n",
"R_TH = (R1*R2)/(R1+R2);// in ohm\n",
"X_C = 37.5;// in ohm\n",
"f = 1;// in kHz\n",
"f= f*10^3;// in Hz\n",
"C = 1/(2*%pi * f*X_C);// in F\n",
"disp(C*10^6,'Value of C in µF is');"
   ]
   }
,
{
		   "cell_type": "markdown",
		   "metadata": {},
		   "source": [
			"## Example 5.2: Voltage_gai.sce"
		   ]
		  },
  {
"cell_type": "code",
	   "execution_count": null,
	   "metadata": {
	    "collapsed": true
	   },
	   "outputs": [],
"source": [
"// Exa 5.2\n",
"clc;\n",
"clear;\n",
"close;\n",
"// Given data\n",
"R_C= 3.6*10^3;// in ohm\n",
"R_L= 10*10^3;// in ohm\n",
"r_c = (R_C*R_L)/(R_C+R_L);// in ohm\n",
"V_CC = 10;// in V\n",
"V_BE = 0.7;// in V\n",
"R_E = 1;// in kohm\n",
"R_E = R_E * 10^3;// in ohm\n",
"R1 = 10;// in kohm\n",
"R1= R1*10^3;// in ohm\n",
"R2 = 2.2;// in  kohm\n",
"R2= R2*10^3;// in ohm\n",
"V_B = (V_CC*R2)/(R1+R2);// in V\n",
"I_E = (V_B-V_BE)/R_E;// in A\n",
"V = 25*10^-3;// in V   // only value is given in the book \n",
"r_e = V/I_E;// in ohm\n",
"A_V = round(r_c/r_e);\n",
"disp(A_V,'The voltage gain is');\n",
"V_in = 2;//in mV\n",
"V_out = A_V*V_in;// in mV\n",
"disp(V_out,'The output voltage in mV is'); "
   ]
   }
,
{
		   "cell_type": "markdown",
		   "metadata": {},
		   "source": [
			"## Example 5.3: Output_voltage.sce"
		   ]
		  },
  {
"cell_type": "code",
	   "execution_count": null,
	   "metadata": {
	    "collapsed": true
	   },
	   "outputs": [],
"source": [
"// Exa 5.3\n",
"clc;\n",
"clear;\n",
"close;\n",
"// Given data\n",
"A_V = 117;\n",
"r_e = 22.7;// in ohm\n",
"bita = 300;\n",
"Zin_base = bita*r_e;// in ohm\n",
"R1 = 2.2*10^3;// in  ohm\n",
"R2 = 10*10^3;// in ohm\n",
"Zin_stage = (Zin_base*R1*R2)/(Zin_base*R1+R1*R2+R2*Zin_base);// in ohm \n",
"R = 600;// in ohm\n",
"V = 2;// in mV\n",
"V_in = (Zin_stage/(R+Zin_stage))*V;// in mV\n",
"V_out = A_V * V_in;// in mV\n",
"disp(round(V_out),'The output voltage in mV is');"
   ]
   }
,
{
		   "cell_type": "markdown",
		   "metadata": {},
		   "source": [
			"## Example 5.4: Input_impedance.sce"
		   ]
		  },
  {
"cell_type": "code",
	   "execution_count": null,
	   "metadata": {
	    "collapsed": true
	   },
	   "outputs": [],
"source": [
"// Exa 5.4\n",
"clc;\n",
"clear;\n",
"close;\n",
"// Given data\n",
"R1 = 4.3;// in K ohm\n",
"R1= R1*10^3;// in ohm\n",
"R2 = 10;// in K ohm\n",
"R2= R2*10^3;// in ohm\n",
"r_e = (R1*R2)/(R1+R2);// in ohm\n",
"bita = 200;\n",
"V=25;// in mV\n",
"I= 1;// in mA\n",
"r_e_desh= V/I;// in ohm\n",
"Zin_base = bita*(r_e + r_e_desh);// in ohm\n",
"disp(Zin_base*10^-3,'The input impedence of the base in kΩ is : ')\n",
"R3 = 10*10^3;// in ohm\n",
"Zin_stage = (R2*R3*Zin_base)/(R2*Zin_base+R3*Zin_base+R2*R3);// in ohm\n",
"disp(Zin_stage*10^-3,'The input impedance of the stage in kΩ is');\n",
"disp('Because the input impedence of base is much larger than the input impedence')\n",
"disp(' of the stage, usually approximate the input impedence of the stage as the parallel')\n",
"Zin_stage= R2*R3/(R2+R3);// in ohm\n",
"disp(' of the biasing resistor only ')\n",
"disp(string(Zin_stage*10^-3)+' kΩ')"
   ]
   }
,
{
		   "cell_type": "markdown",
		   "metadata": {},
		   "source": [
			"## Example 5.5: Value_of_RB.sce"
		   ]
		  },
  {
"cell_type": "code",
	   "execution_count": null,
	   "metadata": {
	    "collapsed": true
	   },
	   "outputs": [],
"source": [
"// Exa 5.5\n",
"clc;\n",
"clear;\n",
"close;\n",
"// Given data\n",
"V_CE = 0.2;// in V\n",
"V_BE= 0.7;// in V\n",
"R = 1;// in kohm\n",
"R = R * 10^3;// in ohm\n",
"V = 10;// in V\n",
"I_C = (V-V_CE)/R;// in A\n",
"beta_min = 50;\n",
"I_B = I_C/beta_min;// in A\n",
"I_B1 = V*I_B;// in A\n",
"V1 = 5;// in V\n",
"R_B = (V1-V_BE)/I_B1;// in ohm\n",
"disp(R_B*10^-3,'The base resistance in kΩ is');"
   ]
   }
,
{
		   "cell_type": "markdown",
		   "metadata": {},
		   "source": [
			"## Example 5.6: Lowest_frequency.sce"
		   ]
		  },
  {
"cell_type": "code",
	   "execution_count": null,
	   "metadata": {
	    "collapsed": true
	   },
	   "outputs": [],
"source": [
"// Exa 5.6\n",
"clc;\n",
"clear;\n",
"close;\n",
"// Given data\n",
"R = 10;// in K ohm\n",
"R = R * 10^3;// in ohm\n",
"X_C = 0.1 * R;\n",
"C = 47;// in µF\n",
"C = C * 10^-6;// in F\n",
"f = 1/(2*%pi * X_C *C) ;// in Hz\n",
"disp(f,'Lowest frequency in Hz is');"
   ]
   }
,
{
		   "cell_type": "markdown",
		   "metadata": {},
		   "source": [
			"## Example 5.7: Lowest_frequency.sce"
		   ]
		  },
  {
"cell_type": "code",
	   "execution_count": null,
	   "metadata": {
	    "collapsed": true
	   },
	   "outputs": [],
"source": [
"// Exa 5.7\n",
"clc;\n",
"clear;\n",
"close;\n",
"// Given data\n",
"C = 220;// in µF\n",
"C = C * 10^-6;// in F\n",
"R1 = 10;// in kohm\n",
"R1 = R1 * 10^3;// in ohm\n",
"R2 = 2.2;// in kohm\n",
"R2 = R2 * 10^3;// in ohm\n",
"R_TH = (R1*R2)/(R1+R2);// in ohm\n",
"X_C = 0.1*R_TH;// in ohm\n",
"f = 1/(2*%pi*C*X_C);// in Hz\n",
"disp(f,'The lowest frequency in Hz is');\n",
""
   ]
   }
,
{
		   "cell_type": "markdown",
		   "metadata": {},
		   "source": [
			"## Example 5.8: AC_beta.sce"
		   ]
		  },
  {
"cell_type": "code",
	   "execution_count": null,
	   "metadata": {
	    "collapsed": true
	   },
	   "outputs": [],
"source": [
"// Exa 5.8\n",
"clc;\n",
"clear;\n",
"close;\n",
"// Given data\n",
"i_c = 15;// in mA\n",
"i_c = i_c * 10^-3;// in A\n",
"i_b = 100;// in µA\n",
"i_b = i_b * 10^-6;// in A\n",
"bita = i_c/i_b;\n",
"disp(bita,'The value of ac bita is');"
   ]
   }
,
{
		   "cell_type": "markdown",
		   "metadata": {},
		   "source": [
			"## Example 5.9: Output_voltage.sce"
		   ]
		  },
  {
"cell_type": "code",
	   "execution_count": null,
	   "metadata": {
	    "collapsed": true
	   },
	   "outputs": [],
"source": [
"// Exa 5.9\n",
"clc;\n",
"clear;\n",
"close;\n",
"// Given data\n",
"R_C = 3.6;// in kohm\n",
"R_C= R_C*10^3;// in ohm\n",
"R_L = 10;// in kohm\n",
"R_L=R_L*10^3;// in ohm\n",
"R_TH = (R_C*R_L)/(R_C+R_L);// in ohm\n",
"V_CC = 10;// in V\n",
"R2 = 2.2;// in kohm\n",
"R2 = R2 * 10^3;// in ohm\n",
"R1 = 10;// in kohm\n",
"R1 = R1 * 10^3;// in ohm\n",
"V_BE = 0.7;// in V\n",
"V_B = (V_CC*R2)/(R1+R2);// in V\n",
"R_E = 1;// in kohm  \n",
"R_E = R_E *10^3;// in ohm\n",
"I_E = (V_B-V_BE)/R_E;// in A\n",
"V1 = 25;// in mV\n",
"V1 = V1*10^-3;// in V\n",
"r_e = V1/(I_E);// in ohm\n",
"A_v = (R_TH)/r_e;\n",
"V_in = 2;// in mV\n",
"V_in = V_in * 10^-3;// in V\n",
"V_out = A_v*V_in;// in V\n",
"disp(V_out,'The output voltage in V is');"
   ]
   }
],
"metadata": {
		  "kernelspec": {
		   "display_name": "Scilab",
		   "language": "scilab",
		   "name": "scilab"
		  },
		  "language_info": {
		   "file_extension": ".sce",
		   "help_links": [
			{
			 "text": "MetaKernel Magics",
			 "url": "https://github.com/calysto/metakernel/blob/master/metakernel/magics/README.md"
			}
		   ],
		   "mimetype": "text/x-octave",
		   "name": "scilab",
		   "version": "0.7.1"
		  }
		 },
		 "nbformat": 4,
		 "nbformat_minor": 0
}
