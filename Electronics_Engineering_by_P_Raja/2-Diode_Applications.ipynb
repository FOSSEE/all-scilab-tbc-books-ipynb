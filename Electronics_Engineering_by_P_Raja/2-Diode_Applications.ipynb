{
"cells": [
 {
		   "cell_type": "markdown",
	   "metadata": {},
	   "source": [
       "# Chapter 2: Diode Applications"
	   ]
	},
{
		   "cell_type": "markdown",
		   "metadata": {},
		   "source": [
			"## Example 2.10: RMS_value_of_signal_voltage.sce"
		   ]
		  },
  {
"cell_type": "code",
	   "execution_count": null,
	   "metadata": {
	    "collapsed": true
	   },
	   "outputs": [],
"source": [
"// Exa 2.10\n",
"clc;\n",
"clear;\n",
"close;\n",
"// Given data\n",
"R_L = 20;// in ohm\n",
"I_Ldc = 100;// in mA\n",
"R2 = 1;// in ohm\n",
"R_F = 0.5;// in ohm\n",
"I_m = (%pi * I_Ldc)/2;// in mA\n",
"V_m = I_m*10^-3*(R2+R_F+R_L);// in V\n",
"V_srms = V_m/sqrt(2);// in V\n",
"disp(V_srms,'RMS value of secondary signal voltage in V is');\n",
"P_Ldc = (I_Ldc*10^-3)^2*R_L;// in Watt\n",
"disp(P_Ldc,'power delivered to load in Watt is');\n",
"PIV = 2*V_m;// in V\n",
"disp(PIV,'Peal inverse voltage in V is');\n",
"P_ac = (V_m)^2/(2*(R2+R_F+R_L));// in Watt\n",
"disp(P_ac,'Input power in Watt is');\n",
"Eta = P_Ldc/P_ac*100;// in %\n",
"disp(Eta,'Conversion efficiency in % is');"
   ]
   }
,
{
		   "cell_type": "markdown",
		   "metadata": {},
		   "source": [
			"## Example 2.16: AC_voltage.sce"
		   ]
		  },
  {
"cell_type": "code",
	   "execution_count": null,
	   "metadata": {
	    "collapsed": true
	   },
	   "outputs": [],
"source": [
"// Exa 2.16\n",
"clc;\n",
"clear;\n",
"close;\n",
"// Given data\n",
"V_dc = 12;// in V\n",
"R_L = 500;// in ohm\n",
"R_F = 25;// in ohm\n",
"I_dc = V_dc/R_L;// in A\n",
"V_m = I_dc * %pi * (R_L+R_F);// in V\n",
"V_rms = V_m/sqrt(2);// in V\n",
"V  = V_rms;// in V\n",
"disp(round(V),'The voltage in V is');"
   ]
   }
,
{
		   "cell_type": "markdown",
		   "metadata": {},
		   "source": [
			"## Example 2.17: PIV.sce"
		   ]
		  },
  {
"cell_type": "code",
	   "execution_count": null,
	   "metadata": {
	    "collapsed": true
	   },
	   "outputs": [],
"source": [
"// Exa 2.17\n",
"clc;\n",
"clear;\n",
"close;\n",
"// Given data\n",
"V_dc = 100;// in V\n",
"V_m = (V_dc*%pi)/2;// in V\n",
"PIV = 2*V_m;// in V\n",
"disp(PIV,'Peak inverse voltage for center tapped FWR in V is');\n",
"PIV1 = V_m;// in V\n",
"disp(PIV1,'Peak inverse voltage for bridge type FWR in V is');"
   ]
   }
,
{
		   "cell_type": "markdown",
		   "metadata": {},
		   "source": [
			"## Example 2.19: Required_PIV_rating.sce"
		   ]
		  },
  {
"cell_type": "code",
	   "execution_count": null,
	   "metadata": {
	    "collapsed": true
	   },
	   "outputs": [],
"source": [
"// Exa 2.19\n",
"clc;\n",
"clear;\n",
"close;\n",
"// Given data\n",
"V_Gamma = 0.7;// in V\n",
"R_f = 0;// in ohm\n",
"V_rms = 120;// in V\n",
"V_max = sqrt(2)*V_rms;// in V\n",
"R_L = 1;// in K ohm\n",
"R_L = R_L * 10^3;// in ohm\n",
"I_max = (V_max - (2*V_Gamma))/R_L;// in A\n",
"I_dc = (2*I_max)/%pi;// in mA\n",
"V_dc = I_dc * R_L;// in V\n",
"disp(V_dc,'The dc voltage available at the load in V is');\n",
"PIV = V_max;// in V\n",
"disp(PIV,'Peak inverse voltage in V is');\n",
"disp(I_max*10^3,'Maximum current through diode in mA is : ')\n",
"P_max = V_Gamma * I_max;// in W\n",
"disp(P_max*10^3,'Diode power rating in mW is');"
   ]
   }
,
{
		   "cell_type": "markdown",
		   "metadata": {},
		   "source": [
			"## Example 2.1: Average_current_and_load_voltage.sce"
		   ]
		  },
  {
"cell_type": "code",
	   "execution_count": null,
	   "metadata": {
	    "collapsed": true
	   },
	   "outputs": [],
"source": [
"// Exa 2.1\n",
"clc;\n",
"clear;\n",
"close;\n",
"// Given data\n",
"R_L = 1000;// in ohm\n",
"N2byN1= 4;\n",
"Vi= '10*sin(omega*t)'\n",
"// V2= N2byN1*V1\n",
"// V2= 40*sin(omega*t)\n",
"Vm= N2byN1*10;// in V\n",
"V_Lav= Vm/%pi;// in V\n",
"disp(V_Lav,'The average load voltage in volts is : ')\n",
"Im= Vm/R_L;// in A\n",
"I_dc= Im/%pi;// in A\n",
"I_av = I_dc;// in A\n",
"I_av= I_av*10^3;// in mA\n",
"disp(I_av,'Average load current in mA is');\n",
"V_Lrms = Vm/2;// in V\n",
"disp(V_Lrms,'RMS load voltage in V is');\n",
"I_rms = V_Lrms/R_L;// in A\n",
"I_rms= I_rms*10^3;// in mA\n",
"disp(I_rms,'RMS load current in mA is');\n",
"Eta = I_av^2/I_rms^2*100;// in %\n",
"disp(Eta,'Efficiency in % is');\n",
"V2rms= Vm/sqrt(2);// in V\n",
"TUF = ((I_av )^2)/(V2rms*I_rms)*100;// in %\n",
"disp(TUF,'Transformer utilization factor in % is');\n",
"Gamma= sqrt(V_Lrms^2-I_av^2)/V_Lav*100;\n",
"disp(round(Gamma),'Ripple factor in % is');"
   ]
   }
,
{
		   "cell_type": "markdown",
		   "metadata": {},
		   "source": [
			"## Example 2.20: Value_of_current.sce"
		   ]
		  },
  {
"cell_type": "code",
	   "execution_count": null,
	   "metadata": {
	    "collapsed": true
	   },
	   "outputs": [],
"source": [
"// Exa 2.20\n",
"clc;\n",
"clear;\n",
"close;\n",
"// Given data\n",
"V1 = 10;// in V\n",
"V2 = 0.7;// in V\n",
"V3 = V2;// in V\n",
"V = V1-V2-V3;// in V\n",
"R1 = 1;// in ohm\n",
"R2 = 48;// in ohm\n",
"R3 = 1;// in ohm\n",
"R = R1+R2+R3;// in ohm\n",
"I = V/R;// in A\n",
"I = I * 10^3;// in mA\n",
"disp(I,'Current in mA is');"
   ]
   }
,
{
		   "cell_type": "markdown",
		   "metadata": {},
		   "source": [
			"## Example 2.21: AC_and_DC_power_output.sce"
		   ]
		  },
  {
"cell_type": "code",
	   "execution_count": null,
	   "metadata": {
	    "collapsed": true
	   },
	   "outputs": [],
"source": [
"// Exa 2.21\n",
"clc;\n",
"clear;\n",
"close;\n",
"// Given data\n",
"V_m = 50;// in V\n",
"r_f = 20;// in ohm\n",
"R_L = 800;// in ohm\n",
"I_m = V_m/(R_L+r_f);// in A\n",
"I_m = I_m * 10^3;// in mA\n",
"disp(round(I_m),'The value of Im in mA is');\n",
"I_dc = I_m/%pi;// in mA\n",
"disp(I_dc,'The value of I_dc in mA is');\n",
"I_rms = I_m/2;// in mA\n",
"disp(I_rms,'The value of Irms in mA is');\n",
"P_ac = (I_rms * 10^-3)^2 * (r_f + R_L);// in Watt\n",
"disp(P_ac,'AC power input in Watt is');\n",
"V_dc = I_dc * 10^-3*R_L;// in V\n",
"disp(V_dc,'DC output voltage in V is');\n",
"P_dc = (I_dc * 10^-3)^2 * (r_f + R_L);// in Watt\n",
"Eta = (P_dc/P_ac)*100;// in %\n",
"disp(Eta,'The efficiency of rectification in % is');\n",
"\n",
"// Note: There is calculation error to evaluate the ac power input (i.e. P_ac), so the value of Eta is also wrong"
   ]
   }
,
{
		   "cell_type": "markdown",
		   "metadata": {},
		   "source": [
			"## Example 2.22: Peak_value_of_current.sce"
		   ]
		  },
  {
"cell_type": "code",
	   "execution_count": null,
	   "metadata": {
	    "collapsed": true
	   },
	   "outputs": [],
"source": [
"// Exa 2.22\n",
"clc;\n",
"clear;\n",
"close;\n",
"// Given data\n",
"R_L = 1;// in K ohm\n",
"R_L = R_L * 10^3;// in ohm\n",
"r_d = 10;// in ohm\n",
"V_m = 220;// in V\n",
"I_m = V_m/(r_d+R_L);// in A\n",
"disp(I_m,'Peak value of current in A is');\n",
"I_dc = (2*I_m)/%pi;// in A\n",
"disp(I_dc,'DC value of current in A is');\n",
"Irms= I_m/sqrt(2);// in A\n",
"r_f = sqrt((Irms/I_dc)^2-1)*100;// in %\n",
"disp(r_f,'Ripple factor in % is');\n",
"Eta = (I_dc)^2 * R_L/((Irms)^2*(R_L+r_d))*100;// in %\n",
"disp(Eta,'Rectification efficiency in % is');"
   ]
   }
,
{
		   "cell_type": "markdown",
		   "metadata": {},
		   "source": [
			"## Example 2.23: Peak_load_voltage.sce"
		   ]
		  },
  {
"cell_type": "code",
	   "execution_count": null,
	   "metadata": {
	    "collapsed": true
	   },
	   "outputs": [],
"source": [
"// Exa 2.23\n",
"clc;\n",
"clear;\n",
"close;\n",
"// Given data\n",
"V_s = 12;// in V\n",
"R_L = 5.1;// in k ohm\n",
"R_L = R_L * 10^3;// in ohm\n",
"R_s = 1;// in K ohm\n",
"R_s = R_s * 10^3;// in ohm\n",
"V_L = (V_s*R_L)/(R_s+R_L);// in V\n",
"disp(V_L,'Peak load voltage in V is');"
   ]
   }
,
{
		   "cell_type": "markdown",
		   "metadata": {},
		   "source": [
			"## Example 2.24: Load_current.sce"
		   ]
		  },
  {
"cell_type": "code",
	   "execution_count": null,
	   "metadata": {
	    "collapsed": true
	   },
	   "outputs": [],
"source": [
"// Exa 2.24\n",
"clc;\n",
"clear;\n",
"close;\n",
"// Given data\n",
"V_s = 10;// in V\n",
"R_L = 100;// in ohm\n",
"I_L = V_s/R_L;// in A\n",
"disp(I_L,'The load current during posotive half cycle in A is');\n",
"I_D2 = 0;// in A\n",
"R2 = R_L;// in ohm\n",
"I_L1 = -(V_s)/(R2+R_L);// in A\n",
"disp(I_L1,'The load current during negative half cycle in A is');"
   ]
   }
,
{
		   "cell_type": "markdown",
		   "metadata": {},
		   "source": [
			"## Example 2.25: Value_of_Vdc.sce"
		   ]
		  },
  {
"cell_type": "code",
	   "execution_count": null,
	   "metadata": {
	    "collapsed": true
	   },
	   "outputs": [],
"source": [
"// Exa 2.25\n",
"clc;\n",
"clear;\n",
"close;\n",
"// Given data\n",
"V_m = 50;// in V\n",
"V_dc = (2*V_m)/%pi;// in V\n",
"disp(V_dc,'The dc voltage in V is');"
   ]
   }
,
{
		   "cell_type": "markdown",
		   "metadata": {},
		   "source": [
			"## Example 2.26: DC_voltage.sce"
		   ]
		  },
  {
"cell_type": "code",
	   "execution_count": null,
	   "metadata": {
	    "collapsed": true
	   },
	   "outputs": [],
"source": [
"// Exa 2.26\n",
"clc;\n",
"clear;\n",
"close;\n",
"// Given data\n",
"R1 = 1.1;// in K ohm\n",
"R2 = 2.2;// in K ohm\n",
"Vi= 170;// in V\n",
"V_o = (Vi*R1)/(R1+R2);// in V\n",
"disp(V_o,'The output voltage in V is');\n",
"V_dc = (2*V_o)/%pi;// in V\n",
"disp(V_dc,'The dc voltage in V is');"
   ]
   }
,
{
		   "cell_type": "markdown",
		   "metadata": {},
		   "source": [
			"## Example 2.2: Average_RMS_and_peak_value_of_current.sce"
		   ]
		  },
  {
"cell_type": "code",
	   "execution_count": null,
	   "metadata": {
	    "collapsed": true
	   },
	   "outputs": [],
"source": [
"// Exa 2.2\n",
"clc;\n",
"clear;\n",
"close;\n",
"// Given data\n",
"R_L = 1;// in K ohm\n",
"R_L = R_L * 10^3;// in ohm\n",
"V_m = 15;// in V\n",
"V_i = '15*sin(314*t)';\n",
"I_m= V_m/R_L;// in A\n",
"I_dc = I_m/%pi;// in A\n",
"I_dc = I_dc * 10^3;// in mA\n",
"disp(I_dc,'Average current through the diode in mA is');\n",
"I_drms = V_m/(2*R_L);\n",
"I_drms = I_drms * 10^3;// in mA\n",
"disp(I_drms,'RMS current in mA is');\n",
"I_m = V_m/R_L;\n",
"I_m = I_m*10^3;// in mA\n",
"disp(I_m,'Peak diode current in mA is');\n",
"PIV = 2*V_m;// in V\n",
"disp(PIV,'Peak inverse voltage in V is');"
   ]
   }
,
{
		   "cell_type": "markdown",
		   "metadata": {},
		   "source": [
			"## Example 2.3: Required_PIV.sce"
		   ]
		  },
  {
"cell_type": "code",
	   "execution_count": null,
	   "metadata": {
	    "collapsed": true
	   },
	   "outputs": [],
"source": [
"// Exa 2.3\n",
"clc;\n",
"clear;\n",
"close;\n",
"// Given data\n",
"R1 = 2.2*10^3;// in ohm\n",
"R2 = 4.7*10^3;// in ohm\n",
"R_AB = (R1*R2)/(R1+R2);// in ohm\n",
"Vi = 20;// in V\n",
"V_o = (Vi * R_AB)/(R_AB+R1);// in V\n",
"PIV= Vi;// in volts\n",
"disp(V_o,'The output voltage in V is');\n",
"disp(PIV,'Peak inverse voltage in volts is : ')"
   ]
   }
,
{
		   "cell_type": "markdown",
		   "metadata": {},
		   "source": [
			"## Example 2.4_2: Peak_magnitude_of_output_waveform.sce"
		   ]
		  },
  {
"cell_type": "code",
	   "execution_count": null,
	   "metadata": {
	    "collapsed": true
	   },
	   "outputs": [],
"source": [
" // Exa 2.4.2  (again 2.4)\n",
"clc;\n",
"clear;\n",
"close;\n",
"// Given data\n",
"V_in  = 10;// in V\n",
"R_L = 2000;// in ohm\n",
"R1 = 100;// in ohm\n",
"V_R= 0.7;// in V\n",
"V_o = V_in * ( (R_L)/(R1+R_L) );// in V\n",
"disp(V_o,'The peak magnitude of the positive output voltage in V is');\n",
"Vo=-V_R;// in V\n",
"disp(Vo,'The peak magnitude of the negative output voltage in V is : ')"
   ]
   }
,
{
		   "cell_type": "markdown",
		   "metadata": {},
		   "source": [
			"## Example 2.4: Required_PIV.sce"
		   ]
		  },
  {
"cell_type": "code",
	   "execution_count": null,
	   "metadata": {
	    "collapsed": true
	   },
	   "outputs": [],
"source": [
" // Exa 2.4\n",
"clc;\n",
"clear;\n",
"close;\n",
"// Given data\n",
"V_in  = 10;// in V\n",
"R1 = 2000;// in ohm\n",
"R2 = 2000;// in ohm\n",
"V_o = V_in * (R1/(R1+R2) );// in V\n",
"// Vdc= 5/(T/2)*integrate('sin(omega*t)','t',0,T/2) and omega*T= 2*%pi, So\n",
"Vdc= -5/%pi*(cos(%pi)-cos(0));// in V\n",
"disp(Vdc,'The value of Vdc in volts is : ');\n",
"PIV= V_in/2;// in V\n",
"disp(PIV,'The PIV value in volts is : ')"
   ]
   }
,
{
		   "cell_type": "markdown",
		   "metadata": {},
		   "source": [
			"## Example 2.7: Average_load_voltage.sce"
		   ]
		  },
  {
"cell_type": "code",
	   "execution_count": null,
	   "metadata": {
	    "collapsed": true
	   },
	   "outputs": [],
"source": [
"// Exa 2.7\n",
"clc;\n",
"clear;\n",
"close;\n",
"// Given data\n",
"V=240;// in V\n",
"R= 1;// in kΩ\n",
"R=R*10^3;// in Ω\n",
"Vsrms= V/4;// in V\n",
"Vm= sqrt(2)*Vsrms;// in V\n",
"V_Ldc= -Vm/%pi;// in V\n",
"disp(V_Ldc,'The value of average load voltage in volts is : ')"
   ]
   }
,
{
		   "cell_type": "markdown",
		   "metadata": {},
		   "source": [
			"## Example 2.8: DC_output_voltage.sce"
		   ]
		  },
  {
"cell_type": "code",
	   "execution_count": null,
	   "metadata": {
	    "collapsed": true
	   },
	   "outputs": [],
"source": [
"// Exa 2.8\n",
"clc;\n",
"clear;\n",
"close;\n",
"// Given data\n",
"V = 220;// in V\n",
"f=50;// in Hz\n",
"N2byN1=1/4;\n",
"R_L = 1;// in kohm\n",
"R_L= R_L*10^3;// in ohm\n",
"V_o = 220;// in V\n",
"V_s = N2byN1*V_o;// in V\n",
"V_m = sqrt(2) * V_s;// in V\n",
"V_Ldc = (2*V_m)/%pi;// in V\n",
"disp(V_Ldc,'Average load output voltage in V is');\n",
"P_dc = (V_Ldc)^2/R_L;// in W\n",
"disp(P_dc,'DC power delivered to load in watt is');\n",
"PIV = V_m;// in V\n",
"disp(PIV,'Peak inverse Voltage in V is');\n",
"f_o = 2*f;// in Hz\n",
"disp(f_o,'Output frequency in Hz is');"
   ]
   }
],
"metadata": {
		  "kernelspec": {
		   "display_name": "Scilab",
		   "language": "scilab",
		   "name": "scilab"
		  },
		  "language_info": {
		   "file_extension": ".sce",
		   "help_links": [
			{
			 "text": "MetaKernel Magics",
			 "url": "https://github.com/calysto/metakernel/blob/master/metakernel/magics/README.md"
			}
		   ],
		   "mimetype": "text/x-octave",
		   "name": "scilab",
		   "version": "0.7.1"
		  }
		 },
		 "nbformat": 4,
		 "nbformat_minor": 0
}
