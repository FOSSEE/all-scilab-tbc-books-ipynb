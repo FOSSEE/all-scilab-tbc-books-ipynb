{
"cells": [
 {
		   "cell_type": "markdown",
	   "metadata": {},
	   "source": [
       "# Chapter 3: Special Purpose Diodes"
	   ]
	},
{
		   "cell_type": "markdown",
		   "metadata": {},
		   "source": [
			"## Example 3.10: Zener_diode_operation.sce"
		   ]
		  },
  {
"cell_type": "code",
	   "execution_count": null,
	   "metadata": {
	    "collapsed": true
	   },
	   "outputs": [],
"source": [
"// Exa 3.10\n",
"clc;\n",
"clear;\n",
"close;\n",
"// Given data\n",
"V1 = 18;// in V\n",
"V2 = 270;// in V\n",
"R = 1;// in K ohm\n",
"R = R*1000;// in ohm\n",
"V = (V1*R)/(V2+R);// in V\n",
"disp(V,'The open circuit voltage in volts is');\n",
"if V>=10 then\n",
"    disp('The zener diode is operating in the breakdown region.')\n",
"end"
   ]
   }
,
{
		   "cell_type": "markdown",
		   "metadata": {},
		   "source": [
			"## Example 3.11: Value_of_VL_IL_IZ_and_IR.sce"
		   ]
		  },
  {
"cell_type": "code",
	   "execution_count": null,
	   "metadata": {
	    "collapsed": true
	   },
	   "outputs": [],
"source": [
"// Exa 3.11\n",
"clc;\n",
"clear;\n",
"close;\n",
"// Given data\n",
"R_L = 300;// in ohm\n",
"R = 200;// in ohm\n",
"V_i = 20;// in V\n",
"V = (R_L/(R_L+R))*V_i;// in V\n",
"disp(V,'The value of V_L in Volts is');\n",
"V_L = 10;// in V\n",
"V_Z= V_L;// in V\n",
"I_L = V_L/R_L;// A\n",
"disp(I_L*10^3,'The value of I_L in mA is');\n",
"I_R = (V_i-V_L)/R;// in A\n",
"disp(I_R*10^3,'The value of I_R in mA is'); \n",
"I_Z = I_R-I_L;// in A\n",
"disp(I_Z*10^3,'The value of I_Z in mA is');\n",
"// Formula V_Z= R_L*V_i/(R_L+R)\n",
"R_L= R*V_Z/(V_i-V_Z);// in ohm\n",
"disp(R_L,'The value of R_L in ohm is : ')\n",
"\n",
"\n",
""
   ]
   }
,
{
		   "cell_type": "markdown",
		   "metadata": {},
		   "source": [
			"## Example 3.12: Range_of_input_voltage.sce"
		   ]
		  },
  {
"cell_type": "code",
	   "execution_count": null,
	   "metadata": {
	    "collapsed": true
	   },
	   "outputs": [],
"source": [
"// Exa 3.12\n",
"clc;\n",
"clear;\n",
"close;\n",
"// Given data\n",
"V_Z = 5;// in V\n",
"I_Zmin = 2;// in mA\n",
"I_Zmin= I_Zmin*10^-3;// in A\n",
"I_Zmax = 20;// in mA\n",
"I_Zmax=I_Zmax*10^-3;// in A\n",
"R_L = 1;// in kohm\n",
"R_L = R_L * 10^3;// in ohm\n",
"I_L = V_Z/R_L;// in A\n",
"I = I_L + I_Zmin;// in A\n",
"Vin_min = V_Z + (I*R_L);// in V\n",
"disp(Vin_min,'The minimum input voltage in V is');\n",
"I = I_L + I_Zmax;// in A\n",
"Vin_max = V_Z + I* R_L;// in V\n",
"disp(Vin_max,'The maximum input voltage in V is');"
   ]
   }
,
{
		   "cell_type": "markdown",
		   "metadata": {},
		   "source": [
			"## Example 3.13: Design_a_zener_voltage_regulator.sce"
		   ]
		  },
  {
"cell_type": "code",
	   "execution_count": null,
	   "metadata": {
	    "collapsed": true
	   },
	   "outputs": [],
"source": [
"// Exa 3.13\n",
"clc;\n",
"clear;\n",
"close;\n",
"// Given data\n",
"V_in1 = 18;// in V\n",
"V_in2 = 22;// in V\n",
"V_o = 6;// in V\n",
"I_L = 50;// in mA\n",
"I_L= I_L*10^-3;// in A\n",
"I_Zmin = 5;// in mA\n",
"I_Zmin= I_Zmin*10^-3;// in A\n",
"P_Z = 0.5;// in Watt\n",
"V_Z= 6;// in V\n",
"I_Zmax = P_Z/V_Z;// in A\n",
"disp(I_Zmax*10^3,'Zener diode current in mA is');\n",
"R_S1 = (V_in2 - V_Z)/(I_L+I_Zmax);// in ohm\n",
"disp(R_S1,'The minimum value of Rs in ohm is');\n",
"R_S2 = (V_in1-V_Z)/(I_L+I_Zmin);// in ohm\n",
"disp(R_S2,'The maximum value of Rs in ohm is');"
   ]
   }
,
{
		   "cell_type": "markdown",
		   "metadata": {},
		   "source": [
			"## Example 3.14: Range_of_Vi.sce"
		   ]
		  },
  {
"cell_type": "code",
	   "execution_count": null,
	   "metadata": {
	    "collapsed": true
	   },
	   "outputs": [],
"source": [
"// Exa 3.14\n",
"clc;\n",
"clear;\n",
"close;\n",
"// Given data\n",
"R_S = 91;// in ohm\n",
"V_Z = 8;// in V\n",
"P_Z = 400;// in mW\n",
"P_Z= P_Z*10^-3;// in W\n",
"R_L = 0.22;// in K ohm\n",
"R_L = R_L * 10^3;// in ohm\n",
"I_L = V_Z/R_L;// in A\n",
"I_Z = P_Z/V_Z;// in A\n",
"disp(I_Z*10^3,'The value of I_Zmax in mA is : ')\n",
"Vin_min = (V_Z*(R_S+R_L))/R_L;// in V\n",
"disp(Vin_min,'The minimum input voltage in V is');\n",
"I_R = I_L + I_Z;// in A\n",
"Vin_max = V_Z + (I_R*R_S);// in V\n",
"disp(Vin_max,'The maximum input voltage in V is');"
   ]
   }
,
{
		   "cell_type": "markdown",
		   "metadata": {},
		   "source": [
			"## Example 3.15: The_value_of_RS_and_RL.sce"
		   ]
		  },
  {
"cell_type": "code",
	   "execution_count": null,
	   "metadata": {
	    "collapsed": true
	   },
	   "outputs": [],
"source": [
"// Exa 3.15\n",
"clc;\n",
"clear;\n",
"close;\n",
"// Given data\n",
"V_L = 12;// in V\n",
"I_Lmin = 0;// in mA\n",
"I_Lmin =I_Lmin *10^-3;// in A\n",
"I_Lmax = 200;// in mA\n",
"I_Lmax =I_Lmax *10^-3;// in A\n",
"I_Zmin = 5;// in mA\n",
"I_Zmin= I_Zmin*10^-3;// in A\n",
"I_Zmax = 200;// in mA\n",
"I_Zmax= I_Zmax*10^-3;// in A\n",
"V_i = 16;// in V\n",
"V_Z = V_L;// in V\n",
"disp(V_Z,'The value of V_Z in V is');\n",
"R_Lmin = V_L/I_Lmax;// in ohm\n",
"disp(R_Lmin,'The minimum value of R_L in ohm is');\n",
"// R_L2 = V_L/I_Lmin;// in ohm\n",
"disp('The maximum value of R_L in ohm is');\n",
"disp('infinite')\n",
"I_Z = I_Zmin+I_Zmax;// in A\n",
"disp(I_Z*10^3,'The zener current in mA is');\n",
"P_Zmax = V_Z*I_Z;// in Watt\n",
"disp(P_Zmax,'The maximum value of Pz in Watt is');\n",
"R_S = (V_i-V_L)/(I_Zmin+I_Lmax);// in ohm\n",
"disp(R_S,'The value of R_S in ohm is ');"
   ]
   }
,
{
		   "cell_type": "markdown",
		   "metadata": {},
		   "source": [
			"## Example 3.16: The_value_of_VL_IL_IZ_and_IR.sce"
		   ]
		  },
  {
"cell_type": "code",
	   "execution_count": null,
	   "metadata": {
	    "collapsed": true
	   },
	   "outputs": [],
"source": [
"// Exa 3.16\n",
"clc;\n",
"clear;\n",
"close;\n",
"// Given data\n",
"V_in = 20;// in V\n",
"R_S = 220;// in ohm\n",
"V_Z = 10;// in V\n",
"P_Z = 400;// in mW\n",
"// Part (I)\n",
"R_L = 200;// in ohm\n",
"disp('Part (I) For R_L= 200 Ω')\n",
"V_L = V_Z;// in V\n",
"disp(V_L,'Load voltage in V is');\n",
"I_L = V_L/R_L;// in A\n",
"disp(I_L,'Load current in A is');\n",
"I_R = (V_in-V_Z)/R_S;// in A\n",
"disp(I_R,'The current through resistor in A is');\n",
"I_Z = I_R-I_L;// in A\n",
"disp(I_Z,'The value of I_Z in A is');\n",
"// Part (II)\n",
"R_L = 50;// in ohm\n",
"disp('Part (II) For R_L= 50 Ω')\n",
"V_L = V_Z;//\n",
"disp(V_L,'Load voltage in V is');\n",
"I_L = V_L/R_L;// in A\n",
"disp(I_L,'Load current in A is');\n",
"I_R = (V_in-V_Z)/R_S;// in A\n",
"disp(I_R,'The current through resistor in A is');\n",
"I_Z = I_R-I_L;// in A\n",
"disp(I_Z,'Zener current in A is');\n",
"disp('For both values of R_L, the current I_R is less than I_L and I_Z is negative. It shows that given circuit can not work successfully as a voltage regulator')"
   ]
   }
,
{
		   "cell_type": "markdown",
		   "metadata": {},
		   "source": [
			"## Example 3.17: Safe_voltage_range_of_V.sce"
		   ]
		  },
  {
"cell_type": "code",
	   "execution_count": null,
	   "metadata": {
	    "collapsed": true
	   },
	   "outputs": [],
"source": [
"// Exa 3.17\n",
"clc;\n",
"clear;\n",
"close;\n",
"// Given data\n",
"I_Zmin = 1;// in mA\n",
"I_Zmin=I_Zmin*10^-3;// in A\n",
"I_Zmax = 5;// in mA\n",
"I_Zmax=I_Zmax*10^-3;// in A\n",
"I_Lmin = 0;// in mA\n",
"I_Lmin=I_Lmin*10^-3;// in A\n",
"I_Lmax = 4;// in mA\n",
"I_Lmax=I_Lmax*10^-3;// in A\n",
"R = 5;// in kohm\n",
"R = R * 10^3;// in ohm\n",
"V_Z = 50;// in V\n",
"disp('Part (A)')\n",
"V_max = (I_Zmax+ I_Lmin)*R+V_Z;// in V\n",
"disp(V_max,'The maximum Voltage in V is'); \n",
"V_min = (I_Zmin+I_Lmax)*R + V_Z;// in V\n",
"disp(V_min,'The minimum Voltage in V is');\n",
"disp('Part (B)')\n",
"V_L = 50;// in V\n",
"V_in = 75;// in V\n",
"R_L = 15;// in kohm\n",
"R_L= R_L*10^3;// in ohm\n",
"I_L = V_L/R_L;// in A\n",
"V_max = (I_Zmax+I_L)*R+V_Z;// in V\n",
"disp(round(V_max),'The maximum Voltage in V is');\n",
"V_min = (I_Zmin+I_L)*R+V_Z;// in V\n",
"disp(round(V_min),'The minimum Voltage in V is');"
   ]
   }
,
{
		   "cell_type": "markdown",
		   "metadata": {},
		   "source": [
			"## Example 3.18: Range_of_load_currents.sce"
		   ]
		  },
  {
"cell_type": "code",
	   "execution_count": null,
	   "metadata": {
	    "collapsed": true
	   },
	   "outputs": [],
"source": [
"// Exa 3.18\n",
"clc;\n",
"clear;\n",
"close;\n",
"// Given data\n",
"V_S = 7.5;// in V\n",
"V_Z = 5;// in V\n",
"R_S = 4.75;// in ohm\n",
"I_Zmin= 0.05;// in A\n",
"I_Zmax=1.0;// in A\n",
"I_S = (V_S-V_Z)/R_S;// in A\n",
"I_Lmax= I_S-I_Zmin;// in A\n",
"disp(I_Lmax,'The maximum value of load current in A is : ')\n",
"// when\n",
"V_S= 10;// in V\n",
"I_S = (V_S-V_Z)/R_S;// in A\n",
"I_Lmin= I_S-I_Zmax;// in A\n",
"disp(I_Lmin,'The minimum value of load current in A is : ')\n",
"disp('Thus, the range of load current for regulation is '+string(I_Lmin)+' <= I_L <= '+string(I_Lmax)+' A')"
   ]
   }
,
{
		   "cell_type": "markdown",
		   "metadata": {},
		   "source": [
			"## Example 3.1: Zener_current.sce"
		   ]
		  },
  {
"cell_type": "code",
	   "execution_count": null,
	   "metadata": {
	    "collapsed": true
	   },
	   "outputs": [],
"source": [
"// Exa 3.1\n",
"clc;\n",
"clear;\n",
"close;\n",
"// given data\n",
"V1 = 18;// in V\n",
"V2 = 10;// in V\n",
"R = 270;// in ohm\n",
"I_S = (V1-V2)/R;// in A\n",
"V_L = 10;// in V\n",
"R_L = 1;// in K ohm\n",
"R_L = R_L*1000;// in ohm\n",
"I_L = V_L/R_L;// in A\n",
"I_Z = I_S-I_L;// in A\n",
"disp(I_Z*10^3,'The zener current in mA is');"
   ]
   }
,
{
		   "cell_type": "markdown",
		   "metadata": {},
		   "source": [
			"## Example 3.5: Load_voltage.sce"
		   ]
		  },
  {
"cell_type": "code",
	   "execution_count": null,
	   "metadata": {
	    "collapsed": true
	   },
	   "outputs": [],
"source": [
"// Exa 3.5\n",
"clc;\n",
"clear;\n",
"close;\n",
"// Given data\n",
"I_Z = 2*10^-3;// in A\n",
"R_Z = 8.5;// in V\n",
"del_VL = I_Z*R_Z;// in V\n",
"V1 = 10;// in V\n",
"disp(del_VL,'Change in load voltage in V is');\n",
"V_L = V1 + del_VL;// in V\n",
"disp(V_L,'The load voltage in V is');\n",
"\n",
"// Note: There is calculation error to evaluate the value of del_VL. So the answer in the book is wrong."
   ]
   }
,
{
		   "cell_type": "markdown",
		   "metadata": {},
		   "source": [
			"## Example 3.6: The_value_of_VL_VR_IZ_and_PZ.sce"
		   ]
		  },
  {
"cell_type": "code",
	   "execution_count": null,
	   "metadata": {
	    "collapsed": true
	   },
	   "outputs": [],
"source": [
"// Exa 3.6\n",
"clc;\n",
"clear;\n",
"close;\n",
"// Given data\n",
"R_L = 1.2;// in K ohm\n",
"R_L = R_L * 10^3;// in ohm\n",
"V_i = 16;// in V\n",
"R_i = 1;// in K ohm\n",
"R_i = R_i * 10^3;// in ohm\n",
"V = (R_L * V_i)/(R_L + R_i);// in V\n",
"V_L = V;// in V\n",
"disp(V_L,'The load voltage in V is');\n",
"V_R = V_i - V_L;// in V\n",
"disp(V_R,'The voltage in V is');\n",
"I_Z = 0;// A\n",
"disp(I_Z,'The zener diode current in A is');\n",
"V_Z = 10;// in V\n",
"P_Z = V_Z*I_Z;// in W\n",
"disp(P_Z,'Power dissipation in watt is');"
   ]
   }
,
{
		   "cell_type": "markdown",
		   "metadata": {},
		   "source": [
			"## Example 3.7: Resistance_of_device.sce"
		   ]
		  },
  {
"cell_type": "code",
	   "execution_count": null,
	   "metadata": {
	    "collapsed": true
	   },
	   "outputs": [],
"source": [
"// Exa 3.7\n",
"clc;\n",
"clear;\n",
"close;\n",
"// Given data\n",
"I_Z1 = 20;// in mA\n",
"I_Z1= I_Z1*10^-3;// in A\n",
"I_Z2 = 30;// in mA\n",
"I_Z2= I_Z2*10^-3;// in A\n",
"V_Z1 = 5.6;// in V\n",
"V_Z2 = 5.75;// in V\n",
"del_IZ = I_Z2-I_Z1;// in A\n",
"del_VZ = V_Z2-V_Z1;// in V\n",
"r_Z = del_VZ/del_IZ;// in ohm\n",
"disp(r_Z,'Resistance of zener diode in ohm is'); "
   ]
   }
,
{
		   "cell_type": "markdown",
		   "metadata": {},
		   "source": [
			"## Example 3.8: Range_of_RL_and_IL.sce"
		   ]
		  },
  {
"cell_type": "code",
	   "execution_count": null,
	   "metadata": {
	    "collapsed": true
	   },
	   "outputs": [],
"source": [
"// Exa 3.8\n",
"clc;\n",
"clear;\n",
"close;\n",
"// Given data\n",
"R = 1;// in K ohm\n",
"R = R * 10^3;// in ohm\n",
"V_Z = 10;// in V\n",
"V_i = 50;// in V\n",
"I_ZM = 32;// in mA\n",
"I_ZM= I_ZM*10^-3;// in A\n",
"R_Lmin = (R*V_Z)/(V_i-V_Z);// in ohm\n",
"disp(R_Lmin,'The minimum value of R_L in ohm is : ')\n",
"V_R = V_i-V_Z;// in V\n",
"I_R = V_R/R;// in A\n",
"I_Lmin = I_R-I_ZM;// in A\n",
"disp(I_Lmin*10^3,'The minimum value of I_L in mA is : ');\n",
"R_Lmax = V_Z/I_Lmin;// in ohm\n",
"disp(R_Lmax*10^-3,'The maximum value of R_L in kohm is');"
   ]
   }
,
{
		   "cell_type": "markdown",
		   "metadata": {},
		   "source": [
			"## Example 3.9: Range_of_value_of_Vi.sce"
		   ]
		  },
  {
"cell_type": "code",
	   "execution_count": null,
	   "metadata": {
	    "collapsed": true
	   },
	   "outputs": [],
"source": [
"// Exa 3.9\n",
"clc;\n",
"clear;\n",
"close;\n",
"// Given data\n",
"V_Z = 20;// in V\n",
"R_L = 1.2;// in K ohm\n",
"R_L = R_L * 10^3;// in ohm\n",
"R = 220;// in ohm\n",
"I_ZM = 60;// in mA\n",
"I_ZM= I_ZM*10^-3;// in A\n",
"Vi_min = (R_L + R)/R_L*V_Z;// in V\n",
"disp(Vi_min,'The minimum value of Vi in V is');\n",
"V_L= V_Z;// in V\n",
"I_L= V_L/R_L;// in A\n",
"Vi_max= (I_ZM+I_L)*R+V_Z;// in V\n",
"disp(Vi_max,'The maximum value of Vi in V is');"
   ]
   }
],
"metadata": {
		  "kernelspec": {
		   "display_name": "Scilab",
		   "language": "scilab",
		   "name": "scilab"
		  },
		  "language_info": {
		   "file_extension": ".sce",
		   "help_links": [
			{
			 "text": "MetaKernel Magics",
			 "url": "https://github.com/calysto/metakernel/blob/master/metakernel/magics/README.md"
			}
		   ],
		   "mimetype": "text/x-octave",
		   "name": "scilab",
		   "version": "0.7.1"
		  }
		 },
		 "nbformat": 4,
		 "nbformat_minor": 0
}
