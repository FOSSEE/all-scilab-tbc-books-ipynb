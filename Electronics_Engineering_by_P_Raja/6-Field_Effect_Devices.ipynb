{
"cells": [
 {
		   "cell_type": "markdown",
	   "metadata": {},
	   "source": [
       "# Chapter 6: Field Effect Devices"
	   ]
	},
{
		   "cell_type": "markdown",
		   "metadata": {},
		   "source": [
			"## Example 6.10: Value_of_ID_and_VGS.sce"
		   ]
		  },
  {
"cell_type": "code",
	   "execution_count": null,
	   "metadata": {
	    "collapsed": true
	   },
	   "outputs": [],
"source": [
"// Exa 6.10\n",
"clc;\n",
"clear;\n",
"close;\n",
"// Given data\n",
"I_DSS = 4;// in mA\n",
"I_DSS= I_DSS*10^-3;// in A\n",
"V_P = -4;// in V\n",
"V_GG = -2;// in V\n",
"V_GS = V_GG;// in V\n",
"disp(V_GS,'The value of V_GS in V is');\n",
"I_D = I_DSS*(1-(V_GS/V_P))^2;// in A\n",
"disp(I_D*10^3,'The value of I_D in mA is');\n",
"V_DD = 10;// in V\n",
"R_D = 5;// in kohm\n",
"R_D = R_D * 10^3;// in ohm\n",
"V_DS = V_DD - (I_D*R_D);// in V\n",
"disp(V_DS,'The value of V_DS in V is');"
   ]
   }
,
{
		   "cell_type": "markdown",
		   "metadata": {},
		   "source": [
			"## Example 6.11: Value_of_IDQ_VD_VS_and_VDS.sce"
		   ]
		  },
  {
"cell_type": "code",
	   "execution_count": null,
	   "metadata": {
	    "collapsed": true
	   },
	   "outputs": [],
"source": [
"// Exa 6.11\n",
"clc;\n",
"clear;\n",
"close;\n",
"// Given data\n",
"V_DD= 20;// in V\n",
"R1= 2.1*10^6;// in Ω\n",
"R2= 270*10^3;// in Ω\n",
"R_D= 4.7;// in kΩ\n",
"R_S= 1.5;// in kΩ\n",
"I_DSS= 8;// in mA\n",
"V_P= -4;// in V\n",
"V_G= V_DD*R2/(R1+R2);// in V\n",
"// V_GS= V_G-R_S*I_D    (as Vs= I_D*R_S) and \n",
"// I_D= I_DSS*(1-V_GS/V_P)^2;// in A\n",
"// I_D= I_DSS*(1-(V_G-R_S*I_D)/V_P)^2;// in mA  or\n",
"// I_D= I_D^2*I_DSS*R_S^2/V_P^2  + I_D*(2*R_S*I_DSS/V_P-2*V_G*R_S*I_DSS/V_P^2-1) + I_DSS*(1+V_G^2/V_P^2-2*V_G/V_P)\n",
"a= I_DSS*R_S^2/V_P^2;// assumed\n",
"b= 2*R_S*I_DSS/V_P-2*V_G*R_S*I_DSS/V_P^2-1;// assumed\n",
"c= I_DSS*(1+V_G^2/V_P^2-2*V_G/V_P);// assumed\n",
"root= [a b c];\n",
"I_D= roots(root);// in mA\n",
"I_D= I_D(2);// discarding maximum value as it will be less than I_DSS\n",
"I_DQ= I_D;// in mA\n",
"disp(I_DQ,'The value of I_DQ in mA is : ')\n",
"V_GSQ= V_G-R_S*I_D;// in V\n",
"disp(V_GSQ,'The value of V_GSQ in V is : ')\n",
"V_DSQ= V_DD-I_DQ*(R_D+R_S);// in V\n",
"disp(V_DSQ,'The value of V_DSQ in V is : ')\n",
"V_S= I_D*R_S;// in V\n",
"V_D= V_S+V_DSQ;//in V\n",
"V_DS= V_D-V_G;// in V\n",
"disp(V_S,'The value of V_S in V is : ')\n",
"disp(V_D,'The value of V_D in V is : ')\n",
"disp(V_DS,'The value of V_DS in V is : ')\n",
""
   ]
   }
,
{
		   "cell_type": "markdown",
		   "metadata": {},
		   "source": [
			"## Example 6.12: Value_of_IDQ_VGSQ_VDS_VD_and_VS.sce"
		   ]
		  },
  {
"cell_type": "code",
	   "execution_count": null,
	   "metadata": {
	    "collapsed": true
	   },
	   "outputs": [],
"source": [
"// Exa 6.12\n",
"clc;\n",
"clear;\n",
"close;\n",
"// Given data\n",
"V_DD= 20;// in V\n",
"I_DSS= 9;// in mA\n",
"V_BB= -10;// in V\n",
"R_S= 1.5;// in kΩ\n",
"R_D= 1.8;// in kΩ\n",
"V_P= -3;// in V\n",
"V_G=0;\n",
"// V_S= I_D*R_S+V_BB;\n",
"// V_GS= V_G-V_S or\n",
"// V_GS= V_G-(I_D*R_S+V_BB)\n",
"// I_D= I_DSS*(1-V_GS/V_P)^2 or\n",
"// I_D^2*R_S^2 + I_D*[2*R_S*V_BB+2*V_P*R_S-V_P^2/I_DSS]+[V_P^2+V_BB^2+2*V_BB*V_P]\n",
"root= [R_S^2 2*R_S*V_BB+2*V_P*R_S-V_P^2/I_DSS V_P^2+V_BB^2+2*V_BB*V_P]\n",
"I_D= roots(root);// in mA\n",
"I_D= I_D(2);// discarding maximum value as it will be less than I_DSS\n",
"I_DQ= I_D;// in mA\n",
"disp(I_DQ,'The value of I_DQ in mA is : ')\n",
"V_GS= V_G-(I_D*R_S+V_BB);// in V\n",
"V_GSQ= V_GS;// in V\n",
"disp(V_GSQ,'The value of V_GSQ in volts is : ')\n",
"V_DS= V_DD-I_D*(R_D+R_S)-V_BB;// in V\n",
"disp(V_DS,'The value of V_DS in volts is : ')\n",
"V_S= I_D*R_S+V_BB;// in V\n",
"disp(V_S,'The value of V_S in volts is : ');\n",
"V_D= V_S+V_DS;// in V\n",
"disp(V_D,'The value of V_D in volts is : ')"
   ]
   }
,
{
		   "cell_type": "markdown",
		   "metadata": {},
		   "source": [
			"## Example 6.13: Value_of_IDQ_VGSQ_and_IDSS.sce"
		   ]
		  },
  {
"cell_type": "code",
	   "execution_count": null,
	   "metadata": {
	    "collapsed": true
	   },
	   "outputs": [],
"source": [
"// Exa 6.13\n",
"clc;\n",
"clear;\n",
"close;\n",
"// Given data\n",
"V_S = 1.7;// in V\n",
"R_S = 0.51;// in kohm\n",
"R_S= R_S*10^3;// in ohm\n",
"V_DD = 18;// in V\n",
"R_D = 2*10^3;// in ohm\n",
"V_GS = -1.7;// in V\n",
"V_P = - 4.5;// in V\n",
"I_DQ = V_S/R_S;//in A\n",
"disp(I_DQ*10^3,'The value of I_DQ in mA is');\n",
"V_GSQ = -V_S;// in V\n",
"disp(V_GSQ,'The value of V_GSQ in V is');\n",
"I_DSS = I_DQ/( (1-(V_GS/V_P))^2 );// in A\n",
"disp(I_DSS*10^3,'The value of I_DSS in mA is');\n",
"V_D = V_DD - (I_DQ*R_D);// in V\n",
"disp(V_D,'The value of V_D in V is');\n",
"V_DS = V_D-V_S;// in V\n",
"disp(V_DS,'The value of V_DS in V is');"
   ]
   }
,
{
		   "cell_type": "markdown",
		   "metadata": {},
		   "source": [
			"## Example 6.14: Transfer_curve.sce"
		   ]
		  },
  {
"cell_type": "code",
	   "execution_count": null,
	   "metadata": {
	    "collapsed": true
	   },
	   "outputs": [],
"source": [
"// Exa 6.14\n",
"clc;\n",
"clear;\n",
"close;\n",
"// Given data\n",
"I_DSS = 12;// in mA\n",
"V_GS = 0;// in V\n",
"I_D = 0;// in mA\n",
"V_P = -6;// in V\n",
"V_GS= 0:-0.1:V_P;// in V\n",
"I_D = I_DSS*(1-(V_GS/V_P))^2;// mA\n",
"subplot(1,2,1)\n",
"plot(V_GS,I_D);\n",
"xlabel('V_GS in volts')\n",
"ylabel('I_D in mA')\n",
"title('n-channel device')\n",
"V_P = 6;// in V\n",
"V_GS= 0:0.1:V_P;// in V\n",
"I_D = I_DSS*(1-(V_GS/V_P))^2;// mA\n",
"subplot(1,2,2)\n",
"plot(V_GS,I_D);\n",
"xlabel('V_GS in volts')\n",
"ylabel('I_D in mA')\n",
"title('p-channel device')"
   ]
   }
,
{
		   "cell_type": "markdown",
		   "metadata": {},
		   "source": [
			"## Example 6.15: Drain_current.sce"
		   ]
		  },
  {
"cell_type": "code",
	   "execution_count": null,
	   "metadata": {
	    "collapsed": true
	   },
	   "outputs": [],
"source": [
"// Exa 6.15\n",
"clc;\n",
"clear;\n",
"close;\n",
"// Given data\n",
"I_DSS = 30;// in mA\n",
"V_GS = -5;// in V\n",
"V_GS_off = -8;// in V\n",
"I_D = I_DSS*(1-(V_GS/V_GS_off))^2;// in mA\n",
"disp(I_D,'The drain current in mA is');"
   ]
   }
,
{
		   "cell_type": "markdown",
		   "metadata": {},
		   "source": [
			"## Example 6.16: Value_of_RS_and_RD.sce"
		   ]
		  },
  {
"cell_type": "code",
	   "execution_count": null,
	   "metadata": {
	    "collapsed": true
	   },
	   "outputs": [],
"source": [
"// Exa 6.16\n",
"clc;\n",
"clear;\n",
"close;\n",
"// Given data\n",
"I_D = 1.5;// in mA\n",
"I_DSS = 5;// in mA\n",
"V_P = -2;// in V\n",
"V_GS = V_P*(1-sqrt(I_D/I_DSS));// in V\n",
"V_G = 0;// in V\n",
"V_S = V_G-V_GS;// in V\n",
"R_S = V_S/I_D;// in kohm\n",
"disp(R_S*10^3,'The source resistance in ohm is');\n",
"V_DD = 20;// in V\n",
"V_DS= 10;// in V\n",
"R_D = (V_DD-(V_DS+(I_D*R_S)))/(I_D);// in kohm\n",
"disp(R_D,'The diode resistance in K ohm is');"
   ]
   }
,
{
		   "cell_type": "markdown",
		   "metadata": {},
		   "source": [
			"## Example 6.17: Value_of_VGS_gm_RS_and_RD.sce"
		   ]
		  },
  {
"cell_type": "code",
	   "execution_count": null,
	   "metadata": {
	    "collapsed": true
	   },
	   "outputs": [],
"source": [
"// Exa 6.17\n",
"clc;\n",
"clear;\n",
"close;\n",
"// Given data\n",
"I_D = 0.8;// in mA\n",
"I_D= I_D*10^-3;// in A\n",
"I_DSS = 1.645;// in mA\n",
"I_DSS= I_DSS*10^-3;// in A\n",
"V_P = -2;// in V\n",
"V_GS = V_P * (1-sqrt(I_D/I_DSS));// in V\n",
"disp(V_GS,'The gate source voltage in V is');\n",
"g_mo = -((2*I_DSS)/V_P);// in A/V\n",
"g_m = g_mo*(1-(V_GS/V_P));// in A/V\n",
"disp(g_m*10^3,'The transconductance in mA/V is');\n",
"R_S = -(V_GS/I_D);// in ohm\n",
"disp(R_S,'The source resistance in ohm is');\n",
"AdB= 20;// in dB\n",
"A= 10^(AdB/20);\n",
"R_D= A/g_m;// in ohm\n",
"disp(R_D*10^-3,'The value of R_D in kΩ is : ')\n",
"\n",
"// Note: There is calculation error to find the value of R_S in the book . So the answer in the book is wrong"
   ]
   }
,
{
		   "cell_type": "markdown",
		   "metadata": {},
		   "source": [
			"## Example 6.18: Value_of_VGS_IDQ_VDS_VD_VG_and_VS.sce"
		   ]
		  },
  {
"cell_type": "code",
	   "execution_count": null,
	   "metadata": {
	    "collapsed": true
	   },
	   "outputs": [],
"source": [
"// Exa 6.18\n",
"clc;\n",
"clear;\n",
"close;\n",
"// Given data\n",
"V_GG = 2;// in V\n",
"V_GS = -V_GG;// in V\n",
"disp(V_GS,'The value of V_GS in V is');\n",
"I_DSS = 10;// in mA\n",
"V_P = -8;// in V\n",
"I_D = I_DSS*(1-(V_GS/V_P))^2;// in mA\n",
"I_DQ= I_D;// in mA\n",
"disp(I_DQ,'The value of I_DQ in mA is');\n",
"R_D = 2;// in K ohm\n",
"V_DD = 16;// in V\n",
"V_DS = V_DD - (I_D*R_D);// in V\n",
"disp(V_DS,'The value of V_DS in V is');\n",
"V_D = V_DS;// in V\n",
"disp(V_D,'The value of V_D in V is');\n",
"V_G = V_GS;// in V\n",
"disp(V_G,'The value of V_G in V is');\n",
"V_S = 0;// in V\n",
"disp(V_S,'The value of V_S in V is');"
   ]
   }
,
{
		   "cell_type": "markdown",
		   "metadata": {},
		   "source": [
			"## Example 6.19: Resistance_between_gate_and_source.sce"
		   ]
		  },
  {
"cell_type": "code",
	   "execution_count": null,
	   "metadata": {
	    "collapsed": true
	   },
	   "outputs": [],
"source": [
"// Exa 6.19\n",
"clc;\n",
"clear;\n",
"close;\n",
"// Given data\n",
"V_GS = 10;// in V\n",
"I_G = 0.001;// in µA\n",
"R_GS = V_GS/I_G;// in MΩ\n",
"disp(R_GS,'The gate source resistance in MΩ is');"
   ]
   }
,
{
		   "cell_type": "markdown",
		   "metadata": {},
		   "source": [
			"## Example 6.1: Drain_voltage.sce"
		   ]
		  },
  {
"cell_type": "code",
	   "execution_count": null,
	   "metadata": {
	    "collapsed": true
	   },
	   "outputs": [],
"source": [
"// Exa 6.1\n",
"clc;\n",
"clear;\n",
"close;\n",
"// Given data\n",
"V_D = 10;// in V\n",
"R = 10*10^3;// in ohm\n",
"I_D = V_D/R;// in A\n",
"V_P = 4;// in V\n",
"I_DSS = 10;// in mA\n",
"I_DSS = I_DSS * 10^-3;// in A\n",
"R_DS  = V_P/I_DSS;// in ohm\n",
"V_D = (R_DS/(R+R_DS))*V_D;// in V\n",
"disp(V_D,'The drain voltage in V is');"
   ]
   }
,
{
		   "cell_type": "markdown",
		   "metadata": {},
		   "source": [
			"## Example 6.20: AC_drain_resistance.sce"
		   ]
		  },
  {
"cell_type": "code",
	   "execution_count": null,
	   "metadata": {
	    "collapsed": true
	   },
	   "outputs": [],
"source": [
"// Exa 6.20\n",
"clc;\n",
"clear;\n",
"close;\n",
"// Given data\n",
"del_VDS = 1.5;// in V\n",
"del_ID = 120 * 10^-6;// in A\n",
"r_d = del_VDS/del_ID;// in ohm\n",
"r_d = r_d * 10^-3;// in kohm\n",
"disp(r_d,'The drain resistance of the JFET in K ohm is');"
   ]
   }
,
{
		   "cell_type": "markdown",
		   "metadata": {},
		   "source": [
			"## Example 6.21: Value_of_ID_and_gm.sce"
		   ]
		  },
  {
"cell_type": "code",
	   "execution_count": null,
	   "metadata": {
	    "collapsed": true
	   },
	   "outputs": [],
"source": [
"// Exa 6.21\n",
"clc;\n",
"clear;\n",
"close;\n",
"// Given data\n",
"I_DSS  = 8.4;// in mA\n",
"V_P = -3;// in V\n",
"V_GS = -1.5;// in V\n",
"I_D = I_DSS*(1-(V_GS/V_P))^2;// in mA\n",
"g_mo = -( (2*I_DSS)/V_P );// in mA/V\n",
"g_m = g_mo*(1-(V_GS/V_P));// in mA/V\n",
"disp(g_m,'The value of g_m in mA/V is');"
   ]
   }
,
{
		   "cell_type": "markdown",
		   "metadata": {},
		   "source": [
			"## Example 6.22: Value_of_gm_ID_and_VDS.sce"
		   ]
		  },
  {
"cell_type": "code",
	   "execution_count": null,
	   "metadata": {
	    "collapsed": true
	   },
	   "outputs": [],
"source": [
"// Exa 6.22\n",
"clc;\n",
"clear;\n",
"close;\n",
"// Given data\n",
"V_DD= 20;// in V\n",
"I_DSS= 9;// in mA\n",
"V_P= -3;// in V\n",
"R1= 0.3*10^3;// in kΩ\n",
"R2= 1.7*10^3;//in kΩ\n",
"R_D= 3.2;// in kΩ\n",
"R=1;// in kΩ\n",
"V_G= V_DD*R1/(R1+R2);// in V\n",
"//I_D= I_DSS*[1-V_GS/V_P]^2                             (i)\n",
"// V_G= V_GS+I_D*R or I_D= (V_G-V_GS)/R     (ii)\n",
"// From (i) and (ii)\n",
"//V_GS*1/V_P^2+V_GS*[1/(R*I_DSS)-2/V_P]+[1-V_G/(R*I_DSS)]=0\n",
"V_GS= [1/V_P^2 1/(R*I_DSS)-2/V_P 1-V_G/(R*I_DSS)];\n",
"V_GS= roots(V_GS);\n",
"V_GS= V_GS(2);// in V (selecting lower value)\n",
"I_D= I_DSS*[1-V_GS/V_P]^2;// in mA\n",
"disp(I_D,'The value of I_D in mA is : ')\n",
"V_S= I_D*R;//in V\n",
"V_D= V_DD-I_D*R_D;// in V\n",
"V_DS= V_D-V_S;// in V\n",
"gm= -2*I_DSS/V_P*(1-V_GS/V_P);// in mA/V\n",
"disp(V_DS,'The value of V_DS in volts is : ')\n",
"disp(gm,'The transconductance in mA/V is : ')"
   ]
   }
,
{
		   "cell_type": "markdown",
		   "metadata": {},
		   "source": [
			"## Example 6.23: Voltage_gai.sce"
		   ]
		  },
  {
"cell_type": "code",
	   "execution_count": null,
	   "metadata": {
	    "collapsed": true
	   },
	   "outputs": [],
"source": [
"// Exa 6.23\n",
"clc;\n",
"clear;\n",
"close;\n",
"// Given data\n",
"r_d = 25;// in kΩ\n",
"R1 = r_d;// in kΩ\n",
"R2 = r_d;// in kΩ\n",
"g_m = 2;//mA/V\n",
"g_m= g_m*10^-3;// in A/V\n",
"R_L = (r_d*R1*R2)/(r_d*R1+R1*R2+R2*r_d);// in kΩ\n",
"R_L= R_L*10^3;// in Ω\n",
"A_v = -g_m*R_L;\n",
"disp(A_v,'The voltage gain is ');"
   ]
   }
,
{
		   "cell_type": "markdown",
		   "metadata": {},
		   "source": [
			"## Example 6.24: Input_resistance_of_the_gate.sce"
		   ]
		  },
  {
"cell_type": "code",
	   "execution_count": null,
	   "metadata": {
	    "collapsed": true
	   },
	   "outputs": [],
"source": [
"// Exa 6.24\n",
"clc;\n",
"clear;\n",
"close;\n",
"// Given data\n",
"V_GS = 15;// in V\n",
"I_G = 1;// in nA\n",
"I_G =I_G * 10^-9;// in A\n",
"R_in = V_GS/I_G;// in Ω\n",
"disp(R_in*10^-9,'Input resistance in GΩ is'); "
   ]
   }
,
{
		   "cell_type": "markdown",
		   "metadata": {},
		   "source": [
			"## Example 6.25: Maximum_drain_current.sce"
		   ]
		  },
  {
"cell_type": "code",
	   "execution_count": null,
	   "metadata": {
	    "collapsed": true
	   },
	   "outputs": [],
"source": [
"// Exa 6.25\n",
"clc;\n",
"clear;\n",
"close;\n",
"// Given data\n",
"I_DSS = 20;// in mA\n",
"V_P = 4;// in V\n",
"I_D = I_DSS;// in mA\n",
"disp(I_D,'The maximum drain current in mA is');\n",
"V_GS = -V_P;// in V\n",
"disp(V_GS,'The gate source cut off voltage in volts is');\n",
"R_DS = V_P/I_DSS;// in kΩ\n",
"disp(R_DS*10^3,'The value of ohmic resistance in Ω is');"
   ]
   }
,
{
		   "cell_type": "markdown",
		   "metadata": {},
		   "source": [
			"## Example 6.26: Gate_voltage_and_drain_current.sce"
		   ]
		  },
  {
"cell_type": "code",
	   "execution_count": null,
	   "metadata": {
	    "collapsed": true
	   },
	   "outputs": [],
"source": [
"// Exa 6.26\n",
"clc;\n",
"clear;\n",
"close;\n",
"// Given data\n",
"I_DSS= 16*10^-3;// in A\n",
"V_GSoff= -6;//in V\n",
"V_GS= V_GSoff/2;// in V\n",
"I_D= I_DSS*(1-V_GS/V_GSoff)^2;// in A\n",
"disp(I_D*10^3,'The drain current in mA is : ')\n",
"V_GS= abs(V_GSoff)/2;// in V\n",
"disp(V_GS,'The gate voltage in volts is : ')"
   ]
   }
,
{
		   "cell_type": "markdown",
		   "metadata": {},
		   "source": [
			"## Example 6.27: Drain_saturation_current.sce"
		   ]
		  },
  {
"cell_type": "code",
	   "execution_count": null,
	   "metadata": {
	    "collapsed": true
	   },
	   "outputs": [],
"source": [
"// Exa 6.27\n",
"clc;\n",
"clear;\n",
"close;\n",
"// Given data\n",
"V_DD = 15;// in V\n",
"R_D = 10;// in kohm\n",
"R_D = R_D * 10^3;// in ohm\n",
"I_D = V_DD/R_D;// in A\n",
"disp(I_D*10^3,'The drain current in mA is');\n",
"V_D = V_DD - I_D*R_D;// in V\n",
"disp(V_D,'The drain voltage in V is');"
   ]
   }
,
{
		   "cell_type": "markdown",
		   "metadata": {},
		   "source": [
			"## Example 6.28: DC_load_line_and_operating_point.sce"
		   ]
		  },
  {
"cell_type": "code",
	   "execution_count": null,
	   "metadata": {
	    "collapsed": true
	   },
	   "outputs": [],
"source": [
"// Exa 6.28\n",
"clc;\n",
"clear;\n",
"close;\n",
"// Given data\n",
"R2 = 1;// in M ohm\n",
"R2 = R2 * 10^6;// in ohm\n",
"R1 = 1.5;// in M ohm\n",
"R1 = R1 * 10^6;// in ohm\n",
"V_DD = 25;// in V\n",
"V_G = (R2*V_DD)/(R1+R2);// in V\n",
"R_S = 22;// in kohm\n",
"R_S = R_S * 10^3;// in ohm\n",
"I_D = V_G/R_S;// in A\n",
"disp(I_D*10^3,'The drain current in mA is ');\n",
"R_D = 10;// in  kohm\n",
"R_D = R_D * 10^3;// in ohm\n",
"V_D = V_DD - (I_D*R_D);//in V\n",
"V_S = 10;// in V\n",
"V_DS = V_D - V_S;// in V\n",
"disp(V_DS,'The Drain source voltage in V is');\n",
"disp('Thus the Q-point is : '+string(V_DS)+' V, '+string(I_D*10^3)+' mA')\n",
"I_Dsat = V_DD/R_D;// in A\n",
"V_DS = V_DD;// in V\n",
"V_D= 0:0.1:25;// in V\n",
"I_D= (V_DD-V_D)/R_D*10^3;// in mA\n",
"plot(V_D,I_D);\n",
"xlabel('V_DS in volts');\n",
"ylabel('I_D in mA');\n",
"title('DC load line');\n",
"disp('DC load line shown in figure')\n",
""
   ]
   }
,
{
		   "cell_type": "markdown",
		   "metadata": {},
		   "source": [
			"## Example 6.29: Drain_current.sce"
		   ]
		  },
  {
"cell_type": "code",
	   "execution_count": null,
	   "metadata": {
	    "collapsed": true
	   },
	   "outputs": [],
"source": [
"// Exa 6.29\n",
"clc;\n",
"clear;\n",
"close;\n",
"// Given data\n",
"V_SS = 25;// in V\n",
"V_GS = 0;// in V\n",
"R_S = 18;// in kohm\n",
"R_S = R_S * 10^3;// in ohm\n",
"I_D = (V_SS-V_GS)/R_S;// in A\n",
"disp(I_D*10^3,'The drain current in mA is');\n",
"V_DD = 25;// in V\n",
"R_D = 7.5;// in kohm\n",
"R_D = R_D * 10^3;// in ohm\n",
"V_D = V_DD - (I_D*R_D);// in V\n",
"disp(V_D,'The drain voltage in V is');"
   ]
   }
,
{
		   "cell_type": "markdown",
		   "metadata": {},
		   "source": [
			"## Example 6.2: Drain_voltage.sce"
		   ]
		  },
  {
"cell_type": "code",
	   "execution_count": null,
	   "metadata": {
	    "collapsed": true
	   },
	   "outputs": [],
"source": [
"// Exa 6.2\n",
"clc;\n",
"clear;\n",
"close;\n",
"// Given data\n",
"V_P = 4;// in V\n",
"I_DSS = 10;// in mA\n",
"I_DSS  =I_DSS  *10^-3;// in A\n",
"R_DS = V_P/I_DSS;// in ohm\n",
"V_DD = 30;// in V\n",
"I_D = 2.5;// in mA\n",
"R_D = 2;// in kohm\n",
"V_D = V_DD - (I_D*R_D);// in V\n",
"disp(V_D,'The drain voltage in V is');"
   ]
   }
,
{
		   "cell_type": "markdown",
		   "metadata": {},
		   "source": [
			"## Example 6.30: AC_output_voltage.sce"
		   ]
		  },
  {
"cell_type": "code",
	   "execution_count": null,
	   "metadata": {
	    "collapsed": true
	   },
	   "outputs": [],
"source": [
"// Exa 6.30\n",
"clc;\n",
"clear;\n",
"close;\n",
"// Given data\n",
"R_D = 1;// in kohm\n",
"R_D = R_D * 10^3;// in ohm\n",
"V_in = 2;// in mV\n",
"V_in = V_in * 10^-3;// in V\n",
"R_L = 10;// in kohm\n",
"R_L = R_L * 10^3;// in ohm\n",
"r_d = (R_D*R_L)/(R_D+R_L);// in ohm\n",
"g_m = 3000;//in µS\n",
"g_m = g_m * 10^-6;// in S\n",
"A_v = g_m*r_d;\n",
"V_out = A_v*V_in;// in V\n",
"V_out = V_out * 10^3;// in mV\n",
"disp(V_out,'The output Voltage in mV is');"
   ]
   }
,
{
		   "cell_type": "markdown",
		   "metadata": {},
		   "source": [
			"## Example 6.3: DC_load_line_and_operating_point.sce"
		   ]
		  },
  {
"cell_type": "code",
	   "execution_count": null,
	   "metadata": {
	    "collapsed": true
	   },
	   "outputs": [],
"source": [
"// Exa 6.3\n",
"clc;\n",
"clear;\n",
"close;\n",
"// Given data\n",
"R2 = 1;// in M ohm\n",
"R2 = R2*10^6;// in ohm\n",
"R1 = 2;// in M ohm\n",
"R1 = R1*10^6;// in ohm\n",
"V_DD = 30;// in V\n",
"R_D= 1*10^3;// in ohm\n",
"V_G = (R2/(R1+R2))*V_DD;// in V\n",
"R_S= 2*10^3;// in ohm\n",
"I_D= V_G/R_S;// in A\n",
"V_D= V_DD-I_D*R_D;// in V\n",
"V_DS= V_D-V_G;// in V\n",
"R_D= R_D+R_S;// in ohm\n",
"I_Dsat=V_DD/R_D*10^3;// in mA\n",
"disp(I_D*10^3,'The value of I_D in mA is : ')\n",
"disp(V_DS,'The value of V_DS in volts is : ')\n",
"disp('Thus the Q-point is '+string(V_DS)+' V, '+string(I_D*10^3)+' mA')\n",
"disp('DC load line shown in figure')\n",
"V_D= 0:0.1:V_DD;// in V\n",
"I_D= (V_DD-V_D)/R_D*10^3;// in mV\n",
"plot(V_D,I_D);\n",
"ylabel('I_D in mA');\n",
"xlabel('V_DS in volts');\n",
"title('DC load line')"
   ]
   }
,
{
		   "cell_type": "markdown",
		   "metadata": {},
		   "source": [
			"## Example 6.4: Drain_current.sce"
		   ]
		  },
  {
"cell_type": "code",
	   "execution_count": null,
	   "metadata": {
	    "collapsed": true
	   },
	   "outputs": [],
"source": [
"// Exa 6.4\n",
"clc;\n",
"clear;\n",
"close;\n",
"// Given data\n",
"V_DD = 15;// in V\n",
"R = 3;// in kohm\n",
"I_D = V_DD/R;// in mA\n",
"R_D = 1;// in kohm\n",
"V_D = V_DD - (I_D*R_D);// in V\n",
"disp(V_D,'The drain voltage in V is');"
   ]
   }
,
{
		   "cell_type": "markdown",
		   "metadata": {},
		   "source": [
			"## Example 6.5: Output_voltage.sce"
		   ]
		  },
  {
"cell_type": "code",
	   "execution_count": null,
	   "metadata": {
	    "collapsed": true
	   },
	   "outputs": [],
"source": [
"// Exa 6.5\n",
"clc;\n",
"clear;\n",
"close;\n",
"// Given data\n",
"R_D = 3.6;// in K ohm\n",
"R_L = 10;// in K ohm\n",
"r_d = (R_D*R_L)/(R_D+R_L);// in K ohm\n",
"g_m = 5000;// in µS\n",
"g_m= g_m*10^-6;// in S\n",
"A_v = g_m *r_d;\n",
"V_out = A_v;// in V\n",
"disp(V_out*10^3,'The output volatge in mV is ');"
   ]
   }
,
{
		   "cell_type": "markdown",
		   "metadata": {},
		   "source": [
			"## Example 6.6: Minimum_value_of_VDS.sce"
		   ]
		  },
  {
"cell_type": "code",
	   "execution_count": null,
	   "metadata": {
	    "collapsed": true
	   },
	   "outputs": [],
"source": [
"// Exa 6.6\n",
"clc;\n",
"clear;\n",
"close;\n",
"// Given data\n",
"V_GS = -2;// in V\n",
"V_P = -5;// in V\n",
"V_DS = V_GS-V_P;// in V\n",
"I_DSS = 8;// in mA\n",
"I_DS = I_DSS*( 1-(V_GS/V_P) )^2;// in mA\n",
"disp(I_DS,'The drain current in mA is');"
   ]
   }
,
{
		   "cell_type": "markdown",
		   "metadata": {},
		   "source": [
			"## Example 6.7: Drain_current.sce"
		   ]
		  },
  {
"cell_type": "code",
	   "execution_count": null,
	   "metadata": {
	    "collapsed": true
	   },
	   "outputs": [],
"source": [
"// Exa 6.7\n",
"clc;\n",
"clear;\n",
"close;\n",
"// Given data\n",
"I_DSS = 8.4;// in mA\n",
"I_DSS= I_DSS*10^-3;// in A\n",
"V_P = -3;// in V\n",
"V_GS = -1.5;// in V\n",
"I_D = I_DSS*( 1-(V_GS/V_P) )^2;// in A\n",
"disp(I_D*10^3,'The drain current in mA is');\n",
"V_GS1 = 0;// in V\n",
"g_mo = -( (2*I_DSS)/V_P );// in A/V\n",
"g_m = g_mo*(1-(V_GS/V_P));// in A/V\n",
"disp(g_m*10^3,'Transconductacne at V_G=-1.5 V,  in mA/V is');"
   ]
   }
,
{
		   "cell_type": "markdown",
		   "metadata": {},
		   "source": [
			"## Example 6.8: Minimum_value_of_VDS.sce"
		   ]
		  },
  {
"cell_type": "code",
	   "execution_count": null,
	   "metadata": {
	    "collapsed": true
	   },
	   "outputs": [],
"source": [
"// Exa 6.8\n",
"clc;\n",
"clear;\n",
"close;\n",
"// Given data\n",
"V_P = -4;// in V\n",
"V_GS = -2;// in V\n",
"I_DSS = 10;// in mA\n",
"I_DSS= I_DSS*10^-3;// in A\n",
"I_D = I_DSS*(1-(V_GS/V_P))^2;// in A\n",
"disp(I_D*10^3,'The drain current in  mA is');\n",
"V_DS = V_P;// in V\n",
"disp(V_DS,'The minimum value of V_DS in V is ');"
   ]
   }
,
{
		   "cell_type": "markdown",
		   "metadata": {},
		   "source": [
			"## Example 6.9: Gate_source_voltage.sce"
		   ]
		  },
  {
"cell_type": "code",
	   "execution_count": null,
	   "metadata": {
	    "collapsed": true
	   },
	   "outputs": [],
"source": [
"// Exa 6.9\n",
"clc;\n",
"clear;\n",
"close;\n",
"// Given data\n",
"I_DSS = -40;// in mA\n",
"V_P = 5;// in V\n",
"I_D = -15;// in mA\n",
"V_GS = V_P*(1-sqrt(I_D/I_DSS));// in V\n",
"disp(V_GS,'The gate source voltage in V is');"
   ]
   }
],
"metadata": {
		  "kernelspec": {
		   "display_name": "Scilab",
		   "language": "scilab",
		   "name": "scilab"
		  },
		  "language_info": {
		   "file_extension": ".sce",
		   "help_links": [
			{
			 "text": "MetaKernel Magics",
			 "url": "https://github.com/calysto/metakernel/blob/master/metakernel/magics/README.md"
			}
		   ],
		   "mimetype": "text/x-octave",
		   "name": "scilab",
		   "version": "0.7.1"
		  }
		 },
		 "nbformat": 4,
		 "nbformat_minor": 0
}
