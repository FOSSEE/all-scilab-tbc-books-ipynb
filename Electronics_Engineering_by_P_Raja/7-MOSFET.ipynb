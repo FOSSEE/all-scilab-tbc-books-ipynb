{
"cells": [
 {
		   "cell_type": "markdown",
	   "metadata": {},
	   "source": [
       "# Chapter 7: MOSFET"
	   ]
	},
{
		   "cell_type": "markdown",
		   "metadata": {},
		   "source": [
			"## Example 7.10: Value_of_rd_Av_and_Vout.sce"
		   ]
		  },
  {
"cell_type": "code",
	   "execution_count": null,
	   "metadata": {
	    "collapsed": true
	   },
	   "outputs": [],
"source": [
"// Exa 7.10\n",
"clc;\n",
"clear;\n",
"close;\n",
"// Given data\n",
"I_D = 12;// in mA\n",
"I_D= I_D*10^-3;// in A\n",
"I_DSS = I_D;// in A\n",
"V_DS = 6.36;// in V\n",
"g_mo = 4000;// in µS\n",
"g_mo=g_mo*10^-6;// in S\n",
"g_m = g_mo;// in S\n",
"R_D = 470;// in ohm\n",
"R_L = 2;// in kohm\n",
"R_L = R_L * 10^3;// in ohm\n",
"r_d = (R_D*R_L)/(R_D+R_L);// in ohm\n",
"disp(r_d,'The value of r_d in Ω is : ')\n",
"A_v = g_m*r_d;\n",
"disp(A_v,'The value of A_v is : ')\n",
"V_in = 100;// in mV\n",
"V_in = V_in *10^-3;// in V\n",
"V_out = A_v*V_in;// in V\n",
"disp(V_out,'The value of Vout in V is');"
   ]
   }
,
{
		   "cell_type": "markdown",
		   "metadata": {},
		   "source": [
			"## Example 7.11: Value_of_RDS.sce"
		   ]
		  },
  {
"cell_type": "code",
	   "execution_count": null,
	   "metadata": {
	    "collapsed": true
	   },
	   "outputs": [],
"source": [
"// Exa 7.11\n",
"clc;\n",
"clear;\n",
"close;\n",
"// Given data\n",
"V_DS = 0.1;// in V\n",
"I_D = 10;// in mA\n",
"I_D= I_D*10^-3;// in A\n",
"R_DS = V_DS/I_D;// in ohm\n",
"disp(R_DS,'Part (a) The value of R_DS(on) in ohm is');\n",
"V_DS = 0.75;// in V\n",
"I_D = 100;// in mA\n",
"I_D= I_D*10^-3;// in A\n",
"R_DS = V_DS/I_D;// in ohm \n",
"disp(R_DS,'Part (b) The value of R_DS(on) in ohm is');"
   ]
   }
,
{
		   "cell_type": "markdown",
		   "metadata": {},
		   "source": [
			"## Example 7.12: Voltage_across_EMOSFET.sce"
		   ]
		  },
  {
"cell_type": "code",
	   "execution_count": null,
	   "metadata": {
	    "collapsed": true
	   },
	   "outputs": [],
"source": [
"// Exa 7.12\n",
"clc;\n",
"clear;\n",
"close;\n",
"// Given data\n",
"I_D = 500;// in mA\n",
"V_GS = 3;// in V\n",
"R_DS = 2;// in ohm\n",
"V_DD = 20;// in V\n",
"R1 = 1;// in kohm\n",
"R1 = R1 * 10^3;// in ohm\n",
"V_out = (R_DS/(R1+R_DS))*V_DD;// in V\n",
"disp(V_out,'The output voltage in V is');"
   ]
   }
,
{
		   "cell_type": "markdown",
		   "metadata": {},
		   "source": [
			"## Example 7.1: Output_voltage.sce"
		   ]
		  },
  {
"cell_type": "code",
	   "execution_count": null,
	   "metadata": {
	    "collapsed": true
	   },
	   "outputs": [],
"source": [
"// Exa 7.1\n",
"clc;\n",
"clear;\n",
"close;\n",
"// Given data\n",
"V_GS = 0;// in V\n",
"I_D = 4;// in mA\n",
"R = 2;// in kohm\n",
"V_DD = 15;// in V\n",
"V_DS = V_DD - (I_D*R);// in V\n",
"g_m = 2000;// in µS\n",
"g_m= g_m*10^-6;// in S\n",
"g_mo = g_m;// in S\n",
"R_D = 2;// in kohm\n",
"R_D = R_D * 10^3;// in ohm\n",
"R_L = 10;// in  kohm\n",
"R_L = R_L * 10^3;// in ohm\n",
"r_d = (R_D*R_L)/(R_D+R_L);// in ohm\n",
"A_v = g_m*r_d;\n",
"V_in = 20;// in mV\n",
"V_out = A_v * V_in;// in mV\n",
"disp(V_out,'The output voltage in mV is');"
   ]
   }
,
{
		   "cell_type": "markdown",
		   "metadata": {},
		   "source": [
			"## Example 7.2: LED_current.sce"
		   ]
		  },
  {
"cell_type": "code",
	   "execution_count": null,
	   "metadata": {
	    "collapsed": true
	   },
	   "outputs": [],
"source": [
"//Exa 7.2\n",
"clc;\n",
"clear;\n",
"close;\n",
"// Given data\n",
"V1 = 20;// in V\n",
"V2 = 2;// in V\n",
"V = V1-V2;// in V\n",
"R = 1;// in  kohm\n",
"R = R * 10^3;// in ohm\n",
"I_D = V/R;// in A\n",
"I_D = I_D * 10^3;// in mA\n",
"disp(I_D,'The drain current in mA is');"
   ]
   }
,
{
		   "cell_type": "markdown",
		   "metadata": {},
		   "source": [
			"## Example 7.3: Transfer_characteristics.sce"
		   ]
		  },
  {
"cell_type": "code",
	   "execution_count": null,
	   "metadata": {
	    "collapsed": true
	   },
	   "outputs": [],
"source": [
"// Exa 7.3\n",
"clc;\n",
"clear;\n",
"close;\n",
"// Given data\n",
"I_DSS = 10;// in mA\n",
"V_GS = 0;// in V\n",
"I_D = 0;// in mA\n",
"V_P = -4;// in V\n",
"V_GS= 0:-0.1:V_P;// in V\n",
"I_D = I_DSS*(1-(V_GS/V_P))^2;// mA\n",
"plot(V_GS,I_D);\n",
"xlabel('V_gs in volts');\n",
"ylabel('I_D in mA');\n",
"title('Transfer characteristics for an n-channel depletion type MOSFET')\n",
""
   ]
   }
,
{
		   "cell_type": "markdown",
		   "metadata": {},
		   "source": [
			"## Example 7.4: Value_of_VDS.sce"
		   ]
		  },
  {
"cell_type": "code",
	   "execution_count": null,
	   "metadata": {
	    "collapsed": true
	   },
	   "outputs": [],
"source": [
"// Exa 7.4\n",
"clc;\n",
"clear;\n",
"close;\n",
"// Given data\n",
"V_GS = 0;// in V\n",
"I_DSS = 10;// in mA\n",
"I_D = I_DSS;// in mA\n",
"R_D = 1.5;// in kohm\n",
"V_DD = 20;// in V\n",
"V_DS = V_DD - (I_D*R_D);// in V\n",
"disp(V_DS,'The value of V_DS in V is'); "
   ]
   }
,
{
		   "cell_type": "markdown",
		   "metadata": {},
		   "source": [
			"## Example 7.5: Drain_current.sce"
		   ]
		  },
  {
"cell_type": "code",
	   "execution_count": null,
	   "metadata": {
	    "collapsed": true
	   },
	   "outputs": [],
"source": [
"// Exa 7.5\n",
"clc;\n",
"clear;\n",
"close;\n",
"// Given data\n",
"I_D = 5;// in mA\n",
"V_GS1 = 8;// in V\n",
"V_GS2 = 4;// in V\n",
"V_GS = 6;// in V\n",
"K = I_D/(V_GS1-V_GS2)^2;// in mA/V^2\n",
"I_D = K*(V_GS-V_GS2)^2;// in mA\n",
"disp(I_D,'The drain current in mA is');"
   ]
   }
,
{
		   "cell_type": "markdown",
		   "metadata": {},
		   "source": [
			"## Example 7.6: Value_of_K.sce"
		   ]
		  },
  {
"cell_type": "code",
	   "execution_count": null,
	   "metadata": {
	    "collapsed": true
	   },
	   "outputs": [],
"source": [
"// Exa 7.6\n",
"clc;\n",
"clear;\n",
"close;\n",
"// Given data\n",
"V_T = 1;// in V\n",
"I_D = 4;// in mA\n",
"V_GS = 5;// in V\n",
"V_GSth = 1;// in V\n",
"K = I_D/(V_GS-V_GSth)^2;// in mA/V^2\n",
"disp(K,'The value of K in mA/V^2 is');"
   ]
   }
,
{
		   "cell_type": "markdown",
		   "metadata": {},
		   "source": [
			"## Example 7.7: Region_of_operation.sce"
		   ]
		  },
  {
"cell_type": "code",
	   "execution_count": null,
	   "metadata": {
	    "collapsed": true
	   },
	   "outputs": [],
"source": [
"// Exa 7.7\n",
"clc;\n",
"clear;\n",
"close;\n",
"// Given data\n",
"V_GS = 3;// in V\n",
"V_GSth=2;// inV\n",
"// Part (a)\n",
"V_DS= 0.5;// in V\n",
"if V_DS<(V_GS-V_GSth) then\n",
"    disp('Transistor is in ohmic region')\n",
"else\n",
"    disp('Transistor is in saturation region')\n",
"end\n",
"\n",
"// Part (b)\n",
"V_DS= 1;// in V\n",
"if V_DS<(V_GS-V_GSth) then\n",
"    disp('Transistor is in ohmic region')\n",
"else\n",
"    disp('Transistor is in saturation region')\n",
"end\n",
"\n",
"// Part (c)\n",
"V_DS= 5;// in V\n",
"if V_DS<(V_GS-V_GSth) then\n",
"    disp('Transistor is in ohmic region')\n",
"else\n",
"    disp('Transistor is in saturation region')\n",
"end"
   ]
   }
,
{
		   "cell_type": "markdown",
		   "metadata": {},
		   "source": [
			"## Example 7.8: Value_of_ID.sce"
		   ]
		  },
  {
"cell_type": "code",
	   "execution_count": null,
	   "metadata": {
	    "collapsed": true
	   },
	   "outputs": [],
"source": [
"// Exa 7.8\n",
"clc;\n",
"clear;\n",
"close;\n",
"// Given data\n",
"I_DSS = 4;// in mA\n",
"V_GSoff = -2;// in V\n",
"V_GS = -0.5;// in V\n",
"I_D = I_DSS*(1-(V_GS/V_GSoff))^2;// in mA\n",
"disp(I_D,'At V_GS=-0.5 V, the drain current in mA is');\n",
"V_GS = -1;//in V\n",
"I_D = I_DSS*(1-(V_GS/V_GSoff))^2;// in mA\n",
"disp(I_D,'At V_GS=-1.0 V, the drain current in mA is');\n",
"V_GS = -1.5;// in V\n",
"I_D = I_DSS*(1-(V_GS/V_GSoff))^2;// in mA\n",
"disp(I_D,'At V_GS=-1.5 V, the drain current in mA is');"
   ]
   }
,
{
		   "cell_type": "markdown",
		   "metadata": {},
		   "source": [
			"## Example 7.9: Drain_current_and_the_value_of_VDS.sce"
		   ]
		  },
  {
"cell_type": "code",
	   "execution_count": null,
	   "metadata": {
	    "collapsed": true
	   },
	   "outputs": [],
"source": [
"// Exa 7.9\n",
"clc;\n",
"clear;\n",
"close;\n",
"// Given data\n",
"I_DSS = 12;// in mA\n",
"I_DSS= I_DSS*10^-3;// in A\n",
"I_D = I_DSS;// in A\n",
"V_DD = 12;// in V\n",
"R_D = 470;// in ohm\n",
"V_DS = V_DD - (I_D*R_D);// in V\n",
"disp(I_D*10^3,'The circuit drain current in mA is : ')\n",
"disp(V_DS,'The drain source voltage in V is');"
   ]
   }
],
"metadata": {
		  "kernelspec": {
		   "display_name": "Scilab",
		   "language": "scilab",
		   "name": "scilab"
		  },
		  "language_info": {
		   "file_extension": ".sce",
		   "help_links": [
			{
			 "text": "MetaKernel Magics",
			 "url": "https://github.com/calysto/metakernel/blob/master/metakernel/magics/README.md"
			}
		   ],
		   "mimetype": "text/x-octave",
		   "name": "scilab",
		   "version": "0.7.1"
		  }
		 },
		 "nbformat": 4,
		 "nbformat_minor": 0
}
