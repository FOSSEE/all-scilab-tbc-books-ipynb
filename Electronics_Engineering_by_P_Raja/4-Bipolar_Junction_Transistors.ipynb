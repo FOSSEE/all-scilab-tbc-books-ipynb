{
"cells": [
 {
		   "cell_type": "markdown",
	   "metadata": {},
	   "source": [
       "# Chapter 4: Bipolar Junction Transistors"
	   ]
	},
{
		   "cell_type": "markdown",
		   "metadata": {},
		   "source": [
			"## Example 4.10: Design_a_fixed_bias_circuit.sce"
		   ]
		  },
  {
"cell_type": "code",
	   "execution_count": null,
	   "metadata": {
	    "collapsed": true
	   },
	   "outputs": [],
"source": [
"// Example 4.10\n",
"clc;\n",
"clear;\n",
"close;\n",
"// Given data\n",
"V_CC= 10;// in V\n",
"V_BE= 0.7;// in V\n",
"V_CE= 5;// in V\n",
"bita= 100;\n",
"I_C= 5;// in mA\n",
"// Applying KVL to collector circuit, V_CC-V_CE-I_C*R_C =0\n",
"R_C= (V_CC-V_CE)/I_C;// in kΩ\n",
"disp(R_C,'The value of R_C in kΩ is : ')\n",
"I_B= I_C/bita;// in mA\n",
"disp(I_B*10^3,'The value of I_B in µA is : ')\n",
"// Applying KVL to base circuit, V_CC-I_B*R_B-V_BE= 0\n",
"R_B= (V_CC-V_BE)/I_B;// in kΩ\n",
"disp(R_B,'The value of R_B in kΩ is :')\n",
"// Note: In the book, there is an error in calculating the value of I_B, but they putted the correct value of I_B to evaluate the value of R_B"
   ]
   }
,
{
		   "cell_type": "markdown",
		   "metadata": {},
		   "source": [
			"## Example 4.11: DC_load_line_and_operating_point.sce"
		   ]
		  },
  {
"cell_type": "code",
	   "execution_count": null,
	   "metadata": {
	    "collapsed": true
	   },
	   "outputs": [],
"source": [
"// Example 4.11\n",
"clc;\n",
"clear;\n",
"close;\n",
"// Given data\n",
"V_CC= 6;// in V\n",
"V_BE= 0.7;// in V\n",
"bita= 100;\n",
"R_C= 2;// in kΩ\n",
"R_C= R_C*10^3;// in Ω\n",
"R_B= 530;// in kΩ\n",
"R_B= R_B*10^3;// in Ω\n",
"R1= 10;// in kΩ\n",
"R1= R1*10^3;// in Ω\n",
"R2= 5;// in kΩ\n",
"R2= R2*10^3;// in Ω\n",
"V_CE= 0:0.1:V_CC;// in V\n",
"I_C= (V_CC-V_CE)/(R_C)*10^3;// in mA\n",
"plot(V_CE,I_C);\n",
"xlabel('V_CE in volts');\n",
"ylabel('I_C in mA');\n",
"title('DC load line');\n",
"I_B= (V_CC-V_BE)/R_B;// in A\n",
"I_CQ= I_B*bita;// in A\n",
"V_CE= V_CC-I_CQ*R_C;// in V\n",
"disp('Q-point is : '+string(V_CE)+' V, '+string(I_CQ*10^3)+' mA')\n",
"disp('DC load line shown in figure')"
   ]
   }
,
{
		   "cell_type": "markdown",
		   "metadata": {},
		   "source": [
			"## Example 4.12: Operating_point.sce"
		   ]
		  },
  {
"cell_type": "code",
	   "execution_count": null,
	   "metadata": {
	    "collapsed": true
	   },
	   "outputs": [],
"source": [
"// Example 4.12\n",
"clc;\n",
"clear;\n",
"close;\n",
"// Given data\n",
"V_CC= 12;// in V\n",
"V_BE= 0.7;// in V\n",
"bita= 100;\n",
"R_C= 10;// in kΩ\n",
"R_C=R_C*10^3;// in Ω\n",
"R_B= 100;// in Ω\n",
"R_B=R_B*10^3;// in Ω\n",
"I_BQ= (V_CC-V_BE)/((1+bita)*R_C+R_B);// in A\n",
"I_CQ= bita*I_BQ;// in A\n",
"V_CEQ= V_CC-(I_CQ+I_BQ)*R_C;// in volts\n",
"disp('Q-Point value for the circuit is '+string(V_CEQ)+' V and '+string(I_CQ*10^3)+' mA')\n",
"// For dc load line when \n",
"I_C=0;\n",
"V_CE= V_CC-(I_C+I_BQ)*R_C;// in V\n",
"disp(V_CE,'At I_C=0, the value of V_CE in volts is : ')\n",
"// When\n",
"V_CE= 0;\n",
"I_C= (V_CC-I_BQ*R_C)/R_C;// in A\n",
"disp(I_C*10^3,'At V_CE=0, the value of I_C in mA is : ')"
   ]
   }
,
{
		   "cell_type": "markdown",
		   "metadata": {},
		   "source": [
			"## Example 4.13: Collector_to_base_bias_circuit.sce"
		   ]
		  },
  {
"cell_type": "code",
	   "execution_count": null,
	   "metadata": {
	    "collapsed": true
	   },
	   "outputs": [],
"source": [
"// Example 4.13\n",
"clc;\n",
"clear;\n",
"close;\n",
"// Given data\n",
"V_BE= 0.7;// in V\n",
"V_CC= 15;// in V\n",
"V_CE= 5;// in V\n",
"I_C= 5;// in mA\n",
"I_C=I_C*10^-3;// in A\n",
"bita= 100;\n",
"I_B= I_C/bita;// in A\n",
"// Applying KVL to collector circuit, V_CC= (I_C+I_B)*R_C+V_CE\n",
"R_C= (V_CC-V_CE)/(I_C+I_B);// in Ω\n",
"// Applying KVL to base circuit, V_CC= (I_C+I_B)*R_C+I_B*R_B+V_BE\n",
"R_B= (V_CC-V_BE-R_C*(I_C+I_B))/I_B;// in Ω\n",
"disp(R_C*10^-3,'The value of R_C in kΩ is : ')\n",
"disp(R_B*10^-3,'The value of R_B in kΩ is : ')"
   ]
   }
,
{
		   "cell_type": "markdown",
		   "metadata": {},
		   "source": [
			"## Example 4.14: The_value_bita_VCC_and_RB.sce"
		   ]
		  },
  {
"cell_type": "code",
	   "execution_count": null,
	   "metadata": {
	    "collapsed": true
	   },
	   "outputs": [],
"source": [
"// Example 4.14\n",
"clc;\n",
"clear;\n",
"close;\n",
"// Given data\n",
"I_B= 20*10^-6;// in A\n",
"V_CE= 7.3;// in V\n",
"V_BE= 0.6;// in V\n",
"V_E= 2.1;// in V\n",
"R_E= 0.68*10^3;// in Ω\n",
"R_C= 2.7*10^3;// in Ω\n",
"I_E= V_E/R_E;// in A\n",
"I_C= I_E;// in A (approx)\n",
"bita= round(I_C/I_B);\n",
"V_CC= V_CE+I_C*R_C+I_E*R_E;// in V\n",
"// From V_CC= I_B*R_B+V_BE+V_E\n",
"R_B= (V_CC-(V_BE+V_E))/I_B;// in Ω\n",
"disp(bita,'The value of bita is : ')\n",
"disp(V_CC,'The value of V_CC in volts is : ')\n",
"disp(R_B*10^-3,'The value of R_B in kΩ is : ')\n",
"\n",
"// Note: In  the book, there is an error to calculate the value of R_B, hence the value of R_B in the book is wrong."
   ]
   }
,
{
		   "cell_type": "markdown",
		   "metadata": {},
		   "source": [
			"## Example 4.15: The_value_of_IC_and_VCE.sce"
		   ]
		  },
  {
"cell_type": "code",
	   "execution_count": null,
	   "metadata": {
	    "collapsed": true
	   },
	   "outputs": [],
"source": [
"// Exa 4.15\n",
"clc;\n",
"clear;\n",
"close;\n",
"// Given data\n",
"V_CC = 18;// in V\n",
"bita = 90;\n",
"R_C = 2.2 * 10^3;// in ohm\n",
"R_E = 1.8*10^3;// in ohm\n",
"R_B = 510*10^3;// in ohm\n",
"I_B = V_CC/( (bita*(R_C+R_E))+R_B );// in A\n",
"I_C = bita*I_B;// in A\n",
"disp(I_C*10^3,'The value of I_C in mA is');\n",
"V_CE = I_B*R_B;// in V\n",
"disp(V_CE,'The value of V_CE in V is');"
   ]
   }
,
{
		   "cell_type": "markdown",
		   "metadata": {},
		   "source": [
			"## Example 4.16: Value_of_IBQ_and_ICQ.sce"
		   ]
		  },
  {
"cell_type": "code",
	   "execution_count": null,
	   "metadata": {
	    "collapsed": true
	   },
	   "outputs": [],
"source": [
"// Exa 4.16\n",
"clc;\n",
"clear;\n",
"close;\n",
"// Given data\n",
"bita = 50;\n",
"V_CC = 12;// in V\n",
"V_BE = 0.7;// in V\n",
"R_B = 240;// in kohm\n",
"R_B = R_B*10^3;// in ohm\n",
"I_C = 2.35 * 10^-3;// in A\n",
"R_C = 2.2;// in kohm\n",
"R_C = R_C * 10^3;// in ohm\n",
"I_BQ = (V_CC - V_BE)/R_B;// in A\n",
"disp(I_BQ*10^6,'The value of I_BQ in µA is');\n",
"I_CQ = bita*I_BQ;// in A\n",
"disp(I_CQ*10^3,'The value of I_CQ in mA is');\n",
"V_CEQ = V_CC - (I_C*R_C);// in V\n",
"disp(V_CEQ,'The value of V_CEQ in V is');\n",
"V_B = V_BE;// in V\n",
"disp(V_B,'The value of V_B in V is');\n",
"V_BC = V_B -V_CEQ;// in V\n",
"disp(V_BC,'The voltage in V is');\n",
"\n",
"// Note: In the book, there is a calculation error to evaluating the value of V_CEQ. So the answer in the book is wrong"
   ]
   }
,
{
		   "cell_type": "markdown",
		   "metadata": {},
		   "source": [
			"## Example 4.17: Value_of_IB_and_IC.sce"
		   ]
		  },
  {
"cell_type": "code",
	   "execution_count": null,
	   "metadata": {
	    "collapsed": true
	   },
	   "outputs": [],
"source": [
"// Exa 4.17\n",
"clc;\n",
"clear;\n",
"close;\n",
"// Given data\n",
"V_CC = 18;// in V\n",
"V_BE = 0.7;// in V\n",
"R_C = 3.3;// in kohm\n",
"R_C = R_C * 10^3;// in ohm\n",
"R_B = 210;// in kohm\n",
"R_B  = R_B * 10^3;// in ohm\n",
"bita = 75;\n",
"R_C = 3.3;// in kohm\n",
"R_C = R_C * 10^3;// in ohm\n",
"R_E = 510;// in ohm\n",
"I_B = (V_CC-V_BE)/( R_C+R_B+bita*(R_C+R_E) );// A\n",
"disp(round(I_B*10^6),'The value of I_B in µA is');\n",
"I_C = bita*I_B;// in A\n",
"disp(I_C*10^3,'The value of I_C in mA is : ')\n",
"V_C = V_CC - (I_C*R_C);// in V\n",
"disp(V_C,'The voltage in V is');"
   ]
   }
,
{
		   "cell_type": "markdown",
		   "metadata": {},
		   "source": [
			"## Example 4.18: Value_of_VCC_RB_and_RC.sce"
		   ]
		  },
  {
"cell_type": "code",
	   "execution_count": null,
	   "metadata": {
	    "collapsed": true
	   },
	   "outputs": [],
"source": [
"// Exa 4.18\n",
"clc;\n",
"clear;\n",
"close;\n",
"// Given data\n",
"V_BE = 0.7;// in V\n",
"I_B = 40 * 10^-6;// in A\n",
"V_CC = 20;// in V (From the load line)\n",
"disp(V_CC,'The voltage in V is');\n",
"I_C = 8;// in mA\n",
"R_C = V_CC/I_C;// in kohm\n",
"disp(R_C,'The resistance in kohm is');\n",
"R_B = (V_CC - V_BE)/I_B;// in ohm\n",
"disp(R_B*10^-3,'The resistance in kohm is');"
   ]
   }
,
{
		   "cell_type": "markdown",
		   "metadata": {},
		   "source": [
			"## Example 4.19: VCE_for_the_voltage_divider_bias_configuration.sce"
		   ]
		  },
  {
"cell_type": "code",
	   "execution_count": null,
	   "metadata": {
	    "collapsed": true
	   },
	   "outputs": [],
"source": [
"// Exa 4.19\n",
"clc;\n",
"clear;\n",
"close;\n",
"// Given data\n",
"R1 = 47;// in kohm\n",
"R1=  R1*10^3;// in ohm\n",
"R2 = 10;// in kohm\n",
"R2= R2*10^3;// in ohm\n",
"R_E = 1.1;// in kohm\n",
"R_E = R_E * 10^3;// in ohm\n",
"R_C = 2.4;// in kohm\n",
"R_C = R_C * 10^3;// in ohm\n",
"V_CC = -18;// in V\n",
"V_B = (R2*V_CC)/(R1+R2);// in V\n",
"V_BE = -0.7;// in V\n",
"V_E = V_B - V_BE;// in V\n",
"I_E = abs(V_E)/R_E;// in A\n",
"V_CE = V_CC + (I_E)*(R_C+R_E);// in V\n",
"disp(V_B,'The value of V_B in volts is : ');\n",
"disp(I_E*10^3,'The value of I_E in mA is : ')\n",
"disp(V_CE,'The value of V_CE in V is');"
   ]
   }
,
{
		   "cell_type": "markdown",
		   "metadata": {},
		   "source": [
			"## Example 4.1: Current_gain_and_base_current.sce"
		   ]
		  },
  {
"cell_type": "code",
	   "execution_count": null,
	   "metadata": {
	    "collapsed": true
	   },
	   "outputs": [],
"source": [
"// Example 4.1\n",
"clc;\n",
"clear;\n",
"close;\n",
"// Given data\n",
"I_C= 0.9;// in mA\n",
"I_E=1;// in mA\n",
"alpha = I_C/I_E;\n",
"disp(alpha,'Current gain is : ') \n",
"// Formula I_E= I_B+I_C\n",
"I_B= I_E-I_C;// in mA\n",
"disp(I_B,'The base current in mA is : ')"
   ]
   }
,
{
		   "cell_type": "markdown",
		   "metadata": {},
		   "source": [
			"## Example 4.20: Value_of_IB_and_IC.sce"
		   ]
		  },
  {
"cell_type": "code",
	   "execution_count": null,
	   "metadata": {
	    "collapsed": true
	   },
	   "outputs": [],
"source": [
"// Exa 4.20\n",
"clc;\n",
"clear;\n",
"close;\n",
"// Given data\n",
"V_BE = 0.8;// in V\n",
"V_CE = 0.2;// in V\n",
"V1 = 5;// in V\n",
"R_B = 50;// in kohm\n",
"R_B= R_B*10^3;// in ohm\n",
"R_C = 3;// in K ohm\n",
"R_C = R_C * 10^3;// in ohm\n",
"bita = 100;\n",
"R_E = 2;// in kohm\n",
"R_E= R_E*10^3;// in ohm\n",
"I_B = (V1-V_BE)/(R_B+(1+bita)*R_E);// in A\n",
"disp(I_B*10^6,'The value of I_B in µA is');\n",
"V_CC = 10;// in V\n",
"I_Csat = (V_CC - V_CE - (I_B*R_E))/(R_C+R_E);//in A\n",
"disp(I_Csat*10^3,'The value of I_C(sat) in mA is');\n",
"I_Bmin = I_Csat /bita;// in A\n",
"disp(I_Bmin*10^6,'The minimum value of I_B in µA is : ');\n",
"\n",
"// Note: There is calculation error to evaluate the value of I_Csat in the book, so the answer in the book is wrong"
   ]
   }
,
{
		   "cell_type": "markdown",
		   "metadata": {},
		   "source": [
			"## Example 4.21: Operating_point.sce"
		   ]
		  },
  {
"cell_type": "code",
	   "execution_count": null,
	   "metadata": {
	    "collapsed": true
	   },
	   "outputs": [],
"source": [
"// Exa 4.21\n",
"clc;\n",
"clear;\n",
"close;\n",
"// Given data\n",
"R1 = 5;// in kohm\n",
"R1= R1*10^3;// in ohm\n",
"R2 = 5;// in kohm\n",
"R2= R2*10^3;// in ohm\n",
"R_B = R1*R2/(R1+R2);// in ohm\n",
"R_E = 1;// in kohm\n",
"R_E = R_E * 10^3;// in ohm\n",
"V_EE = 3;// in V\n",
"V_Th = (R2*V_EE)/(R1+R2);// in V\n",
"V_BE = 0.7;// in V\n",
"bita = 44;\n",
"I_B = (V_EE - V_BE - V_Th)/( ((1+bita)*R_E)+R_B);// in A\n",
"I_BQ = I_B;// in A\n",
"disp(I_BQ*10^6,'The value of I_BQ in µA is');\n",
"I_C = bita*I_BQ;// in A\n",
"disp(I_C*10^3,'The value of I_C in mA is');\n",
"I_E = (1+bita)*I_B;// in A\n",
"disp(I_E*10^3,'The value of I_E in mA is');\n",
"V_EC = (I_E*R_E)-V_EE;// in V\n",
"disp(V_EC,'The value of V_EC in V is');\n",
"disp('Q-point is '+string(V_EC)+' V, '+string(I_C*10^3)+' mA')"
   ]
   }
,
{
		   "cell_type": "markdown",
		   "metadata": {},
		   "source": [
			"## Example 4.22: The_region_of_operation.sce"
		   ]
		  },
  {
"cell_type": "code",
	   "execution_count": null,
	   "metadata": {
	    "collapsed": true
	   },
	   "outputs": [],
"source": [
"// Exa 4.22\n",
"clc;\n",
"clear;\n",
"close;\n",
"// Given data\n",
"V_BE = 0.7;// in V\n",
"V_BB = 5;// in V\n",
"R_B = 100;// in kohm\n",
"R_B = R_B * 10^3;// in ohm\n",
"R_E = 2;// in kohm\n",
"R_E = R_E * 10^3;// in ohm\n",
"bita = 100;\n",
"I_B = (V_BB-V_BE)/( R_B+((1+bita)*R_E) );// in A\n",
"disp(I_B*10^3,'The value of I_B in mA is');\n",
"V_B = V_BB-(I_B*10^-3*R_B);// in V\n",
"I_C = bita*I_B;// in A\n",
"disp(I_C*10^3,'The value of I_C in mA is');\n",
"V_CC = 10;// in V\n",
"V_C = V_CC-(I_C*R_E);// in V\n",
"disp(V_C,'The voltage in V is');\n",
"disp('Transistor is in active region is valid')"
   ]
   }
,
{
		   "cell_type": "markdown",
		   "metadata": {},
		   "source": [
			"## Example 4.23: Value_of_IB_IC_VCE_VC_VE_VB_and_VBC.sce"
		   ]
		  },
  {
"cell_type": "code",
	   "execution_count": null,
	   "metadata": {
	    "collapsed": true
	   },
	   "outputs": [],
"source": [
"// Exa 4.23\n",
"clc;\n",
"clear;\n",
"close;\n",
"// Given data\n",
"V_CC = 20;// in V\n",
"V_BE = 0.7;// in V\n",
"R_B = 430;// in kohm\n",
"R_B = 430 * 10^3;// in ohm\n",
"bita = 50;\n",
"R_E = 1;// in kohm\n",
"R_E = R_E * 10^3;// in ohm\n",
"R_C = 2;// in kohm\n",
"R_C = R_C * 10^3;// in ohm\n",
"I_B = (V_CC - V_BE)/(R_B +(1+bita)*R_E);// in A\n",
"disp(I_B*10^6,'The base current in µA is');\n",
"I_C = bita*I_B;// in A\n",
"disp(I_C*10^3,'The collector current in mA is');\n",
"V_CE = V_CC - I_C*(R_C+R_E);// in V\n",
"disp(V_CE,'The value of V_CE in V is');\n",
"V_C = V_CC - (I_C*R_C);// in V\n",
"disp(V_C,'The value of V_C in V is');\n",
"V_E = V_C - V_CE;// in V\n",
"disp(V_E,'The value of V_E in V is');\n",
"V_B = V_BE+V_E;// in V\n",
"disp(V_B,'The value of V_B in V is : ')\n",
"V_BC = V_B-V_C;// in V\n",
"disp(V_BC,'The value of V_BC in V is');"
   ]
   }
,
{
		   "cell_type": "markdown",
		   "metadata": {},
		   "source": [
			"## Example 4.24: Value_of_ICQ_and_VCEQ.sce"
		   ]
		  },
  {
"cell_type": "code",
	   "execution_count": null,
	   "metadata": {
	    "collapsed": true
	   },
	   "outputs": [],
"source": [
"// Exa 4.24\n",
"clc;\n",
"clear;\n",
"close;\n",
"// Given data\n",
"V_CC = 20;// in V\n",
"V_BE = 0.7;// in V\n",
"R_B = 680;// in kohm\n",
"R_B = R_B * 10^3;// in ohm\n",
"R_C = 4.7;// in kohm\n",
"R_C = R_C * 10^3;// in ohm\n",
"bita = 120;\n",
"I_B = (V_CC - V_BE)/(R_B+bita*R_C);// in A\n",
"I_CQ = bita*I_B;// in A\n",
"disp(I_CQ*10^3,'The value of I_CQ in mA is');\n",
"V_CEQ = V_CC - (I_CQ*R_C);// in V\n",
"disp(V_CEQ,'The value of V_CEQ in V is');\n",
"V_B = V_BE;// in V\n",
"V_C = 11.26;// in V\n",
"V_E = 0;// in V\n",
"disp(V_E,'The value of V_E in V is');\n",
"V_BC = V_B - V_C;// in V\n",
"disp(V_BC,'The value of V_BC in V is');"
   ]
   }
,
{
		   "cell_type": "markdown",
		   "metadata": {},
		   "source": [
			"## Example 4.25: IB_IC_and_VC.sce"
		   ]
		  },
  {
"cell_type": "code",
	   "execution_count": null,
	   "metadata": {
	    "collapsed": true
	   },
	   "outputs": [],
"source": [
"// Exa 4.25\n",
"clc;\n",
"clear;\n",
"close;\n",
"// Given data\n",
"V_CC = 16;// in V\n",
"V_BE = 0.7;// in V\n",
"R_B = 470;// in kohm\n",
"R_B= R_B*10^3;// in ohm\n",
"bita = 120;\n",
"R_C = 3.6;// in kohm\n",
"R_C= R_C*10^3;// in ohm\n",
"R_E = 0.51;// in kohm\n",
"R_E= R_E*10^3;// in ohm\n",
"I_B = (V_CC - V_BE)/(R_B+bita*(R_C+R_E));// in A\n",
"disp(I_B*10^6,'The base current in µA is');\n",
"I_C  = bita*I_B;// in A\n",
"disp(I_C*10^3,'The collector current in mA is');\n",
"V_C = V_CC - I_C*R_C;// in V\n",
"disp(V_C,'The collector voltage in V is');"
   ]
   }
,
{
		   "cell_type": "markdown",
		   "metadata": {},
		   "source": [
			"## Example 4.26: ICQ_and_VCEQ.sce"
		   ]
		  },
  {
"cell_type": "code",
	   "execution_count": null,
	   "metadata": {
	    "collapsed": true
	   },
	   "outputs": [],
"source": [
"// Exa 4.26\n",
"clc;\n",
"clear;\n",
"close;\n",
"// Given data\n",
"V_CC = 10;// in V\n",
"V_BE = 0.7;// in V\n",
"R_B = 250;// in kohm\n",
"R_B= R_B*10^3;// in ohm\n",
"bita = 90;\n",
"R_C = 4.7;// in kohm\n",
"R_C= R_C*10^3;// in ohm\n",
"R_E = 1.2;// in kohm\n",
"R_E= R_E*10^3;// in ohm\n",
"I_BQ = (V_CC - V_BE)/(R_B + bita*(R_C+R_E));// in A\n",
"disp(I_BQ*10^6,'The base current at Q-point in µA is');\n",
"I_CQ = bita*I_BQ;// in A\n",
"disp(I_CQ*10^3,'The collector current at Q-point in mA is');\n",
"V_CEQ = V_CC - (I_CQ*(R_C+R_E));// in V\n",
"disp(V_CEQ,'Collector emitter voltage at Q point in V is');"
   ]
   }
,
{
		   "cell_type": "markdown",
		   "metadata": {},
		   "source": [
			"## Example 4.27: Range_of_possible_value_for_VC.sce"
		   ]
		  },
  {
"cell_type": "code",
	   "execution_count": null,
	   "metadata": {
	    "collapsed": true
	   },
	   "outputs": [],
"source": [
"// Exa 4.27\n",
"clc;\n",
"clear;\n",
"close;\n",
"// Given data\n",
"V_CC = 12;// in V\n",
"V_BE = 0.7;// in V\n",
"R_B = 150;// in kohm\n",
"R_B= R_B*10^3;// in ohm\n",
"bita = 180;\n",
"R_C = 4.7;// in kohm\n",
"R_C= R_C*10^3;// in ohm\n",
"R_E = 3.3;// in kohm\n",
"R_E= R_E*10^3;// in ohm\n",
"I_B = (V_CC-V_BE)/(R_B + bita*(R_C+R_E));// in A\n",
"disp(I_B*10^6,'The base current in µA is');"
   ]
   }
,
{
		   "cell_type": "markdown",
		   "metadata": {},
		   "source": [
			"## Example 4.28: Value_of_VE_IC_VC_and_IB.sce"
		   ]
		  },
  {
"cell_type": "code",
	   "execution_count": null,
	   "metadata": {
	    "collapsed": true
	   },
	   "outputs": [],
"source": [
"// Exa 4.28\n",
"clc;\n",
"clear;\n",
"close;\n",
"// Given data\n",
"V_B = 4;// in V\n",
"V_BE = 0.7;// in V\n",
"R_E = 1.2;// in kohm\n",
"R_E= R_E*10^3;// in ohm\n",
"V_E = V_B-V_BE;// in V\n",
"R_C = 2.2;// in kohm\n",
"R_C= R_C*10^3;// in ohm\n",
"R_B= 330;// in kohm\n",
"R_B= R_B*10^3;// in ohm\n",
"bita = 180;\n",
"I_B = 7.11 * 10^-6;// in A\n",
"V_CC = 18;// in V\n",
"disp('Part (a)')\n",
"disp(V_E,'The value of V_E in V is');\n",
"I_C = V_E/R_E;// in A\n",
"disp('Part (b)')\n",
"disp(I_C*10^3,'The value of I_C in mA is : ')\n",
"V_C =V_CC - (I_C*R_C);// in V\n",
"disp('Part (c)')\n",
"disp(V_C,'The value of V_C in V is');\n",
"V_CE = V_C-V_E;// in V\n",
"disp('Part (d)')\n",
"disp(V_CE,'The value of V_CE in V is : ')\n",
"//I_C = bita*I_B;// in A\n",
"//disp(I_C*10^3,'The value of I_C in mA is : ')\n",
"//V_CC= 12;// in V\n",
"//R_C = 4.7;// in kohm\n",
"//R_C= R_C*10^3;// ohm\n",
"//V_C = V_CC - (I_C*R_C);// in V\n",
"//disp(V_C,'The value of V_C in V is');\n",
"//R_B = 1.15*10^6;// in ohm\n",
"//R_E = 3.3*10^3;// in ohm\n",
"//I_B = (V_CC - V_BE)/(R_B + bita*(R_C+R_E));// in A\n",
"//disp(I_B*10^6,'The value of I_B in µA is : ')\n",
"//I_C = bita*I_B;// in A\n",
"//disp(I_C*10^3,'The value of I_C in mA is : ')\n",
"//V_C = V_CC - (I_C * R_C);// in V\n",
"//disp(V_C,'The value of V_C in V is : ')\n",
"//disp('We conclude that collector voltage V_C varies from 5.98 V to 8.30 V');\n",
"//disp('Part (e)')\n",
"I_B = (V_CC - (I_C*R_C) - V_BE - V_E)/R_B;// in A\n",
"disp(I_B*10^6,'Base current in µA is');\n",
"bita = I_C/I_B;\n",
"disp(bita,'Current gain is');"
   ]
   }
,
{
		   "cell_type": "markdown",
		   "metadata": {},
		   "source": [
			"## Example 4.29: Base_current.sce"
		   ]
		  },
  {
"cell_type": "code",
	   "execution_count": null,
	   "metadata": {
	    "collapsed": true
	   },
	   "outputs": [],
"source": [
"// Exa 4.29\n",
"clc;\n",
"clear;\n",
"close;\n",
"// Given data\n",
"I_E = 10;// in mA\n",
"I_C = 9.95;// in mA\n",
"I_B = I_E-I_C;// in mA\n",
"disp(I_B,'The base current in mA is');"
   ]
   }
,
{
		   "cell_type": "markdown",
		   "metadata": {},
		   "source": [
			"## Example 4.2: Base_current.sce"
		   ]
		  },
  {
"cell_type": "code",
	   "execution_count": null,
	   "metadata": {
	    "collapsed": true
	   },
	   "outputs": [],
"source": [
"// Example 4.2\n",
"clc;\n",
"clear;\n",
"close;\n",
"// Given data\n",
"alpha= 0.97;\n",
"I_E=1;// in mA\n",
"// Formula alpha = I_C/I_E;\n",
"I_C= alpha*I_E;// in mA\n",
"// Formula I_E= I_B+I_C\n",
"I_B= I_E-I_C;// in mA\n",
"disp(I_B,'The base current in mA is : ')"
   ]
   }
,
{
		   "cell_type": "markdown",
		   "metadata": {},
		   "source": [
			"## Example 4.30: Current_gain.sce"
		   ]
		  },
  {
"cell_type": "code",
	   "execution_count": null,
	   "metadata": {
	    "collapsed": true
	   },
	   "outputs": [],
"source": [
"// Exa 4.30\n",
"clc;\n",
"clear;\n",
"close;\n",
"// Given data\n",
"I_C = 10;// in mA\n",
"I_B = 0.1;// in mA\n",
"bita = I_C/I_B;\n",
"disp(bita,'The current gain is');"
   ]
   }
,
{
		   "cell_type": "markdown",
		   "metadata": {},
		   "source": [
			"## Example 4.31: Base_current.sce"
		   ]
		  },
  {
"cell_type": "code",
	   "execution_count": null,
	   "metadata": {
	    "collapsed": true
	   },
	   "outputs": [],
"source": [
"// Exa 4.31\n",
"clc;\n",
"clear;\n",
"close;\n",
"// Given data\n",
"V_BE = 0.7;// in V\n",
"V_BB = 10;// in V\n",
"R_B = 470;// in kohm\n",
"R_B = R_B * 10^3;// in ohm\n",
"I_B = (V_BB-V_BE)/R_B;// in A\n",
"disp(I_B*10^6,'The base current in µA is');"
   ]
   }
,
{
		   "cell_type": "markdown",
		   "metadata": {},
		   "source": [
			"## Example 4.32: Collector_emitter_voltage.sce"
		   ]
		  },
  {
"cell_type": "code",
	   "execution_count": null,
	   "metadata": {
	    "collapsed": true
	   },
	   "outputs": [],
"source": [
"// Exa 4.32\n",
"clc;\n",
"clear;\n",
"close;\n",
"// Given data\n",
"V_BB = 10;// in V\n",
"V_BE = 0;// in V\n",
"R_B = 470;// in kohm\n",
"R_B = R_B * 10^3;// in ohm \n",
"I_B = (V_BB - V_BE)/R_B;// in A\n",
"bita = 200;\n",
"I_C = bita*I_B;// in A\n",
"V_CC = 10;// in V\n",
"R_C = 820;// in ohm\n",
"V_CE = V_CC  - (I_C*R_C);// in V\n",
"disp('Part (a) : For ideal approximation')\n",
"disp(V_CE,'The collector emitter voltage in V is');\n",
"P_D = V_CE * I_C;// in W\n",
"disp(P_D*10^3,'Power dissipation in mW is');\n",
"disp('Part (b) : For second approximation')\n",
"V_BE = 0.7;// in V\n",
"I_B = (V_BB-V_BE)/R_B;// in A\n",
"I_C = bita*I_B;// in A\n",
"V_CE = V_CC - (I_C*R_C);// in V\n",
"disp(V_CE,'The collector emitter voltage in V is');\n",
"P_D = V_CE * I_C;// in W\n",
"disp(P_D*10^3,'Power dissipation in mW is');"
   ]
   }
,
{
		   "cell_type": "markdown",
		   "metadata": {},
		   "source": [
			"## Example 4.33: Collector_emitter_voltage.sce"
		   ]
		  },
  {
"cell_type": "code",
	   "execution_count": null,
	   "metadata": {
	    "collapsed": true
	   },
	   "outputs": [],
"source": [
"// Exa 4.33\n",
"clc;\n",
"clear;\n",
"close;\n",
"// Given data\n",
"V_BE = 0;// in V\n",
"V_BB = 12;// in V\n",
"R_B = 680;// in kohm\n",
"R_B = R_B * 10^3;// in ohm\n",
"I_B = (V_BB-V_BE)/R_B;// in A\n",
"beta_dc = 175;\n",
"I_C = beta_dc*I_B;// in A\n",
"V_CC = 12;// in V\n",
"R_C = 1.5;// in kohm\n",
"R_C = R_C * 10^3;// in ohm\n",
"V_CE = V_CC - (I_C*R_C);// in V\n",
"disp('Part (a) For ideal approximation')\n",
"disp(V_CE,'The collector emitter voltage in V is');\n",
"P_D = V_CE * I_C;// in mW\n",
"disp(P_D*10^3,'Transistor power in mW is');\n",
"disp('Part (b) For second approximation')\n",
"V_BE1 = 0.7;// in V\n",
"I_B = (V_BB-V_BE1)/R_B;// in A\n",
"I_C = beta_dc * I_B;// in A\n",
"V_CE = V_CC - (I_C*R_C);// in V\n",
"disp(V_CE,'Collector emitter voltage in V is');\n",
"P_D = V_CE * I_C;// in W\n",
"disp(P_D*10^3,'Power dissipation in mW is'); "
   ]
   }
,
{
		   "cell_type": "markdown",
		   "metadata": {},
		   "source": [
			"## Example 4.34: Load_line.sce"
		   ]
		  },
  {
"cell_type": "code",
	   "execution_count": null,
	   "metadata": {
	    "collapsed": true
	   },
	   "outputs": [],
"source": [
"// Exa 4.34\n",
"clc;\n",
"clear;\n",
"close;\n",
"// Given data\n",
"V_CC = 20;// in V\n",
"R_C = 3.3;// in kohm\n",
"R_C = R_C * 10^3;// in ohm\n",
"I_C = V_CC/R_C;// in A\n",
"disp(I_C*10^3,'Collector current in mA is');\n",
"V_CE = V_CC;// in V\n",
"disp(V_CE,'Collector emitter voltage in V is');\n",
"V_CE=0:0.1:20 ;// in V\n",
"I_C= (V_CC-V_CE)/(R_C*10^-3);// in mA\n",
"plot(V_CE,I_C);\n",
"xlabel('V_CE in volts')\n",
"ylabel('I_C in mA')\n",
"title('DC load line')\n",
"disp('DC load line shown in figure')"
   ]
   }
,
{
		   "cell_type": "markdown",
		   "metadata": {},
		   "source": [
			"## Example 4.35: Voltage_between_collector_and_ground.sce"
		   ]
		  },
  {
"cell_type": "code",
	   "execution_count": null,
	   "metadata": {
	    "collapsed": true
	   },
	   "outputs": [],
"source": [
"// Exa 4.35\n",
"clc;\n",
"clear;\n",
"close;\n",
"// Given data\n",
"V_BB = 10;// in V\n",
"V_BE = 0.7;// in V\n",
"R_B = 1;// in kohm\n",
"R_B = 1 * 10^6;// in ohm\n",
"I_B = (V_BB-V_BE)/R_B;// in A\n",
"disp(I_B*10^6,'The base current in µA is');\n",
"beta_dc = 200;\n",
"I_C = beta_dc * I_B;// in A\n",
"disp(I_C*10^3,'The collector current in mA is');\n",
"V_CC = 20;// in V\n",
"R_C = 3.3;// in kohm\n",
"R_C = R_C * 10^3;// in ohm\n",
"V_CE = V_CC - I_C*R_C;// in V\n",
"disp(V_CE,'The collector voltage in V is');"
   ]
   }
,
{
		   "cell_type": "markdown",
		   "metadata": {},
		   "source": [
			"## Example 4.36: Voltage_between_collector_and_ground.sce"
		   ]
		  },
  {
"cell_type": "code",
	   "execution_count": null,
	   "metadata": {
	    "collapsed": true
	   },
	   "outputs": [],
"source": [
"// Exa 4.36\n",
"clc;\n",
"clear;\n",
"close;\n",
"// Given data\n",
"V_BB = 5;// in V\n",
"V_BE = 0.7;// in V\n",
"R_B = 680;// in kohm\n",
"R_B = 680*10^3;// in ohm\n",
"I_B = (V_BB-V_BE)/R_B;// in A\n",
"disp(I_B*10^6,'The base current in µA is : ')\n",
"beta_dc= 150;\n",
"I_C = beta_dc * I_B;// in A\n",
"disp(I_C*10^3,'The collector current in mA is');\n",
"V_CC = 5;// in V\n",
"R_C = 470;// in ohm\n",
"V_CE = V_CC-(I_C*R_C);// in V\n",
"disp(V_CE,'Voltage between collector and ground in V is ');"
   ]
   }
,
{
		   "cell_type": "markdown",
		   "metadata": {},
		   "source": [
			"## Example 4.37: Collector_voltage.sce"
		   ]
		  },
  {
"cell_type": "code",
	   "execution_count": null,
	   "metadata": {
	    "collapsed": true
	   },
	   "outputs": [],
"source": [
"// Exa 4.37\n",
"clc;\n",
"clear;\n",
"close;\n",
"// Given data\n",
"V_BB = 2.5;// in V\n",
"V_BE = 0.7;// in V\n",
"V_E = V_BB-V_BE;// in V\n",
"disp(V_E,'The emitter voltage in V is');\n",
"R_E = 1.8;// in kohm\n",
"R_E = R_E * 10^3;// in ohm\n",
"I_E = V_E/R_E;// in A\n",
"I_C= I_E;// in A\n",
"V_CC = 20;// in V\n",
"R_C = 10;// in kohm\n",
"R_C = R_C * 10^3;// in ohm\n",
"V_C = V_CC-(I_C*R_C);// in V\n",
"disp(V_C,'The collector voltage in V is');"
   ]
   }
,
{
		   "cell_type": "markdown",
		   "metadata": {},
		   "source": [
			"## Example 4.38: Emitter_voltage.sce"
		   ]
		  },
  {
"cell_type": "code",
	   "execution_count": null,
	   "metadata": {
	    "collapsed": true
	   },
	   "outputs": [],
"source": [
"// Exa 4.38\n",
"clc;\n",
"clear;\n",
"close;\n",
"// Given data\n",
"V_CC = 25;// in V\n",
"R2 = 2.2;// in kohm\n",
"R1 = 10;// in kohm\n",
"V_BB = (V_CC * R2)/(R1+R2);// in V\n",
"V_BE = 0.7;// in V\n",
"V_E = V_BB - V_BE;// in V\n",
"disp(V_E,'The emitter voltage in V is');\n",
"R_E = 1;// in kohm\n",
"R_E = R_E * 10^3;// in ohm\n",
"I_E = V_E/R_E;// in A\n",
"I_C= I_E;// in A\n",
"V_CC = 25;// in V\n",
"R_C = 3.6;// in kohm\n",
"R_C = R_C * 10^3;// in ohm\n",
"V_C = V_CC - (I_C*R_C);// in V\n",
"disp(V_C,'Collector voltage in V is');"
   ]
   }
,
{
		   "cell_type": "markdown",
		   "metadata": {},
		   "source": [
			"## Example 4.39: Q_point.sce"
		   ]
		  },
  {
"cell_type": "code",
	   "execution_count": null,
	   "metadata": {
	    "collapsed": true
	   },
	   "outputs": [],
"source": [
"// Exa 4.39\n",
"clc;\n",
"clear;\n",
"close;\n",
"// Given data\n",
"V_BB = 4.50;// in V\n",
"V_E = 3.8;// in V\n",
"V_C = 11.32;// in V\n",
"I_C = 3.8;// in mA\n",
"I_C=I_C*10^-3;// in A\n",
"V_BE = 0.7;// in V\n",
"R1 = 10;// in kohm\n",
"R2 = 2.2;// in kohm\n",
"R_B = (R1*R2)/(R1+R2);// in kohm\n",
"R_B = R_B * 10^3;// in ohm\n",
"I_B = (V_BB-V_BE)/R_B;// in A\n",
"disp(I_B*10^3,'The base current in mA is');\n",
"V_CE = V_C-V_E;// in V\n",
"disp(V_CE,'Collector emitter voltage in V is');\n",
"disp('Thus the Q-point is : '+string(V_CE)+' V, '+string(I_B*10^3)+' mA') ;\n",
"\n",
"// Note: There is calculation error to evaluate the value of I_B. So the answer in the book is wrong."
   ]
   }
,
{
		   "cell_type": "markdown",
		   "metadata": {},
		   "source": [
			"## Example 4.3: The_value_of_bita.sce"
		   ]
		  },
  {
"cell_type": "code",
	   "execution_count": null,
	   "metadata": {
	    "collapsed": true
	   },
	   "outputs": [],
"source": [
"// Example 4.3\n",
"clc;\n",
"clear;\n",
"close;\n",
"// Given data\n",
"// Part (i)\n",
"a= 0.90;\n",
"B=a/(1-a);\n",
"disp(B,'At alpha= 0.90, the value of Bita is : ') \n",
"// Part (ii)\n",
"a= 0.99;\n",
"B=a/(1-a);\n",
"disp(B,'At alpha= 0.99, the value of Bita is : ') "
   ]
   }
,
{
		   "cell_type": "markdown",
		   "metadata": {},
		   "source": [
			"## Example 4.4: Alpha_rating.sce"
		   ]
		  },
  {
"cell_type": "code",
	   "execution_count": null,
	   "metadata": {
	    "collapsed": true
	   },
	   "outputs": [],
"source": [
"// Example 4.4\n",
"clc;\n",
"clear;\n",
"close;\n",
"// Given data\n",
"bita= 50;\n",
"I_E= 10;// in mA\n",
"I_B= 200*10^-3;// in mA\n",
"alfa= bita/(1+bita)\n",
"disp(alfa,'The value of alfa is : ')\n",
"I_C= alfa*I_E;// in mA\n",
"disp(I_C,'The value of I_C in mA using the value of alpha is : ')\n",
"I_C= bita*I_B;// in mA\n",
"disp(I_C,'The value of I_C in mA using the value of bita is : ')"
   ]
   }
,
{
		   "cell_type": "markdown",
		   "metadata": {},
		   "source": [
			"## Example 4.5: The_value_of_IB_IC_VCE_and_PD.sce"
		   ]
		  },
  {
"cell_type": "code",
	   "execution_count": null,
	   "metadata": {
	    "collapsed": true
	   },
	   "outputs": [],
"source": [
"// Example 4.5\n",
"clc;\n",
"clear;\n",
"close;\n",
"// Given data\n",
"V_BB= 10;// in V\n",
"V_CC= 10;// in V\n",
"V_BE= 0.7;// in V\n",
"R_B= 1;// in MΩ\n",
"R_B= R_B*10^6;// in Ω\n",
"R_C= 2;// in kΩ\n",
"R_C= R_C*10^3;// in Ω\n",
"bita= 300;\n",
"I_B= (V_BB-V_BE)/R_B;// in A\n",
"I_C= bita*I_B;// in A\n",
"V_CE= V_CC-I_C*R_C;// in V\n",
"P_D= V_CE*I_C;// in W\n",
"disp(I_B*10^6,'The value of I_B in µA is : ')\n",
"disp(I_C*10^3,'The value of I_C in mA is : ')\n",
"disp(V_CE,'The value of V_CE in volts is : ')\n",
"disp(P_D*10^3,'The value of P_D in mW is :')"
   ]
   }
,
{
		   "cell_type": "markdown",
		   "metadata": {},
		   "source": [
			"## Example 4.6: Collector_current.sce"
		   ]
		  },
  {
"cell_type": "code",
	   "execution_count": null,
	   "metadata": {
	    "collapsed": true
	   },
	   "outputs": [],
"source": [
"// Example 4.6\n",
"clc;\n",
"clear;\n",
"close;\n",
"// Given data\n",
"bita= 100;\n",
"V_BE= 0;// in V\n",
"V_BB= 15;// in V\n",
"R_B= 470;// in kΩ\n",
"R_B= R_B*10^3;// in Ω\n",
"V_CC= 15;// in V\n",
"R_C= 3.6;// in kΩ\n",
"R_C= R_C*10^3;// in Ω\n",
"I_B= (V_BB-V_BE)/R_B;// in A\n",
"I_C= bita*I_B;// in A\n",
"V_CE= V_CC-I_C*R_C;// in V\n",
"I_E= I_C+I_B;// in A\n",
"disp(I_B*10^6,'The base current in µA is : ')\n",
"disp(I_C*10^3,'The collector current in mA is : ')\n",
"disp(V_CE,'The value of V_CE in volts is : ')\n",
"disp(I_E*10^3,'The emitter current in mA is ; ')"
   ]
   }
,
{
		   "cell_type": "markdown",
		   "metadata": {},
		   "source": [
			"## Example 4.7: Collector_emitter_voltage.sce"
		   ]
		  },
  {
"cell_type": "code",
	   "execution_count": null,
	   "metadata": {
	    "collapsed": true
	   },
	   "outputs": [],
"source": [
"// Example 4.7\n",
"clc;\n",
"clear;\n",
"close;\n",
"// Given data\n",
"bita= 100;\n",
"V_BE= 0.7;// in V\n",
"V_BB= 15;// in V\n",
"R_B= 470;// in kΩ\n",
"R_B= R_B*10^3;// in Ω\n",
"V_CC= 15;// in V\n",
"R_C= 3.6;// in kΩ\n",
"R_C= R_C*10^3;// in Ω\n",
"I_B= (V_BB-V_BE)/R_B;// in A\n",
"I_C= bita*I_B;// in A\n",
"V_CE= V_CC-I_C*R_C;// in V\n",
"disp(I_B*10^6,'The base current in µA is : ')\n",
"disp(I_C*10^3,'The collector current in mA is : ')\n",
"disp(V_CE,'The value of V_CE in volts is : ')\n",
""
   ]
   }
,
{
		   "cell_type": "markdown",
		   "metadata": {},
		   "source": [
			"## Example 4.8: DC_load_line_and_operating_point.sce"
		   ]
		  },
  {
"cell_type": "code",
	   "execution_count": null,
	   "metadata": {
	    "collapsed": true
	   },
	   "outputs": [],
"source": [
"// Example 4.8\n",
"clc;\n",
"clear;\n",
"close;\n",
"// Given data\n",
"V_CC= 15;// in V\n",
"V_BE= 0.7;// in V\n",
"R_C= 1;// in kΩ\n",
"R_C= R_C*10^3;// in Ω\n",
"R_E= 2;// in kΩ\n",
"R_E= R_E*10^3;// in Ω\n",
"R1= 10;// in kΩ\n",
"R1= R1*10^3;// in Ω\n",
"R2= 5;// in kΩ\n",
"R2= R2*10^3;// in Ω\n",
"V_CE= 0:0.1:V_CC\n",
"I_C= (V_CC-V_CE)/(R_C+R_E)*10^3;// in mA\n",
"plot(V_CE,I_C);\n",
"xlabel('V_CE in volts');\n",
"ylabel('I_C in mA');\n",
"title('DC load line');\n",
"V_B= V_CC*R2/(R1+R2);// in V\n",
"I_E= (V_B-V_BE)/R_E;// in A\n",
"I_C= I_E;// in A\n",
"I_CQ= I_C;// in A\n",
"V_CE= V_CC-I_C*(R_C+R_E);// in V\n",
"disp('Q-point is : '+string(V_CE)+' V, '+string(I_CQ*10^3)+' mA')\n",
"disp('DC load line shown in figure')"
   ]
   }
,
{
		   "cell_type": "markdown",
		   "metadata": {},
		   "source": [
			"## Example 4.9: Emitter_current.sce"
		   ]
		  },
  {
"cell_type": "code",
	   "execution_count": null,
	   "metadata": {
	    "collapsed": true
	   },
	   "outputs": [],
"source": [
"// Example 4.9\n",
"clc;\n",
"clear;\n",
"close;\n",
"// Given data\n",
"V_BB= 1.8;// in V\n",
"V_BE= 0.7;// in V\n",
"R1= 10;// in kΩ\n",
"R2= 2.2;// in kΩ\n",
"R_E= 1;// in kΩ\n",
"bita= 200;\n",
"R= R1*R2/(R1+R2);// in kΩ\n",
"R=R*10^3;// in Ω\n",
"R_E= R_E*10^3;// in Ω\n",
"I_E= (V_BB-V_BE)/(R_E+R/bita);// in mA\n",
"disp(I_E*10^3,'The emitter current in mA is : ')\n",
"disp('This is extremely close to 1.1 mA, the value we get with the simplified analysis.')"
   ]
   }
],
"metadata": {
		  "kernelspec": {
		   "display_name": "Scilab",
		   "language": "scilab",
		   "name": "scilab"
		  },
		  "language_info": {
		   "file_extension": ".sce",
		   "help_links": [
			{
			 "text": "MetaKernel Magics",
			 "url": "https://github.com/calysto/metakernel/blob/master/metakernel/magics/README.md"
			}
		   ],
		   "mimetype": "text/x-octave",
		   "name": "scilab",
		   "version": "0.7.1"
		  }
		 },
		 "nbformat": 4,
		 "nbformat_minor": 0
}
