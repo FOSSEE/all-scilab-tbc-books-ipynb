{
"cells": [
 {
		   "cell_type": "markdown",
	   "metadata": {},
	   "source": [
       "# Chapter 8: Operational Amplifiers"
	   ]
	},
{
		   "cell_type": "markdown",
		   "metadata": {},
		   "source": [
			"## Example 8.10: Output_voltage.sce"
		   ]
		  },
  {
"cell_type": "code",
	   "execution_count": null,
	   "metadata": {
	    "collapsed": true
	   },
	   "outputs": [],
"source": [
"// Exa 8.10\n",
"clc;\n",
"clear;\n",
"close;\n",
"// Given data\n",
"R_F = 3;// in kohm\n",
"R1 = 1;// in  kohm\n",
"V1 = 2;// in V\n",
"V2 = 3;// in V\n",
"V_o1 = (1+(R_F/R1))*V1;// in V\n",
"V_o2 = (1+(R_F/R1))*V2;// in V\n",
"V_o = V_o1+V_o2;// in V\n",
"disp(V_o,'The output voltage in V is');"
   ]
   }
,
{
		   "cell_type": "markdown",
		   "metadata": {},
		   "source": [
			"## Example 8.11: Range_of_voltage_gain.sce"
		   ]
		  },
  {
"cell_type": "code",
	   "execution_count": null,
	   "metadata": {
	    "collapsed": true
	   },
	   "outputs": [],
"source": [
"// exa 8.11\n",
"clc;\n",
"clear;\n",
"close;\n",
"// Given data\n",
"R_i = 10;// in kΩ \n",
"R_im = 20;// in kΩ\n",
"R_f = 500;// in kΩ\n",
"A_vmin = -(R_f/R_i);\n",
"disp(A_vmin,'Closed loop voltage gain corresponding to minimum resistance is');\n",
"A_vmax = -(R_f/R_im);\n",
"disp(A_vmax,'Closed loop voltage gain corresponding to maximum resistance is');"
   ]
   }
,
{
		   "cell_type": "markdown",
		   "metadata": {},
		   "source": [
			"## Example 8.12: Range_of_output_voltage.sce"
		   ]
		  },
  {
"cell_type": "code",
	   "execution_count": null,
	   "metadata": {
	    "collapsed": true
	   },
	   "outputs": [],
"source": [
"// Exa 8.12\n",
"clc;\n",
"clear;\n",
"close;\n",
"// Given data\n",
"R_f = 200;// in  kohm\n",
"R1 = 20;// in kohm\n",
"A_v = -(R_f/R1);\n",
"V_i = 0.1;// in V\n",
"V_im = 0.5;// in V\n",
"V_omin = -10*V_i;// in V\n",
"disp(V_omin,'The minimum output voltage in V is');\n",
"V_omax = -10*V_im;// in V\n",
"disp(V_omax,'The maximum output voltage in V is');\n",
"disp('Output voltage ranges from '+string(V_omin)+' to '+string(V_omax))"
   ]
   }
,
{
		   "cell_type": "markdown",
		   "metadata": {},
		   "source": [
			"## Example 8.13: Output_waveform.sce"
		   ]
		  },
  {
"cell_type": "code",
	   "execution_count": null,
	   "metadata": {
	    "collapsed": true
	   },
	   "outputs": [],
"source": [
"// exa 8.13\n",
"clc;\n",
"clear;\n",
"close;\n",
"// Given data\n",
"R = 133;// in kohm\n",
"R = R *10^3;// in ohm\n",
"C = 0.1;// in µF\n",
"C = 0.1 * 10^-6;// in F\n",
"Vi= 1.5;// in V\n",
"t=0:0.1:1;\n",
"subplot(2,1,1)\n",
"plot(t,Vi);\n",
"ylabel('Vi in volts')\n",
"xlabel('t')\n",
"title('Input voltage');\n",
"t= 0:0.1:1;\n",
"Vo= -1/(R*C)*t;\n",
"subplot(2,1,2)\n",
"plot(t,Vo)\n",
"xlabel('t');\n",
"ylabel('Vo in volts');\n",
"title('Output voltage')"
   ]
   }
,
{
		   "cell_type": "markdown",
		   "metadata": {},
		   "source": [
			"## Example 8.14: Value_of_R1_and_R2.sce"
		   ]
		  },
  {
"cell_type": "code",
	   "execution_count": null,
	   "metadata": {
	    "collapsed": true
	   },
	   "outputs": [],
"source": [
"// Exa 8.14\n",
"clc;\n",
"clear;\n",
"close;\n",
"// Given data\n",
"Rf = 250;// in kohm\n",
"Vo= '-5*Va+3*Vb';// given expression\n",
"// But output voltage of difference amplifier is \n",
"// Vo= -Rf/R1*Va+(R2/(R1+R2))*(1+Rf/R1)*Vb      (i)\n",
"// By comparing (i) with given expression\n",
"R1 = Rf/5;// in kohm\n",
"disp(R1,'The value of R1 in kΩ is : ');\n",
"// (R2/(R1+R2))*(1+Rf/R1)= 3\n",
"R2= 3*R1^2/(R1+Rf-3*R1);// in kΩ\n",
"disp(R2,'The value of R2 in kΩ is : ')\n",
"\n",
"// Note: There is calculation error to find the value of R2 in the book."
   ]
   }
,
{
		   "cell_type": "markdown",
		   "metadata": {},
		   "source": [
			"## Example 8.15: Output_voltage.sce"
		   ]
		  },
  {
"cell_type": "code",
	   "execution_count": null,
	   "metadata": {
	    "collapsed": true
	   },
	   "outputs": [],
"source": [
"// Exa 8.15\n",
"clc;\n",
"clear;\n",
"close;\n",
"// Given data\n",
"V_i1 = 150;// in µV\n",
"V_i2 = 140;// in µV\n",
"V_d = V_i1-V_i2;// in µV\n",
"V_C = (1/2)*(V_i1+V_i2);// in µV\n",
"disp('Part (i)')\n",
"CMRR = 100;\n",
"A_d = 4000;\n",
"V_o = (A_d * V_d)*(1+(1/CMRR)*(V_C/V_d));// in µV\n",
"V_o = V_o * 10^-3;// in mV\n",
"disp(V_o,'The output voltage in mV is');\n",
"disp('Part(ii)')\n",
"CMRR = 10^5;\n",
"V_o = (A_d * V_d)*(1+(1/CMRR)*(V_C/V_d));// in µV\n",
"V_o = V_o * 10^-3;// in mV\n",
"disp(V_o,'The output voltage in mV is');"
   ]
   }
,
{
		   "cell_type": "markdown",
		   "metadata": {},
		   "source": [
			"## Example 8.16: Output_voltage.sce"
		   ]
		  },
  {
"cell_type": "code",
	   "execution_count": null,
	   "metadata": {
	    "collapsed": true
	   },
	   "outputs": [],
"source": [
"// Exa 8.16\n",
"clc;\n",
"clear;\n",
"close;\n",
"// Given data\n",
"R_f = 470;// in kΩ\n",
"R1 = 4.3;// in kΩ\n",
"R2 = 33;// in kΩ\n",
"R3 = R2;// in kΩ\n",
"A1 = (1+R_f/R1);\n",
"A2 = -(R_f/R2);\n",
"A3 = -(R_f/R3);\n",
"A = A1*A2*A3;\n",
"V_i = 80;// in µV\n",
"V_i= 80*10^-6;// in V\n",
"V_o = A*V_i;\n",
"disp(V_o,'The output voltage in V is')"
   ]
   }
,
{
		   "cell_type": "markdown",
		   "metadata": {},
		   "source": [
			"## Example 8.18: Output_voltage.sce"
		   ]
		  },
  {
"cell_type": "code",
	   "execution_count": null,
	   "metadata": {
	    "collapsed": true
	   },
	   "outputs": [],
"source": [
"// Exa 8.18\n",
"clc;\n",
"clear;\n",
"close;\n",
"// Given data\n",
"R4 = 300;// in kΩ\n",
"R2 = 150;// in kΩ\n",
"R3 = 10;// in kΩ\n",
"R1 = 10;// in kΩ\n",
"V1 = 1;// in V\n",
"V2 = 2;// in V\n",
"V_o = ( (1+(R4/R2))*((R3/(R1+R3))*V1)-((R4/R2)*V2) );// in V\n",
"disp(V_o,'The output voltage in V is');"
   ]
   }
,
{
		   "cell_type": "markdown",
		   "metadata": {},
		   "source": [
			"## Example 8.19: Input_voltage.sce"
		   ]
		  },
  {
"cell_type": "code",
	   "execution_count": null,
	   "metadata": {
	    "collapsed": true
	   },
	   "outputs": [],
"source": [
"// Exa 8.19\n",
"clc;\n",
"clear;\n",
"close;\n",
"// Given data\n",
"V_o = 2;// in V\n",
"R_i = 20;// in kΩ\n",
"R_f = 1;// in MΩ\n",
"V_i = -((V_o*R_i)/R_f);// in mV\n",
"disp(V_i,'The input volatge in mV is');"
   ]
   }
,
{
		   "cell_type": "markdown",
		   "metadata": {},
		   "source": [
			"## Example 8.1: Value_of_Rf.sce"
		   ]
		  },
  {
"cell_type": "code",
	   "execution_count": null,
	   "metadata": {
	    "collapsed": true
	   },
	   "outputs": [],
"source": [
"// Exa 8.1\n",
"clc;\n",
"clear;\n",
"close;\n",
"// Given data\n",
"A_V = -100;\n",
"R1 = 2.2;// in kohm\n",
"R1 = R1*10^3;// in ohm\n",
"R_f =-( A_V*R1);// in ohm\n",
"R_f = R_f * 10^-3;// in kohm\n",
"disp(R_f,'The resistance value in kΩ is');"
   ]
   }
,
{
		   "cell_type": "markdown",
		   "metadata": {},
		   "source": [
			"## Example 8.20: Range_of_output_voltage.sce"
		   ]
		  },
  {
"cell_type": "code",
	   "execution_count": null,
	   "metadata": {
	    "collapsed": true
	   },
	   "outputs": [],
"source": [
"// Exa 8.20\n",
"clc;\n",
"clear;\n",
"close;\n",
"// Given data\n",
"R_f = 200;// in kΩ\n",
"R_i = 30;// in kΩ\n",
"V_i = 0.1;// in V\n",
"V_im = 0.5;// in V\n",
"Vo_min = -((R_f/R_i)*V_i);// in V\n",
"disp(Vo_min,'The minimum output voltage in V is');\n",
"Vo_max = -((R_f/R_i)*V_im);// in V\n",
"disp(Vo_max,'The minimum output voltage in V is');\n",
"disp('The output voltage range is : '+string(Vo_min)+' V to '+string(Vo_max)+' V')"
   ]
   }
,
{
		   "cell_type": "markdown",
		   "metadata": {},
		   "source": [
			"## Example 8.21: Output_voltage.sce"
		   ]
		  },
  {
"cell_type": "code",
	   "execution_count": null,
	   "metadata": {
	    "collapsed": true
	   },
	   "outputs": [],
"source": [
"// Exa 8.21\n",
"clc;\n",
"clear;\n",
"close;\n",
"// Given data\n",
"R_f = 360;// in kohm\n",
"R_i = 12;// in kohm\n",
"V1 = - 0.3;// in V\n",
"V_o = (1+(R_f/R_i))*V1;// in V\n",
"disp(V_o,'The output voltage in V is');\n",
"V_o1 = 2.4;// in V\n",
"V_i = V_o1/(1+(R_f/R_i));// in V\n",
"disp(V_i*10^3,'The input voltage in mV is');"
   ]
   }
,
{
		   "cell_type": "markdown",
		   "metadata": {},
		   "source": [
			"## Example 8.22: Output_voltage.sce"
		   ]
		  },
  {
"cell_type": "code",
	   "execution_count": null,
	   "metadata": {
	    "collapsed": true
	   },
	   "outputs": [],
"source": [
"// Exa 8.22\n",
"clc;\n",
"clear;\n",
"close;\n",
"// Given data\n",
"R_f = -68;// in kohm\n",
"R1 = 33;// in kohm\n",
"R2 = 22;// in kohm\n",
"R3 = 12;// in kohm\n",
"V1 = 0.2;// in V\n",
"V2 = - 0.5;// in V\n",
"V3 = 0.8;// in V\n",
"V_o = ((R_f/R1)*V1) + ((R_f/R2)*V2) + ((R_f/R3)*V3);// in V\n",
"disp(V_o,'The output voltage in V is');"
   ]
   }
,
{
		   "cell_type": "markdown",
		   "metadata": {},
		   "source": [
			"## Example 8.23: Closed_loop_voltage_gain_and_bandwidth.sce"
		   ]
		  },
  {
"cell_type": "code",
	   "execution_count": null,
	   "metadata": {
	    "collapsed": true
	   },
	   "outputs": [],
"source": [
"// Exa 8.23\n",
"clc;\n",
"clear;\n",
"close;\n",
"// Given data\n",
"R_f = 1.8;// in kohm\n",
"R_f = R_f * 10^3;// in ohm\n",
"R1 = 180;// in ohm\n",
"A_v = (R_f/R1);\n",
"disp(A_v,'Closed loop gain is');\n",
"F = 1;// in MHz\n",
"F = F * 10^6;// in Hz\n",
"f2 = F/A_v;// in Hz\n",
"disp(f2,'Closed loop bandwidth in Hz is');\n",
"V_in = 25;// in mV\n",
"V_in = V_in * 10^-3;// in V\n",
"V_o = A_v*V_in;// in V\n",
"disp(V_o,'The output voltage in V is');"
   ]
   }
,
{
		   "cell_type": "markdown",
		   "metadata": {},
		   "source": [
			"## Example 8.24: Closed_loop_voltage_gain_and_bandwidth_and_output_voltage.sce"
		   ]
		  },
  {
"cell_type": "code",
	   "execution_count": null,
	   "metadata": {
	    "collapsed": true
	   },
	   "outputs": [],
"source": [
"// Exa 8.24\n",
"clc;\n",
"clear;\n",
"close;\n",
"// Given data\n",
"R_f = 3;// in K ohm\n",
"R_f = R_f * 10^3;// in ohm\n",
"R1 = 150;// in ohm\n",
"A_v = (R_f/R1) + 1;\n",
"disp(A_v,'Close loop gain for inverting amplifier is');\n",
"f = 1;// in MHz\n",
"f = f * 10^6;// in Hz\n",
"f2 = f/A_v;// in Hz\n",
"f2 = f2 * 10^-3;// in KHz\n",
"disp(f2,'The closed loop bandwidth in KHz is');"
   ]
   }
,
{
		   "cell_type": "markdown",
		   "metadata": {},
		   "source": [
			"## Example 8.2: Output_voltage.sce"
		   ]
		  },
  {
"cell_type": "code",
	   "execution_count": null,
	   "metadata": {
	    "collapsed": true
	   },
	   "outputs": [],
"source": [
"// Exa 8.2\n",
"clc;\n",
"clear;\n",
"close;\n",
"// Given data\n",
"R_f = 200;// in kohm \n",
"R1 = 2;// in kohm\n",
"A_V = - (R_f/R1);\n",
"V_in = 2.5;// in mV\n",
"V_in= V_in*10^-3;// in V\n",
"V_o = (A_V * V_in);// in V\n",
"disp(V_o,'The output voltage in V is');"
   ]
   }
,
{
		   "cell_type": "markdown",
		   "metadata": {},
		   "source": [
			"## Example 8.3: Output_voltage.sce"
		   ]
		  },
  {
"cell_type": "code",
	   "execution_count": null,
	   "metadata": {
	    "collapsed": true
	   },
	   "outputs": [],
"source": [
"// Exa 8.3\n",
"clc;\n",
"clear;\n",
"close;\n",
"// Given data\n",
"V1 = 2;// in V\n",
"R_f = 500;// in kohm\n",
"R_f = R_f*10^3;// in ohm\n",
"R1 = 100;// in kohm\n",
"R1 = R1 * 10^3;// in ohm\n",
"V_o = (1+(R_f/R1))*V1;// in V\n",
"disp(V_o,'The output voltage in V is');"
   ]
   }
,
{
		   "cell_type": "markdown",
		   "metadata": {},
		   "source": [
			"## Example 8.4: Output_voltage.sce"
		   ]
		  },
  {
"cell_type": "code",
	   "execution_count": null,
	   "metadata": {
	    "collapsed": true
	   },
	   "outputs": [],
"source": [
"// Exa 8.4\n",
"clc;\n",
"clear;\n",
"close;\n",
"// Given data\n",
"R_f = 1;// in Mohm\n",
"R_f = R_f * 10^6;// in ohm\n",
"disp('Part (a)')\n",
"V1 = 1;// in V\n",
"V2 = 2;// in V\n",
"V3 = 3;// in V\n",
"R1 = 500;// in kohm\n",
"R1 = R1 * 10^3;// in ohm\n",
"R2 = 1;// in Mohm\n",
"R2 = R2 * 10^6;// in ohm\n",
"R3 = 1;// in Mohm\n",
"R3 = R3 * 10^6;// in ohm\n",
"V_o = -(R_f) * ( (V1/R1)+(V2/R2)+(V3/R3) );// in V\n",
"disp(V_o,'The output voltage in V is');\n",
"\n",
"disp('Part (b)')\n",
"V1 = -2;// in V\n",
"V2 = 3;// in V\n",
"V3 = 1;// in V\n",
"R1 = 200;// in kohm\n",
"R1 = R1 * 10^3;// in ohm\n",
"R2 = 500;// in kohm\n",
"R2 = R2 * 10^3;// in ohm\n",
"R3 = 1;// in Mohm\n",
"R3 = R3 * 10^6;// in ohm\n",
"V_o = -(R_f) * ( (V1/R1)+(V2/R2)+(V3/R3) );// in V\n",
"disp(V_o,'The output voltage in V is');"
   ]
   }
,
{
		   "cell_type": "markdown",
		   "metadata": {},
		   "source": [
			"## Example 8.6: Output_voltage.sce"
		   ]
		  },
  {
"cell_type": "code",
	   "execution_count": null,
	   "metadata": {
	    "collapsed": true
	   },
	   "outputs": [],
"source": [
"// Exa 8.6\n",
"clc;\n",
"clear;\n",
"close;\n",
"// Given data\n",
"R_f = 0;// in V\n",
"R1 = 2;// in kohm\n",
"R1 = R1 * 10^3;// in ohm\n",
"A_vmin = (1+(R_f/R1));\n",
"disp(A_vmin,'The minimum closed loop voltage gain is');\n",
"R_f1 = 100;// in kohm\n",
"R_f1 = R_f1 * 10^3;// in ohm\n",
"A_vmax = (1+(R_f1/R1));\n",
"disp(A_vmax,'The maximum closed loop voltage gain is');"
   ]
   }
,
{
		   "cell_type": "markdown",
		   "metadata": {},
		   "source": [
			"## Example 8.7: Output_voltage.sce"
		   ]
		  },
  {
"cell_type": "code",
	   "execution_count": null,
	   "metadata": {
	    "collapsed": true
	   },
	   "outputs": [],
"source": [
"// Exa 8.7\n",
"clc;\n",
"clear;\n",
"close;\n",
"// Given data\n",
"V1 = 745;// in µV\n",
"V1 = V1 * 10^-6;// in V\n",
"V2 = 740;// in µV\n",
"V2 = V2 * 10^-6;// in V\n",
"Av = 5*10^5;\n",
"CMRR = 80;// in dB\n",
"// Formula CMRR in dB= 20*log(Av/Ac)\n",
"Ac= Av/(10^(CMRR/20));\n",
"disp(Ac,'The common mode gain is');\n",
"V_o = Av*(V1-V2)+Ac*((V1+V2)/2);// in V\n",
"disp(V_o,'The output voltage in V is');\n",
"\n",
"// Note: In the book the calculation of finding the value of common mode gain  (i.e. Ac) is wrong, so the answer in the book is wrong"
   ]
   }
,
{
		   "cell_type": "markdown",
		   "metadata": {},
		   "source": [
			"## Example 8.8: Voltage_gain_of_the_amplifier.sce"
		   ]
		  },
  {
"cell_type": "code",
	   "execution_count": null,
	   "metadata": {
	    "collapsed": true
	   },
	   "outputs": [],
"source": [
"// Exa 8.8\n",
"clc;\n",
"clear;\n",
"close;\n",
"// Given data\n",
"R_f = 1;// in Mohm\n",
"R_f = R_f * 10^6;// in ohm\n",
"Ri= 1*10^6;// in ohm\n",
"R1 = Ri;// in ohm\n",
"A_VF = -(R_f/R1);\n",
"disp(A_VF,'The Voltage gain is');"
   ]
   }
],
"metadata": {
		  "kernelspec": {
		   "display_name": "Scilab",
		   "language": "scilab",
		   "name": "scilab"
		  },
		  "language_info": {
		   "file_extension": ".sce",
		   "help_links": [
			{
			 "text": "MetaKernel Magics",
			 "url": "https://github.com/calysto/metakernel/blob/master/metakernel/magics/README.md"
			}
		   ],
		   "mimetype": "text/x-octave",
		   "name": "scilab",
		   "version": "0.7.1"
		  }
		 },
		 "nbformat": 4,
		 "nbformat_minor": 0
}
