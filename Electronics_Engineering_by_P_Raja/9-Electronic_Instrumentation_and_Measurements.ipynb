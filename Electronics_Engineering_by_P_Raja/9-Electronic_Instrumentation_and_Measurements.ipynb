{
"cells": [
 {
		   "cell_type": "markdown",
	   "metadata": {},
	   "source": [
       "# Chapter 9: Electronic Instrumentation and Measurements"
	   ]
	},
{
		   "cell_type": "markdown",
		   "metadata": {},
		   "source": [
			"## Example 9.1: Peak_to_peak_amplitude.sce"
		   ]
		  },
  {
"cell_type": "code",
	   "execution_count": null,
	   "metadata": {
	    "collapsed": true
	   },
	   "outputs": [],
"source": [
"// Exa 9.1\n",
"clc;\n",
"clear;\n",
"close;\n",
"// Given data\n",
"scale= 5;// in mV/cm\n",
"gh= 5.2;//amplitude of the graph in cm\n",
"PtoPamplitude= gh*scale;// in mV\n",
"disp(PtoPamplitude,'Peak-to-peak amplitude in mV is : ')"
   ]
   }
,
{
		   "cell_type": "markdown",
		   "metadata": {},
		   "source": [
			"## Example 9.2: Amplitude_of_the_pulse_signal.sce"
		   ]
		  },
  {
"cell_type": "code",
	   "execution_count": null,
	   "metadata": {
	    "collapsed": true
	   },
	   "outputs": [],
"source": [
"// Exa 9.2\n",
"clc;\n",
"clear;\n",
"close;\n",
"// Given data\n",
"scale= 100;// in mV/cm\n",
"gh= 5.2;//amplitude of the graph in cm\n",
"PtoPamplitude= gh*scale;// in mV\n",
"disp(PtoPamplitude*10^-3,'Peak-to-peak amplitude in V is : ')"
   ]
   }
,
{
		   "cell_type": "markdown",
		   "metadata": {},
		   "source": [
			"## Example 9.3: Period_of_the_waveform.sce"
		   ]
		  },
  {
"cell_type": "code",
	   "execution_count": null,
	   "metadata": {
	    "collapsed": true
	   },
	   "outputs": [],
"source": [
"// Exa 9.3\n",
"clc;\n",
"clear;\n",
"close;\n",
"// Given data\n",
"scale= 20;// in µS/cm\n",
"gh= 3.2;//amplitude of the graph in cm\n",
"T= gh*scale;// in mV\n",
"disp(T,'The period of the waveform in µS is : ')"
   ]
   }
,
{
		   "cell_type": "markdown",
		   "metadata": {},
		   "source": [
			"## Example 9.4: Pulse_delay.sce"
		   ]
		  },
  {
"cell_type": "code",
	   "execution_count": null,
	   "metadata": {
	    "collapsed": true
	   },
	   "outputs": [],
"source": [
"// Exa 9.4\n",
"clc;\n",
"clear;\n",
"close;\n",
"// Given data\n",
"scale= 50;// in µS/cm\n",
"gh= 2;//amplitude of the graph in cm\n",
"T_PD= gh*scale;// in mV\n",
"disp(T_PD,'The pulse delay for the waveform in µs is : ')"
   ]
   }
,
{
		   "cell_type": "markdown",
		   "metadata": {},
		   "source": [
			"## Example 9.5: Pulse_width_of_the_waveform.sce"
		   ]
		  },
  {
"cell_type": "code",
	   "execution_count": null,
	   "metadata": {
	    "collapsed": true
	   },
	   "outputs": [],
"source": [
"// Exa 9.5\n",
"clc;\n",
"clear;\n",
"close;\n",
"// Given data\n",
"scale= 2;// in µS/cm\n",
"gh= 4.6;//amplitude of the graph in cm\n",
"T_PQ= gh*scale;// in mV\n",
"disp(T_PQ,'The pulse width of the waveform in µs is : ')"
   ]
   }
],
"metadata": {
		  "kernelspec": {
		   "display_name": "Scilab",
		   "language": "scilab",
		   "name": "scilab"
		  },
		  "language_info": {
		   "file_extension": ".sce",
		   "help_links": [
			{
			 "text": "MetaKernel Magics",
			 "url": "https://github.com/calysto/metakernel/blob/master/metakernel/magics/README.md"
			}
		   ],
		   "mimetype": "text/x-octave",
		   "name": "scilab",
		   "version": "0.7.1"
		  }
		 },
		 "nbformat": 4,
		 "nbformat_minor": 0
}
