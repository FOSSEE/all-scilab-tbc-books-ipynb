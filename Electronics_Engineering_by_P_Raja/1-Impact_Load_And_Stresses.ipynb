{
"cells": [
 {
		   "cell_type": "markdown",
	   "metadata": {},
	   "source": [
       "# Chapter 1: Impact Load And Stresses"
	   ]
	},
{
		   "cell_type": "markdown",
		   "metadata": {},
		   "source": [
			"## Example 1.10: DC_resistance_levels.sce"
		   ]
		  },
  {
"cell_type": "code",
	   "execution_count": null,
	   "metadata": {
	    "collapsed": true
	   },
	   "outputs": [],
"source": [
"// Exa 1.10\n",
"clc;\n",
"clear;\n",
"close;\n",
"// Given data\n",
"I_D = 10;// in mA\n",
"I_D = I_D * 10^-3;// in A\n",
"V_D = 0.5;// in V\n",
"r_F1 = V_D/I_D;// in ohm\n",
"disp(r_F1,'The value of r_F1 in ohm is');\n",
"I_D = 20;// in mA\n",
"I_D = I_D * 10^-3;// in A\n",
"V_D = 0.8;// in V\n",
"r_F2 = V_D/I_D;// in ohm\n",
"disp(r_F2,'The value of r_F2 in ohm is');\n",
"I_D = -1;// in µA\n",
"I_D = I_D * 10^-6;// in A\n",
"V_D = -10;// in V \n",
"r_R = V_D/I_D;// in ohm\n",
"disp(r_R*10^-6,'The value of r_R in Mohm is');\n",
"\n",
"// Note: There is calculation error to evaluate the value of r_F1. So the asnwer in the book is wrong."
   ]
   }
,
{
		   "cell_type": "markdown",
		   "metadata": {},
		   "source": [
			"## Example 1.11: Value_of_ID_VD2_and_Vo.sce"
		   ]
		  },
  {
"cell_type": "code",
	   "execution_count": null,
	   "metadata": {
	    "collapsed": true
	   },
	   "outputs": [],
"source": [
"// Exa 1.11\n",
"clc;\n",
"clear;\n",
"close;\n",
"// Given data\n",
"R= 5.6*10^3;// in Ω\n",
"I_D = 0;// in A\n",
"V_D = 0;// in V\n",
"E= 12;// in V\n",
"Vo= I_D*R;// in V\n",
"disp(I_D,'The value of I_D in A is :');\n",
"disp(Vo,'The value of Vo in V is');\n",
"V_D1 = 0;// in V\n",
"V_D2 = E -V_D1 - Vo;// in  V\n",
"disp(V_D2,'The value of V_D2 in V is');"
   ]
   }
,
{
		   "cell_type": "markdown",
		   "metadata": {},
		   "source": [
			"## Example 1.12: Value_of_I1_I2_and_ID2.sce"
		   ]
		  },
  {
"cell_type": "code",
	   "execution_count": null,
	   "metadata": {
	    "collapsed": true
	   },
	   "outputs": [],
"source": [
"// Exa 1.12\n",
"clc;\n",
"clear;\n",
"close;\n",
"// Given data\n",
"E = 20;// in V\n",
"V_D1 = 0.7;// in V\n",
"V_D2 = 0.7;// in V\n",
"V2 = E - V_D1  - V_D2;// in V\n",
"R1 = 3.3*10^3;// in ohm\n",
"R2 = 5.6*10^3;// in ohm\n",
"I2 = V2/R2;// in A\n",
"I2 = I2*10^3;// in mA\n",
"disp(I2,'The current through resistor R2 in mA is ');\n",
"I1 = V_D2/R1;\n",
"I1 = I1 * 10^3;// in mA\n",
"disp(I1,'The current through resistor R1 in mA is');\n",
"I_D2 = I2-I1;// in mA\n",
"disp(I_D2,'The current through diode D2 in mA is');"
   ]
   }
,
{
		   "cell_type": "markdown",
		   "metadata": {},
		   "source": [
			"## Example 1.13: Output_voltage.sce"
		   ]
		  },
  {
"cell_type": "code",
	   "execution_count": null,
	   "metadata": {
	    "collapsed": true
	   },
	   "outputs": [],
"source": [
"// Exa 1.13\n",
"clc;\n",
"clear;\n",
"close;\n",
"// Given data\n",
"V1 = 12;// in V\n",
"V2 = 0.3;// in V\n",
"V_o = V1-V2;// in V\n",
"disp(V_o,'The output voltage in V is');"
   ]
   }
,
{
		   "cell_type": "markdown",
		   "metadata": {},
		   "source": [
			"## Example 1.14: Value_of_ID.sce"
		   ]
		  },
  {
"cell_type": "code",
	   "execution_count": null,
	   "metadata": {
	    "collapsed": true
	   },
	   "outputs": [],
"source": [
"// Exa 1.14\n",
"clc;\n",
"clear;\n",
"close;\n",
"// Given data\n",
"disp('Part (a) Analysis using approximate diode model')\n",
"V_D = 0.7;// in V\n",
"disp(V_D,'The value of V_D in V is');\n",
"E = 30;// in V\n",
"V_R = E-V_D;// in V\n",
"disp(V_R,'The value of V_R in V is');\n",
"R = 2.2 * 10^3;// in ohm\n",
"I_D = V_R/R;\n",
"I_D = I_D * 10^3;// in mA\n",
"disp(I_D,'The value of I_D in mA is');\n",
"disp('Part (b) Analysis using ideal diode model')\n",
"V_D = 0;// in V\n",
"disp(V_D,'The value of V_D in V is');\n",
"V_R = E;// in V\n",
"disp(V_R,'The value of V_R in V is');\n",
"I_D = V_R/R;\n",
"I_D = I_D * 10^3;// in mA\n",
"disp(I_D,'The value of I_D in mA is');"
   ]
   }
,
{
		   "cell_type": "markdown",
		   "metadata": {},
		   "source": [
			"## Example 1.15: Value_of_current.sce"
		   ]
		  },
  {
"cell_type": "code",
	   "execution_count": null,
	   "metadata": {
	    "collapsed": true
	   },
	   "outputs": [],
"source": [
"// Exa 1.15\n",
"clc;\n",
"clear;\n",
"close;\n",
"// Given data\n",
"V1 = 20;// in V\n",
"V2 = 0.7;// in V\n",
"V = V1-V2;// in V\n",
"R = 20;// in ohm\n",
"I = V/R;// in A\n",
"disp(I,'The current through resistance in A is');"
   ]
   }
,
{
		   "cell_type": "markdown",
		   "metadata": {},
		   "source": [
			"## Example 1.16: Output_voltage.sce"
		   ]
		  },
  {
"cell_type": "code",
	   "execution_count": null,
	   "metadata": {
	    "collapsed": true
	   },
	   "outputs": [],
"source": [
"// Exa 1.16\n",
"clc;\n",
"clear;\n",
"close;\n",
"// Given data\n",
"R1= 2;// in kΩ\n",
"R2= 2;// in kΩ\n",
"V=19;// in V\n",
"V_o = (V*R1)/(R1+R2);// in V\n",
"disp(V_o,'The output voltage in V is');"
   ]
   }
,
{
		   "cell_type": "markdown",
		   "metadata": {},
		   "source": [
			"## Example 1.17: Value_of_Vo_and_ID.sce"
		   ]
		  },
  {
"cell_type": "code",
	   "execution_count": null,
	   "metadata": {
	    "collapsed": true
	   },
	   "outputs": [],
"source": [
"// Exa 1.17\n",
"clc;\n",
"clear;\n",
"close;\n",
"// Given data\n",
"V1 = 0.7;// in V\n",
"V2 = 5;// in V\n",
"V_o = V1-V2;// in V\n",
"R = 2.2*10^3;// in ohm\n",
"I_D = -V_o/R;\n",
"I_D = I_D * 10^3;// in mA\n",
"disp(V_o,'The output voltage in volts is : ')\n",
"disp(I_D,'The current through diode in mA is');"
   ]
   }
,
{
		   "cell_type": "markdown",
		   "metadata": {},
		   "source": [
			"## Example 1.18: Output_voltage_and_diode_current.sce"
		   ]
		  },
  {
"cell_type": "code",
	   "execution_count": null,
	   "metadata": {
	    "collapsed": true
	   },
	   "outputs": [],
"source": [
"// Exa 1.18\n",
"clc;\n",
"clear;\n",
"close;\n",
"// Given data\n",
"V_gamma = 0.7;// in V\n",
"R1 = 5*10^3;// in ohm\n",
"R2 = 10*10^3;// in ohm\n",
"V=5;// in V\n",
"disp('Part (a)')\n",
"I_R2 = (V-V_gamma-(-V))/(R1+R2);// in A\n",
"I_D2 = I_R2;// in A\n",
"disp(I_D2*10^3,'The value of I_D1 and I_D2 in mA is');\n",
"V_o = V - (I_D2 * R1);// in V\n",
"disp(V_o,'The value of Vo in V is');\n",
"V_A = V_o - V_gamma;// in V\n",
"disp(V_A,'The value of V_A in V is');\n",
"disp('Part (b)')\n",
"V_I = 4;// in V\n",
"V_A= V_I-V_gamma;// in V\n",
"Vo= V_A+V_gamma;// in V\n",
"I_R1= (V-Vo)/R1;// in A\n",
"I_D2= I_R1;// in A\n",
"disp(I_D2*10^3,'The value of I_D2 in mA is : ')\n",
"I_R2= (V_A-(-V))/R2;// in A\n",
"I_D1= I_R2-I_R1;// in A\n",
"disp(I_D1*10^3,'The value of I_D1 in mA is : ')\n",
"disp(Vo,'The value of Vo in volts is : ')"
   ]
   }
,
{
		   "cell_type": "markdown",
		   "metadata": {},
		   "source": [
			"## Example 1.19: Total_current.sce"
		   ]
		  },
  {
"cell_type": "code",
	   "execution_count": null,
	   "metadata": {
	    "collapsed": true
	   },
	   "outputs": [],
"source": [
"// Exa 1.19\n",
"clc;\n",
"clear;\n",
"close;\n",
"// Given data\n",
"V_S = 6;// in V\n",
"V_D = 0.7;// in V\n",
"R = 10;// in K ohm\n",
"R = R*10^3;// in ohm\n",
"I_T = (V_S-V_D)/R;// in A\n",
"disp(I_T*10^6,'The total current in µA is');"
   ]
   }
,
{
		   "cell_type": "markdown",
		   "metadata": {},
		   "source": [
			"## Example 1.1: Barrier_potential.sce"
		   ]
		  },
  {
"cell_type": "code",
	   "execution_count": null,
	   "metadata": {
	    "collapsed": true
	   },
	   "outputs": [],
"source": [
"// Exa 1.1\n",
"clc;\n",
"clear;\n",
"close;\n",
"// Given data\n",
"T1 = 25;// in degree C\n",
"T2 = 100;// in degree C\n",
"del_T = T2-T1;// in degree C\n",
"V= 0.7;// barrier potential t 25°C in V\n",
"del_V = -(2)*del_T;// in mV\n",
"del_V= del_V*10^-3;// in V\n",
"V_B = V- abs(del_V);// in V\n",
"disp(V_B,'(i)  When the junction temperature is 100 °C, the barrier potential of a silicon diode in V is');\n",
"T2 = 0;// in degree C\n",
"del_T = T2-T1;// in degree C\n",
"del_V = -(2)*del_T;// in mV\n",
"del_V= del_V*10^-3;//in V\n",
"V_B = V+del_V;// in V\n",
"disp(V_B,'(ii) When the junction temperature is 0 °C, the barrier potential of a silicon diode in V is');"
   ]
   }
,
{
		   "cell_type": "markdown",
		   "metadata": {},
		   "source": [
			"## Example 1.20: Total_current.sce"
		   ]
		  },
  {
"cell_type": "code",
	   "execution_count": null,
	   "metadata": {
	    "collapsed": true
	   },
	   "outputs": [],
"source": [
"// Exa 1.20\n",
"clc;\n",
"clear;\n",
"close;\n",
"// Given data\n",
"V_S = 5;// in V\n",
"V_D = 0.7;// in V\n",
"R1 = 1.2 * 10^3;// in ohm\n",
"R2 = 2.2 * 10^3;// in ohm\n",
"I_T = (V_S-V_D)/(R1+R2);\n",
"I_T = I_T * 10^3;// in mA\n",
"disp(I_T,'The total circuit current in mA is');"
   ]
   }
,
{
		   "cell_type": "markdown",
		   "metadata": {},
		   "source": [
			"## Example 1.21: Total_current.sce"
		   ]
		  },
  {
"cell_type": "code",
	   "execution_count": null,
	   "metadata": {
	    "collapsed": true
	   },
	   "outputs": [],
"source": [
"// Exa 1.21\n",
"clc;\n",
"clear;\n",
"close;\n",
"// Given Data\n",
"V_S = 4;// in V\n",
"V_D1 = 0.7;// in V\n",
"V_D2 = 0.7;// in V\n",
"R = 5.1*10^3;// in ohm\n",
"I_T = (V_S-V_D1-V_D2)/R;// in A\n",
"disp(round(I_T*10^6),'The total current in µA is');"
   ]
   }
,
{
		   "cell_type": "markdown",
		   "metadata": {},
		   "source": [
			"## Example 1.22: Total_current.sce"
		   ]
		  },
  {
"cell_type": "code",
	   "execution_count": null,
	   "metadata": {
	    "collapsed": true
	   },
	   "outputs": [],
"source": [
"// Exa 1.22\n",
"clc;\n",
"clear;\n",
"close;\n",
"// Given data\n",
"V_S = 10;// in V\n",
"R1 = 1.5*10^3;// in ohm\n",
"R2 = 1.8*10^3;// in ohm\n",
"I_T = V_S/(R1+R2);// in A\n",
"disp(I_T*10^3,'Using the ideal diode, the total current in mA is ');\n",
"V_D1 = 0.7;// in V\n",
"V_D2 = 0.7;// in V\n",
"I_T = (V_S-V_D1-V_D2)/(R1+R2);// in A\n",
"disp(I_T*10^3,'Using the pracitcal diode, the total current in mA is');"
   ]
   }
,
{
		   "cell_type": "markdown",
		   "metadata": {},
		   "source": [
			"## Example 1.23: Value_of_Vo_I1_ID1_and_ID2.sce"
		   ]
		  },
  {
"cell_type": "code",
	   "execution_count": null,
	   "metadata": {
	    "collapsed": true
	   },
	   "outputs": [],
"source": [
"// Exa 1.23\n",
"clc;\n",
"clear;\n",
"close;\n",
"// Given data\n",
"V_S = 5;// in V\n",
"V2 = 3;// in V\n",
"R = 500;// in ohm\n",
"I_D2 = (V_S-V2)/R;// in A\n",
"I_D2 = I_D2 * 10^3;// in mA\n",
"disp(I_D2,'The diode current in mA is');"
   ]
   }
,
{
		   "cell_type": "markdown",
		   "metadata": {},
		   "source": [
			"## Example 1.24: Diode_current.sce"
		   ]
		  },
  {
"cell_type": "code",
	   "execution_count": null,
	   "metadata": {
	    "collapsed": true
	   },
	   "outputs": [],
"source": [
"// Exa 1.24\n",
"clc;\n",
"clear;\n",
"close;\n",
"// Given data\n",
"V_S = 2;// in V\n",
"R = 100;// in ohm\n",
"I_D = V_S/R;\n",
"I_D = I_D * 10^3;// in mA\n",
"disp('Part (a)')\n",
"disp(I_D,'The diode current in mA is');\n",
"V_K = 0.7;// in V\n",
"I_D1 = (V_S-V_K)/R;\n",
"I_D1 = I_D1*10^3;// in mA\n",
"disp('Part (b)')\n",
"disp(I_D1,'The diode current in mA is');\n",
"R_f = 30;// in ohm\n",
"I_D2 = (V_S - V_K)/(R+R_f);\n",
"I_D2 = I_D2 * 10^3;// in mA\n",
"disp('Part (c)')\n",
"disp(I_D2,'The diode current in mA is');\n",
""
   ]
   }
,
{
		   "cell_type": "markdown",
		   "metadata": {},
		   "source": [
			"## Example 1.25: Value_of_Vo1_and_Vo2.sce"
		   ]
		  },
  {
"cell_type": "code",
	   "execution_count": null,
	   "metadata": {
	    "collapsed": true
	   },
	   "outputs": [],
"source": [
"// Exa 1.25\n",
"clc;\n",
"clear;\n",
"close;\n",
"// Given data\n",
"R1= 1;// in kΩ\n",
"R2= 0.47;// in kΩ\n",
"V_o1 = 0.7;// in V\n",
"disp(V_o1,'The value of Vo1 in V is');\n",
"V_o2 = 0.3;// in V\n",
"disp(V_o2,'The value of Vo2 in V is');\n",
"I1 = (20-V_o1)/R1;// in mA\n",
"I2 = (V_o2-V_o1)/R2;// in mA\n",
"I = I1 + I2;// in mA\n",
"disp(I,'The current in mA is');"
   ]
   }
,
{
		   "cell_type": "markdown",
		   "metadata": {},
		   "source": [
			"## Example 1.26: Output_voltage_and_diode_current.sce"
		   ]
		  },
  {
"cell_type": "code",
	   "execution_count": null,
	   "metadata": {
	    "collapsed": true
	   },
	   "outputs": [],
"source": [
"// Exa 1.26\n",
"clc;\n",
"clear;\n",
"close;\n",
"// Given data\n",
"V1 = 10;// in V\n",
"V2 = 0.7;// in V\n",
"R1 = 1*10^3;// in ohm\n",
"R2 = 2*10^3;// in ohm\n",
"I = (V1-V2)/(R1+R2);// in A\n",
"V_o = I * R2;// in V\n",
"disp(V_o,'The output voltage in V is');\n",
"I_D = I/2;// in A\n",
"disp(I_D*10^3,'The diode current in mA is');"
   ]
   }
,
{
		   "cell_type": "markdown",
		   "metadata": {},
		   "source": [
			"## Example 1.27: Output_voltage_and_diode_current.sce"
		   ]
		  },
  {
"cell_type": "code",
	   "execution_count": null,
	   "metadata": {
	    "collapsed": true
	   },
	   "outputs": [],
"source": [
"// Exa 1.27\n",
"clc;\n",
"clear;\n",
"close;\n",
"// Given data\n",
"V1 = 20;// in V\n",
"V2 = 0.7;// in V\n",
"R = 4.7*10^3;// in ohm\n",
"I = (V1-V2)/R;// in A\n",
"I_D = I/2;// in A\n",
"disp(I_D*10^3,'The diode current in mA is');\n",
"V_o = I_D*R;// in V\n",
"disp(V_o,'The output voltage in V is');"
   ]
   }
,
{
		   "cell_type": "markdown",
		   "metadata": {},
		   "source": [
			"## Example 1.28: Output_voltage_and_diode_current.sce"
		   ]
		  },
  {
"cell_type": "code",
	   "execution_count": null,
	   "metadata": {
	    "collapsed": true
	   },
	   "outputs": [],
"source": [
"// Exa 1.28\n",
"clc;\n",
"clear;\n",
"close;\n",
"// Given data\n",
"V1 = 15;// in V\n",
"V2 = 0.7;// in V\n",
"V3 = 5;// in V\n",
"R = 2.2;// in K ohm\n",
"I_D = (V1-V2+V3)/R;// in mA\n",
"disp(I_D,'The diode current in  mA is');\n",
"V_o = (R * I_D) - V3;// in V\n",
"disp(V_o,'The output voltage in V');"
   ]
   }
,
{
		   "cell_type": "markdown",
		   "metadata": {},
		   "source": [
			"## Example 1.29: Current_and_output_voltage.sce"
		   ]
		  },
  {
"cell_type": "code",
	   "execution_count": null,
	   "metadata": {
	    "collapsed": true
	   },
	   "outputs": [],
"source": [
"// Exa 1.29\n",
"clc;\n",
"clear;\n",
"close;\n",
"// Given data\n",
"V1 = 16;// in V\n",
"V2 = 0.7;// in V\n",
"V3 = V2;// in V\n",
"V4 = 12;// in V\n",
"R = 4.7;// in K ohm\n",
"I = (V1-V2-V3-V4)/R;// in mA\n",
"disp(I,'The current in mA is');\n",
"V_o = (I * 10^-3 * R * 10^3) + V4;// in V\n",
"disp(V_o,'The output voltage in V is');"
   ]
   }
,
{
		   "cell_type": "markdown",
		   "metadata": {},
		   "source": [
			"## Example 1.2: Saturation_current.sce"
		   ]
		  },
  {
"cell_type": "code",
	   "execution_count": null,
	   "metadata": {
	    "collapsed": true
	   },
	   "outputs": [],
"source": [
"// Exa 1.2\n",
"clc;\n",
"clear;\n",
"close;\n",
"// Given data\n",
"T1 = 25;// in degree C\n",
"T2 = 100;// in degree C\n",
"del_T = T2-T1;// in degree C\n",
"I_S = (2)^7 *5;// in nA\n",
"I_S = (1.07)^5*I_S;// in nA\n",
"disp(round(I_S),'The saturation current at 100 degree C in nA is');"
   ]
   }
,
{
		   "cell_type": "markdown",
		   "metadata": {},
		   "source": [
			"## Example 1.3: Load_voltage_and_current.sce"
		   ]
		  },
  {
"cell_type": "code",
	   "execution_count": null,
	   "metadata": {
	    "collapsed": true
	   },
	   "outputs": [],
"source": [
"// Exa 1.3\n",
"clc;\n",
"clear;\n",
"close;\n",
"// Given data\n",
"V_L = 10;// in V\n",
"R_L = 1*10^3;// in Ω\n",
"I_L = V_L/R_L;// in A\n",
"I_L = I_L*10^3;// mA\n",
"disp(V_L,'The load voltage in volts is : ')\n",
"disp(I_L,'The load current in mA is');"
   ]
   }
,
{
		   "cell_type": "markdown",
		   "metadata": {},
		   "source": [
			"## Example 1.4: Load_voltage_and_current.sce"
		   ]
		  },
  {
"cell_type": "code",
	   "execution_count": null,
	   "metadata": {
	    "collapsed": true
	   },
	   "outputs": [],
"source": [
"// Exa 1.4\n",
"clc;\n",
"clear;\n",
"close;\n",
"// Given data\n",
"v1 = 10;// in V\n",
"v2 = 0.7;// in V\n",
"V_L = v1-v2;// in V\n",
"disp(V_L,'The load voltage in V is');\n",
"R_L = 1*10^3;// in Ω\n",
"I_L = V_L/R_L;// in A\n",
"disp(I_L*10^3,'The load current in mA is');\n",
"P_D = v2*I_L;// in watt\n",
"disp(P_D*10^3,'The diode Power in mW is');"
   ]
   }
,
{
		   "cell_type": "markdown",
		   "metadata": {},
		   "source": [
			"## Example 1.5: Load_voltage_and_current.sce"
		   ]
		  },
  {
"cell_type": "code",
	   "execution_count": null,
	   "metadata": {
	    "collapsed": true
	   },
	   "outputs": [],
"source": [
"// Exa 1.5\n",
"clc;\n",
"clear;\n",
"close;\n",
"// Given data\n",
"R_L1 = 1*10^3;// in ohm\n",
"R_L2 = 0.23;// in ohm\n",
"R_T = R_L1+R_L2;// in ohm\n",
"v1 = 10;// in V\n",
"v2 = 0.7;// in V\n",
"V_T = v1-v2;// in V\n",
"I_L = V_T/R_T;// in A\n",
"disp(I_L*10^3,'The load current in mA is');\n",
"V_L = I_L*R_L1;// in V\n",
"disp(V_L,'The load voltage in V is');"
   ]
   }
,
{
		   "cell_type": "markdown",
		   "metadata": {},
		   "source": [
			"## Example 1.6: Value_of_Vo_I1_ID1_and_ID2.sce"
		   ]
		  },
  {
"cell_type": "code",
	   "execution_count": null,
	   "metadata": {
	    "collapsed": true
	   },
	   "outputs": [],
"source": [
"// Exa 1.6\n",
"clc;\n",
"clear;\n",
"close;\n",
"// Given data\n",
"V_o = 0.7;// in V\n",
"disp(V_o,'The value of V_o in V is');\n",
"E = 10;// in V\n",
"V_D = V_o;// in V\n",
"R = 330;// in ohm\n",
"I1 = (E - V_D)/R;// in A\n",
"I1 = I1*10^3;// in mA\n",
"disp(I1,'The value of I1 in mA is');\n",
"I_D1 = I1/2;// in mA\n",
"disp(I_D1,'The value of I_D1 in mA is');\n",
"I_D2 = I_D1;// in mA\n",
"disp(I_D2,'The value of I_D2 in mA is'); "
   ]
   }
,
{
		   "cell_type": "markdown",
		   "metadata": {},
		   "source": [
			"## Example 1.7: Value_of_Vo_and_ID.sce"
		   ]
		  },
  {
"cell_type": "code",
	   "execution_count": null,
	   "metadata": {
	    "collapsed": true
	   },
	   "outputs": [],
"source": [
"// Exa 1.7\n",
"clc;\n",
"clear;\n",
"close;\n",
"// Given data\n",
"V_i = 12;// in V\n",
"V_D1 = 0.7;// in V\n",
"V_D2 = 0.3;// in V\n",
"R = 5.6*10^3;// in ohm\n",
"V_o  = V_i - V_D1 - V_D2;// in V\n",
"disp(V_o,'The value of Vo voltage in V is');\n",
"I_D = V_o/R;// in A\n",
"I_D = I_D*10^3;// in mA\n",
"disp(I_D,'The value of I_D in mA is');"
   ]
   }
,
{
		   "cell_type": "markdown",
		   "metadata": {},
		   "source": [
			"## Example 1.8: Value_of_current.sce"
		   ]
		  },
  {
"cell_type": "code",
	   "execution_count": null,
	   "metadata": {
	    "collapsed": true
	   },
	   "outputs": [],
"source": [
"// Exa 1.8\n",
"clc;\n",
"clear;\n",
"close;\n",
"// Given data\n",
"V1 = 24;// in V\n",
"V2 = 6;// in V\n",
"V_D1 = 0.7;// in V\n",
"R = 3*10^3;// in ohm\n",
"I = (V1 - V2 - V_D1)/R;// in A\n",
"I = I * 10^3;// in mA\n",
"disp(I,'The current in mA is');"
   ]
   }
,
{
		   "cell_type": "markdown",
		   "metadata": {},
		   "source": [
			"## Example 1.9: Diode_current.sce"
		   ]
		  },
  {
"cell_type": "code",
	   "execution_count": null,
	   "metadata": {
	    "collapsed": true
	   },
	   "outputs": [],
"source": [
"// Exa 1.9\n",
"clc;\n",
"clear;\n",
"close;\n",
"// Given data\n",
"r= 20;// in Ω\n",
"R_B= 15;// in Ω\n",
"V_K1= 0.2;// in V\n",
"V_K2= 0.6;// in V\n",
"V= 100;// in V\n",
"R1= 10*10^3;// in Ω\n",
"// Vo= V_K1+r*I1 = V_K2+R_B*I2\n",
"// Resulting current I= I1+I2 or\n",
"// (V-Vo)/(R1) = (Vo-V_K1)/r + (Vo-V_K2)/R_B\n",
"Vo= (r*R_B*V+R1*R_B*V_K1+R1*r*V_K2)/(R1*R_B+R1*r+r*R_B);// in V\n",
"I1= (Vo-V_K1)/r;// in A\n",
"I2= (V_K2-Vo)/R_B;// in A\n",
"disp(I1*10^3,'The value of I1 in mA is : ')\n",
"disp(I2*10^3,'The value of I2 in mA is : ')"
   ]
   }
],
"metadata": {
		  "kernelspec": {
		   "display_name": "Scilab",
		   "language": "scilab",
		   "name": "scilab"
		  },
		  "language_info": {
		   "file_extension": ".sce",
		   "help_links": [
			{
			 "text": "MetaKernel Magics",
			 "url": "https://github.com/calysto/metakernel/blob/master/metakernel/magics/README.md"
			}
		   ],
		   "mimetype": "text/x-octave",
		   "name": "scilab",
		   "version": "0.7.1"
		  }
		 },
		 "nbformat": 4,
		 "nbformat_minor": 0
}
