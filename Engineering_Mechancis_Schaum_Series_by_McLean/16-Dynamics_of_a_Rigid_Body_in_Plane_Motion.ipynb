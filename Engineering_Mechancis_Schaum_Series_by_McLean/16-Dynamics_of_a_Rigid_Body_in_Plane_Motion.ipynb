{
"cells": [
 {
		   "cell_type": "markdown",
	   "metadata": {},
	   "source": [
       "# Chapter 16: Dynamics of a Rigid Body in Plane Motion"
	   ]
	},
{
		   "cell_type": "markdown",
		   "metadata": {},
		   "source": [
			"## Example 16.10: Dyna_of_rig_body_in_PM.sce"
		   ]
		  },
  {
"cell_type": "code",
	   "execution_count": null,
	   "metadata": {
	    "collapsed": true
	   },
	   "outputs": [],
"source": [
"//Initilization of variables\n",
"m=200 //kg\n",
"g=9.8 //m/s^2\n",
"r=1.2 //m\n",
"F1=1000 //N\n",
"F2=1400 //N\n",
"//Calculations\n",
"N=m*g //N\n",
"I=(2/5)*(m)*r^2 //kg-m^2\n",
"//Using equations of motion\n",
"//Solving for F and alpha using matrix method\n",
"//Applying equations of motion\n",
"A=[1,-m;-r,-I/r]\n",
"B=[F1-F2;F1*r]\n",
"C=inv(A)*B \n",
"//Storing values\n",
"F=C(1) //N\n",
"alpha=C(2) //rad/s^2\n",
"a=r*alpha //m/s^2\n",
"//Result\n",
"clc\n",
"printf('The value of a is %f m/s^2 and F is %f N',a,F)\n",
"//The negative signs indicate that the direction is opposite to what was origninally assumed"
   ]
   }
,
{
		   "cell_type": "markdown",
		   "metadata": {},
		   "source": [
			"## Example 16.11: Dyna_of_rig_body_in_PM.sce"
		   ]
		  },
  {
"cell_type": "code",
	   "execution_count": null,
	   "metadata": {
	    "collapsed": true
	   },
	   "outputs": [],
"source": [
"//Initilization of variables\n",
"Wa=161 //lb\n",
"Wb=193.2 //lb\n",
"Wc=300 //lb\n",
"ka=3 //ft\n",
"kb=2.5 //ft\n",
"theta1=30 //degrees\n",
"theta2=45 //degrees\n",
"g=32.2 //ft/s^2\n",
"//Calculations\n",
"//Moment of inertia Calculations\n",
"Ia=(Wa/g)*ka^2 //lb-s^2-ft\n",
"Ib=(Wb/g)*kb^2 //lb-s^2-ft\n",
"//Using equations of motion for A and B and C\n",
"//Solving by matrix method\n",
"A=[1,1,-Wa/g,0,0;1,-4,-Ia*(1/4),0,0;-2,0,-Ib*(5/8),4,0;0,0,-(Wc/g)*(5/2),-1,-0.25;0,0,0,0,1]\n",
"B=[Wa*sind(theta1);0;0;-Wc*cosd(theta2);Wc*sind(theta2)]\n",
"C=inv(A)*B\n",
"//Storing values in the variables\n",
"T1=C(1) //lb\n",
"T2=C(4) //lb\n",
"a=C(3) //ft/s^2\n",
"//Result\n",
"clc\n",
"printf('The value of a is %f ft/s^2 and T1=%f lb and that of T2 is %f lb',a,T1,T2)\n",
""
   ]
   }
,
{
		   "cell_type": "markdown",
		   "metadata": {},
		   "source": [
			"## Example 16.12: Dyna_of_rig_body_in_PM.sce"
		   ]
		  },
  {
"cell_type": "code",
	   "execution_count": null,
	   "metadata": {
	    "collapsed": true
	   },
	   "outputs": [],
"source": [
"//Initilization of variables\n",
"W=644 //lb\n",
"F=30 //lb\n",
"theta=30 //degrees\n",
"r=1.5 //ft\n",
"g=32.2 //ft/s^2\n",
"//Calculations\n",
"//Using equations of motion\n",
"//Solving by matrix method\n",
"A=[1,-W/g;-r,-(1/2)*(W/g)*(2*2)*(1/r)]\n",
"B=[W*sind(theta)-F*cosd(theta);-F*2]\n",
"C=inv(A)*B\n",
"a=C(2) //ft/s^2\n",
"//Result\n",
"clc\n",
"printf('The value of a is %f ft/s^2',a)"
   ]
   }
,
{
		   "cell_type": "markdown",
		   "metadata": {},
		   "source": [
			"## Example 16.14: Dyna_of_rig_body_in_PM.sce"
		   ]
		  },
  {
"cell_type": "code",
	   "execution_count": null,
	   "metadata": {
	    "collapsed": true
	   },
	   "outputs": [],
"source": [
"//Initilization of variables\n",
"W=20 //lb\n",
"g=32.2 //ft/s^2\n",
"vb=0.5 //rad/s\n",
"//Calculations\n",
"//Using equations of motion\n",
"//Solving the three equations simultaneously by matrix method\n",
"X=[0,1,-(W/g)*5.2;-1,0,-(W/g)*3;3,-3,-(1/12)*(W/g)*12^2]\n",
"Y=[-0.75*(W/g);(W/g)*1.3-W;0]\n",
"C=inv(X)*Y\n",
"A=C(1) //lb\n",
"B=C(2) //lb\n",
"alpha=C(3) //rad/s^2\n",
"//Result\n",
"clc\n",
"printf('The value of alpha is %f rad/s^2 and of A and B are %f lb \nand %f lb respectively',alpha,A,B)"
   ]
   }
,
{
		   "cell_type": "markdown",
		   "metadata": {},
		   "source": [
			"## Example 16.16: Dyna_of_rig_body_in_PM.sce"
		   ]
		  },
  {
"cell_type": "code",
	   "execution_count": null,
	   "metadata": {
	    "collapsed": true
	   },
	   "outputs": [],
"source": [
"//Initilization of variables\n",
"mc=7.25 //kg\n",
"d=0.9 //m\n",
"la=0.2 //m\n",
"ma=9 //kg\n",
"F=45 //N\n",
"ay=0 //m/s^2\n",
"g=9.8 //m/s^2\n",
"//Calculations\n",
"I=2*(0.5*mc*(d/2)^2)+0.5*ma*(la/2)^2 //kg-m^2\n",
"//Using the equations of motion\n",
"Na=(2*mc+ma)*g //N\n",
"//Simplfying using radial velocity formula\n",
"//Solving the two equations using matrix method\n",
"A=[-1,-(2*mc+ma);(d/2),-I/(d/2)]\n",
"B=[-F;F*(la/2)]\n",
"C=inv(A)*B\n",
"F=C(1) //N\n",
"ax=C(2) //m/s^2\n",
"//Result\n",
"clc\n",
"printf('The computation yields ax=%f m/s^2',ax)"
   ]
   }
,
{
		   "cell_type": "markdown",
		   "metadata": {},
		   "source": [
			"## Example 16.18: Dyna_of_rig_body_in_PM.sce"
		   ]
		  },
  {
"cell_type": "code",
	   "execution_count": null,
	   "metadata": {
	    "collapsed": true
	   },
	   "outputs": [],
"source": [
"//Initilization of variables\n",
"r=0.05 //m cylinder radius\n",
"g=9.8 //m/s^2\n",
"//Calculations\n",
"//Here the equation has been solved in terms of the veriables\n",
"//Hence we directly consider the final result\n",
"av=(2*g)/3 //m/s^2\n",
"//Result\n",
"clc\n",
"printf('The value of av is %f m/s^2',av)"
   ]
   }
,
{
		   "cell_type": "markdown",
		   "metadata": {},
		   "source": [
			"## Example 16.21: Dyna_of_rig_body_in_PM.sce"
		   ]
		  },
  {
"cell_type": "code",
	   "execution_count": null,
	   "metadata": {
	    "collapsed": true
	   },
	   "outputs": [],
"source": [
"//initilization of variables\n",
"W=16.1 //lb\n",
"v=9 //ft/s\n",
"phi=30 //degrees\n",
"r=0.5 //ft\n",
"g=32.2 //ft/s^2\n",
"OG=4.5 //ft\n",
"//Calculations\n",
"//Using equations of motion\n",
"an=v^2/OG //ft/s^2\n",
"//Solving for alpha we get\n",
"N=(W/g)*an+W*cosd(phi) //lb\n",
"//Using equations of motion\n",
"A=[1,-r;-1,-r*r]\n",
"B=[W*sind(phi);0]\n",
"C=inv(A)*B\n",
"F=C(1) //lb\n",
"at=C(2) //ft/s^2\n",
"//Result\n",
"clc\n",
"printf('The value of N and F are %f lb and %f lb respectively',N,F)"
   ]
   }
,
{
		   "cell_type": "markdown",
		   "metadata": {},
		   "source": [
			"## Example 16.24: Dyna_of_rig_body_in_PM.sce"
		   ]
		  },
  {
"cell_type": "code",
	   "execution_count": null,
	   "metadata": {
	    "collapsed": true
	   },
	   "outputs": [],
"source": [
"//Initilization of variables\n",
"m_abc=20 //kg\n",
"m_cd=10 //kg\n",
"l_abc=3 //m\n",
"l_cd=2 //m\n",
"x=0.75 //m\n",
"y=1.5 //m\n",
"theta=60 //degrees\n",
"F=1000 //N\n",
"g=9.8 //m/s^2\n",
"//Simplfying constants\n",
"a=26\n",
"b=28.3\n",
"c=49\n",
"//Calculations\n",
"//After the rigorous simplification we arrive at the following\n",
"//Bx=26*alpha\n",
"//By=49-28.3*alpha\n",
"//Summing moments about A\n",
"alpha=(m_abc*g*x+F*y+c)/((1/3)*m_abc*l_abc^2+a*tand(theta)+b) //rad/s\n",
"//Result\n",
"clc\n",
"printf('The value of angular acceleration is: %frad/s^2',alpha)"
   ]
   }
,
{
		   "cell_type": "markdown",
		   "metadata": {},
		   "source": [
			"## Example 16.25: Dyna_of_rig_body_in_PM.sce"
		   ]
		  },
  {
"cell_type": "code",
	   "execution_count": null,
	   "metadata": {
	    "collapsed": true
	   },
	   "outputs": [],
"source": [
"//Initilization of variables\n",
"W=50 //lb\n",
"P=10 //lb\n",
"t=5 //s\n",
"vo=0 //ft/s\n",
"g=32.2 //ft/s^2\n",
"//Calculations\n",
"//Using equations of motion\n",
"ax=(P*g)/W //ft/s^2\n",
"//Solving by matrix method for A and B\n",
"F=[1,1;-4,4]\n",
"Q=[W;P]\n",
"R=inv(F)*Q\n",
"//Velocity calculations\n",
"v=vo+ax*t //ft/s\n",
"A=R(1) //lb\n",
"B=R(2) //lb\n",
"//Result\n",
"clc\n",
"printf('The velocity of the door after 5s is %f ft/s and A=%f lb and B=%f lb',v,A,B)"
   ]
   }
,
{
		   "cell_type": "markdown",
		   "metadata": {},
		   "source": [
			"## Example 16.26: Dyna_of_rig_body_in_PM.sce"
		   ]
		  },
  {
"cell_type": "code",
	   "execution_count": null,
	   "metadata": {
	    "collapsed": true
	   },
	   "outputs": [],
"source": [
"//Initilization of variables\n",
"AB=2 //m\n",
"m=2 //kg\n",
"F=20 //N\n",
"g=9.8 //m/s^2\n",
"//Calculations\n",
"//Using equation of motion\n",
"a=F/m //m/s^2\n",
"//Solving by matrix method for Na and Nb\n",
"A=[1,-1;4/5,4/5]\n",
"B=[m*g;F*(3/5)]\n",
"C=inv(A)*B\n",
"//Result\n",
"clc\n",
"printf('The value of a is %f m/s^2 and the reactions are\n Na=%f N and Nb=%f N',a,C(1),C(2))\n",
""
   ]
   }
,
{
		   "cell_type": "markdown",
		   "metadata": {},
		   "source": [
			"## Example 16.27: Dyna_of_rig_body_in_PM.sce"
		   ]
		  },
  {
"cell_type": "code",
	   "execution_count": null,
	   "metadata": {
	    "collapsed": true
	   },
	   "outputs": [],
"source": [
"//Initilization of variables\n",
"vo=0 //ft/s\n",
"//Calculations\n",
"s=(0.011*5280*2)/(2*0.004)\n",
"//Result\n",
"clc\n",
"printf('It travels %f ft before coming to rest',s)\n",
"//Answer in the textbook is incorrect by 20ft"
   ]
   }
,
{
		   "cell_type": "markdown",
		   "metadata": {},
		   "source": [
			"## Example 16.28: Dyna_of_rig_body_in_PM.sce"
		   ]
		  },
  {
"cell_type": "code",
	   "execution_count": null,
	   "metadata": {
	    "collapsed": true
	   },
	   "outputs": [],
"source": [
"//Initilization of variables\n",
"u=0.3 //coefficient of friction\n",
"m=70 //kg\n",
"g=9.8 //m/s^2\n",
"//Calculations\n",
"//CASE 1\n",
"//Using equations of motion\n",
"Na=m*g //N\n",
"ah=(u*Na)/m //m/s^2\n",
"//CASE 2\n",
"//Applying sum of moments equal to zero\n",
"F=(Na*0.3)/1.2 //N\n",
"a_h=F/m //m/s^2\n",
"//Result\n",
"//Intutive insights can be attained after we get these results\n",
"clc\n",
"printf('The value of Na is %f N and that of acceleration are \ntwo values 1)%f m/s^2 2)%f m/s^2 each for tipping and sliding respectively\n F is %f N',Na,ah,a_h,F)"
   ]
   }
,
{
		   "cell_type": "markdown",
		   "metadata": {},
		   "source": [
			"## Example 16.29: Dyna_of_rig_body_in_PM.sce"
		   ]
		  },
  {
"cell_type": "code",
	   "execution_count": null,
	   "metadata": {
	    "collapsed": true
	   },
	   "outputs": [],
"source": [
"//Initilization of variables\n",
"m=60 //kg\n",
"me=660 //kg\n",
"a=6 //m/s^2\n",
"g=9.8 //m/s^2\n",
"//Calculations\n",
"//Using equations of motion\n",
"P=m*a+m*g //N\n",
"//Scale reading\n",
"R=P/g //kg\n",
"//Increase in mass\n",
"I=R-m //kg\n",
"//Tension\n",
"T=me*a+me*g //N\n",
"//Result\n",
"clc\n",
"printf('The value of P is %f N \n Apparent icrease in weight is %f kg\n Tension in the cable is %f N.',P,I,T)\n",
"//Answer in the textbook is off by 28 //N in Tension"
   ]
   }
,
{
		   "cell_type": "markdown",
		   "metadata": {},
		   "source": [
			"## Example 16.2: Dyna_of_rig_body_in_PM.sce"
		   ]
		  },
  {
"cell_type": "code",
	   "execution_count": null,
	   "metadata": {
	    "collapsed": true
	   },
	   "outputs": [],
"source": [
"//Intilization of variables\n",
"W=600 //lb\n",
"d=30 //in\n",
"theta=25 //degrees\n",
"g=32.2 //ft/s^2\n",
"//Calculations\n",
"m=W/g //lb-s^2/ft\n",
"//Moment of inertia\n",
"I=0.5*m*((d/2)/12)^2 //lb-s^2-ft\n",
"//Applying Newtons law and coservation of angular momentum and rolling\n",
"//Solving by matrix method\n",
"A=[1,m,0,0;0,0,0,1;((d/2)/12),0,-I,0;0,1,-((d/2)/12),0]\n",
"B=[W*sind(theta);W*cosd(theta);0;0]\n",
"C=inv(A)*B\n",
"//Result\n",
"clc\n",
"printf('The Frictional Force is %f lb and the acceleration is %f ft/s^2',C(1),C(2))"
   ]
   }
,
{
		   "cell_type": "markdown",
		   "metadata": {},
		   "source": [
			"## Example 16.30: Dyna_of_rig_body_in_PM.sce"
		   ]
		  },
  {
"cell_type": "code",
	   "execution_count": null,
	   "metadata": {
	    "collapsed": true
	   },
	   "outputs": [],
"source": [
"//Initilization of variables\n",
"u=0.2 //coefficient of friction\n",
"ma=1.2 //kg\n",
"mb=2 //kg\n",
"g=9.8 //m/s^2\n",
"//Calculations\n",
"Nb=mb*g //N\n",
"F=u*Nb //N\n",
"//Using equations of motion\n",
"//Solving for T and a\n",
"A=[-1,-ma;1,-mb]\n",
"B=[-ma*g;F]\n",
"C=inv(A)*B\n",
"T=C(1) //N\n",
"a=C(2) //m/s^2\n",
"//Taking the sum of the moments\n",
"x_m=-(F*0.15+T*0.15)/Nb //m\n",
"x=x_m*1000 //mm\n",
"//Result\n",
"clc\n",
"printf('The acceleration of block A is %f m/s^2 and Nb acts at a distance %f mm\n Negative sign indictaes that the side assumed is incorrect',a,x)"
   ]
   }
,
{
		   "cell_type": "markdown",
		   "metadata": {},
		   "source": [
			"## Example 16.31: Dyna_of_rig_body_in_PM.sce"
		   ]
		  },
  {
"cell_type": "code",
	   "execution_count": null,
	   "metadata": {
	    "collapsed": true
	   },
	   "outputs": [],
"source": [
"//Initilization of variables\n",
"a=2.5 //m/s^2\n",
"mA=3 //kg\n",
"mB=7 //kg\n",
"g=9.8 //m/s^2\n",
"//Calculations\n",
"F=(mA+mB)*a //N\n",
"//Using equations of motion\n",
"Py=mB*g //N\n",
"//Solving for Px and H\n",
"A=[1,1;-0.0375,0.0375]\n",
"B=[mB*a;Py*0.05]\n",
"C=inv(A)*B\n",
"Px=C(1) //N\n",
"H=C(2) //N\n",
"//Result\n",
"clc\n",
"printf('The value of H is %f N',H)"
   ]
   }
,
{
		   "cell_type": "markdown",
		   "metadata": {},
		   "source": [
			"## Example 16.32: Dyna_of_rig_body_in_PM.sce"
		   ]
		  },
  {
"cell_type": "code",
	   "execution_count": null,
	   "metadata": {
	    "collapsed": true
	   },
	   "outputs": [],
"source": [
"//Initilization of variables\n",
"m=20 //kg\n",
"g=9.8 //m/s^2\n",
"vo=3 //m/s\n",
"v=0 //m/s\n",
"s=4 //m\n",
"//Calculations\n",
"//Using equations of motion\n",
"Na=m*g //N\n",
"F=(Na*0.075)/0.125 //N\n",
"a=F/m //m/s^2\n",
"//Displacement \n",
"d=-(v^2-vo^2)/(2*a) //m\n",
"displ=s-d //m\n",
"v_f=sqrt(2*a*displ) //m/s\n",
"//Result\n",
"clc\n",
"printf('The final velocity is %f m/s',v_f)"
   ]
   }
,
{
		   "cell_type": "markdown",
		   "metadata": {},
		   "source": [
			"## Example 16.33: Dyna_of_rig_body_in_PM.sce"
		   ]
		  },
  {
"cell_type": "code",
	   "execution_count": null,
	   "metadata": {
	    "collapsed": true
	   },
	   "outputs": [],
"source": [
"//Initilization of variables\n",
"mA=30 //kg\n",
"mB=45 //kg\n",
"u_ab=1/3 //coefficient of friction between two blocks\n",
"u_bp=1/10 //coefficient of friction between block and horizontal plane\n",
"g=9.8 //m/s^2\n",
"//Calculations\n",
"//By inspection\n",
"Na=mA*g //N\n",
"Nb=Na+mB*g //N\n",
"a=(u_ab*Na-u_bp*Nb)/mB //m/s^2\n",
"P=(mA*a+u_ab*Na) //N\n",
"//For block A\n",
"//Solving for P,F and a\n",
"A=[1,-1,-mA;-0.05,-0.075,0;0,1,-mB]\n",
"B=[0;-Na*0.050;Nb*u_bp]\n",
"C=inv(A)*B\n",
"P_new=C(1) //N\n",
"//Result\n",
"//As p < p_new\n",
"clc\n",
"printf('The maximum value of P is %f N',P)"
   ]
   }
,
{
		   "cell_type": "markdown",
		   "metadata": {},
		   "source": [
			"## Example 16.34: Dyna_of_rig_body_in_PM.sce"
		   ]
		  },
  {
"cell_type": "code",
	   "execution_count": null,
	   "metadata": {
	    "collapsed": true
	   },
	   "outputs": [],
"source": [
"//Initilization of variables\n",
"Vo=1.5 //m/s\n",
"V=0 //m/s\n",
"g=9.8 //m/s^2\n",
"//Calculations\n",
"a=(g*0.2)/0.75 //m/s^2\n",
"t=-(V-Vo)/a //s\n",
"//Result\n",
"clc\n",
"printf('The maximum accelerayion is %f m/s^2 and minimum time is %f s',a,t)"
   ]
   }
,
{
		   "cell_type": "markdown",
		   "metadata": {},
		   "source": [
			"## Example 16.36: Dyna_of_rig_body_in_PM.sce"
		   ]
		  },
  {
"cell_type": "code",
	   "execution_count": null,
	   "metadata": {
	    "collapsed": true
	   },
	   "outputs": [],
"source": [
"//Initilization of variables\n",
"vo=0 //mi/h\n",
"v=60 //mi/h\n",
"t=13.8 //s\n",
"W=3385 //lb\n",
"xb=46 //in\n",
"xf=66 //in\n",
"xv=31 //in\n",
"g=32.2 //ft/s^2\n",
"//Calculations\n",
"a=(((v*88*60)/3600)-vo)/t //ft/s^2\n",
"//Summing horizontal forces\n",
"F=(W/g)*a //lb\n",
"//Solving for Rf and Rr\n",
"A=[1,1;-xf,xb]\n",
"B=[W;-F*xv]\n",
"C=inv(A)*B\n",
"Rr=C(1) //lb\n",
"Rf=C(2) //lb\n",
"//Result\n",
"clc\n",
"printf('The value of reactions are Rf=%f lb and Rr=%f lb',Rf,Rr)"
   ]
   }
,
{
		   "cell_type": "markdown",
		   "metadata": {},
		   "source": [
			"## Example 16.3: Dyna_of_rig_body_in_PM.sce"
		   ]
		  },
  {
"cell_type": "code",
	   "execution_count": null,
	   "metadata": {
	    "collapsed": true
	   },
	   "outputs": [],
"source": [
"//Initilization of variables\n",
"m=18 //kg\n",
"d=0.6 //m\n",
"vo=3 //m/s\n",
"theta=20 //degrees\n",
"g=9.8 //m/s^2\n",
"//Calculations\n",
"//Moment of Inertia\n",
"I=0.5*m*(d/2)^2 //\n",
"//Applying Newtons second Law a\n",
"A=[1,m,0,0;0,0,1,0;d/2,0,0,-I;0,1,0,(-d/2)]\n",
"B=[g*m*sind(theta);g*m*cosd(theta);0;0]\n",
"C=inv(A)*B\n",
"//Storing the answers in variables\n",
"F=C(1) //N\n",
"ax=C(2) //m/s^2\n",
"Na=C(3) //N\n",
"alpha=C(4) //rad/s^2\n",
"//Time Calculations\n",
"v=0 //m/s^2\n",
"t=(vo)/ax //s\n",
"//Result\n",
"clc\n",
"printf('It takes %f s to reach the highest point of travel',t)"
   ]
   }
,
{
		   "cell_type": "markdown",
		   "metadata": {},
		   "source": [
			"## Example 16.43: Dyna_of_rig_body_in_PM.sce"
		   ]
		  },
  {
"cell_type": "code",
	   "execution_count": null,
	   "metadata": {
	    "collapsed": true
	   },
	   "outputs": [],
"source": [
"//Initilization of variables\n",
"W=161 //lb\n",
"F=16.1 //lb\n",
"r=18 //ft radius\n",
"t=2 //s\n",
"g=32.2 //ft/s^2\n",
"wo=0 //rad/s\n",
"//Calculations\n",
"//Using equations of motion\n",
"//Solving for T and alpha\n",
"A=[r/12,-0.5*(W/g)*(r/12)^2;-1,-F/g]\n",
"B=[0;-F]\n",
"C=inv(A)*B\n",
"alpha=C(2) //rad/s^2\n",
"w=wo+alpha*t //rad/s\n",
"//Result\n",
"clc\n",
"printf('The angular speed is %f rad/s',w)\n",
"//The decimal accuray causes the discrepancy"
   ]
   }
,
{
		   "cell_type": "markdown",
		   "metadata": {},
		   "source": [
			"## Example 16.47: Dyna_of_rig_body_in_PM.sce"
		   ]
		  },
  {
"cell_type": "code",
	   "execution_count": null,
	   "metadata": {
	    "collapsed": true
	   },
	   "outputs": [],
"source": [
"//Initilization fo variables\n",
"r=2000 //ft\n",
"g=32.2 //ft/s^2\n",
"d=4.71 //ft\n",
"v=176 //ft/s\n",
"//Calculations\n",
"e=(d*v^2)/(g*r) //ft\n",
"//Result\n",
"clc\n",
"printf('The superelevation is %f ft',e)\n",
"//Watch the unit in the final answer"
   ]
   }
,
{
		   "cell_type": "markdown",
		   "metadata": {},
		   "source": [
			"## Example 16.48: Dyna_of_rig_body_in_PM.sce"
		   ]
		  },
  {
"cell_type": "code",
	   "execution_count": null,
	   "metadata": {
	    "collapsed": true
	   },
	   "outputs": [],
"source": [
"//Initilization of variables\n",
"a=5 //ft/s^2\n",
"C=50 //lb-ft\n",
"W=161 //lb\n",
"g=32.2 //ft/s^2\n",
"//Calculations\n",
"T=0.5*(W/g)*1^2*a+C //lb\n",
"Ox=-T*(2/sqrt(a)) //lb\n",
"Oy=T*(1/sqrt(a))+W //lb\n",
"Wa=T/(1-(a/g)) //lb\n",
"//Result\n",
"clc\n",
"printf('The values are T=%f lb,Wa=%f lb,Ox=%f lb and Oy=%f lb',T,Wa,Ox,Oy)"
   ]
   }
,
{
		   "cell_type": "markdown",
		   "metadata": {},
		   "source": [
			"## Example 16.49: Dyna_of_rig_body_in_PM.sce"
		   ]
		  },
  {
"cell_type": "code",
	   "execution_count": null,
	   "metadata": {
	    "collapsed": true
	   },
	   "outputs": [],
"source": [
"//Initilization of variables\n",
"m=100 //kg\n",
"mr=20 //kg\n",
"w=8 //rad/s\n",
"l1=300 //mm\n",
"l2=600 //mm\n",
"g=9.8 //m/s^2\n",
"//Calculations\n",
"r_bar=(mr*l1+m*750)/120 //mm\n",
"I=(1/3)*mr*(l2/1000)^2+(2/5)*m*(l1/2000)^2+m*(0.75)^2 //kg.m^2\n",
"alpha=(m+mr)*g*(r_bar/1000)/I //rad/s^2\n",
"On=(m+mr)*(r_bar/1000)*w^2 //N\n",
"Ot=((m+mr)*(r_bar/1000)*alpha)-(m+mr)*g //N\n",
"//Result\n",
"clc\n",
"printf('The angular acceleration is %f rad/s^2 and On=%f N and Ot=%f N',alpha,On,Ot)\n",
"//Due to decimal accuracy there is discrepancy in answers with the textbook\n",
""
   ]
   }
,
{
		   "cell_type": "markdown",
		   "metadata": {},
		   "source": [
			"## Example 16.50: Dyna_of_rig_body_in_PM.sce"
		   ]
		  },
  {
"cell_type": "code",
	   "execution_count": null,
	   "metadata": {
	    "collapsed": true
	   },
	   "outputs": [],
"source": [
"//Initilization of variables\n",
"W=40 //lb\n",
"w=10 //rad/s\n",
"alpha=2 //rad/s^2\n",
"r=2 //in\n",
"g=32.2 //ft/s^2\n",
"//Calculations\n",
"//Using equations of motion\n",
"On=(W/g)*(1/6)*w^2 //lb\n",
"Ot=(W/g)*(1/6)*alpha\n",
"Io=(0.5*(W/g)*0.5^2)*2+((W/g)*(1/6)^2)*2 \n",
"//Result\n",
"clc\n",
"printf('The reaction components are On=%f lb and Ot=%f lb',On,Ot)"
   ]
   }
,
{
		   "cell_type": "markdown",
		   "metadata": {},
		   "source": [
			"## Example 16.51: Dyna_of_rig_body_in_PM.sce"
		   ]
		  },
  {
"cell_type": "code",
	   "execution_count": null,
	   "metadata": {
	    "collapsed": true
	   },
	   "outputs": [],
"source": [
"//Initilizatin of variables\n",
"W=6 //lb\n",
"l=8 //ft\n",
"v=10 //ft/s\n",
"g=32.2 //ft/s^2\n",
"theta1=60 //degrees\n",
"theta2=30 //degrees\n",
"//Calculations\n",
"Fe=(W*v^2)/(g*l*0.5) //lb\n",
"//Using equations of motion\n",
"//Solving for C and T\n",
"A=[cosd(theta1),-cosd(theta2);cosd(theta2),cosd(theta1)]\n",
"B=[-Fe;W]\n",
"P=inv(A)*B //lb\n",
"C=P(1) //lb\n",
"T=P(2) //lb\n",
"//Result\n",
"clc\n",
"printf('The value of C is %f lb and T is %f lb',C,T)\n",
""
   ]
   }
,
{
		   "cell_type": "markdown",
		   "metadata": {},
		   "source": [
			"## Example 16.52: Dyna_of_rig_body_in_PM.sce"
		   ]
		  },
  {
"cell_type": "code",
	   "execution_count": null,
	   "metadata": {
	    "collapsed": true
	   },
	   "outputs": [],
"source": [
"//Initilization of variables\n",
"W=32.2 //lb\n",
"T=120 //lb\n",
"m=1 //slug\n",
"r=6/12 //ft\n",
"//Calculations\n",
"w=sqrt((T*(3/5)*4)/(m*r*3)) //rad/s\n",
"//Result\n",
"clc\n",
"printf('The angular speed permissible is %f rad/s',w)"
   ]
   }
,
{
		   "cell_type": "markdown",
		   "metadata": {},
		   "source": [
			"## Example 16.53: Dyna_of_rig_body_in_PM.sce"
		   ]
		  },
  {
"cell_type": "code",
	   "execution_count": null,
	   "metadata": {
	    "collapsed": true
	   },
	   "outputs": [],
"source": [
"//Initilization of variables\n",
"m=30 //kg\n",
"k=0.45 //m\n",
"g=9.8 //m/s^2\n",
"//Using equations of motion\n",
"//Solving for T1,T2 and alpha\n",
"A=[1,0,-m;0,-1,-45;-0.6,0.3,-m*k^2]\n",
"B=[50*g;-150*g;0]\n",
"C=inv(A)*B\n",
"//Result\n",
"clc\n",
"printf('The values are T1=%f N T2=%f N and alpha=%f rad/s^2 ',C(1),C(2),C(3))"
   ]
   }
,
{
		   "cell_type": "markdown",
		   "metadata": {},
		   "source": [
			"## Example 16.54: Dyna_of_rig_body_in_PM.sce"
		   ]
		  },
  {
"cell_type": "code",
	   "execution_count": null,
	   "metadata": {
	    "collapsed": true
	   },
	   "outputs": [],
"source": [
"//Initilization of variables\n",
"Wc=28 //lb\n",
"v=16 //ft/s\n",
"Ib=12 //ft-lb-s^2\n",
"u=0.4 //coefficient of friction\n",
"t=2 //s\n",
"g=32.2 //ft/s^2\n",
"//Calculations\n",
"T=Wc+(Wc/g)*8 //lb\n",
"alpha=8/(15/12) //rad/s^2\n",
"F=(Ib*alpha+T*1.25)/t //lb\n",
"N=F/u //lb\n",
"//Summing moments about D\n",
"P=(N*8+F*3)/40 //lb\n",
"//Summing forces horizontally and vertically\n",
"Dx=151-P //lb\n",
"Dy=-F //lb\n",
"//Result\n",
"clc\n",
"printf('The reactions at D are Dx=%f lb and Dy=%f lb',Dx,Dy)"
   ]
   }
,
{
		   "cell_type": "markdown",
		   "metadata": {},
		   "source": [
			"## Example 16.55: Dyna_of_rig_body_in_PM.sce"
		   ]
		  },
  {
"cell_type": "code",
	   "execution_count": null,
	   "metadata": {
	    "collapsed": true
	   },
	   "outputs": [],
"source": [
"//Initilization of variables\n",
"m=8 //kg\n",
"n=90 //rpm\n",
"g=9.8 //m/s^2\n",
"//Calculations\n",
"Fg=m*g //N\n",
"w=2*%pi*n/60 //rad/s\n",
"//using equations of motion\n",
"By=m*g //N\n",
"//Solving for Bx and C\n",
"A=[1,1;-0.3,0.9]\n",
"B=[m*0.3*w^2;By*0.3]\n",
"C=inv(A)*B //N\n",
"//Result\n",
"clc\n",
"printf('The solution is Bx=%f N ,By=%f N and C=%f N',C(1),By,C(2))"
   ]
   }
,
{
		   "cell_type": "markdown",
		   "metadata": {},
		   "source": [
			"## Example 16.56: Dyna_of_rig_body_in_PM.sce"
		   ]
		  },
  {
"cell_type": "code",
	   "execution_count": null,
	   "metadata": {
	    "collapsed": true
	   },
	   "outputs": [],
"source": [
"//Initilization of variables\n",
"m=8 //kg\n",
"n=90 //rpm\n",
"g=9.8 //m/s^2\n",
"r=0.3 //m\n",
"//calculations\n",
"w=2*%pi*n/60 //rad/s\n",
"//Using equations of motion\n",
"C=(m*g*0.3+m*r*w^2*r)/1.2 //N\n",
"Bx=C-m*r*w^2 //N\n",
"By=m*g //N\n",
"//Result\n",
"clc\n",
"printf('The solution is Bx=%f N ,By=%f N and C=%f N',Bx,By,C)"
   ]
   }
,
{
		   "cell_type": "markdown",
		   "metadata": {},
		   "source": [
			"## Example 16.57: Dyna_of_rig_body_in_PM.sce"
		   ]
		  },
  {
"cell_type": "code",
	   "execution_count": null,
	   "metadata": {
	    "collapsed": true
	   },
	   "outputs": [],
"source": [
"//Initilization of variables\n",
"Na=294 //N\n",
"Nb=735 //N\n",
"//Calculations\n",
"a=(1/10*Nb-1/3*Na)/45 //m/s^2\n",
"P=(1/3*Na)-30*a //N\n",
"//result\n",
"clc\n",
"printf('The solution is P=%f N and a=%f m/s^2',P,a)"
   ]
   }
,
{
		   "cell_type": "markdown",
		   "metadata": {},
		   "source": [
			"## Example 16.58: Dyna_of_rig_body_in_PM.sce"
		   ]
		  },
  {
"cell_type": "code",
	   "execution_count": null,
	   "metadata": {
	    "collapsed": true
	   },
	   "outputs": [],
"source": [
"//Initilization of variables\n",
"W=50 //lb\n",
"g=32.2\n",
"//Calculations\n",
"//Using equations of motion\n",
"a=(10/(W/g)) //ft/s^2\n",
"B=((2.5*(W/g)*a)+4*W-1.5*10)/8 //lb\n",
"A=50-B //lb\n",
"//Result\n",
"clc\n",
"printf('The solution is A=%f lb B=%f lb and a=%f ft/s^2',A,B,a)"
   ]
   }
,
{
		   "cell_type": "markdown",
		   "metadata": {},
		   "source": [
			"## Example 16.5: Dyna_of_rig_body_in_PM.sce"
		   ]
		  },
  {
"cell_type": "code",
	   "execution_count": null,
	   "metadata": {
	    "collapsed": true
	   },
	   "outputs": [],
"source": [
"//Initilization of variables\n",
"m=20 //kg\n",
"F1=40 //N\n",
"ro=0.6 //m\n",
"ri=0.45 //m\n",
"g=9.8 //m/s^2\n",
"//Calculations\n",
"//Moment of inertia\n",
"I=(2/5)*m*ro^2 //kg-m^2\n",
"//Applying Newtons Law and conservation of angular Momentum\n",
"//Solving by matrix method\n",
"A=[1,m;ro,-I/ro]\n",
"B=[F1;F1*ri]\n",
"C=inv(A)*B\n",
"//Storing answers in variables\n",
"F=C(1) //N\n",
"a=C(2) //m/s^2\n",
"//Result\n",
"clc\n",
"printf('The acceleration is %f m/s^2 and F=%f N',a,F)\n",
"//The solution in the textbook is incorrect"
   ]
   }
,
{
		   "cell_type": "markdown",
		   "metadata": {},
		   "source": [
			"## Example 16.60: Dyna_of_rig_body_in_PM.sce"
		   ]
		  },
  {
"cell_type": "code",
	   "execution_count": null,
	   "metadata": {
	    "collapsed": true
	   },
	   "outputs": [],
"source": [
"//Initilization of variables\n",
"g=9.8 //m/s^2\n",
"r1=0.3 //m\n",
"m1=20 //kg\n",
"m2=100 //kg\n",
"r2=0.75 //m\n",
"//Calculations\n",
"alpha=(m1*g*r1+m2*g*r2)/(m1*r1^2+(m1/12)*0.6^2+m2*r2^2+(2/5)*m2*0.15^2) //rad/s^2\n",
"//Result\n",
"clc\n",
"printf('The angular acceleration is %f rad/s^2',alpha)"
   ]
   }
,
{
		   "cell_type": "markdown",
		   "metadata": {},
		   "source": [
			"## Example 16.61: Dyna_of_rig_body_in_PM.sce"
		   ]
		  },
  {
"cell_type": "code",
	   "execution_count": null,
	   "metadata": {
	    "collapsed": true
	   },
	   "outputs": [],
"source": [
"//Initilization of variables\n",
"r=15/12 //ft\n",
"W=600 //lb\n",
"theta=25 //degrees\n",
"//calculations\n",
"ax=(r*W*sind(theta))/((1/r)*14.5+r*18.6) //ft/s^2\n",
"F=(W*sind(theta))-18.6*9.09 //lb\n",
"//Result\n",
"clc\n",
"printf('The solution is F=%f lb and ax=%f ft/s^2',F,ax)"
   ]
   }
,
{
		   "cell_type": "markdown",
		   "metadata": {},
		   "source": [
			"## Example 16.62: Dyna_of_rig_body_in_PM.sce"
		   ]
		  },
  {
"cell_type": "code",
	   "execution_count": null,
	   "metadata": {
	    "collapsed": true
	   },
	   "outputs": [],
"source": [
"//Initilization of variables\n",
"m=7 //kg\n",
"g=9.8 //m/s^2\n",
"r=0.5 //m\n",
"I=0.875 //kg.m^2\n",
"//Calculations\n",
"//Solving for alpha and T\n",
"alpha=(m*g*r)/(I+m*r*0.5) //rad/s^2\n",
"T=(I*alpha)/r //N\n",
"//Result\n",
"clc\n",
"printf('The soultion is alpha =%f rad/s^2 and T=%f N',alpha,T) "
   ]
   }
,
{
		   "cell_type": "markdown",
		   "metadata": {},
		   "source": [
			"## Example 16.6: Dyna_of_rig_body_in_PM.sce"
		   ]
		  },
  {
"cell_type": "code",
	   "execution_count": null,
	   "metadata": {
	    "collapsed": true
	   },
	   "outputs": [],
"source": [
"//Initilization of variables\n",
"W=16.1 //lb\n",
"u=0.10 //co-efficient of friction\n",
"g=32.2 //ft/s^2\n",
"theta=30 //degrees\n",
"F=1.39 //lb\n",
"//Calculations\n",
"//Applying Newtons Second Law\n",
"//Using F=1.39 lb\n",
"a=(W*sind(theta)-F)/(W/g) //ft/s^2\n",
"alpha=(F*0.5*5/2)/((W/g)*(0.5^2)) //rad/s^2\n",
"//Result\n",
"clc\n",
"printf('The value of a is %f ft/s^2 and alpha is %f rad/s^2.\n Hence the sphere will both roll and slip.',a,alpha)"
   ]
   }
,
{
		   "cell_type": "markdown",
		   "metadata": {},
		   "source": [
			"## Example 16.8: Dyna_of_rig_body_in_PM.sce"
		   ]
		  },
  {
"cell_type": "code",
	   "execution_count": null,
	   "metadata": {
	    "collapsed": true
	   },
	   "outputs": [],
"source": [
"//Initilization of variables\n",
"theta=30 //degrees\n",
"W=80 //lb\n",
"Ww=100 //lb\n",
"I=4 //slug-ft^2\n",
"r=0.5 //ft\n",
"v= 20 //ft/s\n",
"vo=0 //ft/s\n",
"g=32.2 //ft/s^2\n",
"//Calculations\n",
"//Using Equations of motion\n",
"//Solving the system of linear equatinons by matrix method\n",
"A=[-1,0,-W/g;1,-1,-Ww/g;0,r,-2*I]\n",
"B=[-W;Ww*sind(theta);0]\n",
"C=inv(A)*B\n",
"//Storing values in variables\n",
"T=C(1) //lb\n",
"F=C(2) //lb\n",
"a=C(3) //ft/s^2\n",
"//Time calculations\n",
"t=(v-vo)/a //s\n",
"//Result\n",
"clc\n",
"printf('The time required is %f s',t)"
   ]
   }
,
{
		   "cell_type": "markdown",
		   "metadata": {},
		   "source": [
			"## Example 16.9: Dyna_of_rig_body_in_PM.sce"
		   ]
		  },
  {
"cell_type": "code",
	   "execution_count": null,
	   "metadata": {
	    "collapsed": true
	   },
	   "outputs": [],
"source": [
"//Initilization of variables\n",
"M=70 //kg\n",
"ko=0.4 //m\n",
"ri=0.45 //m\n",
"ro=0.6 //m\n",
"theta=30 //degrees\n",
"m=35 //kg\n",
"g= 9.8 //m/s^2\n",
"//Calculations\n",
"I=M*ko^2 //kg-m^2\n",
"//Using Equations of motion\n",
"//Solving the equations by matrix method\n",
"A=[-1,-m*0.15,0;1,-M*ro,-1;-ri,-I,ro]\n",
"B=[-m*g;M*g*sind(theta);0]\n",
"C=inv(A)*B\n",
"F=C(3) //N\n",
"Na=M*g*cosd(theta) //N\n",
"//Required coefficient of friction\n",
"u=F/Na //coefficient of friction\n",
"//Result\n",
"clc\n",
"printf('The value of alpha is %f rad/s^2 and Tension is %f N\n F=%f N and Na=%f N also u=%f',C(2),C(1),F,Na,u)"
   ]
   }
],
"metadata": {
		  "kernelspec": {
		   "display_name": "Scilab",
		   "language": "scilab",
		   "name": "scilab"
		  },
		  "language_info": {
		   "file_extension": ".sce",
		   "help_links": [
			{
			 "text": "MetaKernel Magics",
			 "url": "https://github.com/calysto/metakernel/blob/master/metakernel/magics/README.md"
			}
		   ],
		   "mimetype": "text/x-octave",
		   "name": "scilab",
		   "version": "0.7.1"
		  }
		 },
		 "nbformat": 4,
		 "nbformat_minor": 0
}
