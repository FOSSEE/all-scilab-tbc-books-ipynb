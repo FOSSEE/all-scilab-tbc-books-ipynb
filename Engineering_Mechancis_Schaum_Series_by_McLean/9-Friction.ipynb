{
"cells": [
 {
		   "cell_type": "markdown",
	   "metadata": {},
	   "source": [
       "# Chapter 9: Friction"
	   ]
	},
{
		   "cell_type": "markdown",
		   "metadata": {},
		   "source": [
			"## Example 9.10: Frictio.sce"
		   ]
		  },
  {
"cell_type": "code",
	   "execution_count": null,
	   "metadata": {
	    "collapsed": true
	   },
	   "outputs": [],
"source": [
"//Initilization of variables\n",
"mu=0.2 //coefficient of friction\n",
"F1=150 //lb\n",
"F2=100 //lb\n",
"theta=60 //degrees\n",
"//Calculations\n",
"N1=F1*cosd(theta) //lb\n",
"T=(mu*N1+(F1*cosd(theta/2))) //lb considering positive\n",
"//Equilibrium for 100lb\n",
"//Eliminating N2 from both equations\n",
"//Taking derivative we get\n",
"theta2=atand(mu) //degrees\n",
"//Hence P becomes\n",
"P=(F2*mu+T)/(cosd(theta2)+(mu*sind(theta2))) //lb\n",
"//Result\n",
"clc\n",
"printf('The minimum value of P is %flb',P)"
   ]
   }
,
{
		   "cell_type": "markdown",
		   "metadata": {},
		   "source": [
			"## Example 9.11: Frictio.sce"
		   ]
		  },
  {
"cell_type": "code",
	   "execution_count": null,
	   "metadata": {
	    "collapsed": true
	   },
	   "outputs": [],
"source": [
"//Initilization of variables\n",
"F=180 //N\n",
"m=100 //kg\n",
"g=9.81 //m/s^2\n",
"mu=0.25 //coeffiecient of friction\n",
"//Calculations\n",
"//Assuming F2 is maximum\n",
"N2=F*2/(1+mu) //N\n",
"F2=mu*N2 //N\n",
"N1=m*g-F2 //N\n",
"F1=F-F2 //N\n",
"//Result\n",
"clc\n",
"printf('The vaules are N2=%fN,F2=%fN,N1=%fN and F1=%fN',N2,F2,N1,F1)"
   ]
   }
,
{
		   "cell_type": "markdown",
		   "metadata": {},
		   "source": [
			"## Example 9.12: Frictio.sce"
		   ]
		  },
  {
"cell_type": "code",
	   "execution_count": null,
	   "metadata": {
	    "collapsed": true
	   },
	   "outputs": [],
"source": [
"//Initilization of variables\n",
"N=4/3 //Normal reaction after solving without the mg term in it\n",
"u_N=1/2 //Frictional force without the mg term in it\n",
"//Calculations\n",
"u=u_N/N //Coefficient of friction\n",
"//Result\n",
"clc\n",
"printf('The frictional co-efficient is %f',u)\n",
"//The answer in the textbook and the code differs due to multiplication of fractions"
   ]
   }
,
{
		   "cell_type": "markdown",
		   "metadata": {},
		   "source": [
			"## Example 9.13: Frictio.sce"
		   ]
		  },
  {
"cell_type": "code",
	   "execution_count": null,
	   "metadata": {
	    "collapsed": true
	   },
	   "outputs": [],
"source": [
"//Initilization of variables\n",
"mu_ca=0.3 //ceofficient of friction between copper block A and aluminium block B\n",
"mu_af=0.2 //coefficient of friction between aluminium block B and Floor\n",
"ma=3 //kg\n",
"mb=2 //kg\n",
"g=9.81 //m/s^2\n",
"//Calculations\n",
"//For A\n",
"//Taking sum of forces along X and Y direction\n",
"Na=ma*g //N\n",
"P=mu_ca*Na //N\n",
"//For B\n",
"//Taking sum of forces along X and Y direction\n",
"Nb=Na+mb*g //N\n",
"Fb=mu_ca*Na //N\n",
"//Now largest value of friction before slip is \n",
"Fprimeb=mu_af*Nb //N\n",
"//Now as Fb<F'b hence initial assumption is incorrect and P=Fb\n",
"P=Fb //N\n",
"//Result\n",
"clc\n",
"printf('The value of force that will cause motion is %fN',P)"
   ]
   }
,
{
		   "cell_type": "markdown",
		   "metadata": {},
		   "source": [
			"## Example 9.15: Frictio.sce"
		   ]
		  },
  {
"cell_type": "code",
	   "execution_count": null,
	   "metadata": {
	    "collapsed": true
	   },
	   "outputs": [],
"source": [
"//Initilization of variables\n",
"d_m=2 //in   mean diameter of the screw\n",
"p=1/4 //in\n",
"mu=0.15 //coefficient of friction\n",
"l=2 //ft\n",
"L=4000 //lb\n",
"//Calculations\n",
"phi=atand(mu) //degrees\n",
"beta=atand(p/(%pi*l)) //degrees\n",
"//Force to raise the load\n",
"P=(L*tand(phi+beta))/(d_m*12) //lb\n",
"//Force to lower the load\n",
"P2=(L*tand(phi-beta))/(d_m*12) //lb\n",
"//Result\n",
"clc\n",
"printf('The force to raise the load is %flb and to lower is %flb',P,P2 )"
   ]
   }
,
{
		   "cell_type": "markdown",
		   "metadata": {},
		   "source": [
			"## Example 9.16: Frictio.sce"
		   ]
		  },
  {
"cell_type": "code",
	   "execution_count": null,
	   "metadata": {
	    "collapsed": true
	   },
	   "outputs": [],
"source": [
"//Initilization of variables\n",
"r_m=2.338 //in\n",
"d_m=3.25 //in\n",
"mu=0.06 //coefficient of friction\n",
"P=1500 //lb\n",
"p=1/4 //pitch\n",
"//Calculation\n",
"phi=atand(mu) //degrees\n",
"beta=atand(p/(2*%pi*r_m)) //degrees\n",
"M=P*r_m*tand(phi+beta)+mu*P*(d_m/2) //lb.in\n",
"//Result\n",
"clc\n",
"printf('The moment required is %flb-in',M)\n",
"//Decimal accuracy causes discrepancy in answers"
   ]
   }
,
{
		   "cell_type": "markdown",
		   "metadata": {},
		   "source": [
			"## Example 9.17: Frictio.sce"
		   ]
		  },
  {
"cell_type": "code",
	   "execution_count": null,
	   "metadata": {
	    "collapsed": true
	   },
	   "outputs": [],
"source": [
"//Initilization of variables\n",
"d=750 //mm diameter\n",
"alpha=%pi //wrap angle    radians\n",
"mu=0.25 //coefficient of friction\n",
"T_t=200 //N tension on the tight side\n",
"//Calculation\n",
"T2=T_t/(exp(mu*alpha)) //N\n",
"//Result\n",
"clc\n",
"printf('The tension of the slack side is %fN',T2)\n",
""
   ]
   }
,
{
		   "cell_type": "markdown",
		   "metadata": {},
		   "source": [
			"## Example 9.18: Frictio.sce"
		   ]
		  },
  {
"cell_type": "code",
	   "execution_count": null,
	   "metadata": {
	    "collapsed": true
	   },
	   "outputs": [],
"source": [
"//Initilization of variables\n",
"d=635 //mm diameter of the drum\n",
"P=178 //N\n",
"mu=1/3 //coefficient of friction\n",
"l1=100 //mm \n",
"l2=660 //mm\n",
"theta1=60 //degrees\n",
"GD=d/2 //mm\n",
"//Calculations\n",
"//Taking moment about point C\n",
"Tb=(P*(l1+l2))/(l1*sind(theta1)) //N\n",
"CD=((d/2)-(l1*cosd(theta1/2)))/sind(theta1/2) //mm\n",
"//from fig 9-22(b) \n",
"theta=asind(GD/CD) //degrees\n",
"//from fig9-22(c)\n",
"w_d=180+30+theta //degrees\n",
"w=(w_d)*(%pi/180) //radians\n",
"//As Tc is greater than Tb\n",
"Tc=Tb*(exp(mu*w)) //N\n",
"M=(Tc-Tb)*GD //N.mm\n",
"an=M/1000 //N.m\n",
"//Result\n",
"clc\n",
"printf('The braking moment required is %fN-m',an)\n",
"//Note the unit of the final enswer carefully"
   ]
   }
,
{
		   "cell_type": "markdown",
		   "metadata": {},
		   "source": [
			"## Example 9.19: Frictio.sce"
		   ]
		  },
  {
"cell_type": "code",
	   "execution_count": null,
	   "metadata": {
	    "collapsed": true
	   },
	   "outputs": [],
"source": [
"//Initilization of variables\n",
"L=1000 //lb\n",
"P=10 //lb\n",
"//Calculations\n",
"mu=log(L/P)/(4*2*%pi) \n",
"//Result\n",
"clc\n",
"printf('The coefficient of friction is %f',mu)"
   ]
   }
,
{
		   "cell_type": "markdown",
		   "metadata": {},
		   "source": [
			"## Example 9.1: Frictio.sce"
		   ]
		  },
  {
"cell_type": "code",
	   "execution_count": null,
	   "metadata": {
	    "collapsed": true
	   },
	   "outputs": [],
"source": [
"//Calculations\n",
"//Simplifying  equation (3) after substituting value of Nb in it we get\n",
"//m_u^2+m_u*2*tand(50)-1=0\n",
"//Solution of the equation\n",
"a=1\n",
"b=2*tand(50)\n",
"c=-1\n",
"g=sqrt(b^2-(4*a*c))\n",
"//solution\n",
"x1=(-b+g)/(2*a)\n",
"x2=(-b-g)/(2*a)\n",
"//As x2 does not make any physical sense x1 is the answer\n",
"//Result\n",
"clc\n",
"printf('The value of mu is %f',x1)"
   ]
   }
,
{
		   "cell_type": "markdown",
		   "metadata": {},
		   "source": [
			"## Example 9.20: Frictio.sce"
		   ]
		  },
  {
"cell_type": "code",
	   "execution_count": null,
	   "metadata": {
	    "collapsed": true
	   },
	   "outputs": [],
"source": [
"//Initilization of variables\n",
"m=900 //kg\n",
"mu=0.2 //coefficient of friction\n",
"g=9.8 //m/s^2\n",
"//Calculations\n",
"T2=m*g/(exp(2*2*%pi*mu)) //N\n",
"//Result\n",
"clc\n",
"printf('The force needed to hold the mass is %fN',T2)"
   ]
   }
,
{
		   "cell_type": "markdown",
		   "metadata": {},
		   "source": [
			"## Example 9.21: Frictio.sce"
		   ]
		  },
  {
"cell_type": "code",
	   "execution_count": null,
	   "metadata": {
	    "collapsed": true
	   },
	   "outputs": [],
"source": [
"//Initilization of variables\n",
"d=760 //mm\n",
"W=500 //N\n",
"a=0.305 //mm coefficient of rolling resisatnce\n",
"r=d/2 //mm\n",
"//Calculations\n",
"P=(W*a)/r //N\n",
"//Result\n",
"clc\n",
"printf('The force necessary is P=%fN',P)"
   ]
   }
,
{
		   "cell_type": "markdown",
		   "metadata": {},
		   "source": [
			"## Example 9.3: Frictio.sce"
		   ]
		  },
  {
"cell_type": "code",
	   "execution_count": null,
	   "metadata": {
	    "collapsed": true
	   },
	   "outputs": [],
"source": [
"//Initilization of variables\n",
"m=70 //kg\n",
"g=9.81 //m/s^2\n",
"theta=20 //degrees\n",
"//Calculations\n",
"//Solving by martix method\n",
"//Taking sum along vertical and horizontal direction and equating them to zero\n",
"A=[sind(theta) 1 0;-cosd(theta) 0 1;0 -1/4 1]\n",
"//RHS matrix\n",
"R=[m*g;0;0]\n",
"ans1=inv(A)*R //force vector N\n",
"//Calculation part 2\n",
"//Similar solution by matrix method\n",
"//Taking moment about point O and summing forces in horizontal and vertical direction and equating all to zero\n",
"B=[4*cosd(theta) 0 0;-cosd(theta) 1 0;sind(theta) 0 1]\n",
"//RHS matrix\n",
"J=[m*g*1.5;0;m*g]\n",
"ans2=inv(B)*J //force Vector N\n",
"//Result\n",
"clc\n",
"printf('The value of P in first case is %iN and that in second case is %iN',ans1(1),ans2(1))\n",
" "
   ]
   }
,
{
		   "cell_type": "markdown",
		   "metadata": {},
		   "source": [
			"## Example 9.4: Frictio.sce"
		   ]
		  },
  {
"cell_type": "code",
	   "execution_count": null,
	   "metadata": {
	    "collapsed": true
	   },
	   "outputs": [],
"source": [
"//Initilization of variables\n",
"W=200 //lb\n",
"Fapp=300 //lb\n",
"mu=0.3 //coefficient of friction\n",
"theta=30 //degrees\n",
"//Calculations\n",
"//Summing forces in the plane parallel to the slope\n",
"F=-(W*sind(theta)-Fapp*cosd(theta)) //lb\n",
"N1=(W*cosd(theta)+Fapp*sind(theta)) //lb\n",
"//Max value obtained\n",
"Fprime= mu*N1\n",
"//Result\n",
"clc\n",
"printf('The value of F and N1 are %flb and %flb respectively and the maximum value obtained is %flb',F,N1,Fprime)"
   ]
   }
,
{
		   "cell_type": "markdown",
		   "metadata": {},
		   "source": [
			"## Example 9.5: Frictio.sce"
		   ]
		  },
  {
"cell_type": "code",
	   "execution_count": null,
	   "metadata": {
	    "collapsed": true
	   },
	   "outputs": [],
"source": [
"//Initilization of variables\n",
"mu1=0.2 //coefficient of friction between wedges and A\n",
"mu2=1/4 //coefficient of friction between wedges \n",
"F=20 //tonnes\n",
"//Calculations\n",
"//Using the matrix method to solve\n",
"//Summing forces in vertical and horizontal direction\n",
"A=[1,-(mu1*10+1)/(sqrt(101));0, (10-mu1*1)/sqrt(101)] //force matrix\n",
"B=[mu2*F*1000;F*1000] //lb\n",
"//Solving both matrices\n",
"R=inv(A)*B //lb\n",
"//Result\n",
"clc\n",
"printf('The forces N2 and P are %ilb and %ilb respectively',R(2),R(1))\n",
"//Decimal accuracy causes discrepancy in answers"
   ]
   }
,
{
		   "cell_type": "markdown",
		   "metadata": {},
		   "source": [
			"## Example 9.6: Frictio.sce"
		   ]
		  },
  {
"cell_type": "code",
	   "execution_count": null,
	   "metadata": {
	    "collapsed": true
	   },
	   "outputs": [],
"source": [
"//Initilization of variables\n",
"theta=45 //degrees\n",
"mu1=1/4 //coefficient of friction between A and B\n",
"mu2=1/3 //coefficient of friction between A and Floor\n",
"ma=14 //kg\n",
"mb=9 //kg\n",
"g=9.81 //m/s^2\n",
"//Calculations\n",
"//Summing forces in vertical direction\n",
"Nb=mb*g //N\n",
"//Also\n",
"Fprimeb=mu1*Nb //N\n",
"//Summing forces in direction\n",
"T=Fprimeb //N\n",
"//Considering the fig(c)\n",
"//Summing forces in the horizontal direction and vertical direction and solving by matrix method \n",
"A=[-cosd(theta) mu2;sind(theta) 1] //N\n",
"B=[-Fprimeb;(mb*g+ma*g)] //N\n",
"R=inv(A)*B //N\n",
"//Result\n",
"clc\n",
"printf('The value of P and Na are %fN and %fN respectively',R(1),R(2))"
   ]
   }
,
{
		   "cell_type": "markdown",
		   "metadata": {},
		   "source": [
			"## Example 9.7: Frictio.sce"
		   ]
		  },
  {
"cell_type": "code",
	   "execution_count": null,
	   "metadata": {
	    "collapsed": true
	   },
	   "outputs": [],
"source": [
"//Initilization of variables\n",
"m1=40 //kg\n",
"m2=13.5 //kg\n",
"mu=1/3 //coefficient of friction\n",
"g=9.81 //m/s^2\n",
"//Calculations\n",
"//Solving by substitution\n",
"//After simplification we get\n",
"x=mu*m2*g\n",
"y=mu*(m1*g+m2*g)\n",
"theta=atand((x+y)/(m1*g)) //degrees\n",
"//Result\n",
"clc\n",
"printf('The value of the angle is %f degrees',theta) "
   ]
   }
,
{
		   "cell_type": "markdown",
		   "metadata": {},
		   "source": [
			"## Example 9.8: Frictio.sce"
		   ]
		  },
  {
"cell_type": "code",
	   "execution_count": null,
	   "metadata": {
	    "collapsed": true
	   },
	   "outputs": [],
"source": [
"//Initilization of variables\n",
"W=350 //lb\n",
"theta=30 //degrees\n",
"phi=15 //degrees\n",
"//Calculations\n",
"//Solving by the matrix method\n",
"A=[cosd(theta) sind(phi);-sind(theta) cosd(phi)]\n",
"B=[W*sind(theta);W*cosd(theta)]\n",
"an=inv(A)*B //lb\n",
"//Result\n",
"clc\n",
"printf('The value of P and R are %flb and %flb respectively',an(1),an(2))"
   ]
   }
,
{
		   "cell_type": "markdown",
		   "metadata": {},
		   "source": [
			"## Example 9.9: Frictio.sce"
		   ]
		  },
  {
"cell_type": "code",
	   "execution_count": null,
	   "metadata": {
	    "collapsed": true
	   },
	   "outputs": [],
"source": [
"//Initilization of variables\n",
"theta=45 //degrees\n",
"m1=45 //kg\n",
"m2=135 //kg\n",
"g=9.81 //m/s^2\n",
"mu=0.25 //coefficient of riction\n",
"//Calculations\n",
"N2=m2*g //N\n",
"T=mu*N2 //N\n",
"N1=m1*g*cosd(theta) //N\n",
"Fprime1=N1*mu //N\n",
"P=T+Fprime1-(m1*g*sind(theta)) //N\n",
"//Result\n",
"clc\n",
"printf('The values are N2=%fN,T=%fN,N1=%fN,Fprime1=%fN and P=%fN',N2,T,N1,Fprime1,P)"
   ]
   }
],
"metadata": {
		  "kernelspec": {
		   "display_name": "Scilab",
		   "language": "scilab",
		   "name": "scilab"
		  },
		  "language_info": {
		   "file_extension": ".sce",
		   "help_links": [
			{
			 "text": "MetaKernel Magics",
			 "url": "https://github.com/calysto/metakernel/blob/master/metakernel/magics/README.md"
			}
		   ],
		   "mimetype": "text/x-octave",
		   "name": "scilab",
		   "version": "0.7.1"
		  }
		 },
		 "nbformat": 4,
		 "nbformat_minor": 0
}
