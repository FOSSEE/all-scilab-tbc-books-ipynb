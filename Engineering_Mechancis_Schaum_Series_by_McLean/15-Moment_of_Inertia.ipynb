{
"cells": [
 {
		   "cell_type": "markdown",
	   "metadata": {},
	   "source": [
       "# Chapter 15: Moment of Inertia"
	   ]
	},
{
		   "cell_type": "markdown",
		   "metadata": {},
		   "source": [
			"## Example 15.11: MI.sce"
		   ]
		  },
  {
"cell_type": "code",
	   "execution_count": null,
	   "metadata": {
	    "collapsed": true
	   },
	   "outputs": [],
"source": [
"//Initilization of variables\n",
"y1=1 //in\n",
"y2=4 //in\n",
"d1=2.2-1 //in\n",
"d2=4-2.2 //in\n",
"A1=12 //in^2\n",
"A2=8 //in^2\n",
"b1=6 //in\n",
"b2=2 //in\n",
"h1=2 //in\n",
"h2=4 //in\n",
"//Calculations\n",
"y_bar=(A1*y1+A2*y2)/(A1+A2) //in\n",
"I1=(1/12)*(b1)*(h1^3) //in^4\n",
"I2=(1/12)*(b2)*(h2^3) //in^4\n",
"//Using Parallel Axes Theorem\n",
"I=(I1+A1*d1^2)+(I2+A2*d2^2) //in^4\n",
"//Result\n",
"clc\n",
"printf('The moment of inertia is %f in^4',I)"
   ]
   }
,
{
		   "cell_type": "markdown",
		   "metadata": {},
		   "source": [
			"## Example 15.12: MI.sce"
		   ]
		  },
  {
"cell_type": "code",
	   "execution_count": null,
	   "metadata": {
	    "collapsed": true
	   },
	   "outputs": [],
"source": [
"//Initilization of variables\n",
"d=60 //mm diameter of the hole\n",
"//Areas\n",
"At=100*100 //mm^2\n",
"Ab=200*100 //mm^2\n",
"Ac=((%pi/4)*d^2) //mm^2\n",
"bt=100 //mm\n",
"ht=100 //mm\n",
"bb=200 //mm\n",
"hb=100 //mm\n",
"//Distance of centroids of each area\n",
"yt=150 //mm\n",
"yb=50 //mm\n",
"yc=150 //mm\n",
"//Calculations\n",
"y_bar=((At*yt)+(Ab*yb)-(Ac*yc))/(At+Ab-Ac) //mm\n",
"//Distances\n",
"dt=yt-y_bar //mm\n",
"db=y_bar-yb //mm\n",
"dc=yc-y_bar //mm\n",
"//Values of Inertia\n",
"It=(1/12)*(bt)*(ht^3) //mm^4\n",
"Ib=(1/12)*(bb)*(hb^3) //mm^4\n",
"Ic=(1/4)*(%pi)*((d/2)^4) //mm^4\n",
"//Moment of inertia\n",
"I=(It+At*dt^2)+(Ib+Ab*db^2)-(Ic+Ac*dc^2) //mm^4\n",
"//Result\n",
"clc\n",
"printf('The moment of inertia is %f mm^4',I)"
   ]
   }
,
{
		   "cell_type": "markdown",
		   "metadata": {},
		   "source": [
			"## Example 15.14: MI.sce"
		   ]
		  },
  {
"cell_type": "code",
	   "execution_count": null,
	   "metadata": {
	    "collapsed": true
	   },
	   "outputs": [],
"source": [
"//Initilization of variables\n",
"b1=2 //in\n",
"b2=4 //in\n",
"h1=8 //in\n",
"h2=2 //in\n",
"bo=8 //in\n",
"ho=8 //in\n",
"bi=4 //in\n",
"hi=4 //in\n",
"//Calculations\n",
"I1=(1/12)*(b1)*(h1^3) //in^4\n",
"I2=(1/12)*(b2)*(h2^3) //in^4\n",
"I=2*(I1+I2) //in^4\n",
"Io=(1/12)*(bo)*(ho^3) //in^4\n",
"Ii=(1/12)*(bi)*(hi^3) //in^4\n",
"I_bar=Io-Ii //in^4\n",
"//Result\n",
"clc\n",
"printf('The moment of inertia is %f in^4',I_bar)"
   ]
   }
,
{
		   "cell_type": "markdown",
		   "metadata": {},
		   "source": [
			"## Example 15.15: MI.sce"
		   ]
		  },
  {
"cell_type": "code",
	   "execution_count": null,
	   "metadata": {
	    "collapsed": true
	   },
	   "outputs": [],
"source": [
"//Initilization of variables\n",
"b1=75 //mm\n",
"b2=12 //mm\n",
"h1=12 //mm\n",
"h2=162 //mm\n",
"d1=75 //mm\n",
"//Calculations\n",
"A=(h2*b2)+(2*b1*h1) //mm^2\n",
"I1=(1/12)*(b1)*(h1^3)+(b1*h1*d1^2) //mm^4\n",
"I2=(1/12)*(b2)*(h2^3) //mm^4\n",
"I_bar=2*I1+I2 //mm^4\n",
"k=sqrt(I_bar/A) //mm\n",
"//Result\n",
"clc\n",
"printf('The radius of gyration is %f mm',k) "
   ]
   }
,
{
		   "cell_type": "markdown",
		   "metadata": {},
		   "source": [
			"## Example 15.20: MI.sce"
		   ]
		  },
  {
"cell_type": "code",
	   "execution_count": null,
	   "metadata": {
	    "collapsed": true
	   },
	   "outputs": [],
"source": [
"//Initilization of variables\n",
"r=50 //mm\n",
"//Calculations\n",
"Ixy=(1/8)*(50^4) //mm^4\n",
"//Result\n",
"clc\n",
"printf('The moment of inertia is %f mm^4',Ixy)"
   ]
   }
,
{
		   "cell_type": "markdown",
		   "metadata": {},
		   "source": [
			"## Example 15.24: MI.sce"
		   ]
		  },
  {
"cell_type": "code",
	   "execution_count": null,
	   "metadata": {
	    "collapsed": true
	   },
	   "outputs": [],
"source": [
"//The notation has been changed for ease\n",
"//Calculations\n",
"x=(5*1*3.5+8*1*0.5)/(5*1+8*1) //in\n",
"y=(5*1*0.5+8*1*4)/13 //in\n",
"//Moment of inertia \n",
"Ix=(1/12)*(5)*(1^3)+(5*2.15*2.15)+(1/12)*(1*8^3)+(8*1.35^2) //in^4\n",
"Iy=(1/12)*(1)*(5^3)+(5*1.85*1.85)+(1/12)*(8)*(1^3)+(8*1.15^2) //in^4\n",
"Ixy=(8*1*(-1.15)*1.35)+(5*1*1.85*(-2.15)) //in^4\n",
"//Mohr circle calculations\n",
"d=0.5*(Ix+Iy) //distance to center of the cirlce \n",
"r=sqrt((21^2)+(32.3^2)) \n",
"maxI=d+r //in^4\n",
"theta=atand(32.3/21) //degrees maxI occurs at this angle\n",
"minI=d-r //in^r\n",
"//Result\n",
"clc\n",
"printf('The moment of inertias are as follows\n Ix=%f in^4,Iy=%f in^4,Ixy=%f in^4\n Imax=%fin^4 and Imin=%f in^4',Ix,Iy,Ixy,maxI,minI)\n",
"\n",
" "
   ]
   }
,
{
		   "cell_type": "markdown",
		   "metadata": {},
		   "source": [
			"## Example 15.25: MI.sce"
		   ]
		  },
  {
"cell_type": "code",
	   "execution_count": null,
	   "metadata": {
	    "collapsed": true
	   },
	   "outputs": [],
"source": [
"//Notations have been changed\n",
"//Calculations\n",
"x=-(25*125*0.5*125+25*100*0.5*25)/(25*125+25*100) //mm\n",
"y=(25*125*0.5*25+25*100*75)/5625 //mm \n",
"Iy=(1/12)*25*125^3+25*125*(62.5-40.3)^2+(1/12)*100*25^3+100*25*(40.3-12.5)^2 //mm^4\n",
"Ix=Iy //mm^4 for L-section\n",
"//The second computation checks the first\n",
"Ixy=(125*25*22.2*27.8)+(100*25*(-27.8)*(-34.7)) //mm^4\n",
"//Mohr Circle analysis\n",
"Imax=Ix+Ixy //mm^4\n",
"Imin=Ix-Ixy //mm^4\n",
"//Result\n",
"clc\n",
"printf('The values of moment of inertia are\n Ix=%fmm^4,Iy=%fmm^4,Ixy=%fmm^4\n Imax=%fmm^4 and Imin=%fmm^4',Ix,Iy,Ixy,Imax,Imin)"
   ]
   }
,
{
		   "cell_type": "markdown",
		   "metadata": {},
		   "source": [
			"## Example 15.30: MI.sce"
		   ]
		  },
  {
"cell_type": "code",
	   "execution_count": null,
	   "metadata": {
	    "collapsed": true
	   },
	   "outputs": [],
"source": [
"//Initilization of variables\n",
"rho=490 //lb/ft^3\n",
"t=0.02 //in\n",
"d=4 //in\n",
"r=d/2 //in\n",
"g=32.2 //ft/s^2\n",
"//Calculations\n",
"W=(%pi*r^2*t*rho)/1728 //lb\n",
"//Mass\n",
"m=W/g //slugs\n",
"//Momemt of inertia\n",
"I=(1/4)*m*(r/12)^2 //slug-ft^2\n",
"//Result\n",
"clc\n",
"printf('the moment of inertia is %fslug-ft^2',I)"
   ]
   }
,
{
		   "cell_type": "markdown",
		   "metadata": {},
		   "source": [
			"## Example 15.36: MI.sce"
		   ]
		  },
  {
"cell_type": "code",
	   "execution_count": null,
	   "metadata": {
	    "collapsed": true
	   },
	   "outputs": [],
"source": [
"//Initilization of variables\n",
"//The integration involves variables hence the direct formula is being used in this coding\n",
"m=500 //kg\n",
"R=0.25 //m\n",
"h=0.5 //m\n",
"//Calculations\n",
"Ix=(3/10)*m*R^2 //kg.m^2\n",
"Iy=(3/5)*m*((1/4)*R^2+h^2) //kg.m^2\n",
"//Result\n",
"clc\n",
"printf('Hence proved that Ix=%fkg-m^2 and Iy=%fkg-m^2',Ix,Iy) "
   ]
   }
,
{
		   "cell_type": "markdown",
		   "metadata": {},
		   "source": [
			"## Example 15.37: MI.sce"
		   ]
		  },
  {
"cell_type": "code",
	   "execution_count": null,
	   "metadata": {
	    "collapsed": true
	   },
	   "outputs": [],
"source": [
"//Initilization of variables\n",
"del=450 //lb/ft^3\n",
"h1=9/12 //ft\n",
"h2=10/12 //ft\n",
"ro1=4/12 //ft\n",
"ri1=2/12 //ft\n",
"ro2=18/12 //ft\n",
"ri2=16/12 //ft\n",
"a=2.5/24 //ft\n",
"b=3.5/24 //ft\n",
"l=1 //ft\n",
"g=32.2 //ft/s^2\n",
"//Calculations\n",
"Whub=(%pi*ro1^2-%pi*ri1^2)*h1*del //lb\n",
"Wrim=(%pi*ro2^2-%pi*ri2^2)*h2*del //lb\n",
"//For one spoke\n",
"Wspoke=(%pi*a*b*l*del) //lb\n",
"//Moment of inertia calculations\n",
"Ihub=0.5*(Whub/g)*(ro1^2+ri1^2) //lb-s^2-ft\n",
"Irim=0.5*(Wrim/g)*(ro2^2+ri2^2) //lb-s^2-ft\n",
"Ispoke=6*((1/12)*(Wspoke/g)*l^2+(Wspoke/g)*h2^2) //lb-s^2-ft\n",
"Iwheel=Ihub+Irim+Ispoke //lb-s^2-ft\n",
"//result\n",
"clc\n",
"printf('The moment of inertia of the wheel is %flb-s^2-ft',Iwheel)"
   ]
   }
],
"metadata": {
		  "kernelspec": {
		   "display_name": "Scilab",
		   "language": "scilab",
		   "name": "scilab"
		  },
		  "language_info": {
		   "file_extension": ".sce",
		   "help_links": [
			{
			 "text": "MetaKernel Magics",
			 "url": "https://github.com/calysto/metakernel/blob/master/metakernel/magics/README.md"
			}
		   ],
		   "mimetype": "text/x-octave",
		   "name": "scilab",
		   "version": "0.7.1"
		  }
		 },
		 "nbformat": 4,
		 "nbformat_minor": 0
}
