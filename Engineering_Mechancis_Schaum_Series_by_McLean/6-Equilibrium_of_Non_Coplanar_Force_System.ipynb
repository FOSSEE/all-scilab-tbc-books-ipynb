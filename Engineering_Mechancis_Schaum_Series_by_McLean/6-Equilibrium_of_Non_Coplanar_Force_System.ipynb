{
"cells": [
 {
		   "cell_type": "markdown",
	   "metadata": {},
	   "source": [
       "# Chapter 6: Equilibrium of Non Coplanar Force System"
	   ]
	},
{
		   "cell_type": "markdown",
		   "metadata": {},
		   "source": [
			"## Example 6.11: Equilibrium_of_NCFS.sce"
		   ]
		  },
  {
"cell_type": "code",
	   "execution_count": null,
	   "metadata": {
	    "collapsed": true
	   },
	   "outputs": [],
"source": [
"//Initilization of variables\n",
"w=50 //lb wind load\n",
"W=60 //lb weight of door\n",
"//Calculations\n",
"//Calculation as system of linear equations\n",
"A=[0 0 33;1 1 -1;28 10 -28]\n",
"B=[50*18;-50;-50*24]\n",
"C=inv(A)*B\n",
"P=C(3)/cosd(20)\n",
"D=[-28 -10;1 1]\n",
"E=[1080-(28*(P*sind(20)));P*sind(20)]\n",
"F=inv(D)*E\n",
"By=60\n",
"//Result\n",
"clc\n",
"printf('The forces are as follows: \n')\n",
"printf('Az=%flb Bz=%flb Pz=%flb Ax=%flb Bx=%flb P=%flb By=%flb',C(1),C(2),C(3),F(1),F(2),P,By)"
   ]
   }
,
{
		   "cell_type": "markdown",
		   "metadata": {},
		   "source": [
			"## Example 6.12: Equilibrium_of_NCFS.sce"
		   ]
		  },
  {
"cell_type": "code",
	   "execution_count": null,
	   "metadata": {
	    "collapsed": true
	   },
	   "outputs": [],
"source": [
"//Initilization of variables\n",
"m=1 //kg\n",
"g=9.81 //m/s^2\n",
"t1=45 //degrees\n",
"t2=30 //degrees\n",
"//Calculations\n",
"//Solving as system of linear equations\n",
"A=[1 0 -cosd(t1) 0;0 1 0 3/5;-5 g*m*cosd(t1)*cosd(t2) 0 0;-1 0 0 4/5]\n",
"B=[0;g*m;g*m*5*cosd(t1)*cosd(t2);0]\n",
"C=inv(A)*B\n",
"//Result\n",
"clc\n",
"printf('The forces are Nb=%fN Nc=%fN Tc=%fN Tb=%fN',C(1),C(2),C(3),C(4)) "
   ]
   }
,
{
		   "cell_type": "markdown",
		   "metadata": {},
		   "source": [
			"## Example 6.13: Equilibrium_of_NCFS.sce"
		   ]
		  },
  {
"cell_type": "code",
	   "execution_count": null,
	   "metadata": {
	    "collapsed": true
	   },
	   "outputs": [],
"source": [
"//Initilization of variables\n",
"l=200 //lb\n",
"//Calculations\n",
"P=l*5/12 //lb\n",
"//Solving as system of linear equations\n",
"A=[0 -36 0 0;0 0 0 36;0 0 1 1;1 1 0 0]\n",
"B=[-P*cosd(25)*48;l*20+P*sind(25)*48;P*sind(25)+200;P*cosd(25)]\n",
"C=inv(A)*B\n",
"//Result\n",
"clc\n",
"printf('The forces are Az=%flb Bz=%flb Ay=%flb By=%flb',C(1),C(2),C(3),C(4))"
   ]
   }
,
{
		   "cell_type": "markdown",
		   "metadata": {},
		   "source": [
			"## Example 6.14: Equilibrium_of_NCFS.sce"
		   ]
		  },
  {
"cell_type": "code",
	   "execution_count": null,
	   "metadata": {
	    "collapsed": true
	   },
	   "outputs": [],
"source": [
"//Initilization of variables\n",
"A=80 //lb\n",
"B=40 //lb\n",
"C=60 //lb\n",
"l1=2 //in\n",
"l2=4 //in\n",
"l3=6 //in\n",
"l4=9 //in\n",
"l5=3 //in\n",
"l6=7 //in\n",
"//Calculations\n",
"P=-(-A*l1+B*l2-C*l2)/l1\n",
"By=-(A*l3+P*l3)/l4\n",
"Ay=(-A*l5-P*l5)/l4\n",
"Bz=-(-C*l1-B*l1)/l4\n",
"Az=(C*l6+B*l6)/l4\n",
"//Result\n",
"clc\n",
"printf('The forces are Ay=%flb By=%flb Az=%flb Bz=%flb',Ay,By,Az,Bz)"
   ]
   }
,
{
		   "cell_type": "markdown",
		   "metadata": {},
		   "source": [
			"## Example 6.15: Equilibrium_of_NCFS.sce"
		   ]
		  },
  {
"cell_type": "code",
	   "execution_count": null,
	   "metadata": {
	    "collapsed": true
	   },
	   "outputs": [],
"source": [
"//Initilization of variables\n",
"W=138 //lb\n",
"w=80 //lb\n",
"//Calculations\n",
"u=sqrt(3*3+4*4+6*6)\n",
"a=[-3/u 4/u -6/u]\n",
"v=sqrt(3*3+3*3+3*3)\n",
"c=[3/v 3/v -3/v]\n",
"P=[1 0 0;0 0 8;0 -W 0]\n",
"Q=[0 0 1;0 0 8;0 -W 0]\n",
"R=[1 0 0;0 0 4;0 -w 0]\n",
"S=[0 0 1;0 0 4;0 -w 0]\n",
"T=[1 0 0;0 0 6;a(1) a(2) a(3)]\n",
"U=[0 1 0;0 0 6;a(1) a(2) a(3)]\n",
"V=[1 0 0;0 0 3;c(1) c(2) c(3)]\n",
"Y=[0 1 0;0 0 3;c(1) c(2) c(3)]\n",
"//Solving for A and C\n",
"MAT1=[det(T) det(V);det(U) det(Y)]\n",
"MAT2=[det(P)+det(R);0]\n",
"res=-inv(MAT1)*MAT2\n",
"A=[a(1)*res(1) a(2)*res(1) a(3)*res(1)]\n",
"C=[c(1)*res(2) c(2)*res(2) c(3)*res(2)]\n",
"E=[-(A(1)+C(1)) -(-w-W+A(2)+C(2)) -(A(3)+C(3))]\n",
"//Result\n",
"clc\n",
"printf('The force vectors are as follows\n')\n",
"printf('A=%fi+%fj%fk lb and C=%fi+%fj%fk lb also Ex=%f Ey=%flb Ez=%flb',A(1),A(2),A(3),C(1),C(2),C(3),E(1),E(2),E(3))\n",
"//Decimal accuracy causes discrepancy in the answers"
   ]
   }
,
{
		   "cell_type": "markdown",
		   "metadata": {},
		   "source": [
			"## Example 6.1: Equilibrium_of_NCFS.sce"
		   ]
		  },
  {
"cell_type": "code",
	   "execution_count": null,
	   "metadata": {
	    "collapsed": true
	   },
	   "outputs": [],
"source": [
"//Initilization of variables\n",
"H=30 //ft\n",
"F=150 //lb\n",
"theta1=10 //degrees\n",
"theta2=30 //degrees\n",
"theta3=60 //degrees\n",
"//Calculations\n",
"//Matrix solution of simultaneous equations\n",
"X=[cosd(theta3)*sind(theta2) -cosd(theta3)*sind(theta2);cosd(theta3)*cosd(theta2) cosd(theta3)*cosd(theta2)] \n",
"Y=[0;F*cosd(theta1)] \n",
"R=inv(X)*Y\n",
"//To find P,sum the forces vertically along the y-axis\n",
"P=F*sind(theta1)+2*R(1,1)*sind(theta3) //lb Copression\n",
"//Result\n",
"clc\n",
"printf('The value of A and B is %f lb and that of P is %f lb',R(1,1),P)"
   ]
   }
,
{
		   "cell_type": "markdown",
		   "metadata": {},
		   "source": [
			"## Example 6.2: Equilibrium_of_NCFS.sce"
		   ]
		  },
  {
"cell_type": "code",
	   "execution_count": null,
	   "metadata": {
	    "collapsed": true
	   },
	   "outputs": [],
"source": [
"//Initilization of variables\n",
"F=150 //lb\n",
"theta1=10 //degrees \n",
"theta2=30 //degrees\n",
"theta3=60 //degrees\n",
"//Calculations\n",
"A=[-cosd(theta3)*cosd(theta2);-sind(theta3);cosd(theta3)*sind(theta2)] \n",
"B=[-cosd(theta3)*cosd(theta2);-sind(theta3);cosd(theta3)*sind(theta2)]\n",
"//150lb force is actually a vector\n",
"F_v=[F*cosd(theta1);F*sind(theta1);0] //lb\n",
"//Postion vector relative to C \n",
"r=[0;30;0]\n",
"//Moment about point C is zero\n",
"//solution by matrix\n",
"X=[7.5 -7.5;13 13] \n",
"Y=[0;4470] \n",
"R=inv(X)*Y\n",
"A=R(1,1) //lb\n",
"B=R(2,1) //lb\n",
"//Summing forces in y direction\n",
"Cy=0.866*A+0.866*B+25.9 //lb\n",
"//Result\n",
"clc\n",
"printf('The value of A and B is %f lb and that of Cy is %f lb',A,Cy) \n",
""
   ]
   }
,
{
		   "cell_type": "markdown",
		   "metadata": {},
		   "source": [
			"## Example 6.3: Equilibrium_of_NCFS.sce"
		   ]
		  },
  {
"cell_type": "code",
	   "execution_count": null,
	   "metadata": {
	    "collapsed": true
	   },
	   "outputs": [],
"source": [
"//Initililization of variables\n",
"m=6.12 //kg\n",
"g=9.81//m/s^2\n",
"x1=3 //m\n",
"x2=4 //m\n",
"y=6 //m\n",
"z1=2 //m\n",
"z2=4 //m\n",
"AB=5\n",
"//Calculations\n",
"AD=sqrt(x1^2+y^2+z1^2) \n",
"AC=sqrt(x2^2+z1^2)\n",
"//Sum of forces in the y direction\n",
"T1=(m*g*AD)/6 //N\n",
"//sum of forces in the x and z direction\n",
"//Matrix solution of the folllowing simultaneous equations\n",
"X=[x2/AC, -x1/AB;-z1/AC, z2/AB]\n",
"Y=[T1*(x1/AD);T1*(z1/AD)] \n",
"R=inv(X)*Y\n",
"T2=R(1) //N\n",
"T3=R(2) //N\n",
"//Result\n",
"clc\n",
"printf('The values of T1,T2 and T3 are %f N,%f N and %f N respectively',T1,T2,T3) "
   ]
   }
,
{
		   "cell_type": "markdown",
		   "metadata": {},
		   "source": [
			"## Example 6.4: Equilibrium_of_NCFS.sce"
		   ]
		  },
  {
"cell_type": "code",
	   "execution_count": null,
	   "metadata": {
	    "collapsed": true
	   },
	   "outputs": [],
"source": [
"//Intilization of variables\n",
"F=[0;60;0] //Force defined as a matrix\n",
"t1=[-3/7;6/7;-2/7] //Tension defined as a matrix\n",
"t2=[4/4.47;0;-2/4.47] //tension defined as a mtrix\n",
"t3=[-3/5;0;4/5] //Tension defined as a matrix\n",
"//Calculations\n",
"//Summation of forces in the y-direction\n",
"T1=F(2,1)/t1(2,1) //N\n",
"//Summation of forces in the x-direction and z direction\n",
"M1=[t2(1,1) t3(1,1);t2(3,1) t3(3,1)]\n",
"M2=-1*[t1(1,1)*T1;t1(3,1)*T1] \n",
"R=inv(M1)*M2\n",
"//Result\n",
"clc\n",
"printf('The tension in the strings are T1=%f,T2=%f and T3=%f',T1,R(1),R(2))"
   ]
   }
,
{
		   "cell_type": "markdown",
		   "metadata": {},
		   "source": [
			"## Example 6.5: Equilibrium_of_NCFS.sce"
		   ]
		  },
  {
"cell_type": "code",
	   "execution_count": null,
	   "metadata": {
	    "collapsed": true
	   },
	   "outputs": [],
"source": [
"//Initilization of variables\n",
"m=80 //kg\n",
"g=9.81 //m/s^2\n",
"//Co-ordinates of points in Meters\n",
"A=[1,3,0]\n",
"B=[3,3,-4]\n",
"C=[4,3,0]\n",
"D=[2,0,-1]\n",
"//Calculations\n",
"//Tension in DC will be\n",
"a=[C(1)-D(1),C(2)-D(2),C(3)-D(3)]\n",
"h=sqrt((C(1)-D(1))^2+(C(2)-D(2))^2+(C(3)-D(3))^2)\n",
"c=a/h\n",
"//Unit vector calculations\n",
"e=[B(1)-A(1),B(2)-A(2),B(3)-A(3)]\n",
"v=sqrt((B(1)-A(1))^2+(B(2)-A(2))^2+(B(3)-A(3))^2)\n",
"e_ab=e/v\n",
"//Position vector AD\n",
"r_ad=[D(1)-A(1),D(2)-A(2),D(3)-A(3)]\n",
"//Moment Calculations\n",
"O=[1,0,0;1,-3,-1;0,-m*g,0]\n",
"P=[0,1,0;1,-3,-1;0,-m*g,0]\n",
"Q=[0,0,1;1,-3,-1;0,-m*g,0]\n",
"C1=[1,0,0;1,-3,-1;2,3,1]\n",
"C2=[0,1,0;1,-3,-1;2,3,1]\n",
"C3=[0,0,1;1,-3,-1;2,3,1]\n",
"rxF1=[det(O),det(P),det(Q)]\n",
"rxF2=[(det(C1)/h),(det(C2)/h),(det(C3)/h)]\n",
"//Final Moment calculations\n",
"rxF=rxF1+rxF2 \n",
"//Taking dot product\n",
"dot1=e_ab.*rxF\n",
"dot2=e_ab.*rxF2\n",
"//equating dot product to zero to obtain C\n",
"C=-(dot1(1)+dot1(3))/dot2(3)\n",
"//Result\n",
"clc\n",
"printf('The tension in CD is %f N',C)"
   ]
   }
,
{
		   "cell_type": "markdown",
		   "metadata": {},
		   "source": [
			"## Example 6.6: Equilibrium_of_NCFS.sce"
		   ]
		  },
  {
"cell_type": "code",
	   "execution_count": null,
	   "metadata": {
	    "collapsed": true
	   },
	   "outputs": [],
"source": [
"//Initilization of variables\n",
"w=200 //lb\n",
"Dh=4 //ft\n",
"//Calculation\n",
"theta=atand(2/Dh) //degrees\n",
"T=w/(3*cosd(theta)) //lb\n",
"//result\n",
"clc\n",
"printf('The Tension in each rope is %f lb\n Theta=%f degrees',T,theta)"
   ]
   }
,
{
		   "cell_type": "markdown",
		   "metadata": {},
		   "source": [
			"## Example 6.7: Equilibrium_of_NCFS.sce"
		   ]
		  },
  {
"cell_type": "code",
	   "execution_count": null,
	   "metadata": {
	    "collapsed": true
	   },
	   "outputs": [],
"source": [
"//Initilization of variables\n",
"F=[100,0,0] //N\n",
"CE=5 //m\n",
"BC=sqrt(34) //m\n",
"AC=sqrt(41) //m\n",
"//Calculations\n",
"//solving as a matrix for system of linear equations\n",
"A=[3/BC,-4/AC,0;0,0,(6*4)/CE;-3/BC,-3/AC,-3/CE]\n",
"B=[0;F(1)*4;-F(1)]\n",
"C=inv(A)*B\n",
"//Result\n",
"clc\n",
"printf('The forces F1 F2 and F3 are as %f N %fN and %fN respectively\n',C(1),C(2),C(3))\n",
"printf('Here F3 is compression assumed and rest are Tension')"
   ]
   }
,
{
		   "cell_type": "markdown",
		   "metadata": {},
		   "source": [
			"## Example 6.8: Equilibrium_of_NCFS.sce"
		   ]
		  },
  {
"cell_type": "code",
	   "execution_count": null,
	   "metadata": {
	    "collapsed": true
	   },
	   "outputs": [],
"source": [
"//Initilization of variables\n",
"F=[100,0,0] //N\n",
"CE=5 //m\n",
"BC=sqrt(34) //m\n",
"AC=sqrt(41) //m\n",
"//Calculations\n",
"//solving as a matrix for system of linear equations\n",
"A=[3/BC,-4/AC,0;0,0,(6*4)/CE;-3/BC,-3/AC,-3/CE]\n",
"B=[0;F(1)*4;-F(1)]\n",
"C=inv(A)*B\n",
"//Result\n",
"clc\n",
"printf('The forces F1 F2 and F3 are as %f N %fN and %fN respectively\n',C(1),C(2),C(3))\n",
"printf('Here F3 is compression assumed and rest are Tension')"
   ]
   }
,
{
		   "cell_type": "markdown",
		   "metadata": {},
		   "source": [
			"## Example 6.9: Equilibrium_of_NCFS.sce"
		   ]
		  },
  {
"cell_type": "code",
	   "execution_count": null,
	   "metadata": {
	    "collapsed": true
	   },
	   "outputs": [],
"source": [
"//Initilization of variables\n",
"//here forces will be defines as matrices along with their co-ordinates\n",
"//Force in N and co-ordinates in mm\n",
"F1=[30 200 300] \n",
"F2=[10 400 200]\n",
"F3=[20 200 500]\n",
"F4=[50 400 500]\n",
"//Calculations\n",
"//solving as system of linear equations\n",
"A=[1 1 1;-600 -600 0;0 600 600]\n",
"B=[F1(1)+F2(1)+F3(1)+F4(1);-(F3(1)*F3(3)+F1(1)*F1(3)+F4(1)*F4(3)+F2(1)*F2(3));-(-F3(1)*F3(2)-F1(1)*F1(2)-F4(1)*F4(2)-F2(1)*F2(2))]\n",
"C=inv(A)*B\n",
"//Result\n",
"clc\n",
"printf('The reactions are as R1=%fN, R2=%fN and R3=%fN',C(1),C(2),C(3))"
   ]
   }
],
"metadata": {
		  "kernelspec": {
		   "display_name": "Scilab",
		   "language": "scilab",
		   "name": "scilab"
		  },
		  "language_info": {
		   "file_extension": ".sce",
		   "help_links": [
			{
			 "text": "MetaKernel Magics",
			 "url": "https://github.com/calysto/metakernel/blob/master/metakernel/magics/README.md"
			}
		   ],
		   "mimetype": "text/x-octave",
		   "name": "scilab",
		   "version": "0.7.1"
		  }
		 },
		 "nbformat": 4,
		 "nbformat_minor": 0
}
