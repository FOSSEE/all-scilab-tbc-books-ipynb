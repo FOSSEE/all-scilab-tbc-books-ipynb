{
"cells": [
 {
		   "cell_type": "markdown",
	   "metadata": {},
	   "source": [
       "# Chapter 5: Equilibrium of Coplanar Force System"
	   ]
	},
{
		   "cell_type": "markdown",
		   "metadata": {},
		   "source": [
			"## Example 5.10: Equilibrium_of_CFS.sce"
		   ]
		  },
  {
"cell_type": "code",
	   "execution_count": null,
	   "metadata": {
	    "collapsed": true
	   },
	   "outputs": [],
"source": [
"//Initilization of variables\n",
"P=10 //kg\n",
"g=9.81 //m/s^2\n",
"//Calculations\n",
"//equilibrium at fig b\n",
"T1=P*g/2 //N\n",
"//equilibrium at fig c\n",
"T2=T1/2 //N\n",
"//equilibrium at fig d\n",
"P=T2\n",
"//Result\n",
"clc\n",
"printf('The force P is %fN',P)"
   ]
   }
,
{
		   "cell_type": "markdown",
		   "metadata": {},
		   "source": [
			"## Example 5.11: Equilibrium_of_CFS.sce"
		   ]
		  },
  {
"cell_type": "code",
	   "execution_count": null,
	   "metadata": {
	    "collapsed": true
	   },
	   "outputs": [],
"source": [
"//Initilization of variables\n",
"k=20 //lb/in\n",
"w=20 //lb/ft\n",
"x1=4 //ft\n",
"x2=10 //ft\n",
"x3=8 //ft\n",
"x4=6 //ft\n",
"x5=9 //ft\n",
"F1=1920 //lb.rad\n",
"F2=3360 //lb.rad\n",
"//calculations\n",
"theta=(w*x2*x5)/(F1*x3+F2*(x3+x4)) //radians\n",
"FB=F1*theta\n",
"FC=F2*theta\n",
"A=(w*x2)-FB-FC\n",
"//Result\n",
"clc\n",
"printf('The force in spring B is %flb and spring C is %f lb and the reaction at A is %f lb',FB,FC,A)"
   ]
   }
,
{
		   "cell_type": "markdown",
		   "metadata": {},
		   "source": [
			"## Example 5.12: Equilibrium_of_CFS.sce"
		   ]
		  },
  {
"cell_type": "code",
	   "execution_count": null,
	   "metadata": {
	    "collapsed": true
	   },
	   "outputs": [],
"source": [
"//Initilization of variables\n",
"L=3.8 //m\n",
"w=10 //kg/m\n",
"P=1000 //N\n",
"t=0.8 //m\n",
"g=9.81 //m/s^2\n",
"//Calculations\n",
"Gf=L*w*g //N\n",
"A=(P*L+Gf*L*0.5)/t //N Taking moment about point B\n",
"B=(P*(L-t)+Gf*(0.5*L-t))/t //N Taking moment about point A\n",
"//Result\n",
"clc\n",
"printf('The reaction at point A and B are %f N and %f N respectively',A,B)\n",
"//Decimal accuracy causes discrepancy in answers compared to the textbook"
   ]
   }
,
{
		   "cell_type": "markdown",
		   "metadata": {},
		   "source": [
			"## Example 5.13: Equilibrium_of_CFS.sce"
		   ]
		  },
  {
"cell_type": "code",
	   "execution_count": null,
	   "metadata": {
	    "collapsed": true
	   },
	   "outputs": [],
"source": [
"//Initilization of variables\n",
"Wa=400 //lb\n",
"Wb=200 //lb\n",
"theta=30 //degrees\n",
"//Calculations\n",
"Ta=Wa*sind(theta) //lb\n",
"Tb=Wb*sind(theta) //lb\n",
"//Taking moment about point O\n",
"P=(Tb*12+Ta*6)/24 //lb\n",
"//Result\n",
"clc\n",
"printf('The value of Ta is %f lb and that of Tb is %f lb,also P is %f lb',Ta,Tb,P)"
   ]
   }
,
{
		   "cell_type": "markdown",
		   "metadata": {},
		   "source": [
			"## Example 5.15: Equilibrium_of_CFS.sce"
		   ]
		  },
  {
"cell_type": "code",
	   "execution_count": null,
	   "metadata": {
	    "collapsed": true
	   },
	   "outputs": [],
"source": [
"//Initilization of variables\n",
"F=[5;2;3;1.5] //kN Forces are defined as a cloumn matrix\n",
"theta=[90;60;45;80] //degrees angles are also defined as a column matrix\n",
"d=[2;6;13;17] //distances from point C of each force\n",
"c=[17;15;11;4] //distance form point D of each force\n",
"//Calculations\n",
"//Summing horizontal forces\n",
"Ch=-F(3,1)*cosd(theta(3,1))+F(2,1)*cosd(theta(2,1))+F(4,1)*cosd(theta(4,1)) //kN 'which indidcates that Ch acts to the left instead of the assumed'\n",
"//Taking moment about point C\n",
"D=(F(1,1)*d(1,1)+F(2.1)*sind(theta(2,1))*d(2,1)+F(3,1)*sind(theta(3,1))*d(3,1)+F(4,1)*sind(theta(4,1))*d(4,1))/d(4,1) //kN\n",
"//Taking moment about point D\n",
"Cv=(F(1,1)*c(2,1)+F(2,1)*sind(theta(2,1))*c(3,1)+F(3,1)*sind(theta(3,1))*c(4,1))/c(1,1) //kN\n",
"//Result\n",
"clc\n",
"printf('The values of Ch,D and Cv are %f kN,%f kN and %f kN respectively',Ch,D,Cv)"
   ]
   }
,
{
		   "cell_type": "markdown",
		   "metadata": {},
		   "source": [
			"## Example 5.16: Equilibrium_of_CFS.sce"
		   ]
		  },
  {
"cell_type": "code",
	   "execution_count": null,
	   "metadata": {
	    "collapsed": true
	   },
	   "outputs": [],
"source": [
"//Initilization of variables\n",
"w=100 //N/m\n",
"F1=200 //N\n",
"M=500 //N.m\n",
"Lw=2 //m\n",
"//Distance from point A\n",
"d=[1;2;3;4;5] //m\n",
"//Distance from point B\n",
"b=[5;4;3;2;1] //m\n",
"//Calculations\n",
"//Taking moment aboout point A\n",
"Ra=(w*Lw*d(1,1)+F1*d(3,1)-M)/d(4,1) //N\n",
"//Taking moment about point B\n",
"Rb=(w*Lw*b(3,1)+F1*b(5,1)+M)/b(2,1) //N\n",
"//Result\n",
"clc\n",
"printf('The value of reaction at A and B are %f N and %f N respectively',Ra,Rb)  "
   ]
   }
,
{
		   "cell_type": "markdown",
		   "metadata": {},
		   "source": [
			"## Example 5.17: Equilibrium_of_CFS.sce"
		   ]
		  },
  {
"cell_type": "code",
	   "execution_count": null,
	   "metadata": {
	    "collapsed": true
	   },
	   "outputs": [],
"source": [
"//Initilization of variables\n",
"L=14 //feet\n",
"W=18 //lb\n",
"theta1=60 //degrees\n",
"theta2=30 //degrees\n",
"L1=10 //ft\n",
"//Calculations\n",
"//Taking moment about point B\n",
"Rd=(W*(L/2)*cosd(theta1)*cosd(theta2))/L1 //lb\n",
"//Summing all the forces in the horizontal direction\n",
"T=Rd*cosd(theta2) //lb\n",
"//Result\n",
"clc\n",
"printf('The value of Rd and T is %f lb and %f lb respectively',Rd,T)"
   ]
   }
,
{
		   "cell_type": "markdown",
		   "metadata": {},
		   "source": [
			"## Example 5.18: Equilibrium_of_CFS.sce"
		   ]
		  },
  {
"cell_type": "code",
	   "execution_count": null,
	   "metadata": {
	    "collapsed": true
	   },
	   "outputs": [],
"source": [
"//Initilization of variables\n",
"theta=[60;60;45] //degrees theta has been defined in the form of a matrix\n",
"d=[4.46;3.54;2] //feet defined as a matrix\n",
"F=400 //lb\n",
"//Calculations\n",
"//Taking moment about point A\n",
"Re=(F*(8-d(2,1)))/8 //lb\n",
"Ra=400-Re //lb here i have used the summation of forces in the vertical direction\n",
"//Taking moment about point B\n",
"Dv=(-F*3.644)/5.77 //lb\n",
"//Taking moment about point D\n",
"Bv=(F*2.126)/5.77 //lb\n",
"//Taking summation of forces in the vertical direction\n",
"Cv=-223-Dv //lb\n",
"//Taking moment about point D\n",
"Ch=(223*d(3,1)*cosd(theta(3,1))-Cv*5.173*cosd(theta(3,1)))/(5.173*sind(theta(3,1))) //lb\n",
"//Taking summation of forces in the horizontal direction\n",
"Dh=-Ch //lb\n",
"//Taking sum of forces in horizontal direction\n",
"Bh=-Dh //lb\n",
"//Result\n",
"clc\n",
"printf('The Floor reactions are \n')\n",
"printf('Ra=%f lb and Re=%f lb\n',Ra,Re)\n",
"printf('Pin reaction at C on CE are\n')\n",
"printf('Ch=%f lb and Cv=%f lb\n',Ch,Cv)\n",
"printf('The pin reactions at B on AC are\n')\n",
"printf('Bh=%f lb and Bv=%f lb',Bh,Bv) "
   ]
   }
,
{
		   "cell_type": "markdown",
		   "metadata": {},
		   "source": [
			"## Example 5.19: Equilibrium_of_CFS.sce"
		   ]
		  },
  {
"cell_type": "code",
	   "execution_count": null,
	   "metadata": {
	    "collapsed": true
	   },
	   "outputs": [],
"source": [
"//Initilization of variables\n",
"r=0.5 //m\n",
"m=10 //kg\n",
"g=9.81 //m/s^2\n",
"theta=60 //degrees\n",
"//Calculations\n",
"//Due to symmetry the reaction will be shared by the structure\n",
"A=m*g*0.5 //N\n",
"B=A //N\n",
"//Vertical forces summed\n",
"N1=m*g/(2*sind(theta/2)) //N\n",
"//Taking moment about point C\n",
"T=(N1*0.866+B*sind(theta*0.5))/(1.5*cosd(theta*0.5))\n",
"//Result\n",
"clc\n",
"printf('The value of N1 and T are %f N and %f N respectively',N1,T)"
   ]
   }
,
{
		   "cell_type": "markdown",
		   "metadata": {},
		   "source": [
			"## Example 5.1: Equilibrium_of_CFS.sce"
		   ]
		  },
  {
"cell_type": "code",
	   "execution_count": null,
	   "metadata": {
	    "collapsed": true
	   },
	   "outputs": [],
"source": [
"//Initilization of variables\n",
"D=[6/sqrt(40) -4/sqrt(20);2/sqrt(40) 2/sqrt(20)]\n",
"B=[0;25] //lb\n",
"//Calculations\n",
"X=inv(D)*B\n",
"//Result\n",
"clc\n",
"printf('The tension in  cable AB is %flb and the tension in cable AC is %f lb',X(2),X(1))"
   ]
   }
,
{
		   "cell_type": "markdown",
		   "metadata": {},
		   "source": [
			"## Example 5.2: Equilibrium_of_CFS.sce"
		   ]
		  },
  {
"cell_type": "code",
	   "execution_count": null,
	   "metadata": {
	    "collapsed": true
	   },
	   "outputs": [],
"source": [
"//Initilization of variables\n",
"F1=100 //lb\n",
"R=16 //in\n",
"//Calculations\n",
"theta=asind(14/16) //degrees\n",
"N=100/sind(theta) //lb\n",
"P=N*cosd(theta) //lb\n",
"//Result\n",
"clc\n",
"printf('The value of normal reaction offered is %flb and the push required is %f lb',N,P)"
   ]
   }
,
{
		   "cell_type": "markdown",
		   "metadata": {},
		   "source": [
			"## Example 5.3: Equilibrium_of_CFS.sce"
		   ]
		  },
  {
"cell_type": "code",
	   "execution_count": null,
	   "metadata": {
	    "collapsed": true
	   },
	   "outputs": [],
"source": [
"//Initilization of variables\n",
"L=20 //m\n",
"M=1200 //kg\n",
"g=9.81 //m/s^2\n",
"H=10 //m\n",
"//Calculations\n",
"AB=sqrt(L^2-H^2) //Applying Pythagoras Theorem\n",
"costheta=17.3/20\n",
"F1=M*g*H/AB //N\n",
"F2=M*g/costheta //N\n",
"//Result\n",
"clc\n",
"printf('Force F1 is %f N and Force F2 is %f N',F1,F2)\n",
"//Decimal accuracy causes discrepancy in answers compared to the textbook answers"
   ]
   }
,
{
		   "cell_type": "markdown",
		   "metadata": {},
		   "source": [
			"## Example 5.4: Equilibrium_of_CFS.sce"
		   ]
		  },
  {
"cell_type": "code",
	   "execution_count": null,
	   "metadata": {
	    "collapsed": true
	   },
	   "outputs": [],
"source": [
"//Initilization of variables\n",
"Fx=1000 //lb\n",
"Fy=1000 //lb\n",
"costheta=9/15\n",
"cosbeta=12/15\n",
"sintheta=4/5\n",
"sinbeta=3/5\n",
"//Calculations\n",
"//Matrix solution\n",
"A=[costheta -cosbeta;sintheta sinbeta] \n",
"B=[-1000;1000]\n",
"X=inv(A)*B\n",
"//Result\n",
"clc\n",
"printf('Thus force in AB is %i lb compression and BC has %i lb compression',X(1),X(2))"
   ]
   }
,
{
		   "cell_type": "markdown",
		   "metadata": {},
		   "source": [
			"## Example 5.5: Equilibrium_of_CFS.sce"
		   ]
		  },
  {
"cell_type": "code",
	   "execution_count": null,
	   "metadata": {
	    "collapsed": true
	   },
	   "outputs": [],
"source": [
"//Initilization of variables\n",
"w=10 //lb/ft\n",
"L=12 //ft\n",
"theta=30 //degrees\n",
"//Calculation\n",
"//Matrix Calculations\n",
"A=[cosd(30) -cosd(30);sind(30) sind(30)] \n",
"B=[0;120] \n",
"X=inv(A)*B\n",
"//Result\n",
"clc\n",
"printf('The tension in the cable is %i lb and the reaction at B is %i lb', X(1) ,X(2))"
   ]
   }
,
{
		   "cell_type": "markdown",
		   "metadata": {},
		   "source": [
			"## Example 5.6: Equilibrium_of_CFS.sce"
		   ]
		  },
  {
"cell_type": "code",
	   "execution_count": null,
	   "metadata": {
	    "collapsed": true
	   },
	   "outputs": [],
"source": [
"//Initilization of variables\n",
"W1=40 //lb\n",
"W2=30 //lb\n",
"theta1=30 //degrees\n",
"//Calculations\n",
"//Summing the forces parallel to 30 degree plane\n",
"T=40*sind(theta1) \n",
"theta=asind(T/W2) \n",
"//Result\n",
"clc\n",
"printf('The tension in the cable is %flb and the angle theta is %f degrees',T,theta)"
   ]
   }
,
{
		   "cell_type": "markdown",
		   "metadata": {},
		   "source": [
			"## Example 5.8: Equilibrium_of_CFS.sce"
		   ]
		  },
  {
"cell_type": "code",
	   "execution_count": null,
	   "metadata": {
	    "collapsed": true
	   },
	   "outputs": [],
"source": [
"//Initilization of variables\n",
"F1=125 //N\n",
"F2=200 //N\n",
"F3=340 //N\n",
"F4=180 //N\n",
"x1=4 //m\n",
"x2=3 //m\n",
"x3=10 //m\n",
"x4=15 //m\n",
"x5=17 //m\n",
"//Calculations\n",
"Rb=(-F1*x1+F2*x2+F3*x3+F4*x4)/x5//moment about point A\n",
"Ra=(F1*(x1+x5)+F3*(x5-x3)+F2*(x5-x2)+F4*(x5-x4))/x5 //moment about point B\n",
"//Result\n",
"clc\n",
"printf('The reaction at A is %fN and reaction at B is %fN',Ra,Rb)"
   ]
   }
,
{
		   "cell_type": "markdown",
		   "metadata": {},
		   "source": [
			"## Example 5.9: Equilibrium_of_CFS.sce"
		   ]
		  },
  {
"cell_type": "code",
	   "execution_count": null,
	   "metadata": {
	    "collapsed": true
	   },
	   "outputs": [],
"source": [
"//Initilization of variables\n",
"F1=1000 //lb\n",
"F2=1200 //lb\n",
"F3=2000 //lb\n",
"x1=1 //ft\n",
"x2=7 //ft\n",
"x4=2 //ft\n",
"x3=6 //ft\n",
"//Calculation\n",
"//Equilibrium equations\n",
"Rn=(F3*(x1+x2+x3)+F2*(x1+x2)+F1*x1)/(x1+x3+x2+x4)//Moment about point M\n",
"Rm=(F1*(x2+x3+x4)+F2*(x3+x4)+F3*x4)/(x1+x2+x3+x4)//Moment about point N\n",
"//Result\n",
"clc\n",
"printf('The reaction at M is %flb and reaction at N is %flb',Rm,Rn)\n",
"//Decimal Accuracy causes discrepancy in answers between computation and textbook"
   ]
   }
],
"metadata": {
		  "kernelspec": {
		   "display_name": "Scilab",
		   "language": "scilab",
		   "name": "scilab"
		  },
		  "language_info": {
		   "file_extension": ".sce",
		   "help_links": [
			{
			 "text": "MetaKernel Magics",
			 "url": "https://github.com/calysto/metakernel/blob/master/metakernel/magics/README.md"
			}
		   ],
		   "mimetype": "text/x-octave",
		   "name": "scilab",
		   "version": "0.7.1"
		  }
		 },
		 "nbformat": 4,
		 "nbformat_minor": 0
}
