{
"cells": [
 {
		   "cell_type": "markdown",
	   "metadata": {},
	   "source": [
       "# Chapter 7: Trusses and Cables"
	   ]
	},
{
		   "cell_type": "markdown",
		   "metadata": {},
		   "source": [
			"## Example 7.10: Truss_and_Cable.sce"
		   ]
		  },
  {
"cell_type": "code",
	   "execution_count": null,
	   "metadata": {
	    "collapsed": true
	   },
	   "outputs": [],
"source": [
"//Initilization of variables\n",
"T=140000 //N\n",
"w=2000 //N/m\n",
"a=20 //m\n",
"//Calculations\n",
"//Calculation step by step\n",
"lhs=(140000*2)/(2000*20) \n",
"d=sqrt(1/((((lhs^2)-1)*16)/(20^2))) //m\n",
"l=a(1+(8/3)*(d/a)^2) //m\n",
"//Result\n",
"clc\n",
"printf('The sag in the cable is %fm and the required length is %fm',d,l)"
   ]
   }
,
{
		   "cell_type": "markdown",
		   "metadata": {},
		   "source": [
			"## Example 7.11: Truss_and_Cable.sce"
		   ]
		  },
  {
"cell_type": "code",
	   "execution_count": null,
	   "metadata": {
	    "collapsed": true
	   },
	   "outputs": [],
"source": [
"//Initilization of variables\n",
"w=10/16 //lb/ft\n",
"a=80 //ft\n",
"P=500 //lb\n",
"//Calculations\n",
"lhs=(P*2)/(w*a)\n",
"d=sqrt(1/((((lhs^2)-1)*16)/(80^2))) //ft\n",
"//Result\n",
"clc\n",
"printf('The sag in the cable is %fft',d)"
   ]
   }
,
{
		   "cell_type": "markdown",
		   "metadata": {},
		   "source": [
			"## Example 7.12: Truss_and_Cable.sce"
		   ]
		  },
  {
"cell_type": "code",
	   "execution_count": null,
	   "metadata": {
	    "collapsed": true
	   },
	   "outputs": [],
"source": [
"//Initilization of variables\n",
"w=0.518 //lb/ft\n",
"d=50 //ft\n",
"l=500 //ft\n",
"//Plot coding\n",
"A=linspace(0,800,9) //defined x axis\n",
"B=A+50\n",
"C=[50000,(500/(2*100)),(500/(2*200)),(500/(2*300)),(500/(2*400)),(500/(2*500)),(500/(2*600)),(500/(2*700)),(500/(2*800))]\n",
"D=cosh(C)\n",
"E=[D(1)*A(1),D(2)*A(2),D(3)*A(3),D(4)*A(4),D(5)*A(5),D(6)*A(6),D(7)*A(7),D(8)*A(8),D(9)*A(9)]\n",
"plot(A,B,A,E) //plotting two lines on the same plot\n",
"//Calculations\n",
"//By close observation of plot taking c around 650\n",
"//consider c=635\n",
"c=635\n",
"T_max=w*(c+d) //lb\n",
"a=c+d\n",
"l=sqrt(4*(a*a-c*c))\n",
"//Result\n",
"clc\n",
"printf('The maximum tension is %flb and length required is %fft',T_max,l)"
   ]
   }
,
{
		   "cell_type": "markdown",
		   "metadata": {},
		   "source": [
			"## Example 7.13: Truss_and_Cable.sce"
		   ]
		  },
  {
"cell_type": "code",
	   "execution_count": null,
	   "metadata": {
	    "collapsed": true
	   },
	   "outputs": [],
"source": [
"//Initilization of variables\n",
"m=0.6 //kg/m\n",
"l=240 //m\n",
"d=24 //m\n",
"//Calculations\n",
"c=((((1/4)*(l^2))-(24*24)))/(2*d)\n",
"T_max=9.8*m*(c+d) //N\n",
"a=asinh((l)/(2*c))*576\n",
"//Result\n",
"clc\n",
"printf('The maximun tension is %fN and a=%fm',T_max,a)"
   ]
   }
,
{
		   "cell_type": "markdown",
		   "metadata": {},
		   "source": [
			"## Example 7.1: Truss_and_Cable.sce"
		   ]
		  },
  {
"cell_type": "code",
	   "execution_count": null,
	   "metadata": {
	    "collapsed": true
	   },
	   "outputs": [],
"source": [
"//Initilization of variables\n",
"F1=2000 //lb\n",
"F2=4000 //lb\n",
"l1=10 //ft\n",
"l2=30 //ft\n",
"l3=20 //ft\n",
"l4=40 //ft\n",
"t=60 //degrees\n",
"//Calculations\n",
"//Taking moment about point B and A\n",
"Ra=(F1*l2+F2*l1)/l4 \n",
"Rb=(F2*l2+F1*l1)/l4\n",
"//Consider fig 7-4(c)\n",
"A=[1 -cosd(t);0 -sind(t)]\n",
"B=[0;-2500]\n",
"C=inv(A)*B\n",
"//Consider figure 7-4(d)\n",
"A1=[1 cosd(t);0 -sind(t)]\n",
"B1=[-C(2)*cosd(t);-C(2)*sind(t)+F1]\n",
"C1=inv(A1)*B1\n",
"//Consider figure 7-4(e)\n",
"CD=577\n",
"CE=C(1)+C1(2)*cosd(t)+CD*cosd(t)\n",
"//Consider figure 7-4(f)\n",
"DE=Rb/sind(t)\n",
"//Result\n",
"clc\n",
"printf('The reactions are Ra=%flb and Rb=%flb\n',Ra,Rb)\n",
"printf('Force in member AB=%flb and AC=%flb\n',C(2),C(1))\n",
"printf('Force in member BC=%flb and BD=%flb\n',C1(2),C1(1))\n",
"printf('Force in member CD=%flb and CE=%flb\n',CD,CE)\n",
"printf('Force in member DE=%flb',DE)\n",
"//Decimal Accuracy causes discrepancy in answers"
   ]
   }
,
{
		   "cell_type": "markdown",
		   "metadata": {},
		   "source": [
			"## Example 7.2: Truss_and_Cable.sce"
		   ]
		  },
  {
"cell_type": "code",
	   "execution_count": null,
	   "metadata": {
	    "collapsed": true
	   },
	   "outputs": [],
"source": [
"//Initilization of variables\n",
"s=4 //m length of sides\n",
"l=2 //kN load acting on each node\n",
"r=7 //kN by inspection reaction at A\n",
"//Calculation\n",
"//Taking Moment about point G\n",
"FH=(-r*12+2*10+2*6+2*2)/(2*tand(60)) //kN Compressive\n",
"//Taking moment about point H\n",
"GI=(r*14-2*12-2*8-2*4)/(2*tand(30)) //kN Tension\n",
"//Summing forces in the vertical direction\n",
"HG=-(r-(l*3))/sind(60) //kN Compression\n",
"//Taking moment about point J yields\n",
"IK=(-2*4-2*8+r*10)/(2*tand(60)) //kN \n",
"//Result\n",
"clc\n",
"printf('The value of the forces in the components are as follows\n')\n",
"printf('FH=%fkN,GI=%fkN,HG=%fkN and IK=%fkN\n',FH,GI,HG,IK)\n",
"printf('The answer in the text book for GI is wrong')"
   ]
   }
,
{
		   "cell_type": "markdown",
		   "metadata": {},
		   "source": [
			"## Example 7.3: Truss_and_Cable.sce"
		   ]
		  },
  {
"cell_type": "code",
	   "execution_count": null,
	   "metadata": {
	    "collapsed": true
	   },
	   "outputs": [],
"source": [
"//Initilization of variables\n",
"theta=30 //degrees\n",
"EF=40000 //lb\n",
"l=36 //feet\n",
"//Calculation\n",
"//Taking moment about point D and setting EF=40000lbs\n",
"P=-(EF*sind(theta)*l)/l //lb\n",
"//Result\n",
"clc\n",
"printf('The maximum value of P is %flb\n',P)\n",
"printf('The negative sign indicates the downward direction')"
   ]
   }
,
{
		   "cell_type": "markdown",
		   "metadata": {},
		   "source": [
			"## Example 7.4: Truss_and_Cable.sce"
		   ]
		  },
  {
"cell_type": "code",
	   "execution_count": null,
	   "metadata": {
	    "collapsed": true
	   },
	   "outputs": [],
"source": [
"//Initilization of variables\n",
"l=12 //m\n",
"theta1=30 //degrees\n",
"F1=1000 //N\n",
"F2=2000 //N\n",
"//Calculation\n",
"FG=l*cosd(theta1) //m\n",
"DG=(l+(l/2))/cosd(theta1) //m\n",
"//Taking moment about point G\n",
"A=(F1*l+F2*FG+F1*DG)/(l*3) //N\n",
"//Summing forces in horizontal direction\n",
"G_x=(2*F1+F2)*sind(theta1) //N\n",
"//Summing forces in the vertical direction\n",
"G_y=(2*F1+F2)*cosd(theta1)+F1-A //N\n",
"//Taking moment about point C\n",
"BD=-(A*l)/(l/2) //N\n",
"//Taking moment about point D\n",
"CE=(A*(l+(l/2)))/FG //N\n",
"theta=atand((l/2)/FG) //degrees \n",
"//Summing forces in the vertical direction\n",
"CD=(A+(BD*cosd(60)))/cosd(theta) //N\n",
"//Result\n",
"clc\n",
"printf('The values of  the forces are as follows\n')\n",
"printf('A=%fN,G_x=%fN,G_y=%fN,BD=%fN,CE=%fN and CD=%fN',A,G_x,G_y,BD,CE,CD)\n",
"//Decimal Accuracy causes discrepancy in answers "
   ]
   }
,
{
		   "cell_type": "markdown",
		   "metadata": {},
		   "source": [
			"## Example 7.5: Truss_and_Cable.sce"
		   ]
		  },
  {
"cell_type": "code",
	   "execution_count": null,
	   "metadata": {
	    "collapsed": true
	   },
	   "outputs": [],
"source": [
"//Initilization of variables\n",
"A=2000 //lb\n",
"E=2000 //lb\n",
"theta=60 //degrees\n",
"theta1=30 //degrees\n",
"//Sign convention positive means Tension and negative means Compression\n",
"//Taking sum of forces along x and y direction in fig7-13\n",
"AB=-A/sind(theta) //lb\n",
"AG=-AB*cosd(theta) //lb\n",
"//Taking sum of forces along x and y direction in fig7-14\n",
"BG=((-AB*cosd(theta1))-1000)/(cosd(theta1)) //lb\n",
"BC=((AB*sind(theta1))-(BG*sind(theta1))) //lb\n",
"//Taking sum of forces along x and y direction in fig7-15\n",
"GC=-(BG*sind(theta))/sind(theta) //lb\n",
"GF=AG+BG*cosd(theta)-GC*(cosd(theta)) //lb\n",
"//By symmetry of structure\n",
"DE=AB //lb\n",
"FE=AG //lb\n",
"DF=BG //lb\n",
"CD=BC //lb\n",
"//Result\n",
"clc\n",
"printf('The forces in the truess are\n')\n",
"printf('AB=DE=%flb,AG=FE=%flb,BG=DF=%flb,BC=CD=%flb and CG=CF=%flb',AB,AG,BG,BC,GC)"
   ]
   }
,
{
		   "cell_type": "markdown",
		   "metadata": {},
		   "source": [
			"## Example 7.6: Truss_and_Cable.sce"
		   ]
		  },
  {
"cell_type": "code",
	   "execution_count": null,
	   "metadata": {
	    "collapsed": true
	   },
	   "outputs": [],
"source": [
"//Initilization of variables\n",
"F=500 //N\n",
"A=1000 //N\n",
"theta=60 //degrees\n",
"l=20 //m\n",
"//Calculations\n",
"//Taking moment about point G\n",
"R_c=(20*3*A+50*F+30*F+10*F)/40 //N\n",
"//Returning to fig7-17\n",
"//Taking moment about point C\n",
"BD=(l*A+(l/2)*F)/(l*sind(theta)) //N\n",
"//Taking sum of forces in vertical direction\n",
"CD=(A+F-R_c)/sind(theta) //N\n",
"//Result\n",
"clc\n",
"printf('The forces in the members are as follows\n')\n",
"printf('BD=%fN and CD=%fN,Also the reaction at C is %fN',BD,CD,R_c)\n",
"//Decimal accuracy causes discrepancey in answers"
   ]
   }
,
{
		   "cell_type": "markdown",
		   "metadata": {},
		   "source": [
			"## Example 7.7: Truss_and_Cable.sce"
		   ]
		  },
  {
"cell_type": "code",
	   "execution_count": null,
	   "metadata": {
	    "collapsed": true
	   },
	   "outputs": [],
"source": [
"//Initilization of variables\n",
"w=800 //lb/ft\n",
"a=600 //ft\n",
"d=40 //ft\n",
"//Calculations\n",
"T=0.5*w*a*(sqrt(1+(a^2/(16*d^2)))) //lb\n",
"H=(w*a^2)/(8*d) //lb\n",
"//Taking the first two terms of the series\n",
"l=a(1+(8/3)*(d/a)^2-(32/5)*0.00002) //ft\n",
"//Result\n",
"clc\n",
"printf('The value of T=%flb and that of H=%flb,Also l=%fft',T,H,l)\n",
"//Deciaml accuracy causes discrepancy in answers"
   ]
   }
,
{
		   "cell_type": "markdown",
		   "metadata": {},
		   "source": [
			"## Example 7.8: Truss_and_Cable.sce"
		   ]
		  },
  {
"cell_type": "code",
	   "execution_count": null,
	   "metadata": {
	    "collapsed": true
	   },
	   "outputs": [],
"source": [
"//Initilization of variables\n",
"l=800*300 //lb\n",
"//Calculations\n",
"//Summing forces in horizontal and vertical direction\n",
"theta=atand(40/150) //degrees\n",
"H=l/tand(theta) //lb\n",
"T_max=sqrt(l^2+H^2) //lb\n",
"//Result\n",
"clc\n",
"printf('The maximun tension is %flb and H=%flb',T_max,H)\n",
"//Decimal accuracy causes discrepancy in answers"
   ]
   }
,
{
		   "cell_type": "markdown",
		   "metadata": {},
		   "source": [
			"## Example 7.9: Truss_and_Cable.sce"
		   ]
		  },
  {
"cell_type": "code",
	   "execution_count": null,
	   "metadata": {
	    "collapsed": true
	   },
	   "outputs": [],
"source": [
"//Initilization of variables\n",
"//The variable decleration is taken to simplify the solution\n",
"x1=10 //m\n",
"x2=20 //m\n",
"m=3 //kg/m\n",
"g=9.8 //m/s^2\n",
"//For simplicity a1 and a2 values are being considered as constant free of H\n",
"a_1=sqrt(x1/(m*g*0.5))\n",
"a_2=sqrt((x1+x2)/(m*g*0.5))\n",
"y=10 //m\n",
"//Calculations\n",
"H=(300/(a_1+a_2))^2 //N\n",
"//Now reconsidering a1 and a2 actual values\n",
"a1=a_1*sqrt(H) //m\n",
"a2=a_2*sqrt(H) //m\n",
"//Theta calculations\n",
"x=a1\n",
"theta=atand(2*y/x)\n",
"//T calculations\n",
"T=sqrt((864*a2^2)+H^2) //N\n",
"//result\n",
"clc\n",
"printf('The tension in the cable is %fN',T)"
   ]
   }
],
"metadata": {
		  "kernelspec": {
		   "display_name": "Scilab",
		   "language": "scilab",
		   "name": "scilab"
		  },
		  "language_info": {
		   "file_extension": ".sce",
		   "help_links": [
			{
			 "text": "MetaKernel Magics",
			 "url": "https://github.com/calysto/metakernel/blob/master/metakernel/magics/README.md"
			}
		   ],
		   "mimetype": "text/x-octave",
		   "name": "scilab",
		   "version": "0.7.1"
		  }
		 },
		 "nbformat": 4,
		 "nbformat_minor": 0
}
