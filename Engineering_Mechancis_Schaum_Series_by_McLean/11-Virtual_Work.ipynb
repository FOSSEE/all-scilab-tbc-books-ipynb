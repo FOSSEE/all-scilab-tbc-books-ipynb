{
"cells": [
 {
		   "cell_type": "markdown",
	   "metadata": {},
	   "source": [
       "# Chapter 11: Virtual Work"
	   ]
	},
{
		   "cell_type": "markdown",
		   "metadata": {},
		   "source": [
			"## Example 11.10: V_W.sce"
		   ]
		  },
  {
"cell_type": "code",
	   "execution_count": null,
	   "metadata": {
	    "collapsed": true
	   },
	   "outputs": [],
"source": [
"//Initilization of variables\n",
"l=2 //ft\n",
"W=20 //lb\n",
"k=144 //lb/ft\n",
"r=0.5 //ft\n",
"theta=44.1 //degrees\n",
"//Calculations\n",
"//Simplfying the solution to obtain\n",
"sinetheta=(k*r^2)/(W*l) //in terms of theta\n",
"//By trial and error theta=44.1 degrees\n",
"//Check for stable equilibirum\n",
"Check=-W*cosd(theta)*l+k*r^2\n",
"//Result\n",
"clc\n",
"printf('the Check Value is %f which indicates Stable Equilibirum',Check)"
   ]
   }
,
{
		   "cell_type": "markdown",
		   "metadata": {},
		   "source": [
			"## Example 11.5: V_W.sce"
		   ]
		  },
  {
"cell_type": "code",
	   "execution_count": null,
	   "metadata": {
	    "collapsed": true
	   },
	   "outputs": [],
"source": [
"//Initilization of variables\n",
"//Simplification constants\n",
"a=90\n",
"b=30\n",
"c=60\n",
"//Calculations\n",
"//Allowing for only the cos and sin terms to be zero after simplification\n",
"theta1=atand(a/(b+2*c)) //degrees\n",
"theta2=atand(a/(b+c)) //degrees\n",
"theta3=atand(a/b) //degrees\n",
"//Result\n",
"clc\n",
"printf('The values of theta1,theta2 and theta3 are %f,%f and %f respectively in Degrees',theta1,theta2,theta3)"
   ]
   }
,
{
		   "cell_type": "markdown",
		   "metadata": {},
		   "source": [
			"## Example 11.6: V_W.sce"
		   ]
		  },
  {
"cell_type": "code",
	   "execution_count": null,
	   "metadata": {
	    "collapsed": true
	   },
	   "outputs": [],
"source": [
"//Initilization of variables\n",
"N=100 //lb\n",
"mu=0.3 //coefficient of friction\n",
"l=5 //in compressed to length\n",
"//Calculations\n",
"//Simplfying the calculations we obtain\n",
"M=8*(N+N*mu) //lb-in\n",
"//Result\n",
"clc\n",
"printf('The Moment is %i lb-in',M)"
   ]
   }
,
{
		   "cell_type": "markdown",
		   "metadata": {},
		   "source": [
			"## Example 11.7: V_W.sce"
		   ]
		  },
  {
"cell_type": "code",
	   "execution_count": null,
	   "metadata": {
	    "collapsed": true
	   },
	   "outputs": [],
"source": [
"//Initilization of variables\n",
"m=10 //kg\n",
"g=9.8 //m/s^2\n",
"F=200 //N\n",
"l=3 //m\n",
"//Calculations\n",
"//Applying Virtual work principle\n",
"By=m*g*0.5 //N\n",
"Bx=F*(2/3) //N\n",
"//By equations of equilibrium\n",
"Ax=-Bx-F //N negative sign indictaes the LEFT orientation\n",
"Ay=m*g-By //N\n",
"//Result\n",
"clc\n",
"printf('The values are Ax=%fN,Ay=%fN,Bx=%fN and By=%fN',Ax,Ay,Bx,By )"
   ]
   }
],
"metadata": {
		  "kernelspec": {
		   "display_name": "Scilab",
		   "language": "scilab",
		   "name": "scilab"
		  },
		  "language_info": {
		   "file_extension": ".sce",
		   "help_links": [
			{
			 "text": "MetaKernel Magics",
			 "url": "https://github.com/calysto/metakernel/blob/master/metakernel/magics/README.md"
			}
		   ],
		   "mimetype": "text/x-octave",
		   "name": "scilab",
		   "version": "0.7.1"
		  }
		 },
		 "nbformat": 4,
		 "nbformat_minor": 0
}
