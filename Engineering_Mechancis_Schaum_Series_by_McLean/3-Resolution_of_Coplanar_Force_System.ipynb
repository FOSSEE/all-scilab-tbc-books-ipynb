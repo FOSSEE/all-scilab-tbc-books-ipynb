{
"cells": [
 {
		   "cell_type": "markdown",
	   "metadata": {},
	   "source": [
       "# Chapter 3: Resolution of Coplanar Force System"
	   ]
	},
{
		   "cell_type": "markdown",
		   "metadata": {},
		   "source": [
			"## Example 3.10: Resolutio.sce"
		   ]
		  },
  {
"cell_type": "code",
	   "execution_count": null,
	   "metadata": {
	    "collapsed": true
	   },
	   "outputs": [],
"source": [
"//Initilization of variables\n",
"F1=100 //lb\n",
"F2=80 //lb\n",
"F3=120 //lb\n",
"F4=150 //lb\n",
"theta1=((60*%pi)/180) //radians\n",
"theta2=((45*%pi)/180) //radians\n",
"theta3=((90*%pi)/180) //radians\n",
"theta4=((75*%pi)/180) //radians\n",
"//Distance from point O\n",
"x1=-5 //ft\n",
"y1=20 //ft\n",
"x2=10 //ft\n",
"y2=10 //ft\n",
"x3=25 //ft\n",
"y3=25 //ft\n",
"x4=35 //ft\n",
"y4=15 //ft\n",
"//Calculations\n",
"Fx=F1*cos(theta1)+F2*cos(theta2)+F4*cos(theta4) //lb\n",
"Fy=-F1*sin(theta1)+F2*sin(theta2)-F3-F4*sin(theta4) //lb\n",
"R=sqrt(Fx^2+Fy^2) //lb\n",
"theta=atan(Fy/Fx) //radians\n",
"theta_x=(theta*180)/%pi //degrees\n",
"M_O=-(F1*cos(theta1)*y1)+(-x1)*(F1*sin(theta1))-(x2)*(F2*cos(theta2))+(y2)*(F2*sin(theta2))-(x3*F3)-(y4*F4*cos(theta4))-(x4*F4*sin(theta4)) //lb-ft\n",
"//Applying varignons theorem\n",
"x=M_O/Fy //ft\n",
"y=-M_O/Fx //ft\n",
"//Results\n",
"clc\n",
"printf('The resultant of the force system is:%f lb\n',R) //lb\n",
"printf('The resultant acts at %f degrees with respect to X-Axis \n',theta_x) //degrees\n",
"printf('The moment about point O is:%f lb-ft \n',M_O) //lb-ft\n",
"printf('The x intercept of resultant is:%f ft\n',x) //ft\n",
"printf('The y intercept of resultant is:%f ft\n',y) //ft\n",
"//Answer for angle should be negative which has not been mentioned in the tectbook but a schematic shows the angle in fourth quadrant to clarify the doubt "
   ]
   }
,
{
		   "cell_type": "markdown",
		   "metadata": {},
		   "source": [
			"## Example 3.11: Resolutio.sce"
		   ]
		  },
  {
"cell_type": "code",
	   "execution_count": null,
	   "metadata": {
	    "collapsed": true
	   },
	   "outputs": [],
"source": [
"//Initilization of variables\n",
"F1=150 //lb\n",
"F2=80 //lb\n",
"F3=100 //lb\n",
"F4=50 //lb\n",
"theta1=((45*%pi)/180) //radians\n",
"r=3  //units\n",
"//Calculations\n",
"Fh=F1-F3*cos(theta1) //lb\n",
"Fv=F4-F2-F3*sin(theta1) //lb\n",
"R=sqrt(Fh^2+Fv^2) //lb\n",
"//Applying the Varignons Theorem\n",
"a=(F4*r-F1*r+F2*r-F3*r)/R //units\n",
"//Result\n",
"clc\n",
"printf('The resultant of the force system is:%f lb \n',R) //lb\n",
"printf('The resultant acts at %f units form the point O',a) //units\n",
"//Negative sign indicates a negative moment caused by the resultant"
   ]
   }
,
{
		   "cell_type": "markdown",
		   "metadata": {},
		   "source": [
			"## Example 3.12: Resolutio.sce"
		   ]
		  },
  {
"cell_type": "code",
	   "execution_count": null,
	   "metadata": {
	    "collapsed": true
	   },
	   "outputs": [],
"source": [
"//Initilization of variables\n",
"F1=150 //lb\n",
"F2=200 //lb\n",
"F3=200 //lb\n",
"F4=225 //lb\n",
"M=900 //lb-ft\n",
"Theta1=(45*%pi)/180 //radians\n",
"Theta2=(30*%pi)/180 //radians\n",
"x1=3 //ft\n",
"x2=15 //ft\n",
"x3=12 //ft\n",
"x4=6 //ft\n",
"//Calculations\n",
"Fx=F1*cos(Theta1)+F2-F4*cos(Theta2) //Applying sum of all forces equal to zero in X direction\n",
"Fy=F1*sin(Theta1)-F4*sin(Theta2)+F2 //Applying sum of all forces equal to zero in Y direction\n",
"R=sqrt(Fx^2+Fy^2) //lb\n",
"theta=atand(Fy/Fx) //degrees\n",
"M_o=x1*F2-x2*F1*cos(Theta1)+x3*F1*sin(Theta1)-x4*F2+M+x4*F4*cos(Theta2)-x1*F4*sin(Theta2) //Moment about point O\n",
"x=M_o/Fy //Varignons Theorem \n",
"//Result\n",
"clc\n",
"printf('The x intercept of resultant position is %f\n',x)\n",
"printf('The Resultant is %f lb and acts at an angle of %f degrees',R,theta)"
   ]
   }
,
{
		   "cell_type": "markdown",
		   "metadata": {},
		   "source": [
			"## Example 3.13: Resolutio.sce"
		   ]
		  },
  {
"cell_type": "code",
	   "execution_count": null,
	   "metadata": {
	    "collapsed": true
	   },
	   "outputs": [],
"source": [
"//Initilization Of Variables\n",
"a=0 //Lower Limit oF the Integral\n",
"b=6 //Upper Limit of the Integral\n",
"n=10 //Interval of the integral\n",
"l=20 //lb/ft\n",
"//Calculation\n",
"//Using Trapezoidal Rule for Intergration \n",
"R=(b-a)*l\n",
"function[I2]=Trap_Composite2(f1,a,b,n)\n",
"    h=(b-a)/n\n",
"    t=linspace(a,b,n+1)\n",
"    I2=(h/2)*((2*sum(f1(t)))-f1(t(1))-f1(t(n+1)))\n",
"endfunction\n",
"deff('[y1]=f1(t)','y1=20*t')\n",
"d=Trap_Composite2(f1,a,b,n)/R //ft\n",
"//Result\n",
"clc\n",
"printf('The value of R is:%i lb\n',R)\n",
"printf('The value of d is:%i ft',d) \n",
""
   ]
   }
,
{
		   "cell_type": "markdown",
		   "metadata": {},
		   "source": [
			"## Example 3.14: Resolutio.sci"
		   ]
		  },
  {
"cell_type": "code",
	   "execution_count": null,
	   "metadata": {
	    "collapsed": true
	   },
	   "outputs": [],
"source": [
"//Initilization Of Variables\n",
"a=0 //Lower Limit oF the Integral\n",
"b=9 //Upper Limit of the Integral\n",
"n=10 //Interval of the integral\n",
"//Calculation\n",
"//Using Trapezoidal Rule for Intergration \n",
"function[I1]=Trap_Composite1(f,a,b,n)\n",
"    h=(b-a)/n\n",
"    t=linspace(a,b,n+1)\n",
"    I1=(h/2)*((2*sum(f(t)))-f(t(1))-f(t(n+1)))\n",
"endfunction\n",
"deff('[y]=f(t)','y=(t/9)*30') //y defined as a function of t and not x\n",
"function[I2]=Trap_Composite2(f1,a,b,n)\n",
"    h=(b-a)/n\n",
"    t=linspace(a,b,n+1)\n",
"    I2=(h/2)*((2*sum(f1(t)))-f1(t(1))-f1(t(n+1)))\n",
"endfunction\n",
"deff('[y1]=f1(t)','y1=(t^2/9)*30')\n",
"d=Trap_Composite2(f1,a,b,n)/Trap_Composite1(f,a,b,n) //m\n",
"//Result\n",
"clc\n",
"printf('The value of d is:%f m\n',d) //m\n",
"printf('The value of R is %f N',Trap_Composite1(f,a,b,n)) //N\n",
""
   ]
   }
,
{
		   "cell_type": "markdown",
		   "metadata": {},
		   "source": [
			"## Example 3.1: Resolutio.sce"
		   ]
		  },
  {
"cell_type": "code",
	   "execution_count": null,
	   "metadata": {
	    "collapsed": true
	   },
	   "outputs": [],
"source": [
"//Initilization of variables\n",
"F1=150 //lb\n",
"F2=200 //lb\n",
"F3=80 //lb\n",
"F4=180 //lb\n",
"theta1=((30*%pi)/180) //radians\n",
"theta2=((150*%pi)/180) //radians\n",
"theta3=((240*%pi)/180)  //radians\n",
"theta4=((315*%pi)/180)  //radians\n",
"//Calculations\n",
"F1x=F1*cos(theta1) //lb\n",
"F1y=F1*sin(theta1) //lb\n",
"F2x=F2*cos(theta2) //lb\n",
"F2y=F2*sin(theta2) //lb\n",
"F3x=F3*cos(theta3) //lb\n",
"F3y=F3*sin(theta3) //lb\n",
"F4x=F4*cos(theta4) //lb\n",
"F4y=F4*sin(theta4) //lb\n",
"Fx=F1x+F2x+F3x+F4x //lb\n",
"Fy=F1y+F2y+F3y+F4y //lb\n",
"R=sqrt(Fx^2+Fy^2) //lb\n",
"theta=((atan(Fy/Fx))*180)/%pi //degrees\n",
"theta_R=360+theta //degrees\n",
"//Result\n",
"clc\n",
"printf('The resultant of the force system is:%f lb\n',R) //lb\n",
"printf('The resultant is at :%f degrees',theta_R) //degrees"
   ]
   }
,
{
		   "cell_type": "markdown",
		   "metadata": {},
		   "source": [
			"## Example 3.2: Resolutio.sce"
		   ]
		  },
  {
"cell_type": "code",
	   "execution_count": null,
	   "metadata": {
	    "collapsed": true
	   },
	   "outputs": [],
"source": [
"//Initilization of variables\n",
"F1=50 //N\n",
"F2=100 //N\n",
"F3=30 //N\n",
"//Calculation\n",
"//The book has a misprint for squareroot of 1^2\n",
"F1x=F1/sqrt(2) //N \n",
"F1y=F1/sqrt(2) //N\n",
"F2x=-(F2*3)/sqrt(10) //N\n",
"F2y=(-F2)/sqrt(10) //N\n",
"F3x=F3/sqrt(5) //N\n",
"F3y=(-F3*2)/sqrt(5) //N\n",
"Fx=F1x+F2x+F3x //N\n",
"Fy=F1y+F2y+F3y //N\n",
"R=sqrt(Fx^2+Fy^2) //N\n",
"theta=atan(Fy/Fx) //radians\n",
"theta_x=180+(theta*180)/%pi //degrees\n",
"//Result\n",
"clc\n",
"printf('The resultant is:%f N\n',R) //N\n",
"printf('The resultant makes an angle of:%f degrees',theta_x)  //degrees"
   ]
   }
,
{
		   "cell_type": "markdown",
		   "metadata": {},
		   "source": [
			"## Example 3.3: Resolutio.sce"
		   ]
		  },
  {
"cell_type": "code",
	   "execution_count": null,
	   "metadata": {
	    "collapsed": true
	   },
	   "outputs": [],
"source": [
"//Initilization of variables\n",
"F1=70 //lb\n",
"F2=100 //lb\n",
"F3=125 //lb\n",
"theta1=0 //radians\n",
"theta2=((10*%pi)/180) //radians\n",
"theta3=((30*%pi)/180) //radians\n",
"//Calculations\n",
"Fx=F1-(F2*cos(theta3))-(125*sin(theta2)) //lb\n",
"Fy=125*cos(theta2)-(100*sin(theta3)) //lb\n",
"R=sqrt(Fx^2+Fy^2) //lb\n",
"theta=atan(Fy/Fx) //radians\n",
"theta_x=180+(theta*180)/%pi //degrees\n",
"//Result\n",
"clc\n",
"printf('The resultant of the force system is:%f lb\n',R) //lb\n",
"printf('The resultant is at %f with respect to the X-Axis degrees',theta_x) //degrees"
   ]
   }
,
{
		   "cell_type": "markdown",
		   "metadata": {},
		   "source": [
			"## Example 3.4: Resolutio.sce"
		   ]
		  },
  {
"cell_type": "code",
	   "execution_count": null,
	   "metadata": {
	    "collapsed": true
	   },
	   "outputs": [],
"source": [
"//Initilization of variables\n",
"F1=-20 //N\n",
"F2=30 //N\n",
"F3=5 //N\n",
"F4=-40 //N\n",
"//Distances with respect to point O\n",
"x1=6 //m\n",
"x2=0 //m\n",
"x3=8 //m\n",
"x4=13 //m\n",
"//Calculations\n",
"R=F1+F2+F3+F4 //N\n",
"//Applying moment about point O equal to zero\n",
"M_O=-(F1*x1)+(F2*x2)+(F3*x3)+(F4*x4) //N-m\n",
"//Applying moment about point O equal to R*x\n",
"x=M_O/R //m\n",
"//Result\n",
"clc\n",
"printf('The resultant of force system is:%f N\n',R) //N\n",
"printf('The moment about point O is:%f N-m\n',M_O) //N-m\n",
"printf('The resultant of moment acts at %f meters from point O',x) //m\n",
""
   ]
   }
,
{
		   "cell_type": "markdown",
		   "metadata": {},
		   "source": [
			"## Example 3.5: Resolutio.sce"
		   ]
		  },
  {
"cell_type": "code",
	   "execution_count": null,
	   "metadata": {
	    "collapsed": true
	   },
	   "outputs": [],
"source": [
"//Initilization of variables\n",
"F1=-100 //lb\n",
"F2=200 //lb\n",
"F3=-200 //lb\n",
"F4=400 //lb\n",
"F5=-300 //lb\n",
"//Distance with respect to point O\n",
"x1=0 //ft\n",
"x2=2 //ft\n",
"x3=5 //ft\n",
"x4=9 //ft\n",
"x5=11 //ft\n",
"//Calculation\n",
"R=F1+F2+F3+F4+F5 //lb\n",
"M_O=(F1*x1)+(F2*x2)+(F3*x3)+(F4*x4)+(F5*x5) //N-m\n",
"//Result\n",
"clc\n",
"printf('The resultant of the force system is:%i lb \n',R) //lb\n",
"printf('The moment about point O is:%i lb-ft',M_O) //lb-ft"
   ]
   }
,
{
		   "cell_type": "markdown",
		   "metadata": {},
		   "source": [
			"## Example 3.6: Resolutio.sce"
		   ]
		  },
  {
"cell_type": "code",
	   "execution_count": null,
	   "metadata": {
	    "collapsed": true
	   },
	   "outputs": [],
"source": [
"//Initilization of variables\n",
"F1=20 //lb\n",
"F2=20 //lb\n",
"F3=-40 //lb\n",
"//Distance from point O\n",
"x1=3 //ft\n",
"x2=3 //ft\n",
"//Calculations\n",
"R=F1+F2+F3 //lb\n",
"M_O=-(F1*x1)+(F2*x2) //lb-ft\n",
"//Results\n",
"clc\n",
"printf('The resultant of the force system is:%i lb\n',R) //lb\n",
"printf('The Moment about point O is:%i lb-ft',M_O) //lb-ft"
   ]
   }
,
{
		   "cell_type": "markdown",
		   "metadata": {},
		   "source": [
			"## Example 3.7: Resolutio.sce"
		   ]
		  },
  {
"cell_type": "code",
	   "execution_count": null,
	   "metadata": {
	    "collapsed": true
	   },
	   "outputs": [],
"source": [
"//Initilization of variables\n",
"F1=500 //N\n",
"F2=-400 //N\n",
"F3=-200 //N\n",
"C=1500 //N-m\n",
"//Distance from point O\n",
"x1=2 //m\n",
"x2=4 //m\n",
"x3=6 //m\n",
"//Calculations\n",
"R=F1+F2+F3 //N\n",
"M_O=(F1*x1)+(F2*x2)+(F3*x3)+C //N-m\n",
"//Applying Varignons theorem\n",
"x=M_O/R //m\n",
"//Result\n",
"clc\n",
"printf('The resultant of the force system is:%i N\n',R) //N\n",
"printf('The moment about point O is:%i N-m\n',M_O) //N-m\n",
"printf('The resultant acts at %i meters from point O m',x) //m"
   ]
   }
,
{
		   "cell_type": "markdown",
		   "metadata": {},
		   "source": [
			"## Example 3.8: Resolutio.sce"
		   ]
		  },
  {
"cell_type": "code",
	   "execution_count": null,
	   "metadata": {
	    "collapsed": true
	   },
	   "outputs": [],
"source": [
"//Initilization of variables\n",
"F1=50 //lb\n",
"F2=100 //lb\n",
"theta1=((45*%pi)/180) //radians\n",
"//Distance from point O\n",
"x1=5 //ft\n",
"x2=4 //ft\n",
"//Calculation\n",
"F_x=F1-(F2*cos(theta1)) //lb\n",
"F_y=F1-(F2*sin(theta1)) //lb\n",
"R=sqrt(F_x^2+F_y^2) //lb\n",
"M_O=F1*x1-(x2*F1) //lb-ft\n",
"//Applying Varignons Theorem\n",
"x=M_O/R //ft\n",
"//Result\n",
"clc\n",
"printf('The resultant of the force system is:%f lb\n',R) //lb\n",
"printf('The Moment about point O is:%f lb-ft\n',M_O) //lb-ft\n",
"printf('The Resultant acts at %f feet from point O ft',x) //ft"
   ]
   }
,
{
		   "cell_type": "markdown",
		   "metadata": {},
		   "source": [
			"## Example 3.9: Resolutio.sce"
		   ]
		  },
  {
"cell_type": "code",
	   "execution_count": null,
	   "metadata": {
	    "collapsed": true
	   },
	   "outputs": [],
"source": [
"//Initilization of variables\n",
"A=80 //N\n",
"B=120 //N\n",
"C=100 //N\n",
"D=50 //N\n",
"thetaA=((90*%pi)/180) //radians\n",
"thetaB=((150*%pi)/180) //radians\n",
"thetaC=((45*%pi)/180) //radians\n",
"thetaD=((340*%pi)/180) //radians\n",
"//Calculations\n",
"Ax=A*cos(thetaA) //N\n",
"Ay=A*sin(thetaA) //N\n",
"Bx=B*cos(thetaB) //N\n",
"By=B*sin(thetaB) //N\n",
"Cx=C*cos(thetaC) //N\n",
"Cy=C*sin(thetaC) //N\n",
"Dx=D*cos(thetaD) //N\n",
"Dy=D*sin(thetaD) //N\n",
"M_Ax=0 //N-m\n",
"M_Ay=0 //N-m\n",
"M_Bx=-Bx*5 //N-m\n",
"M_By=By*8 //N-m\n",
"M_Cx=-Cx*1 //N-m\n",
"M_Cy=Cy*1 //N-m\n",
"M_Dx=-Dx*-1 //N-m\n",
"M_Dy=Dy*8 //N-m\n",
"Fx=Ax+Bx+Cx+Dx //N\n",
"Fy=Ay+By+Cy+Dy //N\n",
"R=sqrt(Fx^2+Fy^2) //N\n",
"M_O=M_Dx+M_Dy+M_Cx+M_Cy+M_Bx+M_By+M_Ax+M_Ay //N-m\n",
"theta=atan(Fy/Fx) //radians\n",
"theta_x=(theta*180)/%pi //degrees\n",
"//Appliying Varignons theorem\n",
"x=M_O/R //m\n",
"//Result\n",
"clc\n",
"printf('The resultant of the force system is:%f N\n',R) //N\n",
"printf('The moment about point O is:%f N\n',M_O) //N\n",
"printf('The resultant acts at and angle of %f degrees with respect to X-Axis degrees\n',theta_x) //degrees\n",
"printf('The resultant of the force system acts at %f meters from point O',x) //m"
   ]
   }
],
"metadata": {
		  "kernelspec": {
		   "display_name": "Scilab",
		   "language": "scilab",
		   "name": "scilab"
		  },
		  "language_info": {
		   "file_extension": ".sce",
		   "help_links": [
			{
			 "text": "MetaKernel Magics",
			 "url": "https://github.com/calysto/metakernel/blob/master/metakernel/magics/README.md"
			}
		   ],
		   "mimetype": "text/x-octave",
		   "name": "scilab",
		   "version": "0.7.1"
		  }
		 },
		 "nbformat": 4,
		 "nbformat_minor": 0
}
