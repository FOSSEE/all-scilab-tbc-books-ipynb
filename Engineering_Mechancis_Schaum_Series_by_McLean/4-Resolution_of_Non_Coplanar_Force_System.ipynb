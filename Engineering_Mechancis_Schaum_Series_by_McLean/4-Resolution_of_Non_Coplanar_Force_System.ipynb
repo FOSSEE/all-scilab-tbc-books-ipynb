{
"cells": [
 {
		   "cell_type": "markdown",
	   "metadata": {},
	   "source": [
       "# Chapter 4: Resolution of Non Coplanar Force System"
	   ]
	},
{
		   "cell_type": "markdown",
		   "metadata": {},
		   "source": [
			"## Example 4.1: Resolution_Non_Coplanar.sce"
		   ]
		  },
  {
"cell_type": "code",
	   "execution_count": null,
	   "metadata": {
	    "collapsed": true
	   },
	   "outputs": [],
"source": [
"//Initilization Of Variables\n",
"F1=20 //lb\n",
"F2=15 //lb\n",
"F3=30 //lb\n",
"F4=50 //lb\n",
"//Co-ordinates of Forces\n",
"C1=[2;1;6]\n",
"C2=[4;-2;5]\n",
"C3=[-3;-2;1]\n",
"C4=[5;1;-2]\n",
"//Calculations\n",
"A=sqrt((C1(1,1))^2+(C1(2,1))^2+(C1(3,1)^2))\n",
"B=sqrt((C2(1,1))^2+(C2(2,1))^2+(C2(3,1)^2))\n",
"C=sqrt((C3(1,1))^2+(C3(2,1))^2+(C3(3,1)^2))\n",
"D=sqrt((C4(1,1))^2+(C4(2,1))^2+(C4(3,1)^2))\n",
"//Calculations for cos(thetax),cos(thetay) and cos(thetaz)\n",
"theta1=[C1(1,1)/A;C1(2,1)/A;C1(3,1)/A]\n",
"theta2=[C2(1,1)/B;C2(2,1)/B;C2(3,1)/B]\n",
"theta3=[C3(1,1)/C;C3(2,1)/C;C3(3,1)/C]\n",
"theta4=[C4(1,1)/D;C4(2,1)/D;C4(3,1)/D]\n",
"//Calculations for forces (in form of force vectors)\n",
"Fa=F1*theta1 //lb\n",
"Fb=F2*theta2 //lb\n",
"Fc=F3*theta3 //lb\n",
"Fd=F4*theta4 //lb\n",
"Fx=Fa(1,1)+Fb(1,1)+Fc(1,1)+Fd(1,1) //lb\n",
"Fy=Fa(2,1)+Fb(2,1)+Fc(2,1)+Fd(2,1) //lb\n",
"Fz=Fa(3,1)+Fb(3,1)+Fc(3,1)+Fd(3,1) //lb\n",
"R=sqrt(Fx^2+Fy^2+Fz^2) //lb\n",
"thetax=acosd(Fx/R) //degrees\n",
"thetay=180-acosd(Fy/R) //degrees\n",
"thetaz=acosd(Fz/R) //degrees\n",
"//Result\n",
"clc\n",
"printf('The resultant of the force system is %f lb \n',R)\n",
"printf('The angle of the resultant with respect to x y and z axes are %f, %f and %f degrees respectively',thetax,thetay,thetaz)"
   ]
   }
,
{
		   "cell_type": "markdown",
		   "metadata": {},
		   "source": [
			"## Example 4.2: Resolution_Non_Coplanar.sce"
		   ]
		  },
  {
"cell_type": "code",
	   "execution_count": null,
	   "metadata": {
	    "collapsed": true
	   },
	   "outputs": [],
"source": [
"//Initilization of variables\n",
"F=[20;-10;30] //N\n",
"//co-ordinates in meters\n",
"a=2 //m\n",
"b=4 //m\n",
"c=7 //m\n",
"d=3 //m\n",
"e=2 //m\n",
"f=4 //m\n",
"//Calculations\n",
"R=F(1,1)+F(2,1)+F(3,1) //N\n",
"M_o=F(1,1)*a+F(2,1)*b+F(3,1)*c //N-m\n",
"x=M_o/R //m\n",
"M_x=-F(3,1)*e-F(1,1)*d+F(2,1)*f //N-m\n",
"z=-M_x/R //m\n",
"//Result\n",
"clc\n",
"printf('The resultant is %f N \n',R)\n",
"printf('The moment about point O is %f N-m \n',M_o)\n",
"printf('The position of R is at %f from origin m \n',x)\n",
"printf('The moment is %f N-m\n',M_x)\n",
"printf('The z co-ordinate is %f m',z)"
   ]
   }
,
{
		   "cell_type": "markdown",
		   "metadata": {},
		   "source": [
			"## Example 4.3: Resolution_Non_Coplanar.sce"
		   ]
		  },
  {
"cell_type": "code",
	   "execution_count": null,
	   "metadata": {
	    "collapsed": true
	   },
	   "outputs": [],
"source": [
"//Initilization of variables\n",
"F=[100;50;-150] //Force vector N\n",
"a=2 //m\n",
"b=2 //m \n",
"c=3 //m\n",
"d=2 //m\n",
"e=4 //m\n",
"f=8 //m\n",
"//Calculations\n",
"R=F(1,1)+F(2,1)+F(3,1) //N\n",
"M_x=-F(1,1)*a+F(2,1)*b-F(3,1)*c //N-m\n",
"M_z=F(1,1)*d+F(2,1)*e+F(3,1)*f //N-m\n",
"C=sqrt(M_x^2+M_z^2) //N-m\n",
"thetax=atand(-M_x/M_z) //degrees\n",
"//result\n",
"clc\n",
"printf('The resultant is %f N \n',R)\n",
"printf('The moment about x axis is %f N.m \n',M_x)\n",
"printf('The moment about z axis is %f N.m\n',M_z)\n",
"printf('The couple acting is %f N.m\n',C)\n",
"printf('The trace makes an angle with x axis of %f degrees',thetax)"
   ]
   }
,
{
		   "cell_type": "markdown",
		   "metadata": {},
		   "source": [
			"## Example 4.4: Resolution_Non_Coplanar.sce"
		   ]
		  },
  {
"cell_type": "code",
	   "execution_count": null,
	   "metadata": {
	    "collapsed": true
	   },
	   "outputs": [],
"source": [
"//Initilization of variables\n",
"x1=-2\n",
"y1=2\n",
"z1=-2\n",
"x2=3\n",
"y2=0\n",
"z2=-4\n",
"x3=3\n",
"y3=2\n",
"z3=2\n",
"F1=40 //lb\n",
"F2=30 //lb\n",
"F3=20 //lb\n",
"Mxm=[-92.4,-48,-19.4]\n",
"Mym=[-46.2,72,9.8]\n",
"Mzm=[46.2,-36,19.4]\n",
"//Calculations\n",
"mag1=sqrt(x1^2+y1^2+z1^2)\n",
"mag2=sqrt(x2^2+y2^2+z2^2)\n",
"mag3=sqrt(x3^2+y3^2+z3^2)\n",
"thetax1=acosd(x1/mag1) //degrees\n",
"thetay1=acosd(y1/mag1) //degrees\n",
"thetaz1=acosd(z1/mag1) //degrees\n",
"thetax2=acosd(x2/mag2) //degrees\n",
"thetay2=acosd(y2/mag2) //degrees\n",
"thetaz2=acosd(z2/mag2) //degrees\n",
"thetax3=acosd(x3/mag3) //degrees\n",
"thetay3=acosd(y3/mag3) //degrees\n",
"thetaz3=acosd(z3/mag3) //degrees\n",
"//Now we will define all the components in terms of matrices for simplicity of computation\n",
"F=[F1,F2,F3] //lb\n",
"COSthetax=[cosd(thetax1);cosd(thetax2);cosd(thetax3)]\n",
"COSthetay=[cosd(thetay1);cosd(thetay2);cosd(thetay3)]\n",
"COSthetaz=[cosd(thetaz1);cosd(thetaz2);cosd(thetaz3)]\n",
"Fx=F*COSthetax //lb\n",
"Fy=F*COSthetay //lb\n",
"Fz=F*COSthetaz //lb\n",
"R=sqrt(Fx^2+Fy^2+Fz^2) //lb\n",
"thetax=acosd(Fx/R) //degrees\n",
"thetay=acosd(Fy/R) //degrees\n",
"thetaz=acosd(Fz/R) //degrees\n",
"//Moment calculations\n",
"Mx=Mxm(1)+Mxm(2)+Mxm(3) //lb-ft\n",
"My=Mym(1)+Mym(2)+Mym(3) //lb-ft\n",
"Mz=Mzm(1)+Mzm(2)+Mzm(3) //lb-ft\n",
"C=sqrt(Mx^2+My^2+Mz^2) //lb-ft\n",
"//Direction cosines\n",
"PHIx=acosd(Mx/C) //degrees\n",
"PHIy=acosd(My/C) //degrees\n",
"PHIz=acosd(Mz/C) //degrees\n",
"//Result\n",
"clc\n",
"printf('The result of the force is %f lb\n',R)\n",
"printf('The angles with respect to X-Axis,Y-Axis and Z-axis are %f ,%f and %f degrees respectively\n',thetax,thetay,thetaz)\n",
"printf('The magnitude of resultant couple is %f lb-ft\n',C)\n",
"printf('The angles are as follows Cosphix=%f degrees ,Cosphix=%f degrees and Cosphiz=%f degrees',PHIx,PHIy,PHIz)\n",
""
   ]
   }
,
{
		   "cell_type": "markdown",
		   "metadata": {},
		   "source": [
			"## Example 4.5: Resolution_Non_Coplanar.sce"
		   ]
		  },
  {
"cell_type": "code",
	   "execution_count": null,
	   "metadata": {
	    "collapsed": true
	   },
	   "outputs": [],
"source": [
"//Initilization of variables\n",
"F=[150;90;160] //lb force vector kind of decleration\n",
"//Co-ordinates defined as [x;y;z] all the co-ordinates are in feet\n",
"C_1=[2;0;0] \n",
"C_2=[0;0;1]\n",
"C_3=[0;-2;-1]\n",
"C_4=[-1;0;-1]\n",
"//Calculations\n",
"A=C_2-C_1\n",
"B=C_4-C_3\n",
"F1=(F(1,1)*A)/sqrt(A(1,1)^2+A(2,1)^2+A(3,1))\n",
"F2=(F(2,1)*B)/sqrt(B(1,1)^2+B(2,1)^2+B(3,1))\n",
"R=F1+F2\n",
"//The calculations for this is done differently\n",
"C1x=det([1 0 0;C_1(1,1) C_1(2,1) C_1(3,1);F1(1,1) F1(2,1) F1(3,1)])\n",
"C1y=det([0 1 0;C_1(1,1) C_1(2,1) C_1(3,1);F1(1,1) F1(2,1) F1(3,1)])\n",
"C1z=det([0 0 1;C_1(1,1) C_1(2,1) C_1(3,1);F1(1,1) F1(2,1) F1(3,1)])\n",
"C2x=det([1 0 0;C_3(1,1) C_3(2,1) C_3(3,1);F2(1,1) F2(2,1) F2(3,1)])\n",
"C2y=det([0 1 0;C_3(1,1) C_3(2,1) C_3(3,1);F2(1,1) F2(2,1) F2(3,1)])\n",
"C2z=det([0 0 1;C_3(1,1) C_3(2,1) C_3(3,1);F2(1,1) F2(2,1) F2(3,1)])\n",
"C3z=[0;0;F(3,1)]\n",
"sC1=[C1x;C1y;C1z]\n",
"sC2=[C2x;C2y;C2z]\n",
"C=sC1+sC2+C3z\n",
"//Result\n",
"clc\n",
"printf('The resultant force couple is %fi%fj+%fk lb-ft',C(1,1), C(2,1), C(3,1))"
   ]
   }
],
"metadata": {
		  "kernelspec": {
		   "display_name": "Scilab",
		   "language": "scilab",
		   "name": "scilab"
		  },
		  "language_info": {
		   "file_extension": ".sce",
		   "help_links": [
			{
			 "text": "MetaKernel Magics",
			 "url": "https://github.com/calysto/metakernel/blob/master/metakernel/magics/README.md"
			}
		   ],
		   "mimetype": "text/x-octave",
		   "name": "scilab",
		   "version": "0.7.1"
		  }
		 },
		 "nbformat": 4,
		 "nbformat_minor": 0
}
