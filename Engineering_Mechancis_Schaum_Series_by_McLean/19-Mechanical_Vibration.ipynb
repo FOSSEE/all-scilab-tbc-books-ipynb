{
"cells": [
 {
		   "cell_type": "markdown",
	   "metadata": {},
	   "source": [
       "# Chapter 19: Mechanical Vibration"
	   ]
	},
{
		   "cell_type": "markdown",
		   "metadata": {},
		   "source": [
			"## Example 19.11: Vibrations.sce"
		   ]
		  },
  {
"cell_type": "code",
	   "execution_count": null,
	   "metadata": {
	    "collapsed": true
	   },
	   "outputs": [],
"source": [
"//Initilization of variables\n",
"ds=0.2 //m\n",
"ts=0.05 //m\n",
"rhos=7850 //kg/m^3 density of  steel\n",
"dw=0.002 //m\n",
"lw=0.9 //m\n",
"G=80*10^9 //Pa\n",
"//Calculations\n",
"//Torsional Constant\n",
"K=(%pi*dw^4*G)/(32*lw) //m/rad\n",
"//Mass Calculations\n",
"m=(1/4)*%pi*(ds^2)*ts*rhos //kg\n",
"//Moment of Inertia\n",
"Io=(1/2)*m*(ds/2)^2 //kg.m^2\n",
"//Frequency\n",
"f=(1/(2*%pi))*(sqrt(K/Io)) //Hz\n",
"//Result\n",
"clc\n",
"printf('The natural frequency of the system is %f Hz',f)"
   ]
   }
,
{
		   "cell_type": "markdown",
		   "metadata": {},
		   "source": [
			"## Example 19.13: Vibrations.sce"
		   ]
		  },
  {
"cell_type": "code",
	   "execution_count": null,
	   "metadata": {
	    "collapsed": true
	   },
	   "outputs": [],
"source": [
"//Initilization of variables\n",
"m=120 //kg\n",
"k=0.3 //m\n",
"ls=0.6 //m\n",
"ds=0.05 //m\n",
"G=80*10^9 //Pa\n",
"//Calculations\n",
"//Polar Moment of Inertia\n",
"J1=m*k^2 //kg.m^2\n",
"J2=J1 //kg.m^2\n",
"J=(1/32)*%pi*(ds^4) //m^4\n",
"//Frequency\n",
"f=(1/(2*%pi))*(sqrt((J*G*(J1+J2))/(ls*J1*J2))) //Hz\n",
"//Result\n",
"clc\n",
"printf('The natural frequency of the torsional oscillation is %f Hz',f)"
   ]
   }
,
{
		   "cell_type": "markdown",
		   "metadata": {},
		   "source": [
			"## Example 19.14: Vibrations.sce"
		   ]
		  },
  {
"cell_type": "code",
	   "execution_count": null,
	   "metadata": {
	    "collapsed": true
	   },
	   "outputs": [],
"source": [
"//Initilization of variables\n",
"ds=2 //in\n",
"L=15 //in\n",
"Wf1=300 //lb\n",
"k1=6 //in\n",
"Wf2=100 //lb\n",
"k2=4 //in\n",
"G=12*10^6 //Pa\n",
"g=386 //in/s^2\n",
"//Calculations\n",
"//Moment of inertia of flywheel\n",
"Jf=(Wf1/g)*k1^2 //lb-s^2-in\n",
"//Moment of inertia of the rotor\n",
"Jr=(Wf2/g)*k2^2 //lb-s^2-in\n",
"//Moment of inertia of the shaft cross section\n",
"J=(1/32)*%pi*ds^4 //in^4\n",
"//Frequency\n",
"f=(1/(%pi*2))*(sqrt((J*G*(Jf+Jr))/(L*Jf*Jr))) //cps\n",
"//result\n",
"clc\n",
"printf('The natural frequency of the system is %f cps',f)"
   ]
   }
,
{
		   "cell_type": "markdown",
		   "metadata": {},
		   "source": [
			"## Example 19.15: Vibrations.sce"
		   ]
		  },
  {
"cell_type": "code",
	   "execution_count": null,
	   "metadata": {
	    "collapsed": true
	   },
	   "outputs": [],
"source": [
"//Initilization of variables\n",
"W=10 //lb\n",
"A=2 //in^2\n",
"//Calculations\n",
"wn=sqrt(((A/144)*5*62.4*5)/2.59) //Hz\n",
"//Result\n",
"clc\n",
"printf('The frequency of oscillation is %f Hz',wn)"
   ]
   }
,
{
		   "cell_type": "markdown",
		   "metadata": {},
		   "source": [
			"## Example 19.16: Vibrations.sce"
		   ]
		  },
  {
"cell_type": "code",
	   "execution_count": null,
	   "metadata": {
	    "collapsed": true
	   },
	   "outputs": [],
"source": [
"//Initilization of variables\n",
"f=50 //cps\n",
"g=386 //in/s^2\n",
"E=30*10^6 //lb/in^2\n",
"l=4 //in\n",
"I=2.08*10^-6 //in^4\n",
"//Calculations\n",
"W=(3*E*I*g)/(((f*2*%pi)^2)*l^3) //lb\n",
"//Result\n",
"clc\n",
"printf('The value of W is %f lb',W)"
   ]
   }
,
{
		   "cell_type": "markdown",
		   "metadata": {},
		   "source": [
			"## Example 19.19: Vibrations.sce"
		   ]
		  },
  {
"cell_type": "code",
	   "execution_count": null,
	   "metadata": {
	    "collapsed": true
	   },
	   "outputs": [],
"source": [
"//Initilization of variables\n",
"F=10 //lb\n",
"v=20 //in/s\n",
"g=386 //in/s\n",
"W=12 //lb\n",
"k=20 //lb/in\n",
"//Calculations\n",
"//Coefficient of damping\n",
"c=F/v //lb-s/in\n",
"//Natural Frequency\n",
"wn=sqrt((k*g)/W) //rad/s\n",
"//Critical Damping coefficient\n",
"cr=(2*W/g)*wn //lb-s/in\n",
"//Damping Coefficient\n",
"d=c/cr\n",
"//Frequency of damped vibrations\n",
"wd=sqrt(1-d^2)*wn //rad/s\n",
"//Result\n",
"clc\n",
"printf('The frequency of damped vibrations is %f rad/s',wd)"
   ]
   }
,
{
		   "cell_type": "markdown",
		   "metadata": {},
		   "source": [
			"## Example 19.20: Vibrations.sce"
		   ]
		  },
  {
"cell_type": "code",
	   "execution_count": null,
	   "metadata": {
	    "collapsed": true
	   },
	   "outputs": [],
"source": [
"//Initilization of variables\n",
"wn=25.4 //rad/s\n",
"t=0.261 //s\n",
"d=0.316\n",
"//Calculations\n",
"del=d*t*wn //logarithmic decay\n",
"//Result\n",
"clc\n",
"printf('The rate of decay is %f',del)"
   ]
   }
,
{
		   "cell_type": "markdown",
		   "metadata": {},
		   "source": [
			"## Example 19.24: Vibrations.sce"
		   ]
		  },
  {
"cell_type": "code",
	   "execution_count": null,
	   "metadata": {
	    "collapsed": true
	   },
	   "outputs": [],
"source": [
"//Initilization of variables\n",
"F=9 //N\n",
"m=5 //kg\n",
"k=6000 //N/m\n",
"f1=1 //Hz\n",
"f2=5.4 //Hz\n",
"f3=50 //Hz\n",
"//Calculations\n",
"//Natural Frequency\n",
"fn=(1/(%pi*2))*(sqrt(k/m)) //Hz\n",
"deltaf=F/(k/1000) //mm\n",
"//Part(a)\n",
"r1=f1/fn\n",
"amp1=deltaf/(1-r1^2) //mm amplitude\n",
"//Part (b)\n",
"r2=f2/fn\n",
"amp2=deltaf/(1-r2^2) //mm amplitude\n",
"//Part (c)\n",
"r3=f3/fn\n",
"amp3=deltaf/(1-r3^2) //mm amplitude\n",
"//Result\n",
"clc\n",
"printf('The amplitudes in part (a),(b) and (c) respectively are \n %f mm,%f mm and %f mm respectively',amp1,amp2,amp3)"
   ]
   }
,
{
		   "cell_type": "markdown",
		   "metadata": {},
		   "source": [
			"## Example 19.25: Vibrations.sce"
		   ]
		  },
  {
"cell_type": "code",
	   "execution_count": null,
	   "metadata": {
	    "collapsed": true
	   },
	   "outputs": [],
"source": [
"//Initilization of vraiables\n",
"g=386 //in/s^2\n",
"W=20 //lb\n",
"w=600 //rpm\n",
"ratio=1/12\n",
"//Calculations\n",
"r=sqrt((1/ratio)+1) \n",
"fn=((w/60)/r) //cps\n",
"k=((fn*2*%pi)^2*W)/(g) //lb/in\n",
"//Result\n",
"clc\n",
"printf('The value of k is %f lb/in',k)"
   ]
   }
,
{
		   "cell_type": "markdown",
		   "metadata": {},
		   "source": [
			"## Example 19.28: Vibrations.sce"
		   ]
		  },
  {
"cell_type": "code",
	   "execution_count": null,
	   "metadata": {
	    "collapsed": true
	   },
	   "outputs": [],
"source": [
"//Initilization of variables\n",
"X=12 //mm\n",
"me_M=1.3 //mm\n",
"//Calculations\n",
"d=(me_M)/(2*X) \n",
"//Result\n",
"clc\n",
"printf('The damping ratio is %f',d)"
   ]
   }
,
{
		   "cell_type": "markdown",
		   "metadata": {},
		   "source": [
			"## Example 19.2: Vibrations.sce"
		   ]
		  },
  {
"cell_type": "code",
	   "execution_count": null,
	   "metadata": {
	    "collapsed": true
	   },
	   "outputs": [],
"source": [
"//Initilization of variables\n",
"k=18 //lb/in\n",
"g=386 //in/s^2\n",
"W=35 //lb\n",
"//Calculations\n",
"f=(1/(2*%pi))*sqrt((k*g/W)) //cps\n",
"period=1/f //s\n",
"//Result\n",
"clc\n",
"printf('The period of vibration is %f s',period)"
   ]
   }
],
"metadata": {
		  "kernelspec": {
		   "display_name": "Scilab",
		   "language": "scilab",
		   "name": "scilab"
		  },
		  "language_info": {
		   "file_extension": ".sce",
		   "help_links": [
			{
			 "text": "MetaKernel Magics",
			 "url": "https://github.com/calysto/metakernel/blob/master/metakernel/magics/README.md"
			}
		   ],
		   "mimetype": "text/x-octave",
		   "name": "scilab",
		   "version": "0.7.1"
		  }
		 },
		 "nbformat": 4,
		 "nbformat_minor": 0
}
