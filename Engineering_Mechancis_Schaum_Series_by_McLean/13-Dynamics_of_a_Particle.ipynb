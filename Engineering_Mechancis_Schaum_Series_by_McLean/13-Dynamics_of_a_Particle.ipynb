{
"cells": [
 {
		   "cell_type": "markdown",
	   "metadata": {},
	   "source": [
       "# Chapter 13: Dynamics of a Particle"
	   ]
	},
{
		   "cell_type": "markdown",
		   "metadata": {},
		   "source": [
			"## Example 13.10: Dyna_of_a_Part.sce"
		   ]
		  },
  {
"cell_type": "code",
	   "execution_count": null,
	   "metadata": {
	    "collapsed": true
	   },
	   "outputs": [],
"source": [
"//Initilization of variables\n",
"m1=2 //kg\n",
"theta=20 //degrees\n",
"m2=4 //kg\n",
"t=4 //s\n",
"g=9.8 //m/s^2\n",
"vo=0 //m/s\n",
"//Calculations\n",
"//Applying Newtons Principle\n",
"//Solving by matrix method\n",
"A=[1,-2;1,4]\n",
"B=[m1*g*sind(theta);m2*g]\n",
"C=inv(A)*B \n",
"a=C(2) //m/s^2\n",
"v=vo+a*t //m/s\n",
"//Result\n",
"clc\n",
"printf('The velocity of 4kg mass is %fm/s',v)"
   ]
   }
,
{
		   "cell_type": "markdown",
		   "metadata": {},
		   "source": [
			"## Example 13.11: Dyna_of_a_Part.sce"
		   ]
		  },
  {
"cell_type": "code",
	   "execution_count": null,
	   "metadata": {
	    "collapsed": true
	   },
	   "outputs": [],
"source": [
"//Initilization of variables\n",
"m_A=20 //lb\n",
"m_B=60 //lb\n",
"u=0.3 //coefficient of friction\n",
"t=4 //s\n",
"theta1=30 //degrees\n",
"theta2=60 //degrees\n",
"g=32.2 //ft/s^2\n",
"vo=0 //ft/s\n",
"//Calculations\n",
"N1=m_A*cosd(theta1) //lb\n",
"N2=m_B*cosd(theta2) //lb\n",
"//Solving for T and a using matrix method\n",
"A=[1,-m_A/g;-1,-m_B/g]\n",
"B=[(m_A*sind(theta1)+u*N1);(-m_B*sind(theta2)+u*N2)] \n",
"C=inv(A)*B\n",
"a=C(2) //ft/s^2\n",
"v=vo+a*t //ft/s\n",
"//Result\n",
"clc\n",
"printf('The velocity is %fft/s',v)"
   ]
   }
,
{
		   "cell_type": "markdown",
		   "metadata": {},
		   "source": [
			"## Example 13.12: Dyna_of_a_Part.sce"
		   ]
		  },
  {
"cell_type": "code",
	   "execution_count": null,
	   "metadata": {
	    "collapsed": true
	   },
	   "outputs": [],
"source": [
"//Initilization of variables\n",
"m_A=40 //kg\n",
"m_B=15 //kg\n",
"F=500 //N\n",
"g=9.8 //m/s^2\n",
"theta=30 //degrees\n",
"//Calculations\n",
"m=m_A+m_B //kg\n",
"a=(F-m*g*sind(theta))/(m) //m/s^2\n",
"//Summing forces parallel and perpendicular to the plane\n",
"//Simplfying equation (1) and (2)\n",
"Nb=m_B*g+(m_B*a*sind(theta)) //N\n",
"//Substituting this in eq(1)\n",
"u=-(m_B*g*cosd(theta)-(Nb*cosd(theta)))/(Nb*sind(theta))\n",
"//Result\n",
"clc\n",
"printf('The value of u is %f',u)"
   ]
   }
,
{
		   "cell_type": "markdown",
		   "metadata": {},
		   "source": [
			"## Example 13.13: Dyna_of_a_Part.sce"
		   ]
		  },
  {
"cell_type": "code",
	   "execution_count": null,
	   "metadata": {
	    "collapsed": true
	   },
	   "outputs": [],
"source": [
"//Initilization of variables\n",
"P=70 //N\n",
"m_A=16 //kg\n",
"u_AH=0.25 //coefficient of friction between Block A and Horizontal Plane\n",
"m_B=4 //kg\n",
"u_BH=0.5 //coefficient of friction between Block B and Horizontal Plane\n",
"theta=10 //degrees\n",
"g=9.8 //m/s^2\n",
"//Calculations\n",
"//Applying sum of forces to both the FBD's\n",
"//Solving by matrix method \n",
"A=[-cosd(theta),-u_AH,-m_A,0;-sind(theta),1,0,0;cosd(theta),0,-m_B,-u_BH;sind(theta),0,0,1] \n",
"B=[-P;m_A*g;0;m_B*g]\n",
"C=inv(A)*B //Ans\n",
"//Result\n",
"clc\n",
"printf('The Value of T is %fN',C(1) )"
   ]
   }
,
{
		   "cell_type": "markdown",
		   "metadata": {},
		   "source": [
			"## Example 13.14: Dyna_of_a_Part.sce"
		   ]
		  },
  {
"cell_type": "code",
	   "execution_count": null,
	   "metadata": {
	    "collapsed": true
	   },
	   "outputs": [],
"source": [
"//Initilization of variables\n",
"theta=10 //degrees\n",
"v=10 //ft/s\n",
"v0=0 //ft/s\n",
"u=1/3 //coefficient of friction\n",
"g=32.2 //ft/s^2\n",
"//Calculations\n",
"//Equations of motion for box are\n",
"//Simplfying the equations by sybstitution\n",
"a=((u*cosd(theta))-sind(theta))*g //ft/s^2\n",
"//Time calculations\n",
"t=(v-v0)/a //s\n",
"//Result\n",
"clc\n",
"printf('The value of a is %fft/s^2\n The time required is %f seconds',a,t)"
   ]
   }
,
{
		   "cell_type": "markdown",
		   "metadata": {},
		   "source": [
			"## Example 13.15: Dyna_of_a_Part.sce"
		   ]
		  },
  {
"cell_type": "code",
	   "execution_count": null,
	   "metadata": {
	    "collapsed": true
	   },
	   "outputs": [],
"source": [
"//Initilization of variables\n",
"g=9.8 //m/s^2\n",
"//Calculations\n",
"//Simplfying the equations we can solve for T2 and aA first to obtain the solution\n",
"//Solving by matrix method\n",
"A=[-1.5,-4;-3.5,24]\n",
"B=[-4*g;-24*g]\n",
"C=inv(A)*B \n",
"T2=C(1) //N\n",
"T1=T2/2 //N\n",
"T3=T2/2 //N\n",
"//Acceleration calculations\n",
"a1=1*g-T1 //m/s^2\n",
"a2=(2*g-T1)/2 //m/s^2\n",
"a3=(3*g-T3)/3 //m/s^2\n",
"a4=(4*g-T3)/4 //m/s^2\n",
"//Tension in fixed cord\n",
"T_f=2*T2 //N\n",
"//Result\n",
"clc\n",
"printf('The acceleration values are a1=%f,a2=%f,a3=%f and a4=%f m/s^2\n The tension in the fixed cord is %fN',a1,a2,a3,a4,T_f)"
   ]
   }
,
{
		   "cell_type": "markdown",
		   "metadata": {},
		   "source": [
			"## Example 13.16: Dyna_of_a_Part.sce"
		   ]
		  },
  {
"cell_type": "code",
	   "execution_count": null,
	   "metadata": {
	    "collapsed": true
	   },
	   "outputs": [],
"source": [
"//Initilization of variables\n",
"m1=14 //kg\n",
"m2=7 //kg\n",
"theta=45 //degrees\n",
"u_1=1/4 //coefficient of friction between mass 1 and plane\n",
"u_2=3/8 //coefficient of friction between mass 2 and plane\n",
"g=9.8 //m/s^2\n",
"//Calculations\n",
"//The equations of motion for m1 are\n",
"N1=m1*g*cosd(theta) //N\n",
"F1=u_1*N1 //N\n",
"//The equations of motion for m2 are\n",
"N2=m2*g*cosd(theta) //N\n",
"F2=u_2*N2 //N\n",
"//Now to get T and a we solve using matrix method\n",
"A=[-1,-m1;1,-m2]\n",
"B=[-(m1*g*sind(theta)-F1);-(m2*g*sind(theta)-F2)]\n",
"C=inv(A)*B\n",
"//Result\n",
"clc\n",
"printf('The Value of T is %fN',C(1))"
   ]
   }
,
{
		   "cell_type": "markdown",
		   "metadata": {},
		   "source": [
			"## Example 13.19: Dyna_of_a_Part.sce"
		   ]
		  },
  {
"cell_type": "code",
	   "execution_count": null,
	   "metadata": {
	    "collapsed": true
	   },
	   "outputs": [],
"source": [
"//Initilization of variables\n",
"W=12 //oz\n",
"k=2 //oz/in\n",
"M=0.34 //kg\n",
"K=22 //N/m\n",
"g=32.2 //ft/s^2\n",
"//Calculations\n",
"//Part(a)\n",
"a=(k*W*g)/16\n",
"b=W/16\n",
"f=(1/(2*%pi))*(sqrt(a/b)) //Hz for simplicity the numerator and denominator have been computed seperately as a and b\n",
"//Part(b)\n",
"F=(1/(2*%pi))*(sqrt(K/M)) //Hz\n",
"//Result\n",
"clc\n",
"printf('The frequency in part (a) is %f Hz and in part(b) is %f Hz',f,F)"
   ]
   }
,
{
		   "cell_type": "markdown",
		   "metadata": {},
		   "source": [
			"## Example 13.1: Dyna_of_a_Part.sce"
		   ]
		  },
  {
"cell_type": "code",
	   "execution_count": null,
	   "metadata": {
	    "collapsed": true
	   },
	   "outputs": [],
"source": [
"//Initilization of variables\n",
"W=2 //lb\n",
"F=1.5 //lb\n",
"g=32.2 //ft/s^2\n",
"//Angles are with respect to the plane\n",
"theta1=10 //degrees\n",
"theta2=30 //degrees\n",
"//Calculations\n",
"//Now here the forces are considered as parallel and perpendicular to the plane \n",
"//Applying Newtond Principle\n",
"ax=(g/2)*(F*cosd(theta1)-(W*sind(theta2))) //ft/s^2\n",
"N1=(2*cosd(theta2)-(F*sind(theta1))) //lb\n",
"//result\n",
"clc\n",
"printf('The force on the particle is %flb\n The acceleration is %fft/s^2',N1,ax)"
   ]
   }
,
{
		   "cell_type": "markdown",
		   "metadata": {},
		   "source": [
			"## Example 13.20: Dyna_of_a_Part.sce"
		   ]
		  },
  {
"cell_type": "code",
	   "execution_count": null,
	   "metadata": {
	    "collapsed": true
	   },
	   "outputs": [],
"source": [
"//As the entire question is theoritical\n",
"//theta is directly computed \n",
"theta=acosd(2/3) //degrees\n",
"//result\n",
"clc\n",
"printf('The value of theta is %f degrees',theta)"
   ]
   }
,
{
		   "cell_type": "markdown",
		   "metadata": {},
		   "source": [
			"## Example 13.28: Dyna_of_a_Part.sce"
		   ]
		  },
  {
"cell_type": "code",
	   "execution_count": null,
	   "metadata": {
	    "collapsed": true
	   },
	   "outputs": [],
"source": [
"//Initilization of variables\n",
"G=6.658*10^-8 //cm^3/g.s^2\n",
"//Calculations\n",
"G1=G*((3.281*10^2)/((2.205/32.2)*10^4)) //ft^3/slug-s^2\n",
"G2=G1 //ft^4/lb-s^4\n",
"//Result\n",
"G1\n",
"G2"
   ]
   }
,
{
		   "cell_type": "markdown",
		   "metadata": {},
		   "source": [
			"## Example 13.29: Dyna_of_a_Part.sce"
		   ]
		  },
  {
"cell_type": "code",
	   "execution_count": null,
	   "metadata": {
	    "collapsed": true
	   },
	   "outputs": [],
"source": [
"//Initilization of variables\n",
"//Modifying the value of C without vo^2 in it\n",
"C=5000*5280\n",
"G=3.43*10^-8 //Gravatational Constant\n",
"M=4.09*10^23 //Mass of the Earth\n",
"a=5.31*10^8\n",
"//When the orbit is circular e=0\n",
"vo1=sqrt(a) //ft/s\n",
"//When the orbit is parabolic e=1\n",
"vo2=sqrt((C*a+G*M)/C) //ft/s\n",
"//Result\n",
"clc\n",
"printf('The value of vo1=%f is smaller than vo2=%f,hence the\n Satellite will enter a hyperbolic path and never return',vo1,vo2)\n",
"//Decimal accuracy causes discrepancy in answers"
   ]
   }
,
{
		   "cell_type": "markdown",
		   "metadata": {},
		   "source": [
			"## Example 13.2: Dyna_of_a_Part.sce"
		   ]
		  },
  {
"cell_type": "code",
	   "execution_count": null,
	   "metadata": {
	    "collapsed": true
	   },
	   "outputs": [],
"source": [
"//Initilization of variables\n",
"m=5 //kg\n",
"s=12 //m\n",
"v=4 //m/s\n",
"vo=0 //m/s\n",
"g=9.8 //m/s^2\n",
"mu=0.25\n",
"//Calculations\n",
"//Using the kinematic equations of motion\n",
"a=(v^2-vo^2)/(2*s) //m/s^2\n",
"//Using Newtons Principle\n",
"N1=g*m //N\n",
"P=m*a+mu*N1 //N\n",
"//Result\n",
"clc\n",
"printf('The value of P is %fN',P)"
   ]
   }
,
{
		   "cell_type": "markdown",
		   "metadata": {},
		   "source": [
			"## Example 13.30: Dyna_of_a_Part.sce"
		   ]
		  },
  {
"cell_type": "code",
	   "execution_count": null,
	   "metadata": {
	    "collapsed": true
	   },
	   "outputs": [],
"source": [
"//Initilization of variables\n",
"r=3940+500 //mi\n",
"phi=0 //degrees\n",
"vo=36000 //ft/s\n",
"C=4440*5280*vo\n",
"G=3.43*10^-8\n",
"M=4.09*10^23 //kg\n",
"//Calculations\n",
"e=((C*vo)/(G*M))-1\n",
"//Result\n",
"clc\n",
"printf('The value of e=%f hence the path is Hyperbolic',e)"
   ]
   }
,
{
		   "cell_type": "markdown",
		   "metadata": {},
		   "source": [
			"## Example 13.31: Dyna_of_a_Part.sce"
		   ]
		  },
  {
"cell_type": "code",
	   "execution_count": null,
	   "metadata": {
	    "collapsed": true
	   },
	   "outputs": [],
"source": [
"//Initilization of variables\n",
"a=92.9*10^6 //mi\n",
"G=3.43*10^-8\n",
"T=365*24*3600 //s\n",
"c=5280\n",
"//Calculations\n",
"M=(4*%pi^2*a^3*c^3)/(G*T^2) //slugs\n",
"//Result\n",
"clc\n",
"printf('The mass of the sun is %f slugs',M)"
   ]
   }
,
{
		   "cell_type": "markdown",
		   "metadata": {},
		   "source": [
			"## Example 13.3: Dyna_of_a_Part.sce"
		   ]
		  },
  {
"cell_type": "code",
	   "execution_count": null,
	   "metadata": {
	    "collapsed": true
	   },
	   "outputs": [],
"source": [
"//Initilization of variables\n",
"m=2 //kg\n",
"vo=0 //m/s\n",
"v=3 //m/s\n",
"s=0.8 //m\n",
"theta=20 //degrees\n",
"g=9.8 //m/s^2\n",
"//Calculations\n",
"N=m*g*cosd(theta) //N\n",
"a=(vo^2-v^2)/(2*s) //m/s^2\n",
"u=-((2*a)+(m*g*sind(theta)))/N  \n",
"//Solving for return speed\n",
"//Symbol convention is different from textbook\n",
"a_ret=((m*g*sind(theta))-(u*N))/2 //m/s^2\n",
"vf=sqrt((2*a_ret*s)) //m/s\n",
"//Result\n",
"clc\n",
"printf('The speed is %fm/s',vf)"
   ]
   }
,
{
		   "cell_type": "markdown",
		   "metadata": {},
		   "source": [
			"## Example 13.4: Dyna_of_a_Part.sce"
		   ]
		  },
  {
"cell_type": "code",
	   "execution_count": null,
	   "metadata": {
	    "collapsed": true
	   },
	   "outputs": [],
"source": [
"//Initilization of variables\n",
"W=1800 //lb\n",
"r=2000 //ft\n",
"v=58.7 //ft/s\n",
"g=32.2 //ft/s^2\n",
"//Calculations\n",
"F=(W*v*v)/(g*r) //lb\n",
"//Result\n",
"clc\n",
"printf('The frictional force to be exerted is %f lb',F)"
   ]
   }
,
{
		   "cell_type": "markdown",
		   "metadata": {},
		   "source": [
			"## Example 13.7: Dyna_of_a_Part.sce"
		   ]
		  },
  {
"cell_type": "code",
	   "execution_count": null,
	   "metadata": {
	    "collapsed": true
	   },
	   "outputs": [],
"source": [
"//Initilization of variables\n",
"W=10 //lb\n",
"theta=30 //degrees\n",
"l=2 //ft\n",
"w=10 //rev/min\n",
"g=32.2 //ft/s^2\n",
"//Calculations\n",
"r=l*cosd(theta) //ft\n",
"a_n=r*(((w*2*%pi)/60)^2) //ft/s^2\n",
"//Applying Newtons Principle\n",
"//Solving by matrix method\n",
"A=[cosd(theta),-sind(theta);sind(theta),cosd(theta)] \n",
"B=[(W*a_n)/g;W] \n",
"C=inv(A)*B //lb\n",
"//Result\n",
"clc\n",
"printf('The value of T is %flb',C(1)) "
   ]
   }
,
{
		   "cell_type": "markdown",
		   "metadata": {},
		   "source": [
			"## Example 13.8: Dyna_of_a_Part.sce"
		   ]
		  },
  {
"cell_type": "code",
	   "execution_count": null,
	   "metadata": {
	    "collapsed": true
	   },
	   "outputs": [],
"source": [
"//Initilization of variables\n",
"m=4 //lb\n",
"v=6 //ft/s\n",
"r=2 //ft\n",
"theta1=40 //degrees\n",
"theta2=20 //degrees\n",
"g=32.2 //ft/s^2\n",
"//Calculations\n",
"a_n=v^2/r //ft/s^2\n",
"//Applying Newtons Principle\n",
"Fi=(m*a_n)/g //lb\n",
"//Solving by matrix method\n",
"A=[cosd(theta1),cosd(theta2);sind(theta1),-sind(theta2)]\n",
"B=[m;Fi] \n",
"C=inv(A)*B //lb\n",
"//Result\n",
"clc\n",
"printf('The value of T and C are %flb and %flb respectively',C(1),C(2)) "
   ]
   }
],
"metadata": {
		  "kernelspec": {
		   "display_name": "Scilab",
		   "language": "scilab",
		   "name": "scilab"
		  },
		  "language_info": {
		   "file_extension": ".sce",
		   "help_links": [
			{
			 "text": "MetaKernel Magics",
			 "url": "https://github.com/calysto/metakernel/blob/master/metakernel/magics/README.md"
			}
		   ],
		   "mimetype": "text/x-octave",
		   "name": "scilab",
		   "version": "0.7.1"
		  }
		 },
		 "nbformat": 4,
		 "nbformat_minor": 0
}
