{
"cells": [
 {
		   "cell_type": "markdown",
	   "metadata": {},
	   "source": [
       "# Chapter 17: Work and Energy"
	   ]
	},
{
		   "cell_type": "markdown",
		   "metadata": {},
		   "source": [
			"## Example 17.10: Work.sce"
		   ]
		  },
  {
"cell_type": "code",
	   "execution_count": null,
	   "metadata": {
	    "collapsed": true
	   },
	   "outputs": [],
"source": [
"//Initilization of variables\n",
"speed=90000 //m/h\n",
"P=100*1000 //N\n",
"//Calculations\n",
"Power=P*((speed)/3600) //J/s\n",
"//Result\n",
"clc\n",
"printf('The power developed is %fJ/s',Power) "
   ]
   }
,
{
		   "cell_type": "markdown",
		   "metadata": {},
		   "source": [
			"## Example 17.11: Work.sce"
		   ]
		  },
  {
"cell_type": "code",
	   "execution_count": null,
	   "metadata": {
	    "collapsed": true
	   },
	   "outputs": [],
"source": [
"//Initilization of variables\n",
"d=0.6 //m\n",
"T_t=800 //N\n",
"T_s=180 //N\n",
"w=200 //rpm\n",
"//Calculations\n",
"r=d/2 //m radius\n",
"//Torque\n",
"M=(T_t-T_s)*r //N.m\n",
"//Power\n",
"w_new=(2*%pi*w)/60 //rad/s\n",
"Power=M*(w_new) //W\n",
"//Result\n",
"clc\n",
"printf('The power transmitted is %f W',Power)\n",
""
   ]
   }
,
{
		   "cell_type": "markdown",
		   "metadata": {},
		   "source": [
			"## Example 17.12: Work.sce"
		   ]
		  },
  {
"cell_type": "code",
	   "execution_count": null,
	   "metadata": {
	    "collapsed": true
	   },
	   "outputs": [],
"source": [
"//Initilization of variables\n",
"P=25.6 //lb\n",
"w=600 //rpm\n",
"a=36 //in\n",
"b=12 //in\n",
"//Calculations\n",
"M=P*(((b/2)+a)/12)  //lb-ft\n",
"w_new=(2*%pi*w)/60 //rad/s\n",
"Hp=(M*w_new)/550 //hp\n",
"//Result\n",
"clc\n",
"printf('The power being transmitted is %fhp',Hp)"
   ]
   }
,
{
		   "cell_type": "markdown",
		   "metadata": {},
		   "source": [
			"## Example 17.13: Work.sce"
		   ]
		  },
  {
"cell_type": "code",
	   "execution_count": null,
	   "metadata": {
	    "collapsed": true
	   },
	   "outputs": [],
"source": [
"//Initilization of variables\n",
"Pout=3.8 //bhp\n",
"Pin=4.1 //ihp\n",
"//Calculations\n",
"Efficiency=round((Pout/Pin)*100) //Percent\n",
"//Result\n",
"clc\n",
"printf('The efficiency of the engine is %ipercent',Efficiency)"
   ]
   }
,
{
		   "cell_type": "markdown",
		   "metadata": {},
		   "source": [
			"## Example 17.15: Work.sce"
		   ]
		  },
  {
"cell_type": "code",
	   "execution_count": null,
	   "metadata": {
	    "collapsed": true
	   },
	   "outputs": [],
"source": [
"//Initilization Of Variables\n",
"a=3 //Lower Limit oF the Integral\n",
"b=6 //Upper Limit of the Integral\n",
"n=10 //Interval of the integral\n",
"g=9.8 //m/s^2\n",
"w=4/16\n",
"//Calculation\n",
"//Using Trapezoidal Rule for Intergration \n",
"function[I1]=Trap_Composite1(f,a,b,n)\n",
"    h=(b-a)/n\n",
"    x=linspace(a,b,n+1)\n",
"    I1=(h/2)*((2*sum(f(x)))-f(x(1))-f(x(n+1)))\n",
"endfunction\n",
"deff('[y]=f(x)','y=-3*x^-1')\n",
"an=-Trap_Composite1(f,a,b,n) //ft-lb\n",
"v=sqrt((an*g)/(0.5*w)) //ft/s\n",
"//Result\n",
"clc\n",
"printf('The speed of the disk is %fft/s',v)\n",
"//The answer in the textbook is incorrect"
   ]
   }
,
{
		   "cell_type": "markdown",
		   "metadata": {},
		   "source": [
			"## Example 17.16: Work.sce"
		   ]
		  },
  {
"cell_type": "code",
	   "execution_count": null,
	   "metadata": {
	    "collapsed": true
	   },
	   "outputs": [],
"source": [
"//Initilization of variables\n",
"l=2 //m\n",
"m=4 //kg\n",
"w_1=20 //rpm\n",
"w_2=50 //rpm\n",
"rev=10 //no of revolution\n",
"//Calculations\n",
"Io=(1/3)*(m)*l^2 //kg.m^2\n",
"w1=(2*%pi*w_1)/60 //rad/s\n",
"w2=(2*%pi*w_2)/60 //rad/s\n",
"theta=2*%pi*rev //rad\n",
"M=(0.5*Io*(w2^2-w1^2))/theta //N.m\n",
"//result\n",
"clc\n",
"printf('The constant moment required is %fN.m',M)"
   ]
   }
,
{
		   "cell_type": "markdown",
		   "metadata": {},
		   "source": [
			"## Example 17.18: Work.sce"
		   ]
		  },
  {
"cell_type": "code",
	   "execution_count": null,
	   "metadata": {
	    "collapsed": true
	   },
	   "outputs": [],
"source": [
"//Initilization of variables\n",
"W=1000 //lb\n",
"w_w=200 //lb weight of the individual wheel\n",
"d_w=2.5 //ft diameter of the wheel\n",
"v=22 //ft/s\n",
"t=2 //minutes\n",
"//Calculations\n",
"//T1=Initial Kinetic Energy and T2=Final Kinetic Energy\n",
"F=(-0.5*W*32.2^-1*v^2-4*0.5*w_w*32.2^-1*(v^2+0.5*v^2))/(10560) //lb\n",
"//Negative sign in the answer tells it oposses the motion \n",
"//Result\n",
"clc\n",
"printf('The rolling resistance is %flb',F) "
   ]
   }
,
{
		   "cell_type": "markdown",
		   "metadata": {},
		   "source": [
			"## Example 17.19: Work.sce"
		   ]
		  },
  {
"cell_type": "code",
	   "execution_count": null,
	   "metadata": {
	    "collapsed": true
	   },
	   "outputs": [],
"source": [
"//Initilization of variables\n",
"W=100 //lb\n",
"lo=4 //ft\n",
"theta=45 //degrees\n",
"g=32.2 //ft/s^2\n",
"l=8/3 //ft\n",
"//Calculations\n",
"//Taking moment about point O and equating it to zero\n",
"alpha=(W*(lo*0.5)*cosd(theta))/((W/g)*(l)*2) //rad/s^2\n",
"//Summing forces in the t direction\n",
"Ot=(W*cosd(theta))-((W/g)*lo*0.5*alpha) //lb\n",
"//Work Done\n",
"Work=W*(lo*0.5*cosd(theta)) //ft/lb\n",
"//Moment of inertia\n",
"Io=(1/3)*(W/g)*(lo^2) //kg-ft^2\n",
"//Using the concept for work done=chane in K.E\n",
"w=sqrt(Work/(0.5*Io)) //rad/s\n",
"//Summing forces along the bar\n",
"On=-(-((W/g)*lo*0.5*w^2)-(W*cosd(theta))) //lb\n",
"//Result\n",
"clc\n",
"printf('The bearing reaction at O on the rod is %flb',On)"
   ]
   }
,
{
		   "cell_type": "markdown",
		   "metadata": {},
		   "source": [
			"## Example 17.21: Work.sce"
		   ]
		  },
  {
"cell_type": "code",
	   "execution_count": null,
	   "metadata": {
	    "collapsed": true
	   },
	   "outputs": [],
"source": [
"//Initilization of variables\n",
"vo=9 //m/s\n",
"theta=30 //degrees\n",
"g=9.8 //m/s^2\n",
"//Calculations\n",
"x=((7/10)*vo^2)/(g*sind(theta)) //m\n",
"//Result\n",
"clc\n",
"printf('The ball will roll %f m up the plane',x)\n",
"//The textbook wrongly mentions the unit of displacement as in "
   ]
   }
,
{
		   "cell_type": "markdown",
		   "metadata": {},
		   "source": [
			"## Example 17.22: Work.sce"
		   ]
		  },
  {
"cell_type": "code",
	   "execution_count": null,
	   "metadata": {
	    "collapsed": true
	   },
	   "outputs": [],
"source": [
"//Initilization of variables\n",
"W=322 //lb\n",
"F=12 //lb\n",
"a=0 //lower limit (where the cyliner starts rolling)\n",
"b=%pi/2 //Upper Limit (where the cyliner stops rolling)\n",
"d=3.2 //ft\n",
"g=32.2 //ft/s^2\n",
"//Calculations\n",
"dR=1.6 //Differential Radius\n",
"d_U=2*dR*F //differential work done\n",
"//Integration Calculations\n",
"//As it is a simple integration we can resort to this\n",
"U=d_U*(b-a) //ft-lb\n",
"//Determination of K.E\n",
"w=sqrt(U/((0.5*(W/g)*(1/(d/2)^2))+((0.5*0.5)*(W/g)*(d/2)^2))) //rad/s\n",
"//Result  \n",
"clc\n",
"printf('the angular velocity of the is %f rad/s',w)"
   ]
   }
,
{
		   "cell_type": "markdown",
		   "metadata": {},
		   "source": [
			"## Example 17.23: Work.sce"
		   ]
		  },
  {
"cell_type": "code",
	   "execution_count": null,
	   "metadata": {
	    "collapsed": true
	   },
	   "outputs": [],
"source": [
"//Initilization of variables\n",
"m=90 //kg\n",
"k=450 //N/m\n",
"lo=0.6 //m\n",
"r=0.15 //m\n",
"x=0.9 //m\n",
"y=0.4 //m\n",
"//Calculations\n",
"//Initial KE=0\n",
"I=0.5*m*r^2 //kg.m^2\n",
"s1=sqrt((lo^2)+(x^2)) //m\n",
"s2=sqrt((lo^2)+(y^2)) //m\n",
"V1=0.5*k*(s1-lo)^2 //N.m\n",
"V2=0.5*k*(s2-lo)^2 //N.m\n",
"//Applying Conservation of Energy \n",
"w=sqrt((V1-V2)/(0.5*m*r^2+0.5*I)) //rad/s\n",
"//Result\n",
"clc\n",
"printf('The value of  angular speed is: %f rad/s',w)"
   ]
   }
,
{
		   "cell_type": "markdown",
		   "metadata": {},
		   "source": [
			"## Example 17.24: Work.sce"
		   ]
		  },
  {
"cell_type": "code",
	   "execution_count": null,
	   "metadata": {
	    "collapsed": true
	   },
	   "outputs": [],
"source": [
"//Initilization of variables\n",
"Wa=161 //lb\n",
"Wb=193.2 //lb\n",
"Wc=322 //lb\n",
"v1=5 //ft/s\n",
"lc=6 //in\n",
"k=6 //lb/ft\n",
"l=4 //ft\n",
"u=0.2 //coefficient of friction\n",
"g=32.2 //ft/s^2\n",
"//Calculations\n",
"Ib=(1/2)*(Wb/g)*(1/2)^2 //Moment of inertia\n",
"w1=v1/0.5 //rad/s\n",
"T1=(0.5*(Wc/g)*v1^2)+(0.5*Ib*w1^2)+(0.5*(Wa/g)*v1^2) //ft-lb\n",
"//Work Done on the system\n",
"//The textbook is ambigious on the calculations hence the result is dispalyed directly\n",
"U=26.4 //ft-lb\n",
"//Velocity Calculations\n",
"v=sqrt((T1+U)/9) //ft/s\n",
"//Result\n",
"printf('The velocity of the block is %f',v)"
   ]
   }
,
{
		   "cell_type": "markdown",
		   "metadata": {},
		   "source": [
			"## Example 17.25: Work.sce"
		   ]
		  },
  {
"cell_type": "code",
	   "execution_count": null,
	   "metadata": {
	    "collapsed": true
	   },
	   "outputs": [],
"source": [
"//Initilization of variables\n",
"Mm=70 //kg\n",
"Mc=45 //kg\n",
"R=0.6 //m\n",
"g=9.8 //m/s^2\n",
"l=5 //m\n",
"theta=50 //degrees\n",
"//Calculations\n",
"//T2 calculations except for v term in it as it cannot be declared as a number\n",
"T2=68.7 //without the v term in it\n",
"v=sqrt((g*Mm*l-g*Mc*l*sind(theta))/T2) //m/s\n",
"//Result\n",
"clc\n",
"printf('The speed is %fm/s',v)"
   ]
   }
,
{
		   "cell_type": "markdown",
		   "metadata": {},
		   "source": [
			"## Example 17.26: Work.sce"
		   ]
		  },
  {
"cell_type": "code",
	   "execution_count": null,
	   "metadata": {
	    "collapsed": true
	   },
	   "outputs": [],
"source": [
"//The textbook has a typo in printing the question number\n",
"//Initilization of variables\n",
"W1=96.6 //lb\n",
"W2=128.8 //lb\n",
"v=8 //ft/s\n",
"g=32.2 //ft/s^2\n",
"theta=30 //degrees\n",
"//Calculations\n",
"//Initial KE of the system is T1=0\n",
"T2=(0.5*(W1/g)*v^2)+(0.5*(W2/g)*(v/2)^2) //ft-lb\n",
"//Work Done without s term\n",
"U=-(W1*sind(theta))+W2*0.5\n",
"//S calculations\n",
"s=T2/U //ft\n",
"//Result\n",
"clc\n",
"printf('The block attains a speed of 8ft/s in %f ft',s)"
   ]
   }
,
{
		   "cell_type": "markdown",
		   "metadata": {},
		   "source": [
			"## Example 17.28: Work.sce"
		   ]
		  },
  {
"cell_type": "code",
	   "execution_count": null,
	   "metadata": {
	    "collapsed": true
	   },
	   "outputs": [],
"source": [
"//Initilization Of Variables\n",
"a=0 //Lower Limit oF the Integral\n",
"b=6 //Upper Limit of the Integral\n",
"n=10 //Interval of the integral\n",
"m=50 //kg\n",
"l=6 //m\n",
"g=9.8 //m/s^2\n",
"//Calculation\n",
"//Gravatational Force is \n",
"Fg=g*(m/l) //dx\n",
"//Using Trapezoidal Rule for Intergration \n",
"function[I1]=Trap_Composite1(f,a,b,n)\n",
"    h=(b-a)/n\n",
"    t=linspace(a,b,n+1)\n",
"    I1=(h/2)*((2*sum(f(t)))-f(t(1))-f(t(n+1)))\n",
"endfunction\n",
"deff('[y]=f(t)','y=Fg*(6-t)') \n",
"//Result\n",
"clc\n",
"printf('The Work done is %f N.m',Trap_Composite1(f,a,b,n))"
   ]
   }
,
{
		   "cell_type": "markdown",
		   "metadata": {},
		   "source": [
			"## Example 17.31: Work.sci"
		   ]
		  },
  {
"cell_type": "code",
	   "execution_count": null,
	   "metadata": {
	    "collapsed": true
	   },
	   "outputs": [],
"source": [
"//Initilization Of Variables\n",
"x1=150 //mm\n",
"x2=450 //mm\n",
"a=0 //Lower Limit oF the Integral\n",
"b=(x2-x1) //Upper Limit of the Integral\n",
"n=10 //Interval of the integral\n",
"k=0.044 //N/m\n",
"//Calculation\n",
"//Using Trapezoidal Rule for Intergration \n",
"function[I1]=Trap_Composite1(f,a,b,n)\n",
"    h=(b-a)/n\n",
"    t=linspace(a,b,n+1)\n",
"    I1=(h/2)*((2*sum(f(t)))-f(t(1))-f(t(n+1)))\n",
"endfunction\n",
"deff('[y]=f(t)','y=k*t') \n",
"//Result\n",
"clc\n",
"printf('The Work done is %f N.m',Trap_Composite1(f,a,b,n)/1000)"
   ]
   }
,
{
		   "cell_type": "markdown",
		   "metadata": {},
		   "source": [
			"## Example 17.32: Work.sce"
		   ]
		  },
  {
"cell_type": "code",
	   "execution_count": null,
	   "metadata": {
	    "collapsed": true
	   },
	   "outputs": [],
"source": [
"//Initilization of variables\n",
"m=10 //kg\n",
"d=1.2 //m\n",
"g=9.8 //m/s^2\n",
"//Calculations\n",
"//Initilial KE is zero\n",
"//Final KE is(without v^2 term in it)\n",
"KE2=(3/4)*10\n",
"//Work Done\n",
"U=m*g*d //N.m\n",
"//Velocity calculations\n",
"v=sqrt(U/KE2) //m/s\n",
"//Result\n",
"clc\n",
"printf('The velocity is %fm/s',v)"
   ]
   }
,
{
		   "cell_type": "markdown",
		   "metadata": {},
		   "source": [
			"## Example 17.33: Work.sce"
		   ]
		  },
  {
"cell_type": "code",
	   "execution_count": null,
	   "metadata": {
	    "collapsed": true
	   },
	   "outputs": [],
"source": [
"//Initilization of variables\n",
"W=161 //lb\n",
"wa=150 //lb\n",
"wb=100 //lb\n",
"la=2 //ft\n",
"lb=4 //ft\n",
"//Calculations\n",
"//Work Done\n",
"T1=wb*lb-wa*la //ft-lb\n",
"//Final KE=zero\n",
"T2=0 //ft-lb\n",
"//Work Done on the system=T2-T1\n",
"//Hence the equation becomes\n",
"//50x-50x^2+100=0\n",
"//where\n",
"a=-50\n",
"b=50\n",
"c=100\n",
"//Solution\n",
"d=sqrt(b^2-4*a*c) \n",
"x1=(-b+d)/(2*a) //ft\n",
"x2=(-b-d)/(2*a) //ft\n",
"//Result\n",
"clc\n",
"printf('The stretch of the spring is %f',x2)\n",
"//Here even x1 could have been the solution,but the stretch in the string is elongation not compression hence x2 is the valid answer\n",
""
   ]
   }
,
{
		   "cell_type": "markdown",
		   "metadata": {},
		   "source": [
			"## Example 17.34: Work.sce"
		   ]
		  },
  {
"cell_type": "code",
	   "execution_count": null,
	   "metadata": {
	    "collapsed": true
	   },
	   "outputs": [],
"source": [
"//Initilization of variables\n",
"I=100 //slug-ft^2\n",
"w=4 //rad/s\n",
"theta=6 //rad\n",
"Mc=64.4 //lb\n",
"g=32.2 //ft/s^2\n",
"//Calculations\n",
"vb=2*w //ft/s\n",
"vc=0.5*w //ft/s\n",
"Mb=(0.5*I*w^2+0.5*(Mc/g)*vc^2+0.5*Mc*theta)/(2*theta-(0.5*vb^2*(1/g))) //lb\n",
"//Result\n",
"clc\n",
"printf('The weight of the block B is %f lb',Mb)"
   ]
   }
,
{
		   "cell_type": "markdown",
		   "metadata": {},
		   "source": [
			"## Example 17.35: Work.sce"
		   ]
		  },
  {
"cell_type": "code",
	   "execution_count": null,
	   "metadata": {
	    "collapsed": true
	   },
	   "outputs": [],
"source": [
"//Initilization of variables\n",
"Wa=96.6 //lb\n",
"Wb=128.8 //lb\n",
"g=32.2 //ft/s^2\n",
"I=12 //slug-ft^2\n",
"v=16 //ft/s\n",
"ratio=1/3 //ratio of Sb/Sa\n",
"r=3//ft\n",
"va=6 //ft/s\n",
"vb=2 //ft/s\n",
"//Calculations\n",
"//Work Done without S in it\n",
"W=Wa-(ratio*Wb)\n",
"//System has zero KE initially and final KE is given by\n",
"w=va/r //rad/s\n",
"T2=(0.5*(Wa/g)*va^2+0.5*I*w^2+0.5*(Wb/g)*vb^2) //ft-lb\n",
"//Distance Calculations\n",
"S=T2/W //ft\n",
"//Result\n",
"clc\n",
"printf('The distance through which A falls is %f ft',S)"
   ]
   }
,
{
		   "cell_type": "markdown",
		   "metadata": {},
		   "source": [
			"## Example 17.36: Work.sce"
		   ]
		  },
  {
"cell_type": "code",
	   "execution_count": null,
	   "metadata": {
	    "collapsed": true
	   },
	   "outputs": [],
"source": [
"//initilization of variables\n",
"u=0.25 //coefficient of friction\n",
"k=2800 //N/m\n",
"x=0.075 //m\n",
"g=9.8 //m/s^2\n",
"m=7 //kg\n",
"theta=30 //degrees\n",
"//Calculations\n",
"//Normal Reaction\n",
"N=g*m*cosd(theta) //N\n",
"//Frictional Force\n",
"Fr=u*N //N\n",
"//Component of force along the plane\n",
"F=g*m*sind(theta) //N\n",
"//Spring work is\n",
"W=0.5*k*x*x //N.m\n",
"s=(W+Fr*x-F*x)/(F-Fr) //m\n",
"S=round(s*1000) //mm\n",
"//Result\n",
"clc\n",
"printf('The value of S is %i mm',S) "
   ]
   }
,
{
		   "cell_type": "markdown",
		   "metadata": {},
		   "source": [
			"## Example 17.37: Work.sce"
		   ]
		  },
  {
"cell_type": "code",
	   "execution_count": null,
	   "metadata": {
	    "collapsed": true
	   },
	   "outputs": [],
"source": [
"//Initilization of variables\n",
"m=5 //kg\n",
"l=2 //m\n",
"k=10000 //N/m\n",
"x=0.1 //m\n",
"g=9.8 //m/s^2\n",
"//Calculations\n",
"drop=l+x //m mass drop length\n",
"//Work Done by Gravity\n",
"Wg=g*m*drop //N.m\n",
"//Work Done by Spring\n",
"Ws=0.5*k*x^2 //N.m\n",
"//Increase in KE is without v^2\n",
"KE=0.5*m //kg\n",
"//Velocity Calculations\n",
"v=sqrt((Wg-Ws)/KE) //m/s\n",
"//Result\n",
"clc\n",
"printf('The speed is %f m/s',v)"
   ]
   }
,
{
		   "cell_type": "markdown",
		   "metadata": {},
		   "source": [
			"## Example 17.38: Work.sce"
		   ]
		  },
  {
"cell_type": "code",
	   "execution_count": null,
	   "metadata": {
	    "collapsed": true
	   },
	   "outputs": [],
"source": [
"//Initilization of variables\n",
"l=6 //ft\n",
"k=20 //lb/in\n",
"x=8 //in\n",
"//Calculations\n",
"//Work Done by Gravity\n",
"Wg=(l*12+x) //in without W\n",
"//Work Done by Spring\n",
"Ws=0.5*k*x^2 //in-lb\n",
"//Change in the kinetic energy is zero\n",
"W=Ws/Wg //lb\n",
"//Result\n",
"clc\n",
"printf('The weight is %i lb',W) "
   ]
   }
,
{
		   "cell_type": "markdown",
		   "metadata": {},
		   "source": [
			"## Example 17.40: Work.sce"
		   ]
		  },
  {
"cell_type": "code",
	   "execution_count": null,
	   "metadata": {
	    "collapsed": true
	   },
	   "outputs": [],
"source": [
"//Initilization of variables\n",
"W=8 //lb\n",
"//Calculations\n",
"//work done by the spring woithout k\n",
"Ws=0.5*((9/12)^2-(1/12)^2) \n",
"//Work done by gravity\n",
"Wg=W*(10.5/12) //ft-lb\n",
"//Change in KE is zero\n",
"k=Wg/Ws //lb/ft\n",
"//Result\n",
"clc\n",
"printf('The value of k is %f lb/ft',k)"
   ]
   }
,
{
		   "cell_type": "markdown",
		   "metadata": {},
		   "source": [
			"## Example 17.41: Work.sce"
		   ]
		  },
  {
"cell_type": "code",
	   "execution_count": null,
	   "metadata": {
	    "collapsed": true
	   },
	   "outputs": [],
"source": [
"//Initilization of variables\n",
"Wc=100 //lb\n",
"r= 1 //ft\n",
"F=80 //lb\n",
"k=50 //lb/ft\n",
"s=6 //in\n",
"g=32.2 //ft/s^2\n",
"//Calculations\n",
"//Work done on the system\n",
"U=-0.5*k*(1)+F*(s/12) //ft-lb\n",
"//Initial KE is zero\n",
"Vo=sqrt(U/(0.5*(Wc/g+0.5*(Wc/g)*r))) //ft/s\n",
"//Result\n",
"clc\n",
"printf('The initial speed is %f ft/s',Vo)"
   ]
   }
,
{
		   "cell_type": "markdown",
		   "metadata": {},
		   "source": [
			"## Example 17.4: Work.sci"
		   ]
		  },
  {
"cell_type": "code",
	   "execution_count": null,
	   "metadata": {
	    "collapsed": true
	   },
	   "outputs": [],
"source": [
"//Initilization Of Variables\n",
"s1=2 //Lower Limit oF the Integral\n",
"s2=5 //Upper Limit of the Integral\n",
"n=10 //Interval of the integral\n",
"k=20 //lb/in\n",
"//Calculation\n",
"//Using Trapezoidal Rule for Intergration \n",
"function[I1]=Trap_Composite1(f,s1,s2,n)\n",
"    h=(s2-s1)/n\n",
"    s=linspace(s1,s2,n+1)\n",
"    I1=(h/2)*((2*sum(f(s)))-f(s(1))-f(s(n+1)))\n",
"endfunction\n",
"deff('[y]=f(s)','y=k*s')\n",
"//Result\n",
"clc\n",
"printf('The work done is %f in-lb',Trap_Composite1(f,s1,s2,n) )"
   ]
   }
,
{
		   "cell_type": "markdown",
		   "metadata": {},
		   "source": [
			"## Example 17.6: Work.sci"
		   ]
		  },
  {
"cell_type": "code",
	   "execution_count": null,
	   "metadata": {
	    "collapsed": true
	   },
	   "outputs": [],
"source": [
"//Initilization of variables\n",
"m=5 //kg\n",
"d=6 //m\n",
"theta1=30 //degrees\n",
"theta2=10 //degrees\n",
"u=0.2 //coefficient of friction\n",
"g=9.8 //m/s^2\n",
"F=70 //N\n",
"//Calculations\n",
"//Using free body diagram\n",
"Na=m*g*cosd(theta1)-(F*sind(theta2)) //N\n",
"//work done by each force\n",
"W=[F*cosd(theta2),-m*g*sind(theta1),0,-u*Na*d] //N.m\n",
"//Total Work Done\n",
"W_tot=W(1)+W(2)+W(3)+W(4) //N.m\n",
"//Using resultant\n",
"R=F*cosd(theta2)-(u*Na)-(m*g*sind(theta1)) //N\n",
"W_d=R*d //N.m (Work Done)\n",
"//Result\n",
"clc\n",
"printf('The work done is %f N.m',W_d)"
   ]
   }
,
{
		   "cell_type": "markdown",
		   "metadata": {},
		   "source": [
			"## Example 17.7: Work.sce"
		   ]
		  },
  {
"cell_type": "code",
	   "execution_count": null,
	   "metadata": {
	    "collapsed": true
	   },
	   "outputs": [],
"source": [
"//Initilization of variables\n",
"m=20 //kg\n",
"d=1.5 //m\n",
"theta=30 //degrees\n",
"u=0.25 //coefficient of friction\n",
"g=9.8 //m/s^2\n",
"F=130 //N\n",
"//Calculations\n",
"W=F*d-(m*g*sind(theta)*d) //N.m\n",
"//Result\n",
"clc\n",
"printf('The work done is %i N.m',W)"
   ]
   }
,
{
		   "cell_type": "markdown",
		   "metadata": {},
		   "source": [
			"## Example 17.9: Work.sce"
		   ]
		  },
  {
"cell_type": "code",
	   "execution_count": null,
	   "metadata": {
	    "collapsed": true
	   },
	   "outputs": [],
"source": [
"//Initilization of variables\n",
"d=6/12 //ft\n",
"l=8/12 //ft\n",
"l_c=3.2 //in\n",
"y=1.82 //in^2\n",
"//Calculations\n",
"V=(1/4)*%pi*d^2*l //ft^3\n",
"//One horizontal inch \n",
"h_i=V/l_c //ft^3\n",
"//One vertical inch\n",
"v_i=100*144 //lb/ft^2\n",
"//Then 1.82 in^2 represents\n",
"x=y*v_i*h_i //ft-lb\n",
"//Result\n",
"clc\n",
"printf('The work capacity is %f ft-lb',x)"
   ]
   }
],
"metadata": {
		  "kernelspec": {
		   "display_name": "Scilab",
		   "language": "scilab",
		   "name": "scilab"
		  },
		  "language_info": {
		   "file_extension": ".sce",
		   "help_links": [
			{
			 "text": "MetaKernel Magics",
			 "url": "https://github.com/calysto/metakernel/blob/master/metakernel/magics/README.md"
			}
		   ],
		   "mimetype": "text/x-octave",
		   "name": "scilab",
		   "version": "0.7.1"
		  }
		 },
		 "nbformat": 4,
		 "nbformat_minor": 0
}
