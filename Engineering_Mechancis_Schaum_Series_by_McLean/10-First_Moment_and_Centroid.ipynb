{
"cells": [
 {
		   "cell_type": "markdown",
	   "metadata": {},
	   "source": [
       "# Chapter 10: First Moment and Centroid"
	   ]
	},
{
		   "cell_type": "markdown",
		   "metadata": {},
		   "source": [
			"## Example 10.11: 1st_Moment_and_CG.sce"
		   ]
		  },
  {
"cell_type": "code",
	   "execution_count": null,
	   "metadata": {
	    "collapsed": true
	   },
	   "outputs": [],
"source": [
"//Initilization of variables\n",
"a=100 //mm\n",
"b=150 //mm\n",
"A1=2*10^4 //mm^2\n",
"A2=5*10^3 //mm^2\n",
"A3=(%pi*(a/2)^2)/2 //mm^2\n",
"//Calculations\n",
"x=(A1*a+A2*(133.3)-A3*b)/(A1+A2-A3) //mm\n",
"y=(A1*a*0.5+A2*(116.66)-A3*((4*a*0.5)/(3*%pi)))/(A1+A2-A3) //mm\n",
"//Result\n",
"clc\n",
"printf('The centroidal distances are x=%f mm and y=%f mm',x,y)"
   ]
   }
,
{
		   "cell_type": "markdown",
		   "metadata": {},
		   "source": [
			"## Example 10.16: 1st_Moment_and_CG.sce"
		   ]
		  },
  {
"cell_type": "code",
	   "execution_count": null,
	   "metadata": {
	    "collapsed": true
	   },
	   "outputs": [],
"source": [
"//Initilization of variables\n",
"V=[1728*10^3,432*10^3,7.54*10^3]\n",
"x_bar=[60,140,60] //mm\n",
"y_bar=[30,20,30] //mm\n",
"//Calculations\n",
"x=(V(1)*x_bar(1)+V(2)*x_bar(2)+V(3)*x_bar(3))/(V(1)+V(2)+V(3)) //mm\n",
"y=(V(1)*y_bar(1)+V(2)*y_bar(2)+V(3)*y_bar(3))/(V(1)+V(2)+V(3)) //mm\n",
"z=120 //mm from symmetry\n",
"//Result\n",
"clc\n",
"printf('The centroid is at x=%f mm y=%f mm and z=%fmm',x,y,z)\n",
"//Decimal accuracy causes discrepancy in answers"
   ]
   }
,
{
		   "cell_type": "markdown",
		   "metadata": {},
		   "source": [
			"## Example 10.17: 1st_Moment_and_CG.sce"
		   ]
		  },
  {
"cell_type": "code",
	   "execution_count": null,
	   "metadata": {
	    "collapsed": true
	   },
	   "outputs": [],
"source": [
"//Initilization of variables\n",
"tx=30 //degrees\n",
"ty=45 //degrees\n",
"tz=60 //degrees\n",
"//Calculations\n",
"V=[10,15,25] //in^3\n",
"x_bar=[4,12,24] //in\n",
"y_bar=[4*cosd(tx),-6*cosd(ty),-4*cosd(tz)]\n",
"z_bar=[-4*sind(tx),6*sind(ty),-4*sind(tz)]\n",
"//Centroid calculations\n",
"x=(V(1)*x_bar(1)+V(2)*x_bar(2)+V(3)*x_bar(3))/(V(1)+V(2)+V(3)) //in\n",
"y=(V(1)*y_bar(1)+V(2)*y_bar(2)+V(3)*y_bar(3))/(V(1)+V(2)+V(3)) //in\n",
"z=(V(1)*z_bar(1)+V(2)*z_bar(2)+V(3)*z_bar(3))/(V(1)+V(2)+V(3)) //in\n",
"//Result\n",
"clc\n",
"printf('The centroid is at x=%f in,y=%f in and z=%f in',x,y,z)"
   ]
   }
,
{
		   "cell_type": "markdown",
		   "metadata": {},
		   "source": [
			"## Example 10.26: 1st_Moment_and_CG.sce"
		   ]
		  },
  {
"cell_type": "code",
	   "execution_count": null,
	   "metadata": {
	    "collapsed": true
	   },
	   "outputs": [],
"source": [
"//Initilization Of Variables\n",
"a=0 //Lower Limit oF the Integral\n",
"b=8 //Upper Limit of the Integral\n",
"n=10 //Interval of the integral\n",
"//Calculation\n",
"//Using Trapezoidal Rule for Intergration \n",
"function[I1]=Trap_Composite1(f,a,b,n)\n",
"    h=(b-a)/n\n",
"    t=linspace(a,b,n+1)\n",
"    I1=(h/2)*((2*sum(f(t)))-f(t(1))-f(t(n+1)))\n",
"endfunction\n",
"deff('[y]=f(t)','y=75*t^2')\n",
"Rr=Trap_Composite1(f,a,b,n)/(2*8) //lb\n",
"//Moment calculations\n",
"M=Trap_Composite1(f,a,b,n) //ft-lb\n",
"//Result\n",
"clc\n",
"printf('The reaction is %f lb and Moment is %f lb-ft',Rr,M)\n",
"//Decimal accuracy causes discrepancy in answers"
   ]
   }
,
{
		   "cell_type": "markdown",
		   "metadata": {},
		   "source": [
			"## Example 10.27: 1st_Moment_and_CG.sce"
		   ]
		  },
  {
"cell_type": "code",
	   "execution_count": null,
	   "metadata": {
	    "collapsed": true
	   },
	   "outputs": [],
"source": [
"//Initilization Of Variables\n",
"a=0 //Lower Limit oF the Integral\n",
"b=0.3 //Upper Limit of the Integral\n",
"n=10 //Interval of the integral\n",
"g=9.8 //m/s^2\n",
"rho=1000 //kg/m^3\n",
"//Calculation\n",
"//Using Trapezoidal Rule for Intergration \n",
"function[I1]=Trap_Composite1(f,a,b,n)\n",
"    h=(b-a)/n\n",
"    t=linspace(a,b,n+1)\n",
"    I1=(h/2)*((2*sum(f(t)))-f(t(1))-f(t(n+1)))\n",
"endfunction\n",
"deff('[y]=f(t)','y=(g*0.6*rho*1.2*t)-(0.6*g*rho*t^2)')\n",
"B=Trap_Composite1(f,a,b,n)/(2*b) //N\n",
"//Result\n",
"clc\n",
"printf('The value of B is %f N',B)"
   ]
   }
,
{
		   "cell_type": "markdown",
		   "metadata": {},
		   "source": [
			"## Example 10.28: 1st_Moment_and_CG.sce"
		   ]
		  },
  {
"cell_type": "code",
	   "execution_count": null,
	   "metadata": {
	    "collapsed": true
	   },
	   "outputs": [],
"source": [
"//Initilization of variables\n",
"l=62.4 //lb/ft^3\n",
"h=12 //ft\n",
"f=105 //lb/ft^3\n",
"//Calculations\n",
"p1=l*h //lb/ft^2\n",
"//Total force on left side\n",
"//Simplfying the equation we get a three degree equation in d\n",
"//solving for d\n",
"p=[1/3 0 -144 467]\n",
"r=roots(p)\n",
"d=r(3) //ft\n",
"//Result\n",
"clc\n",
"printf('The value of d is %f ft',d)"
   ]
   }
,
{
		   "cell_type": "markdown",
		   "metadata": {},
		   "source": [
			"## Example 10.5: 1st_Moment_and_CG.sce"
		   ]
		  },
  {
"cell_type": "code",
	   "execution_count": null,
	   "metadata": {
	    "collapsed": true
	   },
	   "outputs": [],
"source": [
"//Initilization of variables\n",
"r=50 //mm\n",
"L1=75 //mm\n",
"L2=%pi*r //mm\n",
"L3=61.2 //mm\n",
"theta1=45 //degrees\n",
"theta2=60 //degrees\n",
"//Calculations\n",
"x_bar=[(L1/2)*cosd(theta1),L1*cosd(theta1)+r,L1*cosd(theta1)+100+(L3/2)*cosd(theta2)] //mm\n",
"y_bar=[(L1/2)*sind(theta1),L1*sind(theta1)+(2*r)/%pi,(L3/2)*sind(theta2)] //mm\n",
"//Centroid Calculations\n",
"x=(L1*x_bar(1)+L2*x_bar(2)+L3*x_bar(3))/(L1+L2+L3) //mm\n",
"y=(L1*y_bar(1)+L2*y_bar(2)+L3*y_bar(3))/(L1+L2+L3) //mm\n",
"//Result\n",
"clc\n",
"printf('The centroid is as follows x=%f mm and y=%fmm',x,y)\n",
""
   ]
   }
,
{
		   "cell_type": "markdown",
		   "metadata": {},
		   "source": [
			"## Example 10.6: 1st_Moment_and_CG.sce"
		   ]
		  },
  {
"cell_type": "code",
	   "execution_count": null,
	   "metadata": {
	    "collapsed": true
	   },
	   "outputs": [],
"source": [
"//Initilization of variables\n",
"theta=75 //degrees\n",
"alpha=(150*%pi)/180 //rad\n",
"r=1\n",
"theta1=30 //degrees\n",
"lhor=14 //in\n",
"//calculations\n",
"a=((2*r)/alpha)*sind(theta) //in\n",
"y=-a*sind(90-theta) //in\n",
"//Length of arc\n",
"l=r*alpha //in\n",
"//Slope length calculations\n",
"DF=7 //in\n",
"AB=DF //in\n",
"BC=1 //in\n",
"BF=BC*cosd(theta1) //in\n",
"FC=BC*sind(theta1) //in\n",
"DC=DF+FC //in\n",
"EC=DC/cosd(theta1) //in\n",
"//Centroid of EC is at G\n",
"yslope=0.5*EC*sind(theta1)+BF //in\n",
"//Y of composite figure\n",
"Y=((2*l*y)+14*-1+(2*EC*yslope))/(2*l+lhor+2*EC) //in\n",
"//Result\n",
"clc\n",
"printf('The centroid is at Y=%f in',Y)"
   ]
   }
],
"metadata": {
		  "kernelspec": {
		   "display_name": "Scilab",
		   "language": "scilab",
		   "name": "scilab"
		  },
		  "language_info": {
		   "file_extension": ".sce",
		   "help_links": [
			{
			 "text": "MetaKernel Magics",
			 "url": "https://github.com/calysto/metakernel/blob/master/metakernel/magics/README.md"
			}
		   ],
		   "mimetype": "text/x-octave",
		   "name": "scilab",
		   "version": "0.7.1"
		  }
		 },
		 "nbformat": 4,
		 "nbformat_minor": 0
}
