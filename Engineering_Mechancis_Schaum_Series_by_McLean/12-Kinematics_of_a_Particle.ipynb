{
"cells": [
 {
		   "cell_type": "markdown",
	   "metadata": {},
	   "source": [
       "# Chapter 12: Kinematics of a Particle"
	   ]
	},
{
		   "cell_type": "markdown",
		   "metadata": {},
		   "source": [
			"## Example 12.10: Kin_of_a_Part.sce"
		   ]
		  },
  {
"cell_type": "code",
	   "execution_count": null,
	   "metadata": {
	    "collapsed": true
	   },
	   "outputs": [],
"source": [
"//Initilization of variables\n",
"t=3 //s\n",
"//Calculations\n",
"//After solving the differential equation\n",
"s=(1/3)*(t+2)^3 //ft\n",
"v=(t+2)^2 //ft/s\n",
"a=2*(t+2) //ft/s^2\n",
"//Result\n",
"clc\n",
"printf('The displacement,velocity and acceleration at t=3s are %f ft,%f ft/s and %f ft/s^2 respectively',s,v,a)"
   ]
   }
,
{
		   "cell_type": "markdown",
		   "metadata": {},
		   "source": [
			"## Example 12.12: Kin_of_a_Part.sce"
		   ]
		  },
  {
"cell_type": "code",
	   "execution_count": null,
	   "metadata": {
	    "collapsed": true
	   },
	   "outputs": [],
"source": [
"//Initilization of variables\n",
"//Calling upward direction positive\n",
"xdot1=6 //ft/s\n",
"xdot3=3 //ft/s\n",
"xdoubledot=2 //ft/s^2\n",
"xdoubledot3=-4 //ft/s^2\n",
"//Calculations\n",
"xdot=-xdot1 //ft/s\n",
"xdot2=2*xdot-xdot3 //ft/s\n",
"xdoubledot2=2*xdoubledot-xdoubledot3 //ft/s^2\n",
"//Result\n",
"clc\n",
"printf('The value of velocity is %f ft/s and acceleration is %f ft/s^2',xdot2,xdoubledot2)"
   ]
   }
,
{
		   "cell_type": "markdown",
		   "metadata": {},
		   "source": [
			"## Example 12.14: Kin_of_a_Part.sce"
		   ]
		  },
  {
"cell_type": "code",
	   "execution_count": null,
	   "metadata": {
	    "collapsed": true
	   },
	   "outputs": [],
"source": [
"//Initilization of variables\n",
"x=2 //m/s\n",
"//Differentation constant\n",
"dc=3.6*2*2*2\n",
"//Calculations\n",
"//y=3.6*x^2\n",
"//Taking the derivative twice of both x and y quantities we get\n",
"a=dc //m/s^2\n",
"//The rest of the solution is theoritical hence not coded\n",
"//Result\n",
"clc\n",
"printf('The acceleration is:%f m/s^2',a)"
   ]
   }
,
{
		   "cell_type": "markdown",
		   "metadata": {},
		   "source": [
			"## Example 12.16: Kin_of_a_Part.sce"
		   ]
		  },
  {
"cell_type": "code",
	   "execution_count": null,
	   "metadata": {
	    "collapsed": true
	   },
	   "outputs": [],
"source": [
"//Initilization of variables\n",
"t=4 //s\n",
"//Calculations\n",
"//Part (a)\n",
"x=t^3 //in\n",
"y=-2*t^2 //in\n",
"z=2*t //in\n",
"//Part (b)\n",
"//Theory question\n",
"//Part(c)\n",
"//Unit vector calculation\n",
"m=sqrt(4^2+1^1+(-3)^2)\n",
"e_l=[4/m,1/m,-3/m]\n",
"v=[3*t^2,-4*t,2] //in/s\n",
"//Projection of v on n at t=4s\n",
"dot=v.*e_l //in/s\n",
"a=dot(1)+dot(2)+dot(3) //in/s\n",
"//Result\n",
"clc\n",
"printf('The co-ordinates of position are x=%fin,y=%fin,z=%fin\n',x,y,z)\n",
"printf('The projection of v on n at t=4s is %fin/s',a)"
   ]
   }
,
{
		   "cell_type": "markdown",
		   "metadata": {},
		   "source": [
			"## Example 12.17: Kin_of_a_Part.sce"
		   ]
		  },
  {
"cell_type": "code",
	   "execution_count": null,
	   "metadata": {
	    "collapsed": true
	   },
	   "outputs": [],
"source": [
"//Initilization of variables\n",
"theta=%pi/3 //rad\n",
"//Calculations\n",
"//Method (a)\n",
"t=sqrt(theta) //s\n",
"r=2*theta\n",
"rdot=4*t\n",
"thetadot=2*t\n",
"//Velocity calculations\n",
"x=r*thetadot\n",
"v=sqrt((rdot)^2+x^2) //ft/s\n",
"//Theta calculations\n",
"thetax=30+atand(rdot/x) //degrees\n",
"//Method (b)\n",
"x=2*theta*cos(theta) //ft\n",
"y=2*theta*sin(theta) //ft\n",
"xdot=4*t*((cos(t^2)))+2*t^2*(-sin(t^2))*(2*t) //ft/s\n",
"ydot=4*t^2*sin(t^2)+2*t^2*cos(t^2)*2*t //ft/s\n",
"v=sqrt(xdot^2+ydot^2) //ft/s\n",
"thetax=atand(ydot/-xdot) //degrees\n",
"//Result\n",
"clc\n",
"printf('By both the methods we obtain v=%f ft/s and thetax as %f degrees',v,thetax) "
   ]
   }
,
{
		   "cell_type": "markdown",
		   "metadata": {},
		   "source": [
			"## Example 12.18: Kin_of_a_Part.sce"
		   ]
		  },
  {
"cell_type": "code",
	   "execution_count": null,
	   "metadata": {
	    "collapsed": true
	   },
	   "outputs": [],
"source": [
"//Initilization of variables\n",
"theta=%pi/3 //rad\n",
"//Calculations\n",
"t=sqrt(theta) //s\n",
"thetadot=2*t \n",
"thetadoubledot=2\n",
"r=2*t^2\n",
"rdot=4*t\n",
"rdoubledot=4\n",
"ax=rdoubledot-(r*thetadoubledot*thetadoubledot) //ft/s^2\n",
"ay=2*rdot*thetadot+r*thetadoubledot //ft/s^2\n",
"a=sqrt(ax^2+ay^2)\n",
"thetax=30+atand(ax/ay) //degrees\n",
"//Solving by cartesian co-ordinate system yields same solution\n",
"//Result\n",
"clc\n",
"printf('The acceleration is %f ft/s^2 and thetax=%f degrees',a,thetax)\n",
"//Decimal accuracy causes discrepancy in answers"
   ]
   }
,
{
		   "cell_type": "markdown",
		   "metadata": {},
		   "source": [
			"## Example 12.1: Kin_of_a_Part.sce"
		   ]
		  },
  {
"cell_type": "code",
	   "execution_count": null,
	   "metadata": {
	    "collapsed": true
	   },
	   "outputs": [],
"source": [
"//Initilization of variables\n",
"t=4 //seconds\n",
"//Calculations\n",
"//Displacement \n",
"x=3*t^3+t+2 //ft\n",
"//Velocity\n",
"v=9*t^2+1 //ft/s\n",
"//Acceleration\n",
"a=18*t //ft/s^2\n",
"//Result\n",
"clc\n",
"printf('The dipalacemnt is %f ft and the velocity is %f ft/s and Acceleration is %f ft/s^2',x,v,a)"
   ]
   }
,
{
		   "cell_type": "markdown",
		   "metadata": {},
		   "source": [
			"## Example 12.20: Kin_of_a_Part.sce"
		   ]
		  },
  {
"cell_type": "code",
	   "execution_count": null,
	   "metadata": {
	    "collapsed": true
	   },
	   "outputs": [],
"source": [
"//Initilization of variables\n",
"theta=45 //degrees\n",
"l=0.5 //m\n",
"w=10 //rad/s\n",
"//Calculations\n",
"//PART a\n",
"//Here the theta derivative with respect to time is angular speed w\n",
"Vp1=l*(secd(theta)^2)*w //m/s\n",
"//Part b\n",
"//Radial Component\n",
"r=l*secd(theta)*tand(theta)*w //m/s\n",
"//Transverse Component\n",
"t=l*secd(theta)*w //m/s\n",
"//Total \n",
"Vp2=sqrt(r^2+t^2) //m/s\n",
"//Result\n",
"clc\n",
"printf('The velocity is:%fm/s\n',Vp1)\n",
"printf('The velocity in part b is %fm/s',Vp2)"
   ]
   }
,
{
		   "cell_type": "markdown",
		   "metadata": {},
		   "source": [
			"## Example 12.21: Kin_of_a_Part.sce"
		   ]
		  },
  {
"cell_type": "code",
	   "execution_count": null,
	   "metadata": {
	    "collapsed": true
	   },
	   "outputs": [],
"source": [
"//Initilization of variables\n",
"Va=5 //ft/s\n",
"theta=70 //degrees\n",
"l=6.24 //ft\n",
"//Calculations\n",
"Vb=-cotd(theta)*Va //ft/s\n",
"//Result\n",
"clc\n",
"printf('The value of Vb is %fft/s',Vb)  "
   ]
   }
,
{
		   "cell_type": "markdown",
		   "metadata": {},
		   "source": [
			"## Example 12.25: Kin_of_a_Part.sce"
		   ]
		  },
  {
"cell_type": "code",
	   "execution_count": null,
	   "metadata": {
	    "collapsed": true
	   },
	   "outputs": [],
"source": [
"//Initilization of variables\n",
"theta=linspace(0,360,13)\n",
"//Calculations\n",
"//Defining everything in terms of matrices \n",
"t=(theta*%pi)/(180*6) //s converting degrees to radians\n",
"costheta=cosd(theta) \n",
"sintheta=sind(theta)\n",
"x=2*costheta //ft\n",
"v=-12*sintheta //ft/s\n",
"a=-72*costheta //ft/s^2\n",
"//Plotting\n",
"subplot(221)\n",
"plot(t,x)\n",
"xlabel('t(s)')\n",
"ylabel('Displacement x(ft)')\n",
"subplot(222)\n",
"plot(t,v,t,0)\n",
"xlabel('t(s)')\n",
"ylabel('Velocity v(ft/s)')\n",
"subplot(223)\n",
"plot(t,a)\n",
"xlabel('t(s)')\n",
"ylabel('Acceleration a(ft/s^2)')\n",
"//Result\n",
"clc\n",
"printf('The results are the plots')"
   ]
   }
,
{
		   "cell_type": "markdown",
		   "metadata": {},
		   "source": [
			"## Example 12.26: Kin_of_a_Part.sce"
		   ]
		  },
  {
"cell_type": "code",
	   "execution_count": null,
	   "metadata": {
	    "collapsed": true
	   },
	   "outputs": [],
"source": [
"//Initilization of variables\n",
"d=1.2 //m\n",
"w0=0 //rpm\n",
"w=2000 //rpm\n",
"t=20 //s\n",
"//Calculations\n",
"alpha=(w-w0)/t \n",
"alpha_rad=(alpha*2*%pi)/60 //converting to radians/s^2\n",
"//Result\n",
"clc\n",
"printf('The angular acceleration is %frad/s^2',alpha_rad)"
   ]
   }
,
{
		   "cell_type": "markdown",
		   "metadata": {},
		   "source": [
			"## Example 12.27: Kin_of_a_Part.sce"
		   ]
		  },
  {
"cell_type": "code",
	   "execution_count": null,
	   "metadata": {
	    "collapsed": true
	   },
	   "outputs": [],
"source": [
"//Initilization of variables\n",
"w0=0 //rad/s\n",
"w=209 //rad/s\n",
"t=20 //s\n",
"//Calculations\n",
"theta=0.5*(w+w0)*t //rad\n",
"theta_rev=round(theta/(2*%pi)) //revolutions rounding off\n",
"//Result\n",
"clc\n",
"printf('The flywheel makes %i revolutions',theta_rev)"
   ]
   }
,
{
		   "cell_type": "markdown",
		   "metadata": {},
		   "source": [
			"## Example 12.28: Kin_of_a_Part.sce"
		   ]
		  },
  {
"cell_type": "code",
	   "execution_count": null,
	   "metadata": {
	    "collapsed": true
	   },
	   "outputs": [],
"source": [
"//Initilization of variables\n",
"w0=0 //rad/s\n",
"alpha=10.5 //rad/s^2\n",
"t=0.6 //s\n",
"r=0.6 //m\n",
"//Calculations\n",
"w=w0+alpha*t //rad/s\n",
"v=r*w //m/s\n",
"a_t=r*alpha //m/s^2\n",
"a_n=r*w*w //m/s^2\n",
"a=sqrt(a_t^2+a_n^2) //m/s^2\n",
"phi=atand(a_t/a_n) //degrees\n",
"//result\n",
"clc\n",
"printf('The tangential velocity is %fm/s\n',v)\n",
"printf('the acceleration is %fm/s^2 and angle is %f degrees',a,phi)"
   ]
   }
,
{
		   "cell_type": "markdown",
		   "metadata": {},
		   "source": [
			"## Example 12.29: Kin_of_a_Part.sce"
		   ]
		  },
  {
"cell_type": "code",
	   "execution_count": null,
	   "metadata": {
	    "collapsed": true
	   },
	   "outputs": [],
"source": [
"//Initilization of variables\n",
"l=4 //ft\n",
"wb=40 //rpm\n",
"we=60 //rpm\n",
"//Calculations\n",
"r=l/2 //ft\n",
"vb=r*((wb*2*%pi)/60) //ft/s\n",
"ve=r*((we*2*%pi)/60)\n",
"//Result\n",
"clc\n",
"printf('The linear speeds are %f ft/s and %f ft/s at b and e respectively',vb,ve)"
   ]
   }
,
{
		   "cell_type": "markdown",
		   "metadata": {},
		   "source": [
			"## Example 12.2: Kin_of_a_Part.sce"
		   ]
		  },
  {
"cell_type": "code",
	   "execution_count": null,
	   "metadata": {
	    "collapsed": true
	   },
	   "outputs": [],
"source": [
"//Initilization of variables\n",
"t1=4 //s\n",
"t2=5 //s\n",
"//Calculation\n",
"v1=9*t1^2+1 //ft/s\n",
"v2=9*t2^2+1 //ft/s\n",
"a=(v2-v1)/(t2-t1) //m/s^2\n",
"//Result\n",
"clc\n",
"printf('The acceleration during fifth second is %f ft/s^2',a)"
   ]
   }
,
{
		   "cell_type": "markdown",
		   "metadata": {},
		   "source": [
			"## Example 12.30: Kin_of_a_Part.sce"
		   ]
		  },
  {
"cell_type": "code",
	   "execution_count": null,
	   "metadata": {
	    "collapsed": true
	   },
	   "outputs": [],
"source": [
"//Initilization of variables\n",
"wb=40 //rpm\n",
"we=60 //rpm\n",
"t1=5 //s using different symbol to avoid conflict in decleration\n",
"t=2 //s\n",
"r=2 //ft\n",
"//Calculations\n",
"alpha=(((we*2*%pi)/60)-((wb*2*%pi)/60))/t1 //rad/s^2\n",
"w=((wb*2*%pi)/60)+alpha*t //rad/s\n",
"//Components of acceleration are\n",
"a_t=r*alpha //ft/s^2\n",
"a_n=r*w^2 //ft/s\n",
"//result\n",
"clc\n",
"printf('The tangential and normal acceleration\n are %f rad/s^2 and %frad/s^2 respectively',a_t,a_n) "
   ]
   }
,
{
		   "cell_type": "markdown",
		   "metadata": {},
		   "source": [
			"## Example 12.31: Kin_of_a_Part.sce"
		   ]
		  },
  {
"cell_type": "code",
	   "execution_count": null,
	   "metadata": {
	    "collapsed": true
	   },
	   "outputs": [],
"source": [
"//Initilization of variables\n",
"d=200 //mm\n",
"w0=(800*2*%pi)/60 //rpm\n",
"w=0 //rpm\n",
"t=600 //s\n",
"//Calculations\n",
"alpha=(w-w0)/t //rad/s^2 (deceleration)\n",
"//result\n",
"clc\n",
"printf('The angular acceleration is %frad/s^2\n The negative sign indicates that the wheel decelerates',alpha) "
   ]
   }
,
{
		   "cell_type": "markdown",
		   "metadata": {},
		   "source": [
			"## Example 12.32: Kin_of_a_Part.sce"
		   ]
		  },
  {
"cell_type": "code",
	   "execution_count": null,
	   "metadata": {
	    "collapsed": true
	   },
	   "outputs": [],
"source": [
"//Initilization of variables\n",
"//The symbols used here differ from the textbook solution to avoid conflict \n",
"t1=0 //s\n",
"t2=0.5 //s\n",
"t3=2.5 //s\n",
"t4=1/3 //s\n",
"w=200 //rpm\n",
"w0=0 //rpm\n",
"//Calculations\n",
"theta1=0.5*(w0+w/60)*t2 //rev\n",
"theta2=(w/60)*(t3-t2) //rev\n",
"theta3=0.5*(w/60+w0)*t4 //rev here the values of w and w0 are interchanged but essentially the value comes out to be the same hence the decleration has not been changed\n",
"theta=theta1+theta2+theta3 //rev\n",
"//Result\n",
"clc\n",
"printf('The wheel undergoes %f of rotations',theta)"
   ]
   }
,
{
		   "cell_type": "markdown",
		   "metadata": {},
		   "source": [
			"## Example 12.34: Kin_of_a_Part.sce"
		   ]
		  },
  {
"cell_type": "code",
	   "execution_count": null,
	   "metadata": {
	    "collapsed": true
	   },
	   "outputs": [],
"source": [
"//Initilization of variables\n",
"t=1 //s\n",
"r=4 //m\n",
"//Calculations\n",
"s=t^3+3 //m\n",
"theta=s/r //rad\n",
"dtheta_dt=0.75*t^2 //rad/s\n",
"Vx=-4*sin(theta)*dtheta_dt //m/s\n",
"Vy=4*cos(theta)*dtheta_dt //m/s\n",
"V=sqrt(Vx^2+Vy^2) //m/s\n",
"//Result\n",
"clc\n",
"printf('The components of  velocity are Vx=%fm/s ,Vy=%fm/s and V=%fm/s',Vx,Vy,V)"
   ]
   }
,
{
		   "cell_type": "markdown",
		   "metadata": {},
		   "source": [
			"## Example 12.35: Kin_of_a_Part.sce"
		   ]
		  },
  {
"cell_type": "code",
	   "execution_count": null,
	   "metadata": {
	    "collapsed": true
	   },
	   "outputs": [],
"source": [
"//Initilization of variables\n",
"t=1 //s\n",
"theta=1 //rad\n",
"//Calculations\n",
"dtheta_dt=0.75*t^2 //rad/s\n",
"acc=1.5*t //rad/s^2\n",
"ax=-4*cos(theta)*dtheta_dt^2-(4*sin(theta)*acc) //m/s^2 (to left)\n",
"ay=-4*sin(theta)*dtheta_dt^2+(4*cos(theta)*acc) //m/s^2 (up)\n",
"a=sqrt(ax^2+ay^2) //m/s^2\n",
"//result\n",
"clc\n",
"printf('The acceleration is %fm/s^2',a)"
   ]
   }
,
{
		   "cell_type": "markdown",
		   "metadata": {},
		   "source": [
			"## Example 12.36: Kin_of_a_Part.sce"
		   ]
		  },
  {
"cell_type": "code",
	   "execution_count": null,
	   "metadata": {
	    "collapsed": true
	   },
	   "outputs": [],
"source": [
"//Initilization of variables\n",
"t=2 //s\n",
"//Calculations\n",
"//Velocity\n",
"vx=8*t-3 //ft/s\n",
"vy=3*t^2 //ft/s\n",
"v=sqrt(vx^2+vy^2) //ft/s\n",
"theta_x=atand(vy/vx) //degrees\n",
"//Acceleration\n",
"ax=8 //ft/s^2\n",
"ay=6*t //ft/s^2\n",
"a=sqrt(ax^2+ay^2) //ft/s^2\n",
"phi_x=atand(ay/ax) //degrees\n",
"//Result\n",
"clc\n",
"printf('The velocity is %fft/s and angle is %fdegrees\n The acceleration is %fft/s^2 and angle it makes is %fdegrees',v,theta_x,a,phi_x)"
   ]
   }
,
{
		   "cell_type": "markdown",
		   "metadata": {},
		   "source": [
			"## Example 12.37: Kin_of_a_Part.sce"
		   ]
		  },
  {
"cell_type": "code",
	   "execution_count": null,
	   "metadata": {
	    "collapsed": true
	   },
	   "outputs": [],
"source": [
"//Initilization of variables\n",
"V_ao=29.3 //ft/s\n",
"OA=50 //ft\n",
"theta=45 //degrees\n",
"OB=50*sqrt(2) //ft\n",
"//Calculations\n",
"w_ao=V_ao/OA //rad/s\n",
"V_bo=V_ao*cosd(theta) //ft/s\n",
"w_bo=V_bo/OB //rad/s\n",
"//Result\n",
"clc\n",
"printf('The angular velocity with respect to the observer is %frad/s\n The angular velocity after moving 50ft is %frad/s',w_ao,w_bo) "
   ]
   }
,
{
		   "cell_type": "markdown",
		   "metadata": {},
		   "source": [
			"## Example 12.38: Kin_of_a_Part.sce"
		   ]
		  },
  {
"cell_type": "code",
	   "execution_count": null,
	   "metadata": {
	    "collapsed": true
	   },
	   "outputs": [],
"source": [
"//Initiliztaion of variables\n",
"theta=30 //degrees\n",
"r=[100*tand(theta),100] //ft\n",
"v=17.6 //ft/s\n",
"//Calculations\n",
"v_1=100*secd(theta)*secd(theta) \n",
"w=v/v_1 //rad/s (clockwise)\n",
"//result\n",
"clc\n",
"printf('The angular velocity is %frad/s',w)"
   ]
   }
,
{
		   "cell_type": "markdown",
		   "metadata": {},
		   "source": [
			"## Example 12.39: Kin_of_a_Part.sce"
		   ]
		  },
  {
"cell_type": "code",
	   "execution_count": null,
	   "metadata": {
	    "collapsed": true
	   },
	   "outputs": [],
"source": [
"//Initilization of variables\n",
"t=2 //s\n",
"//Calculations\n",
"Vx=20*t+5 //m/s\n",
"Vy=t^2-20 //m/s\n",
"//As indefinite integral is not possible \n",
"x=10*t^2+5*t+5 //m\n",
"y=0.5*t^2-20*t-15 //m\n",
"ax=20 //m/s^2\n",
"ay=2*t //m/s^2\n",
"//Result\n",
"clc\n",
"printf('The displacement components are x=%fm,y=%fm\n The velocity components are Vx=%fm/s,Vy=%fm/s\n The acceleration components are ax=%fm/s^2 and ay=%fm/s^2',x,y,Vx,Vy,ax,ay)"
   ]
   }
,
{
		   "cell_type": "markdown",
		   "metadata": {},
		   "source": [
			"## Example 12.3: Kin_of_a_Part.sce"
		   ]
		  },
  {
"cell_type": "code",
	   "execution_count": null,
	   "metadata": {
	    "collapsed": true
	   },
	   "outputs": [],
"source": [
"//Defining Matrices\n",
"t=[0 1 2 3 4 5 10] //s\n",
"//Displacement matrix\n",
"s=[8*t^2+2*t] //m\n",
"//Velocity Matrix\n",
"v=[16*t+2] //m/s\n",
"//Acceleration Matrix\n",
"a=16 //m/s^2\n",
"//Plotting the curves\n",
"//S-T curve\n",
"subplot(221)\n",
"plot(t,s)\n",
"xlabel('t(s)')\n",
"ylabel('s(m)')\n",
"subplot(222)\n",
"plot(t,v)\n",
"xlabel('t(s)')\n",
"ylabel('v(m/s)')\n",
"subplot(223)\n",
"plot(t,a)\n",
"xlabel('t(s)')\n",
"ylabel('a(m/s^2)')\n",
"//Result\n",
"clc\n",
"printf('The graphs are the solutions')"
   ]
   }
,
{
		   "cell_type": "markdown",
		   "metadata": {},
		   "source": [
			"## Example 12.40: Kin_of_a_Part.sce"
		   ]
		  },
  {
"cell_type": "code",
	   "execution_count": null,
	   "metadata": {
	    "collapsed": true
	   },
	   "outputs": [],
"source": [
"//Initilization of variables\n",
"d=0.1 //m\n",
"v=20 //m/s\n",
"a_g=6 //m/s^2\n",
"d2=0.150 //m\n",
"//Calculations\n",
"r=d/2 //m\n",
"w=v/r //rad/s\n",
"vb=d2*0.5*w //m/s\n",
"alpha=a_g/r //rad/s^2\n",
"a_t=d2*0.5*alpha //rad/s^2 tangential acceleration\n",
"a_n=d2*0.5*w*w //m/s^2 normal acceleration\n",
"a=sqrt(a_t^2+a_n^2) //m/s^2 linear acceleration\n",
"//Result\n",
"clc\n",
"printf('The linear velocity is %fm/s and the acceleration is %fm/s^2',vb,a)"
   ]
   }
,
{
		   "cell_type": "markdown",
		   "metadata": {},
		   "source": [
			"## Example 12.41: Kin_of_a_Part.sce"
		   ]
		  },
  {
"cell_type": "code",
	   "execution_count": null,
	   "metadata": {
	    "collapsed": true
	   },
	   "outputs": [],
"source": [
"//Initilization of variables\n",
"theta=40 //degrees\n",
"x=100 //ft\n",
"ax=0 //ft/s^2\n",
"ay=-32.2 //ft/s^2\n",
"//Calculations\n",
"//vox=vocos40....(1)\n",
"//voy=vox*t-1/2(32.2)t^2...(2)\n",
"//Simplyfying eq (1) and eq(2)\n",
"t_f=sqrt((x*tand(theta))/(0.5*(-ay))) //s time of flight\n",
"Vo=x/(cosd(theta)*t_f) //ft/s\n",
"//As the max height occurs at half wat through the flight\n",
"t=t_f/2 //s\n",
"ymax=Vo*sind(theta)*t+(0.5*ay*t*t) //ft the formula has positive sign as ay is defined negative\n",
"//result\n",
"clc\n",
"printf('The max height the ball will reach is %f ft',ymax)"
   ]
   }
,
{
		   "cell_type": "markdown",
		   "metadata": {},
		   "source": [
			"## Example 12.4: Kin_of_a_Part.sce"
		   ]
		  },
  {
"cell_type": "code",
	   "execution_count": null,
	   "metadata": {
	    "collapsed": true
	   },
	   "outputs": [],
"source": [
"//Initilization of variables\n",
"v_o=0 //ft/s\n",
"v_f=88//ft/s\n",
"t=28 //s\n",
"//Calculations\n",
"k=(v_f-v_o)/t //ft/s^2\n",
"s=((v_f-v_o)/2)*t //ft\n",
"//Result\n",
"clc\n",
"printf('The constant k is %f and displacement is %f ft',k,s)\n",
"//Decimal accuracy causes discrepancy in answers"
   ]
   }
,
{
		   "cell_type": "markdown",
		   "metadata": {},
		   "source": [
			"## Example 12.5: Kin_of_a_Part.sce"
		   ]
		  },
  {
"cell_type": "code",
	   "execution_count": null,
	   "metadata": {
	    "collapsed": true
	   },
	   "outputs": [],
"source": [
"//Initilization of variables\n",
"v_o=0 //ft/s\n",
"v_f1=30 //ft/s\n",
"v_f2=0 //ft/s\n",
"t1=3 //s\n",
"t2=2 //s\n",
"//Calculations\n",
"//Plotting the v-t curve\n",
"//Velocity matrix \n",
"v=[v_o,v_f1,v_f2]\n",
"//Time matrix\n",
"t=[0,3,5]\n",
"plot(t,v)\n",
"xlabel('t')\n",
"ylabel('v')\n",
"//Part 'b'\n",
"//Acceleration at 3s\n",
"a1=(v_f1-v_o)/t1 //ft/s^2\n",
"//Acceleration at 5s\n",
"a2=(v_f2-v_f1)/t2 //ft/s^2\n",
"//Part 'c'\n",
"s=(v_f1*t1*0.5)+(v_f1*t2*0.5) //ft\n",
"//Part 'd'\n",
"//Simplfying the equation we get\n",
"//7.5t^2-30t+5=0\n",
"a=7.5\n",
"b=-30\n",
"c=5\n",
"q=sqrt(b^2-4*a*c)\n",
"x1=(-b+q)/(2*a)\n",
"x2=(-b-q)/(2*a)\n",
"//As x1 is greater than 2 it does not hold as a solution\n",
"t=x2 //s\n",
"//Hence total time is\n",
"T=t1+t //s\n",
"clc\n",
"//Result\n",
"printf('The acceleration at 3s and 5s are %f ft/s^2 and %f  ft/s^2 respectively\n',a1,a2)\n",
"printf('The displacement is %f ft\n',s)\n",
"printf('The total time is %f s',T)"
   ]
   }
,
{
		   "cell_type": "markdown",
		   "metadata": {},
		   "source": [
			"## Example 12.6: Kin_of_a_Part.sce"
		   ]
		  },
  {
"cell_type": "code",
	   "execution_count": null,
	   "metadata": {
	    "collapsed": true
	   },
	   "outputs": [],
"source": [
"//Initilization of variables\n",
"v_o=2 //m/s\n",
"y_o=120 //m\n",
"g=9.8 //m/s^2\n",
"//Calculations\n",
"//Solve  using ground as datum\n",
"y=0\n",
"//Simplfying the equation\n",
"a=4.9\n",
"b=-2\n",
"c=-120\n",
"q=sqrt(b^2-4*a*c)\n",
"x1=(-b+q)/(2*a) //s\n",
"x2=(-b-q)/(2*a) //s\n",
"//Result\n",
"clc\n",
"printf('The time required is %f s',x1)\n",
"//As x2 is negative and negative time does not make any physical sense"
   ]
   }
,
{
		   "cell_type": "markdown",
		   "metadata": {},
		   "source": [
			"## Example 12.7: Kin_of_a_Part.sce"
		   ]
		  },
  {
"cell_type": "code",
	   "execution_count": null,
	   "metadata": {
	    "collapsed": true
	   },
	   "outputs": [],
"source": [
"//Initilization of variables\n",
"Vo1=80 //ft/s\n",
"Vo2=60 //ft/s\n",
"g=32.2 //ft/s^2\n",
"//Calculations\n",
"//Simplfying by equating the two times\n",
"t=(-(Vo2*2)-(g*0.5*4))/(Vo1-Vo2-(g*0.5*4)) //s\n",
"//Substituting this t in s we get\n",
"s=(Vo1*t)-(0.5*g*t*t) //ft\n",
"//Result\n",
"clc\n",
"printf('The time obtained is %f s and the balls meet at %f ft',t,s)"
   ]
   }
,
{
		   "cell_type": "markdown",
		   "metadata": {},
		   "source": [
			"## Example 12.8: Kin_of_a_Part.sce"
		   ]
		  },
  {
"cell_type": "code",
	   "execution_count": null,
	   "metadata": {
	    "collapsed": true
	   },
	   "outputs": [],
"source": [
"//Initilization of variables\n",
"theta=40 //degrees\n",
"x=100 //ft\n",
"ay=32.2 //ft/s^2\n",
"//Calculations\n",
"//Simplfying the equation\n",
"t=sqrt((tand(theta)*x)/(ay/2)) //s\n",
"//Velocity calculations\n",
"Vo=100/(cosd(theta)*t) //ft/s\n",
"//Result\n",
"clc\n",
"printf('The initial speed should be %f ft/s',Vo)"
   ]
   }
,
{
		   "cell_type": "markdown",
		   "metadata": {},
		   "source": [
			"## Example 12.9: Kin_of_a_Part.sce"
		   ]
		  },
  {
"cell_type": "code",
	   "execution_count": null,
	   "metadata": {
	    "collapsed": true
	   },
	   "outputs": [],
"source": [
"//Initilization of variables\n",
"t=[0,1,2,3,4,5,6] //s\n",
"//Solving the Differential Equations we obtain\n",
"s=(t+1)^3 //ft\n",
"v=3*(t+1)^2 //ft/s\n",
"a=6*(t+1) //ft/s^2\n",
"//Plotting\n",
"subplot(221)\n",
"plot(t,s)\n",
"xlabel('t(s)')\n",
"ylabel('s(ft)')\n",
"subplot(222)\n",
"plot(t,v)\n",
"xlabel('t(s)')\n",
"ylabel('v(ft/s)')\n",
"subplot(223)\n",
"plot(t,a)\n",
"xlabel('t(s)')\n",
"ylabel('a(ft/s^2)')\n",
"//Result\n",
"clc\n",
"printf('The result are the gplots that have been generated')"
   ]
   }
],
"metadata": {
		  "kernelspec": {
		   "display_name": "Scilab",
		   "language": "scilab",
		   "name": "scilab"
		  },
		  "language_info": {
		   "file_extension": ".sce",
		   "help_links": [
			{
			 "text": "MetaKernel Magics",
			 "url": "https://github.com/calysto/metakernel/blob/master/metakernel/magics/README.md"
			}
		   ],
		   "mimetype": "text/x-octave",
		   "name": "scilab",
		   "version": "0.7.1"
		  }
		 },
		 "nbformat": 4,
		 "nbformat_minor": 0
}
