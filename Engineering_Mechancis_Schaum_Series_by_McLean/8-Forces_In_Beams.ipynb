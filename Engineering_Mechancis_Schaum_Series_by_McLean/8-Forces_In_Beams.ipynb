{
"cells": [
 {
		   "cell_type": "markdown",
	   "metadata": {},
	   "source": [
       "# Chapter 8: Forces In Beams"
	   ]
	},
{
		   "cell_type": "markdown",
		   "metadata": {},
		   "source": [
			"## Example 8.1: Beams.sce"
		   ]
		  },
  {
"cell_type": "code",
	   "execution_count": null,
	   "metadata": {
	    "collapsed": true
	   },
	   "outputs": [],
"source": [
"//Initilization of variables\n",
"R_A=100 //N\n",
"R_B=200 //N\n",
"//Calculations\n",
"//Shear force at 2m\n",
"V=100 //N\n",
"//Moment at 2m\n",
"M=R_A*2 //N.m\n",
"//Result\n",
"clc\n",
"printf('The shear force at 2m is %fN and the moment at 2m is %fN-m',V,M)"
   ]
   }
,
{
		   "cell_type": "markdown",
		   "metadata": {},
		   "source": [
			"## Example 8.2: Beams.sce"
		   ]
		  },
  {
"cell_type": "code",
	   "execution_count": null,
	   "metadata": {
	    "collapsed": true
	   },
	   "outputs": [],
"source": [
"//Initilization of variables\n",
"//length matrix\n",
"L1=[0,4,6] //m\n",
"//Bending moment matrix\n",
"B=[0,400,0] //N.m\n",
"//Shear force plotting\n",
"//Here the left side and right side lengths are considered as close as 4 to keep up with right and left distinctions\n",
"L=[0,3.999,4,5.99998,6]\n",
"S=[100,100,-200,-200,0]\n",
"//Calculations cum Result\n",
"subplot(221)\n",
"plot(L1,B)\n",
"xtitle('Bending Moment Diagram','Span','Bending Moment')\n",
"subplot(222)\n",
"plot(L,S,L,0)\n",
"xtitle('Shear Force Diagram','Span','Shear Force')"
   ]
   }
,
{
		   "cell_type": "markdown",
		   "metadata": {},
		   "source": [
			"## Example 8.3: Beams.sce"
		   ]
		  },
  {
"cell_type": "code",
	   "execution_count": null,
	   "metadata": {
	    "collapsed": true
	   },
	   "outputs": [],
"source": [
"//Initilization of variables\n",
"w=196 //N/m\n",
"M_app=4000 //N.m\n",
"L=6 //m\n",
"//Calculations\n",
"//Taking Moment about Point L and equating it to 0\n",
"R_r=(M_app+w*L*L*0.5)/(3*L) //N\n",
"//Taking Moment about Point R and equating it to 0\n",
"R_l= ((((2*L)+(L/2))*(w*L))-(M_app))/(3*L) //N\n",
"//finding point of zero shear\n",
"a=R_l/w\n",
"//defining x\n",
"x0=[0,18]\n",
"x=[0,0.5,1,1.5,2,2.5,3,3.5,a,4,4.5,5,5.5,6] //for 0<x<6\n",
"x1=[6,12] //for6<x<12\n",
"x2=[12,18] //for 12<x<18\n",
"xv=[6,12,18] //specially for shear force\n",
"xo=[12.001,12.002] //Straight line plot\n",
"//Shear Force Calculations\n",
"//Summing forces in vertical direction and equating to 0\n",
"V1=R_l-w*x //N for 0<x<6\n",
"V2=R_l-w*L //N for 6<x<18\n",
"//Bending Moment Calculations\n",
"M1=R_l*x-(w*x^2*0.5) //N.m for 0<x<6\n",
"M2=R_l*x1-((w*L)*(x1-3)) //N.m for 6<x<12\n",
"M3=R_l*x2-((w*L)*(x2-3))+M_app //N.m for 12<x<18\n",
"Mo=[-1464.8652,2509.3333]\n",
"//Maximum bending moment\n",
"M_max=R_l*a*0.5 //N.m\n",
"//Plotting\n",
"subplot(221)\n",
"plot(x,V1,xv,V2,x0,0)\n",
"xtitle('Shear Force Diagram','Span','Shear Force')\n",
"subplot(222)\n",
"plot(x,M1,x1,M2,x2,M3,x0,0,xo,Mo)\n",
"xtitle('Bending Moment Diagram','Span','Bending Moment')\n",
"//Result\n",
"clc\n",
"printf('The value of reactions are R_l=%fN and R_r=%fN\n',R_l,R_r)\n",
"printf('The point of maximum bending moment is %f meters from left support nad maximum bending moment is %fN-m\n',a,M_max)\n",
"printf('The bending moment and shear force diagrams have been plotted')"
   ]
   }
,
{
		   "cell_type": "markdown",
		   "metadata": {},
		   "source": [
			"## Example 8.5: Beams.sce"
		   ]
		  },
  {
"cell_type": "code",
	   "execution_count": null,
	   "metadata": {
	    "collapsed": true
	   },
	   "outputs": [],
"source": [
"//Initlization of  variables\n",
"F1=2000 //lb\n",
"w=100 //lb/ft\n",
"//Calculations\n",
"R_r=(-F1*5+w*14*13)/20 //lb\n",
"R_l=(F1*25+w*14*7)/20 //lb\n",
"//Shear Force matrix\n",
"V=[-2000,-2000,990,990,-410,0] //lb\n",
"//Bending Moment matrix\n",
"B=[0,-10000,-4060,840,0]\n",
"//Length matrix for shear force\n",
"X_v=[0,5,5.0001,11,20.89999,20.9]\n",
"//Length matrix for bendimg moment\n",
"X_b=[0,5,11,19.9,20.9]\n",
"//Plotting\n",
"subplot(221)\n",
"plot(X_v,V,X_v,0)\n",
"xlabel('Shear Force Diagram','Span','Shear Force')\n",
"subplot(222)\n",
"plot(X_b,B,X_b,0)\n",
"xlabel('Bending Moment Diagram','Span','Bending Moment')\n",
"//Result\n",
"clc\n",
"printf('The bending Moment and Shear Force diagrams have been plotted\n')\n",
"//Note\n",
"//The textbook does not specify the span and hence there seems to be a disagreement between the textbook and scilab solution.here the values have just been plotted\n",
"\n",
"\n",
""
   ]
   }
],
"metadata": {
		  "kernelspec": {
		   "display_name": "Scilab",
		   "language": "scilab",
		   "name": "scilab"
		  },
		  "language_info": {
		   "file_extension": ".sce",
		   "help_links": [
			{
			 "text": "MetaKernel Magics",
			 "url": "https://github.com/calysto/metakernel/blob/master/metakernel/magics/README.md"
			}
		   ],
		   "mimetype": "text/x-octave",
		   "name": "scilab",
		   "version": "0.7.1"
		  }
		 },
		 "nbformat": 4,
		 "nbformat_minor": 0
}
