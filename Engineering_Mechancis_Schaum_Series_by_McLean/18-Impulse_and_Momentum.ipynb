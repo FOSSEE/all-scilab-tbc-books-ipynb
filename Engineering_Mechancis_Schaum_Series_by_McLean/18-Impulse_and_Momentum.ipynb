{
"cells": [
 {
		   "cell_type": "markdown",
	   "metadata": {},
	   "source": [
       "# Chapter 18: Impulse and Momentum"
	   ]
	},
{
		   "cell_type": "markdown",
		   "metadata": {},
		   "source": [
			"## Example 18.10: Imp.sce"
		   ]
		  },
  {
"cell_type": "code",
	   "execution_count": null,
	   "metadata": {
	    "collapsed": true
	   },
	   "outputs": [],
"source": [
"//Initilization Of Variables\n",
"a=1 //Lower Limit oF the Integral\n",
"b=5 //Upper Limit of the Integral\n",
"n=10 //Interval of the integral\n",
"W=80 //lb\n",
"us=0.25 //coefficient of static friction\n",
"uk=0.20 //coefficient of kinetic friction\n",
"g=32.2 //ft/s^2\n",
"//Calculation\n",
"//Limiting Force\n",
"F=W*uk //lb \n",
"//Using Trapezoidal Rule for Intergration \n",
"function[I1]=Trap_Composite1(f,a,b,n)\n",
"    h=(b-a)/n\n",
"    t=linspace(a,b,n+1)\n",
"    I1=(h/2)*((2*sum(f(t)))-f(t(1))-f(t(n+1)))\n",
"endfunction\n",
"deff('[y]=f(t)','y=t*20')\n",
"//Using Impulse momentum theorem\n",
"l=Trap_Composite1(f,a,b,n) //storing integration value in a variable\n",
"v=(g/W)*(l-F*(b-a)) //ft/s\n",
"//Result\n",
"clc\n",
"printf('The speed of the block is %f ft/s',v)"
   ]
   }
,
{
		   "cell_type": "markdown",
		   "metadata": {},
		   "source": [
			"## Example 18.11: Imp.sce"
		   ]
		  },
  {
"cell_type": "code",
	   "execution_count": null,
	   "metadata": {
	    "collapsed": true
	   },
	   "outputs": [],
"source": [
"//Initilization of variables\n",
"m=1.5 //kg\n",
"i1=2 //Integral constant obtained after integrating\n",
"i2=3.33 //Integral constant obtained after integrating\n",
"//Calculations\n",
"//As indefinite integrals are not possible to code\n",
"//We directly consider the intergral which is a simple integral\n",
"//v=t^2-1.11*t^3\n",
"//After we derivate this expression we obtain\n",
"t=i1/i2 //s\n",
"//Now using the formula for v we get\n",
"v=t^2-((i2/3)*t^3) //ft/s\n",
"//Result\n",
"clc\n",
"printf('The maximum velocity is:%f m/s',v)"
   ]
   }
,
{
		   "cell_type": "markdown",
		   "metadata": {},
		   "source": [
			"## Example 18.12: Imp.sce"
		   ]
		  },
  {
"cell_type": "code",
	   "execution_count": null,
	   "metadata": {
	    "collapsed": true
	   },
	   "outputs": [],
"source": [
"//Initilization of variables\n",
"m1=40 //kg\n",
"m2=10 //kg\n",
"m3=15 //kg\n",
"v0=2.5 //m/s\n",
"vf=5 //m/s\n",
"t=12 //s\n",
"u=0.1 //coefficient of friction\n",
"g=9.8 //m/s^2\n",
"theta=45 //degrees\n",
"//Calculations\n",
"//Applying Impulse-Momentum Theoroem\n",
"P=(((m1+m2+m3)*(vf-v0))+(t*(-m2*g*sind(theta)+u*g*m2*cosd(theta)+u*g*m3+g*m1)))/t //N\n",
"//Result\n",
"clc\n",
"printf('The value of P is %f N',P)"
   ]
   }
,
{
		   "cell_type": "markdown",
		   "metadata": {},
		   "source": [
			"## Example 18.13: Imp.sce"
		   ]
		  },
  {
"cell_type": "code",
	   "execution_count": null,
	   "metadata": {
	    "collapsed": true
	   },
	   "outputs": [],
"source": [
"//Initilization of variables\n",
"W1=4 //lb\n",
"W2=2 //lb\n",
"t2=0.04 //s\n",
"W3=-2 //lb\n",
"t3=0.02 //s\n",
"t=3 //s\n",
"g=32.2 //ft/s^2\n",
"//Calculations\n",
"//Algebraic sum of two areas\n",
"A=t2*W2+t3*W3 //lb-s\n",
"//Using Impulse Momentum Theorem\n",
"v=(A*g)/W1 //ft/s\n",
"//Result\n",
"clc\n",
"printf('The spped after 3s is %f ft/s',v)"
   ]
   }
,
{
		   "cell_type": "markdown",
		   "metadata": {},
		   "source": [
			"## Example 18.14: Imp.sce"
		   ]
		  },
  {
"cell_type": "code",
	   "execution_count": null,
	   "metadata": {
	    "collapsed": true
	   },
	   "outputs": [],
"source": [
"//Initilization of variables\n",
"f_r=1 //in/s rate of fall of mercury\n",
"ll=18 //in length of left column\n",
"lr=22 //in length of right column\n",
"rho=850 //lb/ft^3\n",
"d=1/4 //in\n",
"g=32.2 //ft/s^2\n",
"//Calculations\n",
"//Applying Impulse momentum theorem\n",
"M=((d*%pi*d^2*4)/12^3)*(rho/g)*(1/12) //lb-s\n",
"//Result\n",
"clc\n",
"printf('The upward momentum of mercury is %f lb-s',M)"
   ]
   }
,
{
		   "cell_type": "markdown",
		   "metadata": {},
		   "source": [
			"## Example 18.15: Imp.sce"
		   ]
		  },
  {
"cell_type": "code",
	   "execution_count": null,
	   "metadata": {
	    "collapsed": true
	   },
	   "outputs": [],
"source": [
"//Initilization of variables\n",
"m=2000 //kg\n",
"k=1.200 //m\n",
"w=120 //rpm\n",
"t=200 //s\n",
"//Calculations\n",
"//Applying Angular Momentum theorem\n",
"M=((m*k^2*(w*2*%pi))/60)/t //N.m\n",
"//Result\n",
"clc\n",
"printf('The Momentum necessary is %f N.m',M)\n",
""
   ]
   }
,
{
		   "cell_type": "markdown",
		   "metadata": {},
		   "source": [
			"## Example 18.17: Imp.sce"
		   ]
		  },
  {
"cell_type": "code",
	   "execution_count": null,
	   "metadata": {
	    "collapsed": true
	   },
	   "outputs": [],
"source": [
"//Initilization of variables\n",
"m1=5 //kg\n",
"m2=7 //kg\n",
"mp=5 //kg\n",
"r=0.6 //m\n",
"k=0.45 //m\n",
"vi=3 //m/s\n",
"vf=6 //m/s\n",
"g=9.8 //m/s^2\n",
"//Calculations\n",
"I=m1*k^2 //kg.m^2\n",
"wnet=(vf/r)-(vi/r) //rad/s\n",
"//Solving the system of linear equations\n",
"//Simplfying the equation we get\n",
"t=((I*wnet)+m1*(vf-vi)+m2*(vf-vi))*r/(r*(m2-m1)*g) //s\n",
"//Result\n",
"clc\n",
"printf('The time required is %f s',t)\n",
"//Decimal accuracy causes discrepancy in answers\n",
""
   ]
   }
,
{
		   "cell_type": "markdown",
		   "metadata": {},
		   "source": [
			"## Example 18.18: Imp.sce"
		   ]
		  },
  {
"cell_type": "code",
	   "execution_count": null,
	   "metadata": {
	    "collapsed": true
	   },
	   "outputs": [],
"source": [
"//Initilization of variables\n",
"m=50 //kg\n",
"vo=4 //m/s\n",
"vf=8 //m/s\n",
"t=6 //s\n",
"g=9.8 //m/s^2\n",
"r=0.8 //m\n",
"u=0.25 //coefficient of friction\n",
"I=30 //kg-m^2\n",
"//Calculations\n",
"Na=m*g //N\n",
"F=u*Na //N\n",
"//Angular Speeds\n",
"wo=vo/r //rad/s\n",
"wf=vf/r //rad/s\n",
"//Applying impulse momentum theorem\n",
"mb=(I*wf+m*vf*r-I*wo-m*vo*r+F*r*t)/(vo*r+g*r*t-vf*r) //kg\n",
"//Result\n",
"clc\n",
"printf('The mass of block B is %f kg',mb)"
   ]
   }
,
{
		   "cell_type": "markdown",
		   "metadata": {},
		   "source": [
			"## Example 18.19: Imp.sce"
		   ]
		  },
  {
"cell_type": "code",
	   "execution_count": null,
	   "metadata": {
	    "collapsed": true
	   },
	   "outputs": [],
"source": [
"//Initilization of variables\n",
"Ws=250 //lb\n",
"Wl=500 //lb\n",
"W3=161 //lb\n",
"W4=64.4 //lb\n",
"wo=100 //rpm\n",
"wf=300 //rpm\n",
"rl=3 //ft\n",
"rs=2 //ft\n",
"g=32.2 //ft/s^2\n",
"//Calculations\n",
"//Moment Of Inertia\n",
"I=(0.5*(Wl/g)*rl^2+0.5*(Ws/g)*rs^2) //slug-ft^2\n",
"//Change in angular Momentum\n",
"change1=I*((wf-wo)*2*(%pi/60)) //lb-s-ft\n",
"//Change in angular momentum about G for 161lb\n",
"change2=2*((W3/g)*(wf-wo)*(4/60)*%pi) //lb-s-ft\n",
"//Similarly change in 64lb is\n",
"change3=3*((W4/g)*(wf-wo)*(6/60)*%pi) //lb-s-ft\n",
"//Change in linear impulse\n",
"//Without t term in it\n",
"m1=2*W3\n",
"m2=-3*W4\n",
"//Total angular impulse\n",
"t=(change1+change2+change3)/(m1+m2) //s\n",
"//Result\n",
"clc\n",
"printf('The time required is %f s',t)"
   ]
   }
,
{
		   "cell_type": "markdown",
		   "metadata": {},
		   "source": [
			"## Example 18.21: Imp.sce"
		   ]
		  },
  {
"cell_type": "code",
	   "execution_count": null,
	   "metadata": {
	    "collapsed": true
	   },
	   "outputs": [],
"source": [
"//Initilization of variables\n",
"d=3 //ft\n",
"W=300 //lb\n",
"theta=20 //degrees\n",
"F=250 //lb\n",
"t=6 //s\n",
"vo=0 //ft/s\n",
"g=32.2 //ft/s^2\n",
"//Calculations\n",
"//Applying linear impulse momentum theorem\n",
"//Solving by matrix method\n",
"A=[-W/g,1*t;-(0.5*(W/g)*d^2*0.5^2)/(d/2),-t*d/2]\n",
"B=[-F*t+W*sind(theta)*t;-F*(d/2)*6] \n",
"C=inv(A)*B\n",
"//Result\n",
"clc\n",
"printf('The speed after 6s is %f ft/s',C(1)) "
   ]
   }
,
{
		   "cell_type": "markdown",
		   "metadata": {},
		   "source": [
			"## Example 18.22: Imp.sce"
		   ]
		  },
  {
"cell_type": "code",
	   "execution_count": null,
	   "metadata": {
	    "collapsed": true
	   },
	   "outputs": [],
"source": [
"//Initilization of variables\n",
"theta=30 //degrees\n",
"vo=20 //ft/s\n",
"r=4 //ft\n",
"vf=0 //ft/s\n",
"g=32.2 //ft/s^2\n",
"//Calculations\n",
"wo=vo/r //rad/s\n",
"wf=vf/r //rad/s\n",
"//Applying impulse momentum theorem\n",
"//Solving simultaneous equations\n",
"t=-((3/(2*g))*(r^2)*(wf-wo))/(r*sind(theta))//s\n",
"//Result\n",
"clc\n",
"printf('The time t is %f s',t)"
   ]
   }
,
{
		   "cell_type": "markdown",
		   "metadata": {},
		   "source": [
			"## Example 18.23: Imp.sce"
		   ]
		  },
  {
"cell_type": "code",
	   "execution_count": null,
	   "metadata": {
	    "collapsed": true
	   },
	   "outputs": [],
"source": [
"//Initilization of variables\n",
"mw=75 //kg\n",
"k=0.9 //m\n",
"wi=10 //rad/s\n",
"wf=6 //rad/s\n",
"r=1.2 //m\n",
"m=30 //kg\n",
"g=9.8 //m/s^2\n",
"//Calculations\n",
"//Initial speed\n",
"vi=-r*wi //m/s\n",
"vf=r*wf //m/s\n",
"//Initial speed of B is\n",
"vib=-0.8*wi+vi //m/s\n",
"//Similarly\n",
"vfb=12 //m/s\n",
"//Applying impulse momentum theorem\n",
"//Solving by matrix method\n",
"A=[1,-1,-(mw*(vf-vi));0.8,1.2,-(mw*(k^2)*(wf+wi));-1,0,-(m*(vfb-vi))]\n",
"B=[0;0;-g*m]\n",
"C=inv(A)*B\n",
"//Here t is calculated as 1/t for simplicity\n",
"//Result\n",
"clc\n",
"printf('The time required is %f s',1/C(3)) \n",
"//Decimal accuracy causes discrepancy in answers"
   ]
   }
,
{
		   "cell_type": "markdown",
		   "metadata": {},
		   "source": [
			"## Example 18.24: Imp.sce"
		   ]
		  },
  {
"cell_type": "code",
	   "execution_count": null,
	   "metadata": {
	    "collapsed": true
	   },
	   "outputs": [],
"source": [
"//Initilization of variables\n",
"d=8 //in\n",
"W=96.6 //lb\n",
"w=36 //rad/s\n",
"u=0.15 //coefficient of friction\n",
"g=32.2 //ft/s^2\n",
"//Calculations\n",
"r=(d/2)/12 //m\n",
"N=W //lb\n",
"F=u*N //lb\n",
"m=W/g //slugs\n",
"I=0.5*m*(r^2) //slug-ft^2\n",
"//Applying the impulse momentum theorem\n",
"//Solving the two equations simultaneously\n",
"A=[F,-m;F*r,I*(1/r)]\n",
"B=[0;w*I]\n",
"C=inv(A)*B\n",
"//Distance travelled\n",
"s=0.5*C(2)*C(1) //ft\n",
"t=C(1) //s\n",
"//Result\n",
"printf('The time required is %f s,and it travels %f ft',t,s)"
   ]
   }
,
{
		   "cell_type": "markdown",
		   "metadata": {},
		   "source": [
			"## Example 18.25: Imp.sce"
		   ]
		  },
  {
"cell_type": "code",
	   "execution_count": null,
	   "metadata": {
	    "collapsed": true
	   },
	   "outputs": [],
"source": [
"//Initilisation of variables\n",
"d=2/12 //ft\n",
"v=80 //ft/s\n",
"g=32.2 //ft/s^2\n",
"//Calculations\n",
"//Mass flow reate without time\n",
"m=(1/4)*%pi*d^2*v*(62.4/g) \n",
"//Let P=force of plate on mass m of water\n",
"P=m*(0-v) //lb\n",
"//Result\n",
"clc\n",
"printf('The force water exerts on the plate is %f lb',-P ) "
   ]
   }
,
{
		   "cell_type": "markdown",
		   "metadata": {},
		   "source": [
			"## Example 18.26: Imp.sce"
		   ]
		  },
  {
"cell_type": "code",
	   "execution_count": null,
	   "metadata": {
	    "collapsed": true
	   },
	   "outputs": [],
"source": [
"//Initilization of variables\n",
"v1=20 //ft/s\n",
"vw=80 //ft/s\n",
"d=2/12 //ft\n",
"g=32.2 //ft/s^2\n",
"//Calculations\n",
"v=vw-v1 //ft/s\n",
"//mass flow rate without t\n",
"m=(1/4)*(%pi*d^2)*(62.4/g)*v\n",
"//Applying impulse momentum theorem\n",
"P=m*v //lb\n",
"//Result\n",
"clc\n",
"printf('The force exerted by water on the plate is %f lb',P)"
   ]
   }
,
{
		   "cell_type": "markdown",
		   "metadata": {},
		   "source": [
			"## Example 18.27: Imp.sce"
		   ]
		  },
  {
"cell_type": "code",
	   "execution_count": null,
	   "metadata": {
	    "collapsed": true
	   },
	   "outputs": [],
"source": [
"//Initilisation of variables\n",
"W=150 //lb\n",
"v=20 //ft/s\n",
"A=0.2 //in^2\n",
"t=60 //s\n",
"g=32.2 //ft/s^2\n",
"//Calculations\n",
"//Mass flow\n",
"m=(A/12^2)*v*(62.4/g)\n",
"//Force\n",
"F=m*(0-v) //lb\n",
"//At t=60s the tank holds\n",
"Ww=(A/12^2)*v*t*62.4 //lb\n",
"//Total reading on scale\n",
"S=-F+W+Ww //lb\n",
"//Result\n",
"clc\n",
"printf('The scale reading is %f lb',S)"
   ]
   }
,
{
		   "cell_type": "markdown",
		   "metadata": {},
		   "source": [
			"## Example 18.28: Imp.sce"
		   ]
		  },
  {
"cell_type": "code",
	   "execution_count": null,
	   "metadata": {
	    "collapsed": true
	   },
	   "outputs": [],
"source": [
"//Initilisation of variables\n",
"W=150 //lb\n",
"v=20 //ft/s\n",
"A=0.2 //in^2\n",
"t=60 //s\n",
"g=32.2 //ft/s^2\n",
"//Calculations\n",
"//Mass flow\n",
"m=(A/12^2)*v*(62.4/g)\n",
"//Force\n",
"F=m*(0-v) //lb\n",
"//At t=60s the tank holds\n",
"Ww=(A/12^2)*v*t*62.4 //lb\n",
"//Total reading on scale\n",
"S=-F+W+Ww //lb\n",
"//Result\n",
"clc\n",
"printf('The scale reading is %f lb',S)"
   ]
   }
,
{
		   "cell_type": "markdown",
		   "metadata": {},
		   "source": [
			"## Example 18.29: Imp.sce"
		   ]
		  },
  {
"cell_type": "code",
	   "execution_count": null,
	   "metadata": {
	    "collapsed": true
	   },
	   "outputs": [],
"source": [
"//Initilization of variables\n",
"Wp=130 //lb\n",
"Wb=150 //lb\n",
"Wbullet=2/16 //lb\n",
"g=32.2 //ft/s^2\n",
"vbullet=1200 //ft/s\n",
"//Calculations\n",
"v=((-Wbullet/g)*vbullet)/((Wb+Wp)/g) //ft/s\n",
"//Result\n",
"clc\n",
"printf('The speed of the boat is %f ft/s',v)\n",
"//Negative sign indicates direction opposite to that of bullet"
   ]
   }
,
{
		   "cell_type": "markdown",
		   "metadata": {},
		   "source": [
			"## Example 18.30: Imp.sce"
		   ]
		  },
  {
"cell_type": "code",
	   "execution_count": null,
	   "metadata": {
	    "collapsed": true
	   },
	   "outputs": [],
"source": [
"//Initilization of variables\n",
"mb=0.06 //kg\n",
"ms=50 //kg\n",
"h=0.03 //m\n",
"g=9.8 //m/s^2\n",
"//Calculations\n",
"//Speed of bag+bullet\n",
"v2=sqrt(2*g*h) //m/s\n",
"//Applying conservation of momentum \n",
"v1=((mb+ms)*v2)/mb //m/s\n",
"//Result\n",
"clc\n",
"printf('The speed of bullet as it entered the bag was %f m/s',v1)"
   ]
   }
,
{
		   "cell_type": "markdown",
		   "metadata": {},
		   "source": [
			"## Example 18.32: Imp.sce"
		   ]
		  },
  {
"cell_type": "code",
	   "execution_count": null,
	   "metadata": {
	    "collapsed": true
	   },
	   "outputs": [],
"source": [
"//Initilization of variables\n",
"mb=0.06 //kg\n",
"vb=500 //m/s\n",
"mblock=5 //kg\n",
"vblock=30 //m/s\n",
"//Calculations\n",
"//Applying conservation of momentum\n",
"v=(mb*vb+mblock*vblock)/(mb+mblock) //m/s\n",
"//Result\n",
"clc\n",
"printf('The speed of the system is %f m/s',v)"
   ]
   }
,
{
		   "cell_type": "markdown",
		   "metadata": {},
		   "source": [
			"## Example 18.33: Imp.sce"
		   ]
		  },
  {
"cell_type": "code",
	   "execution_count": null,
	   "metadata": {
	    "collapsed": true
	   },
	   "outputs": [],
"source": [
"//Initilization Of Variables\n",
"W1=2 //lb\n",
"W2=3 //lb\n",
"a=0 //Lower Limit oF the Integral\n",
"b=2 //Upper Limit of the Integral\n",
"n=10 //Interval of the integral\n",
"k=12/12 //lb/ft\n",
"g=32.2 //ft/s^2\n",
"//Calculation\n",
"//Work Done by the spring\n",
"//Using Trapezoidal Rule for Intergration \n",
"function[I1]=Trap_Composite1(f,a,b,n)\n",
"    h=(b-a)/n\n",
"    t=linspace(a,b,n+1)\n",
"    I1=(h/2)*((2*sum(f(t)))-f(t(1))-f(t(n+1)))\n",
"endfunction\n",
"deff('[y]=f(t)','y=k*(2-t)') \n",
"W=Trap_Composite1(f,a,b,n) //ft-lb\n",
"//Solving the simultaneous equations\n",
"v3=sqrt(W/(0.5*(W2/g)+0.5*(W1/g)*(-W2/W1)^2)) //ft/s\n",
"v2=-(W2/W1)*v3 //ft/s\n",
"//Result\n",
"clc\n",
"printf('The speed of 2lb block is %f ft/s and that of 3lb block is %f ft/s',v2,v3) "
   ]
   }
,
{
		   "cell_type": "markdown",
		   "metadata": {},
		   "source": [
			"## Example 18.34: Imp.sce"
		   ]
		  },
  {
"cell_type": "code",
	   "execution_count": null,
	   "metadata": {
	    "collapsed": true
	   },
	   "outputs": [],
"source": [
"//Initilization of variables\n",
"//Here the integration is indefinite hence it will be computed manually and entered\n",
"W=10 //lb\n",
"l=4 //ft\n",
"w=2 //rad/s\n",
"g=32.2 //ft/s^2\n",
"//Calculations\n",
"//Part (a)\n",
"wf=1.5 //rad/s\n",
"t=sqrt(((W/g)*(l*w*l))-((W/g)*(l*wf*l))) //s\n",
"//Part (b)\n",
"//Applying conservation of angular momentum\n",
"r=((W/g)*l*wf*l)/((W/g)*l*w) //ft\n",
"//Result\n",
"clc\n",
"printf('The answer for part (a) is %f s\n and the answer for part (b) is %f ft',t,r) "
   ]
   }
,
{
		   "cell_type": "markdown",
		   "metadata": {},
		   "source": [
			"## Example 18.35: Imp.sce"
		   ]
		  },
  {
"cell_type": "code",
	   "execution_count": null,
	   "metadata": {
	    "collapsed": true
	   },
	   "outputs": [],
"source": [
"//Initilization of variables\n",
"W=2.5 //lb\n",
"w=36 //rad/s\n",
"Idisk=0.4 //slug-ft^2\n",
"g=32.2 //ft/s^2\n",
"//Calculations\n",
"Ii=Idisk+(2*(W/g)*(3/12)^2) //slug-ft^2\n",
"If=Idisk+(2*(W/g)*(11/12)^2) //slug-ft^2\n",
"//Since no external moments act\n",
"//Applying conservation of momentum\n",
"wf=(Ii*w)/If //rad/s\n",
"//Result\n",
"clc\n",
"printf('The final angular speed is %f rad/s',wf)"
   ]
   }
,
{
		   "cell_type": "markdown",
		   "metadata": {},
		   "source": [
			"## Example 18.39: Imp.sce"
		   ]
		  },
  {
"cell_type": "code",
	   "execution_count": null,
	   "metadata": {
	    "collapsed": true
	   },
	   "outputs": [],
"source": [
"//Initilization of variables\n",
"u1=6 //ft/s\n",
"u2=-8 //ft/s\n",
"e=0.8 //coefficient of restitution\n",
"//Calculations\n",
"//Solving both simultaneous equations\n",
"A=[1,-1;1,1]\n",
"B=[11.2;-2]\n",
"C=inv(A)*B //ft/s\n",
"//Result\n",
"clc\n",
"printf('The velocities are v1=%f ft/s and v2=%f ft/s',C(2),C(1)) "
   ]
   }
,
{
		   "cell_type": "markdown",
		   "metadata": {},
		   "source": [
			"## Example 18.40: Imp.sce"
		   ]
		  },
  {
"cell_type": "code",
	   "execution_count": null,
	   "metadata": {
	    "collapsed": true
	   },
	   "outputs": [],
"source": [
"//Initilization of variables\n",
"h1=20 //m\n",
"h2=14 //m\n",
"g=9.8 //m/s^2\n",
"//Calculations\n",
"u1=sqrt(2*g*h1) //m/s\n",
"u2=0 //m/s\n",
"v1=-sqrt(2*g*h2) //m/s\n",
"v2=0 //m/s\n",
"e=(v2-v1)/(u1-u2) //coefficient of restitution\n",
"//Result\n",
"clc\n",
"printf('The value of coefficient of restitution is %f',e)"
   ]
   }
,
{
		   "cell_type": "markdown",
		   "metadata": {},
		   "source": [
			"## Example 18.41: Imp.sce"
		   ]
		  },
  {
"cell_type": "code",
	   "execution_count": null,
	   "metadata": {
	    "collapsed": true
	   },
	   "outputs": [],
"source": [
"//Initilization of variables\n",
"u=6.55 //ft/s\n",
"g=32.2 //ft/s^2\n",
"L=6 //ft\n",
"W=5 //lb\n",
"c=0.7 //fraction of impulse acting in second phase\n",
"//Calculations\n",
"//Impulse\n",
"I=(W/g)*(u/3) //N.s\n",
"//Second Phase\n",
"v=(u*2-(c*(W*u*(1/3)))) //ft/s\n",
"wprime=(1.09*60+c*(W*u*(1/3)*6))/60 //rad/s\n",
"//Result\n",
"clc\n",
"printf('The value of v=%f ft/s and that of w is %f rad/s',v,wprime)\n",
"//The value of w is incorrect in the textbook"
   ]
   }
,
{
		   "cell_type": "markdown",
		   "metadata": {},
		   "source": [
			"## Example 18.42: Imp.sce"
		   ]
		  },
  {
"cell_type": "code",
	   "execution_count": null,
	   "metadata": {
	    "collapsed": true
	   },
	   "outputs": [],
"source": [
"//Initilization of variables\n",
"m1=9 //kg\n",
"m2=5.5 //kg\n",
"u1=-3 //m/s\n",
"u2=1.77 //m/s\n",
"e=0.8 //coefficient of restitution\n",
"//Calculations\n",
"//Solving by matrix method after we get the two equations\n",
"A=[-1,1;m1,m2]\n",
"B=[(e*u1-e*u2);m1*u1+m2*u2]\n",
"C=inv(A)*B //m/s\n",
"//Result\n",
"clc\n",
"printf('The 9kg ball will rebound up the speed of %f m/s\n and the 5.5kg ball will move to the right and down \nwith components of %f m/s and %f m/s respectively',C(1),u2,-C(2))"
   ]
   }
,
{
		   "cell_type": "markdown",
		   "metadata": {},
		   "source": [
			"## Example 18.46: Imp.sce"
		   ]
		  },
  {
"cell_type": "code",
	   "execution_count": null,
	   "metadata": {
	    "collapsed": true
	   },
	   "outputs": [],
"source": [
"//Initilization of variables\n",
"v=4 //m/s\n",
"m=9 //kg\n",
"s=1.5 //m\n",
"//Calculations\n",
"Io=(2/3)*(m*s^2) //kg.m\n",
"w=(m*v*s*0.5)/Io //rad/s\n",
"//Result\n",
"clc\n",
"printf('The angular velocity of the box is %i rad/s',w)"
   ]
   }
,
{
		   "cell_type": "markdown",
		   "metadata": {},
		   "source": [
			"## Example 18.48: Imp.sce"
		   ]
		  },
  {
"cell_type": "code",
	   "execution_count": null,
	   "metadata": {
	    "collapsed": true
	   },
	   "outputs": [],
"source": [
"//Initilization of variables\n",
"m=2000 //kg\n",
"mf=8500 //kg\n",
"vr=2000 //m/s\n",
"a=9.8 //m/s^2\n",
"//Calculations\n",
"//Applying Newtons Second Law\n",
"dm_dt=-(-((m+mf)*a)-(m+mf)*a)/(-vr) //kg/s\n",
"//Result\n",
"clc\n",
"printf('dm/dt=%f kg/s',dm_dt)\n",
"//The negative sign indicates the loss in the mass of the system"
   ]
   }
,
{
		   "cell_type": "markdown",
		   "metadata": {},
		   "source": [
			"## Example 18.50: Imp.sce"
		   ]
		  },
  {
"cell_type": "code",
	   "execution_count": null,
	   "metadata": {
	    "collapsed": true
	   },
	   "outputs": [],
"source": [
"//Initilization of variables\n",
"W=4000 //lb\n",
"k=3 //ft\n",
"wp=(1/60)*2*%pi //rad/s\n",
"ws=(300/60)*2*%pi //rad/s\n",
"d=3.5 //ft\n",
"g=32.2 //ft/s^2\n",
"//Calculations\n",
"I=(W/g)*k^2 //slug-ft^2\n",
"M=I*ws*wp //lb-ft\n",
"//Now equating M to Rf-Rr gives one equations and vertical sum yields other\n",
"//solving them by matrix method\n",
"A=[1,-1;1,1]\n",
"B=[M*(2/d);W]\n",
"C=inv(A)*B //lb\n",
"//Result\n",
"clc\n",
"printf('The weight of Rf and Rr are %f lb and %f lb respectively',C(1),C(2)) "
   ]
   }
,
{
		   "cell_type": "markdown",
		   "metadata": {},
		   "source": [
			"## Example 18.51: Imp.sce"
		   ]
		  },
  {
"cell_type": "code",
	   "execution_count": null,
	   "metadata": {
	    "collapsed": true
	   },
	   "outputs": [],
"source": [
"//As the integration is indefinite we will directly consider the equation with R\n",
"//Initillization of variables\n",
"GM=1.41*10^16 //ft^3/s^2\n",
"r=2640000 //ft\n",
"theta=60 //degrees\n",
"R=21120000 //ft\n",
"//Calculations\n",
"v1=sqrt((GM*((1/R)-(1/(R+r))))/2.031) //ft/s\n",
"//Result\n",
"clc\n",
"printf('The speed required will be %f ft/s',v1)"
   ]
   }
,
{
		   "cell_type": "markdown",
		   "metadata": {},
		   "source": [
			"## Example 18.52: Imp.sce"
		   ]
		  },
  {
"cell_type": "code",
	   "execution_count": null,
	   "metadata": {
	    "collapsed": true
	   },
	   "outputs": [],
"source": [
"//Initilization of variables\n",
"k=4 //lb/ft\n",
"so=1 //ft\n",
"W=1/2 //lb\n",
"g=32.2 //ft/s^2\n",
"vo=5 //ft/s\n",
"//Calculations\n",
"m=W/g //kg\n",
"//Angular momentum is conserved\n",
"v=sqrt((0.5*k*so^2*2*2*g)+vo^2) //ft/s\n",
"//Using vd=15\n",
"d=15/v //ft\n",
"//Result\n",
"clc\n",
"printf('The ball passes %f ft close to the fixed pin',d)"
   ]
   }
,
{
		   "cell_type": "markdown",
		   "metadata": {},
		   "source": [
			"## Example 18.8: Imp.sce"
		   ]
		  },
  {
"cell_type": "code",
	   "execution_count": null,
	   "metadata": {
	    "collapsed": true
	   },
	   "outputs": [],
"source": [
"//Initilization of variables\n",
"W=100 //lb\n",
"u=0.2 //coefficient of friction\n",
"t=5 //s\n",
"v1=5 //ft/s\n",
"v2=10 //ft/s\n",
"g=32.2 //ft/s^2\n",
"ll=0 //lower limit of integration\n",
"ul=5 //upper limit of integration\n",
"//Calculations\n",
"Fr=u*W //lb\n",
"//Using The impulse momentum theorem\n",
"//Since the integration is just subtraction of limits we can skip that\n",
"F=((W/g)*v2-(W/g)*v1+Fr*ul)/ul //lb\n",
"//Result\n",
"clc\n",
"printf('The Force is %f lb',F)"
   ]
   }
,
{
		   "cell_type": "markdown",
		   "metadata": {},
		   "source": [
			"## Example 18.9: Imp.sce"
		   ]
		  },
  {
"cell_type": "code",
	   "execution_count": null,
	   "metadata": {
	    "collapsed": true
	   },
	   "outputs": [],
"source": [
"//Initilization of variables\n",
"m=10 //kg\n",
"theta=30 //degrees\n",
"u=0.3 //coefficient of kinetic friction\n",
"t=5 //s\n",
"g=9.8 //m/s^2\n",
"//Calculations\n",
"//Asthere is no motion in the vertical direction \n",
"//Summing forces along vertical direction\n",
"Na=m*g*cosd(theta) //N\n",
"//Using impulse momentum theorem\n",
"vx=(m*g*sind(theta)-u*Na)*(t/m) //m/s\n",
"//Result\n",
"clc\n",
"printf('The spedd after 5s is %f m/s',vx)"
   ]
   }
],
"metadata": {
		  "kernelspec": {
		   "display_name": "Scilab",
		   "language": "scilab",
		   "name": "scilab"
		  },
		  "language_info": {
		   "file_extension": ".sce",
		   "help_links": [
			{
			 "text": "MetaKernel Magics",
			 "url": "https://github.com/calysto/metakernel/blob/master/metakernel/magics/README.md"
			}
		   ],
		   "mimetype": "text/x-octave",
		   "name": "scilab",
		   "version": "0.7.1"
		  }
		 },
		 "nbformat": 4,
		 "nbformat_minor": 0
}
