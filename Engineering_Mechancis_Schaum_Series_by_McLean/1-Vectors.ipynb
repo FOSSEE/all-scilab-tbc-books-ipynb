{
"cells": [
 {
		   "cell_type": "markdown",
	   "metadata": {},
	   "source": [
       "# Chapter 1: Vectors"
	   ]
	},
{
		   "cell_type": "markdown",
		   "metadata": {},
		   "source": [
			"## Example 1.10: Vectors.sce"
		   ]
		  },
  {
"cell_type": "code",
	   "execution_count": null,
	   "metadata": {
	    "collapsed": true
	   },
	   "outputs": [],
"source": [
"//Initilization of variables\n",
"x=4 //m\n",
"y=3 //m\n",
"z=2 //m\n",
"F=50 //N\n",
"//Calculations\n",
"OP=sqrt(x^2+y^2+z^2) //m\n",
"thetax=(x/OP) //radians\n",
"thetay=(y/OP) //Radians\n",
"thetaz=(z/OP) //radians\n",
"P_x=F*(thetax) //N\n",
"P_y=F*(thetay) //N\n",
"P_z=F*(thetaz) //N\n",
"//Result\n",
"clc\n",
"printf('The vector P is:%fi+%fj+%fk N',P_x,P_y,P_z) //N"
   ]
   }
,
{
		   "cell_type": "markdown",
		   "metadata": {},
		   "source": [
			"## Example 1.11: Vectors.sce"
		   ]
		  },
  {
"cell_type": "code",
	   "execution_count": null,
	   "metadata": {
	    "collapsed": true
	   },
	   "outputs": [],
"source": [
"//Initilization of variables\n",
"x=2 \n",
"y=-4\n",
"z=1\n",
"F=100 //N\n",
"//Calculation\n",
"thetax=x/sqrt(x^2+y^2+z^2) //radians\n",
"thetay=y/sqrt(x^2+y^2+z^2) //radians\n",
"thetaz=z/sqrt(x^2+y^2+z^2) //radians\n",
"P_x=F*thetax //N\n",
"P_y=F*thetay //N\n",
"P_z=F*thetaz //N\n",
"//Result\n",
"clc\n",
"printf('The vector P is:%fi%fj+%fk N',P_x,P_y,P_z) //N"
   ]
   }
,
{
		   "cell_type": "markdown",
		   "metadata": {},
		   "source": [
			"## Example 1.13: Vectors.sce"
		   ]
		  },
  {
"cell_type": "code",
	   "execution_count": null,
	   "metadata": {
	    "collapsed": true
	   },
	   "outputs": [],
"source": [
"//Initilization of variables\n",
"Fx=2.63 //N\n",
"Fy=4.28 //N\n",
"Fz=-5.92 //N\n",
"//Calculation\n",
"F=sqrt(Fx^2+Fy^2+Fz^2) //N\n",
"thetax=((acos(Fx/F))*180)/%pi //degrees\n",
"thetay=((acos(Fy/F))*180)/%pi //degrees\n",
"thetaz=((acos(Fz/F))*180)/%pi //degrees\n",
"//Result\n",
"clc\n",
"printf('The magnitude of force is:%f N \n',F) //N\n",
"printf('Thetax:%f degrees\n',thetax) //degrees\n",
"printf('Thetay:%f degrees\n',thetay) //degrees\n",
"printf('Thetaz:%f degrees',thetaz) //degrees"
   ]
   }
,
{
		   "cell_type": "markdown",
		   "metadata": {},
		   "source": [
			"## Example 1.14: Vectors.sce"
		   ]
		  },
  {
"cell_type": "code",
	   "execution_count": null,
	   "metadata": {
	    "collapsed": true
	   },
	   "outputs": [],
"source": [
"//Initilization of variables\n",
"P=[4.82, -2.33, 5.47] //N\n",
"Q=[-2.81,-6.09,1.12 ] //m\n",
"//Calculations\n",
"M=P*Q' //Nm\n",
"//Results\n",
"clc\n",
"printf('Result is:%f N.m',M) //N-m"
   ]
   }
,
{
		   "cell_type": "markdown",
		   "metadata": {},
		   "source": [
			"## Example 1.15: Vectors.sce"
		   ]
		  },
  {
"cell_type": "code",
	   "execution_count": null,
	   "metadata": {
	    "collapsed": true
	   },
	   "outputs": [],
"source": [
"//Initilization of variables\n",
"x1=2 //units\n",
"x2=-2 //units\n",
"y1=3 //units\n",
"y2=4 //units\n",
"z1=0 //units\n",
"z2=6 //units\n",
"P=[2,3,-1] //units\n",
"//Calculations\n",
"X=sqrt((x2-x1)^2+(y2-y1)^2+(z2-z1)^2) //units\n",
"eLx=(x2-x1)/X //units\n",
"eLy=(y2-y1)/X //units\n",
"eLz=(z2-z1)/X //units\n",
"Q=[eLx,eLy,eLz] //units\n",
"Z=P*Q' //units\n",
"//Result\n",
"clc\n",
"printf('The unit vector is:%fi+%fj+%fk \n',eLx,eLy,eLz)\n",
"printf('The projection of P is:%f',Z)\n",
"//Note:The final answer for the projection of P is off by 0.1 units\n",
"//The answer mentioned in the textbook is -1.41"
   ]
   }
,
{
		   "cell_type": "markdown",
		   "metadata": {},
		   "source": [
			"## Example 1.16: Vectors.sce"
		   ]
		  },
  {
"cell_type": "code",
	   "execution_count": null,
	   "metadata": {
	    "collapsed": true
	   },
	   "outputs": [],
"source": [
"//Initilization of variables\n",
"x1=2 //units\n",
"x2=5 //units\n",
"y1=-5 //units\n",
"y2=2 //units\n",
"z1=3 //units\n",
"z2=-4 //units\n",
"P=[10,-8,14] //units\n",
"//Calculations\n",
"X=sqrt((x2-x1)^2+(y2-y1)^2+(z2-z1)^2) //units\n",
"eLx=(x2-x1)/X //units\n",
"eLy=(y2-y1)/X //units\n",
"eLz=(z2-z1)/X //units\n",
"Q=[eLx,eLy,eLz] //units\n",
"Z=P*Q' //units\n",
"//Result\n",
"clc\n",
"printf('The unit vector is:%fi+%fj%fk \n',eLx,eLy,eLz) \n",
"printf('The projection of P is:%f lb',Z) //lb"
   ]
   }
,
{
		   "cell_type": "markdown",
		   "metadata": {},
		   "source": [
			"## Example 1.17: Vectors.sce"
		   ]
		  },
  {
"cell_type": "code",
	   "execution_count": null,
	   "metadata": {
	    "collapsed": true
	   },
	   "outputs": [],
"source": [
"Px=2.85 //ft\n",
"Py=4.67 //ft\n",
"Pz=-8.09 //ft\n",
"Qx=28.3 //lb\n",
"Qy=44.6 //lb\n",
"Qz=53.3 //lb\n",
"//Calculations\n",
"X=(Py*Qz-Pz*Qy) //N.m \n",
"Y=(Pz*Qx-Px*Qz) //N.m\n",
"Z=(Px*Qy-Py*Qx) //N.m\n",
"//Result\n",
"clc\n",
"printf('The cross product is:%fi%fj%fk lb-ft',X,Y,Z) //lb-ft"
   ]
   }
,
{
		   "cell_type": "markdown",
		   "metadata": {},
		   "source": [
			"## Example 1.19: Vectors.sce"
		   ]
		  },
  {
"cell_type": "code",
	   "execution_count": null,
	   "metadata": {
	    "collapsed": true
	   },
	   "outputs": [],
"source": [
"//Initilization Of Variables\n",
"a=1 //Lower Limit oF the Integral\n",
"b=3 //Upper Limit of the Integral\n",
"n=10 //Interval of the integral\n",
"//Calculation\n",
"//Using Trapezoidal Rule for Intergration \n",
"function[I1]=Trap_Composite1(f,a,b,n)\n",
"    h=(b-a)/n\n",
"    t=linspace(a,b,n+1)\n",
"    I1=(h/2)*((2*sum(f(t)))-f(t(1))-f(t(n+1)))\n",
"endfunction\n",
"deff('[y]=f(t)','y=t^2')\n",
"function[I2]=Trap_Composite2(f1,a,b,n)\n",
"    h=(b-a)/n\n",
"    t=linspace(a,b,n+1)\n",
"    I2=(h/2)*((2*sum(f1(t)))-f1(t(1))-f1(t(n+1)))\n",
"endfunction\n",
"deff('[y1]=f1(t)','y1=t*2')\n",
"z=b-a\n",
"//Result\n",
"clc\n",
"printf('%fi+%fj%fk',Trap_Composite1(f,a,b,n),Trap_Composite2(f1,a,b,n),-z) \n",
""
   ]
   }
,
{
		   "cell_type": "markdown",
		   "metadata": {},
		   "source": [
			"## Example 1.1: Vectors.sce"
		   ]
		  },
  {
"cell_type": "code",
	   "execution_count": null,
	   "metadata": {
	    "collapsed": true
	   },
	   "outputs": [],
"source": [
"//Initialisation of Variables\n",
"f1=120 //lb\n",
"f2=100 //lb\n",
"theta=((60*%pi)/180) //radians\n",
"//Calculations\n",
"R=sqrt(120^2+100^2-(2*120*100*cos(theta))) //Applying Thr rule of Cosines\n",
"alpha1=(((asin(120*sin(theta)/111))*180)/%pi) //Applying the Law of Sines\n",
"alpha=alpha1+270 //As the vector lies in the fourth Quadrant by obsrevaton\n",
"//Results\n",
"clc\n",
"printf('The Resultant of The force system is equal to:%f N\n ',R ) //lb\n",
"printf('The Resultant is at:%f degrees',alpha) //degrees\n",
""
   ]
   }
,
{
		   "cell_type": "markdown",
		   "metadata": {},
		   "source": [
			"## Example 1.2: Vectors.sce"
		   ]
		  },
  {
"cell_type": "code",
	   "execution_count": null,
	   "metadata": {
	    "collapsed": true
	   },
	   "outputs": [],
"source": [
"//Initilization of variables\n",
"P=100 //lb\n",
"Q=120 //lb\n",
"theta=((30*%pi)/180) //radians\n",
"//Calculations\n",
"R_x=Q*cos(theta) //lb\n",
"R_y=Q*sin(theta)-P //lb\n",
"R=sqrt(R_x^2+R_y^2) //lb Triangle law\n",
"Theta_1=((atan(R_y/R_x))*180)/%pi //degrees\n",
"Theta_R=360+Theta_1 //degrees\n",
"//Result\n",
"clc\n",
"printf('The resultant of the force system is:%f N\n',R) //lb\n",
"printf('The resultant is at:%f degrees',Theta_R) //Degrees"
   ]
   }
,
{
		   "cell_type": "markdown",
		   "metadata": {},
		   "source": [
			"## Example 1.3: Vectors.sce"
		   ]
		  },
  {
"cell_type": "code",
	   "execution_count": null,
	   "metadata": {
	    "collapsed": true
	   },
	   "outputs": [],
"source": [
"//Initialization of variables\n",
"R=400 // N\n",
"F2=200 //N\n",
"Theta1=((120*%pi)/180) //radians\n",
"Theta2=((20*%pi)/180) //radians\n",
"Theta=Theta1-Theta2 //radians\n",
"//Calculation\n",
"F=sqrt(R^2+F2^2-(2*R*F2*cos(Theta))) //N Applying the Rule of Cosine\n",
"Theta_r=asin((400*sin(Theta))/F) //radians Applying the rule of sines\n",
"Theta_R=(Theta_r*180)/%pi\n",
"//Result\n",
"clc\n",
"printf('The resultant of the force system is:%f N \n',F) //N\n",
"printf('The Angle between F and 200N force is :%f degrees \n',Theta_R) //degrees\n",
"\n",
""
   ]
   }
,
{
		   "cell_type": "markdown",
		   "metadata": {},
		   "source": [
			"## Example 1.4: Vectors.sce"
		   ]
		  },
  {
"cell_type": "code",
	   "execution_count": null,
	   "metadata": {
	    "collapsed": true
	   },
	   "outputs": [],
"source": [
"//Initilization of variables\n",
"F1=280 //N\n",
"F2=130 //N\n",
"Theta1=((320*%pi)/180) //Radians\n",
"Theta2=((60*%pi)/180) //Radians\n",
"//Calculations\n",
"R_x=-F1*cos(Theta1)+F2*cos(Theta2) //N\n",
"R_y=F1*sin(Theta1)-F2*sin(Theta2) //N\n",
"R=sqrt(R_x^2+R_y^2) //N Applying Triangle Law\n",
"ThetaR=atan(R_y/R_x) //radians\n",
"Theta_R=360-(ThetaR*180/%pi) //degrees\n",
"//Result\n",
"clc\n",
"printf('The resultant of the force system is:%f N\n',R) //N\n",
"printf('The resultant is at:%f degrees',Theta_R) //degrees\n",
"//The decimal point accuracy causes discrepancy in answers"
   ]
   }
,
{
		   "cell_type": "markdown",
		   "metadata": {},
		   "source": [
			"## Example 1.5: Vectors.sce"
		   ]
		  },
  {
"cell_type": "code",
	   "execution_count": null,
	   "metadata": {
	    "collapsed": true
	   },
	   "outputs": [],
"source": [
"//Initialization of variables\n",
"F1=26 //lb\n",
"F2=39 //lb\n",
"F3=63 //lb\n",
"F4=57 //lb\n",
"T1=((10*%pi)/180)//Radians\n",
"T2=((114*%pi)/180)//Radians\n",
"T3=((183*%pi)/180) //radians\n",
"T4=((261*%pi)/180) //radians\n",
"//Calculations\n",
"R_x=F1*cos(T1)+F2*cos(T2)+F3*cos(T3)+F4*cos(T4) //lb Resolving vectors\n",
"R_y=F1*sin(T1)+F2*sin(T2)+F3*sin(T3)+F4*sin(T4) //lb resolving vectors\n",
"R=sqrt(R_x^2+R_y^2) //lb Applying Triangle Law\n",
"theta=atan(R_y/R_x)//radians\n",
"Theta=theta*180/%pi //degrees\n",
"Theta_R=180+Theta\n",
"//Results\n",
"clc\n",
"printf('The Resultant of the force system is:%f lb\n',R) //lb\n",
"printf('The resultant is at:%f degrees',Theta_R) //degrees\n",
""
   ]
   }
,
{
		   "cell_type": "markdown",
		   "metadata": {},
		   "source": [
			"## Example 1.6: Vectors.sce"
		   ]
		  },
  {
"cell_type": "code",
	   "execution_count": null,
	   "metadata": {
	    "collapsed": true
	   },
	   "outputs": [],
"source": [
"//Initilization of variables\n",
"F=10 //lb\n",
"theta1=((60*%pi)/180) //radians\n",
"theta2=((45*%pi)/180) //radians\n",
"theta=theta1-theta2 //radians\n",
"//Calculation\n",
"F_OH=F/cos(theta) //lb resolving vectors\n",
"//Result\n",
"clc\n",
"printf('The component of F in the direction of OH is:%f lb',F_OH) //lb"
   ]
   }
,
{
		   "cell_type": "markdown",
		   "metadata": {},
		   "source": [
			"## Example 1.7: Vectors.sce"
		   ]
		  },
  {
"cell_type": "code",
	   "execution_count": null,
	   "metadata": {
	    "collapsed": true
	   },
	   "outputs": [],
"source": [
"//Initilization of variables\n",
"weight=80 //kg\n",
"theta=((20*%pi)/180) //radians\n",
"theta_p=((70*%pi)/180)\n",
"//Calcuations\n",
"//Part (a)\n",
"F=weight*9.81 //N\n",
"R=F*cos(theta) //N\n",
"//part (b)\n",
"R_p=F*cos(theta_p) //N\n",
"//Result\n",
"clc\n",
"printf('The normal component is:%f N \n',R) //N\n",
"printf('The parallel component is:%f N',R_p) //N"
   ]
   }
,
{
		   "cell_type": "markdown",
		   "metadata": {},
		   "source": [
			"## Example 1.8: Vectors.sce"
		   ]
		  },
  {
"cell_type": "code",
	   "execution_count": null,
	   "metadata": {
	    "collapsed": true
	   },
	   "outputs": [],
"source": [
"//Initilization of variables\n",
"P=235 //N\n",
"theta=((60*%pi)/180) //radians\n",
"bet=((22*%pi)/180) //radians\n",
"gam=((38*%pi)/180) //radians\n",
"//Calculations\n",
"//Part (a)\n",
"P_h=P*cos(theta) //N\n",
"P_v=P*sin(theta) //N\n",
"//Part (b)\n",
"P_l=P*cos(theta-bet) //N\n",
"P_p=P*sin(gam) //N\n",
"//Result\n",
"clc\n",
"printf('The horizontal component is:%f N\n',P_h) //N\n",
"printf('The vertical component is:%f N\n',P_v) //N\n",
"printf('The component parallel to plane is:%f N\n',P_l) //N\n",
"printf('The component perpendicular to the plane is:%f N',P_p) //N\n",
"//The decimal point accurasy might cause a small discrepancy in the answers"
   ]
   }
,
{
		   "cell_type": "markdown",
		   "metadata": {},
		   "source": [
			"## Example 1.9: Vectors.sce"
		   ]
		  },
  {
"cell_type": "code",
	   "execution_count": null,
	   "metadata": {
	    "collapsed": true
	   },
	   "outputs": [],
"source": [
"//Initilization of variables\n",
"F1=90 //lb\n",
"theta1=((40*%pi)/180) //radians\n",
"theta2=((30*%pi)/180) //radians\n",
"//Calculations\n",
"R_x=0 //lb\n",
"R_y=20 //lb\n",
"//Taking the sum of forces in the X-Direction\n",
"P=((F1*cos(theta1))/cos(theta2)) //lb\n",
"//Taking the sum of the forces in the Y-Direction\n",
"F=(P*sin(theta2))+(F1*sin(theta1))-20 //lb\n",
"//Results\n",
"clc\n",
"printf('The value of P is:%f lb\n',P) //lb\n",
"printf('The value of F is:%f lb',F) //lb"
   ]
   }
],
"metadata": {
		  "kernelspec": {
		   "display_name": "Scilab",
		   "language": "scilab",
		   "name": "scilab"
		  },
		  "language_info": {
		   "file_extension": ".sce",
		   "help_links": [
			{
			 "text": "MetaKernel Magics",
			 "url": "https://github.com/calysto/metakernel/blob/master/metakernel/magics/README.md"
			}
		   ],
		   "mimetype": "text/x-octave",
		   "name": "scilab",
		   "version": "0.7.1"
		  }
		 },
		 "nbformat": 4,
		 "nbformat_minor": 0
}
