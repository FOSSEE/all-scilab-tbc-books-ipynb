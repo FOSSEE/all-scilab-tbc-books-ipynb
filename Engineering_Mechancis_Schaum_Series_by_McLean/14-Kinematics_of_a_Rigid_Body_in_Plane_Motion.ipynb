{
"cells": [
 {
		   "cell_type": "markdown",
	   "metadata": {},
	   "source": [
       "# Chapter 14: Kinematics of a Rigid Body in Plane Motion"
	   ]
	},
{
		   "cell_type": "markdown",
		   "metadata": {},
		   "source": [
			"## Example 14.10: Kin_of_rig_body_in_PM.sce"
		   ]
		  },
  {
"cell_type": "code",
	   "execution_count": null,
	   "metadata": {
	    "collapsed": true
	   },
	   "outputs": [],
"source": [
"//Initilization of variables\n",
"w=(2*%pi*120)/60 //rad/s\n",
"l=24 //in\n",
"l_c=4 //in\n",
"th=30 //degrees\n",
"//Calculations\n",
"v=(l_c/12)*w //ft/s\n",
"betaa=asind((l_c*sind(th))/l) //degrees\n",
"theta=60-betaa //degrees\n",
"//Component of velocity along connecting rod is \n",
"v1=v*cosd(theta) //ft/s\n",
"v_p=v1/cosd(betaa) //ft/s\n",
"//Result\n",
"clc\n",
"printf('The absoulte velocity is %fft/s',v_p) "
   ]
   }
,
{
		   "cell_type": "markdown",
		   "metadata": {},
		   "source": [
			"## Example 14.13: Kin_of_rig_body_in_PM.sce"
		   ]
		  },
  {
"cell_type": "code",
	   "execution_count": null,
	   "metadata": {
	    "collapsed": true
	   },
	   "outputs": [],
"source": [
"//Initilization of variables\n",
"v_pc=3.68 //ft/s\n",
"l=2 //ft\n",
"//Calculations\n",
"w=v_pc/l //rad/s counterclockwise\n",
"//Result\n",
"clc\n",
"printf('The angular velocity is %frad/s',w)"
   ]
   }
,
{
		   "cell_type": "markdown",
		   "metadata": {},
		   "source": [
			"## Example 14.14: Kin_of_rig_body_in_PM.sce"
		   ]
		  },
  {
"cell_type": "code",
	   "execution_count": null,
	   "metadata": {
	    "collapsed": true
	   },
	   "outputs": [],
"source": [
"//This problem is a combination of numerical and graphical solution\n",
"//The program only deals with the numerical solution parts the rest can be verified by graphical solution\n",
"//Initilization of variables\n",
"r=4/12 //ft\n",
"w=4*%pi //rad/s\n",
"l=2 //ft\n",
"w2=1.84 //rad/s\n",
"//Calculstions\n",
"ac_n=r*w^2 //ft/s^2\n",
"a_pc_n=l*w2^2 //ft/s^2\n",
"//Result\n",
"clc\n",
"printf('The  value of ac_n is %fft/s^2 and that of a_pc_n is %fft/s^2',ac_n,a_pc_n)"
   ]
   }
,
{
		   "cell_type": "markdown",
		   "metadata": {},
		   "source": [
			"## Example 14.15: Kin_of_rig_body_in_PM.sce"
		   ]
		  },
  {
"cell_type": "code",
	   "execution_count": null,
	   "metadata": {
	    "collapsed": true
	   },
	   "outputs": [],
"source": [
"//Initilization of variables\n",
"w_bc=10 //rad/s\n",
"AB=250 //mm\n",
"BC=150 //mm\n",
"AC=179 //mm\n",
"AD=200 //mm\n",
"theta1=45 //degrees\n",
"//Calculations\n",
"v_c=(BC/1000)*w_bc //m/s\n",
"AC=sqrt((AB^2+BC^2)-(2*AB*BC*cosd(theta1))) //m\n",
"betaa=asind((BC*sind(theta1))/AC) //degrees\n",
"gammaa=asind((AB*sind(theta1))/AC)//degrees answer in the textbook is incorrect\n",
"ang=60-betaa //degrees\n",
"CD=sqrt(AD^2+AC^2-(2*AD*AC*cosd(ang))) //mm\n",
"D=asind((AC*sind(ang))/CD) //degrees\n",
"theta=asind((AD*sind(D))/AC) //degrees\n",
"n=360-(theta+gammaa+90) //degrees\n",
"v_cd=v_c*cosd(n) //m/s\n",
"del=180-(90+D) //degrees\n",
"v_D=v_cd/cosd(del) //m/s\n",
"w_AD=v_D/(AD/1000) //rad/s\n",
"//Result\n",
"clc\n",
"printf('The angular Velocity of AD is %frad/s',w_AD ) //Negative sign indicates clockwise orientation \n",
"//Answer in the textbook is incorrect"
   ]
   }
,
{
		   "cell_type": "markdown",
		   "metadata": {},
		   "source": [
			"## Example 14.18: Kin_of_rig_body_in_PM.sce"
		   ]
		  },
  {
"cell_type": "code",
	   "execution_count": null,
	   "metadata": {
	    "collapsed": true
	   },
	   "outputs": [],
"source": [
"//Initilization of variables\n",
"theta1=73.9 //degrees\n",
"V=900 //mm/s\n",
"theta2=60 //degrees\n",
"theta3=46.1 //degrees\n",
"//Calculations\n",
"BC=sqrt((350*350)+(86.6*86.6)) //mm\n",
"CD=400 //mm\n",
"v_cb=(V*sind(theta2))/(sind(theta1)) //mm/s\n",
"v_c=((V*sind(theta3)))/(sind(theta1)) //mm/s\n",
"w_dc=v_c/CD //rad/s\n",
"w_cb=v_cb/BC //rad/s\n",
"//Result\n",
"clc\n",
"printf('The angular velocities are w_dc=%frad/s,w_bc=%frad/s',w_dc,w_cb)"
   ]
   }
,
{
		   "cell_type": "markdown",
		   "metadata": {},
		   "source": [
			"## Example 14.19: Kin_of_rig_body_in_PM.sce"
		   ]
		  },
  {
"cell_type": "code",
	   "execution_count": null,
	   "metadata": {
	    "collapsed": true
	   },
	   "outputs": [],
"source": [
"//Calculations\n",
"//After equating the i and j terms we obtain simplified equations\n",
"//Solving by matrix method\n",
"A=[346,86.7;200,-350]\n",
"B=[-3700;-1790] \n",
"C=inv(A)*B \n",
"//Result\n",
"clc\n",
"printf('The angular accelerations are alpha_DC=%frad/s^2 and alpha_BC=%frad/s^2',C(1),C(2)) \n",
"//The signs only indicate that the originally assumed orientations are incorrect and are opposite to those assumed\n",
""
   ]
   }
,
{
		   "cell_type": "markdown",
		   "metadata": {},
		   "source": [
			"## Example 14.20: Kin_of_rig_body_in_PM.sce"
		   ]
		  },
  {
"cell_type": "code",
	   "execution_count": null,
	   "metadata": {
	    "collapsed": true
	   },
	   "outputs": [],
"source": [
"//Initilization of variables\n",
"d=3 //m\n",
"w=8 //rad/s (clockwise)\n",
"alpha=4 //rad/s^2 (counterclockwise)\n",
"r=d/2 //m\n",
"//Calculations\n",
"vo=r*w //m/s\n",
"ao=r*alpha //m/s^2\n",
"//Here OB is r\n",
"OB=r //m\n",
"v_bo=OB*w //m/s\n",
"v_B=v_bo+vo //m/s\n",
"//Also\n",
"a_bo=r*alpha //m/s^2 (directed left)\n",
"a_bo_n=r*w^2 //m/s^2\n",
"a_h=ao+a_bo //m/s^2\n",
"a_v=a_bo_n //m/s^2\n",
"a_B=sqrt((a_h^2)+(a_v^2)) //m/s^2\n",
"phi=atand(a_h/a_v) //degrees\n",
"//Result\n",
"clc\n",
"printf('The linear velocity at B is %fm/s and the acceleration is %fn/s^2 making an angle of %f degrees with horizontal',v_B,a_B,phi)\n",
"\n",
"\n",
""
   ]
   }
,
{
		   "cell_type": "markdown",
		   "metadata": {},
		   "source": [
			"## Example 14.21: Kin_of_rig_body_in_PM.sce"
		   ]
		  },
  {
"cell_type": "code",
	   "execution_count": null,
	   "metadata": {
	    "collapsed": true
	   },
	   "outputs": [],
"source": [
"//Initilization of variables\n",
"OA=0.6 //m\n",
"w=8 //rad/s\n",
"theta=30 //degrees\n",
"v_O=12 //m/s\n",
"alpha=4 //rad/s^2\n",
"a_O=6 //m/s^2\n",
"//Calculations\n",
"//Velocity Calculations\n",
"v_AO=OA*w //m/s\n",
"v_Ah=v_AO*sind(theta)+v_O //m/s horizontal component\n",
"v_Av=v_AO*cosd(theta) //m/s\n",
"v_A=sqrt((v_Ah^2)+(v_Av^2)) //m/s\n",
"phi=atand(v_Av/v_Ah) //degrees\n",
"//Acceleration Calculations\n",
"a_AOt=OA*alpha //m/s^2\n",
"a_AOn=OA*w^2 //m/s^2\n",
"a_Ah=-a_O-a_AOn*cosd(theta)-a_AOt*sind(theta) //m/s^2\n",
"a_Av=-a_AOn*sind(theta)+a_AOt*cosd(theta) //m/s^2\n",
"a_A=sqrt((a_Ah^2)+(a_Av^2)) //m/s^2\n",
"phi2=atand(a_Av/a_Ah) //degrees\n",
"//Result\n",
"clc\n",
"printf('The velocity is %fm/s making an angle %f degrees with horizontal\n The acceleration is %fm/s^2 making an angle %fdegrees with horizontal',v_A,phi,a_A,phi2) "
   ]
   }
,
{
		   "cell_type": "markdown",
		   "metadata": {},
		   "source": [
			"## Example 14.22: Kin_of_rig_body_in_PM.sce"
		   ]
		  },
  {
"cell_type": "code",
	   "execution_count": null,
	   "metadata": {
	    "collapsed": true
	   },
	   "outputs": [],
"source": [
"//Initilization of variables\n",
"AL=5 //ft\n",
"d=10 //ft displacement\n",
"//Calculations\n",
"theta=d/AL //radians\n",
"s_o=3*theta//ft\n",
"//Result\n",
"clc\n",
"printf('The displacement  So is %i ft',s_o)"
   ]
   }
,
{
		   "cell_type": "markdown",
		   "metadata": {},
		   "source": [
			"## Example 14.23: Kin_of_rig_body_in_PM.sce"
		   ]
		  },
  {
"cell_type": "code",
	   "execution_count": null,
	   "metadata": {
	    "collapsed": true
	   },
	   "outputs": [],
"source": [
"//Initilization of variables\n",
"//Speed and acceleration at the center\n",
"v=12 //in/s\n",
"a=18 //in/s^2\n",
"//Calculations\n",
"v_D=((a+v*0.5)/a)*v //in/s\n",
"//Speed at point F\n",
"v_F=((v/2)/v)*v_D //in/s\n",
"//Acceleration at D\n",
"a_D=(24/a)*a //in/s^2\n",
"//Acceleration at F\n",
"a_F=((v/2)/v)*24 //in/s^2\n",
"//Result\n",
"clc\n",
"printf('The velocity and acceleration of weight A are %iin/s and %iin/s^2 respectively',v_F,a_F)"
   ]
   }
,
{
		   "cell_type": "markdown",
		   "metadata": {},
		   "source": [
			"## Example 14.24: Kin_of_rig_body_in_PM.sce"
		   ]
		  },
  {
"cell_type": "code",
	   "execution_count": null,
	   "metadata": {
	    "collapsed": true
	   },
	   "outputs": [],
"source": [
"//Calculations\n",
"//Speed and acceleration of D\n",
"sD=((18-6)/18)*12 //in/s\n",
"aD=(12/18)*18 //in/s^2\n",
"//Speed and acceleration of F\n",
"sF=(6/12)*8 //in/s\n",
"aF=(6/12)*12 //in/s^2\n",
"//Result\n",
"clc\n",
"printf('The velocity and acceleration of weight A are %iin/s and %iin/s^2 respectively',sF,aF)"
   ]
   }
,
{
		   "cell_type": "markdown",
		   "metadata": {},
		   "source": [
			"## Example 14.26: Kin_of_rig_body_in_PM.sce"
		   ]
		  },
  {
"cell_type": "code",
	   "execution_count": null,
	   "metadata": {
	    "collapsed": true
	   },
	   "outputs": [],
"source": [
"//Initilization of variables\n",
"v_BG=300 //mm/s\n",
"v_G=300 //mm/s\n",
"a_BGt=500 //mm/s^2\n",
"a_BGn=3600//mm/s^2\n",
"a_Gh=500 //mm/s^2\n",
"a_Bv=1800 //mm/s^2\n",
"//Calculations\n",
"w=((75-25)/25)*6 //rad/s\n",
"alpha=((75-25)/25)*10 //rad/s^2\n",
"v_B=sqrt(v_BG^2+v_G^2) //mm/s\n",
"a_v=a_Bv-a_BGt //mm/s^2\n",
"a_h=a_BGn-a_Gh //mm/s^2\n",
"a_B=sqrt(a_v^2+a_h^2) //mm/s^2\n",
"//Result \n",
"clc\n",
"printf('The velocity and acceleration of point B are %imm/s and %imm/s^2 respectively',v_B,a_B)"
   ]
   }
,
{
		   "cell_type": "markdown",
		   "metadata": {},
		   "source": [
			"## Example 14.2: Kin_of_rig_body_in_PM.sce"
		   ]
		  },
  {
"cell_type": "code",
	   "execution_count": null,
	   "metadata": {
	    "collapsed": true
	   },
	   "outputs": [],
"source": [
"//Initilization of variables\n",
"d=500 //mm\n",
"wo=0 //rpm\n",
"w=300 //rpm\n",
"t=20 //s\n",
"t1=2 //s\n",
"//Calculations\n",
"alpha=(2*%pi*(1/60)*(w-wo))/t //rad/s^2\n",
"w1=wo+alpha*t1 //rad/s\n",
"v=(d/(2*1000))*w1 //m/s\n",
"a_n=(d/(2*1000))*w1^2 //m/s^2\n",
"a_t=(d/(2*1000))*alpha //m/s^2\n",
"a=sqrt(a_n^2+a_t^2) //m/s^2\n",
"theta=acosd(a_n/a) //degrees\n",
"//Result\n",
"clc\n",
"printf('The computed values are\n alpha=%frad/s^2,w1=%frad/s,v=%frad/s\n a=%fm/s^2 and the angle made is %fdegrees',alpha,w1,v,a,theta)"
   ]
   }
,
{
		   "cell_type": "markdown",
		   "metadata": {},
		   "source": [
			"## Example 14.3: Kin_of_rig_body_in_PM.sce"
		   ]
		  },
  {
"cell_type": "code",
	   "execution_count": null,
	   "metadata": {
	    "collapsed": true
	   },
	   "outputs": [],
"source": [
"//Initilization of variables\n",
"s_BC=2 //m\n",
"s_C=2.5 //m\n",
"//Calculations\n",
"s_B=sqrt(s_BC^2+s_C^2) //m\n",
"theta=atand(s_BC/s_C) //degrees\n",
"//Result\n",
"clc\n",
"printf('The absolute displacement is %fm and the angle made by the vector is %fdegrees',s_B,theta) "
   ]
   }
,
{
		   "cell_type": "markdown",
		   "metadata": {},
		   "source": [
			"## Example 14.4: Kin_of_rig_body_in_PM.sce"
		   ]
		  },
  {
"cell_type": "code",
	   "execution_count": null,
	   "metadata": {
	    "collapsed": true
	   },
	   "outputs": [],
"source": [
"//Initilization of variables\n",
"V_A=20 //mi/h\n",
"V_B=70 //mi/h\n",
"theta1=60 //degrees\n",
"phi=45 //degrees\n",
"//Result\n",
"//Vector's in matrix form\n",
"v_A=[-V_A*cosd(phi),V_A*sind(phi)] //mi/h\n",
"v_B=[V_B*cosd(theta1),V_B*sind(theta1)] //mi/h\n",
"a=v_A(1)+v_B(1) //mi/h\n",
"b=v_A(2)+v_B(2) //mi/h\n",
"v_ab=sqrt(a^2+b^2) //mi/h\n",
"theta=atand(b/a) //degrees\n",
"//The relative velocity v_ba is just different in sign while the magnitude stays the same\n",
"//Result\n",
"clc\n",
"printf('The relative velocity is %fmi/h making an angle %fdegres',v_ab,theta)"
   ]
   }
,
{
		   "cell_type": "markdown",
		   "metadata": {},
		   "source": [
			"## Example 14.9: Kin_of_rig_body_in_PM.sce"
		   ]
		  },
  {
"cell_type": "code",
	   "execution_count": null,
	   "metadata": {
	    "collapsed": true
	   },
	   "outputs": [],
"source": [
"//Initilization of variables\n",
"l=2.5 //m\n",
"v_A=4 //m/s\n",
"a_A=5 //m/s^2\n",
"theta=30 //degrees\n",
"//Calculations\n",
"//Vector triangle yields v_a.b=2.93 m/s\n",
"v_ab=2.93 //m/s\n",
"w=v_ab/l //rad/s (clockwise)\n",
"//Ploygon yields alpha_a/b=2.75 m/s^2\n",
"alpha_ab=2.75 //m/s^2\n",
"alpha=alpha_ab/l //rad/s^2 (counterclockwise)\n",
"//Result\n",
"clc\n",
"printf('The value of angular velocity is %frad/s and  that of angular acceleration is %frad/s^2',w,alpha)"
   ]
   }
],
"metadata": {
		  "kernelspec": {
		   "display_name": "Scilab",
		   "language": "scilab",
		   "name": "scilab"
		  },
		  "language_info": {
		   "file_extension": ".sce",
		   "help_links": [
			{
			 "text": "MetaKernel Magics",
			 "url": "https://github.com/calysto/metakernel/blob/master/metakernel/magics/README.md"
			}
		   ],
		   "mimetype": "text/x-octave",
		   "name": "scilab",
		   "version": "0.7.1"
		  }
		 },
		 "nbformat": 4,
		 "nbformat_minor": 0
}
