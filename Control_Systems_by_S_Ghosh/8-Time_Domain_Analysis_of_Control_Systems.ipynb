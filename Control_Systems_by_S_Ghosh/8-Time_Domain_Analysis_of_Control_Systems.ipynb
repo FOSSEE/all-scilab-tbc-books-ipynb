{
"cells": [
 {
		   "cell_type": "markdown",
	   "metadata": {},
	   "source": [
       "# Chapter 8: Time Domain Analysis of Control Systems"
	   ]
	},
{
		   "cell_type": "markdown",
		   "metadata": {},
		   "source": [
			"## Example 8.02: Velocity.sci"
		   ]
		  },
  {
"cell_type": "code",
	   "execution_count": null,
	   "metadata": {
	    "collapsed": true
	   },
	   "outputs": [],
"source": [
"//Velocity//\n",
"s=%s;\n",
"p=poly([3 1],'s','coeff');\n",
"q=poly([0 1 0.95 0.21],'s','coeff');\n",
"G=p/q;\n",
"disp(G,'G(s)=')\n",
"H=1;\n",
"y=G*H; //Type 1 System\n",
"disp(y,'G(s)H(s)=')\n",
"//Refering the table 8.2 given in the book ,For type 1 system  Kp=%inf & Ka=0\n",
"printf('For type1  Kp=inf & Ka=0 \n')\n",
"syms s;\n",
"Kv=limit(s*y,s,0); //Kv= velocity error coefficient\n",
"disp(Kv,'Velocity Error Coefficient(Kv)=')\n",
"\n",
""
   ]
   }
,
{
		   "cell_type": "markdown",
		   "metadata": {},
		   "source": [
			"## Example 8.03_01: coefficient.sci"
		   ]
		  },
  {
"cell_type": "code",
	   "execution_count": null,
	   "metadata": {
	    "collapsed": true
	   },
	   "outputs": [],
"source": [
"//coefficient//\n",
"s=%s;\n",
"p=poly([10],'s','coeff');\n",
"q=poly([0 0 1],'s','coeff');\n",
"G=p/q;\n",
"H=0.7;\n",
"y=G*H; //type 2\n",
"disp(y,'G(s)H(s)=')\n",
"//refering the table 8.2 given in the book ,for type 1 Kp=%inf & Kv=%inf\n",
"printf('For type1  Kp=inf & Kv=inf \n')\n",
"syms s;\n",
"Ka=limit(s^2*y,s,0); //Ka=accelaration error coefficient\n",
"disp(Ka,'Ka=')"
   ]
   }
,
{
		   "cell_type": "markdown",
		   "metadata": {},
		   "source": [
			"## Example 8.03_02: coefficient.sci"
		   ]
		  },
  {
"cell_type": "code",
	   "execution_count": null,
	   "metadata": {
	    "collapsed": true
	   },
	   "outputs": [],
"source": [
"//coefficient//\n",
"p=poly([5],'s','coeff');\n",
"q=poly([5 3 1],'s','coeff');\n",
"G=p/q\n",
"H=0.6\n",
"y=G*H //type 0\n",
"//refering the table 8.2 given in the book ,for type 1 Ka=0 & Kv=0\n",
"syms s\n",
"Kp=limit(s*y/s,s,0) // Kp=positional error coefficient"
   ]
   }
,
{
		   "cell_type": "markdown",
		   "metadata": {},
		   "source": [
			"## Example 8.03_03: coefficient.sci"
		   ]
		  },
  {
"cell_type": "code",
	   "execution_count": null,
	   "metadata": {
	    "collapsed": true
	   },
	   "outputs": [],
"source": [
"//coefficient//\n",
"p=poly([1 0.13 0.4],'s','coeff');\n",
"q=poly([0 0 5 3 1],'s','coeff');\n",
"G=10*p/q //gain FACTOR=10\n",
"H=0.8\n",
"y=G*H //type 2\n",
"//refering the table 8.2 given in the book ,for type 2 Kp=%inf & Kv=%inf\n",
"syms s\n",
"Ka=limit(s^2*y,s,0) //Ka=accelaration error coefficient\n",
"\n",
""
   ]
   }
,
{
		   "cell_type": "markdown",
		   "metadata": {},
		   "source": [
			"## Example 8.03_04: coefficient.sci"
		   ]
		  },
  {
"cell_type": "code",
	   "execution_count": null,
	   "metadata": {
	    "collapsed": true
	   },
	   "outputs": [],
"source": [
"//coefficient//\n",
"s= poly ( 0,'s' );\n",
"sys = syslin ('c',10/(s+2)); //G(s)H(s)\n",
"disp(sys,'G(s)H(s)')\n",
"F=1/(1+sys)\n",
"syms t s;\n",
"Co=limit(s*F/s,s,0) //Ko=Lt s->0 (1/(1+G(s)H(S))\n",
"d=diff(s*F/s,s)\n",
"C1=limit(diff(s*F/s,s),s,0) //K1=Lt s->0 (dF(s)/ds)\n",
"C2=limit(diff(d,s),s,0)   //K2=Lt s->0 (d2F(s)/ds)\n",
"//given input is r(t)=1+2*t+(t^2)/2 & R(s)=laplace(r(t))\n",
"a=(1+2*t+(t^2)/2);\n",
"b=diff(a,t);\n",
"c=diff(b,t);\n",
"e=Co*a+C1*b+C2*c //error by dynamic coefficient method\n",
"\n",
"\n",
" "
   ]
   }
,
{
		   "cell_type": "markdown",
		   "metadata": {},
		   "source": [
			"## Example 8.04: coefficient.sci"
		   ]
		  },
  {
"cell_type": "code",
	   "execution_count": null,
	   "metadata": {
	    "collapsed": true
	   },
	   "outputs": [],
"source": [
"//coefficient//\n",
"p=poly([4 1],'s','coeff');\n",
"q=poly([0 0 6 5 1],'s','coeff');\n",
"syms K real;\n",
"y=K*p/q //gain FACTOR=K\n",
"disp(y,'G(s)H(s)=')\n",
"//G(s)H(s)=y ,and it is of type 2\n",
"//refering the table 8.2 given in the book ,for type 2 Kp=%inf & Kv=%inf\n",
"printf('For type1  Kp=inf & Kv=inf \n')\n",
"syms A s t;\n",
"Ka=limit(s^2*y,s,0);  //Ka=accelaration error coefficient\n",
"disp(Ka,'Ka=')\n",
"//given input is r(t)=A(t^2)/2 & R(s)=laplace(r(t))\n",
"printf('Given r(t)=A(t^2)/2 \n')\n",
"R=laplace('A*t^2/2',t,s);\n",
"disp(R,'R(s)=')\n",
"//steady state error =Lt s->0 sR(S)/1+G(s)H(S)\n",
"e=limit(s*R/(1+y),s,0)\n",
"disp(e,'Ess=')\n",
"\n",
" "
   ]
   }
,
{
		   "cell_type": "markdown",
		   "metadata": {},
		   "source": [
			"## Example 8.05: coefficient.sci"
		   ]
		  },
  {
"cell_type": "code",
	   "execution_count": null,
	   "metadata": {
	    "collapsed": true
	   },
	   "outputs": [],
"source": [
"//coefficient//\n",
"p=poly([60],'s','coeff');\n",
"q=poly([12 7 1],'s','coeff');\n",
"G=p/q;\n",
"disp(G,'G(s)=') \n",
"H=1;\n",
"y=G*H\n",
"F=1/(1+y);\n",
"disp(F,'1/(1+G(s)H(s))=')\n",
"syms t s;\n",
"Ko=limit(s*F/s,s,0) //Ko=Lt s->0 (1/(1+G(s)H(S))\n",
"d=diff(s*F/s,s);\n",
"K1=limit(diff(s*F/s,s),s,0) //K1=Lt s->0 (dF(s)/ds)\n",
"K2=limit(diff(d,s),s,0)   //K2=Lt s->0 (d2F(s)/ds)\n",
"//given input is r(t)=4+3*t+8(t^2)/2 & R(s)=laplace(r(t))\n",
"a=(4+3*t+8*(t^2)/2)\n",
"b=diff(4+3*t+8*(t^2)/2 ,t)\n",
"c=diff(b,t)\n",
"e=Ko*a+K1*b+K2*c //error by dynamic coefficient method\n",
"disp(e,'error')\n",
"\n",
"\n",
" "
   ]
   }
,
{
		   "cell_type": "markdown",
		   "metadata": {},
		   "source": [
			"## Example 8.06: coefficient.sci"
		   ]
		  },
  {
"cell_type": "code",
	   "execution_count": null,
	   "metadata": {
	    "collapsed": true
	   },
	   "outputs": [],
"source": [
"//coefficient//\n",
"s=poly(0,'s'); //Defines s as polynomial variable\n",
"F=syslin('c',[25/((s+1)*s)]); //Creates transfer function in forward path\n",
"B=syslin('c',(1+0*s)/(1+0*s)); //Creates transfer function in backward path\n",
"CL=F/.B //Calculates closed-loop transfer function\n",
"// compare CL with Wn^2/(s^2+2*zeta*Wn+Wn^2)\n",
"y=denom(CL) //extracting the denominator of CL\n",
"z=coeff(y)  //extracting the coefficients of the denominator polynomial\n",
"//Wn^2=z(1,1) ,comparing the coefficients\n",
"Wn=sqrt(z(1,1))            // Wn=natural frequency\n",
"//2*zeta*Wn=z(1,2)\n",
"zeta=z(1,2)/(2*Wn)             // zeta=damping factor\n",
"Wd=Wn*sqrt(1-zeta^2)\n",
"Tp=%pi/Wd\n",
"Mp=100*exp((-%pi*zeta)/sqrt(1-zeta^2))"
   ]
   }
,
{
		   "cell_type": "markdown",
		   "metadata": {},
		   "source": [
			"## Example 8.07: coefficient.sci"
		   ]
		  },
  {
"cell_type": "code",
	   "execution_count": null,
	   "metadata": {
	    "collapsed": true
	   },
	   "outputs": [],
"source": [
"//coefficient//\n",
"s=poly(0,'s'); //Defines s as polynomial variable\n",
"F=syslin('c',[20/(s^2+5*s+5)]); //Creates transfer function in forward path\n",
"B=syslin('c',(1+0*s)/(1+0*s)); //Creates transfer function in backward path\n",
"CL=F/.B //Calculates closed-loop transfer function\n",
"// compare CL with Wn^2/(s^2+2*zeta*Wn+Wn^2)\n",
"y=denom(CL) //extracting the denominator of CL\n",
"z=coeff(y)  //extracting the coefficients of the denominator polynomial\n",
"//Wn^2=z(1,1) ,comparing the coefficients\n",
"Wn=sqrt(z(1,1))            // Wn=natural frequency\n",
"//2*zeta*Wn=z(1,2)\n",
"zeta=z(1,2)/(2*Wn)             // zeta=damping factor\n",
"Wd=Wn*sqrt(1-zeta^2)\n",
"Tp=%pi/Wd     //Tp=peak time\n",
"Mp=100*exp((-%pi*zeta)/sqrt(1-zeta^2))  //peak overshoot\n",
"Td=(1+0.7*zeta)/Wn      //Td=delay time\n",
"a=atan(sqrt(1-zeta^2)/zeta)\n",
"Tr=(%pi-a)/Wd           //Tr=rise time\n",
"Ts=4/(zeta*Wn)          //Ts=settling time"
   ]
   }
,
{
		   "cell_type": "markdown",
		   "metadata": {},
		   "source": [
			"## Example 8.08: coefficient.sci"
		   ]
		  },
  {
"cell_type": "code",
	   "execution_count": null,
	   "metadata": {
	    "collapsed": true
	   },
	   "outputs": [],
"source": [
"//coefficient//\n",
"p=poly([140,35],'s','coeff');\n",
"q=poly([0 ,10 ,7 ,1],'s','coeff');\n",
"G=p/q\n",
"H=1\n",
"y=G*H //type 1\n",
"//refering the table 8.2 given in the book ,for type 1 Kp=%inf & Ka=0\n",
"syms s\n",
"Kv=limit(s*y,s,0) //Kv= velocity error coefficient\n",
"//given input is r(t)=5*t & R(s)=laplace(r(t))\n",
"R=laplace('5*t',t,s)\n",
"//steady state error =Lt s->0 sR(S)/1+G(s)H(S)\n",
"e=limit(s*R/(1+y),s,0) //e=error for ramp input\n",
"disp(e,'steady state error')\n",
"\n",
" \n",
""
   ]
   }
,
{
		   "cell_type": "markdown",
		   "metadata": {},
		   "source": [
			"## Example 8.09: coefficient.sci"
		   ]
		  },
  {
"cell_type": "code",
	   "execution_count": null,
	   "metadata": {
	    "collapsed": true
	   },
	   "outputs": [],
"source": [
"//coefficient//\n",
"p=poly([40,20],'s','coeff');\n",
"q=poly([0,0,5,6,1],'s','coeff');\n",
"G=p/q;\n",
"H=1;\n",
"y=G*H; //type 2\n",
"disp(y,'G(s)H(s=')\n",
"//refering the table 8.2 given in the book ,for type 2 Kp=%inf & Kv=%inf\n",
"syms s t;\n",
"Ka=limit(s^2*y,s,0) //Ka= accelaration error coefficient\n",
"//given input is r(t)=1+3t+t^2/2 & R(s)=laplace(r(t))\n",
"R=laplace('(1+3*t+(t^2/2))',t,s)\n",
"//steady state error =Lt s->0 sR(S)/1+G(s)H(S)\n",
"e=limit(s*R/(1+y),s,0) //e=error for ramp input\n",
"disp(e,'steady state error')\n",
"\n",
" \n",
""
   ]
   }
,
{
		   "cell_type": "markdown",
		   "metadata": {},
		   "source": [
			"## Example 8.10: coefficient.sci"
		   ]
		  },
  {
"cell_type": "code",
	   "execution_count": null,
	   "metadata": {
	    "collapsed": true
	   },
	   "outputs": [],
"source": [
"//coefficient//\n",
"s = poly ( 0,'s' )\n",
"sys = syslin ('c',(20)/(s^2+7*s+10))\n",
"a=sys/.(2*(s+1))  //simplifying the internal feedback loop\n",
"b=20*2*a;  \n",
"disp(b,'G(s)')\n",
"c=1;\n",
"disp(c,'H(s)')\n",
"OL=b*c;\n",
"disp(OL,'G(s)H(s)')\n",
",'G(s)*H(s)')\n",
"syms t s;\n",
"Kp=limit(s*OL/s,s,0) //Kp= position error coefficient\n",
"Kv=limit(s*OL,s,0) //Kv= velocity error coefficient\n",
"Ka=limit(s^2*OL,s,0) //Ka= accelaration error coefficient\n",
"//given input r(t)=6\n",
"R=laplace('6',t,s)\n",
"//steady state error =Lt s->0 sR(S)/1+G(s)H(S)\n",
"e1=limit(s*R/(1+OL),s,0); //e=error for given input\n",
"disp(e1,'error')\n",
"//given input r(t)=8t\n",
"M=laplace('8*t',t,s)\n",
"//steady state error =Lt s->0 sR(S)/1+G(s)H(S)\n",
"e2=limit(s*M/(1+OL),s,0); //e=error for given input\n",
"disp(e2,'error')\n",
"//given input r(t)=10+4t+3t^2/2\n",
"N=laplace('10+4*t+(3*t^2)/2',t,s)\n",
"//steady state error =Lt s->0 sR(S)/1+G(s)H(S)\n",
"e3=limit(s*N/(1+OL),s,0); //e=error for given input\n",
"disp(e3,'error')\n",
"\n",
"\n",
""
   ]
   }
,
{
		   "cell_type": "markdown",
		   "metadata": {},
		   "source": [
			"## Example 8.11: coefficient.sci"
		   ]
		  },
  {
"cell_type": "code",
	   "execution_count": null,
	   "metadata": {
	    "collapsed": true
	   },
	   "outputs": [],
"source": [
"//coefficient//\n",
"s = poly ( 0,'s' )\n",
"sys1 = syslin ('c',(s)/(s+6));\n",
"sys2 = syslin ('c',(s+2)/(s+3));\n",
"sys3 = syslin ('c',(5)/((s+3)*s^3));\n",
"a=sys2+sys3;\n",
"disp(a,'H(s)')\n",
"b=sys1;\n",
"disp(b,'G(S)')\n",
"y=a*b;\n",
"disp(y,'G(S)H(S)')\n",
"syms s\n",
"Kp=limit(s*y/s,s,0) //Kp= position error coefficient\n",
"Kv=limit(s*y,s,0) //Kv= velocity error coefficient\n",
"Ka=limit(s^2*y,s,0) //Ka= accelaration error coefficient"
   ]
   }
,
{
		   "cell_type": "markdown",
		   "metadata": {},
		   "source": [
			"## Example 8.12: coefficient.sci"
		   ]
		  },
  {
"cell_type": "code",
	   "execution_count": null,
	   "metadata": {
	    "collapsed": true
	   },
	   "outputs": [],
"source": [
"//coefficient//\n",
"s=%s;\n",
"syms k t;\n",
"y=k/((s+1)*s^2*(s+4));\n",
"disp(y,'G(s)H(s)=')\n",
"r=1+(8*t)+(18*t^2/2);\n",
"disp(r,'r(t)=')\n",
"R=laplace(r,t,s);\n",
"disp(R,'R(s)=')\n",
"e=limit((s*R)/(1+y),s,0)\n",
"disp(e,'Ess=')\n",
"printf('Given Ess = 0.8 \n')\n",
"e=0.8;\n",
"k=72/e;\n",
"disp(k,'k=')"
   ]
   }
,
{
		   "cell_type": "markdown",
		   "metadata": {},
		   "source": [
			"## Example 8.13: coefficient.sci"
		   ]
		  },
  {
"cell_type": "code",
	   "execution_count": null,
	   "metadata": {
	    "collapsed": true
	   },
	   "outputs": [],
"source": [
"//coefficient//\n",
"syms s t k;\n",
"s = poly ( 0,'s' );\n",
"y=k/(s*(s+2)); //G(s)H(s)\n",
"disp(y,'G(s)H(s)')\n",
"//R=laplace('0.2*t',t,s)\n",
"R=laplace('0.2*t',t,s)\n",
"e=limit(s*R/(1+y),s,0)\n",
"//given e<=0.02\n",
"a=[0.02];\n",
"b=[-0.4];\n",
"m=linsolve(a,b);  //Solves The Linear Equation\n",
"disp(m,'k')"
   ]
   }
,
{
		   "cell_type": "markdown",
		   "metadata": {},
		   "source": [
			"## Example 8.14: coefficient.sci"
		   ]
		  },
  {
"cell_type": "code",
	   "execution_count": null,
	   "metadata": {
	    "collapsed": true
	   },
	   "outputs": [],
"source": [
"//coefficient//\n",
"syms s,t,k;\n",
"s=%s;\n",
"y=k/(s*(s+2)*(1+0.5*s)) //G(s)H(s)\n",
"disp(y,'G(s)H(s)')\n",
"//R=laplace('3*t',t,s)\n",
"R=laplace('3*t',t,s)\n",
"e=limit(s*R/(1+y),s,0);\n",
"disp(e,' steady state error')\n",
"k=4;//given\n",
"y=e;\n",
"disp(y,'state state error when k=4')\n",
"\n",
"\n",
""
   ]
   }
,
{
		   "cell_type": "markdown",
		   "metadata": {},
		   "source": [
			"## Example 8.15: coefficient.sci"
		   ]
		  },
  {
"cell_type": "code",
	   "execution_count": null,
	   "metadata": {
	    "collapsed": true
	   },
	   "outputs": [],
"source": [
"//coefficient//\n",
"s = poly ( 0,'s' );\n",
"sys = syslin ('c',180/(s*(s+6))) //G(s)H(s)\n",
"disp(sys,'G(s)H(s)')\n",
"syms t s;\n",
"//R=laplace('4*t',t,s)\n",
"R=laplace('4*t',t,s);\n",
"e=limit(s*R/(1+sys),s,0);\n",
"y=dbl(e);\n",
"disp(y,'steady state error')\n",
"syms  k real;\n",
"//value of k if error reduced by 6%;\n",
"e1=limit(s*R/(1+k/(s*(s+6))),s,0)    //-------1\n",
"e1=0.94*e    // --------2\n",
"//now solving these two equations\n",
"a=[47];\n",
"b=[-9000];\n",
"m=linsolve(a,b);\n",
"disp(m,'k')"
   ]
   }
,
{
		   "cell_type": "markdown",
		   "metadata": {},
		   "source": [
			"## Example 8.16: coefficient.sci"
		   ]
		  },
  {
"cell_type": "code",
	   "execution_count": null,
	   "metadata": {
	    "collapsed": true
	   },
	   "outputs": [],
"source": [
"//coefficient//\n",
"s=%s;\n",
"F=syslin('c',(81)/(s^2+6*s)); //Creates transfer function in forward path\n",
"B=syslin('c',(1+0*s)/(1+0*s)); //Creates transfer function in backward path\n",
"CL=F/.B //Calculates closed-loop transfer function\n",
"// compare CL with Wn^2/(s^2+2*zeta*Wn+Wn^2)\n",
"y=denom(CL) //extracting the denominator of CL\n",
"z=coeff(y)  //extracting the coefficients of the denominator polynomial\n",
"//Wn^2=z(1,1) ,comparing the coefficients\n",
"Wn=sqrt(z(1,1))            // Wn=natural frequency\n",
"//2*zeta*Wn=z(1,2)\n",
"zeta=z(1,2)/(2*Wn)             // zeta=damping factor\n",
"Wd=Wn*sqrt(1-zeta^2)\n",
"Tp=%pi/Wd     //Tp=peak time\n",
"Mp=100*exp((-%pi*zeta)/sqrt(1-zeta^2))  //peak overshoot"
   ]
   }
,
{
		   "cell_type": "markdown",
		   "metadata": {},
		   "source": [
			"## Example 8.17: coefficient.sci"
		   ]
		  },
  {
"cell_type": "code",
	   "execution_count": null,
	   "metadata": {
	    "collapsed": true
	   },
	   "outputs": [],
"source": [
"//coefficient//\n",
"s=%s;\n",
"F=syslin('c',(25)/(s^2+7*s)); //Creates transfer function in forward path\n",
"B=syslin('c',(1+0*s)/(1+0*s)); //Creates transfer function in backward path\n",
"k=20/25;   //k=gain factor\n",
"CL=k*(F/.B) //Calculates closed-loop transfer function\n",
"// compare CL with Wn^2/(s^2+2*zeta*Wn+Wn^2)\n",
"y=denom(CL) //extracting the denominator of CL\n",
"z=coeff(y)  //extracting the coefficients of the denominator polynomial\n",
"//Wn^2=z(1,1) ,comparing the coefficients\n",
"Wn=sqrt(z(1,1))            // Wn=natural frequency\n",
"//2*zeta*Wn=z(1,2)\n",
"zeta=z(1,2)/(2*Wn)             // zeta=damping factor\n",
"Wd=Wn*sqrt(1-zeta^2)\n",
"Tp=%pi/Wd     //Tp=peak time\n",
"Mp=100*exp((-%pi*zeta)/sqrt(1-zeta^2))  //peak overshoot\n",
"Td=(1+0.7*zeta)/Wn      //Td=delay time\n",
"a=atan(sqrt(1-zeta^2)/zeta)\n",
"Tr=(%pi-a)/Wd           //Tr=rise time\n",
"Ts=4/(zeta*Wn)          //Ts=settling time\n",
"//y(t)=expression for output\n",
"y=(20/25)*(1-(exp(-1*zeta*Wn*t)/sqrt(1-zeta^2))*sin(Wd*t+atan(zeta/sqrt(1-zeta^2))));\n",
"disp(y,'Y(t)')"
   ]
   }
,
{
		   "cell_type": "markdown",
		   "metadata": {},
		   "source": [
			"## Example 8.19: coefficient.sci"
		   ]
		  },
  {
"cell_type": "code",
	   "execution_count": null,
	   "metadata": {
	    "collapsed": true
	   },
	   "outputs": [],
"source": [
"//coefficient//\n",
"s=%s;\n",
"F=syslin('c',(144)/(s^2+12*s)); //Creates transfer function in forward path\n",
"B=syslin('c',(1+0*s)/(1+0*s)); //Creates transfer function in backward path\n",
"k=20/25;   //k=gain factor\n",
"CL=k*(F/.B) //Calculates closed-loop transfer function\n",
"// compare CL with Wn^2/(s^2+2*zeta*Wn+Wn^2)\n",
"y=denom(CL) //extracting the denominator of CL\n",
"z=coeff(y)  //extracting the coefficients of the denominator polynomial\n",
"//Wn^2=z(1,1) ,comparing the coefficients\n",
"Wn=sqrt(z(1,1))            // Wn=natural frequency\n",
"//2*zeta*Wn=z(1,2)\n",
"zeta=z(1,2)/(2*Wn)             // zeta=damping factor\n",
"Wd=Wn*sqrt(1-zeta^2)\n",
"Tp=%pi/Wd     //Tp=peak time\n",
"Mp=100*exp((-%pi*zeta)/sqrt(1-zeta^2))  //peak overshoot\n",
"Td=(1+0.7*zeta)/Wn      //Td=delay time\n",
"a=atan(sqrt(1-zeta^2)/zeta)\n",
"Tr=(%pi-a)/Wd           //Tr=rise time\n",
"Ts=4/(zeta*Wn)          //Ts=settling time"
   ]
   }
,
{
		   "cell_type": "markdown",
		   "metadata": {},
		   "source": [
			"## Example 8.20: coefficient.sci"
		   ]
		  },
  {
"cell_type": "code",
	   "execution_count": null,
	   "metadata": {
	    "collapsed": true
	   },
	   "outputs": [],
"source": [
"//coefficient//\n",
"ieee(2);\n",
"syms k T;\n",
"num=k;\n",
"den=s*(1+s*T);\n",
"G=num/den;\n",
"disp(G,'G(s)=')\n",
"H=1;\n",
"CL=G/.H;\n",
"CL=simple(CL);\n",
"disp(CL,'C(s)/R(s)=')  //Calculates closed-loop transfer function\n",
"// compare CL with Wn^2/(s^2+2*zeta*Wn+Wn^2)\n",
"[num,den]=numden(CL) //extracts num & den of symbolic function (CL)\n",
"den=den/T;\n",
"cof_a_0 = coeffs(den,'s',0) // coeff of den of symbolic function (CL)\n",
"cof_a_1 = coeffs(den,'s',1)\n",
"//Wn^2= cof_a_0,comparing the coefficients\n",
"Wn=sqrt(cof_a_0) \n",
"disp(Wn,'natural frequency Wn')           // Wn=natural frequency\n",
"//cof_a_1=2*zeta*Wn\n",
"zeta=cof_a_1/(2*Wn)\n",
"\n",
""
   ]
   }
,
{
		   "cell_type": "markdown",
		   "metadata": {},
		   "source": [
			"## Example 8.23_01: coefficient.sci"
		   ]
		  },
  {
"cell_type": "code",
	   "execution_count": null,
	   "metadata": {
	    "collapsed": true
	   },
	   "outputs": [],
"source": [
"//coefficient//\n",
"s= poly ( 0,'s' );\n",
"sys = syslin ('c',10/(s+2)); //G(s)H(s)\n",
"disp(sys,'G(s)H(s)')\n",
"F=1/(1+sys)\n",
"syms t s;\n",
"Co=limit(s*F/s,s,0) //Ko=Lt s->0 (1/(1+G(s)H(S))\n",
"a=(3);\n",
"e=Co*a;\n",
"disp(e,'steady state error')"
   ]
   }
,
{
		   "cell_type": "markdown",
		   "metadata": {},
		   "source": [
			"## Example 8.23_02: coefficient.sci"
		   ]
		  },
  {
"cell_type": "code",
	   "execution_count": null,
	   "metadata": {
	    "collapsed": true
	   },
	   "outputs": [],
"source": [
"//coefficient//\n",
"s= poly ( 0,'s' );\n",
"sys = syslin ('c',10/(s+2)); //G(s)H(s)\n",
"disp(sys,'G(s)H(s)')\n",
"F=1/(1+sys)\n",
"syms t s;\n",
"Co=limit(s*F/s,s,0) //Ko=Lt s->0 (1/(1+G(s)H(S))\n",
"d=diff(s*F/s,s)\n",
"C1=limit(diff(s*F/s,s),s,0) //K1=Lt s->0 (dF(s)/ds)\n",
"a=(2*t);\n",
"b=diff((2*t) ,t);\n",
"e=Co*a+C1*b;\n",
"disp(e,' steadt state error')"
   ]
   }
,
{
		   "cell_type": "markdown",
		   "metadata": {},
		   "source": [
			"## Example 8.23_03: coefficient.sci"
		   ]
		  },
  {
"cell_type": "code",
	   "execution_count": null,
	   "metadata": {
	    "collapsed": true
	   },
	   "outputs": [],
"source": [
"//coefficient//\n",
"s= poly ( 0,'s' );\n",
"sys = syslin ('c',10/(s+2)); //G(s)H(s)\n",
"disp(sys,'G(s)H(s)')\n",
"F=1/(1+sys)\n",
"syms t s;\n",
"Co=limit(s*F/s,s,0) //Ko=Lt s->0 (1/(1+G(s)H(S))\n",
"d=diff(s*F/s,s)\n",
"C1=limit(diff(s*F/s,s),s,0) //K1=Lt s->0 (dF(s)/ds)\n",
"C2=limit(diff(d,s),s,0)   //K2=Lt s->0 (d2F(s)/ds)\n",
"a=((t^2)/2);\n",
"b=diff((t^2)/2 ,t);\n",
"c=diff(b,t);\n",
"e=Co*a+C1*b+C2*c;\n",
"disp(e,'steady state error')"
   ]
   }
,
{
		   "cell_type": "markdown",
		   "metadata": {},
		   "source": [
			"## Example 8.24: coefficient.sci"
		   ]
		  },
  {
"cell_type": "code",
	   "execution_count": null,
	   "metadata": {
	    "collapsed": true
	   },
	   "outputs": [],
"source": [
"//coefficient//\n",
"s= poly ( 0,'s' );\n",
"sys1 = syslin ('c',(s+3)/(s+5));\n",
"sys2= syslin ('c',(100)/(s+2));\n",
"sys3= syslin ('c',(0.15)/(s+3));\n",
"G=sys1*sys2*sys3*2*5\n",
"H=1;\n",
"y=G*H; //G(s)H(s)\n",
"disp(y,'G(s)H(s)')\n",
"F=1/(1+y)\n",
"syms t s;\n",
"Co=limit(s*F/s,s,0) //Ko=Lt s->0 (1/(1+G(s)H(S))\n",
"d=diff(s*F/s,s)\n",
"C1=limit(diff(s*F/s,s),s,0) //K1=Lt s->0 (dF(s)/ds)\n",
"C2=limit(diff(d,s),s,0)   //K2=Lt s->0 (d2F(s)/ds)\n",
"a=(1+(2*t)+(5*(t^2/2)));\n",
"b=diff(a ,t);\n",
"c=diff(b,t);\n",
"e=Co*a+C1*b+C2*c;\n",
"disp(e,' steadt state error')"
   ]
   }
,
{
		   "cell_type": "markdown",
		   "metadata": {},
		   "source": [
			"## Example 8.32: coefficient.sci"
		   ]
		  },
  {
"cell_type": "code",
	   "execution_count": null,
	   "metadata": {
	    "collapsed": true
	   },
	   "outputs": [],
"source": [
"//coefficient//\n",
"s=%s;\n",
"sys=syslin('c',(9*(1+2*s))/(s^2+0.6*s+9));\n",
"disp(sys,'C(s)/R(s)=')\n",
"//given r(t)=u(t)\n",
"syms t s;\n",
"R=laplace('1',t,s);\n",
"disp(R,'R(s)=')\n",
"C=R*sys;\n",
"disp(C,'C(s)=')\n",
"c=ilaplace(C,s,t)\n",
"disp(c,'c(t)=')\n",
"G=9/(s^3+0.6*s^2);\n",
"disp(G,'G(s)=')\n",
"H=1;\n",
"y=1+G*H;\n",
"syms t s;\n",
"Kp=limit(s*G/s,s,0)\n",
"Kv=limit(s*G,s,0)\n",
"Ka=limit(s^2*G,s,0)\n",
"R=laplace('(1+t+(t^2/2))',t,s)\n",
"//steady state error =Lt s->0 sR(S)/1+G(s)H(S)\n",
"e=limit(s*R/(1+y),s,0); //e=error for ramp input\n",
"disp(e,'steady state error(Ess)')"
   ]
   }
],
"metadata": {
		  "kernelspec": {
		   "display_name": "Scilab",
		   "language": "scilab",
		   "name": "scilab"
		  },
		  "language_info": {
		   "file_extension": ".sce",
		   "help_links": [
			{
			 "text": "MetaKernel Magics",
			 "url": "https://github.com/calysto/metakernel/blob/master/metakernel/magics/README.md"
			}
		   ],
		   "mimetype": "text/x-octave",
		   "name": "scilab",
		   "version": "0.7.1"
		  }
		 },
		 "nbformat": 4,
		 "nbformat_minor": 0
}
