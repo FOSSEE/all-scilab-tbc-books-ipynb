{
"cells": [
 {
		   "cell_type": "markdown",
	   "metadata": {},
	   "source": [
       "# Chapter 17: State Variable Approach"
	   ]
	},
{
		   "cell_type": "markdown",
		   "metadata": {},
		   "source": [
			"## Example 17.03: Creating_cont_time_transfer_function.sci"
		   ]
		  },
  {
"cell_type": "code",
	   "execution_count": null,
	   "metadata": {
	    "collapsed": true
	   },
	   "outputs": [],
"source": [
"//function//\n",
"s=%s;\n",
"//Creating cont-time transfer function\n",
"TFcont=syslin('c',3/(s^4+(2*s^3)+(3*s)+2)) \n",
"SScont=tf2ss(TFcont)\n",
"//CCF form\n",
"[Ac,Bc,U,ind]=canon(SScont(2),SScon(3))"
   ]
   }
,
{
		   "cell_type": "markdown",
		   "metadata": {},
		   "source": [
			"## Example 17.04: Transfer_funtion.sci"
		   ]
		  },
  {
"cell_type": "code",
	   "execution_count": null,
	   "metadata": {
	    "collapsed": true
	   },
	   "outputs": [],
"source": [
"//function//\n",
"s=%s;\n",
"TFcont=syslin('c',[(7 + 2*s + 3*(s^2))/(5 + 12*s + 5*(s^2) + s^3 )])\n",
"SScont=tf2ss(TFcont)\n",
"[Ac,Bc,U,ind]=canon(SScont(2),SScont(3))"
   ]
   }
,
{
		   "cell_type": "markdown",
		   "metadata": {},
		   "source": [
			"## Example 17.06: Creating_cont_time_transfer_function.sci"
		   ]
		  },
  {
"cell_type": "code",
	   "execution_count": null,
	   "metadata": {
	    "collapsed": true
	   },
	   "outputs": [],
"source": [
"//function//\n",
"s=%s;\n",
"//Creating cont-time transfer function\n",
"TFcont=syslin('c',[(5*(s+1)*(s+2))/((s+4)*(s+5))]) \n",
"SScont=tf2ss(TFcont)\n",
" //CCF form\n",
"[Ac,Bc,U,ind]=canon(SScont(2),SScont(3))"
   ]
   }
,
{
		   "cell_type": "markdown",
		   "metadata": {},
		   "source": [
			"## Example 17.07: Creating_cont_time_transfer_function.sci"
		   ]
		  },
  {
"cell_type": "code",
	   "execution_count": null,
	   "metadata": {
	    "collapsed": true
	   },
	   "outputs": [],
"source": [
"//function//\n",
"s=%s;\n",
"//Creating cont-time transfer function\n",
"TFcont=syslin('c',(s+1)/((s+2)*(s+5)*(s+3))) \n",
"SScont=tf2ss(TFcont)\n",
"//CCF form\n",
"[Ac,Bc,U,ind]=canon(SScont(2),SScont(3))"
   ]
   }
,
{
		   "cell_type": "markdown",
		   "metadata": {},
		   "source": [
			"## Example 17.08: Creating_cont_time_transfer_function.sci"
		   ]
		  },
  {
"cell_type": "code",
	   "execution_count": null,
	   "metadata": {
	    "collapsed": true
	   },
	   "outputs": [],
"source": [
"//function//\n",
"s=%s;\n",
"//Creating cont-time transfer function\n",
"TFcont=syslin('c',(6)/((s+2)^2*(s+1)))\n",
"SScont=tf2ss(TFcont)\n",
"//CCF form\n",
"[Ac,Bc,U,ind]=canon(SScont(2),SScont(3)) "
   ]
   }
,
{
		   "cell_type": "markdown",
		   "metadata": {},
		   "source": [
			"## Example 17.09: Find_The_Determinant.sci"
		   ]
		  },
  {
"cell_type": "code",
	   "execution_count": null,
	   "metadata": {
	    "collapsed": true
	   },
	   "outputs": [],
"source": [
"//function//\n",
"A=[0 1;-6 -5]\n",
"[Row Col]=size(A)//Size of a matrix\n",
"l=poly(0,'l');\n",
"m=l*eye(Row,Col)-A  //lI-A\n",
"n=det(m) //To Find The Determinant of li-A\n",
"roots(n) //To Find The Value Of l"
   ]
   }
,
{
		   "cell_type": "markdown",
		   "metadata": {},
		   "source": [
			"## Example 17.10: transfer_Function.sci"
		   ]
		  },
  {
"cell_type": "code",
	   "execution_count": null,
	   "metadata": {
	    "collapsed": true
	   },
	   "outputs": [],
"source": [
"//function//\n",
"A=[-2 1;0 -3]\n",
"B=[0;1]\n",
"C=[1 1]\n",
"s=poly(0,'s');\n",
"[Row Col]=size(A)    //Size of a matrix\n",
"m=s*eye(Row,Col)-A  //sI-A\n",
"n=det(m)    //To Find The Determinant of si-A\n",
"p=inv(m)      // To Find The Inverse Of sI-A\n",
"y=C*p*B  ;     //To Find C*(sI-A)^-1*B\n",
"disp(y,'Transfer Function=')"
   ]
   }
,
{
		   "cell_type": "markdown",
		   "metadata": {},
		   "source": [
			"## Example 17.11: Transfer_funtion.sci"
		   ]
		  },
  {
"cell_type": "code",
	   "execution_count": null,
	   "metadata": {
	    "collapsed": true
	   },
	   "outputs": [],
"source": [
"//function//\n",
"A=[0 1;-6 -5]\n",
"x=[1;0];\n",
"disp(x,'x(t)=')\n",
"s=poly(0,'s');\n",
"[Row Col]=size(A)    //Size of a matrix\n",
"m=s*eye(Row,Col)-A   //sI-A\n",
"n=det(m)             //To Find The Determinant of si-A\n",
"p=inv(m) ;           // To Find The Inverse Of sI-A\n",
"syms t s;\n",
"disp(p,'phi(s)=')   //Resolvent Matrix\n",
"for i=1:Row\n",
"for j=1:Col\n",
"//Taking Inverse Laplace of each element of Matrix phi(s)\n",
"q(i,j)=ilaplace(p(i,j),s,t);  \n",
"end;\n",
"end;\n",
"disp(q,'phi(t)=')//State Transition Matrix\n",
"r=inv(q);  \n",
"r=simple(r); //To Find phi(-t)\n",
"disp(r,'phi(-t)=')\n",
"y=q*x; //x(t)=phi(t)*x(0)\n",
"disp(y,'Solution To The given eq.=')"
   ]
   }
,
{
		   "cell_type": "markdown",
		   "metadata": {},
		   "source": [
			"## Example 17.12: Transfer_funtion.sci"
		   ]
		  },
  {
"cell_type": "code",
	   "execution_count": null,
	   "metadata": {
	    "collapsed": true
	   },
	   "outputs": [],
"source": [
"//function//\n",
"A=[0 1;-6 -5]\n",
"B=[0;1]\n",
"x=[1;0]\n",
"disp(x,'x(t)=')\n",
"s=poly(0,'s');\n",
"[Row Col]=size(A)   //Size of a matrix A\n",
"m=s*eye(Row,Col)-A //sI-A\n",
"n=det(m)          //To Find The Determinant of si-A\n",
"p=inv(m) ;        // To Find The Inverse Of sI-A\n",
"syms t s m;\n",
"disp(p,'phi(s)=') //Resolvent Matrix\n",
"for i=1:Row\n",
"for j=1:Col\n",
"//Inverse Laplace of each element of Matrix(phi(s))\n",
"q(i,j)=ilaplace(p(i,j),s,t);\n",
"end;\n",
"end;\n",
"disp(q,'phi(t)=') //State Transition Matrix\n",
"t=(t-m);\n",
"q=eval(q)       //At t=t-m ,evaluating q i.e phi(t-m)\n",
"//Integrate q w.r.t m(Indefinite Integration)\n",
"r=integ(q*B,m)      \n",
"m=0            //Upper limit is t\n",
"g=eval(r)      //Putting the value of upper limit in q\n",
"m=t            //Lower Limit is 0\n",
"h=eval(r)      //Putting the value of lower limit in q\n",
"y=(h-g);\n",
"disp(y,'y=')\n",
"printf('x(t)= phi(t)*x(0) + integ(phi(t-m)*B) w.r.t m from 0 t0 t \n')\n",
"//x(t)=phi(t)*x(0)+integ(phi(t-m)*B) w.r.t m from 0 t0 t\n",
"y1=(q*x)+y;\n",
"disp(y1,'x(t)=')\n",
""
   ]
   }
,
{
		   "cell_type": "markdown",
		   "metadata": {},
		   "source": [
			"## Example 17.13: Singular_matrix.sci"
		   ]
		  },
  {
"cell_type": "code",
	   "execution_count": null,
	   "metadata": {
	    "collapsed": true
	   },
	   "outputs": [],
"source": [
"//function//\n",
"A=[3 0;2 4]\n",
"B=[0;1]\n",
"Cc=cont_mat(A,B);\n",
"disp(Cc,'Controlability Matrix=')\n",
"//To Check Whether the matrix(Cc) is singular i.e determint of Cc=0\n",
"if determ(Cc)==0;\n",
"  printf('Since the matrix is Singular, the system is not controllable \n');\n",
"else;\n",
" printf('The system is  controllable \n')\n",
" end;\n",
" "
   ]
   }
,
{
		   "cell_type": "markdown",
		   "metadata": {},
		   "source": [
			"## Example 17.14: Observable_system.sci"
		   ]
		  },
  {
"cell_type": "code",
	   "execution_count": null,
	   "metadata": {
	    "collapsed": true
	   },
	   "outputs": [],
"source": [
"//function//\n",
"A=[-2 1;0 -3]\n",
"B=[4;1]\n",
"C=[1 0]\n",
"[O]=obsv_mat(A,C);\n",
"disp(O,'Observability Matrix=')\n",
"//To Check Whether the matrix(Cc)is singular i.e determint of Cc=0\n",
"if determ(O)==0;\n",
"printf('Since the matrix is Singular, the system is not Observable \n');\n",
"else;\n",
"printf('The system is  Observable \n')\n",
" end;"
   ]
   }
,
{
		   "cell_type": "markdown",
		   "metadata": {},
		   "source": [
			"## Example 17.16: Creating_cont_time_transfer_function.sci"
		   ]
		  },
  {
"cell_type": "code",
	   "execution_count": null,
	   "metadata": {
	    "collapsed": true
	   },
	   "outputs": [],
"source": [
"//function//\n",
"s=%s;\n",
"//Creating cont-time transfer function\n",
"TFcont=syslin('c',((5*s^2)+(2*s)+6)/(s^3+(7*s^2)+(11*s)+8)) \n",
"SScont=tf2ss(TFcont)\n",
"//CCF form\n",
"[Ac,Bc,U,ind]=canon(SScont(2),SScont(3)) "
   ]
   }
,
{
		   "cell_type": "markdown",
		   "metadata": {},
		   "source": [
			"## Example 17.17: Creating_cont_time_transfer_function.sci"
		   ]
		  },
  {
"cell_type": "code",
	   "execution_count": null,
	   "metadata": {
	    "collapsed": true
	   },
	   "outputs": [],
"source": [
"//function//\n",
"s=%s;\n",
"//Creating cont-time transfer function\n",
"TFcont=syslin('c',(8)/(s*(s+2)*(s+3))) \n",
"SScont=tf2ss(TFcont)\n",
"//CCF form\n",
"[Ac,Bc,U,ind]=canon(SScont(2),SScont(3)) "
   ]
   }
,
{
		   "cell_type": "markdown",
		   "metadata": {},
		   "source": [
			"## Example 17.18: time_transfer_function.sci"
		   ]
		  },
  {
"cell_type": "code",
	   "execution_count": null,
	   "metadata": {
	    "collapsed": true
	   },
	   "outputs": [],
"source": [
"//function//\n",
"s=%s;\n",
"//Creating cont-time transfer function\n",
"TFcont=syslin('c',(8)/(s*(s+2)*(s+3))) \n",
"SScont=tf2ss(TFcont)\n",
"//CCF form\n",
"[Ac,Bc,U,ind]=canon(SScont(2),SScont(3)) "
   ]
   }
,
{
		   "cell_type": "markdown",
		   "metadata": {},
		   "source": [
			"## Example 17.19: Output_Response.sci"
		   ]
		  },
  {
"cell_type": "code",
	   "execution_count": null,
	   "metadata": {
	    "collapsed": true
	   },
	   "outputs": [],
"source": [
"//function//\n",
"A=[0 1;-3 -4]\n",
"B=[0;1]\n",
"C=[1 0]\n",
"x=[0;0]\n",
"disp(x,'x(t)=')\n",
"s=poly(0,'s');\n",
"[Row Col]=size(A)   //Size of a matrix A\n",
"m=s*eye(Row,Col)-A  //sI-A\n",
"n=det(m)            //To Find The Determinant of si-A\n",
"p=inv(m) ;          // To Find The Inverse Of sI-A\n",
"syms t s m;\n",
"disp(p,'phi(s)=')  //Resolvent Matrix\n",
"for i=1:Row\n",
"for j=1:Col\n",
"//Taking Inverse Laplace of each element of Matrix(phi(s))    \n",
"q(i,j)=ilaplace(p(i,j),s,t); \n",
"end;\n",
"end;\n",
"disp(q,'phi(t)=')       //State Transition Matrix\n",
"t=(t-m)\n",
"q=eval(q)   //At t=t-m ,evaluating q i.e phi(t-m)\n",
"r=integ(q*B,m)//Integrate q w.r.t m  (Indefinite Integration)\n",
"m=0           //Upper limit is t\n",
"g=eval(r)    //Putting the value of upper limit in q\n",
"m=t         //Lower Limit is 0\n",
"h=eval(r)  //Putting the value of lower limit in q\n",
"y=(h-g);\n",
"printf('x(t)= phi(t)*x(0) + integ(phi(t-m)*B) w.r.t m from 0 t0 t \n')\n",
"//x(t)=phi(t)*x(0) + integ(phi(t-m)*B) w.r.t m from 0 t0 t\n",
"y1=(q*x)+y;\n",
"disp(y1,'x(t)=')\n",
"y2=C*y1;\n",
"disp(y2,'Output Response=')"
   ]
   }
,
{
		   "cell_type": "markdown",
		   "metadata": {},
		   "source": [
			"## Example 17.20: funtion.sci"
		   ]
		  },
  {
"cell_type": "code",
	   "execution_count": null,
	   "metadata": {
	    "collapsed": true
	   },
	   "outputs": [],
"source": [
"//function//\n",
"A=[0 1;-2 0]\n",
"B=[0;3]\n",
"Cc=cont_mat(A,B);\n",
"disp(Cc,'Controlability Matrix=')\n",
"//To Check Whether the matrix(Cc) is singular i.e determint of Cc=0\n",
"if determ(Cc)==0;\n",
"printf('Since the matrix is Singular, the system is not controllable \n');\n",
"else;\n",
" printf('The system is  controllable \n')\n",
" end;\n",
" "
   ]
   }
,
{
		   "cell_type": "markdown",
		   "metadata": {},
		   "source": [
			"## Example 17.21: Transfer_funtion.sci"
		   ]
		  },
  {
"cell_type": "code",
	   "execution_count": null,
	   "metadata": {
	    "collapsed": true
	   },
	   "outputs": [],
"source": [
"//function//\n",
"A=[-3 0;0 -2]\n",
"B=[4;1]\n",
"C=[2 0]\n",
"[O]=obsv_mat(A,C);\n",
"disp(O,'Observability Matrix=')\n",
"//To Check Whether the matrix(Cc) is singular i.e determint of Cc=0\n",
"if determ(O)==0;\n",
"printf('Since the matrix is Singular, the system is not Observable \n');\n",
"else;\n",
"printf('The system is  Observable \n')\n",
" end;"
   ]
   }
,
{
		   "cell_type": "markdown",
		   "metadata": {},
		   "source": [
			"## Example 17.22: Resolvent_Matrix.sci"
		   ]
		  },
  {
"cell_type": "code",
	   "execution_count": null,
	   "metadata": {
	    "collapsed": true
	   },
	   "outputs": [],
"source": [
"//function//\n",
"ieee(2)\n",
"A=[-3 0 0;0 -1 1 ; 0 0 -1]\n",
"B=[0;1;0]\n",
"s=poly(0,'s');\n",
"[Row Col]=size(A)    //Size of a matrix\n",
"m=s*eye(Row,Col)-A   //sI-A\n",
"n=det(m)            //To Find The Determinant of si-A\n",
"p=inv(m);          // To Find The Inverse Of sI-A\n",
"syms t s;\n",
"disp(p,'phi(s)=') //Resolvent Matrix"
   ]
   }
,
{
		   "cell_type": "markdown",
		   "metadata": {},
		   "source": [
			"## Example 17.23: Transfer_funtion.sci"
		   ]
		  },
  {
"cell_type": "code",
	   "execution_count": null,
	   "metadata": {
	    "collapsed": true
	   },
	   "outputs": [],
"source": [
"//function//\n",
"A=[-2 0;1 -1]\n",
"B=[0;1]\n",
"x=[0;0]\n",
"disp(x,'x(t)=')\n",
"s=poly(0,'s');\n",
"[Row Col]=size(A)   //Size of a matrix A\n",
"m=s*eye(Row,Col)-A  //sI-A\n",
"n=det(m)            //To Find The Determinant of si-A\n",
"p=inv(m) ;          // To Find The Inverse Of sI-A\n",
"syms t s m;\n",
"disp(p,'phi(s)=')  //Resolvent Matrix\n",
"t=(t-m)\n",
"q=eval(q)         //At t=t-m ,evaluating q i.e phi(t-m)\n",
"//Integrate q w.r.t m (Indefinite Integration)\n",
"r=integ(q*B,m) \n",
"m=0         //Upper limit is t\n",
"g=eval(r)  //Putting the value of upper limit in q\n",
"m=t       //Lower Limit is 0\n",
"h=eval(r)  //Putting the value of lower limit in q\n",
"y=(h-g);\n",
"disp(y,'y=')\n",
"printf('x(t)= phi(t)*x(0) + integ(phi(t-m)*B) w.r.t m from 0 t0 t \n')\n",
"//x(t)=phi(t)*x(0)+integ(phi(t-m)*B)w.r.t m from 0 t0 t\n",
"y1=(q*x)+y; \n",
"disp(y1,'x(t)=')\n",
"// CONTROLABILITY OF THE SYSTEM\n",
"Cc=cont_mat(A,B);\n",
"disp(Cc,'Controlability Matrix=')\n",
"//To Check Whether the matrix(Cc)is singular i.e determint of Cc=0\n",
"if determ(Cc)==0;\n",
"printf('Since the matrix is Singular, the system is not controllable \n');\n",
"else;\n",
"printf('The system is  controllable \n')\n",
"end;"
   ]
   }
],
"metadata": {
		  "kernelspec": {
		   "display_name": "Scilab",
		   "language": "scilab",
		   "name": "scilab"
		  },
		  "language_info": {
		   "file_extension": ".sce",
		   "help_links": [
			{
			 "text": "MetaKernel Magics",
			 "url": "https://github.com/calysto/metakernel/blob/master/metakernel/magics/README.md"
			}
		   ],
		   "mimetype": "text/x-octave",
		   "name": "scilab",
		   "version": "0.7.1"
		  }
		 },
		 "nbformat": 4,
		 "nbformat_minor": 0
}
