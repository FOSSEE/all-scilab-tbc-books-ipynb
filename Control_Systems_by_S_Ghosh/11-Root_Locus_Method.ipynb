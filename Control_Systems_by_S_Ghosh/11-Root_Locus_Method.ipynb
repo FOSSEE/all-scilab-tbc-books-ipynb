{
"cells": [
 {
		   "cell_type": "markdown",
	   "metadata": {},
	   "source": [
       "# Chapter 11: Root Locus Method"
	   ]
	},
{
		   "cell_type": "markdown",
		   "metadata": {},
		   "source": [
			"## Example 11.01: root_locus.sci"
		   ]
		  },
  {
"cell_type": "code",
	   "execution_count": null,
	   "metadata": {
	    "collapsed": true
	   },
	   "outputs": [],
"source": [
"//value//\n",
"s=%s;\n",
"sys1=syslin('c',1/(s+1));\n",
"evans(sys1,200)\n",
"printf('If k is varied from 0 to any value ,root locus varies from -k to 0 \n ')"
   ]
   }
,
{
		   "cell_type": "markdown",
		   "metadata": {},
		   "source": [
			"## Example 11.02: rootlocus.sci"
		   ]
		  },
  {
"cell_type": "code",
	   "execution_count": null,
	   "metadata": {
	    "collapsed": true
	   },
	   "outputs": [],
"source": [
"//value//\n",
"s=%s;\n",
"sys1=syslin('c',(s+1)/(s+4));\n",
"evans(sys1,100)\n",
"printf('rootlocus begins at s=-4 & ends at s=-1')"
   ]
   }
,
{
		   "cell_type": "markdown",
		   "metadata": {},
		   "source": [
			"## Example 11.03: Rootlocus.sci"
		   ]
		  },
  {
"cell_type": "code",
	   "execution_count": null,
	   "metadata": {
	    "collapsed": true
	   },
	   "outputs": [],
"source": [
"//value//\n",
"s=%s;\n",
"sys1=syslin('c',(s+3-%i)*(s+3+%i)/((s+2-%i)*(s+2+%i)));\n",
"evans(sys1,100)\n",
"printf('Rootlocus starts from s=-2+i & -2-i ends at s=-3+i &-3- i \n')"
   ]
   }
,
{
		   "cell_type": "markdown",
		   "metadata": {},
		   "source": [
			"## Example 11.04: Root_locus_calculatio.sci"
		   ]
		  },
  {
"cell_type": "code",
	   "execution_count": null,
	   "metadata": {
	    "collapsed": true
	   },
	   "outputs": [],
"source": [
"//value//\n",
"s=%s;\n",
"H=syslin('c',(s+1)/(s+2));\n",
"evans(H,100)\n",
"printf(' Clearly from the graph it  observed that given point -1+i & -3+i does not lie on the root locus \n')\n",
"// there is another process to check whether the points lie on the locus of the system\n",
"P=-1+%i;    //P=selected point\n",
"k1=-1/real(horner(H,P))\n",
"Ns=H('num');Ds=H('den');\n",
"roots(Ds+k1*Ns)     //does not contains P as particular root\n",
"P=-3+%i;    //P=selected point\n",
"k2=-1/real(horner(H,P));\n",
"Ns=H('num');Ds=H('den')\n",
"roots(Ds+k2*Ns)     //does not contains P as particular root"
   ]
   }
,
{
		   "cell_type": "markdown",
		   "metadata": {},
		   "source": [
			"## Example 11.05: root_locus_value.sci"
		   ]
		  },
  {
"cell_type": "code",
	   "execution_count": null,
	   "metadata": {
	    "collapsed": true
	   },
	   "outputs": [],
"source": [
"//value//\n",
"s=%s;\n",
"H=syslin('c',1/(s*(s+1)*(s+3)));\n",
"evans(H,100)\n",
"printf('Clearly from the graph it  observed that given point -0.85  lies on the root locus \n')\n",
"// there is another process to check whether the points lie on the locus of the system\n",
"P=-0.85;    //P=selected point\n",
"k=-1/real(horner(H,P));\n",
"disp(k,'k=')\n",
"Ns=H('num');Ds=H('den');\n",
"roots(Ds+k*Ns)     //contains P as particular root"
   ]
   }
,
{
		   "cell_type": "markdown",
		   "metadata": {},
		   "source": [
			"## Example 11.06: Root_locus_value.sci"
		   ]
		  },
  {
"cell_type": "code",
	   "execution_count": null,
	   "metadata": {
	    "collapsed": true
	   },
	   "outputs": [],
"source": [
"//value//\n",
"s=%s;\n",
"H=syslin('c',1/((s+1)*(s+5)));\n",
"evans(H,100)\n",
"printf('Clearly from the graph it  observed that given point -0.85  lies on the root locus \n')\n",
"// there is another process to check whether the points lie on the locus of the system\n",
"P=-3+5*%i;    //P=selected point\n",
"k=-1/real(horner(H,P));\n",
"disp(k,'k=')\n",
"Ns=H('num');Ds=H('den');\n",
"roots(Ds+k*Ns)     //contains P as particular root"
   ]
   }
,
{
		   "cell_type": "markdown",
		   "metadata": {},
		   "source": [
			"## Example 11.08: Root_locus.sci"
		   ]
		  },
  {
"cell_type": "code",
	   "execution_count": null,
	   "metadata": {
	    "collapsed": true
	   },
	   "outputs": [],
"source": [
"//value//\n",
"s=%s;\n",
"H=syslin('c',(s+2)/((s+1)*s*(s+4)));\n",
"evans(H,100)\n",
"printf('From the graph we observed that, \n a)The no of loci ending at inf is 2 \n b)Three loci will start from s= 0,-1 & -4,\n c)One loci will end at -2 & remaining two will end at inf') \n",
""
   ]
   }
,
{
		   "cell_type": "markdown",
		   "metadata": {},
		   "source": [
			"## Example 11.09: Root_locus.sci"
		   ]
		  },
  {
"cell_type": "code",
	   "execution_count": null,
	   "metadata": {
	    "collapsed": true
	   },
	   "outputs": [],
"source": [
"//value//\n",
"s=%s;\n",
"H=syslin('c',(s+2)/((s+1)*s*(s+4)));\n",
"evans(H,100)"
   ]
   }
,
{
		   "cell_type": "markdown",
		   "metadata": {},
		   "source": [
			"## Example 11.10: Centroid.sci"
		   ]
		  },
  {
"cell_type": "code",
	   "execution_count": null,
	   "metadata": {
	    "collapsed": true
	   },
	   "outputs": [],
"source": [
"//value//\n",
"n=3;\n",
"disp(n,'no of poles=')\n",
"m=1;\n",
"disp(m,'no of poles=')\n",
"q=0;\n",
"O=((2*q)+1)/(n-m)*180;\n",
"disp(O,'q=')\n",
"q=1;\n",
"O=((2*q)+1)/(n-m)*180;\n",
"disp(O,'q=')\n",
"\n",
"printf('Centroid=((sum of all real part of poles of G(s)H(s))-(sum of all real part of zeros of G(s)H(s))/(n-m) \n')\n",
"C=((0-1-4)-(-2))/2;\n",
"disp(C,'centroid=')"
   ]
   }
,
{
		   "cell_type": "markdown",
		   "metadata": {},
		   "source": [
			"## Example 11.11: Centroid.sci"
		   ]
		  },
  {
"cell_type": "code",
	   "execution_count": null,
	   "metadata": {
	    "collapsed": true
	   },
	   "outputs": [],
"source": [
"//value//\n",
"n=3;\n",
"disp(n,'no of poles=')\n",
"m=0;\n",
"disp(m,'no of poles=')\n",
"q=0;\n",
"O=((2*q)+1)/(n-m)*180;\n",
"disp(O,'q=')\n",
"q=1;\n",
"O=((2*q)+1)/(n-m)*180;\n",
"disp(O,'q=')\n",
"q=2;\n",
"O=((2*q)+1)/(n-m)*180;\n",
"disp(O,'q=')\n",
"\n",
"printf('Centroid=((sum of all real part of poles of G(s)H(s))-(sum of all real part of zeros of G(s)H(s))/(n-m) \n')\n",
"C=((0-1-1)-(-0))/3;\n",
"disp(C,'centroid=')"
   ]
   }
,
{
		   "cell_type": "markdown",
		   "metadata": {},
		   "source": [
			"## Example 11.12: Centroid.sci"
		   ]
		  },
  {
"cell_type": "code",
	   "execution_count": null,
	   "metadata": {
	    "collapsed": true
	   },
	   "outputs": [],
"source": [
"//value//\n",
"n=4;\n",
"disp(n,'no of poles=')\n",
"m=1;\n",
"disp(m,'no of poles=')\n",
"q=0;\n",
"O=((2*q)+1)/(n-m)*180;\n",
"disp(O,'q=')\n",
"q=1;\n",
"O=((2*q)+1)/(n-m)*180;\n",
"disp(O,'q=')\n",
"q=2;\n",
"O=((2*q)+1)/(n-m)*180;\n",
"disp(O,'q=')\n",
"\n",
"printf('Centroid=((sum of all real part of poles of G(s)H(s))-(sum of all real part of zeros of G(s)H(s))/(n-m) \n')\n",
"C=((0-2-4-5)-(-3))/3;\n",
"disp(C,'centroid=')"
   ]
   }
,
{
		   "cell_type": "markdown",
		   "metadata": {},
		   "source": [
			"## Example 11.13: breakaway_point.sci"
		   ]
		  },
  {
"cell_type": "code",
	   "execution_count": null,
	   "metadata": {
	    "collapsed": true
	   },
	   "outputs": [],
"source": [
"//value//\n",
"s=%s;\n",
"H=syslin('c',(s+2)/((s+1)*s*(s+3)));\n",
"plzr(H)\n",
"printf('There are two adjacent placed poles at s=0 &s=-1 \n')\n",
"printf('One breakaway point exists between s=0 & s=-1 \n')\n",
" "
   ]
   }
,
{
		   "cell_type": "markdown",
		   "metadata": {},
		   "source": [
			"## Example 11.14: breakin_point.sci"
		   ]
		  },
  {
"cell_type": "code",
	   "execution_count": null,
	   "metadata": {
	    "collapsed": true
	   },
	   "outputs": [],
"source": [
"//value//\n",
"s=%s;\n",
"H=syslin('c',((s+2)*(s+4))/((s^2)*(s+5)));\n",
"plzr(H)\n",
"printf('There are two adjacent placed zeros at s=-2 &s=-4 \n')\n",
"printf('One breakin point exists between s=-2 & s=-4 \n')\n",
" "
   ]
   }
,
{
		   "cell_type": "markdown",
		   "metadata": {},
		   "source": [
			"## Example 11.15: breakaway_point.sci"
		   ]
		  },
  {
"cell_type": "code",
	   "execution_count": null,
	   "metadata": {
	    "collapsed": true
	   },
	   "outputs": [],
"source": [
"//value//\n",
"s=%s;\n",
"H=syslin('c',(s+6)/((s+1)*(s+3)));\n",
"plzr(H)\n",
"printf('There are two adjacent placed poles at s=-3 &s=-1 \n')\n",
"printf('One breakaway point exists between s=-3 & s=-1 \n')\n",
"printf('One breakin point exists to the left of zeros at s=-6 \n')"
   ]
   }
,
{
		   "cell_type": "markdown",
		   "metadata": {},
		   "source": [
			"## Example 11.16: breakaway_point.sci"
		   ]
		  },
  {
"cell_type": "code",
	   "execution_count": null,
	   "metadata": {
	    "collapsed": true
	   },
	   "outputs": [],
"source": [
"//value//\n",
"s=%s;\n",
"H=syslin('c',1/((s+1)*s*(s+3)));\n",
"plzr(H)\n",
"printf('There are two adjacent placed poles at s=0 &s=-1 \n')\n",
"printf('One breakaway point exists between s=0 & s=-1 \n')"
   ]
   }
,
{
		   "cell_type": "markdown",
		   "metadata": {},
		   "source": [
			"## Example 11.17: auxillary_equatio.sci"
		   ]
		  },
  {
"cell_type": "code",
	   "execution_count": null,
	   "metadata": {
	    "collapsed": true
	   },
	   "outputs": [],
"source": [
"//value//\n",
"s=%s;\n",
"H=syslin('c',1/((s+1)*s*(s+3)));\n",
"evans(H,100)\n",
"syms k;\n",
"m=s^3+6*s^2+8*s+k;\n",
" cof_a_0 = coeffs(m,'s',0);\n",
"    cof_a_1 = coeffs(m,'s',1);\n",
"    cof_a_2 = coeffs(m,'s',2);\n",
"    cof_a_3 = coeffs(m,'s',3);\n",
"    r=[cof_a_0 cof_a_1 cof_a_2 cof_a_3] \n",
"\n",
"n=length(r);\n",
"routh=[r([4,2]);r([3,1])];\n",
"routh=[routh;-det(routh)/routh(2,1),0];\n",
"t=routh(2:3,1:2); //extracting the square sub block of routh matrix\n",
"routh=[routh;-det(t)/t(2,1),0]\n",
"disp(48,'K(marginal)=')\n",
"disp('=0',(6*s^2)+k,'auxillary equation')\n",
"k=48;\n",
"s=sqrt(-k/6);\n",
"disp(s,'s=')"
   ]
   }
,
{
		   "cell_type": "markdown",
		   "metadata": {},
		   "source": [
			"## Example 11.19: Equatio.sci"
		   ]
		  },
  {
"cell_type": "code",
	   "execution_count": null,
	   "metadata": {
	    "collapsed": true
	   },
	   "outputs": [],
"source": [
"//value//\n",
"s=%s;\n",
"H=syslin('c',1/((s+1+%i)*s*(s+1-%i)));\n",
"evans(H,100)"
   ]
   }
,
{
		   "cell_type": "markdown",
		   "metadata": {},
		   "source": [
			"## Example 11.20: equatio.sci"
		   ]
		  },
  {
"cell_type": "code",
	   "execution_count": null,
	   "metadata": {
	    "collapsed": true
	   },
	   "outputs": [],
"source": [
"//value//\n",
"s=%s;\n",
"H=syslin('c',1/((s+3)*s*(s+5)));\n",
"evans(H,100)"
   ]
   }
,
{
		   "cell_type": "markdown",
		   "metadata": {},
		   "source": [
			"## Example 11.21: equatio.sci"
		   ]
		  },
  {
"cell_type": "code",
	   "execution_count": null,
	   "metadata": {
	    "collapsed": true
	   },
	   "outputs": [],
"source": [
"//value//\n",
"s=%s;\n",
"H=syslin('c',1/((s+2+%i)*(s+1)*(s+2-%i)));\n",
"evans(H,100)"
   ]
   }
,
{
		   "cell_type": "markdown",
		   "metadata": {},
		   "source": [
			"## Example 11.22: gain_margin.sci"
		   ]
		  },
  {
"cell_type": "code",
	   "execution_count": null,
	   "metadata": {
	    "collapsed": true
	   },
	   "outputs": [],
"source": [
"//value//\n",
"s=%s;\n",
"num=real(poly([1],'s','coeff'))\n",
"den=real(poly([-1,-2+%i,-2-%i],'s'))\n",
"H=num/den\n",
"evans(H,100)\n",
"k=1.5;\n",
"disp(k,'K(design)=')\n",
"//Kpure calculates the value of k at imaginary crossover\n",
"[K,Y]=kpure(H)  \n",
"GM=K/k;\n",
"disp(GM,'value of k at imaginary crossover/k(design)=')\n",
"disp(GM,'gain margin=')"
   ]
   }
,
{
		   "cell_type": "markdown",
		   "metadata": {},
		   "source": [
			"## Example 11.23: value.sci"
		   ]
		  },
  {
"cell_type": "code",
	   "execution_count": null,
	   "metadata": {
	    "collapsed": true
	   },
	   "outputs": [],
"source": [
"//value//\n",
"s=%s;\n",
"H=syslin('c',1/(s*((s+3)^2)));\n",
"evans(H,100)\n",
"K=25;\n",
"y=K*H; //-----eq 1)\n",
"disp(K*H,'G(s)H(s)=');\n",
"disp('=1',K*H,'mod(G(s)H(s))');\n",
"//on solving eq 1 for s=%i*w this we get an equation m\n",
"w=poly(0,'w');\n",
"m=w^3+9*w-25\n",
"n=roots(m)\n",
"s=%i*n(1)\n",
"p=horner(y,s)\n",
"[R,Theta]=polar(p)\n",
"PM=180+Theta"
   ]
   }
,
{
		   "cell_type": "markdown",
		   "metadata": {},
		   "source": [
			"## Example 11.25: equatio.sci"
		   ]
		  },
  {
"cell_type": "code",
	   "execution_count": null,
	   "metadata": {
	    "collapsed": true
	   },
	   "outputs": [],
"source": [
"//value//\n",
"s=%s;\n",
"H=syslin('c',1/((s+1)*s*(s+2)*(s+4)));\n",
"evans(H,100)"
   ]
   }
,
{
		   "cell_type": "markdown",
		   "metadata": {},
		   "source": [
			"## Example 11.26: equatio.sci"
		   ]
		  },
  {
"cell_type": "code",
	   "execution_count": null,
	   "metadata": {
	    "collapsed": true
	   },
	   "outputs": [],
"source": [
"//value//\n",
"s=%s;\n",
"H=syslin('c',(s+4)*(s+5)/((s+1)*(s+3)));\n",
"evans(H,100)"
   ]
   }
,
{
		   "cell_type": "markdown",
		   "metadata": {},
		   "source": [
			"## Example 11.27: root_locus.sci"
		   ]
		  },
  {
"cell_type": "code",
	   "execution_count": null,
	   "metadata": {
	    "collapsed": true
	   },
	   "outputs": [],
"source": [
"//value//\n",
"s=%s;\n",
"syms k Wn;\n",
"H=syslin('c',1/((s+3)^2*s)); \n",
"evans(H,100) //root locus \n",
"printf('To determine the value of Wn \n')\n",
"disp(k*H,'G(s)H(s)=')\n",
"y=1+(k*H);\n",
"disp('=0',y,'1+G(s)H(s)')\n",
"evans(H,100)\n",
"[num,den]=numden(y)\n",
"\n",
" cof_a_0 = coeffs(num,'s',0);\n",
"    cof_a_1 = coeffs(num,'s',1);\n",
"    cof_a_2 = coeffs(num,'s',2);\n",
"    cof_a_3 = coeffs(num,'s',3);\n",
"    r=[cof_a_0 cof_a_1 cof_a_2 cof_a_3] \n",
"\n",
"n=length(r);\n",
"routh=[r([4,2]);r([3,1])];\n",
"routh=[routh;-det(routh)/routh(2,1),0];\n",
"t=routh(2:3,1:2); //extracting the square sub block of routh matrix\n",
"routh=[routh;-det(t)/t(2,1),0]\n",
"//to obtain Wn\n",
"disp('=0',((6*s^2)+54),'auxillary eq')\n",
"p=(6*(s^2))+k;\n",
"s=%i*Wn\n",
"k=54;\n",
"p=eval(p) \n",
"Wn=sqrt(k/6)\n",
"printf('With gvn values of zeta adding a grid on root locus \n')\n",
"\n",
"zeta=0.5; //given\n",
"sgrid(zeta,Wn,7) //add a grid over an existing continuous s-plane root with given values for zeta and wn.\n",
"printf('NOTE:-click on the point where locus intersects z=0.5 for desired value of k \n')\n",
"k=-1/real(horner(H,[1,%i]*locate(1)))  //To obtain the gain at a given point of the locus\n",
"\n",
"\n",
"p=locate(1) //desired point on the root locus"
   ]
   }
,
{
		   "cell_type": "markdown",
		   "metadata": {},
		   "source": [
			"## Example 11.28: Equatio.sci"
		   ]
		  },
  {
"cell_type": "code",
	   "execution_count": null,
	   "metadata": {
	    "collapsed": true
	   },
	   "outputs": [],
"source": [
"//value//\n",
"s=%s;\n",
"H=syslin('c',1/((s+4)*s*(s+6)));\n",
"evans(H,100)"
   ]
   }
],
"metadata": {
		  "kernelspec": {
		   "display_name": "Scilab",
		   "language": "scilab",
		   "name": "scilab"
		  },
		  "language_info": {
		   "file_extension": ".sce",
		   "help_links": [
			{
			 "text": "MetaKernel Magics",
			 "url": "https://github.com/calysto/metakernel/blob/master/metakernel/magics/README.md"
			}
		   ],
		   "mimetype": "text/x-octave",
		   "name": "scilab",
		   "version": "0.7.1"
		  }
		 },
		 "nbformat": 4,
		 "nbformat_minor": 0
}
