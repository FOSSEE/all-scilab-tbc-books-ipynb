{
"cells": [
 {
		   "cell_type": "markdown",
	   "metadata": {},
	   "source": [
       "# Chapter 2: Laplace Transform and Matrix Algebra"
	   ]
	},
{
		   "cell_type": "markdown",
		   "metadata": {},
		   "source": [
			"## Example 2.01_01: laplace.sci"
		   ]
		  },
  {
"cell_type": "code",
	   "execution_count": null,
	   "metadata": {
	    "collapsed": true
	   },
	   "outputs": [],
"source": [
"//laplace//\n",
" syms t s;\n",
" y=laplace('13',t,s);\n",
" disp(y,'ans=')\n",
" "
   ]
   }
,
{
		   "cell_type": "markdown",
		   "metadata": {},
		   "source": [
			"## Example 2.01_02: laplace.sci"
		   ]
		  },
  {
"cell_type": "code",
	   "execution_count": null,
	   "metadata": {
	    "collapsed": true
	   },
	   "outputs": [],
"source": [
"//laplace//\n",
" syms t s;\n",
" y=laplace('4+5*%e^(-3*t)',t,s);\n",
" disp(y,'ans=')"
   ]
   }
,
{
		   "cell_type": "markdown",
		   "metadata": {},
		   "source": [
			"## Example 2.01_03: laplace.sci"
		   ]
		  },
  {
"cell_type": "code",
	   "execution_count": null,
	   "metadata": {
	    "collapsed": true
	   },
	   "outputs": [],
"source": [
"//laplace// \n",
"syms t s;\n",
" y=laplace('2*t-3*%e^(-t)',t,s);\n",
" disp(y,'ans=')"
   ]
   }
,
{
		   "cell_type": "markdown",
		   "metadata": {},
		   "source": [
			"## Example 2.03: value_theorem.sci"
		   ]
		  },
  {
"cell_type": "code",
	   "execution_count": null,
	   "metadata": {
	    "collapsed": true
	   },
	   "outputs": [],
"source": [
"//value theorem//\n",
"p=poly([9 1],'s','coeff')\n",
"q=poly([3 7 1],'s','coeff')\n",
"f=p/q;\n",
"disp(f,'F(s)=')\n",
"x=s*f;\n",
"y=limit(x,s,0); // final value theorem\n",
"disp(y,'f(inf)=')\n",
"z=limit(x,s,%inf); // initial value theorem\n",
"disp(z,'f(0)=')"
   ]
   }
,
{
		   "cell_type": "markdown",
		   "metadata": {},
		   "source": [
			"## Example 2.04: ilaplace.sci"
		   ]
		  },
  {
"cell_type": "code",
	   "execution_count": null,
	   "metadata": {
	    "collapsed": true
	   },
	   "outputs": [],
"source": [
"//ilaplace//\n",
"s=%s\n",
"syms t ;\n",
"disp((s+3)/((s+1)*(s+2)*(s+4)),'F(s)=')\n",
"[A]=pfss((s+3)/((s+1)*(s+2)*(s+4))) //partial fraction of F(s)\n",
"F1= ilaplace(A(1),s,t)\n",
"F2= ilaplace(A(2),s,t)\n",
"F3= ilaplace(A(3),s,t)\n",
"F=F1+F2+F3;\n",
"disp(F,'f(t)=')"
   ]
   }
,
{
		   "cell_type": "markdown",
		   "metadata": {},
		   "source": [
			"## Example 2.05_01: laplace.sci"
		   ]
		  },
  {
"cell_type": "code",
	   "execution_count": null,
	   "metadata": {
	    "collapsed": true
	   },
	   "outputs": [],
"source": [
"//laplace//\n",
"syms t s;\n",
"y= laplace('%e^(-t)+5*t+6*%e^(-3*t)',t,s);\n",
"disp(y,'ans=')\n",
" "
   ]
   }
,
{
		   "cell_type": "markdown",
		   "metadata": {},
		   "source": [
			"## Example 2.05_02: laplace.sci"
		   ]
		  },
  {
"cell_type": "code",
	   "execution_count": null,
	   "metadata": {
	    "collapsed": true
	   },
	   "outputs": [],
"source": [
"//laplace//\n",
"syms t s;\n",
"y=laplace('5+6*t^2+3*%e^(-2*t)',t,s);\n",
"disp(y,'ans=')"
   ]
   }
,
{
		   "cell_type": "markdown",
		   "metadata": {},
		   "source": [
			"## Example 2.06: laplace.sci"
		   ]
		  },
  {
"cell_type": "code",
	   "execution_count": null,
	   "metadata": {
	    "collapsed": true
	   },
	   "outputs": [],
"source": [
"//laplace//\n",
"syms t s;\n",
"y=laplace('3- %e^(-3*t)',t,s);\n",
"disp(y,'ans=')"
   ]
   }
,
{
		   "cell_type": "markdown",
		   "metadata": {},
		   "source": [
			"## Example 2.07: laplace.sci"
		   ]
		  },
  {
"cell_type": "code",
	   "execution_count": null,
	   "metadata": {
	    "collapsed": true
	   },
	   "outputs": [],
"source": [
"//laplace//\n",
"syms t s w;\n",
"y=laplace('5*sin(w*t)+7*cos(w*t)',t,s);\n",
"disp(y,'ans=')"
   ]
   }
,
{
		   "cell_type": "markdown",
		   "metadata": {},
		   "source": [
			"## Example 2.11: value_theorem.sci"
		   ]
		  },
  {
"cell_type": "code",
	   "execution_count": null,
	   "metadata": {
	    "collapsed": true
	   },
	   "outputs": [],
"source": [
"//value theorem//\n",
"p=poly([0.38],'s','coeff');\n",
"q=poly([0 0.543 2.48 1],'s','coeff');\n",
"F=p/q;\n",
"\n",
"syms s;\n",
"x=s*F;\n",
"y=limit(x,s,0);  // final value theorem\n",
"y=dbl(y);\n",
"disp(y,'f(inf)=')\n",
"z=limit(x,s,%inf) // // initial value theorem\n",
"z=dbl(z); \n",
"disp(z,'f(0)=')"
   ]
   }
,
{
		   "cell_type": "markdown",
		   "metadata": {},
		   "source": [
			"## Example 2.12: ilaplace.sci"
		   ]
		  },
  {
"cell_type": "code",
	   "execution_count": null,
	   "metadata": {
	    "collapsed": true
	   },
	   "outputs": [],
"source": [
"//ilaplace//\n",
"s=%s;\n",
"p=poly([3 1],'s','coeff');\n",
"q=poly([0 -1 -2],'s','roots');\n",
"F=p/q;\n",
"syms t s;\n",
"y=ilaplace(F,s,t);\n",
"disp(y,'f(t)=')"
   ]
   }
,
{
		   "cell_type": "markdown",
		   "metadata": {},
		   "source": [
			"## Example 2.13: ilaplace.sci"
		   ]
		  },
  {
"cell_type": "code",
	   "execution_count": null,
	   "metadata": {
	    "collapsed": true
	   },
	   "outputs": [],
"source": [
"//ilaplace//\n",
"s=%s;\n",
"p=poly([3 1],'s','coeff');\n",
"q=poly([0 -1 -1 -2],'s','roots');\n",
"f=p/q;\n",
"syms t s;\n",
"y=ilaplace(f,s,t);\n",
"disp(y,'f(t)=')"
   ]
   }
],
"metadata": {
		  "kernelspec": {
		   "display_name": "Scilab",
		   "language": "scilab",
		   "name": "scilab"
		  },
		  "language_info": {
		   "file_extension": ".sce",
		   "help_links": [
			{
			 "text": "MetaKernel Magics",
			 "url": "https://github.com/calysto/metakernel/blob/master/metakernel/magics/README.md"
			}
		   ],
		   "mimetype": "text/x-octave",
		   "name": "scilab",
		   "version": "0.7.1"
		  }
		 },
		 "nbformat": 4,
		 "nbformat_minor": 0
}
