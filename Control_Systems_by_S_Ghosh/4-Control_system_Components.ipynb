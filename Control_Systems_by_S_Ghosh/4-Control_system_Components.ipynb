{
"cells": [
 {
		   "cell_type": "markdown",
	   "metadata": {},
	   "source": [
       "# Chapter 4: Control system Components"
	   ]
	},
{
		   "cell_type": "markdown",
		   "metadata": {},
		   "source": [
			"## Example 4.01: laplace.sci"
		   ]
		  },
  {
"cell_type": "code",
	   "execution_count": null,
	   "metadata": {
	    "collapsed": true
	   },
	   "outputs": [],
"source": [
"//laplace//\n",
"printf('Given a)Excitation voltage(Ein)=2V \n b) Setting Ratio(a)= 0.4 \n')\n",
"Ein=2;\n",
"disp(Ein,'Ein=')\n",
"a=0.4;\n",
"disp(a,'a=')\n",
"Rt=10^3;\n",
"disp(Rt,'Rt=')\n",
"Rl=5*10^3;\n",
"disp(Rl,'Rl=')\n",
"printf('Eo = (a*Ein)/(1+(a*(1-a)*Rt)/Rl) \n')\n",
"Eo = (a*Ein)/(1+(a*(1-a)*Rt)/Rl);\n",
"disp(Eo,'output voltage(E0)=')\n",
"printf('e=((a^2)*(1-a))/((a*(1-a))+(Rl/Rt)) \n')\n",
"e=((a^2)*(1-a))/((a*(1-a))+(Rl/Rt));\n",
"disp(e,'loading error=')\n",
"printf('E=Ein*e \n')\n",
"E=Ein*e; //Voltage error=Excitation voltage(Ein)*Loading error(e)\n",
"disp(E,'Voltage error=')"
   ]
   }
,
{
		   "cell_type": "markdown",
		   "metadata": {},
		   "source": [
			"## Example 4.02: laplace.sci"
		   ]
		  },
  {
"cell_type": "code",
	   "execution_count": null,
	   "metadata": {
	    "collapsed": true
	   },
	   "outputs": [],
"source": [
"//laplace//\n",
"printf('n=5 ,Helical turn \n')\n",
"n=5; //Helical turn\n",
"disp(n,'n=')\n",
"printf('N=9000 ,Winding Turn \n')\n",
"N=9000;//Winding Turn\n",
"disp(N,'N=')\n",
"printf('R=10000 ,Potentiometer Resistance \n')\n",
"R=10000;//Potentiometer Resistance\n",
"disp(R,'R=')\n",
"printf('Ein=90 ,Input voltage \n')\n",
"Ein=90;//Input voltage\n",
"disp(Ein,'Ein=')\n",
"printf('r=5050 ,Resistance at mid point  \n')\n",
"r=5050;//Resistance at mid point \n",
"disp(r,'r=')\n",
"printf('D=r-5000, Deviation from nominal at mid-point \n')\n",
"D=r-5000; //Deviation from nominal at mid-point\n",
"disp(D,'D=')\n",
"printf('L=D/R*100 ,Linearity \n')\n",
"L=D/R*100;//Linearity\n",
"disp(L,'L=')\n",
"printf('R=Ein/N ,Resolution \n')\n",
"R=Ein/N; //Resolution\n",
"disp(R,'R=')\n",
"printf('Kp=Ein/(2*pi*n) ,Potentiometer Constant \n')\n",
"Kp=Ein/(2*%pi*n); //Potentiometer Constant\n",
"disp(Kp,'Kp=')"
   ]
   }
,
{
		   "cell_type": "markdown",
		   "metadata": {},
		   "source": [
			"## Example 4.03: laplace.sci"
		   ]
		  },
  {
"cell_type": "code",
	   "execution_count": null,
	   "metadata": {
	    "collapsed": true
	   },
	   "outputs": [],
"source": [
"//laplace//\n",
"printf('since S2 is the referance stator winding , Es2=KVcos0 \n where Es2 & Er are rms voltages \n')\n",
"k=1\n",
"Theta=60;\n",
"disp(Theta,'Theta=')\n",
"V=28;\n",
"disp(V,'V(applied)=')\n",
"printf('Es2=V*cos(Theta) \n')\n",
"Es2=k*V*cos(Theta*(%pi/180));\n",
"disp(Es2,'Es2=')\n",
"printf('Es1=k*V*cos(Theta-120)\n')\n",
"Es1=k*V*cos((Theta-120)*(%pi/180)); // Given Theta=60 in degrees\n",
"disp(Es1,'Es1=')\n",
"printf('Es3=k*V*cos(Theta+120) \n')\n",
"Es3=k*V*cos((Theta+120)*(%pi/180));\n",
"disp(Es3,'Es3=')\n",
"printf('Es31=sqrt(3)*k*Er*sin(Theta)')\n",
"Es31=sqrt(3)*k*V*sin(Theta*(%pi/180));\n",
"disp(Es31,'Es31=')\n",
"printf('Es12=sqrt(3)*k*Er*sin((Theta-120)')\n",
"Es12=sqrt(3)*k*V*sin((Theta-120)*(%pi/180));\n",
"disp(Es12,'Es12=')\n",
"printf('Es23=sqrt(3)*k*Er*sin((Theta+120)')\n",
"Es23=sqrt(3)*k*V*sin((Theta+120)*(%pi/180));\n",
"disp(Es23,'Es23=')\n",
""
   ]
   }
,
{
		   "cell_type": "markdown",
		   "metadata": {},
		   "source": [
			"## Example 4.04: laplace.sci"
		   ]
		  },
  {
"cell_type": "code",
	   "execution_count": null,
	   "metadata": {
	    "collapsed": true
	   },
	   "outputs": [],
"source": [
"//laplace//\n",
"printf('Sensitivity=5v/1000rpm \n')\n",
"Vg=5;\n",
"disp(Vg,'Vg=')\n",
"printf('w(in radians/sec)=(1000/60)*2*pi \n')\n",
"w=(1000/60)*2*%pi;\n",
"disp(w,'w=')\n",
"printf('Kt=Vg/w \n')\n",
"Kt=Vg/w;\n",
"disp(Kt,'Gain constant(Kt)=')"
   ]
   }
,
{
		   "cell_type": "markdown",
		   "metadata": {},
		   "source": [
			"## Example 4.05: laplace.sci"
		   ]
		  },
  {
"cell_type": "code",
	   "execution_count": null,
	   "metadata": {
	    "collapsed": true
	   },
	   "outputs": [],
"source": [
"//laplace//\n",
"printf('Torque=KmVm=2 \n')\n",
"t=2;\n",
"disp(t,'Torque(t)=')\n",
"Fm=0.2;\n",
"disp(Fm,'Coefficient of Viscous friction(Fm)=')\n",
"N=4\n",
"I=0.2\n",
"F1=0.05\n",
"printf('Wnl=t/Fm')\n",
"Wnl=t/Fm;\n",
"disp(Wnl,'No Load Speed(Wnl)=')\n",
"printf('Fwt=I+(N^2*F1) \n')\n",
"Fwt=I+(N^2*F1);\n",
"disp(Fwt,'Total Viscous Friction(Fwt)=')\n",
"printf('Te=t-(Fwt*w) \n')\n",
"Te=0.8 //load\n",
"w=(t-Te)/Fwt;\n",
"disp(w,'Speed of Motor(w)=')"
   ]
   }
],
"metadata": {
		  "kernelspec": {
		   "display_name": "Scilab",
		   "language": "scilab",
		   "name": "scilab"
		  },
		  "language_info": {
		   "file_extension": ".sce",
		   "help_links": [
			{
			 "text": "MetaKernel Magics",
			 "url": "https://github.com/calysto/metakernel/blob/master/metakernel/magics/README.md"
			}
		   ],
		   "mimetype": "text/x-octave",
		   "name": "scilab",
		   "version": "0.7.1"
		  }
		 },
		 "nbformat": 4,
		 "nbformat_minor": 0
}
