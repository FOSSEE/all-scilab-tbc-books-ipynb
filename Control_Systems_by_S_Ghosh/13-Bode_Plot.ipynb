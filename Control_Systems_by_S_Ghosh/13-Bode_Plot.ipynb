{
"cells": [
 {
		   "cell_type": "markdown",
	   "metadata": {},
	   "source": [
       "# Chapter 13: Bode Plot"
	   ]
	},
{
		   "cell_type": "markdown",
		   "metadata": {},
		   "source": [
			"## Example 13.01: gain_and_phase_margin.sci"
		   ]
		  },
  {
"cell_type": "code",
	   "execution_count": null,
	   "metadata": {
	    "collapsed": true
	   },
	   "outputs": [],
"source": [
"//polynomial//\n",
"s=poly(0,'s'); //Defines s as polynomial variable\n",
"F=syslin('c',[20/(s+2)]) //Creates transfer function in forward path\n",
"B=syslin('c',(1+0*s)/(1+0*s)) //Creates transfer function in backward path\n",
"OL=F*B //Calculates open-loop transfer function\n",
"fmin=0.1; //Min freq in Hz\n",
"fmax=100; //Max freq in Hz\n",
"scf(1);clf;\n",
"bode(OL,fmin,fmax); //Plots frequency response of open-loop system in Bode diagram\n",
"show_margins(OL) //display gain and phase margin and associated crossover frequencies"
   ]
   }
,
{
		   "cell_type": "markdown",
		   "metadata": {},
		   "source": [
			"## Example 13.02: gain_and_phase_margin_and_associated_crossover_frequencies.sci"
		   ]
		  },
  {
"cell_type": "code",
	   "execution_count": null,
	   "metadata": {
	    "collapsed": true
	   },
	   "outputs": [],
"source": [
"//polynomial//\n",
"s=poly(0,'s'); //Defines s as polynomial variable\n",
"F=syslin('c',[20/((2+s)*s)]); //Creates transfer function in forward path\n",
"B=syslin('c',(1+0*s)/(1+0*s)); //Creates transfer function in backward path\n",
"OL=F*B; //Calculates open-loop transfer function\n",
"fmin=0.01; //Min freq in Hz\n",
"fmax=20; //Max freq in Hz\n",
"scf(1);clf;\n",
"bode(OL,fmin,fmax); //Plots frequency response of open-loop system in Bode diagram\n",
"show_margins(OL) //display gain and phase margin and associated crossover frequencies"
   ]
   }
,
{
		   "cell_type": "markdown",
		   "metadata": {},
		   "source": [
			"## Example 13.03: Gain_and_phase_margin_and_associated_crossover_frequencies.sci"
		   ]
		  },
  {
"cell_type": "code",
	   "execution_count": null,
	   "metadata": {
	    "collapsed": true
	   },
	   "outputs": [],
"source": [
"//polynomial//\n",
"s=poly(0,'s'); //Defines s as polynomial variable\n",
"F=syslin('c',[40/((2+s)*s*(s+5))]) //Creates transfer function in forward path\n",
"B=syslin('c',(1+0*s)/(1+0*s)) //Creates transfer function in backward path\n",
"OL=F*B; //Calculates open-loop transfer function\n",
"fmin=0.1; //Min freq in Hz\n",
"fmax=20; //Max freq in Hz\n",
"scf(1);clf;\n",
"bode(OL,fmin,fmax); //Plots frequency response of open-loop system in Bode diagram\n",
"[GainMargin,freqGM]=g_margin(OL) //Calculates gain margin [dB] and corresponding frequency [Hz]\n",
"[Phase,freqPM]=p_margin(OL) //Calculates phase [deg] and corresponding freq [Hz] of phase margin\n",
"PhaseMargin=180+Phase  //Calculates actual phase margin [deg]\n",
"show_margins(OL) //display gain and phase margin and associated crossover frequencies"
   ]
   }
,
{
		   "cell_type": "markdown",
		   "metadata": {},
		   "source": [
			"## Example 13.04: gain_and_phase_margin.sci"
		   ]
		  },
  {
"cell_type": "code",
	   "execution_count": null,
	   "metadata": {
	    "collapsed": true
	   },
	   "outputs": [],
"source": [
"//polynomial//\n",
"s=poly(0,'s'); //Defines s as polynomial variable\n",
"F=syslin('c',[40/((s+5)*(2+s)*s^2)]) //Creates transfer function in forward path\n",
"B=syslin('c',(1+0*s)/(1+0*s)); //Creates transfer function in backward path\n",
"OL=F*B; //Calculates open-loop transfer function\n",
"fmin=0.1; //Min freq in Hz\n",
"fmax=20; //Max freq in Hz\n",
"scf(1);clf;\n",
"bode(OL,fmin,fmax); //Plots frequency response of open-loop system in Bode diagram\n",
"show_margins(OL) //display gain and phase margin and associated crossover frequencies"
   ]
   }
,
{
		   "cell_type": "markdown",
		   "metadata": {},
		   "source": [
			"## Example 13.05: gain_and_phase_margin.sci"
		   ]
		  },
  {
"cell_type": "code",
	   "execution_count": null,
	   "metadata": {
	    "collapsed": true
	   },
	   "outputs": [],
"source": [
"//polynomial//\n",
"s=poly(0,'s'); //Defines s as polynomial variable\n",
"F=syslin('c',[(400*(s+2))/((s+5)*(10+s)*s^2)]) //Creates transfer function in forward path\n",
"B=syslin('c',(1+0*s)/(1+0*s)) //Creates transfer function in backward path\n",
"OL=F*B //Calculates open-loop transfer function\n",
"fmin=0.1; //Min freq in Hz\n",
"fmax=20; //Max freq in Hz\n",
"scf(1);clf;\n",
"bode(OL,fmin,fmax); //Plots frequency response of open-loop system in Bode diagram\n",
"show_margins(OL) //display gain and phase margin and associated crossover frequencies"
   ]
   }
,
{
		   "cell_type": "markdown",
		   "metadata": {},
		   "source": [
			"## Example 13.06: gain_and_phase_margin.sci"
		   ]
		  },
  {
"cell_type": "code",
	   "execution_count": null,
	   "metadata": {
	    "collapsed": true
	   },
	   "outputs": [],
"source": [
"//polynomial//\n",
"s=poly(0,'s'); //Defines s as polynomial variable\n",
"F=syslin('c',[(288*(s+4))/((s+2)*(144+4.8*s+s^2)*s)]) //Creates transfer function in forward path\n",
"B=syslin('c',(1+0*s)/(1+0*s)) //Creates transfer function in backward path\n",
"OL=F*B //Calculates open-loop transfer function\n",
"fmin=0.1; //Min freq in Hz\n",
"fmax=100; //Max freq in Hz\n",
"scf(1);clf;\n",
"bode(OL,fmin,fmax); //Plots frequency response of open-loop system in Bode diagram\n",
"show_margins(OL) //display gain and phase margin and associated crossover frequencies"
   ]
   }
],
"metadata": {
		  "kernelspec": {
		   "display_name": "Scilab",
		   "language": "scilab",
		   "name": "scilab"
		  },
		  "language_info": {
		   "file_extension": ".sce",
		   "help_links": [
			{
			 "text": "MetaKernel Magics",
			 "url": "https://github.com/calysto/metakernel/blob/master/metakernel/magics/README.md"
			}
		   ],
		   "mimetype": "text/x-octave",
		   "name": "scilab",
		   "version": "0.7.1"
		  }
		 },
		 "nbformat": 4,
		 "nbformat_minor": 0
}
