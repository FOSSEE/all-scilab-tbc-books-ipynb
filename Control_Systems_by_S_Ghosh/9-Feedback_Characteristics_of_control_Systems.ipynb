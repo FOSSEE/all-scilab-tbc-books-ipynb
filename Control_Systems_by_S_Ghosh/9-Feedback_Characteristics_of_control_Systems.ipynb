{
"cells": [
 {
		   "cell_type": "markdown",
	   "metadata": {},
	   "source": [
       "# Chapter 9: Feedback Characteristics of control Systems"
	   ]
	},
{
		   "cell_type": "markdown",
		   "metadata": {},
		   "source": [
			"## Example 9.01: sensitivity_of_closed_loop.sci"
		   ]
		  },
  {
"cell_type": "code",
	   "execution_count": null,
	   "metadata": {
	    "collapsed": true
	   },
	   "outputs": [],
"source": [
"//calculates//\n",
"s=%s;\n",
"G=syslin('c',20/(s*(s+4)))\n",
"H=0.35;\n",
"y=G*H;\n",
"\n",
"S=1/(1+y);\n",
"disp(S,'1/(1+G(s)*H(s))')\n",
"\n",
"//given w=1.2\n",
"w=1.2\n",
"s=%i*w\n",
"S=horner(S,s) //calculates value of S at s\n",
"a=abs(S)\n",
"disp(a,'sensitivity of open loop')\n",
"\n",
"F=-y/(1+y)\n",
"disp(F,'(-G(s)*H(s))/(1+G(s)*H(s))')\n",
"S=horner(F,s)  //calculates value of F at s\n",
"b=abs(S)\n",
"disp(b,'sensitivity of closed loop')"
   ]
   }
,
{
		   "cell_type": "markdown",
		   "metadata": {},
		   "source": [
			"## Example 9.02: settling_time_Ts.sci"
		   ]
		  },
  {
"cell_type": "code",
	   "execution_count": null,
	   "metadata": {
	    "collapsed": true
	   },
	   "outputs": [],
"source": [
"//calculates//\n",
"s=%s;\n",
"sys1=syslin('c',9/(s*(s+1.8)));\n",
"syms Td ;\n",
"sys2=1+(s*Td);\n",
"sys3=sys1*sys2;\n",
"H=1;\n",
"CL=sys3/.H; //Calculates closed-loop transfer function\n",
"disp(CL,'C(s)/R(s)')\n",
"// compare CL with Wn^2/(s^2+2*zeta*Wn+Wn^2)\n",
"[num,den]=numden(CL) //extracts num & den of symbolic function CL\n",
"den=den/5;\n",
"cof_a_0 = coeffs(den,'s',0) // coeff of den of symbolic function CL\n",
"cof_a_1 = coeffs(den,'s',1)\n",
"//Wn^2= cof_a_0,comparing the coefficients\n",
"Wn=sqrt(cof_a_0) \n",
"disp(Wn,'natural frequency Wn')           // Wn=natural frequency\n",
"//cof_a_1=2*zeta*Wn\n",
"zeta=cof_a_1/(2*Wn)\n",
"zeta=1;disp(zeta,'for criticaly damped function zeta')  \n",
"Td=((2*Wn)-1.8)/9  \n",
"Ts=4/(zeta*Wn);\n",
"Ts=dbl(Ts);\n",
"disp(Ts,'settling time Ts')"
   ]
   }
,
{
		   "cell_type": "markdown",
		   "metadata": {},
		   "source": [
			"## Example 9.03: sensitivity_of_closed_loop.sci"
		   ]
		  },
  {
"cell_type": "code",
	   "execution_count": null,
	   "metadata": {
	    "collapsed": true
	   },
	   "outputs": [],
"source": [
"//calculates//\n",
"s=%s;\n",
"G=syslin('c',40/(s*(s+4)))\n",
"H=0.50;\n",
"y=G*H;\n",
"S=1/(1+y);\n",
"disp(S,'1/(1+G(s)*H(s))')\n",
"//given w=1.3\n",
"w=1.3\n",
"s=%i*w\n",
"S=horner(S,s)\n",
"a=abs(S)\n",
"disp(a,'sensitivity of open loop')\n",
"F=-y/(1+y)\n",
"disp(F,'(-G(s)*H(s))/(1+G(s)*H(s))')\n",
"S=horner(F,s)\n",
"b=abs(S)\n",
"disp(b,'sensitivity of closed loop')"
   ]
   }
,
{
		   "cell_type": "markdown",
		   "metadata": {},
		   "source": [
			"## Example 9.04: closed_loop_sensitivity_for_changes_in_H.sci"
		   ]
		  },
  {
"cell_type": "code",
	   "execution_count": null,
	   "metadata": {
	    "collapsed": true
	   },
	   "outputs": [],
"source": [
"//calculates//\n",
"s=%s;\n",
"syms s;\n",
"syms Wn zeta A H real;\n",
"T=6.28;\n",
"Wn=(8*%pi)/T;\n",
"zeta=0.3\n",
"n=Wn^2;\n",
"d=s^2+2*zeta*Wn*s+Wn^2;\n",
"G1=n/d;\n",
"disp(G1,'G1(s)')\n",
"G=A*G1;\n",
"disp(G,'G(s)')\n",
"S1=(diff(G,A))*(A/G);\n",
"a=simple(S1);\n",
"disp(a,'open loop sensitivity for changes in A')\n",
"M=G/.H;\n",
"p=simple(M)\n",
"S2=(diff(p,A))*(A/p);\n",
"b=simple(S2);\n",
"disp(b,'closed loop sensitivity for changes in A')\n",
"S3=(diff(p,H))*(H/p);\n",
"c=simple(S3);\n",
"disp(c,'closed loop sensitivity for changes in H')"
   ]
   }
,
{
		   "cell_type": "markdown",
		   "metadata": {},
		   "source": [
			"## Example 9.05: system_sensitivity_due_to_variation.sci"
		   ]
		  },
  {
"cell_type": "code",
	   "execution_count": null,
	   "metadata": {
	    "collapsed": true
	   },
	   "outputs": [],
"source": [
"//calculates//\n",
"s=%s;\n",
"sys1=syslin('c',(s+3)/s);\n",
"syms u rp k H RL;\n",
"num2=u*RL*s*(s+2);\n",
"den2=(rp+RL)*(s+3);\n",
"sys2=num2/den2;\n",
"num3=k;\n",
"den3=s+2;\n",
"sys3=num3/den3;\n",
"sys=sys1*sys2*sys3;\n",
"disp(sys,'G(s)=');\n",
"RL=10*10^3;\n",
"rp=4*10^3;\n",
"sys=eval(sys)\n",
"sys=float(sys)\n",
"disp(sys,'sys=');\n",
"disp(H,'H(s)');\n",
"M=sys/.H  //G(s)/1+G(s)H(S)\n",
"M=simple(M)\n",
"S=(diff(M,u))*(u/M);\n",
"S=simple(S);\n",
"disp(S,'system sensitivity due to variation of u=');\n",
"H=0.3;\n",
"u=12;\n",
"S=eval(S)  //---------eq 1\n",
"S=0.04;\n",
"k=((7/S)-7)/18 ; //from eq 1\n",
"disp(k,'K=')"
   ]
   }
,
{
		   "cell_type": "markdown",
		   "metadata": {},
		   "source": [
			"## Example 9.06: change_in_Eo.sci"
		   ]
		  },
  {
"cell_type": "code",
	   "execution_count": null,
	   "metadata": {
	    "collapsed": true
	   },
	   "outputs": [],
"source": [
"//calculates//\n",
"G=210;\n",
"H=0.12;\n",
"syms Eo Er\n",
"printf('for closed loop system')\n",
"sys=G/.H;  //Eo/Er=G/(1+GH)\n",
"disp(sys,'Eo/Er=')\n",
"Eo=240 //given\n",
"Er=Eo/8.0152;\n",
"disp(Er,'Er=')\n",
"printf('for open loop system')\n",
"disp(G,'Eo/Er=')\n",
"Er=Eo/G;\n",
"G=210;\n",
"disp(Er,'Er=')\n",
"//printf('since G is reduced by 12%, the new value of gain is 784.8V');\n",
"S=1/(1+G*H)\n",
"disp(S,'(%change in M)/(%change in G)=')\n",
"disp(12,'%CHANGE IN G=')\n",
"y=12*0.03869;\n",
"disp(y,'%CHANGE IN M=')\n",
"printf('for open loop system')\n",
"disp(28.8*100/240,'%change in Eo')"
   ]
   }
,
{
		   "cell_type": "markdown",
		   "metadata": {},
		   "source": [
			"## Example 9.07: calculates.sci"
		   ]
		  },
  {
"cell_type": "code",
	   "execution_count": null,
	   "metadata": {
	    "collapsed": true
	   },
	   "outputs": [],
"source": [
"//calculates//\n",
"s=%s;\n",
"sys1=syslin('c',20/(s*(s+2)));\n",
"syms Kt;\n",
"sys2=Kt*s;\n",
"sys3=sys1/.sys2;\n",
"p=simple(sys3);\n",
"disp(p,'G(s)=')\n",
"H=1;\n",
"sys=sys3/.H;\n",
"sys=simple(sys);\n",
"disp(sys,'C(s)/R(s)=')\n",
"[num,den]=numden(sys)\n",
"cof_a_0 = coeffs(den,'s',0) // coeff of den of symbolic function CL\n",
"cof_a_1 = coeffs(den,'s',1)\n",
"//Wn^2= cof_a_0,comparing the coefficients\n",
"Wn=sqrt(cof_a_0) \n",
"Wn=dbl(Wn);\n",
"disp(Wn,'natural frequency Wn=')           // Wn=natural frequency\n",
"//cof_a_1=2*zeta*Wn\n",
"zeta=cof_a_1/(2*Wn)\n",
"zeta=0.6;   \n",
"Kt=((2*zeta*Wn)-2)/20;\n",
"disp(Kt,'Kt=')\n",
"Wd=Wn*sqrt(1-zeta^2);\n",
"disp(Wd,'Wd=')\n",
"Tp=%pi/Wd;\n",
"disp(Tp,'Tp=')\n",
"Mp=100*exp((-%pi*zeta)/sqrt(1-zeta^2));\n",
"disp(Mp,'Mp=')\n",
"Ts=4/(zeta*Wn);\n",
"disp(Ts,'Ts=')"
   ]
   }
,
{
		   "cell_type": "markdown",
		   "metadata": {},
		   "source": [
			"## Example 9.08: natural_frequency_Wn.sci"
		   ]
		  },
  {
"cell_type": "code",
	   "execution_count": null,
	   "metadata": {
	    "collapsed": true
	   },
	   "outputs": [],
"source": [
"//calculates//\n",
"s=%s;\n",
"printf( '1)zeta & Wn without Kd')\n",
"G=60*syslin('c',1/(s*(s+4)));\n",
"disp(G,'G(S)=')\n",
"CL=G/.H;\n",
"disp(CL,'C(s)/R(s)=')\n",
"y=denom(CL) //extracting the denominator of CL\n",
"z=coeff(y)  //extracting the coefficients of the denominator polynomial\n",
"//Wn^2=z(1,1) ,comparing the coefficients\n",
"Wn=sqrt(z(1,1))            // Wn=natural frequency\n",
"//2*zeta*Wn=z(1,2)\n",
"zeta=z(1,2)/(2*Wn)       \n",
"sys1=syslin('c',1/(s*(s+4)));\n",
"syms Kd;\n",
"printf('2)Kd for zeta=0.60 with controller')\n",
"sys2=s*Kd;\n",
"sys3=sys1/.sys2;\n",
"G=sys3*60;\n",
"disp(G,'G(s)=')\n",
"H=1;\n",
"sys=G/.H;\n",
"disp(sys,'C(s)/R(s)=')\n",
"[num,den]=numden(sys)\n",
"cof_a_0 = coeffs(den,'s',0) \n",
"cof_a_1 = coeffs(den,'s',1)\n",
"//Wn^2= cof_a_0,comparing the coefficients\n",
"Wn=sqrt(cof_a_0) \n",
"Wn=dbl(Wn);\n",
"disp(Wn,'natural frequency Wn=')\n",
"//cof_a_1=2*zeta*Wn\n",
"zeta=0.60\n",
"Kd=(2*zeta*Wn)-4"
   ]
   }
,
{
		   "cell_type": "markdown",
		   "metadata": {},
		   "source": [
			"## Example 9.09: controller.sci"
		   ]
		  },
  {
"cell_type": "code",
	   "execution_count": null,
	   "metadata": {
	    "collapsed": true
	   },
	   "outputs": [],
"source": [
"//calculates//\n",
"s=%s;\n",
"printf('1)without controller')\n",
"G=syslin('c',120/(s*(s+12.63)));\n",
"disp(G,'G(s)=')\n",
"H=1;\n",
"CL=G/.H;\n",
"disp(CL,'C(s)/R(s)=')\n",
"y=denom(CL) //extracting the denominator of CL\n",
"z=coeff(y)  //extracting the coefficients of the denominator polynomial\n",
"//Wn^2=z(1,1) ,comparing the coefficients\n",
"Wn=sqrt(z(1,1)); \n",
"disp(Wn,'Wn=')           // Wn=natural frequency\n",
"//2*zeta*Wn=z(1,2)\n",
"zeta=z(1,2)/(2*Wn);\n",
"disp(zeta,'zeta=')  \n",
"printf('2) with controller')\n",
"G=syslin('c',(120*(30+s))/(s*(s+12.63)*30));\n",
"disp(G,'G(s)=')\n",
"CL=G/.H;\n",
"disp(CL,'C(s)/R(s)=')\n",
"den=denom(CL)\n",
"den=den/30 //extracting the denominator of CL\n",
"z=coeff(den)  //extracting the coefficients of the denominator polynomial\n",
"//Wn^2=z(1,1) ,comparing the coefficients\n",
"Wn=sqrt(z(1,1)); \n",
"disp(Wn,'Wn=')           // Wn=natural frequency\n",
"//2*zeta*Wn=z(1,2)\n",
"zeta=z(1,2)/(2*Wn);\n",
"Mp=100*exp((-%pi*zeta)/sqrt(1-zeta^2));\n",
"disp(Mp,'Mp=')\n",
"Ts=4/(zeta*Wn);\n",
"disp(Ts,'Ts=')\n",
""
   ]
   }
,
{
		   "cell_type": "markdown",
		   "metadata": {},
		   "source": [
			"## Example 9.10: natural_frequency.sci"
		   ]
		  },
  {
"cell_type": "code",
	   "execution_count": null,
	   "metadata": {
	    "collapsed": true
	   },
	   "outputs": [],
"source": [
"//calculates//\n",
"s=%s;\n",
"printf('1)without controller')\n",
"G=64*syslin('c',1/(s*(s+4)));\n",
"disp(G,'G(s)=')\n",
"H=1;\n",
"CL=G/.H;\n",
"disp(CL,'C(s)/R(s)=')\n",
"//Extracting the denominator of CL\n",
"y=denom(CL)\n",
"//Extracting the coefficients of the denominator polynomial\n",
"z=coeff(y) \n",
"//Wn^2=z(1,1) ,comparing the coefficients\n",
"Wn=sqrt(z(1,1)); \n",
"//Wn=natural frequency\n",
"disp(Wn,'Wn=') \n",
"printf('2) with controller')\n",
"syms K;\n",
"sys1=syslin('c',1/(s*(s+4)));\n",
"sys2=sys1 /.(s*K);\n",
"G=64*sys2\n",
"disp(G,'G(s)=')\n",
"\n",
"sys=G/.H;\n",
"sys=simple(sys);\n",
"disp(sys,'C(s)/R(s)=')\n",
"[num,den]=numden(sys)\n",
"//Coeff of den of symbolic function CL\n",
"cof_a_0 = coeffs(den,'s',0) \n",
"cof_a_1 = coeffs(den,'s',1)\n",
"//Wn^2= cof_a_0,comparing the coefficients\n",
"Wn=sqrt(cof_a_0) \n",
"Wn=dbl(Wn);\n",
"//Wn=natural frequency\n",
"disp(Wn,'natural frequency Wn=') \n",
"//cof_a_1=2*zeta*Wn\n",
"zeta=cof_a_1/(2*Wn)\n",
"zeta=0.6;\n",
"k=(16*zeta)-4\n",
"disp(k,'K=')"
   ]
   }
,
{
		   "cell_type": "markdown",
		   "metadata": {},
		   "source": [
			"## Example 9.11: natural_frequency_Wn.sci"
		   ]
		  },
  {
"cell_type": "code",
	   "execution_count": null,
	   "metadata": {
	    "collapsed": true
	   },
	   "outputs": [],
"source": [
"//calculates//\n",
"printf('2) with controller')\n",
"syms K;\n",
"sys1=syslin('c',1/(s*(s+1.2)));\n",
"sys2=sys1/.(s*K);\n",
"G=16*sys2;\n",
"G=simple(G)\n",
"disp(G,'G(s)=')\n",
"sys=G/.H;\n",
"sys=simple(sys);\n",
"disp(sys,'C(s)/R(s)=')\n",
"[num,den]=numden(sys)\n",
"den=den/5; //so that coeff of s^2=1\n",
"cof_a_0 = coeffs(den,'s',0) // coeff of den of symbolic function CL\n",
"cof_a_1 = coeffs(den,'s',1)\n",
"//Wn^2= cof_a_0,comparing the coefficients\n",
"Wn=sqrt(cof_a_0) \n",
"Wn=dbl(Wn);\n",
"disp(Wn,'natural frequency Wn=')           // Wn=natural frequency\n",
"//cof_a_1=2*zeta*Wn\n",
"//zeta=cof_a_1/(2*Wn)\n",
"zeta=0.56;\n",
"k=(8*zeta)-1.2\n",
"disp(k,'K=')\n",
"Wd=Wn*sqrt(1-zeta^2);\n",
"disp(Wd,'Wd=')\n",
"Tp=%pi/Wd;\n",
"disp(Tp,'Tp=')\n",
"Mp=100*exp((-%pi*zeta)/sqrt(1-zeta^2));\n",
"disp(Mp,'Mp=')\n",
"Ts=4/(zeta*Wn);\n",
"disp(Ts,'Ts=')"
   ]
   }
],
"metadata": {
		  "kernelspec": {
		   "display_name": "Scilab",
		   "language": "scilab",
		   "name": "scilab"
		  },
		  "language_info": {
		   "file_extension": ".sce",
		   "help_links": [
			{
			 "text": "MetaKernel Magics",
			 "url": "https://github.com/calysto/metakernel/blob/master/metakernel/magics/README.md"
			}
		   ],
		   "mimetype": "text/x-octave",
		   "name": "scilab",
		   "version": "0.7.1"
		  }
		 },
		 "nbformat": 4,
		 "nbformat_minor": 0
}
