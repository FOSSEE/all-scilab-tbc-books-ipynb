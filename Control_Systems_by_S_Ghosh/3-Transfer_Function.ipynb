{
"cells": [
 {
		   "cell_type": "markdown",
	   "metadata": {},
	   "source": [
       "# Chapter 3: Transfer Function"
	   ]
	},
{
		   "cell_type": "markdown",
		   "metadata": {},
		   "source": [
			"## Example 3.02: laplace.sci"
		   ]
		  },
  {
"cell_type": "code",
	   "execution_count": null,
	   "metadata": {
	    "collapsed": true
	   },
	   "outputs": [],
"source": [
"//laplace//\n",
"syms t s;\n",
"f=%e^(-3*t);\n",
"y=laplace('%e^(-3*t)',t,s);\n",
"disp(y,'G(s)=')"
   ]
   }
,
{
		   "cell_type": "markdown",
		   "metadata": {},
		   "source": [
			"## Example 3.03: laplace.sci"
		   ]
		  },
  {
"cell_type": "code",
	   "execution_count": null,
	   "metadata": {
	    "collapsed": true
	   },
	   "outputs": [],
"source": [
"//laplace//\n",
"syms t s;\n",
"disp(%e^(-3*t),'g(t)=');\n",
"y1=laplace('%e^(-3*t)',t,s);\n",
"disp(y1,'G(s)=')\n",
"disp(%e^(-4*t),'r(t)=');\n",
"y2=laplace('%e^(-4*t)',t,s);\n",
"disp(y2,'R(s)=')\n",
"disp(y1*y2,'G(s)R(s)=')"
   ]
   }
,
{
		   "cell_type": "markdown",
		   "metadata": {},
		   "source": [
			"## Example 3.04: laplace.sci"
		   ]
		  },
  {
"cell_type": "code",
	   "execution_count": null,
	   "metadata": {
	    "collapsed": true
	   },
	   "outputs": [],
"source": [
"//laplace//\n",
"s=%s;\n",
"H=syslin('c',(4*(s+2)*((s+2.5)^3))/((s+6)*((s+4)^2)));\n",
"plzr(H)"
   ]
   }
,
{
		   "cell_type": "markdown",
		   "metadata": {},
		   "source": [
			"## Example 3.15: laplace.sci"
		   ]
		  },
  {
"cell_type": "code",
	   "execution_count": null,
	   "metadata": {
	    "collapsed": true
	   },
	   "outputs": [],
"source": [
"//laplace//\n",
"syms t s\n",
"y=laplace(%e^(-3*t)*sin(2*t),t,s);\n",
"disp(y,'ans=')"
   ]
   }
,
{
		   "cell_type": "markdown",
		   "metadata": {},
		   "source": [
			"## Example 3.16: laplace.sci"
		   ]
		  },
  {
"cell_type": "code",
	   "execution_count": null,
	   "metadata": {
	    "collapsed": true
	   },
	   "outputs": [],
"source": [
"//laplace//\n",
"syms t s;\n",
"x=6-4*%e^(-5*t)/5+%e^(-3*t) //Given step Response of the system\n",
"printf('Derivative of step response gives impulse response \n')\n",
"y=diff(x,t);     //Derivative of step response \n",
"printf('Laplace Transform of Impulse Response gives the  Transfer Function \n ')    \n",
"p=laplace(y,t,s);\n",
"disp(p,'Transfer Function=')"
   ]
   }
,
{
		   "cell_type": "markdown",
		   "metadata": {},
		   "source": [
			"## Example 3.17: laplace.sci"
		   ]
		  },
  {
"cell_type": "code",
	   "execution_count": null,
	   "metadata": {
	    "collapsed": true
	   },
	   "outputs": [],
"source": [
"//laplace//\n",
"printf('Given:Poles are s=-1,(-2+i),(-2-i); zeros  s=-3+i,-3-i,Gain factor(k)=5  \n')\n",
"num=poly([-3+%i,-3-%i],'s','roots');\n",
"den=poly([-1,-2+%i,-2-%i],'s','roots');\n",
"G=(5*num)/den;\n",
"disp(G,'G(s)=')"
   ]
   }
,
{
		   "cell_type": "markdown",
		   "metadata": {},
		   "source": [
			"## Example 3.18: laplace.sci"
		   ]
		  },
  {
"cell_type": "code",
	   "execution_count": null,
	   "metadata": {
	    "collapsed": true
	   },
	   "outputs": [],
"source": [
"//laplace//\n",
"s=%s;\n",
"G=syslin('c',(5*(s+2))/((s+3)*(s+4)));\n",
"disp(G,'G(s)=')\n",
"x=denom(G);\n",
"disp(x,'Characteristics Polynomial=')\n",
"y=roots(x);\n",
"disp(y,'Poles of a system=')"
   ]
   }
,
{
		   "cell_type": "markdown",
		   "metadata": {},
		   "source": [
			"## Example 3.19: laplace.sci"
		   ]
		  },
  {
"cell_type": "code",
	   "execution_count": null,
	   "metadata": {
	    "collapsed": true
	   },
	   "outputs": [],
"source": [
"//laplace//\n",
"printf('Given: Poles are s=-3, Zeros are s=-2, Gain Factor(k)=5 \n ')\n",
"num=poly([-2],'s','roots');\n",
"den=poly([-3],'s','roots');\n",
"G=5*num/den;\n",
"disp(G,'G(s)=')\n",
"disp('Input is Step Function ')\n",
"syms t s;\n",
"R=laplace(1,t,s);\n",
"disp(R,'R(s)=')\n",
"printf('C(s)=R(s)G(s) \n')\n",
"C=R*G;\n",
"disp(C,'C(s)=')\n",
"c=ilaplace(C,s,t);\n",
"disp(c,'c(t)=')\n",
""
   ]
   }
,
{
		   "cell_type": "markdown",
		   "metadata": {},
		   "source": [
			"## Example 3.23: laplace.sci"
		   ]
		  },
  {
"cell_type": "code",
	   "execution_count": null,
	   "metadata": {
	    "collapsed": true
	   },
	   "outputs": [],
"source": [
"//laplace//\n",
"//pole zero plot for g(s)=(s^2+3s+2)/(s^2+7s+12)\n",
"s=%s;\n",
"p=poly([2 3 1],'s','coeff')\n",
"q=poly([12 7 1],'s','coeff')\n",
"V=syslin('c',p,q)\n",
"plzr(V)\n",
"syms s t ;\n",
"v =ilaplace('(2+(3*s)+s^2)/(s^2+(7*s)+12)',s,t)\n",
"disp(v,'V(t)=')"
   ]
   }
],
"metadata": {
		  "kernelspec": {
		   "display_name": "Scilab",
		   "language": "scilab",
		   "name": "scilab"
		  },
		  "language_info": {
		   "file_extension": ".sce",
		   "help_links": [
			{
			 "text": "MetaKernel Magics",
			 "url": "https://github.com/calysto/metakernel/blob/master/metakernel/magics/README.md"
			}
		   ],
		   "mimetype": "text/x-octave",
		   "name": "scilab",
		   "version": "0.7.1"
		  }
		 },
		 "nbformat": 4,
		 "nbformat_minor": 0
}
