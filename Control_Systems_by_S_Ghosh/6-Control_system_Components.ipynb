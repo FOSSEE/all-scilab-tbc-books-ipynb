{
"cells": [
 {
		   "cell_type": "markdown",
	   "metadata": {},
	   "source": [
       "# Chapter 6: Control system Components"
	   ]
	},
{
		   "cell_type": "markdown",
		   "metadata": {},
		   "source": [
			"## Example 6.01: sysli.sci"
		   ]
		  },
  {
"cell_type": "code",
	   "execution_count": null,
	   "metadata": {
	    "collapsed": true
	   },
	   "outputs": [],
"source": [
"//syslin//\n",
"exec series.sce;\n",
"s=%s;\n",
"sys1=syslin('c',(s+3)/(s+1))\n",
"sys2=syslin('c',0.2/(s+2))\n",
"sys3=syslin('c',50/(s+4))\n",
"sys4=syslin('c',10/(s))\n",
"a=series(sys1,sys2);\n",
"b=series(a,sys3);\n",
"y=series(b,sys4);\n",
"y=simp(y);\n",
"disp(y,'C(s)/R(s)=')"
   ]
   }
,
{
		   "cell_type": "markdown",
		   "metadata": {},
		   "source": [
			"## Example 6.02: sysli.sci"
		   ]
		  },
  {
"cell_type": "code",
	   "execution_count": null,
	   "metadata": {
	    "collapsed": true
	   },
	   "outputs": [],
"source": [
"//syslin//\n",
"exec parallel.sce;\n",
"s=%s;\n",
"sys1=syslin('c',1/s)\n",
"sys2=syslin('c',2/(s+1))\n",
"sys3=syslin('c',3/(s+3))\n",
"a=parallel(sys1,sys2);\n",
"y=parallel(a,sys3);\n",
"y=simp(y);\n",
"disp(y,'C(s)/R(s)=')"
   ]
   }
,
{
		   "cell_type": "markdown",
		   "metadata": {},
		   "source": [
			"## Example 6.03: sysli.sci"
		   ]
		  },
  {
"cell_type": "code",
	   "execution_count": null,
	   "metadata": {
	    "collapsed": true
	   },
	   "outputs": [],
"source": [
"//syslin//\n",
"exec series.sce;\n",
"s=%s;\n",
"sys1=syslin('c',3/(s*(s+1)))\n",
"sys2=syslin('c',s^2/(3*(s+1)))\n",
"sys3=syslin('c',6/(s))\n",
"a=(-1)*sys3;  \n",
"b=series(sys1,sys2);\n",
"y=b/.a   // feedback operation\n",
"y=simp(y)\n",
"disp(y,'C(s)/R(s)=')"
   ]
   }
,
{
		   "cell_type": "markdown",
		   "metadata": {},
		   "source": [
			"## Example 6.04: sysli.sci"
		   ]
		  },
  {
"cell_type": "code",
	   "execution_count": null,
	   "metadata": {
	    "collapsed": true
	   },
	   "outputs": [],
"source": [
"//syslin//\n",
"exec parallel.sce;\n",
"syms G1 G2 G3 H;\n",
"a=series(G1,G2);\n",
"b=parallel(a,G3);\n",
"y=b/.H  //negative feedback operation\n",
"y=simple(y)\n",
"disp(y,'C(s)/R(s)=')"
   ]
   }
,
{
		   "cell_type": "markdown",
		   "metadata": {},
		   "source": [
			"## Example 6.05: sysli.sci"
		   ]
		  },
  {
"cell_type": "code",
	   "execution_count": null,
	   "metadata": {
	    "collapsed": true
	   },
	   "outputs": [],
"source": [
"//syslin//\n",
"exec series.sce;\n",
"syms G1 G2 H1 H2 s;\n",
"a=G1/.H1; // negative feedback operation\n",
"b=a/.H2;// negative feedback operation\n",
"y=series(b,G2); \n",
"y=simple(y); \n",
"disp(y,'C(s)/R(s)=')"
   ]
   }
,
{
		   "cell_type": "markdown",
		   "metadata": {},
		   "source": [
			"## Example 6.06: sysli.sci"
		   ]
		  },
  {
"cell_type": "code",
	   "execution_count": null,
	   "metadata": {
	    "collapsed": true
	   },
	   "outputs": [],
"source": [
"//syslin//\n",
"exec parallel.sce;\n",
"exec series.sce;\n",
"syms G1 G2 G3 G4 G5 G6 H1 H2;\n",
"a=parallel(G3,G5);\n",
"b=parallel(a,-G4);\n",
"c=series(G1,G2);\n",
"d=c/.H1;\n",
"e=series(b,d);\n",
"f=e/.H2;\n",
"y=series(f,G6);\n",
"y=simple(y); \n",
"disp(y,'C(s)/R(s)=')\n",
"\n",
"\n",
"  "
   ]
   }
,
{
		   "cell_type": "markdown",
		   "metadata": {},
		   "source": [
			"## Example 6.07: sysli.sci"
		   ]
		  },
  {
"cell_type": "code",
	   "execution_count": null,
	   "metadata": {
	    "collapsed": true
	   },
	   "outputs": [],
"source": [
"//syslin//\n",
"exec series.sce;\n",
"syms G1 G2 G3 H1 H2 R X;\n",
"//putting x=0,then solving the block\n",
"a=G3/.H1;\n",
"b=series(G1,G2);\n",
"c=series(a,b);\n",
"x1=c/.H2;\n",
"C1=R*x1;\n",
"disp(x1,'C1(s)/R(s)=')\n",
"//putting r=0 ,then solving the block\n",
"d=series(G1,G2);\n",
"e=series(d,H2);\n",
"f=G3/.H1;\n",
"x2=f/.e;\n",
"C2=X*x2;\n",
"disp(x2,'C2(s)/X(s)=')\n",
"//resultant output  C=C1+C2\n",
"C=C1+C2;\n",
"C=simple(C);\n",
"disp(C,'Resultant Output=')\n",
""
   ]
   }
,
{
		   "cell_type": "markdown",
		   "metadata": {},
		   "source": [
			"## Example 6.08: sysli.sci"
		   ]
		  },
  {
"cell_type": "code",
	   "execution_count": null,
	   "metadata": {
	    "collapsed": true
	   },
	   "outputs": [],
"source": [
"//syslin//\n",
"exec parallel.sce;\n",
"exec series.sce;\n",
"syms G1 G2 G3 H1 H2;\n",
"//shift the take-off point after the block G2\n",
"a=G3/G2;\n",
"b=parallel(a,1);\n",
"c=series(G1,G2);\n",
"d=c/.H1  //negative feedback operation\n",
"e=series(d,b);\n",
"y=e/.H2;\n",
"y=simple(y);\n",
"disp(y,'C(s)/R(s)=')\n",
""
   ]
   }
,
{
		   "cell_type": "markdown",
		   "metadata": {},
		   "source": [
			"## Example 6.09: sysli.sci"
		   ]
		  },
  {
"cell_type": "code",
	   "execution_count": null,
	   "metadata": {
	    "collapsed": true
	   },
	   "outputs": [],
"source": [
"//syslin//\n",
"exec series.sce\n",
"syms G1 G2 G3 H1 H2 H3;\n",
"//Remove the feedback loop having feedback path transfer function H2\n",
"a=G3/.H2;\n",
"//Interchange the summer .as well as replace the cascade block by its equivalent block\n",
"b=series(G1,G2);\n",
"c=b/.H1; //Negative Feedback Operation\n",
"d=series(c,a);\n",
"y=d/.H3;  //Negative Feedback Operation\n",
"y=simple(y);\n",
"disp(y,'C(s)/R(s)=')"
   ]
   }
,
{
		   "cell_type": "markdown",
		   "metadata": {},
		   "source": [
			"## Example 6.10: sysli.sci"
		   ]
		  },
  {
"cell_type": "code",
	   "execution_count": null,
	   "metadata": {
	    "collapsed": true
	   },
	   "outputs": [],
"source": [
"//syslin//\n",
"exec parallel.sce;\n",
"exec series.sce;\n",
"syms G1 G2 G3 G4 G5 H1 H2;\n",
"a=G2/.H1;  //negative feedback operation\n",
"b=series(G1,a);\n",
"c=series(b,G3);\n",
"d=parallel(c,G4);\n",
"e=series(d,G5);\n",
"y=e/.H2;   //negative feedback operation\n",
"y=simple(y);\n",
"disp(y,'C(s)/R(s)=')"
   ]
   }
,
{
		   "cell_type": "markdown",
		   "metadata": {},
		   "source": [
			"## Example 6.11: sysli.sci"
		   ]
		  },
  {
"cell_type": "code",
	   "execution_count": null,
	   "metadata": {
	    "collapsed": true
	   },
	   "outputs": [],
"source": [
"//syslin//\n",
"exec parallel.sce;\n",
"exec series.sce;\n",
"syms G1 G2 G3 G4 G5 G6 G7 H1 H2 H3;\n",
"a=parallel(G1,G2);\n",
"b=parallel(a,G3);\n",
"//shift the take off point to the right of the block G4\n",
"c=G4/.H1;  //negative feedback operation\n",
"d=G5/G4;    //negative feedback operation\n",
"e=parallel(d,1);\n",
"f=G6/.H2;   //negative feedback operation\n",
"g=series(b,c);\n",
"h=series(g,e);\n",
"i=series(h,f);\n",
"j=series(i,G7);\n",
"y=j/.H3;\n",
"y=simple(y);\n",
"disp(y,'C(s)/R(s)=')\n",
""
   ]
   }
,
{
		   "cell_type": "markdown",
		   "metadata": {},
		   "source": [
			"## Example 6.12: sysli.sci"
		   ]
		  },
  {
"cell_type": "code",
	   "execution_count": null,
	   "metadata": {
	    "collapsed": true
	   },
	   "outputs": [],
"source": [
"//syslin//\n",
"exec series.sce;\n",
"exec parallel.sce;\n",
"syms G1 G2 G3 G4 H1 H2 H3;\n",
"//shift the take-off point after the block G1\n",
"a=G3/G1; \n",
"b=parallel(a,G2);\n",
"c=G1/.H1; // Negative Feedback Operation\n",
"d=1/b;   // Negative Feedback Operation\n",
"e=parallel(d,H3);\n",
"f=series(e,H2);\n",
"g=series(c,b);\n",
"h=g/.f ;   // Negative Feedback Operation\n",
"y=series(h,G4);\n",
"y=simple(y);\n",
"disp(y,'C(s)/R(s)=')"
   ]
   }
,
{
		   "cell_type": "markdown",
		   "metadata": {},
		   "source": [
			"## Example 6.13: sysli.sci"
		   ]
		  },
  {
"cell_type": "code",
	   "execution_count": null,
	   "metadata": {
	    "collapsed": true
	   },
	   "outputs": [],
"source": [
"//syslin//\n",
"exec series.sce;\n",
"exec parallel.sce;\n",
"syms G1 G2 G3 G4 H1 H2 ;\n",
"//reduce the internal feedback loop\n",
"a=G2/.H2;\n",
"//place the summer left to the block G1\n",
"b=G3/G1;\n",
"//exchange the summer\n",
"c=parallel(b,1);\n",
"d=series(a,G1);\n",
"e=series(d,G4);\n",
"f=e/.H1;\n",
"y=series(c,f);\n",
"y=simple(y);\n",
"disp(y,'C(s)/R(s)=')\n",
""
   ]
   }
,
{
		   "cell_type": "markdown",
		   "metadata": {},
		   "source": [
			"## Example 6.14: sysli.sci"
		   ]
		  },
  {
"cell_type": "code",
	   "execution_count": null,
	   "metadata": {
	    "collapsed": true
	   },
	   "outputs": [],
"source": [
"//syslin//\n",
"exec series.sce;\n",
"exec parallel.sce;\n",
"syms G1 G2 G3 G4 H1 H2 ;\n",
"//shift the take-off point to the right of the block G3\n",
"a=H1/G3;\n",
"b=series(G2,G3);\n",
"c=parallel(H2,a);\n",
"d=b/.c;\n",
"e=series(d,G1);\n",
"f=e/.a;\n",
"y=series(f,G4);\n",
"y=simple(y);\n",
"disp(y,'C(s)/R(s)=')"
   ]
   }
,
{
		   "cell_type": "markdown",
		   "metadata": {},
		   "source": [
			"## Example 6.15: sysli.sci"
		   ]
		  },
  {
"cell_type": "code",
	   "execution_count": null,
	   "metadata": {
	    "collapsed": true
	   },
	   "outputs": [],
"source": [
"//syslin//\n",
"exec series.sce;\n",
"exec parallel.sce;\n",
"syms G1 G2 G3 G4 H1 H2 H3;\n",
"//shift the take-off point to the right of the block H1\n",
"//shift the other take-off point to the right of the block H1 &H2\n",
"a=series(H1,H2);\n",
"b=1/a;\n",
"c=1/H1;\n",
"d=G3/.a;\n",
"//move the summer to the left of the block G2\n",
"e=G4/G2;\n",
"f=series(d,G2);\n",
"//exchange the summer\n",
"g=f/.H1;\n",
"h=parallel(G1,e);\n",
"i=series(h,g);\n",
"j=series(a,H3);\n",
"y=i/.j;\n",
"y=simple(y);\n",
"disp(y,'C(s)/R(s)=')"
   ]
   }
],
"metadata": {
		  "kernelspec": {
		   "display_name": "Scilab",
		   "language": "scilab",
		   "name": "scilab"
		  },
		  "language_info": {
		   "file_extension": ".sce",
		   "help_links": [
			{
			 "text": "MetaKernel Magics",
			 "url": "https://github.com/calysto/metakernel/blob/master/metakernel/magics/README.md"
			}
		   ],
		   "mimetype": "text/x-octave",
		   "name": "scilab",
		   "version": "0.7.1"
		  }
		 },
		 "nbformat": 4,
		 "nbformat_minor": 0
}
