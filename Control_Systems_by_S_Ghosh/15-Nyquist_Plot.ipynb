{
"cells": [
 {
		   "cell_type": "markdown",
	   "metadata": {},
	   "source": [
       "# Chapter 15: Nyquist Plot"
	   ]
	},
{
		   "cell_type": "markdown",
		   "metadata": {},
		   "source": [
			"## Example 15.01: no_of_poles.sci"
		   ]
		  },
  {
"cell_type": "code",
	   "execution_count": null,
	   "metadata": {
	    "collapsed": true
	   },
	   "outputs": [],
"source": [
"//system//\n",
"s=%s;\n",
"sys=syslin('c',1/(s+2))\n",
"nyquist(sys)\n",
"show_margins(sys,'nyquist')\n",
"printf('Since P=0(no of poles in RHP)=Poles of G(s)H(s) \n here the number of zeros of 1+G(s)H(s) in the RHP is zero \n hence the system is stable')     \n",
""
   ]
   }
,
{
		   "cell_type": "markdown",
		   "metadata": {},
		   "source": [
			"## Example 15.02: no_of_poles.sci"
		   ]
		  },
  {
"cell_type": "code",
	   "execution_count": null,
	   "metadata": {
	    "collapsed": true
	   },
	   "outputs": [],
"source": [
"//system//\n",
"s=%s;\n",
"sys=syslin('c',1/(s*(s+2)))\n",
"nyquist(sys)\n",
"show_margins(sys,'nyquist')\n",
"printf('Since P=0(no of poles in RHP)=Poles of G(s)H(s) \n here the number of zeros of 1+G(s)H(s) in the RHP is zero \n hence the system is stable')     \n",
"\n",
""
   ]
   }
,
{
		   "cell_type": "markdown",
		   "metadata": {},
		   "source": [
			"## Example 15.03: no_of_poles.sci"
		   ]
		  },
  {
"cell_type": "code",
	   "execution_count": null,
	   "metadata": {
	    "collapsed": true
	   },
	   "outputs": [],
"source": [
"//system//\n",
"s=%s;\n",
"sys=syslin('c',1/(s^2*(s+2)))\n",
"nyquist(sys)\n",
"show_margins(sys,'nyquist')\n",
"printf('Since P=0(no of poles in RHP)=Poles of G(s)H(s) \n here the number of zeros of 1+G(s)H(s) in the RHP is not equal to zero \n hence the system is unstable')     \n",
"\n",
""
   ]
   }
,
{
		   "cell_type": "markdown",
		   "metadata": {},
		   "source": [
			"## Example 15.04: no_of_poles.sci"
		   ]
		  },
  {
"cell_type": "code",
	   "execution_count": null,
	   "metadata": {
	    "collapsed": true
	   },
	   "outputs": [],
"source": [
"//system//\n",
"s=%s;\n",
"sys=syslin('c',1/(s^3*(s+2)))\n",
"nyquist(sys)\n",
"show_margins(sys,'nyquist')\n",
"printf('Since P=0(no of poles in RHP)=Poles of G(s)H(s) \n here the number of zeros of 1+G(s)H(s) in the RHP is N>0 \n hence the system is unstable')     \n",
"\n",
""
   ]
   }
,
{
		   "cell_type": "markdown",
		   "metadata": {},
		   "source": [
			"## Example 15.05: no_of_poles.sci"
		   ]
		  },
  {
"cell_type": "code",
	   "execution_count": null,
	   "metadata": {
	    "collapsed": true
	   },
	   "outputs": [],
"source": [
"//system//\n",
"s=%s;\n",
"sys=syslin('c',1/(s^2*(s+2)))\n",
"nyquist(sys)\n",
"show_margins(sys,'nyquist')\n",
"printf('Since P=0(no of poles in RHP)=Poles of G(s)H(s) \n here the number of zeros of 1+G(s)H(s) in the RHP is N>0 \n hence the system is unstable')     \n",
"\n",
""
   ]
   }
,
{
		   "cell_type": "markdown",
		   "metadata": {},
		   "source": [
			"## Example 15.06: nyquist.sci"
		   ]
		  },
  {
"cell_type": "code",
	   "execution_count": null,
	   "metadata": {
	    "collapsed": true
	   },
	   "outputs": [],
"source": [
"//system//\n",
"s=%s;\n",
"P1=1;\n",
"P2=2;\n",
"sys=syslin('c',1/((s+1)*(s+2)))\n",
"nyquist(sys) \n",
"show_margins(sys,'nyquist')\n",
"printf('Since P=0(no of poles in RHP)=Poles of G(s)H(s) \n\n Here the number of zeros of 1+G(s)H(s) in the RHP is zero \n\n Hence the system is stable')     \n",
""
   ]
   }
,
{
		   "cell_type": "markdown",
		   "metadata": {},
		   "source": [
			"## Example 15.07: unstable_and_stable_system.sci"
		   ]
		  },
  {
"cell_type": "code",
	   "execution_count": null,
	   "metadata": {
	    "collapsed": true
	   },
	   "outputs": [],
"source": [
"//system//\n",
"s=%s;\n",
"sys=syslin('c',12/(s*(s+1)*(s+2)))\n",
"nyquist(sys) \n",
"show_margins(sys,'nyquist')\n",
"gm=g_margin(sys)\n",
"if (gm<=0)\n",
"  printf('system is unstable')\n",
"else \n",
"printf('system is stable');end;\n",
"  "
   ]
   }
,
{
		   "cell_type": "markdown",
		   "metadata": {},
		   "source": [
			"## Example 15.08: stable_and_unstable.sci"
		   ]
		  },
  {
"cell_type": "code",
	   "execution_count": null,
	   "metadata": {
	    "collapsed": true
	   },
	   "outputs": [],
"source": [
"//system//\n",
"s=%s;\n",
"sys=syslin('c',(30)/((s^2+2*s+2)*(s+3)))\n",
"nyquist(sys)\n",
"gm=g_margin(sys)\n",
"show_margins(sys,'nyquist')\n",
"printf('Since P=0(no of poles in RHP)=Poles of G(s)H(s) \n Here the number of zeros of 1+G(s)H(s) in the RHP is zero \n Hence the system is stable')     \n",
"if (gm<=0)\n",
"  printf('system is unstable')\n",
"else \n",
"  printf('system is stable')\n",
"  end "
   ]
   }
],
"metadata": {
		  "kernelspec": {
		   "display_name": "Scilab",
		   "language": "scilab",
		   "name": "scilab"
		  },
		  "language_info": {
		   "file_extension": ".sce",
		   "help_links": [
			{
			 "text": "MetaKernel Magics",
			 "url": "https://github.com/calysto/metakernel/blob/master/metakernel/magics/README.md"
			}
		   ],
		   "mimetype": "text/x-octave",
		   "name": "scilab",
		   "version": "0.7.1"
		  }
		 },
		 "nbformat": 4,
		 "nbformat_minor": 0
}
