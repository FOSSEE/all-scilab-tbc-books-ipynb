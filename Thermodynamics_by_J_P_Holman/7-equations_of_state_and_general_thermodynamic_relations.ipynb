{
"cells": [
 {
		   "cell_type": "markdown",
	   "metadata": {},
	   "source": [
       "# Chapter 7: equations of state and general thermodynamic relations"
	   ]
	},
{
		   "cell_type": "markdown",
		   "metadata": {},
		   "source": [
			"## Example 7.1: example_1.sce"
		   ]
		  },
  {
"cell_type": "code",
	   "execution_count": null,
	   "metadata": {
	    "collapsed": true
	   },
	   "outputs": [],
"source": [
"clc\n",
"//Initialization of variables\n",
"disp('Using gas tables,')\n",
"T1=1160 //R\n",
"h1=281.14 //B/lbm\n",
"Pr1=21.18 \n",
"P2=30 //psia\n",
"P1=100 //psia\n",
"//calculations\n",
"Pr2=Pr1*P2/P1\n",
"T2=833 //R\n",
"h2=199.45 //B/lbm\n",
"dh=h2-h1\n",
"//results\n",
"printf('Change in enthalpy = %.2f B/lbm',dh)"
   ]
   }
,
{
		   "cell_type": "markdown",
		   "metadata": {},
		   "source": [
			"## Example 7.2: example_2.sce"
		   ]
		  },
  {
"cell_type": "code",
	   "execution_count": null,
	   "metadata": {
	    "collapsed": true
	   },
	   "outputs": [],
"source": [
"clc\n",
"//Initialization of variables\n",
"T2=860 //R\n",
"phi1=0.78767\n",
"phi2=0.71323\n",
"P2=30 //psia\n",
"P1=100 //psia\n",
"//calculations\n",
"dS=phi2-phi1- 53.35/778 *log(P2/P1)\n",
"//results\n",
"printf('Net change of entropy = %.5f B/lbm R',dS)"
   ]
   }
,
{
		   "cell_type": "markdown",
		   "metadata": {},
		   "source": [
			"## Example 7.3: example_3.sce"
		   ]
		  },
  {
"cell_type": "code",
	   "execution_count": null,
	   "metadata": {
	    "collapsed": true
	   },
	   "outputs": [],
"source": [
"clc\n",
"//Initialization of variables\n",
"T1=540 //R\n",
"T2=960 //R\n",
"disp('From gas tables,')\n",
"h2=231.06 //B/lbm\n",
"h1=129.06 //B/lbm\n",
"cp=0.24\n",
"//calculations\n",
"W=h2-h1\n",
"dh=cp*(T2-T1)\n",
"//results\n",
"printf('Change in enthalpy = %.1f B/lbm',dh)"
   ]
   }
,
{
		   "cell_type": "markdown",
		   "metadata": {},
		   "source": [
			"## Example 7.4: example_4.sce"
		   ]
		  },
  {
"cell_type": "code",
	   "execution_count": null,
	   "metadata": {
	    "collapsed": true
	   },
	   "outputs": [],
"source": [
"clc\n",
"//Initialization of variables\n",
"T1=420 //R\n",
"T2=380 //R\n",
"hig=1221.2\n",
"P1=0.0019\n",
"//calculations\n",
"lnp=hig*778*(1/T1 - 1/T2)/85.6\n",
"pra=exp(lnp)\n",
"P2=pra*P1\n",
"//results\n",
"printf('Final pressure = %.3e psia',P2)"
   ]
   }
,
{
		   "cell_type": "markdown",
		   "metadata": {},
		   "source": [
			"## Example 7.5: example_5.sce"
		   ]
		  },
  {
"cell_type": "code",
	   "execution_count": null,
	   "metadata": {
	    "collapsed": true
	   },
	   "outputs": [],
"source": [
"clc\n",
"//Initialization of variables\n",
"disp('from critical constant tables')\n",
"pc=482//psia\n",
"Tc=227 //R\n",
"vc=1.44 //ft^3/lbm mol\n",
"P=600 //psia\n",
"T=310 //R\n",
"//calculations\n",
"Pr=P/pc\n",
"Tr=T/Tc\n",
"disp('From Z tables,')\n",
"Z=0.83\n",
"v=Z*55.12*T/(P*144)\n",
"rho=1/v\n",
"//results\n",
"printf('Density = %.1f lbm/ft^3',rho)"
   ]
   }
,
{
		   "cell_type": "markdown",
		   "metadata": {},
		   "source": [
			"## Example 7.6: example_6.sce"
		   ]
		  },
  {
"cell_type": "code",
	   "execution_count": null,
	   "metadata": {
	    "collapsed": true
	   },
	   "outputs": [],
"source": [
"clc\n",
"//Initialization of variables\n",
"T=-150+460 //R\n",
"v=0.6 //ft^3/lbm\n",
"vc=1.44\n",
"Tc=227 //R\n",
"Pc=482 //psia\n",
"//calculations\n",
"disp('From tables of z')\n",
"vr=v/vc\n",
"Tr=T/Tc\n",
"Pr=1.75\n",
"P=Pr*Pc\n",
"//results\n",
"printf('Final pressure = %d psia',P)"
   ]
   }
,
{
		   "cell_type": "markdown",
		   "metadata": {},
		   "source": [
			"## Example 7.7: example_7.sce"
		   ]
		  },
  {
"cell_type": "code",
	   "execution_count": null,
	   "metadata": {
	    "collapsed": true
	   },
	   "outputs": [],
"source": [
"clc\n",
"//Initialization of variables\n",
"disp('Critical tables suggest,')\n",
"Tc=344 //R\n",
"Pc=673 //psia\n",
"P1=20 //psia\n",
"P2=500 //psia\n",
"M=16\n",
"T=560 //R\n",
"//calculations\n",
"pr1=P1/Pc\n",
"pr2=P2/Pc\n",
"Tr=T/Tc\n",
"dh2=0.65*Tc\n",
"dsp=0.35 //B/lbm mol R\n",
"dsp2=0.018-dsp- 1545/778 *log(P2/P1)\n",
"W=dh2-dsp2*T\n",
"W2=W/M\n",
"//results\n",
"printf('Work per pound mass = %d B/lbm',W2)\n",
"//The answer is a bit different due to rounding off error"
   ]
   }
,
{
		   "cell_type": "markdown",
		   "metadata": {},
		   "source": [
			"## Example 7.8: example_8.sce"
		   ]
		  },
  {
"cell_type": "code",
	   "execution_count": null,
	   "metadata": {
	    "collapsed": true
	   },
	   "outputs": [],
"source": [
"clc\n",
"//Initialization of variables\n",
"P=1000 //psia\n",
"T1=100 + 460 //R\n",
"T2=800+460 //R\n",
"//calculations\n",
"pc=1070 //psia\n",
"Tc=548 //R\n",
"pr1=P/pc\n",
"Tr1=T1/Tc\n",
"Tr2=T2/Tc\n",
"M=44\n",
"disp('from fig 7.7')\n",
"h1=4235.8 //B/lbm mol\n",
"h2=11661 //B/lbm mol\n",
"h2bar=3.5 //B/lbm mol\n",
"h1bar=0.48 //B/lbm mol\n",
"dhbar=Tc*(h2bar-h1bar) + h2-h1\n",
"Q=dhbar/M\n",
"cp=0.202 //B/lbm F\n",
"Q2=cp*(T2-T1)\n",
"Error=(Q-Q2)/Q\n",
"//results\n",
"printf('Error in calculation = %d percent',Error*100)"
   ]
   }
],
"metadata": {
		  "kernelspec": {
		   "display_name": "Scilab",
		   "language": "scilab",
		   "name": "scilab"
		  },
		  "language_info": {
		   "file_extension": ".sce",
		   "help_links": [
			{
			 "text": "MetaKernel Magics",
			 "url": "https://github.com/calysto/metakernel/blob/master/metakernel/magics/README.md"
			}
		   ],
		   "mimetype": "text/x-octave",
		   "name": "scilab",
		   "version": "0.7.1"
		  }
		 },
		 "nbformat": 4,
		 "nbformat_minor": 0
}
