{
"cells": [
 {
		   "cell_type": "markdown",
	   "metadata": {},
	   "source": [
       "# Chapter 9: Kinetic theory and transport phenomena"
	   ]
	},
{
		   "cell_type": "markdown",
		   "metadata": {},
		   "source": [
			"## Example 9.1: example_1.sce"
		   ]
		  },
  {
"cell_type": "code",
	   "execution_count": null,
	   "metadata": {
	    "collapsed": true
	   },
	   "outputs": [],
"source": [
"clc\n",
"//Initialization of variables\n",
"N0=6.025*10^26\n",
"M=32\n",
"k=1.38*10^-23\n",
"T=300 //K\n",
"//calculations\n",
"m=M/N0\n",
"vavg=sqrt(8*k*T/(%pi*m))\n",
"vrms=sqrt(3*k*T/m)\n",
"vm=sqrt(2*k*T/m)\n",
"//results\n",
"printf('Average velocity = %d m/sec',vavg)\n",
"printf('\n RMS velocity = %d m/sec',vrms)\n",
"printf('\n Most probable velocity = %d m/sec',vm)"
   ]
   }
,
{
		   "cell_type": "markdown",
		   "metadata": {},
		   "source": [
			"## Example 9.2: example_2.sce"
		   ]
		  },
  {
"cell_type": "code",
	   "execution_count": null,
	   "metadata": {
	    "collapsed": true
	   },
	   "outputs": [],
"source": [
"clc\n",
"//Initialization of variables\n",
"T=300 //K\n",
"dv=0.02\n",
"vm=395 //m/s\n",
"m=5.32*10^-26 //kg\n",
"k=1.38*10^-23\n",
"vrms=483 //m/s\n",
"//calculations\n",
"N1=sqrt(2/%pi) *(m/(k*T))^(3/2) *vm^2 *exp(-1) *dv*vm\n",
"N2=sqrt(2/%pi) *(m/(k*T))^(3/2) *vrms^2 *exp(-3/2) *dv*vrms\n",
"//results\n",
"printf('Fraction of oxygen molecules at v most probable speed = %.4f ',N1)\n",
"printf('\n Fraction of oxygen molecules at v rms speed = %.4f ',N2)"
   ]
   }
,
{
		   "cell_type": "markdown",
		   "metadata": {},
		   "source": [
			"## Example 9.3: example_3.sce"
		   ]
		  },
  {
"cell_type": "code",
	   "execution_count": null,
	   "metadata": {
	    "collapsed": true
	   },
	   "outputs": [],
"source": [
"clc\n",
"//Initialization of variables\n",
"p=1.013*10^5 //N/m^2\n",
"k=1.38*10^-23\n",
"T=300 //K\n",
"v=445 //m/s\n",
"A=0.001*10^-6 //m^2\n",
"//calculations\n",
"n=p/(k*T)\n",
"J=n*v/4\n",
"escaping=J*A\n",
"//results\n",
"printf('No. of molecules escaping per unit time = %.2e mol/sec',escaping)"
   ]
   }
,
{
		   "cell_type": "markdown",
		   "metadata": {},
		   "source": [
			"## Example 9.4: example_4.sce"
		   ]
		  },
  {
"cell_type": "code",
	   "execution_count": null,
	   "metadata": {
	    "collapsed": true
	   },
	   "outputs": [],
"source": [
"clc\n",
"//Initialization of variables\n",
"d=3.5*10^-10 //m\n",
"n=2.45*10^25\n",
"//calculations\n",
"sig=%pi*d^2\n",
"lambda=1/(sqrt(2) *sig*n) \n",
"frac=exp(-2)\n",
"//results\n",
"printf('Mean free path = %.2e m',lambda)\n",
"printf('\n fraction of molecules = %.3f',frac)"
   ]
   }
,
{
		   "cell_type": "markdown",
		   "metadata": {},
		   "source": [
			"## Example 9.5: example_5.sce"
		   ]
		  },
  {
"cell_type": "code",
	   "execution_count": null,
	   "metadata": {
	    "collapsed": true
	   },
	   "outputs": [],
"source": [
"clc\n",
"//Initialization of variables\n",
"P=1 //atm\n",
"T=300 //K\n",
"//calculations\n",
"cv=4.97\n",
"vavg=1580 //ft/s\n",
"sig=4.13*10^-18 //ft^2\n",
"N0=6.025*10^26 *0.4536\n",
"K=vavg*3600*cv/(3*N0*sig)\n",
"//results\n",
"printf('Thermal conductivity  = %.2e B/hr ft F',K)"
   ]
   }
,
{
		   "cell_type": "markdown",
		   "metadata": {},
		   "source": [
			"## Example 9.6: example_6.sce"
		   ]
		  },
  {
"cell_type": "code",
	   "execution_count": null,
	   "metadata": {
	    "collapsed": true
	   },
	   "outputs": [],
"source": [
"clc\n",
"//Initialization of variables\n",
"m=5.32*10^-26 //kg\n",
"v=445 //m/s\n",
"sigma=3.84*10^-19 //m^2\n",
"//calculations\n",
"mu=m*v/(3*sigma)\n",
"//results\n",
"printf('Dynamic viscosity of oxygen = %.2e newton sec/m^2',mu)"
   ]
   }
],
"metadata": {
		  "kernelspec": {
		   "display_name": "Scilab",
		   "language": "scilab",
		   "name": "scilab"
		  },
		  "language_info": {
		   "file_extension": ".sce",
		   "help_links": [
			{
			 "text": "MetaKernel Magics",
			 "url": "https://github.com/calysto/metakernel/blob/master/metakernel/magics/README.md"
			}
		   ],
		   "mimetype": "text/x-octave",
		   "name": "scilab",
		   "version": "0.7.1"
		  }
		 },
		 "nbformat": 4,
		 "nbformat_minor": 0
}
