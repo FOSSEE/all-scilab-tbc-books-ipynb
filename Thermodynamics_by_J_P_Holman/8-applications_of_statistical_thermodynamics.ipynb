{
"cells": [
 {
		   "cell_type": "markdown",
	   "metadata": {},
	   "source": [
       "# Chapter 8: applications of statistical thermodynamics"
	   ]
	},
{
		   "cell_type": "markdown",
		   "metadata": {},
		   "source": [
			"## Example 8.1: example_1.sce"
		   ]
		  },
  {
"cell_type": "code",
	   "execution_count": null,
	   "metadata": {
	    "collapsed": true
	   },
	   "outputs": [],
"source": [
"clc\n",
"//Initialization of variables\n",
"T=70 //K\n",
"Tr=85.5 //K\n",
"//calculations\n",
"disp('From fig 8.2')\n",
"cvrot=1.1\n",
"cvtra=1.5\n",
"cv=cvtra+cvrot\n",
"//results\n",
"printf('Cv total = %.1f R',cv)"
   ]
   }
,
{
		   "cell_type": "markdown",
		   "metadata": {},
		   "source": [
			"## Example 8.2: example_2.sce"
		   ]
		  },
  {
"cell_type": "code",
	   "execution_count": null,
	   "metadata": {
	    "collapsed": true
	   },
	   "outputs": [],
"source": [
"clc\n",
"//Initialization of variables\n",
"T=2000 //K\n",
"Tr=3340 //K\n",
"//calculations\n",
"disp('From fig 8.2')\n",
"cvrot=0.85\n",
"cvtra=1.5\n",
"cvvib=1\n",
"cv=cvtra+cvrot+cvvib\n",
"//results\n",
"printf('Cv total = %.2f R',cv)"
   ]
   }
,
{
		   "cell_type": "markdown",
		   "metadata": {},
		   "source": [
			"## Example 8.3: example_3.sce"
		   ]
		  },
  {
"cell_type": "code",
	   "execution_count": null,
	   "metadata": {
	    "collapsed": true
	   },
	   "outputs": [],
"source": [
"clc\n",
"//Initialization of variables\n",
"T=200 //K\n",
"the=398 //K\n",
"//calculations\n",
"ratio=T/the\n",
"disp('from fig 8.6')\n",
"cv=4.9\n",
"//results\n",
"printf('Specific heat of aluminium = %.1f cal/g mol K',cv)"
   ]
   }
,
{
		   "cell_type": "markdown",
		   "metadata": {},
		   "source": [
			"## Example 8.4: example_4.sce"
		   ]
		  },
  {
"cell_type": "code",
	   "execution_count": null,
	   "metadata": {
	    "collapsed": true
	   },
	   "outputs": [],
"source": [
"clc\n",
"//Initialization of variables\n",
"T=10 //K\n",
"td=315 //K\n",
"//calculations\n",
"cv=464.4 *(T/td)^3\n",
"//results\n",
"printf('specific heat of copper = %.5f cal/g mol K',cv)"
   ]
   }
,
{
		   "cell_type": "markdown",
		   "metadata": {},
		   "source": [
			"## Example 8.5: example_5.sce"
		   ]
		  },
  {
"cell_type": "code",
	   "execution_count": null,
	   "metadata": {
	    "collapsed": true
	   },
	   "outputs": [],
"source": [
"clc\n",
"//Initialization of variables\n",
"N0=6.025*10^23\n",
"M=63.57 \n",
"d=8.94 //g/cc\n",
"h=6.624*10^-27\n",
"me=9.1*10^-28\n",
"//calculations\n",
"NbyV=N0*d/M\n",
"mu0=h^2 *(3*NbyV/ %pi)^(2/3) /(8*me)\n",
"e0=0.6*mu0*10^-7\n",
"Teq=2*e0/(3*1.38*10^-23)\n",
"//results\n",
"printf('Equivalent temperature = %d K',Teq)"
   ]
   }
,
{
		   "cell_type": "markdown",
		   "metadata": {},
		   "source": [
			"## Example 8.6: example_6.sce"
		   ]
		  },
  {
"cell_type": "code",
	   "execution_count": null,
	   "metadata": {
	    "collapsed": true
	   },
	   "outputs": [],
"source": [
"clc\n",
"//Initialization of variables\n",
"T=300 //K\n",
"mu=1.13*10^-18\n",
"k=1.38*10^-23\n",
"//calculations\n",
"cv=%pi^2 *k*T/(2*mu)\n",
"//results\n",
"printf('Electron contribution = %.4f R',cv)"
   ]
   }
,
{
		   "cell_type": "markdown",
		   "metadata": {},
		   "source": [
			"## Example 8.7: example_7.sce"
		   ]
		  },
  {
"cell_type": "code",
	   "execution_count": null,
	   "metadata": {
	    "collapsed": true
	   },
	   "outputs": [],
"source": [
"clc\n",
"//Initialization of variables\n",
"sig=5.668*10^-5\n",
"T1=1000 //K\n",
"T2=2000 //K\n",
"//calculations\n",
"Eb1=sig*T1^4 *10^-7\n",
"Eb2=sig*T2^4 *10^-7\n",
"//results\n",
"printf('total energy emitted in case 1 = %.3f Watts/cm^2',Eb1)\n",
"printf('\n total energy emitted in case 2 = %.3f Watts/cm^2',Eb2)"
   ]
   }
],
"metadata": {
		  "kernelspec": {
		   "display_name": "Scilab",
		   "language": "scilab",
		   "name": "scilab"
		  },
		  "language_info": {
		   "file_extension": ".sce",
		   "help_links": [
			{
			 "text": "MetaKernel Magics",
			 "url": "https://github.com/calysto/metakernel/blob/master/metakernel/magics/README.md"
			}
		   ],
		   "mimetype": "text/x-octave",
		   "name": "scilab",
		   "version": "0.7.1"
		  }
		 },
		 "nbformat": 4,
		 "nbformat_minor": 0
}
