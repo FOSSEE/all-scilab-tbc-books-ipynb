{
"cells": [
 {
		   "cell_type": "markdown",
	   "metadata": {},
	   "source": [
       "# Chapter 13: Thermodynamics of irreversible processes"
	   ]
	},
{
		   "cell_type": "markdown",
		   "metadata": {},
		   "source": [
			"## Example 13.1: example_1.sce"
		   ]
		  },
  {
"cell_type": "code",
	   "execution_count": null,
	   "metadata": {
	    "collapsed": true
	   },
	   "outputs": [],
"source": [
"clc\n",
"//Initialization of variables\n",
"Eab1=0\n",
"Eab2=5.87 //mV\n",
"T1=150 //F\n",
"T2=200 //F\n",
"//calculations\n",
"Eab= -1.12+ 0.035*T1\n",
"pi1=0.035*(T1+460)\n",
"pi2=0.035*(T2+460)\n",
"//results\n",
"printf('Thermocouple reading at %d F = %.2f mv',T1,Eab)\n",
"printf('\n Peltier coefficient at %d F = %.1f mv',T1,pi1)\n",
"printf('\n Peltier coefficient at %d F = %.1f mv',T2,pi2)"
   ]
   }
,
{
		   "cell_type": "markdown",
		   "metadata": {},
		   "source": [
			"## Example 13.2: example_2.sce"
		   ]
		  },
  {
"cell_type": "code",
	   "execution_count": null,
	   "metadata": {
	    "collapsed": true
	   },
	   "outputs": [],
"source": [
"clc\n",
"//Initialization of variables\n",
"T=0 //C\n",
"//calculations\n",
"de1=-72 //mV/C\n",
"de2=500 //mv/C\n",
"alpha=de1-de2\n",
"pi=-(T+273)*alpha\n",
"//results\n",
"printf('Peltier coefficient at %d C = %d mv',T,pi/1000)"
   ]
   }
],
"metadata": {
		  "kernelspec": {
		   "display_name": "Scilab",
		   "language": "scilab",
		   "name": "scilab"
		  },
		  "language_info": {
		   "file_extension": ".sce",
		   "help_links": [
			{
			 "text": "MetaKernel Magics",
			 "url": "https://github.com/calysto/metakernel/blob/master/metakernel/magics/README.md"
			}
		   ],
		   "mimetype": "text/x-octave",
		   "name": "scilab",
		   "version": "0.7.1"
		  }
		 },
		 "nbformat": 4,
		 "nbformat_minor": 0
}
