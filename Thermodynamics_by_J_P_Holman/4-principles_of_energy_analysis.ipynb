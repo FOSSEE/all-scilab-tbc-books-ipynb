{
"cells": [
 {
		   "cell_type": "markdown",
	   "metadata": {},
	   "source": [
       "# Chapter 4: principles of energy analysis"
	   ]
	},
{
		   "cell_type": "markdown",
		   "metadata": {},
		   "source": [
			"## Example 4.1: example_1.sce"
		   ]
		  },
  {
"cell_type": "code",
	   "execution_count": null,
	   "metadata": {
	    "collapsed": true
	   },
	   "outputs": [],
"source": [
"clc\n",
"//Initialization of variables\n",
"m=1\n",
"he=1148.8 //B/lbm\n",
"hi=1357 //B/lbm\n",
"Ve=100 //ft/sec\n",
"Vi=800 //ft/sec\n",
"//calculations\n",
"dW= m*(he-hi) + m*(Ve^2 - Vi^2)/(2*32.2*778)\n",
"dWhr=dW*3600\n",
"hp=-dWhr/2545\n",
"//results\n",
"printf('Horsepower output = %d hp',hp+1)"
   ]
   }
,
{
		   "cell_type": "markdown",
		   "metadata": {},
		   "source": [
			"## Example 4.2: example_2.sce"
		   ]
		  },
  {
"cell_type": "code",
	   "execution_count": null,
	   "metadata": {
	    "collapsed": true
	   },
	   "outputs": [],
"source": [
"clc\n",
"//Initialization of variables\n",
"rate=80 //lbm/min\n",
"T1=100 //F\n",
"P1=100 //psia\n",
"P2=1000 //psia\n",
"//calculations\n",
"disp('From the tables,')\n",
"v=0.01613 //ft^3/lbm\n",
"W=rate*(P2-P1)*144*v\n",
"//results\n",
"printf('Work done = %.2f ft-lbf/min',W)"
   ]
   }
,
{
		   "cell_type": "markdown",
		   "metadata": {},
		   "source": [
			"## Example 4.3: example_3.sce"
		   ]
		  },
  {
"cell_type": "code",
	   "execution_count": null,
	   "metadata": {
	    "collapsed": true
	   },
	   "outputs": [],
"source": [
"clc\n",
"//Initialization of variables\n",
"disp('from saturated steam tables,')\n",
"hi=1279.1 //B/lbm\n",
"//calculations\n",
"u2=hi\n",
"T2=564 //F\n",
"//results\n",
"printf('Temperature of steam = %d F',T2)"
   ]
   }
,
{
		   "cell_type": "markdown",
		   "metadata": {},
		   "source": [
			"## Example 4.4: example_4.sce"
		   ]
		  },
  {
"cell_type": "code",
	   "execution_count": null,
	   "metadata": {
	    "collapsed": true
	   },
	   "outputs": [],
"source": [
"clc\n",
"//Initialization of variables\n",
"P1=20 //psia\n",
"P2=100 //psia\n",
"V=3 //ft^3\n",
"T=560 //R\n",
"ma=0.289\n",
"//calculations\n",
"ma=P1*V/(53.35*T)\n",
"Wa=-ma*53.35*T*log(P1/P2)\n",
"Qa=-Wa\n",
"Va2=3/5\n",
"V2s=V-Va2\n",
"hi=1279.1 //B/lbm\n",
"T2s=536 //F\n",
"//results\n",
"printf('Final temperature = %d F',T2s)"
   ]
   }
,
{
		   "cell_type": "markdown",
		   "metadata": {},
		   "source": [
			"## Example 4.5: example_5.sce"
		   ]
		  },
  {
"cell_type": "code",
	   "execution_count": null,
	   "metadata": {
	    "collapsed": true
	   },
	   "outputs": [],
"source": [
"clc\n",
"//Initialization of variables\n",
"P1=200 //psia\n",
"P2=100 //psia\n",
"T1=300+460 //R\n",
"g=1.4\n",
"cp=0.24\n",
"//calculations\n",
"T2=(T1)*(P2/P1)^((g-1)/g)\n",
"V2=sqrt(2*32.2*778*cp*(T1-T2))\n",
"//results\n",
"printf('Final velocity  = %d ft/sec',V2)"
   ]
   }
,
{
		   "cell_type": "markdown",
		   "metadata": {},
		   "source": [
			"## Example 4.6: example_6.sce"
		   ]
		  },
  {
"cell_type": "code",
	   "execution_count": null,
	   "metadata": {
	    "collapsed": true
	   },
	   "outputs": [],
"source": [
"clc\n",
"//Initialization of variables\n",
"T1=500+460 //R\n",
"P1=50 //psia\n",
"P2=15 //psia\n",
"g=1.4\n",
"cp=0.24\n",
"//calculations\n",
"T2=T1*(P2/P1)^((g-1)/g)\n",
"W=cp*(T2-T1) + (T1-460)^2 /(2*32.2*778)\n",
"//results\n",
"printf('Net work output from turbine = %.1f B/lbm',W)"
   ]
   }
,
{
		   "cell_type": "markdown",
		   "metadata": {},
		   "source": [
			"## Example 4.7: example_7.sce"
		   ]
		  },
  {
"cell_type": "code",
	   "execution_count": null,
	   "metadata": {
	    "collapsed": true
	   },
	   "outputs": [],
"source": [
"clc\n",
"//Initialization of variables\n",
"T1=150+460 //R\n",
"T1=40+460 //R\n",
"//calculations\n",
"disp('from freon tables,')\n",
"h2=43.850 //B/lbm\n",
"hf2=17.273\n",
"hfg2=64.163\n",
"x2=(h2-hf2)/hfg2\n",
"//results\n",
"printf('Quality of freon vapor = %.3f',x2)"
   ]
   }
],
"metadata": {
		  "kernelspec": {
		   "display_name": "Scilab",
		   "language": "scilab",
		   "name": "scilab"
		  },
		  "language_info": {
		   "file_extension": ".sce",
		   "help_links": [
			{
			 "text": "MetaKernel Magics",
			 "url": "https://github.com/calysto/metakernel/blob/master/metakernel/magics/README.md"
			}
		   ],
		   "mimetype": "text/x-octave",
		   "name": "scilab",
		   "version": "0.7.1"
		  }
		 },
		 "nbformat": 4,
		 "nbformat_minor": 0
}
