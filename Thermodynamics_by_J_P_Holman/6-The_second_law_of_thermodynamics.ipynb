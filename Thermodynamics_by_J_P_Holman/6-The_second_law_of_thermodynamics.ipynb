{
"cells": [
 {
		   "cell_type": "markdown",
	   "metadata": {},
	   "source": [
       "# Chapter 6: The second law of thermodynamics"
	   ]
	},
{
		   "cell_type": "markdown",
		   "metadata": {},
		   "source": [
			"## Example 6.1: example_1.sce"
		   ]
		  },
  {
"cell_type": "code",
	   "execution_count": null,
	   "metadata": {
	    "collapsed": true
	   },
	   "outputs": [],
"source": [
"clc\n",
"//Initialization of variables\n",
"m=5 //lbm\n",
"P=50 //psia\n",
"T=500 + 460 //R\n",
"//calculations\n",
"disp('From saturated steam tables,')\n",
"s1=0.4110 //B/lbm R\n",
"s2=1.7887 //B/lbm R\n",
"dS=m*(s2-s1)\n",
"//results\n",
"printf('Change in entropy = %.3f B/R',dS)"
   ]
   }
,
{
		   "cell_type": "markdown",
		   "metadata": {},
		   "source": [
			"## Example 6.2: example_2.sce"
		   ]
		  },
  {
"cell_type": "code",
	   "execution_count": null,
	   "metadata": {
	    "collapsed": true
	   },
	   "outputs": [],
"source": [
"clc\n",
"//Initialization of variables\n",
"P=20 //psia\n",
"T=227.96+ 459.69 //R\n",
"//calculations\n",
"disp('from saturation tables,')\n",
"sfg=1.3962 //B/ R lbm\n",
"Q=T*sfg\n",
"//results\n",
"printf('heat transfer = %.1f B/lbm',Q)"
   ]
   }
,
{
		   "cell_type": "markdown",
		   "metadata": {},
		   "source": [
			"## Example 6.3: example_3.sce"
		   ]
		  },
  {
"cell_type": "code",
	   "execution_count": null,
	   "metadata": {
	    "collapsed": true
	   },
	   "outputs": [],
"source": [
"clc\n",
"//Initialization of variables\n",
"T1=100+460 //R\n",
"P1=15//psia\n",
"P2=50 //psia\n",
"n=1.3\n",
"cp=0.24\n",
"//calculations\n",
"T2=T1*(P2/P1)^((n-1)/n)\n",
"dS=cp*log(T2/T1) - 53.35/778 *log(P2/P1) \n",
"//results\n",
"printf('Change in entropy = %.3f B/lbm R',dS)\n",
"//the answer given in textbook is wrong. Please check it using a calculator"
   ]
   }
,
{
		   "cell_type": "markdown",
		   "metadata": {},
		   "source": [
			"## Example 6.4: example_4.sce"
		   ]
		  },
  {
"cell_type": "code",
	   "execution_count": null,
	   "metadata": {
	    "collapsed": true
	   },
	   "outputs": [],
"source": [
"clc\n",
"//Initialization of variables\n",
"T1=85+460 //R\n",
"T2=T1\n",
"cp=0.24\n",
"P2=15 //psia\n",
"P1=30 //psia\n",
"//calculations\n",
"dS=cp*log(T2/T1) - 53.35/778 *log(P2/P1)\n",
"//results\n",
"printf('Change in entropy = %.4f B/lbm R',dS)"
   ]
   }
,
{
		   "cell_type": "markdown",
		   "metadata": {},
		   "source": [
			"## Example 6.5: example_5.sce"
		   ]
		  },
  {
"cell_type": "code",
	   "execution_count": null,
	   "metadata": {
	    "collapsed": true
	   },
	   "outputs": [],
"source": [
"clc\n",
"//Initialization of variables\n",
"Qh=-1000 //Btu\n",
"Ql=1000 //Btu\n",
"Th=1460 //R\n",
"Tl=960 //R\n",
"//calculations\n",
"Sh=Qh/Th\n",
"Sl=Ql/Tl\n",
"S=Sh+Sl\n",
"//results\n",
"printf('Change in entropy of the universe = %.3f B/R',S)"
   ]
   }
,
{
		   "cell_type": "markdown",
		   "metadata": {},
		   "source": [
			"## Example 6.6: example_6.sce"
		   ]
		  },
  {
"cell_type": "code",
	   "execution_count": null,
	   "metadata": {
	    "collapsed": true
	   },
	   "outputs": [],
"source": [
"clc\n",
"//Initialization of variables\n",
"disp('from steam tables,')\n",
"h1=1416.4 //B/lbm\n",
"s1=1.6842 //B/lbm R\n",
"//calculations\n",
"s2=s1\n",
"P2=50 //psia\n",
"T2=317.5 //F\n",
"h2=1193.7\n",
"W=h2-h1\n",
"//results\n",
"printf('Work calculated = %.1f B/lbm',W)"
   ]
   }
],
"metadata": {
		  "kernelspec": {
		   "display_name": "Scilab",
		   "language": "scilab",
		   "name": "scilab"
		  },
		  "language_info": {
		   "file_extension": ".sce",
		   "help_links": [
			{
			 "text": "MetaKernel Magics",
			 "url": "https://github.com/calysto/metakernel/blob/master/metakernel/magics/README.md"
			}
		   ],
		   "mimetype": "text/x-octave",
		   "name": "scilab",
		   "version": "0.7.1"
		  }
		 },
		 "nbformat": 4,
		 "nbformat_minor": 0
}
