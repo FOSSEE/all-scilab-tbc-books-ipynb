{
"cells": [
 {
		   "cell_type": "markdown",
	   "metadata": {},
	   "source": [
       "# Chapter 3: Macroscopic properties of pure substances"
	   ]
	},
{
		   "cell_type": "markdown",
		   "metadata": {},
		   "source": [
			"## Example 3.1: example_1.sce"
		   ]
		  },
  {
"cell_type": "code",
	   "execution_count": null,
	   "metadata": {
	    "collapsed": true
	   },
	   "outputs": [],
"source": [
"clc\n",
"//Initialization of variables\n",
"V=1 //ft^3\n",
"m=30 //lbm\n",
"//calculations\n",
"v=V/m\n",
"vf1=0.01665\n",
"vfg1=32.38 //ft^3/lbm\n",
"x1=0.000515\n",
"uf1=169.92\n",
"ufg1=904.8\n",
"u1=uf1+x1*ufg1\n",
"vfg=0.0216\n",
"vfg2=0.4240\n",
"v2=v\n",
"x2=0.0277\n",
"uf2=538.4\n",
"ufg2=571\n",
"u2=uf2+x2*ufg2\n",
"Q=m*(u2-u1)\n",
"//results\n",
"printf('Heat transfer = %d Btu',Q)"
   ]
   }
,
{
		   "cell_type": "markdown",
		   "metadata": {},
		   "source": [
			"## Example 3.2: example_2.sce"
		   ]
		  },
  {
"cell_type": "code",
	   "execution_count": null,
	   "metadata": {
	    "collapsed": true
	   },
	   "outputs": [],
"source": [
"clc\n",
"//Initialization of variables\n",
"V2=2.5 //ft^3\n",
"V1=0.5 //ft^3\n",
"P=100 //psia\n",
"x1=0.5\n",
"//calculations\n",
"W=-P*144*(V2-V1)\n",
"vf1=0.01774\n",
"vfg1=4.414\n",
"v1=vf1+x1*vfg1\n",
"m=V1/v1\n",
"v2=V2/m\n",
"disp('From tables ,')\n",
"uf1=298.08\n",
"ufg1=807.1\n",
"u1=uf1+x1*ufg1\n",
"h2=1747.9\n",
"u2=h2-P*144*v2/778\n",
"Q=m*(u2-u1)\n",
"//results\n",
"printf('Amount of heat = %d Btu',Q)\n",
"//The answer for u2 is given wrong in the textbook. Please use a calculator to find it"
   ]
   }
,
{
		   "cell_type": "markdown",
		   "metadata": {},
		   "source": [
			"## Example 3.3: example_3.sce"
		   ]
		  },
  {
"cell_type": "code",
	   "execution_count": null,
	   "metadata": {
	    "collapsed": true
	   },
	   "outputs": [],
"source": [
"clc\n",
"//Initialization of variables\n",
"V1=1.735*10^-4 //ft^3\n",
"v1=0.016080 //ft^3/lbm\n",
"h1=70.61 //B/lbm\n",
"P1=100 //psia\n",
"V2=1 //ft^3\n",
"//calculations\n",
"u1=h1-P1*v1*144/778\n",
"m=V1/v1\n",
"v2=V2/m\n",
"vf2=0.01613\n",
"vfg2=350.3\n",
"x2=(v2-vf2)/vfg2\n",
"hf2=67.97\n",
"hfg2=1037.2\n",
"h2=hf2+x2*hfg2\n",
"P2=0.9492\n",
"u2=h2- P2*144*v2/778\n",
"Q=m*(u2-u1)\n",
"//results\n",
"printf('Enthalpy change = %.2f Btu',Q)"
   ]
   }
,
{
		   "cell_type": "markdown",
		   "metadata": {},
		   "source": [
			"## Example 3.4: example_4.sce"
		   ]
		  },
  {
"cell_type": "code",
	   "execution_count": null,
	   "metadata": {
	    "collapsed": true
	   },
	   "outputs": [],
"source": [
"clc\n",
"//Initialization of variables\n",
"P=20 //psia\n",
"V=1 //ft^3\n",
"T=560 //R\n",
"cv=0.1715\n",
"Q=10//Btu\n",
"//calculations\n",
"m=P*144*V/(53.35*T)\n",
"T2=Q/(m*cv) +T\n",
"P2=m*53.35*T2/V\n",
"//results\n",
"printf('Fina pressure = %d lbf/ft^2',P2)"
   ]
   }
,
{
		   "cell_type": "markdown",
		   "metadata": {},
		   "source": [
			"## Example 3.5: example_5.sce"
		   ]
		  },
  {
"cell_type": "code",
	   "execution_count": null,
	   "metadata": {
	    "collapsed": true
	   },
	   "outputs": [],
"source": [
"clc\n",
"//Initialization of variables\n",
"T1=560 //R\n",
"T2=3460  //R\n",
"m=28.02 //lb\n",
"cv=0.248\n",
"//calculations\n",
"function [q]=fun(T)\n",
"    q=9.47 - 3.29*10^3 /T +1.07*10^6 /T^2\n",
"endfunction\n",
"Q1=intg(T1,T2,fun)\n",
"Q2=m*cv*(T2-T1)\n",
"Error=(Q1-Q2)/Q1\n",
"//results\n",
"printf('Percentage error = %.1f percent',Error*100)"
   ]
   }
,
{
		   "cell_type": "markdown",
		   "metadata": {},
		   "source": [
			"## Example 3.6: example_6.sce"
		   ]
		  },
  {
"cell_type": "code",
	   "execution_count": null,
	   "metadata": {
	    "collapsed": true
	   },
	   "outputs": [],
"source": [
"clc\n",
"//Initialization of variables\n",
"rate=20 //gal/min\n",
"P1=20 //psia\n",
"P2=1000 //psia\n",
"T=100+460 //R\n",
"//calculations\n",
"vf=0.01613\n",
"disp('From table A-8')\n",
"dv=-5.2*10^-5 //ft^3/lbm\n",
"K=-dv/(vf*P2*144)\n",
"wt=K*vf*(P2^2 - P1^2)*144*144*10^4 /2\n",
"m=rate*8.33\n",
"Wt=wt*m\n",
"Wthp=Wt/33000\n",
"//results\n",
"printf('Pump power required = %d hp',Wthp)"
   ]
   }
],
"metadata": {
		  "kernelspec": {
		   "display_name": "Scilab",
		   "language": "scilab",
		   "name": "scilab"
		  },
		  "language_info": {
		   "file_extension": ".sce",
		   "help_links": [
			{
			 "text": "MetaKernel Magics",
			 "url": "https://github.com/calysto/metakernel/blob/master/metakernel/magics/README.md"
			}
		   ],
		   "mimetype": "text/x-octave",
		   "name": "scilab",
		   "version": "0.7.1"
		  }
		 },
		 "nbformat": 4,
		 "nbformat_minor": 0
}
