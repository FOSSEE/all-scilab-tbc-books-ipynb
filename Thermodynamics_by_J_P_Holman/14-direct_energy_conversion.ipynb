{
"cells": [
 {
		   "cell_type": "markdown",
	   "metadata": {},
	   "source": [
       "# Chapter 14: direct energy conversion"
	   ]
	},
{
		   "cell_type": "markdown",
		   "metadata": {},
		   "source": [
			"## Example 14.1: example_1.sce"
		   ]
		  },
  {
"cell_type": "code",
	   "execution_count": null,
	   "metadata": {
	    "collapsed": true
	   },
	   "outputs": [],
"source": [
"clc\n",
"//Initialization of variables\n",
"T=25+273 //K\n",
"F=23060\n",
"//calculations\n",
"H=-68317\n",
"G=-56690\n",
"Er=-G/(2*F)\n",
"eta=G/H\n",
"W=-G\n",
"Q=H-G\n",
"//results\n",
"printf('Voltage output of the cell = %.3f volts',Er)\n",
"printf('\n Efficiency = %d percent',eta*100 +1)\n",
"printf('\n Electrical Work output = %d cal/mol H2',W)\n",
"printf('\n Heat transfer to the surroundings = %d cal/mol H2',Q)"
   ]
   }
,
{
		   "cell_type": "markdown",
		   "metadata": {},
		   "source": [
			"## Example 14.2: example_2.sce"
		   ]
		  },
  {
"cell_type": "code",
	   "execution_count": null,
	   "metadata": {
	    "collapsed": true
	   },
	   "outputs": [],
"source": [
"clc\n",
"//Initialization of variables\n",
"x1=0.75\n",
"x2=0.25\n",
"an=-190*10^-6 //volt/C\n",
"rn=1.45*10^-3 //ohm cm\n",
"zn=2*10^-3 //K^-1\n",
"ap=190*10^-6 //volt/C\n",
"rp=1.8*10^-3 //ohm cm\n",
"zp=1.7*10^-3 //K^-1\n",
"T=200+273 //K\n",
"Tc=373 //K\n",
"Th=573 //K\n",
"//calculations\n",
"Ktn=an^2/(rn*zn)\n",
"Ktp=ap^2/(rp*zp)\n",
"Z=(an-ap)^2 /(sqrt(rn*Ktn) + sqrt(rp*Ktp))^2\n",
"Ap=sqrt(Ktn*rp/Ktp/rn)\n",
"An=1\n",
"K=Ktn*An+ Ktp*Ap\n",
"R=rn/An + rp/Ap\n",
"mopt=sqrt(1+ Z*T)\n",
"RL=mopt*R\n",
"nopt=(T-273)*(mopt-1)/(Th*(mopt+ Tc/Th))\n",
"nmax=T/(Th*(1+1- T/Th/2 + 4/Th/Z))\n",
"nmax=0.0624\n",
"dT=T-273\n",
"Popt=(an-ap)^2 *dT^2 /((1+mopt)^2 *RL)\n",
"Pmax=(an-ap)^2 *dT^2 /((1+1)^2 *R)\n",
"//results\n",
"printf('Optimum efficiency = %.2f percent',nopt*100)\n",
"printf('\n Max. efficiency = %.2f percent',nmax*100)\n",
"printf('\n Optimum power = %.3f Watt',Popt)\n",
"printf('\n Maximum power = %.3f Watt',Pmax)"
   ]
   }
,
{
		   "cell_type": "markdown",
		   "metadata": {},
		   "source": [
			"## Example 14.3: example_3.sce"
		   ]
		  },
  {
"cell_type": "code",
	   "execution_count": null,
	   "metadata": {
	    "collapsed": true
	   },
	   "outputs": [],
"source": [
"clc\n",
"//Initialization of variables\n",
"phic=2.5 //V\n",
"phia=2 //V\n",
"phip=0.1//V\n",
"Th=2000 //K\n",
"Tc=1000 //K\n",
"eff=0.2\n",
"k=1.38*10^-23\n",
"e=1.6*10^-19\n",
"sigma=5.67*10^-12\n",
"//calculations\n",
"V=phic-phia-phip\n",
"Jc=1.2*10^6 *Th^2 *exp(-e*phic/(k*Th))\n",
"Ja=1.2*10^6 *Tc^2 *exp(-e*phia/(k*Tc))\n",
"J=Jc\n",
"Qc1=J*(phic + 2*k*Th/e) + eff*sigma*10^4 *(Th^4 - Tc^4)\n",
"eta1=J*0.4/Qc1\n",
"eta2=(Th-Tc)/Th\n",
"//results\n",
"printf('Efficiency of the device = %.1f percent',eta1*100)\n",
"printf('\n Carnot efficiency = %d percent',eta2*100)"
   ]
   }
],
"metadata": {
		  "kernelspec": {
		   "display_name": "Scilab",
		   "language": "scilab",
		   "name": "scilab"
		  },
		  "language_info": {
		   "file_extension": ".sce",
		   "help_links": [
			{
			 "text": "MetaKernel Magics",
			 "url": "https://github.com/calysto/metakernel/blob/master/metakernel/magics/README.md"
			}
		   ],
		   "mimetype": "text/x-octave",
		   "name": "scilab",
		   "version": "0.7.1"
		  }
		 },
		 "nbformat": 4,
		 "nbformat_minor": 0
}
