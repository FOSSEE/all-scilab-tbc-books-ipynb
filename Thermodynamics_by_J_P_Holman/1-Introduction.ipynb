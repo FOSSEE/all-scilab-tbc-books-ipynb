{
"cells": [
 {
		   "cell_type": "markdown",
	   "metadata": {},
	   "source": [
       "# Chapter 1: Introduction"
	   ]
	},
{
		   "cell_type": "markdown",
		   "metadata": {},
		   "source": [
			"## Example 1.1: example_1.sce"
		   ]
		  },
  {
"cell_type": "code",
	   "execution_count": null,
	   "metadata": {
	    "collapsed": true
	   },
	   "outputs": [],
"source": [
"clc\n",
"//Initialization of variables\n",
"d=8 //in\n",
"ir=16 //in\n",
"MW=28.97\n",
"T=70+460 //R\n",
"P=30+14.7 //psia\n",
"//calculations\n",
"V=%pi^2 *d^2 *(d+ir)/4\n",
"V=V*10/12^3\n",
"Rair=1545/MW\n",
"m=P*144*V/(Rair*T)\n",
"//results\n",
"printf('Mass of air = %.2f lbm',m)"
   ]
   }
,
{
		   "cell_type": "markdown",
		   "metadata": {},
		   "source": [
			"## Example 1.2: example_2.sce"
		   ]
		  },
  {
"cell_type": "code",
	   "execution_count": null,
	   "metadata": {
	    "collapsed": true
	   },
	   "outputs": [],
"source": [
"clc\n",
"//Initialization of variables\n",
"V=4 //in^3\n",
"P=30 //psia\n",
"T=500//R\n",
"MW=32\n",
"//calculations\n",
"disp('Metric unit conversion,')\n",
"V=V*2.54^3 *10^-3\n",
"P=30*4.448/(2.54^2 *10^-4)\n",
"T=5*(T-32)/9 +273\n",
"n=P*V/(8314.5*T)\n",
"eta=n*1000\n",
"N=eta*6.025*10^23\n",
"m=eta*MW\n",
"//results\n",
"printf('No. of molecules of oxygen = %.3e molecules',N)\n",
"printf('\n Mass of molecules = %.1f g',m)\n",
"//The answer in the textbook is a bit different due to rounding off error"
   ]
   }
,
{
		   "cell_type": "markdown",
		   "metadata": {},
		   "source": [
			"## Example 1.3: example_3.sce"
		   ]
		  },
  {
"cell_type": "code",
	   "execution_count": null,
	   "metadata": {
	    "collapsed": true
	   },
	   "outputs": [],
"source": [
"clc\n",
"//Initialization of variables\n",
"P=14.7 //psia\n",
"T=70+460 //R\n",
"M=32\n",
"//calculations\n",
"Ro=1545/M\n",
"V2=3*Ro*T\n",
"V2=V2*32.174\n",
"vrms=sqrt(V2)\n",
"//results\n",
"printf('rms velocity = %d ft/sec',vrms)"
   ]
   }
],
"metadata": {
		  "kernelspec": {
		   "display_name": "Scilab",
		   "language": "scilab",
		   "name": "scilab"
		  },
		  "language_info": {
		   "file_extension": ".sce",
		   "help_links": [
			{
			 "text": "MetaKernel Magics",
			 "url": "https://github.com/calysto/metakernel/blob/master/metakernel/magics/README.md"
			}
		   ],
		   "mimetype": "text/x-octave",
		   "name": "scilab",
		   "version": "0.7.1"
		  }
		 },
		 "nbformat": 4,
		 "nbformat_minor": 0
}
