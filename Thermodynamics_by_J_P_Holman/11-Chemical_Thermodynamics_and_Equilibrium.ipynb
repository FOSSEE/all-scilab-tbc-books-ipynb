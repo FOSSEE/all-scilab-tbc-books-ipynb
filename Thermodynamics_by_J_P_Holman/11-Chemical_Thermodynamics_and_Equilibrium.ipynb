{
"cells": [
 {
		   "cell_type": "markdown",
	   "metadata": {},
	   "source": [
       "# Chapter 11: Chemical Thermodynamics and Equilibrium"
	   ]
	},
{
		   "cell_type": "markdown",
		   "metadata": {},
		   "source": [
			"## Example 11.1: example_1.sce"
		   ]
		  },
  {
"cell_type": "code",
	   "execution_count": null,
	   "metadata": {
	    "collapsed": true
	   },
	   "outputs": [],
"source": [
"clc\n",
"//Initialization of variables\n",
"x=1.5\n",
"P=14.696 //psia\n",
"m=28.96\n",
"//calculations\n",
"mf=114 // lbm/mol fuel\n",
"ma=x*12.5*(1+3.76)*m\n",
"AF=ma/mf\n",
"n1=8\n",
"n2=9\n",
"n3=(x-1)*12.5 \n",
"n4= x*3.76*12.5\n",
"np=n1+n2+n3+n4\n",
"x1=n1/np\n",
"x2=n2/np\n",
"x3=n3/np\n",
"x4=n4/np\n",
"ph=x2*P\n",
"Td=113.5 //F\n",
"//results\n",
"printf('Air fuel ratio = %.1f lbm air/lbm fuel',AF)\n",
"printf('\n Mole fraction of CO2 = %.2f percent',x1)\n",
"printf('\n Mole fraction of H2O = %.2f percent',x2)\n",
"printf('\n Mole fraction of O2 = %.2f percent',x3)\n",
"printf('\n Mole fraction of N2 = %.2f percent',x4)\n",
"disp('From tables of saturation pressure')\n",
"printf('Dew point  = %.1f F',Td)"
   ]
   }
,
{
		   "cell_type": "markdown",
		   "metadata": {},
		   "source": [
			"## Example 11.2: example_2.sce"
		   ]
		  },
  {
"cell_type": "code",
	   "execution_count": null,
	   "metadata": {
	    "collapsed": true
	   },
	   "outputs": [],
"source": [
"clc\n",
"//Initialization of variables\n",
"x1=9\n",
"x2=1.2\n",
"x3=1.5\n",
"x4=88.3\n",
"//calculations\n",
"a=x1+x2\n",
"b=2*a\n",
"xO=(2*x1 + x2+ 2*x3 + b)/2\n",
"xN=x4/3.76\n",
"ratio=xO/a\n",
"percent=ratio/2 *100\n",
"//results\n",
"printf('Percent theoretical air = %.1f percent',percent)"
   ]
   }
,
{
		   "cell_type": "markdown",
		   "metadata": {},
		   "source": [
			"## Example 11.3: example_3.sce"
		   ]
		  },
  {
"cell_type": "code",
	   "execution_count": null,
	   "metadata": {
	    "collapsed": true
	   },
	   "outputs": [],
"source": [
"clc\n",
"//Initialization of variables\n",
"T=440 //F\n",
"//calculations\n",
"disp('From steam tables,')\n",
"h1=-169290\n",
"h2=7597.6\n",
"h3=4030.2\n",
"ht=h1+h2-h3\n",
"//results\n",
"printf('Molal enthalpy of CO2 = %d Btu/lbm mole',ht)"
   ]
   }
,
{
		   "cell_type": "markdown",
		   "metadata": {},
		   "source": [
			"## Example 11.4: example_4.sce"
		   ]
		  },
  {
"cell_type": "code",
	   "execution_count": null,
	   "metadata": {
	    "collapsed": true
	   },
	   "outputs": [],
"source": [
"clc\n",
"//Initialization of variables\n",
"T=77 //F\n",
"//calculations\n",
"Hr=-36420 //B\n",
"hc=-169290 //B/lb mol\n",
"hh=-122970 //B/lb mol\n",
"Hp=2*hc+3*hh\n",
"Q=Hp-Hr\n",
"//results\n",
"printf('Heat transfer = %d B/mol fuel',Q)"
   ]
   }
,
{
		   "cell_type": "markdown",
		   "metadata": {},
		   "source": [
			"## Example 11.5: example_5.sce"
		   ]
		  },
  {
"cell_type": "code",
	   "execution_count": null,
	   "metadata": {
	    "collapsed": true
	   },
	   "outputs": [],
"source": [
"clc\n",
"//Initialization of variables\n",
"T2=440 //F\n",
"T1=77 //F\n",
"Mch4=16\n",
"Mw=18\n",
"//calculations\n",
"h77=3725.1\n",
"ht=6337.9\n",
"ht2=7597.6\n",
"h772=4030.2\n",
"hwt=1260.3\n",
"h77w=45.02\n",
"hr77=-383040 //B/lbm mol\n",
"dHR=1*Mch4*0.532*(T1-T2) + 2*(h77-ht)\n",
"dHp=1*(ht2-h772) + 2*Mw*(hwt - h77w)\n",
"hrp=dHp+hr77+dHR\n",
"//results\n",
"printf('Enthalpy of combustion of gaseous methane = %d B/lbm mol fuel',hrp)\n",
"//The calculation in textbook is wrong Please check it using a calculator."
   ]
   }
,
{
		   "cell_type": "markdown",
		   "metadata": {},
		   "source": [
			"## Example 11.6: example_6.sce"
		   ]
		  },
  {
"cell_type": "code",
	   "execution_count": null,
	   "metadata": {
	    "collapsed": true
	   },
	   "outputs": [],
"source": [
"clc\n",
"//Initialization of variables\n",
"Hr=-107530 //B/mol fuel\n",
"disp('By iteration of temperatures, T=2700 R')\n",
"T=2700 //R\n",
"//results\n",
"printf('Adiabatic flame temperature = %d R',T)"
   ]
   }
,
{
		   "cell_type": "markdown",
		   "metadata": {},
		   "source": [
			"## Example 11.7: example_7.sce"
		   ]
		  },
  {
"cell_type": "code",
	   "execution_count": null,
	   "metadata": {
	    "collapsed": true
	   },
	   "outputs": [],
"source": [
"clc\n",
"//Initialization of variables\n",
"Kp=0.668\n",
"y=Kp^2\n",
"//calculations\n",
"x=poly(0,'x')\n",
"vec=roots(x^3 + y*x^3 + 2*y*x^2 -y*x -2*y)\n",
"eps=vec(1)\n",
"x1=(1-eps)/(1+ eps/2)\n",
"x2=eps/(1+eps/2)\n",
"x3=eps/2/(1+ eps/2)\n",
"//results\n",
"printf('degree of reaction = %.3f ',eps)\n",
"printf('\n Equilibrium concentration of CO2 = %.3f ',x1)\n",
"printf('\n Equilibrium concentration of CO = %.3f ',x2)\n",
"printf('\n Equilibrium concentration of O2 = %.3f ',x3)\n",
"//the answers are a bit different due to approximation in textbook"
   ]
   }
,
{
		   "cell_type": "markdown",
		   "metadata": {},
		   "source": [
			"## Example 11.8: example_8.sce"
		   ]
		  },
  {
"cell_type": "code",
	   "execution_count": null,
	   "metadata": {
	    "collapsed": true
	   },
	   "outputs": [],
"source": [
"clc\n",
"//Initialization of variables\n",
"Kp=15.63\n",
"y=Kp\n",
"//calculations\n",
"x=poly(0,'x')\n",
"vec=roots(x^2 + y*x^2 - y)\n",
"eps=vec(1)\n",
"x1=(1-eps)/(1+eps)\n",
"x2=eps/(1+eps)\n",
"x3=eps/(1+eps)\n",
"//results\n",
"printf(' Equilibrium concentration of Cs = %.4f ',x1)\n",
"printf('\n Equilibrium concentration of Cs+ = %.4f ',x2)\n",
"printf('\n Equilibrium concentration of e- = %.4f ',x3)\n",
"//the answers are a bit different due to approximation in textbook"
   ]
   }
],
"metadata": {
		  "kernelspec": {
		   "display_name": "Scilab",
		   "language": "scilab",
		   "name": "scilab"
		  },
		  "language_info": {
		   "file_extension": ".sce",
		   "help_links": [
			{
			 "text": "MetaKernel Magics",
			 "url": "https://github.com/calysto/metakernel/blob/master/metakernel/magics/README.md"
			}
		   ],
		   "mimetype": "text/x-octave",
		   "name": "scilab",
		   "version": "0.7.1"
		  }
		 },
		 "nbformat": 4,
		 "nbformat_minor": 0
}
