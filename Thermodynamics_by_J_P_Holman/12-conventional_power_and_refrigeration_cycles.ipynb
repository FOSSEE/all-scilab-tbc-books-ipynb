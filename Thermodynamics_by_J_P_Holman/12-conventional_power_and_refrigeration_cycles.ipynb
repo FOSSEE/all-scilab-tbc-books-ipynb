{
"cells": [
 {
		   "cell_type": "markdown",
	   "metadata": {},
	   "source": [
       "# Chapter 12: conventional power and refrigeration cycles"
	   ]
	},
{
		   "cell_type": "markdown",
		   "metadata": {},
		   "source": [
			"## Example 12.10: example_10.sce"
		   ]
		  },
  {
"cell_type": "code",
	   "execution_count": null,
	   "metadata": {
	    "collapsed": true
	   },
	   "outputs": [],
"source": [
"clc\n",
"//Initialization of variables\n",
"e=0.83\n",
"//calculations\n",
"T1=530 //R\n",
"T2d=838 //R\n",
"T6d=T2d\n",
"T3=1960 //R\n",
"T4d=1375 //R\n",
"T5d=T4d\n",
"T5=e*(T5d-T2d) +T2d\n",
"W=0.24*((T3-T4d)- (T2d-T1))\n",
"Q=0.24*(T3-T5)\n",
"eta=W/Q\n",
"//results\n",
"printf('Thermal efficiency = %d percent',eta*100+1)"
   ]
   }
,
{
		   "cell_type": "markdown",
		   "metadata": {},
		   "source": [
			"## Example 12.11: example_11.sce"
		   ]
		  },
  {
"cell_type": "code",
	   "execution_count": null,
	   "metadata": {
	    "collapsed": true
	   },
	   "outputs": [],
"source": [
"clc\n",
"//Initialization of variables\n",
"T1=420 //R\n",
"T11=530 //R\n",
"T3=2460 //R\n",
"V1=300 //ft/sec\n",
"P1=5 //psia\n",
"P5=P1\n",
"P2=50 //psia\n",
"P3=5 //psia\n",
"P4=50 //psia\n",
"g=1.4\n",
"cp=0.24\n",
"m=1\n",
"//calculations\n",
"T2=T1*(P2/P1)^((g-1)/g)\n",
"T4=T3-T2+T11\n",
"T5=T3*(P3/P4)^((g-1)/g)\n",
"V5=sqrt(2*32.2*cp*(T4-T5)*778)\n",
"T=m*(V1-V5)/32.2\n",
"Qh=cp*(T3-T2)\n",
"P=-T*V1\n",
"//results\n",
"printf('Thrust = %.1f lbf',T)\n",
"printf('\n Heat input = %d B/lbm',Qh)\n",
"printf('\n Power = %d ft-lbf /sec',P)"
   ]
   }
,
{
		   "cell_type": "markdown",
		   "metadata": {},
		   "source": [
			"## Example 12.12: example_12.sce"
		   ]
		  },
  {
"cell_type": "code",
	   "execution_count": null,
	   "metadata": {
	    "collapsed": true
	   },
	   "outputs": [],
"source": [
"clc\n",
"//Initialization of variables\n",
"h1=80.419 //B/lbm\n",
"h3=36.013 //B/lbm\n",
"h4=h3\n",
"P3=172.35 //psia\n",
"P2=P3\n",
"m=5 //tons\n",
"Q=12000\n",
"//calculations\n",
"h2=91.5 //B/lbm\n",
"disp('From superheated steam tables,')\n",
"COP=(h1-h4)/(h2-h1)\n",
"W=h2-h1\n",
"md=m*Q/(h1-h4)\n",
"Wt=md*(h2-h1)\n",
"Wt2=Wt/2545\n",
"//results\n",
"printf('Coefficient of performance = %.1f',COP)\n",
"printf('\n Input work = %.1f hp',Wt2)"
   ]
   }
,
{
		   "cell_type": "markdown",
		   "metadata": {},
		   "source": [
			"## Example 12.1: example_1.sce"
		   ]
		  },
  {
"cell_type": "code",
	   "execution_count": null,
	   "metadata": {
	    "collapsed": true
	   },
	   "outputs": [],
"source": [
"clc\n",
"//Initialization of variables\n",
"disp('From Mollier diagram,')\n",
"h1=1357 //500 psia, 700 F\n",
"h2=935 //P2=2 psia\n",
"h3=93.99 //sat liq at 2 psia\n",
"vf=0.01613\n",
"P4=500 //psia\n",
"P3=2 //psia\n",
"//calculations\n",
"dh4=vf*(P4-P3)*144/778\n",
"h4=h3+dh4\n",
"eta= ((h1-h2)-(h4-h3))/(h1-h4)\n",
"//results\n",
"printf('Thermal efficiency = %.1f percent ',eta*100)"
   ]
   }
,
{
		   "cell_type": "markdown",
		   "metadata": {},
		   "source": [
			"## Example 12.2: example_2.sce"
		   ]
		  },
  {
"cell_type": "code",
	   "execution_count": null,
	   "metadata": {
	    "collapsed": true
	   },
	   "outputs": [],
"source": [
"clc\n",
"//Initialization of variables\n",
"disp('From molier diagram,')\n",
"h1=1357 //500 psia 700F\n",
"h2=1194 //P2=100 psia\n",
"h3=1379 //100 psia, 700 F\n",
"h4=1047 //p4=2 psia\n",
"h5=93.99 //sat liq at 2 psia\n",
"h6=95.02 //example 12.1\n",
"//calculations\n",
"W=h1-h2+h3-h4-(h6-h5)\n",
"Q=(h1-h6)+(h3-h2)\n",
"eta=W/Q\n",
"//results\n",
"printf('Thermal efficiency = %.2f percent',eta*100)"
   ]
   }
,
{
		   "cell_type": "markdown",
		   "metadata": {},
		   "source": [
			"## Example 12.3: example_3.sce"
		   ]
		  },
  {
"cell_type": "code",
	   "execution_count": null,
	   "metadata": {
	    "collapsed": true
	   },
	   "outputs": [],
"source": [
"clc\n",
"//Initialization of variables\n",
"P=100 //psia\n",
"//calculations\n",
"disp('From mollier diagram,')\n",
"h1=1357 //500 psia, 700F\n",
"h2=1194 //100 psia\n",
"h3=935//2 psia\n",
"h4=93.99 //sat liq at 2 psia\n",
"vf=0.01613 \n",
"vf2=0.01774\n",
"P5=100 //psia\n",
"P4=2 //psia\n",
"dh4=vf*(P5-P4)*144/778\n",
"h5=h4+dh4\n",
"h6=298.4\n",
"P7=500 //psia\n",
"P6=100 //psia\n",
"dh6=vf2*(P7-P6)*144/778\n",
"h7=dh6+h6\n",
"m=(h6-h5)/(h2-h5)\n",
"W=h1-h2 + (1-m)*(h2-h3) - (1-m)*(h5-h4) -(h7-h6)\n",
"Q=h1-h7\n",
"etath=W/Q\n",
"//results\n",
"printf('Thermal efficiency = %.1f percent',etath*100)"
   ]
   }
,
{
		   "cell_type": "markdown",
		   "metadata": {},
		   "source": [
			"## Example 12.4: example_4.sce"
		   ]
		  },
  {
"cell_type": "code",
	   "execution_count": null,
	   "metadata": {
	    "collapsed": true
	   },
	   "outputs": [],
"source": [
"clc\n",
"//Initialization of variables\n",
"x=0.8\n",
"//calculations\n",
"disp('From molier diagram,')\n",
"h1=1357 //500 psia 700F\n",
"h2=1194 //P2=100 psia\n",
"h3=1379 //100 psia, 700 F\n",
"h4=1047 //p4=2 psia\n",
"h5=93.99 //sat liq at 2 psia\n",
"h6=95.02 //example 12.1\n",
"h2d=h1- x*(h1-h2) \n",
"h4d=h3- x*(h3-h4)\n",
"W=(h1-h2d) +(h3-h4d) - (h6-h5)\n",
"Q=(h1-h6) + (h3-h2d)\n",
"eta=W/Q\n",
"//results\n",
"printf('Thermal efficiency = %d percent',eta*100+1)"
   ]
   }
,
{
		   "cell_type": "markdown",
		   "metadata": {},
		   "source": [
			"## Example 12.5: example_5.sce"
		   ]
		  },
  {
"cell_type": "code",
	   "execution_count": null,
	   "metadata": {
	    "collapsed": true
	   },
	   "outputs": [],
"source": [
"clc\n",
"//Initialization of variables\n",
"P4=50 //psia\n",
"P1=14.7 //psia\n",
"P3=50 //psia\n",
"P2=14.7 //psia\n",
"g=1.4\n",
"//calculations\n",
"V1r=(P4/P1)^(1/g)\n",
"V2r=(P3/P2)^(1/g)\n",
"//After solving,\n",
"V4=5.38 //ft^3/min\n",
"V1=12.9 //ft^3/min\n",
"V2=112.9  //ft^3/min\n",
"PD=V2-V4\n",
"etavol=(V2-V1)/(V2-V4)\n",
"W32=g*P2*144*V2*((P3/P2)^((g-1)/g) -1 ) /(1-g)\n",
"W41=g*P4*144*V4*((P1/P4)^((g-1)/g) -1 ) /(1-g)\n",
"Wt=W32+W41\n",
"//results\n",
"printf('Total work = %.2e ft-lbf /min',Wt)\n",
"//The answer given in textbook is wrong . please verify it using a calculator"
   ]
   }
,
{
		   "cell_type": "markdown",
		   "metadata": {},
		   "source": [
			"## Example 12.6: example_6.sce"
		   ]
		  },
  {
"cell_type": "code",
	   "execution_count": null,
	   "metadata": {
	    "collapsed": true
	   },
	   "outputs": [],
"source": [
"clc\n",
"//Initialization of variables\n",
"P1=14.7 //psia\n",
"P4=100 //psia\n",
"T1=530 //R\n",
"T3=T1\n",
"g=1.4\n",
"m=10 //lbm\n",
"cp=0.24\n",
"//calculations\n",
"P2=sqrt(P1*P4)\n",
"T2=T1*(P2/P1)^((g-1)/g)\n",
"T4=T2\n",
"W=2*cp*(T2-T1)\n",
"Wt=W*m\n",
"hp=Wt*60/2545\n",
"Q=m*cp*(T2-T3)\n",
"T4=T1*(P4/P1)^((g-1)/g)\n",
"W2=m*cp*(T4-T1)\n",
"//results\n",
"printf('Work required in case 1  = %d Btu/min',Wt+1)\n",
"printf('\n Work required in case 2 = %d Btu/min',W2+1)"
   ]
   }
,
{
		   "cell_type": "markdown",
		   "metadata": {},
		   "source": [
			"## Example 12.7: example_7.sce"
		   ]
		  },
  {
"cell_type": "code",
	   "execution_count": null,
	   "metadata": {
	    "collapsed": true
	   },
	   "outputs": [],
"source": [
"clc\n",
"//Initialization of variables\n",
"g=1.4\n",
"r1=10\n",
"r2=12\n",
"r3=15\n",
"Tl=530 //R\n",
"Th=1960 //R\n",
"//calculations\n",
"eta1=1- (r1)^(1-g)\n",
"eta2=1- (r2)^(1-g)\n",
"eta3=1- (r3)^(1-g)\n",
"etac=1-Tl/Th\n",
"//results\n",
"printf('Efficiency in case 1 = %.1f percent',eta1*100)\n",
"printf('\n Efficiency in case 2 = %.1f percent',eta2*100)\n",
"printf('\n Efficiency in case 3 = %.1f percent',eta3*100)\n",
"printf('\n Carnot efficiency = %.2f percent',etac*100)"
   ]
   }
,
{
		   "cell_type": "markdown",
		   "metadata": {},
		   "source": [
			"## Example 12.8: example_8.sce"
		   ]
		  },
  {
"cell_type": "code",
	   "execution_count": null,
	   "metadata": {
	    "collapsed": true
	   },
	   "outputs": [],
"source": [
"clc\n",
"//Initialization of variables\n",
"T1=70+460 //R\n",
"P1=14.7 //psia\n",
"g=1.4\n",
"r=15\n",
"rc=2\n",
"cp=0.24\n",
"cp2=0.1715\n",
"//calculations\n",
"T2=T1*(r)^(g-1)\n",
"T3=rc*T2\n",
"T4=T3*(rc/r)^(g-1)\n",
"Qh=cp*(T3-T2)\n",
"Ql=cp2*(T4-T1)\n",
"W=Qh-Ql\n",
"eta=W/Qh\n",
"//results\n",
"printf('Work output = %d B/lbm',W)\n",
"printf('\n Efficiency = %.1f percent',eta*100)"
   ]
   }
,
{
		   "cell_type": "markdown",
		   "metadata": {},
		   "source": [
			"## Example 12.9: example_9.sce"
		   ]
		  },
  {
"cell_type": "code",
	   "execution_count": null,
	   "metadata": {
	    "collapsed": true
	   },
	   "outputs": [],
"source": [
"clc\n",
"//Initialization of variables\n",
"P1=14.7 //psia\n",
"P4=14.7 //psia\n",
"T1=530 //R\n",
"T3=1960 //R\n",
"P2=60 //psia\n",
"P3=P2\n",
"g=1.4\n",
"eta1=0.85\n",
"eta2=0.9\n",
"//calculations\n",
"T2=T1*(P2/P1)^((g-1)/g)\n",
"T4=T3*(P4/P3)^((g-1)/g)\n",
"T2d=(T2-T1)/eta1 + T1\n",
"T4d=-eta2*(T3-T4) +T3\n",
"Wact=0.24*(T3-T4d - (T2d-T1))\n",
"Qh=0.24*(T3-T2d)\n",
"etath=Wact/Qh\n",
"//results\n",
"printf('Thermal efficiency = %.1f percent',etath*100)"
   ]
   }
],
"metadata": {
		  "kernelspec": {
		   "display_name": "Scilab",
		   "language": "scilab",
		   "name": "scilab"
		  },
		  "language_info": {
		   "file_extension": ".sce",
		   "help_links": [
			{
			 "text": "MetaKernel Magics",
			 "url": "https://github.com/calysto/metakernel/blob/master/metakernel/magics/README.md"
			}
		   ],
		   "mimetype": "text/x-octave",
		   "name": "scilab",
		   "version": "0.7.1"
		  }
		 },
		 "nbformat": 4,
		 "nbformat_minor": 0
}
