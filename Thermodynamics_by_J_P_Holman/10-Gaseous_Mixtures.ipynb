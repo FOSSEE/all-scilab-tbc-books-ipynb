{
"cells": [
 {
		   "cell_type": "markdown",
	   "metadata": {},
	   "source": [
       "# Chapter 10: Gaseous Mixtures"
	   ]
	},
{
		   "cell_type": "markdown",
		   "metadata": {},
		   "source": [
			"## Example 10.1: example_1.sce"
		   ]
		  },
  {
"cell_type": "code",
	   "execution_count": null,
	   "metadata": {
	    "collapsed": true
	   },
	   "outputs": [],
"source": [
"clc\n",
"//Initialization of variables\n",
"m=2 \n",
"M=28\n",
"M2=32\n",
"PN=300 //psia\n",
"Pt=400 //psia\n",
"//calculations\n",
"nN=m/M\n",
"PO=Pt-PN\n",
"nO=nN*PO/PN\n",
"mO=M2*nO\n",
"//results\n",
"printf('Mass of oxygen added = %.3f lbm',mO)"
   ]
   }
,
{
		   "cell_type": "markdown",
		   "metadata": {},
		   "source": [
			"## Example 10.2: example_2.sce"
		   ]
		  },
  {
"cell_type": "code",
	   "execution_count": null,
	   "metadata": {
	    "collapsed": true
	   },
	   "outputs": [],
"source": [
"clc\n",
"//Initialization of variables\n",
"n=0.0714\n",
"R=1545\n",
"T=560 //R\n",
"P=400 //psia\n",
"//clculations\n",
"VN=n*R*T/(P*144)\n",
"VO=(0.0238)*R*T/(P*144)\n",
"V=VN+VO\n",
"//results\n",
"printf('Total volume = %.3f ft^3',V)"
   ]
   }
,
{
		   "cell_type": "markdown",
		   "metadata": {},
		   "source": [
			"## Example 10.3: example_3.sce"
		   ]
		  },
  {
"cell_type": "code",
	   "execution_count": null,
	   "metadata": {
	    "collapsed": true
	   },
	   "outputs": [],
"source": [
"clc\n",
"//Initialization of variables\n",
"m1=5\n",
"m2=2\n",
"cp1=0.248\n",
"cp2=0.203\n",
"T11=300 //F\n",
"T12=100 //F\n",
"P=10 //psia\n",
"Pi=20 //psia\n",
"Pf=15 //psia\n",
"//calculations\n",
"T2=(m1*cp1*T11 + m2*cp2*T12)/(m1*cp1+m2*cp2)\n",
"n1=m1/28\n",
"n2=m2/44\n",
"n=n1+n2\n",
"P1=P*n1/n\n",
"P2=P*n2/n\n",
"dS=m2*(cp2*log((T2+460)/(T12+460)) - 35.1/778 *log(P2/Pi)) +m2*(cp2*log((T2+460)/(T12+460)) - 55.2/778 *log(P1/Pf))\n",
"//results\n",
"printf('change in enthalpy = %.2f B/R',dS)"
   ]
   }
,
{
		   "cell_type": "markdown",
		   "metadata": {},
		   "source": [
			"## Example 10.4: example_4.sce"
		   ]
		  },
  {
"cell_type": "code",
	   "execution_count": null,
	   "metadata": {
	    "collapsed": true
	   },
	   "outputs": [],
"source": [
"clc\n",
"//Initialization of variables\n",
"Pg=2.8886 //psia\n",
"P=25 //psia\n",
"phi=0.5\n",
"//calculations\n",
"pv=phi*Pg\n",
"pa=P-pv\n",
"w=0.622*pv/pa\n",
"x=(w)/(1+w)\n",
"//results\n",
"printf('Mass fraction of water vapor in the mixture = %.4f lbm vapor/ lvm mixture',x)"
   ]
   }
,
{
		   "cell_type": "markdown",
		   "metadata": {},
		   "source": [
			"## Example 10.5: example_5.sce"
		   ]
		  },
  {
"cell_type": "code",
	   "execution_count": null,
	   "metadata": {
	    "collapsed": true
	   },
	   "outputs": [],
"source": [
"clc\n",
"//Initialization of variables\n",
"pgw=0.5069 //psia\n",
"p=14.696 //psia\n",
"Td=100 //F\n",
"Tw=80 //F\n",
"//calculations\n",
"pv= pgw- (p-pgw)*(Td-Tw)/(2800-Tw)\n",
"pg=0.9492 //psia\n",
"phi=pv/pg\n",
"//results\n",
"printf('relative humidity of air stream = %.1f percent',phi*100)"
   ]
   }
,
{
		   "cell_type": "markdown",
		   "metadata": {},
		   "source": [
			"## Example 10.6: example_6.sce"
		   ]
		  },
  {
"cell_type": "code",
	   "execution_count": null,
	   "metadata": {
	    "collapsed": true
	   },
	   "outputs": [],
"source": [
"clc\n",
"//Initialization of variables\n",
"w1=0.0176 //lbm\n",
"w2=0.0093 //lbm\n",
"T2d=73//F\n",
"T2=55 //F\n",
"//calculations\n",
"disp('From steam tables,')\n",
"hv1=1061+0.445*100\n",
"hv2=1061+0.445*55\n",
"hf=23.06\n",
"q1=20\n",
"q2=4.88\n",
"//results\n",
"printf('Heat removed in cooling section = %d Btu/lbm ',q1)\n",
"printf('Heat added in heating section = %.2f Btu/lbm ',q2)"
   ]
   }
,
{
		   "cell_type": "markdown",
		   "metadata": {},
		   "source": [
			"## Example 10.7: example_7.sce"
		   ]
		  },
  {
"cell_type": "code",
	   "execution_count": null,
	   "metadata": {
	    "collapsed": true
	   },
	   "outputs": [],
"source": [
"clc\n",
"//Initialization of variables\n",
"Tdb=115 //F\n",
"ph=0.05\n",
"\n",
"Twb=67 //F\n",
"//results\n",
"disp('From steam tables, Twb=67 F')"
   ]
   }
,
{
		   "cell_type": "markdown",
		   "metadata": {},
		   "source": [
			"## Example 10.8: example_8.sce"
		   ]
		  },
  {
"cell_type": "code",
	   "execution_count": null,
	   "metadata": {
	    "collapsed": true
	   },
	   "outputs": [],
"source": [
"clc\n",
"//Initialization of variables\n",
"w1=206\n",
"w2=55\n",
"ma1=2\n",
"ma2=3\n",
"//calculations\n",
"w3= (ma1*w1 + ma2*w2)/(ma1+ma2)\n",
"disp('From psychrometric chart,')\n",
"Tdb3=82 //F\n",
"TWb3=74.55 //F\n",
"phi3=70 //percent\n",
"//results\n",
"printf('relative humidity = %d percent',phi3)\n",
"printf('\n Dry bulb temperature = %d F',Tdb3)\n",
"printf('\n Wet bulb temperature = %.2f F',TWb3)"
   ]
   }
],
"metadata": {
		  "kernelspec": {
		   "display_name": "Scilab",
		   "language": "scilab",
		   "name": "scilab"
		  },
		  "language_info": {
		   "file_extension": ".sce",
		   "help_links": [
			{
			 "text": "MetaKernel Magics",
			 "url": "https://github.com/calysto/metakernel/blob/master/metakernel/magics/README.md"
			}
		   ],
		   "mimetype": "text/x-octave",
		   "name": "scilab",
		   "version": "0.7.1"
		  }
		 },
		 "nbformat": 4,
		 "nbformat_minor": 0
}
