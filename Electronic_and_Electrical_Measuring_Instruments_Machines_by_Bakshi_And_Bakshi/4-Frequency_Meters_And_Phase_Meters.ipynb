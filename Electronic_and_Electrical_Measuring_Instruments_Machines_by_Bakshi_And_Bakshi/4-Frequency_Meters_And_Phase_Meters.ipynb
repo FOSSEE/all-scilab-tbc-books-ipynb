{
"cells": [
 {
		   "cell_type": "markdown",
	   "metadata": {},
	   "source": [
       "# Chapter 4: Frequency Meters And Phase Meters"
	   ]
	},
{
		   "cell_type": "markdown",
		   "metadata": {},
		   "source": [
			"## Example 4.1: plot_graph_between_phase_voltage_and_output.sce"
		   ]
		  },
  {
"cell_type": "code",
	   "execution_count": null,
	   "metadata": {
	    "collapsed": true
	   },
	   "outputs": [],
"source": [
"\n",
"//Chapter-4,Example4_1,pg 4-22\n",
"E1mag=[0 3 5 7 9 12 15 18 21]\n",
"E1rms=E1mag/sqrt(2)\n",
"Erms=5//given\n",
"Einrms=(((E1rms)^2)+((Erms)^2))^(1/2)\n",
"Eab=(2*sqrt(2).*Einrms)/%pi\n",
"xlabel('E1(Volts)','fontsize',5)\n",
"ylabel('Eab(Volts)','fontsize',5)\n",
"title('Phase Meter','fontsize',5)\n",
"printf('E1 mag    E1 rms    Ein Rms    Eab output')\n",
"k=[0    0    5    4.501;\n",
"   3    2.121    5.431    4.889;\n",
"   5    3.53    6.123    5.513;\n",
"   7    4.949    7.035    6.334;\n",
"   9    6.363    8.093    7.286;\n",
"   12    8.485    9.848    8.867;\n",
"   15    10.606    11.726    10.557;\n",
"   18    12.727    13.674    12.311;\n",
"   21    14.849    15.668    14.106  ]\n",
"disp(k)\n",
"plot(E1mag,Eab)"
   ]
   }
,
{
		   "cell_type": "markdown",
		   "metadata": {},
		   "source": [
			"## Example 4.2: calculate_output_voltage.sce"
		   ]
		  },
  {
"cell_type": "code",
	   "execution_count": null,
	   "metadata": {
	    "collapsed": true
	   },
	   "outputs": [],
"source": [
"//Chapter-4,Example4_2,pg 4-24\n",
"E1rms=10\n",
"E2rms=15\n",
"E1m=E1rms*sqrt(2)\n",
"E2m=E2rms*sqrt(2)\n",
"//voltage across AB is proportional to E1+E2 in positive half cycle\n",
"Ep=(1/(2*%pi))*(2*E1m+E2m)//output in positive half cycle\n",
"//voltage across AB is proportional to E1-E2 in negative half cycle\n",
"En=(1/(2*%pi))*(2*E1m-E2m)//output in negative half cycle\n",
"Eab=Ep-En\n",
"printf('output voltage\n')\n",
"printf('Eab=%.2f V',Eab)"
   ]
   }
],
"metadata": {
		  "kernelspec": {
		   "display_name": "Scilab",
		   "language": "scilab",
		   "name": "scilab"
		  },
		  "language_info": {
		   "file_extension": ".sce",
		   "help_links": [
			{
			 "text": "MetaKernel Magics",
			 "url": "https://github.com/calysto/metakernel/blob/master/metakernel/magics/README.md"
			}
		   ],
		   "mimetype": "text/x-octave",
		   "name": "scilab",
		   "version": "0.7.1"
		  }
		 },
		 "nbformat": 4,
		 "nbformat_minor": 0
}
