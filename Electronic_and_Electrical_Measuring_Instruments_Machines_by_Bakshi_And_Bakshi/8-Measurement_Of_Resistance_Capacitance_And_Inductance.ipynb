{
"cells": [
 {
		   "cell_type": "markdown",
	   "metadata": {},
	   "source": [
       "# Chapter 8: Measurement Of Resistance Capacitance And Inductance"
	   ]
	},
{
		   "cell_type": "markdown",
		   "metadata": {},
		   "source": [
			"## Example 8.10: find_constants_of_unknown_impedance.sce"
		   ]
		  },
  {
"cell_type": "code",
	   "execution_count": null,
	   "metadata": {
	    "collapsed": true
	   },
	   "outputs": [],
"source": [
"//Chapter-8,Example8_10,pg 8_49\n",
"//from hay's balance bridge \n",
"w=1000\n",
"R1=5.1*10^3\n",
"C1=2*10^-6\n",
"R2=7.9*10^3\n",
"R3=790\n",
"Rx=((w^2)*R1*(C1^2)*R2*R3)/(1+((w^2)*(R1^2)*(C1^2)))\n",
"Lx=R2*R3*C1/(1+((w^2)*(R1^2)*(C1^2)))\n",
"printf('unknown inductance and resistance\n')\n",
"printf('Rx=%.f ohm\n',Rx)\n",
"printf('Lx=%.5f H',Lx)"
   ]
   }
,
{
		   "cell_type": "markdown",
		   "metadata": {},
		   "source": [
			"## Example 8.11: calculate_unknown_capacitance_and_dissipation_factor.sce"
		   ]
		  },
  {
"cell_type": "code",
	   "execution_count": null,
	   "metadata": {
	    "collapsed": true
	   },
	   "outputs": [],
"source": [
"//Chapter-8,Example8_11,pg 8_56\n",
"R1=1.2*10^3\n",
"R2=4.7*10^3\n",
"C1=1*10^-6\n",
"C3=1*10^-6\n",
"f=0.5*10^3\n",
"w=2*%pi*f\n",
"Rx=R2*C1/C3\n",
"Cx=R1*C3/R2\n",
"D=w*Cx*Rx\n",
"printf('unknown capacitance and resistance\n')\n",
"printf('Rx=%.f ohm\n',Rx)\n",
"printf('Cx=%.8f F\n',Cx)\n",
"printf('dissipation factor\n')\n",
"printf('D=%.3f',D)"
   ]
   }
,
{
		   "cell_type": "markdown",
		   "metadata": {},
		   "source": [
			"## Example 8.12: find_deflection_of_galvanometer.sce"
		   ]
		  },
  {
"cell_type": "code",
	   "execution_count": null,
	   "metadata": {
	    "collapsed": true
	   },
	   "outputs": [],
"source": [
"//Chapter-8,Example8_12,pg 58\n",
"R1=200\n",
"R2=100\n",
"R3=1000\n",
"R4=2000\n",
"Rg=200\n",
"R41=2005//changed by delR\n",
"Si=12//senstivity\n",
"E=10\n",
"Vth=E*((R41/(R3+R41))-(R1/(R1+R2)))\n",
"Req=(R1*R2/(R1+R2))+(R3*R41/(R3+R41))\n",
"Ig=Vth/(Rg+Req)\n",
"theta=Si*Ig*10^6//deflection of galvanometer(mm)\n",
"printf('deflection of galvanometer\n')\n",
"printf('theta=%.4f mm',theta)"
   ]
   }
,
{
		   "cell_type": "markdown",
		   "metadata": {},
		   "source": [
			"## Example 8.13: find_deflection_of_galvanometer.sce"
		   ]
		  },
  {
"cell_type": "code",
	   "execution_count": null,
	   "metadata": {
	    "collapsed": true
	   },
	   "outputs": [],
"source": [
"//Chapter-8,Example8_13,pg 59\n",
"R1=1000\n",
"R2=1000\n",
"R3=119\n",
"R4=121\n",
"Rg=200\n",
"S1=1\n",
"E=5\n",
"Vth=E*((R4/(R3+R4))-(R1/(R1+R2)))\n",
"Req=(R1*R2/(R1+R2))+(R3*R4/(R3+R4))\n",
"Ig=Vth/(Rg+Req)\n",
"theta=S1*Ig*10^6//deflection of galvanometer(mm)\n",
"printf('deflection of galvanometer\n')\n",
"printf('theta=%.4f mm',theta)"
   ]
   }
,
{
		   "cell_type": "markdown",
		   "metadata": {},
		   "source": [
			"## Example 8.14: find_current_through_galanometer.sce"
		   ]
		  },
  {
"cell_type": "code",
	   "execution_count": null,
	   "metadata": {
	    "collapsed": true
	   },
	   "outputs": [],
"source": [
"//Chapter-8,Example8_14,pg 59\n",
"R=500\n",
"delR=20\n",
"E=10\n",
"Vth=E*delR/(4*R)\n",
"Req=R\n",
"Rg=125\n",
"Ig=Vth/(Req+Rg)\n",
"printf('current through galvanometer\n')\n",
"printf('Ig=%.8f A',Ig)"
   ]
   }
,
{
		   "cell_type": "markdown",
		   "metadata": {},
		   "source": [
			"## Example 8.15: calculate_smallest_change_in_resistance.sce"
		   ]
		  },
  {
"cell_type": "code",
	   "execution_count": null,
	   "metadata": {
	    "collapsed": true
	   },
	   "outputs": [],
"source": [
"//Chapter-8,Example8_15,pg 60\n",
"R=1000\n",
"E=20\n",
"Ig=1*10^-9\n",
"Req=R\n",
"//Ig=Vth/Req......Rg=0\n",
"delR=Ig*4*R^2/E\n",
"printf('change in resitance\n')\n",
"printf('delR=%.8f ohm',delR)"
   ]
   }
,
{
		   "cell_type": "markdown",
		   "metadata": {},
		   "source": [
			"## Example 8.16: calculate_balance_temperature_and_error.sce"
		   ]
		  },
  {
"cell_type": "code",
	   "execution_count": null,
	   "metadata": {
	    "collapsed": true
	   },
	   "outputs": [],
"source": [
"//Chapter-8,Example8_16,pg 61\n",
"//R4=Rv\n",
"R1=10*10^3\n",
"R2=10*10^3\n",
"R3=10*10^3\n",
"R4=R1*R3/R2\n",
"E=10\n",
"printf('bridge is balanced at 80deg. from graph when Rv=10k\n')\n",
"//at 60deg bridge is unbalanced \n",
"R4=9*10^3//from graph\n",
"e=E*((R4/(R3+R4))-(R1/(R1+R2)))//thevenin's voltage\n",
"printf('error voltage\n')\n",
"printf('e=%.4f V\n',e)\n",
"printf('negative sign indicates opposite polarity of error voltage')"
   ]
   }
,
{
		   "cell_type": "markdown",
		   "metadata": {},
		   "source": [
			"## Example 8.17: find_value_of_unknown_resistance.sce"
		   ]
		  },
  {
"cell_type": "code",
	   "execution_count": null,
	   "metadata": {
	    "collapsed": true
	   },
	   "outputs": [],
"source": [
"//Chapter-8,Example8_17,pg 8_62\n",
"R1=100\n",
"R2=10\n",
"R3=4\n",
"R4=50\n",
"E=10\n",
"Rg=20\n",
"Vth=E*((R4/(R3+R4))-(R1/(R1+R2)))\n",
"Req=(R1*R2/(R1+R2))+(R3*R4/(R3+R4))\n",
"Ig=Vth/(Rg+Req)\n",
"//for null deflection\n",
"R4=R3*R1/R2\n",
"printf('unbalanced current in galvanometer\n')\n",
"printf('Ig=%.5f A\n',Ig)\n",
"printf('resistance for null deflection\n')\n",
"printf('R4=%.f ohm',R4)"
   ]
   }
,
{
		   "cell_type": "markdown",
		   "metadata": {},
		   "source": [
			"## Example 8.18: find_unknown_resisance_and_unbalance_in_bridge.sce"
		   ]
		  },
  {
"cell_type": "code",
	   "execution_count": null,
	   "metadata": {
	    "collapsed": true
	   },
	   "outputs": [],
"source": [
"//Chapter-8,Example8_18,pg 8_62\n",
"R1=1000\n",
"R2=100\n",
"R3=4*10^3\n",
"R4=40*10^3\n",
"Rth=(R1*R2/(R1+R2))+(R3*R4/(R3+R4))\n",
"Si=70\n",
"theta=3*10^-6//deflection\n",
"E=10\n",
"Rg=80\n",
"delR=(theta*(Rth+Rg)*((R3+R4)^2))/(Si*E*R3)\n",
"printf('change in resistance\n')\n",
"printf('delR=%.4f ohm',delR)"
   ]
   }
,
{
		   "cell_type": "markdown",
		   "metadata": {},
		   "source": [
			"## Example 8.19: find_series_resistance.sce"
		   ]
		  },
  {
"cell_type": "code",
	   "execution_count": null,
	   "metadata": {
	    "collapsed": true
	   },
	   "outputs": [],
"source": [
"//Chapter-8,Example8_19,pg 8_63\n",
"P=0.4\n",
"Rarm=150//resistance in each arm\n",
"I=sqrt(P/Rarm)//P=(I^2)*R\n",
"//applying KVL to loop ABCEFA\n",
"r=1\n",
"E=25\n",
"R=(-I*Rarm-I*Rarm+E-2*I*r)/(2*I)\n",
"printf('series resistance\n')\n",
"printf('R=%.4f ohm',R)"
   ]
   }
,
{
		   "cell_type": "markdown",
		   "metadata": {},
		   "source": [
			"## Example 8.1: calculate_R1_and_R2_of_ohmmeter.sce"
		   ]
		  },
  {
"cell_type": "code",
	   "execution_count": null,
	   "metadata": {
	    "collapsed": true
	   },
	   "outputs": [],
"source": [
"//Chapter-8,Example8_1,pg 8_6\n",
"Rh=1000\n",
"Rm=50\n",
"V=3\n",
"Ifsd=1*10^-3\n",
"R1=Rh-(Ifsd*Rm*Rh)/V\n",
"R2=(Ifsd*Rm*Rh)/(V-Ifsd*Rh)\n",
"printf('R1=%.2f ohm\n',R1)\n",
"printf('R2=%.2f ohm\n',R2)\n",
"//due to 5% voltage drop\n",
"V=V-0.05*V\n",
"R2=(Ifsd*Rm*Rh)/(V-Ifsd*Rh)\n",
"printf('change in value R2 \n')\n",
"printf('R2=%.2f ohm',R2)"
   ]
   }
,
{
		   "cell_type": "markdown",
		   "metadata": {},
		   "source": [
			"## Example 8.20: find_unknown_resisance_Rx.sce"
		   ]
		  },
  {
"cell_type": "code",
	   "execution_count": null,
	   "metadata": {
	    "collapsed": true
	   },
	   "outputs": [],
"source": [
"//Chapter-8,Example8_20,pg 8_63\n",
"R1=10\n",
"R2=R1/0.5//given\n",
"Rba=1/1200//Rb/Ra\n",
"Rx=R2*Rba\n",
"printf('unknown resistance\n')\n",
"printf('Rx=%.4f ohm',Rx)"
   ]
   }
,
{
		   "cell_type": "markdown",
		   "metadata": {},
		   "source": [
			"## Example 8.21: find_constants_of_arm_CD.sce"
		   ]
		  },
  {
"cell_type": "code",
	   "execution_count": null,
	   "metadata": {
	    "collapsed": true
	   },
	   "outputs": [],
"source": [
"//Chapter-8,Example8_21,pg 8_64\n",
"w=2*%pi*1000\n",
"C1=0.2*10^-6\n",
"R2=500\n",
"R3=300\n",
"C3=0.1*10^-6\n",
"Z4=(%i*w*C1*R2)/((1/R3)+(%i*w*C3))//from basic balance equaton\n",
"Zx=Z4//unknown impedance\n",
"Rx=real(Zx)\n",
"Xl=imag(Zx)\n",
"Lx=Xl/w//Xl=w*Lx\n",
"printf('unknown resistance\n')\n",
"printf('Rx=%.2f ohm\n',Rx)\n",
"printf('unknown inductance\n')\n",
"printf('Lx=%.5f H',Lx)"
   ]
   }
,
{
		   "cell_type": "markdown",
		   "metadata": {},
		   "source": [
			"## Example 8.22: find_constants_of_Zx.sce"
		   ]
		  },
  {
"cell_type": "code",
	   "execution_count": null,
	   "metadata": {
	    "collapsed": true
	   },
	   "outputs": [],
"source": [
"//Chapter-8,Example8_22,pg 8_67\n",
"Z1=300\n",
"R2=200\n",
"w=2*%pi*10^3\n",
"C2=5*10^-6\n",
"Z2=R2-%i*(1/(w*C2))\n",
"R3=500\n",
"C3=0.2*10^-6\n",
"Z3=R3-%i*(1/(w*C3))\n",
"Z4=Z2*Z3/Z1//balance equation\n",
"Zx=Z4\n",
"printf('unknown impedance\n')\n",
"disp(Zx)"
   ]
   }
,
{
		   "cell_type": "markdown",
		   "metadata": {},
		   "source": [
			"## Example 8.23: find_unknown_impedance.sce"
		   ]
		  },
  {
"cell_type": "code",
	   "execution_count": null,
	   "metadata": {
	    "collapsed": true
	   },
	   "outputs": [],
"source": [
"//Chapter-8,Example8_23,pg 8_67\n",
"Z1=10*10^3\n",
"Z2=50*10^3\n",
"w=2*%pi*2*10^3\n",
"C3=100*10^-6\n",
"R3=100*10^3\n",
"Z3=R3-%i*(1/(w*C3))\n",
"Z4=Z2*Z3/Z1\n",
"Zx=Z4\n",
"Rx=real(Zx)\n",
"Xc=-imag(Zx)\n",
"Cx=1/(Xc*w)\n",
"printf('unknown resistance\n')\n",
"printf('Rx=%.f ohm\n',Rx)\n",
"printf('unknown capacitance\n')\n",
"printf('Cx=%.8f F',Cx)"
   ]
   }
,
{
		   "cell_type": "markdown",
		   "metadata": {},
		   "source": [
			"## Example 8.24: find_unknown_impedance_and_dissipation_factor.sce"
		   ]
		  },
  {
"cell_type": "code",
	   "execution_count": null,
	   "metadata": {
	    "collapsed": true
	   },
	   "outputs": [],
"source": [
"//Chapter-8,Example8_24,pg 8_68\n",
"R2=4.8\n",
"r2=0.4\n",
"w=2*%pi*450\n",
"C2=0.5*10^-6\n",
"Z2=R2+r2-%i*(1/(w*C2))\n",
"Z3=200\n",
"Z4=2850\n",
"//I1*Z1=I2*Z2........null deflection detector\n",
"Z1=Z2*Z3/Z4\n",
"R1=real(Z1)\n",
"Xc1=-imag(Z1)\n",
"C1=1/(w*Xc1)\n",
"D=w*R1*C1//dissipation factor\n",
"printf('arm-1 resistance\n')\n",
"printf('R1=%.4f ohm\n',R1)\n",
"printf('arm-1 capacitance\n')\n",
"printf('C1=%.6f F\n',C1)\n",
"printf('dissipation factor\n')\n",
"printf('D=%.6f \n',D)"
   ]
   }
,
{
		   "cell_type": "markdown",
		   "metadata": {},
		   "source": [
			"## Example 8.25: determine_unknown_parameters_of_arm_AB.sce"
		   ]
		  },
  {
"cell_type": "code",
	   "execution_count": null,
	   "metadata": {
	    "collapsed": true
	   },
	   "outputs": [],
"source": [
"//Chapter-8,Example8_25,pg 8_70\n",
"R2=842\n",
"w=2*%pi*10^3\n",
"C2=0.135*10^-6\n",
"Z2=R2-%i*(1/(w*C2))\n",
"Z3=10\n",
"C4=10^-6\n",
"Z4=-%i*(1/(w*C4))\n",
"Z1=Z2*Z3/Z4\n",
"R1=real(Z1)\n",
"Xl1=imag(Z1)\n",
"L1=Xl1/w\n",
"printf('resistance of arm AB\n')\n",
"printf('R1=%.3f ohm\n',R1)\n",
"printf('inductance of arm AB\n')\n",
"printf('L1=%.4f H',L1)"
   ]
   }
,
{
		   "cell_type": "markdown",
		   "metadata": {},
		   "source": [
			"## Example 8.26: find_resistance_and_inductance_of_coil.sce"
		   ]
		  },
  {
"cell_type": "code",
	   "execution_count": null,
	   "metadata": {
	    "collapsed": true
	   },
	   "outputs": [],
"source": [
"//Chapter-8,Example8_26,pg 8_71\n",
"//balance is obtained when\n",
"L1=47.8*10^-3\n",
"R1=1.36\n",
"//at balance 100(r1+jwL1)=100((R2+r2)+jwL2)\n",
"L2=L1\n",
"r1=32.7\n",
"r2=r1-R1\n",
"printf('inductance of branch-CD\n')\n",
"printf('L2=%.4f H\n',L2)\n",
"printf('resistance of branch-CD\n')\n",
"printf('r2=%.2f ohm',r2)"
   ]
   }
,
{
		   "cell_type": "markdown",
		   "metadata": {},
		   "source": [
			"## Example 8.27: find_limiting_values_of_unknown_resistance.sce"
		   ]
		  },
  {
"cell_type": "code",
	   "execution_count": null,
	   "metadata": {
	    "collapsed": true
	   },
	   "outputs": [],
"source": [
"//Chapter-8,Example8_27,pg 8_72\n",
"R1=100\n",
"R2=100\n",
"R3=230\n",
"R4=R1*R3/R2\n",
"lerrR1=0.02/100\n",
"lerrR3=0.01/100\n",
"lerrR2=0.02/100//lerrR........limiting error in R\n",
"lerrR4=lerrR1+lerrR3+lerrR2\n",
"R4u=R4+lerrR4*R4\n",
"R4l=R4-lerrR4*R4//limiting ranges of R4\n",
"printf('limiting range of R4\n')\n",
"printf('upper limit=%.3f ohm\n',R4u)\n",
"printf('lower limit=%.3f ohm',R4l)"
   ]
   }
,
{
		   "cell_type": "markdown",
		   "metadata": {},
		   "source": [
			"## Example 8.2: find_unknown_resistance.sce"
		   ]
		  },
  {
"cell_type": "code",
	   "execution_count": null,
	   "metadata": {
	    "collapsed": true
	   },
	   "outputs": [],
"source": [
"//Chapter-8,Example8_2,pg 8_18\n",
"R1=10*10^3\n",
"R2=2*10^3\n",
"R3=5*10^3\n",
"//R4=Rx\n",
"R4=(R1*R3)/R2\n",
"printf('unknown resistance\n')\n",
"printf('R4=%.2f ohm',R4)"
   ]
   }
,
{
		   "cell_type": "markdown",
		   "metadata": {},
		   "source": [
			"## Example 8.3: find_current_through_galvanometer.sce"
		   ]
		  },
  {
"cell_type": "code",
	   "execution_count": null,
	   "metadata": {
	    "collapsed": true
	   },
	   "outputs": [],
"source": [
"//Chapter-8,Example8_3,pg 8_18\n",
"R1=7*10^3\n",
"R2=2*10^3\n",
"R3=4*10^3\n",
"R4=20*10^3\n",
"E=8\n",
"Rg=300\n",
"Vth=(E*R4/(R3+R4))-(E*R1 /(R1+R2))//voltage divider rule\n",
"Req=(R1*R2/(R1+R2))+(R3*R4/(R3+R4))\n",
"Ig=Vth/(Req+Rg)\n",
"printf('current through galvanometer\n')\n",
"printf('Ig=%.7f A',Ig)"
   ]
   }
,
{
		   "cell_type": "markdown",
		   "metadata": {},
		   "source": [
			"## Example 8.4: find_unknown_resisance.sce"
		   ]
		  },
  {
"cell_type": "code",
	   "execution_count": null,
	   "metadata": {
	    "collapsed": true
	   },
	   "outputs": [],
"source": [
"//Chapter-8,Example8_4,pg 8_25\n",
"R3=100.03*10^-6\n",
"R2=100.24\n",
"R1=200\n",
"b=100.31\n",
"a=200\n",
"Ry=700*10^-6\n",
"Rx=R1*R3/R2\n",
"Rx=Rx+(b*Ry/(Ry+a+b))*((R1/R2)-(a/b))\n",
"printf('unknown resistance\n')\n",
"printf('Rx=%.7f ohm',Rx)"
   ]
   }
,
{
		   "cell_type": "markdown",
		   "metadata": {},
		   "source": [
			"## Example 8.5: find_constants_of_unknown_impedance.sce"
		   ]
		  },
  {
"cell_type": "code",
	   "execution_count": null,
	   "metadata": {
	    "collapsed": true
	   },
	   "outputs": [],
"source": [
"//Chapter-8,Example8_5,pg 8_35\n",
"Z2=250\n",
"Z3=200\n",
"Z1=50\n",
"Z4=Z2*Z3/Z1//magnitude condition\n",
"theta1=80\n",
"theta2=0\n",
"theta3=30\n",
"theta4=theta2+theta3-theta1//angle condition\n",
"theta4=theta4*%pi/180//in radians\n",
"Rx=Z4*cos(theta4)//real part\n",
"Ry=Z4*sin(theta4)//imag. part\n",
"Z4=Rx+%i*Ry\n",
"printf('unknown impedance\n')\n",
"disp(Z4)"
   ]
   }
,
{
		   "cell_type": "markdown",
		   "metadata": {},
		   "source": [
			"## Example 8.6: determine_balance_of_bridge.sce"
		   ]
		  },
  {
"cell_type": "code",
	   "execution_count": null,
	   "metadata": {
	    "collapsed": true
	   },
	   "outputs": [],
"source": [
"//Chapter-8,Example8_6,pg 8_35\n",
"Z1=sqrt(((50*cos(40*%pi/180))^2)+(50*sin(40*%pi/180))^2)//angle in radians\n",
"Z2=sqrt(((100*cos(-90*%pi/180))^2)+(100*sin(-90*%pi/180))^2)\n",
"Z3=sqrt(((15*cos(45*%pi/180))^2)+(15*sin(45*%pi/180))^2)\n",
"Z4=sqrt(((30*cos(30*%pi/180))^2)+(30*sin(30*%pi/180))^2)\n",
"//mag(Z1*Z4)=mag(Z2*Z3)....magnitude condition\n",
"magl=Z1*Z4//lhs\n",
"magr=Z2*Z3//rhs\n",
"printf('magl=%.f\n',magl)\n",
"printf('magr=%.f\n',magr)\n",
"printf('lhs=rhs hence,magnitude condition is satisfied \n')\n",
"theta1=40\n",
"theta2=-90\n",
"theta3=45\n",
"theta4=30\n",
"//theta1+theta4=theta2+theta3.......angle condition\n",
"thetal=theta1+theta4//lhs\n",
"thetar=theta2+theta3//rhs\n",
"printf('thetal=%.f\n',thetal)\n",
"printf('thetar=%.f\n',thetar)\n",
"printf('angle condition is not satisfied \n')"
   ]
   }
,
{
		   "cell_type": "markdown",
		   "metadata": {},
		   "source": [
			"## Example 8.7: find_equivalent_series_circuit.sce"
		   ]
		  },
  {
"cell_type": "code",
	   "execution_count": null,
	   "metadata": {
	    "collapsed": true
	   },
	   "outputs": [],
"source": [
"//Chapter-8,Example8_7,pg 8_37\n",
"C3=10*10^-6\n",
"R1=1.2*10^3\n",
"R2=100*10^3\n",
"R3=120*10^3\n",
"Rx=R2*R3/R1\n",
"Cx=R1*C3/R2\n",
"printf('equivalent series circuit\n')\n",
"printf('Rx=%.f ohm\n',Rx)\n",
"printf('Cx=%.9f F',Cx)"
   ]
   }
,
{
		   "cell_type": "markdown",
		   "metadata": {},
		   "source": [
			"## Example 8.8: find_equivalent_series_circuit.sce"
		   ]
		  },
  {
"cell_type": "code",
	   "execution_count": null,
	   "metadata": {
	    "collapsed": true
	   },
	   "outputs": [],
"source": [
"//Chapter-8,Example8_8,pg 8_39\n",
"L3=8*10^-3\n",
"R1=1*10^3\n",
"R2=25*10^3\n",
"R3=50*10^3\n",
"Rx=R2*R3/R1\n",
"Lx=R2*L3/R1\n",
"printf('equivalent series circuit\n')\n",
"printf('Rx=%.f ohm\n',Rx)\n",
"printf('Lx=%.5f H',Lx)"
   ]
   }
,
{
		   "cell_type": "markdown",
		   "metadata": {},
		   "source": [
			"## Example 8.9: find_components_of_branch_BC.sce"
		   ]
		  },
  {
"cell_type": "code",
	   "execution_count": null,
	   "metadata": {
	    "collapsed": true
	   },
	   "outputs": [],
"source": [
"//Chapter-8,Example8_9,pg 8_44\n",
"//from the bridge\n",
"C1=0.5*10^-6\n",
"R1=1200\n",
"R2=700\n",
"R3=300\n",
"Rx=R2*R3/R1\n",
"Lx=R2*R3*C1\n",
"printf('components of branch RC\n')\n",
"printf('Rx=%.f ohm\n',Rx)\n",
"printf('Lx=%.5f H\n',Lx)"
   ]
   }
],
"metadata": {
		  "kernelspec": {
		   "display_name": "Scilab",
		   "language": "scilab",
		   "name": "scilab"
		  },
		  "language_info": {
		   "file_extension": ".sce",
		   "help_links": [
			{
			 "text": "MetaKernel Magics",
			 "url": "https://github.com/calysto/metakernel/blob/master/metakernel/magics/README.md"
			}
		   ],
		   "mimetype": "text/x-octave",
		   "name": "scilab",
		   "version": "0.7.1"
		  }
		 },
		 "nbformat": 4,
		 "nbformat_minor": 0
}
