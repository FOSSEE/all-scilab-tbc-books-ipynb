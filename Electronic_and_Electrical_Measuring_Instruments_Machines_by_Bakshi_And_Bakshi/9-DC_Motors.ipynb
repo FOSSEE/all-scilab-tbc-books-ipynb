{
"cells": [
 {
		   "cell_type": "markdown",
	   "metadata": {},
	   "source": [
       "# Chapter 9: DC Motors"
	   ]
	},
{
		   "cell_type": "markdown",
		   "metadata": {},
		   "source": [
			"## Example 9.10: calculate_speed_on_new_load.sce"
		   ]
		  },
  {
"cell_type": "code",
	   "execution_count": null,
	   "metadata": {
	    "collapsed": true
	   },
	   "outputs": [],
"source": [
"//Chapter-9,Example9_10,pg 9_39\n",
"N1=800\n",
"I1=20\n",
"V=250\n",
"Ia1=I1\n",
"I2=50\n",
"Ia2=I2\n",
"Ra=0.2\n",
"Ise1=I1\n",
"Ise2=I2\n",
"Rse=0.3\n",
"Eb1=V-Ia1*Ra-Ise1*Rse\n",
"Eb2=V-Ia2*Ra-Ise2*Rse\n",
"//from speed equation\n",
"N2=N1*(Eb2/Eb1)*(Ia1/Ia2)\n",
"printf('speed of motor on new load\n')\n",
"printf('N2=%.3f r.p.m',N2)"
   ]
   }
,
{
		   "cell_type": "markdown",
		   "metadata": {},
		   "source": [
			"## Example 9.11: find_new_speed_and_armature_current.sce"
		   ]
		  },
  {
"cell_type": "code",
	   "execution_count": null,
	   "metadata": {
	    "collapsed": true
	   },
	   "outputs": [],
"source": [
"//Chapter-9,Example9_11,pg 9_45\n",
"V=250\n",
"Rsh=250\n",
"Ra=0.25\n",
"Rx=Rsh\n",
"Ia1=20\n",
"Ish1=V/Rsh\n",
"Ish2=V/(Rsh+Rx)\n",
"N1=1500\n",
"Eb1=V-Ia1*Ra\n",
"//phi=k*Ish\n",
"//T1=T2\n",
"Ia2=Ish1*Ia1/Ish2//new current\n",
"Eb2=V-Ia2*Ra\n",
"//from speed equation\n",
"N2=N1*(((Eb1/Eb2)*(Ish2/Ish1))^-1)//new speed\n",
"printf('new current\n')\n",
"printf('Ia2=%.f A\n',Ia2)\n",
"printf('new speed\n')\n",
"printf('N2=%.3f r.p.m',N2)"
   ]
   }
,
{
		   "cell_type": "markdown",
		   "metadata": {},
		   "source": [
			"## Example 9.12: find_external_resistance.sce"
		   ]
		  },
  {
"cell_type": "code",
	   "execution_count": null,
	   "metadata": {
	    "collapsed": true
	   },
	   "outputs": [],
"source": [
"//Chapter-9,Example9_12,pg 9_46\n",
"V=250\n",
"Ra=0.5\n",
"Rsh=250\n",
"Ia1=20\n",
"Ish1=V/Rsh\n",
"Eb1=V-Ia1*Ra\n",
"N1=600\n",
"N2=800\n",
"//T1=T2\n",
"//Ish1*Ia1=Ish2*Ia2\n",
"//Ish2*Ia2=20............(1)\n",
"//(N1/N2)=(Eb1/Eb2)*(Ish2/Ish1)...........(2)\n",
"//using (1) and (2)\n",
"//240*(Ish2^2)-187.5*Ish2+7.5=0.........(3)\n",
"b=-187.5\n",
"a=240\n",
"c=7.5\n",
"Ish2=(-b+sqrt(((b^2)-4*a*c)))/(2*a)//neglecting lower value\n",
"Rx=(V/Ish2)-Rsh\n",
"printf('resistance in shunt feild\n')\n",
"printf('Rx=%.3f ohm',Rx)"
   ]
   }
,
{
		   "cell_type": "markdown",
		   "metadata": {},
		   "source": [
			"## Example 9.13: calculate_speed_of_motor.sce"
		   ]
		  },
  {
"cell_type": "code",
	   "execution_count": null,
	   "metadata": {
	    "collapsed": true
	   },
	   "outputs": [],
"source": [
"//Chapter-9,Example9_13,pg 9_51\n",
"V=250\n",
"Ra=0.15\n",
"Rx=0.1\n",
"Rse=0.1\n",
"N1=800\n",
"Ise1=30\n",
"Ia1=30//Ia1=Ise1\n",
"I1=Ia1\n",
"//phi=k*Ise\n",
"//T2=T1+0.5*T1(increased by 50%)..........(1)\n",
"//Ise2=Ia2*Rx/(Rx+Rse)\n",
"//putting values of Rx and Rse Ise2=0.5*Ia2.........(2)\n",
"//putting (1) and (2) in torque equation\n",
"Ia2=sqrt(2700)\n",
"Ise2=0.5*Ia2//from (2)\n",
"Eb1=V-Ia1*Ra-Ise1*Rse\n",
"Eb2=V-Ia2*Ra-Ise2*Rse\n",
"//using speed equation\n",
"N2=N1*Eb2*Ise1/(Eb1*Ise2)\n",
"printf('speed of motor\n')\n",
"printf('N2=%.3f r.p.m',N2)"
   ]
   }
,
{
		   "cell_type": "markdown",
		   "metadata": {},
		   "source": [
			"## Example 9.14: find_out_speed_of_motor.sce"
		   ]
		  },
  {
"cell_type": "code",
	   "execution_count": null,
	   "metadata": {
	    "collapsed": true
	   },
	   "outputs": [],
"source": [
"//Chapter-9,Example9_14,pg 9_52\n",
"V=220\n",
"Ise1=15\n",
"Ia1=Ise1\n",
"Ia2=10\n",
"Ise2=Ia2\n",
"I2=Ia2\n",
"N1=900\n",
"Ra=0.5\n",
"Rse=0.5\n",
"Rx=4\n",
"Eb1=V-Ia1*Ra-Ise1*Rse\n",
"Eb2=V-Ia2*Ra-Ise2*Rse-I2*Rx\n",
"N2=N1*Eb2*Ise1/(Eb1*Ise2)\n",
"printf('speed of motor\n')\n",
"printf('N2=%.3f r.p.m',N2)"
   ]
   }
,
{
		   "cell_type": "markdown",
		   "metadata": {},
		   "source": [
			"## Example 9.15: find_speed_and_torque_of_motor.sce"
		   ]
		  },
  {
"cell_type": "code",
	   "execution_count": null,
	   "metadata": {
	    "collapsed": true
	   },
	   "outputs": [],
"source": [
"//Chapter-9,Example9_15,pg 9_64\n",
"P=6\n",
"V=500\n",
"A=2//wave wound\n",
"Z=1200\n",
"phi=20*10^-3//flux\n",
"Ra=0.5\n",
"Rsh=250\n",
"Il=20\n",
"Ish=V/Rsh\n",
"Ia=Il-Ish\n",
"Eb=V-Ia*Ra\n",
"N=Eb*60*A/(phi*P*Z)\n",
"Pm=Eb*Ia//mechanical power\n",
"w=2*%pi*N/60//angular velocity\n",
"Tg=Pm/w\n",
"ML=900//mechanical losses\n",
"Pout=Pm-ML\n",
"Tsh=Pout/w//usefull torque\n",
"Pin=V*Il\n",
"n=Pout*100/Pin//efficiency at load\n",
"printf('usefull torque\n')\n",
"printf('Tsh=%.2f Nm\n',Tsh)\n",
"printf('efficiency at load\n')\n",
"printf('n=%.2f',n)"
   ]
   }
,
{
		   "cell_type": "markdown",
		   "metadata": {},
		   "source": [
			"## Example 9.16: find_speed_on_full_load.sce"
		   ]
		  },
  {
"cell_type": "code",
	   "execution_count": null,
	   "metadata": {
	    "collapsed": true
	   },
	   "outputs": [],
"source": [
"//Chapter-9,Example9_16,pg 9_65\n",
"V=120\n",
"Ra=0.2\n",
"Rsh=60\n",
"//for full load\n",
"Il1=40\n",
"N1=1800\n",
"//for shunt motor\n",
"Ish=V/Rsh\n",
"Ia1=Il1-Ish\n",
"Eb1=V-Ia1*Ra\n",
"//for half load T2=T1/2\n",
"Ia2=Ia1*0.5//T=k*Ia\n",
"Eb2=V-Ia2*Ra\n",
"N2=N1*Eb2/Eb1//from torque equation\n",
"printf('speed of motor\n')\n",
"printf('N2=%.2f r.p.m',N2)"
   ]
   }
,
{
		   "cell_type": "markdown",
		   "metadata": {},
		   "source": [
			"## Example 9.17: determine_armature_current_ansd_speed_of_machine.sce"
		   ]
		  },
  {
"cell_type": "code",
	   "execution_count": null,
	   "metadata": {
	    "collapsed": true
	   },
	   "outputs": [],
"source": [
"//Chapter-9,Example9_17,pg 9_66\n",
"Ra=0.08\n",
"Eb1=242\n",
"V=250\n",
"Ia=87\n",
"Vt=V//generator supply\n",
"Nm=1500\n",
"Ia1=(V-Eb1)/Ra\n",
"//at start N=0, Eb=0\n",
"Ias=V/Ra//Ia(start)\n",
"Ia2=120\n",
"Eb2=V-Ia2*Ra\n",
"Eg=Vt+Ia*Ra//generator e.m.f\n",
"Ng=Nm*Eg/Eb1//speed as generator\n",
"printf('speed as generator\n')\n",
"printf('Ng=%.2f r.p.m',Ng)"
   ]
   }
,
{
		   "cell_type": "markdown",
		   "metadata": {},
		   "source": [
			"## Example 9.18: determine_mechanical_power_on_full_load.sce"
		   ]
		  },
  {
"cell_type": "code",
	   "execution_count": null,
	   "metadata": {
	    "collapsed": true
	   },
	   "outputs": [],
"source": [
"//Chapter-9,Example9_18,pg 9_67\n",
"V=250\n",
"Po=59680\n",
"Rsh=250\n",
"Ra=0.04\n",
"n=80//efficiency\n",
"N1=1200\n",
"Il=Po*100/(V*n)//Pi=V*Il\n",
"Ish=V/Rsh\n",
"Ia=Il-Ish\n",
"Eb=V-Ia*Ra\n",
"Pm=Eb*Ia//gross mechanical power\n",
"SL=Pm-Po//stray losses\n",
"printf('gross mechanical power\n')\n",
"printf('Pm=%.3f W\n',Pm)\n",
"printf('stray losses\n')\n",
"printf('SL=%.2f W\n',SL)\n",
"//on no load\n",
"//Pg=S, Ebo*Iao=SL..........(1)\n",
"//Ebo=V-Iao*Ra............(2)\n",
"//putting (2) in (1)\n",
"//(Iao^2)-6250*Iao+278303.24=0\n",
"b=-6250\n",
"a=1\n",
"c=278303.24\n",
"Iao=(-b-sqrt((b^2)-4*a*c))/(2*a)\n",
"I=Iao-Ish//current drawn on no load\n",
"Ebo=V-Iao*Ra\n",
"No=N1*Ebo/Eb\n",
"printf('no load speed\n')\n",
"printf('No=%.3f r.p.m',No)"
   ]
   }
,
{
		   "cell_type": "markdown",
		   "metadata": {},
		   "source": [
			"## Example 9.19: calculate_full_load_speed.sce"
		   ]
		  },
  {
"cell_type": "code",
	   "execution_count": null,
	   "metadata": {
	    "collapsed": true
	   },
	   "outputs": [],
"source": [
"//Chapter-9,Example9_19,pg 9_69\n",
"V=250\n",
"P=4\n",
"Ra=0.1\n",
"Rsh=125\n",
"Vbr=2//brush drop\n",
"//no load condition\n",
"Ilo=4\n",
"No=1200\n",
"Il1=61\n",
"Ish=V/Rsh\n",
"Iao=Ilo-Ish\n",
"Ebo=V-Iao*Ra-Vbr\n",
"//full load condition\n",
"//phi1=phio-o.o5*phio       (weakened by 5%)\n",
"//phi=phi1/phio\n",
"phi=0.95\n",
"Ia1=Il1-Ish\n",
"Eb1=V-Ia1*Ra-Vbr\n",
"N1=No*Eb1/(Ebo*phi)\n",
"printf('full load speed\n')\n",
"printf('N1=%.3f r.p.m',N1)"
   ]
   }
,
{
		   "cell_type": "markdown",
		   "metadata": {},
		   "source": [
			"## Example 9.1: calculate_generated_emf.sce"
		   ]
		  },
  {
"cell_type": "code",
	   "execution_count": null,
	   "metadata": {
	    "collapsed": true
	   },
	   "outputs": [],
"source": [
"//Chapter-9,Example9_1,pg 9_14\n",
"P=4\n",
"Z=440\n",
"phi=0.07//flux(in Wb)\n",
"N=900\n",
"//for lap-wound\n",
"A=P\n",
"E=phi*P*N*Z/(60*A)\n",
"printf('e.m.f for lap wound\n')\n",
"printf('E=%.f V\n',E)\n",
"//for wave wound\n",
"A=2\n",
"E=phi*P*N*Z/(60*A)\n",
"printf('e.m.f for wave wound\n')\n",
"printf('E=%.f V\n',E)"
   ]
   }
,
{
		   "cell_type": "markdown",
		   "metadata": {},
		   "source": [
			"## Example 9.20: determine_full_load_speed_and_efficiency.sce"
		   ]
		  },
  {
"cell_type": "code",
	   "execution_count": null,
	   "metadata": {
	    "collapsed": true
	   },
	   "outputs": [],
"source": [
"//Chapter-9,Example9_20,pg 9_70\n",
"V=250\n",
"Ra=0.15\n",
"Rsh=166.67\n",
"No=1280\n",
"Il1=67\n",
"Ish=V/Rsh\n",
"Ia1=Il1-Ish\n",
"Eb1=V-Ia1*Ra\n",
"//on no load\n",
"Ilo=6.5\n",
"Ish=1.5\n",
"Iao=Ilo-Ish\n",
"Ebo=V-Iao*Ra\n",
"N1=Eb1*No/Ebo\n",
"Sr=(No-N1)*100/No//speed regulation\n",
"SL=Ebo*Iao\n",
"Po=Eb1*Ia1-SL//full load shaft output\n",
"hp=Po/746//horse power rating\n",
"Pi=V*Il1\n",
"n=Po*100/Pi\n",
"printf('full load speed\n')\n",
"printf('N1=%.3f r.p.m\n',N1)\n",
"printf('speed regulation\n')\n",
"printf('Sr=%.2f \n',Sr)\n",
"printf('hp rating of machine\n')\n",
"printf('hp=%.2f hp\n',hp)\n",
"printf('full load efficiency\n')\n",
"printf('n=%.2f ',n)"
   ]
   }
,
{
		   "cell_type": "markdown",
		   "metadata": {},
		   "source": [
			"## Example 9.21: find_speed_for_parallel_field_groups.sce"
		   ]
		  },
  {
"cell_type": "code",
	   "execution_count": null,
	   "metadata": {
	    "collapsed": true
	   },
	   "outputs": [],
"source": [
"//Chapter-9,Example9_21,pg 9_71\n",
"Ra=0.1\n",
"V=110\n",
"P=4\n",
"Ia1=50\n",
"I1=Ia1\n",
"Rse=0.02\n",
"N1=700\n",
"Eb1=V-Ia1*Ra-Ia1*Rse\n",
"//using torque  equation T=k*phi*Ia\n",
"Ia2=sqrt(2)*Ia1\n",
"Eb2=V-Ia2*Ra-Ia2*Rse/4//parallel speed groups\n",
"//using speed equation N=k*Eb/phi\n",
"N2=N1*Eb2*2*Ia1/(Eb1*Ia2)\n",
"printf('speed of motor\n')\n",
"printf('N2=%.3f r.p.m',N2)"
   ]
   }
,
{
		   "cell_type": "markdown",
		   "metadata": {},
		   "source": [
			"## Example 9.22: find_new_speed_and_armature_current.sce"
		   ]
		  },
  {
"cell_type": "code",
	   "execution_count": null,
	   "metadata": {
	    "collapsed": true
	   },
	   "outputs": [],
"source": [
"//Chapter-9,Example9_22,pg 9_73\n",
"P=4\n",
"Ia1=50\n",
"N1=2000\n",
"V=230\n",
"//coils connected in series\n",
"//phi1=k*Ia1*(4*n)=k*200*n\n",
"//coils connected in parallel groups of series coils\n",
"//phi2=k*((Ia2*2*n/2)+(Ia2*2*n/2))=k*2*n*Ia2\n",
"//phi1/phi2=100/Ia2........(1)\n",
"//N1/N2=phi2/phi1........(2)\n",
"//T=kN^2..........(3)\n",
"Ia2=(Ia1*(100^3))^(1/4)//using (1) in (3)\n",
"N2=(((N1^3)*Ia2)/Ia1)^(1/3)\n",
"printf('new speed of motor\n')\n",
"printf('N2=%.3f r.p.m',N2)"
   ]
   }
,
{
		   "cell_type": "markdown",
		   "metadata": {},
		   "source": [
			"## Example 9.23: find_external_resistance.sce"
		   ]
		  },
  {
"cell_type": "code",
	   "execution_count": null,
	   "metadata": {
	    "collapsed": true
	   },
	   "outputs": [],
"source": [
"//Chapter-9,Example9_23,pg 9_76\n",
"V=200\n",
"Ia1=30\n",
"Ra=0.75\n",
"Rse=0.75\n",
"R=Ra+Rse\n",
"Eb1=V-Ia1*R\n",
"//N2=0.6*N1\n",
"N=0.6//N=N2/N1\n",
"//using T=k*Ia^2 and T=k*N^3\n",
"Ia2=sqrt(((0.6^3)*30^2))\n",
"//using speed equation N=k*Eb/Ia\n",
"Eb2=N*Eb1*Ia2/Ia1\n",
"//Eb2=V-Ia2*(R+Rx)\n",
"Rx=-(Eb2-V+Ia2*R)/Ia2\n",
"printf('extra resistance to reduce speed\n')\n",
"printf('Rx=%.3f ohm',Rx)"
   ]
   }
,
{
		   "cell_type": "markdown",
		   "metadata": {},
		   "source": [
			"## Example 9.24: estimate_supply_voltage.sce"
		   ]
		  },
  {
"cell_type": "code",
	   "execution_count": null,
	   "metadata": {
	    "collapsed": true
	   },
	   "outputs": [],
"source": [
"//Chapter-9,Example9_24,pg 9_77\n",
"R=1\n",
"V1=230\n",
"N1=300\n",
"Ia1=15\n",
"N2=375\n",
"//using torque equation T=k*N^2\n",
"Ia2=N2*Ia1/N1\n",
"//using speed equation N=k*Eb/Ia........(1)\n",
"Eb1=V1-Ia1*R\n",
"//case-2\n",
"//Eb2=V2-Ia2*R=V2-18.75......(2)\n",
"//putting (2) in (1)\n",
"V2=(N2*Eb1*Ia2/(N1*Ia1))+18.75\n",
"printf('new supply voltage\n')\n",
"printf('V2=%.3f V',V2)"
   ]
   }
,
{
		   "cell_type": "markdown",
		   "metadata": {},
		   "source": [
			"## Example 9.25: find_efficiency_and_power_input.sce"
		   ]
		  },
  {
"cell_type": "code",
	   "execution_count": null,
	   "metadata": {
	    "collapsed": true
	   },
	   "outputs": [],
"source": [
"//Chapter-9,Example9_25,pg 9_78\n",
"V=400\n",
"Po1=18.5*10^3\n",
"Pi1=22.5*10^3\n",
"Rsh=200\n",
"Ra=0.4\n",
"Po2=9*10^3\n",
"I1=Pi1/V\n",
"Ish=V/Rsh\n",
"Ia1=I1-Ish\n",
"Acl=(Ia1^2)*Ra//armature copper loss\n",
"Scl=(Ish^2)*Rsh//shunt feild copper loss\n",
"TL=Pi1-Po1//total losses\n",
"SFl=TL-(Acl+Scl)//stray and friction loss\n",
"//case-2\n",
"Pm=Po2+SFl//mechanical power\n",
"//Pm=Eb2*Ia2.........(1)\n",
"//Eb2=V-Ia2*Ra.......(2)\n",
"//using (1) and (2)\n",
"//0.4*(Ia2^2)-400*Ia2+11022.75=0\n",
"a=0.4\n",
"b=-400\n",
"c=11022.775\n",
"Ia2=(-b-sqrt((b^2)-4*a*c))/(2*a)//neglecting higher value\n",
"Pi2=Po2+(Ia2^2)*Ra+(Ish^2)*Rsh+SFl\n",
"n=Po2*100/Pi2//efficiency\n",
"printf('power input in case-2\n')\n",
"printf('Pi2=%.3f W\n',Pi2)\n",
"printf('efficiency of motor\n')\n",
"printf('n=%.2f ',n)"
   ]
   }
,
{
		   "cell_type": "markdown",
		   "metadata": {},
		   "source": [
			"## Example 9.26: calculate_efficiency_and_armature_current.sce"
		   ]
		  },
  {
"cell_type": "code",
	   "execution_count": null,
	   "metadata": {
	    "collapsed": true
	   },
	   "outputs": [],
"source": [
"//Chapter-9,Example9_26,pg 9_79\n",
"V=250\n",
"Ilo=4\n",
"Ra=1\n",
"Rsh=250\n",
"Ish=V/Rsh\n",
"Il1=20\n",
"Iao=Ilo-Ish\n",
"Ia1=Il1-Ish\n",
"Ebo=V-Iao*Ra\n",
"Po=Ebo*Iao\n",
"Eb1=V-Ia1*Ra\n",
"P1=Eb1*Ia1\n",
"Pout=P1-Po\n",
"Pi=V*Il1\n",
"n=Pout*100/Pi\n",
"//fro max. efficiency\n",
"//const. losses=variable losses\n",
"Ia=sqrt(Po+(Ish^2)*Rsh)\n",
"Ebm=V-Ia*Ra\n",
"Pm=Ebm*Ia\n",
"Pout=Pm-Po\n",
"Pi=V*(Ia+Ish)\n",
"nm=Pout*100/Pi\n",
"printf('maximum efficiency\n')\n",
"printf('nm=%.2f',nm)"
   ]
   }
,
{
		   "cell_type": "markdown",
		   "metadata": {},
		   "source": [
			"## Example 9.27: calculate_back_emf.sce"
		   ]
		  },
  {
"cell_type": "code",
	   "execution_count": null,
	   "metadata": {
	    "collapsed": true
	   },
	   "outputs": [],
"source": [
"//Chapter-9,Example9_27,pg 9_81\n",
"V=250\n",
"FLo=16*10^3//full scale output\n",
"n=80\n",
"I=FLo*100/n//input\n",
"Il=I/V\n",
"Il=Il\n",
"Ia=1.5*Il\n",
"//at start\n",
"Ra=V/Ia\n",
"Rac=0.18//Ra actual\n",
"Ras=Ra-Rac//Ra starter\n",
"Ia=Il//Ia drops as motor starts\n",
"Eb=V-Ia*(Ra)\n",
"printf('back e.m.f\n')\n",
"printf('Eb=%.2f V',Eb)"
   ]
   }
,
{
		   "cell_type": "markdown",
		   "metadata": {},
		   "source": [
			"## Example 9.28: calculate_torque_and_efficiency.sce"
		   ]
		  },
  {
"cell_type": "code",
	   "execution_count": null,
	   "metadata": {
	    "collapsed": true
	   },
	   "outputs": [],
"source": [
"//Chapter-9,Example9_28,pg 9_82\n",
"Po=20*735.5//(in W)\n",
"V=230\n",
"N=1150\n",
"P=4\n",
"A=P\n",
"Z=882\n",
"Ia=73\n",
"Ish=1.6\n",
"T=60*Po/(2*%pi*N)\n",
"phi=T*A/(0.159*Ia*P*Z)//flux per pole\n",
"Il=Ia+Ish\n",
"Pin=V*Il\n",
"n=Po*100/Pin\n",
"printf('electromagnetic torque\n')\n",
"printf('T=%.3f Nm\n',T)\n",
"printf('flux per pole\n')\n",
"printf('phi=%.3f Wb\n',phi)\n",
"printf('efficiency of motor\n')\n",
"printf('n=%.3f',n)"
   ]
   }
,
{
		   "cell_type": "markdown",
		   "metadata": {},
		   "source": [
			"## Example 9.29: determine_efficiency_and_speed_of_motor.sce"
		   ]
		  },
  {
"cell_type": "code",
	   "execution_count": null,
	   "metadata": {
	    "collapsed": true
	   },
	   "outputs": [],
"source": [
"//Chapter-9,Example9_29,pg 9_83\n",
"Pr=12*10^3//rated output\n",
"V=200\n",
"Rsh=80\n",
"N1=800\n",
"n=0.9//efficiency\n",
"Out=0.8*Pr//output is 80% of rated\n",
"In=Out/n//input\n",
"TL=In-Out\n",
"//for max. efficiency\n",
"Iln=70//new current\n",
"//TL=Wc+(Ia1^2)*Ra\n",
"//bur Wc=(Ia1^2)*Ra\n",
"Wc=TL/2\n",
"Il=In/V\n",
"Ish=V/Rsh\n",
"Ia1=Il-Ish\n",
"Ra=Wc/(Ia1^2)\n",
"Ia2=Iln-Ish\n",
"Wcn=Wc//const. losses remain same\n",
"TL=(Ia2^2)*Ra+Wcn\n",
"Pi=V*Iln\n",
"n=(Pi-TL)*100/Pi\n",
"Eb1=V-Ia1*Ra\n",
"Eb2=V-Ia2*Ra\n",
"N2=N1*Eb2/Eb1\n",
"printf('speed of motor\n')\n",
"printf('N2=%.3f r.p.m',N2)"
   ]
   }
,
{
		   "cell_type": "markdown",
		   "metadata": {},
		   "source": [
			"## Example 9.2: calculate_speed_and_generated_emf.sce"
		   ]
		  },
  {
"cell_type": "code",
	   "execution_count": null,
	   "metadata": {
	    "collapsed": true
	   },
	   "outputs": [],
"source": [
"//Chapter-9,Example9_2,pg 9_15\n",
"P=4\n",
"phi=21*10^-3//flux(in Wb)\n",
"N=1120\n",
"C=42//coils\n",
"tpC=8//turns per coil\n",
"t=C*tpC//total turns\n",
"Z=2*t\n",
"//for lap wound\n",
"A=P\n",
"E=phi*P*N*Z/(60*A)\n",
"printf('e.m.f for lap wound\n')\n",
"printf('E=%.f V\n',E)\n",
"//for wave wound\n",
"A=2\n",
"E=263.424\n",
"N=E*60*A/(phi*P*Z)\n",
"printf('speed of generator for wave wound\n')\n",
"printf('N=%.f r.p.m\n',N)"
   ]
   }
,
{
		   "cell_type": "markdown",
		   "metadata": {},
		   "source": [
			"## Example 9.30: calculate_efficiency_of_motor.sce"
		   ]
		  },
  {
"cell_type": "code",
	   "execution_count": null,
	   "metadata": {
	    "collapsed": true
	   },
	   "outputs": [],
"source": [
"//Chapter-9,Example9_30,pg 9_85\n",
"Po=8.952*10^3\n",
"V=440\n",
"Ra=1.1\n",
"Rsh=650\n",
"Rint=0.4\n",
"Rreg=50\n",
"Ml=450\n",
"Vbr=2//brush drop\n",
"Il=24\n",
"Rat=Ra+Rint//series connection\n",
"Rsht=Rsh+Rreg//series connection\n",
"Ish=V/Rsht\n",
"Ia=Il-Ish\n",
"Acl=(Ia^2)*Rat//armature copper loss\n",
"Fcl=(Ish^2)*Rsht//feild copper loss\n",
"Bdl=Vbr*Ia//brush drop loss\n",
"TL=Acl+Fcl+Bdl+Ml\n",
"n=Po*100/(Po+TL)\n",
"printf('efficiency of motor\n')\n",
"printf('n=%.2f ',n)"
   ]
   }
,
{
		   "cell_type": "markdown",
		   "metadata": {},
		   "source": [
			"## Example 9.31: calculate_speed_of_motor_combination.sce"
		   ]
		  },
  {
"cell_type": "code",
	   "execution_count": null,
	   "metadata": {
	    "collapsed": true
	   },
	   "outputs": [],
"source": [
"//Chapter-9,Example9_31,pg 9_85\n",
"//for first motor\n",
"N1=700\n",
"R=0.5//Ra+Rse\n",
"I1=70\n",
"V=500\n",
"Eb1=V-I1*R\n",
"K1=Eb1/(N1*I1)\n",
"//for second motor\n",
"N2=750\n",
"R=0.5\n",
"I2=70\n",
"V=500\n",
"Eb2=V-I2*R\n",
"K2=Eb2/(N2*I2)\n",
"//motors in series\n",
"It=70\n",
"Rt=2*R\n",
"Eb=V-It*Rt\n",
"N=Eb/(K1*It+K2*It)\n",
"printf('speed of motors\n')\n",
"printf('N=%.3f r.p.m',N)"
   ]
   }
,
{
		   "cell_type": "markdown",
		   "metadata": {},
		   "source": [
			"## Example 9.32: calculate_efficiency_and_power_output.sce"
		   ]
		  },
  {
"cell_type": "code",
	   "execution_count": null,
	   "metadata": {
	    "collapsed": true
	   },
	   "outputs": [],
"source": [
"//Chapter-9,Example9_32,pg 9_86\n",
"Po=7.46*10^3\n",
"V=250\n",
"Ilo=5\n",
"Ra=0.5\n",
"Rsh=250\n",
"Ish=V/Rsh\n",
"Iao=Ilo-Ish\n",
"Acl=(Iao^2)*Ra\n",
"Fcl=(Ish^2)*Rsh\n",
"Pi=V*Ilo\n",
"FWl=Pi-Acl-Fcl//friction and windage loss\n",
"//Pin=Eb*Ia=(V-Ia*Ra)*Ia\n",
"//0.5*(Ia^2)-250*Ia+8452=0\n",
"b=-250\n",
"a=0.5\n",
"c=8452\n",
"Ia=(-b-sqrt((b^2)-4*a*c))/(2*a)//neglecting higher value\n",
"TL=(Ia^2)*Ra+(Ish^2)*Rsh+FWl\n",
"n=Po*100/(Po+TL)\n",
"//for max. efficiency\n",
"Ia=sqrt((FWl+Fcl)/Ra)\n",
"Eb=V-Ia*Ra\n",
"Pm=Eb*Ia\n",
"//Po at nmax\n",
"Po=Pm-FWl\n",
"printf('maximum efficiency output\n')\n",
"printf('Po=%.3f W',Po)"
   ]
   }
,
{
		   "cell_type": "markdown",
		   "metadata": {},
		   "source": [
			"## Example 9.33: calculate_speed_on_given_load.sce"
		   ]
		  },
  {
"cell_type": "code",
	   "execution_count": null,
	   "metadata": {
	    "collapsed": true
	   },
	   "outputs": [],
"source": [
"//Chapter-9,Example9_33,pg 9_87\n",
"V=500\n",
"Ra=1.2\n",
"Rsh=500\n",
"Ish=V/Rsh\n",
"Ilo=4\n",
"Iao=Ilo-Ish\n",
"Ebo=V-Iao*Ra\n",
"Il1=26\n",
"Ish1=1\n",
"Ia1=Il1-Ish1\n",
"Eb1=V-Ia1*Ra\n",
"No=1000\n",
"N1=No*Eb1/Ebo\n",
"Rx=2.3//connected in series with armature\n",
"Eb2=V-Ia1*(Ra+Rx)\n",
"N2=N1*Eb2/Eb1\n",
"printf('speed of motor case-1\n')\n",
"printf('N2=%.3f r.p.m\n',N2)\n",
"Ish3=Ish1-0.15*Ish1//reduced by 15%\n",
"Ia3=Ish1*Ia1/(Ish3)\n",
"Eb3=V-Ia3*Ra\n",
"N3=N1*Eb3*Ish1/(Eb1*Ish3)\n",
"printf('speed of motor case-2\n')\n",
"printf('N3=%.3f r.p.m\n',N3)"
   ]
   }
,
{
		   "cell_type": "markdown",
		   "metadata": {},
		   "source": [
			"## Example 9.3: calculate_induced_emf.sce"
		   ]
		  },
  {
"cell_type": "code",
	   "execution_count": null,
	   "metadata": {
	    "collapsed": true
	   },
	   "outputs": [],
"source": [
"//Chapter-9,Example9_3,pg 9_20\n",
"V=220\n",
"Ia=30\n",
"Ra=0.75\n",
"Eb=V-Ia*Ra\n",
"printf('back e.m.f of motor\n')\n",
"printf('Ebb=%.2f V',Eb)"
   ]
   }
,
{
		   "cell_type": "markdown",
		   "metadata": {},
		   "source": [
			"## Example 9.4: calculate_back_emf_and_speed.sce"
		   ]
		  },
  {
"cell_type": "code",
	   "execution_count": null,
	   "metadata": {
	    "collapsed": true
	   },
	   "outputs": [],
"source": [
"//Chapter-9,Example9_4,pg 9_21\n",
"P=4\n",
"A=P\n",
"V=230\n",
"Ra=0.6\n",
"Z=250\n",
"phi=30*10^-3//flux(in Wb)\n",
"Ia=40\n",
"Eb=V-Ia*Ra\n",
"N=Eb*60*A/(phi*P*Z)\n",
"printf('back e.m.f\n')\n",
"printf('Eb=%.f V\n',Eb)\n",
"printf('speed of motor\n')\n",
"printf('N=%.f r.p.m',N)"
   ]
   }
,
{
		   "cell_type": "markdown",
		   "metadata": {},
		   "source": [
			"## Example 9.5: calculate_gross_torque.sce"
		   ]
		  },
  {
"cell_type": "code",
	   "execution_count": null,
	   "metadata": {
	    "collapsed": true
	   },
	   "outputs": [],
"source": [
"//Chapter-9,Example9_5,pg 9_24\n",
"P=4\n",
"A=P\n",
"Z=480\n",
"phi=20*10^-3//flux(in Wb)\n",
"Ia=50\n",
"Ta=0.159*phi*Ia*(P*Z/A)\n",
"printf('gross torque\n')\n",
"printf('Ta=%.3f N',Ta)"
   ]
   }
,
{
		   "cell_type": "markdown",
		   "metadata": {},
		   "source": [
			"## Example 9.6: calculate_induced_emf_and_lost_torque.sce"
		   ]
		  },
  {
"cell_type": "code",
	   "execution_count": null,
	   "metadata": {
	    "collapsed": true
	   },
	   "outputs": [],
"source": [
"//Chapter-9,Example9_6,pg 9_25\n",
"P=4\n",
"A=P\n",
"No=1000//speed of motor\n",
"Z=540\n",
"V=230\n",
"phi=25*10^-3//flux(In Wb)\n",
"Ra=0.8\n",
"Ebo=phi*P*No*Z/(60*A)//induced e.m.f\n",
"Iao=(V-Ebo)/Ra//armature current\n",
"SL=Ebo*Iao//stray losses\n",
"wo=2*%pi*No/60//angular velocity\n",
"Tf=Ebo*Iao/wo//loss torque\n",
"printf('induced e.m.f\n')\n",
"printf('Ebo=%.f V\n',Ebo)\n",
"printf('armature current\n')\n",
"printf('Ia=%.2f A\n',Iao)\n",
"printf('stray losses\n')\n",
"printf('Sl=%.2f W\n',SL)\n",
"printf('loss torque\n')\n",
"printf('Tf=%.3f Nm',Tf)"
   ]
   }
,
{
		   "cell_type": "markdown",
		   "metadata": {},
		   "source": [
			"## Example 9.7: calculate_speed.sce"
		   ]
		  },
  {
"cell_type": "code",
	   "execution_count": null,
	   "metadata": {
	    "collapsed": true
	   },
	   "outputs": [],
"source": [
"//Chapter-9,Example9_7,pg 9_37\n",
"P=4\n",
"Z=200\n",
"V=250\n",
"A=2\n",
"phi=25*10^-3\n",
"Ia=60\n",
"Il=Ia\n",
"Ra=0.15\n",
"Rse=0.2\n",
"Eb=V-Ia*(Ra+Rse)\n",
"N=Eb*60*A/(phi*P*Z)\n",
"printf('speed of motor\n')\n",
"printf('N=%.f r.p.m',N)"
   ]
   }
,
{
		   "cell_type": "markdown",
		   "metadata": {},
		   "source": [
			"## Example 9.8: find_armature_current_and_back_emf.sce"
		   ]
		  },
  {
"cell_type": "code",
	   "execution_count": null,
	   "metadata": {
	    "collapsed": true
	   },
	   "outputs": [],
"source": [
"//Chapter-9,Example9_8,pg 9_38\n",
"V=250\n",
"Il=20\n",
"Ra=0.3\n",
"Rsh=200\n",
"Ish=V/Rsh\n",
"Ia=Il-Ish\n",
"Eb=V-Ia*Ra\n",
"printf('back e.m.f\n')\n",
"printf('Eb=%.3f V',Eb)"
   ]
   }
,
{
		   "cell_type": "markdown",
		   "metadata": {},
		   "source": [
			"## Example 9.9: calculate_speed_on_full_load.sce"
		   ]
		  },
  {
"cell_type": "code",
	   "execution_count": null,
	   "metadata": {
	    "collapsed": true
	   },
	   "outputs": [],
"source": [
"//Chapter-9,Example9_9,pg 9_38\n",
"No=1000\n",
"V=220\n",
"Rsh=110\n",
"Ra=0.3\n",
"Ish=V/Rsh\n",
"Ilo=6\n",
"Iao=Ilo-Ish\n",
"Rao=0.3\n",
"Ebo=V-Iao*Ra\n",
"//on full load\n",
"Il=50\n",
"IaFL=Il-Ish\n",
"EbFL=V-IaFL*Ra\n",
"//N=k*Eb/phi\n",
"NFL=No*EbFL/Ebo\n",
"printf('speed at full load\n')\n",
"printf('NFL=%.3f r.p.m',NFL)"
   ]
   }
],
"metadata": {
		  "kernelspec": {
		   "display_name": "Scilab",
		   "language": "scilab",
		   "name": "scilab"
		  },
		  "language_info": {
		   "file_extension": ".sce",
		   "help_links": [
			{
			 "text": "MetaKernel Magics",
			 "url": "https://github.com/calysto/metakernel/blob/master/metakernel/magics/README.md"
			}
		   ],
		   "mimetype": "text/x-octave",
		   "name": "scilab",
		   "version": "0.7.1"
		  }
		 },
		 "nbformat": 4,
		 "nbformat_minor": 0
}
