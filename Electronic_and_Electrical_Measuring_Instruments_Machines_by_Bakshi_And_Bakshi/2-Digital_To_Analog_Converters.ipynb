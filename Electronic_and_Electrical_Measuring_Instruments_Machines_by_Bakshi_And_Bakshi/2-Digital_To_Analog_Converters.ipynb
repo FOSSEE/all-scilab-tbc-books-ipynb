{
"cells": [
 {
		   "cell_type": "markdown",
	   "metadata": {},
	   "source": [
       "# Chapter 2: Digital To Analog Converters"
	   ]
	},
{
		   "cell_type": "markdown",
		   "metadata": {},
		   "source": [
			"## Example 2.1: design_4_bit_DAC.sce"
		   ]
		  },
  {
"cell_type": "code",
	   "execution_count": null,
	   "metadata": {
	    "collapsed": true
	   },
	   "outputs": [],
"source": [
"\n",
"//Chapter-2,Example2_1,pg 2_9\n",
"Vr=10\n",
"n=4\n",
"Res=0.5//resolution\n",
"Rt=Vr/((2^n)*Res)\n",
"Rf=10*10^3\n",
"R=Rt*Rf\n",
"printf('input resistance\n')\n",
"printf('r=%.2f ohm\n',R)\n",
"printf('feedback resistance\n')\n",
"printf('Rf=%.f ohm',Rf)"
   ]
   }
,
{
		   "cell_type": "markdown",
		   "metadata": {},
		   "source": [
			"## Example 2.2: calculate_resolution.sce"
		   ]
		  },
  {
"cell_type": "code",
	   "execution_count": null,
	   "metadata": {
	    "collapsed": true
	   },
	   "outputs": [],
"source": [
"//Chapter-2,Example2_2,pg 2_11\n",
"n=8\n",
"Res1=2^n\n",
"Vofs=2.55//full scale output voltage\n",
"Res2=Vofs/(Res1-1)\n",
"printf('resolution through method-1\n')\n",
"printf('Res1=%.2f \n',Res1)\n",
"printf('resolution through method-2\n')\n",
"printf('Res2=%.2f \n',Res2)"
   ]
   }
,
{
		   "cell_type": "markdown",
		   "metadata": {},
		   "source": [
			"## Example 2.3: calculate_final_output_voltage.sce"
		   ]
		  },
  {
"cell_type": "code",
	   "execution_count": null,
	   "metadata": {
	    "collapsed": true
	   },
	   "outputs": [],
"source": [
"//Chapter-2,Example2_3,pg 2_12\n",
"n=4\n",
"Vofs=15\n",
"Res=Vofs/((2^n)-1)\n",
"D=bin2dec('0110')//decimal equivalent\n",
"Vo=Res*D\n",
"printf('output voltage\n')\n",
"printf('Vo=%.2f V',Vo)"
   ]
   }
,
{
		   "cell_type": "markdown",
		   "metadata": {},
		   "source": [
			"## Example 2.4: calculate_full_scale_output.sce"
		   ]
		  },
  {
"cell_type": "code",
	   "execution_count": null,
	   "metadata": {
	    "collapsed": true
	   },
	   "outputs": [],
"source": [
"//Chapter-2,Example2_4,pg 2_12\n",
"Res=20*10^-3\n",
"n=8\n",
"Vofs=Res*((2^n)-1)\n",
"D=bin2dec('10000000')\n",
"Vo=Res*D\n",
"printf('output voltage\n')\n",
"printf('Vo=%.2f V\n',Vo)\n",
"printf('full scale output voltage\n')\n",
"printf('Vofs=%.2f V',Vofs)"
   ]
   }
,
{
		   "cell_type": "markdown",
		   "metadata": {},
		   "source": [
			"## Example 2.5: find_step_size_and_analog_output.sce"
		   ]
		  },
  {
"cell_type": "code",
	   "execution_count": null,
	   "metadata": {
	    "collapsed": true
	   },
	   "outputs": [],
"source": [
"//Chapter-2,Example2_5,pg 2_12\n",
"n=4\n",
"Vofs=5\n",
"Res=Vofs/((2^n)-1)\n",
"D1=bin2dec('1000')\n",
"Vo1=Res*D1\n",
"D2=bin2dec('1111')\n",
"Vo2=Res*D2\n",
"printf('output voltage1\n')\n",
"printf('Vo1=%.2f V\n',Vo1)\n",
"printf('output voltage2\n')\n",
"printf('Vo2=%.2f V\n',Vo2)"
   ]
   }
,
{
		   "cell_type": "markdown",
		   "metadata": {},
		   "source": [
			"## Example 2.6: find_output_voltage.sce"
		   ]
		  },
  {
"cell_type": "code",
	   "execution_count": null,
	   "metadata": {
	    "collapsed": true
	   },
	   "outputs": [],
"source": [
"//Chapter-2,Example2_6,pg 2_13\n",
"n=12\n",
"Res=8*10^-3\n",
"Vofs=Res*((2^n)-1)\n",
"perR=Res/Vofs*100\n",
"Vo=Res*bin2dec('010101101101')\n",
"printf('percentage resolution\n')\n",
"printf('perR=%.2f \n',perR)\n",
"printf('output voltage\n')\n",
"printf('Vo=%.2f V',Vo)"
   ]
   }
],
"metadata": {
		  "kernelspec": {
		   "display_name": "Scilab",
		   "language": "scilab",
		   "name": "scilab"
		  },
		  "language_info": {
		   "file_extension": ".sce",
		   "help_links": [
			{
			 "text": "MetaKernel Magics",
			 "url": "https://github.com/calysto/metakernel/blob/master/metakernel/magics/README.md"
			}
		   ],
		   "mimetype": "text/x-octave",
		   "name": "scilab",
		   "version": "0.7.1"
		  }
		 },
		 "nbformat": 4,
		 "nbformat_minor": 0
}
