{
"cells": [
 {
		   "cell_type": "markdown",
	   "metadata": {},
	   "source": [
       "# Chapter 3: Analog To Digital Converters And Digital Voltmeters"
	   ]
	},
{
		   "cell_type": "markdown",
		   "metadata": {},
		   "source": [
			"## Example 3.10: find_resolution_and_display_voltage.sce"
		   ]
		  },
  {
"cell_type": "code",
	   "execution_count": null,
	   "metadata": {
	    "collapsed": true
	   },
	   "outputs": [],
"source": [
"//Chapter-3,Example3_10,pg 3_39\n",
"n=4\n",
"R=1/(10^n)\n",
"//for 10V range\n",
"R=10*R\n",
"printf('12.98 would be displayed as 12.980 for 10V range\n')\n",
"//for 1V range\n",
"R=1*R\n",
"printf('0.6973 would be displayed as 0.6973 for 1V range\n')\n",
"//for 10V range\n",
"printf('0.6973 would be displayed as 0.697 for 10V range\n')"
   ]
   }
,
{
		   "cell_type": "markdown",
		   "metadata": {},
		   "source": [
			"## Example 3.1: find_resolution_and_digital_output.sce"
		   ]
		  },
  {
"cell_type": "code",
	   "execution_count": null,
	   "metadata": {
	    "collapsed": true
	   },
	   "outputs": [],
"source": [
"\n",
"//Chapter-3,Example3_1,pg 3_5\n",
"n=8\n",
"Res1=2^n\n",
"Vifs=5.1\n",
"Res2=Vifs/((2^n)-1)\n",
"Res=Res2*1000//in mv/LSB\n",
"Vi=1.28\n",
"D=Vi/Res2\n",
"str=dec2bin(64)\n",
"printf('Resolution\n')\n",
"printf('Res2=%.f mv/LSB\n',Res)\n",
"printf('digital output voltage \n')\n",
"printf('D=%.f LSBs\n',D)\n",
""
   ]
   }
,
{
		   "cell_type": "markdown",
		   "metadata": {},
		   "source": [
			"## Example 3.2: calculate_quantisation_error.sce"
		   ]
		  },
  {
"cell_type": "code",
	   "execution_count": null,
	   "metadata": {
	    "collapsed": true
	   },
	   "outputs": [],
"source": [
"//Chapter-3,Example3_2,pg 3_6\n",
"Vifs=4.095\n",
"n=12\n",
"Qe=Vifs/(((2^n)-1)*2)\n",
"printf('quantisation error\n')\n",
"printf('Qe=%.5f V',Qe)"
   ]
   }
,
{
		   "cell_type": "markdown",
		   "metadata": {},
		   "source": [
			"## Example 3.3: calculate_time_period.sce"
		   ]
		  },
  {
"cell_type": "code",
	   "execution_count": null,
	   "metadata": {
	    "collapsed": true
	   },
	   "outputs": [],
"source": [
"//Chapter-3,Example3_3,pg 3_10\n",
"V1=100*10^-3\n",
"Vr=100*10^-3\n",
"t1=83.33\n",
"t2=(V1/Vr)*t1\n",
"printf('t2=%.5f ms\n',t2)\n",
"Vi=200*10^-3//input voltage\n",
"t2=(Vi/Vr)*t1\n",
"printf('t2=%.5f ms',t2)"
   ]
   }
,
{
		   "cell_type": "markdown",
		   "metadata": {},
		   "source": [
			"## Example 3.4: find_digital_output.sce"
		   ]
		  },
  {
"cell_type": "code",
	   "execution_count": null,
	   "metadata": {
	    "collapsed": true
	   },
	   "outputs": [],
"source": [
"//Chapter-3,Example3_4,pg 3_10\n",
"fclk=12*10^3//clock frequency\n",
"t1=83.33*10^-3\n",
"V1=100*10^-3\n",
"Vr=100*10^-3\n",
"D=fclk*t1*(V1/Vr)\n",
"printf('digital output\n')\n",
"printf('D=%.f counts',D)"
   ]
   }
,
{
		   "cell_type": "markdown",
		   "metadata": {},
		   "source": [
			"## Example 3.5: find_conversion_time.sce"
		   ]
		  },
  {
"cell_type": "code",
	   "execution_count": null,
	   "metadata": {
	    "collapsed": true
	   },
	   "outputs": [],
"source": [
"//Chapter-3,Example3_5,pg 3_13\n",
"F=1*10^6\n",
"T=1/F\n",
"n=8\n",
"Tc=T*(n+1)\n",
"printf('converstion time\n')\n",
"printf('Tc=%.7f sec',Tc)"
   ]
   }
,
{
		   "cell_type": "markdown",
		   "metadata": {},
		   "source": [
			"## Example 3.6: find_maximum_input_frequency.sce"
		   ]
		  },
  {
"cell_type": "code",
	   "execution_count": null,
	   "metadata": {
	    "collapsed": true
	   },
	   "outputs": [],
"source": [
"//Chapter-3,Example3_6,pg 3_15\n",
"Tc=9*10^-6\n",
"n=8\n",
"fmax=1/(2*%pi*Tc*(2^n))\n",
"printf('maximum input frequency\n')\n",
"printf('fmax=%.2f Hz',fmax)"
   ]
   }
,
{
		   "cell_type": "markdown",
		   "metadata": {},
		   "source": [
			"## Example 3.7: find_resolution.sce"
		   ]
		  },
  {
"cell_type": "code",
	   "execution_count": null,
	   "metadata": {
	    "collapsed": true
	   },
	   "outputs": [],
"source": [
"//Chapter-3,Example3_7,pg 3_37\n",
"n=3//3 full digits\n",
"R=1/(10^n)\n",
"//for 1V range\n",
"Res1=1*R\n",
"//for 50V range\n",
"Res2=50*R\n",
"printf('least diffrence in readings for 50V range\n')\n",
"printf('Res=%.2f V',Res2)"
   ]
   }
,
{
		   "cell_type": "markdown",
		   "metadata": {},
		   "source": [
			"## Example 3.8: find_percentage_error.sce"
		   ]
		  },
  {
"cell_type": "code",
	   "execution_count": null,
	   "metadata": {
	    "collapsed": true
	   },
	   "outputs": [],
"source": [
"\n",
"//Chapter-3,Example3_8,pg 3_38\n",
"n=3\n",
"R=1/(10^n)\n",
"//for 10V range\n",
"R=R*10\n",
"err1=R//1-digit error\n",
"//reading is 5V\n",
"err=(0.5/100)*5//error due to reading\n",
"errt=err1+err//total error\n",
"printf('error when reading is 5V\n')\n",
"printf('errt=%.4f V\n',errt)\n",
"//reading is 0.1V\n",
"err=(0.5/100)*0.1//error due to reading\n",
"errt=err+err1//total error\n",
"errp=(errt/0.1)*100\n",
"printf('percent error when reading is 0.1V\n')\n",
"printf('errp=%.1f ',errp)"
   ]
   }
,
{
		   "cell_type": "markdown",
		   "metadata": {},
		   "source": [
			"## Example 3.9: find_senstivity_of_meter.sce"
		   ]
		  },
  {
"cell_type": "code",
	   "execution_count": null,
	   "metadata": {
	    "collapsed": true
	   },
	   "outputs": [],
"source": [
"//Chapter-3,Example3_9,pg 3_38\n",
"n=4\n",
"fsmin=10*10^-3//full scale value on min. range\n",
"R=1/(10^n)\n",
"S=fsmin*R\n",
"printf('senstivity of meter\n ')\n",
"printf('s=%.7f',S)"
   ]
   }
],
"metadata": {
		  "kernelspec": {
		   "display_name": "Scilab",
		   "language": "scilab",
		   "name": "scilab"
		  },
		  "language_info": {
		   "file_extension": ".sce",
		   "help_links": [
			{
			 "text": "MetaKernel Magics",
			 "url": "https://github.com/calysto/metakernel/blob/master/metakernel/magics/README.md"
			}
		   ],
		   "mimetype": "text/x-octave",
		   "name": "scilab",
		   "version": "0.7.1"
		  }
		 },
		 "nbformat": 4,
		 "nbformat_minor": 0
}
