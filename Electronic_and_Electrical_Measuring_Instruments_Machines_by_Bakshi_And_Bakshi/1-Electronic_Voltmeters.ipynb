{
"cells": [
 {
		   "cell_type": "markdown",
	   "metadata": {},
	   "source": [
       "# Chapter 1: Electronic Voltmeters"
	   ]
	},
{
		   "cell_type": "markdown",
		   "metadata": {},
		   "source": [
			"## Example 1.10: find_calibration_resistance.sce"
		   ]
		  },
  {
"cell_type": "code",
	   "execution_count": null,
	   "metadata": {
	    "collapsed": true
	   },
	   "outputs": [],
"source": [
"//Chapter-1,Example1_10,pg 1_41\n",
"rd=200*10^3\n",
"gm=0.004\n",
"Rs=40*10^3\n",
"Rm=1000\n",
"V1=1\n",
"rdf=rd/(1+gm*rd)//actual rd\n",
"Rth=(2*Rs*rdf/(Rs+rdf))\n",
"Vo=(gm*rdf*Rs)*V1/(rdf+Rs)\n",
"Im=50*10^-6\n",
"Rcal=(Vo/Im)-Rth-Rm//caliberation resistance\n",
"printf('caliberation resistance\n')\n",
"printf('Rcal=%.2f ohm',Rcal)"
   ]
   }
,
{
		   "cell_type": "markdown",
		   "metadata": {},
		   "source": [
			"## Example 1.11: design_FET_voltmeter.sce"
		   ]
		  },
  {
"cell_type": "code",
	   "execution_count": null,
	   "metadata": {
	    "collapsed": true
	   },
	   "outputs": [],
"source": [
"//Chapter-1,Example1_11,pg 1_42\n",
"Vin=3\n",
"V1=1\n",
"Rin=1*10^6//input resistance of FET\n",
"R4=Rin/100//for Vin=100V\n",
"R3=(Rin-30*R4)/30//for Vin=30V\n",
"R2=(Rin-3*R3-3*R4)/3//for Vin=3V\n",
"R1=Rin-R2-R3-R4\n",
"printf('Resistances are\n')\n",
"printf('R1=%.2f ohm\n',R1)\n",
"printf('R2=%.2f ohm\n',R2)\n",
"printf('R3=%.2f ohm\n',R3)\n",
"printf('R4=%.2f ohm',R4)"
   ]
   }
,
{
		   "cell_type": "markdown",
		   "metadata": {},
		   "source": [
			"## Example 1.1: calculate_multiplier_resistance.sce"
		   ]
		  },
  {
"cell_type": "code",
	   "execution_count": null,
	   "metadata": {
	    "collapsed": true
	   },
	   "outputs": [],
"source": [
"//Chapter-1,Example1_1,pg 1_17\n",
"Erms=10\n",
"Ep=sqrt(2)*Erms\n",
"Eav=0.6*Ep\n",
"E=Eav/2\n",
"Edc=0.45*Erms\n",
"Idc=1*10^-3\n",
"Rm=200\n",
"Rs=(Edc/Idc)-Rm\n",
"printf('required multiplier resistance')\n",
"printf('Rs=%.2f ohm \n',Rs )"
   ]
   }
,
{
		   "cell_type": "markdown",
		   "metadata": {},
		   "source": [
			"## Example 1.2: calculate_multiplier_resistance.sce"
		   ]
		  },
  {
"cell_type": "code",
	   "execution_count": null,
	   "metadata": {
	    "collapsed": true
	   },
	   "outputs": [],
"source": [
"//Chapter-1,Example1_2,pg 1_18\n",
"Eav=9\n",
"Erms=10\n",
"Rm=500\n",
"Idc=2*10^-3\n",
"Edc=0.9*Erms\n",
"Rs=(Edc/Idc)-Rm\n",
"printf('required multiplier resistance')\n",
"printf('Rs=%.2f ohm \n',Rs )"
   ]
   }
,
{
		   "cell_type": "markdown",
		   "metadata": {},
		   "source": [
			"## Example 1.3: calculate_form_factor_and_error.sce"
		   ]
		  },
  {
"cell_type": "code",
	   "execution_count": null,
	   "metadata": {
	    "collapsed": true
	   },
	   "outputs": [],
"source": [
"//Chapter-1,Example1_3,pg 1_20\n",
"Kf=1//Erms=Em for 1 time period\n",
"Kf1=1.11//Kf(sine)/Kf(square)\n",
"pere=(Kf-Kf1)/Kf*100//percentage error\n",
"printf('percentage error ')\n",
"printf('pere=%.2f ',pere)"
   ]
   }
,
{
		   "cell_type": "markdown",
		   "metadata": {},
		   "source": [
			"## Example 1.4: calculate_percentage_error.sce"
		   ]
		  },
  {
"cell_type": "code",
	   "execution_count": null,
	   "metadata": {
	    "collapsed": true
	   },
	   "outputs": [],
"source": [
"//Chapter-1,Example1_4,pg 1_20\n",
"A=50\n",
"T=2\n",
"function E=f(t),E=(50*t)^2,endfunction//e=At(ramp function)\n",
"exact=-2.5432596188;\n",
"I=intg(0,T,f)\n",
"abs(exact-I)\n",
"Erms=sqrt((1/T)*I)\n",
"function e=f1(t),e=50*t,//e=At(ramp function)\n",
"endfunction\n",
"exact=-2.5432596188;\n",
"I1=intg(0,T,f)\n",
"Eav=(1/T)*I1\n",
"Kf=Erms/Eav\n",
"kf1=0.961//Kf(sine)/Kf(sawtooth)\n",
"pere=(1-kf1)/1*100//percentage error\n",
"printf('percentage error ')\n",
"printf('pere=%.2f ',pere)"
   ]
   }
,
{
		   "cell_type": "markdown",
		   "metadata": {},
		   "source": [
			"## Example 1.5: calculate_series_resistance.sce"
		   ]
		  },
  {
"cell_type": "code",
	   "execution_count": null,
	   "metadata": {
	    "collapsed": true
	   },
	   "outputs": [],
"source": [
"//Chapter-1,Example1_5,pg 1_27\n",
"Idc=25*10^-3\n",
"Erms=200\n",
"Rm=100\n",
"Rf=500\n",
"Rd=2*Rf\n",
"Rm1=Rm+Rd//total meter resistance\n",
"Rs=(0.9*Erms)/Idc-Rm1\n",
"printf('total meter resistance')\n",
"printf('Rs=%.2f ohm',Rs)"
   ]
   }
,
{
		   "cell_type": "markdown",
		   "metadata": {},
		   "source": [
			"## Example 1.6: calculate_meter_current.sce"
		   ]
		  },
  {
"cell_type": "code",
	   "execution_count": null,
	   "metadata": {
	    "collapsed": true
	   },
	   "outputs": [],
"source": [
"//Chapter-1,Example1_6,pg 1_38\n",
"V1=2\n",
"Rm=50\n",
"Rd=15*10^3\n",
"gm=0.006\n",
"rd=100*10^3\n",
"Im=(gm*rd*Rd/(rd+Rd)*V1)/((2*(rd*Rd/(rd+Rd))+Rm))\n",
"printf('meter current')\n",
"printf('Im=%.4f A',Im)"
   ]
   }
,
{
		   "cell_type": "markdown",
		   "metadata": {},
		   "source": [
			"## Example 1.7: calibrate_meter.sce"
		   ]
		  },
  {
"cell_type": "code",
	   "execution_count": null,
	   "metadata": {
	    "collapsed": true
	   },
	   "outputs": [],
"source": [
"//Chapter-1,Example1_7,pg 1_38\n",
"V1=1\n",
"Rm=50\n",
"Rd=15*10^3\n",
"gm=0.006\n",
"rd=100*10^3\n",
"Im=(gm*rd*Rd/(rd+Rd)*V1)/((2*(rd*Rd/(rd+Rd))+Rm))\n",
"printf('meter current')\n",
"printf('Im=%.4f A',Im)"
   ]
   }
,
{
		   "cell_type": "markdown",
		   "metadata": {},
		   "source": [
			"## Example 1.8: design_FET_voltmeter.sce"
		   ]
		  },
  {
"cell_type": "code",
	   "execution_count": null,
	   "metadata": {
	    "collapsed": true
	   },
	   "outputs": [],
"source": [
"//Chapter-1,Example1_8,pg 1_39\n",
"V1=1\n",
"Vin=30\n",
"Rin=9*10^6\n",
"R4=Rin/100//for Vin=100V\n",
"R3=(Rin-50*R4)/50//for Vin=50V\n",
"R2=(Rin-30*R3-30*R4)/30//for Vin=30V\n",
"R1=Rin-R2-R3-R4\n",
"printf('resitance values are\n')\n",
"printf('R1=%.2f ohm\n',R1)\n",
"printf('R2=%.2f ohm\n',R2)\n",
"printf('R3=%.2f ohm\n',R3)\n",
"printf('R4=%.2f ohm\n',R4)"
   ]
   }
,
{
		   "cell_type": "markdown",
		   "metadata": {},
		   "source": [
			"## Example 1.9: calculate_series_resistance.sce"
		   ]
		  },
  {
"cell_type": "code",
	   "execution_count": null,
	   "metadata": {
	    "collapsed": true
	   },
	   "outputs": [],
"source": [
"//Chapter-1,Example1_9,pg 1_40\n",
"rd=10*10^3\n",
"gm=0.003\n",
"rdf=rd/(1+gm*rd)//actual rd\n",
"Rs=15*10^3\n",
"V1=1//input voltage\n",
"Vo=(gm*rdf*Rs)*V1/(rdf+Rs)\n",
"Rth=(2*Rs*rdf/(Rs+rdf))\n",
"Rm=1800\n",
"Im=Vo/(Rth+Rm)\n",
"Img=0.1*10^-3//meter current given\n",
"Rf=(Vo/Img)-Rth-Rm//series resistance\n",
"printf('current Im=%.5f A\n',Im)\n",
"printf('seires resistance\n')\n",
"printf('Rf=%.2f ohm\n',Rf)"
   ]
   }
],
"metadata": {
		  "kernelspec": {
		   "display_name": "Scilab",
		   "language": "scilab",
		   "name": "scilab"
		  },
		  "language_info": {
		   "file_extension": ".sce",
		   "help_links": [
			{
			 "text": "MetaKernel Magics",
			 "url": "https://github.com/calysto/metakernel/blob/master/metakernel/magics/README.md"
			}
		   ],
		   "mimetype": "text/x-octave",
		   "name": "scilab",
		   "version": "0.7.1"
		  }
		 },
		 "nbformat": 4,
		 "nbformat_minor": 0
}
