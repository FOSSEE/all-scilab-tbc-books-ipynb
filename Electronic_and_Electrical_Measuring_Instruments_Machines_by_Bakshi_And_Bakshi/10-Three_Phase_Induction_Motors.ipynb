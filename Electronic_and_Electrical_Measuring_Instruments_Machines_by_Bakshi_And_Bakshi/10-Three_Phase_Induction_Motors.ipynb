{
"cells": [
 {
		   "cell_type": "markdown",
	   "metadata": {},
	   "source": [
       "# Chapter 10: Three Phase Induction Motors"
	   ]
	},
{
		   "cell_type": "markdown",
		   "metadata": {},
		   "source": [
			"## Example 10.10: calculate_external_resistance.sce"
		   ]
		  },
  {
"cell_type": "code",
	   "execution_count": null,
	   "metadata": {
	    "collapsed": true
	   },
	   "outputs": [],
"source": [
"//Chapter-10,Example10_10,pg10_36\n",
"R2=0.04\n",
"X2=0.2\n",
"//for Tm=Tst, sm=1\n",
"R21=X2\n",
"Rex=R2-R21\n",
"//for Tst=Tm/2........(1)\n",
"//Tst=k*(E2^2)*R21/((R21^2)+(X2^2))......(2)with added resistance\n",
"//from (1) and (2)\n",
"//(R21^2)-0.8*R21+0.04=0\n",
"a=1\n",
"b=-0.8\n",
"c=0.04\n",
"R21=(-b-sqrt((b^2)-4*a*c))/(2*a)//neglecting higher value\n",
"Rex=R21-R2\n",
"printf('external resistance\n')\n",
"printf('Rex=%.4f ohm per phase',Rex)"
   ]
   }
,
{
		   "cell_type": "markdown",
		   "metadata": {},
		   "source": [
			"## Example 10.11: calculate_rotor_copper_loss.sce"
		   ]
		  },
  {
"cell_type": "code",
	   "execution_count": null,
	   "metadata": {
	    "collapsed": true
	   },
	   "outputs": [],
"source": [
"//Chapter-10,Example10_11,pg10_42\n",
"Tsh=190\n",
"P=8\n",
"f=50\n",
"fr=1.5\n",
"ML=700\n",
"s=fr/f\n",
"Ns=120*f/P\n",
"N=Ns*(1-s)\n",
"Po=Tsh*(2*%pi*N/60)\n",
"Pm=Po+ML\n",
"Pc=Pm*s/(1-s)\n",
"printf('rotor copper loss\n')\n",
"printf('Pc=%.3f W',Pc)"
   ]
   }
,
{
		   "cell_type": "markdown",
		   "metadata": {},
		   "source": [
			"## Example 10.12: calculate_full_load_efficiency.sce"
		   ]
		  },
  {
"cell_type": "code",
	   "execution_count": null,
	   "metadata": {
	    "collapsed": true
	   },
	   "outputs": [],
"source": [
"//Chapter-10,Example10_12,pg10_43\n",
"P=4\n",
"f=50\n",
"Pi=50*10^3\n",
"N=1440\n",
"Sl=1000\n",
"Fl=650\n",
"Ns=120*f/P\n",
"s=(Ns-N)/Ns\n",
"P2=Pi-Sl\n",
"Pc=s*P2\n",
"Pm=P2-Pc\n",
"Po=Pm-Fl\n",
"n=Po*100/Pi\n",
"printf('full load efficiency\n')\n",
"printf('n=%.2f',n)"
   ]
   }
,
{
		   "cell_type": "markdown",
		   "metadata": {},
		   "source": [
			"## Example 10.13: calculate_slip_and_rotor_resistance_per_phase.sce"
		   ]
		  },
  {
"cell_type": "code",
	   "execution_count": null,
	   "metadata": {
	    "collapsed": true
	   },
	   "outputs": [],
"source": [
"//Chapter-10,Example10_13,pg10_44\n",
"P=4\n",
"f=50\n",
"Tsh=300\n",
"Tlost=50\n",
"fr=120/60//Hz\n",
"s=fr/f\n",
"s=s*100\n",
"printf('slip s=%.f \n',s)\n",
"Ns=120*f/P\n",
"s=s/100\n",
"N=Ns*(1-s)\n",
"Po=Tsh*2*%pi*N/60\n",
"Fl=Tlost*2*%pi*N/60\n",
"Pm=Po+Fl\n",
"Pc=Pm*s/(1-s)\n",
"Rcl=Pc/3//rotor copper loss per phase\n",
"P2=Pc/s\n",
"n=Pm*100/P2\n",
"I2r=60\n",
"R2=Rcl/(I2r^2)\n",
"printf('net output power\n')\n",
"printf('Po=%.3f W\n',Po)\n",
"printf('rotor copper loss per phase\n')\n",
"printf('Rcl=%.3f W\n',Rcl)\n",
"printf('rotor efficiency\n')\n",
"printf('n=%.2f \n',n)\n",
"printf('rotor resistance per phase\n')\n",
"printf('R2=%.4f ohm/ph',R2)"
   ]
   }
,
{
		   "cell_type": "markdown",
		   "metadata": {},
		   "source": [
			"## Example 10.14: calculate_gross_mechanical_power_and_efficiency.sce"
		   ]
		  },
  {
"cell_type": "code",
	   "execution_count": null,
	   "metadata": {
	    "collapsed": true
	   },
	   "outputs": [],
"source": [
"//Chapter-10,Example10_14,pg10_45\n",
"Po=25*10^3\n",
"f=50\n",
"P=4\n",
"Ns=120*f/P\n",
"N=1410\n",
"s=(Ns-N)/Ns\n",
"Ml=850\n",
"Pm=Po+Ml\n",
"Pc=Pm*s/(1-s)\n",
"I2r=65\n",
"R2=Pc/(3*(I2r^2))\n",
"Sl=1.7*Pc\n",
"P2=Pc/s\n",
"Pin=P2+Sl\n",
"n=Po*100/Pin\n",
"printf('gross mechanical power\n')\n",
"printf('Pm=%.f W\n',Pm)\n",
"printf('rotor copper losses\n')\n",
"printf('Pc=%.f W\n',Pc)\n",
"printf('rotor resistance per phase\n')\n",
"printf('R2=%.3f ohm/ph\n',R2)\n",
"printf('full load efficiency\n')\n",
"printf('n=%.2f',n)"
   ]
   }
,
{
		   "cell_type": "markdown",
		   "metadata": {},
		   "source": [
			"## Example 10.15: calculate_shaft_torque_and_full_load_efficiency.sce"
		   ]
		  },
  {
"cell_type": "code",
	   "execution_count": null,
	   "metadata": {
	    "collapsed": true
	   },
	   "outputs": [],
"source": [
"//Chapter-10,Example10_15,pg10_47\n",
"Po=24*10^3\n",
"Il=57\n",
"Is=Il\n",
"P=8\n",
"N=720\n",
"f=50\n",
"Vl=415\n",
"pf=0.707\n",
"Ns=120*f/P\n",
"s=(Ns-N)/Ns\n",
"Ml=1000\n",
"Pm=Po+Ml\n",
"Pc=Pm*s/(1-s)\n",
"Tsh=Po*60/(2*%pi*N)\n",
"T=Pm*60/(2*%pi*N)\n",
"Rcl=1041.66//rotor copper loss\n",
"P2=Pc/s\n",
"Pi=sqrt(3)*Vl*Il*pf\n",
"Rs=0.1\n",
"Scl=3*(Is^2)*Rs//stator copper loss\n",
"Sl=Pi-P2\n",
"Sil=Sl-Scl//stator iron loss\n",
"n=Po*100/Pi\n",
"printf('shaft torque\n')\n",
"printf('Tsh=%.3f N-m\n',Tsh)\n",
"printf('gross torque \n')\n",
"printf('T=%.3f N-m\n',T)\n",
"printf('rotor copper losses\n')\n",
"printf('Pc=%.2f W\n',Pc)\n",
"printf('stator copper losses\n')\n",
"printf('Scl=%.2f W\n',Scl)\n",
"printf('stator iron losses\n')\n",
"printf('Sil=%.2f W\n',Sil)\n",
"printf('overallefficiency\n')\n",
"printf('n=%.2f',n)"
   ]
   }
,
{
		   "cell_type": "markdown",
		   "metadata": {},
		   "source": [
			"## Example 10.16: calculate_tapping_and_supply_start_current.sce"
		   ]
		  },
  {
"cell_type": "code",
	   "execution_count": null,
	   "metadata": {
	    "collapsed": true
	   },
	   "outputs": [],
"source": [
"//Chapter-10,Example10_16,pg10_52\n",
"sf=0.05\n",
"//Tst=Tfl\n",
"Ifs=1/6//Isc/Ifl=6\n",
"x=sqrt((Ifs^2)/sf)//tapping on transformer\n",
"t=x*100\n",
"Ist=(x^2)*6\n",
"printf('supply current\n')\n",
"printf('Ist=%.2f times Ifl',Ist)"
   ]
   }
,
{
		   "cell_type": "markdown",
		   "metadata": {},
		   "source": [
			"## Example 10.17: determine_ratios_of_torques.sce"
		   ]
		  },
  {
"cell_type": "code",
	   "execution_count": null,
	   "metadata": {
	    "collapsed": true
	   },
	   "outputs": [],
"source": [
"//Chapter-10,Example10_17,pg10_54\n",
"R2=0.4\n",
"X2=4\n",
"//Tm=k*(E2^2)/(2*X2)\n",
"//Tfl=Tm/2.5\n",
"//Tfl=k*(E2^2)/20\n",
"//Tst=k*(E2^2)*R2/((R2^2)+(X2^2))\n",
"//E2=E2/sqrt(3)\n",
"T=20*R2/(3*(((R2^2)+(X2^2))))\n",
"printf('ratio of starting torque to full load torque\n')\n",
"printf('T=%.3f ',T)"
   ]
   }
,
{
		   "cell_type": "markdown",
		   "metadata": {},
		   "source": [
			"## Example 10.18: calculate_rotor_current_and_external_resistance.sce"
		   ]
		  },
  {
"cell_type": "code",
	   "execution_count": null,
	   "metadata": {
	    "collapsed": true
	   },
	   "outputs": [],
"source": [
"\n",
"//Chapter-10,Example10_18,pg10_57\n",
"Vl=1000\n",
"f=50\n",
"K=3.6\n",
"R2=0.01\n",
"X2=0.2\n",
"E1line=1000\n",
"E1=E1line/sqrt(3)\n",
"E2=E1/K\n",
"//at start,s=1\n",
"I2=160.37/sqrt((R2^2)+(X2^2))\n",
"pf=R2/sqrt((R2^2)+(X2^2))\n",
"printf('rotor current at start\n')\n",
"printf('I2=%.2f A\n',I2)\n",
"printf('rotor power factor\n')\n",
"printf('pf=%.3f lagging (answer in book is wrong)\n',pf)\n",
"//at s=0.03\n",
"s=0.03\n",
"I2r=s*160.37/sqrt((R2^2)+((s*X2)^2))\n",
"printf('rotor current at slip 0.03\n')\n",
"printf('I2r=%.2f A\n',I2r)\n",
"I2=200\n",
"R21=sqrt(((E2/I2)^2)-(X2^2))\n",
"Rex=R21-R2\n",
"printf('external resistance \n')\n",
"printf('Rex=%.4f ohm/ph (answer in book is wrong)',Rex)"
   ]
   }
,
{
		   "cell_type": "markdown",
		   "metadata": {},
		   "source": [
			"## Example 10.19: calculate_starting_torque_and_speed.sce"
		   ]
		  },
  {
"cell_type": "code",
	   "execution_count": null,
	   "metadata": {
	    "collapsed": true
	   },
	   "outputs": [],
"source": [
"//Chapter-10,Example10_19,pg10_58\n",
"P=12\n",
"f=50\n",
"R2=0.15\n",
"X2=0.25\n",
"E2=32\n",
"Ns=120*f/P\n",
"ns=Ns/60\n",
"Tst=3*(E2^2)*R2/((2*%pi*ns)*((R2^2)+(X2^2)))\n",
"N=480\n",
"s=(Ns-N)/Ns\n",
"Tfl=3*s*(E2^2)*R2/((2*%pi*ns)*((R2^2)+((s*X2)^2)))\n",
"Tm=3*(E2^2)/(2*%pi*ns*2*X2)\n",
"sm=R2/X2\n",
"N=Ns*(1-sm)\n",
"printf('starting torque\n')\n",
"printf('Tst=%.2f Nm\n',Tst)\n",
"printf('full load torque\n')\n",
"printf('Tfl=%.3f Nm\n',Tfl)\n",
"printf('maximum torque\n')\n",
"printf('Tm=%.3f Nm\n',Tm)\n",
"printf('speed at max torque\n')\n",
"printf('N=%.f r.p.m',N)"
   ]
   }
,
{
		   "cell_type": "markdown",
		   "metadata": {},
		   "source": [
			"## Example 10.1: calculate_full_load_slip.sce"
		   ]
		  },
  {
"cell_type": "code",
	   "execution_count": null,
	   "metadata": {
	    "collapsed": true
	   },
	   "outputs": [],
"source": [
"//Chapter-10,Example10_1,pg10_14\n",
"P=4\n",
"f=50\n",
"N=1410\n",
"Ns=120*f/P\n",
"s=(Ns-N)/Ns\n",
"s=s*100//%s\n",
"printf('full load slip\n')\n",
"printf('s=%.f ',s)"
   ]
   }
,
{
		   "cell_type": "markdown",
		   "metadata": {},
		   "source": [
			"## Example 10.20: calculate_efficiency_on_full_load.sce"
		   ]
		  },
  {
"cell_type": "code",
	   "execution_count": null,
	   "metadata": {
	    "collapsed": true
	   },
	   "outputs": [],
"source": [
"//Chapter-10,Example10_20,pg10_59\n",
"Po=50*735.5//(in W)\n",
"s=0.04\n",
"//Rcl=X...............rotor copper loss\n",
"//Sil=1.25X...........stator iron loss\n",
"//Ml=Y, Y=(Y+1.25X)/3, Y=0.625X\n",
"//TL=Sil+Rcl+Scl+Ml, TL=3.875X.........(a)\n",
"//Pm=Po+Y, 36775+625X..........(1)\n",
"//Pc=Pm*s/(1-s).............(2)\n",
"//Pc=X, from (1) and (2)\n",
"X=(s*Po)/(1-s-s*0.625)\n",
"TL=3.875*X//from (a)\n",
"n=Po*100/(Po+TL)\n",
"printf('efficiency on full load\n')\n",
"printf('n=%.2f ',n)"
   ]
   }
,
{
		   "cell_type": "markdown",
		   "metadata": {},
		   "source": [
			"## Example 10.21: calculate_new_speed.sce"
		   ]
		  },
  {
"cell_type": "code",
	   "execution_count": null,
	   "metadata": {
	    "collapsed": true
	   },
	   "outputs": [],
"source": [
"//Chapter-10,Example10_21,pg10_61\n",
"P=4\n",
"f=50\n",
"R2=0.25\n",
"X2=0.55\n",
"Ns=120*f/P\n",
"N1=1440\n",
"s1=(Ns-N1)/Ns\n",
"Rex=0.2\n",
"R21=R2+Rex\n",
"//T1 at s1=T2 at s2\n",
"//0.3025*s2^2-2.8342*s2+0.2025=0, s1=0.04\n",
"a=0.3025\n",
"b=-2.8342\n",
"c=0.2025\n",
"s2=(-b-sqrt((b^2)-4*a*c))/(2*a)//neglecting higher value\n",
"N2=Ns*(1-s2)\n",
"printf('new speed of motor\n')\n",
"printf('N2=%.f r.p.m',N2)"
   ]
   }
,
{
		   "cell_type": "markdown",
		   "metadata": {},
		   "source": [
			"## Example 10.22: find_rotor_current_and_rotor_emf_per_phase.sce"
		   ]
		  },
  {
"cell_type": "code",
	   "execution_count": null,
	   "metadata": {
	    "collapsed": true
	   },
	   "outputs": [],
"source": [
"//Chapter-10,Example10_22,pg10_62\n",
"E2line=50\n",
"R2=0.5\n",
"X2=3\n",
"E2=E2line/sqrt(3)\n",
"//at start\n",
"s=1\n",
"I2r=s*E2/(sqrt((R2^2)+((s*X2)^2)))\n",
"printf('rotor current atstart\n')\n",
"printf('I2r=%.3f A\n',I2r)\n",
"Rx=6\n",
"I2r=s*E2/(sqrt(((R2+Rx)^2)+((s*X2)^2)))\n",
"printf('rotor current for rheostat of 6 ohm\n')\n",
"printf('I2r=%.3f A\n',I2r)\n",
"//at full load\n",
"s=0.04\n",
"I2r=s*E2/(sqrt((R2^2)+((s*X2)^2)))\n",
"pf=R2/(sqrt((R2^2)+((s*X2)^2)))\n",
"printf('full load rotor current\n')\n",
"printf('I2r=%.3f A\n',I2r)\n",
"printf('full load power factor\n')\n",
"printf('pf=%.3f lagging\n',pf)\n",
"E2r=s*E2\n",
"printf('rotor e.m.f on full load\n')\n",
"printf('E2r=%.3f V',E2r)"
   ]
   }
,
{
		   "cell_type": "markdown",
		   "metadata": {},
		   "source": [
			"## Example 10.23: calculate_starting_torque_and_speed.sce"
		   ]
		  },
  {
"cell_type": "code",
	   "execution_count": null,
	   "metadata": {
	    "collapsed": true
	   },
	   "outputs": [],
"source": [
"//Chapter-10,Example10_23,pg10_63\n",
"P=12\n",
"f=50\n",
"R2=0.15\n",
"X2=0.25\n",
"E2=32\n",
"Ns=120*f/P\n",
"ns=Ns/60\n",
"k=3\n",
"Tst=k*(E2^2)*R2/((2*%pi*ns)*((R2^2)+(X2^2)))\n",
"N=480\n",
"s=(Ns-N)/Ns\n",
"Tfl=k*s*(E2^2)*R2/((2*%pi*ns)*((R2^2)+((s*X2)^2)))\n",
"Tm=k*(E2^2)/(2*%pi*ns*2*X2)\n",
"sm=R2/X2\n",
"N=Ns*(1-sm)\n",
"printf('starting torque\n')\n",
"printf('Tst=%.2f Nm\n',Tst)\n",
"printf('full load torque\n')\n",
"printf('Tfl=%.3f Nm\n',Tfl)\n",
"printf('maximum torque\n')\n",
"printf('Tm=%.3f Nm\n',Tm)\n",
"printf('speed at max torque\n')\n",
"printf('N=%.f r.p.m',N)"
   ]
   }
,
{
		   "cell_type": "markdown",
		   "metadata": {},
		   "source": [
			"## Example 10.24: calculate_full_load_torque_and_external_resistance.sce"
		   ]
		  },
  {
"cell_type": "code",
	   "execution_count": null,
	   "metadata": {
	    "collapsed": true
	   },
	   "outputs": [],
"source": [
"//Chapter-10,Example10_24,pg10_64\n",
"P=4\n",
"f=50\n",
"R2=0.4\n",
"X2=2\n",
"E2b=520//between slip rings\n",
"E2ph=E2b/sqrt(3)\n",
"Ns=120*f/P\n",
"N=1425\n",
"sf=(Ns-N)/Ns\n",
"ns=Ns/60\n",
"Tfl=3*sf*(E2ph^2)*R2/((2*%pi*ns)*((R2^2)+((sf*X2)^2)))\n",
"Tst=3*(E2ph^2)*R2/((2*%pi*ns)*((R2^2)+((X2)^2)))\n",
"T=Tst/Tfl\n",
"Tm=3*(E2ph^2)/((2*%pi*ns)*((R2^2)+((X2)*2)))\n",
"T1=Tm/Tfl\n",
"//at start\n",
"sm=1\n",
"R21=X2\n",
"Rex=R21-R2\n",
"printf('full load torque\n')\n",
"printf('Tfl=%.2f Nm\n',Tfl)\n",
"printf('ratio of Tst to Tfl\n')\n",
"printf('T=%.4f \n',T)\n",
"printf('ratio of Tm to Tfl\n')\n",
"printf('T1=%.4f \n',T1)\n",
"printf('external resistance required\n')\n",
"printf('Rex=%.2f ohm/ph',Rex)"
   ]
   }
,
{
		   "cell_type": "markdown",
		   "metadata": {},
		   "source": [
			"## Example 10.25: calculate_slip_and_line_current.sce"
		   ]
		  },
  {
"cell_type": "code",
	   "execution_count": null,
	   "metadata": {
	    "collapsed": true
	   },
	   "outputs": [],
"source": [
"//Chapter-10,Example10_25,pg10_65\n",
"Po=33.73*10^3\n",
"P=4\n",
"Vl=400\n",
"f=50\n",
"Nfl=1440\n",
"pf=0.8\n",
"Ml=1.3*10^3\n",
"Ns=120*f/P\n",
"s=(Ns-Nfl)/Ns\n",
"fr=s*f\n",
"Pm=Po+Ml\n",
"Pc=Pm*s/(1-s)\n",
"Pcp=Pc/3//copper loss per phase\n",
"P2=Pc/s\n",
"Sl=1.4*10^3\n",
"Pi=P2+Sl\n",
"n=Po*100/Pi\n",
"Il=Pi/(sqrt(3)*Vl*pf)\n",
"printf('slip at full load\n')\n",
"printf('s=%.3f \n',s)\n",
"printf('rotor frequency\n')\n",
"printf('fr=%.f Hz\n',fr)\n",
"printf('rotor copper loss per phase\n')\n",
"printf('Pcp=%.2f W\n',Pcp)\n",
"printf('total copper loss\n')\n",
"printf('Pc=%.2f W\n',Pc)\n",
"printf('efficiency at full load\n')\n",
"printf('n=%.2f \n',n)\n",
"printf('line current drawn\n')\n",
"printf('Il=%.3f A\n',Il)"
   ]
   }
,
{
		   "cell_type": "markdown",
		   "metadata": {},
		   "source": [
			"## Example 10.26: find_power_factor_of_rotor.sce"
		   ]
		  },
  {
"cell_type": "code",
	   "execution_count": null,
	   "metadata": {
	    "collapsed": true
	   },
	   "outputs": [],
"source": [
"//Chapter-10,Example10_26,pg10_66\n",
"R2=0.04\n",
"X2=0.2\n",
"sfl=0.03\n",
"//at Tst, s=1\n",
"//Tfl=Tst\n",
"//(R21^2)-1.3633*R21+0.04=0\n",
"a=1\n",
"b=-1.3633\n",
"c=0.04\n",
"R21=(-b+sqrt((b^2)-4*a*c))/(2*a)\n",
"Rex=R21-R2\n",
"pf=R21/sqrt((R21^2)+(X2^2))\n",
"printf('power factor of rotor\n')\n",
"printf('pf=%.3f lagging',pf)"
   ]
   }
,
{
		   "cell_type": "markdown",
		   "metadata": {},
		   "source": [
			"## Example 10.27: determine_full_load_speed_and_speed_at_max_torque.sce"
		   ]
		  },
  {
"cell_type": "code",
	   "execution_count": null,
	   "metadata": {
	    "collapsed": true
	   },
	   "outputs": [],
"source": [
"//Chapter-10,Example10_27,pg10_67\n",
"P=4\n",
"f=50\n",
"Po=8*10^3\n",
"//Tst=1.5*Tfl and Tm=2*Tfl\n",
"//(R2^2)+((sfl*X2)^2)=1.5*sfl*((R2^2)+(X2^2)).................(1)\n",
"//(R2^2)+((sfl*X2)^2)=2*(sfl/sm)*((R2^2)+((sm*X2)^2))..........(2)\n",
"//dividing (1) and (2) by (X2^2) on both sides and R2/X2=sm\n",
"//(sm^2)+(sfl^2)=5*(1+(sm^2))*sfl.............(3)\n",
"//(sm^2)+(sfl^2)=2*(2*(sm^2))*(sfl/sm)=4*sm*sfl...........(4)\n",
"//dividing (3) by (4)\n",
"//(sm^2)-2.667*sm+1=0\n",
"a=1\n",
"b=-2.667\n",
"c=1\n",
"sm=(-b-sqrt((b^2)-4*a*c))/(2*a)\n",
"Ns=120*f/P\n",
"//substituting sm in (4)\n",
"//(sfl^2)-1.8052*sfl+0.2036=0\n",
"a=1\n",
"b=-1.8052\n",
"c=0.2036\n",
"sfl=(-b-sqrt((b^2)-4*a*c))/(2*a)\n",
"N=Ns*(1-sfl)\n",
"Nm=Ns*(1-sm)\n",
"printf('full load speed\n')\n",
"printf('N=%.2f r.p.m\n',N)\n",
"printf('speed at max. torque\n')\n",
"printf('Nm=%.2f r.p.m\n',Nm)"
   ]
   }
,
{
		   "cell_type": "markdown",
		   "metadata": {},
		   "source": [
			"## Example 10.28: calculate_starting_torque.sce"
		   ]
		  },
  {
"cell_type": "code",
	   "execution_count": null,
	   "metadata": {
	    "collapsed": true
	   },
	   "outputs": [],
"source": [
"//Chapter-10,Example10_28,pg10_68\n",
"Po=10*735.5//(in W)\n",
"Nfl=1410\n",
"P=4\n",
"f=50\n",
"Ns=120*f/P\n",
"sfl=(Ns-Nfl)/Ns\n",
"Nm=1200\n",
"sm=(Ns-Nm)/Ns\n",
"T=2*sfl*sm/((sm^2)+(sfl^2))//Tfl/Tm\n",
"T1=(1+(sm^2))/(2*sm)//Tm/Tst\n",
"T2=T1*T//Tfl/Tst\n",
"Tfl=Po*60/(2*%pi*Nfl)\n",
"Tst=Tfl/T2\n",
"printf('starting torque\n')\n",
"printf('Tst=%.2f Nm',Tst)"
   ]
   }
,
{
		   "cell_type": "markdown",
		   "metadata": {},
		   "source": [
			"## Example 10.29: calculate_speed_torque_and_external_resistance.sce"
		   ]
		  },
  {
"cell_type": "code",
	   "execution_count": null,
	   "metadata": {
	    "collapsed": true
	   },
	   "outputs": [],
"source": [
"//Chapter-10,Example10_29,pg10_70\n",
"P=4\n",
"f=50\n",
"R2=0.025\n",
"X2=0.15\n",
"sfl=0.04\n",
"Tfl=150\n",
"sm=R2/X2\n",
"Tm=Tfl*((R2^2)+((sfl*X2)^2))*sm/(sfl*((R2^2)+((sm*X2)^2)))\n",
"Ns=120*f/P\n",
"N=Ns*(1-sm)\n",
"//at start\n",
"R21=X2\n",
"Rex=R21-R2\n",
"printf('maximum torque\n')\n",
"printf('Tm=%.2f Nm\n',Tm)\n",
"printf('speed N=%.f r.p.m\n',N)\n",
"printf('external resistance\n')\n",
"printf('Rex=%.3f ohm/ph',Rex)"
   ]
   }
,
{
		   "cell_type": "markdown",
		   "metadata": {},
		   "source": [
			"## Example 10.2: calculate_full_load_speed.sce"
		   ]
		  },
  {
"cell_type": "code",
	   "execution_count": null,
	   "metadata": {
	    "collapsed": true
	   },
	   "outputs": [],
"source": [
"//Chapter-10,Example10_2,pg10_14\n",
"P=4\n",
"f=50\n",
"sfl=4/100\n",
"Ns=120*f/P\n",
"Nfl=Ns-sfl*Ns\n",
"printf('full load speed of motor\n')\n",
"printf('Nfl=%.f r.p.m',Nfl)"
   ]
   }
,
{
		   "cell_type": "markdown",
		   "metadata": {},
		   "source": [
			"## Example 10.30: calculate_motor_output_and_efficiency.sce"
		   ]
		  },
  {
"cell_type": "code",
	   "execution_count": null,
	   "metadata": {
	    "collapsed": true
	   },
	   "outputs": [],
"source": [
"//Chapter-10,Example10_30,pg10_70\n",
"Tsh=162.84\n",
"P=6\n",
"f=50\n",
"Tlost=20.36\n",
"fr=1.5\n",
"s=fr/f\n",
"Ns=120*f/P\n",
"N=Ns*(1-s)\n",
"Po=Tsh*(2*%pi*N)/60\n",
"Fl=Tlost*(2*%pi*N)/60\n",
"Pm=Po+Fl\n",
"Pc=Pm*s/(1-s)\n",
"P2=Pc/s\n",
"Sl=830\n",
"Pi=P2+Sl\n",
"n=Po*100/Pi\n",
"printf('motor output\n')\n",
"printf('Po=%.4f W\n',Po)\n",
"printf('copper loss in rotor\n')\n",
"printf('Pc=%.3f W\n',Pc)\n",
"printf('motor input\n')\n",
"printf('Pi=%.3f W\n',Pi)\n",
"printf('efficiency of motor\n')\n",
"printf('n=%.2f ',n)"
   ]
   }
,
{
		   "cell_type": "markdown",
		   "metadata": {},
		   "source": [
			"## Example 10.31: find_ratio_of_torques.sce"
		   ]
		  },
  {
"cell_type": "code",
	   "execution_count": null,
	   "metadata": {
	    "collapsed": true
	   },
	   "outputs": [],
"source": [
"//Chapter-10,Example10_31,pg10_71\n",
"f=50\n",
"P=8\n",
"R2=0.01\n",
"X2=0.1\n",
"sfl=0.04\n",
"//for Tmax\n",
"sm=R2/X2\n",
"//for Tfl\n",
"s=sfl\n",
"T=sm*R2*((R2^2)+((sfl*X2)^2))/((sfl*R2)*((R2^2)+((sm*X2)^2)))//Tmax/Tfl\n",
"Ns=120*f/P\n",
"sm=0.1\n",
"N=Ns*(1-sm)\n",
"printf('ratio of max to full load torque\n')\n",
"printf('T=%.2f\n',T)\n",
"printf('speed at max torque\n')\n",
"printf('N=%.f r.p.m',N)"
   ]
   }
,
{
		   "cell_type": "markdown",
		   "metadata": {},
		   "source": [
			"## Example 10.3: calculate_rotor_frequency.sce"
		   ]
		  },
  {
"cell_type": "code",
	   "execution_count": null,
	   "metadata": {
	    "collapsed": true
	   },
	   "outputs": [],
"source": [
"//Chapter-10,Example10_3,pg10_16\n",
"P=4\n",
"f=50\n",
"N=1470\n",
"Ns=120*f/P\n",
"s=(Ns-N)/Ns\n",
"fr=s*f\n",
"printf('frequency of induced e.m.f\n')\n",
"printf('fr=%.f Hz',fr)"
   ]
   }
,
{
		   "cell_type": "markdown",
		   "metadata": {},
		   "source": [
			"## Example 10.4: find_full_load_slip_and_speed.sce"
		   ]
		  },
  {
"cell_type": "code",
	   "execution_count": null,
	   "metadata": {
	    "collapsed": true
	   },
	   "outputs": [],
"source": [
"//Chapter-10,Example10_4,pg10_20\n",
"P=8\n",
"f=50\n",
"fr=2\n",
"s=fr/f\n",
"s=s*100\n",
"printf('full load slip\n')\n",
"printf('s=%.f \n',s)\n",
"s=s/100\n",
"Ns=120*f/P\n",
"N=Ns*(1-s)\n",
"printf('speed of motor\n')\n",
"printf('N=%.f r.p.m',N)"
   ]
   }
,
{
		   "cell_type": "markdown",
		   "metadata": {},
		   "source": [
			"## Example 10.5: calculate_rotor_frequency_and_induced_emf.sce"
		   ]
		  },
  {
"cell_type": "code",
	   "execution_count": null,
	   "metadata": {
	    "collapsed": true
	   },
	   "outputs": [],
"source": [
"//Chapter-10,Example10_5,pg10_20\n",
"P=4\n",
"f=50\n",
"N=1455\n",
"E1line=415\n",
"Ns=120*f/P\n",
"s=(Ns-N)/Ns\n",
"fr=s*f\n",
"E1ph=E1line/sqrt(3)\n",
"E2ph=0.5*E1ph//K=2\n",
"E2r=s*E2ph\n",
"printf('frequency of rotor e.m.f\n')\n",
"printf('fr=%.2f Hz\n',fr)\n",
"printf('magnitude of induced e.m.f standstill\n')\n",
"printf('E2ph=%.2f V\n',E2ph)\n",
"printf('magnitude of induced e.m.f running\n')\n",
"printf('E2r=%.3f V',E2r)"
   ]
   }
,
{
		   "cell_type": "markdown",
		   "metadata": {},
		   "source": [
			"## Example 10.6: find_rotor_current_and_rotor_power_factor.sce"
		   ]
		  },
  {
"cell_type": "code",
	   "execution_count": null,
	   "metadata": {
	    "collapsed": true
	   },
	   "outputs": [],
"source": [
"//Chapter-10,Example10_6,pg10_21\n",
"P=4\n",
"f=50\n",
"R2=0.2\n",
"X2=1\n",
"E2line=120\n",
"E2ph=E2line/sqrt(3)\n",
"Ns=120*f/P\n",
"//at start\n",
"pf=R2/sqrt((R2^2)+(X2^2))//power factor\n",
"I2=E2ph/sqrt((R2^2)+(X2^2))\n",
"printf(' at start\n')\n",
"printf('pf=%.3f lagging\n',pf)\n",
"printf('I2=%.2f A\n',I2)\n",
"//on full load\n",
"N=1440\n",
"s=(Ns-N)/Ns\n",
"pf=R2/sqrt((R2^2)+((s*X2)^2))\n",
"I2=E2ph*s/sqrt((R2^2)+((s*X2)^2))\n",
"printf(' on full load\n')\n",
"printf('pf=%.3f lagging\n',pf)\n",
"printf('I2=%.2f A',I2)"
   ]
   }
,
{
		   "cell_type": "markdown",
		   "metadata": {},
		   "source": [
			"## Example 10.7: calculate_full_load_torque.sce"
		   ]
		  },
  {
"cell_type": "code",
	   "execution_count": null,
	   "metadata": {
	    "collapsed": true
	   },
	   "outputs": [],
"source": [
"//Chapter-10,Example10_7,pg10_24\n",
"P=4\n",
"f=50\n",
"R2=0.1\n",
"X2=1\n",
"N=1440\n",
"K=0.5\n",
"Ns=120*f/P\n",
"E1line=400\n",
"E1ph=E1line/sqrt(3)\n",
"E2ph=0.5*E1ph\n",
"s=(Ns-N)/Ns\n",
"ns=Ns/60//synchronous speed (r.p.s)\n",
"T=(3/(2*%pi*ns))*(s*(E2ph^2)*R2/((R2^2)+((s*X2)^2)))\n",
"printf('torque on full load\n')\n",
"printf('T=%.2f N-m',T)"
   ]
   }
,
{
		   "cell_type": "markdown",
		   "metadata": {},
		   "source": [
			"## Example 10.8: calculate_starting_torque_and_full_load_torque.sce"
		   ]
		  },
  {
"cell_type": "code",
	   "execution_count": null,
	   "metadata": {
	    "collapsed": true
	   },
	   "outputs": [],
"source": [
"//Chapter-10,Example10_8,pg10_27\n",
"P=4\n",
"f=50\n",
"K=1/4\n",
"R2=0.01\n",
"X2=0.1\n",
"E1line=400\n",
"E1ph=E1line/sqrt(3)\n",
"E2=E1ph/4\n",
"Ns=120*f/P\n",
"//at start\n",
"s=1\n",
"ns=Ns/60\n",
"k=3/(2*%pi*ns)\n",
"Tst=k*(E2^2)*R2/((R2^2)+(X2^2))\n",
"printf('starting torque\n')\n",
"printf('Tst=%.3f N-m\n',Tst)\n",
"//slip at max torque\n",
"sm=R2/X2\n",
"sm=sm*100\n",
"printf('slip at which max torque occurs\n')\n",
"printf('sm=%.f \n',sm)\n",
"//speed at max torque\n",
"sm=sm/100\n",
"N=Ns*(1-sm)\n",
"printf('speed at which max torque occurs\n')\n",
"printf('N=%.f r.p.m\n',N)\n",
"//max. torque\n",
"Tm=k*(E2^2)/(2*X2)\n",
"sf=0.04\n",
"Tfl=k*sf*(E2^2)*R2/((R2^2)+((sf*X2)^2))\n",
"printf('max torque\n')\n",
"printf('Tm=%.2f N-m\n',Tm)\n",
"printf('full load torque\n')\n",
"printf('Tfl=%.2f N-m',Tfl)"
   ]
   }
,
{
		   "cell_type": "markdown",
		   "metadata": {},
		   "source": [
			"## Example 10.9: star_connected_induction_motor.sce"
		   ]
		  },
  {
"cell_type": "code",
	   "execution_count": null,
	   "metadata": {
	    "collapsed": true
	   },
	   "outputs": [],
"source": [
"//Chapter-10,Example10_9,pg10_33\n",
"P=24\n",
"f=50\n",
"R2=0.016\n",
"X2=0.265\n",
"N=247\n",
"Ns=120*f/P\n",
"sf=(Ns-N)/Ns\n",
"sm=R2/X2\n",
"Tfm=2*sm*sf/((sm^2)+(sf^2))\n",
"Tsm=2*sm/(1+(sm^2))\n",
"printf('full load torque to max torque\n')\n",
"printf('Tfm=%.4f \n',Tfm)\n",
"printf('starting torque to max torque\n')\n",
"printf('Tsm=%.4f \n',Tsm)"
   ]
   }
],
"metadata": {
		  "kernelspec": {
		   "display_name": "Scilab",
		   "language": "scilab",
		   "name": "scilab"
		  },
		  "language_info": {
		   "file_extension": ".sce",
		   "help_links": [
			{
			 "text": "MetaKernel Magics",
			 "url": "https://github.com/calysto/metakernel/blob/master/metakernel/magics/README.md"
			}
		   ],
		   "mimetype": "text/x-octave",
		   "name": "scilab",
		   "version": "0.7.1"
		  }
		 },
		 "nbformat": 4,
		 "nbformat_minor": 0
}
