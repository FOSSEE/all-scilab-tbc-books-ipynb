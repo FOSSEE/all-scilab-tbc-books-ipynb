{
"cells": [
 {
		   "cell_type": "markdown",
	   "metadata": {},
	   "source": [
       "# Chapter 7: Basic Measuring Instruments"
	   ]
	},
{
		   "cell_type": "markdown",
		   "metadata": {},
		   "source": [
			"## Example 7.10: senstivity_method_design.sce"
		   ]
		  },
  {
"cell_type": "code",
	   "execution_count": null,
	   "metadata": {
	    "collapsed": true
	   },
	   "outputs": [],
"source": [
"//Chapter-7,Example7_10,pg 7-35\n",
"Rm=50\n",
"Im=2*10^-3\n",
"V1=500\n",
"V2=100\n",
"V3=50\n",
"V4=10\n",
"S=1/Im//senstivity\n",
"R4=S*V4-Rm\n",
"R3=S*V3-(R4+Rm)\n",
"R2=S*V2-(R4+Rm+R3)\n",
"R1=S*V1-(R4+Rm+R3+R2)\n",
"printf('series string of multipliers\n')\n",
"printf('R1=%.2f ohm\n',R1)\n",
"printf('R2=%.2f ohm\n',R2)\n",
"printf('R3=%.2f ohm\n',R3)\n",
"printf('R4=%.2f ohm\n',R4)"
   ]
   }
,
{
		   "cell_type": "markdown",
		   "metadata": {},
		   "source": [
			"## Example 7.11: find_multiplier_resistance.sce"
		   ]
		  },
  {
"cell_type": "code",
	   "execution_count": null,
	   "metadata": {
	    "collapsed": true
	   },
	   "outputs": [],
"source": [
"//Chapter-7,Example7_11,pg 7-36\n",
"Im=50*10^-6\n",
"S=1/Im\n",
"Rm=200\n",
"V=500//V is voltage range\n",
"Rs=S*V-Rm\n",
"printf('multipler resistance\n')\n",
"printf('Rs=%.2f ohm',Rs)"
   ]
   }
,
{
		   "cell_type": "markdown",
		   "metadata": {},
		   "source": [
			"## Example 7.12: sensitivity_of_meter_comparison.sce"
		   ]
		  },
  {
"cell_type": "code",
	   "execution_count": null,
	   "metadata": {
	    "collapsed": true
	   },
	   "outputs": [],
"source": [
"\n",
"//Chapter-7,Example7_12,pg 7-36\n",
"//for meter A\n",
"Rs=25*10^3\n",
"Rm=1*10^3\n",
"V=100\n",
"S=(Rs+Rm)/V\n",
"printf('senstivity of meter A\n')\n",
"printf('S=%.2f ohm/volt\n',S)\n",
"//for meter B\n",
"Rs=150*10^3\n",
"Rm=1*10^3\n",
"V=1000\n",
"S=(Rs+Rm)/V\n",
"printf('senstivity of meter B\n')\n",
"printf('S=%.2f ohm/volt',S)"
   ]
   }
,
{
		   "cell_type": "markdown",
		   "metadata": {},
		   "source": [
			"## Example 7.13: accuracy_of_meter_compariso.sce"
		   ]
		  },
  {
"cell_type": "code",
	   "execution_count": null,
	   "metadata": {
	    "collapsed": true
	   },
	   "outputs": [],
"source": [
"//Chapter-7,Example7_13,pg 7-37\n",
"R1=20*10^3\n",
"R2=25*10^3\n",
"V=250//voltage supply\n",
"VR2=R2*V/(R1+R2)//voltage across R2\n",
"//case-1\n",
"S=500\n",
"Vr=150//voltage range of resistor\n",
"Rv=S*Vr\n",
"Req=R2*Rv/(R2+Rv)\n",
"VReq=Req*V/(Req+R1)//voltage across Req\n",
"printf('first voltmeter reading\n')\n",
"printf('VReq=%.2f V\n',VReq)\n",
"//case-2\n",
"S=10*10^3\n",
"Rv=S*Vr\n",
"Req=R2*Rv/(R2+Rv)\n",
"VReq=Req*V/(Req+R1)\n",
"printf('second voltmeter reading\n')\n",
"printf('VReq=%.2f V',VReq)"
   ]
   }
,
{
		   "cell_type": "markdown",
		   "metadata": {},
		   "source": [
			"## Example 7.14: error_and_accuracy_measurement.sce"
		   ]
		  },
  {
"cell_type": "code",
	   "execution_count": null,
	   "metadata": {
	    "collapsed": true
	   },
	   "outputs": [],
"source": [
"//Chapter-7,Example7_14,pg 7-38\n",
"Rb=1*10^3\n",
"Ra=5*10^3\n",
"V=25\n",
"VRb=Rb*V/(Ra+Rb)//voltage across Rb\n",
"Vr=5\n",
"//case-1\n",
"S=1*10^3\n",
"Rv=S*Vr\n",
"Req=Rb*Rv/(Rb+Rv)\n",
"VReq=Req*V/(Req+Ra)\n",
"err=(VRb-VReq)*100/VRb\n",
"acc=100-err\n",
"printf('voltmeter reading case-1\n')\n",
"printf('VReq=%.2f V\n',VReq)\n",
"printf('percentage error\n')\n",
"printf('err=%.2f \n',err)\n",
"printf('percentage accuracy\n')\n",
"printf('acc=%.2f\n',acc)\n",
"//case-2\n",
"S=20*10^3\n",
"Rv=S*Vr\n",
"Req=Rb*Rv/(Rb+Rv)\n",
"VReq=Req*V/(Req+Ra)\n",
"err=(VRb-VReq)*100/VRb\n",
"acc=100-err\n",
"printf('voltmeter reading case-2\n')\n",
"printf('VReq=%.2f V\n',VReq)\n",
"printf('percentage error\n')\n",
"printf('err=%.2f \n',err)\n",
"printf('percentage accuracy\n')\n",
"printf('acc=%.2f\n',acc)"
   ]
   }
,
{
		   "cell_type": "markdown",
		   "metadata": {},
		   "source": [
			"## Example 7.15: basic_PMMC_measurement.sce"
		   ]
		  },
  {
"cell_type": "code",
	   "execution_count": null,
	   "metadata": {
	    "collapsed": true
	   },
	   "outputs": [],
"source": [
"//Chapter-7,Example7_15,pg 7-41\n",
"Rm=50\n",
"Im=20*10^-3\n",
"I=10\n",
"Rsh=(Im*Rm)/(I-Im)\n",
"printf('shunt resistance for I=10A\n')\n",
"printf('Rsh=%.2f ohm\n',Rsh)\n",
"I=20\n",
"Rsh=(Im*Rm)/(I-Im)\n",
"printf('shunt resistance for I=20A\n')\n",
"printf('Rsh=%.2f ohm\n',Rsh)\n",
"V=150\n",
"Rs=(V/Im)-Rm\n",
"printf('series resistance for V=150V\n')\n",
"printf('Rs=%.2f ohm\n',Rs)\n",
"V=300\n",
"Rs=(V/Im)-Rm\n",
"printf('series resistance for V=300V\n')\n",
"printf('Rs=%.2f ohm',Rs)"
   ]
   }
,
{
		   "cell_type": "markdown",
		   "metadata": {},
		   "source": [
			"## Example 7.16: find_shunt_current_and_resistance_for_fsd.sce"
		   ]
		  },
  {
"cell_type": "code",
	   "execution_count": null,
	   "metadata": {
	    "collapsed": true
	   },
	   "outputs": [],
"source": [
"//Chapter-7,Example7_16,pg 7-42\n",
"Rsh=0.02\n",
"R=1000\n",
"Vm=500*10^-3\n",
"Im=Vm/R\n",
"Ish=Vm/Rsh\n",
"printf('shunt current\n')\n",
"printf('Ish=%.2f A\n',Ish)\n",
"Ish1=10\n",
"V=Ish1*Rsh\n",
"R=V/Im\n",
"printf('resistance for Ish=10A\n')\n",
"printf('R=%.2f ohm\n',R)\n",
"Ish2=75\n",
"V=Ish2*Rsh\n",
"R=V/Im\n",
"printf('resistance for Ish=75A\n')\n",
"printf('R=%.2f ohm\n',R)"
   ]
   }
,
{
		   "cell_type": "markdown",
		   "metadata": {},
		   "source": [
			"## Example 7.17: determine_inductance_of_instrument.sce"
		   ]
		  },
  {
"cell_type": "code",
	   "execution_count": null,
	   "metadata": {
	    "collapsed": true
	   },
	   "outputs": [],
"source": [
"//Chapter-7,Example7_17,pg 7-50\n",
"K=5.73*10^-6\n",
"I=20\n",
"theta=110*(%pi/180)//full scale deflection\n",
"dtheta=theta//change in theta\n",
"L=4*10^-6\n",
"dm=(theta*K/(I^2))*dtheta//change in inductance\n",
"Lf=L+dm\n",
"printf('final inductance\n')\n",
"printf('Lf=%.8f H',Lf)"
   ]
   }
,
{
		   "cell_type": "markdown",
		   "metadata": {},
		   "source": [
			"## Example 7.18: find_deflecting_torque.sce"
		   ]
		  },
  {
"cell_type": "code",
	   "execution_count": null,
	   "metadata": {
	    "collapsed": true
	   },
	   "outputs": [],
"source": [
"//Chapter-7,Example7_18,pg 7-50\n",
"x=30//deflection\n",
"dM=5*sin((x+45)*(%pi/180))*10^-3//diffrentiate M w.r.t x\n",
"I=10*10^-3\n",
"Td=(I^2)*dM//deflecting torque\n",
"printf('deflecting torque\n')\n",
"printf('Td=%.8f Nm',Td)"
   ]
   }
,
{
		   "cell_type": "markdown",
		   "metadata": {},
		   "source": [
			"## Example 7.19: difference_between_dc_and_ac_readings_of_voltmeter.sce"
		   ]
		  },
  {
"cell_type": "code",
	   "execution_count": null,
	   "metadata": {
	    "collapsed": true
	   },
	   "outputs": [],
"source": [
"//Chapter-7,Example7_19,pg 7-51\n",
"I=100*10^-3\n",
"Td=0.8*10^-4\n",
"dtheta=90*%pi/180//in radians\n",
"theta=90//deflection\n",
"dM=Td*dtheta/(I^2)\n",
"Mo=0.5//original M\n",
"M=Mo+dM//total M\n",
"//case-1 \n",
"Vdc=100\n",
"R=Vdc/I\n",
"w=2*%pi*50\n",
"Z=R+(%i*w*M)\n",
"Z=abs(Z)\n",
"Vac=R*Vdc/Z\n",
"dif=Vdc-Vac//difference between readings\n",
"//case-2\n",
"Vdc1=50\n",
"I1=Vdc1/R\n",
"theta1=theta*((I1/I)^2)//theta=kI^2\n",
"theta1=theta1*%pi/180//in radians\n",
"dM1=Td*theta1/(I^2)\n",
"M1=dM1+Mo\n",
"Z1=R+(%i*w*M1)\n",
"Z1=abs(Z1)\n",
"Vac1=R*Vdc1/Z1\n",
"dif1=Vdc1-Vac1\n",
"printf('difference in readings Vdc=100V\n')\n",
"printf('dif=%.2f V\n',dif)\n",
"printf('difference in readings Vdc=50V\n')\n",
"printf('dif1=%.2f V\n',dif1)"
   ]
   }
,
{
		   "cell_type": "markdown",
		   "metadata": {},
		   "source": [
			"## Example 7.1: calculate_deflectio.sce"
		   ]
		  },
  {
"cell_type": "code",
	   "execution_count": null,
	   "metadata": {
	    "collapsed": true
	   },
	   "outputs": [],
"source": [
"//Chapter-7,Example7_1,pg 7-13\n",
"N=100\n",
"B=0.15\n",
"A=10*8*10^-6\n",
"I=5*10^-3\n",
"Td=N*B*A*I//deflecting torque\n",
"K=0.2*10^-6//spring const.\n",
"theta=Td/K//deflecting angle\n",
"printf('deflection theta=%.2f deg',theta)"
   ]
   }
,
{
		   "cell_type": "markdown",
		   "metadata": {},
		   "source": [
			"## Example 7.20: find_revolutions_and_percentage_error.sce"
		   ]
		  },
  {
"cell_type": "code",
	   "execution_count": null,
	   "metadata": {
	    "collapsed": true
	   },
	   "outputs": [],
"source": [
"//Chapter-7,Example7_20,pg 7-65\n",
"I=20\n",
"V=230\n",
"Pf=0.8//power factor\n",
"t=3600\n",
"K=100\n",
"Et=V*I*Pf*t\n",
"Et=Et/(3600*10^3)//in kWh\n",
"N=360\n",
"Er=3.6//in kWh\n",
"err=(Er-Et)/Et\n",
"err=err*100\n",
"printf('percentage error\n')\n",
"printf('err=%.2f\n',err)\n",
"printf('negative sign shows that meter is slow and Er<Et')"
   ]
   }
,
{
		   "cell_type": "markdown",
		   "metadata": {},
		   "source": [
			"## Example 7.21: determine_meter_errror_at_half_load.sce"
		   ]
		  },
  {
"cell_type": "code",
	   "execution_count": null,
	   "metadata": {
	    "collapsed": true
	   },
	   "outputs": [],
"source": [
"//Chapter-7,Example7_21,pg 7-65\n",
"K=1800\n",
"V=230\n",
"I=10\n",
"Pf=1//half load\n",
"Ihl=I/2//half load current\n",
"t=138\n",
"Et=V*Ihl*Pf*t\n",
"Et=Et/(3600*10^3)\n",
"N=80//no. of revolutions\n",
"Er=N/K//in kWh\n",
"err=(Er-Et)/Et\n",
"err=err*100\n",
"printf('percentage error\n')\n",
"printf('err=%.2f\n',err)\n",
"printf('positive sign shows that meter is fast and Er>Et')"
   ]
   }
,
{
		   "cell_type": "markdown",
		   "metadata": {},
		   "source": [
			"## Example 7.22: calculate_power_factor_of_load.sce"
		   ]
		  },
  {
"cell_type": "code",
	   "execution_count": null,
	   "metadata": {
	    "collapsed": true
	   },
	   "outputs": [],
"source": [
"//Chapter-7,Example7_22,pg 7-66\n",
"V=230\n",
"I=4\n",
"t=6\n",
"Pf=1\n",
"N=2208\n",
"Et=V*I*Pf*t\n",
"K=N/Et\n",
"printf('meter constant\n')\n",
"printf('K=%.2f rev/Wh\n',K)\n",
"V=230\n",
"I=5\n",
"t=4\n",
"N=1472\n",
"Et=V*I*Pf*t\n",
"Er=N/K\n",
"Pf=(Er/Et)\n",
"printf('power factor\n')\n",
"printf('Pf=%.2f lagging',Pf)"
   ]
   }
,
{
		   "cell_type": "markdown",
		   "metadata": {},
		   "source": [
			"## Example 7.23: find_speed_of_disc_and_error_of_meter.sce"
		   ]
		  },
  {
"cell_type": "code",
	   "execution_count": null,
	   "metadata": {
	    "collapsed": true
	   },
	   "outputs": [],
"source": [
"//Chapter-7,Example7_23,pg 7-66\n",
"I=5\n",
"V=220\n",
"Pf=1\n",
"K=3275\n",
"t=1/60//in hr\n",
"E=V*I*Pf*t\n",
"E=E/10^3//in kWh\n",
"Rev=E*K//no. of revolutions\n",
"printf('speed of disc\n')\n",
"printf('s=%.2f r.p.m\n',Rev)\n",
"//at half load\n",
"I=I/2\n",
"t=59.5\n",
"Et=V*I*Pf*t\n",
"Et=Et/(3600*10^3)//in kWh\n",
"N=30\n",
"Er=N/K\n",
"err=(Er-Et)/Et\n",
"err=err*100\n",
"printf('percentage error\n')\n",
"printf('err=%.2f\n',err)\n",
"printf('Er>Et meter is fast')"
   ]
   }
,
{
		   "cell_type": "markdown",
		   "metadata": {},
		   "source": [
			"## Example 7.24: find_error_at_given_power_factor.sce"
		   ]
		  },
  {
"cell_type": "code",
	   "execution_count": null,
	   "metadata": {
	    "collapsed": true
	   },
	   "outputs": [],
"source": [
"//Chapter-7,Example7_24,pg 7-67\n",
"V=240\n",
"I=10\n",
"Pf=0.8\n",
"t=1/60\n",
"K=600\n",
"E=V*I*Pf*t\n",
"E=E/10^3//in kWh\n",
"Rev=E*K//no. of revolutions \n",
"printf('speed of disc\n')\n",
"printf('s=%.2f r.p.m\n',Rev)\n",
"del=90//for correct lag adjustment\n",
"del1=86*%pi/180//given in radian\n",
"phi=0//case-1 unity power factor\n",
"err=(sin(del1-phi)-cos(phi))/cos(phi)\n",
"err=err*100\n",
"printf('percentage error in case-1\n')\n",
"printf('err=%.2f \n',err)\n",
"Pf=0.5//case-2\n",
"phi=60*%pi/180//in radians\n",
"err=(sin(del1-phi)-cos(phi))/cos(phi)\n",
"err=err*100\n",
"printf('percentage error in case-2\n')\n",
"printf('err=%.2f \n',err)"
   ]
   }
,
{
		   "cell_type": "markdown",
		   "metadata": {},
		   "source": [
			"## Example 7.25: limits_of_error_of_wattmeter.sce"
		   ]
		  },
  {
"cell_type": "code",
	   "execution_count": null,
	   "metadata": {
	    "collapsed": true
	   },
	   "outputs": [],
"source": [
"//Chapter-7,Example7_25,pg 7-67\n",
"V=240\n",
"I=5\n",
"K=1200\n",
"N=40\n",
"Er=N/K\n",
"W=V*I\n",
"t=99.8\n",
"Td=500//total divisions\n",
"div=K/Td//1 division\n",
"We=0.1*div//wattmeter error\n",
"Ce=0.05*K/100//construction wattmeter error\n",
"Te=We+Ce//total error\n",
"Wru=K+Te\n",
"Wrl=K-Te//wattmeter reading limits\n",
"He=0.05//human error\n",
"Se=0.01//stopwatch error\n",
"Tte=He+Se//total timing error\n",
"Sru=t+Tte//stopwatch reading limits\n",
"Srl=t-Tte\n",
"Eu=Wru*Sru*1/(3600*10^3)//energy obtained limits\n",
"El=Wrl*Srl*1/(3600*10^3)\n",
"errl=(Er-El)/El\n",
"errl=errl*100\n",
"erru=(Er-Eu)/Eu//error limits\n",
"erru=erru*100\n",
"printf('percentage error upperlimt\n')\n",
"printf('erru=%.3f \n',erru)\n",
"printf('percentage error lowerlimt\n')\n",
"printf('errl=%.3f \n',errl)"
   ]
   }
,
{
		   "cell_type": "markdown",
		   "metadata": {},
		   "source": [
			"## Example 7.26: estimate_line_current.sce"
		   ]
		  },
  {
"cell_type": "code",
	   "execution_count": null,
	   "metadata": {
	    "collapsed": true
	   },
	   "outputs": [],
"source": [
"//Chapter-7,Example7_26,pg 7-79\n",
"I1=250\n",
"I2=5\n",
"I=I1/I2\n",
"//as ammeter is in secondary I2=2.7\n",
"I1=I*2.7//line current\n",
"printf('line current\n')\n",
"printf('I1=%.2f A',I1)"
   ]
   }
,
{
		   "cell_type": "markdown",
		   "metadata": {},
		   "source": [
			"## Example 7.27: estimate_line_voltage.sce"
		   ]
		  },
  {
"cell_type": "code",
	   "execution_count": null,
	   "metadata": {
	    "collapsed": true
	   },
	   "outputs": [],
"source": [
"//Chapter-7,Example7_27,pg 7-82\n",
"V1=11000\n",
"V2=110\n",
"V=V1/V2\n",
"V2=87.5\n",
"V1=87.5*V//line voltage\n",
"printf('line voltage\n')\n",
"printf('V1=%.2f V',V1)"
   ]
   }
,
{
		   "cell_type": "markdown",
		   "metadata": {},
		   "source": [
			"## Example 7.28: find_percentage_ratio_error.sce"
		   ]
		  },
  {
"cell_type": "code",
	   "execution_count": null,
	   "metadata": {
	    "collapsed": true
	   },
	   "outputs": [],
"source": [
"//Chapter-7,Example7_28,pg 7-88\n",
"Im=120\n",
"Ic=38\n",
"Kn=1000/5\n",
"//at full load\n",
"Is=5\n",
"Ns=1000\n",
"Np=5\n",
"n=Ns/Np//turns ratio\n",
"R=n+(Ic/Is)\n",
"err=(Kn-R)/R//ratio error\n",
"err=err*100\n",
"printf('percentage ratio error\n')\n",
"printf('err=%.2f ',err)"
   ]
   }
,
{
		   "cell_type": "markdown",
		   "metadata": {},
		   "source": [
			"## Example 7.29: calculate_actual_primary_current_and_ratio_error.sce"
		   ]
		  },
  {
"cell_type": "code",
	   "execution_count": null,
	   "metadata": {
	    "collapsed": true
	   },
	   "outputs": [],
"source": [
"//Chapter-7,Example7_29,pg 7-88\n",
"Im=90\n",
"Ic=40\n",
"delta=28*(%pi/180)//in radians\n",
"Is=5\n",
"Ns=400\n",
"Np=1\n",
"n=Ns/Np\n",
"Kn=n\n",
"R=n+((Im*sin(delta)+Ic*cos(delta))/Is)\n",
"Ip=R*Is//actual primary current\n",
"err=(Kn-R)/R\n",
"err=err*100\n",
"printf('percentage ratio error\n')\n",
"printf('err=%.2f ',err)"
   ]
   }
,
{
		   "cell_type": "markdown",
		   "metadata": {},
		   "source": [
			"## Example 7.2: find_deflection.sce"
		   ]
		  },
  {
"cell_type": "code",
	   "execution_count": null,
	   "metadata": {
	    "collapsed": true
	   },
	   "outputs": [],
"source": [
"//Chapter-7,Example7_2,pg 7-21\n",
"x=poly(0,'x')\n",
"L=(12+6*x-(x^2))//x is deflection in rad from zero\n",
"dl=derivat(L)\n",
"K=12\n",
"I=8\n",
"x=6/(((2*K)/(I^2))+2)//x=((I^2)dl)/(2*k)\n",
"z=x*(180/%pi)\n",
"y=horner(L,x)\n",
"printf('deflection for given current\n')\n",
"printf('x=%.2f deg\n',z)\n",
"printf('inductance for given deflection\n')\n",
"printf('L=%.2f uH',y)"
   ]
   }
,
{
		   "cell_type": "markdown",
		   "metadata": {},
		   "source": [
			"## Example 7.3: calculate_value_of_shunt_resistance.sce"
		   ]
		  },
  {
"cell_type": "code",
	   "execution_count": null,
	   "metadata": {
	    "collapsed": true
	   },
	   "outputs": [],
"source": [
"//Chapter-7,Example7_3,pg 7-23\n",
"Rm=100\n",
"Im=2*10^-3\n",
"I=150*10^-3\n",
"Rsh=(Im*Rm)/(I-Im)\n",
"printf('value of shunt resistance\n')\n",
"printf('Rsh=%.2f ohm',Rsh)"
   ]
   }
,
{
		   "cell_type": "markdown",
		   "metadata": {},
		   "source": [
			"## Example 7.4: calculate_shunt_current_and_meter_resistance.sce"
		   ]
		  },
  {
"cell_type": "code",
	   "execution_count": null,
	   "metadata": {
	    "collapsed": true
	   },
	   "outputs": [],
"source": [
"//Chapter-7,Example7_4,pg 7-23\n",
"Vsh1=400*10^-3\n",
"Rsh=0.01\n",
"Ish=Vsh1/Rsh\n",
"printf('current through shunt\n')\n",
"printf('Ish=%.2f A\n',Ish)\n",
"Ish=50\n",
"Vsh=Ish*Rsh\n",
"printf('voltage through shunt\n')\n",
"printf('Ish=%.2f V\n',Vsh)\n",
"Rm=750//coil resistance\n",
"Im=Vsh1/Rm\n",
"Rm1=Vsh/Im//meter resistance\n",
"printf('meter resistance\n')\n",
"printf('Rm1=%.2f ohm\n',Rm1)"
   ]
   }
,
{
		   "cell_type": "markdown",
		   "metadata": {},
		   "source": [
			"## Example 7.5: design_multirange_dc_milliammeter.sce"
		   ]
		  },
  {
"cell_type": "code",
	   "execution_count": null,
	   "metadata": {
	    "collapsed": true
	   },
	   "outputs": [],
"source": [
"//Chapter-7,Example7_5,pg 7-25\n",
"I1=10*10^-3\n",
"Im=2*10^-3\n",
"Rm=75\n",
"R1=(Im*Rm)/(I1-Im)\n",
"I2=50*10^-3\n",
"R2=(Im*Rm)/(I2-Im)\n",
"I3=100*10^-3\n",
"R3=(Im*Rm)/(I3-Im)\n",
"printf('designed multi-range ammeter\n')\n",
"printf('full scale deflection Im=%.5f A\n',Im)\n",
"printf('meter resistance Rm=%.2f ohm\n',Rm)\n",
"printf('R1=%.2f ohm\n',R1)\n",
"printf('R2=%.2f ohm\n',R2)\n",
"printf('R3=%.2f ohm\n',R3)"
   ]
   }
,
{
		   "cell_type": "markdown",
		   "metadata": {},
		   "source": [
			"## Example 7.6: design_aryton_shunt.sce"
		   ]
		  },
  {
"cell_type": "code",
	   "execution_count": null,
	   "metadata": {
	    "collapsed": true
	   },
	   "outputs": [],
"source": [
"//Chapter-7,Example7_6,pg 7-27\n",
"I1=10\n",
"Im=1*10^-3\n",
"Rm=50\n",
"//in position-1 R1 is in shunt with R2+R3+Rm\n",
"//R1=10^-4(R2+R3+50)......(1)\n",
"//in position-2 (R1+R2) is in shunt with R3+Rm\n",
"//R1+R2=2*10^-4(R3+50).....(2)\n",
"//in position-3 R1+R2+R3 is in shunt with Rm\n",
"//R1+R2+R3=0.05............(3)\n",
"//from.....(3)\n",
"//R1+R2=0.05-R3\n",
"//substituting in........(2)\n",
"R3=0.04/1.0002\n",
"//R2=0.01-R1........(4)\n",
"//substituing in (1)\n",
"R1=5.00139*10^-3/1.0001\n",
"R2=0.01-R1//from........(4)\n",
"printf('various sections of aryton shunt are\n')\n",
"printf('full scale deflection Im=%.4f A\n',Im)\n",
"printf('meter resistance Rm=%.2f ohm\n',Rm)\n",
"printf('R1=%.4f ohm\n',R1)\n",
"printf('R2=%.4f ohm\n',R2)\n",
"printf('R3=%.4f ohm\n',R3)"
   ]
   }
,
{
		   "cell_type": "markdown",
		   "metadata": {},
		   "source": [
			"## Example 7.7: calculate_multiplier_resistance.sce"
		   ]
		  },
  {
"cell_type": "code",
	   "execution_count": null,
	   "metadata": {
	    "collapsed": true
	   },
	   "outputs": [],
"source": [
"//Chapter-7,Example7_7,pg 7-30\n",
"Rm=500\n",
"Im=40*10^-6\n",
"V=10\n",
"Rs=(V/Im)-Rm\n",
"printf('multiplier resistance\n')\n",
"printf('Rs=%.2f ohm',Rs)"
   ]
   }
,
{
		   "cell_type": "markdown",
		   "metadata": {},
		   "source": [
			"## Example 7.8: calculate_shunt_and_multiplier_resistance.sce"
		   ]
		  },
  {
"cell_type": "code",
	   "execution_count": null,
	   "metadata": {
	    "collapsed": true
	   },
	   "outputs": [],
"source": [
"//Chapter-7,Example7_8,pg 7-30\n",
"Im=20*10^-3\n",
"Vm=200*10^-3\n",
"Rm=(Vm/Im)\n",
"I=200\n",
"Rsh=(Im*Rm)/(I-Im)\n",
"printf('required shunt resistance\n')\n",
"printf('Rsh=%.4f ohm\n',Rsh)\n",
"V=500\n",
"Rs=(V/Im)-Rm\n",
"printf('required multipler resistance\n')\n",
"printf('Rs=%.2f ohm',Rs)"
   ]
   }
,
{
		   "cell_type": "markdown",
		   "metadata": {},
		   "source": [
			"## Example 7.9: design_D_arsonoval_movement_voltmeter.sce"
		   ]
		  },
  {
"cell_type": "code",
	   "execution_count": null,
	   "metadata": {
	    "collapsed": true
	   },
	   "outputs": [],
"source": [
"//Chapter-7,Example7_9,pg 7-33\n",
"Rm=50\n",
"Im=2*10^-3\n",
"//for position V4 multipler is R4\n",
"V4=10\n",
"R4=(V4/Im)-Rm//Rs=(V/Im)-RmV3 m\n",
"//for position V3 multipler is R3+R4\n",
"V3=50\n",
"R3=(V3/Im)-Rm-R4\n",
"//for position V2 multiplier is R2+R3+R4\n",
"V2=100\n",
"R2=(V2/Im)-Rm-R3-R4\n",
"//for position V1 multiplier is R1+R2+R3+R4\n",
"V1=500\n",
"R1=(V1/Im)-Rm-R3-R4-R2\n",
"printf('series string of multipliers\n')\n",
"printf('R1=%.2f ohm\n',R1)\n",
"printf('R2=%.2f ohm\n',R2)\n",
"printf('R3=%.2f ohm\n',R3)\n",
"printf('R4=%.2f ohm\n',R4)"
   ]
   }
],
"metadata": {
		  "kernelspec": {
		   "display_name": "Scilab",
		   "language": "scilab",
		   "name": "scilab"
		  },
		  "language_info": {
		   "file_extension": ".sce",
		   "help_links": [
			{
			 "text": "MetaKernel Magics",
			 "url": "https://github.com/calysto/metakernel/blob/master/metakernel/magics/README.md"
			}
		   ],
		   "mimetype": "text/x-octave",
		   "name": "scilab",
		   "version": "0.7.1"
		  }
		 },
		 "nbformat": 4,
		 "nbformat_minor": 0
}
