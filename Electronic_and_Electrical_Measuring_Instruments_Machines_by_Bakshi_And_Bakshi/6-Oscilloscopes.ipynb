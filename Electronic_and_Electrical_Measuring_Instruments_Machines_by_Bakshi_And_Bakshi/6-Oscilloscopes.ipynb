{
"cells": [
 {
		   "cell_type": "markdown",
	   "metadata": {},
	   "source": [
       "# Chapter 6: Oscilloscopes"
	   ]
	},
{
		   "cell_type": "markdown",
		   "metadata": {},
		   "source": [
			"## Example 6.1: calculate_bandwidth_of_CRO.sce"
		   ]
		  },
  {
"cell_type": "code",
	   "execution_count": null,
	   "metadata": {
	    "collapsed": true
	   },
	   "outputs": [],
"source": [
"//Chapter-6,Example6_1,pg 6-26\n",
"Trs=17*10^-6\n",
"Trd=21*10^-6\n",
"Tro=sqrt((Trd^2)-(Trs^2))\n",
"BW=0.35/Tro\n",
"printf('bandwidth of CRO\n')\n",
"printf('BW=%.2f Hz',BW)"
   ]
   }
,
{
		   "cell_type": "markdown",
		   "metadata": {},
		   "source": [
			"## Example 6.2: find_minimum_rise_time_of_plulse.sce"
		   ]
		  },
  {
"cell_type": "code",
	   "execution_count": null,
	   "metadata": {
	    "collapsed": true
	   },
	   "outputs": [],
"source": [
"//Chapter-6,Example6_2,pg 6-53\n",
"SR=200*10^6//sampling rate\n",
"trmin=1/SR\n",
"printf('minimum rise time of pulse\n')\n",
"printf('trmin=%.10f s',trmin)"
   ]
   }
,
{
		   "cell_type": "markdown",
		   "metadata": {},
		   "source": [
			"## Example 6.3: calculate_amplitude_and_rms_value.sce"
		   ]
		  },
  {
"cell_type": "code",
	   "execution_count": null,
	   "metadata": {
	    "collapsed": true
	   },
	   "outputs": [],
"source": [
"//Chapter-6,Example6_3,pg 6-63\n",
"//from plot 1 subdivision=0.2 units\n",
"pp=2+3*0.2//positive peak\n",
"np=2+3*0.2//negative peak\n",
"Nd=pp+np//no. of divisions\n",
"Vd=2*10^-3//volts per division\n",
"Vpp=Nd*Vd\n",
"Vm=Vpp/2\n",
"Vrms=Vm/sqrt(2)\n",
"printf('peak value of voltage\n')\n",
"printf('Vm=%.4f V\n',Vm)\n",
"printf('RMS value of voltage\n')\n",
"printf('Vrms=%.4f V\n',Vrms)"
   ]
   }
,
{
		   "cell_type": "markdown",
		   "metadata": {},
		   "source": [
			"## Example 6.4: calculate_frequency_and_rms_value.sce"
		   ]
		  },
  {
"cell_type": "code",
	   "execution_count": null,
	   "metadata": {
	    "collapsed": true
	   },
	   "outputs": [],
"source": [
"//Chapter-6,Example6_4,pg 6-64\n",
"Vd=2\n",
"Tb=2*10^-3//time base\n",
"Vd=2\n",
"Nd=3\n",
"Vpp=Nd*Vd\n",
"Vm=Vpp/2\n",
"Vrms=Vm/sqrt(2)\n",
"Hd=2//horizontal occupancy\n",
"T=Tb*Hd\n",
"f=1/T\n",
"printf('RMS value of voltage\n')\n",
"printf('Vrms=%.2f V\n',Vrms)\n",
"printf('frequency of voltage across resistor\n')\n",
"printf('f=%.2f Hz',f)"
   ]
   }
,
{
		   "cell_type": "markdown",
		   "metadata": {},
		   "source": [
			"## Example 6.5: find_phase_difference_between_two_waves.sce"
		   ]
		  },
  {
"cell_type": "code",
	   "execution_count": null,
	   "metadata": {
	    "collapsed": true
	   },
	   "outputs": [],
"source": [
"//Chapter-6,Example6_5,pg 6-67\n",
"y1=8\n",
"y2=10\n",
"phi=asin(y1/y2)//phase difference\n",
"phi=phi*(180/%pi)\n",
"printf('phase difference\n')\n",
"printf('phi=%.2f deg',phi)"
   ]
   }
,
{
		   "cell_type": "markdown",
		   "metadata": {},
		   "source": [
			"## Example 6.6: find_frequency_at_vertical_plate.sce"
		   ]
		  },
  {
"cell_type": "code",
	   "execution_count": null,
	   "metadata": {
	    "collapsed": true
	   },
	   "outputs": [],
"source": [
"//Chapter-6,Example6_6,pg 6-69\n",
"Nv=2\n",
"Nh=5\n",
"fh=1*10^3\n",
"fv=(5/2)*fh//(fv/fh)=(Nh/Nv)=(5/2)\n",
"printf('vertical signal frequency\n')\n",
"printf('fv=%.f Hz',fv)"
   ]
   }
],
"metadata": {
		  "kernelspec": {
		   "display_name": "Scilab",
		   "language": "scilab",
		   "name": "scilab"
		  },
		  "language_info": {
		   "file_extension": ".sce",
		   "help_links": [
			{
			 "text": "MetaKernel Magics",
			 "url": "https://github.com/calysto/metakernel/blob/master/metakernel/magics/README.md"
			}
		   ],
		   "mimetype": "text/x-octave",
		   "name": "scilab",
		   "version": "0.7.1"
		  }
		 },
		 "nbformat": 4,
		 "nbformat_minor": 0
}
