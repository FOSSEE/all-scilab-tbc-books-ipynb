{
"cells": [
 {
		   "cell_type": "markdown",
	   "metadata": {},
	   "source": [
       "# Chapter 1: Poly Phase AC Machines"
	   ]
	},
{
		   "cell_type": "markdown",
		   "metadata": {},
		   "source": [
			"## Example 1.10: Rotor_Copper_Losses.sce"
		   ]
		  },
  {
"cell_type": "code",
	   "execution_count": null,
	   "metadata": {
	    "collapsed": true
	   },
	   "outputs": [],
"source": [
"// Example 1.10\n",
"\n",
"clear; clc; close;\n",
"\n",
"format('v',8);\n",
"// Given data\n",
"f=50;//in Hz\n",
"P=8;//no. of poles\n",
"Tsh=190;//in N-m\n",
"fr=1.5;//in Hz\n",
"MechLoss=700;//in watts\n",
"\n",
"//Calculations\n",
"S=fr/f;//Slip\n",
"Ns=120*f/P;//in rpm\n",
"N=Ns*(1-S);//in rpm\n",
"Pout=Tsh*2*%pi*N/60;//in watts\n",
"Pm=Pout+MechLoss;//in watts\n",
"//formula-:  P2:Pc:Pm=1:S:1-S\n",
"Pc=Pm*S/(1-S);//in watts\n",
"disp(Pc,'Rotor Copper loss in watts : ');"
   ]
   }
,
{
		   "cell_type": "markdown",
		   "metadata": {},
		   "source": [
			"## Example 1.11: Full_load_Efficiency.sce"
		   ]
		  },
  {
"cell_type": "code",
	   "execution_count": null,
	   "metadata": {
	    "collapsed": true
	   },
	   "outputs": [],
"source": [
"// Example 1.11\n",
"\n",
"clear; clc; close;\n",
"\n",
"format('v',8);\n",
"// Given data\n",
"f=50;//in Hz\n",
"P=4;//no. of poles\n",
"Pin=50;//in kW\n",
"N=1440;//in rpm\n",
"StatorLoss=1000;//in watts\n",
"FrictionalLoss=650;//in watts\n",
"\n",
"//Calculations\n",
"Ns=120*f/P;//in rpm\n",
"S=(Ns-N)/Ns;//Slip\n",
"\n",
"N=Ns*(1-S);//in rpm\n",
"P2=Pin-StatorLoss/1000;//in KW\n",
"//formula-:  P2:Pc:Pm=1:S:1-S\n",
"Pc=S*P2;//in KW\n",
"Pm=P2-Pc;//in KW\n",
"Pout=Pm-FrictionalLoss/1000;//in KW\n",
"Eff=Pout/Pin*100;//in %\n",
"disp(Eff,'Full load efficiency in % : ');"
   ]
   }
,
{
		   "cell_type": "markdown",
		   "metadata": {},
		   "source": [
			"## Example 1.12: Slip_Power_Loss_and_Resistance.sce"
		   ]
		  },
  {
"cell_type": "code",
	   "execution_count": null,
	   "metadata": {
	    "collapsed": true
	   },
	   "outputs": [],
"source": [
"// Example 1.12\n",
"\n",
"clear; clc; close;\n",
"\n",
"format('v',8);\n",
"// Given data\n",
"f=50;//in Hz\n",
"phase=3;//no. of phase\n",
"P=4;//no. of poles\n",
"Tsh=300;//in N-m\n",
"Tlost=50;//in N-m\n",
"fr=120;//in cycles/min\n",
"fr=fr/60;//in Hz\n",
"I2r=60;//in Ampere/phase\n",
"\n",
"//Calculations\n",
"S=fr/f;//slip\n",
"disp(S*100,'(i) Slip(%) : ');\n",
"Ns=120*f/P;//in rpm\n",
"N=Ns*(1-S);//in rpm\n",
"Pout=Tsh*2*%pi*N/60;//watts\n",
"disp(Pout/1000,'(ii) Net output Power(KW) : ');\n",
"FricLoss=Tlost*2*%pi*N/60;//in watts\n",
"Pm=Pout+FricLoss;//in watts\n",
"//formula-:  P2:Pc:Pm=1:S:1-S\n",
"Pc=S*Pm/(1-S);//copper loss in Watts\n",
"PcPERphase=Pc/phase;//Copper loss per phase in watts\n",
"disp(PcPERphase,'(iii) Rotor copper loss per phase(watts) : ');\n",
"P2=Pc/S;//in watts\n",
"Eff=Pm/P2*100;//in %\n",
"disp(Eff,'(iv) Rotor efficiency in % : ');\n",
"//Formula : CuLossPerPhase=I2r^2*R2;//in watts\n",
"R2=PcPERphase/I2r^2;//in ohm/phase\n",
"disp(R2,'(v) Rotor resistance per phase(ohm/phase) : ');"
   ]
   }
,
{
		   "cell_type": "markdown",
		   "metadata": {},
		   "source": [
			"## Example 1.13: Power_Losses_and_Efficiency.sce"
		   ]
		  },
  {
"cell_type": "code",
	   "execution_count": null,
	   "metadata": {
	    "collapsed": true
	   },
	   "outputs": [],
"source": [
"// Example 1.13\n",
"\n",
"clear; clc; close;\n",
"\n",
"format('v',6);\n",
"// Given data\n",
"Pout=25;//in KW\n",
"f=50;//in Hz\n",
"phase=3;//no. of phase\n",
"P=4;//no. of poles\n",
"N=1410;//in rpm\n",
"MechLoss=850;//in watts\n",
"StatLossBYCuLoss=1.17;\n",
"I2r=65;//in Ampere\n",
"\n",
"//Calculations\n",
"Ns=120*f/P;//in rpm\n",
"S=(Ns-N)/Ns;//slip\n",
"Pm=Pout*1000+MechLoss;//in watts\n",
"disp(Pm,'Gross mechanical power devloped in watts : ');\n",
"//formula-:  P2:Pc:Pm=1:S:1-S\n",
"Pc=S*Pm/(1-S);//copper loss in Watts\n",
"disp(Pc,'Rotor Copper Losses in watts : ');\n",
"R2=Pc/phase/I2r^2;//in ohm/phase\n",
"disp(R2,'Rotor resistance per phase in ohm ; ');\n",
"StatorLoss=1.7*Pc;//in watts\n",
"P2=Pc/S;//in Watts\n",
"Pin=P2+StatorLoss;//in watts\n",
"Eff=Pout*1000/Pin*100;//in %\n",
"disp(Eff,'Full laod Efficiency in % : ');"
   ]
   }
,
{
		   "cell_type": "markdown",
		   "metadata": {},
		   "source": [
			"## Example 1.14: Torque_Losses_and_Efficiency.sce"
		   ]
		  },
  {
"cell_type": "code",
	   "execution_count": null,
	   "metadata": {
	    "collapsed": true
	   },
	   "outputs": [],
"source": [
"// Example 1.14\n",
"\n",
"clear; clc; close;\n",
"\n",
"format('v',7);\n",
"// Given data\n",
"Pout=24;//in KW\n",
"P=8;//no. of poles\n",
"N=720;//in rpm\n",
"VL=415;//in volt\n",
"IL=57;//in Ampere\n",
"f=50;//in Hz\n",
"phase=3;//no. of phase\n",
"cosfi=0.707;//power factor\n",
"MechLoss=1000;//in watts\n",
"Rs=0.1;//in ohm/phase\n",
"\n",
"//Calculations\n",
"Ns=120*f/P;//in rpm\n",
"S=(Ns-N)/Ns;//slip\n",
"Pm=Pout*1000+MechLoss;//in watts\n",
"//formula-:  P2:Pc:Pm=1:S:1-S\n",
"//Pc=S*Pm/(1-S);//copper loss in Watts\n",
"Tsh=Pout*10^3/(2*%pi*N/60);//in N-m\n",
"disp(Tsh,'Shaft Torque in N-m : ');\n",
"T=Pm/((2*%pi*N/60));//in N-m\n",
"disp(T,'Gross torque devloped in N-m : ');\n",
"Pc=S*Pm/(1-S);//copper loss in Watts\n",
"disp(Pc,'Rotor Cu losses in watts : ');\n",
"P2=Pc/S;//in watts\n",
"Pin=sqrt(3)*VL*IL*cosfi;//in watts\n",
"Is=IL;//stator current per phase in Ampere\n",
"StatorCuLoss=3*Is^2*Rs;//in watts\n",
"disp(StatorCuLoss,'Stator Copper losses in watts : ');\n",
"StatorLosses=Pin-P2;//in watts\n",
"StatorIronLoss=StatorLosses-StatorCuLoss;//in watts\n",
"disp(StatorIronLoss,'Stator Iron losses in watts : ');\n",
"Eff=Pout*10^3/Pin*100;//in %\n",
"disp(Eff,'Efficiency in % : ');"
   ]
   }
,
{
		   "cell_type": "markdown",
		   "metadata": {},
		   "source": [
			"## Example 1.15: Maximum_Torque_and_Speed.sce"
		   ]
		  },
  {
"cell_type": "code",
	   "execution_count": null,
	   "metadata": {
	    "collapsed": true
	   },
	   "outputs": [],
"source": [
"// Example 1.15\n",
"\n",
"clear; clc; close;\n",
"\n",
"format('v',8);\n",
"// Given data\n",
"Poles=12;//no. of poles\n",
"V1=420;//in volt\n",
"f=50;//in Hz\n",
"r1=2.95;//in watts\n",
"x1=6.82;//in watts\n",
"r2dash=2.08;//in watts\n",
"x2dash=4.11;//in ohm/phase\n",
"ImLine=6.7;//in Ampere\n",
"TcoreLoss=269;//in watts\n",
"S=3;//slip in %\n",
"\n",
"//Calculations\n",
"S=S/100;//slip\n",
"Im=ImLine/sqrt(3);//in Ampere\n",
"Im_bar=Im*exp(%i*(-%pi/2))*(r1+%i*x1);//in Ampere\n",
"//V1=(E1+real(Im_bar))+imag(Im_bar) \n",
"//Equating magnitude of both sides gives a polynomial for E1\n",
"P=[1 2*real(Im_bar) abs(Im_bar)^2-V1^2];\n",
"E1=roots(P);\n",
"E1=E1(2);//discarding -ve value\n",
"Xo=E1/Im;//in ohm\n",
"//Zeq=Xo*exp(%i*(%pi/2))*(r2dash/S)/(%i*Xo+%i*x2dash+r2dash/S);\n",
"Zeq=%i*Xo*(r2dash/S+%i*x2dash)/(%i*Xo+%i*x2dash+r2dash/S);\n",
"Zin=r1+%i*x1+Zeq;//in ohm\n",
"I1=V1/Zin;//in Ampere\n",
"disp('Magnitude is '+string(abs(I1))+' & angle in degree is '+string(atand(imag(I1),real(I1))));\n",
"cosfi=cosd(atand(imag(I1)/real(I1)));//lagging power factor\n",
"disp(cosfi,'Power factor(lagging) : ');\n",
"I2r_dash=I1*(%i*Xo)/(r2dash+%i*(Xo+x2dash));//in Ampere\n",
"//disp(I2r_dash,'Equivalent rotor current in Ampere : ');\n",
"disp('Magnitude is '+string(abs(I2r_dash))+' & angle in degree is '+string(atand(imag(I2r_dash),real(I2r_dash))));\n",
"Ns=120*f/Poles;//in rpm\n",
"T=9.55*3*real(I2r_dash)^2*r2dash/S/Ns;//in N-m\n",
"disp(T,'Torque devloped in N-m : ');\n",
"Zth=(r1+%i*x1)*%i*Xo/((r1+%i*x1)+%i*Xo);//in Ohm\n",
"Rth=real(Zth);//in ohm\n",
"Xth=imag(Zth);//in ohm\n",
"Vth=V1*(%i*Xo)/(r1+%i*(Xth+Xo));//in Volt\n",
"Ws=(2*%pi*Ns/60);//in rad/sec\n",
"Tm=(3/Ws)*0.5*real(Vth)^2/(Rth+sqrt(Rth^2+(Xth+x2dash)^2));//in N-m\n",
"disp(Tm,'Maximum torque devloped in N-m : ');\n",
"Sm=r2dash/sqrt(Rth^2+(Xth+x2dash)^2);//slip\n",
"Nm=Ns*(1-Sm);//\n",
"disp(Nm,'Speed at maximum torque in rpm : ');\n",
"//Answer for rotor equivalent Current and Torque developed is wrong in the book."
   ]
   }
,
{
		   "cell_type": "markdown",
		   "metadata": {},
		   "source": [
			"## Example 1.16: Line_current_Torque_and_Efficiency.sce"
		   ]
		  },
  {
"cell_type": "code",
	   "execution_count": null,
	   "metadata": {
	    "collapsed": true
	   },
	   "outputs": [],
"source": [
"// Example 1.16\n",
"\n",
"clear; clc; close;\n",
"\n",
"format('v',7);\n",
"// Given data\n",
"V=440;//in volt\n",
"P=8;//no. of poles\n",
"Pout=40;//in KW\n",
"f=50;//in Hz\n",
"phase=3;//no. of phase\n",
"R1=0.1;//in ohm\n",
"X1=0.4;//in ohm\n",
"R2dash=0.15;//Equivalent rotor resistance in ohm\n",
"X2dash=0.44;//Equivalent rotor reactance in ohm\n",
"I0=20*expm(%i*-acos(0.09));//in Ampere\n",
"N=727.5;//in rpm\n",
"MechLoss=1000;//in watts\n",
"CoreLoss=1250;//in watts\n",
"\n",
"//Calculations\n",
"Ns=120*f/P;//in rpm\n",
"S=(Ns-N)/Ns;//slip\n",
"RLdash=R2dash*(1-S)/S\n",
"V1=V/sqrt(3);//in volt\n",
"R1e=R1+R2dash;//in ohm\n",
"X1e=X1+X2dash;//in ohm\n",
"I2rdash=V1/(R1e+RLdash+%i*X1e);//in Ampere\n",
"I1bar=I0+I2rdash;//in Ampere\n",
"InputCurrent=abs(I1bar);//in Ampere\n",
"InputPF=cosd(atand(imag(I1bar),real(I1bar)));//\n",
"disp(InputPF,InputCurrent,'(i) Input Current in Ampere & PF(lagging) are : ');\n",
"T=3*abs(I2rdash)^2*R2dash/S/(2*%pi*Ns/60);//in N-m\n",
"disp(T,'(ii) Torque Developed in N-m : ') ;\n",
"P2=3*abs(I2rdash)^2*R2dash/S;//in Watts\n",
"//Formula : P2:Pc:Pm=1:S:1-S\n",
"Pm=(1-S)*P2;//in Watts\n",
"TotPout=Pm-MechLoss;//in watts\n",
"disp(TotPout,'(iii) Output power in Watts : ');\n",
"TotCuLoss=3*abs(I2rdash)^2*R1e;//in watts\n",
"Eff=TotPout/(TotPout+TotCuLoss+CoreLoss+MechLoss)*100;//in %\n",
"disp(Eff,'(iv) Efficiency in % : ');\n",
""
   ]
   }
,
{
		   "cell_type": "markdown",
		   "metadata": {},
		   "source": [
			"## Example 1.17: Maximum_Power_and_Slip.sce"
		   ]
		  },
  {
"cell_type": "code",
	   "execution_count": null,
	   "metadata": {
	    "collapsed": true
	   },
	   "outputs": [],
"source": [
"// Example 1.17\n",
"\n",
"clear; clc; close;\n",
"\n",
"format('v',6);\n",
"// Given data\n",
"Z1=0.07+%i*0.4;//in ohm\n",
"Z2dash=0.08+%i*0.2;//in ohm\n",
"V1_line=200;//in volt\n",
"\n",
"//Calculations\n",
"R1=real(Z1);//in ohm\n",
"X1=imag(Z1);//in ohm\n",
"R2dash=real(Z2dash);//in ohm\n",
"X2dash=imag(Z2dash);//in ohm\n",
"R1e=R1+R2dash;//in ohm\n",
"X1e=X1+X2dash;//in ohm\n",
"Z1e=R1e+%i*X1e;//in ohm\n",
"Z1e_mag=abs(Z1e);//magnitude of Z1e in ohm\n",
"V1PerPhase=V1_line/sqrt(3);//in volt\n",
"Pout_max=3*V1PerPhase^2/2/(R1e+Z1e);//\n",
"S=R2dash/(R2dash+Z1e_mag);//\n",
"disp(S*100,'Slip in % : ')"
   ]
   }
,
{
		   "cell_type": "markdown",
		   "metadata": {},
		   "source": [
			"## Example 1.18: Current_from_mains.sce"
		   ]
		  },
  {
"cell_type": "code",
	   "execution_count": null,
	   "metadata": {
	    "collapsed": true
	   },
	   "outputs": [],
"source": [
"// Example 1.18\n",
"\n",
"clear; clc; close;\n",
"format('v',6);\n",
"// Given data\n",
"P=4;//in poles\n",
"f=50;//in Hz\n",
"Pout=30;//in HP\n",
"VL=400;//in volt\n",
"Eta=0.8;//Efficiency\n",
"cosfi=0.75;//lagging power factor\n",
"\n",
"//Calculations\n",
"Pout=Pout*735.5;//in Watts\n",
"Pin=Pout/Eta;//in Watts\n",
"//Formula : Pin=sqrt(3)*VL*IL*cosfi\n",
"IL=Pin/sqrt(3)/VL/cosfi;//in Ampere\n",
"disp(IL,'Current by the mains in ampere : ');"
   ]
   }
,
{
		   "cell_type": "markdown",
		   "metadata": {},
		   "source": [
			"## Example 1.19: Slip_Load_Efficiency_and_Cycles.sce"
		   ]
		  },
  {
"cell_type": "code",
	   "execution_count": null,
	   "metadata": {
	    "collapsed": true
	   },
	   "outputs": [],
"source": [
"// Example 1.19\n",
"\n",
"clear; clc; close;\n",
"format('v',8);\n",
"// Given data\n",
"P=4;//in poles\n",
"Pout=37;//in HP\n",
"f=50;//in Hz\n",
"N=1425;//in rpm\n",
"MechLoss=3;//in HP\n",
"StatorLoss=2500;//in watts\n",
"VL=500;//in volt\n",
"cosfi=0.9;//power factor\n",
"\n",
"//Calculations\n",
"Ns=120*f/P;//in rpm\n",
"S=(Ns-N)/Ns;//slip\n",
"disp(S,'(i) Slip is :  ');\n",
"Pout=Pout*735.5;//in Watts\n",
"MechLoss=MechLoss*735.5;//in Watts\n",
"Pin=Pout+MechLoss;//in Watts\n",
"//Formula : P2:Pc:Pin=1:5:1-S\n",
"Pc=(S/(1-S))*Pin;//in watts\n",
"disp(Pc,'(ii) Rotor Cu Loss in watts : ');\n",
"P2=Pc/S;//in Watts\n",
"Pin=P2+StatorLoss;//in watts\n",
"disp(Pin,'(iii) Total power input in watts : ');\n",
"Eta=Pout/Pin*100;//in %\n",
"disp(Eta,'(iv) Efficiency in % : ');\n",
"fr=S*f;//in Hz\n",
"fr=fr*60;//in cycles/min\n",
"disp(fr,'(v) No. of cycles per minute : ');\n",
"//Part (ii) & (iii) answer is wrong in the book."
   ]
   }
,
{
		   "cell_type": "markdown",
		   "metadata": {},
		   "source": [
			"## Example 1.1: Ratio_of_Torque.sce"
		   ]
		  },
  {
"cell_type": "code",
	   "execution_count": null,
	   "metadata": {
	    "collapsed": true
	   },
	   "outputs": [],
"source": [
"// Example 1.1 \n",
"\n",
"clear; clc; close;\n",
"\n",
"format('v',6);\n",
"// Given data\n",
"Zinner=0.01+0.5*%i;//Impedence at standstill of inner cage in ohm\n",
"Zouter=0.05+0.1*%i;//Impedence at standstill of outer cage in ohm\n",
"\n",
"//Calculations\n",
"//Part (a) : at starting\n",
"R1=real(Zinner);//in ohm\n",
"R2=real(Zouter);//in ohm\n",
"X1=imag(Zinner);//in ohm\n",
"X2=imag(Zouter);//in ohm\n",
"//Formula : Ts=3/ws*V_dash^2*R2/(R2^2+X2^2)\n",
"TsoBYTsi=(R2/(R2^2+X2^2))/(R1/(R1^2+X1^2))\n",
"disp(TsoBYTsi,'Part(a) Ratio of Torque : ');\n",
"//Part(b) : slip =5%\n",
"S=5/100;//slip\n",
"//Formula : T=3/ws*V_dash^2*(R2/S)^2/((R2/S)+X2^2)\n",
"ToBYTi=((R2/S)/((R2/S)^2+X2^2))/((R1/S)/((R1/S)^2+X1^2))\n",
"disp(ToBYTi,'Part (b) Ratio of Torque : ');"
   ]
   }
,
{
		   "cell_type": "markdown",
		   "metadata": {},
		   "source": [
			"## Example 1.1_s: Full_Load_Slip.sce"
		   ]
		  },
  {
"cell_type": "code",
	   "execution_count": null,
	   "metadata": {
	    "collapsed": true
	   },
	   "outputs": [],
"source": [
"// Example 1.1 Page: 41  \n",
"\n",
"clear; clc; close;\n",
"\n",
"format('v',6);\n",
"// Given data\n",
"P=4;//No. of poles\n",
"f=50;//in Hz\n",
"N=1410;//in rpm\n",
"\n",
"//Calculations\n",
"Ns=120*f/P;//in r\n",
"disp(Ns,'Synchronous speed in rpm : ');\n",
"S=(Ns-N)/Ns;//Full load slip\n",
"S=S*100;//in %\n",
"disp(S,'Full load slip in % : ');"
   ]
   }
,
{
		   "cell_type": "markdown",
		   "metadata": {},
		   "source": [
			"## Example 1.20: Current_per_phase.sce"
		   ]
		  },
  {
"cell_type": "code",
	   "execution_count": null,
	   "metadata": {
	    "collapsed": true
	   },
	   "outputs": [],
"source": [
"// Example 1.20\n",
"\n",
"clear; clc; close;\n",
"format('v',7);\n",
"// Given data\n",
"E2line=60;//in Volt\n",
"R2=0.6;//in ohm\n",
"X2=4;//in ohm\n",
"Rx=5;//in ohm\n",
"Xx=2;//in ohm\n",
"S=4;//in %\n",
"\n",
"//Calculations\n",
"E2ph=E2line/sqrt(3);//in volt\n",
"ZT=R2+%i*X2+Rx+%i*Xx;//\n",
"I2=E2ph/abs(ZT);//in Ampere\n",
"disp(I2,'(i) Rotor Current per phase in Ampere : ');\n",
"S=S/100;//slip\n",
"Z2r=R2+%i*S*X2;//in ohm\n",
"I2r=S*E2ph/abs(Z2r);//in Ampere\n",
"disp(I2r,'(ii) Rotor Current per phase in Ampere : ');"
   ]
   }
,
{
		   "cell_type": "markdown",
		   "metadata": {},
		   "source": [
			"## Example 1.21: Torque_developed.sce"
		   ]
		  },
  {
"cell_type": "code",
	   "execution_count": null,
	   "metadata": {
	    "collapsed": true
	   },
	   "outputs": [],
"source": [
"// Example 1.21\n",
"\n",
"clear; clc; close;\n",
"format('v',7);\n",
"// Given data\n",
"P=4;//no. of poles\n",
"f=50;//in Hz\n",
"P2=3000;//in watts\n",
"\n",
"//Calculations\n",
"Ns=120*f/P;//in rpm\n",
"T=P2/(2*%pi*Ns/60);//in N-m\n",
"disp(T,'Torque Devloped in N-m : ');\n",
"T=T*(2*%pi*Ns/60);//in syn. Watt\n",
"disp(T,'Torque Devloped in syn. Watt : ');"
   ]
   }
,
{
		   "cell_type": "markdown",
		   "metadata": {},
		   "source": [
			"## Example 1.22: Required_External_Resistance.sce"
		   ]
		  },
  {
"cell_type": "code",
	   "execution_count": null,
	   "metadata": {
	    "collapsed": true
	   },
	   "outputs": [],
"source": [
"// Example 1.22\n",
"\n",
"clear; clc; close;\n",
"format('v',7);\n",
"// Given data\n",
"E1Line=1000;//in volt\n",
"R2=0.01;//in ohm\n",
"X2=0.2;//in ohm\n",
"I2st=200;//in Ampere\n",
"ratio=3.6;//ratio of stator to rotor turns\n",
"\n",
"//Calculations\n",
"K=1/ratio;//ratio of rotor to stator turns\n",
"E1ph=E1Line/sqrt(3);//in Volt\n",
"E2ph=K*E1ph;//in volt\n",
"//Let R2dash=R2+Rx\n",
"//Formula : I2st=E2ph/sqrt(R2dash^2+X2^2);\n",
"R2dash=sqrt((E2ph/I2st)^2-X2^2)\n",
"Rx=R2dash-R2;//in ohm\n",
"disp(Rx,'External resistance required per phase in ohm : ');"
   ]
   }
,
{
		   "cell_type": "markdown",
		   "metadata": {},
		   "source": [
			"## Example 1.23: Torque_and_speed.sce"
		   ]
		  },
  {
"cell_type": "code",
	   "execution_count": null,
	   "metadata": {
	    "collapsed": true
	   },
	   "outputs": [],
"source": [
"// Example 1.23\n",
"\n",
"clear; clc; close;\n",
"format('v',7);\n",
"// Given data\n",
"VL=400;//in volt\n",
"E1Line=VL;//in volt\n",
"P=4;//no. of poles\n",
"S=5;//in %\n",
"f=50;//in Hz\n",
"R2=0.15;//in ohm\n",
"X2=1;//in ohm\n",
"ratio=2;//ratio of stator to rotor turns\n",
"\n",
"//Calculations\n",
"S=S/100;//slip\n",
"E1ph=E1Line/sqrt(3);//in Volt\n",
"K=1/ratio;//ratio of rotor to stator turns\n",
"E2ph=K*E1ph;//in volt\n",
"Ns=120*f/P;//in rpm\n",
"ns=Ns/60;//in rps\n",
"T=(3/2/%pi/ns)*S*E2ph^2*R2/(R2^2+(S*X2)^2);//in N-m\n",
"disp(T,'(i) Total Torque devloped in N-m :');\n",
"Tm=(3/2/%pi/ns)*E2ph^2/2/X2;//in N-m\n",
"disp(Tm,'(ii) Maximum Torque in N-m :');\n",
"Sm=R2/X2;//maximum slip\n",
"N=Ns*(1-Sm);//in rpm\n",
"disp(N,'(iii) Speed at maximum torque in rpm : ');"
   ]
   }
,
{
		   "cell_type": "markdown",
		   "metadata": {},
		   "source": [
			"## Example 1.24: Speed_Current_and_Efficiency.sce"
		   ]
		  },
  {
"cell_type": "code",
	   "execution_count": null,
	   "metadata": {
	    "collapsed": true
	   },
	   "outputs": [],
"source": [
"// Example 1.24\n",
"\n",
"clear; clc; close;\n",
"format('v',7);\n",
"// Given data\n",
"VL=400;//in volt\n",
"f=50;//in Hz\n",
"P=6;//no. of poles\n",
"Z1=0.3+%i*0.4;//in ohm\n",
"Z2dash=0.2+%i*0.4;//in ohm\n",
"X0=20;//Magnetic reactance in ohm\n",
"R0=100;//resistance for core loss in ohm\n",
"S=4;//in %\n",
"StatorLoss=2;//in KW\n",
"MechLoss=2;//in KW\n",
"//Calculations\n",
"R1=real(Z1);//in ohm\n",
"R2dash=real(Z2dash);//in ohm\n",
"X1=imag(Z1);//in ohm\n",
"X2dash=imag(Z2dash);//in ohm\n",
"S=S/100;//slip\n",
"V1=VL/sqrt(3);//in volt\n",
"Ns=120*f/P;//in rpm\n",
"Ri=R2dash*(1-S)/S;//in ohm\n",
"R1e=R1+R2dash;//in ohm\n",
"X1e=X1+X2dash;//in ohm\n",
"I2rdash=V1/(R1e+Ri+%i*X1e);//in Ampere\n",
"Ic=V1/R0;//in Ampere\n",
"Im=V1/(%i*X0);//in Ampere\n",
"I0=(Ic+Im);//in Ampere\n",
"CoreLoss=Ic^2*R0;//Core loss per phase in Watts\n",
"I1=I0+I2rdash;//in Ampere\n",
"Istator=abs(I1);//in Ampere\n",
"cosfi=cosd(atand(imag(I1)/real(I1)));//lagging power factor\n",
"\n",
"Pc=3*abs(I2rdash)^2*R2dash;//in Watts\n",
"//Here P2:P0:Pm=1:S:1-S\n",
"Pm=Pc*(1-S)/S;//in watts\n",
"Pout=Pm-MechLoss*1000;//in watts\n",
"StatorCuLoss=3*abs(I1)^2*R1;//in watts\n",
"TotLoss=CoreLoss*3+StatorCuLoss+Pc+MechLoss*1000;//in watts\n",
"Eff=Pout/(Pout+TotLoss)*100;//in %\n",
"N=Ns*(1-S);//in rpm\n",
"disp(N,'(a) Motor Speed in rpm : ');\n",
"disp(Istator,'(b) Stator current in Ampere : ');\n",
"disp(cosfi,'(c) Power factor lagging : ');\n",
"disp(Pout,'(d) Motor Output in Watts : ');\n",
"disp(Eff,'(d) Efficiency in % : ');\n",
"//Answer of Pout is wrong in the book."
   ]
   }
,
{
		   "cell_type": "markdown",
		   "metadata": {},
		   "source": [
			"## Example 1.25: Maximum_Torque.sce"
		   ]
		  },
  {
"cell_type": "code",
	   "execution_count": null,
	   "metadata": {
	    "collapsed": true
	   },
	   "outputs": [],
"source": [
"// Example 1.25\n",
"\n",
"clear; clc; close;\n",
"format('v',7);\n",
"// Given data\n",
"V=440;//in volt\n",
"f=50;//in Hz\n",
"P=4;//no. of poles\n",
"X1=5.2;//in ohm\n",
"R2dash=1.2;//in ohm\n",
"X2dash=4.5;//in ohm\n",
"\n",
"//Calculations\n",
"disp('Magnetic components not present. So, Rth=R1 & Xth=X1')\n",
"//Rth=R1;//in ohm\n",
"//Xth=X1;//in ohm\n",
"//Formula : R2dash/Sm=sqrt(X1^2+X2dash^2)\n",
"Sm=R2dash/(X1+X2dash);//Maximum Slip\n",
"I1=V/sqrt(3)/sqrt((R2dash/Sm)^2+(X1+X2dash)^2);//in Ampere\n",
"I2dash=I1;//in Ampere(Neglecting I0)\n",
"Ns=120*f/P;//in rpm\n",
"Tmax=3*I2dash^2*R2dash/Sm/2/%pi/Ns*60;//in N-m\n",
"disp(Tmax,'Maximum Torque in N-m ; ');\n",
"disp(Sm*100,'Maximum Slip in % : ');"
   ]
   }
,
{
		   "cell_type": "markdown",
		   "metadata": {},
		   "source": [
			"## Example 1.26: Required_External_resistance.sce"
		   ]
		  },
  {
"cell_type": "code",
	   "execution_count": null,
	   "metadata": {
	    "collapsed": true
	   },
	   "outputs": [],
"source": [
"// Example 1.26\n",
"\n",
"clear; clc; close;\n",
"format('v',7);\n",
"// Given data\n",
"f=50;//in Hz\n",
"P=4;//no. of poles\n",
"X2=0.1;//in ohm\n",
"R2=0.02;//in ohm\n",
"//Tst=2/3*Tmax\n",
"TstByTm=2/3;//ratio\n",
"\n",
"//Calculations\n",
"disp('Tst proportional to E2^2*R2dash/(R2dash^2+X2^2)');\n",
"disp('Tm proportional to E2^2/(2*X2)');\n",
"//formula : TstByTm=(E2^2*R2dash/(R2dash^2+X2^2))/(E2^2/(2*X2))\n",
"P=[TstByTm -2*X2 TstByTm*X2^2];//Polynomial for R2dash\n",
"R2dash=roots(P);//\n",
"R2dash=R2dash(2);//discarding higher value bcoc R2dash < X2\n",
"Rex=R2dash-R2;//in ohm\n",
"disp(Rex,'Extra resistance required in ohm : ');"
   ]
   }
,
{
		   "cell_type": "markdown",
		   "metadata": {},
		   "source": [
			"## Example 1.27: Speed_and_Ratio_of_Torque.sce"
		   ]
		  },
  {
"cell_type": "code",
	   "execution_count": null,
	   "metadata": {
	    "collapsed": true
	   },
	   "outputs": [],
"source": [
"// Example 1.27\n",
"\n",
"clear; clc; close;\n",
"format('v',7);\n",
"// Given data\n",
"VL=3300;//in volt\n",
"f=50;//in Hz\n",
"P=10;//no. of poles\n",
"X2=0.25;//in ohm\n",
"R2=0.015;//in ohm\n",
"Sfl=2.5;//Slip in %\n",
"\n",
"//Calculations\n",
"Ns=120*f/P;//in rpm\n",
"N=Ns*(1-Sfl/100);//in rpm\n",
"disp(N,'(1.) The speed of motor, N in rpm : ');\n",
"Sm=R2/X2;//Max Slip\n",
"Nm=Ns*(1-Sm);//Max speed in rpm\n",
"disp(Nm,'(2.) Speed of motor, Ns in rpm : ');\n",
"TmByTfl=Sm*R2/(R2^2+(Sm*X2)^2)*(R2^2+(Sfl/100*X2)^2)/(Sfl/100)/R2;//ratio\n",
"disp(TmByTfl,'(3.) Ratio of max torque to full load torque : ');\n",
"//Answer of 1st part is wrong in the book."
   ]
   }
,
{
		   "cell_type": "markdown",
		   "metadata": {},
		   "source": [
			"## Example 1.28: Rotor_Current_and_Power.sce"
		   ]
		  },
  {
"cell_type": "code",
	   "execution_count": null,
	   "metadata": {
	    "collapsed": true
	   },
	   "outputs": [],
"source": [
"// Example 1.28\n",
"\n",
"clear; clc; close;\n",
"format('v',7);\n",
"// Given data\n",
"V0=400;//in volt\n",
"f=50;//in Hz\n",
"P=10;//no. of poles\n",
"R1=1.75;//in ohm\n",
"X1=5.5;//in ohm\n",
"R2dash=2.25;//in ohm\n",
"X2dash=6.6;//in ohm\n",
"I0=3.8;//in Ampere\n",
"W0=310;//in watts\n",
"S=4;//in %\n",
"\n",
"//Calculations\n",
"S=S/100;//slip in ratio\n",
"//Formula : W0=sqrt(3)*V0*I0*cos_fi0\n",
"cos_fi0=W0/sqrt(3)/V0/I0;//power factor\n",
"sin_fi0=sind(acosd(cos_fi0));\n",
"Ic=I0*cos_fi0;//in Ampere\n",
"Im=I0*sin_fi0;//in Ampere\n",
"Vph=V0/sqrt(3);//in Volt\n",
"R0=Vph/Ic;//in ohm\n",
"X0=Vph/Im;//in ohm\n",
"Ns=120*f/P;//in rpm\n",
"RLdash=R2dash*(1-S)/S;//in ohm\n",
"R1e=R1+R2dash;//in ohm\n",
"X1e=X1+X2dash;//in ohm\n",
"I2rdash=Vph/(R1e+RLdash+%i*X1e);//in Ampere\n",
"disp(I2rdash,'Rotor Current in Ampere : ');\n",
"I0_bar=Ic-%i*Im;//in Ampere\n",
"I1_bar=I0_bar+I2rdash;//Supply current in Ampere\n",
"disp(I1_bar,'Supply Current in Ampere : ');\n",
"cosfi=cosd(atand(imag(I1_bar)/real(I1_bar)));//Lagging power factor\n",
"disp(cosfi,'Power factor(lagging) : ');\n",
"Pc=3*abs(I2rdash)^2*R2dash;//in watts\n",
"//Formula : P2:Pc:Pm=1:S:1-S\n",
"Pm=Pc*(1-S)/S;////in watts\n",
"disp(Pm,'Mechanical power devloped in N-m : ');\n",
"N=Ns*(1-S);//in rpm\n",
"w=2*%pi*N/60;//in rad/sec\n",
"T=Pm/w;//in N-m\n",
"disp(T,'Gross load tporque in N-m : ');"
   ]
   }
,
{
		   "cell_type": "markdown",
		   "metadata": {},
		   "source": [
			"## Example 1.29: Slip_of_Motor.sce"
		   ]
		  },
  {
"cell_type": "code",
	   "execution_count": null,
	   "metadata": {
	    "collapsed": true
	   },
	   "outputs": [],
"source": [
"// Example 1.29\n",
"\n",
"clear; clc; close;\n",
"format('v',7);\n",
"// Given data\n",
"PA=12;//no. of poles\n",
"Ns=500;//in rpm\n",
"N=1440;//in rpm\n",
"\n",
"//Calculations\n",
"//Formula : Ns=120*f/PA\n",
"f=Ns/120*PA;//in Hz\n",
"PM=4;//assumed for motor\n",
"Ns=120*f/PM;//in rpm(For motor)\n",
"S=(Ns-N)/Ns*100;//slip in %\n",
"disp(S,'Slip in % :');"
   ]
   }
,
{
		   "cell_type": "markdown",
		   "metadata": {},
		   "source": [
			"## Example 1.2: Speed_of_Motor.sce"
		   ]
		  },
  {
"cell_type": "code",
	   "execution_count": null,
	   "metadata": {
	    "collapsed": true
	   },
	   "outputs": [],
"source": [
"// Example 1.2\n",
"\n",
"clear; clc; close;\n",
"\n",
"format('v',6);\n",
"// Given data\n",
"P=2;//No. of poles\n",
"f=50;//in Hz\n",
"S=2;//in %\n",
"\n",
"\n",
"//Calculations\n",
"S=S/100;//unitless\n",
"Ns=120*f/P;//in rpm\n",
"N=Ns*(1-S)\n",
"disp(N,'Speed of motor in rpm : ');"
   ]
   }
,
{
		   "cell_type": "markdown",
		   "metadata": {},
		   "source": [
			"## Example 1.30: Required_External_Resistance.sce"
		   ]
		  },
  {
"cell_type": "code",
	   "execution_count": null,
	   "metadata": {
	    "collapsed": true
	   },
	   "outputs": [],
"source": [
"// Example 1.30\n",
"\n",
"clear; clc; close;\n",
"format('v',7);\n",
"// Given data\n",
"R2=0.04;//in ohm\n",
"X2=0.2;//in ohm\n",
"TstByTm=50;//in %\n",
"\n",
"//Calculations\n",
"Sm=1;//slip for max Torque\n",
"R2dash=Sm*X2;//in ohm\n",
"Rx=R2dash-R2;//in ohm\n",
"disp(Rx,'(i) External resistance required for max Torque(ohm ): ');\n",
"TstByTm=TstByTm/100;//in ratio\n",
"//Formula : Tst proportional to E2^2*R2dash/(R2dash^2+X2^2)\n",
"//Formula : Tm Proportional to E2^2/2/X2\n",
"P=[TstByTm -2*X2 TstByTm*X2^2];//Polynomial for R2dash\n",
"R2dash=roots(P);//\n",
"R2dash=R2dash(2);//discarding higher value bcoc R2dash < X2\n",
"Rx=R2dash-R2;//in ohm\n",
"disp(Rx,'(ii) Extra resistance required for 50% max Torque at start(ohm) : ');"
   ]
   }
,
{
		   "cell_type": "markdown",
		   "metadata": {},
		   "source": [
			"## Example 1.31: Ratio_of_Torque.sce"
		   ]
		  },
  {
"cell_type": "code",
	   "execution_count": null,
	   "metadata": {
	    "collapsed": true
	   },
	   "outputs": [],
"source": [
"// Example 1.31\n",
"\n",
"clear; clc; close;\n",
"format('v',7);\n",
"// Given data\n",
"f=50;//in Hz\n",
"P=8;//no. of poles\n",
"Sf=40;//in %\n",
"R2=0.001;//in ohm/phase\n",
"X2=0.005;//in ohm/phase\n",
"\n",
"//Calculations\n",
"Sf=Sf/100;//slip\n",
"//Formula : T proportional to S*R2/(R2^2+(S*X2)^2)\n",
"Sm=R2/X2;//slip for max Torque\n",
"TmByTfl=Sm*R2/(R2^2+(Sm*X2)^2)*(R2^2+(Sf*X2)^2)/Sf/R2;//in ratio\n",
"disp(TmByTfl,'Ratio of max torque to full load torque :  ');\n",
"Ns=120*f/P;//in rpm\n",
"N=Ns*(1-Sm);//in rpm\n",
"disp(N,'Speed for maximum torque in rpm : ');"
   ]
   }
,
{
		   "cell_type": "markdown",
		   "metadata": {},
		   "source": [
			"## Example 1.32: Maximum_Torque_and_Slip.sce"
		   ]
		  },
  {
"cell_type": "code",
	   "execution_count": null,
	   "metadata": {
	    "collapsed": true
	   },
	   "outputs": [],
"source": [
"// Example 1.32\n",
"\n",
"clear; clc; close;\n",
"format('v',7);\n",
"// Given data\n",
"f=50;//in Hz\n",
"P=4;//no. of poles\n",
"VL=400;//in volt\n",
"E2=100;//in volt\n",
"R2=50;//in milli ohm\n",
"X2=0.5;//in ohm\n",
"\n",
"//Calculations\n",
"R2=R2*10^-3;//in ohm\n",
"Sm=R2/X2;//Maximum Slip\n",
"ns=(120*f/P)/60;//in rpS\n",
"Tmax=3/2/%pi/ns*Sm*E2^2*R2/(R2^2+(Sm*X2)^2);//in N-m\n",
"disp(Tmax,'Maximum Torque in N-m : ');\n",
"disp(Sm,'Slip at which Tmax occur : ');"
   ]
   }
,
{
		   "cell_type": "markdown",
		   "metadata": {},
		   "source": [
			"## Example 1.33: Sm_and_Full_load_Slip.sce"
		   ]
		  },
  {
"cell_type": "code",
	   "execution_count": null,
	   "metadata": {
	    "collapsed": true
	   },
	   "outputs": [],
"source": [
"// Example 1.33\n",
"\n",
"clear; clc; close;\n",
"\n",
"format('v',7);\n",
"// Given data\n",
"//Tst=100% of Tfl;//in %\n",
"//Tm=100% of Tfl;//in %\n",
"TstByTfl=100/100;//ratio\n",
"TmByTfl=200/100;//ratio\n",
"\n",
"//Calculations\n",
"//Formula : T proportional to S*E2^2*R2/(R2^2+(S*X2)^2)\n",
"//Formula : TstByTm=2*Sm/(Sm^2+1)\n",
"TstByTm=TstByTfl/TmByTfl;//Calculating TstByTm\n",
"P=[TstByTm -2 TstByTm];//Polynomial for Sm\n",
"Sm=roots(P);\n",
"Sm=Sm(2);//Discarding value > 1\n",
"disp(Sm*100,'Slip at which max Torque occurs(in %) : ');\n",
"//Formula : 1/TstByTm=(Sm^2+Sfl^2)/(2*Sm*Sfl)\n",
"P=[TstByTm -2*Sm Sm^2*TstByTm];//Polynomial for Sfl\n",
"Sfl=roots(P);\n",
"Sfl=Sfl(2);//Discarding value >= 1\n",
"disp(Sfl*100,'Full load slip (in %) : ');"
   ]
   }
,
{
		   "cell_type": "markdown",
		   "metadata": {},
		   "source": [
			"## Example 1.34: Find_Torque.sce"
		   ]
		  },
  {
"cell_type": "code",
	   "execution_count": null,
	   "metadata": {
	    "collapsed": true
	   },
	   "outputs": [],
"source": [
"// Example 1.34\n",
"\n",
"clear; clc; close;\n",
"\n",
"format('v',7);\n",
"// Given data\n",
"P=8;//no. of Poles\n",
"f=50;//in Hz\n",
"Tm=150;//in N-m\n",
"N=650;//in rpm\n",
"R2=0.6;//in ohm\n",
"S=4;//in %\n",
"\n",
"//Calculations\n",
"S=S/100;//Slip\n",
"Ns=120*f/P;//in rpm\n",
"Sm=(Ns-N)/Ns;//Maximum Slip\n",
"//Formula : T proportional to S*E2^2*R2/(R2^2+(S*X2)^2)\n",
"X2=R2/Sm;//in ohm\n",
"T=Tm*S*(R2^2+(Sm*X2)^2)/Sm/(R2^2+(S*X2)^2);//In N-m\n",
"disp(T,'Torque at 4% slip (in N-m) : ');"
   ]
   }
,
{
		   "cell_type": "markdown",
		   "metadata": {},
		   "source": [
			"## Example 1.35: Stator_Current_and_Power_factor.sce"
		   ]
		  },
  {
"cell_type": "code",
	   "execution_count": null,
	   "metadata": {
	    "collapsed": true
	   },
	   "outputs": [],
"source": [
"// Example 1.35\n",
"\n",
"clear; clc; close;\n",
"\n",
"format('v',7);\n",
"// Given data\n",
"V=400;//in volts\n",
"P=4;//no. of Poles\n",
"f=50;//in Hz\n",
"r1=0.15;//in ohm\n",
"x1=0.44;//in ohm\n",
"r2dash=0.12;//in ohm\n",
"x2dash=0.44;//in ohm\n",
"xm=30;//in ohm\n",
"S=4;//in %\n",
"\n",
"//Calculations\n",
"S=S/100;//Slip\n",
"RLdash=r2dash*(1-S)/S;//in ohm\n",
"V1=V/sqrt(3);//in volt\n",
"I2rdash=V1/(r1+r2dash+RLdash+%i*(x1+x2dash));//in Ampere\n",
"I0=V1/(%i*xm);//in Ampere\n",
"I1=I0+I2rdash;//in Ampere\n",
"disp('Stator Current in Ampere : ');\n",
"disp('Magnitude is '+string(abs(I1))+' & angle in degree is '+string(atand(imag(I1),real(I1))));\n",
"cosfi=cosd(atand(imag(I1),real(I1)));//lagging power factor\n",
"disp(cosfi,'Power factor(lagging) : ');"
   ]
   }
,
{
		   "cell_type": "markdown",
		   "metadata": {},
		   "source": [
			"## Example 1.36: External_Resistance.sce"
		   ]
		  },
  {
"cell_type": "code",
	   "execution_count": null,
	   "metadata": {
	    "collapsed": true
	   },
	   "outputs": [],
"source": [
"// Example 1.36\n",
"\n",
"clear; clc; close;\n",
"\n",
"// Given data\n",
"VL=440;//in volts\n",
"P=4;//no. of Poles\n",
"f=50;//in Hz\n",
"//Zleak=0.3+%i*5.5+0.25/S;//in ohm/phase\n",
"K=2.5;//Stator to rotor voltage ratio\n",
"T=150;//in N-m\n",
"N=1250;//in rpm\n",
"\n",
"//Calculations\n",
"Ns=120*f/P;//in rpm\n",
"S=(Ns-N)/Ns;//slip\n",
"Zleakage=1/3*(0.3+%i*5.5+0.25/S);//in ohm/phase\n",
"V1=VL/sqrt(3);//in volt\n",
"disp('I2rdash=V1/sqrt((0.1+Rx/S)^2+1.83^2) after adding additional resistance.');\n",
"disp('T=1/2/%pi/ns*3*I2rdash^2*Rx/S');\n",
"//R2x^2*T*S*2*%pi*ns/S^2+R2x*T*S*2*%pi*ns*0.2/S+T*S*2*%pi*ns*0.01+T*S*2*%pi*ns*1.83^2-3*(V1^2)*R2x=0;//equating\n",
"ns=Ns/60;//in rps\n",
"P=[T*S*2*%pi*ns/S^2 T*S*2*%pi*ns*0.2/S-3*(V1^2) T*S*2*%pi*ns*0.01+T*S*2*%pi*ns*1.83^2];//polynomial for value of R2xdash\n",
"R2x=roots(P);//\n",
"R2x=R2x(1);//neglecting lower value\n",
"Rx_stator=R2x-0.083;//in ohm\n",
"format('v',5);\n",
"disp(Rx_stator,'External resistance referred to stator in ohm : ');\n",
"Rx_rotor=Rx_stator/K^2;//in ohm/phase\n",
"format('v',6);\n",
"disp(Rx_rotor,'External resistance rotor side in ohm/phase : ');"
   ]
   }
,
{
		   "cell_type": "markdown",
		   "metadata": {},
		   "source": [
			"## Example 1.37: Polar_Slip_and_fields.sce"
		   ]
		  },
  {
"cell_type": "code",
	   "execution_count": null,
	   "metadata": {
	    "collapsed": true
	   },
	   "outputs": [],
"source": [
"// Example 1.37\n",
"\n",
"clear; clc; close;\n",
"\n",
"format('v',7);\n",
"// Given data\n",
"Nnl=1485;//in rpm\n",
"Nfl=1350;//in rpm\n",
"f=50;//in Hz\n",
"\n",
"//Calculations\n",
"Ns=1500;//nearest syn speed to Nfl in rpm(Assumed)\n",
"//Formula : Ns=120*f/P\n",
"P=120*f/Ns;//no. of poles\n",
"disp('Part (i)');\n",
"disp(P,'No. of poles : ');\n",
"Snl=(Ns-Nnl)/Ns;//slip\n",
"disp('Part (ii)');\n",
"disp(Snl*100,'No load Slip in % : ');\n",
"Sfl=(Ns-Nfl)/Ns;//slip\n",
"disp(Sfl*100,'No load Slip in % : ');\n",
"fr_nl=f*Snl;//in Hz\n",
"fr_fl=f*Sfl;//in Hz\n",
"disp('Part (iii)');\n",
"disp(fr_nl,'No load frequency in Hz : ');\n",
"disp(fr_fl,'Full load frequency in Hz : ');\n",
"//Part (iv)\n",
"disp('On No Load : ');\n",
"N1=120*fr_nl/P;//speed of rotor field with respect to rotor conductor in rpm\n",
"disp(N1,'Speed of rotor field with respect to rotor conductor in rpm : ');\n",
"Rf_wrtS=1500;//in rpm\n",
"Rf_wrtSF=0;//in rpm\n",
"disp(Rf_wrtS,'Rotor field with respect to stator(rpm) : ');\n",
"disp(Rf_wrtSF,'Rotor field with respect to stator field(rpm) : ');\n",
"disp('On Full Load : ');\n",
"N2=120*fr_fl/P;//speed of rotor field with respect to rotor conductor in rpm\n",
"disp(N2,'Speed of rotor field with respect to rotor conductor in rpm : ');\n",
"Rf_wrtS=1500;//in rpm\n",
"Rf_wrtSF=0;//in rpm\n",
"disp(Rf_wrtS,'Rotor field with respect to stator(rpm) : ');\n",
"disp(Rf_wrtSF,'Rotor field with respect to stator field(rpm) : ');\n",
"//Answer of no load slip is wrong in the book."
   ]
   }
,
{
		   "cell_type": "markdown",
		   "metadata": {},
		   "source": [
			"## Example 1.38: Slip_at_Maximum_Torque.sce"
		   ]
		  },
  {
"cell_type": "code",
	   "execution_count": null,
	   "metadata": {
	    "collapsed": true
	   },
	   "outputs": [],
"source": [
"// Example 1.38\n",
"\n",
"clear; clc; close;\n",
"\n",
"format('v',7);\n",
"// Given data\n",
"VL=3.3;//in KV\n",
"P=20;//no of poles\n",
"f=50;//in Hz\n",
"R2=0.025;//in ohm/phase\n",
"X2=0.28;//in ohm/phase\n",
"N=294;//Full load speed in rpm\n",
"\n",
"//Calculations\n",
"Sm=R2/X2;//Max Slip\n",
"disp(Sm*100,'Slip at max torque(in %) : ');\n",
"Ns=120*f/P;//in rpm\n",
"Sfl=(Ns-N)/Ns;//Full load slip\n",
"//Formula : T proportional to S*E2^2*R2/(R2^2+(S*X2)^2)\n",
"TmByTfl=Sm/(R2^2+(Sm*X2)^2)*((R2^2+(Sfl*X2)^2))/Sfl;//ratio\n",
"disp(TmByTfl,'Ratio of max to full load torqiue : ');"
   ]
   }
,
{
		   "cell_type": "markdown",
		   "metadata": {},
		   "source": [
			"## Example 1.39: Total_Mechanical_Power.sce"
		   ]
		  },
  {
"cell_type": "code",
	   "execution_count": null,
	   "metadata": {
	    "collapsed": true
	   },
	   "outputs": [],
"source": [
"// Example 1.39\n",
"\n",
"clear; clc; close;\n",
"\n",
"format('v',7);\n",
"// Given data\n",
"Pin=50;//in KW\n",
"StatorLoss=800;//in watts\n",
"f=50;//in Hz\n",
"fr=90;//cycles/min\n",
"\n",
"//Calculations\n",
"fr=fr/60;//in Hz\n",
"S=fr/f;//slip\n",
"P2=Pin*1000-StatorLoss;//watts\n",
"//Formula : P2:Pc:Pm=1:S:1-S\n",
"Pm=P2*(1-S);//in watts\n",
"disp(Pm,'Total Mechanical power devloped in watts : ');"
   ]
   }
,
{
		   "cell_type": "markdown",
		   "metadata": {},
		   "source": [
			"## Example 1.3: Frequency_of_EMF.sce"
		   ]
		  },
  {
"cell_type": "code",
	   "execution_count": null,
	   "metadata": {
	    "collapsed": true
	   },
	   "outputs": [],
"source": [
"// Example 1.3\n",
"\n",
"clear; clc; close;\n",
"\n",
"format('v',6);\n",
"// Given data\n",
"P=4;//No. of poles\n",
"f=50;//in Hz\n",
"N=1470;//in rpm\n",
"\n",
"//Calculations\n",
"Ns=120*f/P;//in rpm\n",
"S=(Ns-N)/Ns;//Slip\n",
"fr=S*f;//induced emf frequency in Hz\n",
"disp(fr,'Induced emf frequency in Hz : ');"
   ]
   }
,
{
		   "cell_type": "markdown",
		   "metadata": {},
		   "source": [
			"## Example 1.40: Torque_and_power.sce"
		   ]
		  },
  {
"cell_type": "code",
	   "execution_count": null,
	   "metadata": {
	    "collapsed": true
	   },
	   "outputs": [],
"source": [
"// Example 1.40\n",
"\n",
"clear; clc; close;\n",
"\n",
"format('v',8);\n",
"// Given data\n",
"P=4;//no. of poles\n",
"VL=200;//in volt\n",
"f=50;//in Hz\n",
"R2=0.1;//in ohm/phase\n",
"X2=0.9;//in ohm/phase\n",
"S=4;//in %\n",
"K=0.67;//rotor to stator turns  \n",
"\n",
"//Calculations\n",
"S=S/100;//slip\n",
"E1ph=VL/sqrt(3);//in volt\n",
"E2ph=K*E1ph;//in volt\n",
"Ns=120*f/P;//in rpm\n",
"ns=Ns/60;//in rps\n",
"T=3/2/%pi/ns*S*E2ph^2*R2/(R2^2+(S*X2)^2);//in N-m\n",
"disp(T,'Total torque at 4% slip in N-m :');\n",
"Tm=3/2/%pi/ns*E2ph^2/2/X2;//in N-m\n",
"disp(Tm,'Maximum torque developed in N-m :');\n",
"Sm=R2/X2;//Max Slip\n",
"Nm=Ns*(1-Sm);//in rpm\n",
"disp(Nm,'Speed at max Torque in rpm : ');\n",
"Pmax=Tm*2*%pi*Nm/60;//in watts\n",
"disp(Pmax,'Maximum mechanical power in watts : ');"
   ]
   }
,
{
		   "cell_type": "markdown",
		   "metadata": {},
		   "source": [
			"## Example 1.41: Cu_Loss_and_Efficiency.sce"
		   ]
		  },
  {
"cell_type": "code",
	   "execution_count": null,
	   "metadata": {
	    "collapsed": true
	   },
	   "outputs": [],
"source": [
"// Example 1.41\n",
"\n",
"clear; clc; close;\n",
"\n",
"format('v',8);\n",
"// Given data\n",
"P=6;//no. of poles\n",
"f=50;//in Hz\n",
"Tsh=150;//in N-m\n",
"fr=1.5;//in Hz\n",
"Tlost=10;//in N-m\n",
"\n",
"//Calculations\n",
"S=fr/f;//slip\n",
"Ns=120*f/P;//in rpm\n",
"N=Ns*(1-S);//in rpm\n",
"RotationalLoss=Tlost*2*%pi*N/60;//in watts\n",
"Pout=Tsh*2*%pi*N/60;//in watts\n",
"Pm=Pout+RotationalLoss;//in watts\n",
"//Formula : P2:Pc:Pm=1:S:1-S\n",
"Pc=Pm*S/(1-S);//in watts\n",
"disp(Pc,'Rotor Copper Loss(Watts) : ');\n",
"P2=Pc/S;//in watts\n",
"disp(P2 ,'Input to the rotor(Watts) : ');\n",
"StatorLoss=700;//in watts(assumed)\n",
"Pin=P2+StatorLoss;//in watts]\n",
"Eff=Pout/Pin*100;//in %\n",
"disp(Eff,'Efficiency in % : ');"
   ]
   }
,
{
		   "cell_type": "markdown",
		   "metadata": {},
		   "source": [
			"## Example 1.42: Supply_starting_current.sce"
		   ]
		  },
  {
"cell_type": "code",
	   "execution_count": null,
	   "metadata": {
	    "collapsed": true
	   },
	   "outputs": [],
"source": [
"// Example 1.42\n",
"\n",
"clear; clc; close;\n",
"\n",
"format('v',6);\n",
"// Given data\n",
"Sfl=5;//in %\n",
"IscByIfl=6;//ratio\n",
"\n",
"//Calculations\n",
"Sfl=Sfl/100;//slip\n",
"TstByTfl=1;//as Tfl=Tst\n",
"//Let X= tapping on transformer\n",
"X=sqrt(TstByTfl/(IscByIfl^2)/Sfl);//Tapping on transformer\n",
"disp(X,'Tapping on auto transformer : ');\n",
"IstByIfl=X^2*IscByIfl;//supply starting current to full load current \n",
"disp('The supply starting current is '+string(IstByIfl)+' times of full load current.');"
   ]
   }
,
{
		   "cell_type": "markdown",
		   "metadata": {},
		   "source": [
			"## Example 1.43: Ratio_of_Torque.sce"
		   ]
		  },
  {
"cell_type": "code",
	   "execution_count": null,
	   "metadata": {
	    "collapsed": true
	   },
	   "outputs": [],
"source": [
"// Example 1.43\n",
"\n",
"clear; clc; close;\n",
"\n",
"format('v',6);\n",
"// Given data\n",
"TmByTfl=2.5;//ratio\n",
"R2=0.4;//in ohm/phase\n",
"X2=4;//in ohm/phase\n",
"\n",
"//Calculations\n",
"//Formula : Tm=K*E2^2/2/X2 and Tst=K*E2^2*R2/(R2^2+X2^2)\n",
"//E2=E2/sqrt(3);//for star delta starter\n",
"TstByTfl=(TmByTfl*2*X2)*R2/(R2^2+X2^2)/3;//calculated from above equations\n",
"disp(TstByTfl,'ratio of starting torque to full load torque is : ');"
   ]
   }
,
{
		   "cell_type": "markdown",
		   "metadata": {},
		   "source": [
			"## Example 1.44: Ratio_of_Torque.sce"
		   ]
		  },
  {
"cell_type": "code",
	   "execution_count": null,
	   "metadata": {
	    "collapsed": true
	   },
	   "outputs": [],
"source": [
"// Example 1.44\n",
"\n",
"clear; clc; close;\n",
"\n",
"format('v',6);\n",
"// Given data\n",
"Zouter=0.05+%i*0.10;//in ohm\n",
"Zinner=0.01+%i*0.60;//in ohm\n",
"S=3;//in %\n",
"\n",
"//Calculations\n",
"R2o=real(Zouter);//in ohm\n",
"R2i=real(Zinner);//in ohm\n",
"X2o=imag(Zouter);//in ohm\n",
"X2i=imag(Zinner);//in ohm\n",
"S=S/100;//slip\n",
"//Formula : T=3/2/%pi/ns*(S*E2^2*R2/(R2^2+(S*X2)^2))\n",
"S=1;//at starting\n",
"TouterByTinner=R2o/R2i*(R2i^2+X2i^2)/(R2o^2+X2o^2);//\n",
"disp(TouterByTinner,'(i) Ratio of torque due to two cages at starting : ');\n",
"S=3/100;//Slip at running\n",
"TouterByTinner=R2o/R2i*(R2i^2+(S*X2i)^2)/(R2o^2+(S*X2o)^2);//\n",
"disp(TouterByTinner,'(ii) Ratio of torque due to two cages when running at 3% slip : ');"
   ]
   }
,
{
		   "cell_type": "markdown",
		   "metadata": {},
		   "source": [
			"## Example 1.45: Starting_Torque.sce"
		   ]
		  },
  {
"cell_type": "code",
	   "execution_count": null,
	   "metadata": {
	    "collapsed": true
	   },
	   "outputs": [],
"source": [
"// Example 1.45\n",
"\n",
"clear; clc; close;\n",
"\n",
"format('v',4);\n",
"// Given data\n",
"Zi=0.6+%i*7;//in ohm\n",
"Zo=3.5+%i*1.5;//in ohm\n",
"Sfl=6;//in %\n",
"\n",
"//Calculations\n",
"//At starting S=1\n",
"Ro=real(Zo);//in ohm\n",
"Ri=real(Zi);//in ohm\n",
"Xo=imag(Zo);//in ohm\n",
"Xi=imag(Zi);//in ohm\n",
"Zeq1=Zi*Zo/(Zi+Zo);//equivalent impedence in ohm\n",
"Req1=real(Zeq1);//in ohm\n",
"//I2=V/Zeq\n",
"//Tst=I2^2*R2;//in N-m\n",
"\n",
"//During full load\n",
"S=Sfl/100;//slip \n",
"Zi=Ri/S+%i*Xi;//in ohm\n",
"Zo=Ro/S+%i*Xo;//in ohm\n",
"Zeq2=Zi*Zo/(Zi+Zo);//equivalent impedence in ohm\n",
"Req2=real(Zeq2);//in ohm\n",
"//I2=V/Zeq\n",
"//Tfl=I2^2*R2;//in N-m\n",
"TstByTfl=(1/abs(Zeq1)^2)/(1/abs(Zeq2)^2)*Req1/Req2;//ratio\n",
"disp('Starting torque is '+string(TstByTfl*100)+'% of full load torque.');\n",
"//Answer in the book is not accurate."
   ]
   }
,
{
		   "cell_type": "markdown",
		   "metadata": {},
		   "source": [
			"## Example 1.46: Extra_Resistance_Required.sce"
		   ]
		  },
  {
"cell_type": "code",
	   "execution_count": null,
	   "metadata": {
	    "collapsed": true
	   },
	   "outputs": [],
"source": [
"// Example 1.46\n",
"\n",
"clear; clc; close;\n",
"\n",
"format('v',6);\n",
"// Given data\n",
"P=4;//no. of poles\n",
"f=50;//in Hz\n",
"R2=0.2;//in ohm per phase\n",
"X2=1;//in ohm per phase\n",
"Sf=4;//full load slip in %\n",
"N2=1260;//reduced speed in rpm\n",
"\n",
"//Calculations\n",
"Sf=Sf/100;//full load slip\n",
"Ns=120*f/P;//in rpm\n",
"S2=(Ns-N2)/Ns;//new value of slip\n",
"//Let new resistance is R2dash\n",
"//Formula : T proportional to S*E2^2*R2/(R2^2+(S*X2)^2)\n",
"//T1=T2 as load is same\n",
"//R2dash^2*Sf*E2^2*R2-R2dash*[R2^2+(Sf*X2)^2]*(S2*E2^2)+Sf*E2^2*R2*(S2*X2)^2=0\n",
"P=[Sf*R2 -[R2^2+(Sf*X2)^2]*(S2) Sf*R2*(S2*X2)^2];//polynomial for R2dash\n",
"R2dash=roots(P);\n",
"R2dash=R2dash(1);//discarding smaller value as R2dash cant be < R2\n",
"Rex=R2dash-R2\n",
"disp(Rex,'Extra resistance required in ohm per phase : ');"
   ]
   }
,
{
		   "cell_type": "markdown",
		   "metadata": {},
		   "source": [
			"## Example 1.47: External_Resistance_required.sce"
		   ]
		  },
  {
"cell_type": "code",
	   "execution_count": null,
	   "metadata": {
	    "collapsed": true
	   },
	   "outputs": [],
"source": [
"// Example 1.47\n",
"\n",
"clear; clc; close;\n",
"\n",
"format('v',6);\n",
"// Given data\n",
"P=4;//no. of poles\n",
"V2=415;//in volt\n",
"f=50;//in Hz\n",
"E2ByE1=1.75;//stator to rotor turn ratio\n",
"Z2=0.1+%i*0.9;//in ohm\n",
"I2=60;//in Ampere at start\n",
"\n",
"\n",
"X2=1;//in ohm per phase\n",
"Sf=4;//full load slip in %\n",
"N2=1260;//reduced speed in rpm\n",
"\n",
"//Calculations\n",
"R2=real(Z2);//in ohm\n",
"X2=imag(Z2);//in ohm\n",
"E1ph=V2/sqrt(3);//in volt\n",
"E2ph=E1ph/E2ByE1;//in Volt\n",
"//Formula : I2=E2ph/sqrt(R2dash^2+X2^2)\n",
"R2dash=sqrt((E2ph/I2)^2-X2^2);//in ohm\n",
"Rex=R2dash-R2;//in ohm per phase\n",
"disp(Rex,'Extra resiatance required in ohm : ');"
   ]
   }
,
{
		   "cell_type": "markdown",
		   "metadata": {},
		   "source": [
			"## Example 1.48: Two_speeds_of_motor.sce"
		   ]
		  },
  {
"cell_type": "code",
	   "execution_count": null,
	   "metadata": {
	    "collapsed": true
	   },
	   "outputs": [],
"source": [
"// Example 1.48\n",
"\n",
"clear; clc; close;\n",
"\n",
"format('v',6);\n",
"// Given data\n",
"P=16;//no. of poles\n",
"PM=4;//no. of poles of modulating function\n",
"n=1;//assumed\n",
"r=4;//assumed\n",
"f=50;//in Hz\n",
"\n",
"//Calculations\n",
"check=n/r==1/3*(1-PM/P);\n",
"if check then\n",
"    disp('Equation is satisfied with -ve sign.');\n",
"    P2=P+PM;\n",
"    \n",
"end\n",
"check=n/r==1/3*(1+PM/P);\n",
"if check then\n",
"    disp('Equation is satisfied with +ve sign.')\n",
"    P2=P-PM;\n",
"end\n",
"Ns1=120*f/P;//in rpm\n",
"Ns2=120*f/P2;//in rpm\n",
"disp(Ns2,Ns1,'Two speeds(in rpm) are : ');"
   ]
   }
,
{
		   "cell_type": "markdown",
		   "metadata": {},
		   "source": [
			"## Example 1.49: Various_synchronous_speeds.sce"
		   ]
		  },
  {
"cell_type": "code",
	   "execution_count": null,
	   "metadata": {
	    "collapsed": true
	   },
	   "outputs": [],
"source": [
"// Example 1.49\n",
"\n",
"clear; clc; close;\n",
"\n",
"format('v',6);\n",
"// Given data\n",
"PA=4;//no. of poles\n",
"PB=6;//no. of poles\n",
"f=50;//in Hz\n",
"\n",
"//Calculations\n",
"Ns=120*f/PA;//in rpm, A running alone\n",
"disp(Ns,'(1.) If A running alone, Speed in rpm is : ');\n",
"Ns=120*f/PB;//in rpm, B running alone\n",
"disp(Ns,'(2.) If B running alone, Speed in rpm is : ');\n",
"Ns=120*f/(PA+PB);//in rpm, Cumulative cascade\n",
"disp(Ns,'(3.) For Cumulative cascade, Speed in rpm is : ');\n",
"Ns=120*f/(PA-PB);//in rpm, Differential cascade\n",
"disp(Ns,'(4.) Differential cascade, Speed in rpm is : ');"
   ]
   }
,
{
		   "cell_type": "markdown",
		   "metadata": {},
		   "source": [
			"## Example 1.4: Frequency_and_magnitude_of_emf.sce"
		   ]
		  },
  {
"cell_type": "code",
	   "execution_count": null,
	   "metadata": {
	    "collapsed": true
	   },
	   "outputs": [],
"source": [
"// Example 1.4\n",
"\n",
"clear; clc; close;\n",
"\n",
"format('v',6);\n",
"// Given data\n",
"P=4;//No. of poles\n",
"f=50;//in Hz\n",
"K=1/2;//rotor to stator turns\n",
"N=1455;//in rpm\n",
"E1_line=415;//in volt\n",
"\n",
"\n",
"//Calculations\n",
"Ns=120*f/P;//in rpm\n",
"S=(Ns-N)/Ns;//Slip\n",
"fr=S*f;//induced emf frequency in Hz\n",
"disp(fr,'(i) Frequency of rotor emf in running condition in Hz : ');\n",
"N2BYN1=K;//rotor to stator turns\n",
"N1BYN2=1/K;//stator to rotor turns\n",
"E1ph=E1_line/sqrt(3);//\n",
"//Formula : E2ph/E1ph=K\n",
"E2ph=E1ph*K;//in volt\n",
"disp(E2ph,'(ii) Rotor induced emf at standstill in volt : ');\n",
"E2r=S*E2ph;//in volt\n",
"disp(E2r,'(iii) Rotor induced emf at running condition in volt : ');"
   ]
   }
,
{
		   "cell_type": "markdown",
		   "metadata": {},
		   "source": [
			"## Example 1.50: Slip_of_machine.sce"
		   ]
		  },
  {
"cell_type": "code",
	   "execution_count": null,
	   "metadata": {
	    "collapsed": true
	   },
	   "outputs": [],
"source": [
"// Example 1.50\n",
"\n",
"clear; clc; close;\n",
"\n",
"format('v',5);\n",
"// Given data\n",
"PA=4;//no. of poles\n",
"PB=6;//no. of poles\n",
"f=50;//in Hz\n",
"fr2=1;//in Hz\n",
"\n",
"//Calculations\n",
"Nsc=120*f/(PA+PB);//synchronous speed of set in rpm\n",
"S=1;//Slip\n",
"N=Nsc-(S/f)*Nsc;//combined speed of set in rpm\n",
"disp(N,'Combibned spoeed of set in rpm : ');\n",
"NSA=120*f/PA;//in rpm\n",
"SA=(NSA-N)/NSA;//slip \n",
"disp(SA*100,'Slip of machines B in % : ');\n",
"fr1=SA*f;//in Hz\n",
"NSB=120*fr1/PB;//in rpm\n",
"SB=(NSB-N)/NSB;//slip\n",
"disp(SB*100,'Slip of machines B in % : ');"
   ]
   }
,
{
		   "cell_type": "markdown",
		   "metadata": {},
		   "source": [
			"## Example 1.51: External_Resistance_Required.sce"
		   ]
		  },
  {
"cell_type": "code",
	   "execution_count": null,
	   "metadata": {
	    "collapsed": true
	   },
	   "outputs": [],
"source": [
"// Example 1.51\n",
"\n",
"clear; clc; close;\n",
"\n",
"format('v',5);\n",
"// Given data\n",
"P=4;//no. of poles\n",
"f=50;//in Hz\n",
"R2=0.25;//in ohm per phase\n",
"X2=2;//in ohm per phase\n",
"N1=1455;//ion rpm\n",
"N2=N1*83/100;//in rpm\n",
" \n",
"//Calculations\n",
"Ns=120*f/P;//synchronous speed in rpm\n",
"S1=(Ns-N1)/Ns;//Slip\n",
"S2=(Ns-N2)/Ns;//Slip at reduced speed\n",
"//Formula : T proportional to S*E2^2*R2/(R2^2+(S*X2)^2)\n",
"T1ByT2=1;//as T1=T2 & For T2: R2dash Rex+R2\n",
"//S1*R2*R2dash^2-R2dash(T1ByT2*S2*R2^2+T1ByT2*S2*(S1*X2)^2)+S1*R2*(S2*X2)^2=0\n",
"P=[S1*R2 -(T1ByT2*S2*R2^2+T1ByT2*S2*(S1*X2)^2) S1*R2*(S2*X2)^2];//Polynomial for R2dash\n",
"R2dash=roots(P);//in ohjm per phase\n",
"R2dash=R2dash(1);//neglecting lower value\n",
"Rex=R2dash-R2;//in ohm per phase\n",
"disp(Rex,'External resistance required in ohm per phase : ');"
   ]
   }
,
{
		   "cell_type": "markdown",
		   "metadata": {},
		   "source": [
			"## Example 1.52: Resistance_in_Series.sce"
		   ]
		  },
  {
"cell_type": "code",
	   "execution_count": null,
	   "metadata": {
	    "collapsed": true
	   },
	   "outputs": [],
"source": [
"// Example 1.52\n",
"\n",
"clear; clc; close;\n",
"\n",
"format('v',5);\n",
"// Given data\n",
"P=6;//no. of poles\n",
"f=50;//in Hz\n",
"Sf=3;//in %\n",
"R2=0.2;//in ohm per phase\n",
" \n",
"//Calculations\n",
"Sf=Sf/100;//Slip \n",
"Ns=120*f/P;//in rpm\n",
"N1=Ns*(1-Sf);//in rpm\n",
"N2=N1*90/100;//in rpm\n",
"S2=(Ns-N2)/Ns;//new slip\n",
"//Formula : T=K*S*E2^2*R2/R2^2;//S*X2 is neglected\n",
"//Sf/R2=S2/(R2+r);  if Tfl=T20\n",
"r=(S2*R2)/Sf-R2;//Extra resistance required in ohm\n",
"disp(r,'Extra resistance necessery in series in ohm : ');"
   ]
   }
,
{
		   "cell_type": "markdown",
		   "metadata": {},
		   "source": [
			"## Example 1.53: Starting_Torque.sce"
		   ]
		  },
  {
"cell_type": "code",
	   "execution_count": null,
	   "metadata": {
	    "collapsed": true
	   },
	   "outputs": [],
"source": [
"// Example 1.53\n",
"\n",
"clear; clc; close;\n",
"\n",
"format('v',6);\n",
"// Given data\n",
"IscByIfl=5;//ratio\n",
"Sf=5;//in %\n",
"K=50;//tapping in %\n",
" \n",
"//Calculations\n",
"Sf=Sf/100;//Slip \n",
"//(i) Start delta \n",
"TstByTfl=1/3*IscByIfl^2*Sf;//ratio\n",
"disp('(i) Starting torque is '+string(TstByTfl*100)+'% of full load torque.');\n",
"//(ii) Auto Transformer having 50% tapping\n",
"K=K/100;//tapping\n",
"TstByTfl=K^2*IscByIfl^2*Sf;//ratio\n",
"disp('(ii) Starting torque is '+string(TstByTfl*100)+'% of full load torque.');"
   ]
   }
,
{
		   "cell_type": "markdown",
		   "metadata": {},
		   "source": [
			"## Example 1.54: Starting_Torque_and_Current.sce"
		   ]
		  },
  {
"cell_type": "code",
	   "execution_count": null,
	   "metadata": {
	    "collapsed": true
	   },
	   "outputs": [],
"source": [
"// Example 1.54\n",
"\n",
"clear; clc; close;\n",
"\n",
"format('v',6);\n",
"// Given data\n",
"P=6;//no. of poles\n",
"f=50;//in Hz\n",
"Ifl=60;//in Ampere\n",
"N=940;//speed in rpm\n",
"Tfl=150;//in N-m\n",
"Isc=300;//in Ampere\n",
" \n",
"//Calculations\n",
"Ns=120*f/P;//in rpm\n",
"Sf=(Ns-N)/Ns;//Slip full load\n",
"//Formula : Tst/Tfl=(Isc/Ifl)^2*Sf\n",
"Tst=(Isc/Ifl)^2*Sf*Tfl;//in N-m\n",
"disp(Tst,'Starting Torque in N-m : ');\n",
"//For Start delta \n",
"Tst=1/3*(Isc/Ifl)^2*Sf*Tfl;//in N-m\n",
"disp(Tst,'Starting Torque for star delta starter in N-m : ');\n",
"Isc=sqrt(3*Tst/Tfl/Sf)*Ifl;//in Ampere\n",
"disp(Isc,'Starting current for star delta starter in Ampere :  ');"
   ]
   }
,
{
		   "cell_type": "markdown",
		   "metadata": {},
		   "source": [
			"## Example 1.55: Ratio_of_starting_Torque.sce"
		   ]
		  },
  {
"cell_type": "code",
	   "execution_count": null,
	   "metadata": {
	    "collapsed": true
	   },
	   "outputs": [],
"source": [
"// Example 1.55\n",
"\n",
"clear; clc; close;\n",
"\n",
"format('v',7);\n",
"// Given data\n",
"TmByTfl=2.2;//ratio\n",
"R2=0.5;//in ohm per phase\n",
"X2=5;//in ohm per phase\n",
"K=70;//tapping in %\n",
" \n",
"//Calculations\n",
"//Formula :Tst proportional to E2^2*R2/(R2^2+X2^2) \n",
"//Formula :Tm proportional to E2^2/(2*X2) \n",
"//Formula :Tfl proportional to 1/4.4*E2^2/X2\n",
"TstByTfl=R2/(R2^2+X2^2)*TmByTfl*2*X2;//ratio for direct on line\n",
"disp(TstByTfl,'Ratio of starting torque to full load torque for direct on line starter : ');\n",
"TstByTfl=(1/sqrt(3))^2*R2/(R2^2+X2^2)*TmByTfl*2*X2;//ratio for star delta starting\n",
"disp(TstByTfl,'Ratio of starting torque to full load torque for star delta starter : ');\n",
"TstByTfl=(K/100)^2*R2/(R2^2+X2^2)*TmByTfl*2*X2;//ratio for auto transformer starting\n",
"disp(TstByTfl,'Ratio of starting torque to full load torque for auto transformer starter : ');"
   ]
   }
,
{
		   "cell_type": "markdown",
		   "metadata": {},
		   "source": [
			"## Example 1.56: Starting_Torque_to_full_Load_Torque.sce"
		   ]
		  },
  {
"cell_type": "code",
	   "execution_count": null,
	   "metadata": {
	    "collapsed": true
	   },
	   "outputs": [],
"source": [
"// Example 1.56\n",
"\n",
"clear; clc; close;\n",
"\n",
"format('v',7);\n",
"// Given data\n",
"TmByTfl=3;//ratio\n",
"Sm=0.1;//slip at max Torque\n",
" \n",
"//Calculations\n",
"TstByTfl_dol=2*Sm/(1+Sm^2)*TmByTfl;//ratio for D.O.L starter\n",
"disp(TstByTfl_dol,'Ratio of starting torque to full load torque for D.O.L starter : ');\n",
"TstByTfl=1/3*TstByTfl_dol;//ratio for star delta starting\n",
"disp(TstByTfl,'Ratio of starting torque to full load torque for star delta starter : ');\n",
"//Anser of first part is not given in the book."
   ]
   }
,
{
		   "cell_type": "markdown",
		   "metadata": {},
		   "source": [
			"## Example 1.57: Maximum_possible_KW.sce"
		   ]
		  },
  {
"cell_type": "code",
	   "execution_count": null,
	   "metadata": {
	    "collapsed": true
	   },
	   "outputs": [],
"source": [
"// Example 1.57\n",
"\n",
"clear; clc; close;\n",
"\n",
"format('v',7);\n",
"// Given data\n",
"VL=400;//in volt\n",
"Ist=1200;//in Ampere\n",
"Eff=0.85;//Efficiency\n",
"cosfi=0.8;//power factor\n",
"IstByIrated=5;//ratio\n",
" \n",
"//Calculations\n",
"I2_rated=Ist/IstByIrated;//in Ampere\n",
"KWrating=sqrt(3)*VL*I2_rated*cosfi*Eff;//in KW\n",
"//To have star delta styarter tapping Xo=1/sqrt(3)\n",
"//Ist=X0^2*IstByIrated*IL\n",
"X0=1/sqrt(3);//tapping\n",
"IL=Ist/X0^2/IstByIrated;//in Ampere\n",
"KWmax=sqrt(3)*VL*IL*cosfi*Eff/1000;//in KW\n",
"disp(KWmax,'Maximum KW rating with star delta starter : ');"
   ]
   }
,
{
		   "cell_type": "markdown",
		   "metadata": {},
		   "source": [
			"## Example 1.58: Starting_Torque_and_Current.sce"
		   ]
		  },
  {
"cell_type": "code",
	   "execution_count": null,
	   "metadata": {
	    "collapsed": true
	   },
	   "outputs": [],
"source": [
"// Example 1.58\n",
"\n",
"clear; clc; close;\n",
"\n",
"format('v',7);\n",
"// Given data\n",
"IscByIfl=3*180/100;//ratio\n",
"TstByTfl=0.35;//ratio\n",
"X=80/100;//tapping\n",
" \n",
"//Calculations\n",
"//Formula : TstByTfl=1/3*(IscByIfl^2)*Sfl\n",
"Sfl=TstByTfl/IscByIfl^2*3;//slip at full load\n",
"IstByIsc=X^2;//ratio\n",
"IstByIfl=IstByIsc*IscByIfl;//ratio\n",
"disp('Starting current is '+string(IstByIfl)+' times of full load current.');\n",
"TstByTfl=X^2*IscByIfl^2*Sfl;//ratio\n",
"disp('Starting torque is '+string(TstByTfl*100)+'% of full load torque.');"
   ]
   }
,
{
		   "cell_type": "markdown",
		   "metadata": {},
		   "source": [
			"## Example 1.59: Ratio_of_Torque.sce"
		   ]
		  },
  {
"cell_type": "code",
	   "execution_count": null,
	   "metadata": {
	    "collapsed": true
	   },
	   "outputs": [],
"source": [
"// Example 1.59\n",
"\n",
"clear; clc; close;\n",
"\n",
"format('v',6);\n",
"// Given data\n",
"Zouter=0.05+%i*0.11;//in ohm\n",
"Zinner=0.015+%i*0.5;//in ohm\n",
" \n",
"//Calculations\n",
"R2odash=real(Zouter);//in ohm\n",
"X2odash=imag(Zouter);//in ohm\n",
"R2idash=real(Zinner);//in ohm\n",
"X2idash=imag(Zinner);//in ohm\n",
"TouterByTinner=R2odash/(R2odash^2+X2odash^2)*(R2idash^2+X2idash^2)/R2idash;//ratio\n",
"disp(TouterByTinner,'Ratio of Torque due to two windinga : ');"
   ]
   }
,
{
		   "cell_type": "markdown",
		   "metadata": {},
		   "source": [
			"## Example 1.5: Rotor_current_and_power_factor.sce"
		   ]
		  },
  {
"cell_type": "code",
	   "execution_count": null,
	   "metadata": {
	    "collapsed": true
	   },
	   "outputs": [],
"source": [
"// Example 1.5\n",
"\n",
"clear; clc; close;\n",
"\n",
"format('v',6);\n",
"// Given data\n",
"P=4;//No. of poles\n",
"f=50;//in Hz\n",
"R2=0.2;//in ohm\n",
"X2=1;//in ohm\n",
"N=1440;//in rpm\n",
"E2_line=120;//in volt\n",
"\n",
"\n",
"//Calculations\n",
"E2ph=E2_line/sqrt(3);//\n",
"cosfi_2=R2/sqrt(R2^2+X2^2);//lagging power factor\n",
"I2=E2ph/sqrt(R2^2+X2^2);//in Ampere/phase\n",
"disp(cosfi_2,'(i) Rotor power factor(lagging) : ');\n",
"disp(I2,'(i) Rotor Current in Ampere per phase: ');\n",
"Ns=120*f/P;//in rpm\n",
"S=(Ns-N)/Ns;//Slip\n",
"cosfi_2r=R2/sqrt(R2^2+(S*X2)^2);//lagging power factor\n",
"I2r=S*E2ph/sqrt(R2^2+(S*X2)^2);//in Ampere\n",
"disp(cosfi_2r,'(ii) Rotor power factor(lagging) : ');\n",
"disp(I2r,'(ii) Rotor Current in Ampere : ');"
   ]
   }
,
{
		   "cell_type": "markdown",
		   "metadata": {},
		   "source": [
			"## Example 1.60: Obtainable_Speed.sce"
		   ]
		  },
  {
"cell_type": "code",
	   "execution_count": null,
	   "metadata": {
	    "collapsed": true
	   },
	   "outputs": [],
"source": [
"// Example  1.60\n",
"\n",
"clc;clear;close;\n",
"\n",
"// Given data\n",
"PA=4;//no. of poles\n",
"PB=4;//no. of poles\n",
"f=50;//in Hz\n",
"V=440;//in volt\n",
"\n",
"//calculations\n",
"//Independently with A\n",
"Ns=120*f/PA;//in rpm\n",
"disp(Ns,'Independently with A, Synchrpnous speed Ns in rpm is : ');\n",
"//Independently with B\n",
"Ns=120*f/PB;//in rpm\n",
"disp(Ns,'Independently with B, Synchrpnous speed Ns in rpm is : ');\n",
"//Running as cumulative cascaded\n",
"Ns=120*f/(PA+PB);//in rpm\n",
"disp(Ns,'Running as cumulative cascaded, Synchrpnous speed Ns in rpm is : ');\n",
"//Running as differentially cascaded\n",
"disp('Running as differentially cascaded, Synchrpnous speed Ns is undefined.');"
   ]
   }
,
{
		   "cell_type": "markdown",
		   "metadata": {},
		   "source": [
			"## Example 1.61: Starting_Torque_and_Current.sce"
		   ]
		  },
  {
"cell_type": "code",
	   "execution_count": null,
	   "metadata": {
	    "collapsed": true
	   },
	   "outputs": [],
"source": [
"// Example  1.61\n",
"\n",
"clc;clear;close;\n",
"\n",
"// Given data\n",
"IscByIfl=3*180/100;//ratio\n",
"TstByTfl=35/100;//ratio\n",
"X=75;//tapping in %\n",
"\n",
"//calculations\n",
"X=X/100;//tapping\n",
"\n",
"//Star delta starting\n",
"//Formula : TstByTfl=1/3*IscByIfl*Sfl\n",
"Sfl=TstByTfl*3/IscByIfl^2;//slip at full load\n",
"\n",
"//Auto transformer  starting\n",
"IstByIsc=X^2;//ratio\n",
"IstByIfl=X^2*IscByIfl;//ratio\n",
"disp('Starting current is '+string(IstByIfl*100)+'% of fulll load current.');\n",
"TstByTfl=X^2*IscByIfl^2*Sfl;//ratio\n",
"disp('Starting torque is '+string(TstByTfl*100)+'% of fulll load torque.');\n",
"//Answer of starting current in terms of full load curremt is not given in the book."
   ]
   }
,
{
		   "cell_type": "markdown",
		   "metadata": {},
		   "source": [
			"## Example 1.62: Line_current_various_starting.sce"
		   ]
		  },
  {
"cell_type": "code",
	   "execution_count": null,
	   "metadata": {
	    "collapsed": true
	   },
	   "outputs": [],
"source": [
"// Example  1.62\n",
"\n",
"clc;clear;close;\n",
"\n",
"// Given data\n",
"format('v',6)\n",
"VL=400;//in volt\n",
"f=50;//in Hz\n",
"I=100;//i Ampere\n",
"\n",
"//calculations\n",
"//D.O.L starter\n",
"IL=I*sqrt(3);//in Ampere\n",
"disp(IL,'(i) The line current for direct on line starting in Ampere : ');\n",
"//In star delta starter\n",
"Vph=VL/sqrt(3);//in Volt\n",
"Iph=I/sqrt(3);//in Ampere\n",
"disp(Iph,'(ii) Starting phase current for star delta starting in Ampere : ');\n",
"disp(Iph,'(ii) Starting line current for star delta starting in Ampere : ');\n",
"//Auto transformer starter\n",
"K=70/100;//tapping of auto transformer\n",
"Vph=VL/sqrt(3);//in Volt\n",
"Vline=K*VL;//in volt\n",
"Ist_phase=Vline*I/VL;//in Ampere\n",
"disp(Ist_phase,'(iii) Starting phase current of motor in Ampere : ');\n",
"Ist_line=Ist_phase*sqrt(3);//in Ampere\n",
"disp(Ist_line,'(iii) Starting line current of motor in Ampere : ');\n",
"IsupplyLine=K*Ist_line;//in Ampere\n",
"disp(IsupplyLine,'(iii) Supply line current of motor in Ampere : ');"
   ]
   }
,
{
		   "cell_type": "markdown",
		   "metadata": {},
		   "source": [
			"## Example 1.63: Slip_and_No_of_Poles.sce"
		   ]
		  },
  {
"cell_type": "code",
	   "execution_count": null,
	   "metadata": {
	    "collapsed": true
	   },
	   "outputs": [],
"source": [
"// Example  1.63\n",
"\n",
"clc;clear;close;\n",
"\n",
"// Given data\n",
"format('v',6);\n",
"P=12;//no. of poles\n",
"Ns=500;//in rpm\n",
"Nr=1440;//in rpm\n",
"\n",
"//calculations\n",
"f1=P*Ns/120;//in Hz\n",
"Nsm=1500;//in rpm (Assumed closed synchronous speed)\n",
"S=(Nsm-Nr)/Nsm;//slip\n",
"disp(S*100,'Slip of the motor in % : ');\n",
"Pm=120*f1/Nsm;//no. of poles of the motor\n",
"disp(Pm,'No. of poles of the motor : ');"
   ]
   }
,
{
		   "cell_type": "markdown",
		   "metadata": {},
		   "source": [
			"## Example 1.64: Slip_and_Speed.sce"
		   ]
		  },
  {
"cell_type": "code",
	   "execution_count": null,
	   "metadata": {
	    "collapsed": true
	   },
	   "outputs": [],
"source": [
"// Example  1.64\n",
"\n",
"clc;clear;close;\n",
"\n",
"// Given data\n",
"format('v',6);\n",
"P=4;//no. of poles\n",
"f1=50;//in Hz\n",
"f2=1.5;//in Hz\n",
"\n",
"//calculations\n",
"S=f2/f1;//slip\n",
"disp(S*100,'Slip in % : ');\n",
"Ns=120*f1/P;//in rpm\n",
"N=(1-S)*Ns;//in rpm\n",
"disp(N,'Running speed of motor in rpm : ');"
   ]
   }
,
{
		   "cell_type": "markdown",
		   "metadata": {},
		   "source": [
			"## Example 1.65: Speed_and_Current.sce"
		   ]
		  },
  {
"cell_type": "code",
	   "execution_count": null,
	   "metadata": {
	    "collapsed": true
	   },
	   "outputs": [],
"source": [
"// Example  1.65\n",
"\n",
"clc;clear;close;\n",
"\n",
"// Given data\n",
"format('v',6);\n",
"P=6;//no. of poles\n",
"f1=50;//in Hz\n",
"S0=1;//in %\n",
"Sfl=3;//in %\n",
"\n",
"//calculations\n",
"S0=S0/100;//slip\n",
"Sfl=Sfl/100;//slip\n",
"Ns=120*f1/P;//in rpm\n",
"disp(Ns,'(a) Synchronous speed in rpm : ');\n",
"N0=(1-S0)*Ns;//in rpm\n",
"disp(N0,'(b) No Load speed in rpm : ');\n",
"Nfl=(1-Sfl)*Ns;//in rpm\n",
"disp(Ns,'(c) Full load speed in rpm : ');\n",
"f2_st=f1*S0;//in Hz\n",
"disp(f2_st,'(d) Frequeny of rotor current at standstill in Hz : ');\n",
"f2_fl=f1*Sfl;//in Hz\n",
"disp(f2_fl,'(e) Frequeny of rotor current at full load in Hz : ');\n",
"//Answer of part (c) & part(d) is wrong. Calcultion mistake & slip is not divided by 100."
   ]
   }
,
{
		   "cell_type": "markdown",
		   "metadata": {},
		   "source": [
			"## Example 1.66: Speed_and_Frequency.sce"
		   ]
		  },
  {
"cell_type": "code",
	   "execution_count": null,
	   "metadata": {
	    "collapsed": true
	   },
	   "outputs": [],
"source": [
"// Example  1.66\n",
"\n",
"clc;clear;close;\n",
"\n",
"// Given data\n",
"format('v',7);\n",
"P=4;//no. of poles\n",
"f1=50;//in Hz\n",
"S=4;//in %\n",
"R2=1;//in ohm/phase\n",
"X2=4;//in ohm/phase\n",
"\n",
"//calculations\n",
"Ns=120*f1/P;//in rpm\n",
"S=S/100;//slip\n",
"//part (a)\n",
"N=(1-S)*Ns;//in rpm\n",
"disp(N,'(a) Speed of the motor in rpm : ');\n",
"//part (b)\n",
"f2=S*f1;//in Hz\n",
"disp(f2,'(b) Frequency of rotor emf in Hz  : ');\n",
"//part (i)\n",
"Z2=R2+%i*X2;//in ohm\n",
"cosfi=cosd(atand(imag(Z2),real(Z2)));//power factor\n",
"disp(cosfi,'(i) Power factor at standstill(lag) : ');\n",
"//part (ii)\n",
"N=1400;//speed in rpm (given for this part)\n",
"S1=(Ns-N)/Ns;//slip\n",
"Z2s1=R2+%i*S1*X2;//in ohm\n",
"cosfi=cosd(atand(imag(Z2s1),real(Z2s1)));//power factor at 1400 rpm speed\n",
"disp(cosfi,'(ii) Power factor at 1400 rpm(lag) : ');"
   ]
   }
,
{
		   "cell_type": "markdown",
		   "metadata": {},
		   "source": [
			"## Example 1.67: Rotor_Current.sce"
		   ]
		  },
  {
"cell_type": "code",
	   "execution_count": null,
	   "metadata": {
	    "collapsed": true
	   },
	   "outputs": [],
"source": [
"// Example  1.67\n",
"\n",
"clc;clear;close;\n",
"\n",
"// Given data\n",
"format('v',6);\n",
"E=60;//in volt\n",
"Zrotor=0.8+%i*6;//rotor impedence in ohm/phase\n",
"Zstator=4+%i*3;//stator impedence in ohm/phase\n",
"S=5;//in %\n",
"\n",
"//calculations\n",
"E2=E/sqrt(3);//emf induced/phase in volt\n",
"Ztotal=Zstator+Zrotor;//in ohm/phase\n",
"//Part (a)\n",
"I2=E2/Ztotal;//in Ampere\n",
"disp('Part(a) Magnitude is '+string(abs(I2))+' & angle in degree is '+string(atand(imag(I2),real(I2))));\n",
"//Part (b)\n",
"S=S/100;//slip\n",
"R2=real(Zrotor);//in ohm/phase\n",
"X2=imag(Zrotor);//in ohm/phase\n",
"I2s=S*E2/(R2+S*%i*X2);//in ampere\n",
"disp('Part(b) Magnitude is '+string(abs(I2s))+' & angle in degree is '+string(atand(imag(I2s),real(I2s))));\n",
"//Answer of part (b) is wrong in the book."
   ]
   }
,
{
		   "cell_type": "markdown",
		   "metadata": {},
		   "source": [
			"## Example 1.68: Mechanical_Power_developed.sce"
		   ]
		  },
  {
"cell_type": "code",
	   "execution_count": null,
	   "metadata": {
	    "collapsed": true
	   },
	   "outputs": [],
"source": [
"// Example  1.68\n",
"\n",
"clc;clear;close;\n",
"\n",
"// Given data\n",
"format('v',7);\n",
"Pis=60;//in KW\n",
"phase=3;//no. of phase\n",
"S=3;//in %\n",
"StatorLaser=1;//in KW\n",
"\n",
"//calculations\n",
"S=S/100;//slip \n",
"StatorOutput=Pis-StatorLaser;//in KW\n",
"RotorInput=StatorOutput;//in KW\n",
"RotorCuLoss=S*RotorInput;//in KW\n",
"RotorCuLoss_phase=S*RotorInput/phase;//in KW/phase\n",
"disp(RotorCuLoss_phase,'Rotor Copper loss per phase in KW : ');\n",
"MechPower=RotorInput-RotorCuLoss;//in KW\n",
"disp(MechPower,'Total mechanical lpower devloped in KW : ');"
   ]
   }
,
{
		   "cell_type": "markdown",
		   "metadata": {},
		   "source": [
			"## Example 1.69: Cu_Loss_Input_and_Efficciency.sce"
		   ]
		  },
  {
"cell_type": "code",
	   "execution_count": null,
	   "metadata": {
	    "collapsed": true
	   },
	   "outputs": [],
"source": [
"// Example  1.69\n",
"\n",
"clc;clear;close;\n",
"\n",
"// Given data\n",
"format('v',7);\n",
"P=6;//no. of poles\n",
"f1=50;//in Hz\n",
"f2=1.5;//in Hz\n",
"Zo=150;//useful Torque in N-m\n",
"FrictionLoss=10;//in N-m\n",
"Psc=700;//stator loss in watt\n",
"\n",
"//calculations\n",
"Ns=120*f1/P;//in rpm\n",
"S=f2/f1;//slip\n",
"Nr=(1-S)*Ns;//in rpm\n",
"wr=2*%pi*Nr/60;//in rad/sec\n",
"Po=Zo*wr;//in watts\n",
"Pmd=(Zo+FrictionLoss)*wr;//in watts\n",
"//Part (a)\n",
"Prc=S/(1-S)*Pmd;//in watts\n",
"disp(Prc/1000,'(a) Rotor Copper Loss in KW : ');\n",
"//Part (b)\n",
"Pi=Pmd+Prc+Psc;//in watts\n",
"disp(Pi/1000,'(b) Input to the motor in KW : ');\n",
"//Part (c)\n",
"Eff=Po/Pi;//Effiiency\n",
"disp(Eff*100,'(d) Efficiency in % :  ');"
   ]
   }
,
{
		   "cell_type": "markdown",
		   "metadata": {},
		   "source": [
			"## Example 1.6: Torque_developed.sce"
		   ]
		  },
  {
"cell_type": "code",
	   "execution_count": null,
	   "metadata": {
	    "collapsed": true
	   },
	   "outputs": [],
"source": [
"// Example 1.6\n",
"\n",
"clear; clc; close;\n",
"\n",
"format('v',6);\n",
"// Given data\n",
"P=4;//No. of poles\n",
"f=50;//in Hz\n",
"R2=0.1;//in ohm\n",
"X2=1;//in ohm\n",
"N=1440;//in rpm\n",
"E1_line=400;//in volt\n",
"Kdash=2;//stator turns by rotor turns\n",
"\n",
"//Calculations\n",
"K=1/Kdash;//rotor turns by stator turns\n",
"Ns=120*f/P;//in rpm\n",
"E1ph=E1_line/sqrt(3);//\n",
"//Formula : E2ph/E1ph=K\n",
"E2ph=E1ph*K;//in volt\n",
"S=(Ns-N)/Ns;//Slip\n",
"ns=Ns/60;//synchronous speed in rps\n",
"T=3/(2*%pi*ns)*(S*E2ph^2*R2)/(R2^2+(S*X2)^2);//in N-m\n",
"disp(T,'Torque devloped on full load in N-m : ');"
   ]
   }
,
{
		   "cell_type": "markdown",
		   "metadata": {},
		   "source": [
			"## Example 1.70: Slip_Speed_Power_Resistance.sce"
		   ]
		  },
  {
"cell_type": "code",
	   "execution_count": null,
	   "metadata": {
	    "collapsed": true
	   },
	   "outputs": [],
"source": [
"// Example  1.70\n",
"\n",
"clc;clear;close;\n",
"\n",
"// Given data\n",
"format('v',6);\n",
"V=440;//in Volt\n",
"f=50;//in Hz\n",
"phase=3;//no. of phase\n",
"P=6;//no. of poles\n",
"Pin=80;//rotor input in KW\n",
"f1=50;//in Hz\n",
"f2=100;//in rotation/min\n",
"I=65;//rotor current in Ampere\n",
"\n",
"//calculations\n",
"f2=f2/60;//in Hz\n",
"S=f2/f1;//slip\n",
"disp(S,'Slip(p.u) : ');\n",
"Ns=120*f/P;//in rpm\n",
"Nr=Ns*(1-S);//in rpm\n",
"disp(Nr,'Rotor speed in rpm : ');\n",
"RotorCuLoss=S*Pin*1000;//in Watts\n",
"Pmd=Pin*1000-RotorCuLoss;//Mechanical powre developed /in watts\n",
"Pmd=Pmd/746;//in HP\n",
"disp(Pmd,'Mechanical power developed in HP : ');\n",
"RotorCuLoss_phase=RotorCuLoss/phase;//in watts/phase\n",
"disp(RotorCuLoss_phase,'Rotor Coopper Loss per phase in watts : ');\n",
"R2=RotorCuLoss_phase/I^2;//in ohm\n",
"disp(R2,'Rotor resistance per phase in ohm : ');"
   ]
   }
,
{
		   "cell_type": "markdown",
		   "metadata": {},
		   "source": [
			"## Example 1.71: Resistance_per_phase.sce"
		   ]
		  },
  {
"cell_type": "code",
	   "execution_count": null,
	   "metadata": {
	    "collapsed": true
	   },
	   "outputs": [],
"source": [
"// Example  1.71\n",
"\n",
"clc;clear;close;\n",
"\n",
"// Given data\n",
"format('v',7);\n",
"f1=50;//in Hz\n",
"phase=3;//no. of phase\n",
"P=6;//no. of poles\n",
"Nr=960;//in rpm\n",
"GearCuLoss=250;//in watt\n",
"Power=25;//in HP\n",
"MechLoss=1000;//in watts\n",
"I2=35;//in Ampere\n",
"\n",
"//calculations\n",
"Ns=f1*120/P;//in rpm\n",
"S=(Ns-Nr)/Ns;//slip\n",
"//Formula : RotorCuLoss=S/(1-S)*MechDevPower\n",
"//3*I2^2*R2+GearCuLoss=S/(1-S)*(Power*746+MechLoss)\n",
"R2=(S/(1-S)*(Power*746+MechLoss)-GearCuLoss)/3/I2^2;//in ohm\n",
"disp(R2,'Resistance per phase in ohm : ');"
   ]
   }
,
{
		   "cell_type": "markdown",
		   "metadata": {},
		   "source": [
			"## Example 1.72: Slip_I2R_loss_and_current.sce"
		   ]
		  },
  {
"cell_type": "code",
	   "execution_count": null,
	   "metadata": {
	    "collapsed": true
	   },
	   "outputs": [],
"source": [
"// Example  1.72\n",
"\n",
"clc;clear;close;\n",
"\n",
"// Given data\n",
"format('v',6);\n",
"V=500;//in Volt\n",
"f1=50;//in Hz\n",
"phase=3;//no. of phase\n",
"P=6;//no. of poles\n",
"Nr=995;//in rpm\n",
"Pm=20;//mech power in KW\n",
"StatorLoss=1500;//in watts\n",
"pf=0.87;//power facator\n",
"\n",
"//calculations\n",
"Ns=f1*120/P;//in rpm\n",
"S=(Ns-Nr)/Ns;//slip\n",
"disp(S,'(a) Slip is : ');\n",
"Prc=S/(1-S)*Pm*1000;//in watts\n",
"disp(Prc,'(b) Rotor I^2*R Loss in watts : ');\n",
"RotorInput=Prc/S;//in watts\n",
"TotalInput=RotorInput+StatorLoss;//in watts\n",
"disp(TotalInput/1000,'(c) Total input in KW : ');\n",
"LineCurrent=TotalInput/sqrt(3)/V/pf;//in Ampere\n",
"disp(LineCurrent,'(d) Line current in Ampere : ')\n",
"fr=S*f1;//in Hz\n",
"disp(fr,'Rotor frequency in HZ : ');"
   ]
   }
,
{
		   "cell_type": "markdown",
		   "metadata": {},
		   "source": [
			"## Example 1.73: Rotor_Mechanical_Power.sce"
		   ]
		  },
  {
"cell_type": "code",
	   "execution_count": null,
	   "metadata": {
	    "collapsed": true
	   },
	   "outputs": [],
"source": [
"// Example  1.73\n",
"\n",
"clc;clear;close;\n",
"\n",
"// Given data\n",
"format('v',6);\n",
"StatorLoss=2;//in KW\n",
"StatorInput=90;//stator input in KW\n",
"S=4;//in %\n",
"\n",
"//calculations\n",
"S=S/100;//slip\n",
"StatorOutput=StatorInput-StatorLoss;//in KW\n",
"Pri=StatorOutput;//rotor input in KW\n",
"Pcr=S*Pri;//in KW\n",
"disp(Pcr,'Rotor Copper Loss in KW : ');\n",
"Pm=Pri-Pcr;//in KW\n",
"disp(Pm,'Rotor mechanical power developed in KW : ');"
   ]
   }
,
{
		   "cell_type": "markdown",
		   "metadata": {},
		   "source": [
			"## Example 1.74: Current_per_phase_in_rotor.sce"
		   ]
		  },
  {
"cell_type": "code",
	   "execution_count": null,
	   "metadata": {
	    "collapsed": true
	   },
	   "outputs": [],
"source": [
"// Example  1.74\n",
"\n",
"clc;clear;close;\n",
"\n",
"// Given data\n",
"format('v',6);\n",
"emf=60;//in volt\n",
"R2=0.6;//in ohm\n",
"X2=4;//in ohm\n",
"Rrh=5;//in ohm\n",
"Xrh=2;//in ohm\n",
"S=4;//in %\n",
"\n",
"//calculations\n",
"S=S/100;//slip\n",
"E2=emf/sqrt(3);//in volt\n",
"Rt=R2+Rrh;//in ohm\n",
"Xt=X2+Xrh;//in ohm\n",
"I2=E2/sqrt(Rt^2+Xt^2);//in Ampere\n",
"disp(I2,'(a) Current per phase in rotor in Ampere : ');\n",
"E2s=S*E2;//in volt\n",
"Z2s=sqrt(R2^2+(S*X2)^2);//in ohm\n",
"I2s=E2s/Z2s;//in Ampere\n",
"disp(I2s,'(b) Current per phase in rotor in Ampere : ');"
   ]
   }
,
{
		   "cell_type": "markdown",
		   "metadata": {},
		   "source": [
			"## Example 1.75: External_resistance_per_phase.sce"
		   ]
		  },
  {
"cell_type": "code",
	   "execution_count": null,
	   "metadata": {
	    "collapsed": true
	   },
	   "outputs": [],
"source": [
"// Example  1.75\n",
"\n",
"clc;clear;close;\n",
"\n",
"// Given data\n",
"format('v',6);\n",
"R2=0.05;//in ohm\n",
"X2=0.1;//in ohm\n",
"\n",
"//calculations\n",
"R2dash=X2;//for max Torque\n",
"r=R2dash-R2;//in ohm\n",
"disp(r,'External resistance per phase required in ohm : ');"
   ]
   }
,
{
		   "cell_type": "markdown",
		   "metadata": {},
		   "source": [
			"## Example 1.76: Maximum_Torque_and_Speed.sce"
		   ]
		  },
  {
"cell_type": "code",
	   "execution_count": null,
	   "metadata": {
	    "collapsed": true
	   },
	   "outputs": [],
"source": [
"// Example  1.76\n",
"\n",
"clc;clear;close;\n",
"\n",
"// Given data\n",
"format('v',6);\n",
"P=6;//no. of poles\n",
"f=50;//in Hz\n",
"Sfl=4;//in %\n",
"Z2=0.01+%i*0.05;//in ohm\n",
"\n",
"//calculations\n",
"S=Sfl/100;//slip\n",
"R2=real(Z2);//in ohm\n",
"X2=imag(Z2);//in ohm\n",
"Sm=R2/X2;//slip at max speed\n",
"Ns=120*f/P;//in rpm\n",
"Nm=(1-Sm)*Ns;//in rpm\n",
"TmaxByTfl=(S^2+Sm^2)/2/S/Sm;//ratio\n",
"disp('Maximum Torque is '+string(TmaxByTfl)+' times of full load torque.');"
   ]
   }
,
{
		   "cell_type": "markdown",
		   "metadata": {},
		   "source": [
			"## Example 1.77: Torque_exerted_by_motor.sce"
		   ]
		  },
  {
"cell_type": "code",
	   "execution_count": null,
	   "metadata": {
	    "collapsed": true
	   },
	   "outputs": [],
"source": [
"// Example  1.76\n",
"\n",
"clc;clear;close;\n",
"\n",
"// Given data\n",
"format('v',6);\n",
"P=6;//no. of poles\n",
"f=50;//in Hz\n",
"Tmax=30;//in N-m\n",
"Nm=960;//in rpm\n",
"S=5;//in %\n",
"R2=0.6;//in ohm\n",
"\n",
"//calculations\n",
"S=S/100;//slip\n",
"Ns=120*f/P;//in rpm\n",
"Sm=(Ns-Nm)/Ns;//slip at max speed\n",
"X2=R2/Sm;//in ohm\n",
"Tau_s=2*S*Sm/(S^2+Sm^2)*Tmax;//in N-m\n",
"disp(Tau_s,'Torque exerted by the motor in N-m : ');"
   ]
   }
,
{
		   "cell_type": "markdown",
		   "metadata": {},
		   "source": [
			"## Example 1.78: Resistance_inserted_in_series.sce"
		   ]
		  },
  {
"cell_type": "code",
	   "execution_count": null,
	   "metadata": {
	    "collapsed": true
	   },
	   "outputs": [],
"source": [
"// Example  1.78\n",
"\n",
"clc;clear;close;\n",
"\n",
"// Given data\n",
"format('v',6);\n",
"P=4;//no. of poles\n",
"f=50;//in Hz\n",
"Tmax=110;//in N-m\n",
"Nm=1360;//in rpm\n",
"R2=0.25;//in ohm\n",
"TstByTmax=1/2;//ratio\n",
"\n",
"//calculations\n",
"Ns=120*f/P;//in rpm\n",
"Sm=(Ns-Nm)/Ns;//slip at max speed\n",
"X2=R2/Sm;//in ohm\n",
"//Formula : Tmax=K*E2^2/2/X2 and Tst=K*E2^2*(R2+r)/((R2+r)^2+X2^2)\n",
"//TstByTmax*RT^2+TstByTmax*X2^2-RT*2*X2=0;\n",
"P=[TstByTmax -2*X2 X2^2*TstByTmax];//polynomial for RT\n",
"RT=roots(P);//in ohm\n",
"r=RT-R2;//in ohm\n",
"r=r(2);//leaving higher value as Tmax goes with S>1 for this value\n",
"disp(r,'Resistance required in series in ohm :');"
   ]
   }
,
{
		   "cell_type": "markdown",
		   "metadata": {},
		   "source": [
			"## Example 1.79: Speed_torque_ratio_and_resistance.sce"
		   ]
		  },
  {
"cell_type": "code",
	   "execution_count": null,
	   "metadata": {
	    "collapsed": true
	   },
	   "outputs": [],
"source": [
"// Example  1.79\n",
"\n",
"clc;clear;close;\n",
"\n",
"// Given data\n",
"format('v',6);\n",
"P=16;//no. of poles\n",
"f=50;//in Hz\n",
"Z2=0.02+%i*0.15;//in ohm\n",
"Nr=360;//in rpm\n",
"\n",
"//calculations\n",
"Ns=120*f/P;//in rpm\n",
"Sfl=(Ns-Nr)/Ns;//slip at full load\n",
"R2=real(Z2);//in ohm\n",
"X2=imag(Z2);//in ohm\n",
"Sm=R2/X2;//slip at max torque\n",
"Nm=(1-Sm)*Ns;//in rpm\n",
"disp(Nm,'(a) Speed at which max Torque occurs in rpm : ');\n",
"TmaxByTfl=(Sfl^2+Sm^2)/2/Sfl/Sm;//ratio\n",
"disp(TmaxByTfl,'Ratio of maximum to full load torque : ');\n",
"R2dash=X2;//for max Torque\n",
"r=R2dash-R2;//in ohm\n",
"disp(r,'(c) External resistance per phase required in ohm : ');"
   ]
   }
,
{
		   "cell_type": "markdown",
		   "metadata": {},
		   "source": [
			"## Example 1.7: Torque_Slip_and_Speed.sce"
		   ]
		  },
  {
"cell_type": "code",
	   "execution_count": null,
	   "metadata": {
	    "collapsed": true
	   },
	   "outputs": [],
"source": [
"// Example 1.7\n",
"\n",
"clear; clc; close;\n",
"\n",
"format('v',6);\n",
"// Given data\n",
"P=4;//No. of poles\n",
"f=50;//in Hz\n",
"Kdash=4;//stator turns by rotor turn\n",
"R2=0.01;//in ohm\n",
"X2=0.1;//in ohm\n",
"E1_line=400;//in volt\n",
"\n",
"//Calculations\n",
"K=1/Kdash;//rotor turns by stator turns\n",
"Ns=120*f/P;//in rpm\n",
"E1ph=E1_line/sqrt(3);//\n",
"//Formula : E2ph/E1ph=K\n",
"E2ph=E1ph*K;//in volt\n",
"//(i) at start S=1\n",
"ns=Ns/60;//in rps\n",
"K=3/2/%pi/ns;\n",
"Tst=K*E2ph^2*R2/(R2^2+X2^2);//in N-m\n",
"disp(Tst,'(i) Starting Torque in N-m : ');\n",
"//part (ii) \n",
"Sm=R2/X2;//slip for max torque\n",
"disp(Sm*100,'(ii) Slip at which max torque devloped in % : ');\n",
"//Part (iii)\n",
"N=Ns*(1-Sm);//in rpm\n",
"disp(N,'(iii) Speed at which max torque occur in rpm : ');\n",
"//Part (iv)\n",
"Tm=K*E2ph^2/2/X2;//in N-m\n",
"disp(Tm,'Maximum  torque in N-m : ');\n",
"//Part (v)\n",
"Sf=4;//in %\n",
"Sf=Sf/100;//slip\n",
"Tfl=K*Sf*E2ph^2*R2/(R2^2+(Sf*X2)^2);//in N-m\n",
"disp(Tfl,'(v) Full load Torque devloped in N-m : ');\n",
""
   ]
   }
,
{
		   "cell_type": "markdown",
		   "metadata": {},
		   "source": [
			"## Example 1.80: Starting_Torque.sce"
		   ]
		  },
  {
"cell_type": "code",
	   "execution_count": null,
	   "metadata": {
	    "collapsed": true
	   },
	   "outputs": [],
"source": [
"// Example  1.80\n",
"\n",
"clc;clear;close;\n",
"\n",
"// Given data\n",
"format('v',6);\n",
"P=6;//no. of poles\n",
"f=50;//in Hz\n",
"N=940;//in rpm\n",
"Output=7;//in KW\n",
"Nm=800;//in rpm\n",
"TotalLaser=840;//in watts\n",
"\n",
"//calculations\n",
"Ns=120*f/P;//in rpm \n",
"S=(Ns-N)/Ns;//slip\n",
"Sm=(Ns-Nm)/Ns;//slip at max Torque\n",
"Pmd=Output*1000+TotalLaser;//in watts\n",
"//Formula : Pmd=2*%pi*N*Td/60\n",
"Tdfl=Pmd/2/%pi/N*60;//in N-m\n",
"Tst=Tdfl*(S^2+Sm^2)/S/(1+Sm^2);//in N-m\n",
"disp(Tst,'Starting tiorque in N-m : ');"
   ]
   }
,
{
		   "cell_type": "markdown",
		   "metadata": {},
		   "source": [
			"## Example 1.81: Torque_and_Power.sce"
		   ]
		  },
  {
"cell_type": "code",
	   "execution_count": null,
	   "metadata": {
	    "collapsed": true
	   },
	   "outputs": [],
"source": [
"// Example  1.81\n",
"\n",
"clc;clear;close;\n",
"\n",
"// Given data\n",
"format('v',6);\n",
"P=4;//no. of poles\n",
"f=50;//in Hz\n",
"VL=200;//in volt\n",
"R2=0.1;//in ohm\n",
"X2=0.9;//in ohm\n",
"Te2ByTe1=0.67;//ratio of rotor to stator turns\n",
"S=4;//in %\n",
"\n",
"//calculations\n",
"S=S/100;//slip\n",
"Ns=120*f/P;//in rpm\n",
"E1=VL/sqrt(3);//in volt\n",
"E2=E1*Te2ByTe1;//in volt\n",
"Td=3*S*E2^2*R2/2/%pi/(Ns/60)/(R2^2+(S*X2)^2);//in N-m\n",
"disp(Td,'(a) Total torque at 4% slip in N-m : ');\n",
"Tmax=3*E2^2/2/%pi/(Ns/60)/(2*X2);//in N-m\n",
"disp(Tmax,'(b) Total torque at 4% slip in N-m : ');\n",
"Sm=R2/X2;//slip at max torque\n",
"Nm=(1-Sm)*Ns;//speed at Tmax in rpm\n",
"disp(Nm,'(c) Speed at maximum torque in rpm : ');\n",
"Pmd_max=2*%pi*Nm/60*Tmax;//in N-m\n",
"disp(Pmd_max,'(d) Maximum mechanical power in N-m : ');"
   ]
   }
,
{
		   "cell_type": "markdown",
		   "metadata": {},
		   "source": [
			"## Example 1.82: Slip_and_rotor_current.sce"
		   ]
		  },
  {
"cell_type": "code",
	   "execution_count": null,
	   "metadata": {
	    "collapsed": true
	   },
	   "outputs": [],
"source": [
"// Example  1.82\n",
"\n",
"clc;clear;close;\n",
"\n",
"// Given data\n",
"format('v',7);\n",
"TstByTfl=1;//ratio\n",
"TmaxByTfl=2;//ratio\n",
"\n",
"//calculations\n",
"TstByTmax=TstByTfl/TmaxByTfl;//ratio\n",
"//Formula : TstByTmax=2*Sm/(1+Sm^2)\n",
"//TstByTmax*Sm^2-2*Sm+TstByTmax=0\n",
"P=[TstByTmax -2 TstByTmax];//polynomial for Sm\n",
"Sm=roots(P);//slip at max torque\n",
"Sm=Sm(2);//neglecting the higher value\n",
"disp(Sm,'(a) Slip at which max torque occurs : ');\n",
"//Formula : TflByTmax=2*S*Sm/(S^2+Sm^2) \n",
"//S^2-TmaxByTfl*2*S*Sm+Sm^2=0\n",
"P=[1 -TmaxByTfl*2*Sm Sm^2];//polynomial for S\n",
"S=roots(P);//slip at max torque\n",
"//Sm=Sm(2);//neglecting the higher value\n",
"S=S(2);//neglecting the higher value\n",
"disp(S,'(b) Full load slip : ');\n",
"//I2stByI2fl^2=(Sm^2+S^2)/S^2/(1+Sm^2)\n",
"I2stByI2fl=sqrt((Sm^2+S^2)/S^2/(1+Sm^2));//ratio\n",
"disp(I2stByI2fl,'(c) Rotor current at starting ag full load current : ');"
   ]
   }
,
{
		   "cell_type": "markdown",
		   "metadata": {},
		   "source": [
			"## Example 1.83: Starting_Torque.sce"
		   ]
		  },
  {
"cell_type": "code",
	   "execution_count": null,
	   "metadata": {
	    "collapsed": true
	   },
	   "outputs": [],
"source": [
"// Example  1.83\n",
"\n",
"clc;clear;close;\n",
"\n",
"// Given data\n",
"format('v',7);\n",
"Zst=25;//in N-m\n",
"\n",
"//calculations\n",
"disp('Zst=K*R2/(R2^2+X2^2)');\n",
"//K=2*Zst*R2\n",
"KbyR2=2*Zst;//calculation\n",
"//(a) Tst=K*2*R2/((2*R2)^2+R2^2)\n",
"Tst=KbyR2*2/(2^2+1);//in N-m\n",
"disp(Tst,'(a) Starting torque in N-m ; ');\n",
"//(b) Tst=K/2*R2/((R2/2)^2+R2^2)\n",
"Tst=KbyR2/2/((1/2)^2+1);//in N-m\n",
"disp(Tst,'(b) Starting torque in N-m ; ');"
   ]
   }
,
{
		   "cell_type": "markdown",
		   "metadata": {},
		   "source": [
			"## Example 1.84: Torque_ratio_and_speed.sce"
		   ]
		  },
  {
"cell_type": "code",
	   "execution_count": null,
	   "metadata": {
	    "collapsed": true
	   },
	   "outputs": [],
"source": [
"// Example  1.84\n",
"\n",
"clc;clear;close;\n",
"\n",
"// Given data\n",
"format('v',7);\n",
"P=4;//no. of poles\n",
"f=50;//in Hz\n",
"R2=0.4;//in ohm\n",
"X2=4;//in ohm\n",
"\n",
"//calculations\n",
"Ns=120*f/P;//in rpm\n",
"Sm=R2/X2;//slip at max Torque\n",
"Nm=Ns*(1-Sm);//in rpm\n",
"disp(Nm,'Speed at Max Torque in N-m : ');\n",
"TmaxByTst=(1+Sm^2)/2/Sm;//ratio\n",
"disp(TmaxByTst,'Ratio of max Torque to starting Torque : ');\n",
"//After adding additional resistance\n",
"TstByTm=1/2;//given ratio\n",
"//TstByTm=2*X2*(R2+r)/((R2+r)^2+X2^2);//ratio\n",
"P=[TstByTm TstByTm*2*R2-2*X2 TstByTm*(R2^2+X2^2)-2*X2*R2];//polynomial for additional value of resistance \n",
"r=roots(P);//in ohm\n",
"r=r(2);//leaving higher value\n",
"disp(r,'Required resistance value in ohm ; ');\n",
"//Answer of resistance is wrong in the book."
   ]
   }
,
{
		   "cell_type": "markdown",
		   "metadata": {},
		   "source": [
			"## Example 1.85: Full_load_Slip_and_line_Voltage.sce"
		   ]
		  },
  {
"cell_type": "code",
	   "execution_count": null,
	   "metadata": {
	    "collapsed": true
	   },
	   "outputs": [],
"source": [
"// Example 1.85\n",
"\n",
"clear; clc; close;\n",
"\n",
"format('v',8);\n",
"// Given data\n",
"VL=440;//in volt\n",
"f=50;//in Hz\n",
"X2byR2=3;//ratio\n",
"TmByTfl=4;//ratio\n",
"\n",
"//Calculations\n",
"Sm=1/X2byR2;//Maximum slip\n",
"//Formula : TmByTfl=(Sm^2+S^2)/(2*S*Sm)\n",
"P=[9 -24 1];//polynomial for value of S by avove equation\n",
"S=roots(P);\n",
"S=S(2);//discarding value greater than 1\n",
"disp(S,'(i) Full load slip : ');\n",
"TstByTfl=(Sm^2+S^2)/(S*(1+Sm^2));//ratio\n",
"disp(TstByTfl,'(ii) Ratio of starting torque to full load torque : ');\n",
"V1=VL/sqrt(3);//in volt\n",
"//Tst=Tfl : K*V11^2R2/(R2^2+X2^2)=R*V1*S*R2/(R2^2+(S*X2)^2)\n",
"V11=sqrt(S*V1^2*(1+X2byR2^2)/(1+(S*X2byR2)^2));//in volt\n",
"Linevoltage=V11*sqrt(3);//in volt\n",
"disp(Linevoltage,'(c) Line Voltage in Volt : ');\n",
"//Note : Answer of line voltage is wrong in the book due to calculation mistake."
   ]
   }
,
{
		   "cell_type": "markdown",
		   "metadata": {},
		   "source": [
			"## Example 1.8: Ratio_of_Torque.sce"
		   ]
		  },
  {
"cell_type": "code",
	   "execution_count": null,
	   "metadata": {
	    "collapsed": true
	   },
	   "outputs": [],
"source": [
"// Example 1.8\n",
"\n",
"clear; clc; close;\n",
"\n",
"format('v',6);\n",
"// Given data\n",
"P=24;//No. of poles\n",
"f=50;//in Hz\n",
"R2=0.016;//in ohm\n",
"X2=0.265;//in ohm\n",
"N=247;//in rpm\n",
"\n",
"//Calculations\n",
"Ns=120*f/P;//in rpm\n",
"Sf=(Ns-N)/Ns;//full load slip\n",
"Sm=R2/X2;//max slip\n",
"Tfl_BY_Tm=2*Sm*Sf/(Sm^2+Sf^2);//unitless\n",
"disp(Tfl_BY_Tm,'Ratio of full load torque to max torque : ');\n",
"Tst_BY_Tm=2*Sm/(1+Sm^2);//unitless\n",
"disp(Tst_BY_Tm,'Ratio of starting torque to max torque : ');"
   ]
   }
,
{
		   "cell_type": "markdown",
		   "metadata": {},
		   "source": [
			"## Example 1.9: Maximum_Torque.sce"
		   ]
		  },
  {
"cell_type": "code",
	   "execution_count": null,
	   "metadata": {
	    "collapsed": true
	   },
	   "outputs": [],
"source": [
"// Example 1.9\n",
"\n",
"clear; clc; close;\n",
"\n",
"format('v',7);\n",
"// Given data\n",
"R2=0.04;//in ohm\n",
"X2=0.2;//in ohm\n",
"\n",
"//Calculations\n",
"R2dash=X2;//in ohm (for Tm=Tst)\n",
"//formula : R2dash=R2+rex\n",
"Rex=R2dash-R2;//in ohm/phase\n",
"disp(Rex,'(i) External resistance required in ohm/phase : ');\n",
"disp('For Tst=Tm/2, Tm=k*E2^2/2/X2 and Tst=k*E2^2*R2/(R2^2+X2^2)');\n",
"disp('This gives a polynomial for value of R2dash.');\n",
"P=[1 -4*X2 X2^2];//R2dash^2-4*X2*R2dash+X2^2=0\n",
"R2dash=roots(P);//in ohm\n",
"disp(R2dash,'Value of R2dash(ohm) are ')\n",
"disp(R2dash(2),'But R2dash cant be greater than X2, R2dash(ohm) is : ');\n",
"Rex=R2dash(2)-R2;//in ohm/phase\n",
"disp(Rex,'(ii) External resistance required in ohm/phase : ');"
   ]
   }
],
"metadata": {
		  "kernelspec": {
		   "display_name": "Scilab",
		   "language": "scilab",
		   "name": "scilab"
		  },
		  "language_info": {
		   "file_extension": ".sce",
		   "help_links": [
			{
			 "text": "MetaKernel Magics",
			 "url": "https://github.com/calysto/metakernel/blob/master/metakernel/magics/README.md"
			}
		   ],
		   "mimetype": "text/x-octave",
		   "name": "scilab",
		   "version": "0.7.1"
		  }
		 },
		 "nbformat": 4,
		 "nbformat_minor": 0
}
