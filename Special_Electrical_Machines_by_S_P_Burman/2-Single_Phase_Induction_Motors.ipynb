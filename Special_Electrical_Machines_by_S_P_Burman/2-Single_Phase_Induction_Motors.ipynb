{
"cells": [
 {
		   "cell_type": "markdown",
	   "metadata": {},
	   "source": [
       "# Chapter 2: Single Phase Induction Motors"
	   ]
	},
{
		   "cell_type": "markdown",
		   "metadata": {},
		   "source": [
			"## Example 2.1: PF_and_Efficiency.sce"
		   ]
		  },
  {
"cell_type": "code",
	   "execution_count": null,
	   "metadata": {
	    "collapsed": true
	   },
	   "outputs": [],
"source": [
"// Example 2.1\n",
"\n",
"clear; clc; close;\n",
"format('v',6);\n",
"\n",
"// Given data\n",
"Is=220;//in Ampere\n",
"//For no load\n",
"Vo=220;//in volt\n",
"Io=6;//in Ampere\n",
"wo=350;//in watt\n",
"\n",
"//From locked rotor test\n",
"Vsc=125;//in volt\n",
"Isc=15;//in Ampere\n",
"Wsc=580;//in watt\n",
"R1=1.5*1.2;//in Ω\n",
"\n",
"//Calculations\n",
"Zeq=Vsc/Isc;//in Ω\n",
"Req=Wsc/Isc^2;//in Ω\n",
"Xeq=sqrt(Zeq^2-Req^2);//in Ω\n",
"R1=1.5*1.2;//1.5 times more\n",
"R2=Req-R1;//in Ω\n",
"//assume X1=X2; Xeq=X1+X2=2*X2\n",
"X2=Xeq/2;//in Ω\n",
"X1=X2;//in Ω\n",
"r2=R2/2;//in Ω\n",
"x2=X2/2;//in Ω\n",
"\n",
"cos_fio=wo/(Vo*Io);//unitless\n",
"fi_o=acosd(cos_fio);//in degree\n",
"Io=Io*expm(%i*-fi_o*%pi/180);//in Ampere(polar form)\n",
"VAB=Vo-Io*[R1+r2/2+%i*(X1+X2/2)];//in volt\n",
"Xo=abs(VAB)/abs(Io);//in ohm\n",
"Xeq=2*Xo;//in ohm\n",
"S=5/100;//slip\n",
"Zf=Xo*expm(%i*%pi/2)*(r2/S+%i*X2/2)/(r2/S+%i*(X2/2+Xo));//in ohm\n",
"Z1=R1+%i*X1;//in ohm\n",
"Z2=6.4819+%i*3.416;//in ohm\n",
"Zeq=Z1+Z2+Zf;//in ohm\n",
"I1=Vo/Zeq;//in Ampere\n",
"PF=cos(atan(imag(I1),real(I1)));//lagging Power factor\n",
"disp(PF,'Power factor(lagging) : ');\n",
"Vf=I1*Zf;//in volt\n",
"I2f=Vf/(r2/S-%i*X2/2);//in Ampere\n",
"Zb=Zf;//in ohm\n",
"Vb=I1*Zb;//in Volt\n",
"I2b=Vb/(r2/(2-S)+%i*X2);//in Ampere\n",
"Pf=abs(I2f)^2*r2/S;//in watts\n",
"Pb=abs(I2b)^2*r2/(2-S);//in watts\n",
"Pm=(1-S)*(Pf-Pb);//in watts\n",
"Wo=350;//in watts\n",
"Pout=Pm-Wo;//in watts\n",
"Pin=Vo*abs(I1)*PF;//in watts\n",
"Eff=Pout/Pin*100;//in %\n",
"disp(Eff,'Efficiency in % : ');\n",
"//Answer in the book is wrong. Lots of mistake in the solution while calculating Zf. "
   ]
   }
,
{
		   "cell_type": "markdown",
		   "metadata": {},
		   "source": [
			"## Example 2.2: Input_Current_PF_and_Efficiency.sce"
		   ]
		  },
  {
"cell_type": "code",
	   "execution_count": null,
	   "metadata": {
	    "collapsed": true
	   },
	   "outputs": [],
"source": [
"// Example 2.2\n",
"\n",
"clear; clc; close;\n",
"format('v',7);\n",
"\n",
"// Given data\n",
"V1=110;//in volt\n",
"Z1=2+%i*3;//in ohm\n",
"Zeq_rotor=2+%i*3;//in ohm\n",
"Xo=50;//in ohm(Magnetising impedence)\n",
"Losses=25;//in watt(friction & voltage loss)\n",
"S=5/100;//slip\n",
"\n",
"//Calculations\n",
"R1=real(Z1);//in Ω\n",
"X1=imag(Z1);//in Ω\n",
"R2=real(Zeq_rotor);//in Ω\n",
"X2=imag(Zeq_rotor);//in Ω\n",
"r2=R2/2;//in Ω\n",
"x2=X2/2;//in Ω\n",
"xo=Xo/2;//in ohm\n",
"Zf=%i*xo*(r2/S+%i*x2)/(r2/S+%i*(xo+x2));//in ohm\n",
"Zb=%i*xo*(r2/(2-S)+%i*x2)/(r2/(2-S)+%i*(xo+x2));//in ohm\n",
"Zeq=Z1+Zf+Zb;//in ohm\n",
"I1=V1/Zeq;//in Ampere\n",
"InputCurrent=abs(I1);//in Ampere\n",
"disp(InputCurrent,'Input current in Ampere : ');\n",
"PF=cos(atan(imag(I1),real(I1)));\n",
"disp(PF,'Power factor(lagging) : ');\n",
"Vf=I1*Zf;//in volt\n",
"I2f=Vf/(r2/S+%i*x2);//in Ampere\n",
"Vb=I1*Zb;//in Volt\n",
"I2b=Vb/(r2/(2-S)+%i*x2);//in Ampere\n",
"Pf=abs(I2f)^2*r2/S;//in watts\n",
"Pb=13.88;//in watts\n",
"Pm=(1-S)*(Pf-Pb);//in watts\n",
"Pout=Pm-Losses;//in watts\n",
"Pin=V1*abs(I1)*PF;//in watts\n",
"Eff=Pout/Pin*100;//in %\n",
"disp(Eff,'Efficiency in % : ');"
   ]
   }
,
{
		   "cell_type": "markdown",
		   "metadata": {},
		   "source": [
			"## Example 2.3: Value_of_Capacitor.sce"
		   ]
		  },
  {
"cell_type": "code",
	   "execution_count": null,
	   "metadata": {
	    "collapsed": true
	   },
	   "outputs": [],
"source": [
"// Example 2.3\n",
"\n",
"clear; clc; close;\n",
"format('v',7);\n",
"\n",
"// Given data\n",
"Pout=250;//in watt\n",
"V1=230;//in volt\n",
"f=50;//in Hz\n",
"Zm=4.5+%i*3.7;//in ohm\n",
"Za=9.5+%i*3.5;//in ohm\n",
"\n",
"//Calculations\n",
"//Za=9.5+%i*3.5-%i*Xc;//in ohm(Xc assumed to be connected in auxiliary winding)\n",
"fi_a=90-atand(imag(Zm),real(Zm));//in degree\n",
"Ra=real(Za);//in ohm\n",
"Xa=imag(Za);//in ohm\n",
"X=tand(fi_a)*Ra;//in ohm\n",
"Xc=X+Xa;//in ohm\n",
"C=1/2/%pi/f/Xc;//in Farad\n",
"disp(C*10^6,'Value of capacitance in micro farad : ');\n",
"//Note : In the book, instead of Capacitance which is asked, Torque is calculated even not asked in question and not given the sufficient data to calculate it."
   ]
   }
,
{
		   "cell_type": "markdown",
		   "metadata": {},
		   "source": [
			"## Example 2.4: Value_of_Capacitor.sce"
		   ]
		  },
  {
"cell_type": "code",
	   "execution_count": null,
	   "metadata": {
	    "collapsed": true
	   },
	   "outputs": [],
"source": [
"// Example 2.4\n",
"\n",
"clear; clc; close;\n",
"format('v',7);\n",
"\n",
"// Given data\n",
"f=50;//in Hz\n",
"Z1m=3+%i*2.7;//in ohm\n",
"Z1a=7+%i*3;//in ohm\n",
"alfa=90;//in degree\n",
"\n",
"//Calculations\n",
"//Z1a=7+%i*3-%i*Xc;//in ohm(Xc assumed to be connected in auxiliary winding)\n",
"fi_a=90-atand(imag(Z1m),real(Z1m))\n",
"R1a=real(Z1a);//in ohm\n",
"X1a=imag(Z1a);//in ohm\n",
"X=tand(fi_a)*R1a;//in ohm\n",
"Xc=X+X1a;//in ohm\n",
"C=1/2/%pi/f/Xc;//in Farad\n",
"disp(C*10^6,'Value of capacitance in micro farad : ');\n",
"//Note : In the book, Torque is calculated even not asked in question and not given the sufficient data to calculate it."
   ]
   }
,
{
		   "cell_type": "markdown",
		   "metadata": {},
		   "source": [
			"## Example 2.5: Value_of_Capacitance.sce"
		   ]
		  },
  {
"cell_type": "code",
	   "execution_count": null,
	   "metadata": {
	    "collapsed": true
	   },
	   "outputs": [],
"source": [
"// Example 2.5\n",
"\n",
"clear; clc; close;\n",
"format('v',7);\n",
"\n",
"// Given data\n",
"V1=230;//in volt\n",
"f=50;//in Hz\n",
"Vm=100;//in volt\n",
"Im=2;//in Ampere\n",
"Wm=40;//in watts\n",
"Va=80;//in volt\n",
"Ia=1;//in Ampere\n",
"Wa=50;//in watts\n",
"\n",
"//Calculations\n",
"Z1em=Vm/Im;//in ohm\n",
"R1em=Wm/Im^2;//in ohm\n",
"X1em=sqrt(Z1em^2-R1em^2);//in ohm\n",
"R1m=R1em/2;//in ohm\n",
"X1m=X1em/2;//in ohm\n",
"fi_m=atand(X1m/R1m);//in degree\n",
"\n",
"Z1ea=Va/Ia;//in ohm\n",
"R1ea=Wa/Ia^2;//in ohm\n",
"X1ea=sqrt(Z1ea^2-R1ea^2);//in ohm\n",
"Ra=R1ea-R1m;//in ohm\n",
"Xa=X1ea-X1m;//in ohm\n",
"fi_a=90-fi_m;//in degree\n",
"//after connecting capacitor\n",
"Xc=Xa-tand(-fi_a)*Ra\n",
"C=1/2/%pi/f/Xc;//in Farad\n",
"disp(C*10^6,'Value of capacitance in micro farad : ');"
   ]
   }
],
"metadata": {
		  "kernelspec": {
		   "display_name": "Scilab",
		   "language": "scilab",
		   "name": "scilab"
		  },
		  "language_info": {
		   "file_extension": ".sce",
		   "help_links": [
			{
			 "text": "MetaKernel Magics",
			 "url": "https://github.com/calysto/metakernel/blob/master/metakernel/magics/README.md"
			}
		   ],
		   "mimetype": "text/x-octave",
		   "name": "scilab",
		   "version": "0.7.1"
		  }
		 },
		 "nbformat": 4,
		 "nbformat_minor": 0
}
