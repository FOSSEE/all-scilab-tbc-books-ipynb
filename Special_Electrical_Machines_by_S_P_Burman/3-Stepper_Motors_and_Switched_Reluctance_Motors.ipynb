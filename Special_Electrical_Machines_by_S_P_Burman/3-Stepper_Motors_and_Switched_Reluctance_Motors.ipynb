{
"cells": [
 {
		   "cell_type": "markdown",
	   "metadata": {},
	   "source": [
       "# Chapter 3: Stepper Motors and Switched Reluctance Motors"
	   ]
	},
{
		   "cell_type": "markdown",
		   "metadata": {},
		   "source": [
			"## Example 3.10: Resolution_and_No_of_steps.sce"
		   ]
		  },
  {
"cell_type": "code",
	   "execution_count": null,
	   "metadata": {
	    "collapsed": true
	   },
	   "outputs": [],
"source": [
"// Example 3.10\n",
"\n",
"clear; clc; close;\n",
"\n",
"format('v',6);\n",
"// Given data\n",
"Resolution=500;//steps/res\n",
"theta=72;//rotator turn angle in degree\n",
"//Calculations\n",
"Hmod_Res=Resolution*2;//half step mode resolution in steps/res\n",
"disp(Hmod_Res,'Half step mode resolution in steps/res : ');\n",
"Beta=360/Hmod_Res;//in degree\n",
"steps=theta/Beta;//in steps\n",
"disp(steps,'No. of steps required : ');"
   ]
   }
,
{
		   "cell_type": "markdown",
		   "metadata": {},
		   "source": [
			"## Example 3.11: No_loaded_into_encoder.sce"
		   ]
		  },
  {
"cell_type": "code",
	   "execution_count": null,
	   "metadata": {
	    "collapsed": true
	   },
	   "outputs": [],
"source": [
"// Example 3.11\n",
"\n",
"clear; clc; close;\n",
"\n",
"format('v',6);\n",
"// Given data\n",
"Beta=1.8;//in dcegree\n",
"revolution=10;//no. of revolution\n",
"//Calculations\n",
"resolution=360/Beta;//in  steps/rev\n",
"steps=resolution*revolution;//no. of steps in 10 evolution\n",
"disp('No. of steps = '+string(steps)+' should be encoded.');"
   ]
   }
,
{
		   "cell_type": "markdown",
		   "metadata": {},
		   "source": [
			"## Example 3.12: Motor_Torque.sce"
		   ]
		  },
  {
"cell_type": "code",
	   "execution_count": null,
	   "metadata": {
	    "collapsed": true
	   },
	   "outputs": [],
"source": [
"// Example 3.12\n",
"\n",
"clear; clc; close;\n",
"\n",
"format('v',6);\n",
"// Given data\n",
"J=10^-4;//in Kgm^2;\n",
"w1=200;//in rad/sec\n",
"w2=300;//in rad/sec\n",
"delf=0.2;//in sec\n",
"Tf=0.06;//in N-m\n",
"\n",
"//Calculations\n",
"dwBYdf=(w2-w1)/delf;//\n",
"Tm=J*dwBYdf+Tf;//in N-m\n",
"disp(Tm,'Motor Torque in N-m : ');"
   ]
   }
,
{
		   "cell_type": "markdown",
		   "metadata": {},
		   "source": [
			"## Example 3.13: Motor_Torque.sce"
		   ]
		  },
  {
"cell_type": "code",
	   "execution_count": null,
	   "metadata": {
	    "collapsed": true
	   },
	   "outputs": [],
"source": [
"// Example 3.13\n",
"\n",
"clear; clc; close;\n",
"\n",
"format('v',7);\n",
"// Given data\n",
"J=3*10^-4;//in Kgm^2;\n",
"f1=1000;//in Hz\n",
"f2=2000;//in Hz\n",
"delt=100;//in ms\n",
"Tf=0.05;//in N-m\n",
"Qs=1.8;//in degree\n",
"\n",
"//Calculations\n",
"delt=100*10^-3;//in sec\n",
"Qs=Qs*%pi/180;//in radian\n",
"w1=Qs*f1;//in rad/sec\n",
"w2=Qs*f2;//in rad/sec\n",
"dwBYdt=(w2-w1)/delt;//\n",
"Tm=J*dwBYdt+Tf;//in N-m\n",
"disp(Tm,'Motor Torque in N-m : ');"
   ]
   }
,
{
		   "cell_type": "markdown",
		   "metadata": {},
		   "source": [
			"## Example 3.14: Maximum_Acceleratio.sce"
		   ]
		  },
  {
"cell_type": "code",
	   "execution_count": null,
	   "metadata": {
	    "collapsed": true
	   },
	   "outputs": [],
"source": [
"// Example 3.14\n",
"\n",
"clear; clc; close;\n",
"\n",
"format('v',7);\n",
"// Given data\n",
"J=4*10^-4;//in Kgm^2;\n",
"Tm=0.3;//in N-m\n",
"Qs=3;//in degree\n",
"\n",
"//Calculations\n",
"Qs=Qs*%pi/180;//in radian\n",
"//Formula : Tm=J*Qs*dfBYdt;//in N-m\n",
"dfBYdt=Tm/J/Qs;//in step/sec^2\n",
"disp(dfBYdt,'Maximum acceleration in steps/sec^2 : ');"
   ]
   }
,
{
		   "cell_type": "markdown",
		   "metadata": {},
		   "source": [
			"## Example 3.1_s: Step_Angle.sce"
		   ]
		  },
  {
"cell_type": "code",
	   "execution_count": null,
	   "metadata": {
	    "collapsed": true
	   },
	   "outputs": [],
"source": [
"// Sp_Example 3.1\n",
"\n",
"clear; clc; close;\n",
"\n",
"format('v',7);\n",
"// Given data\n",
"Ns=12;//poles\n",
"q=3;//no. of phase\n",
"Nr=8;//poles\n",
"speed=6000;//speed in rpm\n",
"\n",
"//Calculations\n",
"Beta=360/q/Nr;//in degree\n",
"disp(Beta,'Step Angle in degree : ');\n",
"fc=Nr*speed*2*%pi/2/%pi/60;//in Hz\n",
"disp(fc,'Commutation frequency at each phase in Hz : ');\n",
""
   ]
   }
,
{
		   "cell_type": "markdown",
		   "metadata": {},
		   "source": [
			"## Example 3.1: Time_taken_and_Stored_Inductive_energy.sce"
		   ]
		  },
  {
"cell_type": "code",
	   "execution_count": null,
	   "metadata": {
	    "collapsed": true
	   },
	   "outputs": [],
"source": [
"// Example 3.1\n",
"\n",
"clear; clc; close;\n",
"\n",
"format('v',8);\n",
"// Given data\n",
"Lm=30;//in mH\n",
"Iph=3;//in Ampere\n",
"Rm=15;//in Ohm\n",
"\n",
"//Calculations\n",
"tau_ed=Lm/Rm;//in ms\n",
"tdash=1/2*tau_ed;//in ms\n",
"disp(tdash,'(i) Time taken by the phase current to decay to zero in ms : ');\n",
"Energy=1/4*Lm*Iph^2;//in mW\n",
"disp(Energy,'(ii) Energy returned to supply in mW : ');"
   ]
   }
,
{
		   "cell_type": "markdown",
		   "metadata": {},
		   "source": [
			"## Example 3.2_s: Step_Angle_and_Commutation_Frequency.sce"
		   ]
		  },
  {
"cell_type": "code",
	   "execution_count": null,
	   "metadata": {
	    "collapsed": true
	   },
	   "outputs": [],
"source": [
"// Sp_Example 3.2\n",
"\n",
"clear; clc; close;\n",
"\n",
"format('v',7);\n",
"// Given data\n",
"Ns=10;//poles\n",
"q=5;//no. of phase\n",
"Nr=4;//poles\n",
"w=600;//speed in rpm\n",
"\n",
"//Calculations\n",
"Beta=360/q/Nr;//in degree\n",
"disp(Beta,'Step Angle in degree : ');\n",
"fc=Nr*w/60;//in Hz\n",
"disp(fc,'Commutation frequency at each phase in Hz : ');\n",
"//Note : Answer is wrong in the book."
   ]
   }
,
{
		   "cell_type": "markdown",
		   "metadata": {},
		   "source": [
			"## Example 3.2: Step_Angle.sce"
		   ]
		  },
  {
"cell_type": "code",
	   "execution_count": null,
	   "metadata": {
	    "collapsed": true
	   },
	   "outputs": [],
"source": [
"// Example 3.2\n",
"\n",
"clear; clc; close;\n",
"\n",
"format('v',8);\n",
"// Given data\n",
"n=4;//no. of phase\n",
"Ns=12;//stator teeth\n",
"Nr=3;//rotor teeth\n",
"\n",
"//Calculations\n",
"Beta=360/n/Nr;//in degree\n",
"disp(Beta,'Step Angle in degree : ');"
   ]
   }
,
{
		   "cell_type": "markdown",
		   "metadata": {},
		   "source": [
			"## Example 3.3_s: Instantaneous_and_average_Torque.sce"
		   ]
		  },
  {
"cell_type": "code",
	   "execution_count": null,
	   "metadata": {
	    "collapsed": true
	   },
	   "outputs": [],
"source": [
"// Sp_Example 3.3\n",
"\n",
"clear; clc; close;\n",
"\n",
"format('v',6);\n",
"// Given data\n",
"\n",
"Ns=6;//poles\n",
"Nr=4;//poles\n",
"Beta_s=30;//in degree\n",
"Beta_r=32;//in degree\n",
"La=10.7;//in mH\n",
"LU=1.5;//in mH\n",
"i=7;//in A\n",
"q=3;//phase\n",
"\n",
"//Calculations\n",
"thetaK=2*180/4-(Beta_r+Beta_s)/2;//in degree\n",
"theta1=thetaK;//in degree\n",
"thetaY=2*180/2-(Beta_r-Beta_s)/2;//in degree\n",
"theta2=thetaY;//in degree\n",
"dTheta=theta2-theta1;//in degree\n",
"dL=La-LU;//in mH\n",
"T=i^2/2*dL/dTheta;//in N-m\n",
"lambda_a=La*i*10^-3;//in m\n",
"lambda_u=LU*i*10^-3;//in m\n",
"Wm=(lambda_a-lambda_u)/2*i;//in joules\n",
"//Formula : Power transfered = Energy 1 sec \n",
"//Pm=2*%pi*N*T/60=Wm*Nr*q*N/60\n",
"T=Wm*Nr*q/2/%pi;//in N-m\n",
"disp(T,'Averagge torque in N-m : ');"
   ]
   }
,
{
		   "cell_type": "markdown",
		   "metadata": {},
		   "source": [
			"## Example 3.3: Step_Angle.sce"
		   ]
		  },
  {
"cell_type": "code",
	   "execution_count": null,
	   "metadata": {
	    "collapsed": true
	   },
	   "outputs": [],
"source": [
"// Example 3.3\n",
"\n",
"clear; clc; close;\n",
"\n",
"format('v',6);\n",
"// Given data\n",
"MainPoles=10;//no. of main poles\n",
"teeth=7;//no. of teeth/pole\n",
"Nr=60;//rotor teeth\n",
"\n",
"//Calculations\n",
"Ns=MainPoles*teeth;//stator teeth\n",
"Beta=(Ns-Nr)*360/Ns/Nr;//in degree\n",
"disp(Beta,'Step Angle in degree : ');"
   ]
   }
,
{
		   "cell_type": "markdown",
		   "metadata": {},
		   "source": [
			"## Example 3.4: Resolution_Steps_and_Shaft_speed.sce"
		   ]
		  },
  {
"cell_type": "code",
	   "execution_count": null,
	   "metadata": {
	    "collapsed": true
	   },
	   "outputs": [],
"source": [
"// Example 3.4\n",
"\n",
"clear; clc; close;\n",
"\n",
"format('v',6);\n",
"// Given data\n",
"Beta=3;//in degree\n",
"Revolution=25;//no. of revolutions\n",
"f=3600;//stepping frequency in pps\n",
"\n",
"//Calculations\n",
"Resolution=360/Beta;//in step/res\n",
"disp(Resolution,'(a) Resolution(step/res) : ');\n",
"steps=Resolution*Revolution;//no. of steps\n",
"disp(steps,'(b) No. of steps required : ');\n",
"speed=Beta*f/360;//in nps\n",
"disp(speed,'(c) Shaft speed in nps : ');"
   ]
   }
,
{
		   "cell_type": "markdown",
		   "metadata": {},
		   "source": [
			"## Example 3.4_s: Energy_Conversion_and_Avg_Tourque.sce"
		   ]
		  },
  {
"cell_type": "code",
	   "execution_count": null,
	   "metadata": {
	    "collapsed": true
	   },
	   "outputs": [],
"source": [
"// Sp_Example 3.4\n",
"\n",
"clear; clc; close;\n",
"\n",
"format('v',6);\n",
"// Given data\n",
"Nr=4;//poles\n",
"La=10.7;//in mH\n",
"Lu=1.5;//in mH\n",
"i=7;//in A\n",
"q=3;//phase\n",
"\n",
"//Calculations\n",
"lambda_a=La*10^-3*i;//in Wb/T\n",
"lambda_u=lambda_a;//in Wb/T\n",
"i2=lambda_u/Lu/10^-3;//in Ampere\n",
"Wm=(i2-i)*lambda_u/2;//in Jooules\n",
"disp(Wm,'Energy conversion per stroke in Joules : ');\n",
"T=Wm*q*Nr/2/%pi;//in N-m\n",
"disp(T,'Average Tourque in N-m : ');"
   ]
   }
,
{
		   "cell_type": "markdown",
		   "metadata": {},
		   "source": [
			"## Example 3.5: Resolution_Speed_and_Pulses.sce"
		   ]
		  },
  {
"cell_type": "code",
	   "execution_count": null,
	   "metadata": {
	    "collapsed": true
	   },
	   "outputs": [],
"source": [
"// Example 3.5\n",
"\n",
"clear; clc; close;\n",
"\n",
"format('v',6);\n",
"// Given data\n",
"Beta=1.8;//in degree\n",
"Revolution=25;//no. of revolutions\n",
"f=4000;//stepping frequency in pps\n",
"theta=54;//required shaft rotation in degree\n",
"\n",
"//Calculations\n",
"Resolution=360/Beta;//in step/res\n",
"disp(Resolution,'(i) Resolution(step/res) : ');\n",
"speed=Beta*f/360;//in rps\n",
"disp(speed,'(ii) Motor speed in rps : ');\n",
"pulses=theta/Beta;//pulses\n",
"disp(pulses,'(iii) No. of pulses required to rotate the shaft through 54 degree : ');\n",
""
   ]
   }
,
{
		   "cell_type": "markdown",
		   "metadata": {},
		   "source": [
			"## Example 3.6: Resolutio.sce"
		   ]
		  },
  {
"cell_type": "code",
	   "execution_count": null,
	   "metadata": {
	    "collapsed": true
	   },
	   "outputs": [],
"source": [
"// Example 3.6\n",
"\n",
"clear; clc; close;\n",
"\n",
"format('v',6);\n",
"// Given data\n",
"Ns=8;//stator teeth\n",
"Nr=6;//rotor teeth\n",
"\n",
"//Calculations\n",
"Beta=(Ns-Nr)/Ns/Nr*360;//in degree\n",
"disp(Beta,'Step angle(degree) : ');\n",
"Resolution=360/Beta;//steps/revolution\n",
"disp(Resolution,'Resolution(steps/revolution) : ');"
   ]
   }
,
{
		   "cell_type": "markdown",
		   "metadata": {},
		   "source": [
			"## Example 3.7: Rotor_and_Stator_Poles.sce"
		   ]
		  },
  {
"cell_type": "code",
	   "execution_count": null,
	   "metadata": {
	    "collapsed": true
	   },
	   "outputs": [],
"source": [
"// Example 3.7\n",
"\n",
"clear; clc; close;\n",
"\n",
"format('v',6);\n",
"// Given data\n",
"Beta=15;//in degree\n",
"m=3;//no. of phase(1-Beta*Nr/360)\n",
"\n",
"//Calculations\n",
"//Formula : Beta=360/m/Nr\n",
"Nr=360/m/Beta;//no. of rotor teeth\n",
"disp(Nr,'No. of rotor teeth ; ');\n",
"//Formula : Beta=(Ns~Nr)/Ns/Nr*360;//in degree\n",
"//When Ns>Nr\n",
"Ns=Nr/(1-Beta*Nr/360);//no. of stator teeth\n",
"disp(Ns,'When Ns>Nr, No. of stator teeth : ');\n",
"//When Nr>Ns\n",
"Ns=Nr/(1+Beta*Nr/360)\n",
"disp(Ns,'When Nr>Ns, No. of stator teeth : ');"
   ]
   }
,
{
		   "cell_type": "markdown",
		   "metadata": {},
		   "source": [
			"## Example 3.8: Rotor_and_Stator_Teeth.sce"
		   ]
		  },
  {
"cell_type": "code",
	   "execution_count": null,
	   "metadata": {
	    "collapsed": true
	   },
	   "outputs": [],
"source": [
"// Example 3.8\n",
"\n",
"clear; clc; close;\n",
"\n",
"format('v',6);\n",
"// Given data\n",
"m=4;//phases\n",
"Beta=1.5;//in degree\n",
"\n",
"//Calculations\n",
"//Formula : Beta=360/m/Nr\n",
"Nr=360/m/Beta;//no. of rotor teeth\n",
"disp(Nr,'No. of rotor teeth ; ');\n",
"Ns=Nr;//no. of stator teeth\n",
"disp(Ns,'In multi stack motor, Stator teeth = rotor teeth = ');"
   ]
   }
,
{
		   "cell_type": "markdown",
		   "metadata": {},
		   "source": [
			"## Example 3.9: Pulse_Rate.sce"
		   ]
		  },
  {
"cell_type": "code",
	   "execution_count": null,
	   "metadata": {
	    "collapsed": true
	   },
	   "outputs": [],
"source": [
"// Example 3.9\n",
"\n",
"clear; clc; close;\n",
"\n",
"format('v',6);\n",
"// Given data\n",
"Speed=2400;//in rpm\n",
"Resolution=200;//steps/res\n",
"\n",
"//Calculations\n",
"n=Speed/60;//in rps\n",
"Beta=360/Resolution;//in degree\n",
"//Formula : n=Beta*f/360;\n",
"f=n*360/Beta;//in pps\n",
"disp(f,'Required pulse rate in pps : ');"
   ]
   }
],
"metadata": {
		  "kernelspec": {
		   "display_name": "Scilab",
		   "language": "scilab",
		   "name": "scilab"
		  },
		  "language_info": {
		   "file_extension": ".sce",
		   "help_links": [
			{
			 "text": "MetaKernel Magics",
			 "url": "https://github.com/calysto/metakernel/blob/master/metakernel/magics/README.md"
			}
		   ],
		   "mimetype": "text/x-octave",
		   "name": "scilab",
		   "version": "0.7.1"
		  }
		 },
		 "nbformat": 4,
		 "nbformat_minor": 0
}
