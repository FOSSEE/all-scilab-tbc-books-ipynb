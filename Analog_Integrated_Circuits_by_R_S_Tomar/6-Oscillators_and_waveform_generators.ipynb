{
"cells": [
 {
		   "cell_type": "markdown",
	   "metadata": {},
	   "source": [
       "# Chapter 6: Oscillators and waveform generators"
	   ]
	},
{
		   "cell_type": "markdown",
		   "metadata": {},
		   "source": [
			"## Example 6.10: Design_a_square_wave_generator.sce"
		   ]
		  },
  {
"cell_type": "code",
	   "execution_count": null,
	   "metadata": {
	    "collapsed": true
	   },
	   "outputs": [],
"source": [
"//Ex 6.10\n",
"clc;\n",
"clear;\n",
"close;\n",
"format('v',6);\n",
"f0=1;///kHz\n",
"Vsat=14;//V\n",
"disp('Various design parameters are :-');\n",
"C1=0.05;//micro F//Chosen for the design\n",
"disp(C1,'Capacitance(micro F)');\n",
"Rf=1/(2*f0*10^3*C1*10^-6)/1000;//kohm\n",
"disp(Rf,'Resistance Rf(kohm)');\n",
"//R2=0.86*R1 and Rf=R1||R2\n",
"R2byR1=0.86;//from R2=0.86*R1 \n",
"R2=Rf*(1+R2byR1);//kohm\n",
"R1=R2/R2byR1;//kohm\n",
"disp(R1,'Resistance R1(kohm)');\n",
"disp('Use R1=22 kohm for the design.');\n",
"disp(R2,'Resistance R2(kohm)');"
   ]
   }
,
{
		   "cell_type": "markdown",
		   "metadata": {},
		   "source": [
			"## Example 6.11: Find_Rf_and_C.sce"
		   ]
		  },
  {
"cell_type": "code",
	   "execution_count": null,
	   "metadata": {
	    "collapsed": true
	   },
	   "outputs": [],
"source": [
"//Ex 6.11\n",
"clc;\n",
"clear;\n",
"close;\n",
"format('v',6);\n",
"T=10;//ms//(Time period)\n",
"f0=1/(T*10^-3);//Hz\n",
"C=0.05;//micro F//Chosen for the design\n",
"//Formula : f0=1/{2*Rf*C*log(1+2*R2/R1)}\n",
"Rf=1/(f0*2*C*10^-6*log(1+2))/1000;//kohm//By putting R1=R2 for this case\n",
"Rf=round(Rf);//kohm\n",
"disp(Rf,'Resistance Rf(kohm)');\n",
"disp(C,'Capacitance for the design(micro F)');"
   ]
   }
,
{
		   "cell_type": "markdown",
		   "metadata": {},
		   "source": [
			"## Example 6.12: Frequency_of_output.sce"
		   ]
		  },
  {
"cell_type": "code",
	   "execution_count": null,
	   "metadata": {
	    "collapsed": true
	   },
	   "outputs": [],
"source": [
"//Ex 6.12\n",
"clc;\n",
"clear;\n",
"close;\n",
"format('v',6);\n",
"R1=4.7;//kohm\n",
"R2=3.3;//kohm\n",
"Rf=2;//kohm\n",
"C=0.1;//micro F\n",
"f0=1/2/(Rf*1000)/(C*10^-6)/log(1+2*R2/R1)/1000;//kHz\n",
"disp(f0,'Frequency of output signal(kHz)');"
   ]
   }
,
{
		   "cell_type": "markdown",
		   "metadata": {},
		   "source": [
			"## Example 6.13: Triangular_wave_generator.sce"
		   ]
		  },
  {
"cell_type": "code",
	   "execution_count": null,
	   "metadata": {
	    "collapsed": true
	   },
	   "outputs": [],
"source": [
"//Ex 6.13\n",
"clc;\n",
"clear;\n",
"close;\n",
"format('v',6);\n",
"f0=1.5;//kHz\n",
"Vout=6;//V////peak to peak\n",
"Vsat=13.5;//V\n",
"disp('Various design parameters are : ');\n",
"R2=10;//kohm///choosen for the design\n",
"R1=R2*2*Vsat/Vout;//kohm\n",
"disp(R1,'R1(kohm)');\n",
"disp(R2,'R2(kohm)');\n",
"disp('Use R1=50 kohm for the design');\n",
"//Let Cf=0.05 micro F for the design\n",
"Cf=0.05;//micro F\n",
"disp(Cf,'Cf(micro F)');\n",
"Ri=R1*1000/(f0*1000)/4/(Cf*10^-6*R2*1000)/1000;//kohm\n",
"disp(Ri,'Ri(kohm)');"
   ]
   }
,
{
		   "cell_type": "markdown",
		   "metadata": {},
		   "source": [
			"## Example 6.14: Peak_output_voltage.sce"
		   ]
		  },
  {
"cell_type": "code",
	   "execution_count": null,
	   "metadata": {
	    "collapsed": true
	   },
	   "outputs": [],
"source": [
"//Ex 6.14\n",
"clc;\n",
"clear;\n",
"close;\n",
"format('v',4);\n",
"//Data given\n",
"R1=6.8;//kohm\n",
"Ri=100;//kohm\n",
"R2=1.5;//kohm\n",
"Cf=0.01;//micro F\n",
"Vsat=14;//V\n",
"Vo_pp=2*R2/R1*Vsat;//V////Peak to peak output of triangular wave\n",
"disp(Vo_pp,'Peak to peak output of triangular wave(V)');\n",
"format('v',5);\n",
"f0=R1*1000/(4*Ri*10^3*Cf*10^-6*R2*10^3)/1000;//kHz//Oscillating Frequency\n",
"disp(f0,'Oscillation frequency(Hz)');"
   ]
   }
,
{
		   "cell_type": "markdown",
		   "metadata": {},
		   "source": [
			"## Example 6.15: Triangular_wave_generator.sce"
		   ]
		  },
  {
"cell_type": "code",
	   "execution_count": null,
	   "metadata": {
	    "collapsed": true
	   },
	   "outputs": [],
"source": [
"//Ex 6.15\n",
"clc;\n",
"clear;\n",
"close;\n",
"format('v',4);\n",
"//Data given\n",
"f0=1;//kHz\n",
"Vo_pp=7;//V\n",
"Vsat=14;//V\n",
"disp('Various design parameters are :-');\n",
"//Let R2=10;//kohm for the design\n",
"R2=10;//kohm\n",
"R1=2*R2*Vsat/Vo_pp;//kohm\n",
"disp(R1,'R1(kohm)');\n",
"disp(R2,'R2(kohm)');\n",
"//Choose Cf=0.1 micro F for the design\n",
"Cf=0.1;//micro F\n",
"disp(Cf,'Cf(micro F)');\n",
"Ri=R1*10^3/(4*f0*10^3*Cf*10^-6*R2*10^3)/1000;//kohm\n",
"disp(Ri,'Ri(kohm)');"
   ]
   }
,
{
		   "cell_type": "markdown",
		   "metadata": {},
		   "source": [
			"## Example 6.16: Frequency_of_output.sce"
		   ]
		  },
  {
"cell_type": "code",
	   "execution_count": null,
	   "metadata": {
	    "collapsed": true
	   },
	   "outputs": [],
"source": [
"//Ex 6.16\n",
"clc;\n",
"clear;\n",
"close;\n",
"format('v',4);\n",
"//Data given\n",
"tau=1;//ms(time period)\n",
"R1byR2=1.8:0.2:9;//range of R1/R2\n",
"Beta_min=1/(1+min(R1byR2));//minimum value of Beta\n",
"Beta_max=1/(1+max(R1byR2));//maximum value of Beta\n",
"Tmax=2*tau*log((1+Beta_min)/(1-Beta_min));//ms////For minimum value of Beta\n",
"fmin=1/(Tmax*10^-3);//Hz\n",
"Tmin=2*tau*log((1+Beta_max)/(1-Beta_max));//ms////For maximum value of Beta\n",
"fmax=1/(Tmin*10^-3)/1000;//kHz\n",
"disp('Frequency range is '+string(fmin)+' Hz to '+string(fmax)+' kHz.');"
   ]
   }
,
{
		   "cell_type": "markdown",
		   "metadata": {},
		   "source": [
			"## Example 6.17: Series_and_parallel_resonant_frequencies.sce"
		   ]
		  },
  {
"cell_type": "code",
	   "execution_count": null,
	   "metadata": {
	    "collapsed": true
	   },
	   "outputs": [],
"source": [
"//Ex 6.17\n",
"clc;\n",
"clear;\n",
"close;\n",
"format('v',4);\n",
"//Data given\n",
"Ls=3;//H\n",
"Cs=0.05;//pF\n",
"Rs=2;//kohm\n",
"Cm=10;//pF\n",
"fS=1/2/%pi/sqrt(Ls*Cs*10^-12)/1000;//kHz\n",
"disp(fS,'Series resonant frequency(kHz)');\n",
"CT=Cm*Cs/(Cm+Cs);//pF////Equivalent capacitance\n",
"fP=1/2/%pi/sqrt(Ls*CT*10^-12)/1000;//kHz\n",
"disp(fP,'Parallel resonant frequency(kHz)');"
   ]
   }
,
{
		   "cell_type": "markdown",
		   "metadata": {},
		   "source": [
			"## Example 6.18: Design_a_function_generator.sce"
		   ]
		  },
  {
"cell_type": "code",
	   "execution_count": null,
	   "metadata": {
	    "collapsed": true
	   },
	   "outputs": [],
"source": [
"//Ex 6.18\n",
"clc;\n",
"clear;\n",
"close;\n",
"format('v',5);\n",
"//Data given\n",
"f0=5;//kHz\n",
"D=60;//%////duty cycle\n",
"VCC=12;//V\n",
"//As D=t1/(t1+t2)\n",
"t2BYt1=1/(D/100)-1;//ratio of t1 & t2\n",
"//RB/(2*RA-RB)=t2/t1\n",
"RAbyRB=(1/t2BYt1+1)/2;//Ratio of RA & RB\n",
"disp('Various design parameters are :');\n",
"//Let CT=0.05 micro F for this design choosing between 0.01 & 1 microo F\n",
"CT=0.05;//micro F\n",
"disp(CT,'CT(micro F)');\n",
"RA=1/(f0*10^3)/(5/3)^2/(CT*10^-6)/1000;//kohm\n",
"disp(RA,'RA(kohm)');\n",
"RB=RA/RAbyRB;//kohm\n",
"disp(RB,'RB(kohm)');"
   ]
   }
,
{
		   "cell_type": "markdown",
		   "metadata": {},
		   "source": [
			"## Example 6.19: V0_V7_I_and_fo.sce"
		   ]
		  },
  {
"cell_type": "code",
	   "execution_count": null,
	   "metadata": {
	    "collapsed": true
	   },
	   "outputs": [],
"source": [
"//Ex 6.19\n",
"clc;\n",
"clear;\n",
"close;\n",
"format('v',6);\n",
"//Data given\n",
"Rf=15;//kohm\n",
"RT1=4.7;//kohm\n",
"R1=56;//kohm\n",
"R2=6.8;//kohm\n",
"R3=10;//kohm\n",
"R4=1;//kohm\n",
"R5=1;//kohm\n",
"CB=1;//micro F\n",
"CT=0.05;//mic\n",
"VCC=15;//V\n",
"V1=-15;//V////Voltage given through the resistance(R1) 56 kohm\n",
"disp('Part (i)');\n",
"Vin=2;//V\n",
"Vo=Rf/R1*(-V1)-Rf/R2*Vin;//V\n",
"disp(Vo,'Voltage Vo(V)');\n",
"N_VCC=0;//V////-VCC////voltage given to the 12th pin of IC\n",
"V7=N_VCC+3;//V\n",
"disp(V7,'Voltage V7(V)');\n",
"I=(V7-Vo)/RT1;//mA\n",
"disp(I,'Current I(mA)');\n",
"Rmult=R4*R5/(R4+R5)+R3;//kohm////on pin 3\n",
"disp(Rmult,'Total resistance on pin 3, Rmult(kohm)');\n",
"format('v',4);\n",
"f0=0.32*I*10^-3/(CT*10^-6)/1000;//kHz\n",
"disp(f0,'Oscillation frequency(kHz)');\n",
"disp('Part (ii)');\n",
"format('v',4);\n",
"Vin=5;//V\n",
"Vo=Rf/R1*(-V1)-Rf/R2*Vin;//V\n",
"disp(Vo,'Voltage Vo(V)');\n",
"N_VCC=0;//V////-VCC////voltage given to the 12th pin of IC\n",
"V7=N_VCC+3;//V\n",
"disp(V7,'Voltage V7(V)');\n",
"I=(V7-Vo)/RT1;//mA\n",
"format('v',6);\n",
"disp(I,'Current I(mA)');\n",
"Rmult=R4*R5/(R4+R5)+R3;//kohm////on pin 3\n",
"disp(Rmult,'Total resistance on pin 3, Rmult(kohm)');\n",
"f0=0.32*I*10^-3/(CT*10^-6)/1000;//kHz\n",
"disp(f0,'Oscillation frequency(kHz)');"
   ]
   }
,
{
		   "cell_type": "markdown",
		   "metadata": {},
		   "source": [
			"## Example 6.1: Design_a_RC_phase_shift_oscillator.sce"
		   ]
		  },
  {
"cell_type": "code",
	   "execution_count": null,
	   "metadata": {
	    "collapsed": true
	   },
	   "outputs": [],
"source": [
"//Ex 6.1\n",
"clc;\n",
"clear;\n",
"close;\n",
"format('v',6);\n",
"f0=600;//Hz//Oscillating Frequency\n",
"disp('Various design parameters are :-');\n",
"C=0.05;//micro F//Chosen for the design\n",
"disp(C,'Capacitance(micro F)');\n",
"format('v',5);\n",
"R=1/(2*%pi*f0*sqrt(6)*C*10^-6);//ohm\n",
"R=R/1000;//kohm\n",
"disp(R,'Resistance R(kohm)');\n",
"disp('We can use R=2.2 kohm for design purpose.')\n",
"//To avoid loading effect\n",
"Ri=10*R;//kohm//Ri>=10*R\n",
"Ri=ceil(Ri);//kohm\n",
"disp(Ri,'Resistance Ri(kohm)');\n",
"Rf=29*Ri;//kohm//Rf>=29*Ri\n",
"disp(Rf,'Resistance Rf(kohm)');\n",
"disp('We can use Rf=640 kohm for design purpose.')\n",
"Rf=640;//kohm\n",
"//Balancing the circuit\n",
"Rom=Rf*Ri/(Rf+Ri);//kohm\n",
"Rom=ceil(Rom);//kohm\n",
"format('v',6);\n",
"disp(Rom,'Resistance Rom(kohm)');"
   ]
   }
,
{
		   "cell_type": "markdown",
		   "metadata": {},
		   "source": [
			"## Example 6.3: Design_a_wein_bridge_oscillator.sce"
		   ]
		  },
  {
"cell_type": "code",
	   "execution_count": null,
	   "metadata": {
	    "collapsed": true
	   },
	   "outputs": [],
"source": [
"//Ex 6.3\n",
"clc;\n",
"clear;\n",
"close;\n",
"format('v',5);\n",
"f0=12;//kHz//Oscillating Frequency\n",
"disp('Various design parameters are :-');\n",
"C=0.01;//micro F//Chosen for the design between 0.01 & 1 micro F\n",
"disp(C,'Capacitance(micro F)');\n",
"R=1/(2*%pi*f0*1000*C*10^-6);//ohm\n",
"R=R/1000;//kohm\n",
"disp(R,'Resistance R(kohm)');\n",
"format('v',5);\n",
"Ri=3*R/2;//kohm//Ri>=3*R/2\n",
"disp(Ri,'Resistance Ri(kohm)');\n",
"disp('We can use Ri=2.2 kohm for design purpose.')\n",
"Ri=2.2;//kohm\n",
"Rf=2*Ri;//kohm\n",
"disp(Rf,'Resistance Rf(kohm)');\n",
"disp('We should use Rf=4.7 kohm for design purpose.')"
   ]
   }
,
{
		   "cell_type": "markdown",
		   "metadata": {},
		   "source": [
			"## Example 6.5: Design_a_wein_bridge_oscillator.sce"
		   ]
		  },
  {
"cell_type": "code",
	   "execution_count": null,
	   "metadata": {
	    "collapsed": true
	   },
	   "outputs": [],
"source": [
"//Ex 6.5\n",
"clc;\n",
"clear;\n",
"close;\n",
"format('v',5);\n",
"f0=2;//kHz//Oscillating Frequency\n",
"disp('Various design parameters are :-');\n",
"C=0.05;//micro F//Chosen for the design\n",
"disp(C,'Capacitance(micro F)');\n",
"R=1/(2*%pi*f0*1000*C*10^-6);//ohm\n",
"R=R/1000;//kohm\n",
"disp(R,'Resistance R(kohm)');\n",
"format('v',5);\n",
"Ri=3*R/2;//kohm//Ri>=3*R/2\n",
"format('v',4);\n",
"disp(Ri,'Resistance Ri(kohm)');\n",
"disp('We can use Ri=2.2 kohm for design purpose.')\n",
"Rf=2*Ri;//kohm\n",
"disp(Rf,'Resistance Rf(kohm)');\n",
"disp('We should use 5k pot for Rf.')"
   ]
   }
,
{
		   "cell_type": "markdown",
		   "metadata": {},
		   "source": [
			"## Example 6.6: Frequency_of_oscillation.sce"
		   ]
		  },
  {
"cell_type": "code",
	   "execution_count": null,
	   "metadata": {
	    "collapsed": true
	   },
	   "outputs": [],
"source": [
"//Ex 6.6\n",
"clc;\n",
"clear;\n",
"close;\n",
"format('v',6);\n",
"//Data given\n",
"R1=1;//kohm\n",
"R2=1;//kohm\n",
"R=1;//kohm\n",
"C=4.7;//micro F\n",
"f0=1/(2*%pi*R*10^3*C*10^-6);//Hz//Oscillating Frequency\n",
"disp(f0,'Oscillation frequency(Hz)');"
   ]
   }
,
{
		   "cell_type": "markdown",
		   "metadata": {},
		   "source": [
			"## Example 6.7: Design_a_quadrature_oscillator.sce"
		   ]
		  },
  {
"cell_type": "code",
	   "execution_count": null,
	   "metadata": {
	    "collapsed": true
	   },
	   "outputs": [],
"source": [
"//Ex 6.7\n",
"clc;\n",
"clear;\n",
"close;\n",
"format('v',5);\n",
"f0=200;//Hz//Oscillating Frequency\n",
"disp('Various design parameters are :-');\n",
"C=0.05;//micro F//Chosen for the design\n",
"disp(C,'Capacitance(micro F)');\n",
"R=0.159/(f0*C*10^-6);//ohm\n",
"R=R/1000;//kohm\n",
"disp(R,'Resistance R(kohm)');\n",
"disp('We should use R=510 kohm for the design.')\n",
"R=510;//kohm\n",
"C1=C;C2=C;C3=C;//micro F\n",
"disp(C3,C2,C1,'Capacitance C1, C2 & C3(micro F)');\n",
"R2=R;R3=R;//kohm\n",
"disp(R3,R2,'Resistance R2, R3(kohm)');\n",
"disp('1000k pot can be used.')\n",
"//Answer for R is calculated wrong in the textbook."
   ]
   }
,
{
		   "cell_type": "markdown",
		   "metadata": {},
		   "source": [
			"## Example 6.8: Causes_of_distortio.sce"
		   ]
		  },
  {
"cell_type": "code",
	   "execution_count": null,
	   "metadata": {
	    "collapsed": true
	   },
	   "outputs": [],
"source": [
"//Ex 6.8\n",
"clc;\n",
"clear;\n",
"close;\n",
"format('v',5);\n",
"Rf=570;//kohm\n",
"Ri=15;//kohm\n",
"A=Rf/Ri;//Gain of the circuit\n",
"Amin=29;//Minimum Gain requirement of RC phase shift oscillator\n",
"deltaA=(A-Amin)/Amin*100;//%(Exceeding Gain)\n",
"disp(deltaA,'Gain is exceeded by(%) ');\n",
"disp('It will cause distortion at output.');"
   ]
   }
,
{
		   "cell_type": "markdown",
		   "metadata": {},
		   "source": [
			"## Example 6.9: Frequency_of_oscillation.sce"
		   ]
		  },
  {
"cell_type": "code",
	   "execution_count": null,
	   "metadata": {
	    "collapsed": true
	   },
	   "outputs": [],
"source": [
"//Ex 6.9\n",
"clc;\n",
"clear;\n",
"close;\n",
"format('v',6);\n",
"disp('Part (a)');\n",
"L1=25;//micro H\n",
"L2=10;//micro H\n",
"Rf=22;//kohm\n",
"C=0.01;//micro F\n",
"LT=L1+L2;//micro H\n",
"fr=1/(2*%pi*sqrt(C*10^-6*LT*10^-6));//Hz\n",
"fr=fr/1000;//kHz\n",
"f0=fr;///kHz\n",
"disp(f0,'Oscillation frequency(kHz)');\n",
"Ri=Rf/(L1/L2);//kohm\n",
"disp(Ri,'Resistance Ri(kohm)');\n",
"disp('Part (b)');\n",
"C1=220;//pF\n",
"C2=680;//pF\n",
"Rf=22;//kohm\n",
"L=1;//mH\n",
"CT=C1*C2/(C1+C2);//pF\n",
"fr=1/(2*%pi*sqrt(L*10^-3*CT*10^-12));//Hz\n",
"fr=fr/1000;//kHz\n",
"f0=fr;///kHz\n",
"f0=round(f0);//kHz\n",
"disp(f0,'Oscillation frequency(kHz)');\n",
"Ri=Rf/(C1/C2);//kohm\n",
"disp(Ri,'Resistance Ri(kohm)');\n",
""
   ]
   }
],
"metadata": {
		  "kernelspec": {
		   "display_name": "Scilab",
		   "language": "scilab",
		   "name": "scilab"
		  },
		  "language_info": {
		   "file_extension": ".sce",
		   "help_links": [
			{
			 "text": "MetaKernel Magics",
			 "url": "https://github.com/calysto/metakernel/blob/master/metakernel/magics/README.md"
			}
		   ],
		   "mimetype": "text/x-octave",
		   "name": "scilab",
		   "version": "0.7.1"
		  }
		 },
		 "nbformat": 4,
		 "nbformat_minor": 0
}
