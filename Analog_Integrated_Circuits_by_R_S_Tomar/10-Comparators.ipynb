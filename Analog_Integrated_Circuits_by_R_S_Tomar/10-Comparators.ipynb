{
"cells": [
 {
		   "cell_type": "markdown",
	   "metadata": {},
	   "source": [
       "# Chapter 10: Comparators"
	   ]
	},
{
		   "cell_type": "markdown",
		   "metadata": {},
		   "source": [
			"## Example 10.1: Output_Voltage.sce"
		   ]
		  },
  {
"cell_type": "code",
	   "execution_count": null,
	   "metadata": {
	    "collapsed": true
	   },
	   "outputs": [],
"source": [
"////Ex 10.1\n",
"clc;\n",
"clear;\n",
"close;\n",
"format('v',5);\n",
"t=0:0.01:5;//sec(Assumed)\n",
"Vin=5*sin(2*%pi*t);//V\n",
"VCC=15;//V\n",
"R2=1;//kohm\n",
"R1=6.8;//kohm\n",
"VEE=-15;//V\n",
"Vsat=13;//V\n",
"Vref=R2*VCC/(R1+R2);//V\n",
"disp(Vref,'Reference Voltage(V)')\n",
"disp(Vsat,'If Vin>Vref , Vout (V):');\n",
"disp(-Vsat,'If Vin<Vref , Vout (V):');"
   ]
   }
,
{
		   "cell_type": "markdown",
		   "metadata": {},
		   "source": [
			"## Example 10.2: Upper_and_Lower_Trip_points.sce"
		   ]
		  },
  {
"cell_type": "code",
	   "execution_count": null,
	   "metadata": {
	    "collapsed": true
	   },
	   "outputs": [],
"source": [
"////Ex 10.2\n",
"clc;\n",
"clear;\n",
"close;\n",
"format('v',9);\n",
"Vsat=7;//V\n",
"R1=68;//kohm\n",
"R2=82;//kohm\n",
"VUTP=R2*Vsat/(R1+R2);//V\n",
"VLTP=R2*-Vsat/(R1+R2);//V\n",
"disp(VUTP,'Upper trip point(V)');\n",
"disp(VLTP,'Lower trip point(V)');"
   ]
   }
,
{
		   "cell_type": "markdown",
		   "metadata": {},
		   "source": [
			"## Example 10.3: Phase_shift.sce"
		   ]
		  },
  {
"cell_type": "code",
	   "execution_count": null,
	   "metadata": {
	    "collapsed": true
	   },
	   "outputs": [],
"source": [
"////Ex 10.3\n",
"clc;\n",
"clear;\n",
"close;\n",
"format('v',9);\n",
"//Vin=5*sin(omega*t)\n",
"Vm=5;//V\n",
"Vsat=7;//V\n",
"R1=68;//kohm\n",
"R2=82;//kohm\n",
"VUTP=R2*Vsat/(R1+R2);//V\n",
"fi=asind(VUTP/Vm);//degree\n",
"disp(fi,'Phase shift(degree)');"
   ]
   }
,
{
		   "cell_type": "markdown",
		   "metadata": {},
		   "source": [
			"## Example 10.4: Output_Voltage.sce"
		   ]
		  },
  {
"cell_type": "code",
	   "execution_count": null,
	   "metadata": {
	    "collapsed": true
	   },
	   "outputs": [],
"source": [
"////Ex 10.4\n",
"clc;\n",
"clear;\n",
"close;\n",
"format('v',5);\n",
"VZ1=4.7;//V\n",
"VZ2=4.7;//V\n",
"R1=68;//kohm\n",
"R2=15;//kohm\n",
"Vout=VZ1+0.7;//V(As one zener diode is always forward biased)\n",
"VR1=Vout;//V\n",
"IR1=VR1/R1*1000;//micro A\n",
"IR2=IR1;//micro A\n",
"VR2=IR2*10^-3*R2;//V\n",
"Vout=VR1+VR2;//V\n",
"VUTP=(R2/(R1+R2))*Vout;//V\n",
"VLTP=(R2/(R1+R2))*(-Vout);//V\n",
"disp(VUTP,'VUTP(V)');\n",
"disp(VLTP,'VLTP(V)');"
   ]
   }
,
{
		   "cell_type": "markdown",
		   "metadata": {},
		   "source": [
			"## Example 10.5: Threshold_and_hysteresis_voltage.sce"
		   ]
		  },
  {
"cell_type": "code",
	   "execution_count": null,
	   "metadata": {
	    "collapsed": true
	   },
	   "outputs": [],
"source": [
"////Ex 10.5\n",
"clc;\n",
"clear;\n",
"close;\n",
"format('v',9);\n",
"Vsat=12.5;//V\n",
"Vref=-12.5;//V\n",
"R1=80;//kohm\n",
"R2=20;//kohm\n",
"Beta=R2/(R1+R2);//unitless\n",
"UTP=Beta*Vsat+(1-Beta)*Vref;//V\n",
"LTP=-Beta*Vsat+(1-Beta)*Vref;//V\n",
"VH=UTP-LTP;//V\n",
"R3=R1*R2/(R1+R2);//kohm\n",
"disp(UTP,'UTP(V)');\n",
"disp(LTP,'LTP(V)');\n",
"disp(VH,'Hysteresis Voltahe, VH(V)');\n",
"disp(R3,'Use R3(kohm)');"
   ]
   }
],
"metadata": {
		  "kernelspec": {
		   "display_name": "Scilab",
		   "language": "scilab",
		   "name": "scilab"
		  },
		  "language_info": {
		   "file_extension": ".sce",
		   "help_links": [
			{
			 "text": "MetaKernel Magics",
			 "url": "https://github.com/calysto/metakernel/blob/master/metakernel/magics/README.md"
			}
		   ],
		   "mimetype": "text/x-octave",
		   "name": "scilab",
		   "version": "0.7.1"
		  }
		 },
		 "nbformat": 4,
		 "nbformat_minor": 0
}
