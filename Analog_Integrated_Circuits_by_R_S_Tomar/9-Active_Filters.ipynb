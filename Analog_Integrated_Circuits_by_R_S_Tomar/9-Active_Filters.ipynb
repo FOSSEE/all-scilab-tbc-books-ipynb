{
"cells": [
 {
		   "cell_type": "markdown",
	   "metadata": {},
	   "source": [
       "# Chapter 9: Active Filters"
	   ]
	},
{
		   "cell_type": "markdown",
		   "metadata": {},
		   "source": [
			"## Example 9.10: Second_order_low_pass_filter.sce"
		   ]
		  },
  {
"cell_type": "code",
	   "execution_count": null,
	   "metadata": {
	    "collapsed": true
	   },
	   "outputs": [],
"source": [
"//Ex 9.10\n",
"clc;\n",
"clear;\n",
"close;\n",
"format('v',5);\n",
"f0=2;//kHz(Critical frequency)\n",
"fH=f0;//kHz\n",
"f_3dB=f0;//kHz\n",
"//For Butterworth filter using sallen key\n",
"alfa=1.414;klp=1;//constant\n",
"Ap=3-alfa;// band pass gain\n",
"RfBYRi=Ap-1;//ratio\n",
"disp('Various design parameters are :-');\n",
"C=0.05;//micro F//Chosen for the design\n",
"disp(C,'Capacitance C(micro F)');\n",
"format('v',4);\n",
"R=1/(2*%pi*fH*10^3*C*10^-6)/1000;//kohm\n",
"disp(R,'Resistance R(kohm)');\n",
"//For offset minimization\n",
"//2*R=Rf||Ri=Rf/(RfBYRi+1)\n",
"Rf=2*R*(RfBYRi+1);//kohm\n",
"disp(Rf,'Resistance Rf(kohm)');\n",
"Ri=Rf/RfBYRi;//kohm\n",
"disp(Ri,'Resistance Ri(kohm)');\n",
"//Answer in the book is not accurate. Some calculation mistake is there while working for offset minimization."
   ]
   }
,
{
		   "cell_type": "markdown",
		   "metadata": {},
		   "source": [
			"## Example 9.11: Low_pass_bessel_filter.sce"
		   ]
		  },
  {
"cell_type": "code",
	   "execution_count": null,
	   "metadata": {
	    "collapsed": true
	   },
	   "outputs": [],
"source": [
"//Ex 9.11\n",
"clc;\n",
"clear;\n",
"close;\n",
"format('v',5);\n",
"f0=2;//kHz(Critical frequency)\n",
"fH=f0;//kHz\n",
"f_3dB=f0;//kHz\n",
"//For Bessel filter of 2nd order\n",
"alfa=1.73;klp=0.785;//constant\n",
"Ap=3-alfa;// band pass gain\n",
"RfBYRi=Ap-1;//ratio\n",
"disp('Various design parameters are :-');\n",
"C=0.05;//micro F//Chosen for the design\n",
"disp(C,'Capacitance C(micro F)');\n",
"format('v',4);\n",
"R=klp/(2*%pi*fH*10^3*C*10^-6)/1000;//kohm\n",
"disp(R,'Resistance R(kohm)');\n",
"//For offset minimization\n",
"//2*R=Rf||Ri=Rf/(RfBYRi+1)\n",
"Rf=2*R*(RfBYRi+1);//kohm\n",
"disp(Rf,'Resistance Rf(kohm)');\n",
"Ri=Rf/RfBYRi;//kohm\n",
"disp(Ri,'Resistance Ri(kohm)');"
   ]
   }
,
{
		   "cell_type": "markdown",
		   "metadata": {},
		   "source": [
			"## Example 9.12: Second_order_low_pass_filter.sce"
		   ]
		  },
  {
"cell_type": "code",
	   "execution_count": null,
	   "metadata": {
	    "collapsed": true
	   },
	   "outputs": [],
"source": [
"//Ex 9.12\n",
"clc;\n",
"clear;\n",
"close;\n",
"format('v',5);\n",
"f0=.12;//kHz(Cutoff frequency)\n",
"fH=f0;//kHz\n",
"//For Butterworth filter of 2nd order\n",
"alfa=1.414;klp=1;//constant\n",
"Ap=3-alfa;// band pass gain\n",
"RfBYRi=Ap-1;//ratio\n",
"disp('Various design parameters are :-');\n",
"C=0.33;//micro F//Chosen for the design choosing between 0.01 & 1 micro F\n",
"disp(C,'Capacitance C(micro F)');\n",
"format('v',4);\n",
"R=klp/(2*%pi*fH*10^3*C*10^-6)/1000;//kohm\n",
"disp(R,'Resistance R(kohm)');\n",
"disp('Use R=3.9 kohm');\n",
"//For offset minimization\n",
"//2*R=Rf||Ri=Rf/(RfBYRi+1)\n",
"Rf=2*R*(RfBYRi+1);//kohm\n",
"disp(Rf,'Resistance Rf(kohm)');\n",
"Ri=Rf/RfBYRi;//kohm\n",
"disp(Ri,'Resistance Ri(kohm)');"
   ]
   }
,
{
		   "cell_type": "markdown",
		   "metadata": {},
		   "source": [
			"## Example 9.13: Second_order_low_pass_filter.sce"
		   ]
		  },
  {
"cell_type": "code",
	   "execution_count": null,
	   "metadata": {
	    "collapsed": true
	   },
	   "outputs": [],
"source": [
"//Ex 9.13\n",
"clc;\n",
"clear;\n",
"close;\n",
"format('v',5);\n",
"fL=20;//Hz(Cutoff frequency)\n",
"//For Butterworth filter of 2nd order\n",
"alfa=1.414;klp=1;//constant\n",
"Ap=3-alfa;// band pass gain\n",
"RfBYRi=Ap-1;//ratio\n",
"disp('Various design parameters are :-');\n",
"C=0.22;//micro F//Chosen for the design choosing between 0.01 & 1 micro F\n",
"disp(C,'Capacitance C(micro F)');\n",
"format('v',4);\n",
"R=klp/(2*%pi*fL*C*10^-6)/1000;//kohm\n",
"disp(R,'Resistance R(kohm)');\n",
"//For offset minimization\n",
"//R=Rf||Ri=Rf/(RfBYRi+1)\n",
"Rf=R*(RfBYRi+1);//kohm\n",
"disp(Rf,'Resistance Rf(kohm)');\n",
"Ri=Rf/RfBYRi;//kohm\n",
"Ri=floor(Ri);//kohm\n",
"disp(Ri,'Resistance Ri(kohm)');"
   ]
   }
,
{
		   "cell_type": "markdown",
		   "metadata": {},
		   "source": [
			"## Example 9.14: Third_order_low_pass_butterworth_filter.sce"
		   ]
		  },
  {
"cell_type": "code",
	   "execution_count": null,
	   "metadata": {
	    "collapsed": true
	   },
	   "outputs": [],
"source": [
"//Ex 9.14\n",
"clc;\n",
"clear;\n",
"close;\n",
"format('v',5);\n",
"fH=2;//kHz(Cutoff frequency)\n",
"Ap=4;//Pass band gain\n",
"disp('Butterworth filter of 3rd order can be obtained by cascading of first and second order high pass filter.');\n",
"//Butterworth polynomial is (s+1)*(s^2+s+1)\n",
"alfa=1;//for sallen key\n",
"Ap2=3-alfa;//gain for 2nd order filter\n",
"Ap1=Ap/Ap2;//gain for 1st order filter\n",
"//Design parameters for 1st order filter : \n",
"disp('Various design parameters for 1st order filter are :-');\n",
"C=0.01;//micro F//Chosen for the design\n",
"disp(C,'Capacitance C(micro F)');\n",
"R=1/(2*%pi*fH*10^3*C*10^-6)/1000;//kohm\n",
"disp(R,'Resistance R(kohm)');\n",
"disp('Use R=8.2 kohm');\n",
"R=8.2;//kohm\n",
"//Ap1=Rf/Ri+1 ; with Ap1=2 we have Rf=Ri\n",
"Rf=2*R;//kohm\n",
"Ri=2*R;//kohm\n",
"disp(Ri,Rf,'Resistance Rf & Ri(kohm)');\n",
"format('v',6);\n",
"//Design parameters for 2nd order filter : \n",
"kLp=1/alfa;//unitless\n",
"//Ap2=Rfdash/Ridash+1 ; with Ap2=2 we have Rfdash=Ridash\n",
"disp('Various design parameters for 2nd order filter are :-');\n",
"C=0.033;//micro F//Chosen for the design\n",
"disp(C,'Capacitance C(micro F)');\n",
"format('v',4);\n",
"R=kLp/(2*%pi*fH*10^3*C*10^-6)/1000;//kohm\n",
"disp(R,'Resistance R(kohm)');\n",
"Rf=2*R;//kohm\n",
"Ri=2*R;//kohm\n",
"disp(Ri,Rf,'Resistance Rfdash & Ridash(kohm)');"
   ]
   }
,
{
		   "cell_type": "markdown",
		   "metadata": {},
		   "source": [
			"## Example 9.15: Design_a_band_pass_filter.sce"
		   ]
		  },
  {
"cell_type": "code",
	   "execution_count": null,
	   "metadata": {
	    "collapsed": true
	   },
	   "outputs": [],
"source": [
"//Ex 9.15\n",
"clc;\n",
"clear;\n",
"close;\n",
"format('v',6);\n",
"fL=200;//Hz\n",
"fH=1; //kHz\n",
"Ap=4;//Pass band gain\n",
"fc=sqrt(fH*1000*fL);//Hz(Cutoff frequency)\n",
"BW=fH*1000-fL;//Hz\n",
"Q=fc/BW;//Quality Factor\n",
"disp(Q,'Quality factor is ');\n",
"disp('As Q<12, it is a wide band filter.');\n",
"Ap1=2;//Pass band gain for high pass section\n",
"disp('Various design parameters for high pass section are :-');\n",
"C=0.033;//micro F//Chosen for the design\n",
"disp(C,'Capacitance C(micro F)');\n",
"format('v',4);\n",
"R=1/(2*%pi*fL*C*10^-6)/1000;//kohm\n",
"disp(R,'Resistance R(kohm)');\n",
"//Ap1=Rf/Ri+1 ; with Ap1=2 we have Rf=Ri\n",
"Rf=2*R;//kohm\n",
"Ri=2*R;//kohm\n",
"disp(Ri,Rf,'Resistance Rf & Ri(kohm)');\n",
"Ap2=2;//Pass band gain for low pass section\n",
"disp('Various design parameters for low pass section are :-');\n",
"format('v',6);\n",
"C=0.033;//micro F//Chosen for the design\n",
"disp(C,'Capacitance C(micro F)');\n",
"format('v',4);\n",
"K=fL/(fH*1000);//unitless\n",
"Rdash=K*R;//kohm\n",
"disp(Rdash,'Resistance Rdash(kohm)');\n",
"//Ap1=Rf/Ri+1 ; with Ap1=2 we have Rf=Ri\n",
"Rf=2*Rdash;//kohm\n",
"Ri=2*Rdash;//kohm\n",
"disp(Ri,Rf,'Resistance Rf & Ri(kohm)');\n",
"disp('Use Rf=Ri=10 kohm');"
   ]
   }
,
{
		   "cell_type": "markdown",
		   "metadata": {},
		   "source": [
			"## Example 9.16: Design_a_band_pass_filter.sce"
		   ]
		  },
  {
"cell_type": "code",
	   "execution_count": null,
	   "metadata": {
	    "collapsed": true
	   },
	   "outputs": [],
"source": [
"//Ex 9.16\n",
"clc;\n",
"clear;\n",
"close;\n",
"format('v',5);\n",
"disp('Part(a)');\n",
"fc=1.2;//kHz\n",
"Q=4;//Quality Factor\n",
"Ap=10;//Pass band gain\n",
"disp('Here 2*Q^2=32>AP=10, hence it can be designed using single op-amp.');\n",
"disp('Various design parameters are :-');\n",
"C=0.05;//micro F//Chosen for the design\n",
"disp(C,'Capacitance C(micro F)');\n",
"//fc/Q=1/(%pi*R2*C)\n",
"R2=Q/(fc*1000)/%pi/(C*10^-6)/1000;//kohm\n",
"disp(R2,'Resistance R2(kohm)');\n",
"disp('Use R2=22 kohm');\n",
"format('v',5);\n",
"R1=R2/(2*Ap);//kohm\n",
"disp(R1,'Resistance R1(kohm)');\n",
"R3=R1*1000/(4*%pi^2*R1*1000*R2*1000*(C*10^-6)^2*(fc*1000)^2-1);//ohm\n",
"disp(R3,'Resistance R3(ohm)');\n",
"disp('Use R3=460 ohm');\n",
"disp('Part(b)');\n",
"R3=460;//ohm\n",
"fc_new=1.5;//kHz\n",
"fc_old=1.2;//kHz\n",
"R3new=R3*(fc_old/fc_new)^2;//ohm\n",
"disp('Resistance R3 should be changed from '+string(R3)+' ohm to '+string(R3new)+' ohm');\n",
"///Answer for R3 is wrong in the book"
   ]
   }
,
{
		   "cell_type": "markdown",
		   "metadata": {},
		   "source": [
			"## Example 9.17: Design_a_band_pass_filter.sce"
		   ]
		  },
  {
"cell_type": "code",
	   "execution_count": null,
	   "metadata": {
	    "collapsed": true
	   },
	   "outputs": [],
"source": [
"//Ex 9.17\n",
"clc;\n",
"clear;\n",
"close;\n",
"format('v',5);\n",
"fL=3;//kHz\n",
"fH=3.6;//kHz\n",
"Ap=-6;//Pass band gain\n",
"fc=sqrt(fH*fL)*1000;//Hz\n",
"BW=(fH-fL)*1000;//Hz\n",
"Q=fc/BW;//Quality factor\n",
"disp(Q,'Quality factor is ');\n",
"disp('Here 1<=Q<=12 criteria fulfills, hence it can be designed using single op-amp.');\n",
"disp('Various design parameters are :-');\n",
"C=0.01;//micro F//Chosen for the design\n",
"disp(C,'Capacitance C(micro F)');\n",
"//fc/Q=1/(%pi*R2*C)\n",
"format('v',4);\n",
"R2=1/%pi/(BW)/(C*10^-6)/1000;//kohm\n",
"disp(R2,'Resistance R2(kohm)');\n",
"format('v',5);\n",
"R1=-R2/(2*Ap);//kohm\n",
"disp(R1,'Resistance R1(kohm)');\n",
"R3=R1*1000/(4*%pi^2*R1*1000*R2*1000*(C*10^-6)^2*(fc)^2-1);//ohm\n",
"disp(R3,'Resistance R3(ohm)');\n",
"disp('Design Verification : ');\n",
"disp(2*Q^2>abs(Ap),'(i) Is 2*Q^2>|Ap| ?');\n",
"disp('For op-amp 741, GBW=1 MHz');\n",
"GBW=1;//MHz\n",
"disp(GBW*10^6>20*Q^2*fc,'Is GBW*10^6>20*Q^2*fc ?');\n",
"disp('2nd criteria failed. The op-amp should have higher GBW product. Use LF411');"
   ]
   }
,
{
		   "cell_type": "markdown",
		   "metadata": {},
		   "source": [
			"## Example 9.18: Design_a_band_pass_filter.sce"
		   ]
		  },
  {
"cell_type": "code",
	   "execution_count": null,
	   "metadata": {
	    "collapsed": true
	   },
	   "outputs": [],
"source": [
"//Ex 9.18\n",
"clc;\n",
"clear;\n",
"close;\n",
"format('v',5);\n",
"Ap=-10;//Pass band gain\n",
"Q=22;//Quality factor\n",
"fc=50;//Hz\n",
"R=60;//dB/decade(Roll off rate)\n",
"disp('Roll off rate of single op-amp=20 dB/decade. No. of stages will be 3. Desired design can be obtained by cascading three stages.');\n",
"n=3;//no. of op-amps(as single op-amp has 20 dB/decade)\n",
"fc1=fc;//Hz\n",
"fc2=fc;//Hz\n",
"fc3=fc;//Hz\n",
"Q1=Q*sqrt(2^(1/n)-1);//Quality factor of each stage\n",
"Q2=Q1;//Quality factor\n",
"Q3=Q1;//Quality factor\n",
"Ap1=-(-Ap)^(1/n);//Band pass gain of each stage\n",
"Ap2=Ap1;//Band pass gain\n",
"Ap3=Ap1;//Band pass gain\n",
"//Design of a single op-amp\n",
"C=0.1;//micro F//Chosen for the design\n",
"disp('Various design parameters for a single stages are :');\n",
"disp(C,'Capacitance C(micro F)');\n",
"format('v',4);\n",
"R2=Q1/%pi/(fc)/(C*10^-6)/1000;//kohm\n",
"disp(R2,'Resistance R2(kohm)');\n",
"format('v',5);\n",
"R1=-R2/(2*Ap1);//kohm\n",
"disp(R1,'Resistance R1(kohm)');\n",
"format('v',4);\n",
"R3=R1/(4*%pi^2*R1*1000*R2*1000*(C*10^-6)^2*(fc)^2-1);//kohm\n",
"disp(R3,'Resistance R3(ohm)');\n",
"//Answer for R2 is wrong in the book."
   ]
   }
,
{
		   "cell_type": "markdown",
		   "metadata": {},
		   "source": [
			"## Example 9.20: Second_order_notch_filter.sce"
		   ]
		  },
  {
"cell_type": "code",
	   "execution_count": null,
	   "metadata": {
	    "collapsed": true
	   },
	   "outputs": [],
"source": [
"//Ex 9.20\n",
"clc;\n",
"clear;\n",
"close;\n",
"format('v',5);\n",
"fNO=50;//Hz\n",
"Q=20;//Quality Factor\n",
"disp('Various design parameters are :-');\n",
"C=1;//micro F//Chosen for the design\n",
"disp(C,'Capacitance C(micro F)');\n",
"R=1/(2*%pi*fNO)/(C*10^-6)/1000;//kohm\n",
"disp(R,'Resistance R(kohm)');\n",
"disp('Use R=3.2 kohm');\n",
"//Q=(RA+RB)/4/RA\n",
"RA=1;//kohm(chosen for the design)\n",
"RB=Q*4*RA-RA;//kohm\n",
"disp(RA,'Resistance RA(kohm)');\n",
"disp(RB,'Resistance RB(kohm)');"
   ]
   }
,
{
		   "cell_type": "markdown",
		   "metadata": {},
		   "source": [
			"## Example 9.2: First_order_low_pass_filter.sce"
		   ]
		  },
  {
"cell_type": "code",
	   "execution_count": null,
	   "metadata": {
	    "collapsed": true
	   },
	   "outputs": [],
"source": [
"//Ex 9.2\n",
"clc;\n",
"clear;\n",
"close;\n",
"format('v',5);\n",
"fH=1;//kHz\n",
"Ap=2;//Pass band gain\n",
"disp('Various design parameters are :-');\n",
"C=0.05;//micro F//Chosen for the design\n",
"disp(C,'Capacitance(micro F)');\n",
"format('v',4);\n",
"R=1/(2*%pi*fH*1000*C*10^-6)/1000;//kohm\n",
"disp(R,'Resistance R(kohm)');\n",
"//Ap=1+Rf/Ri\n",
"RfBYRi=Ap-1;//Rf=Ri here\n",
"//R=Rf||Ri\n",
"Ri=2*R;//kohm\n",
"Rf=Ri;//kohm\n",
"disp(Ri,'Resistance Ri(kohm)');\n",
"disp(Rf,'Resistance Rf(kohm)');"
   ]
   }
,
{
		   "cell_type": "markdown",
		   "metadata": {},
		   "source": [
			"## Example 9.3: Find_Bandwidth.sce"
		   ]
		  },
  {
"cell_type": "code",
	   "execution_count": null,
	   "metadata": {
	    "collapsed": true
	   },
	   "outputs": [],
"source": [
"//Ex 9.3\n",
"clc;\n",
"clear;\n",
"close;\n",
"format('v',5);\n",
"f0=800;//Hz\n",
"//For Butterworth filter : f0=fH=f_3dB\n",
"fH=f0;//Hz\n",
"f_3dB=f0;//Hz\n",
"BW=fH;//Hz\n",
"disp(BW,'Bandwidth(Hz)');"
   ]
   }
,
{
		   "cell_type": "markdown",
		   "metadata": {},
		   "source": [
			"## Example 9.4: First_order_low_pass_filter.sce"
		   ]
		  },
  {
"cell_type": "code",
	   "execution_count": null,
	   "metadata": {
	    "collapsed": true
	   },
	   "outputs": [],
"source": [
"//Ex 9.4\n",
"clc;\n",
"clear;\n",
"close;\n",
"format('v',5);\n",
"fH=2;//kHz(Cutoff frequency)\n",
"Ap=1;//Pass band gain\n",
"disp('Various design parameters are :-');\n",
"C=0.05;//micro F//Chosen for the design between 0.01 & 1 micro F\n",
"disp(C,'Capacitance(micro F)');\n",
"format('v',4);\n",
"R=1/(2*%pi*fH*1000*C*10^-6)/1000;//kohm\n",
"disp(R,'Resistance R(kohm)');\n",
"Rdash=R;///kohm(To eliminate the effect of offset)\n",
"disp(Rdash,'Resistance R*(kohm)');"
   ]
   }
,
{
		   "cell_type": "markdown",
		   "metadata": {},
		   "source": [
			"## Example 9.5: Convert_Cutoff_frequency.sce"
		   ]
		  },
  {
"cell_type": "code",
	   "execution_count": null,
	   "metadata": {
	    "collapsed": true
	   },
	   "outputs": [],
"source": [
"//Ex 9.5\n",
"clc;\n",
"clear;\n",
"close;\n",
"format('v',4);\n",
"f0=1;//kHz(Cutoff frequency)\n",
"f0dash=1.5;//kHz(Cutoff frequency)\n",
"disp('Various design parameters are :-');\n",
"//For Butterworth filter\n",
"fH=f0;//kHz\n",
"fHdash=f0dash;//kHz\n",
"K=f0/f0dash;//ratio\n",
"R=3.2;//kohm\n",
"Rdash=K*R;//kohm\n",
"disp(Rdash,'Resistance Rdash(kohm)');\n",
"disp('Use Rdash=2.2 kohm');\n",
"format('v',5);\n",
"C=0.05;//micro F//Chosen for the design\n",
"disp(C,'Capacitance(micro F)');\n",
"format('v',4);\n",
"fHdash=1/(2*%pi*Rdash*1000*C*10^-6)/1000;//kHz\n",
"disp(fHdash,'Cutoff frequency(kHz)');"
   ]
   }
,
{
		   "cell_type": "markdown",
		   "metadata": {},
		   "source": [
			"## Example 9.6: First_order_high_pass_filter.sce"
		   ]
		  },
  {
"cell_type": "code",
	   "execution_count": null,
	   "metadata": {
	    "collapsed": true
	   },
	   "outputs": [],
"source": [
"//Ex 9.6\n",
"clc;\n",
"clear;\n",
"close;\n",
"format('v',5);\n",
"fL=400;//Hz\n",
"Ap=2;//Pass band gain\n",
"disp('Various design parameters are :-');\n",
"C=0.05;//micro F//Chosen for the design between 0.01 & 1 micro F\n",
"disp(C,'Capacitance(micro F)');\n",
"R=1/(2*%pi*fL*C*10^-6)/1000;//kohm\n",
"format('v',4);\n",
"disp(R,'Resistance R(kohm)');\n",
"disp('Use R=8.2 kohm');\n",
"//Ap=1+Rf/Ri\n",
"RfBYRi=Ap-1;//Rf=Ri here\n",
"//R=Rf||Ri\n",
"Ri=2*R;//kohm\n",
"Rf=Ri;//kohm\n",
"disp(Ri,'Resistance Ri(kohm)');\n",
"disp(Rf,'Resistance Rf(kohm)');"
   ]
   }
,
{
		   "cell_type": "markdown",
		   "metadata": {},
		   "source": [
			"## Example 9.7: Retune_the_high_pass_filter.sce"
		   ]
		  },
  {
"cell_type": "code",
	   "execution_count": null,
	   "metadata": {
	    "collapsed": true
	   },
	   "outputs": [],
"source": [
"//Ex 9.7\n",
"clc;\n",
"clear;\n",
"close;\n",
"format('v',5);\n",
"fL=400;//Hz\n",
"fLdash=800;//Hz\n",
"K=fL/fLdash;//ratio\n",
"disp('Various parameters for retuning are :-');\n",
"R=8.2;//kohm\n",
"Rdash=K*R;//kohm\n",
"disp(Rdash,'Resistance Rdash(kohm)');\n",
"disp('Use Rdash=4.2 kohm');\n",
"Rf=2*Rdash;//kohm\n",
"Ri=2*Rdash;//kohm\n",
"disp(Ri,'Resistance Ri(kohm)');\n",
"disp(Rf,'Resistance Rf(kohm)');"
   ]
   }
,
{
		   "cell_type": "markdown",
		   "metadata": {},
		   "source": [
			"## Example 9.8: Second_order_Butterworth_filter.sce"
		   ]
		  },
  {
"cell_type": "code",
	   "execution_count": null,
	   "metadata": {
	    "collapsed": true
	   },
	   "outputs": [],
"source": [
"//Ex 9.8\n",
"clc;\n",
"clear;\n",
"close;\n",
"format('v',6);\n",
"f0=3;//kHz(Critical frequency)\n",
"Ap=4;//Pass band gain\n",
"//For Butterworth filter using sallen key\n",
"alfa=1.414;klp=1;//constant\n",
"fH=f0;//kHz\n",
"f_3dB=f0;//kHz\n",
"disp('Various design parameters are :-');\n",
"C1=0.01;//micro F//Chosen for the design\n",
"disp(C1,'Capacitance C1(micro F)');\n",
"C2=alfa^2*C1/4;//micro F\n",
"disp(C2,'Capacitance C2(micro F)');\n",
"disp('Use C2=0.004 micro F');\n",
"C2=0.004;// micro F\n",
"R=1/(2*%pi*fH*10^3*sqrt(C1*10^-6*C2*10^-6))/1000;//kohm\n",
"format('v',4);\n",
"disp(R,'Resistance R(kohm)');\n",
"disp('Use R=8.2 kohm');\n",
"R=8.2;//kohm\n",
"//For offset minimization\n",
"Rdash=2*R;//kohm\n",
"disp(Rdash,'Resistance R*(kohm)');\n",
"RfBYRi=Ap-1;//Rf=Ri here\n",
"//Ri=10 kohm chosen for design\n",
"Ri=10;//kohm\n",
"Rf=RfBYRi*Ri;//kohm\n",
"disp(Ri,'Resistance Ri(kohm)');\n",
"disp(Rf,'Resistance Rf(kohm)');"
   ]
   }
,
{
		   "cell_type": "markdown",
		   "metadata": {},
		   "source": [
			"## Example 9.9: Second_order_Butterworth_filter.sce"
		   ]
		  },
  {
"cell_type": "code",
	   "execution_count": null,
	   "metadata": {
	    "collapsed": true
	   },
	   "outputs": [],
"source": [
"//Ex 9.9\n",
"clc;\n",
"clear;\n",
"close;\n",
"format('v',5);\n",
"f0=2;//kHz(Critical frequency)\n",
"Ap=5;//dc gain\n",
"//For Butterworth filter using sallen key\n",
"alfa=1.414;klp=1;//constant\n",
"fH=f0;//kHz\n",
"f_3dB=f0;//kHz\n",
"Ap1=3-alfa;//gain\n",
"RfBYRi=Ap1-1;//ratio\n",
"disp('Various design parameters are :-');\n",
"C=0.05;//micro F//Chosen for the design\n",
"disp(C,'Capacitance C(micro F)');\n",
"R=klp/(2*%pi*fH*10^3*C*10^-6)/1000;//kohm\n",
"disp(R,'Resistance R(kohm)');\n",
"disp('Use R=1.6 kohm');\n",
"//For offset minimization\n",
"//2*R=Rf||Ri=Rf/(RfBYRi+1)\n",
"Rf=2*R*(RfBYRi+1);//kohm\n",
"disp(Rf,'Resistance Rf(kohm)');\n",
"Ri=Rf/RfBYRi;//kohm\n",
"format('v',4);\n",
"disp(Ri,'Resistance Ri(kohm)');\n",
"//Ap=4;//dc gain in this case\n",
"Ap=4;//dc gain\n",
"Ap2=Ap/Ap1;//remainimg gain after 2nd order butterworth filter\n",
"RfdashBYRidash=Ap2-1;//ratio\n",
"//Ridash=10;//kohm chosen for design\n",
"Ridash=10;//kohm\n",
"disp(Ridash,'Resistance Ridash(kohm)');\n",
"Rfdash=RfdashBYRidash*Ridash;//kohm\n",
"disp(Rfdash,'Resistance Rfdash(kohm)');"
   ]
   }
],
"metadata": {
		  "kernelspec": {
		   "display_name": "Scilab",
		   "language": "scilab",
		   "name": "scilab"
		  },
		  "language_info": {
		   "file_extension": ".sce",
		   "help_links": [
			{
			 "text": "MetaKernel Magics",
			 "url": "https://github.com/calysto/metakernel/blob/master/metakernel/magics/README.md"
			}
		   ],
		   "mimetype": "text/x-octave",
		   "name": "scilab",
		   "version": "0.7.1"
		  }
		 },
		 "nbformat": 4,
		 "nbformat_minor": 0
}
