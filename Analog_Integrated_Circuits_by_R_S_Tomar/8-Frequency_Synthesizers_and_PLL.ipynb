{
"cells": [
 {
		   "cell_type": "markdown",
	   "metadata": {},
	   "source": [
       "# Chapter 8: Frequency Synthesizers and PLL"
	   ]
	},
{
		   "cell_type": "markdown",
		   "metadata": {},
		   "source": [
			"## Example 8.1: Lock_Capture_and_pullin_range.sce"
		   ]
		  },
  {
"cell_type": "code",
	   "execution_count": null,
	   "metadata": {
	    "collapsed": true
	   },
	   "outputs": [],
"source": [
"////Ex 8.1\n",
"clc;\n",
"clear;\n",
"close;\n",
"format('v',9);\n",
"VCC=6;//V\n",
"VEE=6;//V\n",
"RT=4;//kohm\n",
"CT=330;//pF\n",
"C=240;//pF\n",
"fo=0.3/(RT*1000*CT*10^-12)/1000;//kHz\n",
"disp(fo,'Free running frequency(kHz)');\n",
"Vplus=(VCC-(-VEE))/2;//V\n",
"deltafL=8*fo/Vplus;//kHz\n",
"disp(deltafL,'Lock Range(+ve & -ve in kHz)');\n",
"//For LM 565\n",
"R=3.6;//kohm\n",
"deltafC=sqrt(deltafL*1000/(2*%pi*R*1000*C*10^-12))/1000;//kHz\n",
" disp(deltafC,'Capture Range(+ve & -ve in kHz)');\n",
"deltafP=2*deltafC/2;//kHz\n",
" disp(deltafP,'Pull-in Range(kHz)');"
   ]
   }
,
{
		   "cell_type": "markdown",
		   "metadata": {},
		   "source": [
			"## Example 8.2: Design_a_FM_demodulator.sce"
		   ]
		  },
  {
"cell_type": "code",
	   "execution_count": null,
	   "metadata": {
	    "collapsed": true
	   },
	   "outputs": [],
"source": [
"////Ex 8.2\n",
"clc;\n",
"clear;\n",
"close;\n",
"format('v',9);\n",
"fo=450;//kHz\n",
"deltafL=240;//kHz(+ve & -ve)\n",
"deltafC=40;//kHz(+ve & -ve)\n",
"Vplus=8*fo/deltafL;//V\n",
"//Vplus=(VCC-(-VEE))/2 but |VCC|=|-VEE|\n",
"VCC=Vplus;//V\n",
"VEE=Vplus;//V\n",
"disp(VCC,'For the design |VCC|=|-VEE| in Volt');\n",
"RT=4.7;//kohm(Assumed for design)\n",
"R=3.6;//kohm\n",
"CT=0.3/(RT*1000*fo*1000)*10^12;//pF\n",
"C=1/((deltafC*10^3)^2*(2*%pi*R*10^3)/(deltafL*1000))*10^9;//nF\n",
"disp(RT,'Value of RT(kohm)');\n",
"disp(CT,'Value of CT(pF)');\n",
"disp(C,'Value of C(nF)');\n",
"//Answer in the book is not accurate."
   ]
   }
,
{
		   "cell_type": "markdown",
		   "metadata": {},
		   "source": [
			"## Example 8.3: Clock_frequency_and_no_of_bits.sce"
		   ]
		  },
  {
"cell_type": "code",
	   "execution_count": null,
	   "metadata": {
	    "collapsed": true
	   },
	   "outputs": [],
"source": [
"////Ex 8.3\n",
"clc;\n",
"clear;\n",
"close;\n",
"format('v',9);\n",
"fmax=160;//kHz\n",
"fr=4;//Hz(Resolution)\n",
"M=2.4;//unitless\n",
"fclk=M*fmax;//kHz\n",
"disp(fclk,'Clock frequency(kHz)');\n",
"N=log(fclk*1000/fr)/log(2);//no. of bits\n",
"disp(round(N),'No. of bits');"
   ]
   }
],
"metadata": {
		  "kernelspec": {
		   "display_name": "Scilab",
		   "language": "scilab",
		   "name": "scilab"
		  },
		  "language_info": {
		   "file_extension": ".sce",
		   "help_links": [
			{
			 "text": "MetaKernel Magics",
			 "url": "https://github.com/calysto/metakernel/blob/master/metakernel/magics/README.md"
			}
		   ],
		   "mimetype": "text/x-octave",
		   "name": "scilab",
		   "version": "0.7.1"
		  }
		 },
		 "nbformat": 4,
		 "nbformat_minor": 0
}
