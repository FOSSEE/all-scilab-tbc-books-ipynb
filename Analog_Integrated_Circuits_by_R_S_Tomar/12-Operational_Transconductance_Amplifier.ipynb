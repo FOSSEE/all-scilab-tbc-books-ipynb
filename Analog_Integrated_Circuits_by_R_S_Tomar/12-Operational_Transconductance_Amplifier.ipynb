{
"cells": [
 {
		   "cell_type": "markdown",
	   "metadata": {},
	   "source": [
       "# Chapter 12: Operational Transconductance Amplifier"
	   ]
	},
{
		   "cell_type": "markdown",
		   "metadata": {},
		   "source": [
			"## Example 12.1: f3dB_frequency.sce"
		   ]
		  },
  {
"cell_type": "code",
	   "execution_count": null,
	   "metadata": {
	    "collapsed": true
	   },
	   "outputs": [],
"source": [
"////Ex 12.1\n",
"clc;\n",
"clear;\n",
"close;\n",
"format('v',9);\n",
"gm=55;//micro U\n",
"C=8.75;//pF\n",
"f3dB=gm/(2*%pi*C);//MHz\n",
"disp(f3dB,'f-3dB frequency(MHz)')"
   ]
   }
],
"metadata": {
		  "kernelspec": {
		   "display_name": "Scilab",
		   "language": "scilab",
		   "name": "scilab"
		  },
		  "language_info": {
		   "file_extension": ".sce",
		   "help_links": [
			{
			 "text": "MetaKernel Magics",
			 "url": "https://github.com/calysto/metakernel/blob/master/metakernel/magics/README.md"
			}
		   ],
		   "mimetype": "text/x-octave",
		   "name": "scilab",
		   "version": "0.7.1"
		  }
		 },
		 "nbformat": 4,
		 "nbformat_minor": 0
}
