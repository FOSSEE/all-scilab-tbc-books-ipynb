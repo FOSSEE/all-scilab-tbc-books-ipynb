{
"cells": [
 {
		   "cell_type": "markdown",
	   "metadata": {},
	   "source": [
       "# Chapter 2: Differentials Aplifiers"
	   ]
	},
{
		   "cell_type": "markdown",
		   "metadata": {},
		   "source": [
			"## Example 2.10: Differential_input_resistance.sce"
		   ]
		  },
  {
"cell_type": "code",
	   "execution_count": null,
	   "metadata": {
	    "collapsed": true
	   },
	   "outputs": [],
"source": [
"////Ex 2.10\n",
"clc;\n",
"clear;\n",
"close;\n",
"format('v',9);\n",
"Beta=100;//unitless\n",
"VBE=0.7;//V\n",
"R=18.6;//kohm\n",
"VT=26;//mV\n",
"VCC=5;//V\n",
"VEE=5;//V\n",
"IExt=(VCC-VBE-(-VEE))/R;//mA\n",
"IT=IExt;;//mA\n",
"re=2*VT/IT;//ohm(let re1=re2=re)\n",
"Rid=2*Beta*re/1000;//kohm(let Rid1=Rid2=Rid)\n",
"disp(Rid,'Differntial input resistances, Rid1=Rid2(kohm)');"
   ]
   }
,
{
		   "cell_type": "markdown",
		   "metadata": {},
		   "source": [
			"## Example 2.11: Gain_and_input_resistance.sce"
		   ]
		  },
  {
"cell_type": "code",
	   "execution_count": null,
	   "metadata": {
	    "collapsed": true
	   },
	   "outputs": [],
"source": [
"////Ex 2.11\n",
"clc;\n",
"clear;\n",
"close;\n",
"format('v',6);\n",
"Beta=100;//unitless\n",
"VBE=0.7;//V\n",
"RC=2.7;//kohm\n",
"R=2.2;//kohm\n",
"VT=26;//mV\n",
"VCC=10;//V\n",
"VEE=10;//V\n",
"IExt=(VEE-VBE)/R;//mA\n",
"IT=IExt;;//mA\n",
"IE=IT/2;//mA(Let IE1=IE2=IE)\n",
"re=2*VT/IT;re1=re;re2=re;re3=re;re4=re//ohm\n",
"reD=re1+re2;//ohm\n",
"BetaD=Beta^2;//unitless\n",
"Ad=-RC*1000/reD;//unitless\n",
"disp(Ad,'Differential voltage gain, Ad')\n",
"Rid=2*BetaD*reD/1000;//kohm(let Rid1=Rid2=Rid)\n",
"disp(Rid,'Differntial input resistances, Rid1=Rid2(kohm)');\n",
"//Answer in the bok is not accurate."
   ]
   }
,
{
		   "cell_type": "markdown",
		   "metadata": {},
		   "source": [
			"## Example 2.1: Output_Voltage.sce"
		   ]
		  },
  {
"cell_type": "code",
	   "execution_count": null,
	   "metadata": {
	    "collapsed": true
	   },
	   "outputs": [],
"source": [
"//Ex 2.1\n",
"clc;\n",
"clear;\n",
"close;\n",
"format('v',5);\n",
"v1=7;//mV\n",
"v2=9;//mV\n",
"Ad=80;//dB\n",
"CMRR=90;//dB\n",
"vid=v2-v1;//mV\n",
"vcm=(v1+v2)/2;//mV\n",
"Ad=10^(Ad/20);//unitless\n",
"CMRR=10^(CMRR/20);//unitless\n",
"vout=Ad*(vid+vcm/CMRR)/1000;//V\n",
"disp(vout,'Output Voltage(V)');;"
   ]
   }
,
{
		   "cell_type": "markdown",
		   "metadata": {},
		   "source": [
			"## Example 2.2: Output_Voltage_and_percent_error.sce"
		   ]
		  },
  {
"cell_type": "code",
	   "execution_count": null,
	   "metadata": {
	    "collapsed": true
	   },
	   "outputs": [],
"source": [
"////Ex 2.2\n",
"clc;\n",
"clear;\n",
"close;\n",
"format('v',7);\n",
"v1=50;//micro V\n",
"v2=55;//micro V\n",
"Ad=2*10^5;//unitless\n",
"CMRR=80;//dB\n",
"vid=v2-v1;//micro V\n",
"vcm=(v1+v2)/2;//mV\n",
"CMRR=10^(CMRR/20);//unitless\n",
"vout=Ad*(vid+vcm/CMRR)/10^6;//V\n",
"disp(vout,'Output Voltage(V)');;\n",
"Verror=vout-Ad*vid/10^6;//V\n",
"disp(Verror,'Error Voltage(V)');\n",
"error_p=(Verror/vout)*100;//% error\n",
"disp(error_p,'Percentage error(%)');\n",
"//Percentage error answer is not correct in the book."
   ]
   }
,
{
		   "cell_type": "markdown",
		   "metadata": {},
		   "source": [
			"## Example 2.3: Current_Ad_Ac_CMRR.sce"
		   ]
		  },
  {
"cell_type": "code",
	   "execution_count": null,
	   "metadata": {
	    "collapsed": true
	   },
	   "outputs": [],
"source": [
"////Ex 2.3\n",
"clc;\n",
"clear;\n",
"close;\n",
"format('v',6);\n",
"IT=1;//mA\n",
"VCC=15;//V\n",
"RE=50;//kohm\n",
"RC=15;//kohm\n",
"Beta=120;//unitless\n",
"alfa=Beta/(Beta+1);//unitless\n",
"Vid=6;//mV\n",
"VT=26;//mV\n",
"//Part (a)\n",
"iC1=alfa*IT/(1+exp(-Vid/VT));//mA\n",
"iC2=IT-iC1;//mA\n",
"disp(iC2,'dc Collector current through transistors(mA)');\n",
"//Part (b)\n",
"iC=IT/2;//mA(let iC1=iC2=iC)\n",
"re=VT/iC;//ohm(let re1=re2=re)\n",
"Ad=-RC*1000/re;//unitless\n",
"Acm=-RC*1000/(re+2*RE*1000);//unitless\n",
"Acm=abs(Acm);////unitless\n",
"CMRR=abs(Ad/Acm);////unitless\n",
"disp(Ad,'Ad');\n",
"disp(Acm,'Acm');\n",
"CMRR=20*log10(CMRR);//dB\n",
"disp(CMRR,'CMRR(dB)');"
   ]
   }
,
{
		   "cell_type": "markdown",
		   "metadata": {},
		   "source": [
			"## Example 2.4: Gain_and_CMRR.sce"
		   ]
		  },
  {
"cell_type": "code",
	   "execution_count": null,
	   "metadata": {
	    "collapsed": true
	   },
	   "outputs": [],
"source": [
"////Ex 2.4\n",
"clc;\n",
"clear;\n",
"close;\n",
"format('v',6);\n",
"RC=2;//kohm\n",
"RE=4.3;//kohm\n",
"VEE=5;//V\n",
"VBE=0.7;//V\n",
"IT=(VEE-VBE)/RE;//mA\n",
"VT=26;//mV\n",
"re=2*VT/IT;//ohm\n",
"Ad=-RC*1000/2/re;//unitless\n",
"disp(Ad,'Ad');\n",
"Acm=-RC*1000/(re+2*RE*1000);//unitless\n",
"disp(Acm,'Acm');\n",
"CMRR=abs(Ad/Acm);////unitless\n",
"disp(CMRR,'CMRR');"
   ]
   }
,
{
		   "cell_type": "markdown",
		   "metadata": {},
		   "source": [
			"## Example 2.5: Operating_point_Gain_and_Resistance.sce"
		   ]
		  },
  {
"cell_type": "code",
	   "execution_count": null,
	   "metadata": {
	    "collapsed": true
	   },
	   "outputs": [],
"source": [
"////Ex 2.5\n",
"clc;\n",
"clear;\n",
"close;\n",
"format('v',5);\n",
"Beta=100;//unitless\n",
"VBE=0.715;VD1=0.715;//V\n",
"VZ=6.2;//V\n",
"VT=26;//mV\n",
"IZt=41;//mA\n",
"VCC=10;//V\n",
"VEE=10;//V\n",
"RE=2.7;//kohm\n",
"RC=4.7;//kohm\n",
"VB=-VEE+VZ+VD1;//V\n",
"VE=VB-VBE;//V\n",
"IE3=(VE-(-VEE))/(RE);//mA\n",
"IT=IE3;//mA\n",
"ICQ=IT/2;//mA(let ICQ1=ICQ2=ICQ)\n",
"VCEQ=VCC+VBE-ICQ*RC;//V\n",
"Q=[ICQ VCEQ];//[mA V](Q point)\n",
"disp(Q,'Q point (ICQ(mA), VCEQ(V)) is ');\n",
"re=2*VT/IT;//ohm\n",
"Ad=-RC*1000/re;//unitless\n",
"Rid=2*Beta*re/1000;//kohm\n",
"disp(Ad,'Ad');\n",
"disp(Rid,'Rid(kohm)');"
   ]
   }
,
{
		   "cell_type": "markdown",
		   "metadata": {},
		   "source": [
			"## Example 2.6: Gain_and_input_resistance.sce"
		   ]
		  },
  {
"cell_type": "code",
	   "execution_count": null,
	   "metadata": {
	    "collapsed": true
	   },
	   "outputs": [],
"source": [
"////Ex 2.6\n",
"clc;\n",
"clear;\n",
"close;\n",
"format('v',6);\n",
"Beta=100;//unitless\n",
"VBE=0.7;//V\n",
"VCC=10;//V\n",
"VEE=10;//V\n",
"VT=26;//mV\n",
"RC=2.7;//kohm\n",
"R=2.2;//kohm\n",
"IExt=(VEE-VBE)/R;//mA\n",
"IC3=IExt;IT=IExt;;//mA\n",
"ICQ=IT/2;//mA\n",
"re=2*VT/IT;//ohm(let re1=re2=re)\n",
"Ad=-RC*1000/re;//unitless\n",
"Rid=2*Beta*re/1000;//kohm(let Rid1=Rid2=Rid)\n",
"disp(Ad,'Differntial moe gain, Ad');\n",
"disp(Rid,'Differntial input resistance, Rid(kohm)');"
   ]
   }
,
{
		   "cell_type": "markdown",
		   "metadata": {},
		   "source": [
			"## Example 2.7: Q_point_and_voltage_gain.sce"
		   ]
		  },
  {
"cell_type": "code",
	   "execution_count": null,
	   "metadata": {
	    "collapsed": true
	   },
	   "outputs": [],
"source": [
"////Ex 2.7\n",
"clc;\n",
"clear;\n",
"close;\n",
"format('v',7);\n",
"Beta=100;//unitless\n",
"VBE=0.7;//V\n",
"VD1=0.7;VD2=0.7//V\n",
"VCC=15;//V\n",
"VEE=15;//V\n",
"VT=26;//mV\n",
"RE=560;//ohm\n",
"RC=6.8;//kohm\n",
"R=220;//ohm\n",
"VB=-VEE+VD1+VD2;//V\n",
"VE=VB-VBE;//V\n",
"IE3=(VE-(-VEE))/RE*1000;//mA\n",
"IT=IE3;//mA\n",
"ICQ=IT/2;//mA\n",
"VCEQ=VCC+VBE-ICQ*RC;//V\n",
"Q=[ICQ VCEQ];//[mA V](Q point)\n",
"disp(Q,'Q point (ICQ(mA), VCEQ(V)) is ');\n",
"re=2*VT/IT;//ohm\n",
"Ad=-RC*1000/re;//unitless\n",
"disp(Ad,'Differntial moe gain, Ad');\n",
"//Answer in the book is wrong for Q point."
   ]
   }
,
{
		   "cell_type": "markdown",
		   "metadata": {},
		   "source": [
			"## Example 2.8: RC_RE_Rid_Rid.sce"
		   ]
		  },
  {
"cell_type": "code",
	   "execution_count": null,
	   "metadata": {
	    "collapsed": true
	   },
	   "outputs": [],
"source": [
"////Ex 2.8\n",
"clc;\n",
"clear;\n",
"close;\n",
"format('v',5);\n",
"ICQ=200;//micro A\n",
"Beta=1000;//unitless\n",
"Ad=180;//unitless\n",
"CMRR=80;//dB\n",
"VT=26;//mV\n",
"re=VT/(ICQ/1000);//ohm(Let re=re1=re2)\n",
"RC=Ad*re/1000;//kohm\n",
"CMRR=10^(CMRR/20);//untless\n",
"RE=(CMRR-1)*re/2/1000;//kohm\n",
"disp(RE,RC,'Value of RC & RE(kohm)');\n",
"Rid=2*Beta*re/1000;//kohm(Let Rid=Rid1=Rid2)\n",
"disp(Rid,'Differntial input resistance, Rid(kohm)');\n",
"Ric=(Beta+1)*(re+2*RE*1000)/10^6;//Mohm\n",
"disp(Ric,'Common mode input resistance, Ric(Mohm)');"
   ]
   }
,
{
		   "cell_type": "markdown",
		   "metadata": {},
		   "source": [
			"## Example 2.9: Operating_point_Gain_and_Resistance.sce"
		   ]
		  },
  {
"cell_type": "code",
	   "execution_count": null,
	   "metadata": {
	    "collapsed": true
	   },
	   "outputs": [],
"source": [
"////Ex 2.9\n",
"clc;\n",
"clear;\n",
"close;\n",
"format('v',5);\n",
"Beta=110;//unitless\n",
"VBE=0.7;//V\n",
"VT=26;//mV\n",
"VCC=10;//V\n",
"VEE=10;//V\n",
"RC=1.8;//kohm\n",
"R=3.9;//kohm\n",
"IExt=(VCC-VBE-(-VEE))/R;//mA\n",
"IT=IExt;;//mA\n",
"ICQ=IT/2;//mA\n",
"V1=0;V2=0;//V\n",
"VE=-2*VBE;//V\n",
"VC=VCC-ICQ*RC;//V\n",
"VCEQ=VC-VE;//V\n",
"Q=[ICQ VCEQ];//[mA V](Q point)\n",
"disp(Q,'Q point (ICQ(mA), VCEQ(V)) is ');\n",
"re=2*VT/IT;//ohm(let re1=re2=re)\n",
"reD=2*re;//ohm\n",
"Ad=-RC*1000/reD;//unitless\n",
"disp(Ad,'Differntial moe gain, Ad');\n",
"BetaD=Beta^2;//unitless\n",
"Rid=2*BetaD*reD/1000;//kohm(let Rid1=Rid2=Rid)\n",
"disp(Rid,'Differntial input resistance, Rid(kohm)');\n",
"//Answer for Ad is wrong(+ve) in the book while it is negative."
   ]
   }
],
"metadata": {
		  "kernelspec": {
		   "display_name": "Scilab",
		   "language": "scilab",
		   "name": "scilab"
		  },
		  "language_info": {
		   "file_extension": ".sce",
		   "help_links": [
			{
			 "text": "MetaKernel Magics",
			 "url": "https://github.com/calysto/metakernel/blob/master/metakernel/magics/README.md"
			}
		   ],
		   "mimetype": "text/x-octave",
		   "name": "scilab",
		   "version": "0.7.1"
		  }
		 },
		 "nbformat": 4,
		 "nbformat_minor": 0
}
