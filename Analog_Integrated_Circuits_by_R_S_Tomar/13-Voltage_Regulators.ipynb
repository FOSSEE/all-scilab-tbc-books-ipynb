{
"cells": [
 {
		   "cell_type": "markdown",
	   "metadata": {},
	   "source": [
       "# Chapter 13: Voltage Regulators"
	   ]
	},
{
		   "cell_type": "markdown",
		   "metadata": {},
		   "source": [
			"## Example 13.10: Regulated_Power_Supply.sce"
		   ]
		  },
  {
"cell_type": "code",
	   "execution_count": null,
	   "metadata": {
	    "collapsed": true
	   },
	   "outputs": [],
"source": [
"////Ex 13.10\n",
"clc;\n",
"clear;\n",
"close;\n",
"format('v',6);\n",
"Vout=15;//V\n",
"IL=50;//mA\n",
"Vin=20;//V\n",
"PDmax=1;//W(For LM 723)\n",
"Iref=3;//mA(From datasheet)\n",
"PD=Vout*(IL+Iref);//mW\n",
"disp(PD/1000,'Required PD(W)');\n",
"disp(PDmax,'PDmax supplie by LM723(mW)');\n",
"disp('PD<PDmax, so we can use it.');\n",
"Vref=7.15;//V(For LM 723)\n",
"R3=1.5;//kohm(choosen)\n",
"R1BYR2=(Vout-Vref)/Vref;\n",
"R1=R3*(R1BYR2+1);//ohm\n",
"disp(R1,'Resistance R1(kohm)');\n",
"R2=R1/R1BYR2;//ohm\n",
"disp(R2,'Resistance R2(kohm)');\n",
"disp(R3,'Resistance R3(kohm)');\n",
"RCL=0.65/(IL/1000);//ohm\n",
"disp(RCL,'Resistance RCL(ohm)');"
   ]
   }
,
{
		   "cell_type": "markdown",
		   "metadata": {},
		   "source": [
			"## Example 13.1: Regulatio.sce"
		   ]
		  },
  {
"cell_type": "code",
	   "execution_count": null,
	   "metadata": {
	    "collapsed": true
	   },
	   "outputs": [],
"source": [
"////Ex 13.1\n",
"clc;\n",
"clear;\n",
"close;\n",
"format('v',6);\n",
"deltaVin=4;//V\n",
"deltaVout=0.4;//V\n",
"Vout=20;//V\n",
"LR=(deltaVout/Vout)*100/deltaVin;//%/V(Line Regulation)\n",
"disp(LR,'Line Regulation(%/V)');"
   ]
   }
,
{
		   "cell_type": "markdown",
		   "metadata": {},
		   "source": [
			"## Example 13.2: Load_Regulatio.sce"
		   ]
		  },
  {
"cell_type": "code",
	   "execution_count": null,
	   "metadata": {
	    "collapsed": true
	   },
	   "outputs": [],
"source": [
"////Ex 13.2\n",
"clc;\n",
"clear;\n",
"close;\n",
"format('v',6);\n",
"VNL=18;//V\n",
"VFL=17.8;//V\n",
"IL=50;//mA\n",
"LR=(VNL-VFL)*100/VFL;//%(Line Regulation)\n",
"LdR=LR/IL;//%/mA(Load Regulation)\n",
"disp(LdR,'Load Regulation(%/mA)');"
   ]
   }
,
{
		   "cell_type": "markdown",
		   "metadata": {},
		   "source": [
			"## Example 13.3: Calculate_Load_Current.sce"
		   ]
		  },
  {
"cell_type": "code",
	   "execution_count": null,
	   "metadata": {
	    "collapsed": true
	   },
	   "outputs": [],
"source": [
"////Ex 13.3\n",
"clc;\n",
"clear;\n",
"close;\n",
"format('v',6);\n",
"VBE=0.65;//V\n",
"RCL=1.2;//ohm\n",
"ILmax=VBE/RCL;//A\n",
"//For Vout=0, IL=ILmax\n",
"IL=ILmax;//A\n",
"disp(IL,'Load current(A)');"
   ]
   }
,
{
		   "cell_type": "markdown",
		   "metadata": {},
		   "source": [
			"## Example 13.4: Determine_the_output.sce"
		   ]
		  },
  {
"cell_type": "code",
	   "execution_count": null,
	   "metadata": {
	    "collapsed": true
	   },
	   "outputs": [],
"source": [
"////Ex 13.4\n",
"clc;\n",
"clear;\n",
"close;\n",
"format('v',6);\n",
"R=20;//kohm\n",
"R1=20;//kohm\n",
"R2=10;//kohm\n",
"VZ=4.7;//V\n",
"Vref=VZ;//V\n",
"Vout=Vref*(1+R1/R2);//V\n",
"disp(Vout,'Output Voltage(V)');"
   ]
   }
,
{
		   "cell_type": "markdown",
		   "metadata": {},
		   "source": [
			"## Example 13.5: Design_a_regulator_circuit.sce"
		   ]
		  },
  {
"cell_type": "code",
	   "execution_count": null,
	   "metadata": {
	    "collapsed": true
	   },
	   "outputs": [],
"source": [
"////Ex 13.5\n",
"clc;\n",
"clear;\n",
"close;\n",
"format('v',6);\n",
"Vout=15;//V\n",
"Vin=20;//V\n",
"INL=2;//mA(INL=Iadj+Iref)\n",
"Iadj=60;//mA(Assumed)\n",
"Iref=INL-Iadj/1000;//mA\n",
"Vref=1.25;//V\n",
"R1=Vref/Iref*1000;//ohm\n",
"VR2=Vout-Vref;//V\n",
"R2=VR2/INL*1000;//ohm\n",
"disp('Design values are : ');\n",
"disp(R1,'Resistance, R1(ohm)');\n",
"disp(R2/1000,'Resistance, R2(kohm)');"
   ]
   }
,
{
		   "cell_type": "markdown",
		   "metadata": {},
		   "source": [
			"## Example 13.6: Calculate_Iext.sce"
		   ]
		  },
  {
"cell_type": "code",
	   "execution_count": null,
	   "metadata": {
	    "collapsed": true
	   },
	   "outputs": [],
"source": [
"////Ex 13.6\n",
"clc;\n",
"clear;\n",
"close;\n",
"format('v',6);\n",
"RL1=100;//ohm\n",
"RL2=1;//ohm\n",
"RCS=7;//ohm\n",
"VEB=0.7;//V\n",
"Beta=25;//unitless\n",
"//For 100 ohm Load\n",
"Vout=5;//V(as 7805 used)\n",
"IL=Vout/RL1;//A\n",
"VRCS=IL*RCS;//V(Voltage across RCS)\n",
"//VRCS<VEB, hence Q1 is off\n",
"Iout=IL;Iin=IL;//A\n",
"Iext=Iout-Iin;//A\n",
"disp(Iext,'For 100 ohm load, Output current Iext(A)');\n",
"//For 1 ohm Load\n",
"Vout=5;//V(as 7805 used)\n",
"IL=Vout/RL2;//A\n",
"ILmax=IL;//A\n",
"VRCS=IL*RCS;//V(Voltage across RCS)\n",
"//VRCS>VEB, hence Q1 is on\n",
"Iout=(ILmax+Beta*VEB/RCS)/(Beta+1);//A\n",
"Iext=ILmax-Iout;//A\n",
"disp(Iext,'For 10 ohm load, Output current Iext(A)');"
   ]
   }
,
{
		   "cell_type": "markdown",
		   "metadata": {},
		   "source": [
			"## Example 13.7: Value_of_R1.sce"
		   ]
		  },
  {
"cell_type": "code",
	   "execution_count": null,
	   "metadata": {
	    "collapsed": true
	   },
	   "outputs": [],
"source": [
"////Ex 13.7\n",
"clc;\n",
"clear;\n",
"close;\n",
"format('v',6);\n",
"RL=1:10;//ohm\n",
"R1=5;//ohm\n",
"Vref=5;//V\n",
"IL=1;//A\n",
"IQ=0;//A\n",
"Iref=IL;//A\n",
"R1=Vref/Iref;//ohm\n",
"disp(R1,'Value of resistor R1(ohm)');"
   ]
   }
,
{
		   "cell_type": "markdown",
		   "metadata": {},
		   "source": [
			"## Example 13.8: Adjustable_Voltage_regulator.sce"
		   ]
		  },
  {
"cell_type": "code",
	   "execution_count": null,
	   "metadata": {
	    "collapsed": true
	   },
	   "outputs": [],
"source": [
"////Ex 13.8\n",
"clc;\n",
"clear;\n",
"close;\n",
"format('v',6);\n",
"Vout=15:20;//V\n",
"Vin=24;//V\n",
"VR1=12;//V\n",
"Vref=12;//V\n",
"I4=0;//A(Assumed)\n",
"Iout=1;//A(Assumed)\n",
"R1=VR1/Iout;//ohm\n",
"//Vout=VR1*(1+R2/R1)\n",
"R2min=R1*(min(Vout)/VR1-1);//Putting min Vout\n",
"R2max=R1*(max(Vout)/VR1-1);//Putting min Vout\n",
"disp(R1,'Resistance R1(ohm)');\n",
"disp(R2max,R2min,'Minimum & maximum value of R2(ohm)');\n",
"disp('A pot of 10 ohm should be used.');"
   ]
   }
,
{
		   "cell_type": "markdown",
		   "metadata": {},
		   "source": [
			"## Example 13.9: Regulated_Power_Supply.sce"
		   ]
		  },
  {
"cell_type": "code",
	   "execution_count": null,
	   "metadata": {
	    "collapsed": true
	   },
	   "outputs": [],
"source": [
"////Ex 13.9\n",
"clc;\n",
"clear;\n",
"close;\n",
"format('v',6);\n",
"Vout=6;//V\n",
"IL=100;//mA\n",
"Vref=7.15;//V(For LM 723)\n",
"Iref=1;//mA(Assumed)\n",
"R1=(Vref-Vout)/Iref;//kohm\n",
"R2=Vout/Iref;//kohm\n",
"disp('Design values are : ');\n",
"disp(R1,'R1 should be used 1.2kohm. Calculated R1(kohm) is');\n",
"disp(R2,'R2 should be used 6.2kohm. Calculated R2(kohm)');\n",
"R1=1.2;R2=6.2;//kohm\n",
"R3=R1*R2/(R1+R2);//kohm\n",
"disp(R3,'Resistance R3(kohm)');\n",
"RCL=0.65/(IL/1000);//kohm\n",
"disp(RCL,'Resistance RCL(kohm)');"
   ]
   }
],
"metadata": {
		  "kernelspec": {
		   "display_name": "Scilab",
		   "language": "scilab",
		   "name": "scilab"
		  },
		  "language_info": {
		   "file_extension": ".sce",
		   "help_links": [
			{
			 "text": "MetaKernel Magics",
			 "url": "https://github.com/calysto/metakernel/blob/master/metakernel/magics/README.md"
			}
		   ],
		   "mimetype": "text/x-octave",
		   "name": "scilab",
		   "version": "0.7.1"
		  }
		 },
		 "nbformat": 4,
		 "nbformat_minor": 0
}
