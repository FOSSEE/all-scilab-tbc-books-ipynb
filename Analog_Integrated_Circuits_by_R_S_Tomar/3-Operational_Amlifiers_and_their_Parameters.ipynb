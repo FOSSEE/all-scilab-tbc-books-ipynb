{
"cells": [
 {
		   "cell_type": "markdown",
	   "metadata": {},
	   "source": [
       "# Chapter 3: Operational Amlifiers and their Parameters"
	   ]
	},
{
		   "cell_type": "markdown",
		   "metadata": {},
		   "source": [
			"## Example 3.1: Open_loop_gain.sce"
		   ]
		  },
  {
"cell_type": "code",
	   "execution_count": null,
	   "metadata": {
	    "collapsed": true
	   },
	   "outputs": [],
"source": [
"//Ex 3.1\n",
"clc;\n",
"clear;\n",
"close;\n",
"format('e',8);\n",
"fBW=4;//MHz\n",
"fo=10;//Hz\n",
"AOL=fBW*10^6/fo;//unitless\n",
"disp(AOL,'Open loop gain is');"
   ]
   }
,
{
		   "cell_type": "markdown",
		   "metadata": {},
		   "source": [
			"## Example 3.2: Time_take.sce"
		   ]
		  },
  {
"cell_type": "code",
	   "execution_count": null,
	   "metadata": {
	    "collapsed": true
	   },
	   "outputs": [],
"source": [
"//Ex 3.2\n",
"clc;\n",
"clear;\n",
"close;\n",
"format('v',5);\n",
"V1=-10;//V\n",
"V2=10;//V\n",
"SR=0.5;//V/micro second\n",
"delta_Vo=V2-V1;//V\n",
"delta_t=delta_Vo/SR;//micro second\n",
"disp(delta_t,'Time taken by op-amp is(micro second)');"
   ]
   }
,
{
		   "cell_type": "markdown",
		   "metadata": {},
		   "source": [
			"## Example 3.3: Maximum_Voltage.sce"
		   ]
		  },
  {
"cell_type": "code",
	   "execution_count": null,
	   "metadata": {
	    "collapsed": true
	   },
	   "outputs": [],
"source": [
"//Ex 3.3\n",
"clc;\n",
"clear;\n",
"close;\n",
"format('v',6);\n",
"SR=0.6;//V/micro second\n",
"f=100;//kHz\n",
"Vm=(SR/10^-6)/(2*%pi*f*1000);//V\n",
"disp(Vm,'Maximum voltage, Vm is(V)');"
   ]
   }
,
{
		   "cell_type": "markdown",
		   "metadata": {},
		   "source": [
			"## Example 3.4: Maximum_Frequency.sce"
		   ]
		  },
  {
"cell_type": "code",
	   "execution_count": null,
	   "metadata": {
	    "collapsed": true
	   },
	   "outputs": [],
"source": [
"//Ex 3.4\n",
"clc;\n",
"clear;\n",
"close;\n",
"format('v',5);\n",
"SR=0.5;//V/micro second\n",
"Vm=10;//V\n",
"f=100;//kHz\n",
"fm=(SR/10^-6)/(2*%pi*Vm);//Hz\n",
"disp(fm/1000,'Maximum frequency, fm is(kHz)');"
   ]
   }
,
{
		   "cell_type": "markdown",
		   "metadata": {},
		   "source": [
			"## Example 3.5: Slew_rate.sce"
		   ]
		  },
  {
"cell_type": "code",
	   "execution_count": null,
	   "metadata": {
	    "collapsed": true
	   },
	   "outputs": [],
"source": [
"//Ex 3.5\n",
"clc;\n",
"clear;\n",
"close;\n",
"format('v',5);\n",
"delta_t=0.3/2;//micro second\n",
"V1=-3;//V\n",
"V2=3;//V\n",
"delta_Vo=V2-V1;//V\n",
"SR=delta_Vo/delta_t;//V/micro second\n",
"disp(SR,'Slew rate is(V/micro second)');"
   ]
   }
,
{
		   "cell_type": "markdown",
		   "metadata": {},
		   "source": [
			"## Example 3.6: Close_Loop_Voltage_Gai.sce"
		   ]
		  },
  {
"cell_type": "code",
	   "execution_count": null,
	   "metadata": {
	    "collapsed": true
	   },
	   "outputs": [],
"source": [
"//Ex 3.6\n",
"clc;\n",
"clear;\n",
"close;\n",
"format('v',5);\n",
"SR=2;//V/micro second\n",
"delta_Vin=0.8;//V\n",
"delta_t=10;//micro second\n",
"Acl_max=SR/(delta_Vin/delta_t);//unitless\n",
"disp(Acl_max,'Maximum close loop voltage gain is');"
   ]
   }
,
{
		   "cell_type": "markdown",
		   "metadata": {},
		   "source": [
			"## Example 3.7: Limiting_Frequency.sce"
		   ]
		  },
  {
"cell_type": "code",
	   "execution_count": null,
	   "metadata": {
	    "collapsed": true
	   },
	   "outputs": [],
"source": [
"//Ex 3.7\n",
"clc;\n",
"clear;\n",
"close;\n",
"format('v',5);\n",
"SR=6;//V/micro second\n",
"//Part (i)\n",
"Vm=1;//V\n",
"fm=(SR/10^-6)/(2*%pi*Vm);//Hz\n",
"disp(fm/1000,'part (i) Maximum frequency, fm is(kHz)');\n",
"//Part (i)\n",
"Vm=10;//V\n",
"fm=(SR/10^-6)/(2*%pi*Vm);//Hz\n",
"disp(fm/1000,'part (ii) Maximum frequency, fm is(kHz)');"
   ]
   }
],
"metadata": {
		  "kernelspec": {
		   "display_name": "Scilab",
		   "language": "scilab",
		   "name": "scilab"
		  },
		  "language_info": {
		   "file_extension": ".sce",
		   "help_links": [
			{
			 "text": "MetaKernel Magics",
			 "url": "https://github.com/calysto/metakernel/blob/master/metakernel/magics/README.md"
			}
		   ],
		   "mimetype": "text/x-octave",
		   "name": "scilab",
		   "version": "0.7.1"
		  }
		 },
		 "nbformat": 4,
		 "nbformat_minor": 0
}
