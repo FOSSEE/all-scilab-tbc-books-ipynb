{
"cells": [
 {
		   "cell_type": "markdown",
	   "metadata": {},
	   "source": [
       "# Chapter 11: Non linear applications of opamp"
	   ]
	},
{
		   "cell_type": "markdown",
		   "metadata": {},
		   "source": [
			"## Example 11.1: Output_Voltage.sce"
		   ]
		  },
  {
"cell_type": "code",
	   "execution_count": null,
	   "metadata": {
	    "collapsed": true
	   },
	   "outputs": [],
"source": [
"////Ex 11.1\n",
"clc;\n",
"clear;\n",
"close;\n",
"format('v',5);\n",
"Vin=12.5;//V\n",
"Ri=10;//kohm\n",
"IS=10^-13;//A\n",
"T=27;//degree C\n",
"VT=26;//mV\n",
"Vref=Ri*IS*1000;//V\n",
"Vout=-VT*10^-3*log(Vin/Vref);//V\n",
"disp(Vout,'Output Voltahe, Vout(V)');"
   ]
   }
,
{
		   "cell_type": "markdown",
		   "metadata": {},
		   "source": [
			"## Example 11.3: Output_Voltage.sce"
		   ]
		  },
  {
"cell_type": "code",
	   "execution_count": null,
	   "metadata": {
	    "collapsed": true
	   },
	   "outputs": [],
"source": [
"////Ex 11.2\n",
"clc;\n",
"clear;\n",
"close;\n",
"format('v',7);\n",
"R1=10;//kohm\n",
"k=1.38*10^-23;//J/K\n",
"T=298;//K\n",
"q=1.6*10^-19;//C\n",
"Kdash=k*T/q;//Kdash=k*T/q assumed for temporary calculation\n",
"disp('Output Voltahe, Vout(V) is '+string(-Kdash)+'*log(Vin/10*10^3)');"
   ]
   }
,
{
		   "cell_type": "markdown",
		   "metadata": {},
		   "source": [
			"## Example 11.4: Output_Voltage.sce"
		   ]
		  },
  {
"cell_type": "code",
	   "execution_count": null,
	   "metadata": {
	    "collapsed": true
	   },
	   "outputs": [],
"source": [
"////Ex 11.4\n",
"clc;\n",
"clear;\n",
"close;\n",
"format('v',5);\n",
"R1=10;//kohm\n",
"R2=10;//kohm\n",
"k=1.38*10^-23;//J/K\n",
"T=298;//K\n",
"q=1.6*10^-19;//C\n",
"Kdash=k*T/q;//Kdash=k*T/q assumed for temporary calculation\n",
"disp('Output Voltahe, Vout(V) is -R1*(log('+string(-1/Kdash)+'*Vin)^-1');"
   ]
   }
,
{
		   "cell_type": "markdown",
		   "metadata": {},
		   "source": [
			"## Example 11.7: Calculate_Output.sce"
		   ]
		  },
  {
"cell_type": "code",
	   "execution_count": null,
	   "metadata": {
	    "collapsed": true
	   },
	   "outputs": [],
"source": [
"////Ex 11.7\n",
"clc;\n",
"clear;\n",
"close;\n",
"format('v',6);\n",
"k=1;//for the givn connection\n",
"//(a)\n",
"Vin=5;//V\n",
"Vout=-k*log10(Vin/0.1);//V\n",
"disp(Vout,'For 5V input, Output Voltage(V)');\n",
"//(b)\n",
"Vin=2;//V\n",
"Vout=-k*log10(Vin/0.1);//V\n",
"disp(Vout,'For 2V input, Output Voltage(V)');\n",
"//(c)\n",
"Vin=0.1;//V\n",
"Vout=-k*log10(Vin/0.1);//V\n",
"disp(Vout,'For 0.1V input, Output Voltage(V)');\n",
"//(d)\n",
"Vin=50;//mV\n",
"Vout=-k*log10(Vin/1000/0.1);//V\n",
"disp(Vout,'For 50mV input, Output Voltage(V)');\n",
"//(a)\n",
"Vin=5;//mV\n",
"Vout=-k*log10(Vin/1000/0.1);//V\n",
"disp(Vout,'For 5mV input, Output Voltage(V)');"
   ]
   }
,
{
		   "cell_type": "markdown",
		   "metadata": {},
		   "source": [
			"## Example 11.8: Calculate_Output.sce"
		   ]
		  },
  {
"cell_type": "code",
	   "execution_count": null,
	   "metadata": {
	    "collapsed": true
	   },
	   "outputs": [],
"source": [
"////Ex 11.8\n",
"clc;\n",
"clear;\n",
"close;\n",
"format('v',6);\n",
"k=1;//for the givn connection\n",
"//For 755N module\n",
"Rin=10;//kohm\n",
"Iref=10;//micro A\n",
"Vref=Rin*Iref/1000;//V\n",
"//(a)\n",
"Vin=5;//V\n",
"Vout1=-k*log10(Vin/0.1);//V\n",
"Vout=Vref*10^(-Vout1/k);//V\n",
"disp(Vout,'For 5V input to log amp, Antilog amp Output(V)');\n",
"//(b)\n",
"Vin=2;//V\n",
"Vout1=-k*log10(Vin/0.1);//V\n",
"Vout=Vref*10^(-Vout1/k);//V\n",
"disp(Vout,'For 2V input to log amp, Antilog amp Output(V)');\n",
"//(c)\n",
"Vin=0.1;//V\n",
"Vout1=-k*log10(Vin/0.1);//V\n",
"Vout=Vref*10^(-Vout1/k);//V\n",
"disp(Vout,'For 0.1V input to log amp, Antilog amp Output(V)');\n",
"//(d)\n",
"Vin=50;//mV\n",
"Vout1=-k*log10(Vin/1000/0.1);//V\n",
"Vout=Vref*10^(-Vout1/k);//V\n",
"disp(Vout*1000,'For 50mV input to log amp, Antilog amp Output(mV)');\n",
"//(e)\n",
"Vin=5;//mV\n",
"Vout1=-k*log10(Vin/1000/0.1);//V\n",
"Vout=Vref*10^(-Vout1/k);//V\n",
"disp(Vout*1000,'For 5mV input to log amp, Antilog amp Output(mV)');"
   ]
   }
],
"metadata": {
		  "kernelspec": {
		   "display_name": "Scilab",
		   "language": "scilab",
		   "name": "scilab"
		  },
		  "language_info": {
		   "file_extension": ".sce",
		   "help_links": [
			{
			 "text": "MetaKernel Magics",
			 "url": "https://github.com/calysto/metakernel/blob/master/metakernel/magics/README.md"
			}
		   ],
		   "mimetype": "text/x-octave",
		   "name": "scilab",
		   "version": "0.7.1"
		  }
		 },
		 "nbformat": 4,
		 "nbformat_minor": 0
}
