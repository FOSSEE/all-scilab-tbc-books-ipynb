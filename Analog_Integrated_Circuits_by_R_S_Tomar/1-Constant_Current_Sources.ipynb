{
"cells": [
 {
		   "cell_type": "markdown",
	   "metadata": {},
	   "source": [
       "# Chapter 1: Constant Current Sources"
	   ]
	},
{
		   "cell_type": "markdown",
		   "metadata": {},
		   "source": [
			"## Example 1.10: Determine_IC1_and_IC2.sce"
		   ]
		  },
  {
"cell_type": "code",
	   "execution_count": null,
	   "metadata": {
	    "collapsed": true
	   },
	   "outputs": [],
"source": [
"//Ex 1.10\n",
"clc;\n",
"clear;\n",
"close;\n",
"format('v',5);\n",
"Vout=5;//V\n",
"Beta=180;//unitless\n",
"R=22;//kohm\n",
"VCC=10;//V\n",
"VBE=0.7;//V\n",
"IREF=(VCC-VBE)/R;//mA\n",
"IC=(IREF-VBE/R)/(1+2/Beta);//mA\n",
"RC=(VCC-Vout)/IC;//kohm\n",
"disp(IC,'IC1 & IC2 in mA are ');\n",
"disp(RC,'RC in kohm is ');\n",
"//Answer in the book is wrong."
   ]
   }
,
{
		   "cell_type": "markdown",
		   "metadata": {},
		   "source": [
			"## Example 1.1: Design_a_current_mirror_circuit.sce"
		   ]
		  },
  {
"cell_type": "code",
	   "execution_count": null,
	   "metadata": {
	    "collapsed": true
	   },
	   "outputs": [],
"source": [
"//Ex 1.1\n",
"clc;\n",
"clear;\n",
"close;\n",
"format('v',5);\n",
"Iout=8;//micro A\n",
"VBE=0.7;//V\n",
"Beta=80;//unitless\n",
"VCC=20;//V\n",
"IREF=Iout*(1+2/Beta);//micro A\n",
"R=(VCC-VBE)/IREF;//Mohm\n",
"disp(IREF,'Reference current(micro A)');\n",
"disp(R,'Resistance required(Mohm)');;"
   ]
   }
,
{
		   "cell_type": "markdown",
		   "metadata": {},
		   "source": [
			"## Example 1.2: Design_a_current_mirror_circuit.sce"
		   ]
		  },
  {
"cell_type": "code",
	   "execution_count": null,
	   "metadata": {
	    "collapsed": true
	   },
	   "outputs": [],
"source": [
"//Ex 1.2\n",
"clc;\n",
"clear;\n",
"close;\n",
"format('v',5);\n",
"Iout=1;//mA\n",
"VBE=0.7;//V\n",
"Beta=100;//unitless\n",
"VCC=30;//V\n",
"IREF=Iout*(1+2/Beta);//mA\n",
"R=(VCC-VBE)/IREF;//kohm\n",
"disp(IREF,'Reference current(mA)');\n",
"disp(R,'Resistance required(kohm)');;"
   ]
   }
,
{
		   "cell_type": "markdown",
		   "metadata": {},
		   "source": [
			"## Example 1.3: Design_a_current_source.sce"
		   ]
		  },
  {
"cell_type": "code",
	   "execution_count": null,
	   "metadata": {
	    "collapsed": true
	   },
	   "outputs": [],
"source": [
"//Ex 1.3\n",
"clc;\n",
"clear;\n",
"close;\n",
"format('v',5);\n",
"Iout=0.5;//mA\n",
"Beta=50;//unitless\n",
"VEB=0.7;//V\n",
"VCC=5;//V\n",
"IREF=Iout*(1+2/Beta);//mA\n",
"R=(VCC-VEB)/IREF;//kohm\n",
"disp(IREF,'Reference current(mA)');\n",
"disp(R,'Resistance required(kohm)');;"
   ]
   }
,
{
		   "cell_type": "markdown",
		   "metadata": {},
		   "source": [
			"## Example 1.4: Design_a_current_mirror_circuit.sce"
		   ]
		  },
  {
"cell_type": "code",
	   "execution_count": null,
	   "metadata": {
	    "collapsed": true
	   },
	   "outputs": [],
"source": [
"//Ex 1.4\n",
"clc;\n",
"clear;\n",
"close;\n",
"format('v',5);\n",
"Iout=8;//micro A\n",
"Beta=100;//unitless\n",
"VBE=0.7;//V\n",
"VCC=20;//V\n",
"IREF=Iout/(1+2/Beta/(1+Beta));//micro A\n",
"R=(VCC-2*VBE)/IREF;//Mohm\n",
"disp(IREF,'Reference current(micro A)');\n",
"disp(R,'Resistance required(Mohm)');;"
   ]
   }
,
{
		   "cell_type": "markdown",
		   "metadata": {},
		   "source": [
			"## Example 1.5: Modified_current_mirror_circuit.sce"
		   ]
		  },
  {
"cell_type": "code",
	   "execution_count": null,
	   "metadata": {
	    "collapsed": true
	   },
	   "outputs": [],
"source": [
"//Ex 1.5\n",
"clc;\n",
"clear;\n",
"close;\n",
"format('v',7);\n",
"Iout=60;//micro A\n",
"VBE=0.7;//V\n",
"Beta=150;//unitless\n",
"VCC=30;//V\n",
"IREF=Iout*(1+2/Beta/(1+Beta));//micro A\n",
"R=(VCC-2*VBE)/IREF;//Mohm\n",
"disp(IREF,'Reference current(micro A)');\n",
"disp(R*1000,'Resistance required(kohm)');;"
   ]
   }
,
{
		   "cell_type": "markdown",
		   "metadata": {},
		   "source": [
			"## Example 1.6: Find_Iout.sce"
		   ]
		  },
  {
"cell_type": "code",
	   "execution_count": null,
	   "metadata": {
	    "collapsed": true
	   },
	   "outputs": [],
"source": [
"//Ex 1.6\n",
"clc;\n",
"clear;\n",
"close;\n",
"format('v',5);\n",
"VBE=0.7;//V\n",
"Beta=120;//unitless\n",
"VCC=10;//V\n",
"R=5.6;//kohm\n",
"//KCL at node x : IREF=IC1+I1;//as Beta>>1\n",
"//KCL at node y : I1=IC2+IB3;//as Beta>>1\n",
"IREF=(VCC-VBE)/R;//mA\n",
"//as IREF=2*IC+IB3=IC*(2+1/Beta)=2*IC;//as Beta>>1\n",
"IC=IREF/2;//mA\n",
"Iout=IC;//mA\n",
"disp(Iout,'Output current(mA)');"
   ]
   }
,
{
		   "cell_type": "markdown",
		   "metadata": {},
		   "source": [
			"## Example 1.7: Design_a_widlar_current_source.sce"
		   ]
		  },
  {
"cell_type": "code",
	   "execution_count": null,
	   "metadata": {
	    "collapsed": true
	   },
	   "outputs": [],
"source": [
"//Ex 1.7\n",
"clc;\n",
"clear;\n",
"close;\n",
"format('v',5);\n",
"Iout=6;//micro A\n",
"IREF=1.2;//mA\n",
"VBE2=0.7;//V\n",
"VT=26;//mV\n",
"Beta=120;//unitless\n",
"VCC=20;//V\n",
"R=(VCC-VBE2)/IREF;//kohm\n",
"disp(R,'Value of resistance R(kohm)')\n",
"IC1=Iout;//micro A\n",
"IC2=(IREF-IC1*10^-3/Beta)/(1+1/Beta);//mA\n",
"RS=1/(IC1*10^-6)*VT*10^-3*log(IC2*1000/IC1);//ohm\n",
"disp(RS/1000,'Value of resistance RS(kohm)');"
   ]
   }
,
{
		   "cell_type": "markdown",
		   "metadata": {},
		   "source": [
			"## Example 1.8: Design_a_widlar_current_source.sce"
		   ]
		  },
  {
"cell_type": "code",
	   "execution_count": null,
	   "metadata": {
	    "collapsed": true
	   },
	   "outputs": [],
"source": [
"//Ex 1.8\n",
"clc;\n",
"clear;\n",
"close;\n",
"format('v',6);\n",
"IREF=1;//mA\n",
"Io2=20;//micro A\n",
"Io3=40;//micro A\n",
"VBE1=0.7;//V\n",
"VT=26;//mV\n",
"VCC=10;//V\n",
"VEE=-10;//V\n",
"R=(VCC-VBE1-VEE)/IREF;//kohm\n",
"disp(R,'Value of resistance R(kohm)');\n",
"RE2=VT/Io2*log(IREF*1000/Io2);//kohm\n",
"disp(RE2,'Value of resistance RE2(kohm)');\n",
"RE3=VT/Io3*log(IREF*1000/Io3);//kohm\n",
"disp(RE3,'Value of resistance RE3(kohm)');\n",
"VBE2=VBE1-RE2*Io2/1000;//V\n",
"disp(VBE2,'Value of Base emitter voltage of transistor Q2(V)');\n",
"VBE3=VBE1-RE3*Io3/1000;//V\n",
"disp(VBE3,'Value of Base emitter voltage of transistor Q3(V)');"
   ]
   }
,
{
		   "cell_type": "markdown",
		   "metadata": {},
		   "source": [
			"## Example 1.9: Calculate_Current.sce"
		   ]
		  },
  {
"cell_type": "code",
	   "execution_count": null,
	   "metadata": {
	    "collapsed": true
	   },
	   "outputs": [],
"source": [
"//Ex 1.9\n",
"clc;\n",
"clear;\n",
"close;\n",
"format('v',5);\n",
"Beta=100;//unitless\n",
"VBE=0.715;//V\n",
"R=5.6;//kohm\n",
"RC=1;//kohm\n",
"VCC=10;//V\n",
"VCB1=0;//V(Q1 will act as diode)\n",
"IREF=(VCC-VBE)/R;//mA\n",
"//KCL at node x : IREF=IC1+2*IB;\n",
"//KCL at node y : I1=IC2+IB3;//as Beta>>1\n",
"IREF=(VCC-VBE)/R;//mA\n",
"//as IREF=2*IC1/Beta+IC1\n",
"IC1=IREF/(1+2/Beta);//mA\n",
"IC2=IC1;//mA\n",
"IC3=IC1;//mA\n",
"disp(IC1,'Collector current in each transistor, IC1=IC2=IC3 in mA');\n",
"IRC=IC1+IC2+IC3;//mA\n",
"disp(IRC,'Current through RC(mA)');"
   ]
   }
],
"metadata": {
		  "kernelspec": {
		   "display_name": "Scilab",
		   "language": "scilab",
		   "name": "scilab"
		  },
		  "language_info": {
		   "file_extension": ".sce",
		   "help_links": [
			{
			 "text": "MetaKernel Magics",
			 "url": "https://github.com/calysto/metakernel/blob/master/metakernel/magics/README.md"
			}
		   ],
		   "mimetype": "text/x-octave",
		   "name": "scilab",
		   "version": "0.7.1"
		  }
		 },
		 "nbformat": 4,
		 "nbformat_minor": 0
}
