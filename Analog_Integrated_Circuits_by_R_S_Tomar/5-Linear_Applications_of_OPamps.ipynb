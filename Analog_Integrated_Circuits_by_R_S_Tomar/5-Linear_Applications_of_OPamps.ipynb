{
"cells": [
 {
		   "cell_type": "markdown",
	   "metadata": {},
	   "source": [
       "# Chapter 5: Linear Applications of OPamps"
	   ]
	},
{
		   "cell_type": "markdown",
		   "metadata": {},
		   "source": [
			"## Example 5.11: Resistor_Ri_and_Rf.sce"
		   ]
		  },
  {
"cell_type": "code",
	   "execution_count": null,
	   "metadata": {
	    "collapsed": true
	   },
	   "outputs": [],
"source": [
"//Ex 5.11\n",
"clc;\n",
"clear;\n",
"close;\n",
"format('v',4);\n",
"G=20;//dB(Gain)\n",
"f3dB=2;//kHz\n",
"Cf=0.05;//micro F\n",
"Rf=1/(f3dB*1000*2*%pi*Cf/1000000)/1000;//kohm\n",
"G=10^(G/20);//Gain(unitless)\n",
"Ri=Rf*1000/G;//ohm\n",
"disp(Rf,'Resistance Rf(kohm)');\n",
"disp(Ri,'Resistance Ri(ohm)');"
   ]
   }
,
{
		   "cell_type": "markdown",
		   "metadata": {},
		   "source": [
			"## Example 5.13: Output_of_opamp.sce"
		   ]
		  },
  {
"cell_type": "code",
	   "execution_count": null,
	   "metadata": {
	    "collapsed": true
	   },
	   "outputs": [],
"source": [
"//Ex 5.13\n",
"clc;\n",
"clear;\n",
"close;\n",
"format('v',4);\n",
"t2=50;//ms(After open the switch)\n",
"R=40;//kohm\n",
"C=0.2;//micro F\n",
"V2=3;//V\n",
"Vin=5;//V\n",
"//For Ideal op-amp V1=V2\n",
"t1=0;//s\n",
"Vout1=V2;//V\n",
"V1=V2;//V\n",
"t2=t2*10^-3;//s\n",
"Vout2=-1/(R*10^3*C*10^-6)*integrate('Vin-V1','T',0,t2)+Vout1;//V\n",
"//Here we have t=0 switch closed Vout=3V \n",
"t=[t1*1000 t2*1000];//ms\n",
"Vout=[Vout1 Vout2];//V\n",
"plot(t,Vout);\n",
"title('Vout Vs time after switch is opened');\n",
"xlabel('t(ms)');\n",
"ylabel('Vout(V)');"
   ]
   }
,
{
		   "cell_type": "markdown",
		   "metadata": {},
		   "source": [
			"## Example 5.14: Output_Voltage.sce"
		   ]
		  },
  {
"cell_type": "code",
	   "execution_count": null,
	   "metadata": {
	    "collapsed": true
	   },
	   "outputs": [],
"source": [
"//Ex 5.14\n",
"clc;\n",
"clear;\n",
"close;\n",
"format('v',4);\n",
"R1=1;//kohm\n",
"R2=1;//kohm\n",
"R3=1;//kohm\n",
"Rf=R2+R3;//kohm\n",
"Vin=1;//V\n",
"//Capacitor remains open circuited for steady state in both cases.\n",
"Vout=-Rf/R1*Vin;//V\n",
"disp(Vout,'Output Voltage(V)');"
   ]
   }
,
{
		   "cell_type": "markdown",
		   "metadata": {},
		   "source": [
			"## Example 5.16: Design_required_circuit.sce"
		   ]
		  },
  {
"cell_type": "code",
	   "execution_count": null,
	   "metadata": {
	    "collapsed": true
	   },
	   "outputs": [],
"source": [
"//Ex 5.16\n",
"clc;\n",
"clear;\n",
"close;\n",
"format('v',4);\n",
"//From the given equationVout=-integrate('5*Vx+2*Vy+4*Vz','t',0,t) :\n",
"R1Cf=1/5;R2Cf=1/2;R3Cf=1/4;\n",
"disp('Various design parameters are : ');\n",
"Cf=10;//micro F////Chosen for the design\n",
"disp(Cf,'Capacitance(micro F)');\n",
"R1=R1Cf/(Cf*10^-6)/1000;//kohm\n",
"R2=R2Cf/(Cf*10^-6)/1000;//kohm\n",
"R3=R3Cf/(Cf*10^-6)/1000;//kohm\n",
"disp(R1,'Resistance R1(kohm)');\n",
"disp(R2,'Resistance R1(kohm)');\n",
"disp(R3,'Resistance R1(kohm)');"
   ]
   }
,
{
		   "cell_type": "markdown",
		   "metadata": {},
		   "source": [
			"## Example 5.17: Output_of_opamp.sce"
		   ]
		  },
  {
"cell_type": "code",
	   "execution_count": null,
	   "metadata": {
	    "collapsed": true
	   },
	   "outputs": [],
"source": [
"//Ex 5.17\n",
"clc;\n",
"clear;\n",
"close;\n",
"format('v',4);\n",
"f=10;//kHz\n",
"Rf=3.2;//kohm\n",
"Ci=0.001;//micro F\n",
"dt=5;//micro seconds\n",
"dVin=5-(-5);//V(When voltage changes from -5V to +5V)\n",
"Vout=-Rf*1000*Ci*10^-6*dVin/(dt*10^-6);//V\n",
"disp(Vout,'When voltage changes from -5V to +5V, The output Voltage(V)');\n",
"dVin=-5-(+5);//V(When voltage changes from +5V to -5V)\n",
"Vout=-Rf*1000*Ci*10^-6*dVin/(dt*10^-6);//V\n",
"disp(Vout,'When voltage changes from +5V to -5V, The output Voltage(V)');\n",
""
   ]
   }
,
{
		   "cell_type": "markdown",
		   "metadata": {},
		   "source": [
			"## Example 5.18: Design_a_differentiator.sce"
		   ]
		  },
  {
"cell_type": "code",
	   "execution_count": null,
	   "metadata": {
	    "collapsed": true
	   },
	   "outputs": [],
"source": [
"//Ex 5.18\n",
"clc;\n",
"clear;\n",
"close;\n",
"format('v',5);\n",
"fmin=200;//Hz\n",
"fmax=1;//kHz\n",
"fa=fmax;//kHz\n",
"disp('Various design parameters are : ');\n",
"Ci=0.05;//micro F////Chosen for the design\n",
"disp(Ci,'Capacitance Ci(micro F)');\n",
"format('v',4);\n",
"fb=10*fa;//kHz\n",
"Rf=1/(2*%pi*fa*10^3*Ci*10^-6)/1000;//kohm\n",
"disp(Rf,'Resistance Rf(kohm)');\n",
"Ri=1/(2*%pi*fb*10^3*Ci*10^-6);//ohm\n",
"disp(Ri,'Resistance Ri(ohm)');\n",
"format('v',6);\n",
"Cf=Ri*Ci/(Rf*10^3);//micro F\n",
"disp(Cf,'Capacitance Cf(micro F)');"
   ]
   }
,
{
		   "cell_type": "markdown",
		   "metadata": {},
		   "source": [
			"## Example 5.19: Design_a_differentiator.sce"
		   ]
		  },
  {
"cell_type": "code",
	   "execution_count": null,
	   "metadata": {
	    "collapsed": true
	   },
	   "outputs": [],
"source": [
"//Ex 5.19\n",
"clc;\n",
"clear;\n",
"close;\n",
"format('v',5);\n",
"fmax=100;//Hz\n",
"fa=fmax;//Hz\n",
"disp('Various design parameters are : ');\n",
"Ci=0.1;//micro F////Chosen for the design\n",
"disp(Ci,'Capacitance Ci(micro F)');\n",
"Rf=1/(2*%pi*fa*Ci*10^-6)/1000;//kohm\n",
"disp(Rf,'Resistance Rf(kohm)');\n",
"disp('Use f=15 kohm');\n",
"fb=15*fa;//kHz\n",
"Ri=1/(2*%pi*fb*Ci*10^-6)/1000;//kohm\n",
"disp(Ri,'Resistance Ri(kohm)');\n",
"disp('Use Ri=1 kohm');\n",
"format('v',6);\n",
"Cf=Ri*Ci/Rf;//micro F\n",
"disp(Cf,'Capacitance Cf(micro F)');\n",
"//Answer in the book is not accurate for Cf."
   ]
   }
,
{
		   "cell_type": "markdown",
		   "metadata": {},
		   "source": [
			"## Example 5.1: Output_Voltage.sce"
		   ]
		  },
  {
"cell_type": "code",
	   "execution_count": null,
	   "metadata": {
	    "collapsed": true
	   },
	   "outputs": [],
"source": [
"//Ex 5.1\n",
"clc;\n",
"clear;\n",
"close;\n",
"format('v',5);\n",
"V1=2;V2=3;V3=4;V4=5;//V\n",
"R1=10;R2=15;R3=22;R4=50;//kohm\n",
"Rf=10;//kohm\n",
"Vout=-Rf/R1*V1-Rf/R2*V2-Rf/R3*V3-Rf/R4*V4;//V\n",
"disp(Vout,'Output voltage of the circuit(V)');;"
   ]
   }
,
{
		   "cell_type": "markdown",
		   "metadata": {},
		   "source": [
			"## Example 5.20: Rf_Ri_and_Cf.sce"
		   ]
		  },
  {
"cell_type": "code",
	   "execution_count": null,
	   "metadata": {
	    "collapsed": true
	   },
	   "outputs": [],
"source": [
"//Ex 5.20\n",
"clc;\n",
"clear;\n",
"close;\n",
"format('v',5);\n",
"f=50;//Hz\n",
"T=1/f;//s(Period)\n",
"Ci=0.05;//micro F\n",
"RiCi=0.01*T;//Given\n",
"Ri=RiCi/(Ci*10^-6)/1000;//kohm\n",
"disp(Ri,'Resistance Ri(kohm)');\n",
"//Vout=-.002*dVin/dt given\n",
"//On comparing with Vout=-Rf*Ci*dVin/dt\n",
"RfCi=0.002;//on comparing\n",
"Rf=RfCi/(Ci*10^-6)/1000;//kohm\n",
"disp(Rf,'Resistance Rf(kohm)');\n",
"Cf=Ri*Ci/Rf;//micro F\n",
"format('v',6);\n",
"disp(Cf,'Capacitance Cf(micro F)');"
   ]
   }
,
{
		   "cell_type": "markdown",
		   "metadata": {},
		   "source": [
			"## Example 5.2: Resistor_R1_and_R2.sce"
		   ]
		  },
  {
"cell_type": "code",
	   "execution_count": null,
	   "metadata": {
	    "collapsed": true
	   },
	   "outputs": [],
"source": [
"//Ex 5.1\n",
"clc;\n",
"clear;\n",
"close;\n",
"format('v',5);\n",
"Rf=240;//kohm\n",
"//Vout=-4*Vx+3*Vy;\n",
"//case 1st\n",
"Vy=0;//V(But Vx is not=0)\n",
"//Vox=-Rf/R1*Vx=-4*Vx\n",
"R1=Rf/4;//kohm\n",
"//case 2nd\n",
"Vx=0;//V(But Vy is not=0)\n",
"//Voy=(1+Rf/R1)*R2*Vy/(R1+R2)=3*Vy\n",
"R2=3/(1+Rf/R1)*R1/((1-3/(1+Rf/R1)))\n",
"disp(R1,'Resistance R1(kohm)');\n",
"disp(R2,'Resistance R2(kohm)');"
   ]
   }
,
{
		   "cell_type": "markdown",
		   "metadata": {},
		   "source": [
			"## Example 5.3: Output_Voltage.sce"
		   ]
		  },
  {
"cell_type": "code",
	   "execution_count": null,
	   "metadata": {
	    "collapsed": true
	   },
	   "outputs": [],
"source": [
"//Ex 5.3\n",
"clc;\n",
"clear;\n",
"close;\n",
"format('v',5);\n",
"V1=-2;V2=3;//V\n",
"R1=50;R2=100;//kohm\n",
"Rf=250;//kohm\n",
"//I1+I2=If with IB=0 & Vx=0\n",
"Vout=-(V1/R1+V2/R2)*Rf;//V\n",
"disp(Vout,'Output Voltage(V)');"
   ]
   }
,
{
		   "cell_type": "markdown",
		   "metadata": {},
		   "source": [
			"## Example 5.4: Output_Voltage.sce"
		   ]
		  },
  {
"cell_type": "code",
	   "execution_count": null,
	   "metadata": {
	    "collapsed": true
	   },
	   "outputs": [],
"source": [
"//Ex 5.4\n",
"clc;\n",
"clear;\n",
"close;\n",
"format('v',5);\n",
"V1=-2;V2=3;//V\n",
"R1=12;R2=12;R3=10//kohm\n",
"Rf=12;Ri=12;//kohm\n",
"Rt=2;//kohm\n",
"Vyx=200*10^-6;//V\n",
"Vout=Rf/Ri*(1+2*R3/Rt)*Vyx;//V\n",
"disp(Vout*1000,'Output Voltage(mV)');"
   ]
   }
,
{
		   "cell_type": "markdown",
		   "metadata": {},
		   "source": [
			"## Example 5.5: Instrumentation_Amplifier.sce"
		   ]
		  },
  {
"cell_type": "code",
	   "execution_count": null,
	   "metadata": {
	    "collapsed": true
	   },
	   "outputs": [],
"source": [
"//Ex 5.5\n",
"clc;\n",
"clear;\n",
"close;\n",
"format('v',4);\n",
"Ad=5:200;//Gain\n",
"R1max=50;//kohm(Potentiometer)\n",
"R4=10;R3=10;//kohm\n",
"//Case 1st : Ad=Admin &R1=R1max\n",
"R1=R1max;//kohm\n",
"R2=(min(Ad)-1)/2*R1max\n",
"//Case 2nd : Ad=Admax &R1=R1min\n",
"R1min=2*R2/(max(Ad)-1);//kohm\n",
"disp(R2,'Resistance R2(kohm)');\n",
"disp(R1min,'Minimum value of resistance R1(kohm)');"
   ]
   }
,
{
		   "cell_type": "markdown",
		   "metadata": {},
		   "source": [
			"## Example 5.6: Gain_and_Impedence.sce"
		   ]
		  },
  {
"cell_type": "code",
	   "execution_count": null,
	   "metadata": {
	    "collapsed": true
	   },
	   "outputs": [],
"source": [
"//Ex 5.6\n",
"clc;\n",
"clear;\n",
"close;\n",
"format('v',8);\n",
"R3=1;//kohm\n",
"Rt=5;//kohm\n",
"Ri=1.8;R1=1.8;//kohm\n",
"Rf=18;R2=18;//kohm\n",
"Vs=15;//V\n",
"AoL=2*10^5;//Gain(for 741C)\n",
"Rio=2//Mohm\n",
"Ro=75//Mohm\n",
"fo=5;//Hz\n",
"fBW=1;//MHz\n",
"Ad=Rf/Ri*(1+2*R3/Rt);//differential gain\n",
"disp(Ad,'Differential gain');\n",
"Beta=(R3+Rt)/(2*R3+Rt);//unitless\n",
"Rix=Rio*10^6*(1+AoL*Beta);//ohm\n",
"disp(Rix,'Input impedence, Rix(ohm)');\n",
"Rof=Ro/(1+AoL/Ad);//ohm\n",
"disp(Rof,'Output impedence, Rof(ohm)');\n",
"//Answer in the book is wron for Rix."
   ]
   }
,
{
		   "cell_type": "markdown",
		   "metadata": {},
		   "source": [
			"## Example 5.8: Output_Voltage.sce"
		   ]
		  },
  {
"cell_type": "code",
	   "execution_count": null,
	   "metadata": {
	    "collapsed": true
	   },
	   "outputs": [],
"source": [
"//Ex 5.8\n",
"clc;\n",
"clear;\n",
"close;\n",
"format('v',8);\n",
"Ri=10;//kohm\n",
"Rf=15;//kohm\n",
"Vs=9;//V\n",
"//Part (a)\n",
"Ra=120;Rb=120;Rc=120;Rd=120;//ohm\n",
"Vx=0;Vy=0//V(as Bridge is balanced)\n",
"Vout=(Vy-Vx)*Rf/Ri;//V\n",
"disp(Vout,'(a) Output Voltage(V)');\n",
"//Part (b)\n",
"Ra=120;Rb=120;Rc=120;Rd=150;//ohm\n",
"Vx=Rb*Vs/(Ra+Rb);//V\n",
"Vy=Rc*Vs/(Rc+Rd)//V\n",
"Vyx=Vy-Vx;//V\n",
"Vout=(Vy-Vx)*Rf/Ri;//V\n",
"disp(Vout,'(b) Output Voltage(V)');"
   ]
   }
,
{
		   "cell_type": "markdown",
		   "metadata": {},
		   "source": [
			"## Example 5.9: Output_Voltage.sce"
		   ]
		  },
  {
"cell_type": "code",
	   "execution_count": null,
	   "metadata": {
	    "collapsed": true
	   },
	   "outputs": [],
"source": [
"//Ex 5.9\n",
"clc;\n",
"clear;\n",
"close;\n",
"format('v',8);\n",
"Vin=2;//V\n",
"Rf=2*2/(2+2)+2;//kohm\n",
"R1=1;//kohm\n",
"Vout=-Rf/R1*Vin;//V\n",
"disp(Vout,'Output Voltage(V)');"
   ]
   }
],
"metadata": {
		  "kernelspec": {
		   "display_name": "Scilab",
		   "language": "scilab",
		   "name": "scilab"
		  },
		  "language_info": {
		   "file_extension": ".sce",
		   "help_links": [
			{
			 "text": "MetaKernel Magics",
			 "url": "https://github.com/calysto/metakernel/blob/master/metakernel/magics/README.md"
			}
		   ],
		   "mimetype": "text/x-octave",
		   "name": "scilab",
		   "version": "0.7.1"
		  }
		 },
		 "nbformat": 4,
		 "nbformat_minor": 0
}
