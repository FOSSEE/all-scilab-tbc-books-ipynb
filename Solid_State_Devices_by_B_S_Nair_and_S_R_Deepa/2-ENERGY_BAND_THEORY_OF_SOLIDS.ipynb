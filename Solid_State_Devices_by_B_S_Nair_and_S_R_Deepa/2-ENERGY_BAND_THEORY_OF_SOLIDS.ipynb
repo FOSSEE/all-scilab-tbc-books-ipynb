{
"cells": [
 {
		   "cell_type": "markdown",
	   "metadata": {},
	   "source": [
       "# Chapter 2: ENERGY BAND THEORY OF SOLIDS"
	   ]
	},
{
		   "cell_type": "markdown",
		   "metadata": {},
		   "source": [
			"## Example 2.10: FERMI_DIREC_DISTRIBUTION_FUNCTION.sce"
		   ]
		  },
  {
"cell_type": "code",
	   "execution_count": null,
	   "metadata": {
	    "collapsed": true
	   },
	   "outputs": [],
"source": [
"clc\n",
"E=1.1\n",
"disp(' E = '+string(E)+'eV') //initializing the value of level E in a crystal.\n",
"Ef=0.6\n",
"disp(' Ef = '+string(Ef)+'eV')//initializing the value of fermi level of material.\n",
"T=2500\n",
"disp(' temp = '+string(T)+'K')//initializing the value of temperature.\n",
"k=1.38*10^-23\n",
"disp(' k = '+string(k)+'J/k') //initializing the value of boltzmann constant.\n",
"e=2.718\n",
"disp(' e = '+string(e)) //initializing the value of exponential.\n",
"a=(((E-Ef)*1.6*10^-19)/(k*T))\n",
"disp('alpha ,a=(((E-Ef)*1.6*10^-19)/(k*T)))= '+string(a))//calculation\n",
"fE=(1/(1+(e^a)))\n",
"disp('fE(Fermi Direc Distribution Function),fE=(1/(1+(e^a))))= '+string(fE))//calculation\n",
"\n",
"//The value of Ef is different in the question than used in the solution.\n",
"//I have used the value ,used in the solution(i.e Ef=0.6)"
   ]
   }
,
{
		   "cell_type": "markdown",
		   "metadata": {},
		   "source": [
			"## Example 2.11: FERMI_DIREC_DISTRIBUTION_FUNCTION.sce"
		   ]
		  },
  {
"cell_type": "code",
	   "execution_count": null,
	   "metadata": {
	    "collapsed": true
	   },
	   "outputs": [],
"source": [
"clc\n",
"E=0.6\n",
"disp(' E = '+string(E)+'eV') //initializing the value of level E in a crystal.\n",
"Ef=1.1\n",
"disp(' Ef = '+string(Ef)+'eV')//initializing the value of fermi level of the material.\n",
"T=2500\n",
"disp(' Temp = '+string(T)+'kelvin')//initializing the value of temperature.\n",
"k=1.38*10^-23\n",
"disp(' k = '+string(k)+'J/k') //initializing the value of boltzmann constant.\n",
"e=2.718\n",
"disp(' e = '+string(e)) //initializing the value of exponential.\n",
"a=(((-(Ef-E))*1.6*10^-19)/(k*T))\n",
"disp('a ,a=(((E-Ef)*1.6*10^-19)/(k*T)))= '+string(a))//calculation\n",
"fE=(1/(1+(e^a)))\n",
"disp('fE(Fermi Direc Distribution Function),fE=(1/(1+(e^a))))= '+string(fE))//calculation\n",
"\n",
"\n",
"//The value of E is different in the question than used in the solution.\n",
"//I have used the value ,used in the solution(i.e E=0.6)"
   ]
   }
,
{
		   "cell_type": "markdown",
		   "metadata": {},
		   "source": [
			"## Example 2.12: NUMBER_OF_HOLES_IN_A_MEDIMUM_DOPED_N_SEMICONDUCTOR.sce"
		   ]
		  },
  {
"cell_type": "code",
	   "execution_count": null,
	   "metadata": {
	    "collapsed": true
	   },
	   "outputs": [],
"source": [
"clc\n",
"n=10^16\n",
"disp('n = '+string(n)+' /cm^3') //initializing value of number of electrons per cm^3.\n",
"no=1.5*10^10\n",
"disp('no = '+string(no)+' /cm^3') //initializing value of electron hole pairs/cm^3.\n",
"p=(no^2/n)\n",
"disp('Number of hole ,p=(no^2/n))= '+string(p)+' /cm^3')//calculation"
   ]
   }
,
{
		   "cell_type": "markdown",
		   "metadata": {},
		   "source": [
			"## Example 2.13: VALUE_OF_FERMI_LEVEL.sce"
		   ]
		  },
  {
"cell_type": "code",
	   "execution_count": null,
	   "metadata": {
	    "collapsed": true
	   },
	   "outputs": [],
"source": [
"clc\n",
"e=1.6*10^-19\n",
"disp('e = '+string(e)+'columb') //initializing the value of electronic charge.\n",
"n=1*10^16\n",
"disp('n = '+string(n)) //initializing the value of number of electrons per cm^3.\n",
"no=1.5*10^10\n",
"disp('no = '+string(no)+' /cm^3') //initializing value of electron hole pairs/cm^3..\n",
"T=300\n",
"disp('T = '+string(no)+' K') //initializing value of temperature.\n",
"k=1.38*10^-23\n",
"disp('k = '+string(k)+' J/K') //initializing value of boltzmann constant.\n",
"Ef=((k*T/e)*log(n/no))\n",
"disp('fermi level ,Ef-Efi=((k*T/e)*ln(n/no)) )= '+string(Ef)+' eV')//calculation"
   ]
   }
,
{
		   "cell_type": "markdown",
		   "metadata": {},
		   "source": [
			"## Example 2.14: NUMBER_OF_HOLES_IN_A_HEAVILY_DOPED_N_SEMICONDUCTOR.sce"
		   ]
		  },
  {
"cell_type": "code",
	   "execution_count": null,
	   "metadata": {
	    "collapsed": true
	   },
	   "outputs": [],
"source": [
"clc\n",
"no=1.5*10^10\n",
"disp('no = '+string(no)+'/cm^3') //initializing value of electrons and hole per cm^3.\n",
"n=1*10^18\n",
"disp('n = '+string(n)+'/cm^3') //initializing value of number of electrons per cm^3.\n",
"p=(no^2/n)\n",
"disp('number of holes ,p=(no^2/n))= '+string(p)+' /cm^3')//calculation\n",
"\n",
"\n",
"\n",
"//this is solved problem 2.1 of chapter 2."
   ]
   }
,
{
		   "cell_type": "markdown",
		   "metadata": {},
		   "source": [
			"## Example 2.15: VALUE_OF_INTRINSIC_CONCENTRATION.sce"
		   ]
		  },
  {
"cell_type": "code",
	   "execution_count": null,
	   "metadata": {
	    "collapsed": true
	   },
	   "outputs": [],
"source": [
"clc\n",
"n=1*10^5\n",
"disp('n = '+string(n)+' /cm^3') //initializing value of electrons and hole per cm^3.\n",
"p=1*10^19\n",
"disp('p = '+string(p)+' /cm^3') //initializing value of number of hole per cm^3\n",
"no=sqrt(n*p)\n",
"disp('Value of intrinsic concentration,no=sqrt(n*p))= '+string(no)+' /cm^3')//calculation\n",
"\n",
"\n",
"\n",
"//this is solved problem 2.2 of chapter 2."
   ]
   }
,
{
		   "cell_type": "markdown",
		   "metadata": {},
		   "source": [
			"## Example 2.16: VALUE_OF.sce"
		   ]
		  },
  {
"cell_type": "code",
	   "execution_count": null,
	   "metadata": {
	    "collapsed": true
	   },
	   "outputs": [],
"source": [
"clc\n",
"e=1.6*10^-19\n",
"disp('e = '+string(e)+'columb') //initializing the value of electronic charge.\n",
"Ef_Efi=0.309\n",
"disp('Ef-Efi = '+string(Ef_Efi)+' eV') //initializing the value of difference in the energy levels.\n",
"no=2.5*10^13\n",
"disp('no = '+string(no)+' /cm^3') //initializing value of number of electrons per cm^3\n",
"T=300\n",
"disp('T = '+string(T)+' K') //initializing value of temperature.\n",
"ex=2.718\n",
"disp('exp = '+string(ex)) //initializing the value of exponential.\n",
"k=1.38*10^-23\n",
"disp('k = '+string(k)+' J/K') //initializing value of boltzmann constant.\n",
"n=no*(ex^((Ef_Efi*e)/(k*T)))\n",
"disp('number of electrons per cm^3, n=no*(ex^((Ef-Efi)/kT)))= '+string(n)+' /cm^3')//calculation\n",
"\n",
"\n",
"\n",
"//This is solved problem 2.3 of chapter 2.\n",
"//The value used for 'Ef-Efi' in the solution is different than provided in the question.\n",
"//I have used the value provided in the solution (i.e Ef_Efi=0.309) \n",
""
   ]
   }
,
{
		   "cell_type": "markdown",
		   "metadata": {},
		   "source": [
			"## Example 2.17: VALUE_OF_no.sce"
		   ]
		  },
  {
"cell_type": "code",
	   "execution_count": null,
	   "metadata": {
	    "collapsed": true
	   },
	   "outputs": [],
"source": [
"clc\n",
"e=1.6*10^-19\n",
"disp('e = '+string(e)+' columb') //initializing the value of electronic charge.\n",
"Ef=0.4065\n",
"disp('Ef = '+string(Ef)+' eV') //initializing the value of fermi level.\n",
"n=10^17\n",
"disp('n = '+string(n)+' /cm^3') //initializing value of number of electrons per cm^3.\n",
"T=300\n",
"disp('T = '+string(T)+' K') //initializing value of temperature.\n",
"ex=2.718\n",
"disp('exp = '+string(ex)) //initializing the value of exponential.\n",
"k=1.38*10^-23\n",
"disp('k = '+string(k)+' J/K') //initializing value of boltzmann constant.\n",
"no=n/(ex^((Ef*e)/(k*T)))\n",
"disp('Number of electrons per cm^3, no=n/(ex^((Ef)/kT)))= '+string(no)+' electrons/cm^3')//calculation\n",
"\n",
"\n",
"//this is solved problem 2.4 of chapter 2.\n",
"//the value used for 'n' in the solution is different than provided in the question.\n",
"//I have used the value provided in the solution (i.e n=10^17) \n",
""
   ]
   }
,
{
		   "cell_type": "markdown",
		   "metadata": {},
		   "source": [
			"## Example 2.18: RESTIVITY_AND_RESISTANCE_OF_SEMICONDUCTOR.sce"
		   ]
		  },
  {
"cell_type": "code",
	   "execution_count": null,
	   "metadata": {
	    "collapsed": true
	   },
	   "outputs": [],
"source": [
"clc\n",
"e=1.6*10^-19\n",
"disp('e = '+string(e)+'columb') //initializing the value of electronic charge.\n",
"n=1*10^22\n",
"disp('n = '+string(n)+' /m^3') //initializing value of number of electrons per cm^3\n",
"u=1200*10^-4\n",
"disp('u = '+string(u)+' m^2/Vs') //initializing the value of mobility.\n",
"L=0.1*10^-2\n",
"disp('L = '+string(L)+' m') //initializing the value of length.\n",
"A=100*10^-12\n",
"disp('A = '+string(A)+' m^2') //initializing the value of area of cross section.\n",
"sigma=n*e*u\n",
"disp('conductivity,sigma=n*e*u)= '+string(sigma)+' siemen/m')//calculation.\n",
"p=(1/sigma)\n",
"disp('Resistivity,p=(1/sigma))= '+string(p)+' ohm metre')//calculation.\n",
"R=(p*L/A)\n",
"disp('resistance,R=(p*L/A))= '+string(R)+' ohm')//calculation.\n",
"\n",
"\n",
"//this is solved problem 2.5 of chapter 2.\n",
"//the value used for 'A' in the solution is different than provided in the question.\n",
"//I have used the value provided in the solution (i.e A=100*10^-12) \n",
"\n",
"\n",
"\n",
""
   ]
   }
,
{
		   "cell_type": "markdown",
		   "metadata": {},
		   "source": [
			"## Example 2.19: VALUE_OF_DRIFT_CURRENT.sce"
		   ]
		  },
  {
"cell_type": "code",
	   "execution_count": null,
	   "metadata": {
	    "collapsed": true
	   },
	   "outputs": [],
"source": [
"clc\n",
"R=52.08 *10^3\n",
"disp('R = '+string(R)+'ohm') //initializing value of Resistance.\n",
"V=5\n",
"disp('V = '+string(V)+'volt') //initializing value of voltage.\n",
"I=(V/R)\n",
"disp('Drift current,I=(V/R))= '+string(I)+' amphere')//calculation\n",
"\n",
"\n",
"//this is solved problem 2.6 of chapter 2."
   ]
   }
,
{
		   "cell_type": "markdown",
		   "metadata": {},
		   "source": [
			"## Example 2.1: MINORITY_CARRIER_CONCENTRATION.sce"
		   ]
		  },
  {
"cell_type": "code",
	   "execution_count": null,
	   "metadata": {
	    "collapsed": true
	   },
	   "outputs": [],
"source": [
"clc\n",
"n=10^14\n",
"disp('n = '+string(n)+'/cm^3') //initializing value of electrons/cm^3.\n",
"no=1.5*10^10\n",
"disp('no. of EHPs/cm^3 = '+string(no)+'/cm^3') //initializing value of electron hole pairs/cm^3.\n",
"p=(no^2/n)\n",
"disp('minority carriers concentration,p=(no^2/n))= '+string(p)+' /cm^3')//calculation"
   ]
   }
,
{
		   "cell_type": "markdown",
		   "metadata": {},
		   "source": [
			"## Example 2.20: FREQUENCY_OF_RADIATION_EMITTED.sce"
		   ]
		  },
  {
"cell_type": "code",
	   "execution_count": null,
	   "metadata": {
	    "collapsed": true
	   },
	   "outputs": [],
"source": [
"clc\n",
"Eg1=1.43\n",
"disp(' Energy gap of GaAs = '+string(Eg1)+'eV') //initializing the value of energy gap of GaAs.\n",
"Eg2=2.43\n",
"disp(' Energy gap of GaP = '+string(Eg2)+'eV')//initializing the value of energy gap of Gap.\n",
"h=6.624*10^-34\n",
"disp(' Plank constant = '+string(h)+'joule')//initializing the value of plank constant.\n",
"c=3*10^8\n",
"disp(' Light speed = '+string(c)+'m/s') //initializing the value of speed of light.\n",
"x=(Eg2-Eg1)\n",
"disp('Difference between the energy gap of GaAs and GaP ,x=(Eg2-Eg1))= '+string(x)+' eV')//calculation\n",
"g=(0.4*x)\n",
"disp('Excess energy gap added to GaAs to form GaAsP,(0.4*x))= '+string(g)+' eV ')//calculation\n",
"Eg=(Eg1+g)\n",
"disp('Band gap energy GaAsP,Eg=(Eg1+g))= '+string(Eg)+' eV ')//calculation\n",
"lamda=(c*h/(Eg*1.6*10^-19))\n",
"disp('wavelength of radiation emitted,lamda=(c*h/Eg))= '+string(lamda)+' metre ')//calculation\n",
"\n",
"//this is solved problem 2.7 of chapter 2."
   ]
   }
,
{
		   "cell_type": "markdown",
		   "metadata": {},
		   "source": [
			"## Example 2.21: BAND_GAP_ENERGY_AND_VALUE_OF_X.sce"
		   ]
		  },
  {
"cell_type": "code",
	   "execution_count": null,
	   "metadata": {
	    "collapsed": true
	   },
	   "outputs": [],
"source": [
"clc\n",
"Eg1=1.43\n",
"disp(' Energy gap of GaAs = '+string(Eg1)+' eV') //initializing the value of energy gap of GaAs.\n",
"Eg2=2.43\n",
"disp(' Energy gap of GaP = '+string(Eg2)+' eV')//initializing the value of energy gap of Gap.\n",
"h=6.624*10^-34\n",
"disp(' Plank constant = '+string(h)+' joule')//initializing the value of plank constant.\n",
"c=3*10^8\n",
"disp(' Light speed = '+string(c)+' m/s') //initializing the value of speed of light.\n",
"lamda=540*10^6\n",
"disp(' lamda = '+string(lamda)+' m') //initializing the value of wavelength.\n",
"x=(Eg2-Eg1)\n",
"disp('Difference between the energy gap of GaAs and GaP ,x=(Eg2-Eg1))= '+string(x)+' eV')//calculation\n",
"Eg=((c*h/(lamda*(1.6*10^-19))))\n",
"disp('Band gap energy,Eg=(c*h/lamda*(1.6*10^-19)))= '+string(Eg)+' eV')//calculation\n",
"X=Eg-(Eg1)\n",
"disp('X=Eg-(Eg1)= '+string(X))//calculation\n",
"\n",
"\n",
"\n",
"\n",
"//this is solved problem 2.8 of chapter 2.\n",
"//the value of Eg(band gap energy )is provided wrong in the book after calculation.Due to this value of X ,also differ."
   ]
   }
,
{
		   "cell_type": "markdown",
		   "metadata": {},
		   "source": [
			"## Example 2.22: VALUE_OF_THERMAL_EQUILIBRIUM_HOLE_CONCENTRATION_IN_SILICON.sce"
		   ]
		  },
  {
"cell_type": "code",
	   "execution_count": null,
	   "metadata": {
	    "collapsed": true
	   },
	   "outputs": [],
"source": [
"clc\n",
"T1=500\n",
"disp(' Temperature 1 = '+string(T1)+'K') //initializing the value of temperature 1.\n",
"Nv=2*10^19\n",
"disp(' Nv = '+string(Nv)+'cm^-3')//initializing the value of effective density of state for valence band .\n",
"T2=300\n",
"disp(' Temperature 2 = '+string(T2)+'K')//initializing the value of temperature 2.\n",
"NV=(Nv*((500/300)^(3/2)))\n",
"disp('NV at 500K=(Nv((500/300)^(3/2))))= '+string(NV)+' cm^-3 ')//calculation\n",
"\n",
"\n",
"//this is solved problem 2.9 of chapter 2."
   ]
   }
,
{
		   "cell_type": "markdown",
		   "metadata": {},
		   "source": [
			"## Example 2.23: FRACTION_OF_ELECTRONS_THAT_ARE_STILL_IN_THE_DONOR_STATE.sce"
		   ]
		  },
  {
"cell_type": "code",
	   "execution_count": null,
	   "metadata": {
	    "collapsed": true
	   },
	   "outputs": [],
"source": [
"clc\n",
"Nd=1*10^17\n",
"disp('Nd = '+string(Nd)+'cm^-3') //initializing the value of effective energy density of state.\n",
"Ec_Ed=0.045\n",
"disp(' Ec_Ed = '+string(Ec_Ed))//initializing the value of donor ionisation level.\n",
"Vt=0.0259\n",
"disp('Vt = '+string(Vt)+' eV ')//initializing the value of thermal voltage.\n",
"Nc=2.8*10^19\n",
"disp(' Nc = '+string(Nc)+'cm^-3')//initializing the value of effective density of state of conduction band.\n",
"e=2.718\n",
"disp('exp = '+string(e))//initializing the value of exponential.\n",
"N=(((Nc/Nd)*e^((-(Ec_Ed))/Vt))+1)^-1\n",
"disp('Fraction of electron still in the donor state,(nd/(nd+n)=(((Nc/Nd)*e^((-Ec_Ed)/Vt))+1)^-1)= '+string(N))//calculation\n",
"\n",
"\n",
"//this is solved problem 2.10 of chapter 2.\n",
" \n",
""
   ]
   }
,
{
		   "cell_type": "markdown",
		   "metadata": {},
		   "source": [
			"## Example 2.24: FRACTION_OF_HOLES_THAT_ARE_STILL_IN_THE_ACCEPTOR_STATE.sce"
		   ]
		  },
  {
"cell_type": "code",
	   "execution_count": null,
	   "metadata": {
	    "collapsed": true
	   },
	   "outputs": [],
"source": [
"clc\n",
"Na=1*10^16\n",
"disp('Na = '+string(Na)+' cm^-3')//initializing the value of acceptor concentration.\n",
"Ea_Ev=0.045\n",
"disp('Ea_Ev = '+string(Ea_Ev))//initializing the value of boron acceptor ionization energy.\n",
"Nv=(1.04*10^19)\n",
"disp('Nv = '+string(Nv)+' cm^-3')//initializing the value of effective density of state for valence band.\n",
"Vt=(0.0259)\n",
"disp('Vt = '+string(Vt)+' eV')//initializing the value of thermal voltage.\n",
"p=(1+((Nv/(4*Na))*exp(-(Ea_Ev)/Vt)))^(-1)\n",
"disp('Fraction of holes that are still in the acceptor state,(pa/(pa+p))=(1+((Nv/4*Na)*exp(-(Ea-Ev)/Vt)))^(-1)= '+string(p))//calculation\n",
"\n",
"//this is solved problem 2.11 of chapter 2."
   ]
   }
,
{
		   "cell_type": "markdown",
		   "metadata": {},
		   "source": [
			"## Example 2.25: ELECTRON_AND_HOLE_CONCENTRATION.sce"
		   ]
		  },
  {
"cell_type": "code",
	   "execution_count": null,
	   "metadata": {
	    "collapsed": true
	   },
	   "outputs": [],
"source": [
"clc\n",
"Nd=1*10^17\n",
"disp('Nd = '+string(Nd)+' cm^-3') //initializing the value of donor concentration.\n",
"Na=0\n",
"disp('Na = '+string(Na)+' cm^-3')//initializing the value of acceptor concentration.\n",
"no=1.5*10^10\n",
"disp('ni = '+string(no)+' cm^-3')//initializing the value of electron hole per cm^3.\n",
"n=(-(Na-Nd)+sqrt((Na-Nd)^2+4*no))/2\n",
"disp('Electron concentration,n=(-(Na-Nd)+sqrt((Na-Nd)^2+4*no))/2)= '+string(n)+' cm^-3')//calculation\n",
"p=(no^2/n)\n",
"disp('Hole concentration,p)= '+string(p)+' cm^-3')//calculation\n",
"\n",
"\n",
"\n",
"//this is solved problem 2.13 of chapter 2."
   ]
   }
,
{
		   "cell_type": "markdown",
		   "metadata": {},
		   "source": [
			"## Example 2.26: ELECTRON_AND_HOLE_CONCENTRATION.sce"
		   ]
		  },
  {
"cell_type": "code",
	   "execution_count": null,
	   "metadata": {
	    "collapsed": true
	   },
	   "outputs": [],
"source": [
"clc\n",
"Nd=6*10^16\n",
"disp('Nd = '+string(Nd)+' cm^-3') //initializing the value of donor concentration.\n",
"Na=10^17\n",
"disp('Na = '+string(Na)+' cm^-3')//initializing the value of acceptor concentration.\n",
"no=1.5*10^10\n",
"disp('no = '+string(no)+' cm^-3')//initializing the value of electron and hole per cm^3.\n",
"p=((Na-Nd)+sqrt((Na-Nd)^2+4*no))/2\n",
"disp('Hole concentration,n=(-(Na-Nd)+sqrt((Na-Nd)^2+4*no))/2)= '+string(p)+' cm^-3')//calculation\n",
"n=(no^2/p)\n",
"disp('Electron concentration,n=(no^2/p))= '+string(n))//calculation\n",
"\n",
"\n",
"\n",
"//this is solved problem 2.14 of chapter 2.\n",
"//the value of Na,Nd in the solution is different than provided in the question \n",
"//I have used the value used in the solution(i.e Na=10^17,Nd=6*10^16) "
   ]
   }
,
{
		   "cell_type": "markdown",
		   "metadata": {},
		   "source": [
			"## Example 2.27: ELECTRON_AND_HOLE_CONCENTRATION.sce"
		   ]
		  },
  {
"cell_type": "code",
	   "execution_count": null,
	   "metadata": {
	    "collapsed": true
	   },
	   "outputs": [],
"source": [
"clc\n",
"Nd=6*10^16\n",
"disp('Nd = '+string(Nd)+' cm^-3') //initializing the value of donor concentration.\n",
"Na=10^17\n",
"disp('Na = '+string(Na)+' cm^-3')//initializing the value of acceptor concentration.\n",
"no=1.5*10^10\n",
"disp('no = '+string(no)+' cm^-3')//initializing the value of electron and hole per cm^3.\n",
"p=((Na-Nd)+sqrt((Na-Nd)^2+4*no))/2\n",
"disp('Hole concentration,n=(-(Na-Nd)+sqrt((Na-Nd)^2+4*no))/2)= '+string(p)+'cm^-3')//calculation\n",
"n=(no^2/p)\n",
"disp('Electron concentration,n=(no^2/p))= '+string(n))//calculation\n",
"\n",
"\n",
"//this is solved problem 2.15 of chapter 2.\n",
"//the value of Na,Nd in the solution is different than provided in the question \n",
"//I have used the value used in the solution(i.e Na=10^17,Nd=6*10^16) "
   ]
   }
,
{
		   "cell_type": "markdown",
		   "metadata": {},
		   "source": [
			"## Example 2.28: VALUE_OF_THERMAL_EQUILIBRIUM_HOLE_CONCENTRATION_IN_SILICON.sce"
		   ]
		  },
  {
"cell_type": "code",
	   "execution_count": null,
	   "metadata": {
	    "collapsed": true
	   },
	   "outputs": [],
"source": [
"clc\n",
"Nv1=1.04*10^19\n",
"disp('Nv = '+string(Nv1)+' cm^-3')//initializing the value of valence band concentration at 300K.\n",
"Ef_Ev=0.3\n",
"disp('Ef_Ev = '+string(Ef_Ev)+' eV')//initializing the value of boron acceptor ionization energy.\n",
"T1=300\n",
"disp('T = '+string(T1)+'K')//initializing the value of temperature 1.\n",
"T2=500\n",
"disp('T = '+string(T2)+'K')//initializing the value of temperature 2.\n",
"Vt1=0.0259\n",
"disp('Vt1 = '+string(Vt1)+'eV')//initializing the value of thermal voltage at 300K.\n",
"k=1.38*10^-23\n",
"disp('k = '+string(k)+'J/K') //initializing value of boltzmann constant.\n",
"e=1.6*10^-19\n",
"disp('e = '+string(e)+'columb') //initializing the value of electronic charge.\n",
"K1=(Nv1/((T1)^(3/2)))\n",
"disp('Value of constant,K1=(Nv/((T)^(3/2)))= '+string(K1)+' cm^-3 K(-2/3)')//calculation\n",
"Nv2=K1*T2^(3/2)\n",
"disp('Value of valence band concentration at 500K,Nv=K1*T(3/2)= '+string(Nv2)+' cm^-3')//calculation\n",
"VT=(k*T2/e)\n",
"disp('Value of parameter VT at 500K,VT=(K*T/e)= '+string(VT)+' cm^-3')//calculation\n",
"p=(Nv2*(exp(-(Ef_Ev)/(VT))))\n",
"disp('Hole concentration,p=(Nv*(exp(Ef_Ev)/(VT)))= '+string(p)+' cm^-3')//calculation\n",
"\n",
"//this is solved problem 2.16 of chapter 2."
   ]
   }
,
{
		   "cell_type": "markdown",
		   "metadata": {},
		   "source": [
			"## Example 2.29: INTRINSIC_CARRIER_CONCENTRATION.sce"
		   ]
		  },
  {
"cell_type": "code",
	   "execution_count": null,
	   "metadata": {
	    "collapsed": true
	   },
	   "outputs": [],
"source": [
"clc\n",
"Nv=7*10^18\n",
"disp('Nv = '+string(Nv)+'cm^-3')//initializing the value of valence band concentration at 300K.\n",
"Nc=4.7*10^17\n",
"disp('Nc = '+string(Nc)+'cm^-3')//initializing the value of conduction band concentration at 300K.\n",
"T1=300\n",
"disp('T = '+string(T1)+'K')//initializing the value of temperature 1.\n",
"T2=450\n",
"disp('T = '+string(T2)+'K')//initializing the value of temperature 2.\n",
"Vt1=0.0259\n",
"disp('Vt1 = '+string(Vt1)+'eV')//initializing the value of thermal voltage at 300K.\n",
"Vt2=0.03881\n",
"disp('Vt2 = '+string(Vt2)+'eV')//initializing the value of thermal voltage at 450K.\n",
"Eg=1.42\n",
"disp('Eg = '+string(Eg)+'eV')//initializing the value of thermal voltage.\n",
"no=(sqrt(Nc*Nv*(exp(-Eg/Vt1))))\n",
"disp('intrinsic concentration at 300K,no=(sqrt(Nc*Nv*(exp(-Eg/Vt1))))= '+string(no))//calculation\n",
"K1=(Nc/((T1)^(3/2)))\n",
"disp('Value of constant,K1=(Nc/((T)^(3/2)))= '+string(K1))//calculation\n",
"k1=(K1*T2^(3/2))\n",
"disp('Value of constant k1 at 450K ,k1=(K1*T2^(3/2))= '+string(k1))//calculation\n",
"K2=(Nv/((T1)^(3/2)))\n",
"disp('Value of constant,K2=(Nv/((T1)^(3/2)))= '+string(K2))//calculation\n",
"k2=(K2*T2^(3/2))\n",
"disp('Value of constant k2 at 450K ,k2=(K2*T2^(3/2))= '+string(k2))//calculation\n",
"K=k1*k2\n",
"disp('Value of constant K,= '+string(K))//calculation\n",
"no1=(sqrt(K*(exp(-Eg/Vt2))))\n",
"disp('intrinsic concentration at 450K,no=(sqrt(K*(exp(-Eg/Vt2))))= '+string(no1)+' cm^3')//calculation\n",
"//this is solved problem 2.17 of chapter 2.\n",
"\n",
"\n",
""
   ]
   }
,
{
		   "cell_type": "markdown",
		   "metadata": {},
		   "source": [
			"## Example 2.2: CURRENT_GENERATED_BY_MINORITY_CARRIER_MOVEMENT.sce"
		   ]
		  },
  {
"cell_type": "code",
	   "execution_count": null,
	   "metadata": {
	    "collapsed": true
	   },
	   "outputs": [],
"source": [
"clc\n",
"e=1.6*10^-19\n",
"disp(' electron charge = '+string(e)+'columns') //initializing the value of electron charge.\n",
"no=1.5*10^10\n",
"disp('no. of EHPs/cm^3 = '+string(no)+'/cm^3') //initializing value of electron hole pairs/cm^3.\n",
"n=(1/e)\n",
"disp('Number of free electrons in 1 columns ,n=(1/e))= '+string(n))//calculation\n",
"i=(1/n)\n",
"disp('Current by movement of one electrons ,i=(1/n))= '+string(i)+' Amphere ')//calculation\n",
"I=(no*i)\n",
"disp('Current by movement of (1.5*10^10) electrons ,I=(no*i))= '+string(I)+' Amphere ')//calculation"
   ]
   }
,
{
		   "cell_type": "markdown",
		   "metadata": {},
		   "source": [
			"## Example 2.30: VALUE_OF_DONOR_CONCENTRATION.sce"
		   ]
		  },
  {
"cell_type": "code",
	   "execution_count": null,
	   "metadata": {
	    "collapsed": true
	   },
	   "outputs": [],
"source": [
"clc\n",
"Nv=1.04*10^19\n",
"disp('Nv = '+string(Nv)+'cm^-3')//initializing the value of valence band concentration at 300K.\n",
"Nc=2.8*10^19\n",
"disp('Nc = '+string(Nc)+'cm^-3')//initializing the value of conduction band concentration at 300K.\n",
"T1=300\n",
"disp('T = '+string(T1)+'K')//initializing the value of temperature 1.\n",
"T2=550\n",
"disp('T = '+string(T2)+'K')//initializing the value of temperature 2.\n",
"Vt1=0.0259\n",
"disp('Vt1 = '+string(Vt1)+'eV')//initializing the value of thermal voltage at 300K.\n",
"Vt2=0.0474\n",
"disp('Vt2 = '+string(Vt2)+'eV')//initializing the value of thermal voltage at 550K.\n",
"Eg1=1.12\n",
"disp('Eg1 = '+string(Eg1)+'eV')//initializing the value of thermal voltage.\n",
"no=(sqrt(Nc*Nv*(exp(-Eg1/Vt1))))\n",
"disp('intrinsic concentration at 300K,no=(sqrt(Nc*Nv*(exp(-Eg1/Vt1))))= '+string(no))//calculation\n",
"K1=(Nc/((T1)^(3/2)))\n",
"disp('Value of constant,K1=(Nc/((T)^(3/2)))= '+string(K1))//calculation\n",
"k1=(K1*T2^(3/2))\n",
"disp('Value of constant k1 at 550K ,k1=(K1*T2^(3/2))= '+string(k1))//calculation\n",
"K2=(Nv/((T1)^(3/2)))\n",
"disp('Value of constant,K2=(Nv/((T1)^(3/2)))= '+string(K2))//calculation\n",
"k2=(K2*T2^(3/2))\n",
"disp('Value of constant k2 at 550K ,k2=(K2*T2^(3/2))= '+string(k2))//calculation\n",
"K=k1*k2\n",
"disp('Value of constant K,= '+string(K))//calculation\n",
"no1=(sqrt(K*(exp(-Eg1/Vt2))))\n",
"disp('Intrinsic concentration at 550K,no=(sqrt(K*(exp(-Eg1/Vt2))))= '+string(no1)+' cm^3')//calculation\n",
"Nd=(4*(no1^2)/(1.2))\n",
"disp('Donor concentration at which intrinsic concentration is 10% of the total electron concentration,Nd=(4*(no1^2)/(1.2))= '+string(Nd)+' cm^3')//calculation\n",
"//this is solved problem 2.18 of chapter 2.\n",
"//the value of temperature and % of the intrinsic carrier concentration given in the question is different than used in the solution. \n",
"//I have used the value provided in the solution (i.e T2=550 and % of the intrinsic carrier concentration =10%)\n",
"//the value of Donor concentration at which intrinsic concentration is 10% of the total electron concentration(Nd),is provided wrong in the book after calculation.\n",
"\n",
""
   ]
   }
,
{
		   "cell_type": "markdown",
		   "metadata": {},
		   "source": [
			"## Example 2.31: DONOR_CONCENTRATION_IN_SILICON.sce"
		   ]
		  },
  {
"cell_type": "code",
	   "execution_count": null,
	   "metadata": {
	    "collapsed": true
	   },
	   "outputs": [],
"source": [
"clc\n",
"Ec_Ef=0.2\n",
"disp('Ec_Ef = '+string(Ec_Ef)+' eV') //initializing the value of difference in the energy levels.\n",
"Nc=2.8*10^19\n",
"disp('Nc = '+string(Nc)+' cm^-3')//initializing the value of conduction band concentration.\n",
"Na=3*10^16\n",
"disp('Na = '+string(Na)+' cm^-3')//initializing the value of acceptor concentration.\n",
"Vt=0.0259\n",
"disp('Vt = '+string(Vt)+' eV')//initializing the value of thermal voltage at 300K.\n",
"Nd=(Nc*(exp(-(Ec_Ef)/(Vt))))+(Na)\n",
"disp('Donor concentration,Nd=(Nc*(exp(-(Ec_Ef)/(Vt))))+(Na)= '+string(Nd)+' cm^-3')//calculation\n",
"\n",
"\n",
"//this is solved problem 2.19 of chapter 2."
   ]
   }
,
{
		   "cell_type": "markdown",
		   "metadata": {},
		   "source": [
			"## Example 2.32: INTRINSIC_CARRIER_CONCENTRATION.sce"
		   ]
		  },
  {
"cell_type": "code",
	   "execution_count": null,
	   "metadata": {
	    "collapsed": true
	   },
	   "outputs": [],
"source": [
"clc\n",
"Nv=6*10^18\n",
"disp('Nv = '+string(Nv)+'cm^-3')//initializing the value of valence band concentration at 300K.\n",
"Nc=1.04*10^19\n",
"disp('Nc = '+string(Nc)+'cm^-3')//initializing the value of conduction band concentration at 300K.\n",
"T1=300\n",
"disp('T1 = '+string(T1)+'K')//initializing the value of temperature 1.\n",
"T2=200\n",
"disp('T2 = '+string(T2)+'K')//initializing the value of temperature 2.\n",
"Vt1=0.0259\n",
"disp('Vt1 = '+string(Vt1)+'eV')//initializing the value of thermal voltage at 300K.\n",
"Vt2=0.0173\n",
"disp('Vt2 = '+string(Vt2)+'eV')//initializing the value of thermal voltage at 200K.\n",
"Eg1=0.60\n",
"disp('Eg1 = '+string(Eg1)+'eV')//initializing the value of thermal voltage used for 300K .\n",
"no=(sqrt(Nc*Nv*(exp(-Eg1/Vt1))))\n",
"disp('intrinsic concentration at 300K,no=(sqrt(Nc*Nv*(exp(-Eg1/Vt1))))= '+string(no))//calculation\n",
"Eg2=0.66\n",
"disp('Eg2 = '+string(Eg2)+'eV')//initializing the value of thermal voltage used for 200K.\n",
"K1=(Nc/((T1)^(3/2)))\n",
"disp('Value of constant,K1=(Nc/((T)^(3/2)))= '+string(K1))//calculation\n",
"k1=(K1*T2^(3/2))\n",
"disp('Value of constant k1 at 200K ,k1=(K1*T2^(3/2))= '+string(k1))//calculation\n",
"K2=(Nv/((T1)^(3/2)))\n",
"disp('Value of constant,K2=(Nv/((T1)^(3/2)))= '+string(K2))//calculation\n",
"k2=(K2*T2^(3/2))\n",
"disp('Value of constant k2 at 200K ,k2=(K2*T2^(3/2))= '+string(k2))//calculation\n",
"K=k1*k2\n",
"disp('Value of constant K,= '+string(K))//calculation\n",
"no1=(sqrt(K*(exp(-Eg2/Vt2))))\n",
"disp('intrinsic concentration at 200K,no=(sqrt(K*(exp(-Eg2/Vt2))))= '+string(no1)+' cm^3')//calculation\n",
"\n",
"//this is solved problem 2.20 of chapter 2.\n",
"//The answer of intrinsic concentration at 300K,(no) is provided wrong in the book.\n",
"\n",
""
   ]
   }
,
{
		   "cell_type": "markdown",
		   "metadata": {},
		   "source": [
			"## Example 2.33: RATIO_OF_INTRINSIC_CONCENTRATION.sce"
		   ]
		  },
  {
"cell_type": "code",
	   "execution_count": null,
	   "metadata": {
	    "collapsed": true
	   },
	   "outputs": [],
"source": [
"clc\n",
"Eg1=2\n",
"disp('Eg1 = '+string(Eg1)+' eV') //initializing the value of band energy gap for semiconductor1.\n",
"Eg2=2.2\n",
"disp('Eg2 = '+string(Eg2)+' eV')//initializing the value of band energy gap for semiconductor2.\n",
"Vt=0.0259\n",
"disp('Vt = '+string(Vt)+' eV')//initializing the value of thermal voltage at 300K.\n",
"No=sqrt(exp((-Eg1/Vt)-(-Eg2/Vt)))\n",
"disp('Ratio of their intrinsic concentration at 300K,(no1/no2)=sqrt(exp((-Eg1/Vt)-(-Eg2/Vt)))= '+string(No))//calculation"
   ]
   }
,
{
		   "cell_type": "markdown",
		   "metadata": {},
		   "source": [
			"## Example 2.3: CURRENT_GENERATED_BY_MINORITY_CARRIER_MOVEMENT.sce"
		   ]
		  },
  {
"cell_type": "code",
	   "execution_count": null,
	   "metadata": {
	    "collapsed": true
	   },
	   "outputs": [],
"source": [
"clc\n",
"e=1.6*10^-19\n",
"disp(' Electron charge  = '+string(e)+'columns') //initializing the value of electron charge.\n",
"no=2.5*10^13\n",
"disp('Number of free electrons/cm^3 in Ge ,n=2.5*10^13)= '+string(no)+'electrons/cm^3')//calculation\n",
"n=(1/e)\n",
"disp('Number of free electrons in 1 columns ,n=(1/e))= '+string(n))//calculation\n",
"i=(1/n)\n",
"disp('Current by movement of one electrons ,i=(1/n))= '+string(i)+' amphere ')//calculation\n",
"I=(no*i)\n",
"disp('Current by movement of (2.5*10^13) electrons in Ge,I=(no*i))= '+string(I)+' amphere ')//calculation"
   ]
   }
,
{
		   "cell_type": "markdown",
		   "metadata": {},
		   "source": [
			"## Example 2.4: FREQUENCY_OF_RADIATION_EMITTED_BY_GaAs.sce"
		   ]
		  },
  {
"cell_type": "code",
	   "execution_count": null,
	   "metadata": {
	    "collapsed": true
	   },
	   "outputs": [],
"source": [
"clc\n",
"Eg=1.43*1.6*10^-19\n",
"disp(' energy gap = '+string(Eg)+'Volt') //initializing the value of energy gap.\n",
"h=6.624*10^-34\n",
"disp(' plank constant = '+string(h)+'joule')//initializing the value of plank constant. \n",
"c=3*10^8\n",
"disp(' light speed = '+string(c)+'m/s') //initializing the value of speed of light.\n",
"f=(Eg/h)\n",
"disp('frequency of radiation emitted ,f=(Eg/h))= '+string(f)+' Hz ')//calculation\n",
"lamda=(c/f)\n",
"disp('wavelength of radiation emitted,lamda=(c/f))= '+string(lamda)+' metre ')//calculation"
   ]
   }
,
{
		   "cell_type": "markdown",
		   "metadata": {},
		   "source": [
			"## Example 2.5: FREQUENCY_OF_RADIATION_EMITTED.sce"
		   ]
		  },
  {
"cell_type": "code",
	   "execution_count": null,
	   "metadata": {
	    "collapsed": true
	   },
	   "outputs": [],
"source": [
"clc\n",
"Eg1=1.43\n",
"disp(' Energy gap of GaAs = '+string(Eg1)+'eV') //initializing the value of energy gap of GaAs.\n",
"Eg2=2.43\n",
"disp(' Energy gap of GaP = '+string(Eg2)+'eV')//initializing the value of energy gap of Gap.\n",
"h=6.624*10^-34\n",
"disp(' plank constant = '+string(h)+'joule')//initializing the value of plank constant.\n",
"c=3*10^8\n",
"disp(' light speed = '+string(c)+'m/s') //initializing the value of speed of light.\n",
"x=(Eg2-Eg1)\n",
"disp('Difference between the energy gap of GaAs and GaP ,x=(Eg2-Eg1))= '+string(x)+' eV')//calculation\n",
"g=(0.5*x)\n",
"disp('Excess energy gap added to GaAs to form GaAsP =(0.5*x))= '+string(g)+' eV ')//calculation\n",
"Eg=(Eg1+g)\n",
"disp('Band gap energy GaAs(0.5)P(0.5),Eg=(Eg1+g))= '+string(Eg)+' eV ')//calculation\n",
"lamda=(c*h/(Eg*1.6*10^-19))\n",
"disp('Wavelength of radiation emitted,w=(c*h/Eg))= '+string(lamda)+' metre ')//calculation"
   ]
   }
,
{
		   "cell_type": "markdown",
		   "metadata": {},
		   "source": [
			"## Example 2.6: FERMI_DIREC_DISTRIBUTION_FUNCTION.sce"
		   ]
		  },
  {
"cell_type": "code",
	   "execution_count": null,
	   "metadata": {
	    "collapsed": true
	   },
	   "outputs": [],
"source": [
"clc\n",
"E=1.1\n",
"disp(' E = '+string(E)+'eV') //initializing the value of energy level E in the crystal.\n",
"Ef=0.6\n",
"disp(' Ef = '+string(Ef)+'eV')//initializing the value of energy of fermi level of material.\n",
"T=300\n",
"disp(' temp = '+string(T)+'K')//initializing the value of temperature.\n",
"e=2.718\n",
"disp(' e = '+string(e)) //initializing the value of exponential.\n",
"k=1.38*10^-23\n",
"disp(' k = '+string(k)+'J/k') //initializing the value of boltzmann constant.\n",
"a=(((E-Ef)*1.6*10^-19)/(k*T))\n",
"disp('alpha ,a=(((E-Ef)*1.6*10^-19)/(k*T)))= '+string(a))//calculation\n",
"fE=(1/(1+(e^a)))\n",
"disp('fE(Fermi Direc Distribution Function),fE=(1/(1+(e^a))))= '+string(fE))//calculation\n",
"\n",
"//the value of Ef is different in the question than used in the solution.\n",
"//I have used the value ,used in the solution(i.e Ef=0.6)"
   ]
   }
,
{
		   "cell_type": "markdown",
		   "metadata": {},
		   "source": [
			"## Example 2.7: FERMI_DIREC_DISTRIBUTION_FUNCTION.sce"
		   ]
		  },
  {
"cell_type": "code",
	   "execution_count": null,
	   "metadata": {
	    "collapsed": true
	   },
	   "outputs": [],
"source": [
"clc\n",
"E=0.6\n",
"disp(' E = '+string(E)+'eV') //initializing the value of energy level E in the crystal.\n",
"Ef=1.1\n",
"disp(' Ef = '+string(Ef)+'eV')//initializing the value of fermi level of material.\n",
"T=300\n",
"disp(' temp = '+string(T)+'kelvin')//initializing the value of temperature.\n",
"k=1.38*10^-23\n",
"disp(' k = '+string(k)+'J/k') //initializing the value of boltzmann constant.\n",
"e=2.718\n",
"disp(' e = '+string(e)) //initializing the value of exponential.\n",
"a=(((-(Ef-E))*1.6*10^-19)/(k*T))\n",
"disp('alpha ,a=(((-(Ef-E))*1.6*10^-19)/(k*T)))= '+string(a))//calculation\n",
"fE=(1/(1+(e^a)))\n",
"disp('fE(Fermi Direc Distribution Function),fE=(1/(1+(e^a))))= '+string(fE))//calculation\n",
"\n",
"//the value of E is different in the question than used in the solution.\n",
"//I have used the value ,used in the solution(i.e E=0.6)"
   ]
   }
,
{
		   "cell_type": "markdown",
		   "metadata": {},
		   "source": [
			"## Example 2.8: FERMI_DIREC_DISTRIBUTION_FUNCTION.sce"
		   ]
		  },
  {
"cell_type": "code",
	   "execution_count": null,
	   "metadata": {
	    "collapsed": true
	   },
	   "outputs": [],
"source": [
"clc\n",
"E=1.1\n",
"disp(' E = '+string(E)+'eV') //initializing the value of energy level E in the crystal.\n",
"Ef=0.6\n",
"disp(' Ef = '+string(Ef)+'eV')//initializing the value of fermi level of material.\n",
"T=1000\n",
"disp(' Temp = '+string(T)+'K')//initializing the value of temperature.\n",
"k=1.38*10^-23\n",
"disp(' k = '+string(k)+'J/k') //initializing the value of boltzmann constant.\n",
"e=2.718\n",
"disp(' e = '+string(e)) //initializing the value of exponential.\n",
"a=(((-Ef+E)*1.6*10^-19)/(k*T))\n",
"disp('alpha ,a=(((-E+Ef)*1.6*10^-19)/(k*T)))= '+string(a))//calculation\n",
"fE=(1/(1+(e^a)))\n",
"disp('fE(Fermi Direc Distribution Function),fE=(1/(1+(e^a))))= '+string(fE))//calculation\n",
"\n",
"//The value of Ef is different in the question than used in the solution.\n",
"//I have used the value ,used in the solution(i.e Ef=0.6)"
   ]
   }
,
{
		   "cell_type": "markdown",
		   "metadata": {},
		   "source": [
			"## Example 2.9: FERMI_DIREC_DISTRIBUTION_FUNCTION.sce"
		   ]
		  },
  {
"cell_type": "code",
	   "execution_count": null,
	   "metadata": {
	    "collapsed": true
	   },
	   "outputs": [],
"source": [
"clc\n",
"Ef=0.6\n",
"disp(' Ef = '+string(Ef)+'eV') //initializing the value of fermi level of material.\n",
"E=1.1\n",
"disp(' E = '+string(E)+'eV')//initializing the value of level E in a crystal.\n",
"T=1000\n",
"disp(' Temp = '+string(T)+'kelvin')//initializing the value of temperature.\n",
"k=1.38*10^-23\n",
"disp(' k = '+string(k)+'J/k') //initializing the value of boltzmann constant.\n",
"e=2.718\n",
"disp(' e = '+string(e)) //initializing the value of exponential.\n",
"a=(((E-Ef)*1.6*10^-19)/(k*T))\n",
"disp('alpha ,a=(((E-Ef)*1.6*10^-19)/(k*T)))= '+string(a))//calculation\n",
"fE=(1/(1+(e^a)))\n",
"disp('fE(Fermi Direc Distribution Function),fE=(1/(1+(e^a))))= '+string(fE))//calculation\n",
"\n",
"//The value of Ef ,temperature is different in the question than used in the solution.\n",
"//I have used the value of Ef,used in the solution(i.e Ef=0.6)and value of temperature used is T=1000K\n",
"//The value of a(alpha),provided in the solution after calculation is wrong.As book has used different value of the temperature in solution than provided in the question."
   ]
   }
],
"metadata": {
		  "kernelspec": {
		   "display_name": "Scilab",
		   "language": "scilab",
		   "name": "scilab"
		  },
		  "language_info": {
		   "file_extension": ".sce",
		   "help_links": [
			{
			 "text": "MetaKernel Magics",
			 "url": "https://github.com/calysto/metakernel/blob/master/metakernel/magics/README.md"
			}
		   ],
		   "mimetype": "text/x-octave",
		   "name": "scilab",
		   "version": "0.7.1"
		  }
		 },
		 "nbformat": 4,
		 "nbformat_minor": 0
}
