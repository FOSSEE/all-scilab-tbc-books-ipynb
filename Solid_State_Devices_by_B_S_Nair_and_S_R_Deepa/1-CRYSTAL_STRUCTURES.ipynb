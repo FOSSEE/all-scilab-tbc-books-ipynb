{
"cells": [
 {
		   "cell_type": "markdown",
	   "metadata": {},
	   "source": [
       "# Chapter 1: CRYSTAL STRUCTURES"
	   ]
	},
{
		   "cell_type": "markdown",
		   "metadata": {},
		   "source": [
			"## Example 1.10: MILLER_INDICES_OF_LATTICE_PLANE.sce"
		   ]
		  },
  {
"cell_type": "code",
	   "execution_count": null,
	   "metadata": {
	    "collapsed": true
	   },
	   "outputs": [],
"source": [
"clc\n",
"x=1\n",
"disp('x intercept = '+string(x)) //initializing value of x intercept..\n",
"y=%inf\n",
"disp('y intercept = '+string(y)) //initializing value of y intercept.\n",
"z=%inf\n",
"disp('z intercept = '+string(z)) //initializing value of z intercept.\n",
"h=[1/x]\n",
"disp('miller indices,h=(1/x) = '+string(h))//calculation\n",
"k=[1/y]\n",
"disp('k=(1/y) = '+string(k))//calculation\n",
"l=[1/z]\n",
"disp('l=(1/z) = '+string(l))//calculation\n",
""
   ]
   }
,
{
		   "cell_type": "markdown",
		   "metadata": {},
		   "source": [
			"## Example 1.11: MILLER_INDICES_OF_LATTICE_PLANE.sce"
		   ]
		  },
  {
"cell_type": "code",
	   "execution_count": null,
	   "metadata": {
	    "collapsed": true
	   },
	   "outputs": [],
"source": [
"clc\n",
"x=%inf\n",
"disp('x intercept = '+string(x)) //initializing value of x intercept.\n",
"y=%inf\n",
"disp('y intercept = '+string(y)) //initializing value of Y intercept.\n",
"z=1\n",
"disp('z intercept = '+string(z)) //initializing value of Z intercept.\n",
"h=[1/x]\n",
"disp('miller indices,h=[1/x] = '+string(h))//calculation\n",
"k=[1/y]\n",
"disp('k=[1/y] = '+string(k))//calculation\n",
"l=[1/z]\n",
"disp('l=[1/z] = '+string(l))//calculation\n",
""
   ]
   }
,
{
		   "cell_type": "markdown",
		   "metadata": {},
		   "source": [
			"## Example 1.12: MILLER_INDICES_OF_LATTICE_PLANE.sce"
		   ]
		  },
  {
"cell_type": "code",
	   "execution_count": null,
	   "metadata": {
	    "collapsed": true
	   },
	   "outputs": [],
"source": [
"clc\n",
"x=%inf\n",
"disp('x intercept = '+string(x)) //initializing value of X intercept.\n",
"y=1\n",
"disp('y intercept = '+string(y)) //initializing value of Y intercept.\n",
"z=%inf\n",
"disp('z intercept = '+string(z)) //initializing value of Z intercept.\n",
"h=[1/x]\n",
"disp('miller indices,h=[1/x] = '+string(h))//calculation\n",
"k=[1/y]\n",
"disp('k=[1/y] = '+string(k))//calculation\n",
"l=[1/z]\n",
"disp('l=[1/z] = '+string(l))//calculation"
   ]
   }
,
{
		   "cell_type": "markdown",
		   "metadata": {},
		   "source": [
			"## Example 1.13: MILLER_INDICES_OF_LATTICE_PLANE.sce"
		   ]
		  },
  {
"cell_type": "code",
	   "execution_count": null,
	   "metadata": {
	    "collapsed": true
	   },
	   "outputs": [],
"source": [
"clc\n",
"x=1\n",
"disp('x intercept = '+string(x)) //initializing value of X intercept.\n",
"y=1\n",
"disp('y intercept = '+string(y)) //initializing value of Y intercept.\n",
"z=%inf\n",
"disp('z intercept = '+string(z)) //initializing value of Z intercept.\n",
"h=[1/x]\n",
"disp('miller indices,h=[1/x] = '+string(h))//calculation\n",
"k=[1/y]\n",
"disp('k=[1/y] = '+string(k))//calculation\n",
"l=[1/z]\n",
"disp('l=[1/z] = '+string(l))//calculation\n",
"\n",
""
   ]
   }
,
{
		   "cell_type": "markdown",
		   "metadata": {},
		   "source": [
			"## Example 1.14: MILLER_INDICES_OF_LATTICE_PLANE.sce"
		   ]
		  },
  {
"cell_type": "code",
	   "execution_count": null,
	   "metadata": {
	    "collapsed": true
	   },
	   "outputs": [],
"source": [
"clc\n",
"x=%inf\n",
"disp('x intercept = '+string(x)) //initializing value of X intercept.\n",
"y=1\n",
"disp('y intercept = '+string(y)) //initializing value of Y intercept.\n",
"z=1\n",
"disp('z intercept = '+string(z)) //initializing value of Z intercept.\n",
"h=[1/x]\n",
"disp('miller indices,h=[1/x] = '+string(h))//calculation\n",
"k=[1/y]\n",
"disp('k=[1/y] = '+string(k))//calculation\n",
"l=[1/z]\n",
"disp('l=[1/z] = '+string(l))//calculation\n",
"\n",
""
   ]
   }
,
{
		   "cell_type": "markdown",
		   "metadata": {},
		   "source": [
			"## Example 1.15: MILLER_INDICES_OF_LATTICE_PLANE.sce"
		   ]
		  },
  {
"cell_type": "code",
	   "execution_count": null,
	   "metadata": {
	    "collapsed": true
	   },
	   "outputs": [],
"source": [
"clc\n",
"x=2\n",
"disp('x intercept = '+string(x)) //initializing value of X intercept.\n",
"y=2\n",
"disp('y intercept = '+string(y)) //initializing value of Y intercept.\n",
"z=2\n",
"disp('z intercept = '+string(z)) //initializing value of Z intercept.\n",
"c=2\n",
"disp('common factor of all the intercept= '+string(c)) //initializing value of common factor of all the intercepts.\n",
"h=[c/x]\n",
"disp('miller indices,h=[c/x] = '+string(h))//calculation\n",
"k=[c/y]\n",
"disp('k=[c/y] = '+string(k))//calculation\n",
"l=[c/z]\n",
"disp('l=[c/z] = '+string(l))//calculation\n",
"\n",
""
   ]
   }
,
{
		   "cell_type": "markdown",
		   "metadata": {},
		   "source": [
			"## Example 1.16: NO_OF_SILICON_ATOMS.sce"
		   ]
		  },
  {
"cell_type": "code",
	   "execution_count": null,
	   "metadata": {
	    "collapsed": true
	   },
	   "outputs": [],
"source": [
"clc\n",
"Wa=28.1\n",
"disp('Wa = '+string(Wa)) //initializing value of atomic weight.\n",
"D=2.33\n",
"disp('D = '+string(D)+'gram/cm^3') //initializing value of density.\n",
"Na=6.02*10^23\n",
"disp('Na = '+string(Na)+'atoms/mole') //initializing value of avagadro number.\n",
"na =(Na*D)/(Wa)\n",
"disp('na =(Na*D)/(Wa)= '+string(na)+' atoms/cm^3')//calculation\n",
"\n",
"//the value of na (number of atoms in 1 cm^3 of silicon), provided after calculation in the book is wrong."
   ]
   }
,
{
		   "cell_type": "markdown",
		   "metadata": {},
		   "source": [
			"## Example 1.17: VOLUME_DENSITY_OF_A_BCC_LATTICE.sce"
		   ]
		  },
  {
"cell_type": "code",
	   "execution_count": null,
	   "metadata": {
	    "collapsed": true
	   },
	   "outputs": [],
"source": [
"clc\n",
"a=5*10^-8\n",
"disp('a= '+string(a)+'cm') //initializing value of lattice constant.\n",
"N=2\n",
"disp('N= '+string(N)) //initializing value of no.of atoms in unit cell.\n",
"V=a^3\n",
"disp('V=a^3 = '+string(V)+'cm^3') //initializing value of total Volume of the unit cell.\n",
"na =(N/(V))\n",
"disp('na=(no.of atoms in unit cell/Volume of the unit cell) =(N/(V))= '+string(na))//calculation"
   ]
   }
,
{
		   "cell_type": "markdown",
		   "metadata": {},
		   "source": [
			"## Example 1.18: VOLUME_DENSITY_OF_SILICON.sce"
		   ]
		  },
  {
"cell_type": "code",
	   "execution_count": null,
	   "metadata": {
	    "collapsed": true
	   },
	   "outputs": [],
"source": [
"clc\n",
"a=5.43*10^-8\n",
"disp('a = '+string(a)+'cm') //initializing value of lattice constant.\n",
"N=8\n",
"disp('N = '+string(N)) //initializing value of no. of atoms in a unit cell.\n",
"ns =(N/(a^3))\n",
"disp('Number of atom in the cm^3,ns =(N/(a^3))= '+string(ns))//calculation"
   ]
   }
,
{
		   "cell_type": "markdown",
		   "metadata": {},
		   "source": [
			"## Example 1.19: DENSITY_OF_SILICON.sce"
		   ]
		  },
  {
"cell_type": "code",
	   "execution_count": null,
	   "metadata": {
	    "collapsed": true
	   },
	   "outputs": [],
"source": [
"clc\n",
"a=5.43*10^-8\n",
"disp(' a = '+string(a)+'cm') //initializing value of lattice constant.\n",
"Wa=28.1\n",
"disp(' Wa = '+string(Wa)) //initializing value of atomic weight.\n",
"Na=6.02*10^23\n",
"disp(' Na = '+string(Na)) //initializing value of avagdro number.\n",
"ns=5*10^22\n",
"disp(' ns = '+string(ns)+'atoms/cm^3') //initializing value of atoms/cm^3.\n",
"D =(ns*Wa)/(Na)\n",
"disp(' Density of silicon,D =(ns*Wa)/(Na) = '+string(D)+' gm/cm^2')//calculation"
   ]
   }
,
{
		   "cell_type": "markdown",
		   "metadata": {},
		   "source": [
			"## Example 1.20: VOLUME_DENSITY_OF_A_FCC_LATTICE.sce"
		   ]
		  },
  {
"cell_type": "code",
	   "execution_count": null,
	   "metadata": {
	    "collapsed": true
	   },
	   "outputs": [],
"source": [
"clc\n",
"a=4.75*10^-8\n",
"disp(' a = '+string(a)+'cm') //initializing value of lattice constant.\n",
"N=4\n",
"disp(' N = '+string(N)) //initializing value of number of atoms in the unit cell.\n",
"na =(N/(a^3))\n",
"disp(' na =(N/(a^3)) = '+string(na))//calculation"
   ]
   }
,
{
		   "cell_type": "markdown",
		   "metadata": {},
		   "source": [
			"## Example 1.4: PACKING_FRACTION_OF_SIMPLE_CUBIC.sce"
		   ]
		  },
  {
"cell_type": "code",
	   "execution_count": null,
	   "metadata": {
	    "collapsed": true
	   },
	   "outputs": [],
"source": [
"clc\n",
"a=1\n",
"disp('a= '+string(a)) //initializing value of lattice constant(a)=1.\n",
"r=a/2\n",
"disp('r=a/2 = '+string(r)) //initializing value of radius of atom for simple cubic.\n",
"v=((4*%pi*(r^3))/3)\n",
"disp('Volume of one atom ,v=((4*%pi*(r^3))/3) = '+string(v)) //calcuation.\n",
"V=a^3\n",
"disp('Total Volume of the cube,V=a^3 = '+string(V)) //calcuation.\n",
"Fp=(v*100/V)\n",
"disp('Fp(S.C)=(v*100/V) = '+string(Fp)+'%')//calculation"
   ]
   }
,
{
		   "cell_type": "markdown",
		   "metadata": {},
		   "source": [
			"## Example 1.5: PACKING_FRACTION_OF_BCC.sce"
		   ]
		  },
  {
"cell_type": "code",
	   "execution_count": null,
	   "metadata": {
	    "collapsed": true
	   },
	   "outputs": [],
"source": [
"clc\n",
"a=1\n",
"disp('a= '+string(a)) //initializing value of lattice constant(a)=1.\n",
"r=(sqrt(3)*(a^2/4))\n",
"disp('Radius of the atoms,r=(sqrt(3)*(a^2/4)) = '+string(r)) //initializing value of radius of atom for BCC.\n",
"v=((4*%pi*(r^3))/3)*2\n",
"disp('Volume of two atom,v=((4*%pi*(r^3))/3)*2 = '+string(v)) //calcuation.\n",
"V=a^3\n",
"disp('Total Volume of the cube,V=a^3 = '+string(V)) //calcuation.\n",
"Fp=(v*100/V)\n",
"disp('Fp(B.C.C)=(v*100/V) = '+string(Fp)+'%')//calculation"
   ]
   }
,
{
		   "cell_type": "markdown",
		   "metadata": {},
		   "source": [
			"## Example 1.6: PACKING_FRACTION_OF_FCC.sce"
		   ]
		  },
  {
"cell_type": "code",
	   "execution_count": null,
	   "metadata": {
	    "collapsed": true
	   },
	   "outputs": [],
"source": [
"clc\n",
"a=1\n",
"disp('a= '+string(a)) //initializing value of lattice constant(a)=1.\n",
"r=(a/(2*sqrt(2)))\n",
"disp('Radius of the atom,r=(a/(2*sqrt(2)))= '+string(r)) //initializing value of radius of atom for FCC.\n",
"v=(((4*%pi*(r^3))/3)*4)\n",
"disp('Volume of the four atom,v=(((4*%pi*(r^3))/3)*4) = '+string(v)) //calcuation.\n",
"V=a^3\n",
"disp('Total volume of the cube,V=a^3 = '+string(V)) //calcuation.\n",
"Fp=(v*100/V)\n",
"disp('Fp(F.C.C)=(v*100/V) = '+string(Fp)+'%')//calculation"
   ]
   }
,
{
		   "cell_type": "markdown",
		   "metadata": {},
		   "source": [
			"## Example 1.8: PACKING_FRACTION_OF_DIAMOND_CRYSTAL_STRUCTURE.sce"
		   ]
		  },
  {
"cell_type": "code",
	   "execution_count": null,
	   "metadata": {
	    "collapsed": true
	   },
	   "outputs": [],
"source": [
"clc\n",
"a=1\n",
"disp('a= '+string(a)) //initializing value of lattice constant(a)=1.\n",
"r=((sqrt(3)*a/8))\n",
"disp('Radius of the atom,r=(sqrt(3)*a/8) )= '+string(r)) //initializing value of radius of atom for diamond.\n",
"v=(((4*%pi*(r^3))/3)*8)\n",
"disp('v=(((4*%pi*(r^3))/3)*8) = '+string(v)) //calcuation.\n",
"V=a^3\n",
"disp('V=a^3 = '+string(V)) //calcuation.\n",
"Fp=(v*100/V)\n",
"disp('Fp(Diamond)=(v*100/V) = '+string(Fp)+'%')//calculation"
   ]
   }
,
{
		   "cell_type": "markdown",
		   "metadata": {},
		   "source": [
			"## Example 1.9: PACKING_FRACTION_OF_BCC.sce"
		   ]
		  },
  {
"cell_type": "code",
	   "execution_count": null,
	   "metadata": {
	    "collapsed": true
	   },
	   "outputs": [],
"source": [
"clc\n",
"a=5*10^-8\n",
"disp('a = '+string(a)+' cm') //initializing value of lattice constant.\n",
"r=(sqrt(3)*(a/4))\n",
"disp('Radius of the atom,r=(sqrt(3)*(a/4)) = '+string(r)) //initializing value of radius of atom for BCC.\n",
"v=((4*%pi*(r^3))/3)*2\n",
"disp('Volume of the two atoms,v=((4*%pi*(r^3))/3)*2 = '+string(v)) //calcuation.\n",
"V=a^3\n",
"disp('Total Volume of the cube,V=a^3 = '+string(V)) //calcuation.\n",
"Fp=(v*100/V)\n",
"disp('Fp(B.C.C)=(v*100/V) = '+string(Fp)+'%')//calculation"
   ]
   }
],
"metadata": {
		  "kernelspec": {
		   "display_name": "Scilab",
		   "language": "scilab",
		   "name": "scilab"
		  },
		  "language_info": {
		   "file_extension": ".sce",
		   "help_links": [
			{
			 "text": "MetaKernel Magics",
			 "url": "https://github.com/calysto/metakernel/blob/master/metakernel/magics/README.md"
			}
		   ],
		   "mimetype": "text/x-octave",
		   "name": "scilab",
		   "version": "0.7.1"
		  }
		 },
		 "nbformat": 4,
		 "nbformat_minor": 0
}
