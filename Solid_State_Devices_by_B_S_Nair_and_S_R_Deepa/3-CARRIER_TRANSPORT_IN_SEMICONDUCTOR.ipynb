{
"cells": [
 {
		   "cell_type": "markdown",
	   "metadata": {},
	   "source": [
       "# Chapter 3: CARRIER TRANSPORT IN SEMICONDUCTOR"
	   ]
	},
{
		   "cell_type": "markdown",
		   "metadata": {},
		   "source": [
			"## Example 3.10: VALUE_OF_DIFFERENCE_IN_FERMI_LEVELS.sce"
		   ]
		  },
  {
"cell_type": "code",
	   "execution_count": null,
	   "metadata": {
	    "collapsed": true
	   },
	   "outputs": [],
"source": [
"clc\n",
"po=10^18\n",
"disp('po = '+string(po)+' cm^-3') //initializing value of N type doping level.\n",
"no=1.5*10^10\n",
"disp('no = '+string(no)+' /cm^-3') //initializing value of electron and hole concentration per cm^3.\n",
"Po=10^17\n",
"disp('P(o)= '+string(Po)+' cm^-3') //initializing value of excess hole concentration.\n",
"A=0.1\n",
"disp('A = '+string(A)+' cm^-2') //initializing the value of area. \n",
"up=300\n",
"disp('up = '+string(up)+' cm^2/Vs') //initializing value of mobility of p-type carrier. \n",
"t=7*10^-9\n",
"disp('t = '+string(t)+' sec') //initializing value of transit time.\n",
"T=300\n",
"disp('T = '+string(T)+' K') //initializing value of temperature.\n",
"Vt=0.0259\n",
"disp('Vt = '+string(Vt)+' eV') //initializing value of thermal voltage at 300K.\n",
"x=500*10^-8\n",
"disp('x = '+string(x)+' cm') //initializing value of distance at which difference in fermi level is to calculated.\n",
"Dp=(Vt*up)\n",
"disp('Diffusion cofficient,Dp=(Vt*up))= '+string(Dp)+' cm^2/s')//calculation\n",
"Lp=(sqrt(Dp*t))\n",
"disp('Diffusion length,Lp=(sqrt(Dp*t)))= '+string(Lp)+' cm')//calculation\n",
"px=(po+(Po*exp(-x/Lp)))\n",
"disp('Excess charge generated,p(x)=(po+(P(o)*exp(-x/Lp)))= '+string(px)+' cm^-3')//calculation\n",
"Efi_Efp=(Vt*log(px/no))\n",
"disp('Fermi level,Efi_Efp=(Vt*log(p(x)/no)))= '+string(Efi_Efp)+' eV')//calculation"
   ]
   }
,
{
		   "cell_type": "markdown",
		   "metadata": {},
		   "source": [
			"## Example 3.11: HOLE_CURRENT_AND_STORED_EXCESS_HOLE_CHARGES.sce"
		   ]
		  },
  {
"cell_type": "code",
	   "execution_count": null,
	   "metadata": {
	    "collapsed": true
	   },
	   "outputs": [],
"source": [
"clc\n",
"A=0.1*10^-4\n",
"disp('A = '+string(A)+' cm^2') //initializing value of area.\n",
"Dp=7.77*10^-4\n",
"disp('Dp= '+string(Dp)+' cm^2/s') //initializing value of diffusion cofficient.\n",
"Lp=0.233*10^-5\n",
"disp('Lp = '+string(Lp)+' cm') //initializing value of diffusion length.\n",
"x=500*10^-8\n",
"disp('x = '+string(x)+' cm') //initializing value of distance\n",
"P=10^17*10^6\n",
"disp('P(O)-po = '+string(P)) //initializing value of P(O)-po \n",
"e=1.6*10^-19\n",
"disp('e = '+string(e)+'column')//initializing value of charge of electron.\n",
"I=(((e*A*Dp*P)/Lp)*exp(-x/Lp))\n",
"disp('Hole current,I=(((e*A*Dp*[P(O)-po])/Lp)*exp(-x/Lp))= '+string(I)+'amphere')//calculation\n",
"Q=(e*A*Dp*Lp*P)\n",
"disp('stored excess hole ,Q=(e*A*Dp*Lp*P))= '+string(Q)+'C')//calculation\n",
"\n",
"//the value of current(I) given after calculation in the book is wrong, (as the value of Lp used in the formula while finding value of hole current (I)at two places //is used different).\n",
"//I have used the value Lp=0.233*10^-5 cm"
   ]
   }
,
{
		   "cell_type": "markdown",
		   "metadata": {},
		   "source": [
			"## Example 3.12: ELECTRONIC_CONCENTRATION_AND_MOBILITY.sce"
		   ]
		  },
  {
"cell_type": "code",
	   "execution_count": null,
	   "metadata": {
	    "collapsed": true
	   },
	   "outputs": [],
"source": [
"clc\n",
"I=2*10^-3\n",
"disp('I = '+string(I)+' amphere') //initializing value of current flowing through the sample.\n",
"B=1000*10^-4\n",
"disp('B= '+string(B)+' Tesla') //initializing value of magnetic field.\n",
"w=0.2*10^-3\n",
"disp('w = '+string(w)+' mm') //initializing value of width of sample. \n",
"l=2*10^-3\n",
"disp('l = '+string(l)+' m') //initializing value of length of sample. \n",
"t=0.02*10^-3\n",
"disp('t = '+string(t)+' m') //initializing value of thickness of sample. \n",
"Vaa=10\n",
"disp('Vaa = '+string(Vaa)+' V') //initializing value of applied voltage.\n",
"Vh=-10*10^-3\n",
"disp('Vh = '+string(Vh)+' V') //initializing value of hall voltage.\n",
"e=1.6*10^-19\n",
"disp('e = '+string(e)+' columb') //initializing value of charge of electron.\n",
"n=((I*B)/(e*t*Vh))\n",
"disp('electron concentration,n=((I*B)/(e*t*Vh))= '+string(n)+' m^-3')//calculation\n",
"un=(I*l/(e*abs(n)*Vaa*w*t))\n",
"disp('mobility,un=(I*L/(e*n*Vaa*w*t))= '+string(un)+' m^2/Vs')//calculation"
   ]
   }
,
{
		   "cell_type": "markdown",
		   "metadata": {},
		   "source": [
			"## Example 3.14: INDUCED_ELECTRIC_FIELD.sce"
		   ]
		  },
  {
"cell_type": "code",
	   "execution_count": null,
	   "metadata": {
	    "collapsed": true
	   },
	   "outputs": [],
"source": [
"clc\n",
"disp('ND_x = ((10^17)-(10^18*x))') //donor concentration in an N type semiconductor\n",
"disp('differentiating above equation with resprct to x')\n",
"disp('d[ND_x]/dx = (-10^18) cm^-4')\n",
"disp('now, electric field is given by ')\n",
"disp('E_x = -(VT/ND_x)*(d[ND_x]/dx) = (0.0259*10^18)/((10^15)-(10^18*x))')// equation for electric field\n",
"disp('for x = 0')\n",
"x = 0\n",
"E_x = (0.0259*10^18)/((10^15)-(10^18*x))\n",
"disp('E_x = '+string(E_x)+'V/cm')\n",
"disp('for x = 1*10^-4 cm')\n",
"x = 1*10^-4\n",
"E_x = (0.0259*10^18)/((10^15)-(10^18*x))\n",
"disp('E_x = '+string(E_x)+'V/cm')"
   ]
   }
,
{
		   "cell_type": "markdown",
		   "metadata": {},
		   "source": [
			"## Example 3.17: ELECTRON_AND_HOLE_CONCENTRATION_AND_DRIFT_CURRENT_DENSITY.sce"
		   ]
		  },
  {
"cell_type": "code",
	   "execution_count": null,
	   "metadata": {
	    "collapsed": true
	   },
	   "outputs": [],
"source": [
"clc\n",
"Nd=10^17\n",
"disp('Nd = '+string(Nd)+' /cm^3') //initializing value of donor concentration.\n",
"Na=0\n",
"disp('Na= '+string(Na)+' /cm^3') //initializing value of acceptor concentration.\n",
"no=1.8*10^6\n",
"disp('no = '+string(no)+' /cm^3') //initializing value of electron and hole concentration per cm^3.\n",
"E=5\n",
"disp('E = '+string(E)+' V/cm') ////initializing value of electric field. \n",
"un=7500\n",
"disp('un = '+string(un)+' cm^2/s') ////initializing value of mobility. \n",
"n1=10^17\n",
"disp('n1= '+string(n1)+' cm^-3') //initializing value of impurity concentration.\n",
"e=1.6*10^-19\n",
"disp('e = '+string(e)+' columb') //initializing value of charge of electron.\n",
"n=(-(Na-Nd)+sqrt((Na-Nd)^2+4*no))/2\n",
"disp('Electron concentration,n=(-(Na-Nd)+sqrt((Na-Nd)^2+4*no))/2)= '+string(n)+' cm^-3')//calculation\n",
"p=(no^2/n)\n",
"disp('Hole concentration,p=(no^2/n))= '+string(p)+' cm^-3')//calculation\n",
"Jdrift=n1*un*e*E\n",
"disp('Drift current density,Jdrift=n1*un*e*E)= '+string(Jdrift)+' A/cm^2')//calculation"
   ]
   }
,
{
		   "cell_type": "markdown",
		   "metadata": {},
		   "source": [
			"## Example 3.18: ELECTRON_AND_HOLE_CONCENTRATION_AND_DRIFT_CURRENT_DENSITY.sce"
		   ]
		  },
  {
"cell_type": "code",
	   "execution_count": null,
	   "metadata": {
	    "collapsed": true
	   },
	   "outputs": [],
"source": [
"clc\n",
"Nd=0\n",
"disp('Nd = '+string(Nd)+' /cm^3') //initializing value of donor concentration.\n",
"Na=10^17\n",
"disp('Na= '+string(Na)+' /cm^3') //initializing value of acceptor concentration.\n",
"no=1.8*10^6\n",
"disp('no = '+string(no)+' /cm^3') //initializing value of electron and hole concentration per cm^3.\n",
"E=10\n",
"disp('E = '+string(E)+' V/cm') ////initializing value of electric field. \n",
"un=200\n",
"disp('un = '+string(un)+' cm^2/s') ////initializing value of mobility. \n",
"p1=10^17\n",
"disp('p1= '+string(p1)+' cm^-3') //initializing value of impurity concentration.\n",
"e=1.6*10^-19\n",
"disp('e = '+string(e)+' columb') //initializing value of charge of electron.\n",
"p=-(-(Na-Nd)-sqrt((Na-Nd)^2+4*(no^2)))/2\n",
"disp('Electron concentration,p=-(-(Na-Nd)-sqrt((Na-Nd)^2+4*(no^2)))/2= '+string(p)+' cm^-3')//calculation\n",
"n=(no^2/p)\n",
"disp('Hole concentration,n=(no^2/p))= '+string(n)+' cm^-3')//calculation\n",
"Jdrift=p1*un*e*E\n",
"disp('Drift current density,Jdrift=n1*un*e*E)= '+string(Jdrift)+' A/cm^2')//calculation"
   ]
   }
,
{
		   "cell_type": "markdown",
		   "metadata": {},
		   "source": [
			"## Example 3.19: VALUE_OF_THERMAL_EQUILIBRIUM_HOLE_CONCENTRATION.sce"
		   ]
		  },
  {
"cell_type": "code",
	   "execution_count": null,
	   "metadata": {
	    "collapsed": true
	   },
	   "outputs": [],
"source": [
"clc\n",
"D=120\n",
"disp('D = '+string(D)+' A/cm^2') //initializing value of drift current density.\n",
"E=5\n",
"disp('E = '+string(E)+' V/cm') //initializing value of electric field.\n",
"e=1.6*10^-19\n",
"disp('e = '+string(e)+' columb') //initializing value of charge of electron.\n",
"p=(D/(450*e*E))\n",
"disp('thermal equilibrium value of hole concentration ,p=(D/(450*e*E)))= '+string(p)+' /cm^3')//calculation\n",
""
   ]
   }
,
{
		   "cell_type": "markdown",
		   "metadata": {},
		   "source": [
			"## Example 3.1: VALUE_OF_HALL_ELECTRIC_FIELD.sce"
		   ]
		  },
  {
"cell_type": "code",
	   "execution_count": null,
	   "metadata": {
	    "collapsed": true
	   },
	   "outputs": [],
"source": [
"clc\n",
"I=5*10^-3\n",
"disp('I = '+string(I)+' amphere') //initializing value of current flowing through the sample.\n",
"B=1*10^-6\n",
"disp('B= '+string(B)+' Tesla') //initializing value of magnetic field.\n",
"w=0.01*10^-2\n",
"disp('w = '+string(w)+' m') //initializing value of width of germanium sample. \n",
"l=0.1*10^-2\n",
"disp('l = '+string(l)+' m') ////initializing value of length of germanium sample. \n",
"t=0.001*10^-2\n",
"disp('t = '+string(t)+' m') ////initializing value of thickness of germanium sample. \n",
"p=10^17\n",
"disp('p = '+string(p)+' atoms/m^3') //initializing value of doped acceptor atoms.\n",
"e=1.6*10^-19\n",
"disp('e = '+string(e)+' columb') //initializing value of charge of electron.\n",
"EH=(I*B)/(w*t*p*e)\n",
"disp('Hall electric field,EH=(I*B)/(w*t*p*e)= '+string(EH)+' V/m')//calculation\n",
"E=EH*10^-2 \n",
"disp('Hall electric field in centimeter,EH=(I*B)/(w*t*p*e)= '+string(E)+' V/cm')//calculation"
   ]
   }
,
{
		   "cell_type": "markdown",
		   "metadata": {},
		   "source": [
			"## Example 3.20: CURRENT_THROUGH_THE_BAR.sce"
		   ]
		  },
  {
"cell_type": "code",
	   "execution_count": null,
	   "metadata": {
	    "collapsed": true
	   },
	   "outputs": [],
"source": [
"clc\n",
"Nd=5*10^16\n",
"disp('Nd = '+string(Nd)+' /cm^3') //initializing value of donor concentration.\n",
"A=50*10^-8\n",
"disp('A= '+string(A)+' cm^2') //initializing value of area.\n",
"l=0.2\n",
"disp('l = '+string(l)+' /cm') //initializing value of length. \n",
"E=10\n",
"disp('E = '+string(E)+' V') //initializing value of electric field. \n",
"up=1100\n",
"disp('un = '+string(up)+' cm^2/s') //initializing value of mobility. \n",
"p=5*10^16\n",
"disp('p= '+string(p)+' /cm^-3') //initializing value of impurity concentration.\n",
"e=1.6*10^-19\n",
"disp('e = '+string(e)+' columb') //initializing value of charge of electron.\n",
"I=(p*up*e*E*A)/l\n",
"disp('Current through the bar,I=(p*up*e*E*A)/l)= '+string(I)+'A')//calculation"
   ]
   }
,
{
		   "cell_type": "markdown",
		   "metadata": {},
		   "source": [
			"## Example 3.2: VALUE_OF_HALL_COFFICIENT.sce"
		   ]
		  },
  {
"cell_type": "code",
	   "execution_count": null,
	   "metadata": {
	    "collapsed": true
	   },
	   "outputs": [],
"source": [
"clc\n",
"I=5*10^-3\n",
"disp('I = '+string(I)+' amphere') //initializing value of current flowing through the sample.\n",
"B=1*10^-6\n",
"disp('B= '+string(B)+' Tesla') //initializing value of magnetic field.\n",
"w=0.01*10^-2\n",
"disp('w = '+string(w)+' m') //initializing value of width of germanium sample. \n",
"l=0.1*10^-2\n",
"disp('l = '+string(l)+' m') //initializing value of length of germanium sample. \n",
"t=0.001*10^-2\n",
"disp('t = '+string(t)+' m') //initializing value of thickness of germanium sample. \n",
"p=10^17\n",
"disp('p = '+string(p)+' atoms/cm^3') //initializing value of doped acceptor atoms.\n",
"e=1.6*10^-19\n",
"disp('e = '+string(e)+' columb') //initializing value of charge of electron.\n",
"Rh=(1/(p*e))\n",
"disp('hall cofficient,Rh=(1/(p*e))= '+string(Rh)+' cm^3/C')//calculation"
   ]
   }
,
{
		   "cell_type": "markdown",
		   "metadata": {},
		   "source": [
			"## Example 3.3: VALUE_OF_HALL_VOLTAGE.sce"
		   ]
		  },
  {
"cell_type": "code",
	   "execution_count": null,
	   "metadata": {
	    "collapsed": true
	   },
	   "outputs": [],
"source": [
"clc\n",
"I=10*10^-3\n",
"disp('I = '+string(I)+' amphere') //initializing value of current flowing through the sample.\n",
"B=10*10^-6\n",
"disp('B= '+string(B)+' Tesla') //initializing value of magnetic field.\n",
"w=0.01*10^-2\n",
"disp('w = '+string(w)+' m') //initializing value of width of germanium sample. \n",
"l=0.1*10^-2\n",
"disp('l = '+string(l)+' m') //initializing value of length of germanium sample. \n",
"t=0.001*10^-2\n",
"disp('t = '+string(t)+' m') //initializing value of thickness of germanium sample. \n",
"n=10^16\n",
"disp('n = '+string(n)+' atoms/cm^3') //initializing value of doped donor atoms.\n",
"e=1.6*10^-19\n",
"disp('e = '+string(e)+' columb') //initializing value of charge of electron.\n",
"Vh=((I*B)/(n*e*t))\n",
"disp('Hall voltage,Vh=((I*B)/(n*e*t)))= '+string(Vh)+' V')//calculation"
   ]
   }
,
{
		   "cell_type": "markdown",
		   "metadata": {},
		   "source": [
			"## Example 3.4: VALUE_OF_HALL_RESISTANCE.sce"
		   ]
		  },
  {
"cell_type": "code",
	   "execution_count": null,
	   "metadata": {
	    "collapsed": true
	   },
	   "outputs": [],
"source": [
"clc\n",
"I=10*10^-3\n",
"disp('I = '+string(I)+' amphere') //initializing value of current flowing through the sample.\n",
"B=10*10^-6\n",
"disp('B= '+string(B)+' Tesla') //initializing value of magnetic field.\n",
"w=0.01*10^-2\n",
"disp('w = '+string(w)+' m') //initializing value of width of germanium sample. \n",
"l=0.1*10^-2\n",
"disp('l = '+string(l)+' m') ////initializing value of length of germanium sample. \n",
"t=0.001*10^-2\n",
"disp('t = '+string(t)+' m') ////initializing value of thickness of germanium sample. \n",
"p=10^18\n",
"disp('p = '+string(p)+' atoms/cm^3') //initializing value of doped donor atoms.\n",
"e=1.6*10^-19\n",
"disp('e = '+string(e)+' columb') //initializing value of charge of electron.\n",
"Yh=((B)/(p*e*t))\n",
"disp('Hall voltage,Yh=((B)/(p*e*t)))= '+string(Yh)+' ohm')//calculation"
   ]
   }
,
{
		   "cell_type": "markdown",
		   "metadata": {},
		   "source": [
			"## Example 3.8: MINIMUM_CONDUCTIVITY_AND_MAXIMUM_RESISTIVITY.sce"
		   ]
		  },
  {
"cell_type": "code",
	   "execution_count": null,
	   "metadata": {
	    "collapsed": true
	   },
	   "outputs": [],
"source": [
"clc\n",
"no=1.5*10^10\n",
"disp('no = '+string(no)) //initializing value of electron hole per cm^3.\n",
"n=2*10^16\n",
"disp('n= '+string(n)) //initializing value of number of electrons per cm^3.\n",
"un=1200\n",
"disp('un = '+string(un)) //initializing value of mobility of n-type carrier. \n",
"up=500\n",
"disp('up = '+string(up)) ////initializing value of mobility of p-type carrier. \n",
"e=1.6*10^-19\n",
"disp('e = '+string(e)+' columb') //initializing value of charge of electron.\n",
"p=(1/(2*e*no*(sqrt(un*up))))\n",
"disp('resistivity ,p=(1/(2*e*no*(sqrt(un/up))))= '+string(p)+' ohm')//calculation\n",
"sigmamin=(1/p)\n",
"disp('conductivity ,s=(1/p))= '+string(sigmamin)+' S/cm')//calculation\n",
"sigma=e*no*(un+up)\n",
"disp('intrinsic conductivity ,sigma=e*no*(un+up))= '+string(sigma)+' S/cm')//calculation"
   ]
   }
],
"metadata": {
		  "kernelspec": {
		   "display_name": "Scilab",
		   "language": "scilab",
		   "name": "scilab"
		  },
		  "language_info": {
		   "file_extension": ".sce",
		   "help_links": [
			{
			 "text": "MetaKernel Magics",
			 "url": "https://github.com/calysto/metakernel/blob/master/metakernel/magics/README.md"
			}
		   ],
		   "mimetype": "text/x-octave",
		   "name": "scilab",
		   "version": "0.7.1"
		  }
		 },
		 "nbformat": 4,
		 "nbformat_minor": 0
}
