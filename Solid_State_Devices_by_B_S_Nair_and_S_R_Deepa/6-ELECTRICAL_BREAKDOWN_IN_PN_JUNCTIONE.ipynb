{
"cells": [
 {
		   "cell_type": "markdown",
	   "metadata": {},
	   "source": [
       "# Chapter 6: ELECTRICAL BREAKDOWN IN PN JUNCTIONE"
	   ]
	},
{
		   "cell_type": "markdown",
		   "metadata": {},
		   "source": [
			"## Example 6.10: VALUE_OF_REVERSE_BREAK_DOWN_VOLTAGE.sce"
		   ]
		  },
  {
"cell_type": "code",
	   "execution_count": null,
	   "metadata": {
	    "collapsed": true
	   },
	   "outputs": [],
"source": [
"clc\n",
"Er=11.9\n",
"disp('Er = '+string(Er)) //initializing value of relative dielectric permittivity constant.\n",
"Eo=8.854*10^-14\n",
"disp('Eo = '+string(Eo)+' F/cm') //initializing value of permittivity of free space.\n",
"e=1.6*10^-19\n",
"disp('e = '+string(e)+' columns') //initializing value of charge of electrons.\n",
"no=1.5*10^10\n",
"disp('no = '+string(no)+'cm^-3') //initializing value of intrinsic concentration of electrons.\n",
"Emax=10^6\n",
"disp('Emax = '+string(Emax)+' V/cm') //initializing value of maximum critical electric field..\n",
"Nd=1*10^18\n",
"disp('Nd='+string(Nd)+' cm^-3')//initializing the value of donor concentration.\n",
"Na=1*10^18\n",
"disp('Na='+string(Na)+' cm^-3')//initializing the value of acceptor concentration.\n",
"Vt=0.0259\n",
"disp('Vt = '+string(Vt)+' eV') //initializing value of thermal voltage.\n",
"VBI=(Vt*(log(Na*Nd/no^2)))\n",
"disp('VBI=(Vt*(log(Na*Nd/no^2))) = '+string(VBI)+' V') // calculation.\n",
"E=Eo*Er\n",
"disp('total permittivity,E=Eo*Er)='+string(E)+' F/cm')//calculation\n",
"V=(E*Emax^2)/(e*Nd)\n",
"disp('breakdown voltage for symetrical abrupt junction,VBD+VBI=(E*Emax^2)/(e*Nd))='+string(V)+' V')//calculation\n",
"VBD=V-VBI\n",
"disp('VBD=V-VBI)='+string(VBD)+' V')//calculation\n",
""
   ]
   }
,
{
		   "cell_type": "markdown",
		   "metadata": {},
		   "source": [
			"## Example 6.11: VALUE_OF_REVERSE_BREAK_DOWN_VOLTAGE.sce"
		   ]
		  },
  {
"cell_type": "code",
	   "execution_count": null,
	   "metadata": {
	    "collapsed": true
	   },
	   "outputs": [],
"source": [
"clc\n",
"Nd=1*10^18\n",
"disp('Nd = '+string(Nd)+' cm^-3') //initializing value of donor concentration.\n",
"Na=-1*10^18\n",
"disp('Na = '+string(Na)+' cm^3') //initializing value of acceptor concentration.\n",
"Er=11.9\n",
"disp('Er = '+string(Er)) //initializing value of relative dielectric permittivity constant .\n",
"Eo=8.854*10^-14\n",
"disp('Eo = '+string(Eo)+' F/cm') //initializing value of dielectric constant of free space.\n",
"e=1.6*10^-19\n",
"disp('e = '+string(e)+' columns') //initializing value of charge of electrons.\n",
"Vt=0.0259\n",
"disp('Vt = '+string(Vt)+' eV') //initializing value of thermal voltage.\n",
"Vbd=15\n",
"disp('Vbd = '+string(Vbd)+' eV') //initializing value of break down voltage.\n",
"W=2*10^-4\n",
"disp('W = '+string(W)+' cm') //initializing value of the distance over which doping profile varies.\n",
"E=Eo*Er\n",
"disp('total permittivity,E=Eo*Er)='+string(E)+' F/cm')//calculation\n",
"a=((Nd-Na)/(W))\n",
"disp('slope of doping profile curve,a=((Nd-Na)/(W))='+string(a)+' cm^-4')//calculation\n",
"Emax=(((Vbd)^2)*9*e*a/(32*E))^(1/3)\n",
"disp('Emax=(((Vbd)^2)*9*e*a/(32*E))^(1/3)='+string(Emax)+' V/cm')//calculation"
   ]
   }
,
{
		   "cell_type": "markdown",
		   "metadata": {},
		   "source": [
			"## Example 6.12: EX6_12.sce"
		   ]
		  },
  {
"cell_type": "code",
	   "execution_count": null,
	   "metadata": {
	    "collapsed": true
	   },
	   "outputs": [],
"source": [
"clc\n",
"Ew=4.55\n",
"disp('Ew = '+string(Ew)+' V') //initializing value of work function of tungusten.\n",
"X=4.01\n",
"disp('X = '+string(X)+'V') //initializing value of electron effinity of silicon.\n",
"Er=11.9\n",
"disp('Er = '+string(Er)) //initializing value of relative dielectric permittivity constant.\n",
"Eo=8.854*10^-14\n",
"disp('Eo = '+string(Eo)+' F/cm') //initializing value of permittivity of free space.\n",
"e=1.6*10^-19\n",
"disp('e = '+string(e)+' columns') //initializing value of charge of electrons.\n",
"Nc=2.8*10^19\n",
"disp('Nc = '+string(Nc)+'/cm^-3') //initializing value of effective density of state in the conduction band.\n",
"Nd=10^17\n",
"disp('Nd = '+string(Nd)+'/cm^-3') //initializing value of donor concentration.\n",
"Vt=0.0259\n",
"disp('Vt = '+string(Vt)+' eV') //initializing value of thermal voltage.\n",
"VB=(Ew-X)\n",
"disp('Barrier height,VB=(Ew-X) = '+string(VB)+' V') // calculation.\n",
"Ec_Ef=(Vt*log(Nc/Nd))\n",
"disp('Ec_Ef=(Vt*log(Nc/Nd))='+string(Ec_Ef)+' V')//calculation\n",
"VBI=(VB-(Ec_Ef))\n",
"disp('VBI=(VB-(Ec_Ef))='+string(VBI)+' V')//calculation\n",
"xn=sqrt(2*Eo*Er*VBI/(e*Nd))\n",
"disp('Depletion width,xn=sqrt(2*Eo*Er*VBI/(e*Nd))='+string(xn)+' cm')//calculation\n",
"Emax=(e*Nd*xn/(Eo*Er))\n",
"disp('maximum electric field,Emax=(e*Nd*xn/(Eo*Er))='+string(Emax)+' V/cm')//calculation\n",
"\n",
"\n",
"\n",
""
   ]
   }
,
{
		   "cell_type": "markdown",
		   "metadata": {},
		   "source": [
			"## Example 6.13: VALUE_OF_MAXIMUM_ELECTRIAL_FIELD_AND_JUNCTION_CAPACITANCE_PER_UNIT_AREA.sce"
		   ]
		  },
  {
"cell_type": "code",
	   "execution_count": null,
	   "metadata": {
	    "collapsed": true
	   },
	   "outputs": [],
"source": [
"clc\n",
"Ew=4.5\n",
"disp('Ew = '+string(Ew)+' V') //initializing value of work function of tungusten.\n",
"X=4.01\n",
"disp('X = '+string(X)+'V') //initializing value of electron effinity of silicon.\n",
"Er=12\n",
"disp('Er = '+string(Er)) //initializing value of relative dielectric permittivity constant.\n",
"Eo=8.854*10^-14\n",
"disp('Eo = '+string(Eo)+' F/cm') //initializing value of permittivity of free space.\n",
"Vr=3\n",
"disp('Vr = '+string(Vr)+' V') //initializing value of  reverse voltage.\n",
"e=1.6*10^-19\n",
"disp('e = '+string(e)+' columns') //initializing value of charge of electrons.\n",
"Nc=2.8*10^19\n",
"disp('Nc = '+string(Nc)+'/cm^-3') //initializing value of effective density of state in the conduction band.\n",
"Nd=10^17\n",
"disp('Nd = '+string(Nd)+'/cm^-3') //initializing value of donor concentration.\n",
"Vt=0.0259\n",
"disp('Vt = '+string(Vt)+' eV') //initializing value of thermal voltage.\n",
"VB=(Ew-X)\n",
"disp('barrier height,VB=(Ew-X) = '+string(VB)+' V') // calculation.\n",
"Ec_Ef=(Vt*log(Nc/Nd))\n",
"disp('Ec_Ef=(Vt*log(Nc/Nd))='+string(Ec_Ef)+' V')//calculation\n",
"VBI=(VB-(Ec_Ef))\n",
"disp('VBI=(VB-(Ec_Ef))='+string(VBI)+' V')//calculation\n",
"xn=sqrt((2*Eo*Er*(VBI+Vr))/(e*Nd))\n",
"disp('Depletion width,xn=sqrt(2*Eo*Er*(VBI+Vr)/(e*Nd))='+string(xn)+' cm')//calculation\n",
"Emax=(e*Nd*xn/(Eo*Er))\n",
"disp('maximum electric field,Emax=(e*Nd*xn/(Eo*Er))='+string(Emax)+' V/cm')//calculation\n",
"C=sqrt((e*Eo*Er*Nd)/(2*(VBI+Vr)))\n",
"disp('Capitance per unit area,C=sqrt((e*Eo*Er*Nd)/(2*(VBI+Vr)))='+string(C)+' F/cm^2')//calculation\n",
"//the Value of reverse voltage(Vr) provided in the question is different than used in the solution.I have used the value provided in the solution(i.e Vr=3). \n",
"//the value of C (Capitance per unit area) after calculation is provided wrong in the book.\n",
"\n",
"\n",
"\n",
"\n",
"\n",
"\n",
""
   ]
   }
,
{
		   "cell_type": "markdown",
		   "metadata": {},
		   "source": [
			"## Example 6.14: VALUE_OF_VB_Xn_AND_Emax.sce"
		   ]
		  },
  {
"cell_type": "code",
	   "execution_count": null,
	   "metadata": {
	    "collapsed": true
	   },
	   "outputs": [],
"source": [
"clc\n",
"Ew=4.28\n",
"disp('Ew = '+string(Ew)+' V') //initializing value of work function of tungusten.\n",
"X=4.01\n",
"disp('X = '+string(X)+'V') //initializing value of electron effinity of silicon.\n",
"Er=11.9\n",
"disp('Er = '+string(Er)) //initializing value of relative dielectric permittivity constant.\n",
"Eo=8.854*10^-14\n",
"disp('Eo = '+string(Eo)+' F/cm') //initializing value of permittivity of free space.\n",
"e=1.6*10^-19\n",
"disp('e = '+string(e)+' columns') //initializing value of charge of electrons.\n",
"Nc=2.8*10^19\n",
"disp('Nc = '+string(Nc)+'/cm^-3') //initializing value of effective density of state in the conduction band.\n",
"Nd=10^15\n",
"disp('Nd = '+string(Nd)+'/cm^-3') //initializing value of donor concentration.\n",
"Vt=0.0259\n",
"disp('Vt = '+string(Vt)+' eV') //initializing value of thermal voltage.\n",
"VB=(Ew-X)\n",
"disp('barrier height,VB=(Ew-X) = '+string(VB)+' V') // calculation.\n",
"Ec_Ef=(Vt*log(Nc/Nd))\n",
"disp('Ec_Ef=(Vt*log(Nc/Nd))='+string(Ec_Ef)+' V')//calculation\n",
"VBI=(VB-(Ec_Ef))\n",
"disp('VBI=(VB-(Ec_Ef))='+string(VBI)+' V')//calculation\n",
"xn=sqrt(2*Eo*Er*VBI/(e*Nd))\n",
"disp('Depletion width,xn=sqrt(2*Eo*Er*VBI/(e*Nd))='+string(xn)+' cm')//calculation\n",
"Emax=(e*Nd*xn/(Eo*Er))\n",
"disp('maximum electric field,Emax=(e*Nd*xn/(Eo*Er))='+string(Emax)+' V/cm')//calculation\n",
"\n",
"//the Value of donor concentration (Nd) provided in the question is different than used in the solution.I have used the value provided in the question(i.e Nd=10^15). ,i.e answer differs than provided in the book."
   ]
   }
,
{
		   "cell_type": "markdown",
		   "metadata": {},
		   "source": [
			"## Example 6.15: CAPACITANCE_OF_A_GOLD_SILICON_JUNCTION.sce"
		   ]
		  },
  {
"cell_type": "code",
	   "execution_count": null,
	   "metadata": {
	    "collapsed": true
	   },
	   "outputs": [],
"source": [
"clc\n",
"Ew=5.1\n",
"disp('Ew = '+string(Ew)+' V') //initializing value of work function of tungusten.\n",
"X=4.01\n",
"disp('X = '+string(X)+'V') //initializing value of electron effinity of silicon.\n",
"Er=11.9\n",
"disp('Er = '+string(Er)) //initializing value of relative dielectric permittivity constant.\n",
"Eo=8.854*10^-14\n",
"disp('Eo = '+string(Eo)+' F/cm') //initializing value of permittivity of free space.\n",
"e=1.6*10^-19\n",
"disp('e = '+string(e)+' columns') //initializing value of charge of electrons.\n",
"Nc=2.8*10^19\n",
"disp('Nc = '+string(Nc)+'/cm^-3') //initializing value of effective density of state in the conduction band.\n",
"Nd=5*10^15\n",
"disp('Nd = '+string(Nd)+'/cm^-3') //initializing value of donor concentration.\n",
"Vt=0.0259\n",
"disp('Vt = '+string(Vt)+' eV') //initializing value of thermal voltage.\n",
"Vr=5\n",
"disp('Vr = '+string(Vr)+' V') //initializing value of  reverse voltage.\n",
"A=1*10^-4\n",
"disp('A = '+string(A)+' cm^2') //initializing value of area of the gold silicon junction diode..\n",
"VB=(Ew-X)\n",
"disp('barrier height,VB=(Ew-X) = '+string(VB)+' V') // calculation.\n",
"Ec_Ef=(Vt*log(Nc/Nd))\n",
"disp('Ec_Ef=(Vt*log(Nc/Nd))='+string(Ec_Ef)+' V')//calculation\n",
"VBI=(VB-(Ec_Ef))\n",
"disp('VBI=(VB-(Ec_Ef))='+string(VBI)+' V')//calculation\n",
"C1=sqrt((e*Eo*Er*Nd)/(2*(VBI+Vr)))\n",
"disp('Capitance per unit area,C1=sqrt((e*Eo*Er*Nd)/(2*(VBI+Vr)))='+string(C1)+' F/cm^2')//calculation\n",
"C=C1*A\n",
"disp('total junction capatiance,C=C1*A='+string(C)+' F')//calculation"
   ]
   }
,
{
		   "cell_type": "markdown",
		   "metadata": {},
		   "source": [
			"## Example 6.17: VALUE_OF_LOWERING_OF_BARRIER_HEIGHT.sce"
		   ]
		  },
  {
"cell_type": "code",
	   "execution_count": null,
	   "metadata": {
	    "collapsed": true
	   },
	   "outputs": [],
"source": [
"clc\n",
"Er=13.1\n",
"disp('Er = '+string(Er)) //initializing value of relative dielectric permittivity constant.\n",
"Eo=8.854*10^-14\n",
"disp('Eo = '+string(Eo)+' F/cm') //initializing value of permittivity of free space.\n",
"e=1.6*10^-19\n",
"disp('e = '+string(e)+' columns') //initializing value of charge of electrons.\n",
"Emax=30*10^3\n",
"disp('Emax = '+string(Emax)+' V/cm') //initializing value of maximum critical electric field..\n",
"E=Eo*Er\n",
"disp('total permittivity,E=Eo*Er)='+string(E)+' F/cm')//calculation\n",
"V=sqrt(e*Emax/(4*%pi*E))\n",
"disp('lowering of the barrier height,V=sqrt(e*Emax/(4*%pi*E))='+string(V)+' V')//calculation\n",
"Xmax=sqrt(e/(16*%pi*E*Emax))\n",
"disp('position of the maximum barrier height,Xmax=sqrt(e/(16*%pi*E*Emax))='+string(Xmax)+' cm')//calculation"
   ]
   }
,
{
		   "cell_type": "markdown",
		   "metadata": {},
		   "source": [
			"## Example 6.18: VALUE_OF_IDEAL_REVERSE_SATURATION_CURRENT_AND_THE_DIODE_CURRENT.sce"
		   ]
		  },
  {
"cell_type": "code",
	   "execution_count": null,
	   "metadata": {
	    "collapsed": true
	   },
	   "outputs": [],
"source": [
"clc\n",
"A=10^-4\n",
"disp('A = '+string(A)+' cm^-2') //initializing value of cross sectional area.\n",
"VBn=0.55\n",
"disp('VBn = '+string(VBn)+'V') //initializing value of barrier height.\n",
"T=300\n",
"disp('T = '+string(T)+'K') //initializing value of absolute temperature.\n",
"R=110\n",
"disp('R = '+string(R)+' A/(K-cm^2)') //initializing value of richardson's constant.\n",
"Vt=0.0259\n",
"disp('Vt = '+string(Vt)+' eV') //initializing value of thermal voltage.\n",
"V=0.25\n",
"disp('V = '+string(V)+' V') //initializing value of forward bias voltage.\n",
"Io=A*R*T^2*exp(-VBn/Vt)\n",
"disp('reverse saturation current,Io=A*R*T^2*exp(-VBn/Vt) = '+string(Io)+' A') // calculation.\n",
"I=Io*((exp(V/Vt))-1)\n",
"disp('diode current,I=Io(exp(V/Vt)-1)='+string(I)+' A')//calculation"
   ]
   }
,
{
		   "cell_type": "markdown",
		   "metadata": {},
		   "source": [
			"## Example 6.19: VALUE_OF_FORWARD_VOLTAGE.sce"
		   ]
		  },
  {
"cell_type": "code",
	   "execution_count": null,
	   "metadata": {
	    "collapsed": true
	   },
	   "outputs": [],
"source": [
"clc\n",
"Io1=10^-9\n",
"disp('Io1 = '+string(Io1)+' A') //initializing value of reverse saturation current of silicon SBD.\n",
"Io2=10^-14\n",
"disp('Io2 = '+string(Io2)+'A') //initializing value of reverse saturation current of a PN junction.\n",
"Vt=0.0259\n",
"disp('Vt = '+string(Vt)+' eV') //initializing value of thermal voltage.\n",
"I=100*10^-6\n",
"disp('I = '+string(I)+' A') //initializing value of required current.\n",
"VfSBD=Vt*((log(I/Io1+1)))\n",
"disp('forward Voltage for silicon SBD,VfSBD=Vt*((log(I/Io1+1)))= '+string(VfSBD)+' V') // calculation.\n",
"VfPN=Vt*((log(I/Io2+1)))\n",
"disp('forward Voltage for silicon SBD,VfPN=Vt*((log(I/Io2+1)))='+string(VfPN)+' V')//calculation"
   ]
   }
,
{
		   "cell_type": "markdown",
		   "metadata": {},
		   "source": [
			"## Example 6.20: VALUE_OF_REVERSE_SATURATION_CURRENT.sce"
		   ]
		  },
  {
"cell_type": "code",
	   "execution_count": null,
	   "metadata": {
	    "collapsed": true
	   },
	   "outputs": [],
"source": [
"clc\n",
"Io1=10*10^-7\n",
"disp('Io1 = '+string(Io1)+' A') //initializing value of reverse saturation current of silicon SBD.\n",
"Io2=10*10^-7\n",
"disp('Io2 = '+string(Io2)+'A') //initializing value of reverse saturation current of a PN junction.\n",
"Vt=0.0259\n",
"disp('Vt = '+string(Vt)+' eV') //initializing value of thermal voltage.\n",
"I=1*10^-3\n",
"disp('I = '+string(I)+' A') //initializing value of forward current.\n",
"V=0.25\n",
"disp('V = '+string(V)+' V') //initializing value of difference in the forward voltage of the two diode.\n",
"VfSBD=Vt*((log(I/Io1+1)))\n",
"disp('forward Voltage for silicon SBD,VfSBD=Vt*((log(I/Io1+1)))= '+string(VfSBD)+' V') // calculation.\n",
"VfPN=(V+VfSBD)\n",
"disp('forward volage applied across the PN Diode,VfPN=(V+VfSBD)='+string(VfPN)+' V')//calculation\n",
"Io=(I/((exp(VfPN/Vt))-1))\n",
"disp('reverse saturation current of the PN junction Diode,Io=(I/((exp(VfPN/Vt))-1))='+string(Io)+' A')//calculation"
   ]
   }
,
{
		   "cell_type": "markdown",
		   "metadata": {},
		   "source": [
			"## Example 6.2: VALUE_OF_Eg_Ev_Ec_and_Vbi.sce"
		   ]
		  },
  {
"cell_type": "code",
	   "execution_count": null,
	   "metadata": {
	    "collapsed": true
	   },
	   "outputs": [],
"source": [
"clc\n",
"X1=4.13\n",
"disp('X1 = '+string(X1)+' eV') //initializing value of eldelta_Ectron effinity of germanium.\n",
"X2=4.07\n",
"disp('X2 = '+string(X2)+' eV') //initializing value of electron effinity of gallium arsenide.\n",
"Eg1=0.7\n",
"disp('Eg1 = '+string(Eg1)+' eV') //initializing value of energy gap of germanium.\n",
"Eg2=1.43\n",
"disp('Eg2 = '+string(Eg2)+' F/cm') //initializing value of energy gap of gallium arsenide..\n",
"Nv1=6*10^18\n",
"disp('Nv1 = '+string(Nv1)+' cm^-3') //initializing value of density of states in Valence band,Nv for germanium.\n",
"Nv2=7*10^18\n",
"disp('Nv2 = '+string(Nv2)+' cm^-3') //initializing value of density of states in Valence band,Nv for galliminum arsenide.\n",
"Vt=0.0259\n",
"disp('Vt = '+string(Vt)+' eV') //initializing value of thermal voltage... Vt = K*T/e\n",
"e=1.6*10^-19\n",
"disp('e = '+string(e)+' columbs') //initializing value of electronic charge.\n",
"no=2.5*10^13\n",
"disp('no = '+string(no)+' cm^-3') //initializing value of intrinsic carrier concentration.\n",
"Pp=10^17\n",
"disp('Pp = '+string(Pp)+' cm^-3') //initializing value of hole concentration on the depletion edge of the N region.\n",
"Nd=10^17\n",
"disp('Nd = '+string(Nd)+' cm^-3') //initializing value of number of donor ions (which is equal to hole concentration on the depletion edge of the N region).\n",
"np=(no^2)/Pp\n",
"disp('np='+string(np)+' cm^-3')//calculation\n",
"delta_Eg=(Eg2-Eg1)\n",
"disp('delta_Eg=(Eg2-Eg1)='+string(delta_Eg)+' eV')//calculation\n",
"delta_Ec=(X1-X2)\n",
"disp('delta_Ec=(X1-X2)='+string(delta_Ec)+' eV')//calculation\n",
"delta_Ev=(delta_Eg-delta_Ec)\n",
"disp('delta_Ev=(delta_Eg-delta_Ec)='+string(delta_Ev)+' eV')//calculation\n",
"Vbi=((delta_Ev*1.6*10^-19)/(e))+((Vt*log((Nv1*Nd)/(np*Nv2))))\n",
"disp('Vbi=((delta_Ev*1.6*10^-19)/(e))+((Vt*log((Nv1*Nd)/(np*Nv2))))='+string(Vbi)+' V')//calculation\n",
"\n",
"\n",
"\n",
"\n",
"\n",
"\n",
""
   ]
   }
,
{
		   "cell_type": "markdown",
		   "metadata": {},
		   "source": [
			"## Example 6.4: VALUE_OF_DONOR_CONCENTRATION.sce"
		   ]
		  },
  {
"cell_type": "code",
	   "execution_count": null,
	   "metadata": {
	    "collapsed": true
	   },
	   "outputs": [],
"source": [
"clc\n",
"Nc=2.8*10^19\n",
"disp('Nc = '+string(Nc)+' cm^-3') //initializing value of effective density of state in the conduction band.\n",
"k=-4*10^15\n",
"disp('k = '+string(k)+' cm^4F^-2V^-1') //initializing value of slope of the (1/C^2) versus V curve.\n",
"Er=11.9\n",
"disp('Er = '+string(Er)) //initializing value of relative dielectric permittivity constant .\n",
"Eo=8.854*10^-14\n",
"disp('Eo = '+string(Eo)+' F/cm') //initializing value of dielectric constant of free space.\n",
"e=1.6*10^-19\n",
"disp('e = '+string(e)+' columns') //initializing value of charge of electrons.\n",
"Vt=0.0259\n",
"disp('Vt = '+string(Vt)+' eV') //initializing value of thermal voltage.\n",
"VBI=0.3\n",
"disp('VBI = '+string(VBI)+' V') //initializing value of built in  voltage.\n",
"E=Eo*Er\n",
"disp('total permittivity,E=Eo*Er ='+string(E)+' F/cm')//calculation\n",
"Nd=((-2)/(e*E)*(1/k))\n",
"disp('Nd=((-2)/(e*E)*(1/k)))='+string(Nd)+' cm^-3')//calculation\n",
"Vn=(Vt*(log(Nc/Nd)))\n",
"disp('Vn=(Vt*(log(Nc/Nd)))='+string(Vn)+' V')//calculation\n",
"VBn=(VBI+Vn)\n",
"disp('VBn=(VBI+Vn)='+string(VBn)+' V')//calculation\n",
"\n",
"\n",
"// taking ,... d(1/C^2)/dV as k,... for simlification"
   ]
   }
,
{
		   "cell_type": "markdown",
		   "metadata": {},
		   "source": [
			"## Example 6.5: VALUE_OF_THE_BARRIER_HEIGHT_AND_BUILT_IN_POTENTIAL.sce"
		   ]
		  },
  {
"cell_type": "code",
	   "execution_count": null,
	   "metadata": {
	    "collapsed": true
	   },
	   "outputs": [],
"source": [
"clc\n",
"Nd=2*10^17\n",
"disp('Nd = '+string(Nd)+'/cm^-3') //initializing value of donor concentration.\n",
"Nc=2.8*10^19\n",
"disp('Nc = '+string(Nc)+'/cm^-3') //initializing value of effective density of state in the conduction band.\n",
"Js=40*10^-6\n",
"disp('Js = '+string(Js)+'A/cm^2') //initializing value of saturation current density.\n",
"T=300\n",
"disp('T = '+string(T)+'K') //initializing value of absolute temperature.\n",
"R=110\n",
"disp('R = '+string(R)+' A/(K-cm^2)') //initializing value of richardson's constant.\n",
"Vt=0.0259\n",
"disp('Vt = '+string(Vt)+' eV') //initializing value of thermal voltage.\n",
"VBn=(Vt*(log(R*T^2/Js)))\n",
"disp('VBn = '+string(VBn)+' V') // calculation.\n",
"Vn=(Vt*(log(Nc/Nd)))\n",
"disp('Vn = '+string(Vn)+' V') // calculation.\n",
"VBI=(VBn-Vn)\n",
"disp('VBI=(VBn-Vn))='+string(VBI)+' V')//calculation\n",
"\n",
"//The value of Vn (after calculation ) is provided  wrong in the book,due to which VBI also differ. "
   ]
   }
,
{
		   "cell_type": "markdown",
		   "metadata": {},
		   "source": [
			"## Example 6.6: VALUE_OF_DEPLETION_WIDTH_DIFFUSION_LENGTH_AND_SATURATION_HOLE_CURRENT_DENSITY.sce"
		   ]
		  },
  {
"cell_type": "code",
	   "execution_count": null,
	   "metadata": {
	    "collapsed": true
	   },
	   "outputs": [],
"source": [
"clc\n",
"Nd=2*10^17\n",
"disp('Nd = '+string(Nd)+' /cm^-3') //initializing value of donor concentration.\n",
"Dp=30\n",
"disp('Dp = '+string(Dp)+' cm^2/s') //initializing value of diffusion cofficient.\n",
"Nc=2.8*10^19\n",
"disp('Nc = '+string(Nc)+' /cm^-3') //initializing value of effective density of state in the conduction band.\n",
"Js=40*10^-6\n",
"disp('Js = '+string(Js)+ 'A/cm^2') //initializing value of saturation current density.\n",
"no=1.5*10^10\n",
"disp('no = '+string(no)+' cm^-3') //initializing value of intrinsic concentration of electrons.\n",
"tp=10^-6\n",
"disp('tp = '+string(tp)+' s') //initializing value of hole life-time.\n",
"T=300\n",
"disp('T = '+string(T)+' K') //initializing value of absolute temperature.\n",
"R=110\n",
"disp('R = '+string(R)+' A/(K-cm^2)') //initializing value of richardson's constant.\n",
"Vt=0.0259\n",
"disp('Vt = '+string(Vt)+' eV') //initializing value of thermal voltage.\n",
"e=1.6*10^-19\n",
"disp('e = '+string(e)+' columbs') //initializing value of charge of electrons.\n",
"Er=11.9\n",
"disp('Er = '+string(Er)) //initializing value of relative dielectric permittivity constant .\n",
"Eo=8.854*10^-14\n",
"disp('Eo = '+string(Eo)+' F/cm') //initializing value of dielectric constant of free space.\n",
"E=Eo*Er\n",
"disp('total permittivity,E=Eo*Er)='+string(E)+' F/cm')//calculation\n",
"VBn=(Vt*(log(R*T^2/Js)))\n",
"disp('VBn = '+string(VBn)+' V') // calculation.\n",
"Vn=(Vt*(log(Nc/Nd)))\n",
"disp('Vn = '+string(Vn)+' V') // calculation.\n",
"VBI=(VBn-Vn)\n",
"disp('VBI=(VBn-Vn))='+string(VBI)+' V')//calculation\n",
"W=(sqrt((E*VBI)/(e*Nd)))\n",
"disp('current density in a metal semiconductor junction ,W = '+string(W)+' A') // calculation.\n",
"Lp=(sqrt(Dp*tp))\n",
"disp('Diffusion length,Lp=(sqrt(Dp*tp)) = '+string(Lp)+' cm') // calculation.\n",
"Jpo=(e*Dp*no^2)/(Lp*Nd)\n",
"disp('saturation hole current density,Jpo=(e*Dp*no^2)/(Lp*Nd)) = '+string(Jpo)+' A/cm^2') // calculation.\n",
"\n",
"\n",
"//The value of Vn (after calculation ) is provided  wrong in the book,due to which VBI differ and due to VBI ,current density in a metal semiconductor junction (W)gets changed. \n",
"//The value of Jpo (saturation hole current density) ,after calculation is also provided wrong in the book.\n",
"\n",
"\n",
"\n",
"\n",
"\n",
"\n",
"\n",
"\n",
"\n",
"\n",
"\n",
""
   ]
   }
,
{
		   "cell_type": "markdown",
		   "metadata": {},
		   "source": [
			"## Example 6.8: MAXIMUM_N_TYPE_DOPING_CONCENTRATION.sce"
		   ]
		  },
  {
"cell_type": "code",
	   "execution_count": null,
	   "metadata": {
	    "collapsed": true
	   },
	   "outputs": [],
"source": [
"clc\n",
"Er=11.9\n",
"disp('Er = '+string(Er)) //initializing value of relative dielectric permittivity constant.\n",
"Eo=8.854*10^-14\n",
"disp('Eo = '+string(Eo)+' F/cm') //initializing value of permittivity of free space.\n",
"VBD=20\n",
"disp('VBD = '+string(VBD)+' V') //initializing value of  break down voltage.\n",
"e=1.6*10^-19\n",
"disp('e = '+string(e)+' columns') //initializing value of charge of electrons.\n",
"E=Eo*Er\n",
"disp('total permittivity,E=Eo*Er)='+string(E)+' F/cm')//calculation\n",
"Emax=5*10^5\n",
"disp('Emax = '+string(Emax)+' V/cm') //initializing value of maximum critical electric field.\n",
"ND=(Eo*Er*(Emax^2))/(2*e*VBD)\n",
"disp('ND=(Eo*Er*(Emax^2))/(2*e*VBD)='+string(ND)+' cm^-3')//calculation\n",
"\n",
"\n",
"//the formula given in the solution for VBD is somewhat written wrong.The correct formula is (VBD=(E*Emax^2/2*e*ND))."
   ]
   }
,
{
		   "cell_type": "markdown",
		   "metadata": {},
		   "source": [
			"## Example 6.9: VALUE_OF_REVERSE_BREAK_DOWN_VOLTAGE.sce"
		   ]
		  },
  {
"cell_type": "code",
	   "execution_count": null,
	   "metadata": {
	    "collapsed": true
	   },
	   "outputs": [],
"source": [
"clc\n",
"Er=11.9\n",
"disp('Er = '+string(Er)) //initializing value of relative dielectric permittivity constant.\n",
"Eo=8.854*10^-14\n",
"disp('Eo = '+string(Eo)+' F/cm') //initializing value of permittivity of free space.\n",
"e=1.6*10^-19\n",
"disp('e = '+string(e)+' columns') //initializing value of charge of electrons.\n",
"no=1.5*10^10\n",
"disp('no = '+string(no)+'cm^-3') //initializing value of intrinsic concentration of electrons.\n",
"Nd=1*10^16\n",
"disp('Nd='+string(Nd)+' cm^-3')//initializing the value of donor concentration.\n",
"Emax=2*10^5\n",
"disp('Emax = '+string(Emax)+' V/cm') //initializing value of maximum critical electric field.\n",
"Na=1*10^16\n",
"disp('Na='+string(Na)+' cm^-3')//initializing the value of acceptor concentration.\n",
"Vt=0.0259\n",
"disp('Vt = '+string(Vt)+' eV') //initializing value of thermal voltage.\n",
"E=Eo*Er\n",
"disp('total permittivity,E=Eo*Er)='+string(E)+' F/cm')//calculation\n",
"VBI=(Vt*(log(Na*Nd/no^2)))\n",
"disp('VBI=(Vt*(log(Na*Nd/no^2))) = '+string(VBI)+' V') // calculation.\n",
"V=(E*Emax^2)/(e*Nd)\n",
"disp('breakdown voltage for symetrical abrupt junction,VBD+VBI=(E*Emax^2)/(e*Nd))='+string(V)+' V')//calculation\n",
"VBD=V-VBI\n",
"disp('VBD=V-VBI)='+string(VBD)+' V')//calculation\n",
""
   ]
   }
],
"metadata": {
		  "kernelspec": {
		   "display_name": "Scilab",
		   "language": "scilab",
		   "name": "scilab"
		  },
		  "language_info": {
		   "file_extension": ".sce",
		   "help_links": [
			{
			 "text": "MetaKernel Magics",
			 "url": "https://github.com/calysto/metakernel/blob/master/metakernel/magics/README.md"
			}
		   ],
		   "mimetype": "text/x-octave",
		   "name": "scilab",
		   "version": "0.7.1"
		  }
		 },
		 "nbformat": 4,
		 "nbformat_minor": 0
}
