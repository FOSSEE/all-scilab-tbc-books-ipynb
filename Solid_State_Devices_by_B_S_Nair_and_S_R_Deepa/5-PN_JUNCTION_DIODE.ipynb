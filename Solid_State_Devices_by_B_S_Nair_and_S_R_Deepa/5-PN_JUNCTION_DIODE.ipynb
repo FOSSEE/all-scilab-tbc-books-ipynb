{
"cells": [
 {
		   "cell_type": "markdown",
	   "metadata": {},
	   "source": [
       "# Chapter 5: PN JUNCTION DIODE"
	   ]
	},
{
		   "cell_type": "markdown",
		   "metadata": {},
		   "source": [
			"## Example 5.10: VALUE_OF_DEPLETION_WIDTH_AND_ACCEPTOR_CONCENTRATION.sce"
		   ]
		  },
  {
"cell_type": "code",
	   "execution_count": null,
	   "metadata": {
	    "collapsed": true
	   },
	   "outputs": [],
"source": [
"clc\n",
"Na=10^16\n",
"disp('Na = '+string(Na)+'/cm^3') //initializing value of medium p doping concentration.\n",
"Nd=10^18\n",
"disp('Nd = '+string(Nd)+'/cm^3') //initializing value of light n doping .\n",
"Vbi=0.64\n",
"disp('Vbi = '+string(Vbi)+'V') //initializing value of built in voltage.\n",
"e=1.6*10^-19\n",
"disp('e = '+string(e)+'columns') //initializing value of charge of electrons.\n",
"Er=11.9\n",
"disp('Er = '+string(Er)) //initializing value of relative dielectric permittivity constant .\n",
"Eo=8.854*10^-14\n",
"disp('Eo = '+string(Eo)+' F/cm') //initializing value of permittivity of free space.\n",
"E=Eo*Er\n",
"disp('total permittivity,E=Eo*Er='+string(E)+' F/cm')//calculation.\n",
"W=sqrt((2*E*Vbi/e)*((Nd+Na)/(Na*Nd)))\n",
"disp('W=sqrt((2*E*Vbi/e)*((Nd+Na)/(Na*Nd))))='+string(W)+' cm')//calculation.\n",
"xn=((W*Na)/(Nd+Na))\n",
"disp('xn=((W*Na)/(Nd+Na)))='+string(xn)+'cm')//calculation.\n",
"xp=((W*Nd)/(Nd+Na))\n",
"disp('xp=((W*Nd)/(Nd+Na)))='+string(xp)+'cm')//calculation.\n",
"Emax=(-e*Nd*xn)/E\n",
"disp('Emax=(-e*Nd*xn)/E)='+string(Emax)+'V/cm')//calculation.\n",
"\n",
"//the value and unit of W(depletion width),provided after calculation in the book is wrong.Due to this xn,xp ,Emax also differ."
   ]
   }
,
{
		   "cell_type": "markdown",
		   "metadata": {},
		   "source": [
			"## Example 5.12: VALUE_OF_MAXIMUM_ELECTRIAL_FIELD.sce"
		   ]
		  },
  {
"cell_type": "code",
	   "execution_count": null,
	   "metadata": {
	    "collapsed": true
	   },
	   "outputs": [],
"source": [
"clc\n",
"Na=10^16\n",
"disp('Na = '+string(Na)+'/cm^3') //initializing value of medium p doping concentration.\n",
"Nd=10^18\n",
"disp('Nd = '+string(Nd)+'/cm^3') //initializing value of light n doping .\n",
"Vbi=0.64\n",
"disp('Vbi = '+string(Vbi)+'V') //initializing value of built in voltage.\n",
"Vr=20\n",
"disp('Vr = '+string(Vr)+'V') //initializing value of applied reverse voltage.\n",
"e=1.6*10^-19\n",
"disp('e = '+string(e)+'columns') //initializing value of charge of electrons.\n",
"Er=11.9\n",
"disp('Er = '+string(Er)) //initializing value of relative dielectric permittivity constant .\n",
"Eo=8.854*10^-14\n",
"disp('Eo = '+string(Eo)+' F/cm') //initializing value of permittivity of free space.\n",
"E=Eo*Er\n",
"disp('total permittivity,E=Eo*Er='+string(E)+' F/cm')//calculation.\n",
"Emax=-(sqrt(((2*e*(Vbi+Vr))/(E))*((Nd*Na)/(Na+Nd))))\n",
"disp('Emax=-(sqrt(((2*e*(Vbi+Vr))/(E))*((Nd*Na)/(Na+Nd)))))='+string(Emax)+'V/cm')//calculation."
   ]
   }
,
{
		   "cell_type": "markdown",
		   "metadata": {},
		   "source": [
			"## Example 5.13: VALUE_OF_N_TYPE_DOPING_CONCENTRATION.sce"
		   ]
		  },
  {
"cell_type": "code",
	   "execution_count": null,
	   "metadata": {
	    "collapsed": true
	   },
	   "outputs": [],
"source": [
"clc\n",
"Emax=2*10^5\n",
"disp('Emax = '+string(Emax)+'V/cm') //initializing value of maximum electric field.\n",
"Nd=10^18\n",
"disp('Nd = '+string(Nd)+'/cm^3') //initializing value of donor concentration .\n",
"Vbi=0.54\n",
"disp('Vbi = '+string(Vbi)+'V') //initializing value of built in voltage.\n",
"Vr=20\n",
"disp('Vr = '+string(Vr)+'V') //initializing value of applied reverse voltage.\n",
"e=1.6*10^-19\n",
"disp('e = '+string(e)+'columns') //initializing value of charge of electrons.\n",
"Er=11.9\n",
"disp('Er = '+string(Er)) //initializing value of relative dielectric permittivity constant .\n",
"Eo=8.854*10^-14\n",
"disp('Eo = '+string(Eo)+' F/cm') //initializing value of permittivity of free space.\n",
"E=Eo*Er\n",
"disp('total permittivity,E=Eo*Er='+string(E)+' F/cm')//calculation.\n",
"Na=(Emax^2*E*Nd)/((2*e*(Vbi+Vr)*Nd)-(Emax^2*E))\n",
"disp('Na=(Emax^2*E*Nd)/((2*e*(Vbi+Vr)*Nd)-(Emax^2*E)))='+string(Na)+'cm^-3')//calculation."
   ]
   }
,
{
		   "cell_type": "markdown",
		   "metadata": {},
		   "source": [
			"## Example 5.14: VALUE_OF_JUNCTION_CAPACITANCE.sce"
		   ]
		  },
  {
"cell_type": "code",
	   "execution_count": null,
	   "metadata": {
	    "collapsed": true
	   },
	   "outputs": [],
"source": [
"clc\n",
"Na=10^16\n",
"disp('Na = '+string(Na)+'/cm^3') //initializing value of acceptor concentration.\n",
"Nd=10^18\n",
"disp('Nd = '+string(Nd)+'/cm^3') //initializing value of donor concentration .\n",
"A=1\n",
"disp('A = '+string(A)+'cm^2') //initializing value of area for finding junction capacitance per unit area .\n",
"Vj=0.54\n",
"disp('Vj = '+string(Vj)+'V') //initializing value of built in voltage.\n",
"Va=10\n",
"disp('Va = '+string(Va)+'V') //initializing value of applied reverse voltage.\n",
"e=1.6*10^-19\n",
"disp('e = '+string(e)+' columns') //initializing value of charge of electrons.\n",
"Er=11.9\n",
"disp('Er = '+string(Er)) //initializing value of relative dielectric permittivity constant .\n",
"Eo=8.854*10^-14\n",
"disp('Eo = '+string(Eo)+' F/cm') //initializing value of permittivity of free space.\n",
"E=Eo*Er\n",
"disp('total permittivity,E=Eo*Er='+string(E)+' F/cm')//calculation.\n",
"Cj=sqrt((e*E*A^2/(2*(Va+Vj)))*((Na*Nd)/(Na+Nd)))\n",
"disp('Cj=sqrt((e*E*A^2/(2*(Va+Vj))*((Na*Nd)/(Na+Nd))))='+string(Cj)+'f/cm^2')//calculation.\n",
"\n",
""
   ]
   }
,
{
		   "cell_type": "markdown",
		   "metadata": {},
		   "source": [
			"## Example 5.15: VALUE_OF_JUNCTION_CAPACITANCE.sce"
		   ]
		  },
  {
"cell_type": "code",
	   "execution_count": null,
	   "metadata": {
	    "collapsed": true
	   },
	   "outputs": [],
"source": [
"clc\n",
"Na=10^15\n",
"disp('Na = '+string(Na)+' cm^-3') //initializing value of acceptor concentration.\n",
"Nd=10^18\n",
"disp('Nd = '+string(Nd)+' cm^-3') //initializing value of donor concentration.\n",
"no=1.8*10^6\n",
"disp('no = '+string(no)+' cm^-3') //initializing value of intrinsic carrier concentration.\n",
"e=1.6*10^-19\n",
"disp('e = '+string(e)+' columbs') //initializing value of charge of electrons.\n",
"K=1.38*10^-23\n",
"disp('K = '+string(K)+' J/k') //initializing value of boltzmann constant.\n",
"T=300\n",
"disp('T = '+string(T)+' K') //initializing value of temperature.\n",
"Vbi=((K*T/e)*log((Na*Nd)/(no)^2))\n",
"disp('Built in potential potential,Vbi=((K*T/e)*log((Na*Nd)/(no)^2))='+string(Vbi)+' V')//calculation."
   ]
   }
,
{
		   "cell_type": "markdown",
		   "metadata": {},
		   "source": [
			"## Example 5.16: VALUE_OF_INTRINSIC_CONCENTRATION.sce"
		   ]
		  },
  {
"cell_type": "code",
	   "execution_count": null,
	   "metadata": {
	    "collapsed": true
	   },
	   "outputs": [],
"source": [
"clc\n",
"Na=10^18\n",
"disp('Na = '+string(Na)+' cm^-3') //initializing value of acceptor concentration.\n",
"Nd=10^18\n",
"disp('Nd = '+string(Nd)+' cm^-3') //initializing value of donor concentration.\n",
"Vbi=1.4\n",
"disp('Vbi = '+string(Vbi)+' V') //initializing value of  built in voltage.\n",
"e=1.6*10^-19\n",
"disp('e = '+string(e)+' columbs') //initializing value of charge of electrons.\n",
"K=1.38*10^-23\n",
"disp('K = '+string(K)+' J/k') //initializing value of boltzmann constant.\n",
"T=300\n",
"disp('T = '+string(T)+' K') //initializing value of temperature.\n",
"Vt=0.0259\n",
"disp('Vt = '+string(Vt)+' eV') //initializing value of thermal voltage.\n",
"no=sqrt((Na*Nd)/(exp(Vbi/Vt)))\n",
"disp('no=sqrt((Na*Nd)/(exp(Vbi/Vt)))='+string(no)+' cm^-3')//calculation."
   ]
   }
,
{
		   "cell_type": "markdown",
		   "metadata": {},
		   "source": [
			"## Example 5.18: VALUE_OF_Vbi_AND_FERMI_LEVEL_AND_Vbi_FROM_FERMI_LEVEL.sce"
		   ]
		  },
  {
"cell_type": "code",
	   "execution_count": null,
	   "metadata": {
	    "collapsed": true
	   },
	   "outputs": [],
"source": [
"clc\n",
"Na=10^17\n",
"disp('Na = '+string(Na)+' cm^-3') //initializing value of acceptor concentration.\n",
"Nd=5*10^16\n",
"disp('Nd = '+string(Nd)+' cm^-3') //initializing value of donor concentration.\n",
"e=1.6*10^-19\n",
"disp('e = '+string(e)+' columbs') //initializing value of charge of electrons.\n",
"no=1.5*10^10\n",
"disp('no = '+string(no)+' cm^3') //initializing value of intrinsic carrier concentration.\n",
"T=300\n",
"disp('T = '+string(T)+' K') //initializing value of temperature.\n",
"Vt=0.0259\n",
"disp('Vt = '+string(Vt)+' eV') //initializing value of thermal voltage.\n",
"Vbi=(Vt*(log(Na*Nd/(no^2))))\n",
"disp('(a)Vbi=(Vt*(log(Na*Nd/(no^2))))='+string(Vbi)+' V')//calculation.\n",
"Efi_Efp=(Vt*log(Na/(no)))\n",
"disp('(b)value of fermi level on each side of junction,Efi_Efp=(Vt*log(Na/(no)))='+string(Efi_Efp)+' V')//calculation.\n",
"Efn_Efi=(Vt*log(Nd/(no)))\n",
"disp('Efn_Efi=(Vt*log(Nd/(no)))='+string(Efn_Efi)+' V')//calculation.\n",
"disp('(c)The energy band digram is similar to Fig P5.3')\n",
"Vbi=((Efi_Efp)+(Efn_Efi))\n",
"disp('(d)Vbi=((Efi_Efp)+(Efn_Efi))/(e)=Vj='+string(Vbi)+' V')//calculation."
   ]
   }
,
{
		   "cell_type": "markdown",
		   "metadata": {},
		   "source": [
			"## Example 5.19: VALUE_OF_Vbi_AND_FERMI_LEVEL_AND_Vbi_FROM_FERMI_LEVEL.sce"
		   ]
		  },
  {
"cell_type": "code",
	   "execution_count": null,
	   "metadata": {
	    "collapsed": true
	   },
	   "outputs": [],
"source": [
"clc\n",
"Na=5*10^17\n",
"disp('Na = '+string(Na)+'/cm^3') //initializing value of medium p doping concentration.\n",
"Nd=5*10^17\n",
"disp('Nd = '+string(Nd)+'/cm^3') //initializing value of light n doping .\n",
"no=1.5*10^10\n",
"disp('no = '+string(no)+'cm^-3') //initializing value of intrinsic concentration.\n",
"e=1.6*10^-19\n",
"disp('e = '+string(e)+'columbs') //initializing value of charge of electrons.\n",
"K=1.38*10^-23\n",
"disp('K = '+string(K)+'J/k') //initializing value of boltzmann constant.\n",
"T=300\n",
"disp('T = '+string(T)+'K') //initializing value of temperature.\n",
"Vbi=((K*T/e)*log((Na*Nd)/(no)^2))\n",
"disp('(a)Built in potential potential,Vbi=((K*T/e)*log((Na*Nd)/(no)^2))='+string(Vbi)+'eV')//calculation.\n",
"Efi_Efp=((K*T/e)*log(Na/no))\n",
"disp('(b)fermi level in the P region and N region,Efi_Efp=((KT/e)*log(Na/no)))='+string(Efi_Efp)+'eV')//calculation.\n",
"VBI=2*(Efi_Efp)\n",
"disp('(c)VBI from the fermi level,VBI=2*(Efi_Efp))='+string(VBI)+'V')//calculation."
   ]
   }
,
{
		   "cell_type": "markdown",
		   "metadata": {},
		   "source": [
			"## Example 5.20: VALUE_OF_IMPURITY_CONCENTRATION_AND_VbI.sce"
		   ]
		  },
  {
"cell_type": "code",
	   "execution_count": null,
	   "metadata": {
	    "collapsed": true
	   },
	   "outputs": [],
"source": [
"clc\n",
"Nc=2.8*10^19\n",
"disp('Nc = '+string(Nc)+' /cm^3') //initializing value of number of electron in the conduction band.\n",
"Nv=1.04*10^19\n",
"disp('Nv = '+string(Nv)+' /cm^3') //initializing value of number of electron in the valence band..\n",
"no=1.5*10^10\n",
"disp('no = '+string(no)+' cm^-3') //initializing value of intrinsic carrier  concentration.\n",
"e=1.6*10^-19\n",
"disp('e = '+string(e)+' columbs') //initializing value of charge of electrons.\n",
"K=8.62*10^-5\n",
"disp('K = '+string(K)+' J/k') //initializing value of boltzmann constant.\n",
"T=300\n",
"disp('T = '+string(T)+' K') //initializing value of temperature.\n",
"Vt=0.0259\n",
"disp('Vt = '+string(Vt)+' eV') //initializing value of thermal voltage.\n",
"Ec_Ef=0.21\n",
"disp('Ec_Ef = '+string(Ec_Ef)+' eV') //initializing value of energy difference between conduction band and fermi level.\n",
"Ef_Ev=0.18\n",
"disp('Ef_Ev = '+string(Ef_Ev)+' eV') //initializing value of energy difference between fermi level and valence band.\n",
"Nd=(Nc/exp((Ec_Ef)/(K*T)))\n",
"disp('Nd=(Nc/exp((Ec-Ef)/(K*T))))='+string(Nd)+' cm^-3')//calculation.\n",
"Na=(Nv/exp((Ef_Ev)/(K*T)))\n",
"disp('Na=(Nv/exp((Ef-Ev)/(K*T))))='+string(Na)+' cm^-3')//calculation.\n",
"Vbi=(Vt*(log(Na*Nd/(no^2))))\n",
"disp('Built in potential potential,Vbi=(Vt*(log(Na*Nd/(no^2))))='+string(Vbi)+' V')//calculation."
   ]
   }
,
{
		   "cell_type": "markdown",
		   "metadata": {},
		   "source": [
			"## Example 5.21: VALUE_OF_Na_Xn_Xp_AND_Emax.sce"
		   ]
		  },
  {
"cell_type": "code",
	   "execution_count": null,
	   "metadata": {
	    "collapsed": true
	   },
	   "outputs": [],
"source": [
"clc\n",
"Vbi=1.2\n",
"disp('Vbi = '+string(Vbi)+'/cm^3') //initializing value of built in voltage.\n",
"no=1.8*10^6\n",
"disp('no = '+string(no)+'cm^-3') //initializing value of intrinsic concentration.\n",
"Vt=0.0259\n",
"disp('Vt = '+string(Vt)+' eV') //initializing value of thermal voltage.\n",
"Er=13.1\n",
"disp('Er = '+string(Er)) //initializing value of relative dielectric permittivity constant .\n",
"Eo=8.854*10^-14\n",
"disp('Eo = '+string(Eo)+' F/cm') //initializing value of permittivity of free space.\n",
"e=1.6*10^-19\n",
"disp('e = '+string(e)+' columbs') //initializing value of charge of electrons.\n",
"E=Eo*Er\n",
"disp('total permittivity,E=Eo*Er='+string(E)+' F/cm')//calculation.\n",
"NaNd=((no^2)*(exp(Vbi/Vt)))\n",
"disp('(a)NaNd=((no^2)*(exp(Vbi/Vt)))='+string(NaNd)+' /cm^6')//calculation.\n",
"Na=(sqrt(NaNd/(4)))\n",
"disp('Na=(sqrt(NaNd/(4)))='+string(Na)+' /cm^3')//calculation.\n",
"Nd=4*Na\n",
"disp('(b)Nd=4*Na='+string(Nd)+' /cm^3')//calculation.\n",
"W=sqrt((2*E*Vbi/e)*((Nd+Na)/(Na*Nd)))\n",
"disp('(c)W=sqrt((2*E*Vbi/e)*((Nd+Na)/(Na*Nd))))='+string(W)+' cm')//calculation.\n",
"xn=0.2*W\n",
"disp('(d)xn=0.2*W='+string(xn)+' cm')//calculation.\n",
"xp=0.8*W\n",
"disp('xp=0.8*W='+string(xp)+' cm')//calculation.\n",
"Emax=(-e*Nd*xn)/E\n",
"disp('(e)Emax=(-e*Nd*xn)/E)='+string(Emax)+'V/cm')//calculation.\n",
"//The value of Na after calculation is provided wrong in the book.Due to which value of W,xn,xp and Emax differ ,than the answer provided in the book.\n",
"\n",
"\n",
"\n",
"\n",
"\n",
""
   ]
   }
,
{
		   "cell_type": "markdown",
		   "metadata": {},
		   "source": [
			"## Example 5.22: VALUE_OF_TEMPERATURE.sce"
		   ]
		  },
  {
"cell_type": "code",
	   "execution_count": null,
	   "metadata": {
	    "collapsed": true
	   },
	   "outputs": [],
"source": [
"clc\n",
"Na=10^16\n",
"disp('Na = '+string(Na)+'cm^-3') //initializing value of acceptor concentration.\n",
"Nd=5*10^15\n",
"disp('Nd = '+string(Nd)+'cm^-3') //initializing value of donor concentration.\n",
"no=1.5*10^10\n",
"disp('no = '+string(no)+'cm^-3') //initializing value of intrinsic concentration.\n",
"Vbi=0.676\n",
"disp('Vbi = '+string(Vbi)+'V') //initializing value of built in voltage.\n",
"e=1.6*10^-19\n",
"disp('e = '+string(e)+'columns') //initializing value of charge of electrons.\n",
"K=1.38*10^-23\n",
"disp('K = '+string(K)+'J/k') //initializing value of boltzmann constant.\n",
"T=(Vbi*(e/K)*(1/(log((Na*Nd)/(no^2)))))\n",
"disp('T=(Vbi*(e/K)*(1/(log((Na*Nd)/(no^2))))))='+string(T)+'K')//calculation."
   ]
   }
,
{
		   "cell_type": "markdown",
		   "metadata": {},
		   "source": [
			"## Example 5.23: VALUE_OF_Vbi_AND_TEMPERATURE.sce"
		   ]
		  },
  {
"cell_type": "code",
	   "execution_count": null,
	   "metadata": {
	    "collapsed": true
	   },
	   "outputs": [],
"source": [
"clc\n",
"Na=5*10^17\n",
"disp('Na = '+string(Na)+'cm^-3') //initializing value of acceptor concentration.\n",
"Nd=10^17\n",
"disp('Nd = '+string(Nd)+'cm^-3') //initializing value of donor concentration.\n",
"no=1.5*10^10\n",
"disp('no = '+string(no)+'cm^-3') //initializing value of intrinsic concentration.\n",
"e=1.6*10^-19\n",
"disp('e = '+string(e)+'columns') //initializing value of charge of electrons.\n",
"K=1.38*10^-23\n",
"disp('K = '+string(K)+'J/k') //initializing value of boltzmann constant.\n",
"T=300\n",
"disp('T = '+string(T)+'K') //initializing value of temperature.\n",
"VBI=0.847\n",
"disp('VBI = '+string(VBI)+'V') //initializing value of VBI when VBI is reduced by 1%.\n",
"Vbi=((K*T/e)*log((Na*Nd)/(no)^2))\n",
"disp('(a)Built in potential potential,Vbi=((K*T/e)*log((Na*Nd)/(no)^2))='+string(Vbi)+' V')//calculation.\n",
"T=(e*VBI/K)*((log(Na*Nd/(no^2)))^-1)\n",
"disp('(b)T=(VBI*(e/K)*(1/(log((Na*Nd)/(no^2))))))='+string(T)+'K')//calculation.\n",
"//the answer for part (b) is not provided in the book."
   ]
   }
,
{
		   "cell_type": "markdown",
		   "metadata": {},
		   "source": [
			"## Example 5.24: VALUE_OF_Vbi_AND_W_AND_Xn_AND_Xp_AND_Emax.sce"
		   ]
		  },
  {
"cell_type": "code",
	   "execution_count": null,
	   "metadata": {
	    "collapsed": true
	   },
	   "outputs": [],
"source": [
"clc\n",
"Na=4*10^12\n",
"disp('Na = '+string(Na)+' /cm^3') //initializing value of medium p doping concentration.\n",
"Nd=4*10^16\n",
"disp('Nd = '+string(Nd)+' /cm^3') //initializing value of light n doping.\n",
"no=1.5*10^10\n",
"disp('no = '+string(no)+' /cm^3') //initializing value of intrinsic carrier concentration.\n",
"K=1.38*10^-23\n",
"disp('K = '+string(K)+' J/k') //initializing value of boltzmann constant.\n",
"T=300\n",
"disp('T = '+string(T)+' K') //initializing value of temperature.\n",
"e=1.6*10^-19\n",
"disp('e = '+string(e)+' columbs') //initializing value of charge of electrons.\n",
"Er=11.9\n",
"disp('Er = '+string(Er)) //initializing value of relative dielectric permittivity constant .\n",
"Eo=8.854*10^-14\n",
"disp('Eo = '+string(Eo)+' F/cm') //initializing value of permittivity of free space.\n",
"E=Eo*Er\n",
"disp('total permittivity,E=Eo*Er='+string(E)+' F/cm')//calculation.\n",
"Vbi=((K*T/e)*log((Na*Nd)/(no)^2))\n",
"disp('Built in potential potential,Vbi=((K*T/e)*log((Na*Nd)/(no)^2))='+string(Vbi)+' eV')//calculation.\n",
"W=sqrt((2*E*Vbi/e)*((Nd+Na)/(Na*Nd)))\n",
"disp('W=sqrt((2*E*Vbi/e)*((Nd+Na)/(Na*Nd))))='+string(W)+' cm')//calculation.\n",
"xn=((W*Na)/(Nd+Na))\n",
"disp('xn=((W*Na)/(Nd+Na)))='+string(xn)+' cm')//calculation.\n",
"xp=((W*Nd)/(Nd+Na))\n",
"disp('xp=((W*Nd)/(Nd+Na)))='+string(xp)+' cm')//calculation.\n",
"Emax=(e*Nd*xn)/E\n",
"disp('Emax=(e*Nd*xn)/E)='+string(Emax)+' V/cm')//calculation.\n",
"//the value of W(depletion width) ,after calculation is provided wrong in the book,due to this xn,xp ,Emax also differ.(also,the value of Nd+Na substitute in the \n",
"//formula for for xn,xp is wrong )\n",
""
   ]
   }
,
{
		   "cell_type": "markdown",
		   "metadata": {},
		   "source": [
			"## Example 5.25: MAGNITUDE_OF_APPLIED_REVERSE_BIAS.sce"
		   ]
		  },
  {
"cell_type": "code",
	   "execution_count": null,
	   "metadata": {
	    "collapsed": true
	   },
	   "outputs": [],
"source": [
"clc\n",
"Na=4*10^17\n",
"disp('Na = '+string(Na)+'/cm^3') //initializing value of donor concentration.\n",
"Nd=4*10^15\n",
"disp('Nd = '+string(Nd)+'/cm^3') //initializing value of light n doping.\n",
"no=1.5*10^10\n",
"disp('no = '+string(no)+'cm^-3') //initializing value of intrinsic concentration.\n",
"Emax=300*10^3\n",
"disp('Emax = '+string(Emax)+'/cm^3') //initializing value of maximum electric field.\n",
"K=1.38*10^-23\n",
"disp('K = '+string(K)+'J/k') //initializing value of boltzmann constant.\n",
"T=300\n",
"disp('T = '+string(T)+'K') //initializing value of temperature.\n",
"e=1.6*10^-19\n",
"disp('e = '+string(e)+'columns') //initializing value of charge of electrons.\n",
"Er=11.9\n",
"disp('Er = '+string(Er)) //initializing value of relative dielectric permittivity constant .\n",
"Eo=8.854*10^-14\n",
"disp('Eo = '+string(Eo)+' F/cm') //initializing value of permittivity of free space.\n",
"E=Eo*Er\n",
"disp('total permittivity,E=Eo*Er='+string(E)+' F/cm')//calculation.\n",
"Vbi=((K*T/e)*log((Na*Nd)/(no)^2))\n",
"disp('Built in potential potential,Vbi=((K*T/e)*log((Na*Nd)/(no)^2))='+string(Vbi)+' V')//calculation.\n",
"xn=(E*Emax/(Nd*e))\n",
"disp('xn=(E*Emax)/(e*Nd))='+string(xn)+' cm')//calculation.\n",
"W=(xn*(Nd+Na)/Na)\n",
"disp('W=(xn(Nd+Na)/Na))='+string(W)+' cm')//calculation.\n",
"Vr=((W^2*e/(2*E))*((Na*Nd)/(Na+Nd)))-(Vbi)\n",
"disp('Vr=(W^2*e/(2*E))*((Na*Nd)/(Na+Nd))-(Vbi))='+string(Vr)+' V')//calculation."
   ]
   }
,
{
		   "cell_type": "markdown",
		   "metadata": {},
		   "source": [
			"## Example 5.26: VALUE_OF_DOPING_CONCENTRATION.sce"
		   ]
		  },
  {
"cell_type": "code",
	   "execution_count": null,
	   "metadata": {
	    "collapsed": true
	   },
	   "outputs": [],
"source": [
"clc\n",
"Na=5*10^15\n",
"disp('Na = '+string(Na)+'cm^-3') //initializing value of acceptor concentration.\n",
"Nd=10^18\n",
"disp('Nd = '+string(Nd)+'cm^-3') //initializing value of donor concentration.\n",
"e=1.6*10^-19\n",
"disp('e = '+string(e)+'columns') //initializing value of charge of electrons.\n",
"Vr=10\n",
"disp('Vr = '+string(Vr)+'V') //initializing value reverse voltage.\n",
"Er=11.9\n",
"disp('Er = '+string(Er)) //initializing value of relative dielectric permittivity constant .\n",
"Eo=8.854*10^-14\n",
"disp('Eo = '+string(Eo)+' F/cm') //initializing value of permittivity of free space.\n",
"E=Eo*Er\n",
"disp('total permittivity,E=Eo*Er='+string(E)+' F/cm')//calculation.\n",
"Emax=10^6\n",
"disp('Emax = '+string(Emax)+'V/cm') //initializing value of maximum electric field.\n",
"W=(2*Vr/(Emax))\n",
"disp('W = '+string(W)+'cm') //calculation.\n",
"Nd=(Emax*E)/(W*e)\n",
"disp('Nd=(Emax*e)/(W*e))='+string(Nd)+'cm^-3')//calculation."
   ]
   }
,
{
		   "cell_type": "markdown",
		   "metadata": {},
		   "source": [
			"## Example 5.27: VALUE_OF_JUNCTION_CAPACITANCE.sce"
		   ]
		  },
  {
"cell_type": "code",
	   "execution_count": null,
	   "metadata": {
	    "collapsed": true
	   },
	   "outputs": [],
"source": [
"clc\n",
"Na=5*10^15\n",
"disp('Na = '+string(Na)+'cm^3') //initializing value of acceptor concentration.\n",
"Nd=10^18\n",
"disp('Nd = '+string(Nd)+'cm^3') //initializing value of donor concentration .\n",
"no=1.5*10^10\n",
"disp('no = '+string(no)+'cm^-3') //initializing value of intrinsic carrier concentration.\n",
"Vr1=0\n",
"disp('Vr1 = '+string(Vr1)+'V') //initializing value of built in voltage.\n",
"Vr2=5\n",
"disp('Vr2 = '+string(Vr2)+'V') //initializing value of applied reverse voltage.\n",
"A=3*10^-5\n",
"disp('A = '+string(A)+'cm^2') //initializing value of cross sectional area.\n",
"e=1.6*10^-19\n",
"disp('e = '+string(e)+'columns') //initializing value of charge of electrons.\n",
"Er=11.9\n",
"disp('Er = '+string(Er)) //initializing value of relative dielectric permittivity constant .\n",
"Eo=8.854*10^-14\n",
"disp('Eo = '+string(Eo)+' F/cm') //initializing value of permittivity of free space.\n",
"E=Eo*Er\n",
"disp('total permittivity,E=Eo*Er='+string(E)+' F/cm')//calculation.\n",
"Vt=0.0259\n",
"disp('Vt='+string(Vt)+' V')//initializing the value of thermal voltage .\n",
"Vbi=((Vt)*log((Na*Nd)/(no)^2))\n",
"disp('Built in potential ,Vbi=(Vt*log((Na*Nd)/(no)^2))='+string(Vbi)+' V')//calculation.\n",
"Cj1=sqrt((e*E*(A^2)/(2*(Vr1+Vbi)))*((Na*Nd)/(Na+Nd)))\n",
"disp('Cj1=sqrt((e*E*(A^2)/(2*(Vr1+Vbi))*((Na*Nd)/(Na+Nd))))='+string(Cj1)+' F')//calculation.\n",
"Cj2=sqrt((e*E*(A^2)/(2*(Vr2+Vbi)))*((Na*Nd)/(Na+Nd)))\n",
"disp('Cj2=sqrt((e*E*(A^2)/(2*(Vr2+Vbi))*((Na*Nd)/(Na+Nd))))='+string(Cj2)+' F')//calculation.\n",
"//the value of Vr2 use for calculating answer of Cj2 is different than provided in question.\n",
"//I have used the value provided in the solution (i.e.Vr2=5) "
   ]
   }
,
{
		   "cell_type": "markdown",
		   "metadata": {},
		   "source": [
			"## Example 5.28: VALUE_OF_REVERSE_SATURATION_CURRENT.sce"
		   ]
		  },
  {
"cell_type": "code",
	   "execution_count": null,
	   "metadata": {
	    "collapsed": true
	   },
	   "outputs": [],
"source": [
"clc\n",
"Na=1*10^16\n",
"disp('Na = '+string(Na)+'cm^3') //initializing value of acceptor concentration.\n",
"Nd=5*10^16\n",
"disp('Nd = '+string(Nd)+'cm^3') //initializing value of donor concentration .\n",
"no=1.5*10^10\n",
"disp('no = '+string(no)+'cm^-3') //initializing value of intrinsic concentration.\n",
"Dn=25\n",
"disp('Dn = '+string(Dn)+'cm^2/sec') //initializing value of diffusion cofficient on the P side.\n",
"Dp=10\n",
"disp('Dp = '+string(Dp)+'cm^2/sec') //initializing value of diffusion cofficient on the N side.\n",
"tp=5*10^-7\n",
"disp('tn = '+string(tp)+'s') //initializing value of hole lifetime.\n",
"tn=5*10^-7\n",
"disp('tp = '+string(tn)+'s') //initializing value of electron lifetime.\n",
"e=1.6*10^-19\n",
"disp('e = '+string(e)+'columns') //initializing value of charge of electrons.\n",
"Pno=(no^2/Nd)\n",
"disp('Pno=(no^2/Nd))='+string(Pno)+'cm^-3')//calculation.\n",
"Npo=(no^2/Na)\n",
"disp('Npo=(no^2/Na))='+string(Npo)+'cm^-3')//calculation.\n",
"Lp=(sqrt(Dp*tp))\n",
"disp('Lp=(sqrt(Dp*tp)))='+string(Lp)+'cm')//calculation.\n",
"Ln=(sqrt(Dn*tn))\n",
"disp('Ln=(sqrt(Dn*tn)))='+string(Ln)+'cm')//calculation.\n",
"Jo=((e*((Dp*Pno/(Lp))+(Dn*Npo)/(Ln))))\n",
"disp('Jo=((e*((Dp*Pno/(Lp))+(Dn*Npo)/(Ln))))='+string(Jo)+' A/cm^2')//calculation."
   ]
   }
,
{
		   "cell_type": "markdown",
		   "metadata": {},
		   "source": [
			"## Example 5.29: VALUE_OF_REVERSE_SATURATION_CURRENT.sce"
		   ]
		  },
  {
"cell_type": "code",
	   "execution_count": null,
	   "metadata": {
	    "collapsed": true
	   },
	   "outputs": [],
"source": [
"clc\n",
"Na=10^15\n",
"disp('Na = '+string(Na)+'cm^3') //initializing value of acceptor concentration.\n",
"Nd=10^15\n",
"disp('Nd = '+string(Nd)+'cm^3') //initializing value of donor concentration .\n",
"no=1.5*10^10\n",
"disp('no = '+string(no)+'cm^-3') //initializing value of intrinsic carrier concentration.\n",
"Dn=50\n",
"disp('Dn = '+string(Dn)+'cm^2/sec') //initializing value of built in voltage.\n",
"Dp=20\n",
"disp('Dp = '+string(Dp)+'cm^2/sec') //initializing value of applied reverse voltage.\n",
"tp=5*10^-7\n",
"disp('tn = '+string(tp)+'s') //initializing value of hole lifetime.\n",
"tn=5*10^-7\n",
"disp('tp = '+string(tn)+'s') //initializing value of electrons lifetime.\n",
"e=1.6*10^-19\n",
"disp('e = '+string(e)+'columns') //initializing value of charge of electrons.\n",
"Pno=(no^2/Nd)\n",
"disp('Pno=(no^2/Nd))='+string(Pno)+'cm^-3')//calculation.\n",
"Npo=(no^2/Na)\n",
"disp('Npo=(no^2/Na))='+string(Npo)+'cm^-3')//calculation.\n",
"Lp=(sqrt(Dp*tp))\n",
"disp('Lp=(sqrt(Dp*tp)))='+string(Lp)+'cm')//calculation.\n",
"Ln=(sqrt(Dn*tn))\n",
"disp('Ln=(sqrt(Dn*tn)))='+string(Ln)+'cm')//calculation.\n",
"Jo=((e*((Dp*Pno/(Lp))+(Dn*Npo)/(Ln))))\n",
"disp('Jo=((e*((Dp*Pno/(Lp))+(Dn*Npo)/(Ln))))='+string(Jo)+'A/cm^2')//calculation.\n",
"//the value of tp,tn provided in the question,is different than that provided in the solution.\n",
"//I have used the value ,provided in the solution(i.e.tp=tn=5*10^7)"
   ]
   }
,
{
		   "cell_type": "markdown",
		   "metadata": {},
		   "source": [
			"## Example 5.30: VALUE_OF_THE_CHANGE_IN_THE_APPLIED_VOLTAGE.sce"
		   ]
		  },
  {
"cell_type": "code",
	   "execution_count": null,
	   "metadata": {
	    "collapsed": true
	   },
	   "outputs": [],
"source": [
"clc\n",
"Eg=-1.1\n",
"disp('Eg = '+string(Eg)+'V') //initializing value of energy gap.\n",
"Vf1=0.6\n",
"disp('Vf1 = '+string(Vf1)+'V') //initializing value of forward voltage for case 1.\n",
"T1=300\n",
"disp('T1 = '+string(T1)+'K') //initializing value of temperature for case 1.\n",
"T2=310\n",
"disp('T2 = '+string(T2)+'K') //initializing value of temperature for case 2 .\n",
"Vf2=(((Eg+Vf1)*T2)/(T1))-Eg\n",
"disp('Forward voltage for case 2,Vf2=((Eg+Vf1)*T2)/(T1)+Eg)='+string(Vf2)+' V')//calculation."
   ]
   }
,
{
		   "cell_type": "markdown",
		   "metadata": {},
		   "source": [
			"## Example 5.31: RELATIVE_CHANGE_IN_Io.sce"
		   ]
		  },
  {
"cell_type": "code",
	   "execution_count": null,
	   "metadata": {
	    "collapsed": true
	   },
	   "outputs": [],
"source": [
"clc\n",
"T=300\n",
"disp('T = '+string(T)+' K') //initializing value of temperature .\n",
"Eg=0.7*1.6*10^-19\n",
"disp('Eg = '+string(Eg)+' V') //initializing value of Band Gap energy of the material.\n",
"K=1.38*10^-23\n",
"disp('K = '+string(K)+' J/K') //initializing value of boltzmann constant.\n",
"X=((Eg/(K*T^2)))+(3/T)\n",
"disp('Relative change in Io,... 1/Io*(dIo/dT)= '+string(X))//calculation\n",
"//in percent form\n",
"disp('Relative change in Io,... 1/Io*(dIo/dT)= '+string(X*100)+' %')//calculation\n",
"\n",
"//... taking, (1/Io)*(dIo/dT) as 'X'\n",
"\n",
"//This is the solved example of chapter 5 (Ex 5.1)0n page 128"
   ]
   }
,
{
		   "cell_type": "markdown",
		   "metadata": {},
		   "source": [
			"## Example 5.5: FERMI_LEVEL_IN_P_AND_N_JUNCTION_AND_CONTACT_POTENTIAL.sce"
		   ]
		  },
  {
"cell_type": "code",
	   "execution_count": null,
	   "metadata": {
	    "collapsed": true
	   },
	   "outputs": [],
"source": [
"clc\n",
"Na=10^17\n",
"disp('Na = '+string(Na)+'/cm^3') //initializing value of medium p doping concentration.\n",
"Nd=10^15\n",
"disp('Nd = '+string(Nd)+'/cm^3') //initializing value of light n doping .\n",
"no=1.5*10^10\n",
"disp('no = '+string(no)+'cm^-3') //initializing value of intrinsic carrier concentration.\n",
"e=1.6*10^-19\n",
"disp('e = '+string(e)+'columns') //initializing value of charge of electrons.\n",
"K=1.38*10^-23\n",
"disp('K = '+string(K)+'J/k') //initializing value of boltzmann constant.\n",
"T=300\n",
"disp('T = '+string(T)+'K') //initializing value of temperature.\n",
"Efi_Efp=((K*T/e)*log(Na/no))\n",
"disp('(a)fermi level in the P region,Efi_Efp=((KT/e)*log(Na/no)))='+string(Efi_Efp)+'eV')//calculation.\n",
"Efn_Efi=((K*T/e)*log(Nd/no))\n",
"disp('fermi level in the n region,Efn_Efi=((KT/e)*log(Nd/no)))='+string(Efn_Efi)+'eV')//calculation.\n",
"Efn_Efp=(Efi_Efp)+(Efn_Efi)\n",
"disp('(b)junction potential at room temperature,Efn_Efp=(Efi_Efp)+(Efn_Efi))='+string(Efn_Efp)+'eV')//calculation."
   ]
   }
,
{
		   "cell_type": "markdown",
		   "metadata": {},
		   "source": [
			"## Example 5.6: VALUE_OF_JUNCTION_POTENTIAL.sce"
		   ]
		  },
  {
"cell_type": "code",
	   "execution_count": null,
	   "metadata": {
	    "collapsed": true
	   },
	   "outputs": [],
"source": [
"clc\n",
"Na=10^17\n",
"disp('Na = '+string(Na)+'/cm^3') //initializing value of medium p doping concentration.\n",
"Nd=10^15\n",
"disp('Nd = '+string(Nd)+'/cm^3') //initializing value of light n doping .\n",
"no=1.5*10^10\n",
"disp('no = '+string(no)+'cm^-3') //initializing value of intrinsic carrier concentration.\n",
"e=1.6*10^-19\n",
"disp('e = '+string(e)+'columbs') //initializing value of charge of electrons.\n",
"K=1.38*10^-23\n",
"disp('K = '+string(K)+'J/k') //initializing value of boltzmann constant.\n",
"T=300\n",
"disp('T = '+string(T)+'K') //initializing value of temperature.\n",
"Vj=((K*T/e)*log((Na*Nd)/(no)^2))\n",
"disp('Junction potential,Vj=((K*T/e)*log((Na*Nd)/(no)^2))='+string(Vj)+'eV')//calculation."
   ]
   }
,
{
		   "cell_type": "markdown",
		   "metadata": {},
		   "source": [
			"## Example 5.7: VALUE_OF_REVERSE_AND_FORWARD_CURRENT.sce"
		   ]
		  },
  {
"cell_type": "code",
	   "execution_count": null,
	   "metadata": {
	    "collapsed": true
	   },
	   "outputs": [],
"source": [
"clc\n",
"Pp=10^18\n",
"disp('Pp = '+string(Pp)+'/cm^3') //initializing value of doping concentration in p region.\n",
"Nn=10^15\n",
"disp('Nn = '+string(Nn)+'/cm^3') //initializing value of doping concentration in n region.\n",
"tp=7*10^-6\n",
"disp('tp = '+string(tp)+'s') //initializing value of hole lifetime.\n",
"tn=0.2*10^-6\n",
"disp('tn = '+string(tn)+'s') //initializing value of electron lifetime.\n",
"up=800\n",
"disp('up = '+string(up)+'cm2/Vs') //initializing value of P side mobility.\n",
"un=300\n",
"disp('un = '+string(un)+'cm2/Vs') //initializing value of n side mobility.\n",
"no=1.5*10^10\n",
"disp('no = '+string(no)+'cm^-3') //initializing value of intrinsic concentration.\n",
"Vf=0.6\n",
"disp('Vf = '+string(Vf)+'V') //initializing value of forward bias voltage.\n",
"A=100*10^-6\n",
"disp('A = '+string(A)+'m^2') //initializing value of diode cross-sectional area.\n",
"e=1.6*10^-19\n",
"disp('e = '+string(e)+'columns') //initializing value of charge of electrons.\n",
"K=1.38*10^-23\n",
"disp('K = '+string(K)+'J/k') //initializing value of boltzmann constant.\n",
"T=300\n",
"disp('T = '+string(T)+'K') //initializing value of temperature.\n",
"Vt=(K*T/e)\n",
"disp('Vt=(K*T/e))='+string(Vt)+'eV')//calculation.\n",
"Dp=Vt*un\n",
"disp('Dp=Vt*un='+string(Dp)+'cm^-3')//calculation.\n",
"Dn=Vt*up\n",
"disp('Dn=Vt*up='+string(Dn)+'cm^-3')//calculation.\n",
"Lp=sqrt(Dp*tp)\n",
"disp('Lp=(sqrt(Dp*tp))='+string(Lp)+'cm')//calculation.\n",
"Ln=(sqrt(Dn*tn))\n",
"disp('Ln=(sqrt(Dn*tn))='+string(Ln)+'cm')//calculation.\n",
"npo=(no^2/Pp)\n",
"disp('npo=(no^2/Pp)='+string(npo)+'cm^-3')//calculation.\n",
"Ppo=(no^2/Nn)\n",
"disp('Ppo=(no^2/Nn)='+string(Ppo)+'cm^-3')//calculation.\n",
"Io=(((Dp*Ppo)/(Lp))+((Dn*npo)/(Ln)))*e*A\n",
"disp('Reverse saturation current ,Io=(((Dp*Ppo)/(Lp))+((Dn*npo)/(Ln)))*e*A='+string(Io)+'A')//calculation.\n",
"If=Io*((exp(Vf/Vt))-1)\n",
"disp('Diode forward current,If=Io*((exp(Vf/Vt))-1)='+string(If)+'A')//calculation.\n",
"//the value of Io(reverse saturation current ),after calculation is provided wrong in the book.Due to which If (diode forward current )also differ.\n",
"\n",
"\n",
"\n",
"\n",
"\n",
"\n",
"\n",
"\n",
"\n",
"\n",
"\n",
"\n",
"\n",
"\n",
"\n",
"\n",
"\n",
"\n",
"\n",
"\n",
"\n",
"\n",
"\n",
"\n",
"\n",
"\n",
"\n",
"\n",
"\n",
""
   ]
   }
,
{
		   "cell_type": "markdown",
		   "metadata": {},
		   "source": [
			"## Example 5.8: VALUE_OF_BUILT_IN_POTENTIAL.sce"
		   ]
		  },
  {
"cell_type": "code",
	   "execution_count": null,
	   "metadata": {
	    "collapsed": true
	   },
	   "outputs": [],
"source": [
"clc\n",
"Na=4*10^16\n",
"disp('Na = '+string(Na)+'cm^-3') //initializing value of acceptor concentration.\n",
"Nd=2*10^19\n",
"disp('Nd = '+string(Nd)+'cm^-3') //initializing value of donor concentration.\n",
"no=1.5*10^10\n",
"disp('no = '+string(no)+'cm^-3') //initializing value of intrinsic carrier concentration.\n",
"e=1.6*10^-19\n",
"disp('e = '+string(e)+'columns') //initializing value of charge of electrons.\n",
"K=1.38*10^-23\n",
"disp('K = '+string(K)+'J/k') //initializing value of boltzmann constant.\n",
"T=300\n",
"disp('T = '+string(T)+'K') //initializing value of temperature.\n",
"Vbi=((K*T/e)*log((Na*Nd)/(no)^2))\n",
"disp('Built in potential potential,Vbi=((K*T/e)*log((Na*Nd)/(no)^2))='+string(Vbi)+'V')//calculation.\n",
"\n",
"//The value used for Nd in the book for solution is different than provided in the question.\n",
"//I have used the value provided in the solution(i.e Nd=2*10^19)"
   ]
   }
,
{
		   "cell_type": "markdown",
		   "metadata": {},
		   "source": [
			"## Example 5.9: VALUE_OF_BUILT_IN_POTENTIAL.sce"
		   ]
		  },
  {
"cell_type": "code",
	   "execution_count": null,
	   "metadata": {
	    "collapsed": true
	   },
	   "outputs": [],
"source": [
"clc\n",
"Na=4*10^16\n",
"disp('Na = '+string(Na)+'cm^-3') //initializing value of acceptor concentration.\n",
"Nd=2*10^19\n",
"disp('Nd = '+string(Nd)+'cm^-3') //initializing value of donor concentration.\n",
"no=1.8*10^6\n",
"disp('no = '+string(no)+'cm^-3') //initializing value of intrinsic carrier concentration.\n",
"e=1.6*10^-19\n",
"disp('e = '+string(e)+'columns') //initializing value of charge of electrons.\n",
"K=1.38*10^-23\n",
"disp('K = '+string(K)+'J/k') //initializing value of boltzmann constant.\n",
"T=300\n",
"disp('T = '+string(T)+'K') //initializing value of temperature.\n",
"Vbi=((K*T/e)*log((Na*Nd)/(no)^2))\n",
"disp('Built in potential potential,Vbi=((K*T/e)*log((Na*Nd)/(no)^2))='+string(Vbi)+'V')//calculation."
   ]
   }
],
"metadata": {
		  "kernelspec": {
		   "display_name": "Scilab",
		   "language": "scilab",
		   "name": "scilab"
		  },
		  "language_info": {
		   "file_extension": ".sce",
		   "help_links": [
			{
			 "text": "MetaKernel Magics",
			 "url": "https://github.com/calysto/metakernel/blob/master/metakernel/magics/README.md"
			}
		   ],
		   "mimetype": "text/x-octave",
		   "name": "scilab",
		   "version": "0.7.1"
		  }
		 },
		 "nbformat": 4,
		 "nbformat_minor": 0
}
