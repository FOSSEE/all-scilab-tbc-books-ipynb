{
"cells": [
 {
		   "cell_type": "markdown",
	   "metadata": {},
	   "source": [
       "# Chapter 10: SILICON CONTROLLED RECTIFIER"
	   ]
	},
{
		   "cell_type": "markdown",
		   "metadata": {},
		   "source": [
			"## Example 10.2: VALUE_OF_PUNCH_THROUGH_VOLTAGE.sce"
		   ]
		  },
  {
"cell_type": "code",
	   "execution_count": null,
	   "metadata": {
	    "collapsed": true
	   },
	   "outputs": [],
"source": [
"clc\n",
"Nd=10^14\n",
"disp('Nd = '+string(Nd)+' /cm^-3') //initializing value of donor ion  concentration.\n",
"Er=11.9\n",
"disp('Er = '+string(Er)) //initializing value of relative dielectric permittivity constant .\n",
"e=1.6*10^-19\n",
"disp('e = '+string(e)+' columns') //initializing value of charge of electrons.\n",
"Eo=8.854*10^-14\n",
"disp('Eo = '+string(Eo)+' F/cm') //initializing value of permittivity of free space.\n",
"W=100*10^-4\n",
"disp('W = '+string(W)+' cm') //initializing value of width of SCR.\n",
"E=Eo*Er\n",
"disp('total permittivity,E=Eo*Er='+string(E)+' F/cm')//calculation\n",
"Vpt=(e*Nd*W^2)/(2*E)\n",
"disp('Punch trough voltage,Vpt=(e*Nd*W^2)/(2*E))='+string(Vpt)+' V')//calculation"
   ]
   }
,
{
		   "cell_type": "markdown",
		   "metadata": {},
		   "source": [
			"## Example 10.3: VALUE_OF_THE_DIFFERENTIAL_TERM.sce"
		   ]
		  },
  {
"cell_type": "code",
	   "execution_count": null,
	   "metadata": {
	    "collapsed": true
	   },
	   "outputs": [],
"source": [
"clc\n",
"Ia=2*10^-3\n",
"disp('Ia = '+string(Ia)+' A') //initializing value of forward current of thyrsistor.\n",
"x=0.9\n",
"disp('(ap+an) = '+string(x)) //initializing value of sum of current gain of n,ptype semiconductor [value is get in by variable x,but represented on console window through ap +an].\n",
"a=0.45\n",
"disp('a = '+string(a)) //initializing value of current gain of both n,p type semiconductor (as it is assume that ap[current gain of n type semiconductor]=an[current gain of ptype semiconductor]in the question).\n",
"Ico=Ia*(1-(2*a))\n",
"disp('Ico=Ia*(1-(2*an))='+string(Ico)+' A')//calculation\n",
"y=1/2*Ico*((Ia)^-2)\n",
"disp('(da/dt)=1/2*Ico*((Ia)^-2))='+string(y)+' /A')//calculation\n",
"\n",
"//The answer for (da/dt) after  doing calculation is provided wrong in the book."
   ]
   }
],
"metadata": {
		  "kernelspec": {
		   "display_name": "Scilab",
		   "language": "scilab",
		   "name": "scilab"
		  },
		  "language_info": {
		   "file_extension": ".sce",
		   "help_links": [
			{
			 "text": "MetaKernel Magics",
			 "url": "https://github.com/calysto/metakernel/blob/master/metakernel/magics/README.md"
			}
		   ],
		   "mimetype": "text/x-octave",
		   "name": "scilab",
		   "version": "0.7.1"
		  }
		 },
		 "nbformat": 4,
		 "nbformat_minor": 0
}
