{
"cells": [
 {
		   "cell_type": "markdown",
	   "metadata": {},
	   "source": [
       "# Chapter 4: EXCESS CARRIER IN SEMICONDUCTOR"
	   ]
	},
{
		   "cell_type": "markdown",
		   "metadata": {},
		   "source": [
			"## Example 4.2: DIELECTRIC_RELAXATION_TIME.sce"
		   ]
		  },
  {
"cell_type": "code",
	   "execution_count": null,
	   "metadata": {
	    "collapsed": true
	   },
	   "outputs": [],
"source": [
"clc\n",
"Nd=2*10^17\n",
"disp('Nd = '+string(Nd)+'cm^-3') //initializing value of donor concentration.\n",
"Er=11.9\n",
"disp('Er = '+string(Er)) //initializing value of relative dielectric constant.\n",
"e=1.6*10^-19\n",
"disp('e = '+string(e)+'columns') //initializing value of charge of electrons.\n",
"Eo=8.854*10^-14\n",
"disp('eo = '+string(Eo)) //initializing value of permittivity of free space.\n",
"un=1350\n",
"disp('un = '+string(un)+'cm2/Vs') //initializing value of mobility.\n",
"sigma=e*un*Nd\n",
"disp('conducitivity,sigma=e*un*Nd)='+string(sigma)+'S/cm')//calculation\n",
"td=((Er*Eo)/sigma)\n",
"disp('Dielectric releaxation time,td=((Er*Eo)/sigma))='+string(td)+'s')//calculation"
   ]
   }
,
{
		   "cell_type": "markdown",
		   "metadata": {},
		   "source": [
			"## Example 4.3: ELECTRON_HOLE_RECOMBINATION.sce"
		   ]
		  },
  {
"cell_type": "code",
	   "execution_count": null,
	   "metadata": {
	    "collapsed": true
	   },
	   "outputs": [],
"source": [
"clc\n",
"n=10^15\n",
"disp('n = '+string(n)+'cm^-3') //initializing value of concentration of electrons/cm^3.\n",
"no=10^10\n",
"disp('no = '+string(no)+'cm^-3') //initializing value of intrinsic concentration of electron.\n",
"t=10^-6\n",
"disp('t = '+string(t)+'s') //initializing value of carrier lifetime.\n",
"c=1*10^14\n",
"disp('Excess electron concentration  = '+string(c)+'cm^-3') //initializing value of excess electrons concentration.\n",
"R=(c/t)\n",
"disp('electron hole recombination,R=(c/t))='+string(R)+' /cm^3s')//calculation"
   ]
   }
,
{
		   "cell_type": "markdown",
		   "metadata": {},
		   "source": [
			"## Example 4.4: GENERATION_AND_RECOMBINATION_RATE_OF_EHPS_AND_MAJORITY_CARRIER_LIFETIME.sce"
		   ]
		  },
  {
"cell_type": "code",
	   "execution_count": null,
	   "metadata": {
	    "collapsed": true
	   },
	   "outputs": [],
"source": [
"clc\n",
"Nd=10^15\n",
"disp('Nd = '+string(Nd)+'cm^-3') //initializing value of donor concentration..\n",
"tn=10*10^-6\n",
"disp('minority carrier lifetime = '+string(tn)+'s') //initializing value of minority carrier lifetime.\n",
"no=1.5*10^10\n",
"disp('no = '+string(no)+'cm^-3') //initializing value of electron and hole concentration per cm^3.\n",
"p=(no^2/Nd)\n",
"disp('excess carrier concentration,p=(no^2/Nd))='+string(p)+'/cm^3')//calculation\n",
"R=(p/tn)\n",
"disp('electron hole generation and recombination rate,R=(p/t))='+string(R)+'/cm^3s')//calculation\n",
"t=Nd/R\n",
"disp('majority carrier concentration,t=Nd/R)='+string(t)+'s')//calculation.\n",
"\n",
"\n",
"//the value of majority carrier concentration,t=Nd/R (after calculation),is provided wrong in the solution."
   ]
   }
,
{
		   "cell_type": "markdown",
		   "metadata": {},
		   "source": [
			"## Example 4.5: QUASI_FERMI_LEVELS.sce"
		   ]
		  },
  {
"cell_type": "code",
	   "execution_count": null,
	   "metadata": {
	    "collapsed": true
	   },
	   "outputs": [],
"source": [
"clc\n",
"Nd=10^16\n",
"disp('Nd = '+string(Nd)+' cm^-3') //initializing value of donor concentration.\n",
"p=10^6\n",
"disp('p = '+string(p)+' cm^-3') //initializing value of minority hole concentration.\n",
"no=10^10\n",
"disp('no = '+string(no)+' cm^-3') //initializing value of electron and hole concentration per cm^3..\n",
"n1=10^15\n",
"disp('n* = '+string(n1)+' cm^-3') //initializing value of excess electron carrier concentration(denoted by n*).\n",
"p1=10^15\n",
"disp('p* = '+string(p1)+' cm^-3') //initializing value of excess hole carrier concentration(denoted by p*).\n",
"KT=0.0259\n",
"disp('KT = '+string(KT)+' eV') //initializing value of multipication of temperature and bolzmann constant.\n",
"T=300\n",
"disp('T = '+string(T)+' K') //initializing value of temperature.\n",
"Ef_Efi=(log(Nd/no)*KT)\n",
"disp('Thermal equilibirium fermi level,(Ef_Efi)=(KT*log(n/no)))='+string(Ef_Efi)+' eV')//calculation.\n",
"Efn_Efi=log((Nd+n1)/no)*KT\n",
"disp('Quasi-fermi levels for n-type dopant,(Efn_Efi)=(KT*log((n+n*)/no))='+string(Efn_Efi)+' eV')//calculation.\n",
"Efi_Efp=log((Nd+p1)/no)*KT\n",
"disp('Quasi-fermi levels for p-type dopant,(Efi_Efp)=(KT*log((p+p*)/no))='+string(Efi_Efp)+' eV')//calculation.\n",
"\n",
"//the answer for Efn_Efi,Efi_Efp is provided wrong in the book.\n",
"//In this question,Nd=(n(used in the formula)).\n",
"\n",
""
   ]
   }
,
{
		   "cell_type": "markdown",
		   "metadata": {},
		   "source": [
			"## Example 4.6: ENERGY_DIFFERENCE_BETWEEN_EFn_AND_EFi.sce"
		   ]
		  },
  {
"cell_type": "code",
	   "execution_count": null,
	   "metadata": {
	    "collapsed": true
	   },
	   "outputs": [],
"source": [
"clc\n",
"Nd=5*10^16\n",
"disp('Nd = '+string(Nd)+'cm^-3') //initializing value of donor ion concentration.\n",
"Na=0\n",
"disp('Na = '+string(Na)+'cm^-3') //initializing value of acceptor ion concentration.\n",
"no=1.5*10^10\n",
"disp('no = '+string(no)+'cm^-3') //initializing value of electron and hole concentration per cm^3.\n",
"n1=5*10^14\n",
"disp('n* = '+string(n1)+'cm^-3') //initializing value of excess electron carrier concentration.\n",
"p1=5*10^14\n",
"disp('p* = '+string(p1)+'cm^-3') //initializing value of excess hole carrier concentration.\n",
"KT=0.0259\n",
"disp('KT = '+string(KT)) //initializing value of thermal voltage.\n",
"Ef_Efi=(KT*log(Nd/no))\n",
"disp('thermal equilibrium fermi level,(Ef_Efi)=(KT*log(n/no)))='+string(Ef_Efi)+'eV')//calculation.\n",
"Efn_Efi=log((Nd+n1)/no)*KT\n",
"disp('Excess carrier concentration ,(Efn_Efi)=(KT*log((n+n*)/no))='+string(Efn_Efi)+'eV')//calculation.\n",
"Efi_Efp=log((Na+p1)/no)*KT\n",
"disp('(Ef_Efi)=(KT*log((p+p*)/no))='+string(Efi_Efp)+'eV')//calculation."
   ]
   }
],
"metadata": {
		  "kernelspec": {
		   "display_name": "Scilab",
		   "language": "scilab",
		   "name": "scilab"
		  },
		  "language_info": {
		   "file_extension": ".sce",
		   "help_links": [
			{
			 "text": "MetaKernel Magics",
			 "url": "https://github.com/calysto/metakernel/blob/master/metakernel/magics/README.md"
			}
		   ],
		   "mimetype": "text/x-octave",
		   "name": "scilab",
		   "version": "0.7.1"
		  }
		 },
		 "nbformat": 4,
		 "nbformat_minor": 0
}
