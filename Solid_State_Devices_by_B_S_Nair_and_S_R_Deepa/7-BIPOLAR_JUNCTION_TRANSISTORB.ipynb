{
"cells": [
 {
		   "cell_type": "markdown",
	   "metadata": {},
	   "source": [
       "# Chapter 7: BIPOLAR JUNCTION TRANSISTORB"
	   ]
	},
{
		   "cell_type": "markdown",
		   "metadata": {},
		   "source": [
			"## Example 7.10: CHANGE_IN_THE_COLLECTOR_CURRENT.sce"
		   ]
		  },
  {
"cell_type": "code",
	   "execution_count": null,
	   "metadata": {
	    "collapsed": true
	   },
	   "outputs": [],
"source": [
"clc\n",
"ro=500*10^3\n",
"disp('ro = '+string(ro)+' ohm') //initializiation the value of output resistance .\n",
"Vce1=7\n",
"disp('Vce1 = '+string(Vce1)+' V') //initializiation the initial value of collector emitter voltage .\n",
"Vce2=1\n",
"disp('Vce2 = '+string(Vce2)+' V') //initializiation the final value of collector emitter  voltage .\n",
"Vce=6\n",
"disp('change in the collector-emitter voltage,Vce1-Vce2 = '+string(Vce)+' V') //calculation.\n",
"Ic=(Vce/ro)\n",
"disp('change in the collector current,Ic=(Vce/ro))='+string(Ic)+' A')//calculation"
   ]
   }
,
{
		   "cell_type": "markdown",
		   "metadata": {},
		   "source": [
			"## Example 7.1: MAGNITUDE_OF_Io_AND_COLLECTOR_CURRENT.sce"
		   ]
		  },
  {
"cell_type": "code",
	   "execution_count": null,
	   "metadata": {
	    "collapsed": true
	   },
	   "outputs": [],
"source": [
"clc\n",
"Dnb=20\n",
"disp('Dnb = '+string(Dnb)+' cm^2/s') //initializiation the value of one of base parametre of NPN transistor.\n",
"nB=10^4\n",
"disp('nB = '+string(nB)+' /cm^3') //initializiation the value of one of base parametre of NPN transistor.\n",
"xB=1*10^-6\n",
"disp('xB = '+string(xB)+' m') //initializiation the value of one of base parametre of NPN transistor.\n",
"AB=10^-4\n",
"disp('AB = '+string(AB)+' cm^2') //initializiation the value of one of base parametre of NPN transistor.\n",
"e=1.6*10^-19\n",
"disp('e = '+string(e)+' columns') //initializiation the value of electronic charge .\n",
"Vbe=0.5\n",
"disp('Vbe = '+string(Vbe)+' V') //initializiation the value of base emitter voltage of NPN transistor..\n",
"VT=0.0259\n",
"disp('VT = '+string(VT)+' V') //initializiation the value of threshold voltage.\n",
"WB=10^-4\n",
"disp('WB = '+string(WB)+' cm') //initializiation the value of base width of NPN transistor.\n",
"Io=((e*AB*Dnb*nB)/(WB))\n",
"disp('Magnitude of Io,Io=((e*AB*Dnb*nB)/(WB)))='+string(Io)+' A')//calculation\n",
"Ic=Io*(exp(Vbe/VT)-1)\n",
"disp('Collector current,Ic=Io((exp(Vbe/VT))-1))='+string(Ic)+' A')//calculation"
   ]
   }
,
{
		   "cell_type": "markdown",
		   "metadata": {},
		   "source": [
			"## Example 7.2: CONCENTRATION_OF_nEO_pBO_AND_nCO.sce"
		   ]
		  },
  {
"cell_type": "code",
	   "execution_count": null,
	   "metadata": {
	    "collapsed": true
	   },
	   "outputs": [],
"source": [
"clc\n",
"NE=5*10^17\n",
"disp('NE = '+string(NE)+' /cm^3') //initializiation the value of doping concentration in the emitter .\n",
"NB=10^16\n",
"disp('NB = '+string(NB)+' /cm^3') //initializiation the value of doping concentration in the base.\n",
"NC=10^15\n",
"disp('NC = '+string(NC)+' /cm^3') //initializiation the value of doping concentration in the collector.\n",
"WB=0.8*10^-4\n",
"disp('WB = '+string(WB)+' cm') //initializiation the value of base width of NPN transistor.\n",
"no=1.5*10^10\n",
"disp('no = '+string(no)+'cm^-3') //initializing the intrinsic carrier concentration.\n",
"pEO=(no^2/NE)\n",
"disp('Number of Majority holes in the emitter,pEO=(no^2/NE) )='+string(pEO)+' /cm^3')//calculation\n",
"nBO=(no^2/NB)\n",
"disp('Number of Majority holes in the base,nBO=(no^2/NB))='+string(nBO)+' /cm^3')//calculation\n",
"pCO=(no^2/NC)\n",
"disp('Number of Majority holes in the collector,pCO=(no^2/NC))='+string(pCO)+' /cm^3')//calculation"
   ]
   }
,
{
		   "cell_type": "markdown",
		   "metadata": {},
		   "source": [
			"## Example 7.3: VALUE_OF_pBO_AND_nB.sce"
		   ]
		  },
  {
"cell_type": "code",
	   "execution_count": null,
	   "metadata": {
	    "collapsed": true
	   },
	   "outputs": [],
"source": [
"clc\n",
"NE=5*10^17\n",
"disp('NE = '+string(NE)+' /cm^3') //initializiation of doping concentration in the emitter. \n",
"NB=10^16\n",
"disp('NB = '+string(NB)+' /cm^3') //initializiation of doping concentration in the base. \n",
"NC=10^15\n",
"disp('NC = '+string(NC)+' /cm^3') //initializiation of doping concentration in the collector. \n",
"WB=0.8*10^-4\n",
"disp('WB = '+string(WB)+' cm') //initializiation  the value of base width of NPN transistor.\n",
"no=1.5*10^10\n",
"disp('no = '+string(no)+'cm^-3') //initializing the value of  intrinsic carrier concentration.\n",
"VT=0.0259\n",
"disp('VT = '+string(VT)+' V') //initializiation the value of threshold voltage.\n",
"VJ=0.6258\n",
"disp('VJ=Vbe = '+string(VJ)+' V') //initializiation the value of base emitter voltage.\n",
"pEO=(no^2/NE)\n",
"disp('Number of Majority holes in the emitter,pEO=(no^2/NE) )='+string(pEO)+' /cm^3')//calculation\n",
"nBO=(no^2/NB)\n",
"disp('Number of Majority holes in the base,nBO=(no^2/NB))='+string(nBO)+' /cm^3')//calculation\n",
"pCO=(no^2/NC)\n",
"disp('Number of Majority holes in the collector,pCO=(no^2/NC))='+string(pCO)+' /cm^3')//calculation\n",
"pE=pEO*(exp(VJ/VT))\n",
"disp('pE(O)=pEO*(exp(VJ/VT)))='+string(pE)+' /cm^3')//calculation\n",
"nB=nBO*(exp(VJ/VT))\n",
"disp('nB=(nBO*(exp(VJ/VT))))='+string(nB)+' /cm^3')//calculation\n",
"\n",
"\n",
"//the answer provided in the book for pE,nB is some what different than actual calculated. "
   ]
   }
,
{
		   "cell_type": "markdown",
		   "metadata": {},
		   "source": [
			"## Example 7.5: VALUE_OF_BASE_WIDTH.sce"
		   ]
		  },
  {
"cell_type": "code",
	   "execution_count": null,
	   "metadata": {
	    "collapsed": true
	   },
	   "outputs": [],
"source": [
"clc\n",
"Db=10\n",
"disp('Db = '+string(Db)+' cm^2/s') //initializiation the value of one of parametere of the transistor.\n",
"Bt=0.95\n",
"disp('Bt = '+string(Bt)) //initializiation the value of base transport factor of the transistor.\n",
"tb=10^-7\n",
"disp('tb = '+string(tb)+' s') //initializiation the value of one of parametere of the transistor.\n",
"Lp=(sqrt(Db*tb))\n",
"disp('Lp=(sqrt(Db*tb)))='+string(Lp)+' cm')//calculation\n",
"WB=(Lp*(acosh(1/Bt)))\n",
"disp('WB=(Lp*(acosh(1/Bt)))='+string(WB)+' cm')//calculation"
   ]
   }
,
{
		   "cell_type": "markdown",
		   "metadata": {},
		   "source": [
			"## Example 7.7: VALUE_OF_DELTA.sce"
		   ]
		  },
  {
"cell_type": "code",
	   "execution_count": null,
	   "metadata": {
	    "collapsed": true
	   },
	   "outputs": [],
"source": [
"clc\n",
"Jro=10^-9\n",
"disp('Jro = '+string(Jro)+' A/cm^2') //initializiation the value of recombination current density.\n",
"Jo=10^-12\n",
"disp('Jo = '+string(Jo)+' A/cm^2') //initializiation the value of reverse saturation current density.\n",
"Vbe=0.5\n",
"disp('Vbe = '+string(Vbe)+' V') //initializiation the value of base emitter voltage.\n",
"VT=0.0259\n",
"disp('VT = '+string(VT)+' V') //initializiation the value of threshold voltage.\n",
"delta=(1+((Jro/Jo)*(exp((-Vbe)/(2*VT)))))^-1\n",
"disp('delta (recombination factor)=(1+((Jro/Jo)*(exp((-Vbe)/(2*VT)))))^-1)='+string(delta))//calculation."
   ]
   }
,
{
		   "cell_type": "markdown",
		   "metadata": {},
		   "source": [
			"## Example 7.8: COMMON_BASE_AND_COMMON_EMITTER_CURRENT_GAIN.sce"
		   ]
		  },
  {
"cell_type": "code",
	   "execution_count": null,
	   "metadata": {
	    "collapsed": true
	   },
	   "outputs": [],
"source": [
"clc\n",
"NE=1*10^17\n",
"disp('NE = '+string(NE)+' /cm^3') //initializiation the value of doping concentration of emitter in the NPN transistor. \n",
"NB=10^15\n",
"disp('NB = '+string(NB)+' /cm^3') //initializiation the value of doping concentration of base in the NPN transistor. \n",
"WE=0.6*10^-4\n",
"disp('WE = '+string(WE)+' cm') //initializiation the value of one of parametre of the transistor.\n",
"WB=0.8*10^-4\n",
"disp('WB = '+string(WB)+' cm') //initializiation the value of one of parametre of the transistor.\n",
"no=1.5*10^10\n",
"disp('no = '+string(no)+'cm^-3') //initializing the value of intrinsic carrier concentration.\n",
"e=1.6*10^-19\n",
"disp('e = '+string(e)+' columns') //initializiation the value of electronic charge \n",
"DE=15\n",
"disp('DE = '+string(DE)+' cm^2/s') //initializiation the value of one of parametere of the transistor.\n",
"DB=20\n",
"disp('DB = '+string(DB)+' cm^2/s') //initializiation the value of one of parametere of the transistor.\n",
"tE=0.2*10^-6\n",
"disp('tE = '+string(tE)+' s') //initializiation the value of one of parametere of the transistor.\n",
"tB=0.1*10^-6\n",
"disp('tB = '+string(tB)+' s') //initializiation the value of one of parametere of the transistor.\n",
"Vbe=0.60\n",
"disp('Vbe = '+string(Vbe)+' V') //initializiation the value of base emitter voltage .\n",
"VT=0.0259\n",
"disp('VT = '+string(VT)+' V') //initializiation the value of threshold voltage.\n",
"Jro=2*10^-8\n",
"disp('Jro = '+string(Jro)+' A/cm^2') //initializiation the value of recombination current density.\n",
"LE=(sqrt(DE*tE))\n",
"disp('LE=(sqrt(DE*tE)))='+string(LE)+' cm')//calculation\n",
"LB=(sqrt(DB*tB))\n",
"disp('LB=(sqrt(DB*tB)))='+string(LB)+' cm')//calculation\n",
"pEO=(no^2/NE)\n",
"disp('Number of Majority holes in the emitter,pEO=(no^2/NE) )='+string(pEO)+' /cm^3')//calculation\n",
"nBO=(no^2/NB)\n",
"disp('Number of Majority holes in the base,nBO=(no^2/NB))='+string(nBO)+' /cm^3')//calculation\n",
"Y=(1+(((NB*DE*LB)/(NE*DB*LE))*((tanh(WB/LB)/tanh(WE/LE)))))^(-1)\n",
"disp('Emitter injection efficiency,Y=(1+((NB*DE*LB)/(NE*DB*LE)*(tanh(WB/LB)/tanh(WE/LE)))) )='+string(Y))//calculation\n",
"Bt=(cosh(WB/LB))^-1\n",
"disp('Base transport factor,Bt=(cosh(WB/LB))^-1)='+string(Bt))//calculation\n",
"Jo=((e*DB*nBO)/(LB*tanh(WB/LB)))\n",
"disp('Reverse saturation current Density,Jro=((e*DB*nBO)/(LB*tanh(WB/LB))))='+string(Jo)+'A/cm^2')//calculation\n",
"delta=(1+((Jro/Jo)*(exp((-Vbe)/(2*VT)))))^-1\n",
"disp('delta(recombination factor)=(1+((Jro/Jo)*(exp((-Vbe)/(2*VT)))))^-1)='+string(delta)+' A')//calculation\n",
"a=Bt*delta*Y\n",
"disp('common base current amplification factor,(alpha=Bt*delta*Y)='+string(a))//calculation\n",
"B=(a/(1-a))\n",
"disp('common emitter current amplification factor,Beta=(a/(1-a)))='+string(B))//calculation\n",
"//the value of NE provided in the question is different than used in the solution .\n",
"//I have used the value (while solving) provided in the question (i.e NE=10^17/cm^3). \n",
"\n",
"\n",
"\n",
"\n",
"\n",
"\n",
"\n",
"\n",
"\n",
"\n",
"\n",
"\n",
"\n",
"\n",
"\n",
"\n",
"\n",
"\n",
""
   ]
   }
,
{
		   "cell_type": "markdown",
		   "metadata": {},
		   "source": [
			"## Example 7.9: CHANGE_IN_THE_NEUTRAL_BASE_WIDTH.sce"
		   ]
		  },
  {
"cell_type": "code",
	   "execution_count": null,
	   "metadata": {
	    "collapsed": true
	   },
	   "outputs": [],
"source": [
"clc\n",
"NB=5*10^16\n",
"disp('NB = '+string(NB)+' /cm^3') //initializiation the doping concentration in the base.\n",
"NC=2*10^15\n",
"disp('NC = '+string(NC)+' /cm^3') //initializiation the doping concentration in the collector.\n",
"WBm=0.6*10^-4\n",
"disp('WBm = '+string(WBm)+' cm') //initializiation the value of actual base width.\n",
"e=1.6*10^-19\n",
"disp('e = '+string(e)+' columns') //initializiation the value of electronic charge.\n",
"VCB1=1\n",
"disp('VCB1 = '+string(VCB1)+' V') //initializiation the initial value of collector base voltage .\n",
"VCB2=4\n",
"disp('VCB2 = '+string(VCB2)+' V') //initializiation the final value of collector base voltage.\n",
"Er=11.9\n",
"disp('Er = '+string(Er)) //initializing value of relative dielectric permittivity constant .\n",
"Eo=8.854*10^-14\n",
"disp('Eo = '+string(Eo)+' F/cm') //initializing value of permittivity of free space.\n",
"no=1.5*10^10\n",
"disp('no = '+string(no)+'cm^-3') //initializing  the value of intrinsic charge carriers\n",
"VT=0.0259\n",
"disp('VT = '+string(VT)+' V') //initializiation the value of threshold voltage.\n",
"VBI=VT*(log((NB*NC)/no^2))\n",
"disp(' VBI=VT*(log((NB*NC)/no^2))='+string(VBI)+' V')//calculation\n",
"WBS1=((2*Eo*Er*(VBI+VCB1)/e)*(NC/NB)*(1/(NC+NB)))^(1/2)\n",
"disp('WBS=((2*Eo*Er*(VBI+VCB1)/e)*(NC/NB)*(1/(NC+NB)))^(1/2))='+string(WBS1)+' cm')//calculation\n",
"Wb1=WBm-WBS1\n",
"disp('Neutral base width for VCB1,WB(neutral)=WBm-WBS1='+string(Wb1)+' cm')//calculation\n",
"WBS2=((2*Eo*Er*(VBI+VCB2)/e)*(NC/NB)*(1/(NC+NB)))^(1/2)\n",
"disp('WBS=((2*Eo*Er*(VBI+VCB2)/e)*(NC/NB)*(1/(NC+NB)))^(1/2))='+string(WBS2)+' cm')//calculation\n",
"Wb2=WBm-WBS2\n",
"disp('Neutral base width for VCB2,WB(neutral)=WBm-WBS2='+string(Wb2)+' cm')//calculation\n",
"deltaWbneutral=Wb1-Wb2\n",
"disp('change in the neutal base width ,deltaWb(neutral)=Wb1-Wb2='+string(deltaWbneutral)+' cm')//calculation"
   ]
   }
],
"metadata": {
		  "kernelspec": {
		   "display_name": "Scilab",
		   "language": "scilab",
		   "name": "scilab"
		  },
		  "language_info": {
		   "file_extension": ".sce",
		   "help_links": [
			{
			 "text": "MetaKernel Magics",
			 "url": "https://github.com/calysto/metakernel/blob/master/metakernel/magics/README.md"
			}
		   ],
		   "mimetype": "text/x-octave",
		   "name": "scilab",
		   "version": "0.7.1"
		  }
		 },
		 "nbformat": 4,
		 "nbformat_minor": 0
}
