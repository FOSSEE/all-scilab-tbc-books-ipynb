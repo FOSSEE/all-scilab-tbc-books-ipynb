{
"cells": [
 {
		   "cell_type": "markdown",
	   "metadata": {},
	   "source": [
       "# Chapter 8: THE FIELD EFFECT TRANSISTOR"
	   ]
	},
{
		   "cell_type": "markdown",
		   "metadata": {},
		   "source": [
			"## Example 8.10: VALUE_OF_Id.sce"
		   ]
		  },
  {
"cell_type": "code",
	   "execution_count": null,
	   "metadata": {
	    "collapsed": true
	   },
	   "outputs": [],
"source": [
"clc\n",
"L=1.25*10^-4\n",
"disp('L = '+string(L)+' cm') //initializing value of length of channel.\n",
"un=600\n",
"disp('un = '+string(un)+'cm^2/V-s') //initializing value of mobility of n-channel MOS transistor.\n",
"Co=6.9*10^-9\n",
"disp('Co = '+string(Co)+'F/cm^2') //initializing value of capacitance per unit area .\n",
"VT=0.60\n",
"disp('VT = '+string(VT)+' V') //initializing value of threshold Voltage.\n",
"Vgs=4\n",
"disp('Vgs = '+string(Vgs)+' V') //initializing value of gate to source voltage.\n",
"W=12*10^-4\n",
"disp('W = '+string(W)+'cm') //initializing value of width of channel.\n",
"Id=((Co*un*W)/(L)*((Vgs-VT)^2/(2)))\n",
"disp('Drain current,Id=((Co*un*W)/(L)*((Vgs-VT)^2/(2)))='+string(Id)+' A')//calculation.\n",
"\n",
"\n",
"//The answer provided in the book (for Id) is wrong as the value of mobility used for solution is different than provided in the question and also value of (Vgs-Vt) is put wrong in the solution than given in the book. \n",
"//I have used the value given in the question i.e. answer differ."
   ]
   }
,
{
		   "cell_type": "markdown",
		   "metadata": {},
		   "source": [
			"## Example 8.13: MINIMUM_CAPACITANCE_AND_FLAT_BAND_CAPACITANCE.sce"
		   ]
		  },
  {
"cell_type": "code",
	   "execution_count": null,
	   "metadata": {
	    "collapsed": true
	   },
	   "outputs": [],
"source": [
"clc\n",
"Na=2*10^17\n",
"disp('Na = '+string(Na)+' /cm^3') //initializing value of acceptor ion  concentration.\n",
"Er=11.9\n",
"disp('Er = '+string(Er)) //initializing value of relative dielectric permittivity constant .\n",
"Eo=8.854*10^-14\n",
"disp('Eo = '+string(Eo)+' F/cm') //initializing value of permittivity of free space.\n",
"ni=1.5*10^10\n",
"disp('ni = '+string(ni)+'cm^-3') //initializing value of intrinsic concentration of electrons.\n",
"e=1.6*10^-19\n",
"disp('e = '+string(e)+' columns') //initializing value of charge of electrons.\n",
"tox=400*10^-8\n",
"disp('tox = '+string(tox)+' cm') //initializing value of thickness of p-type substrate.\n",
"Vt=0.0259\n",
"disp('Vt = '+string(Vt)+' eV') //initializing value of thermal voltage.\n",
"er=3.9\n",
"disp('er = '+string(er)) //initializing value of relative dielectric permittivity constant \n",
"Vfp=Vt*(log(Na/(ni)))\n",
"disp('Potential,Vfp=Vt*(log(Na/(ni))))='+string(Vfp)+' V')//calculation\n",
"Wd=sqrt((4*Er*Eo*Vfp)/(e*Na))\n",
"disp('Depletion width,Wd=sqrt((4*Er*Eo*Vs)/(e*Nd)))='+string(Wd)+' cm')//calculation\n",
"CTmin=(er*Eo/(((er/Er)*(Wd))+(tox)))\n",
"disp('Minimum Capacitance,CTmin=(er*Eo/((er/Er)*(Wd)+(tox)))='+string(CTmin)+' F/cm^2')//calculation\n",
"CFB=((er*Eo)/((((er/Er)*sqrt(Vt*Er*Eo/(e*Na))))+(tox)))\n",
"disp('Flat band capacitance,CFB=((er*Eo)/(((er/Er)*sqrt(Vt*Er*Eo/(e*Na))))+(tox))='+string(CFB)+' F/cm^2')//calculation\n",
"\n",
"//the value of Na (acceptor ion  concentration) and tox (thickness of p-type substrate) is provided different in the question than used in the solution.\n",
"//I have used the value provided in the solution.(i.e Na=2*10^17 and tox=400*10^8cm) "
   ]
   }
,
{
		   "cell_type": "markdown",
		   "metadata": {},
		   "source": [
			"## Example 8.14: VALUE_OF_Qss.sce"
		   ]
		  },
  {
"cell_type": "code",
	   "execution_count": null,
	   "metadata": {
	    "collapsed": true
	   },
	   "outputs": [],
"source": [
"clc\n",
"Vfb=-1.0\n",
"disp('Vfb = '+string(Vfb)+' V') //initializing value of flat band voltage.\n",
"Vms=-0.9\n",
"disp('Vms = '+string(Vms)+'V') //initializing value of metal semiconductor work function difference.\n",
"tox=200*10^-8\n",
"disp('tox = '+string(tox)+' cm') //initializing value of gate oxide thickness.\n",
"et=3.9\n",
"disp('et = '+string(et)) //initializing value of relative permittivity.\n",
"eo=8.85*10^-14\n",
"disp('eo = '+string(eo)+'F/cm') //initializing value of free space permittivity.\n",
"e=1.6*10^-19\n",
"disp('e = '+string(e)+' columns') //initializing value of charge of electrons.\n",
"eox=(eo*et)\n",
"disp('eox=(eo*et))='+string(eox)+' F/cm^2')//calculation\n",
"Cox=(eox/tox)\n",
"disp('Oxide capacitance,Cox=(eox/tox))='+string(Cox)+' F/cm^2')//calculation\n",
"Qss=((Vms-Vfb)*Cox)\n",
"disp('charge density on semiconductor surface,Qss=((Vms-Vfb)*Cox))='+string(Qss)+' C/cm^2')//calculation\n",
"Qss1=Qss/e\n",
"disp('charge density on semiconductor surface (in terms of number of charges) ,Qss*=Qss/e)='+string(Qss1)+' electrons/cm^2')//calculation"
   ]
   }
,
{
		   "cell_type": "markdown",
		   "metadata": {},
		   "source": [
			"## Example 8.15: VALUE_OF_Id.sce"
		   ]
		  },
  {
"cell_type": "code",
	   "execution_count": null,
	   "metadata": {
	    "collapsed": true
	   },
	   "outputs": [],
"source": [
"clc\n",
"L=3*10^-6\n",
"disp('L = '+string(L)+' meter') //initializing value of length of channel.\n",
"un=800\n",
"disp('un = '+string(un)+'cm^2/V-s') //initializing value of mobility of n-channel MOS transistor.\n",
"VT=1\n",
"disp('VT = '+string(VT)+' V') //initializing value of threshold Voltage.\n",
"Vgs=0\n",
"disp('Vgs = '+string(Vgs)+' V') //initializing value of gate to source voltage.\n",
"tox=500*10^-8\n",
"disp('tox = '+string(tox)+' cm') //initializing value of gate oxide thickness.\n",
"et=3.9\n",
"disp('et = '+string(et)) //initializing value of relative permittivity.\n",
"eo=8.85*10^-14\n",
"disp('eo = '+string(eo)+'F/cm') //initializing value of free space permittivity.\n",
"W=30*10^-6\n",
"disp('W = '+string(W)+'m') //initializing value of width of channel.\n",
"eox=(eo*et)\n",
"disp('eox=(eo*et))='+string(eox)+' F/cm^2')//calculation\n",
"Id=((eox*un*W)/(tox*L)*((Vgs-VT)^2/(2)))\n",
"disp('Drain current,Id=((eox*un*W)/(tox*L)*((Vgs-VT)^2/(2))))='+string(Id)+' A')//calculation"
   ]
   }
,
{
		   "cell_type": "markdown",
		   "metadata": {},
		   "source": [
			"## Example 8.16: VALUE_OF_Id.sce"
		   ]
		  },
  {
"cell_type": "code",
	   "execution_count": null,
	   "metadata": {
	    "collapsed": true
	   },
	   "outputs": [],
"source": [
"clc\n",
"L=2.5*10^-6\n",
"disp('L = '+string(L)+' meter') //initializing value of length of channel.\n",
"un=800\n",
"disp('un = '+string(un)+'cm^2/V-s') //initializing value of mobility of n-channel MOS transistor.\n",
"VT=0.8\n",
"disp('VT = '+string(VT)+' V') //initializing value of threshold Voltage.\n",
"Vgs=1\n",
"disp('Vgs = '+string(Vgs)+' V') //initializing value of gate to source voltage.\n",
"tox=400*10^-8\n",
"disp('tox = '+string(tox)+' cm') //initializing value of gate oxide thickness.\n",
"et=3.9\n",
"disp('et = '+string(et)) //initializing value of relative permittivity.\n",
"eo=8.85*10^-14\n",
"disp('eo = '+string(eo)+'F/cm') //initializing value of free space permittivity.\n",
"eox=(eo*et)\n",
"disp('eox=(eo*et))='+string(eox)+' F/cm^2')//calculation\n",
"W=25*10^-6\n",
"disp('W = '+string(W)+'m') //initializing value of width of channel..\n",
"Id=((eox*un*W)/(tox*L)*((Vgs-VT)^2/(2)))\n",
"disp('Drain current,Id=((eox*un*W)/(tox*L)*((Vgs-VT)^2/(2))))='+string(Id)+' A')//calculation"
   ]
   }
,
{
		   "cell_type": "markdown",
		   "metadata": {},
		   "source": [
			"## Example 8.17: RATIO_OF_W_AND_L.sce"
		   ]
		  },
  {
"cell_type": "code",
	   "execution_count": null,
	   "metadata": {
	    "collapsed": true
	   },
	   "outputs": [],
"source": [
"clc\n",
"un=525\n",
"disp('un = '+string(un)+'cm^2/V-s') //initializing value of mobility of n-channel MOS transistor.\n",
"VT=0.75\n",
"disp('VT = '+string(VT)+' V') //initializing value of threshold Voltage.\n",
"Vgs=2\n",
"disp('Vgs = '+string(Vgs)+' V') //initializing value of gate to source voltage.\n",
"tox=400*10^-8\n",
"disp('tox = '+string(tox)+' cm') //initializing value of gate oxide thickness.\n",
"et=3.9\n",
"disp('et = '+string(et)) //initializing value of relative permittivity.\n",
"eo=8.85*10^-14\n",
"disp('eo = '+string(eo)+'F/cm') //initializing value of free space permittivity.\n",
"eox=(eo*et)\n",
"disp('eox=(eo*et))='+string(eox)+' F/cm^2')//calculation\n",
"Id=6*10^-3\n",
"disp('Id = '+string(Id)+'A') //initializing value of width of channel..\n",
"X=((Id*tox*2)/(eox*un*((Vgs-VT)^2)))\n",
"disp('width to length ratio,W/L=((Id*tox*2)/(eox*un*((Vgs-VT)^2))))='+string(X))//calculation"
   ]
   }
,
{
		   "cell_type": "markdown",
		   "metadata": {},
		   "source": [
			"## Example 8.18: PINCH_OFF_VOLTAGE.sce"
		   ]
		  },
  {
"cell_type": "code",
	   "execution_count": null,
	   "metadata": {
	    "collapsed": true
	   },
	   "outputs": [],
"source": [
"clc\n",
"Nd=2*10^16\n",
"disp('Nd = '+string(Nd)+' /cm^3') //initializing value of donor ion  concentration.\n",
"a=2*10^-4\n",
"disp('a = '+string(a)+' cm') //initializing value of height of channel at pinch off.\n",
"e=1.6*10^-19\n",
"disp('e = '+string(e)+' columns') //initializing value of charge of electrons.\n",
"Er=11.9\n",
"disp('Er = '+string(Er)) //initializing value of relative permittivity.\n",
"Eo=8.85*10^-14\n",
"disp('Eo = '+string(Eo)+'F/cm') //initializing value of free space permittivity.\n",
"E=(Eo*Er)\n",
"disp('E=(Eo*Er))='+string(E)+' F/cm^2')//calculation\n",
"Vp=((e*Nd*a^2)/(2*E))\n",
"disp('Pinch off Voltage,Vp=((e*Nd*a^2)/(2*E)))='+string(Vp)+' V')//calculation"
   ]
   }
,
{
		   "cell_type": "markdown",
		   "metadata": {},
		   "source": [
			"## Example 8.1: CAPACITANCE_Cox_AND_Co.sce"
		   ]
		  },
  {
"cell_type": "code",
	   "execution_count": null,
	   "metadata": {
	    "collapsed": true
	   },
	   "outputs": [],
"source": [
"clc\n",
"Nd=10^16\n",
"disp('Nd = '+string(Nd)+' /cm^3') //initializing value of donor ion  concentration.\n",
"Er=3.9\n",
"disp('Er = '+string(Er)) //initializing value of relative dielectric permittivity constant .\n",
"Eo=8.854*10^-14\n",
"disp('Eo = '+string(Eo)+' F/cm') //initializing value of permittivity of free space.\n",
"W=0.5*10^-4\n",
"disp('W = '+string(W)+' cm') //initializing value of width of p-substrate.\n",
"L=10^-4\n",
"disp('L = '+string(L)+' cm') //initializing value of length of p-substrate.\n",
"tox=400*10^-8\n",
"disp('tox = '+string(tox)+' cm') //initializing value of thickness of p-substrate.\n",
"E=Eo*Er\n",
"disp('total permittivity,E=Eo*Er='+string(E)+' F/cm')//calculation\n",
"Cox=(E*W*L)/tox\n",
"disp('Oxide capacitance,Cox=(E*W*L)/tox)='+string(Cox)+' F')//calculation\n",
"Co=(Cox/(W*L))\n",
"disp('Capacitance per unit area,Co=(Cox/(W*L)))='+string(Co)+' F/cm^2')//calculation"
   ]
   }
,
{
		   "cell_type": "markdown",
		   "metadata": {},
		   "source": [
			"## Example 8.20: VALUE_OF_rDS.sce"
		   ]
		  },
  {
"cell_type": "code",
	   "execution_count": null,
	   "metadata": {
	    "collapsed": true
	   },
	   "outputs": [],
"source": [
"clc\n",
"a=2*10^-4\n",
"disp('a = '+string(a)+' cm') //initializing value of height of channel at pinch off.\n",
"Er=11.9\n",
"disp('Er = '+string(Er)) //initializing value of relative dielectric permittivity constant .\n",
"Eo=8.854*10^-14\n",
"disp('Eo = '+string(Eo)+' F/cm') //initializing value of permittivity of free space.\n",
"un=1350\n",
"disp('un = '+string(un)+'cm^2/V-s') //initializing value of mobility of n-type silicon Mosfet.\n",
"W=8*10^-4\n",
"disp('W = '+string(W)+' cm') //initializing value of width of p-substrate.\n",
"L=10*10^-4\n",
"disp('L = '+string(L)+' cm') //initializing value of length of p-substrate.\n",
"e=1.6*10^-19\n",
"disp('e = '+string(e)+' columns') //initializing value of charge of electrons.\n",
"Vp=4\n",
"disp('Vp = '+string(Vp)+' V') //initializing value of thickness of p-substrate.\n",
"Vgs=0\n",
"disp('Vgs = '+string(Vgs)+' V') //initializing value of gate to source voltage.\n",
"E=Eo*Er\n",
"disp('total permittivity,E=Eo*Er='+string(E)+' F/cm')//calculation\n",
"Nd=((Vp*2*E)/(e*a^2))\n",
"disp('Donor ion concentration,Nd=((Vp*2*E)/(e*a^2)))='+string(Nd)+' /cm^3')//calculation\n",
"rds=(L/(W*a*e*un*Nd))\n",
"disp('On Drain resistance,rds=(L/(W*a*e*un*Nd)))='+string(rds)+' ohm')//calculation"
   ]
   }
,
{
		   "cell_type": "markdown",
		   "metadata": {},
		   "source": [
			"## Example 8.2: MAXIMUM_SPACE_CHARGE_WIDTH.sce"
		   ]
		  },
  {
"cell_type": "code",
	   "execution_count": null,
	   "metadata": {
	    "collapsed": true
	   },
	   "outputs": [],
"source": [
"clc\n",
"Na=10^17\n",
"disp('Na = '+string(Na)+' /cm^3') //initializing value of acceptor ion  concentration.\n",
"Vt=0.0259\n",
"disp('Vt = '+string(Vt)+'V') //initializing value of thermal voltage.\n",
"e=1.6*10^-19\n",
"disp('e = '+string(e)+' columns') //initializing value of charge of electrons.\n",
"ni=1.5*10^10\n",
"disp('ni = '+string(ni)+'/cm^3') //initializing value of intrinsic carrier concentration. \n",
"Er=11.9\n",
"disp('Er = '+string(Er)) //initializing value of relative dielectric permittivity constant \n",
"Eo=8.854*10^-14\n",
"disp('Eo = '+string(Eo)+' F/cm') //initializing value of permittivity of free space.\n",
"Vs=Vt*log(Na/ni)\n",
"disp('Vs=Vt*log(Na/ni))='+string(Vs)+' V')//calculation\n",
"E=Eo*Er\n",
"disp('total permittivity,E=Eo*Er='+string(E)+' F/cm')//calculation\n",
"Wd=sqrt(4*E*Vs/(e*Na))\n",
"disp('maximum depletion width,Wd(max)=Sqrt(4*E*Vs/(e*Na)))='+string(Wd)+' cm')//calculation"
   ]
   }
,
{
		   "cell_type": "markdown",
		   "metadata": {},
		   "source": [
			"## Example 8.3: MAXIMUM_SPACE_CHARGE_WIDTH.sce"
		   ]
		  },
  {
"cell_type": "code",
	   "execution_count": null,
	   "metadata": {
	    "collapsed": true
	   },
	   "outputs": [],
"source": [
"clc\n",
"Nd=3*10^18\n",
"disp('Nd = '+string(Nd)+' /cm^3') //initializing value of acceptor ion  concentration.\n",
"Vt=0.0259\n",
"disp('Vt = '+string(Vt)+'V') //initializing value of thermal voltage.\n",
"e=1.6*10^-19\n",
"disp('e = '+string(e)+' columns') //initializing value of charge of electrons.\n",
"ni=1.5*10^10\n",
"disp('ni = '+string(ni)+'/cm^3') //initializing value of intrinsic carrier concentration. \n",
"Er=11.9\n",
"disp('Er = '+string(Er)) //initializing value of relative dielectric permittivity constant \n",
"Eo=8.854*10^-14\n",
"disp('Eo = '+string(Eo)+' F/cm') //initializing value of permittivity of free space.\n",
"Vs=Vt*log(Nd/ni)\n",
"disp('Vs=Vt*log(Nd/ni))='+string(Vs)+' V')//calculation\n",
"E=Eo*Er\n",
"disp('total permittivity,E=Eo*Er='+string(E)+' F/cm')//calculation\n",
"Wd=sqrt(4*E*Vs/(e*Nd))\n",
"disp('maximum depletion width,Wd(max)=Sqrt(4*E*Vs/(e*Nd)))='+string(Wd)+' cm')//calculation"
   ]
   }
,
{
		   "cell_type": "markdown",
		   "metadata": {},
		   "source": [
			"## Example 8.5: METAL_SEMICONDUCTOR_WORK_FUNCTION_DIFFERENCE.sce"
		   ]
		  },
  {
"cell_type": "code",
	   "execution_count": null,
	   "metadata": {
	    "collapsed": true
	   },
	   "outputs": [],
"source": [
"clc\n",
"Vm=3.2\n",
"disp('Vm = '+string(Vm)+' V') //initializing value of modified metal work function.\n",
"X=3.25\n",
"disp('X = '+string(X)+' V') //initializing value of modified electron affinity.\n",
"Nd=2*10^16\n",
"disp('Nd = '+string(Nd)+' /cm^3') //initializing value of donor concentration.\n",
"ni=1.5*10^10\n",
"disp('ni = '+string(ni)+' V') //initializing value of intrinsic carrier concentration.\n",
"Vt=0.0259\n",
"disp('Vt = '+string(Vt)+'V') //initializing value of thermal voltage.\n",
"Eg=1.12\n",
"disp('Eg = '+string(Eg)+'V') //initializing value of energy gap.\n",
"Vfp=(Vt*log(Nd/ni))\n",
"disp('Vfp=(Vt*log(Nd/ni))='+string(Vfp)+' V')//calculation.\n",
"Vms=-(Vm+(Eg/2)+Vfp-Vm)\n",
"disp('Vms=-(Vm+(Eg/2)+Vfp-Vm)='+string(Vms)+' V')//calculation."
   ]
   }
,
{
		   "cell_type": "markdown",
		   "metadata": {},
		   "source": [
			"## Example 8.7: CAPACITANCE_Co_AND_FLAT_BAND_VOLTAGE.sce"
		   ]
		  },
  {
"cell_type": "code",
	   "execution_count": null,
	   "metadata": {
	    "collapsed": true
	   },
	   "outputs": [],
"source": [
"clc\n",
"Nd=10^16\n",
"disp('Nd = '+string(Nd)+' /cm^3') //initializing value of donor ion  concentration.\n",
"Vms=-1.12\n",
"disp('Vms = '+string(Vms)+' V') //initializing value of metal semiconductor work function difference.\n",
"Er=3.9\n",
"disp('Er = '+string(Er)) //initializing value of relative dielectric permittivity constant .\n",
"Eo=8.854*10^-14\n",
"disp('Eo = '+string(Eo)+' F/cm') //initializing value of permittivity of free space.\n",
"tox=200*10^-8\n",
"disp('tox = '+string(tox)+' cm') //initializing value of thickness of p-type substrate.\n",
"Qss=2.5*10^-8\n",
"disp('Qss = '+string(Qss)+' columbs/cm^2') //initializing value of charge density on semiconductor surface.\n",
"Eox=Eo*Er\n",
"disp('Total permittivity,Eox=Eo*Er='+string(Eox)+' F/cm')//calculation\n",
"Co=(Eox/tox)\n",
"disp('Capacitance per unit area,Co=(E/tox))='+string(Co)+' F/cm^2')//calculation\n",
"Vfb=(Vms-(Qss/Co))\n",
"disp('Flat band voltage,Vfb=(Vms-(Qss/Co)))='+string(Vfb)+' V')//calculation\n",
"\n",
"//the answer for Co after calculation is provided wrong in the book."
   ]
   }
,
{
		   "cell_type": "markdown",
		   "metadata": {},
		   "source": [
			"## Example 8.9: THRESHOLD_VOLTAGE.sce"
		   ]
		  },
  {
"cell_type": "code",
	   "execution_count": null,
	   "metadata": {
	    "collapsed": true
	   },
	   "outputs": [],
"source": [
"clc\n",
"Na=3*10^16\n",
"disp('Na = '+string(Na)+' /cm^3') //initializing value of acceptor ion  concentration.\n",
"Vms=-1.12\n",
"disp('Vms = '+string(Vms)+'V') //initializing value of metal semiconductor work function difference.\n",
"Er=11.9\n",
"disp('Er = '+string(Er)) //initializing value of relative dielectric permittivity constant .\n",
"Eo=8.854*10^-14\n",
"disp('Eo = '+string(Eo)+' F/cm') //initializing value of permittivity of free space.\n",
"ni=1.5*10^10\n",
"disp('ni = '+string(ni)+'cm^-3') //initializing value of intrinsic concentration of electrons.\n",
"e=1.6*10^-19\n",
"disp('e = '+string(e)+' columns') //initializing value of charge of electrons.\n",
"tox=300*10^-8\n",
"disp('tox = '+string(tox)+' cm') //initializing value of thickness of p-type substrate.\n",
"Vfb=-1.12\n",
"disp('Vfb = '+string(Vfb)+' V') //initializing value of flat band voltage.\n",
"Qss=10^11\n",
"disp('Qss = '+string(Qss)+' electronic charge columns/cm^2') //initializing value of charge density on semiconductor surface.\n",
"Vt=0.0259\n",
"disp('Vt = '+string(Vt)+' eV') //initializing value of thermal voltage.\n",
"er=3.9\n",
"disp('er = '+string(er)) //initializing value of relative dielectric permittivity constant \n",
"Eox=Eo*Er\n",
"disp('total permittivity,Eox=Eo*Er='+string(Eox)+' F/cm')//calculation\n",
"Vfp=Vt*(log(Na/(ni)))\n",
"disp('Potential,Vfp=Vt*(log(Na/(ni))))='+string(Vfp)+' V')//calculation\n",
"Wd=sqrt((4*Eox*Vfp)/(e*Na))\n",
"disp('Maximum depletion width,Wd=sqrt((4*E*Vs)/(e*Nd)))='+string(Wd)+' cm')//calculation\n",
"QDmax=(e*Na*Wd)\n",
"disp('Over all maximum depletion width,QDmax=(e*Na*Wd))='+string(QDmax)+' columns/cm^2')//calculation\n",
"VT=(((QDmax-1.6*10^-8)*tox)/(er*Eo))+(2*Vfp+Vfb)\n",
"disp('Thresold Voltage,VT=(((QDmax-1.6*10^-8)*tox)/(er*Eo))+(2*Vfp+Vfb)='+string(VT)+' V')//calculation"
   ]
   }
],
"metadata": {
		  "kernelspec": {
		   "display_name": "Scilab",
		   "language": "scilab",
		   "name": "scilab"
		  },
		  "language_info": {
		   "file_extension": ".sce",
		   "help_links": [
			{
			 "text": "MetaKernel Magics",
			 "url": "https://github.com/calysto/metakernel/blob/master/metakernel/magics/README.md"
			}
		   ],
		   "mimetype": "text/x-octave",
		   "name": "scilab",
		   "version": "0.7.1"
		  }
		 },
		 "nbformat": 4,
		 "nbformat_minor": 0
}
