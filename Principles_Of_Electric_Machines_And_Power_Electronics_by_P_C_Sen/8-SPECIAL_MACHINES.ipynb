{
"cells": [
 {
		   "cell_type": "markdown",
	   "metadata": {},
	   "source": [
       "# Chapter 8: SPECIAL MACHINES"
	   ]
	},
{
		   "cell_type": "markdown",
		   "metadata": {},
		   "source": [
			"## Example 1: shaftpositio.sce"
		   ]
		  },
  {
"cell_type": "code",
	   "execution_count": null,
	   "metadata": {
	    "collapsed": true
	   },
	   "outputs": [],
"source": [
"T=0.2;V=115;N=3000;F=60;\n",
"J=10^-5;\n",
"\n",
"Km=T/V\n",
"  \n",
"Wm=(N*2*%pi/F)\n",
" \n",
"Fm=T/Wm\n",
" \n",
"Tm=J/Fm\n",
" \n",
"A=Km/Fm\n",
" \n",
"Kmv=A*V\n",
"\n",
"KmvT=A*Tm"
   ]
   }
,
{
		   "cell_type": "markdown",
		   "metadata": {},
		   "source": [
			"## Example 3: maximumvoltage.sce"
		   ]
		  },
  {
"cell_type": "code",
	   "execution_count": null,
	   "metadata": {
	    "collapsed": true
	   },
	   "outputs": [],
"source": [
"Rw=1;Lw=30;I=3;TimeOn=2;RF=0.0675;\n",
"StepRate=300;Turns=100;TimeOff=1;\n",
"PeakI=3;\n",
"\n",
"R=Lw/TimeOn\n",
" \n",
"Rext=R-TimeOff\n",
" \n",
"Prext=(I^2*Rext)\n",
"  \n",
"Vs=I*R\n",
"\n",
"Rext=R-Rw\n",
" \n",
"R1=Lw/TimeOff\n",
" \n",
"Rf=R1-R\n",
"\n",
"Energy=(1/2*Lw*I^2)\n",
"  \n",
"Power=Turns*Rf\n",
"  \n",
"Power=Turns*RF\n",
" \n",
"Vc=V+(PeakI*R)"
   ]
   }
,
{
		   "cell_type": "markdown",
		   "metadata": {},
		   "source": [
			"## Example 4: inductionenergy.sce"
		   ]
		  },
  {
"cell_type": "code",
	   "execution_count": null,
	   "metadata": {
	    "collapsed": true
	   },
	   "outputs": [],
"source": [
"Lw=30;R=15;Ia=3;V=45;\n",
"\n",
"Tow=Lw/R\n",
"\n",
"t1=0.7*Tow\n",
"\n",
"t0=0:0.1:t1;\n",
" \n",
"t=0;\n",
" \n",
"a=integrate('45*(-3+6*%e^(-x/2))','x',t,t0)\n",
" \n",
" Energy=(1/2)*Lw*Ia^2\n",
" \n",
" ProEnergy=(a/Energy)*100"
   ]
   }
],
"metadata": {
		  "kernelspec": {
		   "display_name": "Scilab",
		   "language": "scilab",
		   "name": "scilab"
		  },
		  "language_info": {
		   "file_extension": ".sce",
		   "help_links": [
			{
			 "text": "MetaKernel Magics",
			 "url": "https://github.com/calysto/metakernel/blob/master/metakernel/magics/README.md"
			}
		   ],
		   "mimetype": "text/x-octave",
		   "name": "scilab",
		   "version": "0.7.1"
		  }
		 },
		 "nbformat": 4,
		 "nbformat_minor": 0
}
