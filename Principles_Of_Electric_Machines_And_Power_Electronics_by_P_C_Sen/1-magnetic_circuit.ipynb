{
"cells": [
 {
		   "cell_type": "markdown",
	   "metadata": {},
	   "source": [
       "# Chapter 1: magnetic circuit"
	   ]
	},
{
		   "cell_type": "markdown",
		   "metadata": {},
		   "source": [
			"## Example 1: current.sce"
		   ]
		  },
  {
"cell_type": "code",
	   "execution_count": null,
	   "metadata": {
	    "collapsed": true
	   },
	   "outputs": [],
"source": [
"Bc=0.8;Hc=510;Bg=0.8;\n",
"A=4*%pi*10^-7;lg=1.5*10^-3;\n",
"lc=0.36;N=500;\n",
"\n",
"Fg=Bg/A*(2*lg)\n",
" \n",
"Fc=Hc*lc\n",
" \n",
"F=Fc+Fg\n",
"\n",
"i=F/N\n",
" \n",
"Pre=Bc/Hc\n",
" \n",
"RelPre=Pre/A\n",
"  \n",
"F=Hc*lc\n",
"\n",
"i=F /N\n",
" \n",
" "
   ]
   }
,
{
		   "cell_type": "markdown",
		   "metadata": {},
		   "source": [
			"## Example 2: fluxdensity.sce"
		   ]
		  },
  {
"cell_type": "code",
	   "execution_count": null,
	   "metadata": {
	    "collapsed": true
	   },
	   "outputs": [],
"source": [
"A=4*%pi*10^-7;lc=360;\n",
"N=500;i=4;lg=2*10^-3;\n",
"\n",
"m=-A*(lc/lg)\n",
" \n",
"c=(N*i*A)/(lg)\n",
" \n",
"Hc=(N*i)/(lc)"
   ]
   }
,
{
		   "cell_type": "markdown",
		   "metadata": {},
		   "source": [
			"## Example 3: airgapflux.sce"
		   ]
		  },
  {
"cell_type": "code",
	   "execution_count": null,
	   "metadata": {
	    "collapsed": true
	   },
	   "outputs": [],
"source": [
"N1=500;I1=10;N2=500;I2=10;\n",
"Ibafe=3*52*10^-2;A=4*%pi*10^-7;\n",
"b=1200;Ag=4*10^-4;Ac=4*10^-4;\n",
"lg=5*10^-3;Ibecore=51.5*10^-2;c=2.067*10^-4;\n",
"d=4.134*10^-4;\n",
"\n",
"F1=N1*I1\n",
" \n",
"F2=N2*I2\n",
" \n",
"Pre=1200*A\n",
" \n",
"Rbafe=(Ibafe)/(Pre*Ac)\n",
" \n",
"Rg=lg/(A*Ag)\n",
" \n",
"Rbecore=Ibecore/(Pre*Ac)\n",
"  \n",
"Bg=d/(Ag)\n",
" \n",
"Hg=Bg/A\n",
" "
   ]
   }
,
{
		   "cell_type": "markdown",
		   "metadata": {},
		   "source": [
			"## Example 4: magneticflux.sce"
		   ]
		  },
  {
"cell_type": "code",
	   "execution_count": null,
	   "metadata": {
	    "collapsed": true
	   },
	   "outputs": [],
"source": [
"Irad=20;Orad=25;Dia=22.5\n",
"N=250;i=2.5;\n",
"l=2*%pi*Dia*10^-2;\n",
"B=1.225;\n",
"\n",
"radius=1/2*(Irad+Orad)\n",
"  \n",
"H=(N*i)/l\n",
" \n",
"A=%pi*((Orad-Irad)/2)^2*10^-4\n",
" \n",
"z=(1.225)*(%pi*6.25*10^-4)\n",
" \n",
"y=(N*z)\n",
" \n",
"L=(y/i)\n",
" \n",
"core=(B/H)\n",
"\n",
"l=(2*%pi*22.5*10^-2)\n",
" \n",
"Rcore=(l)/(core*A)\n",
"\n",
"L=(N^2)/(Rcore)\n",
"  \n",
"  \n",
" \n",
"  "
   ]
   }
,
{
		   "cell_type": "markdown",
		   "metadata": {},
		   "source": [
			"## Example 5: fluxvoltage.sce"
		   ]
		  },
  {
"cell_type": "code",
	   "execution_count": null,
	   "metadata": {
	    "collapsed": true
	   },
	   "outputs": [],
"source": [
"n=500;E=100;A=0.001;b=1/120;\n",
"f=1.2;\n",
" \n",
"max1=(E/1000)*(b)\n",
" \n",
"max2=(f*A)\n",
" \n",
"E=(120*n*max2*2)"
   ]
   }
,
{
		   "cell_type": "markdown",
		   "metadata": {},
		   "source": [
			"## Example 6: dimensions.sce"
		   ]
		  },
  {
"cell_type": "code",
	   "execution_count": null,
	   "metadata": {
	    "collapsed": true
	   },
	   "outputs": [],
"source": [
"lg=0.4*10^-2;Bg=0.8;\n",
"Hm=42*10^3;A=4*%pi*10^-7;Ag=2.5*10^-4;\n",
"Bm=0.95;\n",
"\n",
"Hg=Bg/A\n",
" \n",
"lm=(lg/Hm)*Hg\n",
" \n",
"Am=(Bg*Ag)/(Bm)"
   ]
   }
],
"metadata": {
		  "kernelspec": {
		   "display_name": "Scilab",
		   "language": "scilab",
		   "name": "scilab"
		  },
		  "language_info": {
		   "file_extension": ".sce",
		   "help_links": [
			{
			 "text": "MetaKernel Magics",
			 "url": "https://github.com/calysto/metakernel/blob/master/metakernel/magics/README.md"
			}
		   ],
		   "mimetype": "text/x-octave",
		   "name": "scilab",
		   "version": "0.7.1"
		  }
		 },
		 "nbformat": 4,
		 "nbformat_minor": 0
}
