{
"cells": [
 {
		   "cell_type": "markdown",
	   "metadata": {},
	   "source": [
       "# Chapter 2: TRANSFORMERS"
	   ]
	},
{
		   "cell_type": "markdown",
		   "metadata": {},
		   "source": [
			"## Example 1: powertake.sce"
		   ]
		  },
  {
"cell_type": "code",
	   "execution_count": null,
	   "metadata": {
	    "collapsed": true
	   },
	   "outputs": [],
"source": [
"resimp=9;inte=1;V=10;A=1/3;\n",
"\n",
"I=V/(inte+resimp)\n",
" \n",
"P=I^2*resimp\n",
"\n",
"R=(A^2)*(resimp)\n",
" \n",
"I1=V/(inte+I)\n",
" \n",
"P1=I1^2*inte"
   ]
   }
,
{
		   "cell_type": "markdown",
		   "metadata": {},
		   "source": [
			"## Example 2: parameters.sce"
		   ]
		  },
  {
"cell_type": "code",
	   "execution_count": null,
	   "metadata": {
	    "collapsed": true
	   },
	   "outputs": [],
"source": [
"Vh=220;Ih=4.55;Wl=100;\n",
"Vl=150;Il=2.5;Wh=215;\n",
"Vhrated=2200;Vlrated=220;\n",
"Ihrated=4.55;Ilrated=45.5;\n",
"\n",
"Rcl=Vlrated^2/Wl\n",
" \n",
"Poc=(Vlrated^2/Rcl)\n",
" \n",
"Icl=Vlrated/Rcl\n",
"\n",
"Iml=(Il^2-Icl^2)^(1/2)\n",
" \n",
"Xml=Vlrated/Iml\n",
"\n",
"A=Vhrated/Vlrated\n",
" \n",
"Rch=A^2*Rcl\n",
"\n",
"Xmh=A^2*Xml\n",
"\n",
"Reqh=215/Ihrated^2\n",
" \n",
"Psc=Ihrated^2*Reqh\n",
"\n",
"Zeqh=Vl/Ihrated\n",
" \n",
"Xeqh=(Zeqh^2-Reqh^2)^(1/2)\n",
"\n",
"Reql=Reqh/A^2\n",
"\n",
"Xeql=Xeqh/A^2\n",
"\n",
"P=(Poc/(Vlrated*Il))\n",
"\n",
"Psh=(Psc/(Vl*Ihrated))\n",
"\n",
" \n",
" \n",
"\n",
"  "
   ]
   }
,
{
		   "cell_type": "markdown",
		   "metadata": {},
		   "source": [
			"## Example 3: voltageregulatio.sce"
		   ]
		  },
  {
"cell_type": "code",
	   "execution_count": null,
	   "metadata": {
	    "collapsed": true
	   },
	   "outputs": [],
"source": [
"Fullload=75;Ia=4.55;Vl=2200;\n",
"\n",
"Fulload=Fullload/100\n",
" \n",
"Ih=Fullload*Ia\n",
"  \n",
"function[x,y]=polar2rect(r,theta)\n",
"x=r*cos(theta*%pi/180);\n",
"y=r*sin(theta*%pi/180);\n",
"endfunction  \n",
"\n",
"[x1,y1]=polar2rect(Vl,0)\n",
" \n",
"[x2,y2]=polar2rect(35.46,-53.13)\n",
" \n",
"[x3,y3]=polar2rect(106.73,36.87)\n",
" \n",
"X1=x1+%i*y1\n",
"\n",
"X2=x2+%i*y2\n",
" \n",
"X3=x3+%i*y3\n",
" \n",
"X=X1+X2+X3\n",
" \n",
"function[r,theta]=rect2polar(x,y)\n",
"r=sqrt(x^2+y^2);\n",
"theta=atan(y/x)*180/%pi;\n",
"endfunction\n",
"\n",
"[V,Angle]=rect2polar(2306.5,35.67)\n",
" \n",
"VolReg=(V-Vl)/Vl*100\n",
" \n",
"function[x,y]=polar2rect(r,theta)\n",
"x=r*cos(theta*%pi/180);\n",
"y=r*sin(theta*%pi/180);\n",
"endfunction  \n",
"[x1,y1]=polar2rect(Vl,0)\n",
" \n",
"[x2,y2]=polar2rect(35.46,53.13)\n",
"\n",
"[x3,y3]=polar2rect(106.73,143.13)\n",
" \n",
"X1=x1+%i*y1\n",
" \n",
"X2=x2+%i*y2\n",
" \n",
"X3=x3+%i*y3\n",
"\n",
"X=X1+X2+X3\n",
"  \n",
"function[r,theta]=rect2polar(x,y)\n",
"r=sqrt(x^2+y^2);\n",
"theta=atan(y/x)*180/%pi;\n",
"endfunction\n",
"\n",
"[V1,Angle1]=rect2polar(2135.89,92.4)\n",
" \n",
"VolReg=(V1-Vl)/Vl*100"
   ]
   }
,
{
		   "cell_type": "markdown",
		   "metadata": {},
		   "source": [
			"## Example 4: efficiency.sce"
		   ]
		  },
  {
"cell_type": "code",
	   "execution_count": null,
	   "metadata": {
	    "collapsed": true
	   },
	   "outputs": [],
"source": [
"V=0.75;I=10000;A=0.6;\n",
"Pc=100;Reqh=10.4;Ih=(0.75*4.55)^2;\n",
"Reql=0.104;V2=220;B=1;\n",
"\n",
"Pout=V*I*A\n",
"\n",
"Pcu=(Ih*Reqh)\n",
"\n",
"Eff=Pout/(Pout+Pc+Pcu)\n",
" \n",
"Eff=Pout/(Pout+Pc+Pcu)*100\n",
"\n",
"I2=(100/0.104)^(1/2)\n",
" \n",
"Pout1=V2*I2*B\n",
"\n",
"Eff1=Pout1/(Pout1+Pc+Pcu)\n",
"\n",
"Eff1=Pout1/(Pout1+Pc+Pcu)*100"
   ]
   }
,
{
		   "cell_type": "markdown",
		   "metadata": {},
		   "source": [
			"## Example 5: efficiency.sce"
		   ]
		  },
  {
"cell_type": "code",
	   "execution_count": null,
	   "metadata": {
	    "collapsed": true
	   },
	   "outputs": [],
"source": [
"Power=50;Lo1=0.5;\n",
"Lo2=0.75;Lo3=1;Lo4=1.1;\n",
"Pf1=1;Pf2=0.8;Pf3=0.9;\n",
"Pf4=1;Ho1=6;Ho2=6;Ho3=3;Ho4=3;Ho=6;Pc=200;\n",
"Pcu=500;\n",
"\n",
"EngOut=(Lo1*Power*Ho1*Pf1)+(Lo2*Power*Ho2*Pf2)+(Lo3*Power*Ho3*Pf3)+(Lo4*Power*Ho4*Pf4)\n",
" \n",
"A=Pc/1000\n",
"\n",
"TotalHour=Ho+Ho1+Ho2+Ho3+Ho4\n",
"\n",
"Coreloss=A*TotalHour\n",
" \n",
"B=Pcu/1000\n",
"  \n",
"Copperloss=(Lo1^2*B*Ho1)+(Lo2^2*B*Ho2)+(Lo3^2*B*Ho3)+(Lo4^2*B*Ho4)\n",
" \n",
"Totalloss=Coreloss+Copperloss\n",
" \n",
"Eff=EngOut/(EngOut+Totalloss)*100"
   ]
   }
,
{
		   "cell_type": "markdown",
		   "metadata": {},
		   "source": [
			"## Example 6: kvarating.sce"
		   ]
		  },
  {
"cell_type": "code",
	   "execution_count": null,
	   "metadata": {
	    "collapsed": true
	   },
	   "outputs": [],
"source": [
"P=100000;Vs=2000;Vp=200;Ih=500;\n",
"Vl=2000;\n",
"\n",
"Iab=P/Vp\n",
"\n",
"Ibc=P/Vs\n",
" \n",
"Il=Ih+50\n",
" \n",
"Vh=Vl+200\n",
" \n",
"Kva1=(Vl*Il)/(1000)\n",
" \n",
"Kva2=(Vh*Ih)/(1000)"
   ]
   }
,
{
		   "cell_type": "markdown",
		   "metadata": {},
		   "source": [
			"## Example 7: volcurregulatio.sce"
		   ]
		  },
  {
"cell_type": "code",
	   "execution_count": null,
	   "metadata": {
	    "collapsed": true
	   },
	   "outputs": [],
"source": [
"Power=120000;;Phase=3;\n",
"V=230;Pri=2300;Sec=230;Z=0.012+%i*0.016;Pf=0.85;\n",
"\n",
"Is=Power/(sqrt(Phase)*V)\n",
" \n",
"I2=Is/sqrt(Phase)\n",
" \n",
"a=Pri/V\n",
" \n",
"I1=I2/a\n",
" \n",
" Zeq=(Z)*10^2\n",
" \n",
" a=acos(Pf)\n",
" \n",
" Deg=(a*180)/%pi\n",
" \n",
"function[x,y]=polar2rect(r,theta)\n",
"x=r*cos(theta*%pi/180);\n",
"y=r*sin(theta*%pi/180);\n",
"endfunction  \n",
"\n",
"[a,b]=polar2rect(Pri,0)\n",
" \n",
"A=a+%i*b\n",
"  \n",
"function[x,y]=polar2rect(r,theta)\n",
"x=r*cos(theta*%pi/180);\n",
"y=r*sin(theta*%pi/180);\n",
"endfunction  \n",
"\n",
"[c,d]=polar2rect(I1,-Deg)\n",
" \n",
"A1=c+%i*d\n",
" \n",
"A2=A1*(Zeq)\n",
"\n",
"A3=A2+A\n",
" \n",
"V1=2332.4;\n",
"\n",
"PriVol=sqrt(Phase)*V1\n",
"\n",
"VR=(V1-Pri)/Pri*100"
   ]
   }
,
{
		   "cell_type": "markdown",
		   "metadata": {},
		   "source": [
			"## Example 8: supplyvoltage.sce"
		   ]
		  },
  {
"cell_type": "code",
	   "execution_count": null,
	   "metadata": {
	    "collapsed": true
	   },
	   "outputs": [],
"source": [
"Pri=1330;Sec=230;Zl=0.12+%i*0.25;Phase=3;V=230;\n",
"Z=0.8+%i*5;Power=27;\n",
"Zz=0.003+%i*0.015;Pf=0.9\n",
"\n",
"A=(Pri/Sec)^2*(Zl)\n",
"\n",
"Req=4.01;\n",
" \n",
"Xeqh=8.36;\n",
" \n",
"a=(sqrt(Phase)*Pri)/V\n",
" \n",
"Reql=0.8;\n",
" \n",
"Xeql=5;\n",
"Rr=0.003;\n",
" \n",
"Xx=0.015;\n",
" \n",
"R=(Reql+Req)*(1/10^2)+Rr\n",
"\n",
"X=(Xeql+Xeqh)*(1/10^2)+Xx\n",
" \n",
"Vl=V/sqrt(Phase)\n",
" \n",
"Il=(Power*10^3)/(Phase*133)\n",
"  \n",
"Angle=-acos(%pi*Pf/180)\n",
"  "
   ]
   }
,
{
		   "cell_type": "markdown",
		   "metadata": {},
		   "source": [
			"## Example 9: impedances.sce"
		   ]
		  },
  {
"cell_type": "code",
	   "execution_count": null,
	   "metadata": {
	    "collapsed": true
	   },
	   "outputs": [],
"source": [
"Vh=2200;Vl=220;Pb=10000;\n",
"I=0.25;a=10;Z=10.4+%i*31.3;\n",
"\n",
"Ib=Pb/Vh\n",
" \n",
"Il=Pb/Vl\n",
" \n",
"Zb=Vh/Ib\n",
" \n",
"Zl=Vl/Il\n",
"  \n",
"Ih=I/Ib\n",
"  \n",
"Zeq=Z/Zb\n",
" \n",
"Zeql=Z*(1/100)\n",
" \n",
"Zpu=Zeql/Zl\n",
" \n",
"Pcu=Ib^2*10.4\n",
" \n",
"Ppu=Pcu/Pb"
   ]
   }
],
"metadata": {
		  "kernelspec": {
		   "display_name": "Scilab",
		   "language": "scilab",
		   "name": "scilab"
		  },
		  "language_info": {
		   "file_extension": ".sce",
		   "help_links": [
			{
			 "text": "MetaKernel Magics",
			 "url": "https://github.com/calysto/metakernel/blob/master/metakernel/magics/README.md"
			}
		   ],
		   "mimetype": "text/x-octave",
		   "name": "scilab",
		   "version": "0.7.1"
		  }
		 },
		 "nbformat": 4,
		 "nbformat_minor": 0
}
