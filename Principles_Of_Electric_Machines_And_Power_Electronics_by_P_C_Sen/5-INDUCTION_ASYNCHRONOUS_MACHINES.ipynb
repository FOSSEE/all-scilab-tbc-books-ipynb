{
"cells": [
 {
		   "cell_type": "markdown",
	   "metadata": {},
	   "source": [
       "# Chapter 5: INDUCTION ASYNCHRONOUS MACHINES"
	   ]
	},
{
		   "cell_type": "markdown",
		   "metadata": {},
		   "source": [
			"## Example 10: parasitictorque.sce"
		   ]
		  },
  {
"cell_type": "code",
	   "execution_count": null,
	   "metadata": {
	    "collapsed": true
	   },
	   "outputs": [],
"source": [
"F=60;P=4;N=1740;R1=0.5;\n",
"R2=0.5;X1=1;X2=1;Xm=35;\n",
"I=1.1;Peak=10;H=5;H1=7;\n",
"Phase=3;\n",
"\n",
"Ns=120*F/P\n",
" \n",
"S1=(Ns-N)/Ns\n",
" \n",
"A=R2/S1\n",
"\n",
"Z1=(Xm*%i)*(A+X1*%i)/(A+X2*%i+Xm*%i)\n",
" \n",
"Rth=12.08;\n",
"\n",
"Pg1=Phase*((I*Peak)/sqrt(2))^2*Rth\n",
"\n",
"Wsyn=(Ns/60)*2*%pi\n",
" \n",
"T1=Pg1/Wsyn\n",
"\n",
"Ns1=-(120*H*F)/P\n",
"\n",
"S2=(Ns1-N)/Ns1\n",
" \n",
"B=R2/S2\n",
"\n",
"Xm1=H*Xm\n",
" \n",
"hX2=H*X2\n",
"\n",
"Z2=Xm1*%i*(B+hX2*%i)/(B+hX2*%i+Xm1*%i)\n",
" \n",
"Rth2=0.39;\n",
"\n",
"Pg2=Phase*((0.22*Peak)/sqrt(2))^2*Rth2\n",
"\n",
"Wsyn2=(Ns1/60)*2*%pi\n",
" \n",
"T2=Pg2/Wsyn2\n",
"\n",
"Ns3=(120*H1*F)/P\n",
" \n",
"S3=(Ns3-N)/Ns3\n",
" \n",
"C=R2/S3\n",
"\n",
"Xm3=H1*Xm\n",
"\n",
"hX3=H1*X2\n",
" \n",
"Z3=Xm3*%i*(C+hX3*%i)/(C+hX3*%i+Xm3*%i)\n",
" \n",
"Rth3=0.54;\n",
"\n",
"Pg3=Phase*((0.16*Peak)/sqrt(2))^2*Rth3\n",
"\n",
"Wsyn3=(Ns3/60)*2*%pi\n",
"\n",
"T3=Pg3/Wsyn3"
   ]
   }
,
{
		   "cell_type": "markdown",
		   "metadata": {},
		   "source": [
			"## Example 11: voltage.sce"
		   ]
		  },
  {
"cell_type": "code",
	   "execution_count": null,
	   "metadata": {
	    "collapsed": true
	   },
	   "outputs": [],
"source": [
"S=2;Pole=50;F=50;\n",
"Slip=0.25;\n",
"\n",
"Pole=Pole*10^-2\n",
" \n",
"Vs=S*Pole*F\n",
" \n",
"Vs=Vs*3600/1000\n",
" \n",
"V=(1-Slip)*(Vs)"
   ]
   }
,
{
		   "cell_type": "markdown",
		   "metadata": {},
		   "source": [
			"## Example 1: frequency.sce"
		   ]
		  },
  {
"cell_type": "code",
	   "execution_count": null,
	   "metadata": {
	    "collapsed": true
	   },
	   "outputs": [],
"source": [
"F=60;P=4;S=0.05;\n",
"Ns=1800;V=460;Tr=0.5;\n",
"\n",
"Ns=(120*F)/(P)\n",
" \n",
"N=(1-S)*Ns\n",
"\n",
"F2=S*F\n",
" \n",
"Sliprpm=S*Ns\n",
"\n",
"A=S*Tr*V/sqrt(3)"
   ]
   }
,
{
		   "cell_type": "markdown",
		   "metadata": {},
		   "source": [
			"## Example 2: powerloss.sce"
		   ]
		  },
  {
"cell_type": "code",
	   "execution_count": null,
	   "metadata": {
	    "collapsed": true
	   },
	   "outputs": [],
"source": [
"Hp=15;Loss=750;\n",
"F=60;P=4;N=1728;\n",
"\n",
"Mecp=P+Loss\n",
"\n",
"Ns=120*F/P\n",
"\n",
"S=(Ns-N)/Ns\n",
" \n",
"Pag=Mecp/(1-S)\n",
" \n",
"P2=S*Pag"
   ]
   }
,
{
		   "cell_type": "markdown",
		   "metadata": {},
		   "source": [
			"## Example 3: parameters.sce"
		   ]
		  },
  {
"cell_type": "code",
	   "execution_count": null,
	   "metadata": {
	    "collapsed": true
	   },
	   "outputs": [],
"source": [
"Nof=60;NoV=2200;\n",
"NoI=4.5;NoP=1600;\n",
"BF=15;BV=270;BI=25;\n",
"BP=9000;\n",
"R1=2.8;V=2200;F=60;\n",
"Rbl=4.8;\n",
"\n",
"Pnl=1600\n",
"\n",
"Prot=Pnl-(3*NoI^2*R1)\n",
"\n",
"Vt=V/sqrt(3)\n",
" \n",
"Znl=(Vt/NoI)\n",
"\n",
"Rnl=(Pnl)/(3*NoI^2)\n",
"\n",
"Xnl=(Znl^2-Rnl^2)^(1/2)\n",
" \n",
"Rbl=BP/(3*BI^2)\n",
"\n",
"Zbl=(BV)/(sqrt(3)*BI)\n",
" \n",
"Xbl=(Zbl^2-Rbl^2)^(1/2)\n",
"\n",
"Xbl=Xbl*(F/BF)\n",
" \n",
"X1=Xbl/2\n",
" \n",
"Xm=(Xnl-X1)\n",
"\n",
"R=Rbl-R1\n",
" \n",
"R2=((X1+Xm)/(Xm))^2*2\n",
" \n",
"Vth=(Xm)/(X1+Xm)\n",
" \n",
"Rth=(Vth^2)*R1"
   ]
   }
,
{
		   "cell_type": "markdown",
		   "metadata": {},
		   "source": [
			"## Example 4: sliptorque.sce"
		   ]
		  },
  {
"cell_type": "code",
	   "execution_count": null,
	   "metadata": {
	    "collapsed": true
	   },
	   "outputs": [],
"source": [
"R1=0.25;X1=0.5;X2=0.5;\n",
"R2=0.2;Xm=30;V=460;\n",
"N=1740;F=60;P=4;Phase=3;No=1800;\n",
"\n",
"V1=V/sqrt(Phase)\n",
"\n",
"Z1=(R1+%i*X1)+(%i*Xm*(R2+%i*X2)/(R2+%i*30.5))\n",
" \n",
"function[r,theta]=rect2polar(x,y)\n",
"r=sqrt(x^2+y^2);\n",
"theta=atan(y/x)*180/%pi;\n",
"endfunction\n",
"\n",
"[Rth,Angle]=rect2polar(0.44,0.99)\n",
"  \n",
"function[x,y]=polar2rect(r,theta)\n",
"x=r*cos(theta*%pi/180);\n",
"y=r*sin(theta*%pi/180);\n",
"endfunction  \n",
"\n",
"[a,b]=polar2rect(Rth,Angle)\n",
" \n",
"X=a+%i*b\n",
"\n",
"Ist=(V1/X)\n",
"\n",
"function[r,theta]=rect2polar(x,y)\n",
"r=sqrt(x^2+y^2);\n",
"theta=atan(y/x)*180/%pi;\n",
"endfunction\n",
"\n",
"[Ist,Angle]=rect2polar(99.56,-224.0)\n",
" \n",
"Wsy=(1800/F)*2*%pi\n",
"\n",
"Vth=(V1*%i*Xm)/(R1+%i*30.5)\n",
" \n",
"Vth=265.3;\n",
" \n",
"Zth=%i*Xm*(%i*R1+%i*X1)/(R1+%i*30.5)\n",
" \n",
"Zth=(%i*Xm*(R1+%i*X1))/(R1+%i*30.5)\n",
" \n",
"Rth=0.24;\n",
"\n",
"Xth=0.49;\n",
"\n",
"a=Vth^2/((Rth+R2)^2+(Xth+X1)^2)\n",
"\n",
"Tst=((Phase/Wsy)*a*R2)\n",
" \n",
"S=(No-N)/No\n",
" \n",
"FL=R2/S\n",
"\n",
"Z1=(R2+%i*X2)+((%i*Xm)*(FL+%i*X2))/(FL+%i*30.5)\n",
"\n",
"function[r,theta]=rect2polar(x,y)\n",
"r=sqrt(x^2+y^2);\n",
"theta=atan(y/x)*180/%pi;\n",
"endfunction\n",
"\n",
"[c,d]=rect2polar(5.78,2.09)\n",
"\n",
"function[x,y]=polar2rect(r,theta)\n",
"x=r*cos(theta*%pi/180);\n",
"y=r*sin(theta*%pi/180);\n",
"endfunction  \n",
"\n",
"[z,y]=polar2rect(c,d)\n",
"\n",
"X=z+%i*y\n",
"\n",
"Ifl=V1/X\n",
"\n",
"function[r,theta]=rect2polar(x,y)\n",
"r=sqrt(x^2+y^2);\n",
"theta=atan(y/x)*180/%pi;\n",
"endfunction\n",
"\n",
"[Ifl,Ang]=rect2polar(40.63,-14.6)\n",
"\n",
" \n",
"Ratio=Ist/Ifl\n",
"\n",
"Pf=cos(%pi*19.8/180)\n",
" \n",
"z=Vth^2/((Rth+FL)^2+(Xth+X2)^2)\n",
" \n",
"T=(Phase/Wsy)*z*FL\n",
"\n",
"Pag=T*Wsy\n",
"  \n",
"P2=S*Pag\n",
" \n",
"Pmech=(1-S)*Pag\n",
" \n",
"Pout=Pmech-1700\n",
" \n",
"Pinp=Phase*V1*Ifl*Pf\n",
"\n",
"EFFMotor=Pout/Pinp*100\n",
"  \n",
"  EFFint=(1-S)*100\n",
"  \n",
"  Stmax=R2/(Rth^2+(Xth+X2)^2)^0.5\n",
"  \n",
"  X=Rth+(Rth^2+(Xth+X2)^2)^0.5\n",
"\n",
"  \n",
"  Tmax=(Phase/2*Wsy)*X\n",
"  \n",
"  T=Tmax/T\n",
"  \n",
"  \n",
"  \n",
"  \n",
"  \n",
"  "
   ]
   }
,
{
		   "cell_type": "markdown",
		   "metadata": {},
		   "source": [
			"## Example 5: resistance.sce"
		   ]
		  },
  {
"cell_type": "code",
	   "execution_count": null,
	   "metadata": {
	    "collapsed": true
	   },
	   "outputs": [],
"source": [
"F=60;P=6;RPM=1140;\n",
"RPM1=1000;R=0.2;\n",
"\n",
"Ns=(120*F/P)\n",
"\n",
"S1=(Ns-RPM)/(Ns)\n",
" \n",
"S2=(Ns-RPM1)/(Ns)\n",
" \n",
"Rext=(R/S1)*S2-(R)\n",
""
   ]
   }
,
{
		   "cell_type": "markdown",
		   "metadata": {},
		   "source": [
			"## Example 6: startingtorque.sce"
		   ]
		  },
  {
"cell_type": "code",
	   "execution_count": null,
	   "metadata": {
	    "collapsed": true
	   },
	   "outputs": [],
"source": [
"F=60;P=4;N=1710;RI=6;\n",
"\n",
"Ns=(120*F)/P\n",
" \n",
"Sfl=(Ns-N)/Ns\n",
" \n",
"Tst=RI^2*Sfl\n",
" \n",
"Stmax=(0.0875/0.91)^(1/2)\n",
" \n",
"NMaxT=(1-Stmax)*Ns\n",
" \n",
"Tmax=(1+Stmax^2)/(2*Stmax)*Tst"
   ]
   }
,
{
		   "cell_type": "markdown",
		   "metadata": {},
		   "source": [
			"## Example 7: speedpower.sce"
		   ]
		  },
  {
"cell_type": "code",
	   "execution_count": null,
	   "metadata": {
	    "collapsed": true
	   },
	   "outputs": [],
"source": [
"F1=60;F2=15;F3=120;F=60;P=6;\n",
"V=240;A=2;\n",
"\n",
"S=F2/F1\n",
" \n",
"Ns=(120*F)/P\n",
"  \n",
"N=(1+S)*Ns\n",
" \n",
"N1=(1-S)*Ns\n",
" \n",
"S1=F3/F1\n",
" \n",
"n=(1+S1)*Ns\n",
" \n",
"n1=(1-S1)*Ns\n",
"  \n",
"Pac=1/S\n",
" \n",
"Pac1=-1/S\n",
"\n",
"Pdc=-(1-(S))/S\n",
"  \n",
"Pdc=-(1+(S))/-S\n",
" \n",
"Pac1=1/S1\n",
" \n",
"Pac1=1/-S1\n",
"\n",
"Pdc=-(1-S1)/S1\n",
" \n",
"Pdc=-(1+S1)/-S1\n",
" "
   ]
   }
],
"metadata": {
		  "kernelspec": {
		   "display_name": "Scilab",
		   "language": "scilab",
		   "name": "scilab"
		  },
		  "language_info": {
		   "file_extension": ".sce",
		   "help_links": [
			{
			 "text": "MetaKernel Magics",
			 "url": "https://github.com/calysto/metakernel/blob/master/metakernel/magics/README.md"
			}
		   ],
		   "mimetype": "text/x-octave",
		   "name": "scilab",
		   "version": "0.7.1"
		  }
		 },
		 "nbformat": 4,
		 "nbformat_minor": 0
}
