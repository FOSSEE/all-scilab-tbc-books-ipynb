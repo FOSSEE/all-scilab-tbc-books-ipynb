{
"cells": [
 {
		   "cell_type": "markdown",
	   "metadata": {},
	   "source": [
       "# Chapter 3: ELECTROMECHNICAL ENERGY CONVERSION"
	   ]
	},
{
		   "cell_type": "markdown",
		   "metadata": {},
		   "source": [
			"## Example 1: fieldenergy.sce"
		   ]
		  },
  {
"cell_type": "code",
	   "execution_count": null,
	   "metadata": {
	    "collapsed": true
	   },
	   "outputs": [],
"source": [
"Hc=670;G=5;D=10;A=5;B=10;Bg=1;Z=4*%pi*10^-7;N=250;Area=700;\n",
"\n",
"Lc=2*(A+B)+2*(G+D)\n",
" \n",
"Hg=Bg/Z\n",
" \n",
"Lc=60/100\n",
"  \n",
"Hg=Bg/Z\n",
" \n",
"Ni=(Hc*Lc)+(Hg*2*G*10^-3)\n",
" \n",
"I=Ni/N\n",
" \n",
"Vdc=I*G\n",
" \n",
"Wfc=Area/2\n",
" \n",
"Vc=2*(G*10^-2*D*10^-2*0.20)+2*(A*10^-2*B*10^-2*0.10)\n",
" \n",
"Wfc=Wfc*Vc\n",
" \n",
"Wfg=1.0/(2*Z)\n",
" \n",
"Vg=2*(G*10^-2*10*10^-2*0.005)\n",
" \n",
"Wfg=(Wfg*G*10^-2*10^-3)\n",
" \n",
"Wf=Wfc+Wfg"
   ]
   }
,
{
		   "cell_type": "markdown",
		   "metadata": {},
		   "source": [
			"## Example 2: mechanicalforce.sce"
		   ]
		  },
  {
"cell_type": "code",
	   "execution_count": null,
	   "metadata": {
	    "collapsed": true
	   },
	   "outputs": [],
"source": [
"I=3;G=0.05;\n",
"\n",
"Lam=(0.09*I^(.5)/G)\n",
"\n",
"t1=0:0.1:3;\n",
" \n",
"t0=0;\n",
" \n",
"a=integrate('((0.09*2)/(G*I))*I^(0.5)','i',t0,t1)\n",
"  \n",
"Wf=((0.09*2)/(G*I))*I^(1.5)\n",
" \n",
"Fm=-0.09*(2/3)*I^(1.5)*(1/G^2)\n",
" \n",
"Wf1=(G^2*Lam^3)/(0.09^2*I)\n",
"\n",
"Lam1=(0.09*I^(.5)/G)\n",
" \n",
"Fm=-((Lam1^3)*2*G)/(I*0.09^2)\n",
" "
   ]
   }
,
{
		   "cell_type": "markdown",
		   "metadata": {},
		   "source": [
			"## Example 3: liftingforce.sce"
		   ]
		  },
  {
"cell_type": "code",
	   "execution_count": null,
	   "metadata": {
	    "collapsed": true
	   },
	   "outputs": [],
"source": [
"A=4*%pi*10^-7;N=300;V=120;\n",
"R=6;G=5*10^-3;Ag=6*6*10^-4;\n",
"Lg=2*5*10^-3;\n",
"Vo=2*6*6*5*10^-7;\n",
"\n",
"I=V/R\n",
"  \n",
"Bg=(A*N*I)/(2*G)\n",
"\n",
"Wf=(Bg^2)/(2*A)*(Vo)\n",
"\n",
"Fm=(Bg^2)/(2*A)*(2*Ag)\n",
"\n",
"L=(N^2*A*Ag)/(Lg)\n",
"\n",
"Irms=V/(sqrt(6^2+15.34^2))\n",
"\n",
"Brms=(A*N*Irms)/(2*G)\n",
"\n",
"Fm=(Brms^2)/(2*A)*(2*Ag)\n",
"\n",
" \n",
" \n",
"  \n",
" "
   ]
   }
],
"metadata": {
		  "kernelspec": {
		   "display_name": "Scilab",
		   "language": "scilab",
		   "name": "scilab"
		  },
		  "language_info": {
		   "file_extension": ".sce",
		   "help_links": [
			{
			 "text": "MetaKernel Magics",
			 "url": "https://github.com/calysto/metakernel/blob/master/metakernel/magics/README.md"
			}
		   ],
		   "mimetype": "text/x-octave",
		   "name": "scilab",
		   "version": "0.7.1"
		  }
		 },
		 "nbformat": 4,
		 "nbformat_minor": 0
}
