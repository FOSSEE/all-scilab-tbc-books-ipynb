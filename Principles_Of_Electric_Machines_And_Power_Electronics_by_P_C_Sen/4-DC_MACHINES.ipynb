{
"cells": [
 {
		   "cell_type": "markdown",
	   "metadata": {},
	   "source": [
       "# Chapter 4: DC MACHINES"
	   ]
	},
{
		   "cell_type": "markdown",
		   "metadata": {},
		   "source": [
			"## Example 10: speedtorque.sce"
		   ]
		  },
  {
"cell_type": "code",
	   "execution_count": null,
	   "metadata": {
	    "collapsed": true
	   },
	   "outputs": [],
"source": [
"Ia=40;Ra=0.25;La=10;\n",
"ACv=265;Angle=30;\n",
"Ka=0.18;\n",
"\n",
"A=cos(%pi*Angle/180)\n",
" \n",
"Vt=(2*sqrt(2)*ACv*A)/(%pi)\n",
" \n",
"Ea=Vt-(Ia*Ra)\n",
" \n",
"N=Ea/Ka\n",
"\n",
"Sec=(Ka*60)/(2*%pi)\n",
" \n",
"T=Sec*Ia\n",
" \n",
"P=Vt*Ia\n",
"\n",
"P=(Ia^2*Ra)+Ea*Ia"
   ]
   }
,
{
		   "cell_type": "markdown",
		   "metadata": {},
		   "source": [
			"## Example 11: firingangle.sce"
		   ]
		  },
  {
"cell_type": "code",
	   "execution_count": null,
	   "metadata": {
	    "collapsed": true
	   },
	   "outputs": [],
"source": [
"V=480;RPM=1800;\n",
"Ia=16.5;Ra=0.0874;\n",
"Ka=0.33;\n",
"Angle=30;N=1800;\n",
"\n",
"Vp=(V/sqrt(3))\n",
" \n",
"Vt=(3*sqrt(6)*Vp)/(%pi)\n",
" \n",
"Ea=Vt-(Ia*Ra)\n",
" \n",
"No=(Ea/Ka)\n",
" \n",
"A=cos(%pi*Angle/180)\n",
"\n",
"Vt1=Vt*A\n",
" \n",
"Ea1=Vt1-(Ia*Ra)\n",
" \n",
"No1=Ea1/Ka\n",
"\n",
"Eaf=Ka*N\n",
" \n",
"Vtf=Eaf+(Ia*Ra)\n",
" \n",
" Angle=Vtf/Vt\n",
" \n",
" a=acos(Angle)\n",
" \n",
" Alfa=a*180/%pi\n",
"\n",
"Eas=Vtf-(Ia*Ra)\n",
" \n",
"Nos=Eas/Ka\n",
"  \n",
"SpeedReg=(Nos-N)/N*100"
   ]
   }
,
{
		   "cell_type": "markdown",
		   "metadata": {},
		   "source": [
			"## Example 12: speedcontrol.sce"
		   ]
		  },
  {
"cell_type": "code",
	   "execution_count": null,
	   "metadata": {
	    "collapsed": true
	   },
	   "outputs": [],
"source": [
"Supv=120;Ia=20;Ra=0.5;\n",
"Ka=0.05;\n",
"\n",
"Vt=Ia*Ra\n",
" \n",
"A=(Vt/Supv)\n",
" \n",
"Ea=Supv-(Ia*Ra)\n",
" \n",
"N=Ea/Ka"
   ]
   }
,
{
		   "cell_type": "markdown",
		   "metadata": {},
		   "source": [
			"## Example 1.b: torque.sce"
		   ]
		  },
  {
"cell_type": "code",
	   "execution_count": null,
	   "metadata": {
	    "collapsed": true
	   },
	   "outputs": [],
"source": [
"P=4;A=2;Z=462;Wn=(1000/60)*(2*%pi);z=0.0276;\n",
"Icoil=100;\n",
"\n",
"Ka=(Z*P)/(2*2*%pi)\n",
" \n",
"Wn\n",
" \n",
"Ea=(Ka*z*Wn)\n",
" \n",
"Icoil\n",
"\n",
"Ia=2*Icoil\n",
" \n",
"T=(Ka*z*Ia)\n",
" \n",
"Pa=Ea*Ia\n",
" "
   ]
   }
,
{
		   "cell_type": "markdown",
		   "metadata": {},
		   "source": [
			"## Example 2: terminalvoltage.sce"
		   ]
		  },
  {
"cell_type": "code",
	   "execution_count": null,
	   "metadata": {
	    "collapsed": true
	   },
	   "outputs": [],
"source": [
"Ia=120;Vt=100;Ea=100;\n",
"Ra=0.1;Ar=0.06;EA=98;\n",
"Ifeff=1.4;\n",
"\n",
"Vt1=Ea-(Ia*Ra)\n",
" \n",
"Ifeff1=1-Ar\n",
"\n",
"V=EA-(Ia*Ra)\n",
"\n",
"Ea=(Vt)+(Ia*Ra)\n",
"\n",
"Ifactual=Ifeff+Ar"
   ]
   }
,
{
		   "cell_type": "markdown",
		   "metadata": {},
		   "source": [
			"## Example 3: fieldcurrent.sce"
		   ]
		  },
  {
"cell_type": "code",
	   "execution_count": null,
	   "metadata": {
	    "collapsed": true
	   },
	   "outputs": [],
"source": [
"Eaa=111;Ia=120;Ra=0.1;\n",
"Rfw=80;Eac=85;If=0.5;\n",
"v=100;\n",
"\n",
"Vt=Eaa-(Ia*Ra)\n",
"\n",
"Rf=v/1\n",
" \n",
"Rfc=Rf-Rfw\n",
" \n",
"Rfcrit=Eac/If\n",
" \n",
"Rfc=Rfcrit-Rfw"
   ]
   }
,
{
		   "cell_type": "markdown",
		   "metadata": {},
		   "source": [
			"## Example 4: fullloadvoltage.sce"
		   ]
		  },
  {
"cell_type": "code",
	   "execution_count": null,
	   "metadata": {
	    "collapsed": true
	   },
	   "outputs": [],
"source": [
"Ia=120;Ra=0.1;Vt=80;Vt1=75;AB=17;Ea=6;\n",
"\n",
"V=Ia*Ra\n",
"\n",
"Ia=AB/Ra\n",
"  \n",
"Ia1=Ea/Ra"
   ]
   }
,
{
		   "cell_type": "markdown",
		   "metadata": {},
		   "source": [
			"## Example 5: seriesturns.sce"
		   ]
		  },
  {
"cell_type": "code",
	   "execution_count": null,
	   "metadata": {
	    "collapsed": true
	   },
	   "outputs": [],
"source": [
"Ia=120;Vt=100;Rsr=0.01;\n",
"Ra=0.1;Ia=120;Rf=100;\n",
"Ifeff=1.45;If=1.01;\n",
"Nf=1200;Ifar=0.06;\n",
"\n",
"It=Ia-If\n",
" \n",
"If=(Vt+It*Rsr)/Rf\n",
" \n",
"Ea=Vt+(It*Rsr)+(Ia*Ra)\n",
"  \n",
"Nsr=(Ifeff-If+Ifar)*(1200)/(It)"
   ]
   }
,
{
		   "cell_type": "markdown",
		   "metadata": {},
		   "source": [
			"## Example 6: resistance.sce"
		   ]
		  },
  {
"cell_type": "code",
	   "execution_count": null,
	   "metadata": {
	    "collapsed": true
	   },
	   "outputs": [],
"source": [
"Vt=100;Ra=0.1;Ia=6;If=0.99;Rfw=80;\n",
"Ia1=5;Iarated=120;N=1000;\n",
"Afl=0.95;Prot=497.5;\n",
"\n",
"Eanl=Vt-(Ia*Ra)\n",
"  \n",
"Rf=Vt/If\n",
" \n",
"Rfc=Rf-Rfw\n",
" \n",
"Prot=Ea*5\n",
" \n",
"Eanl=Vt-(Ia*Ra)\n",
" \n",
"Eafl=Vt-(Iarated*Ra)\n",
"  \n",
"Wfl=(Eafl/Eanl)*N\n",
" \n",
"Wm=(Wfl/60)*2*%pi\n",
"\n",
"T=(Eafl*Iarated)/Wm\n",
"\n",
"Pout=(Eafl*Iarated)-(Prot)\n",
"\n",
"Pin=(Vt)*(Iarated+If)\n",
"\n",
"Eff=(Pout/Pin)*100\n",
"\n",
"Wfl1=(Eafl/Eanl)*(1/Afl)*N\n",
" \n",
"Wm1=(Wfl1/60)*(2*%pi)\n",
"\n",
"T=(Eafl*Iarated)/(Wm1)\n",
"\n",
"Eff1=(Pout/Pin)*100\n",
"\n",
"Wm=(1000/60)*(2*%pi)\n",
" \n",
"Ka=Eanl/Wm\n",
"\n",
"Ia=1.5*120\n",
" \n",
"Tstart=(Ka*Ia)\n",
"\n",
"Ifeff=If-Ifar\n",
"\n",
"Ea1=93.5\n",
" \n",
"Ka1=(Ea1/Wm)\n",
" \n",
"Tstart1=(Ka1*Ia)\n",
"\n",
"\n",
"\n",
" \n",
"\n",
" "
   ]
   }
,
{
		   "cell_type": "markdown",
		   "metadata": {},
		   "source": [
			"## Example 7: ampereturns.sce"
		   ]
		  },
  {
"cell_type": "code",
	   "execution_count": null,
	   "metadata": {
	    "collapsed": true
	   },
	   "outputs": [],
"source": [
"If=0.99;Vt=100;Ia=120;Ra=0.1;\n",
"Rpm1=932;Rpm2=1000;\n",
"Ifeff=0.86;Nf=1200;\n",
"rpm1=1000;\n",
"Ifeff1=1.32;Rpm3=800;\n",
"EA=65;\n",
"\n",
"Ea=Vt-(Ia*Ra)\n",
" \n",
"Ea1=Rpm2/Rpm1*Ea\n",
"\n",
"Ifar=If-Ifeff\n",
" \n",
"At=Nf*Ifar\n",
" \n",
"Ea2=Rpm2/Rpm3*Ea\n",
"\n",
"Nsr=(Ifeff1-If+Ifar)*(Nf)/(Ia+If)\n",
" \n",
"Ifeff2=If-(Nsr*(Ia+If))/Nf-Ifar\n",
"\n",
"N=(Ea/EA)*Rpm2"
   ]
   }
,
{
		   "cell_type": "markdown",
		   "metadata": {},
		   "source": [
			"## Example 8: powerresistance.sce"
		   ]
		  },
  {
"cell_type": "code",
	   "execution_count": null,
	   "metadata": {
	    "collapsed": true
	   },
	   "outputs": [],
"source": [
"Vt=220;Ia=25;Ra=0.6;\n",
"Rsr=0.4;Rae=0;N=300;\n",
"N1=200;Wm=(2*%pi/60);\n",
"Hp=746;\n",
"\n",
"Ea=Vt-Ia*(Ra+Rsr+Rae)\n",
"\n",
"P=Ea*Ia\n",
" \n",
"a=P/Hp\n",
" \n",
"T=(Ea*Ia)/(N*Wm)\n",
"\n",
"Ksr=T/Ia^2\n",
"\n",
"T1=(N1/N)^2*T\n",
"\n",
"P=(T1*N1*Wm)\n",
"\n",
"a=T1/Ksr\n",
"\n",
"a=sqrt(Ia)\n",
"\n",
"Rae=(Vt-Ea-(Ia*Ra)+(Ia*Rsr))/Ia\n",
"\n",
"P=Ea*Ia\n",
" \n",
"\n",
" \n",
" "
   ]
   }
,
{
		   "cell_type": "markdown",
		   "metadata": {},
		   "source": [
			"## Example 9: startingcurrent.sce"
		   ]
		  },
  {
"cell_type": "code",
	   "execution_count": null,
	   "metadata": {
	    "collapsed": true
	   },
	   "outputs": [],
"source": [
"Iarated=100;Vt=100;\n",
"Ra=0.1;\n",
"Ia1=200;\n",
"\n",
"Iastart=Vt/Ra\n",
"\n",
"Rae=(Vt-20)/(200)\n",
" \n",
"Ea2=Vt-Iarated*(Ra+Rae)\n",
" \n",
"Rae2=(Vt-Ea2-20)/(200)\n",
"\n",
"Ea3=Vt-Ia*(Ra+Rae2)\n",
" \n",
"Ea3=Vt-Iarated*(Ra+Rae2)\n",
"\n",
"Rae3=(Vt-Ea3-20)/200\n",
" \n",
"Ea4=Vt-Iarated*(Ra+Rae3)\n",
" \n",
"Rae4=(Vt-Ea4-20)/200\n",
"\n",
"Ia=(Vt-Ea4)/Ra\n",
" \n",
"R1=Rae-Rae2\n",
" \n",
"R2=Rae2-Rae3\n",
" \n",
"R3=Rae3-Rae4"
   ]
   }
],
"metadata": {
		  "kernelspec": {
		   "display_name": "Scilab",
		   "language": "scilab",
		   "name": "scilab"
		  },
		  "language_info": {
		   "file_extension": ".sce",
		   "help_links": [
			{
			 "text": "MetaKernel Magics",
			 "url": "https://github.com/calysto/metakernel/blob/master/metakernel/magics/README.md"
			}
		   ],
		   "mimetype": "text/x-octave",
		   "name": "scilab",
		   "version": "0.7.1"
		  }
		 },
		 "nbformat": 4,
		 "nbformat_minor": 0
}
