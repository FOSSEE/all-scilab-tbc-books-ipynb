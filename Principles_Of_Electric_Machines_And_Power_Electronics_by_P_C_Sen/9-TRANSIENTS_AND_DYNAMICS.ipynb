{
"cells": [
 {
		   "cell_type": "markdown",
	   "metadata": {},
	   "source": [
       "# Chapter 9: TRANSIENTS AND DYNAMICS"
	   ]
	},
{
		   "cell_type": "markdown",
		   "metadata": {},
		   "source": [
			"## Example 1: armaturevoltage.sce"
		   ]
		  },
  {
"cell_type": "code",
	   "execution_count": null,
	   "metadata": {
	    "collapsed": true
	   },
	   "outputs": [],
"source": [
"Rf=100;Lf=25;Ra=0.25;Laq=0.02;\n",
"Kg=100;Ll=0.15;V=200;Rl=1;\n",
"\n",
"tow=Lf/Kg\n",
"\n",
"log(0.1)\n",
"\n",
"t=2.30/4\n",
"\n",
"Towat=(Ll+Laq)/(Rl+Ra)"
   ]
   }
,
{
		   "cell_type": "markdown",
		   "metadata": {},
		   "source": [
			"## Example 3: maximumcurrent.sce"
		   ]
		  },
  {
"cell_type": "code",
	   "execution_count": null,
	   "metadata": {
	    "collapsed": true
	   },
	   "outputs": [],
"source": [
"Xd=0.9;Vt=1;Ia=1;Xd1=0.4;Xd2=0.2;Ta=0.2;\n",
"Td1=4;Td2=0.6;t=0.1;\n",
"\n",
"function[x,y]=polar2rect(r,theta)\n",
"x=r*cos(theta*%pi/180);\n",
"y=r*sin(theta*%pi/180);\n",
"endfunction  \n",
"\n",
"[x,y]=polar2rect(Ia,-25.8)\n",
"\n",
"X=x+%i*y\n",
"\n",
"[x1,y1]=polar2rect(Xd,90)\n",
"\n",
"X1=x1+%i*y1\n",
"\n",
"A=Vt+(X*X1)\n",
"\n",
"function[x,y]=polar2rect(r,theta)\n",
"x=r*cos(theta*%pi/180);\n",
"y=r*sin(theta*%pi/180);\n",
"endfunction  \n",
"\n",
"[Ei,Angle]=rect2polar(1.39,0.81)\n",
"\n",
"[x,y]=polar2rect(Ia,-25.8)\n",
"\n",
"X=x+%i*y\n",
"\n",
"[x2,y2]=polar2rect(Xd1,90)\n",
"\n",
"X2=x2+%i*y2\n",
"\n",
"[Ei2,Angle1]=rect2polar(1.17,0.36)\n",
"\n",
"[x,y]=polar2rect(Ia,-25.8)\n",
"\n",
"X=x+%i*y\n",
"\n",
"[x3,y3]=polar2rect(Xd2,90)\n",
"\n",
"X3=x3+%i*y3\n",
"\n",
"[Ei2,Angle2]=rect2polar(1.08,0.10)\n",
"\n",
"Idc=sqrt(2)*(Ei2/Xd2)\n",
"\n",
"Td1=(Xd1/Xd)*Td1\n",
"\n",
"Td2=(Xd2/Xd1)*Td2\n",
"\n",
"Isc=sqrt(2)*(Td1+1.29*%e^(-0.562*0.1)+2.42*%e^(-3.3*0.1))+7.78*%e^(-5*0.1)\n",
"\n",
" "
   ]
   }
],
"metadata": {
		  "kernelspec": {
		   "display_name": "Scilab",
		   "language": "scilab",
		   "name": "scilab"
		  },
		  "language_info": {
		   "file_extension": ".sce",
		   "help_links": [
			{
			 "text": "MetaKernel Magics",
			 "url": "https://github.com/calysto/metakernel/blob/master/metakernel/magics/README.md"
			}
		   ],
		   "mimetype": "text/x-octave",
		   "name": "scilab",
		   "version": "0.7.1"
		  }
		 },
		 "nbformat": 4,
		 "nbformat_minor": 0
}
