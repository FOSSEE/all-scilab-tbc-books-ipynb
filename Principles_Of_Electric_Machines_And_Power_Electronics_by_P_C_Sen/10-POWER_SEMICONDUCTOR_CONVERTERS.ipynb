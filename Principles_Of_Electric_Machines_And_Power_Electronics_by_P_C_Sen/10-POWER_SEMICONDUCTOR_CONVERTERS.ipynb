{
"cells": [
 {
		   "cell_type": "markdown",
	   "metadata": {},
	   "source": [
       "# Chapter 10: POWER SEMICONDUCTOR CONVERTERS"
	   ]
	},
{
		   "cell_type": "markdown",
		   "metadata": {},
		   "source": [
			"## Example 1: firingangle.sce"
		   ]
		  },
  {
"cell_type": "code",
	   "execution_count": null,
	   "metadata": {
	    "collapsed": true
	   },
	   "outputs": [],
"source": [
"Ka=0.09;N=1000;\n",
"Ia=30;Ra=0.4;V=120;\n",
"RevEa=-90;\n",
"\n",
"Ea=Ka*N\n",
" \n",
"Vo=Ea+(Ia*Ra)\n",
"\n",
"a=Vo*%pi\n",
" \n",
"b=2*sqrt(2)*V\n",
" \n",
"c=a/b\n",
" \n",
"angle=acosd(c)\n",
"\n",
"P=Vo*Ia\n",
" \n",
"S=V*Ia\n",
" \n",
"Pf=P/S\n",
"\n",
"Vo1=RevEa+(Ia*Ra)\n",
"\n",
"a=Vo1*%pi\n",
" \n",
"b=2*sqrt(2)*V\n",
" \n",
"c=a/b\n",
" \n",
"Angle=acosd(c)\n",
" \n",
"Pdc=Ea*Ia\n",
" \n",
"Pr=Ia^2*Ra\n",
" \n",
"Ps=Pdc-Pr"
   ]
   }
,
{
		   "cell_type": "markdown",
		   "metadata": {},
		   "source": [
			"## Example 2: ouputvoltage.sce"
		   ]
		  },
  {
"cell_type": "code",
	   "execution_count": null,
	   "metadata": {
	    "collapsed": true
	   },
	   "outputs": [],
"source": [
"Vp=120;Angle=60;\n",
"\n",
"t0=%pi/2\n",
"\n",
"t1=t0:0.01:(210/360*2*%pi);\n",
"\n",
"integrate('2^.5*120*sin(t)','t',t0,t1)\n",
"\n",
"Vo=((3*sqrt(6))/(2*%pi))*120*cos(%pi*Angle/180)"
   ]
   }
,
{
		   "cell_type": "markdown",
		   "metadata": {},
		   "source": [
			"## Example 3: powerfactor.sce"
		   ]
		  },
  {
"cell_type": "code",
	   "execution_count": null,
	   "metadata": {
	    "collapsed": true
	   },
	   "outputs": [],
"source": [
"V=480;Ka=0.3;N=1500;\n",
"Ia=130;Ra=0.1;No=1000;\n",
"\n",
"Vp=V/sqrt(3)\n",
" \n",
"Ea=Ka*N\n",
"\n",
"Vo=Ea+(Ia*Ra)\n",
"\n",
"a=Vo*%pi\n",
" \n",
"b=3*sqrt(6)*Vp\n",
" \n",
"c=a/b\n",
" \n",
"Angle=acosd(c)\n",
" \n",
"IA=sqrt(2/3)*Ia\n",
"  \n",
"S=3*Vp*IA\n",
"\n",
"Ps=Vo*Ia\n",
" \n",
"Pf=Ps/S\n",
" \n",
"Ea1=Ka*No\n",
"\n",
"Vo1=-300+(Ia*Ra)\n",
"\n",
"a=Vo1*%pi\n",
"\n",
"b=3*sqrt(6)*Vp\n",
" \n",
"c=a/b\n",
" \n",
"Angle=acosd(c)\n",
"\n",
"Pdc=Ea1*Ia\n",
" \n",
"Pr=Ia^2*Ra\n",
" \n",
"Ps=Pdc-Pr"
   ]
   }
,
{
		   "cell_type": "markdown",
		   "metadata": {},
		   "source": [
			"## Example 4: controlfiringangle.sce"
		   ]
		  },
  {
"cell_type": "code",
	   "execution_count": null,
	   "metadata": {
	    "collapsed": true
	   },
	   "outputs": [],
"source": [
"OutP=100*0.746;Eff=0.8;\n",
"Pf=0.85;V=460;\n",
"\n",
"S=OutP/(Eff*Pf)\n",
" \n",
"Il=S/(sqrt(3)*V)\n",
" \n",
"Ip=Il/sqrt(3)\n",
"\n",
"Is=Ip/sqrt(2)\n",
" \n",
"Vs=sqrt(2)*V\n",
" \n",
"Angle=acosd(Pf)"
   ]
   }
,
{
		   "cell_type": "markdown",
		   "metadata": {},
		   "source": [
			"## Example 5: supplypower.sce"
		   ]
		  },
  {
"cell_type": "code",
	   "execution_count": null,
	   "metadata": {
	    "collapsed": true
	   },
	   "outputs": [],
"source": [
"Ka=0.1;Ra=0.2;N=400;\n",
"Ia=100;V=120;N1=350;\n",
"Io=-100;\n",
"\n",
"Ea=Ka*N\n",
" \n",
"Vo=Ea+(Ia*Ra)\n",
"\n",
"Pmotor=Ea*Ia\n",
" \n",
"Pr=Ia^2*Ra\n",
" \n",
"Ps=V*Ia*0.5\n",
"\n",
"Vo=Ea1+(Ia*Ra)\n",
"\n",
"Vo=Ea1+(Io*Ra)\n",
" \n",
"Pmotor1=Ea1*Io\n",
" \n",
"Pr1=Ia^2*Ra\n",
" \n",
"Ps=V*Io*1/8"
   ]
   }
,
{
		   "cell_type": "markdown",
		   "metadata": {},
		   "source": [
			"## Example 6: outputpower.sce"
		   ]
		  },
  {
"cell_type": "code",
	   "execution_count": null,
	   "metadata": {
	    "collapsed": true
	   },
	   "outputs": [],
"source": [
"V=300;I=540;Angle=45;\n",
"\n",
"t0=0:0.1:%pi;\n",
" \n",
"t=0;\n",
"integrate('540*sin((x-45*%pi/180))','x',t,t0)/%pi\n",
"\n",
" Is=242.89;\n",
" \n",
"Ps=V*I  \n",
" \n",
"Vo1=(4*V)/(%pi*sqrt(2))\n",
"\n",
"Pout=Vo1*Io/sqrt(2)*cos(%pi*Angle/180)\n",
" "
   ]
   }
,
{
		   "cell_type": "markdown",
		   "metadata": {},
		   "source": [
			"## Example 7: phasevoltage.sce"
		   ]
		  },
  {
"cell_type": "code",
	   "execution_count": null,
	   "metadata": {
	    "collapsed": true
	   },
	   "outputs": [],
"source": [
"V=600;Phase=3;\n",
"\n",
"Vl=sqrt(2/3)*V\n",
" \n",
"Vp=V*sqrt(2)/Phase"
   ]
   }
,
{
		   "cell_type": "markdown",
		   "metadata": {},
		   "source": [
			"## Example 8: angleshift.sce"
		   ]
		  },
  {
"cell_type": "code",
	   "execution_count": null,
	   "metadata": {
	    "collapsed": true
	   },
	   "outputs": [],
"source": [
"V=120;Vo=50;Vo1=100;\n",
" \n",
"Angleshift=(Vo^2/V^2)*180\n",
" \n",
"Angleshift=(Vo1^2/V^2)*180\n",
"  \n",
" "
   ]
   }
,
{
		   "cell_type": "markdown",
		   "metadata": {},
		   "source": [
			"## Example 9: outputcurrent.sce"
		   ]
		  },
  {
"cell_type": "code",
	   "execution_count": null,
	   "metadata": {
	    "collapsed": true
	   },
	   "outputs": [],
"source": [
"I=100;\n",
"PulseScr=sqrt(1/3);\n",
"PulseOut=sqrt(2/3);\n",
"\n",
"a=PulseScr\n",
"\n",
"msScr=a*I\n",
" \n",
"b=PulseOut\n",
" \n",
"RmsOut=b*I"
   ]
   }
],
"metadata": {
		  "kernelspec": {
		   "display_name": "Scilab",
		   "language": "scilab",
		   "name": "scilab"
		  },
		  "language_info": {
		   "file_extension": ".sce",
		   "help_links": [
			{
			 "text": "MetaKernel Magics",
			 "url": "https://github.com/calysto/metakernel/blob/master/metakernel/magics/README.md"
			}
		   ],
		   "mimetype": "text/x-octave",
		   "name": "scilab",
		   "version": "0.7.1"
		  }
		 },
		 "nbformat": 4,
		 "nbformat_minor": 0
}
