{
"cells": [
 {
		   "cell_type": "markdown",
	   "metadata": {},
	   "source": [
       "# Chapter 6: The Question of Ideality"
	   ]
	},
{
		   "cell_type": "markdown",
		   "metadata": {},
		   "source": [
			"## Example 6.10: numerical.sce"
		   ]
		  },
  {
"cell_type": "code",
	   "execution_count": null,
	   "metadata": {
	    "collapsed": true
	   },
	   "outputs": [],
"source": [
"//example 6.10\n",
"\n",
"clear;\n",
"clc;\n",
"\n",
"//Given:\n",
"m1=0.03;//mass of CO2(g)[gm]\n",
"w1=44.01;//molecular weight of CO2(g)[gm/mol]\n",
"m2=250;//mass of water[gm]\n",
"w2=18.02;//molecular weight of water[gm/mol]\n",
"k=1.25*10^6;//Henry's law constant[Torr]\n",
"T=298;//Temperature[K]\n",
"\n",
"//To find the partial pressure of CO2 gas \n",
"n1=m1/w1;//no. of moles of CO2\n",
"n2=m2/w2;//no. of moles of water\n",
"x1=n1/(n1+n2);//mole fraction of CO2\n",
"Pco2=k*x1;//Partial pressure of CO2[Torr]\n",
"printf('The partial pressure of CO2 gas is %f Torr',Pco2);\n",
"\n",
"\n",
"\n",
"\n",
"\n",
"\n",
"\n",
""
   ]
   }
,
{
		   "cell_type": "markdown",
		   "metadata": {},
		   "source": [
			"## Example 6.11: numerical.sce"
		   ]
		  },
  {
"cell_type": "code",
	   "execution_count": null,
	   "metadata": {
	    "collapsed": true
	   },
	   "outputs": [],
"source": [
"//example 6.11\n",
"\n",
"clear;\n",
"clc;\n",
"\n",
"//Given:\n",
"W=1000;//Total mass of a solution[gm]\n",
"x1=0.5;//mole fraction of Chloroform\n",
"x2=0.5;//mole fraction of Acetone\n",
"V1m=80.235;//Partial molar volume of chloroform[cm3/mol]\n",
"V2m=74.166;//Partial molar volume of Acetone[cm3/mol]\n",
"M1=119.59;//molecular weight of chloroform[gm/mol]\n",
"M2=58;//molecular weight of Acetone[gm/mol]\n",
"\n",
"//To find the Volume of the solution\n",
"nT=W/(x1*M1+x2*M2);//Total no. of moles\n",
"V=nT*(x1*V1m+x2*V2m);//Total volume[cm3]\n",
"printf('The volume of the solution is %f cm3',V); \n",
"\n",
"\n",
"\n",
"\n",
"\n",
"\n",
"\n",
""
   ]
   }
,
{
		   "cell_type": "markdown",
		   "metadata": {},
		   "source": [
			"## Example 6.12: numerical.sce"
		   ]
		  },
  {
"cell_type": "code",
	   "execution_count": null,
	   "metadata": {
	    "collapsed": true
	   },
	   "outputs": [],
"source": [
"//example 6.12\n",
"\n",
"clear;\n",
"clc;\n",
"\n",
"//Given:\n",
"x1=0.5;//mole fraction of chloroform\n",
"x2=0.5;//mole fraction of p-xylene\n",
"T=298;//Temperature[K]\n",
"//to find the excess volume \n",
"Ve=x1*x2*[0.585+0.085*(x1-x2)-0.165*(x1-x2)^2];//Excess volume measured by using a dilatometer\n",
"printf('Ve/(cm3.mol^-1) = %f ',Ve);"
   ]
   }
,
{
		   "cell_type": "markdown",
		   "metadata": {},
		   "source": [
			"## Example 6.14: numerical.sce"
		   ]
		  },
  {
"cell_type": "code",
	   "execution_count": null,
	   "metadata": {
	    "collapsed": true
	   },
	   "outputs": [],
"source": [
"//example 6.14\n",
"\n",
"clear;\n",
"clc;\n",
"\n",
"//Given:\n",
"m1=0.01;//molality[m]\n",
"v11=1;\n",
"v12=2;\n",
"Y1=0.71;\n",
"m2=0.005;//molality[m]\n",
"v21=1;\n",
"v22=1;\n",
"Y2=0.53;\n",
"\n",
"\n",
"//To find the activity , molality of the electrolytes\n",
"v1=(v11)+(v12);\n",
"v2=(v21)+(v22);\n",
"a1=(m1^v1)*(v11^v11)*(v12^v12)*(Y1^v1);\n",
"a2=(m2^v2)*(v21^v21)*(v22^v22)*(Y2^v2);\n",
"x=1/v1;\n",
"a1m=a1^x;\n",
"m1m=m1*(v11^v11*v12^v12)^x;//molality[m]\n",
"y=1/v2;\n",
"m2m=m2*(v21*v21*v22^v22)^y;//molality[m]\n",
"a2m=a2^y;\n",
"disp(a1,'The activity of the electrolyte ZnCl2 is');\n",
"disp(a1m,'The mean activity of ZnCl2 is ');\n",
"disp(m1m,'The mean molality of ZnCl2 in [m] ');\n",
"disp(a2,'The activity of the electrolyte CuSO4 is ');\n",
"disp(a2m,'The mean activity of CuSO4 is ');\n",
"disp(m2m,'The mean molality of CuSO4 in [m] ');\n",
""
   ]
   }
,
{
		   "cell_type": "markdown",
		   "metadata": {},
		   "source": [
			"## Example 6.15: numerical.sce"
		   ]
		  },
  {
"cell_type": "code",
	   "execution_count": null,
	   "metadata": {
	    "collapsed": true
	   },
	   "outputs": [],
"source": [
"//example 6.15\n",
"\n",
"clear;\n",
"clc;\n",
"\n",
"//Given:\n",
"m2=3;//mass of the sucrose[gm]\n",
"m1=0.1;//mass of water [Kg]\n",
"Kf=1.86;//cryoscopic constant of water[K*Kg/mol]\n",
"dTf=0.16;//Lowering in freezing point[K]\n",
"\n",
"//To find the molecular weight of sucrose\n",
"a=m1*dTf;\n",
"b=Kf*m2;\n",
"M2=b/a;//molecular weight\n",
"printf('M2=molecular weight ,    then M2=%f',M2); "
   ]
   }
,
{
		   "cell_type": "markdown",
		   "metadata": {},
		   "source": [
			"## Example 6.16: numerical.sce"
		   ]
		  },
  {
"cell_type": "code",
	   "execution_count": null,
	   "metadata": {
	    "collapsed": true
	   },
	   "outputs": [],
"source": [
"//example 5.16\n",
"\n",
"clear;\n",
"clc;\n",
"\n",
"//Given:\n",
"dTf=0.088;//Lowering in freezing point[K]\n",
"m2=0.45;//mass of sulphur[gm]\n",
"m1=0.09955;//mass of benzene[gm]\n",
"Kf=5.07;//cryoscopic constant for benzene[K*Kg/mol]\n",
"\n",
"//To find the molecular formula of sulphur\n",
"a=m1*dTf;\n",
"b=Kf*m2;\n",
"M2=b/a;//molecular weight of sulphur\n",
"printf('The molecular weight of sulphur is %f',M2);\n",
"x=M2/32;//no. of sulphur atoms\n",
"printf('\n The molecular formula of sulphur is S%f',x);"
   ]
   }
,
{
		   "cell_type": "markdown",
		   "metadata": {},
		   "source": [
			"## Example 6.17: numerical.sce"
		   ]
		  },
  {
"cell_type": "code",
	   "execution_count": null,
	   "metadata": {
	    "collapsed": true
	   },
	   "outputs": [],
"source": [
"//example 6.17\n",
"\n",
"clear;\n",
"clc;\n",
"\n",
"//Given:\n",
"m2=1.35;//mass of a macromolecule[gm]\n",
"V=100;//volume of solution[cm^3]\n",
"R=82;//Universal gas constant[atm.cm^3.K^-1]\n",
"T=300;//Temperature[K]\n",
"II=9.9;//osmotic pressure of the solution[cm]\n",
"d=1;//density\n",
"p=1013250;//Atmospheric pressure\n",
"g=980.67;//gravitational field\n",
"\n",
"\n",
"//To find the molar mass of macromolecule\n",
"a=m2*R*T*p;\n",
"b=V*9.9*d*g;\n",
"M2=a/b;//molar mass of macromolecule\n",
"printf(' M2 = molar mass of macromolecule , therefore M2 = %f g.mol^-1',M2);\n",
"\n",
"\n",
"\n",
"\n",
""
   ]
   }
,
{
		   "cell_type": "markdown",
		   "metadata": {},
		   "source": [
			"## Example 6.18: numerical.sce"
		   ]
		  },
  {
"cell_type": "code",
	   "execution_count": null,
	   "metadata": {
	    "collapsed": true
	   },
	   "outputs": [],
"source": [
"//example 6.18\n",
"\n",
"clear;\n",
"clc;\n",
"\n",
"//Given:\n",
"R=82;//Universal gas constant[atm.ml.K^-1.mol^-1]\n",
"T=298;//Temperature[K]\n",
"V=250;//volume of water[ml]\n",
"m2=2.6;//mass of the protein\n",
"M2=85000;//molar mass of protein[g.mol^-1]\n",
"\n",
"\n",
"//To find the osmotic pressure of a solution\n",
"n2=m2/M2;//no. of moles of protein\n",
"II=(n2*R*T)/V;//Osmotic pressure of a solution[atm]\n",
"printf('The osmotic pressure is %f atm ',II);"
   ]
   }
,
{
		   "cell_type": "markdown",
		   "metadata": {},
		   "source": [
			"## Example 6.19: numerical.sce"
		   ]
		  },
  {
"cell_type": "code",
	   "execution_count": null,
	   "metadata": {
	    "collapsed": true
	   },
	   "outputs": [],
"source": [
"//example 6.19\n",
"\n",
"clear;\n",
"clc;\n",
"\n",
"//Given:\n",
"R=8.314;//Universal gas constant[J.K^-1.mol^-1]\n",
"Tb=373.15;//Boiling point temperature[K]\n",
"M1=0.018;// mass of water[kg]\n",
"Hvap=40.7;//Enthalpy of vaporization[KJ.mol^-1]\n",
"\n",
"//To find the Ebullioscopic constant of water\n",
"a=R*0.001*Tb^2*M1;\n",
"b=Hvap;\n",
"Kb=a/b;//Ebullioscopic constant of water[K.Kg.mol^-1]\n",
"printf('The Ebullioscopic constant of water is %f K.Kg.mol-1',Kb);\n",
"\n",
"\n",
"\n",
"\n",
""
   ]
   }
,
{
		   "cell_type": "markdown",
		   "metadata": {},
		   "source": [
			"## Example 6.20: numerical.sce"
		   ]
		  },
  {
"cell_type": "code",
	   "execution_count": null,
	   "metadata": {
	    "collapsed": true
	   },
	   "outputs": [],
"source": [
"//example 6.20\n",
"\n",
"clear;\n",
"clc;\n",
"\n",
"disp('CaF2(s)<=>CaF2(aq)<=>Ca+2(aq) + 2F-(aq)');\n",
"\n",
"//Given:\n",
"Ksp=4*10^-11;//Solubility product of sparingly soluble salt CaF2\n",
"\n",
"//To find the value of activity coefficient\n",
"x=Ksp/4;\n",
"Cs=x^0.33;//Solubility \n",
"y=Cs^2;\n",
"Y=(x/y)^0.33;//activity coefficient\n",
"printf('The activity coefficient is %f ',Y);\n",
"  "
   ]
   }
,
{
		   "cell_type": "markdown",
		   "metadata": {},
		   "source": [
			"## Example 6.21: numerical.sce"
		   ]
		  },
  {
"cell_type": "code",
	   "execution_count": null,
	   "metadata": {
	    "collapsed": true
	   },
	   "outputs": [],
"source": [
"//example 6.21\n",
"\n",
"clear;\n",
"clc;\n",
"\n",
"//Given:\n",
"R=8.314;//Universal gas constant[J/K/mol]\n",
"T=298;//Temperature[K]\n",
"F=96500;//Faraday's constant\n",
"Eo=0.98;//Standard e.m.f of the cell[Volts]\n",
"E=1.16;//e.m.f of the cell[Volts]\n",
"m=0.01;\n",
"\n",
"//To find the mean activity coefficient of ZnCl2 solution\n",
"a=R*T;\n",
"b=2*F;\n",
"x=a/b;\n",
"Y=exp((Eo-E-(x*log(4*m*m*m)))/(3*x));//mean activity coefficient\n",
"printf('The mean activity coefficient is %f',Y);"
   ]
   }
,
{
		   "cell_type": "markdown",
		   "metadata": {},
		   "source": [
			"## Example 6.22: numerical.sce"
		   ]
		  },
  {
"cell_type": "code",
	   "execution_count": null,
	   "metadata": {
	    "collapsed": true
	   },
	   "outputs": [],
"source": [
"//example 6.22\n",
"\n",
"clear;\n",
"clc;\n",
"\n",
"//Given:\n",
"M1=0.01;//no. of moles of KCl\n",
"M2=0.005;//no. of moles of MgCl2\n",
"M3=0.002;//no. of moles of MgSO4\n",
"M=0.1;//mass of water[Kg]\n",
"z11=1;\n",
"z12=1;\n",
"z21=2;\n",
"z22=1;\n",
"z31=2;\n",
"z32=2;\n",
"\n",
"//To find the ionic strength in a solution\n",
"m1=M1/M;//molality of KCL[m]\n",
"m2=M2/M;//molality of MgCl2[m]\n",
"m3=M3/M;//molality of MgSO4[m]\n",
"\n",
"I=0.5*[(m1*z11^2+m1*z12^2+m2*z21^2+2*m2*z22^2+m3*z31^2+m3*z32^2)];//[mol/Kg]\n",
"\n",
"printf('The Ionic strength of a solution is %f mol/Kg',I);\n",
"\n",
"\n",
"\n",
"\n",
""
   ]
   }
,
{
		   "cell_type": "markdown",
		   "metadata": {},
		   "source": [
			"## Example 6.23: numerical.sce"
		   ]
		  },
  {
"cell_type": "code",
	   "execution_count": null,
	   "metadata": {
	    "collapsed": true
	   },
	   "outputs": [],
"source": [
"//example 6.23\n",
"\n",
"clear;\n",
"clc;\n",
"\n",
"//Given:\n",
"T=298;//Temperature[K]\n",
"P=1;//pressure [atm]\n",
"m=0.02;//Ionic strength of HCl solution in CH3OH[mol/Kg]\n",
"E=32.6;//Di-electric constant\n",
"d=0.787;//Density[gm/cm3]\n",
"\n",
"//To find the mean activity coefficient\n",
"I=0.5*(0.02*1*1+0.02*1*1);//Ionic strength of HCl solution[mol/Kg]\n",
"a=I*d;\n",
"b=(E^3)*(298^3);\n",
"x=(a/b)^0.5;\n",
"Y=10^(-1.825*1000000*1*1*x);//mean activity coefficient\n",
"printf('The mean activity coefficient is %f ',Y);\n",
"\n",
"\n",
"\n",
"\n",
"\n",
"\n",
"\n",
"\n",
""
   ]
   }
,
{
		   "cell_type": "markdown",
		   "metadata": {},
		   "source": [
			"## Example 6.2: numerical.sce"
		   ]
		  },
  {
"cell_type": "code",
	   "execution_count": null,
	   "metadata": {
	    "collapsed": true
	   },
	   "outputs": [],
"source": [
"//example 6.2\n",
"\n",
"clear;\n",
"clc;\n",
"\n",
"//Given:\n",
"T=500;//Temperature[K]\n",
"P=100;//Pressure[atm]\n",
"a=3.61;//van der waals constant for CO2[atm.L^2.mol^-2]\n",
"b=0.0429;//van der waals constant for CO2[L.mol^-1]\n",
"R=0.082;//Universal gas constant[atm.K-1.mol^-1]\n",
"\n",
"//To find the molar volume of CO2\n",
"x=b+(R*T/P);\n",
"y=a/P;\n",
"z=a*b/P;\n",
"p2 = poly([-z y -x 1], 'Vm', 'c');\n",
"t=roots(p2);\n",
"printf('The value of molar volume of CO2 is %f L.mol^-1',t(3));\n",
"\n",
"\n",
"\n",
"\n",
""
   ]
   }
,
{
		   "cell_type": "markdown",
		   "metadata": {},
		   "source": [
			"## Example 6.5: numerical.sce"
		   ]
		  },
  {
"cell_type": "code",
	   "execution_count": null,
	   "metadata": {
	    "collapsed": true
	   },
	   "outputs": [],
"source": [
"//example 6.5\n",
"\n",
"clear;\n",
"clc;\n",
"\n",
"//Given:\n",
"b=0.0391;//Van der waals constant[dm3/mol]\n",
"R=0.082;//Universal gas constant[dm3*atm/mol]\n",
"P2=1000;//pressure [atm]\n",
"P1=0;//pressure [atm]\n",
"T=1273;//Temperature [K]\n",
"\n",
"//To find the fugacity and fugacity coefficient\n",
"x=b*(P2-P1);\n",
"y=R*T;\n",
"fc=exp(x/y);//fugacity coefficient\n",
"\n",
"f=P2*fc;//fugacity[atm]\n",
"printf('The fugacity is %f atm',f);\n",
"printf('\n The fugacity coefficient is %f ',fc);\n",
"\n",
"\n",
"\n",
"\n",
"\n",
""
   ]
   }
],
"metadata": {
		  "kernelspec": {
		   "display_name": "Scilab",
		   "language": "scilab",
		   "name": "scilab"
		  },
		  "language_info": {
		   "file_extension": ".sce",
		   "help_links": [
			{
			 "text": "MetaKernel Magics",
			 "url": "https://github.com/calysto/metakernel/blob/master/metakernel/magics/README.md"
			}
		   ],
		   "mimetype": "text/x-octave",
		   "name": "scilab",
		   "version": "0.7.1"
		  }
		 },
		 "nbformat": 4,
		 "nbformat_minor": 0
}
