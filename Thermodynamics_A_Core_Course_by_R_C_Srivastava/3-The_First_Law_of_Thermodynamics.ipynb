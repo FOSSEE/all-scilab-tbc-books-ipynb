{
"cells": [
 {
		   "cell_type": "markdown",
	   "metadata": {},
	   "source": [
       "# Chapter 3: The First Law of Thermodynamics"
	   ]
	},
{
		   "cell_type": "markdown",
		   "metadata": {},
		   "source": [
			"## Example 3.10: numerical.sce"
		   ]
		  },
  {
"cell_type": "code",
	   "execution_count": null,
	   "metadata": {
	    "collapsed": true
	   },
	   "outputs": [],
"source": [
"//example 3.10\n",
"\n",
"clear;\n",
"clc;\n",
"disp('N2(g)+3H2(g)-> 2NH3(g)');\n",
"\n",
"//Given:\n",
"H=-92.22;//standard heat of reaction [KJ/mol]\n",
"\n",
"//to find the standard heat of formation of one mole of product\n",
"H1=H/2;//standard heat of formation of 1 mole [KJ/mol]\n",
"printf('H(heat of formation of 1 mole of product)= %f KJ/mol' , H1);\n",
""
   ]
   }
,
{
		   "cell_type": "markdown",
		   "metadata": {},
		   "source": [
			"## Example 3.11: numerical.sce"
		   ]
		  },
  {
"cell_type": "code",
	   "execution_count": null,
	   "metadata": {
	    "collapsed": true
	   },
	   "outputs": [],
"source": [
"//example 3.11\n",
"\n",
"clear;\n",
"clc;\n",
"\n",
"disp('C2H5OH(l)+3O2(g)->2CO2(g)+3H2O(l)');\n",
"//Given:\n",
"T=298;//temperature during the reaction[K]\n",
"Hw=-285.83;//standard heat of formation of liquid water [KJ/mol]\n",
"He=-277.69;//standard heat of formation of liquid ethanol[KJ/mol]\n",
"Hco2=-393.51;//standard heat of formation of carbon dioxide[KJ/mol]\n",
"Ho2=0;//standard heat of formation of oxygen gas[KJ/mol]\n",
"\n",
"//to find the standard heat of reaction\n",
"H=2*Hco2+3*Hw-He-3*Ho2;//standard heat of reaction\n",
"printf('H(standard heat of reaction)=%f KJ/mol',H);"
   ]
   }
,
{
		   "cell_type": "markdown",
		   "metadata": {},
		   "source": [
			"## Example 3.12: numerical.sce"
		   ]
		  },
  {
"cell_type": "code",
	   "execution_count": null,
	   "metadata": {
	    "collapsed": true
	   },
	   "outputs": [],
"source": [
"//example 3.12\n",
"\n",
"clear;\n",
"clc;\n",
"\n",
"disp('CO(g)+NO(g)->0.5N2(g)+CO2(g)');\n",
"//Given:\n",
"Hrxn=-374;//standard heat of reaction[KJ/mol]\n",
"Hno=90.25;//standard heat of formation of NO[KJ/mol]\n",
"Hco2=-393.51;//standard heat of formation of CO2[KJ/mol]\n",
"Hn2=0;//standard heat of formation of N2[KJ/mol]\n",
"T=298;//temperature of reaction [K]\n",
"\n",
"//to find the value of standard heat of formation of CO\n",
"Hco=0.5*Hn2+Hco2-Hno-Hrxn;//standard heat of formation of CO[KJ/mol]\n",
"printf('Hco(standard heat of formation)=%f KJ/mol',Hco);"
   ]
   }
,
{
		   "cell_type": "markdown",
		   "metadata": {},
		   "source": [
			"## Example 3.13: numerical.sce"
		   ]
		  },
  {
"cell_type": "code",
	   "execution_count": null,
	   "metadata": {
	    "collapsed": true
	   },
	   "outputs": [],
"source": [
"//example 3.13\n",
"\n",
"clear;\n",
"clc;\n",
"\n",
"//Given:\n",
"//('C3H6(g)+H2(g)->C3H8(g);H1=-29.6 Kcal');\n",
"//('C3H8(g)+5O2(g)->3CO2(g)+4H2O(l)  ;     H2=-530.6 Kcal');\n",
"//('C(s)+O2(g)->CO2(g);H3=-94.0 Kcal');\n",
"//('H2(g)+0.5O2(g)->H2O(l);H4=-68.3 Kcal. ');\n",
"H1=-29.6;//the standard heat of hydrogenation of gaseous propylene to propane[Kcal]\n",
"H2=-530.6;//the heat of combustion of propane[Kcal] \n",
"H3=-94.0;//the heat of formation of carbon dioxide[Kcal]\n",
"H4=-68.3;//the heat of formation of liquid water[Kcal]\n",
"\n",
"\n",
"//to find the heat of combustion and formation of propylene\n",
"disp('C3H6(g)+4.5O2(g)->3CO2(g)+3H2O(l)');\n",
"H5=[3*H3+4*H4]-[H1+H2];//[Kcal]\n",
"printf('\n H(standard heat of combustion)=%f Kcal.\n',H5);\n",
"disp('3C(s)+3H2(g)->C3H6(g)');\n",
"H6=-H5+3*H3+3*H4;//[Kcal]\n",
"printf('\n H(standard heat of formation)=%f Kcal. \n',H6);"
   ]
   }
,
{
		   "cell_type": "markdown",
		   "metadata": {},
		   "source": [
			"## Example 3.14: numerical.sce"
		   ]
		  },
  {
"cell_type": "code",
	   "execution_count": null,
	   "metadata": {
	    "collapsed": true
	   },
	   "outputs": [],
"source": [
"//example 3.14\n",
"\n",
"clear;\n",
"clc;\n",
"\n",
"//Given:\n",
"H1=-114.1;//standard heat of reaction:2NO(g)+O2(g)->2NO2(g);[KJ/mol]\n",
"H2=-110.2;//standard heat of reaction:4NO2(g)+O2(g)->2N2O5(g);[KJ/mol]\n",
"H3=180.5;//standard heat of reaction:N2(g)+O2(g)->2NO(g);[KJ/mol]\n",
"\n",
"\n",
"//to find the heat of formation of N2O5\n",
"//reacton:N2(g)+2.5O2(g)->N2O5(g)\n",
"H4=(2*H1+H2+2*H3)/2;//standard heat of formation of N2O5[KJ/mol]\n",
"printf('H(standard heat of formation of N2O5)=%f KJ/mol',H4);"
   ]
   }
,
{
		   "cell_type": "markdown",
		   "metadata": {},
		   "source": [
			"## Example 3.15: numerical.sce"
		   ]
		  },
  {
"cell_type": "code",
	   "execution_count": null,
	   "metadata": {
	    "collapsed": true
	   },
	   "outputs": [],
"source": [
"//example 3.15\n",
"\n",
"clear;\n",
"clc;\n",
"\n",
"//Given:\n",
"Hc=-5645;//standard enthalpy of combustion of reaction:C12H22O11(s)+12O2(g)->12CO2(g)+11H2O(l) [KJ/mol]\n",
"Hf1=-393.51;//standard heat of formation of CO2: C(s)+O2(g)->CO2(g) [KJ/mol]\n",
"Hf2=-285.83;//standard heat of formation of H2O: H2(g)+0.5O2(g)->H2O(l) [KJ/mol]\n",
"\n",
"\n",
"//to find the standard heat of formaton of solid sucrose\n",
"//reaction:12C(s)+11H2(g)+5.5O2(g)->C12H22O11(s)\n",
"Hf=12*Hf1+11*Hf2-Hc;//[KJ/mol]\n",
"printf('Hf(standard heat of formation of solid sucrose)=%f KJ/mol',Hf);"
   ]
   }
,
{
		   "cell_type": "markdown",
		   "metadata": {},
		   "source": [
			"## Example 3.16: numerical.sce"
		   ]
		  },
  {
"cell_type": "code",
	   "execution_count": null,
	   "metadata": {
	    "collapsed": true
	   },
	   "outputs": [],
"source": [
"//example 3.16\n",
"\n",
"\n",
"clear;\n",
"clc;\n",
"\n",
"//Given:\n",
"Hf1=-46.11;//standard heat of formation of NH3 at 298K //reaction:0.5N2(g)+1.5H2(g)->NH3(g) [KJ/mol]\n",
"Cp1=29.125;//molar heat capacity at constant pressure for N2(g)[J/K/mol]\n",
"Cp2=28.824;//molar heat capacity at constant pressure for H2(g)[J/K/mol]\n",
"Cp3=35.06;//molar heat capacity at constant pressure for NH3(g)[J/K/mol]\n",
"T1=298;//initial temperature[K]\n",
"T2=400;//final temperature[K]\n",
"\n",
"\n",
"//to find the standard heat of formation of NH3 at 400K for same reaction\n",
"Cp=Cp3-0.5*Cp1-1.5*Cp2;//[J/K/mol]\n",
"T=T2-T1;//[K]\n",
"Hf2=Hf1+Cp*0.001*T;//standard heat of formation for NH3 at 400K[KJ/mol]\n",
"printf('\n Hf2(standard heat of formation for NH3 at 400K = %f KJ/mol. \n',Hf2);"
   ]
   }
,
{
		   "cell_type": "markdown",
		   "metadata": {},
		   "source": [
			"## Example 3.17: numerical.sce"
		   ]
		  },
  {
"cell_type": "code",
	   "execution_count": null,
	   "metadata": {
	    "collapsed": true
	   },
	   "outputs": [],
"source": [
"//example 3.17\n",
"\n",
"clear;\n",
"clc;\n",
"\n",
"//Given:\n",
"Cp1=poly([29.07, -0.836*10^-3, 20.1*10^-7],'T','c');//heat capacity for H2(g)\n",
"Cp2=poly([25.72, 12.98*10^-3, -38.6*10^-7],'T','c');//heat capacity for O2(g)\n",
"Cp3=poly([30.36, 9.61*10^-3, 11.8*10^-7],'T','c');//heat capacity for H2O(g)\n",
"Hf1=-241820;//standard heat of formation H2O(g) at 298K :                H2(g)+ 0.5O2(g)->H2O(g) [J/mol]\n",
"T1=298;//initial temperature[K]\n",
"T2=1273;//final temperature[K]\n",
"\n",
"//to find the standard heat of formation of H2O(g) at 1273K\n",
"Cp=Cp3-0.5*Cp2-Cp1;//heat capacity for the formation[J/K/mol]\n",
"i=horner(Cp,1273)-horner(Cp,298);//[J/mol]\n",
"Hf2=(Hf1-i)*0.001;//[KJ/mol]\n",
"printf('The heat of formation of H2O at 1273K = %f KJ/mol', Hf2);\n",
"\n",
"\n",
""
   ]
   }
,
{
		   "cell_type": "markdown",
		   "metadata": {},
		   "source": [
			"## Example 3.18: numerical.sce"
		   ]
		  },
  {
"cell_type": "code",
	   "execution_count": null,
	   "metadata": {
	    "collapsed": true
	   },
	   "outputs": [],
"source": [
"//example 3.18\n",
"\n",
"clear;\n",
"clc;\n",
"\n",
"//given:\n",
"H1=435;//bond dissociation energy for: CH4->CH3+H [KJ/mol]\n",
"H2=364;//bond dissociation energy for:CH3->CH2+H [KJ/mol]\n",
"H3=385;//bond dissociation energy for:CH2->CH+H [KJ/mol] \n",
"H4=335;//bond dissociation energy for:CH->C+H [KJ/mol]\n",
"\n",
"\n",
"//to find the C-H bond energy of CH4 from the above bond energies\n",
"H=(H1+H2+H3+H4)/4;//the bond energy for C-H bond in CH4 [KJ/mol]\n",
"printf('\n H(the C-H bond energy in CH4)=%f KJ/mol. \n',H);"
   ]
   }
,
{
		   "cell_type": "markdown",
		   "metadata": {},
		   "source": [
			"## Example 3.19: numerical.sce"
		   ]
		  },
  {
"cell_type": "code",
	   "execution_count": null,
	   "metadata": {
	    "collapsed": true
	   },
	   "outputs": [],
"source": [
"//example 3.19\n",
"\n",
"clear;\n",
"clc;\n",
"\n",
"//Given:\n",
"H1=-84.68;//heat of formation : 2C(s)+3H2(g)->C2H6(g) [KJ/mol]\n",
"H2=2*716.68;//heat of formation : 2C(s)->2C(g) [KJ]\n",
"H3=3*436;//heat of formation : 3H2(g)->6H(g) [KJ]\n",
"H4=412;//taking it as bond energy for one C-H bond[KJ/mol]\n",
"\n",
"\n",
"//to find the C-C bond energy in ethane bond\n",
"H=H2+H3-H1;//heat of reaction : C2H6(g)->2C(g)+6H(g) [KJ/mol]\n",
"H5=H-6*H4;//bond energy for one C-C bond in ethane bond [KJ/mol]\n",
"printf('\n Hc-c(bond energy for one C-C bond in ethane bond)=%f KJ/mol.\n',H5);"
   ]
   }
,
{
		   "cell_type": "markdown",
		   "metadata": {},
		   "source": [
			"## Example 3.1: numerical.sce"
		   ]
		  },
  {
"cell_type": "code",
	   "execution_count": null,
	   "metadata": {
	    "collapsed": true
	   },
	   "outputs": [],
"source": [
"//example 3.1\n",
"\n",
"clear;\n",
"clc;\n",
"\n",
"//given:\n",
"V1=14;//initial volume of cylinder in m3\n",
"V2=9;//final volume of cylinder in m3\n",
"P=2000;//pressure during the operation in N/m2\n",
"U=(-6000);//internal energy of the system in J\n",
"\n",
"//to find energy transfered in form of heat:\n",
"W=-P*(V2-V1);//work done during the operation in J\n",
"Q=U-W;//energy tranfered in form of heat in J\n",
"printf('energy tranfered in form of heat is %f J',Q);\n",
" "
   ]
   }
,
{
		   "cell_type": "markdown",
		   "metadata": {},
		   "source": [
			"## Example 3.20: numerical.sce"
		   ]
		  },
  {
"cell_type": "code",
	   "execution_count": null,
	   "metadata": {
	    "collapsed": true
	   },
	   "outputs": [],
"source": [
"//example 3.20\n",
"\n",
"clear;\n",
"clc;\n",
"\n",
"//Given:\n",
"//MgBr2(s)-->Mg(s)+Br2(l)-->Mg(g)+Br2(l)-->Mg(g)+Br2(g)-->Mg(g)+2Br(g)-->Mg+2(g) + 2e(g) + 2Br(g)-->Mg+2(g) + 2Br-(g)\n",
"H1=-524;//enthalpy of formation of MgBr2(s) from its element [KJ/mol]\n",
"H2=148;//enthalpy of sublimation of Mg(s) [KJ/mol]\n",
"H3=31;//enthalpy of vaporization of Br2(l) [KJ/mol]\n",
"H4=193;//enthalpy of dissociation Br2 to 2Br(g) [KJ/mol]\n",
"H5=2187;//enthalpy of ionization of Mg(g) to Mg+2(g) [KJ/mol]\n",
"H6=-650;//enthalpy of formation of Br-(g) [KJ/mol]\n",
"\n",
"//to find the lattice enthalpy of magnesium bromide\n",
"H=-H1+H2+H3+H4+H5+H6;//lattice enthalpy [KJ/mol]\n",
"printf('\n H(lattice enthalpy of magnesium bromide)=%f KJ/mol.\n',H);"
   ]
   }
,
{
		   "cell_type": "markdown",
		   "metadata": {},
		   "source": [
			"## Example 3.21: numerical.sce"
		   ]
		  },
  {
"cell_type": "code",
	   "execution_count": null,
	   "metadata": {
	    "collapsed": true
	   },
	   "outputs": [],
"source": [
"//example 3.21\n",
"\n",
"clear;\n",
"clc;\n",
"\n",
"//Given:\n",
"Cp1=poly([26.0, 43.5*10^-3, -148.3*10^-7],'T','c');//heat capacity for CO2(g)[J/K/mol]\n",
"Cp2=poly([30.36, 9.61*10^-3, 11.8*10^-7],'T','c');//heat capacity for H2O(g)[J/K/mol]\n",
"Cp3=poly([27.30, -5.23*10^-3, -0.04*10^-7],'T','c');//heat capacity for N2(g)[J/K/mol]\n",
"H1=-881.25;//heat of combustion of methane at 298K[KJ/mol]:                CH4 + 2O2(g) --> CO2(g) + 2H2O(l)\n",
"H2=43.6;//heat of vaporization of water at 298K[KJ/mol]:        H2O(l)-->H2O(g)  \n",
"T1=298;//initial temperature [K]\n",
"\n",
"\n",
"//to find the maximum flame temperature when one mole of methane is burnt completely  in calculated amount of air(N2 to O2 ratio 4),at constant pressure\n",
"H=(H1+2*H2);//enthalpy of reaction: CH4 + 2O2(g) --> CO2(g) + 2H2O(g) [KJ]\n",
"printf('H(enthalpy of reaction)=%f KJ/mol.\n',H);\n",
"printf('H(enthalpy of heating)=%f KJ/mol. \n',-H);\n",
"Cp=Cp1+2*Cp2+8*Cp3;//[J/K/mol]\n",
"P=poly([0 , 305.12 , 52.28*10^-3 , -41.66*10^-7] , 'T' , 'c');\n",
"i=horner(P,298);\n",
"c1=-H*1000+i;\n",
"P1=poly([-c1 , 305.12 , 52.28*10^-3 , -41.66*10^-7] , 'T' , 'c');\n",
"T2=roots(P1)\n",
"printf('T2 (maximum flame temperature)= %f K',T2(1));"
   ]
   }
,
{
		   "cell_type": "markdown",
		   "metadata": {},
		   "source": [
			"## Example 3.2: numerical.sce"
		   ]
		  },
  {
"cell_type": "code",
	   "execution_count": null,
	   "metadata": {
	    "collapsed": true
	   },
	   "outputs": [],
"source": [
"//example 3.2\n",
"\n",
"clear;\n",
"clc;\n",
"\n",
"//given:\n",
"R=8.314;//universal gas constant [J/K/mol]\n",
"T=300;//temperture for the process [K]\n",
"U=0;//change in internal energy [J]\n",
"V1=2.28;//initial volume [m3]\n",
"V2=4.56;//final volume[m3]\n",
"\n",
"\n",
"//to find the heat lost or gained by the system:\n",
"W=2.303*R*T*log10(V2/V1);//work done during the process[J]\n",
"Q=W;//heat lost or gained by the system[J]\n",
"printf('the heat gained by the system is %f J',Q);"
   ]
   }
,
{
		   "cell_type": "markdown",
		   "metadata": {},
		   "source": [
			"## Example 3.3: numerical.sce"
		   ]
		  },
  {
"cell_type": "code",
	   "execution_count": null,
	   "metadata": {
	    "collapsed": true
	   },
	   "outputs": [],
"source": [
"//example 3.3\n",
"\n",
"clear;\n",
"clc;\n",
"\n",
"//given:\n",
"H=29.2;//latent heat of vaporisation[KJ/mol]\n",
"T=332;//temperature of the system[K]\n",
"R=8.314;//universal gas constant [J/K/mol]\n",
"\n",
"\n",
"//to find Q,W,U for 1 mole of bromine vaporizes\n",
"//where Q is heat absorbed or evolved\n",
"//W is the work done by system\n",
"//U is the change in internak energy\n",
"Qp=H;//at constant pressure [KJ]\n",
"W=-R*0.001*T;//workdone [KJ]\n",
"U=Qp+W;//change in internal energy[KJ]\n",
"printf('heat absorbed by the bromine vapours is %f KJ',Qp);\n",
"printf('\nworkdone during the process is %f KJ',W);\n",
"printf('\nchange in internal energy of the system is %f KJ',U);"
   ]
   }
,
{
		   "cell_type": "markdown",
		   "metadata": {},
		   "source": [
			"## Example 3.4: numerical.sce"
		   ]
		  },
  {
"cell_type": "code",
	   "execution_count": null,
	   "metadata": {
	    "collapsed": true
	   },
	   "outputs": [],
"source": [
"//example 3.4\n",
"\n",
"clear;\n",
"clc;\n",
"\n",
"//given:\n",
"disp('C7H16(l) + 11O2(g) -> 7CO2(g) + 8H2O(l)');\n",
"n=-4;//change in no. of moles when reaction proceeds from reactants to products\n",
"T=298;//temperature of the process [K]\n",
"R=8.314;//universal gas constant [J/K/mol]\n",
"Qv=-4800;//heat energy at constant volume [KJ]\n",
"\n",
"\n",
"//to find change in enthalpy of the process:\n",
"U=Qv;//change in internal energy of system [KJ]\n",
"H=U+n*R*0.001*T;//change in enthalpy of the system[KJ]\n",
"printf('the change in enthalpy of system is %f KJ',H);\n",
""
   ]
   }
,
{
		   "cell_type": "markdown",
		   "metadata": {},
		   "source": [
			"## Example 3.5: numerical.sce"
		   ]
		  },
  {
"cell_type": "code",
	   "execution_count": null,
	   "metadata": {
	    "collapsed": true
	   },
	   "outputs": [],
"source": [
"//example 3.5\n",
"\n",
"clear;\n",
"clc;\n",
"\n",
"//given:\n",
"n=1;//number of moles of an given ideal gas\n",
"T=298;//temperature for the process[K]\n",
"V1=8.3;//initial volume of the ideal gas[m3]\n",
"V2=16.8;//final volume of the ideal gas[m3]\n",
"R=8.314;//universal gas constant[J/K/mol]\n",
"\n",
"\n",
"//to find the Q,W,H\n",
"//where Q is heat absorbed or evolved by the system\n",
"//W is the net workdone \n",
"//H is the change in enthalpy of system\n",
"W=-2.303*R*T*log10(V2/V1);//[J]\n",
"Q=-W;//[J]\n",
"disp('H=U+PV ,where U is change in internal energy which is zero due to isothermal process');\n",
"disp('PV where V is change in volume of system ,PV=RT & RT==0 since T i.e change in temp is zero for system');\n",
"disp('Therefore,the change in enthalpy is 0J');\n",
"printf('the workdone by system is %f J',W);\n",
"printf('\nthe heat evolved is %f J',Q);"
   ]
   }
,
{
		   "cell_type": "markdown",
		   "metadata": {},
		   "source": [
			"## Example 3.6: numerical.sce"
		   ]
		  },
  {
"cell_type": "code",
	   "execution_count": null,
	   "metadata": {
	    "collapsed": true
	   },
	   "outputs": [],
"source": [
"//example 3.6\n",
"\n",
"clear;\n",
"clc;\n",
"\n",
"//given:\n",
"T1=323;//intial temperature of water[K]\n",
"T2=373;//final temperature of water[K]\n",
"Cp=75.29;//specific heat of water[J/K/mol]\n",
"w=100;//weight of water[g]\n",
"mol.wt=18;//molecular weight of water[g/mol]\n",
"\n",
"//to find the change in enthalpy(H) of water \n",
"n=w/mol.wt;//no. of moles of water[moles]\n",
"H=(n*Cp*(T2-T1))*0.001;//change in enthalpy of water[J]\n",
"printf('The change in enthalpy of water is %f J',H);"
   ]
   }
,
{
		   "cell_type": "markdown",
		   "metadata": {},
		   "source": [
			"## Example 3.7: numerical.sce"
		   ]
		  },
  {
"cell_type": "code",
	   "execution_count": null,
	   "metadata": {
	    "collapsed": true
	   },
	   "outputs": [],
"source": [
"//example 3.7\n",
"\n",
"clear;\n",
"clc;\n",
"\n",
"disp('SO2 + 0.5O2 -> SO3');\n",
"//given:\n",
"U=-97030;//heat of reaction[J]\n",
"n=1-(1+0.5);//change in no. of moles \n",
"R=8.314;//universal gas constant[J/K/mol]\n",
"T=298;//temperature during the reaction[K]\n",
"\n",
"\n",
"//to find the change in enthalpy of reaction(H)\n",
"H=U+n*R*T;//change in enthalpy of reaction[J]\n",
"printf('The change in enthalpy of reaction is %f J ',H);"
   ]
   }
,
{
		   "cell_type": "markdown",
		   "metadata": {},
		   "source": [
			"## Example 3.8: numerical.sce"
		   ]
		  },
  {
"cell_type": "code",
	   "execution_count": null,
	   "metadata": {
	    "collapsed": true
	   },
	   "outputs": [],
"source": [
"//example 3.8\n",
"\n",
"clear;\n",
"clc;\n",
"\n",
"disp('i.C(s) + O2(g) -> CO2(g)');\n",
"//Given:\n",
"H1=-393.5;//change in enthalpy [KJ/mol]\n",
"T1=298;//temperature [K]\n",
"n1=0;//change in no. of moles in reaction moving in forward direction\n",
"R=0.008314;//universal gas constant [KJ/K/mol]\n",
"\n",
"//to find the change in internal energy (U) of given reaction\n",
"U1=H1-n1*R*T1;//change in internal energy [KJ]\n",
"printf('The change in internal energy is %f KJ/mol',U1);\n",
"\n",
"disp('ii.C(s) + 0.5O2 -> CO(g)');\n",
"//Given:\n",
"H2=-110.5;//change in enthalpy[KJ/mol]\n",
"T2=298;//temperature[K]\n",
"n2=1-0.5;//change in no. of moles in reaction moving in forward direction\n",
"R=0.008314;//universal gas constant [KJ/K/mol]\n",
"\n",
"//to find the change in internal energy (U) of given reaction\n",
"U2=H2-n2*R*T2;//change in internal energy [KJ]\n",
"printf('The change in internal energy is %f KJ/mol',U2);\n",
""
   ]
   }
,
{
		   "cell_type": "markdown",
		   "metadata": {},
		   "source": [
			"## Example 3.9: numerical.sce"
		   ]
		  },
  {
"cell_type": "code",
	   "execution_count": null,
	   "metadata": {
	    "collapsed": true
	   },
	   "outputs": [],
"source": [
"//example 3.9\n",
"\n",
"clear;\n",
"clc;\n",
"\n",
"disp('The standard heat of combustion of');\n",
"disp('2C6H6(l)+ 15O2(g)-> 12 CO2(g)+ 6 H2O(l)');\n",
"disp('H1(standard heat of combustion)=-6536 KJ/mol');\n",
"//Given:\n",
"H1=-6536;//standard heat of combustion [KJ/mol]\n",
"\n",
"//to find the standard heat of rxn for combustion of 1 mole of C6H6\n",
"disp('C6H6(l)+ 7.5 O2(g)-> 6 CO2(g)+ 6 H2O(l)');\n",
"H2=H1/2;//standard heat of combustion[KJ/mol]\n",
"printf(' H2(standard heat of combustion for 1 mole of C6H6)= %f KJ/mol',H2);"
   ]
   }
],
"metadata": {
		  "kernelspec": {
		   "display_name": "Scilab",
		   "language": "scilab",
		   "name": "scilab"
		  },
		  "language_info": {
		   "file_extension": ".sce",
		   "help_links": [
			{
			 "text": "MetaKernel Magics",
			 "url": "https://github.com/calysto/metakernel/blob/master/metakernel/magics/README.md"
			}
		   ],
		   "mimetype": "text/x-octave",
		   "name": "scilab",
		   "version": "0.7.1"
		  }
		 },
		 "nbformat": 4,
		 "nbformat_minor": 0
}
