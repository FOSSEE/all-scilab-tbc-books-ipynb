{
"cells": [
 {
		   "cell_type": "markdown",
	   "metadata": {},
	   "source": [
       "# Chapter 4: Defining Thermodynamic State The State Postulate"
	   ]
	},
{
		   "cell_type": "markdown",
		   "metadata": {},
		   "source": [
			"## Example 4.1: numerical.sce"
		   ]
		  },
  {
"cell_type": "code",
	   "execution_count": null,
	   "metadata": {
	    "collapsed": true
	   },
	   "outputs": [],
"source": [
"//example 4.1\n",
"\n",
"clear;\n",
"clc;\n",
"\n",
"//Given:\n",
"M=2.5;//mass of the substance[Kg]\n",
"x=0.6;//mass fraction for vapour phase \n",
"P=7;//pressure [atm]\n",
"T=438;//temperature[K]\n",
"\n",
"//to find the mass of substance present in liquid and vapour phase \n",
"Ml=(1-x)*M;//mass fraction of liquid phase[Kg]\n",
"Mg=x*M;//mass fraction of vapour phase[Kg]\n",
"\n",
"printf('M(liquid phase)=%f Kg , M(vapour phase)=%f Kg',Ml,Mg)"
   ]
   }
,
{
		   "cell_type": "markdown",
		   "metadata": {},
		   "source": [
			"## Example 4.2: numerical.sce"
		   ]
		  },
  {
"cell_type": "code",
	   "execution_count": null,
	   "metadata": {
	    "collapsed": true
	   },
	   "outputs": [],
"source": [
"//example 4.2\n",
"\n",
"clear;\n",
"clc;\n",
"\n",
"//Given:\n",
"Vl=0.0177;//specific volume of saturated liquid[m3/Kg]\n",
"Vg=4.43;//specific volume of saturated vapour[m3/Kg]\n",
"P=7;//pressure[atm]\n",
"T=438;//temperature[K]\n",
"x=0.6;//fraction of vapour phase\n",
"M=2.5;//mass of the substance[Kg]\n",
"\n",
"//to find the total volume occupied by  the mixture \n",
"V=[(1-x)*Vl+x*Vg]*M;//total volume occupied [m3]\n",
"printf('Total volume occupied =%f m3', V)"
   ]
   }
,
{
		   "cell_type": "markdown",
		   "metadata": {},
		   "source": [
			"## Example 4.3: numerical.sce"
		   ]
		  },
  {
"cell_type": "code",
	   "execution_count": null,
	   "metadata": {
	    "collapsed": true
	   },
	   "outputs": [],
"source": [
"//example 4.3\n",
"\n",
"clear;\n",
"clc;\n",
"\n",
"//Given:\n",
"M=2.5;//mass of a substance[Kg]\n",
"x=0.6;//fraction of vapour phase \n",
"Ug=1105;//specific internal energy of saturated vapour[J/Kg]\n",
"Ul=298;//specific internal energy of saturated liquid[J/Kg] \n",
"\n",
"\n",
"//to find the total internal energy of the mixture\n",
"U=M*[(1-x)*Ul+x*Ug];\n",
"printf('The total internal energy of the mixture = %f J', U)\n",
" "
   ]
   }
],
"metadata": {
		  "kernelspec": {
		   "display_name": "Scilab",
		   "language": "scilab",
		   "name": "scilab"
		  },
		  "language_info": {
		   "file_extension": ".sce",
		   "help_links": [
			{
			 "text": "MetaKernel Magics",
			 "url": "https://github.com/calysto/metakernel/blob/master/metakernel/magics/README.md"
			}
		   ],
		   "mimetype": "text/x-octave",
		   "name": "scilab",
		   "version": "0.7.1"
		  }
		 },
		 "nbformat": 4,
		 "nbformat_minor": 0
}
