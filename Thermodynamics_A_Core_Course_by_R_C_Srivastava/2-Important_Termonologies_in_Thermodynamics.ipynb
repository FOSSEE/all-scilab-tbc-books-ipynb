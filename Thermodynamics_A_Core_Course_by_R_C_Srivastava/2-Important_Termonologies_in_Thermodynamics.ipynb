{
"cells": [
 {
		   "cell_type": "markdown",
	   "metadata": {},
	   "source": [
       "# Chapter 2: Important Termonologies in Thermodynamics"
	   ]
	},
{
		   "cell_type": "markdown",
		   "metadata": {},
		   "source": [
			"## Example 2.1: numerical.sce"
		   ]
		  },
  {
"cell_type": "code",
	   "execution_count": null,
	   "metadata": {
	    "collapsed": true
	   },
	   "outputs": [],
"source": [
"//example 2.1\n",
"\n",
"clear;\n",
"clc;\n",
"\n",
"//Given:\n",
"m=25;//weight of water vapour [grams]\n",
"w=18;//molecular weight of water vapour [grams/mol]\n",
"T=9.69;//increase in temperature [K]\n",
"Qp=0.45;//heat supplied at constant pressure[KJ]\n",
"\n",
"\n",
"//To find the molar constant pressure specific heat\n",
"n=m/w;//no. of moles of water vapour\n",
"Cp=Qp/(n*T);//specific heat capacity at constant pressure[KJ]\n",
"printf('The specific heat capacity at constant pressure = %f KJ/K/mol',Cp)"
   ]
   }
,
{
		   "cell_type": "markdown",
		   "metadata": {},
		   "source": [
			"## Example 2.2: numerical.sce"
		   ]
		  },
  {
"cell_type": "code",
	   "execution_count": null,
	   "metadata": {
	    "collapsed": true
	   },
	   "outputs": [],
"source": [
"//example 2.2\n",
"\n",
"clear;\n",
"clc;\n",
"\n",
"//Given:\n",
"m=16;//weight of oxygen [grams]\n",
"w=32;//molecular weight of oxygen [grams/mol]\n",
"T=300;//Temperature during compression [K]\n",
"P1=1;//initial pressure of process [atm]\n",
"P2=100;//final pressure of process[atm]\n",
"R=8.314;//Universal gas constant [J/K/mol]\n",
"\n",
"//To find the minimum work of compression \n",
"n=m/w;//no. of moles of oxygen\n",
"W=-n*R*T*log(P1/P2);\n",
"printf('Mininmum work done to compress oxygen = %f J ' , W )"
   ]
   }
],
"metadata": {
		  "kernelspec": {
		   "display_name": "Scilab",
		   "language": "scilab",
		   "name": "scilab"
		  },
		  "language_info": {
		   "file_extension": ".sce",
		   "help_links": [
			{
			 "text": "MetaKernel Magics",
			 "url": "https://github.com/calysto/metakernel/blob/master/metakernel/magics/README.md"
			}
		   ],
		   "mimetype": "text/x-octave",
		   "name": "scilab",
		   "version": "0.7.1"
		  }
		 },
		 "nbformat": 4,
		 "nbformat_minor": 0
}
