{
"cells": [
 {
		   "cell_type": "markdown",
	   "metadata": {},
	   "source": [
       "# Chapter 5: The Second Law of Thermodynamics"
	   ]
	},
{
		   "cell_type": "markdown",
		   "metadata": {},
		   "source": [
			"## Example 5.10: numerical.sce"
		   ]
		  },
  {
"cell_type": "code",
	   "execution_count": null,
	   "metadata": {
	    "collapsed": true
	   },
	   "outputs": [],
"source": [
"//example 5.10\n",
"\n",
"clear;\n",
"clc;\n",
"\n",
"//Given:\n",
"mass=32;//weight of methane gas[gm]\n",
"P1=6*10^5;//Initial temperature[N/m2]\n",
"P2=3*10^5;//Final pressure[N/m2]\n",
"mol.wt=16;//molecular weight of methane gas[g/mol]\n",
"T=298;//Temperature[K]\n",
"//Isothermal process\n",
"R=8.314;//Universal gas constant[J/K/mol]\n",
"\n",
"//To find the change in entropy of the gas\n",
"n=mass/mol.wt;//no. of moles\n",
"S=n*R*log(P1/P2);//change in entropy of gas[J/K]\n",
"printf('The change in entropy of the gas is %f J/K',S);"
   ]
   }
,
{
		   "cell_type": "markdown",
		   "metadata": {},
		   "source": [
			"## Example 5.11: numerical.sce"
		   ]
		  },
  {
"cell_type": "code",
	   "execution_count": null,
	   "metadata": {
	    "collapsed": true
	   },
	   "outputs": [],
"source": [
"//example 5.11\n",
"\n",
"clear;\n",
"clc;\n",
"\n",
"//Given:\n",
"N=3;//Total no. of balls\n",
"Nb=2;//Black balls\n",
"Nw=1;//white ball\n",
"\n",
"//To find the total no. possible configuration\n",
"w=prod(1:N)/prod(1:Nb)/prod(1:Nw);\n",
"\n",
"printf('The total no. of possible configurations are %f ',w);\n",
"\n",
"\n",
"\n",
"\n",
"\n",
"\n",
"\n",
""
   ]
   }
,
{
		   "cell_type": "markdown",
		   "metadata": {},
		   "source": [
			"## Example 5.12: numerical.sce"
		   ]
		  },
  {
"cell_type": "code",
	   "execution_count": null,
	   "metadata": {
	    "collapsed": true
	   },
	   "outputs": [],
"source": [
"//example 5.12\n",
"\n",
"clear;\n",
"clc;\n",
"\n",
"//Given:\n",
"n=1;//no. of moles\n",
"T=273;//temperature [K]\n",
"Hf=6000;//enthalpy of fusion at 273K [J/mol]\n",
"k=1.38*(10^-23);//boltzmann constant[J/K]\n",
"\n",
"//To find the relative number of distinguishable quantum states in 1 mole of water and ice at 273K \n",
"\n",
"p=Hf/(k*T)/2.303;\n",
"w=10^(p);//w is the relative no. of distinguishable quantum states\n",
"printf('The relative no. of distinguishable quantum states in 1 mole of water and ice at 273K is %f',w);\n",
"\n",
"\n",
""
   ]
   }
,
{
		   "cell_type": "markdown",
		   "metadata": {},
		   "source": [
			"## Example 5.13: numerical.sce"
		   ]
		  },
  {
"cell_type": "code",
	   "execution_count": null,
	   "metadata": {
	    "collapsed": true
	   },
	   "outputs": [],
"source": [
"//example 5.13\n",
"\n",
"clear;\n",
"clc;\n",
"\n",
"//Given:\n",
"T=300;//temperature[K]\n",
"n=4;//no. of moles of an ideal gas\n",
"P1=2.02*10^5;//initial pressure[N/m2]\n",
"P2=4.04*10^5;//final pressure[N/m2]\n",
"R=8.314;//Universal gas constant[J/K/mol]\n",
"\n",
"//To find the value of Gibb's free energy\n",
"G=n*R*T*log(P2/P1);//[J]\n",
"printf(' The change in Gibbs free energy is %f J',G);"
   ]
   }
,
{
		   "cell_type": "markdown",
		   "metadata": {},
		   "source": [
			"## Example 5.14: numerical.sce"
		   ]
		  },
  {
"cell_type": "code",
	   "execution_count": null,
	   "metadata": {
	    "collapsed": true
	   },
	   "outputs": [],
"source": [
"//example 5.14\n",
"\n",
"clear;\n",
"clc;\n",
"\n",
"//Given:\n",
"n=1;//no. of moles\n",
"T=300;//temperature[K]\n",
"V1=2;//initial volume[m3]\n",
"V2=20;//final volume[m3]\n",
"R=8.314;//Universal gas constant[J/K/mol]\n",
"\n",
"\n",
"//To find the work function or Helmholts free energy\n",
"A=-n*R*T*log(V2/V1);//Change in work function[J/mol]\n",
"printf('The change in Helmholts free energy is %f J/mol',A);"
   ]
   }
,
{
		   "cell_type": "markdown",
		   "metadata": {},
		   "source": [
			"## Example 5.15: numerical.sce"
		   ]
		  },
  {
"cell_type": "code",
	   "execution_count": null,
	   "metadata": {
	    "collapsed": true
	   },
	   "outputs": [],
"source": [
"//example 5.15\n",
"\n",
"clear;\n",
"clc;\n",
"\n",
"disp('C6H12O6(s) + 6O2(g) --> 6CO2(g) + 6H2O(l)');\n",
"//Given:\n",
"T=298;//Temperature[k]\n",
"R=8.314;//Universal gas constant[J/K/mol]\n",
"S=182.45;//standard entropy change at 298K [J/K]\n",
"U=-2808;//change in internal energy at 298K[KJ/mol]\n",
"//reaction is taking place in bomb calorimeter so no volume change \n",
"//therefore U=Q at constant volume\n",
"\n",
"//To find the energy change that can be extracted as heat and work \n",
"A=U-T*S*0.001;//Energy extracted as heat[KJ/mol]\n",
"Wmax=A;//work done [KJ/mol]\n",
"dn=6-6;//change in no. of moles\n",
"H=U+dn*R*T;//Change in enthalpy of the bomb calorimeter[KJ]\n",
"printf('The energy change that can be extracted as heat is %f KJ/mol', A);\n",
"printf('\nThe energy change that can be extracted as work is %f KJ/mol', -A);\n",
"printf('\nThe change in enthalpy of bomb calorimeter is %f KJ/mol',H);\n",
""
   ]
   }
,
{
		   "cell_type": "markdown",
		   "metadata": {},
		   "source": [
			"## Example 5.16: numerical.sce"
		   ]
		  },
  {
"cell_type": "code",
	   "execution_count": null,
	   "metadata": {
	    "collapsed": true
	   },
	   "outputs": [],
"source": [
"//example 5.16\n",
"\n",
"clear;\n",
"clc;\n",
"\n",
"disp('C8H18(g)+12.5O2(g)-->8CO2(g)+9H2O(l)');\n",
"//Given:\n",
"T=298;//temperature[K]\n",
"S=421.5;//change in entropy[J/K]\n",
"H=-5109000;//Heat of reaction[J]\n",
"R=8.314;//Universal gas constant[J/K/mol]\n",
"dn=8-(1+12.5);//change in no. of moles\n",
"\n",
"\n",
"//To find the helmholts free energy and Gibbs free energy\n",
"U=H;//[J]\n",
"A=U-T*S;//Change in helmholts free energy[J]\n",
"G=A+dn*R*T;//Change in Gibbs free energy[J]\n",
"printf('The change in Helmholts free energy is %f J',A);\n",
"printf('\nThe change in Gibbs free energy is %f J',G);"
   ]
   }
,
{
		   "cell_type": "markdown",
		   "metadata": {},
		   "source": [
			"## Example 5.17: numerical.sce"
		   ]
		  },
  {
"cell_type": "code",
	   "execution_count": null,
	   "metadata": {
	    "collapsed": true
	   },
	   "outputs": [],
"source": [
"//example 5.17\n",
"\n",
"clear;\n",
"clc;\n",
"\n",
"disp('C3H6(g)+4.5O2(g)-->3CO2(g)+3H2O(l)');\n",
"//Given:\n",
"S=-339.23;//standard change in entropy [J/K]\n",
"T=298;//temperature[K]\n",
"Hf1=20.42;//enthalpy of formation of C3H6(g)[J]\n",
"Hf2=-393.51;//enthalpy of formation of CO2(g)[J]\n",
"Hf3=-285.83;//enthalpy of formation of H2O(l)[J]\n",
"dn=3-4.5-1;//change in no. of moles\n",
"R=8.314;//Universal gas constant[J/K/mol]\n",
"\n",
"//To find the Helmholts free energy and Gibbs free energy\n",
"H=3*Hf2+3*Hf3-Hf1;//Enthalpy of the reaction[J]\n",
"U=H-dn*R*0.001*T;//Change in internal energy of the reaction[J]\n",
"A=U-T*S*0.001;//Helmholts free energy change[J]\n",
"G=A+dn*R*0.001*T;//Gibbs free energy change[J]\n",
"printf('The change in Helmholts free energy is %f J',A);\n",
"printf('\nThe change in Gibbs free energy is %f J ',G);\n",
"\n",
"\n",
"\n",
"\n",
"\n",
""
   ]
   }
,
{
		   "cell_type": "markdown",
		   "metadata": {},
		   "source": [
			"## Example 5.19: numerical.sce"
		   ]
		  },
  {
"cell_type": "code",
	   "execution_count": null,
	   "metadata": {
	    "collapsed": true
	   },
	   "outputs": [],
"source": [
"//example 5.19\n",
"\n",
"clear;\n",
"clc;\n",
"\n",
"disp('CH4(g)+2O2(g)-->CO2(g)+2H2O(l)');\n",
"\n",
"//Given:\n",
"S1=-242.98;//standard entropy change for the combustion reaction[J/K]\n",
"Hf1=-74.81;//Enthalpy of formation of CH4(g)[KJ/mol]\n",
"Hf2=-393.51;//Enthalpy of formation of CO2(g)[KJ/mol]\n",
"Hf3=-285.83;//Enthalpy of formation of H2O(l)[KJ/mol]\n",
"T=298;//temperature[K]\n",
"\n",
"//To find the total entropy change \n",
"H=Hf2+2*Hf3-Hf1;//Change in enthalpy of reaction[KJ]\n",
"S2=-H*1000/T;//Change in entropy of the surrounding[J/K]\n",
"Stotal=(S1+S2)*0.001;//Total entropy change \n",
"printf('The total change in entropy is %f KJ/K',Stotal);"
   ]
   }
,
{
		   "cell_type": "markdown",
		   "metadata": {},
		   "source": [
			"## Example 5.1: numerical.sce"
		   ]
		  },
  {
"cell_type": "code",
	   "execution_count": null,
	   "metadata": {
	    "collapsed": true
	   },
	   "outputs": [],
"source": [
"//example 5.1\n",
"\n",
"clear;\n",
"clc;\n",
"\n",
"//given:\n",
"T1=373;//initial temperature [K]\n",
"T2=573;//final temperature [K]\n",
"Q2=750;//Heat absorbed by carnot engine[J]\n",
"\n",
"//to find the workdone , heat rejected , and efficiency of the engine\n",
"e=(T2-T1)/T2;//efficiency of the engine\n",
"W=e*Q2;//Workdone by the engine[J]\n",
"Q1=T1*Q2/T2;//Heat rejected by the engine[J]\n",
"\n",
"printf('Efficiency of the engine = %f ', e);\n",
"printf('\n Workdone by the engine = %f J', W);\n",
"printf('\n Heat rejected by the engine = %f J', Q1);"
   ]
   }
,
{
		   "cell_type": "markdown",
		   "metadata": {},
		   "source": [
			"## Example 5.20: numerical.sce"
		   ]
		  },
  {
"cell_type": "code",
	   "execution_count": null,
	   "metadata": {
	    "collapsed": true
	   },
	   "outputs": [],
"source": [
"//example 5.20\n",
"\n",
"clear;\n",
"clc;\n",
"\n",
"disp('2H2(g)+O2(g)-->2H2O(l)');\n",
"//Given:\n",
"Hf1=-285.83;//standard enthalpy of formation of H2O(l)[KJ/mol]\n",
"S=-327;//Standard entropy change for the same reaction[J/K]\n",
"T=298;//temperature[K]\n",
"\n",
"\n",
"//To find the spontanity of the reaction\n",
"H=2*Hf1-0-0;//Enthalpy of the reaction[KJ/mol]\n",
"G=H-T*S*0.001;//Change in Gibbs free energy[KJ]\n",
"printf('The change in Gibbs free energy is %f KJ\n ',G);\n",
"disp('As change in Gibbs free energy is negative.Therefore,the reaction is spontaneous')"
   ]
   }
,
{
		   "cell_type": "markdown",
		   "metadata": {},
		   "source": [
			"## Example 5.21: numerical.sce"
		   ]
		  },
  {
"cell_type": "code",
	   "execution_count": null,
	   "metadata": {
	    "collapsed": true
	   },
	   "outputs": [],
"source": [
"//example 5.21\n",
"\n",
"clear;\n",
"clc;\n",
"\n",
"disp('CH4(g)+2O2(g)-->CO2(g)+2H2O(l)');\n",
"//Given:\n",
"S=-242.98;//standard entropy change for reaction [J/K]\n",
"T=298;//temperature[K]\n",
"Gf1=-50.72;//standard Gibbs free energy of formation for CH4(g)[KJ/mol]\n",
"Gf2=-394.36;//standard Gibbs free energy of formation for CO2(g)[KJ/mol]\n",
"Gf3=-237.13;//standard Gibbs free energy of formation for H2O(l)[KJ/mol]\n",
"\n",
"\n",
"//To find the standard enthalpy of reaction \n",
"G=Gf2+2*Gf3-Gf1;//Standard Gibbs free energy for reaction[KJ/mol]\n",
"H=G+T*S*0.001;//Standard enthalpy of reaction [KJ]\n",
"printf('The standard enthalpy of reaction is %f KJ',H);\n",
"\n",
"\n",
"\n",
"\n",
"\n",
""
   ]
   }
,
{
		   "cell_type": "markdown",
		   "metadata": {},
		   "source": [
			"## Example 5.22: numerical.sce"
		   ]
		  },
  {
"cell_type": "code",
	   "execution_count": null,
	   "metadata": {
	    "collapsed": true
	   },
	   "outputs": [],
"source": [
"//example 5.22\n",
"\n",
"clear;\n",
"clc;\n",
"\n",
"disp('C6H12O6(s)+6O2(g)-->6CO2(g)+6H2O(l)');\n",
"//Given:\n",
"mass=25;//mass of glucose for combustion under standard condition[gm]\n",
"T=298;//temperature[K]\n",
"Gf1=-910;//Standard Gibbs free energy of formation for C6H12O6[KJ/mol]\n",
"Gf2=-394.4;//Standard Gibbs free energy of formation for CO2(g)[KJ/mol]\n",
"Gf3=-237.13;//Standard Gibbs free energy of formation for H2O(l)[KJ/mol]\n",
"mol.wt=180;//molecular weight of glucose[gm/mol]\n",
"\n",
"//To find the maximum energy that can be extracted as non-expansion work is equal to the change in free energy of the system\n",
"G=6*Gf2+6*Gf3-Gf1\n",
"n=mass/mol.wt;//no. of moles\n",
"Gactual=G*n;//Gibbs free energy for the combustion of 0.139mol of glucose \n",
"printf('The energy that can be extracted as non-expansion work is %f KJ',-Gactual);"
   ]
   }
,
{
		   "cell_type": "markdown",
		   "metadata": {},
		   "source": [
			"## Example 5.23: numerical.sce"
		   ]
		  },
  {
"cell_type": "code",
	   "execution_count": null,
	   "metadata": {
	    "collapsed": true
	   },
	   "outputs": [],
"source": [
"//example 5.23\n",
"\n",
"clear;\n",
"clc;\n",
"\n",
"//Given:\n",
"a=1.39*10^-2;//constant for a vanderwaal's gas[lit2.atm/mol2]\n",
"b=3.92*10^-2;//constant for a vanderwaal's gas[lit2.atm/mol2]\n",
"R=0.082;//Universal gas constant[lit.atm/deg/mol]\n",
"\n",
"//To find the value of the inversion temperature for the gas\n",
"Ti=(2*a)/(R*b);//inversion temperature [K]\n",
"printf('The inversion temperature for the gas is %f K',Ti);"
   ]
   }
,
{
		   "cell_type": "markdown",
		   "metadata": {},
		   "source": [
			"## Example 5.26: numerical.sce"
		   ]
		  },
  {
"cell_type": "code",
	   "execution_count": null,
	   "metadata": {
	    "collapsed": true
	   },
	   "outputs": [],
"source": [
"//example 5.26\n",
"\n",
"\n",
"clear;\n",
"clc;\n",
"\n",
"//Given:\n",
"T=169.25;//Boiling point[K]\n",
"R=8.314;//Universal gas constant[J/K/mol]\n",
"disp('dlnP/dT=He/R*T^2');\n",
"disp('dlnP/dT=(2.303*834.13/T^2)+(1.75/T)-(2.30*8.375*10^-3)');\n",
"disp('Therefore using these two equations we calculate the He(enthalpy) of ethylene');\n",
"\n",
"//To find the Enthalpy of vaporization of ethylene\n",
"x=(2.303*834.13/T^2)+(1.75/T)-(2.30*8.375*10^-3);//it is dlnP/dT\n",
"He=R*0.001*T^2*x;//Enthalpy of vaporization[J/mol]\n",
"printf('\n\nThe Enthalpy of vaporization of ethylene at its boiling point is %f KJ/mol',He);\n",
"\n",
"\n",
"\n",
"\n",
""
   ]
   }
,
{
		   "cell_type": "markdown",
		   "metadata": {},
		   "source": [
			"## Example 5.27: numerical.sce"
		   ]
		  },
  {
"cell_type": "code",
	   "execution_count": null,
	   "metadata": {
	    "collapsed": true
	   },
	   "outputs": [],
"source": [
"//example 5.27\n",
"\n",
"clear;\n",
"clc;\n",
"\n",
"//Given:\n",
"P1=101.3;//Initial Pressure[KPa]\n",
"P2=60;//Final Pressure[KPa]\n",
"He=31.8;//Enthalpy of vaporization[KJ/mol]\n",
"R=8.314;//Universal gas constant[J/K/mol]\n",
"T1=353.2;//boiling point of benzene at 101.3KPa[K]\n",
"\n",
"//To find the boiling point of b/enzene at 60KPa\n",
"x=(T1^-1)-(R*0.001*log(P2/P1)/He);\n",
"T2=x^-1;//Boiling point of benzene at 60KPa\n",
"printf('The boiling point of benzene at 60KPa is %f K',T2);"
   ]
   }
,
{
		   "cell_type": "markdown",
		   "metadata": {},
		   "source": [
			"## Example 5.28: numerical.sce"
		   ]
		  },
  {
"cell_type": "code",
	   "execution_count": null,
	   "metadata": {
	    "collapsed": true
	   },
	   "outputs": [],
"source": [
"//example 5.28\n",
"\n",
"clear;\n",
"clc;\n",
"\n",
"//Given:\n",
"P1=0.016;//Vapour pressure of pure ethanol at 273K[bar]\n",
"P2=0.470;//Vapour pressure of pure ethanol at 333K[bar]\n",
"T1=273;//initial temperature [K]\n",
"T2=333;//final temperature[K]\n",
"R=8.314;//Universal gas constant[J/K/mol]\n",
"P=1.01;//vapour pressure at normal boiling point[bar]\n",
"\n",
"\n",
"//To find the molar enthalpy of vapourization\n",
"x=(T2^-1)-(T1^-1);\n",
"He=-R*0.001*log(P2/P1)/x;//molar enthalpy of vaporization[J/mol]\n",
"t=(T2^-1)-(R*0.001*log(P/P2)/He);\n",
"T=(t^-1)-273;//normal boiling point [C]\n",
"printf('The molar enthalpy of vapourization is %f J/mol',He);\n",
"printf('\n\nThe normal boiling point for pure ethanol is %f C',T);"
   ]
   }
,
{
		   "cell_type": "markdown",
		   "metadata": {},
		   "source": [
			"## Example 5.29: numerical.sce"
		   ]
		  },
  {
"cell_type": "code",
	   "execution_count": null,
	   "metadata": {
	    "collapsed": true
	   },
	   "outputs": [],
"source": [
"//example 5.29\n",
"\n",
"clear;\n",
"clc;\n",
"\n",
"//Given:\n",
"T2=353.2;//normal boiling point of benzene at 1.01325bar[K]\n",
"T1=298;//temperature [K]\n",
"R=8.314;//Universal gas constant[J/K/mol]\n",
"P2=1.01325;//Vapour pressure of benzene[bar]\n",
"//benzene obey's Trouton's rule\n",
"disp(' from Troutons rule , ');\n",
"disp(' He/Tb=85J/K/mol');\n",
"\n",
"//To find the vapour pressure of benzene at 298K\n",
"He=85*T2;//molar enthalpy of vapourization[J/K/mol]\n",
"x=(T2^-1)-(T1^-1);\n",
"t=-He*x/R;\n",
"P1=P2/exp(t);\n",
"printf('\nThe vapour pressure of benzene at 298K is %f bar',P1);"
   ]
   }
,
{
		   "cell_type": "markdown",
		   "metadata": {},
		   "source": [
			"## Example 5.2: numerical.sce"
		   ]
		  },
  {
"cell_type": "code",
	   "execution_count": null,
	   "metadata": {
	    "collapsed": true
	   },
	   "outputs": [],
"source": [
"//example 5.2\n",
"\n",
"clear;\n",
"clc;\n",
"\n",
"//given:\n",
"T1=250;//temperature of heat rejection[K]\n",
"T2=1000;//temperature of heat absorption[K]\n",
"\n",
"//to analyse the efficiency of the engine \n",
"e=1-(T1/T2);\n",
"printf('Efficiency of the corresponding carnot engine = %f\n',e);\n",
"disp(' Therefore , the inventors claim of 80% efficiency is absurd.The patent application should be rejected');"
   ]
   }
,
{
		   "cell_type": "markdown",
		   "metadata": {},
		   "source": [
			"## Example 5.30: numerical.sce"
		   ]
		  },
  {
"cell_type": "code",
	   "execution_count": null,
	   "metadata": {
	    "collapsed": true
	   },
	   "outputs": [],
"source": [
"//example 5.30\n",
"\n",
"clear;\n",
"clc;\n",
"\n",
"//Given:\n",
"c=1;//no. of components(only CO2)\n",
"p=2;//no. of phases(liquid + gas)\n",
"\n",
"//To find the degrees of freedom \n",
"F=c-p+2;//degree of freedom\n",
"printf('Degrees of freedom is %f \n\n',F);\n",
"disp('Degrees of freedom 1 means that either pressure or temperature can be varied independently,i.e.when temperature is fixed,pressure is automatically fixed');"
   ]
   }
,
{
		   "cell_type": "markdown",
		   "metadata": {},
		   "source": [
			"## Example 5.31: numerical.sce"
		   ]
		  },
  {
"cell_type": "code",
	   "execution_count": null,
	   "metadata": {
	    "collapsed": true
	   },
	   "outputs": [],
"source": [
"//example 5.31\n",
"\n",
"clear;\n",
"clc;\n",
"\n",
"//Given:\n",
"c=1;//no. of components\n",
"p=1;//no. of phases\n",
"\n",
"//To find the values of degrees of freedom\n",
"F=c-p+2;//Degrees of freedom\n",
"printf('Degrees of freedom is %f\n\n',F);\n",
"disp('Degrees of freedom 2 means both the pressure and temperature can be varied independently');\n",
"\n",
"\n",
""
   ]
   }
,
{
		   "cell_type": "markdown",
		   "metadata": {},
		   "source": [
			"## Example 5.32: numerical.sce"
		   ]
		  },
  {
"cell_type": "code",
	   "execution_count": null,
	   "metadata": {
	    "collapsed": true
	   },
	   "outputs": [],
"source": [
"//example 5.32\n",
"\n",
"clear;\n",
"clc;\n",
"\n",
"//Given:\n",
"P=1.75*10^-5;//Vapour pressure of pure water at 293K[torr]\n",
"dP=1.1*10^-7;//Lowering in vapour pressure of water\n",
"//To find the mole fraction of sucrose,so that the vapour pressure of water will be lowered by dP\n",
"x=dP/P;//mole fraction of sucrose\n",
"disp(x,'The mole fraction of sucrose is ');\n",
"\n",
"\n",
""
   ]
   }
,
{
		   "cell_type": "markdown",
		   "metadata": {},
		   "source": [
			"## Example 5.33: numerical.sce"
		   ]
		  },
  {
"cell_type": "code",
	   "execution_count": null,
	   "metadata": {
	    "collapsed": true
	   },
	   "outputs": [],
"source": [
"//example 5.33\n",
"\n",
"clear;\n",
"clc;\n",
"\n",
"//Given:\n",
"P=94.6;//The vapour pressure of pure benzene at 298K[torr]\n",
"n1=20;//no. of moles of pure benzene\n",
"n2=5;//no. of moles of pure naphthalene\n",
"\n",
"//To find the partial vapour pressure of benzene over the solution\n",
"x=n1/(n1+n2);//(mole fraction of benzene)\n",
"p=x*P;//the partial vapour pressure of benzene[torr]\n",
"printf('The partial vapour pressure of benzene is %f torr',p);"
   ]
   }
,
{
		   "cell_type": "markdown",
		   "metadata": {},
		   "source": [
			"## Example 5.34: numerical.sce"
		   ]
		  },
  {
"cell_type": "code",
	   "execution_count": null,
	   "metadata": {
	    "collapsed": true
	   },
	   "outputs": [],
"source": [
"//example 5.34\n",
"\n",
"clear;\n",
"clc;\n",
"\n",
"//Given:\n",
"x=0.28;//mole fraction of solute\n",
"R=8.314;//Universal gas constant[J/K/mol]\n",
"T=298;//temperature[K]\n",
"\n",
"//To find the reduction in chemical potential\n",
"du=R*T*log(1-x);//reduction in chemical potential[J/mol]\n",
"printf('The reduction in chemical potential is %f J/mol',-du);\n",
"\n",
"\n",
"\n",
"\n",
""
   ]
   }
,
{
		   "cell_type": "markdown",
		   "metadata": {},
		   "source": [
			"## Example 5.35: numerical.sce"
		   ]
		  },
  {
"cell_type": "code",
	   "execution_count": null,
	   "metadata": {
	    "collapsed": true
	   },
	   "outputs": [],
"source": [
"//example 5.35\n",
"\n",
"clear;\n",
"clc;\n",
"\n",
"//Given:\n",
"Kb=0.51;//ebullioscopic constant of water [K*Kg/mol]\n",
"n=155/180;//no. of moles of glucose\n",
"m=n/1;//[mol/Kg]\n",
"Ti=373;//Boiling point temperature of water[K]\n",
"\n",
"//To find the boiling point of the solution which is made by dissolving 155g of glucose in 1000g of water\n",
"Tf=(Ti+Kb*m)-273;//boiling point temperature of the solution[C]\n",
"printf('The boiling point of the solution is %f C',Tf);\n",
"\n",
"\n",
""
   ]
   }
,
{
		   "cell_type": "markdown",
		   "metadata": {},
		   "source": [
			"## Example 5.36: numerical.sce"
		   ]
		  },
  {
"cell_type": "code",
	   "execution_count": null,
	   "metadata": {
	    "collapsed": true
	   },
	   "outputs": [],
"source": [
"//example 5.36\n",
"\n",
"clear;\n",
"clc;\n",
"\n",
"//Given:\n",
"Ti=5.44;//freezing point of pure benzene[K]\n",
"Tf=4.63;//freezing point of solution[K]\n",
"m1=2.12;//mass of the solute[gm]\n",
"m2=125;//mass of the benzene[gm]\n",
"Kf=5.12;//cryoscopic constant of pure benzene[K*Kg/mol]\n",
"\n",
"//To find the molar mass of solute(M2)\n",
"dTf=Ti-Tf;//depression in freezing point[K]\n",
"M2=(m1*1000*Kf)/(m2*dTf);//molar mass of solute\n",
"printf('The molar mass of solute is %f',M2);\n",
"\n",
"\n",
""
   ]
   }
,
{
		   "cell_type": "markdown",
		   "metadata": {},
		   "source": [
			"## Example 5.38: numerical.sce"
		   ]
		  },
  {
"cell_type": "code",
	   "execution_count": null,
	   "metadata": {
	    "collapsed": true
	   },
	   "outputs": [],
"source": [
"//example 5.38\n",
"\n",
"clear;\n",
"clc;\n",
"\n",
"disp('N2(g)+3H2(g)<=>2NH3(g)');\n",
"//Given:\n",
"T=298;//Temperature[K]\n",
"Gf1=-16450;//Gibb's free energy of formation for NH3(g)[J/mol]\n",
"R=8.314;//Universal gas constant[J/K/mol]\n",
"\n",
"//To find the Kp value of the above reaction\n",
"Gf=2*Gf1//Gibb's free energy for the reaction[KJ]\n",
"x=Gf/R/T\n",
"Kp=exp(-x);\n",
"disp(Kp,'The Kp for above reaction is ');"
   ]
   }
,
{
		   "cell_type": "markdown",
		   "metadata": {},
		   "source": [
			"## Example 5.39: numerical.sce"
		   ]
		  },
  {
"cell_type": "code",
	   "execution_count": null,
	   "metadata": {
	    "collapsed": true
	   },
	   "outputs": [],
"source": [
"//example 5.39\n",
"\n",
"clear;\n",
"clc;\n",
"\n",
"disp('0.5N2(g)+1.5H2(g)<=>NH3(g)');\n",
"//Given:\n",
"T=298;//Temperature[K]\n",
"Kp=900;//Equilibrium constant for above reaction\n",
"P1=0.32;//partial pressure of N2(g)[bar]\n",
"P2=0.73;//partial pressure of H2(g)[bar]\n",
"P3=0.98;//partial pressure of NH3(g)[bar]\n",
"R=8.314;//Universal gas constant[J/K/mol]\n",
"\n",
"//To find the reaction Gibb's energy\n",
"G=-R*T*log(Kp);\n",
"x=(P1^0.5)*(P2^1.5);\n",
"p=P3/x;\n",
"Gr=(G+R*T*log(p))*0.001;\n",
"printf('The reaction Gibbs free energy is %f KJ/mol ',Gr);"
   ]
   }
,
{
		   "cell_type": "markdown",
		   "metadata": {},
		   "source": [
			"## Example 5.3: numerical.sce"
		   ]
		  },
  {
"cell_type": "code",
	   "execution_count": null,
	   "metadata": {
	    "collapsed": true
	   },
	   "outputs": [],
"source": [
"//example 5.3\n",
"\n",
"clear;\n",
"clc;\n",
"\n",
"//Given:\n",
"T1=323;//temperature [K]\n",
"T2=423;//temperature [K]\n",
"W=1.3;//work [KJ]\n",
"\n",
"\n",
"//To find the minimum heat required from heat source to yield the above work\n",
"e=(T2-T1)/T2;//efficiency\n",
"Q2=W/e;//minimum heat withdrawal from heat source[KJ]\n",
"printf('Minimum heat withdrawal from heat source=%f KJ',Q2);"
   ]
   }
,
{
		   "cell_type": "markdown",
		   "metadata": {},
		   "source": [
			"## Example 5.40: numerical.sce"
		   ]
		  },
  {
"cell_type": "code",
	   "execution_count": null,
	   "metadata": {
	    "collapsed": true
	   },
	   "outputs": [],
"source": [
"//example 5.40\n",
"\n",
"clear;\n",
"clc;\n",
"\n",
"disp('N2(g)+3H2(g)<=>2NH3(g)');\n",
"\n",
"//Given:\n",
"Kp1=5.85*10^5;//equilibrium constant at 298K\n",
"H1=-46.11;//standard enthalpy of formation of NH3(g)[KJ/mol]\n",
"T1=298;//Initial temperature[K]\n",
"T2=423;//Final temperature[K]\n",
"R=8.314;//Universal gas constant[J/K/mol]\n",
"\n",
"//To find the Kp at 423K temperature\n",
"H=2*H1;//enthalpy for reaction;[KJ]\n",
"t=(T1^-1)-(T2^-1);\n",
"x=-H*t/(R*0.001);\n",
"Kp2=Kp1*exp(x);\n",
"disp(Kp2,'The Equilibrium constant for reaction  at 423K is ');\n",
"\n",
"\n",
"\n",
"\n",
"\n",
"\n",
"\n",
""
   ]
   }
,
{
		   "cell_type": "markdown",
		   "metadata": {},
		   "source": [
			"## Example 5.41: numerical.sce"
		   ]
		  },
  {
"cell_type": "code",
	   "execution_count": null,
	   "metadata": {
	    "collapsed": true
	   },
	   "outputs": [],
"source": [
"//example 5.41\n",
"\n",
"clear;\n",
"clc;\n",
"\n",
"\n",
"disp('Zn(s)|ZnCl2(aq)||CdSO4(aq)|Cd(s)');\n",
"//For Zn(s)|ZnCl2(aq)||CdSO4(aq)|Cd(s)\n",
"//Given:\n",
"T=298;//Temperature[K]\n",
"R=8.314;//Universal gas constant[J/K/mol]\n",
"E1=-0.7618;//Standard electrode potential for Zn2+/Zn [volts]\n",
"E2=-0.403;//Standard electrode potential for Cd2+/Cd [volts]\n",
"F=96500;//Faraday's constant[coulomb/mol]\n",
"n=2;//no. of electrons balancing\n",
"//To find the Standard Free energy and equilibrium constant \n",
"Ei=E2-E1;//Standard potential for the reaction[volts]\n",
"Gi=-n*F*Ei;//Standard Gibb's Free Energy [KJ/mol] \n",
"Ki=exp(-Gi/R/T);//Equilibrium constant\n",
"printf('The Free energy for the rection is %f KJ/mol',Gi*0.001);\n",
"disp(Ki,'The value of equilibrium constant is ');\n",
"\n",
"\n",
"disp('Cd(s)|CdSO4(aq),Hg2SO4(s)|Hg(l)');\n",
"//For Cd(s)|CdSO4(aq),Hg2SO4(s)|Hg(l)\n",
"//Given:\n",
"E3=0.6141;//Standard electrode potential for Hg2SO4(s),SO4^2-/Hg(l) [volts]\n",
"//To find the standard free energy and equilibrium constant\n",
"Eii=E3-E2;//Standard potantial for the reaction[volts]\n",
"Gii=-n*F*Eii;//Standard Gibb's free energy[KJ/mol]\n",
"Kii=exp(-Gii/R/T);//Equilibrium constant\n",
"printf('The Free energy for the rection is %f KJ/mol',Gii*0.001);\n",
"disp(Kii,'The value of equilibrium constant is');\n",
""
   ]
   }
,
{
		   "cell_type": "markdown",
		   "metadata": {},
		   "source": [
			"## Example 5.42: numerical.sce"
		   ]
		  },
  {
"cell_type": "code",
	   "execution_count": null,
	   "metadata": {
	    "collapsed": true
	   },
	   "outputs": [],
"source": [
"//example 5.42\n",
"\n",
"clear;\n",
"clc;\n",
"\n",
"//Given:\n",
"disp('Zn(s)|ZnCl2(soln)||AgCl(s)|Ag-Ag|AgCl(s)|ZnCl2(soln)|Zn(s)');\n",
"m1=0.02;//concentration[M]\n",
"Y1=0.65;//mean ionic activity coefficient\n",
"m2=1.5;//concentration[M]\n",
"Y2=0.29;//mean ionic activity coefficient \n",
"R=8.314;//Universal gas constant[J/K/mol]\n",
"T=298;//Temperature [K]\n",
"F=96500;//Faraday's constant[coulomb/mol]\n",
"\n",
"//To find the overall e.m.f of the above cell\n",
"E=R*T*(log(m2*Y2/m1/Y1))*3/2/F;//[volts]\n",
"printf('The overall e.m.f of the cell is %f volts',E);\n",
"\n",
"\n",
"\n",
"\n",
"\n",
"\n",
"\n",
"\n",
"\n",
"\n",
"\n",
"\n",
""
   ]
   }
,
{
		   "cell_type": "markdown",
		   "metadata": {},
		   "source": [
			"## Example 5.43: numerical.sce"
		   ]
		  },
  {
"cell_type": "code",
	   "execution_count": null,
	   "metadata": {
	    "collapsed": true
	   },
	   "outputs": [],
"source": [
"//example 5.43\n",
"\n",
"clear;\n",
"clc;\n",
"\n",
"//Given:\n",
"disp('H2(g,1atm)|HCl(aq)|HCl(aq)|H2(g,1atm)');\n",
"m1=0.02;//concentration[M]\n",
"Y1=0.88;//mean ionic activity coefficient\n",
"m2=1;//concentration[M]\n",
"Y2=0.81;//mean ionic activity coefficient\n",
"R=8.314;//universal gas constant[J/K/mol]\n",
"T=298;//Temperature[K]\n",
"F=96487;//Faraday's constant[coulombs/mol]\n",
"t=0.178;//Tranference number of Cl-1\n",
"\n",
"//To find the e.m.f of the cell\n",
"E=-2*t*R*T*(log(m1*Y1/m2/Y2))/F;//e.m.f of the cell[volts]\n",
"printf('The e.m.f of the cell is %f volts',E);\n",
"\n",
"\n",
"\n",
"\n",
"\n",
"\n",
"\n",
""
   ]
   }
,
{
		   "cell_type": "markdown",
		   "metadata": {},
		   "source": [
			"## Example 5.44: numerical.sce"
		   ]
		  },
  {
"cell_type": "code",
	   "execution_count": null,
	   "metadata": {
	    "collapsed": true
	   },
	   "outputs": [],
"source": [
"//example 5.44\n",
"\n",
"clear;\n",
"clc;\n",
"\n",
"disp('The values for reaction that goes on within the cadmium cell');\n",
"//Given:\n",
"n=2;//no. of moles\n",
"E=1.01463;//standard cadmium cell potential[volts]\n",
"d=-5*10^-5;//i.e d=dE/dT[V/K]\n",
"F=96500;//[coulomb/mol]\n",
"T=298;//Temperature [K]\n",
"\n",
"//To find the values of dG,dS and dH\n",
"dG=-n*E*F;//Change in Gibb's free energy[J]\n",
"dS=n*F*d;//Change in entropy [J/K]\n",
"dH=dG+T*dS;//change in enthalpy[J]\n",
"printf(' dG=%f J',dG);\n",
"printf('\n dS=%f J/K',dS);\n",
"printf('\n dH=%f J',dH);\n",
"\n",
"\n",
"\n",
"\n",
"\n",
"\n",
"\n",
"\n",
""
   ]
   }
,
{
		   "cell_type": "markdown",
		   "metadata": {},
		   "source": [
			"## Example 5.5: numerical.sce"
		   ]
		  },
  {
"cell_type": "code",
	   "execution_count": null,
	   "metadata": {
	    "collapsed": true
	   },
	   "outputs": [],
"source": [
"//example 5.5\n",
"\n",
"clear;\n",
"clc;\n",
"//Given:\n",
"T=298;//Temperature [K]\n",
"n=1;//no. of moles\n",
"V1=500;//initial volume [cm3]\n",
"V2=1000;//final volume [cm3]\n",
"R=8.314;//Universal gas constant [J/mol/K]\n",
"\n",
"//to find the molar entropy change \n",
"S=R*log(V2/V1)//molar entropy change at constant temperature[J/K]\n",
"printf('Molar entropy change of argon = %f J/K', S);"
   ]
   }
,
{
		   "cell_type": "markdown",
		   "metadata": {},
		   "source": [
			"## Example 5.6: numerical.sce"
		   ]
		  },
  {
"cell_type": "code",
	   "execution_count": null,
	   "metadata": {
	    "collapsed": true
	   },
	   "outputs": [],
"source": [
"//example 5.6 \n",
"\n",
"clear;\n",
"clc;\n",
"\n",
"//Given:\n",
"W=1728;//Isothermal and reversible work done[J/mol]\n",
"T=298;//Isothermal temperature[K]\n",
"\n",
"//to find the change in molar entropy when the gas expands isothermally and reversibly\n",
"\n",
"S=W/T;//change in molar entropy for isothermal and reversible process\n",
"printf('The change in molar entropy = %f J/mol/K', S );"
   ]
   }
,
{
		   "cell_type": "markdown",
		   "metadata": {},
		   "source": [
			"## Example 5.7: numerical.sce"
		   ]
		  },
  {
"cell_type": "code",
	   "execution_count": null,
	   "metadata": {
	    "collapsed": true
	   },
	   "outputs": [],
"source": [
"//example 5.7\n",
"\n",
"clear;\n",
"clc;\n",
"\n",
"//Given:\n",
"H=-92.22;//Standard reaction enthalpy[KJ]\n",
"T=298;//Temperature [K]\n",
"\n",
"\n",
"//To find the change in entropy of the surroundings at 298K\n",
"//standard reaction enthalpy is H.Therefore, heat gained by the surroundings at 298K is -H\n",
"S=-H*1000/T;//Change in entropy[J/K]\n",
"printf('Change in entropy of the surroundings at 298k = %f J/K',S);\n",
""
   ]
   }
,
{
		   "cell_type": "markdown",
		   "metadata": {},
		   "source": [
			"## Example 5.8: numerical.sce"
		   ]
		  },
  {
"cell_type": "code",
	   "execution_count": null,
	   "metadata": {
	    "collapsed": true
	   },
	   "outputs": [],
"source": [
"//example 5.8\n",
"\n",
"clear;\n",
"clc;\n",
"\n",
"//Given:\n",
"T1=298;//Initial Temperature[K]\n",
"T2=573;//Final Temperature[K]\n",
"Cv=29.1;//Specific Heat capacity of argon gas [J/K/mol]\n",
"n=1;//no. of moles\n",
"\n",
"\n",
"//To find the change in entropy for argon gas\n",
"S=n*Cv*log(T2/T1);//Change in entropy [J/K]\n",
"printf('The change in entropy of the argon gas is %f J/K',S);\n",
"\n",
""
   ]
   }
,
{
		   "cell_type": "markdown",
		   "metadata": {},
		   "source": [
			"## Example 5.9: numerical.sce"
		   ]
		  },
  {
"cell_type": "code",
	   "execution_count": null,
	   "metadata": {
	    "collapsed": true
	   },
	   "outputs": [],
"source": [
"//example 5.9\n",
"\n",
"clear;\n",
"clc;\n",
"\n",
"//Given:\n",
"T1=276;//Initial temperature[K]\n",
"Tf=278.7;//Freezing point temperature[K]\n",
"Tb=353.3;//Boiling point temperature[K]\n",
"T2=373;//Final temperature[K]\n",
"Hf=9870;//Standard enthalpy of fusion[J/mol]\n",
"Hv=30800;//Standard enthalpy of vaporization[J/mol]\n",
"Cp=136.1;//Specific heat capacity of benzene[J/K/mol]\n",
"mol.wt=78;//molecular weight of benzene[g/mol]\n",
"mass=200;//weight of solid benzene[g]\n",
"disp('     Cp doesnot change within this temp limit');\n",
"\n",
"//To find the total entropy change of solid\n",
"n=mass/mol.wt;//no. of moles\n",
"S1=n*Cp*log(Tf/T1);//entropy change in heating [J/K]\n",
"S2=n*Hf/Tf;//entropy change in melting[J/K] \n",
"S3=n*Cp*log(Tb/Tf);//entropy change in heating[J/K]\n",
"S4=n*Hv/Tb;//entropy change in vaporization[J/K]\n",
"S5=n*Cp*log(T2/Tb);//entropy change in heating[J/K]\n",
"S=S1+S2+S3+S4+S5;//total entropy change in heating from 276 to 373K\n",
"\n",
"printf('Total entropy change in heating 200g benzene from 3 to 100`C is %f J/K',S);\n",
" "
   ]
   }
],
"metadata": {
		  "kernelspec": {
		   "display_name": "Scilab",
		   "language": "scilab",
		   "name": "scilab"
		  },
		  "language_info": {
		   "file_extension": ".sce",
		   "help_links": [
			{
			 "text": "MetaKernel Magics",
			 "url": "https://github.com/calysto/metakernel/blob/master/metakernel/magics/README.md"
			}
		   ],
		   "mimetype": "text/x-octave",
		   "name": "scilab",
		   "version": "0.7.1"
		  }
		 },
		 "nbformat": 4,
		 "nbformat_minor": 0
}
