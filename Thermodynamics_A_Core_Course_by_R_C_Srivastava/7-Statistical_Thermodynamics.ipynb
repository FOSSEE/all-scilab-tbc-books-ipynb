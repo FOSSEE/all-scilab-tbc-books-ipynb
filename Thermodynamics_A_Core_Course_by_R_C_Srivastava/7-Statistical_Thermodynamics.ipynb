{
"cells": [
 {
		   "cell_type": "markdown",
	   "metadata": {},
	   "source": [
       "# Chapter 7: Statistical Thermodynamics"
	   ]
	},
{
		   "cell_type": "markdown",
		   "metadata": {},
		   "source": [
			"## Example 7.12: numerical.sce"
		   ]
		  },
  {
"cell_type": "code",
	   "execution_count": null,
	   "metadata": {
	    "collapsed": true
	   },
	   "outputs": [],
"source": [
"//example 7.12\n",
"\n",
"clear;\n",
"clc;\n",
"\n",
"//Given:\n",
"R=1.99;//Universal gas constant [cal/K]\n",
"e=2.718;\n",
"V=22414;//volume[cm3]\n",
"L=6.023*10^23;\n",
"h=6.626*10^-27;//Planck's constant [erg.sec]\n",
"m=6.63*10^-23;//mass[gm]\n",
"k=1.381*10^-16;//Boltzmann constant[erg/K]\n",
"T=273.2;//Temperature[K]\n",
"\n",
"//To find the Entropy of argon at 273K and 1 atmospheric pressure\n",
"x=V*(e^2.5);\n",
"y=L*(h^3);\n",
"z=(2*3.14*m*k*T)^1.5;\n",
"S=R*log(x*z/y);//Entropy [cal/degree/mol]\n",
"printf('The Entropy of argon at 273K and 1 atm is %f cal/degree/mol',S);"
   ]
   }
,
{
		   "cell_type": "markdown",
		   "metadata": {},
		   "source": [
			"## Example 7.14: numerical.sce"
		   ]
		  },
  {
"cell_type": "code",
	   "execution_count": null,
	   "metadata": {
	    "collapsed": true
	   },
	   "outputs": [],
"source": [
"//example 7.14\n",
"\n",
"clear;\n",
"clc\n",
"\n",
"//Given:\n",
"T=298;//Temperature[K]\n",
"I=1.9373*10^-46;//moment of inertia of O2 gas [Kg/m2]\n",
"h=6.626*10^-34;//Planck's constant[J.s]\n",
"k=1.381*10^-23;//Boltzmann constant[J/K]\n",
"R=8.314;//Universal gas constant[J/K/mol]\n",
"u=2;//Homonuclear diatomic molecule\n",
"\n",
"\n",
"//To find the rotational entropy and free energy for O2 gas\n",
"Sr=R+R*log(8*3.14*3.14*I*k*T/(u*h*h));//[J/K/mol]\n",
"Gr=-R*0.001*T*log(8*3.14*3.14*I*k*T/(u*h*h));//[KJ/mol]\n",
"printf('The rotational entropy for O2 gas is %f J/K/mol',Sr);\n",
"printf('\nThe rotational free energy for O2 gas is %f KJ/mol',Gr);"
   ]
   }
,
{
		   "cell_type": "markdown",
		   "metadata": {},
		   "source": [
			"## Example 7.15: numerical.sce"
		   ]
		  },
  {
"cell_type": "code",
	   "execution_count": null,
	   "metadata": {
	    "collapsed": true
	   },
	   "outputs": [],
"source": [
"//example 7.15\n",
"\n",
"clear;\n",
"clc;\n",
"\n",
"//Given:\n",
"T=298;//Temperature[K]\n",
"v=892.1*3*10^10;//frequency[sec-1]\n",
"h=6.626*10^-27;//Planck's constant [J.s]\n",
"k=1.381*10^-16;//Boltzmann constant[erg/K]\n",
"e=2.718;\n",
"R=1.998;//Universal gas constant[cal/K]\n",
"//To find the vibrational contribution to the entropy of F2 at 298K\n",
"x=h*v/(k*T);\n",
"a=R*x*e^-x/(1-e^-x);//a=E-Eo/T\n",
"b=R*log(1-e^-x);//b=G-Eo/T\n",
"S=a-b;//[cal/deg]\n",
"printf('The vibrational contribution to the entropy of F2 is %f cal/deg',S);\n",
"\n",
"\n",
"\n",
"\n",
"\n",
"\n",
"\n",
"\n",
"\n",
"\n",
"\n",
""
   ]
   }
,
{
		   "cell_type": "markdown",
		   "metadata": {},
		   "source": [
			"## Example 7.16: numerical.sce"
		   ]
		  },
  {
"cell_type": "code",
	   "execution_count": null,
	   "metadata": {
	    "collapsed": true
	   },
	   "outputs": [],
"source": [
"//example 7.16\n",
"\n",
"clear;\n",
"clc;\n",
"\n",
"//Given:\n",
"T=1273;//Temperature[K]\n",
"h=6.26*10^-27;//Planck's constant[J.s]\n",
"k=1.381*10^-16;//Boltzmann constant[erg/K]\n",
"T=1000;//Temperature[degrees]\n",
"m=3.82*10^-23;//mass of Na [gm]\n",
"I=(1.91*10^-23)*(3.078*10^-8)^2;//moment of inertia[gm.cm2]\n",
"dE=0.73*1.602*10^-12;//[erg]\n",
"v=159.23*(3*10^10);//frequency [s-1]\n",
"R=82;//universal gas constant[cm3.atm/deg]\n",
"u=2;//symmetry number\n",
"L=6.023*10^23;//avogadro's number\n",
"\n",
"//To find the equilibrium constant\n",
"p=((3.14*m*k*T)^1.5)/h/h/h;\n",
"s=R*u*h*h/L/8/3.14/3.14/I/k;\n",
"q=1-(exp(-h*v/k/T));\n",
"r=exp(-dE/k/T);\n",
"Kp=p*s*q*r;//Equilibrium constant \n",
"printf('The equilibrium constant is %f',Kp);"
   ]
   }
,
{
		   "cell_type": "markdown",
		   "metadata": {},
		   "source": [
			"## Example 7.17: numerical.sce"
		   ]
		  },
  {
"cell_type": "code",
	   "execution_count": null,
	   "metadata": {
	    "collapsed": true
	   },
	   "outputs": [],
"source": [
"//example 7.17\n",
"\n",
"clear;\n",
"clc;\n",
"\n",
"//Given:\n",
"T=298;//Temperature[K]\n",
"m1=32;\n",
"m2=36;\n",
"m3=34;\n",
"u1=8;\n",
"u2=9;\n",
"u3=16*18/34;\n",
"z1=0.99924;\n",
"z2=0.99951;\n",
"z3=0.99940;\n",
"h=6.26*10^-27;//Planck's constant[J.s]\n",
"c=3*10^10;//Speed of light[m/s]\n",
"k=1.38*10^-16;//Boltzman's constant[erg/K]\n",
"vo1=1535.8;//vibration frequency of 16O18O [cm-1]\n",
"vo2=1580.4;//vibration frequency of 16O2 [cm-1]\n",
"vo3=1490.0;//vibration frequency of 18O2 [cm-1]\n",
"dE=0.5*h*c*(2*vo1-vo2-vo3);//[erg]\n",
"r=dE/k/T;\n",
"\n",
"\n",
"//To find the equilibrium constant for isotopic exchange reaction\n",
"a=m3^3/m2^1.5/m1^1.5;\n",
"b=(u3^2)*4/u2/u1;\n",
"c=z3^2/z2/z1;\n",
"Kp=a*b*c*exp(-r);\n",
"printf('The value of equilibrium constant for isotopic exchange reaction is %f',Kp);"
   ]
   }
,
{
		   "cell_type": "markdown",
		   "metadata": {},
		   "source": [
			"## Example 7.1: numerical.sce"
		   ]
		  },
  {
"cell_type": "code",
	   "execution_count": null,
	   "metadata": {
	    "collapsed": true
	   },
	   "outputs": [],
"source": [
"//example 7.1\n",
"\n",
"clear;\n",
"clc;\n",
"\n",
"//Given:\n",
"N=20;//no, of particles\n",
"N1=4;//no. of particles in E1 energy level\n",
"N2=4;//no. of particles in E2 energy level\n",
"N3=6;//no. of particles in E3 energy level\n",
"N4=3;//no. of particles in E4 energy level\n",
"N5=3;//no. of particles in E5 energy level\n",
"//To find the number of ways of distributing N particles\n",
"N!=prod(1:N);\n",
"N1!=prod(1:N1);\n",
"N2!=prod(1:N2);\n",
"N3!=prod(1:N3);\n",
"N4!=prod(1:N4);\n",
"N5!=prod(1:N5);\n",
"n=N1!*N2!*N3!*N4!*N5!;\n",
"W=N!/n;//no. of ways of distributing\n",
"disp(W,'The no. of ways of distributing the particles is ');\n",
"\n",
"\n",
"\n",
"\n",
"\n",
"\n",
""
   ]
   }
,
{
		   "cell_type": "markdown",
		   "metadata": {},
		   "source": [
			"## Example 7.2: numerical.sce"
		   ]
		  },
  {
"cell_type": "code",
	   "execution_count": null,
	   "metadata": {
	    "collapsed": true
	   },
	   "outputs": [],
"source": [
"//example 7.2\n",
"\n",
"clear;\n",
"clc;\n",
"\n",
"//Given:\n",
"T=298;//Temperature [K]\n",
"v=6.5*10^13;//Frequency in [sec-1]\n",
"//Consider zero point energy = 0.\n",
"h=6.627*10^-34;//planck's constant[J.s]\n",
"k=1.381*10^-23;//Boltzmann constant \n",
"N=1;//Since N=summation(gj*exp(-Ej/kT))\n",
"\n",
"//To find the fraction of molecules present in vibrational level\n",
"E1=h*v;//for energy level 1[J]\n",
"E2=2*h*v;//for energy level 2[J]\n",
"x=k*T;\n",
"g1=1;\n",
"g2=1;\n",
"N1=[g1*exp(-E1/x)];//molecules present in energy level 1\n",
"N2=[g2*exp(-E2/x)];//molecules present in energy level 2\n",
"n1=N1/N;//fraction of molecules present in energy level 1\n",
"n2=N2/N;//fraction of molecules present in energy level 2\n",
"printf('The fraction of molecule  s present in energy level 1 is %f',n1);\n",
"\n",
"\n",
"disp(n2,'The fraction of molecules present in energy level 2 is '); \n",
"\n",
"\n",
"\n",
"\n",
"\n",
"\n",
"\n",
""
   ]
   }
,
{
		   "cell_type": "markdown",
		   "metadata": {},
		   "source": [
			"## Example 7.3: numerical.sce"
		   ]
		  },
  {
"cell_type": "code",
	   "execution_count": null,
	   "metadata": {
	    "collapsed": true
	   },
	   "outputs": [],
"source": [
"//example 7.3\n",
"\n",
"clear;\n",
"clc;\n",
"\n",
"//Given:\n",
"dE=4.3*10^-20;//difference in energy levels[J]\n",
"T1=0.000001;//Initial Temperature[K](approximately zero , needed for execution)\n",
"T2=300;//Final Temperature[K]\n",
"k=1.381*10^-23;//Boltzmann constant [J/K]\n",
"\n",
"//To find the ratio of no. of particle per state for two states separated by an energy dE\n",
"x1=k*T1;\n",
"r1=exp(-dE/x1);\n",
"x2=k*T2;\n",
"r2=exp(-dE/x2);\n",
"disp(r1,'The ratio of no. of particles per state at 0K is ');\n",
"disp(r2,'The ratio of no. of particles per state at 300K is ');\n",
"\n",
"\n",
"\n",
"\n",
"\n",
"\n",
"\n",
"\n",
""
   ]
   }
,
{
		   "cell_type": "markdown",
		   "metadata": {},
		   "source": [
			"## Example 7.4: numerical.sce"
		   ]
		  },
  {
"cell_type": "code",
	   "execution_count": null,
	   "metadata": {
	    "collapsed": true
	   },
	   "outputs": [],
"source": [
"//example 7.4\n",
"\n",
"\n",
"clear;\n",
"clc;\n",
"\n",
"//Given:\n",
"T1=273;//[K]\n",
"T2=14273;//[K]\n",
"E1=-13.6;//Energy of ground state [eV]\n",
"k=8.617*10^-5;//Boltzmann constant[eV/K]\n",
"g2=8;//total no. of states with energy E2\n",
"g1=2;//total no. of states with energy E1\n",
"\n",
"\n",
"//To find the no. of atoms in first-excited singlet state\n",
"E2=E1/(2^2);//Energy for n=2 (i.e.E2=E1/n2)\n",
"x1=k*T1;\n",
"r1=(g2/g1)*exp(-(E2-E1)/x1);\n",
"x2=k*T2;\n",
"r2=(g2/g1)*exp(-(E2-E1)/x2);\n",
"disp(r1,'The fraction of atoms present in level n=2 at 273K is ');\n",
"disp('Therefore total 3*10^25 atoms we say   that all are present at ground     state');\n",
"printf('\n\nThe fraction of atoms present in level n=2 at 14273 is %f\n',r2);\n",
"x=r2*3*10^25;\n",
"disp(x,'Therefore no. of atoms in level n=2 is ');\n",
"\n",
""
   ]
   }
,
{
		   "cell_type": "markdown",
		   "metadata": {},
		   "source": [
			"## Example 7.5: numerical.sce"
		   ]
		  },
  {
"cell_type": "code",
	   "execution_count": null,
	   "metadata": {
	    "collapsed": true
	   },
	   "outputs": [],
"source": [
"//example 7.5\n",
"\n",
"clear;\n",
"clc;\n",
"\n",
"//Given:\n",
"r1=0.001;//the population of the states at a higher energy to that at a lower energy \n",
"dE=8*10^-20;//The difference in energy[J]\n",
"k=1.381*10^-23;//Boltzmann constant [J/K]\n",
"\n",
"\n",
"//To find the Temperature at this condition \n",
"x=k*log(r1);\n",
"T=-dE/x;//[K]\n",
"printf('The Temperature at this condition is %f K',T);"
   ]
   }
,
{
		   "cell_type": "markdown",
		   "metadata": {},
		   "source": [
			"## Example 7.6: numerical.sce"
		   ]
		  },
  {
"cell_type": "code",
	   "execution_count": null,
	   "metadata": {
	    "collapsed": true
	   },
	   "outputs": [],
"source": [
"//example 7.6\n",
"\n",
"clear;\n",
"clc;\n",
"\n",
"\n",
"//section(1)\n",
"//Given:\n",
"//The energy levels are not degenerate \n",
"w=1;//no. of ways of distributing the molecules\n",
"k=1.381*10^-23;//Boltzmann constant[J/K]\n",
"//To find the entropy of the system\n",
"S1=k*log(w);//Entropy of system at 0K\n",
"printf('The Entropy of System at 0K and non-degenerate eng level is %f J/K/mol',S1);\n",
"\n",
"//section(2)\n",
"//Here the energy levels are degenerate\n",
"n=2;\n",
"R=8.314;//Universal gas constant[J/K/mol]\n",
"\n",
"//To find the entropy of the system\n",
"//S=klog(n^N)=>S=R*log(n)\n",
"S2=R*log(n);//Entropy of the system[J/K/mol]\n",
"printf('\nThe Entropy of system at 0K and degenerete eng level is %f J/K/mol',S2);\n",
"\n",
"\n",
"\n",
""
   ]
   }
,
{
		   "cell_type": "markdown",
		   "metadata": {},
		   "source": [
			"## Example 7.9: numerical.sce"
		   ]
		  },
  {
"cell_type": "code",
	   "execution_count": null,
	   "metadata": {
	    "collapsed": true
	   },
	   "outputs": [],
"source": [
"//example 7.9\n",
"\n",
"clear;\n",
"clc;\n",
"\n",
"//Given:\n",
"V=0.001;//Volume of vessel[m3]\n",
"T=300;//Temperature [K]\n",
"k=1.381*10^-23;//Boltzmann constant[J/K]\n",
"mol.wt=32;//molecular mass of oxygen molecule\n",
"h=6.626*10^-34;//planck's constant[J.s}\n",
"\n",
"\n",
"\n",
"//To find the Transitional partition function of an oxygen molecule confined in a 1-litre vessel at 300K\n",
"m=32*1.66*(10^-27);//mass of oxygen molecule[Kg]\n",
"x=[(2*3.14*m*k*T)^(3/2)]*V;\n",
"y=h^3;\n",
"zt=x/y;//Transitional partition function of an oxygen molecule\n",
"disp(zt,'The Transitional partition function of an oxygen molecule confined in a 1-litre vessel at 300K is')"
   ]
   }
],
"metadata": {
		  "kernelspec": {
		   "display_name": "Scilab",
		   "language": "scilab",
		   "name": "scilab"
		  },
		  "language_info": {
		   "file_extension": ".sce",
		   "help_links": [
			{
			 "text": "MetaKernel Magics",
			 "url": "https://github.com/calysto/metakernel/blob/master/metakernel/magics/README.md"
			}
		   ],
		   "mimetype": "text/x-octave",
		   "name": "scilab",
		   "version": "0.7.1"
		  }
		 },
		 "nbformat": 4,
		 "nbformat_minor": 0
}
