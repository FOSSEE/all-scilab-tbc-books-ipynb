{
"cells": [
 {
		   "cell_type": "markdown",
	   "metadata": {},
	   "source": [
       "# Chapter 1: Semiconductor Materials and Crystal Properties"
	   ]
	},
{
		   "cell_type": "markdown",
		   "metadata": {},
		   "source": [
			"## Example 1.18_3: Volume_density_of_Si.sce"
		   ]
		  },
  {
"cell_type": "code",
	   "execution_count": null,
	   "metadata": {
	    "collapsed": true
	   },
	   "outputs": [],
"source": [
"// Exa 1.18.3\n",
"clc;\n",
"clear;\n",
"close;\n",
"// Given data\n",
"At = 28;// Atomic weight\n",
"n = 4;\n",
"N_A = 6.023*10^23;\n",
"a = 5.3;// in Å\n",
"a = a * 10^-10;// in m\n",
"m = At/N_A;// in gm\n",
"m = m*10^-3;// in kg\n",
"V = (a)^3;// in m^3\n",
"Rho = (m*n)/V;// in gm/m^3\n",
"Rho = Rho * 10^-3;// in kg/m^3\n",
"disp(Rho,'The volume density in kg/m^3 is');"
   ]
   }
,
{
		   "cell_type": "markdown",
		   "metadata": {},
		   "source": [
			"## Example 1.18_4: Density_of_copper_crystal.sce"
		   ]
		  },
  {
"cell_type": "code",
	   "execution_count": null,
	   "metadata": {
	    "collapsed": true
	   },
	   "outputs": [],
"source": [
"// Exa 1.18.4\n",
"clc;\n",
"clear;\n",
"close;\n",
"// Given data\n",
"r = 1.278;// in Å\n",
"a = (4*r)/(sqrt(2));// in Å\n",
"a = a * 10^-10;// in m\n",
"V = (a)^3;// in m^3\n",
"At = 63.5;// atomic weight\n",
"N_A = 6.023*10^23;\n",
"m = At/N_A;// in gm\n",
"m = m * 10^-3;// in kg\n",
"n = 4;\n",
"Rho = (m*n)/V;// in gm/m^3\n",
"Rho = Rho * 10^-3;// in kg/m^3\n",
"disp(Rho,'The density of copper crystal in kg/m^3 is');"
   ]
   }
,
{
		   "cell_type": "markdown",
		   "metadata": {},
		   "source": [
			"## Example 1.21_1: Wavelength_of_X_ray.sce"
		   ]
		  },
  {
"cell_type": "code",
	   "execution_count": null,
	   "metadata": {
	    "collapsed": true
	   },
	   "outputs": [],
"source": [
"// Exa 1.21.1\n",
"clc;\n",
"clear;\n",
"close;\n",
"// Given data\n",
"d = 2.82;// in Å\n",
"d = d * 10^-10;// in m\n",
"n = 1;\n",
"theta = 10;// in degree \n",
"//Formula 2*d*sin(theta) = n*lembda;\n",
"lembda = 2*d*sind(theta);// in m\n",
"lembda = lembda * 10^10;// in Å\n",
"disp(lembda,'The wavelength of X-ray in Å is ');"
   ]
   }
,
{
		   "cell_type": "markdown",
		   "metadata": {},
		   "source": [
			"## Example 1.21_2: Spacing_of_atomic_layer.sce"
		   ]
		  },
  {
"cell_type": "code",
	   "execution_count": null,
	   "metadata": {
	    "collapsed": true
	   },
	   "outputs": [],
"source": [
"// Exa 1.21.2\n",
"clc;\n",
"clear;\n",
"close;\n",
"// Given data\n",
"lembda = 1.6;// in Å\n",
"lembda = lembda * 10^-10;// in m\n",
"theta = 14.2;// in degree\n",
"n = 1;\n",
"//Formula 2*d*sin(theta) = n*lembda;\n",
"d = (n*lembda)/(2*sind(theta));// in m\n",
"d = d * 10^10;// in Å\n",
"disp(d,'The spacing of atomic layer in the crystal in Å is');"
   ]
   }
,
{
		   "cell_type": "markdown",
		   "metadata": {},
		   "source": [
			"## Example 1.21_3: Interplaner_spacing.sce"
		   ]
		  },
  {
"cell_type": "code",
	   "execution_count": null,
	   "metadata": {
	    "collapsed": true
	   },
	   "outputs": [],
"source": [
"// Exa 1.21.3\n",
"clc;\n",
"clear;\n",
"close;\n",
"// Given data\n",
"n = 1;\n",
"theta = 30;// in degree \n",
"lembda = 1.78;// in Å\n",
"lembda = lembda * 10^-10;// in m\n",
"//Formula 2*d*sin(theta) = n*lembda;\n",
"d = (n*lembda)/(2*sind(theta));// in m\n",
"d = d * 10^10;// in Å\n",
"disp(d,'The interplaner spacing in Å is');"
   ]
   }
,
{
		   "cell_type": "markdown",
		   "metadata": {},
		   "source": [
			"## Example 1.21_4: Interplaner_spacing.sce"
		   ]
		  },
  {
"cell_type": "code",
	   "execution_count": null,
	   "metadata": {
	    "collapsed": true
	   },
	   "outputs": [],
"source": [
"// Exa 1.21.4\n",
"clc;\n",
"clear;\n",
"close;\n",
"// Given data\n",
"lembda = 0.58;// in Å\n",
"n = 1;\n",
"theta1 = 6.45;// in degree\n",
"d = (n*lembda)/(2*sind(theta1));// in Å \n",
"disp(d,'Part (i) : At angle of 6.45°, Interplaner spacing of the crystal in Å is ');\n",
"theta2 = 9.15;// in degree\n",
"d1 = (n*lembda)/(2*sind(theta2));// in Å \n",
"disp(d1,'Part(ii) : At angle of 9.15°, Interplaner spacing of the crystal in Å is ');\n",
"theta3 = 13;// in degree\n",
"n2 = 1;\n",
"d2 = (n2*lembda)/(2*sind(theta3));// in Å \n",
"disp(d2,'Part(iii) : At angle of 13°, Interplaner spacing of the crystal in Å is ');\n",
"// For \n",
"n=2;\n",
"d2 = (n*lembda)/(2*sind(theta3));// in Å \n",
"disp(d2,'Part (iv) : The interplaner spacing in Å is : ')\n",
"disp(d1,'The interplaner spacing for some other set of reflecting in Å is : ')"
   ]
   }
,
{
		   "cell_type": "markdown",
		   "metadata": {},
		   "source": [
			"## Example 1.21_5: Glacing_angle.sce"
		   ]
		  },
  {
"cell_type": "code",
	   "execution_count": null,
	   "metadata": {
	    "collapsed": true
	   },
	   "outputs": [],
"source": [
"// Exa 1.21.5\n",
"clc;\n",
"clear;\n",
"close;\n",
"// Given data\n",
"a = 2.814;// in Å\n",
"h = 1;\n",
"k = 0;\n",
"l = 0;\n",
"d = a/(sqrt( ((h)^2) + ((k)^2) + ((l)^2) ));// in Å\n",
"n = 2;\n",
"lembda = 0.710;// in Å\n",
"//Formula 2*d*sin(theta) = n*lembda;\n",
"theta = asind(n*lembda/(2*d) );// in degree\n",
"disp(theta,'The glacing angle in degree is');"
   ]
   }
,
{
		   "cell_type": "markdown",
		   "metadata": {},
		   "source": [
			"## Example 1.21_6: Wavelength_of_X_ray.sce"
		   ]
		  },
  {
"cell_type": "code",
	   "execution_count": null,
	   "metadata": {
	    "collapsed": true
	   },
	   "outputs": [],
"source": [
"// Exa 1.21.6\n",
"clc;\n",
"clear;\n",
"close;\n",
"// Given data\n",
"a = 3.65;// in Å\n",
"h = 1;\n",
"k = 0;\n",
"l = 0;\n",
"d = a/(sqrt( ((h)^2) + ((k)^2) + ((l)^2) ));// in Å\n",
"n = 1;\n",
"theta = 60;// in degree\n",
"//Formula 2*d*sin(theta) = n*lembda;\n",
"lambda = 2*d*sind(theta);// in Å\n",
"disp(lambda,'Wavelength of X ray in Å is');"
   ]
   }
,
{
		   "cell_type": "markdown",
		   "metadata": {},
		   "source": [
			"## Example 1.21_7: Glacing_angle.sce"
		   ]
		  },
  {
"cell_type": "code",
	   "execution_count": null,
	   "metadata": {
	    "collapsed": true
	   },
	   "outputs": [],
"source": [
"// Exa 1.21.7\n",
"clc;\n",
"clear;\n",
"close;\n",
"// Given data\n",
"lembda = 1.54;// in Å\n",
"lembda= lembda*10^-8;// in cm\n",
"At = 63.54;// atomic weight\n",
"density = 9.024;// in gm/cc\n",
"n = 1;\n",
"N_A = 6.023*10^23;\n",
"m = At/N_A;// mass\n",
"a =(density*m)^(1/3);// in cm\n",
"h = 1;\n",
"k = 0;\n",
"l = 0;\n",
"d = a/(sqrt( ((h)^2) + ((k)^2) + ((l)^2) ));// in cm\n",
"n = 1;\n",
"//Formula 2*d*sin(theta) = n*lembda;\n",
"theta = asind( (lembda)/(2*d) );// in degree\n",
"disp(theta,'The glancing angle in degree is');\n",
""
   ]
   }
,
{
		   "cell_type": "markdown",
		   "metadata": {},
		   "source": [
			"## Example 1.21_8: Glacing_angle.sce"
		   ]
		  },
  {
"cell_type": "code",
	   "execution_count": null,
	   "metadata": {
	    "collapsed": true
	   },
	   "outputs": [],
"source": [
"// Exa 1.21.8\n",
"clc;\n",
"clear;\n",
"close;\n",
"// Given data\n",
"a = 3.615;// in Å\n",
"theta = 22;// in degree\n",
"n = 1;\n",
"h = 1;\n",
"k = 1;\n",
"l = 1;\n",
"d = a/(sqrt( ((h)^2) + ((k)^2) + ((l)^2) ));// in Å\n",
"// 2*d*sin(theta) = n*lembda;\n",
"lembda = 2*d*sind(theta);// in Å\n",
"disp(lembda,'The wavelength in Å is');\n",
"n = 2;\n",
"//Formula 2*d*sin(theta) = n*lembda;\n",
"theta = asind(n*lembda/(2*d) );// in degree\n",
"disp(theta,'The glacing angle for second order in degree is');\n",
"disp('To get the 2nd order spectrum the position of the detector should be '+string(2*theta)+' °')"
   ]
   }
,
{
		   "cell_type": "markdown",
		   "metadata": {},
		   "source": [
			"## Example 1.21_9: Lattice_constant.sce"
		   ]
		  },
  {
"cell_type": "code",
	   "execution_count": null,
	   "metadata": {
	    "collapsed": true
	   },
	   "outputs": [],
"source": [
"// Exa 1.21.9\n",
"clc;\n",
"clear;\n",
"close;\n",
"// Given data\n",
"n = 1;\n",
"lembda = 1.54;// in Å\n",
"theta = 21.7;// in degree\n",
"//Formula 2*d*sin(theta) = n*lembda;\n",
"d = (lembda*n)/(2*sind(theta));// in Å\n",
"h = 1;\n",
"k = 1;\n",
"l = 1;\n",
"// Formula d = a/(sqrt( ((h)^2) + ((k)^2) + ((l)^2) ));\n",
"a =  d*(sqrt( ((h)^2) + ((k)^2) + ((l)^2) ));// in Å\n",
"disp(a,'Lattice constant in Å is');"
   ]
   }
,
{
		   "cell_type": "markdown",
		   "metadata": {},
		   "source": [
			"## Example 1.22_1: Distance_between_d211_planes.sce"
		   ]
		  },
  {
"cell_type": "code",
	   "execution_count": null,
	   "metadata": {
	    "collapsed": true
	   },
	   "outputs": [],
"source": [
"// Exa 1.22.1\n",
"clc;\n",
"clear;\n",
"close;\n",
"// Given data\n",
"a = 4.8;// in Å\n",
"h = 2;\n",
"k = 1;\n",
"l = 1;\n",
"d = a/(sqrt( ((h)^2) + ((k)^2) + ((l)^2) ));// in Å\n",
"disp(d,'The distance between d_211 plains in Å is');"
   ]
   }
,
{
		   "cell_type": "markdown",
		   "metadata": {},
		   "source": [
			"## Example 1.22_2: Density.sce"
		   ]
		  },
  {
"cell_type": "code",
	   "execution_count": null,
	   "metadata": {
	    "collapsed": true
	   },
	   "outputs": [],
"source": [
"// Exa 1.22.2\n",
"clc;\n",
"clear;\n",
"close;\n",
"// Given data\n",
"r = 1.28;// in Å\n",
"//Formula r = (a*sqrt(2))/4;\n",
"a = (4*r)/(sqrt(2));// in Å\n",
"a = a * 10^-8;// in cm\n",
"n = 4;\n",
"M = 63.5;\n",
"N_A = 6.023*10^23;\n",
"Rho = (n*M)/(N_A*((a)^3));// in gm/cc\n",
"disp(Rho,'The density in gm/cc is');"
   ]
   }
,
{
		   "cell_type": "markdown",
		   "metadata": {},
		   "source": [
			"## Example 1.22_3: Number_of_atom_per_unit_cell.sce"
		   ]
		  },
  {
"cell_type": "code",
	   "execution_count": null,
	   "metadata": {
	    "collapsed": true
	   },
	   "outputs": [],
"source": [
"// Exa 1.22.3\n",
"clc;\n",
"clear;\n",
"close;\n",
"// Given data\n",
"a = 2.9;// in Å\n",
"a = a * 10^-8;// in cm\n",
"Rho = 7.87;// in gm/cc\n",
"N_A = 6.023*10^23;\n",
"M = 55.85\n",
"// Rho = (n*M)/(N_A*((a)^3))\n",
"n = (Rho*N_A*((a)^3))/M;// in atoms per unit cell\n",
"disp(round(n),'The number of atoms per unit cell is ');\n",
""
   ]
   }
,
{
		   "cell_type": "markdown",
		   "metadata": {},
		   "source": [
			"## Example 1.22_4: Radius_of_element_atom.sce"
		   ]
		  },
  {
"cell_type": "code",
	   "execution_count": null,
	   "metadata": {
	    "collapsed": true
	   },
	   "outputs": [],
"source": [
"// Exa 1.22.4\n",
"clc;\n",
"clear;\n",
"close;\n",
"// Given data\n",
"M =60;// in gm/mole\n",
"Rho = 6.23;// in gm/cc\n",
"n = 4;\n",
"N_A = 6.023*10^23;\n",
"// Rho = (n*M)/(N_A*((a)^3));\n",
"a = ( (n*M)/(N_A*Rho) )^(1/3);// in cm\n",
"r = (a*sqrt(2))/4;// in cm\n",
"r = r * 10^8;// in Å\n",
"disp(r,'The radius in Å is'); "
   ]
   }
,
{
		   "cell_type": "markdown",
		   "metadata": {},
		   "source": [
			"## Example 1.22_5: Packing_factor.sce"
		   ]
		  },
  {
"cell_type": "code",
	   "execution_count": null,
	   "metadata": {
	    "collapsed": true
	   },
	   "outputs": [],
"source": [
"// Exa 1.22.5\n",
"clc;\n",
"clear;\n",
"close;\n",
"// Given data\n",
"Rho = 5.96;// in gm/cc\n",
"M = 50;\n",
"n = 2;\n",
"N_A = 6.023*10^23;\n",
"//Formula Rho = (n*M)/(N_A*((a)^3));\n",
"a = ( (n*M)/(N_A*Rho) )^(1/3);// in cm\n",
"r = (a*sqrt(3))/4;// in cm\n",
"P_F = (2*(4/3)*%pi*((r)^3))/((a)^3);// Packing factor\n",
"disp(P_F,'The Packing factor is');"
   ]
   }
,
{
		   "cell_type": "markdown",
		   "metadata": {},
		   "source": [
			"## Example 1.22_6: Number_of_unit_cell.sce"
		   ]
		  },
  {
"cell_type": "code",
	   "execution_count": null,
	   "metadata": {
	    "collapsed": true
	   },
	   "outputs": [],
"source": [
"// Exa 1.22.6\n",
"clc;\n",
"clear;\n",
"close;\n",
"// Given data\n",
"d = 5.2;// in gm/cc\n",
"n = 2;\n",
"M = 120;\n",
"N_A = 6.023*10^23;\n",
"m = M/N_A;//mass of 1 atom in gm\n",
"m = n*m;//mass of unit cell in gm\n",
"g = 20;// in gm\n",
"m = g/m;// in unit cells\n",
"disp(m,'The number of unit cell in its 20 gm is : ');\n",
"\n",
""
   ]
   }
,
{
		   "cell_type": "markdown",
		   "metadata": {},
		   "source": [
			"## Example 1.22_7: Distance_between_K_and_F.sce"
		   ]
		  },
  {
"cell_type": "code",
	   "execution_count": null,
	   "metadata": {
	    "collapsed": true
	   },
	   "outputs": [],
"source": [
"// Exa 1.22.7\n",
"clc;\n",
"clear;\n",
"close;\n",
"// Given data\n",
"Rho = 2.48;// in gm/cc\n",
"K = 39;// molecular weight of K\n",
"F = 19; // molecular weight of F\n",
"M = K+F;// molecular weight of KF\n",
"n = 4;\n",
"N_A = 6.023*10^23;\n",
"//Formula Rho = (n*M)/(N_A*((a)^3));\n",
"a = ( (n*M)/(N_A*Rho) )^(1/3);// in cm\n",
"a = a * 10^8;// in Å\n",
"r = (a*sqrt(2))/4;// in Å\n",
"r = 2*r;// in Å\n",
"disp(r,'The distance between ions in Å is');\n",
""
   ]
   }
],
"metadata": {
		  "kernelspec": {
		   "display_name": "Scilab",
		   "language": "scilab",
		   "name": "scilab"
		  },
		  "language_info": {
		   "file_extension": ".sce",
		   "help_links": [
			{
			 "text": "MetaKernel Magics",
			 "url": "https://github.com/calysto/metakernel/blob/master/metakernel/magics/README.md"
			}
		   ],
		   "mimetype": "text/x-octave",
		   "name": "scilab",
		   "version": "0.7.1"
		  }
		 },
		 "nbformat": 4,
		 "nbformat_minor": 0
}
