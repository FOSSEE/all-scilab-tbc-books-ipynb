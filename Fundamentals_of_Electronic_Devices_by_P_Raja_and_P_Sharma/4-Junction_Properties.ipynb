{
"cells": [
 {
		   "cell_type": "markdown",
	   "metadata": {},
	   "source": [
       "# Chapter 4: Junction Properties"
	   ]
	},
{
		   "cell_type": "markdown",
		   "metadata": {},
		   "source": [
			"## Example 4.16_10: Forward_biasing_current.sce"
		   ]
		  },
  {
"cell_type": "code",
	   "execution_count": null,
	   "metadata": {
	    "collapsed": true
	   },
	   "outputs": [],
"source": [
"// Exa 4.16.10\n",
"clc;\n",
"clear;\n",
"close;\n",
"// Given data\n",
"I_o = 2.4 * 10^-14;\n",
"I = 1.5;// in mA\n",
"I=I*10^-3;// in A\n",
"Eta = 1;\n",
"V_T = 26;// in mV\n",
"V_T= V_T*10^-3;// in V\n",
"v =log((I + I_o)/I_o) * V_T;// in V\n",
"disp(v,'The forward biasing voltage across the junction in V is');"
   ]
   }
,
{
		   "cell_type": "markdown",
		   "metadata": {},
		   "source": [
			"## Example 4.16_11: Theoretical_diode_current.sce"
		   ]
		  },
  {
"cell_type": "code",
	   "execution_count": null,
	   "metadata": {
	    "collapsed": true
	   },
	   "outputs": [],
"source": [
"// Exa 4.16.11\n",
"clc;\n",
"clear;\n",
"close;\n",
"// Given data\n",
"I_o = 10;// in nA\n",
"// I = I_o * ((e^(v/(Eta * V_T))) - 1)\n",
"// e^(v/(Eta * V_T)<< 1, so neglecting it\n",
"I = I_o * (-1);// in nA\n",
"disp(I,'The Diode current in nA is  ');"
   ]
   }
,
{
		   "cell_type": "markdown",
		   "metadata": {},
		   "source": [
			"## Example 4.16_12: Diode_dynamic_resistance.sce"
		   ]
		  },
  {
"cell_type": "code",
	   "execution_count": null,
	   "metadata": {
	    "collapsed": true
	   },
	   "outputs": [],
"source": [
"// Exa 4.16.12\n",
"clc;\n",
"clear;\n",
"close;\n",
"// Given data\n",
"R = 4.5;// in ohm\n",
"I = 44.4;// in mA\n",
"I=I*10^-3;// in A\n",
"V = R * I;// in V\n",
"Eta = 1;\n",
"V_T = 26;//in mV\n",
"V_T=V_T*10^-3;// in V\n",
"I_o = I/((%e^(V/(Eta * V_T))) -1);// in A\n",
"// At\n",
"V = 0.1;// in V\n",
"r_f = (Eta * V_T)/(I_o * ((%e^(V/(Eta * V_T)))-1));// in ohm\n",
"disp(r_f,'The diode dynamic resistance in Ω is');\n",
""
   ]
   }
,
{
		   "cell_type": "markdown",
		   "metadata": {},
		   "source": [
			"## Example 4.16_13: Q_point.sce"
		   ]
		  },
  {
"cell_type": "code",
	   "execution_count": null,
	   "metadata": {
	    "collapsed": true
	   },
	   "outputs": [],
"source": [
"// Exa 4.16.13\n",
"clc;\n",
"clear;\n",
"close;\n",
"// Given data\n",
"V_D = 10;// in V\n",
"// V_S = i*R_L + V_D\n",
"V_S = V_D;// in V (i * R_L = 0)\n",
"disp(V_S,'when diode is OFF, the voltage in volts is : ');\n",
"R_L = 250;// in ohm\n",
"I = V_S/R_L;// in A\n",
"disp(I*10^3,'when diode is ON, the current in mA is');\n",
"V_D= 0:0.1:10;// in V\n",
"I= (V_S-V_D)/R_L*1000;// in mA\n",
"plot(V_D,I)\n",
"xlabel('V_D in volts');\n",
"ylabel('Current in mA')\n",
"title('DC load line');\n",
"disp('DC load line shown in figure')"
   ]
   }
,
{
		   "cell_type": "markdown",
		   "metadata": {},
		   "source": [
			"## Example 4.16_14: AC_resistance_of_the_Ge_diode.sce"
		   ]
		  },
  {
"cell_type": "code",
	   "execution_count": null,
	   "metadata": {
	    "collapsed": true
	   },
	   "outputs": [],
"source": [
"// Exa 4.16.14\n",
"clc;\n",
"clear;\n",
"close;\n",
"// Given data\n",
"V = 0.25;// in V\n",
"I_o = 1.2;// in µA\n",
"I_o = I_o * 10^-6;// in A\n",
"V_T = 26;// in mV\n",
"V_T = V_T * 10^-3;// in V\n",
"Eta = 1;\n",
"r = (Eta * V_T)/(I_o * (%e^(V/(Eta * V_T))));// in ohm\n",
"disp(r,'The ac resistance of the diode in ohm is');"
   ]
   }
,
{
		   "cell_type": "markdown",
		   "metadata": {},
		   "source": [
			"## Example 4.16_15: Junction_potential.sce"
		   ]
		  },
  {
"cell_type": "code",
	   "execution_count": null,
	   "metadata": {
	    "collapsed": true
	   },
	   "outputs": [],
"source": [
"// Exa 4.16.15\n",
"clc;\n",
"clear;\n",
"close;\n",
"// Given data\n",
"t = 4.4 * 10^22;// in total number of atoms/cm^3\n",
"n = 1 * 10^8;// number of impurity\n",
"N_A = t/n;// in atoms/cm^3\n",
"N_A = N_A * 10^6;// in atoms/m^3\n",
"N_D = N_A * 10^3;// in atoms/m^3\n",
"V_T = 26;// in mV\n",
"V_T = V_T * 10^-3;// in V\n",
"n_i = 2.5 * 10^19;// in /cm^3\n",
"V_J = V_T * log((N_A * N_D)/(n_i)^2);// in V\n",
"disp(V_J,'The junction potential in V is')"
   ]
   }
,
{
		   "cell_type": "markdown",
		   "metadata": {},
		   "source": [
			"## Example 4.16_16: Dynamic_resistance.sce"
		   ]
		  },
  {
"cell_type": "code",
	   "execution_count": null,
	   "metadata": {
	    "collapsed": true
	   },
	   "outputs": [],
"source": [
"// Exa 4.16.16\n",
"clc;\n",
"clear;\n",
"close;\n",
"// Given data\n",
"Eta = 1;\n",
"I_o = 30;// in MuA\n",
"I_o = I_o * 10^-6;// in A\n",
"v = 0.2;// in V\n",
"K = 1.381 * 10^-23;// in J/degree K \n",
"T = 125;// in °C\n",
"T = T + 273;// in K\n",
"q = 1.6 * 10^-19;// in C\n",
"V_T = (K*T)/q;// in V\n",
"r_f = (Eta * V_T)/(I_o * (%e^(v/(Eta * V_T))));// in ohm\n",
"disp(r_f,'The forward dynamic resistance in ohm is');\n",
"r_f1 = (Eta * V_T)/(I_o * (%e^(-(v)/(Eta * V_T))));// in ohm\n",
"disp(r_f1*10^-3,'The Reverse dynamic resistance in kΩ is');\n",
""
   ]
   }
,
{
		   "cell_type": "markdown",
		   "metadata": {},
		   "source": [
			"## Example 4.16_17: Space_charge_capacitance.sce"
		   ]
		  },
  {
"cell_type": "code",
	   "execution_count": null,
	   "metadata": {
	    "collapsed": true
	   },
	   "outputs": [],
"source": [
"// Exa 4.16.17\n",
"clc;\n",
"clear;\n",
"close;\n",
"// Given data\n",
"q = 1.6 * 10^-19;// in C\n",
"N_A = 3 * 10^20;// in /m^3\n",
"A = 1;// in µm^2\n",
"A = A * 10^-6;// in m^2\n",
"V = -10;// in V\n",
"V_J = 0.25;// in V\n",
"V_B = V_J - V;// in V\n",
"epsilon_o = 8.854;// in pF/m\n",
"epsilon_o = epsilon_o * 10^-12;// in F/m\n",
"epsilon_r = 16;\n",
"epsilon = epsilon_o * epsilon_r;\n",
"W = sqrt((V_B * 2 * epsilon)/(q * N_A));// in m \n",
"disp(W*10^6,'The width of depletion layer in µm is');\n",
"C_T = (epsilon * A)/W;// in pF\n",
"disp(C_T*10^12,'the space charge capacitance in pF is');"
   ]
   }
,
{
		   "cell_type": "markdown",
		   "metadata": {},
		   "source": [
			"## Example 4.16_18: Barrier_capacitance.sce"
		   ]
		  },
  {
"cell_type": "code",
	   "execution_count": null,
	   "metadata": {
	    "collapsed": true
	   },
	   "outputs": [],
"source": [
"// Exa 4.16.18\n",
"clc;\n",
"clear;\n",
"close;\n",
"// Given data\n",
"W = 2 * 10^-4;// in cm\n",
"W = W * 10^-2;// in m\n",
"A = 1;// in mm^2\n",
"A = A * 10^-6;// in m^2\n",
"epsilon_r = 16;\n",
"epsilon_o = 8.854 * 10^-12;// in F/m\n",
"epsilon = epsilon_r * epsilon_o;\n",
"C_T = (epsilon * A)/W;// in F\n",
"disp(C_T*10^12,'The barrier capacitance in pF is');\n",
""
   ]
   }
,
{
		   "cell_type": "markdown",
		   "metadata": {},
		   "source": [
			"## Example 4.16_19: Diameter.sce"
		   ]
		  },
  {
"cell_type": "code",
	   "execution_count": null,
	   "metadata": {
	    "collapsed": true
	   },
	   "outputs": [],
"source": [
"// Exa 4.16.19\n",
"clc;\n",
"clear;\n",
"close;\n",
"// Given data\n",
"C_T = 100;// in pF\n",
"C_T=C_T*10^-12;// in F\n",
"epsilon_r = 12;\n",
"epsilon_o = 8.854 * 10^-12;// in F/m\n",
"epsilon = epsilon_r * epsilon_o;\n",
"Rho_p = 5;// in ohm-cm\n",
"Rho_p = Rho_p * 10^-2;// in ohm-m\n",
"V_j = 0.5;// in V\n",
"V = -4.5;// in V\n",
"Mu_p = 500;// in cm^2\n",
"Mu_p = Mu_p * 10^-4;// in m^2\n",
"Sigma_p = 1/Rho_p;// in per ohm-m\n",
"qN_A = Sigma_p/ Mu_p;\n",
"V_B = V_j - V;\n",
"W = sqrt((V_B * 2 * epsilon)/qN_A);// in m\n",
"//C_T = (epsilon * A)/W;\n",
"A = (C_T * W)/ epsilon;// in m\n",
"D = sqrt(A * (4/%pi));// in m\n",
"D = D * 10^3;// in mm\n",
"disp(D,'The diameter in mm is');\n",
" "
   ]
   }
,
{
		   "cell_type": "markdown",
		   "metadata": {},
		   "source": [
			"## Example 4.16_1: Contact_difference_of_potential.sce"
		   ]
		  },
  {
"cell_type": "code",
	   "execution_count": null,
	   "metadata": {
	    "collapsed": true
	   },
	   "outputs": [],
"source": [
"// EXa 4.16.1\n",
"clc;\n",
"clear;\n",
"close;\n",
"// Given data\n",
"t = 4.4 * 10^22;// total number of Ge atoms/cm^3\n",
"n = 1 * 10^8;// number of impurity atoms\n",
"N_A = t/n;// in atoms/cm^3\n",
"N_A = N_A * 10^6;// in atoms/m^3\n",
"N_D = N_A * 10^3;// in atoms/m^3\n",
"n_i = 2.5 * 10^13;// in atoms/cm^3\n",
"n_i = n_i * 10^6;// in atoms/m^3\n",
"V_T = 26;//in mV\n",
"V_T= V_T*10^-3;// in V\n",
"V_J = V_T * log((N_A * N_D)/(n_i)^2);// in V\n",
"disp(V_J,'The contact potential in V is');\n",
"// Part (b)\n",
"t = 5* 10^22;// total number of Si atoms/cm^3\n",
"N_A = t/n;// in atoms/cm^3\n",
"N_A = N_A * 10^6;// in atoms/m^3\n",
"N_D = N_A * 10^3;// in atoms/m^3\n",
"n_i = 1.5 * 10^10;// in atoms/cm^3\n",
"n_i = n_i * 10^6;// in atoms/m^3\n",
"V_T = 26;//in mV\n",
"V_T= V_T*10^-3;// in V\n",
"V_J = V_T * log((N_A * N_D)/(n_i)^2);// in V\n",
"disp(V_J,'The contact potential  in V is');"
   ]
   }
,
{
		   "cell_type": "markdown",
		   "metadata": {},
		   "source": [
			"## Example 4.16_20: Temperature_of_junction.sce"
		   ]
		  },
  {
"cell_type": "code",
	   "execution_count": null,
	   "metadata": {
	    "collapsed": true
	   },
	   "outputs": [],
"source": [
"// Exa 4.16.20\n",
"clc;\n",
"clear;\n",
"close;\n",
"// Given data\n",
"q = 1.6 * 10^-19;// in C\n",
"Mu_p = 500;// in cm^2/V-sec\n",
"Rho_p = 3.5;// in ohm-cm\n",
"Mu_n = 1500;// in cm^2/V-sec\n",
"Rho_n = 10;// in ohm-cm\n",
"N_A = 1/(Rho_p * Mu_p * q);// in /cm^3\n",
"N_D = 1/(Rho_n * Mu_n * q);// in /cm^3\n",
"V_J = 0.56;// in V\n",
"n_i = 1.5 * 10^10;// in /cm^3\n",
"V_T = V_J/log((N_A * N_D)/(n_i)^2);// in V\n",
"// V_T = T/11600\n",
"T = V_T * 11600;// in K\n",
"T = T - 273;// in °C\n",
"disp(T,'The Temperature of junction in °C is');"
   ]
   }
,
{
		   "cell_type": "markdown",
		   "metadata": {},
		   "source": [
			"## Example 4.16_21: Voltage.sce"
		   ]
		  },
  {
"cell_type": "code",
	   "execution_count": null,
	   "metadata": {
	    "collapsed": true
	   },
	   "outputs": [],
"source": [
"// Exa 4.16.21\n",
"clc;\n",
"clear;\n",
"close;\n",
"// Given data\n",
"V_T = 26;// in mV\n",
"V_T = V_T * 10^-3;// in V\n",
"Eta = 1;\n",
"// I = -90% for Io, so\n",
"IbyIo= 0.1;\n",
"// I  = I_o * ((e^(v/(Eta * V_T)))-1)\n",
"V = log(IbyIo) * V_T;// in V\n",
"disp(V,'The reverse bias voltage in volts is');"
   ]
   }
,
{
		   "cell_type": "markdown",
		   "metadata": {},
		   "source": [
			"## Example 4.16_22: Reverse_saturation_current.sce"
		   ]
		  },
  {
"cell_type": "code",
	   "execution_count": null,
	   "metadata": {
	    "collapsed": true
	   },
	   "outputs": [],
"source": [
"// Exa 4.16.22\n",
"clc;\n",
"clear;\n",
"close;\n",
"// Given data\n",
"R = 5;// in ohm\n",
"I = 50;// in mA\n",
"I=I*10^-3;// in A\n",
"V = R * I;// in V\n",
"Eta = 1;\n",
"V_T = 26;// in mV\n",
"V_T=V_T*10^-3;// in V\n",
"I_o = I/((%e^(V/(Eta * V_T))) - 1);// in A\n",
"disp(I_o*10^6,'Reverse saturation current in µA is');\n",
"v1 = 0.2;// in V\n",
"r = (Eta * V_T)/(I_o * (%e^(v1/(Eta * V_T))));// in ohm\n",
"disp(r,'Dynamic resistance of the diode in Ω is');"
   ]
   }
,
{
		   "cell_type": "markdown",
		   "metadata": {},
		   "source": [
			"## Example 4.16_2: Height_of_potential_energy_barrier.sce"
		   ]
		  },
  {
"cell_type": "code",
	   "execution_count": null,
	   "metadata": {
	    "collapsed": true
	   },
	   "outputs": [],
"source": [
"// Exa 4.16.2\n",
"clc;\n",
"clear;\n",
"close;\n",
"// Given data\n",
"V_T = 26;// in mV\n",
"V_T=V_T*10^-3;// in V\n",
"n_i = 2.5 * 10^13;\n",
"Sigma_p = 1;\n",
"Sigma_n = 1;\n",
"Mu_n = 3800;\n",
"q = 1.6 * 10^-19;// in C\n",
"Mu_p = 1800;\n",
"N_A = Sigma_p/(2* q * Mu_p);// in /cm^3\n",
"N_D = Sigma_n /(q * Mu_n);// in /cm^3\n",
"V_J = V_T * log((N_A * N_D)/(n_i)^2);// in V\n",
"disp(V_J,'For Ge the height of the energy barrier in V is');\n",
"// For Si p-n juction\n",
"n_i = 1.5 * 10^10;\n",
"Mu_n = 1300;\n",
"Mu_p = 500;\n",
"N_A = Sigma_p/(2* q * Mu_p);// in /cm^3\n",
"N_D = Sigma_n /(q * Mu_n);// in /cm^3\n",
"V_J = V_T * log((N_A * N_D)/(n_i)^2);// in V\n",
"disp(V_J,'For Si p-n junction  the height of the energy barrier in V is');"
   ]
   }
,
{
		   "cell_type": "markdown",
		   "metadata": {},
		   "source": [
			"## Example 4.16_3: Forward_current.sce"
		   ]
		  },
  {
"cell_type": "code",
	   "execution_count": null,
	   "metadata": {
	    "collapsed": true
	   },
	   "outputs": [],
"source": [
"//Exa 4.16.3\n",
"clc;\n",
"clear;\n",
"close;\n",
"// Given data\n",
"Eta = 1;\n",
"V_T = 26;// in mV\n",
"V_T= V_T*10^-3;// in V\n",
"// I = I_o * (%e^(V/(Eta*V_T)) - 1) and I = -(0.9) * I_o;\n",
"V= log(1-0.9)*V_T;// in V\n",
"disp(V,'The voltage in volts is : ')\n",
"// Part (ii)\n",
"V1=0.05;// in V\n",
"V2= -0.05;// in V\n",
"ratio= (%e^(V1/(Eta*V_T))-1)/(%e^(V2/(Eta*V_T))-1)\n",
"disp(ratio,'The ratio of the current for a forward bias to reverse bias is : ')\n",
"// Part (iii)\n",
"Io= 10;// in µA\n",
"Io=Io*10^-3;// in mA\n",
"//For \n",
"V=0.1;// in V\n",
"I = Io * (%e^(V/(Eta*V_T)) - 1);// in mA\n",
"disp(I,'For V=0.1 V , the value of I in mA is : ')\n",
"//For \n",
"V=0.2;// in V\n",
"I = Io * (%e^(V/(Eta*V_T)) - 1);// in mA\n",
"disp(I,'For V=0.2 V , the value of I in mA is : ')\n",
"//For \n",
"V=0.3;// in V\n",
"I = Io * (%e^(V/(Eta*V_T)) - 1);// in mA\n",
"disp(I*10^-3,'For V=0.3 V , the value of I in A is : ')\n",
"disp('From three value of I, for small rise in forward voltage, the diode current increase rapidly')"
   ]
   }
,
{
		   "cell_type": "markdown",
		   "metadata": {},
		   "source": [
			"## Example 4.16_4: Anticipated_Factor.sce"
		   ]
		  },
  {
"cell_type": "code",
	   "execution_count": null,
	   "metadata": {
	    "collapsed": true
	   },
	   "outputs": [],
"source": [
"//Exa 4.16.4\n",
"clc;\n",
"clear;\n",
"close;\n",
"// Given data\n",
"// Part (i)\n",
"T1= 25;// in °C\n",
"T2= 80;// in °C\n",
"// Formula Io2= Io1*2^((T2-T1)/10)\n",
"AntiFactor= 2^((T2-T1)/10);\n",
"disp(round(AntiFactor),'Anticipated factor for Ge is : ')\n",
"// Part (ii)\n",
"T1= 25;// in °C\n",
"T2= 150;// in °C\n",
"AntiFactor= 2^((T2-T1)/10);\n",
"disp(round(AntiFactor),'Anticipated factor for Si is : ')"
   ]
   }
,
{
		   "cell_type": "markdown",
		   "metadata": {},
		   "source": [
			"## Example 4.16_5: Leakage_resistance.sce"
		   ]
		  },
  {
"cell_type": "code",
	   "execution_count": null,
	   "metadata": {
	    "collapsed": true
	   },
	   "outputs": [],
"source": [
"//Exa 4.16.5\n",
"clc;\n",
"clear;\n",
"close;\n",
"// Given data\n",
"I=5;// in µA\n",
"V=10;// in V\n",
"T1= 0.11;// in °C^-1\n",
"T2= 0.07;// in °C^-1\n",
"// Io+I_R=I                            (i)\n",
"// dI_by_dT= dIo_by_dT      (ii)\n",
"// 1/Io*dIo_by_dT = T1 and 1/I*dI_by_dT = T2, So\n",
"Io= T2*I/T1;// in µA\n",
"I_R= I-Io;// in µA\n",
"R= V/I_R;// in MΩ\n",
"disp(R,'The leakage resistance in MΩ is : ')"
   ]
   }
,
{
		   "cell_type": "markdown",
		   "metadata": {},
		   "source": [
			"## Example 4.16_6: Dynamic_resistance.sce"
		   ]
		  },
  {
"cell_type": "code",
	   "execution_count": null,
	   "metadata": {
	    "collapsed": true
	   },
	   "outputs": [],
"source": [
"//Exa 4.16.6\n",
"clc;\n",
"clear;\n",
"close;\n",
"// Given data\n",
"Eta = 1;\n",
"T = 125;// in °C\n",
"T = T + 273;// in K\n",
"V_T = 8.62 * 10^-5 * 398;// in V\n",
"I_o = 30;// in µA\n",
"I_o= I_o*10^-6;// in A\n",
"v = 0.2;// in V\n",
"r_f = (Eta * V_T)/(I_o * %e^(v/(Eta* V_T)));// in ohm\n",
"disp(r_f,'The dynamic resistance in the forward direction in ohm is ');\n",
"r_r = (Eta * V_T)/(I_o * %e^(-v/(Eta* V_T)));// in ohm\n",
"disp(r_r*10^-3,'The dynamic resistance in the reverse direction in kohm is');"
   ]
   }
,
{
		   "cell_type": "markdown",
		   "metadata": {},
		   "source": [
			"## Example 4.16_7: Barrier_capacitance.sce"
		   ]
		  },
  {
"cell_type": "code",
	   "execution_count": null,
	   "metadata": {
	    "collapsed": true
	   },
	   "outputs": [],
"source": [
"// Exa 4.16.7\n",
"clc;\n",
"clear;\n",
"close;\n",
"// Given data\n",
"epsilon = 16/(36 * %pi * 10^11);// in F/cm\n",
"A = 1 * 10^-2;\n",
"W = 2 * 10^-4;\n",
"C_T = (epsilon * A)/W;// in F\n",
"disp(C_T*10^12,'The barrier capacitance in pF is');"
   ]
   }
,
{
		   "cell_type": "markdown",
		   "metadata": {},
		   "source": [
			"## Example 4.16_8: Width_of_depletion_layer.sce"
		   ]
		  },
  {
"cell_type": "code",
	   "execution_count": null,
	   "metadata": {
	    "collapsed": true
	   },
	   "outputs": [],
"source": [
"//Exa 4.16.8\n",
"clc;\n",
"clear;\n",
"close;\n",
"//Given data\n",
"A = 1;// in mm^2\n",
"A = A * 10^-6;// in m^2\n",
"N_A = 3 * 10^20;// in atoms/m^3\n",
"q = 1.6 *10^-19;// in C\n",
"V_o = 0.2;// in V\n",
"epsilon_r=16;\n",
"epsilon_o= 8.854*10^-12;// in F/m\n",
"epsilon=epsilon_r*epsilon_o;\n",
"// Part (a)\n",
"V=-10;// in V\n",
"// V_o - V = 1/2*((q * N_A )/epsilon) * W^2\n",
"W = sqrt(((V_o - V) * 2 * epsilon)/(q * N_A));// m\n",
"C_T1 = (epsilon * A)/W;// in F\n",
"disp(W*10^6,'The width of the depletion layer  for an applied reverse voltage of 10V in µm is ');\n",
"// Part (b)\n",
"V=-0.1;// in V\n",
"W = sqrt(((V_o - V) * 2 * epsilon)/(q * N_A));// m\n",
"C_T2 = (epsilon * A)/W;// in F\n",
"disp(W*10^6,'The width of the depletion layer  for an applied reverse voltage of 0.1V in µm is ');\n",
"// Part (c)\n",
"V=0.1;// in V\n",
"W = sqrt(((V_o - V) * 2 * epsilon)/(q * N_A));// m\n",
"disp(W*10^6,'The width of the depletion layer  for an applied for a forward bias of 0.1V in µm is ');\n",
"// Part (d)\n",
"disp(C_T1*10^12,'The space charge capacitance for an applied reverse voltage of 10V  in pF is');\n",
"disp(C_T2*10^12,'The space charge capacitance for an applied reverse voltage of 0.1V  in pF is');\n",
"\n",
""
   ]
   }
,
{
		   "cell_type": "markdown",
		   "metadata": {},
		   "source": [
			"## Example 4.16_9: Current_in_the_junction.sce"
		   ]
		  },
  {
"cell_type": "code",
	   "execution_count": null,
	   "metadata": {
	    "collapsed": true
	   },
	   "outputs": [],
"source": [
"// Exa 4.16.9\n",
"clc;\n",
"clear;\n",
"close;\n",
"// Given data\n",
"I_o = 1.8 * 10^-9;// A\n",
"v = 0.6;// in V\n",
"Eta = 2;\n",
"V_T = 26;// in mV\n",
"V_T=V_T*10^-3;// in V\n",
"I = I_o *(%e^(v/(Eta * V_T)));// in A\n",
"disp(I*10^3,'The current in the junction in mA is');"
   ]
   }
],
"metadata": {
		  "kernelspec": {
		   "display_name": "Scilab",
		   "language": "scilab",
		   "name": "scilab"
		  },
		  "language_info": {
		   "file_extension": ".sce",
		   "help_links": [
			{
			 "text": "MetaKernel Magics",
			 "url": "https://github.com/calysto/metakernel/blob/master/metakernel/magics/README.md"
			}
		   ],
		   "mimetype": "text/x-octave",
		   "name": "scilab",
		   "version": "0.7.1"
		  }
		 },
		 "nbformat": 4,
		 "nbformat_minor": 0
}
