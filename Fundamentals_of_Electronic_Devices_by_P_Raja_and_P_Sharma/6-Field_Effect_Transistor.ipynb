{
"cells": [
 {
		   "cell_type": "markdown",
	   "metadata": {},
	   "source": [
       "# Chapter 6: Field Effect Transistor"
	   ]
	},
{
		   "cell_type": "markdown",
		   "metadata": {},
		   "source": [
			"## Example 6.9_1: Pinch_off_voltage.sce"
		   ]
		  },
  {
"cell_type": "code",
	   "execution_count": null,
	   "metadata": {
	    "collapsed": true
	   },
	   "outputs": [],
"source": [
"//Exa 6.9.1\n",
"clc;\n",
"clear;\n",
"close;\n",
"// Given data\n",
"q = 1.6 * 10^-19;// in C\n",
"N_D = 10^15;// in electrons/cm^3\n",
"N_D = N_D * 10^6;// in electrons/m^3\n",
"epsilon_r = 12;\n",
"epsilon_o = (36 * %pi * 10^9)^-1;\n",
"epsilon = epsilon_o * epsilon_r;\n",
"a = 3 * 10^-4;// in cm\n",
"a = a * 10^-2;// in m\n",
"V_P = (q * N_D * a^2)/( 2 * epsilon);// in V\n",
"disp(V_P,'The Pinch off voltage in V is');\n",
"// V_GS = V_P * (1-(b/a))^2\n",
"b = (1-0.707) *a;// in m\n",
"disp(b*10^6,'The value of b in µm is : ')\n",
"disp('Hence the channel width has been reduced to about one third of its value for V_GS = 0');//\n",
"// Note : The unit of b in the book is wrong since the value of b is calculated in µm."
   ]
   }
,
{
		   "cell_type": "markdown",
		   "metadata": {},
		   "source": [
			"## Example 6.9_2: Value_of_VGS.sce"
		   ]
		  },
  {
"cell_type": "code",
	   "execution_count": null,
	   "metadata": {
	    "collapsed": true
	   },
	   "outputs": [],
"source": [
"// Exa 6.9.2\n",
"clc;\n",
"clear;\n",
"close;\n",
"// Given data\n",
"I_DSS = 8;// in mA\n",
"V_P = -4;// in V\n",
"I_D = 3;// in mA\n",
"V_GS = V_P * (1 - sqrt(I_D/I_DSS));// in V\n",
"disp(V_GS,'The value of V_GS in V is');\n",
"V_DS = V_GS - V_P;// in V\n",
"disp(V_DS,'The value of V_DS in V is');"
   ]
   }
,
{
		   "cell_type": "markdown",
		   "metadata": {},
		   "source": [
			"## Example 6.9_3: Drain_current.sce"
		   ]
		  },
  {
"cell_type": "code",
	   "execution_count": null,
	   "metadata": {
	    "collapsed": true
	   },
	   "outputs": [],
"source": [
"// Exa 6.9.3\n",
"clc;\n",
"clear;\n",
"close;\n",
"// Given data\n",
"V_P = -4;// in V\n",
"I_DSS = 9;// in mA\n",
"I_DSS = I_DSS * 10^-3;// in A\n",
"V_GS = -2;// in V\n",
"I_D = I_DSS * ((1 - (V_GS/V_P))^2);// in A\n",
"disp(I_D*10^3,'The drain current in mA is ');"
   ]
   }
,
{
		   "cell_type": "markdown",
		   "metadata": {},
		   "source": [
			"## Example 6.9_4: Transconductance.sce"
		   ]
		  },
  {
"cell_type": "code",
	   "execution_count": null,
	   "metadata": {
	    "collapsed": true
	   },
	   "outputs": [],
"source": [
"// Exa 6.9.4\n",
"clc;\n",
"clear;\n",
"close;\n",
"// Given data\n",
"I_DSS = 12;// in mA\n",
"I_DSS = I_DSS * 10^-3;// in A\n",
"V_P = -(6);// in V\n",
"V_GS = -(1);// in V\n",
"g_mo = (-2 * I_DSS)/V_P;// in A/V\n",
"g_m = g_mo * (1 - (V_GS/V_P));// in S\n",
"disp(g_m*10^3,'The value of transconductance in mS is');"
   ]
   }
,
{
		   "cell_type": "markdown",
		   "metadata": {},
		   "source": [
			"## Example 6.9_5: Value_of_transconductance_and_drain_current.sce"
		   ]
		  },
  {
"cell_type": "code",
	   "execution_count": null,
	   "metadata": {
	    "collapsed": true
	   },
	   "outputs": [],
"source": [
"//Exa 6.9.5\n",
"clc;\n",
"clear;\n",
"close;\n",
"// Given data\n",
"I_DSS = 10;// in mA \n",
"I_DSS = I_DSS * 10^-3;// in A\n",
"V_P = -(5);// in V\n",
"V_GS = -(2.5);// in V\n",
"g_m = ((-2 * I_DSS)/V_P) * (1 -(V_GS/V_P));// in S\n",
"g_m = g_m * 10^3;// in mS\n",
"disp(g_m,'The Transconductance in mS is');\n",
"I_D = I_DSS * ((1 - (V_GS/V_P))^2);// in A\n",
"disp(I_D*10^3,'The drain current in mA is'); "
   ]
   }
],
"metadata": {
		  "kernelspec": {
		   "display_name": "Scilab",
		   "language": "scilab",
		   "name": "scilab"
		  },
		  "language_info": {
		   "file_extension": ".sce",
		   "help_links": [
			{
			 "text": "MetaKernel Magics",
			 "url": "https://github.com/calysto/metakernel/blob/master/metakernel/magics/README.md"
			}
		   ],
		   "mimetype": "text/x-octave",
		   "name": "scilab",
		   "version": "0.7.1"
		  }
		 },
		 "nbformat": 4,
		 "nbformat_minor": 0
}
