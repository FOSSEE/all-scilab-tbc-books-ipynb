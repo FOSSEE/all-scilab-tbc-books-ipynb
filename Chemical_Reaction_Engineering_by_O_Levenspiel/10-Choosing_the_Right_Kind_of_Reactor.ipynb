{
"cells": [
 {
		   "cell_type": "markdown",
	   "metadata": {},
	   "source": [
       "# Chapter 10: Choosing the Right Kind of Reactor"
	   ]
	},
{
		   "cell_type": "markdown",
		   "metadata": {},
		   "source": [
			"## Example 10.1: THE_TRAMBOUZE_REACTIONS.sce"
		   ]
		  },
  {
"cell_type": "code",
	   "execution_count": null,
	   "metadata": {
	    "collapsed": true
	   },
	   "outputs": [],
"source": [
"clear\n",
"clc\n",
"CAo=1;CA=0.25;\n",
"v=100//litre/min\n",
"ko=.025;k1=0.2;k2=0.4;\n",
"rA=ko+k1*CA+k2*CA^2;\n",
"//Volume(litres) per MFR is\n",
"V=(v/4)*(CAo-CA)/rA;\n",
"//For 4 Reactor System\n",
"Vt=4*V;\n",
"printf('\n The Total volume(lires) of 4 reactor system is %f',Vt)"
   ]
   }
,
{
		   "cell_type": "markdown",
		   "metadata": {},
		   "source": [
			"## Example 10.2: TEMPERATURE_PROGRESSION_FOR_MULTIPLE_REACTIONS.sce"
		   ]
		  },
  {
"cell_type": "code",
	   "execution_count": null,
	   "metadata": {
	    "collapsed": true
	   },
	   "outputs": [],
"source": [
"clear\n",
"clc\n",
"printf('For Intermediate R is desired')\n",
"//we want step 1 fast than 2 and step 1 fast than 3\n",
"printf('\n E1<E2,E1<E3 so use a low temperature and plug flow \n')\n",
"printf('For Product S is desired')\n",
"//Here speed is all that matters\n",
"printf('\n High speed is all that matters so use a high temperature and plug flow \n')\n",
"printf('For Intermediate T is desired')\n",
"//We want step 2 fast than 1 and step 2 fast than 4\n",
"printf('\n E2>E1,E3>E5 so use a falling temperature and plug flow \n')\n",
"printf('For Intermediate U is desired')\n",
"//We want step 1 fast than 2 and step 3 fast than 5\n",
"printf('\n E2>E1,E3>E5 so use a rising temperature and plug flow \n')"
   ]
   }
],
"metadata": {
		  "kernelspec": {
		   "display_name": "Scilab",
		   "language": "scilab",
		   "name": "scilab"
		  },
		  "language_info": {
		   "file_extension": ".sce",
		   "help_links": [
			{
			 "text": "MetaKernel Magics",
			 "url": "https://github.com/calysto/metakernel/blob/master/metakernel/magics/README.md"
			}
		   ],
		   "mimetype": "text/x-octave",
		   "name": "scilab",
		   "version": "0.7.1"
		  }
		 },
		 "nbformat": 4,
		 "nbformat_minor": 0
}
