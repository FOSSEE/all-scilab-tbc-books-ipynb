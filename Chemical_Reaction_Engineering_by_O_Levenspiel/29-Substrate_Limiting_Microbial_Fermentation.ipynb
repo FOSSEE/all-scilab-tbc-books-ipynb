{
"cells": [
 {
		   "cell_type": "markdown",
	   "metadata": {},
	   "source": [
       "# Chapter 29: Substrate Limiting Microbial Fermentation"
	   ]
	},
{
		   "cell_type": "markdown",
		   "metadata": {},
		   "source": [
			"## Example 29.1: MIXED_REACTORS_FOR_MONOD_KINETICS.sce"
		   ]
		  },
  {
"cell_type": "code",
	   "execution_count": null,
	   "metadata": {
	    "collapsed": true
	   },
	   "outputs": [],
"source": [
"clear\n",
"clc\n",
"printf('\n Its a theorotical qn')"
   ]
   }
,
{
		   "cell_type": "markdown",
		   "metadata": {},
		   "source": [
			"## Example 29.2: PLUG_FLOW_REACTOR_FOR_MONOD_KINETICS.sce"
		   ]
		  },
  {
"cell_type": "code",
	   "execution_count": null,
	   "metadata": {
	    "collapsed": true
	   },
	   "outputs": [],
"source": [
"clear\n",
"clc\n",
"printf('\n Its a theorotical qn')"
   ]
   }
,
{
		   "cell_type": "markdown",
		   "metadata": {},
		   "source": [
			"## Example 29.3: GLUCOSE_FOR_E_COLI_BACTERIA.sce"
		   ]
		  },
  {
"cell_type": "code",
	   "execution_count": null,
	   "metadata": {
	    "collapsed": true
	   },
	   "outputs": [],
"source": [
"clear\n",
"clc\n",
"CAo=6;CM=0.4;//kg/m3\n",
"V=1;//m3\n",
"k=4;\n",
"//From fig 29.5\n",
"N=sqrt(1+(CAo/CM));\n",
"kt_op=N/(N-1);\n",
"C_by_A=0.1;\n",
"t_op=kt_op/k;\n",
"v_op=V/t_op;\n",
"//The feed rate of glucose\n",
"FAo=v_op*CAo;\n",
"printf('\n The feed rate of glucose is %f',FAo)\n",
"printf('kg/hr')\n",
"//Max consumption rate of glucose is\n",
"XA=N/(N+1);\n",
"c_max=FAo*XA;\n",
"printf('\n Max consumption rate of glucose is %f ',c_max)\n",
"printf('kg/hr')\n",
"//Max production rate of E.coli is\n",
"Cc_op=(C_by_A)*CAo*N/(N+1);\n",
"Fcmax=v_op*Cc_op;\n",
"printf('\n Max production rate of E.coli is %f',Fcmax)\n",
"printf('kg/hr')"
   ]
   }
],
"metadata": {
		  "kernelspec": {
		   "display_name": "Scilab",
		   "language": "scilab",
		   "name": "scilab"
		  },
		  "language_info": {
		   "file_extension": ".sce",
		   "help_links": [
			{
			 "text": "MetaKernel Magics",
			 "url": "https://github.com/calysto/metakernel/blob/master/metakernel/magics/README.md"
			}
		   ],
		   "mimetype": "text/x-octave",
		   "name": "scilab",
		   "version": "0.7.1"
		  }
		 },
		 "nbformat": 4,
		 "nbformat_minor": 0
}
