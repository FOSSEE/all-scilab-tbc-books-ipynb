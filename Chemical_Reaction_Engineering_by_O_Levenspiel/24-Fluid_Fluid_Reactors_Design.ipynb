{
"cells": [
 {
		   "cell_type": "markdown",
	   "metadata": {},
	   "source": [
       "# Chapter 24: Fluid Fluid Reactors Design"
	   ]
	},
{
		   "cell_type": "markdown",
		   "metadata": {},
		   "source": [
			"## Example 24.1: TOWERS_FOR_STRAIGHT_ABSORPTION.sce"
		   ]
		  },
  {
"cell_type": "code",
	   "execution_count": null,
	   "metadata": {
	    "collapsed": true
	   },
	   "outputs": [],
"source": [
"clear\n",
"clc\n",
"kag_a=0.32;//mol/hr.m3.Pa\n",
"kal_a=0.1;//hr\n",
"HA=12.5;//Pa.m3/mol\n",
"Fg=10^5;//mol/hr.m2\n",
"Fl=7*10^5;//mol/hr.m2\n",
"Ct=56000;//mol/m3\n",
"P=10^5;//Pa\n",
"//pA3-pA1=(Fl*P)*(CA3-CA1)/(Fg*CT)\n",
"//CA3=0.08*PA3-1.6\n",
"inv_Kag_a=inv(kag_a)+HA/(kal_a);\n",
"Gfilm_res=(inv(kag_a))/inv_Kag_a;\n",
"Lfilm_res=(HA/(kal_a))/inv_Kag_a;\n",
"Kag_a=1/inv_Kag_a;\n",
"//d=PA-PA*\n",
"//p=PA-HA*(0.08*PA-1.6);\n",
"d=20;\n",
"h=(Fg/(P*Kag_a))*integrate('1/20','dp',20,100);\n",
"printf('\n The height of the tower required for countercurrent operartions is % f',h)\n",
"printf('m')\n",
""
   ]
   }
,
{
		   "cell_type": "markdown",
		   "metadata": {},
		   "source": [
			"## Example 24.2: TOWERS_FOR_HIGH_CONCENTRATION_OF_LIQUID_REACTANT.sce"
		   ]
		  },
  {
"cell_type": "code",
	   "execution_count": null,
	   "metadata": {
	    "collapsed": true
	   },
	   "outputs": [],
"source": [
"clear\n",
"clc\n",
"Fg=10^5;\n",
"P=10^5;\n",
"Fg_by_Acs=10^5;//(Fg/Acs)\n",
"PA1=20;PA2=100;\n",
"kag_a=0.32;\n",
"//rA=kag_a*P\n",
"//Height of Tower\n",
"//h=((Fg/Acs)*integral(dPA/rA))/P\n",
"h=(Fg_by_Acs/P)*integrate('1/(0.32*PA)','PA',PA1,PA2);\n",
"printf('\n The height of the tower is %f ',h)\n",
"printf('m')"
   ]
   }
,
{
		   "cell_type": "markdown",
		   "metadata": {},
		   "source": [
			"## Example 24.3: TOWERS_FOR_LOW_CONCENTRATION_OF_LIQUID_REACTANT_CASE_A.sce"
		   ]
		  },
  {
"cell_type": "code",
	   "execution_count": null,
	   "metadata": {
	    "collapsed": true
	   },
	   "outputs": [],
"source": [
"clear\n",
"clc\n",
"Fg=10^5;\n",
"P=10^5;\n",
"PA1=20;PA2=100;\n",
"HA=12.5;\n",
"kaga=0.32;kla=0.1;\n",
"//CB=(420-PA3)/12.5;\n",
"//rA=((HA*CB)+pA)/((1/kaga)+(HA/kla))\n",
"rA=420/((1/kaga)+(HA/kla));\n",
"h=(Fg/P)*integrate('1/rA','PA',PA1,PA2);\n",
"printf('The height of the tower is %f',h)\n",
"printf('m')"
   ]
   }
,
{
		   "cell_type": "markdown",
		   "metadata": {},
		   "source": [
			"## Example 24.4: TOWERS_FOR_INTERMEDIATE_CONCENTRATIONS_OF_LIQUID_REACTANT.sce"
		   ]
		  },
  {
"cell_type": "code",
	   "execution_count": null,
	   "metadata": {
	    "collapsed": true
	   },
	   "outputs": [],
"source": [
"clear\n",
"clc\n",
"//Using material balance,we have\n",
"//PA3=1620-12.5*CB3\n",
"PA1=20;PA2=100;//Pa\n",
"Fg_by_Acs=10^5;\n",
"P=10^5;\n",
"HA=12.5;\n",
"kaga=0.32;kla=0.1;\n",
"//Form of rate eqn changes at PA=39.5 Pa\n",
"PA=39.5;//Pa\n",
"//h=((Fg/Acs)*integral(dPA/rA))/P\n",
"h=(Fg_by_Acs/P)*(integrate('1/(kaga*P)','P',PA1,PA)+integrate('((1/kaga)+(HA/kla))/1620','PA',PA,PA2));\n",
"printf('The height of the tower is %f',h)\n",
"printf('m')"
   ]
   }
,
{
		   "cell_type": "markdown",
		   "metadata": {},
		   "source": [
			"## Example 24.5: REDO_EXAMPLE_24_2_BY_THE_GENERAL_METHOD.sce"
		   ]
		  },
  {
"cell_type": "code",
	   "execution_count": null,
	   "metadata": {
	    "collapsed": true
	   },
	   "outputs": [],
"source": [
"clear\n",
"clc\n",
"Fg=10^5;\n",
"P=10^5;\n",
"Fg_by_Acs=10^5;//(Fg/Acs)\n",
"PA1=20;PA2=100;\n",
"kag_a=0.32;\n",
"//Height of Tower\n",
"//h=((Fg/Acs)*integral(dPA/rA))/P\n",
"//rA=(1/(3.125+125/E))*PA;\n",
"//Taking E=infinity,rA=pA/3.125\n",
"h=(Fg_by_Acs/P)*integrate('1/(PA/3.125)','PA',PA1,PA2);\n",
"printf('\n The height of the tower is %f ',h)\n",
"printf('m')"
   ]
   }
,
{
		   "cell_type": "markdown",
		   "metadata": {},
		   "source": [
			"## Example 24.6: REACTION_OF_A_BATCH_OF_LIQUID.sce"
		   ]
		  },
  {
"cell_type": "code",
	   "execution_count": null,
	   "metadata": {
	    "collapsed": true
	   },
	   "outputs": [],
"source": [
"clear\n",
"clc\n",
"kag_a=0.72;\n",
"kal_a=144;\n",
"HA=1000;\n",
"Fg=9000;//mol/hr\n",
"fl=0.9;b=1;\n",
"Vr=1.62;//m3\n",
"DA=3.6*10^-6;//m2/hr\n",
"a=100;//m2/m3\n",
"k=2.6*10^5;//m3/mol.hr\n",
"DB=DA;\n",
"P=10^5;PA=1000;//Pa\n",
"kal=kal_a/a;\n",
"//At the start\n",
"CBo=555.6;\n",
"Mh=(sqrt(DB*k*CBo))/kal;\n",
"//Min value of EAi\n",
"Ei=1+(CBo*HA/PA);\n",
"if Ei>Mh\n",
"    E=Mh;\n",
"end\n",
"rA1=PA/((P*Vr/Fg)+(1/kag_a)+(HA/(kal_a*E))+(HA/(k*fl*CBo)));\n",
"//At the end\n",
"CBf=55.6;\n",
"Mh=(sqrt(DB*k*CBf))/kal;\n",
"//Min value of EAi\n",
"Ei=1+(CBf*HA/PA);\n",
"if Ei>Mh\n",
"    E=Mh;\n",
"end\n",
"rA2=PA/((P*Vr/Fg)+(1/kag_a)+(HA/(kal_a*E))+(HA/(k*fl*CBf)));\n",
"//Average rate of reaction\n",
"rA_avg=(rA1+rA2)/2;\n",
"t=(fl/b)*integrate('1/rA_avg','CB',CBf,CBo);\n",
"printf('\n Part a')\n",
"printf('\n The run time needed is %f',t)\n",
"printf('hr')\n",
"//The min time required is\n",
"tmin=Vr*(CBo-CBf)/(Fg*(PA/(P-PA)));\n",
"printf('\n The minimum time required is %f',tmin)\n",
"printf('hr')\n",
"//Fraction of reactant which passes through the tank unreacted is\n",
"f=(t-tmin)/tmin;\n",
"printf('\n Part b')\n",
"printf('\n Fraction of reactant which passes through the tank unreacted is %f',f)"
   ]
   }
],
"metadata": {
		  "kernelspec": {
		   "display_name": "Scilab",
		   "language": "scilab",
		   "name": "scilab"
		  },
		  "language_info": {
		   "file_extension": ".sce",
		   "help_links": [
			{
			 "text": "MetaKernel Magics",
			 "url": "https://github.com/calysto/metakernel/blob/master/metakernel/magics/README.md"
			}
		   ],
		   "mimetype": "text/x-octave",
		   "name": "scilab",
		   "version": "0.7.1"
		  }
		 },
		 "nbformat": 4,
		 "nbformat_minor": 0
}
