{
"cells": [
 {
		   "cell_type": "markdown",
	   "metadata": {},
	   "source": [
       "# Chapter 14: The Tanks In Series Model"
	   ]
	},
{
		   "cell_type": "markdown",
		   "metadata": {},
		   "source": [
			"## Example 14.1: MODIFICATIONS_TO_A_WINERY.sce"
		   ]
		  },
  {
"cell_type": "code",
	   "execution_count": null,
	   "metadata": {
	    "collapsed": true
	   },
	   "outputs": [],
"source": [
"clear\n",
"clc\n",
"//Original and new length(m)\n",
"L1=32;L2=50;\n",
"sigma1=8;\n",
"// For small deviaqtion from plug flow,sigma_sqr is directly proportional to L\n",
"sigma2=sigma1*sqrt(L2/L1);\n",
"printf('\n No of bottles of rose expected is %f',sigma2)"
   ]
   }
,
{
		   "cell_type": "markdown",
		   "metadata": {},
		   "source": [
			"## Example 14.2: A_FABLE_ON_RIVER_POLLUTION.sce"
		   ]
		  },
  {
"cell_type": "code",
	   "execution_count": null,
	   "metadata": {
	    "collapsed": true
	   },
	   "outputs": [],
"source": [
"clear\n",
"clc\n",
"sigma1=14;sigma2=10.5;\n",
"L1=119;\n",
"//spread of curve is directly proportional to sqrt of distance from origin\n",
"L=sigma1^2*L1/(sigma1^2-sigma2^2);\n",
"printf('\n The dumping of toxic phenol must have occured within %f',L)\n",
"printf('miles upstream of cincinnati')"
   ]
   }
,
{
		   "cell_type": "markdown",
		   "metadata": {},
		   "source": [
			"## Example 14.3: F_LOW_MODELS_FROM_RTD_CURVES.sce"
		   ]
		  },
  {
"cell_type": "code",
	   "execution_count": null,
	   "metadata": {
	    "collapsed": true
	   },
	   "outputs": [],
"source": [
"clear\n",
"clc\n",
"vo=1;\n",
"t1=1/6;\n",
"t2=1;\n",
"t3=11/6;\n",
"w=1/10;\n",
"//Ratio of areas of the first 2 peaks\n",
"A2_by_A1=0.5;\n",
"R=A2_by_A1/(1-A2_by_A1);\n",
"//From the location of 1st peak\n",
"V1=(R+1)*vo*t1;\n",
"//From the time between peaks\n",
"V2=(R*vo)*((t2-t1)-(t1));\n",
"//From fig 14.3\n",
"N=1+(2*(t1/w))^2;\n",
"printf('\n The reflux ratio is %f',R)\n",
"printf('\n The volume of 1st tank is %f', V1)\n",
"printf('\n The volume of 2nd tank is %f',V2)\n",
"printf('\n The number of tanks are %f ',N)"
   ]
   }
,
{
		   "cell_type": "markdown",
		   "metadata": {},
		   "source": [
			"## Example 14.4: FINDING_THE_VESSEL_E_CURVE_USING_A_SLOPPY_TRACER_INPUT.sce"
		   ]
		  },
  {
"cell_type": "code",
	   "execution_count": null,
	   "metadata": {
	    "collapsed": true
	   },
	   "outputs": [],
"source": [
"clear\n",
"clc\n",
"//from fig E14.4a\n",
"t2=280;t1=220;\n",
"sigma1_sqr=100;sigma2_sqr=1000;\n",
"dt=t2-t1;\n",
"dsigma_sqr=sigma2_sqr-sigma1_sqr;\n",
"N=dt^2/dsigma_sqr;\n",
"for t=1:200\n",
"//For N tank in series\n",
"E(t)=((t^(N-1))*(N^N)*exp(-t*N/dt))/((factorial(N-1))*(dt^N));\n",
"end\n",
"for i=1:200\n",
"    t(i)=i;\n",
"end\n",
"plot(t,E)\n",
"xlabel('time(sec)')\n",
"ylabel('E(sec^-1)')\n",
"title('Shape of E curve')\n",
""
   ]
   }
],
"metadata": {
		  "kernelspec": {
		   "display_name": "Scilab",
		   "language": "scilab",
		   "name": "scilab"
		  },
		  "language_info": {
		   "file_extension": ".sce",
		   "help_links": [
			{
			 "text": "MetaKernel Magics",
			 "url": "https://github.com/calysto/metakernel/blob/master/metakernel/magics/README.md"
			}
		   ],
		   "mimetype": "text/x-octave",
		   "name": "scilab",
		   "version": "0.7.1"
		  }
		 },
		 "nbformat": 4,
		 "nbformat_minor": 0
}
