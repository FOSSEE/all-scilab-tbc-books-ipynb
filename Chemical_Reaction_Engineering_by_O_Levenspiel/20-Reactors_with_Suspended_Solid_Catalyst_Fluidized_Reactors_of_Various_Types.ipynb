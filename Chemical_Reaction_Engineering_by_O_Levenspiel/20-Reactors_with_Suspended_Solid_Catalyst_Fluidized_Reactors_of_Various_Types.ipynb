{
"cells": [
 {
		   "cell_type": "markdown",
	   "metadata": {},
	   "source": [
       "# Chapter 20: Reactors with Suspended Solid Catalyst Fluidized Reactors of Various Types"
	   ]
	},
{
		   "cell_type": "markdown",
		   "metadata": {},
		   "source": [
			"## Example 20.1: First_Order_Catalytic_Reaction_in_a_BFB.sce"
		   ]
		  },
  {
"cell_type": "code",
	   "execution_count": null,
	   "metadata": {
	    "collapsed": true
	   },
	   "outputs": [],
"source": [
"clear\n",
"clc\n",
"uo=0.3;umf=0.03;//m/s\n",
"vo=0.3*3.14159;//m3/s\n",
"d=2;//m\n",
"db=0.32;//dia of bubble(m)\n",
"emf=0.5;\n",
"W=7000;//kg\n",
"CAo=100;//mol/m3\n",
"D=20*10^-6;//m2/s\n",
"density=2000;//kg/m3\n",
"k=0.8;\n",
"alpha=0.33;\n",
"g=9.8;//m/s2\n",
"//Using bubbling bed model\n",
"//Rise velocity of bubbles\n",
"ubr=0.711*sqrt(g*db);\n",
"ub=uo-umf+ubr;\n",
"delta=uo/ub;\n",
"ef=1-(1-emf)*(1-delta);\n",
"Kbc=4.5*(umf/db)+5.85*(D^0.5)*(g^0.25)/(db^1.25);\n",
"Kce=6.77*sqrt(emf*D*ubr/db^3);\n",
"fb=0.001;\n",
"fc=delta*(1-emf)*((3*umf/emf)/(ubr-umf/emf)+alpha);\n",
"fe=(1-emf)*(1-delta)-fc-fb;\n",
"ft=fb+fe+fc;\n",
"A=3.14*d*d/4;\n",
"Hbfb=W/((density*A)*(1-ef));\n",
"XA=1-inv(exp(fb*k+(1/((1/(delta*Kbc))+1/((fc*k)+(1/((1/(delta*Kce))+(1/(fe*k)))))))*(Hbfb*ft/uo)/ft));\n",
"XA1=100*XA;//in percentage\n",
"printf('\n Part a')\n",
"printf('\n Conversion of reactant is %f ',XA1)\n",
"CA_avg=CAo*XA*vo*density/(k*W);\n",
"printf('\n Part b')\n",
"printf('\n The proper mean concentration(mol/m3) of A seen by solid is %f',CA_avg)\n",
"XA1=1-inv(exp(k*ft*Hbfb/uo));\n",
"printf('\n Part c')\n",
"printf('\n Conversion of reactant for packed bad is %f',XA1)"
   ]
   }
],
"metadata": {
		  "kernelspec": {
		   "display_name": "Scilab",
		   "language": "scilab",
		   "name": "scilab"
		  },
		  "language_info": {
		   "file_extension": ".sce",
		   "help_links": [
			{
			 "text": "MetaKernel Magics",
			 "url": "https://github.com/calysto/metakernel/blob/master/metakernel/magics/README.md"
			}
		   ],
		   "mimetype": "text/x-octave",
		   "name": "scilab",
		   "version": "0.7.1"
		  }
		 },
		 "nbformat": 4,
		 "nbformat_minor": 0
}
