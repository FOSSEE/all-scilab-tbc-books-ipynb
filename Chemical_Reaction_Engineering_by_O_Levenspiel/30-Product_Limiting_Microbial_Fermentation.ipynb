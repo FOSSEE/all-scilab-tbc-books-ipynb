{
"cells": [
 {
		   "cell_type": "markdown",
	   "metadata": {},
	   "source": [
       "# Chapter 30: Product Limiting Microbial Fermentation"
	   ]
	},
{
		   "cell_type": "markdown",
		   "metadata": {},
		   "source": [
			"## Example 30.1: FRUIT_FLY_COCKTAIL.sce"
		   ]
		  },
  {
"cell_type": "code",
	   "execution_count": null,
	   "metadata": {
	    "collapsed": true
	   },
	   "outputs": [],
"source": [
"clear\n",
"clc\n",
"k=sqrt(3);//hr^-1\n",
"n=1;\n",
"V=30;//m3\n",
"CR=0.12;//kgalc/kgsol\n",
"density=1000;//kg/m3\n",
"//CR in kg/m3\n",
"CR=CR*density;\n",
"CR_opt=CR/2;\n",
"alcohol_per=CR_opt*100/density;//PErcentage of alcohol\n",
"printf('\n The Percentage of alchol in cocktail is %f',alcohol_per)\n",
"//From fig 30.4\n",
"kt=1;\n",
"t=kt/k;\n",
"t_opt=2*t;\n",
"v_opt=V/t_opt;\n",
"printf('\n The Optimum feed rate is %f',v_opt)\n",
"printf(' m3/hr')\n",
"//The production rate of alcohol \n",
"FR=v_opt*CR_opt;\n",
"printf('\n The production rate of alcohol is %f ',FR)\n",
"printf(' kgalc/hr')"
   ]
   }
],
"metadata": {
		  "kernelspec": {
		   "display_name": "Scilab",
		   "language": "scilab",
		   "name": "scilab"
		  },
		  "language_info": {
		   "file_extension": ".sce",
		   "help_links": [
			{
			 "text": "MetaKernel Magics",
			 "url": "https://github.com/calysto/metakernel/blob/master/metakernel/magics/README.md"
			}
		   ],
		   "mimetype": "text/x-octave",
		   "name": "scilab",
		   "version": "0.7.1"
		  }
		 },
		 "nbformat": 4,
		 "nbformat_minor": 0
}
