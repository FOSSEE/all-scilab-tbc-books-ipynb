{
"cells": [
 {
		   "cell_type": "markdown",
	   "metadata": {},
	   "source": [
       "# Chapter 9: Temperature and Pressure Effects"
	   ]
	},
{
		   "cell_type": "markdown",
		   "metadata": {},
		   "source": [
			"## Example 9.1: AHr_AT_VARIOUS_TEMPERATURES.sce"
		   ]
		  },
  {
"cell_type": "code",
	   "execution_count": null,
	   "metadata": {
	    "collapsed": true
	   },
	   "outputs": [],
"source": [
"clear\n",
"clc\n",
"//Cp values(J/mol.k) given\n",
"CpA=35;CpB=45;CpR=70;\n",
"T1=25;T2=1025;\n",
"Hr=-50000;\n",
"//Enthalpy balance for 1mol A,1 mol B,2 mol R\n",
"nA=1;nB=1;nR=2;\n",
"dH=nA*CpA*(T1-T2)+nB*CpB*(T1-T2)+(Hr)+nR*CpR*(T2-T1);\n",
"printf('\n dH(J) at temperature 1025C is %f \n',dH)\n",
"if dH>0 then\n",
"    printf('Reaction is Exothermic')\n",
"else\n",
"     printf('Reaction is Endothermic')\n",
"end"
   ]
   }
,
{
		   "cell_type": "markdown",
		   "metadata": {},
		   "source": [
			"## Example 9.2: EQUILIBRIUM_CONVERSION_AT_DIFFERENT_TEMPERATURES.sce"
		   ]
		  },
  {
"cell_type": "code",
	   "execution_count": null,
	   "metadata": {
	    "collapsed": true
	   },
	   "outputs": [],
"source": [
"clear\n",
"clc\n",
"//Standard heat of reaction(J/mol) and Gibbs free energy(J/mol) \n",
"Ho=-75300;Go=-14130;\n",
"R=8.3214;T1=298;\n",
"//With all specific heais alike,dCp=0\n",
"Hr=-Ho;\n",
"K298=exp(-Go/(R*T1));\n",
"//Taking different values of T\n",
"T1=[2;15;25;35;45;55;65;75;85;95];//degree celcius\n",
"T=[278;288;298;308;318;328;338;348;358;368];//kelvin\n",
"for i=1:10\n",
"K=K298*exp((Hr/R)*((1/T(i))-(1/298)));\n",
"XAe(i)=K/(K+1);\n",
"end\n",
"plot(T1,XAe)\n",
"xlabel('Temperature(C)')\n",
"ylabel('XAe')\n",
"disp(' From the graph we see temp must stay below 78 C if conversion of 75% or above is expected')\n",
"\n",
"\n",
""
   ]
   }
,
{
		   "cell_type": "markdown",
		   "metadata": {},
		   "source": [
			"## Example 9.3: CONSTRUCTION_OF_THE_RATE_CONVERSIONTEMPERATURE_CHART_FROM_KINETIC_DATA.sce"
		   ]
		  },
  {
"cell_type": "code",
	   "execution_count": null,
	   "metadata": {
	    "collapsed": true
	   },
	   "outputs": [],
"source": [
"clear\n",
"clc\n",
"//At 338 k\n",
"XA=0.581;\n",
"t=1;//min\n",
"//From ex 9.2 at 65 degree celcius\n",
"XAe=0.89;\n",
"//For a batch reactor,k1t/XAe=-ln(1-XA/Xae)\n",
"k1_338=-(XAe/t)*log(1-(XA/XAe));\n",
"//At 25 degree celcius\n",
"XAe1=0.993;\n",
"T1=338;T2=298;\n",
"R=8.314;\n",
"//At 298 k\n",
"XA1=0.6;\n",
"t1=10;//min\n",
"k1_298=-(XAe1/t1)*log(1-(XA1/XAe1));\n",
"E1=(R*log(k1_338/k1_298))*(T1*T2)/(T1-T2)\n",
"ko=k1_338/(exp(-E1/(R*T1)))\n",
"//k1=ko*exp(-E1/RT)\n",
"//k2=k1/k\n",
"printf('\n The rate constants are k=exp[(75300/RT)-24.7] min-1')\n",
"printf('\n k1=exp[17.2-(48900/RT)] min-1')\n",
"printf('\n k2=exp[41.9-(123800/RT)] min-1 ')"
   ]
   }
,
{
		   "cell_type": "markdown",
		   "metadata": {},
		   "source": [
			"## Example 9.4: PERFORMANCE_FOR_THE_OPTIMAL_TEMPERATURE_PROGRESSION.sce"
		   ]
		  },
  {
"cell_type": "code",
	   "execution_count": null,
	   "metadata": {
	    "collapsed": true
	   },
	   "outputs": [],
"source": [
"clear\n",
"clc\n",
"CAo=4;//mol/litre\n",
"FAo=1000;//mol/min\n",
"//Drawing locus of max rates on conversion-temp graph\n",
"//tgen drawing optimum path for this system\n",
"//integrating graphicaaly,we ger\n",
"A=0.405;//litre/mol.min\n",
"t=CAo*A;\n",
"V=FAo*A;\n",
"printf('\n Part a')\n",
"printf('\n The space time needed is %f',t)\n",
"printf(' min \n The Volume needed is %f',V)\n",
"printf(' litres')"
   ]
   }
,
{
		   "cell_type": "markdown",
		   "metadata": {},
		   "source": [
			"## Example 9.5: OPTIMUM_MIXED_FLOW_REACTOR_PERFORMANCE.sce"
		   ]
		  },
  {
"cell_type": "code",
	   "execution_count": null,
	   "metadata": {
	    "collapsed": true
	   },
	   "outputs": [],
"source": [
"clear\n",
"clc\n",
"//Concentration of A(mol/litre)\n",
"CAo=4;\n",
"//Flow rate of A(mol/min)\n",
"FAo=1000;\n",
"XA=0.8;\n",
"Cp=250;//cal/molA.K\n",
"Hr=18000;//cal/molA\n",
"//Using Xa vs T chart of fig 9.3 at 80% conversion\n",
"//Reaction Rate has the value 0.4 mol/min.litre\n",
"rA=0.4;\n",
"//From the performance eqn for mixed flow,Volume(l) is\n",
"V=FAo*XA/rA;\n",
"printf('\n Part a')\n",
"printf('\n The size of reactor(litres) needed is %f',V)\n",
"slope=Cp/Hr;\n",
"//Using graph\n",
"Qab1=Cp*20;//cal/molA\n",
"Qab=Qab1*1000;//cal/min\n",
"Qab=Qab*0.000070;//KW\n",
"printf('\n Part b')\n",
"printf('\n Heat Duty(KW) of precooler is %f',Qab)\n",
"Qce1=Cp*37;//cal/molA fed\n",
"Qce=Qce1*1000;//cal/min\n",
"Qce=Qce*0.000070;//KW\n",
"printf('\n Heat Duty(KW) of postcooler is %f',Qce)\n",
""
   ]
   }
,
{
		   "cell_type": "markdown",
		   "metadata": {},
		   "source": [
			"## Example 9.6: ADIABATIC_PLUG_FLOW_REACTOR_PERFORMANCE.sce"
		   ]
		  },
  {
"cell_type": "code",
	   "execution_count": null,
	   "metadata": {
	    "collapsed": true
	   },
	   "outputs": [],
"source": [
"clear\n",
"clc\n",
"FAo=1000;//mol/min\n",
"//Drawing trial operating lines with a slope of 1/72 and for each evaluating integral dXA/-rA\n",
"//From graph \n",
"Area=1.72;\n",
"V=FAo*Area;\n",
"printf('\n The volume of adiabatic plug flow reactor is %f',V)\n",
"printf('litres')"
   ]
   }
,
{
		   "cell_type": "markdown",
		   "metadata": {},
		   "source": [
			"## Example 9.7: ADIABATIC_PLUG_FLOW_REACTOR_WITH_RECYCLE_I_Repeat.sce"
		   ]
		  },
  {
"cell_type": "code",
	   "execution_count": null,
	   "metadata": {
	    "collapsed": true
	   },
	   "outputs": [],
"source": [
"clear\n",
"clc\n",
"//Using ex 9.6 and finding optimum recycle area\n",
"FAo=1000;//mol/min\n",
"Area=(0.8-0)*1.5;\n",
"V=FAo*Area;\n",
"printf('\n The volume required is %f',V)\n",
"printf('litre')"
   ]
   }
],
"metadata": {
		  "kernelspec": {
		   "display_name": "Scilab",
		   "language": "scilab",
		   "name": "scilab"
		  },
		  "language_info": {
		   "file_extension": ".sce",
		   "help_links": [
			{
			 "text": "MetaKernel Magics",
			 "url": "https://github.com/calysto/metakernel/blob/master/metakernel/magics/README.md"
			}
		   ],
		   "mimetype": "text/x-octave",
		   "name": "scilab",
		   "version": "0.7.1"
		  }
		 },
		 "nbformat": 4,
		 "nbformat_minor": 0
}
