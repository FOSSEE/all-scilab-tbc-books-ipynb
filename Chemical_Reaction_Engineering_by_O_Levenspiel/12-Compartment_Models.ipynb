{
"cells": [
 {
		   "cell_type": "markdown",
	   "metadata": {},
	   "source": [
       "# Chapter 12: Compartment Models"
	   ]
	},
{
		   "cell_type": "markdown",
		   "metadata": {},
		   "source": [
			"## Example 12.1: BEHAVIOR_OF_A_G_L_CONTACTOR.sce"
		   ]
		  },
  {
"cell_type": "code",
	   "execution_count": null,
	   "metadata": {
	    "collapsed": true
	   },
	   "outputs": [],
"source": [
"clear\n",
"clc\n",
"//First calculating tg and tl from the tracer curves(fig E12.1)\n",
"tg=(8*(9-6)*(0.5)+11*(15-9)*(0.5))/((15-6)*0.5);//sec\n",
"tl=40;//sec\n",
"vg=0.5;vl=0.1;\n",
"Vg=tg*vg;\n",
"Vl=tl*vl;\n",
"//In terms of void fraction\n",
"%G=Vg*10;%L=Vl*10;%Stagnant=(100-%G-%L);\n",
"printf('\n fraction of gas is %f',%G)\n",
"printf('\n fraction of liquid is %f',%L)\n",
"printf('\n fraction of Stangnant liquid is %f',%Stagnant)"
   ]
   }
,
{
		   "cell_type": "markdown",
		   "metadata": {},
		   "source": [
			"## Example 12.2: MISBEHAVING_REACTOR.sce"
		   ]
		  },
  {
"cell_type": "code",
	   "execution_count": null,
	   "metadata": {
	    "collapsed": true
	   },
	   "outputs": [],
"source": [
"clear\n",
"clc\n",
"CAo=1;\n",
"XA=0.75;//present\n",
"CA=1-XA;\n",
"//For mixed flow reactor\n",
"kt1=(CAo-CA)/CA;\n",
"//After new setup\n",
"kt2=3*kt1;//volume is reduced by 1/3\n",
"CA_unconverted=1/(kt2+1);\n",
"XA=1-CA_unconverted;//New XA after replacing the stirrer\n",
"printf('\n New Conversion Expected is %f',XA)"
   ]
   }
],
"metadata": {
		  "kernelspec": {
		   "display_name": "Scilab",
		   "language": "scilab",
		   "name": "scilab"
		  },
		  "language_info": {
		   "file_extension": ".sce",
		   "help_links": [
			{
			 "text": "MetaKernel Magics",
			 "url": "https://github.com/calysto/metakernel/blob/master/metakernel/magics/README.md"
			}
		   ],
		   "mimetype": "text/x-octave",
		   "name": "scilab",
		   "version": "0.7.1"
		  }
		 },
		 "nbformat": 4,
		 "nbformat_minor": 0
}
