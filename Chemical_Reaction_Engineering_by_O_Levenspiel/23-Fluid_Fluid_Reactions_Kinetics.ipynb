{
"cells": [
 {
		   "cell_type": "markdown",
	   "metadata": {},
	   "source": [
       "# Chapter 23: Fluid Fluid Reactions Kinetics"
	   ]
	},
{
		   "cell_type": "markdown",
		   "metadata": {},
		   "source": [
			"## Example 23.1: FINDING_THE_RATE_OF_A_GL_REACTION.sce"
		   ]
		  },
  {
"cell_type": "code",
	   "execution_count": null,
	   "metadata": {
	    "collapsed": true
	   },
	   "outputs": [],
"source": [
"clear\n",
"clc\n",
"k=10^6;\n",
"Kag_a=0.01;fl=0.98;\n",
"Kal=1;\n",
"HA=10^5;\n",
"DAl=10^-6;\n",
"DBl=DAl;\n",
"PA=5*10^3;//Pa\n",
"CB=100;//mol/m3\n",
"b=2;\n",
"a=20;//m2/m3\n",
"Mh=sqrt(DAl*k*CB*CB)/Kal;\n",
"Ei=1+(DBl*CB*HA/(b*DAl*PA));\n",
"E=100;\n",
"printf('\n Part a')\n",
"res_total=(((1/(Kag_a))+(HA/(Kal*a*E))+(HA/(k*CB*CB*fl))));//Total Resistance\n",
"f_gas=(1/(Kag_a))/res_total;//fraction of resistance in gas film\n",
"f_liq=(HA/(Kal*a*E))/res_total;//fraction of resistance in liquid film\n",
"printf('\n Fraction of the resistance in the gas film is %f',f_gas)\n",
"printf('\n Fraction of the resistance in the liquid film is %f',f_liq)\n",
"printf('\n Part b')\n",
"printf('\n The reaction zone is in the liquid film')\n",
"printf('\n Part c')\n",
"if Ei>5*Mh\n",
"     printf('\n We have pseudo 1st order reaction in the film')\n",
"end\n",
"//From fig 23.4\n",
"\n",
"rA=PA/(((1/(Kag_a))+(HA/(Kal*a*E))+(HA/(k*CB*CB*fl))));\n",
"printf('\n Part d')\n",
"printf('\n The rate of reaction(mol/m3.hr) is %f',rA)"
   ]
   }
],
"metadata": {
		  "kernelspec": {
		   "display_name": "Scilab",
		   "language": "scilab",
		   "name": "scilab"
		  },
		  "language_info": {
		   "file_extension": ".sce",
		   "help_links": [
			{
			 "text": "MetaKernel Magics",
			 "url": "https://github.com/calysto/metakernel/blob/master/metakernel/magics/README.md"
			}
		   ],
		   "mimetype": "text/x-octave",
		   "name": "scilab",
		   "version": "0.7.1"
		  }
		 },
		 "nbformat": 4,
		 "nbformat_minor": 0
}
