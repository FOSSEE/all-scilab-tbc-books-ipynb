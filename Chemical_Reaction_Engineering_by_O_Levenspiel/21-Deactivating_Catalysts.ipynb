{
"cells": [
 {
		   "cell_type": "markdown",
	   "metadata": {},
	   "source": [
       "# Chapter 21: Deactivating Catalysts"
	   ]
	},
{
		   "cell_type": "markdown",
		   "metadata": {},
		   "source": [
			"## Example 21.1: EX21_1.sce"
		   ]
		  },
  {
"cell_type": "code",
	   "execution_count": null,
	   "metadata": {
	    "collapsed": true
	   },
	   "outputs": [],
"source": [
"clear\n",
"clc\n",
"t=[0;2;4;6];\n",
"XA=[0.75;0.64;0.52;0.39];\n",
"t1=4000;//kg.s/m3\n",
"density_s=1500;//kg/m3\n",
"De=5*10^-10;\n",
"d=2.4*10^-3;\n",
"//Assuming -rA=kCA*a,-da/dt=kd*a\n",
"//For this rate a plot of ln(CAo/CA-1)vs t should give a straight line\n",
"for i=1:4\n",
"    y(i)=log((1/(1-XA(i)))-1);\n",
"end\n",
"plot(y,t)\n",
"xlabel('t')\n",
"ylabel('ln(CAo/CA-1)')\n",
"//Guessing No Intrusion of Diffusional Resistance\n",
"//ln(CAo/CA-1)=ln(k*t1)-kd*t\n",
"coeff =regress(t,y);\n",
"kd=coeff(2);\n",
"k=exp(coeff(1))/t1;\n",
"L=d/6;\n",
"Mt=L*sqrt(k*density_s/De);\n",
"//Assuming Runs were made in regime of strong resistance to  pore diffusion\n",
"k1=((exp(coeff(1)))^2)*(L^2)*density_s/(t1*t1*De);\n",
"kd1=-2*coeff(2);\n",
"Mt=L*sqrt(k1*density_s/De);\n",
"printf('\n Rate equation(mol/kg.s) in diffusion free regime with deactivation is %f ',k1)\n",
"printf('CA*a with \n -da/dt(hr-1) is %f',kd1)\n",
"printf('a')\n",
"//In strong pore diffusion\n",
"k2=k1*sqrt(De/(k1*density_s));\n",
"printf('\n Rate equation(mol/kg.s) in strong pore diffusion resistance regime with deactivation is %f ',k2)\n",
"printf('CA*a^0.5/L with \n -da/dt(hr-1) is %f',kd1)\n",
"printf('a')\n",
"\n",
"\n",
"\n",
""
   ]
   }
,
{
		   "cell_type": "markdown",
		   "metadata": {},
		   "source": [
			"## Example 21.2: DEACTIVATION_IN_A_PACKED_BED_REACTOR.sce"
		   ]
		  },
  {
"cell_type": "code",
	   "execution_count": null,
	   "metadata": {
	    "collapsed": true
	   },
	   "outputs": [],
"source": [
"clear\n",
"clc\n",
"PAo=3;//atm\n",
"R=82.06*10^-6;//m3.atm/mol.k\n",
"T=730;//k\n",
"W=1000;//kg\n",
"FAo=5000;//mol/hr\n",
"CAo=PAo/(R*T);\n",
"tau=W*CAo/FAo;\n",
"i=0;\n",
"for t=0:5:120\n",
"    i=i+1;\n",
" //Part a\n",
"a(i)=1-(8.3125*10^-3)*t;\n",
"XA(i)=(tau^2)*a(i)/(1+(tau^2)*a(i));\n",
"//Part b\n",
"a1(i)=exp(-0.05*t);\n",
"XA1(i)=(tau^2)*a1(i)/(1+(tau^2)*a1(i));\n",
"//Part c\n",
"a2(i)=1/(1+3.325*t);\n",
"XA2(i)=(tau^2)*a2(i)/(1+(tau^2)*a2(i));\n",
"//Part d\n",
"a3(i)=1/(sqrt(1+1333*t));\n",
"XA3(i)=(tau^2)*a3(i)/(1+(tau^2)*a3(i));\n",
"end\n",
"t=[0:5:120];\n",
"plot(t,XA,t,XA1,t,XA2,t,XA3)\n",
"xlabel('Time(days)')\n",
"ylabel('XA')\n",
"legend('Zero Order','1st Order','2nd Order','3rd Order');\n",
"XA_avg=(1/120)*integrate('(100*(1-(8.3125*10^-3)*t))/(1+100*(1-(8.3125*10^-3)*t))','t',0,120);\n",
"XA1_avg=(1/120)*integrate('(100*exp(-0.05*t))/(1+100*exp(-0.05*t))','t',0,120);\n",
"XA2_avg=(1/120)*integrate('(100*(1/(1+3.325*t)))/(1+100*(1/(1+3.325*t)))','t',0,120);\n",
"XA3_avg=(1/120)*integrate('(100*1/(sqrt(1+1333*t)))/(1+100*(1/sqrt(1+1333*t)))','t',0,120);\n",
"printf('\n for d=0,the mean conversion is % f',XA_avg)\n",
"printf('\n for d=1,the mean conversion is % f',XA1_avg)\n",
"printf('\n for d=2,the mean conversion is % f',XA2_avg)\n",
"printf('\n for d=3,the mean conversion is % f',XA3_avg)\n",
""
   ]
   }
],
"metadata": {
		  "kernelspec": {
		   "display_name": "Scilab",
		   "language": "scilab",
		   "name": "scilab"
		  },
		  "language_info": {
		   "file_extension": ".sce",
		   "help_links": [
			{
			 "text": "MetaKernel Magics",
			 "url": "https://github.com/calysto/metakernel/blob/master/metakernel/magics/README.md"
			}
		   ],
		   "mimetype": "text/x-octave",
		   "name": "scilab",
		   "version": "0.7.1"
		  }
		 },
		 "nbformat": 4,
		 "nbformat_minor": 0
}
