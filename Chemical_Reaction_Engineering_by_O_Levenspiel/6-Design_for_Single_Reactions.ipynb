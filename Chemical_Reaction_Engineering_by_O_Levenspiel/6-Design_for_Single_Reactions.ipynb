{
"cells": [
 {
		   "cell_type": "markdown",
	   "metadata": {},
	   "source": [
       "# Chapter 6: Design for Single Reactions"
	   ]
	},
{
		   "cell_type": "markdown",
		   "metadata": {},
		   "source": [
			"## Example 6.1: Operating_a_number_of_plug_flow_reactors.sce"
		   ]
		  },
  {
"cell_type": "code",
	   "execution_count": null,
	   "metadata": {
	    "collapsed": true
	   },
	   "outputs": [],
"source": [
"clear\n",
"clc\n",
"V1=50;V2=30;V3=40;\n",
"//Branch D consists of 2 reactor in series,can be considered a single reactor of volume\n",
"VD=V1+V2;\n",
"VE=V3;\n",
"//For Reactor in parallel,V/F must be same for same conversion\n",
"//FE/FD=VE/VD;FD/F=1/(1+VE/VD)\n",
"m=VE/VD\n",
"fr_D=1/(1+m);\n",
"printf('\n Fraction of feed going to branch D is %f \n',fr_D)\n",
""
   ]
   }
,
{
		   "cell_type": "markdown",
		   "metadata": {},
		   "source": [
			"## Example 6.2: Mixed_flow_reactor_in_series.sce"
		   ]
		  },
  {
"cell_type": "code",
	   "execution_count": null,
	   "metadata": {
	    "collapsed": true
	   },
	   "outputs": [],
"source": [
"clear\n",
"clc\n",
"//For single reactor and 90% Conversion \n",
"//From fig 6.6\n",
"kCot=90;\n",
"//For 2 reactor space time is doubled and from fig\n",
"kCot=180;\n",
"//From graph X=97.4%\n",
"X=97.4;\n",
"printf('\n Part a')\n",
"printf('\n The conversion in percentage is %f \n',X)\n",
"//For 90% Conversion & N=2.from graph\n",
"kCot=27.5;\n",
"//Comparing the reaction rate group for N=1 and N=2,We get\n",
"//(V2/v2)/(V1/v1)=27.5/90\n",
"//V2=2V1\n",
"//Ratio of flow rates\n",
"ratio=90*2/27.5;\n",
"printf('\n Part b')\n",
"printf('\n Treatment rate can be increased by  %f \n',ratio)"
   ]
   }
,
{
		   "cell_type": "markdown",
		   "metadata": {},
		   "source": [
			"## Example 6.3: Finding_the_best_reactor_set_up.sce"
		   ]
		  },
  {
"cell_type": "code",
	   "execution_count": null,
	   "metadata": {
	    "collapsed": true
	   },
	   "outputs": [],
"source": [
"clear\n",
"clc\n",
"CAo=[2;5;6;6;11;14;16;24];//mmol/m3\n",
"CA=[0.5;3;1;2;6;10;8;4];//mmol/m3\n",
"t=[30;1;50;8;4;20;20;4];//min\n",
"vo=0.1;//m3/min\n",
"for i=1:8\n",
"    inv_rA(i)=t(i)/(CAo(i)-CA(i));\n",
"end\n",
"//Sorting CA and accordingly changing -1/rA for plotting graph between CA and -1/rA\n",
"for i=1:8\n",
"    for j=i:8\n",
"        if CA(i)>CA(j)\n",
"        temp=CA(i);\n",
"        CA(i)=CA(j);\n",
"        CA(j)=temp;\n",
"        temp1=inv_rA(i);\n",
"        inv_rA(i)=inv_rA(j);\n",
"        inv_rA(j)=temp1;\n",
"        end\n",
"    end\n",
"end\n",
"plot(CA,inv_rA)\n",
"xlabel('CA(mmol/m3)');ylabel('-1/rA(m3.min/m mol)');\n",
"disp('From the graph,we can see that we should use plug flow with recycle')\n",
"//From fig\n",
"CAin=6.6;//mmol/m3\n",
"R=(10-6.6)/(6.6-1);\n",
"//V=t*vo=area*vo\n",
"V=(10-1)*1.2*vo;\n",
"vr=vo*R;\n",
"printf('\n Part a')\n",
"printf('\n  The vol of reactor is %f',V)\n",
"printf('m3 \n The recycle flow rate is %f',vr)\n",
"printf('m3/min')\n",
"//Part b,from fig\n",
"t=(10-1)*10;\n",
"t1=(10-2.6)*0.8;\n",
"t2=(2.6-1)*10;\n",
"//For 1  tank\n",
"V=t*vo;\n",
"//For  2 tank\n",
"V1=t1*vo;\n",
"V2=t2*vo;\n",
"Vt=V1+V2;\n",
"printf('\n Part b')\n",
"printf('\n For 1 tank volume is %f',V)\n",
"printf('m3 \n For 2 tank the volume is %f',Vt)\n",
"printf('m3')\n",
"printf('\n Part c')\n",
"disp('We should use mixed flow followed by plug flow')\n",
"//For MFR\n",
"tm=(10-4)*0.2;\n",
"Vm=tm*vo;\n",
"//For PFR\n",
"tp=5.8;//by graphical integration\n",
"Vp=tp*vo;\n",
"Vtotal=Vp+Vm;\n",
"printf('\n For MFR volume(m3) is %f',Vm)\n",
"printf('\n For PFR volume(m3) is %f',Vp)\n",
"printf('\n Total volume is %f',Vtotal)\n",
"printf('m3')"
   ]
   }
],
"metadata": {
		  "kernelspec": {
		   "display_name": "Scilab",
		   "language": "scilab",
		   "name": "scilab"
		  },
		  "language_info": {
		   "file_extension": ".sce",
		   "help_links": [
			{
			 "text": "MetaKernel Magics",
			 "url": "https://github.com/calysto/metakernel/blob/master/metakernel/magics/README.md"
			}
		   ],
		   "mimetype": "text/x-octave",
		   "name": "scilab",
		   "version": "0.7.1"
		  }
		 },
		 "nbformat": 4,
		 "nbformat_minor": 0
}
