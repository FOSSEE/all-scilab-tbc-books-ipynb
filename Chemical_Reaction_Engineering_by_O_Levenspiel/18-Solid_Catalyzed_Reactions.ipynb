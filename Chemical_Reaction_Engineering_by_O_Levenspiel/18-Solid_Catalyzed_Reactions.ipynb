{
"cells": [
 {
		   "cell_type": "markdown",
	   "metadata": {},
	   "source": [
       "# Chapter 18: Solid Catalyzed Reactions"
	   ]
	},
{
		   "cell_type": "markdown",
		   "metadata": {},
		   "source": [
			"## Example 18.1: SEARCH_OF_THE_RATE_CONTROLLING_MECHANISM.sce"
		   ]
		  },
  {
"cell_type": "code",
	   "execution_count": null,
	   "metadata": {
	    "collapsed": true
	   },
	   "outputs": [],
"source": [
"clear\n",
"clc\n",
"dp=2.4*(10^-3);L=dp/6;\n",
"//Effective mass conductivity(m3/hr.mcat)\n",
"De=5*10^-5;\n",
"//Effective thermal conductivity(KJ/hr.mcat.K)\n",
"Keff=1.6;\n",
"//For the gas film surrounding the pellet\n",
"h=160;//heat transfer coefficient(KJ/hr.m2cat.K)\n",
"kg=300;//mass transfer coefficient(m3/hr.m2cat)\n",
"//For the reaction\n",
"Hr=-160;//KJ/molA\n",
"CAg=20;//mol/m3\n",
"rA_obs=10^5;//mol/hr.m3cat\n",
"kobs=rA_obs/CAg;\n",
"Vp=3.14*(dp^3)/6;\n",
"S=3.14*(dp^2);\n",
"//Observed rate/rate if film resistance controls\n",
"ratio=kobs*Vp/(kg*S);\n",
"printf('\n Part a')\n",
"if ratio<0.01 \n",
"    printf('\n Resistance to mass transport to film should not influence rate of reaction')\n",
"else\n",
"      printf('\n Resistance to mass transport to film should influence rate of reaction')\n",
"end\n",
"printf('\n Part b')\n",
"\n",
"Mw=rA_obs*(L^2)/(De*CAg);\n",
"printf('\n Mw= %f',Mw)\n",
"if Mw>4\n",
"  printf('\n Pore diffusion is influencing and hence strong pore diffusion')\n",
"else\n",
"      printf('\n Pore diffusion is  not influencing and hence weak pore diffuusion')\n",
"end\n",
"//Temp variation within pellet\n",
"dt_max_pellet=De*(CAg-0)*(-Hr)/Keff;\n",
"//Temp variation Across the gas film\n",
"dt_max_film=L*rA_obs*(-Hr)/h;\n",
"printf('\n Part c')\n",
"printf('\n dTmax,pellet is %f',dt_max_pellet)\n",
"printf(' degree C \n dTmax,film is %f',dt_max_film)\n",
"printf(' degree C')\n",
"if dt_max_pellet<1\n",
"    printf('\n Pellet is close to uniform in temperature')\n",
"else\n",
"    printf('\n There is a variation in temp within pellet')\n",
"    end\n",
"    if dt_max_film<1\n",
"    printf('\n Film is close to uniform in temperature')\n",
"else\n",
"    printf('\n There is a variation in temp within Film')\n",
"\n",
"end"
   ]
   }
,
{
		   "cell_type": "markdown",
		   "metadata": {},
		   "source": [
			"## Example 18.2: THE_RATE_EQUATION_FROM_A_DIFFERENTIAL_REACTOR.sce"
		   ]
		  },
  {
"cell_type": "code",
	   "execution_count": null,
	   "metadata": {
	    "collapsed": true
	   },
	   "outputs": [],
"source": [
"clear\n",
"clc\n",
"//Pressure(atm)\n",
"PAo=3.2;\n",
"R=0.082;//litre.atm/mol.k\n",
"T=390;//k\n",
"v=20;//litre/hr\n",
"W=0.01;///kg\n",
"CA_in=[0.1;0.08;0.06;0.04];\n",
"CA_out=[0.084;0.07;0.055;0.038];\n",
"CAo=PAo/(R*T);\n",
"FAo=CAo*v;\n",
"eA=3;\n",
"for i=1:4\n",
"XA_in(i)=(1-CA_in(i)/CAo)/(1+eA*CA_in(i)/CAo);\n",
"XA_out(i)=(1-CA_out(i)/CAo)/(1+eA*CA_out(i)/CAo);\n",
"dXA(i)=XA_out(i)-XA_in(i);\n",
"rA(i)=dXA(i)/(W/FAo);\n",
"CA_avg(i)=(CA_in(i)+CA_out(i))/2;\n",
"end\n",
"plot(CA_avg,rA)\n",
"xlabel('CA(mol/litre)')\n",
"ylabel('-rA(mol/hr.kg)')\n",
"coeff1=regress(CA_avg,rA)\n",
"k=coeff1(2)\n",
"printf('\n The rate of reaction(mol/hr.kg) is %f',k)\n",
"printf('CA')\n",
"disp('The answer slightly differs from those given in book as regress fn is used for calculating slope and intercept')"
   ]
   }
,
{
		   "cell_type": "markdown",
		   "metadata": {},
		   "source": [
			"## Example 18.3: THE_RATE_EQUATION_FROM_AN_INTEGRAL_REACTOR.sce"
		   ]
		  },
  {
"cell_type": "code",
	   "execution_count": null,
	   "metadata": {
	    "collapsed": true
	   },
	   "outputs": [],
"source": [
"clear\n",
"clc\n",
"CAo=0.1;//mol/litre\n",
"FAo=2;//mol/hr\n",
"eA=3;\n",
"CA=[0.074;0.06;0.044;0.029];//mol/litre\n",
"W=[0.02;0.04;0.08;0.16];//kg\n",
"//Gussing 1st order,plug flow rxn\n",
"//(1+eA)*log(1/(1-XA))-eA*XA=k*(CAo*W/FAo)\n",
"for i=1:4\n",
"XA(i)=(CAo-CA(i))/(CAo+eA*CA(i));\n",
"y(i)=(1+eA)*log(1/(1-XA(i)))-eA*XA(i);\n",
"x(i)=CAo*W(i)/FAo;\n",
"W_by_FAo(i)=W(i)/FAo;\n",
"CAout_by_CAo(i)=CA(i)/CAo;\n",
"XA1(i)=(1-CAout_by_CAo(i))/(1+eA*CAout_by_CAo(i));\n",
"end\n",
"plot(x,y)\n",
"coeff3=regress(x,y);\n",
"xlabel('CAoW/FAo'),ylabel('4ln(1/1-XA)-3XA')\n",
"k=coeff3(2);\n",
"printf('\n Part a,using integral method of analysis')\n",
"printf('\n The rate of reaction(mol/litre) is %f',k)\n",
"printf('CA')\n",
"//Part b\n",
"//plotting W_by_FAo vs XA1,the calculating rA=dXA/d(W/FAo) for last 3 points,we get\n",
"rA=[5.62;4.13;2.715];\n",
"coeff2=regress(CA(2:4),rA);\n",
"printf('\n Part b,using differential method of analysis')\n",
"printf('\n The rate of reaction(mol/litre) is %f',coeff2(2))\n",
"printf('CA')\n",
"\n",
""
   ]
   }
,
{
		   "cell_type": "markdown",
		   "metadata": {},
		   "source": [
			"## Example 18.4: PLUG_FLOW_REACTOR_SIZE_FROM_A_RATE_EQUATION.sce"
		   ]
		  },
  {
"cell_type": "code",
	   "execution_count": null,
	   "metadata": {
	    "collapsed": true
	   },
	   "outputs": [],
"source": [
"clear\n",
"clc\n",
"XA=0.35;\n",
"FAo=2000;//mol/hr\n",
"eA=3;k=96;\n",
"CAo=0.1;\n",
"W=((1+eA)*log(1/(1-XA))-eA*XA)*(FAo/(k*CAo));\n",
"printf('\n The amount of catalyst(kg) needed in a packed bed reactor is %f',W)"
   ]
   }
,
{
		   "cell_type": "markdown",
		   "metadata": {},
		   "source": [
			"## Example 18.5: PLUG_FLOW_REACTOR_SIZE_FROM_RATE_CONCENTRATION_DATA.sce"
		   ]
		  },
  {
"cell_type": "code",
	   "execution_count": null,
	   "metadata": {
	    "collapsed": true
	   },
	   "outputs": [],
"source": [
"clear\n",
"clc\n",
"CAo=0.1;\n",
"eA=3;\n",
"rA=[3.4;5.4;7.6;9.1];\n",
"CA=[0.039;0.0575;0.075;0.092];\n",
"XA=zeros(4,1);\n",
"inv_rA=zeros(4,1);\n",
"for i=1:4\n",
"XA(i)=(1-CA(i)/CAo)/(1+eA*CA(i)/CAo);\n",
"inv_rA(i)=1/rA(i);\n",
"end\n",
"//W=FAo*integral(dXA/-rA) from 0 to 0.35\n",
"//Using Trapezoidal rule to find area,XA must be in increasing order\n",
"//Sorting XA and accordingly inv_rA\n",
"for i=1:4\n",
"    small=XA(i);\n",
"    for j=i:4\n",
"        next=XA(j);\n",
"        if small>next\n",
"            temp=XA(i);\n",
"            XA(i)=XA(j);\n",
"            XA(j)=temp;\n",
"            temp1=inv_rA(i);\n",
"            inv_rA(i)=inv_rA(j);\n",
"            inv_rA(j)=temp1;\n",
"        end\n",
"    end\n",
"end\n",
"plot(XA,inv_rA)\n",
"xlabel('XA');ylabel('-1/rA');\n",
"//extending points to include XA=0.35\n",
"XA(5)=0.35;inv_rA(5)=0.34;\n",
"Area=inttrap(XA,inv_rA);\n",
"W=Area*2000;\n",
"printf('Amount of catalyst needed(kg) is %f',W)\n",
"disp('The answer slightly differs from those given in book as trapezoidal rule is used for calculating area')"
   ]
   }
,
{
		   "cell_type": "markdown",
		   "metadata": {},
		   "source": [
			"## Example 18.6: MIXED_FLOW_REACTOR_SIZE.sce"
		   ]
		  },
  {
"cell_type": "code",
	   "execution_count": null,
	   "metadata": {
	    "collapsed": true
	   },
	   "outputs": [],
"source": [
"clear\n",
"clc\n",
"XA=0.35;\n",
"FAo=2000;//mol/hr\n",
"CAo=0.1//mol/litre\n",
"eA=3;k=96;\n",
"CA=CAo*((1-XA)/(1+eA*XA))\n",
"rA=k*CA;\n",
"//For mixed flow\n",
"W=FAo*XA/rA;\n",
"printf('The amount of catalyst needed(kg) is %f',W)"
   ]
   }
,
{
		   "cell_type": "markdown",
		   "metadata": {},
		   "source": [
			"## Example 18.7: MASS_TRANSFER_RESISTANCES.sce"
		   ]
		  },
  {
"cell_type": "code",
	   "execution_count": null,
	   "metadata": {
	    "collapsed": true
	   },
	   "outputs": [],
"source": [
"clear\n",
"clc\n",
"printf('Its a theorotical qn')"
   ]
   }
],
"metadata": {
		  "kernelspec": {
		   "display_name": "Scilab",
		   "language": "scilab",
		   "name": "scilab"
		  },
		  "language_info": {
		   "file_extension": ".sce",
		   "help_links": [
			{
			 "text": "MetaKernel Magics",
			 "url": "https://github.com/calysto/metakernel/blob/master/metakernel/magics/README.md"
			}
		   ],
		   "mimetype": "text/x-octave",
		   "name": "scilab",
		   "version": "0.7.1"
		  }
		 },
		 "nbformat": 4,
		 "nbformat_minor": 0
}
