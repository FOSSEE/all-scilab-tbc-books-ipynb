{
"cells": [
 {
		   "cell_type": "markdown",
	   "metadata": {},
	   "source": [
       "# Chapter 19: The Packed Bed Catalytic Reactor"
	   ]
	},
{
		   "cell_type": "markdown",
		   "metadata": {},
		   "source": [
			"## Example 19.1: DESIGN_OF_A_SINGLE_ADIABATIC_PACKED_BED_SYSTEM.sce"
		   ]
		  },
  {
"cell_type": "code",
	   "execution_count": null,
	   "metadata": {
	    "collapsed": true
	   },
	   "outputs": [],
"source": [
"clear\n",
"clc\n",
"Cp=40;//J/mol.k\n",
"Hr=80000;//J/mol.k\n",
"FAo=100;//mol/s\n",
"nA=1;nB=7;\n",
"n=nA+nB;\n",
"T1=300;//k\n",
"T2=600;//k\n",
"T3=800;//k\n",
"//Slope of adiabatic is\n",
"m=Cp/Hr;\n",
"//Drawing various adiabatics on graph given in Fig 19.11,we get\n",
"XA=[0.8;0.78;0.7;0.66;0.5;0.26;0.1;0];\n",
"inv_rA=[20;10;5;4.4;5;10;20;33];\n",
"plot(XA,inv_rA)\n",
"xlabel('XA');ylabel('inv_rA');\n",
"disp('From the plot we can say that a recycle reactor should be used')\n",
"W=FAo*XA(1)*6;\n",
"//From Plot\n",
"R=1;\n",
"Q1=n*FAo*Cp*(T2-T1);\n",
"Q2=n*FAo*Cp*(T1-T3);\n",
"printf('\n The weight of catalyst needed is % f',W)\n",
"printf(' kg \n The Recycle Ratio is %f',R)\n",
"printf('\n The heat exchange for feed is %f',Q1/10^6)\n",
"printf(' MW \n The heat excahnge for the product is %f',Q2/10^6)\n",
"printf(' MW')"
   ]
   }
,
{
		   "cell_type": "markdown",
		   "metadata": {},
		   "source": [
			"## Example 19.2: DESIGN_OF_A_TWO_ADIABATIC_PACKED_BED_SYSTEM.sce"
		   ]
		  },
  {
"cell_type": "code",
	   "execution_count": null,
	   "metadata": {
	    "collapsed": true
	   },
	   "outputs": [],
"source": [
"clear\n",
"clc\n",
"Cp=40;\n",
"Hr=80000;\n",
"m=Cp/Hr;\n",
"FAo=100;//mol/s\n",
"//Drawing various adiabatics on graph given in Fig 19.11,\n",
"//We see from fig E 19.2 a ,that this gives very shallow adiabatic,As rate continually increase as you move along htis adiabatic\n",
"disp('We should use a mixed flow reactor operating at optimum')\n",
"XA=[0.85;0.785;0.715;0.66;0.58;0.46];\n",
"inv_rAopt=[20;10;5;3.6;2;1];\n",
"plot(XA,inv_rAopt)\n",
"xlabel('XA');ylabel('rA^-1');\n",
"//Using method of maximization of rectangles\n",
"area1=0.66*3.6;\n",
"area2=(0.85-0.66)*20;\n",
"W1=FAo*area1;\n",
"W2=FAo*area2;\n",
"printf('\n The weight of catalyst needed for 1st bed is %f',W1)\n",
"printf('kg \n The weight of catalyst needed for 2ndbed is %f',W2)\n",
"printf('kg')\n",
"//Heat exchange\n",
"//For the first reactor\n",
"//To go to 66% conversion at 820 degree C,the amount of heat needed per mol of A is\n",
"Q=(820-300)*Cp+0.66*(-Hr);\n",
"//For 100 mol/s\n",
"Q1= FAo*Q/10^6;//MW\n",
"printf('\n The amount of heat exchanged for 1st reactor is %f',Q1)\n",
"printf('MW')\n",
"//For 2nd reactor\n",
"//To go from XA=0.66 at 820 k to XA=0.85 at 750 k\n",
"Q2=FAo*((750-820)*Cp+(0.85-0.66)*(-Hr));\n",
"Q2=Q2/10^6;\n",
"printf('\n The amount of heat exchanged for 2nd reactor is %f',Q2)\n",
"printf('MW')\n",
"//For the exchanger needed to cool the exit stream from 750 k to 300 k\n",
"Q3=FAo*Cp*(300-750);\n",
"Q3=Q3/10^6;//MW\n",
"printf('\n The amount of heat exchanged for exchanger is %f',Q3)\n",
"printf('MW')\n",
""
   ]
   }
],
"metadata": {
		  "kernelspec": {
		   "display_name": "Scilab",
		   "language": "scilab",
		   "name": "scilab"
		  },
		  "language_info": {
		   "file_extension": ".sce",
		   "help_links": [
			{
			 "text": "MetaKernel Magics",
			 "url": "https://github.com/calysto/metakernel/blob/master/metakernel/magics/README.md"
			}
		   ],
		   "mimetype": "text/x-octave",
		   "name": "scilab",
		   "version": "0.7.1"
		  }
		 },
		 "nbformat": 4,
		 "nbformat_minor": 0
}
