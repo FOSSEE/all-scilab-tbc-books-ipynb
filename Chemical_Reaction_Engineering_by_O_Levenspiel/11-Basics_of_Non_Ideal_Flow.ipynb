{
"cells": [
 {
		   "cell_type": "markdown",
	   "metadata": {},
	   "source": [
       "# Chapter 11: Basics of Non Ideal Flow"
	   ]
	},
{
		   "cell_type": "markdown",
		   "metadata": {},
		   "source": [
			"## Example 11.1: FINDING_THE_RTD_BY_EXPERIMENT.sce"
		   ]
		  },
  {
"cell_type": "code",
	   "execution_count": null,
	   "metadata": {
	    "collapsed": true
	   },
	   "outputs": [],
"source": [
"clear\n",
"clc\n",
"//Given Time(min) and Tracer Output Concentration(g/litre)\n",
"T=[0;5;10;15;20;25;30;35];\n",
"Cpulse=[0;3;5;5;4;2;1;0];\n",
"dt=5;\n",
"//Mean Residence time(t)\n",
"sum1=0;\n",
"sum2=0;\n",
"Area=0;//Initialization\n",
"for i=1:8\n",
"sum1=sum1+T(i)*Cpulse(i)*dt;\n",
"sum2=sum2+Cpulse(i)*dt;\n",
"//Area Under Concentration-Time Curve\n",
"Area=Area+Cpulse(i)*dt;\n",
"end\n",
"t=sum1/sum2;\n",
"printf('\n The mean residence time(min) is %f \n',t)\n",
"for j=1:8\n",
"    E(j)=Cpulse(j)/Area;\n",
"end\n",
"plot(T,E)\n",
"xlabel('time(min)')\n",
"ylabel('E(min^-1)')\n",
"title('Exit age distribution E vs time')\n",
""
   ]
   }
,
{
		   "cell_type": "markdown",
		   "metadata": {},
		   "source": [
			"## Example 11.2: FINDING_THE_E_CURVE_FOR_LIQUID_FLOWING_THROUGH_A_VESSEL.sce"
		   ]
		  },
  {
"cell_type": "code",
	   "execution_count": null,
	   "metadata": {
	    "collapsed": true
	   },
	   "outputs": [],
"source": [
"clear\n",
"clc\n",
"M=150;//Molecular mass(gm)\n",
"v=5;//litre/sec\n",
"v=5*60;//litre/min\n",
"V=860;//litres\n",
"//From Material Balance\n",
"Area1=M/v;//gm.min/litre\n",
"//From the tracer curve\n",
"A1=0.375;\n",
"Area2=A1*(1+1/4+1/16+1/64+1/256+1/1024+1/4096);//Taking Significant Areas\n",
"printf('\n From material balance Area(gm.min/litre) is %f',Area1)\n",
"printf('\n From Tracer Curve Area(gm.min/litre) is %f',Area2)\n",
"printf('\n Part a')\n",
"printf('\n As the two areas are equal,this is a properly done experiment \n')\n",
"//For the liquid,calculating t\n",
"sum1=0;\n",
"for i=1:10\n",
"    sum1=sum1+2*i*A1/(4^(i-1));\n",
"    t=sum1/Area1;\n",
"end\n",
"//liquid volume in vessel\n",
"Vl=t*v;\n",
"//Fraction of liquid\n",
"f=Vl/V;\n",
"printf('\n Part b')\n",
"printf('\n Fraction of liquid is %f',f)\n",
"//E=Cpulse/M/v\n",
"printf('\n Part c')\n",
"printf('\n The E curve is 1.5C')\n",
"printf('\n Part d')\n",
"printf('\n The vessel has  a strong recirculation of liquid,probably induced by the rising bubbles')\n",
""
   ]
   }
,
{
		   "cell_type": "markdown",
		   "metadata": {},
		   "source": [
			"## Example 11.3: CONVOLUTION.sce"
		   ]
		  },
  {
"cell_type": "code",
	   "execution_count": null,
	   "metadata": {
	    "collapsed": true
	   },
	   "outputs": [],
"source": [
"clear\n",
"clc\n",
"//From the given graph\n",
"Cin(1)=0;Cin(2)=8;Cin(3)=4;Cin(4)=6;Cin(5)=0;\n",
"E(5)=0;E(6)=0.05;E(7)=0.5;E(8)=0.35;E(9)=0.1;E(10)=0;\n",
"for t=8:14\n",
"sum1=0;\n",
"for p=5:t-1\n",
"    if p>10 |(t-p)>5\n",
"        h=2;\n",
"    else\n",
"sum1=sum1+Cin(t-p)*E(p);\n",
"Cout(t)=sum1;\n",
"end\n",
"end\n",
"end\n",
"t=[1:1:14];\n",
"Cout=Cout';\n",
"t\n",
"Cout\n",
"plot(t,Cout)\n",
"xlabel('t');ylabel('Cout')\n",
""
   ]
   }
,
{
		   "cell_type": "markdown",
		   "metadata": {},
		   "source": [
			"## Example 11.4: CONVERSION_IN_REACTORS_HAVING_NON_IDEAL_FLOW.sce"
		   ]
		  },
  {
"cell_type": "code",
	   "execution_count": null,
	   "metadata": {
	    "collapsed": true
	   },
	   "outputs": [],
"source": [
"clear\n",
"clc\n",
"k=0.307;\n",
"//Given mean residence time(min)\n",
"t=15;\n",
"//For plug flow with negligible density\n",
"fr_unconverted=exp(-k*t);\n",
"printf('\n The fraction of reactant unconverted in a plug flow reactor is %f',fr_unconverted)\n",
"//For the real reactor\n",
"T=[5;10;15;20;25;30];//given time\n",
"E=[0.03;0.05;0.05;0.04;0.02;0.01];//given\n",
"dt=5;\n",
"sum1=0;\n",
"for i=1:6\n",
"    sum1=sum1+exp(-k*T(i))*E(i)*dt;\n",
"end\n",
"printf('\n The fraction of reactant unconverted in a real reactor is %f',sum1)"
   ]
   }
,
{
		   "cell_type": "markdown",
		   "metadata": {},
		   "source": [
			"## Example 11.5: REACTION_OF_A_MACROFLUID.sce"
		   ]
		  },
  {
"cell_type": "code",
	   "execution_count": null,
	   "metadata": {
	    "collapsed": true
	   },
	   "outputs": [],
"source": [
"clear\n",
"clc\n",
"k=0.5;//litre/mol.min\n",
"CAo=2;//mol/litre\n",
"//From the batch eqn\n",
"//CA/CAo=1/(1+kCAo*t)\n",
"to=1;t1=3;\n",
"E=0.5;\n",
"//Using eqn 13\n",
"XA_avg=1-(E*integrate('1/(1+t)','t',to,t1));\n",
"printf('\n Average concentration of A remaining in the droplet is %f',XA_avg)"
   ]
   }
],
"metadata": {
		  "kernelspec": {
		   "display_name": "Scilab",
		   "language": "scilab",
		   "name": "scilab"
		  },
		  "language_info": {
		   "file_extension": ".sce",
		   "help_links": [
			{
			 "text": "MetaKernel Magics",
			 "url": "https://github.com/calysto/metakernel/blob/master/metakernel/magics/README.md"
			}
		   ],
		   "mimetype": "text/x-octave",
		   "name": "scilab",
		   "version": "0.7.1"
		  }
		 },
		 "nbformat": 4,
		 "nbformat_minor": 0
}
