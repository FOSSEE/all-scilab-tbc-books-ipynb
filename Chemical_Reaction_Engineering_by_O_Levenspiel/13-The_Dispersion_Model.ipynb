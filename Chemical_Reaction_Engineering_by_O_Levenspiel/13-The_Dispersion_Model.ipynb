{
"cells": [
 {
		   "cell_type": "markdown",
	   "metadata": {},
	   "source": [
       "# Chapter 13: The Dispersion Model"
	   ]
	},
{
		   "cell_type": "markdown",
		   "metadata": {},
		   "source": [
			"## Example 13.1: DluL_FROM_A_C_CURVE.sce"
		   ]
		  },
  {
"cell_type": "code",
	   "execution_count": null,
	   "metadata": {
	    "collapsed": true
	   },
	   "outputs": [],
"source": [
"clear\n",
"clc\n",
"//Time in min\n",
"T=[0;5;10;15;20;25;30;35];\n",
"//Tracer Concentration in gm/litre\n",
"Cpulse=[0;3;5;5;4;2;1;0];\n",
"//Initialization\n",
"sum1=0;\n",
"sum2=0;sum3=0;\n",
"for i=1:8\n",
"    sum1=sum1+Cpulse(i);\n",
"    sum2=sum2+Cpulse(i)*T(i);\n",
"    sum3=sum3+Cpulse(i)*T(i)*T(i);\n",
"end\n",
"///Mean(min) of continuous distribution\n",
"t=sum2/sum1;\n",
"//Variance(min^2) of continuous distribution\n",
"sigma_sqr=(sum3/sum1)-((sum2/sum1))^2;\n",
"sigmatheta_sqr=sigma_sqr/t^2;\n",
"//Calculating vessel dispersion number\n",
"//Using eqn 13.let d/uL=m\n",
"for m=0.1:0.001:0.2\n",
"    sigmat_sqr=2*m-2*(m^2)*(1-exp(-(1/m)));\n",
"    if sigmat_sqr >= sigmatheta_sqr\n",
"        break;\n",
"          end\n",
"end\n",
"printf('\n The vessel dispersion number is %f',m)"
   ]
   }
,
{
		   "cell_type": "markdown",
		   "metadata": {},
		   "source": [
			"## Example 13.2: DuL_FROM_AN_F_CURVE.sce"
		   ]
		  },
  {
"cell_type": "code",
	   "execution_count": null,
	   "metadata": {
	    "collapsed": true
	   },
	   "outputs": [],
"source": [
"clear\n",
"clc\n",
"//length of column(mm)\n",
"l=1219;\n",
"//Velocity(mm/s)\n",
"u=0.0067;\n",
"//Using the probability graph\n",
"//16th percentile point fall at\n",
"t1=178550;\n",
"//84th percentile point fall at\n",
"t2=187750;\n",
"//standard deviation\n",
"sigma=(t2-t1)/2;\n",
"t=l/u;\n",
"sigma_theta=sigma/t;\n",
"//Vessel dispersion number\n",
"d=sigma_theta^2/2;\n",
"printf('\n The vessel dispersion number is %f',d)"
   ]
   }
,
{
		   "cell_type": "markdown",
		   "metadata": {},
		   "source": [
			"## Example 13.3: DuL_FROM_A_ONE_SHOT_INPUT.sce"
		   ]
		  },
  {
"cell_type": "code",
	   "execution_count": null,
	   "metadata": {
	    "collapsed": true
	   },
	   "outputs": [],
"source": [
"clear\n",
"clc\n",
"//Bed voidage\n",
"v=0.4;\n",
"//Superficial velocity of fluid(cm/s)\n",
"u=1.2;\n",
"l=90;//length(cm)\n",
"//Variance(sec^2) of output signals\n",
"sigma1_sqr=39;sigma2_sqr=64;\n",
"dsigma_sqr=sigma2_sqr-sigma1_sqr;\n",
"//In dimensionless form\n",
"t=l*v/u;\n",
"sigmatheta_sqr=dsigma_sqr/t^2;\n",
"//Dispersion number\n",
"d=sigmatheta_sqr/2;\n",
"printf('\n The vessel dispersion number is %f',d)"
   ]
   }
,
{
		   "cell_type": "markdown",
		   "metadata": {},
		   "source": [
			"## Example 13.4: CONVERSION_FROM_THE_DISPERSION_MODEL.sce"
		   ]
		  },
  {
"cell_type": "code",
	   "execution_count": null,
	   "metadata": {
	    "collapsed": true
	   },
	   "outputs": [],
"source": [
"clear\n",
"clc\n",
"disp('All the values have to be read from the given graph')"
   ]
   }
],
"metadata": {
		  "kernelspec": {
		   "display_name": "Scilab",
		   "language": "scilab",
		   "name": "scilab"
		  },
		  "language_info": {
		   "file_extension": ".sce",
		   "help_links": [
			{
			 "text": "MetaKernel Magics",
			 "url": "https://github.com/calysto/metakernel/blob/master/metakernel/magics/README.md"
			}
		   ],
		   "mimetype": "text/x-octave",
		   "name": "scilab",
		   "version": "0.7.1"
		  }
		 },
		 "nbformat": 4,
		 "nbformat_minor": 0
}
