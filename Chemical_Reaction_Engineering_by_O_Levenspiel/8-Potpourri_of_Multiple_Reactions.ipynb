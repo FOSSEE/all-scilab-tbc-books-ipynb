{
"cells": [
 {
		   "cell_type": "markdown",
	   "metadata": {},
	   "source": [
       "# Chapter 8: Potpourri of Multiple Reactions"
	   ]
	},
{
		   "cell_type": "markdown",
		   "metadata": {},
		   "source": [
			"## Example 8.1: Favorable_contacting_patterns_for_any_set_of_irreversible_reactions_in_series.sce"
		   ]
		  },
  {
"cell_type": "code",
	   "execution_count": null,
	   "metadata": {
	    "collapsed": true
	   },
	   "outputs": [],
"source": [
"clear\n",
"clc\n",
"//Theorotical Questions\n",
"printf('Its a theorotical Question')"
   ]
   }
,
{
		   "cell_type": "markdown",
		   "metadata": {},
		   "source": [
			"## Example 8.2: Kinetics_of_series_parallel_reaction.sce"
		   ]
		  },
  {
"cell_type": "code",
	   "execution_count": null,
	   "metadata": {
	    "collapsed": true
	   },
	   "outputs": [],
"source": [
"clear\n",
"clc\n",
"disp('Data is not provided,only graph is provided')"
   ]
   }
,
{
		   "cell_type": "markdown",
		   "metadata": {},
		   "source": [
			"## Example 8.3: Evaluate_the_kinetics_from_a_batch_experiment.sce"
		   ]
		  },
  {
"cell_type": "code",
	   "execution_count": null,
	   "metadata": {
	    "collapsed": true
	   },
	   "outputs": [],
"source": [
"clear\n",
"clc\n",
"CAo=185;CA=100;t=30;\n",
"//As A disappears by 1st Order kinetics\n",
"//ln(CAo/CA)=K123t\n",
"K123=log(CAo/CA)/t;\n",
"//From the initial rate of formation of R\n",
"//dCR/dt(m1)=k2*CAo\n",
"m1=2;\n",
"k2=m1/CAo;\n",
"////From the initial rate of formation of R\n",
"m2=1.3;\n",
"k1=m2/CAo;\n",
"k3=K123-k1-k2;\n",
"//Looking at the maxima of S and T curves\n",
"//For S,CSmax/CAo=(k1/k123)*(k123/k4)^(k4/(k4-k123))\n",
"//trial and error \n",
"for k4=0.0001:0.0001:0.1\n",
"    Csmax=CAo*(k1/K123)*((K123/k4)^(k4/(k4-K123)));\n",
"    if  Csmax>31.8 & Csmax<32.2\n",
"        break\n",
"    end\n",
"end\n",
"//similarly for T\n",
"for k5=0.001:0.0001:0.02\n",
"    Ctmax=CAo*(k3/K123)*((K123/k5)^(k5/(k5-K123)));\n",
"    if Ctmax>9.95 & Ctmax<10.08\n",
"        break\n",
"    end\n",
"end\n",
"printf('\n The rate constants are')\n",
"printf('\n k1= %f',k1)\n",
"printf('\n k2= %f',k2)\n",
"printf('\n k3= %f',k3)\n",
"printf('\n k4= %f',k4)\n",
"printf('\n k5= %f',k5)"
   ]
   }
],
"metadata": {
		  "kernelspec": {
		   "display_name": "Scilab",
		   "language": "scilab",
		   "name": "scilab"
		  },
		  "language_info": {
		   "file_extension": ".sce",
		   "help_links": [
			{
			 "text": "MetaKernel Magics",
			 "url": "https://github.com/calysto/metakernel/blob/master/metakernel/magics/README.md"
			}
		   ],
		   "mimetype": "text/x-octave",
		   "name": "scilab",
		   "version": "0.7.1"
		  }
		 },
		 "nbformat": 4,
		 "nbformat_minor": 0
}
