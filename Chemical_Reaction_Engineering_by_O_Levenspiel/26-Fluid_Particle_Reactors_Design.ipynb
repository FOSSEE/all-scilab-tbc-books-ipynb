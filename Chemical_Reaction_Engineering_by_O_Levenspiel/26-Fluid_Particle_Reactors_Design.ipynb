{
"cells": [
 {
		   "cell_type": "markdown",
	   "metadata": {},
	   "source": [
       "# Chapter 26: Fluid Particle Reactors Design"
	   ]
	},
{
		   "cell_type": "markdown",
		   "metadata": {},
		   "source": [
			"## Example 26.1: CONVERSION_OF_A_SIZE_MIXTURE_IN_PLUG_FLOW.sce"
		   ]
		  },
  {
"cell_type": "code",
	   "execution_count": null,
	   "metadata": {
	    "collapsed": true
	   },
	   "outputs": [],
"source": [
"clear\n",
"clc\n",
"//Lets say F(Ri)/F=F_ri\n",
"F_50=0.3;F_100=0.4;F_200=0.3;\n",
"//The time required(min)for 3 size of particles is\n",
"t_50=5;t_100=10;t_200=20;\n",
"//Cosidering solids to be in plug flow with tp=8 min\n",
"tp=8;\n",
"//1-XBavg=[1-XB(50 um)]F(50 um)/F+ [1-XB(100 um)]F(100 um)/F+.......\n",
"//Because for 3 sizes of particles,R1:R2:R3=t1:t2:t3\n",
"//From eqn 25.23,[1-XB(Ri)]=(1-tp/t(ri))^3\n",
"a=((1-(tp/t_50))^3)*F_50;b=((1-(tp/t_100))^3)*F_100;c=((1-(tp/t_200))^3)*F_200;\n",
"g=[a,b,c];\n",
"sum1=0;\n",
"for p=1:3\n",
"   if g(p)>0\n",
"       sum1=sum1+g(p);\n",
"end\n",
"end\n",
"f_converted=1-sum1;\n",
"printf('\n The fraction of solid converted equals %f ',f_converted)"
   ]
   }
,
{
		   "cell_type": "markdown",
		   "metadata": {},
		   "source": [
			"## Example 26.2: CONVERSION_OF_A_SINGLE_SIZED_FEED_IN_A_MIXED_FLOW_REACTOR.sce"
		   ]
		  },
  {
"cell_type": "code",
	   "execution_count": null,
	   "metadata": {
	    "collapsed": true
	   },
	   "outputs": [],
"source": [
"clear\n",
"clc\n",
"t_avg=60;t=20;//min\n",
"//For chemical rxn controlling, t =kR\n",
"unconverted=((1/4)*(t/t_avg))-((1/20)*(t/t_avg)^2)+((1/120)*(t/t_avg)^3);\n",
"//For ash layer diffusion controlling,t=k1R^2\n",
"unconverted1=((1/5)*(t/t_avg))-((19/420)*(t/t_avg)^2)+((41/4620)*(t/t_avg)^3);\n",
"c_avg=(unconverted+unconverted1)/2;\n",
"printf('Fraction of original sulfide ore remain unconverted is %f',c_avg)"
   ]
   }
,
{
		   "cell_type": "markdown",
		   "metadata": {},
		   "source": [
			"## Example 26.3: CONVERSION_OF_A_FEED_MIXTURE_IN_A_MIXED_FLOW_REACTOR.sce"
		   ]
		  },
  {
"cell_type": "code",
	   "execution_count": null,
	   "metadata": {
	    "collapsed": true
	   },
	   "outputs": [],
"source": [
"clear\n",
"clc\n",
"F=1000;//gm/min\n",
"W=10000;//gm\n",
"t_avg=W/F;\n",
"F_50=300;F_100=400;F_200=300;//gm/min\n",
"t_50=5;t_100=10;t_200=20;//min\n",
"unconverted=((((1/4)*(t_50/t_avg))-((1/20)*(t_50/t_avg)^2)+((1/120)*(t_50/t_avg)^3))*(F_50/F))+((((1/4)*(t_100/t_avg))-((1/20)*(t_100/t_avg)^2)+((1/120)*(t_50/t_avg)^3))*(F_100/F))+((((1/4)*(t_200/t_avg))-((1/20)*(t_200/t_avg)^2)+((1/120)*(t_50/t_avg)^3))*(F_200/F));\n",
"converted=1-unconverted;\n",
"printf('The mean conversion of soild is %f',converted)\n",
"printf('\n The answer slightly differs from those given in book as we have considered only significant terms in infinite series')"
   ]
   }
,
{
		   "cell_type": "markdown",
		   "metadata": {},
		   "source": [
			"## Example 26.4: FINDING_THE_SIZE_OF_A_FLUIDIZED_BED.sce"
		   ]
		  },
  {
"cell_type": "code",
	   "execution_count": null,
	   "metadata": {
	    "collapsed": true
	   },
	   "outputs": [],
"source": [
"clear\n",
"clc\n",
"t1=1;//hr\n",
"//t=k*(1/CAo)\n",
"//For equal stoichiometric feed XA=XB=0.9\n",
"//CAf/CAo=0.1\n",
"t2=t1/0.1;\n",
"//finding t/t_avg which gives XB=0.9 ie 1-XB=0.1\n",
" for a=0:0.0001:1;\n",
"     //x=1-XB\n",
"x=(1/4)*(a)-((1/20)*(a)^2)+((1/120)*(a)^3);\n",
"if x >0.099 & x<0.1005\n",
"    r=a;\n",
"end\n",
"end\n",
"FBo=1;//tons/hr\n",
"t_avg=t2/r;\n",
"W=t_avg*FBo;\n",
"printf('\n The needed weight of bed is %f',W)\n",
"printf('tons')"
   ]
   }
],
"metadata": {
		  "kernelspec": {
		   "display_name": "Scilab",
		   "language": "scilab",
		   "name": "scilab"
		  },
		  "language_info": {
		   "file_extension": ".sce",
		   "help_links": [
			{
			 "text": "MetaKernel Magics",
			 "url": "https://github.com/calysto/metakernel/blob/master/metakernel/magics/README.md"
			}
		   ],
		   "mimetype": "text/x-octave",
		   "name": "scilab",
		   "version": "0.7.1"
		  }
		 },
		 "nbformat": 4,
		 "nbformat_minor": 0
}
