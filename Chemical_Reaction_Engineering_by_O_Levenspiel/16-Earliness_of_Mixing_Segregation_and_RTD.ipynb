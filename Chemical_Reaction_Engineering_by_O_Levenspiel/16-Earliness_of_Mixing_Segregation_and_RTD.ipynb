{
"cells": [
 {
		   "cell_type": "markdown",
	   "metadata": {},
	   "source": [
       "# Chapter 16: Earliness of Mixing Segregation and RTD"
	   ]
	},
{
		   "cell_type": "markdown",
		   "metadata": {},
		   "source": [
			"## Example 16.1: EFFECT_OF_SEGREGATION_AND_EARLINESS_OF_MIXING_ON_CONVERSION.sce"
		   ]
		  },
  {
"cell_type": "code",
	   "execution_count": null,
	   "metadata": {
	    "collapsed": true
	   },
	   "outputs": [],
"source": [
"clear\n",
"clc\n",
"Co=1;k=1;t=1;//given\n",
"//Scheme A\n",
"//For mixed flow reactor\n",
"//t=(Co-C1)/KC1^2\n",
"C1=(-1+sqrt(1-4*t*(-Co)))/2*t;\n",
"//For the plug flow reactor\n",
"//t=1/k(1/C2-1/C1)\n",
"C2=C1/(1+k*t*C1);\n",
"printf('\n Conversion for flow scheme A is %f',C2)\n",
"//Scheme B\n",
"//For plug flow\n",
"C3=Co/(1+k*t*Co);\n",
"//For mixed flow reactor\n",
"C4=(-1+sqrt(1-4*t*(-C3)))/2*t;\n",
"printf('\n Conversion for flow scheme B is %f',C4)\n",
"//Scheme C,D,E\n",
"//Using exit age distribution fn for 2 equal plug-mixed flow reactor system,using fig 12.1\n",
"t_bar=2;\n",
"in=1000;\n",
"C5=integrate('(2/t_bar)*(exp(1-2*t/t_bar))/(1+Co*k*t)','t',t_bar/2,in);\n",
"printf('\n Conversion for flow scheme C,D,E is %f',C5)\n",
""
   ]
   }
],
"metadata": {
		  "kernelspec": {
		   "display_name": "Scilab",
		   "language": "scilab",
		   "name": "scilab"
		  },
		  "language_info": {
		   "file_extension": ".sce",
		   "help_links": [
			{
			 "text": "MetaKernel Magics",
			 "url": "https://github.com/calysto/metakernel/blob/master/metakernel/magics/README.md"
			}
		   ],
		   "mimetype": "text/x-octave",
		   "name": "scilab",
		   "version": "0.7.1"
		  }
		 },
		 "nbformat": 4,
		 "nbformat_minor": 0
}
