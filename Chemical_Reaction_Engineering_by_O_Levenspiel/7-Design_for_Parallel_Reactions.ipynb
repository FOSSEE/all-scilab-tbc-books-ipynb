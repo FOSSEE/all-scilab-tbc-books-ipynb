{
"cells": [
 {
		   "cell_type": "markdown",
	   "metadata": {},
	   "source": [
       "# Chapter 7: Design for Parallel Reactions"
	   ]
	},
{
		   "cell_type": "markdown",
		   "metadata": {},
		   "source": [
			"## Example 7.1: Contacting_patterns_for_reactions_in_parallel.sce"
		   ]
		  },
  {
"cell_type": "code",
	   "execution_count": null,
	   "metadata": {
	    "collapsed": true
	   },
	   "outputs": [],
"source": [
"clear\n",
"clc\n",
"//Theorotical Questions\n",
"printf('Its a theorotical Question')"
   ]
   }
,
{
		   "cell_type": "markdown",
		   "metadata": {},
		   "source": [
			"## Example 7.2: Product_distribution_for_parallel_reactions.sce"
		   ]
		  },
  {
"cell_type": "code",
	   "execution_count": null,
	   "metadata": {
	    "collapsed": true
	   },
	   "outputs": [],
"source": [
"clear\n",
"clc\n",
"//Initial Concentration(mol/litre)eactant in combined feed\n",
"CAo=10;CBo=10;\n",
"//For 90% Conversion\n",
"XA=0.9;\n",
"CAf=CAo*(1-XA);\n",
"//Instantaneous fractional yield of desired compound is\n",
"//Q(R/A)=dCR/(dCR+dCS)=CA/(CA+CB^1.5)\n",
"//But CA=CB so Q(R/A)=CA/(CA+CA^1.5)\n",
"//For Plug Flow\n",
"//Overall Fractional Yield(Qp)is\n",
"CA=CAf;\n",
"Qp=(-1/(CAo-CAf))*integrate('1/(1+CA^0.5)','CA',CAo,CAf);\n",
"CRf=9*Qp;\n",
"printf('\n Part a')\n",
"printf('\n For Plug Flow')\n",
"printf('\n Concentration of R(mol/litre) in the product stream is %f \n',CRf)\n",
"//Mixed Flow\n",
"//Overall Fractional Yield(Qm)is\n",
"Qm=CA/(CA+CA^1.5);\n",
"CRf=9*Qm;\n",
"printf('\n Part b')\n",
"printf('\n For Mixed Flow')\n",
"printf('\n Concentration of R(mol/litre) in the product stream is %f \n',CRf)\n",
"//Plug flow A,Mixed flow B\n",
"CAo=19;CB=1;\n",
"Q=-1/(CAo-CAf)*integrate('CA/(CA+CB^1.5)','CA',CAo,CAf);\n",
"CRf=9*Q;\n",
"printf('\n Part c')\n",
"printf('\n For Plug flow A,Mixed flow B')\n",
"printf('\n Concentration of R(mol/litre) in the product stream is %f \n',CRf)\n",
"disp('The result for plug flow varies as there seems to be typographical error in integration done in book')"
   ]
   }
,
{
		   "cell_type": "markdown",
		   "metadata": {},
		   "source": [
			"## Example 7.3: Good_operating_conditions_for_parallel_reactions.sce"
		   ]
		  },
  {
"cell_type": "code",
	   "execution_count": null,
	   "metadata": {
	    "collapsed": true
	   },
	   "outputs": [],
"source": [
"clear\n",
"clc\n",
"CAo=2;\n",
"//Since S is the desired Product\n",
"//Q(S/A)=2CA/(1+CA)^2\n",
"//Part a\n",
"//Csf=(CAo-CA)*2*CA/(1+CA)^2\n",
"//on differentiating this to get max Csf,we get max value at\n",
"CA=0.5;\n",
"Csf=(CAo-CA)*2*CA/(1+CA)^2;\n",
"printf('\n Part a')\n",
"printf('\n For Mixed Flow Reactor')\n",
"printf('\n Maximum expected Cs is %f',Csf)\n",
"//For Plug Flow Reactor\n",
"//Production of s is max at 100% Conversion of A\n",
"CAf=0;\n",
"Csf=-1*integrate('2*CA/(1+CA)^2','CA',CAo,CAf);\n",
"printf('\n Part b')\n",
"printf('\n For Plug Flow')\n",
"printf('\n Maximum expected concentration of S is %f \n',Csf)\n",
"//Part C\n",
"//Since no reactant leaves the system unconverted,what is important is to operate at condition of highest fractional yield\n",
"//ie. at CA=1 where Q(S/A)=0.5\n",
"CA=1;\n",
"Csf=(CAo-CA)*2*CA/(1+CA)^2;\n",
"printf('Part c')\n",
"printf('\n For MFR with separation and recycle' )\n",
"printf('\n Concentration of Csf is %f',Csf)"
   ]
   }
,
{
		   "cell_type": "markdown",
		   "metadata": {},
		   "source": [
			"## Example 7.4: Best_operating_conditions_for_parallel_reactions.sce"
		   ]
		  },
  {
"cell_type": "code",
	   "execution_count": null,
	   "metadata": {
	    "collapsed": true
	   },
	   "outputs": [],
"source": [
"clear\n",
"clc\n",
"//Mixed flow followed by plug flow would be best\n",
"//From ex 7.3\n",
"//For mixed flow\n",
"CAo=2;CA=1;Q=0.5;\n",
"Cs1=Q*(CAo-CA);\n",
"//For plug flow\n",
"Cs2=-1*integrate('2*CA/(1+CA)^2','CA',1,0);\n",
"//Total amount of CS formed is\n",
"Cs=Cs1+Cs2;\n",
"printf('Mixed flow followed by plug flow would be best')\n",
"printf('\n Total amount of CS formed(mol/litre) is %f \n',Cs)"
   ]
   }
],
"metadata": {
		  "kernelspec": {
		   "display_name": "Scilab",
		   "language": "scilab",
		   "name": "scilab"
		  },
		  "language_info": {
		   "file_extension": ".sce",
		   "help_links": [
			{
			 "text": "MetaKernel Magics",
			 "url": "https://github.com/calysto/metakernel/blob/master/metakernel/magics/README.md"
			}
		   ],
		   "mimetype": "text/x-octave",
		   "name": "scilab",
		   "version": "0.7.1"
		  }
		 },
		 "nbformat": 4,
		 "nbformat_minor": 0
}
