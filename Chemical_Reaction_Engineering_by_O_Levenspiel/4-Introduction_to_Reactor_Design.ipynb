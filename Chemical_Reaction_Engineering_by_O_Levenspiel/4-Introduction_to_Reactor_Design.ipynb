{
"cells": [
 {
		   "cell_type": "markdown",
	   "metadata": {},
	   "source": [
       "# Chapter 4: Introduction to Reactor Design"
	   ]
	},
{
		   "cell_type": "markdown",
		   "metadata": {},
		   "source": [
			"## Example 4.1: A_balance_from_Stoichiometry.sce"
		   ]
		  },
  {
"cell_type": "code",
	   "execution_count": null,
	   "metadata": {
	    "collapsed": true
	   },
	   "outputs": [],
"source": [
"clear\n",
"clc\n",
"// A+3*B gives 6C\n",
"a=1;b=3;c=6\n",
" //Initial concentrations\n",
" CAo=100;CBo=200;Cio=100\n",
" //Final concentrations\n",
" CA=40;\n",
" // Find CB,XA,XB\n",
" ea=(6-4)/4;\n",
" XA=(CAo-CA)/(CAo+ea*CA);\n",
" eb=(ea*CBo)/(b*CAo);\n",
" XB=b*CAo*XA/CBo;\n",
" CB=CBo*(1-XB)/(1+eb*XB);\n",
" printf('\nRESULT\n')\n",
"printf('The final concentration of B(CB) is %f',CB)\n",
"printf('\n XA and XB are %f ,%f',XA,XB)\n",
" "
   ]
   }
],
"metadata": {
		  "kernelspec": {
		   "display_name": "Scilab",
		   "language": "scilab",
		   "name": "scilab"
		  },
		  "language_info": {
		   "file_extension": ".sce",
		   "help_links": [
			{
			 "text": "MetaKernel Magics",
			 "url": "https://github.com/calysto/metakernel/blob/master/metakernel/magics/README.md"
			}
		   ],
		   "mimetype": "text/x-octave",
		   "name": "scilab",
		   "version": "0.7.1"
		  }
		 },
		 "nbformat": 4,
		 "nbformat_minor": 0
}
