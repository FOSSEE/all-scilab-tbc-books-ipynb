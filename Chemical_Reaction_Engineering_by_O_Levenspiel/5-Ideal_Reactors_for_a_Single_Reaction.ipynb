{
"cells": [
 {
		   "cell_type": "markdown",
	   "metadata": {},
	   "source": [
       "# Chapter 5: Ideal Reactors for a Single Reaction"
	   ]
	},
{
		   "cell_type": "markdown",
		   "metadata": {},
		   "source": [
			"## Example 5.1: Reaction_rate_in_a_mixed_flow_reactor.sce"
		   ]
		  },
  {
"cell_type": "code",
	   "execution_count": null,
	   "metadata": {
	    "collapsed": true
	   },
	   "outputs": [],
"source": [
"clear\n",
"clc\n",
"//Given\n",
"//Concentrations in mol/litre\n",
"CAo=0.1;CBo=0.01;Cco=0;CAf=0.02;CBf=0.03;Ccf=0.04;\n",
"//Volume in litre\n",
"V=1;\n",
"//Volumetric flow rate(l/min)\n",
"v=1;\n",
"//For mixed flow reactor\n",
"CA=CAf;CB=CBf;Cc=Ccf;\n",
"//Rate of reaction(mol/litre.min)\n",
"rA=(CAo-CA)/(V/v);\n",
"rB=(CBo-CB)/(V/v);\n",
"rc=(Cco-Cc)/(V/v);\n",
"printf('\nRESULT\n')\n",
"printf('rate of reaction of A(mol/litre.min) is %f\n',rA)\n",
"printf('\nrate of reaction of B(mol/litre.min) is %f\n',rB)\n",
"printf('\nrate of reaction of C(mol/litre.min) is %f\n',rc)\n",
"\n",
"\n",
"\n",
"\n",
"\n",
""
   ]
   }
,
{
		   "cell_type": "markdown",
		   "metadata": {},
		   "source": [
			"## Example 5.2: Kinetics_from_a_mixed_flow_reactor.sce"
		   ]
		  },
  {
"cell_type": "code",
	   "execution_count": null,
	   "metadata": {
	    "collapsed": true
	   },
	   "outputs": [],
"source": [
"clear\n",
"clc\n",
"//Given\n",
"//Volumetric flow rates(litre/hr)\n",
"vo=[10;3;1.2;0.5];\n",
"//Concentrations (millimol/litre)\n",
"CA=[85.7;66.7;50;33.4];\n",
"CAo=100;\n",
"//Volume(litre)\n",
"V=0.1;\n",
"//For the stoichiometry 2A-->R\n",
"//Expansion factor is\n",
"e=(1-2)/2;\n",
"//Initialization\n",
"XA=zeros(4,1);\n",
"rA=zeros(4,1);\n",
"//Relation between concentration and conversion\n",
"for i=1:4\n",
"XA(i)=(1-CA(i)/CAo)/(1+e*CA(i)/CAo);\n",
"//Rate of reaction is given by\n",
"rA(i)=vo(i)*CAo*XA(i)/V;\n",
"//Testing nth order kinetics\n",
"//-rA=k*CA^n\n",
"//log(-rA)=logk+nlog(CA)\n",
"m(i)=log10(CA(i));\n",
"n(i)=log10(rA(i));\n",
"end\n",
"//For nth order plot between n & m should give a straight line\n",
"plot(m,n)\n",
"coefs=regress(m,n);\n",
"printf('Intercept of the graph is %f\n',coefs(1))\n",
"printf('Slope of the graph is %f\n',coefs(2))\n",
"k=10^coefs(1)\n",
"n=coefs(2)\n",
"printf('\n Taking n=2,rate of equation(millimol/litre.hr) is %f',k)\n",
"printf('CA^2 \n')\n",
"disp('The sol slightly differ from that given in book because regress fn is used to calculate the slope')"
   ]
   }
,
{
		   "cell_type": "markdown",
		   "metadata": {},
		   "source": [
			"## Example 5.3: Mixed_flow_reactor_performance.sce"
		   ]
		  },
  {
"cell_type": "code",
	   "execution_count": null,
	   "metadata": {
	    "collapsed": true
	   },
	   "outputs": [],
"source": [
"clear\n",
"clc\n",
"//Concentration(mol/litre) of components in the mixed feed stream is\n",
"CAo=1.4;CBo=0.8;CRo=0;\n",
"//Volume(litre)\n",
"V=6;\n",
"//For 75% conversion of B\n",
"//From stoichiometry of equation A+2B-->R\n",
"CA=1.4-(0.75*0.8)/2;\n",
"CB=0.8-(0.75*0.8);\n",
"CR=(0.75*0.8)/2;\n",
"//From the Given rate equation(mol/litre.min)\n",
"rB=2*(12.5*CA*CB*CB-1.5*CR);\n",
"//Volumetric flow rate is given by\n",
"v=V*rB/(CBo-CB);\n",
"printf('\n volumetric flow rate(litre/min) into and out of the reactor is %f \n',v)\n",
"disp('The sol varies from book as the value of CB taken in book at end is wrong')\n",
""
   ]
   }
,
{
		   "cell_type": "markdown",
		   "metadata": {},
		   "source": [
			"## Example 5.4: Plug_flow_reactor_performance.sce"
		   ]
		  },
  {
"cell_type": "code",
	   "execution_count": null,
	   "metadata": {
	    "collapsed": true
	   },
	   "outputs": [],
"source": [
"clear\n",
"clc\n",
"//With 50% inert 2 vol of feed would give 4 vol of completely converted gas\n",
"//Expansion factor is\n",
"eA=(4-2)/2;\n",
"//Initial concentration of A(mol/litre)\n",
"CAo=0.0625;\n",
"//For 80% conversion\n",
"xAo=0;xAf=0.8;k=0.01;\n",
"//For plug flow space time(t) is given by\n",
"//t=CAo*integral(dxA/-rA)\n",
"X=integrate('sqrt((1+xA)/(1-xA))','xA',xAo,xAf);\n",
"t=sqrt(CAo)*X/k;\n",
"printf('\n Space time(sec) needed is %f \n',t)"
   ]
   }
,
{
		   "cell_type": "markdown",
		   "metadata": {},
		   "source": [
			"## Example 5.5: Plug_flow_reactor_volume.sce"
		   ]
		  },
  {
"cell_type": "code",
	   "execution_count": null,
	   "metadata": {
	    "collapsed": true
	   },
	   "outputs": [],
"source": [
"clear\n",
"clc\n",
"//Given\n",
"//Temperature(kelvin)\n",
"T=922;\n",
"//Pressure(Pascal)\n",
"P=460000;\n",
"//Let A=PH3,R=P4,S=H2\n",
"FAo=40;//mol/hr\n",
"k=10;//(/hr)\n",
"R=8.314;\n",
"CAo=P/(R*T);// mol/m3\n",
"e=(7-4)/4;\n",
"XA=0.8;\n",
"//The volume of plug flow reactor is given by\n",
"V=FAo*[(1+e)*log(1/(1-XA))-e*XA]/(k*CAo);\n",
"printf('\n volume(m3) of reactor is %f \n',V)"
   ]
   }
,
{
		   "cell_type": "markdown",
		   "metadata": {},
		   "source": [
			"## Example 5.6: Test_of_a_kinetic_equation_in_a_plug_flow_reactor.sce"
		   ]
		  },
  {
"cell_type": "code",
	   "execution_count": null,
	   "metadata": {
	    "collapsed": true
	   },
	   "outputs": [],
"source": [
"clear\n",
"clc\n",
"//This is a theorotical Qn\n",
"printf('Its a theorotical Question')"
   ]
   }
],
"metadata": {
		  "kernelspec": {
		   "display_name": "Scilab",
		   "language": "scilab",
		   "name": "scilab"
		  },
		  "language_info": {
		   "file_extension": ".sce",
		   "help_links": [
			{
			 "text": "MetaKernel Magics",
			 "url": "https://github.com/calysto/metakernel/blob/master/metakernel/magics/README.md"
			}
		   ],
		   "mimetype": "text/x-octave",
		   "name": "scilab",
		   "version": "0.7.1"
		  }
		 },
		 "nbformat": 4,
		 "nbformat_minor": 0
}
