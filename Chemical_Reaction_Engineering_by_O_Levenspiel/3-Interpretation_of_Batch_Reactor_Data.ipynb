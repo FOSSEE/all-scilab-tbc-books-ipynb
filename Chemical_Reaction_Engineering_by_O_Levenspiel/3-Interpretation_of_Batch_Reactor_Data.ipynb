{
"cells": [
 {
		   "cell_type": "markdown",
	   "metadata": {},
	   "source": [
       "# Chapter 3: Interpretation of Batch Reactor Data"
	   ]
	},
{
		   "cell_type": "markdown",
		   "metadata": {},
		   "source": [
			"## Example 3.1: Find_a_rate_equation_using_the_integral_method.sce"
		   ]
		  },
  {
"cell_type": "code",
	   "execution_count": null,
	   "metadata": {
	    "collapsed": true
	   },
	   "outputs": [],
"source": [
"clear\n",
"clc\n",
"//Given\n",
"t=[0 20 40 60 120 180 300];\n",
"C_A=[10 8 6 5 3 2 1];\n",
"CAo=10;\n",
"//Guessing 1st order kinetics\n",
"//This means log(CAo/C_A) vs t should give a straight line\n",
"for i=1:7\n",
"    k(i)=log(CAo/C_A(i));\n",
"    CA_inv(i)=1/C_A(i);\n",
"end\n",
"//plot(t,k)\n",
"//This doesn't give straight line.\n",
"//Guessing 2nd Order Kinetics so \n",
"//1/C_A vs t should give a straight line\n",
"//plot(t,CA_inv)\n",
"//Again this doesn't give a straight line\n",
"//Guessing nth order kinetics and using fractional life method with F=80%\n",
"//log Tf=log(0.8^(1-n)-1/(k(n-1)))+(1-n)logCAo\n",
"//plot(t,C_A)\n",
"\n",
"//Picking different values of CAo\n",
"//Time needed for 3 runs,,from graph\n",
"T=[18.5;23;35];\n",
"CAo=[10;5;2];\n",
"for i=1:3\n",
"    CA(i)=0.8*CAo(i);\n",
"    log_Tf(i)=log10(T(i));\n",
"    log_CAo(i)=log10(CAo(i));\n",
"end\n",
"plot(log_CAo,log_Tf)\n",
"xlabel('log CAo');ylabel('log t');\n",
"coeff1=regress(log_CAo,log_Tf);\n",
"n=1-coeff1(2);\n",
"printf('From graph we get slope and intercept for calculating rate eqn')\n",
"k1=((0.8^(1-n))-1)*(10^(1-n))/(18.5*(n-1));\n",
"printf('\n The rate equation is given by %f',k1)\n",
"printf('CA^1.4 mol/litre.sec')"
   ]
   }
,
{
		   "cell_type": "markdown",
		   "metadata": {},
		   "source": [
			"## Example 3.2: Find_a_rate_equation_to_fit_a_set_of_data_using_the_differential_method.sce"
		   ]
		  },
  {
"cell_type": "code",
	   "execution_count": null,
	   "metadata": {
	    "collapsed": true
	   },
	   "outputs": [],
"source": [
"clear\n",
"clc\n",
"CA=[10;8;6;5;3;2;1];//mol/litre\n",
"T=[0;20;40;60;120;180;300];//sec\n",
"//plot(T,CA)\n",
"//xlabel('Time(sec)');ylabel('CA(mol/litre)');\n",
"//From graph y=-dCA/dt at different points are\n",
"y=[-0.1333;-0.1031;-0.0658;-0.0410;-0.0238;-0.0108;-0.0065];\n",
"//Guessing nth rate order\n",
"//rA=kCA^n\n",
"//log(-dCA/dt)=logk+nlogCA\n",
"for i=1:7\n",
"log_y(i)=log10(y(i));\n",
"log_CA(i)=log10(CA(i));\n",
"end\n",
"plot(log_CA,log_y)\n",
"xlabel('logCA');ylabel('log(-dCA/dt)')\n",
"coeff1=regress(log_CA,log_y);\n",
"n=coeff1(2);\n",
"k=-10^(coeff1(1));\n",
"printf('\n After doing linear regression,the slope and intercept of the graph is %f , %f',coeff(2),coeff(1))\n",
"printf('\n The rate equation is therefore given by %f',k)\n",
"printf('CA^1.375 mol/litre.sec')\n",
"disp('The answer slightly differs from those given in book as regress fn is used for calculating slope and intercept')\n",
"\n",
""
   ]
   }
,
{
		   "cell_type": "markdown",
		   "metadata": {},
		   "source": [
			"## Example 3.4: Correct_and_Incorrect_E_values.sce"
		   ]
		  },
  {
"cell_type": "code",
	   "execution_count": null,
	   "metadata": {
	    "collapsed": true
	   },
	   "outputs": [],
"source": [
"clear\n",
"clc\n",
"// At 400k, -rA=2.3*pA^2\n",
"//At 500 k, -rA=2.3*pA^2\n",
"k1=2.3;k2=2.3;T1=400;T2=500;\n",
"//R=82.06*10^-6 m3.atm/mol.k\n",
"R=82.06*10^-6;\n",
"R1=8.314;//m3.pa/mol.k\n",
"E=(log(k2/k1)*R)/(1/T1-1/T2)\n",
"printf('\nRESULT\n')\n",
"printf('E(J/mol)using pressure units is %f',E)\n",
"//pA=CA*RT\n",
"//-rA=2.3(RT)^2*CA^2\n",
"k1=2.3*(R*T1)^2\n",
"k2=2.3*(R*T2)^2\n",
"E=(log(k2/k1)*R1)/(1/T1-1/T2)\n",
"printf('\nE(J/mol)using concentration units is %f',E)\n",
""
   ]
   }
],
"metadata": {
		  "kernelspec": {
		   "display_name": "Scilab",
		   "language": "scilab",
		   "name": "scilab"
		  },
		  "language_info": {
		   "file_extension": ".sce",
		   "help_links": [
			{
			 "text": "MetaKernel Magics",
			 "url": "https://github.com/calysto/metakernel/blob/master/metakernel/magics/README.md"
			}
		   ],
		   "mimetype": "text/x-octave",
		   "name": "scilab",
		   "version": "0.7.1"
		  }
		 },
		 "nbformat": 4,
		 "nbformat_minor": 0
}
