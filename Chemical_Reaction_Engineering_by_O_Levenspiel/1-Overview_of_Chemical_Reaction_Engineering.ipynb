{
"cells": [
 {
		   "cell_type": "markdown",
	   "metadata": {},
	   "source": [
       "# Chapter 1: Overview of Chemical Reaction Engineering"
	   ]
	},
{
		   "cell_type": "markdown",
		   "metadata": {},
		   "source": [
			"## Example 1.1: The_Rocket_Engine.sce"
		   ]
		  },
  {
"cell_type": "code",
	   "execution_count": null,
	   "metadata": {
	    "collapsed": true
	   },
	   "outputs": [],
"source": [
"clear\n",
"clc\n",
"//l=75 cm,d=60 cm,H20 Produced=108kg/s\n",
"l=0.75;d=0.6;\n",
"V=(3.14*d*d*l)/4;\n",
"//H2+0.5*O2=H2O\n",
"//Molecular wt of H2O=18\n",
"M=18;\n",
"//H2O Produced in kmol/s\n",
"H20_produced=108/M;\n",
"//H2 used\n",
"H2_used=H20_produced;\n",
"//O2 Used\n",
"O2_used=0.5*H20_produced;\n",
"//Rate of reaction\n",
"//Rate of reaction of H2(mol/m^3.s)\n",
"r_H2=(H2_used/V)*1000;\n",
"//Rate of reaction of O2(mol/m^3.s)\n",
"r_O2=(O2_used/V)*1000;\n",
"printf('\nRESULT\n')\n",
"printf('rate of reaction of H2(mol/m^3.s) is %f\n',r_H2)\n",
"printf('\nrate of reaction of O2(mol/m^3.s) is %f\n',r_O2)\n",
"\n",
"\n",
"\n",
""
   ]
   }
,
{
		   "cell_type": "markdown",
		   "metadata": {},
		   "source": [
			"## Example 1.2: The_Living_Person.sce"
		   ]
		  },
  {
"cell_type": "code",
	   "execution_count": null,
	   "metadata": {
	    "collapsed": true
	   },
	   "outputs": [],
"source": [
"clear\n",
"clc\n",
" // Assuming density of a person=1000kg/m3\n",
" d=1000;\n",
" mass=75;\n",
" V=mass/d;\n",
" //moles of O2 consumed per day\n",
" O2_used=(6000/2816)*6;\n",
" // Rate of reaction (mol/m3.s)\n",
" r_O2=(O2_used/V)/(24*3600);\n",
" printf('\nRESULT\n')\n",
"printf('rate of reaction of O2(mol/m^3.s) is %f\n',r_O2)"
   ]
   }
],
"metadata": {
		  "kernelspec": {
		   "display_name": "Scilab",
		   "language": "scilab",
		   "name": "scilab"
		  },
		  "language_info": {
		   "file_extension": ".sce",
		   "help_links": [
			{
			 "text": "MetaKernel Magics",
			 "url": "https://github.com/calysto/metakernel/blob/master/metakernel/magics/README.md"
			}
		   ],
		   "mimetype": "text/x-octave",
		   "name": "scilab",
		   "version": "0.7.1"
		  }
		 },
		 "nbformat": 4,
		 "nbformat_minor": 0
}
