{
"cells": [
 {
		   "cell_type": "markdown",
	   "metadata": {},
	   "source": [
       "# Chapter 22: GL Reactions on Solid Catalysts"
	   ]
	},
{
		   "cell_type": "markdown",
		   "metadata": {},
		   "source": [
			"## Example 22.1: HYDROGENATION_OF_ACETONE_IN_A_PACKED_BUBBLE_COLUMN.sce"
		   ]
		  },
  {
"cell_type": "code",
	   "execution_count": null,
	   "metadata": {
	    "collapsed": true
	   },
	   "outputs": [],
"source": [
"clear\n",
"clc\n",
"PA=101325;//Pa\n",
"HA=36845;//PA.m3.l/mol\n",
"CBo=1000;//mol/m3\n",
"v=10^-4;//m3*l/s\n",
"h=5;//m\n",
"A=0.1;//m2\n",
"CA=PA/HA;\n",
"FBo=v*CBo;\n",
"Vr=A*h;\n",
"dp=5*10^-3;//mcat\n",
"d_solid=4500;//kg/m3cat\n",
"De=8*10^-10;//m3l/mcat.s\n",
"n=0.5;\n",
"b=1;\n",
"k=2.35*10^-3;\n",
"L=dp/6;\n",
"kai_overall=0.02;\n",
"kac_ac=0.05;\n",
"f=0.6;\n",
"//For a half-order reaction\n",
"Mt=L*sqrt((n+1)*(k*d_solid*(CA)^(n-1))/(2*De));\n",
"E=1/Mt;\n",
"rA=(1/((1/(kai_overall))+(1/(kac_ac))+(1/(k*b*(CA^(n-1))*E*f*d_solid))))*(PA/HA);\n",
"//From Material Balance\n",
"XB=b*rA*Vr/FBo;\n",
"printf('\n The conversion of acetone is %f',XB)"
   ]
   }
,
{
		   "cell_type": "markdown",
		   "metadata": {},
		   "source": [
			"## Example 22.2: HYDROGENATION_OF_A_BATCH_OF_BUTYNEDIOL_IN_A_SLURRY_REACTOR.sce"
		   ]
		  },
  {
"cell_type": "code",
	   "execution_count": null,
	   "metadata": {
	    "collapsed": true
	   },
	   "outputs": [],
"source": [
"clear\n",
"clc\n",
"PA=14.6*101325;//Pa\n",
"HA=148000;\n",
"Vr=2;\n",
"Vl=Vr;\n",
"b=1;\n",
"fs=0.0055;\n",
"k=5*10^-5;//m6l/kg.molcat.s\n",
"dp=5*10^-5;//mcat\n",
"kac=4.4*10^-4;kai=0.277;//m3l/m3.r.s\n",
"density=1450;//kg/m3\n",
"De=5*10^-10;//m3l/mcat.s\n",
"L=dp/6;//for spherical particle\n",
"CA=PA/HA;\n",
"X=0.9;\n",
"CBo=2500;//mol/m3.l\n",
"CB=CBo*(1-X);\n",
"ac=6*fs/dp;;\n",
"K=kac*ac;\n",
"//Guessing different values of CB\n",
"CB=[2500;1000;250];\n",
"e=[0.19;0.29;0.5];\n",
"for i=1:3\n",
"    Mt(i)=L*sqrt(k*CB(i)*density/De);\n",
"    rA(i)=CA/((1/kai)+(1/K)+(1/(k*density*e(i)*fs*CB(i))))\n",
"    inv_rA(i)=1/rA(i);\n",
"end\n",
"plot(CB,inv_rA)\n",
"xlabel('CB');ylabel('-1/rA')\n",
"//Reaction time is given by (Vl/b*Vr)*integral(dCB/-rA)\n",
"//Graphically integrating\n",
"Area=3460;\n",
"t=Vl*Area/(b*Vr);\n",
"t=t/60;//min\n",
"printf('\n The time required for 90 percentage conversion of reactant is %f',t)\n",
"printf('min')"
   ]
   }
],
"metadata": {
		  "kernelspec": {
		   "display_name": "Scilab",
		   "language": "scilab",
		   "name": "scilab"
		  },
		  "language_info": {
		   "file_extension": ".sce",
		   "help_links": [
			{
			 "text": "MetaKernel Magics",
			 "url": "https://github.com/calysto/metakernel/blob/master/metakernel/magics/README.md"
			}
		   ],
		   "mimetype": "text/x-octave",
		   "name": "scilab",
		   "version": "0.7.1"
		  }
		 },
		 "nbformat": 4,
		 "nbformat_minor": 0
}
