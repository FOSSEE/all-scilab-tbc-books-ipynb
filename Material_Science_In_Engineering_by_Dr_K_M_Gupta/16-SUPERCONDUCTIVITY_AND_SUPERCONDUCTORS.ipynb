{
"cells": [
 {
		   "cell_type": "markdown",
	   "metadata": {},
	   "source": [
       "# Chapter 16: SUPERCONDUCTIVITY AND SUPERCONDUCTORS"
	   ]
	},
{
		   "cell_type": "markdown",
		   "metadata": {},
		   "source": [
			"## Example 16.10: Determine_transition_temperature_and_critical_field.sce"
		   ]
		  },
  {
"cell_type": "code",
	   "execution_count": null,
	   "metadata": {
	    "collapsed": true
	   },
	   "outputs": [],
"source": [
"//Determine transition temperature and critical field\n",
"//Ex:16.10\n",
"clc;\n",
"clear;\n",
"close;\n",
"hc1=21;//in A/m\n",
"hc2=10;//in A/m\n",
"tc=7;//in K\n",
"t=14;//in K\n",
"h=hc1/hc2;\n",
"//Determining critical temperature\n",
"tc1=sqrt(3626/11);//by quadratic eqn in the example\n",
"ho=hc1/(1-(tc^2/tc1^2));\n",
"disp(ho,'Critical field at 0 K (in A/m) = ');\n",
"t=4.2;//in k\n",
"hc=ho*(1-(t/tc1)^2);\n",
"disp(hc,'Critical field At 4.2 k (in A/m) = ');"
   ]
   }
,
{
		   "cell_type": "markdown",
		   "metadata": {},
		   "source": [
			"## Example 16.1: find_susceptibilty_and_relative_permeability_of_a_superconductor.sce"
		   ]
		  },
  {
"cell_type": "code",
	   "execution_count": null,
	   "metadata": {
	    "collapsed": true
	   },
	   "outputs": [],
"source": [
"//find susceptibilty and relative permeability of a superconductor\n",
"//Ex:16.1\n",
"clc;\n",
"clear;\n",
"close;\n",
"b=0;\n",
"//m=-h\n",
"//m=x*h\n",
"\n",
"//==>> -h=x*h\n",
"x=-1;//from above realtions\n",
"disp(x,'Susceptibility of superconductor = ');\n",
"ur=x+1;//relative permeability\n",
"disp(ur,'Relative permeability of superconductor = ');"
   ]
   }
,
{
		   "cell_type": "markdown",
		   "metadata": {},
		   "source": [
			"## Example 16.2: Determine_critical_field.sce"
		   ]
		  },
  {
"cell_type": "code",
	   "execution_count": null,
	   "metadata": {
	    "collapsed": true
	   },
	   "outputs": [],
"source": [
"//Determine critical field\n",
"//Ex:16.2\n",
"clc;\n",
"clear;\n",
"close;\n",
"ho=0.0803;//in A/m\n",
"t1=3;//in K\n",
"t2=10;//in k\n",
"tc=7.17;//in K\n",
"hc1=ho*(1-(t1/tc)^2);\n",
"disp(hc1,'Critical field at 3K (in A/m) = ');\n",
"hc2=ho*(1-(t2/tc)^2);\n",
"disp(hc2,'Critical field at 10K (in A/m) = ');"
   ]
   }
,
{
		   "cell_type": "markdown",
		   "metadata": {},
		   "source": [
			"## Example 16.3: Find_critical_current.sce"
		   ]
		  },
  {
"cell_type": "code",
	   "execution_count": null,
	   "metadata": {
	    "collapsed": true
	   },
	   "outputs": [],
"source": [
"//Find critical current\n",
"//Ex:16.3\n",
"clc;\n",
"clear;\n",
"close;\n",
"r=1*10^-3;//in m\n",
"hc=7.9*10^3;//in A/m\n",
"ic=2*3.14*r*hc;//in m\n",
"disp(ic,'Critical current in superconducting state (in A) = ');"
   ]
   }
,
{
		   "cell_type": "markdown",
		   "metadata": {},
		   "source": [
			"## Example 16.4: Find_electron_and_current_density.sce"
		   ]
		  },
  {
"cell_type": "code",
	   "execution_count": null,
	   "metadata": {
	    "collapsed": true
	   },
	   "outputs": [],
"source": [
"//Find electron and current density\n",
"//Ex:16.4\n",
"clc;\n",
"clear;\n",
"close;\n",
"p=11.4*10^3;//in kg/m^3\n",
"aw=207.2;//in kg/kg-mol\n",
"v=1200;//in m/s\n",
"na=60.23*10^26;//avagadro's no\n",
"e=1.6*10^-19;//charge in C\n",
"m=9.1*10^-31;//mass of electron in kg\n",
"mo=4*3.14*10^-7;//in H/m\n",
"ne=2*p*na/aw;//in per m^3\n",
"disp(ne,'Electron density (in per m^3) = ');\n",
"ied=ne*e*v;//in A/m^2\n",
"disp(ied,'Current density (in A/m^2) = ');\n",
"dp=(m/(mo*ne*(e^2)))^(1/2);\n",
"dp1=dp*10^10;\n",
"disp(dp1,'Depth of penetration (in angstorm) = ');"
   ]
   }
,
{
		   "cell_type": "markdown",
		   "metadata": {},
		   "source": [
			"## Example 16.9: determine_critical_current_density.sce"
		   ]
		  },
  {
"cell_type": "code",
	   "execution_count": null,
	   "metadata": {
	    "collapsed": true
	   },
	   "outputs": [],
"source": [
"//determine critical current density\n",
"//Ex:16.9\n",
"clc;\n",
"clear;\n",
"close;\n",
"ho=65*10^3;//in A/m\n",
"tc=7.18;//in K\n",
"t=4.2;//in K\n",
"r=0.5*10^-3;//in m\n",
"hc=ho*(1-(t/tc)^2);//in A/m\n",
"ic=2*3.14*r*hc;//in A\n",
"a=3.14*r^2;//area in m^2\n",
"j=ic/a;//in A/m^2\n",
"disp(j,'current density (in A/m^2) = ');"
   ]
   }
],
"metadata": {
		  "kernelspec": {
		   "display_name": "Scilab",
		   "language": "scilab",
		   "name": "scilab"
		  },
		  "language_info": {
		   "file_extension": ".sce",
		   "help_links": [
			{
			 "text": "MetaKernel Magics",
			 "url": "https://github.com/calysto/metakernel/blob/master/metakernel/magics/README.md"
			}
		   ],
		   "mimetype": "text/x-octave",
		   "name": "scilab",
		   "version": "0.7.1"
		  }
		 },
		 "nbformat": 4,
		 "nbformat_minor": 0
}
