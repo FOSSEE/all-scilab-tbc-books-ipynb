{
"cells": [
 {
		   "cell_type": "markdown",
	   "metadata": {},
	   "source": [
       "# Chapter 10: PHASE DIAGRAM AND EQUILIBRIUM DIAGRAM"
	   ]
	},
{
		   "cell_type": "markdown",
		   "metadata": {},
		   "source": [
			"## Example 10.1: Prove_Two_component_system_cannot_have_more_than_4_phases_in_an_equilibrium.sce"
		   ]
		  },
  {
"cell_type": "code",
	   "execution_count": null,
	   "metadata": {
	    "collapsed": true
	   },
	   "outputs": [],
"source": [
"//Prove Two component system cannot have more than 4 phases in an equilibrium   \n",
"//Exa:10.1\n",
"close;\n",
"clc;\n",
"clear;\n",
"c=2;//for 2 component system\n",
"disp('D=C-P+2');\n",
"disp('Total no. of variables = P*(C-1)+2');\n",
"p=4;\n",
"d=c-p+2;//degree of freedom\n",
"t=p*(c-1)+2;//no. of total variables\n",
"disp(d,'Degree of freedom = ');\n",
"disp(p,'when p = ');\n",
"disp('Two component system cannot have more than 4 phases in an equilibrium');"
   ]
   }
,
{
		   "cell_type": "markdown",
		   "metadata": {},
		   "source": [
			"## Example 10.2: Calculate_Total_weight_of_lead_and_tin.sce"
		   ]
		  },
  {
"cell_type": "code",
	   "execution_count": null,
	   "metadata": {
	    "collapsed": true
	   },
	   "outputs": [],
"source": [
"//Calculate Total weight of lead and tin\n",
"//Exa:10.2\n",
"close;\n",
"clc;\n",
"clear;\n",
"p_pb=11364.1;//density of lead in kg/m^3\n",
"p_sn=7220.14;//density of tin in kg/m^3\n",
"p_e=100/((38/p_pb)+(62/p_sn));//density of eutectic composition at point D\n",
"disp(p_e,'Density of eutectic composition at point D (in kg/m3) = ');\n",
"w=.88*p_e;//in kgf\n",
"w_pb=.38*w;//of lead in kgf\n",
"w_sn=.62*w;//of tin in kgf\n",
"p_b=7300;//density in beta phase in kg/m^3\n",
"w1=.12*p_b;//in kgf\n",
"w1_pb=.03*w1;//of lead in kgf\n",
"w1_sn=.97*w1;//of tin in kgf\n",
"w2_pb=w_pb+w1_pb;//Total weight of lead in kgf\n",
"disp(w2_pb,'Total weight of lead (in kgf) = ');\n",
"w2_sn=w_sn+w1_sn;//Total weight of tin in kgf\n",
"disp(w2_sn,'Total weight of tin (in kgf) = ');\n",
"sn=(w2_sn/(w2_sn+w2_pb))*100;\n",
"disp(sn,'% of Sn = ');"
   ]
   }
,
{
		   "cell_type": "markdown",
		   "metadata": {},
		   "source": [
			"## Example 10.4: Find_weight_fractions.sce"
		   ]
		  },
  {
"cell_type": "code",
	   "execution_count": null,
	   "metadata": {
	    "collapsed": true
	   },
	   "outputs": [],
"source": [
"//Find weight fractions\n",
"//Ex:10.4\n",
"clc;\n",
"clear;\n",
"close;\n",
"c_be=100;\n",
"c_e=1.65;\n",
"c_o=10;\n",
"w=(c_be-c_o)/(c_be-c_e);\n",
"disp(w,'weight fractions = ');"
   ]
   }
,
{
		   "cell_type": "markdown",
		   "metadata": {},
		   "source": [
			"## Example 10.5: Find_Maximum_weight_of_tin.sce"
		   ]
		  },
  {
"cell_type": "code",
	   "execution_count": null,
	   "metadata": {
	    "collapsed": true
	   },
	   "outputs": [],
"source": [
"//Find Maximum weight of tin\n",
"//Ex:10.5\n",
"clc;\n",
"clear;\n",
"close;\n",
"//m be amount of tin\n",
"w_sn=900;//weight of tin\n",
"w_pb=1000;//weight of lead\n",
"m=((w_pb*0.97)-w_sn)/(1-.97);//in grams\n",
"m1=m/1000;//maximum mass of tin in kgm\n",
"disp(m1,'Maximum weight of tin that can be added without changing systems temperature (in kgm) = ');"
   ]
   }
,
{
		   "cell_type": "markdown",
		   "metadata": {},
		   "source": [
			"## Example 10.6: Find_Weight_fraction_of_errite_and_Cementite.sce"
		   ]
		  },
  {
"cell_type": "code",
	   "execution_count": null,
	   "metadata": {
	    "collapsed": true
	   },
	   "outputs": [],
"source": [
"//Find Weight fraction of errite and Cementite \n",
"//Ex:10.6\n",
"clc;\n",
"clear;\n",
"close;\n",
"c=0.83;//carbon\n",
"f=0;//ferrite\n",
"ce=6.67;//cementite\n",
"w_a=(ce-c)/(ce-f);\n",
"disp(w_a,'Weight fraction of errite = ');\n",
"w_b=(c-f)/(ce-f);\n",
"disp(w_b,'Weight Fraction of Cementite = ');"
   ]
   }
],
"metadata": {
		  "kernelspec": {
		   "display_name": "Scilab",
		   "language": "scilab",
		   "name": "scilab"
		  },
		  "language_info": {
		   "file_extension": ".sce",
		   "help_links": [
			{
			 "text": "MetaKernel Magics",
			 "url": "https://github.com/calysto/metakernel/blob/master/metakernel/magics/README.md"
			}
		   ],
		   "mimetype": "text/x-octave",
		   "name": "scilab",
		   "version": "0.7.1"
		  }
		 },
		 "nbformat": 4,
		 "nbformat_minor": 0
}
