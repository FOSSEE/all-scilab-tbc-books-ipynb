{
"cells": [
 {
		   "cell_type": "markdown",
	   "metadata": {},
	   "source": [
       "# Chapter 4: CRYSTALLOGRAPHY"
	   ]
	},
{
		   "cell_type": "markdown",
		   "metadata": {},
		   "source": [
			"## Example 4.3: Find_Lattice_constant_and_atomic_packing_fraction_of_NaCl_having_FCC_structure.sce"
		   ]
		  },
  {
"cell_type": "code",
	   "execution_count": null,
	   "metadata": {
	    "collapsed": true
	   },
	   "outputs": [],
"source": [
"//Find Lattice constant and atomic packing fraction of NaCl having FCC structure\n",
"//Ex:4.3\n",
"clc;\n",
"clear;\n",
"close;\n",
"r_na=0.98;//ionic radius of sodium in angstorm\n",
"r_cl=1.81;//ionic radius of chlorine in angstorm\n",
"n=4;//in fcc there are 4 Na and 4 Cl ions\n",
"a=((2*r_na)+(2*r_cl));//latice constant\n",
"disp(a,'Lattice constant = ');\n",
"apf=((n*(4/3)*3.14*r_na^3)+(n*(4/3)*3.14*r_cl^3))/a^3;\n",
"disp(apf,'atomic packing fraction of NaCl having FCC structure = ');"
   ]
   }
,
{
		   "cell_type": "markdown",
		   "metadata": {},
		   "source": [
			"## Example 4.4: Find_density_of_Copper.sce"
		   ]
		  },
  {
"cell_type": "code",
	   "execution_count": null,
	   "metadata": {
	    "collapsed": true
	   },
	   "outputs": [],
"source": [
"//Find density of Copper\n",
"//Ex:4.4\n",
"clc;\n",
"clear;\n",
"close;\n",
"r=1.278;//radius of copper in angstorm\n",
"//copper has FCC structure\n",
"a=4*r/sqrt(2);//in angstorm\n",
"disp(a,'a (in Angstorm) = ');\n",
"a1=a*10^-8;//in cm\n",
"aw=63.54;//atomic weight of copper\n",
"ne=4;//fcc\n",
"na=6.023*10^23;//Avagadro's no.\n",
"p=aw*ne/(na*a1^3);//in g/cm^3\n",
"p1=10^3*p;\n",
"disp(p1,'Density of Copper (in kg/cu m)');"
   ]
   }
,
{
		   "cell_type": "markdown",
		   "metadata": {},
		   "source": [
			"## Example 4.5: Find_distance_between_two_adjacent_atoms.sce"
		   ]
		  },
  {
"cell_type": "code",
	   "execution_count": null,
	   "metadata": {
	    "collapsed": true
	   },
	   "outputs": [],
"source": [
"//Find Distance between two adjacent atoms\n",
"//Ex:4.5\n",
"clc;\n",
"clear;\n",
"close;\n",
"w_na=23;//atomic weight of Na\n",
"w_cl=35.5;//atomic weight of Cl\n",
"w=w_na+w_cl;//effective no.of atoms in FCC structure\n",
"n=4;//FCC\n",
"na=6.023*10^23;//Avagadrro's no.\n",
"w_4=w*n/na;//weight of 4 molecules in gm\n",
"p=2.18;//density in gm/cm^3\n",
"a=(w_4/p)^(1/3);//in cm\n",
"a1=a*10^8;//in angstorm\n",
"disp(a1,'unit cell dimension (in angstorm) = ');\n",
"d=a1/2;\n",
"disp(d,'Distance between two adjacent atoms (in Angstorm) = ');"
   ]
   }
,
{
		   "cell_type": "markdown",
		   "metadata": {},
		   "source": [
			"## Example 4.6: Find_atomic_radius.sce"
		   ]
		  },
  {
"cell_type": "code",
	   "execution_count": null,
	   "metadata": {
	    "collapsed": true
	   },
	   "outputs": [],
"source": [
"//Find atomic radius\n",
"//Ex:4.6\n",
"clc;\n",
"clear;\n",
"close;\n",
"n=2;//BCC\n",
"p=7.86;//density in gm/cm^3\n",
"aw=55.85;//atomic weight of iron\n",
"na=6.023*10^23;//Avagadrro's no.\n",
"a=((aw*n)/(na*p))^(1/3);//in cm\n",
"a1=a*10^8;//in angstorm\n",
"disp(a1,'unit cell dimension of iron (in angstorm) = ');\n",
"r=sqrt(3)*a1/4;\n",
"disp(r,'atomic radius = ');"
   ]
   }
],
"metadata": {
		  "kernelspec": {
		   "display_name": "Scilab",
		   "language": "scilab",
		   "name": "scilab"
		  },
		  "language_info": {
		   "file_extension": ".sce",
		   "help_links": [
			{
			 "text": "MetaKernel Magics",
			 "url": "https://github.com/calysto/metakernel/blob/master/metakernel/magics/README.md"
			}
		   ],
		   "mimetype": "text/x-octave",
		   "name": "scilab",
		   "version": "0.7.1"
		  }
		 },
		 "nbformat": 4,
		 "nbformat_minor": 0
}
