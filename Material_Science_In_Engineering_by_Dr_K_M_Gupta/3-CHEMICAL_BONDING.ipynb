{
"cells": [
 {
		   "cell_type": "markdown",
	   "metadata": {},
	   "source": [
       "# Chapter 3: CHEMICAL BONDING"
	   ]
	},
{
		   "cell_type": "markdown",
		   "metadata": {},
		   "source": [
			"## Example 3.4: Find_Energy_of_third_and_fifth_orbit.sce"
		   ]
		  },
  {
"cell_type": "code",
	   "execution_count": null,
	   "metadata": {
	    "collapsed": true
	   },
	   "outputs": [],
"source": [
"//Find Energy of third and fifth orbit\n",
"//Ex:3.4\n",
"clc;\n",
"clear;\n",
"close;\n",
"e1=-13.6;//ionization potential of hydrogen in volts\n",
"n=3;//third orbit\n",
"e3=e1/(n^2);//Energy of third orbit in volts\n",
"disp(e3,'Energy of third orbit (in volts) = ');\n",
"m=5;//fifth orbit\n",
"e5=e1/(m^2);//Energy of fifth orbit in volts\n",
"disp(e5,'Energy of fifth orbit (in volts) = ');"
   ]
   }
,
{
		   "cell_type": "markdown",
		   "metadata": {},
		   "source": [
			"## Example 3.5: Find_dipole_moment_and_percentage_ionic_character.sce"
		   ]
		  },
  {
"cell_type": "code",
	   "execution_count": null,
	   "metadata": {
	    "collapsed": true
	   },
	   "outputs": [],
"source": [
"//Find Dipole moment and  Percentage ionic character\n",
"//Ex:3.5\n",
"clc;\n",
"clear;\n",
"close;\n",
"d=0.9178;//molecular distance in angstorm\n",
"d1=d*10^-10;//in m\n",
"e=1.602*10^-19;//in C\n",
"dm=e*d1;//dipole moment in fully ionic state in Cm\n",
"disp(dm,'Dipole moment of HF in fully ionic state (in Cm) = ');\n",
"dm_m=6.375*10^-30;//meaured dipole moment in Cm\n",
"p=(dm_m*100)/dm;//Percentage ionic character\n",
"disp(p,'Percentage ionic character');"
   ]
   }
],
"metadata": {
		  "kernelspec": {
		   "display_name": "Scilab",
		   "language": "scilab",
		   "name": "scilab"
		  },
		  "language_info": {
		   "file_extension": ".sce",
		   "help_links": [
			{
			 "text": "MetaKernel Magics",
			 "url": "https://github.com/calysto/metakernel/blob/master/metakernel/magics/README.md"
			}
		   ],
		   "mimetype": "text/x-octave",
		   "name": "scilab",
		   "version": "0.7.1"
		  }
		 },
		 "nbformat": 4,
		 "nbformat_minor": 0
}
