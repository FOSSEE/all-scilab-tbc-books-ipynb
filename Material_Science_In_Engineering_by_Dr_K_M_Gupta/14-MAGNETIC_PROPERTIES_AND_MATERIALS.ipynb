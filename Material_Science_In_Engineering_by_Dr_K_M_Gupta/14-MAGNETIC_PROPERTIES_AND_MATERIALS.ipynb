{
"cells": [
 {
		   "cell_type": "markdown",
	   "metadata": {},
	   "source": [
       "# Chapter 14: MAGNETIC PROPERTIES AND MATERIALS"
	   ]
	},
{
		   "cell_type": "markdown",
		   "metadata": {},
		   "source": [
			"## Example 14.13: Find_Magnetic_field_strength_and_Flux_density.sce"
		   ]
		  },
  {
"cell_type": "code",
	   "execution_count": null,
	   "metadata": {
	    "collapsed": true
	   },
	   "outputs": [],
"source": [
"//Find Magnetic field strength and Flux density\n",
"//Ex:14.13\n",
"clc;\n",
"clear;\n",
"close;\n",
"l=.25;//in m\n",
"n=400;//turns\n",
"i=15;//in A\n",
"u_0=1.257*10^-6;//in H/m\n",
"h=n*i/l;//in AT/m\n",
"disp(h,'Magnetic field strength (in AT/m) = ');\n",
"u_r=1;//relative permeability\n",
"b=u_0*u_r*h;//in wB/sqm\n",
"disp(b,'Flux density (in Wb/sq m) = ');"
   ]
   }
,
{
		   "cell_type": "markdown",
		   "metadata": {},
		   "source": [
			"## Example 14.1: Find_relative_permeability_and_Intensity_of_magnetisation.sce"
		   ]
		  },
  {
"cell_type": "code",
	   "execution_count": null,
	   "metadata": {
	    "collapsed": true
	   },
	   "outputs": [],
"source": [
"//Find relative permeability and Intensity of magnetisation\n",
"//Ex:14.1\n",
"clc;\n",
"clear;\n",
"close;\n",
"x=1500;//susceptibility\n",
"h=2400;//mafnetic field in A/m\n",
"u_r=1+x;\n",
"disp(u_r,'relative permeability = ');\n",
"m=x*h;//in A/m\n",
"disp(m,'Intensity of magnetisation (in A/m)');\n",
"u_0=4*3.14*10^-7;\n",
"b=u_0*u_r*h;//in T\n",
"disp(b,'Remanance (in T) = ')"
   ]
   }
,
{
		   "cell_type": "markdown",
		   "metadata": {},
		   "source": [
			"## Example 14.2: Estimate_Hysteresis_energy_loss_per_unit_volume.sce"
		   ]
		  },
  {
"cell_type": "code",
	   "execution_count": null,
	   "metadata": {
	    "collapsed": true
	   },
	   "outputs": [],
"source": [
"//Estimate Hysteresis energy loss per unit volume\n",
"//Ex:14.2\n",
"clc;\n",
"clear;\n",
"close;\n",
"w=80+80;//width of loop in A/m from graph\n",
"h=0.15+.15;//height of loop in Wb/sqm\n",
"a=w*h;//area of the loop in J\n",
"disp(a,'Hysteresis energy loss per unit volume of magnetic material during one cycle (in J) = ');"
   ]
   }
,
{
		   "cell_type": "markdown",
		   "metadata": {},
		   "source": [
			"## Example 14.3: Find_Power_loss_due_to_Hysteresis.sce"
		   ]
		  },
  {
"cell_type": "code",
	   "execution_count": null,
	   "metadata": {
	    "collapsed": true
	   },
	   "outputs": [],
"source": [
"//Find Power loss due to Hysteresis\n",
"//Ex:14.3\n",
"clc;\n",
"clear;\n",
"close;\n",
"a=600;//loop area in J/sqm\n",
"f=50;//in Hz\n",
"v=0.01//volume in cu. m\n",
"w=a*f*v;//in W\n",
"disp(w,'Power loss due to Hysteresis (in W) = ');"
   ]
   }
,
{
		   "cell_type": "markdown",
		   "metadata": {},
		   "source": [
			"## Example 14.4: Find_Loss_at_40_Hz.sce"
		   ]
		  },
  {
"cell_type": "code",
	   "execution_count": null,
	   "metadata": {
	    "collapsed": true
	   },
	   "outputs": [],
"source": [
"//Find Loss at 40 Hz\n",
"//Ex:14.4\n",
"clc;\n",
"clear;\n",
"close;\n",
"w_h1=300;\n",
"b_1=0.9;\n",
"y=b_1^1.7;\n",
"b_2=1.1;\n",
"x=b_2^1.7;\n",
"f1=50;\n",
"f2=40;\n",
"w_h2=(w_h1*x*f2)/(y*f1);\n",
"w_h22=w_h2*1.22;//in W\n",
"disp(w_h22,'Loss at 40 Hz (in W) = ');"
   ]
   }
,
{
		   "cell_type": "markdown",
		   "metadata": {},
		   "source": [
			"## Example 14.5: Find_Magnetic_strength.sce"
		   ]
		  },
  {
"cell_type": "code",
	   "execution_count": null,
	   "metadata": {
	    "collapsed": true
	   },
	   "outputs": [],
"source": [
"//Find Magnetic strength\n",
"//Ex:14.5\n",
"clc;\n",
"clear;\n",
"close;\n",
"m=6000;\n",
"u_r=200000;\n",
"x=u_r-1;\n",
"h=m/x;\n",
"u_0=4*3.14*10^-7;\n",
"b=u_0*u_r*h;\n",
"disp(b,'Magnetic strength (in T) = ');"
   ]
   }
,
{
		   "cell_type": "markdown",
		   "metadata": {},
		   "source": [
			"## Example 14.6: Estimate_Saturation_Magnetisation.sce"
		   ]
		  },
  {
"cell_type": "code",
	   "execution_count": null,
	   "metadata": {
	    "collapsed": true
	   },
	   "outputs": [],
"source": [
"//Estimate Saturation Magnetisation\n",
"//Ex:14.6\n",
"clc;\n",
"clear;\n",
"close;\n",
"b=9.27*10^-24;//Bohr Magneton in A/sqm\n",
"m=0.6*b;\n",
"a=0.35*10^-9;\n",
"n=4;//FCC\n",
"m_g=n*m/a^3;//in A/m\n",
"disp(m_g,'Saturation Magnetisation (in A/m) =');"
   ]
   }
,
{
		   "cell_type": "markdown",
		   "metadata": {},
		   "source": [
			"## Example 14.9: Find_Eddy_current_loss_at_60_and_100_Hz.sce"
		   ]
		  },
  {
"cell_type": "code",
	   "execution_count": null,
	   "metadata": {
	    "collapsed": true
	   },
	   "outputs": [],
"source": [
"//Find Eddy current loss at 60 and 100 Hz\n",
"//Ex:14.9\n",
"clc;\n",
"clear;\n",
"close;\n",
"f=50;//in Hz\n",
"L=100;//Eddy current loss in transformer in W\n",
"f1=60;//in Hz\n",
"w_e=L*(f1/f)^2;//in W\n",
"disp(w_e,'Eddy current loss at 60 Hz (in W) = ');\n",
"f2=100;//in Hz\n",
"w_ee=L*(f2/f)^2;//in W\n",
"disp(w_ee,'Eddy current loss at 100 Hz (in W) = ');"
   ]
   }
],
"metadata": {
		  "kernelspec": {
		   "display_name": "Scilab",
		   "language": "scilab",
		   "name": "scilab"
		  },
		  "language_info": {
		   "file_extension": ".sce",
		   "help_links": [
			{
			 "text": "MetaKernel Magics",
			 "url": "https://github.com/calysto/metakernel/blob/master/metakernel/magics/README.md"
			}
		   ],
		   "mimetype": "text/x-octave",
		   "name": "scilab",
		   "version": "0.7.1"
		  }
		 },
		 "nbformat": 4,
		 "nbformat_minor": 0
}
