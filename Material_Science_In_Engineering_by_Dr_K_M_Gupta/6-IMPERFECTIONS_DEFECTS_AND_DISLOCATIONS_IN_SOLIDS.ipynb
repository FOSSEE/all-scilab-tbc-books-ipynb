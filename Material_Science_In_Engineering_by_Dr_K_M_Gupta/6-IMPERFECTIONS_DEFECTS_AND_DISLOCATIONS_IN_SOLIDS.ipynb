{
"cells": [
 {
		   "cell_type": "markdown",
	   "metadata": {},
	   "source": [
       "# Chapter 6: IMPERFECTIONS DEFECTS AND DISLOCATIONS IN SOLIDS"
	   ]
	},
{
		   "cell_type": "markdown",
		   "metadata": {},
		   "source": [
			"## Example 6.1: Find_No_of_Frenkel_defect.sce"
		   ]
		  },
  {
"cell_type": "code",
	   "execution_count": null,
	   "metadata": {
	    "collapsed": true
	   },
	   "outputs": [],
"source": [
"//Find No. of Frenkel defect\n",
"//Ex:6.1\n",
"clc;\n",
"clear;\n",
"close;\n",
"na=6.023*10^23;//Avagadro's no.\n",
"p=3170;//density in kg/m^3\n",
"mw=7.9*10^-2;//molecular weight of CaF2\n",
"nl=na*p/mw;//calcium ions/cubic m\n",
"ni=2*nl;// /cubic m\n",
"t=1300;//in K\n",
"ef=2.7*1.6*10^-19;//energy of formation of one frenkel defect\n",
"k=1.38*10^-23;//boltzmann constant\n",
"nf=sqrt(nl*ni)*exp(-ef/(2*k*t));//in /cubic m\n",
"disp(nf,'No. of Frenkel defect per unit volume of Calcium Fluoride (in /m^3) = ');"
   ]
   }
,
{
		   "cell_type": "markdown",
		   "metadata": {},
		   "source": [
			"## Example 6.2: Calculate_Ratio_of_no_of_vacancies.sce"
		   ]
		  },
  {
"cell_type": "code",
	   "execution_count": null,
	   "metadata": {
	    "collapsed": true
	   },
	   "outputs": [],
"source": [
"//Calculate Ratio of no. of vacancies\n",
"//Ex:6.2\n",
"clc;\n",
"clear;\n",
"close;\n",
"r=8.314;// J/mol K\n",
"t1=300;//in K\n",
"ent=168*10^3;//enthalpy of formation of vacancy in J/mol\n",
"x1=exp(-ent/(r*t1));//x1=n/Na\n",
"t2=1000;//in K\n",
"x2=exp(-ent/(r*t2));//x2=n/Na\n",
"rt=x1/x2;//ratio \n",
"disp(rt,'Ratio of no. of vacancies = ');"
   ]
   }
,
{
		   "cell_type": "markdown",
		   "metadata": {},
		   "source": [
			"## Example 6.4: Find_Elastic_Strain_Energy.sce"
		   ]
		  },
  {
"cell_type": "code",
	   "execution_count": null,
	   "metadata": {
	    "collapsed": true
	   },
	   "outputs": [],
"source": [
"//Find Elastic Strain Energy\n",
"//Ex:6.4\n",
"clc;\n",
"clear;\n",
"close;\n",
"v=0.31;//poisson's ratio\n",
"bv=.25*10^-9;//burger's vector in m\n",
"ri=1.1*10^-9;//in m\n",
"r0=10^5*bv;//in m\n",
"sm=45*10^9;//shear modulous in n/sqm\n",
"gb_2=sm*bv^2;\n",
"u_ed=(gb_2/(4*3.14*(1-v)))*log(r0/ri);\n",
"disp(u_ed,'Elastic Strain Energy of Edge dislocation (in J/m) = ');\n",
"u_sd=(gb_2/(4*3.14))*log(r0/ri);\n",
"disp(u_sd,'Elastic Strain Energy of Screw dislocation (in J/m) = ');\n",
"r=u_ed/u_sd;//ratio\n",
"disp(r,'Ratio of energies of edge dislocation over screw dislocation = ');"
   ]
   }
,
{
		   "cell_type": "markdown",
		   "metadata": {},
		   "source": [
			"## Example 6.5: Calulate_Total_number_of_created_vacancies.sce"
		   ]
		  },
  {
"cell_type": "code",
	   "execution_count": null,
	   "metadata": {
	    "collapsed": true
	   },
	   "outputs": [],
"source": [
"//Calulate Total no. of created vacancies\n",
"//Ex:6.5\n",
"clc;\n",
"clear;\n",
"close;\n",
"r=1.7*10^-10;//atomic radius in m\n",
"n1=10^-3;//1mm=10^-3m\n",
"a=2*r;//in m\n",
"n=n1/a;\n",
"ed=2*10^-6;//edge dislocation in m\n",
"ns=ed/a;\n",
"nv=n*ns;\n",
"disp(nv,'Total no. of created vacancies = ');"
   ]
   }
],
"metadata": {
		  "kernelspec": {
		   "display_name": "Scilab",
		   "language": "scilab",
		   "name": "scilab"
		  },
		  "language_info": {
		   "file_extension": ".sce",
		   "help_links": [
			{
			 "text": "MetaKernel Magics",
			 "url": "https://github.com/calysto/metakernel/blob/master/metakernel/magics/README.md"
			}
		   ],
		   "mimetype": "text/x-octave",
		   "name": "scilab",
		   "version": "0.7.1"
		  }
		 },
		 "nbformat": 4,
		 "nbformat_minor": 0
}
