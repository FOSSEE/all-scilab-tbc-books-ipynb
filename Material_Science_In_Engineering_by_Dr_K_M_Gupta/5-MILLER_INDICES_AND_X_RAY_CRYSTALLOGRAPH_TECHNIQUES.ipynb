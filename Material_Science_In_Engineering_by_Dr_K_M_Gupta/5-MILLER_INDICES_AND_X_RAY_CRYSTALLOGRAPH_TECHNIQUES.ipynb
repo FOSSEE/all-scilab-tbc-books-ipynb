{
"cells": [
 {
		   "cell_type": "markdown",
	   "metadata": {},
	   "source": [
       "# Chapter 5: MILLER INDICES AND X RAY CRYSTALLOGRAPH TECHNIQUES"
	   ]
	},
{
		   "cell_type": "markdown",
		   "metadata": {},
		   "source": [
			"## Example 5.10: Find_Dimension_of_unit_cell.sce"
		   ]
		  },
  {
"cell_type": "code",
	   "execution_count": null,
	   "metadata": {
	    "collapsed": true
	   },
	   "outputs": [],
"source": [
"//Find Dimension of unit cell\n",
"//Ex:5.10\n",
"clc;\n",
"clear;\n",
"close;\n",
"w=0.0708;//wavelength in nm\n",
"h=1;\n",
"k=0;\n",
"l=0;\n",
"s=0.0132;//a common divisor i.e.sin^2(theta)=0.0132\n",
"a=sqrt((w^2*(h^2+k^2+l^2))/(4*s));//in nm\n",
"a1=10^3*a;//in pm\n",
"disp(a1,'Dimension of unit cell (in Picometer) = ');"
   ]
   }
,
{
		   "cell_type": "markdown",
		   "metadata": {},
		   "source": [
			"## Example 5.1: Find_MILLER_INDICES_OF_THE_PLANE.sce"
		   ]
		  },
  {
"cell_type": "code",
	   "execution_count": null,
	   "metadata": {
	    "collapsed": true
	   },
	   "outputs": [],
"source": [
"//Find MILLER INDICES OF THE PLANE\n",
"//Ex:5.1\n",
"clc;\n",
"clear;\n",
"close;\n",
"p=1;\n",
"q=1/2;\n",
"r=3;\n",
"h=1/p;\n",
"k=1/q;\n",
"l=1/r;\n",
"h1=3*h;\n",
"k1=3*k;\n",
"l1=3*l;\n",
"disp(h1,'MILLER INDICES OF THE PLANE are h =');\n",
"disp(k1,'k = ');\n",
"disp(l1,'l = ');"
   ]
   }
,
{
		   "cell_type": "markdown",
		   "metadata": {},
		   "source": [
			"## Example 5.3: Find_MILLER_INDICES_OF_THE_PLANE.sce"
		   ]
		  },
  {
"cell_type": "code",
	   "execution_count": null,
	   "metadata": {
	    "collapsed": true
	   },
	   "outputs": [],
"source": [
"//Find MILLER INDICES OF THE PLANE\n",
"//Ex:5.3\n",
"clc;\n",
"clear;\n",
"close;\n",
"p=2/4;//intercepts\n",
"q=3/3;\n",
"r=4/2;\n",
"h=1/p;\n",
"k=1/q;\n",
"l=1/r;\n",
"h1=2*h;\n",
"k1=2*k;\n",
"l1=2*l;\n",
"disp(l1,k1,h1,'MILLER INDICES ARE ');"
   ]
   }
,
{
		   "cell_type": "markdown",
		   "metadata": {},
		   "source": [
			"## Example 5.5: Find_interplanar_Spacing.sce"
		   ]
		  },
  {
"cell_type": "code",
	   "execution_count": null,
	   "metadata": {
	    "collapsed": true
	   },
	   "outputs": [],
"source": [
"//Find Interplanar Spacing\n",
"//Ex:5.5\n",
"clc;\n",
"clear;\n",
"close;\n",
"r=1.246;//radius in angstorm\n",
"h=2;\n",
"k=0;\n",
"l=0;\n",
"x=sqrt(h^2+k^2+l^2);\n",
"a=2*sqrt(2)*r;//in angstorm\n",
"d_200=a/x;//interplanar spacing in angstorm\n",
"disp(d_200,'Interplanar Spacing (200) (in Angstorm) = ');\n",
"h1=2;\n",
"k1=2;\n",
"l1=0;\n",
"x1=sqrt(h1^2+k1^2+l1^2);\n",
"d_220=a/x1;//interplanar spacing in angstorm\n",
"disp(d_220,'Interplanar Spacing (220) (in Angstorm) = ');\n",
"h2=1;\n",
"k2=1;\n",
"l2=1;\n",
"x2=sqrt(h2^2+k2^2+l2^2);\n",
"d_111=a/x2;//interplanar spacing in angstorm\n",
"disp(d_111,'Interplanar Spacing (111) (in Angstorm) = ');"
   ]
   }
,
{
		   "cell_type": "markdown",
		   "metadata": {},
		   "source": [
			"## Example 5.6: Find_Linear_Density_per_unit_length.sce"
		   ]
		  },
  {
"cell_type": "code",
	   "execution_count": null,
	   "metadata": {
	    "collapsed": true
	   },
	   "outputs": [],
"source": [
"//Find Linear Density per unit length\n",
"//Ex:5.6\n",
"clc;\n",
"clear;\n",
"close;\n",
"a=3.61*10^-10;//unit cell in m\n",
"r_110=2/(sqrt(2)*a);//in atoms/m\n",
"r_a=r_110/10^3;//in atoms/mm\n",
"disp(r_a,'Linear Density per unit length along direction [110] (in atoms/mm) =');\n",
"r_111=1/(sqrt(3)*a);//in atoms/m\n",
"r_b=r_111/10^3;//in atoms/mm\n",
"disp(r_b,'Linear Density per unit length along direction [111] (in atoms/mm) =');"
   ]
   }
,
{
		   "cell_type": "markdown",
		   "metadata": {},
		   "source": [
			"## Example 5.7: Find_Planar_Density.sce"
		   ]
		  },
  {
"cell_type": "code",
	   "execution_count": null,
	   "metadata": {
	    "collapsed": true
	   },
	   "outputs": [],
"source": [
"//Find Planar Density\n",
"//Ex:5.7\n",
"clc;\n",
"clear;\n",
"close;\n",
"r_po=1.7*10^-10;//radius of polonium in m\n",
"r_rh=1.34*10^-10;//radius of rhodium in m\n",
"r_cr=1.25*10^-10;//radius of chromium in m\n",
"a_po=2*r_po;//in m\n",
"a_rh=2*sqrt(2)*r_rh;//in m\n",
"a_cr=4*r_cr/sqrt(3);\n",
"p_po=1/a_po^2;// /sqm\n",
"disp(p_po,'Planar Density on [100] in Polonium (per sqm) = ');\n",
"p_rh=1.414/a_rh^2;// /sqm\n",
"disp(p_rh,'Planar Density on [110] in Rhodium (per sqm) = ');\n",
"p_cr=1.732/a_cr^2;// /sqm\n",
"disp(p_cr,'Planar Density on [111] in Chromium (per sqm) = ');"
   ]
   }
,
{
		   "cell_type": "markdown",
		   "metadata": {},
		   "source": [
			"## Example 5.8: Find_Glancing_angle_and_Interplanar_spacing_of_the_crystal.sce"
		   ]
		  },
  {
"cell_type": "code",
	   "execution_count": null,
	   "metadata": {
	    "collapsed": true
	   },
	   "outputs": [],
"source": [
"//Find Glancing angle and Interplanar spacing of the crystal\n",
"//Ex:5.8\n",
"clc;\n",
"clear;\n",
"close;\n",
"w=0.824;//wavelength in angstorm\n",
"a1=8.58;//angle at n=1 in degrees\n",
"n1=1;\n",
"n3=3;\n",
"a3=asind((n3/n1)*sind(a1));//angle at n=3 in degrees\n",
"disp(a3,'Glancing angle for third order diffraction = ');\n",
"d=w/(2*sind(a1));//in angstorm\n",
"disp(d,'Interplanar spacing of the crystal (in Angstorm) = ');"
   ]
   }
,
{
		   "cell_type": "markdown",
		   "metadata": {},
		   "source": [
			"## Example 5.9: Find_Glancing_angle_and_lattice_parameter.sce"
		   ]
		  },
  {
"cell_type": "code",
	   "execution_count": null,
	   "metadata": {
	    "collapsed": true
	   },
	   "outputs": [],
"source": [
"//Find Glancing angle and lattice parameter\n",
"//Ex:5.9\n",
"clc;\n",
"clear;\n",
"close;\n",
"a=17.03;//in degrees\n",
"w=0.71;//in angstorm\n",
"n=1;\n",
"d=n*w/(2*sind(a));//interplanar spacing in angstorm\n",
"disp(d,'Interplanar Spacing (in angstorm) = ');\n",
"// given that h^2+k^2+l^2=8\n",
"a=sqrt(8)*d;//in angstorm\n",
"disp(a,'Lattice parameter of the crystal (in Angstorm) = ');"
   ]
   }
],
"metadata": {
		  "kernelspec": {
		   "display_name": "Scilab",
		   "language": "scilab",
		   "name": "scilab"
		  },
		  "language_info": {
		   "file_extension": ".sce",
		   "help_links": [
			{
			 "text": "MetaKernel Magics",
			 "url": "https://github.com/calysto/metakernel/blob/master/metakernel/magics/README.md"
			}
		   ],
		   "mimetype": "text/x-octave",
		   "name": "scilab",
		   "version": "0.7.1"
		  }
		 },
		 "nbformat": 4,
		 "nbformat_minor": 0
}
