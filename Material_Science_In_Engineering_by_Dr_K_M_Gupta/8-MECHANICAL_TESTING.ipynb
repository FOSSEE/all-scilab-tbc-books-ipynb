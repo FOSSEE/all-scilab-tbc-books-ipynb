{
"cells": [
 {
		   "cell_type": "markdown",
	   "metadata": {},
	   "source": [
       "# Chapter 8: MECHANICAL TESTING"
	   ]
	},
{
		   "cell_type": "markdown",
		   "metadata": {},
		   "source": [
			"## Example 8.1: Find_Flexural_Strength_Shear_Strength_and_Modulous_of_Rupture.sce"
		   ]
		  },
  {
"cell_type": "code",
	   "execution_count": null,
	   "metadata": {
	    "collapsed": true
	   },
	   "outputs": [],
"source": [
"//Find  Flexural Strength Shear Strength and Modulous of Rupture\n",
"//Ex:8.1\n",
"clc;\n",
"clear;\n",
"close;\n",
"b=225;//in mm\n",
"h=10;//in mm\n",
"l=1100;//in mm\n",
"f1=250;//in N\n",
"m=f1*l/4;//in N-mm\n",
"f=f1/2;//in N\n",
"a=(6*m)/(b*h^2);//in N/mm^2\n",
"disp(a,'Flexural Strength (in N/sqmm) = ');\n",
"t=(3*f)/(2*b*h);//in N/sqmm\n",
"disp(t,'Shear Strength (in N/sqmm) = ');\n",
"f2=350;//in N at which glass breaks\n",
"r=f2*l/4;//in N-mm\n",
"i=(b*h^3)/12;//in mm^4\n",
"y=h/2;//in mm\n",
"mr=r*y/i;//in n/sqmm\n",
"disp(mr,'Modulous of Rupture (in N/sqmm) = ');"
   ]
   }
,
{
		   "cell_type": "markdown",
		   "metadata": {},
		   "source": [
			"## Example 8.2: FIND_BRINELL_HARDNESS_NUMBER.sce"
		   ]
		  },
  {
"cell_type": "code",
	   "execution_count": null,
	   "metadata": {
	    "collapsed": true
	   },
	   "outputs": [],
"source": [
"//FIND BRINELL HARDNESS NUMBER \n",
"//Ex:8.2\n",
"clc;\n",
"clear;\n",
"close;\n",
"d=5;//in mm\n",
"id=32.5/10;//indentation diameter in mm\n",
"p=30*d^2;//load for steel specimen in kgf\n",
"disp(p,'Load P for steel specimen (in kgf) = ');\n",
"bhn=p/((3.14*d/2)*(d-sqrt(d^2-id^2)));//in kgf/sqmm\n",
"disp(bhn,'BRINELL HARDNESS NUMBER of the steel specimen = ');"
   ]
   }
,
{
		   "cell_type": "markdown",
		   "metadata": {},
		   "source": [
			"## Example 8.3: Find_Rupture_Energy_Modulous_Of_Rupture_and_Notch_Imapct_Strength.sce"
		   ]
		  },
  {
"cell_type": "code",
	   "execution_count": null,
	   "metadata": {
	    "collapsed": true
	   },
	   "outputs": [],
"source": [
"//Find Rupture Energy Modulous Of Rupture and Notch Imapct Strength\n",
"//Ex:8.3\n",
"clc;\n",
"clear;\n",
"close;\n",
"l=0.1;//frictinal and windage losses in kgf-m\n",
"dr=5.9;//dial reading in kgf-m\n",
"u=dr-l;//in kgf-m\n",
"disp(u,'Rupture Energy (in kgf-m) = ');\n",
"t=10;//in mm\n",
"d=t/5;//depth of V-notch in mm\n",
"te=t-d;//effective thickness in mm\n",
"ve=75*10*te;//effective volume in cu. mm\n",
"vem=ve*10^-9;//in cu. m\n",
"mr=u/vem;//in kgf/sqm\n",
"disp(mr,'Modulous Of Rupture (in kgf/sqm) = ');\n",
"ae=t*te;//effective area of cross section in sqmm\n",
"aem=ae*10^-6;//in sqm\n",
"is=u/aem;//in kg/m\n",
"disp(is,'Notch Imapct Strength (in kg/m) = ');\n",
"ui=30;//in kgf-m\n",
"a=160;//angle in degrees\n",
"r=0.8;//swing radius in m\n",
"uf=ui-u;//in kgf-m\n",
"w=19.33;//weight of hammer in kgf-m\n",
"hf=uf/w;//in m\n",
"disp(hf,'Height risen by Hammer (in m) = ');\n",
"//hf=r*(1-cos(b))\n",
"b=acosd((r-hf)/r);//in degrees\n",
"disp(b,'Angle after Breaking the specimen (in degress) = ');"
   ]
   }
,
{
		   "cell_type": "markdown",
		   "metadata": {},
		   "source": [
			"## Example 8.4: Find_Stress_Ratio_and_range.sce"
		   ]
		  },
  {
"cell_type": "code",
	   "execution_count": null,
	   "metadata": {
	    "collapsed": true
	   },
	   "outputs": [],
"source": [
"//Find Stress Ratio and range\n",
"//Ex:8.4\n",
"clc;\n",
"clear;\n",
"close;\n",
"a_m=70;//mean stress in Mpa\n",
"a_r=210;//stress amplitude in Mpa\n",
"a_max=((2*a_m)+a_r)/2;//maximum stress in MPa\n",
"disp(a_max,'Maximum Stress Level (in MPa) = ');\n",
"a_min=2*a_m-a_max;//Minimum stress in MPa\n",
"disp(a_min,'Minimum Stress Level (in MPa) = ');\n",
"s=a_min/a_max;//stress ratio\n",
"disp(s,'Stress Ratio = ');\n",
"sr=a_max-a_min;//stress range in MPa\n",
"disp(sr,'Stress Range (in MPa) = ');"
   ]
   }
,
{
		   "cell_type": "markdown",
		   "metadata": {},
		   "source": [
			"## Example 8.5: Calculate_ENDURANCE_STRESS_FROM_using_various_relations.sce"
		   ]
		  },
  {
"cell_type": "code",
	   "execution_count": null,
	   "metadata": {
	    "collapsed": true
	   },
	   "outputs": [],
"source": [
"//Calculate ENDURANCE STRESS FROM using various relations\n",
"//Ex:8.5\n",
"clc;\n",
"clear;\n",
"close;\n",
"p_min=20;//in kN\n",
"p_max=50;//in kN\n",
"l=500;//in mm\n",
"d=60;//in mm\n",
"a_u=650;//in MPa\n",
"a_y=520;;//in MPa\n",
"fos=1.8;//factor of safety\n",
"m_max=p_max*l/4;//maximum bending moment in kN mm\n",
"m_min=p_min*l/4;//minimum bending moment in kN mm\n",
"m_m=(m_max+m_min)/2;//mean bending moment in kN mm\n",
"m_a=(m_max-m_min)/2;//alternating bending moment in kN mm\n",
"z=3.14*d^3/32;\n",
"a_m=(m_m/z)*1000;//mean bending stress in MPa\n",
"a_a=(m_a/z)*1000;//alternating bending stress in MPa\n",
"a_e1=a_a/((1/fos)-(a_m/a_u)^2*fos);//in MPa\n",
"disp(a_e1,'ENDURANCE STRESS FROM Gerbers Parabolic Function (in MPa) = ');\n",
"a_e2=a_a/((1/fos)-(a_m/a_u));//in MPa\n",
"disp(a_e2,'ENDURANCE STRESS FROM Goodman Straight Line Relation (in MPa) = ')\n",
"a_e3=a_a/((1/fos)-(a_m/a_y));//in MPa\n",
"disp(a_e3,'ENDURANCE STRESS FROM Soderberg Straight Line Relation (in MPa) = ')"
   ]
   }
],
"metadata": {
		  "kernelspec": {
		   "display_name": "Scilab",
		   "language": "scilab",
		   "name": "scilab"
		  },
		  "language_info": {
		   "file_extension": ".sce",
		   "help_links": [
			{
			 "text": "MetaKernel Magics",
			 "url": "https://github.com/calysto/metakernel/blob/master/metakernel/magics/README.md"
			}
		   ],
		   "mimetype": "text/x-octave",
		   "name": "scilab",
		   "version": "0.7.1"
		  }
		 },
		 "nbformat": 4,
		 "nbformat_minor": 0
}
