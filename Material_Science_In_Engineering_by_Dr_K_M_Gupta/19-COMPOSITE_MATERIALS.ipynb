{
"cells": [
 {
		   "cell_type": "markdown",
	   "metadata": {},
	   "source": [
       "# Chapter 19: COMPOSITE MATERIALS"
	   ]
	},
{
		   "cell_type": "markdown",
		   "metadata": {},
		   "source": [
			"## Example 19.1: Find_flexural_rigidity_of_sandwich_construction.sce"
		   ]
		  },
  {
"cell_type": "code",
	   "execution_count": null,
	   "metadata": {
	    "collapsed": true
	   },
	   "outputs": [],
"source": [
"//Find flexural rigidity of sandwich construction\n",
"//Ex:19.1\n",
"clc;\n",
"clear;\n",
"close;\n",
"t_s=3;//in mm\n",
"t_c=24;//in mm\n",
"b=100;//in mm\n",
"d=(t_s+t_c)/2;//in mm\n",
"is=((b*t_s^3)/12)+(b*t_s*d^2);//in mm^4\n",
"ic=b*t_c^3/12;//in mm^4\n",
"m_p=7000;//moduli of polyester skin in N/mm^2\n",
"m_f=20;//moduli of foam core in N/mm^2\n",
"d_fr=(2*m_p*is)+(m_f*ic);//in N/mm^2\n",
"disp(d_fr,'Flexural rigidity (in N/sqm) = ');"
   ]
   }
,
{
		   "cell_type": "markdown",
		   "metadata": {},
		   "source": [
			"## Example 19.2: Determine_volume_ratio_of_Al_and_B_in_aluminium_boron_composite.sce"
		   ]
		  },
  {
"cell_type": "code",
	   "execution_count": null,
	   "metadata": {
	    "collapsed": true
	   },
	   "outputs": [],
"source": [
"//Determine volume ratio of Al and B in aluminium boron composite\n",
"//Ex:19.2\n",
"clc;\n",
"clear;\n",
"close;\n",
"ec=210;//in GPa\n",
"ea=71;//in GPa\n",
"eb=440;//in GPa\n",
"va=(ec-eb)/(ea-eb);\n",
"disp(va,'Va = ');\n",
"vb=1-va;\n",
"disp(vb,'Vb = ');\n",
"c=vb/va;\n",
"disp(c,'Volume ratio = ');"
   ]
   }
,
{
		   "cell_type": "markdown",
		   "metadata": {},
		   "source": [
			"## Example 19.3: Calculate_fraction_of_load_carried_by_fibres.sce"
		   ]
		  },
  {
"cell_type": "code",
	   "execution_count": null,
	   "metadata": {
	    "collapsed": true
	   },
	   "outputs": [],
"source": [
"//Calculate fraction of load carried by fibres \n",
"//Ex:19.3\n",
"clc;\n",
"clear;\n",
"close;\n",
"ef=430;//in GPa\n",
"e=3.6;//in GPa\n",
"m=ef/e;\n",
"vf=0.15;//by volume\n",
"vm=1-vf;\n",
"x=vm/vf;\n",
"pf=m;\n",
"pc=m+x;\n",
"y=pf/pc;\n",
"disp(y,'fraction of load carried by fibres (15 % by volume) = ');\n",
"vf1=0.65\n",
"vm1=1-vf1;\n",
"z=vm1/vf1;\n",
"pc1=m+z;\n",
"zz=pf/pc1;\n",
"disp(zz,'fraction of load carried by fibres (65 % by volume) = ')"
   ]
   }
,
{
		   "cell_type": "markdown",
		   "metadata": {},
		   "source": [
			"## Example 19.4: EX19_4.sce"
		   ]
		  },
  {
"cell_type": "code",
	   "execution_count": null,
	   "metadata": {
	    "collapsed": true
	   },
	   "outputs": [],
"source": [
"//Find longitudinal strength longitudianl modulous transverse modulous Poisson ratio Shear modulous\n",
"//Ex:19.4\n",
"clc;\n",
"clear;\n",
"close;\n",
"vf=0.65;\n",
"vm=1-vf;\n",
"kts=2.8;//in Gpa\n",
"ets=0.0025;//in GPa\n",
"ac=(kts*vf)+(ets*vm);//in GPa\n",
"disp(ac,'Longitudinal Strength (in GPa) = ');\n",
"ktm=130;//in GPa\n",
"etm=3.5;//in GPa\n",
"ec=(ktm*vf)+(etm*vm);\n",
"disp(ec,'Longitudianl Modulous (in GPa) = ');\n",
"e_c=1/((vf/ktm)+(vm/etm));\n",
"disp(e_c,'Transverse Modulous (in GPa) = ');\n",
"kp=0.34;//in GPa\n",
"ep=0.36;//in GPa\n",
"vlt=(vf*kp)+(vm*vm);\n",
"disp(vlt,'Poissons Ratio = ');\n",
"glt=1/((vf/2.2)+(vm/1.2));//in GPa\n",
"disp(glt,'Shear Modulous (in GPa) = ');"
   ]
   }
],
"metadata": {
		  "kernelspec": {
		   "display_name": "Scilab",
		   "language": "scilab",
		   "name": "scilab"
		  },
		  "language_info": {
		   "file_extension": ".sce",
		   "help_links": [
			{
			 "text": "MetaKernel Magics",
			 "url": "https://github.com/calysto/metakernel/blob/master/metakernel/magics/README.md"
			}
		   ],
		   "mimetype": "text/x-octave",
		   "name": "scilab",
		   "version": "0.7.1"
		  }
		 },
		 "nbformat": 4,
		 "nbformat_minor": 0
}
