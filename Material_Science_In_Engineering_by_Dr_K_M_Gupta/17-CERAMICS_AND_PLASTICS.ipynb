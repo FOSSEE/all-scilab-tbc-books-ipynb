{
"cells": [
 {
		   "cell_type": "markdown",
	   "metadata": {},
	   "source": [
       "# Chapter 17: CERAMICS AND PLASTICS"
	   ]
	},
{
		   "cell_type": "markdown",
		   "metadata": {},
		   "source": [
			"## Example 17.1: Calculate_molecular_weight.sce"
		   ]
		  },
  {
"cell_type": "code",
	   "execution_count": null,
	   "metadata": {
	    "collapsed": true
	   },
	   "outputs": [],
"source": [
"//Calculate molecular weight\n",
"//Ex:17.1\n",
"clc;\n",
"clear;\n",
"close;\n",
"mc=12;//mol wt of carbon\n",
"mh=1;;//mol wt of hydrogen\n",
"m=8*(mc+mh);//mol wt of C8H8\n",
"DOP=10000;//degree of polarization , given\n",
"mp=DOP*m;\n",
"disp(mp,'Molecualr weight of Styrene polymer = ');"
   ]
   }
,
{
		   "cell_type": "markdown",
		   "metadata": {},
		   "source": [
			"## Example 17.2: Determine_molecular_weight_of_teflon.sce"
		   ]
		  },
  {
"cell_type": "code",
	   "execution_count": null,
	   "metadata": {
	    "collapsed": true
	   },
	   "outputs": [],
"source": [
"//Determine molecular weight of teflon\n",
"//Ex:17.2\n",
"clc;\n",
"clear;\n",
"close;\n",
"DOP=10000;\n",
"mc=12;//mol wt of carbon\n",
"mf=19;;//mol wt of fluorine\n",
"m=(2*mc)+(4*mf);//mol wt of teflon monomer\n",
"mp=DOP*m;\n",
"disp(mp,'Molecualr weight of Teflon polymer = ');\n",
"mh=1;;//mol wt of hydrogen\n",
"m1=(2*mc)+(4*mh);//mol wt of polyethylene\n",
"//for same DOP\n",
"x=m/m1;//ratio of molecular weights\n",
"disp(x,'Ratio of molecualr weights of Teflon and Polyethylene = ');"
   ]
   }
],
"metadata": {
		  "kernelspec": {
		   "display_name": "Scilab",
		   "language": "scilab",
		   "name": "scilab"
		  },
		  "language_info": {
		   "file_extension": ".sce",
		   "help_links": [
			{
			 "text": "MetaKernel Magics",
			 "url": "https://github.com/calysto/metakernel/blob/master/metakernel/magics/README.md"
			}
		   ],
		   "mimetype": "text/x-octave",
		   "name": "scilab",
		   "version": "0.7.1"
		  }
		 },
		 "nbformat": 4,
		 "nbformat_minor": 0
}
