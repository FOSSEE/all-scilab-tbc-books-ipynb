{
"cells": [
 {
		   "cell_type": "markdown",
	   "metadata": {},
	   "source": [
       "# Chapter 7: MECHANICAL PROPERTIES"
	   ]
	},
{
		   "cell_type": "markdown",
		   "metadata": {},
		   "source": [
			"## Example 7.3: Find_various_Modulous_of_elasticity.sce"
		   ]
		  },
  {
"cell_type": "code",
	   "execution_count": null,
	   "metadata": {
	    "collapsed": true
	   },
	   "outputs": [],
"source": [
"//Find various Modulous of elasticity\n",
"//Ex7.3\n",
"clear;\n",
"close;\n",
"a1=222*10^9;//in N\n",
"a2=168*10^9;//in N\n",
"e1=1.90;//in sqm\n",
"e2=1.42;//in sqm\n",
"da=a1-a2;//in N\n",
"de=e1-e2;//in sqm\n",
"e_tan=da/de;\n",
"e_tann=e_tan*10^-9;//in Gpa\n",
"disp(e_tann,'Tangent Modulous of elasticity (in Gpa) = ');\n",
"a3=180*10^9;//in N\n",
"e3=1.46;//in sqm\n",
"e_sec=10^-9*a3/e3;//in Gpa\n",
"disp(e_sec,'Secant modulous of elasticity (in Gpa) = ');\n",
"a=85*10^6;\n",
"e=.68*10^-3;\n",
"e_y=10^-9*a/e;//in Gpa\n",
"disp(e_y,'Youngs modulous (in Gpa) = ');"
   ]
   }
,
{
		   "cell_type": "markdown",
		   "metadata": {},
		   "source": [
			"## Example 7.5: Find_stress.sce"
		   ]
		  },
  {
"cell_type": "code",
	   "execution_count": null,
	   "metadata": {
	    "collapsed": true
	   },
	   "outputs": [],
"source": [
"//Find Stress\n",
"//Ex:7.5\n",
"clc;\n",
"clear;\n",
"close;\n",
"n=3;\n",
"a=300;\n",
"v_cr=2.8*10^-8;// in cm/cm/hour creep rate\n",
"x=log(v_cr)-n*log(a);\n",
"a1=exp(x);\n",
"t=365*24;//in hours\n",
"e=2*10^6;//kgf/sqcm\n",
"ai=750;//in kgf/sqcm\n",
"a_tf=sqrt(1/((1/ai^(n-1))+(a1*e*(n-1)*t)));\n",
"disp(a_tf,'Stress Remaining (in kgf/sq cm) = ');"
   ]
   }
],
"metadata": {
		  "kernelspec": {
		   "display_name": "Scilab",
		   "language": "scilab",
		   "name": "scilab"
		  },
		  "language_info": {
		   "file_extension": ".sce",
		   "help_links": [
			{
			 "text": "MetaKernel Magics",
			 "url": "https://github.com/calysto/metakernel/blob/master/metakernel/magics/README.md"
			}
		   ],
		   "mimetype": "text/x-octave",
		   "name": "scilab",
		   "version": "0.7.1"
		  }
		 },
		 "nbformat": 4,
		 "nbformat_minor": 0
}
