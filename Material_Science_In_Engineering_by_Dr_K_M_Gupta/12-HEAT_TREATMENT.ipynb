{
"cells": [
 {
		   "cell_type": "markdown",
	   "metadata": {},
	   "source": [
       "# Chapter 12: HEAT TREATMENT"
	   ]
	},
{
		   "cell_type": "markdown",
		   "metadata": {},
		   "source": [
			"## Example 12.1: calculate_percentage_change_in_volume.sce"
		   ]
		  },
  {
"cell_type": "code",
	   "execution_count": null,
	   "metadata": {
	    "collapsed": true
	   },
	   "outputs": [],
"source": [
"//calculate percentage change in volume\n",
"//Ex:12.1\n",
"clc;\n",
"clear;\n",
"close;\n",
"n_bcc=1/2;\n",
"n_fcc=1/4;\n",
"r_fcc=1.26;//in Angstorm\n",
"r_bcc=1.24;//in Angstorm\n",
"a_bcc=4*r_bcc/sqrt(3);//in Angstorm\n",
"a_fcc=2*sqrt(2)*r_fcc;//in Angstorm\n",
"v_fcc=a_fcc^3;\n",
"v_bcc=a_bcc^3;\n",
"v=100*((n_fcc*v_fcc)-(n_bcc*v_bcc))/(n_fcc*v_fcc);\n",
"disp(v,'Percentage change in volume = ');"
   ]
   }
,
{
		   "cell_type": "markdown",
		   "metadata": {},
		   "source": [
			"## Example 12.3: Estimate_free_energy_change_during_recrystallization.sce"
		   ]
		  },
  {
"cell_type": "code",
	   "execution_count": null,
	   "metadata": {
	    "collapsed": true
	   },
	   "outputs": [],
"source": [
"//Estimate free energy change during recrystallization\n",
"//Ex:12.3\n",
"clc;\n",
"clear;\n",
"close;\n",
"e=51;//Young modulous in GPa\n",
"v=0.22;//poisson ratio\n",
"g=e/(2*(1-v));//shear modulous in GPa\n",
"b=2*10^-10;\n",
"ue=(1/2)*g*10^9*b^2*10^12;//in J/m^3\n",
"disp(ue,'Change in free energy during recrysatllization (in J/m^3) = ');"
   ]
   }
,
{
		   "cell_type": "markdown",
		   "metadata": {},
		   "source": [
			"## Example 12.5: Find_contribution_of_particles.sce"
		   ]
		  },
  {
"cell_type": "code",
	   "execution_count": null,
	   "metadata": {
	    "collapsed": true
	   },
	   "outputs": [],
"source": [
"//Find contribution of particles\n",
"//Ex:12.5\n",
"clc;\n",
"clear;\n",
"close;\n",
"g=41*10^9;//in N/m^2\n",
"b=0.64*10^-9;//in m\n",
"l=20*10^-6;//in m\n",
"t=g*b/l;//in N/m^2\n",
"T=t*10^-6;//in MPa\n",
"disp(T,'Contribution of these particles (in MPa) = ');"
   ]
   }
],
"metadata": {
		  "kernelspec": {
		   "display_name": "Scilab",
		   "language": "scilab",
		   "name": "scilab"
		  },
		  "language_info": {
		   "file_extension": ".sce",
		   "help_links": [
			{
			 "text": "MetaKernel Magics",
			 "url": "https://github.com/calysto/metakernel/blob/master/metakernel/magics/README.md"
			}
		   ],
		   "mimetype": "text/x-octave",
		   "name": "scilab",
		   "version": "0.7.1"
		  }
		 },
		 "nbformat": 4,
		 "nbformat_minor": 0
}
