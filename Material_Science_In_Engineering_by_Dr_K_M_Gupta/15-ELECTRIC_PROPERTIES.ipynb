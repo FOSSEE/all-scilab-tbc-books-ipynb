{
"cells": [
 {
		   "cell_type": "markdown",
	   "metadata": {},
	   "source": [
       "# Chapter 15: ELECTRIC PROPERTIES"
	   ]
	},
{
		   "cell_type": "markdown",
		   "metadata": {},
		   "source": [
			"## Example 15.10: Find_thickness_of_insulation.sce"
		   ]
		  },
  {
"cell_type": "code",
	   "execution_count": null,
	   "metadata": {
	    "collapsed": true
	   },
	   "outputs": [],
"source": [
"//Find  thickness of insulation \n",
"//Ex:15.10\n",
"clc;\n",
"clear;\n",
"close;\n",
"d=40000;//dielectric strength in V/mm\n",
"v=33*10^3;//in volts\n",
"t=v/d;//in mm\n",
"disp(t,'thickness of insulation (in mm) = ');"
   ]
   }
,
{
		   "cell_type": "markdown",
		   "metadata": {},
		   "source": [
			"## Example 15.16: Find_Band_gap_energy.sce"
		   ]
		  },
  {
"cell_type": "code",
	   "execution_count": null,
	   "metadata": {
	    "collapsed": true
	   },
	   "outputs": [],
"source": [
"//Find Band gap energy\n",
"//Ex:15.16\n",
"clc;\n",
"clear;\n",
"close;\n",
"c=2.99*10^8;//speed of light in m/s\n",
"h=6.62*10^-24;//planck's constant\n",
"w=1.771*10^-6;//wavelength in J\n",
"eg=h*c/w;//in J\n",
"disp(eg,'Band gap energy (in J) = ');"
   ]
   }
,
{
		   "cell_type": "markdown",
		   "metadata": {},
		   "source": [
			"## Example 15.1: Find_Electric_field.sce"
		   ]
		  },
  {
"cell_type": "code",
	   "execution_count": null,
	   "metadata": {
	    "collapsed": true
	   },
	   "outputs": [],
"source": [
"//Find  Electric field\n",
"//Ex:15.1\n",
"clc;\n",
"clear;\n",
"close;\n",
"v=230;//in volts\n",
"d=0.005;//in m\n",
"E=-v/d;//in V/m\n",
"disp(E,'Electric field between pair of conducting plates (in V/m) = ');"
   ]
   }
,
{
		   "cell_type": "markdown",
		   "metadata": {},
		   "source": [
			"## Example 15.2: Find_Drift_Velocity.sce"
		   ]
		  },
  {
"cell_type": "code",
	   "execution_count": null,
	   "metadata": {
	    "collapsed": true
	   },
	   "outputs": [],
"source": [
"//Find Drift Velocity\n",
"//Ex:15.2\n",
"clc;\n",
"clear;\n",
"close;\n",
"n=10^19;//no. of electrons per unit volume\n",
"e=1.602*10^-19;//charge of an electron in C\n",
"a=0.018;//conductivity in ohm/m\n",
"m=9.1*10^-31;//mass of an electron in kg\n",
"v=0.16;//in volts\n",
"t=0.29;//thickness in mm\n",
"efg=v/t;//electric field gradient in V/m\n",
"vd=a*efg/(n*e);\n",
"vd1=10^3*vd;//in m/s\n",
"disp(vd1,'Drift Velocity (in m/sec) = ');"
   ]
   }
,
{
		   "cell_type": "markdown",
		   "metadata": {},
		   "source": [
			"## Example 15.3: Find_Specific_Resistance.sce"
		   ]
		  },
  {
"cell_type": "code",
	   "execution_count": null,
	   "metadata": {
	    "collapsed": true
	   },
	   "outputs": [],
"source": [
"//Find Specific Resistance\n",
"//Ex:15.3\n",
"clc;\n",
"clear;\n",
"close;\n",
"l=200;//in m\n",
"r=21;//in ohm\n",
"d=0.44*10^-3;//in m\n",
"a=3.14*(d/2)^2;//area in sq m\n",
"p=r*a/l;//in ohm-m\n",
"disp(p,'Specific Resistance (in ohm-m) = ');"
   ]
   }
,
{
		   "cell_type": "markdown",
		   "metadata": {},
		   "source": [
			"## Example 15.4: Find_Resistivity.sce"
		   ]
		  },
  {
"cell_type": "code",
	   "execution_count": null,
	   "metadata": {
	    "collapsed": true
	   },
	   "outputs": [],
"source": [
"//Find Resistivity\n",
"//Ex:15.4\n",
"clc;\n",
"clear;\n",
"close;\n",
"p_cu=0.015*10^-6;//resistivity of copper in ohm-m\n",
"p_ni=0.012*10^-6;//resistivity of nickel in ohm-m\n",
"p_ag=0.016*10^-6;//resistivity of silver in ohm-m\n",
"c1=0.25;//atomic % of nickel\n",
"c2=0.4;//atomic % of silver\n",
"p=p_cu+(c1*p_ni)+(c2*p_ag);\n",
"disp(p,'Resistivity of Cu-Ni-Ag alloy at 300 K (in ohm-m) = ');"
   ]
   }
,
{
		   "cell_type": "markdown",
		   "metadata": {},
		   "source": [
			"## Example 15.5: Calculate_Intrinsic_Carrier_density.sce"
		   ]
		  },
  {
"cell_type": "code",
	   "execution_count": null,
	   "metadata": {
	    "collapsed": true
	   },
	   "outputs": [],
"source": [
"//Calculate Intrinsic Carrier density\n",
"//Ex:15.5\n",
"clc;\n",
"clear;\n",
"close;\n",
"m=0.14;//mobility of electron\n",
"u_h=0.05;//mobility of holes\n",
"p=3000;//resistivity in ohm-m\n",
"e=1.602*10^-19;//charge of an electron in C\n",
"a=1/p;//conductivity \n",
"n=a/(e*(m+u_h));\n",
"disp(n,'Intrinsic Carrier density in pure silicon (in per cu m) = ');"
   ]
   }
,
{
		   "cell_type": "markdown",
		   "metadata": {},
		   "source": [
			"## Example 15.6: Estimate_Drift_Velocity_and_time_taken_by_electrons.sce"
		   ]
		  },
  {
"cell_type": "code",
	   "execution_count": null,
	   "metadata": {
	    "collapsed": true
	   },
	   "outputs": [],
"source": [
"//Estimate Drift Velocity and time taken by electrons\n",
"//Ex:15.6\n",
"clc;\n",
"clear;\n",
"close;\n",
"id=1000;//in A/sqm\n",
"p=0.05;//resistivity in ohm-m\n",
"l=100*10^-6;//in m\n",
"m_e=0.4;//in sqm/Vsec\n",
"e=1.602*10^-19;//charge of electron in C\n",
"a=1/p;//conductivity\n",
"n_e=a/(e*m_e);//in per cubic m\n",
"v_d=id/(n_e*e);//in m/s\n",
"disp(v_d,'Drift Velocity (in m/s) = ');\n",
"t=l/v_d;//in sec\n",
"t1=t*10^6;//in msec\n",
"disp(t1,'Time taken by electrons (in msec) = ');"
   ]
   }
,
{
		   "cell_type": "markdown",
		   "metadata": {},
		   "source": [
			"## Example 15.7: Find_Impurity_concentration.sce"
		   ]
		  },
  {
"cell_type": "code",
	   "execution_count": null,
	   "metadata": {
	    "collapsed": true
	   },
	   "outputs": [],
"source": [
"//Find Impurity concentration \n",
"//Ex:15.7\n",
"clc;\n",
"clear;\n",
"close;\n",
"d=1*10^-3;//diameter in m\n",
"a=3.14*(d/2)^2;//area of cross section of rod in sq m\n",
"r=100;//in ohm\n",
"l=10*10^-3;//in m\n",
"p=a*r/l;//in ohm-m\n",
"c=1/p;//conductivity\n",
"e=1.602*10^-19;//charge of electron in C\n",
"u_h=0.19;//mobility of holes in sqm/Vsec\n",
"n_h=c/(e*u_h);\n",
"disp(n_h,'Impurity concentration in rod (in per cubic m) = ');"
   ]
   }
,
{
		   "cell_type": "markdown",
		   "metadata": {},
		   "source": [
			"## Example 15.8: Calculate_Conduction_electron_and_hole_density.sce"
		   ]
		  },
  {
"cell_type": "code",
	   "execution_count": null,
	   "metadata": {
	    "collapsed": true
	   },
	   "outputs": [],
"source": [
"//Calculate Conduction electron and hole density\n",
"//Ex:15.8\n",
"clc;\n",
"clear;\n",
"close;\n",
"ni=1.5*10^16;//intrinsic carrier concentration per cu. m\n",
"n=10^19;//no. of conduction electrons in per cu. m\n",
"p=ni^2/n;//in per cu.m\n",
"disp(p,'Conduction electron and hole density (per cubic m) = ');"
   ]
   }
,
{
		   "cell_type": "markdown",
		   "metadata": {},
		   "source": [
			"## Example 15.9: Calculate_Hole_concentration.sce"
		   ]
		  },
  {
"cell_type": "code",
	   "execution_count": null,
	   "metadata": {
	    "collapsed": true
	   },
	   "outputs": [],
"source": [
"//Calculate Hole concentration \n",
"//Ex:15.9\n",
"clc;\n",
"clear;\n",
"close;\n",
"nd=10^17;//in per cu cm\n",
"ni=1.5*10^10;//in cu cm\n",
"ne=nd;//nd>>ni\n",
"nh=ni^2/ne;\n",
"disp(nh,'Hole concentration (in per cubic cm) = ');\n",
"t=300;//in K\n",
"e=0.0259*log(ne/ni);//in eV\n",
"disp(e,'Location of Fermi Level (in eV) = ');"
   ]
   }
],
"metadata": {
		  "kernelspec": {
		   "display_name": "Scilab",
		   "language": "scilab",
		   "name": "scilab"
		  },
		  "language_info": {
		   "file_extension": ".sce",
		   "help_links": [
			{
			 "text": "MetaKernel Magics",
			 "url": "https://github.com/calysto/metakernel/blob/master/metakernel/magics/README.md"
			}
		   ],
		   "mimetype": "text/x-octave",
		   "name": "scilab",
		   "version": "0.7.1"
		  }
		 },
		 "nbformat": 4,
		 "nbformat_minor": 0
}
