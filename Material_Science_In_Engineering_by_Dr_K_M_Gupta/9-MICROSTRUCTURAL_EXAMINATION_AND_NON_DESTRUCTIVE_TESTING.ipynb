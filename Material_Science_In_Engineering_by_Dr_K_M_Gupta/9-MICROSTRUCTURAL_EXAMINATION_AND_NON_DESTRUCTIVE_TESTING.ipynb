{
"cells": [
 {
		   "cell_type": "markdown",
	   "metadata": {},
	   "source": [
       "# Chapter 9: MICROSTRUCTURAL EXAMINATION AND NON DESTRUCTIVE TESTING"
	   ]
	},
{
		   "cell_type": "markdown",
		   "metadata": {},
		   "source": [
			"## Example 9.1: Find_grain_diameter.sce"
		   ]
		  },
  {
"cell_type": "code",
	   "execution_count": null,
	   "metadata": {
	    "collapsed": true
	   },
	   "outputs": [],
"source": [
"//Find grain diameter\n",
"//Exa:9.1\n",
"clc;\n",
"clear;\n",
"close ;\n",
"n=2^(12-1);//astm no.=12\n",
"//1 sq inch=645mm^2\n",
"d=1/sqrt((n/645)*10^4);//grain diameter in mm\n",
"disp(d,'grain diameter for ASTM no. 12 (in mm) = ');"
   ]
   }
,
{
		   "cell_type": "markdown",
		   "metadata": {},
		   "source": [
			"## Example 9.2: Find_Average_and_Boundary_area.sce"
		   ]
		  },
  {
"cell_type": "code",
	   "execution_count": null,
	   "metadata": {
	    "collapsed": true
	   },
	   "outputs": [],
"source": [
"//Find Average and Boundary area\n",
"//Exa:9.2\n",
"clc;\n",
"clear;\n",
"close ;\n",
"n=2^(5-1);//astm no. = 5 in grain/inch^2\n",
"//Lineal and Areal magnifications are related as *100 Lineal = *10000 Areal\n",
"x=n/(.01*.01);//in grain/inch^2 at 1 x.\n",
"a=1/x;//average area in inch^2\n",
"a1=2.54*2.54*a;//average area in cm.^2\n",
"disp(a1,'Average area of one grain (in sq cm) = ');\n",
"l=sqrt(x);//grains/inch of length\n",
"s=(1/l)^2;//surface area in sq inch\n",
"s6=6*s;//surface area of 6 surfaces of cubic grain in sq inch\n",
"b=0.5*s6*(l^3);//total boundary area in sq inch\n",
"b1=b/(2.54);//total boundary area in sq cm\n",
"disp(b1,'Boundary Area per cubic centimetre of steel (in sq cm) = ');"
   ]
   }
],
"metadata": {
		  "kernelspec": {
		   "display_name": "Scilab",
		   "language": "scilab",
		   "name": "scilab"
		  },
		  "language_info": {
		   "file_extension": ".sce",
		   "help_links": [
			{
			 "text": "MetaKernel Magics",
			 "url": "https://github.com/calysto/metakernel/blob/master/metakernel/magics/README.md"
			}
		   ],
		   "mimetype": "text/x-octave",
		   "name": "scilab",
		   "version": "0.7.1"
		  }
		 },
		 "nbformat": 4,
		 "nbformat_minor": 0
}
