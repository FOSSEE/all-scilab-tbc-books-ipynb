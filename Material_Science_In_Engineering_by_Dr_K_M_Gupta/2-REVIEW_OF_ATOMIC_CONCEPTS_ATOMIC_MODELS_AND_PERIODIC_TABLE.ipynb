{
"cells": [
 {
		   "cell_type": "markdown",
	   "metadata": {},
	   "source": [
       "# Chapter 2: REVIEW OF ATOMIC CONCEPTS ATOMIC MODELS AND PERIODIC TABLE"
	   ]
	},
{
		   "cell_type": "markdown",
		   "metadata": {},
		   "source": [
			"## Example 2.1: Find_average_atomic_weight_of_Hydrogen.sce"
		   ]
		  },
  {
"cell_type": "code",
	   "execution_count": null,
	   "metadata": {
	    "collapsed": true
	   },
	   "outputs": [],
"source": [
"//Find average atomic weight of Hydrogen.\n",
"//Exa:1.1\n",
"close;\n",
"clc;\n",
"clear;\n",
"a1=1.0078;//atomic weight of H-1\n",
"a2=2.0143;//atomic weight of H-2\n",
"p1=99.985;//% of H-1\n",
"p2=.015;//% of H-2\n",
"a=((a1*p1)+(a2*p2))/100\n",
"disp(a,'Average atomic weight of Hydrogen = ');"
   ]
   }
,
{
		   "cell_type": "markdown",
		   "metadata": {},
		   "source": [
			"## Example 2.2: Find_distance.sce"
		   ]
		  },
  {
"cell_type": "code",
	   "execution_count": null,
	   "metadata": {
	    "collapsed": true
	   },
	   "outputs": [],
"source": [
"//Ex:2.2\n",
"clc;\n",
"clear;\n",
"close;\n",
"z=79;//atomic no. of gold\n",
"e=7.68*1.6*10^-13;//ke in J\n",
"e_c=1.6*10^-19;//charge of electron in C\n",
"e_0=8.854*10^-12;//permittivity F/m\n",
"d=(2*e_c^2*z)/(4*3.14*e_0*e);//distance in m\n",
"disp(d,'distance (in m) = ');"
   ]
   }
,
{
		   "cell_type": "markdown",
		   "metadata": {},
		   "source": [
			"## Example 2.3: Find_number_of_particles_scattered_at_75_and_135_degree.sce"
		   ]
		  },
  {
"cell_type": "code",
	   "execution_count": null,
	   "metadata": {
	    "collapsed": true
	   },
	   "outputs": [],
"source": [
"//Find number of particles scattered at 75 and 135 degree\n",
"//Ex:2.3\n",
"clc;\n",
"clear;\n",
"close;\n",
"n=44;//no. of particles scattered per minute\n",
"a=90;//angle in degrees\n",
"x=sind(a/2);\n",
"c=n*x^4;\n",
"disp(c,'Proportionality constant = ');\n",
"b=75;//angle in degrees\n",
"y=sind(b/2);\n",
"n1=c/y^4;\n",
"disp(n1,'No. of particles scattered at 75 degree (in per minute) = ');\n",
"d=135;//angle in degrees\n",
"z=sind(d/2);\n",
"n2=c/z^4;\n",
"disp(n2,'No. of particles scattered at 135 degree (in per minute) = ');"
   ]
   }
,
{
		   "cell_type": "markdown",
		   "metadata": {},
		   "source": [
			"## Example 2.4: Find_radius_of_first_orbit_of_electron_in_Hydrogen_atom.sce"
		   ]
		  },
  {
"cell_type": "code",
	   "execution_count": null,
	   "metadata": {
	    "collapsed": true
	   },
	   "outputs": [],
"source": [
"//Find radius of first orbit of electron in Hydrogen atom\n",
"//Ex:2.4\n",
"clc;\n",
"clear;\n",
"close;\n",
"n=1;//first orbit\n",
"e_0=8.85*10^-12;//permittivity in freee space\n",
"h=6.62*10^-34;//planck's constant\n",
"m=9.1*10^-31;//mass of an electron in kg\n",
"e=1.6*10^-19;//charge of an electron in C\n",
"z=1;\n",
"r=n^2*e_0*h^2/(3.14*m*e^2*z);//radius of first orbit in m\n",
"r1=r*10^10;//radius in Angstorm\n",
"disp(r1,'Radius of first orbit of electron in Hydrogen atom (in Angstorm) = ');"
   ]
   }
,
{
		   "cell_type": "markdown",
		   "metadata": {},
		   "source": [
			"## Example 2.5: Find_Ionisation_Energy.sce"
		   ]
		  },
  {
"cell_type": "code",
	   "execution_count": null,
	   "metadata": {
	    "collapsed": true
	   },
	   "outputs": [],
"source": [
"//Find Ionisation Energy\n",
"//Ex:2.5\n",
"clc;\n",
"clear;\n",
"close;\n",
"e_0=8.85*10^-12;//permittivity in freee space in sqC/N/sqm\n",
"h=6.62*10^-34;//planck's constant in Js\n",
"m=9.1*10^-31;//mass of an electron in kg\n",
"e=1.6*10^-19;//charge of an electron in C\n",
"z=1;//for hydrogen\n",
"n=1;\n",
"e=m*z^2*e^4/(8*e_0^2*h^2*n^2);//ionisation energy in J\n",
"disp(e,'Ionisation Energy (in J) = ');\n",
"e1=e/(1.602*10^-19);//in eV\n",
"disp(e1,'Ionisation Energy (in eV) = ');"
   ]
   }
,
{
		   "cell_type": "markdown",
		   "metadata": {},
		   "source": [
			"## Example 2.6: Find_dimensions_of_elliptical_locus.sce"
		   ]
		  },
  {
"cell_type": "code",
	   "execution_count": null,
	   "metadata": {
	    "collapsed": true
	   },
	   "outputs": [],
"source": [
"//Find dimensionsof elliptical locus\n",
"//Ex:2.6\n",
"clc;\n",
"clear;\n",
"close;\n",
"n=4;//fourth orbit\n",
"a=(0+1)/n;//for s suborbit\n",
"disp(a,'For s suborbit b/a = ');\n",
"b=(1+1)/n;//for p suborbit\n",
"disp(b,'For p suborbit b/a = ');\n",
"c=(2+1)/n;//for d suborbit\n",
"disp(c,'For d suborbit b/a = ');\n",
"d=(3+1)/n;//for f suborbit\n",
"disp(d,'For f suborbit b/a = ');"
   ]
   }
,
{
		   "cell_type": "markdown",
		   "metadata": {},
		   "source": [
			"## Example 2.7: Find_Minimum_Uncertainity_in_Position.sce"
		   ]
		  },
  {
"cell_type": "code",
	   "execution_count": null,
	   "metadata": {
	    "collapsed": true
	   },
	   "outputs": [],
"source": [
"//Find Minimum Uncertainity in Position\n",
"//Ex:2.7\n",
"clc;\n",
"clear;\n",
"close;\n",
"h=6.62*10^-34;//planck's constant in Js\n",
"p=10^-27;//uncertainity in momentum in kg m/s\n",
"x=h/(2*3.14*p);//uncertainity in position in m\n",
"disp(x,'Minimum Uncertainity in Position (in m) = ');"
   ]
   }
],
"metadata": {
		  "kernelspec": {
		   "display_name": "Scilab",
		   "language": "scilab",
		   "name": "scilab"
		  },
		  "language_info": {
		   "file_extension": ".sce",
		   "help_links": [
			{
			 "text": "MetaKernel Magics",
			 "url": "https://github.com/calysto/metakernel/blob/master/metakernel/magics/README.md"
			}
		   ],
		   "mimetype": "text/x-octave",
		   "name": "scilab",
		   "version": "0.7.1"
		  }
		 },
		 "nbformat": 4,
		 "nbformat_minor": 0
}
