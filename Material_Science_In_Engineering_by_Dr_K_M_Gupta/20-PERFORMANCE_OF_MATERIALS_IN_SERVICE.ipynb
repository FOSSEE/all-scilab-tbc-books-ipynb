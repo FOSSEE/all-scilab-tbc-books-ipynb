{
"cells": [
 {
		   "cell_type": "markdown",
	   "metadata": {},
	   "source": [
       "# Chapter 20: PERFORMANCE OF MATERIALS IN SERVICE"
	   ]
	},
{
		   "cell_type": "markdown",
		   "metadata": {},
		   "source": [
			"## Example 20.1: Find_fracture_strength_and_ratio.sce"
		   ]
		  },
  {
"cell_type": "code",
	   "execution_count": null,
	   "metadata": {
	    "collapsed": true
	   },
	   "outputs": [],
"source": [
"//Find fracture strength and ratio\n",
"//Ex:20.1\n",
"clc;\n",
"clear;\n",
"close;\n",
"l=1.5*10^-6;//crack length in m\n",
"e=70*10^9;//Young's modulous in N/m^2\n",
"y_e=1.05;//specific surface energy in j/m^2\n",
"a_f=sqrt((2*y_e*e)/(3.14*l));\n",
"a_f1=a_f*10^-6;//in MPa\n",
"disp(a_f1,'Fracture strength (in MPa) = ');\n",
"r=a_f/e;//ratio\n",
"disp(r,'Ratio of fracture strength to Youngs modulous = ' );"
   ]
   }
,
{
		   "cell_type": "markdown",
		   "metadata": {},
		   "source": [
			"## Example 20.2: Investigate_an_oxidation_film_will_form_over_Nickel_or_not.sce"
		   ]
		  },
  {
"cell_type": "code",
	   "execution_count": null,
	   "metadata": {
	    "collapsed": true
	   },
	   "outputs": [],
"source": [
"//Investigate an oxidation film will form over Nickel or not\n",
"//Ex:20.2\n",
"clc;\n",
"clear;\n",
"close;\n",
"m_m=58.71;//molecular weight of ni\n",
"m_c=74.71;//molecular weight of nio\n",
"p_m=8900;//density of ni in kg/m^3\n",
"p_c=7080;//desity of nio in kg/m^3\n",
"x=m_m/p_m;//molar volume of ni in m^3/mol\n",
"disp(x,'Mc/Pc (in m^3/mol)');\n",
"y=m_c/p_c;//molar volume of nio in m^3/mol\n",
"disp(y,'Mm/Pm (in m^3/mol)');\n",
"printf('           Mc/Pc > Mm/Pm Hence protective layer of NiO will form over Ni        ');"
   ]
   }
,
{
		   "cell_type": "markdown",
		   "metadata": {},
		   "source": [
			"## Example 20.3: Find_how_much_loss_will_occur_in_300_hours.sce"
		   ]
		  },
  {
"cell_type": "code",
	   "execution_count": null,
	   "metadata": {
	    "collapsed": true
	   },
	   "outputs": [],
"source": [
"//Find how much loss will occur in 300 hours\n",
"//Ex:20.3\n",
"clc;\n",
"clear;\n",
"close;\n",
"x1=0.1;//in mm\n",
"t1=25;//in hours\n",
"t2=300;//in hours\n",
"x2=x1*sqrt(t2/t1);//in mm\n",
"disp(x2,'Oxidation loss in 300 hours (in mm) = ');"
   ]
   }
,
{
		   "cell_type": "markdown",
		   "metadata": {},
		   "source": [
			"## Example 20.4: Determine_PBR_ratio.sce"
		   ]
		  },
  {
"cell_type": "code",
	   "execution_count": null,
	   "metadata": {
	    "collapsed": true
	   },
	   "outputs": [],
"source": [
"//Determine PBR ratio\n",
"//Ex:20.4\n",
"clc;\n",
"clear;\n",
"close;\n",
"p_mg=1.74;//density of magnesium in gm/cm^3\n",
"p_mgo=3.65;//density of magnesium oxide in gm/cm^3\n",
"m_mg=24;//mol wt ogf mg\n",
"m_mgo=40.3;//mol wt of mgo\n",
"PBR=(m_mgo/p_mgo)/(m_mg/p_mg);\n",
"disp(PBR,'PBR = ');\n",
"printf('Since PBR < 1. So porous film will form which will be non protective');"
   ]
   }
,
{
		   "cell_type": "markdown",
		   "metadata": {},
		   "source": [
			"## Example 20.5: Find_quantity_of_magnesium_needed.sce"
		   ]
		  },
  {
"cell_type": "code",
	   "execution_count": null,
	   "metadata": {
	    "collapsed": true
	   },
	   "outputs": [],
"source": [
"//Find quantity of magnesium needed\n",
"//Ex:20.5\n",
"clc;\n",
"clear;\n",
"close;\n",
"m=0.0243;//one mole of magnesium in kg\n",
"c=2*96490;//in C\n",
"j=20*10^-3;//in A/m^2\n",
"t=15*365*24*3600;//in sec\n",
"x=j*t;//in A s\n",
"w_mg=m*x/c;//in kg/sqm\n",
"disp(w_mg,'Amount of Magnesium needed (in Kg/m^2) = ');"
   ]
   }
],
"metadata": {
		  "kernelspec": {
		   "display_name": "Scilab",
		   "language": "scilab",
		   "name": "scilab"
		  },
		  "language_info": {
		   "file_extension": ".sce",
		   "help_links": [
			{
			 "text": "MetaKernel Magics",
			 "url": "https://github.com/calysto/metakernel/blob/master/metakernel/magics/README.md"
			}
		   ],
		   "mimetype": "text/x-octave",
		   "name": "scilab",
		   "version": "0.7.1"
		  }
		 },
		 "nbformat": 4,
		 "nbformat_minor": 0
}
