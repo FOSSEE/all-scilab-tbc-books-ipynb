{
"cells": [
 {
		   "cell_type": "markdown",
	   "metadata": {},
	   "source": [
       "# Chapter 21: DIFFUSION IN SOLIDS"
	   ]
	},
{
		   "cell_type": "markdown",
		   "metadata": {},
		   "source": [
			"## Example 21.1: Find_Concentration_Gradient_and_diffusivity.sce"
		   ]
		  },
  {
"cell_type": "code",
	   "execution_count": null,
	   "metadata": {
	    "collapsed": true
	   },
	   "outputs": [],
"source": [
"//Find Concentration Gradient and diffusivity\n",
"//Ex:21.1\n",
"clc;\n",
"clear;\n",
"close;\n",
"c_cu=2*10^13;//concentration of copper in /m^3\n",
"c_al=4*10^6;//concn of copper on other side of Al in /m^3\n",
"t=3*10^-3;//thickness in m\n",
"z=(c_cu-c_al)/t;//z=dm/dx,concentration graient\n",
"disp(z,'Concentration Gradient (in /m^4) = ');\n",
"jx=10^21;//outward flux of copperv atoms in /sq m/sec\n",
"d=-jx/z;//diffusivity in sq m/sec\n",
"disp(d,'Diffusivity (in sq m/sec) = ');"
   ]
   }
,
{
		   "cell_type": "markdown",
		   "metadata": {},
		   "source": [
			"## Example 21.2: Find_Concentration_Gradient_and_diffusivity_and_rate.sce"
		   ]
		  },
  {
"cell_type": "code",
	   "execution_count": null,
	   "metadata": {
	    "collapsed": true
	   },
	   "outputs": [],
"source": [
"//Find Concentration Gradient and diffusivity and rate\n",
"//Ex:21.2\n",
"clc;\n",
"clear;\n",
"close;\n",
"c_n=12;//nitrogen concentration in kg/m^3\n",
"t=6*10^-3;//thickness in m\n",
"z=(c_n-0)/t;//concentration gradient in kg/m^4\n",
"disp(z,'concentration gradient (in kg/m4) = ');\n",
"d0=5*10^-7;//in sqm/sec\n",
"q=75*10^3;//in j/mol\n",
"r=8.314;//in J/mol/K\n",
"t=400;//in K\n",
"dx=d0*exp(-q/(r*t));//diffusivity in sqm/sec\n",
"disp(dx,'Diffusivity (in sqm/sec) = ');\n",
"jx=-z*dx;//rate of flow of nitrogen in kg/sqm/sec\n",
"disp(jx,'Rate at which nitrogen escapes (in kg/sqm/sec) = ');"
   ]
   }
,
{
		   "cell_type": "markdown",
		   "metadata": {},
		   "source": [
			"## Example 21.4: Calculate_Activation_Energy_in_Silver_diffusion.sce"
		   ]
		  },
  {
"cell_type": "code",
	   "execution_count": null,
	   "metadata": {
	    "collapsed": true
	   },
	   "outputs": [],
"source": [
"//Calculate  Activation Energy in Silver diffusion\n",
"//Ex:21.4\n",
"clc;\n",
"clear;\n",
"close;\n",
"z=8;//ratio of diffusion in silicon at 1350 C and 1100 C\n",
"x=log(z);\n",
"q=x/(1.35*10^-5);//activation energy for silver diffusion in J/mol\n",
"q1=q/1000;//in kJ/mol\n",
"disp(q1,'Activation Energy in Silver diffusion (in kJ/mol) = ');"
   ]
   }
],
"metadata": {
		  "kernelspec": {
		   "display_name": "Scilab",
		   "language": "scilab",
		   "name": "scilab"
		  },
		  "language_info": {
		   "file_extension": ".sce",
		   "help_links": [
			{
			 "text": "MetaKernel Magics",
			 "url": "https://github.com/calysto/metakernel/blob/master/metakernel/magics/README.md"
			}
		   ],
		   "mimetype": "text/x-octave",
		   "name": "scilab",
		   "version": "0.7.1"
		  }
		 },
		 "nbformat": 4,
		 "nbformat_minor": 0
}
