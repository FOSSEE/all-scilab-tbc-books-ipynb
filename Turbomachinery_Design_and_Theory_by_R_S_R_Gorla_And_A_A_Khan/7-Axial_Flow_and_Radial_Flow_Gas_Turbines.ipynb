{
"cells": [
 {
		   "cell_type": "markdown",
	   "metadata": {},
	   "source": [
       "# Chapter 7: Axial Flow and Radial Flow Gas Turbines"
	   ]
	},
{
		   "cell_type": "markdown",
		   "metadata": {},
		   "source": [
			"## Example 7.10: Gas_leaving_stage_in_axial_direction.sce"
		   ]
		  },
  {
"cell_type": "code",
	   "execution_count": null,
	   "metadata": {
	    "collapsed": true
	   },
	   "outputs": [],
"source": [
"// Display mode\n",
"mode(0);\n",
"// Display warning for floating point exception\n",
"ieee(1);\n",
"clear;\n",
"clc;\n",
"disp('Turbomachinery Design and Theory,Rama S. R. Gorla and Aijaz A. Khan, Chapter 7, Example 10')\n",
"disp('For no loss up to throat Ps in bars')\n",
"P01 = 4;//bar\n",
"gam = 1.33;\n",
"Ps = P01*(2/(gam+1))^(gam/(gam-1))\n",
"T01 = 1100;//K\n",
"Ts = 944;//K\n",
"Cpg = 1147;\n",
"U = 300;//m/s\n",
"C = (2*Cpg*(T01-Ts))^0.5//m/s\n",
"R = 0.287;\n",
"rhos = Ps*100/(R*Ts)//kg/m3\n",
"disp('Throat area in m2')\n",
"m=20;//kg/s\n",
"A = m/(rhos*C)\n",
"disp('Angle alpha1, at any radius r and alpha1m at the design radius rm are related by the equation')\n",
"disp('tan(alpha1) = rm*tan(alpha1m)/r')\n",
"disp('Given')\n",
"disp('Tip radius/Root radius = rt/rr = 1.4')\n",
"disp('Therefore mean radius/root radius = 1.2')\n",
"alpha1m = 25\n",
"alpha1r = atan(1.2*tan(alpha1m*%pi/180))*180/%pi\n",
"alpha1t = atan(tan(alpha1r*%pi/180)/1.4)*180/%pi\n",
"disp('Velocity in m/s')\n",
"disp('Cw2 = rm*x*Cw2m/rr = rm*Ca2/(rr*tan(alpha2m))')\n",
"Cw2 = 1.2*250/tan(alpha1m*%pi/180)\n",
"disp('Power developed in kW')\n",
"W = m*U*Cw2/1000"
   ]
   }
,
{
		   "cell_type": "markdown",
		   "metadata": {},
		   "source": [
			"## Example 7.11: Inward_radial_flow_gas_turbine.sce"
		   ]
		  },
  {
"cell_type": "code",
	   "execution_count": null,
	   "metadata": {
	    "collapsed": true
	   },
	   "outputs": [],
"source": [
"// Display mode\n",
"mode(0);\n",
"// Display warning for floating point exception\n",
"ieee(1);\n",
"clear;\n",
"clc;\n",
"disp('Turbomachinery Design and Theory,Rama S. R. Gorla and Aijaz A. Khan, Chapter 7, Example 11')\n",
"disp('The overall efficiency of turbine from nozzle inlet to diffuser outlet is given by')\n",
"disp('etatt = (T01 - T03)/(T01 - T03ss)')\n",
"disp('Turbine work per unit mass flow')\n",
"disp('W = U2^2 = Cp(T01 - T03); (Cw3 = 0)')\n",
"disp('Now using isentropic p–T relation')\n",
"disp('T01 (1 - T03ss/T01) = T01(1 - (P03/P01)((gamma-1)/gamma)')\n",
"disp('Therefore')\n",
"disp('U2^2 = etatt*Cp*T01(1 - (P03/P01)^((gamma-1)/gamma)')\n",
"etatt = 0.9;\n",
"Cp = 1147;\n",
"T01 = 1145;\n",
"P03 = 100;\n",
"P01 = 310;\n",
"U2 = (etatt*Cp*T01*(1 - (P03/P01)^0.2498))^0.5\n",
"disp('Impeller tip speed, U2 = 539.45 m/s')\n",
"disp('The Mach number of the absolute flow velocity at nozzle exit is given by')\n",
"disp('M = C1/a1 = U1/alpha1*sin(alpha1)')\n",
"disp('Since the flow is adiabatic across the nozzle, we have')\n",
"disp('T01 = T02 = T2 + C2^2/2Cp = T2 + U2^2/2Cp(sin(alpha2))^2')\n",
"disp('or T2/T01 = 1 - U2^2/2CpT01(sin(alpha2))^2; but Cp = gamma*R/(gamma - 1)')\n",
"disp('Therefore; T2/T01 = 1 - U2^2*(gamma - 1)/(2gammaRT01(sin(alpha2))^2')\n",
"disp('  =  1- U2^2*(gammaa-1)/(2*a01^2 * (sin(alpha2))^2)')\n",
"disp('But (T2/T01)^2 = a2/a01 = a2/a02; since T01 = T02')\n",
"disp('and a2/a02 = U2/M2*a02*sin(alpha2)')\n",
"disp(' Therefore (U2/M2*a02*sin(alpha2))^2 = 1 - U2^2*(gammaa-1)/(2*a01^2 * (sin(alpha2))^2)')\n",
"disp('and 1 = (U2/a02*sin(alpha2))^2 *((gamma - 1)/2 + 1/M2^2)')\n",
"disp('or (sin(alpha2))^2 = (U2/a02)^2 * ((gamma - 1)/2 + 1/M2^2)')\n",
"disp('Therefore nozzle angle alpha2 = 75 degrees')"
   ]
   }
,
{
		   "cell_type": "markdown",
		   "metadata": {},
		   "source": [
			"## Example 7.12: Rotation_30500rpm.sce"
		   ]
		  },
  {
"cell_type": "code",
	   "execution_count": null,
	   "metadata": {
	    "collapsed": true
	   },
	   "outputs": [],
"source": [
"// Display mode\n",
"mode(0);\n",
"// Display warning for floating point exception\n",
"ieee(1);\n",
"clear;\n",
"clc;\n",
"disp('Turbomachinery Design and Theory,Rama S. R. Gorla and Aijaz A. Khan, Chapter 7, Example 12')\n",
"disp('Dimensionless specific speed is')\n",
"disp('Ns = 0.336*(C3/C0)^0.5*(A3/Ad)^0.5   in rev')\n",
"disp('A3 and Ad are in m2')\n",
"D3t = 0.064;//m\n",
"D3h = 0.026;//m\n",
"A3 = %pi*(D3t^2 - D3h^2)/4\n",
"D2 = 0.092;//m\n",
"Ad = %pi*D2^2/4\n",
"disp('Dimensionless specific speed Ns in rev and Nsa in rad')\n",
"Ns = 0.336*(0.447*A3/Ad)^0.5//rev\n",
"Nsa = 0.904\n",
"disp('The flow rate at outlet for the ideal turbine is given by Q3 in m3/s')\n",
"disp('Ns = 0.18*(Q3/(N*D2^3))^0.5')\n",
"N = 30500;\n",
"Q = (Ns/0.18)^2*N*D2^3/60\n",
"disp('The power developed by the turbine is given by in kW')\n",
"disp('W = m*U3^2')\n",
"disp('  = rho3*Q3*U3^2')\n",
"rho3 = 1.75;//kg/m3\n",
"Wt = rho3*Q*(%pi*N*D2/60)^2 /1000"
   ]
   }
,
{
		   "cell_type": "markdown",
		   "metadata": {},
		   "source": [
			"## Example 7.1: Impulse_gas_turbine.sce"
		   ]
		  },
  {
"cell_type": "code",
	   "execution_count": null,
	   "metadata": {
	    "collapsed": true
	   },
	   "outputs": [],
"source": [
"// Display mode\n",
"mode(0);\n",
"// Display warning for floating point exception\n",
"ieee(1);\n",
"clear;\n",
"clc;\n",
"disp('Turbomachinery Design and Theory,Rama S. R. Gorla and Aijaz A. Khan, Chapter 7, Example 1')\n",
"disp('From isentropic p–T relation for expansion process')\n",
"disp('T02a/T01 = (P02/P01)^((gam-1)/gam)')\n",
"P02 = 1.03;\n",
"P01 = 5.2;\n",
"T01 = 1000;\n",
"gam = 1.33;\n",
"T02a = T01*(P02/P01)^((gam-1)/gam)\n",
"disp('Using isentropic efficiency of turbine')\n",
"etat = 0.88;\n",
"T02 = T01 - etat*(T01-T02a)//K\n",
"disp('Using steady-flow energy equation')\n",
"disp('1/2 * (C2^2 - C1^2) = Cp(T01 - T02)')\n",
"Cpg = 1147;\n",
"C1 = 140;\n",
"C2 = (2*Cpg*(T01-T02) + C1^2)^0.5//m/s\n",
"disp('From velocity triangle, velocity of whirl at rotor inlet in m/s')\n",
"Cw2 = C2*sin(57*%pi/180)\n",
"disp('Turbine work output is given by in kW')\n",
"m = 28;\n",
"Wt = m*Cpg*(T01-T02)/1000"
   ]
   }
,
{
		   "cell_type": "markdown",
		   "metadata": {},
		   "source": [
			"## Example 7.2: Nozzle_efflux_angle_68.sce"
		   ]
		  },
  {
"cell_type": "code",
	   "execution_count": null,
	   "metadata": {
	    "collapsed": true
	   },
	   "outputs": [],
"source": [
"// Display mode\n",
"mode(0);\n",
"// Display warning for floating point exception\n",
"ieee(1);\n",
"clear;\n",
"clc;\n",
"disp('Turbomachinery Design and Theory,Rama S. R. Gorla and Aijaz A. Khan, Chapter 7, Example 2')\n",
"disp('The specific work output in kJ/kg')\n",
"etats = 0.85;\n",
"Cpg = 1.147;\n",
"T01 = 800 + 273;\n",
"gam = 1.33;\n",
"W = etats*Cpg*T01*(1-(1/4)^((gam-1)/gam))\n",
"disp('Since alpha1 = 0, alpha3 = 0, Cw1 = 0 and specific work output is given by')\n",
"U = 480;\n",
"Cw2 = W*1000/U//m/s\n",
"disp('From velocity triangle')\n",
"alpha2 = 68;\n",
"C2 = Cw2/sin(alpha2*%pi/180)//m/s\n",
"disp('Axial velocity is given by in m/s')\n",
"Ca2 = C2*cos(alpha2*%pi/180)//m/s\n",
"disp('Total-to-total efficiency, etatt, is')\n",
"disp('etatt = (T01-T03)/(T01-T03a)')\n",
"disp('      = W/(T01-(T3+C3^2 /(2Cpg)))')\n",
"disp('      = W/((W/etats) - (C3^2 /(2Cpg)))')\n",
"C3 = Ca2;//m/s\n",
"etatt = W/((W/etats) - (C3^2 / (2*Cpg*1000))) *100//in %\n",
"disp('The degree of reaction DOR')\n",
"disp('DOR = Ca*(tan(beta3) - tan(beta2))/(2U)')\n",
"DOR = (1- Ca2*tan(alpha2*%pi/180) / (2*U))*100//%"
   ]
   }
,
{
		   "cell_type": "markdown",
		   "metadata": {},
		   "source": [
			"## Example 7.3: Stagnation_temperature_of_1100K.sce"
		   ]
		  },
  {
"cell_type": "code",
	   "execution_count": null,
	   "metadata": {
	    "collapsed": true
	   },
	   "outputs": [],
"source": [
"// Display mode\n",
"mode(0);\n",
"// Display warning for floating point exception\n",
"ieee(1);\n",
"clear;\n",
"clc;\n",
"disp('Turbomachinery Design and Theory,Rama S. R. Gorla and Aijaz A. Khan, Chapter 7, Example 3')\n",
"disp('From Figure Ex73')\n",
"Ca = 250 //m/s\n",
"Ca3 = Ca;//m/s\n",
"Ca2 = Ca3;//m/s\n",
"Ca1 = Ca2;//m/s\n",
"U = 350;//m/s\n",
"disp('From velocity triangle (b)')\n",
"alpha2 = 63;\n",
"C2 = Ca2/cos(alpha2*%pi/180)//m/s\n",
"disp('From Figure (c)')\n",
"alpha3 = 9;\n",
"C3 = Ca3/cos(alpha3*%pi/180)//m/s\n",
"Cw3 = Ca3*tan(alpha3*%pi/180)//m/s\n",
"beta3 = atan((U+Cw3)/Ca3)*180/%pi\n",
"disp('From Figure(b)')\n",
"Cw2 = Ca2*tan(alpha2*%pi/180)//m/s\n",
"beta2 = atan((Cw2-U)/Ca2)*180/%pi\n",
"disp('Power output in kW')\n",
"m = 15;\n",
"W = m*U*Ca*(tan(beta2*%pi/180) + tan(beta3*%pi/180))/1000\n",
"disp('The degree of reaction is given by')\n",
"DOR = Ca*(tan(beta3*%pi/180) - tan(beta2*%pi/180))/(2*U) *100"
   ]
   }
,
{
		   "cell_type": "markdown",
		   "metadata": {},
		   "source": [
			"## Example 7.4: Throat_area_for_73.sce"
		   ]
		  },
  {
"cell_type": "code",
	   "execution_count": null,
	   "metadata": {
	    "collapsed": true
	   },
	   "outputs": [],
"source": [
"// Display mode\n",
"mode(0);\n",
"// Display warning for floating point exception\n",
"ieee(1);\n",
"clear;\n",
"clc;\n",
"disp('Turbomachinery Design and Theory,Rama S. R. Gorla and Aijaz A. Khan, Chapter 7, Example 4')\n",
"disp('Nozzle Throat area in m2, A = m/(rho2*Ca2)')\n",
"disp('rho2 = P2/(RT2)')\n",
"disp('T2 = T02 - C2^2 /(2Cp)')\n",
"T02 = 1100;//Kelvin\n",
"C2 = 550.67;//m/s\n",
"Cp = 1.147;\n",
"T2 = T02 - C2^2 /(2*Cp*1000)\n",
"disp('From nozzle loss coefficient')\n",
"lambdaN = 0.05;\n",
"T2a = T2 - lambdaN *C2^2 /(2*Cp*1000)\n",
"disp('Using isentropic p–T relation for nozzle expansion')\n",
"P01 = 5;//bars\n",
"gam = 1.33;\n",
"T01 = T02;\n",
"P2 = P01/((T01/T2a)^(gam/(gam-1)))\n",
"disp('Critical Pressure ratio = r = P01/Pc')\n",
"r = ((gam+1)/2)^(gam/(gam-1))\n",
"disp('P01/P2 = r1')\n",
"r1 = P01/P2\n",
"disp('Since r1<r, and therefore nozzle is unchoked.')\n",
"C2 = (2*Cp*1000*(T01-T2))^0.5//m/s\n",
"disp('Therefore, nozzle throat area in m2')\n",
"R = 0.287;\n",
"rho2 = P2*100/(R*T2)//kg/m3\n",
"m = 15;//ks\n",
"A = m/(rho2*C2)//m2"
   ]
   }
,
{
		   "cell_type": "markdown",
		   "metadata": {},
		   "source": [
			"## Example 7.5: Inlet_stagnation_temperature_is_1000_K.sce"
		   ]
		  },
  {
"cell_type": "code",
	   "execution_count": null,
	   "metadata": {
	    "collapsed": true
	   },
	   "outputs": [],
"source": [
"// Display mode\n",
"mode(0);\n",
"// Display warning for floating point exception\n",
"ieee(1);\n",
"clear;\n",
"clc;\n",
"disp('Turbomachinery Design and Theory,Rama S. R. Gorla and Aijaz A. Khan, Chapter 7, Example 5')\n",
"disp('Velocities are in m/s, temperature in Kelvin, Angles in degrees.')\n",
"disp('Degree of reaction DOR = 0')\n",
"disp('DOR = (T2-T3)/(T1-T3)')\n",
"disp('Therefore T2 = T3')\n",
"disp('From isentropic p–T relation for expansion')\n",
"T01 = 1000;\n",
"disp('P01/P03 = r')\n",
"r = 1.8\n",
"T03a = T01/(r^0.249)\n",
"disp('Using turbine efficiency')\n",
"disp('T03 = T01-etat*(T01-T03a)')\n",
"etat = 0.85;\n",
"T03 = T01 - etat*(T01-T03a)\n",
"disp('In order to find static temperature at turbine outlet, using static and stagnation temperature relation')\n",
"C3 = 270;\n",
"Cpg = 1.147;\n",
"T3 = T03- C3^2 / (2*Cpg*1000)\n",
"T2 = T3;\n",
"disp('Dynamic Temperature in K is C^2 /2Cpg = Td')\n",
"Td = 1000-T2\n",
"C2 = (2*Cpg*1000*Td)^0.5//m/s\n",
"disp('Since Cpg*DeltaTos = U*(Cw3+Cw2) = U*Cw2 (Cw3=0)')\n",
"U = 290;\n",
"Cw2 = Cpg*1000*(1000-884)/U//m/s\n",
"disp('From velocity triangle')\n",
"alpha2 = asin(Cw2/C2)*180/%pi\n",
"Ca2 = C2;\n",
"beta2 = atan((Cw2-U)/(Ca2*cos(alpha2*%pi/180)))*180/%pi"
   ]
   }
,
{
		   "cell_type": "markdown",
		   "metadata": {},
		   "source": [
			"## Example 7.6: Inlet_stagnation_temperature_is_1150_K.sce"
		   ]
		  },
  {
"cell_type": "code",
	   "execution_count": null,
	   "metadata": {
	    "collapsed": true
	   },
	   "outputs": [],
"source": [
"// Display mode\n",
"mode(0);\n",
"// Display warning for floating point exception\n",
"ieee(1);\n",
"clear;\n",
"clc;\n",
"disp('Turbomachinery Design and Theory,Rama S. R. Gorla and Aijaz A. Khan, Chapter 7, Example 6')\n",
"disp('Annulus area A is given by')\n",
"disp('A = 2 pi*rm*h')\n",
"disp('where h = blade height')\n",
"disp('rm = mean radius')\n",
"disp('As we have to find the blade height from the outlet conditions, in this case annulus area is A3.')\n",
"disp('h = A3/2pi*rm')\n",
"disp('Um = pi*Dm*N')\n",
"Um = 300;//m/s\n",
"N = 240;//rps\n",
"Dm = Um/(%pi*N)\n",
"rm = Dm/2\n",
"disp('Temperature drop in the stage is given by Drop = T01-T03')\n",
"Drop = 145//Kelvins\n",
"T01 = 1150;\n",
"T03 = T01-Drop\n",
"C3 = 390;\n",
"Cpg = 1.147;\n",
"T3 = T03-C3^2 / (2*Cpg*1000)\n",
"disp('Using turbine efficiency to find isentropic temperature drop')\n",
"eta = 0.88;\n",
"T03a = T01-Drop/eta\n",
"disp('Using isentropic p–T relation for expansion process')\n",
"P01 = 8;\n",
"P03 = P01/(T01/T03a)^(4)\n",
"disp('Also from isentropic relation')\n",
"P3 = P03/(T03a/T3)^4\n",
"disp('where P01,P3;P03 are in bars')\n",
"R = 0.287;\n",
"rho3 = P3/(R*T3) *100//kg/m3\n",
"m = 34;//kg/s\n",
"Ca3 = C3;\n",
"A3 = m/(rho3*Ca3)\n",
"h = A3/(2*%pi*rm)\n",
"disp('where h is in m')"
   ]
   }
,
{
		   "cell_type": "markdown",
		   "metadata": {},
		   "source": [
			"## Example 7.7: Rotation_14500rpm.sce"
		   ]
		  },
  {
"cell_type": "code",
	   "execution_count": null,
	   "metadata": {
	    "collapsed": true
	   },
	   "outputs": [],
"source": [
"// Display mode\n",
"mode(0);\n",
"// Display warning for floating point exception\n",
"ieee(1);\n",
"clear;\n",
"clc;\n",
"disp('Turbomachinery Design and Theory,Rama S. R. Gorla and Aijaz A. Khan, Chapter 7, Example 7')\n",
"Cpg = 1147;\n",
"disp('Temperature Drop = T01 -T03')\n",
"Drop = 145;\n",
"U = 345;\n",
"psi = Cpg*(Drop)/U^2\n",
"disp('Using velocity diagram')\n",
"disp('U/Ca = tan(beta3) - tan(alpha3)')\n",
"disp('tan(beta3) = 1/phi + tan(alpha3)')\n",
"alpha3 = 12;\n",
"phi = 0.75;\n",
"beta3 = atan(1/phi + tan(alpha3*%pi/180))*180/%pi\n",
"disp('Psi = phi*(tan(beta2) +tan(beta3))')\n",
"disp('DOR = phi/2 *(tan(beta3) - tan(beta2))')\n",
"disp('tan(beta3) = (psi + 2*DOR)/(2*phi)')\n",
"DOR = (tan(beta3*%pi/180) *2*phi - psi)/2 *100\n",
"disp('tan(beta2) = (psi-2*DOR)/(2*phi)')\n",
"beta2 = atan((psi-2*DOR/100)/(2*phi))*180/%pi\n",
"alpha2 = atan(tan(beta2*%pi/180)+(1/phi))*180/%pi\n",
"Ca1 = U*phi//m/s\n",
"C2 = Ca1/cos(alpha2*%pi/180)//m/s\n",
"disp('R2 = T02-T2 = C2^2 /2Cp')\n",
"R2 = C2^2 /(2*Cpg)\n",
"disp('R3 = T2-T2s = Tn*C2^2/(2Cpg)')\n",
"Tn = 0.05;\n",
"R3 = Tn*C2^2 /(2*Cpg)\n",
"T2 = 1100-R2//K\n",
"T2s = T2 - R3//K\n",
"P01 = 4;//bars\n",
"T01 = 1100;\n",
"P2 = P01*(T2s/T01)^4\n",
"R = 0.287;\n",
"rho2 = P2*100/(R*T2)//kg/m3\n",
"disp('Nozzle Throat area in A in m2')\n",
"C1 = C2;//m/s\n",
"rho1 = 0.907;//kg/m3\n",
"m = 24;\n",
"A = m/(rho1*C1)\n",
"A1 = m/(rho1*Ca1)"
   ]
   }
,
{
		   "cell_type": "markdown",
		   "metadata": {},
		   "source": [
			"## Example 7.8: Equal_stage_inlet_and_outlet_velocities.sce"
		   ]
		  },
  {
"cell_type": "code",
	   "execution_count": null,
	   "metadata": {
	    "collapsed": true
	   },
	   "outputs": [],
"source": [
"// Display mode\n",
"mode(0);\n",
"// Display warning for floating point exception\n",
"ieee(1);\n",
"clear;\n",
"clc;\n",
"disp('Turbomachinery Design and Theory,Rama S. R. Gorla and Aijaz A. Khan, Chapter 7, Example 8')\n",
"disp('From Velocity tiangles')\n",
"disp('C is velocity in m/s, angles are in degrees')\n",
"Ca = 255;//m/s\n",
"alpha2 = 60;\n",
"Cw2 = Ca * tan(alpha2*%pi/180)\n",
"alpha3 = 12;\n",
"Cw3 = Ca * tan(alpha3*%pi/180)\n",
"U = 345;//m/s\n",
"Vw2 = Cw2-U//m/s\n",
"beta2 = atan(Vw2/Ca)*180/%pi\n",
"Vw3 = Cw3+U//m/s\n",
"beta3 = atan(Vw3/Ca)*180/%pi\n",
"disp('Degree of Reaction DOR')\n",
"phi = Ca/U;\n",
"DOR = phi*(tan(beta3*%pi/180) - tan(beta2*%pi/180))/2 *100\n",
"psi = Ca*(tan(beta2*%pi/180) + tan(beta3*%pi/180))/U\n",
"m = 20;\n",
"disp('W in kW')\n",
"W = m*U*(Cw2+Cw3)\n",
"disp('lambdaN = 2Cp(T2-T2a)/C2^2')\n",
"lambdaN = Ca*sec(alpha2*%pi/180)\n",
"C2 = lambdaN;\n",
"disp('T2-T2a = R')\n",
"Cp = 1147;\n",
"Ra = 0.05*0.5*lambdaN^2 /Cp\n",
"T02 = 1150;//K\n",
"T01 = T02;//K\n",
"T2 = T02 - C2^2 /(2*Cp)//K\n",
"T2a = T02-C2^2 /(2*Cp) - Ra\n",
"P01 = 4//bars\n",
"P2 = P01/(T01/T2)^4\n",
"R = 0.287;\n",
"disp('rho2 is density in kg/m3')\n",
"rho2 = P2/(R*T2) *100\n",
"disp('Area in m2')\n",
"m = 20;\n",
"A2 = m/(rho2*C2)"
   ]
   }
,
{
		   "cell_type": "markdown",
		   "metadata": {},
		   "source": [
			"## Example 7.9: Turbine_inlet_temperature_900C.sce"
		   ]
		  },
  {
"cell_type": "code",
	   "execution_count": null,
	   "metadata": {
	    "collapsed": true
	   },
	   "outputs": [],
"source": [
"// Display mode\n",
"mode(0);\n",
"// Display warning for floating point exception\n",
"ieee(1);\n",
"clear;\n",
"clc;\n",
"disp('Turbomachinery Design and Theory,Rama S. R. Gorla and Aijaz A. Khan, Chapter 7, Example 9')\n",
"disp('At 50%.  alpha2 = beta3; alpha3 = beta2')\n",
"U = 340;\n",
"disp('C2 in m/s')\n",
"C2 = U/cos(15*%pi/180)\n",
"disp('Heat drop in blade moving row in Hdrop K')\n",
"C3 = 105;//m/s\n",
"Cp = 1147;\n",
"Hdrop = (C2^2 - C3^2)/(2*Cp)\n",
"disp('Therefore heat drop in a stage')\n",
"Hdropstage = Hdrop *2\n",
"disp('Number of stages n = ')\n",
"n = (1173-943)/Hdropstage\n",
"disp('Therefore No. of stages = 2')"
   ]
   }
],
"metadata": {
		  "kernelspec": {
		   "display_name": "Scilab",
		   "language": "scilab",
		   "name": "scilab"
		  },
		  "language_info": {
		   "file_extension": ".sce",
		   "help_links": [
			{
			 "text": "MetaKernel Magics",
			 "url": "https://github.com/calysto/metakernel/blob/master/metakernel/magics/README.md"
			}
		   ],
		   "mimetype": "text/x-octave",
		   "name": "scilab",
		   "version": "0.7.1"
		  }
		 },
		 "nbformat": 4,
		 "nbformat_minor": 0
}
