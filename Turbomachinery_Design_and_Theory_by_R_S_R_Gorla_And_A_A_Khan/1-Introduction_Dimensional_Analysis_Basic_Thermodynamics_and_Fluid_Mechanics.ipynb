{
"cells": [
 {
		   "cell_type": "markdown",
	   "metadata": {},
	   "source": [
       "# Chapter 1: Introduction Dimensional Analysis Basic Thermodynamics and Fluid Mechanics"
	   ]
	},
{
		   "cell_type": "markdown",
		   "metadata": {},
		   "source": [
			"## Example 1.10: Radial_Inward_Flow.sce"
		   ]
		  },
  {
"cell_type": "code",
	   "execution_count": null,
	   "metadata": {
	    "collapsed": true
	   },
	   "outputs": [],
"source": [
"// Display mode\n",
"mode(0);\n",
"// Display warning for floating point exception\n",
"ieee(1);\n",
"clear;\n",
"clc;\n",
"disp('Turbomachinery Design and Theory,Rama S. R. Gorla and Aijaz A. Khan, Chapter 1, Example 10')\n",
"//Given conditions\n",
"//r1 = 0.14m\n",
"//Cw1 = 340m/s\n",
"//r2 = 0.07m\n",
"//Cw2 = 50m/s\n",
"//Torque = r1*Cw1 - r2*Cw2\n",
"disp('Torque in Nm kg/s implies => ')\n",
"T = 0.14*340-0.07*50"
   ]
   }
,
{
		   "cell_type": "markdown",
		   "metadata": {},
		   "source": [
			"## Example 1.1: Radial_Flow_Hydraulic.sce"
		   ]
		  },
  {
"cell_type": "code",
	   "execution_count": null,
	   "metadata": {
	    "collapsed": true
	   },
	   "outputs": [],
"source": [
"// Display mode\n",
"mode(0);\n",
"// Display warning for floating point exception\n",
"ieee(1);\n",
"clear;\n",
"clc;\n",
"disp('Turbomachinery Design and Theory,Rama S. R. Gorla and Aijaz A. Khan, Chapter 1, Example 1')\n",
"//Linear ratio L = Lp/Lm = Bp/Bm = Dp/Dm\n",
"// We know P1/(rho1*(N1)^3*(D1)^5) = P2/(rho2*(N2)^3*(D2)^5)\n",
"//Pressure equation rho1 = rho2\n",
"//Hence, D2/D1 = 0.238(N1/N2)^(3/5)\n",
"//Also (g*H1)/(N1*D1)^2 = (g*H2)/(N2*D2)^2\n",
"//Therefore 0.238 (N1/N2)^(3/5) = (6/16)^(N1/N2)\n",
"//Hence, (N2/N1)^(2/5) = 2.57\n",
"disp ('Therefore Model Speed N2 in rpm, Model Scale Ratio RD and Volume flow rate(Q)in cubic meters per second are:')\n",
"N2 = 100 * 2.57^(5/2)\n",
"RD = 0.238 * (100/1059)^(3/5)\n",
"Q = 42 * 1000 / (0.92*1000*9.81*6)"
   ]
   }
,
{
		   "cell_type": "markdown",
		   "metadata": {},
		   "source": [
			"## Example 1.2: Centrifugal_Pump_Head.sce"
		   ]
		  },
  {
"cell_type": "code",
	   "execution_count": null,
	   "metadata": {
	    "collapsed": true
	   },
	   "outputs": [],
"source": [
"// Display mode\n",
"mode(0);\n",
"// Display warning for floating point exception\n",
"ieee(1);\n",
"clear;\n",
"clc;\n",
"disp('Turbomachinery Design and Theory,Rama S. R. Gorla and Aijaz A. Khan, Chapter 1, Example 2')\n",
"// While equating flow coefficients Q1 / (N1 * D1^3) = Q2 / (N2 * D2^30)\n",
"//Also the head equation we follow is g*H1/(N1^2*D1^2) = g*H2/(N2^2*D2^2)\n",
"disp('Volume flow rate in cubic meters per second and Head in meters are:')\n",
"Q2 = 2.5*2210*(0.104)^3/(2010*(0.125)^3)\n",
"H2 = 9.81 * 14 * (2210*104)^2 /(((2010*125)^2)*(9.81))"
   ]
   }
,
{
		   "cell_type": "markdown",
		   "metadata": {},
		   "source": [
			"## Example 1.3: Air_Compressor_Speed.sce"
		   ]
		  },
  {
"cell_type": "code",
	   "execution_count": null,
	   "metadata": {
	    "collapsed": true
	   },
	   "outputs": [],
"source": [
"// Display mode\n",
"mode(0);\n",
"// Display warning for floating point exception\n",
"ieee(1);\n",
"clear;\n",
"clc;\n",
"disp('Turbomachinery Design and Theory,Rama S. R. Gorla and Aijaz A. Khan, Chapter 1, Example 3')\n",
"//The Speed Parameter Equation (N1/T01^(1/2)) = (N2/T02^(1/2))\n",
"//Also the mass flow Parameters m1 * (T01^2)/p01 = m2 * (T02^2)/p02\n",
"disp('The Compressor speed in rpm, mass flow rate in kg per s are: ')\n",
"N2 = 5000 * ((273+25)^(1/2)/(273+18)^(1/2))\n",
"m2 = 64 * (65/101.3) * (291/298)^0.5"
   ]
   }
,
{
		   "cell_type": "markdown",
		   "metadata": {},
		   "source": [
			"## Example 1.4: Pumping_Power.sce"
		   ]
		  },
  {
"cell_type": "code",
	   "execution_count": null,
	   "metadata": {
	    "collapsed": true
	   },
	   "outputs": [],
"source": [
"// Display mode\n",
"mode(0);\n",
"// Display warning for floating point exception\n",
"ieee(1);\n",
"clear;\n",
"clc;\n",
"disp('Turbomachinery Design and Theory,Rama S. R. Gorla and Aijaz A. Khan, Chapter 1, Example 4')\n",
"disp ('Theoritical Question')\n",
"//liquid discharge rate Q; head H;specific weight of the liquid is w.\n",
"disp('Expression for Pumping power is P = kwQH')"
   ]
   }
,
{
		   "cell_type": "markdown",
		   "metadata": {},
		   "source": [
			"## Example 1.5: Drag_Force_F.sce"
		   ]
		  },
  {
"cell_type": "code",
	   "execution_count": null,
	   "metadata": {
	    "collapsed": true
	   },
	   "outputs": [],
"source": [
"// Display mode\n",
"mode(0);\n",
"// Display warning for floating point exception\n",
"ieee(1);\n",
"clear;\n",
"clc;\n",
"disp('Turbomachinery Design and Theory,Rama S. R. Gorla and Aijaz A. Khan, Chapter 1, Example 5')\n",
"disp ('Theoritical Question')\n",
"//V is the velocity of the body, l is the linear dimension, rho is the fluid density, k is the rms height of surface roughness and g is the gravitational acceleration\n",
"disp('Functional Relationship for Force F  may be: F = V^2 * l^2 * rho * f(k/l , l*g/V^2)')"
   ]
   }
,
{
		   "cell_type": "markdown",
		   "metadata": {},
		   "source": [
			"## Example 1.6: Axial_Pump_Power.sce"
		   ]
		  },
  {
"cell_type": "code",
	   "execution_count": null,
	   "metadata": {
	    "collapsed": true
	   },
	   "outputs": [],
"source": [
"// Display mode\n",
"mode(0);\n",
"// Display warning for floating point exception\n",
"ieee(1);\n",
"clear;\n",
"clc;\n",
"disp('Turbomachinery Design and Theory,Rama S. R. Gorla and Aijaz A. Khan, Chapter 1, Example 6')\n",
"// Geometric and Dynamic similarity equations Q1 / (N1 * D1^2) = Q2 / (N2 * D2^2)\n",
"// Head coefficient W2 = W1 * N2^2 * D2^2 / (N1^2 * D1 ^2)\n",
"// Also Pressure Delta P = W2 * eta tt * rho\n",
"disp('Flow rate in cubic meters per minute , Head coefficient in J/kg, Change in Total Pressure in bar , Input Power P in kilowatt are : ')\n",
"Q2 = 2.5 * 2900 * 0.22^2 / (1450 * 0.32^2)\n",
"W2 = 120 * 2900 ^ 2 * 0.22 ^ 2 / ((1450)^2 * 0.32^2)\n",
"Pressure = 226.88 * 0.78 * 1000 /100000\n",
"P = 1000 * 2.363 * 0.22688 / 60"
   ]
   }
,
{
		   "cell_type": "markdown",
		   "metadata": {},
		   "source": [
			"## Example 1.7: Axial_Gas_Turbine.sce"
		   ]
		  },
  {
"cell_type": "code",
	   "execution_count": null,
	   "metadata": {
	    "collapsed": true
	   },
	   "outputs": [],
"source": [
"// Display mode\n",
"mode(0);\n",
"// Display warning for floating point exception\n",
"ieee(1);\n",
"clear;\n",
"clc;\n",
"disp('Turbomachinery Design and Theory,Rama S. R. Gorla and Aijaz A. Khan, Chapter 1, Example 7')\n",
"// Using isentropic P-T Relation T02' = T01 * (P02/P01) ^ (gamm - 1 / 2)\n",
"//Total to total Efficiency etta tt implies T01 - T02 = (T01 - T02') * ettatt\n",
"//Power input W1 = cp * delta To\n",
"//Power output W2 = W1 * N2 ^ 2 * D2 ^ 2 / (N1 * D2)^2 \n",
"ettatt = 0.85;\n",
"T01 = 1050;\n",
"gamm = 1.4;\n",
"T02 = T01 * (1/4)^((1.4-1)/2);\n",
"disp('Power input in KJ/Kg and Power output in KJ/Kg are :')\n",
"W1 = 1.005 * 292.13\n",
"W2 = 293.59 * 1000 * 12500 ^ 2 * .2 ^ 2 / (15500^2 * 0.3^2)\n",
"disp('Therefore power output = ')\n",
"Power = W2/1000"
   ]
   }
,
{
		   "cell_type": "markdown",
		   "metadata": {},
		   "source": [
			"## Example 1.8: Wind_Tunnel.sce"
		   ]
		  },
  {
"cell_type": "code",
	   "execution_count": null,
	   "metadata": {
	    "collapsed": true
	   },
	   "outputs": [],
"source": [
"// Display mode\n",
"mode(0);\n",
"// Display warning for floating point exception\n",
"ieee(1);\n",
"clear;\n",
"clc;\n",
"disp('Turbomachinery Design and Theory,Rama S. R. Gorla and Aijaz A. Khan, Chapter 1, Example 8')\n",
"//Let us suppose\n",
"//Velocity of the model, Vm\n",
"//Length of the model, Lm = 160mm\n",
"//Length of the prototype Lp = 1000mm\n",
"//Velocity of the prototype Vp = 40.5m/s\n",
"//According to (Re)m = (Re)p\n",
"//Also Vm*Lm/vm = Vp*Lp/vp\n",
"disp('Velocity of wind(m/s) in the tunnel implies = ')\n",
"Vm = 40.5 * 1000 / 160"
   ]
   }
,
{
		   "cell_type": "markdown",
		   "metadata": {},
		   "source": [
			"## Example 1.9: Kinetic_Energy.sci"
		   ]
		  },
  {
"cell_type": "code",
	   "execution_count": null,
	   "metadata": {
	    "collapsed": true
	   },
	   "outputs": [],
"source": [
"// Display mode\n",
"mode(0);\n",
"// Display warning for floating point exception\n",
"ieee(1);\n",
"clear;\n",
"clc;\n",
"disp('Turbomachinery Design and Theory,Rama S. R. Gorla and Aijaz A. Khan, Chapter 1, Example 9')\n",
"//Theoritical Question\n",
"//Kinetic Energy Equation\n",
"disp('The Kinetic Energy => k V^2 m ')\n",
"disp('Where k is a constant')"
   ]
   }
],
"metadata": {
		  "kernelspec": {
		   "display_name": "Scilab",
		   "language": "scilab",
		   "name": "scilab"
		  },
		  "language_info": {
		   "file_extension": ".sce",
		   "help_links": [
			{
			 "text": "MetaKernel Magics",
			 "url": "https://github.com/calysto/metakernel/blob/master/metakernel/magics/README.md"
			}
		   ],
		   "mimetype": "text/x-octave",
		   "name": "scilab",
		   "version": "0.7.1"
		  }
		 },
		 "nbformat": 4,
		 "nbformat_minor": 0
}
