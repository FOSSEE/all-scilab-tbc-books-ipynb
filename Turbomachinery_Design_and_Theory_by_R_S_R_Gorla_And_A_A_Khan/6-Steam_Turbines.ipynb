{
"cells": [
 {
		   "cell_type": "markdown",
	   "metadata": {},
	   "source": [
       "# Chapter 6: Steam Turbines"
	   ]
	},
{
		   "cell_type": "markdown",
		   "metadata": {},
		   "source": [
			"## Example 6.10: Steam_leaving_nozzle_at_950.sce"
		   ]
		  },
  {
"cell_type": "code",
	   "execution_count": null,
	   "metadata": {
	    "collapsed": true
	   },
	   "outputs": [],
"source": [
"// Display mode\n",
"mode(0);\n",
"// Display warning for floating point exception\n",
"ieee(1);\n",
"clear;\n",
"clc;\n",
"disp('Turbomachinery Design and Theory,Rama S. R. Gorla and Aijaz A. Khan, Chapter 6, Example 10')\n",
"disp('With the help of alpha1, U and C1, the velocity triangle at the blade inlet can be constructed easily as shown in Fig. Ex610')\n",
"disp('Applying the cosine rule to the triangle ABC,')\n",
"C1 = 950;\n",
"U = 380;\n",
"alpha1 = 20;\n",
"V1 = (U^2+C1^2-2*U*C1*cos(alpha1*%pi/180))^0.5\n",
"disp('Now, applying the sine rule to the triangle ABC,')\n",
"disp('V1/sin(alpha1) = C1/sin(180-beta1) = C1/sin(beta1)')\n",
"beta1 = asin(C1*sin(alpha1*%pi/180)/V1)*180/%pi\n",
"disp('From triangle ACD')\n",
"Cw1 = C1*cos(alpha1*%pi/180)\n",
"disp('As beta1 = beta2, using triangle BEF and neglecting friction loss, i.e. V1 = V2')\n",
"beta2 = beta1;\n",
"V2 = V1;\n",
"BF = V2 *cos(beta2*%pi/180)\n",
"Cw2 = BF-U\n",
"disp('Change in velocity of whirl:')\n",
"DeltaCw = Cw1+Cw2\n",
"disp('Tangential force on blades: in N')\n",
"m = 12;\n",
"F = m*DeltaCw/60\n",
"disp('Horse Power')\n",
"P = m*U*DeltaCw/(60*1000*0.746)"
   ]
   }
,
{
		   "cell_type": "markdown",
		   "metadata": {},
		   "source": [
			"## Example 6.11: Steam_leaving_nozzle_at_700.sce"
		   ]
		  },
  {
"cell_type": "code",
	   "execution_count": null,
	   "metadata": {
	    "collapsed": true
	   },
	   "outputs": [],
"source": [
"// Display mode\n",
"mode(0);\n",
"// Display warning for floating point exception\n",
"ieee(1);\n",
"clear;\n",
"clc;\n",
"disp('Turbomachinery Design and Theory,Rama S. R. Gorla and Aijaz A. Khan, Chapter 6, Example 11')\n",
"disp('Velocity triangles for this problem are shown in Fig.Ex611')\n",
"disp('From the triangle ACD,')\n",
"C1 = 700;\n",
"alpha1 = 22;\n",
"Ca1 = C1*sin(alpha1*%pi/180)//in m/s\n",
"beta1 = 34;\n",
"V1 = Ca1/sin(beta1*%pi/180)//in m/s\n",
"disp('Whirl component of C1 is given by in m/s')\n",
"Cw1 = C1*cos(alpha1*%pi/180)\n",
"disp('BD = Cw1 - U = V1cosbeta1')\n",
"BD = V1*cos(beta1*%pi/180)\n",
"disp('Hence, blade speed in m/s')\n",
"U = Cw1-BD\n",
"disp('Using the velocity coefficient to find V2:')\n",
"k = .9;\n",
"V2 = k*V1\n",
"disp('From velocity triangle BEF,')\n",
"beta2 = beta1;\n",
"Ca2 = V2*sin(beta2*%pi/180)\n",
"Cw2 = V2*cos(beta2*%pi/180) - U\n",
"DeltaCw = Cw1+Cw2\n",
"disp('mass flow rate is given by m. in kg/s')\n",
"P = 1600;\n",
"m = P*1000/(DeltaCw*U)\n",
"disp('Thrust on the shaft in N')\n",
"Ft = m*(Ca1-Ca2)\n",
"disp('Diagram efficiency')\n",
"etad = 2*U*DeltaCw/C1^2 * 100"
   ]
   }
,
{
		   "cell_type": "markdown",
		   "metadata": {},
		   "source": [
			"## Example 6.12: Axial_velocity_constant.sce"
		   ]
		  },
  {
"cell_type": "code",
	   "execution_count": null,
	   "metadata": {
	    "collapsed": true
	   },
	   "outputs": [],
"source": [
"// Display mode\n",
"mode(0);\n",
"// Display warning for floating point exception\n",
"ieee(1);\n",
"clear;\n",
"clc;\n",
"disp('Turbomachinery Design and Theory,Rama S. R. Gorla and Aijaz A. Khan, Chapter 6, Example 12')\n",
"disp('For 50% reaction turbine Fig. Ex612, alpha1 = beta2, and alpha2 = beta1. From the velocity triangle ACD, angles in degrees')\n",
"disp('All velocities in m/s')\n",
"C1 = 105;//m/s\n",
"alpha1 = 20;\n",
"Cw1 = C1*cos(alpha1*%pi/180)\n",
"disp('Applying cosine rule to the Triangle ABC:')\n",
"U = 40;//m/s\n",
"V1 = (C1^2+U^2-C1*2*U*cos(alpha1*%pi/180))^0.5\n",
"BD = Cw1-U//ms/\n",
"beta1 = acos(BD/V1)*180/%pi//degrees\n",
"disp('Change in the velocity of whirl is:')\n",
"Cw2 = BD;\n",
"DeltaCw = Cw1+Cw2\n",
"disp('Horse Power generated')\n",
"m = 2;\n",
"P = m*U*DeltaCw/(0.746*1000)"
   ]
   }
,
{
		   "cell_type": "markdown",
		   "metadata": {},
		   "source": [
			"## Example 6.13: Blade_height_and_power_developed.sce"
		   ]
		  },
  {
"cell_type": "code",
	   "execution_count": null,
	   "metadata": {
	    "collapsed": true
	   },
	   "outputs": [],
"source": [
"// Display mode\n",
"mode(0);\n",
"// Display warning for floating point exception\n",
"ieee(1);\n",
"clear;\n",
"clc;\n",
"disp('Turbomachinery Design and Theory,Rama S. R. Gorla and Aijaz A. Khan, Chapter 6, Example 13')\n",
"disp('Figure Ex613 shows the velocity triangles.')\n",
"alpha1 = 18;\n",
"beta2 = alpha1;\n",
"alpha2 = 25;\n",
"beta1 = alpha2;\n",
"disp('From the velocity triangle, velocities in m/s')\n",
"C1 = 90;//m/s\n",
"Cw1 = C1*cos(alpha1*%pi/180)//m/s\n",
"Ca1 = C1*sin(alpha1*%pi/180)\n",
"CD = Ca1;\n",
"disp('From triangle BDC')\n",
"BD = Ca1/sin(beta1*%pi/180)\n",
"disp('Hence blade velocity is given by:')\n",
"U = Cw1-BD\n",
"disp('Applying the cosine rule,')\n",
"V1 = (C1^2+U^2-2*U*C1*cos(alpha1*%pi/180))^0.5\n",
"disp('From triangle AEF')\n",
"C2 = V1;\n",
"Cw2 = C2*cos(alpha2*%pi/180)\n",
"disp('Change in the velocity of whirl: m/s')\n",
"DeltaCw = Cw1+Cw2\n",
"disp('Power developed by the rotor: in kW')\n",
"m = 10;\n",
"P = m*U*DeltaCw/1000\n",
"disp('From superheated steam tables at 5 bar, 250 degree Celcius, the specific volume of steam is: in m3/kg')\n",
"v = 0.4744\n",
"disp('Blade height is given by the volume of flow equation: in m')\n",
"disp('v = pi*D*h*Ca')\n",
"disp('where Ca is the velocity of flow and h is the blade height.Therefore,')\n",
"D=0.72;\n",
"Ca = Ca1;\n",
"h = v/(%pi*Ca*D)"
   ]
   }
,
{
		   "cell_type": "markdown",
		   "metadata": {},
		   "source": [
			"## Example 6.14: RPM_440.sce"
		   ]
		  },
  {
"cell_type": "code",
	   "execution_count": null,
	   "metadata": {
	    "collapsed": true
	   },
	   "outputs": [],
"source": [
"// Display mode\n",
"mode(0);\n",
"// Display warning for floating point exception\n",
"ieee(1);\n",
"clear;\n",
"clc;\n",
"disp('Turbomachinery Design and Theory,Rama S. R. Gorla and Aijaz A. Khan, Chapter 6, Example 14')\n",
"disp('Figure Ex613 shows the velocity triangles.')\n",
"disp('From the velocity diagram,')\n",
"disp('V2 = 1.2U')\n",
"disp('Ca2 = V2 cos(beta2)')\n",
"disp('    = 1.2Ucos70')\n",
"disp('    = 0.41U m/s')\n",
"disp('At mean diameter,')\n",
"disp('U = piDN/60 = 2piN(Dh + h)/(60*2)')\n",
"disp('where Dh is the rotor diameter at the hub and h is the blade height.')\n",
"disp('Substituting the value of U in the above equation,')\n",
"N = 440;//rpm\n",
"disp('Ca2 = 0.41*2*%pi*N*(14.5h+h)/(2*60) = 146.45h m/s')\n",
"disp('Annular area of flow is given by:')\n",
"disp('A = pih(Dh + h) = pih(14.5h + h)')\n",
"disp('A = 15.5pih^2')\n",
"disp('Specific volume of saturated steam at 0.90 bar, vg = 1.869m3/kg.')\n",
"disp('Then the specific volume of steam v = (1.869) * (0.95) = 1.776m3/kg.')\n",
"v = 1.776;\n",
"disp('The mass flow rate is given by:kg/s')\n",
"mrate = 6.8;//kg/kW h\n",
"P = 5.5;//MW\n",
"m = P*1000*mrate/3600//kg/s\n",
"h = (m*v/(146.45*15.5*%pi))^(1/3)"
   ]
   }
,
{
		   "cell_type": "markdown",
		   "metadata": {},
		   "source": [
			"## Example 6.15: Two_row_velocity_compounded_impulse_turbine.sce"
		   ]
		  },
  {
"cell_type": "code",
	   "execution_count": null,
	   "metadata": {
	    "collapsed": true
	   },
	   "outputs": [],
"source": [
"// Display mode\n",
"mode(0);\n",
"// Display warning for floating point exception\n",
"ieee(1);\n",
"clear;\n",
"clc;\n",
"disp('Turbomachinery Design and Theory,Rama S. R. Gorla and Aijaz A. Khan, Chapter 6, Example 15')\n",
"disp('Figure Ex615 shows velocity triangles')\n",
"disp('Graphical solutions')\n",
"U = 115;//m/s\n",
"C1 = 590;//m/s\n",
"alpha1 = 18;//degrees;\n",
"beta2 = 20;//degrees\n",
"disp('The velocity diagrams are drawn to scale, as shown in Fig. Ex615a, and the relative velocity:')\n",
"V1 = 482//m/s\n",
"k = 0.9;\n",
"V2 = k*V1\n",
"disp('The absolute velocity at the inlet to the second row of moving blades, C3, is equal to the velocity of steam leaving the fixed row of blades.')\n",
"C2 = 316.4;\n",
"C3 = k*C2\n",
"disp('Driving Force in N')\n",
"m = 1;\n",
"DeltaCw1 = 854;\n",
"DeltaCw2 = 281.46; \n",
"disp('For the first row of moving blades,in N')\n",
"F1 = m*DeltaCw1\n",
"disp('For the second row of moving blades, in N')\n",
"F2 = m*DeltaCw2\n",
"disp('where DeltaCw1 and DeltaCw2 are scaled from the velocity diagram.')\n",
"disp('Total driving force')\n",
"F = F1+F2\n",
"disp('Power = driving force *blade velocity in kW per kg/s')\n",
"s = 115;\n",
"P = F*s/1000\n",
"disp('Energy supplied to the wheel')\n",
"E = m*C1^2 /(2*1000)\n",
"disp('Therefore, the diagram efficiency is:')\n",
"etad = P*1000*2/C1^2 *100\n",
"disp('Maximum diagram efficiency:')\n",
"etadm = (cos(alpha1*%pi/180))^2 *100\n",
"Ca1 = 182.32;\n",
"Ca2 = 148.4;\n",
"Ca3 = 111.3;\n",
"Ca4 = 97.57;\n",
"disp('Axial thrust on the first row of moving blades (per kg/s): in N')\n",
"F1 = m*(Ca1-Ca2)\n",
"disp('Axial thrust on the second row of moving blades (per kg/s): in N')\n",
"F2 = m*(Ca3-Ca4)\n",
"disp('Total axial thrust:in N')\n",
"F = F1+F2"
   ]
   }
,
{
		   "cell_type": "markdown",
		   "metadata": {},
		   "source": [
			"## Example 6.16: Reaction_stage_turbine.sce"
		   ]
		  },
  {
"cell_type": "code",
	   "execution_count": null,
	   "metadata": {
	    "collapsed": true
	   },
	   "outputs": [],
"source": [
"// Display mode\n",
"mode(0);\n",
"// Display warning for floating point exception\n",
"ieee(1);\n",
"clear;\n",
"clc;\n",
"disp('Turbomachinery Design and Theory,Rama S. R. Gorla and Aijaz A. Khan, Chapter 6, Example 16')\n",
"disp('Figure Ex616 shows velocity triangles')\n",
"disp('The velocity triangles can easily be constructed as the blade velocity and blade angles are given.From velocity triangles, work output per kg is given by:')\n",
"U = 300;//m/s\n",
"alpha1 = 25;\n",
"beta1 = 60;\n",
"alpha2 = 71.1;\n",
"beta2 = 32;\n",
"disp('Wt = U*(Cw1+Cw2)')\n",
"Wt = U*(450*cos(alpha1*%pi/180)+247*cos(alpha2*%pi/180))\n",
"disp('Power output i kW')\n",
"m = 5;\n",
"P = m*Wt/1000\n",
"disp('Degree of reaction is given by: DOR')\n",
"V1 = 220;//m/s\n",
"V2 = 443;//m/s\n",
"DOR = (V2^2 -V1^2)/ (2*Wt) * 100\n",
"disp('Axial thrust: in N')\n",
"Ca1 = 190.5;//m/s\n",
"Ca2 = 234;//m/s\n",
"F = m*(Ca1-Ca2)\n",
"disp('The thrust is negative because its direction is the opposite to the fluid flow.')"
   ]
   }
,
{
		   "cell_type": "markdown",
		   "metadata": {},
		   "source": [
			"## Example 6.17: Series_of_stages.sce"
		   ]
		  },
  {
"cell_type": "code",
	   "execution_count": null,
	   "metadata": {
	    "collapsed": true
	   },
	   "outputs": [],
"source": [
"// Display mode\n",
"mode(0);\n",
"// Display warning for floating point exception\n",
"ieee(1);\n",
"clear;\n",
"clc;\n",
"disp('Turbomachinery Design and Theory,Rama S. R. Gorla and Aijaz A. Khan, Chapter 6, Example 17')\n",
"disp('Using the given data, the velocity triangles for the inlet and outlet are shown in Fig Ex617')\n",
"C2 = 225;//m/s\n",
"V2 = 375;//m/s\n",
"C1 = 400;//m/s\n",
"V1 = 200;//m/s\n",
"disp('Work done per unit mass flow: in J/kg')\n",
"U = 250;\n",
"Wt = U*(C1*cos(25*%pi/180)+C2*cos(70.2*%pi/180))\n",
"disp('Degree of reaction DOR')\n",
"DOR = (V2^2 - V1^2)/(2*Wt) *100\n",
"disp('Power output: in kW')\n",
"m = 5.2;\n",
"P = m*Wt/1000\n",
"disp('Isentropic static enthalpy drop in the stator: in kJ/kg')\n",
"etas = 0.93;\n",
"Deltahs = (C1^2 - 0.89*C2^2)/etas /1000\n",
"disp('Isentropic static enthalpy drops in the rotor: in kJ/kg')\n",
"etaf = 0.94;\n",
"Deltahr = Wt/(etas*etaf) /1000\n",
"disp('Since the state of the steam at the stage entry is given as 10 bar, 300 degree Celsicus,')\n",
"disp('Enthalpy at nozzle exit: in kJ/kg')\n",
"Hn = 3051.5 - Deltahs\n",
"disp('Enthalpy at rotor exit: in kJ/kg')\n",
"Hr = 3051.5 - Deltahr\n",
"disp('The rotor inlet and outlet conditions can be found by using the Mollier Chart.')\n",
"disp('Rotor inlet conditions: P1 = 7 bar, T1 = 235 Degree Celsius')\n",
"disp('Rotor outlet conditions: P2 = 5 bar, T2 = 2208 Degree Celsius')"
   ]
   }
,
{
		   "cell_type": "markdown",
		   "metadata": {},
		   "source": [
			"## Example 6.1: Isentropic_expansion.sce"
		   ]
		  },
  {
"cell_type": "code",
	   "execution_count": null,
	   "metadata": {
	    "collapsed": true
	   },
	   "outputs": [],
"source": [
"// Display mode\n",
"mode(0);\n",
"// Display warning for floating point exception\n",
"ieee(1);\n",
"clear;\n",
"clc;\n",
"disp('Turbomachinery Design and Theory,Rama S. R. Gorla and Aijaz A. Khan, Chapter 6, Example 1')\n",
"disp('From saturated steam tables, enthalpy of saturated vapor at 2 MPa:')\n",
"disp('Enthalpy in kJ/kg')\n",
"h1 = 2799.5\n",
"hg = h1\n",
"disp('Entropy in kJ/kgK')\n",
"s1 = 6.3409\n",
"sg = s1\n",
"disp('Since the expansion is isentropic, s1 = s2: i.e., s1 = s2 = 6.3409 = sf2 +x2sfg2, where x2 is the dryness fraction after isentropic expansion, sf2 is the entropy of saturated liquid at 0.2MPa, sfg2 is the entropy of vaporization at 0.2 MPa. Using tables:')\n",
"x2 = (sg - 1.5301)/5.5970\n",
"disp('h2')\n",
"hf2 = 504.7;\n",
"hfg2 = 2201.9;\n",
"disp('h2 in kJ/kg')\n",
"h2 = hf2+x2*hfg2\n",
"disp('Using the energy equation:C2 in m/s')\n",
"C2 = (2*(h1-h2)*1000)^0.5"
   ]
   }
,
{
		   "cell_type": "markdown",
		   "metadata": {},
		   "source": [
			"## Example 6.2: Mass_of_steam_discharged.sce"
		   ]
		  },
  {
"cell_type": "code",
	   "execution_count": null,
	   "metadata": {
	    "collapsed": true
	   },
	   "outputs": [],
"source": [
"// Display mode\n",
"mode(0);\n",
"// Display warning for floating point exception\n",
"ieee(1);\n",
"clear;\n",
"clc;\n",
"disp('Turbomachinery Design and Theory,Rama S. R. Gorla and Aijaz A. Khan, Chapter 6, Example 2')\n",
"disp('Enthalpy of dry saturated steam at 1.3MPa, using steam tables,')\n",
"h1 = 2787.6\n",
"s1 = 6.4953\n",
"disp('Since the expansion process is isentropic, s1 = s2 = sf2 + x2sfg2, hence dryness fraction after expansion:')\n",
"x2 = (s1-1.3026)/6.0568\n",
"disp('Now, the enthalpy at the exit:')\n",
"hf2=417.46;\n",
"hfg2 = 2258;\n",
"h2 = hf2+x2*hfg2\n",
"disp('Therefore enthalpy drop from 1.3 MPa to 0.1 MPa in kJ/kg')\n",
"drop = h1-h2\n",
"disp('Actual enthalpy drop due to friction loss in the nozzle droping in kJ/kg')\n",
"Droping = 0.9*drop\n",
"disp('Hence, the velocity of steam at the nozzle exit:')\n",
"C2 = (2*1000*Droping)^0.5\n",
"disp('Specific volume of steam at 0.1 MPa: in m3/kg')\n",
"vg2 = 1.694;\n",
"Specificv = x2*vg2\n",
"disp('(since the volume of the liquid is usually negligible compared to the volume of dry saturated vapor, hence for most practical problems, v = xvg)')\n",
"disp('Mass flow rate of steam at the nozzle exit: in kg/h')\n",
"m = (0.01^2)*%pi*C2/(4*x2*vg2) *3600"
   ]
   }
,
{
		   "cell_type": "markdown",
		   "metadata": {},
		   "source": [
			"## Example 6.3: Exit_area_required.sce"
		   ]
		  },
  {
"cell_type": "code",
	   "execution_count": null,
	   "metadata": {
	    "collapsed": true
	   },
	   "outputs": [],
"source": [
"// Display mode\n",
"mode(0);\n",
"// Display warning for floating point exception\n",
"ieee(1);\n",
"clear;\n",
"clc;\n",
"disp('Turbomachinery Design and Theory,Rama S. R. Gorla and Aijaz A. Khan, Chapter 6, Example 3')\n",
"P1 = 7.5;//MPa\n",
"h1 = 3404.3;//kJ/kg\n",
"s1 = 6.7598;//kJ/kg K\n",
"disp('(h1 and s1 from superheated steam tables)')\n",
"disp('At the exit state, P2 > Pc = 0.545*7.5 = 4.0875 MPa; and therefore the nozzle is convergent. State 2 is fixed by P2 = 5MPa, s1 = s2 = 6.7598 kJ/kgK')\n",
"disp('T2 = 4358K, v2 = 0.06152m3/kg, h2 = 3277.9 kJ/kg (from the superheated steam tables or the Mollier Chart).')\n",
"disp('The exit velocity:')\n",
"h2 = 3277.9;//kJ/kg\n",
"C2 = (2*1000*(h1-h2))^0.5\n",
"disp('Using the continuity equation, the exit area is')\n",
"m = 2.8;\n",
"v2 = 0.06152;\n",
"A2 = m*v2/C2"
   ]
   }
,
{
		   "cell_type": "markdown",
		   "metadata": {},
		   "source": [
			"## Example 6.4: Ratio_of_cross_sectional_area.sce"
		   ]
		  },
  {
"cell_type": "code",
	   "execution_count": null,
	   "metadata": {
	    "collapsed": true
	   },
	   "outputs": [],
"source": [
"// Display mode\n",
"mode(0);\n",
"// Display warning for floating point exception\n",
"ieee(1);\n",
"clear;\n",
"clc;\n",
"disp('Turbomachinery Design and Theory,Rama S. R. Gorla and Aijaz A. Khan, Chapter 6, Example 4')\n",
"disp('Critical pressure for maximum mass flow is given by Fig. Ex64')\n",
"disp('Pc is critical pressure in MPa')\n",
"P1 = 0.8;//MPa\n",
"n = 1.135;//index\n",
"Pc = P1*(2/(n+1))^(n/(n-1))\n",
"P2 = Pc;\n",
"disp('From the Mollier chart:')\n",
"disp('h1 = 2769 kJ/kg')\n",
"disp('h2 = 2659 kJ/kg')\n",
"disp('h3 = 2452 kJ/kg')\n",
"h1 = 2769;\n",
"h2 = 2659;\n",
"h3 = 2452;\n",
"disp('Enthalpy drop from 0.8 MPa to 0.15 MPa:')\n",
"Deltah13 = h1-h3\n",
"disp('Enthalpy drop from 0.8 MPa to 0.462 MPa:')\n",
"Deltah12 = h1-h2\n",
"disp('Dryness fraction:')\n",
"x2 = 0.954\n",
"x3 = 0.902\n",
"disp('The velocity at the exit in m/s')\n",
"C3 = (2*1000*Deltah13)^0.5\n",
"disp('The velocity at the throat in m/s')\n",
"C2 = (2*1000*Deltah12)^0.5\n",
"disp('Mass discharged at the throat')\n",
"disp('m2 = A2C2/x2vg2')\n",
"disp('Mass discharged at the exit')\n",
"disp('m3 = A3C3/x3vg3')\n",
"disp('A3C3/x3vg3 = A2C2/x2vg2')\n",
"disp('A3/A2 = (C2/C3) * (x3vg3/x2vg2)')\n",
"disp('Area Ratio A3/A2 = Ar')\n",
"vg3 = 1.1593;\n",
"vg2 = 0.4038;\n",
"Ar = C2*x3*vg3/(C3*x2*vg2)"
   ]
   }
,
{
		   "cell_type": "markdown",
		   "metadata": {},
		   "source": [
			"## Example 6.5: Convergent_Divergent_Nozzle.sce"
		   ]
		  },
  {
"cell_type": "code",
	   "execution_count": null,
	   "metadata": {
	    "collapsed": true
	   },
	   "outputs": [],
"source": [
"// Display mode\n",
"mode(0);\n",
"// Display warning for floating point exception\n",
"ieee(1);\n",
"clear;\n",
"clc;\n",
"disp('Turbomachinery Design and Theory,Rama S. R. Gorla and Aijaz A. Khan, Chapter 6, Example 5')\n",
"disp('At the state point 2, the dryness fraction is 0.85 and the pressure is 0.1 MPa.')\n",
"disp('This problem can be solved easily by the Mollier chart or by calculations.')\n",
"disp('Enthalpy and entropy may be determined using the following equations:')\n",
"disp('h2 = hf2 + x2hfg2 and s2 = sf2 + x2sfg2;')\n",
"hf2 = 417.46\n",
"x2 = 0.85\n",
"hfg2 = 2258\n",
"h1 = hf2+x2*hfg2\n",
"sf2 = 1.3026\n",
"sfg2 = 6.0568\n",
"s2 = sf2+x2*sfg2\n",
"disp('Since s1 = s2, the state 1 is fixed by s1 = 6.451 kJ/kg K, and point 1 is at the dry saturated line.')\n",
"disp('Therefore pressure P1 may be determined by the Mollier chart or by calculations: i.e.: P1 = 1.474 MPa.')\n",
"disp('Elthalpies are in kJ/kg, entropy in kJ/kgK and Pressure in MPa')"
   ]
   }
,
{
		   "cell_type": "markdown",
		   "metadata": {},
		   "source": [
			"## Example 6.6: Steam_leaving_nozzle_at_925.sce"
		   ]
		  },
  {
"cell_type": "code",
	   "execution_count": null,
	   "metadata": {
	    "collapsed": true
	   },
	   "outputs": [],
"source": [
"// Display mode\n",
"mode(0);\n",
"// Display warning for floating point exception\n",
"ieee(1);\n",
"clear;\n",
"clc;\n",
"disp('Turbomachinery Design and Theory,Rama S. R. Gorla and Aijaz A. Khan, Chapter 6, Example 6')\n",
"disp('From the data given, the velocity diagram can be constructed as shown in Fig. Ex66. The problem can be solved either graphically or by calculation.')\n",
"disp('Applying the cosine rule to the triangle ABC, V1 and V2 in m/s implies')\n",
"U = 250;\n",
"C1 = 925;\n",
"alpha1 = 20;\n",
"V1 = (U^2 + C1^2 -2*U*C1*cos(alpha1*%pi/180))^0.5\n",
"k = 0.7;\n",
"V2 = k*V1\n",
"disp('Velocity of whirl at inlet:')\n",
"Cw1 = C1*cos(alpha1*%pi/180)\n",
"disp('Axial component at inlet:')\n",
"Ca1 = C1*sin(alpha1*%pi/180)\n",
"disp('Blade angle at inlet')\n",
"beta1 = atan(Ca1/(Cw1-U))*180/%pi\n",
"disp('beta2 = beta1 = outlet blade angle')\n",
"beta2 = beta1\n",
"Cw2 = cos(beta2*%pi/180)*V2 - U\n",
"disp('Ca2 = FE')\n",
"Ca2 = (U+Cw2)*tan(beta2*%pi/180)\n",
"disp('Velocity of whirl at inlet, Cw1 = 869.22 m/s;')\n",
"disp('Velocity of whirl at outlet, Cw2 = 183.69 m/s')\n",
"disp('Tangential force on blades in N')\n",
"m = 0.182;//kg/s\n",
"Ft = (Cw1+Cw2)*m\n",
"disp('Axial force on blades in N')\n",
"Fa = m*(Ca1-Ca2)\n",
"disp('Work done on blades in kW')\n",
"disp('= tangential force on blades * blade velocity')\n",
"W = Ft*250/1000\n",
"disp('Efficiency of blading = Work done on blades/Kinetic energy supplied')\n",
"etab = W/(m*C1^2) * 1000 *2 * 100\n",
"disp('Inlet angle of blades beta1 = 27.068 = beta2.')"
   ]
   }
,
{
		   "cell_type": "markdown",
		   "metadata": {},
		   "source": [
			"## Example 6.7: Steam_leaving_nozzle_at_590.sce"
		   ]
		  },
  {
"cell_type": "code",
	   "execution_count": null,
	   "metadata": {
	    "collapsed": true
	   },
	   "outputs": [],
"source": [
"// Display mode\n",
"mode(0);\n",
"// Display warning for floating point exception\n",
"ieee(1);\n",
"clear;\n",
"clc;\n",
"disp('Turbomachinery Design and Theory,Rama S. R. Gorla and Aijaz A. Khan, Chapter 6, Example 7')\n",
"disp('Blade speed U is given by: in m/s')\n",
"D = 1050;\n",
"N = 2800;\n",
"U1 = %pi*D*N/(60*1000)\n",
"disp('The velocity diagram is shown in Fig. Ex67. Applying the cosine rule to the triangle ABC,')\n",
"C1 = 590;\n",
"alpha1 = 20;\n",
"V1 =(U1^2+C1^2-2*U1*C1*cos(alpha1*%pi/180))^0.5\n",
"disp('Applying the sine rule to the triangle ABC, C1sin (ACB) = V1/sin (alpha1)')\n",
"disp('but sin(ACB) = sin(180-beta1) = sin(beta1)')\n",
"beta1 = asin(C1*sin(alpha1*%pi/180)/V1)*180/%pi\n",
"beta2 = beta1;\n",
"disp('From Triangle ABD')\n",
"Cw1 = C1*cos(alpha1*%pi/180)\n",
"disp('From triangle CEF')\n",
"disp('Ca2/(U + Cw2) = tan(beta2) = tan(beta1) = tan(26.75) = 0.504')\n",
"Ca2 =155;\n",
"Cw2 = Ca2/tan(beta1*%pi/180) -U1\n",
"DeltaCw = Cw1+Cw2\n",
"disp('Relative velocity at the rotor outlet is:')\n",
"V2 = Ca2/sin(beta2*%pi/180)\n",
"disp('Blade velocity coefficient is:')\n",
"k = V2/V1\n",
"disp('Work done on the blades per kg/s: in kW')\n",
"W = DeltaCw *U1/1000\n",
"disp('Diagram efficiency')\n",
"etad = 2*W/(C1^2) *100000"
   ]
   }
,
{
		   "cell_type": "markdown",
		   "metadata": {},
		   "source": [
			"## Example 6.8: 1_stage_impulse_turbine.sce"
		   ]
		  },
  {
"cell_type": "code",
	   "execution_count": null,
	   "metadata": {
	    "collapsed": true
	   },
	   "outputs": [],
"source": [
"// Display mode\n",
"mode(0);\n",
"// Display warning for floating point exception\n",
"ieee(1);\n",
"clear;\n",
"clc;\n",
"disp('Turbomachinery Design and Theory,Rama S. R. Gorla and Aijaz A. Khan, Chapter 6, Example 8')\n",
"disp('From triangle ABC Figure Ex68')\n",
"C1 = 460;\n",
"a = 22;//degrees\n",
"Cw1 = C1 *cos(a*%pi/180)\n",
"Ca1 = C1*sin(a*%pi/180)\n",
"disp('Now from triangle BCD')\n",
"BD = Ca1/tan(33*%pi/180)\n",
"disp('Hence, blade speed is given by: in m/s')\n",
"U = Cw1-BD\n",
"disp('From Triangle BCD, relative velocity at blade inlet is given by: in m/s')\n",
"V1 = Ca1/sin(33*%pi/180)\n",
"disp('Velocity coefiicient')\n",
"k = 0.75\n",
"V2 = V1*k\n",
"disp('From triangle BEF')\n",
"BF = V2*cos(33*%pi/180)\n",
"Cw2 = BF-U\n",
"AF = Cw2;\n",
"Ca2 = V2*sin(33*%pi/180)\n",
"disp('The change in velocity of whirl:')\n",
"DeltaCw = Cw1+Cw2\n",
"disp('Diagram efficiency')\n",
"etad = 2*DeltaCw*U/C1^2 * 100\n",
"disp('End thrust on the shaft per unit mass flow: in N')\n",
"F = Ca1-Ca2"
   ]
   }
,
{
		   "cell_type": "markdown",
		   "metadata": {},
		   "source": [
			"## Example 6.9: Parson_Turbine.sce"
		   ]
		  },
  {
"cell_type": "code",
	   "execution_count": null,
	   "metadata": {
	    "collapsed": true
	   },
	   "outputs": [],
"source": [
"// Display mode\n",
"mode(0);\n",
"// Display warning for floating point exception\n",
"ieee(1);\n",
"clear;\n",
"clc;\n",
"disp('Turbomachinery Design and Theory,Rama S. R. Gorla and Aijaz A. Khan, Chapter 6, Example 9')\n",
"disp('The blade speed, in m/s')\n",
"D = 1.3;\n",
"N = 3000;\n",
"U = %pi*D*N/60\n",
"disp('Velocity of flow,in m/s')\n",
"Ca = 0.5*U\n",
"C2 = 102;\n",
"disp('Draw lines AB and CD parallel to each other Fig. Ex69 at the distance of 102 m/s, i.e., velocity of flow, Ca1 = 102 m/s.')\n",
"disp('At any point B, construct an angle alpha2 = 20 degrees to intersect line CD at point C. Thus, the velocity triangle at the outlet is completed. For Parson’s turbine,')\n",
"disp('alpha1 = beta2 , beta1 = alpha2 , C1 = V2 and V1 = C2')\n",
"disp('By measurement')\n",
"Cw1 = 280.26;\n",
"Cw2 = 76.23;\n",
"DeltaCw = Cw1+Cw2\n",
"disp('The inlet angles are 53.22 degrees.Specific volume of vapor at 0.5 MPa, from the steam tables, is in m3/kg')\n",
"vg = 0.3749\n",
"disp('Therefore the mass flow is given by:')\n",
"x2 = 1;\n",
"A= %pi*1.3*6;\n",
"m = A*C2/(x2*vg)/100\n",
"disp('Power developed in kW')\n",
"P = m*C2*DeltaCw/1000"
   ]
   }
],
"metadata": {
		  "kernelspec": {
		   "display_name": "Scilab",
		   "language": "scilab",
		   "name": "scilab"
		  },
		  "language_info": {
		   "file_extension": ".sce",
		   "help_links": [
			{
			 "text": "MetaKernel Magics",
			 "url": "https://github.com/calysto/metakernel/blob/master/metakernel/magics/README.md"
			}
		   ],
		   "mimetype": "text/x-octave",
		   "name": "scilab",
		   "version": "0.7.1"
		  }
		 },
		 "nbformat": 4,
		 "nbformat_minor": 0
}
