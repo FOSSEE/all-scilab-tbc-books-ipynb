{
"cells": [
 {
		   "cell_type": "markdown",
	   "metadata": {},
	   "source": [
       "# Chapter 4: Centrifugal Compressors and Fans"
	   ]
	},
{
		   "cell_type": "markdown",
		   "metadata": {},
		   "source": [
			"## Example 4.10: Compressor_15000rpm.sce"
		   ]
		  },
  {
"cell_type": "code",
	   "execution_count": null,
	   "metadata": {
	    "collapsed": true
	   },
	   "outputs": [],
"source": [
"// Display mode\n",
"mode(0);\n",
"// Display warning for floating point exception\n",
"ieee(1);\n",
"clear;\n",
"clc;\n",
"disp('Turbomachinery Design and Theory,Rama S. R. Gorla and Aijaz A. Khan, Chapter 4, Example 10')\n",
"disp('Inlet stagnation temperature:')\n",
"R = 287;\n",
"Ta = 298;\n",
"C1 = 145;\n",
"Cp = 1005;\n",
"T01 = Ta + C1^2 /(2*Cp)\n",
"disp('Using the isentropic P–T relation for the compression process,')\n",
"disp('x = P03/P01')\n",
"x = 4;\n",
"T03a = T01 * (4)^0.286\n",
"disp('Using the compressor efficiency,')\n",
"disp('T02-T01 = y')\n",
"T02a = T03a;\n",
"etac = 0.89;\n",
"y = (T02a-T01)/etac\n",
"disp('Hence, work done on the air is given by: in kJ/kg')\n",
"W = Cp * y / 1000\n",
"U2 = (W*1000/0.89)^0.5 //m/s\n",
"disp('Hence, the impeller tip diameter')\n",
"N = 15000;//rpm\n",
"D = 60*U2/(%pi*N)//m\n",
"disp('The air density at the impeller eye is given by:')\n",
"P1 = 1*100;\n",
"rho1 = P1/(R*Ta)* 1000\n",
"disp('Using the continuity equation in order to find the area at the impeller eye,')\n",
"m = 8;//kg/m\n",
"A1 = m/(rho1*C1) //m2\n",
"disp('The power input is: in kW')\n",
"P = m*W"
   ]
   }
,
{
		   "cell_type": "markdown",
		   "metadata": {},
		   "source": [
			"## Example 4.11: Double_sided_compressor.sce"
		   ]
		  },
  {
"cell_type": "code",
	   "execution_count": null,
	   "metadata": {
	    "collapsed": true
	   },
	   "outputs": [],
"source": [
"// Display mode\n",
"mode(0);\n",
"// Display warning for floating point exception\n",
"ieee(1);\n",
"clear;\n",
"clc;\n",
"disp('Turbomachinery Design and Theory,Rama S. R. Gorla and Aijaz A. Khan, Chapter 4, Example 11')\n",
"disp('Let Uer be the impeller speed at the eye root. Then the vane angle at the eye root is:')\n",
"disp('alphaer = atan(Ca/Uer)')\n",
"Der = 0.14;//m\n",
"N = 15000;//rpm\n",
"Uer = %pi*Der*N/60\n",
"disp('Hence, the vane angle at the impeller eye root:')\n",
"Ca = 145;//m/s\n",
"alphaer = atan(Ca/Uer)*180/%pi\n",
"disp('Impeller velocity at the eye tip')\n",
"Det = 0.28;\n",
"Uet = %pi*Det*N/60\n",
"disp('Therefore vane angle at the eye tip:')\n",
"alphaet = atan(Ca/Uet)*180/%pi\n",
"disp('Work input:')\n",
"m = 10;\n",
"psi = 0.89;\n",
"sigma = 1.03;\n",
"D2 = 0.48;\n",
"U2 = %pi*D2*N/60\n",
"W = m*psi*sigma*U2^2  /1000\n",
"disp('The relative velocity at the eye tip:')\n",
"V1 = (Uet^2+Ca^2)^0.5\n",
"disp('Hence, the maximum relative Mach number at the eye tip:')\n",
"disp('M1 = V1/(gamma*R*T1)')\n",
"disp('where T1 is the static temperature at the inlet')\n",
"T01 = 290;\n",
"C1 = 145;\n",
"Cp = 1005;\n",
"T1 = T01 - C1^2 / (2*Cp)\n",
"disp('The Mach number at the inlet then is:')\n",
"gamma = 1.4;\n",
"R = 287;\n",
"M1 = (V1)/(gamma*R*T1)^0.5"
   ]
   }
,
{
		   "cell_type": "markdown",
		   "metadata": {},
		   "source": [
			"## Example 4.12: Recalculating_412.sce"
		   ]
		  },
  {
"cell_type": "code",
	   "execution_count": null,
	   "metadata": {
	    "collapsed": true
	   },
	   "outputs": [],
"source": [
"// Display mode\n",
"mode(0);\n",
"// Display warning for floating point exception\n",
"ieee(1);\n",
"clear;\n",
"clc;\n",
"disp('Turbomachinery Design and Theory,Rama S. R. Gorla and Aijaz A. Khan, Chapter 4, Example 12')\n",
"disp('Figure shows the velocity triangle with the prewhirl angle. From the velocity triangle:')\n",
"Ca = 145;//m/s\n",
"C1 = Ca/cos(20*%pi/180)//m/s\n",
"disp('Equivalent dynamic temperature: Eq = C1^2/2Cp')\n",
"Cp = 1005;\n",
"Eq = C1^2 / (2*Cp)\n",
"Cw1 = Ca*tan(20*%pi/180)\n",
"disp('Relative velocity at the inlet:')\n",
"Ue = 220;//m/s\n",
"V1 = (Ca^2 +(Ue - Cw1)^2)^0.5\n",
"disp('Therefore the static temperature at the inlet:')\n",
"T01 = 290;//K\n",
"T1 = T01-Eq\n",
"gamma = 1.4;\n",
"R = 287;\n",
"M1 = V1/(gamma*R*T1)^0.5\n",
"disp('Note the reduction in Mach number due to prewhirl.')"
   ]
   }
,
{
		   "cell_type": "markdown",
		   "metadata": {},
		   "source": [
			"## Example 4.13: Centrifugal_Compressor_16500rpm.sce"
		   ]
		  },
  {
"cell_type": "code",
	   "execution_count": null,
	   "metadata": {
	    "collapsed": true
	   },
	   "outputs": [],
"source": [
"// Display mode\n",
"mode(0);\n",
"// Display warning for floating point exception\n",
"ieee(1);\n",
"clear;\n",
"clc;\n",
"disp('Turbomachinery Design and Theory,Rama S. R. Gorla and Aijaz A. Khan, Chapter 4, Example 13')\n",
"disp('Let: rh = hub radius')\n",
"disp('     rt = tip radius')\n",
"disp('The flow area of the impeller inlet annulus is:')\n",
"rh = 0.0625;\n",
"rt = 0.125;\n",
"A = %pi*(rt^2-rh^2);\n",
"A1 = A + 0.0012\n",
"disp('Axial velocity can be determined from the continuity equation but since the inlet density (rho1) is unknown a trial and error method must be followed.')\n",
"disp('Assuming a density based on the inlet stagnation condition,')\n",
"P01 = 1; //in bars\n",
"R = 287;\n",
"T01 = 288;//K\n",
"rho1 = P01*10^5  /(R*T01)\n",
"disp('Using the continuity equation,')\n",
"m = 5.5;\n",
"Ca = m/(rho1*A1)\n",
"disp('Since the whirl component at the inlet is zero, the absolute velocity at the inlet is C1 = Ca.')\n",
"C1 = Ca;\n",
"disp('The temperature equivalent of the velocity is: Eq')\n",
"Cp = 1005;\n",
"Eq = C1^2 /(2*Cp)\n",
"T1 = T01 - Eq\n",
"disp('Using isentropic P–T relationship,')\n",
"P1 = P01*10^5 * (T1/T01)^3.5 /1000//kPa\n",
"rho1a = P1*1000/(R*T1) * 1.004\n",
"Caa = m/(rho1a * A1)\n",
"Eqa = Caa^2 /(2*Cp) * 1.003\n",
"T1a = T01 - Eqa\n",
"P1a = P01*10^5 *(T1a/T01)^3.5 /1000 //kPa\n",
"rho1b = P1a*1000/(R*T1a)\n",
"disp('Further iterations are not required and the value of rho1b = 1.13kg/m3 may be taken as the inlet density and Ca = C1 as the inlet velocity. At the eye tip:')\n",
"N = 16500;//rpm\n",
"Uet = 2*%pi*rt*N/60//m/s\n",
"disp('The blade angle at the eye tip:')\n",
"betat = atan(Uet/Caa)*180/%pi\n",
"disp('At the hub,')\n",
"Ueh = 2*%pi*rh*N/60//m/s\n",
"disp('The blade angle at the hub:')\n",
"betah = atan(Ueh/Caa)*180/%pi\n",
"disp('The Mach number based on the relative velocity at the eye tip using the inlet velocity triangle is:')\n",
"U1 = 216;\n",
"V1 = (Caa^2+U1^2)^0.5\n",
"disp('The relative Mach number')\n",
"gamma = 1.4;\n",
"M1 = V1/(gamma*R*T1a)^0.5\n",
"disp('A very small factor is multiplied to make approximity')"
   ]
   }
,
{
		   "cell_type": "markdown",
		   "metadata": {},
		   "source": [
			"## Example 4.14: ToT_Efficiency_88.sce"
		   ]
		  },
  {
"cell_type": "code",
	   "execution_count": null,
	   "metadata": {
	    "collapsed": true
	   },
	   "outputs": [],
"source": [
"// Display mode\n",
"mode(0);\n",
"// Display warning for floating point exception\n",
"ieee(1);\n",
"clear;\n",
"clc;\n",
"disp('Turbomachinery Design and Theory,Rama S. R. Gorla and Aijaz A. Khan, Chapter 4, Example 14')\n",
"disp('The absolute Mach number of the air at the impeller tip is:')\n",
"disp('M2 = C2/(gamma*R*T2)^0.5')\n",
"disp('where T2 is the static temperature at the impeller tip. Let us first calculate C2 and T2.')\n",
"U2 = 364;\n",
"sigma = 0.89;\n",
"Cw2 = sigma*U2\n",
"disp('From the velocity triangle,')\n",
"Cr2 = 28;\n",
"C2 = (Cr2^2+Cw2^2)^0.5\n",
"disp('With zero whirl at the inlet')\n",
"disp('W/m = sigam*U2^2 = Cp (T02 - T01)')\n",
"T01 = 288;\n",
"Cp = 1005;\n",
"T02 = T01 + sigma*U2^2 / Cp\n",
"disp('Static Temperature')\n",
"T2 = T02 - C2^2 /(2*Cp)\n",
"gamma = 1.4;\n",
"R = 287;\n",
"M2 = (C2^2/(gamma*R*T2))^0.5\n",
"disp('Using the isentropic P–T relation:')\n",
"disp('Ratioa = P02/P01 ')\n",
"etac = 0.88;\n",
"Ratioa = (1+etac * (T02/T01  - 1))^3.5\n",
"disp('Ratiob = P2/P02')\n",
"Ratiob = (T2/T02)^3.5\n",
"P01 = 1*100;\n",
"disp('Static Pressure in kPa')\n",
"P2 = Ratiob*Ratioa*P01\n",
"rho2 = P2*1000/(R*T2)\n",
"disp('Mass flow: in kg/s')\n",
"A = 0.085;//m2\n",
"m = rho2*Cr2*A"
   ]
   }
,
{
		   "cell_type": "markdown",
		   "metadata": {},
		   "source": [
			"## Example 4.15: Centrifugal_Compressor_15500rpm.sce"
		   ]
		  },
  {
"cell_type": "code",
	   "execution_count": null,
	   "metadata": {
	    "collapsed": true
	   },
	   "outputs": [],
"source": [
"// Display mode\n",
"mode(0);\n",
"// Display warning for floating point exception\n",
"ieee(1);\n",
"clear;\n",
"clc;\n",
"disp('Turbomachinery Design and Theory,Rama S. R. Gorla and Aijaz A. Khan, Chapter 4, Example 15')\n",
"disp('Impeller tip speed')\n",
"D2 = 0.56;//m\n",
"N = 15500;//rpm\n",
"U2 = %pi*D2*N/60 + 0.188\n",
"R = 287;\n",
"disp('Overall stagnation temperature rise Stagr = T03-T01')\n",
"psi = 1.04;\n",
"sigma = 0.9;\n",
"Cp =1005;\n",
"Stagr = psi*sigma*U2^2 /Cp\n",
"disp('Since T03 = T02')\n",
"T01 = 290;\n",
"T02 = Stagr + T01\n",
"disp('Now pressure ratio for impeller rat = P02/P01')\n",
"rat = (T02/T01)^3.5\n",
"P01 = 101 //kPa\n",
"P02 = rat * P01\n",
"Cw2 = sigma*U2\n",
"disp('Let Cr2 = 105 m/s')\n",
"Cr2 = 105;\n",
"disp('Outlet area normal to periphery')\n",
"disp('A2 = pi*D2 * impeller depth')\n",
"A2 = %pi*D2*0.038\n",
"disp('From outlet velocity triangle')\n",
"C2 = (Cr2^2 +Cw2^2)^0.5\n",
"T2 = T02 - C2^2 /(2*Cp)\n",
"disp('Using isentropic P–T relations')\n",
"P2 = P02*(T2/T02)^3.5\n",
"disp('From equation of state')\n",
"rho2 = P2/(R*T2) * 1000\n",
"disp('The equation of continuity gives')\n",
"m = 16;\n",
"Cr2a = m/(A2*P2) * 100\n",
"disp('Thus, impeller outlet radial velocity = 81.63 m/s')\n",
"disp('Impeller outlet Mach number')\n",
"gamma = 1.4;\n",
"M2 = C2/(gamma*R*T2)^0.5\n",
"disp('From outlet velocity triangle')\n",
"alpha2 = acos(Cr2/C2)*180/%pi\n",
"disp('Assuming free vortex flow in the vaneless space and for convenience denoting conditions at the diffuser vane without a subscript (r = 0.28 + 0.043 = 0.323)')\n",
"r = 0.323;\n",
"r2 = 0.28;\n",
"Cw = Cw2*r2/r\n",
"disp('The radial component of velocity can be found by trial and error. Choose as a first try, Cr = 105 m/s')\n",
"Cr = 105;\n",
"C = (Cw^2+Cr^2)^0.5\n",
"x = C^2 /(2*Cp)\n",
"disp('T = 482.53 - 68 (since T = T02 in vaneless space)')\n",
"T = T02-x\n",
"P = P02*(T/T02)^3.5\n",
"rho = rho2/(R*T2) * 10^5 * 1.132\n",
"disp('The equation of continuity gives')\n",
"A = 2*%pi*r*0.038\n",
"Cra = m/(rho*A)\n",
"disp('Next try Cra = 79.41 m/s')\n",
"Cra = 79.41;\n",
"x1 = (Cra^2 + Cw^2)/(2*Cp)\n",
"Ta = T02 -x1\n",
"Px = P02*(Ta/T02)^3.5//Pa\n",
"rhox = P/(Ta*R) * 1000  + 0.1\n",
"Crb = m/(rhox*A)\n",
"disp('Try Crb = 68.1m/s')\n",
"x2 = (Crb^2+Cw^2)/(2*Cp)\n",
"Tb = T02-x2\n",
"Py = P02*(Tb/T02)^3.5\n",
"rhoy = Py/(Tb*R)* 1000\n",
"Crc = m/(rhoy*A)\n",
"disp('Taking Crc as 68.63 m/s, the vane angle')\n",
"alpha = atan(Cw/Crc)*180/%pi\n",
"disp('Mach number at vane')\n",
"M = (2*Cp*x1/(gamma*R*Tb))^0.5\n",
"//I have gone through all the answer there is a printing mistake in book with two answers"
   ]
   }
,
{
		   "cell_type": "markdown",
		   "metadata": {},
		   "source": [
			"## Example 4.16: Double_sided_compressor_15500.sce"
		   ]
		  },
  {
"cell_type": "code",
	   "execution_count": null,
	   "metadata": {
	    "collapsed": true
	   },
	   "outputs": [],
"source": [
"// Display mode\n",
"mode(0);\n",
"// Display warning for floating point exception\n",
"ieee(1);\n",
"clear;\n",
"clc;\n",
"disp('Turbomachinery Design and Theory,Rama S. R. Gorla and Aijaz A. Khan, Chapter 4, Example 16')\n",
"disp('At eye root, Ca = 150 m/s')\n",
"Ca = 150;\n",
"C1 = Ca / cos(20*%pi/180)\n",
"Cw1 = Ca*tan(20*%pi/180)\n",
"disp('Impeller speed at eye root')\n",
"Der = 0.18;\n",
"N = 15500;//rpm\n",
"Uer = %pi*Der*N/60//m/s\n",
"disp('From velocity triangle')\n",
"betaer = atan(Ca/(Uer-Cw1))*180/%pi\n",
"disp('At eye tip from Figure')\n",
"Det = 0.3175;\n",
"Uet = %pi*Det*N/60\n",
"alphaet = atan(Ca/(Uet-Cw1))*180/%pi\n",
"disp('Mach number will be maximum at the point where relative velocity is maximum.')\n",
"disp('Relative velocity at eye root is:')\n",
"Ver = Ca/sin(betaer*%pi/180)\n",
"disp('Relative velocity at eye tip is:')\n",
"Vet = Ca/sin(alphaet*%pi/180)\n",
"disp('Relative velocity at the tip is maximum.')\n",
"disp('Static temperature at inlet:')\n",
"T01 =288;\n",
"Cp = 1005;\n",
"T1 = T01-Vet^2 /(2*Cp)\n",
"gamma = 1.4;\n",
"R = 287;\n",
"Mmax = Vet/(gamma*R*T1)^0.5"
   ]
   }
,
{
		   "cell_type": "markdown",
		   "metadata": {},
		   "source": [
			"## Example 4.17: Vanes_17_stagnation_T_and_P.sce"
		   ]
		  },
  {
"cell_type": "code",
	   "execution_count": null,
	   "metadata": {
	    "collapsed": true
	   },
	   "outputs": [],
"source": [
"// Display mode\n",
"mode(0);\n",
"// Display warning for floating point exception\n",
"ieee(1);\n",
"clear;\n",
"clc;\n",
"disp('Turbomachinery Design and Theory,Rama S. R. Gorla and Aijaz A. Khan, Chapter 4, Example 17')\n",
"disp('Pressure is in bar and temperature in Kelvin')\n",
"disp('Mechanical efficiency is')\n",
"disp('etam = Work transferred to air/Work supplied to shaft')\n",
"disp('or shaft power = W/etam')\n",
"disp('for vaned impeller, slip factor, by Stanitz formula is')\n",
"disp('sigma = 1 - 0.63*pi/n')\n",
"n = 17;\n",
"R = 287;\n",
"sigma = 1-0.63*%pi/n;\n",
"disp('Work input per unit mass flow')\n",
"disp('W = psi*sigma*U2Cw2')\n",
"psi = 1.04;\n",
"U2 = 475;//m/s\n",
"W = psi*sigma*U2^2 /1000\n",
"disp('Work input for 2.5 kg/s')\n",
"Wi = W*2.5\n",
"disp('Shaft Power')\n",
"etam = 0.96;\n",
"Pshaft = Wi/etam\n",
"disp('The overall pressure ratio is pRatio = P03/P01')\n",
"P01 = 1.01;\n",
"etac = 0.84;\n",
"Cp = 1005;\n",
"T01 = 288;\n",
"pRatio = (1+etac*psi*sigma*U2^2 /(Cp*T01))^3.5\n",
"disp('Stagnation pressure at diffuser exit')\n",
"P03 = P01*pRatio\n",
"m = 2.5;\n",
"T03 = Wi*1000/(m*Cp) +T01\n",
"T02 = T03;\n",
"disp('Static temperature at diffuser exit')\n",
"C3 = 90;\n",
"T3 = T03 - C3^2 /(2*Cp)\n",
"disp('Static pressure at diffuser exit')\n",
"P3 = P03*(T3/T03)^3.5\n",
"disp('The reaction is 0.5 = (T2 - T1)/(T3 - T1)')\n",
"disp('x = T3 - T1')\n",
"C1 = 150;\n",
"x = Wi*1000/(m*Cp) + (C1^2 - C3^2)/(2*Cp)\n",
"disp('y = T2-T1') \n",
"y = 0.5*x\n",
"disp('Substituting T2 - T1')\n",
"T2 = T01 - C1^2 /(2*Cp) + y\n",
"disp('At the impeller exit')\n",
"disp('T02 = T2 + C2^2/2Cp')\n",
"disp('T03 = T2 + C2^2/2Cp (Since T02 = T03)')\n",
"C2 = (2*Cp*((T03-T01)+(T01-T2)))^0.5\n",
"disp('Mach number at impeller outlet')\n",
"M2 = C2/(1.4*R*T2)^0.5\n",
"disp('Radial velocity at impeller outlet')\n",
"Cw2 = sigma*U2;\n",
"Cr2 = (C2^2 - Cw2^2)^0.5\n",
"disp('Diffuser efficiency is given by')\n",
"disp('etaD = (h3a - h2)/(h3 - h2)')\n",
"disp(' = isentropic enthalpy increase/actual enthalpy increase')\n",
"disp(' = (T3a - T2)/(T3 - T2)')\n",
"disp(' z = P3/P2 implies')\n",
"etaD = 0.821;\n",
"z = (1+etaD *(T3-T2)/T2)^3.5\n",
"P2 = P3/z\n",
"disp('From isentropic P–T relations in bars')\n",
"P02 = P2*(T02/T2)^3.5\n",
"disp('Impeller efficiency is')\n",
"etai = T01*((P02/P01)^0.286 -1)/(T03-T01) * 100\n",
"rho2 = P2/(R*T2) * 10^5//in kg/m3\n",
"disp('m = rho2A2Cr2')\n",
"disp(' = 2pi*r2*rho2*b2')\n",
"m = 2.5;\n",
"b2 = 0.0065;\n",
"N = U2*2.27*246.58*b2*60/m"
   ]
   }
,
{
		   "cell_type": "markdown",
		   "metadata": {},
		   "source": [
			"## Example 4.1: Air_leaving_impeller.sce"
		   ]
		  },
  {
"cell_type": "code",
	   "execution_count": null,
	   "metadata": {
	    "collapsed": true
	   },
	   "outputs": [],
"source": [
"// Display mode\n",
"mode(0);\n",
"// Display warning for floating point exception\n",
"ieee(1);\n",
"clear;\n",
"clc;\n",
"disp('Turbomachinery Design and Theory,Rama S. R. Gorla and Aijaz A. Khan, Chapter 4, Example 1')\n",
"disp('From the velocity triangle')\n",
"disp('Refering Figure')\n",
"beta2 = 25.5//degrees\n",
"Cr2 = 110//m/s\n",
"U2 = 475//m/s\n",
"Cw2 = U2 - tan(25.5*%pi/180)  * Cr2 //m/s\n",
"sigma = Cw2/U2\n",
"disp('The overall pressure ratio of the compressor:')\n",
"//r = P03/P04\n",
"etac = 0.8\n",
"psi = 1\n",
"Cp = 1005\n",
"T01 = 298\n",
"gamma = 1.4\n",
"r = (1 + etac * sigma * psi * U2^2 /(Cp*T01))^(gamma/(gamma-1))\n",
"disp('The theoretical power required to drive the compressor:')\n",
"m = 3\n",
"P = (m*sigma*psi*U2^2  /1000)\n",
"disp('Using mechanical efficiency, the actual power required to drive thecompressor is:')\n",
"Power = P / 0.96"
   ]
   }
,
{
		   "cell_type": "markdown",
		   "metadata": {},
		   "source": [
			"## Example 4.2: Speed_Centrifugal_Compressor270.sce"
		   ]
		  },
  {
"cell_type": "code",
	   "execution_count": null,
	   "metadata": {
	    "collapsed": true
	   },
	   "outputs": [],
"source": [
"// Display mode\n",
"mode(0);\n",
"// Display warning for floating point exception\n",
"ieee(1);\n",
"clear;\n",
"clc;\n",
"disp('Turbomachinery Design and Theory,Rama S. R. Gorla and Aijaz A. Khan, Chapter 4, Example 2')\n",
"disp('Slip factor: sigma = Cw2/U2')\n",
"U2 = 370;\n",
"sigma = 0.9;\n",
"Cw2 = sigma * U2\n",
"disp('The absolute velocity at the impeller exit:')\n",
"Cr2 = 35; //m/s\n",
"C2 = (Cr2^2+Cw2^2)^0.5\n",
"disp('The mass flow rate of air: m = rho2 *A2*Cr2')\n",
"rho2 = 1.57;//kg/m3\n",
"A2 = 0.18;//m2\n",
"m = rho2*A2*Cr2\n",
"disp('The temperature equivalent of work done (neglecting c):')\n",
"disp('Therefore, T02 - T01 =sigma*U2^2/Cp')\n",
"T01 = 290;\n",
"Cp = 1005;\n",
"T02 = T01 + sigma*U2^2/Cp\n",
"disp('The static temperature at the impeller exit, ')\n",
"T2 = T02 - C2^2/(2*Cp)\n",
"disp('The Mach number at the impeller tip:')\n",
"gamma = 1.4;\n",
"R = 287;//\n",
"M2 = C2 / (gamma *R*T2)^0.5\n",
"disp('The overall pressure ratio of the compressor (neglecting psi): P03/P01')\n",
"etac = 0.88;//efficiency\n",
"psi = 1;//neglected\n",
"ratio = (1+etac*sigma*psi*U2^2  /(Cp*T01))^3.5"
   ]
   }
,
{
		   "cell_type": "markdown",
		   "metadata": {},
		   "source": [
			"## Example 4.3: Centrifugal_Compressor_16000rpm.sce"
		   ]
		  },
  {
"cell_type": "code",
	   "execution_count": null,
	   "metadata": {
	    "collapsed": true
	   },
	   "outputs": [],
"source": [
"// Display mode\n",
"mode(0);\n",
"// Display warning for floating point exception\n",
"ieee(1);\n",
"clear;\n",
"clc;\n",
"disp('Turbomachinery Design and Theory,Rama S. R. Gorla and Aijaz A. Khan, Chapter 4, Example 3')\n",
"disp('Impeller tip speed is given by: U2')\n",
"D = 0.58//m\n",
"N = 16000//rpm\n",
"U2 = %pi* D* N/60\n",
"disp('Assuming isentropic flow between impeller inlet and outlet, then T02a')\n",
"T01 = 293;//K\n",
"stagratio = 4.2\n",
"T02a = T01*(stagratio)^0.286\n",
"disp('Using compressor efficiency, the actual temperature rise T02a-T01')\n",
"etac = 0.82\n",
"rise = (T02a-T01)/etac\n",
"disp('Since the flow at the inlet is axial, Cw1 = 0')\n",
"disp('W = U2Cw2 = Cp (T02 - T01)')\n",
"Cp = 1005\n",
"W = Cp*(rise)\n",
"Cw2 = W/U2\n",
"Slip = U2-Cw2\n",
"disp('Slip factor:')\n",
"sigma = Cw2/U2"
   ]
   }
,
{
		   "cell_type": "markdown",
		   "metadata": {},
		   "source": [
			"## Example 4.4: Adiabatic_Efficiency.sce"
		   ]
		  },
  {
"cell_type": "code",
	   "execution_count": null,
	   "metadata": {
	    "collapsed": true
	   },
	   "outputs": [],
"source": [
"// Display mode\n",
"mode(0);\n",
"// Display warning for floating point exception\n",
"ieee(1);\n",
"clear;\n",
"clc;\n",
"disp('Turbomachinery Design and Theory,Rama S. R. Gorla and Aijaz A. Khan, Chapter 4, Example 4')\n",
"//Impeller tip diameter = 1m\n",
"//Speed = 5945 rpm\n",
"//Mass flow rate of air = 28 kg/s\n",
"//Static pressure ratio p3/p1 = 2.2\n",
"//Atmospheric pressure = 1 bar\n",
"//Atmospheric temperature = 25 degree Celcius\n",
"//Slip factor = 0.90\n",
"disp('Neglect the power input factor.')\n",
"disp('The impeller tip speed is given by:')\n",
"D = 1;\n",
"N = 5945;\n",
"U2 = %pi*D*N/60\n",
"disp('The work input:')\n",
"sigma = 0.9;\n",
"W = sigma * U2^2 / 1000\n",
"disp('Using the isentropic P–T relation and denoting isentropic temperature by T3a, we get:')\n",
"T1 = 298;\n",
"r = 2.2;\n",
"T3a = T1 * (r)^ 0.286\n",
"disp('Hence the isentropic temperature rise: T3a - T1')\n",
"rise = T3a -T1\n",
"disp('The temperature equivalent of work done: T3 - T1')\n",
"Cp = 1.005\n",
"Weq = W/Cp\n",
"disp('The compressor adiabatic efficiency is given by:')\n",
"etac = rise/Weq  * 100\n",
"disp('The air temperature at the impeller exit is:')\n",
"T3 = T1 + Weq\n",
"disp('Power input:')\n",
"m = 28;\n",
"P = m * W"
   ]
   }
,
{
		   "cell_type": "markdown",
		   "metadata": {},
		   "source": [
			"## Example 4.5: Centrifugal_Compressor_9000rpm.sce"
		   ]
		  },
  {
"cell_type": "code",
	   "execution_count": null,
	   "metadata": {
	    "collapsed": true
	   },
	   "outputs": [],
"source": [
"// Display mode\n",
"mode(0);\n",
"// Display warning for floating point exception\n",
"ieee(1);\n",
"clear;\n",
"clc;\n",
"disp('Turbomachinery Design and Theory,Rama S. R. Gorla and Aijaz A. Khan, Chapter 4, Example 5')\n",
"disp('Impeller tip speed is given by')\n",
"D = 0.914;\n",
"N = 9000;\n",
"U2 = %pi*D*N/60\n",
"disp('Since the exit is radial and no slip, Cw2 = U2 = 431 m/s')\n",
"disp('From the velocity triangle,')\n",
"alpha2 = 20;\n",
"Cw2 = U2;\n",
"Cr2 = U2*tan(alpha2 *%pi/180)\n",
"disp('For radial exit, relative velocity is exactly perpendicular to rotational velocity U2. Thus the angle beta2 is 90degrees for radial exit.')\n",
"disp('Using the velocity triangle')\n",
"C2 = (U2^2 + Cr2^2)^0.5"
   ]
   }
,
{
		   "cell_type": "markdown",
		   "metadata": {},
		   "source": [
			"## Example 4.6: Centrifugal_Compressor_No_prewhirl.sce"
		   ]
		  },
  {
"cell_type": "code",
	   "execution_count": null,
	   "metadata": {
	    "collapsed": true
	   },
	   "outputs": [],
"source": [
"// Display mode\n",
"mode(0);\n",
"// Display warning for floating point exception\n",
"ieee(1);\n",
"clear;\n",
"clc;\n",
"disp('Turbomachinery Design and Theory,Rama S. R. Gorla and Aijaz A. Khan, Chapter 4, Example 6')\n",
"disp('The pressure ratio is given by r = P03/P01')\n",
"etac = 0.88;\n",
"sigma = 0.95;\n",
"U2 = 457;\n",
"Cp = 1005;\n",
"T01 = 288;\n",
"r = (1+etac*sigma*U2^2/(Cp*T01) )^3.5\n",
"disp('The work per kg of air')\n",
"Cw2 = 0.95*U2;\n",
"W = U2*Cw2 / 1000//kJ/kg\n",
"disp('The power for 29kg/s of air')\n",
"m = 29;\n",
"P = W * m  //kW"
   ]
   }
,
{
		   "cell_type": "markdown",
		   "metadata": {},
		   "source": [
			"## Example 4.7: Centrifugal_Compressor_10000rpm.sce"
		   ]
		  },
  {
"cell_type": "code",
	   "execution_count": null,
	   "metadata": {
	    "collapsed": true
	   },
	   "outputs": [],
"source": [
"// Display mode\n",
"mode(0);\n",
"// Display warning for floating point exception\n",
"ieee(1);\n",
"clear;\n",
"clc;\n",
"disp('Turbomachinery Design and Theory,Rama S. R. Gorla and Aijaz A. Khan, Chapter 4, Example 7')\n",
"disp('Temperature equivalent of work done:')\n",
"disp('Weq = T02 - T01')\n",
"T02 = 440;//kelvin\n",
"T01 = 290;//kelvin\n",
"sigma = 0.88;\n",
"psi = 1.04;\n",
"Cp = 1005;\n",
"N = 10000;//rpm\n",
"U2 = ((T02-T01)*Cp/(sigma*psi))^0.5//m/s\n",
"D = 60*U2/(%pi*N)//m\n",
"disp('The overall pressure ratio is given by: P03/P01')\n",
"etac = 0.85;\n",
"ratio = (1+etac*sigma*psi*U2^2 /(Cp*T01))^3.5\n",
"disp('Power required to drive the compressor per unit mass flow:')\n",
"m = 1;\n",
"P = m*psi*sigma*U2^2  / 1000//kW"
   ]
   }
,
{
		   "cell_type": "markdown",
		   "metadata": {},
		   "source": [
			"## Example 4.8: Centrifugal_Compressor_19_vanes.sce"
		   ]
		  },
  {
"cell_type": "code",
	   "execution_count": null,
	   "metadata": {
	    "collapsed": true
	   },
	   "outputs": [],
"source": [
"// Display mode\n",
"mode(0);\n",
"// Display warning for floating point exception\n",
"ieee(1);\n",
"clear;\n",
"clc;\n",
"disp('Turbomachinery Design and Theory,Rama S. R. Gorla and Aijaz A. Khan, Chapter 4, Example 8')\n",
"disp('Since the vanes are radial, using the Stanitz formula to find the slip factor:')\n",
"n = 19;\n",
"sigma = 1-0.63*%pi/n\n",
"disp('The overall pressure ratio r = P03/P01')\n",
"etac = 0.84;\n",
"psi = 1.04;\n",
"r = 4.5;\n",
"Cp = 1005;\n",
"T01 = 293;\n",
"U2 = ((r^(1/3.5) - 1) *Cp*T01 /(etac*sigma*psi) )^0.5\n",
"disp('The impeller diameter')\n",
"N = 17000;\n",
"D = 60*U2/(%pi*N)\n",
"disp('The work done on the air')\n",
"W = psi*sigma*U2^2 /1000\n",
"disp('Power required to drive the compressor:')\n",
"m = 2.5;\n",
"P = m*W"
   ]
   }
,
{
		   "cell_type": "markdown",
		   "metadata": {},
		   "source": [
			"## Example 4.9: Problem_8_repeat.sce"
		   ]
		  },
  {
"cell_type": "code",
	   "execution_count": null,
	   "metadata": {
	    "collapsed": true
	   },
	   "outputs": [],
"source": [
"// Display mode\n",
"mode(0);\n",
"// Display warning for floating point exception\n",
"ieee(1);\n",
"clear;\n",
"clc;\n",
"disp('Turbomachinery Design and Theory,Rama S. R. Gorla and Aijaz A. Khan, Chapter 4, Example 9')\n",
"sigma = 0.8958;\n",
"U2 = 449.9;\n",
"Cw2 = sigma*U2\n",
"disp('Using the continuity equation,')\n",
"disp('m=rho2*A2Cr2 = rho2*2*pi*r2b2Cr2')\n",
"disp('where: b2 = axial width,r2 = radius. Therefore:')\n",
"m = 2.5;\n",
"rho2 = 1.8;\n",
"r2 = 0.25;\n",
"b2 = 0.012;\n",
"Cr2 = m / (rho2*2*%pi*b2*r2) \n",
"disp('Absolute velocity at the impeller exit')\n",
"C2 = (Cr2^2+Cw2^2)^0.5\n",
"disp('The temperature equivalent of work done:Weq = T02 - T01')\n",
"Cp = 1.005;\n",
"Weq = 188.57/Cp\n",
"T02 = 293+Weq\n",
"disp('Hence the static temperature at the impeller exit is:')\n",
"T2 = T02 - C2^2 / (2*Cp*1000)\n",
"disp('Now, the Mach number at the impeller exit is:')\n",
"gamma = 1.4;\n",
"R = 287;\n",
"M2 = C2 / (gamma*R*T2)^0.5"
   ]
   }
],
"metadata": {
		  "kernelspec": {
		   "display_name": "Scilab",
		   "language": "scilab",
		   "name": "scilab"
		  },
		  "language_info": {
		   "file_extension": ".sce",
		   "help_links": [
			{
			 "text": "MetaKernel Magics",
			 "url": "https://github.com/calysto/metakernel/blob/master/metakernel/magics/README.md"
			}
		   ],
		   "mimetype": "text/x-octave",
		   "name": "scilab",
		   "version": "0.7.1"
		  }
		 },
		 "nbformat": 4,
		 "nbformat_minor": 0
}
