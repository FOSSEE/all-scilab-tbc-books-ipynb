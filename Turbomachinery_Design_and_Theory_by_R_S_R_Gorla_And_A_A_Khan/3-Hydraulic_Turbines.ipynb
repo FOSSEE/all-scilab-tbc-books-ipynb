{
"cells": [
 {
		   "cell_type": "markdown",
	   "metadata": {},
	   "source": [
       "# Chapter 3: Hydraulic Turbines"
	   ]
	},
{
		   "cell_type": "markdown",
		   "metadata": {},
		   "source": [
			"## Example 3.10: Runner_Axial_Flow.sce"
		   ]
		  },
  {
"cell_type": "code",
	   "execution_count": null,
	   "metadata": {
	    "collapsed": true
	   },
	   "outputs": [],
"source": [
"// Display mode\n",
"mode(0);\n",
"// Display warning for floating point exception\n",
"ieee(1);\n",
"clear;\n",
"clc;\n",
"disp('Turbomachinery Design and Theory,Rama S. R. Gorla and Aijaz A. Khan, Chapter 3, Example 10')\n",
"disp('Refering Figures')\n",
"disp('Since this is an impulse turbine, assume coefficient of velocity = 0.98')\n",
"disp('Therefore the absolute velocity at inlet is')\n",
"Cv = 0.98;\n",
"g = 9.81;\n",
"H = 35;\n",
"C1 = Cv*(2*g*H)^0.5\n",
"disp('The velocity of whirl at inlet')\n",
"alpha1 = 30;\n",
"Cw1 = C1*cos(alpha1*%pi/180)\n",
"disp('Since U1 = U2 = U')\n",
"disp('Using outlet velocity triangle')\n",
"disp('C2 = U2tan(beta2) = U tan(beta2) = U tan(22)')\n",
"disp('Hydraulic efficiency of turbine (neglecting losses)')\n",
"//etah = Cw1U1/gH = (H - C2^2/2g)/H\n",
"//22.24U + 0.082U^2 - 9.81H = 0\n",
"disp('As U is positive,')\n",
"U = (-22.24 + ((22.4)^2 + 4*0.082*g*H)^0.5)/(2*0.082) - 0.9\n",
"disp('Now using relation')\n",
"disp('U = %pi*D*N/60')\n",
"D = 1.5;\n",
"N = 60*U/(%pi*D)\n",
"disp('Hydraulic efficiency')\n",
"etah = Cw1*U/(g*H)"
   ]
   }
,
{
		   "cell_type": "markdown",
		   "metadata": {},
		   "source": [
			"## Example 3.11: Kaplan_runner.sce"
		   ]
		  },
  {
"cell_type": "code",
	   "execution_count": null,
	   "metadata": {
	    "collapsed": true
	   },
	   "outputs": [],
"source": [
"// Display mode\n",
"mode(0);\n",
"// Display warning for floating point exception\n",
"ieee(1);\n",
"clear;\n",
"clc;\n",
"disp('Turbomachinery Design and Theory,Rama S. R. Gorla and Aijaz A. Khan, Chapter 3, Example 11')\n",
"Cv = 2.08;\n",
"g = 9.81;\n",
"H = 5.5;\n",
"Cv1 = 0.68;\n",
"U1 = Cv*(2*g*H)^0.5\n",
"Cr1 = Cv1*(2*g*H)^0.5\n",
"N = 65;\n",
"disp('Now power is given by')\n",
"P = 9000;\n",
"eta = 0.85;\n",
"Q = P / (g * H * eta)\n",
"disp('If D is the runner diameter and, d, the hub diameter')\n",
"D = (Q*4*9/(%pi*Cr1*8))^0.5\n",
"disp('Solving')\n",
"Ns = N * P^0.5 / H^1.25"
   ]
   }
,
{
		   "cell_type": "markdown",
		   "metadata": {},
		   "source": [
			"## Example 3.12: Turbine_12000_HP.sce"
		   ]
		  },
  {
"cell_type": "code",
	   "execution_count": null,
	   "metadata": {
	    "collapsed": true
	   },
	   "outputs": [],
"source": [
"// Display mode\n",
"mode(0);\n",
"// Display warning for floating point exception\n",
"ieee(1);\n",
"clear;\n",
"clc;\n",
"disp('Turbomachinery Design and Theory,Rama S. R. Gorla and Aijaz A. Khan, Chapter 3, Example 12')\n",
"disp('Mean diameter D')\n",
"D = (4+1.75)/2\n",
"N =145;\n",
"U1 = %pi*D*N/60\n",
"g = 9.81;\n",
"H = 20;\n",
"disp('Using hydraulic efficiency, etah')\n",
"etah = 0.93\n",
"Cw1 = etah*g*H/U1\n",
"Power = 12000*0.746\n",
"disp('Power = rho*g*Q*H*etao')\n",
"etao = 0.85\n",
"disp('Discharge, Q')\n",
"Q = Power/(g*H*etao)\n",
"Cr1 = Q*4/(%pi*(4^2-1.75^2))\n",
"beta1 = atan(Cr1/(U1-Cw1))*180/%pi\n",
"U2 =U1\n",
"Cr2 = Cr1\n",
"beta2 = atan(Cr2/U2)*180/%pi"
   ]
   }
,
{
		   "cell_type": "markdown",
		   "metadata": {},
		   "source": [
			"## Example 3.13: Speed_angle_reaction_turbine.sce"
		   ]
		  },
  {
"cell_type": "code",
	   "execution_count": null,
	   "metadata": {
	    "collapsed": true
	   },
	   "outputs": [],
"source": [
"// Display mode\n",
"mode(0);\n",
"// Display warning for floating point exception\n",
"ieee(1);\n",
"clear;\n",
"clc;\n",
"disp('Turbomachinery Design and Theory,Rama S. R. Gorla and Aijaz A. Khan, Chapter 3, Example 13')\n",
"disp('Outer diameter, D2 = 1.4m')\n",
"disp('Inner diameter, D1 = 0.7m')\n",
"disp('Angle at which the water enters the vanes, alpha1 = 12 degrees')\n",
"disp('Velocity of flow at inlet,')\n",
"Cr2 = 2.8\n",
"Cr1 = Cr2\n",
"disp('As the vanes are radial at inlet and outlet end, the velocity of whirl at inlet and outlet will be zero, as shown in Fig. 3.21.')\n",
"disp('Tangential velocity of wheel at inlet,')\n",
"alpha1 = 12\n",
"U1 = Cr1/tan(alpha1*%pi/180)\n",
"D2 = 1.4\n",
"N = 60*U1/(%pi*D2)\n",
"disp('Let beta2 is the vane angle at outlet')\n",
"D1 = 0.7\n",
"U2 = %pi*D1*N/60\n",
"disp('From Outlet triangle,')\n",
"beta2 = atan(Cr2/U2)*180/%pi"
   ]
   }
,
{
		   "cell_type": "markdown",
		   "metadata": {},
		   "source": [
			"## Example 3.14: Discharge_500.sce"
		   ]
		  },
  {
"cell_type": "code",
	   "execution_count": null,
	   "metadata": {
	    "collapsed": true
	   },
	   "outputs": [],
"source": [
"// Display mode\n",
"mode(0);\n",
"// Display warning for floating point exception\n",
"ieee(1);\n",
"clear;\n",
"clc;\n",
"disp('Turbomachinery Design and Theory,Rama S. R. Gorla and Aijaz A. Khan, Chapter 3, Example 14')\n",
"disp('Discharge, Q')\n",
"Q = 0.5//m3/s\n",
"disp('Velocity of flow at inlet, Cr1')\n",
"Cr1 = 1.5//m/s\n",
"disp('Velocity of periphery at inlet, U1')\n",
"U1 = 20\n",
"disp('Velocity of whirl at inlet, Cw1')\n",
"Cw1 = 15\n",
"disp('As the velocity of flow is constant, Cr1 = Cr2')\n",
"Cr2 = Cr1\n",
"disp('Let beta1 = vane angle at inlet')\n",
"disp('From inlet velocity triangle')\n",
"beta1 = 180 - atan(Cr1/(U1-Cw1)) *180/%pi\n",
"g = 9.81;\n",
"disp('Since the discharge is radial at outlet, and so the velocity of whirl at outlet is zero. Therefore,')\n",
"H = Cw1*U1/g + Cr1^2/(2*g)//m"
   ]
   }
,
{
		   "cell_type": "markdown",
		   "metadata": {},
		   "source": [
			"## Example 3.15: Rotation_290rpm.sce"
		   ]
		  },
  {
"cell_type": "code",
	   "execution_count": null,
	   "metadata": {
	    "collapsed": true
	   },
	   "outputs": [],
"source": [
"// Display mode\n",
"mode(0);\n",
"// Display warning for floating point exception\n",
"ieee(1);\n",
"clear;\n",
"clc;\n",
"disp('Turbomachinery Design and Theory,Rama S. R. Gorla and Aijaz A. Khan, Chapter 3, Example 15')\n",
"disp('Inner diameter of wheel,')\n",
"D1 = 1\n",
"disp('Outer diameter of wheel,')\n",
"D2 = 2\n",
"disp('Velocity of flow is constant')\n",
"Cr1 = 12//m/s\n",
"Cr2 =Cr1\n",
"disp('Speed of wheel,')\n",
"N = 290//rpm\n",
"disp('Vane angle at inlet = beta1')\n",
"disp('U1 is the velocity of periphery at inlet.')\n",
"U1 = %pi*D1*N/60\n",
"disp('From inlet triangle, velocity of whirl is given by')\n",
"Cw1 = Cr1/tan(20*%pi/180)\n",
"beta1 = atan(Cr1/(Cw1-U1))*180/%pi\n",
"disp('Let beta2 = vane angle at outlet')\n",
"disp('U2 = velocity of periphery at outlet')\n",
"U2 = %pi*D2*N/60\n",
"disp('From the outlet triangle')\n",
"beta2 = atan(Cr2/U2)*180/%pi"
   ]
   }
,
{
		   "cell_type": "markdown",
		   "metadata": {},
		   "source": [
			"## Example 3.16: Head_30.sce"
		   ]
		  },
  {
"cell_type": "code",
	   "execution_count": null,
	   "metadata": {
	    "collapsed": true
	   },
	   "outputs": [],
"source": [
"// Display mode\n",
"mode(0);\n",
"// Display warning for floating point exception\n",
"ieee(1);\n",
"clear;\n",
"clc;\n",
"disp('Turbomachinery Design and Theory,Rama S. R. Gorla and Aijaz A. Khan, Chapter 3, Example 16')\n",
"disp('If D1 is the diameter of pipe, then discharge is Q = pi*D1^2*C2/4')\n",
"Q = 0.245\n",
"D1 = 0.28\n",
"C2 = 4*0.245/(%pi*0.28^2)\n",
"disp('But C2 = Cr1 = Cr2')\n",
"g =9.81;\n",
"H = 30;\n",
"disp('Neglecting losses, we have')\n",
"//x = Cw1*U1\n",
"x = g*H - C2^2 /2;\n",
"disp('Power developed')\n",
"Power = x*Q//kW\n",
"U1 = 16\n",
"Cw1 = x/U1\n",
"Cr1 = C2\n",
"alpha1 = atan(C2/Cw1)*180/%pi\n",
"beta1 = atan(Cr1/(Cw1-U1)) *180/%pi\n",
""
   ]
   }
,
{
		   "cell_type": "markdown",
		   "metadata": {},
		   "source": [
			"## Example 3.17: Power_12400.sce"
		   ]
		  },
  {
"cell_type": "code",
	   "execution_count": null,
	   "metadata": {
	    "collapsed": true
	   },
	   "outputs": [],
"source": [
"// Display mode\n",
"mode(0);\n",
"// Display warning for floating point exception\n",
"ieee(1);\n",
"clear;\n",
"clc;\n",
"disp('Turbomachinery Design and Theory,Rama S. R. Gorla and Aijaz A. Khan, Chapter 3, Example 17')\n",
"disp('Velocity in casing at inlet to turbine')\n",
"Q = 7.8;\n",
"disp('Cc = Discharge/(Cross - sectional area of casing)')\n",
"Cc = Q/(%pi*1^2 /4)\n",
"disp('The net head on turbine')\n",
"disp(' = Pressure head + Head due to turbine position + (Cc^2 - C1^2)/2g')\n",
"PrHead = 164\n",
"TurbHead = 5.4\n",
"C1 = 1.6\n",
"g = 9.81;\n",
"Hnet = PrHead + TurbHead + (Cc^2-C1^2)/(2*g)\n",
"disp('Waterpower supplied to turbine = QgH kW')\n",
"P = Q * g * Hnet\n",
"disp('Hence overall efficiency,etao = Shaft Power/Water Power')\n",
"etao = 12400/P  * 100"
   ]
   }
,
{
		   "cell_type": "markdown",
		   "metadata": {},
		   "source": [
			"## Example 3.18: Francis_Turbine_1250rpm.sce"
		   ]
		  },
  {
"cell_type": "code",
	   "execution_count": null,
	   "metadata": {
	    "collapsed": true
	   },
	   "outputs": [],
"source": [
"// Display mode\n",
"mode(0);\n",
"// Display warning for floating point exception\n",
"ieee(1);\n",
"clear;\n",
"clc;\n",
"disp('Turbomachinery Design and Theory,Rama S. R. Gorla and Aijaz A. Khan, Chapter 3, Example 18')\n",
"disp('For torque, using angular momentum equation')\n",
"disp('T = m(Cw2r2 - Cw1r1)')\n",
"disp('As the flow is radial at outlet, Cw2 = 0 and therefore')\n",
"Cw2 = 0;\n",
"disp('T = -mCw1r1')\n",
"disp(' - rQCw1r1')\n",
"disp('T = -225Cw1 Nm')\n",
"disp('If h1 is the inlet runner height, then inlet area, A, is')\n",
"h1 = 0.035;\n",
"r1 = 0.5;\n",
"A = 2*%pi*r1*h1\n",
"Q = 0.45;\n",
"Cr1 = Q/A\n",
"g = 9.81;\n",
"H = 125;\n",
"rho = 1000;\n",
"disp('From velocity triangle, velocity of whirl')\n",
"alpha = 70;\n",
"disp('Substituting Cw1, torque is given by')\n",
"Cw1 = Cr1 * tan(alpha *%pi/180)\n",
"T = -1 * 225* Cw1\n",
"disp('Negative sign indicates that torque is exerted on the fluid. The torque exerted by the fluid is +2534Nm')\n",
"Ta = -1*T;\n",
"disp('Power exerted')\n",
"N = 1250;\n",
"omega = 2*%pi*N/(60*1000)\n",
"P = Ta * omega\n",
"disp('Hydraulic efficiency is given by')\n",
"disp('etah = Power exerted/Power available')\n",
"etah = P * 1000/ (rho * g * H * Q ) * 100"
   ]
   }
,
{
		   "cell_type": "markdown",
		   "metadata": {},
		   "source": [
			"## Example 3.19: Turbine_130kW.sce"
		   ]
		  },
  {
"cell_type": "code",
	   "execution_count": null,
	   "metadata": {
	    "collapsed": true
	   },
	   "outputs": [],
"source": [
"// Display mode\n",
"mode(0);\n",
"// Display warning for floating point exception\n",
"ieee(1);\n",
"clear;\n",
"clc;\n",
"disp('Turbomachinery Design and Theory,Rama S. R. Gorla and Aijaz A. Khan, Chapter 3, Example 19')\n",
"disp('Hydraulic efficiency is')\n",
"disp('etah = Power deleloped/Power available')\n",
"disp(' =m(Cw1U1 - Cw2U)/rhogQH')\n",
"disp('Since flow is radial at outlet, then Cw2 = 0 and m = rhoQ, therefore')\n",
"disp('etah = Cw1U1/gH')\n",
"g = 9.81;\n",
"H= 5;\n",
"U1 = 9.6;\n",
"etah = 80;//%\n",
"Cw1 = etah *g*H/(9.6*100)\n",
"disp('Radial velocity Cr1 = 4m/s')\n",
"Cr1 = 4;\n",
"disp('tan(alpha1) = Cr1/Cw1 (from velocity triangle)')\n",
"alpha1 = atan(Cr1/Cw1)*180/%pi\n",
"disp('i.e., inlet guide vane angle alpha1 = 44.38')\n",
"disp('tan(beta1) = Cr1/(Cw1 - U1 )')\n",
"beta1 = 180+atan(Cr1/(Cw1-U1))*180/%pi\n",
"disp('Runner speed is')\n",
"N = 230;\n",
"D1 = 60*U1/(%pi*N)\n",
"disp('Overall efficiency')\n",
"disp('etao = Power output/Power available')\n",
"rho = 1000;\n",
"Q = 130*1000/(0.72*rho*g*H)\n",
"disp('But Q = pi*D1h1Cr1 (where h1 is the height of runner)')\n",
"h1 = Q/(%pi*D1*Cr1)"
   ]
   }
,
{
		   "cell_type": "markdown",
		   "metadata": {},
		   "source": [
			"## Example 3.1: Generator_Pelton_Wheel.sce"
		   ]
		  },
  {
"cell_type": "code",
	   "execution_count": null,
	   "metadata": {
	    "collapsed": true
	   },
	   "outputs": [],
"source": [
"// Display mode\n",
"mode(0);\n",
"// Display warning for floating point exception\n",
"ieee(1);\n",
"clear;\n",
"clc;\n",
"disp('Turbomachinery Design and Theory,Rama S. R. Gorla and Aijaz A. Khan, Chapter 3, Example 1')\n",
"disp('Given data : Discharge rate Q = 145 l/s, Head H = 220m, U1 = U2 = 14m/s, beta2 = 180-160 =20degrees')\n",
"Q = 145;\n",
"H = 220;\n",
"U2 = 14;\n",
"U1 = U2;\n",
"beta2 = 20;\n",
"g = 9.81;\n",
"disp('Refering figure')\n",
"disp('Using Using Euler’s equation, work done per weight mass of water per sec.= (Cw1U1 - Cw2U2). But for Pelton wheel Cw2 is negative')\n",
"disp('Therefore Work done / s = (Cw1U1 + Cw2U2) Nm / s. From inlet velocity triangle Cw1 = C1 and C1^2/2g = H')\n",
"C1 = (2*g*H)^0.5\n",
"disp('Relative velocity at inlet V1')\n",
"V1 = C1-U1\n",
"disp('From outlet velocity triangle')\n",
"V2 = V1\n",
"Cw2 = cos(20*%pi/180)*V2 -14\n",
"disp('Hence, work done per unit mass of water per sec.')\n",
"W = C1*U1+Cw2*U2\n",
"disp('Power in kw')\n",
"P = W*Q/1000"
   ]
   }
,
{
		   "cell_type": "markdown",
		   "metadata": {},
		   "source": [
			"## Example 3.20: Blade_tip_hub_dia.sce"
		   ]
		  },
  {
"cell_type": "code",
	   "execution_count": null,
	   "metadata": {
	    "collapsed": true
	   },
	   "outputs": [],
"source": [
"// Display mode\n",
"mode(0);\n",
"// Display warning for floating point exception\n",
"ieee(1);\n",
"clear;\n",
"clc;\n",
"disp('Turbomachinery Design and Theory,Rama S. R. Gorla and Aijaz A. Khan, Chapter 3, Example 20')\n",
"disp('Mean diameter, Dm, is given by')\n",
"disp('Dm = (Dh + Dt)/2')\n",
"Dh = 2;\n",
"Dt = 4.5;\n",
"Dm = (Dh + Dt)/2\n",
"disp('Overall efficiency, etao, is given by')\n",
"disp('etao = Power develpoed/Power available')\n",
"disp('Power available = 22/0.84 = 26.2 MW')\n",
"P = 26.2*10^6;\n",
"disp('Also, available power = rho *gHQ')\n",
"disp('Hence flow rate, Q, is given by')\n",
"rho = 1000;\n",
"g = 9.81;\n",
"H = 22;\n",
"Q = P / (rho * g * H)\n",
"disp('Now rotor speed at mean diameter')\n",
"N = 150;\n",
"Um = %pi*Dm*N/60\n",
"disp('Power given to runner = Power available * etah in MW')\n",
"etah = 0.92;\n",
"Prun = P *etah / (10^6) // in MW\n",
"disp('Theoretical power given to runner can be found by using')\n",
"disp('P = rho*QUmCw1 (Cw2 = 0)')\n",
"Cw1 = Prun * 10^6  / (rho * Q * Um)\n",
"disp('Axial velocity is given by')\n",
"disp('Cr = Q * 4/(%pi *(Dt^2 - Dh^2)')\n",
"Cr = Q*4/(%pi*(Dt^2 - Dh^2))\n",
"disp('Using velocity triangle')\n",
"disp('tan (180 -beta1) = C/(Um - Cw1)')\n",
"disp('Inlet angle,')\n",
"beta1 = 180 - atan(Cr/(Um-Cw1))*180/%pi\n",
"disp('At outlet')\n",
"disp('But Vcw2 equals to Um since Cw2 is zero. Hence')\n",
"Vcw2 = Um\n",
"beta2 = atan(Cr/Vcw2) * 180/%pi"
   ]
   }
,
{
		   "cell_type": "markdown",
		   "metadata": {},
		   "source": [
			"## Example 3.21: Overall_Efficiency_75.sce"
		   ]
		  },
  {
"cell_type": "code",
	   "execution_count": null,
	   "metadata": {
	    "collapsed": true
	   },
	   "outputs": [],
"source": [
"// Display mode\n",
"mode(0);\n",
"// Display warning for floating point exception\n",
"ieee(1);\n",
"clear;\n",
"clc;\n",
"disp('Turbomachinery Design and Theory,Rama S. R. Gorla and Aijaz A. Khan, Chapter 3, Example 21')\n",
"disp('Hydraulic efficiency, etah, is given by')\n",
"disp('etah = Power given to runner/Water Power available')\n",
"disp(' = m (U1Cw1 - U2Cw2)/rho*gQH')\n",
"disp('Since flow is radial at exit, Cw2 = 0 and m = rho*Q. Therefore')\n",
"Cw2 = 0;\n",
"etah = 0.82;\n",
"U1 = 10.6;\n",
"g = 9.81;\n",
"H = 6;\n",
"Cw1 = etah*g*H/U1\n",
"Cr1 = 4;\n",
"alpha1 = atan(Cr1/Cw1)*180/%pi\n",
"disp('From Figures')\n",
"disp('Blade angle, beta1, is given by')\n",
"beta1 = 180 - atan(Cr1/(U1-Cw1)) * 180/%pi\n",
"disp('Runner speed at inlet')\n",
"N = 235;\n",
"D1 = U1*60/(%pi*N)\n",
"disp('Overall efficiency')\n",
"disp('etao = Power output/Power available')\n",
"etao = 0.75\n",
"rho = 1000;\n",
"P = 128000\n",
"disp('From which flow rate')\n",
"Q = P/(0.75*rho*g*H)\n",
"disp('Also, Q = rho*D1hCr1')\n",
"disp('where h1 is the height of runner. Therefore,')\n",
"h1 = Q/(%pi*D1*Cr1)"
   ]
   }
,
{
		   "cell_type": "markdown",
		   "metadata": {},
		   "source": [
			"## Example 3.22: Kaplan_10000kW.sce"
		   ]
		  },
  {
"cell_type": "code",
	   "execution_count": null,
	   "metadata": {
	    "collapsed": true
	   },
	   "outputs": [],
"source": [
"// Display mode\n",
"mode(0);\n",
"// Display warning for floating point exception\n",
"ieee(1);\n",
"clear;\n",
"clc;\n",
"disp('Turbomachinery Design and Theory,Rama S. R. Gorla and Aijaz A. Khan, Chapter 3, Example 22')\n",
"disp('Head, H = 8 m, Power, P = 10,000kW')\n",
"disp('Overall efficiency, etao = 0.86')\n",
"P = 10000;\n",
"g = 9.81;\n",
"H = 8;\n",
"rho = 1000;\n",
"U1 = 2*(2*g*H)^0.5\n",
"disp('Flow ratio Cr1/(2gH)^0.5')\n",
"Cr1 = 0.6*(2*g*H)^0.5\n",
"disp('Hub diameter, D1 = 0.35 D2')\n",
"disp('Overall efficiency,etao = P/rho*gQH')\n",
"etao = 0.86;\n",
"Q = P/(rho*g*H*etao) * 1000\n",
"disp('Now using the relation')\n",
"disp('Q = Cr1 * pi*(D1^2- D2^2)/4')\n",
"D1 = (Q*4/(Cr1*%pi*(1-0.35^2)))^0.5\n",
"disp('The peripheral velocity of the turbine at inlet')\n",
"N = U1*60/(%pi*D1)"
   ]
   }
,
{
		   "cell_type": "markdown",
		   "metadata": {},
		   "source": [
			"## Example 3.23: Vanes_12_degrees.sce"
		   ]
		  },
  {
"cell_type": "code",
	   "execution_count": null,
	   "metadata": {
	    "collapsed": true
	   },
	   "outputs": [],
"source": [
"// Display mode\n",
"mode(0);\n",
"// Display warning for floating point exception\n",
"ieee(1);\n",
"clear;\n",
"clc;\n",
"disp('Turbomachinery Design and Theory,Rama S. R. Gorla and Aijaz A. Khan, Chapter 3, Example 23')\n",
"disp('Inner Diameter,')\n",
"D2 = 0.45\n",
"disp('Outer Diameter,')\n",
"D1 = 0.9\n",
"disp('Radial Discharge')\n",
"alpha2 = 90\n",
"Cr2 = 2.8\n",
"Cr1 = Cr2\n",
"disp('From velocity triangle at inlet, The peripheral velocity of the wheel at inlet')\n",
"alpha1 = 12\n",
"U1 = Cr1/tan(alpha1*%pi/180)\n",
"N = 60*U1/(%pi*D1)\n",
"disp('Considering velocity triangle at outlet peripheral velocity at outlet')\n",
"U2 = %pi*D2*N/60\n",
"beta2 = atan(Cr2/U2)*180/%pi"
   ]
   }
,
{
		   "cell_type": "markdown",
		   "metadata": {},
		   "source": [
			"## Example 3.24: Inward_Flow_70kW.sce"
		   ]
		  },
  {
"cell_type": "code",
	   "execution_count": null,
	   "metadata": {
	    "collapsed": true
	   },
	   "outputs": [],
"source": [
"// Display mode\n",
"mode(0);\n",
"// Display warning for floating point exception\n",
"ieee(1);\n",
"clear;\n",
"clc;\n",
"disp('Turbomachinery Design and Theory,Rama S. R. Gorla and Aijaz A. Khan, Chapter 3, Example 24')\n",
"Q = 0.545//m3/s\n",
"D1 = 0.8//m\n",
"D2 = 0.4//m\n",
"H =14//m\n",
"alpha2 = 90//degrees\n",
"N = 370\n",
"//beta1 = beta2\n",
"disp('Peripheral velocity of the wheel at inlet')\n",
"U1 = %pi*D1*N/60\n",
"disp('Velocity of flow at the exit,')\n",
"Cr2 = 2.8//m/s\n",
"alpha2 = 90\n",
"C2 = Cr2\n",
"g = 9.81;\n",
"disp('Work done/s by the turbine per kg of water = Cw*U1/g')\n",
"disp('But this is equal to the head utilized by the turbine, i.e.')\n",
"disp('Cw1U1/g = H - C2/2g')\n",
"disp('(Assuming there is no loss of pressure at outlet)')\n",
"Cw1 = (H - C2/(2*g) )*g/U1\n",
"disp('Work done per second by turbine')\n",
"rho = 1000;\n",
"W = rho*Q*Cw1*U1/(1000)//kW\n",
"disp('Available power or water power')\n",
"Pav = rho*g*Q*H /1000//kW\n",
"disp('Actual available power')\n",
"Pac = 70//kW\n",
"disp('Overall turbine efficiency is')\n",
"etat = Pac/Pav  * 100\n",
"disp('This is the actual hydraulic efficiency as required in the problem. Hydraulic Efficiency is')\n",
"etah = W/Pav  * 100\n",
"disp('This is the theoretical efficiency')\n",
"disp('Q = pi*D1b1Cr1 = pi*D2b2Cr2')\n",
"disp('(Neglecting blade thickness)')\n",
"Cr1 = Cr2 * D2/D1\n",
"disp('Drawing inlet velocity triangle')\n",
"//Cr1/(U1-Cw1) = 0.203\n",
"beta1 = atan(0.203)* 180/%pi\n",
"C1 = (Cw1^2+Cr1^2)^0.5\n",
"//Cw1/C1 = 0.995\n",
"aplha1 = acos(0.995)*180 /%pi"
   ]
   }
,
{
		   "cell_type": "markdown",
		   "metadata": {},
		   "source": [
			"## Example 3.25: Francis_Turbine_500kW.sce"
		   ]
		  },
  {
"cell_type": "code",
	   "execution_count": null,
	   "metadata": {
	    "collapsed": true
	   },
	   "outputs": [],
"source": [
"// Display mode\n",
"mode(0);\n",
"// Display warning for floating point exception\n",
"ieee(1);\n",
"clear;\n",
"clc;\n",
"disp('Turbomachinery Design and Theory,Rama S. R. Gorla and Aijaz A. Khan, Chapter 3, Example 25')\n",
"P = 5000//kW\n",
"alpha1 = 30//degrees\n",
"H= 30//m\n",
"g = 9.81;\n",
"Ns = 270\n",
"etah = 0.9\n",
"etao = 0.86\n",
"disp('Specific speed of the turbine is')\n",
"N = Ns* H^1.25 / (P^0.5)\n",
"disp('Velocity of Flow:')\n",
"Cr1 = 0.28* (2*g*H)^0.5\n",
"disp('From inlet velocity triangle Cr1 = C1sin(alpha1)')\n",
"C1 = Cr1 / sin(alpha1*%pi/180)\n",
"Cw1 = C1 * cos(alpha1*%pi/180)\n",
"disp('Work done per (sec) (kg) of water')\n",
"//W = Cw1*U1/g\n",
"W = etah*H\n",
"disp('Peripheral Velocity,')\n",
"U1 = W*g/Cw1\n",
"disp('But U1 = pi*D1N/60')\n",
"D1 = 60*U1/(%pi*N) \n",
"disp('Power, P = rho*gQH*etao')\n",
"rho = 1000;\n",
"Q = P/(rho*g*H*etao) * 1000\n",
"disp('Also Q = k*pi*D1b1Cr1 (where k is the blade thickness coefficient and b1 is the breath of the wheel at inlet) or')\n",
"k = 0.95\n",
"b1 = Q/(k*%pi*D1*Cr1)\n",
"disp('From inlet velocity triangle')\n",
"beta1 = atan(Cr1/(U1-Cw1)) * 180/%pi"
   ]
   }
,
{
		   "cell_type": "markdown",
		   "metadata": {},
		   "source": [
			"## Example 3.26: 35MW_Generator.sce"
		   ]
		  },
  {
"cell_type": "code",
	   "execution_count": null,
	   "metadata": {
	    "collapsed": true
	   },
	   "outputs": [],
"source": [
"// Display mode\n",
"mode(0);\n",
"// Display warning for floating point exception\n",
"ieee(1);\n",
"clear;\n",
"clc;\n",
"disp('Turbomachinery Design and Theory,Rama S. R. Gorla and Aijaz A. Khan, Chapter 3, Example 26')\n",
"disp('In this case, the generator is fed by two Pelton turbines.')\n",
"disp('Power developed by each turbine,')\n",
"PT = 35000/2\n",
"disp('Using Pelton wheel efficiency in order to find available power of each turbine')\n",
"P = PT / 0.84\n",
"disp('But, P = rho*gQH')\n",
"rho = 1000;\n",
"g = 9.81;\n",
"H = 350\n",
"Q = P/(rho*g*H) * 1000\n",
"disp('Velocity of jet,Cj')\n",
"Cv = 0.96;\n",
"Cj = Cv*(2*g*H)^0.5\n",
"disp('Area of jet, A')\n",
"A = Q/Cj\n",
"disp('Diameter of jet , d')\n",
"d = (4*A/%pi)^0.5\n",
"disp('Diameter of wheel D = d * jet ratio')\n",
"r = 12;\n",
"D= d*12\n",
"disp('Peripheral velocity of the wheel')\n",
"U = 0.45*(2*g*H)^0.5\n",
"disp('But U = pi*DN/60 or')\n",
"N = 60*U/(%pi*D)\n",
"disp('Specific speed,')\n",
"Ns = N*PT^0.5 / H^1.25"
   ]
   }
,
{
		   "cell_type": "markdown",
		   "metadata": {},
		   "source": [
			"## Example 3.2: Pelton_Wheel_725.sce"
		   ]
		  },
  {
"cell_type": "code",
	   "execution_count": null,
	   "metadata": {
	    "collapsed": true
	   },
	   "outputs": [],
"source": [
"// Display mode\n",
"mode(0);\n",
"// Display warning for floating point exception\n",
"ieee(1);\n",
"clear;\n",
"clc;\n",
"disp('Turbomachinery Design and Theory,Rama S. R. Gorla and Aijaz A. Khan, Chapter 3, Example 2')\n",
"disp('Overall efficiency etao = Power developed/Power available')\n",
"rho = 1000;\n",
"g = 9.81;\n",
"Q = 0.035;\n",
"H = 92;\n",
"etao = 0.82;\n",
"Cv = 0.95;\n",
"N = 725;\n",
"disp('Power in kw')\n",
"P = rho*g*Q*H*etao/1000\n",
"disp('Velocity coefficient Cv = C1/(2gH)^0.5')\n",
"C1 = Cv * (2*g*H)^0.5\n",
"disp('Speed of the wheel is given by U')\n",
"U = 0.45*C1\n",
"disp('If D is the wheel diameter, then')\n",
"D = 2*U*60/(N*2*%pi)\n",
"disp('Jet area A')\n",
"A = Q/C1\n",
"disp('Jet diameter, d, is given by')\n",
"d = (4*A/%pi)^0.5\n",
"disp('Diameter ratio D/d =')\n",
"R = D/d\n",
"disp('Dimensionless specific speed is given by Nsp = NP^0.5/rho^0.5*(gH)^1.25  in radians')\n",
"Nsp = (N/60)*(((P/rho)*1000)^0.5) * ((1/(g*H))^1.25) *2*%pi"
   ]
   }
,
{
		   "cell_type": "markdown",
		   "metadata": {},
		   "source": [
			"## Example 3.3: Pelton_Speed_14.sce"
		   ]
		  },
  {
"cell_type": "code",
	   "execution_count": null,
	   "metadata": {
	    "collapsed": true
	   },
	   "outputs": [],
"source": [
"// Display mode\n",
"mode(0);\n",
"// Display warning for floating point exception\n",
"ieee(1);\n",
"clear;\n",
"clc;\n",
"disp('Turbomachinery Design and Theory,Rama S. R. Gorla and Aijaz A. Khan, Chapter 3, Example 3')\n",
"disp('Refering Figure')\n",
"disp('Given Data')\n",
"U2= 14//m/s\n",
"U1=U2\n",
"Q = 0.82//m3/s\n",
"H =45//m\n",
"beta2 = 180-160\n",
"Cv = 0.98\n",
"g = 9.81\n",
"disp('Velocity of jet C1')\n",
"C1 = Cv*(2*g*H)^0.5\n",
"disp('Assuming beta1 = 180')\n",
"beta1 = 180;\n",
"Cw1 = C1\n",
"V1 = C1-U1\n",
"disp('From outlet velocity triangle,U1 = U2(neglecting losses on buckets)')\n",
"V2 = V1\n",
"Cw2 = V2*cos(beta2*%pi/180) -U2\n",
"disp('Work done per weight mass of water per sec')\n",
"W = (Cw1+Cw2)*U1\n",
"disp('Power developed P in kw and horse power are Pkw,Php')\n",
"Pkw = W*Q\n",
"Php = Pkw*1000/746//in horse power\n",
"disp('Efficiency eta1')\n",
"eta1 = 1000*Pkw/(1000*g*Q*H)"
   ]
   }
,
{
		   "cell_type": "markdown",
		   "metadata": {},
		   "source": [
			"## Example 3.4: Pelton_Wheel_12900kW.sce"
		   ]
		  },
  {
"cell_type": "code",
	   "execution_count": null,
	   "metadata": {
	    "collapsed": true
	   },
	   "outputs": [],
"source": [
"// Display mode\n",
"mode(0);\n",
"// Display warning for floating point exception\n",
"ieee(1);\n",
"clear;\n",
"clc;\n",
"disp('Turbomachinery Design and Theory,Rama S. R. Gorla and Aijaz A. Khan, Chapter 3, Example 4')\n",
"disp('Given Data')\n",
"H = 505//Head in m\n",
"P = 12900//Power in kW\n",
"N = 425//Speed in rpm\n",
"etao = 0.84//Efficiency\n",
"g = 9.81//m/s2\n",
"disp('Let Q be the discharge of the turbine')\n",
"Q = P/(etao*g*H)\n",
"disp('Velocity of jet C')\n",
"Cv = 0.98;\n",
"C = Cv * (2*g*H)^0.5\n",
"disp('Tangential velocity of the wheel is given by ')\n",
"U = 0.46*C\n",
"disp('Diameter D')\n",
"D = 60*U/(%pi*N)\n",
"disp('Let d be the diameter of the nozzle. The discharge through the nozzle must be equal to the discharge of the turbine. Therefore')\n",
"d = (Q*4/(%pi*C))^0.5"
   ]
   }
,
{
		   "cell_type": "markdown",
		   "metadata": {},
		   "source": [
			"## Example 3.5: Double_Overhung_Pelton.sce"
		   ]
		  },
  {
"cell_type": "code",
	   "execution_count": null,
	   "metadata": {
	    "collapsed": true
	   },
	   "outputs": [],
"source": [
"// Display mode\n",
"mode(0);\n",
"// Display warning for floating point exception\n",
"ieee(1);\n",
"clear;\n",
"clc;\n",
"disp('Turbomachinery Design and Theory,Rama S. R. Gorla and Aijaz A. Khan, Chapter 3, Example 5')\n",
"disp('Output Power')\n",
"Po = 12000\n",
"eta = 0.95\n",
"disp('Power generated Pin')\n",
"Pin = Po/eta\n",
"disp('Since there are two runners, power developed by each runner')\n",
"P = Pin/2 "
   ]
   }
,
{
		   "cell_type": "markdown",
		   "metadata": {},
		   "source": [
			"## Example 3.6: Power_Statio.sce"
		   ]
		  },
  {
"cell_type": "code",
	   "execution_count": null,
	   "metadata": {
	    "collapsed": true
	   },
	   "outputs": [],
"source": [
"// Display mode\n",
"mode(0);\n",
"// Display warning for floating point exception\n",
"ieee(1);\n",
"clear;\n",
"clc;\n",
"disp('Turbomachinery Design and Theory,Rama S. R. Gorla and Aijaz A. Khan, Chapter 3, Example 6')\n",
"disp('Refering Figure')\n",
"disp('Hydraulic Efficiency etah = Power output/Energy available in the jet = P/(0.5mC1^2)')\n",
"disp('At entry to nozzle')\n",
"H = 610-46//in m\n",
"Cv = 0.98;\n",
"g = 9.81;\n",
"disp('Using nozzle velocity coefficient C1')\n",
"C1 = Cv * (2*g*H)^0.5\n",
"disp('Now W/m = U1Cw1 - U2Cw2 =U {(U + V1)-[U-V2cos(180 -alpha)]}= U[(C1 - U)(1 - k cos (alpha))] where V2 = kV1')\n",
"disp('Therefore W/m')\n",
"Wm = 0.46*C1*(C1-0.46*C1)*(1-0.99*cos(165*%pi/180))\n",
"etah = Wm/(0.5*103*103)\n",
"disp('Actual hydraulic efficiency')\n",
"etaha = 0.91*etah\n",
"disp('Wheel bucket speed')\n",
"s = 0.46*C1\n",
"disp('Wheel rotational speed N')\n",
"N = s*60/(0.445*2*%pi)\n",
"disp('Actual hydraulic efficiency')\n",
"disp('¼ Actual power/energy in the jet = (1260 * 10^3)/(0.5mC1^2)')\n",
"disp('Therefore')\n",
"m = 1260*1000/(0.882*0.5*103*103)\n",
"disp('For one nozzle,m')\n",
"mone = m/2\n",
"disp('For nozzle diameter, using continuity equation, m')\n",
"disp('m = rho*C1*A = rho*C1*pi*d^2/4')\n",
"disp('Hence, d in mm')\n",
"d = (mone*4/(%pi*103*1000))^0.5 *1000"
   ]
   }
,
{
		   "cell_type": "markdown",
		   "metadata": {},
		   "source": [
			"## Example 3.7: Pelton_Head_90.sce"
		   ]
		  },
  {
"cell_type": "code",
	   "execution_count": null,
	   "metadata": {
	    "collapsed": true
	   },
	   "outputs": [],
"source": [
"// Display mode\n",
"mode(0);\n",
"// Display warning for floating point exception\n",
"ieee(1);\n",
"clear;\n",
"clc;\n",
"disp('Turbomachinery Design and Theory,Rama S. R. Gorla and Aijaz A. Khan, Chapter 3, Example 7')\n",
"disp('Refering Figure')\n",
"disp('Head = 90m')\n",
"disp('Head lost due to friction = 30m')\n",
"disp('Head available at the nozzle = 90 - 30 = 60m')\n",
"Q = 1//m3/s\n",
"disp('From inlet diagram')\n",
"Cv = 0.98;\n",
"g = 9.81;\n",
"H = 60;\n",
"C1 = Cv *(2*g*H)^0.5\n",
"U1 =12;\n",
"disp('Therefore')\n",
"V1 = C1-U1\n",
"disp('From outlet velocity triangle')\n",
"V2 = V1\n",
"alpha = 15;\n",
"disp('neglecting losses in m/s')\n",
"U2 = U1;\n",
"Cw2 = V2*cos(alpha*%pi/180)-U2\n",
"Cr2 = V2*sin(alpha*%pi/180)\n",
"C2 = (Cw2^2+Cr2^2)^0.5\n",
"disp('Work done in kJ/kg')\n",
"W = (C1^2-C2^2)/2\n",
"disp('Note Work done can also be found by using Euler’s equation (Cw1U1 + Cw2U2)')\n",
"Power = W //kW\n",
"disp('Hydraulic Efficiency')\n",
"Efficiency = W*2/C1^2"
   ]
   }
,
{
		   "cell_type": "markdown",
		   "metadata": {},
		   "source": [
			"## Example 3.8: Single_Jet_Pelton_Wheel.sce"
		   ]
		  },
  {
"cell_type": "code",
	   "execution_count": null,
	   "metadata": {
	    "collapsed": true
	   },
	   "outputs": [],
"source": [
"// Display mode\n",
"mode(0);\n",
"// Display warning for floating point exception\n",
"ieee(1);\n",
"clear;\n",
"clc;\n",
"disp('Turbomachinery Design and Theory,Rama S. R. Gorla and Aijaz A. Khan, Chapter 3, Example 8')\n",
"//Answers here are given by direct calculations and none of them are rounded, the answers are dependent on each other.\n",
"disp('Refering Figure and the scientific calculations')\n",
"disp('Velocity of jet, C1')\n",
"Cv = 0.98;\n",
"g=9.81;\n",
"H = 515;\n",
"C1 = Cv*(2*g*H)^0.5\n",
"disp('Discharge, Q is given by')\n",
"d=0.2;\n",
"Q = %pi*C1*d^2 /4\n",
"disp('Water power is given by in kW')\n",
"rho = 1000;\n",
"P = rho*g*Q*H/1000\n",
"disp('Bucket velocity, U1, is given by')\n",
"Cv1 = 0.46;\n",
"U1 = Cv1*(2*g*H)^0.5\n",
"disp('Relative velocity, V1, at inlet is given by')\n",
"V1 = C1-U1\n",
"V2 = 0.88*V1\n",
"disp('From the velocity diagram')\n",
"U2 = U1\n",
"Cw2 = U2 -V2*cos(%pi*15/180)\n",
"disp('Therefore force on the bucket F in N')\n",
"Cw1 = C1\n",
"F = rho*Q*(Cw1-Cw2)\n",
"disp('Power produced by the Pelton wheel Pp in kW')\n",
"Pp = F*U2/1000\n",
"disp('Taking mechanical loss')\n",
"loss = 0.04\n",
"disp('Therefore, shaft power produced')\n",
"Pshaft = Pp*(1-loss)\n",
"disp('Overall efficiency etao')\n",
"etao = Pshaft/P *100"
   ]
   }
,
{
		   "cell_type": "markdown",
		   "metadata": {},
		   "source": [
			"## Example 3.9: Inward_Flow_Reaction_Turbine.sce"
		   ]
		  },
  {
"cell_type": "code",
	   "execution_count": null,
	   "metadata": {
	    "collapsed": true
	   },
	   "outputs": [],
"source": [
"// Display mode\n",
"mode(0);\n",
"// Display warning for floating point exception\n",
"ieee(1);\n",
"clear;\n",
"clc;\n",
"disp('Turbomachinery Design and Theory,Rama S. R. Gorla and Aijaz A. Khan, Chapter 3, Example 9')\n",
"disp('Refering Figure')\n",
"disp('From inlet velocity triangle')\n",
"Cr1 = 3.8;//m/s\n",
"alpha1 = 16;//degree\n",
"Cw1 = Cr1/tan(alpha1*%pi/180)\n",
"disp('Absolute velocity of water at inlet, C1, is')\n",
"C1 = Cr1/sin(alpha1*%pi/180)\n",
"D1 = 1;//m\n",
"N = 240;//rpm\n",
"U1 = %pi*D1*N/60\n",
"x = Cr1/(Cw1-U1)\n",
"beta1 = atan(x) * 180/%pi\n",
"disp('Relative velocity of water at entrance')\n",
"V1 = Cr1/sin(beta1*%pi/180)"
   ]
   }
],
"metadata": {
		  "kernelspec": {
		   "display_name": "Scilab",
		   "language": "scilab",
		   "name": "scilab"
		  },
		  "language_info": {
		   "file_extension": ".sce",
		   "help_links": [
			{
			 "text": "MetaKernel Magics",
			 "url": "https://github.com/calysto/metakernel/blob/master/metakernel/magics/README.md"
			}
		   ],
		   "mimetype": "text/x-octave",
		   "name": "scilab",
		   "version": "0.7.1"
		  }
		 },
		 "nbformat": 4,
		 "nbformat_minor": 0
}
