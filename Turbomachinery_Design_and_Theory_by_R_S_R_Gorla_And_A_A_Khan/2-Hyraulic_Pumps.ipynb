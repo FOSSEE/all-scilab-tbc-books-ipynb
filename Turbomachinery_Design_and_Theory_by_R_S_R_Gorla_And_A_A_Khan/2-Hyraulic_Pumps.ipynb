{
"cells": [
 {
		   "cell_type": "markdown",
	   "metadata": {},
	   "source": [
       "# Chapter 2: Hyraulic Pumps"
	   ]
	},
{
		   "cell_type": "markdown",
		   "metadata": {},
		   "source": [
			"## Example 2.10: Centrifugal_Pump_Running.sce"
		   ]
		  },
  {
"cell_type": "code",
	   "execution_count": null,
	   "metadata": {
	    "collapsed": true
	   },
	   "outputs": [],
"source": [
"// Display mode\n",
"mode(0);\n",
"// Display warning for floating point exception\n",
"ieee(1);\n",
"clear;\n",
"clc;\n",
"disp('Turbomachinery Design and Theory,Rama S. R. Gorla and Aijaz A. Khan, Chapter 2, Example 10')\n",
"disp('Given Data N in rpm, H in m, Q - discharge in litres/s:')\n",
"N1 = 590\n",
"Q1 = 1.83\n",
"H1 = 16\n",
"N2 = 390\n",
"//As H^1/2 / N = constant\n",
"H2 = N2^2*H1/(N1^2)\n",
"disp('Head developed by the pump at 390 rpm = 6.98 m. In order to find discharge through the pump at 390 rpm, We use Ns = N* Q^(1/2)/(H^3/4) .Therefore Discharge through pump in litres/s Q2 is :')\n",
"x = N1*Q1^(1/2)/H1^(3/4);\n",
"Q2 = (x*H2^(3/4)/N2)^2"
   ]
   }
,
{
		   "cell_type": "markdown",
		   "metadata": {},
		   "source": [
			"## Example 2.11: Ideal_Height_Hydraulic_Efficiency.sce"
		   ]
		  },
  {
"cell_type": "code",
	   "execution_count": null,
	   "metadata": {
	    "collapsed": true
	   },
	   "outputs": [],
"source": [
"// Display mode\n",
"mode(0);\n",
"// Display warning for floating point exception\n",
"ieee(1);\n",
"clear;\n",
"clc;\n",
"disp('Turbomachinery Design and Theory,Rama S. R. Gorla and Aijaz A. Khan, Chapter 2, Example 11')\n",
"D2= 0.37;//in meters\n",
"N= 800;//in rpm\n",
"Q= 0.03;\n",
"Hgiven = 14;\n",
"disp('Impeller tip Speed U2 in m/s is :')\n",
"U2 = %pi *D2*N/60\n",
"disp('Radial velocity at the impeller exit Cr2 = 2.5 m/s ')\n",
"Cr2 = 2.5;\n",
"disp('Therefore')\n",
"Cw2 = U2 - Cr2/tan(%pi/4)\n",
"disp('When there is no slip, the head H developed will be')\n",
"g =9.81;\n",
"H = Cw2*U2/g\n",
"disp('If there are no hydraulic internal losses, the power utilized by the pump will be: P')\n",
"P = 0.96*8 //given efficiency = 0.96 and Power = 8 hp\n",
"disp('Theoretical flow rate Qtheo in m3/s :')\n",
"Qtheo = Q/0.97\n",
"disp('Ideal Height Hi :')\n",
"Hi = P * 0.746 / (g*Qtheo)\n",
"disp('The hydraulic efficiency is etah :')\n",
"etah =Hgiven/Hi *100"
   ]
   }
,
{
		   "cell_type": "markdown",
		   "metadata": {},
		   "source": [
			"## Example 2.12: Actual_Work_Absolute_Velocity.sce"
		   ]
		  },
  {
"cell_type": "code",
	   "execution_count": null,
	   "metadata": {
	    "collapsed": true
	   },
	   "outputs": [],
"source": [
"// Display mode\n",
"mode(0);\n",
"// Display warning for floating point exception\n",
"ieee(1);\n",
"clear;\n",
"clc;\n",
"disp('Turbomachinery Design and Theory,Rama S. R. Gorla and Aijaz A. Khan, Chapter 2, Example 12')\n",
"disp('Exit blade angle beta2 =20 degres')\n",
"beta2 = 20;\n",
"U2 = 56; //U2 in m/s\n",
"Cr2 = 7.5; //in m/s\n",
"CW2 = U2 - Cr2/tan(20*%pi/180)\n",
"disp('Using slip factor :')\n",
"sigma = 0.88\n",
"disp('The velocity whirl at exit is :')\n",
"Cw2 = sigma*CW2\n",
"disp('Work input per kg of water flow in KJ/kg')\n",
"W = Cw2*U2/1000\n",
"disp('Absolute velocity at impeller tip C2 in m/s is :')\n",
"C2 = (Cr2^2 + Cw2^2)^(1/2)"
   ]
   }
,
{
		   "cell_type": "markdown",
		   "metadata": {},
		   "source": [
			"## Example 2.13: Theoritical_Head.sce"
		   ]
		  },
  {
"cell_type": "code",
	   "execution_count": null,
	   "metadata": {
	    "collapsed": true
	   },
	   "outputs": [],
"source": [
"// Display mode\n",
"mode(0);\n",
"// Display warning for floating point exception\n",
"ieee(1);\n",
"clear;\n",
"clc;\n",
"disp('Turbomachinery Design and Theory,Rama S. R. Gorla and Aijaz A. Khan, Chapter 2, Example 13')\n",
"disp('Assuming the blades are of infinitesimal thickness, the flow area is given by A in m2 = impeller periphery * blade depth')\n",
"D2 = 0.26 //in m\n",
"d = 0.02//in m\n",
"N = 1400//in rpm\n",
"g =9.81;\n",
"Q= 0.03//m3/s\n",
"disp('Area A in m2')\n",
"A = D2*%pi*d\n",
"disp('Flow velocity Cr2 is given by')\n",
"Cr2 = Q/A\n",
"disp('Impeller tip speed, U2 in m/s is')\n",
"U2 = %pi*D2*N/60\n",
"disp('Absolute whirl component, Cw2 in m/s is given by')\n",
"Cw2 =  U2 - Cr2/tan(30*%pi/180)\n",
"disp('Using Euler’s equation, and assuming Cw1 = 0 (i.e., no whirl at inlet) Head H in m')\n",
"H = U2*Cw2/g\n",
"disp('Theoretical head with slip is Htheo in m')\n",
"Htheo = 0.78*H\n",
"disp('To find numbers of impeller blades, using Stanitz formula sigma = 1 - 0.63pi/n')\n",
"disp('Slip factor, sigma = 0.78')\n",
"sigma = 0.78;\n",
"disp('Number of blades required')\n",
"n = (0.63*%pi)/(1-sigma)\n",
"disp('Therefore n = 9')"
   ]
   }
,
{
		   "cell_type": "markdown",
		   "metadata": {},
		   "source": [
			"## Example 2.14: Vanes_30_Degrees.sce"
		   ]
		  },
  {
"cell_type": "code",
	   "execution_count": null,
	   "metadata": {
	    "collapsed": true
	   },
	   "outputs": [],
"source": [
"// Display mode\n",
"mode(0);\n",
"// Display warning for floating point exception\n",
"ieee(1);\n",
"clear;\n",
"clc;\n",
"disp('Turbomachinery Design and Theory,Rama S. R. Gorla and Aijaz A. Khan, Chapter 2, Example 14')\n",
"disp('Given data D1 and D2 in meters, N in rpm, Cr2 in m/s and beta2 in degrees')\n",
"D1 = 0.2\n",
"D2 = 0.4\n",
"N = 1500\n",
"Cr2 = 2.8\n",
"beta2 = 30\n",
"disp('Impeller tip speed, U2 in m/s, is')\n",
"U2 = %pi*D2*N/60\n",
"disp('Whirl component of absolute velocity Cw2 at impeller exit is')\n",
"Cw2 = U2 - Cr2/tan(30*%pi/180)\n",
"//As tan(alpha2)=2.8/26.58 = 0.1053\n",
"alpha2 = atan(0.1053) * 180 /%pi\n",
"disp('Impeller speed at inlet U1 in m/s is ')\n",
"U1 = %pi * D1*N/60\n",
"//tan(beta1) = 2.8/15.7 = 0.178\n",
"beta1 = atan(0.178)*180/%pi\n",
"disp('Work done per kg of water W in Nm :')\n",
"W = Cw2*U2"
   ]
   }
,
{
		   "cell_type": "markdown",
		   "metadata": {},
		   "source": [
			"## Example 2.15: Power_Hub_dia_Angles.sce"
		   ]
		  },
  {
"cell_type": "code",
	   "execution_count": null,
	   "metadata": {
	    "collapsed": true
	   },
	   "outputs": [],
"source": [
"// Display mode\n",
"mode(0);\n",
"// Display warning for floating point exception\n",
"ieee(1);\n",
"clear;\n",
"clc;\n",
"disp('Turbomachinery Design and Theory,Rama S. R. Gorla and Aijaz A. Khan, Chapter 2, Example 15')\n",
"rho = 1000;//density in kg/m3\n",
"g = 9.81;//force of gravity in m/s2\n",
"H = 10;//head in m\n",
"Q = 1.3;//Discharge in m3/s\n",
"eta = 0.83;//efficiency\n",
"U2 = 22;//blade velocity\n",
"Ca = 4.5;//Flow velocity\n",
"N = 550;//rpm\n",
"disp('Power delivered to the water P in kW :')\n",
"P = rho*g*H*Q/1000\n",
"disp('Power input to the pump Pin in kW :')\n",
"Pin = P/eta\n",
"disp('Rotor tip diameter is given by D2 in m')\n",
"D2 = 60*U2/(%pi*N)\n",
"disp('Rotor Hub dia D1 in m :')\n",
"D1 = (D2^2 -Q/(%pi*Ca/4))^(1/2)\n",
"disp('Rotor velocity at hub is given by U1 in m/s :')\n",
"U1 = D1*U2/D2\n",
"disp('Since, the axial velocity is constant, we have: rotor inlet angl at tip alpha1t in degrees')\n",
"alpha1t = atan(Ca/U1)*180/%pi\n",
"disp('Rotor outlet angle alpha2t in degrees :')\n",
"alpha2t = atan(Ca/U2)*180/%pi"
   ]
   }
,
{
		   "cell_type": "markdown",
		   "metadata": {},
		   "source": [
			"## Example 2.16: Mechanical_Efficiency.sce"
		   ]
		  },
  {
"cell_type": "code",
	   "execution_count": null,
	   "metadata": {
	    "collapsed": true
	   },
	   "outputs": [],
"source": [
"// Display mode\n",
"mode(0);\n",
"// Display warning for floating point exception\n",
"ieee(1);\n",
"clear;\n",
"clc;\n",
"disp('Turbomachinery Design and Theory,Rama S. R. Gorla and Aijaz A. Khan, Chapter 2, Example 16')\n",
"disp('Given Data:')\n",
"Qdel = 72//Discharge in l/s\n",
"rho = 1000\n",
"Di = 0.09//Inner Dia in m\n",
"Do = 0.28//Outer Dia in m\n",
"N = 1650//Revolution in min\n",
"H = 25//Head\n",
"bi = 0.02//Width at inlet in m\n",
"bo = 0.018//Width at outlet in m\n",
"Qleak = 2//in l/s\n",
"etap = 0.56//Efficiency of the pump\n",
"cf = 0.85//Contraction factor\n",
"g = 9.81//gravity in m/s2\n",
"Ploss = 1.41\n",
"disp('Total quantity of the water to be handled by the pump Qt in l/s')\n",
"Qt = Qdel + Qleak\n",
"disp('Total quantity of water per side Qw')\n",
"Qw = Qt/2\n",
"disp('Impeller speed at inlet U1 in m/s')\n",
"U1 = %pi*Di*N/60\n",
"disp('Flow area at inlet Af')\n",
"Af = %pi*Di*bi*cf\n",
"disp('Therefore, the velocity of flow at inlet Crl in m/s')\n",
"Crl = Qw/(Af*1000)\n",
"disp('From inlet velocity triangle beta1')\n",
"beta1 = atan(Crl/U1)*180/%pi//Crl/U1 = 7.708/7.78\n",
"disp('Area of flow at outlet Ao')\n",
"bo1 = bo / 2\n",
"Ao = %pi * Do * bo1* cf\n",
"disp('Therefore, the velocity of flow at outlet Cr2')\n",
"Cr2 = Qw/(Ao*1000)\n",
"disp('The impeller speed at outlet U2')\n",
"U2 = %pi*Do*N/60\n",
"disp('Now using velocity triangle at outlet Cw2 in m/s')\n",
"Cw2 = U2 - Cr2/tan(35*%pi/180)\n",
"alpha2 = atan(Cr2/Cw2)*180/%pi\n",
"disp('The absolute velocity of water leaving the impeller C2 in m/s')\n",
"C2 = Cw2/cos(alpha2*%pi/180)\n",
"disp('The manometric efficiency etaman')\n",
"etaman =  g*H/(U2*Cw2)\n",
"disp('The volumetric efficiency etav')\n",
"etav = Qdel/Qt\n",
"disp('Water power Pw in kW')\n",
"Pw = rho*g*Qdel*H/1000000\n",
"disp('Shaft power Ps in kW')\n",
"Ps = Pw/etap\n",
"disp('Mechanical efficiency is etam')\n",
"etam = (Ps - Ploss)/Ps "
   ]
   }
,
{
		   "cell_type": "markdown",
		   "metadata": {},
		   "source": [
			"## Example 2.17: Single_Stage_Pump.sce"
		   ]
		  },
  {
"cell_type": "code",
	   "execution_count": null,
	   "metadata": {
	    "collapsed": true
	   },
	   "outputs": [],
"source": [
"// Display mode\n",
"mode(0);\n",
"// Display warning for floating point exception\n",
"ieee(1);\n",
"clear;\n",
"clc;\n",
"disp('Turbomachinery Design and Theory,Rama S. R. Gorla and Aijaz A. Khan, Chapter 2, Example 17')\n",
"disp('Head generated by the pump H')\n",
"//H is directly proportionl to D^2\n",
"D = 0.32;\n",
"H = 21.5;\n",
"Hred = 20;\n",
"disp('Diameter to be reduced is Dred in cm')\n",
"Dred = D*(Hred/H)^(1/2) * 100"
   ]
   }
,
{
		   "cell_type": "markdown",
		   "metadata": {},
		   "source": [
			"## Example 2.18: Diameter_of_Impeller.sce"
		   ]
		  },
  {
"cell_type": "code",
	   "execution_count": null,
	   "metadata": {
	    "collapsed": true
	   },
	   "outputs": [],
"source": [
"// Display mode\n",
"mode(0);\n",
"// Display warning for floating point exception\n",
"ieee(1);\n",
"clear;\n",
"clc;\n",
"disp('Turbomachinery Design and Theory,Rama S. R. Gorla and Aijaz A. Khan, Chapter 2, Example 18')\n",
"disp('Specific speed N in rpm')\n",
"Ns = 38;\n",
"He = 70;\n",
"H = He/2;\n",
"Q = 55/1000;//in m3/s\n",
"rho = 1000;\n",
"g = 9.81;\n",
"N = Ns * (H)^(3/4)  /  Q^(1/2)\n",
"disp('Power Required P in kW')\n",
"P = rho*g*Q*He/(0.76*1000)\n",
"Hmano = 0.65*H;\n",
"beta2 = 28;\n",
"//Cr2 = 0.14*U2\n",
"disp('From velocity triangle at outlet')\n",
"disp('tan(beta2) = Cr2/(U2 - Cw2) or tan(28) = 0.14U2/ (U2 - Cw2)')\n",
"disp('U2/(U2 - Cw2) = 0.5317/0.14 = 3.798------(A)')\n",
"disp('As the flow at entrance is radial and alpha1 = 90, the fundamental equation of pump would be')\n",
"disp('Hmano/etamano = U2*Cw2/g')\n",
"disp('Where etamano manometric efficiency of pump which is 65%.')\n",
"disp('Therefore, 35/0.65 = U2*Cw2/g')\n",
"disp('U2*Cw2 = 35 * 9.81/ 0.65')\n",
"disp('Cw2 = 528.23/U2------(B)')\n",
"disp('Substituting for Cw2 in Eq. (A) and solving U2')\n",
"U2 = 26.78\n",
"D2 = U2 * 60 /(%pi *N)\n",
"disp('Where D2 is in meters')"
   ]
   }
,
{
		   "cell_type": "markdown",
		   "metadata": {},
		   "source": [
			"## Example 2.19: Two_Multistage_Pumps.sce"
		   ]
		  },
  {
"cell_type": "code",
	   "execution_count": null,
	   "metadata": {
	    "collapsed": true
	   },
	   "outputs": [],
"source": [
"// Display mode\n",
"mode(0);\n",
"// Display warning for floating point exception\n",
"ieee(1);\n",
"clear;\n",
"clc;\n",
"disp('Turbomachinery Design and Theory,Rama S. R. Gorla and Aijaz A. Khan, Chapter 2, Example 19')\n",
"N = 1445//rpm\n",
"Q = 0.0352//m3/s\n",
"Ns = 14//rpm\n",
"g=9.81;\n",
"disp('Head developed in each stage is H in m: ')\n",
"H = (N * (Q^(1/2))/Ns)^(4/3)\n",
"disp('Total head required = 845m')\n",
"disp('Number of stages needed = 845/52 = 16')\n",
"disp('Number of stages in each pump = 8')\n",
"disp('Impeller speed at tip is U2 in m/s')\n",
"U2 = 0.96*(2*g*H)^0.5\n",
"disp('Impeller Diameter at tip D2')\n",
"//D2 = %pi*60*30.6*1445\n",
"disp('But U2 = pi*D2*N/60 Therefore D2 real in m')\n",
"D2real = U2 *60/(%pi*1445)"
   ]
   }
,
{
		   "cell_type": "markdown",
		   "metadata": {},
		   "source": [
			"## Example 2.1: Centrifugal_Pump_Torque.sce"
		   ]
		  },
  {
"cell_type": "code",
	   "execution_count": null,
	   "metadata": {
	    "collapsed": true
	   },
	   "outputs": [],
"source": [
"// Display mode\n",
"mode(0);\n",
"// Display warning for floating point exception\n",
"ieee(1);\n",
"clear;\n",
"clc;\n",
"disp('Turbomachinery Design and Theory,Rama S. R. Gorla and Aijaz A. Khan, Chapter 2, Example 1')\n",
"//Reference to the Fig 2.2 for zero slip beta2 ¼ beta2'. Using Euler's pump equation, E=W/m=(U2*Cw2-U1*Cw1)\n",
"Cw1 = 0;\n",
"disp ('Euler head = H in meters , Power in Kilowatts, Torque in Newton meters are :')\n",
"//H=U2*Cw2/g = (U2/g)*(U2 - 1.5/tan(28))\n",
"H = (12/9.81)*(12 - 1.5 / tan(28*%pi/180))\n",
"//Power delivered = pho * g * Q * H joules/s \n",
"Power = 1000 * 9.81 * 3.8 * 11.23 /(60 * 1000)// Power will be in kilowatts\n",
"//Torque = power/angular velocity\n",
"Torque = Power* 1000 * 0.6/12"
   ]
   }
,
{
		   "cell_type": "markdown",
		   "metadata": {},
		   "source": [
			"## Example 2.20: Pumps_to_be_Connected.sce"
		   ]
		  },
  {
"cell_type": "code",
	   "execution_count": null,
	   "metadata": {
	    "collapsed": true
	   },
	   "outputs": [],
"source": [
"// Display mode\n",
"mode(0);\n",
"// Display warning for floating point exception\n",
"ieee(1);\n",
"clear;\n",
"clc;\n",
"disp('Turbomachinery Design and Theory,Rama S. R. Gorla and Aijaz A. Khan, Chapter 2, Example 20')\n",
"disp('Specific speed for a single impeller is given by')\n",
"disp('Ns = N*Q^0.5/H^0.75')\n",
"Ns = 700\n",
"H = 105\n",
"N = 900\n",
"Q = 5500/60//l/s\n",
"H = (N*Q^0.5/Ns)^(4/3)\n",
"disp('Hence total number of stages :')\n",
"Ht = 105;\n",
"Stages = Ht/H\n",
"disp('Stages in series are 4')"
   ]
   }
,
{
		   "cell_type": "markdown",
		   "metadata": {},
		   "source": [
			"## Example 2.21: Specific_speed_1150.sce"
		   ]
		  },
  {
"cell_type": "code",
	   "execution_count": null,
	   "metadata": {
	    "collapsed": true
	   },
	   "outputs": [],
"source": [
"// Display mode\n",
"mode(0);\n",
"// Display warning for floating point exception\n",
"ieee(1);\n",
"clear;\n",
"clc;\n",
"disp('Turbomachinery Design and Theory,Rama S. R. Gorla and Aijaz A. Khan, Chapter 2, Example 21')\n",
"disp('Given data')\n",
"D2 = 0.9//m\n",
"D1 = 0.45//m\n",
"Ns = 1150//rpm\n",
"Cr = 2.5 //m/s\n",
"H = 5.5//m\n",
"disp('H,D2 and D1 are in meters, Ns in rpm, Cr in m/s')\n",
"Q = (%pi*(D2^2-D1^2)/4 )*Cr*1000\n",
"disp('Q in l/s')\n",
"N = Ns*H^0.75/Q^0.5\n",
"disp('Therefore N = 120')\n",
"disp('In order to find vane angle at entry, using velocity triangle at inlet,U1 in m/s is:')\n",
"U1 = %pi*D1*N/60\n",
"alpha = atan(Cr/U1)*180/%pi"
   ]
   }
,
{
		   "cell_type": "markdown",
		   "metadata": {},
		   "source": [
			"## Example 2.2: Head_Imparted.sce"
		   ]
		  },
  {
"cell_type": "code",
	   "execution_count": null,
	   "metadata": {
	    "collapsed": true
	   },
	   "outputs": [],
"source": [
"// Display mode\n",
"mode(0);\n",
"// Display warning for floating point exception\n",
"ieee(1);\n",
"clear;\n",
"clc;\n",
"disp('Turbomachinery Design and Theory,Rama S. R. Gorla and Aijaz A. Khan, Chapter 2, Example 2')\n",
"//Fluid is entering in radial direction\n",
"Cw1 = 0;\n",
"alpha1 = 90; //angle is in degrees\n",
"beta2 = 22; //angle in degress\n",
"Ca1 = 3.5; //velocity of flow in m/s\n",
"D= 0.22;\n",
"N=1250;\n",
"//Ca1 = Ca2\n",
"Ca2 = 3.5;\n",
"//Head developed H = Cw2*U2/g\n",
"//Impeller tip Speed U2 = pi*D*N/60\n",
"disp ('Impeller tip speed in m/s is : ')\n",
"U2 = %pi * D * N / 60\n",
"disp('Whirl velocity at impeller outlet, in m/s is : ')\n",
"Cw2 = (U2 - Ca2/tan(22*%pi/180))\n",
"disp('Head Imparted is H in meters : ')\n",
"H = Cw2 * U2 / 9.81"
   ]
   }
,
{
		   "cell_type": "markdown",
		   "metadata": {},
		   "source": [
			"## Example 2.3: Centrifugal_Pump_Impeller.sce"
		   ]
		  },
  {
"cell_type": "code",
	   "execution_count": null,
	   "metadata": {
	    "collapsed": true
	   },
	   "outputs": [],
"source": [
"// Display mode\n",
"mode(0);\n",
"// Display warning for floating point exception\n",
"ieee(1);\n",
"clear;\n",
"clc;\n",
"disp('Turbomachinery Design and Theory,Rama S. R. Gorla and Aijaz A. Khan, Chapter 2, Example 3')\n",
"D2 = 0.4;\n",
"N= 1400;\n",
"disp ('Impeller tip speed given by piDN/60 in m/s is :  ')\n",
"U2 = %pi * D2 * N /60\n",
"disp('whirl velocity at tip in m/s is : ')\n",
"Cr2 = 2.6;\n",
"Cw2 = (U2 - Cr2 / tan(25*%pi/180))\n",
"//From velocity Triangle 2.3 tangent alpha2 = Cr2/Cw2 = 2.6/23.75 = 0.1095\n",
"disp('Alpha2 is in degrees')\n",
"alpha2 = atan(0.1095) *180/(%pi)\n",
"disp('Impeller velocity at inlet in m/s is : ')\n",
"D1 = 0.2;\n",
"U1 = %pi * D1*N /60\n",
"//From velocity Triangle 2.3 tangent beta1 = Cr1/U1 = 2.6/14.67 = 0.177\n",
"disp('Beta1 is in degrees')\n",
"beta1 = atan(0.177) * 180 /(%pi)\n",
"disp('Work done per kg of water in Joules is : ')\n",
"W = Cw2 * U2"
   ]
   }
,
{
		   "cell_type": "markdown",
		   "metadata": {},
		   "source": [
			"## Example 2.4: Efficiency_Lift_Discharge.sce"
		   ]
		  },
  {
"cell_type": "code",
	   "execution_count": null,
	   "metadata": {
	    "collapsed": true
	   },
	   "outputs": [],
"source": [
"// Display mode\n",
"mode(0);\n",
"// Display warning for floating point exception\n",
"ieee(1);\n",
"clear;\n",
"clc;\n",
"disp('Turbomachinery Design and Theory,Rama S. R. Gorla and Aijaz A. Khan, Chapter 2, Example 4')\n",
"//Q is discharge rate, beta2 is angle of vane at outlet, H is head, Diaratio is diameter ratio of external by internal dia, N is rpm, A is area of outer periphery\n",
"Q = 1550;\n",
"beta2 = 25;\n",
"H = 6.2;\n",
"Diaratio = 2;\n",
"D2 = 1.2;\n",
"N = 210;\n",
"A = 0.65;\n",
"disp('Velocity of flow at impeller tip in m/s is :')\n",
"Cr2 = Q/(A*1000)\n",
"disp('Impeller tip speed in m/s is :')\n",
"U2 = %pi * D2 * N / 60\n",
"Cw2 = U2 - Cr2 / tan(%pi*25/180)\n",
"disp('TheoH is theoritical head in m')\n",
"TheoH = Cw2 * U2/9.81\n",
" //Assuming slip factor sigma = 1, efficiency is\n",
" disp('efficiency is ')\n",
" etah = H * 100 / TheoH\n",
" //Power is denoted by P\n",
" disp('Power in kilowatts is : ')\n",
" P = Q * TheoH * 9.81 / 1000\n",
" disp('Centrifugal head is minimum head. Thus we get: ')\n",
" //U2^2-U1^2/2g = 6.2\n",
" //U1 = U2/2\n",
" U2 = (2 * 9.81 * 6.2 /(1-0.25))^(1/2)\n",
" disp('minimum speed in rpm is :')\n",
" minN = U2 * 60 / (%pi * D2)\n",
" "
   ]
   }
,
{
		   "cell_type": "markdown",
		   "metadata": {},
		   "source": [
			"## Example 2.5: Horse_Power_Pump.sce"
		   ]
		  },
  {
"cell_type": "code",
	   "execution_count": null,
	   "metadata": {
	    "collapsed": true
	   },
	   "outputs": [],
"source": [
"// Display mode\n",
"mode(0);\n",
"// Display warning for floating point exception\n",
"ieee(1);\n",
"clear;\n",
"clc;\n",
"disp('Turbomachinery Design and Theory,Rama S. R. Gorla and Aijaz A. Khan, Chapter 2, Example 5')\n",
"//H is head in m, Q is discharge m3/s, eta is efficiency, P is power\n",
"disp('Power P in Horse power is :')\n",
"H = 35;\n",
"Q = 0.045;\n",
"eta = 0.6;\n",
"//P = rho gQ/eta in joules per second\n",
"P = 9.81 * Q * H / (0.6 * 0.746)"
   ]
   }
,
{
		   "cell_type": "markdown",
		   "metadata": {},
		   "source": [
			"## Example 2.6: Impeller_Vanes_Angled.sce"
		   ]
		  },
  {
"cell_type": "code",
	   "execution_count": null,
	   "metadata": {
	    "collapsed": true
	   },
	   "outputs": [],
"source": [
"// Display mode\n",
"mode(0);\n",
"// Display warning for floating point exception\n",
"ieee(1);\n",
"clear;\n",
"clc;\n",
"disp('Turbomachinery Design and Theory,Rama S. R. Gorla and Aijaz A. Khan, Chapter 2, Example 6')\n",
"// Velocity of flow through impeller is constant so Cr1 = Cr2 = 3.5 m/s\n",
"disp('Tangential Velocity of impeller at inlet in m/s is :')\n",
"//Din and D2 are diameters in meters, N is in rpm, Cr2 in m/s\n",
"Din = 0.3;\n",
"D2 = 0.6;\n",
"N = 950;\n",
"Cr2 = 3.5;\n",
"U1 = %pi * Din * N / 60\n",
"//tanalpha1 = Cr1/U1 3.5/14.93 = 0.234\n",
"disp('vane inlet angle of pump alpha1 : ')\n",
"alpha1 = atan(0.234) * 180/ %pi\n",
"disp('Tangential velocity of impeller at outlet in m/s:')\n",
"U2 = %pi * D2 * N / 60\n",
"disp('Now For velocity of whirl at impeller outlet,using velocity triangle.in m/s is :')\n",
"Cw2 = U2 - Cr2 / tan(46*%pi/180)\n",
"//As c2^2 = Cw2^2 + Cw2^2 , Therefore\n",
"disp(' Velocity of water at outlet C2 in m/s is :')\n",
"C2 = (Cr2^2 + Cw2^2)^(1/2)\n",
"disp('alpha2 be the direction of water outlet, Thus we have :')\n",
"alpha2 = atan(Cr2/Cw2)*(180/%pi)\n",
"disp('Work Done in Newton meters is given by :')\n",
"W = Cw2*U2"
   ]
   }
,
{
		   "cell_type": "markdown",
		   "metadata": {},
		   "source": [
			"## Example 2.7: Vanes_At_45_Degrees.sce"
		   ]
		  },
  {
"cell_type": "code",
	   "execution_count": null,
	   "metadata": {
	    "collapsed": true
	   },
	   "outputs": [],
"source": [
"// Display mode\n",
"mode(0);\n",
"// Display warning for floating point exception\n",
"ieee(1);\n",
"clear;\n",
"clc;\n",
"disp('Turbomachinery Design and Theory,Rama S. R. Gorla and Aijaz A. Khan, Chapter 2, Example 7')\n",
"//From Figure Ex26\n",
"//Finding Manometric Efficiency\n",
"//D2 is dia in meters, N in rpm, Head H in meters ,Cr2 and Cw2 in m/s \n",
"D2 = 0.5;\n",
"D1 = 0.25;\n",
"N = 500;\n",
"H = 10;\n",
"Cr2 = 2;\n",
"beta2 = %pi/4;\n",
"Cr1 = 2;\n",
"//etaman = H/(Cw2*U2/g)\n",
"disp('Outlet Velocity be U2 in m/s :')\n",
"U2 = %pi * D2 * N / 60\n",
"//To Find Cw2\n",
"Cw2 = 13-2/(tan(%pi/4))\n",
"disp(' Manometric Efficiency be etaman in %: ')\n",
"etaman = H*9.81/(Cw2*U2)  *100\n",
"disp('Vane Angle at inlet beta 1 in degrees is :')\n",
"//U1 = U2/2\n",
"beta1 = atan(Cr1/(U2/2))*(180/%pi)\n",
"disp('Minimum Starting speed N in rpm is :')\n",
"//(U2^2-U1^2/2g = H implies \n",
"Nmin = ((2*9.81*10)/((%pi*D2/60)^2 -(%pi*D1/60)^2))^(1/2)"
   ]
   }
,
{
		   "cell_type": "markdown",
		   "metadata": {},
		   "source": [
			"## Example 2.8: Vanes_Radially_Exit.sce"
		   ]
		  },
  {
"cell_type": "code",
	   "execution_count": null,
	   "metadata": {
	    "collapsed": true
	   },
	   "outputs": [],
"source": [
"// Display mode\n",
"mode(0);\n",
"// Display warning for floating point exception\n",
"ieee(1);\n",
"clear;\n",
"clc;\n",
"disp('Turbomachinery Design and Theory,Rama S. R. Gorla and Aijaz A. Khan, Chapter 2, Example 8')\n",
"//D2 is siameter in meter, N is rpm, Cr2 in m/s and Cw2=U2 in m/s , V velocity of flow in m/s\n",
"D2 = 0.6;\n",
"N = 550;\n",
"Cr2 = 3.5;\n",
"U2 = %pi*D2*N/60\n",
"Cw2 = U2\n",
"g = 9.81;\n",
"V=2.5;\n",
"disp('Head in meters from where water is being lifted is :')\n",
"H = Cw2 * U2/ g - (V^2)/(2*g)\n",
"//b2 is width\n",
"//Qis discharge Q=piD2b2Cr2 in m3/s\n",
"b2 = 0.082;\n",
"disp('Discharge Q is in m3/s:')\n",
"Q = %pi * D2 * b2 * Cr2\n",
"disp('Power P in Kilowatts is given as :')\n",
"rho = 1000; //density of water 1000kg/m3\n",
"P = rho*g*Q*H/1000"
   ]
   }
,
{
		   "cell_type": "markdown",
		   "metadata": {},
		   "source": [
			"## Example 2.9: Radial_Component_Water.sce"
		   ]
		  },
  {
"cell_type": "code",
	   "execution_count": null,
	   "metadata": {
	    "collapsed": true
	   },
	   "outputs": [],
"source": [
"// Display mode\n",
"mode(0);\n",
"// Display warning for floating point exception\n",
"ieee(1);\n",
"clear;\n",
"clc;\n",
"disp('Turbomachinery Design and Theory,Rama S. R. Gorla and Aijaz A. Khan, Chapter 2, Example 9')\n",
"disp('The Given Data')\n",
"disp('The Following Data D2 is diameter in m, U2 and Cr2 in m/s, alpha1 and beta2 in degrees, Q is i9n m3/s')\n",
"D2 = 1\n",
"U2 = 11\n",
"alpha1 = 90\n",
"Cr2 = 2.5\n",
"beta2 = 32\n",
"Q = 5.5\n",
"rho = 1000;\n",
"disp('Outlet Velocity Cw2 in m/s is :')\n",
"Cw2 = U2 - (Cr2/tan(32*%pi/180))\n",
"disp('Power in pump in kilowatts is :')\n",
"P = rho*Q*Cw2*U2/(1000*60)\n",
"//H.P. = 2*pi*N*T/60\n",
"disp('Rpm and Torque T in Nm/s are :')\n",
"N = 60*U2/(%pi * D2)\n",
"T= P*1000*60/(2*%pi*N)"
   ]
   }
],
"metadata": {
		  "kernelspec": {
		   "display_name": "Scilab",
		   "language": "scilab",
		   "name": "scilab"
		  },
		  "language_info": {
		   "file_extension": ".sce",
		   "help_links": [
			{
			 "text": "MetaKernel Magics",
			 "url": "https://github.com/calysto/metakernel/blob/master/metakernel/magics/README.md"
			}
		   ],
		   "mimetype": "text/x-octave",
		   "name": "scilab",
		   "version": "0.7.1"
		  }
		 },
		 "nbformat": 4,
		 "nbformat_minor": 0
}
