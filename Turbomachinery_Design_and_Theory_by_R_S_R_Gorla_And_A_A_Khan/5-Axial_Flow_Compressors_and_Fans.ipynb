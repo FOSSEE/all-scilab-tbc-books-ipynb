{
"cells": [
 {
		   "cell_type": "markdown",
	   "metadata": {},
	   "source": [
       "# Chapter 5: Axial Flow Compressors and Fans"
	   ]
	},
{
		   "cell_type": "markdown",
		   "metadata": {},
		   "source": [
			"## Example 5.10: Isentropic_Efficiency.sce"
		   ]
		  },
  {
"cell_type": "code",
	   "execution_count": null,
	   "metadata": {
	    "collapsed": true
	   },
	   "outputs": [],
"source": [
"// Display mode\n",
"mode(0);\n",
"// Display warning for floating point exception\n",
"ieee(1);\n",
"clear;\n",
"clc;\n",
"disp('Turbomachinery Design and Theory,Rama S. R. Gorla and Aijaz A. Khan, Chapter 5, Example 10')\n",
"disp('Using the isentropic P–T relation for the compression process,')\n",
"disp('P02/P01 = r,  T02a in Kelvin is')\n",
"r = 6\n",
"T01 = 285;\n",
"gam = 1.4;\n",
"x = (gam-1)/gam;\n",
"T02a = T01*r^x\n",
"disp('Using the polytropic P–T relation for the compression process:')\n",
"etainf = 0.85;\n",
"disp('(n-1)/n = R')\n",
"R = (gam-1)/(gam*etainf)\n",
"disp('Actual temperature rise:')\n",
"T02 = T01*r^R\n",
"disp('The compressor isentropic efficiency is given by:')\n",
"etac = (T02a-T01)/(T02-T01) *100"
   ]
   }
,
{
		   "cell_type": "markdown",
		   "metadata": {},
		   "source": [
			"## Example 5.11: Rotation_5500rpm.sce"
		   ]
		  },
  {
"cell_type": "code",
	   "execution_count": null,
	   "metadata": {
	    "collapsed": true
	   },
	   "outputs": [],
"source": [
"// Display mode\n",
"mode(0);\n",
"// Display warning for floating point exception\n",
"ieee(1);\n",
"clear;\n",
"clc;\n",
"disp('Turbomachinery Design and Theory,Rama S. R. Gorla and Aijaz A. Khan, Chapter 5, Example 11')\n",
"disp('As no inlet guide vanes alpha1 = 0; Cw1 = 0')\n",
"disp('Stagnation temperature, T01 in Kelvins, is given by')\n",
"T01 = 290;\n",
"C1 = 145;\n",
"Cp = 1005;\n",
"Ca = C1;\n",
"T1 = T01 - (C1/(2*Cp)) - 1\n",
"disp('The Mach number relative to tip is')\n",
"M = 0.96;\n",
"gam = 1.4;\n",
"R = 287;\n",
"V1 = M*(gam*R*T1)^0.5 *1.04\n",
"disp('i.e., relative velocity at tip = 340.7 m/s. From velocity triangle at inlet Fig 511')\n",
"Ut = (V1^2 - C1^2)^0.5\n",
"disp('Radius in m')\n",
"N = 5500;\n",
"rt = Ut*60/(2*%pi*N)\n",
"beta1 = atan(Ut/Ca)*180/%pi\n",
"DeltaT0s = 22;\n",
"Tau = 0.92;\n",
"disp('tan(beta1) - tan(beta2) = Dif')\n",
"Dif = DeltaT0s*Cp/(Tau*Ut*Ca)\n",
"beta2 = atan(1.588)*180/%pi\n",
"h = 0.268;\n",
"rm = 0.402;\n",
"A = 2*%pi*rm*h//m2\n",
"P01 = 1;//bar\n",
"P1 = P01*(T1/T01)^3.5\n",
"R = 287;\n",
"rho1 = P1/(R*T1) * 10^5\n",
"m = rho1*A*Ca\n",
"disp('Stage pressure ratio is')\n",
"etas = 0.9;\n",
"Rs = (1+etas*DeltaT0s/T01)^3.5\n",
"W = Cp*DeltaT0s//kJ/kg\n",
"disp('Power required by the compressor in kW')\n",
"P = m*W/1000\n",
"disp('In order to find out rotor air angles at the root section, radius at the root can be found as given below.')\n",
"rr = rm - h/2\n",
"disp('Impeller speed at root is')\n",
"Ur = 2*%pi*rr*N/60\n",
"disp('Therefore, from velocity triangle at root section')\n",
"beta1 = atan(Ur/Ca)*180/%pi\n",
"disp('tanbeta1 - tanbeta2 = R')\n",
"R = DeltaT0s*Cp/(Tau*Ur*Ca)\n",
"beta2 = atan(tan(46.695*%pi/180)-1.078)*180/%pi"
   ]
   }
,
{
		   "cell_type": "markdown",
		   "metadata": {},
		   "source": [
			"## Example 5.12: Number_of_stages.sce"
		   ]
		  },
  {
"cell_type": "code",
	   "execution_count": null,
	   "metadata": {
	    "collapsed": true
	   },
	   "outputs": [],
"source": [
"// Display mode\n",
"mode(0);\n",
"// Display warning for floating point exception\n",
"ieee(1);\n",
"clear;\n",
"clc;\n",
"disp('Turbomachinery Design and Theory,Rama S. R. Gorla and Aijaz A. Khan, Chapter 5, Example 12')\n",
"disp('If N is the number of stages, then overall pressure rise is:')\n",
"disp('R = (1+(N*DeltaT0s)/T01)^((n-1)/n)')\n",
"disp('Exp=(n-1)/n = etaac *gam/(gam-1)')\n",
"disp('(where hac is the polytropic efficiency) substituting values')\n",
"etaac = 0.87;\n",
"gam = 1.4;\n",
"Exp = etaac *gam/(gam-1)\n",
"R=4.5;\n",
"Cp = 1005;\n",
"DeltaTs = 22;\n",
"T01 = 290;\n",
"N = ((R^(1/3.05)) -1)*T01/DeltaTs\n",
"disp('Hence number of stages = 8')\n",
"disp('Stagnation temperature rise, DeltaTs, per stage = 22K, as we took 8 stages, therefore')\n",
"DeltaT0s = DeltaTs*N/8\n",
"disp('From velocity triangle cos(a8) = Ca8/C8')\n",
"alpha8 = 20;\n",
"C8 = 160;\n",
"Ca8 = C8*cos(alpha8*%pi/180)\n",
"disp('Using degree of reaction, DOF = 0.5')\n",
"disp('0.5 = Ca8(tanbeta8 + tanbeta9)/(2U)')\n",
"disp('0.5 = 150.35(tanbeta8 + tanbeta9)/2U -------(A)')\n",
"disp('DelTaT0s = TauUCa8*(tanbeta8 - tanbeta9)/Cp')\n",
"disp('23.1 = 0.85*U*150.35(tanbeta8 - tan20)/1005 ------(B)')\n",
"Tau = 0.85;\n",
"beta9 = alpha8;\n",
"disp('From Eq. (A) U = 150.35(tanbeta8 - 0.364) ------(C)')\n",
"disp('From Eq. (B) U = 181.66/(tanbeta8 - 0.364) ------(D)')\n",
"disp('Comparing Eqs. (C) and (D), we have')\n",
"disp('150.35(tanbeta8 + 0.364)= 181.66/(tanbeta8 - 0.364)')\n",
"disp('(tan(beta8))^2 = p')\n",
"p = 181.66/150.35 + 0.364^2\n",
"beta8 = atan(p^0.5)*180/%pi\n",
"disp('Substituting in Eq. (C)')\n",
"U = Ca8*(tan(beta8*%pi/180) + tan(beta9*%pi/180))\n",
"disp('The rotational speed is given by N in rps')\n",
"N = U/(2*%pi*0.0925)\n",
"disp('In order to find the length of the last stage rotor blade at inlet to the stage, it is necessary to calculate stagnation temperature and pressure ratio of the last stage.')\n",
"disp('Stagnation temperature of last stage: Fig. Ex512')\n",
"T08 = T01 + 7*DeltaT0s\n",
"disp('Pressure ratio of the first stage is: Rat = P09/P08')\n",
"Rat = 1.1643\n",
"disp('Rat1 = P09/P01')\n",
"Rat1 = 4\n",
"P01 = 1;//in bars\n",
"P09 = Rat1*P01//bars\n",
"P08 = P09/Rat\n",
"T8 = T08 - C8^2 /(2*Cp)\n",
"disp('Using stagnation and static isentropic temperature relationship for the last stage, we have pressure in bars')\n",
"P8 = P08*(T8/T08)^(3.5)\n",
"R = 287;\n",
"rho8 = P8/(R*T8)*100000//in kg/m3\n",
"disp('Using mass flow rate m = rho8*A8*Ca8')\n",
"m = 3.5;\n",
"A8 = m/(rho8*Ca8)\n",
"r = 0.0925;\n",
"h = A8/(2*%pi*r)\n",
"disp('i.e., length of the last stage rotor blade at inlet to the stage, h = 16.17 mm.')"
   ]
   }
,
{
		   "cell_type": "markdown",
		   "metadata": {},
		   "source": [
			"## Example 5.13: 10_stage_axial.sce"
		   ]
		  },
  {
"cell_type": "code",
	   "execution_count": null,
	   "metadata": {
	    "collapsed": true
	   },
	   "outputs": [],
"source": [
"// Display mode\n",
"mode(0);\n",
"// Display warning for floating point exception\n",
"ieee(1);\n",
"clear;\n",
"clc;\n",
"disp('Turbomachinery Design and Theory,Rama S. R. Gorla and Aijaz A. Khan, Chapter 5, Example 13')\n",
"disp('No. of stages = 10')\n",
"disp('The overall stagnation temperature rise is:')\n",
"T01 = 290;\n",
"R = 4.5;\n",
"etac = 0.88;\n",
"T1 = (290*(4.5^0.286 - 1))\n",
"disp('The stagnation temperature rise of a stage')\n",
"T0s = T1/10\n",
"disp('The stagnation temperature rise in terms of air angles is:')\n",
"disp('T0s = TauUCa(tanalpha2 - tanalpha1)/Cp')\n",
"disp('(tanalpha2 - tanalpha1) = T0s * Cp/(TauUCa)')\n",
"disp('(tanalpha2 - tanalpha1)= Dif ------(A)')\n",
"Tau = 0.87;\n",
"Cp = 1005;\n",
"U = 218;\n",
"Ca = 165;\n",
"Dif = T0s*Cp/(Tau*U*Ca)\n",
"disp('From degree of reaction DOF')\n",
"disp('DOF = (1 - Ca*(tanalpha2 + tanalpha1)/2U)')\n",
"disp('0.76 = (1 - 165(tanalpha2 + tanalpha1)/(2*218))')\n",
"disp('(tanalpha2 + tanalpha1) = Add ------(B)')\n",
"Add = (1-0.76)*(2*U)/Ca\n",
"disp('Adding (A) and (B), we get')\n",
"alpha2 = atan((Add+Dif)/2)*180/%pi\n",
"alpha1 = atan((Add-Dif)/2)*180/%pi\n",
"disp('Similarly, for beta1 and beta2, degree of reaction')\n",
"disp('Add1 = tanbeta1 + tanbeta2 = 2.01')\n",
"Add1 = 2.01;\n",
"disp('and Dif1 = tanbeta1 - tanbeta2 = 0.501')\n",
"Dif1 = 0.501;\n",
"beta1 = atan((Add1+Dif1)/2)*180/%pi\n",
"beta2 = atan((Add1-Dif1)/2)*180/%pi"
   ]
   }
,
{
		   "cell_type": "markdown",
		   "metadata": {},
		   "source": [
			"## Example 5.14: Rotation_5400rpm.sce"
		   ]
		  },
  {
"cell_type": "code",
	   "execution_count": null,
	   "metadata": {
	    "collapsed": true
	   },
	   "outputs": [],
"source": [
"// Display mode\n",
"mode(0);\n",
"// Display warning for floating point exception\n",
"ieee(1);\n",
"clear;\n",
"clc;\n",
"disp('Turbomachinery Design and Theory,Rama S. R. Gorla and Aijaz A. Khan, Chapter 5, Example 14')\n",
"disp('Impeller speed is U in m/s')\n",
"rt = 0.45;//m\n",
"N = 5400;//rpm\n",
"U = 2*%pi*rt*N/60\n",
"disp('From velocity triangle')\n",
"disp('U = Ca*(tanalpha1 + tanbeta1)')\n",
"alpha1 = 28;\n",
"beta1 = 58;\n",
"Ca = U/(tan(alpha1*%pi/180)+tan(beta1*%pi/180))\n",
"disp('Flow area is A in m2')\n",
"rtip=rt;//m\n",
"rroot=0.42;//m\n",
"A = %pi*(0.45^2 - 0.42^2)\n",
"disp('Mass flow rate is m in kg/s')\n",
"rho = 1.5;//kg/m3\n",
"m = rho*A*Ca\n",
"disp('Power absorbed by the compressor P in kW')\n",
"disp(' = Tau*U(Cw2 - Cw1)')\n",
"disp(' = Tau*U*Ca*(tanalpha2-tanalpha1)')\n",
"alpha2 = beta1;\n",
"Tau = 0.93;\n",
"P = Tau*U*Ca*(tan(alpha2*%pi/180)-tan(alpha1*%pi/180))*1.001\n",
"disp('Total Power in kW')\n",
"Pt = m*P/1000*1.017\n",
"disp('and whirl velocity at impeller tip Cwt in m/s')\n",
"Cwt = Ca*tan(alpha1*%pi/180)\n",
"disp('Now using free vortex condition')\n",
"disp('r Cw = constant')\n",
"disp('[ rhCw1h = rtCw1t (where subscripts h for hub and t for tip)')\n",
"rh = 0.4;\n",
"Cw1h = rt*Cwt/rh\n",
"Cw2t = Ca*tan(alpha2*%pi/180)\n",
"Cw2h = Cw2t*rt/rh\n",
"disp('Therefore, the flow angles at the hub are')\n",
"alpha1h = atan(Cw1h/Ca)*180/%pi\n",
"Uh = 2*%pi*rh*N/60\n",
"beta1h = atan((Uh-Ca*tan(alpha1h*%pi/180))/Ca)*180/%pi\n",
"alpha2h = atan(Cw2h/Ca)*180/%pi\n",
"beta2h = atan((Uh-Ca*tan(alpha2h*%pi/180))/Ca)*180/%pi\n",
"disp('Finally, the degree of reaction at the hub is DOF in %')\n",
"DOF = Ca*(tan(beta1h*%pi/180)+tan(beta2h*%pi/180))/(2*Uh) *100"
   ]
   }
,
{
		   "cell_type": "markdown",
		   "metadata": {},
		   "source": [
			"## Example 5.15: Rotation_8000rpm.sce"
		   ]
		  },
  {
"cell_type": "code",
	   "execution_count": null,
	   "metadata": {
	    "collapsed": true
	   },
	   "outputs": [],
"source": [
"// Display mode\n",
"mode(0);\n",
"// Display warning for floating point exception\n",
"ieee(1);\n",
"clear;\n",
"clc;\n",
"disp('Turbomachinery Design and Theory,Rama S. R. Gorla and Aijaz A. Khan, Chapter 5, Example 15')\n",
"disp('Angles are in degrees, lengths in meters, velocities in m/s, temperatures are in Kelvins')\n",
"disp('Using Equation at the mean radius')\n",
"disp('Wc = Cp(DeltaTA + DeltaTB) =DeltaTS')\n",
"disp('Dif = T02-T01') \n",
"Dif = 20;\n",
"tau = 0.94;\n",
"U = 200;\n",
"Ca = 155;\n",
"Cp = 1005;\n",
"N = 8000;\n",
"disp('tan(beta1)-tan(beta2) = Dift ------(A)')\n",
"Dift = Dif*Cp/(tau*U*Ca)\n",
"disp('Using Equation, the degree of reaction (DOF) is')\n",
"disp('DOF = Ca*(tan(beta1)+tan(beta2))/(2U)')\n",
"disp('tan(beta1)+tan(beta2) = Add ------(B)')\n",
"DOF = 0.5;\n",
"Add = DOF*2*U/Ca\n",
"disp('Solving (A) and (B) equations simultaneously')\n",
"beta1 = atan((Add+Dift)/2)*180/%pi\n",
"alpha2 = beta1;\n",
"beta2 = atan(1.29-tan(beta1*%pi/180))*180/%pi\n",
"alpha1 = beta2;\n",
"disp('Let rm be the mean radius')\n",
"rm = U/(2*%pi*N)//m\n",
"disp('Using continuity equation in order to find the annulus area of flow')\n",
"C1 = Ca/cos(alpha1*%pi/180)//m/s\n",
"T01 = 290;\n",
"T1 = T01-C1^2 /(2*Cp)\n",
"disp('Using isentropic relationship at inlet: p1/p01 = (T1/T01)^(gamma/(gamma-1))')\n",
"disp('Static pressure is P1 in bars')\n",
"P01 = 1;\n",
"P1 = P01*(T1/T01)^3.5\n",
"disp('Density in kg/m3')\n",
"R = 287;\n",
"rho1 = P1/(R*T1) *10^5\n",
"disp('From the continuity equation,')\n",
"m = 22;//kg\n",
"A = m/(rho1*Ca)\n",
"disp('blade height in m is')\n",
"h = A/(2*%pi*rm)\n",
"disp('At mean radius, and noting that blades beta, an equivalent to cascade, alpha, nominal air deflection is Epsilon')\n",
"Epsilon = beta1-beta2\n",
"disp('Using Fig. Ex515 for cascade nominal deflection vs. air outlet angle, the solidity,')\n",
"disp('s/c = 0.5')\n",
"disp('Blade aspect ratio = span/chord')\n",
"disp('Blade chord = C')\n",
"C = 0.089/3\n",
"disp('Blade pitch = s')\n",
"s = 0.5*C\n",
"disp('Both the Chord and pitch/span are in meters')"
   ]
   }
,
{
		   "cell_type": "markdown",
		   "metadata": {},
		   "source": [
			"## Example 5.1: Work_of_compressio.sce"
		   ]
		  },
  {
"cell_type": "code",
	   "execution_count": null,
	   "metadata": {
	    "collapsed": true
	   },
	   "outputs": [],
"source": [
"// Display mode\n",
"mode(0);\n",
"// Display warning for floating point exception\n",
"ieee(1);\n",
"clear;\n",
"clc;\n",
"disp('Turbomachinery Design and Theory,Rama S. R. Gorla and Aijaz A. Khan, Chapter 5, Example 1')\n",
"T01 = 292;//K\n",
"P01 = 1;//bar\n",
"etac = 0.85;\n",
"disp('Using the isentropic P–T relation for compression processes,')\n",
"disp('Ratio = P02/P01 = (T02a/T01)^(gamma/(gamma-1))')\n",
"disp('where T02a is the isentropic temperature at the outlet. Therefore,')\n",
"Ratio = 9.5;\n",
"T02a = T01*(Ratio)^0.286//Kelvin\n",
"disp('Now, using isentropic efficiency of the compressor in order to find the actual temperature at the outlet,')\n",
"T02 = T01 + (T02a - T01)/etac\n",
"disp('Work of compression: in kJ/kg')\n",
"Cp = 1.005;\n",
"Wc = Cp*(T02-T01)"
   ]
   }
,
{
		   "cell_type": "markdown",
		   "metadata": {},
		   "source": [
			"## Example 5.2: One_stage_compressor.sce"
		   ]
		  },
  {
"cell_type": "code",
	   "execution_count": null,
	   "metadata": {
	    "collapsed": true
	   },
	   "outputs": [],
"source": [
"// Display mode\n",
"mode(0);\n",
"// Display warning for floating point exception\n",
"ieee(1);\n",
"clear;\n",
"clc;\n",
"disp('Turbomachinery Design and Theory,Rama S. R. Gorla and Aijaz A. Khan, Chapter 5, Example 2')\n",
"disp('The stage pressure ratio is given by:')\n",
"disp('Rs = (1+etas*deltaT0s/T01)^(gamma/(gamma-1))')\n",
"Rs = 1.22;\n",
"DeltaT0s = 21;\n",
"T01 = 288;//Kelvin\n",
"etas = (Rs^(1/3.5) - 1)*T01/DeltaT0s *100\n",
"disp('The rotor speed is given by:')\n",
"U = 200;//m/s\n",
"N = 4500;//rpm\n",
"D = 60*U/(%pi*N)"
   ]
   }
,
{
		   "cell_type": "markdown",
		   "metadata": {},
		   "source": [
			"## Example 5.3: Compressor_5000rpm.sce"
		   ]
		  },
  {
"cell_type": "code",
	   "execution_count": null,
	   "metadata": {
	    "collapsed": true
	   },
	   "outputs": [],
"source": [
"// Display mode\n",
"mode(0);\n",
"// Display warning for floating point exception\n",
"ieee(1);\n",
"clear;\n",
"clc;\n",
"disp('Turbomachinery Design and Theory,Rama S. R. Gorla and Aijaz A. Khan, Chapter 5, Example 3')\n",
"disp('Rotor speed is given by:')\n",
"D = 0.95;//m\n",
"N = 5000;//rpm\n",
"U = %pi*D*N/60\n",
"disp('Blade speed at the hub:')\n",
"Dh = 0.85;\n",
"Uh = %pi*Dh*N/60\n",
"disp('From the inlet velocity triangle (Figure)')\n",
"disp('tanalpha1 = Cw1/Ca and tanbeta1 = (U - Cw1)/Ca')\n",
"disp('Adding the above two equations:')\n",
"disp('U/Ca = tanalpha1 + tanbeta1')\n",
"alpha1 = 28;\n",
"beta1 = 56;\n",
"Ca = U/(tan(alpha1*%pi/180) + tan(beta1*%pi/180))\n",
"disp('Therefore, Ca = 123.47 m/s (constant at all radii)')\n",
"disp('The mass flow rate: in kg/s')\n",
"disp('m = pi*(rt^2 - rh^2)rho*Ca')\n",
"rt = 0.475;\n",
"rh = 0.425;\n",
"rho = 1.2;\n",
"m = %pi*rho*Ca*(rt^2 -rh^2)\n",
"disp('The power required per unit kg for compression is:')\n",
"disp('Wc = lambda*U*Ca*(tan(beta1) - tan(beta2)) in kJ/kg')\n",
"lambda = 1;\n",
"beta2 = alpha1;\n",
"Wc = lambda*U*Ca*(tan(beta1*%pi/180) - tan(beta2*%pi/180)) /1000\n",
"disp('The total power required to drive the compressor is: in kW')\n",
"P = m*Wc\n",
"disp('At the inlet to the rotor tip:')\n",
"Cw1t = Ca*tan(alpha1*%pi/180)//m/s\n",
"disp('Using free vortex condition, i.e., Cwr = constant, and using h as the subscript for the hub,')\n",
"Cw1h = Cw1t*rt/rh//m/s\n",
"disp('At the outlet to the rotor tip,')\n",
"alpha2 = beta1;\n",
"Cw2t = Ca *tan(alpha2*%pi/180)\n",
"Cw2h = Cw2t*rt/rh\n",
"disp('Hence the flow angles at the hub:')\n",
"alpha1a = atan(Cw1h/Ca)*180/%pi \n",
"beta1a = atan((Uh/Ca) - tan(alpha1a*%pi/180))*180/%pi\n",
"alpha2a = atan(Cw2h/Ca)*180/%pi\n",
"beta2a = atan((Uh/Ca)  - tan(alpha2a*%pi/180)) *180/%pi\n",
"disp('The degree of reaction at the hub is given by:')\n",
"A = Ca*(tan(beta1a*%pi/180)+tan(beta2a*%pi/180))/(2*Uh) * 100"
   ]
   }
,
{
		   "cell_type": "markdown",
		   "metadata": {},
		   "source": [
			"## Example 5.4: Stage_air_angles_for_vortex.sce"
		   ]
		  },
  {
"cell_type": "code",
	   "execution_count": null,
	   "metadata": {
	    "collapsed": true
	   },
	   "outputs": [],
"source": [
"// Display mode\n",
"mode(0);\n",
"// Display warning for floating point exception\n",
"ieee(1);\n",
"clear;\n",
"clc;\n",
"disp('Turbomachinery Design and Theory,Rama S. R. Gorla and Aijaz A. Khan, Chapter 5, Example 4')\n",
"disp('Calculation at mean radius:')\n",
"disp('Wc = U(Cw2 - Cw1) = U*DeltaCw')\n",
"disp('or')\n",
"disp(' Cp(T02 - T01) = CpDeltaT0s = lambda*U*DeltaCw')\n",
"Cp = 1005;\n",
"DeltaT0s = 15;\n",
"lambda = 0.85;\n",
"Um = 185;\n",
"DeltaCw = Cp*DeltaT0s/(lambda*Um)\n",
"disp('Since the degree of reaction (Fig. 5.14) at the mean radius is 50%, alpha1 = beta2, and alpha2 = beta1. From the velocity triangle at the mean,')\n",
"disp('Um = DeltaCw + 2Cw1')\n",
"disp('Cw1 in m/s alpha1 in degrees')\n",
"Cw1 = (Um - DeltaCw)/2//m/s\n",
"Ca = 140;\n",
"alpha1 = atan(Cw1/Ca)*180/%pi\n",
"beta2 = alpha1\n",
"beta1 = atan((DeltaCw + Cw1)/Ca)*180/%pi\n",
"alpha2 = beta1\n",
"disp('Calculation at the blade tip: Using the free vortex diagram (Fig. 5.15), Velocity in m/s')\n",
"disp('(DeltaCw * U)t = (DeltaCw * U)m')\n",
"Ut = 240;\n",
"DeltaCwt =DeltaCw*Um/Ut\n",
"Cwt = Cw1*Um/Ut\n",
"alpha1t = atan(Cwt/Ca)*180/%pi\n",
"disp('From the velocity triangle at the tip, x2 + DeltaCwt + Cwt = Ut')\n",
"x2 = Ut-DeltaCwt - Cwt\n",
"beta1t = atan((DeltaCwt+x2)/Ca)*180/%pi\n",
"alpha2t = atan((Cwt+DeltaCwt)/Ca)*180/%pi\n",
"beta2t = atan(x2/Ca)*180/%pi\n",
"disp('Calculation at the blade root: (DeltaCwr * U)r = (DetaCw * U)m')\n",
"Ur = Ca;\n",
"DeltaCwr = DeltaCw*Um/Ur\n",
"Cwr = Cw1*Um/Ur\n",
"Cw2tip = Ca*tan(alpha2t*%pi/180)\n",
"Cw2root = Cw2tip*Ut/Ur\n",
"alpha1r = atan(Cwr/Ca)*180/%pi\n",
"x3 = Cw2root-Ur\n",
"beta1r = atan((Ur-Cwr)/Ca)*180/%pi\n",
"alpha2r = atan(Cw2root/Ca)*180/%pi\n",
"beta2r = -atan(x3/Ca)*180/%pi"
   ]
   }
,
{
		   "cell_type": "markdown",
		   "metadata": {},
		   "source": [
			"## Example 5.5: Degree_of_reaction_for_Ex54.sce"
		   ]
		  },
  {
"cell_type": "code",
	   "execution_count": null,
	   "metadata": {
	    "collapsed": true
	   },
	   "outputs": [],
"source": [
"// Display mode\n",
"mode(0);\n",
"// Display warning for floating point exception\n",
"ieee(1);\n",
"clear;\n",
"clc;\n",
"disp('Turbomachinery Design and Theory,Rama S. R. Gorla and Aijaz A. Khan, Chapter 5, Example 5')\n",
"disp('DOF -> Degree of Freedom')\n",
"disp('Reaction at the blade root:')\n",
"Ca = 140;\n",
"beta1r = 30.08;\n",
"beta2r = -18;\n",
"Ur = 140;\n",
"DOFroot =Ca*(tan(beta1r*%pi/180)+tan(beta2r*%pi/180))/(2*Ur) *100\n",
"disp('Reaction at the blade tip:')\n",
"Ut = 240;\n",
"beta1t= 55.75;\n",
"beta2t = 43.26;\n",
"DOFtip =Ca*(tan(beta1t*%pi/180)+tan(beta2t*%pi/180))/(2*Ut)*100"
   ]
   }
,
{
		   "cell_type": "markdown",
		   "metadata": {},
		   "source": [
			"## Example 5.6: Temperature_rise_in_first_stage.sce"
		   ]
		  },
  {
"cell_type": "code",
	   "execution_count": null,
	   "metadata": {
	    "collapsed": true
	   },
	   "outputs": [],
"source": [
"// Display mode\n",
"mode(0);\n",
"// Display warning for floating point exception\n",
"ieee(1);\n",
"clear;\n",
"clc;\n",
"disp('Turbomachinery Design and Theory,Rama S. R. Gorla and Aijaz A. Khan, Chapter 5, Example 6')\n",
"disp('Since the degree of reaction is 50%, the velocity triangle is symmetric as shown in Figure Ex56')\n",
"disp('Using the degree of reaction equation')\n",
"disp('DOF = Ca(tanbeta1 + tanbeta2)/2U')\n",
"disp('phi = Ca/U')\n",
"disp('Now, for the relative Mach number at the inlet:')\n",
"DOF = 0.5;\n",
"phi = 0.56;\n",
"beta1 = atan(2*DOF/phi - tan(32*%pi/180))*180/%pi\n",
"disp('Mr1 = V1/(gamma*RT1)^0.5')\n",
"disp('V1^2 = gamma*R*Mr1^2*(T01 - C1^2/2Cp)')\n",
"disp('From the velocity triangle,')\n",
"disp('V1 = Ca/cosbeta1; and C1 = Ca/cosalpha1')\n",
"disp('alpha1 = beta2(since DOF = 0.5)')\n",
"disp('C1 = Ca/cos32 = Ca/0.848')\n",
"disp('V1 = Ca/cos 49.24 = Ca/0.653')\n",
"disp('Hence: C1^2/ = Ca^2/0.719; and V1^2 = Ca^2/0.426')\n",
"disp('Substituting for V1 and C1,')\n",
"Ca = ((104.41*295*1445)/(1445+104.41))^0.5\n",
"disp('The stagnation temperature rise may be calculated as: Rise in Kelvin = T02-T01')\n",
"Cp = 1005;\n",
"Rise = Ca^2*(tan(beta1*%pi/180)- tan(32*%pi/180))/(Cp*phi)"
   ]
   }
,
{
		   "cell_type": "markdown",
		   "metadata": {},
		   "source": [
			"## Example 5.7: Rpm_152_rps.sce"
		   ]
		  },
  {
"cell_type": "code",
	   "execution_count": null,
	   "metadata": {
	    "collapsed": true
	   },
	   "outputs": [],
"source": [
"// Display mode\n",
"mode(0);\n",
"// Display warning for floating point exception\n",
"ieee(1);\n",
"clear;\n",
"clc;\n",
"disp('Turbomachinery Design and Theory,Rama S. R. Gorla and Aijaz A. Khan, Chapter 5, Example 7')\n",
"disp('The following equation provides the relationship between the temperature rise and the desired angles:')\n",
"disp('T02 - T01 = lambda*U*Ca*(tan(beta1) - tan(beta2))/Cp')\n",
"disp('T02-T01 = Rise')\n",
"Rise = 24;\n",
"lambda = 0.93;\n",
"U = 205;\n",
"Ca = 155.5;\n",
"Cp = 1005;\n",
"disp('Dif = tan(beta1) - tan(beta2)')\n",
"Dif = Rise*Cp/(U*lambda*Ca)\n",
"disp('Using the degree of reaction equation:')\n",
"disp('DOF = Ca*(tan(beta1) + tan(beta2))/(2*U)')\n",
"disp('tan(beta1) + tan(beta2) = Add')\n",
"DOF = 0.5;\n",
"Add = DOF*2*U/Ca\n",
"beta1 = atan((Add+Dif)/2)*180/%pi\n",
"alpha2 = beta1\n",
"beta2 = atan(Add - tan(beta1*%pi/180))*180/%pi\n",
"alpha1 = beta2\n",
"disp('The mean radius, rm, is given by: in m')\n",
"N = 152;//rpm\n",
"rm = U/(2*%pi*N)\n",
"disp('The blade height, h in m, is given by: m = rho*ACa, where A is the annular area of the flow.')\n",
"C1 = Ca/cos(alpha1*%pi/180)\n",
"T01 = 290;\n",
"disp('Static temperature in kelvin')\n",
"T1 = T01- C1^2 /(2*Cp)\n",
"disp('Using the isentropic P–T relation:')\n",
"disp('Static pressure: P1 in bars')\n",
"P01 = 1;\n",
"P1 = P01*(T1/T01)^3.5\n",
"R = 287/1000;\n",
"disp('Density rho1 in kg/m3')\n",
"rho1 = P1/(R*T1) * 100\n",
"disp('From the continuity equation:')\n",
"m = 22;\n",
"A = m/(rho1*Ca)\n",
"disp('and the blade height:')\n",
"rm = 0.215;\n",
"h =A/(2*%pi*rm)"
   ]
   }
,
{
		   "cell_type": "markdown",
		   "metadata": {},
		   "source": [
			"## Example 5.8: polytropic_efficiency_87.sce"
		   ]
		  },
  {
"cell_type": "code",
	   "execution_count": null,
	   "metadata": {
	    "collapsed": true
	   },
	   "outputs": [],
"source": [
"// Display mode\n",
"mode(0);\n",
"// Display warning for floating point exception\n",
"ieee(1);\n",
"clear;\n",
"clc;\n",
"disp('Turbomachinery Design and Theory,Rama S. R. Gorla and Aijaz A. Khan, Chapter 5, Example 8')\n",
"disp('Since the degree of reaction at the mean radius is 50%, alpha1 = beta2 and alpha2 = beta1. From the velocity triangles, the relative outlet velocity component in the x-direction is given by:')\n",
"Ca = 158;\n",
"beta2 = 30;\n",
"Vx2 = Ca*tan(beta2*%pi/180)\n",
"disp('V1 = C2 = (U - Vx2)^2 + Ca^2)^1/2')\n",
"U = 245;\n",
"Vx2 = 91.22;\n",
"Ca = 158;\n",
"C2 = ((U - Vx2)^2 + Ca^2)^0.5\n",
"V1 = C2\n",
"beta1 = acos(Ca/V1)*180/%pi\n",
"disp('Stagnation temperature rise in the stage, in Kelvin')\n",
"disp('DeltaT0s = UCa(tanbeta1 - tanbeta2)/Cp')\n",
"Cp = 1005;\n",
"DeltaT0s = U*Ca*(tan(beta1*%pi/180) - tan(beta2*%pi/180))/Cp\n",
"disp('n /(n-1) = inf * gamma/(gamm-1 = 3.05)')\n",
"disp('Number of stages')\n",
"N = (4.5^(1/3.05) -1)*290/DeltaT0s\n",
"disp('implies N = 12 stages')"
   ]
   }
,
{
		   "cell_type": "markdown",
		   "metadata": {},
		   "source": [
			"## Example 5.9: Rotor_speed_200.sce"
		   ]
		  },
  {
"cell_type": "code",
	   "execution_count": null,
	   "metadata": {
	    "collapsed": true
	   },
	   "outputs": [],
"source": [
"// Display mode\n",
"mode(0);\n",
"// Display warning for floating point exception\n",
"ieee(1);\n",
"clear;\n",
"clc;\n",
"disp('Turbomachinery Design and Theory,Rama S. R. Gorla and Aijaz A. Khan, Chapter 5, Example 9')\n",
"disp('For 50% degree of reaction at the mean radius (Fig. Ex59), alpha1 = beta2 and alpha2 = beta1.')\n",
"disp('From the inlet velocity triangle,')\n",
"Ca = 180;\n",
"C1 = 185;\n",
"Cp = 1005;\n",
"alpha1 = acos(Ca/C1)*180/%pi\n",
"beta2 = alpha1\n",
"disp('From the same velocity triangle,')\n",
"Cw1 = (C1^2 - Ca^2)^0.5\n",
"U = 200;\n",
"beta1 = atan((U-Cw1)/Ca)*180/%pi\n",
"alpha2 = beta1\n",
"disp('Static temperature at stage inlet may be determined by using stagnation and static temperature relationship as given below: in Kelvin')\n",
"T01 = 290;\n",
"T1 = T01 - C1^2/(2*Cp)\n",
"disp('Stagnation temperature rise of the stage is given by')\n",
"lambda = 0.86;\n",
"DeltaT0s = lambda*U*Ca*(tan(beta1*%pi/180)-tan(beta2*%pi/180))/Cp\n",
"disp('Stage pressure ratio is given by')\n",
"etas = 0.86;\n",
"Rs = (1+ etas*DeltaT0s/T01)^3.5\n",
""
   ]
   }
],
"metadata": {
		  "kernelspec": {
		   "display_name": "Scilab",
		   "language": "scilab",
		   "name": "scilab"
		  },
		  "language_info": {
		   "file_extension": ".sce",
		   "help_links": [
			{
			 "text": "MetaKernel Magics",
			 "url": "https://github.com/calysto/metakernel/blob/master/metakernel/magics/README.md"
			}
		   ],
		   "mimetype": "text/x-octave",
		   "name": "scilab",
		   "version": "0.7.1"
		  }
		 },
		 "nbformat": 4,
		 "nbformat_minor": 0
}
