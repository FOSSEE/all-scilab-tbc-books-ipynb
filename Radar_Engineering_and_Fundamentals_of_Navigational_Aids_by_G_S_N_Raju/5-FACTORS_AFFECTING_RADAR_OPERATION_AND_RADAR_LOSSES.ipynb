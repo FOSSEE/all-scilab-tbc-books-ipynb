{
"cells": [
 {
		   "cell_type": "markdown",
	   "metadata": {},
	   "source": [
       "# Chapter 5: FACTORS AFFECTING RADAR OPERATION AND RADAR LOSSES"
	   ]
	},
{
		   "cell_type": "markdown",
		   "metadata": {},
		   "source": [
			"## Example 5.1: FINDING_RCS.sce"
		   ]
		  },
  {
"cell_type": "code",
	   "execution_count": null,
	   "metadata": {
	    "collapsed": true
	   },
	   "outputs": [],
"source": [
"//Chapter-5 example 1\n",
"//=============================================================================\n",
"clc;\n",
"clear;\n",
"//input data\n",
"mprintf('mathematically ellipsoid is represented by \n((x/a)^2)+((y/b)^2)+((z/c)^2) = 1\n ');\n",
"mprintf('\nThe approximate expression for ellipsoid backscattered RCS is given by\n ');\n",
"mprintf('\nσ =(π*a^2 b^2 c^2)/[ a^2 (sinθ)^2 (cosɸ)^2+ b^2 (sinθ)^2 (sinɸ)^2+c^2 (cosθ)^2 ]^2\n');\n",
"mprintf('\nif a = b ,the ellipsoid becomes Roll symmetric,above eqn becomes\n');\n",
"mprintf('\nσ = (π* b^4 c^2)/[ a^2 (sinθ)^2 + c^2 (cosθ)^2 ]^2\n');\n",
"\n",
"//===============end of the program============================================"
   ]
   }
,
{
		   "cell_type": "markdown",
		   "metadata": {},
		   "source": [
			"## Example 5.4: FINDING_RCS.sce"
		   ]
		  },
  {
"cell_type": "code",
	   "execution_count": null,
	   "metadata": {
	    "collapsed": true
	   },
	   "outputs": [],
"source": [
"//Chapter-5 example 4\n",
"//=============================================================================\n",
"clc;\n",
"clear;\n",
"//input data\n",
"lamda  = 0.03;//wavelength in m\n",
"Pt     = 250*10^3;//transmitter power\n",
"G      = 2000;//antenna gain\n",
"R      = 50*10^3;//maximum range\n",
"Pr     = 10*10^-12;//minimum detectable power\n",
"//Calculations\n",
"Ae     = (lamda*lamda*G)/(4*%pi);//effective aperture area\n",
"RCS    = (Pr*(4*%pi*R*R)^2)/(Pt*G*Ae);//Radar cross section of the target\n",
"\n",
"//output\n",
"mprintf('Radar cross section of the target is %3.2f m^2',RCS);\n",
"\n",
"//================end of the program==========================================="
   ]
   }
],
"metadata": {
		  "kernelspec": {
		   "display_name": "Scilab",
		   "language": "scilab",
		   "name": "scilab"
		  },
		  "language_info": {
		   "file_extension": ".sce",
		   "help_links": [
			{
			 "text": "MetaKernel Magics",
			 "url": "https://github.com/calysto/metakernel/blob/master/metakernel/magics/README.md"
			}
		   ],
		   "mimetype": "text/x-octave",
		   "name": "scilab",
		   "version": "0.7.1"
		  }
		 },
		 "nbformat": 4,
		 "nbformat_minor": 0
}
