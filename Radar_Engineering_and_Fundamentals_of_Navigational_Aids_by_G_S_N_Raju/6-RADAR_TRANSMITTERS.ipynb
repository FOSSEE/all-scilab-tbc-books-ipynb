{
"cells": [
 {
		   "cell_type": "markdown",
	   "metadata": {},
	   "source": [
       "# Chapter 6: RADAR TRANSMITTERS"
	   ]
	},
{
		   "cell_type": "markdown",
		   "metadata": {},
		   "source": [
			"## Example 6.10: FINDING_MIN_OPERATING_GUNN_DIODE_VOLTAGE.sce"
		   ]
		  },
  {
"cell_type": "code",
	   "execution_count": null,
	   "metadata": {
	    "collapsed": true
	   },
	   "outputs": [],
"source": [
"//Chapter-6 example 10\n",
"//=============================================================================\n",
"clc;\n",
"clear;\n",
"//input data\n",
"l  = 2.5*10^-6;//Drift length of gunn diode in m\n",
"Vd = 2*10^8;//Drift velocity in gun diode\n",
"Vgmin = 3.3*10^3;//minimum voltage gradient required to start the diode\n",
"//Calculations\n",
"Vmin  = Vgmin*l;\n",
"\n",
"//output\n",
"mprintf('Minimum Voltage required to operate gunn diode is %g mV',Vmin*10^3);\n",
"//=============end of the program==============================================="
   ]
   }
,
{
		   "cell_type": "markdown",
		   "metadata": {},
		   "source": [
			"## Example 6.1: FINDING_MAX_POWER.sce"
		   ]
		  },
  {
"cell_type": "code",
	   "execution_count": null,
	   "metadata": {
	    "collapsed": true
	   },
	   "outputs": [],
"source": [
"//Chapter-6 example 1\n",
"//=============================================================================\n",
"clc;\n",
"clear;\n",
"//input data\n",
"F     = 9*10^9;//Reflex Klystron operating frequency in hz\n",
"Va    = 300;//beam voltage in volts\n",
"I     = 20;//Beam current in mA\n",
"n     = 1;// for 7/4 mode\n",
"\n",
"//Calculations\n",
"//transit time for reflector space = n+3/4\n",
"I1        = I*10^-3;//beam current in mA\n",
"Prfmax    = (0.3986*I1*Va)/(n+3/4);//maximum RF power\n",
"//Output\n",
"mprintf('Maximum R-F power is %3.3f Watts',Prfmax);\n",
"\n",
"//=============end of the program=============================================="
   ]
   }
,
{
		   "cell_type": "markdown",
		   "metadata": {},
		   "source": [
			"## Example 6.2: FINDING_GAIN_PARAMETER_OUTPUT_POWER_GAIN_AND_Be.sce"
		   ]
		  },
  {
"cell_type": "code",
	   "execution_count": null,
	   "metadata": {
	    "collapsed": true
	   },
	   "outputs": [],
"source": [
"//Chapter-6 example 2\n",
"//=============================================================================\n",
"clc;\n",
"clear;\n",
"//input data\n",
"Vdc   = 2.5*10^3;//Beam voltage\n",
"Idc   = 25*10^-3;//beam current in A;\n",
"Zo    = 10;//charecteristic impedance \n",
"F     = 9.5*10^9;//TWT operating frequency in hz\n",
"N     = 40;//circuit length\n",
"\n",
"//Calculations\n",
"C     = ((Idc*Zo)/(4*Vdc))^(1/3);//gain parameter\n",
"Ap     = -9.54+(47.3*N*C);//Output power gain of twt\n",
"w     = 2*%pi*F;\n",
"vdc   = 0.593*10^6*sqrt(Vdc);\n",
"Be    = w/vdc;\n",
"//Output\n",
"mprintf('Gain parameter is %3.3f\n Output Power gain is %3.3f dB\n phase constant of electron beam is %e rad/m',C,Ap,Be);\n",
"\n",
"//=============end of the program=============================================="
   ]
   }
,
{
		   "cell_type": "markdown",
		   "metadata": {},
		   "source": [
			"## Example 6.3: FINDING_CYCLOTRON_ANGULAR_FREQ_AND_CUTOFF_VOLTAGE.sce"
		   ]
		  },
  {
"cell_type": "code",
	   "execution_count": null,
	   "metadata": {
	    "collapsed": true
	   },
	   "outputs": [],
"source": [
"//Chapter-6 example 3\n",
"//=============================================================================\n",
"clc;\n",
"clear;\n",
"//input data\n",
"e   = 1.609*10^-19;//charge of electron\n",
"me  = 9.109*10^-31;//mass of electron in kg\n",
"B   = 0.40;//magnetic flux density\n",
"b   = 10*10^-2;//Radius of vane edge from the centre\n",
"a   = 4*10^-2;//radius of cathode\n",
"\n",
"//Calculations\n",
"Wc  = (e/me)*B;//cyclotron angular frequency in radians\n",
"Vc  = (e/(8*me))*(B^2)*(b^2)*(1-(a/b)^2)^2;//cut-off voltage\n",
"//Output\n",
"mprintf('Cyclotron Angular Frequency is %g rad\n Cut-off voltage is %g V\n',Wc,Vc);\n",
"mprintf(' Note:Cut-off voltage obtained in textbook is wrongly calculated.Instead of (a/b)^2 ,(a/b) is calculated');\n",
"\n",
"//=============end of the program=============================================="
   ]
   }
,
{
		   "cell_type": "markdown",
		   "metadata": {},
		   "source": [
			"## Example 6.4: FINDING_ELECTRON_VELOCITY_TRANSIT_ANGLE_AND_BEAM_COUPLING_COEFFICIENT.sce"
		   ]
		  },
  {
"cell_type": "code",
	   "execution_count": null,
	   "metadata": {
	    "collapsed": true
	   },
	   "outputs": [],
"source": [
"//Chapter-6 example 4\n",
"//=============================================================================\n",
"clc;\n",
"clear;\n",
"//input data\n",
"Va  = 900 ;//Accelarating voltage in volts\n",
"F   = 3.2*10^9;//operating frequency\n",
"d   = 10^-3;\n",
"//Calculations\n",
"Ve  = (0.593*10^6)*sqrt(Va);//electron velocity\n",
"w   = 2*%pi*F;\n",
"theta  = w*(d/Ve);//transit angle in radians\n",
"Be  = sin(theta/2)/(theta/2);//Beam Coupling Co-efficient\n",
"//output\n",
"mprintf('Electron Velocity is %g m/s\n Transit Angle is %g rad\n Beam Coupling Co-efficient is %3.3f ',Ve,theta,Be);\n",
"//=============end of the program==============================================="
   ]
   }
,
{
		   "cell_type": "markdown",
		   "metadata": {},
		   "source": [
			"## Example 6.5: FINDING_EFFICIENCY.sce"
		   ]
		  },
  {
"cell_type": "code",
	   "execution_count": null,
	   "metadata": {
	    "collapsed": true
	   },
	   "outputs": [],
"source": [
"//Chapter-6 example 5\n",
"//=============================================================================\n",
"clc;\n",
"clear;\n",
"//input data\n",
"I2  = 28*10^-3 ;//induced current in amperes\n",
"V2  = 850;   //fundamental component of catcher-gap voltage\n",
"Vb  = 900;   //beam voltage\n",
"Ib  = 26*10^-3;//beam current\n",
"Bc  = 0.946;//beam coupling coefficient of catcher gap\n",
"//Calculations\n",
"n   = ((Bc*I2*V2)/(2*Ib*Vb))*100;//efficiency of klystron\n",
"//output\n",
"mprintf('Efficiency of the klystron is %g \n',n);\n",
"mprintf(' Note:In textbook Bc value is taken as 0.946 in calculation')\n",
"//=============end of the program==============================================="
   ]
   }
,
{
		   "cell_type": "markdown",
		   "metadata": {},
		   "source": [
			"## Example 6.6: FINDING_FREQ_OF_IMPATT_DIODE.sce"
		   ]
		  },
  {
"cell_type": "code",
	   "execution_count": null,
	   "metadata": {
	    "collapsed": true
	   },
	   "outputs": [],
"source": [
"//Chapter-6 example 6\n",
"//=============================================================================\n",
"clc;\n",
"clear;\n",
"//input data\n",
"Vd   = 2.2*10^5;//Carrier Drift Velocity in m/s\n",
"l    = 5*10^-6;//drift region length\n",
"//Calculations\n",
"F    = Vd/(2*l);//frequency of IMPATT Diode\n",
"//output\n",
"mprintf('Frequency of IMPATT Diode is %g Ghz',F/10^9);\n",
"//=============end of the program==============================================="
   ]
   }
,
{
		   "cell_type": "markdown",
		   "metadata": {},
		   "source": [
			"## Example 6.7: FINDING_FREQ_OF_IMPATT_DIODE.sce"
		   ]
		  },
  {
"cell_type": "code",
	   "execution_count": null,
	   "metadata": {
	    "collapsed": true
	   },
	   "outputs": [],
"source": [
"//Chapter-6 example 7\n",
"//=============================================================================\n",
"clc;\n",
"clear;\n",
"//input data\n",
"Vd   = 3*10^5;//Carrier Drift Velocity in m/s\n",
"l    = 7*10^-6;//drift region length\n",
"//Calculations\n",
"F    = Vd/(2*l);//frequency of IMPATT Diode\n",
"//output\n",
"mprintf('Frequency of IMPATT Diode is %3.2f Ghz',F/10^9);\n",
"//=============end of the program==============================================="
   ]
   }
,
{
		   "cell_type": "markdown",
		   "metadata": {},
		   "source": [
			"## Example 6.8: FINDING_AVALANCHE_ZONE_VELOCTY.sce"
		   ]
		  },
  {
"cell_type": "code",
	   "execution_count": null,
	   "metadata": {
	    "collapsed": true
	   },
	   "outputs": [],
"source": [
"//Chapter-6 example 8\n",
"//=============================================================================\n",
"clc;\n",
"clear;\n",
"//input data\n",
"Na   = 1.8*10^15;//Doping Concentration \n",
"J    = 25*10^3;//current density in A/cm^2\n",
"q    = 1.6*10^-19;//charge of electron\n",
"//Calculations\n",
"Vaz  = J/(q*Na);//Avalanche Zone Velocity\n",
"//output\n",
"mprintf('Avalanche Zone Velocity of TRAPATT is %g\n',Vaz);\n",
"mprintf(' Note: wrong calculation done in Textbook');\n",
"//=============end of the program==============================================="
   ]
   }
,
{
		   "cell_type": "markdown",
		   "metadata": {},
		   "source": [
			"## Example 6.9: FINDING_FREQ_OG_GUNN_DIODE_OSCILLATOR.sce"
		   ]
		  },
  {
"cell_type": "code",
	   "execution_count": null,
	   "metadata": {
	    "collapsed": true
	   },
	   "outputs": [],
"source": [
"//Chapter-6 example 9\n",
"//=============================================================================\n",
"clc;\n",
"clear;\n",
"//input data\n",
"l  = 12*10^-3;//gunn diode oscillator length in m\n",
"Vd = 2*10^8;//Drift velocity in gunn diode\n",
"//Calculations\n",
"F  = Vd/l;//Frequency of Gunn Diode Oscillator\n",
"//output\n",
"mprintf('Frequency of Gunn Diode Oscillator is %3.2f Ghz',F/10^9');\n",
"\n",
"//=============end of the program==============================================="
   ]
   }
],
"metadata": {
		  "kernelspec": {
		   "display_name": "Scilab",
		   "language": "scilab",
		   "name": "scilab"
		  },
		  "language_info": {
		   "file_extension": ".sce",
		   "help_links": [
			{
			 "text": "MetaKernel Magics",
			 "url": "https://github.com/calysto/metakernel/blob/master/metakernel/magics/README.md"
			}
		   ],
		   "mimetype": "text/x-octave",
		   "name": "scilab",
		   "version": "0.7.1"
		  }
		 },
		 "nbformat": 4,
		 "nbformat_minor": 0
}
