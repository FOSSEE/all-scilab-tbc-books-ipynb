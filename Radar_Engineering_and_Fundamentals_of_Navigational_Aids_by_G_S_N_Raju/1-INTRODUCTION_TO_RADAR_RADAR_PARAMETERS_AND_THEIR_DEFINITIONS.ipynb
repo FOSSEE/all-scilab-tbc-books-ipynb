{
"cells": [
 {
		   "cell_type": "markdown",
	   "metadata": {},
	   "source": [
       "# Chapter 1: INTRODUCTION TO RADAR RADAR PARAMETERS AND THEIR DEFINITIONS"
	   ]
	},
{
		   "cell_type": "markdown",
		   "metadata": {},
		   "source": [
			"## Example 1.1: PEAK_POWER_DUTY_CYCLE.sce"
		   ]
		  },
  {
"cell_type": "code",
	   "execution_count": null,
	   "metadata": {
	    "collapsed": true
	   },
	   "outputs": [],
"source": [
"//Chapter-1, Example 1.1, Page 34\n",
"//=============================================================================\n",
"clc;\n",
"clear;\n",
"\n",
"//INPUT DATA\n",
"PRF= 1000;//pulse repetitive frequency in Hz\n",
"PW = 2*10^-6;//pulse width 2us\n",
"Pav=100;//average power in watts\n",
"\n",
"//Calculations\n",
"\n",
"Ppeak = (Pav)/(PW*PRF);//Peak power in watts\n",
"D     = Pav/Ppeak;//Duty cycle\n",
"\n",
"//Output\n",
"mprintf('Peak power is %g KW\n Duty cycle is %e',Ppeak/1000,D);"
   ]
   }
,
{
		   "cell_type": "markdown",
		   "metadata": {},
		   "source": [
			"## Example 1.2: FINDING_PRT_PW.sce"
		   ]
		  },
  {
"cell_type": "code",
	   "execution_count": null,
	   "metadata": {
	    "collapsed": true
	   },
	   "outputs": [],
"source": [
"//Chapter-1, Example 1.2, Page 35\n",
"//=============================================================================\n",
"clc;\n",
"clear;\n",
"\n",
"//INPUT DATA\n",
"PRF= 1.2*10^3;//pulse repetitive frequency in Hz\n",
"PI = 0.6*10^-3;//pulse interval in sec\n",
"\n",
"//Calculations\n",
"\n",
"PRT = 1/PRF;//pulse repetition frequency in Hz\n",
"PW  = PRT-PI;//pulse width in sec;\n",
"\n",
"//Output\n",
"mprintf('Pulse repetitive time is %3.3f ms\n Pulse width is %3.3f ms',PRT*1000,PW*1000);"
   ]
   }
,
{
		   "cell_type": "markdown",
		   "metadata": {},
		   "source": [
			"## Example 1.3: FINDING_AVERAGE_POWER.sce"
		   ]
		  },
  {
"cell_type": "code",
	   "execution_count": null,
	   "metadata": {
	    "collapsed": true
	   },
	   "outputs": [],
"source": [
"//Chapter-1, Example 1.3, Page 35\n",
"//=============================================================================\n",
"clc;\n",
"clear;\n",
"\n",
"//INPUT DATA\n",
"D    = 0.001;//Duty Cycle\n",
"Ppeak=500*10^3;//Peak Power in Watts\n",
"\n",
"//Calculations\n",
"\n",
"Pav = D * Ppeak;// D=averagepower/Peakpower;\n",
"\n",
"//Output\n",
"mprintf('Average power is %g Watts',Pav);"
   ]
   }
,
{
		   "cell_type": "markdown",
		   "metadata": {},
		   "source": [
			"## Example 1.4: FINDING_DUTY_CYCLE_AND_PRT.sce"
		   ]
		  },
  {
"cell_type": "code",
	   "execution_count": null,
	   "metadata": {
	    "collapsed": true
	   },
	   "outputs": [],
"source": [
"//Chapter-1, Example 1.4, Page 35\n",
"//=============================================================================\n",
"clc;\n",
"clear;\n",
"\n",
"//INPUT DATA\n",
"PRF   = 1000;//pulse repetitive frequency in Hz\n",
"Ppeak =10*10^6;//peak power in watts\n",
"Pav   =100*10^3;//average power in watts\n",
"\n",
"//Calculations\n",
"\n",
"D     = Pav/Ppeak;//Duty cycle\n",
"PRT   = 1/PRF;//pulse repetitive time;\n",
"\n",
"//Output\n",
"mprintf('Duty cycle is %g\n pulse repetitive time is %g ms',D,PRT*1000);"
   ]
   }
,
{
		   "cell_type": "markdown",
		   "metadata": {},
		   "source": [
			"## Example 1.5: FINDING_DOPPLER_FREQUENCY.sce"
		   ]
		  },
  {
"cell_type": "code",
	   "execution_count": null,
	   "metadata": {
	    "collapsed": true
	   },
	   "outputs": [],
"source": [
"//Chapter-1, Example 1.5, Page 36\n",
"//=============================================================================\n",
"clc;\n",
"clear;\n",
"\n",
"//INPUT DATA\n",
"F= 6*10^9;  //frequency in Hz\n",
"Vo = 3*10^8;//velocity in m/s;\n",
"Vr = 200;//Radial velocity in kmph\n",
"\n",
"//Calculations\n",
"\n",
"lamda = Vo/F;//wavelength = vel/freq;\n",
"Fd    = (2*Vr/lamda)*(5/18);//doppler frequency in Hz;\n",
"//5/18 is multiplied to convert kmph to m/s\n",
"\n",
"//Output\n",
"mprintf('Doppler Frequency is %3.2f KHz',Fd/1000);"
   ]
   }
],
"metadata": {
		  "kernelspec": {
		   "display_name": "Scilab",
		   "language": "scilab",
		   "name": "scilab"
		  },
		  "language_info": {
		   "file_extension": ".sce",
		   "help_links": [
			{
			 "text": "MetaKernel Magics",
			 "url": "https://github.com/calysto/metakernel/blob/master/metakernel/magics/README.md"
			}
		   ],
		   "mimetype": "text/x-octave",
		   "name": "scilab",
		   "version": "0.7.1"
		  }
		 },
		 "nbformat": 4,
		 "nbformat_minor": 0
}
