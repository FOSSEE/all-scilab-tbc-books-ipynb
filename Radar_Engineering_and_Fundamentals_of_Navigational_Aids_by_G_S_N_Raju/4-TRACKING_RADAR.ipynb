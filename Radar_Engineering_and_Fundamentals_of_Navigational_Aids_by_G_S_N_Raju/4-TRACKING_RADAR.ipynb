{
"cells": [
 {
		   "cell_type": "markdown",
	   "metadata": {},
	   "source": [
       "# Chapter 4: TRACKING RADAR"
	   ]
	},
{
		   "cell_type": "markdown",
		   "metadata": {},
		   "source": [
			"## Example 4.1: FINDING_PHASE_DIFFERENCE_BETWEEN_ECHOS.sce"
		   ]
		  },
  {
"cell_type": "code",
	   "execution_count": null,
	   "metadata": {
	    "collapsed": true
	   },
	   "outputs": [],
"source": [
"//Chapter-4 example 4.1\n",
"//=============================================================================\n",
"clc;\n",
"clear;\n",
"//input data\n",
"//d = lamda/2\n",
"theta_d = 5//angle blw los and perpendicular bisector of line joining two antennas\n",
"\n",
"// calculations\n",
"\n",
"//PD  = (2*%pi/lamda)*(d*sin(theta));\n",
"//PD  = (2*%pi/lamda)*(lamda/2*sin(theta));\n",
"theta_r   = theta_d*(%pi/180)\n",
"PD_r      = (2*%pi)*((sin(theta_r))/2);//phase difference in radians\n",
"PD_d      = PD_r*(180/%pi);//phase difference in radians\n",
"//output\n",
"mprintf('Phase difference b/w two echo signals is %3.2f degrees;  %3.3f radians',PD_d,PD_r);\n",
"\n",
"//===============end of the program============================================"
   ]
   }
,
{
		   "cell_type": "markdown",
		   "metadata": {},
		   "source": [
			"## Example 4.2: FINDING_SPACING_BETWEEN_ANTENNAS.sce"
		   ]
		  },
  {
"cell_type": "code",
	   "execution_count": null,
	   "metadata": {
	    "collapsed": true
	   },
	   "outputs": [],
"source": [
"//Chapter-4 example 4.2\n",
"//=============================================================================\n",
"clc;\n",
"clear;\n",
"//input data\n",
"F       = 1*10^9;       //operating frequency of monopulse radar in Hz\n",
"Vo      = 3*10^8;       //velocity of EM wave in m/s\n",
"theta_d   = 10          //angle blw los and perpendicular bisector of line joining two antennas\n",
"PD_d    = 20;           //phase difference in degrees\n",
"\n",
"// calculations\n",
"lamda = Vo/F            //wavelength in m\n",
"//PD  = (2*%pi/lamda)*(d*sin(theta));\n",
"theta_r   = theta_d*(%pi/180)   //degree to radian conversion\n",
"PD_r      = PD_d*(%pi/180)      //degree to radian conversion\n",
"d         = (PD_r*lamda)/(2*%pi*sin(theta_r));\n",
"\n",
"//output\n",
"mprintf('Spacing between the antennas is %3.2f cms',d*100);\n",
"\n",
"//===============end of the program============================================"
   ]
   }
],
"metadata": {
		  "kernelspec": {
		   "display_name": "Scilab",
		   "language": "scilab",
		   "name": "scilab"
		  },
		  "language_info": {
		   "file_extension": ".sce",
		   "help_links": [
			{
			 "text": "MetaKernel Magics",
			 "url": "https://github.com/calysto/metakernel/blob/master/metakernel/magics/README.md"
			}
		   ],
		   "mimetype": "text/x-octave",
		   "name": "scilab",
		   "version": "0.7.1"
		  }
		 },
		 "nbformat": 4,
		 "nbformat_minor": 0
}
