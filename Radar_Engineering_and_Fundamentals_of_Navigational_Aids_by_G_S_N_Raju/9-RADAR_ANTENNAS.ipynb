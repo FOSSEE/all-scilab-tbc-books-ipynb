{
"cells": [
 {
		   "cell_type": "markdown",
	   "metadata": {},
	   "source": [
       "# Chapter 9: RADAR ANTENNAS"
	   ]
	},
{
		   "cell_type": "markdown",
		   "metadata": {},
		   "source": [
			"## Example 9.10: FINDING_BEAMWIDTH_AND_POWER_GAIN.sce"
		   ]
		  },
  {
"cell_type": "code",
	   "execution_count": null,
	   "metadata": {
	    "collapsed": true
	   },
	   "outputs": [],
"source": [
"//Chapter-9 example 10\n",
"//=============================================================================\n",
"clc;\n",
"clear;\n",
"//input data\n",
"F     = 10*10^9;//radar operating frequency in hz\n",
"Vo    = 3*10^8;//velocity of EM wave in m/s\n",
"Da    = 5;//antenna diameter in m\n",
"\n",
"//Calculations\n",
"lamda = Vo/F;//wavelength\n",
"Gp    = 6.4*(Da/lamda)^2//gain of parabolic reflector\n",
"G     = 10*log10(Gp)//gain in dB\n",
"\n",
"BWFN  = 140*(lamda/Da);//beam width b/n nulls\n",
"HPBW  = 70*(lamda/Da);//half power beamwidth in deg\n",
"\n",
"\n",
"//Output\n",
"mprintf('BWFN of parabolic reflector is %g degrees\n HPBW of parabolic reflector is %g degrees\n',BWFN,HPBW);\n",
"\n",
"mprintf(' Gain of parabolic reflector is %g dB ',G);\n",
"\n",
"//=============end of the program=============================================="
   ]
   }
,
{
		   "cell_type": "markdown",
		   "metadata": {},
		   "source": [
			"## Example 9.11: FINDING_POWER_GAIN.sce"
		   ]
		  },
  {
"cell_type": "code",
	   "execution_count": null,
	   "metadata": {
	    "collapsed": true
	   },
	   "outputs": [],
"source": [
"//Chapter-9 example 11\n",
"//=============================================================================\n",
"clc;\n",
"clear;\n",
"//input data\n",
"F     = 10*10^9;//radar operating frequency in hz\n",
"Vo    = 3*10^8;//velocity of EM wave in m/s\n",
"IE    =0.6;//illumination efficiency\n",
"Da    =12;//diameter of antenna\n",
"//Calculations\n",
"lamda = Vo/F;//wavelength\n",
"Gp    = IE*(Da/lamda)^2//gain of parabolic reflector\n",
"G     = 10*log10(Gp)//gain in dB\n",
"\n",
"//Output\n",
"mprintf(' Gain of parabolic reflector is %3.2f dB',G);\n",
"\n",
"//=============end of the program=============================================="
   ]
   }
,
{
		   "cell_type": "markdown",
		   "metadata": {},
		   "source": [
			"## Example 9.12: FINDING_MOUTH_DIAMETER_AND_CAPTURE_AREA.sce"
		   ]
		  },
  {
"cell_type": "code",
	   "execution_count": null,
	   "metadata": {
	    "collapsed": true
	   },
	   "outputs": [],
"source": [
"//Chapter-9 example 12\n",
"//=============================================================================\n",
"clc;\n",
"clear;\n",
"//input data\n",
"\n",
"F     = 4*10^9;//radar operating frequency in hz\n",
"Vo    = 3*10^8;//velocity of EM wave in m/s\n",
"NNBW  = 8;//Null to Null beamwidth in degrees \n",
"//Calculations\n",
"lamda = Vo/F;//wavelength\n",
"Da    = (140*lamda)/NNBW;\n",
"A     = (%pi*Da*Da)/4;//Area of antenna\n",
"Ac    = 0.65*A;//capture area\n",
"\n",
"//Output\n",
"mprintf('\n Mouth diameter of parabolic reflector is %3.3f m \n Capture area is %3.2f m^2',Da,Ac);\n",
"\n",
"//=============end of the program=============================================="
   ]
   }
,
{
		   "cell_type": "markdown",
		   "metadata": {},
		   "source": [
			"## Example 9.13: FINDING_MOUTH_DIAMETER_AND_POWER_GAIN.sce"
		   ]
		  },
  {
"cell_type": "code",
	   "execution_count": null,
	   "metadata": {
	    "collapsed": true
	   },
	   "outputs": [],
"source": [
"//Chapter-9 example 13\n",
"//=============================================================================\n",
"clc;\n",
"clear;\n",
"//input data\n",
"F     = 4*10^9;//radar operating frequency in hz\n",
"Vo    = 3*10^8;//velocity of EM wave in m/s\n",
"NNBW  = 2;//Null to Null Beamwidth in degrees\n",
"\n",
"//Calculations\n",
"lamda = Vo/F;//wavelength\n",
"Da    = (140*lamda)/2;//diameter of antenna in m\n",
"Gp    = 6.4*(Da/lamda)^2//gain of parabolic reflector\n",
"G     = 10*log10(Gp)//gain in dB\n",
"\n",
"\n",
"//Output\n",
"mprintf('Gain of parabolic reflector is %g dB\n mouth diameter of the antenna is %g m ',G,Da);\n",
"\n",
"//=============end of the program=============================================="
   ]
   }
,
{
		   "cell_type": "markdown",
		   "metadata": {},
		   "source": [
			"## Example 9.14: FINDING_BEAMWIDTH_AND_POWERGAIN.sce"
		   ]
		  },
  {
"cell_type": "code",
	   "execution_count": null,
	   "metadata": {
	    "collapsed": true
	   },
	   "outputs": [],
"source": [
"//Chapter-9 example 14\n",
"//=============================================================================\n",
"clc;\n",
"clear;\n",
"//input data\n",
"\n",
"HPBW  = 6;//Half power Beamwidth in degrees\n",
"\n",
"//Calculations\n",
"NNBW  = 2*HPBW;//Null to Null beamwidth in degrees\n",
"//HPBW = 70*(lamda/Da);\n",
"//(70/HPBW)= (Da/lamda);\n",
"Gp    = 6.4*(70/HPBW)^2//gain of parabolic reflector\n",
"G     = 10*log10(Gp)//gain in dB\n",
"\n",
"\n",
"//Output\n",
"mprintf('Gain of parabolic reflector is %3.2f dB\n NNBW of the antenna is %g degrees',G,NNBW);\n",
"\n",
"//=============end of the program=============================================="
   ]
   }
,
{
		   "cell_type": "markdown",
		   "metadata": {},
		   "source": [
			"## Example 9.15: FINDING_POWER_GAIN.sce"
		   ]
		  },
  {
"cell_type": "code",
	   "execution_count": null,
	   "metadata": {
	    "collapsed": true
	   },
	   "outputs": [],
"source": [
"//Chapter-9 example 15\n",
"//=============================================================================\n",
"clc;\n",
"clear;\n",
"//input data\n",
"//Da = 6*lamda;\n",
"\n",
"//Calculations\n",
"\n",
"//Gp  = 6.4*(Da/lamda)^2; //power gain \n",
"\n",
"//Gp  = 6.4*(6*lamda/lamda)^2 //power gain of parabolic reflector\n",
"Gp    =6.4*(6)^2;\n",
"G     = 10*log10(Gp)//gain in dB\n",
"\n",
"\n",
"//Output\n",
"mprintf('Gain of parabolic reflector is %3.2f dB\n',G);\n",
"\n",
"//=============end of the program=============================================="
   ]
   }
,
{
		   "cell_type": "markdown",
		   "metadata": {},
		   "source": [
			"## Example 9.16: FINDING_BEAMWIDTH_AND_DIRECTIVITY_OF_ANTENNA.sce"
		   ]
		  },
  {
"cell_type": "code",
	   "execution_count": null,
	   "metadata": {
	    "collapsed": true
	   },
	   "outputs": [],
"source": [
"//Chapter-9 example 16\n",
"//=============================================================================\n",
"clc;\n",
"clear;\n",
"//input data\n",
"//Da = 7*lamda; diameter of antenna\n",
"\n",
"//Calculations\n",
"//HPBW = 70*(lamda/Da)\n",
"//HPBW = 70*(lamda/(7*lamda));\n",
"HPBW   = 70/7;//half power beamwidth\n",
"NNBW   = 2*HPBW;//null to null beamwidth\n",
"//Gp  = 6.4*(Da/lamda)^2; //power gain \n",
"\n",
"//Gp  = 6.4*((7*lamda)/lamda)^2 ;  power gain of parabolic reflector\n",
"Gp    =6.4*(7)^2;\n",
"G     = 10*log10(Gp)//gain in dB\n",
"\n",
"\n",
"//Output\n",
"mprintf('Gain of parabolic reflector is %3.1f \n HPBW of Antenna is %3.1f degrees\n NNBW of Antenna is %3.1f degrees  ',Gp,HPBW,NNBW);\n",
"\n",
"//=============end of the program=============================================="
   ]
   }
,
{
		   "cell_type": "markdown",
		   "metadata": {},
		   "source": [
			"## Example 9.17: FINDING_BEAMWIDTH_POWERGAIN_AND_DIRECTIVITY.sce"
		   ]
		  },
  {
"cell_type": "code",
	   "execution_count": null,
	   "metadata": {
	    "collapsed": true
	   },
	   "outputs": [],
"source": [
"//Chapter-9 example 17\n",
"//=============================================================================\n",
"clc;\n",
"clear;\n",
"//input data\n",
"F     = 8*10^9;//radar operating frequency in hz\n",
"Vo    = 3*10^10;//velocity of EM wave in cm/s\n",
"D     = 9;//pyramida horn  diameter in cm\n",
"W     = 4;//pyramida horn  width in cm\n",
"//Calculations\n",
"lamda = Vo/F//wavelength in cm\n",
"HPBW_E = 56*(lamda/D)//halfpower beamwidth in E-plane;\n",
"HPBW_H = 67*(lamda/W)//halfpower beamwidth in H-plane;\n",
"Gp     = (4.5*W*D)/(lamda*lamda);//power gain\n",
"G      = 10*log10(Gp);//power gain in dB\n",
"Di     =(7.5*W*D)/(lamda*lamda);//directivity\n",
"\n",
"\n",
"//Output\n",
"mprintf('Halfpower beamwidth ib E-plane is %3.2f degrees\n Halfpower beamwidth iN H-plane is %3.2f degrees\n Powergain is %3.2f dB\n Directivity is %3.2f',HPBW_E,HPBW_H,G,Di);\n",
"\n",
"\n",
"//=============end of the program=============================================="
   ]
   }
,
{
		   "cell_type": "markdown",
		   "metadata": {},
		   "source": [
			"## Example 9.18: FINDING_POWER_GAIN_OF_HORN_ANTENNA.sce"
		   ]
		  },
  {
"cell_type": "code",
	   "execution_count": null,
	   "metadata": {
	    "collapsed": true
	   },
	   "outputs": [],
"source": [
"//Chapter-9 example 18\n",
"//=============================================================================\n",
"clc;\n",
"clear;\n",
"//input data\n",
"//Aperture size = 10*lamda\n",
"//Calculations\n",
"//Gp = (4.5*W*D)/(lamda*lamda);\n",
"//Gp = (4.5*(10*lamda)*(10*lamda))/(lamda*lamda);\n",
"Gp   = (4.5*10*10);//power gain of square horn antenna\n",
"G    = 10*log10(Gp);//power gain in dB\n",
"\n",
"//Output\n",
"mprintf('Power Gain of Square Horn Antenna is %3.2f dB',G);\n",
"//=============end of the program=============================================="
   ]
   }
,
{
		   "cell_type": "markdown",
		   "metadata": {},
		   "source": [
			"## Example 9.19: FINDING_POWER_GAIN_AND_DIRECTIVITY.sce"
		   ]
		  },
  {
"cell_type": "code",
	   "execution_count": null,
	   "metadata": {
	    "collapsed": true
	   },
	   "outputs": [],
"source": [
"//Chapter-9 example 19\n",
"//=============================================================================\n",
"clc;\n",
"clear;\n",
"//input data\n",
"F     = 8*10^9;//radar operating frequency in hz\n",
"Vo    = 3*10^10;//velocity of EM wave in cm/s\n",
"D     = 10;//pyramida horn  diameter in cm\n",
"W     = 5;//pyramida horn  width in cm\n",
"//Calculations\n",
"lamda = Vo/F//wavelength in cm\n",
"Gp     = (4.5*W*D)/(lamda*lamda);//power gain\n",
"G      = 10*log10(Gp);//power gain in dB\n",
"Di     =(7.5*W*D)/(lamda*lamda);//directivity\n",
"DI     =10*log10(Di);//Directivity in dB\n",
"\n",
"\n",
"//Output\n",
"mprintf('Powergain is %3.2f dB\n Directivity is %3.2f dB',G,DI);\n",
"\n",
"\n",
"//=============end of the program=============================================="
   ]
   }
,
{
		   "cell_type": "markdown",
		   "metadata": {},
		   "source": [
			"## Example 9.1: FINDING_BEAMWIDTHS.sce"
		   ]
		  },
  {
"cell_type": "code",
	   "execution_count": null,
	   "metadata": {
	    "collapsed": true
	   },
	   "outputs": [],
"source": [
"//Chapter-9 example 1\n",
"//=============================================================================\n",
"clc;\n",
"clear;\n",
"//input data\n",
"Da    = 2.5;//diameter of parabolic antenna in m\n",
"F     = 5*10^9;//radar operating frequency in hz\n",
"Vo    = 3*10^8;//velocity of EM wave in m/s\n",
"\n",
"//Calculations\n",
"lamda = Vo/F;//wavelength\n",
"NNBW  = 140*(lamda/Da);\n",
"HPBW  = 70*(lamda/Da);//half power beamwidth in deg\n",
"\n",
"//Output\n",
"mprintf('NNBW of parabolic reflector is %g degrees\n HPBW of parabolic reflector is %g degrees',NNBW,HPBW);\n",
"\n",
"//=============end of the program=============================================="
   ]
   }
,
{
		   "cell_type": "markdown",
		   "metadata": {},
		   "source": [
			"## Example 9.20: FINDING_COMPLEMENTARY_SLOT_IMPEDANCE.sce"
		   ]
		  },
  {
"cell_type": "code",
	   "execution_count": null,
	   "metadata": {
	    "collapsed": true
	   },
	   "outputs": [],
"source": [
"//Chapter-9 example 20\n",
"//=============================================================================\n",
"clc;\n",
"clear;\n",
"//input data\n",
"no    = 377;//Free space intrinsic impedance in ohms\n",
"Zd1   = 73+50*%i;//dipole impedance;\n",
"Zd2   = 70;//dipole impedance;\n",
"Zd3   = 800;//dipole impedance;\n",
"Zd4   = 400//dipole impedance;\n",
"Zd5   = 50+10*%i;//dipole impedance;\n",
"Zd6   = 50-30*%i;//dipole impedance;\n",
"Zd7   = 350;//dipole impedance;\n",
"\n",
"//Calculations\n",
"K      = (no^2)/4;\n",
"//Zs   = (no*no)/(4*Zd); slot impedance\n",
"Zs1    = K/Zd1//slot impedance\n",
"Zs2    = K/Zd2;//slot impedance\n",
"Zs3    = K/Zd3;//slot impedance\n",
"Zs4    = K/Zd4;//slot impedance\n",
"Zs5    = K/Zd5;//slot impedance\n",
"Zs6    = K/Zd6;//slot impedance\n",
"Zs7    = K/Zd7;//slot impedance\n",
"\n",
"//output \n",
"\n",
"mprintf('slot impedance if Zd = 73+i50 ohm is '),mprintf( prettyprint(Zs1)),mprintf(' ohm \n');\n",
"mprintf(' slot impedance if Zd = 70     ohm is '),mprintf( prettyprint(Zs2)),mprintf(' ohm \n');;\n",
"mprintf(' slot impedance if Zd = 800    ohm is '),mprintf( prettyprint(Zs3)),mprintf(' ohm \n');;\n",
"mprintf(' slot impedance if Zd = 400    ohm is '),mprintf( prettyprint(Zs4)),mprintf(' ohm \n');;\n",
"mprintf(' slot impedance if Zd = 50+i10 ohm is '),mprintf( prettyprint(Zs5)),mprintf(' ohm \n');;\n",
"mprintf(' slot impedance if Zd = 50-i30 ohm is '),mprintf( prettyprint(Zs6)),mprintf(' ohm \n');;\n",
"mprintf(' slot impedance if Zd = 350    ohm is '),mprintf( prettyprint(Zs7)),mprintf(' ohm \n');;\n",
"\n",
"\n",
"\n",
"//=============end of the program=============================================="
   ]
   }
,
{
		   "cell_type": "markdown",
		   "metadata": {},
		   "source": [
			"## Example 9.21: FINDING_RADIATION_RESISTANCE_OF_HERTZIAN_DIPOLE.sce"
		   ]
		  },
  {
"cell_type": "code",
	   "execution_count": null,
	   "metadata": {
	    "collapsed": true
	   },
	   "outputs": [],
"source": [
"//Chapter-9 example 21\n",
"//=============================================================================\n",
"clc;\n",
"clear;\n",
"//input data\n",
"\n",
"//dl1  = lamda/20;\n",
"//dl2  = lamda/30;\n",
"//dl3  = lamda/40;\n",
" \n",
"//Calculations\n",
"//Rr  = 80*(pi*pi)*(dl/lamda)^2 Radiation Resistance in ohms\n",
"//Rr1 = 80*(pi*pi)*(dl1/lamda)^2 Radiation Resistance in ohms\n",
"//Rr1 = 80*(pi*pi)*((lamda/20)/lamda)^2 Radiation Resistance in ohms\n",
"Rr1   =80*(%pi*%pi)*(1/20)^2 ;\n",
"//Rr2 = 80*(pi*pi)*(dl2/lamda)^2 Radiation Resistance in ohms\n",
"//Rr2 = 80*(pi*pi)*((lamda/30)/lamda)^2 Radiation Resistance in ohms\n",
"Rr2   =80*(%pi*%pi)*(1/30)^2 ;\n",
"//Rr3 = 80*(pi*pi)*(dl3/lamda)^2 Radiation Resistance in ohms\n",
"//Rr3 = 80*(pi*pi)*((lamda/40)/lamda)^2 Radiation Resistance in ohms\n",
"Rr3   =80*(%pi*%pi)*(1/40)^2 ;\n",
"\n",
"\n",
"//Output\n",
"mprintf('If Hertzian dipole length is lamda/20 then Radiation Resistance = %3.3f ohm\n If Hertzian dipole length is lamda/30 then Radiation Resistance = %3.3f ohm\n If Hertzian dipole length is lamda/40 then Radiation Resistance = %3.3f ohm\n',Rr1,Rr2,Rr3) ;\n",
"\n",
"//=============end of the program=============================================="
   ]
   }
,
{
		   "cell_type": "markdown",
		   "metadata": {},
		   "source": [
			"## Example 9.22: DIRECTIVITY_OF_HALFWAVE_DIPOLE.sce"
		   ]
		  },
  {
"cell_type": "code",
	   "execution_count": null,
	   "metadata": {
	    "collapsed": true
	   },
	   "outputs": [],
"source": [
"//Chapter-9 example 22\n",
"//=============================================================================\n",
"clc;\n",
"clear;\n",
"disp('For half wave dipole Emax  =  60I/r')\n",
"disp('But Pr  = 73 I^2 Watts');\n",
"disp('For Pr  = 1 W');\n",
"disp('I = 1/sqrt(73)');\n",
"disp('Emax = (60/r)*I');\n",
"disp('Gdmax = (4*pi*phi)/Pr'),disp('as Pr =1 and phi = (r^2)*(E^2)/no')\n",
"disp('Gdmax = 4*pi*(r^2)*(E^2)/no');\n",
"disp('      = (4*pi*(r^2)*60*60)/(no*r*r*73)' );\n",
"disp('      = (4*pi*60*60)/(120*pi*73)');\n",
"Gdmax       = 120/73;\n",
"\n",
"mprintf('Directivity of half wave dipole is %3.2f',Gdmax );\n",
"//=============end of program===================================================\n",
""
   ]
   }
,
{
		   "cell_type": "markdown",
		   "metadata": {},
		   "source": [
			"## Example 9.23: FINDING_RADIATED_POWER.sce"
		   ]
		  },
  {
"cell_type": "code",
	   "execution_count": null,
	   "metadata": {
	    "collapsed": true
	   },
	   "outputs": [],
"source": [
"//Chapter-9 example 23\n",
"//=============================================================================\n",
"clc;\n",
"clear;\n",
"//input data\n",
"F   = 12*10^9;//operating frequency in Ghz\n",
"I   = 2;//current in amperes\n",
"Rr  = 300;//radiation resistance in ohms\n",
"\n",
"//Calculations\n",
"Pr  = I*I*Rr;\n",
"\n",
"//output\n",
"mprintf('Radiated Power is %3.1f Watts',Pr);\n",
"\n",
"//================end of the program============================================"
   ]
   }
,
{
		   "cell_type": "markdown",
		   "metadata": {},
		   "source": [
			"## Example 9.24: FINDING_EFFECTIVE_AREA_OF_HALF_WAVE_DIPOLE.sce"
		   ]
		  },
  {
"cell_type": "code",
	   "execution_count": null,
	   "metadata": {
	    "collapsed": true
	   },
	   "outputs": [],
"source": [
"//Chapter-9 example 24\n",
"//=============================================================================\n",
"clc;\n",
"clear;\n",
"//input data\n",
"F     = 600*10^6;//radar operating frequency in hz\n",
"Vo    = 3*10^8;//velocity of EM wave in m/s\n",
"D     = 1.644;//Directivity of the half wave dipole\n",
"//Calculations\n",
"lamda = Vo/F;//wavelength\n",
"Ae    = (lamda^2*D)/(4*%pi);//effective area of antenna\n",
"//Output\n",
"mprintf('Effective Area of the antenna is %3.4f m^2',Ae);\n",
"\n",
"//=============end of the program=============================================="
   ]
   }
,
{
		   "cell_type": "markdown",
		   "metadata": {},
		   "source": [
			"## Example 9.25: FINDING_EFFECTIVE_AREA_OF_HERTZIAN_DIPOLE.sce"
		   ]
		  },
  {
"cell_type": "code",
	   "execution_count": null,
	   "metadata": {
	    "collapsed": true
	   },
	   "outputs": [],
"source": [
"//Chapter-9 example 25\n",
"//=============================================================================\n",
"clc;\n",
"clear;\n",
"//input data\n",
"F     = 200*10^6;//radar operating frequency in hz\n",
"Vo    = 3*10^8;//velocity of EM wave in m/s\n",
"D     = 1.5;//Directivity of the Hertzian dipole\n",
"//Calculations\n",
"lamda = Vo/F;//wavelength\n",
"Ae    = (lamda^2*D)/(4*%pi);//effective area of antenna\n",
"//Output\n",
"mprintf('Effective Area of the antenna is %3.4f m^2',Ae);\n",
"\n",
"//=============end of the program=============================================="
   ]
   }
,
{
		   "cell_type": "markdown",
		   "metadata": {},
		   "source": [
			"## Example 9.2: FINDING_GAIN_OF_PARABOLIC_REFLECTOR.sce"
		   ]
		  },
  {
"cell_type": "code",
	   "execution_count": null,
	   "metadata": {
	    "collapsed": true
	   },
	   "outputs": [],
"source": [
"//Chapter-9 example 2\n",
"//=============================================================================\n",
"clc;\n",
"clear;\n",
"//input data\n",
"Da    = 2.5;//diameter of parabolic antenna in m\n",
"F     = 5*10^9;//radar operating frequency in hz\n",
"Vo    = 3*10^8;//velocity of EM wave in m/s\n",
"\n",
"//Calculations\n",
"lamda = Vo/F;//wavelength\n",
"Gp    = 6.4*(Da/lamda)^2//gain of parabolic reflector\n",
"G     = 10*log10(Gp)//gain in dB\n",
"//Output\n",
"mprintf('Gain of parabolic reflector is %3.2f dB',G);\n",
"\n",
"//=============end of the program=============================================="
   ]
   }
,
{
		   "cell_type": "markdown",
		   "metadata": {},
		   "source": [
			"## Example 9.3: FINDING_NNBW_HPBW_AND_POWER_GAIN_OF_ANTENNA.sce"
		   ]
		  },
  {
"cell_type": "code",
	   "execution_count": null,
	   "metadata": {
	    "collapsed": true
	   },
	   "outputs": [],
"source": [
"//Chapter-9 example 3\n",
"//=============================================================================\n",
"clc;\n",
"clear;\n",
"//input data\n",
"Da    = 0.15;//diameter of parabolic antenna in m\n",
"F     = 9*10^9;//radar operating frequency in hz\n",
"Vo    = 3*10^8;//velocity of EM wave in m/s\n",
"\n",
"//Calculations\n",
"lamda = Vo/F;//wavelength\n",
"Gp    = 6.4*(Da/lamda)^2//gain of parabolic reflector\n",
"G     = 10*log10(Gp)//gain in dB\n",
"NNBW  = 140*(lamda/Da);\n",
"HPBW  = 70*(lamda/Da);//half power bandwidth in deg\n",
"\n",
"//Output\n",
"mprintf('NNBW of parabolic reflector is %3.2f degrees\n HPBW of parabolic reflector is %3.2f degrees\n',NNBW,HPBW);\n",
"\n",
"mprintf(' Gain of parabolic reflector is %3.2f dB',G);\n",
"\n",
"//=============end of the program=============================================="
   ]
   }
,
{
		   "cell_type": "markdown",
		   "metadata": {},
		   "source": [
			"## Example 9.4: FINDING_POWER_GAIN.sce"
		   ]
		  },
  {
"cell_type": "code",
	   "execution_count": null,
	   "metadata": {
	    "collapsed": true
	   },
	   "outputs": [],
"source": [
"//Chapter-9 example 4\n",
"//=============================================================================\n",
"clc;\n",
"clear;\n",
"//input data\n",
"Da    = 2;//diameter of parabolic antenna in m\n",
"F     = 2*10^9;//radar operating frequency in hz\n",
"Vo    = 3*10^8;//velocity of EM wave in m/s\n",
"\n",
"//Calculations\n",
"lamda = Vo/F;//wavelength\n",
"Gp    = 6.4*(Da/lamda)^2//gain of parabolic reflector\n",
"G     = 10*log10(Gp)//gain in dB\n",
"//Output\n",
"mprintf('Gain of parabolic reflector is %3.2f dB',G);\n",
"\n",
"//=============end of the program=============================================="
   ]
   }
,
{
		   "cell_type": "markdown",
		   "metadata": {},
		   "source": [
			"## Example 9.5: FINDING_MOUTH_DIAMETER_HPBW_AND_POWER_GAIN_OF_PARABOLOID.sce"
		   ]
		  },
  {
"cell_type": "code",
	   "execution_count": null,
	   "metadata": {
	    "collapsed": true
	   },
	   "outputs": [],
"source": [
"//Chapter-9 example 5\n",
"//=============================================================================\n",
"clc;\n",
"clear;\n",
"//input data\n",
"F     = 6*10^9;//radar operating frequency in hz\n",
"Vo    = 3*10^8;//velocity of EM wave in m/s\n",
"NNBW  = 5;//Null to Null beamwidth\n",
"\n",
"//Calculations\n",
"lamda = Vo/F;//wavelength\n",
"\n",
"Da  = 140*(lamda/NNBW);\n",
"HPBW  = 70*(lamda/Da);//half power beamwidth in deg\n",
"Gp    = 6.4*(Da/lamda)^2//gain of parabolic reflector\n",
"G     = 10*log10(Gp)//gain in dB\n",
"\n",
"//Output\n",
"mprintf('Mouth Diameter of paraboloid is %g m\n HPBW of parabolic reflector is %g degrees\n',Da,HPBW);\n",
"\n",
"mprintf(' Gain of parabolic reflector is %g dB\n Gain of parabolic reflector is %g ',G,Gp);\n",
"\n",
"//=============end of the program=============================================="
   ]
   }
,
{
		   "cell_type": "markdown",
		   "metadata": {},
		   "source": [
			"## Example 9.6: FINDING_BEAMWIDTH_DIRECTIVITY_AND_CAPTURE_AREA.sce"
		   ]
		  },
  {
"cell_type": "code",
	   "execution_count": null,
	   "metadata": {
	    "collapsed": true
	   },
	   "outputs": [],
"source": [
"//Chapter-9 example 6\n",
"//=============================================================================\n",
"clc;\n",
"clear;\n",
"//input data\n",
"F     = 9*10^9;//radar operating frequency in hz\n",
"Vo    = 3*10^8;//velocity of EM wave in m/s\n",
"NNBW  = 5;//Null to Null beamwidth\n",
"Da    = 5;//diameter of antenna in m\n",
"\n",
"//Calculations\n",
"lamda = Vo/F;//wavelength\n",
"A     = (%pi*Da*Da)/4;//actural area of antenna\n",
"Ac    = 0.65*A;//Capture Area\n",
"\n",
"D     = 6.4*(Da/lamda)^2;//directivity of antenna\n",
"D1     = 10*log10(D)//gain in dB\n",
"HPBW  = 70*(lamda/Da);//half power beamwidth in deg\n",
"NNBW  = 2*HPBW;//null to null beamwidth \n",
"\n",
"//Output\n",
"mprintf('HPBW of parabolic reflector is %g degrees\n NNBW of parabolic reflector is %g degrees\n Directivity is %g dB\n Capture area is %g m^2',HPBW,NNBW,D1,Ac);\n",
"\n",
"\n",
"//=============end of the program=============================================="
   ]
   }
,
{
		   "cell_type": "markdown",
		   "metadata": {},
		   "source": [
			"## Example 9.7: FINDING_MIN_DISTANCE_REQUIRED_BETWEEN_TWO_ANTENNAS.sce"
		   ]
		  },
  {
"cell_type": "code",
	   "execution_count": null,
	   "metadata": {
	    "collapsed": true
	   },
	   "outputs": [],
"source": [
"//Chapter-9 example 7\n",
"//=============================================================================\n",
"clc;\n",
"clear;\n",
"//input data\n",
"Da    = 5;//diameter of parabolic antenna in m\n",
"F     = 5*10^9;//radar operating frequency in hz\n",
"Vo    = 3*10^8;//velocity of EM wave in m/s\n",
"\n",
"//Calculations\n",
"lamda = Vo/F;//wavelength\n",
"R     = (2*Da*Da)/lamda;//min distance b/w antennas\n",
"//Output\n",
"mprintf('Minimum distance Required is %g m',R);\n",
"\n",
"//=============end of the program=============================================="
   ]
   }
,
{
		   "cell_type": "markdown",
		   "metadata": {},
		   "source": [
			"## Example 9.8: FINDING_MOUTH_DIAMETER_AND_BEAM_WIDTH_OF_ANTENNA.sce"
		   ]
		  },
  {
"cell_type": "code",
	   "execution_count": null,
	   "metadata": {
	    "collapsed": true
	   },
	   "outputs": [],
"source": [
"//Chapter-9 example 8\n",
"//=============================================================================\n",
"clc;\n",
"clear;\n",
"//input data\n",
"\n",
"F     = 4*10^9;//radar operating frequency in hz\n",
"Vo    = 3*10^8;//velocity of EM wave in m/s\n",
"Gp    = 500;//power gain of antenna\n",
"//Calculations\n",
"lamda = Vo/F;//wavelength\n",
"Da    = lamda*(Gp/6.4)^0.5//diameter of parabolic antenna in m\n",
"\n",
"NNBW  = 140*(lamda/Da);//beamwidth b/w null to null\n",
"HPBW  = 70*(lamda/Da);//half power beamwidth in deg\n",
"\n",
"//Output\n",
"mprintf('NNBW of parabolic reflector is %3.2f degrees\n HPBW of parabolic reflector is %3.2fdegrees\n',NNBW,HPBW);\n",
"\n",
"mprintf(' Mouth diameter of parabolic reflector is %3.2f m',Da);\n",
"\n",
"//=============end of the program=============================================="
   ]
   }
,
{
		   "cell_type": "markdown",
		   "metadata": {},
		   "source": [
			"## Example 9.9: FINDING_CAPTURE_AREA_AND_BEAMWIDTH_OF_ANTENNA.sce"
		   ]
		  },
  {
"cell_type": "code",
	   "execution_count": null,
	   "metadata": {
	    "collapsed": true
	   },
	   "outputs": [],
"source": [
"//Chapter-9 example 9\n",
"//=============================================================================\n",
"clc;\n",
"clear;\n",
"//input data\n",
"\n",
"F     = 9*10^9;//radar operating frequency in hz\n",
"Vo    = 3*10^8;//velocity of EM wave in m/s\n",
"Gp    = 100;//power gain of antenna in dB\n",
"//Calculations\n",
"lamda = Vo/F;//wavelength\n",
"//antilog calculation\n",
"//100 = 10log10(Gp);\n",
"//10  = log(Gp);\n",
"G     = 10^10;//gain of antenna\n",
"Da    = lamda*sqrt(G/6.4)//diameter of parabolic antenna in m\n",
"A     = (%pi*Da*Da)/4;//Area of antenna\n",
"Ac    = 0.65*A;//capture area\n",
"NNBW  = 140*(lamda/Da);//beamwidth b/w null to null\n",
"HPBW  = 70*(lamda/Da);//half power beamwidth in deg\n",
"\n",
"//Output\n",
"mprintf('NNBW of parabolic reflector is %g degrees\n HPBW of parabolic reflector is %g degrees\n',NNBW,HPBW);\n",
"\n",
"mprintf('\n Mouth diameter of parabolic reflector is %3.3f m\n Capture area is %3.2f m^2',Da,Ac);\n",
"\n",
"//=============end of the program=============================================="
   ]
   }
],
"metadata": {
		  "kernelspec": {
		   "display_name": "Scilab",
		   "language": "scilab",
		   "name": "scilab"
		  },
		  "language_info": {
		   "file_extension": ".sce",
		   "help_links": [
			{
			 "text": "MetaKernel Magics",
			 "url": "https://github.com/calysto/metakernel/blob/master/metakernel/magics/README.md"
			}
		   ],
		   "mimetype": "text/x-octave",
		   "name": "scilab",
		   "version": "0.7.1"
		  }
		 },
		 "nbformat": 4,
		 "nbformat_minor": 0
}
