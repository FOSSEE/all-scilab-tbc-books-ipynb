{
"cells": [
 {
		   "cell_type": "markdown",
	   "metadata": {},
	   "source": [
       "# Chapter 3: ADVANCED RADARS"
	   ]
	},
{
		   "cell_type": "markdown",
		   "metadata": {},
		   "source": [
			"## Example 3.10: FINDING_PEAK_TX_POWER.sce"
		   ]
		  },
  {
"cell_type": "code",
	   "execution_count": null,
	   "metadata": {
	    "collapsed": true
	   },
	   "outputs": [],
"source": [
"//Chapter-3 example 10\n",
"//=============================================================================\n",
"clc;\n",
"clear;\n",
"//input data\n",
"r             = 0.5;            //Antenna Radius in m\n",
"f             = 8*10^9          //operating frequency in Hz\n",
"Vo            = 3*10^8;         //vel. of EM wave in m/s\n",
"RCS           = 5;              // Radar cross section in m^2\n",
"D             = 1;              // antenna diameter in m\n",
"F             = 4.77;              // noise figure in dB\n",
"Rmax          = 12*10^3         // Radar range\n",
"BW            = 500*10^3;       // bandwidth\n",
"\n",
"//Calculation\n",
"F1            = 10^(F/10)       // antilog calculation\n",
"lamda         = Vo/f            // wavelength\n",
"\n",
"//Rmax        = 48*((Pt*D^4*RCS)/(BW*lamda*lamda(F-1)))^0.25\n",
"\n",
"Pt            = ((Rmax/48)^4)*((BW*lamda*lamda*(F1-1))/(D^4*RCS))\n",
"\n",
"//Output\n",
"mprintf('Peak Transmitted Power is %e',Pt);\n",
"mprintf('\n Note: Calculation error in textbook at Pt 10^12 missing')\n",
"//============================================================================="
   ]
   }
,
{
		   "cell_type": "markdown",
		   "metadata": {},
		   "source": [
			"## Example 3.1: FINDING_LOWEST_BLIND_SPEED.sce"
		   ]
		  },
  {
"cell_type": "code",
	   "execution_count": null,
	   "metadata": {
	    "collapsed": true
	   },
	   "outputs": [],
"source": [
"//Chapter-3, Problem 3.1 , Page104\n",
"//===========================================================================\n",
"clc;\n",
"clear;\n",
"\n",
"//INPUT DATA\n",
"PRF= 1500;//pulse repetitive frequency in Hz\n",
"lamda = 3*10^-2;//wavelength in m;\n",
"\n",
"//Calculations\n",
"//n =1 gives lowest blind speed\n",
"n=1;\n",
"\n",
"Vb = n*(lamda/2)*PRF;//blind speed in m/s\n",
"\n",
"\n",
"//Output\n",
"mprintf('Lowest Blind Speed is %g m/s',Vb);"
   ]
   }
,
{
		   "cell_type": "markdown",
		   "metadata": {},
		   "source": [
			"## Example 3.2: FINDING_SPEED_OF_AUTOMOBILE.sce"
		   ]
		  },
  {
"cell_type": "code",
	   "execution_count": null,
	   "metadata": {
	    "collapsed": true
	   },
	   "outputs": [],
"source": [
"//Chapter-3, Problem 3.2 , Page105\n",
"//===========================================================================\n",
"clc;\n",
"clear;\n",
"\n",
"//INPUT DATA\n",
"PRF= 1000;//pulse repetitive frequency in Hz\n",
"Fd = 1000;//doppler frequency in Hz;\n",
"F  = 10*10^9;//operating frequency of radar in Hz;\n",
"Vo = 3*10^8;//velocity in m/s\n",
"\n",
"//Calculations\n",
" lamda = Vo/F;\n",
" Va    = (Fd*lamda)/2;//speed of automobile in m/s\n",
" Va1   = Va*18/5; //speed of automobile in kmph\n",
"\n",
"//Output\n",
"mprintf('Speed of automobile is %g m/s or %g kmph\n',Va,Va1 );"
   ]
   }
,
{
		   "cell_type": "markdown",
		   "metadata": {},
		   "source": [
			"## Example 3.3: FINDING_LOWEST_THREE_BLIND_SPEEDS.sce"
		   ]
		  },
  {
"cell_type": "code",
	   "execution_count": null,
	   "metadata": {
	    "collapsed": true
	   },
	   "outputs": [],
"source": [
"//Chapter-3, Problem 3.3 , Page105\n",
"//===========================================================================\n",
"clc;\n",
"clear;\n",
"\n",
"//INPUT DATA\n",
"PRF= 1000;//pulse repetitive frequency in Hz\n",
"F  = 10*10^9;//operating frequency of radar in Hz;\n",
"Vo = 3*10^8;//velocity in m/s\n",
"\n",
"//Calculations\n",
" lamda = Vo/F;\n",
" // Blind Frequency is given by Fn = n*PRF;\n",
" n1 = 1;\n",
" n2 = 2;\n",
" n3 = 3;\n",
" F1 =n1*PRF;//blind frequency for n=1 in Hz; \n",
" F2 =n2*PRF;//blind frequency for n=2 in Hz; \n",
" F3 =n3*PRF;//blind frequency for n=3 in Hz; \n",
"\n",
"//Output\n",
"mprintf('Lowest three Blind Frequencies are %g KHz ,%g KHz and %g KHz\n',F1/1000,F2/1000,F3/1000 );"
   ]
   }
,
{
		   "cell_type": "markdown",
		   "metadata": {},
		   "source": [
			"## Example 3.4: FINDING_LOWEST_THREE_BLIND_SPEEDS.sce"
		   ]
		  },
  {
"cell_type": "code",
	   "execution_count": null,
	   "metadata": {
	    "collapsed": true
	   },
	   "outputs": [],
"source": [
"//Chapter-3, Problem 3.4 , Page105\n",
"//===========================================================================\n",
"clc;\n",
"clear;\n",
"\n",
"//INPUT DATA\n",
"F  = 10*10^9;    //operating frequency in Hz\n",
"PRF= 800;       //pulse repetitive frequency in Hz\n",
"Vo = 3*10^8;   //velocity in m/s; \n",
"n1 = 1;\n",
"n2 = 2;\n",
"n3 = 3;\n",
"//Calculations\n",
"\n",
"lamda = Vo/F;//Wavelength in m\n",
"\n",
"// blind speed Vb = n*(lamda/2)*PRF in m/s\n",
"\n",
"Vb1 = n1*(lamda/2)*PRF;//first blind speed in m/s;\n",
"Vb2 = n2*(lamda/2)*PRF;//second blind speed in m/s;\n",
"Vb3 = n3*(lamda/2)*PRF;//third blind speed in m/s;\n",
"\n",
"//Output\n",
"mprintf('First Blind Speed is %g m/s\n Second Blind Speed is %g m/s\n Third Blind Speed is %g m/s\n',Vb1,Vb2,Vb3);\n",
"mprintf('NOTE: IN TEXT BOOK THIRD BLIND SPEED IS WRONGLY PRINTED AS 48 m/s');"
   ]
   }
,
{
		   "cell_type": "markdown",
		   "metadata": {},
		   "source": [
			"## Example 3.5: FINDING_PRF.sce"
		   ]
		  },
  {
"cell_type": "code",
	   "execution_count": null,
	   "metadata": {
	    "collapsed": true
	   },
	   "outputs": [],
"source": [
"//Chapter-3, Problem 3.5 , Page106\n",
"//===========================================================================\n",
"clc;\n",
"clear;\n",
"\n",
"//INPUT DATA\n",
"F  = 10*10^9;    //operating frequency in Hz\n",
"Vo = 3*10^8;   //velocity in m/s; \n",
"Vb1 = 20;//lowest(first) blind speed in m/s\n",
"n   =1 ;//since first blindspeed\n",
"//Calculations\n",
"\n",
"lamda = Vo/F;//Wavelength in m\n",
"\n",
"// blind speed Vb = n*(lamda/2)*PRF in m/s\n",
"\n",
"PRF = (2*Vb1)/(n*lamda);//pulse repetitive frequency in Hz\n",
"\n",
"//Output\n",
"mprintf('Pulse Repetitive Frequency is %3.2f KHz',PRF/1000);"
   ]
   }
,
{
		   "cell_type": "markdown",
		   "metadata": {},
		   "source": [
			"## Example 3.6: FINDING_MAX_UNAMBIGUOUS_RANGE.sce"
		   ]
		  },
  {
"cell_type": "code",
	   "execution_count": null,
	   "metadata": {
	    "collapsed": true
	   },
	   "outputs": [],
"source": [
"//Chapter-3, Problem 3.6 , Page106\n",
"//===========================================================================\n",
"clc;\n",
"clear;\n",
"\n",
"//INPUT DATA\n",
"lamda = 3*10^-2;//wavelength in m\n",
"PRF   = 1000;  //pulse repetitive frequency in Hz\n",
"Vo    = 3*10^8;// velocity in m/s\n",
"\n",
"//Calculations\n",
"\n",
"Ruamb = (Vo)/(2*PRF);//max unambiguous range in m\n",
"//Output\n",
"mprintf('Maximum unambiguous range is %g Kms',Ruamb/1000);"
   ]
   }
,
{
		   "cell_type": "markdown",
		   "metadata": {},
		   "source": [
			"## Example 3.7: FINDING_RATIO_OF_OPERATING_FREQ.sce"
		   ]
		  },
  {
"cell_type": "code",
	   "execution_count": null,
	   "metadata": {
	    "collapsed": true
	   },
	   "outputs": [],
"source": [
"//Chapter-3, Problem 3.7 , Page106\n",
"//===========================================================================\n",
"clc;\n",
"clear;\n",
"\n",
"//INPUT DATA\n",
"\n",
"n1   = 1 ;//since first blindspeed\n",
"n3   = 3 ;//since third blindspeed\n",
"\n",
"//Calculations\n",
"\n",
"\n",
"// blind speed Vb1 = n1*(lamda_1/2)*PRF1 in m/s\n",
"// blind speed Vb3 = n3*(lamda-2/2)*PRF2 in m/s\n",
"//here PRF1 = PRF2 = PRF\n",
"//if Vb1=Vb3 then\n",
"//1*(lamda_1/2)*PRF  =  3*(lamda_2/2)*PRF\n",
"//lamda_1/lamda_2    = 3/1;\n",
"//lamda = C/F;\n",
"//therefore F1/F2 = 1/3 ;\n",
"\n",
"\n",
"//Output\n",
"mprintf('Ratio of Operating Frequencies of two Radars are (F1/F2) = 1/3');"
   ]
   }
,
{
		   "cell_type": "markdown",
		   "metadata": {},
		   "source": [
			"## Example 3.8: FINDING_RATIO_OF_PRFs.sce"
		   ]
		  },
  {
"cell_type": "code",
	   "execution_count": null,
	   "metadata": {
	    "collapsed": true
	   },
	   "outputs": [],
"source": [
"//Chapter-3, Problem 3.8 , Page107\n",
"//===========================================================================\n",
"clc;\n",
"clear;\n",
"\n",
"//INPUT DATA\n",
"\n",
"Vb1 = 20;//first blind speed in m/s\n",
"Vb2 = 30;//second blind speed in m/s\n",
"n1   =1 ;//since first blindspeed\n",
"n1   =2 ;//since second blindspeed\n",
"lamda = 3*10^-2;//wavelength in m;\n",
"//Calculations\n",
"\n",
"PRF1 = (2*Vb2)/(n1*lamda);//pulse repetitive frequency in Hz of  First Radar;\n",
"\n",
"PRF2 = (2*Vb2)/(n1*lamda);//pulse repetitive frequency in Hz of Second Radar;\n",
"\n",
"\n",
"//Output\n",
"mprintf('Ratio of pulse repetitive frequencies of the Radars is PRF1/PRF2 = %g',PRF1/PRF2);"
   ]
   }
,
{
		   "cell_type": "markdown",
		   "metadata": {},
		   "source": [
			"## Example 3.9: FINDING_BLIND_SPEEDS.sce"
		   ]
		  },
  {
"cell_type": "code",
	   "execution_count": null,
	   "metadata": {
	    "collapsed": true
	   },
	   "outputs": [],
"source": [
"//Chapter-3, Problem 3.9 , Page107\n",
"//===========================================================================\n",
"clc;\n",
"clear;\n",
"\n",
"//INPUT DATA\n",
"F  = 6*10^9;    //operating frequency in Hz\n",
"PRF= 1000;       //pulse repetitive frequency in Hz\n",
"Vo = 3*10^8;   //velocity in m/s; \n",
"n2 = 2;        // n value for second blind speed\n",
"n3 = 3;       // n value for third blind speed\n",
"//Calculations\n",
"\n",
"lamda = Vo/F//Wavelength in m\n",
"\n",
"// blind speed Vb = n*(lamda/2)*PRF in m/s\n",
"\n",
"Vb2 = n2*(lamda/2)*PRF  //second blind speed in m/s;\n",
"Vb21 = Vb2*18/5 ;       //second blind speed in kmph; \n",
"Vb3 = n3*(lamda/2)*PRF //third blind speed in m/s;\n",
"Vb31 = Vb3*18/5;       //third blind speed in kmph;\n",
"\n",
"//Output\n",
"mprintf('Second Blind Speed is %g kmph\n Third Blind Speed is %g kmph\n',Vb21,Vb31);\n",
""
   ]
   }
],
"metadata": {
		  "kernelspec": {
		   "display_name": "Scilab",
		   "language": "scilab",
		   "name": "scilab"
		  },
		  "language_info": {
		   "file_extension": ".sce",
		   "help_links": [
			{
			 "text": "MetaKernel Magics",
			 "url": "https://github.com/calysto/metakernel/blob/master/metakernel/magics/README.md"
			}
		   ],
		   "mimetype": "text/x-octave",
		   "name": "scilab",
		   "version": "0.7.1"
		  }
		 },
		 "nbformat": 4,
		 "nbformat_minor": 0
}
