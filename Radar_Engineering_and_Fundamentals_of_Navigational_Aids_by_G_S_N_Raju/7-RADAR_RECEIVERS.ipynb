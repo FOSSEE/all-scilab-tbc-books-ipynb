{
"cells": [
 {
		   "cell_type": "markdown",
	   "metadata": {},
	   "source": [
       "# Chapter 7: RADAR RECEIVERS"
	   ]
	},
{
		   "cell_type": "markdown",
		   "metadata": {},
		   "source": [
			"## Example 7.1: FINDING_PROBABILTY_OF_FALSE_ALARM.sce"
		   ]
		  },
  {
"cell_type": "code",
	   "execution_count": null,
	   "metadata": {
	    "collapsed": true
	   },
	   "outputs": [],
"source": [
"//Chapter-7 example 1\n",
"//=============================================================================\n",
"clc;\n",
"clear;\n",
"//input data\n",
"BW    = 0.5*10^9;//bandwidth of pulsed radar in hz\n",
"Tfa   = 10;//false alarm time in minutes\n",
"\n",
"//Calculations\n",
"Tfa1  = Tfa*60;//false alarm time in seconds\n",
"Pfa  = 1/(BW*Tfa1)\n",
"//Output\n",
"mprintf('probability of false alarm is %g',Pfa);\n",
"\n",
"//=============end of the program=============================================="
   ]
   }
,
{
		   "cell_type": "markdown",
		   "metadata": {},
		   "source": [
			"## Example 7.2: FINDING_RADAR_INTEGRATION_TIME.sce"
		   ]
		  },
  {
"cell_type": "code",
	   "execution_count": null,
	   "metadata": {
	    "collapsed": true
	   },
	   "outputs": [],
"source": [
"//Chapter-7 example 2\n",
"//=============================================================================\n",
"clc;\n",
"clear;\n",
"//input data\n",
"BW    = 1*10^9;//bandwidth of pulsed radar in hz\n",
"\n",
"//Calculations\n",
"Tint  = 1/BW;//radar integration time in sec\n",
"//Output\n",
"mprintf('Radar integration time is %g nsec',Tint*10^9);\n",
"\n",
"//=============end of the program=============================================="
   ]
   }
,
{
		   "cell_type": "markdown",
		   "metadata": {},
		   "source": [
			"## Example 7.5: FINDING_RANGE_RESOLUTION.sce"
		   ]
		  },
  {
"cell_type": "code",
	   "execution_count": null,
	   "metadata": {
	    "collapsed": true
	   },
	   "outputs": [],
"source": [
"//Chapter-7 example 5\n",
"//=============================================================================\n",
"clc;\n",
"clear;\n",
"//input data\n",
"BW     = 0.5*10^9;  //Bandwidth of waveform in Hz\n",
"PW     = 5*10^-3;   //pulse width in sec\n",
"Vo     = 3*10^8;    //velocity of EM wave\n",
"\n",
"//Calculations\n",
"\n",
"RR     = (Vo*PW)/2 ; //Range Resolution in m before compression\n",
"\n",
"//RR   = Vo*tn1/2 ;\n",
"tn1    = 1/BW ;\n",
"RRc    = (Vo*tn1)/2 ; //Range Resolution in m after compression\n",
"\n",
"//output\n",
"\n",
"mprintf('Range Resolution before compression = %e m\n Range Resolution before compression = %3.2f m\n',RR,RRc );\n",
"mprintf(' Note: Wrong Calculation in Textbook');\n",
""
   ]
   }
,
{
		   "cell_type": "markdown",
		   "metadata": {},
		   "source": [
			"## Example 7.8: RANGE_RESOLUTION_BEFORE_AND_AFTER_COMPRESSION.sce"
		   ]
		  },
  {
"cell_type": "code",
	   "execution_count": null,
	   "metadata": {
	    "collapsed": true
	   },
	   "outputs": [],
"source": [
"//Chapter-7 example 8\n",
"//=============================================================================\n",
"clc;\n",
"clear;\n",
"//input data\n",
"BW     = 0.3*10^9;  //Bandwidth of waveform in Hz\n",
"PW     = 3*10^-3;   //pulse width in sec\n",
"Vo     = 3*10^8;    //velocity of EM wave\n",
"\n",
"//Calculations\n",
"\n",
"RR     = (Vo*PW)/2 ; //Range Resolution in m before compression\n",
"\n",
"//RR   = Vo*tn1/2 ;\n",
"tn1    = 1/BW ;\n",
"RRc    = (Vo*tn1)/2 ; //Range Resolution in m after compression\n",
"\n",
"//output\n",
"\n",
"mprintf('Range Resolution before compression = %e m\n Range Resolution before compression = %3.2f m\n',RR,RRc );\n",
"\n",
""
   ]
   }
,
{
		   "cell_type": "markdown",
		   "metadata": {},
		   "source": [
			"## Example 7.9: FINDING_MIN_RECEIVABLE_SIGNAL.sce"
		   ]
		  },
  {
"cell_type": "code",
	   "execution_count": null,
	   "metadata": {
	    "collapsed": true
	   },
	   "outputs": [],
"source": [
"//Chapter-7 example 9\n",
"//=============================================================================\n",
"clc;\n",
"clear;\n",
"//input data\n",
"BW     =  2*10^6;      //Radar Bandwidth in Hz\n",
"Fn     =  9;           //Noise Figure in dB\n",
"k      =  1.38*10^-23; //Boltzmann constant\n",
"To     =  290;         //Temperature in kelvin\n",
"\n",
"//Antilog Calculation\n",
"// 10*log10(Fn)  = 9\n",
"//Fn             = antilog(9/10) ;\n",
"Fn     = 10^(9/10)\n",
"\n",
"MRS    = k*To*BW*(Fn-1); //Minimum Receivable signal\n",
"\n",
"//Output\n",
"\n",
"mprintf('Minimum Receivable signal(MRS)  = %3.4f PW',MRS*10^12);  \n",
"mprintf('\n Note: Calculation error in Textbook');"
   ]
   }
],
"metadata": {
		  "kernelspec": {
		   "display_name": "Scilab",
		   "language": "scilab",
		   "name": "scilab"
		  },
		  "language_info": {
		   "file_extension": ".sce",
		   "help_links": [
			{
			 "text": "MetaKernel Magics",
			 "url": "https://github.com/calysto/metakernel/blob/master/metakernel/magics/README.md"
			}
		   ],
		   "mimetype": "text/x-octave",
		   "name": "scilab",
		   "version": "0.7.1"
		  }
		 },
		 "nbformat": 4,
		 "nbformat_minor": 0
}
