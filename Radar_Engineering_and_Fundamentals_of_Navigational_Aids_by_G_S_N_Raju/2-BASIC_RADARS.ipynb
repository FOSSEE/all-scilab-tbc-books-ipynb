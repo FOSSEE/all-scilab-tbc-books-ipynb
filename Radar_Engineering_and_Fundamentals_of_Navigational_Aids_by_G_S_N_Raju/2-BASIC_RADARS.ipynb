{
"cells": [
 {
		   "cell_type": "markdown",
	   "metadata": {},
	   "source": [
       "# Chapter 2: BASIC RADARS"
	   ]
	},
{
		   "cell_type": "markdown",
		   "metadata": {},
		   "source": [
			"## Example 2.1: FINDING_RANGE_OF_TARGET.sce"
		   ]
		  },
  {
"cell_type": "code",
	   "execution_count": null,
	   "metadata": {
	    "collapsed": true
	   },
	   "outputs": [],
"source": [
"//Chapter-2 example 2.1\n",
"//=============================================================================\n",
"clc;\n",
"clear;\n",
"Tdelay=200*10^-6;       //time delay in sec\n",
"Vo=3*10^8;              //velocity in m/s\n",
"//Calculations\n",
"R=(Vo*Tdelay)/2;        //Range of the target in kms\n",
"\n",
"\n",
"//Output\n",
"mprintf('Range of the target is %3.1f Kms',R/1000);\n",
"//============================================================================="
   ]
   }
,
{
		   "cell_type": "markdown",
		   "metadata": {},
		   "source": [
			"## Example 2.2: FINDING_DUTY_CYCLE_PRT_PULSE_WIDTH_PULSE_ENERGY.sce"
		   ]
		  },
  {
"cell_type": "code",
	   "execution_count": null,
	   "metadata": {
	    "collapsed": true
	   },
	   "outputs": [],
"source": [
"//Chapter-2 example 2.2\n",
"//=============================================================================\n",
"clc;\n",
"clear;\n",
"Pt=5000;    //Peak tx power in watts\n",
"Pav=1000;   //Average Power\n",
"PRF1 = 10;  //Pulse repetition frequency in khz\n",
"PRF2 = 20;  //Pulse repetition frequency in khz\n",
"//Calculations\n",
"D=Pav/Pt;//Duty cycle\n",
"PRI1=1/PRF1;    //Pulse repetitive interval in  msec\n",
"PRI2=1/PRF2;    //Pulse repetitive interval in  msec\n",
"PW1=D*PRI1;     //Pulse Width in msec\n",
"PW2=D*PRI2;     //Pulse Width in msec\n",
"PE1=Pt*PW1;     //Pulse Energy in joules\n",
"PE2=Pt*PW2;     //Pulse Energy in joules\n",
"//Output\n",
"mprintf('Duty cycle is %3.2f \n pulse repetition interval 1 is %3.2f msec\n pulse repetition interval 2 is %3.2f msec\n Pulse Width1 is %3.2f usec\n Pulse Width2 is %3.2f usec\n Pulse Energy1 is %3.2f J \n Pulse Energy2 is %3.2f J',D,PRI1,PRI2,PW1*1000,PW2*1000,PE1/1000,PE2/1000);"
   ]
   }
,
{
		   "cell_type": "markdown",
		   "metadata": {},
		   "source": [
			"## Example 2.3: FINDING_PRF_PRT_RANGE_RESOLUTION_AND_PULSE_WIDTH.sce"
		   ]
		  },
  {
"cell_type": "code",
	   "execution_count": null,
	   "metadata": {
	    "collapsed": true
	   },
	   "outputs": [],
"source": [
"//Chapter-2 example 2.3\n",
"//=============================================================================\n",
"clc;\n",
"clear;\n",
"UR=200;//unambiguous range in kms\n",
"BW=1*10^6;//bandwidth in hz\n",
"V0=3*10^8;//velocity in m/s\n",
"//Calculations\n",
"PRF=V0/(2*UR*10^3);//pulse repetition frequency in hz\n",
"PRI=1/PRF;//pulse repetition interval in sec\n",
"RR=V0/(2*BW);//Range Resolution in mts\n",
"PW=(2*RR)/(V0);//pulse width\n",
"//Calculations\n",
"mprintf('pulse repetition frequency is %3.2f Hz\n pulse repetition interval is %3.2f msec\n Range Resolution is %3.2f m\n pulse width is %3.1fusec',PRF,PRI*1000,RR,PW*10^6);\n",
""
   ]
   }
,
{
		   "cell_type": "markdown",
		   "metadata": {},
		   "source": [
			"## Example 2.4: FINDING_DUTY_CYCLE_AVERAGE_POWER.sce"
		   ]
		  },
  {
"cell_type": "code",
	   "execution_count": null,
	   "metadata": {
	    "collapsed": true
	   },
	   "outputs": [],
"source": [
"//Chapter-2 example 2.4\n",
"//=============================================================================\n",
"clc;\n",
"clear;\n",
"Pt=50000;//peal power in watts\n",
"PRF=1000;//pulse repetitive frequency in hz\n",
"PW=0.8;//pulse width in usec\n",
"//Calculations\n",
"D=PW*PRF*10^-6;//duty cycle \n",
"Pav=Pt*D;//average power\n",
"//output\n",
"mprintf('Duty cycle is %g\n Average power is %g Watts',D,Pav);"
   ]
   }
,
{
		   "cell_type": "markdown",
		   "metadata": {},
		   "source": [
			"## Example 2.5: FINDING_PRF_AVERAGE_POWER_DUTY_CYCLE_AND_RADAR_RANGE.sce"
		   ]
		  },
  {
"cell_type": "code",
	   "execution_count": null,
	   "metadata": {
	    "collapsed": true
	   },
	   "outputs": [],
"source": [
"//Chapter-2 example 2.5\n",
"//=============================================================================\n",
"clc;\n",
"clear;\n",
"Vo=3*10^8;//velocity in m/s\n",
"Pt=1*10^6;//peak power in watts\n",
"PW=1.2*10^-6;//pulse width in sec\n",
"PRI=1*10^-3;//pulse repetition interval in sec\n",
"//Calculations\n",
"PRF=1/PRI;//pulse repetition frequency in hz\n",
"Pav=Pt*PW*PRF;//average power in watts\n",
"D=Pav/Pt;//Duty cycle;\n",
"Rmax=Vo/(2*PRF);//maximum range of the radar in m\n",
"mprintf('pulse repetition frequency is %g KHz\n average power is %g KW\n Duty cycle = %e\n maximum range of the radar is %g Km',PRF/1000,Pav/1000,D,Rmax/1000 );"
   ]
   }
,
{
		   "cell_type": "markdown",
		   "metadata": {},
		   "source": [
			"## Example 2.6: FINDING_RANGE_RESOLUTION_AND_UNAMBIGUOUS_RANGE.sce"
		   ]
		  },
  {
"cell_type": "code",
	   "execution_count": null,
	   "metadata": {
	    "collapsed": true
	   },
	   "outputs": [],
"source": [
"//Chapter-2 example 2.6\n",
"//=============================================================================\n",
"clc;\n",
"clear;\n",
"PW = 2*10^-6;       //pulse width in sec\n",
"PRF=800;            //pulse repetition frequency in KHz\n",
"V0=3*10^8;          //velocity in m/s\n",
"//Calculations\n",
"Ru=V0/(2*PRF);      //unambigious range in mts\n",
"RR=(V0*PW)/2;       //Range resolution in m\n",
"//output\n",
"mprintf('unambigious range is %g Km\n Range resolution is %g m',Ru/1000,RR);"
   ]
   }
,
{
		   "cell_type": "markdown",
		   "metadata": {},
		   "source": [
			"## Example 2.7: FINDING_PRF.sce"
		   ]
		  },
  {
"cell_type": "code",
	   "execution_count": null,
	   "metadata": {
	    "collapsed": true
	   },
	   "outputs": [],
"source": [
"//Chapter-2 example 2.7\n",
"//=============================================================================\n",
"clc;\n",
"clear;\n",
"Rmax=500;//maximum range in kms\n",
"V0=3*10^8;//velocity in m/s;\n",
"//calculations\n",
"PRF=(V0/(2*Rmax*10^3));//pulse repetitive frequency in Hz\n",
"//output\n",
"mprintf('pulse repetitive frequency is %g Hz',PRF);"
   ]
   }
,
{
		   "cell_type": "markdown",
		   "metadata": {},
		   "source": [
			"## Example 2.8: FINDING_MIN_RECEIVABLE_SIGNAL.sce"
		   ]
		  },
  {
"cell_type": "code",
	   "execution_count": null,
	   "metadata": {
	    "collapsed": true
	   },
	   "outputs": [],
"source": [
"//Chapter-2 example 8\n",
"//=============================================================================\n",
"clc;\n",
"clear;\n",
"//input data\n",
"F          = 9;             //Noise figure in dB\n",
"BW         = 3*10^6;        // Bandwidth\n",
"To         = 290;           // Temperature in kelvin\n",
"K          = 1.38*10^-23;   // Boltzman constant\n",
"\n",
"//Calculations\n",
"\n",
"F1         = 10^(F/10)     //antilog calculation\n",
"Pmin       = (K*To*BW)*(F1-1);//minimum receivable power\n",
"\n",
"//Output\n",
"mprintf('Minimum receivable power Pmin = %3.4f pW',Pmin*10^12);\n",
"mprintf('\n Calculation error at Pmin in textbook');\n",
"\n",
"\n",
"//=============================================================================="
   ]
   }
,
{
		   "cell_type": "markdown",
		   "metadata": {},
		   "source": [
			"## Example 2.9: FINDING_MAX_RADAR_RANGE.sce"
		   ]
		  },
  {
"cell_type": "code",
	   "execution_count": null,
	   "metadata": {
	    "collapsed": true
	   },
	   "outputs": [],
"source": [
"//Chapter-2 example 2.9\n",
"//=============================================================================\n",
"clc;\n",
"clear;\n",
"Pt=500000;//peal power in watts\n",
"F=10*10^9;//operating frequency in hz\n",
"MRP=0.1*10^-12;//minimum receivable power in pico watts\n",
"Ac=5;//capture area of antenna in m^2;\n",
"RCS=20;//radar cross sectional area in m^2;\n",
"Vo=3*10^8//velocity in m/s\n",
"// calculations\n",
"lamda =Vo/F\n",
"Rmax=((Pt*Ac*Ac*RCS)/(4*%pi*lamda*lamda*MRP))^0.25\n",
"\n",
"//output\n",
"mprintf('Maximum Radar Range is %3.1f kms',Rmax/1000);"
   ]
   }
],
"metadata": {
		  "kernelspec": {
		   "display_name": "Scilab",
		   "language": "scilab",
		   "name": "scilab"
		  },
		  "language_info": {
		   "file_extension": ".sce",
		   "help_links": [
			{
			 "text": "MetaKernel Magics",
			 "url": "https://github.com/calysto/metakernel/blob/master/metakernel/magics/README.md"
			}
		   ],
		   "mimetype": "text/x-octave",
		   "name": "scilab",
		   "version": "0.7.1"
		  }
		 },
		 "nbformat": 4,
		 "nbformat_minor": 0
}
