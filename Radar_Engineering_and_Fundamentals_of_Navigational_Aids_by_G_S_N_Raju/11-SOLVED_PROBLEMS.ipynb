{
"cells": [
 {
		   "cell_type": "markdown",
	   "metadata": {},
	   "source": [
       "# Chapter 11: SOLVED PROBLEMS"
	   ]
	},
{
		   "cell_type": "markdown",
		   "metadata": {},
		   "source": [
			"## Example 11.10: FINDING_DOPPLERSHIFT_FREQUENCY_AND_FREQ_OF_RELECTED_ECHO.sce"
		   ]
		  },
  {
"cell_type": "code",
	   "execution_count": null,
	   "metadata": {
	    "collapsed": true
	   },
	   "outputs": [],
"source": [
"//Chapter-11 example 10\n",
"//=============================================================================\n",
"clc;\n",
"clear;\n",
"//input data\n",
"F  = 9*10^9;//Transmitting Frequency of Radar\n",
"Vr = 800;//velocity of aircraft in Kmph\n",
"Vo = 3*10^8;//velocity of EM wave in m/s\n",
"\n",
"//Calculations\n",
"\n",
"Va    = Vr*(5/18)//velocity of aircraft in m/s\n",
"Fd    = (2*Va*F)/Vo//Doppler Frequency shift in Hz\n",
"Fr    = F+Fd;//frequency of reflected echo in Hz\n",
"//Output\n",
"mprintf('Doppler Frequency shift is %g Hz\n frequency of reflected echo is %e Khz\n',Fd,Fr/1000)\n",
"mprintf('Note: doppler frequency shift wrongly printed in Text Book as 1333.3 Hz');\n",
"//=============end of the program=============================================="
   ]
   }
,
{
		   "cell_type": "markdown",
		   "metadata": {},
		   "source": [
			"## Example 11.11: FINDING_DOPPLER_SHIFT_FREQUENCY_AND_FREQUENCY_OF_REFLECTED_SIGNAL.sce"
		   ]
		  },
  {
"cell_type": "code",
	   "execution_count": null,
	   "metadata": {
	    "collapsed": true
	   },
	   "outputs": [],
"source": [
"//Chapter-11 example 11\n",
"//=============================================================================\n",
"clc;\n",
"clear;\n",
"//input data\n",
"F  = 2*10^9;//Transmitting Frequency of Radar\n",
"Vr = 350;//velocity of sports Car in Kmph\n",
"Vo = 3*10^8;//velocity of EM wave in m/s\n",
"\n",
"//Calculations\n",
"\n",
"Va    = Vr*(5/18)//velocity of aircraft in m/s\n",
"Fd    = (2*Va*F)/Vo//Doppler Frequency shift in Hz\n",
"//Car moving away from Radar\n",
"Fr    = F-Fd;//frequency of reflected signal in Hz\n",
"\n",
"//Output\n",
"mprintf('Doppler Frequency shift is %g Hz\n frequency of reflected echo is %g Ghz - %g Hz\n',Fd,F/10^9,Fd)\n",
"mprintf(' Note: doppler frequency shift wrongly printed in Text Book as 129.6 Hz\n Vr is printed as 9.72 m/s instead of 97.2 m/s');\n",
"//=============end of the program=============================================="
   ]
   }
,
{
		   "cell_type": "markdown",
		   "metadata": {},
		   "source": [
			"## Example 11.12: FINDING_AVERAGE_POWER.sce"
		   ]
		  },
  {
"cell_type": "code",
	   "execution_count": null,
	   "metadata": {
	    "collapsed": true
	   },
	   "outputs": [],
"source": [
"//Chapter-11 example 12\n",
"//=============================================================================\n",
"clc;\n",
"clear;\n",
"//input data\n",
"PRF   =  2000;//pulse repetition frequency per second\n",
"PW    =  1*10^-6;//pulse width in sec\n",
"Pp    =  500*10^3;//Peak power in watts\n",
"\n",
"//Calculations\n",
"Dc    =  PW*PRF;//Duty Cycle\n",
"Pav   =  Pp*Dc;//average power in watts\n",
"pavdB = 10*log10(Pav);\n",
"\n",
"//Output\n",
"\n",
"mprintf('Average power is %g KW\n Average Power is %g dB',Pav/1000,pavdB);\n",
"\n",
"//=============end of the program=============================================="
   ]
   }
,
{
		   "cell_type": "markdown",
		   "metadata": {},
		   "source": [
			"## Example 11.13: FINDING_DUTY_CYCLE_AVERAGE_POWER_AND_MAX_RANGE_OF_RADAR.sce"
		   ]
		  },
  {
"cell_type": "code",
	   "execution_count": null,
	   "metadata": {
	    "collapsed": true
	   },
	   "outputs": [],
"source": [
"//Chapter-11 example 13\n",
"//=============================================================================\n",
"clc;\n",
"clear;\n",
"//input data\n",
"PRF   =  1000;//pulse repetition frequency per second\n",
"PW    =  0.8*10^-6;//pulse width in sec\n",
"Pp    =  10*10^6;//Peak power in watts\n",
"Vo    =  3*10^8;//velocity of EM wave in m/s;\n",
"\n",
"//Calculations\n",
"Dc    =  PW*PRF;//Duty Cycle\n",
"Pav   =  Pp*Dc;//average power in watts\n",
"Rmax  =  Vo/(2*PRF);\n",
"\n",
"\n",
"//Output\n",
"\n",
"mprintf('Average power is %g KW\n Maximum Radar Range is %g Km',Pav/1000,Rmax/1000);\n",
"\n",
"//=============end of the program=============================================="
   ]
   }
,
{
		   "cell_type": "markdown",
		   "metadata": {},
		   "source": [
			"## Example 11.14: FINDING_PRF.sce"
		   ]
		  },
  {
"cell_type": "code",
	   "execution_count": null,
	   "metadata": {
	    "collapsed": true
	   },
	   "outputs": [],
"source": [
"//Chapter-11 example 14\n",
"//=============================================================================\n",
"clc;\n",
"clear;\n",
"//input data\n",
"Rmax  =  500*10^3;//maximum Range of Radar in ms\n",
"Vo    =  3*10^8;//Velocity of EM wave in m/s\n",
"//Calculations\n",
"\n",
"PRF   = Vo/(2*Rmax);//pulse repetitive frequency in Hz\n",
"\n",
"//output\n",
"mprintf('Pulse repetive frequency required for the range of 500km is %g Hz',PRF);\n",
"\n",
"//========end of program======================================================="
   ]
   }
,
{
		   "cell_type": "markdown",
		   "metadata": {},
		   "source": [
			"## Example 11.15: FINDING_RANGE.sce"
		   ]
		  },
  {
"cell_type": "code",
	   "execution_count": null,
	   "metadata": {
	    "collapsed": true
	   },
	   "outputs": [],
"source": [
"//Chapter-11 example 15\n",
"//=============================================================================\n",
"clc;\n",
"clear;\n",
"//input data\n",
"Te    =  0.2*10^-3;//echo time in sec\n",
"PRF   =  1000;//pulse repetitive Frequency in Hz\n",
"Vo    =  3*10^8;//Velocity of EM wave in m/s\n",
"//Calculations\n",
"R     =  (Vo*Te)/2;//Range of the target in m\n",
"Runamb  =  (Vo/(2*PRF));//Maximum unambiguous Range in m\n",
"\n",
"//Output\n",
"mprintf('Target range is %g Km\n Maximum Unambiguous Range is %g Km',R/1000,Runamb/1000);\n",
"\n",
"//=================end of program=============================================="
   ]
   }
,
{
		   "cell_type": "markdown",
		   "metadata": {},
		   "source": [
			"## Example 11.16: FINDING_FREQUENCIES.sce"
		   ]
		  },
  {
"cell_type": "code",
	   "execution_count": null,
	   "metadata": {
	    "collapsed": true
	   },
	   "outputs": [],
"source": [
"//Chapter-11 example 16\n",
"//=============================================================================\n",
"clc;\n",
"clear;\n",
"//input data\n",
"F     = 10*10^9;//operating frequency of radar in Hz\n",
"Vo    =  3*10^8;//Velocity of EM wave in m/s\n",
"Vr    =  100;//velocity of car in kmph\n",
"//Calculations\n",
"lamda = Vo/F;//wavelength in m\n",
"Vc    = Vr*(5/18);//velocity of car in m/s\n",
"Fd    = (2*Vc)/lamda;//doppler shift in Hz\n",
"//Output\n",
"mprintf('Doppler Shift is %g KHz\n Frequency of the Received echo when car is approaching radar is %g Ghz + %g Khz\n Frequency of the Received echo when car is moving away from radar is %g Ghz - %g Khz',Fd/1000,F/10^9,Fd/1000,F/10^9,Fd/1000);\n",
"\n",
"//=================end of program=============================================="
   ]
   }
,
{
		   "cell_type": "markdown",
		   "metadata": {},
		   "source": [
			"## Example 11.17: FINDING_BEAMWIDTH.sce"
		   ]
		  },
  {
"cell_type": "code",
	   "execution_count": null,
	   "metadata": {
	    "collapsed": true
	   },
	   "outputs": [],
"source": [
"//Chapter-11 example 17\n",
"//=============================================================================\n",
"clc;\n",
"clear;\n",
"//input data\n",
"D   =  200;//azimuth distance between two radars\n",
"R   =  10*10^3;//Range of radar\n",
"\n",
"//Calculations\n",
"BWdB = (D/R)*(180/%pi);//3dB beam width in degrees\n",
"\n",
"//Output\n",
"mprintf('Maximum 3db beamwidth of radar resolving the target is %3.3f degrees',BWdB);\n",
"\n",
"//=============end of the program==============================================="
   ]
   }
,
{
		   "cell_type": "markdown",
		   "metadata": {},
		   "source": [
			"## Example 11.18: FINDING_MIN_TIME_REQUIRED_TO_RESOLVE_AIRCRAFTS.sce"
		   ]
		  },
  {
"cell_type": "code",
	   "execution_count": null,
	   "metadata": {
	    "collapsed": true
	   },
	   "outputs": [],
"source": [
"//Chapter-11 example 18\n",
"//=============================================================================\n",
"clc;\n",
"clear;\n",
"//input data\n",
"F     = 10*10^9;//operating frequency of radar in Hz\n",
"Vo    =  3*10^8;//Velocity of EM wave in m/s\n",
"Vr1    =  100;//velocity of one aircraft in m/s\n",
"theta  = 45;//angle b/n velocity vector and radar axis for second aircraft\n",
"Vr     = 200;//vel in m/s\n",
"//Calculations\n",
"lamda = Vo/F;//wavelength in m\n",
"Fd1   = (2*Vr1)/lamda//doppler shift due to 1st aircraft\n",
"Vr2   = Vr*cos(45*%pi/180)//radial velocity of the second aircraft\n",
"Fd2   = (2*Vr2)/lamda//doppler shift due to 2nd aircraft\n",
"Fd    = Fd2-Fd1//difference in doppler shift in Hz\n",
"T     = 1/Fd;//time required to resolve the aircraft in sec\n",
"\n",
"//Output\n",
"mprintf('Minimum time required to resolve the aircrafts is %g usec\n',T*10^6);\n",
"mprintf(' Note: in textbook there is a mistake in the calculation of doppler shift Fd1');\n",
"//============end of the program================================================"
   ]
   }
,
{
		   "cell_type": "markdown",
		   "metadata": {},
		   "source": [
			"## Example 11.19: FINDING_DUTY_CYCLE_CORRECTION_FACTOR.sce"
		   ]
		  },
  {
"cell_type": "code",
	   "execution_count": null,
	   "metadata": {
	    "collapsed": true
	   },
	   "outputs": [],
"source": [
"//Chapter-11 example 19\n",
"//=============================================================================\n",
"clc;\n",
"clear;\n",
"//input data\n",
"Pp  = 100*10^3;//peak power in watts\n",
"Pav = 100;//average power in watts\n",
"\n",
"//Calculations\n",
"PdB = 10*log10(Pp);//peak power in dB\n",
"PavdB = 10*log10(Pav);//average power in dB;\n",
"DCC  = PdB-PavdB;//Duty Cycle Correction factor\n",
"\n",
"//Output\n",
"mprintf('Duty Cycle Correction Factor is %g dB\n',DCC);\n",
"mprintf(' Note: In question given peak power  is 100KW but while solving 1KW is taken instead of 100KW')\n",
"\n",
"//============end of the program=============================================="
   ]
   }
,
{
		   "cell_type": "markdown",
		   "metadata": {},
		   "source": [
			"## Example 11.1: FINDING_RECEIVED_SIGNAL_POWER.sce"
		   ]
		  },
  {
"cell_type": "code",
	   "execution_count": null,
	   "metadata": {
	    "collapsed": true
	   },
	   "outputs": [],
"source": [
"//Chapter-11 example 1\n",
"//=============================================================================\n",
"clc;\n",
"clear;\n",
"//Given data\n",
"F  = 10*10^9;   //radar operating frequency in Hz\n",
"Vo = 3*10^8;    //vel in m/s;\n",
"G  = 20;        //antenna gain in dBi;\n",
"R  = 20*10^3;   //distance of radar reflected signal from target\n",
"Pt = 10*10^3     //Tx power in watts\n",
"CS = 10;        //cross sectional area in m^2\n",
"// Calculations\n",
"Gain = 10^(G/10)    //G = 10log(Gain) ==>gain - antilog(20/10);\n",
"Gr = Gain;  //gain of tx antenna and Rx antenna\n",
"Gt = Gain\n",
"lamda = Vo/F\n",
"Pr= (lamda*lamda*Pt*Gt*Gr*CS)/((4*4*4*%pi*%pi*%pi)*(R^4))//received power in watts\n",
"\n",
"// Output\n",
"mprintf('Received signal Power is %g',Pr);\n",
"mprintf('\n Note : Calculation error in Textbook');\n",
"\n",
"\n",
""
   ]
   }
,
{
		   "cell_type": "markdown",
		   "metadata": {},
		   "source": [
			"## Example 11.20: FINDING_AVERAGE_POWER_DUTY_CYCLE_AND_PULSE_ENERGY.sce"
		   ]
		  },
  {
"cell_type": "code",
	   "execution_count": null,
	   "metadata": {
	    "collapsed": true
	   },
	   "outputs": [],
"source": [
"//Chapter-11 example 20\n",
"//=============================================================================\n",
"clc;\n",
"clear;\n",
"//input data\n",
"Pp   = 1*10^6;//peak power in watts\n",
"PW   = 1*10^-6;//pulse width in sec\n",
"NPd   = 20;//pulses in one dwell period\n",
"PRF  = 1000;//pulse repetitive frequency\n",
"\n",
"//calculations\n",
"PE   = Pp*PW;//pulse energy in joule\n",
"PED  = NPd*PE;//pulse energy in one dwell period\n",
"D    = PW*PRF;//Duty cycle\n",
"Pav  = Pp*D;//average power in watts\n",
"\n",
"//output\n",
"mprintf('Average Power is %g watts\n Duty Cycle is %e\n Pulse Energy is %g Joules\n Pulse Energy in one Dwell Period is %g Joules\n',Pav,D,PE,PED);\n",
"mprintf(' Note: In textbook Values of PRF and pulses in one dwell period are varied from given values in question while solving ' );\n",
";\n",
"//================end of the program============================================\n",
""
   ]
   }
,
{
		   "cell_type": "markdown",
		   "metadata": {},
		   "source": [
			"## Example 11.21: FINDING_NOISE_POWER_SPECTRAL_DENSITY.sce"
		   ]
		  },
  {
"cell_type": "code",
	   "execution_count": null,
	   "metadata": {
	    "collapsed": true
	   },
	   "outputs": [],
"source": [
"//Chapter-11 example 21\n",
"//=============================================================================\n",
"clc;\n",
"clear;\n",
"//input data\n",
"Noise_power = -50;//noise power in dBm\n",
"Fl = 1*10^6;//lower cutoff frequency in Hz\n",
"Fh = 21*10^6;//upper cutoff frequency in Hz\n",
"\n",
"//calculation\n",
"BW = Fh-Fl;//bandwidth\n",
"NP =10^-8//noise power in watts; -50dBm = 10log10(NP) =>10^-5 mwatts\n",
"NPSD = NP/BW;//noise power spectral density in W/Hz\n",
"\n",
"//output\n",
"mprintf('Noise Power Spectral Density is %3.0e W/Hz',NPSD);\n",
"\n",
"//==============end of the program============================================="
   ]
   }
,
{
		   "cell_type": "markdown",
		   "metadata": {},
		   "source": [
			"## Example 11.22: FINDING_RANGE_OF_TARGET.sce"
		   ]
		  },
  {
"cell_type": "code",
	   "execution_count": null,
	   "metadata": {
	    "collapsed": true
	   },
	   "outputs": [],
"source": [
"//Chapter-11 example 22\n",
"//=============================================================================\n",
"clc;\n",
"clear;\n",
"//input data\n",
"Ra = 1000;//Range of target A in Kms\n",
"//Calculations\n",
"Rb =Ra*cos(45*%pi/180);//range of target B in kms\n",
"\n",
"//output\n",
"mprintf('Range of target B is %g Kms\n',Rb);\n",
"mprintf(' Note:value of cos(45) is incorrectly taken as 1/2 in textbook');\n",
"\n",
"//====================end of the program======================================="
   ]
   }
,
{
		   "cell_type": "markdown",
		   "metadata": {},
		   "source": [
			"## Example 11.23: FINDING_RANGE_OF_TARGET.sce"
		   ]
		  },
  {
"cell_type": "code",
	   "execution_count": null,
	   "metadata": {
	    "collapsed": true
	   },
	   "outputs": [],
"source": [
"//Chapter-11 example 23\n",
"//=============================================================================\n",
"clc;\n",
"clear;\n",
"//input data\n",
"Az = 60;//azimuth angle of the target in degrees\n",
"Height = 10;//height of target in kms\n",
"//Calculations\n",
"R = 10/sin(Az*%pi/180);\n",
"\n",
"//output\n",
"mprintf('Range of the Target is %g Kms',R);\n",
"\n",
"//==========end of the program================================================="
   ]
   }
,
{
		   "cell_type": "markdown",
		   "metadata": {},
		   "source": [
			"## Example 11.24: FINDING_TARGET_BLIND_SPEED.sce"
		   ]
		  },
  {
"cell_type": "code",
	   "execution_count": null,
	   "metadata": {
	    "collapsed": true
	   },
	   "outputs": [],
"source": [
"//Chapter-11 example 24\n",
"//=============================================================================\n",
"clc;\n",
"clear;\n",
"//input data\n",
"F = 10*10^9;//MTI radar operating Frequency\n",
"Vo = 3*10^8;//velocity of EM wave in m/s;\n",
"PRF = 2*10^3;//pulse repetitive frequency in hz\n",
"n=1;//for lowest blind speed\n",
"//Calculations\n",
"lamda = Vo/F;//wavelength in m\n",
"BS   =(n*lamda/2)*PRF;//blind speed\n",
"\n",
"//output\n",
"mprintf('Lowest Blind Speed is %g m/s',BS);\n",
"\n",
"//==========end of the program================================================="
   ]
   }
,
{
		   "cell_type": "markdown",
		   "metadata": {},
		   "source": [
			"## Example 11.25: RATIO_OF_OPERATING_FREQUENCIES.sce"
		   ]
		  },
  {
"cell_type": "code",
	   "execution_count": null,
	   "metadata": {
	    "collapsed": true
	   },
	   "outputs": [],
"source": [
"//Chapter-11 example 25\n",
"//=============================================================================\n",
"clc;\n",
"clear;\n",
"//input data\n",
"PRF = 2*10^3;//pulse repetitive frequency in Hz\n",
"Vo  = 3*10^8;//velocity of EM wave in m/s\n",
"mprintf('f1 = first operating frequency of MTI Radar\n');\n",
"mprintf(' f2 = second operating frequency of MTI Radar\n');\n",
"mprintf(' 2nd blind speed of 1st radar = (2Vo/2f1)*PRF\n 5th blind speed of 2nd radar = (5Vo/2f2)*PRF\n');\n",
"mprintf(' PRF(V0/f1) = (5/2)*(Vo/f2)*PRF\n');\n",
"mprintf(' (f2/f1) = 5/2\n');\n",
"\n",
"//==============end of the program============================================="
   ]
   }
,
{
		   "cell_type": "markdown",
		   "metadata": {},
		   "source": [
			"## Example 11.26: RATIO_OF_OPERATING_FREQUENCIES.sce"
		   ]
		  },
  {
"cell_type": "code",
	   "execution_count": null,
	   "metadata": {
	    "collapsed": true
	   },
	   "outputs": [],
"source": [
"//Chapter-11 example 26\n",
"//=============================================================================\n",
"clc;\n",
"clear;\n",
"//input data\n",
"mprintf('(PRF1)  =  2(PRF2)\n');\n",
"mprintf(' Vb3 = 4Vb5\n');\n",
"mprintf(' (3Vo/2F1)(PRF1)) = 4(5Vo/2F2)(2PRF2)\n');\n",
"mprintf(' 3/2F1  =  20/F2\n');\n",
"mprintf(' Ratio of operating frequencies is F2/F1  =  40/3\n');\n",
"\n",
"//=================end of the program==========================================="
   ]
   }
,
{
		   "cell_type": "markdown",
		   "metadata": {},
		   "source": [
			"## Example 11.27: FINDING_COMPRESSION_RATIO_AND_COMPRESSED_PULSE_WIDTH.sce"
		   ]
		  },
  {
"cell_type": "code",
	   "execution_count": null,
	   "metadata": {
	    "collapsed": true
	   },
	   "outputs": [],
"source": [
"//Chapter-11 example 27\n",
"//=============================================================================\n",
"clc;\n",
"clear;\n",
"//input data\n",
"PW  = 5;//FM pulse width before compression in us\n",
"Fl  = 40;//lower cut off Frequency in Mhz\n",
"Fh  = 60;//upper cut off Frequency in Mhz\n",
"\n",
"// Calculations\n",
"BW   = Fh-Fl;//bandwidth of signal in Mhz\n",
"CPW  = 1/BW;//Compression pulse width in us\n",
"CR   = PW/CPW;//compression ratio\n",
"\n",
"//output\n",
"mprintf('Compression ratio is %g\n Compression Pulse Width is %g us\n',CR,CPW);\n",
"//==============end of the program=============================================="
   ]
   }
,
{
		   "cell_type": "markdown",
		   "metadata": {},
		   "source": [
			"## Example 11.28: FINDING_COMPRESSION_PULSEWIDTH_AND_RATIO.sce"
		   ]
		  },
  {
"cell_type": "code",
	   "execution_count": null,
	   "metadata": {
	    "collapsed": true
	   },
	   "outputs": [],
"source": [
"//Chapter-11 example 28\n",
"//=============================================================================\n",
"clc;\n",
"clear;\n",
"//input data\n",
"BW = 100//band width in Mhz\n",
"PW = 4;//pulse width in us\n",
"//Calculations\n",
"CPW  = 1/BW;//compressed pulse width in us\n",
"CR   = PW/CPW;//compression ratio\n",
"\n",
"//output\n",
"mprintf('compressed pulse width is %g us\n compression ratio is %g\n',CPW,CR);\n",
"mprintf(' Note: In textbook compression ratio is wrongly printed as 40');\n",
"\n",
"//====================end of the program======================================="
   ]
   }
,
{
		   "cell_type": "markdown",
		   "metadata": {},
		   "source": [
			"## Example 11.29: FINDING_COMPRESSED_PULSE_WIDTH_AND_BANDWIDTH.sce"
		   ]
		  },
  {
"cell_type": "code",
	   "execution_count": null,
	   "metadata": {
	    "collapsed": true
	   },
	   "outputs": [],
"source": [
"//Chapter-11 example 29\n",
"//=============================================================================\n",
"clc;\n",
"clear;\n",
"//input data\n",
"CR = 50;//compression ratio\n",
"PW = 2;//pulse width in us\n",
"//Calculations\n",
"CPW = PW/CR //compression pulse width in us\n",
"BW  = 1/CPW //compression band width in Mhz\n",
"\n",
"//output\n",
"mprintf('compressed pulse width is %g us\n compression Bandwidth is %g MHz\n',CPW,BW);\n",
"\n",
"\n",
"//====================end of the program======================================="
   ]
   }
,
{
		   "cell_type": "markdown",
		   "metadata": {},
		   "source": [
			"## Example 11.2: FINDING_TARGET_DISTANCE_FROM_RADAR.sce"
		   ]
		  },
  {
"cell_type": "code",
	   "execution_count": null,
	   "metadata": {
	    "collapsed": true
	   },
	   "outputs": [],
"source": [
"//Chapter-11 example 2\n",
"//=============================================================================\n",
"clc;\n",
"clear;\n",
"Vo = 3*10^8;//velocity of EM wave in m/s\n",
"t  = 20*10^-6;//echo time in sec\n",
"// calculations\n",
"\n",
"R = (Vo*t)/2;//distance b/n target and Radar in m\n",
"\n",
"// Output\n",
"mprintf('Distance of Target from the Radar is %g Km',R/1000 );\n",
"\n",
"//==========end of program===================================================== "
   ]
   }
,
{
		   "cell_type": "markdown",
		   "metadata": {},
		   "source": [
			"## Example 11.30: FINDING_RANGE_RESOLUTION.sce"
		   ]
		  },
  {
"cell_type": "code",
	   "execution_count": null,
	   "metadata": {
	    "collapsed": true
	   },
	   "outputs": [],
"source": [
"//Chapter-11 example 30\n",
"//=============================================================================\n",
"clc;\n",
"clear;\n",
"//input data\n",
"PW  = 1*10^-6;//transmitted pulse width in sec\n",
"Vo  = 3*10^8;//velocity of EM wave in m/s\n",
"\n",
"//Calculations\n",
"RR  = (Vo*PW)/2;\n",
"//output\n",
"mprintf('Range Resolution is %g m\n',RR);\n",
"mprintf(' As the targets are separated by 100m it is possible to resolve');\n",
"//===============end of program================================================"
   ]
   }
,
{
		   "cell_type": "markdown",
		   "metadata": {},
		   "source": [
			"## Example 11.31: FINDING_CLOSEST_FREQUENCIES.sce"
		   ]
		  },
  {
"cell_type": "code",
	   "execution_count": null,
	   "metadata": {
	    "collapsed": true
	   },
	   "outputs": [],
"source": [
"//Chapter-11 example 31\n",
"//=============================================================================\n",
"clc;\n",
"clear;\n",
"//input data\n",
"F = 10*10^9;//operating frequency in Hz\n",
"PRF = 1000;//pulse repetitive frequency in Hz\n",
"Fm  = PRF;//modulating frequency\n",
"//Calculations\n",
"Fc1  = F+Fm;//closest frequency in Hz\n",
"Fc2  = F-Fm; //closest frequency in Hz\n",
"//output\n",
"mprintf('Closest Frequencies are %3.3f Mhz and %3.3f Mhz',Fc1/10^6,Fc2/10^6  );\n",
"\n",
"//================end of the program============================================="
   ]
   }
,
{
		   "cell_type": "markdown",
		   "metadata": {},
		   "source": [
			"## Example 11.32: FINDING_SPECTRUM_CENTRE_BANDWIDTH_AND_COMPRESSED_PULSE_WIDTH.sce"
		   ]
		  },
  {
"cell_type": "code",
	   "execution_count": null,
	   "metadata": {
	    "collapsed": true
	   },
	   "outputs": [],
"source": [
"//Chapter-11 example 32\n",
"//=============================================================================\n",
"clc;\n",
"clear;\n",
"//input data\n",
"F1  = 490;//freq shift lower limit in Mhz\n",
"F2  = 510;//freq shift upper limit in Mhz\n",
"\n",
"//calculations\n",
"\n",
"SC = (F1+F2)/2;//Spectrum Centre in Mhz\n",
"BW = F2-F1;//bandwidth in Mhz\n",
"CPW = 1/BW;//compressed bandwidth in us\n",
"\n",
"//Output\n",
"mprintf('Spectrum centre is %g MHz\n BandWidth is %g MHz\n Compressed pulse Width is %g us',SC,BW,CPW);\n",
"\n",
"//============end of the program==============================================="
   ]
   }
,
{
		   "cell_type": "markdown",
		   "metadata": {},
		   "source": [
			"## Example 11.33: FINDING_MINIMUM_RECEIVABLE_SIGNAL.sce"
		   ]
		  },
  {
"cell_type": "code",
	   "execution_count": null,
	   "metadata": {
	    "collapsed": true
	   },
	   "outputs": [],
"source": [
"//Chapter-11 example 33\n",
"//=============================================================================\n",
"clc;\n",
"clear;\n",
"//input data\n",
"F          = 9;             //Noise figure in dB\n",
"BW         = 2*10^6;        // Bandwidth\n",
"To         = 300;           // Temperature in kelvin\n",
"K          = 1.38*10^-23;   // Boltzman constant\n",
"\n",
"//Calculations\n",
"\n",
"F1         = 10^(F/10)     //antilog calculation\n",
"Pmin       = (K*To*BW)*(F1-1);//minimum receivable power\n",
"\n",
"//Output\n",
"mprintf('Minimum receivable power Pmin = %e W',Pmin);\n",
"\n",
"//=============================================================================="
   ]
   }
,
{
		   "cell_type": "markdown",
		   "metadata": {},
		   "source": [
			"## Example 11.34: FINDING_MAXIMUM_RANGE_OF_RADAR.sce"
		   ]
		  },
  {
"cell_type": "code",
	   "execution_count": null,
	   "metadata": {
	    "collapsed": true
	   },
	   "outputs": [],
"source": [
"//Chapter-11 example 34\n",
"//=============================================================================\n",
"clc;\n",
"clear;\n",
"//input data\n",
"Pt = 500*10^3;//peal pulse power in watts\n",
"Pmin = 1*10^-12;//minimum receivable power\n",
"Ac   = 5;//area of capture in m^s\n",
"RCS  = 16;//radar cross sectional area in m^2\n",
"F    = 10*10^9;//radar operating frequency\n",
"Vo   = 3*10^8;//vel of Em wave in m/s;\n",
"\n",
"//calculations\n",
"lamda = Vo/F;//wavelength\n",
"\n",
"Rmax = ((Pt*Ac*Ac*RCS)/(4*%pi*lamda*lamda*Pmin))^0.25;\n",
"\n",
"//output\n",
"mprintf('Maximum Radar range of the Radar system is %g Kms\n',Rmax/1000);\n",
"mprintf(' Note:Calculation mistake in textbook instead of RCS,RCS^2 is calculated');\n",
"//===============end of the program============================================"
   ]
   }
,
{
		   "cell_type": "markdown",
		   "metadata": {},
		   "source": [
			"## Example 11.35: FINDING_PEAK_TX_POWER.sce"
		   ]
		  },
  {
"cell_type": "code",
	   "execution_count": null,
	   "metadata": {
	    "collapsed": true
	   },
	   "outputs": [],
"source": [
"//Chapter-11 example 35\n",
"//=============================================================================\n",
"clc;\n",
"clear;\n",
"//input data\n",
"lamda         = 0.03;           //wavelength in m\n",
"RCS           = 5;              // Radar cross section in m^2\n",
"D             = 1;              // antenna diameter in m\n",
"F             = 5;              // noise figure in dB\n",
"Rmax          = 10*10^3         // Radar range\n",
"BW            = 500*10^3;       // bandwidth\n",
"\n",
"//Calculation\n",
"F1            = 10^(F/10)       // antilog calculation\n",
"\n",
"//Rmax        = 48*((Pt*D^4*RCS)/(BW*lamda*lamda(F-1)))^0.25\n",
"\n",
"Pt            = ((Rmax/48)^4)*((BW*lamda*lamda*(F1-1))/(D^4*RCS))\n",
"\n",
"//Output\n",
"mprintf('Peak Transmitted Power is %e',Pt);\n",
"mprintf('\n Note: Antilog Calculation error in textbook at F')\n",
"//============================================================================="
   ]
   }
,
{
		   "cell_type": "markdown",
		   "metadata": {},
		   "source": [
			"## Example 11.36: FINDING_MAX_RANGE_OF_RADAR.sce"
		   ]
		  },
  {
"cell_type": "code",
	   "execution_count": null,
	   "metadata": {
	    "collapsed": true
	   },
	   "outputs": [],
"source": [
"//Chapter-11 example 36\n",
"//=============================================================================\n",
"clc;\n",
"clear;\n",
"//input data\n",
"Pt = 20*10^6;//peak pulse power in watts\n",
"RCS  = 1;//radar cross sectional area in m^2\n",
"f   = 3*(10^9);//radar operating frequency\n",
"Vo   = 3*(10^8);//vel of Em wave in m/s;\n",
"D    = 50;//diameter of antenna in m\n",
"F    = 2;//receiver noise figure \n",
"BW   = 5000;//receiver bandwidth\n",
"\n",
"//calculations\n",
"\n",
"lamda = Vo/f//wavelength in m\n",
"Rmax = 48*((Pt*(D^4)*RCS)/(BW*lamda*lamda*(F-1)))^0.25;\n",
"\n",
"//output\n",
"mprintf('Maximum Radar range of the Radar system is %g Kms\n ',Rmax/1000);\n",
"mprintf('Note:In textbook All values are correctly substituted in calculating Rmax.\n but incorrect final answer is printed in the book');\n",
"\n",
"//==============end of the program============================================="
   ]
   }
,
{
		   "cell_type": "markdown",
		   "metadata": {},
		   "source": [
			"## Example 11.37: FINDING_LOWEST_BLIND_SPEEDS.sce"
		   ]
		  },
  {
"cell_type": "code",
	   "execution_count": null,
	   "metadata": {
	    "collapsed": true
	   },
	   "outputs": [],
"source": [
"//Chapter-11 example 37\n",
"//=============================================================================\n",
"clc;\n",
"clear;\n",
"//Given data\n",
"lamda     = 6*10^-2;    //Wavelength in m\n",
"PRF       = 800;        //Pulse Repetitive frequency in Hz\n",
"n1        = 1 ;         //n value for first blind speed\n",
"n2        = 2 ;         //n value for first blind speed\n",
"n3        = 3 ;         //n value for first blind speed\n",
"\n",
"//Calculations\n",
"\n",
"//Vb      = (n*lamda/2)*PRF;   Blind speed of the Radar\n",
"\n",
"//For n = 1\n",
"\n",
"Vb1       = (n1*lamda/2)*PRF;   //Blind speed of the Radar in m/s\n",
"Vb2       = (n2*lamda/2)*PRF;   //Blind speed of the Radar in m/s\n",
"Vb3       = (n3*lamda/2)*PRF;   //Blind speed of the Radar in m/s\n",
"\n",
"//multiply by 18/5 to convert from m/s to kmph\n",
"\n",
"//Output\n",
"mprintf('The lowest Blind speeds are %3.1f, %3.2f and %3.2f Km/hr',Vb1*(18/5),Vb2*(18/5),Vb3*(18/5));\n",
"\n",
"//=============end of program=================================================="
   ]
   }
,
{
		   "cell_type": "markdown",
		   "metadata": {},
		   "source": [
			"## Example 11.38: FINDING_RANGE_OF_BEACON.sce"
		   ]
		  },
  {
"cell_type": "code",
	   "execution_count": null,
	   "metadata": {
	    "collapsed": true
	   },
	   "outputs": [],
"source": [
"//Chapter-11 example 37\n",
"//=============================================================================\n",
"clc;\n",
"clear;\n",
"//Given data\n",
"\n",
"Pt        = 500*10^3;   // Peak pulse power in Watts\n",
"pt        = 50;         // peak power transmitted by beacon in watts\n",
"f         = 2500*10^6;  // Radar Operating frequency in Hz\n",
"lamda     = 0.12;       // wavelength in m\n",
"D         = 64;         // antenna diameter in m\n",
"BW        = 5000;       // Radar Bandwidth\n",
"Ab        = 0.51;\n",
"k         =  1.38*10^-23;  // Boltzmann constant\n",
"F         = 20             // Noise figure \n",
"Fb        = 1.1            // Noise figure of beacon\n",
"To        = 290;           // Temperature in kelvin\n",
" \n",
"//Calculations\n",
"\n",
"Ar        = (0.65*%pi*D*D)/4\n",
"Rmax      = sqrt((Ar*Pt*Ab)/(lamda*lamda*k*To*BW*(F-1)));  // Max tracking range of radar\n",
"\n",
"Rmax1      = sqrt((Ar*pt*Ab)/(lamda*lamda*k*To*BW*(Fb-1))); // Max tracking range of radar if Fb = 1.1\n",
"\n",
"//output\n",
"mprintf('Maximum Tracking Range of Radar is %3.3e Km\n Range of beacon if noise figure is 1.1 = %3.3e Km\n ',Rmax/1000,Rmax1/1000);\n",
"mprintf('Note: Calculation mistake in textbook in calculating Range of beacon\n instead of 1.36*10^9 km range is wrongly printed as 136*10^6 km')\n",
"\n",
"//======================end of program==========================================\n",
"\n",
"\n",
""
   ]
   }
,
{
		   "cell_type": "markdown",
		   "metadata": {},
		   "source": [
			"## Example 11.39: FINDING_DOPPLER_SHIFT.sce"
		   ]
		  },
  {
"cell_type": "code",
	   "execution_count": null,
	   "metadata": {
	    "collapsed": true
	   },
	   "outputs": [],
"source": [
"//Chapter-11 example 39\n",
"//=============================================================================\n",
"clc;\n",
"clear;\n",
"//Given data\n",
"lamda     = 0.06;       // wavelength in m\n",
"Vr        = 100 ;       // Radial velocity of target in kmph\n",
"\n",
"//Calculations\n",
"Vr1       = Vr*(5/18);  //Radial vel. in m/s\n",
"fd        = (2*Vr1)/lamda; //doppler shift\n",
"\n",
"//output\n",
"\n",
"mprintf('Doppler Shift is %3.3f Khz',fd/1000);\n",
"\n",
"//=============================================================================="
   ]
   }
,
{
		   "cell_type": "markdown",
		   "metadata": {},
		   "source": [
			"## Example 11.3: FINDING_MAX_AND_MIN_RANGES_OF_RADAR.sce"
		   ]
		  },
  {
"cell_type": "code",
	   "execution_count": null,
	   "metadata": {
	    "collapsed": true
	   },
	   "outputs": [],
"source": [
"//Chapter-11 example 3\n",
"//=============================================================================\n",
"clc;\n",
"clear;\n",
"Vo = 3*10^8;//velocity of EM wave in m/s\n",
"F  = 0.8*10^3;//pulse repetitive frequency\n",
"Tp = 1.2*10^-6;//pulse width in sec\n",
"//Calculations\n",
"Rmax = Vo/(2*F);//maximum Range of Radar in m\n",
"Rmin = (Vo*Tp)/2;//minimum Range of radar in m\n",
"\n",
"//Output\n",
"mprintf('Maximum Range of Radar is %g Km\n Minimum Range of the Radar is %g m',Rmax/1000,Rmin);\n",
"\n",
"//==========end of program===================================================== \n",
""
   ]
   }
,
{
		   "cell_type": "markdown",
		   "metadata": {},
		   "source": [
			"## Example 11.40: FINDING_RX_SIGNAL_POWER.sce"
		   ]
		  },
  {
"cell_type": "code",
	   "execution_count": null,
	   "metadata": {
	    "collapsed": true
	   },
	   "outputs": [],
"source": [
"//Chapter-11 example 40\n",
"//=============================================================================\n",
"clc;\n",
"clear;\n",
"//Given data\n",
"F  = 9.5*10^9;       //radar operating frequency in Hz\n",
"Vo = 3*10^8;        //vel in m/s;\n",
"G  = 20;            //antenna gain in dBi;\n",
"R  = 50*10^3;       //distance of radar reflected signal from target\n",
"Pt = 10*10^3        //Tx power in watts\n",
"CS = 10;            //cross sectional area in m^2\n",
"\n",
"// Calculations\n",
"Gain  = 10^(G/10)   //G = 10log(Gain) ==>gain - antilog(20/10);\n",
"Gr    = Gain;       //gain of tx antenna and Rx antenna\n",
"Gt    = Gain\n",
"lamda = Vo/F\n",
"Pr= (lamda*lamda*Pt*Gt*Gr*CS)/((4*4*4*%pi*%pi*%pi)*(R^4))//received power in watts\n",
"\n",
"// Output\n",
"mprintf('Received signal Power is %g Watts',Pr);\n",
"//=============================================================================\n",
"\n",
"\n",
""
   ]
   }
,
{
		   "cell_type": "markdown",
		   "metadata": {},
		   "source": [
			"## Example 11.41: FINDING_DISTANCE_OF_TARGET.sce"
		   ]
		  },
  {
"cell_type": "code",
	   "execution_count": null,
	   "metadata": {
	    "collapsed": true
	   },
	   "outputs": [],
"source": [
"//Chapter-11 example 41\n",
"//=============================================================================\n",
"clc;\n",
"clear;\n",
"//Given data\n",
"\n",
"Vo    = 3*10^8;        // vel of EM wave m/s;\n",
"t     = 10*10^-6;      // time taken to rx echo\n",
"\n",
"//Calculations\n",
"\n",
"R     = (Vo*t)/2;      // Distance of the Target\n",
"\n",
"//output\n",
"\n",
"mprintf('Distance of the target is %3.2f Km',R/1000);\n",
"\n",
"//=============================================================================="
   ]
   }
,
{
		   "cell_type": "markdown",
		   "metadata": {},
		   "source": [
			"## Example 11.42: FINDING_MIN_AND_MAX_TARGET_RANGE.sce"
		   ]
		  },
  {
"cell_type": "code",
	   "execution_count": null,
	   "metadata": {
	    "collapsed": true
	   },
	   "outputs": [],
"source": [
"//Chapter-11 example 42\n",
"//=============================================================================\n",
"clc;\n",
"clear;\n",
"//Given data\n",
"\n",
"PW    = 10^-6;         // Pulse Width in sec\n",
"PRF   = 1000;          // Pulse Repetitive Freq in Hz \n",
"Vo    = 3*10^8;        // vel of EM wave m/s;\n",
"\n",
"//Calculations\n",
"\n",
"Rmax  = Vo/(2*PRF);    // max range of radar\n",
"Rmin  = (Vo*PW)/2 ;    // min range of radar\n",
"\n",
"//output\n",
"mprintf('Maximum Range of radar is %e m\n Minimum Range of radar is %d m',Rmax,Rmin );\n",
"\n",
"//=============================================================================="
   ]
   }
,
{
		   "cell_type": "markdown",
		   "metadata": {},
		   "source": [
			"## Example 11.43: FINDING_DOPPLER_SHIFT_FREQUENCY.sce"
		   ]
		  },
  {
"cell_type": "code",
	   "execution_count": null,
	   "metadata": {
	    "collapsed": true
	   },
	   "outputs": [],
"source": [
"//Chapter-11 example 43\n",
"//=============================================================================\n",
"clc;\n",
"clear;\n",
"//Given data\n",
"Vr         = 100;       // speed of car in kmph\n",
"f          = 10*10^9;   // Radar operating frequency\n",
"Vo         = 3*10^8;    // vel. of EM wave\n",
"\n",
"//Calculations\n",
"\n",
"Vr1        = Vr*(5/18); // kmph to m/s conversion\n",
"fd         = (2*Vr1*f)/Vo; // Doppler shift in Hz\n",
"\n",
"//Output\n",
"mprintf('Doppler shift = %3.2f Khz',fd/1000);\n",
"\n",
"//=============================================================================="
   ]
   }
,
{
		   "cell_type": "markdown",
		   "metadata": {},
		   "source": [
			"## Example 11.44: FINDING_DISTANCE_OF_TARGET.sce"
		   ]
		  },
  {
"cell_type": "code",
	   "execution_count": null,
	   "metadata": {
	    "collapsed": true
	   },
	   "outputs": [],
"source": [
"//Chapter-11 example 44\n",
"//=============================================================================\n",
"clc;\n",
"clear;\n",
"//Given data\n",
"\n",
"Vo    = 3*10^8;        // vel of EM wave m/s;\n",
"t     = 200*10^-6;      // time taken to rx echo\n",
"\n",
"//Calculations\n",
"\n",
"R     = (Vo*t)/2;      // Distance of the Target\n",
"\n",
"//output\n",
"\n",
"mprintf('Distance of the target is %3.2f Km',R/1000);\n",
"\n",
"//=============================================================================="
   ]
   }
,
{
		   "cell_type": "markdown",
		   "metadata": {},
		   "source": [
			"## Example 11.45: FINDING_DUTY_CYCLE_AND_AVERAGE_POWER.sce"
		   ]
		  },
  {
"cell_type": "code",
	   "execution_count": null,
	   "metadata": {
	    "collapsed": true
	   },
	   "outputs": [],
"source": [
"//Chapter-11 example 45\n",
"//=============================================================================\n",
"clc;\n",
"clear;\n",
"//Given data\n",
"Pt      = 100*10^3;         // Peak tx. power \n",
"PRF     = 1000;             // pulse repetitive freq. in Hz\n",
"PW      = 1.2*10^-6;        // Pulse Width in sec\n",
"\n",
"//Calculations\n",
"DC      = PRF*PW            // Duty cycle\n",
"Pav     = Pt*DC             // Avg. power\n",
"\n",
"//Output\n",
"mprintf('Duty cycle is %3.4f\n Average power is %3.0f Watts',DC,Pav);\n",
"\n",
"//=============================================================================="
   ]
   }
,
{
		   "cell_type": "markdown",
		   "metadata": {},
		   "source": [
			"## Example 11.46: FINDING_PRF.sce"
		   ]
		  },
  {
"cell_type": "code",
	   "execution_count": null,
	   "metadata": {
	    "collapsed": true
	   },
	   "outputs": [],
"source": [
"//Chapter-11 example 46\n",
"//=============================================================================\n",
"clc;\n",
"clear;\n",
"//Given data\n",
"Runamb      = 300*10^3;     // unambiguous range in m\n",
"Vo          = 3*10^8;       // Vel. of EM wave in m/s\n",
"\n",
"//Calculations\n",
"\n",
"PRF         = Vo/(2*Runamb); // Pulse repetitive freq.\n",
"\n",
"//Output\n",
"mprintf('Pulse repetitive frequency = %g Hz',PRF);\n",
"//=============================================================================="
   ]
   }
,
{
		   "cell_type": "markdown",
		   "metadata": {},
		   "source": [
			"## Example 11.47: FINDING_DUTY_CYCLE_AND_MAX_UNAMBIGUOUS_RANGE.sce"
		   ]
		  },
  {
"cell_type": "code",
	   "execution_count": null,
	   "metadata": {
	    "collapsed": true
	   },
	   "outputs": [],
"source": [
"//Chapter-11 example 47\n",
"//=============================================================================\n",
"clc;\n",
"clear;\n",
"//Given data\n",
"\n",
"Vo    = 3*10^8;        // vel of EM wave m/s;\n",
"PRF   = 1000;          // pulse repetitive freq. in Hz\n",
"PW    = 10^-6;         // Pulse width in sec\n",
"\n",
"//Calculations\n",
"\n",
"DC      = PRF*PW         // Duty cycle\n",
"\n",
"Runamb  = Vo/(2*PRF);      // Distance of the Target\n",
"\n",
"//output\n",
"\n",
"mprintf('Duty cycle = %g\n Maximum unambiguous range = %g Km',DC,Runamb/1000 );\n",
"\n",
"//=============================================================================="
   ]
   }
,
{
		   "cell_type": "markdown",
		   "metadata": {},
		   "source": [
			"## Example 11.48: FINDING_MAX_UNAMBIGUOUS_RANGE_AND_RANGE_RESOLUTION.sce"
		   ]
		  },
  {
"cell_type": "code",
	   "execution_count": null,
	   "metadata": {
	    "collapsed": true
	   },
	   "outputs": [],
"source": [
"//Chapter-11 example 48\n",
"//=============================================================================\n",
"clc;\n",
"clear;\n",
"//Given data\n",
"\n",
"Vo    = 3*10^8;        // vel of EM wave m/s;\n",
"PRF   = 1000;          // pulse repetitive freq. in Hz\n",
"PW    = 4*10^-6;       // Pulse width in sec\n",
"\n",
"//Calculations\n",
"\n",
"Runamb  = Vo/(2*PRF);      // Distance of the Target\n",
"RR      = (Vo*PW)/2;       // Range Resolution\n",
"//output\n",
"\n",
"mprintf('Maximum unambiguous range = %g Km\n Range Resolution = %g m',Runamb/1000,RR );\n",
"\n",
"//=============================================================================="
   ]
   }
,
{
		   "cell_type": "markdown",
		   "metadata": {},
		   "source": [
			"## Example 11.49: CALCULATING_RADAR_PARAMETERS.sce"
		   ]
		  },
  {
"cell_type": "code",
	   "execution_count": null,
	   "metadata": {
	    "collapsed": true
	   },
	   "outputs": [],
"source": [
"//Chapter-11 example 49\n",
"//=============================================================================\n",
"clc;\n",
"clear;\n",
"//Given data\n",
"f     = 6*10^9;        // Radar operating freq. in Hz\n",
"Vo    = 3*10^8;        // vel of EM wave m/s;\n",
"PRF   = 1000;          // pulse repetitive freq. in Hz\n",
"PW    = 1.2*10^-6;     // Pulse width in sec\n",
"DC    = 10^-3;         // Duty Cycle\n",
"Smin  = 5*10^-12;      // min. detectable signal\n",
"R     = 60*10^3;       // Max. Range in m\n",
"G     = 4000;           // power gain of antenna\n",
"Ae    = 1              // effective area in m^2\n",
"RCS   = 2              // Radar cross sec. in m^2\n",
"//Calculations\n",
"\n",
"lamda   = Vo/f;            // Wavelength in m\n",
"PRT     = PW/DC;           // pulse repetitive time\n",
"PRF     = 1/PRT;           // Pulse repetitive freq.\n",
"Pt      = ((Smin*(4*%pi*R*R)^2))/(Ae*G*RCS);  //Peak power\n",
"Pav     = Pt*DC;           // average power\n",
"\n",
"Runamb  = Vo/(2*PRF);      // Distance of the Target\n",
"RR      = (Vo*PW)/2;       // Range Resolution\n",
"//output\n",
"\n",
"mprintf('Operating Wavelength = %g m\n PRT = %3.2f ms\n PRF = %3.1f Hz\n Peak power = %3.3f KW\n Average power = %3.3f Watts\n unambiguous range = %g Km\n Range Resolution = %g m',lamda,PRT*1000,PRF,Pt/1000,Pav,Runamb/1000,RR );\n",
"mprintf('\n Note: Calculation error in textbook for Pt and Pav');\n",
"\n",
"//=============================================================================="
   ]
   }
,
{
		   "cell_type": "markdown",
		   "metadata": {},
		   "source": [
			"## Example 11.4: FINDING_DUTY_CYCLE.sce"
		   ]
		  },
  {
"cell_type": "code",
	   "execution_count": null,
	   "metadata": {
	    "collapsed": true
	   },
	   "outputs": [],
"source": [
"//Chapter-11 example 4\n",
"//=============================================================================\n",
"clc;\n",
"clear;\n",
"PW  = 1.5*10^-6;//pulse width in sec\n",
"PRF = 2000//per second\n",
"\n",
"//Calculations\n",
"Dc = PW*PRF;//duty cycle\n",
"\n",
"//Output\n",
"mprintf('Duty Cycle is %e',Dc); \n",
"//==========end of program===================================================== "
   ]
   }
,
{
		   "cell_type": "markdown",
		   "metadata": {},
		   "source": [
			"## Example 11.50: FINDING_AVERAGE_POWER.sce"
		   ]
		  },
  {
"cell_type": "code",
	   "execution_count": null,
	   "metadata": {
	    "collapsed": true
	   },
	   "outputs": [],
"source": [
"//Chapter-11 example 50\n",
"//=============================================================================\n",
"clc;\n",
"clear;\n",
"//Given data\n",
"\n",
"Vo    = 3*10^8;        // vel of EM wave m/s;\n",
"PRT   = 1.4*10^-3;     // pulse repetitive time. in sec\n",
"PW    = 5 *10^-6;         // Pulse width in sec\n",
"Pt    = 1000*10^3;     //Peak power in watts\n",
"\n",
"//Calculations\n",
"\n",
"DC      = PW/PRT           // Duty cycle\n",
"Pav     = Pt*DC            // avg. power in W\n",
"\n",
"//output\n",
"\n",
"mprintf('Duty cycle = %e\n Average power = %g W',DC,Pav );\n",
"\n",
"//=============================================================================="
   ]
   }
,
{
		   "cell_type": "markdown",
		   "metadata": {},
		   "source": [
			"## Example 11.51: FINDING_MIN_RECEIVABLE_SIGNAL.sce"
		   ]
		  },
  {
"cell_type": "code",
	   "execution_count": null,
	   "metadata": {
	    "collapsed": true
	   },
	   "outputs": [],
"source": [
"//Chapter-11 example 51\n",
"//=============================================================================\n",
"clc;\n",
"clear;\n",
"//Given data\n",
"F       = 5;            // Noise Figure in dB\n",
"BW      = 1.2*10^6;     // Bandwidth in Hz\n",
"T       = 290;          // Ambient temp in kelvin\n",
"K       = 1.38*10^-23;  // boltzmann constant\n",
"\n",
"//Calculations\n",
"F1      = 10^(5/10) ;    // antilog calc of noise figure\n",
"Prmin   = K*(F1-1)*T*BW; // min. rx. signal\n",
"\n",
"//Output\n",
"mprintf('Minimum Receivable signal = %3.4e W\n ',Prmin);\n",
"mprintf('Note:In textbook All values are correctly substituted in calculating Prmin.\n but incorrect final answer is printed in the book')\n",
"\n",
"//=============================================================================="
   ]
   }
,
{
		   "cell_type": "markdown",
		   "metadata": {},
		   "source": [
			"## Example 11.52: FINDING_MAX_RANGE_OF_RADAR.sce"
		   ]
		  },
  {
"cell_type": "code",
	   "execution_count": null,
	   "metadata": {
	    "collapsed": true
	   },
	   "outputs": [],
"source": [
"//Chapter-11 example 52\n",
"//=============================================================================\n",
"clc;\n",
"clear;\n",
"//input data\n",
"Pt   = 1*10^6;         //peak pulse power in watts\n",
"Pmin = 1*10^-12;       //minimum receivable power\n",
"Ae   = 16;             //effective area in m^s\n",
"RCS  = 4;              //radar cross sectional area in m^2\n",
"F    = 9*10^9;         //radar operating frequency\n",
"Vo   = 3*10^8;         //vel of Em wave in m/s;\n",
"G    = 5000;           //Power gain of antenna\n",
"\n",
"//calculations\n",
"\n",
"Rmax = ((Pt*G*Ae*RCS)/(16*%pi*%pi*Pmin))^0.25;\n",
"\n",
"//output\n",
"mprintf('Maximum Radar range of the Radar  is %g Kms',Rmax/1000);\n",
"\n",
"//==============end of the program============================================="
   ]
   }
,
{
		   "cell_type": "markdown",
		   "metadata": {},
		   "source": [
			"## Example 11.53: FINDING_MAX_RANGE_OF_RADAR.sce"
		   ]
		  },
  {
"cell_type": "code",
	   "execution_count": null,
	   "metadata": {
	    "collapsed": true
	   },
	   "outputs": [],
"source": [
"//Chapter-11 example 53\n",
"//=============================================================================\n",
"clc;\n",
"clear;\n",
"//input data\n",
"Pt = 500*10^3;//peal pulse power in watts\n",
"Pmin = 1*10^-12;//minimum receivable power\n",
"Ac   = 5;//area of capture in m^s\n",
"RCS  = 20;//radar cross sectional area in m^2\n",
"F    = 10*10^9;//radar operating frequency\n",
"Vo   = 3*10^8;//vel of Em wave in m/s;\n",
"lamda = 3*10^-2;//wavelength in cms\n",
"\n",
"//calculations\n",
"\n",
"Rmax = ((Pt*Ac*Ac*RCS)/(4*%pi*lamda*lamda*Pmin))^0.25;\n",
"\n",
"//output\n",
"mprintf('Maximum Radar range of the Radar system is %g Kms',Rmax/1000);\n",
"\n",
"//==============end of the program============================================="
   ]
   }
,
{
		   "cell_type": "markdown",
		   "metadata": {},
		   "source": [
			"## Example 11.54: FINDING_BEAMWIDTH_OF_ANTENNA.sce"
		   ]
		  },
  {
"cell_type": "code",
	   "execution_count": null,
	   "metadata": {
	    "collapsed": true
	   },
	   "outputs": [],
"source": [
"//Chapter-11 example 54\n",
"//=============================================================================\n",
"clc;\n",
"clear;\n",
"//input data\n",
"f       = 10*10^9;      // operating freq. of radar in Hz\n",
"Vo      = 3*10^8;       //vel of Em wave in m/s;\n",
"D       = 5;            //Diameter of antenna in m\n",
"\n",
"//calculations\n",
"lamda   = Vo/f;         // wavelength in m\n",
"BW      = 70*(lamda/D)  // BeamWidth in degrees\n",
"\n",
"//output\n",
"mprintf('Beamwidth  = %3.3f degrees',BW);\n",
"//=============================================================================="
   ]
   }
,
{
		   "cell_type": "markdown",
		   "metadata": {},
		   "source": [
			"## Example 11.55: FINDING_OPERATING_FREQ_PEAK_POWER_AND_RANGE_OF_RADAR.sce"
		   ]
		  },
  {
"cell_type": "code",
	   "execution_count": null,
	   "metadata": {
	    "collapsed": true
	   },
	   "outputs": [],
"source": [
"//Chapter-11 example 55\n",
"//=============================================================================\n",
"clc;\n",
"clear;\n",
"//input data\n",
"Pav  = 200;//average power in watts\n",
"PRF  = 1000;//pulse repetitive frequency in Hz\n",
"PW   = 1*10^-6;//pulse width in sec\n",
"Pmin = 1*10^-12;//minimum receivable power\n",
"Ac   = 10;//area of capture in m^s\n",
"RCS  = 2;//radar cross sectional area in m^2\n",
"Vo   = 3*10^8;//vel of Em wave in m/s;\n",
"lamda = 0.1;//wavelength in cms\n",
"\n",
"//calculations\n",
"F    = Vo/lamda;//operating frequency in hz\n",
"Pt   = Pav/(PRF*PW);\n",
"\n",
"Rmax = ((Pt*Ac*Ac*RCS)/(4*%pi*lamda*lamda*Pmin))^0.25;\n",
"\n",
"//output\n",
"mprintf('Operating frequency is %g Ghz\n Radar peak power is %g KW\n Maximum Radar range of the Radar system is %g Km\n',F/10^9,Pt/1000,Rmax/1000);\n",
"\n",
"//==============end of the program============================================="
   ]
   }
,
{
		   "cell_type": "markdown",
		   "metadata": {},
		   "source": [
			"## Example 11.56: FINDING_RADIAL_VELOCITY_OF_TARGET.sce"
		   ]
		  },
  {
"cell_type": "code",
	   "execution_count": null,
	   "metadata": {
	    "collapsed": true
	   },
	   "outputs": [],
"source": [
"//Chapter-11 example 56\n",
"//=============================================================================\n",
"clc;\n",
"clear;\n",
"//input data\n",
"f       = 9*10^9;       // operating freq. of radar in Hz\n",
"Vo      = 3*10^8;       //vel of Em wave in m/s;\n",
"fd      = 1000;         // doppler shift freq. in Hz\n",
"\n",
"//Calculations\n",
"lamda   = Vo/f;        // Wavelength in m\n",
"Vr      = lamda*fd/2;  // radial velocity of target\n",
"\n",
"//output\n",
"mprintf('Radial velocity of target Vr = %3.2f m/s',Vr);\n",
"\n",
"//=============================================================================="
   ]
   }
,
{
		   "cell_type": "markdown",
		   "metadata": {},
		   "source": [
			"## Example 11.57: FINDING_DOPPLER_SHIFT_FREQUENCY.sce"
		   ]
		  },
  {
"cell_type": "code",
	   "execution_count": null,
	   "metadata": {
	    "collapsed": true
	   },
	   "outputs": [],
"source": [
"//Chapter-11 example 57\n",
"//=============================================================================\n",
"clc;\n",
"clear;\n",
"//input data\n",
"f       = 10*10^9;       // operating freq. of radar in Hz\n",
"Vr      = 800;           // radial ve. of of aircraft in kmph\n",
"Vo      = 3*10^8;       //vel of Em wave in m/s;\n",
"\n",
"//calculations\n",
"\n",
"lamda   = Vo/f;        // Wavelength in m\n",
"Vr1     = Vr*5/18      // kmph to m/s conversion\n",
"fd      = 2*Vr1/lamda;  // Doppler shift freq, in Hz\n",
"\n",
"//Output\n",
"mprintf('Doppler shift frequency fd = %3.2e Hz',fd);\n",
"\n",
"//=============================================================================="
   ]
   }
,
{
		   "cell_type": "markdown",
		   "metadata": {},
		   "source": [
			"## Example 11.58: FINDING_DOPPLER_SHIFT_FREQUENCIES.sce"
		   ]
		  },
  {
"cell_type": "code",
	   "execution_count": null,
	   "metadata": {
	    "collapsed": true
	   },
	   "outputs": [],
"source": [
"//Chapter-11 example 58\n",
"//=============================================================================\n",
"clc;\n",
"clear;\n",
"//input data\n",
"f       = 6*10^9;       // operating freq. of radar in Hz\n",
"Vr      = 600;           // radial ve. of of aircraft in kmph\n",
"Vo      = 3*10^8;       //vel of Em wave in m/s;\n",
"\n",
"//calculations\n",
"\n",
"lamda   = Vo/f;        // Wavelength in m\n",
"Vr1     = Vr*5/18      // kmph to m/s conversion\n",
"fd      = 2*Vr1/lamda;  // Doppler shift freq, in Hz\n",
"\n",
"V       = Vr1*cos((45*%pi/180)) // vel in direction of radar if  target direction changes by 45 deg\n",
"fd1     = 2*V/lamda ;   //doppler shift freq. in Hz\n",
"\n",
"\n",
"//Output\n",
"mprintf('Doppler shift frequency fd = %3.2f KHz\n Doppler shift frequency if the target changes its direction by 45deg = %3.2f KHz',fd/1000,fd1/1000);\n",
"\n",
"//=============================================================================="
   ]
   }
,
{
		   "cell_type": "markdown",
		   "metadata": {},
		   "source": [
			"## Example 11.59: FINDING_BLIND_SPEED.sce"
		   ]
		  },
  {
"cell_type": "code",
	   "execution_count": null,
	   "metadata": {
	    "collapsed": true
	   },
	   "outputs": [],
"source": [
"//Chapter-11 example 59\n",
"//=============================================================================\n",
"clc;\n",
"clear;\n",
"//Given data\n",
"lamda     = 3*10^-2;    //Wavelength in m\n",
"PRF       = 1000;       //Pulse Repetitive frequency in Hz\n",
"n         = 1'          // n value for lowest blind speed\n",
"\n",
"//Calculations\n",
"Vb        = (n*lamda/2)*PRF;   //Blind speed of the Radar in m/s\n",
"\n",
"//Output\n",
"mprintf('Lowet blind speed = %d m/s',Vb);\n",
"//=============================================================================="
   ]
   }
,
{
		   "cell_type": "markdown",
		   "metadata": {},
		   "source": [
			"## Example 11.5: FINDING_AVERAGE_TX_POWER.sce"
		   ]
		  },
  {
"cell_type": "code",
	   "execution_count": null,
	   "metadata": {
	    "collapsed": true
	   },
	   "outputs": [],
"source": [
"//Chapter-11 example 5\n",
"//=============================================================================\n",
"clc;\n",
"clear;\n",
"PW  =  2*10^-6//pulse width in sec\n",
"PRF =  1000//pulse repetitive frequency \n",
"Pp  = 1*10^6;//peak power in watts\n",
"\n",
"//Calculations\n",
"Dc  =  PW*PRF;//duty cycle\n",
"AvgTp = Pp*Dc;//average transmitted power in watts\n",
"\n",
"//Output\n",
"mprintf('Average Transmitted power is %g KW',AvgTp/1000);\n",
"\n",
"//==========end of program===================================================== \n",
"\n",
""
   ]
   }
,
{
		   "cell_type": "markdown",
		   "metadata": {},
		   "source": [
			"## Example 11.61: FINDING_PULSE_WIDTH_AND_PULSE_ENERGY.sce"
		   ]
		  },
  {
"cell_type": "code",
	   "execution_count": null,
	   "metadata": {
	    "collapsed": true
	   },
	   "outputs": [],
"source": [
"//Chapter-11 example 60\n",
"//=============================================================================\n",
"clc;\n",
"clear;\n",
"//Given data\n",
"PRF1        = 10*10^3;          //pulse repetitive freq.1 \n",
"PRF2        = 20*10^3;          //pulse repetitive freq.2\n",
"Pav         = 1000;             // average tx. power\n",
"Pt          = 10*10^3;          // peak power\n",
"\n",
"//Calculations\n",
"PRT1        = 1/PRF1;           // pulse repetitive interval in sec\n",
"PRT2        = 1/PRF2;           // pulse repetitive interval in sec\n",
"DC          = Pav/Pt;           // duty cycle\n",
"PW1         = DC*PRT1          // pulse width for freq1\n",
"PW2         = DC*PRT2          // pulse width for freq2\n",
"E1          = Pt*PW1;           // energy of first pulse\n",
"E2          = Pt*PW2;           // energy of second pulse\n",
"\n",
"//output\n",
"mprintf('PW1 = %3.2f ms\n PW2 = %3.3f ms\n Pulse Energy for PRF = 10KHz is %3.1f Joules\n Pulse Energy for PRF = 20KHz is %3.2f Joules\n',PW1*1000,PW2*1000,E1,E2 );\n",
"//==============================================================================\n",
"\n",
"\n",
"\n",
"\n",
"\n",
"\n",
"\n",
"\n",
""
   ]
   }
,
{
		   "cell_type": "markdown",
		   "metadata": {},
		   "source": [
			"## Example 11.62: FINDING_PRT_PRF_RANGE_RESOLUTION_AND_PULSE_WIDTH.sce"
		   ]
		  },
  {
"cell_type": "code",
	   "execution_count": null,
	   "metadata": {
	    "collapsed": true
	   },
	   "outputs": [],
"source": [
"//Chapter-11 example 62\n",
"//=============================================================================\n",
"clc;\n",
"clear;\n",
"//Given data\n",
"Runamb     = 150*10^3;      // unambigiuous range in m\n",
"BW         = 10^6;          // bandwidth in Hz\n",
"Vo         = 3*10^8;           //vel of Em wave in m/s;\n",
"\n",
"//Calculations\n",
"PRF         = Vo/(2*Runamb) ;   //pulse repetitive freq. in Hz \n",
"PRT         = 1/PRF;            // pulse repetition interval\n",
"RR          = Vo/(2*BW);        // Range Resolution\n",
"PW          = (2*RR)/Vo;        //Pulse width in sec\n",
"\n",
"//Output\n",
"mprintf('PRF = %3.2f Hz\n pulse repetition interval = %3.1f ms\n Range Resolution = %d m\n PulseWidth = %3.2f us',PRF,PRT*1000,RR,PW*10^6 );\n",
"\n",
"//=============================================================================="
   ]
   }
,
{
		   "cell_type": "markdown",
		   "metadata": {},
		   "source": [
			"## Example 11.63: FINDING_DOPPLER_FREQUENCY.sce"
		   ]
		  },
  {
"cell_type": "code",
	   "execution_count": null,
	   "metadata": {
	    "collapsed": true
	   },
	   "outputs": [],
"source": [
"//Chapter-11 example 63\n",
"//=============================================================================\n",
"clc;\n",
"clear;\n",
"//Given data\n",
"Vr      = 300;          // Velocity of radar in m/s\n",
"Vair    = 200;          // velocty of aircraft in m/s\n",
"f       = 10*10^9;      // Radar operating frequency\n",
"Vo      = 3*10^8;       //vel of Em wave in m/s;\n",
"\n",
"//Calculations\n",
"\n",
"lamda   = Vo/f;         // wavelength in m\n",
"Vrel    = Vr+Vair;      //relative radial vel. b/w radar and aircraft when approaching each other\n",
"fd      = (2*Vrel)/lamda// Doppler frequency\n",
"\n",
"//Output\n",
"mprintf('Doppler frequency = %3.2f KHz',fd/1000);\n",
"//=============================================================================="
   ]
   }
,
{
		   "cell_type": "markdown",
		   "metadata": {},
		   "source": [
			"## Example 11.64: FINDING_MAX_RANGE_OF_RADAR.sce"
		   ]
		  },
  {
"cell_type": "code",
	   "execution_count": null,
	   "metadata": {
	    "collapsed": true
	   },
	   "outputs": [],
"source": [
"//Chapter-11 example 63\n",
"//=============================================================================\n",
"clc;\n",
"clear;\n",
"//Given data\n",
"Pt      = 2*10^6;       //Peak power in Watts\n",
"G       = 45;           // antenna gain in dB\n",
"f       = 6*10^9;       // operating frequency \n",
"Te      = 290;          // effective temp in kelvin\n",
"SNRmin  = 20;           // min SNR in dB\n",
"PW      = 0.2*10^-3     // pulse width in sec\n",
"F       = 3;            // Noise Figure\n",
"B       = 10*10^3;      // bandwidth in KHz\n",
"RCS     = 0.1;          // Radar cross section in m^2\n",
"K       = 1.38*10^-23;  // boltzman constant\n",
"Vo      = 3*10^8;       //vel of Em wave in m/s;\n",
"\n",
"//antilog acalculations\n",
"G1     = 10^(45/10);    // antilog conversion of gain\n",
"SNR    = 10^(20/10);    // antilog conversion of SNRmin\n",
"F1     = 10^(3/10);     // antilog conversion of Noise Figure\n",
"\n",
"lamda  = Vo/f;          //wavelength in m\n",
"Rmax   = ((Pt*G1*G1*lamda*lamda*RCS)/((64*%pi*%pi*%pi)*(K*Te*B*F1*SNR)))^0.25;\n",
"//pt1    = 10*log10(Pt)\n",
"//lamda1 = 10*log10(lamda^2)\n",
"//G2     = 2*G\n",
"//KTB    = 10*log10(K*Te*B)\n",
"//RCS1   = 10*log10(RCS)\n",
"//p      = 10*log10((4*%pi)^3)\n",
"//R4max  = [pt1+G1+lamda1+RCS1-p-KTB-F-SNRmin];\n",
"\n",
"//Output\n",
"mprintf('Maximum Range of the Radar is %3.2f Km',Rmax/100);\n",
"mprintf('\n Note: Calculation error i Textbook in multiplying K*Te*B');"
   ]
   }
,
{
		   "cell_type": "markdown",
		   "metadata": {},
		   "source": [
			"## Example 11.65: FINDING_APERTURE_SIZE_AND_PEAK_POWER_OF_TXR.sce"
		   ]
		  },
  {
"cell_type": "code",
	   "execution_count": null,
	   "metadata": {
	    "collapsed": true
	   },
	   "outputs": [],
"source": [
"//Chapter-11 example 63\n",
"//==========================================================================\n",
"clc;\n",
"clear;\n",
"//Given data\n",
"G       = 50;           // antenna gain in dB\n",
"f       = 6*10^9;       // operating frequency \n",
"Te      = 1000;          // Noise temp in kelvin\n",
"SNR     = 20;           // min SNR in dB\n",
"L       = 10;           // Losses in dB\n",
"F       = 3;            // Noise Figure in dB\n",
"RCS     = -10;          // Radar cross section in dB\n",
"K       = 1.38*10^-23;  // boltzman constant\n",
"Vo      = 3*10^8;       //vel of Em wave in m/s;\n",
"DC      = 0.3;          // Duty cycle\n",
"R       = 300*10^3;     // Range in kms\n",
"Pav     = 1000;         // Average power in watts\n",
"SV      = 20;           //search volume\n",
"Ts      = 3;            //Scan time\n",
"\n",
"//calculations\n",
"\n",
"Pav1    = 10*log10(Pav)           //conversion to dB\n",
"KT       = 10*log10(Te*K)             //conversion to dB\n",
"R4      = 10*log10(R^4)           //conversion to dB\n",
"Ts1     = 10*log10(Ts)             //conversion to dB\n",
"//SNR   = (Pav*A*RCS*Ts)/(16*R^4*K*Te*L*F*SV)\n",
"A       = (SNR-Pav1-Ts-RCS+16+R4+KT+L+F+SV);//aperture\n",
"Pt      = Pav/DC;                   // peak ower in watts\n",
"//A1      =10^(A/10);                 // antilog calculation\n",
"\n",
"//output\n",
"mprintf('A = %3.2f dB\n Peak power Pt = %3.2f KW\n',A,Pt/1000);\n",
"//mprintf('A = %3.2f m^2\n',A1)\n",
"mprintf(' Note: calculation error in textbook at KT')\n",
"//============================================================================="
   ]
   }
,
{
		   "cell_type": "markdown",
		   "metadata": {},
		   "source": [
			"## Example 11.6: FINDING_RANGE_RESOLUTION.sce"
		   ]
		  },
  {
"cell_type": "code",
	   "execution_count": null,
	   "metadata": {
	    "collapsed": true
	   },
	   "outputs": [],
"source": [
"//Chapter-11 example 6\n",
"//=============================================================================\n",
"clc;\n",
"clear;\n",
"PW  = 2*10^-6;//pulse width in sec\n",
"Vo  = 3*10^8;//velocity of EM wave in m/s\n",
"\n",
"//Calculations\n",
"\n",
"RR  = (Vo*PW)/2;//Range Resolution in m\n",
"\n",
"//Output\n",
"mprintf('Range Resolution is %g m',RR);\n",
"\n",
"//=============end of program=================================================="
   ]
   }
,
{
		   "cell_type": "markdown",
		   "metadata": {},
		   "source": [
			"## Example 11.7: FINDING_TARGET_RANGE.sce"
		   ]
		  },
  {
"cell_type": "code",
	   "execution_count": null,
	   "metadata": {
	    "collapsed": true
	   },
	   "outputs": [],
"source": [
"//Chapter-11 example 7\n",
"//=============================================================================\n",
"clc;\n",
"clear;\n",
"t   = 50*10^-6;//echo time in sec\n",
"Vo  = 3*10^8;//velocity of EM wave in m/s\n",
"\n",
"//Calculations\n",
"\n",
"R  = (Vo*t)/2;//Range in m\n",
"\n",
"//Output\n",
"mprintf('Target Range is %g Kms',R/1000);\n",
"\n",
"//=============end of program=================================================="
   ]
   }
,
{
		   "cell_type": "markdown",
		   "metadata": {},
		   "source": [
			"## Example 11.8: FINDING_DOPPLER_SHIFT.sce"
		   ]
		  },
  {
"cell_type": "code",
	   "execution_count": null,
	   "metadata": {
	    "collapsed": true
	   },
	   "outputs": [],
"source": [
"//Chapter-11 example 8\n",
"//=============================================================================\n",
"clc;\n",
"clear;\n",
"//input data\n",
"Tvel  = 1000;//target speed in kmph\n",
"F     = 10*10^9;//radar operating frequency in hz\n",
"Vo    = 3*10^8;//velocity of EM wave in m/s\n",
"\n",
"//Calculations\n",
"Vr    = 1000*(5/18);//target speed in m/s\n",
"Fd    = (2*Vr*F)/Vo;//Doppler Frequency shift in Hz\n",
"\n",
"//Output\n",
"mprintf('Doppler Frequency shift Caused by aircraft is %3.2f KHz',Fd/1000);\n",
"\n",
"//=============end of the program=============================================="
   ]
   }
,
{
		   "cell_type": "markdown",
		   "metadata": {},
		   "source": [
			"## Example 11.9: FINDING_DOPPLER_SHIFT_FREQUENCY.sce"
		   ]
		  },
  {
"cell_type": "code",
	   "execution_count": null,
	   "metadata": {
	    "collapsed": true
	   },
	   "outputs": [],
"source": [
"//Chapter-11 example 9\n",
"//=============================================================================\n",
"clc;\n",
"clear;\n",
"//input data\n",
"F  = 6*10^9;//Transmitting Frequency of Radar\n",
"Vr = 250;//velocity of automobile in Kmph\n",
"Vo    = 3*10^8;//velocity of EM wave in m/s\n",
"\n",
"//Calculations\n",
"\n",
"Va    = Vr*(5/18)//velocity of automobile in m/s\n",
"Fd    = (2*Va*F)/Vo//Doppler Frequency shift in Hz\n",
"\n",
"//Output\n",
"mprintf('Doppler Frequency shift is %3.3f KHz',Fd/1000)\n",
"\n",
"//=============end of the program=============================================="
   ]
   }
],
"metadata": {
		  "kernelspec": {
		   "display_name": "Scilab",
		   "language": "scilab",
		   "name": "scilab"
		  },
		  "language_info": {
		   "file_extension": ".sce",
		   "help_links": [
			{
			 "text": "MetaKernel Magics",
			 "url": "https://github.com/calysto/metakernel/blob/master/metakernel/magics/README.md"
			}
		   ],
		   "mimetype": "text/x-octave",
		   "name": "scilab",
		   "version": "0.7.1"
		  }
		 },
		 "nbformat": 4,
		 "nbformat_minor": 0
}
