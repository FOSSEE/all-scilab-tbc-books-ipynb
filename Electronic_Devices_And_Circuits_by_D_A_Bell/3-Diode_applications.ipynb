{
"cells": [
 {
		   "cell_type": "markdown",
	   "metadata": {},
	   "source": [
       "# Chapter 3: Diode applications"
	   ]
	},
{
		   "cell_type": "markdown",
		   "metadata": {},
		   "source": [
			"## Example 2.23: tilt_on_output_waveform.sce"
		   ]
		  },
  {
"cell_type": "code",
	   "execution_count": null,
	   "metadata": {
	    "collapsed": true
	   },
	   "outputs": [],
"source": [
"//chapter 3\n",
"//example 3.21\n",
"//page 119\n",
"printf('\n')\n",
"printf('given')\n",
"E=10;R1=56*10^3;f=1000;C1=1*10^-6;\n",
"Vo=2*E\n",
"Ic=Vo/R1\n",
"t=1/(2*f);\n",
"Vc=(Ic*t)/C1;\n",
"printf(' tilt output voltage is %3.3fV\n',Vc)"
   ]
   }
,
{
		   "cell_type": "markdown",
		   "metadata": {},
		   "source": [
			"## Example 3.10: calculate_surge_limiting_resistance.sce"
		   ]
		  },
  {
"cell_type": "code",
	   "execution_count": null,
	   "metadata": {
	    "collapsed": true
	   },
	   "outputs": [],
"source": [
"//chapter 3\n",
"//example 3.10\n",
"//page 93\n",
"printf('\n')\n",
"printf('given')\n",
"Eo=21;Vf=.7;Il=40*10^-3;t1=7.19*10^-3;t2=1.16*10^-3;\n",
"Vp=Eo+(2*Vf)\n",
"Vr=Vp\n",
"If=Il/2\n",
"Ifrm=Il*(t1+t2)/t2\n",
"Ifsm=30;\n",
"Rs=Vp/Ifsm\n",
"printf('surge limiting resistance is %3.3fohm\n',Rs)"
   ]
   }
,
{
		   "cell_type": "markdown",
		   "metadata": {},
		   "source": [
			"## Example 3.11: specify_transformer_for_full_wave_rectifier.sce"
		   ]
		  },
  {
"cell_type": "code",
	   "execution_count": null,
	   "metadata": {
	    "collapsed": true
	   },
	   "outputs": [],
"source": [
"//chapter 3\n",
"//example 3.11\n",
"//page 73\n",
"printf('\n')\n",
"printf('given')\n",
"Eo=21;Vf=.7;Il=40*10^-3;Vp=115;\n",
"Vs=.707*(Eo+2*Vf)\n",
"Is=1.6*Il\n",
"Ip=(Vs*Is)/Vp;\n",
"printf(' supply current is %3.3fA\n',Ip)"
   ]
   }
,
{
		   "cell_type": "markdown",
		   "metadata": {},
		   "source": [
			"## Example 3.12: dc_output_voltage_and_outpur_ripple_amplitude.sce"
		   ]
		  },
  {
"cell_type": "code",
	   "execution_count": null,
	   "metadata": {
	    "collapsed": true
	   },
	   "outputs": [],
"source": [
"//chapter 3\n",
"//example 3.12\n",
"//page 97\n",
"printf('\n')\n",
"printf('given')\n",
"Eo=20;Il=40*10^-3;R1=22;Vr=2;C1=150*10^-6;C2=C1;fr=120;\n",
"Vo=Eo-Il*R1;\n",
"vi=Vr/3.14\n",
"Xc2=1/(2*3.14*fr*C2)\n",
"vo=(vi*Xc2)/sqrt((R1^2) + (Xc2^2))\n",
"printf(' dc output voltage is %3.3fV\n',vo)\n",
"Vpp=2*vo;\n",
"printf(' peak to peak voltage is %3.3fV\n',Vpp)"
   ]
   }
,
{
		   "cell_type": "markdown",
		   "metadata": {},
		   "source": [
			"## Example 3.13: suitable_value_of_L1_and_C1.sce"
		   ]
		  },
  {
"cell_type": "code",
	   "execution_count": null,
	   "metadata": {
	    "collapsed": true
	   },
	   "outputs": [],
"source": [
"//chapter 3\n",
"//example 3.13\n",
"//page 98\n",
"printf('\n')\n",
"printf('given')\n",
"C1=150*10^-6;C2=C1;vi=4;vo=1;f=120;\n",
"Xc2=8.84;//FROM EXAMPLE 3.12\n",
"Xl=Xc2*((vi/vo)+1)\n",
"L1=Xl/(2*3.14*f);\n",
"printf(' suitable value of L1 is %3.3fH\n',L1)"
   ]
   }
,
{
		   "cell_type": "markdown",
		   "metadata": {},
		   "source": [
			"## Example 3.14: peak_output_voltage_and_value_of_L1_and_C1.sce"
		   ]
		  },
  {
"cell_type": "code",
	   "execution_count": null,
	   "metadata": {
	    "collapsed": true
	   },
	   "outputs": [],
"source": [
"//chapter 3\n",
"//example 3.14\n",
"//page 101\n",
"printf('\n')\n",
"printf('given')\n",
"Edc=20;vo=.24;Vo=20;Il=40*10^-3;fr=120;\n",
"Eomax=(3.14*Edc)/2\n",
"Epeak=(4*Eomax)/(3*3.14)\n",
"vi=Epeak;\n",
"Rl=Vo/Il\n",
"Xlc=(2*Rl)/3\n",
"Lc=Xlc/(2*3.14*fr)\n",
"L=1.25*Lc;\n",
"Xl=2*3.14*fr*L\n",
"Xc=Xl/((vi/vo)+1)\n",
"C1=1/(2*3.14*fr*Xc)"
   ]
   }
,
{
		   "cell_type": "markdown",
		   "metadata": {},
		   "source": [
			"## Example 3.15: load_and_source_effects_and_load_and_line_regulation.sce"
		   ]
		  },
  {
"cell_type": "code",
	   "execution_count": null,
	   "metadata": {
	    "collapsed": true
	   },
	   "outputs": [],
"source": [
"//chapter 3\n",
"//example 3.15\n",
"//page 105\n",
"printf('\n')\n",
"printf('given')\n",
"Eo=20\n",
"E0=20-19.7//load effect\n",
"loadregulation  =(E0*100)/Eo//percentage\n",
"sourceeffect=20.2-20\n",
"lineregulation =(sourceeffect*100)/Eo"
   ]
   }
,
{
		   "cell_type": "markdown",
		   "metadata": {},
		   "source": [
			"## Example 3.16: circuit_current.sce"
		   ]
		  },
  {
"cell_type": "code",
	   "execution_count": null,
	   "metadata": {
	    "collapsed": true
	   },
	   "outputs": [],
"source": [
"//chapter 3\n",
"//example 3.16\n",
"//page 108\n",
"printf('\n')\n",
"printf('given')\n",
"Vz=9.1;Izt=20*10^-3;Es=30;\n",
"R1=(Es-Vz)/Izt\n",
"Pr1=(Izt^2)*R1\n",
"Es=27;\n",
"Iz=(Es-Vz)/R1"
   ]
   }
,
{
		   "cell_type": "markdown",
		   "metadata": {},
		   "source": [
			"## Example 3.17: maximum_load_current.sce"
		   ]
		  },
  {
"cell_type": "code",
	   "execution_count": null,
	   "metadata": {
	    "collapsed": true
	   },
	   "outputs": [],
"source": [
"//chapter 3\n",
"//example 3.17\n",
"//page 110\n",
"printf('\n')\n",
"printf('given')\n",
"Vz=6.2;Pd=400*10^-3;Es=16;\n",
"Izm=Pd/Vz\n",
"R1=(Es-Vz)/Izm\n",
"Pr1=(Izm^2)*R1\n",
"Izmin=5*10^-3;\n",
"Izmax=Izm-Izmin;\n",
"printf('maximum current is %3.4fA\n',Izmax)"
   ]
   }
,
{
		   "cell_type": "markdown",
		   "metadata": {},
		   "source": [
			"## Example 3.18: line_regulation_laod_regulation_and_ripple_rejection_ratio.sce"
		   ]
		  },
  {
"cell_type": "code",
	   "execution_count": null,
	   "metadata": {
	    "collapsed": true
	   },
	   "outputs": [],
"source": [
"//chapter 3\n",
"//example 3.18\n",
"//page 112\n",
"printf('\n')\n",
"printf('given')\n",
"Zz=7;Es=16;Vo=6.2;Il=59.5*10^-3;\n",
"es=(10*Es)/100//10% os Es\n",
"Rl=Vo/Il\n",
"disp('es*Zz||Rl/R1+Zz||Rl')\n",
"V0=es*((Zz*Rl)/(Zz+Rl))/(R1+((Zz*Rl)/(Zz+Rl)))\n",
"lineregulation=(V0*100)/Vo;\n",
"printf('line regulation voltage is %3.3fpercentage\n',lineregulation)\n",
"V0=Il*((Zz*R1)/(Zz+R1))\n",
"loadregulation=(V0*100)/Vo;\n",
"printf('loadregulation voltage is %3.3fpercentage\n',loadregulation)\n",
"Rr=((Zz*Rl)/(Zz+Rl))/(R1+(Zz*Rl)/(Zz+Rl));\n",
"printf('ripple rejection is %3.3f\n',Rr)"
   ]
   }
,
{
		   "cell_type": "markdown",
		   "metadata": {},
		   "source": [
			"## Example 3.19: resistance_R1_and_forward_and_reverse_current.sce"
		   ]
		  },
  {
"cell_type": "code",
	   "execution_count": null,
	   "metadata": {
	    "collapsed": true
	   },
	   "outputs": [],
"source": [
"//chapter 3\n",
"//example 3.19\n",
"//page 114\n",
"printf('\n')\n",
"printf('given')\n",
"E=9;Vf=.7;If=1*10^-3;\n",
"Vo=E-Vf\n",
"R1=Vo/If\n",
"Vr=E;\n",
"printf('diode forward voltage is %3.2fohm\n',Vr)\n",
"printf('diode forward current is %3.3fA\n',If)"
   ]
   }
,
{
		   "cell_type": "markdown",
		   "metadata": {},
		   "source": [
			"## Example 3.1: peak_output_volatge_laod_current_peak_reverse_voltage.sce"
		   ]
		  },
  {
"cell_type": "code",
	   "execution_count": null,
	   "metadata": {
	    "collapsed": true
	   },
	   "outputs": [],
"source": [
"//chapter 3\n",
"//example 3.1\n",
"//page 73\n",
"printf('\n')\n",
"printf('given')\n",
"Vf=.7;Rl=500;Vi=22;\n",
"Vpi=1.414*Vi;\n",
"disp('Vpi')\n",
"Vpo=Vpi-Vf;\n",
"printf(' peak vouput voltage is %3.2fV\n',Vpo)\n",
"Ip=Vpo/Rl;\n",
"printf('peak load current is %3.4fA\n',Ip)\n",
"PIV=Vpi;\n",
"printf('diode paek reverse voltage %3.2fV\n',PIV)"
   ]
   }
,
{
		   "cell_type": "markdown",
		   "metadata": {},
		   "source": [
			"## Example 3.20: resistance_R1_and_forward_current_and_reverse_voltage.sce"
		   ]
		  },
  {
"cell_type": "code",
	   "execution_count": null,
	   "metadata": {
	    "collapsed": true
	   },
	   "outputs": [],
"source": [
"//chapter 3\n",
"//example 3.20\n",
"//page 117\n",
"printf('\n')\n",
"printf('given')\n",
"E=5;Vo=4.5;Il=2*10^-3;\n",
"R1=(E-Vo)/Il;\n",
"printf(' suitable resistance is %dohm\n',R1)\n",
"Vr=E\n",
"disp('when diode is forward baised')\n",
"If=(E-Vf)/R1;\n",
"printf(' diode forward current is %3.3fA\n',If)"
   ]
   }
,
{
		   "cell_type": "markdown",
		   "metadata": {},
		   "source": [
			"## Example 3.21: resistor_for_R1.sce"
		   ]
		  },
  {
"cell_type": "code",
	   "execution_count": null,
	   "metadata": {
	    "collapsed": true
	   },
	   "outputs": [],
"source": [
"//chapter 3\n",
"//example 3.21\n",
"//page 119\n",
"printf('\n')\n",
"printf('given')\n",
"Vo=2.7;Vf=.7;E=9;If=1*10^-3;Il=If;\n",
"Vb=Vo-Vf;\n",
"R1=(E-Vo)/(Il+If);\n",
"printf('resistance is %3.3fOhm\n',R1)"
   ]
   }
,
{
		   "cell_type": "markdown",
		   "metadata": {},
		   "source": [
			"## Example 3.22: zener_diode_and_R1.sce"
		   ]
		  },
  {
"cell_type": "code",
	   "execution_count": null,
	   "metadata": {
	    "collapsed": true
	   },
	   "outputs": [],
"source": [
"//chapter 3\n",
"//example 3.22\n",
"//page 120\n",
"printf('\n')\n",
"printf('given')\n",
"Vo=5;Vf=.7;Iz=5*10^-3;Il=1*10^-3;E=20;\n",
"Vz=Vo-Vf\n",
"R1=(E-Vo)/(Il+Iz);\n",
"printf('zener diode resistance si %dohm\n',R1)"
   ]
   }
,
{
		   "cell_type": "markdown",
		   "metadata": {},
		   "source": [
			"## Example 3.24: suitable_value_of_R1_and_C1.sce"
		   ]
		  },
  {
"cell_type": "code",
	   "execution_count": null,
	   "metadata": {
	    "collapsed": true
	   },
	   "outputs": [],
"source": [
"//chapter 3\n",
"//example 3.24\n",
"//page 124\n",
"printf('\n')\n",
"printf('given')\n",
"f=500;Rs=600;E=8;\n",
"t=1/(2*f)\n",
"PW=t;\n",
"C1=PW/Rs\n",
"Vo=2*E\n",
"Vc=(1*Vo)/100;//1% of  the Vo\n",
"Ic=(Vc*C1)/t\n",
"R1=(2*E)/Ic;\n",
"printf('suitable value of R1 is %dohm\n',R1)"
   ]
   }
,
{
		   "cell_type": "markdown",
		   "metadata": {},
		   "source": [
			"## Example 3.25: capacitor_voltage.sce"
		   ]
		  },
  {
"cell_type": "code",
	   "execution_count": null,
	   "metadata": {
	    "collapsed": true
	   },
	   "outputs": [],
"source": [
"//chapter 3\n",
"//example 3.25\n",
"//page 125\n",
"printf('\n')\n",
"printf('given\n')\n",
"Vf=.7;E=6;Vb1=3;\n",
"Vc=Vb1-Vf-(-E)\n",
"Vo=Vb1-Vf\n",
"disp('when input is +E')\n",
"Vo=E+Vc\n",
"Vc=E-Vb1-Vf\n",
"Vo=Vb1+Vf\n",
"disp('when input is -E')\n",
"Vo=-E+(-Vc)"
   ]
   }
,
{
		   "cell_type": "markdown",
		   "metadata": {},
		   "source": [
			"## Example 3.26: determine_C1_and_C2.sce"
		   ]
		  },
  {
"cell_type": "code",
	   "execution_count": null,
	   "metadata": {
	    "collapsed": true
	   },
	   "outputs": [],
"source": [
"//chapter 3\n",
"//example 3.26\n",
"//page 130\n",
"printf('\n')\n",
"printf('given')\n",
"E=12;Vf=.7;Rl=47*10^3;f=5000;\n",
"Vo=2*(E-Vf)\n",
"Il=Vo/Rl\n",
"disp(' capacitor discharge time')\n",
"t=1/(2*f)\n",
"disp(' for 1% ripple allow .5% due to discharge of C2 ,.5%due to discharge of C1')\n",
"Vc=(.5*Vo)/100\n",
"C2=((Il*t)/Vc)*10^6;\n",
"printf(' value of capacitor C2 is %3.2fuF\n',C2)\n",
"C1=2*C2;\n",
"printf('value of capacitor C1 is %3.2fuF\n',C1)"
   ]
   }
,
{
		   "cell_type": "markdown",
		   "metadata": {},
		   "source": [
			"## Example 3.27: diode_forward_current.sce"
		   ]
		  },
  {
"cell_type": "code",
	   "execution_count": null,
	   "metadata": {
	    "collapsed": true
	   },
	   "outputs": [],
"source": [
"//chapter 3\n",
"//example 3.21\n",
"//page 119\n",
"printf('\n')\n",
"printf('given')\n",
"Vcc=5;Vf=.7;R1=3.3*10^3;\n",
"disp('A)')\n",
"Ir1=(Vcc-Vf)/R1;\n",
"printf('diode forward current when all input are low is %3.4fA\n',Ir1)\n",
"disp('for each diode')\n",
"If=Ir1/3\n",
"disp('B)')\n",
"If2=Ir1/2\n",
"If3=If2;\n",
"printf(' forward current when input A is high is %3.5fA\n',If3)\n",
"disp('C)')\n",
"If3=Ir1;\n",
"printf(' forward current when input A and B are high and C is low %3.5fA\n',If3)"
   ]
   }
,
{
		   "cell_type": "markdown",
		   "metadata": {},
		   "source": [
			"## Example 3.2: peak_output_voltage_and_current.sce"
		   ]
		  },
  {
"cell_type": "code",
	   "execution_count": null,
	   "metadata": {
	    "collapsed": true
	   },
	   "outputs": [],
"source": [
"//chapter 3\n",
"//example 3.2\n",
"//page 779\n",
"printf('\n')\n",
"printf('given')\n",
"Vi=30;Rl=300;Vf=.7;\n",
"Vpi=1.414*Vi;\n",
"Vpo=Vpi-2*Vf;\n",
"printf(' peak output voltage %dV\n',Vpo)\n",
"Ip=Vpo/Rl;\n",
"printf(' current bridge is %3.3fA\n',Ip)"
   ]
   }
,
{
		   "cell_type": "markdown",
		   "metadata": {},
		   "source": [
			"## Example 3.3: peak_to_peak_voltage.sce"
		   ]
		  },
  {
"cell_type": "code",
	   "execution_count": null,
	   "metadata": {
	    "collapsed": true
	   },
	   "outputs": [],
"source": [
"//chapter 3\n",
"//example 3.3\n",
"//page 83\n",
"printf('\n')\n",
"printf('given')\n",
"C1=680*10^-6;Eo=28;Rl=200;f=60;\n",
"Il=Eo/Rl;\n",
"T=1/f;\n",
"t1=T;\n",
"Vr=(Il*t1)/C1;\n",
"printf('peak to peak ripple voltage is %3.2fV\n',Vr)"
   ]
   }
,
{
		   "cell_type": "markdown",
		   "metadata": {},
		   "source": [
			"## Example 3.4: required_reservoir_capacitance.sce"
		   ]
		  },
  {
"cell_type": "code",
	   "execution_count": null,
	   "metadata": {
	    "collapsed": true
	   },
	   "outputs": [],
"source": [
"//chapter 3\n",
"//example 3.4\n",
"//page 84\n",
"printf('\n')\n",
"printf('given')\n",
"Eo=20;Rl=500;f=60;\n",
"Vr=(10*Eo)/100//10% of Eo\n",
"Il=Eo/Rl\n",
"T=1/f;\n",
"t1=T\n",
"C1=((Il*t1)/Vr)*10^6;\n",
"printf('reservior capacitance is %duF\n',C1)"
   ]
   }
,
{
		   "cell_type": "markdown",
		   "metadata": {},
		   "source": [
			"## Example 3.5: charging_and_discharging_time.sce"
		   ]
		  },
  {
"cell_type": "code",
	   "execution_count": null,
	   "metadata": {
	    "collapsed": true
	   },
	   "outputs": [],
"source": [
"//chapter 3\n",
"//example 3.5\n",
"//page 85\n",
"printf('\n')\n",
"printf('given')\n",
"Eo=20;f=60;Rl=500;\n",
"Il=Eo/Rl;\n",
"Vr=(10*Eo)/100;\n",
"printf('10percent of Eo is %dV\n',Vr)\n",
"Eomin=Eo-.5*Vr\n",
"Eomax=Eo+.5*Vr\n",
"Q1=sin(inv(Eomin/Eomax));\n",
"Q1=65\n",
"Q2=90-Q1\n",
"T=1/f;\n",
"t2=(Q2*T)/360;\n",
"printf(' charging time is %3.4fs\n',t2)\n",
"t1=T-t2\n",
"printf('discharging time is %3.4fs\n',t1)\n",
"C1=((Il*t1)/Vr)*10^6;\n",
"printf('reservior capacitance is %duF\n',C1)"
   ]
   }
,
{
		   "cell_type": "markdown",
		   "metadata": {},
		   "source": [
			"## Example 3.6: required_surge_limiting_resistance.sce"
		   ]
		  },
  {
"cell_type": "code",
	   "execution_count": null,
	   "metadata": {
	    "collapsed": true
	   },
	   "outputs": [],
"source": [
"//chapter 3\n",
"//example 3.6\n",
"//page 88\n",
"printf('\n')\n",
"printf('given')\n",
"Eo=21;Vf=.7;\n",
"t1=1.16*10^-3;t2=15.54*10^-3;\n",
"Vp=Eo+Vf\n",
"Vr=2*Vp\n",
"Il=40*10^-4;\n",
"Ifrm=(Il*(t1+t2))/t2;\n",
"Ifsm=30;\n",
"Rs=Vp/Ifsm\n",
"printf(' surge limiting resistance is %3.2fohm\n',Rs)"
   ]
   }
,
{
		   "cell_type": "markdown",
		   "metadata": {},
		   "source": [
			"## Example 3.7: transformer_for_half_wave_rectifier.sce"
		   ]
		  },
  {
"cell_type": "code",
	   "execution_count": null,
	   "metadata": {
	    "collapsed": true
	   },
	   "outputs": [],
"source": [
"//chapter 3\n",
"//example 3.7\n",
"//page 89\n",
"printf('\n')\n",
"printf('given')\n",
"Vf=.7;Eo=21;Il=40*10^-3;Vp=115;\n",
"Vs=.707*(Vf+Eo);\n",
"printf(' Vrms voltage is %3.3fV\n',Vs)\n",
"Is=3.6*Il;\n",
"printf(' rms current is %3.3fA\n',Is)\n",
"Ip=(Vs*Is)/Vp;\n",
"printf('primary current is %3.3fA\n',Ip)"
   ]
   }
,
{
		   "cell_type": "markdown",
		   "metadata": {},
		   "source": [
			"## Example 3.8: required_reservoir_capacitance.sce"
		   ]
		  },
  {
"cell_type": "code",
	   "execution_count": null,
	   "metadata": {
	    "collapsed": true
	   },
	   "outputs": [],
"source": [
"//chapter 3\n",
"//example 3.8\n",
"//page 92\n",
"printf('\n')\n",
"printf('given')\n",
"Vr=2;T=16.7*10^-3;t2=1.16*10^-3;Il=40*10^-3;//from example 3.5\n",
"t1=(T/2)-t2\n",
"C1=(Il*t1)/Vr;\n",
"printf(' resrvior capacitor is %3.6fF\n',C1)"
   ]
   }
,
{
		   "cell_type": "markdown",
		   "metadata": {},
		   "source": [
			"## Example 3.9: required_reservoir_capacitance.sce"
		   ]
		  },
  {
"cell_type": "code",
	   "execution_count": null,
	   "metadata": {
	    "collapsed": true
	   },
	   "outputs": [],
"source": [
"//chapter 3\n",
"//example 3.9\n",
"//page 93\n",
"printf('\n')\n",
"printf('given')\n",
"Vr=2;T=16.7*10^-3;Il=40*10^-3;\n",
"t1=T/2\n",
"C1=(Il*t1)/Vr;\n",
"printf(' reservior capacitance is %3.6fF\n',C1)"
   ]
   }
],
"metadata": {
		  "kernelspec": {
		   "display_name": "Scilab",
		   "language": "scilab",
		   "name": "scilab"
		  },
		  "language_info": {
		   "file_extension": ".sce",
		   "help_links": [
			{
			 "text": "MetaKernel Magics",
			 "url": "https://github.com/calysto/metakernel/blob/master/metakernel/magics/README.md"
			}
		   ],
		   "mimetype": "text/x-octave",
		   "name": "scilab",
		   "version": "0.7.1"
		  }
		 },
		 "nbformat": 4,
		 "nbformat_minor": 0
}
