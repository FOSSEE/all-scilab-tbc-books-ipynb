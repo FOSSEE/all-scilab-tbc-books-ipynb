{
"cells": [
 {
		   "cell_type": "markdown",
	   "metadata": {},
	   "source": [
       "# Chapter 14: Ic operational Amplifier and basic Op amp circuits"
	   ]
	},
{
		   "cell_type": "markdown",
		   "metadata": {},
		   "source": [
			"## Example 14.10: suitable_resistor_for_741_op_amp.sce"
		   ]
		  },
  {
"cell_type": "code",
	   "execution_count": null,
	   "metadata": {
	    "collapsed": true
	   },
	   "outputs": [],
"source": [
"//chapter 14\n",
"//example 14.10\n",
"//page 615\n",
"printf('\n')\n",
"printf('given')\n",
"Ib=500*10^-9;Vi=1;Acl=10;\n",
"I1=100*Ib\n",
"R1=Vi/I1\n",
"R1=18*10^3;//use standard value\n",
"R2=Acl*R1\n",
"R4=R1\n",
"R3=R1/Acl"
   ]
   }
,
{
		   "cell_type": "markdown",
		   "metadata": {},
		   "source": [
			"## Example 14.11: overall_voltage_gain_for_instrumentation_amplifier.sce"
		   ]
		  },
  {
"cell_type": "code",
	   "execution_count": null,
	   "metadata": {
	    "collapsed": true
	   },
	   "outputs": [],
"source": [
"//chapter 14\n",
"//example 14.11\n",
"//page 619\n",
"printf('\n')\n",
"printf('given')\n",
"Vi=10*10^-3;Vn=1;R1=33*10^3;R2=300;R5=15*10^3;R4=15*10^3;Vi2=-10*10^-3;R3=R1;R6=15*10^3;R7=R6;\n",
"Acl=((2*R1+R2)/R2)*(R5/R4)\n",
"disp('at junction of R1 and R2')\n",
"Vb=Vi+Vn\n",
"disp('at junction of R2 and R3')\n",
"Vc=Vi2+Vn\n",
"disp(' current through R2')\n",
"I2=(Vb-Vc)/R2\n",
"disp('at the output of A1')\n",
"Va=Vb+(I2*R1)\n",
"disp('at output of A2')\n",
"Vd=Vc-(I2*R3)\n",
"disp('at junction of R6 and R7')\n",
"Vf=Vd*(R7/(R6+R7))\n",
"disp('at junction of R4 and R5')\n",
"Ve=Vf\n",
"disp('current through R4')\n",
"I4=(Va-Ve)/R4\n",
"disp('at output of A3')\n",
"Vg=Ve-(I4*R5)"
   ]
   }
,
{
		   "cell_type": "markdown",
		   "metadata": {},
		   "source": [
			"## Example 14.12: typical_output_voltage_swingand_calculate_rise_time.sce"
		   ]
		  },
  {
"cell_type": "code",
	   "execution_count": null,
	   "metadata": {
	    "collapsed": true
	   },
	   "outputs": [],
"source": [
"//chapter 14\n",
"//example 14.12\n",
"//page 623\n",
"printf('\n')\n",
"printf('given')\n",
"Vcc=15;Vee=-15;Av=200000;SR=.5/10^-6;Vo=14;\n",
"V=(Vcc-1)-(Vee+1)\n",
"Vi=Vo/Av\n",
"disp('rise time of output is ')\n",
"t=(V/SR)*10^6;\n",
"printf('rise time of output is %dus\n',t)"
   ]
   }
,
{
		   "cell_type": "markdown",
		   "metadata": {},
		   "source": [
			"## Example 14.13: calculate_resistor_for_schmitt_trigger_circuit.sce"
		   ]
		  },
  {
"cell_type": "code",
	   "execution_count": null,
	   "metadata": {
	    "collapsed": true
	   },
	   "outputs": [],
"source": [
"//chapter 14\n",
"//example 14.13\n",
"//page 627\n",
"printf('\n')\n",
"printf('given')\n",
"Ib=500*10^-9;UTP=5;Vcc=15;\n",
"I1=100*Ib\n",
"R2=UTP/I1\n",
"R1=((Vcc-1)-5)/I1"
   ]
   }
,
{
		   "cell_type": "markdown",
		   "metadata": {},
		   "source": [
			"## Example 14.14: upper_and_lower_trigger_for_non_inverting_schmitt_trigger.sce"
		   ]
		  },
  {
"cell_type": "code",
	   "execution_count": null,
	   "metadata": {
	    "collapsed": true
	   },
	   "outputs": [],
"source": [
"//chapter 14\n",
"//example 14.14\n",
"//page 630\n",
"printf('\n')\n",
"printf('given')\n",
"Vcc=15;Vsat=Vcc;R2=150*10^3;Vf=.7;R1=27*10^3;R3=120*10^3;\n",
"I2=(Vsat-Vf)/R2\n",
"UTP=I2*R1\n",
"disp(' LTP calculation including Vf')\n",
"I3=(Vsat-Vf)/R3\n",
"LTP=-I3*R1"
   ]
   }
,
{
		   "cell_type": "markdown",
		   "metadata": {},
		   "source": [
			"## Example 14.1: calculate_maximum_resistance.sce"
		   ]
		  },
  {
"cell_type": "code",
	   "execution_count": null,
	   "metadata": {
	    "collapsed": true
	   },
	   "outputs": [],
"source": [
"//chapter 14\n",
"//example 14.1\n",
"//page 597\n",
"printf('\n')\n",
"printf('given')\n",
"Vbe=.7;Ib=500*10^-9;\n",
"R1=Vbe/(10*Ib);\n",
"R1=120*10^3//use standard value\n",
"R2=R1;\n",
"I2=100*Ib\n",
"Vr1=15;Vr2=Vr1;\n",
"R1=Vr1/I2\n",
"R1=270*10^3;//use satndard value\n",
"R2=R1;\n",
"R3=(R1*R2)/(R1+R2)"
   ]
   }
,
{
		   "cell_type": "markdown",
		   "metadata": {},
		   "source": [
			"## Example 14.2: suitable_resistor_for_BIFET_op_amp_is_used.sce"
		   ]
		  },
  {
"cell_type": "code",
	   "execution_count": null,
	   "metadata": {
	    "collapsed": true
	   },
	   "outputs": [],
"source": [
"//chapter 14\n",
"//example 14.2\n",
"//page 599\n",
"printf('\n')\n",
"printf('given')\n",
"R2=1*10^6;Vb=3;Vo=3;Vee=9;\n",
"Vr2=Vb-(-Vee)\n",
"Vr1=Vee-Vb\n",
"I2=Vr2/R2\n",
"R1=Vr1/I2\n",
"R3=0"
   ]
   }
,
{
		   "cell_type": "markdown",
		   "metadata": {},
		   "source": [
			"## Example 14.3: typical_difference_between_input_and_out_voltage_and_Zin_and_Zout.sce"
		   ]
		  },
  {
"cell_type": "code",
	   "execution_count": null,
	   "metadata": {
	    "collapsed": true
	   },
	   "outputs": [],
"source": [
"//chapter 14\n",
"//example 14.3\n",
"//page 601\n",
"printf('\n')\n",
"printf('given')\n",
"Av=200000;ri=2*10^6;ro=75;Vo=1;B=1;\n",
"Vd=Vo/Av\n",
"Zi=(1+Av*B)*ri\n",
"Zo=ro/(1+Av*B)"
   ]
   }
,
{
		   "cell_type": "markdown",
		   "metadata": {},
		   "source": [
			"## Example 14.4: capacitor_coupled_voltage_follower_usin_741_op_amp.sce"
		   ]
		  },
  {
"cell_type": "code",
	   "execution_count": null,
	   "metadata": {
	    "collapsed": true
	   },
	   "outputs": [],
"source": [
"//chapter 14\n",
"//example 14.4\n",
"//page 603\n",
"printf('\n')\n",
"printf('given')\n",
"f=70;Rl=4*10^3;Ib=500*10^-9;Vbe=.7;\n",
"R1=Vbe/(10*Ib)\n",
"R1=120*10^3;//use standard value\n",
"R2=R1;\n",
"disp(' desire value of capacitor is C=1/2*3.14*f*R')\n",
"C2=1/(2*3.14*f*Rl)\n",
"C1=1/(2*3.14*f*(R1/10))"
   ]
   }
,
{
		   "cell_type": "markdown",
		   "metadata": {},
		   "source": [
			"## Example 14.5: direct_coupled_non_inverting_amplifier.sce"
		   ]
		  },
  {
"cell_type": "code",
	   "execution_count": null,
	   "metadata": {
	    "collapsed": true
	   },
	   "outputs": [],
"source": [
"//chapter 14\n",
"//example 14.5\n",
"//page 605\n",
"printf('\n')\n",
"printf('given')\n",
"Ib=500*10^-9;Vi=50*10^-3;Vo=2;\n",
"I2=100*Ib;\n",
"R3=Vi/I2\n",
"R2=(Vo/I2)-R3\n",
"R1=(R2*R3)/(R2+R3)"
   ]
   }
,
{
		   "cell_type": "markdown",
		   "metadata": {},
		   "source": [
			"## Example 14.6: typical_input_and_output_impedances_for_non_inverting.sce"
		   ]
		  },
  {
"cell_type": "code",
	   "execution_count": null,
	   "metadata": {
	    "collapsed": true
	   },
	   "outputs": [],
"source": [
"//chapter 14\n",
"//example 14.6\n",
"//page 606\n",
"printf('\n')\n",
"printf('given')\n",
"Av=200000;ri=2*10^6;ro=75;R3=1*10^3;R2=39*10^3;\n",
"B=R3/(R2+R3)\n",
"Zi=(1+Av*B)*ri\n",
"printf(' typical input impedance for non-inverting amplifier is %dohm\n',Zi)\n",
"Zo=ro/(1+Av*B)"
   ]
   }
,
{
		   "cell_type": "markdown",
		   "metadata": {},
		   "source": [
			"## Example 14.7: voltage_gain_and_lower_cutoff_frequency.sce"
		   ]
		  },
  {
"cell_type": "code",
	   "execution_count": null,
	   "metadata": {
	    "collapsed": true
	   },
	   "outputs": [],
"source": [
"//chapter 14\n",
"//example 14.7\n",
"//page 607\n",
"printf('\n')\n",
"printf('given')\n",
"R2=50*10^3;R3=2.2*10^3;C2=8.2*10^-6;Rl=600;\n",
"disp('voltage gain ')\n",
"Acl=(R3+R2)/R3\n",
"disp('lower cuttoff frequency ')\n",
"f=1/(2*3.14*C2*Rl)"
   ]
   }
,
{
		   "cell_type": "markdown",
		   "metadata": {},
		   "source": [
			"## Example 14.8: direct_coupled_inverting_amplifier.sce"
		   ]
		  },
  {
"cell_type": "code",
	   "execution_count": null,
	   "metadata": {
	    "collapsed": true
	   },
	   "outputs": [],
"source": [
"//chapter 14\n",
"//example 14.8\n",
"//page 610\n",
"printf('\n')\n",
"printf('given')\n",
"Acl=144;Vi=20*10^-3;Ib=500*10^-9;\n",
"I1=100*Ib\n",
"R1=Vi/I1\n",
"R1=390;//use standard value\n",
"R2=Acl*R1\n",
"R3=(R1*R2)/(R1+R2)"
   ]
   }
,
{
		   "cell_type": "markdown",
		   "metadata": {},
		   "source": [
			"## Example 14.9: design_three_input_summing_amplifier.sce"
		   ]
		  },
  {
"cell_type": "code",
	   "execution_count": null,
	   "metadata": {
	    "collapsed": true
	   },
	   "outputs": [],
"source": [
"//chapter 14\n",
"//example 14.9\n",
"//page 612\n",
"printf('\n')\n",
"printf('given')\n",
"Acl=3;R4=1*10^6;Vi=1;\n",
"R1=R4/Acl\n",
"R1=330*10^3;//use standard value \n",
"R2=R1;R3=R1;\n",
"I1=Vi/R1\n",
"I2=I1;I3=I1;\n",
"I4=I1+I2+I3\n",
"Vo=-I4*R4"
   ]
   }
],
"metadata": {
		  "kernelspec": {
		   "display_name": "Scilab",
		   "language": "scilab",
		   "name": "scilab"
		  },
		  "language_info": {
		   "file_extension": ".sce",
		   "help_links": [
			{
			 "text": "MetaKernel Magics",
			 "url": "https://github.com/calysto/metakernel/blob/master/metakernel/magics/README.md"
			}
		   ],
		   "mimetype": "text/x-octave",
		   "name": "scilab",
		   "version": "0.7.1"
		  }
		 },
		 "nbformat": 4,
		 "nbformat_minor": 0
}
