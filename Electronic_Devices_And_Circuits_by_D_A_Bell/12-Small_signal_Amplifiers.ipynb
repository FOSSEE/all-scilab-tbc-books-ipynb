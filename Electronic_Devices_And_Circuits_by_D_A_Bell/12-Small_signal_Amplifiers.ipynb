{
"cells": [
 {
		   "cell_type": "markdown",
	   "metadata": {},
	   "source": [
       "# Chapter 12: Small signal Amplifiers"
	   ]
	},
{
		   "cell_type": "markdown",
		   "metadata": {},
		   "source": [
			"## Example 12.10: minimum_overall_voltage_gain.sce"
		   ]
		  },
  {
"cell_type": "code",
	   "execution_count": null,
	   "metadata": {
	    "collapsed": true
	   },
	   "outputs": [],
"source": [
"//chapter 12\n",
"//example 12.10\n",
"//page 494\n",
"printf('\n')\n",
"printf('given')\n",
"hfe=50;hie=1.3*10^3;R3=5.6*10^3;R5=3.9*10^3;Rl=40*10^3;\n",
"Av1=-(hfe*((R3*hie)/(R3+hie)))/hie\n",
"Av2=-(hfe*((R5*Rl)/(R5+Rl)))/hie\n",
"disp(' overall voltage gain is Av=Av1*Av2')\n",
"Av=Av1*Av2"
   ]
   }
,
{
		   "cell_type": "markdown",
		   "metadata": {},
		   "source": [
			"## Example 12.11: resistor_for_two_stage_amplifier.sce"
		   ]
		  },
  {
"cell_type": "code",
	   "execution_count": null,
	   "metadata": {
	    "collapsed": true
	   },
	   "outputs": [],
"source": [
"//chapter 12\n",
"//example 12.11\n",
"//page 497\n",
"printf('\n')\n",
"printf('given')\n",
"Vp=100*10^-3;Rl=100;Vbe=.7;Vcc=20;\n",
"ip=Vp/Rl\n",
"disp('select Ie2>ip')\n",
"Ie2=2*10^-3;\n",
"Ve1=5;Vce1=3;\n",
"Vb2=Ve1+Vce1\n",
"Vc1=Vb2;\n",
"Ve2=Vb2-Vbe\n",
"R5=Ve2/Ie2//use 3.3Kohm standard value\n",
"R5=3.3*10^3;\n",
"Ic1=1*10^-3;\n",
"Vr3=Vcc-Vb2\n",
"R3=Vr3/Ic1\n",
"R4=Ve1/Ic1//use 4.7Kohm standard value\n",
"R4=4.7*10^3;\n",
"Vb1=Ic1*R4+Vbe\n",
"R2=10*R4\n",
"R1=((Vcc-Vb1)*R2)/Vr2"
   ]
   }
,
{
		   "cell_type": "markdown",
		   "metadata": {},
		   "source": [
			"## Example 12.12: suitable_capacitor_for_circuit.sce"
		   ]
		  },
  {
"cell_type": "code",
	   "execution_count": null,
	   "metadata": {
	    "collapsed": true
	   },
	   "outputs": [],
"source": [
"//chapter 12\n",
"//example 12.11\n",
"//page 498\n",
"printf('\n')\n",
"printf('given')\n",
"rs=600;Ie1=1*10^-3;hfe=50;R1=120*10^3;R2=47*10^3;f1=150;Ie2=2*10^-3;R5=3.3*10^3;R3=12*10^3;Rl=100;\n",
"re=26*10^-3/Ie1\n",
"hie=(1+hfe)*re\n",
"Zi=(R1*R2*hie)/(R1*R2+R1*hie+R2*hie)\n",
"Xc1=(Zi+rs)/10\n",
"C1=1/(2*3.14*f1*Xc1)//use 6*10^-6 as standard value\n",
"Xc2=.65*re\n",
"C2=1/(2*3.14*f1*Xc2)\n",
"re2=26*10^-3/Ie2\n",
"Zo=(R5*(re2+R3/hfe))/(R5+(re2+R3/hfe))\n",
"Xc3=.65*(Rl+Zo)\n",
"C3=1/(2*3.14*f1*Xc3)"
   ]
   }
,
{
		   "cell_type": "markdown",
		   "metadata": {},
		   "source": [
			"## Example 12.13: analyze_two_stage_amplifier_and_determine_minimum_voltage_gain.sce"
		   ]
		  },
  {
"cell_type": "code",
	   "execution_count": null,
	   "metadata": {
	    "collapsed": true
	   },
	   "outputs": [],
"source": [
"//chapter 12\n",
"//example 12.13\n",
"//page 499\n",
"printf('\n')\n",
"printf('given')\n",
"Ie2=2*10^-3;hfe=50;R5=3.3*10^3;Rl=100;hfc2=51;R3=12*10^3;\n",
"re=26*10^-3/Ie2\n",
"hic=hfe*re\n",
"Zi2=hic+hfc2*((Rl*R5)/(Rl+R5))\n",
"Av1=-(hfe*((R3*Zi2)/(R3+Zi2)))/hie\n",
"Av2=1\n",
"disp('overall voltage gain is Av=Av1*Av2')\n",
"Av=Av1*Av2"
   ]
   }
,
{
		   "cell_type": "markdown",
		   "metadata": {},
		   "source": [
			"## Example 12.14: Dc_feedback_pair_with_an_emitter_follower_output.sce"
		   ]
		  },
  {
"cell_type": "code",
	   "execution_count": null,
	   "metadata": {
	    "collapsed": true
	   },
	   "outputs": [],
"source": [
"//chapter 12\n",
"//example 12.14\n",
"//page 503\n",
"printf('\n')\n",
"printf('given')\n",
"vp=50*10^-3;Rl=50;Ve2=5;Vcc=12;Vbe=.7;hFE=70;hfe=100;R2=120*10^3;f1=150;R3=150*10^3;R1=5.6*10^3;R4=2.2*10^3;\n",
"ip=vp/Rl\n",
"disp('select Ie2>ip')\n",
"Ie2=2*10^-3;\n",
"R4=Ve2/Ie2//use standard 2.2Kohm\n",
"R4=2.2*10^3;\n",
"Ie2=Ve2/R4\n",
"Ic1=1*10^-3;\n",
"Vr1=Vcc-(Vbe+Ve2)\n",
"R1=Vr1/Ic1//use 5.6kohm and recalculate\n",
"R1=5.6*10^3;\n",
"Ic1=Vr1/R1\n",
"Ib1=Ic1/hFE\n",
"hie=hfe*(26*10^-3/Ic1)\n",
"hie2=hfe*((26*10^-3)/(2.27*10^-3))\n",
"Zi1=(R2*hie)/(R2+hie)\n",
"Xc1=Zi1/10\n",
"C1=1/(2*3.14*f1*Xc1)\n",
"Xc2=R3/100\n",
"C2=1/(2*3.14*f1*Xc2)\n",
"Zo=(((hie2+R1)/hfe)*R4)/(((hie2+R1)/hfe)+R4)\n",
"Xc3=Rl+Zo\n",
"C3=1/(2*3.14*f1*Xc3)"
   ]
   }
,
{
		   "cell_type": "markdown",
		   "metadata": {},
		   "source": [
			"## Example 12.15: suitable_resistor_for_BIBET_amplifier.sce"
		   ]
		  },
  {
"cell_type": "code",
	   "execution_count": null,
	   "metadata": {
	    "collapsed": true
	   },
	   "outputs": [],
"source": [
"//chapter 12\n",
"//example 12.15\n",
"//page 407\n",
"printf('\n')\n",
"printf('given')\n",
"Vgsoff=-6;Idss=20*10^-3;Yfs=4000*10^-6;Id=2*10^-3;Vcc=20;Zi=500*10^3;R2=560*10^3;Rl=80*10^3;Vbe=.7;Vce=3;\n",
"Vgs=Vgsoff*(1-sqrt(Id/Idss))\n",
"Vds=(-Vgsoff)+1-(-Vgs)\n",
"Vr3=(Vcc-Vds)/2\n",
"Vr4=Vr3;\n",
"R3=Vr4/Id//use 3.9kohm as standard and recalculate Vr3 and Vr4\n",
"R4=R3;\n",
"R4=3.9*10^3;\n",
"Vr3=Id*R4\n",
"Vr4=Vr3;\n",
"Vr2=Vr4-(-Vgs)\n",
"Vr1=Vcc-Vr2\n",
"R1=(Vr1*R2)/Vr2\n",
"R6=Rl/10\n",
"Vr5=Vr3-Vbe\n",
"Vr6=Vcc-Vr5-Vce\n",
"Ic2=Vr6/R6\n",
"R5=Vr5/Ic2"
   ]
   }
,
{
		   "cell_type": "markdown",
		   "metadata": {},
		   "source": [
			"## Example 12.16: suitable_capacitor_For_BIFET_direct_coupled_amplifier.sce"
		   ]
		  },
  {
"cell_type": "code",
	   "execution_count": null,
	   "metadata": {
	    "collapsed": true
	   },
	   "outputs": [],
"source": [
"//chapter 12\n",
"//example 12.16\n",
"//page 508\n",
"printf('\n')\n",
"printf('given')\n",
"R1=2.7*10^6;R2=560*10^3;f1=150;Yfs=8000*10^-6;Ie=1.2*10^-3;Rl=80*10^3;R6=8.2*10^3;\n",
"Zi=(R1*R2)/(R1+R2)\n",
"Xc1=Zi/10\n",
"C1=1/(2*3.14*f1*Xc1)\n",
"Xc2=.65/Yfs\n",
"C2=1/(2*3.14*f1*Xc2)//use 15pF as standard value\n",
"re=26*10^-3/Ie\n",
"Xc3=.65*re\n",
"C3=1/(2*3.14*f1*Xc3)\n",
"Xc4=(R6+Rl)/10\n",
"C4=1/(2*3.14*f1*Xc4)"
   ]
   }
,
{
		   "cell_type": "markdown",
		   "metadata": {},
		   "source": [
			"## Example 12.17: determine_minimum_overall_voltage_gain.sce"
		   ]
		  },
  {
"cell_type": "code",
	   "execution_count": null,
	   "metadata": {
	    "collapsed": true
	   },
	   "outputs": [],
"source": [
"//chapter 12\n",
"//example 12.17\n",
"//page 509\n",
"printf('\n')\n",
"printf('given')\n",
"re=22;hfe=100;R3=3.9*10^3;Yfs=4000*10^-6;R6=8.2*10^3;Rl=80*10^3;\n",
"Zi2=hfe*re\n",
"Av1=-Yfs*((R3*Zi2)/(R3+Zi2))\n",
"Av2=-(hfe*((R6*Rl)/(R6+Rl)))/Zi2\n",
"disp('overall voltage is Av=Av1*Av2')\n",
"Av=Av1*Av2"
   ]
   }
,
{
		   "cell_type": "markdown",
		   "metadata": {},
		   "source": [
			"## Example 12.18: suitable_resistor_for_differential_amplifier.sce"
		   ]
		  },
  {
"cell_type": "code",
	   "execution_count": null,
	   "metadata": {
	    "collapsed": true
	   },
	   "outputs": [],
"source": [
"//chapter 12\n",
"//example 12.18\n",
"//page 516\n",
"printf('\n')\n",
"printf('given')\n",
"hFE=60;hfe=60;hie=1.4*10^3;Rl=70*10^3;Vce=3;Vbe=.7;Vcc=10;\n",
"Rc2=Rl/10//use 6.8Kohm as standard value\n",
"Vrc2=Vcc+Vbe-Vce\n",
"Ic=Vrc2/Rc2\n",
"Ie=Ic;\n",
"Re=(Vcc-Vbe)/(2*Ie)//use 4.7 as standard value\n",
"Re=4.7*10^3;\n",
"Rb=Vbe/(10*(Ic/hFE))\n",
"Rb1=Rb;"
   ]
   }
,
{
		   "cell_type": "markdown",
		   "metadata": {},
		   "source": [
			"## Example 12.19: suitable_capacitor_value_for_amplifier_and_voltage_gain.sce"
		   ]
		  },
  {
"cell_type": "code",
	   "execution_count": null,
	   "metadata": {
	    "collapsed": true
	   },
	   "outputs": [],
"source": [
"//chapter 12\n",
"//example 12.19\n",
"//page 517\n",
"printf('\n')\n",
"printf('given')\n",
"f1=60;Ie=1.13*10^-3;hfe=60;Rb=3.9*10^3;Rl=70*10^3;Rc=6.8*10^3;\n",
"re=26*10^-3/Ie//use 20 as standard value\n",
"re=20;\n",
"hie=hfe*re\n",
"Zb=2*hie\n",
"Zi=(Rb*Zb)/(Rb+Zb)\n",
"C1=1/(2*3.14*f1*Zi)\n",
"C2=1/(2*3.14*f1*(Rl/10))\n",
"Av=(hfe*((Rc*Rl)/(Rc+Rl)))/(2*hie)"
   ]
   }
,
{
		   "cell_type": "markdown",
		   "metadata": {},
		   "source": [
			"## Example 12.1: required_capacitance_and_voltage_gain_at_different_frequency.sce"
		   ]
		  },
  {
"cell_type": "code",
	   "execution_count": null,
	   "metadata": {
	    "collapsed": true
	   },
	   "outputs": [],
"source": [
"//chapter 12\n",
"//example 12.1\n",
"//page 474\n",
"printf('\n')\n",
"printf('given')\n",
"hfe=50;hie=1*10^3;hib=20;f1=100;Rc=3.3*10^3;Re=Rc;\n",
"disp(' required capacitance')\n",
"Xc2=hib;\n",
"C2=1/(2*3.14*f1*Xc2)\n",
"disp(' voltage gain with emitter terminal completely bypassed to ground')\n",
"Av=-(hfe*Rc)/hie\n",
"disp('voltage gain  when f=100')\n",
"Av=-(hfe*Rc)/sqrt(((hie^2)+((1+hfe)*Xc2)^2))\n",
"disp(' voltage gain when C2 is incorrectly selected as Xc2=Re/10')\n",
"Avx=-(hfe*Rc)/sqrt(((hie^2)+((1+hfe)*(Re/10))^2))"
   ]
   }
,
{
		   "cell_type": "markdown",
		   "metadata": {},
		   "source": [
			"## Example 12.20: suitable_resistor_for_cascode_amplifier.sce"
		   ]
		  },
  {
"cell_type": "code",
	   "execution_count": null,
	   "metadata": {
	    "collapsed": true
	   },
	   "outputs": [],
"source": [
"//chapter 12\n",
"//example 12.20\n",
"//page 521\n",
"printf('\n')\n",
"printf('given')\n",
"Vcc=20;Rl=90*10^3;hfe=50;hie=1.2*10^3;hib=24;Vce=3;Vce1=Vce;Ve=5;Vbe=.7;\n",
"Rc=Rl/10//use 8.2kohm as standard value\n",
"Rc=8.2*10^3;\n",
"Vrc=Vcc-Vce-Vce1-Ve\n",
"Ic=Vrc/Rc\n",
"Re=Ve/Ic\n",
"Re=4.7*10^3;//use 4.7 as standard value\n",
"R3=10*Re\n",
"Vb1=Ve+Vbe\n",
"I3=Vb1/R3\n",
"Vb2=Ve+Vce+Vbe\n",
"Vr2=Vb2-Vb1\n",
"R2=Vr2/I3\n",
"R1=(Vcc-Vb2)/I3"
   ]
   }
,
{
		   "cell_type": "markdown",
		   "metadata": {},
		   "source": [
			"## Example 12.21: suitable_capacitor_for_cascode_circuit.sce"
		   ]
		  },
  {
"cell_type": "code",
	   "execution_count": null,
	   "metadata": {
	    "collapsed": true
	   },
	   "outputs": [],
"source": [
"//chapter 12\n",
"//example 12.21\n",
"//page 522\n",
"printf('\n')\n",
"printf('given')\n",
"f1=25;R2=24.7*10^3;R3=47*10^3;hie=1.2*10^3;hib=24;Rc=9*10^3;Rl=90*10^3;\n",
"Zi=(R2*R3*hie)/(R2*R3+R2*hie+R3*hie)\n",
"C1=1/(2*3.14*f1*(Zi/10))\n",
"C2=1/(2*3.14*f1*(hie/10))\n",
"C3=1/(2*3.14*f1*hib)\n",
"C4=1/(2*3.14*f1*((Rc+Rl)/10))"
   ]
   }
,
{
		   "cell_type": "markdown",
		   "metadata": {},
		   "source": [
			"## Example 12.22: resonance_frequency_voltage_gainbandwidth_of_amplifier.sce"
		   ]
		  },
  {
"cell_type": "code",
	   "execution_count": null,
	   "metadata": {
	    "collapsed": true
	   },
	   "outputs": [],
"source": [
"//chapter 12\n",
"//example 12.22\n",
"//page 525\n",
"printf('\n')\n",
"printf('given')\n",
"hie=1*10^3;hfe=50;hoe=10*10^-6;Cc=5*10^-12;Cp=330*10^-12;Lp=75*10^-6;Rw=1;Rl=5*10^3;hfb=50;fo=1*10^6;\n",
"fo=1/(2*3.14*sqrt(Lp*(Cp+Cc)))\n",
"printf('resonance frequency is %3fHz\n',fo)\n",
"Zp=Lp/((Cp+Cc)*Rw)\n",
"Rc=1/hoe\n",
"RL=(Zp*Rc*Rl)/(Rl*Rc+Rc*Zp+Rl*Zp);\n",
"RL=4.7*10^3;//as standard value\n",
"Av=(hfb*RL)/hie;\n",
"printf(' voltage gain is %d\n',Av)\n",
"Qp=((Rc*Rl)/(Rc+Rl))/(2*3.14*fo*Lp)\n",
"QL=(2*3.14*fo*Lp)/Rw\n",
"disp('since QL>Qp')\n",
"B=fo/Qp;\n",
"printf('bandwidth is %dHz\n',B)"
   ]
   }
,
{
		   "cell_type": "markdown",
		   "metadata": {},
		   "source": [
			"## Example 12.23: resonance_frequency_voltage_gainbandwidth_of_amplifier.sce"
		   ]
		  },
  {
"cell_type": "code",
	   "execution_count": null,
	   "metadata": {
	    "collapsed": true
	   },
	   "outputs": [],
"source": [
"//chapter 12\n",
"//example 12.23\n",
"//page 528\n",
"printf('\n')\n",
"printf('given')\n",
"hie=1*10^3;hfe=50;hoe=10*10^-6;Cc=5*10^-12;Cp=330*10^-12;Lp=75*10^-6;Rw=1;Rl=5*10^3;fo=1*10^6;zP=224*10^3;rC=100*10^3;K=.015;Ls=50*10^-6;\n",
"RL=(Zp*Rc)/(Rc+Zp)\n",
"disp('voltage gain from the input to the primary memory winding')\n",
"Avp=(hfe*RL)/hie\n",
"Vsp=K*sqrt(Ls/Lp)\n",
"disp('overall voltage gain from the input to teh secondary winding')\n",
"Av=Avp*Vsp\n",
"Qp=Rc/(2*3.14*fo*Lp)\n",
"Ql=471;\n",
"Q=(Ql*Qp)/(Ql+Qp)\n",
"B=fo/Q;\n",
"printf('bandwidth is %dHz\n',B)"
   ]
   }
,
{
		   "cell_type": "markdown",
		   "metadata": {},
		   "source": [
			"## Example 12.24: capacitor_to_resonate_secondry_and_overall_voltage_gain.sce"
		   ]
		  },
  {
"cell_type": "code",
	   "execution_count": null,
	   "metadata": {
	    "collapsed": true
	   },
	   "outputs": [],
"source": [
"//chapter 12\n",
"//example 12.24\n",
"//page 530\n",
"printf('\n')\n",
"printf('given')\n",
"f=1*10^6;L2=50*10^-6;K=.015;L1=75*10^-6;rs=5;Rw=1;Lp=100*10^-6;Cp=330*10^-12;Cc=5*10^-12;Rc=100*10^3;hfe=50;hie=1*10^3;\n",
"C2=1/(((2*3.14*f)^2)*L2)\n",
"M=K*sqrt(L1*L2)\n",
"Rs=(((2*3.14*f)^2)*(M)^2)/rs\n",
"Rp=Rs+Rw\n",
"Zp=Lp/((Cp+Cc)*Rp)\n",
"Rl=(Zp*Rc)/(Zp+Rc)\n",
"disp('voltage gain from the input to primary winding')\n",
"Avp=(hfe*Rl)/hie\n",
"Vsp=12.2*10^-3;\n",
"Vos=((2*3.14*f)*L2)/rs\n",
"disp('overall voltage gain from the input to secondary winding ')\n",
"Av=Avp*Vos*Vsp"
   ]
   }
,
{
		   "cell_type": "markdown",
		   "metadata": {},
		   "source": [
			"## Example 12.2: suitable_resistor_for_common_emitter_amplifier.sce"
		   ]
		  },
  {
"cell_type": "code",
	   "execution_count": null,
	   "metadata": {
	    "collapsed": true
	   },
	   "outputs": [],
"source": [
"//chapter 12\n",
"//example 12.2\n",
"//page 477\n",
"printf('\n')\n",
"printf('given')\n",
"Vcc=24;Ve=5;Vce=3;Rl=120*10^3;Vbe=.7\n",
"Rc=Rl/10\n",
"Vrc=Vcc-Vce-Ve\n",
"Ic=Vrc/Rc\n",
"Re=Ve/Ic//use 3.9Kohm standard value to make Ic littel less than design level\n",
"Re=3.9*10^3;\n",
"R2=10*Re\n",
"I2=(Ve+Vbe)/R2\n",
"R1=(Vcc-Ve-Vbe)/I2"
   ]
   }
,
{
		   "cell_type": "markdown",
		   "metadata": {},
		   "source": [
			"## Example 12.3: suitable_capacitor_for_CE.sce"
		   ]
		  },
  {
"cell_type": "code",
	   "execution_count": null,
	   "metadata": {
	    "collapsed": true
	   },
	   "outputs": [],
"source": [
"//chapter 12\n",
"//example 12.3\n",
"//page 477\n",
"printf('\n')\n",
"printf('given')\n",
"hfe=100;Ie=1.3*10^-3;f1=100;R1=120*10^3;R2=39*10^3;rs=600;Rl=R1;\n",
"re=(26*10^-3)/Ie\n",
"Xc2=re;\n",
"C2=1/(2*3.14*f1*Xc2)\n",
"hie=(1+hfe)*re\n",
"Zi=(R1*R2*hie)/(R1*R2+R1*hie+R2*hie)\n",
"C1=1/((2*3.14*f1*((Zi+rs)/10)))\n",
"C3=1/(2*3.14*f1*((Rc+Rl)/10))"
   ]
   }
,
{
		   "cell_type": "markdown",
		   "metadata": {},
		   "source": [
			"## Example 12.4: suitable_resistor_for_common_source_circuit.sce"
		   ]
		  },
  {
"cell_type": "code",
	   "execution_count": null,
	   "metadata": {
	    "collapsed": true
	   },
	   "outputs": [],
"source": [
"//chapter 12\n",
"//example 12.5\n",
"//page 485\n",
"printf('\n')\n",
"printf('given')\n",
"rs=600;f1=100;Yfs=6000*10^-6;R1=4.7*10^6;R2=1*10^6;Rd=6.8*10^3;Rl=120*10^3;\n",
"Xc2=1/Yfs\n",
"C2=1/(2*3.14*f1*Xc2)\n",
"Zi=(R1*R2)/(R1+R2)\n",
"C1=1/(2*3.14*f1*(Zi+rs)/10)\n",
"C3=1/(2*3.14*f1*(Rd+Rl)/10)"
   ]
   }
,
{
		   "cell_type": "markdown",
		   "metadata": {},
		   "source": [
			"## Example 12.5: suitable_resistor_for_common_source_amplifier.sce"
		   ]
		  },
  {
"cell_type": "code",
	   "execution_count": null,
	   "metadata": {
	    "collapsed": true
	   },
	   "outputs": [],
"source": [
"//chapter 12\n",
"//example 12.5\n",
"//page 485\n",
"printf('\n')\n",
"printf('given')\n",
"rs=600;f1=100;Yfs=6000*10^-6;R1=4.7*10^6;R2=1*10^6;Rd=6.8*10^3;Rl=120*10^3;\n",
"Xc2=1/Yfs\n",
"C2=1/(2*3.14*f1*Xc2)\n",
"Zi=(R1*R2)/(R1+R2)\n",
"C1=1/(2*3.14*f1*(Zi+rs)/10)\n",
"C3=1/(2*3.14*f1*(Rd+Rl)/10)"
   ]
   }
,
{
		   "cell_type": "markdown",
		   "metadata": {},
		   "source": [
			"## Example 12.7: analyze_two_stage_amplifier.sce"
		   ]
		  },
  {
"cell_type": "code",
	   "execution_count": null,
	   "metadata": {
	    "collapsed": true
	   },
	   "outputs": [],
"source": [
"//chapter 12\n",
"//example 12.7\n",
"//page 489\n",
"printf('\n')\n",
"printf('given')\n",
"R1=120*10^3;R2=39*10^3;hie=2*10^3;R7=12*10^3;Zo=R7;R5=R1;R6=R2;hfe=100;R3=R7;Zl=R1;\n",
"Zi=(R1*R2*hie)/(R1*R2+R1*hie+R2*hie)\n",
"Zi2=(R1*R2*hie)/(R1*R2+R1*hie+R2*hie)\n",
"Av1=-(hfe*((R3*Zi2)/(R3+Zi2)))/hie\n",
"Av2=-(hfe*((R7*Zl)/(R7+Zl)))/hie\n",
"Av=Av1*Av2"
   ]
   }
,
{
		   "cell_type": "markdown",
		   "metadata": {},
		   "source": [
			"## Example 12.8: resistor_for_two_stage_direct_coupled_amplifier.sce"
		   ]
		  },
  {
"cell_type": "code",
	   "execution_count": null,
	   "metadata": {
	    "collapsed": true
	   },
	   "outputs": [],
"source": [
"//chapter 12\n",
"//example 12.8\n",
"//page 491\n",
"printf('\n')\n",
"printf('given')\n",
"Ve1=5;Vce1=3;Vce2=3;Vbe=.7;Vcc=14;Rl=40*10^3;\n",
"Vb2=Ve1+Vce1\n",
"Vc1=Vb2;\n",
"Ve2=Vb2-Vbe\n",
"Vr5=Vcc-Ve2-Vce2\n",
"R5=Rl/10//use 3.9Kohm satandard value\n",
"R5=3.9*10^3;\n",
"Ic2=Vr5/R5\n",
"R6=Ve2/Ic2//use 8.2Kohm as standard and recalculate\n",
"R6=8.2*10^3;\n",
"Ic2=Ve2/R6\n",
"Vr3=Vcc-Vc1\n",
"disp(' Ic1>>Ib2,select Ic1=1mA')\n",
"Ic1=1*10^-3;\n",
"R3=Vr3/Ic1//use standard value as 5.6Kohm and recalculate Ic1 in order ti keep Vb2=8V\n",
"R3=5.6*10^3;\n",
"Ic1=Vr3/R3\n",
"R4=Ve1/Ic1\n",
"Vr2=Ve1+Vbe\n",
"Vr1=Vcc-Ve1-Vbe\n",
"R2=10*R4\n",
"I2=(Ve1+Vbe)/R2\n",
"R1=(Vr1*R2)/Vr2"
   ]
   }
,
{
		   "cell_type": "markdown",
		   "metadata": {},
		   "source": [
			"## Example 12.9: capacitor_for_two_stage_direct_coupled_amplifier.sce"
		   ]
		  },
  {
"cell_type": "code",
	   "execution_count": null,
	   "metadata": {
	    "collapsed": true
	   },
	   "outputs": [],
"source": [
"//chapter 12\n",
"//example 12.9\n",
"//page 493\n",
"printf('\n')\n",
"printf('given')\n",
"hfe=50;re=26;R1=68*10^3;R2=47*10^3;rs=600;f1=75;R5=3.9*10^3;Rl=40*10^3;\n",
"hie=(1+hfe)*re\n",
"Zi=(R1*R2*hie)/(R1*R2+R1*hie+R2*hie)\n",
"Xc1=(Zi+rs)/10\n",
"C1=1/(2*3.14*f1*Xc1)\n",
"Xc2=.65*re\n",
"Xc3=Xc2;\n",
"C2=1/(2*3.14*f1*Xc2)\n",
"C3=C2;\n",
"Xc4=(R5+Rl)/10\n",
"C4=1/(2*3.14*f1*Xc4)"
   ]
   }
],
"metadata": {
		  "kernelspec": {
		   "display_name": "Scilab",
		   "language": "scilab",
		   "name": "scilab"
		  },
		  "language_info": {
		   "file_extension": ".sce",
		   "help_links": [
			{
			 "text": "MetaKernel Magics",
			 "url": "https://github.com/calysto/metakernel/blob/master/metakernel/magics/README.md"
			}
		   ],
		   "mimetype": "text/x-octave",
		   "name": "scilab",
		   "version": "0.7.1"
		  }
		 },
		 "nbformat": 4,
		 "nbformat_minor": 0
}
