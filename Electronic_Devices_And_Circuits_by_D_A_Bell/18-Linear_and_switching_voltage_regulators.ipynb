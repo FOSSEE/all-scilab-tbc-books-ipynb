{
"cells": [
 {
		   "cell_type": "markdown",
	   "metadata": {},
	   "source": [
       "# Chapter 18: Linear and switching voltage regulators"
	   ]
	},
{
		   "cell_type": "markdown",
		   "metadata": {},
		   "source": [
			"## Example 18.10: calculate_regulator_power_dissipatio.sce"
		   ]
		  },
  {
"cell_type": "code",
	   "execution_count": null,
	   "metadata": {
	    "collapsed": true
	   },
	   "outputs": [],
"source": [
"//chapter 18\n",
"//example 18.10\n",
"//page 785\n",
"printf('\n')\n",
"printf('given')\n",
"I1=1*10^-3;Vref=1.25;Vo=6;Vs=15;Il=200*10^-3;\n",
"R1=Vref/I1\n",
"R2=(Vo-Vref)/I1\n",
"Pd=(Vs-Vo)*Il;\n",
"printf('regulated power dissipation is %3.2fW\n',Pd)"
   ]
   }
,
{
		   "cell_type": "markdown",
		   "metadata": {},
		   "source": [
			"## Example 18.11: efficiencies_of_linear_regulator_and_switching_regulator.sce"
		   ]
		  },
  {
"cell_type": "code",
	   "execution_count": null,
	   "metadata": {
	    "collapsed": true
	   },
	   "outputs": [],
"source": [
"//chapter 18\n",
"//example 18.11\n",
"//page 788\n",
"printf('\n')\n",
"printf('given')\n",
"Vo=10;Io=1;Vce=7;Vf=1;\n",
"Po=Vo*Io\n",
"disp(' linear regulator')\n",
"Pi=Po+(Vce*Io)\n",
"n=(Po*100)/Pi//efficiency\n",
"disp(' switching regulator')\n",
"Vce=1;\n",
"Pi=Po+Io*(Vce+Vf)\n",
"n=(Po*100)/Pi//efficiency"
   ]
   }
,
{
		   "cell_type": "markdown",
		   "metadata": {},
		   "source": [
			"## Example 18.12: step_down_switching_regulator.sce"
		   ]
		  },
  {
"cell_type": "code",
	   "execution_count": null,
	   "metadata": {
	    "collapsed": true
	   },
	   "outputs": [],
"source": [
"//chapter 18\n",
"//example 18.12\n",
"//page 792\n",
"printf('\n')\n",
"printf('given')\n",
"f=50*10^3;Vo=12;Vf=.7;Vi=30;Vsat=1;Io=500*10^-3;Vr=100*10^-3;\n",
"T=1/f\n",
"t=(Vo+Vf)/(Vi-Vsat-Vo)\n",
"toff=T/1.75\n",
"ton=T-toff\n",
"Ip=2*Io\n",
"L1=((Vi-Vsat-Vo)*ton)/Ip\n",
"C1=Ip/(8*f*Vr)"
   ]
   }
,
{
		   "cell_type": "markdown",
		   "metadata": {},
		   "source": [
			"## Example 18.13: determine_suitable_value_for_R1_R2_Rsc_and_Ct.sce"
		   ]
		  },
  {
"cell_type": "code",
	   "execution_count": null,
	   "metadata": {
	    "collapsed": true
	   },
	   "outputs": [],
"source": [
"//chapter 18\n",
"//example 18.13\n",
"//page 799\n",
"printf('\n')\n",
"printf('given')\n",
"disp(' an MC34063 controller is for step down transformer')\n",
"Ib=-400*10^-3;I1=1*10^-3;Vref=1.25;V0=12;Ip=1;ton=8.6*10^-6;\n",
"R1=Vref/I1\n",
"R1=1.2*10^3;//use standard value\n",
"I1=Vref/R1\n",
"R2=(Vo-Vref)/I1\n",
"Rsc=.33/Ip\n",
"Ct=4.8*10^-5 *ton"
   ]
   }
,
{
		   "cell_type": "markdown",
		   "metadata": {},
		   "source": [
			"## Example 18.1: load_and_source_effects_and_load_and_line_regulation.sce"
		   ]
		  },
  {
"cell_type": "code",
	   "execution_count": null,
	   "metadata": {
	    "collapsed": true
	   },
	   "outputs": [],
"source": [
"//chapter 18\n",
"//example 18.1\n",
"//page 761\n",
"printf('\n')\n",
"printf('given')\n",
"Vs=21;Vo=12;Av=100;\n",
"vo=(Vs*.1)/Av;//source effect is 10% of the Vs\n",
"printf(' source effect is %3.3fV\n',vo)\n",
"vo=(21-20)/100;\n",
"printf(' laod effect is %3.3fV\n',vo)\n",
"LR=(21*10^-3 *100)/12;\n",
"printf('line regulation is %3.3fpercentage\n',LR)\n",
"LR=(10*10^-3*100)/12;\n",
"printf(' load effect is %3.3fpercentage \n',LR)\n",
"RJ=20*log10(1/Av);\n",
"printf('ripple rejection is %ddB\n',RJ)"
   ]
   }
,
{
		   "cell_type": "markdown",
		   "metadata": {},
		   "source": [
			"## Example 18.2: voltage_regulator_circuit.sce"
		   ]
		  },
  {
"cell_type": "code",
	   "execution_count": null,
	   "metadata": {
	    "collapsed": true
	   },
	   "outputs": [],
"source": [
"//chapter 18\n",
"//example 18.2\n",
"//page 762\n",
"printf('\n')\n",
"printf('given')\n",
"Vo=12;Il=40*10^-3;Vs=20;Vbe=.7;\n",
"Vz=.75*Vo\n",
"disp('for minimum D1 current select')\n",
"Ir2=10*10^-3;\n",
"R2=(Vo-Vz)/Ir2\n",
"Ie1=Il+Ir2\n",
"disp('specification for Q')\n",
"Vce1=20;Vs=Vce1;\n",
"Ic1=50*10^-3;\n",
"Pd=(Vs-Vo)*Ie1\n",
"hfe=50;\n",
"Ib1=Ie1/hfe\n",
"Ic2=5*10^-3;\n",
"R1=(Vs-(Vo+.7))/(Ic2+Ib1)\n",
"Iz=Ie2+Ir2\n",
"I4=1*10^-3;\n",
"R4=(Vz+Vbe)/I4\n",
"R3=(Vo-(Vz+Vbe))/I4"
   ]
   }
,
{
		   "cell_type": "markdown",
		   "metadata": {},
		   "source": [
			"## Example 18.3: modify_voltage_regulator.sce"
		   ]
		  },
  {
"cell_type": "code",
	   "execution_count": null,
	   "metadata": {
	    "collapsed": true
	   },
	   "outputs": [],
"source": [
"//chapter 18\n",
"//example 18.3\n",
"//page 765\n",
"printf('\n')\n",
"printf('given')\n",
"I4=1*10^-3;Vb2=9.8;\n",
"disp(' for Vo=11V moving contact at top of R5')\n",
"Vo=11;\n",
"R3=(Vo-Vb2)/I4\n",
"R=Vb2/I4//R=R4+R5\n",
"disp(' for Vo=13V moving contact at bottom of R5')\n",
"Vo=13;\n",
"I4=Vo/(R3+R)\n",
"R4=Vb2/I4\n",
"R5=R-R4"
   ]
   }
,
{
		   "cell_type": "markdown",
		   "metadata": {},
		   "source": [
			"## Example 18.4: voltage_regulator_to_change_the_load_current.sce"
		   ]
		  },
  {
"cell_type": "code",
	   "execution_count": null,
	   "metadata": {
	    "collapsed": true
	   },
	   "outputs": [],
"source": [
"//chapter 18\n",
"//example 18.4\n",
"//page 766\n",
"printf('\n')\n",
"printf('given')\n",
"hFE3=50;hFE1=20;Ie1=200*10^-3+10*10^-3;Ic2=1*01^-3;Vs=20;Vb3=13.4;Vo=12;Vbe=.7;\n",
"Ib1=Ie1/hFE1\n",
"Ib3=Ib1/hFE3\n",
"R1=(Vs-Vb3)/(Ic2+Ib3)\n",
"disp('select I6=.5*10^-3')\n",
"I6=.5*10^-3;\n",
"R6=(Vo+Vbe)/I6\n",
"Pd=(Vs-Vo)*Ie1"
   ]
   }
,
{
		   "cell_type": "markdown",
		   "metadata": {},
		   "source": [
			"## Example 18.5: suitable_component_for_preregulator_circuit.sce"
		   ]
		  },
  {
"cell_type": "code",
	   "execution_count": null,
	   "metadata": {
	    "collapsed": true
	   },
	   "outputs": [],
"source": [
"//chapter 18\n",
"//example 18.5\n",
"//page 769\n",
"printf('\n')\n",
"printf('given')\n",
"Vr1=3;Ic2=1*10^-3;Ib3=.21*10^-3;Vbe1=.7;Vbe3=Vbe1;Vs=20;\n",
"R1=Vr1/(Ic2+Ib3)\n",
"Vz2=Vo+Vbe1+Vbe3+Vr1\n",
"Ir7=5*10^-3;\n",
"R2=(Vs-Vz2)/Ir7"
   ]
   }
,
{
		   "cell_type": "markdown",
		   "metadata": {},
		   "source": [
			"## Example 18.6: differential_amplifier.sce"
		   ]
		  },
  {
"cell_type": "code",
	   "execution_count": null,
	   "metadata": {
	    "collapsed": true
	   },
	   "outputs": [],
"source": [
"//chapter 18\n",
"//example 18.6\n",
"//page 770\n",
"printf('\n')\n",
"printf('given')\n",
"Vc5=9.8;Vb2=Vc5;Vce5=3;Vbe=.7;Vo=12;\n",
"Vr9=Vc5-Vce5\n",
"Vz2=Vr9+Vbe\n",
"Ic5=1*10^-3;\n",
"R8=(Vo-Vc5)/Ic5\n",
"Ir9=2*Ic5\n",
"R9=Vr9/Ir9\n",
"disp(' Iz2>>Ib5 and Iz2>(Izk for the zener diode)')\n",
"Iz2=10*10^-3;\n",
"R7=(Vo-Vz2)/Iz2\n",
"I4=1*10^-3;\n",
"Vb6=7.5;Vz2=Vb6;\n",
"disp(' when Vo=11V(moving contact at top of R5)')\n",
"Vo=11;\n",
"R3=(Vo-Vb6)/I4\n",
"R3=3.3*10^3;//use standard value\n",
"I4=(Vo-Vb6)/R3\n",
"R=Vb6/I4//R=R4+R5\n",
"disp(' when Vo=13V(moving contact at bottom of R5)')\n",
"Vo=13;Vb6=7.5;\n",
"I4=Vo/(R3+R)\n",
"R4=Vb6/I4\n",
"R5=R-R4"
   ]
   }
,
{
		   "cell_type": "markdown",
		   "metadata": {},
		   "source": [
			"## Example 18.7: fold_back_current_limiting_circuit_for_voltage_regulator.sce"
		   ]
		  },
  {
"cell_type": "code",
	   "execution_count": null,
	   "metadata": {
	    "collapsed": true
	   },
	   "outputs": [],
"source": [
"//chapter 18\n",
"//example 18.7\n",
"//page 7\n",
"printf('\n')\n",
"printf('given')\n",
"Isc=100*10^-3;Vr10=.5;Vo=12;\n",
"R10=Vr10/Isc\n",
"R10=4.7;//use standard value\n",
"Il=200*10^-3;\n",
"Vr10=Il*R10\n",
"Vr11=Vr10-.5\n",
"I11=1*10^-3;\n",
"R11=Vr11/I11\n",
"R12=(Vo+Vr10-Vr11)/I11"
   ]
   }
,
{
		   "cell_type": "markdown",
		   "metadata": {},
		   "source": [
			"## Example 18.8: adjustable_voltage_regulator_circuit.sce"
		   ]
		  },
  {
"cell_type": "code",
	   "execution_count": null,
	   "metadata": {
	    "collapsed": true
	   },
	   "outputs": [],
"source": [
"//chapter 18\n",
"//example 18.8\n",
"//page 778\n",
"printf('\n')\n",
"printf('given')\n",
"Vo=12;hFE1=20;hFE2=50;Il=250*10^-3;\n",
"Vz=.75*Vo\n",
"Vz=9.1;//use standard value for 1N757 diode\n",
"Iz1=10*10^-3;\n",
"R1=(Vo-Vz)/Iz1\n",
"I3=1*10^-3;\n",
"disp(' when V0=12V(moving contact at top of R5)')\n",
"R3=(Vo-Vz)/I3\n",
"R=Vz/I3\n",
"disp(' when Vo=15V moving contact at bottom of R5')\n",
"Vo=15;\n",
"I3=Vo/(R+R3)\n",
"R4=Vz/I3\n",
"R5=R-R4\n",
"Ir6=.5*10^-3;\n",
"R6=Vo/Ir6\n",
"disp(' op-amp output current')\n",
"Ib2=Il/(hFE1*hFE2)"
   ]
   }
,
{
		   "cell_type": "markdown",
		   "metadata": {},
		   "source": [
			"## Example 18.9: input_voltage_and_maximum_load_current.sce"
		   ]
		  },
  {
"cell_type": "code",
	   "execution_count": null,
	   "metadata": {
	    "collapsed": true
	   },
	   "outputs": [],
"source": [
"//chapter 18\n",
"//example 18.9\n",
"//page 782\n",
"printf('\n')\n",
"printf('given')\n",
"I2=1*10^-3;Vr2=7.15;Vref=Vr2;Vo=10;Pdmax=1000*10^-3;\n",
"R2=Vref/I2\n",
"R2=6.8*10^3;//use standard value and recalculate the I2\n",
"I2=Vref/R2\n",
"R1=(Vo-Vref)/I2\n",
"Vs=Vo+5//for satisfactory operation of series pass transistor\n",
"Iint=25*10^-3;//internal circuit current\n",
"Pi=Vs*Iint\n",
"disp('maximum power dissipated in series pass transistor')\n",
"Pd=Pdmax-Pi\n",
"disp('maximum load current is ')\n",
"Il=Pd/(Vs-Vo)"
   ]
   }
],
"metadata": {
		  "kernelspec": {
		   "display_name": "Scilab",
		   "language": "scilab",
		   "name": "scilab"
		  },
		  "language_info": {
		   "file_extension": ".sce",
		   "help_links": [
			{
			 "text": "MetaKernel Magics",
			 "url": "https://github.com/calysto/metakernel/blob/master/metakernel/magics/README.md"
			}
		   ],
		   "mimetype": "text/x-octave",
		   "name": "scilab",
		   "version": "0.7.1"
		  }
		 },
		 "nbformat": 4,
		 "nbformat_minor": 0
}
