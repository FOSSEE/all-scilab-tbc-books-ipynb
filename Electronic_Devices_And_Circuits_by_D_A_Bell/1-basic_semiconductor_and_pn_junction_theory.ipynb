{
"cells": [
 {
		   "cell_type": "markdown",
	   "metadata": {},
	   "source": [
       "# Chapter 1: basic semiconductor and pn junction theory"
	   ]
	},
{
		   "cell_type": "markdown",
		   "metadata": {},
		   "source": [
			"## Example 1.1: resultant_densities.sce"
		   ]
		  },
  {
"cell_type": "code",
	   "execution_count": null,
	   "metadata": {
	    "collapsed": true
	   },
	   "outputs": [],
"source": [
"//chapter 1\n",
"//example 1.1\n",
"//page 15\n",
"printf('\n')\n",
"printf('given')\n",
"Nd=3*10^14;Na=.5*10^14;//all in atom/cm^3\n",
"ni=1.5*10^10;\n",
"disp('resultant densities of free electrons and hole')\n",
"ne=(-(Na-Nd)+(sqrt(((Na-Nd)^2)+4*ni^2)))/2;\n",
"disp(ne)//electron densities in electron/cm^3\n",
"Nd>Na;\n",
"n=Nd-Na;\n",
"disp(n)\n",
"p=(ni^2)/n\n",
"printf('densities of hole is %dhole/cm3\n',p)"
   ]
   }
,
{
		   "cell_type": "markdown",
		   "metadata": {},
		   "source": [
			"## Example 1.2: drift_current_velocity.sce"
		   ]
		  },
  {
"cell_type": "code",
	   "execution_count": null,
	   "metadata": {
	    "collapsed": true
	   },
	   "outputs": [],
"source": [
"//chapter 1\n",
"//example 1.2\n",
"//page 18\n",
"printf('\n')\n",
"printf('given')\n",
"l=1*10^-3;E=10;\n",
"un=1500*10^-4;up=500*10-4;\n",
"Vn=-(un*E)/l;\n",
"printf('drift current is %dm/s\n',Vn)\n",
"disp('drift current of hole')\n",
"Vp=(up*E)/l;\n",
"printf('drift current is %dm/s\n',Vp)"
   ]
   }
,
{
		   "cell_type": "markdown",
		   "metadata": {},
		   "source": [
			"## Example 1.3: conductivity_and_resistance.sce"
		   ]
		  },
  {
"cell_type": "code",
	   "execution_count": null,
	   "metadata": {
	    "collapsed": true
	   },
	   "outputs": [],
"source": [
"//chapter 1\n",
"//example 1.3\n",
"//page 19\n",
"printf('\n')\n",
"printf('given')\n",
"l=1*10^-3;a=.1*10^-4;\n",
"ni=1.5*10^10;p=1.5*10^10;\n",
"disp('a)')\n",
"un=1500;up=500;//in cm3/V.s\n",
"q=1.6*10^-19;\n",
"m=q*((ni*un)+(p*up))*10^6;\n",
"printf( 'mobility is %3.2fmicro/ohmcm\n',m)\n",
"R=l/(m*a);\n",
"printf(' resistance is %3.2fMohm\n',R)\n",
"disp('b)')\n",
"//for doped material\n",
"n=8*10^13;\n",
"p=(ni^2)/n\n",
"m=q*((n*un)+(p*up));\n",
"printf('mobility is %3.4f/ohmcm\n',m)\n",
"R=l/(m*a);\n",
"printf(' resistance is %dohm\n',R)"
   ]
   }
,
{
		   "cell_type": "markdown",
		   "metadata": {},
		   "source": [
			"## Example 1.4: reverse_saturation_current.sce"
		   ]
		  },
  {
"cell_type": "code",
	   "execution_count": null,
	   "metadata": {
	    "collapsed": true
	   },
	   "outputs": [],
"source": [
"//chapter 1\n",
"// eaxample 1.4\n",
"//page 26\n",
"printf('\n')\n",
"printf('given')\n",
"T1=25;T2=35;T3=45;\n",
"I0=30//nA\n",
"disp('I0(35)=I0*2^(T2-T1)/10')\n",
"//on solving\n",
"I0(35)=I0*2^((T2-T1)/10);\n",
"printf('current at 35c is %dnA\n',I0(35))\n",
"disp('I0(45)=I0*2^(T3-T1)/10')\n",
"//on solving\n",
"I0(45)=30*2^2;\n",
"printf('current at 45c is %dnA\n',I0(45))"
   ]
   }
,
{
		   "cell_type": "markdown",
		   "metadata": {},
		   "source": [
			"## Example 1.5: junction_current.sce"
		   ]
		  },
  {
"cell_type": "code",
	   "execution_count": null,
	   "metadata": {
	    "collapsed": true
	   },
	   "outputs": [],
"source": [
"//chapter 1\n",
"//example 1.5\n",
"//page 28\n",
"printf('\n')\n",
"printf('given')\n",
"I0=30;Vd=.7;n=2;Vt=26*10^-3;\n",
"k=Vd/(n*Vt);\n",
"disp('junction current')\n",
"Id=I0*((2.7^k)-1)*10^-6\n",
"printf(' forward bais current is %dmA\n',Id)\n",
"disp('b)')\n",
"Vd=-10// reverse bais\n",
"k=Vd/(n*Vt);\n",
"Id=I0*((2.7^k)-1)\n",
"printf(' forward bais current is %dnA\n',Id)"
   ]
   }
,
{
		   "cell_type": "markdown",
		   "metadata": {},
		   "source": [
			"## Example 1.6: junction_forward_voltage.sce"
		   ]
		  },
  {
"cell_type": "code",
	   "execution_count": null,
	   "metadata": {
	    "collapsed": true
	   },
	   "outputs": [],
"source": [
"//chapter 1\n",
"//example 1.6\n",
"//page 29\n",
"printf('\n')\n",
"printf('given')\n",
"Id=.1*10^-3;n=2;vt=26*10^-3;\n",
"I0=30*10^-9;\n",
"disp('a)')\n",
"Vd=(n*Vt)*log(Id/I0)*10^3;\n",
"printf(' forward bais current is %dmV\n',Vd)\n",
"disp('b)')\n",
"Id=10*10^-3\n",
"Vd=(n*Vt)*log(Id/I0)*10^3;\n",
"printf(' forward bais current is %dmV\n',Vd)"
   ]
   }
],
"metadata": {
		  "kernelspec": {
		   "display_name": "Scilab",
		   "language": "scilab",
		   "name": "scilab"
		  },
		  "language_info": {
		   "file_extension": ".sce",
		   "help_links": [
			{
			 "text": "MetaKernel Magics",
			 "url": "https://github.com/calysto/metakernel/blob/master/metakernel/magics/README.md"
			}
		   ],
		   "mimetype": "text/x-octave",
		   "name": "scilab",
		   "version": "0.7.1"
		  }
		 },
		 "nbformat": 4,
		 "nbformat_minor": 0
}
