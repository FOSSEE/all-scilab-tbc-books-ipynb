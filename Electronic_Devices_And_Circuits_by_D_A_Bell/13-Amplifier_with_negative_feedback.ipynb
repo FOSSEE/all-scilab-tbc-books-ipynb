{
"cells": [
 {
		   "cell_type": "markdown",
	   "metadata": {},
	   "source": [
       "# Chapter 13: Amplifier with negative feedback"
	   ]
	},
{
		   "cell_type": "markdown",
		   "metadata": {},
		   "source": [
			"## Example 13.10: calculate_precise_value_of_circuit_voltage_gai.sce"
		   ]
		  },
  {
"cell_type": "code",
	   "execution_count": null,
	   "metadata": {
	    "collapsed": true
	   },
	   "outputs": [],
"source": [
"//chapter 13\n",
"//example 13.10\n",
"//page 570\n",
"printf('\n')\n",
"printf('given')\n",
"hfemin=100;hfemax=400;hiemin=2*10^3;hiemax=5*10^3;Rc=12*10^3;Rl=120*10^3;Re1=150\n",
"disp(' voltage gain at extreme value ')\n",
"Avmax=(hfemax*((Rc*Rl)/(Rc+Rl)))/(hiemax+Re1*(1+hfemax))\n",
"Avmin=(hfemin*((Rc*Rl)/(Rc+Rl)))/(hiemin+Re1*(1+hfemin))\n",
"disp('approximate voltage gain')\n",
"Av=((Rc*Rl)/(Rc+Rl))/Re1"
   ]
   }
,
{
		   "cell_type": "markdown",
		   "metadata": {},
		   "source": [
			"## Example 13.11: modify_Ce_amplifier_to_use_emitter_current_feedback_to_give_Av_70.sce"
		   ]
		  },
  {
"cell_type": "code",
	   "execution_count": null,
	   "metadata": {
	    "collapsed": true
	   },
	   "outputs": [],
"source": [
"//chapter 13\n",
"//example 13.11\n",
"//page 571\n",
"printf('\n')\n",
"printf('given')\n",
"Av=70;f=100;rs=600;Rc=12*10^3;Rl=120*10^3;Re2=3.9*10^3;hie=2*10^3;hfe=100;R1=Rl;R2=39*10^3;Re1=150;\n",
"Zb=hie+Re1*(1+hfe)\n",
"Zin=(R1*R2*Zb)/(R1*R2+R1*Zb+R2*Zb)\n",
"C1=1/(2*3.14*f*((Zin+rs)/10))\n",
"C2=1/(2*3.14*f*Re1)"
   ]
   }
,
{
		   "cell_type": "markdown",
		   "metadata": {},
		   "source": [
			"## Example 13.12: suitable_emitter_resistor_value.sce"
		   ]
		  },
  {
"cell_type": "code",
	   "execution_count": null,
	   "metadata": {
	    "collapsed": true
	   },
	   "outputs": [],
"source": [
"//chapter 13\n",
"//example 13.12\n",
"//page 573\n",
"printf('\n')\n",
"printf('given')\n",
"Av=1000;f=100;hie=2*10^3;hfe=100;R8=12*10^3;Rl=120*10^3;R10=3.9*10^3;R6=Rl;R7=39*10^3;R3=R8;\n",
"Av1=sqrt(Av)\n",
"Av2=Av1;\n",
"R9=((R8*Rl)/(R8+Rl))/Av2\n",
"R9=330;//use standard value\n",
"Av2=((R8*Rl)/(R8+Rl))/R9\n",
"Av1=Av/Av2\n",
"Zb=hie+R9*(1+hfe)\n",
"Zin=(R6*R7*Zb)/(R6*R7+R6*Zb+R7*Zb)\n",
"R4=((R3*Zin)/(R3+Zin))/Av1\n",
"R5=R10-R4"
   ]
   }
,
{
		   "cell_type": "markdown",
		   "metadata": {},
		   "source": [
			"## Example 13.13: suitable_capacitor_for_two_stage_circuit.sce"
		   ]
		  },
  {
"cell_type": "code",
	   "execution_count": null,
	   "metadata": {
	    "collapsed": true
	   },
	   "outputs": [],
"source": [
"//chapter 13\n",
"//example 13.13\n",
"//page 574\n",
"printf('\n')\n",
"printf('given')\n",
"f=100;hie=2*10^3;hfe=100;R8=12*10^3;Rl=120*10^3;R10=3.9*10^3;R6=Rl;R7=39*10^3;R3=R8;R4=220;rs=600;Zin2=16*10^3;R9=330;\n",
"Zb=hie+R4*(1+hfe)\n",
"Zin=(R1*R2*Zb)/(R1*R2+R1*Zb+R2*Zb)\n",
"C1=1/(2*3.14*f*((Zin+rs)/10))\n",
"Xc2=.65*R4;\n",
"C2=1/(2*3.14*f*Xc2)\n",
"C3=1/(2*3.14*f*((Zin2+R3)/10))\n",
"C4=1/(2*3.14*f*.65*R9)\n",
"C5=1/(2*3.14*f*((R8+Rl)/10))"
   ]
   }
,
{
		   "cell_type": "markdown",
		   "metadata": {},
		   "source": [
			"## Example 13.14: determine_current_gain_and_input_impedance.sce"
		   ]
		  },
  {
"cell_type": "code",
	   "execution_count": null,
	   "metadata": {
	    "collapsed": true
	   },
	   "outputs": [],
"source": [
"//chapter 13\n",
"//example 13.14\n",
"//page 580\n",
"printf('\n')\n",
"printf('given')\n",
"hfe=100;hie=2*10^3;R4=100;R1=5.6*10^3;R6=2.2*10^3;\n",
"Zi=hie+(1+hfe)*R4\n",
"disp('open loop current gain')\n",
"Ai=(hfe*hfe*R1)/(R1+Zi)\n",
"B=R4/(R4+R6)\n",
"disp('closed loop gain')\n",
"Acl=Ai/(1+Ai*B)\n",
"Zi=hie/(1+Ai*B)"
   ]
   }
,
{
		   "cell_type": "markdown",
		   "metadata": {},
		   "source": [
			"## Example 13.15: calculate_total_harmonic.sce"
		   ]
		  },
  {
"cell_type": "code",
	   "execution_count": null,
	   "metadata": {
	    "collapsed": true
	   },
	   "outputs": [],
"source": [
"//chapter 13\n",
"//example 13.15\n",
"//page 585\n",
"printf('\n')\n",
"printf('given')\n",
"Av=60000;Acl=300;f1=15*10^3;B=1/300;\n",
"f2=(Av*f1)/Acl\n",
"disp('% distortion with NFB')\n",
"NFB=(.1/(1+Av*B))*100;\n",
"printf(' percenatge  distortion with NFB is %3.3f\n',NFB)"
   ]
   }
,
{
		   "cell_type": "markdown",
		   "metadata": {},
		   "source": [
			"## Example 13.1: closed_loop_gain_for_negative_feedback_amplifier.sce"
		   ]
		  },
  {
"cell_type": "code",
	   "execution_count": null,
	   "metadata": {
	    "collapsed": true
	   },
	   "outputs": [],
"source": [
"//chapter 13\n",
"//example 13.1\n",
"//page 547\n",
"printf('\n')\n",
"printf('given')\n",
"Av=100000;B=1/100;\n",
"disp('when Av=100000')\n",
"Acl=Av/(1+Av*B)\n",
"disp('when Av is 150000')\n",
"Av=150000;\n",
"Acl=Av/(1+Av*B)\n",
"disp('when Av is 50000')\n",
"Av=50000;\n",
"Acl=Av/(1+Av*B)"
   ]
   }
,
{
		   "cell_type": "markdown",
		   "metadata": {},
		   "source": [
			"## Example 13.2: input_impedance_with_negative_feedback.sce"
		   ]
		  },
  {
"cell_type": "code",
	   "execution_count": null,
	   "metadata": {
	    "collapsed": true
	   },
	   "outputs": [],
"source": [
"//chapter 13\n",
"//example 13.2\n",
"//page 549\n",
"printf('\n')\n",
"printf('given')\n",
"Rf2=560;Rf1=56*10^3;Av=100000;Zb=1*10^3;R1=68*10^3;R2=33*10^3;\n",
"B=Rf2/(Rf2+Rf1)\n",
"Zi=(1+Av*B)*Zb\n",
"Zin=(Zi*R1*R2)/(R1*R2+R1*Zi+R2*Zi);\n",
"printf('input impedance with negative feedback is %dohm\n',Zin)"
   ]
   }
,
{
		   "cell_type": "markdown",
		   "metadata": {},
		   "source": [
			"## Example 13.3: input_and_output_impedance_when_negative_feedback.sce"
		   ]
		  },
  {
"cell_type": "code",
	   "execution_count": null,
	   "metadata": {
	    "collapsed": true
	   },
	   "outputs": [],
"source": [
"//chapter 13\n",
"//example 13.3\n",
"//page 552\n",
"printf('\n')\n",
"printf('given')\n",
"Zb=1*10^3;B=1/100;Av=5562;R1=68*10^3;R2=47*10^3;hoe=1/(50*10^3);Rc=3.9*10^3;\n",
"Zi=(1+Av*B)*Zb\n",
"Zin=(R1*R2*Zi)/(R1*R2+R2*Zi+R1*Zi)\n",
"Zo=(1/hoe)/(1+Av*B)\n",
"Zout=(Rc*Zo)/(Rc+Zo);\n",
"printf(' circuit output impedance is %dohm\n',Zout)"
   ]
   }
,
{
		   "cell_type": "markdown",
		   "metadata": {},
		   "source": [
			"## Example 13.4: circuit_input_and_output_impedance_and_voltage_gain_without_feedback.sce"
		   ]
		  },
  {
"cell_type": "code",
	   "execution_count": null,
	   "metadata": {
	    "collapsed": true
	   },
	   "outputs": [],
"source": [
"//chapter 13\n",
"//example 13.4\n",
"//page 554\n",
"printf('\n')\n",
"printf('given')\n",
"Zb=1*10^3;hoe=1/(85*10^3);Av=58000;Rf2=220;Rf1=16.2*10^3;R1=120*10^3;R2=39*10^3;R7=12*10^3;\n",
"B=Rf2/(Rf2+Rf1)\n",
"disp('voltage gain')\n",
"Acl=Av/(1+Av*B)\n",
"Zi=Zb*(1+Av*B)\n",
"Zin=(Zi*R1*R2)/(Zi*R1+R2*R1+R2*Zi)\n",
"Zo=(1/hoe)/(1+Av*B)\n",
"Zout=(R7*Zo)/(R7+Zo)\n",
"printf('output impedance is %dohm\n',Zout)"
   ]
   }
,
{
		   "cell_type": "markdown",
		   "metadata": {},
		   "source": [
			"## Example 13.5: two_stage_coupled_BJT_use_as_voltage_feedback.sce"
		   ]
		  },
  {
"cell_type": "code",
	   "execution_count": null,
	   "metadata": {
	    "collapsed": true
	   },
	   "outputs": [],
"source": [
"//chapter 13\n",
"//example 13.5\n",
"//page 558\n",
"printf('\n')\n",
"printf('given')\n",
"Rf2=220;R4=3.9*10^3;Acl=75;f=100;\n",
"Rf1=(Acl-1)*Rf2\n",
"Xc2=Rf2;\n",
"C2=1/(2*3.14*f*Rf2)\n",
"Xcf1=Rf1/100;\n",
"Cf1=1/(2*3.14*f*Xcf1)"
   ]
   }
,
{
		   "cell_type": "markdown",
		   "metadata": {},
		   "source": [
			"## Example 13.6: modify_direct_coupled_amplifier_to_use_as_series_voltage_negative_feedback.sce"
		   ]
		  },
  {
"cell_type": "code",
	   "execution_count": null,
	   "metadata": {
	    "collapsed": true
	   },
	   "outputs": [],
"source": [
"//chapter 13\n",
"//example 13.6\n",
"//page 560\n",
"printf('\n')\n",
"printf('given')\n",
"Acl=300;Rf2=220;R4=4.7*10^3;f=100;\n",
"Rf1=(Acl-1)*Rf2\n",
"xc2=Rf2;\n",
"C2=1/(2*3.14*f*Rf2)"
   ]
   }
,
{
		   "cell_type": "markdown",
		   "metadata": {},
		   "source": [
			"## Example 13.7: calculate_resistor_value.sce"
		   ]
		  },
  {
"cell_type": "code",
	   "execution_count": null,
	   "metadata": {
	    "collapsed": true
	   },
	   "outputs": [],
"source": [
"//chapter 13\n",
"//example 13.7\n",
"//page 565\n",
"printf('\n')\n",
"printf('given')\n",
"hfe=100;Vbe=.7;Ic1=1*10^-3;Ic2=Ic1;Ic3=Ic2;Ic4=Ic3;Vee=10;Vce=3;Acl=33;\n",
"disp('different resistor value of circuit')\n",
"R1=Vbe/((10*Ic1)/hfe)\n",
"R3=(Vee-Vbe)/(Ic1+Ic2)\n",
"Vr2=Vee+Vbe-Vce\n",
"R4=Vr2/Ic1\n",
"R2=R4;\n",
"R7=(Vr2-Vbe)/(Ic3+Ic4)\n",
"R8=Vee/Ic3\n",
"R6=6.8*10^3;\n",
"R5=(Acl-1)*R6"
   ]
   }
,
{
		   "cell_type": "markdown",
		   "metadata": {},
		   "source": [
			"## Example 13.8: calculate_Acl_Zin_and_Zout.sce"
		   ]
		  },
  {
"cell_type": "code",
	   "execution_count": null,
	   "metadata": {
	    "collapsed": true
	   },
	   "outputs": [],
"source": [
"//chapter 13\n",
"//example 13.8\n",
"//page 566\n",
"printf('\n')\n",
"printf('given')\n",
"Av=25000;hie=2*10^3;hib=25;hoe=1/(100*10^3);R6=6.8*10^3;R5=220*10^3;R1=R6;R8=10*10^3;\n",
"B=R6/(R5+R6)\n",
"Acl=Av/(1+Av*B)\n",
"Zi=2*hie*(1+Av*B)\n",
"Zin=(Zi*R1)/(Zi+R1)\n",
"Zo=(1/hoe)/(1+Av*B)\n",
"Zout=(R8*Zo)/(R8+Zo);\n",
"printf('output impedance is %dohm\n',Zout)"
   ]
   }
,
{
		   "cell_type": "markdown",
		   "metadata": {},
		   "source": [
			"## Example 13.9: calculate_output_impedance_for_circuit_modification.sce"
		   ]
		  },
  {
"cell_type": "code",
	   "execution_count": null,
	   "metadata": {
	    "collapsed": true
	   },
	   "outputs": [],
"source": [
"//chapter 13\n",
"//example 13.9\n",
"//page 568\n",
"printf('\n')\n",
"printf('given')\n",
"hic=2*10^3;hie=hic;hfe=100;hfc=100;Av=25000;B=1/33.4;R8=10*10^3;R5=R8;\n",
"Ze=(hic+R8)/hfc\n",
"Zo=Ze/(1+Av*B)\n",
"Zout=(R5*Zo)/(R5+Zo);\n",
"printf('output impedance is %3.2fohm\n',Zout)"
   ]
   }
],
"metadata": {
		  "kernelspec": {
		   "display_name": "Scilab",
		   "language": "scilab",
		   "name": "scilab"
		  },
		  "language_info": {
		   "file_extension": ".sce",
		   "help_links": [
			{
			 "text": "MetaKernel Magics",
			 "url": "https://github.com/calysto/metakernel/blob/master/metakernel/magics/README.md"
			}
		   ],
		   "mimetype": "text/x-octave",
		   "name": "scilab",
		   "version": "0.7.1"
		  }
		 },
		 "nbformat": 4,
		 "nbformat_minor": 0
}
