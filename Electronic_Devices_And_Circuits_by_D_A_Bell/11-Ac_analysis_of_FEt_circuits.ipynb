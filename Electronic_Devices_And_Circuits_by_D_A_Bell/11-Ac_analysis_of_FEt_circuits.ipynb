{
"cells": [
 {
		   "cell_type": "markdown",
	   "metadata": {},
	   "source": [
       "# Chapter 11: Ac analysis of FEt circuits"
	   ]
	},
{
		   "cell_type": "markdown",
		   "metadata": {},
		   "source": [
			"## Example 11.2: circuit_input_and_output_impedance_and_voltage_gain.sce"
		   ]
		  },
  {
"cell_type": "code",
	   "execution_count": null,
	   "metadata": {
	    "collapsed": true
	   },
	   "outputs": [],
"source": [
"//chapter 11\n",
"//example 11.2\n",
"//page 443\n",
"printf('\n')\n",
"printf('given')\n",
"Yos=10*10^-6;Yfs=3000*10^-6;R1=1*10^6;R2=5.6*10^6;Rd=2.7*10^3;Rl=Rd;\n",
"rd=1/Yos\n",
"Zi=((R1*R2)/(R1+R2))*10^-3;\n",
"printf('input impedance is %dKohm\n',Zi)\n",
"Zo=(Rd*rd)/(Rd+rd);\n",
"printf(' output inpedance is %dohm\n',Zo)\n",
"Av=-Yfs*((Rl*rd)/(Rl+rd))"
   ]
   }
,
{
		   "cell_type": "markdown",
		   "metadata": {},
		   "source": [
			"## Example 11.3: gate_input_and_source_output_impedance_and_voltage_gain.sce"
		   ]
		  },
  {
"cell_type": "code",
	   "execution_count": null,
	   "metadata": {
	    "collapsed": true
	   },
	   "outputs": [],
"source": [
"//chapter 11\n",
"//example 11.3\n",
"//page 447\n",
"printf('\n')\n",
"printf('given')\n",
"Yos=10*10^-6;Yfs=4000*10^-6;Ig=1*10^-9;Vgs=15;Rs=3.3*10^3;Rg=1*10^6;Rd=4.7*10^3;Rl=33*10^3;\n",
"rd=1/Yos\n",
"Rgs=(Vgs/Ig)\n",
"Zg=(Rgs*(1+Yfs*Rs))\n",
"Zi=Rg;\n",
"Zd=rd+Rs+(Yfs*Rs*rd)\n",
"Zo=(Rd*Zd)/(Rd+Zd)\n",
"Av=-(Yfs*((Rd*Rl)/(Rd+Rl)))/(1+Yfs*Rs)\n",
"Av=-((Rd*Rl)/(Rd+Rl))/Rs"
   ]
   }
,
{
		   "cell_type": "markdown",
		   "metadata": {},
		   "source": [
			"## Example 11.4: circuit_input_and_output_impedance_and_voltage_gain.sce"
		   ]
		  },
  {
"cell_type": "code",
	   "execution_count": null,
	   "metadata": {
	    "collapsed": true
	   },
	   "outputs": [],
"source": [
"//chapter 11\n",
"//example 11.4\n",
"//page 451\n",
"printf('\n')\n",
"printf('given')\n",
"Yfs=3000*10^-6;Rgs=100*10^6;rd=50*10^3;Rs=5.6*10^3;Rl=12*10^3;R1=1.5*10^6;R2=1*10^6;\n",
"Zg=Rgs*(1+Yfs*((Rs*Rl)/(Rs+Rl)))\n",
"Zi=(R1*R2)/(R1+R2)\n",
"Zs=((1/Yfs)*rd)/((1/Yfs)+rd)\n",
"Zo=(Rs*Rl*(1/Yfs))/(Rs*Rl+Rs*(1/Yfs)+Rl*(1/Yfs))\n",
"Av=-(Yfs*((Rs*Rl)/(Rs+Rl)))/(1+Yfs*((Rs*Rl)/(Rs+Rl)))"
   ]
   }
,
{
		   "cell_type": "markdown",
		   "metadata": {},
		   "source": [
			"## Example 11.5: circuit_and_device_input_and_output_impedance_and_voltage_gain.sce"
		   ]
		  },
  {
"cell_type": "code",
	   "execution_count": null,
	   "metadata": {
	    "collapsed": true
	   },
	   "outputs": [],
"source": [
"//chapter 11\n",
"//example 11.5\n",
"//page 456\n",
"printf('\n')\n",
"printf('given')\n",
"Yfs=3000*10^-6;rd=50*10^3;Rs=3.3*10^3;Rd=4.7*10^3;Rl=50*10^3;rs=600;\n",
"Zs=1/Yfs\n",
"Zi=((1/Yfs)*Rs)/((1/Yfs)+Rs)\n",
"Zd=rd\n",
"Zo=(Rd*rd)/(Rd+rd)\n",
"Av=Yfs*((Rd*Rl)/(Rd+Rl))\n",
"disp('overall volateg gain')\n",
"Av=(Yfs*((Rd*Rl)/(Rd+Rl))*Zi)/(rs+Zi)"
   ]
   }
,
{
		   "cell_type": "markdown",
		   "metadata": {},
		   "source": [
			"## Example 11.6: output_voltage.sce"
		   ]
		  },
  {
"cell_type": "code",
	   "execution_count": null,
	   "metadata": {
	    "collapsed": true
	   },
	   "outputs": [],
"source": [
"//chapter 11\n",
"//example 11.6\n",
"//page 459\n",
"printf('\n')\n",
"printf('given')\n",
"Yfs=6000*10^-6;R1=100*10^3;R2=47*10^3;vs=50*10^-3;Rd=2.7*10^3;Rl=33*10^3;vs=50*10^-3;rs=600;Rs=Rd;\n",
"disp(' CS circuit')\n",
"Av=-Yfs*((Rd*Rl)/(Rd+Rl))\n",
"Zi=(R1*R2)/(R1+R2)\n",
"vi=(vs*Zi)/(rs+Zi)\n",
"vo=Av*vi\n",
"disp('CG circuit')\n",
"Av=Yfs*((Rd*Rl)/(Rd+Rl))\n",
"Zi=((1/Yfs)*Rs)/((1/Yfs)+Rs)\n",
"vi=(vs*Zi)/(rs+Zi)\n",
"vo=Av*vi"
   ]
   }
,
{
		   "cell_type": "markdown",
		   "metadata": {},
		   "source": [
			"## Example 11.7: input_capacitance_limited_cutoff_frequency.sce"
		   ]
		  },
  {
"cell_type": "code",
	   "execution_count": null,
	   "metadata": {
	    "collapsed": true
	   },
	   "outputs": [],
"source": [
"//chapter 11\n",
"//example 11.7\n",
"//page 462\n",
"printf('\n')\n",
"printf('given')\n",
"Crss=1*10^-12;Ciss=5*10^-12;Yfs=2500*10^-6;Yos=75*10^-6;Rd=5.6*10^3;Rl=100*10^3;R1=3.3*10^6;R2=1*10^6;rs=600;\n",
"Cgd=Crss;\n",
"Cgs=Ciss-Crss\n",
"Av=Yfs*(((1/Yos)*Rd*Rl))/((Rd*Rl+(1/Yos)*Rd+(1/Yos)*Rl))\n",
"Cin=Cgs+(1+Av)*Cgd\n",
"Zi=(R1*R2)/(R1+R2)\n",
"f2=1/(2*3.14*Cin*((rs*Zi)/(rs+Zi)))"
   ]
   }
],
"metadata": {
		  "kernelspec": {
		   "display_name": "Scilab",
		   "language": "scilab",
		   "name": "scilab"
		  },
		  "language_info": {
		   "file_extension": ".sce",
		   "help_links": [
			{
			 "text": "MetaKernel Magics",
			 "url": "https://github.com/calysto/metakernel/blob/master/metakernel/magics/README.md"
			}
		   ],
		   "mimetype": "text/x-octave",
		   "name": "scilab",
		   "version": "0.7.1"
		  }
		 },
		 "nbformat": 4,
		 "nbformat_minor": 0
}
