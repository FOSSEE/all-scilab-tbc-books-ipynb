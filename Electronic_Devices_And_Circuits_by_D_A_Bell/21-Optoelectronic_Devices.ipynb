{
"cells": [
 {
		   "cell_type": "markdown",
	   "metadata": {},
	   "source": [
       "# Chapter 21: Optoelectronic Devices"
	   ]
	},
{
		   "cell_type": "markdown",
		   "metadata": {},
		   "source": [
			"## Example 21.1: total_luminous_flux.sce"
		   ]
		  },
  {
"cell_type": "code",
	   "execution_count": null,
	   "metadata": {
	    "collapsed": true
	   },
	   "outputs": [],
"source": [
"//chapter 21\n",
"//example 21.1\n",
"//page 947\n",
"printf('\n')\n",
"printf('given')\n",
"r=3;Os=25;area=.25;\n",
"Ea=Os/(4*3.14*(r)^2)\n",
"Tf=Ea*area;\n",
"printf(' total flux is %3.3fW\n',Tf)"
   ]
   }
,
{
		   "cell_type": "markdown",
		   "metadata": {},
		   "source": [
			"## Example 21.3: suitable_resistor.sce"
		   ]
		  },
  {
"cell_type": "code",
	   "execution_count": null,
	   "metadata": {
	    "collapsed": true
	   },
	   "outputs": [],
"source": [
"//chapter 21\n",
"//example 21.3\n",
"//page 951\n",
"printf('\n')\n",
"printf('given')\n",
"Vcc=9;Vf=1.6;Vb=7;hFE=100;Vce=.2;Ic=10*10^-3;Vbe=.7;\n",
"R2=(Vcc-Vf-Vce)/Ic\n",
"R2=680;//use standard value\n",
"Ic=(Vcc-Vf-Vce)/R2\n",
"Ib=Ic/hFE\n",
"Rb=(Vb-Vbe)/Ib"
   ]
   }
,
{
		   "cell_type": "markdown",
		   "metadata": {},
		   "source": [
			"## Example 21.4: total_power_supplied_to_digit_LED.sce"
		   ]
		  },
  {
"cell_type": "code",
	   "execution_count": null,
	   "metadata": {
	    "collapsed": true
	   },
	   "outputs": [],
"source": [
"//chapter 21\n",
"//example 21.4\n",
"//page 952\n",
"printf('\n')\n",
"printf('given')\n",
"Vcc=5;\n",
"N=(3*7)+(1*2)\n",
"It=N*10*10^-3\n",
"P=It*Vcc"
   ]
   }
,
{
		   "cell_type": "markdown",
		   "metadata": {},
		   "source": [
			"## Example 21.5: required_series_resistance_and_dark_current.sce"
		   ]
		  },
  {
"cell_type": "code",
	   "execution_count": null,
	   "metadata": {
	    "collapsed": true
	   },
	   "outputs": [],
"source": [
"//chapter 21\n",
"//example 21.5\n",
"//page 957\n",
"printf('\n')\n",
"printf('given')\n",
"Rc=1*10^3;I=10*10^-3;E=30;\n",
"R1=E/I -Rc\n",
"R1=1.8*10^3;//use standard value\n",
"disp(' when dark Rc=100Kohm')\n",
"Rc=100*10^3;\n",
"I=E/(R1+Rc)"
   ]
   }
,
{
		   "cell_type": "markdown",
		   "metadata": {},
		   "source": [
			"## Example 21.6: minimum_light_level_when_transitor_is_turn_off.sce"
		   ]
		  },
  {
"cell_type": "code",
	   "execution_count": null,
	   "metadata": {
	    "collapsed": true
	   },
	   "outputs": [],
"source": [
"//chapter 21\n",
"//example 21.6\n",
"//page 958\n",
"printf('\n')\n",
"printf('given')\n",
"Vee=6;Vbe=.7;Ib=200*10^-6;Vb=.7;Vcc=6;\n",
"disp('when cell is dark Rc=100Kohm')\n",
"Rc=100*10^3;\n",
"Vrc=Vee+Vbe\n",
"Irc=Vrc/Rc\n",
"Ir1=Irc+Ib\n",
"Vr1=Vcc-Vb\n",
"R1=Vr1/Ir1\n",
"R1=18*10^3;//use standard value\n",
"disp(' when Q1 is off')\n",
"Vr1=6;Vrc=6;\n",
"Ir1=Vr1/R1\n",
"Rc=Vrc/Ir1"
   ]
   }
],
"metadata": {
		  "kernelspec": {
		   "display_name": "Scilab",
		   "language": "scilab",
		   "name": "scilab"
		  },
		  "language_info": {
		   "file_extension": ".sce",
		   "help_links": [
			{
			 "text": "MetaKernel Magics",
			 "url": "https://github.com/calysto/metakernel/blob/master/metakernel/magics/README.md"
			}
		   ],
		   "mimetype": "text/x-octave",
		   "name": "scilab",
		   "version": "0.7.1"
		  }
		 },
		 "nbformat": 4,
		 "nbformat_minor": 0
}
