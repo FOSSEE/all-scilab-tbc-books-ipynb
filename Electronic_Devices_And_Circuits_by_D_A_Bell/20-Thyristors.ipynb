{
"cells": [
 {
		   "cell_type": "markdown",
	   "metadata": {},
	   "source": [
       "# Chapter 20: Thyristors"
	   ]
	},
{
		   "cell_type": "markdown",
		   "metadata": {},
		   "source": [
			"## Example 20.1: calculate_instantaneous_supply_voltage.sce"
		   ]
		  },
  {
"cell_type": "code",
	   "execution_count": null,
	   "metadata": {
	    "collapsed": true
	   },
	   "outputs": [],
"source": [
"//chapter 20\n",
"//example 20.1\n",
"//page 902\n",
"printf('\n')\n",
"printf('given')\n",
"Vs=25;Vtm=1.7;Rl=25;Ih=5*10^-3;\n",
"Vspk=1.414*Vs\n",
"Ilpk=(Vs-Vtm)/Rl\n",
"disp(' for half wave rectifier sinusodial waveform')\n",
"Ilrms=.5*Ilpk\n",
"disp(' switch-off voltage')\n",
"es=Vtm+(Ih*Rl)"
   ]
   }
,
{
		   "cell_type": "markdown",
		   "metadata": {},
		   "source": [
			"## Example 20.2: determine_suitable_resistance.sce"
		   ]
		  },
  {
"cell_type": "code",
	   "execution_count": null,
	   "metadata": {
	    "collapsed": true
	   },
	   "outputs": [],
"source": [
"//chapter 20\n",
"//example 20.2\n",
"//page 905\n",
"printf('\n')\n",
"printf('given')\n",
"Vs=30;Vd1=.7;Vg=.8;Ig=200*10^-6;\n",
"Vspk=1.414*Vs\n",
"disp(' at 5 degree')\n",
"es=Vspk*.087//  sin5=.087\n",
"disp(' at 90 degree')\n",
"es=Vspk\n",
"Vt=Vd1+Vg\n",
"disp(' to trigger at es=3.7V the R2 moving contact is at the top')\n",
"es=3.7;\n",
"Vr1=es-Vt\n",
"I1=1*10^-3;\n",
"R1=Vr1/I1\n",
"R=Vt/I1//R=R2+R3\n",
"disp(' to trigger at es =42.4 the R2 moving contact at the bottom')\n",
"es=42.4;\n",
"Vr3=Vt;\n",
"I1=es/(R+R1)\n",
"R3=Vt/I1\n",
"R2=R-R3"
   ]
   }
,
{
		   "cell_type": "markdown",
		   "metadata": {},
		   "source": [
			"## Example 20.3: determine_SCR_anode_cathode_voltage.sce"
		   ]
		  },
  {
"cell_type": "code",
	   "execution_count": null,
	   "metadata": {
	    "collapsed": true
	   },
	   "outputs": [],
"source": [
"//chapter 20\n",
"//example 20.3\n",
"//page 906\n",
"printf('\n')\n",
"printf('given')\n",
"R1=2.2*10^3;R2=1.5*10^3;R3=120;Vt=1.5;\n",
"disp(' with R2 contact at center')\n",
"Vak=Vt*((R1+R2+R3)/(R3+.5*R2))\n",
"disp(' with R2 contact at zero')\n",
"Vak=Vt*((R1+R2+R3)/R3)"
   ]
   }
,
{
		   "cell_type": "markdown",
		   "metadata": {},
		   "source": [
			"## Example 20.4: specify_the_SCR_and_suitable_components_for_D1_and_R1.sce"
		   ]
		  },
  {
"cell_type": "code",
	   "execution_count": null,
	   "metadata": {
	    "collapsed": true
	   },
	   "outputs": [],
"source": [
"//chapter 20\n",
"//example 20.4\n",
"//page 911\n",
"printf('\n')\n",
"printf('given')\n",
"Vs=5;Ilmax=300*10^-3;Vl=7;Vg=.8;\n",
"Vz=Vl-Vg\n",
"disp(' for D1, select a 1N753 with Vz=6.2')\n",
"Izmin=1*10^-3;\n",
"R1=Vg/Izmin"
   ]
   }
,
{
		   "cell_type": "markdown",
		   "metadata": {},
		   "source": [
			"## Example 20.5: smallest_conduction_angle.sce"
		   ]
		  },
  {
"cell_type": "code",
	   "execution_count": null,
	   "metadata": {
	    "collapsed": true
	   },
	   "outputs": [],
"source": [
"//chapter 20\n",
"//example 20.5\n",
"//page 9\n",
"printf('\n')\n",
"printf('given')\n",
"R1=25*10^3;R2=2.7*10^3;C1=3*10^-6;Vg=.8;Vd1=8;Vs=115;f=60;\n",
"Vc1=Vd1+Vg\n",
"//assume the average charging voltage is\n",
"Vac=1.414*Vs\n",
"E=.636*Vac\n",
"//average charging\n",
"Ic=E/(R1+R2)\n",
"//charging time\n",
"t=(C1*Vc1)/Ic\n",
"T=1/f\n",
"q=(t*360)/T\n",
"disp(' concudtion angle')\n",
"a=180-q"
   ]
   }
,
{
		   "cell_type": "markdown",
		   "metadata": {},
		   "source": [
			"## Example 20.6: determine_capacitor_charging_time.sce"
		   ]
		  },
  {
"cell_type": "code",
	   "execution_count": null,
	   "metadata": {
	    "collapsed": true
	   },
	   "outputs": [],
"source": [
"//chapter 20\n",
"//example 20.6\n",
"//page 925\n",
"printf('\n')\n",
"printf('given')\n",
"Vs=10;Vf=1.7;Is=500*10^-6;Ih=1.5*10^-3;E=30;R=27*10^3;C=.5*10^-6;\n",
"R1max=(E-Vs)/Is\n",
"R1min=(E-Vf)/Ih\n",
"t=C*R*log((E-Vf)/(E-Vs));\n",
"printf(' capacitor charging time is %3.4fs\n',t)"
   ]
   }
,
{
		   "cell_type": "markdown",
		   "metadata": {},
		   "source": [
			"## Example 20.7: calculate_maximum_Vb1b2_be_used_at_temperature_100C.sce"
		   ]
		  },
  {
"cell_type": "code",
	   "execution_count": null,
	   "metadata": {
	    "collapsed": true
	   },
	   "outputs": [],
"source": [
"//chapter 20\n",
"//example 20.7\n",
"//page 931\n",
"printf('\n')\n",
"printf('given')\n",
"Rbb=4*10^3;Pd25=360*10^-3;D=2.4*10^-3;T2=100;\n",
"Pd=Pd25-D*(T2-25)\n",
"Vb1b1=sqrt(Rbb*Pd);\n",
"printf(' maximum Vb1b1 that should be used at a temp 100 is %3.1fV\n',Vb1b1)"
   ]
   }
,
{
		   "cell_type": "markdown",
		   "metadata": {},
		   "source": [
			"## Example 20.8: maximum_and_minimum_triggering_voltage.sce"
		   ]
		  },
  {
"cell_type": "code",
	   "execution_count": null,
	   "metadata": {
	    "collapsed": true
	   },
	   "outputs": [],
"source": [
"//chapter 20\n",
"//example 20.8\n",
"//page 931\n",
"printf('\n')\n",
"printf('given')\n",
"Vb1b1=25;nmax=.86;nmin=.74;Vd=.7;\n",
"Vpmax=Vd+(nmax*Vb1b1)\n",
"Vpmin=Vd+(nmin*Vb1b1)"
   ]
   }
,
{
		   "cell_type": "markdown",
		   "metadata": {},
		   "source": [
			"## Example 20.9: calculate_Re_for_relaxation_oscillator_and_oscillating_frequency.sce"
		   ]
		  },
  {
"cell_type": "code",
	   "execution_count": null,
	   "metadata": {
	    "collapsed": true
	   },
	   "outputs": [],
"source": [
"//chapter 20\n",
"//example 20.9\n",
"//page 933\n",
"printf('\n')\n",
"printf('given')\n",
"Ip=.6*10^-6;Iv=2*10^-3;Veb1=2.5;Vpmin=19.2;Vpmax=22.2;Vbb=25;C=1*10^-6;R=18*10^3;Vp=20;\n",
"Vpmin=(Vbb-Vpmax)/Ip\n",
"Remax=(Vbb-Veb1)/Iv\n",
"t=C*R*log((Vbb-Veb1)/(Vbb-Vp))\n",
"f=1/t"
   ]
   }
],
"metadata": {
		  "kernelspec": {
		   "display_name": "Scilab",
		   "language": "scilab",
		   "name": "scilab"
		  },
		  "language_info": {
		   "file_extension": ".sce",
		   "help_links": [
			{
			 "text": "MetaKernel Magics",
			 "url": "https://github.com/calysto/metakernel/blob/master/metakernel/magics/README.md"
			}
		   ],
		   "mimetype": "text/x-octave",
		   "name": "scilab",
		   "version": "0.7.1"
		  }
		 },
		 "nbformat": 4,
		 "nbformat_minor": 0
}
