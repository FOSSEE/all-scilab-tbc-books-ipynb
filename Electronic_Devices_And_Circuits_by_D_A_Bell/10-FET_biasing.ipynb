{
"cells": [
 {
		   "cell_type": "markdown",
	   "metadata": {},
	   "source": [
       "# Chapter 10: FET biasing"
	   ]
	},
{
		   "cell_type": "markdown",
		   "metadata": {},
		   "source": [
			"## Example 10.11: constant_current_bias_circuit.sce"
		   ]
		  },
  {
"cell_type": "code",
	   "execution_count": null,
	   "metadata": {
	    "collapsed": true
	   },
	   "outputs": [],
"source": [
"//chapter 10\n",
"//example 10.11\n",
"//page 412\n",
"printf('\n')\n",
"printf('given')\n",
"Vee=20;Id=3*10^-3;Vds=9;Vbe=.7;Vb=0;\n",
"Ve=Vee-Vbe\n",
"Re=Ve/Id\n",
"Re=6.8*10^3;//satnadard value\n",
"Id=Ve/Re;\n",
"Idss=16*10^-3;Vgsoff=-8;\n",
"Vgs=Vgsoff*(1-sqrt(Id/Idss))\n",
"Vs=Vb-Vgs\n",
"Vrd=Vee-Vds-Vs\n",
"Rd=Vrd/Id"
   ]
   }
,
{
		   "cell_type": "markdown",
		   "metadata": {},
		   "source": [
			"## Example 10.12: determine_Id_and_Vds.sce"
		   ]
		  },
  {
"cell_type": "code",
	   "execution_count": null,
	   "metadata": {
	    "collapsed": true
	   },
	   "outputs": [],
"source": [
"//chapter 10\n",
"//example 10.12\n",
"//page 415\n",
"printf('\n')\n",
"printf('given')\n",
"Idss=5*10^-3;Vgsoff=6;Rs=3.3*10^3;Vdd=20;Rd=Rs;\n",
"disp('when Id=0, Vgs=Vs=0')\n",
"Id=0;Vgs=0;Vs=0;\n",
"disp(' at point A universal transfer characteristic Id/Idss and Vgs/Vgsoff=0')\n",
"Id=1.5*10^-3;\n",
"Vgs=Id*Rs\n",
"y=Id/Idss;\n",
"x=Vgs/Vgsoff;\n",
"disp(' point B the universal transfer charecteristic x=.825 and y=.3')\n",
"Id=.2*Idss\n",
"Vds=Vdd-Id*(Rd+Rs)"
   ]
   }
,
{
		   "cell_type": "markdown",
		   "metadata": {},
		   "source": [
			"## Example 10.13: determine_Idmax_and_Vdsmin.sce"
		   ]
		  },
  {
"cell_type": "code",
	   "execution_count": null,
	   "metadata": {
	    "collapsed": true
	   },
	   "outputs": [],
"source": [
"//chapter 10\n",
"//example 10.13\n",
"//page 416\n",
"printf('\n')\n",
"printf('given')\n",
"Idss=9*10^-3;Vgsoff=7;Vdd=22;R1=4.7*10^6;R2=1*10^6;Rs=2.7*10^3;Rd=Rs;\n",
"Vg=(Vdd*R2)/(R1+R2)\n",
"disp('when Vgs=0, Vgs/Vgsoff=0')\n",
"Id=Vg/Rs\n",
"disp('when Vgs/Vgsoff=.5')\n",
"Vgs=.5*(-Vgsoff)\n",
"Id=(Vg-Vgs)/Rs\n",
"x=Id/Idss\n",
"disp(' point Y on universal characteristic x=.3 and Vgs/Vgsoff=.5')\n",
"disp('draw voltage divider bias line through X nad Y where bisa line intersect transfer curve')\n",
"Id=.29*Idss\n",
"Vds=Vdd-Id*(Rd+Rs)"
   ]
   }
,
{
		   "cell_type": "markdown",
		   "metadata": {},
		   "source": [
			"## Example 10.14: determine_Id_and_Vds.sce"
		   ]
		  },
  {
"cell_type": "code",
	   "execution_count": null,
	   "metadata": {
	    "collapsed": true
	   },
	   "outputs": [],
"source": [
"//chapter 10\n",
"//example 10.14\n",
"//page 419\n",
"printf('\n')\n",
"printf('given')\n",
"Vdd=40;R2=1*10^6;R1=5.6*10^6;Rd=4.7;\n",
"Vg=(Vdd*R2)/(R1+R2)\n",
"disp('from the point where the bias line intersect the transfer curve')\n",
"Id=6.2\n",
"Vds=Vdd-Id*Rd"
   ]
   }
,
{
		   "cell_type": "markdown",
		   "metadata": {},
		   "source": [
			"## Example 10.16: design_JFET_switching.sce"
		   ]
		  },
  {
"cell_type": "code",
	   "execution_count": null,
	   "metadata": {
	    "collapsed": true
	   },
	   "outputs": [],
"source": [
"//chapter 10\n",
"//example 10.16\n",
"//page 422\n",
"printf('\n')\n",
"printf('given')\n",
"rDS=25;Vgsoff=10;Vds=200*10^-3;Vdd=12;\n",
"Id=Vds/rDS\n",
"Rd=Vdd/Id\n",
"Vi=-(Vgsoff+1)"
   ]
   }
,
{
		   "cell_type": "markdown",
		   "metadata": {},
		   "source": [
			"## Example 10.17: determine_suitable_resistance_and_calculate_Vds.sce"
		   ]
		  },
  {
"cell_type": "code",
	   "execution_count": null,
	   "metadata": {
	    "collapsed": true
	   },
	   "outputs": [],
"source": [
"//chapter 10\n",
"//example 10.17\n",
"//page 424\n",
"printf('\n')\n",
"printf('given')\n",
"Vdd=50;Rd=10;R2=1*10^6;rDS=.25;\n",
"Id=Vdd/Rd\n",
"disp(' from transfer curve at Id=5 and Vgs=5.7')\n",
"Vgs=5.7;\n",
"R1=((Vdd-Vgs)*R2)/Vgs//use 6.8Mohm to make Vgs>5.7V to ensure that the FET is biased on\n",
"Vds=Id*rDS"
   ]
   }
,
{
		   "cell_type": "markdown",
		   "metadata": {},
		   "source": [
			"## Example 10.1: Dc_load_line.sce"
		   ]
		  },
  {
"cell_type": "code",
	   "execution_count": null,
	   "metadata": {
	    "collapsed": true
	   },
	   "outputs": [],
"source": [
"//chapter 10\n",
"//example 10.1\n",
"//page 381\n",
"printf('\n')\n",
"printf('given')\n",
"Vdd=22;Rd=2*10^3;\n",
"disp('when Id=0')\n",
"Id=0;\n",
"Vds=Vdd-Id*Rd\n",
"disp(' at point A Id=0 nad Vds=22')\n",
"Vds=0;\n",
"Id=Vdd/Rd\n",
"disp(' at point B Id=11mA and Vds=0')"
   ]
   }
,
{
		   "cell_type": "markdown",
		   "metadata": {},
		   "source": [
			"## Example 10.4: determine_Idmax_and_Idmin.sce"
		   ]
		  },
  {
"cell_type": "code",
	   "execution_count": null,
	   "metadata": {
	    "collapsed": true
	   },
	   "outputs": [],
"source": [
"//chapter 10\n",
"//example 10.4\n",
"//page 387\n",
"printf('\n')\n",
"printf('given')\n",
"Idss=8*10^-3;Vpmax=6;Vgs=2.3;Vgsmax=6;\n",
"Id=Idss*(1-(Vgs/Vgsmax))^2\n",
"Idss=4*10^-3;Vp=3;\n",
"Idmin=Idss*(1-(Vgs/Vp))^2"
   ]
   }
,
{
		   "cell_type": "markdown",
		   "metadata": {},
		   "source": [
			"## Example 10.6: Id_max_Idmin_and_Vds.sce"
		   ]
		  },
  {
"cell_type": "code",
	   "execution_count": null,
	   "metadata": {
	    "collapsed": true
	   },
	   "outputs": [],
"source": [
"//chapter 10\n",
"//example 10.6\n",
"//page 393\n",
"printf('\n')\n",
"printf('given')\n",
"Vdd=25;R2=1*10^6;R1=3.8*10^6;Rs=2.5*10^3;Rd=2.5*10^3;\n",
"Vg=(Vdd*R2)/(R1+R2)\n",
"disp('when Id=0')\n",
"Id=0;\n",
"Vgs=Vg-Id*Rs\n",
"disp(' plot point A at Id=0 and Vgs=5.2')\n",
"Vgs=0;\n",
"Id=Vg/Rs\n",
"disp(' plot point B at Id=2.08mA and Vgs=0')\n",
"disp(' where the base line intersect the transfer characteristics ')\n",
"Idmax=3*10^-3;Idmin=2.3*10^-3;\n",
"Vdsmin=Vdd-Idmax*(Rd+Rs)\n",
"Vdsmax=Vdd-Idmin*(Rd+Rs)"
   ]
   }
,
{
		   "cell_type": "markdown",
		   "metadata": {},
		   "source": [
			"## Example 10.7: gate_bais_circuit.sce"
		   ]
		  },
  {
"cell_type": "code",
	   "execution_count": null,
	   "metadata": {
	    "collapsed": true
	   },
	   "outputs": [],
"source": [
"//chapter 10\n",
"//example 10.7\n",
"//page 401\n",
"printf('\n')\n",
"printf('given')\n",
"Id=3*10^-3;Vgs=-2.3;Vdsmin=10;Vdd=25;Vgsoff=-6;Idss=8*10^-3;\n",
"Vgs=Vgsoff*(1-sqrt(Id/Idss))\n",
"Rd=(Vdd-Vdsmin)/Id"
   ]
   }
,
{
		   "cell_type": "markdown",
		   "metadata": {},
		   "source": [
			"## Example 10.8: self_bais_circuit.sce"
		   ]
		  },
  {
"cell_type": "code",
	   "execution_count": null,
	   "metadata": {
	    "collapsed": true
	   },
	   "outputs": [],
"source": [
"//chapter 10\n",
"//example 10.8\n",
"//page 403\n",
"printf('\n')\n",
"printf('given')\n",
"Id=3*10^-3;Vds=10;Vdd=25;Vgs=2.3;\n",
"Rs=Vgs/Id\n",
"Rd=((Vdd-Vds)/Id)-Rs"
   ]
   }
,
{
		   "cell_type": "markdown",
		   "metadata": {},
		   "source": [
			"## Example 10.9: design_voltage_divider_bais_circuit.sce"
		   ]
		  },
  {
"cell_type": "code",
	   "execution_count": null,
	   "metadata": {
	    "collapsed": true
	   },
	   "outputs": [],
"source": [
"//chapter 10\n",
"//example 10.9\n",
"//page 405\n",
"printf('\n')\n",
"printf('given')\n",
"Id=3*10^-3;Vds=10;Vdd=25;Vg=5.2;Vgsoff=-6;Idss=8*10^-3;R2=1*10^6;\n",
"R=(Vdd-Vds)/Id//R=(Rs+Rd)/2\n",
"Rd=R/2\n",
"Rs=Rd\n",
"Vgs=Id*Rs\n",
"Vgs=Vgsoff*(1-sqrt(Id/Idss))\n",
"Vs=Id*Rs\n",
"Vg=Vs-(-Vgs)\n",
"R1=((Vdd-Vg)*R2)/Vg"
   ]
   }
],
"metadata": {
		  "kernelspec": {
		   "display_name": "Scilab",
		   "language": "scilab",
		   "name": "scilab"
		  },
		  "language_info": {
		   "file_extension": ".sce",
		   "help_links": [
			{
			 "text": "MetaKernel Magics",
			 "url": "https://github.com/calysto/metakernel/blob/master/metakernel/magics/README.md"
			}
		   ],
		   "mimetype": "text/x-octave",
		   "name": "scilab",
		   "version": "0.7.1"
		  }
		 },
		 "nbformat": 4,
		 "nbformat_minor": 0
}
