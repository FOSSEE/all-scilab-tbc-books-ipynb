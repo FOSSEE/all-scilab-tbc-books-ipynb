{
"cells": [
 {
		   "cell_type": "markdown",
	   "metadata": {},
	   "source": [
       "# Chapter 16: Signal generators"
	   ]
	},
{
		   "cell_type": "markdown",
		   "metadata": {},
		   "source": [
			"## Example 16.10: triangular_wave_generator.sce"
		   ]
		  },
  {
"cell_type": "code",
	   "execution_count": null,
	   "metadata": {
	    "collapsed": true
	   },
	   "outputs": [],
"source": [
"//chapter 16\n",
"//example 16.10\n",
"//page 699\n",
"printf('\n')\n",
"printf('given')\n",
"Vcc=9;Vo=3;I1=1*10^-3;f=500;UTP=3;\n",
"disp('design the triangular wave')\n",
"Vi=Vcc-1\n",
"V=Vo-(-Vo)\n",
"disp(' I1>>Ibmax for op-amp')\n",
"R1=Vi/I1\n",
"t=1/(2*f)\n",
"C1=(I1*t)/V\n",
"disp('schmitt design')\n",
"I2=1*10^-3;\n",
"R2=UTP/I2\n",
"R3=(Vcc-1)/I2"
   ]
   }
,
{
		   "cell_type": "markdown",
		   "metadata": {},
		   "source": [
			"## Example 16.11: wein_bridge_oscillator.sce"
		   ]
		  },
  {
"cell_type": "code",
	   "execution_count": null,
	   "metadata": {
	    "collapsed": true
	   },
	   "outputs": [],
"source": [
"//chapter 16\n",
"//example 16.11\n",
"//page 705\n",
"printf('\n')\n",
"printf('given')\n",
"f=100*10^3;Rs=1.5*10^3;\n",
"R1=2*Rs\n",
"R1=2.7*10^3;//use standard value\n",
"R2=R1+Rs\n",
"C1=1/(2*3.14*f*R2)\n",
"R4=R2;\n",
"R3=2*R4"
   ]
   }
,
{
		   "cell_type": "markdown",
		   "metadata": {},
		   "source": [
			"## Example 16.12: pierce_oscillator_and_peak_power_dissipated.sce"
		   ]
		  },
  {
"cell_type": "code",
	   "execution_count": null,
	   "metadata": {
	    "collapsed": true
	   },
	   "outputs": [],
"source": [
"//chapter 16\n",
"//example 16.12\n",
"//page 705\n",
"printf('\n')\n",
"printf('given')\n",
"fs=1*10^6;Rs=700;C1=1000*10^-12;C2=100*10^-12;R1=1*10^6;R2=10*10^3;Rs=700;Vdd=5;\n",
"Ct=(C1*C2)/(C1+C2)\n",
"disp(' at resonance Xl=Xct    2*pi*f*L=1/2*pi*f*Ct')\n",
"L=1/(((2*3.14*f)^2)*Ct)\n",
"ip=Vdd/(R1+R2+Rs)\n",
"Pd=(((.707*ip)^2)*Rs)*10^9;\n",
"printf(' peak power dissipated is %3.3fnW\n',Pd)"
   ]
   }
,
{
		   "cell_type": "markdown",
		   "metadata": {},
		   "source": [
			"## Example 16.1: phase_shift_oscillator.sce"
		   ]
		  },
  {
"cell_type": "code",
	   "execution_count": null,
	   "metadata": {
	    "collapsed": true
	   },
	   "outputs": [],
"source": [
"//chapter 16\n",
"//example 16.1\n",
"//page 6568\n",
"printf('\n')\n",
"printf('given')\n",
"Vcc=10;Ib=500*10^-9;Acl=29;f=1*10^3;\n",
"disp(' phase shift  oscillator')\n",
"I1=100*Ib\n",
"vo=Vcc-1\n",
"vi=vo/Acl\n",
"R1=vi/I1\n",
"R1=5.6*10^3;//use standard value 5.6Kohm\n",
"R2=Acl*R1\n",
"R2=180*10^3;//use satndard value 180Kohm to give Acl>180\n",
"R3=R2;R=R1;\n",
"C=1/(2*3.14*R*f*sqrt(6))"
   ]
   }
,
{
		   "cell_type": "markdown",
		   "metadata": {},
		   "source": [
			"## Example 16.2: colpitts_oscillator.sce"
		   ]
		  },
  {
"cell_type": "code",
	   "execution_count": null,
	   "metadata": {
	    "collapsed": true
	   },
	   "outputs": [],
"source": [
"//chapter 16\n",
"//example 16.2\n",
"//page 672\n",
"printf('\n')\n",
"printf('given')\n",
"f=40*10^3;L=100*10^-3;vp=8;\n",
"disp('colpitts oscillator')\n",
"Ct=1/(4*3.14*3.14*(f^2)*L)\n",
"C1=10*Ct\n",
"C2=1/((1/Ct)-(1/C1))\n",
"C2=180*10^-12;//use standard value\n",
"Xc2=1/(2*3.14*f*C2)\n",
"Xc1=1/(2*3.14*f*C1)\n",
"R1=10*Xc1\n",
"R1=27*10^3;//use standard value\n",
"Acl=C1/C2\n",
"R2=Acl*R1\n",
"R2=270*10^3;//use stabdard value\n",
"R3=(R1*R2)/(R1+R2)\n",
"f2=Acl*f\n",
"SR=2*3.14*f*vp"
   ]
   }
,
{
		   "cell_type": "markdown",
		   "metadata": {},
		   "source": [
			"## Example 16.3: hartley_oscillator.sce"
		   ]
		  },
  {
"cell_type": "code",
	   "execution_count": null,
	   "metadata": {
	    "collapsed": true
	   },
	   "outputs": [],
"source": [
"//chapter 16\n",
"//example 16.3\n",
"//page 678\n",
"printf('\n')\n",
"printf('given')\n",
"vo=8;f=100*10^3;\n",
"disp(' hartley oscillator')\n",
"Vcc=vo+1\n",
"Xl2=1*10^3;\n",
"L2=Xl2/(2*3.14*f)\n",
"L2=1.5*10^-3;//use standard value\n",
"L1=L2/10\n",
"Lt=L1+L2//(assuming M=0)\n",
"C1=1/(4*(3.14^2)*(f^2)*Lt)\n",
"C1=1500*10^-12;//use 1500pF with aadditional parallel capacitance if necessary\n",
"//C1>>stray capacitance\n",
"Xl1=2*3.14*f*L1//R1>>Xl1\n",
"R1=1*10^3;\n",
"Acl=L2/L1\n",
"R2=Acl*R1\n",
"R3=(R1*R2)/(R1+R2)\n",
"disp('full power bandwidth ')\n",
"f2=Acl*f\n",
"SR=2*3.14*f*vo"
   ]
   }
,
{
		   "cell_type": "markdown",
		   "metadata": {},
		   "source": [
			"## Example 16.4: wein_bridge_oscillator.sce"
		   ]
		  },
  {
"cell_type": "code",
	   "execution_count": null,
	   "metadata": {
	    "collapsed": true
	   },
	   "outputs": [],
"source": [
"//chapter 16\n",
"//example 16.4\n",
"//page 680\n",
"printf('\n')\n",
"printf('given')\n",
"f=100*10^3;Vo=9;Acl=3;\n",
"disp(' design of wein bridge oscillator')\n",
"Vcc=Vo+1\n",
"C1=1000*10^-12;//standard value\n",
"C2=C1;\n",
"R1=1/(2*3.14*f*C1)\n",
"R2=R1;R4=R2;\n",
"R3=2*R4;\n",
"R3=3.3*10^3;//use standard value\n",
"disp(' minimum full power bandwidth')\n",
"f2=Acl*f\n",
"SR=2*3.14*f*Vo"
   ]
   }
,
{
		   "cell_type": "markdown",
		   "metadata": {},
		   "source": [
			"## Example 16.5: phase_shift_oscillator.sce"
		   ]
		  },
  {
"cell_type": "code",
	   "execution_count": null,
	   "metadata": {
	    "collapsed": true
	   },
	   "outputs": [],
"source": [
"//chapter 16\n",
"//example 16.5\n",
"//page 683\n",
"printf('\n')\n",
"printf('given')\n",
"f=5*10^3;vo=5;I1=1*10^-3;Vf=.7;\n",
"disp('phase shift oscillator')\n",
"R1=(vo/29)/I1\n",
"R1=150;//use standard value\n",
"R2=29*R1\n",
"R4=(2*Vf)/I1\n",
"R4=1.5*10^3;//use 1.5kohm standard value\n",
"R5=R2-R4\n",
"R6=.4*R5\n",
"R7=.8*R5\n",
"R=R1;\n",
"C=1/(2*3.14*R*f*sqrt(6))"
   ]
   }
,
{
		   "cell_type": "markdown",
		   "metadata": {},
		   "source": [
			"## Example 16.6: amplitude_stabilization_circuit.sce"
		   ]
		  },
  {
"cell_type": "code",
	   "execution_count": null,
	   "metadata": {
	    "collapsed": true
	   },
	   "outputs": [],
"source": [
"//chapter 16\n",
"//example 16.6\n",
"//page 686\n",
"printf('\n')\n",
"printf('given')\n",
"rds=600;Vgs=1;Vd1=.7;f=100*10^3;\n",
"disp('wien bridge ocillator')\n",
"R4=560;\n",
"R3=2*((R4*rds)/(R4+rds))\n",
"I5=200*10^-6;Vo=6;\n",
"R6=Vgs/I5\n",
"R5=(Vo-(Vgs+Vd1))/I5\n",
"disp(' C4 discharge voltage ')\n",
"Vc=.1*Vgs\n",
"disp('C4 discharge time')\n",
"T=1/f\n",
"Ic=I5;\n",
"C4=(Ic*T)/Vc\n",
"Xc3=rds/10//at oscillating frequency\n",
"C3=1/(2*3.14*f*Xc3)"
   ]
   }
,
{
		   "cell_type": "markdown",
		   "metadata": {},
		   "source": [
			"## Example 16.7: square_wave_generator.sce"
		   ]
		  },
  {
"cell_type": "code",
	   "execution_count": null,
	   "metadata": {
	    "collapsed": true
	   },
	   "outputs": [],
"source": [
"//chapter 16\n",
"//example 16.7\n",
"//page 689\n",
"printf('\n')\n",
"printf('given')\n",
"Vo=14;Vr3=.5;Ib=500*10^-9;f=1*10^3;\n",
"disp('square wave generator')\n",
"Vcc=Vo+1\n",
"UTP=Vr3;LTP=UTP;\n",
"I2=100*Ib;\n",
"R3=Vr3/I2\n",
"R2=(Vo-Vr3)/I2\n",
"t=1/(2*f)\n",
"V=UTP-(-LTP)\n",
"C1=.1*10^-6;\n",
"I1=(C1*V)/t\n",
"R1=Vo/I1"
   ]
   }
,
{
		   "cell_type": "markdown",
		   "metadata": {},
		   "source": [
			"## Example 16.8: calculate_t1_t2_and_pulse_frequency.sce"
		   ]
		  },
  {
"cell_type": "code",
	   "execution_count": null,
	   "metadata": {
	    "collapsed": true
	   },
	   "outputs": [],
"source": [
"//chapter 16\n",
"//example 16.8\n",
"//page 694\n",
"printf('\n')\n",
"printf('given')\n",
"R1=2.2*10^3;R2=2.7*10^3;C2=.5*10^-6;Vcc=15;\n",
"t1=.693*C2*(R1+R2)\n",
"t2=.693*C2*R2\n",
"T=t1+t2\n",
"f=1/T\n",
"Ic1=(Vcc/3)/(R1+R2)"
   ]
   }
],
"metadata": {
		  "kernelspec": {
		   "display_name": "Scilab",
		   "language": "scilab",
		   "name": "scilab"
		  },
		  "language_info": {
		   "file_extension": ".sce",
		   "help_links": [
			{
			 "text": "MetaKernel Magics",
			 "url": "https://github.com/calysto/metakernel/blob/master/metakernel/magics/README.md"
			}
		   ],
		   "mimetype": "text/x-octave",
		   "name": "scilab",
		   "version": "0.7.1"
		  }
		 },
		 "nbformat": 4,
		 "nbformat_minor": 0
}
