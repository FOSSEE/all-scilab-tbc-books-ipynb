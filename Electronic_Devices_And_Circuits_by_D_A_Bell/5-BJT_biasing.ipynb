{
"cells": [
 {
		   "cell_type": "markdown",
	   "metadata": {},
	   "source": [
       "# Chapter 5: BJT biasing"
	   ]
	},
{
		   "cell_type": "markdown",
		   "metadata": {},
		   "source": [
			"## Example 5.10: analyze_voltage_divider_bais_circuit_for_hFE_is_200.sce"
		   ]
		  },
  {
"cell_type": "code",
	   "execution_count": null,
	   "metadata": {
	    "collapsed": true
	   },
	   "outputs": [],
"source": [
"//chapter 5\n",
"//example 5.10\n",
"//page 201\n",
"printf('\n')\n",
"printf('given')\n",
"Vt=4.8;Rt=8.8*10^3;//from example 5.8\n",
"Re=1*10^3;Vbe=.7;hfe=200;\n",
"Ib=(Vt-Vbe)/(Rt+Re*(1+hfe))\n",
"Ic=hfe*Ib\n",
"Ie=Ib+Ic\n",
"Ve=Ie*Re\n",
"Vc=Vcc-(Ic*Rc)\n",
"Vce=Vc-Ve"
   ]
   }
,
{
		   "cell_type": "markdown",
		   "metadata": {},
		   "source": [
			"## Example 5.11: design_base_bias_circuit.sce"
		   ]
		  },
  {
"cell_type": "code",
	   "execution_count": null,
	   "metadata": {
	    "collapsed": true
	   },
	   "outputs": [],
"source": [
"//chapter 5\n",
"//example 5.11\n",
"//page 208\n",
"printf('\n')\n",
"printf('given')\n",
"Vce=5;Ic=5*10^-3;Vcc=15;hfe=100;\n",
"Rc=(Vcc-Vce)/Ic\n",
"Ib=Ic/hfe\n",
"Rb=(Vcc-Vbe)/Ib"
   ]
   }
,
{
		   "cell_type": "markdown",
		   "metadata": {},
		   "source": [
			"## Example 5.12: collector_to_base_bais_circuit.sce"
		   ]
		  },
  {
"cell_type": "code",
	   "execution_count": null,
	   "metadata": {
	    "collapsed": true
	   },
	   "outputs": [],
"source": [
"//chapter 5\n",
"//example 5.12\n",
"//page 209\n",
"printf('\n')\n",
"printf('given')\n",
"Vce=5;Ic=5*10^-3;Vcc=15;hfe=100;\n",
"Ib=Ic/hfe\n",
"Rc=(Vcc-Vce)/(Ic+Ib)\n",
"Rb=(Vce-Vbe)/Ib"
   ]
   }
,
{
		   "cell_type": "markdown",
		   "metadata": {},
		   "source": [
			"## Example 5.13: design_voltage_divider_bais_circuit.sce"
		   ]
		  },
  {
"cell_type": "code",
	   "execution_count": null,
	   "metadata": {
	    "collapsed": true
	   },
	   "outputs": [],
"source": [
"//chapter 5\n",
"//example 5.13\n",
"//page 211\n",
"printf('\n')\n",
"printf('given')\n",
"Vce=5;Ve=Vce;Ic=5*10^-3;hFE=100;Vcc=15;Vbe=.7;\n",
"Ie=Ic;\n",
"Re=Ve/Ie\n",
"Rc=(Vcc-Vce-Ve)/Ic\n",
"I2=Ic/10\n",
"Vb=Ve+Vbe\n",
"R2=Vb/I2\n",
"R1=(Vcc-Vb)/I2"
   ]
   }
,
{
		   "cell_type": "markdown",
		   "metadata": {},
		   "source": [
			"## Example 5.14: design_voltage_divider_bais_circuit.sce"
		   ]
		  },
  {
"cell_type": "code",
	   "execution_count": null,
	   "metadata": {
	    "collapsed": true
	   },
	   "outputs": [],
"source": [
"//chapter 5\n",
"//example 5.14\n",
"//page 212\n",
"printf('\n')\n",
"printf('given')\n",
"Vce=3;Ve=5;Ic=1*10^-3;Vcc=12;\n",
"Ie=Ic;\n",
"R4=Ve/Ie\n",
"disp(' with Ic=1mA and R4=4.7Kohm')\n",
"R4=4.7*10^3;\n",
"Ve=Ic*R4\n",
"Vc=Ve+Vce\n",
"Vr3=Vcc-Vc\n",
"R3=Vr3/Ic\n",
"Vb=Ve+Vbe\n",
"I2=Ic/10\n",
"R2=Vb/I2\n",
"disp(' with R2=56Kohm and Vb=5.4V')\n",
"R2=56*10^3;\n",
"I2=Vb/R2\n",
"R1=(Vcc-Vb)/I2"
   ]
   }
,
{
		   "cell_type": "markdown",
		   "metadata": {},
		   "source": [
			"## Example 5.15: design_bais_circuit_operate_from_18V_supply.sce"
		   ]
		  },
  {
"cell_type": "code",
	   "execution_count": null,
	   "metadata": {
	    "collapsed": true
	   },
	   "outputs": [],
"source": [
"//chapter 5\n",
"//example 5.15\n",
"//page 214\n",
"printf('\n')\n",
"printf('given')\n",
"Vce=9;Ve=4;Ic=4*10^-3;Vcc=18;\n",
"Ie=Ic;\n",
"R4=Ve/Ie\n",
"Vb=Ve+Vbe\n",
"I2=Ic/10\n",
"R2=Vb/I2\n",
"disp(' with R2=12Kohm standard')\n",
"R2=12*10^3;\n",
"I2=Vb/R2\n",
"R1=(Vce+Ve-Vb)/I2\n",
"disp(' with R1=22kohm standard')\n",
"R1=22*10^3;\n",
"Vr3=Vcc-Vce-Ve\n",
"R3=Vr3/(Ic+I2)"
   ]
   }
,
{
		   "cell_type": "markdown",
		   "metadata": {},
		   "source": [
			"## Example 5.16: design_bais_circuit_operate_from_9V_supply.sce"
		   ]
		  },
  {
"cell_type": "code",
	   "execution_count": null,
	   "metadata": {
	    "collapsed": true
	   },
	   "outputs": [],
"source": [
"//chapter 5\n",
"//example 5.16\n",
"//page 216\n",
"printf('\n')\n",
"printf('given')\n",
"Vc=5;Ic=1*10^-3;hFE=70;Vbe=.7;Vee=9;Vcc=Vee;Re=8.2*10^3;\n",
"Ve=Vee-Vbe\n",
"Ie=Ic;\n",
"R3=Ve/Ie\n",
"disp(' with R3=8.2kohm standard value')\n",
"R3=8.2*10^3;\n",
"Ie=Ve/R3\n",
"Vr2=Vcc-Vc\n",
"R2=Vr2/Ic\n",
"Ib=Ic/hFE\n",
"Vr1=Vbe/10\n",
"R1=Vr1/Ib\n",
"disp(' use 4.7Kohm as standard')\n",
"//the transistor emitter terminal is .7 below ground and voltage across Re is\n",
"Ve=Vee-Vbe\n",
"Ie=Ve/Re\n",
"Vc=Vcc-(Ie*3.9*10^3)"
   ]
   }
,
{
		   "cell_type": "markdown",
		   "metadata": {},
		   "source": [
			"## Example 5.17: stability_factors_for_three_bias_circuit.sce"
		   ]
		  },
  {
"cell_type": "code",
	   "execution_count": null,
	   "metadata": {
	    "collapsed": true
	   },
	   "outputs": [],
"source": [
"//chapter 5\n",
"//example 5.17\n",
"//page 220\n",
"printf('\n')\n",
"printf('given')\n",
"hFE=100;\n",
"Rc=2.2*10^3;Rb=270*10^3;Re=1*10^3;R1=33*10^3;R2=12*10^3;\n",
"S=1+hFE\n",
"disp('for collector to base bias')\n",
"S=(1+hFE)/(1+(hFE*Rc)/(Rc+Rb))\n",
"disp(' for voltage divider bias')\n",
"disp('S=(1+hFE)/(1+hFE*Re(Re+R1||R2))')\n",
"S=(1+hFE)/(1+(hFE*Re)/(Re+(R1*R2)/(R1+R2)))"
   ]
   }
,
{
		   "cell_type": "markdown",
		   "metadata": {},
		   "source": [
			"## Example 5.18: determine_Ic_change_when_tempreture_increases.sce"
		   ]
		  },
  {
"cell_type": "code",
	   "execution_count": null,
	   "metadata": {
	    "collapsed": true
	   },
	   "outputs": [],
"source": [
"//chapter 5\n",
"//example 5.18\n",
"//page 221\n",
"printf('\n')\n",
"printf('given')\n",
"Icbo1=15*10^-9;// at 25C\n",
"S=101;\n",
"disp('chnage in temp')\n",
"T=105-25\n",
"disp(' n=T in 10 step')\n",
"n=T/10\n",
"Icbo2=Icbo1*2^n\n",
"Icbo=Icbo2-Icbo1\n",
"disp(' for base bais')\n",
"Ic=S*Icbo\n",
"disp('  for collector to base bais')\n",
"S=56;\n",
"Ic=S*Icbo\n",
"disp(' for voltage divider bais')\n",
"S=8.2;\n",
"Ic=S*Icbo"
   ]
   }
,
{
		   "cell_type": "markdown",
		   "metadata": {},
		   "source": [
			"## Example 5.19: change_in_Ic_by_effect_of_change_in_Vbe.sce"
		   ]
		  },
  {
"cell_type": "code",
	   "execution_count": null,
	   "metadata": {
	    "collapsed": true
	   },
	   "outputs": [],
"source": [
"//chapter 5\n",
"//example 5.19\n",
"//page 223\n",
"printf('\n')\n",
"printf('given')\n",
"Re=4.7*10^3;\n",
"T=125-25\n",
"Vbe=T*(1.8*10^-3)\n",
"Ie=Vbe/Re"
   ]
   }
,
{
		   "cell_type": "markdown",
		   "metadata": {},
		   "source": [
			"## Example 5.1: new_dc_load_line.sce"
		   ]
		  },
  {
"cell_type": "code",
	   "execution_count": null,
	   "metadata": {
	    "collapsed": true
	   },
	   "outputs": [],
"source": [
"//chapter 5\n",
"//example 5.1\n",
"//page 182\n",
"printf('\n')\n",
"printf('given')\n",
"Rc=12*10^3;Vcc=20;\n",
"disp(' When Ic=0')\n",
"Ic=0;\n",
"Vce=Vcc-Ic*Rc\n",
"disp(' At point A Ic=0 nad Vce=20')\n",
"disp('When Vce=0')\n",
"Vce=0;\n",
"Ic=Vcc/Rc\n",
"disp(' At point B Ic=1.7mA and Vce=0')"
   ]
   }
,
{
		   "cell_type": "markdown",
		   "metadata": {},
		   "source": [
			"## Example 5.20: calculate_minimum_hFE_and_transistor_Vce.sce"
		   ]
		  },
  {
"cell_type": "code",
	   "execution_count": null,
	   "metadata": {
	    "collapsed": true
	   },
	   "outputs": [],
"source": [
"//chapter 5\n",
"//example 5.20\n",
"//page 2\n",
"printf('\n')\n",
"printf('given')\n",
"Vcc=10;Rc=1*10^3;Rb=6.8*10^3;Vs=5;\n",
"disp(' hFE calculation')\n",
"Ic=Vcc/Rc\n",
"Ib=(Vs-Vbe)/Rb\n",
"hFE=Ic/Ib\n",
"disp('when hFE=10')\n",
"hFE=10\n",
"Ic=hFE*Ib\n",
"Vce=Vcc-(Ic*Rc)"
   ]
   }
,
{
		   "cell_type": "markdown",
		   "metadata": {},
		   "source": [
			"## Example 5.21: calculate_minimum_hFE_for_transistor.sce"
		   ]
		  },
  {
"cell_type": "code",
	   "execution_count": null,
	   "metadata": {
	    "collapsed": true
	   },
	   "outputs": [],
"source": [
"//chapter 5\n",
"//example 5.21\n",
"//page 227\n",
"printf('\n')\n",
"printf('given')\n",
"Vcc=15;Rc=3.3*10^3;Vbe=.7;Rb=56*10^3;\n",
"Ic=Vcc/Rc\n",
"Ib=(Vcc-Vbe)/Rb\n",
"hFE=Ic/Ib;\n",
"printf(' minimum hFE is %3.2f\n',hFE)"
   ]
   }
,
{
		   "cell_type": "markdown",
		   "metadata": {},
		   "source": [
			"## Example 5.22: deremine_suitable_resistancefor_Rb_and_Rc.sce"
		   ]
		  },
  {
"cell_type": "code",
	   "execution_count": null,
	   "metadata": {
	    "collapsed": true
	   },
	   "outputs": [],
"source": [
"//chapter 5\n",
"//example 5.22\n",
"//page 229\n",
"printf('\n')\n",
"printf('given')\n",
"Vcc=12;Ic=1.5*10^-3;Vs=5;hFE=10;Vbe=.7;\n",
"Rc=Vcc/Ic\n",
"Ib=Ic/hFE\n",
"Rb=(Vs-Vbe)/Ib"
   ]
   }
,
{
		   "cell_type": "markdown",
		   "metadata": {},
		   "source": [
			"## Example 5.23: suitable_resistor_for_capacitor_coupled_switching.sce"
		   ]
		  },
  {
"cell_type": "code",
	   "execution_count": null,
	   "metadata": {
	    "collapsed": true
	   },
	   "outputs": [],
"source": [
"//chapter 5\n",
"//example 5.23\n",
"//page 229\n",
"printf('\n')\n",
"printf('given')\n",
"Vcc=9;Ic=2*10^-3;hFE=10;Vbe=.7;\n",
"Rc=Vcc/Ic\n",
"Ib=Ic/hFE\n",
"Rb=(Vcc-Vbe)/Ib"
   ]
   }
,
{
		   "cell_type": "markdown",
		   "metadata": {},
		   "source": [
			"## Example 5.2: circuit_Q_point.sce"
		   ]
		  },
  {
"cell_type": "code",
	   "execution_count": null,
	   "metadata": {
	    "collapsed": true
	   },
	   "outputs": [],
"source": [
"//chapter 5\n",
"//example 5.2\n",
"//page 186\n",
"printf('\n')\n",
"printf('given')\n",
"Vcc=18;Rc=2.2*10^3;Ib=40*10^-6;\n",
"disp('when Ic=0')\n",
"Ic=0;\n",
"Vce=Vcc-Ic*Rc\n",
"disp('At point A Ic=0 and Vce=18')\n",
"disp('when Vce=0')\n",
"Ic=Vcc/Rc\n",
"disp(' at point B Ic=8.2mA and Vce=0')"
   ]
   }
,
{
		   "cell_type": "markdown",
		   "metadata": {},
		   "source": [
			"## Example 5.3: determine_Ib_Ic_and_Vce.sce"
		   ]
		  },
  {
"cell_type": "code",
	   "execution_count": null,
	   "metadata": {
	    "collapsed": true
	   },
	   "outputs": [],
"source": [
"//chapter 5\n",
"//example 5.1\n",
"//page 182\n",
"printf('\n')\n",
"printf('given')\n",
"Rb=470*10^3;Rc=2.2*10^3;Vcc=18;hfe=100;\n",
"Vee=.7;\n",
"Ib=(Vcc-Vee)/Rb\n",
"Ic=hfe*Ib\n",
"Vce=Vcc-Ic*Rc"
   ]
   }
,
{
		   "cell_type": "markdown",
		   "metadata": {},
		   "source": [
			"## Example 5.4: maximum_and_minimum_level_of_Ic_and_Vce.sce"
		   ]
		  },
  {
"cell_type": "code",
	   "execution_count": null,
	   "metadata": {
	    "collapsed": true
	   },
	   "outputs": [],
"source": [
"//chapter 5\n",
"//example 5.4\n",
"//page 189\n",
"printf('\n')\n",
"printf('given')\n",
"hFEmin=50;hFEmax=200;Vcc=18;Vbe=.7;Rb=470*10^3;\n",
"Ib=(Vcc-Vbe)/Rb\n",
"Ic=hFEmin*Ib\n",
"Vce=Vcc-Ic*Rc\n",
"Ic=hFEmax*Ib\n",
"Vce=Vcc-Ic*Rc"
   ]
   }
,
{
		   "cell_type": "markdown",
		   "metadata": {},
		   "source": [
			"## Example 5.5: determine_Ib_Ic_and_Vce.sce"
		   ]
		  },
  {
"cell_type": "code",
	   "execution_count": null,
	   "metadata": {
	    "collapsed": true
	   },
	   "outputs": [],
"source": [
"//chapter 5\n",
"//example 5.5\n",
"//page 193\n",
"printf('\n')\n",
"printf('given')\n",
"Rb=270*10^3;Rc=2.2*10^3;Vcc=18;\n",
"hFE=100;Vbe=.7;\n",
"Ib=(Vcc-Vbe)/(Rb+Rc*(hFE+1))\n",
"Ic=hFE*Ib\n",
"Vce=Vcc-Rc*(Ic+Ib)"
   ]
   }
,
{
		   "cell_type": "markdown",
		   "metadata": {},
		   "source": [
			"## Example 5.7: emitter_voltage_collector_voltage_and_collector_and_emitter_voltage.sce"
		   ]
		  },
  {
"cell_type": "code",
	   "execution_count": null,
	   "metadata": {
	    "collapsed": true
	   },
	   "outputs": [],
"source": [
"//chapter 5\n",
"//example 5.7\n",
"//page 197\n",
"printf('\n')\n",
"printf('given')\n",
"R1=33*10^3;R2=12*10^3;Rc=1.2*10^3;Re=1*10^3;\n",
"Vcc=18;Vbe=.7;\n",
"Vb=(Vcc*R2)/(R1+R2)\n",
"Ve=Vb-Vbe\n",
"Ie=(Vb-Vbe)/Re\n",
"Ic=Ie;\n",
"Vc=Vcc-(Ic*Rc)\n",
"Vce=Vc-Ve"
   ]
   }
,
{
		   "cell_type": "markdown",
		   "metadata": {},
		   "source": [
			"## Example 5.8: determine_Ic_Ve_Vc_vce.sce"
		   ]
		  },
  {
"cell_type": "code",
	   "execution_count": null,
	   "metadata": {
	    "collapsed": true
	   },
	   "outputs": [],
"source": [
"//chapter 5\n",
"//example 5.8\n",
"//page 199\n",
"printf('\n')\n",
"printf('given')\n",
"Vcc=18;Vbe=.7;hfe=100;\n",
"R1=33*10^3;R2=12*10^3;Re=1*10^3;\n",
"Vt=(Vcc*R2)/(R1+R2)\n",
"Rt=(R1*R2)/(R1+R2)\n",
"Ib=(Vt-Vbe)/(Rt+Re*(1+hfe))\n",
"Ic=hfe*Ib\n",
"Ie=Ib+Ic\n",
"Ve=Ie*Re\n",
"Vc=Vcc-(Ic*Rc)\n",
"Vce=Vc-Ve"
   ]
   }
,
{
		   "cell_type": "markdown",
		   "metadata": {},
		   "source": [
			"## Example 5.9: analyze_voltage_divider_bais_circuit_for_hFE_50.sce"
		   ]
		  },
  {
"cell_type": "code",
	   "execution_count": null,
	   "metadata": {
	    "collapsed": true
	   },
	   "outputs": [],
"source": [
"//chapter 5\n",
"//example 5.9\n",
"//page 200\n",
"printf('\n')\n",
"printf('given')\n",
"hfe=50;Vt=4.8;Rt=8.8*10^3;//from example 5.7\n",
"Re=1*10^3;Vbe=.7;\n",
"Ib=(Vt-Vbe)/(Rt+Re*(1+hfe))\n",
"Ic=hfe*Ib\n",
"Ie=Ib+Ic\n",
"Ve=Ie*Re\n",
"Vc=Vcc-(Ic*Rc)\n",
"Vce=Vc-Ve"
   ]
   }
],
"metadata": {
		  "kernelspec": {
		   "display_name": "Scilab",
		   "language": "scilab",
		   "name": "scilab"
		  },
		  "language_info": {
		   "file_extension": ".sce",
		   "help_links": [
			{
			 "text": "MetaKernel Magics",
			 "url": "https://github.com/calysto/metakernel/blob/master/metakernel/magics/README.md"
			}
		   ],
		   "mimetype": "text/x-octave",
		   "name": "scilab",
		   "version": "0.7.1"
		  }
		 },
		 "nbformat": 4,
		 "nbformat_minor": 0
}
