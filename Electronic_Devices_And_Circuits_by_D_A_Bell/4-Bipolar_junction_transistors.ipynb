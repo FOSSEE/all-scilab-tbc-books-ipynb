{
"cells": [
 {
		   "cell_type": "markdown",
	   "metadata": {},
	   "source": [
       "# Chapter 4: Bipolar junction transistors"
	   ]
	},
{
		   "cell_type": "markdown",
		   "metadata": {},
		   "source": [
			"## Example 4.1: calculate_Ic_and_Ie.sce"
		   ]
		  },
  {
"cell_type": "code",
	   "execution_count": null,
	   "metadata": {
	    "collapsed": true
	   },
	   "outputs": [],
"source": [
"//chapter 4\n",
"//example 4.1\n",
"//page 153\n",
"printf('\n')\n",
"printf('given')\n",
"Adc=.98;Ib=100*10^-6;\n",
"Ic=(Adc*Ib)/(1-Adc);\n",
"printf('value of Ic is %3.3fA\n',Ic)\n",
"Ie=Ic/Adc;\n",
"printf(' value of Ie is %3.3fA\n',Ie)\n",
"Bdc=Adc/(1-Adc);\n",
"disp(Bdc) "
   ]
   }
,
{
		   "cell_type": "markdown",
		   "metadata": {},
		   "source": [
			"## Example 4.2: new_base_current.sce"
		   ]
		  },
  {
"cell_type": "code",
	   "execution_count": null,
	   "metadata": {
	    "collapsed": true
	   },
	   "outputs": [],
"source": [
"//chapter 4\n",
"//example 4.2\n",
"//page 153\n",
"printf('\n')\n",
"printf('given')\n",
"Ic=1*10^-3;Ib=25*10^-6;\n",
"Bdc=Ic/Ib\n",
"Ie=Ic+Ib\n",
"Adc=Ic/Ie\n",
"Ib=Ic/Bdc"
   ]
   }
,
{
		   "cell_type": "markdown",
		   "metadata": {},
		   "source": [
			"## Example 4.3: dc_collector_voltage_and_circuit_voltage_gain.sce"
		   ]
		  },
  {
"cell_type": "code",
	   "execution_count": null,
	   "metadata": {
	    "collapsed": true
	   },
	   "outputs": [],
"source": [
"//chapter 4\n",
"//example 4.1\n",
"//page 153\n",
"printf('\n')\n",
"printf('given')\n",
"Bdc=80;Bac=Bdc;Vcc=18;R1=10*10^3;\n",
"Ib=15*10^-6;//for Vb=.7\n",
"Ic=Bdc*Ib;\n",
"Vc=Vcc-(Ic*R1);\n",
"printf('dc collector voltage is %dV\n',Vc)\n",
"disp(' when vi=50mV')\n",
"Ib=3*10^-6;Vi=50*10^-3;\n",
"Ic=Bdc*Ib\n",
"Vo=Ic*R1\n",
"Av=Vo/Vi"
   ]
   }
,
{
		   "cell_type": "markdown",
		   "metadata": {},
		   "source": [
			"## Example 4.4: calculate_Ic_Ib_and_hFE.sce"
		   ]
		  },
  {
"cell_type": "code",
	   "execution_count": null,
	   "metadata": {
	    "collapsed": true
	   },
	   "outputs": [],
"source": [
"//chapter 4\n",
"//example 4.4\n",
"//page 160\n",
"printf('\n')\n",
"printf('given')\n",
"Vcc=5;Vce=.2;R2=4.7*10^3;Vi=2;Vbe=.7;R1=12*10^3;\n",
"Ic=(Vcc-Vce)/R2\n",
"Ib=(Vi-Vbe)/R1\n",
"hFE=Ic/Ib"
   ]
   }
,
{
		   "cell_type": "markdown",
		   "metadata": {},
		   "source": [
			"## Example 4.6: determine_Ib_and_Ic.sce"
		   ]
		  },
  {
"cell_type": "code",
	   "execution_count": null,
	   "metadata": {
	    "collapsed": true
	   },
	   "outputs": [],
"source": [
"//chapter 4\n",
"//example 4.6\n",
"//page 169\n",
"printf('\n')\n",
"printf('given')\n",
"Vbe=.7;Vce=-6;\n",
"Ib=20*10^-6\n",
"Ic=2.5*10^-3//from output characteristics\n",
"Bdc=Ic/Ib"
   ]
   }
],
"metadata": {
		  "kernelspec": {
		   "display_name": "Scilab",
		   "language": "scilab",
		   "name": "scilab"
		  },
		  "language_info": {
		   "file_extension": ".sce",
		   "help_links": [
			{
			 "text": "MetaKernel Magics",
			 "url": "https://github.com/calysto/metakernel/blob/master/metakernel/magics/README.md"
			}
		   ],
		   "mimetype": "text/x-octave",
		   "name": "scilab",
		   "version": "0.7.1"
		  }
		 },
		 "nbformat": 4,
		 "nbformat_minor": 0
}
