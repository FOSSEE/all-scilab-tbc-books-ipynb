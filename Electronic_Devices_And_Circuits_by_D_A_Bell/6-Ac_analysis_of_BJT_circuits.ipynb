{
"cells": [
 {
		   "cell_type": "markdown",
	   "metadata": {},
	   "source": [
       "# Chapter 6: Ac analysis of BJT circuits"
	   ]
	},
{
		   "cell_type": "markdown",
		   "metadata": {},
		   "source": [
			"## Example 6.10: circuit_input_and_output_impedance_and_voltage_gain.sce"
		   ]
		  },
  {
"cell_type": "code",
	   "execution_count": null,
	   "metadata": {
	    "collapsed": true
	   },
	   "outputs": [],
"source": [
"//chapter 6\n",
"//example 6.10\n",
"//page 273\n",
"printf('\n')\n",
"printf('given')\n",
"hie=2.1*10^3;hfe=75;Re=4.7*10^3;Rc=3.9*10^3;Rl=82*10^3;\n",
"hib=hie/(1+hfe)\n",
"hfb=hfe/(1+hfe)\n",
"Zi=(hib*Re)/(Re+hib);\n",
"printf('input impedance is %3.2fohm\n',Zi)\n",
"Zo=Rc;\n",
"printf(' output impedance is %3.2fohm\n',Zo)\n",
"Av=(hfb*((Rc*Rl)/(Rc+Rl)))/hib;\n",
"printf(' voltage gain is %3.2f\n',Av)"
   ]
   }
,
{
		   "cell_type": "markdown",
		   "metadata": {},
		   "source": [
			"## Example 6.11: input_impedance_and_voltage_gain_when_C1_is_disconnected.sce"
		   ]
		  },
  {
"cell_type": "code",
	   "execution_count": null,
	   "metadata": {
	    "collapsed": true
	   },
	   "outputs": [],
"source": [
"//chapter 6\n",
"//example 6.11\n",
"//page 273\n",
"printf('\n')\n",
"printf('given')\n",
"hib=27.6;hfb=.987;R1=68*10^3;R2=56*10^3;Re=4.7*10^3;Rc=3.9*10^3;Rl=82*10^3;\n",
"Rb=(R1*R2)/(R1+R2);\n",
"Ze=hib+Rb*(1-hfb)\n",
"Zi=(Ze*Re)/(Ze+Re)\n",
"Av=(hfb*((Rc*Rl)/(Rc+Rl)))/(hib+Rb*(1-hfb))"
   ]
   }
,
{
		   "cell_type": "markdown",
		   "metadata": {},
		   "source": [
			"## Example 6.12: calculate_vo.sce"
		   ]
		  },
  {
"cell_type": "code",
	   "execution_count": null,
	   "metadata": {
	    "collapsed": true
	   },
	   "outputs": [],
"source": [
"//chapter 6\n",
"//example 6.12\n",
"//page 277\n",
"printf('\n')\n",
"printf('given')\n",
"Rc=5.6*10^3;Rl=33*10^3;rs=600;\n",
"hfe=100;hie=1.5*10^3;vs=50*10^-3;\n",
"disp(' CE circuit operation with vs at transistor base and Re bypassed')\n",
"Av=(hfe*((Rc*Rl)/(Rc+Rl)))/hie\n",
"Zb=hie\n",
"Rb=(R1*R2)/(R1+R2);\n",
"Zi=(Rb*Zb)/(Rb+Zb)\n",
"vi=(vs*Zi)/(rs+Zi)\n",
"vo=Av*vi\n",
"disp('Cb circuit operation with vs at emitter and the base resistor bypassed')\n",
"Av=(hfe*((Rc*Rl)/(Rc+Rl)))/hie\n",
"Ze=hie/(1+hfe)\n",
"Zi=(Ze*Re)/(Ze+Re)\n",
"vi=(vs*Zi)/(rs+Zi)\n",
"vo=Av*vi"
   ]
   }
,
{
		   "cell_type": "markdown",
		   "metadata": {},
		   "source": [
			"## Example 6.13: calculate_Ic_Ie_and_Ib.sce"
		   ]
		  },
  {
"cell_type": "code",
	   "execution_count": null,
	   "metadata": {
	    "collapsed": true
	   },
	   "outputs": [],
"source": [
"//chapter 6\n",
"//example 6.13\n",
"//page 279\n",
"printf('\n')\n",
"printf('given')\n",
"Io=50*10^-9;Vbe=.7;Vbc=-10;Af=.995;Ar=.5;Vt=26*10^-3;n=2;Vd=-10;\n",
"x=Vd/(n*Vt);\n",
"Idc=(Io*((2.73^-x)-1))*10^9;\n",
"Idc=Io*(-1)\n",
"y=Vbe/(n*Vt);\n",
"Ide=Io*((2.73^y)-1)\n",
"I1=Af*Ide\n",
"I2=Ar*Idc\n",
"Ic=I1-Idc\n",
"Ie=Ide-I2\n",
"Ib=Ie-Ic"
   ]
   }
,
{
		   "cell_type": "markdown",
		   "metadata": {},
		   "source": [
			"## Example 6.1: calculate_base_bais_voltage.sce"
		   ]
		  },
  {
"cell_type": "code",
	   "execution_count": null,
	   "metadata": {
	    "collapsed": true
	   },
	   "outputs": [],
"source": [
"//chapter 6\n",
"//example 6.1\n",
"//page 240\n",
"printf('\n')\n",
"printf('given')\n",
"Vcc=12;R2=15*10^3;R1=33*10^3;rs=600;\n",
"disp('with no signal source')\n",
"Vb=(Vcc*R2)/(R1+R2);\n",
"printf(' base bais voltage when no signal source is present %3.2fV\n',Vb)\n",
"disp(' signal source directly connected')\n",
"Vb=(Vcc*((rs*R2)/(rs+R2))/(R1+((rs*R2)/(rs+R2))));\n",
"printf('base bais voltage is %3.2fV\n',Vb)"
   ]
   }
,
{
		   "cell_type": "markdown",
		   "metadata": {},
		   "source": [
			"## Example 6.2: Dc_and_Ac_load_line.sce"
		   ]
		  },
  {
"cell_type": "code",
	   "execution_count": null,
	   "metadata": {
	    "collapsed": true
	   },
	   "outputs": [],
"source": [
"//chapter 6\n",
"//example 6.2\n",
"//page 244\n",
"printf('\n')\n",
"printf('given')\n",
"Rc=2.2*10^3;Re=2.7*10^3;R1=18*10^3;R2=8.2*10^3;Vbe=.7\n",
"disp('drawing dc load line')\n",
"Rldc=Rc+Re\n",
"disp(' for Vce')\n",
"Ic=0;Vcc=20;\n",
"Vce=Vcc-Ic*(Rc+Re)\n",
"disp('plot point A at')\n",
"Ic=Vcc/(Rc+Re)\n",
"disp('plot point B Ic=4.08mA and Vce=0')\n",
"disp(' draw dc laod line through point A nad B')\n",
"Vb=(Vcc*R2)/(R1+R2)\n",
"Ve=Vb-Vbe\n",
"Ic=Ve/Re\n",
"Ie=Ic\n",
"disp('drawing the ac load line')\n",
"Rlac=Rc//when there is no external Rl\n",
"Vce=Ic*Rc"
   ]
   }
,
{
		   "cell_type": "markdown",
		   "metadata": {},
		   "source": [
			"## Example 6.3: determine_hfe_and_hoe.sce"
		   ]
		  },
  {
"cell_type": "code",
	   "execution_count": null,
	   "metadata": {
	    "collapsed": true
	   },
	   "outputs": [],
"source": [
"//chapter 6\n",
"//example 6.2\n",
"//page 251\n",
"printf('\n')\n",
"printf('given')\n",
"Vce=4.5;Ib=40*10^-6;\n",
"disp('from current characteristic at Vce=4.5V and Ib=40uA')\n",
"Ic=4*10^-3;Ib=30*10^-6;\n",
"hFE=Ic/Ib;\n",
"printf(' the value of hFE is %d\n',hFE)\n",
"disp('from output characteristic at Vce=4.5 and Ib=40uA')\n",
"Ic=400*10^-3;Vce=6;\n",
"hoe=(Ic/Vce)*10^6;\n",
"printf('tye value of hoe is %3.2fuS\n',hoe)"
   ]
   }
,
{
		   "cell_type": "markdown",
		   "metadata": {},
		   "source": [
			"## Example 6.4: calculate_hfc_hob_and_alfa.sce"
		   ]
		  },
  {
"cell_type": "code",
	   "execution_count": null,
	   "metadata": {
	    "collapsed": true
	   },
	   "outputs": [],
"source": [
"//chapter 6\n",
"//example 6.4\n",
"//page 253\n",
"printf('\n')\n",
"printf('given')\n",
"hfe=133;hoe=33.3*10^-6;\n",
"hfc=1+hfe\n",
"hob=hoe/(1+hfe)\n",
"A=hfe/(1+hfe)"
   ]
   }
,
{
		   "cell_type": "markdown",
		   "metadata": {},
		   "source": [
			"## Example 6.5: estimate_the_CE_input_resistance.sce"
		   ]
		  },
  {
"cell_type": "code",
	   "execution_count": null,
	   "metadata": {
	    "collapsed": true
	   },
	   "outputs": [],
"source": [
"//chapter 6\n",
"//example 6.5\n",
"//page 253\n",
"printf('\n')\n",
"printf('given')\n",
"Ib=20*10^-6;Ic=1*10^-3;\n",
"Ie=Ic;\n",
"re=(26*10^-3)/Ie\n",
"hfe=Ic/Ib\n",
"hie=(1+hfe)*re\n",
"r=hie\n",
"B=hfe"
   ]
   }
,
{
		   "cell_type": "markdown",
		   "metadata": {},
		   "source": [
			"## Example 6.6: circuit_input_and_output_impedance_voltage_gain.sce"
		   ]
		  },
  {
"cell_type": "code",
	   "execution_count": null,
	   "metadata": {
	    "collapsed": true
	   },
	   "outputs": [],
"source": [
"//chapter 6\n",
"//example 6.6\n",
"//page 258\n",
"printf('\n')\n",
"printf('given')\n",
"hie=2.1*10^3;hfe=75;hoe=1*10^-6;R1=68*10^3;R2=56*10^3;Rc=3.9*10^3;Rl=82*10^3;\n",
"disp(' input impedance Zi=R1||R2||hie')\n",
"Zi=((R1*R2*hie)/(R1+R2+hie))*10^-3;\n",
"printf(' input impedance is %3.2fKohm\n',Zi)\n",
"disp('output impedance is Zo=Rc||(1/hoe)')\n",
"Zo=((Rc*(1/hoe))/(Rc+(1/hoe)))*10^-3;\n",
"printf(' output impadance is %f3.2fKohm\n',Zo)\n",
"Av=-(hfe*((Rc*Rl)/(Rc+Rl)))/hie;\n",
"printf(' voltage gain is %d\n',Av)"
   ]
   }
,
{
		   "cell_type": "markdown",
		   "metadata": {},
		   "source": [
			"## Example 6.7: estimate_re_and_circuit_voltage_gain.sce"
		   ]
		  },
  {
"cell_type": "code",
	   "execution_count": null,
	   "metadata": {
	    "collapsed": true
	   },
	   "outputs": [],
"source": [
"//chapter 6\n",
"//example 6.7\n",
"//page 259\n",
"printf('\n')\n",
"printf('given')\n",
"Ic=1.5*10^-3;Rc=4.7*10^3;Rl=56*10^3;\n",
"Ie=Ic;\n",
"re=(26*10^-3)/Ie\n",
"Av=-(((Rc*Rl)/(Rc+Rl))/re);\n",
"printf(' voltage gain is %d\n',Av)"
   ]
   }
,
{
		   "cell_type": "markdown",
		   "metadata": {},
		   "source": [
			"## Example 6.8: circuit_input_and_output_impedance_and_voltage_gain.sce"
		   ]
		  },
  {
"cell_type": "code",
	   "execution_count": null,
	   "metadata": {
	    "collapsed": true
	   },
	   "outputs": [],
"source": [
"//chapter 6\n",
"//example 6.8\n",
"//page 262\n",
"printf('\n')\n",
"printf('given')\n",
"hie=2.1*10^3;hfe=75;hoe=1*10^-6;Re=4.7*10^3;R1=68*10^3;R2=56*10^3;Rc=3.9*10^3;Rl=82*10^3;\n",
"Zb=hie+Re*(1+hfe)\n",
"disp(' input impedance is Zi=R1||R2||Zb')\n",
"Zi=((R1*R2*Zb)/(R1+R2+Zb));\n",
"printf(' input circuit resistance is %3.3fKohm\n',Zi)\n",
"Zo=Rc\n",
"\n",
"Av=-hfe*((Rc*Rl)/(Rc+Rl))/(hie+Re*(1+hfe));\n",
"printf('voltage gain is %3.3f\n',Av)"
   ]
   }
,
{
		   "cell_type": "markdown",
		   "metadata": {},
		   "source": [
			"## Example 6.9: circuit_input_and_output_impedance_with_Rl_not_connected.sce"
		   ]
		  },
  {
"cell_type": "code",
	   "execution_count": null,
	   "metadata": {
	    "collapsed": true
	   },
	   "outputs": [],
"source": [
"//chapter 6\n",
"//example 6.9\n",
"//page 267\n",
"printf('\n')\n",
"printf('given')\n",
"hie=2.1*10^3;hfe=75;R1=10*10^3;R2=10*10^3;Re=4.7*10^3;Rl=12*10^3;rs=1*10^3;\n",
"disp(' Rl is not connected')\n",
"hic=hie\n",
"hfc=1+hfe\n",
"Zb=hic+hfc*(Re)\n",
"Zi=(R1*R2*Zb)/(R1+R2+Zb)\n",
"Ze=(hic+(R1*R2*rs)/(R1+R2+rs))/hfc\n",
"Z0=(Ze*Re)/(Ze+Re)\n",
"disp(' when Rl is connected')\n",
"Zb=hic+hfc*((Re*Rl)/(Re+Rl))\n",
"Zi=(R1*R2*Zb)/(R1+R2+Zb)\n",
"hib=hie/(1+hfe)\n",
"Av=((Re*Rl)/(Re+Rl))/(hib+((Re*Rl)/(Re+Rl)))"
   ]
   }
],
"metadata": {
		  "kernelspec": {
		   "display_name": "Scilab",
		   "language": "scilab",
		   "name": "scilab"
		  },
		  "language_info": {
		   "file_extension": ".sce",
		   "help_links": [
			{
			 "text": "MetaKernel Magics",
			 "url": "https://github.com/calysto/metakernel/blob/master/metakernel/magics/README.md"
			}
		   ],
		   "mimetype": "text/x-octave",
		   "name": "scilab",
		   "version": "0.7.1"
		  }
		 },
		 "nbformat": 4,
		 "nbformat_minor": 0
}
