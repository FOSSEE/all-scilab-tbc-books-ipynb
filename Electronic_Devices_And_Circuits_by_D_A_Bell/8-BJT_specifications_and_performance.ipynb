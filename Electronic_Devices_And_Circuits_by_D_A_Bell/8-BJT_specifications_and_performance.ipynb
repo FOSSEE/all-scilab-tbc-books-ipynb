{
"cells": [
 {
		   "cell_type": "markdown",
	   "metadata": {},
	   "source": [
       "# Chapter 8: BJT specifications and performance"
	   ]
	},
{
		   "cell_type": "markdown",
		   "metadata": {},
		   "source": [
			"## Example 8.10: total_noise_output_voltage_for_amlifier.sce"
		   ]
		  },
  {
"cell_type": "code",
	   "execution_count": null,
	   "metadata": {
	    "collapsed": true
	   },
	   "outputs": [],
"source": [
"//chapter 8\n",
"//example 8.10\n",
"//page 331\n",
"printf('\n')\n",
"printf('given')\n",
"Ic=30*10^-6;Vce=5;eno=354*10^-6;\n",
"NF=10;\n",
"F=2.51;//F=antilog(NF/10)\n",
"Vn=((sqrt(F))*eno)*10^6;\n",
"printf('total noise output volateg for amplifier is %duV\n',Vn)"
   ]
   }
,
{
		   "cell_type": "markdown",
		   "metadata": {},
		   "source": [
			"## Example 8.11: calculate_maximum_Ic.sce"
		   ]
		  },
  {
"cell_type": "code",
	   "execution_count": null,
	   "metadata": {
	    "collapsed": true
	   },
	   "outputs": [],
"source": [
"//chapter 8\n",
"//example 8.11\n",
"//page 333\n",
"printf('\n')\n",
"printf('given')\n",
"Pd25=625*10^-3;D=5*10^-3;Vce=10;\n",
"T2=55;\n",
"Pdt2=Pd25-D*(T2-25)\n",
"Pd=Pdt2;\n",
"Ic=Pd/Vce;\n",
"printf(' maximum Ic level is %3.5fA\n',Ic)"
   ]
   }
,
{
		   "cell_type": "markdown",
		   "metadata": {},
		   "source": [
			"## Example 8.13: maximum_power_dissipatio.sce"
		   ]
		  },
  {
"cell_type": "code",
	   "execution_count": null,
	   "metadata": {
	    "collapsed": true
	   },
	   "outputs": [],
"source": [
"//chapter 8\n",
"//example 8.13\n",
"//page 335\n",
"printf('\n')\n",
"printf('given')\n",
"Pd=80;\n",
"Vce=60;\n",
"Ic=Pd/Vce\n",
"disp('point 1 Vce=60 and Ic=1.3A')\n",
"Vce=40;\n",
"Ic=Pd/Vce\n",
"disp('point 2 Vce=40 and Ic=2A')\n",
"Vce=20;\n",
"Ic=Pd/Vce\n",
"disp(' point 3 Vce=20 and Ic=4A')\n",
"Vce=10;\n",
"Ic=Pd/Vce\n",
"disp(' point 4 Vce=10 and Ic=8A')"
   ]
   }
,
{
		   "cell_type": "markdown",
		   "metadata": {},
		   "source": [
			"## Example 8.14: thermal_resistance.sce"
		   ]
		  },
  {
"cell_type": "code",
	   "execution_count": null,
	   "metadata": {
	    "collapsed": true
	   },
	   "outputs": [],
"source": [
"//chapter 8\n",
"//example 8.14\n",
"//page 339\n",
"printf('\n')\n",
"printf('given')\n",
"Vce=20;Ic=1;T2=90;T1=25;\n",
"Q=Vce*Ic;\n",
"Qcs=.4;Qjc=1;//from table\n",
"Qsa=((T2-T1)/Q)-(Qjc+Qcs)"
   ]
   }
,
{
		   "cell_type": "markdown",
		   "metadata": {},
		   "source": [
			"## Example 8.2: output_power_change.sce"
		   ]
		  },
  {
"cell_type": "code",
	   "execution_count": null,
	   "metadata": {
	    "collapsed": true
	   },
	   "outputs": [],
"source": [
"//chapter 8\n",
"//example 8.2\n",
"//page 313\n",
"printf('\n')\n",
"printf('given')\n",
"P2=25*10^-3;//when frequency increase to 20KHz\n",
"P1=50*10^-3;//when signal frequency is 5KHz\n",
"Po=10*log10(P2/P1);\n",
"printf(' output power change in decibels is %ddB\n',Po)"
   ]
   }
,
{
		   "cell_type": "markdown",
		   "metadata": {},
		   "source": [
			"## Example 8.3: output_power_change.sce"
		   ]
		  },
  {
"cell_type": "code",
	   "execution_count": null,
	   "metadata": {
	    "collapsed": true
	   },
	   "outputs": [],
"source": [
"//chapter 8\n",
"//example 8.3\n",
"//page 314\n",
"printf('\n')\n",
"printf('given')\n",
"v1=1;// output voltage measured at 5KHz\n",
"v2=.707;// output voltage measure at 20kHz\n",
"Po=20*log10(v2/v1);\n",
"printf(' output power change is %ddB\n',Po)"
   ]
   }
,
{
		   "cell_type": "markdown",
		   "metadata": {},
		   "source": [
			"## Example 8.4: input_capacitance.sce"
		   ]
		  },
  {
"cell_type": "code",
	   "execution_count": null,
	   "metadata": {
	    "collapsed": true
	   },
	   "outputs": [],
"source": [
"//chapter 8\n",
"//example 8.4\n",
"//page 317\n",
"printf('\n')\n",
"printf('given')\n",
"Ic=1*10^-3;hfe=50;hie=1.3*10^3;fT=250*10^6;Cbc=5*10^-12;Rc=8.2*10^3;Rl=100*10^3;\n",
"Ie=Ic;\n",
"Av=(hfe*((Rc*Rl)/(Rc+Rl)))/hie\n",
"Cbe=(6.1*Ie)/fT;\n",
"Cin=(Cbe+(1+Av)*Cbc)*10^9;\n",
"printf(' input capacitance when the circuit operated as CE is %3.3fnF\n',Cin)"
   ]
   }
,
{
		   "cell_type": "markdown",
		   "metadata": {},
		   "source": [
			"## Example 8.5: input_capacitance_limited_upper_cutoff_frequency.sce"
		   ]
		  },
  {
"cell_type": "code",
	   "execution_count": null,
	   "metadata": {
	    "collapsed": true
	   },
	   "outputs": [],
"source": [
"//chapter 8\n",
"//example 8.5\n",
"//page 319\n",
"printf('\n')\n",
"printf('given')\n",
"R1=100*10^3;R2=47*10^3;Re=4.7*10^3;\n",
"Cbc=5*10^-12;Cbe=24.4*10^-12;hfe=50;hie=1.3*10^3;hib=24.5;rs=hib;rs=600;\n",
"disp(' common emitter circuit')\n",
"Rb=(R1*R2)/(R1+R2);\n",
"Zi=(Rb*hie)/(Rb+hie)\n",
"Cin=1.48*10^-9;\n",
"f2=1/(2*3.14*Cin*((rs*Zi)/(rs+Zi)));\n",
"printf('input-capacitance upper cutoff frequency is %dHz\n',f2)\n",
"disp('common base circuit')\n",
"Zi=(Re*hib)/(Re+hib)\n",
"Cin=(Cbe+Cbc)\n",
"f2=(1/(2*3.14*Cin*((rs*Zi)/(rs+Zi))))*10^-6;\n",
"printf(' input capacitance upper cutoff when operating as CB circuit with base bypassed to ground is %dMHz\n',f2)"
   ]
   }
,
{
		   "cell_type": "markdown",
		   "metadata": {},
		   "source": [
			"## Example 8.6: upper_3db_frequency.sce"
		   ]
		  },
  {
"cell_type": "code",
	   "execution_count": null,
	   "metadata": {
	    "collapsed": true
	   },
	   "outputs": [],
"source": [
"//chapter 8\n",
"//example 8.6\n",
"//page 322\n",
"printf('\n')\n",
"printf('given')\n",
"fT=50*10^6;hfe=50;f2o=60*10^3;Rc=10*10^3;\n",
"fae=fT/hfe\n",
"C4=(1/(2*3.14*f2o*Rc))*10^12;\n",
"printf('capacitance required for C4 to give 60kHz upper cutoff frequency is %dpF\n',C4)"
   ]
   }
,
{
		   "cell_type": "markdown",
		   "metadata": {},
		   "source": [
			"## Example 8.8: calculate_suitable_speed_up_capacitor.sce"
		   ]
		  },
  {
"cell_type": "code",
	   "execution_count": null,
	   "metadata": {
	    "collapsed": true
	   },
	   "outputs": [],
"source": [
"//chapter 8\n",
"//example 8.8\n",
"//page 326\n",
"printf('\n')\n",
"printf('given')\n",
"ton=100*10^-9;Rs=600;Rb=4.7*10^3;\n",
"C1=(ton/Rs)*10^12;\n",
"printf(' suitable speed up capacitor is %dpF\n',C1)\n",
"C1=160*10^-12;//standard value\n",
"PWmin=(5*Rs*C1);\n",
"SWmin=5*Rb*C1;\n",
"fmax=1/(PWmin+SWmin);\n",
"printf('maximum signal frequency is %dHz\n',fmax)"
   ]
   }
,
{
		   "cell_type": "markdown",
		   "metadata": {},
		   "source": [
			"## Example 8.9: noise_output_voltage.sce"
		   ]
		  },
  {
"cell_type": "code",
	   "execution_count": null,
	   "metadata": {
	    "collapsed": true
	   },
	   "outputs": [],
"source": [
"//chapter 8\n",
"//example 8.9\n",
"//page 330\n",
"printf('\n')\n",
"printf('given')\n",
"R1=30*10^3;R2=30*10^3;rs=30*10^3;f2=40*10^3;f1=100;k=1.37*10^-23;R=10*10^3;Av=600;Ri=3*10^3;\n",
"Rb=(R1*R2)/(R1+R2);\n",
"Rg=(rs*Rb)/(rs+Rb);\n",
"T=(273+25)\n",
"B=f2-f1;\n",
"en=sqrt(4*k*T*B*R)\n",
"eni=en*((Ri/(Ri+Rg)))\n",
"eno=(Av*eni)*10^6;\n",
"printf('noise output voltage is %duV\n',eno)"
   ]
   }
],
"metadata": {
		  "kernelspec": {
		   "display_name": "Scilab",
		   "language": "scilab",
		   "name": "scilab"
		  },
		  "language_info": {
		   "file_extension": ".sce",
		   "help_links": [
			{
			 "text": "MetaKernel Magics",
			 "url": "https://github.com/calysto/metakernel/blob/master/metakernel/magics/README.md"
			}
		   ],
		   "mimetype": "text/x-octave",
		   "name": "scilab",
		   "version": "0.7.1"
		  }
		 },
		 "nbformat": 4,
		 "nbformat_minor": 0
}
