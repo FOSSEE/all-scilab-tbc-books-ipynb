{
"cells": [
 {
		   "cell_type": "markdown",
	   "metadata": {},
	   "source": [
       "# Chapter 15: Operational amplifier frequency Response and compensation"
	   ]
	},
{
		   "cell_type": "markdown",
		   "metadata": {},
		   "source": [
			"## Example 15.2: determine_suitable_component.sce"
		   ]
		  },
  {
"cell_type": "code",
	   "execution_count": null,
	   "metadata": {
	    "collapsed": true
	   },
	   "outputs": [],
"source": [
"//chapter 15\n",
"//example 15.2\n",
"//page 648\n",
"printf('\n')\n",
"printf('given')\n",
"R2=1*10^6;Acl=4.5;\n",
"R1=R2/Acl\n",
"R1=220*10^3;//use standard value\n",
"R3=(R1*R2)/(R1+R2)\n",
"Cf=((R1*30*10^-12)/(R1+R2))*10^12;\n",
"printf(' suitable value of capacitor is %3.2fpF\n',Cf)"
   ]
   }
,
{
		   "cell_type": "markdown",
		   "metadata": {},
		   "source": [
			"## Example 15.3: miller_effect_capacitor.sce"
		   ]
		  },
  {
"cell_type": "code",
	   "execution_count": null,
	   "metadata": {
	    "collapsed": true
	   },
	   "outputs": [],
"source": [
"//chapter 15\n",
"//example 15.3\n",
"//page 649\n",
"printf('\n')\n",
"printf('given')\n",
"f=35*10^3;Rf=68*10^3;\n",
"Cf=(1/(2*3.14*f*Rf))*10^12;\n",
"printf(' suitable miller effect capacitor is %dpF\n',Cf)"
   ]
   }
,
{
		   "cell_type": "markdown",
		   "metadata": {},
		   "source": [
			"## Example 15.5: cutoff_frequencies_using_gain_bandwidth.sce"
		   ]
		  },
  {
"cell_type": "code",
	   "execution_count": null,
	   "metadata": {
	    "collapsed": true
	   },
	   "outputs": [],
"source": [
"//chapter 15\n",
"//example 15.5\n",
"//page 652\n",
"printf('\n')\n",
"printf('given')\n",
"Acl=100;Av=10;\n",
"disp(' for Cf=30pF')\n",
"GBW=800*10^3;\n",
"F2=GBW/Acl\n",
"disp(' for Cf=3pF')\n",
"GBW=(800*10^3)*Av;\n",
"f2=GBW/Acl"
   ]
   }
,
{
		   "cell_type": "markdown",
		   "metadata": {},
		   "source": [
			"## Example 15.6: full_power_bandwidth_for_AD843_op_amp_circuit.sce"
		   ]
		  },
  {
"cell_type": "code",
	   "execution_count": null,
	   "metadata": {
	    "collapsed": true
	   },
	   "outputs": [],
"source": [
"//chapter 15\n",
"//example 15.6\n",
"//page 654\n",
"printf('\n')\n",
"printf('given')\n",
"Vip=1;R2=39*10^3;R3=4.7*10^3;SR=250/10^-6;f=100*10^3;\n",
"disp(' for the AD843')\n",
"Vop=((R2+R3)/R3)*Vip\n",
"fp=SR/(2*3.14*Vop);\n",
"printf('full power bandwidth is %dHz\n',fp)\n",
"disp(' for a 741')\n",
"SR=.5/10^-6;\n",
"Vp=SR/(2*3.14*f);\n",
"printf(' maximum peak output voltage is %3.2fV\n',Vp)"
   ]
   }
,
{
		   "cell_type": "markdown",
		   "metadata": {},
		   "source": [
			"## Example 15.7: input_terminal_stray_capacitor.sce"
		   ]
		  },
  {
"cell_type": "code",
	   "execution_count": null,
	   "metadata": {
	    "collapsed": true
	   },
	   "outputs": [],
"source": [
"//chapter 15\n",
"//example 15.7\n",
"//page 656\n",
"printf('\n')\n",
"printf('given')\n",
"rs=600;R1=1*10^3;R2=10*10^3;f=800*10^3;\n",
"disp(' stray capacitance')\n",
"Cs=1/(2*3.14*f*10*(((rs+R1)*R2)/(rs+R1+R2)))\n",
"disp('compensation capacitor')\n",
"C2=((Cs*(rs+R1))/R2)*10^12;\n",
"printf('compensation capacitor is %3.2fpF\n',C2)"
   ]
   }
,
{
		   "cell_type": "markdown",
		   "metadata": {},
		   "source": [
			"## Example 15.8: load_capacitance.sce"
		   ]
		  },
  {
"cell_type": "code",
	   "execution_count": null,
	   "metadata": {
	    "collapsed": true
	   },
	   "outputs": [],
"source": [
"//chapter 15\n",
"//example 15.8\n",
"//page 659\n",
"printf('\n')\n",
"printf('given')\n",
"ro=25;f=2*10^6;R2=10*10^3;Rx=25;\n",
"Cl=(1/(2*3.14*f*(10*ro)))*10^+12;\n",
"printf(' load capacitance is %3.2fpF\n',Cl)\n",
"Cl=.1*10^-6;\n",
"C2=((Cl*(ro+Rx))/R2)*10^12;\n",
"printf(' compensation capacitance is %dpF\n',C2)"
   ]
   }
],
"metadata": {
		  "kernelspec": {
		   "display_name": "Scilab",
		   "language": "scilab",
		   "name": "scilab"
		  },
		  "language_info": {
		   "file_extension": ".sce",
		   "help_links": [
			{
			 "text": "MetaKernel Magics",
			 "url": "https://github.com/calysto/metakernel/blob/master/metakernel/magics/README.md"
			}
		   ],
		   "mimetype": "text/x-octave",
		   "name": "scilab",
		   "version": "0.7.1"
		  }
		 },
		 "nbformat": 4,
		 "nbformat_minor": 0
}
