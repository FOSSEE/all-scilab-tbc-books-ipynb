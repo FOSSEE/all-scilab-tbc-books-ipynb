{
"cells": [
 {
		   "cell_type": "markdown",
	   "metadata": {},
	   "source": [
       "# Chapter 17: Active filters"
	   ]
	},
{
		   "cell_type": "markdown",
		   "metadata": {},
		   "source": [
			"## Example 17.10: center_frequency_and_bandwidth.sce"
		   ]
		  },
  {
"cell_type": "code",
	   "execution_count": null,
	   "metadata": {
	    "collapsed": true
	   },
	   "outputs": [],
"source": [
"//chapter 17\n",
"//example 17.10\n",
"//page 737\n",
"printf('\n')\n",
"printf('given')\n",
"R1=60.4*10^3;R4=1.21*10^3;C=.012*10^-6;R2=121*10^3;\n",
"Q=sqrt((R1+R4)/(2*R4))\n",
"fo=Q/(3.14*C*R2);\n",
"printf(' center frequency is %3.2fHz\n',fo)\n",
"BW=fo/Q;\n",
"printf(' bandwidth is %3.1fHz\n',BW)"
   ]
   }
,
{
		   "cell_type": "markdown",
		   "metadata": {},
		   "source": [
			"## Example 17.12: state_variable_band_pass_filter.sce"
		   ]
		  },
  {
"cell_type": "code",
	   "execution_count": null,
	   "metadata": {
	    "collapsed": true
	   },
	   "outputs": [],
"source": [
"//chapter 17\n",
"//example 17.12\n",
"//page 744\n",
"printf('\n')\n",
"printf('given')\n",
"f1=10.3*10^3;f2=10.9*10^3;\n",
"C1=1000*10^-12;C2=C1;\n",
"fo=sqrt(f1*f2)\n",
"R5=1/(2*3.14*fo*C1)\n",
"R1=R5;\n",
"Q=fo/(f2-f1)\n",
"R2=R1*(2*Q-1)"
   ]
   }
,
{
		   "cell_type": "markdown",
		   "metadata": {},
		   "source": [
			"## Example 17.13: required_resistance_to_operate_one_half_of_an_MF10.sce"
		   ]
		  },
  {
"cell_type": "code",
	   "execution_count": null,
	   "metadata": {
	    "collapsed": true
	   },
	   "outputs": [],
"source": [
"//chapter 17\n",
"//example 17.13\n",
"//page 750\n",
"printf('\n')\n",
"printf('given')\n",
"f1=10.3*10^3;f2=10.9*10^3;Hobp=34;\n",
"sqrt(f1*f2)\n",
"Q=fo/(f2-f1)\n",
"R3=120*10^3;\n",
"R2=R3/Q\n",
"R1=R3/Hobp\n",
"fck=50*fo"
   ]
   }
,
{
		   "cell_type": "markdown",
		   "metadata": {},
		   "source": [
			"## Example 17.1: calculate_attenuation.sce"
		   ]
		  },
  {
"cell_type": "code",
	   "execution_count": null,
	   "metadata": {
	    "collapsed": true
	   },
	   "outputs": [],
"source": [
"//chapter 17\n",
"//example 17.1\n",
"//page 716\n",
"printf('\n')\n",
"printf('given')\n",
"rs=600;R1=12*10^3;Rl=100*10^3;C1=.013*10^-6;\n",
"disp('when Rl is not connected')\n",
"fc=1/(2*3.14*R1*C1)\n",
"disp(' when Rl is connected')\n",
"fc=1/(2*3.14*((R1*Rl)/(R1+Rl))*C1)\n",
"Attn=3//at fc attenuation is =3dB\n",
"falloffrate=6\n",
"disp('attenuation at 2fc')\n",
"Attn=3+6;\n",
"printf('attenuation at 2fc is %ddB\n',Attn)\n",
"Attn=3+6+6;\n",
"printf(' attenuation at 4fc is %ddB\n',Attn)"
   ]
   }
,
{
		   "cell_type": "markdown",
		   "metadata": {},
		   "source": [
			"## Example 17.2: first_order_active_low_pass_filter.sce"
		   ]
		  },
  {
"cell_type": "code",
	   "execution_count": null,
	   "metadata": {
	    "collapsed": true
	   },
	   "outputs": [],
"source": [
"//chapter 17\n",
"//example 17.2\n",
"//page 718\n",
"printf('\n')\n",
"printf('given')\n",
"Ib=500*10^-9;f=1*10^3;\n",
"R1=(70*10^-3)/Ib\n",
"R1=140*10^3;//use standard value\n",
"R2=R1;\n",
"C1=(1/(2*3.14*R1*f))*10^12;\n",
"printf(' capacitor used is of %dpF\n',C1)"
   ]
   }
,
{
		   "cell_type": "markdown",
		   "metadata": {},
		   "source": [
			"## Example 17.3: first_order_high_pass_filterand_filter_bandwidth.sce"
		   ]
		  },
  {
"cell_type": "code",
	   "execution_count": null,
	   "metadata": {
	    "collapsed": true
	   },
	   "outputs": [],
"source": [
"//chapter 17\n",
"//example 17.3\n",
"//page 719\n",
"printf('\n')\n",
"printf('given')\n",
"disp('first order high pass active filter')\n",
"f=5*10^3;C1=1000*10^-12;fu=1*10^6;\n",
"R1=1/(2*3.14*f*C1)\n",
"BW=fu-f;\n",
"printf(' bandwidth is %dHz\n',BW)"
   ]
   }
,
{
		   "cell_type": "markdown",
		   "metadata": {},
		   "source": [
			"## Example 17.4: butterworth_second_order_low_pass_filter.sce"
		   ]
		  },
  {
"cell_type": "code",
	   "execution_count": null,
	   "metadata": {
	    "collapsed": true
	   },
	   "outputs": [],
"source": [
"//chapter 17\n",
"//example 17.4\n",
"//page 724\n",
"printf('\n')\n",
"printf('given')\n",
"f=1*10^3;Ib=500*10^-9;\n",
"disp('butterworth second order filter')\n",
"R=(70*10^-3)/Ib\n",
"R1=R/2\n",
"R1=68.1*10^3;//use standard value\n",
"R2=R1; \n",
"R3=2*R1\n",
"Xc1=sqrt(2)*R2\n",
"C1=1/(2*3.14*f*sqrt(2)*R2)\n",
"C2=2*C1\n",
"fc=1/(2*3.14*(sqrt(R1*R2*C1*C2)));\n",
"printf('actual cutoff frequency is %dHz\n',fc)"
   ]
   }
,
{
		   "cell_type": "markdown",
		   "metadata": {},
		   "source": [
			"## Example 17.5: using_BIFET_op_amp_design_butterworth_second_order_filter.sce"
		   ]
		  },
  {
"cell_type": "code",
	   "execution_count": null,
	   "metadata": {
	    "collapsed": true
	   },
	   "outputs": [],
"source": [
"//chapter 17\n",
"//example 17.5\n",
"//page 7\n",
"printf('\n')\n",
"printf('given')\n",
"f=12*10^3;C1=1000*10^-12;\n",
"disp('butterworth second order filter')\n",
"C2=C1;\n",
"R2=(sqrt(2))/(2*3.14*f*C1)\n",
"R1=.5*R2\n",
"R3=R2;\n",
"fc=1/(2*3.14*(sqrt(R1*R2*C1*C2)));\n",
"printf('actual cutoff frequency is %dHz\n',fc)"
   ]
   }
,
{
		   "cell_type": "markdown",
		   "metadata": {},
		   "source": [
			"## Example 17.6: third_order_low_pass_filter.sce"
		   ]
		  },
  {
"cell_type": "code",
	   "execution_count": null,
	   "metadata": {
	    "collapsed": true
	   },
	   "outputs": [],
"source": [
"//chapter 17\n",
"//example 17.6\n",
"//page 729\n",
"printf('\n')\n",
"printf('given')\n",
"f=30*10^3;C1=1000*10^-12;\n",
"disp(' third order low pass filter')\n",
"disp('-20 dB per decade stage')\n",
"fc1=f/.65;\n",
"R1=1/(2*3.14*fc1*C1)\n",
"R2=R1;\n",
"disp('-40dB per decade stage')\n",
"C3=1000*10^-12;\n",
"C2=2*C3\n",
"fc2=f/.8\n",
"R4=1/(2*3.14*fc2*C3*(sqrt(2)))\n",
"R3=R4;\n",
"R5=R3+R4"
   ]
   }
,
{
		   "cell_type": "markdown",
		   "metadata": {},
		   "source": [
			"## Example 17.7: third_order_high_pass_filter.sce"
		   ]
		  },
  {
"cell_type": "code",
	   "execution_count": null,
	   "metadata": {
	    "collapsed": true
	   },
	   "outputs": [],
"source": [
"//chapter 17\n",
"//example 17.7\n",
"//page 730\n",
"printf('\n')\n",
"printf('given')\n",
"f=20*10^3;\n",
"disp('3rd order high pass filter')\n",
"disp('-20dB per decade stage')\n",
"R1=121*10^3;\n",
"fc1=.65*f\n",
"C1=1/(2*3.14*fc1*R1)\n",
"//this is so small it might be effected by stray capacitor.redesign ,first choosing a suitable capacitance C1\n",
"C1=100*10^-12;\n",
"R1=1/(2*3.14*f*C1)\n",
"R2=R1;\n",
"disp('-40dB per decade stage')\n",
"C3=1000*10^-12;\n",
"R4=(sqrt(2))/(2*3.14*.8*f*C3)\n",
"C2=C3;\n",
"R3=.5*R4\n",
"R5=R4"
   ]
   }
,
{
		   "cell_type": "markdown",
		   "metadata": {},
		   "source": [
			"## Example 17.8: single_stage_band_pass_filter.sce"
		   ]
		  },
  {
"cell_type": "code",
	   "execution_count": null,
	   "metadata": {
	    "collapsed": true
	   },
	   "outputs": [],
"source": [
"//chapter 17\n",
"//example 17.8\n",
"//page 734\n",
"printf('\n')\n",
"printf('given')\n",
"f1=300;f2=30*10^3;\n",
"disp(' single stage band pass filter')\n",
"C2=1000*10^-12;\n",
"R2=1/(2*3.14*f2*C2)\n",
"R1=R2;\n",
"Xc1=R1;//at voltage gain Av=1\n",
"C1=1/(2*3.14*f1*R1)\n",
"R3=R2"
   ]
   }
,
{
		   "cell_type": "markdown",
		   "metadata": {},
		   "source": [
			"## Example 17.9: calculate_Q_factor_for_wide_band_filter.sce"
		   ]
		  },
  {
"cell_type": "code",
	   "execution_count": null,
	   "metadata": {
	    "collapsed": true
	   },
	   "outputs": [],
"source": [
"//chapter 17\n",
"//example 17.9\n",
"//page 736\n",
"printf('\n')\n",
"printf('given')\n",
"f1=300;f2=30*10^3;\n",
"fo=sqrt(f1*f2)\n",
"BW=f2-f1\n",
"Q=fo/BW"
   ]
   }
],
"metadata": {
		  "kernelspec": {
		   "display_name": "Scilab",
		   "language": "scilab",
		   "name": "scilab"
		  },
		  "language_info": {
		   "file_extension": ".sce",
		   "help_links": [
			{
			 "text": "MetaKernel Magics",
			 "url": "https://github.com/calysto/metakernel/blob/master/metakernel/magics/README.md"
			}
		   ],
		   "mimetype": "text/x-octave",
		   "name": "scilab",
		   "version": "0.7.1"
		  }
		 },
		 "nbformat": 4,
		 "nbformat_minor": 0
}
