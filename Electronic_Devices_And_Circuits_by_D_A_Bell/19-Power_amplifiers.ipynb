{
"cells": [
 {
		   "cell_type": "markdown",
	   "metadata": {},
	   "source": [
       "# Chapter 19: Power amplifiers"
	   ]
	},
{
		   "cell_type": "markdown",
		   "metadata": {},
		   "source": [
			"## Example 19.10: design_Vbe_multiplier.sce"
		   ]
		  },
  {
"cell_type": "code",
	   "execution_count": null,
	   "metadata": {
	    "collapsed": true
	   },
	   "outputs": [],
"source": [
"//chapter 19\n",
"//example 19.10\n",
"//page 838\n",
"printf('\n')\n",
"printf('given')\n",
"Vb=3.2;Ic1=5*10^-3;Vce=3.2;Vbe=.7;\n",
"Vbmin=Vb-.5\n",
"Vbmax=Vb+.5\n",
"I10=.1*Ic1\n",
"R10=(Vce-Vbe)/I10\n",
"R10=4.7*10^3;//use standard value\n",
"disp(' for Vce=3.7')\n",
"Vce=3.7;\n",
"I10max=(Vce-Vbe)/R10\n",
"disp('Vce=2.7V')\n",
"Vce=2.7;\n",
"I10min=(Vce-Vbe)/R10\n",
"R=Vbe/I10min\n",
"R11=Vbe/I10max\n",
"R12=R-R11"
   ]
   }
,
{
		   "cell_type": "markdown",
		   "metadata": {},
		   "source": [
			"## Example 19.11: required_supply_voltage_and_specify_output_transistors.sce"
		   ]
		  },
  {
"cell_type": "code",
	   "execution_count": null,
	   "metadata": {
	    "collapsed": true
	   },
	   "outputs": [],
"source": [
"//chapter 19\n",
"//example 19.11\n",
"//page 843\n",
"printf('\n')\n",
"printf('given')\n",
"Rl=16;Po=6;Vbe=.7;\n",
"Vp=sqrt(2*Rl*Po)\n",
"Vr14=.1*Vp;Vr15=Vr14;\n",
"R14=.1*Rl;R15=R14;\n",
"Vce3=1;Vce4=Vce3;\n",
"Vr9=3;Vr11=Vr9;\n",
"Vcc=(Vp+Vr14+Vbe+Vce3+Vr9)\n",
"Vee=-Vcc;\n",
"Ip=Vp/Rl\n",
"disp(' DC power inpit from supply line')\n",
"Pi=(Vcc-Vee)*.35*Ip\n",
"disp(' output  transistor specification')\n",
"Pt=.5*(Pi-Po)\n",
"Vce=2*Vcc\n",
"Ic=1.1*Ip"
   ]
   }
,
{
		   "cell_type": "markdown",
		   "metadata": {},
		   "source": [
			"## Example 19.12: suitable_resistor_for_output_and_intermediate_stage.sce"
		   ]
		  },
  {
"cell_type": "code",
	   "execution_count": null,
	   "metadata": {
	    "collapsed": true
	   },
	   "outputs": [],
"source": [
"//chapter 19\n",
"//example 19.12\n",
"//page 844\n",
"printf('\n')\n",
"printf('given')\n",
"hFE7=20;Icbo=50*10^-6;hFE5=70;Vr9=3;Ip=869*10^-3;R15=1.5;R8=15*10^3;Vbe=.7;Vr11=3;Vee=20;\n",
"R12=.01/Icbo\n",
"R12=220;//use standard value\n",
"R13=R12;\n",
"Ib5=Ip/(hFE7*hFE5)\n",
"Ic3=2*10^-3;\n",
"R9=Vr9/Ic3\n",
"R11=R9;\n",
"Iq78=.1*Ip\n",
"Vr14=Iq78*R15\n",
"Vr15=Vr14;\n",
"Vr10=(Vr14+Vr15)+(Vr14+Vr15)/2\n",
"R10=Vr10/Ic3\n",
"Ir8=(Vr11+Vbe)/R8\n",
"R7=(Vee-(Vr11+Vbe))/Ir8"
   ]
   }
,
{
		   "cell_type": "markdown",
		   "metadata": {},
		   "source": [
			"## Example 19.13: calculate_required_supply_voltage_and_suitable_DC_voltage_drop.sce"
		   ]
		  },
  {
"cell_type": "code",
	   "execution_count": null,
	   "metadata": {
	    "collapsed": true
	   },
	   "outputs": [],
"source": [
"//chapter 19\n",
"//example 19.13\n",
"//page 848\n",
"printf('\n')\n",
"printf('given')\n",
"Rl=20;Po=2.5;Rd=4;Vr6=1;Vr9=Vr6;Vth=1;gFS=250*10^-3;Vbe=.7;\n",
"Vp=sqrt(2*Rl*Po)\n",
"Ip=Vp/Rl\n",
"Vcc=(Vp+Ip*Rd)\n",
"vr6=Ip/gFS\n",
"Vr2=vr6+1\n",
"Vce=Vr2;\n",
"Vce3=1;\n",
"Vr2=Vcc-Vce\n",
"Vee=Vcc;\n",
"Vr3=Vee-Vbe\n",
"Vr7=Vr2-Vr6\n",
"Vr8=Vcc-(-Vee)-Vr6-Vr7-Vr9"
   ]
   }
,
{
		   "cell_type": "markdown",
		   "metadata": {},
		   "source": [
			"## Example 19.14: determine_resistor_value_for_MOSFET_amplifier.sce"
		   ]
		  },
  {
"cell_type": "code",
	   "execution_count": null,
	   "metadata": {
	    "collapsed": true
	   },
	   "outputs": [],
"source": [
"//chapter 19\n",
"//example 19.14\n",
"//page 849\n",
"printf('\n')\n",
"printf('given')\n",
"R6=100*10^3;R9=R6;Vth=1;Vr7=8;Vr8=14;Vr3=11.3;Vpout=10;Vpin=800*10^-3;\n",
"I6=Vth/R6\n",
"R7=Vr7/I6\n",
"R8=Vr8/I6\n",
"Ic1=1*10^-4;Ic2=Ic1;Vr2=9;\n",
"R2=Vr2/Ic1\n",
"R3=Vr3/(Ic1+Ic2)\n",
"R5=4.7*10^3;\n",
"Acl=Vpout/Vpin\n",
"R4=R5/(Acl-1)"
   ]
   }
,
{
		   "cell_type": "markdown",
		   "metadata": {},
		   "source": [
			"## Example 19.15: bootstrap_capacitor_terminal_voltage_and_peak_output_voltage.sce"
		   ]
		  },
  {
"cell_type": "code",
	   "execution_count": null,
	   "metadata": {
	    "collapsed": true
	   },
	   "outputs": [],
"source": [
"//chapter 19\n",
"//example 19.15\n",
"//page 854\n",
"printf('\n')\n",
"printf('given')\n",
"Vce=1.5;Vcc=17;Vd1=.7;R8=1.5*10^3;R9=R8;Rl=100;R6=8.2;\n",
"I4=(Vcc-Vd1)/(R8+R9)\n",
"Vc3=Vcc-(I4*R8);\n",
"printf(' bootstrap capacitance terminal voltage is %3.1fV\n',Vc3)\n",
"V=Vcc-Vce//V=Vp+Vr6\n",
"Ip=V/(Rl+R6)\n",
"Vp=Ip*Rl;\n",
"printf(' peak output voltage is %3.1fV\n',Vp)\n",
"Po=(Vp)^2 /(2*Rl);\n",
"printf(' peak output power is %dW\n',Po)"
   ]
   }
,
{
		   "cell_type": "markdown",
		   "metadata": {},
		   "source": [
			"## Example 19.16: use_BIFET_to_determine_supply_voltage_and_resistor_value.sce"
		   ]
		  },
  {
"cell_type": "code",
	   "execution_count": null,
	   "metadata": {
	    "collapsed": true
	   },
	   "outputs": [],
"source": [
"//chapter 19\n",
"//example 19.16\n",
"//page 856\n",
"printf('\n')\n",
"printf('given')\n",
"Rl=8;Po=6;vs=.1;hFE=1000;Vce=2;f=50*10^3;Vd1=.7;\n",
"Vp=sqrt(2*Rl*Po)\n",
"Ip=Vp/Rl\n",
"R6=.1*Rl\n",
"R7=R6;\n",
"Vcc=Vp+Ip*R6+Vce\n",
"Ib=Ip/hFE\n",
"I4=2*10^-3;\n",
"R4=(Vcc-Vd1-Vd1)/I4\n",
"R8=.5*R4\n",
"Acl=Vp/vs\n",
"R3=100*10^3;\n",
"R2=R3/(Acl-1)\n",
"SR=(2*3.14*f*Vp)*10^-6;\n",
"printf(' slew rate is %3.2fV/us\n',SR)"
   ]
   }
,
{
		   "cell_type": "markdown",
		   "metadata": {},
		   "source": [
			"## Example 19.17: capacitor_value.sce"
		   ]
		  },
  {
"cell_type": "code",
	   "execution_count": null,
	   "metadata": {
	    "collapsed": true
	   },
	   "outputs": [],
"source": [
"//chapter 19\n",
"//example 19.17\n",
"//page 858\n",
"printf('\n')\n",
"printf('given')\n",
"f=50;R1=100*10^3;R2=1*10^3;R8=2.7*10^3;R9=R8;\n",
"C1=1/(2*3.14*f*.1*R1)\n",
"C2=1/(2*3.14*f*R2)\n",
"Xc3=.1*((R8*R9)/(R8+R9))\n",
"C3=1/(2*3.14*f*Xc3)\n",
"C4=C3"
   ]
   }
,
{
		   "cell_type": "markdown",
		   "metadata": {},
		   "source": [
			"## Example 19.18: MOSFET_gate_source_voltage_for_complementry_common_source_amplifier.sce"
		   ]
		  },
  {
"cell_type": "code",
	   "execution_count": null,
	   "metadata": {
	    "collapsed": true
	   },
	   "outputs": [],
"source": [
"//chapter 19\n",
"//example 19.18\n",
"//page 860\n",
"printf('\n')\n",
"printf('given')\n",
"Ismin=1.8*10^-3;Ismax=3.4*10^-3;R7=820;R5=390;R6=18*10^3;Vi=100*10^-3;Rl=10;\n",
"Vgsmin=Ismin*R7\n",
"Vgsmax=Ismax*R7\n",
"Acl=(R5+R6)/R5\n",
"Vp=Acl*Vi\n",
"Ip=Vp/Rl;\n",
"printf('peak output current is %3.3fA\n',Ip)\n",
"Po=(Vp*Ip)/2;\n",
"printf('peak output power is %3.2fW\n',Po)"
   ]
   }
,
{
		   "cell_type": "markdown",
		   "metadata": {},
		   "source": [
			"## Example 19.19: calculate_Vgsmax_and_Vgsmin.sce"
		   ]
		  },
  {
"cell_type": "code",
	   "execution_count": null,
	   "metadata": {
	    "collapsed": true
	   },
	   "outputs": [],
"source": [
"//chapter 19\n",
"//example 19.19\n",
"//page 862\n",
"printf('\n')\n",
"printf('given')\n",
"Vbe=.7;R2=560;R3min=0;R3max=1*10^3;Is=2*10^-3;\n",
"Ic2max=Vbe/(R2+R3min)\n",
"Ic2min=Vbe/(R2+R3max)\n",
"Vgsmin=(Is+Ic2min)*820\n",
"Vgsmax=(Is+Ic2max)*820"
   ]
   }
,
{
		   "cell_type": "markdown",
		   "metadata": {},
		   "source": [
			"## Example 19.1: Dc_and_Ac_load_line_transistor_common_emitter_characteristics.sce"
		   ]
		  },
  {
"cell_type": "code",
	   "execution_count": null,
	   "metadata": {
	    "collapsed": true
	   },
	   "outputs": [],
"source": [
"//chapter 19\n",
"//example 19.1\n",
"//page 810\n",
"printf('\n')\n",
"printf('given')\n",
"Rpy=40;N1=74;N2=14;R2=3.7*10^3;R1=4.7*10^3;Vbe=.7;Re=1*10^3;Vcc=13;Rl=56;\n",
"disp('Q-point')\n",
"Vb=Vcc*(R2/(R1+R2))\n",
"Ic=(Vb-Vbe)/Re\n",
"Ie=Ic;\n",
"Vce=Vcc-Ic*(Rpy+Re)\n",
"rl=(N1/N2)^2 *Rl\n",
"rl=rl+Rpy\n",
"Ic=5*10^-3;\n",
"Vce=Ic*rl"
   ]
   }
,
{
		   "cell_type": "markdown",
		   "metadata": {},
		   "source": [
			"## Example 19.20: maximum_peak_output_voltage_minimum_supply_voltage_at_op_amp_terminal.sce"
		   ]
		  },
  {
"cell_type": "code",
	   "execution_count": null,
	   "metadata": {
	    "collapsed": true
	   },
	   "outputs": [],
"source": [
"//chapter 19\n",
"//example 19.20\n",
"//page 865\n",
"printf('\n')\n",
"printf('given')\n",
"Vcc=12;Rl=10;Rd=.5;gfs=2.5;R7=820;V9=1*10^3;R10=R9;\n",
"Vp=(Vcc*Rl)/(Rd+Rl)\n",
"Ip=Vp/Rl\n",
"Vgs=Ip/gfs\n",
"Vr7=Is*R7\n",
"Vs=Vcc-Vr7-Vgs\n",
"disp(' op-amp peak output voltage is')\n",
"Vr9=(Vp*R9)/(R9+R10)"
   ]
   }
,
{
		   "cell_type": "markdown",
		   "metadata": {},
		   "source": [
			"## Example 19.21: op_amp_minimum_supply_voltage_and_MOSFET_maximum_gate_source_voltage.sce"
		   ]
		  },
  {
"cell_type": "code",
	   "execution_count": null,
	   "metadata": {
	    "collapsed": true
	   },
	   "outputs": [],
"source": [
"//chapter 19\n",
"//example 19.21\n",
"//page 867\n",
"printf('\n')\n",
"printf('given')\n",
"Vbe=.7;R2=470;R3=1*10^3;Is=.5*10^-3;R7=1.5*10^3;Vcc=15;\n",
"Ic2max=Vbe/R2\n",
"Ic2min=Vbe/(R2+R3)\n",
"Vgs=(Is+Ic2max)*R7;\n",
"printf(' MOSFET maximum gate source voltage is %3.1fV\n',Vgs)\n",
"Vs=Vcc-Vgs;\n",
"printf(' op-amp minimum suppy is %3.2fV\n',Vs)"
   ]
   }
,
{
		   "cell_type": "markdown",
		   "metadata": {},
		   "source": [
			"## Example 19.22: determine_Po_Acl_f1_and_f2.sce"
		   ]
		  },
  {
"cell_type": "code",
	   "execution_count": null,
	   "metadata": {
	    "collapsed": true
	   },
	   "outputs": [],
"source": [
"//chapter 19\n",
"//example 19.22\n",
"//page 868\n",
"printf('\n')\n",
"printf('given')\n",
"Vcc=15;Rl=15;Rd=.3;R5=2.2*10^3;R6=33*10^3;C2=3.9*10^-6;C4=100*10^-12;\n",
"disp(' power output')\n",
"Vp=(Vcc*Rl)/(Rd+Rl)\n",
"Ip=Vp/Rl\n",
"Po=(Vp*Ip)/2\n",
"disp(' voltage gain')\n",
"Av=(R5+R6)/R5\n",
"disp('cutoff frequency')\n",
"f1=1/(2*3.14*C2*R5)\n",
"f2=1/(2*3.14*C4*R6)"
   ]
   }
,
{
		   "cell_type": "markdown",
		   "metadata": {},
		   "source": [
			"## Example 19.23: maximum_output_power_voltage_gain_and_low_cutoff_frequency.sce"
		   ]
		  },
  {
"cell_type": "code",
	   "execution_count": null,
	   "metadata": {
	    "collapsed": true
	   },
	   "outputs": [],
"source": [
"//chapter 19\n",
"//example 19.23\n",
"//page 871\n",
"printf('\n')\n",
"printf('given')\n",
"Vcc=23;Rl=8;Rf2=100*10^3;Rf1=5.6*10^3;Cf=1*10^-6;\n",
"Vp=Vcc-5\n",
"Po=(Vp)^2 /(2*Rl);\n",
"printf('maximum output power is %3.2fW\n',Po)\n",
"Acl=(Rf1+Rf2)/Rf1;\n",
"printf(' voltage gain %3.1f\n',Acl)\n",
"f=1/(2*3.14*Cf*Rf1);\n",
"printf('lower cutoff frequency is %dHz\n',f)"
   ]
   }
,
{
		   "cell_type": "markdown",
		   "metadata": {},
		   "source": [
			"## Example 19.24: determine_the_load_power_dissipation.sce"
		   ]
		  },
  {
"cell_type": "code",
	   "execution_count": null,
	   "metadata": {
	    "collapsed": true
	   },
	   "outputs": [],
"source": [
"//chapter 19\n",
"//example 19.24\n",
"//page 875\n",
"printf('\n')\n",
"printf('given')\n",
"Rf=15*10^3;R1=5.6*10^3;vs=.5;Vp=2.7;\n",
"Acl=(2*Rf)/R1\n",
"Vo=Acl*vs\n",
"Po=(Vp)^2 /(2*Rl);\n",
"printf('load power dissipation is %3.2fW\n',Po)"
   ]
   }
,
{
		   "cell_type": "markdown",
		   "metadata": {},
		   "source": [
			"## Example 19.25: calculate_ac_output_power_dc_input_power_conduction_angle_and_efficiency.sce"
		   ]
		  },
  {
"cell_type": "code",
	   "execution_count": null,
	   "metadata": {
	    "collapsed": true
	   },
	   "outputs": [],
"source": [
"//chapter 19\n",
"//example 19.25\n",
"//page 880\n",
"printf('\n')\n",
"printf('given')\n",
"Vcc=10;Rl=1*10^3;f=3*10^6;Ip=25*10^-3;Vce=.3;\n",
"Vp=Vcc-Vce\n",
"Po=(Vp)^2 /(2*Rl)\n",
"T=1/f\n",
"t=(Po*T)/(Ip*Vp)\n",
"angle=(t/T)*360;\n",
"printf(' conduction angle is %3.1fdegree\n',angle)\n",
"Idc=Po/Vp\n",
"Pi=Vcc*Idc;\n",
"printf( 'dc input power is %3.4fW\n',Pi)\n",
"n=(Po/Pi)*100//efficiency"
   ]
   }
,
{
		   "cell_type": "markdown",
		   "metadata": {},
		   "source": [
			"## Example 19.26: for_class_C_amplifier_determine_tank_circuit_component_value_and_peak_current.sce"
		   ]
		  },
  {
"cell_type": "code",
	   "execution_count": null,
	   "metadata": {
	    "collapsed": true
	   },
	   "outputs": [],
"source": [
"//chapter 19\n",
"//example 19.26\n",
"//page 882\n",
"printf('\n')\n",
"printf('given')\n",
"f=1*10^6;Xc=120;Vce=.5;Vcc=30;Rl=1.2*10^3;O=100;\n",
"Cp=1/(2*3.14*f*Xc)\n",
"Cp=1300*10^-12;//use standard value\n",
"Lp=1/(((2*3.14*f)^2)*Cp)\n",
"Vp=Vcc-Vce\n",
"Po=((Vp)^2) /(2*Rl)\n",
"Idc=Po/Vp\n",
"T=1/f\n",
"t=(O*T)/360\n",
"Ip=(Idc*T)/t"
   ]
   }
,
{
		   "cell_type": "markdown",
		   "metadata": {},
		   "source": [
			"## Example 19.27: for_class_C_amplifier_determine_Ql_Qp_and_Pl_and_bandwidth_and_efficiency.sce"
		   ]
		  },
  {
"cell_type": "code",
	   "execution_count": null,
	   "metadata": {
	    "collapsed": true
	   },
	   "outputs": [],
"source": [
"//chapter 19\n",
"//example 19.27\n",
"//page 883\n",
"printf('\n')\n",
"printf('given')\n",
"Rw=.1;f=1*10^6;Lp=19.5*10^-6;Rl=1.2*10^3;Vcc=30;Idc=12.3*10^-3;\n",
"QL=(2*3.14*f*Lp)/Rw\n",
"Qp=Rl/(2*3.14*f*Lp)\n",
"B=f/Qp\n",
"Il=(.707*Vp)/(2*3.14*f*Lp)\n",
"Pl=(Il)^2 *Rw\n",
"Pi=(Vcc*Idc)+Pl\n",
"n=(Po/Pi)*100"
   ]
   }
,
{
		   "cell_type": "markdown",
		   "metadata": {},
		   "source": [
			"## Example 19.2: maximum_efficiency_of_class_A_amplifier.sce"
		   ]
		  },
  {
"cell_type": "code",
	   "execution_count": null,
	   "metadata": {
	    "collapsed": true
	   },
	   "outputs": [],
"source": [
"//chapter 19\n",
"//example 19.2\n",
"//page 814\n",
"printf('\n')\n",
"printf('given')\n",
"Vcc=13;Icq=5*10^-3;Vceq=8;Vp=Vceq;Ip=Icq;nt=.8;\n",
"Pi=Vcc*Icq\n",
"Po=.5*Vp*Ip\n",
"P0=nt*Po\n",
"n=(P0/Pi)*100;\n",
"printf(' maximum efficiency is %3.2f percentage\n',n)"
   ]
   }
,
{
		   "cell_type": "markdown",
		   "metadata": {},
		   "source": [
			"## Example 19.4: power_deliver_to_load_in_class_AB_amplifier.sce"
		   ]
		  },
  {
"cell_type": "code",
	   "execution_count": null,
	   "metadata": {
	    "collapsed": true
	   },
	   "outputs": [],
"source": [
"//chapter 19\n",
"//example 19.4\n",
"//page 821\n",
"printf('\n')\n",
"printf('given')\n",
"N1=60;N2=10;Rl=16;Rpy=0;R6=56;Vcc=27;Vce=.5;n=.79;\n",
"disp(' Referred laod')\n",
"rl=(N1/N2)^2 *Rl\n",
"disp(' tatol ac load line in series with each of Q2 and Q3')\n",
"Rl=rl+R6+Rpy\n",
"disp(' peak primary current')\n",
"Ip=(Vcc-Vce)/Rl\n",
"disp('peak primary voltage')\n",
"Vp=Vcc-Vce-(Ip*R6)\n",
"disp('power delivered to primary')\n",
"Po=.5*Vp*Ip\n",
"disp(' power delivered  to the load')\n",
"Po=Po*n//n is power efficiency"
   ]
   }
,
{
		   "cell_type": "markdown",
		   "metadata": {},
		   "source": [
			"## Example 19.5: output_transformer_and_transistor_of_class_B_circuit.sce"
		   ]
		  },
  {
"cell_type": "code",
	   "execution_count": null,
	   "metadata": {
	    "collapsed": true
	   },
	   "outputs": [],
"source": [
"//chapter 19\n",
"//example 19.5\n",
"//page 824\n",
"printf('\n')\n",
"printf('given')\n",
"Po=4;nt=.8;Vcc=30;Vp=Vcc;Rl=16;\n",
"P0=Po/nt\n",
"rl=(Vp)^2 /(2*P0)\n",
"rl=4*rl\n",
"disp('transformer specification Po=4 ,Rl=16 rl=360')\n",
"Vce=2*Vcc\n",
"Ip=(2*P0)/Vp\n",
"Pi=Vcc*.636*Ip\n",
"Pt=.5*(Pi-P0)\n",
"disp(' transistor specification is Py=.68W  Vce=60 Ip=333mA')"
   ]
   }
,
{
		   "cell_type": "markdown",
		   "metadata": {},
		   "source": [
			"## Example 19.6: determine_required_supply_voltage_for_class_AB_amplifier.sce"
		   ]
		  },
  {
"cell_type": "code",
	   "execution_count": null,
	   "metadata": {
	    "collapsed": true
	   },
	   "outputs": [],
"source": [
"//chapter 19\n",
"//example 19.6\n",
"//page 830\n",
"printf('\n')\n",
"printf('given')\n",
"Rl=50;Po=1;hFE=50;Vbe=.7;Vrc=4;Vre=1;Vd1=.7;Vd2=Vd1;\n",
"Vp=sqrt(2*Rl*Po)\n",
"Ip=Vp/Rl\n",
"Re3=.1*Rl;\n",
"Re2=4.7;//use stabdard value\n",
"Re2=Re3;\n",
"Icq=.1*Ip\n",
"Vb=Vbe+Icq*(Re2+Re3)+Vbe\n",
"Vc1=Vrc;\n",
"Ib2=Ip/hFE\n",
"Irc=Ib2+1*10^-3\n",
"Rc=Vrc/Irc\n",
"Rc=680;//use standard value\n",
"Vcc=2*(Vp+Vre+Vbe+Vrc)\n",
"Vcc=32;//use standard value\n",
"Vrcdc=.5*(Vcc-Vb)\n",
"Ic1=Vrcdc/Rc\n",
"Rb=(Vb-Vd1-Vd2)/Ic1"
   ]
   }
,
{
		   "cell_type": "markdown",
		   "metadata": {},
		   "source": [
			"## Example 19.7: output_transistors.sce"
		   ]
		  },
  {
"cell_type": "code",
	   "execution_count": null,
	   "metadata": {
	    "collapsed": true
	   },
	   "outputs": [],
"source": [
"//chapter 19\n",
"//example 19.7\n",
"//page 832\n",
"printf('\n')\n",
"printf('given')\n",
"Vcc=32;Vce=32;Ip=200*10^-3;Po=1;\n",
"Ic=1.1*Ip\n",
"Pi=.35*Vcc*Ip\n",
"Pt=.5*(Pi-Po)"
   ]
   }
,
{
		   "cell_type": "markdown",
		   "metadata": {},
		   "source": [
			"## Example 19.8: capacitor_value_for_Ce_and_Co.sce"
		   ]
		  },
  {
"cell_type": "code",
	   "execution_count": null,
	   "metadata": {
	    "collapsed": true
	   },
	   "outputs": [],
"source": [
"//chapter 19\n",
"//example 19.8\n",
"//page 832\n",
"printf('\n')\n",
"printf('given')\n",
"f=50;hib=2;Rl=50;\n",
"Ce=1/(2*3.14*f*hib)\n",
"Co=1/(2*3.14*50*.1*Rl)"
   ]
   }
,
{
		   "cell_type": "markdown",
		   "metadata": {},
		   "source": [
			"## Example 19.9: determine_the_value_of_Vcc_Rc_and_Rb_for_class_AB_amplifier.sce"
		   ]
		  },
  {
"cell_type": "code",
	   "execution_count": null,
	   "metadata": {
	    "collapsed": true
	   },
	   "outputs": [],
"source": [
"//chapter 19\n",
"//example 19.9\n",
"//page 834\n",
"printf('\n')\n",
"printf('given')\n",
"hFE=2000;Vbe=1.4;Vp=10;Ip=200*10^-3;Icq2=20*10^-3;Re3=4.7;Re2=4.7;Vd=.7;\n",
"Ve1=3;Vc1=15.2;Vrc=Vc1;\n",
"Vb=Vbe+Icq*(Re2+Re3)+Vbe\n",
"Vcc=Vrc+Vc1+Vb\n",
"Ib2=Ip/hFE\n",
"Irc=1*10^-3;\n",
"Vrcac=4;\n",
"Rc=Vrcac/Irc\n",
"Ic1=Vrc/Rc\n",
"Rb=(Vb-(4*Vd))/Ic1"
   ]
   }
],
"metadata": {
		  "kernelspec": {
		   "display_name": "Scilab",
		   "language": "scilab",
		   "name": "scilab"
		  },
		  "language_info": {
		   "file_extension": ".sce",
		   "help_links": [
			{
			 "text": "MetaKernel Magics",
			 "url": "https://github.com/calysto/metakernel/blob/master/metakernel/magics/README.md"
			}
		   ],
		   "mimetype": "text/x-octave",
		   "name": "scilab",
		   "version": "0.7.1"
		  }
		 },
		 "nbformat": 4,
		 "nbformat_minor": 0
}
