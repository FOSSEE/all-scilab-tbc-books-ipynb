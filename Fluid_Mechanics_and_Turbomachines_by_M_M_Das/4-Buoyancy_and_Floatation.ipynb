{
"cells": [
 {
		   "cell_type": "markdown",
	   "metadata": {},
	   "source": [
       "# Chapter 4: Buoyancy and Floatation"
	   ]
	},
{
		   "cell_type": "markdown",
		   "metadata": {},
		   "source": [
			"## Example 4.1: Example.sce"
		   ]
		  },
  {
"cell_type": "code",
	   "execution_count": null,
	   "metadata": {
	    "collapsed": true
	   },
	   "outputs": [],
"source": [
"//Finding of water displaced and position of centre buoyancy\n",
"//Given\n",
"l=2;\n",
"h=1.5;\n",
"b=4;\n",
"v=l*b*h;\n",
"spgr=0.7;\n",
"rho=700;\n",
"rho1=1000;\n",
"g=9.81;\n",
"w=rho*g*v;\n",
"//To Find \n",
"wd=w/(rho1*g);\n",
"disp('Water Displaced = '+string(wd)+' m^3');\n",
"h1=wd/(l*b);\n",
"h2=h1/2;\n",
"disp('Positin of Centre Buoyancy = '+string(h2)+' m');"
   ]
   }
,
{
		   "cell_type": "markdown",
		   "metadata": {},
		   "source": [
			"## Example 4.3: Example.sce"
		   ]
		  },
  {
"cell_type": "code",
	   "execution_count": null,
	   "metadata": {
	    "collapsed": true
	   },
	   "outputs": [],
"source": [
"//Finding of volume and specific gravity\n",
"//given\n",
"w=490.5;             //In Air in Newton\n",
"w1=196.2;            //In Water in Newton\n",
"rho=1000;\n",
"g=9.81;\n",
"rho1=5000;\n",
"//To Find \n",
"wd=w-w1;\n",
"vd=wd/(rho*g);\n",
"rho2=(w/g)/vd;\n",
"spgr=rho1/(rho*3);\n",
"disp('Volume = '+string(rho2)+' Kg/m^3');\n",
"disp('Specific Gravity  is= '+string(spgr)+' No units')"
   ]
   }
,
{
		   "cell_type": "markdown",
		   "metadata": {},
		   "source": [
			"## Example 4.4: Example.sce"
		   ]
		  },
  {
"cell_type": "code",
	   "execution_count": null,
	   "metadata": {
	    "collapsed": true
	   },
	   "outputs": [],
"source": [
"//Finding of Mass,Density,Specific Gravity\n",
"//Given\n",
"v=2*1*3;\n",
"w=3924;\n",
"rho=1000;\n",
"g=9.81;\n",
"wd=rho*g*v;\n",
"w1=w+wd;\n",
"m=w1/g;\n",
"rho1=m/v;\n",
"spgr=rho1/rho;\n",
"disp('Mass is = '+string(m)+' Kg');\n",
"disp('Density is = '+string(rho1)+' Kg/m^3');\n",
"disp('Specific Gravity = '+string(spgr)+' No units')"
   ]
   }
,
{
		   "cell_type": "markdown",
		   "metadata": {},
		   "source": [
			"## Example 4.5: Example.sce"
		   ]
		  },
  {
"cell_type": "code",
	   "execution_count": null,
	   "metadata": {
	    "collapsed": true
	   },
	   "outputs": [],
"source": [
"//Finding of Density\n",
"//Given\n",
"h1=0.4;\n",
"h2=0.6;\n",
"rho=1000;\n",
"rho1=13600;\n",
"g=9.81;\n",
"wd=rho*0.6;\n",
"md=rho1*0.4;\n",
"rho2=wd+md;\n",
"disp('Density is = '+string(rho2)+' Kg/m^3');"
   ]
   }
,
{
		   "cell_type": "markdown",
		   "metadata": {},
		   "source": [
			"## Example 4.6: Example.sce"
		   ]
		  },
  {
"cell_type": "code",
	   "execution_count": null,
	   "metadata": {
	    "collapsed": true
	   },
	   "outputs": [],
"source": [
"//Finding of  Weight and Metacentric height\n",
"//Given\n",
"l=4;\n",
"b=2;\n",
"h=1;\n",
"d=0.6;\n",
"v=l*b*d;\n",
"rho=1000;\n",
"g=9.81;\n",
"//To Find\n",
"wd=rho*g*v;\n",
"disp('Weight of the body ='+string(wd)+' Newtons');\n",
"I=(l*b^3)/12;\n",
"h1=h/2;\n",
"d1=d/2;\n",
"h2=h1-d1;\n",
"mh=(I/v)-h2;\n",
"disp('Metacentric Height ='+string(mh)+' meter');"
   ]
   }
,
{
		   "cell_type": "markdown",
		   "metadata": {},
		   "source": [
			"## Example 4.7: Example.sce"
		   ]
		  },
  {
"cell_type": "code",
	   "execution_count": null,
	   "metadata": {
	    "collapsed": true
	   },
	   "outputs": [],
"source": [
"//Finding pf Metacentric Height\n",
"//Given\n",
"d=3;\n",
"h=2;\n",
"spgr=0.7;\n",
"h1=h*spgr;\n",
"pi=3.14;\n",
"//To Find\n",
"h2=h/2;\n",
"h3=h1/2;\n",
"h4=h2-h3;\n",
"mh=(pi*d^4)/64;\n",
"vwd=(pi*d^2*h1)/4;\n",
"mg=(mh/vwd)-h4;\n",
"disp('Metacentric Height is ='+string(mg)+' meter');"
   ]
   }
],
"metadata": {
		  "kernelspec": {
		   "display_name": "Scilab",
		   "language": "scilab",
		   "name": "scilab"
		  },
		  "language_info": {
		   "file_extension": ".sce",
		   "help_links": [
			{
			 "text": "MetaKernel Magics",
			 "url": "https://github.com/calysto/metakernel/blob/master/metakernel/magics/README.md"
			}
		   ],
		   "mimetype": "text/x-octave",
		   "name": "scilab",
		   "version": "0.7.1"
		  }
		 },
		 "nbformat": 4,
		 "nbformat_minor": 0
}
