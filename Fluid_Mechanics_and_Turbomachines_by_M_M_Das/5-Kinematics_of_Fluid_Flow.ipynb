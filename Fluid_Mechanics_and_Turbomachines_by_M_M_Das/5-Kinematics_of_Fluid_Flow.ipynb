{
"cells": [
 {
		   "cell_type": "markdown",
	   "metadata": {},
	   "source": [
       "# Chapter 5: Kinematics of Fluid Flow"
	   ]
	},
{
		   "cell_type": "markdown",
		   "metadata": {},
		   "source": [
			"## Example 5.10: Example.sce"
		   ]
		  },
  {
"cell_type": "code",
	   "execution_count": null,
	   "metadata": {
	    "collapsed": true
	   },
	   "outputs": [],
"source": [
"//Finding of convective acceleration\n",
"//Given\n",
"v1=2.5;\n",
"v2=16;\n",
"s=3.75;\n",
"//To Find\n",
"a=(v2-v1)/s;\n",
"a1=v1*a;\n",
"a2=v2*a;\n",
"disp('Acceleration at inlet='+string(a1)+' m/s^2');\n",
"disp('Acceleration at outlet='+string(a2)+' m/s^2');"
   ]
   }
,
{
		   "cell_type": "markdown",
		   "metadata": {},
		   "source": [
			"## Example 5.1: Example.sce"
		   ]
		  },
  {
"cell_type": "code",
	   "execution_count": null,
	   "metadata": {
	    "collapsed": true
	   },
	   "outputs": [],
"source": [
"//Finding of velocity and discharge\n",
"//Given\n",
"d1=0.4;\n",
"r1=d1/2;\n",
"d2=0.2;\n",
"r2=d2/2;\n",
"v1=5;\n",
"pi=3.14;\n",
"//To Find\n",
"a1=(pi*r1^2);\n",
"a2=(pi*r2^2);\n",
"v2=(a1*v1)/a2;\n",
"q2=a2*v2;\n",
"disp('Velocity at section -2 ='+string(v2)+' m/second');\n",
"disp('Discharge ='+string(q2)+'m^3/seconds');"
   ]
   }
,
{
		   "cell_type": "markdown",
		   "metadata": {},
		   "source": [
			"## Example 5.2: Example.sce"
		   ]
		  },
  {
"cell_type": "code",
	   "execution_count": null,
	   "metadata": {
	    "collapsed": true
	   },
	   "outputs": [],
"source": [
"//Finding of Discharge and velocity\n",
"//Given\n",
"d1=0.4;\n",
"d2=0.3;\n",
"d3=0.2;\n",
"pi=3.14;\n",
"//To Find\n",
"q1=(pi/4)*d1^2*3;\n",
"q2=(pi/4)*d2^2*2;\n",
"q3=q1-q2;\n",
"v3=q3/((pi/4)*d3^2);\n",
"disp('Discharge at section- 1='+string(q1)+' m^3/sec');\n",
"disp('Discharge at section- 2='+string(q2)+' m^3/sec');\n",
"disp('Discharge at section- 3='+string(q3)+' m^3/sec');\n",
"disp('velocity at section- 3 ='+string(v3)+' m/sec');"
   ]
   }
],
"metadata": {
		  "kernelspec": {
		   "display_name": "Scilab",
		   "language": "scilab",
		   "name": "scilab"
		  },
		  "language_info": {
		   "file_extension": ".sce",
		   "help_links": [
			{
			 "text": "MetaKernel Magics",
			 "url": "https://github.com/calysto/metakernel/blob/master/metakernel/magics/README.md"
			}
		   ],
		   "mimetype": "text/x-octave",
		   "name": "scilab",
		   "version": "0.7.1"
		  }
		 },
		 "nbformat": 4,
		 "nbformat_minor": 0
}
