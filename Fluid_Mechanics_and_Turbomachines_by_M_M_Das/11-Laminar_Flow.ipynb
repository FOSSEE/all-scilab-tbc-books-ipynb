{
"cells": [
 {
		   "cell_type": "markdown",
	   "metadata": {},
	   "source": [
       "# Chapter 11: Laminar Flow"
	   ]
	},
{
		   "cell_type": "markdown",
		   "metadata": {},
		   "source": [
			"## Example 11.1: Example.sce"
		   ]
		  },
  {
"cell_type": "code",
	   "execution_count": null,
	   "metadata": {
	    "collapsed": true
	   },
	   "outputs": [],
"source": [
"//Finding of Pressure Difference\n",
"//Given\n",
"mu=0.09;\n",
"spgr=0.8;\n",
"rho=800;\n",
"D=0.08;\n",
"L=15;\n",
"//To Find\n",
"A=(%pi/4)*D^2;\n",
"q=(50/10)*(1/rho);\n",
"v=q/A;\n",
"p=(128*mu*q*L)/(%pi*D^4);\n",
"p1=p/10000;\n",
"disp(' Pressure Difference ='+string(p1)+' N/cm^2'); "
   ]
   }
,
{
		   "cell_type": "markdown",
		   "metadata": {},
		   "source": [
			"## Example 11.2: Example.sce"
		   ]
		  },
  {
"cell_type": "code",
	   "execution_count": null,
	   "metadata": {
	    "collapsed": true
	   },
	   "outputs": [],
"source": [
"//Finding of Pressure Drop\n",
"//Given\n",
"mu=0.15;\n",
"spgr=.9;\n",
"rho=900;\n",
"D=.055;\n",
"L=325;\n",
"R=D/2;\n",
"q=.0037;\n",
"//To Find\n",
"P=(128*mu*q*L)/(%pi*D^4);\n",
"p1=P/100;\n",
"x=(p1/L)*R;\n",
"x1=x*10^4;\n",
"disp('Pressure Drop ='+string(x1)+' N/m^2')"
   ]
   }
,
{
		   "cell_type": "markdown",
		   "metadata": {},
		   "source": [
			"## Example 11.3: Example.sce"
		   ]
		  },
  {
"cell_type": "code",
	   "execution_count": null,
	   "metadata": {
	    "collapsed": true
	   },
	   "outputs": [],
"source": [
"//Finding of Pressure Gradienr,Avg velocity,Reynolds number\n",
"//Given\n",
"mu=.5;\n",
"spgr=1.2;\n",
"rho=1200;\n",
"D=.1;\n",
"x=147.15;\n",
"//To Find\n",
"dp=-(x*4)/D;\n",
"dp1=-dp;\n",
"v=(1/(32*mu))*(-dp)*D^2;\n",
"R=(rho*v*D)/mu;\n",
"disp('Pressure Gradient ='+string(dp1)+' N/m^3');\n",
"disp('Average Velocity ='+string(v)+' N/m^3');\n",
"disp('Reynolds Number ='+string(R)+' N/m^3');"
   ]
   }
,
{
		   "cell_type": "markdown",
		   "metadata": {},
		   "source": [
			"## Example 11.4: Example.sce"
		   ]
		  },
  {
"cell_type": "code",
	   "execution_count": null,
	   "metadata": {
	    "collapsed": true
	   },
	   "outputs": [],
"source": [
"//Finding of Power Required\n",
"//Given\n",
"L=100;\n",
"D=0.1;\n",
"q=0.01;\n",
"mu=0.8;\n",
"//To Find\n",
"A=(%pi/4)*D^2;\n",
"v=q/A;\n",
"p=(32*q*mu*v*L)/D^2;\n",
"P=p/100;\n",
"disp('Power Required ='+string(P)+' KiloWatts');"
   ]
   }
,
{
		   "cell_type": "markdown",
		   "metadata": {},
		   "source": [
			"## Example 11.5: Example.sce"
		   ]
		  },
  {
"cell_type": "code",
	   "execution_count": null,
	   "metadata": {
	    "collapsed": true
	   },
	   "outputs": [],
"source": [
"//Finding of Pressuure gradient.Avg velocity,Discharge,Shear at wall\n",
"//Given\n",
"mu=0.02;\n",
"B=0.01;\n",
"b=1;\n",
"v=2;\n",
"//To Find\n",
"A=B*b;\n",
"dp=-((16*mu)/B^2);\n",
"dp1=-dp;\n",
"V=(B^2/(12*mu))*(-dp);\n",
"q=A*V;\n",
"x=(-dp*(B/2))\n",
"disp(' Pressuure Gradient ='+string(dp1)+' N/m^2 per meter');\n",
"disp(' Avg velocity ='+string(V)+' m/sec');\n",
"disp(' Shear at wall ='+string(x)+' N//m^2');"
   ]
   }
,
{
		   "cell_type": "markdown",
		   "metadata": {},
		   "source": [
			"## Example 11.6: Example.sce"
		   ]
		  },
  {
"cell_type": "code",
	   "execution_count": null,
	   "metadata": {
	    "collapsed": true
	   },
	   "outputs": [],
"source": [
"//Finding of Pressure Gradient , Shear at wall\n",
"//Given\n",
"D=15;\n",
"f=0.05;\n",
"r=4;\n",
"tau=0.01962;\n",
"//To Find\n",
"R=64/f;\n",
"dp=-(tau*(2/r));\n",
"dp1=-dp;\n",
"r1=D/2;\n",
"tau2=(tau*r1)/r;\n",
"disp('Pressure Gradient ='+string(dp1)+' N/m^3');\n",
"disp(' Shear at wall ='+string(tau2)+' N/cm^2');"
   ]
   }
],
"metadata": {
		  "kernelspec": {
		   "display_name": "Scilab",
		   "language": "scilab",
		   "name": "scilab"
		  },
		  "language_info": {
		   "file_extension": ".sce",
		   "help_links": [
			{
			 "text": "MetaKernel Magics",
			 "url": "https://github.com/calysto/metakernel/blob/master/metakernel/magics/README.md"
			}
		   ],
		   "mimetype": "text/x-octave",
		   "name": "scilab",
		   "version": "0.7.1"
		  }
		 },
		 "nbformat": 4,
		 "nbformat_minor": 0
}
