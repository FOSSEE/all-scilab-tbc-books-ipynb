{
"cells": [
 {
		   "cell_type": "markdown",
	   "metadata": {},
	   "source": [
       "# Chapter 20: Reciprocating Pumps"
	   ]
	},
{
		   "cell_type": "markdown",
		   "metadata": {},
		   "source": [
			"## Example 20.1: Example.sce"
		   ]
		  },
  {
"cell_type": "code",
	   "execution_count": null,
	   "metadata": {
	    "collapsed": true
	   },
	   "outputs": [],
"source": [
"//Finding of theoretical discharge ,Coefficient of Discharge ,Slip\n",
"//Given\n",
"N=30;\n",
"Qac=0.012;\n",
"d=0.25;\n",
"L=0.5;\n",
"//To Find\n",
"A=(%pi/4)*d^2;\n",
"Qth=(A*L*N)/60;\n",
"S=Qth-Qac;\n",
"Cd=Qac/Qth;\n",
"S1=((Qth-Qac)/Qth)*100;\n",
"disp('Theoretical Discharge ='+string(Qth)+' m^3/sec');\n",
"disp('Co efficient of Discharge ='+string(Cd)+' No Units');\n",
"disp('Slip ='+string(S)+' m^3/sec');\n",
"disp('Percentage Slip ='+string(S1)+' No Units');"
   ]
   }
,
{
		   "cell_type": "markdown",
		   "metadata": {},
		   "source": [
			"## Example 20.2: Example.sce"
		   ]
		  },
  {
"cell_type": "code",
	   "execution_count": null,
	   "metadata": {
	    "collapsed": true
	   },
	   "outputs": [],
"source": [
"//Finding of Slip ,Power required\n",
"//Given\n",
"N=50;\n",
"Qac=0.015;\n",
"L=0.4;\n",
"D=0.25;\n",
"hd=25;\n",
"hs=4;\n",
"rho=1000;\n",
"g=9.81;\n",
"//To Find\n",
"A=(%pi/4)*D^2;\n",
"Qth=(2*A*L*N)/60;\n",
"S=Qth-Qac;\n",
"P=((2*rho*g*A*L*N)*(hs+hd))/60000;\n",
"disp('Slip ='+string(S)+' m^3.sec');\n",
"disp('Power required ='+string(P)+' Kilo Watts');"
   ]
   }
,
{
		   "cell_type": "markdown",
		   "metadata": {},
		   "source": [
			"## Example 20.3: Example.sce"
		   ]
		  },
  {
"cell_type": "code",
	   "execution_count": null,
	   "metadata": {
	    "collapsed": true
	   },
	   "outputs": [],
"source": [
"//Finding of Pressure Head\n",
"//Given\n",
"D=0.15;\n",
"L=0.3;\n",
"hs=4;\n",
"N=40;\n",
"l=5;\n",
"ds=0.1;\n",
"p=10.3;\n",
"g=9.81;\n",
"//To Find\n",
"A=(%pi/4)*D^2;\n",
"a=(%pi/4)*(ds)^2;\n",
"r=L/2;\n",
"Z=(2*%pi*N)/60;\n",
"ha=(l/g)*(A/a)*r*Z^2;\n",
"disp('Pressure Head ='+string(ha)+' meter');"
   ]
   }
,
{
		   "cell_type": "markdown",
		   "metadata": {},
		   "source": [
			"## Example 20.4: Example.sce"
		   ]
		  },
  {
"cell_type": "code",
	   "execution_count": null,
	   "metadata": {
	    "collapsed": true
	   },
	   "outputs": [],
"source": [
"//Finding of Qth ,Pth ,ha\n",
"//Given\n",
"D=0.15;\n",
"L=0.3;\n",
"N=50;\n",
"H=25;\n",
"ld=22;\n",
"dd=0.1;\n",
"Qac=0.0042;\n",
"rho=1000;\n",
"g=9.81;\n",
"//To Find\n",
"A=(%pi/4)*D^2;\n",
"a=(%pi/4)*(dd)^2;\n",
"Z=(2*%pi*N)/60;\n",
"r=L/2;\n",
"Qth=(A*L*N)/60;\n",
"Pth=(rho*g*Qth*H)/1000;\n",
"S1=((Qth-Qac)/Qth)*100;\n",
"ha=(ld/g)*(A/a)*r*Z^2;\n",
"disp('Qth ='+string(Qth)+' m^3/sec');\n",
"disp('Pth ='+string(Pth)+' Kilo Watts');\n",
"disp('ha ='+string(ha)+' meter');\n",
""
   ]
   }
,
{
		   "cell_type": "markdown",
		   "metadata": {},
		   "source": [
			"## Example 20.5: Example.sce"
		   ]
		  },
  {
"cell_type": "code",
	   "execution_count": null,
	   "metadata": {
	    "collapsed": true
	   },
	   "outputs": [],
"source": [
"//Finding of Pmax ,Pressure at begining and end of Stroke\n",
"//Given\n",
"D=0.2;\n",
"L=0.4;\n",
"l=6;\n",
"ds=0.1;\n",
"hs=3.5;\n",
"H=10.3;\n",
"N=35;\n",
"g=9.81;\n",
"//To Find\n",
"A=(%pi/4)*D^2;\n",
"a=(%pi/4)*(ds)^2;\n",
"r=L/2;\n",
"Z=(2*%pi*N)/60;\n",
"Pmax=(l/g)*(A/a)*r*Z^2;\n",
"P=hs+Pmax;\n",
"P1=H-P;\n",
"disp('Pmax ='+string(Pmax)+' meter');\n",
"disp('Pressure at Begining ='+string(P)+' meter');\n",
"disp('Pressure at End ='+string(P1)+' meter');"
   ]
   }
,
{
		   "cell_type": "markdown",
		   "metadata": {},
		   "source": [
			"## Example 20.6: Example.sce"
		   ]
		  },
  {
"cell_type": "code",
	   "execution_count": null,
	   "metadata": {
	    "collapsed": true
	   },
	   "outputs": [],
"source": [
"//Finding of Maximum Speed\n",
"//Given\n",
"D=0.125;\n",
"L=0.3;\n",
"hs=4.5;\n",
"ds=0.075;\n",
"l=6.8;\n",
"h=2.6;\n",
"g=9.81;\n",
"H=10.3;\n",
"//TO Find\n",
"A=(%pi/4)*D^2;\n",
"a=(%pi/4)*(ds)^2;\n",
"r=L/2;\n",
"ha=H-h-hs;\n",
"Z=(ha*g*a)/(l*A*r);\n",
"Z1=sqrt(Z);\n",
"N=(Z1*60)/(2*%pi);\n",
"disp('Maximum Speed ='+string(N)+' rpm');"
   ]
   }
],
"metadata": {
		  "kernelspec": {
		   "display_name": "Scilab",
		   "language": "scilab",
		   "name": "scilab"
		  },
		  "language_info": {
		   "file_extension": ".sce",
		   "help_links": [
			{
			 "text": "MetaKernel Magics",
			 "url": "https://github.com/calysto/metakernel/blob/master/metakernel/magics/README.md"
			}
		   ],
		   "mimetype": "text/x-octave",
		   "name": "scilab",
		   "version": "0.7.1"
		  }
		 },
		 "nbformat": 4,
		 "nbformat_minor": 0
}
