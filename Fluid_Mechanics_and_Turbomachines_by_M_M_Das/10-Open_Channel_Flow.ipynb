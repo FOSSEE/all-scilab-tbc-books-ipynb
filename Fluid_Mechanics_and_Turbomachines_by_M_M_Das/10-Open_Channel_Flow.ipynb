{
"cells": [
 {
		   "cell_type": "markdown",
	   "metadata": {},
	   "source": [
       "# Chapter 10: Open Channel Flow"
	   ]
	},
{
		   "cell_type": "markdown",
		   "metadata": {},
		   "source": [
			"## Example 10.11: Example.sce"
		   ]
		  },
  {
"cell_type": "code",
	   "execution_count": null,
	   "metadata": {
	    "collapsed": true
	   },
	   "outputs": [],
"source": [
"//Finding of Slope \n",
"//Given\n",
"z=1;\n",
"y=0.225;\n",
"c=50;\n",
"q=0.04;\n",
"//To Find\n",
"A=z*y^2;\n",
"P=2*sqrt(2)*y;\n",
"x=sqrt(0.225/(2*sqrt(2)));\n",
"sb=q/(A*c*x);\n",
"sb1=sb^(2);\n",
"disp('Slope ='+string(sb1)+' no units');"
   ]
   }
,
{
		   "cell_type": "markdown",
		   "metadata": {},
		   "source": [
			"## Example 10.12: Example.sce"
		   ]
		  },
  {
"cell_type": "code",
	   "execution_count": null,
	   "metadata": {
	    "collapsed": true
	   },
	   "outputs": [],
"source": [
"//Finding of C and f\n",
"//Given\n",
"n=0.012;\n",
"d=0.5;\n",
"w=2;\n",
"g=9.81;\n",
"//To Find\n",
"A=w*d;\n",
"P=2+(w*d);\n",
"R=P/A;\n",
"C=(1/n)*(R)^(1/6);\n",
"f=sqrt((8*g)/(C^2));\n",
"disp(' C='+string(C)+' m/sec');\n",
"disp('f ='+string(f)+' no units');"
   ]
   }
,
{
		   "cell_type": "markdown",
		   "metadata": {},
		   "source": [
			"## Example 10.13: Example.sce"
		   ]
		  },
  {
"cell_type": "code",
	   "execution_count": null,
	   "metadata": {
	    "collapsed": true
	   },
	   "outputs": [],
"source": [
"//Finding of Normal Depth\n",
"//Given\n",
"w=6;\n",
"q=5;\n",
"sb=0.006;\n",
"n=0.014;\n",
"B=6;\n",
"//To Find\n",
"a=(q/(B^(8/3)*sb^(1/2)))^(3/5);\n",
"b=(1+(0.855)*((q/B^(8/3)*sb^(1/2)))^(3/5));\n",
"y=a*b;\n",
"disp('Normal Depth ='+string(y)+' meter');"
   ]
   }
,
{
		   "cell_type": "markdown",
		   "metadata": {},
		   "source": [
			"## Example 10.14: Example.sce"
		   ]
		  },
  {
"cell_type": "code",
	   "execution_count": null,
	   "metadata": {
	    "collapsed": true
	   },
	   "outputs": [],
"source": [
"//Finding of velocity , Dischage\n",
"//Given\n",
"z=1.5;\n",
"sb=0.0003;\n",
"B=10;\n",
"n=0.012;\n",
"y=3;\n",
"//To Find\n",
"A=(B+(z*y))*y;\n",
"P=B+(2*y)*sqrt(1+z^2);\n",
"R=A/P;\n",
"v=(1/n)*R^(2/3)*sb^(1/2);\n",
"q=A*v;\n",
"disp('Velocity ='+string(v)+' m/sec^2');\n",
"disp('Discharge ='+string(q)+' m^3/sec');"
   ]
   }
,
{
		   "cell_type": "markdown",
		   "metadata": {},
		   "source": [
			"## Example 10.16: Example.sce"
		   ]
		  },
  {
"cell_type": "code",
	   "execution_count": null,
	   "metadata": {
	    "collapsed": true
	   },
	   "outputs": [],
"source": [
"//Finding of specific energy\n",
"//Given\n",
"B=4;\n",
"y=2.5;\n",
"q=8;\n",
"g=9.81;\n",
"//To Find\n",
"A=B*y;\n",
"v=q/A;\n",
"E=y+(v^2/(2*g));\n",
"disp(' Specific Energy ='+string(E)+' meter of water');\n",
""
   ]
   }
,
{
		   "cell_type": "markdown",
		   "metadata": {},
		   "source": [
			"## Example 10.17: Example.sce"
		   ]
		  },
  {
"cell_type": "code",
	   "execution_count": null,
	   "metadata": {
	    "collapsed": true
	   },
	   "outputs": [],
"source": [
"//Finding of Critical depth,velocity,Minimum Specific energy\n",
"//Given\n",
"Q=18;\n",
"B=6;\n",
"q=Q/B;\n",
"g=9.81;\n",
"//To Find\n",
"y=(q^2/g)^(1/3);\n",
"v=q/y;\n",
"E=(3/2)*y;\n",
"disp(' Critical depth ='+string(y)+' meter');\n",
"disp(' Critical velocity ='+string(v)+' meter');\n",
"disp(' Minimum Specific Energy ='+string(E)+' meter');"
   ]
   }
,
{
		   "cell_type": "markdown",
		   "metadata": {},
		   "source": [
			"## Example 10.1: Example.sce"
		   ]
		  },
  {
"cell_type": "code",
	   "execution_count": null,
	   "metadata": {
	    "collapsed": true
	   },
	   "outputs": [],
"source": [
"//Finding of velocity of flow and discharge\n",
"//Given\n",
"c=50;\n",
"sb=1/3000;\n",
"R=10/9;\n",
"a=10;\n",
"//To Find\n",
"b=R*sb;\n",
"v=c*sqrt(b);\n",
"q=a*v;\n",
"disp('Velocity of flow ='+string(v)+' m/sec');\n",
"disp('Discharge ='+string(q)+' m^3/sec');"
   ]
   }
,
{
		   "cell_type": "markdown",
		   "metadata": {},
		   "source": [
			"## Example 10.22: Example.sce"
		   ]
		  },
  {
"cell_type": "code",
	   "execution_count": null,
	   "metadata": {
	    "collapsed": true
	   },
	   "outputs": [],
"source": [
"//Finding of Water surface Slope\n",
"//Given\n",
"sb=1/4000;\n",
"sf=.00004;\n",
"T=10;\n",
"B=10;\n",
"g=9.81;\n",
"y=1.5;\n",
"v=1;\n",
"//To Find\n",
"A=B*y;\n",
"q=A*v;\n",
"z=(sb-sf)/(1-((q^2*T)/(g*A^3)));\n",
"disp('Water surface slope ='+string(z)+'no units ')"
   ]
   }
,
{
		   "cell_type": "markdown",
		   "metadata": {},
		   "source": [
			"## Example 10.23: Example.sce"
		   ]
		  },
  {
"cell_type": "code",
	   "execution_count": null,
	   "metadata": {
	    "collapsed": true
	   },
	   "outputs": [],
"source": [
"//Finding of discharge at section-1\n",
"//Given\n",
"T=30;\n",
"dy=0.06;\n",
"dt=3600;\n",
"dx=1000;\n",
"q2=35;\n",
"//To Find\n",
"q1=q2+((T*dy)/dt)*dx;\n",
"disp('Discharge at section-1 ='+string(q1)+' m^3/sec');"
   ]
   }
,
{
		   "cell_type": "markdown",
		   "metadata": {},
		   "source": [
			"## Example 10.2: Example.sce"
		   ]
		  },
  {
"cell_type": "code",
	   "execution_count": null,
	   "metadata": {
	    "collapsed": true
	   },
	   "outputs": [],
"source": [
"//Finding of bed slope and conveyance of channel\n",
"//Given\n",
"q=0.15;\n",
"B=.70;\n",
"y=.40;\n",
"C=60;\n",
"A=B*y;\n",
"P=B+(2*y);\n",
"R=(A/P);\n",
"//To Find\n",
"sb=((q^2)*(P))/((A^3)*C^2)\n",
"K=A*C*sqrt(R);\n",
"disp('Bed of slope ='+string(sb)+' no units');\n",
"disp('conveyance of channel ='+string(K)+' m^3/sec');"
   ]
   }
,
{
		   "cell_type": "markdown",
		   "metadata": {},
		   "source": [
			"## Example 10.3: Example.sce"
		   ]
		  },
  {
"cell_type": "code",
	   "execution_count": null,
	   "metadata": {
	    "collapsed": true
	   },
	   "outputs": [],
"source": [
"//Finding of discharge through trapezoidal channel\n",
"//Given\n",
"B=6;\n",
"z=1/3;\n",
"C=60;\n",
"y=3;\n",
"sb=1/5000;\n",
"//To Find\n",
"A=(B+z*y)*y;\n",
"P=B+(2*y*sqrt(1+z^2));\n",
"R=A/P;\n",
"q=A*C*sqrt(R*sb);\n",
"disp('Discharge through Trapezoidal channel ='+string(q)+' m^3/sec');"
   ]
   }
,
{
		   "cell_type": "markdown",
		   "metadata": {},
		   "source": [
			"## Example 10.4: Example.sce"
		   ]
		  },
  {
"cell_type": "code",
	   "execution_count": null,
	   "metadata": {
	    "collapsed": true
	   },
	   "outputs": [],
"source": [
"//Finding of Bottom slope, Conveyance\n",
"//Given\n",
"q=0.1;\n",
"B=0.6;\n",
"y=0.3;\n",
"A=B*y;\n",
"n=0.013;\n",
"P=1.2;\n",
"R=A/P;\n",
"//To Find\n",
"b=((q^2)*(P))/((A^3)*B^2)\n",
"K=A*B*sqrt(R);\n",
"disp('Bed of slope ='+string(b)+' no units');\n",
"disp('conveyance of channel ='+string(K)+' m^3/sec');"
   ]
   }
,
{
		   "cell_type": "markdown",
		   "metadata": {},
		   "source": [
			"## Example 10.5: Example.sce"
		   ]
		  },
  {
"cell_type": "code",
	   "execution_count": null,
	   "metadata": {
	    "collapsed": true
	   },
	   "outputs": [],
"source": [
"//Finding of Bed slope of Trapezoidal channel\n",
"//Given\n",
"B=6;\n",
"y=3;\n",
"z=3/4;\n",
"q=30;\n",
"A=(B+(z*y))*y;\n",
"P=B+(2*y)*sqrt(1+z^2);\n",
"R=(A/P);\n",
"n=0.0158;\n",
"//To Find\n",
"sb=((q^2)*n^2)/((A^2)*(R^(4/3)));\n",
"disp('Bed slope of Trapezoidal channel ='+string(sb)+' no units');"
   ]
   }
,
{
		   "cell_type": "markdown",
		   "metadata": {},
		   "source": [
			"## Example 10.6: Example.sce"
		   ]
		  },
  {
"cell_type": "code",
	   "execution_count": null,
	   "metadata": {
	    "collapsed": true
	   },
	   "outputs": [],
"source": [
"//Finding of discharge through triangular channel\n",
"//Given\n",
"y=4;\n",
"theta=60;\n",
"b=theta/2;\n",
"n=0.0182;\n",
"sb=1/1000;\n",
"T=2*tan(b)*y;z=tan(b); disp(z);\n",
"A=0.5*T*y;\n",
"P=2*sqrt(y^2+(y*tan(b))^2);\n",
"R=A/P;disp(A);disp(P);disp(R);\n",
"//To Find\n",
"q=A*(1/n)*(R)^2/3*(sb)^1/2;\n",
"disp('discharge through triangular channel ='+string(q)+' m^3/sec');"
   ]
   }
,
{
		   "cell_type": "markdown",
		   "metadata": {},
		   "source": [
			"## Example 10.7: Example.sce"
		   ]
		  },
  {
"cell_type": "code",
	   "execution_count": null,
	   "metadata": {
	    "collapsed": true
	   },
	   "outputs": [],
"source": [
"//Finding of Diameter of circular channel\n",
"//Given\n",
"q=1;\n",
"n=0.02;\n",
"sb=1/10000;\n",
"//To Find\n",
"q=((%pi/8)*(1/n)*(1/sb)^(1/2)*(1/4)^(2/3));\n",
"D=(8/%pi)*n*(1/sb)^(-0.5)*(4)^(2/3);\n",
"D1=(D)^(3/8);\n",
"disp('Diameter of Circular Pipe ='+string(D)+' meter');"
   ]
   }
,
{
		   "cell_type": "markdown",
		   "metadata": {},
		   "source": [
			"## Example 10.8: Example.sce"
		   ]
		  },
  {
"cell_type": "code",
	   "execution_count": null,
	   "metadata": {
	    "collapsed": true
	   },
	   "outputs": [],
"source": [
"//Finding of Dimemsions\n",
"//Given\n",
"q=0.5;\n",
"sb=1/3000;\n",
"c=60;\n",
"n=0.015;\n",
"//To Find\n",
"y=q/(2*c*(1/2)^(0.5)*(sb)^(1/2));\n",
"y1=y^(2/5);\n",
"b=2*y1;\n",
"y2=q/(2*(1/n)*(1/2)^(2/3)*(sb)^(1/2));\n",
"y3=(y2)^(3/8);\n",
"b1=2*y3;\n",
"disp('Economical Dimensions ='+string(b)+' meter');\n",
"disp('Economical Dimensions ='+string(b1)+' meter');"
   ]
   }
],
"metadata": {
		  "kernelspec": {
		   "display_name": "Scilab",
		   "language": "scilab",
		   "name": "scilab"
		  },
		  "language_info": {
		   "file_extension": ".sce",
		   "help_links": [
			{
			 "text": "MetaKernel Magics",
			 "url": "https://github.com/calysto/metakernel/blob/master/metakernel/magics/README.md"
			}
		   ],
		   "mimetype": "text/x-octave",
		   "name": "scilab",
		   "version": "0.7.1"
		  }
		 },
		 "nbformat": 4,
		 "nbformat_minor": 0
}
