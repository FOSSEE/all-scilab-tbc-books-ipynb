{
"cells": [
 {
		   "cell_type": "markdown",
	   "metadata": {},
	   "source": [
       "# Chapter 18: TurbomachinesHydraulic Turbines"
	   ]
	},
{
		   "cell_type": "markdown",
		   "metadata": {},
		   "source": [
			"## Example 18.10: Example.sce"
		   ]
		  },
  {
"cell_type": "code",
	   "execution_count": null,
	   "metadata": {
	    "collapsed": true
	   },
	   "outputs": [],
"source": [
"//Finding of Vane Angle ,Head ,Velocity ,Efficiency\n",
"//Given\n",
"u=12;\n",
"D=0.8;\n",
"D1=1;\n",
"Vw1=0;\n",
"Hout=1;\n",
"Vw=12;\n",
"Vf=3;\n",
"g=9.81;\n",
"//To Find\n",
"a=atand(Vf/Vw);\n",
"V=sqrt(Vw^2+Vf^2);\n",
"u1=(D1/D)*u;\n",
"V1=u1*tan(%pi/9);\n",
"H=((V1^2/(2*g))+1)+((Vw*u)/g);\n",
"E=((Vw*u)/(g*H))*100;\n",
"disp('Absolute Velocity ='+string(V)+' m/sec');\n",
"disp('Vane Angle ='+string(a)+' degrees');\n",
"disp('Efficiency ='+string(E)+' Percentage');"
   ]
   }
,
{
		   "cell_type": "markdown",
		   "metadata": {},
		   "source": [
			"## Example 18.11: Example.sce"
		   ]
		  },
  {
"cell_type": "code",
	   "execution_count": null,
	   "metadata": {
	    "collapsed": true
	   },
	   "outputs": [],
"source": [
"//Finding of Angle ,Diameter ,Width\n",
"//Given\n",
"E=0.75;\n",
"P=147.15;\n",
"H=8;\n",
"N=200;\n",
"Vw1=0;\n",
"Cv=0.3;\n",
"g=9.81;\n",
"rho=1000;\n",
"//To Find\n",
"u=Cv*sqrt(2*g*H);\n",
"Vf=0.96*sqrt(2*g*H);\n",
"E1=0.8;\n",
"Vw=(E1*g*H)/u;\n",
"a=atand(Vf/Vw);\n",
"b=atand(Vf/(Vw-u));\n",
"D=(60*u)/(%pi*N);\n",
"Q=(E1*P*1000)/(E*rho*Vw*u);\n",
"B=Q/(%pi*D*Vf);\n",
"disp('Diameter ='+string(D)+' meter');\n",
"disp(' Inlet angle ='+string(a)+' degrees');\n",
"disp(' Outlet angle ='+string(b)+' degrees');\n",
"disp('Width ='+string(B)+' meter');"
   ]
   }
,
{
		   "cell_type": "markdown",
		   "metadata": {},
		   "source": [
			"## Example 18.14: Example.sce"
		   ]
		  },
  {
"cell_type": "code",
	   "execution_count": null,
	   "metadata": {
	    "collapsed": true
	   },
	   "outputs": [],
"source": [
"//Finding of Pressure Head ,Efficiency\n",
"//Given\n",
"Di=0.8;\n",
"Do=1.2;\n",
"V2=3;\n",
"L=8;\n",
"y=2;\n",
"Hs=6;\n",
"g=9.81;\n",
"//To Find\n",
"Q=(%pi/4)*Do^2*V2;\n",
"V1=Q/((%pi/4)*Di^2);\n",
"a=(V1^2/(2*g))-(V2^2/(2*g));\n",
"b=0.25*(V2^2/(2*g));\n",
"P=10.3-Hs-a-b;\n",
"E=(a-b)/(V1^2/(2*g));\n",
"E1=E*100;disp(V1);\n",
"disp('Pressure Head ='+string(P)+' meter of water');\n",
"disp('Efficiency ='+string(E1)+' Percentage');"
   ]
   }
,
{
		   "cell_type": "markdown",
		   "metadata": {},
		   "source": [
			"## Example 18.15: Example.sce"
		   ]
		  },
  {
"cell_type": "code",
	   "execution_count": null,
	   "metadata": {
	    "collapsed": true
	   },
	   "outputs": [],
"source": [
"//Finding of Speed ,Power developed\n",
"//Given\n",
"P1=8000;\n",
"N1=90;\n",
"H1=25;\n",
"H2=15;\n",
"//To Find\n",
"N2=N1*(sqrt(H2)/sqrt(H1));\n",
"P2=(P1*(H2)^(3/2))/(H1)^(3/2);\n",
"disp('Speed ='+string(N2)+' rpm');\n",
"disp('Power Developed ='+string(P2)+' Kilo watts');"
   ]
   }
,
{
		   "cell_type": "markdown",
		   "metadata": {},
		   "source": [
			"## Example 18.16: Example.sce"
		   ]
		  },
  {
"cell_type": "code",
	   "execution_count": null,
	   "metadata": {
	    "collapsed": true
	   },
	   "outputs": [],
"source": [
"//Finding of Specific speed,Power generated\n",
"//Given\n",
"H=30;\n",
"N=300;\n",
"Q=10;\n",
"E=0.9;\n",
"g=9.81;\n",
"rho=1000;\n",
"//To Find\n",
"P=(E*rho*g*Q*H)/1000;\n",
"Ns=(N*sqrt(P))/(H)^(5/4);\n",
"disp('Power Developed ='+string(P)+' Kilowatts');\n",
"disp('Specific Speed ='+string(Ns)+' rpm');"
   ]
   }
,
{
		   "cell_type": "markdown",
		   "metadata": {},
		   "source": [
			"## Example 18.1: Example.sce"
		   ]
		  },
  {
"cell_type": "code",
	   "execution_count": null,
	   "metadata": {
	    "collapsed": true
	   },
	   "outputs": [],
"source": [
"//Finding of Power delivered , Efficiency\n",
"//Given\n",
"u=35;\n",
"Q=1;\n",
"theta=10; \n",
"H=270;\n",
"Cv=0.98;\n",
"g=9.81;\n",
"rho=1000;\n",
"//To Find\n",
"V=Cv*sqrt(2*g*H);\n",
"Vr=V-u;\n",
"Vw1=Vr*cos(%pi/18)-u;\n",
"W=rho*(Q*(V+Vw1)*u);\n",
"P=W/1000;\n",
"E=(2*(V+Vw1)*u)/V^2;\n",
"E1=E*100;\n",
"disp('Power delivered ='+string(P)+' Kilo watts');\n",
"disp('Hydraulic Efficiency ='+string(E1)+' percentage');"
   ]
   }
,
{
		   "cell_type": "markdown",
		   "metadata": {},
		   "source": [
			"## Example 18.2: Example.sce"
		   ]
		  },
  {
"cell_type": "code",
	   "execution_count": null,
	   "metadata": {
	    "collapsed": true
	   },
	   "outputs": [],
"source": [
"//Finding of D,d number of jets\n",
"//Given\n",
"E=0.86;\n",
"Dr=10;\n",
"Cv=0.98;\n",
"a=0.45;\n",
"Sp=735.75*1000;\n",
"H=200;\n",
"g=9.81;\n",
"N=800;\n",
"rho=1000;\n",
"//To Find\n",
"V=Cv*sqrt(2*g*H);\n",
"u=V*a;\n",
"D=(60*u)/(%pi*N);\n",
"d=(D/10);\n",
"Q1=(%pi/4)*(d^2)*V;\n",
"Q2=1/((E*rho*g*H)/Sp);\n",
"j=Q2/Q1;disp(Q2);\n",
"disp('D= '+string(D)+' meter');\n",
"disp('d= '+string(d)+' meter');\n",
"disp('Number of Jets ='+string(j)+' nos');"
   ]
   }
,
{
		   "cell_type": "markdown",
		   "metadata": {},
		   "source": [
			"## Example 18.3: Example.sce"
		   ]
		  },
  {
"cell_type": "code",
	   "execution_count": null,
	   "metadata": {
	    "collapsed": true
	   },
	   "outputs": [],
"source": [
"//Finding of Power ,Efficiency\n",
"//Given\n",
"D=0.8;\n",
"N=1000;\n",
"a=15;\n",
"Q=0.15;\n",
"Cv=0.98;\n",
"rho=1000'\n",
"g=9.81;\n",
"H=400;\n",
"//To Find\n",
"u=(%pi*D*N)/60;\n",
"V=Cv*sqrt(2*g*H);\n",
"P=(rho*g*Q*H)/1000;\n",
"E=2*(V-u)*(1+cos(%pi/12))*u\n",
"E1=(E/V^2)*100;\n",
"disp('Power available ='+string(P)+' Kilo watts');\n",
"disp('Hydraulic efficiency ='+string(E1)+' percentage');"
   ]
   }
,
{
		   "cell_type": "markdown",
		   "metadata": {},
		   "source": [
			"## Example 18.4: Example.sce"
		   ]
		  },
  {
"cell_type": "code",
	   "execution_count": null,
	   "metadata": {
	    "collapsed": true
	   },
	   "outputs": [],
"source": [
"//Finding of Power delivered , Efficiency\n",
"//Given\n",
"Q=1.8;\n",
"theta=12; \n",
"Hg=450;\n",
"H=300;\n",
"hf=Hg/3;\n",
"Cv=0.98;\n",
"g=9.81;\n",
"a=0.46;\n",
"rho=1000;\n",
"//To Find\n",
"V=Cv*sqrt(2*g*H);\n",
"u=a*V;\n",
"Vr=V-u;disp(V);\n",
"Vw1=Vr*cos(%pi/15)-u;\n",
"W=rho*(Q*(V+Vw1)*u);\n",
"P=W/1000;disp(V);\n",
"E=(2*(V+Vw1)*u)/V^2;\n",
"E1=E*100;\n",
"disp('Power delivered ='+string(P)+' Kilo watts');\n",
"disp('Hydraulic Efficiency ='+string(E1)+' percentage');"
   ]
   }
,
{
		   "cell_type": "markdown",
		   "metadata": {},
		   "source": [
			"## Example 18.5: Example.sce"
		   ]
		  },
  {
"cell_type": "code",
	   "execution_count": null,
	   "metadata": {
	    "collapsed": true
	   },
	   "outputs": [],
"source": [
"//Finding of Power Developed ,Force Exerted\n",
"//Given\n",
"d=0.13;\n",
"a=15;\n",
"H=400;\n",
"Cv=0.97;\n",
"b=0.45;\n",
"g=9.81;\n",
"rho=1000;\n",
"//To Find\n",
"A=(%pi/4)*d^2;\n",
"u=b*sqrt(2*g*H);\n",
"V=0.97*sqrt(2*g*H);\n",
"Vr1=0.8*(V-u);\n",
"Vw1=u-(Vr1*cos(%pi/15));\n",
"Fx=rho*A*V*(V-Vw1);\n",
"P=(Fx*u)/1000;\n",
"disp('Force Exerted ='+string(Fx)+' Newton');\n",
"disp('Power developed ='+string(P)+' Kilo Watts');"
   ]
   }
,
{
		   "cell_type": "markdown",
		   "metadata": {},
		   "source": [
			"## Example 18.6: Example.sce"
		   ]
		  },
  {
"cell_type": "code",
	   "execution_count": null,
	   "metadata": {
	    "collapsed": true
	   },
	   "outputs": [],
"source": [
"//Finding of Discharge, Width\n",
"//Given\n",
"D=1.2;\n",
"D1=0.6;\n",
"Vf=1.8;\n",
"B=.20;\n",
"//To Find\n",
"Q=(%pi*D*B*Vf);\n",
"B1=((D*B)/D1)*100;\n",
"disp('Discharge ='+string(Q)+' m^3/sec');\n",
"disp('Width ='+string(B1)+' centimeter');"
   ]
   }
,
{
		   "cell_type": "markdown",
		   "metadata": {},
		   "source": [
			"## Example 18.7: Example.sce"
		   ]
		  },
  {
"cell_type": "code",
	   "execution_count": null,
	   "metadata": {
	    "collapsed": true
	   },
	   "outputs": [],
"source": [
"//Finding of Discharge,Power developed,Efficiency\n",
"//Given\n",
"N=500;\n",
"H=100;\n",
"D=1;\n",
"A=35;\n",
"a=15;\n",
"b=60;\n",
"Vw1=0;\n",
"g=9.81;\n",
"rho=1000;\n",
"//To Find\n",
"u=(%pi*D*N)/60;\n",
"Vw=(tan(%pi/3)*u)/1.464;\n",
"Vf=Vw*tan(%pi/12);\n",
"Q=A*Vf;\n",
"P=(rho*g*Vw*u)/1000;\n",
"E=((Vw*u)/(g*H))*100;\n",
"disp('Discharge ='+string(Q)+' m^3/sec');\n",
"disp('Power Developed ='+string(P)+' Kilo Watts');\n",
"disp('Efficiency ='+string(E)+' Percentage');"
   ]
   }
,
{
		   "cell_type": "markdown",
		   "metadata": {},
		   "source": [
			"## Example 18.8: Example.sce"
		   ]
		  },
  {
"cell_type": "code",
	   "execution_count": null,
	   "metadata": {
	    "collapsed": true
	   },
	   "outputs": [],
"source": [
"//Finding of Power developed,Outlet Vane Angle ,Speed\n",
"//Given\n",
"H=100;\n",
"D=.675;\n",
"D1=0.5\n",
"B=0.15;\n",
"B1=.225;\n",
"g=9.81;\n",
"rho=1000;\n",
"Vf=3;\n",
"Vw=3;\n",
"//To Find\n",
"u=Vf/tan(%pi/15);\n",
"N=1/((%pi*D)/(u*60));\n",
"u1=u*(D1/D);disp(Vf);\n",
"Vf1=(D*B*Vf)/(0.15*B1);\n",
"z=atand(Vf1/u1);\n",
"P=(rho*%pi*B*D1*Vf*Vw*u)/10000;\n",
"disp('Speed ='+string(N)+' rpm');\n",
"disp('Power Developed ='+string(P)+' Kilo Watts');\n",
"disp('Outlet Vane Angle ='+string(z)+' degrees');"
   ]
   }
,
{
		   "cell_type": "markdown",
		   "metadata": {},
		   "source": [
			"## Example 18.9: Example.sce"
		   ]
		  },
  {
"cell_type": "code",
	   "execution_count": null,
	   "metadata": {
	    "collapsed": true
	   },
	   "outputs": [],
"source": [
"//Finding of Work Done ,Vane Angles\n",
"//Given\n",
"D=0.5;\n",
"D1=1;\n",
"Vw1=0;\n",
"Vf=3;\n",
"Vf1=3;\n",
"g=9.81;\n",
"rho=1000;\n",
"N=250;\n",
"//To Find\n",
"u=(%pi*D*N)/60;\n",
"u1=(%pi*D1*N)/60;\n",
"Vw=Vf/tan(%pi/12);\n",
"a=atand(Vf/(Vw-u));\n",
"b=atand(Vf1/u1);\n",
"W=(Vw*u)/g;\n",
"E=(W/10);\n",
"disp('Inlet Vane Angle ='+string(a)+' degrees');\n",
"disp('Outlet Vane Angle ='+string(b)+' degrees');\n",
"disp('Work Done ='+string(W)+' N-m/N');\n",
"disp('Efficiency ='+string(E)+' Percentage');"
   ]
   }
],
"metadata": {
		  "kernelspec": {
		   "display_name": "Scilab",
		   "language": "scilab",
		   "name": "scilab"
		  },
		  "language_info": {
		   "file_extension": ".sce",
		   "help_links": [
			{
			 "text": "MetaKernel Magics",
			 "url": "https://github.com/calysto/metakernel/blob/master/metakernel/magics/README.md"
			}
		   ],
		   "mimetype": "text/x-octave",
		   "name": "scilab",
		   "version": "0.7.1"
		  }
		 },
		 "nbformat": 4,
		 "nbformat_minor": 0
}
