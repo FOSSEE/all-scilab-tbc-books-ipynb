{
"cells": [
 {
		   "cell_type": "markdown",
	   "metadata": {},
	   "source": [
       "# Chapter 12: Turbulant Flow"
	   ]
	},
{
		   "cell_type": "markdown",
		   "metadata": {},
		   "source": [
			"## Example 12.1: Example.sce"
		   ]
		  },
  {
"cell_type": "code",
	   "execution_count": null,
	   "metadata": {
	    "collapsed": true
	   },
	   "outputs": [],
"source": [
"//Finding the type of boundary\n",
"//Given\n",
"ks=0.20*10^-3;\n",
"tau=7.848;\n",
"nu=0.01*10^-4;\n",
"rho=1000;\n",
"//To Find\n",
"v=sqrt(tau/rho);\n",
"R=(v*ks)/nu;\n",
"disp('R ='+string(R)+' no units');\n",
"if(R>4);\n",
"if(R<60);\n",
"disp('Flow is Transitional');    "
   ]
   }
,
{
		   "cell_type": "markdown",
		   "metadata": {},
		   "source": [
			"## Example 12.4: Example.sce"
		   ]
		  },
  {
"cell_type": "code",
	   "execution_count": null,
	   "metadata": {
	    "collapsed": true
	   },
	   "outputs": [],
"source": [
"//Finding of  Power Lost \n",
"//Given\n",
"D=0.6;\n",
"L=1000;\n",
"Q=0.6;\n",
"ks=0.003;\n",
"rho=1000;\n",
"g=9.81;\n",
"c=50;\n",
"//To Find\n",
"//For Turbulant Flow\n",
"A=(%pi/4)*D^2;\n",
"a=2*log(3.71*(D/ks));\n",
"b=sqrt(a);\n",
"v=Q/A;\n",
"f=1/c;\n",
"Hf=(f*L*v^2)/(2*g*D);\n",
"P=(rho*g*Q*Hf)/1000;\n",
"disp(' Power Lost ='+string(P)+' Kilowatt');"
   ]
   }
,
{
		   "cell_type": "markdown",
		   "metadata": {},
		   "source": [
			"## Example 12.5: Example.sce"
		   ]
		  },
  {
"cell_type": "code",
	   "execution_count": null,
	   "metadata": {
	    "collapsed": true
	   },
	   "outputs": [],
"source": [
"//Finding of Friction Factor\n",
"//Given\n",
"D=0.1;\n",
"ks=0.0025;\n",
"v=2;\n",
"v1=10^-6;\n",
"//To Find\n",
"//case-1\n",
"R=(v*D)/v1;\n",
"fa=(1.785*log10(R))-1.424;\n",
"a=(fa)^2;\n",
"f1=1/a;\n",
"//case-2\n",
"fb=2*log10((3.71*D)/ks);\n",
"b=(fb)^2;\n",
"f2=1/b;\n",
"//Case-3\n",
"fc=-(2*log10((ks/3.71*D)+(5.186/R^(0.89))));\n",
"c=(fc)^2;\n",
"f3=1/c;\n",
"disp(' Friction Factor for');\n",
"disp('Smooth Turbulent flow ='+string(f1)+' no units ');\n",
"disp('Rough Turbulent flow ='+string(f2)+' no units ');\n",
"disp('Smooth and Rough Turbulent flow ='+string(f3)+' no units ');"
   ]
   }
],
"metadata": {
		  "kernelspec": {
		   "display_name": "Scilab",
		   "language": "scilab",
		   "name": "scilab"
		  },
		  "language_info": {
		   "file_extension": ".sce",
		   "help_links": [
			{
			 "text": "MetaKernel Magics",
			 "url": "https://github.com/calysto/metakernel/blob/master/metakernel/magics/README.md"
			}
		   ],
		   "mimetype": "text/x-octave",
		   "name": "scilab",
		   "version": "0.7.1"
		  }
		 },
		 "nbformat": 4,
		 "nbformat_minor": 0
}
