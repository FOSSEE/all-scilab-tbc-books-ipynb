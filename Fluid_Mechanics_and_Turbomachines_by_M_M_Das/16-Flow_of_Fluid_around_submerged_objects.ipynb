{
"cells": [
 {
		   "cell_type": "markdown",
	   "metadata": {},
	   "source": [
       "# Chapter 16: Flow of Fluid around submerged objects"
	   ]
	},
{
		   "cell_type": "markdown",
		   "metadata": {},
		   "source": [
			"## Example 16.1: Example.sce"
		   ]
		  },
  {
"cell_type": "code",
	   "execution_count": null,
	   "metadata": {
	    "collapsed": true
	   },
	   "outputs": [],
"source": [
"//Finding of Lift,Drag,Power Required\n",
"//Given\n",
"A=4;\n",
"V=40*(5/18);\n",
"Cd1=0.8;\n",
"Cd2=0.2;\n",
"rho=1.25;\n",
"//To Find\n",
"FL=Cd1*A*rho*((V^2)/2);\n",
"Fd=Cd2*A*rho*((V^2)/2);\n",
"F=sqrt(FL^2+Fd^2);\n",
"P=Fd*V;\n",
"P1=P/1000;\n",
"theta=(FL/Fd);\n",
"theta1=(tan(theta))^-1;\n",
"disp('Lift Force ='+string(FL)+' Newton');\n",
"disp('Power Required ='+string(P1)+' Kilo Watts');\n",
"disp('Drag Force ='+string(Fd)+' Newton');\n",
"disp('Resultant Force ='+string(F)+' Newton');\n",
"disp('Angle of Flow Direction ='+string(theta1)+' degrees');"
   ]
   }
,
{
		   "cell_type": "markdown",
		   "metadata": {},
		   "source": [
			"## Example 16.3: Example.sce"
		   ]
		  },
  {
"cell_type": "code",
	   "execution_count": null,
	   "metadata": {
	    "collapsed": true
	   },
	   "outputs": [],
"source": [
"//Finding of Diameter\n",
"//Given\n",
"W=80*9.81;\n",
"Fd=80*9.81;\n",
"V=25;\n",
"Cd=0.5;\n",
"rho=1.25;\n",
"//To Find\n",
"D=(2*Fd)/(Cd*rho*(V^2)*(4/%pi));\n",
"D1=sqrt(D);\n",
"disp('Diameter ='+string(D1)+' meter');"
   ]
   }
,
{
		   "cell_type": "markdown",
		   "metadata": {},
		   "source": [
			"## Example 16.4: Example.sce"
		   ]
		  },
  {
"cell_type": "code",
	   "execution_count": null,
	   "metadata": {
	    "collapsed": true
	   },
	   "outputs": [],
"source": [
"//Finding of Coefficient of Lift ,Drag\n",
"//Given\n",
"A=25;\n",
"P=588.6*(7/10);\n",
"FL=19620;\n",
"V=200*(5/18);\n",
"rho=1000;\n",
"FD=7416;\n",
"//To Find\n",
"FD=(P*1000)/(V);\n",
"Cd=(FD*2)/(rho*A*(V^2));\n",
"Cl=(FL*2)/(rho*A*(V^2));\n",
"disp('Coefficient Of Lift ='+string(Cl)+' No Units');\n",
"disp('Coefficient Of Drag ='+string(Cd)+' No Units');"
   ]
   }
,
{
		   "cell_type": "markdown",
		   "metadata": {},
		   "source": [
			"## Example 16.5: Example.sce"
		   ]
		  },
  {
"cell_type": "code",
	   "execution_count": null,
	   "metadata": {
	    "collapsed": true
	   },
	   "outputs": [],
"source": [
"//Finding of Weight\n",
"//Given\n",
"D=0.05;\n",
"v=1.5*10^-4;\n",
"V=10;\n",
"rho=1.25;\n",
"Cd=0.5;\n",
"//TO Find\n",
"A=(%pi/4)*D^2;\n",
"Fd=Cd*rho*A*((V^2)/2);\n",
"disp('Weight of the ball ='+string(Fd)+' Newtons');"
   ]
   }
,
{
		   "cell_type": "markdown",
		   "metadata": {},
		   "source": [
			"## Example 16.6: Example.sce"
		   ]
		  },
  {
"cell_type": "code",
	   "execution_count": null,
	   "metadata": {
	    "collapsed": true
	   },
	   "outputs": [],
"source": [
"//Finding of Circulation,Theoretical Drag,Actual Drag,Lift,Resultant,Direction\n",
"//Given\n",
"V=20;\n",
"D=2;\n",
"A=2*10;\n",
"R=D/2;\n",
"N=300;\n",
"L=10;\n",
"Cd=0.65;\n",
"Cl=3.4;\n",
"rho=1000;\n",
"//To find\n",
"Vp=(%pi*D*N)/60;\n",
"//case 1\n",
"C=2*(%pi)*R*Vp;\n",
"disp('Circulation ='+string(C)+' m^2/sce');\n",
"//case 2\n",
"Fl=rho*V*L*C;\n",
"disp('Theoretical Lift ='+string(Fl)+' Newtons');\n",
"//case 3\n",
"si=C/(4*(%pi)*V*R);\n",
"theta1=(180+si);\n",
"theta2=(360-si);\n",
"disp('theta ='+string(theta1)+' Degrees');\n",
"disp('theta ='+string(theta2)+' Degrees');\n",
"//case 3\n",
"FL=0.5*rho*A*V^2*Cl;\n",
"disp('Lift Force ='+string(FL)+' Newtons');\n",
"//case 4\n",
"FD=0.5*rho*A*(V^2)*Cd;\n",
"disp('Drag Force ='+string(FD)+' Newtons');\n",
"//case 5\n",
"F=sqrt((FL^2)+(FD^2));\n",
"disp('Resultant Force ='+string(F)+' Newtons');\n",
"//case 6\n",
"theta=1/tan(FL/FD);\n",
"disp('Direction ='+string(theta)+' Degrees');\n",
"//case 7\n",
"C1=4*(%pi)*V*R;\n",
"Vp=C1/(2*(%pi)*R);\n",
"N=(Vp*60)/(2*(%pi));\n",
"disp('Speed ='+string(N)+' rpm');"
   ]
   }
],
"metadata": {
		  "kernelspec": {
		   "display_name": "Scilab",
		   "language": "scilab",
		   "name": "scilab"
		  },
		  "language_info": {
		   "file_extension": ".sce",
		   "help_links": [
			{
			 "text": "MetaKernel Magics",
			 "url": "https://github.com/calysto/metakernel/blob/master/metakernel/magics/README.md"
			}
		   ],
		   "mimetype": "text/x-octave",
		   "name": "scilab",
		   "version": "0.7.1"
		  }
		 },
		 "nbformat": 4,
		 "nbformat_minor": 0
}
