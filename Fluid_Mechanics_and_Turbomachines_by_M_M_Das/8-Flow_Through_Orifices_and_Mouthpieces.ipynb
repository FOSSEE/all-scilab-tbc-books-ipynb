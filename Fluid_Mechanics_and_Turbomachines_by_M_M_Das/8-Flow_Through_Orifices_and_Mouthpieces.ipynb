{
"cells": [
 {
		   "cell_type": "markdown",
	   "metadata": {},
	   "source": [
       "# Chapter 8: Flow Through Orifices and Mouthpieces"
	   ]
	},
{
		   "cell_type": "markdown",
		   "metadata": {},
		   "source": [
			"## Example 8.1: Example.sce"
		   ]
		  },
  {
"cell_type": "code",
	   "execution_count": null,
	   "metadata": {
	    "collapsed": true
	   },
	   "outputs": [],
"source": [
"//Finding of Actual Discharge,velocity\n",
"//Given\n",
"d=0.05;\n",
"H=12;\n",
"Cd=0.6;\n",
"Cv=0.98;\n",
"g=9.81;\n",
"//To Find\n",
"a=(%pi/4)*d^2;\n",
"v=sqrt(2*g*H);\n",
"q=Cd*a*v;\n",
"V=Cv*v;\n",
"disp('Actual Discharge ='+string(q)+' m^3/sec');\n",
"disp('Actual Velocity ='+string(V)+' m/sec');"
   ]
   }
,
{
		   "cell_type": "markdown",
		   "metadata": {},
		   "source": [
			"## Example 8.2: Example.sce"
		   ]
		  },
  {
"cell_type": "code",
	   "execution_count": null,
	   "metadata": {
	    "collapsed": true
	   },
	   "outputs": [],
"source": [
"//Finding of Coefficient of Discharge\n",
"//Given\n",
"d=0.03;\n",
"H=1.5;\n",
"Ad=2.35*10^-3;\n",
"g=9.81;\n",
"//To Find\n",
"a=(%pi/4)*d^2;\n",
"b=sqrt(2*g*H);\n",
"Td=b*a;\n",
"Cd=Ad/Td;\n",
"disp(' Coefficient of Discharge ='+string(Cd)+' No units');"
   ]
   }
,
{
		   "cell_type": "markdown",
		   "metadata": {},
		   "source": [
			"## Example 8.3: Example.sce"
		   ]
		  },
  {
"cell_type": "code",
	   "execution_count": null,
	   "metadata": {
	    "collapsed": true
	   },
	   "outputs": [],
"source": [
"//Finding of Cv,Cc\n",
"//Given\n",
"H=0.6;\n",
"x=0.1;\n",
"y=0.0045;\n",
"Cd=0.6;\n",
"//To Find\n",
"a=sqrt(4*y*H);\n",
"Cv=x/a;\n",
"Cc=Cd/Cv;\n",
"disp('Cv ='+string(Cv)+' No units');\n",
"disp('Cc ='+string(Cc)+' No units');"
   ]
   }
,
{
		   "cell_type": "markdown",
		   "metadata": {},
		   "source": [
			"## Example 8.4: Example.sce"
		   ]
		  },
  {
"cell_type": "code",
	   "execution_count": null,
	   "metadata": {
	    "collapsed": true
	   },
	   "outputs": [],
"source": [
"//Finding of Cv,Cd,Cc\n",
"//Given\n",
"H=5;\n",
"d1=0.1;\n",
"d2=2;\n",
"t=30;\n",
"h=0.45;\n",
"x=1;\n",
"g=9.81;\n",
"y=0.052;\n",
"H=5;\n",
"//To Find\n",
"A1=(%pi/4)*d2^2;\n",
"Aq=(A1*h)/t;\n",
"A2=(%pi/4)*d1^2;\n",
"b=sqrt(2*g*H);\n",
"Tq=A2*b;\n",
"Cd=Aq/Tq;\n",
"c=sqrt(4*y*H);\n",
"Cv=x/c;\n",
"Cc=Cd/Cv;\n",
"disp(' Cd ='+string(Cd)+' No units');\n",
"disp(' Cv ='+string(Cv)+' No units');\n",
"disp(' Cc ='+string(Cc)+' No units');"
   ]
   }
,
{
		   "cell_type": "markdown",
		   "metadata": {},
		   "source": [
			"## Example 8.6: Example.sce"
		   ]
		  },
  {
"cell_type": "code",
	   "execution_count": null,
	   "metadata": {
	    "collapsed": true
	   },
	   "outputs": [],
"source": [
"//Finding of Dischage through Rectangular orifice\n",
"//Given\n",
"H1=4;\n",
"H2=6;\n",
"Cd=0.62;\n",
"g=9.81;\n",
"//To Find\n",
"a=H2^(3/2)-H1^(3/2);\n",
"b=sqrt(2*g);\n",
"q=Cd*2*b*a;\n",
"disp('Dischage through Rectangular orifice ='+string(q)+' m^3/sec');"
   ]
   }
,
{
		   "cell_type": "markdown",
		   "metadata": {},
		   "source": [
			"## Example 8.7: Example.sce"
		   ]
		  },
  {
"cell_type": "code",
	   "execution_count": null,
	   "metadata": {
	    "collapsed": true
	   },
	   "outputs": [],
"source": [
"//Finding of Dischage through a fully submersed Orifice\n",
"//Given\n",
"b=2;\n",
"H=0.8;\n",
"H1=2.5;\n",
"H2=3;\n",
"Cd=0.6;\n",
"g=9.81;\n",
"//To Find\n",
"a=sqrt(2*g*H);\n",
"q=Cd*a*b*(H2-H1);\n",
"disp('Dischage through a fully submersed Orifice ='+string(q)+' m^3/sec');\n",
""
   ]
   }
,
{
		   "cell_type": "markdown",
		   "metadata": {},
		   "source": [
			"## Example 8.8: Example.sce"
		   ]
		  },
  {
"cell_type": "code",
	   "execution_count": null,
	   "metadata": {
	    "collapsed": true
	   },
	   "outputs": [],
"source": [
"//Dischage through Orifice\n",
"//Given\n",
"b=1.5;\n",
"H1=3.2;\n",
"H2=2;\n",
"H3=2.4;\n",
"Cd=0.62;\n",
"g=9.81;\n",
"//To Find\n",
"a=H3^(3/2)-H2^(3/2);\n",
"q1=(2/3)*Cd*b*sqrt(2*g)*a;\n",
"q2=Cd*b*(H1-H3)*sqrt(2*g*H3);\n",
"q3=q1+q2;\n",
"disp('Dischage through Orifice ='+string(q3)+' m^3/sec');"
   ]
   }
,
{
		   "cell_type": "markdown",
		   "metadata": {},
		   "source": [
			"## Example 8.9: Example.sce"
		   ]
		  },
  {
"cell_type": "code",
	   "execution_count": null,
	   "metadata": {
	    "collapsed": true
	   },
	   "outputs": [],
"source": [
"//Finding of Time Taken\n",
"//Given\n",
"d1=3;\n",
"d2=0.4;\n",
"H1=4;\n",
"H2=2;\n",
"g=9.81;\n",
"Cd=0.6;\n",
"//To Find\n",
"A=(%pi/4)*d1^2;\n",
"a=(%pi/4)*d2^2;\n",
"//To empty from 4-2 meter\n",
"c=sqrt(H1)-sqrt(H2);\n",
"T=(2*A*c)/(Cd*a*sqrt(2*g));\n",
"disp('Time Taken To empty from 4 to 2 meter ='+string(T)+' seconds');\n",
"//To empty the tank fully\n",
"T1=(2*A*sqrt(H1))/(Cd*a*sqrt(2*g));\n",
"disp('Time Taken To empty the tank ='+string(T1)+' seconds');"
   ]
   }
],
"metadata": {
		  "kernelspec": {
		   "display_name": "Scilab",
		   "language": "scilab",
		   "name": "scilab"
		  },
		  "language_info": {
		   "file_extension": ".sce",
		   "help_links": [
			{
			 "text": "MetaKernel Magics",
			 "url": "https://github.com/calysto/metakernel/blob/master/metakernel/magics/README.md"
			}
		   ],
		   "mimetype": "text/x-octave",
		   "name": "scilab",
		   "version": "0.7.1"
		  }
		 },
		 "nbformat": 4,
		 "nbformat_minor": 0
}
