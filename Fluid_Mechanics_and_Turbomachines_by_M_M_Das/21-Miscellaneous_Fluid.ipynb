{
"cells": [
 {
		   "cell_type": "markdown",
	   "metadata": {},
	   "source": [
       "# Chapter 21: Miscellaneous Fluid"
	   ]
	},
{
		   "cell_type": "markdown",
		   "metadata": {},
		   "source": [
			"## Example 21.10: Example.sce"
		   ]
		  },
  {
"cell_type": "code",
	   "execution_count": null,
	   "metadata": {
	    "collapsed": true
	   },
	   "outputs": [],
"source": [
"//Finding of Diameter\n",
"//Given\n",
"D=25;\n",
"P1=25;\n",
"P2=120;\n",
"//To Find\n",
"A=(%pi/4)*D^2;\n",
"d=(A*P1)/P2;\n",
"d1=sqrt(d);\n",
"disp('Diameter ='+string(d1)+' centimeter');"
   ]
   }
,
{
		   "cell_type": "markdown",
		   "metadata": {},
		   "source": [
			"## Example 21.11: Example.sce"
		   ]
		  },
  {
"cell_type": "code",
	   "execution_count": null,
	   "metadata": {
	    "collapsed": true
	   },
	   "outputs": [],
"source": [
"//Finding of load on Ram\n",
"//Given\n",
"D=0.2;\n",
"L=6;\n",
"p=588.6*10^4;\n",
"//To Find\n",
"A=(%pi/4)*D^2;\n",
"W=p*A;\n",
"capacity=W*L;\n",
"disp('Load ='+string(W)+' Newtons');\n",
"disp('Capacity of the accumulator ='+string(capacity)+' N-m');"
   ]
   }
,
{
		   "cell_type": "markdown",
		   "metadata": {},
		   "source": [
			"## Example 21.12: Example.sce"
		   ]
		  },
  {
"cell_type": "code",
	   "execution_count": null,
	   "metadata": {
	    "collapsed": true
	   },
	   "outputs": [],
"source": [
"//Finding of Pressure of water\n",
"//Given\n",
"W=490500;\n",
"Fr=39240;\n",
"d=40;\n",
"//To Find\n",
"A=(%pi/4)*d^2;\n",
"Wu=W+Fr;\n",
"P1=Wu/A;\n",
"Wd=W-Fr;\n",
"P2=Wd/A;\n",
"disp('Pressure while moving up ='+string(P1)+' N/cm^2');\n",
"disp('Pressure while moving down ='+string(P2)+' N/cm^2');"
   ]
   }
,
{
		   "cell_type": "markdown",
		   "metadata": {},
		   "source": [
			"## Example 21.13: Example.sce"
		   ]
		  },
  {
"cell_type": "code",
	   "execution_count": null,
	   "metadata": {
	    "collapsed": true
	   },
	   "outputs": [],
"source": [
"//Finding of Power delivered\n",
"//Given\n",
"L=(588600-(588600*4)/100);\n",
"d=35;\n",
"l=5;\n",
"q=0.008;\n",
"t1=2.5*60;\n",
"rho=1000;\n",
"g=9.81;\n",
"//To Find\n",
"A=(%pi/4)*d^2;\n",
"P=L/A;\n",
"P1=P*10^4;\n",
"H=P1/(rho*g);\n",
"W1=q*1000*g*H;\n",
"W2=L*l/t1;\n",
"W3=W1+W2;\n",
"W4=W3/1000;\n",
"disp('Power Delivered ='+string(W4)+' Kilo Watts');"
   ]
   }
,
{
		   "cell_type": "markdown",
		   "metadata": {},
		   "source": [
			"## Example 21.14: Example.sce"
		   ]
		  },
  {
"cell_type": "code",
	   "execution_count": null,
	   "metadata": {
	    "collapsed": true
	   },
	   "outputs": [],
"source": [
"//Finding of Efficiency ,Slip\n",
"//Given\n",
"Nb=780;\n",
"Na=800;\n",
"//To Find\n",
"E=Nb/Na;\n",
"E1=E*100;\n",
"S=100-E1;\n",
"disp('Efficiency ='+string(E1)+' percentage');\n",
"disp('Slip ='+string(S)+' Percentage');"
   ]
   }
,
{
		   "cell_type": "markdown",
		   "metadata": {},
		   "source": [
			"## Example 21.2: Example.sce"
		   ]
		  },
  {
"cell_type": "code",
	   "execution_count": null,
	   "metadata": {
	    "collapsed": true
	   },
	   "outputs": [],
"source": [
"//Finding of Force,Power,strokes\n",
"//Given\n",
"d1=0.3;\n",
"d2=0.15;\n",
"W=600;\n",
"d=1.2;\n",
"s=0.25;\n",
"//To Find\n",
"A1=(%pi/4)*d1^2;\n",
"A2=(%pi/4)*d2^2;\n",
"F=(A1/A2)*W;\n",
"W1=W*(d/1200);\n",
"P=W1/1000;\n",
"S=(A1/A2)*(d/s);\n",
"disp('Force ='+string(F)+' Newtons');\n",
"disp('Power required ='+string(P)+' Kilo Watts');\n",
"disp('Number of strokes ='+string(S)+' No units');"
   ]
   }
,
{
		   "cell_type": "markdown",
		   "metadata": {},
		   "source": [
			"## Example 21.3: Example.sce"
		   ]
		  },
  {
"cell_type": "code",
	   "execution_count": null,
	   "metadata": {
	    "collapsed": true
	   },
	   "outputs": [],
"source": [
"//Finding of Efficiency\n",
"//Given\n",
"W=0.03;\n",
"rho=1000;\n",
"g=9.81;\n",
"w=0.003;\n",
"H1=4;\n",
"H2=18;\n",
"//To Find\n",
"W1=rho*g*W;\n",
"w1=rho*g*w;\n",
"E1=(w1*H2)/(W1*H1)*100;\n",
"E2=(w1*(H2-H1))/((W1-w1)*H1)*100;\n",
"disp('D Aubuissons Efficiency ='+string(E1)+' percentage');\n",
"disp('Rankine Efficiency ='+string(E2)+' percentage');"
   ]
   }
,
{
		   "cell_type": "markdown",
		   "metadata": {},
		   "source": [
			"## Example 21.4: Example.sce"
		   ]
		  },
  {
"cell_type": "code",
	   "execution_count": null,
	   "metadata": {
	    "collapsed": true
	   },
	   "outputs": [],
"source": [
"//Finding of Power, Working ,Idle Period\n",
"//Given\n",
"H=12;\n",
"t=100;\n",
"W=98100;\n",
"v=0.6;\n",
"w=981*12;\n",
"//To Find\n",
"P=w/1000;\n",
"T1=H/v;\n",
"T2=100-T1;\n",
"disp('Power Required ='+string(P)+' Kilo watt');\n",
"disp('Time for working ='+string(T1)+' seconds');\n",
"disp('Idle Time ='+string(T2)+' seconds');"
   ]
   }
,
{
		   "cell_type": "markdown",
		   "metadata": {},
		   "source": [
			"## Example 21.7: Example.sce"
		   ]
		  },
  {
"cell_type": "code",
	   "execution_count": null,
	   "metadata": {
	    "collapsed": true
	   },
	   "outputs": [],
"source": [
"//Finding of Volume ,Diameter\n",
"//Given\n",
"L=44145;\n",
"H=10;\n",
"E=0.55;\n",
"P=490.5*10^4;\n",
"//To Find\n",
"W=L*H;\n",
"F=P*(%pi/4);\n",
"Energy=F*5;\n",
"d=W/(Energy*E);\n",
"d1=d^(.33);\n",
"V=((%pi/4)*d1^2)*(5*d1);\n",
"disp('Diameter ='+string(d1)+' meter');\n",
"disp('Volume ='+string(V)+' m^3');"
   ]
   }
,
{
		   "cell_type": "markdown",
		   "metadata": {},
		   "source": [
			"## Example 21.9: Example.sce"
		   ]
		  },
  {
"cell_type": "code",
	   "execution_count": null,
	   "metadata": {
	    "collapsed": true
	   },
	   "outputs": [],
"source": [
"//Finding of Pressure intensity\n",
"//Given\n",
"P=17;\n",
"D=12;\n",
"d=5;\n",
"//To Find\n",
"A=(%pi/4)*D^2;\n",
"a=(%pi/4)*d^2;\n",
"p=(A/a)*P;\n",
"disp('Pressure Intensity ='+string(p)+' N/cm^2');"
   ]
   }
],
"metadata": {
		  "kernelspec": {
		   "display_name": "Scilab",
		   "language": "scilab",
		   "name": "scilab"
		  },
		  "language_info": {
		   "file_extension": ".sce",
		   "help_links": [
			{
			 "text": "MetaKernel Magics",
			 "url": "https://github.com/calysto/metakernel/blob/master/metakernel/magics/README.md"
			}
		   ],
		   "mimetype": "text/x-octave",
		   "name": "scilab",
		   "version": "0.7.1"
		  }
		 },
		 "nbformat": 4,
		 "nbformat_minor": 0
}
