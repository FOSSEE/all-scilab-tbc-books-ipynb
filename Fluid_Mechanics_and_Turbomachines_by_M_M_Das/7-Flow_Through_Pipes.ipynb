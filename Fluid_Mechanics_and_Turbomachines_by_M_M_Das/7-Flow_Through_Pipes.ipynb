{
"cells": [
 {
		   "cell_type": "markdown",
	   "metadata": {},
	   "source": [
       "# Chapter 7: Flow Through Pipes"
	   ]
	},
{
		   "cell_type": "markdown",
		   "metadata": {},
		   "source": [
			"## Example 7.12: Example.sce"
		   ]
		  },
  {
"cell_type": "code",
	   "execution_count": null,
	   "metadata": {
	    "collapsed": true
	   },
	   "outputs": [],
"source": [
"//Finding of Maximum Power Outlet\n",
"//Given\n",
"d=0.4;\n",
"l=400;\n",
"H=420;\n",
"rho=1000;\n",
"f=0.025;\n",
"g=9.81;\n",
"pi=3.14;\n",
"//To Find\n",
"h=H/3;\n",
"h1=(f*l*100)/(2*g*d);\n",
"v=sqrt(h/h1);disp(h); disp(h1);\n",
"a=(pi/4)*d^2;\n",
"q=a*v;\n",
"h3=H-h;disp(h3);\n",
"p=(rho*g*q*h3)/1000;\n",
"disp(' Maximum Power Outlet ='+string(p)+' KW');"
   ]
   }
,
{
		   "cell_type": "markdown",
		   "metadata": {},
		   "source": [
			"## Example 7.13: Example.sce"
		   ]
		  },
  {
"cell_type": "code",
	   "execution_count": null,
	   "metadata": {
	    "collapsed": true
	   },
	   "outputs": [],
"source": [
"//Finding of Rise of Pressure\n",
"//Given\n",
"l=2000;\n",
"d=0.6;\n",
"v=2;\n",
"c=1420;\n",
"t=20;\n",
"rho=1000;\n",
"//To Find\n",
"p=(rho*l*v)/t\n",
"p1=p/10000;\n",
"disp('Rise of Pressure ='+string(p1)+'N/cm^2');"
   ]
   }
,
{
		   "cell_type": "markdown",
		   "metadata": {},
		   "source": [
			"## Example 7.14: Example.sce"
		   ]
		  },
  {
"cell_type": "code",
	   "execution_count": null,
	   "metadata": {
	    "collapsed": true
	   },
	   "outputs": [],
"source": [
"//Finding of Rise of Pressure\n",
"//Given\n",
"l=2000;\n",
"d=0.6;\n",
"v=2;\n",
"t=20;\n",
"k=19.62*10^8;\n",
"rho=1000;\n",
"//To Find\n",
"c=sqrt(k/rho);\n",
"p=rho*v*c\n",
"p1=p/10000;\n",
"disp('Rise of Pressure ='+string(p1)+'N/cm^2');"
   ]
   }
,
{
		   "cell_type": "markdown",
		   "metadata": {},
		   "source": [
			"## Example 7.15: Example.sce"
		   ]
		  },
  {
"cell_type": "code",
	   "execution_count": null,
	   "metadata": {
	    "collapsed": true
	   },
	   "outputs": [],
"source": [
"//Finding of Rise of Pressure and circumferential, Longitudinal stress\n",
"//Given\n",
"l=2000;\n",
"d=0.6;\n",
"v=2;\n",
"t=0.01;\n",
"k=19.62*10^8;\n",
"rho=1000;\n",
"E=19.62*10^10;\n",
"//To Find\n",
"a=(1/k)+(d/(t*E));\n",
"b=(1/rho)*a;\n",
"c=sqrt(b);\n",
"p=2/c;\n",
"p1=p/10000;\n",
"fc=((p*d)/(2*t))/10000;\n",
"fl=((p*d)/(4*t))/10000;\n",
"disp('Rise of Pressure ='+string(p1)+'N/cm^2');\n",
"disp('Circumferential stress ='+string(fc)+' N/m^2');\n",
"disp('Longitudinal stress ='+string(fl)+' N/m^2');"
   ]
   }
,
{
		   "cell_type": "markdown",
		   "metadata": {},
		   "source": [
			"## Example 7.16: Example.sce"
		   ]
		  },
  {
"cell_type": "code",
	   "execution_count": null,
	   "metadata": {
	    "collapsed": true
	   },
	   "outputs": [],
"source": [
"//Finding of Maximum rise of water level,velocity,Time of occurance\n",
"//Given\n",
"d=4;\n",
"d1=1;\n",
"l=150;\n",
"q=2;\n",
"g=9.81;\n",
"//To Find\n",
"a1=(%pi/4)*d^2;\n",
"a2=(%pi/4)*d1^2;\n",
"v=q/a2;\n",
"a=(l*a2)/(g*a1);\n",
"b=sqrt(a);\n",
"h=v*b;\n",
"c=(l*a1)/(g*a2);\n",
"d=sqrt(c);\n",
"t=(%pi/2)*d;\n",
"v1=v*(a2/a1);\n",
"disp('Maximum rise of water ='+string(h)+' meter');\n",
"disp('Time taken ='+string(t)+' seconds');\n",
"disp('Maximum Velocity ='+string(v1)+' m/sec');"
   ]
   }
,
{
		   "cell_type": "markdown",
		   "metadata": {},
		   "source": [
			"## Example 7.1: Example.sce"
		   ]
		  },
  {
"cell_type": "code",
	   "execution_count": null,
	   "metadata": {
	    "collapsed": true
	   },
	   "outputs": [],
"source": [
"//Finding of Loss of Head\n",
"//Given\n",
"q1=200;\n",
"d1=150;\n",
"d2=300;\n",
"g=9.81;\n",
"//To Find\n",
"v1=200*(4/%pi)*(100/150)^2;\n",
"disp(v1);\n",
"v2=200*(4/%pi)*(100/300)^2;\n",
"disp(v2);\n",
"h=((v1-v2)^2)/20*g;\n",
"h1=h/1000;\n",
"disp(' Loss of Head ='+string(h1)+' meter of water'); "
   ]
   }
,
{
		   "cell_type": "markdown",
		   "metadata": {},
		   "source": [
			"## Example 7.3: Example.sce"
		   ]
		  },
  {
"cell_type": "code",
	   "execution_count": null,
	   "metadata": {
	    "collapsed": true
	   },
	   "outputs": [],
"source": [
"//Finding of Discharge\n",
"//Given\n",
"d=0.3;\n",
"l=400;\n",
"f=0.00225;\n",
"h=5;\n",
"g=9.81;\n",
"//To Find\n",
"x=(h*2*g*d)/(f*l);\n",
"v=sqrt(x);\n",
"disp(v);\n",
"A=(%pi/4)*d^2;\n",
"q=A*v;disp(A);\n",
"disp(' Discharge ='+string(q)+' m^3/sec');"
   ]
   }
,
{
		   "cell_type": "markdown",
		   "metadata": {},
		   "source": [
			"## Example 7.6: Example.sce"
		   ]
		  },
  {
"cell_type": "code",
	   "execution_count": null,
	   "metadata": {
	    "collapsed": true
	   },
	   "outputs": [],
"source": [
"//Finding of Head\n",
"//Giiven\n",
"f=0.032;\n",
"l=400;\n",
"d=0.3;\n",
"q=0.3;\n",
"g=9.81;\n",
"//TO find\n",
"A=(%pi/4)*d^2\n",
"V=q/A;\n",
"v1=(V^2);\n",
"x=1.5+(f*l/d);\n",
"y=v1/(2*g);\n",
"H=x*y;\n",
"disp('Difference in water level ='+string(H)+' meter')"
   ]
   }
,
{
		   "cell_type": "markdown",
		   "metadata": {},
		   "source": [
			"## Example 7.9: Example.sce"
		   ]
		  },
  {
"cell_type": "code",
	   "execution_count": null,
	   "metadata": {
	    "collapsed": true
	   },
	   "outputs": [],
"source": [
"//Finding of Equivalent Diameter\n",
"//Given\n",
"L=1400;\n",
"L1=800;\n",
"L2=400;\n",
"L3=200;\n",
"D1=0.6;\n",
"D2=0.4;\n",
"D3=0.2;\n",
"//To Find\n",
"a=L1/(D1)^5;disp(a);\n",
"b=L2/(D2)^5;disp(b);\n",
"c=L3/(D3)^5;disp(c);\n",
"d=(a+b+c);disp(d);\n",
"d1=d^1/5;\n",
"D=L/d1;\n",
"disp( 'Diameter ='+string(D)+' meter');"
   ]
   }
],
"metadata": {
		  "kernelspec": {
		   "display_name": "Scilab",
		   "language": "scilab",
		   "name": "scilab"
		  },
		  "language_info": {
		   "file_extension": ".sce",
		   "help_links": [
			{
			 "text": "MetaKernel Magics",
			 "url": "https://github.com/calysto/metakernel/blob/master/metakernel/magics/README.md"
			}
		   ],
		   "mimetype": "text/x-octave",
		   "name": "scilab",
		   "version": "0.7.1"
		  }
		 },
		 "nbformat": 4,
		 "nbformat_minor": 0
}
