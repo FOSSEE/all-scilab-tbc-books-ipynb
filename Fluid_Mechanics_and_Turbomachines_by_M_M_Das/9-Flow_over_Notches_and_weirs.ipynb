{
"cells": [
 {
		   "cell_type": "markdown",
	   "metadata": {},
	   "source": [
       "# Chapter 9: Flow over Notches and weirs"
	   ]
	},
{
		   "cell_type": "markdown",
		   "metadata": {},
		   "source": [
			"## Example 9.10: Example.sce"
		   ]
		  },
  {
"cell_type": "code",
	   "execution_count": null,
	   "metadata": {
	    "collapsed": true
	   },
	   "outputs": [],
"source": [
"//Finding of Discharge\n",
"//Given\n",
"L=5.4;\n",
"n=6;\n",
"H=0.45;\n",
"//To Find\n",
"q=1.84*(L-(0.1*n*H))*H^(3/2);\n",
"disp('Discharge ='+string(q)+' m^3/sec');"
   ]
   }
,
{
		   "cell_type": "markdown",
		   "metadata": {},
		   "source": [
			"## Example 9.1: Example.sce"
		   ]
		  },
  {
"cell_type": "code",
	   "execution_count": null,
	   "metadata": {
	    "collapsed": true
	   },
	   "outputs": [],
"source": [
"//Finding of Discharge through rectangular Notch\n",
"//Given\n",
"H=0.4;\n",
"L=3;\n",
"Cd=0.6;\n",
"g=9.81;\n",
"//To Find\n",
"q=(2/3)*Cd*L*sqrt(2*g)*H^(3/2);\n",
"disp('Discharge through rectangular Notch ='+string(q)+' m^3/sec');"
   ]
   }
,
{
		   "cell_type": "markdown",
		   "metadata": {},
		   "source": [
			"## Example 9.2: Example.sce"
		   ]
		  },
  {
"cell_type": "code",
	   "execution_count": null,
	   "metadata": {
	    "collapsed": true
	   },
	   "outputs": [],
"source": [
"//Finding of Height\n",
"//Given\n",
"q=1.5;\n",
"Cd=0.6;\n",
"L=5;\n",
"g=9.81;\n",
"//To Find\n",
"H=q/((2/3)*Cd*L*sqrt(2*g));\n",
"H1=H^(2/3);\n",
"Z=q-H1;disp(H1);\n",
"disp('Height ='+string(Z)+' meter');"
   ]
   }
,
{
		   "cell_type": "markdown",
		   "metadata": {},
		   "source": [
			"## Example 9.3: Example.sce"
		   ]
		  },
  {
"cell_type": "code",
	   "execution_count": null,
	   "metadata": {
	    "collapsed": true
	   },
	   "outputs": [],
"source": [
"//Finding of Position of Apex of Notch\n",
"//Given\n",
"q=0.20;\n",
"d=1;\n",
"theta=90;\n",
"Cd=0.62;\n",
"g=9.81;\n",
"//To Find\n",
"b=(theta/2);\n",
"H=q/((8/15)*Cd*sqrt(2*g)*tan(b));\n",
"H1=H^(2/5);\n",
"p=d-H1;\n",
"disp('Position of Apex of Notch ='+string(p)+' meter');"
   ]
   }
,
{
		   "cell_type": "markdown",
		   "metadata": {},
		   "source": [
			"## Example 9.4: Example.sce"
		   ]
		  },
  {
"cell_type": "code",
	   "execution_count": null,
	   "metadata": {
	    "collapsed": true
	   },
	   "outputs": [],
"source": [
"//Finding of discharge through Trapezoidal Notch\n",
"//Given\n",
"H=0.3;\n",
"Cd1=0.62;\n",
"Cd2=0.6;\n",
"d=0.4;\n",
"w1=1.2;\n",
"w2=0.5;\n",
"h=0.4;\n",
"g=9.81;\n",
"//To Find\n",
"theta=((w1-w2)/2)/h;disp(theta);\n",
"q1=((2/3)*Cd1*sqrt(2*g)*H^(3/2));\n",
"q2=((8/15)*Cd2*sqrt(2*g)*theta*H^(5/2));\n",
"q=q1+q2;disp(q1);disp(q2);\n",
"disp('discharge through Trapezoidal Notch ='+string(q)+' m^3/sec');"
   ]
   }
,
{
		   "cell_type": "markdown",
		   "metadata": {},
		   "source": [
			"## Example 9.5: Example.sce"
		   ]
		  },
  {
"cell_type": "code",
	   "execution_count": null,
	   "metadata": {
	    "collapsed": true
	   },
	   "outputs": [],
"source": [
"//Finding of Percentage Error in Discharge\n",
"//Given\n",
"Cd=0.6;\n",
"q=40000;\n",
"L=0.5;\n",
"H=0.2;\n",
"g=9.81;\n",
"//To Find\n",
"H1=q/((2/3)*Cd*L*sqrt(2*g));\n",
"H2=H1^(2/3);\n",
"H3=H2/100;\n",
"dq=(3/2)*(H/H3)*100;\n",
"disp('Percentage Error in Discharge ='+string(dq)+' Percentage');"
   ]
   }
,
{
		   "cell_type": "markdown",
		   "metadata": {},
		   "source": [
			"## Example 9.8: Example.sce"
		   ]
		  },
  {
"cell_type": "code",
	   "execution_count": null,
	   "metadata": {
	    "collapsed": true
	   },
	   "outputs": [],
"source": [
"//Finding of Discharge over a Cipolletti weir\n",
"//Given\n",
"L=1.8;\n",
"H=1.2;\n",
"Cd=0.632;\n",
"//To Find\n",
"q=1.866*L*H^(3/2);\n",
"disp('Discharge over a Cipolletti weir ='+string(q)+' m^3/sec');"
   ]
   }
,
{
		   "cell_type": "markdown",
		   "metadata": {},
		   "source": [
			"## Example 9.9: Example.sce"
		   ]
		  },
  {
"cell_type": "code",
	   "execution_count": null,
	   "metadata": {
	    "collapsed": true
	   },
	   "outputs": [],
"source": [
"//Finding of Dischage\n",
"//Given\n",
"Cd1=0.6;\n",
"Cd2=0.8;\n",
"L=3.5;\n",
"g=9.81;\n",
"H1=0.3;\n",
"H2=0.15;\n",
"//To Find\n",
"q1=((2/3)*Cd1*L*sqrt(2*g)*(H1-H2)^(3/2));\n",
"q2=Cd2*L*H2*sqrt(2*g*(H1-H2));\n",
"q3=q1+q2;\n",
"disp('Dischage ='+string(q3)+' m^3/sec');"
   ]
   }
],
"metadata": {
		  "kernelspec": {
		   "display_name": "Scilab",
		   "language": "scilab",
		   "name": "scilab"
		  },
		  "language_info": {
		   "file_extension": ".sce",
		   "help_links": [
			{
			 "text": "MetaKernel Magics",
			 "url": "https://github.com/calysto/metakernel/blob/master/metakernel/magics/README.md"
			}
		   ],
		   "mimetype": "text/x-octave",
		   "name": "scilab",
		   "version": "0.7.1"
		  }
		 },
		 "nbformat": 4,
		 "nbformat_minor": 0
}
