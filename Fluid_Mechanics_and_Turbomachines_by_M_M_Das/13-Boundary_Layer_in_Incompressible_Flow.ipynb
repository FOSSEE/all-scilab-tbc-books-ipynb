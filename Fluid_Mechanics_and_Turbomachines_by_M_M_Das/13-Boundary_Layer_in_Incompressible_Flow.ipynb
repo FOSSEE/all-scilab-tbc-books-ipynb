{
"cells": [
 {
		   "cell_type": "markdown",
	   "metadata": {},
	   "source": [
       "# Chapter 13: Boundary Layer in Incompressible Flow"
	   ]
	},
{
		   "cell_type": "markdown",
		   "metadata": {},
		   "source": [
			"## Example 13.2: Example.sce"
		   ]
		  },
  {
"cell_type": "code",
	   "execution_count": null,
	   "metadata": {
	    "collapsed": true
	   },
	   "outputs": [],
"source": [
"//Finding of Boundary layer thickness , Drag Force\n",
"//Given\n",
"x=1;\n",
"L=1.5;\n",
"b=1.2;\n",
"vs=0.25;\n",
"mu=0.001;\n",
"rho=1000;\n",
"x2=1.2;\n",
"L2=1.2;\n",
"//To Find\n",
"A=L*b;\n",
"R=(rho*vs*x)/mu;\n",
"t=(5.477*x)/sqrt(R);\n",
"tau=(0.365*mu*vs*sqrt(R))/x;\n",
"R1=(rho*vs*L)/mu;\n",
"Cd=1.46/sqrt(R1);\n",
"Fd=(1/2)*Cd*rho*(vs)^2*A;\n",
"disp('Boundary Layer Thickness ='+string(t)+' meter');\n",
"disp('Drag Force ='+string(Fd)+' Newtons');\n",
""
   ]
   }
,
{
		   "cell_type": "markdown",
		   "metadata": {},
		   "source": [
			"## Example 13.3: Example.sce"
		   ]
		  },
  {
"cell_type": "code",
	   "execution_count": null,
	   "metadata": {
	    "collapsed": true
	   },
	   "outputs": [],
"source": [
"//Finding of //Finding of Boundary layer thickness , Drag Force\n",
"//Given\n",
"x=1.5;\n",
"L=2;\n",
"b=1.4;\n",
"vs=0.2;\n",
"mu=0.001;\n",
"rho=1000;\n",
"//To Find\n",
"A=L*b;\n",
"R=(rho*vs*x)/mu;\n",
"t=(4.64*x)/sqrt(R);\n",
"t1=t*1000;\n",
"tau=(0.323*mu*vs*sqrt(R))/x;\n",
"R1=(rho*vs*L)/mu;\n",
"Cd=1.292/sqrt(R);\n",
"Fd=(1/2)*Cd*rho*(vs)^2*(2*A);\n",
"disp('Co-efficient of Drag ='+string(Cd)+' no units')\n",
"disp('Boundary Layer Thickness ='+string(t1)+' millimeter');\n",
"disp('Drag Force ='+string(Fd)+' Newtons');\n",
""
   ]
   }
],
"metadata": {
		  "kernelspec": {
		   "display_name": "Scilab",
		   "language": "scilab",
		   "name": "scilab"
		  },
		  "language_info": {
		   "file_extension": ".sce",
		   "help_links": [
			{
			 "text": "MetaKernel Magics",
			 "url": "https://github.com/calysto/metakernel/blob/master/metakernel/magics/README.md"
			}
		   ],
		   "mimetype": "text/x-octave",
		   "name": "scilab",
		   "version": "0.7.1"
		  }
		 },
		 "nbformat": 4,
		 "nbformat_minor": 0
}
