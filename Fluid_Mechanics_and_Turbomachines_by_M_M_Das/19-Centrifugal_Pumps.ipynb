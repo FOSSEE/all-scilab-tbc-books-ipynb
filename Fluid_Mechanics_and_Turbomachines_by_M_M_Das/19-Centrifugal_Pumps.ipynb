{
"cells": [
 {
		   "cell_type": "markdown",
	   "metadata": {},
	   "source": [
       "# Chapter 19: Centrifugal Pumps"
	   ]
	},
{
		   "cell_type": "markdown",
		   "metadata": {},
		   "source": [
			"## Example 19.10: Example.sce"
		   ]
		  },
  {
"cell_type": "code",
	   "execution_count": null,
	   "metadata": {
	    "collapsed": true
	   },
	   "outputs": [],
"source": [
"//Finding of Head , Shaft Power\n",
"//Given\n",
"n=3;\n",
"D1=0.4;\n",
"B1=0.025;\n",
"a=30;\n",
"A=0.15;\n",
"A1=0.0267;\n",
"Emano=0.85;\n",
"E=0.75;\n",
"Q=0.06;\n",
"N=1200;\n",
"g=9.81;\n",
"rho=1000;\n",
"//To Find\n",
"V=Q/A1;disp(V);\n",
"u=(%pi*D1*N)/60;\n",
"Vw1=(u*tan(%pi/6)-V)/tan(%pi/6);\n",
"Hm=(Emano*u*Vw1)/g;\n",
"Hm1=3*Hm;\n",
"SP=(rho*g*Q*Hm1)/(1000*E);\n",
"disp('Head ='+string(Hm1)+' meter');\n",
"disp('Shaft Power ='+string(SP)+' Kilo watts');"
   ]
   }
,
{
		   "cell_type": "markdown",
		   "metadata": {},
		   "source": [
			"## Example 19.11: Example.sce"
		   ]
		  },
  {
"cell_type": "code",
	   "execution_count": null,
	   "metadata": {
	    "collapsed": true
	   },
	   "outputs": [],
"source": [
"//Finding of Number of pumps\n",
"//Given\n",
"H=156;\n",
"N=1000;\n",
"Ns=20;\n",
"Q=0.15;\n",
"//To Find\n",
"Hm=(N*sqrt(Q))/Ns;\n",
"Hm1=(Hm)^(4/3);\n",
"pumps=(H/Hm1);\n",
"disp('Number of Pumps ='+string(pumps)+' Nos');"
   ]
   }
,
{
		   "cell_type": "markdown",
		   "metadata": {},
		   "source": [
			"## Example 19.12: Example.sce"
		   ]
		  },
  {
"cell_type": "code",
	   "execution_count": null,
	   "metadata": {
	    "collapsed": true
	   },
	   "outputs": [],
"source": [
"//Finding of Head Discharge , Ratio of Power\n",
"//Given\n",
"Q1=0.035;\n",
"H1=25;\n",
"D1=0.5;\n",
"N1=1200;\n",
"D2=0.3;\n",
"N2=2000;\n",
"//To Find\n",
"H=(D2*N2*sqrt(H1))/(D1*N1);\n",
"H2=H^2;\n",
"Q=(Q1*D2^3*N2)/(D1^3*N1);\n",
"Pr=(D1/D2)^5*(N1/N2)^3;\n",
"disp('Head ='+string(H2)+' meter');\n",
"disp('Discharge ='+string(Q)+' m^3/sec');\n",
"disp('Power Ratio ='+string(Pr)+' No Units');"
   ]
   }
,
{
		   "cell_type": "markdown",
		   "metadata": {},
		   "source": [
			"## Example 19.1: Example.sce"
		   ]
		  },
  {
"cell_type": "code",
	   "execution_count": null,
	   "metadata": {
	    "collapsed": true
	   },
	   "outputs": [],
"source": [
"//Finding of workdone\n",
"//Given\n",
"D1=.6;\n",
"D=0.3;\n",
"a=20;\n",
"b=30;\n",
"N=1000;\n",
"g=9.81;\n",
"Vw=0;\n",
"rho=1000;\n",
"//To Find\n",
"u=(%pi*D*N)/60;\n",
"u1=(%pi*D1*N)/60;\n",
"Vf=u*tan(%pi/9);\n",
"Vw1=(u1*tan(%pi/6)-Vf)/tan(%pi/6);\n",
"W=(Vw1*u1)/g;\n",
"disp('Work Done ='+string(W)+' N-m/N');"
   ]
   }
,
{
		   "cell_type": "markdown",
		   "metadata": {},
		   "source": [
			"## Example 19.2: Example.sce"
		   ]
		  },
  {
"cell_type": "code",
	   "execution_count": null,
	   "metadata": {
	    "collapsed": true
	   },
	   "outputs": [],
"source": [
"//Finding of vane angle , Work done , Efficiency\n",
"//Given\n",
"D1=0.6;\n",
"D=0.3;\n",
"a=30;\n",
"b=0.05;\n",
"N=1200;\n",
"g=9.81;\n",
"Hm=75;\n",
"Vf=3;\n",
"rho=1000;\n",
"B1=1;\n",
"//To Find\n",
"u=(%pi*D*N)/60;\n",
"u1=(%pi*D1*N)/60;\n",
"Q=%pi*D1*B1*Vf;\n",
"a=atand(Vf/u);disp(u1);\n",
"Vw1=((u1*tan(%pi/6))-Vf)/tan(%pi/6);\n",
"W=(rho*g*Q*u1*Vw1)/g;\n",
"W1=W/1000;\n",
"E=((g*Hm)/(u1*Vw1))*100;\n",
"disp('Vane Angle ='+string(a)+' degrees');\n",
"disp('Work Done ='+string(W1)+' KW/sec');\n",
"disp('Manometric Efficiency ='+string(E)+' Percentage');\n",
""
   ]
   }
,
{
		   "cell_type": "markdown",
		   "metadata": {},
		   "source": [
			"## Example 19.3: Example.sce"
		   ]
		  },
  {
"cell_type": "code",
	   "execution_count": null,
	   "metadata": {
	    "collapsed": true
	   },
	   "outputs": [],
"source": [
"//Finding of Workdone\n",
"//Given\n",
"D1=0.3;\n",
"D=0.15;\n",
"a=30;\n",
"b=25;\n",
"N=1450;\n",
"g=9.81;\n",
"//To Find\n",
"u=(%pi*D1*N)/60;\n",
"u1=(%pi*D*N)/60;\n",
"Vf=u*tan(%pi/6);\n",
"Vw1=(-u1*tan(%pi/7)+Vf)/tan(%pi/7);\n",
"W=(Vw1*u1)/g;\n",
"disp('Work Done ='+string(W)+' Nm/N');"
   ]
   }
,
{
		   "cell_type": "markdown",
		   "metadata": {},
		   "source": [
			"## Example 19.4: Example.sce"
		   ]
		  },
  {
"cell_type": "code",
	   "execution_count": null,
	   "metadata": {
	    "collapsed": true
	   },
	   "outputs": [],
"source": [
"//Finding of Vane Angle\n",
"//Given\n",
"N=1450;\n",
"Hm=23;\n",
"D1=0.25;\n",
"B1=0.05;\n",
"Emano=0.75;\n",
"g=9.81;\n",
"Q=1.25;\n",
"//To Find\n",
"u=(%pi*D1*N)/60;\n",
"Vw1=(Emano*u)/(g*Hm);\n",
"z=u-Vw1;\n",
"Vf1=z*tan(%pi/6);\n",
"Vf1=Q/(%pi*D1*B1);\n",
"a=Vf1/(u-Vw1);\n",
"b=atand(a);\n",
"disp('Vane Angle ='+string(b)+' degrees');"
   ]
   }
,
{
		   "cell_type": "markdown",
		   "metadata": {},
		   "source": [
			"## Example 19.5: Example.sce"
		   ]
		  },
  {
"cell_type": "code",
	   "execution_count": null,
	   "metadata": {
	    "collapsed": true
	   },
	   "outputs": [],
"source": [
"//Finding of Discharge\n",
"//Given\n",
"N=1000;\n",
"Hm=15;\n",
"D1=0.3;\n",
"B1=0.05;\n",
"a=30;\n",
"Emano=0.92;\n",
"g=9.81;\n",
"//To Find\n",
"u=(%pi*D1*N)/60;\n",
"Vw1=(Emano*u)/(g*Hm);\n",
"z=u-Vw1;\n",
"Vf1=z*tan(%pi/6);\n",
"Q=%pi*D1*B1*Vf1;\n",
"disp('Discharge ='+string(Q)+' m^3/sec');"
   ]
   }
,
{
		   "cell_type": "markdown",
		   "metadata": {},
		   "source": [
			"## Example 19.6: Example.sce"
		   ]
		  },
  {
"cell_type": "code",
	   "execution_count": null,
	   "metadata": {
	    "collapsed": true
	   },
	   "outputs": [],
"source": [
"//Finding of Power Required\n",
"//Given\n",
"Q=0.03;\n",
"H=18.25;\n",
"L=90;\n",
"dp=0.1;\n",
"E=0.75;\n",
"f=0.04;\n",
"g=9.81;\n",
"rho=1000;\n",
"//Given\n",
"V=Q/((%pi/4)*dp^2);\n",
"loss=(f*L*V^2)/(2*g*dp);\n",
"a=V^2/(2*g);\n",
"Hm=H+loss+a;\n",
"SP=(rho*g*Q*Hm)/(E*1000);\n",
"disp('Power required ='+string(SP)+' Kilowatts');\n",
""
   ]
   }
,
{
		   "cell_type": "markdown",
		   "metadata": {},
		   "source": [
			"## Example 19.7: Example.sce"
		   ]
		  },
  {
"cell_type": "code",
	   "execution_count": null,
	   "metadata": {
	    "collapsed": true
	   },
	   "outputs": [],
"source": [
"//Finding of Minimum Speed\n",
"//Given\n",
"Hm=7.5;\n",
"D1=1;\n",
"D=0.5;\n",
"g=9.81;\n",
"//To Find\n",
"u=(4/3)*(Hm*2*g);\n",
"u1=sqrt(u);\n",
"N=(60*u1)/(4*%pi);\n",
"disp(' u='+string(u1)+' m/sec');\n",
"disp('Minimum Speed ='+string(N)+' rpm');"
   ]
   }
,
{
		   "cell_type": "markdown",
		   "metadata": {},
		   "source": [
			"## Example 19.8: Example.sce"
		   ]
		  },
  {
"cell_type": "code",
	   "execution_count": null,
	   "metadata": {
	    "collapsed": true
	   },
	   "outputs": [],
"source": [
"//Finding of Mininmum Speed\n",
"//Given\n",
"D=0.3;\n",
"D1=0.6;\n",
"Vf1=2.5;\n",
"a=45;\n",
"Emano=0.75;\n",
"//To Find\n",
"u=(%pi*D)/60;\n",
"N=(-2.5)*(120*Emano**D1)/(%pi*(D1^2-D^2));\n",
"N1=-N+(1/u);\n",
"disp('Speed ='+string(N1)+' rpm');"
   ]
   }
,
{
		   "cell_type": "markdown",
		   "metadata": {},
		   "source": [
			"## Example 19.9: Example.sce"
		   ]
		  },
  {
"cell_type": "code",
	   "execution_count": null,
	   "metadata": {
	    "collapsed": true
	   },
	   "outputs": [],
"source": [
"//Finding of Manometric head\n",
"//Given\n",
"D1=0.4;\n",
"B1=0.025;\n",
"Q=0.06;\n",
"N=1000;\n",
"a=30;\n",
"g=9.81;\n",
"Emano=0.8;\n",
"//To Find\n",
"u=(%pi*D1*N)/60;\n",
"Vf=Q/(%pi*D1*B1);\n",
"Vw1=(-Vf*tan(%pi/6)+u);\n",
"H=(Vw1*u)/g;\n",
"Hm=(Emano*u*Vw1)/g;\n",
"Hm1=2*Hm;\n",
"disp('Head Developed ='+string(Hm1)+' meter');"
   ]
   }
],
"metadata": {
		  "kernelspec": {
		   "display_name": "Scilab",
		   "language": "scilab",
		   "name": "scilab"
		  },
		  "language_info": {
		   "file_extension": ".sce",
		   "help_links": [
			{
			 "text": "MetaKernel Magics",
			 "url": "https://github.com/calysto/metakernel/blob/master/metakernel/magics/README.md"
			}
		   ],
		   "mimetype": "text/x-octave",
		   "name": "scilab",
		   "version": "0.7.1"
		  }
		 },
		 "nbformat": 4,
		 "nbformat_minor": 0
}
