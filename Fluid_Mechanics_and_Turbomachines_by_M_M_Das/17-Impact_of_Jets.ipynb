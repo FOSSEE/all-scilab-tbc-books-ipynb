{
"cells": [
 {
		   "cell_type": "markdown",
	   "metadata": {},
	   "source": [
       "# Chapter 17: Impact of Jets"
	   ]
	},
{
		   "cell_type": "markdown",
		   "metadata": {},
		   "source": [
			"## Example 17.11: Example.sce"
		   ]
		  },
  {
"cell_type": "code",
	   "execution_count": null,
	   "metadata": {
	    "collapsed": true
	   },
	   "outputs": [],
"source": [
"//Finding of Propelling Force,Work Done ,Efficiency\n",
"//Given\n",
"Cv=0.97;\n",
"g=9.81;\n",
"H=6;\n",
"rho=1000;\n",
"u=4;\n",
"d=0.15;\n",
"//To Find\n",
"V=Cv*sqrt(2*g*H);\n",
"A=(%pi/4)*d^2;\n",
"P=rho*A*(V+u)*V;\n",
"W=P*u;\n",
"E=(2*u*V)/(u+V)^2;\n",
"E1=E*100;\n",
"disp('Propelling Force ='+string(P)+' Newtons');\n",
"disp('Work Done ='+string(W)+' N-m');\n",
"disp('Efficiency ='+string(E1)+' Percentage');"
   ]
   }
,
{
		   "cell_type": "markdown",
		   "metadata": {},
		   "source": [
			"## Example 17.12: Example.sce"
		   ]
		  },
  {
"cell_type": "code",
	   "execution_count": null,
	   "metadata": {
	    "collapsed": true
	   },
	   "outputs": [],
"source": [
"//Finding of Propelling Force, Efficiency\n",
"//Given\n",
"u=35*(5/18);\n",
"V=25;\n",
"a=0.04;\n",
"rho=1000;\n",
"//To Find\n",
"P=rho*a*(V+u)*V;\n",
"E=(2*u)/(V+(2*u));\n",
"E1=E*100;\n",
"disp('Propelling Force ='+string(P)+' Newtons');\n",
"disp('Efficiency ='+string(E1)+' No Units');"
   ]
   }
,
{
		   "cell_type": "markdown",
		   "metadata": {},
		   "source": [
			"## Example 17.1: Example.sce"
		   ]
		  },
  {
"cell_type": "code",
	   "execution_count": null,
	   "metadata": {
	    "collapsed": true
	   },
	   "outputs": [],
"source": [
"//Finding of Force exerted\n",
"//Given\n",
"rho=1000;\n",
"d=0.04;\n",
"V=25;\n",
"//To Find\n",
"A=(%pi/4)*d^2;\n",
"P=rho*A*V^2;\n",
"disp('Force Exerted ='+string(P)+' Newtons');"
   ]
   }
,
{
		   "cell_type": "markdown",
		   "metadata": {},
		   "source": [
			"## Example 17.2: Example.sce"
		   ]
		  },
  {
"cell_type": "code",
	   "execution_count": null,
	   "metadata": {
	    "collapsed": true
	   },
	   "outputs": [],
"source": [
"//Finding of Discharge\n",
"//Given\n",
"rho=1000;\n",
"d=0.05;\n",
"P=1226.25;\n",
"//To Find\n",
"A=(%pi/4)*d^2;\n",
"V=P/(rho*A);\n",
"V1=sqrt(V);\n",
"Q=A*V1;\n",
"disp('Discharge ='+string(Q)+' m^3/sec');"
   ]
   }
,
{
		   "cell_type": "markdown",
		   "metadata": {},
		   "source": [
			"## Example 17.3: Example.sce"
		   ]
		  },
  {
"cell_type": "code",
	   "execution_count": null,
	   "metadata": {
	    "collapsed": true
	   },
	   "outputs": [],
"source": [
"//Finding of Force Exerted\n",
"//Given\n",
"rho=1000;\n",
"d=0.15;\n",
"V=25;\n",
"//To Find\n",
"A=(%pi/4)*d^2;\n",
"P=rho*A*V^2*sin(%pi/6);\n",
"disp('Force Exerted ='+string(P)+' Newtons');"
   ]
   }
,
{
		   "cell_type": "markdown",
		   "metadata": {},
		   "source": [
			"## Example 17.4: Example.sce"
		   ]
		  },
  {
"cell_type": "code",
	   "execution_count": null,
	   "metadata": {
	    "collapsed": true
	   },
	   "outputs": [],
"source": [
"//Finding of Force Exerted\n",
"//Given\n",
"rho=1000;\n",
"d=0.04;\n",
"V=35;\n",
"theta=180-125;\n",
"//To FInd\n",
"A=(%pi/4)*d^2;\n",
"Fx=2*rho*A*V^2;\n",
"disp('Force Exerted ='+string(Fx)+' Newtons');"
   ]
   }
,
{
		   "cell_type": "markdown",
		   "metadata": {},
		   "source": [
			"## Example 17.5: Example.sce"
		   ]
		  },
  {
"cell_type": "code",
	   "execution_count": null,
	   "metadata": {
	    "collapsed": true
	   },
	   "outputs": [],
"source": [
"//Finding of Force Exerted\n",
"//Given\n",
"rho=1000;\n",
"d=0.07;\n",
"V=25;\n",
"theta=20;\n",
"theta2=15;\n",
"//To Find\n",
"A=(%pi/4)*d^2\n",
"Fx=rho*A*V^2*(sin(%pi/9)+cos(%pi/12));\n",
"Fy=rho*A*V^2*(sin(%pi/9)-sin(%pi/12));\n",
"disp('Fx ='+string(Fx)+' Newtons');\n",
"disp('Fy ='+string(Fy)+' Newtons');"
   ]
   }
,
{
		   "cell_type": "markdown",
		   "metadata": {},
		   "source": [
			"## Example 17.6: Example.sce"
		   ]
		  },
  {
"cell_type": "code",
	   "execution_count": null,
	   "metadata": {
	    "collapsed": true
	   },
	   "outputs": [],
"source": [
"//Finding of inclination\n",
"rho=1000;\n",
"d=0.03;\n",
"V=16;\n",
"w=125;\n",
"//To Find\n",
"A=(%pi/4)*d^2;\n",
"P=rho*A*V^2;\n",
"Q=P*(16/32);\n",
"theta=asin((rho*A*V^2)/w);\n",
"disp('Inclination ='+string(theta)+' degrees');"
   ]
   }
,
{
		   "cell_type": "markdown",
		   "metadata": {},
		   "source": [
			"## Example 17.7: Example.sce"
		   ]
		  },
  {
"cell_type": "code",
	   "execution_count": null,
	   "metadata": {
	    "collapsed": true
	   },
	   "outputs": [],
"source": [
"//Finding of Vane Angle\n",
"//Given\n",
"V=40;\n",
"u=20;\n",
"alpha=30;\n",
"b=90;\n",
"u1=20;\n",
"//TO Find\n",
"theta=atand((V*sin(%pi/6))/((V*cos(%pi/6))-u));\n",
"Vr=((V*sin(%pi/6))/(sin(theta)));\n",
"pi=acosd(u1/Vr);\n",
"disp('Vane angle at Inlet ='+string(theta)+' Degrees');\n",
"disp('Vane angle at Outlet ='+string(pi)+' Degrees');"
   ]
   }
],
"metadata": {
		  "kernelspec": {
		   "display_name": "Scilab",
		   "language": "scilab",
		   "name": "scilab"
		  },
		  "language_info": {
		   "file_extension": ".sce",
		   "help_links": [
			{
			 "text": "MetaKernel Magics",
			 "url": "https://github.com/calysto/metakernel/blob/master/metakernel/magics/README.md"
			}
		   ],
		   "mimetype": "text/x-octave",
		   "name": "scilab",
		   "version": "0.7.1"
		  }
		 },
		 "nbformat": 4,
		 "nbformat_minor": 0
}
