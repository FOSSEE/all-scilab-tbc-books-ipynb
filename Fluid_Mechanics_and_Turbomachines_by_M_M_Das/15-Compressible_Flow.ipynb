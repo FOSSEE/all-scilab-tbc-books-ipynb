{
"cells": [
 {
		   "cell_type": "markdown",
	   "metadata": {},
	   "source": [
       "# Chapter 15: Compressible Flow"
	   ]
	},
{
		   "cell_type": "markdown",
		   "metadata": {},
		   "source": [
			"## Example 15.1: Example.sce"
		   ]
		  },
  {
"cell_type": "code",
	   "execution_count": null,
	   "metadata": {
	    "collapsed": true
	   },
	   "outputs": [],
"source": [
"//Finding of Velocities\n",
"//Given\n",
"T1=293;\n",
"T2=293;\n",
"P1=40;\n",
"P2=35;\n",
"R=287;\n",
"A1=30*10^-4;\n",
"A2=15*10^-4;\n",
"Q=0.15;\n",
"//To Find\n",
"rho1=P1/(R*T1);\n",
"V1=Q/(A1*rho1*10000);\n",
"rho2=P2/(R*T2);\n",
"V2=Q/(A2*rho2*10000);\n",
"disp('Velocity at Section-1 ='+string(V1)+' m/sec');\n",
"disp('Velocity at Section-2 ='+string(V2)+' m/sec');"
   ]
   }
,
{
		   "cell_type": "markdown",
		   "metadata": {},
		   "source": [
			"## Example 15.2: Example.sce"
		   ]
		  },
  {
"cell_type": "code",
	   "execution_count": null,
	   "metadata": {
	    "collapsed": true
	   },
	   "outputs": [],
"source": [
"//Finding of Speed of Sound waves\n",
"//Given\n",
"k=1.4;\n",
"R=287;\n",
"T=293;\n",
"//To Find\n",
"C=sqrt(k*R*T);\n",
"C1=C*(18/5);\n",
"disp('Speed of Sound waves ='+string(C1)+' Km/hr');"
   ]
   }
,
{
		   "cell_type": "markdown",
		   "metadata": {},
		   "source": [
			"## Example 15.3: Example.sce"
		   ]
		  },
  {
"cell_type": "code",
	   "execution_count": null,
	   "metadata": {
	    "collapsed": true
	   },
	   "outputs": [],
"source": [
"//Finding of Mach Number\n",
"//Given\n",
"k=1.4;\n",
"R=287;\n",
"T=288;\n",
"V=900;\n",
"//To Find\n",
"C=sqrt(k*R*T);\n",
"C1=C*(18/5);\n",
"disp('Speed of Sound waves ='+string(C1)+' Km/hr');\n",
"M=V/C1;\n",
"disp('Mach Number = '+string(M)+' No units');"
   ]
   }
,
{
		   "cell_type": "markdown",
		   "metadata": {},
		   "source": [
			"## Example 15.4: Example.sce"
		   ]
		  },
  {
"cell_type": "code",
	   "execution_count": null,
	   "metadata": {
	    "collapsed": true
	   },
	   "outputs": [],
"source": [
"//Finding of Speed\n",
"//Given\n",
"k=1.4;\n",
"R=287;\n",
"T=233;\n",
"M=1.8;\n",
"//To Find\n",
"C=sqrt(k*R*T);\n",
"C1=C*(18/5);\n",
"V=C1*M;\n",
"disp('Speed of Aeroplane ='+string(V)+' Km/hr');"
   ]
   }
,
{
		   "cell_type": "markdown",
		   "metadata": {},
		   "source": [
			"## Example 15.5: Example.sce"
		   ]
		  },
  {
"cell_type": "code",
	   "execution_count": null,
	   "metadata": {
	    "collapsed": true
	   },
	   "outputs": [],
"source": [
"//Finding of Velocity of Projectile\n",
"//Given\n",
"theta=30;\n",
"k=1.4;\n",
"R=287;\n",
"T=268;\n",
"//To Find\n",
"Ma=sin(theta);\n",
"C=sqrt(k*R*T);\n",
"V=Ma*C;\n",
"disp('Velocity of Projectile ='+string(V)+' m/sec');\n",
""
   ]
   }
,
{
		   "cell_type": "markdown",
		   "metadata": {},
		   "source": [
			"## Example 15.6: Example.sce"
		   ]
		  },
  {
"cell_type": "code",
	   "execution_count": null,
	   "metadata": {
	    "collapsed": true
	   },
	   "outputs": [],
"source": [
"//Finding of Mach Number and Mach Angle\n",
"//Given\n",
"k=1.4;\n",
"R=287;\n",
"T=263;\n",
"V=1200;\n",
"//To Find\n",
"C=sqrt(k*R*T);\n",
"Ma=V/C;\n",
"alpha=asind(1/Ma);\n",
"disp('Mach Number ='+string(Ma)+' No units');\n",
"disp('Mach Angle ='+string(alpha)+' Degrees');"
   ]
   }
,
{
		   "cell_type": "markdown",
		   "metadata": {},
		   "source": [
			"## Example 15.7: Example.sce"
		   ]
		  },
  {
"cell_type": "code",
	   "execution_count": null,
	   "metadata": {
	    "collapsed": true
	   },
	   "outputs": [],
"source": [
"//Finding of Mach's Number\n",
"//Given\n",
"k=1.4;\n",
"R=287;\n",
"T=273;\n",
"T1=273-15;\n",
"v=900;\n",
"p1=8*10^4;\n",
"//To Find\n",
"V=v*(5/18);\n",
"C=sqrt(k*R*T);\n",
"Ma=V/C;\n",
"ps=p1*((1+((k-1)/2)*Ma^2)^(k/(k-1)));\n",
"Ps=ps*10^-4;\n",
"Ts=T1*((1+((k-1)/2)*Ma^2));\n",
"rho=ps/(R*T);\n",
"t=Ts-T;\n",
"disp('Mach Number ='+string(Ma)+' No Units');\n",
"disp('Density ='+string(rho)+' Kg/m^3');\n",
"disp('Pressure ='+string(Ps)+' N/cm^2');\n",
"disp('Temperature ='+string(t)+' celcius')"
   ]
   }
,
{
		   "cell_type": "markdown",
		   "metadata": {},
		   "source": [
			"## Example 15.8: Example.sce"
		   ]
		  },
  {
"cell_type": "code",
	   "execution_count": null,
	   "metadata": {
	    "collapsed": true
	   },
	   "outputs": [],
"source": [
"//Finding of velocity at the outlet of a nozzle\n",
"//Given\n",
"k=1.4;\n",
"P1=294.3;\n",
"P2=137.34;\n",
"T1=303;\n",
"R=287;\n",
"//To Find\n",
"rho=P1/(R*T1);\n",
"V2=sqrt((2*k/(k-1))*(P1/rho)*(1-(P2/P1)^((k-1)/k)));\n",
"disp('velocity at the outlet of a nozzle ='+string(V2)+' m/sec');\n",
""
   ]
   }
,
{
		   "cell_type": "markdown",
		   "metadata": {},
		   "source": [
			"## Example 15.9: Example.sce"
		   ]
		  },
  {
"cell_type": "code",
	   "execution_count": null,
	   "metadata": {
	    "collapsed": true
	   },
	   "outputs": [],
"source": [
"//Finding of Mass Flow Rate\n",
"//Given\n",
"D1=0.4;\n",
"D2=0.2;\n",
"P1=27.468*10^4;\n",
"P2=25.506*10^4;\n",
"T1=293;\n",
"k=1.4;\n",
"R=287;\n",
"//To Find\n",
"A1=(%pi/4)*D1^2;\n",
"A2=(%pi/4)*D2^2;\n",
"rho1=P1/(R*T1);\n",
"rho2=((rho1^(1.4)*P2)/P1)^(1/1.4);\n",
"m=rho2*A2*sqrt((2*k/(k-1))*(P1/rho1)*(1-(P2/P1)^((k-1/k)))/(1-(P2/P1)^(2/k))*(A2/A1)^2);\n",
"disp('Mass Flow Rate ='+string(m)+' Kg/sec');"
   ]
   }
],
"metadata": {
		  "kernelspec": {
		   "display_name": "Scilab",
		   "language": "scilab",
		   "name": "scilab"
		  },
		  "language_info": {
		   "file_extension": ".sce",
		   "help_links": [
			{
			 "text": "MetaKernel Magics",
			 "url": "https://github.com/calysto/metakernel/blob/master/metakernel/magics/README.md"
			}
		   ],
		   "mimetype": "text/x-octave",
		   "name": "scilab",
		   "version": "0.7.1"
		  }
		 },
		 "nbformat": 4,
		 "nbformat_minor": 0
}
