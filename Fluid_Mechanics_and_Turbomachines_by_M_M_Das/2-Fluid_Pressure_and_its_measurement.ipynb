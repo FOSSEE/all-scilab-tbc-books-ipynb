{
"cells": [
 {
		   "cell_type": "markdown",
	   "metadata": {},
	   "source": [
       "# Chapter 2: Fluid Pressure and its measurement"
	   ]
	},
{
		   "cell_type": "markdown",
		   "metadata": {},
		   "source": [
			"## Example 2.1: Example.sce"
		   ]
		  },
  {
"cell_type": "code",
	   "execution_count": null,
	   "metadata": {
	    "collapsed": true
	   },
	   "outputs": [],
"source": [
"//Finding of Pressure Intensity\n",
"//Given\n",
"p=73.575*10^4;       //Pressure in N/mm^2\n",
"Patm=76;\n",
"rho=1000;             //Density in kg/m^3\n",
"spgr=13.6;\n",
"g=9.81;                //Gravitational force in m/s^2\n",
"//To Find \n",
"//Gauge units\n",
"P1=p/(rho*g);\n",
"P2=p/(spgr*rho*g);\n",
"//Absolute units\n",
"P3=(Patm*spgr)/100;\n",
"P4=(Patm*spgr*rho*g)/100;\n",
"P5=P2/10000;\n",
"P6=p+P5;\n",
"P7=75+P5;\n",
"P8=5.5147+(Patm/100);\n",
"disp('Gauge Units ');\n",
"disp('Pressure ='+string(P1)+' meter of water');\n",
"disp('Pressure ='+string(P2)+' meter of mercury');\n",
"disp('Pressure ='+string(P3)+' meter of water');\n",
"disp('Pressure ='+string(P5)+' N/cm^2');\n",
"disp('Pressure ='+string(P7)+' meter of water');\n",
"disp('Pressure ='+string(P8)+' meter of Mercury');"
   ]
   }
,
{
		   "cell_type": "markdown",
		   "metadata": {},
		   "source": [
			"## Example 2.2: Example.sce"
		   ]
		  },
  {
"cell_type": "code",
	   "execution_count": null,
	   "metadata": {
	    "collapsed": true
	   },
	   "outputs": [],
"source": [
"//Finding of Depth of Water\n",
"//Given\n",
"p=100.5525*10^4;                //pressure intensity in N/m^2\n",
"spgr=1.025;                //Specific gravity\n",
"rho=1000;                  //Density of water in kg/m^3\n",
"g=9.81;                    //Gravitational force due to acceleration in m/sec^2\n",
"w=rho*g;\n",
"//To Find\n",
"h=p/w;\n",
"disp('Depth of Water = '+string(h)+' m');"
   ]
   }
,
{
		   "cell_type": "markdown",
		   "metadata": {},
		   "source": [
			"## Example 2.3: Example.sce"
		   ]
		  },
  {
"cell_type": "code",
	   "execution_count": null,
	   "metadata": {
	    "collapsed": true
	   },
	   "outputs": [],
"source": [
"//Finding of Height\n",
"//Given\n",
"p=4.9*10^4;           //Pressure intensity in N/mm^2\n",
"rho=1000;             //Density of water in kg/m^3\n",
"g=9.81;               //gravitational force in m/sec^2\n",
"spgr=0.8;             //Specific gravity of oil\n",
"w=rho*g;\n",
"w1=rho*g*spgr;\n",
"//To Find\n",
"h=p/w;\n",
"h1=p/w1;\n",
"disp('Height of water ='+string(h)+' m');\n",
"disp('Height of oil ='+string(h1)+' m');"
   ]
   }
,
{
		   "cell_type": "markdown",
		   "metadata": {},
		   "source": [
			"## Example 2.4: Example.sce"
		   ]
		  },
  {
"cell_type": "code",
	   "execution_count": null,
	   "metadata": {
	    "collapsed": true
	   },
	   "outputs": [],
"source": [
"//Finding of Pressure intensity\n",
"//Given\n",
"spgr=0.8;               //Specific gravity of oil\n",
"spgr1=1.5;                \n",
"rho=1000;               //Density of water in Kg/m^3\n",
"g=9.81;                 //Gravitational force m/s^2\n",
"h1=2;                    //Depth in meter\n",
"//To Find\n",
"w=rho*g*spgr;\n",
"p=w*h1;                  //Pressure at the interface\n",
"disp('Pressure Intensity ='+string(p)+' N/m^2');\n",
"w1=rho*g*spgr1;\n",
"p1=1.5969+w1;\n",
"disp('Pressure Intensity at Bottom ='+string(p1)+' N/m^2');"
   ]
   }
,
{
		   "cell_type": "markdown",
		   "metadata": {},
		   "source": [
			"## Example 2.5: Example.sce"
		   ]
		  },
  {
"cell_type": "code",
	   "execution_count": null,
	   "metadata": {
	    "collapsed": true
	   },
	   "outputs": [],
"source": [
"//Finding of Pressure\n",
"//Given\n",
"spgr1=0.8;              //specific gravity of liquid\n",
"spgr2=13.6;             //specific gravity of mercury \n",
"h1=0.6;                 //height in left limb in meter\n",
"h2=0.15;                //height in right limb in meter\n",
"g=9.81;                 //gravitaional force in m/s^2\n",
"rho1=spgr1*1000;        //density of liquid in Kg/m^3\n",
"rho2=spgr2*1000;        //density of mecury  in Kg/m^3\n",
"p=10.13;\n",
"//To Find\n",
"p1=(rho2*g*h2)-(rho1*g*h1);\n",
"disp('Pressure at A ='+string(p1)+' N/m^2');\n",
"p2=p1/100+p;\n",
"disp('Absolute Pressure '+string(p2)+' N/cm^2')"
   ]
   }
,
{
		   "cell_type": "markdown",
		   "metadata": {},
		   "source": [
			"## Example 2.6: Example.sce"
		   ]
		  },
  {
"cell_type": "code",
	   "execution_count": null,
	   "metadata": {
	    "collapsed": true
	   },
	   "outputs": [],
"source": [
"//Finding of Pressure difference\n",
"//Given\n",
"P1=10.8*10^4;       //Pressure in N/mm^2\n",
"P2=17.16*10^4;\n",
"rho=1000;            //Density in kg/m^3\n",
"g=9.81;            //Gravitational force in m/s^2\n",
"spgr1=1.594;\n",
"spgr2=13.6;\n",
"spgr3=0.8;\n",
"z1=4;                 //height in meter\n",
"//To Find\n",
"left=P1+((spgr1*rho*g)*z1)+(spgr2*rho*g);\n",
"right=((spgr3*rho*g)*1.5)+P2;\n",
"h=left/(12*right);\n",
"h1=h*100;\n",
"disp('Height ='+string(h)+' meter of mercury');\n",
"disp('Height ='+string(h1)+' centimeter of mercury');"
   ]
   }
,
{
		   "cell_type": "markdown",
		   "metadata": {},
		   "source": [
			"## Example 2.7: Example.sce"
		   ]
		  },
  {
"cell_type": "code",
	   "execution_count": null,
	   "metadata": {
	    "collapsed": true
	   },
	   "outputs": [],
"source": [
"//Finding of Pressure \n",
"//Given\n",
"//Left Limb\n",
"h=0.6;\n",
"rho=1000;\n",
"g=9.81;\n",
"//Right Limb\n",
"h1=0.45;\n",
"spgr1=13.6;\n",
"h2=0.30;\n",
"spgr2=0.88;\n",
"//To Find\n",
"P=(h1*spgr1)+(h2*spgr2)-(h);\n",
"disp('Pressure is ='+string(P)+' cm of water');\n",
"p1=P*rho*g;\n",
"disp('Pressure is = '+string(p1)+' N/m^2');"
   ]
   }
,
{
		   "cell_type": "markdown",
		   "metadata": {},
		   "source": [
			"## Example 2.8: Example.sce"
		   ]
		  },
  {
"cell_type": "code",
	   "execution_count": null,
	   "metadata": {
	    "collapsed": true
	   },
	   "outputs": [],
"source": [
"//Finding of Elevation\n",
"//Given\n",
"//At Sea level\n",
"p=760;    //pressure in mm of mercury\n",
"rho=1000; //Density in kg/m^3\n",
"spgr=13.6; \n",
"g=9.81; //gravitational force in m/sec^2\n",
"p1=(p/1000)*rho*g*spgr;\n",
"//At Mountain\n",
"p2=735;\n",
"p3=(p2/1000)*rho*g*spgr;\n",
"rho1=1.2;\n",
"//To Find\n",
"h=(p1-p3)/(rho1*g);\n",
"disp('Elevation is ='+string(h)+' meter');"
   ]
   }
,
{
		   "cell_type": "markdown",
		   "metadata": {},
		   "source": [
			"## Example 2.9: Example.sce"
		   ]
		  },
  {
"cell_type": "code",
	   "execution_count": null,
	   "metadata": {
	    "collapsed": true
	   },
	   "outputs": [],
"source": [
"//Finding of Pressure and Temperature\n",
"//Given\n",
"h=18.288;    //Height in  kilometer\n",
"t0=288.15;\n",
"l=6.5;       // Lengh in meter\n",
"p0=101.18;   //Pressure in N/mm^2\n",
"g=9.81;         //gravitational force in m/s^2\n",
"//To Find\n",
"T=t0-(l*h);\n",
"disp('Temperature is ='+string(T)+' kelvin');\n",
"Ps=p0*(1-(l*h/t0))^(g/(287.1*l));\n",
"disp('Pressure is = '+string(Ps)+' KN/m^2');"
   ]
   }
],
"metadata": {
		  "kernelspec": {
		   "display_name": "Scilab",
		   "language": "scilab",
		   "name": "scilab"
		  },
		  "language_info": {
		   "file_extension": ".sce",
		   "help_links": [
			{
			 "text": "MetaKernel Magics",
			 "url": "https://github.com/calysto/metakernel/blob/master/metakernel/magics/README.md"
			}
		   ],
		   "mimetype": "text/x-octave",
		   "name": "scilab",
		   "version": "0.7.1"
		  }
		 },
		 "nbformat": 4,
		 "nbformat_minor": 0
}
