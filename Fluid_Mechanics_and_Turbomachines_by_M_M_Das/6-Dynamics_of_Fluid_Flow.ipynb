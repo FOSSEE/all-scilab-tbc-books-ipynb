{
"cells": [
 {
		   "cell_type": "markdown",
	   "metadata": {},
	   "source": [
       "# Chapter 6: Dynamics of Fluid Flow"
	   ]
	},
{
		   "cell_type": "markdown",
		   "metadata": {},
		   "source": [
			"## Example 6.3: Example.sce"
		   ]
		  },
  {
"cell_type": "code",
	   "execution_count": null,
	   "metadata": {
	    "collapsed": true
	   },
	   "outputs": [],
"source": [
"//Finding of Discharge\n",
"//Given\n",
"d1=30;\n",
"d2=15;\n",
"hom=10;\n",
"cod=0.98;\n",
"pi=3.14;\n",
"g=9.81;\n",
"//To Find\n",
"a1=(pi/4)*d1^2;\n",
"a2=(pi/4)*d2^2;\n",
"h=hom*(12.6);\n",
"q=(cod*a1*a2*(2*100*g*h)^(1/2))/((a1^2-a2^2)^(1/2));\n",
"q1=q/1000;\n",
"disp('Discharge ='+string(q1)+' m^3/sec');"
   ]
   }
,
{
		   "cell_type": "markdown",
		   "metadata": {},
		   "source": [
			"## Example 6.4: Example.sce"
		   ]
		  },
  {
"cell_type": "code",
	   "execution_count": null,
	   "metadata": {
	    "collapsed": true
	   },
	   "outputs": [],
"source": [
"//Finding of Discharge\n",
"//Given\n",
"d1=30;\n",
"d2=15;\n",
"hom=30;\n",
"cod=0.98;\n",
"g=9.81;\n",
"pi=3.14;\n",
"//To Find \n",
"a1=(pi/4)*d1^2;\n",
"a2=(pi/4)*d2^2;\n",
"h=hom*(12.6);\n",
"q=(cod*a1*a2*(2*100*g*h)^(1/2))/((a1^2-a2^2)^(1/2));\n",
"q1=q/1000;\n",
"disp('Discharge ='+string(q1)+' m^3/sec');"
   ]
   }
,
{
		   "cell_type": "markdown",
		   "metadata": {},
		   "source": [
			"## Example 6.5: Example.sce"
		   ]
		  },
  {
"cell_type": "code",
	   "execution_count": null,
	   "metadata": {
	    "collapsed": true
	   },
	   "outputs": [],
"source": [
"//Finding of Rate of flow\n",
"//Given\n",
"d1=30;\n",
"d2=15;\n",
"hom=30;\n",
"cod=0.98;\n",
"g=9.81;\n",
"pi=3.14;\n",
"//To Find \n",
"a1=(pi/4)*d1^2;\n",
"a2=(pi/4)*d2^2;\n",
"h=hom*((13.6/0.8)-1);\n",
"q=(cod*a1*a2*(2*100*g*h)^(1/2))/((a1^2-a2^2)^(1/2));\n",
"q1=q/1000;\n",
"disp('Discharge ='+string(q1)+' m^3/sec');"
   ]
   }
,
{
		   "cell_type": "markdown",
		   "metadata": {},
		   "source": [
			"## Example 6.6: Example.sce"
		   ]
		  },
  {
"cell_type": "code",
	   "execution_count": null,
	   "metadata": {
	    "collapsed": true
	   },
	   "outputs": [],
"source": [
"//Finding of Pressure Difference\n",
"//Given\n",
"g=9.81;\n",
"spgr=0.9;\n",
"spgr1=13.6;\n",
"rho=1000;\n",
"rho1=spgr*1000*g;\n",
"zd=0.3;\n",
"gd=25;\n",
"x=(spgr1/spgr)-1;\n",
"x1=((gd*x)/100)+zd;\n",
"//To find\n",
"pd=x1*rho1;disp(x1);\n",
"disp('Pressure Difference ='+string(pd)+' N/m^2');\n",
"pd1=pd/10000;\n",
"disp('Pressure Difference ='+string(pd1)+' N/cm^2');"
   ]
   }
,
{
		   "cell_type": "markdown",
		   "metadata": {},
		   "source": [
			"## Example 6.7: Example.sce"
		   ]
		  },
  {
"cell_type": "code",
	   "execution_count": null,
	   "metadata": {
	    "collapsed": true
	   },
	   "outputs": [],
"source": [
"//Finding of Rate Of Flow\n",
"//Given\n",
"d1=15;\n",
"d2=30;\n",
"hm=50;\n",
"spgr=0.9;\n",
"spgr1=13.6;\n",
"cod=0.64;\n",
"g=9.81;\n",
"//To Find\n",
"A0=(%pi/4)*d1^2;\n",
"A1=(%pi/4)*d2^2;\n",
"h=((spgr1/spgr)-1)*hm;\n",
"x=(A0*A1)/sqrt(A1^2-A0^2);\n",
"y=sqrt(2*g*h);\n",
"q=cod*x*y;\n",
"disp(' Discharge ='+string(q)+' cm^3/sec');\n",
"q1=q/100;\n",
"disp(' Discharge ='+string(q1)+' ltr/sec');"
   ]
   }
,
{
		   "cell_type": "markdown",
		   "metadata": {},
		   "source": [
			"## Example 6.8: Example.sce"
		   ]
		  },
  {
"cell_type": "code",
	   "execution_count": null,
	   "metadata": {
	    "collapsed": true
	   },
	   "outputs": [],
"source": [
"//Fiding of Discharge\n",
"//Given\n",
"d1=0.3;\n",
"pd=0.06;\n",
"g=9.81;\n",
"cv=0.98;\n",
"//To Find\n",
"vc=sqrt(2*g*pd)*cv;\n",
"V=0.8*vc;\n",
"A=(%pi/4)*d1^2;\n",
"q=V*A;\n",
"disp(' Discharge ='+string(q)+' m^3/sec');"
   ]
   }
],
"metadata": {
		  "kernelspec": {
		   "display_name": "Scilab",
		   "language": "scilab",
		   "name": "scilab"
		  },
		  "language_info": {
		   "file_extension": ".sce",
		   "help_links": [
			{
			 "text": "MetaKernel Magics",
			 "url": "https://github.com/calysto/metakernel/blob/master/metakernel/magics/README.md"
			}
		   ],
		   "mimetype": "text/x-octave",
		   "name": "scilab",
		   "version": "0.7.1"
		  }
		 },
		 "nbformat": 4,
		 "nbformat_minor": 0
}
