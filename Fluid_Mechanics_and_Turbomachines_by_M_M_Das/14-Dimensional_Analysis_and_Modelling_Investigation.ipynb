{
"cells": [
 {
		   "cell_type": "markdown",
	   "metadata": {},
	   "source": [
       "# Chapter 14: Dimensional Analysis and Modelling Investigation"
	   ]
	},
{
		   "cell_type": "markdown",
		   "metadata": {},
		   "source": [
			"## Example 14.10: Example.sce"
		   ]
		  },
  {
"cell_type": "code",
	   "execution_count": null,
	   "metadata": {
	    "collapsed": true
	   },
	   "outputs": [],
"source": [
"//Finding of 'n' of the Model\n",
"//Given\n",
"Lm=1;\n",
"Lp=64;\n",
"Np=0.02;\n",
"//To Find\n",
"A=sqrt(Lp/Lm);\n",
"Nm=A*(Lm/Lp)^(2/3)*Np;\n",
"disp('Manning n of the model ='+string(Nm)+' No units');"
   ]
   }
,
{
		   "cell_type": "markdown",
		   "metadata": {},
		   "source": [
			"## Example 14.11: Example.sce"
		   ]
		  },
  {
"cell_type": "code",
	   "execution_count": null,
	   "metadata": {
	    "collapsed": true
	   },
	   "outputs": [],
"source": [
"//Finding of Qm.Nm\n",
"//Given\n",
"Qp=3000;\n",
"Np=0.025;\n",
"L1=1000;\n",
"L2=100;\n",
"//To Find\n",
"B=sqrt(L2);\n",
"Qm=Qp/(L1*L2*B);\n",
"Nm=(Qp/Qm)*1/(((L1*L2*(L2)^(2/3))/Np)*B*sqrt(1/L1));\n",
"disp(' Qm ='+string(Qm)+' m^3/sec');\n",
"disp(' Nm ='+string(Nm)+' No units');"
   ]
   }
,
{
		   "cell_type": "markdown",
		   "metadata": {},
		   "source": [
			"## Example 14.12: Example.sce"
		   ]
		  },
  {
"cell_type": "code",
	   "execution_count": null,
	   "metadata": {
	    "collapsed": true
	   },
	   "outputs": [],
"source": [
"//Finding of (Vm/Vp) and (Np/Nm)\n",
"//Given\n",
"L1=1/5000;\n",
"L2=1/256;\n",
"Qr=1/(2*10^7);\n",
"//To Find\n",
"Vr=(1/L1)*(1/L2)*Qr;\n",
"Nr=Vr*((L2)^-(2/3)*(L2)^-(1/2)*(1/L1)^-(1/2));\n",
"disp('Vm/Vp ='+string(Vr)+' m/sec');\n",
"disp('Np/Nm ='+string(Nr)+' No units');"
   ]
   }
,
{
		   "cell_type": "markdown",
		   "metadata": {},
		   "source": [
			"## Example 14.13: Example.sce"
		   ]
		  },
  {
"cell_type": "code",
	   "execution_count": null,
	   "metadata": {
	    "collapsed": true
	   },
	   "outputs": [],
"source": [
"//Finding of Qm,Lm,Hm\n",
"//Given\n",
"Lp=16;\n",
"Lm=1;\n",
"Hp=4;\n",
"L1=150;\n",
"H1=7.2;\n",
"H2=16;\n",
"//To Find\n",
"Hm=H1*(Lm/Lp);\n",
"lm=L1*(Lm/Lp);\n",
"Qm=(Lp/Lm)^2*(Hp/H2)^(1/2);\n",
"disp('Lm ='+string(lm)+' meter');\n",
"disp('Hm ='+string(Hm)+' meter');\n",
"disp('Qm ='+string(Qm)+' m^3/sec');"
   ]
   }
,
{
		   "cell_type": "markdown",
		   "metadata": {},
		   "source": [
			"## Example 14.6: Example.sce"
		   ]
		  },
  {
"cell_type": "code",
	   "execution_count": null,
	   "metadata": {
	    "collapsed": true
	   },
	   "outputs": [],
"source": [
"//Finding of velocity , discharge of prototype\n",
"//Given\n",
"qm=2;\n",
"vm=1.5;\n",
"lp=36;\n",
"lm=1;\n",
"//To Find\n",
"vp=sqrt(lp/lm)*vm;\n",
"qp=(lp/lm)^2*(vp/vm)*qm;\n",
"disp('Velocity of Prototype ='+string(vp)+' m/sec');\n",
"disp('Dischage of Prototype ='+string(qp)+' m^3/sec');"
   ]
   }
,
{
		   "cell_type": "markdown",
		   "metadata": {},
		   "source": [
			"## Example 14.7: Example.sce"
		   ]
		  },
  {
"cell_type": "code",
	   "execution_count": null,
	   "metadata": {
	    "collapsed": true
	   },
	   "outputs": [],
"source": [
"//Finding of Velocity of Prototype\n",
"//Given\n",
"vm=30;\n",
"lm=100;\n",
"lp=1;\n",
"Am=0.018*10^-4;\n",
"Ap=0.012*10^-4;\n",
"rho1=1030;\n",
"rho2=1.24;\n",
"Fm=60;\n",
"//To Find\n",
"vp=(Ap/Am)*(lp/lm)*vm;\n",
"Fp=Fm*(lm/lp)^2*(vp/vm)^2*(rho1/rho2);\n",
"disp('Velocity of Prototype ='+string(vp)+' m/sec');\n",
"disp('Resistance of Prototype ='+string(Fp)+' Newton');"
   ]
   }
,
{
		   "cell_type": "markdown",
		   "metadata": {},
		   "source": [
			"## Example 14.8: Example.sce"
		   ]
		  },
  {
"cell_type": "code",
	   "execution_count": null,
	   "metadata": {
	    "collapsed": true
	   },
	   "outputs": [],
"source": [
"//Finding of Velocity of Model\n",
"//Given\n",
"vp=20;\n",
"lm=1;\n",
"lp=15;\n",
"rho1=1024;\n",
"rho2=1000;\n",
"Fp=600;\n",
"Fm=0.12;\n",
"//To Find\n",
"vm=sqrt(lm/lp)*vp;\n",
"Fp=Fm*(lm/lp)^2*(vp/vm)^2*(rho1/rho2);\n",
"disp('Velocity of Prototype ='+string(vm)+' m/sec');\n",
"disp('Resistance of Prototype ='+string(Fp)+' Newton');"
   ]
   }
,
{
		   "cell_type": "markdown",
		   "metadata": {},
		   "source": [
			"## Example 14.9: Example.sce"
		   ]
		  },
  {
"cell_type": "code",
	   "execution_count": null,
	   "metadata": {
	    "collapsed": true
	   },
	   "outputs": [],
"source": [
"//Finding of discharge through Model\n",
"//Given\n",
"A=50;\n",
"B=10;\n",
"C=sqrt(10);\n",
"Qp=1.5;\n",
"//To Find\n",
"D=A*B;disp(D);\n",
"Qm=(D)*(1/C);\n",
"Qm1=Qp/Qm;\n",
"disp(' Discharge Through Model ='+string(Qm1)+' m^3/sec');"
   ]
   }
],
"metadata": {
		  "kernelspec": {
		   "display_name": "Scilab",
		   "language": "scilab",
		   "name": "scilab"
		  },
		  "language_info": {
		   "file_extension": ".sce",
		   "help_links": [
			{
			 "text": "MetaKernel Magics",
			 "url": "https://github.com/calysto/metakernel/blob/master/metakernel/magics/README.md"
			}
		   ],
		   "mimetype": "text/x-octave",
		   "name": "scilab",
		   "version": "0.7.1"
		  }
		 },
		 "nbformat": 4,
		 "nbformat_minor": 0
}
