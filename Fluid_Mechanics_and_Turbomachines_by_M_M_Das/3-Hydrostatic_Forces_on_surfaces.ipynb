{
"cells": [
 {
		   "cell_type": "markdown",
	   "metadata": {},
	   "source": [
       "# Chapter 3: Hydrostatic Forces on surfaces"
	   ]
	},
{
		   "cell_type": "markdown",
		   "metadata": {},
		   "source": [
			"## Example 3.2: Example.sce"
		   ]
		  },
  {
"cell_type": "code",
	   "execution_count": null,
	   "metadata": {
	    "collapsed": true
	   },
	   "outputs": [],
"source": [
"//Finding of Total Pressure\n",
"//Given\n",
"d=1.5;\n",
"y1=2;\n",
"rho=1000;\n",
"g=9.81;\n",
"//To Find\n",
"Ig=(%pi*d^4)/64;\n",
"Ay=(%pi/4)*d^2;\n",
"P=Ay*rho*g*y1;\n",
"Ycp=(Ig/Ay)+y1;\n",
"disp('P= '+string(P)+' Newtons');\n",
"disp('Ycp ='+string(Ycp)+' meter');"
   ]
   }
,
{
		   "cell_type": "markdown",
		   "metadata": {},
		   "source": [
			"## Example 3.3: Example.sce"
		   ]
		  },
  {
"cell_type": "code",
	   "execution_count": null,
	   "metadata": {
	    "collapsed": true
	   },
	   "outputs": [],
"source": [
"//Finding of Totoal Pressure , Depth of centre\n",
"//given\n",
"d=2.5;\n",
"rho=1000;\n",
"g=9.81;\n",
"y1=2;\n",
"//To Find\n",
"Ig=(%pi*d^4)/64;\n",
"Ay=(%pi/4)*d^2;\n",
"P=Ay*rho*g*y1;\n",
"a=4/6.25;\n",
"Ycp=((Ig*a)/(Ay*y1))+y1;\n",
"disp('P= '+string(P)+' Newtons');\n",
"disp('Ycp ='+string(Ycp)+' meter');"
   ]
   }
,
{
		   "cell_type": "markdown",
		   "metadata": {},
		   "source": [
			"## Example 3.4: Example.sce"
		   ]
		  },
  {
"cell_type": "code",
	   "execution_count": null,
	   "metadata": {
	    "collapsed": true
	   },
	   "outputs": [],
"source": [
"//Finding of Total Pressure , Depth of pressure\n",
"//Given\n",
"b=5;\n",
"h=5;\n",
"spgr=0.8;\n",
"rho=800;\n",
"g=9.81;\n",
"y1=(1+(5/3));\n",
"//To Find\n",
"Ig=(b*h^3)/36;\n",
"Ay=(1/2)*b*h;\n",
"P=Ay*rho*g*y1;\n",
"Ycp=(Ig/(Ay*y1))+y1;\n",
"disp('P= '+string(P)+' Newtons');\n",
"disp('Ycp ='+string(Ycp)+' meter');"
   ]
   }
,
{
		   "cell_type": "markdown",
		   "metadata": {},
		   "source": [
			"## Example 3.5: Example.sce"
		   ]
		  },
  {
"cell_type": "code",
	   "execution_count": null,
	   "metadata": {
	    "collapsed": true
	   },
	   "outputs": [],
"source": [
"//Finding of Total Pressure , Depth of pressure\n",
"//Given\n",
"T=4;\n",
"rho=1000;\n",
"g=9.81;\n",
"l=2;\n",
"b=1/2;\n",
"y1=2;\n",
"y2=1/3;\n",
"//To Find\n",
"A=(6/2)*1;\n",
"A1=(l*b);\n",
"A2=l*5;\n",
"y3=((A1*y1)+(2*A2*y2))/(A1+2*A2);\n",
"P=rho*g*A*y3;disp(y3);\n",
"Ig=(l^2+(4*l*T)+T^2)/(36*(l+T));\n",
"Ycp=(Ig/(A*y3))+y3;\n",
"disp('P= '+string(P)+' Newtons');\n",
"disp('Ycp ='+string(Ycp)+' meter');"
   ]
   }
,
{
		   "cell_type": "markdown",
		   "metadata": {},
		   "source": [
			"## Example 3.6: Example.sce"
		   ]
		  },
  {
"cell_type": "code",
	   "execution_count": null,
	   "metadata": {
	    "collapsed": true
	   },
	   "outputs": [],
"source": [
"//Finding of Total Pressure , Depth of pressure\n",
"//Given\n",
"spgr=0.9;\n",
"rho=900;\n",
"rho1=1000;\n",
"spgr1=0.6;\n",
"g=9.81;\n",
"y1=spgr*(2/3);\n",
"y2=spgr+(spgr1/2);\n",
"y3=spgr+((spgr1/3)*2);\n",
"//To Find\n",
"P1=rho*g*spgr;\n",
"P2=P1+(rho1*spgr1*g);\n",
"P=(0.5*P1*spgr*1.5)+(((P1+P2)/2)*spgr1*1.5);\n",
"disp('P ='+string(P)+' Newton');\n",
"P3=P2-P1;\n",
"Ycp=((P1*y1)+(P2*y2)+(P3*y3))/P;\n",
"disp('Ycp ='+string(Ycp)+' meter');"
   ]
   }
,
{
		   "cell_type": "markdown",
		   "metadata": {},
		   "source": [
			"## Example 3.7: Example.sce"
		   ]
		  },
  {
"cell_type": "code",
	   "execution_count": null,
	   "metadata": {
	    "collapsed": true
	   },
	   "outputs": [],
"source": [
"//Finding of Total Pressure\n",
"//Given\n",
"BC=2;\n",
"d=2;\n",
"y1=2.5;\n",
"rho=1000;\n",
"g=9.81;\n",
"//To Find\n",
"Ig=(1*BC^3)/2;\n",
"Ay=((1*BC^3)/2)*y1;\n",
"Px=Ay*rho*g/2;\n",
"Ycp=(Ig/Ay)+y1;\n",
"Py=((2*1.5)*(%pi/4)*d^2)*rho*g;\n",
"disp('Px= '+string(Px)+' Newtons');\n",
"disp('Ycp ='+string(Ycp)+' meter');\n",
"disp('Py= '+string(Py)+' Newtons');"
   ]
   }
],
"metadata": {
		  "kernelspec": {
		   "display_name": "Scilab",
		   "language": "scilab",
		   "name": "scilab"
		  },
		  "language_info": {
		   "file_extension": ".sce",
		   "help_links": [
			{
			 "text": "MetaKernel Magics",
			 "url": "https://github.com/calysto/metakernel/blob/master/metakernel/magics/README.md"
			}
		   ],
		   "mimetype": "text/x-octave",
		   "name": "scilab",
		   "version": "0.7.1"
		  }
		 },
		 "nbformat": 4,
		 "nbformat_minor": 0
}
