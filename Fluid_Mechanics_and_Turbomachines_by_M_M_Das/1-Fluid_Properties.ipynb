{
"cells": [
 {
		   "cell_type": "markdown",
	   "metadata": {},
	   "source": [
       "# Chapter 1: Fluid Properties"
	   ]
	},
{
		   "cell_type": "markdown",
		   "metadata": {},
		   "source": [
			"## Example 1.1: Example.sce"
		   ]
		  },
  {
"cell_type": "code",
	   "execution_count": null,
	   "metadata": {
	    "collapsed": true
	   },
	   "outputs": [],
"source": [
"// Finding Specific weight,Density,Specific Gravity\n",
"//Given\n",
"V=1/1000;                    //volume in m^3\n",
"w=9.6;                  //weight in Newton\n",
"g=9.81;                 //gravitational force in m/s^2\n",
"//To Find\n",
"spwt=w/V;               //Specific weoght in N/m^3\n",
"rho=spwt/g;                //density in kg/m^3\n",
"spgr=rho/1000;          //Specific gravity no units\n",
"disp('specific weight = '+string(spwt)+' N/m^3');\n",
"disp('density = '+string(rho)+' kg/m^3');\n",
"disp('specific gravity = '+string(spgr)+' no unit');"
   ]
   }
,
{
		   "cell_type": "markdown",
		   "metadata": {},
		   "source": [
			"## Example 1.3: Example.sce"
		   ]
		  },
  {
"cell_type": "code",
	   "execution_count": null,
	   "metadata": {
	    "collapsed": true
	   },
	   "outputs": [],
"source": [
"//Finding of Viscosity\n",
"//Given\n",
"dy=0.025*10^-3;            //distance in meter\n",
"du=0.5;                    //velocity  in m/s \n",
"tau=1.471;                 //shear stress in N/m^2\n",
"//To Find\n",
"mu=tau*dy/du;              //viscosity in Ns/m^2 \n",
"mu1=mu*10;                 // Viscosity in poise\n",
"disp('viscosity ='+string(mu)+' in Ns/m^2');\n",
"disp('Viscosity ='+string(mu1)+' in poise')  "
   ]
   }
,
{
		   "cell_type": "markdown",
		   "metadata": {},
		   "source": [
			"## Example 1.4: Example.sce"
		   ]
		  },
  {
"cell_type": "code",
	   "execution_count": null,
	   "metadata": {
	    "collapsed": true
	   },
	   "outputs": [],
"source": [
"//Finding of Diameter of water droplet\n",
"//Given\n",
"st=0.716;                   //Surface Tension in N/m\n",
"p=0.147*10^4;               //Pressure in N/m^2\n",
"//To Find \n",
"d=4*st/p;                   //Dia in meter \n",
"d1=d*10^2;                  //Dia in centimeter \n",
"d2=d*10^3;                  // Dia in millimeter\n",
"disp('Diameter ='+string(d)+' meter');\n",
"disp('Diameter ='+string(d1)+' Centi meter');\n",
"disp('Diameter ='+string(d2)+' Milli meter');"
   ]
   }
,
{
		   "cell_type": "markdown",
		   "metadata": {},
		   "source": [
			"## Example 1.5: Example.sce"
		   ]
		  },
  {
"cell_type": "code",
	   "execution_count": null,
	   "metadata": {
	    "collapsed": true
	   },
	   "outputs": [],
"source": [
"//Finding of Shear Stress\n",
"//Given\n",
"//du/dy = vg\n",
"vg=.25;            //Velocity gradient in m/sec/meter\n",
"nu=6.30*10^-4;         //Kinematic viscosity in m^2/sec\n",
"rho=1268.4;             //Mass density in Kg/m^3\n",
"mu=rho*nu;              //Dynamic Viscosity\n",
"//To Find\n",
"tau=mu*vg;          //Shear stress in N/m^2\n",
"disp('Shear Stress ='+string(tau)+' N/m^2');"
   ]
   }
,
{
		   "cell_type": "markdown",
		   "metadata": {},
		   "source": [
			"## Example 1.6: Example.sce"
		   ]
		  },
  {
"cell_type": "code",
	   "execution_count": null,
	   "metadata": {
	    "collapsed": true
	   },
	   "outputs": [],
"source": [
"//Finding of increase of Pressure\n",
"//Given\n",
"k=2.07*10^6;             // Bulk Modulus in KN/m^2\n",
"dv=0.01;              //Change in Volume  \n",
"//To Find\n",
"p=k*(dv);            // Change in pressure\n",
"disp(' Increase in Pressure ='+string(p)+' KN/m^2');"
   ]
   }
,
{
		   "cell_type": "markdown",
		   "metadata": {},
		   "source": [
			"## Example 1.7: Example.sce"
		   ]
		  },
  {
"cell_type": "code",
	   "execution_count": null,
	   "metadata": {
	    "collapsed": true
	   },
	   "outputs": [],
"source": [
"//Finding of Cappilary rise\n",
"//Given\n",
"d=0.03*10^-2;                //Diameter in meter\n",
"st=0.0735;                   //Surface Tension in N/m\n",
"x=0;                     //contact angle in degree\n",
"w=1000*9.81;\n",
"//To Find\n",
"h=(4*st)*cos(x)/(w*d);\n",
"h1=h*10^2;\n",
"disp(h);\n",
"disp('Capillary rise ='+string(h)+' meter');\n",
"disp('Capillary rise ='+string(h1)+' Centi meter');"
   ]
   }
,
{
		   "cell_type": "markdown",
		   "metadata": {},
		   "source": [
			"## Example 1.8: Example.sce"
		   ]
		  },
  {
"cell_type": "code",
	   "execution_count": null,
	   "metadata": {
	    "collapsed": true
	   },
	   "outputs": [],
"source": [
"//Finding of Kinematic Viscosity\n",
"//Given\n",
"tau=0.2158;                 //Shear stress in N/m^2\n",
"vg=0.218;                //Velocity Gradient in sec^-1\n",
"rho=959.5;                  //Density in Kg/m^3;\n",
"//To Find \n",
"mu=tau*1/vg;\n",
"disp('Dynamic Viscosity ='+string(mu)+' Ns/m^2');\n",
"nu=mu/rho;\n",
"disp('Kinematic Viscosity ='+string(nu)+' m^2/sec');\n",
"nu1=nu*10^4;\n",
"disp(' Knematic Viscosity ='+string(nu1)+' cm^2/sec');\n",
"nu2=nu1*10^-4;\n",
"disp('Kinematic Viscosity ='+string(nu2)+' strokes');"
   ]
   }
],
"metadata": {
		  "kernelspec": {
		   "display_name": "Scilab",
		   "language": "scilab",
		   "name": "scilab"
		  },
		  "language_info": {
		   "file_extension": ".sce",
		   "help_links": [
			{
			 "text": "MetaKernel Magics",
			 "url": "https://github.com/calysto/metakernel/blob/master/metakernel/magics/README.md"
			}
		   ],
		   "mimetype": "text/x-octave",
		   "name": "scilab",
		   "version": "0.7.1"
		  }
		 },
		 "nbformat": 4,
		 "nbformat_minor": 0
}
