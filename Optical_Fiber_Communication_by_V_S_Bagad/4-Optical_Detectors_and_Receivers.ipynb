{
"cells": [
 {
		   "cell_type": "markdown",
	   "metadata": {},
	   "source": [
       "# Chapter 4: Optical Detectors and Receivers"
	   ]
	},
{
		   "cell_type": "markdown",
		   "metadata": {},
		   "source": [
			"## Example 4.1_1: To_find_the_cutoff_wavelength.sce"
		   ]
		  },
  {
"cell_type": "code",
	   "execution_count": null,
	   "metadata": {
	    "collapsed": true
	   },
	   "outputs": [],
"source": [
"//Example 4.1.1 page 4.5\n",
"\n",
"clc;\n",
"clear;\n",
"\n",
"Eg= 1.1;\n",
"lamda_c = 1.24/Eg;\n",
"printf('The cut off wavelength is %.2f um',lamda_c);\n",
"\n",
"Eg_ger =0.67;\n",
"lamda_ger= 1.24/Eg_ger;\n",
"printf('\n\nThe cut off wavelength for Germanium is %.2f um',lamda_ger);"
   ]
   }
,
{
		   "cell_type": "markdown",
		   "metadata": {},
		   "source": [
			"## Example 4.1_2: To_find_the_upper_cutoff_wavelength.sce"
		   ]
		  },
  {
"cell_type": "code",
	   "execution_count": null,
	   "metadata": {
	    "collapsed": true
	   },
	   "outputs": [],
"source": [
"//Example 4.1.2 page 4.5\n",
"\n",
"clc;\n",
"clear;\n",
"Eg = 1.43;\n",
"lamda = 1.24/Eg;\n",
"lamda=lamda*1000; //converting in nm\n",
"printf('The cut off wavelength is %.2f nm',lamda);"
   ]
   }
,
{
		   "cell_type": "markdown",
		   "metadata": {},
		   "source": [
			"## Example 4.1_3: To_find_the_quantum_efficiency_of_the_detector.sce"
		   ]
		  },
  {
"cell_type": "code",
	   "execution_count": null,
	   "metadata": {
	    "collapsed": true
	   },
	   "outputs": [],
"source": [
"//Example 4.1.3 page 4.3\n",
"\n",
"clc;\n",
"clear;\n",
"\n",
"P = 6*10^6;\n",
"Eh_pair= 5.4*10^6;\n",
"n= Eh_pair/P*100;\n",
"printf('The quantum efficiency is %d %%',n);"
   ]
   }
,
{
		   "cell_type": "markdown",
		   "metadata": {},
		   "source": [
			"## Example 4.1_4: To_find_generated_photocurrent.sce"
		   ]
		  },
  {
"cell_type": "code",
	   "execution_count": null,
	   "metadata": {
	    "collapsed": true
	   },
	   "outputs": [],
"source": [
"//Example 4.1.4 page 4.6\n",
"\n",
"clc;\n",
"clear;\n",
"\n",
"R= 0.65;\n",
"P0= 10*10^-6;\n",
"Ip= R*P0;\n",
"Ip=Ip*10^6; //convertinf in uA...\n",
"printf('The generated photocurrent is %.1f uA',Ip);"
   ]
   }
,
{
		   "cell_type": "markdown",
		   "metadata": {},
		   "source": [
			"## Example 4.1_5: To_find_quantum_efficiency_and_responsivity.sce"
		   ]
		  },
  {
"cell_type": "code",
	   "execution_count": null,
	   "metadata": {
	    "collapsed": true
	   },
	   "outputs": [],
"source": [
"//Example 4.1.5 page 4.6\n",
"\n",
"clc;\n",
"clear;\n",
"\n",
"Ec= 1.2*10^11;\n",
"P= 3*10^11;\n",
"lamda = 0.85*10^-6;\n",
"n= Ec/P*100;\n",
"printf('The efficiency is %d %%',n);\n",
"\n",
"q= 1.602*10^-19;\n",
"h= 6.625*10^-34;\n",
"c= 3*10^8;\n",
"n= n/100;\n",
"R= n*q*lamda/(h*c);\n",
"printf('\n\nThe Responsivity of the photodiode is %.4f A/W',R);"
   ]
   }
,
{
		   "cell_type": "markdown",
		   "metadata": {},
		   "source": [
			"## Example 4.1_6: Operational_wavelength_and_the_incident_optical_power_required.sce"
		   ]
		  },
  {
"cell_type": "code",
	   "execution_count": null,
	   "metadata": {
	    "collapsed": true
	   },
	   "outputs": [],
"source": [
"//Example 4.1.6   page 4.7\n",
"\n",
"clc;\n",
"clear;\n",
"\n",
"n= 0.65;\n",
"E= 1.5*10^-19;\n",
"Ip= 2.5*10^-6;\n",
"h= 6.625*10^-34;\n",
"c= 3*10^8;\n",
"lamda= h*c/E;\n",
"lamda=lamda*10^6; //converting in um for displaying...\n",
"printf('The wavelength is %.3f um',lamda);\n",
"lamda=lamda*10^-6;\n",
"q= 1.602*10^-19;\n",
"R= n*q*lamda/(h*c);\n",
"printf('\n\nThe Responsivity is %.4f A/W',R);\n",
"Pin= Ip/R;\n",
"Pin=Pin*10^6;// converting in uW for displaying/..\n",
"printf('\n\nThe incidnt power is %.1f uW',Pin);"
   ]
   }
,
{
		   "cell_type": "markdown",
		   "metadata": {},
		   "source": [
			"## Example 4.1_7: To_find_the_average_photon_current.sce"
		   ]
		  },
  {
"cell_type": "code",
	   "execution_count": null,
	   "metadata": {
	    "collapsed": true
	   },
	   "outputs": [],
"source": [
"//Example 4.1.7 page 4.8\n",
"\n",
"clc;\n",
"clear;\n",
"Iin= 1;\n",
"lamda= 1550*10^-9;\n",
"q= 1.602*10^-19;\n",
"h= 6.625*10^-34;\n",
"c= 3*10^8;\n",
"n=0.65;\n",
"Ip=n*q*lamda*Iin/(h*c);\n",
"Ip=Ip*1000; //converting in mA for displaying...\n",
"printf('The average photon current is %d mA',Ip);"
   ]
   }
,
{
		   "cell_type": "markdown",
		   "metadata": {},
		   "source": [
			"## Example 4.1_8: To_find_the_wavelength_of_operation_incident_power_and_the_responsivity.sce"
		   ]
		  },
  {
"cell_type": "code",
	   "execution_count": null,
	   "metadata": {
	    "collapsed": true
	   },
	   "outputs": [],
"source": [
"//Example 4.1.8 page 4.9\n",
"\n",
"clc;\n",
"clear;\n",
"n= 0.70;\n",
"Ip= 4*10^-6;\n",
"e= 1.602*10^-19;\n",
"h= 6.625*10^-34;\n",
"c= 3*10^8;\n",
"E= 1.5*10^-19\n",
"lamda = h*c/E;\n",
"lamda=lamda*10^6; //converting um for displaying...\n",
"printf('The wavelength is %.2f um',lamda);\n",
"R= n*e/E;\n",
"Po= Ip/R;\n",
"Po=Po*10^6; //converting um for displaying...\n",
"printf('\n\nIncident optical Power is %.2f uW',Po);"
   ]
   }
,
{
		   "cell_type": "markdown",
		   "metadata": {},
		   "source": [
			"## Example 4.2_1: To_find_the_bandwidth.sce"
		   ]
		  },
  {
"cell_type": "code",
	   "execution_count": null,
	   "metadata": {
	    "collapsed": true
	   },
	   "outputs": [],
"source": [
"//Example 4.2.1 page 4.14\n",
"\n",
"clc;\n",
"clear;\n",
"Ct= 7*10^-12;\n",
"Rt= 50*1*10^6/(50+(1*10^6));\n",
"B= 1/(2*%pi*Rt*Ct);\n",
"B=B*10^-6; //converting in mHz for displaying...\n",
"printf('The bandwidth of photodetector is %.2f MHz',B);"
   ]
   }
,
{
		   "cell_type": "markdown",
		   "metadata": {},
		   "source": [
			"## Example 4.2_2: To_find_the_maximum_response_time.sce"
		   ]
		  },
  {
"cell_type": "code",
	   "execution_count": null,
	   "metadata": {
	    "collapsed": true
	   },
	   "outputs": [],
"source": [
"//Example 4.2.2 page 4.15\n",
"\n",
"clc;\n",
"clear;\n",
"\n",
"W= 25*10^-6;\n",
"Vd= 3*10^4;\n",
"Bm= Vd/(2*%pi*W);\n",
"RT= 1/Bm;\n",
"RT=RT*10^9;  //converting ns for displaying...\n",
"printf('The maximum response time is %.2f ns',RT);"
   ]
   }
,
{
		   "cell_type": "markdown",
		   "metadata": {},
		   "source": [
			"## Example 4.2_3: To_find_the_multiplication_factor.sce"
		   ]
		  },
  {
"cell_type": "code",
	   "execution_count": null,
	   "metadata": {
	    "collapsed": true
	   },
	   "outputs": [],
"source": [
"//Example 4.2.3. pahe 4.15\n",
"\n",
"clc;\n",
"clear;\n",
"e= 1.602*10^-19;\n",
"h= 6.625*10^-34;\n",
"v= 3*10^8;\n",
"n=0.65;\n",
"I= 10*10^-6;\n",
"lamda= 900*10^-9;\n",
"R= n*e*lamda/(h*v);\n",
"Po= 0.5*10^-6;\n",
"Ip= Po*R;\n",
"M= I/Ip;\n",
"printf('The multiplication factor is %.2f',M);"
   ]
   }
,
{
		   "cell_type": "markdown",
		   "metadata": {},
		   "source": [
			"## Example 4.3_1: To_find_the_multiplication_factor.sce"
		   ]
		  },
  {
"cell_type": "code",
	   "execution_count": null,
	   "metadata": {
	    "collapsed": true
	   },
	   "outputs": [],
"source": [
"//Example 4.3.1 page 4.18\n",
"\n",
"clc;\n",
"clear;\n",
"\n",
"n=0.65;\n",
"lamda = 900*10^-9;\n",
"Pin= 0.5*10^-6;\n",
"Im= 10*10^-6;\n",
"q= 1.602*10^-19;\n",
"h= 6.625*10^-34;\n",
"c= 3*10^8;\n",
"R= n*q*lamda/(h*c);\n",
"Ip= R*Pin;\n",
"M= Im/Ip;\n",
"printf('The multiplication factor is %.2f',M);\n",
"printf('\n\n***NOTE-Answer wrong in textbook...');"
   ]
   }
,
{
		   "cell_type": "markdown",
		   "metadata": {},
		   "source": [
			"## Example 4.6_1: To_find_the_various_noise_terms.sce"
		   ]
		  },
  {
"cell_type": "code",
	   "execution_count": null,
	   "metadata": {
	    "collapsed": true
	   },
	   "outputs": [],
"source": [
"//Example 4.6.1 page 4.34\n",
"\n",
"clc;\n",
"clear;\n",
"lamda = 1300*10^-9;\n",
"Id= 4*10^-9;\n",
"n=0.9;\n",
"Rl= 1000;\n",
"Pincident= 300*10^-9;\n",
"BW= 20*10^6;\n",
"q= 1.602*10^-19;\n",
"h= 6.625*10^-34;\n",
"v= 3*10^8;\n",
"Iq= sqrt((q*Pincident*n*lamda)/(h*v));\n",
"Iq= sqrt(Iq);\n",
"Iq=Iq*100; //converting in proper format for displaying...\n",
"printf('Mean square quantum noise current is %.2fx10^11 Amp',Iq);\n",
"I_dark= 2*q*BW*Id;\n",
"I_dark=I_dark*10^19;//converting in proper format for displaying...\n",
"printf('\n\nMean square dark current is %.3fx10^-19 Amp',I_dark);\n",
"k= 1.38*10^-23;\n",
"T= 25+273;\n",
"It= 4*k*T*BW/Rl;\n",
"It=It*10^16;//converting in proper format for displaying...\n",
"printf('\n\nMean square thermal nise current is %.2fx10^-16 Amp',It)"
   ]
   }
,
{
		   "cell_type": "markdown",
		   "metadata": {},
		   "source": [
			"## Example 4.8_1: To_find_the_quantum_limit.sce"
		   ]
		  },
  {
"cell_type": "code",
	   "execution_count": null,
	   "metadata": {
	    "collapsed": true
	   },
	   "outputs": [],
"source": [
"//Example 4.8.1 page 4.39\n",
"\n",
"clc;\n",
"clear;\n",
"lamda = 850*10^-9;  		//meters\n",
"BER= 1*10^-9;\n",
"N_bar = 9*log(10);\n",
"h= 6.625*10^-34;   		 //joules-sec\n",
"v= 3*10^8;  			//meters/sec\n",
"n= 0.65;       			// assumption\n",
"E=N_bar*h*v/(n*lamda);\n",
"E=E*10^18;			///converting in proper format for displaying...\n",
"printf('The Energy received is %.2fx10^-18 Joules',E);"
   ]
   }
,
{
		   "cell_type": "markdown",
		   "metadata": {},
		   "source": [
			"## Example 4.8_2: To_find_minimum_optical_power.sce"
		   ]
		  },
  {
"cell_type": "code",
	   "execution_count": null,
	   "metadata": {
	    "collapsed": true
	   },
	   "outputs": [],
"source": [
"//Example 4.8.2 page 4.39\n",
"\n",
"clc;\n",
"clear;\n",
"\n",
"lamda = 850*10^-9;\n",
"BER = 1*10^-9;\n",
"BT=10*10^6;\n",
"h= 6.625*10^-34;\n",
"c= 3*10^8;\n",
"Ps= 36*h*c*BT/lamda;\n",
"Ps=Ps*10^12;///converting in proper format for displaying...\n",
"printf('The minimum incidental optical power required id %.2f pW',Ps);"
   ]
   }
,
{
		   "cell_type": "markdown",
		   "metadata": {},
		   "source": [
			"## Example 4.8_3: To_find_Signal_Noise_ratio.sce"
		   ]
		  },
  {
"cell_type": "code",
	   "execution_count": null,
	   "metadata": {
	    "collapsed": true
	   },
	   "outputs": [],
"source": [
"//Example 4.8.3 page 4.40\n",
"\n",
"clc;\n",
"clear;\n",
"\n",
"C= 5*10^-12;\n",
"B =50*10^6;\n",
"Ip= 1*10^-7;\n",
"e= 1.602*10^-19;\n",
"k= 1.38*10^-23;\n",
"T= 18+273;\n",
"M= 1;\n",
"Rl= 1/(2*%pi*C*B);\n",
"S_N= Ip^2/((2*e*B*Ip)+(4*k*T*B/Rl));\n",
"S_N = 10*log10(S_N); //in db\n",
"printf('The S/N ratio is %.2f dB',S_N);\n",
"M=41.54;\n",
"S_N_new= (M^2*Ip^2)/((2*e*B*Ip*M^2.3)+(4*k*T*B/Rl));\n",
"S_N_new = 10*log10(S_N_new); //in db\n",
"printf('\n\nThe new S/N ratio is %.2f dB',S_N_new);\n",
"printf('\n\nImprovement over M=1 is %.1f dB',S_N_new-S_N);"
   ]
   }
],
"metadata": {
		  "kernelspec": {
		   "display_name": "Scilab",
		   "language": "scilab",
		   "name": "scilab"
		  },
		  "language_info": {
		   "file_extension": ".sce",
		   "help_links": [
			{
			 "text": "MetaKernel Magics",
			 "url": "https://github.com/calysto/metakernel/blob/master/metakernel/magics/README.md"
			}
		   ],
		   "mimetype": "text/x-octave",
		   "name": "scilab",
		   "version": "0.7.1"
		  }
		 },
		 "nbformat": 4,
		 "nbformat_minor": 0
}
