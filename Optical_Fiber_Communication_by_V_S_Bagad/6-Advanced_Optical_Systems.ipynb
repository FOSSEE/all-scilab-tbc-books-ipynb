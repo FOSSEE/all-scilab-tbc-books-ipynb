{
"cells": [
 {
		   "cell_type": "markdown",
	   "metadata": {},
	   "source": [
       "# Chapter 6: Advanced Optical Systems"
	   ]
	},
{
		   "cell_type": "markdown",
		   "metadata": {},
		   "source": [
			"## Example 6.10_1: To_compute_the_performance_parameters.sce"
		   ]
		  },
  {
"cell_type": "code",
	   "execution_count": null,
	   "metadata": {
	    "collapsed": true
	   },
	   "outputs": [],
"source": [
"// Example 6.10.1 page 6.22\n",
"\n",
"clc;\n",
"clear;\n",
"\n",
"P0= 200;\n",
"P1=90;\n",
"P2=85;\n",
"P3=6.3;\n",
"//All powers in uW...\n",
"coupling_ratio= P2/(P1+P2)*100;\n",
"printf('\n\n Coupling Ratio is %.2f %%',coupling_ratio);\n",
"excess_ratio= 10*log10(P0/(P1+P2))\n",
"printf('\n\n The Excess Ratio is %.4f dB',excess_ratio);\n",
"insertion_loss=10*log10(P0/P1);\n",
"printf('\n\n The Insertion Loss (from Port 0 to Port 1) is %.2f dB',insertion_loss);\n",
"insertion_loss1=10*log10(P0/P2);\n",
"printf('\n\n The Insertion Loss (from Port 0 to Port 2) is %.2f dB',insertion_loss1);\n",
"cross_talk=10*log10(P3/P0);\n",
"printf('\n\n The Cross Talk is %.d dB',cross_talk);\n",
"printf('\n\n***NOTE: Cross Talk calculated wrognly in book... Value of P3 wrognly taken');"
   ]
   }
,
{
		   "cell_type": "markdown",
		   "metadata": {},
		   "source": [
			"## Example 6.10_2: To_calculate_performance_parameters.sce"
		   ]
		  },
  {
"cell_type": "code",
	   "execution_count": null,
	   "metadata": {
	    "collapsed": true
	   },
	   "outputs": [],
"source": [
"// Example 6.10.2 page 6.23\n",
"\n",
"clc;\n",
"clear;\n",
"\n",
"P0= 300;\n",
"P1=150;\n",
"P2=65;\n",
"P3=8.3*10^-3;\n",
"//All powers in uW...\n",
"splitting_ratio= P2/(P1+P2)*100;\n",
"printf('\n\n Splitting Ratio is %.2f %%',splitting_ratio);\n",
"excess_ratio= 10*log10(P0/(P1+P2))\n",
"printf('\n\n The Excess Ratio is %.4f dB',excess_ratio);\n",
"insertion_loss=10*log10(P0/P1);\n",
"printf('\n\n The Insertion Loss (from Port 0 to Port 1) is %.2f dB',insertion_loss);\n",
"cross_talk=10*log10(P3/P0);\n",
"printf('\n\n The Cross Talk is %.2f dB',cross_talk);\n",
""
   ]
   }
,
{
		   "cell_type": "markdown",
		   "metadata": {},
		   "source": [
			"## Example 6.10_3: To_find_total_loss_in_the_coupler.sce"
		   ]
		  },
  {
"cell_type": "code",
	   "execution_count": null,
	   "metadata": {
	    "collapsed": true
	   },
	   "outputs": [],
"source": [
"//Example 6.10.3  page 6.25\n",
"\n",
"clc;\n",
"clear;\n",
"\n",
"N=32;\n",
"Ft=(100-5)/100;\n",
"Total_loss= 10*(1-3.322*log10(Ft))*log10(N);\n",
"printf('The total loss in the coupler is :%.2f dB',Total_loss);"
   ]
   }
,
{
		   "cell_type": "markdown",
		   "metadata": {},
		   "source": [
			"## Example 6.10_4: To_compute_total_loss.sce"
		   ]
		  },
  {
"cell_type": "code",
	   "execution_count": null,
	   "metadata": {
	    "collapsed": true
	   },
	   "outputs": [],
"source": [
"//Example 6.10.4  page 6.28\n",
"\n",
"clc;\n",
"clear;\n",
"\n",
"N=10;\n",
"L=0.5;\n",
"alpha=0.4;\n",
"Lthru=0.9;\n",
"Lc=1;\n",
"Ltap=10;\n",
"Li=0.5;\n",
"Total_loss= N*(alpha*L +2*Lc +Lthru+Li)-(alpha*L)-(2*Lthru)+(2*Ltap);\n",
"printf('The total loss in the coupler is :%d dB',Total_loss);"
   ]
   }
,
{
		   "cell_type": "markdown",
		   "metadata": {},
		   "source": [
			"## Example 6.11_1: To_compute_the_wave_guide_length_differencr.sce"
		   ]
		  },
  {
"cell_type": "code",
	   "execution_count": null,
	   "metadata": {
	    "collapsed": true
	   },
	   "outputs": [],
"source": [
"//Example 6.11.1 page 6.33\n",
"\n",
"clc;\n",
"clear;\n",
"\n",
"del_v=10*10^9;\n",
"N_eff= 1.5;\n",
"c=3*10^11; // speed of light in mm/sec\n",
"\n",
"del_L= c/(2*N_eff*del_v);\n",
"printf('The wave guide length differenc is %d mm',del_L);"
   ]
   }
,
{
		   "cell_type": "markdown",
		   "metadata": {},
		   "source": [
			"## Example 6.5_1: To_find_the_maximum_input_and_output_power.sce"
		   ]
		  },
  {
"cell_type": "code",
	   "execution_count": null,
	   "metadata": {
	    "collapsed": true
	   },
	   "outputs": [],
"source": [
"//Example 6.5.1 page 6.11\n",
"\n",
"clc;\n",
"clear;\n",
"\n",
"lamda_p= 980*10^-9;\n",
"lamda_s=1550*10^-9;\n",
"P_in=30;    // in mW....\n",
"G=100;\n",
"\n",
"Ps_max= ((lamda_p*P_in)/lamda_s)/(G-1);\n",
"printf('\nMaximum input power is:%.5f mW',Ps_max);\n",
"\n",
"Ps_out= Ps_max + (lamda_p*P_in/lamda_s);\n",
"Ps_out= 10*log10(Ps_out);\n",
"printf('\n\nOutput power is:%.2f dBm',Ps_out);"
   ]
   }
,
{
		   "cell_type": "markdown",
		   "metadata": {},
		   "source": [
			"## Example 6.5_2: To_find_the_gain_of_EDFA.sce"
		   ]
		  },
  {
"cell_type": "code",
	   "execution_count": null,
	   "metadata": {
	    "collapsed": true
	   },
	   "outputs": [],
"source": [
"//Example 6.5.2 page 6.12\n",
"\n",
"clc;\n",
"clear;\n",
"\n",
"Ps_out= 30;         //in uW...\n",
"Ps_in=1;\n",
"Noise_power = 0.5;\n",
"\n",
"G= Ps_out/Ps_in;\n",
"\n",
"G= 10*log10(G);\n",
"printf('\nThe Gain EDFA is %.2f dB',G);"
   ]
   }
],
"metadata": {
		  "kernelspec": {
		   "display_name": "Scilab",
		   "language": "scilab",
		   "name": "scilab"
		  },
		  "language_info": {
		   "file_extension": ".sce",
		   "help_links": [
			{
			 "text": "MetaKernel Magics",
			 "url": "https://github.com/calysto/metakernel/blob/master/metakernel/magics/README.md"
			}
		   ],
		   "mimetype": "text/x-octave",
		   "name": "scilab",
		   "version": "0.7.1"
		  }
		 },
		 "nbformat": 4,
		 "nbformat_minor": 0
}
