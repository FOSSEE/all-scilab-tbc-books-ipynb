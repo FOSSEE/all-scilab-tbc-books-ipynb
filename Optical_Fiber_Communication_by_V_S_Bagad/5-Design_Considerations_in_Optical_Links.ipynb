{
"cells": [
 {
		   "cell_type": "markdown",
	   "metadata": {},
	   "source": [
       "# Chapter 5: Design Considerations in Optical Links"
	   ]
	},
{
		   "cell_type": "markdown",
		   "metadata": {},
		   "source": [
			"## Example 5.3_1: To_design_optical_fiber_link.sce"
		   ]
		  },
  {
"cell_type": "code",
	   "execution_count": null,
	   "metadata": {
	    "collapsed": true
	   },
	   "outputs": [],
"source": [
"//Example 5.3.1 page 5.7\n",
"\n",
"clc;\n",
"clear;\n",
"\n",
"B= 15*10^-6;\n",
"L= 4;\n",
"BER= 1*10^-9;\n",
"Ls= 0.5;\n",
"Lc= 1.5;\n",
"alpha= 6;\n",
"Pm= 8;\n",
"Pt= 2*Lc +(alpha*L)+(Pm);\n",
"printf('The actual loss in fibre is %d dB',Pt);\n",
"Pmax = -10-(-50);\n",
"printf('\n\nThe maximum allowable system loss is %d dBm',Pmax);"
   ]
   }
,
{
		   "cell_type": "markdown",
		   "metadata": {},
		   "source": [
			"## Example 5.3_2: Calculate_the_link_power_budjet.sce"
		   ]
		  },
  {
"cell_type": "code",
	   "execution_count": null,
	   "metadata": {
	    "collapsed": true
	   },
	   "outputs": [],
"source": [
"//Example 5.3.2 page 5.8;\n",
" clc;\n",
" clear;\n",
" \n",
" Ps= 0.1;\n",
" alpha = 6;\n",
" L= 0.5;\n",
" Ps = 10*log10(Ps);\n",
" NA= 0.25;\n",
" Lcoupling= -10*log10(NA^2);\n",
" Lf= alpha*L;\n",
"lc= 2*2;\n",
"Pm= 4;\n",
"Pout = Ps-(Lcoupling+Lf+lc+Pm);\n",
"printf('The actual power output is %d dBm',Pout);\n",
"Pmin = -35;\n",
"printf('\n\nMinimum input power required is %d dBm',Pmin);\n",
"printf('\n\nAs Pmin > Pout, system will perform adequately over the system operating life.');"
   ]
   }
,
{
		   "cell_type": "markdown",
		   "metadata": {},
		   "source": [
			"## Example 5.3_3: Calculate_the_loss_margi.sce"
		   ]
		  },
  {
"cell_type": "code",
	   "execution_count": null,
	   "metadata": {
	    "collapsed": true
	   },
	   "outputs": [],
"source": [
"//Example 5.3.3 page 5.8;\n",
"\n",
"clc;\n",
"clear;\n",
"\n",
"Ps= 5;\n",
"Lcoupling = 3;\n",
"Lc= 2;\n",
"L_splicing = 50*0.1;\n",
"F_atten  = 25;\n",
"L_total = Lcoupling+Lc+L_splicing+F_atten;\n",
"P_avail = Ps-L_total;\n",
"sensitivity = -40;\n",
"loss_margin = -sensitivity-(-P_avail);\n",
"printf('The loss margin of the system is -%d dBm',loss_margin);\n",
"sensitivity_fet = -32;\n",
"loss_margin_fet=-sensitivity_fet-(-P_avail);\n",
"printf('\n\nThe loss marging for the FET receiver is -%d dBm',loss_margin_fet);"
   ]
   }
,
{
		   "cell_type": "markdown",
		   "metadata": {},
		   "source": [
			"## Example 5.3_4: To_perform_optical_power_budjet.sce"
		   ]
		  },
  {
"cell_type": "code",
	   "execution_count": null,
	   "metadata": {
	    "collapsed": true
	   },
	   "outputs": [],
"source": [
"//Example 5.3.4 page 5.9\n",
"\n",
"clc;\n",
"clear ;\n",
"\n",
"LED_output = 3;\n",
"PIN_sensitivity = -54;\n",
"allowed_loss= LED_output -(-PIN_sensitivity);\n",
"Lcoupling = 17.5;\n",
"cable_atten = 30;\n",
"power_margin_coupling= 39.5;\n",
"power_margin_splice=6.2;\n",
"power_margin_cable=9.5;\n",
"final_margin= power_margin_coupling+power_margin_splice+power_margin_cable;\n",
"printf('The safety margin is %.2f dB',final_margin)\n",
"//Answer in book is wrong...\n",
"printf('\n\n***NOTE- Answer wrong in book...');"
   ]
   }
,
{
		   "cell_type": "markdown",
		   "metadata": {},
		   "source": [
			"## Example 5.3_5: Perform_optical_power_budget.sce"
		   ]
		  },
  {
"cell_type": "code",
	   "execution_count": null,
	   "metadata": {
	    "collapsed": true
	   },
	   "outputs": [],
"source": [
"//Example 5.3.5 page 5.10\n",
"\n",
"clc;\n",
"clear;\n",
"\n",
"optical_power=-10;\n",
"receiver_sensitivity=-41;\n",
"total_margin= optical_power-receiver_sensitivity;\n",
"cable_loss= 7*2.6;\n",
"splice_loss= 6*0.5;\n",
"connector_loss= 1*1.5;\n",
"safety_margin= 6;\n",
"total_loss= cable_loss+splice_loss+connector_loss+safety_margin;\n",
"excess_power_margin= total_margin-total_loss;\n",
"printf('The system is viable and provides %.1f dB excess power margin.',excess_power_margin);"
   ]
   }
,
{
		   "cell_type": "markdown",
		   "metadata": {},
		   "source": [
			"## Example 5.4_1: To_find_the_system_rise_time.sce"
		   ]
		  },
  {
"cell_type": "code",
	   "execution_count": null,
	   "metadata": {
	    "collapsed": true
	   },
	   "outputs": [],
"source": [
"//Example 5.4.1 page 5.13\n",
"\n",
"clc;\n",
"clear;\n",
"\n",
"Ttx= 15;\n",
"Tmat=21;\n",
"Tmod= 3.9;\n",
"BW= 25;\n",
"Trx= 350/BW;\n",
"\n",
"Tsys = sqrt(Ttx^2+Tmat^2+Tmod^2+Trx^2);\n",
"printf('The system rise time is %.2f ns.',Tsys);"
   ]
   }
,
{
		   "cell_type": "markdown",
		   "metadata": {},
		   "source": [
			"## Example 5.4_2: To_find_system_rise_time_and_bandwidth.sce"
		   ]
		  },
  {
"cell_type": "code",
	   "execution_count": null,
	   "metadata": {
	    "collapsed": true
	   },
	   "outputs": [],
"source": [
"//Example 5.4.2 page 5.14\n",
"\n",
"clc;\n",
"clear;\n",
"Ttrans = 1.75*10^-9;\n",
"Tled = 3.50*10^-9;\n",
"Tcable=3.89*10^-9;\n",
"Tpin= 1*10^-9;\n",
"Trec= 1.94*10^-9;\n",
"Tsys= sqrt(Ttrans^2+Tled^2+Tcable^2+Tpin^2+Trec^2);\n",
"Tsys=Tsys*10^9;//converting in ns for dislaying...\n",
"printf('The system rise time is %.2f ns',Tsys)\n",
"Tsys=Tsys*10^-9;\n",
"BW= 0.35/Tsys;\n",
"BW=BW/1000000;//converting in MHz for dislaying...\n",
"printf('\n\nThe system bandwidth is %.2f MHz',BW);"
   ]
   }
,
{
		   "cell_type": "markdown",
		   "metadata": {},
		   "source": [
			"## Example 5.4_3: To_find_maximum_bit_rate_for_link_when_using_NRZ_and_RZ.sce"
		   ]
		  },
  {
"cell_type": "code",
	   "execution_count": null,
	   "metadata": {
	    "collapsed": true
	   },
	   "outputs": [],
"source": [
"//Example 5.4.3 page 5.14\n",
"\n",
"clc;\n",
"clear;\n",
"\n",
"Ttx= 8*10^-9;\n",
"Tintra= 1*10^-9;\n",
"Tmodal=5*10^-9;\n",
"Trr= 6*10^-9;\n",
"Tsys= sqrt(Ttx^2+(8*Tintra)^2+(8*Tmodal)^2+Trr^2);\n",
"\n",
"BWnrz= 0.7/Tsys;\n",
"BWnrz=BWnrz/1000000;//converting in ns for dislaying...\n",
"BWrz=0.35/Tsys;\n",
"BWrz=BWrz/1000000;//converting in ns for dislaying...\n",
"printf('Maximum bit rate for NRZ format is %.2f Mb/sec',BWnrz);\n",
"printf('\n\nMaximum bit rate for RZ format is %.2f Mb/sec',BWrz);"
   ]
   }
,
{
		   "cell_type": "markdown",
		   "metadata": {},
		   "source": [
			"## Example 5.4_4: To_find_if_the_components_give_adequate_response.sce"
		   ]
		  },
  {
"cell_type": "code",
	   "execution_count": null,
	   "metadata": {
	    "collapsed": true
	   },
	   "outputs": [],
"source": [
"//Example 5.4.4 page 5.15\n",
"\n",
"clc;\n",
"clear;\n",
"Ts= 10*10^-9;\n",
"Tn=9*10^-9;\n",
"Tc=2*10^-9;\n",
"Td=3*10^-9;\n",
"BW= 6*10^6;\n",
"Tsyst= 1.1*sqrt(Ts^2+(5*Tn)^2+(5*Tc)^2+Td^2);\n",
"Tsyst=Tsyst*10^9;//converting in ns for displying...\n",
"Tsyst_max = 0.35/BW;\n",
"Tsyst_max=Tsyst_max*10^9;//converting in ns for displying...\n",
"printf('Rise system of the system is %.2f ns',Tsyst)\n",
"printf('\n\nMaximum Rise system of the system is %.2f ns',Tsyst_max)\n",
"printf('\n\nSpecified components give a system rise time which is\n adequate for the bandwidth and distance requirements of the optical fibre link.');"
   ]
   }
,
{
		   "cell_type": "markdown",
		   "metadata": {},
		   "source": [
			"## Example 5.5_1: To_find_the_maximum_bit_rates_for_different_cases.sce"
		   ]
		  },
  {
"cell_type": "code",
	   "execution_count": null,
	   "metadata": {
	    "collapsed": true
	   },
	   "outputs": [],
"source": [
"//Example 5.5.1 page 5.18\n",
"\n",
"clc;\n",
"clear;\n",
"del_t_1 = 10*100*10^-9;\n",
"Bt_nrz_1 = 0.7/(del_t_1*1000000);\n",
"Bt_rz_1 = 0.35/(del_t_1*1000000);\n",
"printf('First case. \n');\n",
"printf('Bit rate for nrz is:%.1f Mb/sec',Bt_nrz_1);\n",
"printf('\nBit rate for rz is:%.2f Mb/sec',Bt_rz_1);\n",
"del_t_2 = 20*1000*10^-9;\n",
"Bt_nrz_2 = 0.7/(del_t_2*1000000);\n",
"Bt_rz_2 = 0.35/(del_t_2*1000000);\n",
"printf('\n\nSecond case');\n",
"printf('\nBit rate for nrz is:%.3f Mb/sec',Bt_nrz_2);\n",
"printf('\nBit rate for rz  is:%.4f Mb/sec',Bt_rz_2);\n",
"del_t_3 = 2*2000*10^-9;\n",
"Bt_nrz_3 = 0.7/(del_t_3*1000);\n",
"Bt_rz_3 = 0.35/(del_t_3*1000);\n",
"printf('\n\nThird case');\n",
"printf('\nBit rate for nrz is:%d BITS/sec',Bt_nrz_3);\n",
"printf('\nBit rate for rz  is:%.1f BITS/sec',Bt_rz_3);"
   ]
   }
],
"metadata": {
		  "kernelspec": {
		   "display_name": "Scilab",
		   "language": "scilab",
		   "name": "scilab"
		  },
		  "language_info": {
		   "file_extension": ".sce",
		   "help_links": [
			{
			 "text": "MetaKernel Magics",
			 "url": "https://github.com/calysto/metakernel/blob/master/metakernel/magics/README.md"
			}
		   ],
		   "mimetype": "text/x-octave",
		   "name": "scilab",
		   "version": "0.7.1"
		  }
		 },
		 "nbformat": 4,
		 "nbformat_minor": 0
}
