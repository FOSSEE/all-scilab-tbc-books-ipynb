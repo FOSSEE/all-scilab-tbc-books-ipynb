{
"cells": [
 {
		   "cell_type": "markdown",
	   "metadata": {},
	   "source": [
       "# Chapter 3: Optical Sources and Transmitters"
	   ]
	},
{
		   "cell_type": "markdown",
		   "metadata": {},
		   "source": [
			"## Example 3.2_1: To_find_the_emitted_wavelength.sce"
		   ]
		  },
  {
"cell_type": "code",
	   "execution_count": null,
	   "metadata": {
	    "collapsed": true
	   },
	   "outputs": [],
"source": [
"//Example 3.2.1 page 3.10\n",
"\n",
"clc;\n",
"clear;\n",
"\n",
"x= 0.07;\n",
"Eg= 1.424+1.266*x+0.266*x^2;\n",
"lamda= 1.24/Eg;\n",
"printf('The emitted wavelength is %.2f um',lamda);"
   ]
   }
,
{
		   "cell_type": "markdown",
		   "metadata": {},
		   "source": [
			"## Example 3.2_2: To_find_the_emitted_wavelength.sce"
		   ]
		  },
  {
"cell_type": "code",
	   "execution_count": null,
	   "metadata": {
	    "collapsed": true
	   },
	   "outputs": [],
"source": [
"//Example 3.2.2 page 3.10\n",
"\n",
"clc;\n",
"clear;\n",
"x= 0.26;\n",
"y=0.57;\n",
"Eg= 1.35-0.72*y+0.12*y^2;\n",
"lamda = 1.24/Eg;\n",
"printf('The wavelength emitted is %.2f um',lamda);"
   ]
   }
,
{
		   "cell_type": "markdown",
		   "metadata": {},
		   "source": [
			"## Example 3.2_3: To_find_total_carrier_recombination_life_time_and_optical_power_generated.sce"
		   ]
		  },
  {
"cell_type": "code",
	   "execution_count": null,
	   "metadata": {
	    "collapsed": true
	   },
	   "outputs": [],
"source": [
"// Example 3.2.3 page 3.12\n",
"\n",
"clc;\n",
"clear;\n",
"Tr = 60*10^-9;  //radiative recombination time\n",
"Tnr= 90*10^-9;  //non radiative recomb time\n",
"I= 40*10^-3;    //current\n",
"t = Tr*Tnr/(Tr+Tnr);    //total recomb time\n",
"t=t*10^9;   //Converting in nano secs...\n",
"printf('The total carrier recombination life time is %d ns',t);\n",
"t=t/10^9;\n",
"h= 6.625*10^-34;    //plancks const\n",
"c= 3*10^8;\n",
"q=1.602*10^-19;\n",
"lamda= 0.87*10^-6;\n",
"Pint=(t/Tr)*((h*c*I)/(q*lamda));\n",
"Pint=Pint*1000; //converting inmW...\n",
"printf('\n\nThe Internal optical power is %.2f mW',Pint);"
   ]
   }
,
{
		   "cell_type": "markdown",
		   "metadata": {},
		   "source": [
			"## Example 3.2_4: To_find_bulk_recombination_life_time_quantum_efficiency_and_internal_power.sce"
		   ]
		  },
  {
"cell_type": "code",
	   "execution_count": null,
	   "metadata": {
	    "collapsed": true
	   },
	   "outputs": [],
"source": [
"//Example 3.2.4 page 3.13\n",
"clc;\n",
"clear;\n",
"lamda = 1310*10^-9;\n",
"Tr= 30*10^-9;\n",
"Tnr= 100*10^-9;\n",
"I= 40*10^-3;\n",
"t= Tr*Tnr/(Tr+Tnr);\n",
"t=t*10^9;  //converting in nano secs...\n",
"printf('Bulk recombination life time %.2f ns',t);\n",
"t=t/10^9;\n",
"n= t/Tr;\n",
"printf('\n\nInternal quantum efficiency is %.3f',n);\n",
"h= 6.625*10^-34;    //plancks const\n",
"c= 3*10^8;\n",
"q=1.602*10^-19;\n",
"Pint=(0.769*h*c*I)/(q*lamda)*1000;\n",
"printf('\n\nThe internal power level is %.3f mW',Pint);\n",
"printf('\n\n***NOTE: Internal Power wrong in text book.. Calculation Error..');"
   ]
   }
,
{
		   "cell_type": "markdown",
		   "metadata": {},
		   "source": [
			"## Example 3.2_5: To_estimate_external_power_efficiency.sce"
		   ]
		  },
  {
"cell_type": "code",
	   "execution_count": null,
	   "metadata": {
	    "collapsed": true
	   },
	   "outputs": [],
"source": [
"//Example 3.2.5 page 3.14\n",
"\n",
"clc;\n",
"clear;\n",
"nx= 3.6;\n",
"TF= 0.68;\n",
"n= 0.3;\n",
"//Pe=Pint*TF*1/(4*nx^2);\n",
"//ne= Pe/Px*100     ..eq0\n",
"//Pe = 0.013*Pint     //Eq 1\n",
"//Pint = n*P;   //Eq 2\n",
"//substitute eq2 and eq1 in eq0\n",
"ne = 0.013*0.3*100;\n",
"printf('The external Power efficiency is  %.2f %%',ne);\n",
"// Wrongly printed in textbook. it should be P instead of Pint in last step"
   ]
   }
,
{
		   "cell_type": "markdown",
		   "metadata": {},
		   "source": [
			"## Example 3.2_6: To_find_optical_power_emitted_by_the_device_and_the_external_power_efficiency.sce"
		   ]
		  },
  {
"cell_type": "code",
	   "execution_count": null,
	   "metadata": {
	    "collapsed": true
	   },
	   "outputs": [],
"source": [
"//Example 3.2.6 page 3.15\n",
"clc;\n",
"clear;\n",
"\n",
"lamda= 0.85*10^-6;\n",
"Nint = 0.60;\n",
"I= 20*10^-3;\n",
"h= 6.625*10^-34;    //plancks const\n",
"c= 3*10^8;\n",
"e=1.602*10^-19;\n",
"Pint = Nint*h*c*I/(e*lamda);\n",
"printf('The optical power emitted is %.4f W',Pint);\n",
"\n",
"TF= 0.68;\n",
"nx= 3.6;\n",
"Pe= Pint*TF/(4*nx^2)*1000000;\n",
"printf('\n\nPower emitted in the air %.1f uW',Pe);\n",
"Pe=Pe/1000000;\n",
"Nep=Pe/Pint*100;\n",
"printf('\n\nExternal power efficiency is %.1f %%',Nep);"
   ]
   }
,
{
		   "cell_type": "markdown",
		   "metadata": {},
		   "source": [
			"## Example 3.2_7: To_find_total_carrier_recombination_lifetime_and_power_internally_generated.sce"
		   ]
		  },
  {
"cell_type": "code",
	   "execution_count": null,
	   "metadata": {
	    "collapsed": true
	   },
	   "outputs": [],
"source": [
"//Example 3.2.7 page 3.16\n",
"\n",
"clc;\n",
"clear;\n",
"lamda = 0.87*10^-6;\n",
"Tr= 50*10^-9;\n",
"I= 0.04;\n",
"Tnr= 110*10^-9;\n",
"t= Tr*Tnr/(Tr+Tnr);\n",
"t=t*10^9;  //converting in ns...\n",
"printf('Total carrier recombination life time is %.2f ns',t);\n",
"t=t/10^9;\n",
"h= 6.625*10^-34;    //plancks const\n",
"c= 3*10^8;\n",
"q=1.602*10^-19;\n",
"n= t/Tr;\n",
"printf('\n\nThe efficiency is %.3f %%',n);\n",
"Pint=(n*h*c*I)/(q*lamda)*1000;\n",
"printf('\n\nInternal power generated is %.2f mW',Pint);\n",
"printf('\n\n***NOTE- Internal Power wrong in book... ');"
   ]
   }
,
{
		   "cell_type": "markdown",
		   "metadata": {},
		   "source": [
			"## Example 3.2_8: To_find_the_conversion_efficiency.sce"
		   ]
		  },
  {
"cell_type": "code",
	   "execution_count": null,
	   "metadata": {
	    "collapsed": true
	   },
	   "outputs": [],
"source": [
"//Examplr 3.2.8 page 3.16\n",
"\n",
"clc;\n",
"clear;\n",
"\n",
"V= 2;\n",
"I= 100*10^-3;\n",
"Pc= 2*10^-3;\n",
"P= V*I;\n",
"Npc= Pc/P*100;\n",
"printf('The overall power conversion efficiency is %d %%',Npc);"
   ]
   }
,
{
		   "cell_type": "markdown",
		   "metadata": {},
		   "source": [
			"## Example 3.3_1: To_find_the_optical_gain.sce"
		   ]
		  },
  {
"cell_type": "code",
	   "execution_count": null,
	   "metadata": {
	    "collapsed": true
	   },
	   "outputs": [],
"source": [
"//Example  3.3.1 page 3.25\n",
"\n",
"clc;\n",
"clear;\n",
"r1= 0.32;\n",
"r2= 0.32;\n",
"alpha= 10;\n",
"L= 500*10^-4;\n",
"temp=log(1/(r1*r2));\n",
"Tgth = alpha + (temp/(2*L));\n",
"printf('The optical gain at threshold is %.2f /cm',Tgth);"
   ]
   }
,
{
		   "cell_type": "markdown",
		   "metadata": {},
		   "source": [
			"## Example 3.3_2: To_calculate_the_frequency_and_wavelength_spacing.sce"
		   ]
		  },
  {
"cell_type": "code",
	   "execution_count": null,
	   "metadata": {
	    "collapsed": true
	   },
	   "outputs": [],
"source": [
"//Example 3.3.2page 3.27\n",
"clc;\n",
"clear;\n",
"n= 3.7;\n",
"lamda = 950*10^-9;\n",
"L= 500*10^-6;\n",
"c= 3*10^8;\n",
"DELv = c/(2*L*n)*10*10^-10; //converting in GHz...\n",
"printf('The frequency spacing is %d GHz',DELv);\n",
"DEL_lamda= lamda^2/(2*L*n)*10^9; //converting to nm..\n",
"printf('\n\nThe wavelength spacing is %.2f nm',DEL_lamda);\n",
"\n",
"printf('\n\n***NOTE- The value of wavelength taken wrongly in book');\n",
"// value of lamda taken wrongly while soving for DEL_LAMDA inthe book.."
   ]
   }
,
{
		   "cell_type": "markdown",
		   "metadata": {},
		   "source": [
			"## Example 3.3_3: To_find_the_number_of_longitudinal_modes_and_their_frequency_seperation.sce"
		   ]
		  },
  {
"cell_type": "code",
	   "execution_count": null,
	   "metadata": {
	    "collapsed": true
	   },
	   "outputs": [],
"source": [
"//Exapmle 3.3.3 page 3.30\n",
"\n",
"clc;\n",
"clear;\n",
"\n",
"L= 0.04;\n",
"n= 1.78;\n",
"lamda= 0.55*10^-6;\n",
"c= 3*10^8;\n",
"q= 2*n*L/lamda;\n",
"q=q/10^5;\n",
"printf('Number of longitudinal modes is %.2fx10^5',q);\n",
"del_f= c/(2*n*L);\n",
"del_f=del_f*10^-9;\n",
"printf('\n\nThe frequency seperation is %.1f GHz',del_f);"
   ]
   }
,
{
		   "cell_type": "markdown",
		   "metadata": {},
		   "source": [
			"## Example 3.3_4: To_calculate_the_external_power_efficiency.sce"
		   ]
		  },
  {
"cell_type": "code",
	   "execution_count": null,
	   "metadata": {
	    "collapsed": true
	   },
	   "outputs": [],
"source": [
"//Example 3.3.4 page 3.33\n",
"\n",
"clc;\n",
"clear;\n",
"\n",
"Nt= 0.18;\n",
"V= 2.5;\n",
"Eg= 1.43;\n",
"Nep= Nt*Eg*100/V;\n",
"printf('The total efficiency is %.3f %%',Nep);"
   ]
   }
,
{
		   "cell_type": "markdown",
		   "metadata": {},
		   "source": [
			"## Example 3.3_5: To_find_the_threshold_current_density_and_the_threshold_current.sce"
		   ]
		  },
  {
"cell_type": "code",
	   "execution_count": null,
	   "metadata": {
	    "collapsed": true
	   },
	   "outputs": [],
"source": [
"//Example 3.3.5 page 3.33\n",
"\n",
"clc;\n",
"clear;\n",
"n= 3.6;\n",
"BETA= 21*10^-3;\n",
"alpha= 10;\n",
"L= 250*10^-4;\n",
"\n",
"r= (n-1)^2/(n+1)^2;\n",
"Jth= 1/BETA *( alpha + (log(1/r)/L));\n",
"Jth=Jth/1000; //converting for displaying...\n",
"printf('The threshold current density is %.2fx10^3',Jth);\n",
"Jth=Jth*1000;\n",
"Ith  =Jth*250*100*10^-8;\n",
"Ith=Ith*1000; //converting into mA...\n",
"printf('\n\nThe threshold current is %.1f mA',Ith);"
   ]
   }
,
{
		   "cell_type": "markdown",
		   "metadata": {},
		   "source": [
			"## Example 3.3_6: To_compare_the_threshold_current_densities.sce"
		   ]
		  },
  {
"cell_type": "code",
	   "execution_count": null,
	   "metadata": {
	    "collapsed": true
	   },
	   "outputs": [],
"source": [
"//Exapmle 3.3.6 page 3.34\n",
"clc;\n",
"clear;\n",
"\n",
"T= 305;\n",
"T0 = 160;\n",
"T1= 373;\n",
"\n",
"Jth_32 = exp(T/T0);\n",
"Jth_100 = exp(T1/T0);\n",
"R_j = Jth_100/Jth_32;\n",
"printf('Ratio of current densities at 160K is %.2f',R_j);\n",
"printf('\n\n***NOTE- Wrong in book...\nJth(100) calculated wrongly...');\n",
"To = 55;\n",
"Jth_32_new = exp(T/To);\n",
"Jth_100_new = exp(T1/To);\n",
"R_j_new = Jth_100_new/Jth_32_new;\n",
"printf('\n\nRatio of current densities at 55K is %.2f',R_j_new);\n",
"//wrong in book..."
   ]
   }
,
{
		   "cell_type": "markdown",
		   "metadata": {},
		   "source": [
			"## Example 3.4_1: To_calculate_the_optical_power_coupled.sce"
		   ]
		  },
  {
"cell_type": "code",
	   "execution_count": null,
	   "metadata": {
	    "collapsed": true
	   },
	   "outputs": [],
"source": [
"//Example 3.4.1 page .342\n",
"\n",
"clc;\n",
"clear;\n",
"\n",
"Bo= 150;\n",
"rs= 35*10^-4;\n",
"a1= 25*10^-6;\n",
"NA= 0.20;\n",
"a2= 50*10^-6;\n",
"\n",
"Pled = (a1/rs)^2 * (%pi^2*rs^2*Bo*NA^2);\n",
"Pled=Pled*10^10; //converting in uW...\n",
"printf('The power coupled inthe fibre is %d uW',Pled);\n",
"Pled_new = (%pi^2*rs^2*Bo*NA^2);\n",
"Pled_new=Pled_new*10^6; //converting in uW...\n",
"printf('\n\nThe Power coupled for case 2 is %.2f uW',Pled_new);"
   ]
   }
,
{
		   "cell_type": "markdown",
		   "metadata": {},
		   "source": [
			"## Example 3.4_2: To_find_the_Fresnel_reflection_and_loss_of_power.sce"
		   ]
		  },
  {
"cell_type": "code",
	   "execution_count": null,
	   "metadata": {
	    "collapsed": true
	   },
	   "outputs": [],
"source": [
"//Example 3.4.2 page 3.43\n",
"\n",
"clc;\n",
"clear;\n",
"\n",
"n= 1.48;\n",
"n1= 3.6;\n",
"R= (n1-n)^2/(n1+n)^2;\n",
"printf('The Fresnel Reflection is %.4f',R);\n",
"L= -10*log10(1-R);\n",
"printf('\n\nPower loss is %.2f dB',L);"
   ]
   }
,
{
		   "cell_type": "markdown",
		   "metadata": {},
		   "source": [
			"## Example 3.4_3: To_find_the_optical_power_coupled.sce"
		   ]
		  },
  {
"cell_type": "code",
	   "execution_count": null,
	   "metadata": {
	    "collapsed": true
	   },
	   "outputs": [],
"source": [
"//Example 3.4.3 page 3.44\n",
"\n",
"clc;\n",
"clear;\n",
"\n",
"NA= 0.20;\n",
"Bo= 150;\n",
"rs= 35*10^-6;\n",
"Pled = %pi^2*rs^2*Bo*NA^2;\n",
"Pled=Pled*10^10; //convertin in uW for displaying...\n",
"printf('The optical power coupled is %.2f uW',Pled);"
   ]
   }
,
{
		   "cell_type": "markdown",
		   "metadata": {},
		   "source": [
			"## Example 3.4_4: To_calculate_the_optical_loss.sce"
		   ]
		  },
  {
"cell_type": "code",
	   "execution_count": null,
	   "metadata": {
	    "collapsed": true
	   },
	   "outputs": [],
"source": [
"//Example 3.4.4 page 3.44\n",
"\n",
"clc;\n",
"clear;\n",
"\n",
"n1= 1.5;\n",
"n=1;\n",
"R= (n1-n)^2/(n1+n)^2;\n",
"L= -10*log10(1-R);\n",
"//Total loss is twice due to reflection\n",
"L= L+L;\n",
"printf('Total loss due to Fresnel Reflection is %.2f dB',L);"
   ]
   }
,
{
		   "cell_type": "markdown",
		   "metadata": {},
		   "source": [
			"## Example 3.4_5: To_estimate_insertion_loss_in_different_cases.sce"
		   ]
		  },
  {
"cell_type": "code",
	   "execution_count": null,
	   "metadata": {
	    "collapsed": true
	   },
	   "outputs": [],
"source": [
"//Example 3.4.5 page 3.51\n",
"\n",
"clc;\n",
"clear;\n",
"n1= 1.5;\n",
"n=1;\n",
"y=5;\n",
"a= 25;\n",
"temp1=(1-(y/(2*a)^2))^0.5;\n",
"temp1=temp1*(y/a);\n",
"temp=2*acosd(0.9996708);// it should be acos(0.1) actually... due to approximations\n",
"   // answer varies a lot... \n",
"temp=temp-temp1;\n",
"//temp=temp;\n",
"tem= 16*(1.5^2)/(2.5^4);\n",
"tem=tem/%pi;\n",
"temp=temp*tem;\n",
"Nlat= temp;\n",
"printf('The Coupling efficiency is %.3f ',Nlat);\n",
"L= -10*log10(Nlat);\n",
"printf('\n\nThe insertion loss is %.2f dB',L);\n",
"temp1=(1-(y/(2*a)^2))^0.5;\n",
"temp1=temp1*(y/a);\n",
"temp=2*acosd(0.9996708);// it should be acos(0.1) actually... due to approximations\n",
"   // answer varies a lot... \n",
"temp=temp-temp1;\n",
"temp=temp/%pi;\n",
"N_new =temp ;\n",
"printf('\n\nEfficiency when joint index is matched is %.3f',N_new);\n",
"L_new= -10*log10(N_new);\n",
"printf('\n\nThe new insertion loss is %.2f dB',L_new);"
   ]
   }
],
"metadata": {
		  "kernelspec": {
		   "display_name": "Scilab",
		   "language": "scilab",
		   "name": "scilab"
		  },
		  "language_info": {
		   "file_extension": ".sce",
		   "help_links": [
			{
			 "text": "MetaKernel Magics",
			 "url": "https://github.com/calysto/metakernel/blob/master/metakernel/magics/README.md"
			}
		   ],
		   "mimetype": "text/x-octave",
		   "name": "scilab",
		   "version": "0.7.1"
		  }
		 },
		 "nbformat": 4,
		 "nbformat_minor": 0
}
