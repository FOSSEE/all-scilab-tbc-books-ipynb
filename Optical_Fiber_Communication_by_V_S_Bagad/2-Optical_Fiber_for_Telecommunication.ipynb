{
"cells": [
 {
		   "cell_type": "markdown",
	   "metadata": {},
	   "source": [
       "# Chapter 2: Optical Fiber for Telecommunication"
	   ]
	},
{
		   "cell_type": "markdown",
		   "metadata": {},
		   "source": [
			"## Example 2.2_1: Computation_for_length_for_different_conditions.sce"
		   ]
		  },
  {
"cell_type": "code",
	   "execution_count": null,
	   "metadata": {
	    "collapsed": true
	   },
	   "outputs": [],
"source": [
"// Example 2.2.1 page 2.4\n",
"\n",
"clc;\n",
"clear;\n",
"\n",
"alpha= 3;   // average loss     Power decreases by 50% so P(0)/P(z)= 0.5\n",
"lamda= 900*10^-9;   //wavelength\n",
"z= 10*log10(0.5)/alpha;   //z is the length\n",
"z= z*-1;\n",
"printf('The length over which power decreases by 50%% is =%.2f Kms',z);\n",
"\n",
"z1= 10*log10(0.25)/alpha;     //Power decreases by 75% so P(0)/P(z)= 0.25\n",
"z1=z1*-1;   //as distance cannot be negative...\n",
"printf('\n\nThe length over which power decreases by 75%% is =%.2f Kms',z1);"
   ]
   }
,
{
		   "cell_type": "markdown",
		   "metadata": {},
		   "source": [
			"## Example 2.2_2: To_find_the_output_power.sce"
		   ]
		  },
  {
"cell_type": "code",
	   "execution_count": null,
	   "metadata": {
	    "collapsed": true
	   },
	   "outputs": [],
"source": [
"//Example 2.2.2 page 2.5\n",
"\n",
"clc;\n",
"clear;\n",
"\n",
"z=30;   //Length of the fibre in kms\n",
"alpha= 0.8;  //in dB\n",
"P0= 200;    //Power launched in uW\n",
"pz= P0/10^(alpha*z/10);     \n",
"printf('The output power is:%.4f uW',pz);"
   ]
   }
,
{
		   "cell_type": "markdown",
		   "metadata": {},
		   "source": [
			"## Example 2.2_3: To_find_overall_signal_attenuation.sce"
		   ]
		  },
  {
"cell_type": "code",
	   "execution_count": null,
	   "metadata": {
	    "collapsed": true
	   },
	   "outputs": [],
"source": [
"//Example 2.2.3 page 2.6\n",
"\n",
"clc;\n",
"clear;\n",
"\n",
"z=8;    //fibre length\n",
"p0= 120*10^-6;  //power launched\n",
"pz= 3*10^-6;\n",
"alpha= 10*log10(p0/pz); // overall attenuation\n",
"printf('The overall attenuation is %.2fdB',alpha);\n",
"alpha = alpha/z;    // attenuation per km\n",
"alpha_new= alpha *10;   // attenuation for 10kms\n",
"total_attenuation = alpha_new + 9;  //9dB because of splices\n",
"printf('\n\nThe total attenuation is : %d dB',total_attenuation);"
   ]
   }
,
{
		   "cell_type": "markdown",
		   "metadata": {},
		   "source": [
			"## Example 2.2_4: To_find_minimum_optical_input_power.sce"
		   ]
		  },
  {
"cell_type": "code",
	   "execution_count": null,
	   "metadata": {
	    "collapsed": true
	   },
	   "outputs": [],
"source": [
"//Example 2.2.4 page 2.6\n",
"\n",
"clc;\n",
"clear;\n",
"z=12;   //fibre length\n",
"alpha = 1.5;\n",
"p0= 0.3;\n",
"pz= p0/10^(alpha*z/10);\n",
"pz=pz*1000;  //formatting pz in nano watts...\n",
"printf('The power at the output of the cable is:%.2fx10^-9 W',pz);\n",
"alpha_new= 2.5;\n",
"pz=pz/1000; //pz in uWatts...\n",
"p0_new= 10^(alpha_new*z/10)*pz;\n",
"printf('\n\nThe Input power is %.2f uW',p0_new);"
   ]
   }
,
{
		   "cell_type": "markdown",
		   "metadata": {},
		   "source": [
			"## Example 2.2_5: To_calculate_fiber_attenuation_in_different_cases.sce"
		   ]
		  },
  {
"cell_type": "code",
	   "execution_count": null,
	   "metadata": {
	    "collapsed": true
	   },
	   "outputs": [],
"source": [
"//Example 2.2.5 page 2.7\n",
"\n",
"clc;\n",
"clear;\n",
"p0=150*10^-6;    //power input\n",
"z= 10;  //fibre length in km\n",
"pz= -38.2; // in dBm...\n",
"pz= 10^(pz/10)*1*10^-3;\n",
"alpha_1= 10/z *log10(p0/pz);        //attenuation in 1st window\n",
"printf('Attenuation is 1st window is %.2f dB/Km',alpha_1);\n",
"alpha_2= 10/z *log10(p0/(47.5*10^-6));        //attenuation in 2nd window\n",
"printf('\n\nAttenuation is 2nd window is %.2f dB/Km',alpha_2);\n",
"alpha_3= 10/z *log10(p0/(75*10^-6));        //attenuation in 3rd window\n",
"printf('\n\nAttenuation is 3rd window is %.2f dB/Km',alpha_3);"
   ]
   }
,
{
		   "cell_type": "markdown",
		   "metadata": {},
		   "source": [
			"## Example 2.2_6: To_calculate_length_of_the_fiber.sce"
		   ]
		  },
  {
"cell_type": "code",
	   "execution_count": null,
	   "metadata": {
	    "collapsed": true
	   },
	   "outputs": [],
"source": [
"//Example 2.2.6 page 2.8\n",
"\n",
"clc;\n",
"clear;\n",
"\n",
"p0=3*10^-3;\n",
"pz=3*10^-6;\n",
"alpha= 0.5;\n",
"z= log10(p0/pz)/(alpha/10);\n",
"printf('The Length of the fibre is %.f Km',z);"
   ]
   }
,
{
		   "cell_type": "markdown",
		   "metadata": {},
		   "source": [
			"## Example 2.2_7: To_find_overall_signal_attenuation.sce"
		   ]
		  },
  {
"cell_type": "code",
	   "execution_count": null,
	   "metadata": {
	    "collapsed": true
	   },
	   "outputs": [],
"source": [
"//Example 2.2.7 page 2.9\n",
"\n",
"clc;\n",
"clear;\n",
"z= 10;\n",
"p0= 100*10^-6;  // input power\n",
"pz=5*10^-6;     //output power\n",
"alpha = 10*log10(p0/pz);    //total attenuation\n",
"printf('The overall signal attenuation is %.2f dB',alpha);\n",
"alpha = alpha/z;    // attenuation per km\n",
"printf('\n\nThe attenuation per Km is %.2f dB/Km',alpha);\n",
"z_new = 12;\n",
"splice_attenuation = 11*0.5;\n",
"cable_attenuation = alpha*z_new;\n",
"total_attenuation = splice_attenuation+cable_attenuation;\n",
"printf('\n\nThe overall signal attenuation for 12Kms is %.1f dB',total_attenuation);"
   ]
   }
,
{
		   "cell_type": "markdown",
		   "metadata": {},
		   "source": [
			"## Example 2.2_8: To_find_attenuation_per_km.sce"
		   ]
		  },
  {
"cell_type": "code",
	   "execution_count": null,
	   "metadata": {
	    "collapsed": true
	   },
	   "outputs": [],
"source": [
"//Example 2.2.8 page 2.15\n",
"\n",
"clc;\n",
"clear;\n",
"\n",
"Tf = 1400;   //fictive temperature\n",
"BETA = 7*10^-11;\n",
"n= 1.46;       //RI \n",
"p= 0.286;   //photo elastic constant\n",
"Kb = 1.381*10^-23;     //Boltzmann's constant\n",
"lamda = 850*10^-9;  //wavelength\n",
"alpha_scat = 8*%pi^3*n^8*p^2*Kb*Tf*BETA/(3*lamda^4);\n",
"l= 1000;    //fibre length\n",
"TL = exp(-alpha_scat*l);  //transmission loss\n",
"attenuation = 10*log10(1/TL);\n",
"printf('The attenuation is %.3f dB/Km',attenuation);"
   ]
   }
,
{
		   "cell_type": "markdown",
		   "metadata": {},
		   "source": [
			"## Example 2.3_1: To_find_radius_of_curvature.sce"
		   ]
		  },
  {
"cell_type": "code",
	   "execution_count": null,
	   "metadata": {
	    "collapsed": true
	   },
	   "outputs": [],
"source": [
"//Example 2.3.1 page 2.20\n",
"\n",
"clc;\n",
"clear;\n",
"\n",
"alpha = 2;\n",
"n1= 1.5;\n",
"del= 0.01;\n",
"a= 25*10^-6;\n",
"lamda= 1.3*10^-6;\n",
"M= 0.5;\n",
"NA= sqrt(0.5*2*1.3^2/(%pi^2*25^2));\n",
"Rc= 3*n1^2*lamda/(4*%pi*NA^3);\n",
"Rc=Rc*1000; // converting into um.....\n",
"printf('The radius of curvature is %.2f um',Rc);"
   ]
   }
,
{
		   "cell_type": "markdown",
		   "metadata": {},
		   "source": [
			"## Example 2.5_1: To_find_the_pulse_spreading.sce"
		   ]
		  },
  {
"cell_type": "code",
	   "execution_count": null,
	   "metadata": {
	    "collapsed": true
	   },
	   "outputs": [],
"source": [
"//Example 2.5.1 page 2.25\n",
"\n",
"clc;\n",
"clear;\n",
"\n",
"lamda = 850 *10^-9;\n",
"sigma= 45*10^-9;\n",
"L= 1;\n",
"M= 0.025/(3*10^5*lamda);\n",
"sigma_m= sigma*L*M;\n",
"sigma_m= sigma_m*10^9; // formatting in ns/km....\n",
"printf('The Pulse spreading is %.2f ns/Km',sigma_m);\n",
"printf('\n\nNOTE*** - The answer in text book is wrongly calculated..');"
   ]
   }
,
{
		   "cell_type": "markdown",
		   "metadata": {},
		   "source": [
			"## Example 2.5_2: To_find_the_material_dispersion_induced_pulse_spreading.sce"
		   ]
		  },
  {
"cell_type": "code",
	   "execution_count": null,
	   "metadata": {
	    "collapsed": true
	   },
	   "outputs": [],
"source": [
"//Example 2.5.2 pagw 2.26\n",
"\n",
"clc;\n",
"clear;\n",
"lamda= 2*10^-9;\n",
"sigma = 75;\n",
"D_mat= 0.03/(3*10^5*2);\n",
"sigma_m= 2*1*D_mat;\n",
"sigma_m=sigma_m*10^9; //Fornamtting in ns/Km\n",
"printf('The Pulse spreading is %d ns/Km',sigma_m);\n",
"D_mat_led= 0.025/(3*10^5*1550);\n",
"sigma_m_led = 75*1*D_mat_led*10^9; //in ns/Km\n",
"printf('\n\nThe Pulse spreading foe LED is  %.2f ns/Km',sigma_m_led);"
   ]
   }
,
{
		   "cell_type": "markdown",
		   "metadata": {},
		   "source": [
			"## Example 2.5_3: To_find_the_material_dispersion.sce"
		   ]
		  },
  {
"cell_type": "code",
	   "execution_count": null,
	   "metadata": {
	    "collapsed": true
	   },
	   "outputs": [],
"source": [
"//Example 2.5.3 page 2.26\n",
"\n",
"clc;\n",
"clear;\n",
" lamda = 850;\n",
" sigma= 20;\n",
" D_mat = 0.055/(3*10^5*lamda);\n",
"sigma_m= sigma*1*D_mat;\n",
"D_mat=D_mat*10^12; // in Ps...\n",
"sigma_m=sigma_m*10^9; //in ns////\n",
" printf('The material Dispersion is %.2f Ps/nm-Km',D_mat);\n",
" printf('\n\nThe Pulse spreading is %.4f ns/Km',sigma_m);"
   ]
   }
,
{
		   "cell_type": "markdown",
		   "metadata": {},
		   "source": [
			"## Example 2.5_4: To_compute_the_wave_guide_dispersio.sce"
		   ]
		  },
  {
"cell_type": "code",
	   "execution_count": null,
	   "metadata": {
	    "collapsed": true
	   },
	   "outputs": [],
"source": [
"//Example 2.5.4 page 2.30\n",
"\n",
"clc;\n",
"clear;\n",
"\n",
"n2= 1.48; \n",
"del = 0.2;\n",
"lamda = 1320;\n",
"Dw = -n2*del*0.26/(3*10^5*lamda);\n",
"Dw=Dw*10^10; //converting in picosecs....\n",
"printf('The waveguide dispersion is %.3f picosec/nm.Km',Dw);"
   ]
   }
,
{
		   "cell_type": "markdown",
		   "metadata": {},
		   "source": [
			"## Example 2.6_1: To_find_the_bandwidth_pulse_broadening_and_bandwidth_length_product.sce"
		   ]
		  },
  {
"cell_type": "code",
	   "execution_count": null,
	   "metadata": {
	    "collapsed": true
	   },
	   "outputs": [],
"source": [
"//Example 2.6.1 page 2.34\n",
"\n",
"clc;\n",
"clear;\n",
"\n",
"t= 0.1*10^-6;\n",
"L= 12;\n",
"B_opt= 1/(2*t);\n",
"B_opt=B_opt/1000000; //converting from Hz to MHz\n",
"printf('The maximum optical bandwidth is %d MHz.',B_opt);\n",
"del= t/L;   //Pulse broadening\n",
"del=del*10^9; // converting in ns...\n",
"printf('\n\nThe pulse broadening per unit length is %.2f ns/Km',del);\n",
"BLP= B_opt*L; //BW length product\n",
"printf('\n\nThe Bandwidth-Length Product is %d MHz.Km',BLP);"
   ]
   }
,
{
		   "cell_type": "markdown",
		   "metadata": {},
		   "source": [
			"## Example 2.6_2: To_find_the_bandwidth_pulse_dispersion_and_bandwidth_length_product.sce"
		   ]
		  },
  {
"cell_type": "code",
	   "execution_count": null,
	   "metadata": {
	    "collapsed": true
	   },
	   "outputs": [],
"source": [
"//Example 2.6.2 page 2.34\n",
"\n",
"clc;\n",
"clear;\n",
"\n",
"t= 0.1*10^-6;\n",
"L= 10;\n",
"B_opt= 1/(2*t);\n",
"B_opt=B_opt/1000000; //converting from Hz to MHz\n",
"printf('The maximum optical bandwidth is %d MHz.',B_opt);\n",
"del= t/L;\n",
"del=del/10^-6; //converting in us...\n",
"printf('\n\nThe dispersion per unit length is %.2f us/Km',del);\n",
"BLP= B_opt*L;\n",
"printf('\n\nThe Bandwidth-Length product is %d MHz.Km',BLP);"
   ]
   }
,
{
		   "cell_type": "markdown",
		   "metadata": {},
		   "source": [
			"## Example 2.6_3: To_find_the_bandwidth_and_the_puse_dispersion.sce"
		   ]
		  },
  {
"cell_type": "code",
	   "execution_count": null,
	   "metadata": {
	    "collapsed": true
	   },
	   "outputs": [],
"source": [
"//Example 2.6.3 page 2.25\n",
"\n",
"clc;\n",
"clear;\n",
"\n",
"t= 0.1*10^-6;\n",
"L=15;\n",
"B_opt= 1/(2*t);\n",
"B_opt=B_opt/1000000; //converting from Hz to MHz\n",
"printf('The maximum optical bandwidth is %d MHz.',B_opt);\n",
"del= t/L*10^9; //in ns...\n",
"printf('\n\nThe dispersion per unit length is %.2f ns/Km',del);"
   ]
   }
,
{
		   "cell_type": "markdown",
		   "metadata": {},
		   "source": [
			"## Example 2.6_4: To_estimate_rms_pulse_broadening.sce"
		   ]
		  },
  {
"cell_type": "code",
	   "execution_count": null,
	   "metadata": {
	    "collapsed": true
	   },
	   "outputs": [],
"source": [
"//Example 2.6.4 page 2.35\n",
"\n",
"clc;\n",
"clear;\n",
"\n",
"lamda = 0.85*10^-6;\n",
"rms_spect_width = 0.0012*lamda;\n",
"sigma_m= rms_spect_width*1*98.1*10^-3;\n",
"sigma_m=sigma_m*10^9; // converting in ns...\n",
"printf('The Pulse Broadening due to material dispersion is %.2f ns/Km',sigma_m);"
   ]
   }
,
{
		   "cell_type": "markdown",
		   "metadata": {},
		   "source": [
			"## Example 2.6_5: To_find_the_delay_difference_rms_pulse_broadening_and_maximum_bit_rate.sce"
		   ]
		  },
  {
"cell_type": "code",
	   "execution_count": null,
	   "metadata": {
	    "collapsed": true
	   },
	   "outputs": [],
"source": [
"//Example 2.6.5 page 2.35\n",
"\n",
"clc;\n",
"clear;\n",
"\n",
"L= 5; //in KM\n",
"n1= 1.5;\n",
"del= 0.01;\n",
"c= 3*10^8; // in m/s\n",
"delta_t = (L*n1*del)/c;\n",
"delta_t=delta_t*10^12; //convertin to nano secs...\n",
"printf('The delay difference is %.1f ns',delta_t);\n",
"sigma= L*n1*del/(2*sqrt(3)*c);\n",
"sigma=sigma*10^12; //convertin to nano secs...\n",
"printf('\n\nThe r.m.s pulse broadening is %.2f ns',sigma);\n",
"B= 0.2/sigma*1000; //in Mz\n",
"printf('\n\nThe maximum bit rate is %.2f MBits/sec',B);\n",
"BLP = B*5;\n",
"printf('\n\nThe Bandwidth-Length is %.2f MHz.Km',BLP);"
   ]
   }
,
{
		   "cell_type": "markdown",
		   "metadata": {},
		   "source": [
			"## Example 2.6_6: To_compute_intermodal_intramodal_and_total_dispersion.sce"
		   ]
		  },
  {
"cell_type": "code",
	   "execution_count": null,
	   "metadata": {
	    "collapsed": true
	   },
	   "outputs": [],
"source": [
"//Example 2.6.6 page 2.36\n",
"\n",
"clc;\n",
"clear;\n",
"\n",
"del_t_inter = 5*1;\n",
"del_t_intra = 50*80*1;\n",
"total_dispersion = sqrt(5^2 + 0.4^2);\n",
"printf('Total dispersion is %.3f ns',total_dispersion);"
   ]
   }
,
{
		   "cell_type": "markdown",
		   "metadata": {},
		   "source": [
			"## Example 2.7_1: To_find_the_bandwidth_pulse_dispersion_and_bandwidth_length_product.sce"
		   ]
		  },
  {
"cell_type": "code",
	   "execution_count": null,
	   "metadata": {
	    "collapsed": true
	   },
	   "outputs": [],
"source": [
"//Example 2.7.1 page 2.37\n",
"\n",
"clc;\n",
"clear;\n",
"\n",
"t= 0.1*10^-6;\n",
"L=15;\n",
"del= t/L*10^9;  //convertin to nano secs...\n",
"printf('The Pulse Dispersion is %.2f ns',del);\n",
"B_opt= 1/(2*t)/10^6; //convertin to nano secs...\n",
"printf('\n\n The maximum possible Bandwidth is %d MHz',B_opt);\n",
"BLP = B_opt*L;\n",
"printf('\n\nThe BandwidthLength product is %d MHz.Km',BLP);"
   ]
   }
,
{
		   "cell_type": "markdown",
		   "metadata": {},
		   "source": [
			"## Example 2.7_2: To_find_the_delay_difference_and_the_rms_pulse_broadening.sce"
		   ]
		  },
  {
"cell_type": "code",
	   "execution_count": null,
	   "metadata": {
	    "collapsed": true
	   },
	   "outputs": [],
"source": [
"//Example 2.7.2 page 2.38\n",
"\n",
"clc;\n",
"clear;\n",
"L= 6;\n",
"n1= 1.5;\n",
"del= 0.01;\n",
"delta_t = L*n1*del/(3*10^8)*10^12; //convertin to nano secs...\n",
"printf('The delay difference is %d ns',delta_t);"
   ]
   }
,
{
		   "cell_type": "markdown",
		   "metadata": {},
		   "source": [
			"## Example 2.7_3: To_determine_modal_bifringence.sce"
		   ]
		  },
  {
"cell_type": "code",
	   "execution_count": null,
	   "metadata": {
	    "collapsed": true
	   },
	   "outputs": [],
"source": [
"//Example 2.7.3 page 2.39\n",
"\n",
"clc;\n",
"clear;\n",
"\n",
"Lb= 0.09;\n",
"lamda= 1.55*10^-6;\n",
"delta_lamda = 1*10^-9;\n",
"Bf= lamda/Lb;\n",
"Lbc= lamda^2/(Bf*delta_lamda);\n",
"printf('The modal Bifriengence is %.2f meters ',Lbc);\n",
"beta_xy= 2*%pi/Lb;\n",
"printf('\n\nThe difference between propogation constants is %.2f', beta_xy);"
   ]
   }
,
{
		   "cell_type": "markdown",
		   "metadata": {},
		   "source": [
			"## Example 2.7_4: To_estimate_maximum_possible_bandwidth.sce"
		   ]
		  },
  {
"cell_type": "code",
	   "execution_count": null,
	   "metadata": {
	    "collapsed": true
	   },
	   "outputs": [],
"source": [
"//Example 2.7.4 page 2.37\n",
"\n",
"clc;\n",
"clear;\n",
"\n",
"t= 0.1*10^-6;\n",
"B_opt= 1/(2*t)/1000000;\n",
"printf('The maximum possible Bandwidth is %d MHz',B_opt);"
   ]
   }
,
{
		   "cell_type": "markdown",
		   "metadata": {},
		   "source": [
			"## Example 2.7_5: To_estimate_maximum_possible_bandwidth.sce"
		   ]
		  },
  {
"cell_type": "code",
	   "execution_count": null,
	   "metadata": {
	    "collapsed": true
	   },
	   "outputs": [],
"source": [
"//Example 2.7.5 page 2.40\n",
"\n",
"clc;\n",
"clear;\n",
"\n",
"t= 0.1*10^-6;\n",
"\n",
"B_opt= 1/(2*t)/1000000;\n",
"printf('The maximum possible Bandwidth is %d MHz',B_opt);\n",
""
   ]
   }
],
"metadata": {
		  "kernelspec": {
		   "display_name": "Scilab",
		   "language": "scilab",
		   "name": "scilab"
		  },
		  "language_info": {
		   "file_extension": ".sce",
		   "help_links": [
			{
			 "text": "MetaKernel Magics",
			 "url": "https://github.com/calysto/metakernel/blob/master/metakernel/magics/README.md"
			}
		   ],
		   "mimetype": "text/x-octave",
		   "name": "scilab",
		   "version": "0.7.1"
		  }
		 },
		 "nbformat": 4,
		 "nbformat_minor": 0
}
