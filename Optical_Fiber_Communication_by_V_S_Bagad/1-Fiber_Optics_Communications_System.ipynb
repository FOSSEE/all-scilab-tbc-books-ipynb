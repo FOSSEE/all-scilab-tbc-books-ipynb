{
"cells": [
 {
		   "cell_type": "markdown",
	   "metadata": {},
	   "source": [
       "# Chapter 1: Fiber Optics Communications System"
	   ]
	},
{
		   "cell_type": "markdown",
		   "metadata": {},
		   "source": [
			"## Example 1.14_10: To_find_diameter_of_core.sce"
		   ]
		  },
  {
"cell_type": "code",
	   "execution_count": null,
	   "metadata": {
	    "collapsed": true
	   },
	   "outputs": [],
"source": [
"//Example 1.14.10 page 1.49\n",
"//To find the diameter of the core..\n",
"\n",
"clc;\n",
"clear;\n",
"\n",
"del= 0.01;      //Relative RI difference..\n",
"n1= 1.5;\n",
"M= 1100;        //Number of modes...\n",
"lamda= 1.3;     //wavelength of operation in um..\n",
"V= sqrt(2*M);       //Normalised frequency...\n",
"d= V*lamda/(%pi*n1*sqrt(2*del));    //diameter of core..\n",
"printf('The diameter of the core is %.2f um',d);"
   ]
   }
,
{
		   "cell_type": "markdown",
		   "metadata": {},
		   "source": [
			"## Example 1.14_11: To_find_NA_solid_acceptance_angle_and_number_of_modes.sce"
		   ]
		  },
  {
"cell_type": "code",
	   "execution_count": null,
	   "metadata": {
	    "collapsed": true
	   },
	   "outputs": [],
"source": [
"//Example 1.14.11\n",
"//To find Numerical Aperture,Solid Acceptance angle,Normalised frequency,Number of modes..\n",
"\n",
"clc;\n",
"clear;\n",
"\n",
"n1= 1.5;    // RI of core..\n",
"n2= 1.38;   //RI of cladding..\n",
"a= 25*10^-6;    //radius of core..\n",
"lamda= 1300*10^-9;     // wavelength of operation...\n",
"NA= sqrt(n1^2-n2^2);    //Numerical Aperture..\n",
"printf('The Numerical Aperture of the given fibre is %.4f',NA);\n",
"V= 2*%pi*a*NA/lamda;    //Normalised frequency..\n",
"printf('\n\nThe normalised frequency is %.2f',V);\n",
"\n",
"theta= asind(NA);       //Solid acceptance anglr..\n",
"printf('\n\nThe Solid acceptance angle is %d degrees',theta);\n",
"M= V^2/2;       //Number of modes..\n",
"printf('\n\nThe number of modes in the fibre are %d',M);\n",
"printf('\n\n***Number of modes wrongly calculated in the book..');"
   ]
   }
,
{
		   "cell_type": "markdown",
		   "metadata": {},
		   "source": [
			"## Example 1.14_12: To_find_normalised_frequency_and_number_of_modes.sce"
		   ]
		  },
  {
"cell_type": "code",
	   "execution_count": null,
	   "metadata": {
	    "collapsed": true
	   },
	   "outputs": [],
"source": [
"//Example 1.14.12\n",
"//To find noramlised frequency and number of modes\n",
"\n",
"clc;\n",
"clear;\n",
"\n",
"lamda= 850*10^-9;       //wavelength of operation.\n",
"a= 25*10^-6;        //Radius of core\n",
"n1= 1.48;       //RI of Core...\n",
"n2= 1.46;       //RI of cladding..\n",
"\n",
"NA= sqrt(n1^2-n2^2);    //Numerical Aperture\n",
"\n",
"V= 2*%pi*a*NA/lamda;    //Normalised frequency..\n",
"printf('The normalised frequency is %.2f',V);\n",
"\n",
"lamda1= 1320*10^-9;     // wavelength changed...\n",
"V1= 2*%pi*a*NA/lamda1;  //Normalised frequency at new wavelength..\n",
"\n",
"M= V1^2/2;      //Number of modes at new wavelength..\n",
"printf('\n\nThe number of modes in the fibre at 1320um are %d',M);\n",
"lamda2= 1550*10^-9;     //wavelength 2...\n",
"V2= 2*%pi*a*NA/lamda2;  //New normalised frequency..\n",
"M1= V2^2/2; // number of modes..\n",
"printf('\n\nThe number of modes in the fibre at 1550um are %d',M1);"
   ]
   }
,
{
		   "cell_type": "markdown",
		   "metadata": {},
		   "source": [
			"## Example 1.14_1: To_calculate_number_of_modes.sce"
		   ]
		  },
  {
"cell_type": "code",
	   "execution_count": null,
	   "metadata": {
	    "collapsed": true
	   },
	   "outputs": [],
"source": [
"//Example 1.14.1 page 1.41\n",
"// To calculate the number of modes...\n",
"\n",
"clc;\n",
"clear;\n",
"d = 50*10^-6;       // diameter of fibre...\n",
"n1 = 1.48;      //RI of core..\n",
"n2 = 1.46;      //RI of cladding..\n",
"lamda = 0.82*10^-6;     //wavelength of light..\n",
"\n",
"NA = sqrt(n1^2-n2^2);      // Numerical Aperture..\n",
"Vn= %pi*d*NA/lamda;     //normalised frequency...\n",
"M = Vn^2/2;     // number of modes...\n",
"printf(' The number of modes in the fibre are %d',M);"
   ]
   }
,
{
		   "cell_type": "markdown",
		   "metadata": {},
		   "source": [
			"## Example 1.14_2: To_find_the_NA.sce"
		   ]
		  },
  {
"cell_type": "code",
	   "execution_count": null,
	   "metadata": {
	    "collapsed": true
	   },
	   "outputs": [],
"source": [
"//Example 1.14.2 page 1.42\n",
"//to find the Numerical aperture..\n",
"\n",
"clc;\n",
"clear;\n",
"V = 26.6;      //Normalised frequency..\n",
"lamda = 1300*10^-9;     //wavelenght of operation\n",
"a = 25*10^-6;       // radius of fibre.\n",
"NA = V*lamda/(2*%pi*a);     //Numerical Aperture..\n",
"printf('The Numerical Aperture is %.3f',NA);"
   ]
   }
,
{
		   "cell_type": "markdown",
		   "metadata": {},
		   "source": [
			"## Example 1.14_3: To_find_the_normalised_frequence.sce"
		   ]
		  },
  {
"cell_type": "code",
	   "execution_count": null,
	   "metadata": {
	    "collapsed": true
	   },
	   "outputs": [],
"source": [
"//Example 1.14.3\n",
"// to calculate the normalise frequency..\n",
"\n",
"clc;\n",
"clear;\n",
"\n",
"a = 40*10^-6; //radius of core...\n",
"del = 0.015;    //relative RI difference..\n",
"lamda= 0.85*10^-6;      //wavelength of operation..\n",
"n1=1.48;        //RI of core..\n",
"\n",
"NA = n1*sqrt(2*del);    //Numerical Aperture..\n",
"printf(' The Numerical Aperture is %.4f',NA);\n",
"V = 2*%pi*a*NA/lamda;   //normalised frequency\n",
"printf(' \n\nThe Normalised frequency is %.2f',V);\n",
"\n",
"M = V^2/2;      //number of modes..\n",
"printf('\n\nThe number of modes in the fibre are %d',M);"
   ]
   }
,
{
		   "cell_type": "markdown",
		   "metadata": {},
		   "source": [
			"## Example 1.14_4: To_find_diameter_of_core_and_the_number_of_modes.sce"
		   ]
		  },
  {
"cell_type": "code",
	   "execution_count": null,
	   "metadata": {
	    "collapsed": true
	   },
	   "outputs": [],
"source": [
"//Example 1.14.4 page 1.43\n",
"// to find diameter of core, number of modes at 1320, number of modes at 1550 um\n",
"\n",
"clc;\n",
"clear;\n",
"\n",
"NA = 0.20;      //Numerical Aperture..\n",
"M = 1000;   //number of modes..\n",
"lamda = 850*10^-9; // wavelength of operation..\n",
"\n",
"a = sqrt(M*2*lamda^2/(%pi^2*NA^2)); // radius of core..\n",
"a=a*10^6; //converting in um for displaying...\n",
"printf('The radius of the core is %.2f um',a);\n",
"a=a*10^-6;\n",
"M1= ((%pi*a*NA/(1320*10^-9))^2)/2\n",
"printf('\n\nThe number of modes in the fibre at 1320um are %d',M1);\n",
"printf('\n\n***The number of modes in the fibre at 1320um is calculated wrongly in book');\n",
"M2= ((%pi*a*NA/(1550*10^-9))^2)/2\n",
"printf('\n\nThe number of modes in the fibre at 1550um are %d',M2);"
   ]
   }
,
{
		   "cell_type": "markdown",
		   "metadata": {},
		   "source": [
			"## Example 1.14_5: To_find_acceptance_and_critical_angle_and_the_number_of_modes.sce"
		   ]
		  },
  {
"cell_type": "code",
	   "execution_count": null,
	   "metadata": {
	    "collapsed": true
	   },
	   "outputs": [],
"source": [
"//Example 1.14.5 page 1.44\n",
"//To find acceptance angle ; critical angle;number of modes..\n",
"\n",
"clc;\n",
"clear;\n",
"\n",
"NA = 0.2;   //Numerical Aperture..\n",
"n2= 1.59;  // RI of cladding..\n",
"n0= 1.33; //   RI of water..\n",
"lamda =  1300*10^-9;      // wavelength..\n",
"a = 25*10^-6;   // radius of core..\n",
"n1 = sqrt(NA^2+n2^2);   //RI of core..\n",
"phiA= asind(sqrt(n1^2-n2^2)/n0);     //Acceptance angle..\n",
"printf('The Acceptance angle is %.2f',phiA);\n",
"\n",
"phiC= asind(n2/n1); // Critical angle..\n",
"printf('\n\nThe critical angle is %.2f',phiC);\n",
"V = 2*%pi*a*NA/lamda;   // normalisd frequency\n",
"M= V^2/2;       //number of modes\n",
"printf('\n\nThe number of modes in the fibre are %d',M);\n",
"\n",
"printf('\n\n***The value of the angle differ from the book because of round off errors.');"
   ]
   }
,
{
		   "cell_type": "markdown",
		   "metadata": {},
		   "source": [
			"## Example 1.14_6: To_find_NA_solid_acceptance_and_number_of_modes.sce"
		   ]
		  },
  {
"cell_type": "code",
	   "execution_count": null,
	   "metadata": {
	    "collapsed": true
	   },
	   "outputs": [],
"source": [
"//Example 1.14.6 page 1.46\n",
"// To  find Numerical Aperture, solid acceptance angle, and number of modes.\n",
"\n",
"clc;\n",
"clear;\n",
"\n",
"V= 26.6;    // Normalised frequency..\n",
"lamda= 1300*10^-9;       //wavelength of operation..\n",
"a= 25*10^-6;    // radius of core..\n",
"\n",
"NA = V*lamda/(2*%pi*a);     //Numerical Aperture..\n",
"printf('The Numerical Aperture is %.2f',NA);\n",
"theta = %pi*NA^2;       //solid Acceptance Angle..\n",
"printf('\n\nThe solid acceptance angle is %.3f radians',theta);\n",
"\n",
"M= V^2/2;       //number of modes..\n",
"printf('\n\nThe number of modes in the fibre are %.2f',M);"
   ]
   }
,
{
		   "cell_type": "markdown",
		   "metadata": {},
		   "source": [
			"## Example 1.14_7: To_find_cutoff_wavelength_and_core_diameter.sce"
		   ]
		  },
  {
"cell_type": "code",
	   "execution_count": null,
	   "metadata": {
	    "collapsed": true
	   },
	   "outputs": [],
"source": [
"//Example 1.14.7 page 1.47\n",
"// Cutoff wavelength, MAx core diameter for single mode operation..\n",
"\n",
"clc;\n",
"clear;\n",
"\n",
"n1= 1.49; //    RI of core.\n",
"n2=1.47;       //RI of cladding..\n",
"a= 2;     //radius of core in um..\n",
"NA= sqrt(n1^2-n2^2);    // Numerical Aperture..\n",
"// The maximum V number for single mode operation is 2.4...\n",
"V= 2.4;     //Normalised frequency..\n",
"\n",
"lamda = 2*%pi*a*NA/V;       // Cutoff wavelength...\n",
"printf('The cutoff wavelength is %.2f um',lamda);\n",
"\n",
"\n",
"lamda1 = 1.310; // Givenn cutoff wavelength in um..\n",
"d= V*lamda1/(%pi*NA);      // core diameter..\n",
"printf('\n\nThe core diameter is %.2f um',d);"
   ]
   }
,
{
		   "cell_type": "markdown",
		   "metadata": {},
		   "source": [
			"## Example 1.14_8: To_find_the_cutoff_wavelength.sce"
		   ]
		  },
  {
"cell_type": "code",
	   "execution_count": null,
	   "metadata": {
	    "collapsed": true
	   },
	   "outputs": [],
"source": [
"//Example 1.14.8 page 1.47\n",
"//To find cutoff wavelength..\n",
"\n",
"clc;\n",
"clear;\n",
" n1= 1.48;  //RI of core..\n",
" a= 4.5;    //core radius in um..\n",
"del= 0.0025;    //Relative RI difference..\n",
"V= 2.405;       //For step index fibre..\n",
"lamda= (2*%pi*a*n1*sqrt(2*del))/V;      //cutoff wavelength..\n",
"printf('The cutoff wavelength is %.2f um ',lamda);"
   ]
   }
,
{
		   "cell_type": "markdown",
		   "metadata": {},
		   "source": [
			"## Example 1.14_9: To_find_normalised_frequency_and_number_of_modes.sce"
		   ]
		  },
  {
"cell_type": "code",
	   "execution_count": null,
	   "metadata": {
	    "collapsed": true
	   },
	   "outputs": [],
"source": [
"//Example 1.14.9\n",
"//To find normalised frequency and the number of modes for the fibre..\n",
"\n",
"clc;\n",
"clear;\n",
"\n",
"lamda= 0.82*10^-6;      //wavelength ofoperation.\n",
"a= 2.5*10^-6;       //Radius of core..\n",
"n1= 1.48;       //RI of core..\n",
"n2= 1.46;   //RI of cladding\n",
"NA= sqrt(n1^2-n2^2);        //Numerical Aperture..\n",
"V= 2*%pi*a*NA/lamda;        //Normalisd frequency..\n",
"printf('The normalised frequency is %.3f',V);\n",
"M= V^2/2;   //The number of modes..\n",
"printf('\n\nThe number of modes in the fibre are %.2f',M);"
   ]
   }
,
{
		   "cell_type": "markdown",
		   "metadata": {},
		   "source": [
			"## Example 1.15_1: To_calculate_maximum_core_diameter.sce"
		   ]
		  },
  {
"cell_type": "code",
	   "execution_count": null,
	   "metadata": {
	    "collapsed": true
	   },
	   "outputs": [],
"source": [
"//Example 1.15.1 page 1.56..\n",
"// Maximum core diameter..\n",
"\n",
"clc;\n",
"clear;\n",
"n1= 1.48;       //RI of core..\n",
"del= 0.015;     //relative RI differencr..\n",
"lamda= 0.85;  //wavelength of operation..\n",
"V= 2.4; // for single mode of operation..\n",
"\n",
"a= V*lamda/(2*%pi*n1*sqrt(2*del));  //radius of core..\n",
"printf('The raduis of core is %.2f um',a);\n",
"printf('\n\nThe maximum possible core diameter is %.2f um',2*a);"
   ]
   }
,
{
		   "cell_type": "markdown",
		   "metadata": {},
		   "source": [
			"## Example 1.15_2: To_find_core_diameter.sce"
		   ]
		  },
  {
"cell_type": "code",
	   "execution_count": null,
	   "metadata": {
	    "collapsed": true
	   },
	   "outputs": [],
"source": [
"//Example 1.15.2\n",
"// to find maximum core diameter for single mode..\n",
"\n",
"clc;\n",
"clear;\n",
"\n",
"n1= 1.5;    //RI of core..\n",
"del= 0.01;   //Relative RI difference...\n",
"lamda= 1.3;   //Wavelength of operation...\n",
"V= 2.4*sqrt(2); // Maximum value of V for GRIN...\n",
"a= V*lamda/(2*%pi*n1*sqrt(2*del));  //radius of core..\n",
"printf('The radius of core is %.2f um',a);\n",
"printf('\n\nThe maximum possible core diameter is %.2f um',2*a);"
   ]
   }
,
{
		   "cell_type": "markdown",
		   "metadata": {},
		   "source": [
			"## Example 1.15_3: To_find_the_cutoff_wavelength.sce"
		   ]
		  },
  {
"cell_type": "code",
	   "execution_count": null,
	   "metadata": {
	    "collapsed": true
	   },
	   "outputs": [],
"source": [
"//Example 1.15.3\n",
"//To find the cutoff wavelength..\n",
"\n",
"clc;\n",
"clear;\n",
"\n",
"n1= 1.46;       //RI of core..\n",
"a = 4.5;    //radius of core in um..\n",
"del= 0.0025;    //relative RI difference..\n",
"V= 2.405;   // Normalisd frequency for single mode..\n",
"lamda= 2*%pi*a*n1*sqrt(2*del)/V;    //cutoff wavelength...\n",
"printf('The cut off wavelength for the given fibre is %.3f um',lamda);"
   ]
   }
,
{
		   "cell_type": "markdown",
		   "metadata": {},
		   "source": [
			"## Example 1.7_1: To_find_angle_of_reflection.sce"
		   ]
		  },
  {
"cell_type": "code",
	   "execution_count": null,
	   "metadata": {
	    "collapsed": true
	   },
	   "outputs": [],
"source": [
"// Example 1.7.1  page 1.14\n",
"//To calculate the angel of refraction if the angle of incidence is 30\n",
"\n",
"clc;\n",
"clear;\n",
"n1= 1.5; // for glass\n",
"n2= 1.33; // for water\n",
"phi1= (%pi/6);          // phi1 is the angel of incidence\n",
"// According to Snell's law...\n",
"// n1*sin(phi1)= n2*sin(phi2);\n",
"sinphi2= (n1/n2)*sin(phi1); // phi2 is the angle of refraction..\n",
"phi2 = asind(sinphi2);\n",
"printf(' The angel of refraction is %.2f degrees',phi2);"
   ]
   }
,
{
		   "cell_type": "markdown",
		   "metadata": {},
		   "source": [
			"## Example 1.7_2: To_calculate_Critical_Angle.sce"
		   ]
		  },
  {
"cell_type": "code",
	   "execution_count": null,
	   "metadata": {
	    "collapsed": true
	   },
	   "outputs": [],
"source": [
"// Example 1.7.2  page 1.14\n",
"// To calculate the critical angel\n",
"\n",
"clc;\n",
"clear;\n",
"\n",
"n1= 1.50;   // RI of glass..\n",
"n2 = 1;     // RI of air...\n",
"// According to Snell's law...\n",
"// n1*sin(phi1)= n2*sin(phi2);\n",
"\n",
"// From definition of critical angel phi2 = 90 degrees and phi1 will be critical angel\n",
"phiC=asind((n2/n1)*sin(%pi/2));\n",
"printf('The Critical angel is  %.2f degrees',phiC);"
   ]
   }
,
{
		   "cell_type": "markdown",
		   "metadata": {},
		   "source": [
			"## Example 1.7_3: To_find_RI_and_Critical_Angle_of_glass.sce"
		   ]
		  },
  {
"cell_type": "code",
	   "execution_count": null,
	   "metadata": {
	    "collapsed": true
	   },
	   "outputs": [],
"source": [
"// Example 1.7.3 page 1.15\n",
"//  To find RI of glass\n",
"// To find the critical angle for glass...\n",
"\n",
"clc;\n",
"clear;\n",
"phi1 = 33   // Angle of incidence..\n",
"phi2 = 90   //Angle of refraction..\n",
"// According to Snell's law...\n",
"// n1*sin(phi1)= n2*sin(phi2);\n",
"//a = sin(phi1*%pi/(180));\n",
"// Assume n1 is the RI of glass and n2 is RI of air\n",
"n2= 1;\n",
"n1 = sind(90)/sind(33);\n",
"printf('The Refractive Index is  %.2f',n1);\n",
"\n",
"// To calculate thre critical angle...\n",
"n1 =  1.836;    // From above rounded off to 3 decimal points...\n",
"phiC = asind((n2/n1)*sind(90));\n",
"phiC=asind(0.54);\n",
"printf('\n\nThe Critical angel is  %.2f degrees',phiC);"
   ]
   }
,
{
		   "cell_type": "markdown",
		   "metadata": {},
		   "source": [
			"## Example 1.7_4: To_find_the_angle_of_refraction.sce"
		   ]
		  },
  {
"cell_type": "code",
	   "execution_count": null,
	   "metadata": {
	    "collapsed": true
	   },
	   "outputs": [],
"source": [
"// Example 1.7.4 page 1.15\n",
"// To find the angle of refraction..\n",
"\n",
"clc;\n",
"clear;\n",
"n1= 1.5     // TheRi of medium 1\n",
"n2= 1.36    // the RI of medium 2\n",
"phi1= 30;   // The angle of incidence\n",
"// According to Snell's law...\n",
"// n1*sin(phi1)= n2*sin(phi2);\n",
"phi2 = asind((n1/n2)*sind(phi1));\n",
"printf('The angel of refraction is  %.2f degrees from normal',phi2);"
   ]
   }
,
{
		   "cell_type": "markdown",
		   "metadata": {},
		   "source": [
			"## Example 1.7_5: To_estimate_if_TIR_is_possible_or_not.sce"
		   ]
		  },
  {
"cell_type": "code",
	   "execution_count": null,
	   "metadata": {
	    "collapsed": true
	   },
	   "outputs": [],
"source": [
"// Example 1.7.5 page 1.16\n",
"// Will total internal reflection take place?\n",
"\n",
"clc;\n",
"clear;\n",
"\n",
"n1 = 3.6;      // RI of GaAs..\n",
"n2 = 3.4;      // RI of AlGaAs..\n",
"phi1 = 80;     // Angle of Incidence..\n",
"// According to Snell's law...\n",
"// n1*sin(phi1)= n2*sin(phi2);\n",
"//At critical angle phi2 = 90...\n",
"phiC = asind((n2/n1)*sind(90));\n",
"printf('The Critical angel is  %.2f degrees',phiC);\n",
"printf('\n\nFor total internal reflection to take place angle\n of incidence should be greater than the critical angle. \nFrom the calculations, we can thus conclude that Total internal reflection will take place');"
   ]
   }
,
{
		   "cell_type": "markdown",
		   "metadata": {},
		   "source": [
			"## Example 1.9_1: To_find_NA_Acceptance_and_Critical_Angle.sce"
		   ]
		  },
  {
"cell_type": "code",
	   "execution_count": null,
	   "metadata": {
	    "collapsed": true
	   },
	   "outputs": [],
"source": [
"// Example 1.91 page 1.22\n",
"// To calculate Numerical Aperture (NA), Acceptance angle (phiA), critical Angle (phiC)...\n",
"\n",
"clc;\n",
"clear;\n",
"\n",
"n1= 1.5;    // RI of medium 1\n",
"n2 =1.45;   // RI of medium 2\n",
"\n",
"del= (n1-n2)/n1;\n",
"NA = n1*(sqrt(2*del));\n",
"printf('The Numerical aperture is %.2f ',NA);\n",
"phiA = asind(NA);\n",
"printf('\n\nThe Acceptance angel is  %.2f degrees',phiA);\n",
"\n",
"phiC = asind(n2/n1);\n",
"printf('\n\nThe Critical angel is  %.2f degrees',phiC);"
   ]
   }
,
{
		   "cell_type": "markdown",
		   "metadata": {},
		   "source": [
			"## Example 1.9_2: To_find_NA_and_Acceptance_angle.sce"
		   ]
		  },
  {
"cell_type": "code",
	   "execution_count": null,
	   "metadata": {
	    "collapsed": true
	   },
	   "outputs": [],
"source": [
"// Example 1.9.2 page 1.23\n",
"// To calculate Numerical aperture and Acceptance angle...\n",
"\n",
"clc;\n",
"clear;\n",
"\n",
"n1= 1.5 // RI of core\n",
"n2 = 1.48   // RI of cladding..\n",
"\n",
"NA = sqrt((n1^2)-(n2^2));\n",
"printf('The Numerical Aperture is  %.2f',NA);\n",
"\n",
"phiA = asind(NA);\n",
"printf('\n\nThe Critical angel is  %.2f degrees',phiA);"
   ]
   }
,
{
		   "cell_type": "markdown",
		   "metadata": {},
		   "source": [
			"## Example 1.9_3: To_find_RI_of_core_and_cladding.sce"
		   ]
		  },
  {
"cell_type": "code",
	   "execution_count": null,
	   "metadata": {
	    "collapsed": true
	   },
	   "outputs": [],
"source": [
"//Example 1.9.3 page 1.23\n",
"// To calculate RI of core and cladding..\n",
"\n",
"clc;\n",
"clear;\n",
"\n",
"NA = 0.35;         //Numerical Aperture\n",
"del = 0.01;\n",
"//NA= n1*(sqrt(2*del)      n1 is RI of core\n",
"n1 = 0.35/(sqrt(2*del));\n",
"printf('The RI of core is %.4f',n1);\n",
"\n",
"// Numerical Aperture is also given by \n",
"// NA = sqrt(n1^2 - n2^2)   // n2 is RI of cladding\n",
"n2 = sqrt((n1^2-NA^2));\n",
"printf('\n\nThe RI of Cladding %.3f',n2);"
   ]
   }
,
{
		   "cell_type": "markdown",
		   "metadata": {},
		   "source": [
			"## Example 1.9_4: To_find_NA_and_acceptance_angle.sce"
		   ]
		  },
  {
"cell_type": "code",
	   "execution_count": null,
	   "metadata": {
	    "collapsed": true
	   },
	   "outputs": [],
"source": [
"//Example 1.9.4   page 1.24\n",
"\n",
"\n",
"clc;\n",
"clear;\n",
"Vc = 2.01*10^8;      // velocity of light in core in m/sec...\n",
"phiC= 80;           // Critical angle in degrees...\n",
"\n",
"// RI of Core (n1) is given by (Velocity of light in air/ velocity of light in air)...\n",
"n1= 3*10^8/Vc;\n",
"// From critical angle and the value of n1 we calculate n2...\n",
"n2 = sind(phiC)*n1; // RI of cladding...\n",
"NA = sqrt(n1^2-n2^2);\n",
"printf('The Numerical Aperture is %.2f',NA);\n",
"phiA = asind(NA);          // Acceptance angle...\n",
"printf('\n\nThe Acceptance angel is  %.2f degrees',phiA);"
   ]
   }
,
{
		   "cell_type": "markdown",
		   "metadata": {},
		   "source": [
			"## Example 1.9_5: To_find_NA_acceptance_and_critical_angle.sce"
		   ]
		  },
  {
"cell_type": "code",
	   "execution_count": null,
	   "metadata": {
	    "collapsed": true
	   },
	   "outputs": [],
"source": [
"// Example 1.9.5 page 1.25\n",
"// To calculate critical angle accepatance angle and numerical aperture..\n",
"\n",
"clc;\n",
"clear;\n",
"\n",
"n1 = 1.4;       //RI of Core..\n",
"n2 = 1.35;      //RI of Cladding\n",
"\n",
"phiC = asind(n2/n1);           //Critical angle..\n",
"printf('The Critical angel is  %.2f degrees',phiC);\n",
"\n",
"NA = sqrt(n1^2-n2^2);       // numerical Aperture...\n",
"printf('\n\nThe Numerical Aperture is %.2f',NA);\n",
"\n",
"phiA = asind(NA);       // Acceptance angle...  \n",
"printf('\n\nThe Acceptance angel is  %.2f degrees',phiA);"
   ]
   }
,
{
		   "cell_type": "markdown",
		   "metadata": {},
		   "source": [
			"## Example 1.9_6: To_find_NA_and_entrance_angle.sce"
		   ]
		  },
  {
"cell_type": "code",
	   "execution_count": null,
	   "metadata": {
	    "collapsed": true
	   },
	   "outputs": [],
"source": [
"//Example 1.9.6 page 1.25\n",
"//To calculate The Numerical Aperture and maximum angle of entrance of light into air...\n",
"\n",
"clc;\n",
"clear;\n",
"n1 = 1.48;      // RI of core..\n",
"n2 = 1.46;      // RI of Cladding..\n",
"\n",
"NA = sqrt(n1^2-n2^2);       //Numerical Aperture..\n",
"printf('The Numerical Aperture is %.3f',NA);\n",
"\n",
"theta = %pi*NA^2;       // The entrance angle theta..\n",
"printf('\n\nThe Entrance angel is  %.3f degrees',theta);"
   ]
   }
,
{
		   "cell_type": "markdown",
		   "metadata": {},
		   "source": [
			"## Example 1.9_7: To_find_NA.sce"
		   ]
		  },
  {
"cell_type": "code",
	   "execution_count": null,
	   "metadata": {
	    "collapsed": true
	   },
	   "outputs": [],
"source": [
"//Example 1.9.7 page 1.26\n",
"//To find the Numerical Aperture...\n",
"\n",
"clc;\n",
"clear;\n",
"\n",
"del = 0.007;        // relative refractive index difference \n",
"n1 = 1.45;      // RI of core...\n",
"NA = n1* sqrt((2*del));\n",
"printf('The Numerical Aperture is %.4f',NA);"
   ]
   }
,
{
		   "cell_type": "markdown",
		   "metadata": {},
		   "source": [
			"## Example 1.9_8: To_estimate_relative_RI.sce"
		   ]
		  },
  {
"cell_type": "code",
	   "execution_count": null,
	   "metadata": {
	    "collapsed": true
	   },
	   "outputs": [],
"source": [
"//Example 1.9.8 page 1.26\n",
"//To finf relative RI difference..\n",
"\n",
"clc;\n",
"clear;\n",
"\n",
"phiA = 8        // accepatance angle in degrees...\n",
"n1 =1.52;       //RI of core...\n",
"\n",
"NA = sind(phiA);        //Numerical Aperture...\n",
"\n",
"del = NA^2/(2*(n1^2));      //Relative RI difference...\n",
"printf('The relative refractive index difference is %.5f',del);"
   ]
   }
,
{
		   "cell_type": "markdown",
		   "metadata": {},
		   "source": [
			"## Example 1.9_9: To_find_NA_and_solid_acceptance_angle.sce"
		   ]
		  },
  {
"cell_type": "code",
	   "execution_count": null,
	   "metadata": {
	    "collapsed": true
	   },
	   "outputs": [],
"source": [
"//Example 1.9.9 page 1.27\n",
"// Calculate NA and solid acceptance angle. Also find critical angle...\n",
"\n",
"clc;\n",
"clear;\n",
"\n",
"del = 0.01;     // relative RI difference..\n",
"n1 = 1.48;      // RI of core...\n",
"\n",
"NA = n1*(sqrt(2*del));      //Numerical Aperture..\n",
"printf('The Numerical Aperture is %.3f',NA);\n",
"\n",
"theta = %pi*NA^2;       //Solid Acceptance angle...\n",
"printf('\n\nThe Solid Acceptance angel is  %.4f degrees',theta);\n",
"\n",
"n2 = (1-del)*n1;\n",
"phiC = asind(n2/n1);        //Critical Angle...\n",
"printf('\n\nThe Critical angel is  %.2f degrees',phiC);\n",
"printf('\n\nCritical angle wrong due to rounding off errors in trignometric functions..\n Actual value is 90.98 in book.');"
   ]
   }
],
"metadata": {
		  "kernelspec": {
		   "display_name": "Scilab",
		   "language": "scilab",
		   "name": "scilab"
		  },
		  "language_info": {
		   "file_extension": ".sce",
		   "help_links": [
			{
			 "text": "MetaKernel Magics",
			 "url": "https://github.com/calysto/metakernel/blob/master/metakernel/magics/README.md"
			}
		   ],
		   "mimetype": "text/x-octave",
		   "name": "scilab",
		   "version": "0.7.1"
		  }
		 },
		 "nbformat": 4,
		 "nbformat_minor": 0
}
