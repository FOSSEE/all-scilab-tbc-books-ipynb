{
"cells": [
 {
		   "cell_type": "markdown",
	   "metadata": {},
	   "source": [
       "# Chapter 33: THE MAGNETIC FIELD"
	   ]
	},
{
		   "cell_type": "markdown",
		   "metadata": {},
		   "source": [
			"## Example 33.1: Force_acting_on_a_proton.sce"
		   ]
		  },
  {
"cell_type": "code",
	   "execution_count": null,
	   "metadata": {
	    "collapsed": true
	   },
	   "outputs": [],
"source": [
"//chapter 33\n",
"//example1\n",
"clc\n",
"//given\n",
"K=5*10^6 //ev\n",
"e=1.6*10^-19 //in coul\n",
"K1=K*e //in joules\n",
"m=1.7*10^-27 //in kg\n",
"B=1.5 //wb/m\n",
"theta=%pi/2\n",
"v=sqrt(2*K1/m)\n",
"disp(v,'Speed of the proton in meters/sec is')\n",
"F=e*v*B*sin(theta)\n",
"disp(F,'Force acting on proton in nt is')"
   ]
   }
,
{
		   "cell_type": "markdown",
		   "metadata": {},
		   "source": [
			"## Example 33.3: Torsional_constant_of_the_spring.sce"
		   ]
		  },
  {
"cell_type": "code",
	   "execution_count": null,
	   "metadata": {
	    "collapsed": true
	   },
	   "outputs": [],
"source": [
"//chapter 33\n",
"//example3\n",
"clc\n",
"//given\n",
"N=250 //turns in coil\n",
"i=1.0*10^-4 //in amp\n",
"B=0.2 //wb/m2\n",
"h=2*10^-2// coil height in m\n",
"w=1.0*10^-2 //width of coil in m\n",
"Q=30 //angular deflectin in degrees\n",
"theta=%pi/2\n",
"A=h*w\n",
"k=N*i*A*B*sin(theta)/Q\n",
"disp(k,'Torssional constant in nt-m/deg is')"
   ]
   }
,
{
		   "cell_type": "markdown",
		   "metadata": {},
		   "source": [
			"## Example 33.4: Work_done.sce"
		   ]
		  },
  {
"cell_type": "code",
	   "execution_count": null,
	   "metadata": {
	    "collapsed": true
	   },
	   "outputs": [],
"source": [
"//chapter 33\n",
"//example4\n",
"clc\n",
"//given\n",
"N=100 // turns in circular coil\n",
"i=0.10 //in amp\n",
"B=1.5// in wb/m2\n",
"a=5*10^-2 //radius of coil in meter\n",
"u=N*i*%pi*(a^2) //u is dipole moment\n",
"U1=(-u*B*cos(0))\n",
"U2=-u*B*cos(%pi)\n",
"W=U2-U1\n",
"disp(W,'  W0rk required to turn current in an  external magnetic field from theta=0 to theta=180 degree in joule is ')"
   ]
   }
,
{
		   "cell_type": "markdown",
		   "metadata": {},
		   "source": [
			"## Example 33.5: Hall_potential_difference.sce"
		   ]
		  },
  {
"cell_type": "code",
	   "execution_count": null,
	   "metadata": {
	    "collapsed": true
	   },
	   "outputs": [],
"source": [
"//chapter 33\n",
"//example5\n",
"clc\n",
"//given\n",
"i=200 //current in the strip in amp\n",
"B=1.5 //magnetic field in wb/m2\n",
"n=8.4*10^28 //in m-3\n",
"e=1.6*10^-19 //in coul\n",
"h=1.0*10^-3 //thickness of copper strip in metre\n",
"w=2*10^-2 //width of copper strip in meter\n",
"//calculation\n",
"Vxy=i*B/(n*e*h)\n",
"disp(Vxy,'Hall potential difference aross strip in volt is')"
   ]
   }
,
{
		   "cell_type": "markdown",
		   "metadata": {},
		   "source": [
			"## Example 33.6: Orbital_radius_Cyclotron_frequency_and_Period_of_revolution.sce"
		   ]
		  },
  {
"cell_type": "code",
	   "execution_count": null,
	   "metadata": {
	    "collapsed": true
	   },
	   "outputs": [],
"source": [
"//chapter 33\n",
"//example6\n",
"clc\n",
"//given\n",
"m=9.1*10^-31 // in kg\n",
"v=1.9*10^6 //in m/sec\n",
"q=1.6*10^-19 //charge in coul\n",
"B=1.0*10^-4 //in wb/m2\n",
"//calculations\n",
"//(A)\n",
"r=m*v/(q*B)\n",
"disp(r,'(A)  Orbit radius in meter is')\n",
"//(B)\n",
"f=q*B/(2*%pi*m)\n",
"disp(f,'(B)  Cyclotron frequency in rev/sec is')\n",
"//(C)\n",
"T=1/f\n",
"disp(T,'(C)  Period of revolution in sec is')"
   ]
   }
,
{
		   "cell_type": "markdown",
		   "metadata": {},
		   "source": [
			"## Example 33.7: Magnetic_induction_and_Deuteron_energy.sce"
		   ]
		  },
  {
"cell_type": "code",
	   "execution_count": null,
	   "metadata": {
	    "collapsed": true
	   },
	   "outputs": [],
"source": [
"//chapter 33\n",
"//example7\n",
"clc\n",
"//given\n",
"f0=12*10^6 //cyclotron frequency in cycles/sec\n",
"r=21//dee radius in inches\n",
"R=r*0.0254 //dee radius in meter\n",
"q=1.6*10^-19 //charge in coul\n",
"m=3.3*10^-27 //in kg\n",
"//(A)\n",
"B=2*%pi*f0*m/q\n",
"disp(B,'(A)  Magnetic induction needed to accelerate deuterons in wb/m2 is')\n",
"//(B)\n",
"K=((q^2*B^2*R^2)/(2*m))\n",
"disp(K,'(B)  Deuteron energy in joule is')\n",
"K1=K*(1/(1.6*10^-19))\n",
"disp(K1,'   Deuteron energy in ev is')"
   ]
   }
],
"metadata": {
		  "kernelspec": {
		   "display_name": "Scilab",
		   "language": "scilab",
		   "name": "scilab"
		  },
		  "language_info": {
		   "file_extension": ".sce",
		   "help_links": [
			{
			 "text": "MetaKernel Magics",
			 "url": "https://github.com/calysto/metakernel/blob/master/metakernel/magics/README.md"
			}
		   ],
		   "mimetype": "text/x-octave",
		   "name": "scilab",
		   "version": "0.7.1"
		  }
		 },
		 "nbformat": 4,
		 "nbformat_minor": 0
}
