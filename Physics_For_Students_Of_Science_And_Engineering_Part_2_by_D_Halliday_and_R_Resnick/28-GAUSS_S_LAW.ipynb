{
"cells": [
 {
		   "cell_type": "markdown",
	   "metadata": {},
	   "source": [
       "# Chapter 28: GAUSS S LAW"
	   ]
	},
{
		   "cell_type": "markdown",
		   "metadata": {},
		   "source": [
			"## Example 28.3: Electric_field_strength.sce"
		   ]
		  },
  {
"cell_type": "code",
	   "execution_count": null,
	   "metadata": {
	    "collapsed": true
	   },
	   "outputs": [],
"source": [
"//chapter 28\n",
"//Example 3\n",
"clc\n",
"//Given\n",
"r=1*10^-10 //radius of the atom in meter\n",
"Z=79 //gold atomic number\n",
"e=1.6*10^-19 //charge in coul\n",
"q=Z*e //total positive charge in coul\n",
"E=(9.0*10^9)*q/r^2\n",
"disp(E,'Electric field strength at the surface of the gold atom in nt/coul is')"
   ]
   }
,
{
		   "cell_type": "markdown",
		   "metadata": {},
		   "source": [
			"## Example 28.4: Electric_field_strength_at_the_nuclear_surface.sce"
		   ]
		  },
  {
"cell_type": "code",
	   "execution_count": null,
	   "metadata": {
	    "collapsed": true
	   },
	   "outputs": [],
"source": [
"//chapter 28\n",
"//Example 4\n",
"clc\n",
"//given\n",
"r=6.9*10^-15 //radius of the gold nucleus in meter\n",
"Z=79 //gold atomic number\n",
"e=1.6*10^-19 //charge in coul\n",
"q=Z*e //total positive charge in coul\n",
"E=(9.0*10^9)*q/r^2\n",
"disp('Electric field strength at the surface of the gold atom in nt/coul is')\n",
"disp(E)"
   ]
   }
],
"metadata": {
		  "kernelspec": {
		   "display_name": "Scilab",
		   "language": "scilab",
		   "name": "scilab"
		  },
		  "language_info": {
		   "file_extension": ".sce",
		   "help_links": [
			{
			 "text": "MetaKernel Magics",
			 "url": "https://github.com/calysto/metakernel/blob/master/metakernel/magics/README.md"
			}
		   ],
		   "mimetype": "text/x-octave",
		   "name": "scilab",
		   "version": "0.7.1"
		  }
		 },
		 "nbformat": 4,
		 "nbformat_minor": 0
}
