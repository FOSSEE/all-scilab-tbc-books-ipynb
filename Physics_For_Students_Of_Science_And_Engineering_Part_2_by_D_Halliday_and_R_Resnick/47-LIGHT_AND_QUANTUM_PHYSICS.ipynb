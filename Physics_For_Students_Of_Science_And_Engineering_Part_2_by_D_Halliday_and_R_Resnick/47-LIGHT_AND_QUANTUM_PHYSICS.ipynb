{
"cells": [
 {
		   "cell_type": "markdown",
	   "metadata": {},
	   "source": [
       "# Chapter 47: LIGHT AND QUANTUM PHYSICS"
	   ]
	},
{
		   "cell_type": "markdown",
		   "metadata": {},
		   "source": [
			"## Example 47.1: velocity.sce"
		   ]
		  },
  {
"cell_type": "code",
	   "execution_count": null,
	   "metadata": {
	    "collapsed": true
	   },
	   "outputs": [],
"source": [
"//Chapter 47\n",
"//Example1\n",
"k=20//in nt/m\n",
"m=1//in kg\n",
"//solution\n",
"v=(sqrt((k)/(m)))*(1/(2*%pi))\n",
"disp('velocity in cycles/s' )\n",
"disp(v)"
   ]
   }
,
{
		   "cell_type": "markdown",
		   "metadata": {},
		   "source": [
			"## Example 47.2: Time_calculatio.sce"
		   ]
		  },
  {
"cell_type": "code",
	   "execution_count": null,
	   "metadata": {
	    "collapsed": true
	   },
	   "outputs": [],
"source": [
"//Example 2\n",
"//chapter 47\n",
"P=(10^(-3))*(3*10^(-18))/(300)\n",
"disp(P,'Power in j-sec')\n",
"s=1.6*(10^(-19))\n",
"t=(5*s)/P\n",
"disp(t,'time reqired in sec =')\n",
"one_sec=0.000277778// hr\n",
"in_hour=one_sec*t\n",
"disp(in_hour,'time required in hour')"
   ]
   }
,
{
		   "cell_type": "markdown",
		   "metadata": {},
		   "source": [
			"## Example 47.3: Work_function_for_sodium.sce"
		   ]
		  },
  {
"cell_type": "code",
	   "execution_count": null,
	   "metadata": {
	    "collapsed": true
	   },
	   "outputs": [],
"source": [
"//Example_3\n",
"//Chapter 47\n",
"h=6.63*10^(-34)// in joule/sec\n",
"v=4.39*10^(14)// cycles/sec\n",
"E_o=h*(v)\n",
"disp(E_o,'Energy in joule=')"
   ]
   }
,
{
		   "cell_type": "markdown",
		   "metadata": {},
		   "source": [
			"## Example 47.4: Kinetic_energy_to_be_imparten_on_recoiling_electron.sce"
		   ]
		  },
  {
"cell_type": "code",
	   "execution_count": null,
	   "metadata": {
	    "collapsed": true
	   },
	   "outputs": [],
"source": [
"//Example 4\n",
"disp('solution a')\n",
"h=(6.63)*10^-34\n",
"m=9.11*10^-31\n",
"c=3*10^8\n",
"delta_h=(h/(m*c))*(1-cos(90))\n",
"disp(delta_h,'compton shift in meter')\n",
"disp('solution b')\n",
"delta=1*10^-10\n",
"k=(h*c*delta_h)/(delta*(delta+delta_h))\n",
"disp(k,'Kinetic energy in joules')"
   ]
   }
,
{
		   "cell_type": "markdown",
		   "metadata": {},
		   "source": [
			"## Example 47.5: Binding_energy_of_hydrogen_atom.sce"
		   ]
		  },
  {
"cell_type": "code",
	   "execution_count": null,
	   "metadata": {
	    "collapsed": true
	   },
	   "outputs": [],
"source": [
"//example5\n",
"m=9.11*10^-31//in kg\n",
"e=8.85*10^-12// in coul^2/nt-m^2\n",
"h=6.63*10^-34//in j-sec\n",
"E=(-m*(e^4))/(8*(e^2)*(h^2))\n",
"disp(E,'Binding energy of hydrogen in joule')"
   ]
   }
],
"metadata": {
		  "kernelspec": {
		   "display_name": "Scilab",
		   "language": "scilab",
		   "name": "scilab"
		  },
		  "language_info": {
		   "file_extension": ".sce",
		   "help_links": [
			{
			 "text": "MetaKernel Magics",
			 "url": "https://github.com/calysto/metakernel/blob/master/metakernel/magics/README.md"
			}
		   ],
		   "mimetype": "text/x-octave",
		   "name": "scilab",
		   "version": "0.7.1"
		  }
		 },
		 "nbformat": 4,
		 "nbformat_minor": 0
}
