{
"cells": [
 {
		   "cell_type": "markdown",
	   "metadata": {},
	   "source": [
       "# Chapter 31: CURRENT AND RESISTANCE"
	   ]
	},
{
		   "cell_type": "markdown",
		   "metadata": {},
		   "source": [
			"## Example 31.1: Current_density.sce"
		   ]
		  },
  {
"cell_type": "code",
	   "execution_count": null,
	   "metadata": {
	    "collapsed": true
	   },
	   "outputs": [],
"source": [
"//chapter 31\n",
"//example1\n",
"clc\n",
"//given\n",
"d1=0.10 //diameter of aluminium wire in inches\n",
"d2=0.064 //diameter of copper wire in inches\n",
"i=10 //current carried by composite wire in amperes\n",
"A1=%pi*(d1/2)^2 //crosssectional area of aluminium wire in square inches\n",
"A2=%pi*(d2/2)^2 //crosssectional area of copper wire in square inches\n",
"j1=i/A1\n",
"j2=i/A2\n",
"disp(j1,'Current density in Aluminium wire in amp/square inches')\n",
"disp(j2,'Current density in copper wire in amp/square inches')"
   ]
   }
,
{
		   "cell_type": "markdown",
		   "metadata": {},
		   "source": [
			"## Example 31.2: Drift_speed.sce"
		   ]
		  },
  {
"cell_type": "code",
	   "execution_count": null,
	   "metadata": {
	    "collapsed": true
	   },
	   "outputs": [],
"source": [
"//chapter 31\n",
"//example2\n",
"clc\n",
"//given\n",
"j=480//current density for copper wire in amp/cm2\n",
"N0=6*10^23 //avagadro number in atoms/mole\n",
"M=64//molecular wt in gm/mole\n",
"d=9.0 //density in gm/cm3\n",
"e=1.6*10^-19//elecron charge in coul\n",
"n=d*N0/M \n",
"disp(n,'No.of free electrons per unit volume in atoms/mole')\n",
"Vd=j/(n*e)\n",
"disp(Vd,'Drift speed of electron in cm/sec is')"
   ]
   }
,
{
		   "cell_type": "markdown",
		   "metadata": {},
		   "source": [
			"## Example 31.3: Resistance_and_resistiviy.sce"
		   ]
		  },
  {
"cell_type": "code",
	   "execution_count": null,
	   "metadata": {
	    "collapsed": true
	   },
	   "outputs": [],
"source": [
"//chapter 31\n",
"//example3\n",
"clc\n",
"//given\n",
"disp('Dimensions of rectangular carbon block are 1.0cm*1.0cm*50cm')\n",
"l=1.0*10^-2 //in meter\n",
"b=1.0*10^-2//in meter\n",
"h=50*10^-2 //in meter\n",
"p=3.5*10^-5 //resisivity of carbon in ohm-m\n",
"//(a)Resistance b/w two square ends\n",
"l1=h\n",
"A1=b*l\n",
"R1=p*l1/A1\n",
"disp(R1,'(a) Resistance measured b/w the two square ends in ohm is')\n",
"l2=l\n",
"A2=b*h\n",
"R2=p*l2/A2\n",
"disp(R2,'(a) Resistance measured b/w the two opposite rectangular faces in ohm is')\n",
""
   ]
   }
,
{
		   "cell_type": "markdown",
		   "metadata": {},
		   "source": [
			"## Example 31.4: Mean_time_and_Mean_free_path.sce"
		   ]
		  },
  {
"cell_type": "code",
	   "execution_count": null,
	   "metadata": {
	    "collapsed": true
	   },
	   "outputs": [],
"source": [
"//chapter 31\n",
"//example4\n",
"clc\n",
"//given\n",
"m=9.1*10^-31 //in kg\n",
"n=8.4*10^28 //in m-1\n",
"e=1.6*10^-19 //in coul\n",
"p=1.7*10^-8 //in ohm-m\n",
"v=1.6*10^8 //in cm/sec\n",
"T=2*m/(n*p*e^2)\n",
"disp(T,'(a) Mean time b/w collisions in sec is')\n",
"Lambda=T*v\n",
"disp(Lambda,'(b) Mean free path in cm is')"
   ]
   }
,
{
		   "cell_type": "markdown",
		   "metadata": {},
		   "source": [
			"## Example 31.5: Power.sce"
		   ]
		  },
  {
"cell_type": "code",
	   "execution_count": null,
	   "metadata": {
	    "collapsed": true
	   },
	   "outputs": [],
"source": [
"//chapter 31\n",
"//example5\n",
"clc\n",
"//given\n",
"V=110 //in volt\n",
"R=24//ohms\n",
"P1=V^2/R\n",
"disp(P1,'(a)Power for the single coil in watts is')\n",
"P2=V^2/(R/2)\n",
"disp(P2,'(b)Power for a coil of half the length in watts is')"
   ]
   }
],
"metadata": {
		  "kernelspec": {
		   "display_name": "Scilab",
		   "language": "scilab",
		   "name": "scilab"
		  },
		  "language_info": {
		   "file_extension": ".sce",
		   "help_links": [
			{
			 "text": "MetaKernel Magics",
			 "url": "https://github.com/calysto/metakernel/blob/master/metakernel/magics/README.md"
			}
		   ],
		   "mimetype": "text/x-octave",
		   "name": "scilab",
		   "version": "0.7.1"
		  }
		 },
		 "nbformat": 4,
		 "nbformat_minor": 0
}
