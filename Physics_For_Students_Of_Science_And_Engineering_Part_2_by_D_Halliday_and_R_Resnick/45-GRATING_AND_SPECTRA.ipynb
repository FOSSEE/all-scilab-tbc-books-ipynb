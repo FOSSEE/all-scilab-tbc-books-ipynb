{
"cells": [
 {
		   "cell_type": "markdown",
	   "metadata": {},
	   "source": [
       "# Chapter 45: GRATING AND SPECTRA"
	   ]
	},
{
		   "cell_type": "markdown",
		   "metadata": {},
		   "source": [
			"## Example 45.1: calculation_of_angel.sce"
		   ]
		  },
  {
"cell_type": "code",
	   "execution_count": null,
	   "metadata": {
	    "collapsed": true
	   },
	   "outputs": [],
"source": [
"//example 1\n",
"//chapter 45\n",
"//clc()\n",
"m=1\n",
"lambda=4000//in A\n",
"d=31700//in A\n",
"theta=asind((m*lambda)/d)\n",
"disp(theta,'The first order diffraction pattern in degree=')"
   ]
   }
,
{
		   "cell_type": "markdown",
		   "metadata": {},
		   "source": [
			"## Example 45.2: Calculation_of_angel_theta.sce"
		   ]
		  },
  {
"cell_type": "code",
	   "execution_count": null,
	   "metadata": {
	    "collapsed": true
	   },
	   "outputs": [],
"source": [
"//chapter 45\n",
"//example 2\n",
"//given\n",
"//clc()\n",
"m=1\n",
"lambda=5890//in A\n",
"d=25400//in A\n",
"theta=asind((m*lambda)/d)\n",
"disp('solution (a)')\n",
"disp(theta,'The first order diffraction pattern in degree=')\n",
"disp('solution (b)')\n",
"//given\n",
"del_lambda=5.9//in A\n",
"delta_theta=(m*(del_lambda))/(d*cosd(theta))\n",
"disp(delta_theta,'Angle of seperation in degree=')"
   ]
   }
,
{
		   "cell_type": "markdown",
		   "metadata": {},
		   "source": [
			"## Example 45.3: Calculation_of_sodium_doublet.sce"
		   ]
		  },
  {
"cell_type": "code",
	   "execution_count": null,
	   "metadata": {
	    "collapsed": true
	   },
	   "outputs": [],
"source": [
"//Example 3\n",
"//chapter 45\n",
"//Given\n",
"lambda=5890//A\n",
"m=3\n",
"delta_lambda=(5895.9-5890.0)//in A\n",
"R=lambda/(delta_lambda)\n",
"disp(R,'Resolving power=')\n",
"N=(R/m)\n",
"disp(N,'Number of rulings needed is=')"
   ]
   }
,
{
		   "cell_type": "markdown",
		   "metadata": {},
		   "source": [
			"## Example 45.4: Calculation_of_dispersion.sce"
		   ]
		  },
  {
"cell_type": "code",
	   "execution_count": null,
	   "metadata": {
	    "collapsed": true
	   },
	   "outputs": [],
"source": [
"//Example 4\n",
"//Chapter 45\n",
"//clc()\n",
"m=3\n",
"m1=5\n",
"lambda=5460//in A\n",
"d=31700//in A\n",
"theta=asind((m*lambda)/d)\n",
"disp(theta,'The first order diffraction pattern in degree=')\n",
"D=m/(d* cosd(theta))\n",
"disp('Solution (a)')\n",
"disp(D,'The dispersion in radian/A=')\n",
"disp('Solution (b)')\n",
"N=8000\n",
"lambda=5460\n",
"R=N*m1\n",
"delta_lambda=lambda/R\n",
"disp(delta_lambda,'Wave length difference in A=')"
   ]
   }
,
{
		   "cell_type": "markdown",
		   "metadata": {},
		   "source": [
			"## Example 45.5: Calculation_of_angels.sce"
		   ]
		  },
  {
"cell_type": "code",
	   "execution_count": null,
	   "metadata": {
	    "collapsed": true
	   },
	   "outputs": [],
"source": [
"//Example 5\n",
"//chapter 45\n",
"//clc()\n",
"a_o=5.63//A\n",
"d=a_o/sqrt(5)\n",
"lambda=1.10//in A\n",
"disp(d,'Interplanar spacing d in A=')\n",
"disp('diffracted beam occurs when m=1,m=2 and m=3')\n",
"disp('when m1=1, theta in degree=')\n",
"m1=1\n",
"x=(m1*lambda)/(2*d)\n",
"theta_1=asind(x)\n",
"disp(theta_1)\n",
"disp('when m1=2, theta in degree=')\n",
"m2=2\n",
"x=(m2*lambda)/(2*d)\n",
"theta_2=asind(x)\n",
"disp(theta_2)\n",
"disp('when m1=3, theta in degree=')\n",
"m3=3\n",
"x=(m3*lambda)/(2*d)\n",
"theta_3=asind(x)\n",
"disp(theta_3)"
   ]
   }
],
"metadata": {
		  "kernelspec": {
		   "display_name": "Scilab",
		   "language": "scilab",
		   "name": "scilab"
		  },
		  "language_info": {
		   "file_extension": ".sce",
		   "help_links": [
			{
			 "text": "MetaKernel Magics",
			 "url": "https://github.com/calysto/metakernel/blob/master/metakernel/magics/README.md"
			}
		   ],
		   "mimetype": "text/x-octave",
		   "name": "scilab",
		   "version": "0.7.1"
		  }
		 },
		 "nbformat": 4,
		 "nbformat_minor": 0
}
