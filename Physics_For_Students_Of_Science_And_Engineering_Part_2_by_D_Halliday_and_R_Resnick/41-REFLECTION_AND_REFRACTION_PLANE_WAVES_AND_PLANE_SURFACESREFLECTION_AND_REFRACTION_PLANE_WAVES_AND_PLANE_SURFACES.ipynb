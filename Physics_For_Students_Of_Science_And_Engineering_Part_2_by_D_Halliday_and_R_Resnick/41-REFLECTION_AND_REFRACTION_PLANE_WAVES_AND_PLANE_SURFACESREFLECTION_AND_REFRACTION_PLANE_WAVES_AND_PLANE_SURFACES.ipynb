{
"cells": [
 {
		   "cell_type": "markdown",
	   "metadata": {},
	   "source": [
       "# Chapter 41: REFLECTION AND REFRACTION PLANE WAVES AND PLANE SURFACESREFLECTION AND REFRACTION PLANE WAVES AND PLANE SURFACES"
	   ]
	},
{
		   "cell_type": "markdown",
		   "metadata": {},
		   "source": [
			"## Example 41.1: angel_between_two_refracted_beam.sce"
		   ]
		  },
  {
"cell_type": "code",
	   "execution_count": null,
	   "metadata": {
	    "collapsed": true
	   },
	   "outputs": [],
"source": [
"//example_2\n",
"//chapter 41\n",
"theta_1=30\n",
"n_qa=1.4702\n",
"theta2=asind(sind(theta_1)/n_qa)\n",
"disp('For 4000 A beam, theta_2 in degree=')\n",
"disp(theta2)\n",
"theta_1=30\n",
"n_qa=1.4624\n",
"theta2=asind(sind(theta_1)/n_qa)\n",
"disp('For 5000 A beam, theta_2 in degree=')\n",
"disp(theta2)"
   ]
   }
,
{
		   "cell_type": "markdown",
		   "metadata": {},
		   "source": [
			"## Example 41.4: Index_of_glass.sce"
		   ]
		  },
  {
"cell_type": "code",
	   "execution_count": null,
	   "metadata": {
	    "collapsed": true
	   },
	   "outputs": [],
"source": [
"//example 4\n",
"// chapter 41\n",
"//clc()\n",
"disp('Index reflection=')\n",
"n=1/sind(45)\n",
"disp(n)"
   ]
   }
,
{
		   "cell_type": "markdown",
		   "metadata": {},
		   "source": [
			"## Example 41.5: Angel.sce"
		   ]
		  },
  {
"cell_type": "code",
	   "execution_count": null,
	   "metadata": {
	    "collapsed": true
	   },
	   "outputs": [],
"source": [
"//Example 4\n",
"//Chapter 41\n",
"//clc()\n",
"n2=1.33\n",
"n1=1.50\n",
"theta_c=asind(n2/n1)\n",
"disp(theta_c,'Angle theta_c in degree=')\n",
"disp('Actual angle of indices =45 is less than theta_ c, so there \n is no internal angle reflection')\n",
"disp('angle of refraction=')\n",
"x=n1/n2\n",
"theta_2=asind(x*sind(45))\n",
"disp(theta_2,'theta_2 in degree=')"
   ]
   }
],
"metadata": {
		  "kernelspec": {
		   "display_name": "Scilab",
		   "language": "scilab",
		   "name": "scilab"
		  },
		  "language_info": {
		   "file_extension": ".sce",
		   "help_links": [
			{
			 "text": "MetaKernel Magics",
			 "url": "https://github.com/calysto/metakernel/blob/master/metakernel/magics/README.md"
			}
		   ],
		   "mimetype": "text/x-octave",
		   "name": "scilab",
		   "version": "0.7.1"
		  }
		 },
		 "nbformat": 4,
		 "nbformat_minor": 0
}
