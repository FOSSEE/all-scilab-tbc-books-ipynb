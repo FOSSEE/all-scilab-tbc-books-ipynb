{
"cells": [
 {
		   "cell_type": "markdown",
	   "metadata": {},
	   "source": [
       "# Chapter 38: ELECTROMAGNETIC OSCILLATIONS"
	   ]
	},
{
		   "cell_type": "markdown",
		   "metadata": {},
		   "source": [
			"## Example 38.1: Current.sce"
		   ]
		  },
  {
"cell_type": "code",
	   "execution_count": null,
	   "metadata": {
	    "collapsed": true
	   },
	   "outputs": [],
"source": [
"//Example 1\n",
"//Chapter 38\n",
"//clc()\n",
"V_o=50// in volts\n",
"C=1*10^-6 //in farad\n",
"L=10*10^-3\n",
"i_m=V_o*(sqrt(C/L))\n",
"disp(i_m,'Max current in amps')"
   ]
   }
,
{
		   "cell_type": "markdown",
		   "metadata": {},
		   "source": [
			"## Example 38.2: Angular_frequency.sce"
		   ]
		  },
  {
"cell_type": "code",
	   "execution_count": null,
	   "metadata": {
	    "collapsed": true
	   },
	   "outputs": [],
"source": [
"//chapter 38\n",
"//Example 2\n",
"clc\n",
"//given\n",
"L=10*(10^-3)// in henry\n",
"C=(10)^-6 //in farad\n",
"w=sqrt(1/(L*C))\n",
"disp(' Angular frequency in radians/sec=')\n",
"disp(w)"
   ]
   }
,
{
		   "cell_type": "markdown",
		   "metadata": {},
		   "source": [
			"## Example 38.3: Angular_frequency_and_time.sce"
		   ]
		  },
  {
"cell_type": "code",
	   "execution_count": null,
	   "metadata": {
	    "collapsed": true
	   },
	   "outputs": [],
"source": [
"//chapter 38\n",
"//Example 3\n",
"clc\n",
"//given\n",
"L=10*(10^-3)// in henry\n",
"C=(10)^-6 //in farad\n",
"R=0.1 //in ohm\n",
"w=sqrt(1/(L*C))\n",
"disp(' Angular frequency in radians/sec=')\n",
"disp(w)\n",
"t=(2*L*log(2))/R\n",
"disp(' time in sec=')\n",
"disp(t)"
   ]
   }
,
{
		   "cell_type": "markdown",
		   "metadata": {},
		   "source": [
			"## Example 38.5: Magnetic_field.sce"
		   ]
		  },
  {
"cell_type": "code",
	   "execution_count": null,
	   "metadata": {
	    "collapsed": true
	   },
	   "outputs": [],
"source": [
"//chapter 38\n",
"//Example 5\n",
"clc\n",
"//given\n",
"m_0=(4*%pi*10^-7)//in weber\n",
"e_0=(8.9*10^-12)\n",
"R=5*10^-2//meters\n",
"dEbydT=10^12\n",
"B=(0.5*m_0*e_0*R*dEbydT)\n",
"disp(' magnetic field in weber/m^2=')\n",
"disp(B)"
   ]
   }
,
{
		   "cell_type": "markdown",
		   "metadata": {},
		   "source": [
			"## Example 38.6: Calculation_of_current.sce"
		   ]
		  },
  {
"cell_type": "code",
	   "execution_count": null,
	   "metadata": {
	    "collapsed": true
	   },
	   "outputs": [],
"source": [
"//chapter 38\n",
"//Example 6\n",
"clc\n",
"//given\n",
"m_0=(4*%pi*10^-7)//in weber\n",
"e_0=(8.9*10^-12)\n",
"R=5*10^-2//meters\n",
"dEbydT=10^12\n",
"i_d=(e_0*%pi*R*R*dEbydT)\n",
"disp(' current in amp=')\n",
"disp(i_d)"
   ]
   }
],
"metadata": {
		  "kernelspec": {
		   "display_name": "Scilab",
		   "language": "scilab",
		   "name": "scilab"
		  },
		  "language_info": {
		   "file_extension": ".sce",
		   "help_links": [
			{
			 "text": "MetaKernel Magics",
			 "url": "https://github.com/calysto/metakernel/blob/master/metakernel/magics/README.md"
			}
		   ],
		   "mimetype": "text/x-octave",
		   "name": "scilab",
		   "version": "0.7.1"
		  }
		 },
		 "nbformat": 4,
		 "nbformat_minor": 0
}
