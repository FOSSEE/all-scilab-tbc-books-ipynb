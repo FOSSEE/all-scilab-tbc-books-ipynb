{
"cells": [
 {
		   "cell_type": "markdown",
	   "metadata": {},
	   "source": [
       "# Chapter 39: ELECTROMAGNETIC WAVES"
	   ]
	},
{
		   "cell_type": "markdown",
		   "metadata": {},
		   "source": [
			"## Example 39.6: Magnitude_of_electric_and_magnetic_field.sce"
		   ]
		  },
  {
"cell_type": "code",
	   "execution_count": null,
	   "metadata": {
	    "collapsed": true
	   },
	   "outputs": [],
"source": [
"//Example 6\n",
"//chapter 39\n",
"//clc()\n",
"r=1//in m\n",
"p=10^3//\n",
"m=4*%pi*10^-7//weber/amp-m\n",
"c=3*10^8\n",
"x=2*%pi\n",
"E_m=(1/r)*(sqrt((p*m*c)/x))\n",
"disp(E_m,'The value of E in volts/meter=')\n",
"B=E_m/c\n",
"disp(B,'B in weber/meter^2')"
   ]
   }
],
"metadata": {
		  "kernelspec": {
		   "display_name": "Scilab",
		   "language": "scilab",
		   "name": "scilab"
		  },
		  "language_info": {
		   "file_extension": ".sce",
		   "help_links": [
			{
			 "text": "MetaKernel Magics",
			 "url": "https://github.com/calysto/metakernel/blob/master/metakernel/magics/README.md"
			}
		   ],
		   "mimetype": "text/x-octave",
		   "name": "scilab",
		   "version": "0.7.1"
		  }
		 },
		 "nbformat": 4,
		 "nbformat_minor": 0
}
