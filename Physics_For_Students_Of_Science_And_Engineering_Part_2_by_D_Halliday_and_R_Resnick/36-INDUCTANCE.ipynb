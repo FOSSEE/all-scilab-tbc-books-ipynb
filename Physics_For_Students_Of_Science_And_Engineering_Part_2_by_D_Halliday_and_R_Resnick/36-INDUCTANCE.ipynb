{
"cells": [
 {
		   "cell_type": "markdown",
	   "metadata": {},
	   "source": [
       "# Chapter 36: INDUCTANCE"
	   ]
	},
{
		   "cell_type": "markdown",
		   "metadata": {},
		   "source": [
			"## Example 36.1: Inductance_of_a_toroid.sce"
		   ]
		  },
  {
"cell_type": "code",
	   "execution_count": null,
	   "metadata": {
	    "collapsed": true
	   },
	   "outputs": [],
"source": [
"//chapter 36\n",
"//example1\n",
"clc\n",
"//given\n",
"u0=4*%pi*10^-7//in weber/amp-m   Mu-not=u0\n",
"N=10^3//no.of turns\n",
"a=5*10^-2//im meter\n",
"b=10*10^-2 //in meter\n",
"h=1*10^-2// in metre\n",
"L=(u0*N^2*h)/(2*%pi)*log(b/a)\n",
"disp(L,'Inductance of a toroid of recyangular cross section in henry is')"
   ]
   }
,
{
		   "cell_type": "markdown",
		   "metadata": {},
		   "source": [
			"## Example 36.2: Time.sce"
		   ]
		  },
  {
"cell_type": "code",
	   "execution_count": null,
	   "metadata": {
	    "collapsed": true
	   },
	   "outputs": [],
"source": [
"//chapter 36\n",
"//example2\n",
"clc\n",
"//given\n",
"L=50 //inductance in henry\n",
"R=30 //resistance in ohms\n",
"t0=log(2)*(L/R)\n",
"disp(t0,'Time taken for the current to reach one-half of its final equilibrium in sec is')"
   ]
   }
,
{
		   "cell_type": "markdown",
		   "metadata": {},
		   "source": [
			"## Example 36.3: MAximum_Current_and_Energy_stored.sce"
		   ]
		  },
  {
"cell_type": "code",
	   "execution_count": null,
	   "metadata": {
	    "collapsed": true
	   },
	   "outputs": [],
"source": [
"//chapter 36\n",
"//example3\n",
"clc\n",
"//given\n",
"L=5 //inductance in henry\n",
"V=100 //emf in volts\n",
"R=20 //resistance in ohms\n",
"i=V/R\n",
"disp(i,'Maximum current in amp is')\n",
"U=(L*i^2)/2\n",
"disp(U,'Energy stored in the magnetic field in joules is')"
   ]
   }
,
{
		   "cell_type": "markdown",
		   "metadata": {},
		   "source": [
			"## Example 36.4: Rate_at_which_energy_is_stored_and_delivered_and_appeared.sce"
		   ]
		  },
  {
"cell_type": "code",
	   "execution_count": null,
	   "metadata": {
	    "collapsed": true
	   },
	   "outputs": [],
"source": [
"//chapter 36\n",
"//example4\n",
"clc\n",
"//given\n",
"L=3//inductance in henry\n",
"R=10 //resistance in ohm\n",
"V=3 //emf in volts\n",
"t=0.30//in sec\n",
"T=0.30 //inductive time constant in sec\n",
"//(a)\n",
"i=(V/R)*(1-exp(-t/T))\n",
"P1=V*i\n",
"disp(P1,'The rate at which energy is delivred by the battery in watt is')\n",
"//(b)\n",
"P2=i^2*R\n",
"disp(P2,'The rate at which energy appears as Joule heat in the resistor in watt is')\n",
"//(c)\n",
"disp('Let D=di/dt')\n",
"D=(V/L)*exp(-t/T)// in amp/sec\n",
"P3=L*i*D\n",
"disp(P3,'The desired rate at which energy is being stored in the magnetic field in watt is')"
   ]
   }
,
{
		   "cell_type": "markdown",
		   "metadata": {},
		   "source": [
			"## Example 36.6: Energy.sce"
		   ]
		  },
  {
"cell_type": "code",
	   "execution_count": null,
	   "metadata": {
	    "collapsed": true
	   },
	   "outputs": [],
"source": [
"//chapter 36\n",
"//example6\n",
"clc\n",
"//given\n",
"epsilon0=8.9*10^-12//in coul2/nt-m2\n",
"E=10^5//elelctric field in volts/meter\n",
"B=1 //magnetic field in weber/meter2\n",
"u0=4*%pi*10^-7//in weber/amp-m   Mu-not=u0\n",
"a=0.1 //side of the cube in meter\n",
"V0=a^3 //volume of the cube in meter3\n",
"//(a)\n",
"U1=epsilon0*E^2*V0/2 //in elelctric field\n",
"disp(U1,'(a)Energy required to set up in the given cube on edge in electric field in joules is')\n",
"//(b)\n",
"U2=(B^2/(2*u0))*V0\n",
"disp(U2,'(b)Energy required to set up in the given cube on edge in magnetic field in joules is')"
   ]
   }
],
"metadata": {
		  "kernelspec": {
		   "display_name": "Scilab",
		   "language": "scilab",
		   "name": "scilab"
		  },
		  "language_info": {
		   "file_extension": ".sce",
		   "help_links": [
			{
			 "text": "MetaKernel Magics",
			 "url": "https://github.com/calysto/metakernel/blob/master/metakernel/magics/README.md"
			}
		   ],
		   "mimetype": "text/x-octave",
		   "name": "scilab",
		   "version": "0.7.1"
		  }
		 },
		 "nbformat": 4,
		 "nbformat_minor": 0
}
