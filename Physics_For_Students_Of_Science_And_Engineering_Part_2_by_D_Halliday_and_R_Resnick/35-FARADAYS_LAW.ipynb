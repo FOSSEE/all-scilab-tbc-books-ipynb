{
"cells": [
 {
		   "cell_type": "markdown",
	   "metadata": {},
	   "source": [
       "# Chapter 35: FARADAYS LAW"
	   ]
	},
{
		   "cell_type": "markdown",
		   "metadata": {},
		   "source": [
			"## Example 35.1: Induced_EMF.sce"
		   ]
		  },
  {
"cell_type": "code",
	   "execution_count": null,
	   "metadata": {
	    "collapsed": true
	   },
	   "outputs": [],
"source": [
"//chapter 35\n",
"//example1\n",
"clc\n",
"//given\n",
"l=1.0 //length of solenoid in meter\n",
"r=3*10^-2 //radius of solenoid in meter\n",
"n=200*10^2 //number of turns in solenoid per meter\n",
"u0=4*%pi*10^-7 //in weber/amp-m\n",
"i=1.5 //current in amp\n",
"N=100 //no.of turns in a close packed coil placed at the center of solenoid\n",
"d=2*10^-2 //diameter of coil in meter\n",
"delta_T=0.050 //in sec\n",
"//(A)\n",
"B=u0*i*n\n",
"disp(B,'Magnetic field at center in wb/m2 is')\n",
"//(B)\n",
"A=%pi*(d/2)^2\n",
"Q=B*A\n",
"disp(Q,'Magnetic flux at the center of the solenoid in weber is')\n",
"delta_Q=Q-(-Q)\n",
"E=-(N*delta_Q/delta_T)\n",
"disp(E,'Induced EMF in volts is ')"
   ]
   }
,
{
		   "cell_type": "markdown",
		   "metadata": {},
		   "source": [
			"## Example 35.7: Induced_elelctric_field_and_EMF.sce"
		   ]
		  },
  {
"cell_type": "code",
	   "execution_count": null,
	   "metadata": {
	    "collapsed": true
	   },
	   "outputs": [],
"source": [
"//chapter 35\n",
"//example7\n",
"clc\n",
"//given\n",
"//refer to fig 35-16\n",
"B=2 //magnetic field in wb/m2\n",
"l=10*10^-2 //in m\n",
"v=1.0 //in m/sec\n",
"q=1.6*10^-19 //charge in coul\n",
"disp('Let S be the frame of reference fixed w.r.t  the magnet and Z be the frame of reference w.r.t the loop')\n",
"//(A)\n",
"E=v*B\n",
"disp(E,'(A)  Induced electric field in volt/m observed by Z')\n",
"//(B)\n",
"F=q*v*B\n",
"disp(F,'(B)  Force acting on charge carrier in nt w.r.t S is')\n",
"F1=q*E\n",
"disp(F1,'     Force acting on charge carrier in nt w.r.t Z is')\n",
"//(C)\n",
"emf1=B*l*v\n",
"disp(emf1,'(C)  Induced emf in volt observed by S is')\n",
"emf2=E*l\n",
"disp(emf2,'Induced emf in volt observed by Z is')"
   ]
   }
],
"metadata": {
		  "kernelspec": {
		   "display_name": "Scilab",
		   "language": "scilab",
		   "name": "scilab"
		  },
		  "language_info": {
		   "file_extension": ".sce",
		   "help_links": [
			{
			 "text": "MetaKernel Magics",
			 "url": "https://github.com/calysto/metakernel/blob/master/metakernel/magics/README.md"
			}
		   ],
		   "mimetype": "text/x-octave",
		   "name": "scilab",
		   "version": "0.7.1"
		  }
		 },
		 "nbformat": 4,
		 "nbformat_minor": 0
}
