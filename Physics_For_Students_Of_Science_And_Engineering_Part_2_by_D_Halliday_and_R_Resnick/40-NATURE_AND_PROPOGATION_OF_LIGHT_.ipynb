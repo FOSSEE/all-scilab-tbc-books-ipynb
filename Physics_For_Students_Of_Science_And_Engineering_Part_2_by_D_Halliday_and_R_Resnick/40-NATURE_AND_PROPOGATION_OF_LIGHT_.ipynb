{
"cells": [
 {
		   "cell_type": "markdown",
	   "metadata": {},
	   "source": [
       "# Chapter 40: NATURE AND PROPOGATION OF LIGHT "
	   ]
	},
{
		   "cell_type": "markdown",
		   "metadata": {},
		   "source": [
			"## Example 40.1: Force_and_energy_reflected.sce"
		   ]
		  },
  {
"cell_type": "code",
	   "execution_count": null,
	   "metadata": {
	    "collapsed": true
	   },
	   "outputs": [],
"source": [
"//chapter 40\n",
"//Example 1\n",
"//clc()\n",
"u=(10)*(1.0)*3600// in Joules\n",
"c=3*10^8// in m/sec\n",
"t=3600//in sec\n",
"disp('solution (a)')\n",
"disp(u,'energy reflected from mirror in joule=')\n",
"p=(2*u)/c\n",
"disp(p,'momentum after i hr illumination in kg-m/sec=')\n",
"disp('solution (b)')\n",
"f=p/t\n",
"disp(f,'force in newton=')"
   ]
   }
,
{
		   "cell_type": "markdown",
		   "metadata": {},
		   "source": [
			"## Example 40.2: Angular_speed.sce"
		   ]
		  },
  {
"cell_type": "code",
	   "execution_count": null,
	   "metadata": {
	    "collapsed": true
	   },
	   "outputs": [],
"source": [
"//chapter 40\n",
"// example 2\n",
"//clc()\n",
"theta=1/1440\n",
"c=3*10^8// in m/sec\n",
"l=8630 //in m\n",
"w=(c*theta)/(2*l)\n",
"disp(w,'Angular speed in rev/sec= ')"
   ]
   }
,
{
		   "cell_type": "markdown",
		   "metadata": {},
		   "source": [
			"## Example 40.3: Calculation_of_c.sce"
		   ]
		  },
  {
"cell_type": "code",
	   "execution_count": null,
	   "metadata": {
	    "collapsed": true
	   },
	   "outputs": [],
"source": [
"//chapter 40\n",
"//example 3\n",
"//clc()\n",
"l=15.6//in cm\n",
"n=8\n",
"lambda_g=(2*l)/n\n",
"disp(lambda_g,'lambda_g in cm=')\n",
"lambda=3.15//in cm\n",
"f=9.5*10^9//cycles/sec\n",
"c=lambda*f\n",
"disp(c,'value of c in m/sec=')"
   ]
   }
,
{
		   "cell_type": "markdown",
		   "metadata": {},
		   "source": [
			"## Example 40.4: Percentage_error.sce"
		   ]
		  },
  {
"cell_type": "code",
	   "execution_count": null,
	   "metadata": {
	    "collapsed": true
	   },
	   "outputs": [],
"source": [
"//Example 4\n",
"//chapter 4\n",
"//clc()\n",
"v_1=25000//miles/hr\n",
"u=25000//miles/hr\n",
"c=6.7*10^8// miles/hr\n",
"x=1+((v_1*u)/(c)^2)\n",
"v=(v_1+u)/x\n",
"disp(v,'Speed of light in miles/hour=')"
   ]
   }
],
"metadata": {
		  "kernelspec": {
		   "display_name": "Scilab",
		   "language": "scilab",
		   "name": "scilab"
		  },
		  "language_info": {
		   "file_extension": ".sce",
		   "help_links": [
			{
			 "text": "MetaKernel Magics",
			 "url": "https://github.com/calysto/metakernel/blob/master/metakernel/magics/README.md"
			}
		   ],
		   "mimetype": "text/x-octave",
		   "name": "scilab",
		   "version": "0.7.1"
		  }
		 },
		 "nbformat": 4,
		 "nbformat_minor": 0
}
