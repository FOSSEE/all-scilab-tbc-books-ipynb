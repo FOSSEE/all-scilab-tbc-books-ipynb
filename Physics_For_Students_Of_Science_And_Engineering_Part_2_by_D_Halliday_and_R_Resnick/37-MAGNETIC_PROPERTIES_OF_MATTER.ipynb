{
"cells": [
 {
		   "cell_type": "markdown",
	   "metadata": {},
	   "source": [
       "# Chapter 37: MAGNETIC PROPERTIES OF MATTER"
	   ]
	},
{
		   "cell_type": "markdown",
		   "metadata": {},
		   "source": [
			"## Example 37.2: Orbital_dipole_moment.sce"
		   ]
		  },
  {
"cell_type": "code",
	   "execution_count": null,
	   "metadata": {
	    "collapsed": true
	   },
	   "outputs": [],
"source": [
"//chapter 37\n",
"//example2\n",
"clc\n",
"//given\n",
"e=1.6*10^-19 //in coul\n",
"r=5.1*10^-11 //radius of hydrogen atom in meter\n",
"m=9.1*10^-31// mass of electron in kg\n",
"epsilon0=8.9*10^-12 //in coul2/nt-m2\n",
"p=((e^2)/4)*sqrt(r/(%pi*epsilon0*m))\n",
"disp(p,'Orbital dipole moment in amp-m2 is')"
   ]
   }
,
{
		   "cell_type": "markdown",
		   "metadata": {},
		   "source": [
			"## Example 37.4: Change_in_magnetic_moment.sce"
		   ]
		  },
  {
"cell_type": "code",
	   "execution_count": null,
	   "metadata": {
	    "collapsed": true
	   },
	   "outputs": [],
"source": [
"//chapter 37\n",
"//example4\n",
"clc\n",
"//given\n",
"e=1.6*10^-19 //in coul\n",
"r=5.1*10^-11 //radius of hydrogen atom in meter\n",
"m=9.1*10^-31// mass of electron in kg\n",
"epsilon0=8.9*10^-12 //in coul2/nt-m2\n",
"B=2 //in wb/m2\n",
"delta_p=(e^2*B*r^2)/(4*m)\n",
"disp(delta_p,'Change in Orbital dipole moment in amp-m2 is + 0r -')"
   ]
   }
,
{
		   "cell_type": "markdown",
		   "metadata": {},
		   "source": [
			"## Example 37.5: Precession_frequency.sce"
		   ]
		  },
  {
"cell_type": "code",
	   "execution_count": null,
	   "metadata": {
	    "collapsed": true
	   },
	   "outputs": [],
"source": [
"//chapter 37\n",
"//example5\n",
"clc\n",
"//given\n",
"u=1.4*10^-26 //in amp-m2\n",
"B=0.50 //wb/m2\n",
"Lp=0.53*10^-34 //in joule-sec\n",
"fp=u*B/(2*%pi*Lp)\n",
"disp(fp,'Precession frequency of phoyon in given magnetic field in cps is')"
   ]
   }
,
{
		   "cell_type": "markdown",
		   "metadata": {},
		   "source": [
			"## Example 37.6: EX37_6.sce"
		   ]
		  },
  {
"cell_type": "code",
	   "execution_count": null,
	   "metadata": {
	    "collapsed": true
	   },
	   "outputs": [],
"source": [
"//chapter 37\n",
"//example6\n",
"clc\n",
"//given\n",
"n=10*10^2 //turns/m\n",
"i=2 //in amp\n",
"B=1.0 //in wb/m\n",
"u0=4*%pi*10^-7 //in wb/amp-m\n",
"//(A)\n",
"H=n*i\n",
"disp(H,'(A)  Magnetic field strength in amp/m is')\n",
"//(B)\n",
"M=(B-u0*H)/u0\n",
"disp('(B)  Magnetisation is Zero when core is removed')\n",
"disp(M,'  Magnetisation when th ecore is replaced in amp/m')\n",
"//(C)\n",
"disp('(C)  Effective magnetizing current i=i(M,0)=M*(2*%pi*r0/N0)=M/n')\n",
"i=M/n\n",
"disp(i,'  Effective magnetizing current in amp is')\n",
"//D\n",
"Km=B/(u0*H)\n",
"disp(Km,'(D)  Permeability ')"
   ]
   }
],
"metadata": {
		  "kernelspec": {
		   "display_name": "Scilab",
		   "language": "scilab",
		   "name": "scilab"
		  },
		  "language_info": {
		   "file_extension": ".sce",
		   "help_links": [
			{
			 "text": "MetaKernel Magics",
			 "url": "https://github.com/calysto/metakernel/blob/master/metakernel/magics/README.md"
			}
		   ],
		   "mimetype": "text/x-octave",
		   "name": "scilab",
		   "version": "0.7.1"
		  }
		 },
		 "nbformat": 4,
		 "nbformat_minor": 0
}
