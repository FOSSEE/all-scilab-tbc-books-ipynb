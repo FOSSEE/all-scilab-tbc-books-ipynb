{
"cells": [
 {
		   "cell_type": "markdown",
	   "metadata": {},
	   "source": [
       "# Chapter 44: DIFFRACTION"
	   ]
	},
{
		   "cell_type": "markdown",
		   "metadata": {},
		   "source": [
			"## Example 44.1: Calculation_of_wavelength.sce"
		   ]
		  },
  {
"cell_type": "code",
	   "execution_count": null,
	   "metadata": {
	    "collapsed": true
	   },
	   "outputs": [],
"source": [
"//example 1\n",
"//chapter 44\n",
"//clc()\n",
"m=1\n",
"lambda=6500//in A\n",
"a=(m*lambda)/sind(30)\n",
"disp(a,'a in A=')"
   ]
   }
,
{
		   "cell_type": "markdown",
		   "metadata": {},
		   "source": [
			"## Example 44.2: Calculation_of_wavelength.sce"
		   ]
		  },
  {
"cell_type": "code",
	   "execution_count": null,
	   "metadata": {
	    "collapsed": true
	   },
	   "outputs": [],
"source": [
"//Example 2\n",
"//Chapter 44\n",
"lambda=6500\n",
"lambda_1=lambda/1.5\n",
"disp(lambda_1,'wavelength in A=')"
   ]
   }
,
{
		   "cell_type": "markdown",
		   "metadata": {},
		   "source": [
			"## Example 44.5: Current.sce"
		   ]
		  },
  {
"cell_type": "code",
	   "execution_count": null,
	   "metadata": {
	    "collapsed": true
	   },
	   "outputs": [],
"source": [
"//chapter 44\n",
"//Example 5\n",
"clc\n",
"//given\n",
"m_0=(4*%pi*10^-7)//in weber\n",
"e_0=(8.9*10^-12)\n",
"R=5*10^-2//meters\n",
"dEbydT=10^12\n",
"i_d=(e_0*%pi*R*R*dEbydT)\n",
"disp(' current in amp=')\n",
"disp(i_d)"
   ]
   }
,
{
		   "cell_type": "markdown",
		   "metadata": {},
		   "source": [
			"## Example 44.7: delta_y.sce"
		   ]
		  },
  {
"cell_type": "code",
	   "execution_count": null,
	   "metadata": {
	    "collapsed": true
	   },
	   "outputs": [],
"source": [
"//chapter 44\n",
"//example 7\n",
"//given\n",
"//clc()\n",
"lambda=480*10^-9//in m\n",
"d=0.10*10^-3//in m\n",
"D=50*10^-2// in m\n",
"a=0.02*10^-3\n",
"delta_y=(lambda*D)/d\n",
"disp('solution (a)')\n",
"disp(delta_y,'D in m=')"
   ]
   }
],
"metadata": {
		  "kernelspec": {
		   "display_name": "Scilab",
		   "language": "scilab",
		   "name": "scilab"
		  },
		  "language_info": {
		   "file_extension": ".sce",
		   "help_links": [
			{
			 "text": "MetaKernel Magics",
			 "url": "https://github.com/calysto/metakernel/blob/master/metakernel/magics/README.md"
			}
		   ],
		   "mimetype": "text/x-octave",
		   "name": "scilab",
		   "version": "0.7.1"
		  }
		 },
		 "nbformat": 4,
		 "nbformat_minor": 0
}
