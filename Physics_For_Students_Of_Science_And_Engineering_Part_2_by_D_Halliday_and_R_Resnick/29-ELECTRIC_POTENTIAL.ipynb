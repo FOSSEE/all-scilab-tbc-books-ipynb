{
"cells": [
 {
		   "cell_type": "markdown",
	   "metadata": {},
	   "source": [
       "# Chapter 29: ELECTRIC POTENTIAL"
	   ]
	},
{
		   "cell_type": "markdown",
		   "metadata": {},
		   "source": [
			"## Example 29.3: Magnitude_of_an_isolated_positive_point_charge.sce"
		   ]
		  },
  {
"cell_type": "code",
	   "execution_count": null,
	   "metadata": {
	    "collapsed": true
	   },
	   "outputs": [],
"source": [
"//chapter 29\n",
"//example 3\n",
"clc\n",
"//given\n",
"V=100 //electric potential in volts\n",
"r=10*10^-2 //in meters\n",
"epsilon0=8.85*10^-12 //coul2/nt-m2\n",
"disp('Potential due to a point charge is V=q/4*pi*epislon0*r')\n",
"q=V*4*%pi*epsilon0*r\n",
"disp(q,'Magnitude of positive point charge in coul is ')"
   ]
   }
,
{
		   "cell_type": "markdown",
		   "metadata": {},
		   "source": [
			"## Example 29.4: Electric_potential_at_the_surface_of_a_gold_nucleus.sce"
		   ]
		  },
  {
"cell_type": "code",
	   "execution_count": null,
	   "metadata": {
	    "collapsed": true
	   },
	   "outputs": [],
"source": [
"//chapter 29\n",
"//example 4\n",
"clc\n",
"//given\n",
"r=6.6*10^-15 //radius of the gold nucleus in meter\n",
"Z=79 //gold atomic number\n",
"e=1.6*10^-19 //charge in coul\n",
"q=Z*e //total positive charge in coul\n",
"epsilon0=8.85*10^-12 //coul2/nt-m2\n",
"V=q/(4*%pi*epsilon0*r)\n",
"disp(V,'Electric potential at the surface of the nucleus in volts is')"
   ]
   }
,
{
		   "cell_type": "markdown",
		   "metadata": {},
		   "source": [
			"## Example 29.5: Potential_at_the_center_of_the_square.sce"
		   ]
		  },
  {
"cell_type": "code",
	   "execution_count": null,
	   "metadata": {
	    "collapsed": true
	   },
	   "outputs": [],
"source": [
"//chapter 29\n",
"//example 5\n",
"clc\n",
"//given\n",
"q1=1.0*10^-8 //in coul\n",
"q2=-2.0*10^-8 //in coul\n",
"q3=3.0*10^-8 //in coul\n",
"q4=2.0*10^-8 //in coul\n",
"a=1 //side of square in meter\n",
"epsilon0=8.85*10^-12 //coul2/nt-m2\n",
"//refer to the fig 29.7\n",
"r=a/sqrt(2) //distance of charges from centre in meter\n",
"V=(q1+q2+q3+q4)/(4*%pi*epsilon0*r)\n",
"disp(V,'Potential at the center of the square in volts is')"
   ]
   }
,
{
		   "cell_type": "markdown",
		   "metadata": {},
		   "source": [
			"## Example 29.8: Mutual_potential_energy.sce"
		   ]
		  },
  {
"cell_type": "code",
	   "execution_count": null,
	   "metadata": {
	    "collapsed": true
	   },
	   "outputs": [],
"source": [
"//chapter 29\n",
"//example 8\n",
"clc\n",
"//given\n",
"q1=1.6*10^-19 //charge in coul\n",
"q2=1.6*10^-19 //charge in coul\n",
"r=6.0*10^-15 //seperation b/w two protons in meter\n",
"epsilon0=8.85*10^-12 //coul2/nt-m2\n",
"U=(q1*q2)/(4*%pi*epsilon0*r)\n",
"disp('Mutual electric potential energy of two proton in joules is')\n",
"disp(U)\n",
"V=U/q1\n",
"disp(V,'Mutual electric potential energy of two proton in ev is')"
   ]
   }
,
{
		   "cell_type": "markdown",
		   "metadata": {},
		   "source": [
			"## Example 29.9: Mutual_potential_energy.sce"
		   ]
		  },
  {
"cell_type": "code",
	   "execution_count": null,
	   "metadata": {
	    "collapsed": true
	   },
	   "outputs": [],
"source": [
"//chapter 29\n",
"//example 9\n",
"clc\n",
"//given\n",
"q=1.0*10^-7 //charge in coul\n",
"a=10*10^-2 //side of triangle in meter\n",
"q1=q\n",
"q2=-4*q\n",
"q3=2*q\n",
"epsilon0=8.85*10^-12 //coul2/nt-m2\n",
"disp('Total energy is the sum of each pair of particles ')\n",
"U=(1/(4*%pi*epsilon0))*(((q1*q2)/a)+((q1*q3)/a)+((q2*q3)/a))\n",
"disp(U,'Mutual potential energy of the particles in joules is')"
   ]
   }
],
"metadata": {
		  "kernelspec": {
		   "display_name": "Scilab",
		   "language": "scilab",
		   "name": "scilab"
		  },
		  "language_info": {
		   "file_extension": ".sce",
		   "help_links": [
			{
			 "text": "MetaKernel Magics",
			 "url": "https://github.com/calysto/metakernel/blob/master/metakernel/magics/README.md"
			}
		   ],
		   "mimetype": "text/x-octave",
		   "name": "scilab",
		   "version": "0.7.1"
		  }
		 },
		 "nbformat": 4,
		 "nbformat_minor": 0
}
