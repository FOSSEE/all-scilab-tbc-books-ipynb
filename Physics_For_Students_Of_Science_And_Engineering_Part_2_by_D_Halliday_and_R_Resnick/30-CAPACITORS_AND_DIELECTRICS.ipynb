{
"cells": [
 {
		   "cell_type": "markdown",
	   "metadata": {},
	   "source": [
       "# Chapter 30: CAPACITORS AND DIELECTRICS"
	   ]
	},
{
		   "cell_type": "markdown",
		   "metadata": {},
		   "source": [
			"## Example 30.1: Plate_area.sce"
		   ]
		  },
  {
"cell_type": "code",
	   "execution_count": null,
	   "metadata": {
	    "collapsed": true
	   },
	   "outputs": [],
"source": [
"//chapter 30\n",
"//example 1\n",
"clc\n",
"//given\n",
"C=1.0 //capacitance in farad\n",
"d=1.0*10^-3 //separation b/w plates in meter\n",
"epsilon0=8.85*10^-12 //coul2/nt-m2\n",
"A=d*C/epsilon0\n",
"disp(A,'Plate area in square meter is')"
   ]
   }
,
{
		   "cell_type": "markdown",
		   "metadata": {},
		   "source": [
			"## Example 30.5: EX30_5.sce"
		   ]
		  },
  {
"cell_type": "code",
	   "execution_count": null,
	   "metadata": {
	    "collapsed": true
	   },
	   "outputs": [],
"source": [
"//chapter 30\n",
"//example 5\n",
"clc\n",
"//given\n",
"epsilon0=8.85*10^-12 //coul2/nt-m2\n",
"A=100*10^-4//area of the plate in square meter\n",
"d=1*10^-2 //separation b/w plates in meter\n",
"b=5*10^-3 //thickness of dielectric lab in meter\n",
"V0=100//in volts\n",
"k=7\n",
"//(a)\n",
"C0=epsilon0*A/d\n",
"disp(C0,'(a)Capacitance before the slab is inserted in farad is')\n",
"//(b)\n",
"q=C0*V0\n",
"disp(q,'(b)Free charge in coul is')\n",
"//(c)\n",
"E0=q/(epsilon0*A)\n",
"disp(E0,'(c)Electric field strength in the gap in volts/meter is')\n",
"//(d)\n",
"E=q/(k*epsilon0*A)\n",
"disp(E,'(d)Electric field strength in the dielectric in volts/meter is')\n",
"//(e)\n",
"//Refer to fig30-12\n",
"V=E0*(d-b)+E*b\n",
"disp(V,'(e)Potential difference between the plates in volts is')\n",
"//(f)\n",
"C=q/V\n",
"disp(C,'Capacitance with the slab in place in farads is')"
   ]
   }
,
{
		   "cell_type": "markdown",
		   "metadata": {},
		   "source": [
			"## Example 30.6: EX30_6.sce"
		   ]
		  },
  {
"cell_type": "code",
	   "execution_count": null,
	   "metadata": {
	    "collapsed": true
	   },
	   "outputs": [],
"source": [
"//chapter 30\n",
"//example 6\n",
"clc\n",
"//given\n",
"epsilon0=8.85*10^-12 //coul2/nt-m2\n",
"A=100*10^-4//area of the plate in square meter\n",
"d=1*10^-2 //separation b/w plates in meter\n",
"V0=100//in volts\n",
"E0=1*10^4 //Electric field in the air gap in volts/meter\n",
"k=7\n",
"k0=1\n",
"E=1.43*10^3 //in volts/metre\n",
"D=k*E*epsilon0\n",
"P=epsilon0*(k-1)*E\n",
"//(a)\n",
"disp(D,'(a)Electric displacement in dielectric in coul/square metre is ')\n",
"disp(P,'Electric polarisation in dielectric in coul/square meter is')\n",
"//(b)\n",
"D0=k0*epsilon0*E0\n",
"disp(D0,'(b)Electric displacement in air gap in coul/square metre is ')\n",
"P0=epsilon0*(k0-1)*E0\n",
"disp(P0,'Electric polarisation in air gap in coul/square meter is')"
   ]
   }
],
"metadata": {
		  "kernelspec": {
		   "display_name": "Scilab",
		   "language": "scilab",
		   "name": "scilab"
		  },
		  "language_info": {
		   "file_extension": ".sce",
		   "help_links": [
			{
			 "text": "MetaKernel Magics",
			 "url": "https://github.com/calysto/metakernel/blob/master/metakernel/magics/README.md"
			}
		   ],
		   "mimetype": "text/x-octave",
		   "name": "scilab",
		   "version": "0.7.1"
		  }
		 },
		 "nbformat": 4,
		 "nbformat_minor": 0
}
