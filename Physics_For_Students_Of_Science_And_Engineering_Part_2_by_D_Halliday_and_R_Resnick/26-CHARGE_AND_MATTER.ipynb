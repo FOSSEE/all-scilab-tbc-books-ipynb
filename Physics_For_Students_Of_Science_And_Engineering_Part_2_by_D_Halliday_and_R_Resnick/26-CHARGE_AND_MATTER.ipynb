{
"cells": [
 {
		   "cell_type": "markdown",
	   "metadata": {},
	   "source": [
       "# Chapter 26: CHARGE AND MATTER"
	   ]
	},
{
		   "cell_type": "markdown",
		   "metadata": {},
		   "source": [
			"## Example 26.1: Magnitude_of_total_charges_in_a_copper_penny.sce"
		   ]
		  },
  {
"cell_type": "code",
	   "execution_count": null,
	   "metadata": {
	    "collapsed": true
	   },
	   "outputs": [],
"source": [
"//chapter26\n",
"//Example 1.1\n",
"clc\n",
"m=3.1 //mass of copper penny in grams\n",
"e=4.6*10^-18 //charge in coulombs\n",
"N0=6*10^23 //avogadro's number atoms/mole\n",
"M=64 //molecular weight of copper in gm/mole\n",
"//Calculation\n",
"N=(N0*m)/M;  //No.of copper atoms in penny\n",
"q=N*e; //magnitude of the charges in coulombs\n",
"disp(q,'magnitude of the charges in coul is')"
   ]
   }
,
{
		   "cell_type": "markdown",
		   "metadata": {},
		   "source": [
			"## Example 26.2: Seperation_between_total_positive_and_negative_charges.sce"
		   ]
		  },
  {
"cell_type": "code",
	   "execution_count": null,
	   "metadata": {
	    "collapsed": true
	   },
	   "outputs": [],
"source": [
"//Chapter26\n",
"//Example 2\n",
"clc\n",
"F=4.5 //Force of attraction in nt\n",
"q=1.3*10^5 //total charge in coul\n",
"r=q*sqrt((9*10^9)/F);\n",
"disp(r,'Seperation between total positive and negative charges in meters is')"
   ]
   }
,
{
		   "cell_type": "markdown",
		   "metadata": {},
		   "source": [
			"## Example 26.3: Force_acting_on_charge_q1.sce"
		   ]
		  },
  {
"cell_type": "code",
	   "execution_count": null,
	   "metadata": {
	    "collapsed": true
	   },
	   "outputs": [],
"source": [
"//Chapter26\n",
"//example 3\n",
"clc\n",
"//given three charges q1,q2,q3\n",
"q1=-1.0*10^-6 //charge in coul\n",
"q2=+3.0*10^-6 \n",
"q3=-2.0*10^-6\n",
"r12=15*10^-2 //seperation between q1 and q2 in m\n",
"r13=10*10^-2 // seperation between q1 and q3 in m\n",
"angle=%pi/6 //in degrees\n",
"F12=(9.0*10^9)*q1*q2/(r12^2) //in nt\n",
"F13=(9.0*10^9)*q1*q3/(r13^2) //in nt\n",
"F12x=-F12 ; //ignoring signs of charges\n",
"F13x=F13*sin(angle);\n",
"F1x=F12x+F13x\n",
"F12y=0 //from fig.263\n",
"F13y=-F13*cos(angle);\n",
"F1y=F12y+F13y //in nt\n",
"disp(F1x,'X component of resultant force acting on q1 in nt is')\n",
"disp(F1y,'Y component of resultant force acting on q1 in nt is')"
   ]
   }
,
{
		   "cell_type": "markdown",
		   "metadata": {},
		   "source": [
			"## Example 26.4: Electrical_and_Gravitational_force_between_two_particles.sce"
		   ]
		  },
  {
"cell_type": "code",
	   "execution_count": null,
	   "metadata": {
	    "collapsed": true
	   },
	   "outputs": [],
"source": [
"//chapter26\n",
"//Example 4\n",
"clc\n",
"r=5.3*10^-11 //distance b/w elecctron and proton in the hydrogen atom in meter\n",
"e=1.6*10^-19 //charge in coul\n",
"G=6.7*10^-11 //gravitatinal constant in nt-m2/kg2\n",
"m1=9.1*10^-31 //mass of electron in kg\n",
"m2=1.7*10^-27 //mass of proton in kg\n",
"F1=(9*10^9)*e*e/(r^2) //coulmbs law\n",
"F2=G*m1*m2/(r^2) //gravitational force\n",
"disp(F1,'Coulomb force in nt is')\n",
"disp(F2,'Gravitational force in nt is')"
   ]
   }
,
{
		   "cell_type": "markdown",
		   "metadata": {},
		   "source": [
			"## Example 26.5: Repulsive_force_betwwen_two_protons_in_a_nucleus_of_iron.sce"
		   ]
		  },
  {
"cell_type": "code",
	   "execution_count": null,
	   "metadata": {
	    "collapsed": true
	   },
	   "outputs": [],
"source": [
"//chapter 26\n",
"//Example 5\n",
"clc\n",
"r=4*10^-15 //separation b/w proton annd nucleus in iron in meters\n",
"q=1.6*10^-19 //charge in coul\n",
"F=(9*10^9)*(q^2)/(r^2); //coulombs law\n",
"printf('Repulsive coulomb force F=%d nt',F)"
   ]
   }
],
"metadata": {
		  "kernelspec": {
		   "display_name": "Scilab",
		   "language": "scilab",
		   "name": "scilab"
		  },
		  "language_info": {
		   "file_extension": ".sce",
		   "help_links": [
			{
			 "text": "MetaKernel Magics",
			 "url": "https://github.com/calysto/metakernel/blob/master/metakernel/magics/README.md"
			}
		   ],
		   "mimetype": "text/x-octave",
		   "name": "scilab",
		   "version": "0.7.1"
		  }
		 },
		 "nbformat": 4,
		 "nbformat_minor": 0
}
