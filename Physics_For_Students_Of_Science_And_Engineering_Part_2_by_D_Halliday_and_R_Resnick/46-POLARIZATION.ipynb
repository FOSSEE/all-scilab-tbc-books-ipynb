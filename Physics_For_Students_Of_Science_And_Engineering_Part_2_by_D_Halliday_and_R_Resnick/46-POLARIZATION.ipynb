{
"cells": [
 {
		   "cell_type": "markdown",
	   "metadata": {},
	   "source": [
       "# Chapter 46: POLARIZATION"
	   ]
	},
{
		   "cell_type": "markdown",
		   "metadata": {},
		   "source": [
			"## Example 46.1: Calculation_of_theta.sce"
		   ]
		  },
  {
"cell_type": "code",
	   "execution_count": null,
	   "metadata": {
	    "collapsed": true
	   },
	   "outputs": [],
"source": [
"//example 1\n",
"//chapter 46\n",
"theta=acosd(1/sqrt(2))\n",
"disp(180-theta,'Polarization angle theta=')"
   ]
   }
,
{
		   "cell_type": "markdown",
		   "metadata": {},
		   "source": [
			"## Example 46.2: Angle_of_refraction.sce"
		   ]
		  },
  {
"cell_type": "code",
	   "execution_count": null,
	   "metadata": {
	    "collapsed": true
	   },
	   "outputs": [],
"source": [
"//example 2\n",
"// Chapter 46\n",
"theta_p= atand(1.5)\n",
"disp(theta_p,'theta_p in degrees')\n",
"sin_theta_r= sind(theta_p)/1.5\n",
"theta_r=asind(sin_theta_r)\n",
"disp(theta_r,'angle of refraction fron snells law in degrees=')"
   ]
   }
,
{
		   "cell_type": "markdown",
		   "metadata": {},
		   "source": [
			"## Example 46.3: Thickness_of_slab.sce"
		   ]
		  },
  {
"cell_type": "code",
	   "execution_count": null,
	   "metadata": {
	    "collapsed": true
	   },
	   "outputs": [],
"source": [
"//Example 3\n",
"//chapter 46\n",
"// from the equation\n",
"lambda=5890//A\n",
"n_e=1.553\n",
"n_o=1.544\n",
"s=(n_e)-(n_o)\n",
"x=(lambda)/(4*s)\n",
"//textbook answer is wrong\n",
"disp(x,'The value of x in m=')"
   ]
   }
],
"metadata": {
		  "kernelspec": {
		   "display_name": "Scilab",
		   "language": "scilab",
		   "name": "scilab"
		  },
		  "language_info": {
		   "file_extension": ".sce",
		   "help_links": [
			{
			 "text": "MetaKernel Magics",
			 "url": "https://github.com/calysto/metakernel/blob/master/metakernel/magics/README.md"
			}
		   ],
		   "mimetype": "text/x-octave",
		   "name": "scilab",
		   "version": "0.7.1"
		  }
		 },
		 "nbformat": 4,
		 "nbformat_minor": 0
}
