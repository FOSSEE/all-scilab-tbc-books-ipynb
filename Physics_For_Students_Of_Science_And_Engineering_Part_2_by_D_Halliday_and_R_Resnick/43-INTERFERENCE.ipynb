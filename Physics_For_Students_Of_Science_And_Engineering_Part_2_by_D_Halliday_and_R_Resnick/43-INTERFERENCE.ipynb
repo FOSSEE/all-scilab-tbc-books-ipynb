{
"cells": [
 {
		   "cell_type": "markdown",
	   "metadata": {},
	   "source": [
       "# Chapter 43: INTERFERENCE"
	   ]
	},
{
		   "cell_type": "markdown",
		   "metadata": {},
		   "source": [
			"## Example 43.1: Angular_position_of_first_minimum.sce"
		   ]
		  },
  {
"cell_type": "code",
	   "execution_count": null,
	   "metadata": {
	    "collapsed": true
	   },
	   "outputs": [],
"source": [
"//Example\n",
"//chapter 43\n",
"//given\n",
"m=1\n",
"lambda=546*10^-9\n",
"d=0.10*10^-3//in m\n",
"sin_theta=((m-0.5)*lambda)/(d)\n",
"disp(sin_theta,'sin theta =')\n",
"theta=asind(sin_theta)\n",
"disp(theta,'angle in degree=')"
   ]
   }
,
{
		   "cell_type": "markdown",
		   "metadata": {},
		   "source": [
			"## Example 43.2: Linear_distance.sce"
		   ]
		  },
  {
"cell_type": "code",
	   "execution_count": null,
	   "metadata": {
	    "collapsed": true
	   },
	   "outputs": [],
"source": [
"//Example 2\n",
"//chapter 43\n",
"delta=546*10^-9//in meter\n",
"D=20*10^-2//in meter\n",
"d=0.10*10^-3///in meter\n",
"delta_y=(delta*D)/d\n",
"disp(delta_y,'Linear distence in meter=')"
   ]
   }
,
{
		   "cell_type": "markdown",
		   "metadata": {},
		   "source": [
			"## Example 43.4: Refractio.sce"
		   ]
		  },
  {
"cell_type": "code",
	   "execution_count": null,
	   "metadata": {
	    "collapsed": true
	   },
	   "outputs": [],
"source": [
"//Example 4\n",
"//chapter 43\n",
"d=3200//in A\n",
"n=1.33\n",
"for m=1:2\n",
"    lambda_max=(2*d*n)/(m+0.5)\n",
"    lambda_min=(8500/m)\n",
"    disp(m, 'when m=')\n",
"    disp(lambda_max,'lambda_max=')\n",
"    disp(lambda_min,'lambda_min=')\n",
"end"
   ]
   }
,
{
		   "cell_type": "markdown",
		   "metadata": {},
		   "source": [
			"## Example 43.5: Refractio.sce"
		   ]
		  },
  {
"cell_type": "code",
	   "execution_count": null,
	   "metadata": {
	    "collapsed": true
	   },
	   "outputs": [],
"source": [
"//Example 5\n",
"//chapter 43\n",
"//clc()\n",
"lambda=5000//in A\n",
"n=1.38\n",
"for m=0:3\n",
"    disp(m,'when m=')\n",
"    d=((m+0.5)*lambda)/(2*n)\n",
"    disp(d,'d in A=')\n",
"end"
   ]
   }
],
"metadata": {
		  "kernelspec": {
		   "display_name": "Scilab",
		   "language": "scilab",
		   "name": "scilab"
		  },
		  "language_info": {
		   "file_extension": ".sce",
		   "help_links": [
			{
			 "text": "MetaKernel Magics",
			 "url": "https://github.com/calysto/metakernel/blob/master/metakernel/magics/README.md"
			}
		   ],
		   "mimetype": "text/x-octave",
		   "name": "scilab",
		   "version": "0.7.1"
		  }
		 },
		 "nbformat": 4,
		 "nbformat_minor": 0
}
