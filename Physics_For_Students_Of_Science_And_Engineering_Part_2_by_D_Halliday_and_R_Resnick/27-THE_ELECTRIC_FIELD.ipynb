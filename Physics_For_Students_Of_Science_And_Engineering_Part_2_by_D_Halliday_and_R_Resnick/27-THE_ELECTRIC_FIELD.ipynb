{
"cells": [
 {
		   "cell_type": "markdown",
	   "metadata": {},
	   "source": [
       "# Chapter 27: THE ELECTRIC FIELD"
	   ]
	},
{
		   "cell_type": "markdown",
		   "metadata": {},
		   "source": [
			"## Example 27.11: Torque_and_work_done_by_external_agent_on_electric_dipole.sce"
		   ]
		  },
  {
"cell_type": "code",
	   "execution_count": null,
	   "metadata": {
	    "collapsed": true
	   },
	   "outputs": [],
"source": [
"//chapter 27\n",
"//Example 11\n",
"clc\n",
"//Given\n",
"q=1.0*10^-6 //magnitude of two opposite charges of a electric dipole in coul\n",
"d=2.0*10^-2 // seperation b/w charges in m\n",
"E=1.0*10^5 //external field in nt/coul\n",
"//calculations\n",
"//(a)Max torque if found when theta=90 degrees\n",
"//Torque =pEsin(theta)\n",
"p=q*d //electric dipole moment\n",
"T=p*E*sin(%pi/2)\n",
"disp('(a)Maximum torque exerted by the fied in nt-m is')\n",
"disp(T)\n",
"//(b)work done by the external agent is the potential energy b/w the positions theta=180 and 0 degree\n",
"W=(-p*E*cos(%pi))-(-p*E*cos(0))\n",
"disp('(b) work done by the external agent to turn dipole end for end in joule is ')\n",
"disp(W)"
   ]
   }
,
{
		   "cell_type": "markdown",
		   "metadata": {},
		   "source": [
			"## Example 27.1: Electric_field_strength.sce"
		   ]
		  },
  {
"cell_type": "code",
	   "execution_count": null,
	   "metadata": {
	    "collapsed": true
	   },
	   "outputs": [],
"source": [
"//chapter27\n",
"//Example 1\n",
"clc\n",
"m=9.1*10^-31 //mass of electron in kg\n",
"g=9.8 //acceleration due to gravity in m/s\n",
"q=1.6*10^-19 //charge of electron in coul\n",
"disp('Electric field strength E=F/q where F=mg')\n",
"E=m*g/q\n",
"disp(E,'electric field strength in nt/coul is')"
   ]
   }
,
{
		   "cell_type": "markdown",
		   "metadata": {},
		   "source": [
			"## Example 27.4: EX27_4.sce"
		   ]
		  },
  {
"cell_type": "code",
	   "execution_count": null,
	   "metadata": {
	    "collapsed": true
	   },
	   "outputs": [],
"source": [
"//chapter27\n",
"//example 4\n",
"clc\n",
"//given\n",
"q1=1.0*10^-6 //in coul\n",
"q2=2.0*10^-6 //in coul\n",
"l=10 //sepearation b/w q1 and q2 in cm\n",
"disp('for the electric field strength to be zero the point should lie between the charges where E1=E2')\n",
"//'Refer to the fig 27.9'\n",
"//E1=electric fied strength due to q1\n",
"//E2=electric fied strength due to q2\n",
"disp('E1=E2 which implies q1/4πϵx2 = q2/4πϵ(l-x)2')\n",
"x=l/(1+sqrt(q2/q1))\n",
"printf('Electric field strength is zero at x=%f cm',x)"
   ]
   }
,
{
		   "cell_type": "markdown",
		   "metadata": {},
		   "source": [
			"## Example 27.9: Deflection_of_electron.sce"
		   ]
		  },
  {
"cell_type": "code",
	   "execution_count": null,
	   "metadata": {
	    "collapsed": true
	   },
	   "outputs": [],
"source": [
"//chapter27\n",
"//example 9\n",
"clc\n",
"//given\n",
"e=1.6*10^-19 //charge in coul\n",
"E=1.2*10^4 //electric field in nt/coul\n",
"x=1.5*10^-2 //length of deflecting assembly in m\n",
"K0=3.2*10^-16 //kinetic energy of electron in joule\n",
"//calculation\n",
"y=e*E*x^2/(4*K0)\n",
"disp(y,'Corresponding deflection in meters is')"
   ]
   }
],
"metadata": {
		  "kernelspec": {
		   "display_name": "Scilab",
		   "language": "scilab",
		   "name": "scilab"
		  },
		  "language_info": {
		   "file_extension": ".sce",
		   "help_links": [
			{
			 "text": "MetaKernel Magics",
			 "url": "https://github.com/calysto/metakernel/blob/master/metakernel/magics/README.md"
			}
		   ],
		   "mimetype": "text/x-octave",
		   "name": "scilab",
		   "version": "0.7.1"
		  }
		 },
		 "nbformat": 4,
		 "nbformat_minor": 0
}
