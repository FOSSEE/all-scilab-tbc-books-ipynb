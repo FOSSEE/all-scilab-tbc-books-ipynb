{
"cells": [
 {
		   "cell_type": "markdown",
	   "metadata": {},
	   "source": [
       "# Chapter 34: AMPERES LAW"
	   ]
	},
{
		   "cell_type": "markdown",
		   "metadata": {},
		   "source": [
			"## Example 34.3: Distance.sce"
		   ]
		  },
  {
"cell_type": "code",
	   "execution_count": null,
	   "metadata": {
	    "collapsed": true
	   },
	   "outputs": [],
"source": [
"//chapter 34\n",
"//example3\n",
"clc\n",
"//given\n",
"i1=100 //in amp\n",
"i2=20 //in amp\n",
"W=0.073 //weight of second wire W=F/l in nt/m\n",
"u0=4*%pi*10^-7 //in weber/amp-m\n",
"//calculations\n",
"d=u0*i1*i2/(2*%pi*W)\n",
"disp(d,'seperation between two wires in metres')"
   ]
   }
,
{
		   "cell_type": "markdown",
		   "metadata": {},
		   "source": [
			"## Example 34.5: Magnetic_field_and_Magnetic_flux.sce"
		   ]
		  },
  {
"cell_type": "code",
	   "execution_count": null,
	   "metadata": {
	    "collapsed": true
	   },
	   "outputs": [],
"source": [
"//chapter 34\n",
"//example5\n",
"clc\n",
"//given\n",
"l=1.0 //length of solenoid in meter\n",
"d=3*10^-2 //diameter of solenoid in meter\n",
"n=5*850 //number of layers and turns of wire\n",
"u0=4*%pi*10^-7 //in weber/amp-m\n",
"i0=5.0 //current in amp\n",
"//(A)\n",
"B=u0*i0*n\n",
"disp(B,'Magnetic field at center in wb/m2 is')\n",
"//(B)\n",
"A=%pi*(d/2)^2\n",
"Q=B*A\n",
"disp(Q,'Magnetic flux at the center of the solenoid in weber is')"
   ]
   }
,
{
		   "cell_type": "markdown",
		   "metadata": {},
		   "source": [
			"## Example 34.9: Magnetic_field_and_Magnetic_dipole_moment.sce"
		   ]
		  },
  {
"cell_type": "code",
	   "execution_count": null,
	   "metadata": {
	    "collapsed": true
	   },
	   "outputs": [],
"source": [
"//chapter 34\n",
"//example9\n",
"clc\n",
"//given\n",
"e=1.6*10^-19 //in coul\n",
"R=5.1*10^-11 //radius of th enucleus in meter\n",
"f=6.8*10^15 //frequency with which elecron circulates in rev/sec\n",
"u0=4*%pi*10^-7 //in weber/amp-m\n",
"x=0 //x is any point on the orbit, since at center x=0\n",
"//(A)\n",
"i=e*f\n",
"B=u0*i*R^2*0.5/((R^2+x^2)^(3/2))\n",
"disp(B,'(A)  Magnetic field at the center of the orbit in wb/m2')\n",
"N=1 //no.of turns\n",
"A=%pi*R^2\n",
"U=N*i*A\n",
"disp(U,'(B)  Equivalent magnetic dipole moment in amp-m2 is ')"
   ]
   }
],
"metadata": {
		  "kernelspec": {
		   "display_name": "Scilab",
		   "language": "scilab",
		   "name": "scilab"
		  },
		  "language_info": {
		   "file_extension": ".sce",
		   "help_links": [
			{
			 "text": "MetaKernel Magics",
			 "url": "https://github.com/calysto/metakernel/blob/master/metakernel/magics/README.md"
			}
		   ],
		   "mimetype": "text/x-octave",
		   "name": "scilab",
		   "version": "0.7.1"
		  }
		 },
		 "nbformat": 4,
		 "nbformat_minor": 0
}
