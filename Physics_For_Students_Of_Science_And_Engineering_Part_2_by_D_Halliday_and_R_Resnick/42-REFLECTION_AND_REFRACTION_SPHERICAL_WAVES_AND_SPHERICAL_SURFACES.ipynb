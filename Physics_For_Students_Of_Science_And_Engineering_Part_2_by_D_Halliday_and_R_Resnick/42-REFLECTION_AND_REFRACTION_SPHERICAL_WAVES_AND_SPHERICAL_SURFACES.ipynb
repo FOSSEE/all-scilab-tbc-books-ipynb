{
"cells": [
 {
		   "cell_type": "markdown",
	   "metadata": {},
	   "source": [
       "# Chapter 42: REFLECTION AND REFRACTION SPHERICAL WAVES AND SPHERICAL SURFACES"
	   ]
	},
{
		   "cell_type": "markdown",
		   "metadata": {},
		   "source": [
			"## Example 42.4: Location_of_image.sce"
		   ]
		  },
  {
"cell_type": "code",
	   "execution_count": null,
	   "metadata": {
	    "collapsed": true
	   },
	   "outputs": [],
"source": [
"//example_4\n",
"//chapter 42\n",
"//clc()\n",
"n1=1\n",
"n2=2\n",
"o=20//in cm\n",
"r=10//in cm\n",
"disp('x=n2/i')\n",
"x=((n2-n1)/r)-(n1/o)\n",
"disp(x)\n",
"i=n2/x\n",
"disp(i,'The value of i in cm=')"
   ]
   }
,
{
		   "cell_type": "markdown",
		   "metadata": {},
		   "source": [
			"## Example 42.5: Location_of_image.sce"
		   ]
		  },
  {
"cell_type": "code",
	   "execution_count": null,
	   "metadata": {
	    "collapsed": true
	   },
	   "outputs": [],
"source": [
"//example_5\n",
"//chapter 42\n",
"//clc()\n",
"n1=2\n",
"n2=1\n",
"o=15//in cm\n",
"r=-10//in cm\n",
"disp('x=n2/i')\n",
"x=((n2-n1)/r)-(n1/o)\n",
"disp(x)\n",
"i=n2/x\n",
"disp(i,'The value of i in cm=')"
   ]
   }
,
{
		   "cell_type": "markdown",
		   "metadata": {},
		   "source": [
			"## Example 42.7: Location_of_image.sce"
		   ]
		  },
  {
"cell_type": "code",
	   "execution_count": null,
	   "metadata": {
	    "collapsed": true
	   },
	   "outputs": [],
"source": [
"//Example 7\n",
"//chapter 42\n",
"//clc()\n",
"n=1.65\n",
"r_1=40//in cm\n",
"r_2=-40//in cm\n",
"disp('x=1/f in cm=')\n",
"x=(n-1)*((1/r_1)-(1/r_2))\n",
"disp(x)\n",
"disp('f=1/x')\n",
"f=1/x\n",
"disp(f,'f in cm=')"
   ]
   }
,
{
		   "cell_type": "markdown",
		   "metadata": {},
		   "source": [
			"## Example 42.8: Location_of_image.sce"
		   ]
		  },
  {
"cell_type": "code",
	   "execution_count": null,
	   "metadata": {
	    "collapsed": true
	   },
	   "outputs": [],
"source": [
"//Example 8\n",
"//chapter 42\n",
"//clc()\n",
"o=9//in c\n",
"f=24//in cm\n",
"x=(1/f)-(1/o)\n",
"disp('x=1/i in cm=')\n",
"disp(x)\n",
"i=1/x\n",
"disp('i in cm=')\n",
"disp(i)\n",
"disp('lateral magnification =')\n",
"m=-(i/o)\n",
"disp(m)"
   ]
   }
],
"metadata": {
		  "kernelspec": {
		   "display_name": "Scilab",
		   "language": "scilab",
		   "name": "scilab"
		  },
		  "language_info": {
		   "file_extension": ".sce",
		   "help_links": [
			{
			 "text": "MetaKernel Magics",
			 "url": "https://github.com/calysto/metakernel/blob/master/metakernel/magics/README.md"
			}
		   ],
		   "mimetype": "text/x-octave",
		   "name": "scilab",
		   "version": "0.7.1"
		  }
		 },
		 "nbformat": 4,
		 "nbformat_minor": 0
}
