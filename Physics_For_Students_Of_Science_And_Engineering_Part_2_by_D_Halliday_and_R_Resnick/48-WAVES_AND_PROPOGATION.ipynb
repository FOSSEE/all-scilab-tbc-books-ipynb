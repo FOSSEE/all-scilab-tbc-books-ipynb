{
"cells": [
 {
		   "cell_type": "markdown",
	   "metadata": {},
	   "source": [
       "# Chapter 48: WAVES AND PROPOGATION"
	   ]
	},
{
		   "cell_type": "markdown",
		   "metadata": {},
		   "source": [
			"## Example 1.1: Wavelength_of_particle.sce"
		   ]
		  },
  {
"cell_type": "code",
	   "execution_count": null,
	   "metadata": {
	    "collapsed": true
	   },
	   "outputs": [],
"source": [
"//Chapter 48\n",
"//Example1\n",
"k=100*(1.6*(10^-19))\n",
"m=9.1*(10^-31)\n",
"//solution\n",
"v=sqrt(((2*k)/(m)))\n",
"disp('velocity in m/s' )\n",
"disp(v)\n",
"h=6.6*(10^-34)\n",
"p=5.4*(10^-34)\n",
"lambda=h/p\n",
"disp('wavelength in A')\n",
"disp(lambda)"
   ]
   }
,
{
		   "cell_type": "markdown",
		   "metadata": {},
		   "source": [
			"## Example 48.1: velocity_and_angular_wavelength.sce"
		   ]
		  },
  {
"cell_type": "code",
	   "execution_count": null,
	   "metadata": {
	    "collapsed": true
	   },
	   "outputs": [],
"source": [
"//Chapter 48\n",
"//Example1\n",
"k=100*(1.6*(10^-19))\n",
"m=9.1*(10^-31)\n",
"//solution\n",
"v=sqrt(((2*k)/(m)))\n",
"disp('velocity in m/s' )\n",
"disp(v)\n",
"h=6.6*(10^-34)\n",
"p=5.4*(10^-34)\n",
"lambda=h/p\n",
"disp('wavelength in A')\n",
"disp(lambda)"
   ]
   }
,
{
		   "cell_type": "markdown",
		   "metadata": {},
		   "source": [
			"## Example 48.2: Quantized_energy.sce"
		   ]
		  },
  {
"cell_type": "code",
	   "execution_count": null,
	   "metadata": {
	    "collapsed": true
	   },
	   "outputs": [],
"source": [
"//Example 2\n",
"//given data\n",
"n=1\n",
"h=(6.6)*10^-34 //j/sec\n",
"m=9.1*(10^-31)//in kg\n",
"l=1*(10^-9)//in m\n",
"//Solution\n",
"E=(n^2)*((h^2)/(8*m*(l^2)))\n",
"disp('Energy in Joule=')\n",
"disp(E)"
   ]
   }
,
{
		   "cell_type": "markdown",
		   "metadata": {},
		   "source": [
			"## Example 48.3: Quantum_number.sce"
		   ]
		  },
  {
"cell_type": "code",
	   "execution_count": null,
	   "metadata": {
	    "collapsed": true
	   },
	   "outputs": [],
"source": [
"//Example3\n",
"//given\n",
"m=10^-9//in kg\n",
"v=10^-6//in m/s\n",
"l=10^-4//in m\n",
"h=(6.6)*(10^-34)//j/s\n",
"E=(0.5)*m*(v^2)\n",
"disp('Energy in joule=')\n",
"disp(E)\n",
"n=(l/h)*(sqrt(8*m*E))\n",
"disp('Quantum number=')\n",
"disp(n)"
   ]
   }
,
{
		   "cell_type": "markdown",
		   "metadata": {},
		   "source": [
			"## Example 48.5: Position_of_electron.sce"
		   ]
		  },
  {
"cell_type": "code",
	   "execution_count": null,
	   "metadata": {
	    "collapsed": true
	   },
	   "outputs": [],
"source": [
"//Example 5\n",
"//given\n",
"m=9.1*(10^-31)//in kg\n",
"v=300//in m/s\n",
"h=6.6*(10^-34)// in j-s\n",
"p=m*v\n",
"disp('The electrom momentum in kg-m/s=')\n",
"disp(p)\n",
"delta_p=(0.0001)*p\n",
"disp('delta_p in kg-m/s=')\n",
"disp(delta_p)\n",
"delta_x=(h/delta_p)\n",
"disp('Minimum uncertainaity in m=')\n",
"disp(delta_x)"
   ]
   }
,
{
		   "cell_type": "markdown",
		   "metadata": {},
		   "source": [
			"## Example 48.6: Position_of_electron.sce"
		   ]
		  },
  {
"cell_type": "code",
	   "execution_count": null,
	   "metadata": {
	    "collapsed": true
	   },
	   "outputs": [],
"source": [
"//Example_6\n",
"m=0.05// in kg\n",
"v=300 //m/s\n",
"delta_p=m*v\n",
"disp('Momentum in kg-m/s=')\n",
"disp(delta_p)\n",
"delta_x=(6.6*10^-34)/delta_p\n",
"disp('delta_x in meter=')\n",
"disp(delta_x)"
   ]
   }
],
"metadata": {
		  "kernelspec": {
		   "display_name": "Scilab",
		   "language": "scilab",
		   "name": "scilab"
		  },
		  "language_info": {
		   "file_extension": ".sce",
		   "help_links": [
			{
			 "text": "MetaKernel Magics",
			 "url": "https://github.com/calysto/metakernel/blob/master/metakernel/magics/README.md"
			}
		   ],
		   "mimetype": "text/x-octave",
		   "name": "scilab",
		   "version": "0.7.1"
		  }
		 },
		 "nbformat": 4,
		 "nbformat_minor": 0
}
