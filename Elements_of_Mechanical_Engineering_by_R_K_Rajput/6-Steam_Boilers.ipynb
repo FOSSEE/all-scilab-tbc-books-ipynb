{
"cells": [
 {
		   "cell_type": "markdown",
	   "metadata": {},
	   "source": [
       "# Chapter 6: Steam Boilers"
	   ]
	},
{
		   "cell_type": "markdown",
		   "metadata": {},
		   "source": [
			"## Example 6.10: Example_10.sce"
		   ]
		  },
  {
"cell_type": "code",
	   "execution_count": null,
	   "metadata": {
	    "collapsed": true
	   },
	   "outputs": [],
"source": [
"clc\n",
"clear\n",
"//DATA GIVEN\n",
"p=13;                       //steam pressure in bar\n",
"ds=77;                      //degree of superheat in deg. celsius\n",
"Tfw=85;                     //temp. of feed water in deg. celsius\n",
"Mw=3000;                    //mass of water evaporated in kg/hr\n",
"Mc=410;                     //coal fired\n",
"Mash=40;                    //mass of ash in kg/hr\n",
"Pca=9.6;                    //% of combustible in ash\n",
"Pm=4.5;                     //% of moisture in coal\n",
"C=30500;                    //calorific vaalue of dry coal per kg\n",
"Cps=2.1;                    //specific heat of superheated steam in kJ/kgK\n",
"\n",
"\n",
"//from steam table, corresponding to 13 bar,\n",
"hf=814.7;                   //in kJ/kg\n",
"hfg=1970.7;                 //in kJ/kg\n",
"Ts=191.6;                   //in deg. selsius\n",
"h=hf+hfg+Cps*(ds);\n",
"hf1=4.18*(Tfw-0);\n",
"htotal=h-hf1;               //total heat supplied to produce 1 kg of steam\n",
"\n",
"Mc1=Mc*(1-Pm/100);          //mass of dry coal in kg\n",
"Ma=Mw/Mc1;\n",
"ETAb=Ma*(h-hf1)/C;          //efficiency of boiler plant including superheater\n",
"\n",
"Mcom=Mash*Pca/100;          //Mass of combustible in ash per hr\n",
"//the combustible present in ash is practically carbon and its value may be taken as 338/60 kJ/kg\n",
"//heat actually supplied pr hr=heat of dry coal-heat of combustible in ash\n",
"Hsupp=Mc1*C-Mcom*33860;     //heat actually supplied pr hr\n",
"Huse=Mw*(h-hf1);            //heat usefully utilised in boiler pr hr\n",
"\n",
"ETAc=Huse/Hsupp;            //efficiency of boiler and furnace combined\n",
"\n",
"printf(' (i) The Efficiency of boiler plant including superheater is: %5.3f or %2.1f percent. \n',ETAb,(ETAb*100));\n",
"printf(' (ii) The Efficiency of the boiler and furnace combined is: %5.3f or %2.1f percent. \n',ETAc,(ETAc*100));"
   ]
   }
,
{
		   "cell_type": "markdown",
		   "metadata": {},
		   "source": [
			"## Example 6.11: Example_11.sce"
		   ]
		  },
  {
"cell_type": "code",
	   "execution_count": null,
	   "metadata": {
	    "collapsed": true
	   },
	   "outputs": [],
"source": [
"clc\n",
"clear\n",
"//DATA GIVEN\n",
"Ms=5000;                //mass of steam generated in kg/hr\n",
"Mf=700;                 //rate of coal firing in kg/hr\n",
"C=31402;                //higher calorific value(HCV) of coal in kJ/kg\n",
"x=0.92;                 //quality of steam\n",
"p=12;                   //steam pressure in bar\n",
"Tfw=45;                 //feed  water temp. in deg celsius\n",
"\n",
"//from steam table, corresponding to 12 bar,\n",
"hf=798.4;               //in kJ/kg\n",
"hfg=1984.3;             //in kJ/kg\n",
"h=hf+x*hfg;             //in kJ/kg\n",
"hf1=4.18*(Tfw-0);       //heat of feed water in kJ/kg\n",
"Ma=Ms/Mf;               //in kg per kg of fuel\n",
"Me=Ma*(h-hf1)/2257;     //(kg of steam)/(kg of fuel)\n",
"eta=Ma*(h-hf1)/C;       //thermal efficiency\n",
"\n",
"printf(' (i) The Equivalent evaporation, Me is: %5.3f (kg of steam)/(kg of coal). \n',Me);\n",
"printf(' (ii) The Boiler efficiency is: %5.3f or %2.1f percent. \n',eta,eta*100);"
   ]
   }
,
{
		   "cell_type": "markdown",
		   "metadata": {},
		   "source": [
			"## Example 6.12: Example_12.sce"
		   ]
		  },
  {
"cell_type": "code",
	   "execution_count": null,
	   "metadata": {
	    "collapsed": true
	   },
	   "outputs": [],
"source": [
"clc\n",
"clear\n",
"//DATA GIVEN\n",
"hsup=3373.7;               //enthalpy of steam (at 100 bar,500 deg. celsius) in kJ/kg\n",
"hf1=677;                   //enthalpy of feed water (at inlet temp. 160 deg. celsius) in kJ/kg\n",
"hf=1407.65;                //ennthalpy of saturated liquid at 100 bar in kJ/kg\n",
"hg=2724.7;                 //ennthalpy of saturated vapout at 100 bar in kJ/kg\n",
"Ms=100000;                 //rate of steam generation in kg/hr\n",
"eta=88;                    //efficiency of steam generation\n",
"C=21000;                   //calorific value of fuel in kJ/kg\n",
"\n",
"//eta=(heat absorbed by steam per hr)/(heat added by fuel per hour)\n",
"m=Ms*(hsup-hf1)/(C*(eta/100));      //fuel burning rate in kg/hr\n",
"htotal=hsup-hf1;                    //total heat supplied to steam formation\n",
"Pec=(hf-hf1)/htotal;                //% of heat absorbed in economiser\n",
"Pev=(hg-hf)/htotal;                 //% of heat absorbed in evaporator\n",
"Ps=(hsup-hg)/htotal;                //% of heat absorbed in superheater\n",
"\n",
"printf(' (i) The Fuel burning rate, m is: %5.1f kJ/h. \n',m);\n",
"printf(' (ii) The Percentage of heat absorbed in economiser is: %5.4f or %5.2f percent.\n',Pec,(Pec*100));\n",
"printf('      The Percentage of heat absorbed in evaporator is: %5.4f or %5.2f percent.\n',Pev,(Pev*100));\n",
"printf('      The Percentage of heat absorbed in superheater is: %5.4f or %5.2f percent.\n',Ps,(Ps*100));"
   ]
   }
,
{
		   "cell_type": "markdown",
		   "metadata": {},
		   "source": [
			"## Example 6.13: Example_13.sce"
		   ]
		  },
  {
"cell_type": "code",
	   "execution_count": null,
	   "metadata": {
	    "collapsed": true
	   },
	   "outputs": [],
"source": [
"clc\n",
"clear\n",
"//DATA GIVEN\n",
"//BOILER\n",
"Mw=2060;            //mass of feed water \n",
"Mc=227;             //mass of coal supplied in kg/hr\n",
"C=30000;            //calorific value of coal in kJ/kg\n",
"hs=2750;            //enthalpy of steam produced in kJ/kg\n",
"hfw=398;            //enthalpy of feed water\n",
"//ECONOMISER\n",
"Twin=15;            //temp. of feed water entering economiser in deg celsius\n",
"Twout=95;           //temp. of feed water leaving economiser in deg celsius\n",
"Tgout=18;           //atmospheric temp.\n",
"Tgin=370;           //temp. of entering flue gases\n",
"Mfg=4075;           //mass of flue gases\n",
"//assuming Cpw and Cpg,\n",
"Cpw=4.187;\n",
"Cpg=1.01;\n",
"\n",
"ETAb=Mw*(hs-hfw)/(Mc*C);                             //efficiency of boiler\n",
"ETAe=Mw*Cpw*(Twout-Twin)/(Mfg*Cpg*(Tgin-Tgout));     //efficiency of economiser\n",
"\n",
"printf(' (i) The Boiler efficiency is: %5.4f or %2.2f percent. \n',ETAb,(ETAb*100));\n",
"printf(' (ii) The Economiser efficiency is: %5.3f or %2.1f percent. \n',ETAe,(ETAe*100));\n",
""
   ]
   }
,
{
		   "cell_type": "markdown",
		   "metadata": {},
		   "source": [
			"## Example 6.14: Example_14.sce"
		   ]
		  },
  {
"cell_type": "code",
	   "execution_count": null,
	   "metadata": {
	    "collapsed": true
	   },
	   "outputs": [],
"source": [
"clc\n",
"clear\n",
"//DATA GIVEN\n",
"Tfw=50;             //mean feed  water temp. in deg celsius\n",
"p=5;                //mean steam pressure in bar\n",
"x=0.95;             //dryness fraction of steam\n",
"Mc=600;             //coal consumption kg/hr\n",
"C=30400;            //calorific value of coal in kJ/kg\n",
"Ms=4800;            //feed water supplied to boiler in kg/hr\n",
"\n",
"//from steam table, corresponding to 12 bar,\n",
"hf=640.1;           //in kJ/kg\n",
"hfg=2107.4;         //in kJ/kh\n",
"h=hf+x*hfg;         //in kj/kg\n",
"hf1=4.18*(Tfw-0);\n",
"\n",
"Ma=Ms/Mc;           //in kg per kg of fuel\n",
"Me=Ma*(h-hf1)/2257; //(kg of steam)/(kg of fuel)\n",
"\n",
"printf(' The Equivalent evaporation from and at 100 deg celsius, Me is: %5.3f (kg of steam)/(kg of coal).\n',Me);"
   ]
   }
,
{
		   "cell_type": "markdown",
		   "metadata": {},
		   "source": [
			"## Example 6.1: Example_1.sce"
		   ]
		  },
  {
"cell_type": "code",
	   "execution_count": null,
	   "metadata": {
	    "collapsed": true
	   },
	   "outputs": [],
"source": [
"clc\n",
"clear\n",
"//DATA GIVEN\n",
"LCV=44700;              //LCV of fuel in kJ\n",
"afrn=20;                 //air parts=20 in air fuel mixture\n",
"afrd=1;                  //fuel parts=1 in air fuel mixture\n",
"Cpg=1.08;               //avg specific heat in kJ/kgK\n",
"T1=38+273;              //boiler room temp. in K\n",
"\n",
"//heat of combustion=heat of gases\n",
"//1*44700=Mg*Cpg*(T2-T1)\n",
"T2=afrd*LCV/(afrn+afrd)/Cpg+T1;\n",
"\n",
"printf(' The Maximum temp. T2 attained in the furnace of the boiler is:\n %5.0f Kelvin ',T2);\n",
"printf('or %5.0f degree celsius.\n',(T2-273));"
   ]
   }
,
{
		   "cell_type": "markdown",
		   "metadata": {},
		   "source": [
			"## Example 6.2: Example_2.sce"
		   ]
		  },
  {
"cell_type": "code",
	   "execution_count": null,
	   "metadata": {
	    "collapsed": true
	   },
	   "outputs": [],
"source": [
"clc\n",
"clear\n",
"//DATA GIVEN\n",
"Ms=5.4;                //mass of steam used in kg/kWh\n",
"p=50;                  //pressure of steam in bar\n",
"Tsup=350;              //temp. of steam in deg celsius\n",
"eta=82;                //boiler efficiency in %\n",
"Tfw=150;               //feed water temp. in deg cel;sius\n",
"C=28100;               //calorific value of coal in kJ\n",
"rate=500;              //cost of coal/tonne in Rs\n",
"\n",
"//boiler efficiency is given by, eta=Ms*(hsup-hf1)/(Mf*C)\n",
"//from steam table, at 45 bar and 350deg celsius, hsup=3068.4 kJ/kg\n",
"h=3068.4;                            //enthalpy at 45 bar and 350 deg celsius \n",
"hf1=4.18*(Tfw-0);                    //hf1 at 150 deg celsius in kJ/kg\n",
"\n",
"//subs. these in eq. of boiler efficiency\n",
"Mf=Ms*(h-hf1)/((eta/100)*C);         //mass of coal required in kg/kWh\n",
"cost=(Mf/1000)*rate*100;             //cost of coal in paisa/kWh\n",
"\n",
"printf('  (i) The mass of coal required is: %5.3f kg/kWh. \n',Mf);\n",
"printf('  (ii) The Total cost of fuel(coal) is: %2.1f paisa/kWh. \n',cost);\n",
"\n",
"//NOTE:in text book\n",
"//in question pressure is given as =50 bar\n",
"//but from steam table enthalpy is found at 45 bar"
   ]
   }
,
{
		   "cell_type": "markdown",
		   "metadata": {},
		   "source": [
			"## Example 6.3: Example_3.sce"
		   ]
		  },
  {
"cell_type": "code",
	   "execution_count": null,
	   "metadata": {
	    "collapsed": true
	   },
	   "outputs": [],
"source": [
"clc\n",
"clear\n",
"//DATA GIVEN\n",
"Mc=1250;                   //quantity of coal in kg consumed in 24 hours\n",
"Mw=13000;                  //mass of water evaporated in kg\n",
"MEPs=7;                    //mean effective pressure of steam in bar\n",
"Tfw=40;                    //feed water temp. in deg celsius\n",
"h=2570.7;                  //enthalpy of steam at 7 bar in kJ/kg\n",
"C=30000;                   //calorific value of coal in kJ/kg\n",
"\n",
"Ma=Mw/Mc;                  //mass of water actually evaporated per kg of fuel\n",
"hf1=4.18*(Tfw-0);\n",
"hfg=2257;                  //in kJ/kg\n",
"Me=Ma*(h-hf1)/hfg;         //in kg\n",
"eta=Ma*(h-hf1)/C;          //boiler efficiency\n",
"\n",
"printf(' (i)  The equivalent evaporation per kg of coal, Me is: %5.3f kg. \n',Me);\n",
"printf(' (ii)  The efficiency of boiler, eta is: %1.3f or %2.1f percent. ',eta,eta*100);"
   ]
   }
,
{
		   "cell_type": "markdown",
		   "metadata": {},
		   "source": [
			"## Example 6.4: Example_4.sce"
		   ]
		  },
  {
"cell_type": "code",
	   "execution_count": null,
	   "metadata": {
	    "collapsed": true
	   },
	   "outputs": [],
"source": [
"clc\n",
"clear\n",
"//DATA GIVEN\n",
"p=12;                    //mean steam pressure in bar\n",
"Ms=40000;                //mass of steam generated in kg\n",
"x=0.85;                  //mean dryness fraction\n",
"Tfw=30;                  //mean feed  water temp. in deg celsius\n",
"Mc=4000;                 //mass of coal used in kg\n",
"C=33400;                 //calorific value of coal in kJ/kg\n",
"\n",
"//from steam table, corresponding to 12 bar,\n",
"hf=798.4;                //in kJ/kg\n",
"hfg=1984.3;              //in kJ/kh\n",
"h=hf+x*hfg;              //in kj/kg\n",
"hf1=4.18*(Tfw-0);        //heat of feed water in kJ/kg\n",
"\n",
"Fe=(h-hf1)/2257;         //factor of equivalent evaporation,Fe\n",
"Ma=Ms/Mc;                //per kg of fuel\n",
"Me=Ma*(h-hf1)/2257;      //(kg of steam)/(kg of fuel)\n",
"eta=Ma*(h-hf1)/C;        //efficiency of boiler\n",
"\n",
"printf('  (i) The Factor of equivalent temerature,Fe is: %5.3f\n',Fe);\n",
"printf('  (ii) The Equivalent evaporation from and at 100 deg celsius , Me is: %5.2f (kg of steam)/(kg of coal).\n',Me);\n",
"printf(' (iii) The Efficiency of boiler is: %5.4f ',eta);\n",
"printf('or %5.2f percent. \n',eta*100);    "
   ]
   }
,
{
		   "cell_type": "markdown",
		   "metadata": {},
		   "source": [
			"## Example 6.5: Example_5.sce"
		   ]
		  },
  {
"cell_type": "code",
	   "execution_count": null,
	   "metadata": {
	    "collapsed": true
	   },
	   "outputs": [],
"source": [
"clc\n",
"clear\n",
"//DATA GIVEN\n",
"M=18000;                //mass of steam generated in kg/hr\n",
"p=12.5;                 //steam pressure in bar\n",
"x=0.97;                 //quality of steam\n",
"Tfw=105;                //feed  water temp. in deg celsius\n",
"Mf=2040;                //rate of coal firing in kg/hr\n",
"C=27400;                //highrer calorific value (HCV) of coal in kJ/kg\n",
"\n",
"//from steam table, corresponding to 12.5 bar,\n",
"hf=806.7;               //in kJ/kg\n",
"hfg=1977.4;             //in kJ/kg\n",
"h=hf+x*hfg;             //in kJ/kg\n",
"hf1=4.18*(Tfw-0);       //heat of feed water in kJ/kg\n",
"\n",
"//heat rate of the boiler = heat supplied per hour\n",
"heatrate=M*(h-hf1)      //heat rate of boiler\n",
"Ma=M/Mf;                //in kg per kg of fuel\n",
"Me=Ma*(h-hf1)/2257;     //(kg of steam)/(kg of fuel)\n",
"eta=Ma*(h-hf1)/C;       //thermal efficiency\n",
"\n",
"printf(' (i) The Heat rate of boiler is: %1.4e kJ/h. \n',heatrate);\n",
"printf(' (ii) The Equivalent evaporation, Me is: %5.3f (kg of steam)/(kg of fuel). \n',Me);\n",
"printf('(iii) The Thermal efficiency is: %5.4f ',eta);\n",
"printf('or %5.2f percent. \n',eta*100);    "
   ]
   }
,
{
		   "cell_type": "markdown",
		   "metadata": {},
		   "source": [
			"## Example 6.6: Example_6.sce"
		   ]
		  },
  {
"cell_type": "code",
	   "execution_count": null,
	   "metadata": {
	    "collapsed": true
	   },
	   "outputs": [],
"source": [
"clc\n",
"clear\n",
"//DATA GIVEN\n",
"Mw=5940;            //mass of water evaporated kg/hr\n",
"Mc=675;             //mass of coal burnt in kg/hr\n",
"C=31600;            //lower calorific value(LCV) of coal in kJ/kg\n",
"p1=14;              //pressure of steam at boiler stop valve in bar\n",
"Te1=32;             //temp. of feed water entering economiser in deg celsius\n",
"Te2=115;            //temp. of feed water leaving economiser in deg celsius\n",
"x=0.96;             //dryness fraction of steam entering superheater\n",
"Tsup=260;           //temp. of steam leaving superheater in deg celsius\n",
"Cp=2.3              //specific heat of superheated steam\n",
"\n",
"hf1=4.18*(Te2-Te1);                     //heat utilised by 1 kg of feed water in economiser  \n",
"//from steam table, corresponding to 14 bar,\n",
"Ts=195; \n",
"hf=830.1; \n",
"hfg=1957.7;\n",
"hboiler=(hf+x*hfg)-hf1;                 //heat utilised by 1 kg of feed water in boiler \n",
"hsuperheater=(1-x)*hfg+Cp*(Tsup-Ts);    //heat utilised by 1 kg of feed water in superheater\n",
"Ma=Mw/Mc;                               //in kg per kg of fuel\n",
"Pe=hf1/C*Ma*100;                        //% of heat utilised in economiser\n",
"Pb=hboiler/C*Ma*100;                    //% of heat utilised in boiler\n",
"Ps=hsuperheater/C*Ma*100;               //% of heat utilised in superheater\n",
"htotal=hf1+hboiler+hsuperheater;        //total heat absorbed in kg of water\n",
"eta=Ma*htotal/C;                        //overall efficiency of boiler plant\n",
"\n",
"printf(' (i) The Percentage of heat utilised in Economiser is: %5.2f percent.\n',Pe);\n",
"printf('      The Percentage of heat utilised in Boiler is: %5.2f percent.\n',Pb);\n",
"printf('      The Percentage of heat utilised in Superheater is: %5.2f percent.\n',Ps);\n",
"printf(' (ii) The Overall Efficiency of boiler plant is: %5.4f ',eta);\n",
"printf('or %5.2f percent. \n',eta*100);    "
   ]
   }
,
{
		   "cell_type": "markdown",
		   "metadata": {},
		   "source": [
			"## Example 6.7: Example_7.sce"
		   ]
		  },
  {
"cell_type": "code",
	   "execution_count": null,
	   "metadata": {
	    "collapsed": true
	   },
	   "outputs": [],
"source": [
"clc\n",
"clear\n",
"//DATA GIVEN\n",
"C=29915;            //calorific value of coal in kJ/kg\n",
"Mw=9.1;             //mass of feed water per kg of dry coal in kg\n",
"Me=9.6;             //equivalent evaporation fraom and at 100 deg celsius per kg of dry coal in kg\n",
"Te=12;              //temp. of feed water to economiser in deg celsius\n",
"Tb=105;             //temp. of feed water to boiler in deg celsius\n",
"Ta=13;              //temp. of air\n",
"Tfg=370;            //temp. of flue gases entering economiser\n",
"Mfg=18.2;           //mass of flue gases entering economiser per kg of coal\n",
"Cp=1.046;           //mean specific heat of flue gases\n",
"\n",
"hb=Me*2257;               //heat supplied for steam generation in kJ\n",
"ETAb=hb/C;                //boiler efficiency\n",
"hflue=Mfg*Cp*(Tfg-Ta);    //heat in the flue gase per kg of dry coal entering economiser\n",
"he=Mw*4.184*(Tb-Te);      //heat utilised in economiser\n",
"ETAe=he/hflue;            //economiser efficiency\n",
"htotal=hb+he;             //total heat absorbed in kg of water\n",
"ETA=htotal/C;             //boiler plant efficiency\n",
"\n",
"printf(' (i) The Boiler efficiency is: %5.3f ',ETAb);\n",
"printf('or %2.1f percent. \n',ETAb*100);\n",
"printf(' (ii) The Economiser efficiency is: %5.3f ',ETAe);\n",
"printf('or %2.2f percent. \n',ETAe*100);\n",
"printf('(iii) The Overall Efficiency of boiler plant is: %5.3f ',ETA);\n",
"printf('or %2.1f percent. \n',ETA*100);    "
   ]
   }
,
{
		   "cell_type": "markdown",
		   "metadata": {},
		   "source": [
			"## Example 6.8: Example_8.sce"
		   ]
		  },
  {
"cell_type": "code",
	   "execution_count": null,
	   "metadata": {
	    "collapsed": true
	   },
	   "outputs": [],
"source": [
"clc\n",
"clear\n",
"//DATA GIVEN\n",
"Ms=2000;            //rate of steam production in kg/hr\n",
"x=1;                //quality of steam\n",
"p=10;               //steam pressure in bar\n",
"Tfw=110;            //feed  water temp. in deg celsius\n",
"Mf=225;             //rate of coal firing in kg/hr\n",
"C=30100;            //calorific value of coal in kJ/kg\n",
"Puc=10;             //% of unburnt coal\n",
"\n",
"//from steam table, corresponding to 10 bar,\n",
"h=2776.2;                   //in kJ/kg\n",
"hf1=4.18*(Tfw-0);           //heat contained in 1kg of feed water before entering boiler in kJ/kg\n",
"htotal=h-hf1                //total heat given to produce 1 kg of steam in boiler in kJ/kg\n",
"Mc=Mf*(100-Puc)/100;        //mass of coal actually burnt in kg\n",
"Ma=Ms/Mc;                   //(kg of steam)/(kg of fuel)\n",
"ETAb=Ma*(h-hf1)/C;          //thermal efficiency of boiler\n",
"ETAc=(Ms/Mf)*(h-hf1)/C;     //thermal efficiency of boiler and grate combined\n",
"\n",
"printf(' (i) The Thermal efficiency of the boiler is: %5.3f ',ETAb);\n",
"printf('or %5.2f percent. \n',ETAb*100);\n",
"printf(' (ii) The Thermal efficiency of the boiler and grate combined is: %5.3f ',ETAc);\n",
"printf('or %5.2f percent. \n',ETAc*100);"
   ]
   }
,
{
		   "cell_type": "markdown",
		   "metadata": {},
		   "source": [
			"## Example 6.9: Example_9.sce"
		   ]
		  },
  {
"cell_type": "code",
	   "execution_count": null,
	   "metadata": {
	    "collapsed": true
	   },
	   "outputs": [],
"source": [
"clc\n",
"clear\n",
"//DATA GIVEN\n",
"Ma=7.5;             //mass of steam generated per kg of coal\n",
"p=11;               //steam pressure in bar\n",
"Tfw=70;             //temp. of feed water temp. in deg celsius\n",
"eta=75;             //efficiency of boiler in %\n",
"Fe=1.15;            //factor of evaporation\n",
"Cps=2.3;            //specific heat of steam in kJ/kgK\n",
"\n",
"//from steam table, corresponding to 11 bar,\n",
"hf=781.4;           //in kJ/kg\n",
"hfg=1998.5;         //in kJ/kg\n",
"Ts=184.1+273;       //in K\n",
"hf1=4.18*(Tfw-0);\n",
"\n",
"//Factor of evaporation,Fe=[{hf+hfg+Cps*(Tsup-Ts)}-hf1]/2257\n",
"Tsup=[Fe*2257+hf1-hf-hfg]/Cps+Ts;        //Tsup in K\n",
"x=(Tsup-Ts);                             //degree of superheat in deg. celsius\n",
"\n",
"//Boiler efficiency eta=Ma*(h-hf1)/C;\n",
"h=[hf+hfg+Cps*(Tsup-Ts)];\n",
"C=Ma*(h-hf1)/(eta/100);                  //calorific value of coal in kJ/kg\n",
"Me=Ma*(h-hf1)/2257;                      //Equivalent evaporation im kg\n",
"\n",
"printf(' (i) The Temperature of steam generation, Tsup is: %5.1f K\n',Tsup);\n",
"printf('      The Degree of superheat is: %5.1f deg celsius.\n',x);\n",
"printf(' (ii) The calorific value of coal, C is: %5.0f kJ/kg. \n',C);\n",
"printf('(iii) The Equivalent evaporation, Me is: %5.3f kg. \n',Me);"
   ]
   }
],
"metadata": {
		  "kernelspec": {
		   "display_name": "Scilab",
		   "language": "scilab",
		   "name": "scilab"
		  },
		  "language_info": {
		   "file_extension": ".sce",
		   "help_links": [
			{
			 "text": "MetaKernel Magics",
			 "url": "https://github.com/calysto/metakernel/blob/master/metakernel/magics/README.md"
			}
		   ],
		   "mimetype": "text/x-octave",
		   "name": "scilab",
		   "version": "0.7.1"
		  }
		 },
		 "nbformat": 4,
		 "nbformat_minor": 0
}
