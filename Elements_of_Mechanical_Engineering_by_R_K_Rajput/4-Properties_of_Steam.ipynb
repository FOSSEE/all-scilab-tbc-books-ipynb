{
"cells": [
 {
		   "cell_type": "markdown",
	   "metadata": {},
	   "source": [
       "# Chapter 4: Properties of Steam"
	   ]
	},
{
		   "cell_type": "markdown",
		   "metadata": {},
		   "source": [
			"## Example 4.10: Example_10.sce"
		   ]
		  },
  {
"cell_type": "code",
	   "execution_count": null,
	   "metadata": {
	    "collapsed": true
	   },
	   "outputs": [],
"source": [
"clc\n",
"clear\n",
"//DATA GIVEN\n",
"V=0.9;                          //capacity of spherical vessel in m^3\n",
"p1=8;                           //pressure of steam in bar\n",
"x1=0.9;                         //dryness fraction of steam\n",
"p2=4;                           //pressure of steam after blow off in bar\n",
"p3=3;                           //final pressure of steam in bar\n",
"\n",
"//At 8 bar, from steam tables\n",
"hf1=720.9;                      //kJ/kg\n",
"hfg1=2046.5;                    //kJ/kg\n",
"vg1=0.240;                      //m^3/kg\n",
"\n",
"m1=V/(x1*vg1);                  //mass of steam in the vessel in kg\n",
"\n",
"h1=hf1+x1*hfg1;                 //enthalpy of steam before blowing off (per kg)\n",
"//enthalpy of steam before blowing off (per kg) = enthalpy of steam after blowing off (per kg)\n",
"h2=h1;\n",
"//h2=hf2+x2*hfg2\n",
"//At 4 bar, from steam tables\n",
"hf2=604.7;                      //kJ/kg\n",
"hfg2=2133;                      //kJ/kg\n",
"vg2=0.462;                      //m^3/kg\n",
"x2=(h2-hf2)/hfg2;               //dryness fraction at 2\n",
"\n",
"m2=V/(x2*vg2);                  //mass of steam in the vessel in kg\n",
"m=m1-m2;                        //mass of steam blown off in kg\n",
"\n",
"//As it is constant volume cooling, x2*vg2(at 4 bar)=x3*vg3(at 3 bar)\n",
"//At 3 bar, from steam tables\n",
"hf3=561.4;                      //kJ/kg\n",
"hfg3=2163.2;                    //kJ/kg\n",
"vg3=0.606;                      //m^3/kg\n",
"\n",
"x3=x2*vg2/vg3;\n",
"h3=hf3+x3*hfg3;\n",
"\n",
"//heat lost during cooling, Qlost=m(u3-u2)\n",
"u2=h2-p2*10^5*x2*vg2*10^-3;\n",
"u3=h3-p3*10^5*x3*vg3*10^-3;\n",
"Qlost=m*(u3-u2);\n",
"\n",
"printf(' (i) The Mass of of steam blown off is: %1.3f kg. \n',m);\n",
"printf(' (ii) The Dryness fraction of steam in the vessel after cooling is: %1.4f. \n',x3);\n",
"printf('(iii) The Heat lost during cooling is: %3.2f kJ. \n',(-Qlost));\n",
"\n",
"//NOTE:\n",
"//The answers of m1,x3 are INCORRECT in the book,\n",
"//thus, the answers of m, x3 and Qlost are INCORRECT in the book\n",
"//while, the values obtained her (in scilab) are CORRECT.\n",
""
   ]
   }
,
{
		   "cell_type": "markdown",
		   "metadata": {},
		   "source": [
			"## Example 4.11: Example_11.sce"
		   ]
		  },
  {
"cell_type": "code",
	   "execution_count": null,
	   "metadata": {
	    "collapsed": true
	   },
	   "outputs": [],
"source": [
"clc\n",
"clear\n",
"//DATA GIVEN\n",
"p=8;                           //pressure of steam in bar\n",
"x=0.8;                         //dryness fraction\n",
"\n",
"//At 8 bar, from steam tables\n",
"vg=0.240;                      //m^3/kg\n",
"hfg=2046.5;                    //kJ/kg\n",
"\n",
"We=p*10^5*x*vg/1000;           //external work done during evaporation in kJ\n",
"LHi=x*hfg-We;                  //Internal latent heat in kJ\n",
"\n",
"printf(' (i) The External work done during evaporation is: %3.1f kJ. \n',We);\n",
"printf(' (ii) The Internal latent heat is: %4.1f kJ. \n',LHi);"
   ]
   }
,
{
		   "cell_type": "markdown",
		   "metadata": {},
		   "source": [
			"## Example 4.12: Example_12.sce"
		   ]
		  },
  {
"cell_type": "code",
	   "execution_count": null,
	   "metadata": {
	    "collapsed": true
	   },
	   "outputs": [],
"source": [
"clc\n",
"clear\n",
"//DATA GIVEN\n",
"p=10;                          //pressure of steam, p1=p2 in bar\n",
"x1=0.85;                       //dryness fraction\n",
"V1=0.15;                       //volume of steam in m^3\n",
"Tsup2=300+273;                 //temp. of steam in K\n",
"Cps=2.2;                       //specific heat of steam in kJ/kgK\n",
"\n",
"//At 10 bar, from steam tables\n",
"vg1=0.194;                          //m^3/kg\n",
"hfg1=2013.6;                        //kJ/kg\n",
"Ts1=179.9+273;                      //in K\n",
"m=V1/(x1*vg1);                      //mass of steam in kg\n",
"hnet=(1-x1)*hfg1+Cps*(Tsup2-Ts1);   //heat supplied per kg of steam\n",
"Htotal=m*hnet;                      //total heat supplied\n",
"\n",
"//External work done during the process We=p*(vsup2-x*vg1)\n",
"//since p1=p2=p, \n",
"//vg1/Ts1=vsup2/Tsup2\n",
"vsup2=vg1*Tsup2/Ts1;\n",
"We=p*10^5*(vsup2-x1*vg1)*10^-3;\n",
"hp=We/hnet;                         //% of total heat supplied (per kg) which appears as external work\n",
"\n",
"printf(' (i) The Total heat supplied is: %3.1f kJ. \n',Htotal);\n",
"printf(' (ii) The Percentage of total heat supplied (per kg) which appears as external work is: %2.1f percent. \n',(hp*100));"
   ]
   }
,
{
		   "cell_type": "markdown",
		   "metadata": {},
		   "source": [
			"## Example 4.13: Example_13.sce"
		   ]
		  },
  {
"cell_type": "code",
	   "execution_count": null,
	   "metadata": {
	    "collapsed": true
	   },
	   "outputs": [],
"source": [
"clc\n",
"clear\n",
"//DATA GIVEN\n",
"p=18;                          //pressure of steam\n",
"x=0.85;                        //dryness fraction\n",
"\n",
"//At 18 bar, from steam tables\n",
"hf=884.6;                      //kJ/kg\n",
"hfg=1910.3;                    //kJ/kg\n",
"vg=0.110;                      //m^3/kg\n",
"uf=883;                        //kJ/kg\n",
"ug=2598;                       //kJ/kg\n",
"\n",
"v=x*vg;                        //specific volume of wet steam\n",
"h=hf+x*hfg;                    //specific enthalpy of wet steam\n",
"u=(1-x)*uf+x*ug;               //specific internal energy of wet steam\n",
"\n",
"printf(' (i) The Specific volume v is: %1.4f m^3/kg. \n',v);\n",
"printf(' (ii) The Specific enthalpy h is: %4.2f kJ/kg. \n',h);\n",
"printf('(iii) The Specific internal energy u is: %4.2f kJ/kg. \n',u);"
   ]
   }
,
{
		   "cell_type": "markdown",
		   "metadata": {},
		   "source": [
			"## Example 4.14: Example_14.sce"
		   ]
		  },
  {
"cell_type": "code",
	   "execution_count": null,
	   "metadata": {
	    "collapsed": true
	   },
	   "outputs": [],
"source": [
"clc\n",
"clear\n",
"//DATA GIVEN\n",
"p=7;                           //pressure of steam\n",
"h=2550;                        //enthalpy of steam\n",
"\n",
"//At 7 bar, from steam tables\n",
"hf=697.1;                      //kJ/kg\n",
"hfg=2064.9;                    //kJ/kg\n",
"vg=0.273;                      //m^3/kg\n",
"uf=696;                        //kJ/kg\n",
"ug=2573;                       //kJ/kg\n",
"\n",
"hg=hf+hfg;\n",
"//At 7 bar, hg=2762 kJ/kg, hence since actual enthalpy is given as 2550 kJ/kg, the steam must be in wet vapour state\n",
"//specific enthalpy of wet steam, h=hf+x*hfg\n",
"x=(h-hf)/hfg;                  //dryness fraction\n",
"v=x*vg;                        //specific volume of wet steam\n",
"u=(1-x)*uf+x*ug;               //specific internal energy of wet steam\n",
"\n",
"printf(' (i) The Dryness fraction x is: %1.3f. \n',x);\n",
"printf(' (ii) The Specific volume v is: %1.4f m^3/kg. \n',v);\n",
"printf('(iii) The Specific internal energy u is: %4.2f kJ/kg. \n',u);"
   ]
   }
,
{
		   "cell_type": "markdown",
		   "metadata": {},
		   "source": [
			"## Example 4.15: Example_15.sce"
		   ]
		  },
  {
"cell_type": "code",
	   "execution_count": null,
	   "metadata": {
	    "collapsed": true
	   },
	   "outputs": [],
"source": [
"clc\n",
"clear\n",
"//DATA GIVEN\n",
"p=120;                         //pressure of steam\n",
"v=0.01721;                     //specific volume of steam\n",
"\n",
"//At 120 bar, from steam tables\n",
"vg=0.0143;                     //m^3/kg\n",
"//since vg<v, the steam is superheated\n",
"//so from superheat tables at 120 bar and v=0.01721 m^3/kg\n",
"T=350;                         //deg. celsius\n",
"h=2847.7;                      //specific enthalpy of steam\n",
"u=h-p*10^5*v/10^3;             //specific internal energy of steam\n",
"\n",
"printf(' (i) The Temperature is: %3.0f deg celsius. \n',T);\n",
"printf(' (ii) The Specific enthalpy h is: %4.1f kJ/kg. \n',h);\n",
"printf('(iii) The Specific internal energy u is: %4.2f kJ/kg. \n',u);"
   ]
   }
,
{
		   "cell_type": "markdown",
		   "metadata": {},
		   "source": [
			"## Example 4.16: Example_16.sce"
		   ]
		  },
  {
"cell_type": "code",
	   "execution_count": null,
	   "metadata": {
	    "collapsed": true
	   },
	   "outputs": [],
"source": [
"clc\n",
"clear\n",
"//DATA GIVEN\n",
"p=140;                         //pressure of steam\n",
"h=3001.9;                      //specific enthalpy of steam\n",
"\n",
"//At 140 bar, from steam tables\n",
"hg=2642.4;\n",
"//since hg<h, the steam is superheated\n",
"//so from superheat tables at 140 bar and h=3001.9 kJ/kg\n",
"T=400;                         //deg. celsius\n",
"v=0.01722;                     //specific volume of steam\n",
"u=h-p*10^5*v/10^3;             //specific internal energy of steam\n",
"\n",
"printf(' (i) The Temperature is: %3.0f deg celsius. \n',T);\n",
"printf(' (ii) The Specific volume v is: %1.5f m^3/kg. \n',v);\n",
"printf('(iii) The Specific internal energy u is: %4.2f kJ/kg. \n',u);"
   ]
   }
,
{
		   "cell_type": "markdown",
		   "metadata": {},
		   "source": [
			"## Example 4.17: Example_17.sce"
		   ]
		  },
  {
"cell_type": "code",
	   "execution_count": null,
	   "metadata": {
	    "collapsed": true
	   },
	   "outputs": [],
"source": [
"clc\n",
"clear\n",
"\n",
"p1=10;                              //pressure in bar\n",
"//At 10 bar and 300 deg celsius, from steam tables of superheated steam\n",
"hsup=3051.2                         //kJ/kg\n",
"Tsup=300+273;                       //temp. of steam in K\n",
"//At 10 bar and 300 deg celsius, from steam tables of dry saturated steam\n",
"Ts=179.9+273                        //temp. of steam in K\n",
"vg=0.194;                           //m^3/kg\n",
"\n",
"//By vg/Ts = vsup/Tsup\n",
"vsup=vg*Tsup/Ts;\n",
"u1=hsup-p1*10^5*vsup/10^3;\n",
"\n",
"p2=1.4;                             //new pressure in bar\n",
"x2=0.8;                             //dryness fraction\n",
"//At 1.4 bar, from steam tables \n",
"hf2=458.4;                          //kJ/kg\n",
"hfg2=2231.9;                        //kJ/kg\n",
"vg2=1.236;                          //m^3/kg\n",
"h2=hf2+x2*hfg2;                     //enthalpy of wet steam (after expansion)\n",
"u2=h2-p2*10^5*x2*vg2/10^3;          //internal energy of this steam\n",
"Du=u2-u1;                           //change in internal energy per kg\n",
"\n",
"printf(' (i) The Internal energy of superheated steam at 10 bar is: %4.1f kJ/kg. \n',u1);\n",
"printf(' (ii) The Change in internal energy per kg is: %2.1f kJ. \n',Du);\n",
"printf('     (Negative sign indicates DECREASE in internal energy.)' );"
   ]
   }
,
{
		   "cell_type": "markdown",
		   "metadata": {},
		   "source": [
			"## Example 4.18: Example_18.sce"
		   ]
		  },
  {
"cell_type": "code",
	   "execution_count": null,
	   "metadata": {
	    "collapsed": true
	   },
	   "outputs": [],
"source": [
"clc\n",
"clear\n",
"//DATA GIVEN\n",
"m=1;                           //mass of steam in kg\n",
"p=20;                          //pressure of steam in bar\n",
"Tsup=400+273;                  //temp. of steam in K\n",
"x=0.9;                         //dryness fraction\n",
"Cps=2.3;                       //specific heat of steam in kJ/kgK\n",
"\n",
"//At 20 bar, from steam tables\n",
"Ts=212.4+273;                        //in K\n",
"hf=908.6;                            //kJ/kg\n",
"hfg=1888.6;                          //kJ/kg\n",
"vg=0.0995;                           //m^3/kg\n",
"hsup=hf+hfg+Cps*(Tsup-Ts);           //kJ/kg\n",
"\n",
"//Assume superheated steam to behave as a perfect gas from the commencement of superheating and thus obey Charle's Law\n",
"//By vg/Ts=vsup/Tsup\n",
"vsup=vg*Tsup/Ts;\n",
"usup=hsup-p*10^5*vsup*10^-3;         //internal energy of 1 kg of superheated steam in kJ/kg\n",
"\n",
"h=hf+x*hfg;\n",
"u=h-p*10^5*x*vg*10^-3;               //internal energy of 1 kg of wet steam in kJ/kg\n",
"\n",
"printf('(i) The Internal energy of 1 kg of superheated steam at 400 deg celsius is: %4.2f kJ/kg. \n',usup);\n",
"printf('(ii) The Internal energy of 1 kg of wet steam with dryness fraction 0.9 is: %4.2f kJ/kg. \n',u);"
   ]
   }
,
{
		   "cell_type": "markdown",
		   "metadata": {},
		   "source": [
			"## Example 4.19: Example_19.sce"
		   ]
		  },
  {
"cell_type": "code",
	   "execution_count": null,
	   "metadata": {
	    "collapsed": true
	   },
	   "outputs": [],
"source": [
"clc\n",
"clear\n",
"//DATA GIVEN\n",
"p=20;                        //pressure in the boilers and main is 20 bar\n",
"Tbs=350;                     //temperature of steam in boiler with superheater in deg. celsius\n",
"Tm=250;                      //temperature of steam in the main in deg. celsius\n",
"Cps=2.25;                    //specific heat of steam in kJ/kg\n",
"\n",
"//At 20 bar, from steam tables\n",
"Ts=212.4;                            //deg. celsius\n",
"hf=908.6;                            //kJ/kg\n",
"hg=2797.2;                           //kJ/kg\n",
"hfg=1888.6;                          //kJ/kg\n",
"\n",
"//Boiler B1-20 bar, 350 deg. celsius\n",
"h1=hg+Cps*(Tbs-Ts);\n",
"\n",
"//Main-20 bar, 250deg celsius\n",
"hm=2*[hg+Cps*(Tm-Ts)];               //total heat of 2 kg of steam in the steam main\n",
"\n",
"//Boiler B2-20 bar,\n",
"//h2=hf+x2*hfg\n",
"//h2=hm-h1\n",
"x2=((hm-h1)-hf)/hfg;\n",
"\n",
"printf('The Quality of steam in the Boiler without superheater is: %1.3f. \n',x2);"
   ]
   }
,
{
		   "cell_type": "markdown",
		   "metadata": {},
		   "source": [
			"## Example 4.1: Example_1.sce"
		   ]
		  },
  {
"cell_type": "code",
	   "execution_count": null,
	   "metadata": {
	    "collapsed": true
	   },
	   "outputs": [],
"source": [
"clc\n",
"clear\n",
"//DATA GIVEN\n",
"Ms=50;                         //mass of dry steam in kg\n",
"Mw=1.5;                        //mass of water in suspension in kg\n",
"\n",
"//dryness fraction, x=(mass of dry steam)/(mass of dry steam +mass of water in suspension)\n",
"x=Ms/(Ms+Mw);\n",
"\n",
"printf('The Dryness fraction (Quality) of steam is: %1.3f.',x);"
   ]
   }
,
{
		   "cell_type": "markdown",
		   "metadata": {},
		   "source": [
			"## Example 4.20: Example_20.sce"
		   ]
		  },
  {
"cell_type": "code",
	   "execution_count": null,
	   "metadata": {
	    "collapsed": true
	   },
	   "outputs": [],
"source": [
"clc\n",
"clear\n",
"//DATA GIVEN\n",
"m=1;                                 //mass of wet steam in kg\n",
"p=6;                                 //pressure of steam in bar\n",
"x=0.8;                               //dryness fraction\n",
"\n",
"//At 6 bar, from steam tables\n",
"Ts=158.8+273;                        //in K\n",
"hfg=2085;                            //kJ/kg\n",
"swet=4.18*log(Ts/273)+x*hfg/Ts;      //entropy of wet steam in kJ/kgK\n",
"\n",
"printf('The Entropy of wet steam is: %1.4f kJ/kgK.',swet);\n",
"\n",
"//NOTE;\n",
"//the exact ans is 5.7794, while in TB it is given as 5.7865 kJ/kgK"
   ]
   }
,
{
		   "cell_type": "markdown",
		   "metadata": {},
		   "source": [
			"## Example 4.21: Example_21.sce"
		   ]
		  },
  {
"cell_type": "code",
	   "execution_count": null,
	   "metadata": {
	    "collapsed": true
	   },
	   "outputs": [],
"source": [
"clc\n",
"clear\n",
"//DATA GIVEN\n",
"p1=10;                         //initial pressure of steam in bar\n",
"Tsup=250;                      //initial temperature of steam in deg celsius\n",
"p2=0.2;                        //final pressure of steam in bar\n",
"x2=0.9;                        //final dryness fraction of steam\n",
"\n",
"//At 10 bar, from steam tables\n",
"hsup=3263.9;                   //kJ/kg\n",
"ssup=7.465;                    //kJ/kgK\n",
"h1=hsup;\n",
"s1=ssup;\n",
"\n",
"//At 0.2 bar, from steam tables\n",
"hf2=251.5;                      //kJ/kh\n",
"hfg2=2358.4;                    //kJ/kg\n",
"sf2=0.8321;                     //kJ/kgK\n",
"sg2=7.9094;                     //kJ/kgK\n",
"h2=hf2+x2*hfg2;\n",
"sfg2=(sg2-sf2);\n",
"s2=sf2+x2*sfg2;\n",
"\n",
"Dh=h1-h2;                      //drop in enthalpy\n",
"Ds=s1-s2;                      //change in entropy\n",
"\n",
"printf(' (i) The Drop in enthalpy is: %3.1f kJ/kg. \n',Dh);\n",
"printf(' (ii) The change (DECREASE) in entropy is: %1.4f kJ/kgK.',Ds);"
   ]
   }
,
{
		   "cell_type": "markdown",
		   "metadata": {},
		   "source": [
			"## Example 4.22: Example_22.sce"
		   ]
		  },
  {
"cell_type": "code",
	   "execution_count": null,
	   "metadata": {
	    "collapsed": true
	   },
	   "outputs": [],
"source": [
"clc\n",
"clear\n",
"//DATA GIVEN\n",
"m=1;                           //mass of steam in kg\n",
"p=12;                          //pressure of steam in bar\n",
"Tsup=250+273;                  //temp. of steam in K\n",
"Cps=2.1;                       //specific heat of steam in kJ/kg\n",
"\n",
"//At 12 bar, from steam tables\n",
"Ts=188+273;                          //in K\n",
"hfg=1984.3;                          //kJ/kg\n",
"ssup=4.18*log(Ts/273)+hfg/Ts+Cps*log(Tsup/Ts);       //entropy of wet steam in kJ/kgK\n",
"\n",
"printf(' The Entropy of 1 kg of superheated steam at 12 bar and 250 deg celsius is: %1.3f kJ/kg. \n',ssup);"
   ]
   }
,
{
		   "cell_type": "markdown",
		   "metadata": {},
		   "source": [
			"## Example 4.23: Example_23.sce"
		   ]
		  },
  {
"cell_type": "code",
	   "execution_count": null,
	   "metadata": {
	    "collapsed": true
	   },
	   "outputs": [],
"source": [
"clc\n",
"clear\n",
"//DATA GIVEN\n",
"p=5;                           //pressure of steam in bar\n",
"Mwt=50;                        //mass of water in the tank in kg\n",
"t1=20;                         //initial temp. in deg. celsius\n",
"Ms=3;                          //amount of steam condensed in kg\n",
"t2=40;                         //final temp. in deg. celsius\n",
"We=1.5;                        //water equivalent of tank in kg\n",
"\n",
"//At 5 bar, from steam tables\n",
"hf=640.1;                      //in kJ/kg\n",
"hfg=2107.4;                    //in kJ/kg\n",
"\n",
"Mw=Mwt+We;                     //total mass of water in kg\n",
"//heat lost by steam = heat gained by water\n",
"//Ms[(hf+xhfg)-1*4.18*(t2-0)]=Mw[1*4.18*(t2-t1)]\n",
"x=[Mw*[1*4.18*(t2-t1)]/Ms+1*4.18*(t2-0)-hf]/hfg;         //dryness fraction\n",
"\n",
"printf('The Dryness fraction of steam, x is: %1.4f.',x);"
   ]
   }
,
{
		   "cell_type": "markdown",
		   "metadata": {},
		   "source": [
			"## Example 4.24: Example_24.sce"
		   ]
		  },
  {
"cell_type": "code",
	   "execution_count": null,
	   "metadata": {
	    "collapsed": true
	   },
	   "outputs": [],
"source": [
"clc\n",
"clear\n",
"//DATA GIVEN\n",
"p=1.1;                         //pressure of steam in bar\n",
"x=0.95;                        //dryness fraction\n",
"Mwt=90;                        //mass of water in the tank in kg\n",
"t1=25;                         //initial temp. in deg. celsius\n",
"Mt=12.5;                       //mass of tank in kg\n",
"c=0.42;                        //specific heat of metal in kJ/kgK\n",
"t2=40;                         //final temp. in deg. celsius\n",
"\n",
"m1=Mwt;\n",
"m2=Mt*c;                       //water equivalent of vessel\n",
"M=m1+m2;                       //total mass of water in kg\n",
"//At 1.1 bar, from steam tables\n",
"hf=428.8;                      //in kJ/kg\n",
"hfg=2250.8;                    //in kJ/kg\n",
"//heat lost by steam = heat gained by water\n",
"//Ms[(hf+xhfg)-1*4.18*(t2-0)]=M[1*4.18*(t2-t1)]\n",
"Ms=M*[1*4.18*(t2-t1)]/[(hf+x*hfg)-1*4.18*(t2-0)];      //mass of steam condensed in kg\n",
"\n",
"printf(' The Mass of steam condensed, Ms is: %1.3f kg.',Ms);"
   ]
   }
,
{
		   "cell_type": "markdown",
		   "metadata": {},
		   "source": [
			"## Example 4.25: Example_25.sce"
		   ]
		  },
  {
"cell_type": "code",
	   "execution_count": null,
	   "metadata": {
	    "collapsed": true
	   },
	   "outputs": [],
"source": [
"clc\n",
"clear\n",
"//DATA GIVEN\n",
"//condition of steam before throttling\n",
"p1=8;                       //pressure in bar\n",
"//condition of steam after throttling\n",
"p2=1;                       //pressure in bar\n",
"T2=115+273;                 //temp. in deg. celsius\n",
"Tsup2=T2;\n",
"//At 1 bar,\n",
"Ts2=99.6+273;\n",
"Cps=2.1;                    //kJ/kgK\n",
"\n",
"//As throttling is a constant enthalpy process,\n",
"//h1=h2.....hf1+x1*hgf1=hf2+hfg2+Cps(Tsup2-Ts2)\n",
"\n",
"//At 8 bar, from steam tables,\n",
"hf1=720.9;\n",
"hfg1=2046.5;\n",
"//At 1 bar, from steam tables,\n",
"hf2=417.5;\n",
"hfg2=2257.9;\n",
"\n",
"x1=[hf2+hfg2+Cps*(Tsup2-Ts2)-hf1]/hfg1;        //dryness fraction\n",
"\n",
"printf('The Dryness fraction of steam in the main, x1 is: %1.2f.',x1);"
   ]
   }
,
{
		   "cell_type": "markdown",
		   "metadata": {},
		   "source": [
			"## Example 4.26: Example_26.sce"
		   ]
		  },
  {
"cell_type": "code",
	   "execution_count": null,
	   "metadata": {
	    "collapsed": true
	   },
	   "outputs": [],
"source": [
"clc\n",
"clear\n",
"//DATA GIVEN\n",
"Mw=2;                           //mass of water separated out in kg\n",
"Ms=20.5;                        //amount of steam (condensate) discharged from throttling calorimeter in kg\n",
"Tsup3=110+273;                  //temp. of steam afetr throttling in K\n",
"p1=12;                          //initial pressure of steam in bar\n",
"p3=(760+5)/1000*1.3366;         //final pressure of steam in bar  (1 mm of Hg=1.3366 bar)\n",
"Cps=2.1;                        //kJ/kgK\n",
"\n",
"p2=p1;\n",
"//At p1=p2=12 bar, from steam tables\n",
"hf2=798.4;                      //in kJ/kg\n",
"hfg2=1984.3;                    //in kJ/kg\n",
"\n",
"//At p3=1 bar, from steam tables\n",
"Ts3=99.6+273;                   //in K\n",
"Tsup3=110+273;                  //in K\n",
"hf3=417.5;                      //in kJ/kg\n",
"hfg3=2257.9;                    //in kJ/kg\n",
"\n",
"//h2=h3.....hf2+x2*hgf2=hf3+hfg3+Cps(Tsup3-Ts3)\n",
"x2=[hf3+hfg3+Cps*(Tsup3-Ts3)-hf2]/hfg2;        //dryness fraction x2\n",
"\n",
"x1=(x2*Ms)/(Mw+Ms);                            //dryness fraction of steam supplied, x1\n",
"\n",
"printf('The Quality of steam supplied, x1 is: %1.2f.',x1);"
   ]
   }
,
{
		   "cell_type": "markdown",
		   "metadata": {},
		   "source": [
			"## Example 4.27: Example_27.sce"
		   ]
		  },
  {
"cell_type": "code",
	   "execution_count": null,
	   "metadata": {
	    "collapsed": true
	   },
	   "outputs": [],
"source": [
"clc\n",
"clear\n",
"//DATA GIVEN\n",
"p1=15;                          //pressure of steam sample in bar\n",
"p3=1;                           //pressure of steam at exit in bar\n",
"Tsup3=150+273;                  //temperature os steam at the exit in K\n",
"Mw=0.5;                         //discharge from separating calorimeter in kg/min\n",
"Ms=10;                          //discharge from throttling calorimeter in kg/min\n",
"\n",
"p2=p1;\n",
"//At p1=p2=15 bar, from steam tables\n",
"hf2=844.7;                      //in kJ/kg\n",
"hfg2=1945.2;                    //in kJ/kg\n",
"\n",
"//At p3=1 bar and 150 deg. celsius, from steam tables\n",
"hsup3=2776.4;                   //in kJ/kg\n",
"\n",
"//h2=h3.....hf2+x2*hgf2=hsup3\n",
"x2=[hsup3-hf2]/hfg2;            //dryness fraction x2\n",
"\n",
"x1=(x2*Ms)/(Mw+Ms);             //quality of steam supplied, x1\n",
"\n",
"printf('The Quality of steam supplied, x1 is: %1.3f.',x1);"
   ]
   }
,
{
		   "cell_type": "markdown",
		   "metadata": {},
		   "source": [
			"## Example 4.2: Example_2.sce"
		   ]
		  },
  {
"cell_type": "code",
	   "execution_count": null,
	   "metadata": {
	    "collapsed": true
	   },
	   "outputs": [],
"source": [
"clc\n",
"clear\n",
"//DATA GIVEN\n",
"V=0.6;                         //volume of the vessel in m^3\n",
"p=0.5;                         //pressure in bar\n",
"M=3;                           //mass of liquid and water vapour in kg\n",
"\n",
"v=V/M;                         //specific volume in m^3/kg\n",
"//At 5 bar, from steam tables\n",
"vg=0.375;                      //m^3/kg\n",
"vf=0.00109;                    //m^3/kg\n",
"vfg=vg-vf;\n",
"//v=vg-(1-x)vfg\n",
"x=(v-vg)/vfg+1;                //quality of the vapour\n",
"\n",
"//mass and volume of liquid\n",
"Mliq=M*(1-x);\n",
"Vliq=Mliq*vf;\n",
"\n",
"//mass and volume of vapour\n",
"Mvap=M*x;\n",
"Vvap=Mvap*vg;\n",
"\n",
"printf('(i) The Mass and Volume of liquid is: \n');\n",
"printf('     Mliq. is: %1.3f kg. \n',Mliq);\n",
"printf('     Vliq. is: %1.4f m^3. \n',Vliq);\n",
"printf('(ii) The Mass and Volume of vapour is: \n');\n",
"printf('     Mvap. is: %1.3f kg. \n',Mvap);\n",
"printf('     Vvap. is: %1.4f m^3. \n',Vvap);"
   ]
   }
,
{
		   "cell_type": "markdown",
		   "metadata": {},
		   "source": [
			"## Example 4.3: Example_3.sce"
		   ]
		  },
  {
"cell_type": "code",
	   "execution_count": null,
	   "metadata": {
	    "collapsed": true
	   },
	   "outputs": [],
"source": [
"clc\n",
"clear\n",
"//DATA GIVEN\n",
"V=0.05;                        //volume of vessel in m^3\n",
"Mf=10;                         //mass of liquid in kg\n",
"T=245;                         //temp. in deg celsius\n",
"\n",
"//from steam tables, corresponding to 245 deg celsius\n",
"Psat=36.5;                     //bar\n",
"vf=0.001239;                   //m^3/kg\n",
"vg=0.0546;                     //m^3/kg\n",
"hf=1061.4;                     //kJ/kg\n",
"hfg=1740.2;                    //kJ/kg\n",
"sf=2.7474;                     //kJ/kgK\n",
"sfg=3.3585;                    //kJ/kgK\n",
"\n",
"Vf=Mf*vf;                      //volume of liquid\n",
"Vg=V-Vf;                       //volume of vapour\n",
"Mg=Vg/vg;                      //mass of vapour\n",
"m=Mf+Mg;                       //total mass of mixture\n",
"\n",
"x=Mg/(Mg+Mf);                  //quality of the mixture\n",
"vfg=vg-vf;\n",
"v=vf+x*vfg;                    //specific volume\n",
"\n",
"h=hf+x*hfg;                    //specific enthalpy\n",
"\n",
"s=sf+x*sfg;                    //specific entropy\n",
"\n",
"u=h-Psat*10^5*v/10^3;          //specific internal energy\n",
"\n",
"\n",
"printf(' (i) The Pressure is: %2.1f bar. \n',Psat);\n",
"printf(' (ii) The mass m is: %2.3f kg. \n',m);\n",
"printf('(iii) The Specific volume v is: %1.6f m^3/kg. \n',v);\n",
"printf(' (iv) The Specific enthalpy h is: %4.2f kJ/kg. \n',h);\n",
"printf('  (v) The Specific entropy s is: %1.4f kJ/kgK. \n',s);\n",
"printf(' (vi) The Specific internal energy u is: %4.2f kJ/kg. \n',u);\n",
"\n",
"//NOTE:\n",
"//there is slight variation in answers of book due to rounding off of the values in the book"
   ]
   }
,
{
		   "cell_type": "markdown",
		   "metadata": {},
		   "source": [
			"## Example 4.4: Example_4.sce"
		   ]
		  },
  {
"cell_type": "code",
	   "execution_count": null,
	   "metadata": {
	    "collapsed": true
	   },
	   "outputs": [],
"source": [
"clc\n",
"clear\n",
"//DATA GIVEN\n",
"Mw=2;                          //mass of water to be converted to steam in kg\n",
"Tw=25;                         //temp. of water in deg celsius\n",
"p=5;                           //pressure\n",
"x=0.9;                         //dryness fraction\n",
"\n",
"//At 5 bar, from steam tables\n",
"hf=640.1;                      //kJ/kg\n",
"hfg=2107.4;                    //kJ/kg\n",
"\n",
"h=hf+x*hfg;                    //specific enthalpy (above 0 deg celsius)\n",
"hs=1*4.18*(Tw-0);              //sensible heat associated with i kg of water\n",
"hnet=h-hs;                     //net quantity of heat to be supplied per kg of water\n",
"Htotal=Mw*hnet;                //total amount of heat to be supplied\n",
"\n",
"printf('The Total amount of heat to be supplied is: %4.2f kJ.',Htotal);"
   ]
   }
,
{
		   "cell_type": "markdown",
		   "metadata": {},
		   "source": [
			"## Example 4.5: Example_5.sce"
		   ]
		  },
  {
"cell_type": "code",
	   "execution_count": null,
	   "metadata": {
	    "collapsed": true
	   },
	   "outputs": [],
"source": [
"clc\n",
"clear\n",
"//DATA GIVEN\n",
"m=4.4;                         //mass of steam to be produced in kg\n",
"p=6;                           //pressure of steam\n",
"Tsup=250;                      //temp. of steam in deg. celsius\n",
"Tw=30;                         //temp. of water in deg celsius\n",
"Cps=2.2;                       //specific heat of steam in kJ/kg\n",
"\n",
"//At 6 bar, from steam tables\n",
"Ts=158.8;                      //deg. celsius\n",
"hf=670.4;                      //kJ/kg\n",
"hfg=2085;                      //kJ/kg\n",
"//since the given temp. 250 deg celsius is greater than 158.8 deg celsius, steam is superheated\n",
"\n",
"hsup=hf+hfg+Cps*(Tsup-Ts);     //enthalpy of 1 kg supergeated steam reckoned from 0 deg. celsius\n",
"hs=1*4.18*(Tw-0);              //sensible heat associated with i kg of water\n",
"hnet=hsup-hs;                  //net quantity of heat to be supplied per kg of water\n",
"Htotal=m*hnet;                 //total amount of heat to be supplied\n",
"\n",
"printf('The Total amount of heat to be supplied is: %4.1f kJ.',Htotal);"
   ]
   }
,
{
		   "cell_type": "markdown",
		   "metadata": {},
		   "source": [
			"## Example 4.6: Example_6.sce"
		   ]
		  },
  {
"cell_type": "code",
	   "execution_count": null,
	   "metadata": {
	    "collapsed": true
	   },
	   "outputs": [],
"source": [
"clc\n",
"clear\n",
"//DATA GIVEN\n",
"V=0.15;                        //volume of wet steam in m^3\n",
"p=4;                           //pressure of wet steam in bar\n",
"x=0.8;                         //dryness fraction\n",
"\n",
"//At 4 bar, from steam tables\n",
"vg=0.462;                      //m^3/kg\n",
"hf=604.7;                      //kJ/kg\n",
"hfg=2133;                      //kJ/kg\n",
"\n",
"rho=1/(x*vg);                  //density in kg/m^3\n",
"m=rho*V;                       //mass of 0.15 m^3 of steam\n",
"\n",
"Htotal=(rho*1)*(hf+x*hfg);     //total heat of 1 m^3 of steam which has a mass of rho(2.7056) kg\n",
"\n",
"printf('(i)The Mass of 0.15 m^3 of steam is: %1.4f kg. \n',m);\n",
"printf('(ii)The Total heat of 1 m^3 of steam which has a mass of 2.7056 kg is: %4.2f kJ. \n',Htotal);"
   ]
   }
,
{
		   "cell_type": "markdown",
		   "metadata": {},
		   "source": [
			"## Example 4.7: Example_7.sce"
		   ]
		  },
  {
"cell_type": "code",
	   "execution_count": null,
	   "metadata": {
	    "collapsed": true
	   },
	   "outputs": [],
"source": [
"clc\n",
"clear\n",
"//DATA GIVEN\n",
"m=1000;                        //mass of steam generated in kg/hr\n",
"p=16;                          //pressure of steam in bar\n",
"x=0.9;                         //dryness fraction\n",
"Tsup=380+273;                  //temp. of superheated steam in K\n",
"Tfw=30;                        //temp. of feed water in deg. celsius\n",
"Cps=2.2;                       //specific heat of steam in kJ/kg\n",
"\n",
"//At 16 bar, from steam tables\n",
"Ts=201.4+273;                  //in K\n",
"hf=858.6;                      //kJ/kg\n",
"hfg=1933.2;                    //kJ/kg\n",
"\n",
"Hs=m*[(hf+x*hfg)-1*4.187*(Tfw-0)];      //heat supplied to feed water per hr to produce wet steam\n",
"Ha=m*[(1-x)*hfg+Cps*(Tsup-Ts)];         //heat absorbed by superheater per hour\n",
"\n",
"printf('(i) The Heat supplied to feed water per hour to produce wet steam is: %4.2f*10^3 kJ. \n',(Hs/1000));\n",
"printf('(ii) The Heat absorbed by superheater per hour is: %3.2f*10^3 kJ. \n',(Ha/1000));"
   ]
   }
,
{
		   "cell_type": "markdown",
		   "metadata": {},
		   "source": [
			"## Example 4.8: Example_8.sce"
		   ]
		  },
  {
"cell_type": "code",
	   "execution_count": null,
	   "metadata": {
	    "collapsed": true
	   },
	   "outputs": [],
"source": [
"clc\n",
"clear\n",
"\n",
"//At 0.75 bar. From steam tables,\n",
"//At 100 deg celsius\n",
"T1=100;                  //deg celsius\n",
"hsup1=2679.4;            //kJ/kg\n",
"//At 150 deg celsius\n",
"T2=150;                  //deg celsius\n",
"hsup2=2778.2;            //kJ/kg\n",
"Cps1=(hsup2-hsup1)/(T2-T1);\n",
"\n",
"//At 0.5 bar. From steam tables,\n",
"//At 300 deg celsius\n",
"T3=300;                  //deg celsius\n",
"hsup3=3075.5;            //kJ/kg\n",
"//At 400 deg celsius\n",
"T4=400;                  //deg celsius\n",
"hsup4=3278.9;            //kJ/kg\n",
"Cps2=(hsup4-hsup3)/(T4-T3);\n",
"\n",
"printf(' (i) The mean specific heat for superheated steam \n      (At 0.75 bar, between 100 and 150 deg celsius) is: %1.3f. \n',Cps1);\n",
"printf(' (ii) The mean specific heat for superheated steam \n      (At 0.5 bar, between 300 and 400 deg celsius) is: %1.3f. \n',Cps2);"
   ]
   }
,
{
		   "cell_type": "markdown",
		   "metadata": {},
		   "source": [
			"## Example 4.9: Example_9.sce"
		   ]
		  },
  {
"cell_type": "code",
	   "execution_count": null,
	   "metadata": {
	    "collapsed": true
	   },
	   "outputs": [],
"source": [
"clc\n",
"clear\n",
"//DATA GIVEN\n",
"m=1.5;                         //mass of steam in cooker in kg\n",
"p1=5;                          //pressure of steam in bar\n",
"x1=1;                          //initial dryness fraction of steam\n",
"x2=0.6;                        //final dryness fraction of steam\n",
"\n",
"//At 5 bar, from steam tables\n",
"Ts1=151.8+273;                  //in K\n",
"hf1=640.1;                      //kJ/kg\n",
"hfg1=2107.4;                    //kJ/kg\n",
"vg1=0.375;                      //m^3/kg\n",
"\n",
"V1=m*vg1;                                     //volume of pressure cooker in m^3\n",
"u1=(hf1+hfg1)-(p1*10^5)*(vg1*10^-3);          //internal energy of steam per kg at initial point 1\n",
"//V1=V2\n",
"//V1=m*[(1-x2)*vf2+x2*vg2]                    //vf2 is negligible\n",
"vg2=V1/x2/1.5;\n",
"\n",
"//from steam tables coreesponding to vg2=0.625 m^3/kg\n",
"p2=2.9;\n",
"Ts2=132.4+273;                  //in K\n",
"hf2=556.5;                      //kJ/kg\n",
"hfg2=2166.6;                    //kJ/kg\n",
"\n",
"u2=(hf2+x2*hfg2)-(p2*10^5)*x2*(vg2*10^-3);    //internal energy of steam per kg at final point 2\n",
"\n",
"hnet=u2-u1;                                   //heat transferred at constant volume per kg\n",
"Htotal=m*hnet;                                //total heat transferred\n",
"//-ve sign indicates that heat has been rejected\n",
"Hrej=-1*Htotal;\n",
"\n",
"printf(' (i) The Pressure at new state is: %1.1f bar. \n',p2);\n",
"printf('      The Temperature at new state is: %3.1f deg. celsius or %3.1f K. \n',(Ts2-273),Ts2);\n",
"printf(' (ii) The Total heat to be REJECTED is: %4.2f kJ.',Hrej);"
   ]
   }
],
"metadata": {
		  "kernelspec": {
		   "display_name": "Scilab",
		   "language": "scilab",
		   "name": "scilab"
		  },
		  "language_info": {
		   "file_extension": ".sce",
		   "help_links": [
			{
			 "text": "MetaKernel Magics",
			 "url": "https://github.com/calysto/metakernel/blob/master/metakernel/magics/README.md"
			}
		   ],
		   "mimetype": "text/x-octave",
		   "name": "scilab",
		   "version": "0.7.1"
		  }
		 },
		 "nbformat": 4,
		 "nbformat_minor": 0
}
