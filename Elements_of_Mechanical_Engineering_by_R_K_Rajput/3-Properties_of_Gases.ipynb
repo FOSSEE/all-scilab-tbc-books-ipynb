{
"cells": [
 {
		   "cell_type": "markdown",
	   "metadata": {},
	   "source": [
       "# Chapter 3: Properties of Gases"
	   ]
	},
{
		   "cell_type": "markdown",
		   "metadata": {},
		   "source": [
			"## Example 3.10: Example_10.sce"
		   ]
		  },
  {
"cell_type": "code",
	   "execution_count": null,
	   "metadata": {
	    "collapsed": true
	   },
	   "outputs": [],
"source": [
"clc\n",
"clear\n",
"//DATA GIVEN\n",
"//initial state\n",
"p1=10^5;                        //initial pressure of gas in Pa\n",
"V1=0.45;                        //initial volume of gas in m^3\n",
"T1=80+273;                      //initial temperature of gas in K\n",
"//final state\n",
"p2=5*10^5;                      //final pressure of gas in Pa\n",
"V2=0.13;                        //final volume of gas in m^3\n",
"\n",
"//gamma for air, g\n",
"g=1.4;\n",
"R=294.2                         //J/kgK\n",
"\n",
"m=p1*V1/R/T1;                   //mass in kg\n",
"\n",
"//p1*(V1^n)=p2*(V2^n)\n",
"n=log(p1/p2)/log(V2/V1);        //index n\n",
"\n",
"//In a polytropic process\n",
"//(T2/T1)=(V1/V2)^(n-1);\n",
"T2=T1*(V1/V2)^(n-1);            //temp. T2 in K\n",
"\n",
"Cv=R/(g-1);\n",
"Du=m*Cv*(T2-T1)/1000;           //increase in internal energy in kJ\n",
"\n",
"//using First Law of Thermodynamics, Q=(u2-u1)+W\n",
"//W12=(p1*V1-p2*V2)/(n-1)=mR(T2-T1)/(n-1)\n",
"W12=m*R*(T1-T2)/(n-1)/1000;\n",
"Q=Du+W12;\n",
"//since Q is -ve, there is rejection of heat from system to surroundings\n",
"\n",
"printf(' (i) The Mass of the gas is: %1.3f kg. \n',(m));\n",
"printf(' (ii) The index n is: %1.3f. \n',(n));\n",
"printf('(iii) The change in internal energy is: %2.1f kJ. \n',(Du));\n",
"printf(' (iv) The Heat REJECTED is: %2.2f kJ. \n',(-Q));"
   ]
   }
,
{
		   "cell_type": "markdown",
		   "metadata": {},
		   "source": [
			"## Example 3.11: Example_11.sce"
		   ]
		  },
  {
"cell_type": "code",
	   "execution_count": null,
	   "metadata": {
	    "collapsed": true
	   },
	   "outputs": [],
"source": [
"clc\n",
"clear\n",
"//DATA GIVEN\n",
"//initial state\n",
"p1=1.02;                        //initial pressure of air in bar\n",
"V1=0.015;                       //initial volume of air in m^3\n",
"T1=22+273;                      //initial temperature of air in K\n",
"//final state\n",
"p2=6.8;                         //final pressure of air in bar\n",
"//Law of adiabatic compression, pV^g=C\n",
"\n",
"//gamma for air, g\n",
"g=1.4\n",
"R=0.287;\n",
"\n",
"//In a adiabatic process\n",
"//(T2/T1)=(p2/p1)^((g-1)/g);\n",
"T2=T1*(p2/p1)^((g-1)/g);;       //final temp. T2 in K\n",
"\n",
"//p1*(V1^g)=p2*(V2^g)\n",
"V2=V1*(p1/p2)^(1/g);            //final volume in m^3\n",
"\n",
"m=p1*10^5*V1/10^3/R/T1;         //mass in kg\n",
"\n",
"//W=(p1*V1-p2*V2)/(g-1)=mR(T2-T1)/(g-1)\n",
"W=m*R*(T1-T2)/(g-1);\n",
"//since W is -ve, the work is done on the air\n",
"\n",
"printf(' (i) The Final temperature is: %3.2f deg. celsius. \n',(T2-273));\n",
"printf(' (ii) The Final Volume is: %1.5f m^3. \n',V2);\n",
"printf('(iii) The Work done on the air is: %1.3f kJ. \n',(-W));"
   ]
   }
,
{
		   "cell_type": "markdown",
		   "metadata": {},
		   "source": [
			"## Example 3.12: Example_12.sce"
		   ]
		  },
  {
"cell_type": "code",
	   "execution_count": null,
	   "metadata": {
	    "collapsed": true
	   },
	   "outputs": [],
"source": [
"clc\n",
"clear\n",
"//DATA GIVEN\n",
"m=0.44;                         //mass of air in kg\n",
"T1=180+273;                     //initial temperature of air in K\n",
"T2=15+273;                      //final temperature of air in K\n",
"W12=52.5;                       //work done during the process in kJ\n",
"//V2/V1=3\n",
"Vr=3;                           //volume ratio, Vr=V2/V1\n",
"\n",
"//Law of adiabatic expansion, pV^g=C\n",
"\n",
"//In an adiabatic process\n",
"//(T2/T1)=(V1/V2)^(g-1);\n",
"g=1+[(log(T2/T1)/log(1/Vr))];              //gamma for air, g=Cp/Cv\n",
"\n",
"//W12=(p1*V1-p2*V2)/(n-1)=mR(T2-T1)/(g-1)\n",
"R=W12/m/(T1-T2)*(g-1);\n",
"//R=Cp-Cv\n",
"\n",
"Cv=R/(g-1);\n",
"Cp=g*Cv;\n",
"\n",
"printf(' (i) The value of Cv is: %1.3f kJ/kgK. \n',Cv);\n",
"printf(' (ii) The value of Cp is: %1.3f kJ/kgK. \n',Cp);\n",
"\n",
"//NOTE:\n",
"//there is slight variation in answers of the book due to rounding off of the values "
   ]
   }
,
{
		   "cell_type": "markdown",
		   "metadata": {},
		   "source": [
			"## Example 3.13: Example_13.sce"
		   ]
		  },
  {
"cell_type": "code",
	   "execution_count": null,
	   "metadata": {
	    "collapsed": true
	   },
	   "outputs": [],
"source": [
"clc\n",
"clear\n",
"//DATA GIVEN\n",
"m=1;                            //mass of etahne gas in kg\n",
"M=30;                           //molecular weight of ethane\n",
"p1=1.1;                         //initial pressure in bar\n",
"T1=27+273;                      //initial temperature in K\n",
"p2=6.6;                         //final pressure in bar\n",
"Cp=1.75;                        //in kJ/kgK\n",
"\n",
"//Law of compression, pV^1.3=C\n",
"n=1.3;\n",
"\n",
"//Characteristic gas constant, R = Universal gas constant (Ro)/Molecular weight(M)\n",
"Ro=8314;\n",
"R=Ro/M/1000;                    //kJ/kgK\n",
"\n",
"//R=Cp-Cv\n",
"Cv=Cp-R;\n",
"g=Cp/Cv;                        //gamma g\n",
"\n",
"//In a polytropic process\n",
"//(T2/T1)=(p2/p1)^((n-1)/n);\n",
"T2=T1*(p2/p1)^((n-1)/n);;       //final temp. T2 in K\n",
"\n",
"//W=(p1*V1-p2*V2)/(n-1)=mR(T2-T1)/(g-1)\n",
"W=m*R*(T1-T2)/(n-1);\n",
"\n",
"Q=[(g-n)/(g-1)]*W;              //heat flow in kJ/kg\n",
"\n",
"printf(' The Heat SUPPLIED is: %2.1f kJ/kg. \n',(Q));"
   ]
   }
,
{
		   "cell_type": "markdown",
		   "metadata": {},
		   "source": [
			"## Example 3.1: Example_1.sce"
		   ]
		  },
  {
"cell_type": "code",
	   "execution_count": null,
	   "metadata": {
	    "collapsed": true
	   },
	   "outputs": [],
"source": [
"clc\n",
"clear\n",
"//DATA GIVEN\n",
"Q=-50;                          //heat rejected to cooling water in kJ/kg\n",
"W=-100;                         //work input in kJ/kg\n",
"\n",
"//using First Law of Thermodynamics, Q=(u2-u1)+W\n",
"Du=Q-W;                         //(u2-u1) change in internal energy in kJ/kg\n",
"//since Du is +ve, there is gain in internal energy\n",
"\n",
"printf('The GAIN in internal energy is: %2.0f kJ/kg. \n',Du);"
   ]
   }
,
{
		   "cell_type": "markdown",
		   "metadata": {},
		   "source": [
			"## Example 3.2: Example_2.sce"
		   ]
		  },
  {
"cell_type": "code",
	   "execution_count": null,
	   "metadata": {
	    "collapsed": true
	   },
	   "outputs": [],
"source": [
"clc\n",
"clear\n",
"//DATA GIVEN\n",
"u1=450;                         //internal energy at beginning of the expansion in kJ/kg\n",
"u2=220;                         //internal energy after expansion in kJ/kg\n",
"W=120;                          //work done by the air during expansion in kJ/kg\n",
"\n",
"//using First Law of Thermodynamics, Q=(u2-u1)+W\n",
"Q=(u2-u1)+W;                    //heat flow in kJ/kg\n",
"//since Q is -ve, there is rejection of heat\n",
"\n",
"printf('The heat REJECTED by air is: %3.0f kJ/kg. \n',(-Q));"
   ]
   }
,
{
		   "cell_type": "markdown",
		   "metadata": {},
		   "source": [
			"## Example 3.3: Example_3.sce"
		   ]
		  },
  {
"cell_type": "code",
	   "execution_count": null,
	   "metadata": {
	    "collapsed": true
	   },
	   "outputs": [],
"source": [
"clc\n",
"clear\n",
"//DATA GIVEN\n",
"m=0.3;                          //mass of nitrogen in kg\n",
"p1=0.1;                         //pressure in MPa\n",
"T1=40+273;                      //temperature before compression in K\n",
"p2=1;                           //pressure in MPa\n",
"T2=160+273;                     //temperature after compression in K\n",
"W=-30;                          //work done during the compression in kJ/kg\n",
"Cv=0.75                         //in kJ/kgK\n",
"\n",
"//using First Law of Thermodynamics, Q=(u2-u1)+W\n",
"//(u2-u1)=m*Cv*(T2-T1)\n",
"Du=m*Cv*(T2-T1);\n",
"Q=Du+W;                         //heat flow in kJ/kg\n",
"//since Q is -ve, there is rejection of heat\n",
"\n",
"printf('The heat REJECTED by air is: %1.0f kJ. \n',(-Q));"
   ]
   }
,
{
		   "cell_type": "markdown",
		   "metadata": {},
		   "source": [
			"## Example 3.4: Example_4.sce"
		   ]
		  },
  {
"cell_type": "code",
	   "execution_count": null,
	   "metadata": {
	    "collapsed": true
	   },
	   "outputs": [],
"source": [
"clc\n",
"clear\n",
"//DATA GIVEN\n",
"//initial state\n",
"p1=0.105;                       //pressure of gas in MPa\n",
"V1=0.4;                         //volume of gas in m^3\n",
"//final state\n",
"p2=0.105;                       //pressure of gas in MPa\n",
"V2=0.20;                        //volume of gas in m^3\n",
"\n",
"Q=-42.5;                        //heat transferred in kJ\n",
"p=p1;\n",
"\n",
"//process used- ISOBARIC (Constant pressure)\n",
"W12=p*(V2-V1)*1000;             //work in kJ\n",
"//using First Law of Thermodynamics, Q=(u2-u1)+W\n",
"Du=Q-W12;                       //(u2-u1) change in internal energy in kJ\n",
"//since Du is -ve, there is decrease in internal energy\n",
"\n",
"printf('The DECREASE in internal energy is: %2.1f kJ. \n',(-Du));"
   ]
   }
,
{
		   "cell_type": "markdown",
		   "metadata": {},
		   "source": [
			"## Example 3.5: Example_5.sce"
		   ]
		  },
  {
"cell_type": "code",
	   "execution_count": null,
	   "metadata": {
	    "collapsed": true
	   },
	   "outputs": [],
"source": [
"clc\n",
"clear\n",
"//DATA GIVEN\n",
"//part-1\n",
"//pressure=p1,temperature=T1\n",
"//part-2\n",
"//pressure=p2,temperature=T2\n",
"\n",
"//Acc. First Law of Thermodynamics, Q=(u2-u1)+W\n",
"//when partition moved\n",
"DQ=0;\n",
"DW=0;\n",
"DU=DQ-DW;\n",
"//DU=0\n",
"\n",
"printf('     CONCLUSION: \n');\n",
"printf('      Acc. to First Law of Thermodynamics, \n');\n",
"printf('      When partion moved, there is conservation of internal energy. \n');"
   ]
   }
,
{
		   "cell_type": "markdown",
		   "metadata": {},
		   "source": [
			"## Example 3.6: Example_6.sce"
		   ]
		  },
  {
"cell_type": "code",
	   "execution_count": null,
	   "metadata": {
	    "collapsed": true
	   },
	   "outputs": [],
"source": [
"clc\n",
"clear\n",
"//DATA GIVEN\n",
"//initial state\n",
"p1=10^5;                        //initial pressure of air in Pa\n",
"v1=1.8;                         //volume of air in m^3/kg\n",
"T1=25+273;                      //initial temperature of air in K\n",
"//final state\n",
"p2=5*10^5;                      //final pressure of air in Pa\n",
"T2=25+273;                      //final temperature of air in K\n",
"\n",
"//process used- ISOTHERMAL (Constant temperature)\n",
"W12=[p1*v1*log(p1/p2)]/1000;    //work in kJ/kg\n",
"//since W is -ve, work is supplied to the air\n",
"\n",
"//since temperature is constant\n",
"Du=0;                           //(u2-u1) change in internal energy in kJ/kg\n",
"\n",
"//using First Law of Thermodynamics, Q=(u2-u1)+W\n",
"Q=Du+W12;\n",
"//since Q is -ve, there is rejection of heat from system to surroundings\n",
"\n",
"printf(' (i) The Work done on the air is: %3.1f kJ/kg. \n',(-W12));\n",
"printf(' (ii) The change in internal energy is: %1.0f kJ/kg. \n',(Du));\n",
"printf('(iii) The Heat REJECTED is: %3.1f kJ/kg. \n',(-Q));"
   ]
   }
,
{
		   "cell_type": "markdown",
		   "metadata": {},
		   "source": [
			"## Example 3.8: Example_8.sce"
		   ]
		  },
  {
"cell_type": "code",
	   "execution_count": null,
	   "metadata": {
	    "collapsed": true
	   },
	   "outputs": [],
"source": [
"clc\n",
"clear\n",
"//DATA GIVEN\n",
"p1=4*10^5;                      //initial pressure in N/m^2\n",
"V1=0.2;                         //initial volume in m^3\n",
"T1=130+273;                     //initial temperature in K\n",
"p2=1.02*10^5;                   //final pressure after adiabatic expansion in N/m^2\n",
"Q23=72.5;                       //increase in enthalpy during constant pressure process in kJ\n",
"Cp=1;                           //in kJ/kgK\n",
"Cv=0.714;                       //in kJ/khK\n",
"\n",
"//gamma for air, g\n",
"g=Cp/Cv;\n",
"R=(Cp-Cv)*1000;\n",
"\n",
"//for reversible adiabatic process 1-2\n",
"//p1*(V1^g)=p2*(V2^g)\n",
"V2=V1*(p1/p2)^(1/g);            //final volume in m^3\n",
"//(T2/T1)=(p2/p1)^((g-1)/g);\n",
"T2=T1*(p2/p1)^((g-1)/g);;       //final temp. T2 in K\n",
"\n",
"m=p1*V1/R/T1;                   //mass in kg\n",
"\n",
"//for constant pressure process 2-3\n",
"//Q23=m*Cp*(T3-T2);\n",
"T3=Q23/m/Cp+T2;\n",
"//V2/T2=V3/T3\n",
"V3=V2/T2*T3;\n",
"\n",
"//Work done by the path 1-2-3, W123=W12+W23\n",
"W12=(p1*V1-p2*V2)/(g-1);\n",
"W23=p2*(V3-V2);\n",
"W123=W12+W23;\n",
"\n",
"//if the above processes are replaced by a single reversible polytropic process giving the same work between initial and final states,\n",
"//W13=W123=(p1V1-p3V3)/(n-1)\n",
"p3=p2;\n",
"n=1+(p1*V1-p3*V3)/W123;         //index of expansion, n\n",
"\n",
"printf(' (i) The Total Work done is: %5.0f Nm or J. \n',W123);\n",
"printf(' (ii) The value of index of expansion, n is: %1.3f. \n',n);\n",
"\n",
"//NOTE:\n",
"//there is slight variation in answers of the book due to rounding off of the values "
   ]
   }
],
"metadata": {
		  "kernelspec": {
		   "display_name": "Scilab",
		   "language": "scilab",
		   "name": "scilab"
		  },
		  "language_info": {
		   "file_extension": ".sce",
		   "help_links": [
			{
			 "text": "MetaKernel Magics",
			 "url": "https://github.com/calysto/metakernel/blob/master/metakernel/magics/README.md"
			}
		   ],
		   "mimetype": "text/x-octave",
		   "name": "scilab",
		   "version": "0.7.1"
		  }
		 },
		 "nbformat": 4,
		 "nbformat_minor": 0
}
