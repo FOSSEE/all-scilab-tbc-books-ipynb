{
"cells": [
 {
		   "cell_type": "markdown",
	   "metadata": {},
	   "source": [
       "# Chapter 13: Transmission of Motion and Power"
	   ]
	},
{
		   "cell_type": "markdown",
		   "metadata": {},
		   "source": [
			"## Example 13.10: Example_10.sce"
		   ]
		  },
  {
"cell_type": "code",
	   "execution_count": null,
	   "metadata": {
	    "collapsed": true
	   },
	   "outputs": [],
"source": [
"clc\n",
"clear\n",
"//DATA GIVEN\n",
"P=400;                      //maximum value of force that can be developed in N\n",
"mu=0.25;                    //coefficient of friction\n",
"d=0.6;                      //diameter of drum in m\n",
"//Refer the figure\n",
"theta=180+45;               //angle of contact in degrees\n",
"theta=theta*(%pi)/180;      //theta converted into radians\n",
"\n",
"//moments about A, Ma=0,\n",
"T1=P*1/0.5;\n",
"\n",
"//(i)Drum is rotating anticlockwise\n",
"//T1>T2                     (T1/T2)=e^(mu*theta)\n",
"T2=T1/(%e^(mu*theta));\n",
"Mcac=(T1-T2)*(d/2);         //maximum braking torquethat can be developed in N\n",
"\n",
"//(i)Drum is rotating clockwise\n",
"//T2>T1                     (T2/T1)=e^(mu*theta)\n",
"T2=T1*(%e^(mu*theta));\n",
"Mcc=(T2-T1)*(d/2);          //maximum braking torquethat can be developed in N\n",
"\n",
"printf(' (i) The Maximum braking torque that can be developed in anticlockwise direction is: %3.0f Nm. \n',Mcac);\n",
"printf(' (ii) The Maximum braking torque that can be developed in clockwise direction is: %3.1f Nm. \n',Mcc);\n",
""
   ]
   }
,
{
		   "cell_type": "markdown",
		   "metadata": {},
		   "source": [
			"## Example 13.11: Example_11.sce"
		   ]
		  },
  {
"cell_type": "code",
	   "execution_count": null,
	   "metadata": {
	    "collapsed": true
	   },
	   "outputs": [],
"source": [
"clc\n",
"clear\n",
"//DATA GIVEN\n",
"Pt=80;                      //power to be transmitted by the rope in kW\n",
"d=1.5;                      //diameter of pulley in m\n",
"N=200;                      //speed of the pulley in R.P.M.\n",
"alpha=45/2;                 //semi angle of groove in degrees\n",
"theta=160;                  //angle of contact in degrees\n",
"mu=0.3;                     //coefficient of friction\n",
"m=0.6;                      //mass of each rope per unit metre length\n",
"Ts=800;                     //safe pull in N\n",
"\n",
"//centrifugal tension, Tc=m*v^2\n",
"v=(%pi)*d*N/60;                         //velocity of the rope in m/s\n",
"Tc=m*v^2;\n",
"\n",
"T1=Ts-Tc;                               //tension in the tight side in N\n",
"//(T1/T2)=e^(mu*theta)\n",
"theta=theta*(%pi)/180;                  //theta converted into radians\n",
"alpha=alpha*(%pi)/180;                  //alpha converted into radians\n",
"T2=T1/(%e^(mu*theta/sin(alpha)));       //tension on the slack side in N\n",
"p=(T1-T2)*v;                            //power transmitted by the belt in watts\n",
"\n",
"//no. of ropes required, n=Total power transmitted/Power transmitted by each rope\n",
"n=Pt/(p/1000);\n",
"\n",
"//Initial tension in rope, To=(T1+T2+2Tc)/2\n",
"To=(T1+T2+2*Tc)/2;\n",
"\n",
"printf(' (i) The Number of ropes required for the drives is: %1.1f say %1.0f. \n',n,n);\n",
"printf(' (ii) The Initial tension in the rope, To is: %3.2f N. \n',To);"
   ]
   }
,
{
		   "cell_type": "markdown",
		   "metadata": {},
		   "source": [
			"## Example 13.12: Example_12.sce"
		   ]
		  },
  {
"cell_type": "code",
	   "execution_count": null,
	   "metadata": {
	    "collapsed": true
	   },
	   "outputs": [],
"source": [
"clc\n",
"clear\n",
"//DATA GIVEN\n",
"T=72;                      //number of teeth\n",
"Pc=26;                     //circular pitch in mm\n",
"\n",
"//circular pitch, Pc=(pi*D)/T\n",
"D=Pc*T/(%pi);              //pitch diameter in m\n",
"//Pc*Pd=(pi)\n",
"Pd=(%pi)/Pc;               //diametral pitch in teeth/mm\n",
"// Module, m=D/T\n",
"m=D/T;                     //module in mm/tooth\n",
"\n",
"printf(' (i) The Pitch diameterm, D is: %3.2f mm. \n',D);\n",
"printf(' (ii) The Diametral pitch, Pd is: %1.2f teeth/mm. \n',Pd);\n",
"printf('(iii) The Module,m is: %1.2f mm/tooth. \n',m);"
   ]
   }
,
{
		   "cell_type": "markdown",
		   "metadata": {},
		   "source": [
			"## Example 13.13: Example_13.sce"
		   ]
		  },
  {
"cell_type": "code",
	   "execution_count": null,
	   "metadata": {
	    "collapsed": true
	   },
	   "outputs": [],
"source": [
"clc\n",
"clear\n",
"//DATA GIVEN\n",
"Ta=40;                      //number of teeth of gear A\n",
"Tb=100;                     //number of teeth of gear B\n",
"Tc=50;                      //number of teeth of gear C\n",
"Td=150;                     //number of teeth of gear D\n",
"Te=52;                      //number of teeth of gear E\n",
"Tf=130;                     //number of teeth of gear F\n",
"Na=1000;                    //speed of the motor shaft in R.P.M.\n",
"\n",
"//(Nf/Na)=(Ta/Tb)*(Tc/Td)*(Te/Tf)\n",
"Nf=(Ta/Tb)*(Tc/Td)*(Te/Tf)*Na;      //Speed of the output shaft in R.P.M.\n",
"\n",
"printf(' The Speed of the output shaft, Nf is: %3.2f R.P.M. \n',Nf);"
   ]
   }
,
{
		   "cell_type": "markdown",
		   "metadata": {},
		   "source": [
			"## Example 13.1: Example_1.sce"
		   ]
		  },
  {
"cell_type": "code",
	   "execution_count": null,
	   "metadata": {
	    "collapsed": true
	   },
	   "outputs": [],
"source": [
"clc\n",
"clear\n",
"//DATA GIVEN\n",
"N1=240;                     //speed of the engine shaft in R.P.M.\n",
"d1=1.5;                     //diameter of pulley on engine shaft in m\n",
"d2=0.75;                    //diameter of pulley on machine shaft in m\n",
"t=0.005;                    //thickness of the belt in m\n",
"\n",
"//with no slip\n",
"//(N2/N1)=(d1+t)/(d2+t)\n",
"N2=(d1+t)/(d2+t)*N1;        //speed of the machine shaft in R.P.M.\n",
"\n",
"//with slip of 2%\n",
"S=2;                        //slip in %\n",
"//(N2/N1)=(d1+t)/(d2+t)*((100-S)/100)\n",
"N2s=(d1+t)/(d2+t)*N1*((100-S)/100);\n",
"\n",
"printf(' (i) The Speed of machine shaft, N2 with no slip is: %4.1f R.P.M. \n',N2);\n",
"printf(' (ii) The Speed of machine shaft, N2 with slip of 2 percent is: %4.1f R.P.M. \n',N2s);"
   ]
   }
,
{
		   "cell_type": "markdown",
		   "metadata": {},
		   "source": [
			"## Example 13.2: Example_2.sce"
		   ]
		  },
  {
"cell_type": "code",
	   "execution_count": null,
	   "metadata": {
	    "collapsed": true
	   },
	   "outputs": [],
"source": [
"clc\n",
"clear\n",
"//DATA GIVEN\n",
"r1=900/2000;                //radius of larger pulley in m\n",
"r2=300/2000;                //radius of smaller pulley in m\n",
"d=6;                        //distance between the centres of pulley in m\n",
"\n",
"//Length of cross belt, Lcross=(pi)(r1+r2)+(r1+r2)^2/d+2d;\n",
"Lcross=(%pi)*(r1+r2)+(r1+r2)^2/d+2d;\n",
"//Length of open belt, Lopen=(pi)(r1+r2)+(r2-r1)^2/d+2d;\n",
"Lopen=(%pi)*(r1+r2)+(r2-r1)^2/d+2d;\n",
"\n",
"Lred=Lcross-Lopen;          //length to be reduced\n",
"printf(' The Length of the belt to be reduced, \n (to change the direction of rotation of the follower pulleys)is: %2.0f mm. \n',(Lred*1000));"
   ]
   }
,
{
		   "cell_type": "markdown",
		   "metadata": {},
		   "source": [
			"## Example 13.3: Example_3.sce"
		   ]
		  },
  {
"cell_type": "code",
	   "execution_count": null,
	   "metadata": {
	    "collapsed": true
	   },
	   "outputs": [],
"source": [
"clc\n",
"clear\n",
"//DATA GIVEN\n",
"T1=1500;                    //tension on the tight side in N\n",
"T2=1200;                    //tension on the slack side in N\n",
"v=80;                       //speed of the belt in m/s\n",
"\n",
"P=(T1-T2)*v;                //power transmitted by the belt in watts\n",
"\n",
"printf(' The Power transmitted by the belt is: %2.0f kW. \n',(P/1000));"
   ]
   }
,
{
		   "cell_type": "markdown",
		   "metadata": {},
		   "source": [
			"## Example 13.4: Example_4.sce"
		   ]
		  },
  {
"cell_type": "code",
	   "execution_count": null,
	   "metadata": {
	    "collapsed": true
	   },
	   "outputs": [],
"source": [
"clc\n",
"clear\n",
"//DATA GIVEN\n",
"v=500;                      //speed of the belt in m/min\n",
"mu=0.3;                     //coefficient of friction\n",
"theta=160;                  //angle of contact in degrees\n",
"T1=700;                     //maximum tension in the belt in N\n",
"\n",
"//(T1/T2)=e^(mu*theta)\n",
"theta=theta*(%pi)/180;      //theta converted into radians\n",
"T2=T1/(%e^(mu*theta));      //tension on the slack side in N\n",
"v=v/60;                     //speed of the belt converted into m/s\n",
"P=(T1-T2)*v;                //power transmitted by the belt in watts\n",
"\n",
"printf(' The Power transmitted by the belt is: %2.3f kW. \n',(P/1000));"
   ]
   }
,
{
		   "cell_type": "markdown",
		   "metadata": {},
		   "source": [
			"## Example 13.5: Example_5.sce"
		   ]
		  },
  {
"cell_type": "code",
	   "execution_count": null,
	   "metadata": {
	    "collapsed": true
	   },
	   "outputs": [],
"source": [
"clc\n",
"clear\n",
"//DATA GIVEN\n",
"r1=750/2000;                //radius of larger pulley in m\n",
"r2=300/2000;                //radius of smaller pulley in m\n",
"d=1.5;                      //distance between the centres of pulley in m\n",
"Tms=14;                     //maximum safe tension in N/mm\n",
"b=150;                      //width of the belt in mm\n",
"v=540;                      //speed of the belt in m/min\n",
"mu=0.25;                    //coefficient of friction\n",
"\n",
"T1=Tms*b;                   //maximum tension in the belt in N\n",
"v=v/60;                     //speed of the belt converted into m/s\n",
"//(i) for open belt\n",
"ALPHAo=asin ((r1-r2)/d)*180/(%pi);     //alpha in degrees\n",
"THETAo=180-2*ALPHAo;                   //angle of lap or contact in deg\n",
"T2o=T1/(%e^(mu*(THETAo*%pi/180)));     //tension on the slack side in N\n",
"Po=(T1-T2o)*v;                         //power transmitted by the belt in watts\n",
"\n",
"//(ii) for cross belt\n",
"ALPHAc=asin ((r1+r2)/d)*180/(%pi);     //alpha in degrees\n",
"THETAc=180+2*ALPHAc;                   //angle of lap or contact in deg\n",
"T2c=T1/(%e^(mu*(THETAc*%pi/180)));     //tension on the slack side in N\n",
"Pc=(T1-T2c)*v;                         //power transmitted by the belt in watts\n",
"\n",
"printf(' (i) The Maximum Power transmitted by the open belt is: %2.3f kW. \n',(Po/1000));\n",
"printf(' (ii) The Maximum Power transmitted by the cross belt is: %2.3f kW. \n',(Pc/1000));"
   ]
   }
,
{
		   "cell_type": "markdown",
		   "metadata": {},
		   "source": [
			"## Example 13.6: Example_6.sce"
		   ]
		  },
  {
"cell_type": "code",
	   "execution_count": null,
	   "metadata": {
	    "collapsed": true
	   },
	   "outputs": [],
"source": [
"clc\n",
"clear\n",
"//DATA GIVEN\n",
"b=0.25;                     //width of the belt in m\n",
"t=0.006;                    //thickness of the belt in m\n",
"r=900/2000;                 //radius of the pulley in m\n",
"rho=1100;                   //density of the material in kg/m^3\n",
"Tp=2;                       //permissible tension of the belt in MN/m^2\n",
"ratio=2;                    //ratio of T1/T2=2\n",
"N=200;                      //speed of the pulley in R.P.M.\n",
"\n",
"Tmax=Tp*10^6*b*t;           //maximum safe tension of the belt\n",
"//centrifugal tension, Tc=m*v^2\n",
"m=(b*t)*1*rho;              //mass of the belt per unit metre length\n",
"v=2*(%pi)*(r+t/2)*N/60;\n",
"Tc=m*v^2;\n",
"\n",
"T1=Tmax-Tc;                 //tension in the tight side in N\n",
"T2=T1/ratio;                //tension in the slack side in N\n",
"P=(T1-T2)*v;                //power transmitted by the belt in watts\n",
"\n",
"\n",
"printf(' (i) The Centrifugal tension Tc is: %3.1f N. \n',Tc);\n",
"printf(' (ii) The Power transmitted by the belt is: %2.1f kW. \n',(P/1000));"
   ]
   }
,
{
		   "cell_type": "markdown",
		   "metadata": {},
		   "source": [
			"## Example 13.7: Example_7.sce"
		   ]
		  },
  {
"cell_type": "code",
	   "execution_count": null,
	   "metadata": {
	    "collapsed": true
	   },
	   "outputs": [],
"source": [
"clc\n",
"clear\n",
"//DATA GIVEN\n",
"P=35;                       //power required to be transmitted by the belt in kW\n",
"d=1.5;                      //effective diameter of pulley in m\n",
"N=300;                      //speed of the pulley in R.P.M.\n",
"theta=11/24*2*%pi;          //angle of contact in radians\n",
"mu=0.3;                     //coefficient of friction\n",
"t=0.0095;                   //thickness of the belt in m\n",
"rho=1100;                   //density of the material in kg/m^3\n",
"sigma=2.5;                  //permissible stress in MN/m^2\n",
"\n",
"v=%pi*d*N/60;               //speed of the belt in m/s\n",
"//P=(T2-T1)*v, so (T2-T1)=P/v....................(1)\n",
"c=%e^(mu*theta);            //so, T2/T1=c........(2)\n",
"//By equation (1) and (2),\n",
"T2=(P/v*1000)/(c-1);        //tension in the slack side in N\n",
"T1=c*T2;                    //tension in the tight side in N\n",
"\n",
"//maximum tension, Tmax=sigma*b*t=0.2375*b*10^6 N    (3)\n",
"//centrifugal tension, Tc=m*v^2=5800.5*b N           (4)\n",
"//T1=Tmax-c                                          (5)\n",
"//By eqn. (3),(4) and (5)\n",
"b=T1/((sigma*10^6*t)-(t*1*rho*v^2));      //width of the belt in m\n",
"\n",
"printf(' The Width of the belt is: %3.0f mm (say 150 mm). \n',(b*1000));"
   ]
   }
,
{
		   "cell_type": "markdown",
		   "metadata": {},
		   "source": [
			"## Example 13.8: Example_8.sce"
		   ]
		  },
  {
"cell_type": "code",
	   "execution_count": null,
	   "metadata": {
	    "collapsed": true
	   },
	   "outputs": [],
"source": [
"clc\n",
"clear\n",
"//DATA GIVEN\n",
"b=0.2;                      //width of the belt in m\n",
"t=0.01;                     //thickness of the belt in m\n",
"Tp=2;                       //permissible tension of the belt in MN/m^2\n",
"ratio=1.8;                  //ratio of T1/T2=1.8\n",
"rho=1100;                   //density of the material in kg/m^3\n",
"\n",
"Tmax=Tp*10^6*b*t;           //maximum safe tension of the belt\n",
"//we know centrifugal tension, Tc=Tmax/3\n",
"Tc=Tmax/3;\n",
"//centrifugal tension, Tc=m*v^2\n",
"m=(b*t)*1*rho;              //mass of the belt per unit metre length\n",
"v=(Tc/m)^0.5;               \n",
"\n",
"T1=Tmax-Tc;                 //tension in the tight side in N\n",
"T2=T1/ratio;                //tension in the slack side in N\n",
"P=(T1-T2)*v;                //power transmitted by the belt in watts\n",
"\n",
"printf(' (i) The Velocity of the belt is: %3.1f m/s. \n',v);\n",
"printf(' (ii) The Maximum power transmitted by the belt is: %2.2f kW. \n',(P/1000));"
   ]
   }
,
{
		   "cell_type": "markdown",
		   "metadata": {},
		   "source": [
			"## Example 13.9: Example_9.sce"
		   ]
		  },
  {
"cell_type": "code",
	   "execution_count": null,
	   "metadata": {
	    "collapsed": true
	   },
	   "outputs": [],
"source": [
"clc\n",
"clear\n",
"//DATA GIVEN\n",
"To=1000;                    //initial tension in the belt in N\n",
"theta=150;                  //angle of embrace in degrees\n",
"mu=0.25;                    //coefficient of friction\n",
"v=500;                      //speed of the belt in m/min\n",
"\n",
"//Initial tension, To=(T1+T2)/2\n",
"//so, (T1+T2)=2000.............................. (1)\n",
"theta=theta*(%pi)/180;      //theta converted into radians\n",
"c=%e^(mu*theta);            //so, T2/T1=c........(2)\n",
"//By equation (1) and (2),\n",
"T2=(To*2)/(c+1);            //tension in the slack side in N\n",
"T1=c*T2;                    //tension in the tight side in N\n",
"\n",
"v=v/60;                     //speed of the belt converted into m/s\n",
"P=(T1-T2)*v;                //power transmitted by the belt in watts\n",
"\n",
"printf(' (i) The Tension in the tight side T1 is: %4.0f N. \n',T1);\n",
"printf('      The Tension in the slack side T2 is: %3.1f N. \n',T2);\n",
"printf(' (ii) The Power transmitted by the belt is: %2.2f kW. \n',(P/1000));\n",
""
   ]
   }
],
"metadata": {
		  "kernelspec": {
		   "display_name": "Scilab",
		   "language": "scilab",
		   "name": "scilab"
		  },
		  "language_info": {
		   "file_extension": ".sce",
		   "help_links": [
			{
			 "text": "MetaKernel Magics",
			 "url": "https://github.com/calysto/metakernel/blob/master/metakernel/magics/README.md"
			}
		   ],
		   "mimetype": "text/x-octave",
		   "name": "scilab",
		   "version": "0.7.1"
		  }
		 },
		 "nbformat": 4,
		 "nbformat_minor": 0
}
