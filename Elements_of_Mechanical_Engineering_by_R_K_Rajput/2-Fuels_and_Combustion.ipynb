{
"cells": [
 {
		   "cell_type": "markdown",
	   "metadata": {},
	   "source": [
       "# Chapter 2: Fuels and Combustion"
	   ]
	},
{
		   "cell_type": "markdown",
		   "metadata": {},
		   "source": [
			"## Example 2.1: Example_1.sce"
		   ]
		  },
  {
"cell_type": "code",
	   "execution_count": null,
	   "metadata": {
	    "collapsed": true
	   },
	   "outputs": [],
"source": [
"clc\n",
"clear\n",
"//DATA GIVEN\n",
"c=88;                   //% of carbon in coal\n",
"h=4.2;                  //% of hydrogen in coal\n",
"Wf=0.848;               //weight of coal in g\n",
"Wfw=0.027;              //weight of fuse wire in calorimeter in g\n",
"W=1950;                 //weight of water in calorimeter in g\n",
"We=380;                 //water equivalent of calorimeter\n",
"Dt=3.06;                //observed temperature rise (t2-t1) in deg celsius\n",
"tc=0.017;               //cooling correction in deg celsius\n",
"cfw=6700;               //calorific value of fuse wire in J/g\n",
"\n",
"//CALCULATIONS\n",
"ctr=(Dt)+tc;            //corrected temp. rise\n",
"Hw=(W+We)*4.18*[ctr];   //heat recieved by water in J\n",
"Hfw=Wfw*cfw;            //heat given out by fuse wire in J\n",
"Hcf=Hw-Hfw;             //heat produced due to combustion of fuel in J\n",
"HCV=Hcf/Wf;             //higher calorific value of fuel in kJ/kg\n",
"Ms=9*h/100;             //steam produced per kg of coal\n",
"LCV=HCV-2465*Ms;        //lower calorific value of fuel in kJ/kg\n",
"\n",
"printf('The Higher calorific value of fuel, H.C.V. is: %5.1f kJ/kg. \n',HCV);\n",
"printf(' The Lower calorific value of fuel, L.C.V. is: %5.1f kJ/kg. \n',LCV);"
   ]
   }
,
{
		   "cell_type": "markdown",
		   "metadata": {},
		   "source": [
			"## Example 2.2: Example_2.sce"
		   ]
		  },
  {
"cell_type": "code",
	   "execution_count": null,
	   "metadata": {
	    "collapsed": true
	   },
	   "outputs": [],
"source": [
"clc\n",
"clear\n",
"//DATA GIVEN\n",
"V1=0.08;                 //gas burnt in calorimeter in m^3\n",
"Pg=5.2;                  //pressure of gas supply in cm of water\n",
"Pb=75.5;                 //barometer reading in cm of Hg\n",
"Ww=28;                   //weight of water heated by gas in kg\n",
"Tg=13;                   //temperature of gas in deg celsius\n",
"Twi=10;                  //temperature of water at inlet in deg celsius\n",
"Two=23.5;                //temperature of water at outlet in deg celsius\n",
"Ms=0.06;                 //steam condensed in kg\n",
"\n",
"//CALCULATIONS\n",
"//by using general gas equation, reducing the volume to S.T.P.\n",
"//p1*V1/T1=p2*V2/T2\n",
"p1=Pb+(Pg/13.6);         //in cm of Hg\n",
"T1=Tg+273;               //in K\n",
"p2=76;                   //in cm of Hg\n",
"T2=15+273;               //in K\n",
"V2=p1*V1*T2/T1/p2;       //in m^3\n",
"Hw=Ww*4.18*(Two-Twi);    //heat recieved by water in kJ\n",
"HCV=Hw/V1;               //higher calorific value of fuel in kJ/m^3\n",
"LCV=HCV-2465*Ms/V1;      //lower calorific value of fuel in kJ/m^3\n",
"\n",
"printf(' The Calorific values of fuel per m^3 of gas at 15 deg celsius and 76 cm of Hg pressure are: \n');\n",
"printf('  The Higher calorific value of fuel, H.C.V. is: %5.1f kJ/m^3. \n',HCV);\n",
"printf('  The Lower calorific value of fuel, L.C.V. is: %5.1f kJ/m^3. \n',LCV);"
   ]
   }
],
"metadata": {
		  "kernelspec": {
		   "display_name": "Scilab",
		   "language": "scilab",
		   "name": "scilab"
		  },
		  "language_info": {
		   "file_extension": ".sce",
		   "help_links": [
			{
			 "text": "MetaKernel Magics",
			 "url": "https://github.com/calysto/metakernel/blob/master/metakernel/magics/README.md"
			}
		   ],
		   "mimetype": "text/x-octave",
		   "name": "scilab",
		   "version": "0.7.1"
		  }
		 },
		 "nbformat": 4,
		 "nbformat_minor": 0
}
