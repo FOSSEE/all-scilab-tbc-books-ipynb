{
"cells": [
 {
		   "cell_type": "markdown",
	   "metadata": {},
	   "source": [
       "# Chapter 7: Internal Combustion Engines"
	   ]
	},
{
		   "cell_type": "markdown",
		   "metadata": {},
		   "source": [
			"## Example 7.10: Example_10.sce"
		   ]
		  },
  {
"cell_type": "code",
	   "execution_count": null,
	   "metadata": {
	    "collapsed": true
	   },
	   "outputs": [],
"source": [
"clc\n",
"clear\n",
"//DATA GIVEN\n",
"n=4;                          //no. of cylinders\n",
"BP=30;                        //Brake Power in kW\n",
"N=2500;                       //engine speed in R.P.M.\n",
"Pmi=8;                        //mean effective pressure in bar\n",
"ETAm=0.8;                     //mechanical efficiency\n",
"ETAthb=0.28;                  //brake thermal efficiency\n",
"C=43900;                      //calorific value of fuel used in kJ/kg\n",
"k=1;                          //for 2-stroke cylinder\n",
"\n",
"//mechanical efficiency, ETAm=BP/IP\n",
"IP=BP/ETAm;\n",
"//INDICTED POWER ,I.P.=(n*PMI*l*A*N*k*10)/6 kW\n",
"//L=1.5D,\n",
"D=((6*IP)/(10*k*N*n*Pmi*1.5*(%pi/4)))^(1/3);     //bore diameter in m\n",
"L=1.5*D;                                         //length of stroke in m\n",
"//Brake thermal efficiency, ETAtb=BP/(Mf*C)\n",
"Mf=BP/(ETAthb*C);                                //fuel consumption in kg/hr\n",
"\n",
"printf(' (i) The Bore diameter is: %5.3f m or %2.0f mm.\n',D,(D*1000));\n",
"printf('      The Stoke length is: %2.0f mm.\n',(L*1000));\n",
"printf(' (ii) The Fuel consumption is: %5.5f kg/s or %3.2f kg/hr. \n',Mf,(Mf*3600));"
   ]
   }
,
{
		   "cell_type": "markdown",
		   "metadata": {},
		   "source": [
			"## Example 7.11: Example_11.sce"
		   ]
		  },
  {
"cell_type": "code",
	   "execution_count": null,
	   "metadata": {
	    "collapsed": true
	   },
	   "outputs": [],
"source": [
"clc\n",
"clear\n",
"//DATA GIVEN\n",
"n=6;                          //no. of cylinders\n",
"Pdisp=700;                    //piston disp per cylinder in cm^3\n",
"P=78;                         //power developed in kW\n",
"N=3200;                       //engine speed in R.P.M.\n",
"Mf=27;                        //mass of fuel used in kg/hr\n",
"C=44000;                      //calorific value of fuel used in kJ/kg\n",
"afr=12;                       //air fuel ratio\n",
"Pa=0.9;                       //intake air pressure in bar\n",
"Ta=32+273;                    //intake air tempertaure in K\n",
"R=0.287;                      //gas constant for air in kJ/kgK\n",
"k=0.5;                        //for 4-stroke cylinder\n",
"\n",
"Ma=afr*Mf;                              //mass of air\n",
"//by eq. pa*Va=Ma*R*Ta\n",
"Va=Ma*R*Ta/Pa/100;                      //volume of intake air in m^3/hr\n",
"Vswept=(Pdisp/10^6)*n*(N/2)*60;         //volume swept in m^3/hr\n",
"ETAvol=Va/Vswept;                       //volumetric efficiency\n",
"\n",
"//Brake thermal efficiency , ETAbt=brake work/heat supplied by the fuel\n",
"ETAbt=P/(Mf*C/3600);\n",
"//Brake Power, BP = (2*pi)N*Tb/(60*1000) kW\n",
"Tb=P*60/(2*%pi*N);                      //brake torque in kNm\n",
"\n",
"printf('  (i) The Volumetric efficiency is: %5.3f or %5.1f percent. \n',ETAvol,(ETAvol*100));\n",
"printf('  (ii) The Brake thermal efficiency is: %5.4f or %5.2f percent. \n',ETAbt,(ETAbt*100));\n",
"printf(' (iii) The Brake Torque is: %5.4f kNm. \n',Tb);"
   ]
   }
,
{
		   "cell_type": "markdown",
		   "metadata": {},
		   "source": [
			"## Example 7.12: Example_12.sce"
		   ]
		  },
  {
"cell_type": "code",
	   "execution_count": null,
	   "metadata": {
	    "collapsed": true
	   },
	   "outputs": [],
"source": [
"clc\n",
"clear\n",
"//DATA GIVEN\n",
"//L=1.5D\n",
"n=6;                          //no. of cylinders\n",
"Vs=1.75;                      //stroke volume in litres\n",
"IP=26.3;                      //power developed in kW\n",
"Ne=504;                       //engine speed in R.P.M.\n",
"Pmi=6;                        //mean effective pressure in bar\n",
"k=0.5;                        //for 4-stroke cylinder\n",
"\n",
"//INDICTED POWER ,I.P.=(n*PMI*l*A*N*k*10)/6 kW\n",
"//L*A=Vs\n",
"Na=IP*6/(n*Pmi*(Vs/10^3)*k*10);      //actual speed in R.P.M\n",
"Fa=Na*n*k;                           //actual no. of fires in one minute\n",
"Fe=Ne*n/2;                           //expected no. of fires in one minute\n",
"Fm=Fe-Fa;                            //misfires per minute\n",
"Fmavg=Fm/n;                          //avg. no. of times each cylinder misfires in one minute\n",
"\n",
"printf('The Average no. of times each cylinder misfires in one minute is: %1.0f.\n',Fmavg);"
   ]
   }
,
{
		   "cell_type": "markdown",
		   "metadata": {},
		   "source": [
			"## Example 7.13: Example_13.sce"
		   ]
		  },
  {
"cell_type": "code",
	   "execution_count": null,
	   "metadata": {
	    "collapsed": true
	   },
	   "outputs": [],
"source": [
"clc\n",
"clear\n",
"//DATA GIVEN\n",
"D=0.075;                      //bore in m\n",
"L=0.09;                       //stroke length in m\n",
"n=4;                          //no. of cylinders\n",
"erar=39/8;                    //engine to rear axle ratio =39:8\n",
"Dw=0.65;                      //wheel diameter with tyre fully inflated in m\n",
"Fc=0.227;                     //petrol consumption for a distance of 3.2 km at a speed of 48 km/hr\n",
"Pmi=5.625;                    //mean effective pressure in bar\n",
"C=43470;                      //calorific value of fuel used in kJ/kg\n",
"k=0.5;                        //for 4-stroke cylinder\n",
"\n",
"s=48*1000/60;                 //speed of car in m/min\n",
"//if Nt rev are made by tyre per minute, speed=pi*Dw*Nt\n",
"Nt=s/(%pi*Dw);                //R.P.M.\n",
"//as engine to rear axle ratio is 39:8\n",
"Ne=erar*Nt;                   //speed of enfine shaft in R.P.M.\n",
"//INDICTED POWER ,I.P.=(n*PMI*l*A*N*k*10)/6 kW\n",
"A=(%pi/4)*(D^2);\n",
"IP=(n*Pmi*L*A*Ne*k*10)/6;\n",
"\n",
"s=s/1000;                     //speed of car in km/min\n",
"t=3.2/s;                      //time in min for covering 3.2 km \n",
"//petrol consumption for a distance of 3.2 km aat a speed of 48 km/hr is 0.227kg\n",
"Mf=Fc/(t*60);                 //fuel consumed per sec\n",
"ETAthi=IP/(Mf*C);             //Indicated fuel efficiency\n",
"\n",
"printf(' (i) The Indicated Power developed is: %5.2f kW. \n',IP);\n",
"printf(' (ii) The Indicated thermal efficiency is: %1.3f or %2.1f percent. \n',ETAthi,(ETAthi*100));"
   ]
   }
,
{
		   "cell_type": "markdown",
		   "metadata": {},
		   "source": [
			"## Example 7.14: Example_14.sce"
		   ]
		  },
  {
"cell_type": "code",
	   "execution_count": null,
	   "metadata": {
	    "collapsed": true
	   },
	   "outputs": [],
"source": [
"clc\n",
"clear\n",
"//DATA GIVEN\n",
"D=0.25;                       //cylinder diameter in m\n",
"L=0.4;                        //stroke length in m\n",
"Pmg=7;                        //Gross mean effective pressure in bar\n",
"Pmp=0.5;                      //Pumping mean effective pressure in bar\n",
"N=250;                        //engine speed in R.P.M.\n",
"NBL=1080;                     //net load on the brake (W-S) in N\n",
"Db=1.5;                       //effective diameter of the brake in m\n",
"Fc=10;                        //fuel used per hr in kg\n",
"C=44300;                      //calorific value of fuel used in kJ/kg\n",
"n=1;                          //no. of cylinders\n",
"k=0.5;                        //for 4-stroke cylinder\n",
"\n",
"//INDICTED POWER ,I.P.=(n*PMI*l*A*N*k*10)/6 kW\n",
"Pm=Pmg-Pmp;\n",
"A=(%pi/4)*(D^2);\n",
"IP=(n*Pm*L*A*N*k*10)/6;\n",
"BP=NBL*(%pi)*(Db)*N/(60*1000);\n",
"ETAm=BP/IP;                    //mechanical efficiency\n",
"Mf=Fc/3600;\n",
"ETAthi=IP/(Mf*C);              //Indicated thermal efficiency\n",
"\n",
"printf(' (i) The Indicated Power, I.P. is: %5.2f kW. \n',IP);\n",
"printf(' (ii) The Brake Power, B.P. is: %2.1f kW. \n',BP);\n",
"printf('(iii) Mechanical efficiency is: %5.3f or %2.1f percent.\n',ETAm,(ETAm*100));\n",
"printf(' (iv) Indicated thermal efficiency is: %5.3f or %2.1f percent.\n',ETAthi,(ETAthi*100));\n",
"\n",
"\n",
""
   ]
   }
,
{
		   "cell_type": "markdown",
		   "metadata": {},
		   "source": [
			"## Example 7.15: Example_15.sce"
		   ]
		  },
  {
"cell_type": "code",
	   "execution_count": null,
	   "metadata": {
	    "collapsed": true
	   },
	   "outputs": [],
"source": [
"clc\n",
"clear\n",
"//DATA GIVEN\n",
"ETAthb=30;                    //Brake thermal efficiency in %\n",
"afr=20;                       //air fuel ratio by weight\n",
"C=41800;                      //calorific value of fuel used in kJ/kg\n",
"\n",
"//Brake thermal efficiency, ETAthb=work produced/heat supplied\n",
"work=(ETAthb/100)*C;          //work produced per kg of fuel\n",
"//STP conditions refer to 1.0132 bar and 15 deg celsius\n",
"m=afr;                        //mass of air per kg of fuel\n",
"R=287;\n",
"V=m*R*(15+273)/(1.0132*10^5); //volume of air used\n",
"//Brake mean effective pressure, Pmb=work done/cylinder volume\n",
"Pmb=(work*1000)/(V*10^5);\n",
"\n",
"printf('The Brake mean effective pressure, Pmb is: %2.2f bar.\n',Pmb);"
   ]
   }
,
{
		   "cell_type": "markdown",
		   "metadata": {},
		   "source": [
			"## Example 7.16: Example_16.sce"
		   ]
		  },
  {
"cell_type": "code",
	   "execution_count": null,
	   "metadata": {
	    "collapsed": true
	   },
	   "outputs": [],
"source": [
"clc\n",
"clear\n",
"//DATA GIVEN\n",
"V1=0.216;                     //gas consumption in m^3/min\n",
"P1=75;                        //gas temperature in mm of water\n",
"T1=17+273;                    //gas tempertaure in K\n",
"m=2.84;                       //air consumption in kg/min\n",
"Ta=17+273;                    //air tempertaure in K\n",
"br=745;                       //barometer reading in mm of Hg\n",
"D=0.25;                       //bore of engine cylinder in m\n",
"L=0.475;                      //stroke length in m\n",
"N=240;                        //engine speed in R.P.M.\n",
"R=287;                        //gas constant for air in J/kgK\n",
"n=1;                          //no. of cylinders\n",
"k=1;                          //for 2-stroke cylinder\n",
"\n",
"P1=br+P1/13.6;                //pressure of the gas\n",
"//at NTP\n",
"P2=760;                       //mm of Hg\n",
"T2=0+273;                     //in K\n",
"//P1*V1/T1=P2*V2/T2\n",
"V2=P1*V1*T2/(P2*T1);          //volume of gas used at NTP in m^3\n",
"Vg=V2/(N/2);                  //gas used per stroke in m^3\n",
"\n",
"//PV=mRT\n",
"P2=1.0132*10^5;\n",
"V=m*R*T2/P2;                  //volume occupied by air in m^3/min\n",
"Va=V/(N/2);                   //air used per stroke in m\n",
"\n",
"Vmix=Vg+Va;                   //mixture of gas and air in m^3\n",
"\n",
"//ETAvol=(actual volume of mixture drawn per stroke at NTP)/(swept volume of system)\n",
"ETAvol=Vmix/((%pi/4)*D^2*L);\n",
"\n",
"printf(' The Volumetric efficiency is: %3.3f or %3.1f percent. \n',ETAvol,(ETAvol*100));"
   ]
   }
,
{
		   "cell_type": "markdown",
		   "metadata": {},
		   "source": [
			"## Example 7.17: Example_17.sce"
		   ]
		  },
  {
"cell_type": "code",
	   "execution_count": null,
	   "metadata": {
	    "collapsed": true
	   },
	   "outputs": [],
"source": [
"clc\n",
"clear\n",
"//DATA GIVEN\n",
"t=1;                          //duration of trial in hr\n",
"N=14000;                      //revolutions\n",
"mc=500;                       //no. of missed cycles\n",
"NBL=1470;                     //Net brake load (W-S) in N\n",
"Pmi=7.5;                      //mean effective pressure in bar\n",
"Vg=20000/3600;                //gas consumption in litres/s\n",
"C=21;                         //LCV of gas at sipply conditions in kJ/litre\n",
"D=0.25;                       //cylinder diameter in m\n",
"L=0.4;                        //stroke length in m\n",
"Cb=4;                         //effective brake circumference in m\n",
"r=6.5;                        //compression ratio\n",
"n=1;                          //no. of cylinders\n",
"k=0.5;                        //for 4-stroke cylinder\n",
"\n",
"//gamma for air, g=1.4\n",
"g=1.4;\n",
"\n",
"//INDICTED POWER ,I.P.=(n*PMI*l*A*N*k*10)/6 kW\n",
"Nk=(N*k-mc)/60;               //(N*k)-working cycles/min\n",
"A=(%pi/4)*(D^2);\n",
"IP=(n*Pmi*L*A*Nk*10)/6;\n",
"N=N/60;\n",
"BP=NBL*(Cb)*N/(60*1000);\n",
"eta=BP/IP;                    //mechanical efficiency\n",
"ETAthi=IP/(Vg*C);             //Indicated thermal efficiency\n",
"\n",
"//relative efficiency, ETArel=ETAthi/ETAas\n",
"//ETAas=1-1/(r^(g-1))\n",
"ETAas=1-1/(r^(g-1));          //air-standard efficiency\n",
"ETArel=ETAthi/ETAas;          //relative efficiency\n",
"\n",
"printf('  (i) The Indicated Power, I.P. is: %5.2f kW. \n',IP);\n",
"printf('  (ii) The Brake Power, B.P. is: %5.2f kW. \n',BP);\n",
"printf(' (iii) Mechanical efficiency is: %5.3f or %2.1f percent.\n',eta,(eta*100));\n",
"printf('  (iv) The Indicated thermal efficiency is: %2.2f or %2.0f percent. \n',ETAthi,(ETAthi*100));\n",
"printf('   (v) The Relative efficiency is: %2.3f or %2.1f percent. \n',ETArel,(ETArel*100));"
   ]
   }
,
{
		   "cell_type": "markdown",
		   "metadata": {},
		   "source": [
			"## Example 7.1: Example_1.sce"
		   ]
		  },
  {
"cell_type": "code",
	   "execution_count": null,
	   "metadata": {
	    "collapsed": true
	   },
	   "outputs": [],
"source": [
"clc\n",
"clear\n",
"//DATA GIVEN\n",
"Pmi=6;                        //mean effective pressure in bar\n",
"N=1000;                       //engine speed in R.P.M.\n",
"D=0.11;                       //diameter of piston in m\n",
"L=0.14;                       //stroke length in m\n",
"n=1;                          //no. of cylinders\n",
"k=1;                          //for 2-stroke cylinder\n",
"\n",
"//INDICTED POWER ,I.P.=(n*PMI*l*A*N*k*10)/6 kW\n",
"A=(%pi/4)*(D^2);\n",
"IP=(n*Pmi*L*A*N*k*10)/6;\n",
"\n",
"printf('The Indicted Power developed is: %2.1f kW.',IP);"
   ]
   }
,
{
		   "cell_type": "markdown",
		   "metadata": {},
		   "source": [
			"## Example 7.2: Example_2.sce"
		   ]
		  },
  {
"cell_type": "code",
	   "execution_count": null,
	   "metadata": {
	    "collapsed": true
	   },
	   "outputs": [],
"source": [
"clc\n",
"clear\n",
"//DATA GIVEN\n",
"//L=1.5D\n",
"n=4;                          //no. of cylinders\n",
"P=14.7;                       //power developed in kW\n",
"N=1000;                       //engine speed in R.P.M.\n",
"Pmi=5.5;                      //mean effective pressure in bar\n",
"k=0.5;                        //for 4-stroke cylinder\n",
"\n",
"//INDICTED POWER, I.P.=(n*PMI*l*A*N*k*10)/6 kW\n",
"//A=(pi/4)*D^2,\n",
"//L=1.5D,\n",
"D=((6*P)/(10*k*N*n*Pmi*1.5*(%pi/4)))^(1/3);     //bore diameter in m\n",
"L=1.5*D;                                        //length of stroke in m\n",
"\n",
"printf('The Bore diameter is: %5.2f mm.\n',(D*1000));\n",
"printf(' The Stoke length is: %5.2f mm.\n',(L*1000));"
   ]
   }
,
{
		   "cell_type": "markdown",
		   "metadata": {},
		   "source": [
			"## Example 7.3: Example_3.sce"
		   ]
		  },
  {
"cell_type": "code",
	   "execution_count": null,
	   "metadata": {
	    "collapsed": true
	   },
	   "outputs": [],
"source": [
"clc\n",
"clear\n",
"//DATA GIVEN\n",
"Db=0.6;                       //diameter of brake wheel in m\n",
"d=0.026;                      //diameter of rope in m\n",
"W=200;                        //dead load on the brake in N\n",
"S=30;                         //spring balance reading in N\n",
"N=450;                        //engine speed in R.P.M.\n",
"\n",
"//Brake Power, B.P.=(W-S)(pi)(Db+d)N/(60*1000) kW\n",
"BP=(W-S)*(%pi)*(Db+d)*N/(60*1000);\n",
"\n",
"printf('The Brake Power, B.P. is: %2.1f kW.\n',BP);"
   ]
   }
,
{
		   "cell_type": "markdown",
		   "metadata": {},
		   "source": [
			"## Example 7.4: Example_4.sce"
		   ]
		  },
  {
"cell_type": "code",
	   "execution_count": null,
	   "metadata": {
	    "collapsed": true
	   },
	   "outputs": [],
"source": [
"clc\n",
"clear\n",
"//DATA GIVEN\n",
"T=175;                   //torque due to brake load in Nm\n",
"N=500;                   //engine speed in R.P.M.\n",
"\n",
"//Brake Power, BP = (2*pi)NT/(60*1000) kW\n",
"BP = (2*%pi)*N*T/(60*1000); \n",
"\n",
"printf('The Brake Power, B.P. is: %4.2f kW.\n',BP);"
   ]
   }
,
{
		   "cell_type": "markdown",
		   "metadata": {},
		   "source": [
			"## Example 7.5: Example_5.sce"
		   ]
		  },
  {
"cell_type": "code",
	   "execution_count": null,
	   "metadata": {
	    "collapsed": true
	   },
	   "outputs": [],
"source": [
"clc\n",
"clear\n",
"//DATA GIVEN\n",
"D=0.3;                        //bore of engine cylinder in m\n",
"L=0.45;                       //stroke length in m\n",
"N=300;                        //engine speed in R.P.M.\n",
"Pmi=6;                        //mean effective pressure in bar\n",
"NBL=1.5;                      //Net brake load (W-S) in kN\n",
"Db=1.8;                       //diameter of brake drum\n",
"d=0.02;                       //brake rope diameter\n",
"n=1;                          //no. of cylinders\n",
"k=0.5;                        //for 4-stroke cylinder\n",
"\n",
"//INDICTED POWER ,I.P.=(n*PMI*l*A*N*k*10)/6 kW\n",
"A=(%pi/4)*(D^2);\n",
"IP=(n*Pmi*L*A*N*k*10)/6;\n",
"BP=NBL*(%pi)*(Db+d)*N/(60);\n",
"eta=BP/IP;                    //mechanical efficiency\n",
"\n",
"printf(' (i) The Indicted Power, I.P. is: %5.2f kW. \n',IP);\n",
"printf(' (ii) The Brake Power, B.P. is: %5.2f kW. \n',BP);\n",
"printf('(iii) Mechanical efficiency is: %5.4f or %5.2f percent.\n',eta,(eta*100));"
   ]
   }
,
{
		   "cell_type": "markdown",
		   "metadata": {},
		   "source": [
			"## Example 7.6: Example_6.sce"
		   ]
		  },
  {
"cell_type": "code",
	   "execution_count": null,
	   "metadata": {
	    "collapsed": true
	   },
	   "outputs": [],
"source": [
"clc\n",
"clear\n",
"//DATA GIVEN\n",
"D=0.2;                        //diameter of engine cylinder in m\n",
"L=0.350;                      //length of stroke in m\n",
"Pmico=6.5;                    //mean effective pressure on cover side in bar\n",
"Pmicr=7;                      //mean effective pressure on crank side in bar\n",
"N=420;                        //engine speed in R.P.M.\n",
"Drod=0.02;                    //diameter of piston rod in m\n",
"W=1370;                       //dead load on the brake in N\n",
"S=145;                        //spring balance reading in N\n",
"Db=1.2;                       //diameter of brake wheel in m\n",
"d=0.02;                       //diameter of rope in m\n",
"n=1;                          //no. of cylinders\n",
"k=0.5;                        //for 4-stroke cylinder\n",
"\n",
"//INDICTED POWER ,I.P.=(n*Pmi*l*A*N*k*10)/6 kW\n",
"Aco=(%pi/4)*(D^2);                 //area of cylinder om cover end in m^2\n",
"Acr=(%pi/4)*(D^2-Drod^2);          //area of cylinder om crank end in m^2\n",
"IPco=(n*Pmico*L*Aco*N*k*10)/6;     //IP on cover end side in kW\n",
"IPcr=(n*Pmicr*L*Acr*N*k*10)/6;     //IP on crank end side in kW\n",
"IPtotal=IPco+IPcr;                 //IP total in kW\n",
"\n",
"//Brake Power, B.P.=(W-S)(pi)(Db+d)N/(60*1000) kW\n",
"BP=(W-S)*(%pi)*(Db+d)*N/(60*1000);\n",
"\n",
"eta=BP/IPtotal;                    //mechanical efficiency\n",
"\n",
"printf('Mechanical efficiency is: %5.4f or %5.2f percent.\n',eta,(eta*100));"
   ]
   }
,
{
		   "cell_type": "markdown",
		   "metadata": {},
		   "source": [
			"## Example 7.7: Example_7.sce"
		   ]
		  },
  {
"cell_type": "code",
	   "execution_count": null,
	   "metadata": {
	    "collapsed": true
	   },
	   "outputs": [],
"source": [
"clc\n",
"clear\n",
"//DATA GIVEN\n",
"IP=30;                       //indicted power in kW\n",
"BP=26;                       //Brake Power in kW\n",
"N=1000;                      //engine speed in R.P.M.\n",
"F=0.35;                      //fuel per brake power hour in kg/BP/h\n",
"C=43900;                     //calorific value of fuel used in kJ/kg\n",
"\n",
"Fc=F*BP;                     //fuel consumption per hour \n",
"Mf=Fc/3600;\n",
"ETAti=IP/(Mf*C);            //Indicted thermal eficiency\n",
"ETAtb=BP/(Mf*C);            //Brake thermal efficiency\n",
"ETAm=BP/IP;                 //Mechanical efficiency\n",
"\n",
"printf(' (i) The Indicted thermal eficiency is: %5.3f or %2.1f percent. \n',ETAti,(ETAti*100));\n",
"printf(' (ii) The Brake thermal efficiency is: %5.3f or %2.1f percent. \n',ETAtb,(ETAtb*100));\n",
"printf('(iii) Mechanical efficiency is: %5.3f or %2.1f percent. \n',ETAm,(ETAm*100));"
   ]
   }
,
{
		   "cell_type": "markdown",
		   "metadata": {},
		   "source": [
			"## Example 7.8: Example_8.sce"
		   ]
		  },
  {
"cell_type": "code",
	   "execution_count": null,
	   "metadata": {
	    "collapsed": true
	   },
	   "outputs": [],
"source": [
"clc\n",
"clear\n",
"//DATA GIVEN\n",
"Db=0.75;                       //diameter of brake pulley in m\n",
"d=0.05;                        //diameter of rope in m\n",
"W=400;                         //dead load on the brake in N\n",
"S=50;                          //spring balance reading in N\n",
"Fc=4.2;                        //fuel consumption in kg/hr\n",
"N=1000;                        //rated engine speed in R.P.M.\n",
"C=43900;                       //calorific value of fuel used in kJ/kg\n",
"n=1;                           //no. of cylinders\n",
"k=0.5;                         //for 4-stroke cylinder\n",
"\n",
"\n",
"//Brake Power, B.P.=(W-S)(pi)(Db+d)N/(60*1000) kW\n",
"BP=(W-S)*(%pi)*(Db+d)*N/(60*1000);\n",
"sfc=Fc/BP;                               //brake specific fuel consumption in kg/kWhr\n",
"Mf=Fc/3600;\n",
"ETAtb=BP/(Mf*C);                         //Brake thermal efficiency\n",
"\n",
"printf(' (i) The Brake specific fuel consumption, s.f.c (brake) is: %5.3f kg/kWh. \n',sfc);\n",
"printf(' (ii) The Brake thermal efficiency is: %5.3f or %2.1f percent. \n',ETAtb,(ETAtb*100));\n",
"\n",
""
   ]
   }
,
{
		   "cell_type": "markdown",
		   "metadata": {},
		   "source": [
			"## Example 7.9: Example_9.sce"
		   ]
		  },
  {
"cell_type": "code",
	   "execution_count": null,
	   "metadata": {
	    "collapsed": true
	   },
	   "outputs": [],
"source": [
"clc\n",
"clear\n",
"//DATA GIVEN\n",
"n=6;                          //no. of cylinders\n",
"D=0.09;                       //bore of each cylinder in m\n",
"L=0.1;                        //length of stroke in m\n",
"r=7;                          //compression ratio\n",
"ETArel=0.55;                  //relative efficiency\n",
"Fsc=0.3;                      //indicated specific fuel consumption in kg/kWh\n",
"Pmi=8.6;                      //indicated mean effective pressure in bar\n",
"N=2500;                       //engine speed in R.P.M.\n",
"k=0.5;                        //for 4-stroke cylinder\n",
"\n",
"//Air standard efficiency, ETAair=1-1/(r^(gamma-1))\n",
"g=1.4;                        //gamma of air=1.4\n",
"ETAair=1-1/(r^(g-1));\n",
"//Indicated thermal efficiency, ETArel=ETAthi/ETAair;\n",
"ETAthi=ETArel*ETAair;\n",
"//Indicted thermal eficiency, ETAthi=IP/(Mf*C)\n",
"Mf=Fsc/3600;\n",
"//taking IP=1,\n",
"C=1/(ETAthi*Mf);              //calorific value in kJ/kg\n",
"//INDICTED POWER ,I.P.=(n*Pmi*l*A*N*k*10)/6 kW\n",
"A=(%pi/4)*(D^2);\n",
"IP=(n*Pmi*L*A*N*k*10)/6;\n",
"Fc=Fsc*IP;                    //total fuel consumption in kg/hr\n",
"\n",
"printf(' (i) The Calorific value of coal, C is: %5.0f kJ/kg. \n',C);\n",
"printf(' (ii) The Fuel consumption is: %5.2f kg/h. \n',Fc);\n",
"\n",
"//NOTE:\n",
"//ans of calorific value here is exact, while in TB its rounded off value"
   ]
   }
],
"metadata": {
		  "kernelspec": {
		   "display_name": "Scilab",
		   "language": "scilab",
		   "name": "scilab"
		  },
		  "language_info": {
		   "file_extension": ".sce",
		   "help_links": [
			{
			 "text": "MetaKernel Magics",
			 "url": "https://github.com/calysto/metakernel/blob/master/metakernel/magics/README.md"
			}
		   ],
		   "mimetype": "text/x-octave",
		   "name": "scilab",
		   "version": "0.7.1"
		  }
		 },
		 "nbformat": 4,
		 "nbformat_minor": 0
}
