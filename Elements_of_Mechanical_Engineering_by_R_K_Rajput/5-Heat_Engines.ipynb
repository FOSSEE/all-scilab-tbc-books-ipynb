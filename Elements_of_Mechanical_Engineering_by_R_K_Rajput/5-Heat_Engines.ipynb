{
"cells": [
 {
		   "cell_type": "markdown",
	   "metadata": {},
	   "source": [
       "# Chapter 5: Heat Engines"
	   ]
	},
{
		   "cell_type": "markdown",
		   "metadata": {},
		   "source": [
			"## Example 5.10: Example_10.sce"
		   ]
		  },
  {
"cell_type": "code",
	   "execution_count": null,
	   "metadata": {
	    "collapsed": true
	   },
	   "outputs": [],
"source": [
"clc\n",
"clear\n",
"//DATA GIVEN\n",
"p1=18;                             //maximum pressure in bar\n",
"T1=410+273;                        //maximum temperature in K\n",
"T2=T1;\n",
"Rac=6;                             //ratio of isentropic or adiabatic compression, V4/V1=6\n",
"Rie=1.5;                           //ratio of isothermal expansion, V2/V1=1.5\n",
"V1=0.18;                           //volume of air at beginning of isothermal expansion in m^3\n",
"wc=210;                            //no. of cycles per s\n",
"\n",
"//gamma for air=1.4\n",
"g=1.4;\n",
"\n",
"//for isentropic process 4-1\n",
"//Also (T1/T4)=(V4/V1)^(g-1)\n",
"//(V4/V1)=Rac\n",
"T4=T1/Rac^(g-1);\n",
"T3=T4;\n",
"//p1(V1^gamma)=p4(V4^gamma)\n",
"//p4=p1*(V1/V4)^g\n",
"//where, (V4/V1)=Rac\n",
"p4=p1/(Rac^g);\n",
"\n",
"//for isothermal process 1-2\n",
"//p1V1=p2V2\n",
"//V1/V2=1/Rie\n",
"p2=p1*(1/Rie);\n",
"\n",
"//for isentropic process 2-3\n",
"//p2(V2^gamma)=p3(V3^gamma)\n",
"//V2/V3=V1/V4=1/Rac\n",
"p3=p2*(1/Rac)^g;\n",
"\n",
"//change in entropy, DS=S2-S1=mRlog(V2/V1)=p1V1/T1*log(V2/V1)\n",
"DS=p1*10^5*V1/10^3/T1*log(Rie);\n",
"\n",
"//Heat supplied, Qs=p1*V1*log(V2/V1)\n",
"//Qs=T1(S2-S1)\n",
"Qs=T1*DS;\n",
"//Qr=p4*V4*log(V3/V4)                   //heat rejected in kJ\n",
"//Qr=T4(S3-S4), bcs increase in entropy during heat addition is equal to decrease in entropy during heat rejection\n",
"Qr=T4*DS;\n",
"\n",
"ETA=(Qs-Qr)/Qs;                         //mean thermal efficiency of the cycle\n",
"\n",
"//mean effective pressure of the cycle, Pm = work done per cycle/stroke volume\n",
"Rv31=Rac*Rie;                           //ratio of volumes at 3 and 1, V3/V1=V3/V2*V2/V1\n",
"//stroke volume, Vs=V3-V1\n",
"Vs=V1*(Rv31-1);\n",
"J=1;\n",
"Pm=(Qs-Qr)*10^3/10^5*J/Vs;\n",
"\n",
"P=(Qs-Qr)*wc/60;                        //power of the engine in kW\n",
"\n",
"printf(' (i) The Pressure and Temperature at point 1 are:\n');\n",
"printf('                p1:%2.0f bar.\n',p1);\n",
"printf('                T1:%3.0f K.\n',T1);\n",
"printf('      The Pressure and Temperature at point 2 are:\n');\n",
"printf('                p2:%2.0f bar.\n',p2);\n",
"printf('                T2:%3.0f K.\n',T2);\n",
"printf('      The Pressure and Temperature at point 3 are:\n');\n",
"printf('                p3:%1.2f bar.\n',p3);\n",
"printf('                T3:%3.1f K.\n',T3);\n",
"printf('      The Pressure and Temperature at point 4 are:\n');\n",
"printf('                p4:%1.2f bar.\n',p4);\n",
"printf('                T4:%3.1f K.\n',T4);\n",
"printf(' (ii) The Change in entropy during isothermal expansion is: %1.3f kJ/K. \n',DS);\n",
"printf('(iii) The Mean thermal efficiency of the cycle is: %1.3f or %2.1f percent. \n',ETA,(ETA*100));\n",
"printf(' (iv) The Mean effective pressure is: %1.3f bar. \n',Pm);\n",
"printf('  (v) The Power of the engine working on this cycle is given by: %3.1f kW.',P);\n",
"\n",
"//NOTE:\n",
"//there is slight variation in answers of book due to rounding off of the values"
   ]
   }
,
{
		   "cell_type": "markdown",
		   "metadata": {},
		   "source": [
			"## Example 5.11: Example_11.sce"
		   ]
		  },
  {
"cell_type": "code",
	   "execution_count": null,
	   "metadata": {
	    "collapsed": true
	   },
	   "outputs": [],
"source": [
"clc\n",
"clear\n",
"//DATA GIVEN\n",
"//CASE-1\n",
"//(T1-T2)/T1=1/6\n",
"//SO, T1=1.2(T2).........                Eqn(1)\n",
"\n",
"//CASE-2\n",
"//T2 REDUCED BY 70 DEG. CELSIUS\n",
"//{T1-[T2-(70+273)]}/T1=1/3..............Eqn(2)\n",
"//2T1=3T2-1029\n",
"\n",
"//By Eqn (1) and (2)\n",
"T2=(70+273)*3/(3-2*1.2);\n",
"T1=1.2*T2;\n",
"\n",
"printf('(i) The Temperature of the Source, T1 is: %4.0f K or %4.0f deg. celsius. \n',T1,(T1-273));\n",
"printf('(ii) The Temperature of the Sink, T2 is: %4.0f K or %4.0f deg. celsius. \n',T2,(T2-273));"
   ]
   }
,
{
		   "cell_type": "markdown",
		   "metadata": {},
		   "source": [
			"## Example 5.12: Example_12.sce"
		   ]
		  },
  {
"cell_type": "code",
	   "execution_count": null,
	   "metadata": {
	    "collapsed": true
	   },
	   "outputs": [],
"source": [
"clc\n",
"clear\n",
"//DATA GIVEN\n",
"T1=1990;                    //Temperature of the heat Source in K\n",
"T2=850;                     //Temperature of the heat Sink in K\n",
"Qs=32.5;                    //heat supplied in kJ/min\n",
"P=0.4;                      //power developed by the engine in kW\n",
"\n",
"ETAcarnot=(T1-T2)/T1;\n",
"//Also ETAth=work done/Heat supplied\n",
"ETAth=P/Qs;\n",
"\n",
"printf('The Efficiency of carnot cycle is: %1.3f or %2.1f percent. \n',ETAcarnot,(ETAcarnot*100));\n",
"printf(' The Thermal efficiency of engine claimed by inventor is: %1.3f or %2.1f percent. \n\n',ETAth,(ETAth*100));\n",
"\n",
"if(ETAth>ETAcarnot)\n",
"    printf(' Thus, The claim of the inventor is possible.');\n",
"else\n",
"    printf(' Thus, The claim of the inventor is NOT feasible, \n as no engine can be more efficient than that working on carnot cycle.');"
   ]
   }
,
{
		   "cell_type": "markdown",
		   "metadata": {},
		   "source": [
			"## Example 5.13: Example_13.sce"
		   ]
		  },
  {
"cell_type": "code",
	   "execution_count": null,
	   "metadata": {
	    "collapsed": true
	   },
	   "outputs": [],
"source": [
"clc\n",
"clear\n",
"//DATA GIVEN\n",
"ETAotto=60;                    //Efficiency of otto cycle in %\n",
"shr=1.5;                       //ratio of specific heats\n",
"\n",
"//ETAotto=1-1/(r)^(shr-1)\n",
"r=(1/(1-ETAotto/100))^(1/(shr-1)); //compression ratio\n",
"\n",
"printf('The compression ratio is: %1.2f.',r);"
   ]
   }
,
{
		   "cell_type": "markdown",
		   "metadata": {},
		   "source": [
			"## Example 5.14: Example_14.sce"
		   ]
		  },
  {
"cell_type": "code",
	   "execution_count": null,
	   "metadata": {
	    "collapsed": true
	   },
	   "outputs": [],
"source": [
"clc\n",
"clear\n",
"//DATA GIVEN\n",
"D=0.25;                            //bore of the engine in m\n",
"L=0.375;                           //stroke of the engine in m\n",
"Vc=0.00263;                        //clearance volume in m^3\n",
"p1=1;                              //initial pressure in bar\n",
"T1=50+273;                         //initial temperature in K\n",
"p3=25;                             //maximum pressure in bar\n",
"\n",
"Vs=(%pi/4)*D^2*L;                  //swept volume\n",
"r=(Vs+Vc)/Vc;                      //compression ratio\n",
"\n",
"//for air, gamma=1.4\n",
"g=1.4;\n",
"//Air standard efficiency of otto cycle ETAotto=1-1/(r)^(g-1)\n",
"ETAotto=1-1/(r)^(g-1);\n",
"\n",
"//for adiabatic process 1-2\n",
"//p1(V1^gamma)=p2(V2^gamma)\n",
"//p2=p1*(V1/V2)^g\n",
"//where, (V1/V2)=r\n",
"p2=p1*(r^g);                                //pressure at 2 in bar\n",
"rp=p3/p2;                                   //pressure ratio\n",
"Pm=p1*r*[(r^(g-1)-1)*(rp-1)]/[(g-1)*(r-1)]; //mean effective pressure in bar\n",
"\n",
"printf(' (i) The Air standard efficiency of otto cycle is: %1.3f or %2.1f percent. \n',ETAotto,(ETAotto*100));\n",
"printf(' (ii) The Mean effective pressure is: %1.3f bar. \n',Pm);"
   ]
   }
,
{
		   "cell_type": "markdown",
		   "metadata": {},
		   "source": [
			"## Example 5.15: Example_15.sce"
		   ]
		  },
  {
"cell_type": "code",
	   "execution_count": null,
	   "metadata": {
	    "collapsed": true
	   },
	   "outputs": [],
"source": [
"clc\n",
"clear\n",
"//DATA GIVEN\n",
"T1=38+273;                      //initial temperature in K\n",
"T3=1950+273;                    //maximum temperature K\n",
"rp=15;                          //pressure ratio\n",
"//for air, gamma=1.4\n",
"g=1.4;\n",
"\n",
"//for adiabatic compression 1-2\n",
"//p1(V1^gamma)=p2(V2^gamma)\n",
"//(V1/V2)=r\n",
"r=(rp)^(1/g);\n",
"\n",
"//Thermal efficiency ETAth=1-1/(r)^(g-1)\n",
"ETAth=1-1/(r)^(g-1);\n",
"\n",
"//for adiabatic compression 1-2\n",
"//(T2/T1)=(V1/V2)^(g-1)\n",
"//(V1/V2)=r\n",
"T2=T1*r^(g-1);\n",
"\n",
"//for adiabatic expansion 3-4\n",
"//(T3/T4)=(V4/V3)^(g-1)\n",
"//(V4/V3)=r\n",
"T4=T3/r^(g-1);\n",
"\n",
"//heat supplied per kg of air, Qs=m*Cv*(T3-T2)\n",
"R=0.287; \n",
"Cv=R/(g-1);\n",
"Qs=Cv*(T3-T2);\n",
"\n",
"//heat rejected per kg of air, Qr=m*Cv*(T4-T1)\n",
"Qr=Cv*(T4-T1);\n",
"\n",
"W=Qs-Qr;                        //work done per kg of air\n",
"\n",
"printf(' (i) The compression ratio is: %1.1f.\n',r);\n",
"printf(' (ii) The Thermal efficiency is: %1.3f or %2.1f percent. \n',ETAth,(ETAth*100));\n",
"printf('(iii) The Work done is: %3.1f kJ or %6.0f Nm.',W,(W*1000));\n",
"\n",
"//NOTE:\n",
"//there is slight variation in answers in the book because of rounding off of the values"
   ]
   }
,
{
		   "cell_type": "markdown",
		   "metadata": {},
		   "source": [
			"## Example 5.16: Example_16.sce"
		   ]
		  },
  {
"cell_type": "code",
	   "execution_count": null,
	   "metadata": {
	    "collapsed": true
	   },
	   "outputs": [],
"source": [
"clc\n",
"clear\n",
"//DATA GIVEN\n",
"V1=0.45;                        //volume in m^3\n",
"p1=1;                           //initial pressure in bar\n",
"T1=30+273;                      //initial temperature in K\n",
"p2=11;                          //pressure at the end of compression stroke in bar\n",
"Qs=210;                         //heat addaed at constant volume in kJ\n",
"wc=210;                         //no. of working cycles/min\n",
"\n",
"//for air, gamma=1.4\n",
"g=1.4;\n",
"\n",
"//for adiabatic compression 1-2\n",
"//p1(V1^gamma)=p2(V2^gamma)\n",
"//(V1/V2)=r\n",
"r=(p2/p1)^(1/g);\n",
"//Also (T2/T1)=(V1/V2)^(g-1)\n",
"//(V1/V2)=r\n",
"T2=T1*r^(g-1);\n",
"\n",
"//Applying gas laws to points 1 and 2\n",
"//p1V1/T1=p2V2/T2\n",
"V2=T2/T1*p1/p2*V1;\n",
"\n",
"//heat supplied during process 2-3, Qs=mCv(T3-T2)\n",
"R=287; \n",
"m=p1*10^5*V1/R/T1;\n",
"Cv=R/1000/(g-1);\n",
"T3=Qs/m/Cv+T2;\n",
"\n",
"//for constant volume process 2-3\n",
"//p3/T3=p2/T2\n",
"p3=p2/T2*T3;\n",
"V3=V2;\n",
"\n",
"//for adiabatic expansion 3-4\n",
"//p3(V3^gamma)=p4(V4^gamma)\n",
"//(V4/V3)=r\n",
"p4=p3*(1/r)^(g);\n",
"//Also T3/T4)=(V4/V3)^(g-1)\n",
"//(V4/V3)=r\n",
"T4=T3/r^(g-1);\n",
"V4=V1;\n",
"\n",
"//percentage clearance, pc=Vc/Vs=V2/(V1-V2)\n",
"pc=V2/(V1-V2)*100;\n",
"\n",
"//heat rejected per cycle, Qr=Cv*(T4-T1)\n",
"Qr=m*Cv*(T4-T1);\n",
"\n",
"//Air standard efficiency of otto cycle ETAotto=(Qs-Qr)/Qs\n",
"ETAotto=(Qs-Qr)/Qs;\n",
"//Alternatively\n",
"//ETAotto=1-1/(r)^(g-1)\n",
"ETAotto=1-1/(r)^(g-1);\n",
"\n",
"//mean effective pressure, Pm=W/Vs\n",
"W=Qs-Qr;                        //work done per kg of air\n",
"Vs=V1-V2;\n",
"Pm=W*10^3/10^5/Vs;\n",
"\n",
"//power developed, P=work done per cycle*no. of cycles per s\n",
"P=W*(wc/60);\n",
"\n",
"printf(' (i) The Pressure, Temperature and Volumes at salient points in the cycle are:\n');\n",
"printf('      At point 1 are:\n');\n",
"printf('                p1:%1.1f bar.\n',p1);\n",
"printf('                V1:%1.2f m^3.\n',V1);\n",
"printf('                T1:%3.0f K.\n',T1);\n",
"printf('      At point 2 are:\n');\n",
"printf('                p2:%2.2f bar.\n',p2);\n",
"printf('                V2:%1.3f m^3.\n',V2);\n",
"printf('                T2:%3.0f K.\n',T2);\n",
"printf('      At point 3 are:\n');\n",
"printf('                p3:%2.2f bar.\n',p3);\n",
"printf('                V3:%1.3f m^3.\n',V3);\n",
"printf('                T3:%4.0f K.\n',T3);\n",
"printf('      At point 4 are:\n');\n",
"printf('                p4:%1.2f bar.\n',p4);\n",
"printf('                V4:%1.2f m^3.\n',V4);\n",
"printf('                T4:%3.1f K.\n',T4);\n",
"printf(' (ii) The Percentage clearance is: %2.2f percent. \n',pc);\n",
"printf('(iii) The Air standard efficiency of the cycle is: %1.3f or %2.1f percent. \n',ETAotto,(ETAotto*100));\n",
"printf(' (iv) The Mean effective pressure is: %1.3f bar. \n',Pm);\n",
"printf('  (v) The Power developed is: %3.1f kW.',P);\n",
"\n",
"//NOTE:\n",
"//there is slight variation in answers in the book because of rounding off of the values"
   ]
   }
,
{
		   "cell_type": "markdown",
		   "metadata": {},
		   "source": [
			"## Example 5.17: Example_17.sce"
		   ]
		  },
  {
"cell_type": "code",
	   "execution_count": null,
	   "metadata": {
	    "collapsed": true
	   },
	   "outputs": [],
"source": [
"clc\n",
"clear\n",
"//DATA GIVEN\n",
"r=15;                       //compression ratio\n",
"//V3-V2=a/100*Vs............Vs=stroke volume=V1-V2\n",
"//V3=1.84V2\n",
"c=6;                        //heat addition takes place at 'a' percent of stroke\n",
"//for air, gamma=1.4\n",
"g=1.4;\n",
"\n",
"//Air standard efficiency of diesel cycle ETAdiesel=1-[1/(r)^(g-1)][(rho^g-1)/(rho-1)]\n",
"//rho=cut off ratio=V3/V2\n",
"rho=c/100*(r-1)+1;\n",
"ETAdiesel=1-[1/g/(r)^(g-1)]*[(rho^g-1)/(rho-1)];\n",
"\n",
"printf(' The Air standard efficiency of diesel cycle is: %1.3f or %2.1f percent. \n',ETAdiesel,(ETAdiesel*100));"
   ]
   }
,
{
		   "cell_type": "markdown",
		   "metadata": {},
		   "source": [
			"## Example 5.18: Example_18.sce"
		   ]
		  },
  {
"cell_type": "code",
	   "execution_count": null,
	   "metadata": {
	    "collapsed": true
	   },
	   "outputs": [],
"source": [
"clc\n",
"clear\n",
"//DATA GIVEN\n",
"L=0.25;                            //stroke of the engine in m\n",
"D=0.15;                            //diameter of cylinder in m\n",
"V2=0.0004;                         //clearance volume in m^3\n",
"Vs=(%pi/4)*D^2*L;                  //swept volume in m^3\n",
"Vt=Vs+V2;                          //total cylinder volume in m^3\n",
"c=5;                               //fuel injection takes place at 'c' percent of stroke\n",
"V3=V2+c/100*Vs;                    //volume at point of cut-off in m^3\n",
"rho=V3/V2;                         //cut-off ratio\n",
"r=(Vs+V2)/V2;                      //compression ratio\n",
"\n",
"//for air, gamma=1.4\n",
"g=1.4;\n",
"\n",
"//Air standard efficiency of diesel cycle ETAdiesel=1-[1/(r)^(g-1)][(rho^g-1)/(rho-1)]\n",
"ETAdiesel=1-[1/g/(r)^(g-1)]*[(rho^g-1)/(rho-1)];\n",
"\n",
"printf(' The Efficiency of diesel engine is: %1.3f or %2.1f percent. \n',ETAdiesel,(ETAdiesel*100));\n",
""
   ]
   }
,
{
		   "cell_type": "markdown",
		   "metadata": {},
		   "source": [
			"## Example 5.19: Example_19.sce"
		   ]
		  },
  {
"cell_type": "code",
	   "execution_count": null,
	   "metadata": {
	    "collapsed": true
	   },
	   "outputs": [],
"source": [
"clc\n",
"clear\n",
"//DATA GIVEN\n",
"r=14;                       //compression ratio\n",
"//fuel cut-off is delayed from 5-8%\n",
"//for air, gamma=1.4\n",
"g=1.4;\n",
"\n",
"//when fuel is cut-off at 5%\n",
"c1=5;\n",
"rho1=c1/100*(r-1)+1;\n",
"//Efficiency of diesel engine ETAdiesel=1-[1/(r)^(g-1)][(rho^g-1)/(rho-1)]\n",
"ETAdiesel1=1-[1/g/(r)^(g-1)]*[(rho1^g-1)/(rho1-1)];\n",
"\n",
"//when fuel is cut-off at 8%\n",
"c2=8;\n",
"rho2=c2/100*(r-1)+1;\n",
"//Efficiency of diesel engine ETAdiesel=1-[1/(r)^(g-1)][(rho^g-1)/(rho-1)]\n",
"ETAdiesel2=1-[1/g/(r)^(g-1)]*[(rho2^g-1)/(rho2-1)];\n",
"\n",
"ETAloss=(ETAdiesel1-ETAdiesel2)*100;\n",
"\n",
"printf(' The Percentage loss in efficiency due to delay in fuel cut-off is: %1.1f percent. \n',ETAloss);"
   ]
   }
,
{
		   "cell_type": "markdown",
		   "metadata": {},
		   "source": [
			"## Example 5.1: Example_1.sce"
		   ]
		  },
  {
"cell_type": "code",
	   "execution_count": null,
	   "metadata": {
	    "collapsed": true
	   },
	   "outputs": [],
"source": [
"clc\n",
"clear\n",
"//DATA GIVEN\n",
"Ms=10000/3600;    //rate of steam flow in kg/s\n",
"//inlet to turbine\n",
"p1=60;            //pressue in bar\n",
"T1=380;           //temp. in deg.celsius\n",
"\n",
"//exit from turbine, inlet to condenser\n",
"p2=0.1;           //pressue in bar\n",
"x2=0.9;           //quality\n",
"v2=200;           //velocity in m/s\n",
"\n",
"//exit from condenser, inlet to pump\n",
"p3=0.09;          //pressue in bar\n",
"//it is saturated\n",
"\n",
"//exit from pump, inlet to boiler\n",
"p4=70;            //pressue in bar\n",
"\n",
"//exit from boiler,\n",
"p5=65;            //pressue in bar\n",
"T5=400;           //temp. in deg.celsius\n",
"\n",
"//for condenser,\n",
"t1=20;            //inlet temp. in deg. celsius\n",
"t2=30;            //exit temp. in deg. celsius\n",
"\n",
"//At 60 bar and 380deg. celsius, from steam tables\n",
"h1=3043.0+(3177.2-3043.0)/(400-350)*30;   //By interpolation\n",
"\n",
"//At 0.1 bar, from steam tables\n",
"hf2=191.8;                        //in kJ/kg\n",
"hfg2=2392.8;                      //in kJ/kg\n",
"h2=hf2+x2*hfg2;\n",
"Pt=Ms*(h1-h2)                     //power output of the turbine in kW\n",
"\n",
"//At 70 bar, from steam tables\n",
"hf4=1267.4;                       //in kJ/kg\n",
"//At 60 bar and 380deg. celsius, from steam tables\n",
"ha=(3177.2+3158.1)/2;             //By interpolation between 60 and 70 deg celsius\n",
"Q1=Ms*3600*(ha-hf4);              //heat transfer per hour in the boiler\n",
"//At 0.09 bar, from steam tables\n",
"hf3=183.3;                        //in kJ/kg\n",
"Q2=Ms*3600*(h2-hf3);              //heat transfer per hour in the condenser\n",
"\n",
"//heat lost by steam=heat gained by the cooling water\n",
"//Q2=Mw*4.18*(t2-t1)\n",
"Mw=Q2/4.18/10;                    //mass of cooling water circuleted per hour in condenser\n",
"\n",
"//(pi)/4*d^2=Ms*x2*vg2\n",
"//d=diameter of the pipe connecting turbine with condenser\n",
"C=200;                            //velocity of steam in m/s\n",
"vg2=14.67;                        //specific volume at 0.1 bar\n",
"d=(Ms*x2*vg2/(%pi/4)/C)^0.5;\n",
"\n",
"printf(' (i) The Power output of turbine is: %4.0f kW. \n',Pt);\n",
"printf(' (ii) The Heat transfer per hour in the Boiler is: %3.2e kJ/h. \n',Q1);\n",
"printf('      The Heat transfer per hour in the Condenser is: %3.2e kJ/h. \n',Q2);\n",
"printf('(iii) The Mass of cooling water circulated per hour in the condenser is: %3.2e kg/hr. \n',Mw);\n",
"printf(' (iv) The Diameter of the pipe connecting turbine with condenser is: %1.3f m or %3.0f mm. \n',d,(d*1000));\n",
"\n",
"//NOTE:\n",
"//ans of Mw(1.116*10^7) is given incorrect in the book.\n",
"//the correct ans of Mw is = 5.17*10^5 kg/h."
   ]
   }
,
{
		   "cell_type": "markdown",
		   "metadata": {},
		   "source": [
			"## Example 5.20: Example_20.sce"
		   ]
		  },
  {
"cell_type": "code",
	   "execution_count": null,
	   "metadata": {
	    "collapsed": true
	   },
	   "outputs": [],
"source": [
"clc\n",
"clear\n",
"//DATA GIVEN\n",
"Pm=7.5;                       //mean effective pressure in bar\n",
"r=12.5;                       //compression ratio\n",
"p1=1;                         //initial pressure in bar\n",
"\n",
"//for air, gamma=1.4\n",
"g=1.4;\n",
"\n",
"//mean effective pressure, Pm=p1*r^g*[g*(rho-1)-r^(1-g)*(rho^g-1)]/[(g-1)*(r-1)]\n",
"//we get, 0.346(rho)^1.4-1.4(rho)+2.04\n",
"//By trial and error method, we get\n",
"rho=2.24;\n",
"\n",
"co=(rho-1)/(r-1)*100;         //% cut-off \n",
"\n",
"printf(' The Percentage cut-off of the cycle is: %2.2f percent. \n',co);"
   ]
   }
,
{
		   "cell_type": "markdown",
		   "metadata": {},
		   "source": [
			"## Example 5.21: Example_21.sce"
		   ]
		  },
  {
"cell_type": "code",
	   "execution_count": null,
	   "metadata": {
	    "collapsed": true
	   },
	   "outputs": [],
"source": [
"clc\n",
"clear\n",
"//DATA GIVEN\n",
"D=0.2;                             //bore of the engine in m\n",
"L=0.3;                             //stroke of the engine in m\n",
"p1=1;                              //initial pressure in bar\n",
"T1=27+273;                         //initial temperature in K\n",
"c=8;                               //cut-off % of stroke volume\n",
"r=15;                              //compression ratio\n",
"wc=380;                            //no. of cycles per s\n",
"\n",
"Vs=(%pi/4)*D^2*L;                  //swept volume in m^3\n",
"V1=Vs*(1+1/(r-1));                 //in m^3\n",
"//for air, gamma=1.4\n",
"g=1.4;\n",
"\n",
"R=287;\n",
"m=p1*10^5*V1/R/T1;                 //mass of air  in the cylinder in kg/cycle\n",
"\n",
"//for adiabatic process 1-2\n",
"//p1(V1^gamma)=p2(V2^gamma)\n",
"//p2=p1*(V1/V2)^g\n",
"//where, (V1/V2)=r\n",
"p2=p1*(r^g);                                    //pressure at 2 in bar\n",
"//Also (T2/T1)=(V1/V2)^(g-1)\n",
"//(V1/V2)=r\n",
"T2=T1*r^(g-1);\n",
"V2=Vs/(r-1);\n",
"Vc=V2;\n",
"p3=p2;\n",
"\n",
"//cut-off ratio, c=(rho-1)/(r-1)\n",
"rho=c/100*(r-1)+1;\n",
"V3=rho*V2;\n",
"//alternatively\n",
"V3=c/100*Vs+Vc;\n",
"\n",
"//for constant pressure process 2-3\n",
"//V3/T3=V2/T2\n",
"T3=T2/V2*V3;\n",
"\n",
"//for isentropic process 3-4\n",
"//p3(V3^gamma)=p4(V4^gamma)\n",
"//(V4/V)=V4/V2*V2/V3=V1/V2*V2/V3=r/rho\n",
"p4=p3*((rho/r)^g);\n",
"//Also (T4/T3)=(V3/V4)^(g-1)\n",
"//(V4/V)=V4/V2*V2/V3=V1/V2*V2/V3=r/rho\n",
"T4=T3*((rho/r)^(g-1));\n",
"V4=V1;\n",
"\n",
"//Air standard efficiency of diesel cycle ETAdiesel=1-[1/(r)^(g-1)][(rho^g-1)/(rho-1)]\n",
"ETAdiesel=1-[1/g/(r)^(g-1)]*[(rho^g-1)/(rho-1)];\n",
"\n",
"//mean effective pressure, Pm=p1*r^g*[g*(rho-1)-r^(1-g)*(rho^g-1)]/[(g-1)*(r-1)];\n",
"Pm=p1*r^g*[g*(rho-1)-r^(1-g)*(rho^g-1)]/[(g-1)*(r-1)];\n",
"\n",
"P=Pm*10^5*Vs/10^3*(wc/60);              //Power of the engine in kW\n",
"\n",
"printf(' (i) The Pressure, Temperature and Volumes at salient points in the cycle are:\n');\n",
"printf('      At point 1 are:\n');\n",
"printf('                p1:%1.1f bar.\n',p1);\n",
"printf('                V1:%1.4f m^3.\n',V1);\n",
"printf('                T1:%3.0f K.\n',T1);\n",
"printf('      At point 2 are:\n');\n",
"printf('                p2:%2.2f bar.\n',p2);\n",
"printf('                V2:%1.7f m^3.\n',V2);\n",
"printf('                T2:%3.1f K.\n',T2);\n",
"printf('      At point 3 are:\n');\n",
"printf('                p3:%2.2f bar.\n',p3);\n",
"printf('                V3:%1.6f m^3.\n',V3);\n",
"printf('                T3:%4.1f K.\n',T3);\n",
"printf('      At point 4 are:\n');\n",
"printf('                p4:%1.3f bar.\n',p4);\n",
"printf('                V4:%1.4f m^3.\n',V4);\n",
"printf('                T4:%3.2f K.\n',T4);\n",
"printf(' (ii) The Theoritical air standard efficiency of diesel cycle is: %1.3f or %2.1f percent. \n',ETAdiesel,(ETAdiesel*100));\n",
"printf('(iii) The Mean effective pressure is: %1.3f bar. \n',Pm);\n",
"printf(' (iv) The Power developed is: %2.2f kW.',P);"
   ]
   }
,
{
		   "cell_type": "markdown",
		   "metadata": {},
		   "source": [
			"## Example 5.2: Example_2.sce"
		   ]
		  },
  {
"cell_type": "code",
	   "execution_count": null,
	   "metadata": {
	    "collapsed": true
	   },
	   "outputs": [],
"source": [
"clc\n",
"clear\n",
"//DATA GIVEN\n",
"p1=15;                 //steam supply pressure in bar\n",
"x1=1;                  //quality of steam\n",
"p2=0.4;                //condenser pressure\n",
"\n",
"//At 0.15 bar, from steam tables\n",
"T1=198.3+273;          //in K\n",
"hg1=2789.9;            //in kJ/kg\n",
"sg1=6.4406;            //in kJ/kgK\n",
"//At 0.4 bar, from steam tables\n",
"T2=75.9+273;           //in K\n",
"hf2=317.7;             //in kJ/kg\n",
"hfg2=2319.2;           //in kJ/kg\n",
"sf2=1.0261;            //in kJ/kgK\n",
"sfg2=6.6448;           //in kJ/kgK\n",
"\n",
"ETAcarnot=(T1-T2)/T1;  //Carnot efficiency\n",
"//ETArankine=Adiabatic or isentropic heat drop/heat supplied\n",
"//ETArankine=(hg1-h2)/(hg1-hf2)\n",
"//as the steam expands isentropically, s1=s2\n",
"//sg1=sf2+x2*sfg2\n",
"x2=(sg1-sf2)/sfg2;\n",
"h2=hf2+x2*hfg2;\n",
"ETArankine=(hg1-h2)/(hg1-hf2);           //Rankine efficiency\n",
"\n",
"printf(' (i) The Carnot efficiency is: %1.4f or %2.2f percent. \n',ETAcarnot,(ETAcarnot*100));\n",
"printf(' (ii) The Rankine efficiency is: %1.4f or %2.2f percent. \n',ETArankine,(ETArankine*100));"
   ]
   }
,
{
		   "cell_type": "markdown",
		   "metadata": {},
		   "source": [
			"## Example 5.3: Example_3.sce"
		   ]
		  },
  {
"cell_type": "code",
	   "execution_count": null,
	   "metadata": {
	    "collapsed": true
	   },
	   "outputs": [],
"source": [
"clc\n",
"clear\n",
"//DATA GIVEN\n",
"p1=20;                  //boiler pressure in bar\n",
"T1=360+273;             //temp. in K\n",
"p2=0.08;                //boiler pressure in bar\n",
"\n",
"//At 20 bar and 360 deg.celsius, from steam tables\n",
"h1=3159.3;              //in kJ/kg\n",
"sg1=6.9917;             //in kJ/kgK\n",
"\n",
"//At 0.08 bar, from steam tables\n",
"hf2=173.88;             //in kJ/kg\n",
"hf3=hf2;\n",
"sf2=0.5926;             //in kJ/kgK\n",
"s3=sf2;\n",
"hfg2=2403.1;            //in kJ/kg\n",
"sg2=8.2287;             //in kJ/kgK\n",
"vf2=0.001008;           //m^3/kg\n",
"sfg2=7.6361;            //in kJ/kgK\n",
"\n",
"//as the steam expands isentropically, s1=s2\n",
"//sg1=sf2+x2*sfg2\n",
"x2=(sg1-sf2)/sfg2;\n",
"h2=hf2+x2*hfg2;\n",
"\n",
"//Wnet=Wturbine-Wpump\n",
"//Wpump=hf4-hf3=vf3(p1-p2)\n",
"Wp=vf2*(p1-p2)*100;\n",
"hf4=Wp+hf3;\n",
"Wt=h1-h2;\n",
"Wnet=Wt-Wp;\n",
"Q1=h1-hf4;              //in kJ/kg\n",
"ETAcycle=Wnet/Q1;       //cycle efficiency \n",
"\n",
"printf(' (i) The Net work  per kg of steam is: %3.2f kJ/kg. \n',Wnet);\n",
"printf(' (ii) The Cycle efficiency is: %1.3f or %2.1f percent. \n',ETAcycle,(ETAcycle*100));"
   ]
   }
,
{
		   "cell_type": "markdown",
		   "metadata": {},
		   "source": [
			"## Example 5.4: Example_4.sce"
		   ]
		  },
  {
"cell_type": "code",
	   "execution_count": null,
	   "metadata": {
	    "collapsed": true
	   },
	   "outputs": [],
"source": [
"clc\n",
"clear\n",
"//given steam table extract\n",
"p1=80;                   //in bar\n",
"t1=295.1;                //in deg. celsius\n",
"vf1=0.001385;            //m^3/kg\n",
"vg1=0.0235;              //m^3/kg\n",
"hf1=1317;                //in kJ/kg\n",
"hfg1=1440.5;             //in kJ/kg\n",
"hg1=2757.5;              //in kJ/kg\n",
"sf1=3.2073;              //in kJ/kgK\n",
"sfg1=2.5351;             //in kJ/kgK\n",
"sg1=5.7424;              //in kJ/kgK\n",
"\n",
"p2=0.1;                  //in bar\n",
"t2=45.84;                //in deg. celsius\n",
"vf2=0.0010103;           //m^3/kg\n",
"vg2=14.68                //m^3/kg\n",
"hf2=191.9;               //in kJ/kg\n",
"hf3=hf2;\n",
"hfg2=2392.3;             //in kJ/kg\n",
"hg2=2584.2;              //in kJ/kg\n",
"sf2=0.6488;              //in kJ/kgK\n",
"sfg2=7.5006;             //in kJ/kgK\n",
"sg2=8.1494;              //in kJ/kgK\n",
"\n",
"ETAt=0.9;                //steam turbine efficiency\n",
"ETAp=0.8;                //condensate pump efficiency\n",
"\n",
"P1=80;                   //in bar\n",
"T1=600;                  //in deg celsius\n",
"//At 80 bar and 600 deg celsius\n",
"v1=0.486;                //m^3/kg\n",
"h1=3642;                 //kJ/kg\n",
"s1=7.0206;               //kJ/kg/K\n",
"\n",
"//as the steam expands isentropically, s1=s2\n",
"//sg1=sf2+x2*sfg2\n",
"x2=(s1-sf2)/sfg2;\n",
"h2=hf2+x2*hfg2;\n",
"Wta=ETAt*(h1-h2);        //actual turbine work in kJ/kg\n",
"Wp=vf2*(p1-p2)*10^5/10^3;//pump work in kJ/kg\n",
"Wpa=Wp/ETAp;             //actual pump work in kJ/kg\n",
"Wnet=Wta-Wpa;            //specific work in kJ/kg\n",
"//ETAthermal=Wnet/Q1\n",
"//Q1=h1-hf4\n",
"hf4=hf3+Wpa;\n",
"Q1=h1-hf4;\n",
"ETAth=Wnet/Q1;\n",
"\n",
"printf(' (i) The Specific work (Wnet) is: %4.2f kJ/kg. \n',Wnet);\n",
"printf(' (ii) The Thermal efficiency is: %1.3f or %2.1f percent. \n',ETAth,(ETAth*100));"
   ]
   }
,
{
		   "cell_type": "markdown",
		   "metadata": {},
		   "source": [
			"## Example 5.5: Example_5.sce"
		   ]
		  },
  {
"cell_type": "code",
	   "execution_count": null,
	   "metadata": {
	    "collapsed": true
	   },
	   "outputs": [],
"source": [
"clc\n",
"clear\n",
"//DATA GIVEN\n",
"p1=28;                  //pressure at 1 in bar\n",
"p2=0.06;                //pressure at 2 in bar\n",
"\n",
"//At 28 bar, from steam tables\n",
"h1=2802;                //in kJ/kg\n",
"s1=6.2104;              //in kJ/kgK\n",
"\n",
"//At 0.06 bar, from steam tables\n",
"hf2=151.5;              //in kJ/kg\n",
"hf3=hf2;\n",
"hfg2=2415.9;            //in kJ/kg\n",
"sf2=0.521;              //in kJ/kgK\n",
"sf3=sf2;\n",
"sfg2=7.809;             //in kJ/kgK\n",
"vf2=0.001;              //m^3/kg\n",
"\n",
"\n",
"//as the steam expands isentropically, s1=s2\n",
"//sg1=sf2+x2*sfg2\n",
"x2=(s1-sf2)/sfg2;\n",
"h2=hf2+x2*hfg2;\n",
"\n",
"//Wnet=Wturbine-Wpump\n",
"//Wpump=hf4-hf3=vf3(p1-p2)\n",
"Wp=vf2*(p1-p2)*10^5/10^3;\n",
"hf4=Wp+hf2;\n",
"Wt=h1-h2;\n",
"Wnet=Wt-Wp;\n",
"Q1=h1-hf4;              //in kJ/kg\n",
"ETAcycle=Wnet/Q1;       //cycle efficiency \n",
"wr=Wnet/Wt;             //work ratio\n",
"ssc=3600/Wnet;          //specific steam consumption in kg/kWh\n",
"\n",
"printf(' (i) The Cycle efficiency is: %1.4f or %2.2f percent. \n',ETAcycle,(ETAcycle*100));\n",
"printf(' (ii) The Work ratio is: %1.3f kJ/kg. \n',wr);\n",
"printf('(iii) The Specific steam consumption in kg/kWh is: %1.3f kg/kWh. \n',ssc);\n",
"\n",
"\n",
""
   ]
   }
,
{
		   "cell_type": "markdown",
		   "metadata": {},
		   "source": [
			"## Example 5.6: Example_6.sce"
		   ]
		  },
  {
"cell_type": "code",
	   "execution_count": null,
	   "metadata": {
	    "collapsed": true
	   },
	   "outputs": [],
"source": [
"clc\n",
"clear\n",
"//DATA GIVEN\n",
"p1=35;                  //pressure at inlet to turbine in bar\n",
"x1=1;\n",
"p2=0.2;                 //pressure at exhaust in bar\n",
"m=9.5;                  //flow rate in kg/s\n",
"\n",
"//At 35 bar, from steam tables\n",
"hg1=2802;               //in kJ/kg\n",
"h1=hg1;\n",
"sg1=6.1228;             //in kJ/kgK\n",
"\n",
"//At 0.2 bar, from steam tables\n",
"hf2=251.5;              //in kJ/kg\n",
"hf3=hf2;\n",
"hfg2=2358.4;            //in kJ/kg\n",
"vf2=0.001017;           //m^3/kg\n",
"sf2=0.8321;             //in kJ/kgK\n",
"sfg2=7.0773;            //in kJ/kgK\n",
"\n",
"//Wnet=Wturbine-Wpump\n",
"//Wpump=hf4-hf3=vf3(p1-p2)\n",
"Wp=vf2*(p1-p2)*10^5/10^3;\n",
"Wpnet=m*Wp;\n",
"hf4=Wp+hf3;\n",
"\n",
"//as the steam expands isentropically, s1=s2\n",
"//sg1=sf2+x2*sfg2\n",
"x2=(sg1-sf2)/sfg2;                     //dryness fraction\n",
"h2=hf2+x2*hfg2;\n",
"Wt=h1-h2;\n",
"Wtnet=m*Wt;\n",
"ETArankine=(h1-h2)/(h1-hf2);           //Rankine efficiency\n",
"chf=m*(h2-hf3);                        //condenser heat flow\n",
"\n",
"printf(' (i) The Pump Work is: %2.2f kW. \n',Wpnet);\n",
"printf(' (ii) The Turbine Work is: %2.2f kW. \n',Wtnet);\n",
"printf('(iii) The Rankine efficiency is: %1.4f or %2.2f percent. \n',ETArankine,(ETArankine*100));\n",
"printf(' (iv) The Condenser heat flow is: %1.3f kW. \n',chf);\n",
"printf('  (v) The dryness at the end of expansion, x2 is: %1.3f or %2.1f percent. \n',x2,(x2*100));\n",
"\n",
"//NOTE:\n",
"//The value of x2 in the book is given as 0.7470\n",
"//while the exact ans is 0.74755\n",
"//and so the values of other answers are varying by some units"
   ]
   }
,
{
		   "cell_type": "markdown",
		   "metadata": {},
		   "source": [
			"## Example 5.7: Example_7.sce"
		   ]
		  },
  {
"cell_type": "code",
	   "execution_count": null,
	   "metadata": {
	    "collapsed": true
	   },
	   "outputs": [],
"source": [
"clc\n",
"clear\n",
"//DATA GIVEN\n",
"h12=840;                //Adiabatic enthalpy drop, (h1-h2) in kJ/kg\n",
"h1=2940;                //enthalpy of steam supplied in kJ/kg\n",
"p2=0.1;                 //back pressure in bar\n",
"\n",
"//At 0.1 bar, from steam tables\n",
"hf=191.8;               //in kJ/kg\n",
"//ETArankine=(hg1-h2)/(hg1-hf2)\n",
"ETArankine=(h12)/(h1-hf);\n",
"Wuse=h12;               //useful work done per kg of steam in kJ/kg\n",
"ssc=1/Wuse*3600;        //specific steam consumption\n",
"\n",
"printf('(i) The Rankine efficiency is: %1.4f or %2.2f percent. \n',ETArankine,(ETArankine*100));\n",
"printf('(ii) The Specific steam consumption is: %1.3f kg/kWh. \n',ssc);"
   ]
   }
,
{
		   "cell_type": "markdown",
		   "metadata": {},
		   "source": [
			"## Example 5.8: Example_8.sce"
		   ]
		  },
  {
"cell_type": "code",
	   "execution_count": null,
	   "metadata": {
	    "collapsed": true
	   },
	   "outputs": [],
"source": [
"clc\n",
"clear\n",
"//DATA GIVEN\n",
"IP=35;                  //power developed by the engine in kW\n",
"m=284;                  //flow rate in kg/h\n",
"p1=15;                  //steam inlet pressure in bar\n",
"p2=0.14;                //condenser pressure in bar\n",
"\n",
"//At 35 bar and 25 deg celsius from steam tables\n",
"h1=2923.3;               //in kJ/kg\n",
"s1=6.709;                //in kJ/kgK\n",
"\n",
"//At 0.14 bar, from steam tables\n",
"hf2=220;                //in kJ/kg\n",
"hf3=hf2;\n",
"hfg2=2376.6;            //in kJ/kg\n",
"sf2=0.737;              //in kJ/kgK\n",
"sfg2=7.296;             //in kJ/kgK\n",
"\n",
"//as the steam expands isentropically, s1=s2\n",
"//sg1=sf2+x2*sfg2\n",
"x2=(s1-sf2)/sfg2;                    //dryness fraction\n",
"h2=hf2+x2*hfg2;\n",
"\n",
"ETArankine=(h1-h2)/(h1-hf2);         //Rankine efficiency\n",
"\n",
"ETAthermal=IP/(m/3600*(h1-hf2));     //Thermal efficiency\n",
"ETArel=ETAthermal/ETArankine;        //Relative efficiency\n",
"\n",
"printf(' (i) The Final condition of steam is: %1.2f. \n',x2);\n",
"printf(' (ii) The Rankine efficiency is: %1.4f or %2.2f percent. \n',ETArankine,(ETArankine*100));\n",
"printf('(iii) The Relative efficiency is: %1.3f or %2.1f percent. \n',ETArel,(ETArel*100));"
   ]
   }
,
{
		   "cell_type": "markdown",
		   "metadata": {},
		   "source": [
			"## Example 5.9: Example_9.sce"
		   ]
		  },
  {
"cell_type": "code",
	   "execution_count": null,
	   "metadata": {
	    "collapsed": true
	   },
	   "outputs": [],
"source": [
"clc\n",
"clear\n",
"//DATA GIVEN\n",
"T1=400+273;               //temp. in K\n",
"T2=T1;\n",
"T3=40+273;                //temp. in K\n",
"T4=T3;\n",
"W=130;                    //work produced in kJ\n",
"\n",
"ETAth=(T1-T3)/T1;         //Engine thermal efficiency\n",
"\n",
"//ETAth=Work done/Heat added\n",
"Ha=W/ETAth;               //Heat added in kJ\n",
"Hr=Ha-W;                  //Heat rejected in kJ\n",
"//Heat rejected=T3(S3-S4)\n",
"S34=Hr/T3;                //Entropy change during the heat rejection process \n",
"\n",
"printf(' (i) The Engine thermal efficiency is: %1.3f or %2.1f percent. \n',ETAth,(ETAth*100));\n",
"printf(' (ii) The Heat added is: %3.0f kJ. \n',Ha);\n",
"printf('(iii) The Entropy change during the heat rejection process is: %1.3f kJ/K. \n',S34);"
   ]
   }
],
"metadata": {
		  "kernelspec": {
		   "display_name": "Scilab",
		   "language": "scilab",
		   "name": "scilab"
		  },
		  "language_info": {
		   "file_extension": ".sce",
		   "help_links": [
			{
			 "text": "MetaKernel Magics",
			 "url": "https://github.com/calysto/metakernel/blob/master/metakernel/magics/README.md"
			}
		   ],
		   "mimetype": "text/x-octave",
		   "name": "scilab",
		   "version": "0.7.1"
		  }
		 },
		 "nbformat": 4,
		 "nbformat_minor": 0
}
