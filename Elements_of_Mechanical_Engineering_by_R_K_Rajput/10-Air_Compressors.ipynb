{
"cells": [
 {
		   "cell_type": "markdown",
	   "metadata": {},
	   "source": [
       "# Chapter 10: Air Compressors"
	   ]
	},
{
		   "cell_type": "markdown",
		   "metadata": {},
		   "source": [
			"## Example 10.1: Example_1.sce"
		   ]
		  },
  {
"cell_type": "code",
	   "execution_count": null,
	   "metadata": {
	    "collapsed": true
	   },
	   "outputs": [],
"source": [
"clc\n",
"clear\n",
"//DATA GIVEN\n",
"V1=1;                           //volume of air taken in m^3/mim\n",
"p1=1.013;                       //intake pressure in bar\n",
"T1=15+273;                      //intake temperature in K\n",
"p2=7;                           //delivery pressure in bar\n",
"t=1*60;                         //time in seconds\n",
"//law of compression, pV^1.35=C\n",
"n=1.35; \n",
"R=287;\n",
"\n",
"m=p1*10^5*V1/R/T1;              //mass of air delivered in kg/min\n",
"\n",
"//(T2/T1)=(p2/p1)^((n-1)/n);\n",
"T2=T1*(p2/p1)^((n-1)/n);        //delivery temp. T2 in K\n",
"\n",
"W=(n)/(n-1)*m*R*(T2-T1)/1000;   //indicated work in kJ/min\n",
"\n",
"IP=W/t;                         //indicated power in kW\n",
"\n",
"printf(' The Indicated power, IP is: %1.2f kW. \n',IP);"
   ]
   }
,
{
		   "cell_type": "markdown",
		   "metadata": {},
		   "source": [
			"## Example 10.2: Example_2.sce"
		   ]
		  },
  {
"cell_type": "code",
	   "execution_count": null,
	   "metadata": {
	    "collapsed": true
	   },
	   "outputs": [],
"source": [
"clc\n",
"clear\n",
"//continued from Example 1\n",
"//DATA GIVEN\n",
"V=1;                            //volume dealt with per min at inlet in m^3/mim\n",
"Vc=1/300;                       //volume drawn in per cycle, in m^3/cycle\n",
"r=1.5;                          //stroke to bore ratio\n",
"ETAc=0.85;                      //mechanical efficiency of the compressor\n",
"ETAmt=0.90;                     //mechanical efficiency of the motor transmission\n",
"\n",
"//cylinder volume, Vc=(pi/4)D^2*L\n",
"D=[(Vc*4/%pi)/r]^(1/3);         //bore in m\n",
"\n",
"//from example 1\n",
"Pi=4.23/ETAc;                   //power input to the compressor in kW\n",
"MP=Pi/ETAmt;                    //motor power in kW\n",
"\n",
"printf(' (i) The Cylinder bore,D is: %3.1f mm. \n',(D*1000));\n",
"printf(' (ii) The Motor power is: %1.2f kW. \n',MP);"
   ]
   }
,
{
		   "cell_type": "markdown",
		   "metadata": {},
		   "source": [
			"## Example 10.3: Example_3.sce"
		   ]
		  },
  {
"cell_type": "code",
	   "execution_count": null,
	   "metadata": {
	    "collapsed": true
	   },
	   "outputs": [],
"source": [
"clc\n",
"clear\n",
"//DATA GIVEN\n",
"T1=20+273;                      //temperature in K\n",
"p1=1;                           //pressure in bar\n",
"p2=10;                          //pressure in bar\n",
"Cv=0.718;                       //in kJ/kgK\n",
"\n",
"//law of compression, pV^1.2=C\n",
"n=1.2; \n",
"R=0.287;                        //in kJ/kgK\n",
"\n",
"//(T2/T1)=(p2/p1)^((n-1)/n);\n",
"T2=T1*(p2/p1)^((n-1)/n);        //temp. T2 in K\n",
"m=1;\n",
"W=(n)/(n-1)*m*R*T1*[(p2/p1)^((n-1)/n)-1];       //work done per kg of air (kJ/kg of air)\n",
"\n",
"//By the First Law of Thermodynamics\n",
"//heat transferred during compression, Q=W+DU\n",
"//Q=(p1V1-p2V2)/(n-1)+Cv(T2-T1)\n",
"//Q=(T2-T1)*[Cv-R/(n-1)]\n",
"Q=(T2-T1)*[Cv-R/(n-1)];\n",
"\n",
"printf(' (i) The Temperature at the end of compression is: %3.0f K or %3.0f deg. celsius. \n',T2,(T2-273));\n",
"printf(' (ii) The Work done during compression per kg of air is: %3.2f kJ/kg of air. \n',W);\n",
"printf('      The Heat transferred during compression per kg of air is: %2.2f kJ/kg of air. \n',Q);\n",
"printf('      (Negative sign indicates heat REJECTION.) \n');"
   ]
   }
,
{
		   "cell_type": "markdown",
		   "metadata": {},
		   "source": [
			"## Example 10.4: Example_4.sce"
		   ]
		  },
  {
"cell_type": "code",
	   "execution_count": null,
	   "metadata": {
	    "collapsed": true
	   },
	   "outputs": [],
"source": [
"clc\n",
"clear\n",
"//DATA GIVEN\n",
"p1=1;                           //suction pressure in bar\n",
"T1=20+273;                      //suction temperature in K\n",
"p2=6;                           //discharge pressure in bar\n",
"T2=180+273;                     //discharge temperature in K\n",
"N=1200;                         //speed of compressor in R.P.M.\n",
"Pshaft=6.25;                    //shaft power in kW\n",
"Ma=1.7;                         //mass of air delivered in kg/min\n",
"D=0.14;                         //diameter in m\n",
"L=0.1;                          //stroke in m\n",
"R=287;                          //in kJ/kgK\n",
"\n",
"Vd=(%pi/4)*D^2*L*N;             //displacement volume for single acting compressor in m^3/min\n",
"FAD=Ma*R*T1/p1/10^5;            //m^3/min\n",
"ETAvol=FAD/Vd*100;              //actual volumetric efficiency\n",
"\n",
"//(T2/T1)=(p2/p1)^((n-1)/n);\n",
"n=1/[1-(log(T2/T1)/log(p2/p1))];        //index of compression,n\n",
"\n",
"IP=(n)/(n-1)*Ma/60*R/1000*T1*[(p2/p1)^((n-1)/n)-1];      //indicated power in kW\n",
"\n",
"Piso=Ma/60*R/1000*T1*log(p2/p1);                         //isothermal power\n",
"ETAiso=Piso/IP*100;                                      //isothermal efficiency\n",
"\n",
"ETAmech=IP/Pshaft*100;                                   //mechanical efficiency\n",
"\n",
"ETAovr_iso=Piso/Pshaft*100;                              //overall isothermal eddiciency\n",
"\n",
"printf(' (i) The actual Volumetric efficiency is: %2.2f percent. \n',ETAvol);\n",
"printf(' (ii) The Indicated Power, IP is: %1.3f KW. \n',IP);\n",
"printf('(iii) The Isothermal efficiency is: %2.2f percent.\n',ETAiso);\n",
"printf(' (iv) The Mechanical efficiency is: %2.1f percent.\n',ETAmech);\n",
"printf('  (v) The Overall isothermal efficiency is: %2.1f percent.\n',ETAovr_iso);\n",
""
   ]
   }
,
{
		   "cell_type": "markdown",
		   "metadata": {},
		   "source": [
			"## Example 10.5: Example_5.sce"
		   ]
		  },
  {
"cell_type": "code",
	   "execution_count": null,
	   "metadata": {
	    "collapsed": true
	   },
	   "outputs": [],
"source": [
"//5(b) is as follows:\n",
"clc\n",
"clear\n",
"//DATA GIVEN\n",
"m=6.75;                 //mass of air in kg/min\n",
"p1=1;                   //pressure in bar\n",
"T1=21+273;              //temp. in K\n",
"p2=1.35;                //pressure in bar\n",
"T2=43+273;              //temp. in K\n",
"DTcw=3.3;               //temp. rise of cooling water in deg. celsius\n",
"Cp=1.003;               //Cp for air in kJ/kgK\n",
"//gamma for air=1.4\n",
"g=1.4;\n",
"\n",
"W=m*Cp*(T2-T1);         //work in kJ/min\n",
"//If the compression would have been isotropic,\n",
"//T_2=T1*(rp)^[(g-1)/g]\n",
"rp=p2/p1;\n",
"T_2=T1*(rp)^[(g-1)/g];\n",
"Qr=m*Cp*(T_2-T2);       //heat rejected to cooling water\n",
"\n",
"Mw=Qr/[4.18*(DTcw)];    //mass of cooling water in kg/min\n",
"\n",
"printf(' (i) The Work is: %3.2f kJ/min. \n',W);\n",
"printf(' (ii) The Mass of cooling water is: %1.2f kg/min. \n',Mw);\n",
"\n",
"//NOTE:\n",
"//in the question compression process is mentioned and p2 is given as 0.35 bar (p2<p1)\n",
"//which is wrong and further p2 is given as 1.35 bar which is allowable\n",
"//so here value of p2 is taken as 1.35 bar."
   ]
   }
,
{
		   "cell_type": "markdown",
		   "metadata": {},
		   "source": [
			"## Example 10.6: Example_6.sce"
		   ]
		  },
  {
"cell_type": "code",
	   "execution_count": null,
	   "metadata": {
	    "collapsed": true
	   },
	   "outputs": [],
"source": [
"clc\n",
"clear\n",
"//DATA GIVEN\n",
"V1=14;                          //quantity of air to be delivered, in m^3/mim\n",
"p1=1.013;                       //intake pressure in bar\n",
"T1=15+273;                      //intake temperature in K\n",
"p2=7;                           //delivery pressure in bar\n",
"N=300;                          //speed of compressor in R.P.M.\n",
"n=1.3;                          //compression and expansion index\n",
"R=0.287;\n",
"\n",
"//clearance volume, Vc = 0.05 Vs    ,Vs=swept volume\n",
"//swept volume Vs=V1-V3=V1-Vc=V1-0.05Vs\n",
"//V1=1.05Vs \n",
"Vpc=V1/N/2;                                              //(V1-V4) volume induced per cycle in m^3\n",
"//V4/V3=(p2/p1)^(1/n)\n",
"c=(p2/p1)^(1/n);\n",
"//V4=c*V3=c*0.05Vs\n",
"//V1-V4=1.05Vs-c*0.05Vs\n",
"Vs=Vpc/(1.05)/(1.05-c*0.05);                             //volume swept in m^3\n",
"\n",
"//using relation (T2/T1)=(p2/p1)^((n-1)/n);\n",
"T2=T1*(p2/p1)^((n-1)/n);                                 //delivery temp. T2 in K\n",
"\n",
"IP=(n)/(n-1)*p1*10^5*Vpc/100*[(p2/p1)^((n-1)/n)-1];      //indicated power in kW\n",
"\n",
"printf(' (i) The Swept volume of the cylinder, Vs is: %1.4f m^3. \n',Vs);\n",
"printf(' (ii) The delivery temperature, Ts is: %3.0f deg. celsius. \n',(T2-273));\n",
"printf('(iii) The Indicated power, IP is: %2.2f kW. \n',IP);\n",
"\n",
"//NOTE:\n",
"//there is slight variation in answers in textbook due to rounding off of values in book"
   ]
   }
],
"metadata": {
		  "kernelspec": {
		   "display_name": "Scilab",
		   "language": "scilab",
		   "name": "scilab"
		  },
		  "language_info": {
		   "file_extension": ".sce",
		   "help_links": [
			{
			 "text": "MetaKernel Magics",
			 "url": "https://github.com/calysto/metakernel/blob/master/metakernel/magics/README.md"
			}
		   ],
		   "mimetype": "text/x-octave",
		   "name": "scilab",
		   "version": "0.7.1"
		  }
		 },
		 "nbformat": 4,
		 "nbformat_minor": 0
}
