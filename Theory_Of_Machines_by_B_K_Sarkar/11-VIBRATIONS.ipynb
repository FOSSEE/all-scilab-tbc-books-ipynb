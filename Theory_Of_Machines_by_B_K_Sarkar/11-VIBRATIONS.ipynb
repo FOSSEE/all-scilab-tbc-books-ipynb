{
"cells": [
 {
		   "cell_type": "markdown",
	   "metadata": {},
	   "source": [
       "# Chapter 11: VIBRATIONS"
	   ]
	},
{
		   "cell_type": "markdown",
		   "metadata": {},
		   "source": [
			"## Example 11.10: FREQUENCY_OF_TRANSVERSE_VIBRATION.sce"
		   ]
		  },
  {
"cell_type": "code",
	   "execution_count": null,
	   "metadata": {
	    "collapsed": true
	   },
	   "outputs": [],
"source": [
"//CHAPTER 11 ILLUSRTATION 10 PAGE NO 296\n",
"//TITLE:VIBRATIONS\n",
"//FIGURE 11.18\n",
"clc\n",
"clear\n",
"//===========================================================================================\n",
"//INPUT DATA\n",
"PI=3.147\n",
"g=9.81//                                      ACCELERATION DUE TO GRAVITY IN N /m^2\n",
"E=200*10^9//                                  YOUNGS MODUKUS OF SHAFT MATERIAL IN Pascals\n",
"D=.03//                                       DIAMETER OF SHAFT IN m\n",
"L=.8//                                        LENGTH OF SHAFT IN m\n",
"r=40000//                                     DENSITY OF SHAFT MATERIAL IN Kg/m^3\n",
"W=10//                                        WEIGHT ACTING AT CENTRE IN N\n",
"//===========================================================================================\n",
"I=PI*D^4/64//                                 MOMENT OF INERTIA OF SHAFT IN m^4\n",
"m=PI*D^2/4*r//                                MASS PER UNIT LENGTH IN Kg/m\n",
"w=m*g\n",
"DELTA=W*L^3/(48*E*I)//                       STATIC DEFLECTION DUE TO W\n",
"DELTA1=5*w*L^4/(384*E*I)//                   STATIC DEFLECTION DUE TO WEIGHT OF SHAFT \n",
"Fn=.4985/(DELTA+DELTA1/1.27)^.5\n",
"//==========================================================================================\n",
"printf('FREQUENCY OF TRANSVERSE VIBRATION = %.3f Hz',Fn)\n",
"\n",
""
   ]
   }
,
{
		   "cell_type": "markdown",
		   "metadata": {},
		   "source": [
			"## Example 11.11: CRITICAL_SPEED_OF_SHAFT.sce"
		   ]
		  },
  {
"cell_type": "code",
	   "execution_count": null,
	   "metadata": {
	    "collapsed": true
	   },
	   "outputs": [],
"source": [
"//CHAPTER 11 ILLUSRTATION 11 PAGE NO 297\n",
"//TITLE:VIBRATIONS\n",
"//FIGURE 11.19\n",
"clc\n",
"clear\n",
"//===========================================================================================\n",
"//INPUT DATA\n",
"PI=3.147\n",
"g=9.81//                                      ACCELERATION DUE TO GRAVITY IN N /m^2\n",
"E=210*10^9//                                  YOUNGS MODUKUS OF SHAFT MATERIAL IN Pascals\n",
"D=.18//                                       DIAMETER OF SHAFT IN m\n",
"L=2.5//                                       LENGTH OF SHAFT IN m\n",
"M1=25//                                       MASS ACTING AT E IN Kg\n",
"M2=50//                                       MASS ACTING AT D IN Kg\n",
"M3=20//                                       MASS ACTING AT C IN Kg\n",
"W1=M1*g\n",
"W2=M2*g\n",
"W3=M3*g\n",
"L1=.6//                                       LENGTH FROM A TO E IN m\n",
"L2=1.5//                                      LENGTH FROM A TO D IN m\n",
"L3=2//                                        LENGTH FROM A TO C IN m\n",
"w=1962//                                      SELF WEIGHT OF SHAFT IN N\n",
"//==========================================================================================\n",
"I=PI*D^4/64//                                 MOMENT OF INERTIA OF SHAFT IN m^4\n",
"DELTA1=W1*L1^2*(L-L1)^2/(3*E*I*L)//           STATIC DEFLECTION DUE TO W1\n",
"DELTA2=W2*L2^2*(L-L2)^2/(3*E*I*L)//           STATIC DEFLECTION DUE TO W2\n",
"DELTA3=W3*L3^2*(L-L3)^2/(3*E*I*L)//           STATIC DEFLECTION DUE TO W3\n",
"DELTA4=5*w*L^4/(384*E*I)//                    STATIC DEFLECTION DUE TO w\n",
"Fn=.4985/(DELTA1+DELTA2+DELTA3+DELTA4/1.27)^.5\n",
"Nc=Fn*60//                                   CRITICAL SPEED OF SHAFT IN rpm\n",
"//========================================================================================\n",
"printf('CRITICAL SPEED OF SHAFT = %.3f rpm',Nc)"
   ]
   }
,
{
		   "cell_type": "markdown",
		   "metadata": {},
		   "source": [
			"## Example 11.12: FREQUENCY_OF_FREE_TORSIONAL_VIBRATION.sce"
		   ]
		  },
  {
"cell_type": "code",
	   "execution_count": null,
	   "metadata": {
	    "collapsed": true
	   },
	   "outputs": [],
"source": [
"//CHAPTER 11 ILLUSRTATION 12 PAGE NO 298\n",
"//TITLE:VIBRATIONS\n",
"//FIGURE 11.20\n",
"clc\n",
"clear\n",
"//===========================================================================================\n",
"//INPUT DATA\n",
"PI=3.147\n",
"g=9.81//                                      ACCELERATION DUE TO GRAVITY IN N /m^2\n",
"Na=1500//                                     SPEED OF SHAFT A IN rpm\n",
"Nb=500//                                      SPEED OF SHAFT B IN rpm\n",
"G=Na/Nb//                                     GERA RATIO\n",
"L1=.18//                                       LENGTH OF SHAFT 1 IN m\n",
"L2=.45//                                       LENGTH OF SHAFT 2 IN m\n",
"D1=.045//                                      DIAMETER OF SHAFT 1 IN m\n",
"D2=.09//                                       DIAMETER OF SHAFT 2 IN m\n",
"C=84*10^9//                      MODUKUS OF RIDITY OF SHAFT MATERIAL IN Pascals\n",
"Ib=1400//                        MOMENT OF INERTIA OF PUMP IN Kg-m^2\n",
"Ia=400//                         MOMENT OF INERTIA OF MOTOR IN Kg-m^2\n",
"\n",
"//======================================================================================\n",
"J=PI*D1^4/32//                               POLAR MOMENT OF INERTIA IN m^4\n",
"Ib1=Ib/G^2//                     MASS MOMENT OF INERTIA OF EQUIVALENT ROTOR IN m^2\n",
"L3=G^2*L2*(D1/D2)^4//            ADDITIONAL LENGTH OF THE EQUIVALENT SHAFT\n",
"L=L1+L3//                         TOTAL LENGTH OF EQUIVALENT SHAFT\n",
"La=L*Ib1/(Ia+Ib1)\n",
"Fn=(C*J/(La*Ia))^.5/(2*PI)//      FREQUENCY OF FREE TORSIONAL VIBRATION IN Hz\n",
"//===================================================================================\n",
"printf('FREQUENCY OF FREE TORSIONAL VIBRATION = %.2f Hz',Fn)"
   ]
   }
,
{
		   "cell_type": "markdown",
		   "metadata": {},
		   "source": [
			"## Example 11.13: THE_RANGE_OF_SPEED.sce"
		   ]
		  },
  {
"cell_type": "code",
	   "execution_count": null,
	   "metadata": {
	    "collapsed": true
	   },
	   "outputs": [],
"source": [
"//CHAPTER 11 ILLUSRTATION 13 PAGE NO 300\n",
"//TITLE:VIBRATIONS\n",
"//FIGURE 11.21\n",
"clc\n",
"clear\n",
"//===========================================================================================\n",
"//INPUT DATA\n",
"PI=3.147\n",
"g=9.81//                                      ACCELERATION DUE TO GRAVITY IN N /m^2\n",
"D=.015//                                        DIAMETER OF SHAFT IN m\n",
"L=1.00//                                         LENGTH OF SHAFT IN m\n",
"M=15//                                           MASS OF SHAFT IN Kg\n",
"W=M*g\n",
"e=.0003//                                        ECCENTRICITY IN m\n",
"E=200*10^9//                                  YOUNGS MODUKUS OF SHAFT MATERIAL IN Pascals\n",
"f=70*10^6//                                        PERMISSIBLE STRESS IN N/m^2\n",
"//============================================================================================\n",
"I=PI*D^4/64//                MOMENT OF INERTIA OF SHAFT IN m^4\n",
"DELTA=W*L^3/(192*E*I)//      STATIC DEFLECTION IN m\n",
"Fn=.4985/(DELTA)^.5//           NATURAL FREQUENCY OF TRANSVERSE VIBRATION\n",
"Nc=Fn*60//                   CRITICAL SPEED OF SHAFT IN rpm\n",
"M1=16*f*I/(D*g*L)\n",
"W1=M1*g//                    ADDITIONAL LOAD ACTING\n",
"y=W1/W*DELTA//               ADDITIONAL DEFLECTION DUE TO W1\n",
"N1=Nc/(1+e/y)^.5//              MIN SPEED IN rpm\n",
"N2=Nc/(1-e/y)^.5//              MAX SPEED IN rpm\n",
"//===========================================================================================\n",
"printf('CRITICAL SPEED OF SHAFT = %.3f rpm\n THE RANGE OF SPEED IS FROM %.3f rpm TO %.3f rpm',Nc,N1,N2)"
   ]
   }
,
{
		   "cell_type": "markdown",
		   "metadata": {},
		   "source": [
			"## Example 11.1: FREQUENCY_OF_TRANSVERSE_VIBRATION.sce"
		   ]
		  },
  {
"cell_type": "code",
	   "execution_count": null,
	   "metadata": {
	    "collapsed": true
	   },
	   "outputs": [],
"source": [
"//CHAPTER 11 ILLUSRTATION 1 PAGE NO 290\n",
"//TITLE:VIBRATIONS\n",
"clc\n",
"clear\n",
"//===========================================================================================\n",
"//INPUT DATA\n",
"PI=3.147\n",
"D=.1//                           DIAMETER OF SHAFT IN m\n",
"L=1.10//                          LENGTH OF SHAFT IN m\n",
"W=450//                          WEIGHT ON THE OTHER END OF SHAFT IN NEWTONS\n",
"E=200*10^9//                     YOUNGS MODUKUS OF SHAFT MATERIAL IN Pascals\n",
"//   =========================================================================================\n",
"A=PI*D^2/4//                    AREA OF SHAFT IN mm^2\n",
"I=PI*D^4/64//                   MOMENT OF INERTIA \n",
"delta=W*L/(A*E)//               STATIC DEFLECTION IN LONGITUDINAL VIBRATION OF SHAFT IN m\n",
"Fn=0.4985/(delta)^.5//         FREQUENCY OF LONGITUDINAL VIBRATION IN Hz\n",
"delta1=W*L^3/(3*E*I)//           STATIC DEFLECTION IN TRANSVERSE VIBRATION IN m\n",
"Fn1=0.4985/(delta1)^.5//        FREQUENCY OF TRANSVERSE VIBRATION  IN Hz\n",
"//============================================================================================\n",
"//OUTPUT\n",
"printf('FREQUENCY OF LONGITUDINAL VIBRATION =%.3f Hz\n FREQUENCY OF TRANSVERSE VIBRATION =%.3f Hz',Fn,Fn1)\n",
"\n",
"\n",
""
   ]
   }
,
{
		   "cell_type": "markdown",
		   "metadata": {},
		   "source": [
			"## Example 11.2: NATURAL_FREQUENCY_OF_TRANSVERSE_VIBRATION.sce"
		   ]
		  },
  {
"cell_type": "code",
	   "execution_count": null,
	   "metadata": {
	    "collapsed": true
	   },
	   "outputs": [],
"source": [
"//CHAPTER 11 ILLUSRTATION 2 PAGE NO 290\n",
"//TITLE:VIBRATIONS\n",
"//FIGURE 11.10\n",
"clc\n",
"clear\n",
"//===========================================================================================\n",
"//INPUT DATA\n",
"PI=3.147\n",
"L=.9//                          LENGTH OF THE SHAFT IN m\n",
"m=100//                         MASS OF THE BODY IN Kg\n",
"L2=.3//                         LENGTH WHERE THE WEIGHT IS ACTING IN m\n",
"L1=L-L2//                       DISTANCE FROM THE OTHER END\n",
"D=.06//                         DIAMETER OF SHAFT IN m\n",
"W=9.81*m//                      WEGHT IN NEWTON\n",
"E=200*10^9//                     YOUNGS MODUKUS OF SHAFT MATERIAL IN Pascals\n",
"//==========================================================================================\n",
"//CALCULATION\n",
"I=PI*D^4/64//                   MOMENT OF INERTIA IN m^4\n",
"delta=W*L1^2*L2^2/(3*E*I*L)//  STATIC DEFLECTION\n",
"Fn=.4985/(delta)^.5//           NATURAL FREQUENCY OF TRANSVERSE VIBRATION\n",
"//=========================================================================================\n",
"//OUTPUT\n",
"printf('NATURAL FREQUENCY OF TRANSVERSE VIBRATION=%.3f Hz',Fn)"
   ]
   }
,
{
		   "cell_type": "markdown",
		   "metadata": {},
		   "source": [
			"## Example 11.3: FREQUENCY_OF_TORSIONAL_VIBRATION.sce"
		   ]
		  },
  {
"cell_type": "code",
	   "execution_count": null,
	   "metadata": {
	    "collapsed": true
	   },
	   "outputs": [],
"source": [
"//CHAPTER 11 ILLUSRTATION 3 PAGE NO 291\n",
"//TITLE:VIBRATIONS\n",
"//FIGURE 11.11\n",
"clc\n",
"clear\n",
"//===========================================================================================\n",
"//INPUT DATA\n",
"PI=3.147\n",
"g=9.81//                                      ACCELERATION DUE TO GRAVITY IN N /m^2\n",
"D=.050//                                       DIAMETER OF SHAFT IN m\n",
"m=450//                                      WEIGHT OF FLY WHEEL IN IN Kg\n",
"K=.5//                                       RADIUS OF GYRATION IN m\n",
"L2=.6//                                     FROM FIGURE IN m\n",
"L1=.9//                                     FROM FIGURE IN m\n",
"L=L1+L2\n",
"E=200*10^9//                     YOUNGS MODUKUS OF SHAFT MATERIAL IN Pascals\n",
"C=84*10^9//                      MODUKUS OF RIDITY OF SHAFT MATERIAL IN Pascals\n",
"//=========================================================================================\n",
"A=PI*D^2/4//                               AREA OF SHAFT IN mm^2\n",
"I=PI*D^4/64//                     \n",
"m1=m*L2/(L1+L2)//                           MASS OF THE FLYWHEEL CARRIED BY THE LENGTH L1 IN Kg\n",
"DELTA=m1*g*L1/(A*E)//                       EXTENSION OF LENGTH L1 IN m\n",
"Fn=0.4985/(DELTA)^.5//                      FREQUENCY OF LONGITUDINAL VIBRATION IN Hz\n",
"DELTA1=(m*g*L1^3*L2^3)/(3*E*I*L^3)//        STATIC DEFLECTION IN TRANSVERSE VIBRATION IN m\n",
"Fn1=0.4985/(DELTA1)^.5//                    FREQUENCY OF TRANSVERSE VIBRATION  IN Hz\n",
"J=PI*D^4/32//                               POLAR MOMENT OF INERTIA IN m^4\n",
"Q1=C*J/L1//                                 TORSIONAL STIFFNESS OF SHAFT DUE TO L1 IN N-m\n",
"Q2=C*J/L2//                                  TORSIONAL STIFFNESS OF SHAFT DUE TO L2 IN N-m\n",
"Q=Q1+Q2//                                    TORSIONAL STIFFNESS OF SHAFT IN Nm\n",
"Fn2=(Q/(m*K^2))^.5/(2*PI)//                  FREQUENCY OF TORSIONAL VIBRATION  IN Hz\n",
"//=======================================================================================\n",
"printf('FREQUENCY OF LONGITUDINAL VIBRATION = %.3f Hz\n FREQUENCY OF TRANSVERSE VIBRATION = %.3f Hz\n FREQUENCY OF TORSIONAL VIBRATION = %.3f Hz',Fn,Fn1,Fn2)\n",
""
   ]
   }
,
{
		   "cell_type": "markdown",
		   "metadata": {},
		   "source": [
			"## Example 11.6: FREQUENCY_OF_TRANSVERSE_VIBRATION.sce"
		   ]
		  },
  {
"cell_type": "code",
	   "execution_count": null,
	   "metadata": {
	    "collapsed": true
	   },
	   "outputs": [],
"source": [
"//CHAPTER 11 ILLUSRTATION 6 PAGE NO 294\n",
"//TITLE:VIBRATIONS\n",
"//FIGURE 11.14\n",
"clc\n",
"clear\n",
"//===========================================================================================\n",
"//INPUT DATA\n",
"PI=3.147\n",
"g=9.81//                                      ACCELERATION DUE TO GRAVITY IN N /m^2\n",
"D=.06//                                       DIAMETER OF SHAFT IN m\n",
"L=3//                                         LENGTH OF SHAFT IN m\n",
"W1=1500//                                     WEIGHT ACTING AT C IN N\n",
"W2=2000//                                     WEIGHT ACTING AT D IN N\n",
"W3=1000//                                     WEIGHT ACTING AT E IN N\n",
"L1=1//                                        LENGTH FROM A TO C IN m\n",
"L2=2//                                        LENGTH FROM A TO D IN m\n",
"L3=2.5//                                        LENGTH FROM A TO E IN m\n",
"I=PI*D^4/64\n",
"E=200*10^9//                     YOUNGS MODUKUS OF SHAFT MATERIAL IN Pascals\n",
"//===========================================================================================\n",
"DELTA1=W1*L1^2*(L-L1)^2/(3*E*I*L)//           STATIC DEFLECTION DUE TO W1\n",
"DELTA2=W2*L2^2*(L-L2)^2/(3*E*I*L)//           STATIC DEFLECTION DUE TO W2\n",
"DELTA3=W2*L3^2*(L-L3)^2/(3*E*I*L)//           STATIC DEFLECTION DUE TO W2\n",
"Fn=.4985/(DELTA1+DELTA2+DELTA3)^.5//          FREQUENCY OF TRANSVERSE VIBRATION  IN Hz\n",
"//==========================================================================================\n",
"printf('FREQUENCY OF TRANSVERSE VIBRATION = %.3f Hz',Fn)"
   ]
   }
],
"metadata": {
		  "kernelspec": {
		   "display_name": "Scilab",
		   "language": "scilab",
		   "name": "scilab"
		  },
		  "language_info": {
		   "file_extension": ".sce",
		   "help_links": [
			{
			 "text": "MetaKernel Magics",
			 "url": "https://github.com/calysto/metakernel/blob/master/metakernel/magics/README.md"
			}
		   ],
		   "mimetype": "text/x-octave",
		   "name": "scilab",
		   "version": "0.7.1"
		  }
		 },
		 "nbformat": 4,
		 "nbformat_minor": 0
}
