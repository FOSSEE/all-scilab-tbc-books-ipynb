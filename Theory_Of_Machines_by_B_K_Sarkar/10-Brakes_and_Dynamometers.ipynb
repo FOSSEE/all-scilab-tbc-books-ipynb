{
"cells": [
 {
		   "cell_type": "markdown",
	   "metadata": {},
	   "source": [
       "# Chapter 10: Brakes and Dynamometers"
	   ]
	},
{
		   "cell_type": "markdown",
		   "metadata": {},
		   "source": [
			"## Example 10.10: Maximum_braking_torque.sce"
		   ]
		  },
  {
"cell_type": "code",
	   "execution_count": null,
	   "metadata": {
	    "collapsed": true
	   },
	   "outputs": [],
"source": [
"//CHAPTER 10 ILLUSRTATION 10 PAGE NO 275\n",
"//TITLE:Brakes and Dynamometers\n",
"clc\n",
"clear\n",
"//===========================================================================================\n",
"//INPUT DATA\n",
"n=12;// Number of blocks\n",
"q=16;//Angle subtended in degrees\n",
"d=0.9;//Effective diameter in m\n",
"m=2000;//Mass in kg\n",
"k=0.5;//Radius of gyration in m\n",
"b1=0.7;//Distance in m\n",
"b2=0.03;//Distance in m\n",
"a=0.1;//Distance in m\n",
"P=180;//Force in N\n",
"N=360;//Speed in r.p.m\n",
"U=0.25;//Coefficient of friction\n",
"\n",
"Tr=((1+(U*tand(q/2)))/(1-(U*tand(q/2))))^n;//Tensions ratio\n",
"T2=(P*b1)/(a-(b2*Tr));//Tension in N\n",
"T1=(Tr*T2);//Tension in N\n",
"TB=(T1-T2)*(d/2);//Torque in N.m\n",
"aa=(TB/(m*k^2));//Angular acceleration in rad/s^2\n",
"t=((2*3.14*N)/60)/aa;//Time in seconds\n",
"\n",
"printf('(i) Maximum braking torque is %3.4f Nm \n(ii) Angular retardation of the drum is %3.4f rad/s^2 \n(iii) Time taken by the system to come to rest is %3.1f s',TB,aa,t)"
   ]
   }
,
{
		   "cell_type": "markdown",
		   "metadata": {},
		   "source": [
			"## Example 10.1: Torque_transmitted_by_the_block_brake.sce"
		   ]
		  },
  {
"cell_type": "code",
	   "execution_count": null,
	   "metadata": {
	    "collapsed": true
	   },
	   "outputs": [],
"source": [
"//CHAPTER 10 ILLUSRTATION 1 PAGE NO 268\n",
"//TITLE:Brakes and Dynamometers\n",
"clc\n",
"clear\n",
"//===========================================================================================\n",
"//INPUT DATA\n",
"d=0.32;//Diameter of the drum in m\n",
"qq=90;//Angle of contact in degree\n",
"P=820;//Force applied in N\n",
"U=0.35;//Coefficient of friction\n",
"\n",
"\n",
"U1=((4*U*sind(qq/2))/((qq*(3.14/180))+sind(qq)));//Equivalent coefficient of friction\n",
"F=((P*0.66)/((0.3/U1)-0.06));//Force value in N taking moments\n",
"TB=(F*(d/2));//Torque transmitted in N.m\n",
"\n",
"printf('Torque transmitted by the block brake is %3.4f N.m',TB)"
   ]
   }
,
{
		   "cell_type": "markdown",
		   "metadata": {},
		   "source": [
			"## Example 10.2: DISTANCE_TRAVELLED_BY_CYCLE.sce"
		   ]
		  },
  {
"cell_type": "code",
	   "execution_count": null,
	   "metadata": {
	    "collapsed": true
	   },
	   "outputs": [],
"source": [
"//CHAPTER 10 ILLUSRTATION 2 PAGE NO 269\n",
"//TITLE:Brakes and Dynamometers\n",
"clc\n",
"clear\n",
"//===========================================================================================\n",
"//INPUT DATA\n",
"m=120;//Mass of rider in kg\n",
"v=16.2;//Speed of rider in km/hr\n",
"d=0.9;//Diameter of the wheel in m\n",
"P=120;//Pressure applied on the brake in N\n",
"U=0.06;//Coefficient of friction\n",
"\n",
"F=(U*P);//Frictional force in N\n",
"KE=((m*(v*(5/18))^2)/2);//Kinematic Energy in N.m\n",
"S=(KE/F);//Distance travelled by the bicycle before it comes to rest in m\n",
"N=(S/(d*3.14));//Required number of revolutions\n",
"\n",
"printf('The bicycle travels a distance of %3.2f m and makes %3.2f turns before it comes to rest',S,N)"
   ]
   }
,
{
		   "cell_type": "markdown",
		   "metadata": {},
		   "source": [
			"## Example 10.3: Maximum_torque_absorbed.sce"
		   ]
		  },
  {
"cell_type": "code",
	   "execution_count": null,
	   "metadata": {
	    "collapsed": true
	   },
	   "outputs": [],
"source": [
"//CHAPTER 10 ILLUSRTATION 3 PAGE NO 270\n",
"//TITLE:Brakes and Dynamometers\n",
"clc\n",
"clear\n",
"//===========================================================================================\n",
"//INPUT DATA\n",
"S=3500;//Force on each arm in N\n",
"d=0.36;//Diamter of the wheel in m\n",
"U=0.4;//Coefficient of friction \n",
"qq=100;//Contact angle in degree\n",
"\n",
"qqr=(qq*(3.14/180));//Contact angle in radians\n",
"UU=((4*U*sind(qq/2))/(qqr+(sind(qq))));//Equivalent coefficient of friction\n",
"F1=(S*0.45)/((0.2/UU)+((d/2)-0.04));//Force on fulcrum in N\n",
"F2=(S*0.45)/((0.2/UU)-((d/2)-0.04));//Force on fulcrum in N\n",
"TB=(F1+F2)*(d/2);//Maximum torque absorbed in N.m\n",
"\n",
"printf('Maximum torque absorbed is %3.2f N.m',TB)"
   ]
   }
,
{
		   "cell_type": "markdown",
		   "metadata": {},
		   "source": [
			"## Example 10.4: The_maximum_braking_torque_on_the_drum.sce"
		   ]
		  },
  {
"cell_type": "code",
	   "execution_count": null,
	   "metadata": {
	    "collapsed": true
	   },
	   "outputs": [],
"source": [
"//CHAPTER 10 ILLUSRTATION 4 PAGE NO 271\n",
"//TITLE:Brakes and Dynamometers\n",
"clc\n",
"clear\n",
"//===========================================================================================\n",
"//INPUT DATA\n",
"a=0.5;//Length of lever in m\n",
"d=0.5;//Diameter of brake drum in m\n",
"q=(5/8)*(2*3.14);//Angle made in radians\n",
"b=0.1;//Distance between pin and fulcrum in m\n",
"P=2000;//Effort applied in N\n",
"U=0.25;//Coefficient of friction\n",
"\n",
"T=exp(U*q);//Ratios of tension\n",
"T2=((P*a)/b);//Tension in N\n",
"T1=(T*T2);//Tension in N\n",
"TB=((T1-T2)*(d/2))/1000;//Maximum braking torque in kNm\n",
"\n",
"printf('The maximum braking torque on the drum is %3.3f kNm',TB)"
   ]
   }
,
{
		   "cell_type": "markdown",
		   "metadata": {},
		   "source": [
			"## Example 10.5: Tensions_in_the_side.sce"
		   ]
		  },
  {
"cell_type": "code",
	   "execution_count": null,
	   "metadata": {
	    "collapsed": true
	   },
	   "outputs": [],
"source": [
"//CHAPTER 10 ILLUSRTATION 5 PAGE NO 271\n",
"//TITLE:Brakes and Dynamometers\n",
"clc\n",
"clear\n",
"//===========================================================================================\n",
"//INPUT DATA\n",
"q=220;//Angle of contact in degree\n",
"T=340;//Torque in Nm\n",
"d=0.32;//Diameter of drum in m\n",
"U=0.3;//Coefficient of friction\n",
"\n",
"Td=(T/(d/2));//Difference in tensions in N\n",
"Tr=exp(U*(q*(3.14/180)));//Ratio of tensions\n",
"T2=(Td/(Tr-1));//Tension in N\n",
"T1=(Tr*T2);//Tension in N\n",
"P=((T2*(d/2))-(T1*0.04))/0.5;//Force applied in N\n",
"b=(T1/T2)*4;//Value of b in cm when the brake is self-locking\n",
"\n",
"printf('The value of b is %3.2f cm when the brake is self-locking \n Tensions in the sides are %3.3f N and %3.3f N',b,T1,T2)"
   ]
   }
,
{
		   "cell_type": "markdown",
		   "metadata": {},
		   "source": [
			"## Example 10.6: Torque_required.sce"
		   ]
		  },
  {
"cell_type": "code",
	   "execution_count": null,
	   "metadata": {
	    "collapsed": true
	   },
	   "outputs": [],
"source": [
"//CHAPTER 10 ILLUSRTATION 6 PAGE NO 272\n",
"//TITLE:Brakes and Dynamometers\n",
"clc\n",
"clear\n",
"//===========================================================================================\n",
"//INPUT DATA\n",
"d=0.5;//Drum diamter in m\n",
"U=0.3;//Coefficient of friction\n",
"q=250;//Angle of contact in degree\n",
"P=750;//Force in N\n",
"a=0.1;//Band width in m\n",
"b=0.8;//Distance in m\n",
"ft=(70*10^6);//Tensile stress in Pa\n",
"f=(60*10^6);//Stress in Pa\n",
"b1=0.1;//Distance in m\n",
"\n",
"T=exp(U*(q*(3.14/180)));//Tensions ratio\n",
"T2=(P*b*10)/(T+1);//Tension in N\n",
"T1=(T*T2);//Tension in N\n",
"TB=(T1-T2)*(d/2);//Torque in N.m\n",
"t=(max(T1,T2)/(ft*a))*1000;//Thickness in mm\n",
"M=(P*b);//bending moment at fulcrum in Nm\n",
"X=(M/((1/6)*f));//Value of th^2\n",
"//t varies from 10mm to 15 mm. Taking t=15mm,\n",
"h=sqrt(X/(0.015))*1000;//Section of the lever in m\n",
"\n",
"printf('Torque required is %3.2f N.m \nThickness necessary to limit the tensile stress to 70 MPa is %3.3f mm \n Section of the lever taking stress to 60 MPa is %3.1f mm',TB,t,h)"
   ]
   }
,
{
		   "cell_type": "markdown",
		   "metadata": {},
		   "source": [
			"## Example 10.7: Power_TO_BD_ratio.sce"
		   ]
		  },
  {
"cell_type": "code",
	   "execution_count": null,
	   "metadata": {
	    "collapsed": true
	   },
	   "outputs": [],
"source": [
"//CHAPTER 10 ILLUSRTATION 7 PAGE NO 273\n",
"//TITLE:Brakes and Dynamometers\n",
"clc\n",
"clear\n",
"//===========================================================================================\n",
"//INPUT DATA\n",
"P1=30;//Power in kW\n",
"N=1250;//Speed in r.p.m\n",
"P=60;//Applied force in N\n",
"d=0.8;//Drum diameter in m\n",
"q=310;//Contact angle in degree\n",
"a=0.03;//Length of a in m\n",
"b=0.12;//Length of b in m\n",
"U=0.2;//Coefficient of friction\n",
"B=10;//Band width in cm\n",
"D=80;//Diameter in cm\n",
"\n",
"T=(P1*60000)/(2*3.14*N);//Torque in N.m\n",
"Td=(T/(d/2));//Tension difference in N\n",
"Tr=exp(U*(q*(3.14/180)));//Tensions ratio\n",
"T2=(Td/(Tr-1));//Tension in N\n",
"T1=(Tr*T2);//Tension in N\n",
"x=((T2*b)-(T1*a))/P;//Distance in m;\n",
"X=(P1/(B*D));//Ratio\n",
"\n",
"printf('Value of x is %3.4f m \n Value of (Power/bD) ratio is %3.4f',x,X)"
   ]
   }
,
{
		   "cell_type": "markdown",
		   "metadata": {},
		   "source": [
			"## Example 10.8: Time_required_to_bring_the_shaft_to_the_rest_from_its_running_condition.sce"
		   ]
		  },
  {
"cell_type": "code",
	   "execution_count": null,
	   "metadata": {
	    "collapsed": true
	   },
	   "outputs": [],
"source": [
"//CHAPTER 10 ILLUSRTATION 8 PAGE NO 274\n",
"//TITLE:Brakes and Dynamometers\n",
"clc\n",
"clear\n",
"//===========================================================================================\n",
"//INPUT DATA\n",
"m=80;//Mass of flywheel in kg\n",
"k=0.5;//Radius of gyration in m\n",
"N=250;//Speed in r.p.m\n",
"d=0.32;//Diamter of the drum in m\n",
"b=0.05;//Distance of pin in m\n",
"q=260;//Angle of contact in degree\n",
"U=0.23;//Coefficient of friction\n",
"P=20;//Force in N\n",
"a=0.35;//Distance at which force is applied in m\n",
"\n",
"Tr=exp(U*q*(3.14/180));//Tensions ratio\n",
"T2=(P*a)/b;//Tension in N\n",
"T1=(Tr*T2);//Tension in N\n",
"TB=(T1-T2)*(d/2);//Torque in N.m\n",
"KE=((1/2)*(m*k^2)*((2*3.14*N)/60)^2);//Kinematic energy of the rotating drum in Nm\n",
"N1=(KE/(TB*2*3.14));//Speed in rpm\n",
"aa=((2*3.14*N)/60)^2/(4*3.14*N1);//Angular acceleration in rad/s^2\n",
"t=((2*3.14*N)/60)/aa;//Time in seconds\n",
"\n",
"printf('Time required to bring the shaft to the rest from its running condition is %3.1f seconds',t)"
   ]
   }
,
{
		   "cell_type": "markdown",
		   "metadata": {},
		   "source": [
			"## Example 10.9: Minimum_force_required.sce"
		   ]
		  },
  {
"cell_type": "code",
	   "execution_count": null,
	   "metadata": {
	    "collapsed": true
	   },
	   "outputs": [],
"source": [
"//CHAPTER 10 ILLUSRTATION 9 PAGE NO 275\n",
"//TITLE:Brakes and Dynamometers\n",
"clc\n",
"clear\n",
"//===========================================================================================\n",
"//INPUT DATA\n",
"n=12;//Number of blocks\n",
"q=15;//Angle subtended in degree\n",
"P=185;//Power in kW\n",
"N=300;//Speed in r.p.m\n",
"U=0.25;//Coefficient of friction\n",
"d=1.25;//Diamter in m\n",
"b1=0.04;//Distance in m\n",
"b2=0.14;//Distance in m\n",
"a=1;//Diatance in m\n",
"m=2400;//Mass of rotor in kg\n",
"k=0.5;//Radius of gyration in m\n",
"\n",
"Td=(P*60000)/(2*3.14*N*(d/2));//Tension difference in N\n",
"T=Td*(d/2);//Torque in Nm\n",
"Tr=((1+(U*tand(q/2)))/(1-(U*tand(q/2))))^n;//Tension ratio\n",
"To=(Td/(Tr-1));//Tension in N\n",
"Tn=(Tr*To);//Tension in N\n",
"P=((To*b2)-(Tn*b1))/a;//Force in N\n",
"aa=(T/(m*k^2));//Angular acceleration in rad/s^2\n",
"t=((2*3.14*N)/60)/aa;//Time in seconds\n",
"\n",
"printf('Minimum force required is %3.0f N \nTime taken to bring to rest is %3.1f seconds',P,t)"
   ]
   }
],
"metadata": {
		  "kernelspec": {
		   "display_name": "Scilab",
		   "language": "scilab",
		   "name": "scilab"
		  },
		  "language_info": {
		   "file_extension": ".sce",
		   "help_links": [
			{
			 "text": "MetaKernel Magics",
			 "url": "https://github.com/calysto/metakernel/blob/master/metakernel/magics/README.md"
			}
		   ],
		   "mimetype": "text/x-octave",
		   "name": "scilab",
		   "version": "0.7.1"
		  }
		 },
		 "nbformat": 4,
		 "nbformat_minor": 0
}
