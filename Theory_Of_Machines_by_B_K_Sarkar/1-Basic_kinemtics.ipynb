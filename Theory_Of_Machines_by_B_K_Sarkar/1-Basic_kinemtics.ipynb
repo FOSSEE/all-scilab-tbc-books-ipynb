{
"cells": [
 {
		   "cell_type": "markdown",
	   "metadata": {},
	   "source": [
       "# Chapter 1: Basic kinemtics"
	   ]
	},
{
		   "cell_type": "markdown",
		   "metadata": {},
		   "source": [
			"## Example 1.10: angular_acceleration_of_connecting_rod_BA.sce"
		   ]
		  },
  {
"cell_type": "code",
	   "execution_count": null,
	   "metadata": {
	    "collapsed": true
	   },
	   "outputs": [],
"source": [
"//CHAPTER 1 ILLUSRTATION 10 PAGE NO 24\n",
"//TITLE:Basic kinematics\n",
"//Figure 1.30(a),1.30(b),1.30(c)\n",
"clc\n",
"clear\n",
"pi=3.141\n",
"Nao=300//         speed of crank in rpm\n",
"AO=.15//          length of crank in m\n",
"BA=.6//           length of connecting rod in m\n",
"//===================\n",
"wAO=2*pi*Nao/60//        angular velocity of link in rad/s\n",
"Vao=wAO*AO//             linear velocity of A with respect to 'o'\n",
"ab=3.4//        length of vector ab by measurement in m/s\n",
"Vba=ab\n",
"ob=4//        length of vector ob by measurement in m/s\n",
"oc=4.1//         length of vector oc by measurement in m/s\n",
"fRao=Vao^2/AO//    radial component of acceleration of A with respect to O\n",
"fRba=Vba^2/BA//     radial component of acceleration of B with respect to A\n",
"wBA=Vba/BA//        angular velocity of connecting rod BA\n",
"fTba=103//         by measurement in m/s^2\n",
"alphaBA=fTba/BA//    angular acceleration of connecting rod BA\n",
"printf('linear velocity of A with respect to O= %.3f m/s\n radial component of acceleration of A with respect to O= %.3f m/s^2\n radial component of acceleration of B with respect to A= %.3f m/s^2\n angular velocity of connecting rod B= %.3f rad/s\n angular acceleration of connecting rod BA= %.3f rad/s^2',Vao,fRao,fRba,wBA,alphaBA)"
   ]
   }
,
{
		   "cell_type": "markdown",
		   "metadata": {},
		   "source": [
			"## Example 1.11: angular_acceleration_of_AB.sce"
		   ]
		  },
  {
"cell_type": "code",
	   "execution_count": null,
	   "metadata": {
	    "collapsed": true
	   },
	   "outputs": [],
"source": [
"//CHAPTER 1 ILLUSRTATION 11 PAGE NO 26\n",
"//TITLE:Basic kinematics\n",
"//Figure 1.31(a),1.31(b),1.31(c)\n",
"clc\n",
"clear\n",
"pi=3.141\n",
"wAP=10//            angular velocity of crank in rad/s\n",
"P1A=30//            length of link P1A in cm\n",
"P2B=36//            length of link P2B in cm\n",
"AB=36//             length of link AB in cm\n",
"P1P2=60//           length of link P1P2 in cm\n",
"AP1P2=60//          crank inclination in degrees \n",
"alphaP1A=30//       angulare acceleration of crank P1A in rad/s^2\n",
"//=====================================\n",
"Vap1=wAP*P1A/100//    linear velocity of A with respect to P1 in m/s\n",
"Vbp2=2.2//            velocity of B with respect to P2 in m/s(measured from figure )\n",
"Vba=2.06//            velocity of B with respect to A in m/s(measured from figure )\n",
"wBP2=Vbp2/(P2B*100)//   angular velocity of P2B in rad/s\n",
"wAB=Vba/(AB*100)//      angular velocity of AB in rad/s\n",
"fAB1=alphaP1A*P1A/100//  tangential component of the acceleration of A with respect to P1 in m/s^2\n",
"frAB1=Vap1^2/(P1A/100)//  radial component of the acceleration of A with respect to P1 in m/s^2\n",
"frBA=Vba^2/(AB/100)//     radial component of the acceleration of B with respect to B in m/s^2\n",
"frBP2=Vbp2^2/(P2B/100)//    radial component of the acceleration of B with respect to P2 in m/s^2\n",
"ftBA=13.62//             tangential component of B with respect to A in m/s^2(measured from figure)\n",
"ftBP2=26.62//            tangential component of B with respect to P2 in m/s^2(measured from figure)\n",
"alphaBP2=ftBP2/(P2B/100)//   angular acceleration of P2B in m/s^2\n",
"alphaBA=ftBA/(AB/100)//      angular acceleration of AB in m/s^2\n",
"//==========================\n",
"printf('Angular acceleration of P2B=%.3f rad/s^2\n angular acceleration of AB =%.3f rad/s^2',alphaBP2,alphaBA)"
   ]
   }
,
{
		   "cell_type": "markdown",
		   "metadata": {},
		   "source": [
			"## Example 1.12: Accelaration_of_the_slider.sce"
		   ]
		  },
  {
"cell_type": "code",
	   "execution_count": null,
	   "metadata": {
	    "collapsed": true
	   },
	   "outputs": [],
"source": [
"//CHAPTER 1 ILLUSRTATION 12 PAGE NO 28\n",
"//TITLE:Basic kinematics\n",
"//Figure 1.32(a),1.32(b),1.32(c)\n",
"clc\n",
"clear\n",
"PI=3.141\n",
"AB=12//    length of link AB in cm\n",
"BC=48//    length of link BC in cm\n",
"CD=18//    length of link CD in cm\n",
"DE=36//    length of link DE in cm\n",
"EF=12//    length of link EF in cm\n",
"FP=36//    length of link FP in cm\n",
"Nba=200//   roating speed of link BA IN rpm\n",
"wBA=2*PI*200/60//    Angular velocity of BA in rad/s\n",
"Vba=wBA*AB/100//    linear velocity of B with respect to A in m/s\n",
"Vc=2.428//   velocity of c in m/s from diagram 1.32(b)\n",
"Vd=2.36//     velocity of D in m/s from diagram 1.32(b)\n",
"Ve=1//    velocity of e in m/s from diagram 1.32(b)\n",
"Vf=1.42//    velocity of f in m/s from diagram 1.32(b)\n",
"Vcb=1.3//    velocity of c with respect to b in m/s from figure\n",
"fBA=Vba^2*100/AB//   radial component of acceleration of B with respect to A in m/s^2\n",
"fCB=Vcb^2*100/BC//   radial component of acceleration of C with respect to B in m/s^2\n",
"fcb=3.52//          radial component of acceleration of C with respect to B in m/s^2 from figure\n",
"fC=19//              acceleration of slider in m/s^2 from figure\n",
"printf('velocity of c=%.3f m/s\n velocity of d=%.3f m/s\n velocity of e=%.3f m/s\n velocity of f=%.3f m/s\n Acceleration of slider=%f m/s^2',Vc,Vd,Ve,Vf,fC)\n",
"\n",
"\n",
"\n",
""
   ]
   }
,
{
		   "cell_type": "markdown",
		   "metadata": {},
		   "source": [
			"## Example 1.13: angular_acceleration.sce"
		   ]
		  },
  {
"cell_type": "code",
	   "execution_count": null,
	   "metadata": {
	    "collapsed": true
	   },
	   "outputs": [],
"source": [
"//CHAPTER 1 ILLUSRTATION 13 PAGE NO 30\n",
"//TITLE:Basic kinematics\n",
"//Figure 1.33(a),1.33(b),1.33(c)\n",
"clc\n",
"clear\n",
"PI=3.141\n",
"N=120//        speed of the crank OC in rpm\n",
"OC=5//         length of link OC in cm\n",
"cp=20//        length of link CP in cm\n",
"qa=10//        length of link QA in cm\n",
"pa=5//         length of link PA in cm\n",
"CP=46.9//        velocity of link CP in cm/s\n",
"QA=58.3//        velocity of link QA in cm/s\n",
"Pa=18.3//        velocity of link PA in cm/s\n",
"Vc=2*PI*N*OC/60//    velocity of C in m/s\n",
"Cco=Vc^2/OC//        centripetal acceleration of C relative to O in cm/s^2\n",
"Cpc=CP^2/cp//         centripetal acceleration of P relative to C in cm/s^2\n",
"Caq=QA^2/qa//          centripetal acceleration of A relative to Q in cm/s^2\n",
"Cap=Pa^2/pa//           centripetal acceleration of A relative to P in cm/s^2\n",
"pp1=530\n",
"a1a=323\n",
"a2a=207.5\n",
"ACP=pp1/cp//        angular acceleration of link CP in rad/s^2\n",
"APA=a1a/qa//        angular acceleration of link PA in rad/s^2\n",
"AAQ=a2a/pa//        angular acceleration of link AQ in rad/s^2\n",
"printf('angular acceleration of link CP =%.3f rad/s^2\n angular acceleration of link CP=%.3f rad/s^2\n angular acceleration of link CP=%.3f rad/s^2',ACP,APA,AAQ)"
   ]
   }
,
{
		   "cell_type": "markdown",
		   "metadata": {},
		   "source": [
			"## Example 1.1: Length_of_the_stroke.sce"
		   ]
		  },
  {
"cell_type": "code",
	   "execution_count": null,
	   "metadata": {
	    "collapsed": true
	   },
	   "outputs": [],
"source": [
"//CHAPTER 1 ILLUSRTATION 1 PAGE NO 15\n",
"//TITLE:Basic kinematics\n",
"//Figure 1.14\n",
"clc\n",
"clear\n",
"pi=3.141\n",
"AO=200//                 distance between fixed centres in mm\n",
"OB1=100//                length of driving crank in mm\n",
"AP=400//                 length of slotter bar in mm\n",
"//====================================\n",
"OAB1=asind(OB1/AO)//              inclination of slotted bar with vertical in degrees\n",
"beeta=(90-OAB1)*2//               angle through which crank turns inreturn stroke in degrees\n",
"A=(360-beeta)/beeta//             ratio of time of cutting stroke to the time of return stroke \n",
"L=2*AP*sind(90-(beeta)/2)//       length of the stroke in mm\n",
"printf('Inclination of slotted bar with vertical= %.3f degrees\n Length of the stroke= %.3f mm',OAB1,L)\n",
""
   ]
   }
,
{
		   "cell_type": "markdown",
		   "metadata": {},
		   "source": [
			"## Example 1.2: Ratio_of_time_taken_on_the_cutting_to_the_return_stroke.sce"
		   ]
		  },
  {
"cell_type": "code",
	   "execution_count": null,
	   "metadata": {
	    "collapsed": true
	   },
	   "outputs": [],
"source": [
"//CHAPTER 1 ILLUSRTATION 2 PAGE NO 16\n",
"//TITLE:Basic kinematics\n",
"//Figure 1.15\n",
"clc\n",
"clear\n",
"OA=300//               distance between the fixed centres in mm\n",
"OB=150//                 length of driving crank in mm\n",
"//================================\n",
"OAB=asind(OB/OA)//              inclination of slotted bar with vertical in degrees\n",
"beeta=(90-OAB)*2//               angle through which crank turns inreturn stroke in degrees\n",
"A=(360-beeta)/beeta//             ratio of time of cutting stroke to the time of return stroke \n",
"printf('Ratio of time taken on the cutting to the return stroke= %.0f',A)"
   ]
   }
,
{
		   "cell_type": "markdown",
		   "metadata": {},
		   "source": [
			"## Example 1.3: Ratio_of_time_taken_on_the_cutting_to_the_return_stroke.sce"
		   ]
		  },
  {
"cell_type": "code",
	   "execution_count": null,
	   "metadata": {
	    "collapsed": true
	   },
	   "outputs": [],
"source": [
"//CHAPTER 1 ILLUSRTATION 3 PAGE NO 16\n",
"//TITLE:Basic kinematics\n",
"//Figure 1.16\n",
"clc\n",
"clear\n",
"OB=54.6//               distance between the fixed centres in mm\n",
"OA=85//                 length of driving crank in mm\n",
"OA2=OA\n",
"CA=160//                length of slotted lever in mm\n",
"CD=144//                length of connectin rod in mm\n",
"//================================\n",
"beeta=2*(acosd(OB/OA2))//        angle through which crank turns inreturn stroke in degrees\n",
"A=(360-beeta)/beeta//             ratio of time of cutting stroke to the time of return stroke \n",
"printf('Ratio of time taken on the cutting to the return stroke= %.0f',A)"
   ]
   }
,
{
		   "cell_type": "markdown",
		   "metadata": {},
		   "source": [
			"## Example 1.4: Angular_velocity_of_connecting_rod.sce"
		   ]
		  },
  {
"cell_type": "code",
	   "execution_count": null,
	   "metadata": {
	    "collapsed": true
	   },
	   "outputs": [],
"source": [
"//CHAPTER 1 ILLUSRTATION 4 PAGE NO 17\n",
"//TITLE:Basic kinematics\n",
"//Figure 1.18,1.19\n",
"clc\n",
"clear\n",
"pi=3.141\n",
"Nao=180//     speed of the crank in rpm\n",
"wAO=2*pi*Nao/60//  angular speed of the crank in rad/s\n",
"AO=.5//          crank length in m\n",
"AE=.5\n",
"Vao=wAO*AO//      velocity of A in m/s\n",
"//================================\n",
"Vb1=8.15//    velocity of piston B in m/s by measurment from figure 1.19\n",
"Vba=6.8//    velocity of B with respect to A in m/s\n",
"AB=2//       length of connecting rod in m\n",
"wBA=Vba/AB//      angular velocity of the connecting rod BA in rad/s\n",
"ae=AE*Vba/AB//     velocity of point e on the connecting rod\n",
"oe=8.5//           by measurement velocity of point E\n",
"Do=.05//           diameter of crank shaft in m\n",
"Da=.06//           diameter of crank pin in m\n",
"Db=.03//           diameter of cross head pin B m\n",
"V1=wAO*Do/2//            velocity of rubbing at the pin of the crankshaft in m/s\n",
"V2=wBA*Da/2//            velocity of rubbing at the pin of the crank in m/s\n",
"Vb=(wAO+wBA)*Db/2//      velocity of rubbing at the pin of cross head in m/s\n",
"ag=5.1//                by measurement\n",
"AG=AB*ag/Vba//      position and linear velocity of point G on the connecting rod in m\n",
"//===============================\n",
"printf('Velocity of piston B= %.3f m/s\n Angular velocity of connecting rod= %.3f rad/s\n velocity of point E=%.1f m/s\n velocity of rubbing at the pin of the crankshaft=%.3f m/s\n velocity of rubbing at the pin of the crank =%.3f m/s\n velocity of rubbing at the pin of cross head =%.3f m/s\n position and linear velocity of point G on the connecting rod=%.3f m',Vb1,wBA,oe,V1,V2,Vb,AG)\n",
"\n",
"\n",
"\n",
"\n",
"\n",
" "
   ]
   }
,
{
		   "cell_type": "markdown",
		   "metadata": {},
		   "source": [
			"## Example 1.5: Linear_velocity_of_point_P.sce"
		   ]
		  },
  {
"cell_type": "code",
	   "execution_count": null,
	   "metadata": {
	    "collapsed": true
	   },
	   "outputs": [],
"source": [
"//CHAPTER 1 ILLUSRTATION 5 PAGE NO 19\n",
"//TITLE:Basic kinematics\n",
"//Figure 1.20,1.21\n",
"clc\n",
"clear\n",
"pi=3.141\n",
"N=120//      speed of crank in rpm\n",
"OA=10//      length of crank in cm\n",
"BP=48//      from figure 1.20 in cm\n",
"BA=40//      from figure 1.20 in cm\n",
"//==============\n",
"w=2*pi*N/60//       angular velocity of the crank OA in rad/s\n",
"Vao=w*OA//          velocity of ao in cm/s\n",
"ba=4.5//            by measurement from 1.21 in cm\n",
"Bp=BP*ba/BA\n",
"op=6.8//           by measurement in cm from figure 1.21\n",
"s=20//              scale of velocity diagram 1cm=20cm/s\n",
"Vp=op*s//           linear velocity of P in m/s\n",
"ob=5.1//            by measurement in cm from figure 1.21\n",
"Vb=ob*s//           linear velocity of slider B\n",
"printf('Linear velocity of slider B= %.2f cm/s\n Linear velocity of point P= %.2f cm/s',Vb,Vp)"
   ]
   }
,
{
		   "cell_type": "markdown",
		   "metadata": {},
		   "source": [
			"## Example 1.6: velocity_of_point_F.sce"
		   ]
		  },
  {
"cell_type": "code",
	   "execution_count": null,
	   "metadata": {
	    "collapsed": true
	   },
	   "outputs": [],
"source": [
"\n",
"//CHAPTER 1 ILLUSRTATION 6 PAGE NO 20\n",
"//TITLE:Basic kinematics\n",
"//Figure 1.22,1.23\n",
"clc\n",
"clear\n",
"pi=3.141\n",
"AB=6.25//     length of link AB in cm\n",
"BC=17.5//     length of link BC in cm\n",
"CD=11.25//    length of link CD in cm\n",
"DA=20//       length of link DA in cm\n",
"CE=10\n",
"N=100//       speed of crank in rpm\n",
"//========================\n",
"wAB=2*pi*N/60//      angular velocity of AB in rad/s\n",
"Vb=wAB*AB//          linear velocity of B with respect to A\n",
"s=15//      scale for velocity diagram 1 cm= 15 cm/s\n",
"dc=3//      by measurement in cm\n",
"Vcd=dc*s\n",
"wCD=Vcd/CD//       angular velocity of link CD in rad/s\n",
"bc=2.5//    by measurement in cm\n",
"Vbc=bc*s\n",
"wBC=Vbc/BC//     angular velocity of link BC in rad/s\n",
"ce=bc*CE/BC\n",
"ae=3.66//       by measurement in cm\n",
"Ve=ae*s//         velocity of point E 10 from c on the link BC\n",
"af=2.94//       by measurement in cm\n",
"Vf=af*s//       velocity of point F\n",
"printf('The angular velocity of link CD= %.3f rad/s\n The angular velocity of link BC= %.3f rad/s\n velocity of point E 10 from c on the link BC= %.3f cm/s\n velocity of point F= %.3f cm/s',wCD,wBC,Ve,Vf)"
   ]
   }
,
{
		   "cell_type": "markdown",
		   "metadata": {},
		   "source": [
			"## Example 1.7: angular_velocity_of_link_BD.sce"
		   ]
		  },
  {
"cell_type": "code",
	   "execution_count": null,
	   "metadata": {
	    "collapsed": true
	   },
	   "outputs": [],
"source": [
"//CHAPTER 1 ILLUSRTATION 7 PAGE NO 21\n",
"//TITLE:Basic kinematics\n",
"//Figure 1.24,1.25\n",
"clc\n",
"clear\n",
"pi=3.141\n",
"Noa=600//      speed of the crank in rpm\n",
"OA=2.8//       length of link OA in cm\n",
"AB=4.4//       length of link AB in cm\n",
"BC=4.9//       length of link BC in cm\n",
"BD=4.6//       length of link BD in cm\n",
"//=================\n",
"wOA=2*pi*Noa/60//        angular velocity of crank in rad/s\n",
"Vao=wOA*OA//             The linear velocity of point A with respect to oin m/s\n",
"s=50//                   scale of velocity diagram in cm\n",
"od=2.95//              by measurement in cm from figure\n",
"Vd=od*s/100//             linear velocity slider in m/s\n",
"bd=3.2//              by measurement in cm from figure\n",
"Vbd=bd*s\n",
"wBD=Vbd/BD//     angular velocity of link BD\n",
"printf('linear velocity slider D= %.3f m/s\n angular velocity of link BD= %.1f rad/s',Vd,wBD)\n",
"\n",
"\n",
""
   ]
   }
,
{
		   "cell_type": "markdown",
		   "metadata": {},
		   "source": [
			"## Example 1.8: Angular_velocity_of_link_CD.sce"
		   ]
		  },
  {
"cell_type": "code",
	   "execution_count": null,
	   "metadata": {
	    "collapsed": true
	   },
	   "outputs": [],
"source": [
"//CHAPTER 1 ILLUSRTATION 8 PAGE NO 22\n",
"//TITLE:Basic kinematics\n",
"//Figure 1.26,1.27\n",
"clc\n",
"clear\n",
"pi=3.141\n",
"Noa=60//        speed of crank in rpm\n",
"OA=30//     length of link OA in cm\n",
"AB=100//       length of link AB in cm\n",
"CD=80//         length of link CD in cm\n",
"//AC=CB\n",
"//================\n",
"wOA=2*pi*Noa/60//     angular velocity of crank in rad/s\n",
"Vao=wOA*OA/100//      linear velocity of point A with respect to O\n",
"s=50//          scale for velocity diagram 1 cm= 50 cm/s\n",
"ob=3.4//        by measurement in cm from figure 1.27\n",
"od=.9//         by measurement in cm from figure 1.27\n",
"Vcd=160//       by measurement in cm/s from figure 1.27\n",
"wCD=Vcd/CD//    angular velocity of link in rad/s\n",
"printf('Angular velocity of link CD= %d rad/s',wCD)"
   ]
   }
,
{
		   "cell_type": "markdown",
		   "metadata": {},
		   "source": [
			"## Example 1.9: velocity_of_sliding_of_the_block.sce"
		   ]
		  },
  {
"cell_type": "code",
	   "execution_count": null,
	   "metadata": {
	    "collapsed": true
	   },
	   "outputs": [],
"source": [
"//CHAPTER 1 ILLUSRTATION 9 PAGE NO 23\n",
"//TITLE:Basic kinematics\n",
"//Figure 1.28,1.29\n",
"clc\n",
"clear\n",
"pi=3.141\n",
"Nao=120//            speed of the crank in rpm\n",
"OQ=10//              length of link OQ in cm\n",
"OA=20//              length of link OA in cm\n",
"QC=15//              length of link QC in cm\n",
"CD=50//              length oflink CD in cm\n",
"//=============\n",
"wOA=2*pi*Nao/60//      angular speed of crank in rad/s\n",
"Vad=wOA*OA/100//         velocity of pin A in m/s\n",
"BQ=41//               from figure 1.29 \n",
"BC=26//               from firure 1.29 \n",
"bq=4.7//               from figure 1.29\n",
"bc=bq*BC/BQ//          from figure 1.29 in cm\n",
"s=50//                 scale for velocity diagram in cm/s\n",
"od=1.525//             velocity vector od in cm from figure 1.29\n",
"Vd=od*s//              velocity of ram D in cm/s\n",
"dc=1.925//             velocity vector dc in cm from figure 1.29\n",
"Vdc=dc*s//             velocity of link CD in cm/s\n",
"wCD=Vdc/CD//           angular velocity of link CD in cm/s\n",
"ba=1.8//               velocity vector of sliding of the block in cm\n",
"Vab=ba*s//             velocity of sliding of the block in cm/s\n",
"printf('Velocity of RAM D= %.3f cm/s\n angular velocity of link CD= %.3f rad/s\n velocity of sliding of the block= %.3f cm/s',Vd,wCD,Vab)"
   ]
   }
],
"metadata": {
		  "kernelspec": {
		   "display_name": "Scilab",
		   "language": "scilab",
		   "name": "scilab"
		  },
		  "language_info": {
		   "file_extension": ".sce",
		   "help_links": [
			{
			 "text": "MetaKernel Magics",
			 "url": "https://github.com/calysto/metakernel/blob/master/metakernel/magics/README.md"
			}
		   ],
		   "mimetype": "text/x-octave",
		   "name": "scilab",
		   "version": "0.7.1"
		  }
		 },
		 "nbformat": 4,
		 "nbformat_minor": 0
}
