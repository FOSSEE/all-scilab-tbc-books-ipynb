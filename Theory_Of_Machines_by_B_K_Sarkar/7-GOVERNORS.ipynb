{
"cells": [
 {
		   "cell_type": "markdown",
	   "metadata": {},
	   "source": [
       "# Chapter 7: GOVERNORS"
	   ]
	},
{
		   "cell_type": "markdown",
		   "metadata": {},
		   "source": [
			"## Example 7.10: EQUILIBRIUM_SPEED_OF_GOVERNOR.sce"
		   ]
		  },
  {
"cell_type": "code",
	   "execution_count": null,
	   "metadata": {
	    "collapsed": true
	   },
	   "outputs": [],
"source": [
"//CHAPTER 7 ILLUSRTATION 10 PAGE NO 206\n",
"//TITLE:GOVERNORS\n",
"//FIGURE 7.10\n",
"clc\n",
"clear\n",
"//===========================================================================================\n",
"//INPUT DATA\n",
"PI=3.147\n",
"AE=.25//                  LENGTH OF UPPER ARM IN m\n",
"CE=.25//                  LENGTH OF LOWER ARM IN m\n",
"EH=.1//                   LENGTH OF EXTENDED ARM IN m\n",
"EF=.15//                  RADIUS OF BALL PATH IN m\n",
"m=5//                     MASS OF EACH BALL IN Kg\n",
"M=40//                    MASS OF EACH BALL IN Kg\n",
"//===================================================================\n",
"h=(AE^2-EF^2)^.5//           HEIGHT OF THE GOVERNOR IN m\n",
"EM=h\n",
"HM=EH+EM//                   FROM FIGURE 7.10\n",
"N=((895/h)*(EM/HM)*((m+M)/m))^.5\n",
"printf('EQUILIBRIUM SPEED OF GOVERNOR = %.3f rpm',N)"
   ]
   }
,
{
		   "cell_type": "markdown",
		   "metadata": {},
		   "source": [
			"## Example 7.11: TENSION_IN_UPPER_ARM.sce"
		   ]
		  },
  {
"cell_type": "code",
	   "execution_count": null,
	   "metadata": {
	    "collapsed": true
	   },
	   "outputs": [],
"source": [
"//CHAPTER 7 ILLUSRTATION 11 PAGE NO 207\n",
"//TITLE:GOVERNORS\n",
"//FIGURE 7.11\n",
"clc\n",
"clear\n",
"//===========================================================================================\n",
"//INPUT DATA\n",
"PI=3.147\n",
"g=9.81//                  ACCELERATION DUE TO GRAVITY IN N/mm^2\n",
"AE=.25//                  LENGTH OF UPPER ARM IN m\n",
"CE=.25//                  LENGTH OF LOWER ARM IN m\n",
"ER=.175//                 FROM FIGURE 7.11\n",
"AP=.025//                 FROM FIGURE 7.11\n",
"FR=AP//                   FROM FIGURE 7.11\n",
"CQ=FR//                   FROM FIGURE 7.11\n",
"m=3.2//                     MASS OF BALL IN Kg\n",
"M=25//                    MASS OF SLEEVE IN Kg\n",
"h=.2//                    VERTICAL HEIGHT OF GOVERNOR IN m\n",
"EM=h//                    FROM FIGURE 7.11\n",
"AF=h//                    FROM FIGURE 7.11\n",
"N=160//                   SPEED OF THE GOVERNOR IN rpm\n",
"HM=(895*EM*(m+M)/(h*N^2*m))\n",
"x=HM-EM//                LENGTH OF EXTENDED LINK IN m\n",
"T1=g*(m+M/2)*AE/AF//     TENSION IN UPPER ARM IN N\n",
"printf('LENGTH OF EXTENDED LINK = %.3f m\n TENSION IN UPPER ARM =%.3f N',x,T1)"
   ]
   }
,
{
		   "cell_type": "markdown",
		   "metadata": {},
		   "source": [
			"## Example 7.12: MAXIMUM_SPEED_OF_ROTATION.sce"
		   ]
		  },
  {
"cell_type": "code",
	   "execution_count": null,
	   "metadata": {
	    "collapsed": true
	   },
	   "outputs": [],
"source": [
"//CHAPTER 7 ILLUSRTATION 12 PAGE NO 208\n",
"//TITLE:GOVERNORS\n",
"//FIGURE 7.12,7.13\n",
"clc\n",
"clear\n",
"//===========================================================================================\n",
"//INPUT DATA\n",
"PI=3.147\n",
"EF=.20//               MINIMUM RADIUS OF ROTATION IN m\n",
"AE=.30//               LENGTH OF EACH ARM IN m\n",
"A1E1=AE//              COMPARING FIRUES 7.12&7.13\n",
"EC=.30//               LENGTH OF EACH ARM IN m\n",
"E1C1=EC//              LENGTH OF EACH ARM IN m\n",
"ED=.165//              FROM FIGURE 7.12 IN m\n",
"MC=ED//                FROM FIGURE 7.12\n",
"EH=.10//                FROM FIGURE 7.12 IN m\n",
"m=8//                  MASS OF BALL IN Kg \n",
"M=60//                 MASS OF SLEEVE IN Kg\n",
"DF=.035//              SLEEVE DISTANCE FROM AXIS IN m\n",
"E1F1=.25//             MAX RADIUS OF ROTATION IN m\n",
"g=9.81\n",
"//=========================================================\n",
"alpha=asind(EF/AE)//     ANGLE OF INCLINATION OF THE ARM TO THE VERTICAL IN DEGREES\n",
"beeta=asind(ED/EC)//     ANGLE OF INCLINATION OF THE ARM TO THE HORIZONTAL IN DEGREES\n",
"k=tand(beeta)/tand(alpha)\n",
"h=(AE^2-EF^2)^.5//        HEIGHT OF GOVERNOR IN m\n",
"EM=(EC^2-MC^2)^.5//       FROM FIGURE 7.12 IN m\n",
"HM=EM+EH\n",
"N2=(895*EM*(m+(M/2*(1+k)))/(h*HM*m))^.5//      EQUILIBRIUM SPEED AT MAX RADIUS\n",
"HC=(HM^2+MC^2)^.5//                      FROM FIGURE 7.13 IN m\n",
"H1C1=HC\n",
"gama=atand(MC/HM)\n",
"alpha1=asind(E1F1/A1E1)\n",
"E1D1=E1F1-DF//                             FROM FIGURE 7.13 IN m\n",
"beeta1=asind(E1D1/E1C1)\n",
"gama1=gama-beeta+beeta1\n",
"r=H1C1*sind(gama1)+DF//                      RADIUS OF ROTATION IN m\n",
"H1M1=H1C1*cosd(gama1)\n",
"I1C1=E1C1*cosd(beeta1)*(tand(alpha1)+tand(beeta1))// FROM FIGURE IN m\n",
"M1C1=H1C1*sind(gama1)\n",
"w1=(((m*g*(I1C1-M1C1))+(M*g*I1C1)/2)/(m*r*H1M1))^.5//   ANGULAR SPEED IN rad/s\n",
"N1=w1*60/(2*PI)//                         //SPEED IN m/s\n",
"printf('MINIMUM SPEED OF ROTATION = %.3f rpm\n MAXIMUM SPEED OF ROTATION = %.3f rpm',N2,N1)\n",
""
   ]
   }
,
{
		   "cell_type": "markdown",
		   "metadata": {},
		   "source": [
			"## Example 7.1: PERCENTAGE_CHANGE_IN_SPEED.sce"
		   ]
		  },
  {
"cell_type": "code",
	   "execution_count": null,
	   "metadata": {
	    "collapsed": true
	   },
	   "outputs": [],
"source": [
"//CHAPTER 7 ILLUSRTATION 1 PAGE NO 196\n",
"//TITLE:GOVERNORS\n",
"clc\n",
"clear\n",
"//===========================================================================================\n",
"//INPUT DATA\n",
"L=.4//                     LENGTH OF UPPER ARM IN m\n",
"THETA=30//                 INCLINATION TO THE VERTICAL IN degrees\n",
"K=.02//                    RISED LENGTH IN m\n",
"//============================================================================================\n",
"h2=L*cosd(THETA)//         GOVERNOR HEIGHT IN m\n",
"N2=(895/h2)^.5//           SPEED AT h2 IN rpm\n",
"h1=h2-K//                  LENGTH WHEN IT IS RAISED BY 2 cm\n",
"N1=(895/h1)^.5//           SPEED AT h1 IN rpm\n",
"n=(N1-N2)/N2*100//         PERCENTAGE CHANGE IN SPEED\n",
"//==========================================================================================\n",
"printf('PERCENTAGE CHANGE IN SPEED= %.f PERCENTAGE',n)"
   ]
   }
,
{
		   "cell_type": "markdown",
		   "metadata": {},
		   "source": [
			"## Example 7.2: RANGE_OF_SPEED.sce"
		   ]
		  },
  {
"cell_type": "code",
	   "execution_count": null,
	   "metadata": {
	    "collapsed": true
	   },
	   "outputs": [],
"source": [
"//CHAPTER 7 ILLUSRTATION 2 PAGE NO 197\n",
"//TITLE:GOVERNORS\n",
"//FIGURE 7.5(A),7.5(B)\n",
"clc\n",
"clear\n",
"//===========================================================================================\n",
"//INPUT DATA\n",
"OA=.3//                          LENGTH OF UPPER ARM IN m\n",
"m=6//                            MASS OF EACH BALL IN Kg\n",
"M=18//                           MASS OF SLEEVE IN Kg\n",
"r2=.2//                          RADIUS OF ROTATION AT BEGINING IN m\n",
"r1=.25//                         RADIUS OF ROTATION AT MAX SPEED IN m\n",
"//===========================================================================================\n",
"h1=(OA^2-r1^2)^.5//             HIEGHT OF GOVERNOR AT MAX SPEED IN m\n",
"N1=(895*(m+M)/(h1*m))^.5//      MAX SPEED IN rpm\n",
"h2=(OA^2-r2^2)^.5//             HEIGHT OF GONERNOR AT BEGINING IN m\n",
"N2=(895*(m+M)/(h2*m))^.5//      MIN SPEED IN rpm\n",
"//===========================================================================================\n",
"printf('MAX SPEED = %.3f rpm\n MIN SPEED = %.3f rpm\n RANGE OF SPEED = %.3f rpm',N1,N2,N1-N2)"
   ]
   }
,
{
		   "cell_type": "markdown",
		   "metadata": {},
		   "source": [
			"## Example 7.3: RANGE_OF_SPEED.sce"
		   ]
		  },
  {
"cell_type": "code",
	   "execution_count": null,
	   "metadata": {
	    "collapsed": true
	   },
	   "outputs": [],
"source": [
"//CHAPTER 7 ILLUSRTATION 3 PAGE NO 197\n",
"//TITLE:GOVERNORS\n",
"//FIGURE 7.6\n",
"clc\n",
"clear\n",
"//===========================================================================================\n",
"//INPUT DATA\n",
"OA=.25//                                 LENGHT OF UPPER ARM IN m\n",
"CD=.03//                                 DISTANCE BETWEEN LEEVE AND LOWER ARM IN m\n",
"m=6//                                    MASS OF BALL IN Kg\n",
"M=48//                                   MASS OF SLEEVE IN Kg\n",
"AE=.17//                                  FROM FIGURE 7.6\n",
"AE1=.12//                                 FROM FIGURE 7.6\n",
"r1=.2//                                  RADIUS OF ROTATION AT MAX SPEED IN m\n",
"r2=.15//                                 RADIUS OF ROTATION AT MIN SPEED IN m\n",
"//============================================================================================\n",
"h1=(OA^2-r1^2)^.5//                     HIEGHT OF GOVERNOR AT MIN SPEED IN m\n",
"TANalpha=r1/h1\n",
"TANbeeta=AE/(OA^2-AE^2)^.5\n",
"k=TANbeeta/TANalpha\n",
"N1=(895*(m+(M*(1+k)/2))/(h1*m))^.5//    MIN SPEED IN rpm\n",
"h2=(OA^2-r2^2)^.5//                    HIEGHT OF GOVERNOR AT MAX SPEED IN m\n",
"CE=(OA^2-AE1^2)^.5\n",
"TANalpha1=r2/h2\n",
"TANbeeta1=(r2-CD)/CE\n",
"k=TANbeeta1/TANalpha1\n",
"N2=(895*(m+(M*(1+k)/2))/(h2*m))^.5//    MIN SPEED IN rpm\n",
"//========================================================================================================\n",
"printf('MAX SPEED = %.3f rpm\n MIN SPEED = %.3f rpm\n RANGE OF SPEED = %.3f rpm',N1,N2,N1-N2)"
   ]
   }
,
{
		   "cell_type": "markdown",
		   "metadata": {},
		   "source": [
			"## Example 7.4: GOVERNOR_POWER.sce"
		   ]
		  },
  {
"cell_type": "code",
	   "execution_count": null,
	   "metadata": {
	    "collapsed": true
	   },
	   "outputs": [],
"source": [
"//CHAPTER 7 ILLUSRTATION 4 PAGE NO 199\n",
"//TITLE:GOVERNORS\n",
"//FIGURE 7.7\n",
"clc\n",
"clear\n",
"//===========================================================================================\n",
"//INPUT DATA\n",
"g=9.81//                   ACCELERATION DUE TO GRAVITY \n",
"OA=.20//                  LENGHT OF UPPER ARM IN m\n",
"AC=.20//                  LENGTH OF LOWER ARM IN m\n",
"CD=.025//                 DISTANCE BETWEEN AXIS AND LOWER ARM IN m\n",
"AB=.1//                   RADIUS OF ROTATION OF BALLS IN m\n",
"N2=250//                  SPEED OF THE GOVERNOR IN rpm\n",
"X=.05//                   SLEEVE LIFT IN m\n",
"m=5//                     MASS OF BALL IN Kg\n",
"M=20//                    MASS OF SLEEVE IN Kg\n",
"//===========================================================\n",
"h2=(OA^2-AB^2)^.5//               OB DISTANCE IN m IN FIGURE\n",
"h21=(AC^2-(AB-CD)^2)^.5//         BD DISTANCE IN m IN FIGURE\n",
"TANbeeta=(AB-CD)/h21//            TAN OF ANGLE OF INCLINATION OF THE LINK TO THE VERTICAL\n",
"TANalpha=AB/h2//                  TAN OF ANGLE OF INCLINATION OF THE ARM TO THE VERTICAL\n",
"k=TANbeeta/TANalpha\n",
"c=X/(2*(h2*(1+k)-X))//            PERCENTAGE INCREASE IN SPEED \n",
"n=c*N2//                          INCREASE IN SPEED IN rpm\n",
"N1=N2+n//                          SPEED AFTER LIFT OF SLEEVE\n",
"E=c*g*((2*m/(1+k))+M)//            GOVERNOR EFFORT IN N\n",
"P=E*X//                            GOVERNOR POWER IN N-m\n",
"\n",
"printf('SPEED OF THE GOVERNOR WHEN SLEEVE IS LIFT BY 5 cm = %.3f rpm\n GOVERNOR EFFORT = %.3f N\n GOVERNOR POWER = %.3f N-m',N1,E,P)"
   ]
   }
,
{
		   "cell_type": "markdown",
		   "metadata": {},
		   "source": [
			"## Example 7.5: RANGE_OF_SPEED_OF_GOVERNOR.sce"
		   ]
		  },
  {
"cell_type": "code",
	   "execution_count": null,
	   "metadata": {
	    "collapsed": true
	   },
	   "outputs": [],
"source": [
"//CHAPTER 7 ILLUSRTATION 5 PAGE NO 200\n",
"//TITLE:GOVERNORS\n",
"//FIGURE 7.8\n",
"clc\n",
"clear\n",
"//===========================================================================================\n",
"//INPUT DATA\n",
"g=9.81//                   ACCELERATION DUE TO GRAVITY \n",
"OA=.30//                  LENGHT OF UPPER ARM IN m\n",
"AC=.30//                  LENGTH OF LOWER ARM IN m\n",
"m=10//                     MASS OF BALL IN Kg\n",
"M=50//                    MASS OF SLEEVE IN Kg\n",
"r=.2//                    RADIUS OF ROTATION IN m\n",
"CD=.04//                  DISTANCE BETWEEN AXIS AND LOWER ARM IN m\n",
"F=15//                    FRICTIONAL LOAD ACTING IN N\n",
"//============================================================\n",
"h=(OA^2-r^2)^.5//           HIEGTH OF THE GOVERNOR IN m\n",
"AE=r-CD//                   AE VALUE IN m\n",
"CE=(AC^2-AE^2)^.5//         BD DISTANCE IN m\n",
"TANalpha=r/h//              TAN OF ANGLE OF INCLINATION OF THE ARM TO THE VERTICAL\n",
"TANbeeta=AE/CE//            TAN OF ANGLE OF INCLINATION OF THE LINK TO THE VERTICAL\n",
"k=TANbeeta/TANalpha\n",
"N=((895/h)*(m+(M*(1+k)/2))/m)^.5//      EQULIBRIUM SPEED IN rpm\n",
"N1=((895/h)*((m*g)+(M*g+F)/2)*(1+k)/(m*g))^.5//        MAX SPEED IN rpm\n",
"N2=((895/h)*((m*g)+(M*g-F)/2)*(1+k)/(m*g))^.5//        MIN SPEED IN rpm\n",
"R=N1-N2//                                   RANGE OF SPEED\n",
"printf('EQUILIBRIUM SPEED OF GOVERNOR = %.3f rpm\n RANGE OF SPEED OF GOVERNOR= %.3f rpm',N,R)"
   ]
   }
,
{
		   "cell_type": "markdown",
		   "metadata": {},
		   "source": [
			"## Example 7.6: RANGE_OF_SPEED_OF_GOVERNOR.sce"
		   ]
		  },
  {
"cell_type": "code",
	   "execution_count": null,
	   "metadata": {
	    "collapsed": true
	   },
	   "outputs": [],
"source": [
"//CHAPTER 7 ILLUSRTATION 6 PAGE NO 202\n",
"//TITLE:GOVERNORS\n",
"//FIGURE 7.9\n",
"clc\n",
"clear\n",
"//===========================================================================================\n",
"//INPUT DATA\n",
"g=9.81//                   ACCELERATION DUE TO GRAVITY \n",
"OA=.30//                  LENGHT OF UPPER ARM IN m\n",
"AC=.30//                  LENGTH OF LOWER ARM IN m\n",
"m=5//                     MASS OF BALL IN Kg\n",
"M=25//                    MASS OF SLEEVE IN Kg\n",
"X=.05//                   LIFT OF THE SLEEVE\n",
"alpha=30//                ANGLE OF INCLINATION OF THE ARM TO THE VERTICAL\n",
"//==============================================\n",
"h2=OA*cosd(alpha)//        HEIGHT OF THE GOVERNOR AT LOWEST POSITION OF SLEEVE\n",
"h1=h2-X/2//                HEIGHT OF THE GOVERNOR AT HEIGHT POSITION OF SLEEVE\n",
"F=((h2/h1)*(m*g+M*g)-(m*g+M*g))/(1+h2/h1)//      FRICTION AT SLEEVE IN N\n",
"N1=((m*g+M*g+F)*895/(h1*m*g))^.5//          MAX SPEEED OF THE GOVVERNOR IN rpm\n",
"N2=((m*g+M*g-F)*895/(h2*m*g))^.5//          MIN SPEEED OF THE GOVVERNOR IN rpm\n",
"R=N1-N2//                                   RANGE OF SPEED IN rpm\n",
"\n",
"printf('THE VALUE OF FRICTIONAL FORCE= %.3f F\n RANGE OF SPEED OF THE GOVERNOR = %.0f rpm',F,R)"
   ]
   }
,
{
		   "cell_type": "markdown",
		   "metadata": {},
		   "source": [
			"## Example 7.7: EQUILIBRIUM_SPEED_CORRESPONDING_TO_LIFT.sce"
		   ]
		  },
  {
"cell_type": "code",
	   "execution_count": null,
	   "metadata": {
	    "collapsed": true
	   },
	   "outputs": [],
"source": [
"//CHAPTER 7 ILLUSRTATION 7 PAGE NO 203\n",
"//TITLE:GOVERNORS\n",
"clc\n",
"clear\n",
"//===========================================================================================\n",
"//INPUT DATA\n",
"PI=3.147\n",
"m=3//                 MASS OF EACH BALL IN Kg\n",
"a=.12//               LENGTH OF VERTICAL ARM OF BELL CRANK LEVER IN m\n",
"b=.08//               LENGTH OF HORIZONTAL ARM OF BELL CRANK LEVER IN m\n",
"r2=.12//              RADIUS OF ROTATION OF THE BALL FOR LOWEST POSITION IN m\n",
"N2=320//               SPEED OF GOVERNOR AT THE BEGINING IN rpm\n",
"S=20000//                 STIFFNESS OF THE SPRING IN N/m\n",
"h=.015//                  SLEEVE LIFT IN m\n",
"//==================================================\n",
"Fc2=m*(2*PI*N2/60)^2*r2//               CENTRIFUGAL FORCE ACTING AT MIN SPEED OF ROTATION IN N\n",
"L=2*a*Fc2/b//                           INITIAL LOAD ON SPRING IN N\n",
"r1=a/b*h+r2//                           MAX RADIUS OF ROTATION IN m\n",
"Fc1=(S*(r1-r2)*(b/a)^2/2)+Fc2//         CENTRIFUGAL FORCE ACTING AT MAX SPEED OF ROTATION IN N\n",
"N1=(Fc1/(m*r1)*(60/2/PI)^2)^.5\n",
"printf('INITIAL LOAD ON SPRING =%.3f N\n EQUILIBRIUM SPEED CORRESPONDING TO LIFT OF 15 cm =%.0f rpm',L,N1)"
   ]
   }
,
{
		   "cell_type": "markdown",
		   "metadata": {},
		   "source": [
			"## Example 7.8: STIFFNESS_OF_THE_SPRING.sce"
		   ]
		  },
  {
"cell_type": "code",
	   "execution_count": null,
	   "metadata": {
	    "collapsed": true
	   },
	   "outputs": [],
"source": [
"//CHAPTER 7 ILLUSRTATION 8 PAGE NO 204\n",
"//TITLE:GOVERNORS\n",
"clc\n",
"clear\n",
"//===========================================================================================\n",
"//INPUT DATA\n",
"PI=3.147\n",
"m=3//                           MASS OF BALL IN Kg\n",
"r2=.2//                         INITIAL RADIUS OF ROTATION IN m\n",
"a=.11//               LENGTH OF VERTICAL ARM OF BELL CRANK LEVER IN m\n",
"b=.15//               LENGTH OF HORIZONTAL ARM OF BELL CRANK LEVER IN m\n",
"h=.004//                  SLEEVE LIFT IN m\n",
"N2=240//                INITIAL SPEED IN rpm\n",
"n=7.5//                    FLUCTUATION OF SPEED IN %\n",
"//===================================\n",
"w2=2*PI*N2/60//                  INITIAL ANGULAR SPEED IN rad/s\n",
"w1=(100+n)*w2/100//              FINAL ANGULAR SPEED IN rad/s\n",
"F=2*a/b*m*w2^2*r2//              INITIAL COMPRESSIVE FORCE IN N\n",
"r1=r2+a/b*h//                    MAX RDIUS OF ROTATION IN m\n",
"S=2*((m*w1^2*r1)-(m*w2^2*r2))/(r1-r2)*(a/b)^2\n",
"printf('INITIAL COMPRESSIVE FPRCE = %.3f N\n STIFFNESS OF THE SPRING = %.3f N/m',F,S/1000)"
   ]
   }
,
{
		   "cell_type": "markdown",
		   "metadata": {},
		   "source": [
			"## Example 7.9: ALTERATION_IN_SPEED.sce"
		   ]
		  },
  {
"cell_type": "code",
	   "execution_count": null,
	   "metadata": {
	    "collapsed": true
	   },
	   "outputs": [],
"source": [
"//CHAPTER 7 ILLUSRTATION 9 PAGE NO 204\n",
"//TITLE:GOVERNORS\n",
"//FIGURE 7.3(C)\n",
"clc\n",
"clear\n",
"//===========================================================================================\n",
"//INPUT DATA\n",
"g=9.81//                   ACCELERATION DUE TO GRAVITY \n",
"PI=3.147\n",
"r=.14//                          DISTANCE BETWEEN THE CENTRE OF PIVOT OF BELL CRANK LEVER AND AXIS OF GOVERNOR SPINDLE IN m\n",
"r2=.11//                         INITIAL RADIUS OF ROTATION IN m\n",
"a=.12//                          LENGTH OF VERTICAL ARM OF BELL CRANK LEVER IN m\n",
"b=.10//                          LENGTH OF HORIZONTAL ARM OF BELL CRANK LEVER IN m\n",
"h=.05//                         SLEEVE LIFT IN m\n",
"N2=240//                         INITIAL SPEED IN rpm\n",
"F=30//                           FRICTIONAL FORCE ACTING IN N\n",
"m=5//                            MASS OF EACH BALL IN Kg\n",
"//==========================================\n",
"r1=r2+a/b*h//                    MAX RADIUS OF ROTATION IN m\n",
"N1=41*N2/39//                 MAX SPEED OF ROTATION IN rpm\n",
"N=(N1+N2)/2//                 MEAN SPEED IN rpm\n",
"Fc1=m*(2*PI*N1/60)^2*r1//     CENTRIFUGAL FORCE ACTING AT MAX SPEED OF ROTATION IN N\n",
"Fc2=m*(2*PI*N2/60)^2*r2//     CENTRIFUGAL FORCE ACTING AT MIN SPEED OF ROTATION IN N\n",
"c1=r1-r//                     FROM FIGURE 7.3(C) IN m\n",
"a1=(a^2-c1^2)^.5//            FROM FIGURE 7.3(C) IN m\n",
"b1=(b^2-(h/2)^2)^.5//             FROM FIGURE 7.3(C) IN m\n",
"c2=r-r2//                     FROM FIGURE 7.3(C) IN m\n",
"a2=a1//                       FROM FIGURE 7.3(C) IN m\n",
"b2=b1//                       FROM FIGURE 7.3(C) IN m\n",
"S1=2*((Fc1*a1)-(m*g*c1))/b1//          SPRING FORCE EXERTED ON THE SLEEVE AT MAXIMUM SPEED IN NEWTONS\n",
"S2=2*((Fc2*a2)-(m*g*c2))/b2//          SPRING FORCE EXERTED ON THE SLEEVE AT MAXIMUM SPEED IN NEWTONS\n",
"S=(S1-S2)/h//                   STIFFNESS OF THE SPRING IN N/m\n",
"Is=S2/S//                       INITIAL COMPRESSION OF SPRING IN m\n",
"P=S2+(h/2*S)//                  SPRING FORCE OF MID PORTION IN N\n",
"n1=N*((P+F)/P)^.5//             SPEED,WHEN THE SLEEVE BEGINS TO MOVE UPWARDS FROM MID POSITION IN rpm\n",
"n2=N*((P-F)/P)^.5//             SPEED,WHEN THE SLEEVE BEGINS TO MOVE DOWNWARDS FROM MID POSITION IN rpm\n",
"A=n1-n2//                        ALTERATION IN SPEED IN rpm\n",
"printf('INTIAL COMPRESSION OF SPRING= %.3f cm\n ALTERATION IN SPEED = %.3f rpm',Is*100,A)"
   ]
   }
],
"metadata": {
		  "kernelspec": {
		   "display_name": "Scilab",
		   "language": "scilab",
		   "name": "scilab"
		  },
		  "language_info": {
		   "file_extension": ".sce",
		   "help_links": [
			{
			 "text": "MetaKernel Magics",
			 "url": "https://github.com/calysto/metakernel/blob/master/metakernel/magics/README.md"
			}
		   ],
		   "mimetype": "text/x-octave",
		   "name": "scilab",
		   "version": "0.7.1"
		  }
		 },
		 "nbformat": 4,
		 "nbformat_minor": 0
}
