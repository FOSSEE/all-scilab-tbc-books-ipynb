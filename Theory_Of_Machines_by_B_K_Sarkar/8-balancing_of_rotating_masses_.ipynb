{
"cells": [
 {
		   "cell_type": "markdown",
	   "metadata": {},
	   "source": [
       "# Chapter 8: balancing of rotating masses "
	   ]
	},
{
		   "cell_type": "markdown",
		   "metadata": {},
		   "source": [
			"## Example 8.1: magnitude_of_balancing_mass.sce"
		   ]
		  },
  {
"cell_type": "code",
	   "execution_count": null,
	   "metadata": {
	    "collapsed": true
	   },
	   "outputs": [],
"source": [
"//CHAPTER 8 ILLUSRTATION 1 PAGE NO 221\n",
"//TITLE:BALANCING OF ROTATING MASSES\n",
"pi=3.141\n",
"clc\n",
"clear\n",
"mA=12//       mass of A in kg\n",
"mB=10//       mass of B in kg\n",
"mC=18//       mass of C in kg\n",
"mD=15//       mass of D in kg\n",
"rA=40//       radius of A in mm\n",
"rB=50//       radius of B in mm\n",
"rC=60//       radius of C in mm\n",
"rD=30//       radius of D in mm\n",
"theta1=0//    angle between A-A in degrees\n",
"theta2=60//   angle between A-B in degrees\n",
"theta3=130//  angle between A-C in degrees\n",
"theta4=270//  angle between A-D in degrees\n",
"R=100//  radius at which mass to be determined in mm\n",
"//====================================================\n",
"Fh=(mA*rA*cosd(theta1)+mB*rB*cosd(theta2)+mC*rC*cosd(theta3)+mD*rD*cosd(theta4))/10//    vertical component value in kg cm\n",
"Fv=(mA*rA*sind(theta1)+mB*rB*sind(theta2)+mC*rC*sind(theta3)+mD*rD*sind(theta4))/10//   horizontal component value in kg cm\n",
"mb=(Fh^2+Fv^2)^.5/R*10//     unbalanced mass in kg\n",
"theta=atand(Fv/Fh)//   position in degrees \n",
"THETA=180+theta//       angle with mA\n",
"printf('magnitude of unbalaced mass=%.3f kg\n angle with mA= %.3f degrees',mb,THETA)"
   ]
   }
,
{
		   "cell_type": "markdown",
		   "metadata": {},
		   "source": [
			"## Example 8.2: masses_of_D_and_E.sce"
		   ]
		  },
  {
"cell_type": "code",
	   "execution_count": null,
	   "metadata": {
	    "collapsed": true
	   },
	   "outputs": [],
"source": [
"//CHAPTER 8 ILLUSRTATION 2 PAGE NO 222\n",
"//TITLE:BALANCING OF ROTATING MASSES\n",
"pi=3.141\n",
"clc\n",
"clear\n",
"mA=5//   mass of A in kg\n",
"mB=10//   mass of B in kg\n",
"mC=8//     mass of C in kg\n",
"rA=10//   radius of A in cm\n",
"rB=15//   radius of B in cm\n",
"rC=10//    radius of C in cm\n",
"rD=10//   radius of D in cm\n",
"rE=15//   radius of E in cm\n",
"//============================\n",
"mD=182/rD//    mass of D in kg by mearument\n",
"mE=80/rE//     mass of E in kg  by mearument\n",
"printf('mass of D= %.3f kg\nmass of E= %.3f kg',mD,mE)"
   ]
   }
,
{
		   "cell_type": "markdown",
		   "metadata": {},
		   "source": [
			"## Example 8.3: balancing_mass_and_angular_position.sce"
		   ]
		  },
  {
"cell_type": "code",
	   "execution_count": null,
	   "metadata": {
	    "collapsed": true
	   },
	   "outputs": [],
"source": [
"//CHAPTER 8 ILLUSRTATION 3 PAGE NO 223\n",
"//TITLE:BALANCING OF ROTATING MASSES\n",
"pi=3.141\n",
"clc\n",
"clear\n",
"mA=200//       mass of A in kg\n",
"mB=300//       mass of B in kg\n",
"mC=400//       mass of C in kg\n",
"mD=200//       mass of D in kg\n",
"rA=80//       radius of A in mm\n",
"rB=70//       radius of B in mm\n",
"rC=60//       radius of C in mm\n",
"rD=80//       radius of D in mm\n",
"rX=100//      radius of X in mm\n",
"rY=100//     radius of Y in mm\n",
"//=====================\n",
"mY=7.3/.04//    mass of Y in kg by mearurement\n",
"mX=35/.1//      mass of X in kg by mearurement\n",
"thetaX=146//   in degrees by mesurement\n",
"printf('mass of X=%.3f kg\n mass of Y=%.3f kg\n angle with mA=%.0f degrees',mX,mY,thetaX)"
   ]
   }
,
{
		   "cell_type": "markdown",
		   "metadata": {},
		   "source": [
			"## Example 8.4: balancing_mass_and_angular_position.sce"
		   ]
		  },
  {
"cell_type": "code",
	   "execution_count": null,
	   "metadata": {
	    "collapsed": true
	   },
	   "outputs": [],
"source": [
"//CHAPTER 8 ILLUSRTATION 4 PAGE NO 225\n",
"//TITLE:BALANCING OF ROTATING MASSES\n",
"pi=3.141\n",
"clc\n",
"clear\n",
"mB=30//       mass of B in kg\n",
"mC=50//       mass of C in kg\n",
"mD=40//       mass of D in kg\n",
"rA=18//       radius of A in cm\n",
"rB=24//       radius of B in cm\n",
"rC=12//       radius of C in cm\n",
"rD=15//       radius of D in cm\n",
"//=============================\n",
"mA=3.6/.18//         mass of A by measurement in kg\n",
"theta=124//          angle with mass B in degrees by measurement in degrees\n",
"y=3.6/(.18*20)//     position of A from B\n",
"printf('mass of A=%i kg\n angle with mass B=%i degrees\n position of A from B=%i m towards right of plane B',mA,theta,y)"
   ]
   }
,
{
		   "cell_type": "markdown",
		   "metadata": {},
		   "source": [
			"## Example 8.5: balancing_mass_and_angular_position.sce"
		   ]
		  },
  {
"cell_type": "code",
	   "execution_count": null,
	   "metadata": {
	    "collapsed": true
	   },
	   "outputs": [],
"source": [
"//CHAPTER 8 ILLUSRTATION 5 PAGE NO 226\n",
"//TITLE:BALANCING OF ROTATING MASSES\n",
"pi=3.141\n",
"clc\n",
"clear\n",
"mB=10//       mass of B in kg\n",
"mC=5//       mass of C in kg\n",
"mD=4//       mass of D in kg\n",
"rA=10//       radius of A in cm\n",
"rB=12.5//       radius of B in cm\n",
"rC=20//       radius of C in cm\n",
"rD=15//       radius of D in cm\n",
"//=====================================\n",
"mA=7//      mass of A in kg by mesurement\n",
"BC=118//     angle between B and C in degrees by mesurement\n",
"BA=203.5//   angle between B and A in degrees by mesurement\n",
"BD=260//     angle between B and D in degrees by mesurement\n",
"printf('Mass of A=%i kg\n angle between B and C=%i degrees\nangle between B and A= %.1f degrees\n angle between B and D= %i degrees',mA,BC,BA,BD)"
   ]
   }
,
{
		   "cell_type": "markdown",
		   "metadata": {},
		   "source": [
			"## Example 8.6: mass_of_D.sce"
		   ]
		  },
  {
"cell_type": "code",
	   "execution_count": null,
	   "metadata": {
	    "collapsed": true
	   },
	   "outputs": [],
"source": [
"//CHAPTER 8 ILLUSRTATION 6 PAGE NO 228\n",
"//TITLE:BALANCING OF ROTATING MASSES\n",
"pi=3.141\n",
"clc\n",
"clear\n",
"mB=36//       mass of B in kg\n",
"mC=25//       mass of C in kg\n",
"rA=20//       radius of A in cm\n",
"rB=15//       radius of B in cm\n",
"rC=15//       radius of C in cm\n",
"rD=20//       radius of D in cm\n",
"//==================================\n",
"mA=3.9/.2//       mass of A in kg by measurement\n",
"mD=16.5//        mass of D in kg by measurement\n",
"theta=252//      angular position of D from B by measurement in degrees\n",
"printf('Mass of A= %.1f kg\n Mass od D= %.1f kg\n  Angular position of D from B= %i degrees',mA,mD,theta)"
   ]
   }
,
{
		   "cell_type": "markdown",
		   "metadata": {},
		   "source": [
			"## Example 8.7: load_on_each_bearing.sce"
		   ]
		  },
  {
"cell_type": "code",
	   "execution_count": null,
	   "metadata": {
	    "collapsed": true
	   },
	   "outputs": [],
"source": [
"//CHAPTER 8 ILLUSRTATION 7 PAGE NO 229\n",
"//TITLE:BALANCING OF ROTATING MASSES\n",
"\n",
"clc\n",
"clear\n",
"pi=3.141\n",
"mA=48//     mass of A in kg\n",
"mB=56//       mass of B in kg\n",
"mC=20//       mass of C in kg\n",
"rA=1.5//       radius of A in cm\n",
"rB=1.5//       radius of B in cm\n",
"rC=1.25//       radius of C in cm\n",
"N=300//   speed in rpm\n",
"d=1.8//   distance between bearing in cm\n",
"//================================\n",
"w=2*pi*N/60//        angular speed in rad/s\n",
"BA=164//    angle between pulleys B&A in degrees by measurement\n",
"BC=129//    angle between pulleys B&C in degrees by measurement\n",
"AC=67//     angle between pulleys A&C in degrees by measurement\n",
"C=.88*w^2//    out of balance couple in N\n",
"L=C/d//    load on each bearing in N\n",
"printf('angle between pulleys B&A=%i degrees\n angle between pulleys B&C= %i degrees\n angle between pulleys A&C= %i degrees\n out of balance couple= %.3f N\n load on each bearing= %.3f N',BA,BC,AC,C,L)"
   ]
   }
],
"metadata": {
		  "kernelspec": {
		   "display_name": "Scilab",
		   "language": "scilab",
		   "name": "scilab"
		  },
		  "language_info": {
		   "file_extension": ".sce",
		   "help_links": [
			{
			 "text": "MetaKernel Magics",
			 "url": "https://github.com/calysto/metakernel/blob/master/metakernel/magics/README.md"
			}
		   ],
		   "mimetype": "text/x-octave",
		   "name": "scilab",
		   "version": "0.7.1"
		  }
		 },
		 "nbformat": 4,
		 "nbformat_minor": 0
}
