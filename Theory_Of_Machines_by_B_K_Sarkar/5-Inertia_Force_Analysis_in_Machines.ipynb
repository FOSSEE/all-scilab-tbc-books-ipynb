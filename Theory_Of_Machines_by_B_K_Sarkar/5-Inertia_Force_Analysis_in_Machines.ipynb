{
"cells": [
 {
		   "cell_type": "markdown",
	   "metadata": {},
	   "source": [
       "# Chapter 5: Inertia Force Analysis in Machines"
	   ]
	},
{
		   "cell_type": "markdown",
		   "metadata": {},
		   "source": [
			"## Example 5.1: Maximum_velocity_of_the_pisto.sce"
		   ]
		  },
  {
"cell_type": "code",
	   "execution_count": null,
	   "metadata": {
	    "collapsed": true
	   },
	   "outputs": [],
"source": [
"//CHAPTER 5 ILLUSRTATION 1 PAGE NO 160\n",
"//TITLE:Inertia Force Analysis in Machines\n",
"clc\n",
"clear\n",
"pi=3.141\n",
"r=.3//          radius of crank in m\n",
"l=1//           length of connecting rod in m\n",
"N=200//         speed of the engine in rpm\n",
"n=l/r\n",
"//===================\n",
"w=2*pi*N/60//             angular speed in rad/s\n",
"teeta=acosd((-n+((n^2)+4*2*1)^.5)/(2*2))//         angle of inclination of crank in degrees\n",
"Vp=w*r*(sind(teeta)+(sind(2*teeta))/n)//           maximum velocity of the piston in m/s\n",
"printf('Maximum velocity of the piston = %.3f m/s',Vp)"
   ]
   }
,
{
		   "cell_type": "markdown",
		   "metadata": {},
		   "source": [
			"## Example 5.2: EX5_2.sce"
		   ]
		  },
  {
"cell_type": "code",
	   "execution_count": null,
	   "metadata": {
	    "collapsed": true
	   },
	   "outputs": [],
"source": [
"//CHAPTER 5 ILLUSRTATION 2 PAGE NO 161\n",
"//TITLE:Inertia Force Analysis in Machines\n",
"clc\n",
"clear\n",
"PI=3.141\n",
"r=.3//                 length of crank in metres\n",
"l=1.5//                length of connecting rod in metres\n",
"N=180//                speed of rotation in rpm\n",
"teeta=40//             angle of inclination of crank in degrees\n",
"//============================\n",
"n=l/r\n",
"w=2*PI*N/60//        angular speed in rad/s\n",
"Vp=w*r*(sind(teeta)+sind(2*teeta)/(2*n))//               velocity of piston in m/s\n",
"fp=w^2*r*(cosd(teeta)+cosd(2*teeta)/(2*n))//            acceleration of piston in m/s^2\n",
"costeeta1=(-n+(n^2+4*2*1)^.5)/(2*2)\n",
"teeta1=acosd(costeeta1)//                      position of crank from inner dead centre position for zero acceleration of piston\n",
"//===========================\n",
"printf('Velocity of Piston = %.3f m/s\n Acceleration of piston = %.3f m/s^2\n position of crank from inner dead centre position for zero acceleration of piston= %.3f degrees',Vp,fp,teeta1)"
   ]
   }
,
{
		   "cell_type": "markdown",
		   "metadata": {},
		   "source": [
			"## Example 5.3: Turning_moment_on_the_crank_shaft.sce"
		   ]
		  },
  {
"cell_type": "code",
	   "execution_count": null,
	   "metadata": {
	    "collapsed": true
	   },
	   "outputs": [],
"source": [
"//CHAPTER 5 ILLUSRTATION 3 PAGE NO 161\n",
"//TITLE:Inertia Force Analysis in Machines\n",
"clc\n",
"clear\n",
"pi=3.141\n",
"D=.3//          Diameter of steam engine in m\n",
"L=.5//          length of stroke in m\n",
"r=L/2\n",
"mR=100//        equivalent of mass of reciprocating parts in kg\n",
"N=200//         speed of engine in rpm\n",
"teeta=45//       angle of inclination of crank in degrees\n",
"p1=1*10^6//        gas pressure in N/m^2\n",
"p2=35*10^3//       back pressure in N/m^2\n",
"n=4//              ratio of crank radius to the length of stroke\n",
"//=================================\n",
"w=2*pi*N/60//           angular speed in rad/s\n",
"Fl=pi/4*D^2*(p1-p2)//     Net load on piston in N\n",
"Fi=mR*w^2*r*(cosd(teeta)+cosd(2*teeta)/(2*n))//   inertia force due to reciprocating parts\n",
"Fp=Fl-Fi//              Piston effort\n",
"T=Fp*r*(sind(teeta)+(sind(2*teeta))/(2*(n^2-(sind(teeta))^2)^.5))\n",
"printf('Piston effort = %.3f N\n Turning moment on the crank shaft = %.3f N-m',Fp,T)"
   ]
   }
,
{
		   "cell_type": "markdown",
		   "metadata": {},
		   "source": [
			"## Example 5.4: net_force_on_piston.sce"
		   ]
		  },
  {
"cell_type": "code",
	   "execution_count": null,
	   "metadata": {
	    "collapsed": true
	   },
	   "outputs": [],
"source": [
"//CHAPTER 5 ILLUSRTATION 4 PAGE NO 162\n",
"//TITLE:Inertia Force Analysis in Machines\n",
"clc\n",
"clear\n",
"pi=3.141\n",
"D=.10//            Diameter of petrol engine in m\n",
"L=.12//            Stroke length in m\n",
"l=.25//            length of connecting in m\n",
"r=L/2\n",
"mR=1.2//          mass of piston in kg\n",
"N=1800//           speed in rpm\n",
"teeta=25//             angle of inclination of crank in degrees\n",
"p=680*10^3//       gas pressure in N/m^2\n",
"n=l/r\n",
"g=9.81//           acceleration due to gravity\n",
"//=======================================\n",
"w=2*pi*N/60//                    angular speed in rpm\n",
"Fl=pi/4*D^2*p//          force due to gas pressure in N\n",
"Fi=mR*w^2*r*(cosd(teeta)+cosd(2*teeta)/(n))//   inertia force due to reciprocating parts in N\n",
"Fp=Fl-Fi+mR*g//            net force on piston in N\n",
"Fq=n*Fp/((n^2-(sind(teeta))^2)^.5)//      resultant load on gudgeon pin in N\n",
"Fn=Fp*sind(teeta)/((n^2-(sind(teeta))^2)^.5)//   thrust on cylinder walls in N\n",
"fi=Fl+mR*g//         inertia force of the reciprocating parts before the gudgeon pin load is reversed in N\n",
"w1=(fi/mR/r/(cosd(teeta)+cosd(2*teeta)/(n)))^.5\n",
"N1=60*w1/(2*pi)\n",
"printf('Net force on piston = %.3f N\n Resultant load on gudgeon pin = %.3f N\n Thrust on cylinder walls = %.3f N\n speed at which other things remining same,the gudgeon pin load would be reversed in directionm= %.3f rpm',Fp,Fq,Fn,N1)"
   ]
   }
,
{
		   "cell_type": "markdown",
		   "metadata": {},
		   "source": [
			"## Example 5.5: Net_load_on_the_gudgeon_pin.sce"
		   ]
		  },
  {
"cell_type": "code",
	   "execution_count": null,
	   "metadata": {
	    "collapsed": true
	   },
	   "outputs": [],
"source": [
"//CHAPTER 5 ILLUSRTATION 5 PAGE NO 163\n",
"//TITLE:Inertia Force Analysis in Machines\n",
"//Figure 5.3\n",
"clc\n",
"clear\n",
"pi=3.141\n",
"N=1800//         speed of the petrol engine in rpm\n",
"r=.06//          radius of crank in m\n",
"l=.240//         length of connecting rod in m\n",
"D=.1//           diameter of the piston in m\n",
"mR=1//          mass of piston in kg\n",
"p=.8*10^6//       gas pressure in N/m^2\n",
"x=.012//          distance moved by piston in m\n",
"//===============================================\n",
"w=2*pi*N/60//              angular velocity of the engine in rad/s\n",
"n=l/r\n",
"Fl=pi/4*D^2*p//          load on the piston in N\n",
"teeta=32//               by mearument from the figure 5.3\n",
"Fi=mR*w^2*r*(cosd(teeta)+cosd(2*teeta)/(n))//   inertia force due to reciprocating parts in N\n",
"Fp=Fl-Fi//            net load on the gudgeon pin in N\n",
"Fq=n*Fp/((n^2-(sind(teeta))^2)^.5)//      thrust in the connecting rod in N\n",
"Fn=Fp*sind(teeta)/((n^2-(sind(teeta))^2)^.5)//   reaction between the piston and cylinder in N\n",
"w1=(Fl/mR/r/(cosd(teeta)+cosd(2*teeta)/(n)))^.5\n",
"N1=60*w1/(2*pi)//                            \n",
"printf('Net load on the gudgeon pin= %.3f N\n Thrust in the connecting rod= %.3f N\n Reaction between the cylinder and piston= %.3f N\n The engine speed at which the above values become zero= %.3f rpm',Fp,Fq,Fn,N1)"
   ]
   }
,
{
		   "cell_type": "markdown",
		   "metadata": {},
		   "source": [
			"## Example 5.6: Torque_exerted_on_the_crank_shaft.sce"
		   ]
		  },
  {
"cell_type": "code",
	   "execution_count": null,
	   "metadata": {
	    "collapsed": true
	   },
	   "outputs": [],
"source": [
"//CHAPTER 5 ILLUSRTATION 6 PAGE NO 165\n",
"//TITLE:Inertia Force Analysis in Machines\n",
"clc\n",
"clear\n",
"pi=3.141\n",
"D=.25//             diameter of horizontal steam engine in m\n",
"N=180//             speed of the engine in rpm\n",
"d=.05//             diameter of piston in m\n",
"P=36000//            power of the engine in watts\n",
"n=3//                ration of length of connecting rod to the crank radius\n",
"p1=5.8*10^5//         pressure on cover end side in N/m^2\n",
"p2=0.5*10^5//          pressure on crank end side in N/m^2\n",
"teeta=40//            angle of inclination of crank in degrees\n",
"m=45//                mass of flywheel in kg\n",
"k=.65//               radius of gyration in m\n",
"//==============================\n",
"Fl=(pi/4*D^2*p1)-(pi/4*(D^2-d^2)*p2)//          load on the piston in N\n",
"phi=asind(sind(teeta)/n)//                      angle of inclination of the connecting rod to the line of stroke in degrees\n",
"r=1.6*D/2\n",
"T=Fl*sind(teeta+phi)/cosd(phi)*r//              torque exerted on crank shaft in N-m\n",
"Fb=Fl*cosd(teeta+phi)/cosd(phi)//              thrust on the crank shaft bearing in N\n",
"TR=P*60/(2*pi*N)//                              steady resisting torque in N-m\n",
"Ts=T-TR//                                       surplus torque available in N-m\n",
"a=Ts/(m*k^2)//                                   acceleration of the flywheel in rad/s^2\n",
"printf('Torque exerted on the crank shaft= %.3f N-m\n Thrust on the crank shaft bearing= %.3f N\n Acceleration of the flywheel= %.3f rad/s^2',T,Fb,a)"
   ]
   }
,
{
		   "cell_type": "markdown",
		   "metadata": {},
		   "source": [
			"## Example 5.7: Effective_turning_moment_on_the_crank_shaft.sce"
		   ]
		  },
  {
"cell_type": "code",
	   "execution_count": null,
	   "metadata": {
	    "collapsed": true
	   },
	   "outputs": [],
"source": [
"//CHAPTER 5 ILLUSRTATION 7 PAGE NO 166\n",
"//TITLE:Inertia Force Analysis in Machines\n",
"clc\n",
"clear\n",
"pi=3.141\n",
"D=.25//              diameter of vertical cylinder of steam engine in m\n",
"L=.45//              stroke length in m\n",
"r=L/2\n",
"n=4\n",
"N=360//               speed of the engine in rpm\n",
"teeta=45//            angle of inclination of crank in degrees\n",
"p=1050000//              net pressure in N/m^2\n",
"mR=180//               mass of reciprocating parts in kg\n",
"g=9.81//               acceleration due to gravity\n",
"//========================\n",
"Fl=p*pi*D^2/4//               force on piston due to steam pressure in N\n",
"w=2*pi*N/60//                 angular speed in rad/s\n",
"Fi=mR*w^2*r*(cosd(teeta)+cosd(2*teeta)/(n))//   inertia force due to reciprocating parts in N\n",
"Fp=Fl-Fi+mR*g//              piston effort in N\n",
"phi=asind(sind(teeta)/n)//     angle of inclination of the connecting rod to the line of stroke in degrees\n",
"T=Fp*sind(teeta+phi)/cosd(phi)*r//              torque exerted on crank shaft in N-m\n",
"printf('Effective turning moment on the crank shaft= %.3f N-m',T)"
   ]
   }
,
{
		   "cell_type": "markdown",
		   "metadata": {},
		   "source": [
			"## Example 5.8: Effective_turning_moment_on_the_crank_shaft.sce"
		   ]
		  },
  {
"cell_type": "code",
	   "execution_count": null,
	   "metadata": {
	    "collapsed": true
	   },
	   "outputs": [],
"source": [
"//CHAPTER 5 ILLUSRTATION 8 PAGE NO 166\n",
"//TITLE:Inertia Force Analysis in Machines\n",
"//figure 5.4\n",
"clc\n",
"clear\n",
"pi=3.141\n",
"D=.25//              diameter of vertical cylinder of diesel engine in m\n",
"L=.40//              stroke length in m\n",
"r=L/2\n",
"n=4\n",
"N=300//               speed of the engine in rpm\n",
"teeta=60//            angle of inclination of crank in degrees\n",
"mR=200//               mass of reciprocating parts in kg\n",
"g=9.81//               acceleration due to gravity\n",
"l=.8//                 length of connecting rod in m\n",
"c=14//             compression ratio=v1/v2\n",
"p1=.1*10^6//           suction pressure in n/m^2\n",
"i=1.35//               index of the law of expansion and compression \n",
"//==============================================================\n",
"Vs=pi/4*D^2*L//            swept volume in m^3\n",
"w=2*pi*N/60//                 angular speed in rad/s\n",
"Vc=Vs/(c-1)\n",
"V3=Vc+Vs/10//            volume at the end of injection of fuel in m^3\n",
"p2=p1*c^i//              final pressure in N/m^2\n",
"p3=p2//                  from figure\n",
"x=r*((1-cosd(teeta)+(sind(teeta))^2/(2*n)))//          the displacement of the piston when the crank makes an angle 60 degrees with T.D.C\n",
"Va=Vc+pi*D^2*x/4\n",
"pa=p3*(V3/Va)^i\n",
"p=pa-p1//          difference of pressues on 2 sides of piston in N/m^2\n",
"Fl=p*pi*D^2/4//     net load on piston in N\n",
"Fi=mR*w^2*r*(cosd(teeta)+cosd(2*teeta)/(n))//       inertia force due to reciprocating parts in N\n",
"Fp=Fl-Fi+mR*g//              piston effort in N\n",
"phi=asind(sind(teeta)/n)//     angle of inclination of the connecting rod to the line of stroke in degrees\n",
"T=Fp*sind(teeta+phi)/cosd(phi)*r//              torque exerted on crank shaft in N-m\n",
"printf('Effective turning moment on the crank shaft= %.3f N-m',T)"
   ]
   }
],
"metadata": {
		  "kernelspec": {
		   "display_name": "Scilab",
		   "language": "scilab",
		   "name": "scilab"
		  },
		  "language_info": {
		   "file_extension": ".sce",
		   "help_links": [
			{
			 "text": "MetaKernel Magics",
			 "url": "https://github.com/calysto/metakernel/blob/master/metakernel/magics/README.md"
			}
		   ],
		   "mimetype": "text/x-octave",
		   "name": "scilab",
		   "version": "0.7.1"
		  }
		 },
		 "nbformat": 4,
		 "nbformat_minor": 0
}
