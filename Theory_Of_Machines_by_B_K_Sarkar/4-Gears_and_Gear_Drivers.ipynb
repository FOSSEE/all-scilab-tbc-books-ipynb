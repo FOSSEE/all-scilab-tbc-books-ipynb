{
"cells": [
 {
		   "cell_type": "markdown",
	   "metadata": {},
	   "source": [
       "# Chapter 4: Gears and Gear Drivers"
	   ]
	},
{
		   "cell_type": "markdown",
		   "metadata": {},
		   "source": [
			"## Example 4.10: Speed_of_wheels.sce"
		   ]
		  },
  {
"cell_type": "code",
	   "execution_count": null,
	   "metadata": {
	    "collapsed": true
	   },
	   "outputs": [],
"source": [
"//Chapter-4, Illustration 10, Page 141\n",
"//Title: Gears and Gear Drivers\n",
"//=============================================================================\n",
"clc\n",
"clear\n",
"\n",
"//Input data\n",
"Ta=96;//Teeth of wheel A\n",
"Tc=48;//Teeth of wheel C\n",
"y=-20;//Speed of arm C in rpm in clockwise\n",
"\n",
"//Calculations\n",
"x=(y*Ta)/Tc\n",
"Tb=(Ta-Tc)/2;//Teeth of wheel B\n",
"Nb=(-Tc/Tb)*x+y;//Speed of wheel B in rpm\n",
"Nc=x+y;//Speed of wheel C in rpm\n",
"\n",
"//Output\n",
"mprintf('Speed of wheel B is %3.0f rpm \n Speed of wheel C is %3.0f rpm',Nb,Nc)\n",
"\n",
"\n",
"\n",
"\n",
"\n",
"\n",
"\n",
"\n",
"\n",
"//================================END OF PROGRAM============================================="
   ]
   }
,
{
		   "cell_type": "markdown",
		   "metadata": {},
		   "source": [
			"## Example 4.11: speed_of_the_arm.sce"
		   ]
		  },
  {
"cell_type": "code",
	   "execution_count": null,
	   "metadata": {
	    "collapsed": true
	   },
	   "outputs": [],
"source": [
"//Chapter-4, Illustration 11, Page 142\n",
"//Title: Gears and Gear Drivers\n",
"//=============================================================================\n",
"clc\n",
"clear\n",
"//Input data\n",
"Ta=40//       no of teeth on gear A\n",
"Td=90//       no of teeth on gear D\n",
"\n",
"//Calculations\n",
"Tb=(Td-Ta)/2//      no of teeth on gear B\n",
"Tc=Tb//           no of teeth on gear C\n",
"//\n",
"//x+y=-1\n",
"//-40x+90y=45\n",
"A=[1 1\n",
"   -Ta Td]//Coefficient matrix\n",
"B=[-1\n",
"   (Td/2)]//Constant matrix\n",
"X=inv(A)*B//Variable matrix\n",
"//\n",
"//x+y=-1\n",
"//-40x+90y=0\n",
"A1=[1 1\n",
"   -Ta Td]//Coefficient matrix\n",
"B1=[-1\n",
"   0]//Constant matrix\n",
"X1=inv(A1)*B1//Variable matrix\n",
"  \n",
"disp(X(2)) \n",
"printf('speed of the arm = %.3f revolution clockwise',X1(2))"
   ]
   }
,
{
		   "cell_type": "markdown",
		   "metadata": {},
		   "source": [
			"## Example 4.12: Speed_of_wheel.sce"
		   ]
		  },
  {
"cell_type": "code",
	   "execution_count": null,
	   "metadata": {
	    "collapsed": true
	   },
	   "outputs": [],
"source": [
"//Chapter-4, Illustration 12, Page 144\n",
"//Title: Gears and Gear Drivers\n",
"//=============================================================================\n",
"clc\n",
"clear\n",
"\n",
"//Input data\n",
"Te=30;//Teeth of wheel E\n",
"Tb=24;//Teeth of wheel B\n",
"Tc=22;//Teeth of wheel C\n",
"Td=70;//Teeth of wheel D\n",
"Th=15;//Teeth of wheel H\n",
"Nv=100;//Speed of shaft V in rpm\n",
"Nx=300;//Speed of spindle X in rpm\n",
"\n",
"//Calculations\n",
"Nh=Nv;//Speed of wheel H in rpm\n",
"Ne=(-Th/Te)*Nv;//Speed of wheel E in rpm\n",
"Ta=(Tc+Td-Tb);//Teeth of wheel A\n",
"//x+y=-50\n",
"//y=300\n",
"x=(Ne-Nx)\n",
"Nz=(187/210)*x+Nx;//;//Speed of wheel Z in rpm\n",
"\n",
"//Output\n",
"mprintf('Speed of wheel Z is %3.3f rpm \n Direction of wheel Z is opposite to that of X',Nz)"
   ]
   }
,
{
		   "cell_type": "markdown",
		   "metadata": {},
		   "source": [
			"## Example 4.13: Speed_of_driven_shaft.sce"
		   ]
		  },
  {
"cell_type": "code",
	   "execution_count": null,
	   "metadata": {
	    "collapsed": true
	   },
	   "outputs": [],
"source": [
"//Chapter-4, Illustration 13, Page 145\n",
"//Title: Gears and Gear Drivers\n",
"//=============================================================================\n",
"clc\n",
"clear\n",
"\n",
"//Input data\n",
"Tp=20;//Teeth of wheel P\n",
"Tq=30;//Teeth of wheel Q\n",
"Tr=10;//Teeth of wheel R\n",
"Nx=50;//Speed of shaft X in rpm\n",
"Na=100;//Speed of arm A in rpm\n",
"\n",
"//Calculations\n",
"//x+y=-50\n",
"//y=100\n",
"x=(-Nx-Na)\n",
"y=(-2*x+Na);//Speed of Y in rpm\n",
"\n",
"//Output\n",
"mprintf('Speed of driven shaft Y is %3.0f rpm \n Direction of driven shaft Y is anti-clockwise',y)"
   ]
   }
,
{
		   "cell_type": "markdown",
		   "metadata": {},
		   "source": [
			"## Example 4.14: pitch_circle_diameter.sce"
		   ]
		  },
  {
"cell_type": "code",
	   "execution_count": null,
	   "metadata": {
	    "collapsed": true
	   },
	   "outputs": [],
"source": [
"//Chapter-4, Illustration 14, Page 146\n",
"//Title: Gears and Gear Drivers\n",
"//=============================================================================\n",
"clc\n",
"clear\n",
"\n",
"//Input data\n",
"d=216;//Ring diameter in mm\n",
"m=4;//Module in mm\n",
"\n",
"//Calculations\n",
"Td=(d/m);//Teeth of wheel D\n",
"Tb=Td/4;//Teeth of wheel B\n",
"Tb1=ceil(Tb);//Teeth of wheel B\n",
"Td1=4*Tb1;//Teeth of wheel D\n",
"Tc1=(Td1-Tb1)/2;//Teeth of wheel C\n",
"d1=m*Td1;//Pitch circle diameter in mm\n",
"\n",
"//Output\n",
"mprintf('Teeth of wheel B is %3.0f \n Teeth of wheel C is %3.0f \n Teeth of wheel D is %3.0f \n Exact pitch circle diameter is %3.0f mm',Tb1,Tc1,Td1,d1)"
   ]
   }
,
{
		   "cell_type": "markdown",
		   "metadata": {},
		   "source": [
			"## Example 4.15: Revolution_of_gears.sce"
		   ]
		  },
  {
"cell_type": "code",
	   "execution_count": null,
	   "metadata": {
	    "collapsed": true
	   },
	   "outputs": [],
"source": [
"//Chapter-4, Illustration 15, Page 147\n",
"//Title: Gears and Gear Drivers\n",
"//=============================================================================\n",
"clc\n",
"clear\n",
"\n",
"//Input data\n",
"Ta=100//       no of teeth on gear A\n",
"Tc=101//       no of teeth on gear C\n",
"Td=99//        no of teeth on gear D\n",
"Tp=20//        no of teeth on planet gear\n",
"y=1//          from table 4.9(arm B makes one revolution)\n",
"x=-y//         as gear is fixed\n",
"\n",
"//Calculations\n",
"Nc=(Ta*x)/Tc+y//            Revolution of gear C \n",
"Nd=(Ta*x)/Td+y//            Revolution of gear D\n",
"\n",
"//Output\n",
"printf('Revolution of gear C = %f\n Revolution of gear D = %f',Nc,Nd)"
   ]
   }
,
{
		   "cell_type": "markdown",
		   "metadata": {},
		   "source": [
			"## Example 4.16: speed_of_road_wheel.sce"
		   ]
		  },
  {
"cell_type": "code",
	   "execution_count": null,
	   "metadata": {
	    "collapsed": true
	   },
	   "outputs": [],
"source": [
"//Chapter-4, Illustration 16, Page 148\n",
"//Title: Gears and Gear Drivers\n",
"//=============================================================================\n",
"clc\n",
"clear\n",
"\n",
"//Input data\n",
"Ta=12//       no of teeth on gear A\n",
"Tb=60//       no of teeth on gear B\n",
"N=1000//      speed of propeller shaft in rpm\n",
"Nc=210//      speed of gear C in rpm\n",
"\n",
"//Calculations\n",
"Nb=(Ta*N)/Tb//     speed of gear B in rpm\n",
"x=(Nb-Nc)\n",
"Nd=Nb+x//          speed of road wheel driven by D\n",
"\n",
"//Output\n",
"printf('speed of road wheel driven by D= %d rpm',Nd)"
   ]
   }
,
{
		   "cell_type": "markdown",
		   "metadata": {},
		   "source": [
			"## Example 4.17: ratio_of_torques.sce"
		   ]
		  },
  {
"cell_type": "code",
	   "execution_count": null,
	   "metadata": {
	    "collapsed": true
	   },
	   "outputs": [],
"source": [
"//Chapter-4, Illustration 17, Page 148\n",
"//Title: Gears and Gear Drivers\n",
"//=============================================================================\n",
"clc\n",
"clear\n",
"//Input data\n",
"Ta=20//   no of teeth on pinion A\n",
"Tb=25//   no of teeth on wheel B\n",
"Tc=50//   no of teeth on gear C\n",
"Td=60//   no of teeth on gear D\n",
"Te=60//  no of teeth on gear E\n",
"Na=200//   SPEED of the gear A\n",
"Nd=100//   speed of the gear D\n",
"\n",
"//calculations\n",
"//(i)\n",
"//(5/6)x+y=0\n",
"//(5/4)x+y=200\n",
"A1=[(Tc/Td) 1\n",
"    (Tb/Ta) 1]//Coefficient matrix\n",
"B1=[0\n",
"    Na]//Constant matrix\n",
"X1=inv(A1)*B1//Variable matrix\n",
"Ne1=X1(2)-(Tc/Td)*X1(1)//    \n",
"T1=(-Ne1/Na)//     ratio of torques when D is fixed\n",
"//(ii)\n",
"//(5/4)x+y=200\n",
"//(5/6)x+y=100\n",
"A2=[(Tc/Td) 1\n",
"    (Tb/Ta) 1]//Coefficient matrix\n",
"B2=[Nd\n",
"    Na]//Constant matrix\n",
"X2=inv(A2)*B2//Variable matrix\n",
"Ne2=X2(2)-(Tc/Td)*X2(1)\n",
"T2=(-Ne2/Na)//      ratio of torques when D ratates at 100 rpm\n",
"\n",
"//Output\n",
"printf('speed of E= %.2f rpm in clockwise direction\n speed of E in 2nd case(when D rotates at 100 rpm)= %d rpm in clockwise direction\n ratio of torques when D is fixed= %d \n ratio of torques when D ratates at 100 rpm= %d',Ne1,Ne2,T1,T2)\n",
""
   ]
   }
,
{
		   "cell_type": "markdown",
		   "metadata": {},
		   "source": [
			"## Example 4.1: Length_of_arc_of_contact.sce"
		   ]
		  },
  {
"cell_type": "code",
	   "execution_count": null,
	   "metadata": {
	    "collapsed": true
	   },
	   "outputs": [],
"source": [
"//Chapter-4, Illustration 1, Page 133\n",
"//Title: Gears and Gear Drivers\n",
"//=============================================================================\n",
"clc\n",
"clear\n",
"\n",
"//INPUT DATA\n",
"TA=48;//Wheel A teeth\n",
"TB=30;//Wheel B teeth\n",
"m=5;//Module pitch in mm\n",
"phi=20;//Pressure angle in degrees\n",
"add=m;//Addendum in mm\n",
"\n",
"//CALCULATIONS\n",
"R=(m*TA)/2;//Pitch circle radius of wheel A in mm\n",
"RA=R+add;//Radius of addendum circle of wheel A in mm\n",
"r=(m*TB)/2;//Pitch circle radius of wheel B in mm\n",
"rA=r+add;//Radius of addendum circle of wheel B in mm\n",
"lp=(sqrt((RA^2)-((R^2)*(cosd(phi)^2))))+(sqrt((rA^2)-((r^2)*(cosd(phi)^2))))-((R+r)*sind(phi));//Length of path of contact in mm\n",
"la=lp/cosd(phi);//Length of arc of contact in mm\n",
"\n",
"//OUTPUT\n",
"mprintf('Length of arc of contact is %3.1f mm',la)\n",
"\n",
"\n",
"\n",
"\n",
"\n",
"\n",
"\n",
"\n",
"//================================END OF PROGRAM============================================="
   ]
   }
,
{
		   "cell_type": "markdown",
		   "metadata": {},
		   "source": [
			"## Example 4.2: Addendum_of_wheel.sce"
		   ]
		  },
  {
"cell_type": "code",
	   "execution_count": null,
	   "metadata": {
	    "collapsed": true
	   },
	   "outputs": [],
"source": [
"//Chapter-4, Illustration 2, Page 133\n",
"//Title: Gears and Gear Drivers\n",
"//=============================================================================\n",
"clc\n",
"clear\n",
"\n",
"//INPUT DATA\n",
"TA=40;//Wheel A teeth\n",
"TB=TA;//Wheel B teeth\n",
"m=6;//Module pitch in mm\n",
"phi=20;//Pressure angle in degrees\n",
"pi=3.141\n",
"x=1.75;//Ratio of length of arc of contact to circular pitch\n",
"\n",
"//CALCULATIONS\n",
"Cp=m*pi;//Circular pitch in mm\n",
"R=(m*TA)/2;//Pitch circle radius of wheel A in mm\n",
"r=R;//Pitch circle radius of wheel B in mm\n",
"la=x*Cp;//Length of arc of contact in mm\n",
"lp=la*cosd(phi);//Length of path of contact in mm\n",
"RA=sqrt((((lp/2)+(R*sind(phi)))^2)+((R^2)*(cosd(phi))^2));//Radius of addendum circle of each wheel in mm\n",
"add=RA-R;//Addendum in mm\n",
"\n",
"//OUTPUT\n",
"mprintf('Addendum of wheel is %3.3f mm',add)\n",
"\n",
"\n",
"\n",
"\n",
"\n",
"\n",
"\n",
"\n",
"\n",
"//================================END OF PROGRAM============================================="
   ]
   }
,
{
		   "cell_type": "markdown",
		   "metadata": {},
		   "source": [
			"## Example 4.3: Length_of_arc_of_contact.sce"
		   ]
		  },
  {
"cell_type": "code",
	   "execution_count": null,
	   "metadata": {
	    "collapsed": true
	   },
	   "outputs": [],
"source": [
"//Chapter-4, Illustration 3, Page 134\n",
"//Title: Gears and Gear Drivers\n",
"//=============================================================================\n",
"clc\n",
"clear\n",
"\n",
"//INPUT DATA\n",
"TA=48;//Gear teeth\n",
"TB=24;//Pinion teeth\n",
"m=6;//Module in mm\n",
"phi=20;//Pressure angle in degrees\n",
"\n",
"//CALCULATIONS\n",
"r=(m*TB)/2;//Pitch circle radius of pinion in mm\n",
"R=(m*TA)/2;//Pitch circle radius of gear in mm\n",
"RA=sqrt(((((r*sind(phi))/2)+(R*sind(phi)))^2)+((R^2)*(cosd(phi))^2));//Radius of addendum circle of gear in mm\n",
"rA=sqrt(((((R*sind(phi))/2)+(r*sind(phi)))^2)+((r^2)*(cosd(phi))^2));//Radius of addendum circle of pinion in mm\n",
"addp=rA-r;//Addendum for pinion in mm\n",
"addg=RA-R;//Addendum for gear in mm\n",
"lp=((R+r)*sind(phi))/2;//Length of path of contact in mm\n",
"la=lp/cosd(phi);//Length of arc of contact in mm\n",
"\n",
"//OUTPUT\n",
"mprintf('Addendum for pinion is %3.3f mm \n Addendum for gear is %3.2f mm \n Length of arc of contact is %3.3f mm',addp,addg,la)\n",
"\n",
"\n",
"\n",
"\n",
"\n",
"\n",
"\n",
"\n",
"\n",
"\n",
"//================================END OF PROGRAM============================================="
   ]
   }
,
{
		   "cell_type": "markdown",
		   "metadata": {},
		   "source": [
			"## Example 4.4: Velocity_ratio.sce"
		   ]
		  },
  {
"cell_type": "code",
	   "execution_count": null,
	   "metadata": {
	    "collapsed": true
	   },
	   "outputs": [],
"source": [
"//Chapter-4, Illustration 4, Page 135\n",
"//Title: Gears and Gear Drivers\n",
"//=============================================================================\n",
"clc\n",
"clear\n",
"\n",
"//INPUT DATA\n",
"x=3.5;//Ratio of teeth of wheels\n",
"C=1.2;//Centre distance between axes in m\n",
"DP=4.4;//Diametrical pitch in cm\n",
"\n",
"//CALCULATIONS\n",
"D=2*C*100;//Sum of diameters of wheels in cm\n",
"T=D*DP;//Sum of teeth of wheels\n",
"TB1=T/(x+1);//Teeth of wheel B\n",
"TB=floor(TB1);//Teeth of whhel B\n",
"TA=x*TB;//Teeth of wheel A\n",
"DA=TA/DP;//Diametral pitch of gear A in cm\n",
"DB=TB/DP;//Diametral pitch of gear B in cm\n",
"Ce=(DA+DB)/2;//Exact centre distance between shafts in cm\n",
"TB2=ceil(TB1);//Teeth of wheel B\n",
"TA2=T-TB2;//Teeth of wheel A\n",
"VR=TA2/TB2;//Velocity ratio\n",
"\n",
"//OUTPUT\n",
"mprintf('Number of teeth on wheel A is %3.0f \n Number of teeth on wheel B is %3.0f \n Exact centre distance is %3.3f cm \n If centre distance is %3.1f m then \n Velocity ratio is %3.4f',TA,TB,Ce,C,VR)\n",
"\n",
"\n",
"\n",
"\n",
"\n",
"\n",
"\n",
"\n",
"//================================END OF PROGRAM============================================="
   ]
   }
,
{
		   "cell_type": "markdown",
		   "metadata": {},
		   "source": [
			"## Example 4.5: Power_transmitted.sce"
		   ]
		  },
  {
"cell_type": "code",
	   "execution_count": null,
	   "metadata": {
	    "collapsed": true
	   },
	   "outputs": [],
"source": [
"//Chapter-4, Illustration 5, Page 136\n",
"//Title: Gears and Gear Drivers\n",
"//=============================================================================\n",
"clc\n",
"clear\n",
"\n",
"//INPUT DATA\n",
"C=600;//Distance between shafts in mm\n",
"Cp=30;//Circular pitch in mm\n",
"NA=200;//Speed of wheel A in rpm\n",
"NB=600;//Speed of wheel B in rpm\n",
"F=18;//Tangential pressure in kN\n",
"pi=3.141\n",
"\n",
"//CALCULATIONS\n",
"a=Cp/(pi*10);//Ratio of pitch diameter of wheel A to teeth of wheel A in cm\n",
"b=Cp/(pi*10);//Ratio of pitch diameter of wheel B to teeth of wheel B in cm\n",
"T=(2*C)/(a*10);//Sum of teeth of wheels\n",
"r=NB/NA;//Ratio of teeth of wheels\n",
"TB=T/(r+1);//Teeth of wheel B\n",
"TB1=ceil(TB);//Teeth of wheel B\n",
"TA=TB1*r;//Teeth of wheel A\n",
"DA=a*TA;//Pitch diameter of wheel A in cm\n",
"DB=b*TB1;//Pitch diameter of wheel B in cm\n",
"CPA=(pi*DA)/TA;//Circular pitch of gear A in cm\n",
"CPB=(pi*DB)/TB1;//Circular pitch of gear B in cm\n",
"C1=(DA+DB)*10/2;//Exact centre distance in mm\n",
"P=(F*1000*pi*DA*NA)/(60*1000*100);//Power transmitted in kW\n",
"\n",
"//OUTPUT\n",
"mprintf('Number of teeth on wheel A is %3.0f \n Number of teeth on wheel B is %3.0f \n Pitch diameter of wheel A is %3.2f cm \n Pitch diameter of wheel B is %3.3f cm \n Circular pitch of wheel A is %3.4f cm \n Circular pitch of wheel B is %3.4f cm \n Exact centre distance between shafts is %3.2f mm \n Power transmitted is %3.3f kW',TA,TB1,DA,DB,CPA,CPB,C1,P)\n",
"\n",
"\n",
"\n",
"\n",
"\n",
"\n",
"\n",
"\n",
"//================================END OF PROGRAM============================================="
   ]
   }
,
{
		   "cell_type": "markdown",
		   "metadata": {},
		   "source": [
			"## Example 4.6: Number_of_teeth_on_gear.sce"
		   ]
		  },
  {
"cell_type": "code",
	   "execution_count": null,
	   "metadata": {
	    "collapsed": true
	   },
	   "outputs": [],
"source": [
"//Chapter-4, Illustration 6, Page 137\n",
"//Title: Gears and Gear Drivers\n",
"//=============================================================================\n",
"clc\n",
"clear\n",
"\n",
"//INPUT DATA\n",
"r=16;//Speed ratio\n",
"mA=4;//Module of gear A in mm\n",
"mB=mA;//Module of gear B in mm\n",
"mC=2.5;//Mosule of gear C in mm\n",
"mD=mC;//Module of gear D in mm\n",
"C=150;//Distance between shafts in mm\n",
"\n",
"//CALCULATIONS\n",
"t=sqrt(r);//Ratio of teeth\n",
"T1=(C*2)/mA;//Sum of teeth of wheels A and B\n",
"T2=(C*2)/mC;//Sum of teeth of wheels C and D\n",
"TA=T1/(t+1);//Teeth of gear A\n",
"TB=T1-TA;//Teeth of gear B\n",
"TC=T2/(t+1);//Teeth of gear C\n",
"TD=T2-TC;//Teeth of gear D\n",
"\n",
"//OUTPUT\n",
"mprintf('Number of teeth on gear A is %3.0f \n Number of teeth on gear B is %3.0f \n Number of teeth on gear C is %3.0f \n Number of teeth on gear D is %3.0f',TA,TB,TC,TD)\n",
"\n",
"\n",
"\n",
"\n",
"\n",
"\n",
"\n",
"\n",
"\n",
"//================================END OF PROGRAM============================================="
   ]
   }
,
{
		   "cell_type": "markdown",
		   "metadata": {},
		   "source": [
			"## Example 4.7: noof_teeth_on_gears.sce"
		   ]
		  },
  {
"cell_type": "code",
	   "execution_count": null,
	   "metadata": {
	    "collapsed": true
	   },
	   "outputs": [],
"source": [
"//Chapter-4, Illustration 7, Page 138\n",
"//Title: Gears and Gear Drivers\n",
"//=============================================================================\n",
"clc\n",
"clear\n",
"\n",
"//INPUT DATA\n",
"N=4.5;//No. of turns\n",
"\n",
"//CALCULATIONS\n",
"Vh=N/2;//Velocity ratio of main spring spindle to hour hand spindle\n",
"Vm=12;//Velocity ratio of minute hand spindle to hour hand spindle\n",
"T1=8//     assumed no of teeth on gear 1\n",
"T2=32//    assumed no of teeth on gear 2\n",
"T3=(T1+T2)/4//       no of teeth on gear 3\n",
"T4=(T1+T2)-T3// no of teeth on gear 4\n",
"printf('no of teeth on gear 1=%d\n no of teeth on gear 2=%d\n no of teeth on gear 3=%d\n no of teeth on gear 4=%d',T1,T2,T3,T4)\n",
"\n",
"\n",
"\n",
"\n",
"\n",
"\n",
"\n",
"\n",
"\n",
"\n",
"\n",
""
   ]
   }
,
{
		   "cell_type": "markdown",
		   "metadata": {},
		   "source": [
			"## Example 4.8: Speed_of_wheel.sce"
		   ]
		  },
  {
"cell_type": "code",
	   "execution_count": null,
	   "metadata": {
	    "collapsed": true
	   },
	   "outputs": [],
"source": [
"//Chapter-4, Illustration 8, Page 139\n",
"//Title: Gears and Gear Drivers\n",
"//=============================================================================\n",
"clc\n",
"clear\n",
"\n",
"//Input data\n",
"Tb=70;//Teeth of wheel B\n",
"Tc=25;//Teeth of wheel C\n",
"Td=80;//Teeth of wheel D\n",
"Na=-100;//Speed of arm A in clockwise in rpm\n",
"y=-100//Arm A rotates at 100 rpm clockwise\n",
"\n",
"//Calculations\n",
"Te=(Tc+Td-Tb);//Teeth of wheel E\n",
"x=(y/0.5)\n",
"Nc=(y-(Td*x)/Tc);//Speed of wheel C in rpm\n",
"\n",
"//Output\n",
"mprintf('Speed of wheel C is %3.0f rpm \n Direction of wheel C is anti-clockwise',Nc)\n",
"\n",
"\n",
"\n",
"\n",
"\n",
"\n",
"\n",
"\n",
"\n",
"//================================END OF PROGRAM============================================="
   ]
   }
,
{
		   "cell_type": "markdown",
		   "metadata": {},
		   "source": [
			"## Example 4.9: Speed_of_wheels.sce"
		   ]
		  },
  {
"cell_type": "code",
	   "execution_count": null,
	   "metadata": {
	    "collapsed": true
	   },
	   "outputs": [],
"source": [
"//Chapter-4, Illustration 9, Page 140\n",
"//Title: Gears and Gear Drivers\n",
"//=============================================================================\n",
"clc\n",
"clear\n",
"\n",
"//Input data\n",
"Tb=25;//Teeth of wheel B\n",
"Tc=40;//Teeth of wheel C\n",
"Td=10;//Teeth of wheel D\n",
"Te=25;//Teeth of wheel E\n",
"Tf=30;//Teeth of wheel F\n",
"y=-120;//Speed of arm A in clockwise in rpm\n",
"\n",
"//Calculations\n",
"x=(-y/4)\n",
"Nb=x+y;//Speed of wheel B in rpm\n",
"Nf=(-10/3)*x+y;//Speed of wheel F in rpm\n",
"\n",
"//Output\n",
"mprintf('Speed of wheel B is %3.0f rpm \n Direction of wheel B is clockwise \n Speed of wheel F is %3.0f rpm \n Direction of wheel F is clockwise',Nb,Nf)\n",
"\n",
"\n",
"\n",
"\n",
"\n",
"\n",
"\n",
"\n",
"//================================END OF PROGRAM============================================="
   ]
   }
],
"metadata": {
		  "kernelspec": {
		   "display_name": "Scilab",
		   "language": "scilab",
		   "name": "scilab"
		  },
		  "language_info": {
		   "file_extension": ".sce",
		   "help_links": [
			{
			 "text": "MetaKernel Magics",
			 "url": "https://github.com/calysto/metakernel/blob/master/metakernel/magics/README.md"
			}
		   ],
		   "mimetype": "text/x-octave",
		   "name": "scilab",
		   "version": "0.7.1"
		  }
		 },
		 "nbformat": 4,
		 "nbformat_minor": 0
}
