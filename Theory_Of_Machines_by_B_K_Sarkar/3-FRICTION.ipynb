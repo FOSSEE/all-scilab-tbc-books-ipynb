{
"cells": [
 {
		   "cell_type": "markdown",
	   "metadata": {},
	   "source": [
       "# Chapter 3: FRICTION"
	   ]
	},
{
		   "cell_type": "markdown",
		   "metadata": {},
		   "source": [
			"## Example 3.10: FORCE_REQUIRED.sce"
		   ]
		  },
  {
"cell_type": "code",
	   "execution_count": null,
	   "metadata": {
	    "collapsed": true
	   },
	   "outputs": [],
"source": [
"//CHAPTER 3 ILLUSRTATION 10 PAGE NO 108\n",
"//TITLE:FRICTION\n",
"clc\n",
"clear\n",
"//===========================================================================================\n",
"//INPUT DATA\n",
"PI=3.147\n",
"d=2.5//                    MEAN DIA OF BOLT IN cm\n",
"p=.6//                     PITCH IN cm\n",
"beeta=55/2//               VEE ANGLE\n",
"dc=4//                     DIA OF COLLAR IN cm\n",
"U=.1//                       COEFFICIENT OF FRICTION OF BOLT\n",
"Uc=.18//                      COEFFICIENT OF FRICTION OF COLLAR\n",
"W=6500//                     LOAD ON BOLT IN NEWTONS\n",
"L=38//                       LENGTH OF SPANNER\n",
"//=============================================================================================\n",
"//CALCULATION\n",
"//LET X=tan(py)/tan(beeta)\n",
"//y=tan(ALPHA)*X\n",
"PY=atand(U)\n",
"ALPHA=atand(p/(PI*d))\n",
"X=tand(PY)/cosd(beeta)\n",
"Y=tand(ALPHA)\n",
"T1=W*d/2*10^-2*(X+Y)/(1-(X*Y))//             TORQUE IN SCREW IN N-m\n",
"Tc=Uc*W*dc/2*10^-2//                         TORQUE ON BEARING SERVICES IN N-m\n",
"T=T1+Tc//                                     TOTAL TORQUE \n",
"P1=T/L*100//                                      FORCE REQUIRED BY @ THE END OF SPANNER\n",
"//=============================================================================================\n",
"//OUTPUT\n",
"printf('FORCE REQUIRED @ THE END OF SPANNER=%3.3f N',P1)"
   ]
   }
,
{
		   "cell_type": "markdown",
		   "metadata": {},
		   "source": [
			"## Example 3.11: POWER_LOST_IN_FRICTION.sce"
		   ]
		  },
  {
"cell_type": "code",
	   "execution_count": null,
	   "metadata": {
	    "collapsed": true
	   },
	   "outputs": [],
"source": [
"//CHAPTER 3 ILLUSRTATION 11 PAGE NO 109\n",
"//TITLE:FRICTION\n",
"clc\n",
"clear\n",
"//===========================================================================================\n",
"//INPUT DATA\n",
"d1=15//                                 DIAMETER OF VERTICAL SHAFT IN cm\n",
"N=100//                                 SPEED OF THE MOTOR rpm\n",
"W=20000//                                LOAD AVILABLE IN N\n",
"U=.05//                                  COEFFICIENT OF FRICTION\n",
"PI=3.147\n",
"//==================================================================================\n",
"T=2/3*U*W*d1/2//                         FRICTIONAL TORQUE IN N-m\n",
"PL=2*PI*N*T/100/60//                         POWER LOST IN FRICTION IN WATTS\n",
"//==================================================================================\n",
"//OUTPUT\n",
"printf('POWER LOST IN FRICTION=%3.3f watts',PL)"
   ]
   }
,
{
		   "cell_type": "markdown",
		   "metadata": {},
		   "source": [
			"## Example 3.12: NO_OF_COLLARS_REQUIRED.sce"
		   ]
		  },
  {
"cell_type": "code",
	   "execution_count": null,
	   "metadata": {
	    "collapsed": true
	   },
	   "outputs": [],
"source": [
"//CHAPTER 3 ILLUSRTATION 12 PAGE NO 109\n",
"//TITLE:FRICTION\n",
"clc\n",
"clear\n",
"//===================================================================================\n",
"//INPUT DATA\n",
"PI=3.147\n",
"d2=.30//                             DIAMETER OF SHAFT IN m \n",
"W=200000//                           LOAD AVAILABLE IN NEWTONS\n",
"N=75//                              SPEED IN rpm\n",
"U=.05//                             COEFFICIENT OF FRICTION\n",
"p=300000//                          PRESSURE AVAILABLE IN N/m^2\n",
"P=16200//                           POWER LOST DUE TO FRICTION IN WATTS\n",
"//====================================================================================\n",
"//CaLCULATION\n",
"T=P*60/2/PI/N//                      TORQUE INDUCED IN THE SHFT IN N-m\n",
"//LET X=(r1^3-r2^3)/(r1^2-r2^2)\n",
"X=(3/2*T/U/W)\n",
"r2=.15//                             SINCE d2=.30 m\n",
"c=r2^2-(X*r2)\n",
"b= r2-X\n",
"a= 1\n",
"r1=( -b+ sqrt (b^2 -4*a*c ))/(2* a);//     VALUE OF r1 IN m\n",
"d1=2*r1*100//                               d1 IN cm\n",
"n=W/(PI*p*(r1^2-r2^2))\n",
"//================================================================================\n",
"//OUTPUT\n",
"printf('\nEXTERNAL DIAMETER OF SHAFT =%3.3f cm\nNO OF COLLARS REQUIRED =%.3f or %.0f',d1,n,n+1)\n",
""
   ]
   }
,
{
		   "cell_type": "markdown",
		   "metadata": {},
		   "source": [
			"## Example 3.13: POWER_ABSORBED_IN_FRICTION.sce"
		   ]
		  },
  {
"cell_type": "code",
	   "execution_count": null,
	   "metadata": {
	    "collapsed": true
	   },
	   "outputs": [],
"source": [
"//CHAPTER 3 ILLUSRTATION 13 PAGE NO 111\n",
"//TITLE:FRICTION\n",
"clc\n",
"clear\n",
"//===================================================================================\n",
"//INPUT DATA\n",
"PI=3.147\n",
"W=20000//                                LOAD IN NEWTONS\n",
"ALPHA=120/2//                               CONE ANGLE IN DEGREES\n",
"p=350000//                                INTENSITY OF PRESSURE\n",
"U=.06\n",
"N=120//                                    SPEED OF THE SHAFT IN rpm\n",
"//d1=3d2\n",
"//r1=3r2\n",
"//===================================================================================\n",
"//CALCULATION\n",
"//LET K=d1/d2\n",
"k=3\n",
"Z=W/((k^2-1)*PI*p)\n",
"r2=Z^.5//                                  INTERNAL RADIUS IN m\n",
"r1=3*r2\n",
"T=2*U*W*(r1^3-r2^3)/(3*sind(60)*(r1^2-r2^2))//     total frictional torque in N\n",
"P=2*PI*N*T/60000//                            power absorbed in friction in kW\n",
"//================================================================================\n",
"printf('\nTHE INTERNAL DIAMETER OF SHAFT =%3.3f cm\nTHE EXTERNAL DIAMETER OF SHAFT =%3.3f cm\nPOWER ABSORBED IN FRICTION =%.3f kW',r2*100,r1*100,P)"
   ]
   }
,
{
		   "cell_type": "markdown",
		   "metadata": {},
		   "source": [
			"## Example 3.14: FINDING_Radii.sce"
		   ]
		  },
  {
"cell_type": "code",
	   "execution_count": null,
	   "metadata": {
	    "collapsed": true
	   },
	   "outputs": [],
"source": [
"//CHAPTER 3 ILLUSRTATION 14 PAGE NO 111\n",
"//TITLE:FRICTION\n",
"clc\n",
"clear\n",
"//===========================================================================================\n",
"//INPUT DATA\n",
"PI=3.147\n",
"P=10000//                               POWER TRRANSMITTED BY CLUTCH IN WATTS\n",
"N=3000//                                SPEED IN rpm\n",
"p=.09//                                 AXIAL PRESSURE IN N/mm^2\n",
"//d1=1.4d2                              RELATION BETWEEN DIAMETERS \n",
"K=1.4//                                 D1/D2\n",
"n=2\n",
"U=.3//                                  COEFFICIENT OF FRICTION\n",
"//==========================================================================================\n",
"T=P*60000/1000/(2*PI*N)//                     ASSUMING UNIFORM WEAR            TORQUE IN N-m\n",
"r2=(T*2/(n*U*2*PI*p*10^6*(K-1)*(K+1)))^(1/3)//            INTERNAL RADIUS\n",
"\n",
"//===========================================================================================\n",
"printf('THE INTERNAL RADIUS =%f cm\n THE EXTERNAL RADIUS =%f cm',r2*100,K*r2*100)\n",
" "
   ]
   }
,
{
		   "cell_type": "markdown",
		   "metadata": {},
		   "source": [
			"## Example 3.15: MAX_AXIAL_INTENSITY_OF_PRESSURE.sce"
		   ]
		  },
  {
"cell_type": "code",
	   "execution_count": null,
	   "metadata": {
	    "collapsed": true
	   },
	   "outputs": [],
"source": [
"//CHAPTER 3 ILLUSRTATION 14 PAGE NO 111\n",
"//TITLE:FRICTION\n",
"clc\n",
"//βμαφɳρΠπ\n",
"clear\n",
"//===========================================================================================\n",
"//INPUT DATA\n",
"PI=3.147\n",
"n1=3//                          NO OF DICS ON DRIVING SHAFTS\n",
"n2=2//                          NO OF DICS ON DRIVEN SHAFTS\n",
"d1=30//                         DIAMETER OF DRIVING SHAFT IN cm\n",
"d2=15//                         DIAMETER OF DRIVEN SHAFT IN cm\n",
"r1=d1/2\n",
"r2=d2/2\n",
"U=.3//                          COEFFICIENT FRICTION\n",
"P=30000//                       TANSMITTING POWER IN WATTS\n",
"N=1800//                        SPEED IN rpm\n",
"//===========================================================================================\n",
"//CALCULATION\n",
"n=n1+n2-1//                     NO OF PAIRS OF CONTACT SURFACES\n",
"T=P*60000/(2*PI*N)//            TORQUE IN N-m\n",
"W=2*T/(n*U*(r1+r2)*10)//           LOAD IN N\n",
"k=W/(2*PI*(r1-r2))\n",
"p=k/r2/100//                        MAX AXIAL INTENSITY OF PRESSURE IN N/mm^2\n",
"//===========================================================================================\n",
"// OUTPUT\n",
"printf('MAX AXIAL INTENSITY OF PRESSURE =%f N/mm^2',p)"
   ]
   }
,
{
		   "cell_type": "markdown",
		   "metadata": {},
		   "source": [
			"## Example 3.1: finding_out_the_coefficient_of_friction.sce"
		   ]
		  },
  {
"cell_type": "code",
	   "execution_count": null,
	   "metadata": {
	    "collapsed": true
	   },
	   "outputs": [],
"source": [
"//CHAPTER 3 ILLUSRTATION 1 PAGE NO 102\n",
"//TITLE:FRICTION\n",
"//FIRURE 3.16(a),3.16(b)\n",
"clc\n",
"clear\n",
"//===========================================================================================\n",
"//INPUT DATA\n",
"P1=180//                        PULL APPLIED TO THE BODY IN NEWTONS\n",
"theta=30//                      ANGLE AT WHICH P IS ACTING IN DEGREES\n",
"P2=220//                        PUSH APPLIED TO THE BODY IN NEWTONS\n",
"//Rn=                           NORMAL REACTION\n",
"//F=                            FORCE OF FRICTION IN NEWTONS\n",
"//U=                            COEFFICIENT OF FRICTION\n",
"//W=                            WEIGHT OF THE BODY IN NEWTON\n",
"//==========================================================================================\n",
"//CALCULATION\n",
"F1=P1*cosd(theta)//              RESOLVING FORCES HORIZONTALLY FROM 3.16(a)\n",
"F2=P2*cosd(theta)//              RESOLVING FORCES HORIZONTALLY FROM 3.16(b)\n",
"//                               RESOLVING FORCES VERTICALLY  Rn1=W-P1*sind(theta) from 3.16(a)\n",
"//                               RESOLVING FORCES VERTICALLY  Rn2=W+P1*sind(theta) from 3.16(b)\n",
"//                               USING THE RELATION F1=U*Rn1    &     F2=U*Rn2  AND SOLVING FOR W BY DIVIDING THESE TWO EQUATIONS\n",
"X=F1/F2//                        THIS IS THE VALUE OF   Rn1/Rn2\n",
"Y1=P1*sind(theta)\n",
"Y2=P2*sind(theta)\n",
"W=(Y2*X+Y1)/(1-X)//                BY SOLVING ABOVE 3 EQUATIONS\n",
"U=F1/(W-P1*sind(theta))//          COEFFICIENT OF FRICTION\n",
"//=============================================================================================\n",
"//OUTPUT\n",
"printf('WEIGHT OF THE BODY =%.3fN\nTHE COEFFICIENT OF FRICTION =%.3f',W,U)"
   ]
   }
,
{
		   "cell_type": "markdown",
		   "metadata": {},
		   "source": [
			"## Example 3.2: DISTANCE_ALONG_THE_INCLINED_PLANE.sce"
		   ]
		  },
  {
"cell_type": "code",
	   "execution_count": null,
	   "metadata": {
	    "collapsed": true
	   },
	   "outputs": [],
"source": [
"//CHAPTER 3 ILLUSRTATION 2 PAGE NO 103\n",
"//TITLE:FRICTION\n",
"//FIRURE 3.17\n",
"clc\n",
"clear\n",
"//===========================================================================================\n",
"//INPUT DATA\n",
"THETA=45//                ANGLE OF INCLINATION IN DEGREES\n",
"g=9.81//                   ACCELERATION DUE TO GRAVITY IN N/mm^2\n",
"U=.1//                     COEFFICIENT FRICTION\n",
"//Rn=NORMAL REACTION\n",
"//M=MASS IN NEWTONS\n",
"//f=ACCELERATION OF THE BODY\n",
"u=0//                      INITIAL VELOCITY\n",
"V=10//                     FINAL VELOCITY IN m/s^2\n",
"//===========================================================================================\n",
"//CALCULATION\n",
"//CONSIDER THE EQUILIBRIUM OF FORCES PERPENDICULAR TO THE PLANE\n",
"//Rn=Mgcos(THETA)\n",
"//CONSIDER THE EQUILIBRIUM OF FORCES ALONG THE PLANE\n",
"//Mgsin(THETA)-U*Rn=M*f.............BY SOLVING THESE 2 EQUATIONS \n",
"f=g*sind(THETA)-U*g*cosd(THETA)\n",
"s=(V^2-u^2)/(2*f)//                  DISTANCE ALONG THE PLANE IN metres\n",
"//==============================================================================================\n",
"//OUTPUT\n",
"printf('DISTANCE ALONG THE INCLINED PLANE=%3.3f m',s)\n",
"\n",
""
   ]
   }
,
{
		   "cell_type": "markdown",
		   "metadata": {},
		   "source": [
			"## Example 3.3: workdone.sce"
		   ]
		  },
  {
"cell_type": "code",
	   "execution_count": null,
	   "metadata": {
	    "collapsed": true
	   },
	   "outputs": [],
"source": [
"//CHAPTER 3 ILLUSRTATION 3 PAGE NO 104\n",
"//TITLE:FRICTION\n",
"//FIRURE 3.18\n",
"clc\n",
"clear\n",
"//===========================================================================================\n",
"//INPUT DATA\n",
"W=500//                  WEGHT IN NEWTONS\n",
"THETA=30//               ANGLE OF INCLINATION IN DEGRESS\n",
"U=0.2//                  COEFFICIENT FRICTION\n",
"S=15//                   DISTANCE IN metres\n",
"//============================================================================================\n",
"Rn=W*cosd(THETA)//       NORMAL REACTION IN NEWTONS\n",
"P=W*sind(THETA)+U*Rn//   PUSHING FORCE ALONG THE DIRECTION OF MOTION\n",
"w=P*S\n",
"//============================================================================================\n",
"//OUTPUT\n",
"printf('WORK DONE BY THE FORCE=%3.3f N-m',w)"
   ]
   }
,
{
		   "cell_type": "markdown",
		   "metadata": {},
		   "source": [
			"## Example 3.4: FINDING_OUT_COEFFICIENT_OF_FRICTION.sce"
		   ]
		  },
  {
"cell_type": "code",
	   "execution_count": null,
	   "metadata": {
	    "collapsed": true
	   },
	   "outputs": [],
"source": [
"//CHAPTER 3 ILLUSRTATION 4 PAGE NO 104\n",
"//TITLE:FRICTION\n",
"//FIRURE 3.19(a)  &  3.19(b)\n",
"clc\n",
"clear\n",
"//===========================================================================================\n",
"//INPUT DATA\n",
"P1=2000//           FORCE ACTING UPWARDS WHEN ANGLE=15 degrees IN NEWTONS\n",
"P2=2300//           FORCE ACTING UPWARDS WHEN ANGLE=20 degrees IN NEWTONS\n",
"THETA1=15//         ANGLE OF INCLINATION IN 3.19(a)\n",
"THETA2=20//         ANGLE OF INCLINATION IN 3.19(b)\n",
"//F1=               FORCE OF FRICTION IN 3.19(a)\n",
"//Rn1=              NORMAL REACTION IN 3.19(a)\n",
"//F2=               FORCE OF FRICTION IN 3.19(b)\n",
"//Rn2=              NORMAL REACTION IN 3.19(b)\n",
"//U=                 COEFFICIENT OF FRICTION\n",
"//===========================================================================================\n",
"//CALCULATION\n",
"//P1=F1+Rn1             RESOLVING THE FORCES ALONG THE PLANE\n",
"//Rn1=W*cosd(THETA1)....NORMAL REACTION IN 3.19(a)\n",
"//F1=U*Rn1\n",
"//BY SOLVING ABOVE EQUATIONS P1=W(U*cosd(THETA1)+sind(THETA1))---------------------1\n",
"//P2=F2+Rn2             RESOLVING THE FORCES PERPENDICULAR TO THE PLANE\n",
"//Rn2=W*cosd(THETA2)....NORMAL REACTION IN 3.19(b)\n",
"//F2=U*Rn2\n",
"//BY SOLVING ABOVE EQUATIONS P2=W(U*cosd(THETA2)+sind(THETA2))----------------------2\n",
"//BY SOLVING EQUATIONS 1 AND 2\n",
"X=P2/P1\n",
"U=(sind(THETA2)-(X*sind(THETA1)))/((X*cosd(THETA1)-cosd(THETA2)))//        COEFFICIENT OF FRICTION\n",
"W=P1/(U*cosd(THETA1)+sind(THETA1))\n",
"//=============================================================================================\n",
"//OUTPUT\n",
"//printf('%f',X)\n",
"printf('COEFFICIENT OF FRICTION=%3.3f\n WEIGHT OF THE BODY=%3.3f N',U,W)"
   ]
   }
,
{
		   "cell_type": "markdown",
		   "metadata": {},
		   "source": [
			"## Example 3.5: EFFORT_NEED_TO_APPLIED.sce"
		   ]
		  },
  {
"cell_type": "code",
	   "execution_count": null,
	   "metadata": {
	    "collapsed": true
	   },
	   "outputs": [],
"source": [
"//CHAPTER 3 ILLUSRTATION 5 PAGE NO 105\n",
"//TITLE:FRICTION\n",
"clc\n",
"clear\n",
"//===========================================================================================\n",
"//INPUT DATA\n",
"d=5//                     DIAMETER OF SCREW JACK IN cm\n",
"p=1.25//                  PITCH IN cm\n",
"l=50//                    LENGTH IN cm\n",
"U=.1//                    COEFFICIENT OF FRICTION\n",
"W=20000//                 LOAD IN NEWTONS\n",
"PI=3.147\n",
"//=============================================================================================\n",
"//CALCULATION\n",
"ALPHA=atand(p/(PI*d))\n",
"PY=atand(U)\n",
"P=W*tand(ALPHA+PY)\n",
"P1=P*d/(2*l)\n",
"//=============================================================================================\n",
"//OUTPUT\n",
"printf('THE AMOUNT OF EFFORT NEED TO APPLY =%3.3f N',P1)"
   ]
   }
,
{
		   "cell_type": "markdown",
		   "metadata": {},
		   "source": [
			"## Example 3.6: EFFICIENCY_OF_THE_MACHINE.sce"
		   ]
		  },
  {
"cell_type": "code",
	   "execution_count": null,
	   "metadata": {
	    "collapsed": true
	   },
	   "outputs": [],
"source": [
"//CHAPTER 3 ILLUSRTATION 6 PAGE NO 106\n",
"//TITLE:FRICTION\n",
"clc\n",
"clear\n",
"//===========================================================================================\n",
"//INPUT DATA\n",
"d=50//                 DIAMETER OF SCREW IN mm\n",
"p=12.5//               PITCH IN mm\n",
"U=0.13//               COEFFICIENT OF FRICTION\n",
"W=25000//              LOAD IN mm\n",
"PI=3.147\n",
"//===========================================================================================\n",
"//CALCULATION\n",
"ALPHA=atand(p/(PI*d))\n",
"PY=atand(U)\n",
"P=W*tand(ALPHA+PY)//         FORCE REQUIRED TO RAISE THE LOAD IN N\n",
"T1=P*d/2//                   TORQUE REQUIRED IN Nm\n",
"P1=W*tand(PY-ALPHA)//        FORCE REQUIRED TO LOWER THE SCREW IN N\n",
"T2=P1*d/2//                  TORQUE IN N\n",
"X=T1/T2//                     RATIOS REQUIRED\n",
"n=tand(ALPHA/(ALPHA+PY))//    EFFICIENCY\n",
"//============================================================================================\n",
"printf('RATIO OF THE TORQUE REQUIRED TO RAISE THE LOAD,TO THE TORQUE REQUIRED TO LOWER THE LOAD =%.3f',X)"
   ]
   }
,
{
		   "cell_type": "markdown",
		   "metadata": {},
		   "source": [
			"## Example 3.7: EFFICIENCY_OF_MACHINE.sce"
		   ]
		  },
  {
"cell_type": "code",
	   "execution_count": null,
	   "metadata": {
	    "collapsed": true
	   },
	   "outputs": [],
"source": [
"//CHAPTER 3 ILLUSRTATION 7 PAGE NO 107\n",
"//TITLE:FRICTION\n",
"clc\n",
"clear\n",
"//===========================================================================================\n",
"//INPUT DATA\n",
"d=39//                 DIAMETER OF THREAD IN mm\n",
"p=13//                 PITCH IN mm\n",
"U=0.1//                COEFFICIENT OF FRICTION\n",
"W=2500//               LOAD IN mm\n",
"PI=3.147\n",
"//===========================================================================================\n",
"//CALCULATION\n",
"ALPHA=atand(p/(PI*d))\n",
"PY=atand(U)\n",
"P=W*tand(ALPHA+PY)//         FORCE IN N\n",
"T1=P*d/2//                   TORQUE REQUIRED IN Nm\n",
"T=2*T1//                      TORQUE REQUIRED ON THE COUPLING ROD IN Nm\n",
"K=2*p//                      DISTANCE TRAVELLED FOR ONE REVOLUTION\n",
"N=20.8/K//                   NO OF REVOLUTIONS REQUIRED\n",
"w=2*PI*N*T/100//                 WORKDONE BY TORQUE\n",
"w1=w*(7500-2500)/2500//      WORKDONE TO INCREASE THE LOAD FROM 2500N TO 7500N\n",
"n=tand(ALPHA)/tand(ALPHA+PY)//    EFFICIENCY\n",
"//============================================================================================\n",
"//OUTPUT\n",
"printf('workdone against a steady load of 2500N=%3.3f N\n workdone if the load is increased from 2500N to 7500N=%3.3f N\n efficiency=%.3f',w,w1,n)"
   ]
   }
,
{
		   "cell_type": "markdown",
		   "metadata": {},
		   "source": [
			"## Example 3.8: NO_OF_TEETH_ON_PINION.sce"
		   ]
		  },
  {
"cell_type": "code",
	   "execution_count": null,
	   "metadata": {
	    "collapsed": true
	   },
	   "outputs": [],
"source": [
"//CHAPTER 3 ILLUSRTATION 8 PAGE NO 107\n",
"//TITLE:FRICTION\n",
"clc\n",
"clear\n",
"//===========================================================================================\n",
"//INPUT DATA\n",
"W=50000//                        WEIGHT OF THE SLUICE GATE IN NEWTON\n",
"P=40000//                        POWER IN WATTS\n",
"N=580//                          MAX MOTOR RUNNING SPEEED IN rpm\n",
"d=12.5//                         DIAMETER OF THE SCREW IN cm\n",
"p=2.5//                          PITCH IN cm\n",
"PI=3.147\n",
"U1=.08//                          COEFFICIENT OF FRICTION for SCREW\n",
"U2=.1//                           C.O.F BETWEEN GATES AND SCREW\n",
"Np=2000000//                     NORMAL PRESSURE IN NEWTON\n",
"Fl=.15//                       FRICTION LOSS\n",
"n=1-Fl//                       EFFICIENCY\n",
"ng=80//                        NO OF TEETH ON GEAR\n",
"//===========================================================================================\n",
"//CALCULATION\n",
"TV=W+U2*Np//                     TOTAL VERTICAL HEAD IN NEWTON\n",
"ALPHA=atand(p/(PI*d))//         \n",
"PY=atand(U1)//                 \n",
"P1=TV*tand(ALPHA+PY)//            FORCE IN N\n",
"T=P1*d/2/100//                    TORQUE IN N-m\n",
"Ng=60000*n*P*10^-3/(2*PI*T)//              SPEED OF GEAR IN rpm\n",
"np=Ng*ng/N//                       NO OF TEETH ON PINION\n",
"//=========================================================================================\n",
"//OUTPUT\n",
"printf('NO OF TEETH ON PINION =%.2f say %d',np,np+1)"
   ]
   }
,
{
		   "cell_type": "markdown",
		   "metadata": {},
		   "source": [
			"## Example 3.9: TO_FIND_THE_DIAMETER_OF_HAND_WHEEL.sce"
		   ]
		  },
  {
"cell_type": "code",
	   "execution_count": null,
	   "metadata": {
	    "collapsed": true
	   },
	   "outputs": [],
"source": [
"//CHAPTER 3 ILLUSRTATION 9 PAGE NO 108\n",
"//TITLE:FRICTION\n",
"clc\n",
"clear\n",
"//===========================================================================================\n",
"//INPUT DATA\n",
"d=5//                         MEAN DIAMETER OF SCREW IN cm\n",
"p=1.25//                      PITCH IN cm\n",
"W=10000//                     LOAD AVAILABLE IN NEWTONS\n",
"dc=6//                        MEAN DIAMETER OF COLLAR IN cm\n",
"U=.15//                       COEFFICIENT OF FRICTION OF SCREW\n",
"Uc=.18//                      COEFFICIENT OF FRICTION OF COLLAR\n",
"P1=100//                      TANGENTIAL FORCE APPLIED IN NEWTON\n",
"PI=3.147\n",
"//============================================================================================\n",
"//CALCULATION\n",
"ALPHA=atand(p/(PI*d))//         \n",
"PY=atand(U)//                 \n",
"T1=W*d/2*tand(ALPHA+PY)/100//         TORQUE ON SCREW IN NEWTON\n",
"Tc=Uc*W*dc/2/100//                      TORQUE ON COLLAR IN NEWTON\n",
"T=T1+Tc//                          TOTAL TORQUE\n",
"D=2*T/P1/2*100//                       DIAMETER OF HAND WHEEL IN cm\n",
"//============================================================================================\n",
"//OUTPUT\n",
"printf('SUITABLE DIAMETER OF HAND WHEEL =%3.3f cm',D)"
   ]
   }
],
"metadata": {
		  "kernelspec": {
		   "display_name": "Scilab",
		   "language": "scilab",
		   "name": "scilab"
		  },
		  "language_info": {
		   "file_extension": ".sce",
		   "help_links": [
			{
			 "text": "MetaKernel Magics",
			 "url": "https://github.com/calysto/metakernel/blob/master/metakernel/magics/README.md"
			}
		   ],
		   "mimetype": "text/x-octave",
		   "name": "scilab",
		   "version": "0.7.1"
		  }
		 },
		 "nbformat": 4,
		 "nbformat_minor": 0
}
