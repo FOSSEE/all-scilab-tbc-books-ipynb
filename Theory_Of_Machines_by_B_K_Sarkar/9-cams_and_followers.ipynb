{
"cells": [
 {
		   "cell_type": "markdown",
	   "metadata": {},
	   "source": [
       "# Chapter 9: cams and followers"
	   ]
	},
{
		   "cell_type": "markdown",
		   "metadata": {},
		   "source": [
			"## Example 9.2: maximum_velocity_and_acceleration.sce"
		   ]
		  },
  {
"cell_type": "code",
	   "execution_count": null,
	   "metadata": {
	    "collapsed": true
	   },
	   "outputs": [],
"source": [
"//CHAPTER 9 ILLUSRTATION 2 PAGE NO 247\n",
"//TITLE:CAMS AND FOLLOWERS\n",
"clc\n",
"clear\n",
"pi=3.141\n",
"s=4//         follower movement in cm\n",
"theta=60//    cam rotation in degrees\n",
"THETA=60*pi/180//   cam rotation in rad\n",
"thetaD=45//    after outstroke in degrees\n",
"thetaR=90//....angle with which it reaches its original position in degrees\n",
"THETAR=90*pi/180//   angle with which it reaches its original position in rad\n",
"THETAd=360-theta-thetaD-thetaR//      angle after return stroke in degrees\n",
"N=300//   speed in rpm\n",
"w=2*pi*N/60//   speed in rad/s\n",
"Vo=pi*w*s/2/THETA//   Maximum velocity of follower during outstroke in cm/s\n",
"Vr=pi*w*s/2/THETAR// Maximum velocity of follower during return stroke in cm/s\n",
"Fo=pi^2*w^2*s/2/THETA^2/100//Maximum acceleration of follower during outstroke in m/s^2\n",
"Fr=pi^2*w^2*s/2/THETAR^2/100//Maximum acceleration of follower during return stroke in m/s^2\n",
"printf('Maximum acceleration of follower during outstroke =%.3f m/s^2\nMaximum acceleration of follower during return stroke= %.3f m/s^2',Fo,Fr)"
   ]
   }
,
{
		   "cell_type": "markdown",
		   "metadata": {},
		   "source": [
			"## Example 9.3: maximum_velocity_and_acceleration.sce"
		   ]
		  },
  {
"cell_type": "code",
	   "execution_count": null,
	   "metadata": {
	    "collapsed": true
	   },
	   "outputs": [],
"source": [
"//CHAPTER 9 ILLUSRTATION 3 PAGE NO 249\n",
"//TITLE:CAMS AND FOLLOWERS\n",
"clc\n",
"clear\n",
"pi=3.141\n",
"s=5//         follower movement in cm\n",
"theta=120//    cam rotation in degrees\n",
"THETA=theta*pi/180//   cam rotation in rad\n",
"thetaD=30//    after outstroke in degrees\n",
"thetaR=60//....angle with which it reaches its original position in degrees\n",
"THETAR=60*pi/180//   angle with which it reaches its original position in rad\n",
"THETAd=360-theta-thetaD-thetaR//      angle after return stroke in degrees\n",
"N=100//   speed in rpm\n",
"w=2*pi*N/60//   speed in rad/s\n",
"Vo=pi*w*s/2/THETA//   Maximum velocity of follower during outstroke in cm/s\n",
"Vr=pi*w*s/2/THETAR// Maximum velocity of follower during return stroke in cm/s\n",
"Fo=pi^2*w^2*s/2/THETA^2/100//Maximum acceleration of follower during outstroke in m/s^2\n",
"Fr=pi^2*w^2*s/2/THETAR^2/100//Maximum acceleration of follower during return stroke in m/s^2\n",
"printf('Maximum acceleration of follower during outstroke =%.3f m/s^2\nMaximum acceleration of follower during return stroke= %.3f m/s^2',Fo,Fr)"
   ]
   }
,
{
		   "cell_type": "markdown",
		   "metadata": {},
		   "source": [
			"## Example 9.5: maximum_velocity_and_acceleration.sce"
		   ]
		  },
  {
"cell_type": "code",
	   "execution_count": null,
	   "metadata": {
	    "collapsed": true
	   },
	   "outputs": [],
"source": [
"//CHAPTER 9 ILLUSRTATION 5 PAGE NO 252\n",
"//TITLE:CAMS AND FOLLOWERS\n",
"clc\n",
"clear\n",
"pi=3.141\n",
"N=1000//    speed of cam in rpm\n",
"w=2*pi*N/60//  angular speed in rad/s\n",
"s=2.5//   stroke of the follower in cm\n",
"THETA=120*pi/180//  ANGULAR DISPLACEMENT OF CAM DURING OUTSTROKE IN RAD\n",
"THETAR=90*pi/180//ANGULAR DISPLACEMENT OF CAM DURING DWELL IN RAD\n",
"Vo=2*w*s/THETA//   Maximum velocity of follower during outstroke in cm/s\n",
"Vr=2*w*s/THETAR//Maximum velocity of follower during return stroke in cm/s\n",
"Fo=4*w^2*s/THETA^2//Maximum acceleration of follower during outstroke in m/s^2\n",
"Fr=4*w^2*s/THETAR^2//Maximum acceleration of follower during return stroke in m/s^2\n",
"printf('Maximum acceleration of follower during outstroke =%.3f m/s^2\nMaximum acceleration of follower during return stroke= %.3f m/s^2',Fo,Fr)"
   ]
   }
],
"metadata": {
		  "kernelspec": {
		   "display_name": "Scilab",
		   "language": "scilab",
		   "name": "scilab"
		  },
		  "language_info": {
		   "file_extension": ".sce",
		   "help_links": [
			{
			 "text": "MetaKernel Magics",
			 "url": "https://github.com/calysto/metakernel/blob/master/metakernel/magics/README.md"
			}
		   ],
		   "mimetype": "text/x-octave",
		   "name": "scilab",
		   "version": "0.7.1"
		  }
		 },
		 "nbformat": 4,
		 "nbformat_minor": 0
}
