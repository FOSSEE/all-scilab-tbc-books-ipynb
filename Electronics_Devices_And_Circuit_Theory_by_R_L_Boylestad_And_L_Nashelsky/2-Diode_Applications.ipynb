{
"cells": [
 {
		   "cell_type": "markdown",
	   "metadata": {},
	   "source": [
       "# Chapter 2: Diode Applications"
	   ]
	},
{
		   "cell_type": "markdown",
		   "metadata": {},
		   "source": [
			"## Example 2.10: Vo_I1_Id1_and_Id2_for_parallel_diode_config.sce"
		   ]
		  },
  {
"cell_type": "code",
	   "execution_count": null,
	   "metadata": {
	    "collapsed": true
	   },
	   "outputs": [],
"source": [
"clear; clc; close;\n",
"\n",
"E = 10;    //volts\n",
"R = 0.33*10^(3);    //ohms\n",
"\n",
"Vo = 0.7;    //volts\n",
"I = (E - Vo)/R;\n",
"Id1 = I/2;\n",
"Id2 = I/2;\n",
"\n",
"diary('C:\Users\DELL\Desktop\intern\chapter_2\2_10.txt');\n",
"disp(Vo,'Output Volatge is : ');\n",
"disp(Id1,'Current through diode 1 is : ');\n",
"disp(Id2,'Current through diode 2 is :')\n",
""
   ]
   }
,
{
		   "cell_type": "markdown",
		   "metadata": {},
		   "source": [
			"## Example 2.11: Resistor_values.sce"
		   ]
		  },
  {
"cell_type": "code",
	   "execution_count": null,
	   "metadata": {
	    "collapsed": true
	   },
	   "outputs": [],
"source": [
"clear; clc; close;\n",
"\n",
"E = 8;    //volts\n",
"Vled = 2;    //volts\n",
"I = 20*10^(-3);    //amperes\n",
"\n",
"R = (E-Vled)/I;\n",
"\n",
"disp(R,'resistance value is : ')\n",
""
   ]
   }
,
{
		   "cell_type": "markdown",
		   "metadata": {},
		   "source": [
			"## Example 2.12: Output_voltage.sce"
		   ]
		  },
  {
"cell_type": "code",
	   "execution_count": null,
	   "metadata": {
	    "collapsed": true
	   },
	   "outputs": [],
"source": [
"\n",
"clear; clc; close;\n",
"\n",
"E = 12;    //volts\n",
"Vd = 0.7;    //volts\n",
"\n",
"Vo = E - Vd;\n",
"\n",
"disp(Vo,'output voltage is : ');"
   ]
   }
,
{
		   "cell_type": "markdown",
		   "metadata": {},
		   "source": [
			"## Example 2.13: Determine_network_currents.sce"
		   ]
		  },
  {
"cell_type": "code",
	   "execution_count": null,
	   "metadata": {
	    "collapsed": true
	   },
	   "outputs": [],
"source": [
"\n",
"clear; clc; close;\n",
"\n",
"E = 20;    //volts\n",
"Vk1 = 0.7;    //volts\n",
"Vk2 = 0.7;    //volts\n",
"R1 = 3.3*10^(3);    //ohms\n",
"R2 = 5.6*10^(3);    //ohms\n",
"\n",
"I1 = Vk1/R1;\n",
"V2 = E-Vk1-Vk2;\n",
"I2 = V2/R2;\n",
"\n",
"Id2 = I2 - I1;\n",
"\n",
"disp(I1,'I1 current is : ');\n",
"disp(I2,'I2 current is : ');\n",
"disp(Id2,'Id2 current is :');"
   ]
   }
,
{
		   "cell_type": "markdown",
		   "metadata": {},
		   "source": [
			"## Example 2.14: Output_voltage.sce"
		   ]
		  },
  {
"cell_type": "code",
	   "execution_count": null,
	   "metadata": {
	    "collapsed": true
	   },
	   "outputs": [],
"source": [
"clear; clc; close;\n",
"\n",
"E = 10;    //volts\n",
"R = 1*10^(3);    //ohms\n",
"Vd1 = 0.7;    //volts\n",
"Vd2 = 0;    //volts\n",
"\n",
"Vo = E-Vd1;\n",
"I = (E-Vd1)/R;\n",
"\n",
"disp(Vo,'output voltage is : ');\n",
""
   ]
   }
,
{
		   "cell_type": "markdown",
		   "metadata": {},
		   "source": [
			"## Example 2.15: Output_voltage_for_positive_logic_AND.sce"
		   ]
		  },
  {
"cell_type": "code",
	   "execution_count": null,
	   "metadata": {
	    "collapsed": true
	   },
	   "outputs": [],
"source": [
"clear; clc; close;\n",
"\n",
"E = 10;    //volts\n",
"E1 = 10;    //volts\n",
"E2 = 0;     //volts\n",
"R = 1*10^(3);    //ohms\n",
"\n",
"Vd1 = 0;    //volts\n",
"Vd2 = 0.7;    //volts\n",
"\n",
"Vo = Vd2;\n",
"\n",
"disp(Vo,'output voltage is : ');"
   ]
   }
,
{
		   "cell_type": "markdown",
		   "metadata": {},
		   "source": [
			"## Example 2.16_a: Sketch_output_and_determine_dc_level.sce"
		   ]
		  },
  {
"cell_type": "code",
	   "execution_count": null,
	   "metadata": {
	    "collapsed": true
	   },
	   "outputs": [],
"source": [
"clear; clc; close;\n",
"\n",
"Vm = 20;\n",
"Vdc = -0.318*Vm;\n",
"\n",
"disp(Vdc,'Dc volatge for ideal diode :');\n",
"\n",
"\n",
"t = 0:0.1:4*%pi;\n",
"x = 20*sin(t);\n",
"\n",
"for i=1:length(t)\n",
"    if(x(i)<=0)\n",
"       y(i) = x(i);\n",
"    else y(i)=0\n",
"    end\n",
"end           \n",
"\n",
"plot(t,y)\n",
"xtitle('output for ideal diode','t','Vo');"
   ]
   }
,
{
		   "cell_type": "markdown",
		   "metadata": {},
		   "source": [
			"## Example 2.16_b: Sketch_output_and_determine_dc_level_for_Si_diode_case.sce"
		   ]
		  },
  {
"cell_type": "code",
	   "execution_count": null,
	   "metadata": {
	    "collapsed": true
	   },
	   "outputs": [],
"source": [
"clear; clc; close;\n",
"\n",
"Vm = 20;    //volts\n",
"Vdc = -0.318*(Vm-0.7);    //volts\n",
"\n",
"disp(Vdc,'Dc voltage for silicon diode :');\n",
"\n",
"\n",
"t = 0:0.1:4*%pi;\n",
"x = (20-0.7)*sin(t);\n",
"\n",
"for i=1:length(t)\n",
"    if(x(i)<=0)\n",
"       y(i) = x(i);\n",
"    else y(i)=0\n",
"    end\n",
"end           \n",
"\n",
"plot(t,y);\n",
"xtitle('output for silicon diode','t','Vo');"
   ]
   }
,
{
		   "cell_type": "markdown",
		   "metadata": {},
		   "source": [
			"## Example 2.16_c: Determine_dc_level_if_Vm_is_200V.sce"
		   ]
		  },
  {
"cell_type": "code",
	   "execution_count": null,
	   "metadata": {
	    "collapsed": true
	   },
	   "outputs": [],
"source": [
"clear; clc; close;\n",
"\n",
"Vm = 200;    //volts\n",
"Vk = 0.7;    //volts\n",
"Vdc = -0.318*Vm;    \n",
"Vdc_si = -0.318*(Vm - Vk);\n",
"\n",
"disp(Vdc,'Dc volatge for ideal diode :');\n",
"disp(Vdc_si,'Dc voltage for silicon diode :');"
   ]
   }
,
{
		   "cell_type": "markdown",
		   "metadata": {},
		   "source": [
			"## Example 2.17: Sketch_output_waveform.sce"
		   ]
		  },
  {
"cell_type": "code",
	   "execution_count": null,
	   "metadata": {
	    "collapsed": true
	   },
	   "outputs": [],
"source": [
"clear; clc; close;\n",
"\n",
"Vi_max = 10;\n",
"Vo_max = 0.5*Vi_max;\n",
"\n",
"Vdc = 0.636*Vo_max;\n",
"\n",
"disp(Vdc,'Required Dc voltage :');\n",
"\n",
"t = 0:0.1:2*%pi;\n",
"x = 10*sin(t);\n",
"\n",
"for i=1:length(t)\n",
"    if(x(i)>=0)\n",
"       y(i) = x(i);\n",
"    else y(i)=0;\n",
"    end\n",
"end           \n",
"\n",
"plot(t,y)\n",
"xtitle('output waveform','t','Vo');"
   ]
   }
,
{
		   "cell_type": "markdown",
		   "metadata": {},
		   "source": [
			"## Example 2.18: Sketch_output_waveform.sce"
		   ]
		  },
  {
"cell_type": "code",
	   "execution_count": null,
	   "metadata": {
	    "collapsed": true
	   },
	   "outputs": [],
"source": [
"clear; clc; close;\n",
"\n",
"amp = 20;\n",
"vi_t = -5;//transition voltage\n",
"\n",
"t = 0:0.1:2*%pi;\n",
"vi = amp*sin(t);\n",
"vo = vi+5;    //output voltage\n",
"\n",
"disp(vi_t,'transition voltage : ');\n",
"\n",
"for i = 1:length(t)\n",
"    if(vo(i)<=0)\n",
"        vo(i)=0;\n",
"    end\n",
"    \n",
"    \n",
"end\n",
"\n",
"plot(t,vo);\n",
"xtitle('Ouptut voltage','t','vo');"
   ]
   }
,
{
		   "cell_type": "markdown",
		   "metadata": {},
		   "source": [
			"## Example 2.19: Sketch_output_waveform.sce"
		   ]
		  },
  {
"cell_type": "code",
	   "execution_count": null,
	   "metadata": {
	    "collapsed": true
	   },
	   "outputs": [],
"source": [
"clear; clc; close;\n",
"\n",
"t = 0:0.1:20;\n",
"for i=1:int(length(t)/2)\n",
"    vi(i) = 20;\n",
"end\n",
"for i = int(length(t)/2):length(t)\n",
"    vi(i) = 0;\n",
"end\n",
"for i=1:int(length(t)/2)\n",
"    vo(i) = 20+5;\n",
"end\n",
"for i = int(length(t)/2):length(t)\n",
"    vo(i) = 0;\n",
"end\n",
"plot2d(t,vo,2,'011','',[0,-5,21,30]);\n",
"a = gca();\n",
"a.x_label.text = 't';\n",
"a.y_label.text = 'Vo';"
   ]
   }
,
{
		   "cell_type": "markdown",
		   "metadata": {},
		   "source": [
			"## Example 2.1: Q_point_using_diode_characteristics.sce"
		   ]
		  },
  {
"cell_type": "code",
	   "execution_count": null,
	   "metadata": {
	    "collapsed": true
	   },
	   "outputs": [],
"source": [
"clear; clc; close;\n",
"\n",
"E = 10;    //volts\n",
"R = 500;    //ohms\n",
"\n",
"Id = E/R;\n",
"Vd = E;\n",
"\n",
"Vdq = 0.78;    //volts\n",
"Idq = 18.5*10^(-3);//Amperes\n",
"\n",
"Vr = Idq*R;\n",
"\n",
"diary('C:\Users\DELL\Desktop\intern\chapter_2\2_1.txt');\n",
"disp(Vdq,'Voltage at Q-point is :');\n",
"disp(Idq,'Current at Q-point is :');\n",
"disp(Vr,'Vr = ');"
   ]
   }
,
{
		   "cell_type": "markdown",
		   "metadata": {},
		   "source": [
			"## Example 2.20: Sketch_output_waveform.sce"
		   ]
		  },
  {
"cell_type": "code",
	   "execution_count": null,
	   "metadata": {
	    "collapsed": true
	   },
	   "outputs": [],
"source": [
"clear; clc; close;\n",
"\n",
"t = 0:0.1:20;\n",
"for i = 1:length(t);\n",
"    if(t(i)<=5)\n",
"        x(i) = (16/5)*t(i);\n",
"    elseif(t(i)>=5 & t(i)<=16)\n",
"        x(i) = -3.2*t(i) + 32;\n",
"    elseif(t(i)>=16 & t(i)<=20)\n",
"        x(i) = (16/5)*t(i)-64;\n",
"    end \n",
"end\n",
"\n",
"for i = 1:length(t)\n",
"    if(x(i)>4)\n",
"        y(i)=x(i);\n",
"    elseif(x(i)<=4)\n",
"        y(i)=4;\n",
"    end\n",
"end\n",
"\n",
"plot2d(t,y,2,'011','',[0,0,20,16]);\n",
"\n",
"a = gca();\n",
"a.x_label.text = 't';\n",
"a.y_label.text = 'Vo';"
   ]
   }
,
{
		   "cell_type": "markdown",
		   "metadata": {},
		   "source": [
			"## Example 2.21: Sketch_output_waveform_using_Ge_diode.sce"
		   ]
		  },
  {
"cell_type": "code",
	   "execution_count": null,
	   "metadata": {
	    "collapsed": true
	   },
	   "outputs": [],
"source": [
"clear; clc; close;\n",
"\n",
"V = 4;\n",
"Vk = 0.3;\n",
"id = 0;\n",
"vd = 0.3;\n",
"\n",
"vi = V-Vk;\n",
"disp(vi,'new transition level : ');\n",
"\n",
"t = 0:0.1:20;\n",
"for i = 1:length(t);\n",
"    if(t(i)<=5)\n",
"        x(i) = (16/5)*t(i);\n",
"    elseif(t(i)>=5 & t(i)<=16)\n",
"        x(i) = -3.2*t(i) + 32;\n",
"    elseif(t(i)>=16 & t(i)<=20)\n",
"        x(i) = (16/5)*t(i)-64;\n",
"    end \n",
"end\n",
"\n",
"for i = 1:length(t)\n",
"    if(x(i)>vi)\n",
"        y(i)=x(i);\n",
"    elseif(x(i)<=3.7)\n",
"        y(i)=3.7;\n",
"    end\n",
"end\n",
"\n",
"plot2d(t,y,2,'011','',[0,0,20,16]);\n",
"\n",
"a = gca();\n",
"a.x_label.text = 't';\n",
"a.y_label.text = 'Vo';\n",
"\n",
"xset('thickness',2);\n",
"xstring(10,0,'T/2');"
   ]
   }
,
{
		   "cell_type": "markdown",
		   "metadata": {},
		   "source": [
			"## Example 2.22: Sketch_output_waveform.sce"
		   ]
		  },
  {
"cell_type": "code",
	   "execution_count": null,
	   "metadata": {
	    "collapsed": true
	   },
	   "outputs": [],
"source": [
"clear; clc; close;\n",
"\n",
"f = 1000;\n",
"T = 1/f;\n",
"C = 0.1*10^(-6);\n",
"R = 100*10^(3);\n",
"//between t1-->t2\n",
"vo_1 = 5;\n",
"Vc = 25;\n",
"//between t2-->t3\n",
"Rth = 0;\n",
"Eth = 5;\n",
"vo_2 =35;\n",
"tau = R*C;\n",
"discharge_time = 5*tau;\n",
"//between t3-->t4\n",
"vo_3 = 5;\n",
"\n",
"disp(vo_1,'output voltage during t1-->t2 : ');\n",
"disp(vo_2,'output voltage during t2-->t3 : ');\n",
"disp(vo_3,'output voltage during t3-->t4 : ');\n",
"\n",
"\n",
"t = 0:10^(-6):2.5*10^(-3);\n",
"\n",
"for i= 1:length(t)\n",
"    if(t(i)>=0 & t(i)<=0.5*10^(-3))\n",
"        y(i) = 0;\n",
"    elseif(t(i)>=0.5*10^(-3) & t(i)<=10^(-3))\n",
"        y(i) = 5;\n",
"    elseif(t(i)>=10^(-3) & t(i)<=1.5*10^(-3))\n",
"        y(i)=35;\n",
"    elseif(t(i)>=1.5*10^(-3) & t(i)<=2.0*10^(-3))\n",
"        y(i)=5;\n",
"    elseif(t(i)>=2.0*10^(-3) & t(i)<=2.5*10^(-3))\n",
"        y(i)=35;\n",
"    end\n",
"end\n",
"a = gca();\n",
"a.thickness = 2;\n",
"plot2d(t,y);\n",
"a.x_label.text = 't';\n",
"a.y_label.text = 'Vo';\n",
"xset('thickness',2);\n",
"xstring(0.5*10^(-3),0,'t1');\n",
"xstring(10^(-3),0,'t2');\n",
"xstring(1.5*10^(-3),0,'t3');\n",
"xstring(2*10^(-3),0,'t4');"
   ]
   }
,
{
		   "cell_type": "markdown",
		   "metadata": {},
		   "source": [
			"## Example 2.23: Sketch_output_waveform_using_Si_diode.sce"
		   ]
		  },
  {
"cell_type": "code",
	   "execution_count": null,
	   "metadata": {
	    "collapsed": true
	   },
	   "outputs": [],
"source": [
"clear; clc; close;\n",
"\n",
"f = 1000;\n",
"T = 1/f;\n",
"C = 0.1*10^(-6);\n",
"R = 100*10^(3);\n",
"Vk = 0.7;\n",
"//between t1-->t2\n",
"vo_1 = 4.3;\n",
"Vc = 25-0.7;\n",
"//between t2-->t3\n",
"Rth = 0;\n",
"Eth = 4.3;\n",
"vo_2 =34.3;\n",
"tau = R*C;\n",
"discharge_time = 5*tau;\n",
"//between t3-->t4\n",
"vo_3 = 5;\n",
"\n",
"disp(vo_1,'output voltage during t1-->t2 : ');\n",
"disp(vo_2,'output voltage during t2-->t3 : ');\n",
"disp(vo_3,'output voltage during t3-->t4 : ');\n",
"\n",
"\n",
"t = 0:10^(-6):2.5*10^(-3);\n",
"\n",
"for i= 1:length(t)\n",
"    if(t(i)>=0 & t(i)<=0.5*10^(-3))\n",
"        y(i) = 0;\n",
"    elseif(t(i)>=0.5*10^(-3) & t(i)<=10^(-3))\n",
"        y(i) = 4.3;\n",
"    elseif(t(i)>=10^(-3) & t(i)<=1.5*10^(-3))\n",
"        y(i)=34.3;\n",
"    elseif(t(i)>=1.5*10^(-3) & t(i)<=2.0*10^(-3))\n",
"        y(i)=4.3;\n",
"    elseif(t(i)>=2.0*10^(-3) & t(i)<=2.5*10^(-3))\n",
"        y(i)=34.3;\n",
"    end\n",
"end\n",
"a = gca();\n",
"a.thickness = 2;\n",
"plot2d(t,y);\n",
"a.x_label.text = 't';\n",
"a.y_label.text = 'Vo';\n",
"xset('thickness',2);\n",
"xstring(0.5*10^(-3),0,'t1');\n",
"xstring(10^(-3),0,'t2');\n",
"xstring(1.5*10^(-3),0,'t3');\n",
"xstring(2*10^(-3),0,'t4');\n",
"xstring(0,4.3,'4.3');\n",
"xstring(0,34.3,'34.3');"
   ]
   }
,
{
		   "cell_type": "markdown",
		   "metadata": {},
		   "source": [
			"## Example 2.24: Voltages_and_Power_calculation.sce"
		   ]
		  },
  {
"cell_type": "code",
	   "execution_count": null,
	   "metadata": {
	    "collapsed": true
	   },
	   "outputs": [],
"source": [
"clear; clc; close;\n",
"\n",
"E = 40;\n",
"Vk = 0.7;\n",
"Vz1 = 6;\n",
"Vz2 = 3.3;\n",
"R = 1.3*10^(3);\n",
"\n",
"Vo1 = Vz2 + Vk;\n",
"Vled =Vo1;\n",
"Vo2 = Vo1 + Vz1;\n",
"Vr = E-Vo2-Vled;\n",
"Ir = Vr/R;\n",
"Iled = Ir;\n",
"Iz = Ir;\n",
"Ps = E*Ir;\n",
"Pled = Vled*Iled;\n",
"Pz = Vz1*Iz;\n",
"\n",
"disp(Vo1,'Reference voltage 1 : ');\n",
"disp(Vo2,'Reference voltage 2 : ');\n",
"disp(Iled,'Level of current through led :');\n",
"disp(Ps,'Power supplied by circuit : ');\n",
"disp(Pled,'Power absorbed by led :');\n",
"disp(Pz,'Power absorbed by zener diode :');"
   ]
   }
,
{
		   "cell_type": "markdown",
		   "metadata": {},
		   "source": [
			"## Example 2.25: Sketch_output_waveform.sce"
		   ]
		  },
  {
"cell_type": "code",
	   "execution_count": null,
	   "metadata": {
	    "collapsed": true
	   },
	   "outputs": [],
"source": [
"clear; clc; close;\n",
"\n",
"\n",
"t = 0:0.1:2*%pi;\n",
"y = 60*sin(t);\n",
"\n",
"a = gca();\n",
"a.line_style = 3;\n",
"a.thickness = 2;\n",
"a.y_location = 'left';\n",
"a.x_location = 'middle';\n",
"a.x_label.text = 'time';\n",
"a.y_label.text = 'Voltage';\n",
"a.title.text = 'Network Response';\n",
"plot2d(t,y);\n",
"\n",
"\n",
"//a.grid = [1 1];\n",
"\n",
"t1 = (asin(1/3)):0.1:(%pi-asin(1/3));\n",
"\n",
"y1 = 20*(t1>=(asin(1/3)))\n",
"\n",
"b = gca();\n",
"b.line_style = 1;\n",
"plot2d(t1,y1);"
   ]
   }
,
{
		   "cell_type": "markdown",
		   "metadata": {},
		   "source": [
			"## Example 2.26_a: Vl_Vr_Iz_Pz.sce"
		   ]
		  },
  {
"cell_type": "code",
	   "execution_count": null,
	   "metadata": {
	    "collapsed": true
	   },
	   "outputs": [],
"source": [
"//Implementation of example 2.26_a in chapter 2\n",
"\n",
"clear; clc; close;\n",
"\n",
"Rl = 1.2*10^(3);\n",
"R = 10^(3);\n",
"Vi = 16;\n",
"Vz = 10;\n",
"\n",
"V = (Rl*Vi)/(R+Rl);\n",
"Vl = V;\n",
"Vr = Vi-Vl;\n",
"Iz = 0;\n",
"\n",
"Pz = Iz*Vz;\n",
"\n",
"disp(Vl,'Vl is : ');\n",
"disp(Vr,'Vr is :');\n",
"disp(Iz,'IZ is :');\n",
"disp(Pz,'Pz is :');"
   ]
   }
,
{
		   "cell_type": "markdown",
		   "metadata": {},
		   "source": [
			"## Example 2.26_b: Vl_Vr_Iz_Pz_with_different_Rl.sce"
		   ]
		  },
  {
"cell_type": "code",
	   "execution_count": null,
	   "metadata": {
	    "collapsed": true
	   },
	   "outputs": [],
"source": [
"clear; clc; close;\n",
"\n",
"Rl = 3*10^(3);\n",
"R = 10^(3);\n",
"Vi = 16;\n",
"Vz = 10;\n",
"\n",
"V = Vz;\n",
"Vl = V;\n",
"Vr = Vi-Vl;\n",
"Il = Vl/Rl;\n",
"Ir = Vr/R;\n",
"Iz = Ir - Il;\n",
"\n",
"\n",
"Pz = Iz*Vz;\n",
"\n",
"disp(Vl,'Vl is : ');\n",
"disp(Vr,'Vr is :');\n",
"disp(Iz,'IZ is :');\n",
"disp(Pz,'Pz is :');"
   ]
   }
,
{
		   "cell_type": "markdown",
		   "metadata": {},
		   "source": [
			"## Example 2.27: Rl_Il_Range_max_power_and_zener_increase.sce"
		   ]
		  },
  {
"cell_type": "code",
	   "execution_count": null,
	   "metadata": {
	    "collapsed": true
	   },
	   "outputs": [],
"source": [
"\n",
"clear; clc; close;\n",
"\n",
"R = 10^(3);\n",
"Vz = 10;\n",
"Vi = 50;\n",
"Izm = 32*10^(-3);\n",
"Pz = 380*10^(-3);\n",
"\n",
"Rlmin = (R*Vz)/(Vi-Vz);\n",
"Vr = Vi-Vz;\n",
"Ir = Vr/R;\n",
"Ilmin = Ir - Izm;\n",
"Rlmax = Vz/Ilmin;\n",
"Pmax = Vz*Izm;\n",
"Izm_2 = Pz/Vz;\n",
"Ilmin_2 = Ir - Izm_2;\n",
"\n",
"disp(Rlmin,'Lowest value of R : ' ); \n",
"disp(Rlmax,'Max value of R : ' );\n",
"disp(Ilmin,'Min value of I : ');\n",
"disp(Pmax,'Maximum wattage rating of diode : ')\n",
"disp(Ilmin_2,'New min value of I : ');"
   ]
   }
,
{
		   "cell_type": "markdown",
		   "metadata": {},
		   "source": [
			"## Example 2.28: Range_of_Vi.sce"
		   ]
		  },
  {
"cell_type": "code",
	   "execution_count": null,
	   "metadata": {
	    "collapsed": true
	   },
	   "outputs": [],
"source": [
"clear; clc; close;\n",
"\n",
"Rl = 1200;\n",
"R = 320;\n",
"Vz = 20;\n",
"Izm = 60*10^(-3);\n",
"\n",
"Vimin = ((Rl+R)*Vz)/(Rl);\n",
"Il = Vz/Rl;\n",
"Irmax = Izm+Il;\n",
"Vimax = Irmax*R + Vz;\n",
"disp(Vimin,'Min value of V :');\n",
"disp(Vimax,'Max value of V: ');\n",
""
   ]
   }
,
{
		   "cell_type": "markdown",
		   "metadata": {},
		   "source": [
			"## Example 2.2: Vdq_Vr_and_Idq_by_approx_equivalent_model.sce"
		   ]
		  },
  {
"cell_type": "code",
	   "execution_count": null,
	   "metadata": {
	    "collapsed": true
	   },
	   "outputs": [],
"source": [
"clear; clc; close;\n",
"\n",
"E = 10;    //volts\n",
"R = 500;    //ohms\n",
"\n",
"Vdq = 0.7;//volts\n",
"Idq = 18.5*10^(-3);//amperes\n",
"\n",
"diary('C:\Users\DELL\Desktop\intern\chapter_2\2_2.txt');\n",
"disp(Vdq,'Voltage at Q-point is :');\n",
"disp(Idq,'Current at Q-point is :');\n",
""
   ]
   }
,
{
		   "cell_type": "markdown",
		   "metadata": {},
		   "source": [
			"## Example 2.3: Vdq_Vr_and_Idq_by_ideal_diode_model.sce"
		   ]
		  },
  {
"cell_type": "code",
	   "execution_count": null,
	   "metadata": {
	    "collapsed": true
	   },
	   "outputs": [],
"source": [
"clear; clc; close;\n",
"\n",
"E = 10;    //volts\n",
"R = 500;    //ohms\n",
"\n",
"Vdq = 0;    //volts\n",
"Idq = 20*10^(-3);    //amperes\n",
"\n",
"diary('C:\Users\DELL\Desktop\intern\chapter_2\2_3.txt');\n",
"disp(Vdq,'Voltage at Q-point is :');\n",
"disp(Idq,'Current at Q-point is :');\n",
""
   ]
   }
,
{
		   "cell_type": "markdown",
		   "metadata": {},
		   "source": [
			"## Example 2.4: Vd_Vr_and_Id.sce"
		   ]
		  },
  {
"cell_type": "code",
	   "execution_count": null,
	   "metadata": {
	    "collapsed": true
	   },
	   "outputs": [],
"source": [
"clear; clc; close;\n",
"\n",
"E = 8;    //volts\n",
"R = 2.2*10^(3);    //ohms\n",
"\n",
"Vd = 0.7;    //Diode is on\n",
"Vr = E-Vd;\n",
"Id = Vr/R;\n",
"\n",
"diary('C:\Users\DELL\Desktop\intern\chapter_2\2_4.txt');\n",
"disp(Vd,'Diode Volatge is : ');\n",
"disp(Vr,'Voltage across R is : ');\n",
"disp(Id,'Current through diode is : ');"
   ]
   }
,
{
		   "cell_type": "markdown",
		   "metadata": {},
		   "source": [
			"## Example 2.5: Vd_Vr_and_Id_with_diode_reversed.sce"
		   ]
		  },
  {
"cell_type": "code",
	   "execution_count": null,
	   "metadata": {
	    "collapsed": true
	   },
	   "outputs": [],
"source": [
"clear; clc; close;\n",
"\n",
"E = 8;    //volts\n",
"R = 2.2*10^(3);    //ohms\n",
"\n",
"Id = 0;    //diode reversed\n",
"Vr = Id*R;\n",
"Vd = E-Vr;\n",
"\n",
"diary('C:\Users\DELL\Desktop\intern\chapter_2\2_5.txt');\n",
"disp(Vd,'Diode Volatge is : ');\n",
"disp(Vr,'Voltage across R is : ');\n",
"disp(Id,'Current through diode is : ');\n",
""
   ]
   }
,
{
		   "cell_type": "markdown",
		   "metadata": {},
		   "source": [
			"## Example 2.6: Vd_Vr_and_Id_for_series_diode_config.sce"
		   ]
		  },
  {
"cell_type": "code",
	   "execution_count": null,
	   "metadata": {
	    "collapsed": true
	   },
	   "outputs": [],
"source": [
"clear; clc; close;\n",
"\n",
"E = 0.5;    //volts\n",
"R = 1.2*10^(3);    //ohms\n",
"\n",
"Id = 0;    //diode off\n",
"Vr = Id*R;\n",
"Vd = E;\n",
"\n",
"diary('C:\Users\DELL\Desktop\intern\chapter_2\2_6.txt');\n",
"disp(Vd,'Diode Volatge is : ');\n",
"disp(Vr,'Voltage across R is : ');\n",
"disp(Id,'Current through diode is : ');"
   ]
   }
,
{
		   "cell_type": "markdown",
		   "metadata": {},
		   "source": [
			"## Example 2.7: Vo_and_Id_calculation.sce"
		   ]
		  },
  {
"cell_type": "code",
	   "execution_count": null,
	   "metadata": {
	    "collapsed": true
	   },
	   "outputs": [],
"source": [
"clear; clc; close;\n",
"\n",
"E = 12;    //volts\n",
"Vk1 = 0.7;    //volts\n",
"Vk2 = 1.8;    //volts\n",
"R = 0.680*10^(3);    //ohms\n",
"\n",
"Vo = E-Vk1-Vk2;\n",
"Id = Vo/R;\n",
"\n",
"diary('C:\Users\DELL\Desktop\intern\chapter_2\2_7.txt');\n",
"disp(Vo,'Output Volatge is : ');\n",
"disp(Id,'Output Current is : ');\n",
""
   ]
   }
,
{
		   "cell_type": "markdown",
		   "metadata": {},
		   "source": [
			"## Example 2.8: Id_Vd2_and_Vo_calculation.sce"
		   ]
		  },
  {
"cell_type": "code",
	   "execution_count": null,
	   "metadata": {
	    "collapsed": true
	   },
	   "outputs": [],
"source": [
"clear; clc; close;\n",
"\n",
"E = 20;    //volts\n",
"R = 5.6*10^(3);    //ohms\n",
"\n",
"Id = 0;    //amperes\n",
"Vd1 = 0;\n",
"Vo = Id*R;\n",
"Vd2 = E;\n",
"\n",
"\n",
"diary('C:\Users\DELL\Desktop\intern\chapter_2\2_8.txt');\n",
"disp(Vo,'Output Volatge is : ');\n",
"disp(Id,'Output Current is : ');\n",
"disp(Vd2,'Voltage across diode 2 is :')\n",
""
   ]
   }
,
{
		   "cell_type": "markdown",
		   "metadata": {},
		   "source": [
			"## Example 2.9: I_V1_V2_and_Vo_calculation.sce"
		   ]
		  },
  {
"cell_type": "code",
	   "execution_count": null,
	   "metadata": {
	    "collapsed": true
	   },
	   "outputs": [],
"source": [
"clear; clc; close;\n",
"\n",
"E1 = 10;    //volts\n",
"E2 = 5;    //volts\n",
"R1 = 4.7*10^(3);    //ohms\n",
"R2 = 2.2*10^(3);    //ohms\n",
"\n",
"Vd = 0.7;    //volts\n",
"I = (E1+E2-Vd)/(R1+R2);\n",
"V1 = I*R1;\n",
"V2 = I*R2;\n",
"Vo = V2 - E2;\n",
"\n",
"diary('C:\Users\DELL\Desktop\intern\chapter_2\2_9.txt');\n",
"disp(Vo,'Output Volatge is : ');\n",
"disp(I,'Output Current is : ');\n",
"disp(V1,'Voltage across resistance 1 is :');\n",
"disp(V2,'Voltage across resistance 2 is :');\n",
""
   ]
   }
],
"metadata": {
		  "kernelspec": {
		   "display_name": "Scilab",
		   "language": "scilab",
		   "name": "scilab"
		  },
		  "language_info": {
		   "file_extension": ".sce",
		   "help_links": [
			{
			 "text": "MetaKernel Magics",
			 "url": "https://github.com/calysto/metakernel/blob/master/metakernel/magics/README.md"
			}
		   ],
		   "mimetype": "text/x-octave",
		   "name": "scilab",
		   "version": "0.7.1"
		  }
		 },
		 "nbformat": 4,
		 "nbformat_minor": 0
}
