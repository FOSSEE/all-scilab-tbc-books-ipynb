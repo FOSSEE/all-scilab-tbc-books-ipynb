{
"cells": [
 {
		   "cell_type": "markdown",
	   "metadata": {},
	   "source": [
       "# Chapter 10: Operational Amplifiers"
	   ]
	},
{
		   "cell_type": "markdown",
		   "metadata": {},
		   "source": [
			"## Example 10.10: Total_offset_voltage.sce"
		   ]
		  },
  {
"cell_type": "code",
	   "execution_count": null,
	   "metadata": {
	    "collapsed": true
	   },
	   "outputs": [],
"source": [
"clear; clc; close;\n",
"\n",
"Iio = 150*10^(-9);\n",
"Rf = 500*10^(3);\n",
"R1 = 5*10^(3);\n",
"Vio = 4*10^(-3);\n",
"\n",
"Vo_vio = Vio*(R1+Rf)/R1;\n",
"Vo_io = Iio*Rf;\n",
"Vo = Vo_vio+Vo_io;\n",
"\n",
"disp(Vo,'Total voltage offset(Volts) = ');"
   ]
   }
,
{
		   "cell_type": "markdown",
		   "metadata": {},
		   "source": [
			"## Example 10.11: Input_bias_current.sce"
		   ]
		  },
  {
"cell_type": "code",
	   "execution_count": null,
	   "metadata": {
	    "collapsed": true
	   },
	   "outputs": [],
"source": [
"clear; clc; close;\n",
"\n",
"Iio = 5*10^(-9);\n",
"Iib = 30*10^(-9);\n",
"\n",
"Iib_positive = Iib + Iio/2;\n",
"Iib_negative = Iib -Iio/2;\n",
"\n",
"disp(Iib_positive,'Positive input bias current(Amperes) = ');\n",
"disp(Iib_negative,'Negative input bias current(Amperes) = ');\n",
""
   ]
   }
,
{
		   "cell_type": "markdown",
		   "metadata": {},
		   "source": [
			"## Example 10.12: Cut_off_frequency.sce"
		   ]
		  },
  {
"cell_type": "code",
	   "execution_count": null,
	   "metadata": {
	    "collapsed": true
	   },
	   "outputs": [],
"source": [
"clear; clc; close;\n",
"\n",
"B1 = 1*10^(6);\n",
"Avd = 200*10^(3);//converting from V/mV\n",
"\n",
"f1 = B1;\n",
"fc = f1/Avd;\n",
"\n",
"disp(fc,'Cutoff frequency(Hertz) = ')"
   ]
   }
,
{
		   "cell_type": "markdown",
		   "metadata": {},
		   "source": [
			"## Example 10.13: Maximum_closed_loop_voltage_gai.sce"
		   ]
		  },
  {
"cell_type": "code",
	   "execution_count": null,
	   "metadata": {
	    "collapsed": true
	   },
	   "outputs": [],
"source": [
"clear; clc; close;\n",
"\n",
"SR = 2;\n",
"Vi_delta = 0.5;\n",
"t_delta = 10;\n",
"\n",
"Acl = SR/(Vi_delta/t_delta);\n",
"\n",
"disp(Acl,'Maximum Closed loop voltage gain = ');"
   ]
   }
,
{
		   "cell_type": "markdown",
		   "metadata": {},
		   "source": [
			"## Example 10.14: Maximum_frequency.sce"
		   ]
		  },
  {
"cell_type": "code",
	   "execution_count": null,
	   "metadata": {
	    "collapsed": true
	   },
	   "outputs": [],
"source": [
"clear; clc; close;\n",
"\n",
"Rf = 240*10^(3);\n",
"R1 = 10*10^(3);\n",
"Vi = 0.02;\n",
"w = 300*10^(3);\n",
"SR = 0.5;\n",
"\n",
"Acl = abs(Rf/R1);\n",
"K = Acl*Vi;\n",
"w1 = SR/K;\n",
"\n",
"disp(w,'Since this frequency is much less than maximum obtained,hence no distortion will be observed');"
   ]
   }
,
{
		   "cell_type": "markdown",
		   "metadata": {},
		   "source": [
			"## Example 10.15: Current_drawn_calculation.sce"
		   ]
		  },
  {
"cell_type": "code",
	   "execution_count": null,
	   "metadata": {
	    "collapsed": true
	   },
	   "outputs": [],
"source": [
"clear; clc; close;\n",
"\n",
"V = 12;\n",
"P = 250*10^(-3);\n",
"\n",
"I = P/V;\n",
"\n",
"disp(I,'Current drawn(Amperes) = ');\n",
""
   ]
   }
,
{
		   "cell_type": "markdown",
		   "metadata": {},
		   "source": [
			"## Example 10.16: Output_offset_voltage.sce"
		   ]
		  },
  {
"cell_type": "code",
	   "execution_count": null,
	   "metadata": {
	    "collapsed": true
	   },
	   "outputs": [],
"source": [
"clear; clc; close;\n",
"\n",
"Rf = 360*10^(3);\n",
"R1 = 12*10^(3);\n",
"Iio = 20*10^(-9);\n",
"Vio = 1*10^(-3);\n",
"\n",
"Vo_vio = Vio*(R1+Rf)/R1;\n",
"Vo_iio = Iio*Rf;\n",
"Vo = Vo_vio + Vo_iio;\n",
"\n",
"disp(Vo,'Output offset voltage(Volts) = ');\n",
""
   ]
   }
,
{
		   "cell_type": "markdown",
		   "metadata": {},
		   "source": [
			"## Example 10.17: Gain_and_input_output_impedance_calculation.sce"
		   ]
		  },
  {
"cell_type": "code",
	   "execution_count": null,
	   "metadata": {
	    "collapsed": true
	   },
	   "outputs": [],
"source": [
"clear; clc; close;\n",
"\n",
"Rf = 360*10^(3);\n",
"R1 = 12*10^(3);\n",
"ro = 75;\n",
"A = 200*10^(3);\n",
"Beta = 1/30;\n",
"\n",
"Acl = -Rf/R1;\n",
"Zi = R1;\n",
"Zo = ro/(1+Beta*A)\n",
"\n",
"disp(Acl,'Acl = ');\n",
"disp(Zi,'Zi(Ohms) = ');\n",
"disp(Zo,'Zo(Ohms) = ');\n",
""
   ]
   }
,
{
		   "cell_type": "markdown",
		   "metadata": {},
		   "source": [
			"## Example 10.18: Cut_off_frequency.sce"
		   ]
		  },
  {
"cell_type": "code",
	   "execution_count": null,
	   "metadata": {
	    "collapsed": true
	   },
	   "outputs": [],
"source": [
"clear; clc; close;\n",
"\n",
"B1 = 1*10^(6);\n",
"Avd = 20*10^3;\n",
"\n",
"f1 = B1;\n",
"fc = f1/Avd;\n",
"\n",
"\n",
"disp(fc,'Cutoff frequency(Hertz) = ');"
   ]
   }
,
{
		   "cell_type": "markdown",
		   "metadata": {},
		   "source": [
			"## Example 10.19: Maximum_frequency.sce"
		   ]
		  },
  {
"cell_type": "code",
	   "execution_count": null,
	   "metadata": {
	    "collapsed": true
	   },
	   "outputs": [],
"source": [
"clear; clc; close;\n",
"\n",
"Vi = 25*10^(-3);\n",
"Acl = 30;\n",
"SR = 0.5*10^6;//convertin from us to s \n",
"\n",
"K = Acl*Vi;\n",
"fmax = SR/(2*%pi*K);\n",
"\n",
"disp(fmax,'Maximum frequency(Hertz) = ');\n",
""
   ]
   }
,
{
		   "cell_type": "markdown",
		   "metadata": {},
		   "source": [
			"## Example 10.1: Dc_voltages_and_currents_calculation.sce"
		   ]
		  },
  {
"cell_type": "code",
	   "execution_count": null,
	   "metadata": {
	    "collapsed": true
	   },
	   "outputs": [],
"source": [
"clear; clc; close;\n",
"\n",
"Vcc = 9;\n",
"Vee = Vcc;\n",
"Rc = 3.9*10^(3);\n",
"Re = 3.3*10^(3);\n",
"\n",
"\n",
"Ie = (Vee-0.7)/Re;\n",
"Ic = Ie/2;\n",
"Vc = Vcc-Ic*Rc;\n",
"\n",
"disp(Ie,'Emitter current(Amperes) = ');\n",
"disp(Ic,'Collector current(Amperes) = ');\n",
"disp(Vc,'Collector voltage(Volts) = ');"
   ]
   }
,
{
		   "cell_type": "markdown",
		   "metadata": {},
		   "source": [
			"## Example 10.20: Open_loop_voltage_gain.sce"
		   ]
		  },
  {
"cell_type": "code",
	   "execution_count": null,
	   "metadata": {
	    "collapsed": true
	   },
	   "outputs": [],
"source": [
"clear; clc; close;\n",
"\n",
"Avd_db = 104;\n",
"Avd = 10^(104/20);\n",
"\n",
"disp(Avd,'Open loop voltage gain(Volts) = ');\n",
""
   ]
   }
,
{
		   "cell_type": "markdown",
		   "metadata": {},
		   "source": [
			"## Example 10.21: CMRR_calculatio.sce"
		   ]
		  },
  {
"cell_type": "code",
	   "execution_count": null,
	   "metadata": {
	    "collapsed": true
	   },
	   "outputs": [],
"source": [
"clear; clc; close;\n",
"\n",
"Vo = 8;\n",
"Vo_1 = 12*10^(-3);\n",
"Vd = 1*10^(-3);\n",
"Vc = 1*10^(-3);\n",
"\n",
"\n",
"Ad = Vo/Vd;\n",
"Ac = Vo_1/Vc;\n",
"CMRR = Ad/Ac;\n",
"CMRR = 20*log10(Ad/Ac);\n",
"\n",
"disp(CMRR,'CMRR(dB) = ');\n",
""
   ]
   }
,
{
		   "cell_type": "markdown",
		   "metadata": {},
		   "source": [
			"## Example 10.22: Output_voltage.sce"
		   ]
		  },
  {
"cell_type": "code",
	   "execution_count": null,
	   "metadata": {
	    "collapsed": true
	   },
	   "outputs": [],
"source": [
"clear; clc; close;\n",
"\n",
"Vi1 = 150*10^(-6);\n",
"Vi2 = 140*10^(-6);\n",
"Ad = 4000;\n",
"\n",
"//part a \n",
"CMRR = 100;\n",
"\n",
"Vd = Vi1 - Vi2;\n",
"Vc = 1/2*(Vi1+Vi2);\n",
"Vo = Ad*Vd*(1+(1/CMRR)*(Vc/Vd));\n",
"disp(Vo,'Output voltage(Volts) = ');\n",
"\n",
"\n",
"//part b\n",
"\n",
"CMRR = 100000;\n",
"\n",
"Vd = Vi1 - Vi2;\n",
"Vc = 1/2*(Vi1+Vi2);\n",
"Vo = Ad*Vd*(1+(1/CMRR)*(Vc/Vd));\n",
"disp(Vo,'Output voltage(Volts) = ');"
   ]
   }
,
{
		   "cell_type": "markdown",
		   "metadata": {},
		   "source": [
			"## Example 10.2: Single_ended_output_voltage.sce"
		   ]
		  },
  {
"cell_type": "code",
	   "execution_count": null,
	   "metadata": {
	    "collapsed": true
	   },
	   "outputs": [],
"source": [
"clear; clc; close;\n",
"\n",
"Vcc = 9;\n",
"Vee = Vcc;\n",
"Vi = 2*10^(-3);\n",
"Rc = 47*10^(3);\n",
"Re = 43*10^(3);\n",
"\n",
"\n",
"Ie = (Vee-0.7)/Re;\n",
"Ic = Ie/2;\n",
"Vc = Vcc-Ic*Rc;\n",
"re = 26/0.0965;\n",
"Av = Rc/(2*re);\n",
"Vo = Av*Vi;\n",
"\n",
"disp(Vo,'Single ended output voltage(Volts) = ');"
   ]
   }
,
{
		   "cell_type": "markdown",
		   "metadata": {},
		   "source": [
			"## Example 10.3: Common_mode_gain.sce"
		   ]
		  },
  {
"cell_type": "code",
	   "execution_count": null,
	   "metadata": {
	    "collapsed": true
	   },
	   "outputs": [],
"source": [
"clear; clc; close;\n",
"\n",
"Beta = 75;\n",
"Rc = 47*10^(3);\n",
"ri = 20*10^(3);\n",
"Re = 43*10^(3);\n",
"\n",
"Ac = Beta*Rc/(ri+2*(Beta+1)*Re);\n",
"\n",
"disp(Ac,'Common mode gain = ');"
   ]
   }
,
{
		   "cell_type": "markdown",
		   "metadata": {},
		   "source": [
			"## Example 10.4: Common_mode_gain.sce"
		   ]
		  },
  {
"cell_type": "code",
	   "execution_count": null,
	   "metadata": {
	    "collapsed": true
	   },
	   "outputs": [],
"source": [
"clear; clc; close;\n",
"\n",
"Beta = 75;\n",
"Rc = 10*10^(3);\n",
"ri = 11*10^(3);\n",
"Re = 200*10^(3);\n",
"ro = 200*10^(3);\n",
"\n",
"Re = ro;\n",
"Ac = Beta*Rc/(ri+2*(Beta+1)*Re);\n",
"\n",
"disp(Ac,'Common mode gain = ');\n",
"\n",
""
   ]
   }
,
{
		   "cell_type": "markdown",
		   "metadata": {},
		   "source": [
			"## Example 10.5: Output_voltage.sce"
		   ]
		  },
  {
"cell_type": "code",
	   "execution_count": null,
	   "metadata": {
	    "collapsed": true
	   },
	   "outputs": [],
"source": [
"clear; clc; close;\n",
"\n",
"Rf = 500*10^(3);\n",
"R1 = 100*10^(3);\n",
"V1 = 2;\n",
"\n",
"Vo = -(Rf/R1)*V1;\n",
"\n",
"disp(Vo,'Output voltage(Volts) = ');"
   ]
   }
,
{
		   "cell_type": "markdown",
		   "metadata": {},
		   "source": [
			"## Example 10.6: Output_voltage.sce"
		   ]
		  },
  {
"cell_type": "code",
	   "execution_count": null,
	   "metadata": {
	    "collapsed": true
	   },
	   "outputs": [],
"source": [
"clear; clc; close;\n",
"\n",
"Rf = 500*10^(3);\n",
"R1 = 100*10^(3);\n",
"V1 = 2;\n",
"\n",
"Vo = (1+(Rf/R1))*V1;\n",
"\n",
"disp(Vo,'Output voltage(Volts) = ');\n",
""
   ]
   }
,
{
		   "cell_type": "markdown",
		   "metadata": {},
		   "source": [
			"## Example 10.7: Output_voltage.sce"
		   ]
		  },
  {
"cell_type": "code",
	   "execution_count": null,
	   "metadata": {
	    "collapsed": true
	   },
	   "outputs": [],
"source": [
"clear; clc; close;\n",
"\n",
"//part a\n",
"\n",
"V1 = 1;\n",
"V2 = 2;\n",
"V3 = 3;\n",
"R1 = 500*10^(3);\n",
"R2 = 1*10^(6);\n",
"R3 = 1*10^(6);\n",
"Rf = 1000*10^(3);\n",
"\n",
"Vo = -((Rf/R1)*V1+(Rf/R2)*V2+(Rf/R3)*V3);\n",
"disp(Vo,'Output voltage(Volts) = ');\n",
"\n",
"//part b\n",
"\n",
"\n",
"V1 = -2;\n",
"V2 = 3;\n",
"V3 = 1;\n",
"R1 = 200*10^(3);\n",
"R2 = 500*10^(3);\n",
"R3 = 1*10^(6);\n",
"Rf = 1000*10^(3);\n",
"\n",
"Vo = -((Rf/R1)*V1+(Rf/R2)*V2+(Rf/R3)*V3);\n",
"disp(Vo,'Output voltage(Volts) = ');"
   ]
   }
,
{
		   "cell_type": "markdown",
		   "metadata": {},
		   "source": [
			"## Example 10.8: Output_offset_voltage.sce"
		   ]
		  },
  {
"cell_type": "code",
	   "execution_count": null,
	   "metadata": {
	    "collapsed": true
	   },
	   "outputs": [],
"source": [
"clear; clc; close;\n",
"\n",
"Vio = 1.2*10^(-3);\n",
"R1 = 2*10^(3);\n",
"Rf = 150*10^(3);\n",
"\n",
"Vo = Vio*((R1+Rf)/R1);\n",
"disp(Vo,'Output offset voltage(Volts) = ');"
   ]
   }
,
{
		   "cell_type": "markdown",
		   "metadata": {},
		   "source": [
			"## Example 10.9: Output_offset_voltage.sce"
		   ]
		  },
  {
"cell_type": "code",
	   "execution_count": null,
	   "metadata": {
	    "collapsed": true
	   },
	   "outputs": [],
"source": [
"clear; clc; close;\n",
"\n",
"Iio = 100*10^(-9);\n",
"Rf = 150*10^(3);\n",
"\n",
"Vo = Iio*Rf;\n",
"disp(Vo,'Output offset voltage(Volts) = ');"
   ]
   }
],
"metadata": {
		  "kernelspec": {
		   "display_name": "Scilab",
		   "language": "scilab",
		   "name": "scilab"
		  },
		  "language_info": {
		   "file_extension": ".sce",
		   "help_links": [
			{
			 "text": "MetaKernel Magics",
			 "url": "https://github.com/calysto/metakernel/blob/master/metakernel/magics/README.md"
			}
		   ],
		   "mimetype": "text/x-octave",
		   "name": "scilab",
		   "version": "0.7.1"
		  }
		 },
		 "nbformat": 4,
		 "nbformat_minor": 0
}
