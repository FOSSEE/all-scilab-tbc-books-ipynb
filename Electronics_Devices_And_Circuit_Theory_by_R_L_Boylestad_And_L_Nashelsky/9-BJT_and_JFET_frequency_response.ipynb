{
"cells": [
 {
		   "cell_type": "markdown",
	   "metadata": {},
	   "source": [
       "# Chapter 9: BJT and JFET frequency response"
	   ]
	},
{
		   "cell_type": "markdown",
		   "metadata": {},
		   "source": [
			"## Example 9.10: Frequency_and_bode_plot.sce"
		   ]
		  },
  {
"cell_type": "code",
	   "execution_count": null,
	   "metadata": {
	    "collapsed": true
	   },
	   "outputs": [],
"source": [
"clear; clc; close;\n",
"\n",
"Cs = 10*10^(-6);\n",
"Ce = 20*10^(-6);\n",
"Cc = 1*10^(-6);\n",
"Rs = 1*10^(3);\n",
"R1 = 40*10^(3);\n",
"R2 = 10*10^(3);\n",
"Re = 1.2*10^(3);\n",
"Rc = 4*10^(3);\n",
"Rl = 10*10^(3);\n",
"Beta = 100;\n",
"ro = %inf;\n",
"Vcc = 10;\n",
"Ve = 2-0.7;\n",
"\n",
"Vb = R2*Vcc/(R2+R1);\n",
"Ie = Ve/Re;\n",
"re = 26*10^(-3)/(1.083*10^(-3));\n",
"x = Beta*re;\n",
"Av = -Rc*Rl/((Rc+Rl)*re);\n",
"Zi = R1*R2*x/(R1*R2+R2*x+x*R1);\n",
"Ri = Zi;\n",
"Vi_by_Vs = Ri/(Ri+Rs);\n",
"Avs = Av*Vi_by_Vs;\n",
"fls = 1/(2*%pi*(Rs+Ri)*Cs);\n",
"disp(fls,'Low cutoff frequency is ');\n",
"\n",
"f1 = fls;\n",
"f = 1:10:10*f1;\n",
"av = (1+(f1./f)^2)^(-1/2);\n",
"av1 = -20*log10(f1/f1);\n",
"f2 = f1/10;\n",
"av2 = -20*log10(f1/f2);\n",
"f3 = f1/4;\n",
"av3 = -20*log10(f1/f3);\n",
"f4 = f1/2;\n",
"av4 = -20*log10(f1/f4);\n",
"\n",
"\n",
"x = [f2 f3 f4 f1];\n",
"y = [av2 av3 av4 av1];\n",
"\n",
"gainplot(f,av);\n",
"a = gca();\n",
"a.y_location = 'left';\n",
"a.x_location = 'top';\n",
"a.x_label.text = 'frequency';\n",
"a.y_label.text = 'Av';\n",
"a.title.text = 'Bode';\n",
"plot2d(x,y);"
   ]
   }
,
{
		   "cell_type": "markdown",
		   "metadata": {},
		   "source": [
			"## Example 9.11: Frequency_and_bode_plot.sce"
		   ]
		  },
  {
"cell_type": "code",
	   "execution_count": null,
	   "metadata": {
	    "collapsed": true
	   },
	   "outputs": [],
"source": [
"clear; clc; close;\n",
"\n",
"Cs = 2*10^(-6);\n",
"Cg = 0.01*10^(-6);\n",
"Cc = 0.5*10^(-6);\n",
"Rs = 1*10^(3);\n",
"Rg = 1*10^(6);\n",
"Rsig = 10*10^(3);\n",
"Rd = 4.7*10^(3);\n",
"Rl = 2.2*10^(3);\n",
"\n",
"Idss = 8*10^(-3);\n",
"Vp = -4;\n",
"rd = %inf;\n",
"Vdd = 20;\n",
"\n",
"Vgsq = -2;\n",
"Idq = 2*10^(-3);\n",
"gmo = 2*Idss/abs(Vp);\n",
"gm = gmo*(1-(Vgsq/Vp));\n",
"flg = 1/(2*%pi*(Rsig+Rg)*Cg);\n",
"flc = 1/(2*%pi*(Rd+Rl)*Cc);\n",
"Req = Rs*(1/gm)/(Rs+(1/gm));\n",
"fls = 1/(2*%pi*Req*Cs);\n",
"Avmid = -gm*(Rd*Rl/(Rd+Rl));\n",
"\n",
"disp(fls,'Lowest frequency cutoff = ');\n",
"disp(Avmid,'midband gain = ');\n",
"\n",
"f1 = fls;\n",
"f = .1*f1:10:5*f1;\n",
"av = (1+(f1./f)^2)^(-1/2);\n",
"av1 = -20*log10(f1/f1);\n",
"f2 = f1/10;\n",
"av2 = -20*log10(f1/f2);\n",
"f3 = f1/4;\n",
"av3 = -20*log10(f1/f3);\n",
"f4 = f1/2;\n",
"av4 = -20*log10(f1/f4);\n",
"\n",
"x = [f2 f3 f4 f1];\n",
"y = [av2 av3 av4 av1];\n",
"\n",
"gainplot(f,av);\n",
"a = gca();\n",
"a.y_location = 'left';\n",
"a.x_location = 'top';\n",
"a.x_label.text = 'frequency';\n",
"a.y_label.text = 'Av';\n",
"a.title.text = 'Bode';\n",
"plot2d(x,y);\n",
"\n",
"\n",
"f1 = flg;\n",
"//f = .1*f1:10:10*f1;\n",
"av = -10*log10(1+(f1./f)^2);\n",
"av1 = -20*log10(f1/f1);\n",
"f2 = f1/10;\n",
"av2 = -20*log10(f1/f2);\n",
"f3 = f1/4;\n",
"av3 = -20*log10(f1/f3);\n",
"f4 = f1/2;\n",
"av4 = -20*log10(f1/f4);\n",
"\n",
"x = [f2 f3 f4 f1];\n",
"y = [av2 av3 av4 av1];\n",
"\n",
"plot2d(x,y);\n",
"\n",
"f1 = flc;\n",
"//f = .1*f1:10:10*f1;\n",
"av = -10*log10(1+(f1./f)^2);\n",
"av1 = -20*log10(f1/f1);\n",
"f2 = f1/10;\n",
"av2 = -20*log10(f1/f2);\n",
"f3 = f1/4;\n",
"av3 = -20*log10(f1/f3);\n",
"f4 = f1/2;\n",
"av4 = -20*log10(f1/f4);\n",
"\n",
"x = [f2 f3 f4 f1];\n",
"y = [av2 av3 av4 av1];\n",
"plot2d(x,y);"
   ]
   }
,
{
		   "cell_type": "markdown",
		   "metadata": {},
		   "source": [
			"## Example 9.12: Frequency.sce"
		   ]
		  },
  {
"cell_type": "code",
	   "execution_count": null,
	   "metadata": {
	    "collapsed": true
	   },
	   "outputs": [],
"source": [
"clear; clc; close;\n",
"\n",
"Cs = 10*10^(-6);\n",
"Ce = 20*10^(-6);\n",
"Cc = 1*10^(-6);\n",
"Rs = 1*10^(3);\n",
"R1 = 40*10^(3);\n",
"R2 = 10*10^(3);\n",
"Re = 2*10^(3);\n",
"Rc = 4*10^(3);\n",
"Rl = 2.2*10^(3);\n",
"Beta = 100;\n",
"ro = %inf;\n",
"re = 15.76;\n",
"Vcc = 20;\n",
"Ve = 4-0.7;\n",
"Cwo = 8*10^(-12);\n",
"Cwi = 6*10^(-12);\n",
"Cce = 1*10^(-12);\n",
"Cbc = 4*10^(-12);\n",
"Cbe = 36*10^(-12);\n",
"fls = 6.86;\n",
"\n",
"Ri = 1.32*10^(3);\n",
"Avmid = -90;\n",
"Rthi = Rs*R1*R2*Ri/(Rs*R1*R2+R1*R2*Ri+R2*Ri*Rs+Ri*Rs*R1);\n",
"Ci = Cwi+Cbe+(1-Avmid)*Cbc;\n",
"fhi = 1/(2*%pi*Rthi*Ci);\n",
"Rtho = Rc*Rl/(Rc+Rl);\n",
"Co = Cwo+Cce+(1-(1/Avmid))*Cbc;\n",
"fho = 1/(2*%pi*Rtho*Co);\n",
"fbeta = 1/(2*%pi*Beta*re*(Cbe+Cbc));\n",
"ft = Beta*fbeta;\n",
"disp(fhi,'fhi = ');\n",
"disp(fho,'fho = ');\n",
"disp(fbeta,'fbeta = ');\n",
"disp(ft,'ft = ');"
   ]
   }
,
{
		   "cell_type": "markdown",
		   "metadata": {},
		   "source": [
			"## Example 9.13: Frequency_and_bode_plot.sce"
		   ]
		  },
  {
"cell_type": "code",
	   "execution_count": null,
	   "metadata": {
	    "collapsed": true
	   },
	   "outputs": [],
"source": [
"clear; clc; close;\n",
"\n",
"Cs = 10*10^(-6);\n",
"Ce = 20*10^(-6);\n",
"Cc = 1*10^(-6);\n",
"Rs = 1*10^(3);\n",
"R1 = 40*10^(3);\n",
"R2 = 10*10^(3);\n",
"Re = 1.2*10^(3);\n",
"Rc = 4*10^(3);\n",
"Rl = 10*10^(3);\n",
"Beta = 100;\n",
"ro = %inf;\n",
"re = 24.01;\n",
"Vcc = 10;\n",
"Ve = 2-0.7;\n",
"Cwo = 8*10^(-12);\n",
"Cwi = 6*10^(-12);\n",
"Cce = 1*10^(-12);\n",
"Cbc = 4*10^(-12);\n",
"Cbe = 36*10^(-12);\n",
"fls = 6.86;\n",
"\n",
"Ri = 1.85*10^(3);\n",
"Avmid = -119;\n",
"Rthi = Rs*R1*R2*Ri/(Rs*R1*R2+R1*R2*Ri+R2*Ri*Rs+Ri*Rs*R1);\n",
"Ci = Cwi+Cbe+(1-Avmid)*Cbc;\n",
"fhi = 1/(2*%pi*Rthi*Ci);\n",
"Rtho = Rc*Rl/(Rc+Rl);\n",
"Co = Cwo+Cce+(1-(1/Avmid))*Cbc;\n",
"fho = 1/(2*%pi*Rtho*Co);\n",
"fpie = 1/(2*%pi*Beta*re*(Cbe+Cbc));\n",
"ft = Beta*fpie;\n",
"\n",
"disp(fhi,'fhi = ');\n",
"disp(fho,'fho = ');\n",
"disp(fpie,'fbeta = ');\n",
"disp(ft,'ft = ');\n",
"fle = 500;\n",
"flc = 1/(2*%pi*(Rl+Rtho)*Cc);\n",
"\n",
"f1 = fle;\n",
"f = 0.1*f1:100:10*f1;\n",
"av = (1+(f1./f)^2)^(-1/2);\n",
"av1 = -20*log10(f1/f1);\n",
"f2 = f1/10;\n",
"av2 = -20*log10(f1/f2);\n",
"f3 = f1/4;\n",
"av3 = -20*log10(f1/f3);\n",
"f4 = f1/2;\n",
"av4 = -20*log10(f1/f4);\n",
"\n",
"x = [f2 f3 f4 f1];\n",
"y = [av2 av3 av4 av1];\n",
"\n",
"gainplot(f,av);\n",
"a = gca();\n",
"a.y_location = 'left';\n",
"a.x_location = 'top';\n",
"a.x_label.text = 'frequency';\n",
"a.y_label.text = 'Av';\n",
"a.title.text = 'Bode';\n",
"plot2d(x,y);\n",
"\n",
"\n",
"f1 = fls;\n",
"//f = .1*f1:10:10*f1;\n",
"av = -10*log10(1+(f1./f)^2);\n",
"av1 = -20*log10(f1/f1);\n",
"f2 = f1/10;\n",
"av2 = -20*log10(f1/f2);\n",
"f3 = f1/4;\n",
"av3 = -20*log10(f1/f3);\n",
"f4 = f1/2;\n",
"av4 = -20*log10(f1/f4);\n",
"\n",
"x = [f2 f3 f4 f1];\n",
"y = [av2 av3 av4 av1];\n",
"plot2d(x,y);\n",
"\n",
"\n",
"f1 = flc;\n",
"//f = .1*f1:10:10*f1;\n",
"av = -10*log10(1+(f1./f)^2);\n",
"av1 = -20*log10(f1/f1);\n",
"f2 = f1/10;\n",
"av2 = -20*log10(f1/f2);\n",
"f3 = f1/4;\n",
"av3 = -20*log10(f1/f3);\n",
"f4 = f1/2;\n",
"av4 = -20*log10(f1/f4);\n",
"\n",
"x = [f2 f3 f4 f1];\n",
"y = [av2 av3 av4 av1];\n",
"plot2d(x,y);\n",
"\n",
"f1 = fhi;\n",
"f = 0.1*f1:100:10*f1;\n",
"av = (1+(f/f1)^2)^(-1/2);\n",
"av1 = -20*log10(f1/f1);\n",
"f2 = f1*10;\n",
"av2 = -20*log10(f2/f1);\n",
"f3 = f1*4;\n",
"av3 = -20*log10(f3/f1);\n",
"f4 = f1*2;\n",
"av4 = -20*log10(f4/f1);\n",
"\n",
"x = [f1 f4 f3 f2];\n",
"y = [av1 av4 av3 av2];\n",
"\n",
"gainplot(f,av);\n",
"plot2d(x,y);\n",
"\n",
"\n",
"f1 = fpie;\n",
"av1 = -20*log10(f1/f1);\n",
"f2 = f1*10;\n",
"av2 = -20*log10(f2/f1);\n",
"f3 = f1*4;\n",
"av3 = -20*log10(f3/f1);\n",
"f4 = f1*2;\n",
"av4 = -20*log10(f4/f1);\n",
"\n",
"x = [f1 f4 f3 f2];\n",
"y = [av1 av4 av3 av2];\n",
"\n",
"plot2d(x,y);\n",
"\n",
"\n",
"f1 = fho;\n",
"av1 = -20*log10(f1/f1);\n",
"f2 = f1*10;\n",
"av2 = -20*log10(f2/f1);\n",
"f3 = f1*4;\n",
"av3 = -20*log10(f3/f1);\n",
"f4 = f1*2;\n",
"av4 = -20*log10(f4/f1);\n",
"\n",
"x = [f1 f4 f3 f2];\n",
"y = [av1 av4 av3 av2];\n",
"\n",
"plot2d(x,y);"
   ]
   }
,
{
		   "cell_type": "markdown",
		   "metadata": {},
		   "source": [
			"## Example 9.14: Frequency.sce"
		   ]
		  },
  {
"cell_type": "code",
	   "execution_count": null,
	   "metadata": {
	    "collapsed": true
	   },
	   "outputs": [],
"source": [
"clear; clc; close;\n",
"\n",
"Cs = 2*10^(-6);\n",
"Cg = 0.01*10^(-6);\n",
"Cc = 0.5*10^(-6);\n",
"Rs = 1*10^(3);\n",
"Rg = 1*10^(6);\n",
"Rsig = 10*10^(3);\n",
"Rd = 4.7*10^(3);\n",
"Rl = 2.2*10^(3);\n",
"Idss = 8*10^(-3);\n",
"Vp = -4;\n",
"rd = %inf;\n",
"Vdd = 20;\n",
"Cgd = 2*10^(-12);\n",
"Cgs = 4*10^(-12);\n",
"Cds = 0.5*10^(-12);\n",
"Cwi = 5*10^(-12);\n",
"Cwo = 6*10^(-12);\n",
"\n",
"\n",
"Rthi = Rsig*Rg/(Rsig+Rg);\n",
"Av = -3;\n",
"Ci = Cwi+Cgs+(1-Av)*Cgd;\n",
"fhi = 1/(2*%pi*Rthi*Ci);\n",
"Rtho = Rd*Rl/(Rd+Rl);\n",
"Co = Cwo+Cds+(1-(1/Av))*Cgd;\n",
"fho = 1/(2*%pi*Rtho*Co);\n",
"\n",
"disp(fhi,'fhi = ');\n",
"disp(fho,'fho = ');"
   ]
   }
,
{
		   "cell_type": "markdown",
		   "metadata": {},
		   "source": [
			"## Example 9.15: Fourier_transform_and_time.sce"
		   ]
		  },
  {
"cell_type": "code",
	   "execution_count": null,
	   "metadata": {
	    "collapsed": true
	   },
	   "outputs": [],
"source": [
"clear; clc; close;\n",
"\n",
"V = 50*10^(-3);\n",
"V_bar = 40*10^(-3);\n",
"fs = 5*10^(3);\n",
"\n",
"vi = (4*10^(-3)/%pi)*(sin(2*%pi*5*10^(3)*%t)+(1/3)*sin(2*%pi*15*10^(3)*%t)+(1/5)*sin(2*%pi*25*10^(3)*%t)+(1/7)*sin(2*%pi*35*10^(3)*%t)+(1/9)*sin(2*%pi*45*10^(3)*%t));\n",
"\n",
"tr = (18-2)*10^(-6);\n",
"BW = 0.35/tr;\n",
"P = (V-V_bar)/V;\n",
"flo = (P/%pi)*fs;\n",
"\n",
"disp(BW,'Bandwidth  is ')\n",
"disp(flo,'Low cutoff frequency = ');"
   ]
   }
,
{
		   "cell_type": "markdown",
		   "metadata": {},
		   "source": [
			"## Example 9.1: Log_calculatio.sce"
		   ]
		  },
  {
"cell_type": "code",
	   "execution_count": null,
	   "metadata": {
	    "collapsed": true
	   },
	   "outputs": [],
"source": [
"clear; clc; close;\n",
"\n",
"disp(log10(10^6),'ans for part a :- ');\n",
"disp(log(%e^3),'ans for part b :- ');\n",
"disp(log10(10^(-2)),'ans for part c :- ');\n",
"disp(log(%e^-1),'ans for part d :- ');"
   ]
   }
,
{
		   "cell_type": "markdown",
		   "metadata": {},
		   "source": [
			"## Example 9.2: Log_calculatio.sce"
		   ]
		  },
  {
"cell_type": "code",
	   "execution_count": null,
	   "metadata": {
	    "collapsed": true
	   },
	   "outputs": [],
"source": [
"clear; clc; close;\n",
"\n",
"disp(log10(64),'ans for part a :- ');\n",
"disp(log(64),'ans for part b :- ');\n",
"disp(log10(1600),'ans for part c :- ');\n",
"disp(log10(8000),'ans for part d :- ');"
   ]
   }
,
{
		   "cell_type": "markdown",
		   "metadata": {},
		   "source": [
			"## Example 9.3: Anti_Log_calculation.sce"
		   ]
		  },
  {
"cell_type": "code",
	   "execution_count": null,
	   "metadata": {
	    "collapsed": true
	   },
	   "outputs": [],
"source": [
"clear; clc; close;\n",
"\n",
"disp(10^1.6,'ans for part a :- ');\n",
"disp(%e^0.04,'ans for part b :- ');"
   ]
   }
,
{
		   "cell_type": "markdown",
		   "metadata": {},
		   "source": [
			"## Example 9.4: Log_calculatio.sce"
		   ]
		  },
  {
"cell_type": "code",
	   "execution_count": null,
	   "metadata": {
	    "collapsed": true
	   },
	   "outputs": [],
"source": [
"clear; clc; close;\n",
"\n",
"disp(log10(0.5),'ans for part a :- ');\n",
"disp(log10(4000/250),'ans for part b :- ');\n",
"disp(log10(0.6*30),'ans for part c :- ');"
   ]
   }
,
{
		   "cell_type": "markdown",
		   "metadata": {},
		   "source": [
			"## Example 9.5: Magnitude_gain_calculation.sce"
		   ]
		  },
  {
"cell_type": "code",
	   "execution_count": null,
	   "metadata": {
	    "collapsed": true
	   },
	   "outputs": [],
"source": [
"clear; clc; close;\n",
"\n",
"Gdb = 100;\n",
"Ratio_V2_by_V1 = 10^(Gdb/20);\n",
"\n",
"disp(Ratio_V2_by_V1,'Magnitude gain = ');"
   ]
   }
,
{
		   "cell_type": "markdown",
		   "metadata": {},
		   "source": [
			"## Example 9.6: Power_and_voltage_gain.sce"
		   ]
		  },
  {
"cell_type": "code",
	   "execution_count": null,
	   "metadata": {
	    "collapsed": true
	   },
	   "outputs": [],
"source": [
"clear; clc; close;\n",
"\n",
"Pi = 10*10^(3);\n",
"Po = 500;\n",
"Vi = 1000;\n",
"Ro = 20;\n",
"\n",
"Gdb = 10*log10(Po/Pi);\n",
"Gv = 20*log10(sqrt(Po*Ro)/Vi);\n",
"Ri = Vi^2/Pi;\n",
"\n",
"disp(Gdb,'Power gain in decibels = ');\n",
"disp(Gv,'Voltage gain in decibels = ');\n",
"disp(Ri,'Ri(ohms) is ');\n",
"disp('which is not equal to Ro');\n",
""
   ]
   }
,
{
		   "cell_type": "markdown",
		   "metadata": {},
		   "source": [
			"## Example 9.7: Input_power_and_input_voltage.sce"
		   ]
		  },
  {
"cell_type": "code",
	   "execution_count": null,
	   "metadata": {
	    "collapsed": true
	   },
	   "outputs": [],
"source": [
"clear; clc; close;\n",
"\n",
"Po = 40;\n",
"Ro = 10;\n",
"Gv = 40;\n",
"Gdb = 25;\n",
"\n",
"Pi = Po/(10^(25/10));\n",
"disp(Pi,'Input power in Watt = ');\n",
"\n",
"Vo = sqrt(Po*Ro);\n",
"Vi = Vo/10^(Gv/20);\n",
"disp(Vi,'Input voltage in volts = ');"
   ]
   }
,
{
		   "cell_type": "markdown",
		   "metadata": {},
		   "source": [
			"## Example 9.8: Break_frequency_and_bode_plot.sce"
		   ]
		  },
  {
"cell_type": "code",
	   "execution_count": null,
	   "metadata": {
	    "collapsed": true
	   },
	   "outputs": [],
"source": [
"clear; clc; close;\n",
"\n",
"R = 5*10^(3);\n",
"C = 0.1*10^(-6);\n",
"\n",
"f1 = 1/(2*%pi*R*C);\n",
"disp(f1,'Break frequency = ');\n",
"\n",
"f = 31.85:10:10*f1;\n",
"av = (1+(f1./f)^2)^(-1/2);//-10*log10\n",
"av1 = -20*log10(f1/f1);\n",
"f2 = f1/10;\n",
"av2 = -20*log10(f1/f2);\n",
"f3 = f1/4;\n",
"av3 = -20*log10(f1/f3);\n",
"f4 = f1/2;\n",
"av4 = -20*log10(f1/f4);\n",
"\n",
"\n",
"x = [f2 f3 f4 f1];\n",
"y = [av2 av3 av4 av1];\n",
"\n",
"gainplot(f,av);\n",
"a = gca();\n",
"a.y_location = 'left';\n",
"a.x_location = 'top';\n",
"a.x_label.text = 'frequency';\n",
"a.y_label.text = 'Av';\n",
"a.title.text = 'Bode';\n",
"plot2d(x,y);"
   ]
   }
,
{
		   "cell_type": "markdown",
		   "metadata": {},
		   "source": [
			"## Example 9.9: Frequency_aand_bode_plot.sce"
		   ]
		  },
  {
"cell_type": "code",
	   "execution_count": null,
	   "metadata": {
	    "collapsed": true
	   },
	   "outputs": [],
"source": [
"clear; clc; close;\n",
"\n",
"Cs = 10*10^(-6);\n",
"Ce = 20*10^(-6);\n",
"Cc = 1*10^(-6);\n",
"Rs = 1*10^(3);\n",
"R1 = 40*10^(3);\n",
"R2 = 10*10^(3);\n",
"Re = 2*10^(3);\n",
"Rc = 4*10^(3);\n",
"Rl = 2.2*10^(3);\n",
"Beta = 100;\n",
"ro = %inf;\n",
"Vcc = 20;\n",
"Ve = 4-0.7;\n",
"\n",
"Vb = R2*Vcc/(R2+R1);\n",
"Ie = Ve/Re;\n",
"re = 26*10^(-3)/(1.65*10^(-3));\n",
"x = Beta*re;\n",
"Av = -Rc*Rl/((Rc+Rl)*re);\n",
"Zi = R1*R2*x/(R1*R2+R2*x+x*R1);\n",
"Ri = Zi;\n",
"Vi_by_Vs = Ri/(Ri+Rs);\n",
"Avs = Av*Vi_by_Vs;\n",
"fls = 1/(2*%pi*(Rs+Ri)*Cs);\n",
"disp(fls,'Low cutoff frequency is ');\n",
"\n",
"f1 = fls;\n",
"f = .1:10:10*f1;\n",
"av = (1+(f1./f)^2)^(-1/2);\n",
"av1 = -20*log10(f1/f1);\n",
"f2 = f1/10;\n",
"av2 = -20*log10(f1/f2);\n",
"f3 = f1/4;\n",
"av3 = -20*log10(f1/f3);\n",
"f4 = f1/2;\n",
"av4 = -20*log10(f1/f4);\n",
"\n",
"\n",
"x = [f2 f3 f4 f1];\n",
"y = [av2 av3 av4 av1];\n",
"\n",
"gainplot(f,av);\n",
"a = gca();\n",
"a.y_location = 'left';\n",
"a.x_location = 'top';\n",
"a.x_label.text = 'frequency';\n",
"a.y_label.text = 'Av';\n",
"a.title.text = 'Bode';\n",
"plot2d(x,y);"
   ]
   }
],
"metadata": {
		  "kernelspec": {
		   "display_name": "Scilab",
		   "language": "scilab",
		   "name": "scilab"
		  },
		  "language_info": {
		   "file_extension": ".sce",
		   "help_links": [
			{
			 "text": "MetaKernel Magics",
			 "url": "https://github.com/calysto/metakernel/blob/master/metakernel/magics/README.md"
			}
		   ],
		   "mimetype": "text/x-octave",
		   "name": "scilab",
		   "version": "0.7.1"
		  }
		 },
		 "nbformat": 4,
		 "nbformat_minor": 0
}
