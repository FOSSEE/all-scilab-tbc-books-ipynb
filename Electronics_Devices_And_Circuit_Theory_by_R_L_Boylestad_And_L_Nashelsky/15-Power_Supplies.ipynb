{
"cells": [
 {
		   "cell_type": "markdown",
	   "metadata": {},
	   "source": [
       "# Chapter 15: Power Supplies"
	   ]
	},
{
		   "cell_type": "markdown",
		   "metadata": {},
		   "source": [
			"## Example 15.10: regulated_output_voltage.sce"
		   ]
		  },
  {
"cell_type": "code",
	   "execution_count": null,
	   "metadata": {
	    "collapsed": true
	   },
	   "outputs": [],
"source": [
"clear; clc; close;\n",
"\n",
"Vo = (1+( 30*10^(3)/(15*10^(3)) ))*6.2;\n",
"\n",
"disp(Vo,'Regulated Output voltage = ');"
   ]
   }
,
{
		   "cell_type": "markdown",
		   "metadata": {},
		   "source": [
			"## Example 15.11: regulated_voltage_and_circuit_current.sce"
		   ]
		  },
  {
"cell_type": "code",
	   "execution_count": null,
	   "metadata": {
	    "collapsed": true
	   },
	   "outputs": [],
"source": [
"clear; clc; close;\n",
"\n",
"Rl = 320;\n",
"Vi = 22;\n",
"Rs = 120;\n",
"\n",
"\n",
"Vl = 8.2+0.7;\n",
"Il = Vl/Rl;\n",
"Is = (Vi-Vl)/Rs;\n",
"Ic = Is-Il;\n",
"\n",
"disp(Vl,'Vl = ');\n",
"disp(Il,'Il = ');\n",
"disp(Is,'Is = ');\n",
"disp(Ic,'Ic = ');"
   ]
   }
,
{
		   "cell_type": "markdown",
		   "metadata": {},
		   "source": [
			"## Example 15.13: minimum_input_voltage.sce"
		   ]
		  },
  {
"cell_type": "code",
	   "execution_count": null,
	   "metadata": {
	    "collapsed": true
	   },
	   "outputs": [],
"source": [
"clear; clc; close;\n",
"\n",
"Idc = 400*10^(-3);\n",
"C = 250*10^(-6);\n",
"Vm = 15;\n",
"Vdc = 15;\n",
"\n",
"Vr_peak = sqrt(3)*2.4*(10^-3)*Idc/C;\n",
"Vi = Vdc - Vr_peak;\n",
"\n",
"disp(Vi,'Minimum input voltage = ');"
   ]
   }
,
{
		   "cell_type": "markdown",
		   "metadata": {},
		   "source": [
			"## Example 15.14: max_value_of_load_current.sce"
		   ]
		  },
  {
"cell_type": "code",
	   "execution_count": null,
	   "metadata": {
	    "collapsed": true
	   },
	   "outputs": [],
"source": [
"clear; clc; close;\n",
"\n",
"Vm = 15;\n",
"Vi_min = 7.3;\n",
"C = 250*10^(-6);\n",
"\n",
"Vr_peak = Vm - Vi_min;\n",
"Vr_rms = Vr_peak/sqrt(3);\n",
"\n",
"Idc = Vr_rms*C/(2.4*(10^-3));\n",
"\n",
"disp(Idc,'Max value of load current = ');"
   ]
   }
,
{
		   "cell_type": "markdown",
		   "metadata": {},
		   "source": [
			"## Example 15.15: regulated_output_voltage.sce"
		   ]
		  },
  {
"cell_type": "code",
	   "execution_count": null,
	   "metadata": {
	    "collapsed": true
	   },
	   "outputs": [],
"source": [
"clear; clc; close;\n",
"\n",
"Vo = 1.25*(1+ (1.8*10^3/240)) + (100*10^(-6))*(1.8*10^3);\n",
"\n",
"disp(Vo,'Regulated Output voltage = ');"
   ]
   }
,
{
		   "cell_type": "markdown",
		   "metadata": {},
		   "source": [
			"## Example 15.16: regulated_output_voltage.sce"
		   ]
		  },
  {
"cell_type": "code",
	   "execution_count": null,
	   "metadata": {
	    "collapsed": true
	   },
	   "outputs": [],
"source": [
"clear; clc; close;\n",
"\n",
"Vo = 1.25*(1+ (1.8*10^3/240)) + (100*10^(-6))*(1.8*10^3);\n",
"\n",
"disp(Vo,'Regulated Output voltage = ');\n",
""
   ]
   }
,
{
		   "cell_type": "markdown",
		   "metadata": {},
		   "source": [
			"## Example 15.1: Measure_output_and_filter_voltage.sce"
		   ]
		  },
  {
"cell_type": "code",
	   "execution_count": null,
	   "metadata": {
	    "collapsed": true
	   },
	   "outputs": [],
"source": [
"clear; clc; close;\n",
"\n",
"Vdc = 25;\n",
"Vr = 1.5;\n",
"\n",
"\n",
"r_a = (Vr/Vdc)*100;\n",
"r_b = (Vr*0.35/Vdc)*100;\n",
"\n",
"disp(r_a,'Ripple value in part a = ');\n",
"disp(r_b,'New Ripple value in part b = ');"
   ]
   }
,
{
		   "cell_type": "markdown",
		   "metadata": {},
		   "source": [
			"## Example 15.2: Voltage_regulation_value.sce"
		   ]
		  },
  {
"cell_type": "code",
	   "execution_count": null,
	   "metadata": {
	    "collapsed": true
	   },
	   "outputs": [],
"source": [
"clear; clc; close;\n",
"\n",
"Vnl = 60;\n",
"Vfl = 56;\n",
"\n",
"VR = ((Vnl-Vfl)/Vfl)*100;\n",
"\n",
"disp(VR,'Voltage regulation in percentage = ');"
   ]
   }
,
{
		   "cell_type": "markdown",
		   "metadata": {},
		   "source": [
			"## Example 15.3: Ripple_voltage_and_output_voltage_value.sce"
		   ]
		  },
  {
"cell_type": "code",
	   "execution_count": null,
	   "metadata": {
	    "collapsed": true
	   },
	   "outputs": [],
"source": [
"clear; clc; close;\n",
"\n",
"//part a \n",
"Idc = 50*10^(-3);\n",
"C = 100*10^(-6);\n",
"\n",
"Vr_rms = 2.4*(10^-3)*Idc/(C);\n",
"\n",
"disp(Vr_rms,'Ripple voltage = ');\n",
"\n",
"//part b\n",
"\n",
"Rl = 100;\n",
"\n",
"Vdc = Vr_rms*Rl*C/2.4;\n",
"\n",
"disp(Vdc,'Output voltage = ');"
   ]
   }
,
{
		   "cell_type": "markdown",
		   "metadata": {},
		   "source": [
			"## Example 15.4: Filter_dc_voltage_value.sce"
		   ]
		  },
  {
"cell_type": "code",
	   "execution_count": null,
	   "metadata": {
	    "collapsed": true
	   },
	   "outputs": [],
"source": [
"clear; clc; close;\n",
"\n",
"Vm = 30;\n",
"Idc = 50;\n",
"C  = 100;\n",
"\n",
"Vdc = Vm - 4.17*Idc/C;\n",
"\n",
"disp(Vdc,'Filter dc voltage = ');"
   ]
   }
,
{
		   "cell_type": "markdown",
		   "metadata": {},
		   "source": [
			"## Example 15.5: Ripple_of_capacitor.sce"
		   ]
		  },
  {
"cell_type": "code",
	   "execution_count": null,
	   "metadata": {
	    "collapsed": true
	   },
	   "outputs": [],
"source": [
"clear; clc; close;\n",
"\n",
"Idc = 50;\n",
"C = 100;\n",
"Vdc = 27.9;\n",
"\n",
"r = (2.4*Idc/(C*Vdc))*100;\n",
"\n",
"disp(r,'Ripple value of capacitor in percentage = ');"
   ]
   }
,
{
		   "cell_type": "markdown",
		   "metadata": {},
		   "source": [
			"## Example 15.6: dc_voltage_across_1k_load.sce"
		   ]
		  },
  {
"cell_type": "code",
	   "execution_count": null,
	   "metadata": {
	    "collapsed": true
	   },
	   "outputs": [],
"source": [
"clear; clc; close;\n",
"\n",
"Rl = 1000;\n",
"R = 120;\n",
"Vdc = 60;\n",
"\n",
"Vdc_dash = (Rl/(R+Rl))*Vdc;\n",
"\n",
"disp(Vdc_dash,'Dc voltage across 1k-ohm load = ');"
   ]
   }
,
{
		   "cell_type": "markdown",
		   "metadata": {},
		   "source": [
			"## Example 15.7: dc_ac_and_ripple_values_of_output_signal.sce"
		   ]
		  },
  {
"cell_type": "code",
	   "execution_count": null,
	   "metadata": {
	    "collapsed": true
	   },
	   "outputs": [],
"source": [
"clear; clc; close;\n",
"\n",
"Rl = 5*10^(3);\n",
"R = 500;\n",
"Vdc = 150;\n",
"C = 10*10^(-3);\n",
"Vr_rms = 15;\n",
"\n",
"Vdc_dash = (Rl/(R+Rl))*Vdc;\n",
"Xc = 1.3/C;\n",
"Vr_rms_dash = (Xc/R)*Vr_rms; \n",
"r = (Vr_rms_dash/Vdc_dash)*100;\n",
"\n",
"disp(Vdc_dash,'Dc component of output voltage = ');\n",
"disp(Vr_rms_dash,'Ac component of output voltage = ');\n",
"disp(r,'Ripple = ');"
   ]
   }
,
{
		   "cell_type": "markdown",
		   "metadata": {},
		   "source": [
			"## Example 15.8: output_voltage_and_zener_current.sce"
		   ]
		  },
  {
"cell_type": "code",
	   "execution_count": null,
	   "metadata": {
	    "collapsed": true
	   },
	   "outputs": [],
"source": [
"clear; clc; close;\n",
"\n",
"Vz = 12;\n",
"Vbe = 0.7;\n",
"Vi = 20;\n",
"Rl = 5*10^(3);\n",
"Ic = 2.26*10^(-3);\n",
"Beta = 50;\n",
"R = 220;\n",
"\n",
"Vo = Vz-Vbe;\n",
"Vce = Vi-Vo;\n",
"Ir = (Vi-Vz)/R;\n",
"Il = Vo/Rl;\n",
"Ib = Ic/Beta;\n",
"Iz = Ir-Ib;\n",
"\n",
"disp(Vo,'Output voltage = ');\n",
"disp(Iz,'Zener current = ');"
   ]
   }
,
{
		   "cell_type": "markdown",
		   "metadata": {},
		   "source": [
			"## Example 15.9: regulated_output_voltage.sce"
		   ]
		  },
  {
"cell_type": "code",
	   "execution_count": null,
	   "metadata": {
	    "collapsed": true
	   },
	   "outputs": [],
"source": [
"clear; clc; close;\n",
"\n",
"R1 = 20*10^(3);\n",
"R2 = 30*10^(3);\n",
"Vz = 8.3;\n",
"Vbe = 0.7;\n",
"\n",
"Vo = ((R1+R2)/R2)*(Vz+Vbe);\n",
"\n",
"disp(Vo,'Regulated Output voltage = ');"
   ]
   }
],
"metadata": {
		  "kernelspec": {
		   "display_name": "Scilab",
		   "language": "scilab",
		   "name": "scilab"
		  },
		  "language_info": {
		   "file_extension": ".sce",
		   "help_links": [
			{
			 "text": "MetaKernel Magics",
			 "url": "https://github.com/calysto/metakernel/blob/master/metakernel/magics/README.md"
			}
		   ],
		   "mimetype": "text/x-octave",
		   "name": "scilab",
		   "version": "0.7.1"
		  }
		 },
		 "nbformat": 4,
		 "nbformat_minor": 0
}
