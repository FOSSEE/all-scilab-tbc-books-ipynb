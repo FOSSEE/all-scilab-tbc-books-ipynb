{
"cells": [
 {
		   "cell_type": "markdown",
	   "metadata": {},
	   "source": [
       "# Chapter 4: DC Biasing BJT"
	   ]
	},
{
		   "cell_type": "markdown",
		   "metadata": {},
		   "source": [
			"## Example 4.10: Icq_and_Vceq_calculation_for_voltage_divider.sce"
		   ]
		  },
  {
"cell_type": "code",
	   "execution_count": null,
	   "metadata": {
	    "collapsed": true
	   },
	   "outputs": [],
"source": [
"clear; clc; close;\n",
"\n",
"R1 = 82*10^(3);\n",
"R2 = 22*10^(3);\n",
"Re = 1.2*10^(3);\n",
"Rc = 5.6*10^(3);\n",
"Vcc = 18;\n",
"Vbe = 0.7;\n",
"Beta = 50;\n",
"\n",
"Rth = R1*R2/(R1+R2);\n",
"Eth = R2*Vcc/(R1+R2);\n",
"Ib = (Eth - Vbe)/(Rth + (Beta+1)*Re);\n",
"Icq = Beta*Ib;\n",
"Vceq = Vcc - Icq*(Rc+Re);\n",
"disp(Icq,'Collector current(Amperes) in :');\n",
"disp(Vceq,'Vce(Volts) is : ');\n",
"\n",
"//approximate analysis\n",
"Eth = R2*Vcc/(R1+R2);\n",
"Vb = Eth;\n",
"Ve = Vb - Vbe;\n",
"Icq = Ve/Re;\n",
"Vceq = Vcc - Icq*(Rc+Re);\n",
"disp('For approximate analysis : ');\n",
"disp(Icq,'Value of Icq(Amperes) is : ');\n",
"disp(Vceq,'Value of Vceq(Volts) : ');\n",
""
   ]
   }
,
{
		   "cell_type": "markdown",
		   "metadata": {},
		   "source": [
			"## Example 4.11: Icq_and_Vceq_calculation.sce"
		   ]
		  },
  {
"cell_type": "code",
	   "execution_count": null,
	   "metadata": {
	    "collapsed": true
	   },
	   "outputs": [],
"source": [
"clear; clc; close;\n",
"\n",
"Re = 1.2*10^(3);\n",
"Rc = 4.7*10^(3);\n",
"Rb = 250*10^(3);\n",
"Vcc = 10;\n",
"Vbe = 0.7;\n",
"Beta = 90;\n",
"\n",
"Ib = (Vcc - Vbe)/(Rb + (Beta)*(Re+Rc));\n",
"Icq = Beta*Ib;\n",
"Vceq = Vcc - Icq*(Rc+Re);\n",
"disp(Icq,'Value of Icq(Amperes) is : ');\n",
"disp(Vceq,'Value of Vceq(Volts) : ');\n",
""
   ]
   }
,
{
		   "cell_type": "markdown",
		   "metadata": {},
		   "source": [
			"## Example 4.12: Icq_and_Vceq_calculation_for_a_different_beta.sce"
		   ]
		  },
  {
"cell_type": "code",
	   "execution_count": null,
	   "metadata": {
	    "collapsed": true
	   },
	   "outputs": [],
"source": [
"clear; clc; close;\n",
"\n",
"Re = 1.2*10^(3);\n",
"Rc = 4.7*10^(3);\n",
"Rb = 250*10^(3);\n",
"Vcc = 10;\n",
"Vbe = 0.7;\n",
"Beta = 135;\n",
"\n",
"Ib = (Vcc - Vbe)/(Rb + (Beta)*(Re+Rc));\n",
"Icq = Beta*Ib;\n",
"Vceq = Vcc - Icq*(Rc+Re);\n",
"disp(Icq,'Value of Icq(Amperes) is : ');\n",
"disp(Vceq,'Value of Vceq(Volts) : ');\n",
""
   ]
   }
,
{
		   "cell_type": "markdown",
		   "metadata": {},
		   "source": [
			"## Example 4.13: Ib_and_Vc_calculation.sce"
		   ]
		  },
  {
"cell_type": "code",
	   "execution_count": null,
	   "metadata": {
	    "collapsed": true
	   },
	   "outputs": [],
"source": [
"clear; clc; close;\n",
"\n",
"Re = 0.51*10^(3);\n",
"Rc = 3.3*10^(3);\n",
"Rb = (91+110)*10^(3);\n",
"Vcc = 18;\n",
"Vbe = 0.7;\n",
"Beta = 75;\n",
"\n",
"Ib = (Vcc - Vbe)/(Rb + (Beta)*(Re+Rc));\n",
"Ic = Beta*Ib;\n",
"Vc = Vcc - Ic*(Rc);\n",
"disp(Ic,'Value of Icq(Amperes) is : ');\n",
"disp(Vc,'Value of Vceq(Volts) : ');\n",
""
   ]
   }
,
{
		   "cell_type": "markdown",
		   "metadata": {},
		   "source": [
			"## Example 4.14: Network_characteristics_determination.sce"
		   ]
		  },
  {
"cell_type": "code",
	   "execution_count": null,
	   "metadata": {
	    "collapsed": true
	   },
	   "outputs": [],
"source": [
"clear; clc; close;\n",
"\n",
"Re = 0;\n",
"Rc = 4.7*10^(3);\n",
"Rb = 680*10^(3);\n",
"Vcc = 20;\n",
"Vbe = 0.7;\n",
"Beta = 120;\n",
"\n",
"Ib = (Vcc - Vbe)/(Rb + (Beta)*(Rc));\n",
"Icq = Beta*Ib;\n",
"Vceq = Vcc - Icq*(Rc);\n",
"Vb = Vbe;\n",
"Vc = Vceq;\n",
"Ve = 0;\n",
"Vbc = Vb-Vc;\n",
"disp(Icq,'Value of Icq(Amperes) is : ');\n",
"disp(Vceq,'Value of Vceq(Volts) : ');\n",
"disp(Vc,'Vc(volts) is : ');\n",
"disp(Vb,'Vb(volts) is :');\n",
"disp(Ve,'Ve(volts) is :');\n",
"disp(Vbc,'Vbc(volts) is :');\n",
""
   ]
   }
,
{
		   "cell_type": "markdown",
		   "metadata": {},
		   "source": [
			"## Example 4.15: Vc_and_Vb_calculcation.sce"
		   ]
		  },
  {
"cell_type": "code",
	   "execution_count": null,
	   "metadata": {
	    "collapsed": true
	   },
	   "outputs": [],
"source": [
"clear; clc; close;\n",
"\n",
"Re = 0;\n",
"Rc = 1.2*10^(3);\n",
"Rb = 100*10^(3);\n",
"Vee = 9;\n",
"Vbe = 0.7;\n",
"Beta = 45;\n",
"\n",
"Ib = (Vee-Vbe)/Rb;\n",
"Ic = Beta*Ib;\n",
"Vc = -Ic*Rc;\n",
"Vb = -Ib*Rb;\n",
"disp(Vc,'Vc(Volts) is :');\n",
"disp(Vb,'Vb(Volts) is :');"
   ]
   }
,
{
		   "cell_type": "markdown",
		   "metadata": {},
		   "source": [
			"## Example 4.16: Vceq_and_Ie.sce"
		   ]
		  },
  {
"cell_type": "code",
	   "execution_count": null,
	   "metadata": {
	    "collapsed": true
	   },
	   "outputs": [],
"source": [
"clear; clc; close;\n",
"\n",
"Re = 2*10^(3);\n",
"Rb = 240*10^(3);\n",
"Vee = 20;\n",
"Vbe = 0.7;\n",
"Beta = 90;\n",
"\n",
"Ib = (Vee-Vbe)/(Rb+(Beta+1)*Re);\n",
"Ic = Beta*Ib;\n",
"Ie = (Beta+1)*Ib;\n",
"Vceq = Vee - (Beta+1)*Ib*Re;\n",
"disp(Vceq,'Vceq(Volts) is :');\n",
"disp(Ie,'Ie(amperes) is :');"
   ]
   }
,
{
		   "cell_type": "markdown",
		   "metadata": {},
		   "source": [
			"## Example 4.17: Vcb_and_Ib_for_common_base_config.sce"
		   ]
		  },
  {
"cell_type": "code",
	   "execution_count": null,
	   "metadata": {
	    "collapsed": true
	   },
	   "outputs": [],
"source": [
"clear; clc; close;\n",
"\n",
"Re = 1.2*10^(3);\n",
"Rc = 2.4*10^(3);\n",
"Rb = 240*10^(3);\n",
"Vee = 4;\n",
"Vcc = 10;\n",
"Vbe = 0.7;\n",
"Beta = 60;\n",
"\n",
"Ie = (Vee-Vbe)/Re;\n",
"Ic = Ie;\n",
"Vcb = Vcc-Ic*Rc;\n",
"Ib = Ic/Beta;\n",
"disp(Vcb,'Vcb(Volts) is : ');\n",
"disp(Ib,'Ib(amperes) is :');\n",
""
   ]
   }
,
{
		   "cell_type": "markdown",
		   "metadata": {},
		   "source": [
			"## Example 4.18: Vc_and_Vb_calculcation.sce"
		   ]
		  },
  {
"cell_type": "code",
	   "execution_count": null,
	   "metadata": {
	    "collapsed": true
	   },
	   "outputs": [],
"source": [
"clear; clc; close;\n",
"\n",
"Re = 1.8*10^(3);\n",
"Rc = 2.7*10^(3);\n",
"R1 = 8.2*10^(3);\n",
"R2 = 2.2*10^(3);\n",
"Vee = 20;\n",
"Vcc = 20;\n",
"Vbe = 0.7;\n",
"Beta = 120;\n",
"\n",
"Rth = R1*R2/(R1+R2);\n",
"I = (Vcc+Vee)/(R1+R2);\n",
"Eth = I*R2 - Vee;\n",
"Ib = (Vee-Eth-Vbe)/(Rth+(Beta+1)*Re);\n",
"Ib = 35.39*10^(-6);\n",
"Ic = Beta*Ib;\n",
"Vc = Vcc - Ic*Rc;\n",
"Vb = Eth+Ib*Rth;\n",
"disp(Vc,'Vc(volts) is :');\n",
"disp(Vb,'Vb(Volts) is :');"
   ]
   }
,
{
		   "cell_type": "markdown",
		   "metadata": {},
		   "source": [
			"## Example 4.19: Vcc_Rc_and_Rb_for_fixed_bias_config.sce"
		   ]
		  },
  {
"cell_type": "code",
	   "execution_count": null,
	   "metadata": {
	    "collapsed": true
	   },
	   "outputs": [],
"source": [
"clear; clc; close;\n",
"\n",
"Vcc = 20;\n",
"Ic = 8*10^(-3);\n",
"Vbe = 0.7;\n",
"Ib = 40*10^(-6);\n",
"\n",
"Rc = Vcc/Ic;\n",
"Rb = (Vcc-Vbe)/Ib;\n",
"\n",
"disp(Rc,'Rc(ohms) is : ');\n",
"disp(Rb,'Rb(ohms) is : ');\n",
""
   ]
   }
,
{
		   "cell_type": "markdown",
		   "metadata": {},
		   "source": [
			"## Example 4.1: Fixed_Bias_Network_characteristics.sce"
		   ]
		  },
  {
"cell_type": "code",
	   "execution_count": null,
	   "metadata": {
	    "collapsed": true
	   },
	   "outputs": [],
"source": [
"clear; clc; close;\n",
"\n",
"Vcc = 12;\n",
"Vbe = 0.7;\n",
"Vce = 4.23;  \n",
"Rb = 240*10^(3);\n",
"Rc = 2.2*10^(3);\n",
"Beta = 75;\n",
"Ic = 3.53*10^(-3);\n",
"\n",
"Ibq = (Vcc-Vbe)/Rb;\n",
"Icq = Beta*Ibq;\n",
"Vceq = Vcc-Ic*Rc;\n",
"Vb = Vbe;\n",
"Vc = Vce;\n",
"Vbc = Vb-Vc;\n",
"\n",
"disp(Ibq,'Ibq(Amperes) is :');\n",
"disp(Icq,'Icq(Amperes) is :');\n",
"disp(Vceq,'Vceq(volts) is :');\n",
"disp(Vb,'Vb(volts) is :');\n",
"disp(Vc,'Vc(volts) is :');\n",
"disp(Vbc,'Vbc(volts) is :');"
   ]
   }
,
{
		   "cell_type": "markdown",
		   "metadata": {},
		   "source": [
			"## Example 4.20: R1_and_Rc.sce"
		   ]
		  },
  {
"cell_type": "code",
	   "execution_count": null,
	   "metadata": {
	    "collapsed": true
	   },
	   "outputs": [],
"source": [
"clear; clc; close;\n",
"\n",
"Re = 1.2*10^(3);\n",
"R2 = 18*10^(3);\n",
"Vcc = 18;\n",
"Vce = 10;\n",
"Vbe = 0.7;\n",
"Ve = 2.4\n",
"Ic = 2*10^(-3);\n",
"\n",
"Ve = Ic*Re;\n",
"Vb = Vbe+Ve;\n",
"R1 = (R2*Vcc/Vb) - R2;\n",
"Vc = Vce+Ve;\n",
"Rc = (Vcc-Vc)/Ic;\n",
"disp(R1,'R1(ohms) is : ');\n",
"disp(Rc,'Rc(ohms) is : ');"
   ]
   }
,
{
		   "cell_type": "markdown",
		   "metadata": {},
		   "source": [
			"## Example 4.21: Rc_Re_and_Rb.sce"
		   ]
		  },
  {
"cell_type": "code",
	   "execution_count": null,
	   "metadata": {
	    "collapsed": true
	   },
	   "outputs": [],
"source": [
"clear; clc; close;\n",
"\n",
"Icq = 4*10^(-3);\n",
"Vcc = 28;\n",
"Vc = 18;\n",
"Vbe = 0.7;\n",
"Ve = 2.4;\n",
"Beta = 110;\n",
"Icsat = 8*10^(-3);\n",
"\n",
"Rc = (Vcc-Vc)/Icq;\n",
"Re = (Vcc/Icsat)-Rc;\n",
"Ibq = Icq/Beta;\n",
"Rb = ((Vcc-Vbe)/Ibq) - (Beta+1)*Re;\n",
"\n",
"disp(Rc,'Rc(ohms) is : ');\n",
"disp(Re,'Re(ohms) is : ');\n",
"disp(Rb,'Rb(ohms) is : ');\n",
""
   ]
   }
,
{
		   "cell_type": "markdown",
		   "metadata": {},
		   "source": [
			"## Example 4.22: Resistor_values_for_the_netowrk.sce"
		   ]
		  },
  {
"cell_type": "code",
	   "execution_count": null,
	   "metadata": {
	    "collapsed": true
	   },
	   "outputs": [],
"source": [
"clear; clc; close;\n",
"\n",
"Vcc = 20;\n",
"Vc = 18;\n",
"Vce = 10;\n",
"Vbe = 0.7;\n",
"Beta = 150;\n",
"Ic = 2*10^(-3);\n",
"Ie = Ic;\n",
"\n",
"Ve = 0.1*Vcc;\n",
"Re = Ve/Ie;\n",
"Rc = (Vcc-Vce-Ve)/Ic;\n",
"Ib = Ic/Beta;\n",
"Rb = (Vcc-Vbe-Ve)/Ib;\n",
"\n",
"disp(Re,'Value of Re(ohms) is : ');\n",
"disp(Rc,'Value of Rc(ohms) is : ');\n",
"disp(Rb,'Value of Rb(ohms) is : ');\n",
""
   ]
   }
,
{
		   "cell_type": "markdown",
		   "metadata": {},
		   "source": [
			"## Example 4.23: Rc_Re_R1_and_R2.sce"
		   ]
		  },
  {
"cell_type": "code",
	   "execution_count": null,
	   "metadata": {
	    "collapsed": true
	   },
	   "outputs": [],
"source": [
"clear; clc; close;\n",
"\n",
"Vcc = 20;\n",
"Vc = 18;\n",
"Vce = 8;\n",
"Vbe = 0.7;\n",
"Beta = 150;\n",
"Ic = 10*10^(-3);\n",
"Ie = Ic;\n",
"R2 = 1.6*10^(3);\n",
"Ve = 0.1*Vcc;\n",
"Re = Ve/Ie;\n",
"Rc = (Vcc-Vce-Ve)/Ic;\n",
"\n",
"Vb = Vbe + Ve;\n",
"R1 = R2*Vcc/Vb - R2;\n",
"\n",
"disp(Re,'Value of Re(ohms) is : ');\n",
"disp(Rc,'Value of Rc(ohms) is : ');\n",
"disp(R1,'Value of R1(ohms) is : ');"
   ]
   }
,
{
		   "cell_type": "markdown",
		   "metadata": {},
		   "source": [
			"## Example 4.24: Rb_and_Rc.sce"
		   ]
		  },
  {
"cell_type": "code",
	   "execution_count": null,
	   "metadata": {
	    "collapsed": true
	   },
	   "outputs": [],
"source": [
"clear; clc; close;\n",
"\n",
"Vcc = 10;\n",
"Vbe = 0.7;\n",
"Beta_dc = 250;\n",
"Icsat = 10*10^(-3);\n",
"\n",
"Rc = Vcc/Icsat;\n",
"Ib_min = Icsat/Beta_dc;\n",
"Rb = (Vcc-Vbe)/Ib_min;\n",
"//if we take standard Rb value then\n",
"Rb = 150*10^(3);\n",
"Ib = (Vcc-Vbe)/Rb;\n",
"\n",
"disp(Rc,'value of Rc(ohms) is : ');\n",
"disp(Rb,'value of Rb(ohms) is : ');"
   ]
   }
,
{
		   "cell_type": "markdown",
		   "metadata": {},
		   "source": [
			"## Example 4.25: Determine_proper_operation_of_network.sce"
		   ]
		  },
  {
"cell_type": "code",
	   "execution_count": null,
	   "metadata": {
	    "collapsed": true
	   },
	   "outputs": [],
"source": [
"clear; clc; close;\n",
"\n",
"Vcc = 20;\n",
"Vbe = 0.7;\n",
"Beta = 100;\n",
"Rb = 250*10^(3);\n",
"Re = 2*10^(3);\n",
"Vrb = 19.85;\n",
"Ic = 0;\n",
"\n",
"Irb = Vcc/(Rb+Re);\n",
"Ib = (Vcc-Vbe)/(Rb+(Beta+1)*Re);\n",
"\n",
"disp(Irb,'The base current(amperes) obtained is : ');\n",
"disp(Ib,'Ideally Ib(Amperes) should be :');\n",
"disp('Hence the transistor is in a damaged state,');\n",
"disp('with short-circuit between base and emitter.');"
   ]
   }
,
{
		   "cell_type": "markdown",
		   "metadata": {},
		   "source": [
			"## Example 4.26: Determine_proper_operation_of_network.sce"
		   ]
		  },
  {
"cell_type": "code",
	   "execution_count": null,
	   "metadata": {
	    "collapsed": true
	   },
	   "outputs": [],
"source": [
"clear; clc; close;\n",
"\n",
"Vcc = 20;\n",
"Vb = 4;\n",
"Ve = 3.3;\n",
"Ic = 0;\n",
"disp('Drop across transistor is : ');\n",
"disp('This suggests that transistor is in on state.',Vb-Ve);\n",
"disp('Ic is : ')\n",
"disp('This suggest 2 things.',Ic)\n",
"disp('Either there is poor connection between Rc & terminal');\n",
"disp('or the transistor has an open base-to-collector junction.');"
   ]
   }
,
{
		   "cell_type": "markdown",
		   "metadata": {},
		   "source": [
			"## Example 4.27: Vce_for_voltage_divider_config.sce"
		   ]
		  },
  {
"cell_type": "code",
	   "execution_count": null,
	   "metadata": {
	    "collapsed": true
	   },
	   "outputs": [],
"source": [
"clear; clc; close;\n",
"\n",
"Vcc = -18;\n",
"Vbe = -0.7;\n",
"Beta = 100;\n",
"R1 = 47*10^(3);\n",
"R2 = 10*10^(3);\n",
"Re = 1.1*10^(3);\n",
"Rc = 2.4*10^(3);\n",
"\n",
"Vb = R2*Vcc/(R1+R2);\n",
"Ve = Vb-Vbe;\n",
"Ie = abs(Ve)/Re;\n",
"Ic = Ie;\n",
"Vce = Vcc+Ic*(Rc+Re);\n",
"disp(Vce,'Vce(volts) is : ');"
   ]
   }
,
{
		   "cell_type": "markdown",
		   "metadata": {},
		   "source": [
			"## Example 4.28: Stabiliity_factor_and_change_in_Ic.sce"
		   ]
		  },
  {
"cell_type": "code",
	   "execution_count": null,
	   "metadata": {
	    "collapsed": true
	   },
	   "outputs": [],
"source": [
"clear; clc; close;\n",
"\n",
"Beta = 50;\n",
"//denoting Rb/Re by x, we have\n",
"//for part a\n",
"x = 250;\n",
"ico = 19.9*10^(-9);\n",
"s = (1+Beta)*((1+x)/(Beta+1+x));\n",
"delta_ic = s*ico;\n",
"disp(s,'stability factor for part a is :');\n",
"disp(delta_ic,'change in Ic(amperes) is : ');\n",
"\n",
"//for part b\n",
"x = 10;\n",
"s = (1+Beta)*((1+x)/(Beta+1+x));\n",
"delta_ic = s*ico;\n",
"disp(s,'stability factor for part b is :');\n",
"disp(delta_ic,'change in Ic(amperes) is : ');\n",
"\n",
"//for part c\n",
"x = 0.01;\n",
"s = (1+Beta)*((1+x)/(Beta+1+x));\n",
"delta_ic = s*ico;\n",
"disp(s,'stability factor for part c is :');\n",
"disp(delta_ic,'change in Ic(amperes) is : ');\n",
""
   ]
   }
,
{
		   "cell_type": "markdown",
		   "metadata": {},
		   "source": [
			"## Example 4.29: Stabiliity_factor_and_change_in_Ic.sce"
		   ]
		  },
  {
"cell_type": "code",
	   "execution_count": null,
	   "metadata": {
	    "collapsed": true
	   },
	   "outputs": [],
"source": [
"clear; clc; close;\n",
"\n",
"//for part a\n",
"beta = 100;\n",
"delta_vbe = -0.17;\n",
"Rb = 240*10^(3);\n",
"\n",
"s = -beta/Rb;\n",
"delta_ic = delta_vbe*s;\n",
"disp(s,'Stability factor for part a is : ');\n",
"disp(delta_ic,'change in Ic(amperes) for part a is :');\n",
"\n",
"//for part b\n",
"Rb = 240*10^(3);\n",
"Re = 1*10^(3);\n",
"s = -beta/(Rb+(beta+1)*Re);\n",
"delta_ic = delta_vbe*s;\n",
"disp(s,'Stability factor for part b is : ');\n",
"disp(delta_ic,'change in Ic(amperes) for part b is :');\n",
"\n",
"//for part c\n",
"Rb = 47*10^(3);\n",
"Re = 4.7*10^(3);\n",
"s = -1/Re;\n",
"delta_ic = delta_vbe*s;\n",
"disp(s,'Stability factor for part c is : ');\n",
"disp(delta_ic,'change in Ic(amperes) for part c is :');"
   ]
   }
,
{
		   "cell_type": "markdown",
		   "metadata": {},
		   "source": [
			"## Example 4.2: Saturation_level.sce"
		   ]
		  },
  {
"cell_type": "code",
	   "execution_count": null,
	   "metadata": {
	    "collapsed": true
	   },
	   "outputs": [],
"source": [
"clear; clc; close;\n",
"\n",
"Vcc = 12;\n",
"Rc = 2.2*10^(3);\n",
"\n",
"Icsat = Vcc/Rc;\n",
"disp(Icsat,'saturation current(Amperes) for network is :');"
   ]
   }
,
{
		   "cell_type": "markdown",
		   "metadata": {},
		   "source": [
			"## Example 4.30: Determine_Icq.sce"
		   ]
		  },
  {
"cell_type": "code",
	   "execution_count": null,
	   "metadata": {
	    "collapsed": true
	   },
	   "outputs": [],
"source": [
"clear; clc; close;\n",
"\n",
"//lets say Rb/Re = x,then we have\n",
"x = 20;\n",
"Ic1 = 2*10^(-3);\n",
"beta1=50;\n",
"beta2=80;\n",
"\n",
"s = (Ic1*(1+x))/(beta1*(1+beta2+x));\n",
"delta_ic = s*(beta2-beta1);\n",
"\n",
"disp(delta_ic,'change in the level of Ic(amperes) is : ')"
   ]
   }
,
{
		   "cell_type": "markdown",
		   "metadata": {},
		   "source": [
			"## Example 4.3: Vcc_Rc_and_Rb_for_fixed_bias_config.sce"
		   ]
		  },
  {
"cell_type": "code",
	   "execution_count": null,
	   "metadata": {
	    "collapsed": true
	   },
	   "outputs": [],
"source": [
"clear; clc; close;\n",
"\n",
"Vce = 16;\n",
"Ic = 10*10^(-3);\n",
"Vbe = 0.7;\n",
"Ib = 25*10^(-6);\n",
"\n",
"Vcc = Vce;\n",
"Rc = Vcc/Ic;\n",
"Rb = (Vcc-Vbe)/Ib;\n",
"\n",
"disp('At Q-point')\n",
"disp(Vcc,'Value of Vcc(Volts) is :');\n",
"disp(Rc,'Value of Rc(ohms) is :');\n",
"disp(Rb,'Value of Rb(ohms) is :');"
   ]
   }
,
{
		   "cell_type": "markdown",
		   "metadata": {},
		   "source": [
			"## Example 4.4: Emitter_bias_Network_characteristics.sce"
		   ]
		  },
  {
"cell_type": "code",
	   "execution_count": null,
	   "metadata": {
	    "collapsed": true
	   },
	   "outputs": [],
"source": [
"clear; clc; close;\n",
"\n",
"Vcc = 16;\n",
"Vbe = 0.7;  \n",
"Rb = 430*10^(3);\n",
"Rc = 2*10^(3);\n",
"Re = 1*10^(3);\n",
"Beta = 75;\n",
"\n",
"\n",
"Ib  = (Vcc-Vbe)/(Rb+(1+Beta)*Re);\n",
"Ic = Beta*Ib;\n",
"Vce = Vcc - Ic*(Rc+Re);\n",
"Vc = Vcc-Ic*Rc;\n",
"Ve = Vc - Vce;\n",
"Vb = Vbe + Ve;\n",
"Vbc = Vb - Vc;\n",
"\n",
"disp(Ib,'Ib(Amperes) is : ');\n",
"disp(Ic,'Ic(Amperes) is : ');\n",
"disp(Vce,'Vce(volts) is : ');\n",
"disp(Vc,'Vc(Volts) is : ');\n",
"disp(Ve,'Ve(volts) is : ');\n",
"disp(Vb,'Vb(Volts) is : ');\n",
"disp(Vbc,'Vbc(Volts) is : ');"
   ]
   }
,
{
		   "cell_type": "markdown",
		   "metadata": {},
		   "source": [
			"## Example 4.6: Saturation_current.sce"
		   ]
		  },
  {
"cell_type": "code",
	   "execution_count": null,
	   "metadata": {
	    "collapsed": true
	   },
	   "outputs": [],
"source": [
"clear; clc; close;\n",
"\n",
"Vcc = 16;\n",
"Rc = 2*10^(3);\n",
"Re = 1*10^(3);\n",
"\n",
"Icsat = Vcc/(Rc+Re);\n",
"\n",
"disp(Icsat,'Saturation current(amperes) for the given network : ');"
   ]
   }
,
{
		   "cell_type": "markdown",
		   "metadata": {},
		   "source": [
			"## Example 4.7: Vce_and_Ic_for_voltage_divider_config.sce"
		   ]
		  },
  {
"cell_type": "code",
	   "execution_count": null,
	   "metadata": {
	    "collapsed": true
	   },
	   "outputs": [],
"source": [
"clear; clc; close;\n",
"\n",
"R1 = 39*10^(3);\n",
"R2 = 3.9*10^(3);\n",
"Re = 1.5*10^(3);\n",
"Rc = 4*10^(3);\n",
"Vcc = 18;\n",
"Vbe = 0.7;\n",
"Beta = 140;\n",
"\n",
"Rth = R1*R2/(R1+R2);\n",
"Eth = R2*Vcc/(R1+R2);\n",
"Ib = (Eth - Vbe)/(Rth + (Beta+1)*Re);\n",
"Ic = Beta*Ib;\n",
"Vce = Vcc - Ic*(Rc+Re);\n",
"\n",
"disp(Ic,'Collector current(Amperes) in :');\n",
"disp(Vce,'Vce(Volts) is : ');\n",
"disp('Value of Vce differs because wrong value of Vcc is used in the book');"
   ]
   }
,
{
		   "cell_type": "markdown",
		   "metadata": {},
		   "source": [
			"## Example 4.8: Icq_and_Vcq_calculation.sce"
		   ]
		  },
  {
"cell_type": "code",
	   "execution_count": null,
	   "metadata": {
	    "collapsed": true
	   },
	   "outputs": [],
"source": [
"clear; clc; close;\n",
"\n",
"R1 = 39*10^(3);\n",
"R2 = 3.9*10^(3);\n",
"Re = 1.5*10^(3);\n",
"Rc = 4*10^(3);\n",
"Vcc = 18;\n",
"Vbe = 0.7;\n",
"Beta = 140;\n",
"Ic = 0.63*10^(-3);\n",
"\n",
"disp('Since the approximate technique can be applied,hence ');\n",
"Eth = R2*Vcc/(R1+R2);\n",
"Vb = Eth;\n",
"Ve = Vb - Vbe;\n",
"Icq = Ve/Re;\n",
"Vceq = Vcc - Ic*(Rc+Re);\n",
"\n",
"disp(Icq,'Value of Icq(Amperes) is : ');\n",
"disp(Vceq,'Value of Vceq(Volts) : ');"
   ]
   }
,
{
		   "cell_type": "markdown",
		   "metadata": {},
		   "source": [
			"## Example 4.9: Icq_and_Vceq_calculation.sce"
		   ]
		  },
  {
"cell_type": "code",
	   "execution_count": null,
	   "metadata": {
	    "collapsed": true
	   },
	   "outputs": [],
"source": [
"clear; clc; close;\n",
"\n",
"R1 = 39*10^(3);\n",
"R2 = 3.9*10^(3);\n",
"Re = 1.5*10^(3);\n",
"Rc = 4*10^(3);\n",
"Vcc = 18;\n",
"Vbe = 0.7;\n",
"Beta = 70;\n",
"\n",
"Rth = R1*R2/(R1+R2);\n",
"Eth = R2*Vcc/(R1+R2);\n",
"Ib = (Eth - Vbe)/(Rth + (Beta+1)*Re);\n",
"Icq = Beta*Ib;\n",
"Vceq = Vcc - Icq*(Rc+Re);\n",
"disp(Icq,'Collector current(Amperes) in :');\n",
"disp(Vceq,'Vce(Volts) is : ');\n",
""
   ]
   }
],
"metadata": {
		  "kernelspec": {
		   "display_name": "Scilab",
		   "language": "scilab",
		   "name": "scilab"
		  },
		  "language_info": {
		   "file_extension": ".sce",
		   "help_links": [
			{
			 "text": "MetaKernel Magics",
			 "url": "https://github.com/calysto/metakernel/blob/master/metakernel/magics/README.md"
			}
		   ],
		   "mimetype": "text/x-octave",
		   "name": "scilab",
		   "version": "0.7.1"
		  }
		 },
		 "nbformat": 4,
		 "nbformat_minor": 0
}
