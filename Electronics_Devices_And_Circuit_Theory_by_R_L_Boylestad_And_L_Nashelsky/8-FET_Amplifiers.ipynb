{
"cells": [
 {
		   "cell_type": "markdown",
	   "metadata": {},
	   "source": [
       "# Chapter 8: FET Amplifiers"
	   ]
	},
{
		   "cell_type": "markdown",
		   "metadata": {},
		   "source": [
			"## Example 8.10: JFET_common_gate_configuration_calculation.sce"
		   ]
		  },
  {
"cell_type": "code",
	   "execution_count": null,
	   "metadata": {
	    "collapsed": true
	   },
	   "outputs": [],
"source": [
"clear; clc; close;\n",
"\n",
"yos = 50*10^(-6);\n",
"Idss = 10*10^(-3);\n",
"Vp = -4;\n",
"Vgsq = -2.2;\n",
"Idq = 2.03*10^(-3);\n",
"Rd = 3.6*10^(3);\n",
"Rs = 1.1*10^(3);\n",
"Vi = 40*10^(-3);\n",
"\n",
"gmo = 2*Idss/abs(Vp);\n",
"gm = gmo*(1-(Vgsq/Vp));\n",
"rd = 1/yos;\n",
"Zi = Rs*((rd+Rd)/(1+gm*rd))/(Rs+((rd+Rd)/(1+gm*rd)));\n",
"Zi2 = Rs*gm^(-1)/(Rs+gm^(-1));\n",
"Zo = Rd*rd/(Rd+rd);\n",
"Zo2 = Rd;\n",
"Av = (gm*Rd+(Rd/rd))/(1+Rd/rd);\n",
"Vo = Av*Vi;\n",
"Av2 = gm*Rd;\n",
"Vo2 = Av2*Vi;\n",
"\n",
"disp(gm,'gm(S) = ');\n",
"disp(rd,'rd(ohms) = ');\n",
"disp(Zi,'Zi(ohms) = ');\n",
"disp(Zi2,'Zi(ohms) without rd = ');\n",
"disp(Zo,'Zo(ohms) = ');\n",
"disp(Zo2,'Zo(ohms) without rd = ')\n",
"disp(Av,'Voltage gain Av = ');\n",
"disp(Vo,'Vo = ');\n",
"disp(Av2,'Volatge gain Av(ignoring rd) = ');\n",
"disp(Vo2,'Vo2 witout rd  = ');"
   ]
   }
,
{
		   "cell_type": "markdown",
		   "metadata": {},
		   "source": [
			"## Example 8.11: Network_components_determination.sce"
		   ]
		  },
  {
"cell_type": "code",
	   "execution_count": null,
	   "metadata": {
	    "collapsed": true
	   },
	   "outputs": [],
"source": [
"clear; clc; close;\n",
"\n",
"yos = 10*10^(-6);\n",
"Idss = 6*10^(-3);\n",
"Vp = -3;\n",
"Vgsq = 0.35;\n",
"Idq = 7.6*10^(-3);\n",
"Rd = 1.8*10^(3);\n",
"R1 = 10*10^(6);\n",
"R2 = 110*10^(6);\n",
"\n",
"\n",
"gmo = 2*Idss/abs(Vp);\n",
"gm = gmo*(1-(Vgsq/Vp));\n",
"rd = 1/yos;\n",
"Zi = R1*R2/(R1+R2);\n",
"Zo = rd*Rd/(Rd+rd);\n",
"Av = -gm*Rd;\n",
"\n",
"disp(gmo,'gmo(S) = ');\n",
"disp(gm,'gm(S) = ');\n",
"disp(rd,'rd(ohms) = ');\n",
"disp(Zi,'Zi(ohms) = ');\n",
"disp(Zo,'Zo(ohms) = ');\n",
"disp(Av,'Av = ');"
   ]
   }
,
{
		   "cell_type": "markdown",
		   "metadata": {},
		   "source": [
			"## Example 8.12: E_MOSFET_components_determination.sce"
		   ]
		  },
  {
"cell_type": "code",
	   "execution_count": null,
	   "metadata": {
	    "collapsed": true
	   },
	   "outputs": [],
"source": [
"clear; clc; close;\n",
"\n",
"yos = 20*10^(-6);\n",
"Vgs_on = 8;\n",
"Vgs_th = 3;\n",
"Vgsq = 6.4;\n",
"Idq = 2.75*10^(-3);\n",
"Id_on = 6*10^(-3);\n",
"k = 0.24*10^(-3);\n",
"Rf = 10*10^(6);\n",
"Rd = 2*10^(3);\n",
"\n",
"gm = 2*k*(Vgsq-Vgs_th);\n",
"rd = 1/yos;\n",
"Zi = (Rf+(rd*Rd/(rd+Rd)))/(1+gm*(rd*Rd/(rd+Rd)));\n",
"Zi2 = Rf/(1+gm*Rd);\n",
"Zo = Rf*Rd*rd/(Rf*rd+rd*Rd+Rd*Rf);\n",
"Zo2 = Rd;\n",
"Av = -gm*Rf*Rd*rd/(Rf*rd+rd*Rd+Rd*Rf);\n",
"Av2 = -gm*Rd;\n",
"\n",
"disp(gm,'gm(S) = ');\n",
"disp(rd,'rd(ohms) = ');\n",
"disp(Zi,'Zi(ohms) = ');\n",
"disp(Zi2,'Zi without rd(ohms) = ');\n",
"disp(Zo,'Zo(ohms) = ');\n",
"disp(Zo2,'Zo without rd(ohms) = ')\n",
"disp(Av,'Voltage gain Av = ');\n",
"disp(Av2,'Volatge gain Av(ignoring rd) = ');"
   ]
   }
,
{
		   "cell_type": "markdown",
		   "metadata": {},
		   "source": [
			"## Example 8.13: Rd_value_determination.sce"
		   ]
		  },
  {
"cell_type": "code",
	   "execution_count": null,
	   "metadata": {
	    "collapsed": true
	   },
	   "outputs": [],
"source": [
"clear; clc; close;\n",
"\n",
"yos = 30*10^(-6);\n",
"Idss = 10*10^(-3);\n",
"Idq = 10*10^(-3);\n",
"Vp = -4;\n",
"Vgsq = 0;\n",
"Rg = 10*10^(6);\n",
"Av = -15;\n",
"Vdd = 30;\n",
"\n",
"gmo = 2*Idss/abs(Vp);\n",
"gm = gmo;\n",
"rd = 1/yos;\n",
"\n",
"//let x = Rd||rd\n",
"x = -Av/gm;\n",
"Rd = 100*10^(3)/30.33;//found by solving for x\n",
"Vdsq = Vdd-Idq*Rd;\n",
"Zi = Rg;\n",
"Zo = Rd*rd/(Rd+rd);\n",
"\n",
"\n",
"disp(Rd,'Rd(ohms) = ');\n",
"disp(Zi,'Zi(ohms) = ');\n",
"disp(Zo,'Zo(ohms) = ');"
   ]
   }
,
{
		   "cell_type": "markdown",
		   "metadata": {},
		   "source": [
			"## Example 8.14: Rd_and_Rs_determination.sce"
		   ]
		  },
  {
"cell_type": "code",
	   "execution_count": null,
	   "metadata": {
	    "collapsed": true
	   },
	   "outputs": [],
"source": [
"clear; clc; close;\n",
"\n",
"yos = 20*10^(-6);\n",
"Idss = 10*10^(-3);\n",
"Idq = 10*10^(-3);\n",
"Vp = -4;\n",
"Vdsq = Vp/4;\n",
"Rg = 10*10^(6);\n",
"Av = -8;\n",
"Vdd = 20;\n",
"\n",
"\n",
"Vgsq = Vp/4;\n",
"Id = Idss*(1-(Vgsq/Vp))^2;\n",
"gmo = 2*Idss/abs(Vp);\n",
"gm = gmo*(1-(Vgsq/Vp));\n",
"//let Rd||rd = x\n",
"x = abs(Av)/gm;\n",
"rd = 1/yos;\n",
"Rd =  106.5*10^(3)/47.87;\n",
"Rs = -Vgsq/Id;\n",
"\n",
"disp(Rd,'Rd(ohms) = ');\n",
"disp(Rs,'Rs(ohms) = ');\n",
""
   ]
   }
,
{
		   "cell_type": "markdown",
		   "metadata": {},
		   "source": [
			"## Example 8.15: Rd_and_Rs_determination.sce"
		   ]
		  },
  {
"cell_type": "code",
	   "execution_count": null,
	   "metadata": {
	    "collapsed": true
	   },
	   "outputs": [],
"source": [
"clear; clc; close;\n",
"\n",
"yos = 20*10^(-6);\n",
"Idss = 10*10^(-3);\n",
"Idq = 10*10^(-3);\n",
"Vp = -4;\n",
"Vdsq = Vp/4;\n",
"Rg = 10*10^(6);\n",
"Av = -8;\n",
"Vdd = 20;\n",
"\n",
"Vgsq = Vp/4;\n",
"Id = Idss*(1-(Vgsq/Vp))^2;\n",
"\n",
"Rs = -Vgsq/Id;\n",
"\n",
"gmo = 2*Idss/abs(Vp);\n",
"gm = gmo*(1-(Vgsq/Vp));\n",
"Rd = -Av*(1+gm*Rs)/gm;\n",
"\n",
"disp(Rs,'Rs(ohms) = ');\n",
"disp(Rd,'Rd(ohms) = ');\n",
""
   ]
   }
,
{
		   "cell_type": "markdown",
		   "metadata": {},
		   "source": [
			"## Example 8.16: Network_characteristics_determination.sce"
		   ]
		  },
  {
"cell_type": "code",
	   "execution_count": null,
	   "metadata": {
	    "collapsed": true
	   },
	   "outputs": [],
"source": [
"clear; clc; close;\n",
"\n",
"yos = 20*10^(-6);\n",
"Idss = 10*10^(-3);\n",
"Idq = 2.8*10^(-3);\n",
"Vp = -4;\n",
"Vgsq = -1.9;\n",
"Vi = 20*10^(-3);\n",
"Rd = 2.4*10^(3);\n",
"Rg = 3.3*10^(6);\n",
"Rl = 10*10^(3);\n",
"\n",
"gmo = 2*Idss/abs(Vp);\n",
"gm = gmo*(1-(Vgsq/Vp));\n",
"Av2 = -gm*Rd;\n",
"Av1 = -gm*(Rd*Rg/(Rd+Rg));\n",
"Av = Av1*Av2;\n",
"Vo = Av*Vi;\n",
"Zi = Rg;\n",
"Zo = Rd;\n",
"Vl = (Rl/(Zo+Rl))*Vo;\n",
"\n",
"\n",
"disp(gm,'gm(S) = ');\n",
"disp(Av2,'voltage gain = ');\n",
"disp(Vo,'output voltage(Volts) = ');\n",
"disp(Zi,'input impedance(ohms) = ');\n",
"disp(Zo,'output impedance(ohms) = ');\n",
"disp(Vl,'output voltage across the load(Volts) = ');"
   ]
   }
,
{
		   "cell_type": "markdown",
		   "metadata": {},
		   "source": [
			"## Example 8.17: Input_output_impedance_and_output_voltage.sce"
		   ]
		  },
  {
"cell_type": "code",
	   "execution_count": null,
	   "metadata": {
	    "collapsed": true
	   },
	   "outputs": [],
"source": [
"clear; clc; close;\n",
"\n",
"Ri_stage2 = 15*(10^(3))*4.7*(10^(3))*1300/(15*(10^(3))*4.7*(10^(3))+4.7*(10^(3))*1300+15*(10^(3))*1300);\n",
"Rd1 = 2.4*10^(3);\n",
"Rd2 = 2.2*10^(3);\n",
"gm = 2.6*10^(-3);\n",
"Vi1 = 20*10^(-3);\n",
"Vi2 = 1*10^(-3);\n",
"\n",
"Av1 = -gm*(Rd1*Ri_stage2/(Rd1+Ri_stage2));\n",
"Av2 = -338.46;\n",
"Av = Av1*Av2;\n",
"Vo1 = Av*Vi1;\n",
"Vo2 = Av*Vi2;\n",
"Zi = 3.3*10^(6);\n",
"Zo = Rd2;\n",
"\n",
"\n",
"disp(Vo2,'Output voltage is ');\n",
"disp(Zi,'Input impedance is ');\n",
"disp(Zo,'Output impedance is ');"
   ]
   }
,
{
		   "cell_type": "markdown",
		   "metadata": {},
		   "source": [
			"## Example 8.1: Calculation_of_gm_for_different_Vgs.sce"
		   ]
		  },
  {
"cell_type": "code",
	   "execution_count": null,
	   "metadata": {
	    "collapsed": true
	   },
	   "outputs": [],
"source": [
"clear; clc; close;\n",
"\n",
"Idss = 8*10^(-3);\n",
"Vp = -4;\n",
"\n",
"\n",
"Vgs1 = Vp;\n",
"Id1 = 0;\n",
"Vgs2 = Vp/2;\n",
"Id2 = Idss/4;\n",
"Vgs3 = 0;\n",
"Id3 = Idss;\n",
"x = [Vgs1 Vgs2 Vgs3];\n",
"y = [Id1 Id2 Id3];\n",
"\n",
"yi=smooth([x;y],0.1);\n",
"a = gca();\n",
"a.thickness = 2;\n",
"a.y_location = 'right';\n",
"a.x_label.text = 'Vgs';\n",
"a.y_label.text = 'Id(mA)';\n",
"a.title.text = 'gm calculation';\n",
"a.grid = [1 1];\n",
"plot2d(yi(1,:)',yi(2,:)',[3]);\n",
"\n",
"\n",
"//part-a \n",
"Vgs = -0.5;\n",
"Id_delta = 2.1*10^(-3);\n",
"Vgs_delta = 0.6;\n",
"\n",
"gm = Id_delta/Vgs_delta;\n",
"disp(gm,'gm(in S) for part a = ');\n",
"\n",
"//part-b\n",
"Vgs = -1.5;\n",
"Id_delta = 1.8*10^(-3);\n",
"Vgs_delta = 0.7;\n",
"\n",
"gm = Id_delta/Vgs_delta;\n",
"disp(gm,'gm(in S) for part b = ');\n",
"\n",
"//part-c\n",
"Vgs = -2.5;\n",
"Id_delta = 1.5*10^(-3);\n",
"Vgs_delta = 1;\n",
"\n",
"gm = Id_delta/Vgs_delta;\n",
"disp(gm,'gm(in S) for part c = ');"
   ]
   }
,
{
		   "cell_type": "markdown",
		   "metadata": {},
		   "source": [
			"## Example 8.2: Calculation_of_gm_for_different_Vgs_and_max_gm.sce"
		   ]
		  },
  {
"cell_type": "code",
	   "execution_count": null,
	   "metadata": {
	    "collapsed": true
	   },
	   "outputs": [],
"source": [
"clear; clc; close;\n",
"\n",
"Idss = 8*10^(-3);\n",
"Vp = -4;\n",
"\n",
"gmo = 2*Idss/abs(Vp);\n",
"\n",
"//part-a \n",
"Vgs = -0.5;\n",
"\n",
"gm = gmo*(1-(Vgs/Vp));\n",
"disp(gm,'gm(in S) for part a = ');\n",
"\n",
"//part-b\n",
"Vgs = -1.5;\n",
"gm = gmo*(1-(Vgs/Vp));\n",
"disp(gm,'gm(in S) for part b = ');\n",
"\n",
"//part-c\n",
"Vgs = -2.5;\n",
"Id_delta = 1.5*10^(-3);\n",
"Vgs_delta = 1;\n",
"\n",
"gm = gmo*(1-(Vgs/Vp));\n",
"disp(gm,'gm(in S) for part c = ');\n",
"\n",
"disp(gmo,'Max gm(in S) is = ')\n",
""
   ]
   }
,
{
		   "cell_type": "markdown",
		   "metadata": {},
		   "source": [
			"## Example 8.3: gm_vs_Vgs.sce"
		   ]
		  },
  {
"cell_type": "code",
	   "execution_count": null,
	   "metadata": {
	    "collapsed": true
	   },
	   "outputs": [],
"source": [
"clear; clc; close;\n",
"\n",
"Vp = -4;\n",
"gmo = 4*10^(-3);\n",
"\n",
"vgs1 = -4;\n",
"gm1 = gmo*(1-(vgs1/Vp));\n",
"vgs2 = -2.5;\n",
"gm2 = gmo*(1-(vgs2/Vp));\n",
"vgs3 = -1.5;\n",
"gm3 = gmo*(1-(vgs3/Vp));\n",
"vgs4 = -1.5;\n",
"gm4 = gmo*(1-(vgs4/Vp));\n",
"vgs5 = 0;\n",
"gm5 = gmo*(1-(vgs5/Vp));\n",
"\n",
"x = [vgs1 vgs2 vgs3 vgs4 vgs5];\n",
"y = [gm1 gm2 gm3 gm4 gm5];\n",
"plot2d(x,y);\n",
"a = gca();\n",
"a.thickness = 2;\n",
"a.y_location = 'right';\n",
"a.x_label.text = 'Vgs';\n",
"a.y_label.text = 'gm(S)';\n",
"a.title.text = 'gm vs Vgs';"
   ]
   }
,
{
		   "cell_type": "markdown",
		   "metadata": {},
		   "source": [
			"## Example 8.4: gm_vs_Id.sce"
		   ]
		  },
  {
"cell_type": "code",
	   "execution_count": null,
	   "metadata": {
	    "collapsed": true
	   },
	   "outputs": [],
"source": [
"clear; clc; close;\n",
"\n",
"Idss = 8*10^(-3);\n",
"Vp = -4;\n",
"\n",
"gmo = 2*Idss/abs(Vp);\n",
"\n",
"Id1 = 0;\n",
"gm1 = gmo*(sqrt(Id1/Idss));\n",
"Id2 = Idss/4;\n",
"gm2 = gmo*(sqrt(Id2/Idss));\n",
"Id3 = Idss/2;\n",
"gm3 = gmo*(sqrt(Id3/Idss));\n",
"Id4 = Idss;\n",
"gm4 = gmo*(sqrt(Id4/Idss));\n",
"\n",
"x = [Id1 Id2 Id3 Id4];\n",
"y = [gm1 gm2 gm3 gm4];\n",
"yi=smooth([x;y],0.0005);\n",
"a = gca();\n",
"a.thickness = 2;\n",
"a.y_location = 'left';\n",
"a.x_label.text = 'Id(mA)';\n",
"a.y_label.text = 'gm(S)';\n",
"a.title.text = 'gm vs Id';\n",
"plot2d(yi(1,:)',yi(2,:)',[3]);"
   ]
   }
,
{
		   "cell_type": "markdown",
		   "metadata": {},
		   "source": [
			"## Example 8.5: Output_impedance.sce"
		   ]
		  },
  {
"cell_type": "code",
	   "execution_count": null,
	   "metadata": {
	    "collapsed": true
	   },
	   "outputs": [],
"source": [
"clear; clc; close;\n",
"\n",
"Vds = 8;\n",
"\n",
"Vgs = 0;\n",
"Vds_delta = 5;\n",
"Id_delta = 0.2*10^(-3);\n",
"rd = Vds_delta/Id_delta;\n",
"disp(rd,'For Vgs = 0V,rd(ohms) = ');\n",
"\n",
"Vgs = -2;\n",
"Vds_delta = 8;\n",
"Id_delta = 0.1*10^(-3);\n",
"rd = Vds_delta/Id_delta;\n",
"disp(rd,'For Vgs = -2V,rd(ohms) = ');"
   ]
   }
,
{
		   "cell_type": "markdown",
		   "metadata": {},
		   "source": [
			"## Example 8.6: FET_equivalent_model.sce"
		   ]
		  },
  {
"cell_type": "code",
	   "execution_count": null,
	   "metadata": {
	    "collapsed": true
	   },
	   "outputs": [],
"source": [
"clear; clc; close;\n",
"\n",
"yfs = 3.8*10^(-3);\n",
"yos = 20*10^(-6);\n",
"\n",
"gm = yfs;\n",
"rd = 1/yos;\n",
"\n",
"disp(gm,'gm(in S) = ');\n",
"disp(rd,'rd(ohms) = ');\n",
""
   ]
   }
,
{
		   "cell_type": "markdown",
		   "metadata": {},
		   "source": [
			"## Example 8.7: JFET_fix_bias_configuration_calculation.sce"
		   ]
		  },
  {
"cell_type": "code",
	   "execution_count": null,
	   "metadata": {
	    "collapsed": true
	   },
	   "outputs": [],
"source": [
"clear; clc; close;\n",
"\n",
"yos = 20*10^(-6);\n",
"Idss = 10*10^(-3);\n",
"Vp = -8;\n",
"Vgsq = -2;\n",
"Idq = 5.625*10^(-3);\n",
"Rg = 1*10^(6);\n",
"Rd = 2*10^(3);\n",
"\n",
"gmo = 2*Idss/abs(Vp);\n",
"gm = gmo*(1-(Vgsq/Vp));\n",
"rd = 1/yos;\n",
"Zi = Rg;\n",
"Zo = Rd*rd/(Rd+rd);\n",
"Av = -gm*(Rd*rd/(Rd+rd));\n",
"Av2 = -gm*Rd;\n",
"\n",
"disp(gm,'gm(S) = ');\n",
"disp(rd,'rd(ohms) = ');\n",
"disp(Zi,'Zi(ohms) = ');\n",
"disp(Zo,'Zo(ohms) = ');\n",
"disp(Av,'Voltage gain Av = ');\n",
"disp(Av2,'Volatge gain Av(ignoring rd) = ');\n",
""
   ]
   }
,
{
		   "cell_type": "markdown",
		   "metadata": {},
		   "source": [
			"## Example 8.8: JFET_self_bias_configuration_calculation.sce"
		   ]
		  },
  {
"cell_type": "code",
	   "execution_count": null,
	   "metadata": {
	    "collapsed": true
	   },
	   "outputs": [],
"source": [
"clear; clc; close;\n",
"\n",
"yos = 25*10^(-6);\n",
"Idss = 8*10^(-3);\n",
"Vp = -6;\n",
"Vgsq = -2.6;\n",
"Idq = 2.6*10^(-3);\n",
"Rg = 1*10^(6);\n",
"Rd = 3.3*10^(3);\n",
"Rs = 1*10^(3);\n",
"\n",
"gmo = 2*Idss/abs(Vp);\n",
"gm = gmo*(1-(Vgsq/Vp));\n",
"rd = 1/yos;\n",
"Zi = Rg;\n",
"Zo = Rd;\n",
"Av = -gm*Rd/(1+gm*Rs+((Rd+Rs)/rd));\n",
"Av2 = -gm*Rd/(1+gm*Rs);\n",
"\n",
"disp(gm,'gm(S) = ');\n",
"disp(rd,'rd(ohms) = ');\n",
"disp(Zi,'Zi(ohms) = ');\n",
"disp(Zo,'Zo(ohms) = ');\n",
"disp(Av,'Voltage gain Av = ');\n",
"disp(Av2,'Volatge gain Av(ignoring rd) = ');\n",
""
   ]
   }
,
{
		   "cell_type": "markdown",
		   "metadata": {},
		   "source": [
			"## Example 8.9: JFET_source_follower_configuration_calculation.sce"
		   ]
		  },
  {
"cell_type": "code",
	   "execution_count": null,
	   "metadata": {
	    "collapsed": true
	   },
	   "outputs": [],
"source": [
"clear; clc; close;\n",
"\n",
"yos = 30*10^(-6);\n",
"Idss = 16*10^(-3);\n",
"Vp = -4;\n",
"Vgsq = -2.86;\n",
"Idq = 4.56*10^(-3);\n",
"Rg = 1*10^(6);\n",
"Rs = 2.2*10^(3);\n",
"\n",
"\n",
"gmo = 2*Idss/abs(Vp);\n",
"gm = gmo*(1-(Vgsq/Vp));\n",
"rd = 1/yos;\n",
"Zi = Rg;\n",
"Zo = rd*Rs*gm^(-1)/((rd*Rs)+(Rs*gm^(-1))+(rd*gm^(-1)));\n",
"Zo2 = Rs*gm^(-1)/(Rs+gm^(-1));\n",
"Av = gm*(rd*Rs/(rd+Rs))/(1+(gm*(rd*Rs/(rd+Rs))));\n",
"Av2 = gm*Rs/(1+gm*Rs);\n",
"\n",
"disp(gm,'gm(S) = ');\n",
"disp(rd,'rd(ohms) = ');\n",
"disp(Zi,'Zi(ohms) = ');\n",
"disp(Zo,'Zo(ohms) = ');\n",
"disp(Zo2,'Zo without rd = ')\n",
"disp(Av,'Voltage gain Av = ');\n",
"disp(Av2,'Volatge gain Av(ignoring rd) = ');\n",
""
   ]
   }
],
"metadata": {
		  "kernelspec": {
		   "display_name": "Scilab",
		   "language": "scilab",
		   "name": "scilab"
		  },
		  "language_info": {
		   "file_extension": ".sce",
		   "help_links": [
			{
			 "text": "MetaKernel Magics",
			 "url": "https://github.com/calysto/metakernel/blob/master/metakernel/magics/README.md"
			}
		   ],
		   "mimetype": "text/x-octave",
		   "name": "scilab",
		   "version": "0.7.1"
		  }
		 },
		 "nbformat": 4,
		 "nbformat_minor": 0
}
