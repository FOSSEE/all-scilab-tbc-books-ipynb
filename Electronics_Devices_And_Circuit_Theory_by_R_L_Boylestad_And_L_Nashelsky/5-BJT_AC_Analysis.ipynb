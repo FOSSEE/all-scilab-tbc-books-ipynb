{
"cells": [
 {
		   "cell_type": "markdown",
	   "metadata": {},
	   "source": [
       "# Chapter 5: BJT AC Analysis"
	   ]
	},
{
		   "cell_type": "markdown",
		   "metadata": {},
		   "source": [
			"## Example 5.10: Emitter_follower_Network_characteristics_determination.sce"
		   ]
		  },
  {
"cell_type": "code",
	   "execution_count": null,
	   "metadata": {
	    "collapsed": true
	   },
	   "outputs": [],
"source": [
"clear; clc; close;\n",
"\n",
"Vcc = 12;\n",
"Vbe = 0.7;\n",
"Vt = 26*(10^(-3));\n",
"Re = 3.3*(10^(3));\n",
"Rb = 220*(10^(3));\n",
"ro = %inf;\n",
"Beta = 100;\n",
"\n",
"disp('For ro=infinity the values are:-');\n",
"Ib = (Vcc-Vbe)/(Rb+(Beta+1)*Re);\n",
"Ie = (Beta+1)*Ib;\n",
"re = Vt/Ie;\n",
"disp(re,'Value of diode resistive element is(in ohms) :');\n",
"\n",
"Zb = (Beta*re) + ((Beta+1)*Re);\n",
"Zi = (Rb*Zb)/(Rb+Zb);\n",
"disp(Zi,'Input Impedance(ohms) :');\n",
"\n",
"Zo = (Re*re)/(Re+re);\n",
"disp(Zo,'Output Impedance(ohms) :');\n",
"\n",
"Av = Re/(Re+re);\n",
"disp(Av,'Voltage gain :');\n",
"\n",
"disp('For ro=25kohm the values are :-')\n",
"ro_2 = 25*(10^(3));\n",
"\n",
"Zb_2 = (Beta*re) + ((Beta+1)*Re)/(1+(Re/ro_2));\n",
"Zi_2 = (Rb*Zb_2)/(Rb+Zb_2);\n",
"disp(Zi_2,'Input Impedance(ohms) :');\n",
"\n",
"Zo_2 = (Re*re)/(Re+re);\n",
"disp(Zo_2,'Output Impedance(ohms) :');\n",
"\n",
"Av_2 = (((Beta+1)*Re)/Zb_2)/(1+(Re/ro_2));\n",
"disp(Av_2,'Voltage gain :');"
   ]
   }
,
{
		   "cell_type": "markdown",
		   "metadata": {},
		   "source": [
			"## Example 5.11: Network_characteristics_determination.sce"
		   ]
		  },
  {
"cell_type": "code",
	   "execution_count": null,
	   "metadata": {
	    "collapsed": true
	   },
	   "outputs": [],
"source": [
"clear; clc; close;\n",
"\n",
"Vee = 2;\n",
"Vbe = 0.7;\n",
"Vt = 26*(10^(-3));\n",
"Re = 1*(10^(3));\n",
"Rc = 5*(10^(3));\n",
"ro = 1*(10^(6));\n",
"alpha = 0.98;\n",
"\n",
"Ie = (Vee-Vbe)/Re;\n",
"re = Vt/Ie;\n",
"disp(re,'Value of diode resistive element(re) :');\n",
"\n",
"Zi = (Re*re)/(Re+re);\n",
"disp(Zi,'Input Impedance(Zi) :');\n",
"\n",
"Zo = Rc;\n",
"disp(Zo,'Output Impedance(Zo) :');\n",
"\n",
"Av = Rc/re;\n",
"disp(Av,'Voltage gain(Av) :');\n",
"\n",
"Ai = -alpha;\n",
"disp(Ai,'Current gain(Ai) :');"
   ]
   }
,
{
		   "cell_type": "markdown",
		   "metadata": {},
		   "source": [
			"## Example 5.12: Network_characteristics_determination.sce"
		   ]
		  },
  {
"cell_type": "code",
	   "execution_count": null,
	   "metadata": {
	    "collapsed": true
	   },
	   "outputs": [],
"source": [
"clear; clc; close;\n",
"\n",
"Vcc = 9;\n",
"Vbe = 0.7;\n",
"Vt = 26*(10^(-3));\n",
"Rf = 180*(10^(3));\n",
"Rc = 2.7*(10^(3));\n",
"Beta = 200;\n",
"ro = %inf;\n",
"\n",
"disp('Values at ro=infinity are :-');\n",
"Ib = (Vcc-Vbe)/(Rf+(Beta*Rc));\n",
"Ie = (Beta+1)*Ib;\n",
"re = Vt/Ie;\n",
"disp(re,'Value of diode resistive element(re) :');\n",
"\n",
"Zi = re/((1/Beta)+(Rc/Rf));\n",
"disp(Zi,'Input Impedance(Zi) :');\n",
"\n",
"Zo = (Rc*Rf)/(Rc+Rf);\n",
"disp(Zo,'Output Impedance(Zo) :');\n",
"\n",
"Av = -Rc/re;\n",
"disp(Av,'Voltage gain(Av) :');\n",
"disp('Values at ro=25kohm are :- ');\n",
"ro_2 = 20*(10^(3));\n",
"\n",
"Zi_2 = (1+((Rc*ro_2)/(Rc+ro_2))/Rf)/((1/(Beta*re))+(1/Rf)+(((Rc*ro_2)/(Rc+ro_2))/(Rf*re)));\n",
"disp(Zi_2,'Input Impedance(Zi) :');\n",
"\n",
"Zo_2 = (ro_2*Rc*Rf)/(ro_2*Rc+Rc*Rf+Rf*ro_2);\n",
"disp(Zo_2,'Output Impedance(Zo) :');\n",
"\n",
"Av_2 = -[1/Rf + 1/re]*[ro_2*Rc/(ro_2+Rc)]/[1+[(ro_2*Rc)/(ro_2+Rc)]/Rf];\n",
"disp(Av_2,'Voltage gain(Av) :');"
   ]
   }
,
{
		   "cell_type": "markdown",
		   "metadata": {},
		   "source": [
			"## Example 5.13: Network_characteristics_determination.sce"
		   ]
		  },
  {
"cell_type": "code",
	   "execution_count": null,
	   "metadata": {
	    "collapsed": true
	   },
	   "outputs": [],
"source": [
"clear; clc; close;\n",
"\n",
"Vcc = 12;\n",
"Vbe = 0.7;\n",
"Vt = 26*(10^(-3));\n",
"Rc = 3*(10^(3));\n",
"Rf1 = 120*(10^(3));\n",
"Rf2 = 68*(10^(3));\n",
"Rf = Rf1 + Rf2;\n",
"ro = 30*(10^(3));\n",
"Beta = 140;\n",
"\n",
"Ib = (Vcc-Vbe)/(Rf+Beta*Rc);\n",
"Ie = (1+Beta)*Ib;\n",
"re = Vt/Ie;\n",
"disp(re,'Value of diode resistive element(re) :');\n",
"\n",
"Zb = Beta*re;\n",
"Zi = (Rf1*Zb)/(Rf1+Zb);\n",
"disp(Zi,'Input Impedance(Zi) :');\n",
"\n",
"Zo = (Rc*Rf2)/(Rc+Rf2);\n",
"disp(Zo,'Output Impedance(Zo) :');\n",
"\n",
"Av = -[(Rf2*Rc)/(Rf2+Rc)]/re;\n",
"disp(Av,'Voltage gain(Av) :');"
   ]
   }
,
{
		   "cell_type": "markdown",
		   "metadata": {},
		   "source": [
			"## Example 5.14: Fixed_Bias_Network_characteristics.sce"
		   ]
		  },
  {
"cell_type": "code",
	   "execution_count": null,
	   "metadata": {
	    "collapsed": true
	   },
	   "outputs": [],
"source": [
"clear; clc; close;\n",
"\n",
"Vcc = 15;\n",
"Vbe = 0.7;\n",
"Vt = 26*(10^(-3));\n",
"Rb = 470*(10^(3));\n",
"Rc = 4.7*(10^(3));\n",
"Rl = 4.7*(10^(3));\n",
"Rs = 0.3*(10^(3));\n",
"ro = 50*(10^(3));\n",
"Beta = 100;\n",
"\n",
"\n",
"Ib = (Vcc-Vbe)/Rb;\n",
"Ie = (Beta+1)*Ib;\n",
"re = Vt/Ie;\n",
"disp(re,'Value of diode resistive element(re) :')\n",
"\n",
"Zb = Beta*re;\n",
"Zi_prev = (Rb*Zb)/(Rb+Zb);\n",
"disp(Zi_prev,'Input Impedance(Zi) :');\n",
"\n",
"Zo_prev = Rc;\n",
"disp(Zo_prev,'Output Impedance(Zo) :');\n",
"\n",
"Av_prev = -Rc/re;\n",
"disp(Av_prev,'Voltage gain(Av) with no-load :');\n",
"\n",
"\n",
"\n",
"Av = -[(Rc*Rl)/(Rc+Rl)]/re;\n",
"disp(Av,'Voltage gain(Av) with 4.7kohm load :');\n",
"\n",
"Avs = (Zi_prev/(Zi_prev+Rs))*Av;\n",
"disp(Avs,'Voltage gain(Avs) from source to output with 4.7kohm load :');\n",
"disp(Av_prev,'Voltage gain(Av) with no-load :');"
   ]
   }
,
{
		   "cell_type": "markdown",
		   "metadata": {},
		   "source": [
			"## Example 5.15: Av_and_Avs.sce"
		   ]
		  },
  {
"cell_type": "code",
	   "execution_count": null,
	   "metadata": {
	    "collapsed": true
	   },
	   "outputs": [],
"source": [
"clear; clc; close;\n",
"\n",
"Rl = 4.7*(10^(3));\n",
"Rs = 0.3*(10^(3));\n",
"Ro = 4.7*(10^(3));\n",
"Zi = 846.1;\n",
"Zo = 4.7*(10^(3));\n",
"AvNL = -555.55;    //gain under no-load condition\n",
"\n",
"Av = {Rl/(Rl+Ro)}*AvNL;\n",
"disp(Av,'Voltage gain(Av) with 4.7kohm load :');\n",
"\n",
"Avs = (Zi/(Zi+Rs))*(Rl/(Rl+Ro))*AvNL;\n",
"disp(Avs,'Voltage gain(Avs) from source to output with 4.7kohm load :');"
   ]
   }
,
{
		   "cell_type": "markdown",
		   "metadata": {},
		   "source": [
			"## Example 5.16: Network_characteristics_determination.sce"
		   ]
		  },
  {
"cell_type": "code",
	   "execution_count": null,
	   "metadata": {
	    "collapsed": true
	   },
	   "outputs": [],
"source": [
"clear; clc; close;\n",
"\n",
"Zi = 4*(10^(3));\n",
"Zo = 2*(10^(3));\n",
"Rs = 0.2*(10^(3));\n",
"AvNL = -480;\n",
"disp(AvNL,'Voltage gain(Av) with no-load :')\n",
"\n",
"Rl = 1.2*(10^(3));\n",
"Av = {Rl/(Rl+Zo)}*AvNL;\n",
"disp(Av,'Voltage gain(Av) with 1.2kohm load :');\n",
"\n",
"Rl = 5.6*(10^(3));\n",
"Av = {Rl/(Rl+Zo)}*AvNL;\n",
"disp(Av,'Voltage gain(Av) with 5.6kohm load :');\n",
"\n",
"Rl = 1.2*(10^(3));\n",
"Avs = {Zi/(Zi+Rs)}*{Rl/(Rl+Zo)}*AvNL;\n",
"disp(Avs,'Voltage gain(Avs) from source to output with 1.2kohm load :');\n",
"\n",
"Rl = 5.6*(10^(3));\n",
"Ai = -Av*(Zi/Rl);\n",
"disp(Ai,'Current gain with 5.6kohm load :');"
   ]
   }
,
{
		   "cell_type": "markdown",
		   "metadata": {},
		   "source": [
			"## Example 5.17: Network_characteristics_determination.sce"
		   ]
		  },
  {
"cell_type": "code",
	   "execution_count": null,
	   "metadata": {
	    "collapsed": true
	   },
	   "outputs": [],
"source": [
"clear; clc; close;\n",
"\n",
"Rs = 1*(10^(3));\n",
"Rl = 8.2*(10^(3));\n",
"\n",
"Zi1 = 10*(10^(3));\n",
"Zo1 = 12;\n",
"AvNL1 = 1;\n",
"Vi1 = rand();\n",
"\n",
"Zi2 = 26;\n",
"Zo2 = 5.1*(10^(3));\n",
"AvNL2 = 240;\n",
"Vi2 = rand();\n",
"\n",
"Vo1 = (Zi2/(Zi2+Zo1))*AvNL1*Vi1;\n",
"Av1 = Vo1/Vi1;\n",
"disp(Av1,'Voltage gain(Av1) for first stage :');\n",
"\n",
"Vo2 = (Rl/(Rl+Zo2))*AvNL2*Vi2;\n",
"Av2 = Vo2/Vi2;\n",
"disp(Av2,'Voltage gain(Av2) for second stage :');\n",
"\n",
"Avt = Av1*Av2;\n",
"disp(Avt,'Total Voltage gain(Avt) :');\n",
"\n",
"Avs = {Zi1/(Zi1+Rs)}*Avt;\n",
"disp(Avs,'Total Voltage gain(Avs) from source:');\n",
"\n",
"Ait = -Avt*(Zi1/Rl);\n",
"disp(Ait,'Total current gain(Ai) :');\n",
"\n",
"Vs = rand();\n",
"Vi = {Zi2/(Zi2+Rs)}*Vs;\n",
"Avs = (Vi/Vs)*Av2;\n",
"disp(Avs,'Total gain if emitter-follower configuration removed :');"
   ]
   }
,
{
		   "cell_type": "markdown",
		   "metadata": {},
		   "source": [
			"## Example 5.18: Network_characteristics_determination.sce"
		   ]
		  },
  {
"cell_type": "code",
	   "execution_count": null,
	   "metadata": {
	    "collapsed": true
	   },
	   "outputs": [],
"source": [
"clear; clc; close;\n",
"\n",
"Vi = 25*(10^(-6));\n",
"Beta = 200;\n",
"R1 = 15*(10^(3));\n",
"R2 = 4.7*(10^(3));\n",
"Rc = 2.2*(10^(3));\n",
"Zo = Rc;\n",
"Re = 1*(10^(3));\n",
"\n",
"Vb = 4.7;\n",
"Ve = 4;\n",
"Vc = 11;\n",
"Vt = 26*(10^-(3));\n",
"Ie = 4*(10^(-3));\n",
"\n",
"re = Vt/Ie;\n",
"Zb  = Beta*re;\n",
"Zi2 = (R1*R2*Zb)/(R1*R2 + R2*Zb + Zb*R1);\n",
"Av1 = -{(Rc*Zi2)/(Rc+Zi2)}/re;\n",
"AvNL2 = -Rc/re;\n",
"AvT_NL = Av1*AvNL2;\n",
"disp(AvT_NL,'No-load voltage gain(Avt(NL)) :');\n",
"\n",
"Vo = AvT_NL*Vi;\n",
"disp(Vo,'Voltage gain(Vo) :');\n",
"\n",
"Rl = 10*(10^(3));\n",
"Avt = {Rl/(Rl+Zo)}*AvT_NL;\n",
"disp(Avt,'Voltage gain(Avt) when 10kohm load applied to stage 2:');\n",
"\n",
"Zi1 = Zi2;\n",
"disp(Zi1,'input impedance of first stage(Zi1) :');\n",
"\n",
"Zo2 = Rc;\n",
"disp(Zo2,'Output impedance of second stage(Vo2) :');\n",
""
   ]
   }
,
{
		   "cell_type": "markdown",
		   "metadata": {},
		   "source": [
			"## Example 5.19: No_load_voltage_gai.sce"
		   ]
		  },
  {
"cell_type": "code",
	   "execution_count": null,
	   "metadata": {
	    "collapsed": true
	   },
	   "outputs": [],
"source": [
"clear; clc; close;\n",
"\n",
"Vcc = 18;\n",
"Vt = 26*(10^(-3));\n",
"Beta = 200;\n",
"\n",
"Vb1 = 4.9;\n",
"Vb2 = 10.8;\n",
"Ic1 = 3.8*(10^(-3));\n",
"Ic2 = 3.8*(10^-(3));\n",
"Ie = Ic1;\n",
"Re1 = 1.1*(10^(3));\n",
"Rc2 = 1.8*(10^(3));\n",
"\n",
"\n",
"re = Vt/Ie;\n",
"Rc1 = re;\n",
"Av1 = -Rc1/re;\n",
"\n",
"Av2 = Rc2/re;\n",
"Avt = Av1*Av2;\n",
"disp(Avt,'no-load voltage gain(Avt) :');"
   ]
   }
,
{
		   "cell_type": "markdown",
		   "metadata": {},
		   "source": [
			"## Example 5.1: Common_base_config_characteristics.sce"
		   ]
		  },
  {
"cell_type": "code",
	   "execution_count": null,
	   "metadata": {
	    "collapsed": true
	   },
	   "outputs": [],
"source": [
"clear; clc; close;\n",
"\n",
"Vt=26*(10^(-3)); //thermal voltage=26mV\n",
"Vi=3*(10^(-3));\n",
"Ie=4*(10^(-3));;	//emitter current=4mV\n",
"alpha=0.991; //common base amplification factor\n",
"Rl=610;        //Load Resistance(in ohms)\n",
"\n",
"//Part-1 -> Determinig input impedance\n",
"re = Vt/Ie;\n",
"disp(re,'Input impedance(ohms) :');\n",
"\n",
"//Part-2 -> Calculating the voltage gain\n",
"Ii = (Vi/re);    \n",
"Ie = Ii;\n",
"Ic=alpha*Ie;         \n",
"Vo=Ic*Rl;    \n",
"Av = Vo/Vi;\n",
"disp(Av,'Voltage gain :');\n",
"\n",
"//Part-3 -> Calculating the output impedance and current gain\n",
"disp(%inf,'The output impedance(ohms) is :');\n",
"Ai = -Ic/Ie;\n",
"disp(Ai,'Current gain is :');\n",
"\n",
""
   ]
   }
,
{
		   "cell_type": "markdown",
		   "metadata": {},
		   "source": [
			"## Example 5.20: Dc_bias_voltage_and_current.sce"
		   ]
		  },
  {
"cell_type": "code",
	   "execution_count": null,
	   "metadata": {
	    "collapsed": true
	   },
	   "outputs": [],
"source": [
"clear; clc; close;\n",
"\n",
"Vcc = 18;\n",
"Vbe = 1.6;\n",
"Rb = 3.3*(10^(6));\n",
"Re = 390;\n",
"Beta = 8000;\n",
"\n",
"Ib = (Vcc-Vbe)/(Rb+(Beta*Re));\n",
"disp(Ib,'Ib :');\n",
"Ie = (Beta+1)*Ib;\n",
"disp(Ie,'Ie :');\n",
"Ve = Ie*Re;\n",
"disp(Ve,'Ve :');\n",
"Vb = Ve+Vbe;\n",
"disp(Vb,'Vb :');\n",
"disp(Vcc,'Vc :');"
   ]
   }
,
{
		   "cell_type": "markdown",
		   "metadata": {},
		   "source": [
			"## Example 5.21: Input_impedance.sce"
		   ]
		  },
  {
"cell_type": "code",
	   "execution_count": null,
	   "metadata": {
	    "collapsed": true
	   },
	   "outputs": [],
"source": [
"clear; clc; close;\n",
"\n",
"ri = 5*(10^(3));\n",
"Rb = 3.3*(10^(6));\n",
"Beta = 8000;\n",
"Re = 390;\n",
"\n",
"Zb = ri + (Beta*Re);\n",
"Zi = (Rb*Zb)/(Rb+Zb);\n",
"disp(Zi,'input impedance(Zi) :');"
   ]
   }
,
{
		   "cell_type": "markdown",
		   "metadata": {},
		   "source": [
			"## Example 5.22: Ac_current_gain.sce"
		   ]
		  },
  {
"cell_type": "code",
	   "execution_count": null,
	   "metadata": {
	    "collapsed": true
	   },
	   "outputs": [],
"source": [
"clear; clc; close;\n",
"\n",
"Rb = 3.3*(10^(6));\n",
"Beta = 8000;\n",
"Re = 390;\n",
"\n",
"Ai = (Beta*Rb)/(Rb+Beta*Re);\n",
"disp(Ai,'ac current gain(Ai) :');"
   ]
   }
,
{
		   "cell_type": "markdown",
		   "metadata": {},
		   "source": [
			"## Example 5.23: Output_impedance.sce"
		   ]
		  },
  {
"cell_type": "code",
	   "execution_count": null,
	   "metadata": {
	    "collapsed": true
	   },
	   "outputs": [],
"source": [
"clear; clc; close;\n",
"\n",
"Beta = 8000;\n",
"Re = 390;\n",
"ri = 5*(10^(3));\n",
"\n",
"x = ri/Beta;\n",
"Zo = (Re*ri*x)/(Re*ri+ri*x+x*Re);\n",
"disp(Zo,'output impedance(Zo) :');"
   ]
   }
,
{
		   "cell_type": "markdown",
		   "metadata": {},
		   "source": [
			"## Example 5.24: Ac_voltage_gai.sce"
		   ]
		  },
  {
"cell_type": "code",
	   "execution_count": null,
	   "metadata": {
	    "collapsed": true
	   },
	   "outputs": [],
"source": [
"clear; clc; close;\n",
"\n",
"Beta = 8000;\n",
"Re = 390;\n",
"ri = 5*(10^(3));\n",
"\n",
"Av = (Re+(Beta*Re))/(ri+(Re+Beta*Re));\n",
"disp(Av,'ac voltage gain(Av) :');\n",
""
   ]
   }
,
{
		   "cell_type": "markdown",
		   "metadata": {},
		   "source": [
			"## Example 5.25: Dc_bias_voltage_and_current.sce"
		   ]
		  },
  {
"cell_type": "code",
	   "execution_count": null,
	   "metadata": {
	    "collapsed": true
	   },
	   "outputs": [],
"source": [
"clear; clc; close;\n",
"\n",
"Vcc = 18;\n",
"Veb1 = 0.7;\n",
"Rb = 2*(10^(6));\n",
"Rc = 75;\n",
"Beta1 = 140;\n",
"Beta2 = 180;\n",
"\n",
"Ib1 = (Vcc-Veb1)/(Rb+(Beta1*Beta2*Rc));\n",
"Ic1 = Beta1*Ib1;\n",
"Ib2 = Ic1;\n",
"disp(Ib2,'Ib :');\n",
"Ic2 = Beta2*Ib2;\n",
"disp(Ic2,'Ic :');\n",
"Ie1 = Ic1-Ib1;\n",
"Ic = Ie1+Ic2;\n",
"disp(Ic,'Ic(Total) :');\n",
"Vo_dc = Vcc-Ic*Rc;\n",
"disp(Vo_dc,'Dc voltage(Ouput) :');\n",
"Vi_dc = Vo_dc-Veb1;\n",
"disp(Vi_dc,'Dc voltage (Input) :');"
   ]
   }
,
{
		   "cell_type": "markdown",
		   "metadata": {},
		   "source": [
			"## Example 5.26: Ac_circuit_values_of_Zi_Zo_Ai_Av.sce"
		   ]
		  },
  {
"cell_type": "code",
	   "execution_count": null,
	   "metadata": {
	    "collapsed": true
	   },
	   "outputs": [],
"source": [
"clear; clc; close;\n",
"\n",
"Vcc = 18;\n",
"Veb1 = 0.7;\n",
"Rb = 2*(10^(6));\n",
"Rc = 75;\n",
"Beta1 = 140;\n",
"Beta2 = 180;\n",
"ri1 = 3*(10^(3));\n",
"\n",
"Zb = ri1+(Beta1*Beta2*Rc);\n",
"Zi = (Rb*Zb)/(Rb+Zb);\n",
"disp(Zi,'Input impedance(Zi) :');\n",
"\n",
"Ai = (Beta1*Beta2)*(Rb/(Rb+Zi));\n",
"disp(Ai,'Current gain(Ai) :');\n",
"\n",
"Zo = ri1/(Beta1*Beta2);\n",
"disp(Zo,'Output impedance(Zo) :');\n",
"Av = (Beta1*Beta2*Rc)/((Beta1*Beta2*Rc)+ri1);\n",
"disp(Av,'volatge gain(Av) :');"
   ]
   }
,
{
		   "cell_type": "markdown",
		   "metadata": {},
		   "source": [
			"## Example 5.27: Mirrored_Current.sce"
		   ]
		  },
  {
"cell_type": "code",
	   "execution_count": null,
	   "metadata": {
	    "collapsed": true
	   },
	   "outputs": [],
"source": [
"clear; clc; close;\n",
"\n",
"Vcc = 12;\n",
"Vbe = 0.7;\n",
"Rx = 1.1*(10^(3));\n",
"\n",
"Ix = (Vcc-Vbe)/Rx;\n",
"disp(Ix,'Mirrored current :');\n",
""
   ]
   }
,
{
		   "cell_type": "markdown",
		   "metadata": {},
		   "source": [
			"## Example 5.28: Current_through_transistors.sce"
		   ]
		  },
  {
"cell_type": "code",
	   "execution_count": null,
	   "metadata": {
	    "collapsed": true
	   },
	   "outputs": [],
"source": [
"clear; clc; close;\n",
"\n",
"Vcc = 6;\n",
"Vbe = 0.7;\n",
"Rx = 1.3*(10^(3));\n",
"\n",
"Ix = (Vcc-Vbe)/Rx;\n",
"disp(Ix,'Current through each transistor :');"
   ]
   }
,
{
		   "cell_type": "markdown",
		   "metadata": {},
		   "source": [
			"## Example 5.29: Constant_current.sce"
		   ]
		  },
  {
"cell_type": "code",
	   "execution_count": null,
	   "metadata": {
	    "collapsed": true
	   },
	   "outputs": [],
"source": [
"clear; clc; close;\n",
"\n",
"Vee = 20;\n",
"Vbe = 0.7;\n",
"R1 = 5.1*(10^(3));\n",
"R2 = R1;\n",
"Re = 2.2*(10^(3));\n",
"\n",
"Vb = (R1/(R1+R2))*(-Vee);\n",
"Ve = Vb - Vbe;\n",
"Ie = (Ve-(-Vee))/Re;\n",
"disp(Ie,'Constant current :');"
   ]
   }
,
{
		   "cell_type": "markdown",
		   "metadata": {},
		   "source": [
			"## Example 5.2: Zi_Av_and_Ai_for_common_emitter.sce"
		   ]
		  },
  {
"cell_type": "code",
	   "execution_count": null,
	   "metadata": {
	    "collapsed": true
	   },
	   "outputs": [],
"source": [
"clear; clc; close;\n",
"\n",
"Vt=26*(10^(-3));      //thermal voltage\n",
"Ie=3.2*(10^(-3));	  //emitter current\n",
"Beta=150;            //Common Emitter amplification factor\n",
"Rl = 2*(10^(3));    //Load Resistance\n",
"\n",
"re = Vt/Ie;\n",
"Zi = Beta*re;\n",
"disp(Zi,'Input Impedance(ohms) is : ');\n",
"\n",
"Av = -(Rl/re);\n",
"disp(Av,'Voltage gain is :');\n",
"\n",
"Ai = Beta;\n",
"disp(Ai,'Current gain is :');\n",
""
   ]
   }
,
{
		   "cell_type": "markdown",
		   "metadata": {},
		   "source": [
			"## Example 5.30: Constant_current.sce"
		   ]
		  },
  {
"cell_type": "code",
	   "execution_count": null,
	   "metadata": {
	    "collapsed": true
	   },
	   "outputs": [],
"source": [
"clear; clc; close;\n",
"\n",
"Vee = 18;\n",
"Vz = 6.2;\n",
"Vbe = 0.7;\n",
"Re = 1.8*(10^(3));\n",
"\n",
"I = (Vz-Vbe)/Re;\n",
"disp(I,'Constant current :');"
   ]
   }
,
{
		   "cell_type": "markdown",
		   "metadata": {},
		   "source": [
			"## Example 5.31: Network_characteristics_determination.sce"
		   ]
		  },
  {
"cell_type": "code",
	   "execution_count": null,
	   "metadata": {
	    "collapsed": true
	   },
	   "outputs": [],
"source": [
"clear; clc; close;\n",
"\n",
"Vcc = 10;\n",
"Vbe = 0.7;\n",
"hfe = 120;\n",
"hie = 1.175*(10^(3));\n",
"hoe = 20*(10^(-6));\n",
"Rb = 470*(10^(3));\n",
"Rc = 2.7*(10^(3));\n",
"\n",
"Zi = (Rb*hie)/(Rb+hie);\n",
"disp(Zi,'Input impedance(Zi) :');\n",
"ro = 1/hoe;\n",
"Zo = (ro*Rc)/(ro+Rc);\n",
"disp(Zo,'Output impedance(Zo) :');\n",
"Av = -hfe*Zo/hie;\n",
"disp(Av,'Voltage gain(Av) :');\n",
"Ai = hfe;\n",
"disp(Ai,'Current gain(Ai) :');"
   ]
   }
,
{
		   "cell_type": "markdown",
		   "metadata": {},
		   "source": [
			"## Example 5.32: Network_characteristics_determination.sce"
		   ]
		  },
  {
"cell_type": "code",
	   "execution_count": null,
	   "metadata": {
	    "collapsed": true
	   },
	   "outputs": [],
"source": [
"clear; clc; close;\n",
"\n",
"hfb = -0.99;\n",
"hib = 14.3;\n",
"hob = 0.5*(10^(-6));\n",
"Re = 2.2*(10^(3));\n",
"Rc = 3.3*(10^(3));\n",
"\n",
"Zi = (Re*hib)/(Re+hib);\n",
"disp(Zi,'Input impedance(Zi) :');\n",
"ro=1/hob;\n",
"Zo = (ro*Rc)/(ro+Rc);\n",
"disp(Zo,'Output impedance(Zo) :');\n",
"Av = -hfb*Rc/hib;\n",
"disp(Av,'Voltage gain(Av) :');\n",
"Ai = hfb;\n",
"disp(Ai,'Current gain(Ai) :');"
   ]
   }
,
{
		   "cell_type": "markdown",
		   "metadata": {},
		   "source": [
			"## Example 5.33: Determing_parameters_using_hybrid_equivalent_model.sce"
		   ]
		  },
  {
"cell_type": "code",
	   "execution_count": null,
	   "metadata": {
	    "collapsed": true
	   },
	   "outputs": [],
"source": [
"clear; clc; close;\n",
"\n",
"Vcc = 8;\n",
"hfe = 110;\n",
"hie = 1.6*(10^(3));\n",
"hoe = 20*(10^(-6));\n",
"hre = 2*(10^(-4));\n",
"Rl = 4.7*(10^(3));\n",
"Rc = 4.7*(10^(3));\n",
"Rb = 470*(10^(3));\n",
"Rs = 1*(10^(3));\n",
"\n",
"Zi = hie - (hfe*hre*Rl)/(1+hoe*Rl);\n",
"disp(Zi,'Input impedance using hybrid equivalent :');\n",
"disp(hie,'Input impedance using approximate model :')\n",
"Zi_b = (Rb*hie)/(Rb+hie);\n",
"disp(Zi_b,'Input impedance including Rb :');\n",
"\n",
"Av = -hfe*Rl/(hie+(hie*hoe-hfe*hre)*Rl);\n",
"disp(Av,'Voltage gain using hybrid equivalent :');\n",
"Av_approx = -hfe*Rl/hie;\n",
"disp(Av_approx,'Voltage gain using approximate model :');\n",
"\n",
"Ai = hfe/(1+hoe*Rl);\n",
"disp(Ai,'Current gain using hybrid equivalent :');\n",
"Ai_approx = hfe;\n",
"disp(Ai_approx,'Current gain using approximate model :');\n",
"\n",
"Zo = 1/[hoe-(hfe*hre)/(hie+Rs)];\n",
"disp(Zo,'Output impedance using hybrid equivalent :');\n",
"Zo_approx = 1/hoe;\n",
"disp(Zo_approx,'Output impedance using approximate model :');\n",
"Zo_rc = (Rc*Zo)/(Rc+Zo);\n",
"disp(Zo_rc,'Output impedance including Rc & using hybrid equivalent :');\n",
"Zo_rc_approx = Rc;\n",
"disp(Zo_rc_approx,'Output impedance including Rc & using approximate model :');\n",
""
   ]
   }
,
{
		   "cell_type": "markdown",
		   "metadata": {},
		   "source": [
			"## Example 5.34: Determing_parameters_using_hybrid_equivalent_model.sce"
		   ]
		  },
  {
"cell_type": "code",
	   "execution_count": null,
	   "metadata": {
	    "collapsed": true
	   },
	   "outputs": [],
"source": [
"clear; clc; close;\n",
"\n",
"hfe = 110;\n",
"hie = 1.6*(10^(3));\n",
"hoe = 20*(10^(-6));\n",
"hre = 2*(10^(-4));\n",
"Rl = 2.2*(10^(3));\n",
"Rc = 2.2*(10^(3));\n",
"R1 = 3*(10^(3));\n",
"Rs = 1*(10^(3));\n",
"disp('Common base hybrid parameters are as follows :')\n",
"hib =  hie/(1+hfe);\n",
"disp(hib,'hib :');\n",
"hrb = (hie*hoe)/(1+hfe)-hre;\n",
"disp(hrb,'hrb :');\n",
"hfb = -hfe/(1+hfe);\n",
"disp(hfb,'hfb :');\n",
"hob = hoe/(1+hfe);\n",
"disp(hob,'hob :');\n",
"\n",
"Zi = hib - (hfb*hrb*Rl)/(1+hob*Rl);\n",
"disp(Zi,'Input impedance using hybrid equivalent :');\n",
"disp(hib,'Input impedance using approximate model :');\n",
"Zi_b = (R1*hib)/(R1+hib);\n",
"disp(Zi_b,'Input impedance including Rb :');\n",
"\n",
"Ai = hfb/(1+hob*Rl);\n",
"disp(Ai,'Current gain using hybrid equivalent :');\n",
"Ai_approx = hfb;\n",
"disp(Ai_approx,'Current gain using approximate model :');\n",
"\n",
"Av = -hfb*Rl/(hib+(hib*hob-hfb*hrb)*Rl);\n",
"disp(Av,'Voltage gain using hybrid equivalent :');\n",
"Av_approx = -hfb*Rl/hib;\n",
"disp(Av_approx,'Voltage gain using approximate model :');\n",
"\n",
"Zo = 1/[hob-(hfb*hrb)/(hib+Rs)];\n",
"disp(Zo,'Output impedance using hybrid equivalent :');\n",
"Zo_approx = 1/hob;\n",
"disp(Zo_approx,'Output impedance using approximate model :');\n",
"Zo_rc = (Rc*Zo)/(Rc+Zo);\n",
"disp(Zo_rc,'Output impedance including Rc & using hybrid equivalent :');\n",
"Zo_rc_approx = Rc;\n",
"disp(Zo_rc_approx,'Output impedance including Rc & using approximate model :');\n",
""
   ]
   }
,
{
		   "cell_type": "markdown",
		   "metadata": {},
		   "source": [
			"## Example 5.3: Common_emitter_hybrid_and_common_base_model.sce"
		   ]
		  },
  {
"cell_type": "code",
	   "execution_count": null,
	   "metadata": {
	    "collapsed": true
	   },
	   "outputs": [],
"source": [
"clear; clc; close;\n",
"\n",
"Vt=26*(10^(-3)); //thermal voltage\n",
"Ie=3.2*(10^(-3));	//emitter current\n",
"Beta = 150;//Common Emitter amplification factor\n",
"h_oe = 25*(10^(-6));\n",
"h_ob =0.5*(10^(-6));\n",
"\n",
"re = Vt/Ie;\n",
"h_ie = Beta*re;\n",
"r_o = 1/h_oe;\n",
"disp('For the common emitter hybrid equivalent circuit :-')\n",
"disp(re,'re(ohms) =');\n",
"disp(h_ie,'hie(ohms) = ');\n",
"disp(r_o,'hoe(ohms) = ');\n",
"\n",
"r_o = 1/h_ob;\n",
"alpha = 1;    //approximation\n",
"disp('For the common base re model :-')\n",
"disp(re,'re(ohms) =');\n",
"disp(alpha,'alpha = ');\n",
"disp(r_o,'ro(ohms) = ');"
   ]
   }
,
{
		   "cell_type": "markdown",
		   "metadata": {},
		   "source": [
			"## Example 5.4: Network_characteristics_determination.sce"
		   ]
		  },
  {
"cell_type": "code",
	   "execution_count": null,
	   "metadata": {
	    "collapsed": true
	   },
	   "outputs": [],
"source": [
"clear; clc; close;\n",
"\n",
"Vcc = 15;\n",
"Vbe = 0.7;\n",
"Vt = 26*(10^(-3));\n",
"Rb = 470*(10^(3));\n",
"Rc = 4.7*(10^(3));\n",
"ro = 50*(10^(3));\n",
"Beta = 100;\n",
"\n",
"\n",
"Ib = (Vcc-Vbe)/Rb;\n",
"Ie = (Beta+1)*Ib;\n",
"re = Vt/Ie;\n",
"disp(re,'Value of diode resistive element is :')\n",
"\n",
"Zb = Beta*re;    //resistance seen from base into the diode\n",
"Zi = (Rb*Zb)/(Rb+Zb);\n",
"disp(Zi,'Input impedance(ohms) :');\n",
"\n",
"disp('At ro = infinity values are :-');\n",
"Zo = Rc;\n",
"disp(Zo,'Output impedance(ohms) :');\n",
"\n",
"Av = -Rc/re;\n",
"disp(Av,'Voltage gain :');\n",
"\n",
"disp('At ro = 50kohm,values are :-');\n",
"Zo_2 = (ro*Rc)/(ro+Rc);\n",
"disp(Zo_2,'Input impedance(ohms) :');\n",
"\n",
"Av_2 = -((ro*Rc)/(ro+Rc))/re;\n",
"disp(Av_2,'Voltage gain :');"
   ]
   }
,
{
		   "cell_type": "markdown",
		   "metadata": {},
		   "source": [
			"## Example 5.5: Network_characteristics_determination.sce"
		   ]
		  },
  {
"cell_type": "code",
	   "execution_count": null,
	   "metadata": {
	    "collapsed": true
	   },
	   "outputs": [],
"source": [
"clear; clc; close;\n",
"\n",
"Vcc = 22;\n",
"Vbe = 0.7;\n",
"Vt = 26*(10^(-3));\n",
"R1 = 56*(10^(3));\n",
"R2 = 8.2*(10^(3));\n",
"Re = 1.5*(10^(3));\n",
"Rc = 6.8*(10^(3));\n",
"ro = 50*(10^(3));\n",
"Beta = 90;\n",
"\n",
"\n",
"Vb = (R2/(R1+R2))*Vcc;\n",
"Ve = Vb - Vbe;\n",
"Ie = Ve/Re;\n",
"re = Vt/Ie;\n",
"disp(re,'Value of diode resistive element is :');\n",
"\n",
"disp('At ro=infinity,the values are :-');\n",
"Rx = (R1*R2)/(R1+R2);\n",
"Zb = Beta*re;\n",
"Zi = (Rx*Zb)/(Rx+Zb);\n",
"disp(Zi,'Input Impedance(ohms) :');\n",
"\n",
"Zo = Rc;\n",
"disp(Zo,'Output Impedance(ohms) :');\n",
"\n",
"Av = -Rc/re;\n",
"disp(Av,'Voltage gain :');\n",
"\n",
"disp('At ro=1/hoe,the values are :-')\n",
"disp(Zi,'Input Impedance(ohms) :');\n",
"Zo_2 = (Rc*ro)/(Rc+ro);\n",
"disp(Zo_2,'Output Impedance(ohms) :');\n",
"Av_2 = -((ro*Rc)/(ro+Rc))/re;\n",
"disp(Av_2,'Voltage gain :');\n",
""
   ]
   }
,
{
		   "cell_type": "markdown",
		   "metadata": {},
		   "source": [
			"## Example 5.6: Network_characteristics_without_Ce.sce"
		   ]
		  },
  {
"cell_type": "code",
	   "execution_count": null,
	   "metadata": {
	    "collapsed": true
	   },
	   "outputs": [],
"source": [
"clear; clc; close;\n",
"\n",
"Vcc = 20;\n",
"Vbe = 0.7;\n",
"Vt = 26*(10^(-3));\n",
"Re = 0.56*(10^(3));\n",
"Rc = 2.2*(10^(3));\n",
"Rb = 470*(10^(3));\n",
"ro = 40*(10^(3));\n",
"Beta = 120;\n",
"\n",
"Ib = (Vcc-Vbe)/(Rb+(Beta+1)*Re);\n",
"Ie = (Beta+1)*Ib;\n",
"re = Vt/Ie;\n",
"disp(re,'Value of diode resistive element is :');\n",
"\n",
"Zb = Beta*(re+Re);\n",
"Zi = (Rb*Zb)/(Rb+Zb);\n",
"disp(Zi,'Input Impedance(ohms) :');\n",
"\n",
"Zo = Rc;\n",
"disp(Zo,'Output Impedance(ohms) :');\n",
"\n",
"Av = -Beta*Rc/Zb;\n",
"disp(Av,'Voltage gain :');"
   ]
   }
,
{
		   "cell_type": "markdown",
		   "metadata": {},
		   "source": [
			"## Example 5.7: Network_characteristics_with_Ce.sce"
		   ]
		  },
  {
"cell_type": "code",
	   "execution_count": null,
	   "metadata": {
	    "collapsed": true
	   },
	   "outputs": [],
"source": [
"clear; clc; close;\n",
"\n",
"Vcc = 20;\n",
"Vbe = 0.7;\n",
"Vt = 26*(10^(-3));\n",
"Re = 0.56*(10^(3));\n",
"Rc = 2.2*(10^(3));\n",
"Rb = 470*(10^(3));\n",
"ro = 40*(10^(3));\n",
"Beta = 120;\n",
"\n",
"Ib = (Vcc-Vbe)/(Rb+(Beta+1)*Re);\n",
"Ie = (Beta+1)*Ib;\n",
"re = Vt/Ie;\n",
"disp(re,'Value of diode resistive element is (in ohms) :');\n",
"\n",
"Zb = Beta*re;\n",
"Zi = (Rb*Zb)/(Rb+Zb);\n",
"disp(Zi,'Input Impedance(ohms) :');\n",
"\n",
"Zo = Rc;\n",
"disp(Zo,'Output Impedance(ohms) :');\n",
"\n",
"Av = -Rc/re;\n",
"disp(Av,'Voltage gain :');\n",
""
   ]
   }
,
{
		   "cell_type": "markdown",
		   "metadata": {},
		   "source": [
			"## Example 5.8: Network_characteristics_determination.sce"
		   ]
		  },
  {
"cell_type": "code",
	   "execution_count": null,
	   "metadata": {
	    "collapsed": true
	   },
	   "outputs": [],
"source": [
"clear; clc; close;\n",
"\n",
"Vcc = 16;\n",
"Vbe = 0.7;\n",
"Vt = 26*(10^(-3));\n",
"R1 = 90*(10^(3));\n",
"R2 = 10*(10^(3));\n",
"Re = 0.68*(10^(3));\n",
"Rc = 2.2*(10^(3));\n",
"ro = 50*(10^(3));\n",
"Beta = 210;\n",
"\n",
"Vb = (R2/(R1+R2))*Vcc;\n",
"Ve = Vb - Vbe;\n",
"Ie = Ve/Re;\n",
"re = Vt/Ie;\n",
"disp(re,'Value of diode resistive element is(in ohms) :');\n",
"\n",
"Rb = (R1*R2)/(R1+R2);\n",
"Zb = Beta*Re;\n",
"Zi = (Rb*Zb)/(Rb+Zb);\n",
"disp(Zi,'Input Impedance(ohms) :');\n",
"\n",
"Zo = Rc;\n",
"disp(Zo,'Output Impedance(ohms) :');\n",
"\n",
"Av = -Rc/Re;\n",
"disp(Av,'Voltage gain :');"
   ]
   }
,
{
		   "cell_type": "markdown",
		   "metadata": {},
		   "source": [
			"## Example 5.9: Network_characteristics_determination_with_Ce.sce"
		   ]
		  },
  {
"cell_type": "code",
	   "execution_count": null,
	   "metadata": {
	    "collapsed": true
	   },
	   "outputs": [],
"source": [
"clear; clc; close;\n",
"\n",
"Vcc = 16;\n",
"Vbe = 0.7;\n",
"Vt = 26*(10^(-3));\n",
"R1 = 90*(10^(3));\n",
"R2 = 10*(10^(3));\n",
"Re = 0.68*(10^(3));\n",
"Rc = 2.2*(10^(3));\n",
"ro = 50*(10^(3));\n",
"Beta = 210;\n",
"\n",
"Vb = (R2/(R1+R2))*Vcc;\n",
"Ve = Vb - Vbe;\n",
"Ie = Ve/Re;\n",
"re = Vt/Ie;\n",
"disp(re,'Value of diode resistive element is(in ohms) :');\n",
"\n",
"Rb = (R1*R2)/(R1+R2);\n",
"Zb = Beta*re;\n",
"Zi = (Rb*Zb)/(Rb+Zb);\n",
"disp(Zi,'Input Impedance(ohms) :');\n",
"\n",
"Zo = Rc;\n",
"disp(Zo,'Output Impedance(ohms) :');\n",
"\n",
"Av = -Rc/re;\n",
"disp(Av,'Voltage gain :');"
   ]
   }
],
"metadata": {
		  "kernelspec": {
		   "display_name": "Scilab",
		   "language": "scilab",
		   "name": "scilab"
		  },
		  "language_info": {
		   "file_extension": ".sce",
		   "help_links": [
			{
			 "text": "MetaKernel Magics",
			 "url": "https://github.com/calysto/metakernel/blob/master/metakernel/magics/README.md"
			}
		   ],
		   "mimetype": "text/x-octave",
		   "name": "scilab",
		   "version": "0.7.1"
		  }
		 },
		 "nbformat": 4,
		 "nbformat_minor": 0
}
