{
"cells": [
 {
		   "cell_type": "markdown",
	   "metadata": {},
	   "source": [
       "# Chapter 1: Semiconductor Diodes"
	   ]
	},
{
		   "cell_type": "markdown",
		   "metadata": {},
		   "source": [
			"## Example 1.1: Thermal_Voltage_calculatio.sce"
		   ]
		  },
  {
"cell_type": "code",
	   "execution_count": null,
	   "metadata": {
	    "collapsed": true
	   },
	   "outputs": [],
"source": [
"clear; clc; close;\n",
"\n",
"t = 273 + 27;    //in kelvin\n",
"t_new = 273 +100;\n",
"k = 1.38*10^(-23);//in J/K\n",
"q = 1.6*10^(-19);//C\n",
"\n",
"Vt = k*t/q;\n",
"format(10);\n",
"disp(Vt,'Thermal voltage for 27''C(in V): ');\n",
"\n",
"Vt = k*t_new/q;\n",
"disp(Vt,'Thermal voltage for 100''C(in V): ');\n",
""
   ]
   }
,
{
		   "cell_type": "markdown",
		   "metadata": {},
		   "source": [
			"## Example 1.2: Dc_level_resistance_calculation.sce"
		   ]
		  },
  {
"cell_type": "code",
	   "execution_count": null,
	   "metadata": {
	    "collapsed": true
	   },
	   "outputs": [],
"source": [
"clear; clc; close;\n",
"\n",
"Id_low = 2;//mA\n",
"Id_high = 25;//mA\n",
"Vd_reverse_bias = -10;//V\n",
"\n",
"Vd_low = 0.5;//V\n",
"Vd_high = 0.85;//V\n",
"Id_reverse_bias = -10*10^(-6);//A\n",
"\n",
"Rd_low = Vd_low/Id_low;\n",
"Rd_high = Vd_high/Id_high;\n",
"Rd_reverse_bias = Vd_reverse_bias/Id_reverse_bias;\n",
"\n",
"disp(Rd_low,'Low level dc resistance(in ohm):');\n",
"disp(Rd_high,'High level dc resistance(in ohm):');\n",
"disp(Rd_reverse_bias,'Reverse bias dc resistance(in ohm):');\n",
""
   ]
   }
,
{
		   "cell_type": "markdown",
		   "metadata": {},
		   "source": [
			"## Example 1.3: Ac_resistance_calculation.sce"
		   ]
		  },
  {
"cell_type": "code",
	   "execution_count": null,
	   "metadata": {
	    "collapsed": true
	   },
	   "outputs": [],
"source": [
"clear; clc; close;\n",
"\n",
"Id1 = 2*10^(-3);//A\n",
"Id2 = 25*10^(-3);//A\n",
"\n",
"Delta_Id1 = (4-0)*10^(-3);//A\n",
"Delta_Vd1 = 0.76-0.65;//V\n",
"rd1 = Delta_Vd1/Delta_Id1;\n",
"\n",
"Delta_Id2 = (30-20)*10^(-3);//A\n",
"Delta_Vd2 = 0.80-0.78;//V\n",
"rd2 = Delta_Vd2/Delta_Id2;\n",
"\n",
"//From graph\n",
"Vd1 = 0.7;//V\n",
"Vd2 = 0.79;//V\n",
"\n",
"Rd1 = Vd1/Id1;\n",
"Rd2 = Vd2/Id2;\n",
"\n",
"disp(rd1,'ac resistance in part a(in ohm) is : ');\n",
"disp(rd2,'ac resistance in part b(in ohm) is : ');\n",
"disp(Rd1,'dc resistance in part a(in ohm) is : ');\n",
"disp(Rd2,'dc resistance in part b(in ohm) is : ');\n",
""
   ]
   }
,
{
		   "cell_type": "markdown",
		   "metadata": {},
		   "source": [
			"## Example 1.4: Zener_voltage_determination.sce"
		   ]
		  },
  {
"cell_type": "code",
	   "execution_count": null,
	   "metadata": {
	    "collapsed": true
	   },
	   "outputs": [],
"source": [
"clear; clc; close;\n",
"\n",
"Tc = 0.072;// %/'C\n",
"Vz = 10;//V\n",
"T1 = 100;// 'C\n",
"T0 = 25;// 'C\n",
"\n",
"Delta_Vz = Tc*Vz*(T1-T0)/100;\n",
"\n",
"Vz_new = Vz + Delta_Vz;\n",
"\n",
"disp(Delta_Vz,'Change in zener potential(in V):');\n",
"disp(Vz_new,'Resulting zener potntial(in V):');\n",
""
   ]
   }
,
{
		   "cell_type": "markdown",
		   "metadata": {},
		   "source": [
			"## Example 1.5: Wavelength_determination.sce"
		   ]
		  },
  {
"cell_type": "code",
	   "execution_count": null,
	   "metadata": {
	    "collapsed": true
	   },
	   "outputs": [],
"source": [
"clear; clc; close;\n",
"\n",
"\n",
"c = 3*10^(17);// nm/s\n",
"f = 750*10^(12);// Hz\n",
"\n",
"Lambda = c/f;\n",
"\n",
"disp(Lambda,'Wavelength provided for visible light(in nm): ');\n",
""
   ]
   }
],
"metadata": {
		  "kernelspec": {
		   "display_name": "Scilab",
		   "language": "scilab",
		   "name": "scilab"
		  },
		  "language_info": {
		   "file_extension": ".sce",
		   "help_links": [
			{
			 "text": "MetaKernel Magics",
			 "url": "https://github.com/calysto/metakernel/blob/master/metakernel/magics/README.md"
			}
		   ],
		   "mimetype": "text/x-octave",
		   "name": "scilab",
		   "version": "0.7.1"
		  }
		 },
		 "nbformat": 4,
		 "nbformat_minor": 0
}
