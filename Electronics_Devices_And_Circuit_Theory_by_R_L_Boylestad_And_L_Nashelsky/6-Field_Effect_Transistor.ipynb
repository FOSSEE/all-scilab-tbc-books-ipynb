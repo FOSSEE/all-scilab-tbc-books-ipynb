{
"cells": [
 {
		   "cell_type": "markdown",
	   "metadata": {},
	   "source": [
       "# Chapter 6: Field Effect Transistor"
	   ]
	},
{
		   "cell_type": "markdown",
		   "metadata": {},
		   "source": [
			"## Example 6.1: Sketching_the_transfer_curve.sce"
		   ]
		  },
  {
"cell_type": "code",
	   "execution_count": null,
	   "metadata": {
	    "collapsed": true
	   },
	   "outputs": [],
"source": [
"clear; clc; close;\n",
"\n",
"Idss = 12;\n",
"Vp = -4;\n",
"//point 1\n",
"Vgs1 = Vp/2;\n",
"Id1 = Idss/4;\n",
"//point 2\n",
"Id2 = Idss/2;\n",
"Vgs2 = 0.3*Vp;\n",
"\n",
"\n",
"x = [-4 -2 -1.2 0];\n",
"y = [0 3 6 12];\n",
"//plot2d(x,y);\n",
"yi=smooth([x;y],0.1);\n",
"a = gca();\n",
"a.thickness = 2;\n",
"a.y_location = 'right';\n",
"a.x_label.text = 'Vgs';\n",
"a.y_label.text = 'Id(mA)';\n",
"plot2d(yi(1,:)',yi(2,:)',[3]);"
   ]
   }
,
{
		   "cell_type": "markdown",
		   "metadata": {},
		   "source": [
			"## Example 6.2: Sketching_the_transfer_curve.sce"
		   ]
		  },
  {
"cell_type": "code",
	   "execution_count": null,
	   "metadata": {
	    "collapsed": true
	   },
	   "outputs": [],
"source": [
"clear; clc; close;\n",
"\n",
"Idss = 8;\n",
"Vp = 4;\n",
"//point 1\n",
"Vgs1 = Vp/2;\n",
"Id1 = Idss/4;\n",
"//point 2\n",
"Id2 = Idss/2;\n",
"Vgs2 = 0.3*Vp;\n",
"\n",
"\n",
"x = [0 1.2 2 4];\n",
"y = [8 4 2 0];\n",
"yi=smooth([x;y],0.1);\n",
"a = gca();\n",
"a.thickness = 2;\n",
"a.y_location = 'left';\n",
"a.x_label.text = 'Vgs';\n",
"a.y_label.text = 'Id(mA)';\n",
"plot2d(yi(1,:)',yi(2,:)',[3]);"
   ]
   }
,
{
		   "cell_type": "markdown",
		   "metadata": {},
		   "source": [
			"## Example 6.3: Sketching_the_transfer_curve.sce"
		   ]
		  },
  {
"cell_type": "code",
	   "execution_count": null,
	   "metadata": {
	    "collapsed": true
	   },
	   "outputs": [],
"source": [
"clear; clc; close;\n",
"\n",
"Idss = 10;\n",
"Vp = -4;\n",
"//point 1\n",
"Vgs1 = Vp/2;\n",
"Id1 = Idss/4;\n",
"//point 2\n",
"Id2 = Idss/2;\n",
"Vgs2 = 0.3*Vp;\n",
"Vgs3 = 1;\n",
"Id = Idss(1-Vgs3/Vp)^2;\n",
"x = [-4 -2 -1.2 1];\n",
"y = [0 2.5 5 15.63];\n",
"\n",
"yi=smooth([x;y],0.1);\n",
"a = gca();\n",
"a.thickness = 2;\n",
"a.y_location = 'middle';\n",
"a.x_label.text = 'Vgs';\n",
"a.y_label.text = 'Id(mA)';\n",
"plot2d(yi(1,:)',yi(2,:)',[3]);"
   ]
   }
,
{
		   "cell_type": "markdown",
		   "metadata": {},
		   "source": [
			"## Example 6.4: Sketching_the_transfer_curve_and_finding_value_of_k.sce"
		   ]
		  },
  {
"cell_type": "code",
	   "execution_count": null,
	   "metadata": {
	    "collapsed": true
	   },
	   "outputs": [],
"source": [
"clear; clc; close;\n",
"\n",
"Id_on = 3*10^(-3);\n",
"Vgs_on = 10;\n",
"Vgs_th = 3;\n",
"Vt = 3;\n",
"\n",
"k = Id_on/(Vgs_on-Vgs_th)^2;\n",
"disp(k,'resulting value of k(A/V^2) is : ');\n",
"\n",
"Vgs1 = 5;\n",
"Id1 = k*(Vgs1-Vt)^2;\n",
"Vgs2 = 8;\n",
"Id2 = k*(Vgs2-Vt)^2;\n",
"Vgs3 = 10;\n",
"Id3 = k*(Vgs3-Vt)^2;\n",
"Vgs4 = 12;\n",
"Id4 = k*(Vgs4-Vt)^2;\n",
"Vgs5 = 14;\n",
"Id5 = k*(Vgs5-Vt)^2;\n",
"\n",
"x = [Vt Vgs1 Vgs2 Vgs3 Vgs4 Vgs5];\n",
"y = [0 Id1 Id2 Id3 Id4 Id5];\n",
"yi=smooth([x;y],0.1);\n",
"a = gca();\n",
"a.thickness = 2;\n",
"a.y_location = 'left';\n",
"a.x_label.text = 'Vgs';\n",
"a.y_label.text = 'Id(A)';\n",
"plot2d(yi(1,:)',yi(2,:)',[3]);"
   ]
   }
],
"metadata": {
		  "kernelspec": {
		   "display_name": "Scilab",
		   "language": "scilab",
		   "name": "scilab"
		  },
		  "language_info": {
		   "file_extension": ".sce",
		   "help_links": [
			{
			 "text": "MetaKernel Magics",
			 "url": "https://github.com/calysto/metakernel/blob/master/metakernel/magics/README.md"
			}
		   ],
		   "mimetype": "text/x-octave",
		   "name": "scilab",
		   "version": "0.7.1"
		  }
		 },
		 "nbformat": 4,
		 "nbformat_minor": 0
}
