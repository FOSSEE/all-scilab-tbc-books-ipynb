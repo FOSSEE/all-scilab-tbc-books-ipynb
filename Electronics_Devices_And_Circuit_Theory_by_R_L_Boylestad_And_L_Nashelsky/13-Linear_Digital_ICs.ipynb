{
"cells": [
 {
		   "cell_type": "markdown",
	   "metadata": {},
	   "source": [
       "# Chapter 13: Linear Digital ICs"
	   ]
	},
{
		   "cell_type": "markdown",
		   "metadata": {},
		   "source": [
			"## Example 13.1: frequency_and_output_waveform.sce"
		   ]
		  },
  {
"cell_type": "code",
	   "execution_count": null,
	   "metadata": {
	    "collapsed": true
	   },
	   "outputs": [],
"source": [
"clear; clc; close;\n",
"\n",
"Ra = 7.5*10^(3);\n",
"Rb = 7.5*10^(3);\n",
"C = 0.1*10^(-6);\n",
"\n",
"Thigh = 0.7*(Ra+Rb)*C;\n",
"Tlow = 0.7*(Rb*C);\n",
"T  = Thigh +Tlow;\n",
"\n",
"f = 1/T;\n",
"\n",
"disp(f,'Frequency = ');\n",
"\n",
"\n",
"x = 0:0.001:1.575;\n",
"y = 5*(x<=1.05) + 1*(x>1.05);\n",
"plot2d(x,y);\n",
"a = gca();\n",
"a.data_bounds = [0 0;2 5.2];\n",
"a.x_label.text = 'Time(ms)';\n",
"a.y_label.text = 'Vo(V)';\n",
""
   ]
   }
,
{
		   "cell_type": "markdown",
		   "metadata": {},
		   "source": [
			"## Example 13.2: Period_of_output_waveform.sce"
		   ]
		  },
  {
"cell_type": "code",
	   "execution_count": null,
	   "metadata": {
	    "collapsed": true
	   },
	   "outputs": [],
"source": [
"clear; clc; close;\n",
"\n",
"Ra = 10*10^(3);\n",
"C = 0.1*10^(-6);\n",
"\n",
"Thigh = 1.1*Ra*C;\n",
"\n",
"disp(Thigh,'Period of output waveform = ')"
   ]
   }
],
"metadata": {
		  "kernelspec": {
		   "display_name": "Scilab",
		   "language": "scilab",
		   "name": "scilab"
		  },
		  "language_info": {
		   "file_extension": ".sce",
		   "help_links": [
			{
			 "text": "MetaKernel Magics",
			 "url": "https://github.com/calysto/metakernel/blob/master/metakernel/magics/README.md"
			}
		   ],
		   "mimetype": "text/x-octave",
		   "name": "scilab",
		   "version": "0.7.1"
		  }
		 },
		 "nbformat": 4,
		 "nbformat_minor": 0
}
