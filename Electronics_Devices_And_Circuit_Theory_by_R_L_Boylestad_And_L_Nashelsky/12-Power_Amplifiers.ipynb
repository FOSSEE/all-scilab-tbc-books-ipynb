{
"cells": [
 {
		   "cell_type": "markdown",
	   "metadata": {},
	   "source": [
       "# Chapter 12: Power Amplifiers"
	   ]
	},
{
		   "cell_type": "markdown",
		   "metadata": {},
		   "source": [
			"## Example 12.10: Input_output_dissipated_power_and_efficiency.sce"
		   ]
		  },
  {
"cell_type": "code",
	   "execution_count": null,
	   "metadata": {
	    "collapsed": true
	   },
	   "outputs": [],
"source": [
"clear; clc; close;\n",
"\n",
"Vi_rms = 12;\n",
"Rl = 4;\n",
"Vcc = 25;\n",
"\n",
"\n",
"\n",
"Vi_p = sqrt(2)*Vi_rms;\n",
"Vl_p = Vi_p;\n",
"Po_ac = (Vl_p^2)/(2*Rl);\n",
"Il_p = Vl_p/Rl;\n",
"Idc = (2/%pi)*(Il_p);\n",
"Pi_dc = Vcc*Idc;\n",
"Pq = (Pi_dc-Po_ac)/2;\n",
"\n",
"n = (Po_ac/Pi_dc)*100;\n",
"\n",
"disp(Po_ac,'Output power(Watts) = ');\n",
"disp(Pi_dc,'Input power(Watts) = ');\n",
"disp(Pq,'Power dissipated(Watts) = ');\n",
"disp(n,'Efficiency(Percentage) = ');"
   ]
   }
,
{
		   "cell_type": "markdown",
		   "metadata": {},
		   "source": [
			"## Example 12.11: Dissipated_power_and_efficiency.sce"
		   ]
		  },
  {
"cell_type": "code",
	   "execution_count": null,
	   "metadata": {
	    "collapsed": true
	   },
	   "outputs": [],
"source": [
"clear; clc; close;\n",
"\n",
"Vcc =25;\n",
"Rl = 4;\n",
"\n",
"\n",
"Po_max = (Vcc^2)/(2*Rl);\n",
"Pi_max = (2*Vcc^2)/(%pi*Rl);\n",
"n_max = (Po_max/Pi_max)*100;\n",
"Vl_p = Vcc;\n",
"P2q = Pi_max-Po_max;\n",
"\n",
"\n",
"disp(Po_max,'Output power(Watts) = ');\n",
"disp(Pi_max,'Input power(Watts) = ');\n",
"disp(P2q,'Power dissipated(Watts) = ');\n",
"disp(n_max,'Efficiency(Percentage) = ');\n",
""
   ]
   }
,
{
		   "cell_type": "markdown",
		   "metadata": {},
		   "source": [
			"## Example 12.12: Max_dissipated_power_and_input_voltage.sce"
		   ]
		  },
  {
"cell_type": "code",
	   "execution_count": null,
	   "metadata": {
	    "collapsed": true
	   },
	   "outputs": [],
"source": [
"clear; clc; close;\n",
"\n",
"Vcc =25;\n",
"Rl = 4;\n",
"Vl_p = Vcc;\n",
"\n",
"P2q_max = (2*Vcc^2)/((%pi^2)*Rl);\n",
"Vl = 0.636*Vl_p;\n",
"\n",
"disp(P2q_max,'Maximum power dissipated(Watts) = ');\n",
"disp(Vl,'Input voltage at which this occurs(Volts) = ');"
   ]
   }
,
{
		   "cell_type": "markdown",
		   "metadata": {},
		   "source": [
			"## Example 12.13: Harmonic_distortion_components.sce"
		   ]
		  },
  {
"cell_type": "code",
	   "execution_count": null,
	   "metadata": {
	    "collapsed": true
	   },
	   "outputs": [],
"source": [
"clear; clc; close;\n",
"\n",
"A1 = 2.5;\n",
"A2 = 0.25;\n",
"A3 = 0.1;\n",
"A4 = 0.05;\n",
"\n",
"D2 = (abs(A2)/abs(A1))*100;\n",
"D3 = (abs(A3)/abs(A1))*100;\n",
"D4 = (abs(A4)/abs(A1))*100;\n",
"\n",
"\n",
"disp(D2,'Second harmonic distortion(Percentage) = ');\n",
"disp(D3,'Third harmonic distortion(Percentage) = ');\n",
"disp(D4,'Fourth harmonic distortion(Percentage) = ');\n",
""
   ]
   }
,
{
		   "cell_type": "markdown",
		   "metadata": {},
		   "source": [
			"## Example 12.14: Total_Harmonic_distortion_components.sce"
		   ]
		  },
  {
"cell_type": "code",
	   "execution_count": null,
	   "metadata": {
	    "collapsed": true
	   },
	   "outputs": [],
"source": [
"clear; clc; close;\n",
"\n",
"D2 = 0.1;\n",
"D3 = 0.04;\n",
"D4 = 0.02;\n",
"\n",
"THD = sqrt((D2^2)+(D3^2)+(D4^2))*100;\n",
"\n",
"disp(THD,'Total harmonic distortion(Percentage) = ');"
   ]
   }
,
{
		   "cell_type": "markdown",
		   "metadata": {},
		   "source": [
			"## Example 12.15: Second_Harmonic_distortion.sce"
		   ]
		  },
  {
"cell_type": "code",
	   "execution_count": null,
	   "metadata": {
	    "collapsed": true
	   },
	   "outputs": [],
"source": [
"clear; clc; close;\n",
"\n",
"//part a\n",
"Vce_min = 1;\n",
"Vce_max =22;\n",
"Vceq = 12;\n",
"D2 = abs(((1/2)*(Vce_max+Vce_min)-Vceq)/(Vce_max-Vce_min))*100;\n",
"disp(D2,'Second harmonic distortion(Percentage) = ');\n",
"\n",
"//part b\n",
"Vce_min = 4;\n",
"Vce_max =20;\n",
"Vceq = 12;\n",
"D2 = abs(((1/2)*(Vce_max+Vce_min)-Vceq)/(Vce_max-Vce_min))*100;\n",
"disp(D2,'Second harmonic distortion(Percentage) = ');"
   ]
   }
,
{
		   "cell_type": "markdown",
		   "metadata": {},
		   "source": [
			"## Example 12.16: Total_Harmonic_distortion_and_fundamental_and_total_power.sce"
		   ]
		  },
  {
"cell_type": "code",
	   "execution_count": null,
	   "metadata": {
	    "collapsed": true
	   },
	   "outputs": [],
"source": [
"clear; clc; close;\n",
"\n",
"D2 = 0.1;\n",
"D3 = 0.02;\n",
"D4 = 0.01;\n",
"I1 = 4;\n",
"Rc = 8;\n",
"\n",
"THD = sqrt((D2^2)+(D3^2)+(D4^2));\n",
"P1 = (I1^2)*Rc/2;\n",
"P = (1+THD^2)*P1;\n",
"\n",
"disp(THD,'Total harmonic distortion = ');\n",
"disp(P1,'Fundamental power component(Watts) = ');\n",
"disp(P,'Total power(Watts) = ');\n",
""
   ]
   }
,
{
		   "cell_type": "markdown",
		   "metadata": {},
		   "source": [
			"## Example 12.17: Maximum_dissipatio.sce"
		   ]
		  },
  {
"cell_type": "code",
	   "execution_count": null,
	   "metadata": {
	    "collapsed": true
	   },
	   "outputs": [],
"source": [
"clear; clc; close;\n",
"\n",
"Pd_temp0 = 80;\n",
"T1 = 100;\n",
"T0 = 25;\n",
"D = 0.5;\n",
"\n",
"\n",
"Pd_temp1 = Pd_temp0-(T1-T0)*(D);\n",
"\n",
"disp(Pd_temp1,'Maximum power dissipation(Watts) = ');"
   ]
   }
,
{
		   "cell_type": "markdown",
		   "metadata": {},
		   "source": [
			"## Example 12.18: Max_dissipated_power.sce"
		   ]
		  },
  {
"cell_type": "code",
	   "execution_count": null,
	   "metadata": {
	    "collapsed": true
	   },
	   "outputs": [],
"source": [
"clear; clc; close;\n",
"\n",
"Tj = 200;\n",
"Ta = 40;\n",
"Qjc = 0.5;\n",
"Qcs = 0.6;\n",
"Qsa = 1.5;\n",
"\n",
"\n",
"Pd = (Tj-Ta)/(Qjc+Qcs+Qsa);\n",
"\n",
"disp(Pd,'Maximum power dissipated(Watts) = ');"
   ]
   }
,
{
		   "cell_type": "markdown",
		   "metadata": {},
		   "source": [
			"## Example 12.1: input_output_power_and_efficiency.sce"
		   ]
		  },
  {
"cell_type": "code",
	   "execution_count": null,
	   "metadata": {
	    "collapsed": true
	   },
	   "outputs": [],
"source": [
"clear; clc; close;\n",
"\n",
"Vcc = 20;\n",
"Rb = 1*10^(3);\n",
"Rc = 20;\n",
"Beta = 25;\n",
"Ib_p = 10*10^(-3);\n",
"\n",
"\n",
"Ibq = (Vcc-0.7)/Rb;\n",
"Ib = Ibq;\n",
"Icq = Beta*Ibq;\n",
"Ic=  Icq;\n",
"Vceq = Vcc-Ic*Rc;\n",
"Ic_p = Beta*Ib_p;\n",
"Po_ac = (Ic_p^2)*Rc/2;\n",
"Pi_dc = Vcc*Icq;\n",
"n = (Po_ac/Pi_dc)*100;\n",
"\n",
"disp(Po_ac,'Output power = ');\n",
"disp(Pi_dc,'Input power = ');\n",
"disp(n,'Efficiency in percentage = ');"
   ]
   }
,
{
		   "cell_type": "markdown",
		   "metadata": {},
		   "source": [
			"## Example 12.2: Effective_Resistance.sce"
		   ]
		  },
  {
"cell_type": "code",
	   "execution_count": null,
	   "metadata": {
	    "collapsed": true
	   },
	   "outputs": [],
"source": [
"clear; clc; close;\n",
"\n",
"a = 15;\n",
"Rl = 8;\n",
"\n",
"Rl_dash = (a^2)*Rl;\n",
"\n",
"disp(Rl_dash,'Effective resistance looking into primary transformer is ');\n",
""
   ]
   }
,
{
		   "cell_type": "markdown",
		   "metadata": {},
		   "source": [
			"## Example 12.3: Turns_ratio.sce"
		   ]
		  },
  {
"cell_type": "code",
	   "execution_count": null,
	   "metadata": {
	    "collapsed": true
	   },
	   "outputs": [],
"source": [
"clear; clc; close;\n",
"\n",
"Rl_dash = 10*10^(3);\n",
"Rl = 8;\n",
"\n",
"N1_N2 = sqrt(Rl_dash/Rl);\n",
"\n",
"disp(N1_N2,'Turns ratio = ');"
   ]
   }
,
{
		   "cell_type": "markdown",
		   "metadata": {},
		   "source": [
			"## Example 12.4: Ac_power_delivered.sce"
		   ]
		  },
  {
"cell_type": "code",
	   "execution_count": null,
	   "metadata": {
	    "collapsed": true
	   },
	   "outputs": [],
"source": [
"clear; clc; close;\n",
"\n",
"Vcc = 10;\n",
"a = 3;\n",
"Rl = 8;\n",
"\n",
"\n",
"Vceq = Vcc;\n",
"Vce = Vceq;\n",
"Icq = 140*10^(-3);\n",
"\n",
"Rl_dash = (a^2)*Rl;\n",
"Ic = Vce/Rl_dash;\n",
"\n",
"Vce_min = 1.7;\n",
"Vce_max = 18.3;\n",
"Ic_min = 25*10^(-3);\n",
"Ic_max = 255*10^(-3);\n",
"\n",
"Po_ac = (Vce_max-Vce_min)*(Ic_max-Ic_min)/8;\n",
"\n",
"disp(Po_ac,'Ac Power delivered(Watts) = ');"
   ]
   }
,
{
		   "cell_type": "markdown",
		   "metadata": {},
		   "source": [
			"## Example 12.5: input_and_dissipated_power_and_efficiency.sce"
		   ]
		  },
  {
"cell_type": "code",
	   "execution_count": null,
	   "metadata": {
	    "collapsed": true
	   },
	   "outputs": [],
"source": [
"clear; clc; close;\n",
"\n",
"Vcc = 10;\n",
"Icq = 140*10^(-3);\n",
"Po_ac = 0.477;\n",
"\n",
"\n",
"Pi_dc = Vcc*Icq;\n",
"Pq = Pi_dc-Po_ac;\n",
"n = (Po_ac/Pi_dc)*100;\n",
"\n",
"disp(Pi_dc,'Dc input power(Watts) = ');\n",
"disp(Pq,'Power dissipated by transistor(Watts) = ');\n",
"disp(n,'Efficiency(Percentage) = ');\n",
""
   ]
   }
,
{
		   "cell_type": "markdown",
		   "metadata": {},
		   "source": [
			"## Example 12.6: Efficiency_calculation.sce"
		   ]
		  },
  {
"cell_type": "code",
	   "execution_count": null,
	   "metadata": {
	    "collapsed": true
	   },
	   "outputs": [],
"source": [
"clear; clc; close;\n",
"\n",
"Vcc = 12;\n",
"\n",
"//part a\n",
"V_p = 12;\n",
"Vceq = Vcc;\n",
"Vce_max = Vceq + V_p;\n",
"Vce_min = Vceq - V_p;\n",
"\n",
"n = 50*((Vce_max-Vce_min)/(Vce_max+Vce_min))^2;\n",
"\n",
"disp(n,'Efficiency(Percentage) = ');\n",
"\n",
"//part b\n",
"V_p = 6;\n",
"Vceq = Vcc;\n",
"Vce_max = Vceq + V_p;\n",
"Vce_min = Vceq - V_p;\n",
"\n",
"n = 50*((Vce_max-Vce_min)/(Vce_max+Vce_min))^2;\n",
"\n",
"disp(n,'Efficiency(Percentage) = ');\n",
"\n",
"\n",
"//part c\n",
"V_p = 8;\n",
"Vceq = Vcc;\n",
"Vce_max = Vceq + V_p;\n",
"Vce_min = Vceq - V_p;\n",
"\n",
"n = 50*((Vce_max-Vce_min)/(Vce_max+Vce_min))^2;\n",
"\n",
"disp(n,'Efficiency(Percentage) = ');"
   ]
   }
,
{
		   "cell_type": "markdown",
		   "metadata": {},
		   "source": [
			"## Example 12.7: Input_output_power_and_efficiency.sce"
		   ]
		  },
  {
"cell_type": "code",
	   "execution_count": null,
	   "metadata": {
	    "collapsed": true
	   },
	   "outputs": [],
"source": [
"clear; clc; close;\n",
"\n",
"Vl_p = 20;\n",
"Vcc = 30;\n",
"Rl = 16;\n",
"\n",
"\n",
"Il_p = Vl_p/Rl;\n",
"Idc = (2/%pi)*Il_p;\n",
"Pi_dc = Vcc*Idc;\n",
"Po_ac = ((Vl_p)^2)/(2*Rl);\n",
"n = (Po_ac/Pi_dc)*100;\n",
"\n",
"\n",
"disp(Pi_dc,'Input power(Watts) = ');\n",
"disp(Po_ac,'Output power(Watts) = ');\n",
"disp(n,'Efficiency(Percentage) = ');\n",
""
   ]
   }
,
{
		   "cell_type": "markdown",
		   "metadata": {},
		   "source": [
			"## Example 12.8: Power_and_transmission_dissipation.sce"
		   ]
		  },
  {
"cell_type": "code",
	   "execution_count": null,
	   "metadata": {
	    "collapsed": true
	   },
	   "outputs": [],
"source": [
"clear; clc; close;\n",
"\n",
"Vcc =30;\n",
"Rl = 16;\n",
"\n",
"\n",
"Po_max = (Vcc^2)/(2*Rl);\n",
"Pi_max = (2*Vcc^2)/(%pi*Rl);\n",
"n_max = (Po_max/Pi_max)*100;\n",
"Pq_max = (1/2)*(2*Vcc^2/((%pi^2)*Rl));\n",
"\n",
"disp(Po_max,'Maximum output power(Watts) = ');\n",
"disp(Pi_max,'Maximum input power(Watts) = ');\n",
"disp(Pq_max,'Transmission dissipation(Watts) = ');\n",
""
   ]
   }
,
{
		   "cell_type": "markdown",
		   "metadata": {},
		   "source": [
			"## Example 12.9: Efficiency_calculation.sce"
		   ]
		  },
  {
"cell_type": "code",
	   "execution_count": null,
	   "metadata": {
	    "collapsed": true
	   },
	   "outputs": [],
"source": [
"clear; clc; close;\n",
"\n",
"Vcc = 24;\n",
"\n",
"//part a \n",
"Vl_p = 22;\n",
"n = 78.54*(Vl_p/Vcc);\n",
"disp(n,'Efficiency(Percentage) = ');\n",
"\n",
"\n",
"//part b \n",
"Vl_p = 12;\n",
"n = 78.54*(Vl_p/Vcc);\n",
"disp(n,'Efficiency(Percentage) = ');"
   ]
   }
],
"metadata": {
		  "kernelspec": {
		   "display_name": "Scilab",
		   "language": "scilab",
		   "name": "scilab"
		  },
		  "language_info": {
		   "file_extension": ".sce",
		   "help_links": [
			{
			 "text": "MetaKernel Magics",
			 "url": "https://github.com/calysto/metakernel/blob/master/metakernel/magics/README.md"
			}
		   ],
		   "mimetype": "text/x-octave",
		   "name": "scilab",
		   "version": "0.7.1"
		  }
		 },
		 "nbformat": 4,
		 "nbformat_minor": 0
}
