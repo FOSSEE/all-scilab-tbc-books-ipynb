{
"cells": [
 {
		   "cell_type": "markdown",
	   "metadata": {},
	   "source": [
       "# Chapter 11: Op Amp Applications"
	   ]
	},
{
		   "cell_type": "markdown",
		   "metadata": {},
		   "source": [
			"## Example 11.10: Il_and_Vo_calculation.sce"
		   ]
		  },
  {
"cell_type": "code",
	   "execution_count": null,
	   "metadata": {
	    "collapsed": true
	   },
	   "outputs": [],
"source": [
"clear; clc; close;\n",
"\n",
"V1 = 8;\n",
"R1 = 2*10^3;\n",
"I1 = 10*10^(-3);\n",
"\n",
"\n",
"Il = V1/R1;\n",
"Vo = -I1*R1;\n",
"\n",
"disp(Il,'Il(Amperes) = ');\n",
"disp(Vo,'Vo(Volts) = ');"
   ]
   }
,
{
		   "cell_type": "markdown",
		   "metadata": {},
		   "source": [
			"## Example 11.11: Output_voltage.sce"
		   ]
		  },
  {
"cell_type": "code",
	   "execution_count": null,
	   "metadata": {
	    "collapsed": true
	   },
	   "outputs": [],
"source": [
"clear; clc; close;\n",
"\n",
"R = 5000;\n",
"Rp = 500;\n",
"\n",
"\n",
"a = ['*(V1-V2)'];\n",
"Vo = strcat([string((1+(2*R/Rp))),a]);\n",
"\n",
"disp(Vo,'Output voltage ');\n",
""
   ]
   }
,
{
		   "cell_type": "markdown",
		   "metadata": {},
		   "source": [
			"## Example 11.12: Cut_off_frequency.sce"
		   ]
		  },
  {
"cell_type": "code",
	   "execution_count": null,
	   "metadata": {
	    "collapsed": true
	   },
	   "outputs": [],
"source": [
"clear; clc; close;\n",
"\n",
"R1 = 1.2*10^(3);\n",
"C1 = 0.02*10^(-6);\n",
"\n",
"foh = 1/(2*%pi*R1*C1);\n",
"\n",
"disp(foh,'Cutoff frequency of low pass filter(Hertz) = ');"
   ]
   }
,
{
		   "cell_type": "markdown",
		   "metadata": {},
		   "source": [
			"## Example 11.13: Cut_off_frequency_of_high_pass_filter.sce"
		   ]
		  },
  {
"cell_type": "code",
	   "execution_count": null,
	   "metadata": {
	    "collapsed": true
	   },
	   "outputs": [],
"source": [
"clear; clc; close;\n",
"\n",
"Rf = 50*10^(3);\n",
"Rg = 10*10^(3);\n",
"R1 = 2.1*10^(3);\n",
"C1 = 0.05*10^(-6);\n",
"\n",
"Av = 1+(Rf/Rg);\n",
"fol = 1/(2*%pi*R1*C1);\n",
"\n",
"disp(fol,'Cutoff frequency of second order high pass filter(Hertz) = ');"
   ]
   }
,
{
		   "cell_type": "markdown",
		   "metadata": {},
		   "source": [
			"## Example 11.14: Cut_off_frequency_of_band_pass_filter.sce"
		   ]
		  },
  {
"cell_type": "code",
	   "execution_count": null,
	   "metadata": {
	    "collapsed": true
	   },
	   "outputs": [],
"source": [
"clear; clc; close;\n",
"\n",
"R1 = 10*10^(3);\n",
"R2 = 10*10^(3);\n",
"C1 = 0.1*10^(-6);\n",
"C2 = 0.002*10^(-6);\n",
"\n",
"\n",
"fol = 1/(2*%pi*R1*C1);\n",
"foh = 1/(2*%pi*R2*C2);\n",
"\n",
"disp(fol,'Low Cutoff frequency of band pass filter(hertz) = ');\n",
"disp(foh,'High Cutoff frequency of band pass filter(hertz) = ');"
   ]
   }
,
{
		   "cell_type": "markdown",
		   "metadata": {},
		   "source": [
			"## Example 11.1: Output_voltage.sce"
		   ]
		  },
  {
"cell_type": "code",
	   "execution_count": null,
	   "metadata": {
	    "collapsed": true
	   },
	   "outputs": [],
"source": [
"clear; clc; close;\n",
"\n",
"Rf = 200*10^(3);\n",
"R1 = 2*10^(3);\n",
"Vi = 2.5*10^(-3);\n",
"\n",
"A = -Rf/R1;\n",
"Vo = A*Vi;\n",
"\n",
"disp(Vo,'Output voltage(Volts) = ');\n",
""
   ]
   }
,
{
		   "cell_type": "markdown",
		   "metadata": {},
		   "source": [
			"## Example 11.2: Output_voltage.sce"
		   ]
		  },
  {
"cell_type": "code",
	   "execution_count": null,
	   "metadata": {
	    "collapsed": true
	   },
	   "outputs": [],
"source": [
"clear; clc; close;\n",
"\n",
"Rf = 240*10^(3);\n",
"R1 = 2.4*10^(3);\n",
"Vi = 120*10^(-6);\n",
"\n",
"A = 1+(Rf/R1);\n",
"Vo = A*Vi;\n",
"\n",
"disp(Vo,'Output voltage(Volts) = ');\n",
""
   ]
   }
,
{
		   "cell_type": "markdown",
		   "metadata": {},
		   "source": [
			"## Example 11.3: Output_voltage.sce"
		   ]
		  },
  {
"cell_type": "code",
	   "execution_count": null,
	   "metadata": {
	    "collapsed": true
	   },
	   "outputs": [],
"source": [
"clear; clc; close;\n",
"\n",
"Rf = 470*10^(3);\n",
"R1 = 4.3*10^(3);\n",
"R2 = 33*10^(3);\n",
"R3 = 33*10^(3);\n",
"\n",
"Vi = 80*10^(-6);\n",
"\n",
"A = ((1+(Rf/R1))*(-Rf/R2)*(-Rf/R3));\n",
"Vo = A*Vi;\n",
"\n",
"disp(Vo,'Output voltage(Volts) = ');\n",
"\n",
""
   ]
   }
,
{
		   "cell_type": "markdown",
		   "metadata": {},
		   "source": [
			"## Example 11.4: Output_voltage.sce"
		   ]
		  },
  {
"cell_type": "code",
	   "execution_count": null,
	   "metadata": {
	    "collapsed": true
	   },
	   "outputs": [],
"source": [
"clear; clc; close;\n",
"\n",
"Rf = 270*10^(3);\n",
"A1 = 10;\n",
"A2 = -18;\n",
"A3 = -27;\n",
"Vi = 150*10^(-6);\n",
"\n",
"\n",
"R1 = Rf/(A1-1);\n",
"R2 = Rf/-A2;\n",
"R3 = Rf/-A3;\n",
"\n",
"Vo = A1*A2*A3*Vi;\n",
"\n",
"disp(Vo,'Output voltage(Volts) = ');"
   ]
   }
,
{
		   "cell_type": "markdown",
		   "metadata": {},
		   "source": [
			"## Example 11.5: Connection_of_op_amp_stages.sce"
		   ]
		  },
  {
"cell_type": "code",
	   "execution_count": null,
	   "metadata": {
	    "collapsed": true
	   },
	   "outputs": [],
"source": [
"clear; clc; close;\n",
"\n",
"Rf = 500*10^3;\n",
"A1 = -10;\n",
"A2 = -20;\n",
"A3 = -50;\n",
"\n",
"R1 = -Rf/A1;\n",
"R2 = -Rf/A2;\n",
"R3 = -Rf/A3;\n",
"\n",
"\n",
"disp(R1,'R1(ohms) = ');\n",
"disp(R2,'R2(ohms) = ');\n",
"disp(R3,'R3(ohms) = ');"
   ]
   }
,
{
		   "cell_type": "markdown",
		   "metadata": {},
		   "source": [
			"## Example 11.6: Output_voltage.sce"
		   ]
		  },
  {
"cell_type": "code",
	   "execution_count": null,
	   "metadata": {
	    "collapsed": true
	   },
	   "outputs": [],
"source": [
"clear; clc; close;\n",
"\n",
"v1 = ['*sin(1000t)'];\n",
"v2 = ['*sin(3000t)'];\n",
"\n",
"Vo = strcat([string(-(330*10^3)/(33*10^3)*50*10^(-3)),v1,string(-(330*10^3)/(10*10^3)*10^(-3)),v2]);\n",
"\n",
"disp(Vo,'Output voltage(Volts) = ');"
   ]
   }
,
{
		   "cell_type": "markdown",
		   "metadata": {},
		   "source": [
			"## Example 11.7: Output_voltage.sce"
		   ]
		  },
  {
"cell_type": "code",
	   "execution_count": null,
	   "metadata": {
	    "collapsed": true
	   },
	   "outputs": [],
"source": [
"clear; clc; close;\n",
"Rf = 1*10^(6);\n",
"R1 = 100*10^(3);\n",
"R2 = 50*10^(3);\n",
"R3 = 500*10^(3);\n",
"v2 = ['*V2'];\n",
"v1 = ['*V1'];\n",
"Vo = strcat([string((-Rf/R2)),v2,'+',string((Rf/R3)*(Rf/R1)),v1]);\n",
"disp(Vo,'Output voltage = ');"
   ]
   }
,
{
		   "cell_type": "markdown",
		   "metadata": {},
		   "source": [
			"## Example 11.8: Output_voltage.sce"
		   ]
		  },
  {
"cell_type": "code",
	   "execution_count": null,
	   "metadata": {
	    "collapsed": true
	   },
	   "outputs": [],
"source": [
"clear; clc; close;\n",
"\n",
"Vo = strcat([ string((20/(20+20)) * ((100+100)/100)),'*V1',string(-(100*10^3)/(100*10^3)),'*V2']);\n",
"\n",
"disp(Vo,'Output voltage = ');\n",
""
   ]
   }
],
"metadata": {
		  "kernelspec": {
		   "display_name": "Scilab",
		   "language": "scilab",
		   "name": "scilab"
		  },
		  "language_info": {
		   "file_extension": ".sce",
		   "help_links": [
			{
			 "text": "MetaKernel Magics",
			 "url": "https://github.com/calysto/metakernel/blob/master/metakernel/magics/README.md"
			}
		   ],
		   "mimetype": "text/x-octave",
		   "name": "scilab",
		   "version": "0.7.1"
		  }
		 },
		 "nbformat": 4,
		 "nbformat_minor": 0
}
