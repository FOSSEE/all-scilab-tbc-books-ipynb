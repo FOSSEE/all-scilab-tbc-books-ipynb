{
"cells": [
 {
		   "cell_type": "markdown",
	   "metadata": {},
	   "source": [
       "# Chapter 7: FET Biasing"
	   ]
	},
{
		   "cell_type": "markdown",
		   "metadata": {},
		   "source": [
			"## Example 7.10: Vds_determination.sce"
		   ]
		  },
  {
"cell_type": "code",
	   "execution_count": null,
	   "metadata": {
	    "collapsed": true
	   },
	   "outputs": [],
"source": [
"clear; clc; close;\n",
"\n",
"Idss = 10*10^(-3);\n",
"Vp = -4;\n",
"Vdd = 20;\n",
"Rd = 1.5*10^(3);\n",
"\n",
"Vgsq = 0;\n",
"disp(Vgsq,'Q-point value of Vgs(found after interpolation) is :');\n",
"\n",
"Idq = 10*10^(-3);\n",
"\n",
"Vd = Vdd - Idq*(Rd);\n",
"\n",
"disp(Idq,'Idq(Amperes) = ');\n",
"disp(Vd,'Vds(Volts) = ');"
   ]
   }
,
{
		   "cell_type": "markdown",
		   "metadata": {},
		   "source": [
			"## Example 7.11: Idq_Vdsq_Calculatio.sce"
		   ]
		  },
  {
"cell_type": "code",
	   "execution_count": null,
	   "metadata": {
	    "collapsed": true
	   },
	   "outputs": [],
"source": [
"clear; clc; close;\n",
"\n",
"Id_on = 6*10^(-3);\n",
"Vgs_on = 8;\n",
"Vgs_th = 3;\n",
"Rd = 2*10^(3);\n",
"Vdd = 12;\n",
"\n",
"k = Id_on/(Vgs_on-Vgs_th);\n",
"\n",
"Vgs1 = Vgs_th;\n",
"Id1 = 0;\n",
"Vgs2 = 6;\n",
"Id2 = 0.24*10^(-3)*(6-3)^2;\n",
"Vgs3 = Vgs_on;\n",
"Id3 = Id_on;\n",
"Vgs4 = 10;\n",
"Id4 = 0.24*10^(-3)*(10-3)^2;\n",
"\n",
"x = [0 1 2 Vgs1 Vgs2 Vgs3 Vgs4];\n",
"y = [0 0 0 Id1 Id2 Id3 Id4];\n",
"\n",
"yi=smooth([x;y],0.1);\n",
"a = gca();\n",
"a.thickness = 2;\n",
"a.y_location = 'left';\n",
"a.x_label.text = 'Vgs';\n",
"a.y_label.text = 'Id(mA)';\n",
"a.title.text = 'Transfer curve for MOSFET';\n",
"a.grid = [1 1];\n",
"plot2d(yi(1,:)',yi(2,:)',[3]);\n",
"\n",
"Vgs = Vdd; //at Id = 0\n",
"Id = Vdd/Rd;    //at Vgs = 0\n",
"x = 0:1:12;\n",
"y = (-0.5*10^(-3))*x + 6*10^(-3);\n",
"plot2d(x,y);\n",
"Idq = 2.75*10^(-3);\n",
"Vgsq = 6.4;\n",
"Vdsq = Vgsq;\n",
"disp(Idq,'Idq(Amperes) = ');\n",
"disp(Vdsq,'Vdsq(Volts) = ');\n",
""
   ]
   }
,
{
		   "cell_type": "markdown",
		   "metadata": {},
		   "source": [
			"## Example 7.12: Idq_Vgsq_and_Vds_calculation.sce"
		   ]
		  },
  {
"cell_type": "code",
	   "execution_count": null,
	   "metadata": {
	    "collapsed": true
	   },
	   "outputs": [],
"source": [
"clear; clc; close;\n",
"\n",
"Id_on = 3*10^(-3);\n",
"Vgs_on = 10;\n",
"Vgs_th = 5;\n",
"Vdd = 40;\n",
"R1 = 22*10^(6);\n",
"R2 = 18*10^(6);\n",
"Rs = 1*10^(3);\n",
"Rd = 3*10^(3);\n",
"\n",
"Vg = (R2*Vdd)/(R1+R2)\n",
"Vgs = 0:1:18;\n",
"Id = (Vg-Vgs)/Rs;\n",
"plot2d(Vgs,Id);\n",
"a = gca();\n",
"a.thickness = 2;\n",
"a.y_location = 'left';\n",
"a.x_label.text = 'Vgs';\n",
"a.y_label.text = 'Id(mA)';\n",
"a.title.text = 'Q-point for network';\n",
"a.grid = [1 1];\n",
"\n",
"k = Id_on/(Vgs_on-Vgs_th)^2;\n",
"Vgs = 5:1:18;\n",
"Id = k*(Vgs-Vgs_th)^2;\n",
"yi=smooth([Vgs;Id],0.1);\n",
"plot2d(yi(1,:)',yi(2,:)',[3]);\n",
"\n",
"Idq = 5.2*10^(-3);\n",
"Vgsq = 12.5;\n",
"Vds = Vdd-Idq*(Rs+Rd);\n",
"\n",
"disp(Idq,'Idq(Amperes) = ');\n",
"disp(Vgsq,'Vgsq(Volts) = ')\n",
"disp(Vds,'Vds(Volts) = ');\n",
""
   ]
   }
,
{
		   "cell_type": "markdown",
		   "metadata": {},
		   "source": [
			"## Example 7.13: Vd_and_Vc_level_determination.sce"
		   ]
		  },
  {
"cell_type": "code",
	   "execution_count": null,
	   "metadata": {
	    "collapsed": true
	   },
	   "outputs": [],
"source": [
"clear; clc; close;\n",
"\n",
"Idss = 12*10^(-3);\n",
"Vp = -3;\n",
"Vbe = 0.7;\n",
"Beta = 180;\n",
"Re = 1.6*10^(3);\n",
"\n",
"Vb = (24*10^(3)*16)/((82+24)*10^(3));\n",
"Ve = Vb-Vbe;\n",
"Vre = Ve;\n",
"Ie = Vre/Re;\n",
"Ic = Ie;\n",
"Id = Ic;\n",
"Vd = 16-Id*(2.7*10^(3));\n",
"Vgsq = -1.8;\n",
"Vc = Vb - Vgsq;\n",
"\n",
"disp(Vd,'Vd(Volts) = ');\n",
"disp(Vc,'Vc(Volts) = ');\n",
""
   ]
   }
,
{
		   "cell_type": "markdown",
		   "metadata": {},
		   "source": [
			"## Example 7.14: Vd_level_determination.sce"
		   ]
		  },
  {
"cell_type": "code",
	   "execution_count": null,
	   "metadata": {
	    "collapsed": true
	   },
	   "outputs": [],
"source": [
"clear; clc; close;\n",
"\n",
"Idss = 12*10^(-3);\n",
"Vp = -3;\n",
"Vbe = 0.7;\n",
"Beta = 80;\n",
"Re = 1.6*10^(3);\n",
"Rs = 2.4*10^(3);\n",
"\n",
"Vgsq = -2.6;\n",
"Idq = 1*10^(-3);\n",
"Ic = Idq;\n",
"Ie = Ic;\n",
"Ib = Ic/Beta;\n",
"Vb = 16-Ib*(470*10^(3));\n",
"Vd = Vb-Vbe;\n",
"disp(Vd,'Vd(Volts) = ');\n",
""
   ]
   }
,
{
		   "cell_type": "markdown",
		   "metadata": {},
		   "source": [
			"## Example 7.15: Vdq_and_Idq_level.sce"
		   ]
		  },
  {
"cell_type": "code",
	   "execution_count": null,
	   "metadata": {
	    "collapsed": true
	   },
	   "outputs": [],
"source": [
"clear; clc; close;\n",
"\n",
"Vdd = 20;\n",
"Vdq = 12;\n",
"Idq = 2.5*10^(-3);\n",
"Vgsq = -1;\n",
"Rd = (Vdd-Vdq)/Idq;\n",
"Rs = -Vgsq/Idq;\n",
"\n",
"disp(Rd,'Rd(Ohms) = ');\n",
"disp(Rs,'Rs(Ohms) = ');\n",
"disp(3.3*10^(3),'Closest commercial value of Rd(Ohms) = ');\n",
"disp(0.39*10^(3),'Closest commercial value of Rs(Ohms) = ');"
   ]
   }
,
{
		   "cell_type": "markdown",
		   "metadata": {},
		   "source": [
			"## Example 7.16: Rs_determination.sce"
		   ]
		  },
  {
"cell_type": "code",
	   "execution_count": null,
	   "metadata": {
	    "collapsed": true
	   },
	   "outputs": [],
"source": [
"clear; clc; close;\n",
"\n",
"Vd =12;\n",
"Vdd = 16;\n",
"Vgsq = -2;\n",
"Rd = 1.8*10^(3);\n",
"\n",
"Vg = (47*10^(3)*16)/((47+91)*10^(3));\n",
"Id = (Vdd-Vd)/Rd;\n",
"\n",
"Rs = (Vg-Vgsq)/Id;\n",
"\n",
"disp(Rs,'Rs(Ohms) = ');\n",
""
   ]
   }
,
{
		   "cell_type": "markdown",
		   "metadata": {},
		   "source": [
			"## Example 7.17: Vdd_and_Rd_determination.sce"
		   ]
		  },
  {
"cell_type": "code",
	   "execution_count": null,
	   "metadata": {
	    "collapsed": true
	   },
	   "outputs": [],
"source": [
"clear; clc; close;\n",
"\n",
"Id_on = 4*10^(-3);\n",
"Vgs_on = 6;\n",
"Vgs_th = 3;\n",
"\n",
"Vgs = Vgs_on;\n",
"Vdd = 2*Vgs;\n",
"Vds = Vgs;\n",
"Id = Id_on;\n",
"\n",
"Rd = (Vdd-Vds)/Id;\n",
"\n",
"disp(Rd,'Rd(Ohms) = ');"
   ]
   }
,
{
		   "cell_type": "markdown",
		   "metadata": {},
		   "source": [
			"## Example 7.18: Idq_Vgsq_and_Vds_calculation.sce"
		   ]
		  },
  {
"cell_type": "code",
	   "execution_count": null,
	   "metadata": {
	    "collapsed": true
	   },
	   "outputs": [],
"source": [
"clear; clc; close;\n",
"\n",
"Idss = 8*10^(-3);\n",
"Vp = 4;\n",
"Vdd = 20;\n",
"Rd = 4*10^(3);\n",
"Rs = 1.8*10^(3);\n",
"\n",
"Vg = 20*10^(3)*(-20)/((20+68)*10^(3));\n",
"\n",
"Vgs1 = 0;\n",
"Id1 = Idss;\n",
"Vgs2 = Vp/2;\n",
"Id2 = Idss/4;\n",
"Vgs3 = Vp;\n",
"Id3 = 0;\n",
"x = [Vgs1 Vgs2 Vgs3];\n",
"y = [Id1 Id2 Id3];\n",
"\n",
"yi=smooth([x;y],0.1);\n",
"a = gca();\n",
"a.thickness = 2;\n",
"a.data_bounds = [-5 0;5 8*10^(-3)];\n",
"a.y_location = 'middle';\n",
"a.x_label.text = 'Vgs';\n",
"a.y_label.text = 'Id(mA)';\n",
"a.title.text = 'Q-point for network';\n",
"a.grid = [1 1];\n",
"plot2d(yi(1,:)',yi(2,:)',[3]);\n",
"\n",
"\n",
"Id1 = 0;\n",
"Vgs1 = Vg+Id1*Rs;\n",
"Vgs2 = 0;\n",
"Id2 = (Vgs2-Vg)/Rs;\n",
"Id3 = 4*10^(-3);\n",
"Vgs3 = Vg+Id3*Rs;\n",
"x = [Vgs1 Vgs2 Vgs3];\n",
"y = [Id1 Id2 Id3];\n",
"plot2d(x,y);\n",
"\n",
"\n",
"Vgsq = 1.6;\n",
"Idq = 3.1*10^(-3);\n",
"Vds = -Vdd+Idq*(Rd+Rs);\n",
"\n",
"disp(Vgsq,'Q-point value of Vgs(found after interpolation) is :');\n",
"disp(Idq,'Q-point value of Id(found after interpolation) is :');\n",
"disp(Vds,'Vds(Volts) = ');"
   ]
   }
,
{
		   "cell_type": "markdown",
		   "metadata": {},
		   "source": [
			"## Example 7.19: Q_point_value_of_Id_and_Vgs.sce"
		   ]
		  },
  {
"cell_type": "code",
	   "execution_count": null,
	   "metadata": {
	    "collapsed": true
	   },
	   "outputs": [],
"source": [
"clear; clc; close;\n",
"\n",
"Idss = 6*10^(-3);\n",
"Vp = -3;\n",
"Vdd = 16;\n",
"Rd = 3.9*10^(3);\n",
"Rs = 1.6*10^(3);\n",
"\n",
"m = abs(Vp)/(Idss*Rs);\n",
"Idq = 0.18*Idss;\n",
"Vgsq = -0.575*abs(Vp);\n",
"\n",
"disp(Vgsq,'Vgsq(Volts) = ');\n",
"disp(Idq,'Idq(Amperes) = ');"
   ]
   }
,
{
		   "cell_type": "markdown",
		   "metadata": {},
		   "source": [
			"## Example 7.1: Network_characteristics_determination.sce"
		   ]
		  },
  {
"cell_type": "code",
	   "execution_count": null,
	   "metadata": {
	    "collapsed": true
	   },
	   "outputs": [],
"source": [
"clear; clc; close;\n",
"\n",
"Vgg = 2;\n",
"Idss = 10*10^(-3);\n",
"Vp = -4;\n",
"Vdd = 16;\n",
"Rd = 2*10^(3);\n",
"\n",
"Vgs = -Vgg;\n",
"Id = Idss*(1-(Vgs/Vp))^2;\n",
"Vds = Vdd - Id*Rd;\n",
"Vd = Vds;\n",
"Vg = Vgs;\n",
"Vs = 0;\n",
"\n",
"disp(Vgs,'Vgsq(Volts) = ');\n",
"disp(Id,'Idq(Amperes) = ');\n",
"disp(Vds,'Vds(Volts) = ');\n",
"disp(Vd,'Vd(Volts) = ');\n",
"disp(Vg,'Vg(Volts) = ');\n",
"disp(Vs,'Vs(Volts) = ');\n",
""
   ]
   }
,
{
		   "cell_type": "markdown",
		   "metadata": {},
		   "source": [
			"## Example 7.20: Q_point_value_of_Id_and_Vgs.sce"
		   ]
		  },
  {
"cell_type": "code",
	   "execution_count": null,
	   "metadata": {
	    "collapsed": true
	   },
	   "outputs": [],
"source": [
"clear; clc; close;\n",
"\n",
"Idss = 8*10^(-3);\n",
"Vp = -6;\n",
"Vdd = 18;\n",
"Rs = 1.2*10^(3);\n",
"R1 = 2*10^(6);\n",
"R2 = 470*10^(3);\n",
"\n",
"m = abs(Vp)/(Idss*Rs);\n",
"Vg = R2*Vdd/(R1+R2);\n",
"M = m*(Vg/abs(Vp));\n",
"\n",
"Idq = 0.52*Idss;\n",
"Vgsq = -0.27*abs(Vp);\n",
"\n",
"disp(Vgsq,'Vgsq(Volts) = ');\n",
"disp(Idq,'Idq(Amperes) = ');"
   ]
   }
,
{
		   "cell_type": "markdown",
		   "metadata": {},
		   "source": [
			"## Example 7.2: Network_characteristics_determination.sce"
		   ]
		  },
  {
"cell_type": "code",
	   "execution_count": null,
	   "metadata": {
	    "collapsed": true
	   },
	   "outputs": [],
"source": [
"clear; clc; close;\n",
"\n",
"Idss = 8*10^(-3);\n",
"Vp = -6;\n",
"Vdd = 20;\n",
"Rd = 3.3*10^(3);\n",
"Rs = 1*10^(3);\n",
"\n",
"Vgs1 = Vp;\n",
"Id1 = 0;\n",
"Vgs2 = Vp/2;\n",
"Id2 = Idss/4;\n",
"Vgs3 = 0;\n",
"Id3 = Idss;\n",
"x = [Vgs1 Vgs2 Vgs3];\n",
"y = [Id1 Id2 Id3];\n",
"\n",
"yi=smooth([x;y],0.1);\n",
"a = gca();\n",
"a.thickness = 2;\n",
"a.y_location = 'right';\n",
"a.x_label.text = 'Vgs';\n",
"a.y_label.text = 'Id(mA)';\n",
"a.title.text = 'Device characteristics JFET';\n",
"a.grid = [1 1];\n",
"plot2d(yi(1,:)',yi(2,:)',[3]);\n",
"\n",
"\n",
"Vgs1 = 0;\n",
"Id1 = 0;\n",
"Id2 = 4*10^(-3);\n",
"Vgs2 = -Id2*Rs;\n",
"Id3 = 8*10^(-3);\n",
"Vgs3 = -Id3*Rs;\n",
"x = [Vgs1 Vgs2 Vgs3];\n",
"y = [Id1 Id2 Id3];\n",
"plot2d(x,y);\n",
"\n",
"Vgsq = -2.6;\n",
"disp(Vgsq,'Q-point value of Vgs(found after interpolation) is :');\n",
"\n",
"Idq = 2.6*10^(-3);\n",
"Vds = Vdd - Idq*(Rs+Rd);\n",
"Vs = Idq*Rs;\n",
"Vg  = 0;\n",
"Vd = Vds + Vs;\n",
"\n",
"disp(Idq,'Idq(Amperes) = ');\n",
"disp(Vds,'Vds(Volts) = ');\n",
"disp(Vd,'Vd(Volts) = ');\n",
"disp(Vg,'Vg(Volts) = ');\n",
"disp(Vs,'Vs(Volts) = ');"
   ]
   }
,
{
		   "cell_type": "markdown",
		   "metadata": {},
		   "source": [
			"## Example 7.3: Q_point_for_network.sce"
		   ]
		  },
  {
"cell_type": "code",
	   "execution_count": null,
	   "metadata": {
	    "collapsed": true
	   },
	   "outputs": [],
"source": [
"clear; clc; close;\n",
"\n",
"Rs = 100;\n",
"Idss = 8*10^(-3);\n",
"Vp = -6;\n",
"Vdd = 20;\n",
"\n",
"Vgs1 = Vp;\n",
"Id1 = 0;\n",
"Vgs2 = Vp/2;\n",
"Id2 = Idss/4;\n",
"Vgs3 = 0;\n",
"Id3 = Idss;\n",
"x = [Vgs1 Vgs2 Vgs3];\n",
"y = [Id1 Id2 Id3];\n",
"\n",
"yi=smooth([x;y],0.1);\n",
"a = gca();\n",
"a.thickness = 2;\n",
"a.y_location = 'right';\n",
"a.x_label.text = 'Vgs';\n",
"a.y_label.text = 'Id(mA)';\n",
"a.title.text = 'Device characteristics JFET';\n",
"a.grid = [1 1];\n",
"\n",
"plot2d(yi(1,:)',yi(2,:)',[3]);\n",
"\n",
"\n",
"Vgs1 = 0;\n",
"Id1 = 0;\n",
"Id2 = 4*10^(-3);\n",
"Vgs2 = -Id2*Rs;\n",
"Id3 = 8*10^(-3);\n",
"Vgs3 = -Id3*Rs;\n",
"x = [Vgs1 Vgs2 Vgs3];\n",
"y = [Id1 Id2 Id3];\n",
"plot2d(x,y);\n",
"\n",
"\n",
"\n",
"\n",
"Idq = 6.4*10^(-3);\n",
"Vgsq = -0.64;\n",
"disp('From the figure,for part a  i.e Rs=100Kohm,we get ');\n",
"disp(Idq,'Idq(Amperes) = ');\n",
"disp(Vgsq,'Vgsq(Volts) = ');\n",
"\n",
"//part b\n",
"\n",
"Rs = 10*10^(3);\n",
"Idss = 8*10^(-3);\n",
"Vp = -6;\n",
"Vdd = 20;\n",
"\n",
"\n",
"\n",
"Vgs1 = 0;\n",
"Id1 = 0;\n",
"Id2 = 4*10^(-3);\n",
"Vgs2 = -Id2*Rs;\n",
"Id3 = 8*10^(-3);\n",
"Vgs3 = -Id3*Rs;\n",
"x = [Vgs1 Vgs2 Vgs3];\n",
"y = [Id1 Id2 Id3];\n",
"plot2d(x,y);\n",
"a.data_bounds = [-8 0;0 8*10^(-3)];\n",
"Idq = 0.46*10^(-3);\n",
"Vgsq = -4.6;\n",
"disp('From the figure,for part b  i.e Rs=10Kohm,we get ')\n",
"disp(Idq,'Idq(Amperes) = ');\n",
"disp(Vgsq,'Vgsq(Volts) = ');"
   ]
   }
,
{
		   "cell_type": "markdown",
		   "metadata": {},
		   "source": [
			"## Example 7.4: Network_characteristics_determination.sce"
		   ]
		  },
  {
"cell_type": "code",
	   "execution_count": null,
	   "metadata": {
	    "collapsed": true
	   },
	   "outputs": [],
"source": [
"clear; clc; close;\n",
"\n",
"Idss = 12*10^(-3);\n",
"Vp = -6;\n",
"Vdd = 12;\n",
"Rd = 1.5*10^(3);\n",
"Rs = 680;\n",
"\n",
"Vgs1 = Vp;\n",
"Id1 = 0;\n",
"Vgs2 = Vp/2;\n",
"Id2 = Idss/4;\n",
"Vgs3 = 0;\n",
"Id3 = Idss;\n",
"x = [Vgs1 Vgs2 Vgs3];\n",
"y = [Id1 Id2 Id3];\n",
"\n",
"yi=smooth([x;y],0.1);\n",
"a = gca();\n",
"a.thickness = 2;\n",
"a.y_location = 'right';\n",
"a.x_label.text = 'Vgs';\n",
"a.y_label.text = 'Id(mA)';\n",
"a.title.text = 'Device characteristics JFET';\n",
"a.grid = [1 1];\n",
"plot2d(yi(1,:)',yi(2,:)',[3]);\n",
"\n",
"\n",
"Vgs1 = 0;\n",
"Id1 = 0;\n",
"Id2 = 4*10^(-3);\n",
"Vgs2 = -Id2*Rs;\n",
"Id3 = 8*10^(-3);\n",
"Vgs3 = -Id3*Rs;\n",
"x = [Vgs1 Vgs2 Vgs3];\n",
"y = [Id1 Id2 Id3];\n",
"plot2d(x,y);\n",
"\n",
"\n",
"Vgsq = -2.6;\n",
"disp(Vgsq,'Q-point value of Vgs(found after interpolation) is :');\n",
"\n",
"Idq = 3.8*10^(-3);\n",
"Vd = Vdd - Idq*Rd;\n",
"Vg = 0;\n",
"Vs = Idq*Rs;\n",
"Vds = Vd-Vs;\n",
"\n",
"disp(Idq,'Idq(Amperes) = ');\n",
"disp(Vds,'Vds(Volts) = ');\n",
"disp(Vd,'Vd(Volts) = ');\n",
"disp(Vg,'Vg(Volts) = ');\n",
"disp(Vs,'Vs(Volts) = ');\n",
"disp(Vds,'Vds(Volts) = ');"
   ]
   }
,
{
		   "cell_type": "markdown",
		   "metadata": {},
		   "source": [
			"## Example 7.5: Network_characteristics_determination.sce"
		   ]
		  },
  {
"cell_type": "code",
	   "execution_count": null,
	   "metadata": {
	    "collapsed": true
	   },
	   "outputs": [],
"source": [
"clear; clc; close;\n",
"\n",
"Idss = 8*10^(-3);\n",
"Vp = -4;\n",
"Vdd = 16;\n",
"Rd = 2.4*10^(3);\n",
"Rs = 1.5*10^(3);\n",
"R1 = 2.1*10^(6);\n",
"R2 = 0.27*10^(6);\n",
"//finding Vg\n",
"Vg = R2*Vdd/(R1+R2);\n",
"\n",
"//plotting transfer curve\n",
"\n",
"Vgs1 = Vp;\n",
"Id1 = 0;\n",
"Vgs2 = Vp/2;\n",
"Id2 = Idss/4;\n",
"Vgs3 = 0;\n",
"Id3 = Idss;\n",
"x = [Vgs1 Vgs2 Vgs3];\n",
"y = [Id1 Id2 Id3];\n",
"\n",
"yi=smooth([x;y],0.1);\n",
"a = gca();\n",
"a.thickness = 2;\n",
"a.y_location = 'right';\n",
"a.x_label.text = 'Vgs';\n",
"a.y_label.text = 'Id(mA)';\n",
"a.title.text = 'Q-Point determination';\n",
"a.grid = [1 1];\n",
"plot2d(yi(1,:)',yi(2,:)',[3]);\n",
"\n",
"\n",
"Id1 = 0;\n",
"Vgs1 = Vg-Id1*Rs;\n",
"Id2 = 4*10^(-3);\n",
"Vgs2 = Vg-Id2*Rs;\n",
"Id3 = 8*10^(-3);\n",
"Vgs3 = Vg-Id3*Rs;\n",
"x = [Vgs1 Vgs2 Vgs3];\n",
"y = [Id1 Id2 Id3];\n",
"plot2d(x,y);\n",
"a.data_bounds = [-4 0;2 8*10^(-3)];\n",
"\n",
"\n",
"Vgsq = -1.8;\n",
"disp(Vgsq,'Q-point value of Vgs(found after interpolation) is :');\n",
"\n",
"Idq = 2.4*10^(-3);\n",
"\n",
"Vd = Vdd-Idq*Rd;\n",
"Vs = Idq*Rs;\n",
"Vds = Vdd - Idq*(Rd+Rs);\n",
"\n",
"disp(Idq,'Idq(Amperes) = ');\n",
"disp(Vds,'Vds(Volts) = ');\n",
"disp(Vd,'Vd(Volts) = ');\n",
"disp(Vs,'Vs(Volts) = ');\n",
"disp(Vds,'Vds(Volts) = ');"
   ]
   }
,
{
		   "cell_type": "markdown",
		   "metadata": {},
		   "source": [
			"## Example 7.6: Network_characteristics_determination.sce"
		   ]
		  },
  {
"cell_type": "code",
	   "execution_count": null,
	   "metadata": {
	    "collapsed": true
	   },
	   "outputs": [],
"source": [
"clear; clc; close;\n",
"\n",
"Idss = 9*10^(-3);\n",
"Vp = -3;\n",
"Vdd = 20;\n",
"Vss = 10;\n",
"Rd = 1.8*10^(3);\n",
"Rs = 1.5*10^(3);\n",
"\n",
"\n",
"Vgs1 = Vp;\n",
"Id1 = 0;\n",
"Vgs2 = Vp/2;\n",
"Id2 = Idss/4;\n",
"Vgs3 = 0;\n",
"Id3 = Idss;\n",
"x = [Vgs1 Vgs2 Vgs3];\n",
"y = [Id1 Id2 Id3];\n",
"\n",
"yi=smooth([x;y],0.1);\n",
"a = gca();\n",
"a.thickness = 2;\n",
"a.y_location = 'right';\n",
"a.x_label.text = 'Vgs';\n",
"a.y_label.text = 'Id(mA)';\n",
"a.title.text = 'Q-point for network';\n",
"a.grid = [1 1];\n",
"plot2d(yi(1,:)',yi(2,:)',[3]);\n",
"\n",
"\n",
"\n",
"Id1 = 0;\n",
"Vgs1 = Vss-Id1*Rs;\n",
"Id2 = 4*10^(-3);\n",
"Vgs2 = Vss-Id2*Rs;\n",
"Id3 = 8*10^(-3);\n",
"Vgs3 = Vss-Id3*Rs;\n",
"x = [Vgs1 Vgs2 Vgs3];\n",
"y = [Id1 Id2 Id3];\n",
"plot2d(x,y);\n",
"a.data_bounds = [-3 0;10 9*10^(-3)];\n",
"\n",
"\n",
"\n",
"Vgsq = -0.35;\n",
"disp(Vgsq,'Q-point value of Vgs(found after interpolation) is :');\n",
"\n",
"Idq = 6.9*10^(-3);\n",
"\n",
"Vds = Vdd+Vss-Idq*(Rd+Rs);\n",
"Vd = Vdd-Idq*Rd;\n",
"Vs = Vd-Vds;\n",
"\n",
"disp(Idq,'Idq(Amperes) = ');\n",
"disp(Vds,'Vds(Volts) = ');\n",
"disp(Vd,'Vd(Volts) = ');\n",
"disp(Vs,'Vs(Volts) = ');\n",
"disp(Vds,'Vds(Volts) = ');"
   ]
   }
,
{
		   "cell_type": "markdown",
		   "metadata": {},
		   "source": [
			"## Example 7.7: Idq_Vgsq_and_Vds_calculation.sce"
		   ]
		  },
  {
"cell_type": "code",
	   "execution_count": null,
	   "metadata": {
	    "collapsed": true
	   },
	   "outputs": [],
"source": [
"clear; clc; close;\n",
"\n",
"Idss = 6*10^(-3);\n",
"Vp = -3;\n",
"Vdd = 18;\n",
"Rd = 1.8*10^(3);\n",
"Rs = 750;\n",
"\n",
"Vg = 10*10^(6)*18/((10+110)*10^(6));\n",
"\n",
"Vgs1 = Vp;\n",
"Id1 = 0;\n",
"Vgs2 = Vp/2;\n",
"Id2 = Idss/4;\n",
"Vgs3 = 0;\n",
"Id3 = Idss;\n",
"Vgs4 = 1;\n",
"Id4 = Idss*(1-(Vgs4/Vp))^2;\n",
"disp(Id4);\n",
"x = [Vgs1 Vgs2 Vgs3 Vgs4];\n",
"y = [Id1 Id2 Id3 Id4];\n",
"\n",
"yi=smooth([x;y],0.1);\n",
"a = gca();\n",
"a.thickness = 2;\n",
"a.y_location = 'right';\n",
"a.x_label.text = 'Vgs';\n",
"a.y_label.text = 'Id(mA)';\n",
"a.title.text = 'Q-point for network';\n",
"a.grid = [1 1];\n",
"plot2d(yi(1,:)',yi(2,:)',[3]);\n",
"\n",
"\n",
"Id1 = 0;\n",
"Vgs1 = Vg-Id1*Rs;\n",
"Id2 = 3*10^(-3);\n",
"Vgs2 = Vg-Id2*Rs;\n",
"Id3 = 6*10^(-3);\n",
"Vgs3 = Vg-Id3*Rs;\n",
"x = [Vgs1 Vgs2 Vgs3];\n",
"y = [Id1 Id2 Id3];\n",
"plot2d(x,y);\n",
"a.data_bounds = [-3 0;2 10*10^(-3)];\n",
"\n",
"\n",
"Vgsq = -0.8;\n",
"disp(Vgsq,'Q-point value of Vgs(found after interpolation) is :');\n",
"\n",
"Idq = 3.1*10^(-3);\n",
"\n",
"Vds = Vdd - Idq*(Rd+Rs);\n",
"\n",
"disp(Idq,'Idq(Amperes) = ');\n",
"disp(Vds,'Vds(Volts) = ');"
   ]
   }
,
{
		   "cell_type": "markdown",
		   "metadata": {},
		   "source": [
			"## Example 7.8: Idq_Vgsq_and_Vds_calculation.sce"
		   ]
		  },
  {
"cell_type": "code",
	   "execution_count": null,
	   "metadata": {
	    "collapsed": true
	   },
	   "outputs": [],
"source": [
"clear; clc; close;\n",
"\n",
"Idss = 6*10^(-3);\n",
"Vp = -3;\n",
"Vdd = 18;\n",
"Rd = 1.8*10^(3);\n",
"Rs = 150;\n",
"\n",
"\n",
"Vg = 10*10^(6)*18/((10+110)*10^(6));\n",
"\n",
"Vgs1 = Vp;\n",
"Id1 = 0;\n",
"Vgs2 = Vp/2;\n",
"Id2 = Idss/4;\n",
"Vgs3 = 0;\n",
"Id3 = Idss;\n",
"Vgs4 = 1;\n",
"Id4 = Idss*(1-(Vgs4/Vp))^2;\n",
"disp(Id4);\n",
"x = [Vgs1 Vgs2 Vgs3 Vgs4];\n",
"y = [Id1 Id2 Id3 Id4];\n",
"\n",
"yi=smooth([x;y],0.1);\n",
"a = gca();\n",
"a.thickness = 2;\n",
"a.y_location = 'right';\n",
"a.x_label.text = 'Vgs';\n",
"a.y_label.text = 'Id(mA)';\n",
"a.title.text = 'Q-point for network';\n",
"a.grid = [1 1];\n",
"plot2d(yi(1,:)',yi(2,:)',[3]);\n",
"\n",
"\n",
"Id1 = 0;\n",
"Vgs1 = Vg-Id1*Rs;\n",
"Id2 = 3*10^(-3);\n",
"Vgs2 = Vg-Id2*Rs;\n",
"Id3 = 6*10^(-3);\n",
"Vgs3 = Vg-Id3*Rs;\n",
"Vgs4 = 0;\n",
"Id4 = (Vg - Vgs4)/Rs;\n",
"x = [Vgs1 Vgs2 Vgs3 Vgs4];\n",
"y = [Id1 Id2 Id3 Id4];\n",
"plot2d(x,y);\n",
"a.data_bounds = [-3 0;2 10*10^(-3)];\n",
"\n",
"\n",
"\n",
"\n",
"Vgsq = 0.35;\n",
"disp(Vgsq,'Q-point value of Vgs(found after interpolation) is :');\n",
"\n",
"Idq = 7.6*10^(-3);\n",
"\n",
"Vds = Vdd - Idq*(Rd+Rs);\n",
"\n",
"disp(Idq,'Idq(Amperes) = ');\n",
"disp(Vds,'Vds(Volts) = ');"
   ]
   }
,
{
		   "cell_type": "markdown",
		   "metadata": {},
		   "source": [
			"## Example 7.9: Idq_Vgsq_and_Vd_calculation.sce"
		   ]
		  },
  {
"cell_type": "code",
	   "execution_count": null,
	   "metadata": {
	    "collapsed": true
	   },
	   "outputs": [],
"source": [
"clear; clc; close;\n",
"\n",
"Idss = 8*10^(-3);\n",
"Vp = -8;\n",
"Vdd = 20;\n",
"Rd = 6.2*10^(3);\n",
"Rs = 2.4*10^(3);\n",
"\n",
"Vgs1 = Vp;\n",
"Id1 = 0;\n",
"Vgs2 = Vp/2;\n",
"Id2 = Idss/4;\n",
"Vgs3 = 0;\n",
"Id3 = Idss;\n",
"Vgs4 = 2;\n",
"Id4 = Idss*(1-(Vgs4/Vp))^2;\n",
"x = [Vgs1 Vgs2 Vgs3 Vgs4];\n",
"y = [Id1 Id2 Id3 Id4];\n",
"\n",
"yi=smooth([x;y],0.1);\n",
"a = gca();\n",
"a.thickness = 2;\n",
"a.y_location = 'right';\n",
"a.x_label.text = 'Vgs';\n",
"a.y_label.text = 'Id(mA)';\n",
"a.title.text = 'Q-point for the network';\n",
"a.grid = [1 1];\n",
"plot2d(yi(1,:)',yi(2,:)',[3]);\n",
"\n",
"\n",
"Vgs1 = 0;\n",
"Id1 = 0;\n",
"Id2 = 4*10^(-3);\n",
"Vgs2 = -Id2*Rs;\n",
"Id3 = 8*10^(-3);\n",
"Vgs3 = -Id3*Rs;\n",
"x = [Vgs1 Vgs2 Vgs3];\n",
"y = [Id1 Id2 Id3];\n",
"plot2d(x,y);\n",
"a.data_bounds = [-8 0;0 13*10^(-3)];\n",
"\n",
"\n",
"Vgsq = -4.3;\n",
"disp(Vgsq,'Q-point value of Vgs(found after interpolation) is :');\n",
"\n",
"Idq = 1.7*10^(-3);\n",
"\n",
"Vd = Vdd - Idq*(Rd);\n",
"\n",
"disp(Idq,'Idq(Amperes) = ');\n",
"disp(Vd,'Vd(Volts) = ');"
   ]
   }
],
"metadata": {
		  "kernelspec": {
		   "display_name": "Scilab",
		   "language": "scilab",
		   "name": "scilab"
		  },
		  "language_info": {
		   "file_extension": ".sce",
		   "help_links": [
			{
			 "text": "MetaKernel Magics",
			 "url": "https://github.com/calysto/metakernel/blob/master/metakernel/magics/README.md"
			}
		   ],
		   "mimetype": "text/x-octave",
		   "name": "scilab",
		   "version": "0.7.1"
		  }
		 },
		 "nbformat": 4,
		 "nbformat_minor": 0
}
