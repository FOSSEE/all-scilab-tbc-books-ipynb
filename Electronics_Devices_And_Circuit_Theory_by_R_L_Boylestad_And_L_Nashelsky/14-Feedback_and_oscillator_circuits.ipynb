{
"cells": [
 {
		   "cell_type": "markdown",
	   "metadata": {},
	   "source": [
       "# Chapter 14: Feedback and oscillator circuits"
	   ]
	},
{
		   "cell_type": "markdown",
		   "metadata": {},
		   "source": [
			"## Example 14.1: input_output_impedance_and_voltage_gain.sce"
		   ]
		  },
  {
"cell_type": "code",
	   "execution_count": null,
	   "metadata": {
	    "collapsed": true
	   },
	   "outputs": [],
"source": [
"clear; clc; close;\n",
"\n",
"A = -100;\n",
"Zi = 10*10^(3);\n",
"Zo = 20*10^(3);\n",
"\n",
"\n",
"//part a \n",
"Beta = -0.1;\n",
"Af = A/(1+Beta*A);\n",
"Zif = Zi*(1+Beta*A);\n",
"Zof = Zo/(1+Beta*A);\n",
"\n",
"disp(Af,'Voltage gain for part a= ');\n",
"disp(Zif,'Input impedance for part a= ');\n",
"disp(Zof,'Output Impedance for part a= ');\n",
"\n",
"//part b\n",
"Beta = -0.5;\n",
"Af = A/(1+Beta*A);\n",
"Zif = Zi*(1+Beta*A);\n",
"Zof = Zo/(1+Beta*A);\n",
"\n",
"disp(Af,'Voltage gain for part b = ');\n",
"disp(Zif,'Input impedance for part b = ');\n",
"disp(Zof,'Output Impedance for part b = ');"
   ]
   }
,
{
		   "cell_type": "markdown",
		   "metadata": {},
		   "source": [
			"## Example 14.2: change_in_gain_of_feedback_amplifier.sce"
		   ]
		  },
  {
"cell_type": "code",
	   "execution_count": null,
	   "metadata": {
	    "collapsed": true
	   },
	   "outputs": [],
"source": [
"clear; clc; close;\n",
"\n",
"Beta = -0.1;\n",
"dA_A = 20;\n",
"A = -1000;\n",
"\n",
"dAf_Af = abs(1/(Beta*A))*abs((dA_A));\n",
"disp(dAf_Af,'Percentage Change in gain of feedback amplifier = ');"
   ]
   }
,
{
		   "cell_type": "markdown",
		   "metadata": {},
		   "source": [
			"## Example 14.3: gain_with_and_without_feedback.sce"
		   ]
		  },
  {
"cell_type": "code",
	   "execution_count": null,
	   "metadata": {
	    "collapsed": true
	   },
	   "outputs": [],
"source": [
"clear; clc; close;\n",
"\n",
"R1 = 80*10^(3);\n",
"R2 = 20*10^(3);\n",
"Ro = 10*10^(3);\n",
"Rd = 10*10^(3);\n",
"gm = 4000*10^(-6);\n",
"\n",
"\n",
"Rl = Ro*Rd/(Ro+Rd);\n",
"A = -gm*Rl;\n",
"Beta = -R2/(R1+R2);\n",
"Af = A/(1+Beta*A);\n",
"\n",
"disp(A,'Gain without feedback = ');\n",
"disp(Af,'Gain with feedback = ');\n",
""
   ]
   }
,
{
		   "cell_type": "markdown",
		   "metadata": {},
		   "source": [
			"## Example 14.4: amplifier_gai.sce"
		   ]
		  },
  {
"cell_type": "code",
	   "execution_count": null,
	   "metadata": {
	    "collapsed": true
	   },
	   "outputs": [],
"source": [
"clear; clc; close;\n",
"\n",
"R1 = 1.8*10^(3);\n",
"R2 = 200;\n",
"A = 100000;\n",
"\n",
"\n",
"Beta = R2/(R1+R2);\n",
"Af = A/(1+Beta*A);\n",
"Af = 1/Beta;\n",
"\n",
"disp(Af,'Amplifier gain = ');"
   ]
   }
,
{
		   "cell_type": "markdown",
		   "metadata": {},
		   "source": [
			"## Example 14.5: voltage_gai.sce"
		   ]
		  },
  {
"cell_type": "code",
	   "execution_count": null,
	   "metadata": {
	    "collapsed": true
	   },
	   "outputs": [],
"source": [
"clear; clc; close;\n",
"\n",
"hfe = 120;\n",
"hie = 900;\n",
"Re = 510;\n",
"Rc = 2.2*10^(3);\n",
"re = 7.5;\n",
"\n",
"A = -hfe/(hie+Re);\n",
"Beta = -Re;\n",
"Af = A/(1+Beta*A);\n",
"Avf = Af*Rc;\n",
"Av = -Rc/re;\n",
"\n",
"\n",
"disp(Avf,'Voltage gain with feedback = ');\n",
"disp(Av,'Voltage gain without feedback = ');"
   ]
   }
,
{
		   "cell_type": "markdown",
		   "metadata": {},
		   "source": [
			"## Example 14.6: voltage_gai.sce"
		   ]
		  },
  {
"cell_type": "code",
	   "execution_count": null,
	   "metadata": {
	    "collapsed": true
	   },
	   "outputs": [],
"source": [
"clear; clc; close;\n",
"\n",
"gm = 5*10^(-3);\n",
"Rd = 5.1*10^(3);\n",
"Rs = 1*10^(3);\n",
"Rf = 10*10^(3);\n",
"\n",
"\n",
"Av = -gm*Rd;\n",
"Avf = (-gm*Rd)*(Rf/(Rf+(gm*Rd*Rs)));\n",
"\n",
"disp(Av,'Voltage gain without feedback = ');\n",
"disp(Avf,'Voltage gain with feedback = ');\n",
""
   ]
   }
,
{
		   "cell_type": "markdown",
		   "metadata": {},
		   "source": [
			"## Example 14.7: value_of_C.sce"
		   ]
		  },
  {
"cell_type": "code",
	   "execution_count": null,
	   "metadata": {
	    "collapsed": true
	   },
	   "outputs": [],
"source": [
"clear; clc; close;\n",
"\n",
"R = 10*10^(3);\n",
"f = 5*10^(3);\n",
"A = 40;\n",
"gm = 5000*10^(-6);\n",
"\n",
"C = 1/(2*%pi*R*f*sqrt(6));\n",
"Rl = abs(A)/gm;\n",
"\n",
"disp(C,'Value of C = ');\n",
"disp(Rl,'Value of Rl = ');\n",
""
   ]
   }
,
{
		   "cell_type": "markdown",
		   "metadata": {},
		   "source": [
			"## Example 14.8: resonant_frequency_and_RC_elements.sce"
		   ]
		  },
  {
"cell_type": "code",
	   "execution_count": null,
	   "metadata": {
	    "collapsed": true
	   },
	   "outputs": [],
"source": [
"clear; clc; close;\n",
"\n",
"R  = 51*10^(3);\n",
"C = 0.001*10^(-6);\n",
"\n",
"\n",
"fo = 1/(2*%pi*R*C);\n",
"\n",
"disp(fo,'Resonant frequency = ');\n",
"\n",
"fo2 = 2*fo;\n",
"RC = 1/(2*%pi*fo2);\n",
"R = 50*10^(3);\n",
"C = 510*10^(-12);\n",
"\n",
"disp(R,'Value of R can be = ');\n",
"disp(C,'Value of C can be = ');\n",
""
   ]
   }
,
{
		   "cell_type": "markdown",
		   "metadata": {},
		   "source": [
			"## Example 14.9: RC_elements_for_wien_bridge.sce"
		   ]
		  },
  {
"cell_type": "code",
	   "execution_count": null,
	   "metadata": {
	    "collapsed": true
	   },
	   "outputs": [],
"source": [
"clear; clc; close;\n",
"\n",
"fo = 5*10^(3);\n",
"\n",
"R = 50*10^(3);\n",
"C = 1/(2*%pi*fo*R);\n",
"\n",
"disp(R,'Value of R can be = ');\n",
"disp(C,'Value of C is = ');"
   ]
   }
],
"metadata": {
		  "kernelspec": {
		   "display_name": "Scilab",
		   "language": "scilab",
		   "name": "scilab"
		  },
		  "language_info": {
		   "file_extension": ".sce",
		   "help_links": [
			{
			 "text": "MetaKernel Magics",
			 "url": "https://github.com/calysto/metakernel/blob/master/metakernel/magics/README.md"
			}
		   ],
		   "mimetype": "text/x-octave",
		   "name": "scilab",
		   "version": "0.7.1"
		  }
		 },
		 "nbformat": 4,
		 "nbformat_minor": 0
}
