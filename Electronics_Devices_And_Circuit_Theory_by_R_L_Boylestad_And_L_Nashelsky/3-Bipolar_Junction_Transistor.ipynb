{
"cells": [
 {
		   "cell_type": "markdown",
	   "metadata": {},
	   "source": [
       "# Chapter 3: Bipolar Junction Transistor"
	   ]
	},
{
		   "cell_type": "markdown",
		   "metadata": {},
		   "source": [
			"## Example 3.1: Determining_Collector_current_and_Vbe.sce"
		   ]
		  },
  {
"cell_type": "code",
	   "execution_count": null,
	   "metadata": {
	    "collapsed": true
	   },
	   "outputs": [],
"source": [
"clear; clc; close;\n",
"\n",
"//part a\n",
"Ie = 3*10^(-3);\n",
"Vcb = 10;\n",
"Ic = Ie;\n",
"disp(Ic,'Ic (A):');\n",
"\n",
"//part b\n",
"Vcb = 2;\n",
"Ie = 3*10^(-3);\n",
"Ic = Ie;\n",
"disp(Ic,'No effect of changing Vcb & Ic remains same, Ic(A) is : ');\n",
"//part c\n",
"Ic = 4*10^(-3);\n",
"Vcb = 20;\n",
"Ie  = Ic;\n",
"Vbe = 0.74;\n",
"disp(Vbe,'Vbe(volts) is :');\n",
"//part d\n",
"Ic = 4*10^(-3);\n",
"Ie  = Ic;\n",
"Vbe = 0.7;\n",
"disp(Vbe,'Vbe(volts) in this case is : ');"
   ]
   }
,
{
		   "cell_type": "markdown",
		   "metadata": {},
		   "source": [
			"## Example 3.2: Determining_Collector_current.sce"
		   ]
		  },
  {
"cell_type": "code",
	   "execution_count": null,
	   "metadata": {
	    "collapsed": true
	   },
	   "outputs": [],
"source": [
"clear; clc; close;\n",
"\n",
"\n",
"//part a\n",
"Ib = 30*10^(-6);\n",
"Vce = 7.5;\n",
"Ic = 3.3*10^(-3);\n",
"disp(Ic,'Ic(A) is : ');\n",
"//part b\n",
"Vce = 15;\n",
"Vbe = 0.7;\n",
"Ib = 20*10^(-6);\n",
"Ic = 2.5*10^(-3);\n",
"disp(Ic,'Ic(A) ate the intersection of Ib & Vceis :');\n",
"//part c\n",
"Ib = 4*10^(-6);\n",
"Vce = 15;\n",
"Ic = 800*10^(-6);\n",
"disp(Ic,'Ic(A) in this case is : ');\n",
""
   ]
   }
],
"metadata": {
		  "kernelspec": {
		   "display_name": "Scilab",
		   "language": "scilab",
		   "name": "scilab"
		  },
		  "language_info": {
		   "file_extension": ".sce",
		   "help_links": [
			{
			 "text": "MetaKernel Magics",
			 "url": "https://github.com/calysto/metakernel/blob/master/metakernel/magics/README.md"
			}
		   ],
		   "mimetype": "text/x-octave",
		   "name": "scilab",
		   "version": "0.7.1"
		  }
		 },
		 "nbformat": 4,
		 "nbformat_minor": 0
}
