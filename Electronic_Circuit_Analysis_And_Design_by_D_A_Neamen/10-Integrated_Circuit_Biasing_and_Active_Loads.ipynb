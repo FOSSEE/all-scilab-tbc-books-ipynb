{
"cells": [
 {
		   "cell_type": "markdown",
	   "metadata": {},
	   "source": [
       "# Chapter 10: Integrated Circuit Biasing and Active Loads"
	   ]
	},
{
		   "cell_type": "markdown",
		   "metadata": {},
		   "source": [
			"## Example 10.10: Calculate_the_open_circuit_voltage_gain.sce"
		   ]
		  },
  {
"cell_type": "code",
	   "execution_count": null,
	   "metadata": {
	    "collapsed": true
	   },
	   "outputs": [],
"source": [
"clear;\n",
"clc;\n",
"//Example 10.10\n",
"Vt=0.026;\n",
"Van=120;\n",
"Vap=80;\n",
"Av=-(1/Vt)/(1/Van+1/Vap);\n",
"printf('\nsmall signal open circuit voltage gain=%.2f\n',Av)"
   ]
   }
,
{
		   "cell_type": "markdown",
		   "metadata": {},
		   "source": [
			"## Example 10.11: Calculate_the_small_signal_voltage_gain.sce"
		   ]
		  },
  {
"cell_type": "code",
	   "execution_count": null,
	   "metadata": {
	    "collapsed": true
	   },
	   "outputs": [],
"source": [
"clear;\n",
"clc;\n",
"//Example 10.11\n",
"Van=120;\n",
"Vap=80;\n",
"Vt=0.026;\n",
"Ico=0.001;\n",
"//Rl=infinity\n",
"Av=-(1/Vt)/(1/Van+1/Vap);\n",
"printf('\nsmall signal open circuit voltage gain=%.2f\n',Av)\n",
"Rl=100;\n",
"Av1=-(1/Vt)/(1/Van+1/Vap+1/Rl);\n",
"printf('\nsmall signal open circuit voltage gain=%.2f\n',Av1)\n",
"Rl=10;\n",
"Av2=-(1/Vt)/(1/Van+1/Vap+1/Rl);\n",
"printf('\nsmall signal open circuit voltage gain=%.2f\n',Av2)"
   ]
   }
,
{
		   "cell_type": "markdown",
		   "metadata": {},
		   "source": [
			"## Example 10.12: Calculate_the_small_signal_voltage_gain.sce"
		   ]
		  },
  {
"cell_type": "code",
	   "execution_count": null,
	   "metadata": {
	    "collapsed": true
	   },
	   "outputs": [],
"source": [
"clear;\n",
"clc;\n",
"//Example 10.12\n",
"//lambda=y\n",
"yn=0.01;\n",
"yp=0.01;\n",
"Vtn=1;\n",
"Kn=1;\n",
"Iref=0.5;\n",
"gm=2*sqrt(Kn*Iref);\n",
"printf('\ntransconductance =%.2fmA/V\n',gm)\n",
"go=yn*Iref;\n",
"printf('\nsmall signal transistor conductance=%.4f mA/V\n',go)\n",
"go2=go;\n",
"//for Rl=infinity\n",
"Av=-gm/(go+go2);\n",
"printf('\nvoltage gain=%.2f \n',Av)\n",
"Rl=100;//Kohm\n",
"gl=0.01;\n",
"Av=-gm/(go+gl+go2);\n",
"printf('\nvoltage gain=%.2f \n',Av)"
   ]
   }
,
{
		   "cell_type": "markdown",
		   "metadata": {},
		   "source": [
			"## Example 10.1: Design_a_two_transistor_current_source.sce"
		   ]
		  },
  {
"cell_type": "code",
	   "execution_count": null,
	   "metadata": {
	    "collapsed": true
	   },
	   "outputs": [],
"source": [
"clear;\n",
"clc;\n",
"//Example 10.1\n",
"Vbe=0.6;//(V)\n",
"b=100;\n",
"V1=5;\n",
"Io=200;//micro A\n",
"Iref=Io*(1+2/b);\n",
"printf('\nreference current=%.2f microA\n',Iref)\n",
"Iref=Iref*0.001;//mA\n",
"R1=(V1-Vbe)/Iref;\n",
"printf('\nR1=%.2f KOhm\n',R1)"
   ]
   }
,
{
		   "cell_type": "markdown",
		   "metadata": {},
		   "source": [
			"## Example 10.2: Determine_the_change_in_load_current.sce"
		   ]
		  },
  {
"cell_type": "code",
	   "execution_count": null,
	   "metadata": {
	    "collapsed": true
	   },
	   "outputs": [],
"source": [
"clear;\n",
"clc;\n",
"//Example 10.2\n",
"V1=5;\n",
"V2=-5;\n",
"R1=9.3;\n",
"b=50;\n",
"Vbe=0.7;\n",
"Va=80;\n",
"Iref=(V1-Vbe-V2)/R1;\n",
"printf('\nreference current =%.3fmA\n',Iref)\n",
"Io=Iref/(1+2/b);\n",
"printf('\noutput current=%.2fmA\n',Io)\n",
"ro=Va/Io;\n",
"printf('\nsmall signal output resistance=%.2f KOhm\n',ro)\n",
"//dIo=dVce2/ro\n",
"Vce2=0.7;\n",
"dIo=(V1-Vce2)/ro;\n",
"printf('\nchange in load current=%.3f mA\n',dIo)\n",
"x=dIo/Io;\n",
"x=x*100;\n",
"printf('\npercent change in output current=%.2f \n',x)"
   ]
   }
,
{
		   "cell_type": "markdown",
		   "metadata": {},
		   "source": [
			"## Example 10.4: Design_a_Widlar_current_source.sce"
		   ]
		  },
  {
"cell_type": "code",
	   "execution_count": null,
	   "metadata": {
	    "collapsed": true
	   },
	   "outputs": [],
"source": [
"clear;\n",
"clc;\n",
"//Example 10.4\n",
"Iref=1;\n",
"Io=12*10^-3;\n",
"V1=5;\n",
"V2=-5;\n",
"Vt=0.026;\n",
"Vbe=0.7;\n",
"R1=(V1-Vbe-V2)/Iref;\n",
"printf('\nResistance R1 =%.2fKOhm\n',R1)\n",
"Re=(Vt/Io)*log(Iref/Io);\n",
"printf('\nResistance Re =%.2fKOhm\n',Re)\n",
"Vbe=Io*Re;\n",
"printf('\ndifference between two B-E voltages=%.2f V\n',Vbe)"
   ]
   }
,
{
		   "cell_type": "markdown",
		   "metadata": {},
		   "source": [
			"## Example 10.5: Determine_the_change_in_load_current.sce"
		   ]
		  },
  {
"cell_type": "code",
	   "execution_count": null,
	   "metadata": {
	    "collapsed": true
	   },
	   "outputs": [],
"source": [
"clear;\n",
"clc;\n",
"//Example 10.5\n",
"V1=5;\n",
"V2=-5;\n",
"R1=9.3;\n",
"Re=9.580;\n",
"Vt=0.026;\n",
"b=100;\n",
"Vbe=0.7;\n",
"Va=80;\n",
"Io=12;\n",
"ro2=Va/Io;\n",
"printf('\nsmall signal collector resistance=%.2f MOhm\n',ro2)\n",
"Io=12*0.001;//mA\n",
"gm2=Io/Vt;\n",
"printf('\ntransconductance=%.3f mA/V\n',gm2)\n",
"r=b*Vt/Io;\n",
"printf('\nResistance=%.2f KOhm\n',r)\n",
"Ro=ro2*(1+gm2*Re*r/(Re+r));\n",
"printf('\noutput resistance=%.2f MOhm\n',Ro)\n",
"dVc2=4;\n",
"dIo=dVc2/Ro;\n",
"printf('\nchange in load current=%.3f microA\n',dIo)\n",
"Io=12;//micro A\n",
"x=dIo/Io;\n",
"x=x*100;\n",
"printf('\npercent change in output current =%.4f\n',x)"
   ]
   }
,
{
		   "cell_type": "markdown",
		   "metadata": {},
		   "source": [
			"## Example 10.6: Design_a_generalized_current_mirror.sce"
		   ]
		  },
  {
"cell_type": "code",
	   "execution_count": null,
	   "metadata": {
	    "collapsed": true
	   },
	   "outputs": [],
"source": [
"clear;\n",
"clc;\n",
"//Example 10.6\n",
"V1=5;\n",
"V2=-5;\n",
"Vbe=0.6;\n",
"Veb=0.6;\n",
"Iq2=400*10^-3;//mA\n",
"Iref=200*10^-3;//mA\n",
"Iq1=Iref;\n",
"Iq3=Iq1;\n",
"Iq4=600*10^-6;\n",
"R1=(V1-Veb-Vbe-V2)/Iref;\n",
"printf('\nResistance R1=%.f KOhm\n',R1)"
   ]
   }
,
{
		   "cell_type": "markdown",
		   "metadata": {},
		   "source": [
			"## Example 10.7: Design_a_MOSFET_current_source.sce"
		   ]
		  },
  {
"cell_type": "code",
	   "execution_count": null,
	   "metadata": {
	    "collapsed": true
	   },
	   "outputs": [],
"source": [
"clear;\n",
"clc;\n",
"//Example 10.7\n",
"//uox*Cox/2=x\n",
"x=20*10^-6;//A/V^2\n",
"Vtn=1;\n",
"V1=5;\n",
"V2=0;\n",
"Iref=0.25*10^-3;\n",
"Io=0.1*10^-3;\n",
"Vgs2=1.85;\n",
"//let y=W/L\n",
"y2=Io/(x*(Vgs2-Vtn)^2);\n",
"printf('\nwidth per length 2=%.2f\n',y2)\n",
"y1=Iref/(x*(Vgs2-Vtn)^2);\n",
"printf('\nwidth per length 1=%.2f\n',y1)\n",
"Vgs1=Vgs2;\n",
"Vgs3=V1-V2-Vgs1;\n",
"printf('\nVgs3=%.2f V\n',Vgs3)\n",
"y3=Iref/(x*(Vgs3-Vtn)^2);\n",
"printf('\nwidth per length 3=%.2f\n',y3)"
   ]
   }
,
{
		   "cell_type": "markdown",
		   "metadata": {},
		   "source": [
			"## Example 10.8: Compare_the_output_resistances.sce"
		   ]
		  },
  {
"cell_type": "code",
	   "execution_count": null,
	   "metadata": {
	    "collapsed": true
	   },
	   "outputs": [],
"source": [
"clear;\n",
"clc;\n",
"//Example 10.8\n",
"Iref=100;\n",
"Io=Iref;\n",
"//lambda=y\n",
"y=0.01;\n",
"gm=0.5*10^+3;\n",
"ro=1/(y*Iref);\n",
"printf('\noutput resistance=%.2f MOhm\n',ro)\n",
"ro2=1;\n",
"ro4=1;\n",
"Ro=ro4+ro2*(1+gm*ro4);\n",
"printf('\noutput resistance of cascode circuit=%.2f MOhm\n',Ro)"
   ]
   }
,
{
		   "cell_type": "markdown",
		   "metadata": {},
		   "source": [
			"## Example 10.9: Determiine_the_currents_and_voltages.sce"
		   ]
		  },
  {
"cell_type": "code",
	   "execution_count": null,
	   "metadata": {
	    "collapsed": true
	   },
	   "outputs": [],
"source": [
"clear;\n",
"clc;\n",
"//Example 10.9\n",
"Idss1=2;\n",
"Idss2=1;\n",
"Vp1=-1.5;\n",
"Vp2=Vp1;\n",
"//lambda=y\n",
"y1=0.05;\n",
"y2=y1;\n",
"V2=-5;\n",
"Vds=1.5;\n",
"Vsmin=Vds+V2;\n",
"printf('\nminimum value of Vs=%.2f V\n',Vsmin)\n",
"Io=Idss2*(1+y1*Vds);\n",
"printf('\noutput current=%.2f mA\n',Io)\n",
"Vgs1=(1-sqrt(Io/Idss1))*Vp1;\n",
"printf('\ngate to source voltage of Q1=%.2f V\n',Vgs1)\n",
"V1=Vgs1+Vsmin;\n",
"printf('\nV1=%.2f V\n',V1)"
   ]
   }
],
"metadata": {
		  "kernelspec": {
		   "display_name": "Scilab",
		   "language": "scilab",
		   "name": "scilab"
		  },
		  "language_info": {
		   "file_extension": ".sce",
		   "help_links": [
			{
			 "text": "MetaKernel Magics",
			 "url": "https://github.com/calysto/metakernel/blob/master/metakernel/magics/README.md"
			}
		   ],
		   "mimetype": "text/x-octave",
		   "name": "scilab",
		   "version": "0.7.1"
		  }
		 },
		 "nbformat": 4,
		 "nbformat_minor": 0
}
