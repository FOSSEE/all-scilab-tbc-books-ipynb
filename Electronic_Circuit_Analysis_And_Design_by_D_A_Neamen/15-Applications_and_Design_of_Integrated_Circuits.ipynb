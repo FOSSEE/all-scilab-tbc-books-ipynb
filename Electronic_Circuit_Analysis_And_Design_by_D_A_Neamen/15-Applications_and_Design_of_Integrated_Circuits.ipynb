{
"cells": [
 {
		   "cell_type": "markdown",
	   "metadata": {},
	   "source": [
       "# Chapter 15: Applications and Design of Integrated Circuits"
	   ]
	},
{
		   "cell_type": "markdown",
		   "metadata": {},
		   "source": [
			"## Example 15.10: Design_the_555IC_as_a_monostable_multivibrator.sce"
		   ]
		  },
  {
"cell_type": "code",
	   "execution_count": null,
	   "metadata": {
	    "collapsed": true
	   },
	   "outputs": [],
"source": [
"clear;\n",
"clc;\n",
"//Example 15.10\n",
"C=15*10^-9;\n",
"T=100*10^-6;//(s) time\n",
"R=T/(1.1*C);\n",
"R=R*0.001;//Kohm\n",
"printf('\nResistance R=%.2f KOhm\n',R)"
   ]
   }
,
{
		   "cell_type": "markdown",
		   "metadata": {},
		   "source": [
			"## Example 15.13: Design_the_supply_voltage.sce"
		   ]
		  },
  {
"cell_type": "code",
	   "execution_count": null,
	   "metadata": {
	    "collapsed": true
	   },
	   "outputs": [],
"source": [
"clear;\n",
"clc;\n",
"//Example 15.13\n",
"Rl=10;//load resistance \n",
"Pl=20;//power delivered to the load\n",
"Ps=20;//(W)\n",
"Vp=sqrt(2*Rl*Pl);\n",
"printf('\npeak output voltage=%.2f V\n',Vp)\n",
"Ip=Vp/Rl;\n",
"printf('\npeak load current =%.2fA\n',Ip)\n",
"Vs=%pi*Rl*Ps/Vp;\n",
"printf('\nrequired supply voltage=%.2f V\n',Vs)"
   ]
   }
,
{
		   "cell_type": "markdown",
		   "metadata": {},
		   "source": [
			"## Example 15.14: Determine_the_output_resistance_and_load_regulation.sce"
		   ]
		  },
  {
"cell_type": "code",
	   "execution_count": null,
	   "metadata": {
	    "collapsed": true
	   },
	   "outputs": [],
"source": [
"clear;\n",
"clc;\n",
"//Example 15.14\n",
"Vonl=5;\n",
"Vofl=4.96;\n",
"I1=0.005;\n",
"I2=1.5;\n",
"dVo=Vonl-Vofl;\n",
"dIo=I1-I2;\n",
"Rvf=-dVo/dIo;\n",
"printf('\noutput resistance=%f Ohm\n',Rvf)\n",
"LR=100*(Vonl-Vofl)/Vonl;\n",
"printf('\nload regulation =%.2f\n',LR)"
   ]
   }
,
{
		   "cell_type": "markdown",
		   "metadata": {},
		   "source": [
			"## Example 15.15: Determine_the_output_resistance_and_variation_in_output_voltage.sce"
		   ]
		  },
  {
"cell_type": "code",
	   "execution_count": null,
	   "metadata": {
	    "collapsed": true
	   },
	   "outputs": [],
"source": [
"clear;\n",
"clc;\n",
"//Example 15.15\n",
"Aol=1000;\n",
"Vref=5;\n",
"Vo=10;\n",
"Io=0.1*0.001;\n",
"Vt=0.026;\n",
"Rof=2*Vt*Vo/(Io*Vref*Aol);\n",
"printf('\noutput resistance=%.2f mOhm\n',Rof)\n",
"//dVo/Vo=V  and dIo/Io=I\n",
"//V=-I*2*Vt/(Vref*Aol)\n",
"//V/I=x\n",
"x=-2*Vt/(Vref*Aol);\n",
"printf('\npercent change=%.2e\n',x)"
   ]
   }
,
{
		   "cell_type": "markdown",
		   "metadata": {},
		   "source": [
			"## Example 15.16: EX15_16.sce"
		   ]
		  },
  {
"cell_type": "code",
	   "execution_count": null,
	   "metadata": {
	    "collapsed": true
	   },
	   "outputs": [],
"source": [
"clear;\n",
"clc;\n",
"//Example 15.16\n",
"Vz=6.3;\n",
"Vbe=0.6;\n",
"Veb=0.6;\n",
"Vo=8;\n",
"R1=3.9;\n",
"R2=3.4;\n",
"R3=0.576;\n",
"Ic3=(Vz-3*Vbe)/(R1+R2+R3);\n",
"printf('\nbias current =%.3f mA\n',Ic3)\n",
"Vb7=Ic3*R1+2*Vbe;\n",
"printf('\ntemperature compensated reference voltage=%.2f V\n',Vb7)\n",
"R13=2.23;\n",
"R12=R13*Vo/Vb7-R13;\n",
"printf('\nR12=%.2f KOhm\n',R12)"
   ]
   }
,
{
		   "cell_type": "markdown",
		   "metadata": {},
		   "source": [
			"## Example 15.2: Determine_the_clock_frequency.sce"
		   ]
		  },
  {
"cell_type": "code",
	   "execution_count": null,
	   "metadata": {
	    "collapsed": true
	   },
	   "outputs": [],
"source": [
"clear;\n",
"clc;\n",
"//Example 15.2\n",
"C=20*10^-6;\n",
"Req=1000;\n",
"fC=1/(C*Req);\n",
"printf('\nclock frequency =%.2fKHz\n',fC)"
   ]
   }
,
{
		   "cell_type": "markdown",
		   "metadata": {},
		   "source": [
			"## Example 15.3: Design_a_one_pole_low_pass_switched_capacitor_filter.sce"
		   ]
		  },
  {
"cell_type": "code",
	   "execution_count": null,
	   "metadata": {
	    "collapsed": true
	   },
	   "outputs": [],
"source": [
"clear;\n",
"clc;\n",
"//Example 15.3\n",
"fC=10000;\n",
"f3dB=1000;\n",
"//x=C2/C1\n",
"x=2*%pi*f3dB/fC;\n",
"printf('\ncapacitances C2/C1=%.3f \n',x)"
   ]
   }
,
{
		   "cell_type": "markdown",
		   "metadata": {},
		   "source": [
			"## Example 15.4: Determine_the_oscillation_frequency_and_required_amplifier_gain.sce"
		   ]
		  },
  {
"cell_type": "code",
	   "execution_count": null,
	   "metadata": {
	    "collapsed": true
	   },
	   "outputs": [],
"source": [
"clear;\n",
"clc;\n",
"//Example 15.4\n",
"C=0.1*10^-6;\n",
"R=1000;\n",
"fo=1/(2*%pi*R*C*sqrt(3));\n",
"printf('\nthe oscillation frequency =%.2fHz\n',fo)\n",
"//minimum amplifier gain=8\n",
"R=1;//KOhm\n",
"R2=8*R;\n",
"printf('\nR2=%.f KOhm\n',R2)"
   ]
   }
,
{
		   "cell_type": "markdown",
		   "metadata": {},
		   "source": [
			"## Example 15.6: Determine_the_hysteresis_width_of_a_particular_Schmitt_trigger.sce"
		   ]
		  },
  {
"cell_type": "code",
	   "execution_count": null,
	   "metadata": {
	    "collapsed": true
	   },
	   "outputs": [],
"source": [
"clear;\n",
"clc;\n",
"//Example 15.6\n",
"R1=10000;\n",
"R2=90000;\n",
"Vh=10;\n",
"Vl=-10;\n",
"Vth=R1*Vh/(R1+R2);\n",
"printf('\nupper crossover voltage=%.f V\n',Vth)\n",
"Vtl=R1*Vl/(R1+R2);\n",
"printf('\nlower crossover voltage=%.f V\n',Vtl)\n",
"x=Vth-Vtl;\n",
"printf('\nhysteresis width =%.fV\n',x)"
   ]
   }
,
{
		   "cell_type": "markdown",
		   "metadata": {},
		   "source": [
			"## Example 15.7: Design_a_Schmitt_trigger_circuit.sce"
		   ]
		  },
  {
"cell_type": "code",
	   "execution_count": null,
	   "metadata": {
	    "collapsed": true
	   },
	   "outputs": [],
"source": [
"clear;\n",
"clc;\n",
"//Example 15.7\n",
"Vs=2;\n",
"Vh=15;\n",
"Vl=-15;\n",
"//hysteresis width=x\n",
"x=60*0.001;//(V)\n",
"//Vth-Vtl=(R1/(R1+R2))*(Vh-Vl)\n",
"//R2/R=y\n",
"y=(Vh-Vl)/x-1;\n",
"printf('\nR2/R1=%.2f \n',y)\n",
"Vref=(1+1/y)*Vs;\n",
"printf('\nreference voltage=%.4f V\n',Vref)"
   ]
   }
],
"metadata": {
		  "kernelspec": {
		   "display_name": "Scilab",
		   "language": "scilab",
		   "name": "scilab"
		  },
		  "language_info": {
		   "file_extension": ".sce",
		   "help_links": [
			{
			 "text": "MetaKernel Magics",
			 "url": "https://github.com/calysto/metakernel/blob/master/metakernel/magics/README.md"
			}
		   ],
		   "mimetype": "text/x-octave",
		   "name": "scilab",
		   "version": "0.7.1"
		  }
		 },
		 "nbformat": 4,
		 "nbformat_minor": 0
}
