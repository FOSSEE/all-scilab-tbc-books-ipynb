{
"cells": [
 {
		   "cell_type": "markdown",
	   "metadata": {},
	   "source": [
       "# Chapter 17: Bipolar Digital Circuits"
	   ]
	},
{
		   "cell_type": "markdown",
		   "metadata": {},
		   "source": [
			"## Example 17.11: Determine_the_currents_in_a_Schottky_transistor.sce"
		   ]
		  },
  {
"cell_type": "code",
	   "execution_count": null,
	   "metadata": {
	    "collapsed": true
	   },
	   "outputs": [],
"source": [
"clear;\n",
"clc;\n",
"//Example 17.11\n",
"b=25;\n",
"iB=1;\n",
"iC=2;\n",
"ic=(iB+iC)/(1+1/b);\n",
"printf('\ninternal collector current=%.3f mA\n',ic)\n",
"ib=ic/b;\n",
"printf('\ninternal base current =%.3fmA\n',ib)\n",
"iD=iB-ib;\n",
"printf('\nSchottky diode current=%.3f mA\n',iD)\n",
"iC=20;\n",
"ic=(iB+iC)/(1+1/b);\n",
"printf('\ninternal collector current=%.3f mA\n',ic)\n",
"ib=ic/b;\n",
"printf('\ninternal base current =%.3fmA\n',ib)\n",
"iD=iB-ib;\n",
"printf('\nSchottky diode current=%.3f mA\n',iD)"
   ]
   }
,
{
		   "cell_type": "markdown",
		   "metadata": {},
		   "source": [
			"## Example 17.12: Calculate_the_power_dissipation_in_a_low_power_Schottky_TTL_circuit.sce"
		   ]
		  },
  {
"cell_type": "code",
	   "execution_count": null,
	   "metadata": {
	    "collapsed": true
	   },
	   "outputs": [],
"source": [
"clear;\n",
"clc;\n",
"//Example 17.12\n",
"Vy=0.3;\n",
"Vbe=0.7;\n",
"vx=0.4;\n",
"R2=8;\n",
"Vce=0.4;\n",
"Vcc=5;\n",
"b=25;\n",
"Vce=0.4;\n",
"Vbe1=0.7;\n",
"Vbe2=0.7;\n",
"Vcc=5;\n",
"R1=20;\n",
"v1=Vce+Vy;\n",
"i1=(Vcc-v1)/R1;\n",
"printf('\ni1=%.3f mA\n',i1)\n",
"Pl=i1*(Vcc-vx);\n",
"printf('\npower dissipation=%.3f mW\n',Pl)\n",
"v1=Vbe1+Vbe2;\n",
"printf('\nv1=%.3f V\n',v1)\n",
"vC2=Vbe1+Vce;\n",
"printf('\nvoltage vC2 =%.2fV\n',vC2)\n",
"i1=(Vcc-v1)/R1;\n",
"printf('\ncurrent i1 =%.3fmA\n',i1)\n",
"i2=(Vcc-vC2)/R2;\n",
"printf('\ncurrent i2 =%.3fmA\n',i2)\n",
"P=(i1+i2)*Vcc;\n",
"printf('\npower dissipation for high input condition=%.3f mW\n',P)"
   ]
   }
,
{
		   "cell_type": "markdown",
		   "metadata": {},
		   "source": [
			"## Example 17.1: EX17_1.sce"
		   ]
		  },
  {
"cell_type": "code",
	   "execution_count": null,
	   "metadata": {
	    "collapsed": true
	   },
	   "outputs": [],
"source": [
"clear;\n",
"clc;\n",
"//Example 17.1\n",
"V1=5;\n",
"V2=-5;\n",
"Rc1=1;\n",
"Rc2=Rc1;\n",
"Rc=Rc1;\n",
"Re=2.150;\n",
"v2=0;\n",
"//for v1=0\n",
"vE=-0.7;\n",
"iE=(vE-V2)/Re;\n",
"printf('\nemitter current=%.3f mA\n',iE)\n",
"iC=1;\n",
"Vcc=5;\n",
"vo1=Vcc-iC*Rc;\n",
"printf('\nvo1=vo2=%.f V\n',vo1)\n",
"//for v2=-1\n",
"vE=-0.7;\n",
"iE=2;\n",
"iC2=2;\n",
"vo1=5;\n",
"vo2=Vcc-iC2*Rc;\n",
"printf('\nvo2=%.2f V\n',vo2)\n",
"v1=1;\n",
"Vbe=0.7;\n",
"vE=v1-Vbe;\n",
"iE=(vE-V2)/Re;\n",
"printf('\nemitter current =%.3fmA\n',iE)\n",
"iC1=iE;\n",
"vo1=Vcc-iC1*Rc;\n",
"printf('\nvo1=%.2f V\n',vo1)\n",
"vo2=Vcc"
   ]
   }
,
{
		   "cell_type": "markdown",
		   "metadata": {},
		   "source": [
			"## Example 17.2: Calculate_the_currents_resistors_and_logic_0_values_in_the_basic_ECL_logic_gate.sce"
		   ]
		  },
  {
"cell_type": "code",
	   "execution_count": null,
	   "metadata": {
	    "collapsed": true
	   },
	   "outputs": [],
"source": [
"clear;\n",
"clc;\n",
"//Example 17.2\n",
"Vx=-0.7;\n",
"Vy=Vx;\n",
"Vbe=0.7;\n",
"V2=-5.2;\n",
"Re=1.180;\n",
"vE=Vx-Vbe;\n",
"printf('\nemitter voltage =%.2fV\n',vE)\n",
"iE=(vE-V2)/Re;\n",
"printf('\nemitter current=%.2f mA\n',iE)\n",
"Icxy=iE;\n",
"vo1=-0.7;\n",
"Rc1=-vo1/Icxy;\n",
"printf('\nRc1=%.2f KOhm\n',Rc1)\n",
"Vnor=vo1-Vbe;\n",
"printf('\nNOR output logic 0 value=%.2f V\n',Vnor)\n",
"Vr=(vo1+Vnor)/2;\n",
"vE=Vr-Vbe;\n",
"printf('\nvE=%.2f V\n',vE)\n",
"iE=(vE-V2)/Re;\n",
"printf('\niE=%.2f mA\n',iE)\n",
"vo2=-0.7;\n",
"iC2=iE;\n",
"Rc2=-vo2/iC2;\n",
"printf('\nRc2=%.2f KOhm\n',Rc2)\n",
"Vor=vo2-Vbe;\n",
"printf('\nOR logic 0 value is=%.2f V\n',Vor)"
   ]
   }
,
{
		   "cell_type": "markdown",
		   "metadata": {},
		   "source": [
			"## Example 17.3: Design_the_reference_position_of_the_ECL_circuit.sce"
		   ]
		  },
  {
"cell_type": "code",
	   "execution_count": null,
	   "metadata": {
	    "collapsed": true
	   },
	   "outputs": [],
"source": [
"clear;\n",
"clc;\n",
"//Example 17.3\n",
"Vr=-1.05;\n",
"Vbe=0.7;\n",
"Vb5=Vr+Vbe;\n",
"printf('\nVb5 =%.2fV\n',Vb5)\n",
"R1=0.250;\n",
"i1=-Vb5/R1;\n",
"printf('\ni1=%.3f mA\n',i1)\n",
"Vy=0.7;\n",
"V2=-5.2;\n",
"//let R1+R2=x\n",
"x=(-2*Vy-V2)/i1;\n",
"R2=x-R1;\n",
"printf('\nR2=%.3f KOhm\n',R2)\n",
"iS=i1;\n",
"Rs=(Vr-V2)/iS;\n",
"printf('\nRs=%.3f KOhm\n',Rs)"
   ]
   }
,
{
		   "cell_type": "markdown",
		   "metadata": {},
		   "source": [
			"## Example 17.4: Calculate_the_power_dissipated_in_the_ECL_logic_circuit.sce"
		   ]
		  },
  {
"cell_type": "code",
	   "execution_count": null,
	   "metadata": {
	    "collapsed": true
	   },
	   "outputs": [],
"source": [
"clear;\n",
"clc;\n",
"//Example 17.4\n",
"Vx=-0.7;\n",
"Vy=-0.7;\n",
"iCxy=3.22;//(mA)\n",
"iCR=0;\n",
"i5=1.40;\n",
"i1=1.40;\n",
"Vor=-0.7;\n",
"R4=1.500;\n",
"Vnor=-1.4;\n",
"V2=-5.2;\n",
"R3=1.500;\n",
"i3=(Vor-V2)/R3;\n",
"printf('\ncurrent i3=%.2f mA\n',i3)\n",
"i4=(Vnor-V2)/R4;\n",
"printf('\ncurrent i4 =%.2fmA\',i4)\n",
"P=(iCxy+iCR+i5+i1+i3+i4)*(0-V2);\n",
"printf('\npower dissipation=%.2f mW\n',P)"
   ]
   }
,
{
		   "cell_type": "markdown",
		   "metadata": {},
		   "source": [
			"## Example 17.5: Calculate_minimum_fanout_of_ECL_logic_gate.sce"
		   ]
		  },
  {
"cell_type": "code",
	   "execution_count": null,
	   "metadata": {
	    "collapsed": true
	   },
	   "outputs": [],
"source": [
"clear;\n",
"clc;\n",
"//Example 17.5\n",
"b=50;\n",
"V2=-5.2;\n",
"Vbe=0.7;\n",
"Rc2=0.240;\n",
"Vor=-0.75;\n",
"Re=1.180;\n",
"iE=(Vor-Vbe-V2)/Re;\n",
"printf('\nemitter current=%.2f mA\n',iE)\n",
"iB=iE/(1+b);\n",
"iB=iB*1000;//micro A\n",
"printf('\ninput base current=%.2f microA\n',iB)\n",
"R3=1.500;\n",
"i3=(Vor-V2)/R3;\n",
"printf('\ni3=%.2f mA\n',i3)\n",
"iB=iB*0.001;//mA\n",
"N=(-(Vor+Vbe)*(1+b)/(Rc2)-i3)/iB;\n",
"printf('\nN=%.f\n',N)"
   ]
   }
,
{
		   "cell_type": "markdown",
		   "metadata": {},
		   "source": [
			"## Example 17.7: Analyze_the_modified_ECL_logic_gate.sce"
		   ]
		  },
  {
"cell_type": "code",
	   "execution_count": null,
	   "metadata": {
	    "collapsed": true
	   },
	   "outputs": [],
"source": [
"clear;\n",
"clc;\n",
"//Example 17.7\n",
"Vcc=1.7;\n",
"Re=0.008;//mohm\n",
"Rc=0.008;//mohm\n",
"Vy=0.4;\n",
"Vbe=0.7;\n",
"Vor=Vcc//logic 1\n",
"Vor=Vcc-Vy//logic 0\n",
"Vr=1.5;\n",
"iE=(Vr-Vbe)/Re;\n",
"printf('\nemitter current=%.2f microA\n',iE)\n",
"iR=Vy/Rc;\n",
"printf('\nmaximum current in Rc =%.2fmicroA\n',iR)\n",
"iD=iE-iR;\n",
"printf('\ncurrent through the diode=%.2f microA\n',iD)\n",
"P=iE*Vcc;\n",
"printf('\npower dissipation=%.2f microW\n',P)\n",
"Vv=1.7;\n",
"iE=(Vv-Vbe)/Re;\n",
"printf('\niE =%.2fmicroA\n',iE)\n",
"P=iE*Vcc;\n",
"printf('\npower dissipation =%.2fmicroW\n',P)"
   ]
   }
,
{
		   "cell_type": "markdown",
		   "metadata": {},
		   "source": [
			"## Example 17.9: Calculate_the_currents_and_voltages_for_the_basic_TTL_NAND_circuit.sce"
		   ]
		  },
  {
"cell_type": "code",
	   "execution_count": null,
	   "metadata": {
	    "collapsed": true
	   },
	   "outputs": [],
"source": [
"clear;\n",
"clc;\n",
"//Example 17.9\n",
"bf=25;\n",
"b=bf;\n",
"br=0.1;\n",
"Vcc=5;\n",
"R1=4;\n",
"Vbc=0.7;\n",
"Vy=0.1;\n",
"Vx=0.1;\n",
"R2=1.6;\n",
"Vbe=0.8;\n",
"Rc=4;\n",
"Vce=0.1;\n",
"vB2=Vx+Vce;\n",
"printf('\nvB2=%.2f V\n',vB2)\n",
"vB1=Vx+Vbe;\n",
"printf('\nbase voltage=%.2f V\n',vB1)\n",
"i1=(Vcc-vB1)/R1;\n",
"printf('\ncurrent i1=%.2f mA\n',i1)\n",
"vB1=Vbe+Vbe+Vbc;\n",
"printf('\nvB1=%.2f V\n',vB1)\n",
"vC2=Vbe+Vce;\n",
"printf('\ncollector voltage=%.2f V\n',vC2)\n",
"i1=(Vcc-vB1)/R1;\n",
"printf('\ncurrent i1 =%.2fmA\n',i1)\n",
"iB2=(1+2*br)*i1;\n",
"printf('\niB2=%.2f mA\n',iB2)\n",
"i2=(Vcc-vC2)/R2;\n",
"printf('\ni2 =%.2fmA\n',i2)\n",
"iE2=i2+iB2;\n",
"printf('\niE2=%.2f mA\n',iE2)\n",
"Rb=1;\n",
"i4=Vbe/Rb;\n",
"printf('\ncurrent in the pull down resistor=%.2f mA\n',i4)\n",
"iBo=iE2-i4;\n",
"printf('\nbase drive to the output transistor=%.2f mA\n',iBo)\n",
"i1=(Vcc-Vce)/Rc;\n",
"printf('\ni1=%.2f mA\n',i1)"
   ]
   }
],
"metadata": {
		  "kernelspec": {
		   "display_name": "Scilab",
		   "language": "scilab",
		   "name": "scilab"
		  },
		  "language_info": {
		   "file_extension": ".sce",
		   "help_links": [
			{
			 "text": "MetaKernel Magics",
			 "url": "https://github.com/calysto/metakernel/blob/master/metakernel/magics/README.md"
			}
		   ],
		   "mimetype": "text/x-octave",
		   "name": "scilab",
		   "version": "0.7.1"
		  }
		 },
		 "nbformat": 4,
		 "nbformat_minor": 0
}
