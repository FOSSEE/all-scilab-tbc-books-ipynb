{
"cells": [
 {
		   "cell_type": "markdown",
	   "metadata": {},
	   "source": [
       "# Chapter 8: Ouput Stages and Power Amplifier"
	   ]
	},
{
		   "cell_type": "markdown",
		   "metadata": {},
		   "source": [
			"## Example 8.11: Determine_the_currents_and_the_current_gain.sce"
		   ]
		  },
  {
"cell_type": "code",
	   "execution_count": null,
	   "metadata": {
	    "collapsed": true
	   },
	   "outputs": [],
"source": [
"clear;\n",
"clc;\n",
"//Example 8.11\n",
"R1=2;//KOhm\n",
"R2=R1;\n",
"Rl=.1;//KOhm\n",
"b=60;\n",
"Vbe=0.6;\n",
"Veb=0.6;\n",
"V1=15;\n",
"V2=V1;\n",
"iR1=(V1-Vbe)/R1;\n",
"//iR1=iR2=iE1=iE2\n",
"printf('\niR1=%.2f mA\n',iR1)\n",
"vo=10;\n",
"io=vo/Rl;\n",
"printf('\noutput current=%.3f mA\n',io)\n",
"iB3=100/61;\n",
"printf('\niB3=%.3fmA\n',iB3)\n",
"iR1=(V1-(10+Vbe))/R1;\n",
"printf('\ncurrent in R1=%.3f mA\n',iR1)\n",
"iE1=iR1-iB3;\n",
"printf('\niE1=%.3f mA\n',iE1)\n",
"iB1=iE1/(1+b);\n",
"iB1=iB1*1000;//micro A\n",
"printf('\niB1=%.3f microA\n',iB1)\n",
"iE2=(10-0.6+15)/R1;\n",
"printf('\niE2=%.3f mA\n',iE2)\n",
"iB2=iE2/(1+b);\n",
"iB2=iB2*1000;\n",
"printf('\niB2=%.3f microA\n',iB2)\n",
"Ii=iB2-iB1;\n",
"printf('\ninput current=%.3f microA\n',Ii)\n",
"Ii=Ii*0.001;//mA\n",
"Ai=io/Ii;\n",
"printf('\ncurrent gain=%.2f\n',Ai)\n",
"Ai=(1+b)*R1/(2*Rl);\n",
"printf('\npredicted current gain=%.2f\n',Ai)"
   ]
   }
,
{
		   "cell_type": "markdown",
		   "metadata": {},
		   "source": [
			"## Example 8.2: Determine_the_maximum_power_dissipation.sce"
		   ]
		  },
  {
"cell_type": "code",
	   "execution_count": null,
	   "metadata": {
	    "collapsed": true
	   },
	   "outputs": [],
"source": [
"clear;\n",
"clc;\n",
"//Example 8.1\n",
"//let thermal resistance parameters be R\n",
"Rdcase=1.75;//degree celsius per watt\n",
"Rcsnk=1;//degree celsius per watt\n",
"Rsamb=5;//degree celsius per watt\n",
"Rcamb=50;//degree celsius per watt\n",
"Tamb=30;//ambient temperature \n",
"Tjmax=150;//maximum junction temperature\n",
"Tdev=150;//device temperature\n",
"//when no heat sink is used\n",
"P=(Tjmax-Tamb)/(Rdcase+Rcamb);\n",
"printf('\nmaximum power dissipation=%.2f W\n',P)\n",
"//when heat sink is used\n",
"P=(Tjmax-Tamb)/(Rdcase+Rcsnk+Rsamb);\n",
"printf('\nmaximum power dissipation=%.2f W\n',P)"
   ]
   }
,
{
		   "cell_type": "markdown",
		   "metadata": {},
		   "source": [
			"## Example 8.3: Determine_the_maximum_safe_power_dissipation.sce"
		   ]
		  },
  {
"cell_type": "code",
	   "execution_count": null,
	   "metadata": {
	    "collapsed": true
	   },
	   "outputs": [],
"source": [
"clear;\n",
"clc;\n",
"//Example 8.3\n",
"Rcsnk=1;//degree celsius per watt\n",
"Rsamb=5;//degree celsius per watt\n",
"Tjmax=175;//maximum junction temperature\n",
"Toc=25;\n",
"Tamb=25;\n",
"Pr=20;//rated power W\n",
"Rdcase=(Tjmax-Toc)/Pr;\n",
"printf('\ndevice to case thermal resistance=%.2f °C/W\n',Rdcase)\n",
"P=(Tjmax-Tamb)/(Rdcase+Rcsnk+Rsamb);\n",
"printf('\nmaximum power dissipation=%.2f W\n',P)"
   ]
   }
,
{
		   "cell_type": "markdown",
		   "metadata": {},
		   "source": [
			"## Example 8.7: Determine_the_required_biasing_in_MOSFET_class_AB.sce"
		   ]
		  },
  {
"cell_type": "code",
	   "execution_count": null,
	   "metadata": {
	    "collapsed": true
	   },
	   "outputs": [],
"source": [
"clear;\n",
"clc;\n",
"//Example 8.7\n",
"Vdd=10;\n",
"Rl=20;\n",
"K=0.2;\n",
"Vt=1;\n",
"vo=5;\n",
"iL=vo/20;\n",
"printf('\niL=%.2f A\n',iL)\n",
"Idq=0.05;\n",
"//Idq=K*(Vbb/2-Vt)\n",
"Vbb=(sqrt(Idq/K)+1)*2;\n",
"printf('\nVbb=%.2f V\n',Vbb)\n",
"iD=iL;\n",
"Vgsn=sqrt(iD/K)+Vt;\n",
"printf('\nVgsn=%.2f V\n',Vgsn)\n",
"Vsgp=Vbb-Vgsn;\n",
"printf('\nVsgp=%.2f V\n',Vsgp)\n",
"vi=vo+Vgsn-Vbb/2;\n",
"printf('\ninput voltage=%.2f V\n',vi)"
   ]
   }
,
{
		   "cell_type": "markdown",
		   "metadata": {},
		   "source": [
			"## Example 8.8: Design_a_transformer_coupled_emitter_follower_amplifier.sce"
		   ]
		  },
  {
"cell_type": "code",
	   "execution_count": null,
	   "metadata": {
	    "collapsed": true
	   },
	   "outputs": [],
"source": [
"clear;\n",
"clc;\n",
"//Example 8.8\n",
"Vcc=24;\n",
"Rl=8;\n",
"P=5;\n",
"Vbe=0.7;\n",
"b=100;\n",
"Vp=sqrt(2*Rl*P);\n",
"printf('\npeak output voltage=%.2f V\n',Vp)\n",
"Ip=Vp/Rl;\n",
"printf('\npeak output current =%.2fA\n',Ip)\n",
"a=0.9*Vcc/Vp;\n",
"printf('\na=%.2f\n',a)\n",
"Icq=Ip/(0.9*a);\n",
"printf('\nIcq=%.3f A\n',Icq)\n",
"Pq=Vcc*Icq;\n",
"printf('\nmaximum power dissipated in the transistor=%.2f W\n',Pq)\n",
"Ibq=Icq/b;\n",
"Ibq=Ibq*1000;//mA\n",
"printf('\nbase current Ibq=%.2f mA\n',Ibq)\n",
"Rth=2.500;\n",
"//Vth=Vcc*Rth/R1 and Vth=Ibq*Rth+Vbe\n",
"R1=Vcc*Rth/(Ibq*Rth+Vbe);\n",
"printf('\nR1=%.2f KOhm\n',R1)\n",
"R2=Rth*R1/(R1-Rth);\n",
"printf('\nR2=%.2f KOhm\n',R2)"
   ]
   }
,
{
		   "cell_type": "markdown",
		   "metadata": {},
		   "source": [
			"## Example 8.9: Design_the_class_AB_output_stage.sce"
		   ]
		  },
  {
"cell_type": "code",
	   "execution_count": null,
	   "metadata": {
	    "collapsed": true
	   },
	   "outputs": [],
"source": [
"clear;\n",
"clc;\n",
"//Example 8.9\n",
"Iso=3*10^-14;\n",
"Isq=10^-13;\n",
"b=75;\n",
"Vt=0.026;\n",
"Rl=8;\n",
"P=5;\n",
"Vp=sqrt(2*Rl*P);\n",
"printf('\npeak voltage Vp=%.2f V\n',Vp)\n",
"Vcc=Vp/0.8;\n",
"printf('\nsupply voltage=%.2f V\n',Vcc)\n",
"Ien=Vp/Rl;\n",
"printf('\nemitter current=%.3f A\n',Ien)\n",
"Ibn=Ien/(1+b);\n",
"Ibn=Ibn*1000;//mA\n",
"printf('\nbase current=%.2f mA\n',Ibn)\n",
"iD=0.020;\n",
"Vbb=2*Vt*log(iD/Iso);\n",
"printf('\nVbb=%.2f V\n',Vbb)\n",
"Icq=Isq*exp((Vbb/2)/Vt);\n",
"Icq=Icq*1000;//mA\n",
"printf('\nquiescent collector current=%.3f mA\n',Icq)\n",
"Ibias=20;//mA\n",
"iD=Ibias-Ibn;\n",
"printf('\ndrain current=%.3f mA\n',iD)\n",
"iD=iD*0.001;//A\n",
"Vbb=2*Vt*log(iD/Iso);\n",
"printf('\nVbb=%.2f V\n',Vbb)\n",
"Icn=1.12;\n",
"Vben=Vt*log(Icn/Isq);\n",
"printf('\nB-E voltage of Qn=%.2f V\n',Vben)\n",
"Vebp=Vbb-Vben;\n",
"printf('\nemitter base voltage of Qp=%.2f V\n',Vebp)\n",
"Icp=Isq*exp(Vebp/Vt);\n",
"Icp=Icp*1000;//mA\n",
"printf('\nIcp=%f mA\n',Icp)"
   ]
   }
],
"metadata": {
		  "kernelspec": {
		   "display_name": "Scilab",
		   "language": "scilab",
		   "name": "scilab"
		  },
		  "language_info": {
		   "file_extension": ".sce",
		   "help_links": [
			{
			 "text": "MetaKernel Magics",
			 "url": "https://github.com/calysto/metakernel/blob/master/metakernel/magics/README.md"
			}
		   ],
		   "mimetype": "text/x-octave",
		   "name": "scilab",
		   "version": "0.7.1"
		  }
		 },
		 "nbformat": 4,
		 "nbformat_minor": 0
}
