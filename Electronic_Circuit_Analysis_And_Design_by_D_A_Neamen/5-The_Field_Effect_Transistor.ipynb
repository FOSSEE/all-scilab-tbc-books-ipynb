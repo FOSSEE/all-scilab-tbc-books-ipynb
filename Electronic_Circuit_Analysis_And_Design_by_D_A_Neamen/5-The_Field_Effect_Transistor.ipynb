{
"cells": [
 {
		   "cell_type": "markdown",
	   "metadata": {},
	   "source": [
       "# Chapter 5: The Field Effect Transistor"
	   ]
	},
{
		   "cell_type": "markdown",
		   "metadata": {},
		   "source": [
			"## Example 5.10: Calculate_the_characteristics_of_a_circuit_containing_a_depletion_load_device.sce"
		   ]
		  },
  {
"cell_type": "code",
	   "execution_count": null,
	   "metadata": {
	    "collapsed": true
	   },
	   "outputs": [],
"source": [
"clear;\n",
"clc;\n",
"//Example 5.10\n",
"Vtn=-2;\n",
"Kn=0.1;\n",
"Vdd=5;\n",
"Rs=5;\n",
"Vgs=0;\n",
"I_D=Kn*(Vgs-Vtn)^2;\n",
"printf('\ndrain current=%.3f mA\n',I_D)\n",
"Vds=Vdd-I_D*Rs;\n",
"printf('\ndc drain to source voltage=%.2f V\n',Vds)\n",
"Vdssat=Vgs-Vtn\n",
"//since Vds>Vdssat transisyor is biased in saturation region"
   ]
   }
,
{
		   "cell_type": "markdown",
		   "metadata": {},
		   "source": [
			"## Example 5.11: EX5_11.sce"
		   ]
		  },
  {
"cell_type": "code",
	   "execution_count": null,
	   "metadata": {
	    "collapsed": true
	   },
	   "outputs": [],
"source": [
"clear;\n",
"clc;\n",
"//Example 5.11\n",
"Vtnd=1;\n",
"Vtnl=-2;\n",
"Knd=50;\n",
"Knl=10;\n",
"Vt=5;\n",
"Vo=poly(0,'Vo')\n",
"p=poly([4 -40 5],'Vo','c')\n",
"printf('\npossible solutions ::%.2f V\n',roots(p))\n",
"//since output voltage cannot be greater than supply voltage 5V\n",
"Vo=0.1;//(V)\n",
"I_D=Knl*(-Vtnl)^2;\n",
"printf('\ndrain current=%.3f microA\n',I_D)"
   ]
   }
,
{
		   "cell_type": "markdown",
		   "metadata": {},
		   "source": [
			"## Example 5.13: Determine_the_currents_and_voltages_in_a_MOSFET_constant_current_source.sce"
		   ]
		  },
  {
"cell_type": "code",
	   "execution_count": null,
	   "metadata": {
	    "collapsed": true
	   },
	   "outputs": [],
"source": [
"clear;\n",
"clc;\n",
"//Example 5.13\n",
"Kn1=0.2;\n",
"Kn2=0.1;\n",
"Kn3=0.1;\n",
"Kn4=0.1;\n",
"Vtn1=1;\n",
"Vtn2=1;\n",
"Vtn3=1;\n",
"Vtn4=1;\n",
"V2=-5;\n",
"Vgs3=(sqrt(Kn4/Kn3)*(-V2-Vtn4)+Vtn3)/(1+sqrt(Kn4/Kn3));\n",
"printf('\nVgs3=%.2f V\n',Vgs3)\n",
"Iq=Kn3*(Vgs3-Vtn3)^2;\n",
"printf('\nbias current=%.3f mA\n',Iq)\n",
"Vgs1=sqrt(Iq/Kn1)+Vtn1;\n",
"printf('\ngate to source voltage on M1=%.2f V\n',Vgs1)\n",
"Vds2=-V2-Vgs1;\n",
"printf('\ndrain to source voltage on M2=%.2f V\n',Vds2)\n",
"Vgs2=Vgs3;\n",
"Vdssat=Vgs2-Vtn2\n",
"//since Vds2>Vdssat M2 is biased in saturation region"
   ]
   }
,
{
		   "cell_type": "markdown",
		   "metadata": {},
		   "source": [
			"## Example 5.14: EX5_14.sce"
		   ]
		  },
  {
"cell_type": "code",
	   "execution_count": null,
	   "metadata": {
	    "collapsed": true
	   },
	   "outputs": [],
"source": [
"clear;\n",
"clc;\n",
"//Example 5.14\n",
"I_D=0.5;\n",
"Vds=6;\n",
"Kn=80*10^-6;\n",
"Vgs=5;\n",
"Vtn=1;\n",
"//x=W/L\n",
"x=I_D*2/(Kn*(Vgs-Vtn)^2);\n",
"disp(x,'W/L ')\n",
"//maximum power dissipation in transistor \n",
"Pmax=Vds*I_D;\n",
"printf('\nmaximum power dissipation in transistor=%.3f W\n',Pmax)"
   ]
   }
,
{
		   "cell_type": "markdown",
		   "metadata": {},
		   "source": [
			"## Example 5.16: Calculate_Id_and_Vds_in_an_n_channel_pn_JFET.sce"
		   ]
		  },
  {
"cell_type": "code",
	   "execution_count": null,
	   "metadata": {
	    "collapsed": true
	   },
	   "outputs": [],
"source": [
"clear;\n",
"clc;\n",
"//Example 5.16\n",
"Idss=2;//(mA) saturation current\n",
"Vp=-3.5;//(V) pinch off voltage\n",
"Vgs=[0 Vp/4 Vp/2]\n",
"I_D=Idss*(1-Vgs/Vp)^2;\n",
"disp(I_D,'I_D (A)')\n",
"Vds=Vgs-Vp;\n",
"disp(Vds,'Vdssat (V)')"
   ]
   }
,
{
		   "cell_type": "markdown",
		   "metadata": {},
		   "source": [
			"## Example 5.17: Design_the_dc_bias_of_a_JFET_circuit.sce"
		   ]
		  },
  {
"cell_type": "code",
	   "execution_count": null,
	   "metadata": {
	    "collapsed": true
	   },
	   "outputs": [],
"source": [
"clear;\n",
"clc;\n",
"//Example 5.17\n",
"Idss=5;//mA\n",
"Vp=-4;\n",
"Vdd=10;\n",
"I_D=2;\n",
"Vds=6;\n",
"//I_D=Idss*(1-Vgs/Vp)^2\n",
"Vgs=(1-sqrt(I_D/Idss))*Vp;\n",
"printf('\nVgs=%.2f V\n',Vgs)\n",
"Rs=-Vgs/I_D;\n",
"printf('\nRs=%.3f KOhm\n',Rs)\n",
"Rd=(Vdd-Vds-I_D*Rs)/I_D;\n",
"printf('\nRd=%.2f KOhm\n',Rd)\n",
"Vgs-Vp\n",
"//since Vds>Vgs-Vp JFET is biased in saturation"
   ]
   }
,
{
		   "cell_type": "markdown",
		   "metadata": {},
		   "source": [
			"## Example 5.19: Calculate_the_quiscent_current_and_voltage_values.sce"
		   ]
		  },
  {
"cell_type": "code",
	   "execution_count": null,
	   "metadata": {
	    "collapsed": true
	   },
	   "outputs": [],
"source": [
"clear;\n",
"clc;\n",
"//Example 5.19\n",
"Idss=2.5;\n",
"Vp=2.5;\n",
"I_D=0.8;\n",
"//I_D=Iq=0.8*10^-3=(Vd-(-9))/Rd\n",
"Vd=0.8*4-9;\n",
"printf('\nVd =%.2fV\n',Vd)\n",
"//I_D=Idss*(1-Vgs/Vp)^2;\n",
"Vgs=(1-sqrt(I_D/Idss))*Vp;\n",
"printf('\nVgs =%.2fV\n',Vgs)\n",
"Vs=1-Vgs;\n",
"printf('\nVs=%.2f V\n',Vs)\n",
"Vsd=Vs-Vd;\n",
"printf('\nVsd=%.2f V\n',Vsd)\n",
"Vp-Vgs\n",
"//since Vsd>Vp-Vgs JFET is biased in saturation"
   ]
   }
,
{
		   "cell_type": "markdown",
		   "metadata": {},
		   "source": [
			"## Example 5.1: Calculate_the_current_in_an_n_channel_MOSFET.sce"
		   ]
		  },
  {
"cell_type": "code",
	   "execution_count": null,
	   "metadata": {
	    "collapsed": true
	   },
	   "outputs": [],
"source": [
"clear;\n",
"clc;\n",
"//Example 5.1\n",
"Vtn=0.75;//(V)\n",
"W=40*10^-6;//(cm)\n",
"L=4*10^-6;//(cm)\n",
"u=650;//(cm)\n",
"Iox=450*10^-11;\n",
"e=3.9*8.86*10^-14;\n",
"Kn=W*u*e/(2*L*Iox);\n",
"printf('\nconduction parameter=%f mA/V^2\n',Kn)\n",
"Vgs=2*Vtn;\n",
"i_D=Kn*(Vgs-Vtn)^2;\n",
"printf('\ndrain current=%f mA\n',i_D)"
   ]
   }
,
{
		   "cell_type": "markdown",
		   "metadata": {},
		   "source": [
			"## Example 5.20: Design_a_circuit_with_an_enhancement_mode_MESFET.sce"
		   ]
		  },
  {
"cell_type": "code",
	   "execution_count": null,
	   "metadata": {
	    "collapsed": true
	   },
	   "outputs": [],
"source": [
"clear;\n",
"clc;\n",
"//Example 5.20\n",
"Vtn=0.24;\n",
"Kn=1.1;\n",
"//x=R1+R2=50000\n",
"x=50;\n",
"Vgs=0.5;\n",
"Vds=2.5;\n",
"Vdd=4;\n",
"Rd=6.7;\n",
"I_D=Kn*(Vgs-Vtn)^2;\n",
"printf('\ndrain current=%.3f mA\n',I_D)\n",
"Vd=Vdd-I_D*Rd;\n",
"printf('\nvoltage at drain=%0.2f V\n',Vd)\n",
"Vs=Vd-Vds;\n",
"printf('\nvoltage at source =%0.2fV\n',Vs)\n",
"Rs=Vs/I_D;\n",
"printf('\nsource resistance =%.2fKOhm\n',Rs)\n",
"Vg=Vgs+Vs;\n",
"printf('\nvoltage at the gate=%.2f V\n',Vg)\n",
"//Vg=R2*Vdd/(R2+R1)\n",
"R2=Vg*x/Vdd;\n",
"printf('\nR2=%0.3f KOhm\n',R2)\n",
"R1=x-R2;\n",
"printf('\nR1=%0.3f KOhm\n',R1)\n",
"Vgs-Vtn\n",
"//since Vds>Vgs-Vtn transistor is biased in saturation"
   ]
   }
,
{
		   "cell_type": "markdown",
		   "metadata": {},
		   "source": [
			"## Example 5.2: Determine_the_source_to_drain_voltage_required_to_bias_p_channel_MOSFET.sce"
		   ]
		  },
  {
"cell_type": "code",
	   "execution_count": null,
	   "metadata": {
	    "collapsed": true
	   },
	   "outputs": [],
"source": [
"clear;\n",
"clc;\n",
"//Example 5.2\n",
"Kp=0.2;//(mA/V^2)\n",
"Vtp=0.5;\n",
"iD=0.5;\n",
"Vsg=sqrt(iD/Kp)-Vtp;\n",
"printf('\nVgs=%.2f V\n',Vsg)\n",
"//to bias in p channel MOSFET \n",
"Vsd=Vsg+Vtp;\n",
"printf('\nVsd=%.2f V\n',Vsd)"
   ]
   }
,
{
		   "cell_type": "markdown",
		   "metadata": {},
		   "source": [
			"## Example 5.3: Calculate_the_drain_current_and_drain_to_source_voltage_of_circuit.sce"
		   ]
		  },
  {
"cell_type": "code",
	   "execution_count": null,
	   "metadata": {
	    "collapsed": true
	   },
	   "outputs": [],
"source": [
"clear;\n",
"clc;\n",
"//Example 5.3\n",
"R1=30;\n",
"R2=20;\n",
"RD=20;\n",
"Vdd=5;\n",
"Vtn=1;\n",
"Kn=0.1;\n",
"Vgs=R2*Vdd/(R1+R2);\n",
"printf('\nVgs=%0.2f V\n',Vgs)\n",
"I_D=Kn*(Vgs-Vtn)^2;\n",
"printf('\nthe drain current=%0.1f mA\n',I_D)\n",
"Vds=Vdd-I_D*RD;\n",
"printf('\ndrain to source voltage=%0.1f V\n',Vds)"
   ]
   }
,
{
		   "cell_type": "markdown",
		   "metadata": {},
		   "source": [
			"## Example 5.4: Calculate_the_drain_current_and_drain_to_source_voltage_of_circuit.sce"
		   ]
		  },
  {
"cell_type": "code",
	   "execution_count": null,
	   "metadata": {
	    "collapsed": true
	   },
	   "outputs": [],
"source": [
"clear;\n",
"clc;\n",
"//Example 5.4\n",
"R1=50;\n",
"R2=50;\n",
"RD=7.5;\n",
"Vdd=5;\n",
"Vtp=-0.8;\n",
"Vg=2.5;\n",
"Kp=0.2;\n",
"Vo=R2*Vdd/(R1+R2);\n",
"printf('\nVo=%.2f V\n',Vo)\n",
"Vsg=Vdd-Vg;\n",
"printf('\nsource to gate voltage=%.2f V\n',Vsg)\n",
"I_D=Kp*(Vsg+Vtp)^2;\n",
"printf('\nthe drain current=%.3f mA\n',I_D)\n",
"Vsd=Vdd-I_D*RD;\n",
"printf('\nsource to drain voltage=%.3f V\n',Vsd)"
   ]
   }
,
{
		   "cell_type": "markdown",
		   "metadata": {},
		   "source": [
			"## Example 5.6: Design_the_dc_bias_of_a_MOSFET_circuit_to_produce_specified_drain_current.sce"
		   ]
		  },
  {
"cell_type": "code",
	   "execution_count": null,
	   "metadata": {
	    "collapsed": true
	   },
	   "outputs": [],
"source": [
"clear;\n",
"clc;\n",
"//Example 5.6\n",
"Vtn=2;\n",
"Kn=80*10^-3;\n",
"//x=W/L\n",
"x=4;\n",
"I_D=0.5;\n",
"//I_D=Kn*x*((Vgs-Vtn)^2)/2;\n",
"Vgs=sqrt(I_D*2/(Kn*x))+2;\n",
"printf('\nVgs=%.2f V\n',Vgs)\n",
"//y=R1+R2\n",
"Rs=2;\n",
"y=10/0.05;\n",
"printf('\nR1+R2=%.2f Kohm\n',y)\n",
"//Vgs=Vg-Vs=(R2/(R1+R2)*10-5)-I_D*Rs+5\n",
"R2=(y/10)*(Vgs+I_D*Rs);\n",
"printf('\nR2=%.2f KOhm\n',R2)\n",
"R1=y-R2;\n",
"printf('\nR1=%.2f KOhm\n',R1)"
   ]
   }
,
{
		   "cell_type": "markdown",
		   "metadata": {},
		   "source": [
			"## Example 5.7: Design_a_MOSFET_circuit_biased_with_a_constant_current_source.sce"
		   ]
		  },
  {
"cell_type": "code",
	   "execution_count": null,
	   "metadata": {
	    "collapsed": true
	   },
	   "outputs": [],
"source": [
"clear;\n",
"clc;\n",
"//Example 5.7\n",
"Vtn=0.8;\n",
"Kn=80;\n",
"//x=W/L\n",
"x=3;\n",
"I_D=250;\n",
"Vd=2.5;\n",
"//I_D=Kn/2*x*(Vgs-Vtn)^2\n",
"Vgs=sqrt(I_D*2/(Kn*x))+Vtn;\n",
"printf('\nVgs=%.3f V\n',Vgs)\n",
"Vs=-Vgs\n",
"//I_D=(5-Vd)/Rd\n",
"Rd=(5-Vd)/I_D;\n",
"printf('\nRd=%.2f KOhm\n',Rd)\n",
"Vds=Vd-Vs;\n",
"printf('\nVds=%.2f V\n',Vds)\n",
"Vdssat=Vgs-Vtn\n",
"//since Vds>Vdssat transistor is biased in saturation region"
   ]
   }
,
{
		   "cell_type": "markdown",
		   "metadata": {},
		   "source": [
			"## Example 5.8: Calculate_the_characteristics_of_a_circuit_containing_an_enhancement_load_device.sce"
		   ]
		  },
  {
"cell_type": "code",
	   "execution_count": null,
	   "metadata": {
	    "collapsed": true
	   },
	   "outputs": [],
"source": [
"clear;\n",
"clc;\n",
"//Example 5.8\n",
"Vtn=0.8;\n",
"Kn=0.05;\n",
"//I_D=Kn*(Vgs-Vtn)^2\n",
"//Vds=Vgs=5-I_D*Rs\n",
"//combining these two equations we obtain 0.5(Vgs)^2+0.2Vgs-4.68\n",
"Vgs=poly(0,'Vgs')\n",
"p=poly([-4.68 0.2 0.5],'Vgs','c')\n",
"printf('\npossible solutions ::%.3f V\n',roots(p))\n",
"//assuming transistor is conducting ,Vgs must be greater than threshold voltage\n",
"Vgs=2.87;\n",
"I_D=Kn*(Vgs-Vtn)^2;\n",
"printf('\ndrain current=%.3f mA\n',I_D)"
   ]
   }
],
"metadata": {
		  "kernelspec": {
		   "display_name": "Scilab",
		   "language": "scilab",
		   "name": "scilab"
		  },
		  "language_info": {
		   "file_extension": ".sce",
		   "help_links": [
			{
			 "text": "MetaKernel Magics",
			 "url": "https://github.com/calysto/metakernel/blob/master/metakernel/magics/README.md"
			}
		   ],
		   "mimetype": "text/x-octave",
		   "name": "scilab",
		   "version": "0.7.1"
		  }
		 },
		 "nbformat": 4,
		 "nbformat_minor": 0
}
