{
"cells": [
 {
		   "cell_type": "markdown",
	   "metadata": {},
	   "source": [
       "# Chapter 9: The Ideal Operational Amplifier"
	   ]
	},
{
		   "cell_type": "markdown",
		   "metadata": {},
		   "source": [
			"## Example 9.5: Determine_a_load_current_in_a_voltage_to_current_converter.sce"
		   ]
		  },
  {
"cell_type": "code",
	   "execution_count": null,
	   "metadata": {
	    "collapsed": true
	   },
	   "outputs": [],
"source": [
"clear;\n",
"clc;\n",
"//Example 9.5\n",
"Zl=0.1;\n",
"R1=10;\n",
"R2=1;\n",
"R3=1;\n",
"Rf=10;\n",
"Vt=-5;\n",
"iL=-Vt/R2;\n",
"printf('\nload current=%.3f mA\n',iL)\n",
"vL=iL*Zl;\n",
"printf('\nvoltage across the load=%.2f V\n',vL)\n",
"i4=vL/R2;\n",
"printf('\ni4=%.3f mA\n',i4)\n",
"i3=i4+iL;\n",
"printf('\ni3=%.3f mA\n',i3)\n",
"Vo=i3*R3+vL;\n",
"printf('\noutput voltage=%.2f V\n',Vo)\n",
"i1=Vt/R1;\n",
"i2=i1;\n",
"printf('\ni1=%.3f mA\n',i1)\n",
"printf('\ni2=%.2f mA\n',i2)"
   ]
   }
,
{
		   "cell_type": "markdown",
		   "metadata": {},
		   "source": [
			"## Example 9.9: Determine_the_time_constant.sce"
		   ]
		  },
  {
"cell_type": "code",
	   "execution_count": null,
	   "metadata": {
	    "collapsed": true
	   },
	   "outputs": [],
"source": [
"clear;\n",
"clc;\n",
"//Example 9.9\n",
"//Vo=(-1/R1*C2)*integrate((-1)dt) \n",
"x=integrate('(-1)','t',0,1)\n",
"Vo=10;\n",
"//let y=R1*C2\n",
"y=-x/Vo;\n",
"printf('\nR1C2=%.2f ms\n',y)"
   ]
   }
],
"metadata": {
		  "kernelspec": {
		   "display_name": "Scilab",
		   "language": "scilab",
		   "name": "scilab"
		  },
		  "language_info": {
		   "file_extension": ".sce",
		   "help_links": [
			{
			 "text": "MetaKernel Magics",
			 "url": "https://github.com/calysto/metakernel/blob/master/metakernel/magics/README.md"
			}
		   ],
		   "mimetype": "text/x-octave",
		   "name": "scilab",
		   "version": "0.7.1"
		  }
		 },
		 "nbformat": 4,
		 "nbformat_minor": 0
}
