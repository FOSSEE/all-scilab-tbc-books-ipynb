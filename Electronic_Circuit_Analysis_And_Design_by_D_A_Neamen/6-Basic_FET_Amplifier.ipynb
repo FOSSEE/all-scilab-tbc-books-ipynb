{
"cells": [
 {
		   "cell_type": "markdown",
	   "metadata": {},
	   "source": [
       "# Chapter 6: Basic FET Amplifier"
	   ]
	},
{
		   "cell_type": "markdown",
		   "metadata": {},
		   "source": [
			"## Example 6.11: Design_the_small_signal_voltage_gain_of_an_NMOS_amplifier.sce"
		   ]
		  },
  {
"cell_type": "code",
	   "execution_count": null,
	   "metadata": {
	    "collapsed": true
	   },
	   "outputs": [],
"source": [
"clear;\n",
"clc;\n",
"//Example 6.11\n",
"Vtnd=1;\n",
"Vtnl=1;\n",
"Kn=30;\n",
"//let W/L=x\n",
"xl=1;\n",
"Vdd=5;\n",
"Av=10;\n",
"//Av=sqrt(xd/xl)\n",
"xd=(Av)^2*xl;\n",
"printf('\nwidth to length ratio of driver transistor=%0.2f\n',xd)\n",
"Knd=xd*Kn*0.001/2;\n",
"Knl=xl*Kn*0.001/2;\n",
"printf('\nconduction parameter Knd=%.2f mA/V^2\n',Knd)\n",
"printf('\nconduction parameter Knl=%.3f mA/V^2\n',Knl)\n",
"//Vgsd-Vtnd=(Vdd-Vtnl)-sqrt(Knd/Knl)*(Vgsd-Vtnd)\n",
"y=sqrt(Knd/Knl);\n",
"Vgsd=(y+5)/(1+y);\n",
"printf('\nVgsd=%.2f V\n',Vgsd)\n",
"Vdsd=Vgsd-1;\n",
"printf('\nVdsd=%.2f V\n',Vdsd)"
   ]
   }
,
{
		   "cell_type": "markdown",
		   "metadata": {},
		   "source": [
			"## Example 6.12: Determine_the_small_signal_voltage_gain_of_a_circuit.sce"
		   ]
		  },
  {
"cell_type": "code",
	   "execution_count": null,
	   "metadata": {
	    "collapsed": true
	   },
	   "outputs": [],
"source": [
"clear;\n",
"clc;\n",
"//Example 6.12\n",
"Vtnd=0.8;\n",
"Vtnl=-1.5;\n",
"Knd=1;\n",
"Knl=0.2;\n",
"//lambda=y\n",
"yd=0.01;\n",
"yl=0.01;\n",
"Idq=0.2;\n",
"gmd=2*sqrt(Knd*Idq);\n",
"printf('\ntransconductance of the driver=%.3f mA/V\n',gmd)\n",
"roD=1/(yd*Idq);\n",
"printf('\noutput resistances=%.2f Kohm\n',roD)\n",
"Av=-gmd*roD/2;\n",
"printf('\nsmall signal voltage gain=%.2f \n',Av)"
   ]
   }
,
{
		   "cell_type": "markdown",
		   "metadata": {},
		   "source": [
			"## Example 6.13: Determine_the_small_signal_voltage_gain_of_a_circuit.sce"
		   ]
		  },
  {
"cell_type": "code",
	   "execution_count": null,
	   "metadata": {
	    "collapsed": true
	   },
	   "outputs": [],
"source": [
"clear;\n",
"clc;\n",
"//Example 6.13\n",
"Vtn=0.8;\n",
"Vtp=-0.8;\n",
"Kn=80*10^-3;\n",
"Kp=40*10^-3;\n",
"//x=W/L\n",
"xn=15;\n",
"xp=10;\n",
"//lambda=y\n",
"yn=0.01;\n",
"yp=0.01;\n",
"Ibias=0.2;\n",
"gm=2*sqrt(Kn*xn*Ibias/2);\n",
"printf('\ntransconductance of the NMOS driver=%.3f mA/V^2\n',gm)\n",
"ron=1/(yn*Ibias);\n",
"printf('\noutput resistances=%.2f Kohm\n',ron)\n",
"Av=-gm*ron/2;\n",
"printf('\nsmall signal voltage gain=%.2f \n',Av)"
   ]
   }
,
{
		   "cell_type": "markdown",
		   "metadata": {},
		   "source": [
			"## Example 6.14: Design_the_biasing_of_a_multistage_MOSFET.sce"
		   ]
		  },
  {
"cell_type": "code",
	   "execution_count": null,
	   "metadata": {
	    "collapsed": true
	   },
	   "outputs": [],
"source": [
"clear;\n",
"clc;\n",
"//Example 6.14\n",
"Kn1=500*10^-3;\n",
"Kn2=200*10^-3;\n",
"Vtn1=1.2;\n",
"Vtn2=Vtn1;\n",
"Idq1=0.2;\n",
"Idq2=0.5;\n",
"Vdsq1=6;\n",
"Vdsq2=6;\n",
"Ri=100;\n",
"Rsi=4;\n",
"Rs2=(10-Vdsq2)/Idq2;\n",
"printf('\nRs2=%.2f KOhm\n',Rs2)\n",
"Vgs2=sqrt(Idq2/Kn2)+Vtn2;\n",
"printf('\ngate to source voltage for M2=%.2f V\n',Vgs2)\n",
"Vs2=-1;\n",
"Vg2=Vs2+Vgs2;\n",
"printf('\ngate voltage of M2=%.2f V\n',Vg2)\n",
"Vg1=Vg2;\n",
"Rd1=(5-Vg1)/Idq1;\n",
"printf('\nresistor Rd1=%.2f KOhm\n',Rd1)\n",
"Vs1=Vg1-Vdsq1;\n",
"printf('\nsource voltage of M1=%.2f KOhm\n',Vs1)\n",
"Rs1=(Vs1+5)/Idq1;\n",
"printf('\nresistor Rs1=%.2f KOhm\n',Rs1)\n",
"Vgs1=sqrt(Idq1/Kn1)+Vtn1;\n",
"printf('\ngate to source voltage for M1=%.2f V\n',Vgs1)\n",
"R1=Ri*10/(Vgs1+Idq1*Rs1);\n",
"printf('\nR1=%.2f KOhm\n',R1)\n",
"//Ri=R1*R2/(R1+R2)\n",
"R2=Ri*R1/(R1-Ri);\n",
"printf('\nR2=%.2f KOhm\n',R2)"
   ]
   }
,
{
		   "cell_type": "markdown",
		   "metadata": {},
		   "source": [
			"## Example 6.15: Design_the_biasing_of_cascade_circuit.sce"
		   ]
		  },
  {
"cell_type": "code",
	   "execution_count": null,
	   "metadata": {
	    "collapsed": true
	   },
	   "outputs": [],
"source": [
"clear;\n",
"clc;\n",
"//Example 6.15\n",
"Vtn1=1.2;\n",
"Vtn2=1.2;\n",
"Kn1=0.8;\n",
"Kn2=0.8;\n",
"//x=R1+R2+R3=300\n",
"x=300;\n",
"Rs=10;\n",
"Idq=0.4;\n",
"Vdsq1=2.5;\n",
"Vdsq2=2.5;\n",
"Vs1=Idq*Rs-5;\n",
"printf('\ndc voltage at source of M1=%.2f V\n',Vs1)\n",
"Vgs=sqrt(Idq/Kn1)+Vtn1;\n",
"printf('\ngate to source voltage=%.2f V\n',Vgs)\n",
"R3=(Vgs+Vs1)*x/5;\n",
"printf('\nR3=%.2f KOhm\n',R3)\n",
"Vs2=Vdsq2+Vs1;\n",
"printf('\nvoltage at source of M2=%.2f V\n',Vs2)\n",
"//y=R2+R3\n",
"y=(Vgs+Vs2)*x/5;\n",
"printf('\nR2+R3=%.2f KOhm\n',y)\n",
"R2=150;\n",
"R1=x-y;\n",
"printf('\nR1=%.2f KOhm\n',R1)\n",
"R3=y-R2;\n",
"printf('\nR3=%.2f KOhm\n',R3)\n",
"Vd2=Vdsq2+Vs2;\n",
"printf('\nvoltage at drain of M2 =%.2fV\n',Vd2)\n",
"Rd=(5-Vd2)/Idq;\n",
"printf('\ndrain resistance=%.2f KOhm\n',Rd)"
   ]
   }
,
{
		   "cell_type": "markdown",
		   "metadata": {},
		   "source": [
			"## Example 6.17: Determine_the_small_signal_voltage_gain_of_a_circuit.sce"
		   ]
		  },
  {
"cell_type": "code",
	   "execution_count": null,
	   "metadata": {
	    "collapsed": true
	   },
	   "outputs": [],
"source": [
"clear;\n",
"clc;\n",
"//Example 6.17\n",
"Kn=0.8;\n",
"Vtn=1.2;\n",
"Vgs=1.91;\n",
"Rd=2.5;\n",
"gm=2*Kn*(Vgs-Vtn);\n",
"printf('\ntransconductance=%.2f mA/V\n',gm)\n",
"Av=-gm*Rd;\n",
"printf('\nsmall signal voltage gain=%.2f \n',Av)"
   ]
   }
,
{
		   "cell_type": "markdown",
		   "metadata": {},
		   "source": [
			"## Example 6.18: Determine_the_small_signal_voltage_gain_of_a_circuit.sce"
		   ]
		  },
  {
"cell_type": "code",
	   "execution_count": null,
	   "metadata": {
	    "collapsed": true
	   },
	   "outputs": [],
"source": [
"clear;\n",
"clc;\n",
"//Example 6.18\n",
"//Determine the small signal voltage gain of a circuit in fig.6.55\n",
"Idss=12;\n",
"Vp=-4;\n",
"//lambda=y\n",
"y=0.008;\n",
"Vgsq=poly(0,'Vgsq');\n",
"p=poly([26.4 17.2 2.025],'Vgsq','c')\n",
"printf('\nroots=%fV\n',roots(p))\n",
"Vgsq=-2.01\n",
"Idq=Idss*(1-Vgsq/Vp)^2;\n",
"printf('\nquiescent drain current=%f mA\n',Idq)\n",
"gm=(-2*Idss/Vp)*(1-Vgsq/Vp);\n",
"printf('\ntransconductance=%.2f mA/V\n',gm)\n",
"ro=(1/(y*Idq));\n",
"printf('\noutput resistance=%.2f KOhm\n',ro)\n",
"Rd=2.7;\n",
"Rl=4;\n",
"x=Rd*Rl/(Rd+Rl);\n",
"Av=-gm*ro*x/(ro+x);\n",
"printf('\nsmall signal voltage gain=%.2f \n',Av)"
   ]
   }
,
{
		   "cell_type": "markdown",
		   "metadata": {},
		   "source": [
			"## Example 6.19: Design_a_JFET_source_folllower.sce"
		   ]
		  },
  {
"cell_type": "code",
	   "execution_count": null,
	   "metadata": {
	    "collapsed": true
	   },
	   "outputs": [],
"source": [
"clear;\n",
"clc;\n",
"//Example 6.19\n",
"Idss=12;\n",
"Vp=-4;\n",
"Rl=10;\n",
"//lambda=y\n",
"y=0.01;\n",
"Av=0.9;\n",
"//gm=(-2*Idss/Vp)*(1-Vgs/Vp)\n",
"gm=2;\n",
"Vgs=(1+gm*Vp/(2*Idss))*Vp;\n",
"printf('\ngate to source voltage=%.3f V\n',Vgs)\n",
"Idq=Idss*(1-Vgs/Vp)^2;\n",
"printf('\nquiescent drain current=%.3f mA\n',Idq)\n",
"Rs=(-Vgs+10)/Idq;\n",
"printf('\nRs=%.2f KOhm\n',Rs)\n",
"ro=(1/(y*Idq));\n",
"printf('\noutput resistance=%.3f KOhm\n',ro)\n",
"x=Rl*ro/(Rl+ro);\n",
"t=x*Rs/(x+Rs);\n",
"Av=gm*t/(1+gm*t);\n",
"printf('\nsmall signal voltage gain=%.3f \n',Av)"
   ]
   }
,
{
		   "cell_type": "markdown",
		   "metadata": {},
		   "source": [
			"## Example 6.1: Calculate_the_transconductance_of_an_n_chennel_MOSFET.sce"
		   ]
		  },
  {
"cell_type": "code",
	   "execution_count": null,
	   "metadata": {
	    "collapsed": true
	   },
	   "outputs": [],
"source": [
"clear;\n",
"clc;\n",
"//Example 6.1\n",
"Vtn=1;\n",
"//let x= u_n*Cox*1/2\n",
"x=20*10^-3;\n",
"//let y=W/L\n",
"y=40;\n",
"I_D=1;\n",
"Kn=x*y;\n",
"printf('\nconduction parameter=%.3f mA/V^2\n',Kn)\n",
"g_m=2*sqrt(Kn*I_D);\n",
"printf('\ntransconductance=%.3f mA/V\n',g_m)"
   ]
   }
,
{
		   "cell_type": "markdown",
		   "metadata": {},
		   "source": [
			"## Example 6.2: Determine_the_small_signal_voltage_gain_of_a_MOSFET.sce"
		   ]
		  },
  {
"cell_type": "code",
	   "execution_count": null,
	   "metadata": {
	    "collapsed": true
	   },
	   "outputs": [],
"source": [
"clear;\n",
"clc;\n",
"//Example 6.2\n",
"Vgsq=2.12;\n",
"Vdd=5;\n",
"Rd=2.5;\n",
"Vtn=1;\n",
"Kn=0.8;\n",
"//let lambda=y\n",
"y=0.02;//V^-1\n",
"Idq=Kn*(Vgsq-Vtn)^2;\n",
"printf('\ndrain current=%.3f mA\n',Idq)\n",
"Vdsq=Vdd-Idq*Rd;\n",
"printf('\ndrain to source voltage=%.3f V\n',Vdsq)\n",
"Vgs=1.82;\n",
"Vgs-Vtn\n",
"//since Vdsq>Vgs-Vtn transistor is biased in saturation\n",
"g_m=2*Kn*(Vgsq-Vtn);\n",
"printf('\ntransconductance=%.3f mA/V\n',g_m)\n",
"ro=(y*Idq)^-1;\n",
"printf('\noutput resistance=%.2f KOhm\n',ro)\n",
"Av=-g_m*ro*Rd/(ro+Rd);\n",
"printf('\nsmall signal voltage gain=%.2f\n',Av)"
   ]
   }
,
{
		   "cell_type": "markdown",
		   "metadata": {},
		   "source": [
			"## Example 6.3: EX6_3.sce"
		   ]
		  },
  {
"cell_type": "code",
	   "execution_count": null,
	   "metadata": {
	    "collapsed": true
	   },
	   "outputs": [],
"source": [
"clear;\n",
"clc;\n",
"//Example 6.3\n",
"Vdd=10;\n",
"R1=70.9;//(Kohm)\n",
"R2=29.1;//(Kohm)\n",
"Rd=5;//(Kohm)\n",
"Vtn=1.5;\n",
"Kn=0.5;//(mA/V^2)\n",
"//lambda=y\n",
"y=0.01;//V^-1\n",
"Rsi=4;//(Kohm)\n",
"Vgsq=Vdd*R2/(R1+R2);\n",
"printf('\ngate to source voltage=%.2f V\n',Vgsq)\n",
"Idq=Kn*(Vgsq-Vtn)^2;\n",
"printf('\ndrain current=%.3f mA\n',Idq)\n",
"Vdsq=Vdd-Idq*Rd;\n",
"printf('\ndrain to source voltage=%.2f V\n',Vdsq)\n",
"g_m=2*Kn*(Vgsq-Vtn);\n",
"printf('\ntransconductance=%.3f mA/V\n',g_m)\n",
"ro=(y*Idq)^-1;\n",
"printf('\noutput resistance=%.2f KOhm\n',ro)\n",
"Ri=R1*R2/(R1+R2);\n",
"printf('\namplifier input resistance=%.2f Kohm\n',Ri)\n",
"Av=-g_m*(ro*Rd/(ro+Rd))*Ri/(Ri+Rsi);\n",
"printf('\nsmall signal voltage gain=%.2f\n',Av)\n",
"printf('\namplifier input resistance=%.2f Kohm\n',Ri)\n",
"Ro=Rd*ro/(Rd+ro);\n",
"printf('\namplifier output resistance=%.2f Kohm\n',Ro)"
   ]
   }
,
{
		   "cell_type": "markdown",
		   "metadata": {},
		   "source": [
			"## Example 6.4: Design_the_bias_of_a_MOSFET_such_that_the_Q_point_is_in_the_middle_of_saturation.sce"
		   ]
		  },
  {
"cell_type": "code",
	   "execution_count": null,
	   "metadata": {
	    "collapsed": true
	   },
	   "outputs": [],
"source": [
"clear;\n",
"clc;\n",
"//Example 6.4\n",
"Vtn=1;\n",
"Kn=1;//(mA/V^2)\n",
"//lambda=y\n",
"y=0.015;//V^-1\n",
"Ri=100;//(Kohm)\n",
"Idq=2;//(mA)\n",
"Idt=4;//(mA)\n",
"//Idt=4=Kn*(Vgst-Vtn)^2\n",
"Vgst=sqrt(Idt/Kn)+Vtn;\n",
"printf('\nVgst=%.2f V\n',Vgst)\n",
"Vdst=Vgst-Vtn;\n",
"printf('\nVdst=%.2f V\n',Vdst)\n",
"Vdd=12;\n",
"Vdsq=7;\n",
"Rd=(Vdd-Vdsq)/Idq;\n",
"printf('\nRd =%.2fKOhm\n',Rd)\n",
"Vgsq=sqrt(Idq/Kn)+Vtn;\n",
"printf('\nVgsq=%.2f V\n',Vgsq)\n",
"R1=Ri*Vdd/Vgsq;\n",
"printf('\nR1=%.2f Kohm\n',R1)\n",
"R2=Ri*R1/(R1-Ri);\n",
"printf('\nR2=%.2f Kohm\n',R2)\n",
"g_m=2*Kn*(Vgsq-Vtn);\n",
"printf('\ntransconductance=%.3f mA/V\n',g_m)\n",
"ro=(y*Idq)^-1;\n",
"printf('\noutput resistance=%.2f KOhm\n',ro)\n",
"Av=-g_m*(ro*Rd/(ro+Rd));\n",
"printf('\nsmall signal voltage gain=%.2f\n',Av)"
   ]
   }
,
{
		   "cell_type": "markdown",
		   "metadata": {},
		   "source": [
			"## Example 6.6: Determine_the_small_signal_voltage_gain_of_a_circuit.sce"
		   ]
		  },
  {
"cell_type": "code",
	   "execution_count": null,
	   "metadata": {
	    "collapsed": true
	   },
	   "outputs": [],
"source": [
"clear;\n",
"clc;\n",
"//Example 6.6\n",
"Vtn=0.8;\n",
"Kn=1;//(mA/V^2)\n",
"Idq=0.5;\n",
"Vdd=5;\n",
"Rd=7;//(Kohm)\n",
"Vgsq=sqrt(Idq/Kn)+Vtn;\n",
"printf('\nVgsq=%.2f V\n',Vgsq)\n",
"Vs=-Vgsq\n",
"Vdsq=Vdd-Idq*Rd-Vs;\n",
"printf('\nVdsq=%.2f V\n',Vdsq)\n",
"g_m=2*Kn*(Vgsq-Vtn);\n",
"printf('\ntransconductance=%.3f mA/V\n',g_m)\n",
"Av=-g_m*Rd;\n",
"printf('\nsmall signal voltage gain=%.2f\n',Av)"
   ]
   }
,
{
		   "cell_type": "markdown",
		   "metadata": {},
		   "source": [
			"## Example 6.7: Determine_the_small_signal_voltage_gain_of_a_circuit.sce"
		   ]
		  },
  {
"cell_type": "code",
	   "execution_count": null,
	   "metadata": {
	    "collapsed": true
	   },
	   "outputs": [],
"source": [
"clear;\n",
"clc;\n",
"//Example 6.7\n",
"Vdd=12;\n",
"R1=162;\n",
"R2=463;\n",
"Rs=0.75;\n",
"Kn=4;\n",
"Vtn=1.5;\n",
"//lambda=y\n",
"y=0.01;\n",
"Rsi=4;\n",
"Idq=7.97;\n",
"Vgsq=2.91;\n",
"g_m=2*Kn*(Vgsq-Vtn);\n",
"printf('\ntransconductance=%.2f mA/V\n',g_m)\n",
"ro=(y*Idq)^-1;\n",
"printf('\noutput resistance=%.2f KOhm\n',ro)\n",
"Ri=R1*R2/(R1+R2);\n",
"printf('\namplifier input resistance=%.3f Kohm\n',Ri)\n",
"x=Rs*ro/(Rs+ro);\n",
"Av=g_m*x*(Ri/(Ri+Rsi))/(1+g_m*x);\n",
"printf('\nsmall signal voltage gain=%.2f\n',Av)"
   ]
   }
,
{
		   "cell_type": "markdown",
		   "metadata": {},
		   "source": [
			"## Example 6.9: Calculate_the_output_resistance_of_a_source_follower_circuit.sce"
		   ]
		  },
  {
"cell_type": "code",
	   "execution_count": null,
	   "metadata": {
	    "collapsed": true
	   },
	   "outputs": [],
"source": [
"clear;\n",
"clc;\n",
"//Example 6.9\n",
"Rs=750;//Ohm\n",
"ro=12500;\n",
"g_m=11.3*10^-3;\n",
"x=1/g_m;\n",
"y=x*Rs/(x+Rs);\n",
"Ro=y*ro/(y+ro);\n",
"printf('\noutput resistance=%.3f ohm\n',Ro)"
   ]
   }
],
"metadata": {
		  "kernelspec": {
		   "display_name": "Scilab",
		   "language": "scilab",
		   "name": "scilab"
		  },
		  "language_info": {
		   "file_extension": ".sce",
		   "help_links": [
			{
			 "text": "MetaKernel Magics",
			 "url": "https://github.com/calysto/metakernel/blob/master/metakernel/magics/README.md"
			}
		   ],
		   "mimetype": "text/x-octave",
		   "name": "scilab",
		   "version": "0.7.1"
		  }
		 },
		 "nbformat": 4,
		 "nbformat_minor": 0
}
