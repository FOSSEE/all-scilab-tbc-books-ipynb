{
"cells": [
 {
		   "cell_type": "markdown",
	   "metadata": {},
	   "source": [
       "# Chapter 12: Feedback and Stability"
	   ]
	},
{
		   "cell_type": "markdown",
		   "metadata": {},
		   "source": [
			"## Example 12.11: Determine_the_transconductance_gain_of_a_transistor_feedback_circuit.sce"
		   ]
		  },
  {
"cell_type": "code",
	   "execution_count": null,
	   "metadata": {
	    "collapsed": true
	   },
	   "outputs": [],
"source": [
"clear;\n",
"clc;\n",
"//Example 12.11\n",
"hFE=100;//transistor parameter\n",
"Vbe=0.7;\n",
"Vcc=10;\n",
"R1=55;\n",
"R2=12;\n",
"Re=1;\n",
"Rc=4;\n",
"Rl=4;\n",
"Icq=0.983;\n",
"Vceq=5.08;\n",
"Vt=0.026;\n",
"r=hFE*Vt/Icq;\n",
"printf('\nsmall signal parameter resistance=%.2f KOhm\n',r)\n",
"gm=Icq/Vt;\n",
"printf('\ntransconductance=%.3f mA/V\n',gm)\n",
"Agf=-gm*(Rc/(Rc+Rl))/(1+Re*(gm+1/r));\n",
"printf('\ntransconductance transfer function=%.3f mA/V\n',Agf)\n",
"//as first approximation\n",
"Agf2=-1/Re;\n",
"printf('\nAgf=%.2f mA/V\n',Agf2)\n",
"Avf=Agf*Rl;\n",
"printf('\nvoltage gain=%.2f\n',Avf)"
   ]
   }
,
{
		   "cell_type": "markdown",
		   "metadata": {},
		   "source": [
			"## Example 12.16: Determine_the_loop_gain.sce"
		   ]
		  },
  {
"cell_type": "code",
	   "execution_count": null,
	   "metadata": {
	    "collapsed": true
	   },
	   "outputs": [],
"source": [
"clear;\n",
"clc;\n",
"//Example 12.15\n",
"//Determine the loop gain fig12.45(a)\n",
"hFE=100;\n",
"Vbe=0.7;\n",
"Icq=0.492;\n",
"r=5.28;\n",
"gm=18.9;\n",
"Rs=10;\n",
"R1=51;\n",
"R2=5.5;\n",
"Re=0.500;\n",
"Rc=10;\n",
"Rf=82;\n",
"x=r*R2/(r+R2);\n",
"y=R1*x/(x+R1);\n",
"t=Rs*y/(y+Rs);\n",
"Req=t;\n",
"printf('\nequivalent resistance=%.2f KOhm\n',t)\n",
"T=gm*Rc*Req/(Rc+Rf+Req);\n",
"printf('\nthe loop gain=%.2f\n',T)"
   ]
   }
,
{
		   "cell_type": "markdown",
		   "metadata": {},
		   "source": [
			"## Example 12.19: Determine_the_stability_of_an_amplifier.sce"
		   ]
		  },
  {
"cell_type": "code",
	   "execution_count": null,
	   "metadata": {
	    "collapsed": true
	   },
	   "outputs": [],
"source": [
"clear;\n",
"clc;\n",
"//Example 12.19\n",
"//T=b*100/(sqrt(1+(f/10^5)^2) angle=-3tan^-1(f/10^5)\n",
"//stable at f180 at which phase becomes -180 degrees\n",
"//-3*atan(f180/10^5)=-180\n",
"f180=tand(180/3)*10^5;\n",
"printf('\nfrequency at -180 degree=%ef Hz\n',f180)\n",
"b=0.2;\n",
"T=b*100/(sqrt(1+(f180/10^5)^2))^3;\n",
"printf('\nmagnitude of the loop gain=%.2f\n',T)\n",
"b=0.02;\n",
"T=b*100/(sqrt(1+(f180/10^5)^2))^3;\n",
"printf('\nmagnitude of the loop gain=%.2f\n',T)"
   ]
   }
,
{
		   "cell_type": "markdown",
		   "metadata": {},
		   "source": [
			"## Example 12.1: Calculate_the_feedback_transfer_function.sce"
		   ]
		  },
  {
"cell_type": "code",
	   "execution_count": null,
	   "metadata": {
	    "collapsed": true
	   },
	   "outputs": [],
"source": [
"clear;\n",
"clc;\n",
"//Example 12.1\n",
"A=10^5;//open loop gain\n",
"Af=50;//closed loop gain\n",
"b=(A/Af-1)/A;\n",
"printf('\nfeedback transfer function=%f\n',b)\n",
"A=-10^5;\n",
"Af=-50;\n",
"b=(A/Af-1)/A;\n",
"printf('\nfeedback transfer function=%f\n',b)"
   ]
   }
,
{
		   "cell_type": "markdown",
		   "metadata": {},
		   "source": [
			"## Example 12.22: Determine_the_shift_in_the_3dB_frequency.sce"
		   ]
		  },
  {
"cell_type": "code",
	   "execution_count": null,
	   "metadata": {
	    "collapsed": true
	   },
	   "outputs": [],
"source": [
"clear;\n",
"clc;\n",
"//Example 12.22\n",
"Ao=10^6;\n",
"fPD=0.010;//KHz\n",
"b=0.01;\n",
"Af=Ao/(1+b*Ao);\n",
"printf('\nlow frequency closed loop gain=%.2f\n',Af)\n",
"fc=fPD*(1+b*Ao);\n",
"printf('\nclosed loop 3dB frequency=%.2f KHz\n',fc)"
   ]
   }
,
{
		   "cell_type": "markdown",
		   "metadata": {},
		   "source": [
			"## Example 12.23: Determine_the_shift_in_the_3dB_frequency.sce"
		   ]
		  },
  {
"cell_type": "code",
	   "execution_count": null,
	   "metadata": {
	    "collapsed": true
	   },
	   "outputs": [],
"source": [
"clear;\n",
"clc;\n",
"//Example 12.23\n",
"A=10^3;\n",
"Cf=30*10^-12;//feedback capacitor (F)\n",
"R2=5*10^5;\n",
"Cm=Cf*(1+A);\n",
"printf('\nMiller capacitance=%e F\n',Cm)\n",
"fp=1/(2*%pi*R2*Cm);\n",
"printf('\ndominant pole frequency =%.2fHz\n',fp)"
   ]
   }
,
{
		   "cell_type": "markdown",
		   "metadata": {},
		   "source": [
			"## Example 12.2: Calculate_the_percent_change_in_the_closed_loop_gain_Af.sce"
		   ]
		  },
  {
"cell_type": "code",
	   "execution_count": null,
	   "metadata": {
	    "collapsed": true
	   },
	   "outputs": [],
"source": [
"clear;\n",
"clc;\n",
"//Example 12.2\n",
"A=10^5;\n",
"Af=50;\n",
"b=0.019999;\n",
"dA=10^4;\n",
"dAf=Af*dA/(A*(1+b*A));\n",
"printf('\ndAf=%e\n',dAf)\n",
"//x=dAf/Af\n",
"x=dAf/Af;\n",
"x=x*100;\n",
"printf('\npercent change dAf/Af=%f\n',x)"
   ]
   }
,
{
		   "cell_type": "markdown",
		   "metadata": {},
		   "source": [
			"## Example 12.3: Determine_the_bandwidth_of_a_feedback_amplifier.sce"
		   ]
		  },
  {
"cell_type": "code",
	   "execution_count": null,
	   "metadata": {
	    "collapsed": true
	   },
	   "outputs": [],
"source": [
"clear;\n",
"clc;\n",
"//Example 12.3\n",
"Ao=10^4;\n",
"wh=2*%pi*100;//rad/s\n",
"Af=50;\n",
"//x=(1+bAo)\n",
"x=Ao/Af;\n",
"printf('\n(1+bAo)=%f\n',x)\n",
"wfh=wh*x;\n",
"printf('\nclosed loop bandwidth=%f\n',wfh)"
   ]
   }
,
{
		   "cell_type": "markdown",
		   "metadata": {},
		   "source": [
			"## Example 12.5: Determine_the_input_resistance_and_output_resistance.sce"
		   ]
		  },
  {
"cell_type": "code",
	   "execution_count": null,
	   "metadata": {
	    "collapsed": true
	   },
	   "outputs": [],
"source": [
"clear;\n",
"clc;\n",
"//Example 12.5\n",
"Av=10^5;\n",
"Avf=50;\n",
"Rf=10;//Kohm\n",
"Ro=20000;//Ohm\n",
"//x=(1+bvAv)\n",
"x=Av/Avf;\n",
"printf('\n(1+bvAv)=%.e\n',x)\n",
"Rif=Rf*x;\n",
"Rif=Rif*0.001;//MOhm\n",
"printf('\ninput resistance=%.2f MOhm\n',Rif)\n",
"Rof=Ro/x;\n",
"printf('\noutput resistance=%.2f Ohm\n',Rof)"
   ]
   }
,
{
		   "cell_type": "markdown",
		   "metadata": {},
		   "source": [
			"## Example 12.6: Determine_the_input_resistance_and_output_resistance.sce"
		   ]
		  },
  {
"cell_type": "code",
	   "execution_count": null,
	   "metadata": {
	    "collapsed": true
	   },
	   "outputs": [],
"source": [
"clear;\n",
"clc;\n",
"//Example 12.6\n",
"Af=10^5;\n",
"Aif=50;\n",
"Rf=10000;\n",
"Ro=20;\n",
"//x=(1+biAi)\n",
"x=Af/Aif;\n",
"printf('\n(1+biAi)=%.e\n',x)\n",
"Rif=Rf/x;\n",
"printf('\ninput resistance =%.2fOhm\n',Rif)\n",
"Rof=Ro*x;\n",
"Rof=Rof*0.001;//Mohm\n",
"printf('\noutput resistance=%.2f MOhm\n',Rof)"
   ]
   }
,
{
		   "cell_type": "markdown",
		   "metadata": {},
		   "source": [
			"## Example 12.7: Determine_the_expected_input_resistance.sce"
		   ]
		  },
  {
"cell_type": "code",
	   "execution_count": null,
	   "metadata": {
	    "collapsed": true
	   },
	   "outputs": [],
"source": [
"clear;\n",
"clc;\n",
"//Example 12.7\n",
"Ri=50;\n",
"R1=10;\n",
"R2=90;\n",
"Av=10^4;\n",
"bv=1/(1+R2/R1);\n",
"printf('\nfeedback transfer function=%.2f\n',bv)\n",
"Rif=Ri*(1+bv*Av);\n",
"Rif=Rif*0.001;//Mohm\n",
"printf('\ninput resistance=%.2f MOhm\n',Rif)"
   ]
   }
],
"metadata": {
		  "kernelspec": {
		   "display_name": "Scilab",
		   "language": "scilab",
		   "name": "scilab"
		  },
		  "language_info": {
		   "file_extension": ".sce",
		   "help_links": [
			{
			 "text": "MetaKernel Magics",
			 "url": "https://github.com/calysto/metakernel/blob/master/metakernel/magics/README.md"
			}
		   ],
		   "mimetype": "text/x-octave",
		   "name": "scilab",
		   "version": "0.7.1"
		  }
		 },
		 "nbformat": 4,
		 "nbformat_minor": 0
}
