{
"cells": [
 {
		   "cell_type": "markdown",
	   "metadata": {},
	   "source": [
       "# Chapter 3: The Bipolar Junction Transistor"
	   ]
	},
{
		   "cell_type": "markdown",
		   "metadata": {},
		   "source": [
			"## Example 3.10: Calculate_the_currents_output_voltage_and_power_dissipation.sce"
		   ]
		  },
  {
"cell_type": "code",
	   "execution_count": null,
	   "metadata": {
	    "collapsed": true
	   },
	   "outputs": [],
"source": [
"clear;\n",
"clc;\n",
"//Example 3.10\n",
"Rb=0.24;\n",
"Vcc=12;\n",
"Vbe=0.7;\n",
"Vce=0.1;\n",
"b=75;\n",
"Rc=5;//Ohm\n",
"//for Vt=0 ,transistor is cut off,Ib=Ic=0,Vo=Vcc=12 V,power dissipation is zero\n",
"Vt=12;//(V)\n",
"Ib=(Vt-Vbe)/Rb;\n",
"printf('\nbase current=%0.3f mA\n',Ib)\n",
"Ic=(Vcc-Vce)/Rc;\n",
"printf('\ncollector current=%0.2f A\n',Ic)\n",
"Ib=0.0471;//A\n",
"x=Ic/Ib\n",
"//since Ic/Ib<b transistor is in saturation\n",
"//Vo==Vcc;\n",
"Vo=0.1;\n",
"printf('\noutput voltage=%0.2f V\n',Vo)\n",
"P=Ic*Vce+Ib*Vbe;\n",
"printf('\npower dissipation=%0.3f W\n',P)"
   ]
   }
,
{
		   "cell_type": "markdown",
		   "metadata": {},
		   "source": [
			"## Example 3.13: Design_the_circuit.sce"
		   ]
		  },
  {
"cell_type": "code",
	   "execution_count": null,
	   "metadata": {
	    "collapsed": true
	   },
	   "outputs": [],
"source": [
"clear;\n",
"clc;\n",
"//Example 3.13\n",
"b=100;\n",
"Vcc=12;\n",
"Vbe=0.7;\n",
"Icq=1;//mA\n",
"Vceq=6;\n",
"Rc=(Vcc-Vceq)/Icq;\n",
"printf('\ncollector resistance=%.3f KOhms\n',Rc)\n",
"Ibq=Icq/b;\n",
"printf('\nbase current=%0.3f mA\n',Ibq)\n",
"Rb=(Vcc-Vbe)/Ibq;\n",
"printf('\nbase resistance=%.3f KOhms\n',Rb)"
   ]
   }
,
{
		   "cell_type": "markdown",
		   "metadata": {},
		   "source": [
			"## Example 3.14: EX3_14.sce"
		   ]
		  },
  {
"cell_type": "code",
	   "execution_count": null,
	   "metadata": {
	    "collapsed": true
	   },
	   "outputs": [],
"source": [
"clear;\n",
"clc;\n",
"//Example 3.14\n",
"R1=56;\n",
"R2=12.2;\n",
"Rc=2;\n",
"Re=.4;\n",
"Vcc=10;\n",
"Vbe=0.7;\n",
"b=100;\n",
"//fig.3.53(b)\n",
"Rth=R2*R1/(R1+R2);\n",
"printf('\nThevenin rquivalent resistance=%0.1f KOhm\n',Rth)\n",
"Vth=(R2/(R1+R2))*Vcc;\n",
"printf('\nThevenin equivalent voltage=%0.2f V\n',Vth)\n",
"Ibq=(Vth-Vbe)/(Rth+(1+b)*Re);\n",
"printf('\nbase current=%f mA\n',Ibq)\n",
"Icq=b*Ibq;\n",
"printf('\ncollector current=%.3f mA\n',Icq)\n",
"Ieq=(1+b)*Ibq;\n",
"printf('\nemitter current=%.2f mA\n',Ieq)\n",
"Vceq=Vcc-Icq*Rc-Ieq*Re;\n",
"printf('\ncollector emitter voltage=%.3f V\n',Vceq)\n",
"b=[50,100,150]\n",
"for x=b\n",
"Ibq=(Vth-Vbe)/(Rth+(1+x)*Re);\n",
"disp('Ibeq,Iceq,Ieq,Vceq')\n",
"disp(Ibq)\n",
"Icq=x*Ibq;\n",
"disp(Icq)\n",
"Ieq=(1+x)*Ibq;\n",
"disp(Ieq)\n",
"Vceq=Vcc-Icq*Rc-Ieq*Re;\n",
"disp(Vceq)\n",
"disp('')\n",
"end"
   ]
   }
,
{
		   "cell_type": "markdown",
		   "metadata": {},
		   "source": [
			"## Example 3.15: Design_a_bias_stable_circuit.sce"
		   ]
		  },
  {
"cell_type": "code",
	   "execution_count": null,
	   "metadata": {
	    "collapsed": true
	   },
	   "outputs": [],
"source": [
"clear;\n",
"clc;\n",
"//Example 3.15\n",
"Vcc=5;\n",
"Rc=1;//KOhm\n",
"Vbe=0.7;\n",
"b=120;\n",
"Vceq=3;\n",
"Re=.510;\n",
"Icq=(Vcc-Vceq)/(Rc+Re);\n",
"printf('\ncollector current=%.3f mA\n',Icq)\n",
"Ibq=Icq/b;\n",
"printf('\nbase current=%0.3f mA\n',Ibq)\n",
"//for bias stable circuit\n",
"Rth=0.1*(1+b)*Re;\n",
"printf('\nThevenin rquivalent resistance=%.1f KOhm\n',Rth)\n",
"//Ibq=(Vth-Vbe)/(Rth+(1+b)*Re)\n",
"Vth=Ibq*(Rth+(1+b)*Re)+Vbe;\n",
"printf('\nThevenin equivalent voltage=%.2f V\n',Vth)\n",
"//Vth=(R2/(R1+R2))*Vcc\n",
"//let x=(R2/(R1+R2))\n",
"x=Vth/Vcc\n",
"//Rth=6050=R1*x\n",
"R1=6.05/x;\n",
"printf('\nR1=%.1f KOhms\n',R1)\n",
"R2=x*R1/(1-x);\n",
"printf('\nR2=%.1f KOhms\',R2)"
   ]
   }
,
{
		   "cell_type": "markdown",
		   "metadata": {},
		   "source": [
			"## Example 3.16: Determine_the_currents_in_a_two_transistor_current_source.sce"
		   ]
		  },
  {
"cell_type": "code",
	   "execution_count": null,
	   "metadata": {
	    "collapsed": true
	   },
	   "outputs": [],
"source": [
"clear;\n",
"clc;\n",
"//Example 3.16\n",
"R1=10;\n",
"b=50;\n",
"Vbe=0.7;\n",
"V1=-5;\n",
"I1=-(V1+Vbe)/R1;\n",
"printf('\nreference current=%.3f mA\n',I1)\n",
"Iq=I1/(1+2/b);\n",
"printf('\nbias current=%.3f mA\n',Iq)\n",
"//Ib=Ib1=Ib2\n",
"Ib=Iq/b;\n",
"printf('\nbase current=%f mA\n',Ib)"
   ]
   }
,
{
		   "cell_type": "markdown",
		   "metadata": {},
		   "source": [
			"## Example 3.17: EX3_17.sce"
		   ]
		  },
  {
"cell_type": "code",
	   "execution_count": null,
	   "metadata": {
	    "collapsed": true
	   },
	   "outputs": [],
"source": [
"clear;\n",
"clc;\n",
"//Example 3.17\n",
"Vbe=0.7;\n",
"Vcc=10;\n",
"V2=5;\n",
"b=100;\n",
"R1=100;\n",
"R2=50;\n",
"Re1=2;\n",
"Rth=R2*R1/(R1+R2);\n",
"printf('\nThevenin rquivalent resistance=%.1f KOhm\n',Rth)\n",
"Vth=(R2/(R1+R2))*Vcc-V2;\n",
"printf('\nThevenin equivalent voltage=%.2f V\n',Vth)\n",
"//Vth=Ib1*Rth+Vbe+Ie1*Re1-5 and Ie1=(1+b)*Ib1\n",
"Ib1=(Vth+5-Vbe)/(Rth+(1+b)*Re1);\n",
"printf('\nIb1=%.3f mA\n',Ib1)\n",
"Ic1=b*Ib1;\n",
"printf('\nIc1=%.3f mA\n',Ic1)\n",
"Ie1=(1+b)*Ib1;\n",
"printf('\nIe1=%.3f mA\n',Ie1)\n",
"//summing the currents at the collector of Q1,Ir1+Ib2=Ic1\n",
"//(5-Vc1)/Rc1+Ib2=Ic1\n",
"//also Ib2=Ie2/(1+b)=(5-(Vc1+0.7))/(1+b)*Re2\n",
"Rc1=5;\n",
"Re1=2;\n",
"Re2=2;\n",
"Rc2=1.5;\n",
"Vc1=Rc1*(1+b)*Re2*((5/Rc1)+(4.3/((1+b)*Re2))-Ic1)/(((1+b)*Re2)+Rc1);\n",
"printf('\nVc1=%.2f V\n',Vc1)\n",
"Ir1=(5-Vc1)/Rc1;\n",
"printf('\nIr1=%.3f mA\n',Ir1)\n",
"Ve2=Vc1+Vbe;\n",
"printf('\nVe2=%.2f V\n',Ve2)\n",
"Ie2=(5-Ve2)/Re1;\n",
"printf('\nIe2=%.3f mA\n',Ie2)\n",
"Ic2=Ie2*b/(1+b);\n",
"printf('\nIc2=%.3f mA\n',Ic2)\n",
"Ib2=Ie2/(1+b);\n",
"printf('\nIb2=%f mA\n',Ib2)\n",
"Ve1=Ie1*Re1-5;\n",
"printf('\nVe1=%.2f V\n',Ve1)\n",
"Vc2=Ic2*Rc2-5;\n",
"printf('\nVc2=%.2f V\n',Vc2)\n",
"Vce1=Vc1-Ve1;\n",
"printf('\nVce1=%.2f V\n',Vce1)\n",
"Vec2=Ve2-Vc2;\n",
"printf('\nVec2=%.2f V\n',Vec2)"
   ]
   }
,
{
		   "cell_type": "markdown",
		   "metadata": {},
		   "source": [
			"## Example 3.1: Calculate_the_collector_and_emitter_currents.sce"
		   ]
		  },
  {
"cell_type": "code",
	   "execution_count": null,
	   "metadata": {
	    "collapsed": true
	   },
	   "outputs": [],
"source": [
"clear;\n",
"clc;\n",
"//Example 3.1\n",
"//let beta be 'b'\n",
"b=150;//common emitter current gain\n",
"iB=15*10^-3;//(mA) base current\n",
"//assume transistor biased in forward active mode\n",
"iC=b*iB;\n",
"printf('\ncollector current=%.2f mA\n',iC)\n",
"iE=(1+b)*iB;\n",
"printf('\nemitter current=%.2f mA\n',iE)\n",
"a=b/(1+b);\n",
"printf('\ncommon base current gain=%.3f\n',a)"
   ]
   }
,
{
		   "cell_type": "markdown",
		   "metadata": {},
		   "source": [
			"## Example 3.2: Calculate_the_breakdown_voltage_of_a_transistor.sce"
		   ]
		  },
  {
"cell_type": "code",
	   "execution_count": null,
	   "metadata": {
	    "collapsed": true
	   },
	   "outputs": [],
"source": [
"clear;\n",
"clc;\n",
"//Example 3.2\n",
"b=100;//common emitter current gain\n",
"BVcbo=120;//(V) break down voltage of the B-C junction\n",
"n=3;//empirical constant\n",
"BVceo=BVcbo/(b)^(1/n);\n",
"printf('\nbreakdown voltage=%.2f V\n',BVceo)"
   ]
   }
,
{
		   "cell_type": "markdown",
		   "metadata": {},
		   "source": [
			"## Example 3.3: EX3_3.sce"
		   ]
		  },
  {
"cell_type": "code",
	   "execution_count": null,
	   "metadata": {
	    "collapsed": true
	   },
	   "outputs": [],
"source": [
"clear;\n",
"clc;\n",
"//Example 3.3\n",
"Vbb=4;//(V)\n",
"Rb=220//(KOhm);\n",
"Rc=2;//(KOhm)\n",
"Vcc=10;//(V)\n",
"Vbe=0.7;//(V)\n",
"b=200;\n",
"//from fig.3.19(b)\n",
"Ib=(Vbb-Vbe)/Rb;\n",
"printf('\nbase current=%.3f mA\n',Ib)\n",
"Ic=b*Ib;\n",
"printf('\ncollector current=%.2f mA\n',Ic)\n",
"Ie=(1+b)*Ib;\n",
"printf('\nemitter current=%.2f mA\n',Ie)\n",
"Vce=Vcc-Ic*Rc;\n",
"printf('\ncollector emitter voltage=%.1f V\n',Vce)"
   ]
   }
,
{
		   "cell_type": "markdown",
		   "metadata": {},
		   "source": [
			"## Example 3.4: Analyse_the_common_emitter_circuit_with_pnp_transistor.sce"
		   ]
		  },
  {
"cell_type": "code",
	   "execution_count": null,
	   "metadata": {
	    "collapsed": true
	   },
	   "outputs": [],
"source": [
"clear;\n",
"clc;\n",
"//Example 3.4\n",
"Vbb=1.5;//(V)\n",
"Rb=580;//(KOhm)\n",
"Veb=0.6;//(V)\n",
"Vcc=5;//(V)\n",
"b=100;\n",
"//writing Kirchhoff voltage law equation around E-B loop\n",
"Ib=(Vcc-Veb-Vbb)/Rb;\n",
"printf('\nbase current=%.3f mA\n',Ib)\n",
"Ic=b*Ib;\n",
"printf('\ncollector current=%.2f mA\n',Ic)\n",
"Ie=(1+b)*Ib;\n",
"printf('\nemitter current=%.3f mA\n',Ie)\n",
"Vec=(1/2)*Vcc;\n",
"printf('\nce voltage=%.2f V\n',Vec)\n",
"Rc=(Vcc-Vec)/Ic;\n",
"printf('\ncollector resistance=%.f KOhm\n',Rc)"
   ]
   }
,
{
		   "cell_type": "markdown",
		   "metadata": {},
		   "source": [
			"## Example 3.5: Calculate_the_currents_and_voltages_in_a_circuit.sce"
		   ]
		  },
  {
"cell_type": "code",
	   "execution_count": null,
	   "metadata": {
	    "collapsed": true
	   },
	   "outputs": [],
"source": [
"clear;\n",
"clc;\n",
"//Example 3.5\n",
"b=100;\n",
"Vbe=0.7;//(V)\n",
"Vce=0.2;//(V)\n",
"Vbb=8;//(v)\n",
"Rb=220;//(KOhm)\n",
"Ib=(Vbb-Vbe)/Rb\n",
"printf('\nbase current=%f mA\n',Ib)\n",
"//transistor in active region\n",
"Ic=b*Ib;\n",
"printf('\ncollector current=%.3f mA\n',Ic)\n",
"Vcc=10;//(V)\n",
"Rc=4;//(KOhm)\n",
"Vce=Vcc-Ic*Rc;\n",
"printf('\ncollector emitter voltage=%.2f V\n',Vce)\n",
"//saturation\n",
"Vce=0.2;//(V)\n",
"Ic=(Vcc-Vce)/Rc;\n",
"printf('\nsaturation collector current=%.2f mA\n',Ic)\n",
"x=Ic/Ib\n",
"//which is <b\n",
"Ie=Ic+Ib;\n",
"printf('\nemitter current=%f mA\n',Ie)"
   ]
   }
,
{
		   "cell_type": "markdown",
		   "metadata": {},
		   "source": [
			"## Example 3.6: Calculate_the_characteristics_of_a_circuit_containing_an_emitter_resistor.sce"
		   ]
		  },
  {
"cell_type": "code",
	   "execution_count": null,
	   "metadata": {
	    "collapsed": true
	   },
	   "outputs": [],
"source": [
"clear;\n",
"clc;\n",
"//Example 3.6\n",
"Vbe=0.7;\n",
"b=75;\n",
"//Q point values::\n",
"//using KVL eq around the B-E loop\n",
"//Vbb=Ib*Re+Vbe+Ie*Re\n",
"//assuming transistor is in forward biased mode we can write Ie=(1+b)*Ib\n",
"Vbb=6;\n",
"Rb=25;//KOhm\n",
"Re=0.6;//KOhm\n",
"Ib=(Vbb-Vbe)/(Rb+(1+b)*Re);\n",
"printf('\nbase current=%f mA\n',Ib)\n",
"Ic=b*Ib;\n",
"printf('\ncollector current=%0.2f mA\n',Ic)\n",
"Ie=(1+b)*Ib;\n",
"printf('\nemitter current=%0.2f mA\n',Ie)\n",
"Vcc=12;\n",
"Rc=0.4;\n",
"Vce=Vcc-Ic*Rc-Ie*Re;\n",
"printf('\ncollector emitter voltage=%0.2f V\n',Vce)\n",
"//load line::\n",
"//using KVL law around C-E loop\n",
"//Vce=Vcc-(Ic*(Rc+((1+B)/B)*Re));\n",
"Ic=[0,12,5.63]\n",
"Vce=12-Ic*1;\n",
"xset('window',1)\n",
"plot2d(Vce,Ic,style=3)\n",
"title('load line')\n",
"xlabel('Vce')\n",
"ylabel('Ic')"
   ]
   }
,
{
		   "cell_type": "markdown",
		   "metadata": {},
		   "source": [
			"## Example 3.7: Calculate_the_characteristics_of_a_circuit.sce"
		   ]
		  },
  {
"cell_type": "code",
	   "execution_count": null,
	   "metadata": {
	    "collapsed": true
	   },
	   "outputs": [],
"source": [
"clear;\n",
"clc;\n",
"//Example 3.7\n",
"Vbe=0.65;\n",
"Vcc=5;\n",
"Rc=0.5;//KOhm\n",
"b=100;\n",
"V1=-5;\n",
"Re=1;//KOhm\n",
"// Q-point values :: writing KVL eq around B-E loop\n",
"Ie=(-V1-Vbe)/Re;\n",
"printf('\nemitter current=%.2f mA\n',Ie)\n",
"Ib=(Ie/(1+b));\n",
"printf('\nbase current=%f mA\n',Ib)\n",
"Ic=(b/(1+b))*Ie;\n",
"printf('\ncollector current=%0.2f mA\n',Ic)\n",
"Vce=Vcc-Ic*Rc-Ie*Re-V1;\n",
"printf('\ncollector emitter voltage=%f V\n',Vce)\n",
"//load line::\n",
"//Vce=Vcc-V1-(Ic*(Rc+((1+B)/B)*Re));\n",
"Vce=[0,2,,3.5,4,6,8,10]\n",
"Ic=(10-Vce)/1.51;\n",
"xset('window',1)\n",
"plot2d(Vce,Ic,style=3,rect=[0,0,10,8])\n",
"title('load line')\n",
"xlabel('Vce')\n",
"ylabel('Ic')"
   ]
   }
,
{
		   "cell_type": "markdown",
		   "metadata": {},
		   "source": [
			"## Example 3.9: Calculate_the_characteristics_of_an_npn_bipolar_circuit.sce"
		   ]
		  },
  {
"cell_type": "code",
	   "execution_count": null,
	   "metadata": {
	    "collapsed": true
	   },
	   "outputs": [],
"source": [
"clear;\n",
"clc;\n",
"//Example 3.9\n",
"b=100;\n",
"Vbe=0.7;\n",
"V1=-5;\n",
"V2=12;\n",
"Rb=10;\n",
"Re=5;\n",
"Rc=5;\n",
"Rl=5;\n",
"//Q point values:: using KVL eq around B-E loop\n",
"Ib=-(V1+Vbe)/(Rb+(1+b)*Re);\n",
"printf('\nbase current=%f mA\n',Ib)\n",
"Ic=b*Ib;\n",
"printf('\ncollector current=%f mA\n',Ic)\n",
"Ie=(1+b)*Ib;\n",
"printf('\nemitter current=%f mA\n',Ie)\n",
"//at collector node we can write Ic=(V2-Vo)/Rc-Vo/Rl\n",
"Vo=(V2/Rc-Ic)*Rc*Rl/(Rc+Rl);\n",
"printf('\noutput voltage=%0.3f V\n',Vo)\n",
"Vce=Vo-Ie*Re-V1;\n",
"printf('\ncollector emitter voltage=%f V\n',Vce)\n",
"//load line::\n",
"Rth=Rl*Rc/(Rl+Rc);\n",
"printf('\nThevenin rquivalent resistance=%f KOhm\n',Rth)\n",
"Vth=(Rl/(Rl+Rc))*V2;\n",
"printf('\nThevenin equivalent voltage=%f V\n',Vth)\n",
"//fig.3.36(c) KVL law\n",
"//Vce=6-V1-Ic*Rth-Ie*Re;\n",
"Vce=[0,2,4.7,3.5,4,6,8,10]\n",
"Ic=(11-Vce)/7.5;\n",
"xset('window',1)\n",
"plot2d(Vce,Ic,style=3,rect=[0,0,12,2])\n",
"title('load line')\n",
"xlabel('Vce')\n",
"ylabel('Ic')"
   ]
   }
],
"metadata": {
		  "kernelspec": {
		   "display_name": "Scilab",
		   "language": "scilab",
		   "name": "scilab"
		  },
		  "language_info": {
		   "file_extension": ".sce",
		   "help_links": [
			{
			 "text": "MetaKernel Magics",
			 "url": "https://github.com/calysto/metakernel/blob/master/metakernel/magics/README.md"
			}
		   ],
		   "mimetype": "text/x-octave",
		   "name": "scilab",
		   "version": "0.7.1"
		  }
		 },
		 "nbformat": 4,
		 "nbformat_minor": 0
}
