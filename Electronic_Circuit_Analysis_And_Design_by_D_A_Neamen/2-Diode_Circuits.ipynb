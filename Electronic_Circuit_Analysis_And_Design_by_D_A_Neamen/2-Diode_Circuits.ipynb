{
"cells": [
 {
		   "cell_type": "markdown",
	   "metadata": {},
	   "source": [
       "# Chapter 2: Diode Circuits"
	   ]
	},
{
		   "cell_type": "markdown",
		   "metadata": {},
		   "source": [
			"## Example 2.10: Calculate_the_photocurrent_generated_in_a_photodiode.sce"
		   ]
		  },
  {
"cell_type": "code",
	   "execution_count": null,
	   "metadata": {
	    "collapsed": true
	   },
	   "outputs": [],
"source": [
"clear;\n",
"clc;\n",
"//Example 2.10\n",
"n=1;//quantum efficiency\n",
"A=10^-2;//cm^2 junction area\n",
"p=5*10^17;//(cm^-2-s^-1) incident photon flux\n",
"e=1.6*10^-16;//charge of an electron\n",
"Iph=n*e*p*A;\n",
"printf('\nphotocurrent=%0.1f mA\n',Iph)"
   ]
   }
,
{
		   "cell_type": "markdown",
		   "metadata": {},
		   "source": [
			"## Example 2.11: Determine_the_value_of_R_required_to_limit_the_current_in_circuit.sce"
		   ]
		  },
  {
"cell_type": "code",
	   "execution_count": null,
	   "metadata": {
	    "collapsed": true
	   },
	   "outputs": [],
"source": [
"clear;\n",
"clc;\n",
"//Example 2.11\n",
"I=0.01;//(A) diode current\n",
"V_Y=1.7;//(V) forward bias voltage drop\n",
"Vt=0.2;//(V)\n",
"R=(5-V_Y-Vt)/I;\n",
"printf('\nresistance=%0.1f Ohm',R)"
   ]
   }
,
{
		   "cell_type": "markdown",
		   "metadata": {},
		   "source": [
			"## Example 2.1: EX2_1.sce"
		   ]
		  },
  {
"cell_type": "code",
	   "execution_count": null,
	   "metadata": {
	    "collapsed": true
	   },
	   "outputs": [],
"source": [
"clear;\n",
"clc;\n",
"//Example 2.1\n",
"v_I=120;//(V)rms primary input  \n",
"v_o=9;//(V)peak output voltage\n",
"V_Y=0.7;//(V)diode cut in voltage\n",
"//for center-tapped transformer circuit in fig.2.6(a)\n",
"v_S=v_o+V_Y//(V)peak value of secondary voltage\n",
"printf('\npeak value of secondary voltage=%.2f V\n',v_S)\n",
"v_S_rms=v_S/sqrt(2)//for a sinusoidal signal rms value of v_S\n",
"printf('\nrms value of v_S=%.2f V\n',v_S_rms)\n",
"//let turns ratio of the primary to secondary winding be x=N1/N2\n",
"x=v_I/v_S_rms;\n",
"printf('\nturns ratio=%f \n',x)\n",
"//for the bridge circuit in fig.2.7(a)\n",
"v_Sb=v_o+2*V_Y;//(V)peak value of secondary voltage\n",
"printf('\npeak value of secondary voltage=%.2f V\n',v_Sb)\n",
"v_S_rms=v_Sb/sqrt(2);//for a sinusoidal signal rms value of v_S\n",
"printf('\nrms value of v_S=%f V\n',v_S_rms)\n",
"//let turns ratio of the primary to secondary winding be x=N1/N2\n",
"x=v_I/v_S_rms;\n",
"printf('\nturns ratio=%f\n',x)\n",
"//for center tapped rectifier\n",
"PIV=2*v_S-V_Y;\n",
"printf('\npeak inverse voltage of a diode=%f V\n',PIV)\n",
"//for the bridge rectifier peak inverse voltage of a diode\n",
"PIV=v_Sb-V_Y;\n",
"printf('\npeak inverse voltage of a diode=%.2f V\n',PIV)\n",
"//advantage of bridge rectifier over center tapped rectifier is it requies only half of the turns"
   ]
   }
,
{
		   "cell_type": "markdown",
		   "metadata": {},
		   "source": [
			"## Example 2.2: Determine_the_capacitance_required_to_yield_a_particular_ripple_voltage.sce"
		   ]
		  },
  {
"cell_type": "code",
	   "execution_count": null,
	   "metadata": {
	    "collapsed": true
	   },
	   "outputs": [],
"source": [
"clear;\n",
"clc;\n",
"//Example 2.2\n",
"//full wave rectifier circuit with 60Hz input signal\n",
"V_M=10;//(V)peak output voltage\n",
"R=0.01;//(MOhm)output load resistance\n",
"f=60;//Hz\n",
"V_r=0.2;//(V)ripple voltage\n",
"C=V_M/(2*f*R*V_r);//capacitance\n",
"printf('\ncapacitance=%f microF\n',C)"
   ]
   }
,
{
		   "cell_type": "markdown",
		   "metadata": {},
		   "source": [
			"## Example 2.3: Design_a_full_wave_rectifier.sce"
		   ]
		  },
  {
"cell_type": "code",
	   "execution_count": null,
	   "metadata": {
	    "collapsed": true
	   },
	   "outputs": [],
"source": [
"clear;\n",
"clc;\n",
"//Example 2.3\n",
"V_O=12;//(V)peak output voltage\n",
"I_L=0.12;//(A)current delivered to the load\n",
"R=V_O/I_L;\n",
"printf('\neffective load resistance=%.2f Ohm\n',R)\n",
"V_Y=0.7;//(V)diode cut in voltage\n",
"v_S=V_O+2*V_Y;\n",
"printf('\npeak value of v_S=%.2f V\n',v_S)\n",
"v_Srms=v_S/sqrt(2);\n",
"printf('\nrms voltage=%.2f V\n',v_Srms)\n",
"//let x=N1/N2\n",
"Vin=120;//(V)input line voltage\n",
"x=Vin/v_Srms;\n",
"printf('\nturns ratio=%.2f \n',x)\n",
"VM=12;//(V)\n",
"Vr=5/100*VM;\n",
"printf('\nripple voltage=%.2f V\n',Vr)\n",
"f=60;//(Hz) input frequency\n",
"C=VM/(2*R*Vr*f);\n",
"printf('\nfilter capacitance=%f F\n',C)\n",
"i_Dmax=(VM/R)*(1+2*%pi*sqrt(VM/(2*Vr)));\n",
"printf('\npeak diode current=%.2f A\n',i_Dmax)\n",
"R=0.1;//Kohm\n",
"i_Davg=(1/(2*%pi))*sqrt(2*Vr/VM)*((VM/R)*(1+%pi*sqrt(VM/(2*Vr))));\n",
"printf('\naverage diode current=%f mA\n',i_Davg)\n",
"PIV=v_S-V_Y;\n",
"printf('\npeak inverse voltage=%.2f V\n',PIV)"
   ]
   }
,
{
		   "cell_type": "markdown",
		   "metadata": {},
		   "source": [
			"## Example 2.5: Determine_the_percent_regulation_of_a_voltage_regulator.sce"
		   ]
		  },
  {
"cell_type": "code",
	   "execution_count": null,
	   "metadata": {
	    "collapsed": true
	   },
	   "outputs": [],
"source": [
"clear;\n",
"clc;\n",
"//Example 2.5\n",
"rZ=4;//(Ohm) Zener resistance\n",
"V_Lnom=9;//(V) nominal output voltage\n",
"Izmax=0.3;//(A) maximum zener diode current\n",
"Izmin=0.03;//(A) minimum zener diode current\n",
"V_Lmax=V_Lnom+Izmax*rZ\n",
"V_Lmin=V_Lnom+Izmin*rZ\n",
"//percent regulation R\n",
"R=((V_Lmax-V_Lmin)/V_Lnom)*100;\n",
"printf('\npercent regulation=%0.1f \n',R)"
   ]
   }
,
{
		   "cell_type": "markdown",
		   "metadata": {},
		   "source": [
			"## Example 2.8: Determine_the_output_voltage_and_diode_currents.sce"
		   ]
		  },
  {
"cell_type": "code",
	   "execution_count": null,
	   "metadata": {
	    "collapsed": true
	   },
	   "outputs": [],
"source": [
"clear;\n",
"clc;\n",
"//Example 2.8\n",
"R1=5;R2=10;//(KOhm) \n",
"V_Y=0.7;//(V)diode cut in voltage\n",
"V1=5;V2=-5;//(V)\n",
"vt=0;//(V)\n",
"//asssuming initially diode D1 is off\n",
"//iR1=iD2=iR2=V1-V2-V_Y/(R1+R2)\n",
"iD2=(V1-V2-V_Y)/(R1+R2);\n",
"printf('\ndiode current=%0.2f mA\n',iD2)\n",
"iR1=iD2;\n",
"vo=V1-iR1*R1;\n",
"printf('\noutput voltage=%0.2f V\n',vo)\n",
"v=vo-V_Y;//v=v'\n",
"printf('\nVoltage=%0.1f V\n',v)\n",
"vt=4;//(V)fig.2.33\n",
"//both D1 and D2 are on\n",
"vo==vt;\n",
"vo=4;\n",
"iD2=(V1-vo)/R1;\n",
"printf('\ndiode current=%.2f mA\n',iD2)\n",
"iR1==iD2;\n",
"v=vo-V_Y;\n",
"printf('\nV=%.2f V\n',v)\n",
"iR2=(v-V2)/R2;\n",
"printf('\niR2=%.2f mA\n',iR2)\n",
"iD1=iR2-iD2;\n",
"printf('\ncurrent through D1=%.2f mA\n',iD1)"
   ]
   }
],
"metadata": {
		  "kernelspec": {
		   "display_name": "Scilab",
		   "language": "scilab",
		   "name": "scilab"
		  },
		  "language_info": {
		   "file_extension": ".sce",
		   "help_links": [
			{
			 "text": "MetaKernel Magics",
			 "url": "https://github.com/calysto/metakernel/blob/master/metakernel/magics/README.md"
			}
		   ],
		   "mimetype": "text/x-octave",
		   "name": "scilab",
		   "version": "0.7.1"
		  }
		 },
		 "nbformat": 4,
		 "nbformat_minor": 0
}
