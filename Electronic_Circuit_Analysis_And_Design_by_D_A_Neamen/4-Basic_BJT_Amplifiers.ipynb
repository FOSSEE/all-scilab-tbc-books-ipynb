{
"cells": [
 {
		   "cell_type": "markdown",
	   "metadata": {},
	   "source": [
       "# Chapter 4: Basic BJT Amplifiers"
	   ]
	},
{
		   "cell_type": "markdown",
		   "metadata": {},
		   "source": [
			"## Example 4.10: Calculate_the_small_signal_voltage_gain_of_an_emitter_circuit.sce"
		   ]
		  },
  {
"cell_type": "code",
	   "execution_count": null,
	   "metadata": {
	    "collapsed": true
	   },
	   "outputs": [],
"source": [
"clear;\n",
"clc;\n",
"//Example 4.10\n",
"b=100;\n",
"Vbe=0.7;\n",
"V_T=0.026;//(V)\n",
"Re=2;\n",
"R1=50;\n",
"R2=50;\n",
"Rs=0.5;\n",
"Va=80;\n",
"//by dc analysis\n",
"Icq=0.793;\n",
"Vceq=3.4;\n",
"r_pi=b*V_T/Icq;\n",
"printf('\nsmall signal resistance=%.3f KOhm\n',r_pi)\n",
"g_m=Icq/V_T;\n",
"printf('\ntransconductance=%.3f mA/V\n',g_m)\n",
"ro=Va/Icq;\n",
"printf('\nsmall signal output resistance=%.2f KOhm\n',ro)\n",
"Rib=r_pi+(1+b)*Re*ro/(ro+Re);\n",
"printf('\ninput resistance to the base=%.2f KOhm\n',Rib)\n",
"//Ri=R1||R2||Rib\n",
"x=R1*R2/(R1+R2);\n",
"Ri=x*Rib/(x+Rib);\n",
"printf('\nRi=%.2f KOhm\n',Ri)\n",
"y=ro*Re/(ro+Re);\n",
"Av=(1/(r_pi+(1+b)*y))*(1+b)*y*Ri/(Ri+Rs);\n",
"printf('\nsmall signal voltage gain=%.3f \n',Av)"
   ]
   }
,
{
		   "cell_type": "markdown",
		   "metadata": {},
		   "source": [
			"## Example 4.1: Calculate_the_small_signal_voltage_gain_of_a_bipolar_transistor.sce"
		   ]
		  },
  {
"cell_type": "code",
	   "execution_count": null,
	   "metadata": {
	    "collapsed": true
	   },
	   "outputs": [],
"source": [
"clear;\n",
"clc;\n",
"//Example 4.1\n",
"b=100;\n",
"Vcc=12;\n",
"Vbe=0.7;\n",
"Rc=6;\n",
"Rb=50;\n",
"Vbb=1.2;\n",
"//dc solution\n",
"Ibq=(Vbb-Vbe)/Rb;\n",
"printf('\nbase current=%.3f mA\n',Ibq)\n",
"Icq=b*Ibq;\n",
"printf('\ncollector current=%.3f mA\n',Icq)\n",
"Vceq=Vcc-Icq*Rc;\n",
"printf('\ncollector emitter voltage=%.2f V\n',Vceq)\n",
"//transistor is forward biased\n",
"//ac solution \n",
"V_T=0.026;//(V)\n",
"//small signal hybrid pi parameters\n",
"r_pi=b*V_T/Icq;\n",
"printf('\nsmall signal resistance=%.1f KOhm\n',r_pi)\n",
"g_m=Icq/V_T;\n",
"printf('\ntransconductance=%.3f mA/V\n',g_m)\n",
"//Av=Vo/Vs=-(g_m*Rc)*r_pi/(r_pi+Rb)\n",
"Av=-(g_m*Rc)*r_pi/(r_pi+Rb);\n",
"printf('\nsmall signal voltage gain=%.3f\n',Av)"
   ]
   }
,
{
		   "cell_type": "markdown",
		   "metadata": {},
		   "source": [
			"## Example 4.2: Determine_the_small_signal_voltage_gain.sce"
		   ]
		  },
  {
"cell_type": "code",
	   "execution_count": null,
	   "metadata": {
	    "collapsed": true
	   },
	   "outputs": [],
"source": [
"clear;\n",
"clc;\n",
"//Example 4.2\n",
"V_pi=50;//(V)\n",
"Icq=1;//(mA)\n",
"ro=V_pi/Icq;\n",
"printf('\nsmall signal output resistance=%.1f KOhm\n',ro)\n",
"Rc=6;\n",
"g_m=38.5;\n",
"r_pi=2.6;\n",
"Rb=50;\n",
"Av=-(g_m)*(Rc*ro/(Rc+ro))*r_pi/(r_pi+Rb);\n",
"printf('\nsmall signal voltage gain=%.2f \n',Av)"
   ]
   }
,
{
		   "cell_type": "markdown",
		   "metadata": {},
		   "source": [
			"## Example 4.4: Determine_the_small_signal_voltage_gain.sce"
		   ]
		  },
  {
"cell_type": "code",
	   "execution_count": null,
	   "metadata": {
	    "collapsed": true
	   },
	   "outputs": [],
"source": [
"clear;\n",
"clc;\n",
"//Example 4.4\n",
"b=100;\n",
"Vbe=0.7;\n",
"Va=100;\n",
"V_T=0.026;//(V)\n",
"//from dc analysis\n",
"Icq=0.95;\n",
"Vceq=6.31;\n",
"//ac analysis\n",
"r_pi=b*V_T/Icq;\n",
"printf('\nsmall signal resistance=%.2f KOhm\n',r_pi)\n",
"g_m=Icq/V_T;\n",
"printf('\ntransconductance=%.3f mA/V\n',g_m)\n",
"Rs=0.5;\n",
"Rc=6;\n",
"ro=Va/Icq;\n",
"printf('\nro=%.2f KOhm\n',ro)\n",
"Av=-g_m*(5.9*r_pi/(5.9+r_pi))/((5.9*r_pi/(r_pi+5.9))+Rs)*ro*Rc/(ro+Rc);\n",
"printf('\nsmall signal voltage gain=%.2f \n',Av)\n",
"Ri=5.9*r_pi/(r_pi+5.9);\n",
"printf('\ninput resistance=%.3f KOhm\n',Ri)\n",
"Ro=ro*Rc/(ro+Rc);\n",
"printf('\noutput resistance=%.2f KOhm\n',Ro)"
   ]
   }
,
{
		   "cell_type": "markdown",
		   "metadata": {},
		   "source": [
			"## Example 4.5: Determine_the_small_signal_voltage_gain_of_a_common_emitter_circuit.sce"
		   ]
		  },
  {
"cell_type": "code",
	   "execution_count": null,
	   "metadata": {
	    "collapsed": true
	   },
	   "outputs": [],
"source": [
"clear;\n",
"clc;\n",
"//Example 4.5\n",
"b=100;\n",
"Vbe=0.7;\n",
"Rc=2;\n",
"Rs=0.5;\n",
"Icq=2.16;\n",
"V_T=0.026;//(V)\n",
"Vceq=4.8\n",
"//ac solution\n",
"r_pi=b*V_T/Icq;\n",
"printf('\nsmall signal resistance=%.2f KOhm\n',r_pi)\n",
"g_m=Icq/V_T;\n",
"printf('\ntransconductance=%3f mA/V\n',g_m)\n",
"//since Va=infinity,ro=Va/Icq is also infinity\n",
"Re=0.4;\n",
"Rib=r_pi+(1+b)*Re;\n",
"printf('\ninput resistance to the base=%.2f KOhm\n',Rib)\n",
"//Ri=R1||R2||Rib\n",
"Ri=10*Rib/(10+Rib);\n",
"printf('\ninput resistance to the amplifier=%.3f KOhm\n',Ri)\n",
"Av=-(1/(r_pi+(1+b)*Re))*b*Rc*Ri/(Ri+Rs);\n",
"printf('\nsmall signal voltage gain=%.2f \n',Av)\n",
"//by approximate expression\n",
"Av=-Rc/Re;\n",
"printf('\nsmall signal voltage gain=%.3f \n',Av)"
   ]
   }
,
{
		   "cell_type": "markdown",
		   "metadata": {},
		   "source": [
			"## Example 4.7: Determine_the_small_signal_voltage_gain_of_a_common_emitter_circuit.sce"
		   ]
		  },
  {
"cell_type": "code",
	   "execution_count": null,
	   "metadata": {
	    "collapsed": true
	   },
	   "outputs": [],
"source": [
"clear;\n",
"clc;\n",
"//Example 4.7\n",
"Iq=0.5;\n",
"b=120;\n",
"Va=80;\n",
"V_T=0.026;//(V)\n",
"rc=120;//small signal collector resistance (KOhm)\n",
"//Icq=Iq\n",
"Icq=0.5;\n",
"g_m=Icq/V_T;\n",
"printf('\ntransconductance=%.3f mA/V\n',g_m)\n",
"ro=Va/Icq;\n",
"printf('\nsmall signal output resistance=%.2f KOhm\n',ro)\n",
"Av=-g_m*ro*rc/(ro+rc);\n",
"printf('\nsmall signal voltage gain=%.3f \n',Av)"
   ]
   }
,
{
		   "cell_type": "markdown",
		   "metadata": {},
		   "source": [
			"## Example 4.8: Determine_the_dc_and_ac_load_lines.sce"
		   ]
		  },
  {
"cell_type": "code",
	   "execution_count": null,
	   "metadata": {
	    "collapsed": true
	   },
	   "outputs": [],
"source": [
"clear;\n",
"clc;\n",
"//Example 4.8\n",
"b=150;Veb=0.7;\n",
"//dc solution\n",
"V2=10;\n",
"V1=-10;\n",
"V_T=0.026;//(V)\n",
"Rc=5;\n",
"Rb=50;\n",
"Re=10;\n",
"Ibq=(V2-Veb)/(Rb+(1+b)*Re);\n",
"printf('\nbase current=%f mA\n',Ibq)\n",
"Icq=b*Ibq;\n",
"printf('\ncollector current=%.3f mA\n',Icq)\n",
"Ieq=(1+b)*Ibq;\n",
"printf('\nemitter current=%.3f mA\n',Ieq)\n",
"Vecq=V2-V1-Icq*Rc-Ieq*Re;\n",
"printf('\nemitter collector voltage=%.2f V\n',Vecq)\n",
"//ac solution\n",
"r_pi=b*V_T/Icq;\n",
"printf('\nsmall signal resistance=%.1f KOhm\n',r_pi)\n",
"g_m=Icq/V_T;\n",
"printf('\ntransconductance =%.3fmA/V\n',g_m)\n",
"//since Va=infinity,ro=Va/Icq is also infinity"
   ]
   }
,
{
		   "cell_type": "markdown",
		   "metadata": {},
		   "source": [
			"## Example 4.9: Determine_the_maximum_symmetrical_swing.sce"
		   ]
		  },
  {
"cell_type": "code",
	   "execution_count": null,
	   "metadata": {
	    "collapsed": true
	   },
	   "outputs": [],
"source": [
"clear;\n",
"clc;\n",
"//Example 4.9\n",
"Ic=0.894;\n",
"i_C=2*Ic;\n",
"printf('\nmaximum possible symmetrical peak to peak ac collector current=%.3f mA\n',i_C)\n",
"Rc=5;\n",
"Rl=2;\n",
"vo=i_C*Rc*Rl/(Rc+Rl);\n",
"printf('\nmaximum possible symmetrical peak to peak output voltage=%.2f V\n',vo)\n",
"iC=Ic+i_C*1/2;\n",
"printf('\nmaximum instantaneous collector current=%.3f mA\n',iC)"
   ]
   }
],
"metadata": {
		  "kernelspec": {
		   "display_name": "Scilab",
		   "language": "scilab",
		   "name": "scilab"
		  },
		  "language_info": {
		   "file_extension": ".sce",
		   "help_links": [
			{
			 "text": "MetaKernel Magics",
			 "url": "https://github.com/calysto/metakernel/blob/master/metakernel/magics/README.md"
			}
		   ],
		   "mimetype": "text/x-octave",
		   "name": "scilab",
		   "version": "0.7.1"
		  }
		 },
		 "nbformat": 4,
		 "nbformat_minor": 0
}
