{
"cells": [
 {
		   "cell_type": "markdown",
	   "metadata": {},
	   "source": [
       "# Chapter 11: Differential and Multistage Amplifier"
	   ]
	},
{
		   "cell_type": "markdown",
		   "metadata": {},
		   "source": [
			"## Example 11.10: Calculate_the_dc_characteristics_of_a_MOSFET_diff_amp.sce"
		   ]
		  },
  {
"cell_type": "code",
	   "execution_count": null,
	   "metadata": {
	    "collapsed": true
	   },
	   "outputs": [],
"source": [
"clear;\n",
"clc;\n",
"//Example 11.10\n",
"Kn1=0.1;\n",
"Kn2=Kn1;\n",
"Kn3=0.1;\n",
"Kn4=Kn3;\n",
"R1=30;\n",
"Vtn=1;\n",
"Rd=16;\n",
"//I1=(20-Vgs4)/R1 and I1=Kn3*(Vgs4-Vtn)^2\n",
"Vgs4=poly(0,'Vgs4')\n",
"p=poly([-1 -17 9],'Vgs4','c')\n",
"printf('\nroots=%.2fV\n',roots(p))\n",
"Vgs4=2.40;\n",
"I1=(20-Vgs4)/R1;\n",
"printf('\nI1=%.2f mA\n',I1)\n",
"Iq=I1;\n",
"Id1=Iq/2;\n",
"printf('\nId1 and Id2 =%.2fmA\n',Id1)\n",
"Vgs1=sqrt(Id1/Kn1)+Vtn;\n",
"printf('\nVgs1 and Vgs2 =%.2fV\n',Vgs1)\n",
"vo1=10-Id1*Rd;\n",
"printf('\nvo1 and vo2=%.2f V\n',vo1)\n",
"Vds1=Vgs1-Vtn;\n",
"printf('\nVds1=Vds2=Vds1(sat)=%.2f V\n',Vds1)\n",
"Vcm=vo1-Vds1+Vgs1;\n",
"printf('\nVcm max=%.2f V\n',Vcm)\n",
"Vds4=Vgs4-Vtn;\n",
"printf('\nVds4=%.2f V\n',Vds4)\n",
"Vcm2=Vgs1+Vds4-10;\n",
"printf('\nVcm min=%.2fV\n',Vcm2)"
   ]
   }
,
{
		   "cell_type": "markdown",
		   "metadata": {},
		   "source": [
			"## Example 11.11: Compare_the_forward_transconductance.sce"
		   ]
		  },
  {
"cell_type": "code",
	   "execution_count": null,
	   "metadata": {
	    "collapsed": true
	   },
	   "outputs": [],
"source": [
"clear;\n",
"clc;\n",
"//Example 11.11\n",
"Kn=0.5;\n",
"Iq=1;\n",
"Vt=0.026;\n",
"//transconductance of the MOSFET\n",
"gm=2*sqrt(Kn*Iq/2);\n",
"printf('\ntransconductance=%.3f mA/V\n',gm)\n",
"//transconductance of the bipolar transistor \n",
"gm=Iq/(2*Vt);\n",
"printf('\ntransconductance=%.3f mA/V\n',gm)"
   ]
   }
,
{
		   "cell_type": "markdown",
		   "metadata": {},
		   "source": [
			"## Example 11.12: Determine_the_differential_mode_voltage_gain_common_mode_voltage_gain_CMRR.sce"
		   ]
		  },
  {
"cell_type": "code",
	   "execution_count": null,
	   "metadata": {
	    "collapsed": true
	   },
	   "outputs": [],
"source": [
"clear;\n",
"clc;\n",
"//Example 11.12\n",
"Iq=0.587;\n",
"Kn=1;\n",
"Rd=16;\n",
"//lambda=y\n",
"y=0.01;\n",
"Ro=1/(y*Iq);\n",
"printf('\noutput resistance =%.2fKOhm\n',Ro)\n",
"Ad=sqrt(Kn*Iq/2)*Rd;\n",
"printf('\ndifferential mode voltage gain=%.2f \n',Ad)\n",
"Acm=-sqrt(2*Kn*Iq)*Rd/(1+2*sqrt(2*Kn*Iq)*Ro);\n",
"printf('\ncommon mode voltage gain=%.2f\n',Acm)\n",
"CMRR=20*log10(-Ad/Acm);\n",
"printf('\ncommon mode rejection ratio=%.2f dB\n',CMRR)"
   ]
   }
,
{
		   "cell_type": "markdown",
		   "metadata": {},
		   "source": [
			"## Example 11.13: Determine_the_differential_mode_voltage_gain.sce"
		   ]
		  },
  {
"cell_type": "code",
	   "execution_count": null,
	   "metadata": {
	    "collapsed": true
	   },
	   "outputs": [],
"source": [
"clear;\n",
"clc;\n",
"//Example 11.13\n",
"Iq=0.2;\n",
"Va=100;\n",
"Va2=Va;\n",
"Va4=Va;\n",
"Rl=100;\n",
"Vt=0.026;\n",
"Ad=(1/Vt)/(1/Va2+1/Va4);\n",
"printf('\nopen circuit voltage gain=%.2f\n',Ad)\n",
"Ad=(Iq/(2*Vt))/(Iq/(2*Va2)+Iq/(2*Va4)+1/Rl);\n",
"printf('\nvoltage gain=%.2f\n',Ad)"
   ]
   }
,
{
		   "cell_type": "markdown",
		   "metadata": {},
		   "source": [
			"## Example 11.15: Determine_the_differential_mode_voltage_gain.sce"
		   ]
		  },
  {
"cell_type": "code",
	   "execution_count": null,
	   "metadata": {
	    "collapsed": true
	   },
	   "outputs": [],
"source": [
"clear;\n",
"clc;\n",
"//Example 11.15\n",
"Kn=0.2;\n",
"Idq=0.1;\n",
"ro4=1000;//Kohm\n",
"ro6=1000;//KOhm\n",
"ro2=ro4;\n",
"//lambda=y\n",
"y=0.01;\n",
"gm=2*sqrt(Kn*Idq);\n",
"printf('\ntransconductance=%.3f mA/V\n',gm)\n",
"ro=1/(y*Idq);\n",
"printf('\noutput resistance=%.2f KOhm\n',ro)\n",
"Ro=ro4+ro6*(1+gm*ro);\n",
"Ro=Ro*0.001;//Mohm\n",
"printf('\noutput resistance of the cascode active load=%.2fMohm\n',Ro)\n",
"Ro=Ro*1000;//KOhm\n",
"Ad=gm*ro2*Ro/(ro4+Ro);\n",
"printf('\ndifferential mode voltage gain=%.2f\n',Ad)"
   ]
   }
,
{
		   "cell_type": "markdown",
		   "metadata": {},
		   "source": [
			"## Example 11.16: Calculate_the_input_resistance_and_the_small_signal_voltage_gain.sce"
		   ]
		  },
  {
"cell_type": "code",
	   "execution_count": null,
	   "metadata": {
	    "collapsed": true
	   },
	   "outputs": [],
"source": [
"clear;\n",
"clc;\n",
"//Example 11.16\n",
"Iq=0.2;\n",
"Ic1=Iq;\n",
"Icb=1;\n",
"R4=10;\n",
"R3=0.2;\n",
"b=100;\n",
"Va=100;\n",
"Vt=0.026;\n",
"Ri=2*(1+b)*b*Vt/Iq;\n",
"Ri=Ri*0.001;//MOhm\n",
"printf('\ninput resistance=%.2f MOhm\n',Ri)\n",
"R11=b*Vt/Iq;\n",
"printf('\nresistance R11=%.2f KOhm\n',R11)\n",
"Re=R11*R3/(R11+R3);\n",
"printf('\nRe=%.2f KOhm\n',Re)\n",
"gm11=Iq/Vt;\n",
"printf('\ngm11=%.3f mA/V\n',gm11)\n",
"ro11=Va/Iq;\n",
"printf('\nro11 =%.2fKOhm\n',ro11)\n",
"Rc11=ro11*(1+gm11*Re);\n",
"Rc11=Rc11*0.001;//MOhm\n",
"printf('\nRc11=%.2f MOhm\n',Rc11)\n",
"r8=b*Vt/Icb;\n",
"printf('\nresistance=%.2fKOhm\n',r8)\n",
"//answer of following given in the book is wrong\n",
"Rb8=r8+(1+b)*R4;\n",
"Rb8=Rb8*0.001;//MOhm\n",
"printf('\nRb8 =%.2fMOhm\n',Rb8)\n",
"Rl7=Rc11*Rb8/(Rc11+Rb8);\n",
"printf('\nRl7=%.2f MOhm\n',Rl7)\n",
"Av=Iq*Rl7/(2*Vt);\n",
"printf('\nsmall signal voltage gain=%.2f\n',Av)"
   ]
   }
,
{
		   "cell_type": "markdown",
		   "metadata": {},
		   "source": [
			"## Example 11.17: Calculate_the_output_resistance.sce"
		   ]
		  },
  {
"cell_type": "code",
	   "execution_count": null,
	   "metadata": {
	    "collapsed": true
	   },
	   "outputs": [],
"source": [
"clear;\n",
"clc;\n",
"//Example 11.17\n",
"Va=100;\n",
"R4=10;\n",
"b=100;\n",
"Rc11=1.26*10^3;\n",
"r8=2.6;\n",
"Iq=0.2;\n",
"Rc7=Va/Iq;\n",
"printf('\nRc7=%.2f KOhm\n',Rc7)\n",
"Z=Rc11*Rc7/(Rc11+Rc7);\n",
"printf('\nZ=%.2f KOhm\n',Z)\n",
"x=(r8+Z)/(1+b);\n",
"Ro=R4*x/(R4+x);\n",
"printf('\noutput resistance=%.2f KOhm\n',Ro)"
   ]
   }
,
{
		   "cell_type": "markdown",
		   "metadata": {},
		   "source": [
			"## Example 11.19: Determine_the_differential_mode_voltage_gain.sce"
		   ]
		  },
  {
"cell_type": "code",
	   "execution_count": null,
	   "metadata": {
	    "collapsed": true
	   },
	   "outputs": [],
"source": [
"clear;\n",
"clc;\n",
"//Example 11.19\n",
"b=100;\n",
"Vt=0.026;\n",
"Rc=20;\n",
"Ir4=0.4;\n",
"Iq=Ir4;\n",
"Ir6=Ir4;\n",
"r4=b*Vt/Ir4;\n",
"printf('\nr4=%.2f KOhm\n',r4)\n",
"r3=b^2*Vt/Ir4;\n",
"printf('\nr3=%.2f KOhm\n',r3)\n",
"Ri2=r3+(1+b)*r4;\n",
"printf('\ninput resistance=%.2f KOhm\n',Ri2)\n",
"gm=Iq/(2*Vt);\n",
"printf('\ntransconductance=%.3f mA/V\n',gm)\n",
"Ad1=gm*Rc*Ri2/(2*(Rc+Ri2));\n",
"printf('\ngain of differential amplifier stage=%.2f\n',Ad1)\n",
"r5=b*Vt/Ir6;\n",
"printf('\nr5 =%.2fKOhm\n',r5)\n",
"Ir7=2;\n",
"r6=b*Vt/Ir7;\n",
"printf('\nr6=%.2f KOhm\n',r6)\n",
"R6=16.5;\n",
"R7=5;\n",
"Ri3=r5+(1+b)*(R6+r6+(1+b)*R7);\n",
"Ri3=Ri3*0.001;//MOhm\n",
"printf('\nRi3=%.2f MOhm\n',Ri3)\n",
"Rs=5;\n",
"A2=Ir4*Rs/(2*Vt);\n",
"printf('\nvoltage gain A2=%.2f\n',A2)\n",
"A3=1;//vo/vo3\n",
"Ad=Ad1*A2*A3;\n",
"printf('\nsmall signal voltage gain=%.2f\n',Ad)"
   ]
   }
,
{
		   "cell_type": "markdown",
		   "metadata": {},
		   "source": [
			"## Example 11.1: Determine_the_quiescent_collector_current_and_collector_emitter_voltage.sce"
		   ]
		  },
  {
"cell_type": "code",
	   "execution_count": null,
	   "metadata": {
	    "collapsed": true
	   },
	   "outputs": [],
"source": [
"clear;\n",
"clc;\n",
"//Example 11.1\n",
"V1=10;\n",
"V2=-10;\n",
"Iq=1;\n",
"Rc=10;\n",
"Vbe=0.7;\n",
"iC1=Iq/2;\n",
"iC2=iC1;\n",
"printf('\ncollector currents =%.2fmA\n',iC1)\n",
"Vc1=V1-iC1*Rc;\n",
"Vc2=Vc1;\n",
"printf('\ncollector voltages =%.2fV\n',Vc1)\n",
"Vcm=0;\n",
"Ve=Vcm-Vbe;\n",
"Vce1=Vc1-Ve;\n",
"printf('\ncollector emitter voltage=%.2f V\n',Vce1)\n",
"Vcm=-5;\n",
"Ve=Vcm-Vbe;\n",
"Vce1=Vc1-Ve;\n",
"printf('\ncollector emitter voltage =%.2fV\n',Vce1)\n",
"Vcm=5;\n",
"Ve=Vcm-Vbe;\n",
"Vce1=Vc1-Ve;\n",
"printf('\ncollector emitter voltage=%.2f V\n',Vce1)"
   ]
   }
,
{
		   "cell_type": "markdown",
		   "metadata": {},
		   "source": [
			"## Example 11.20: Determine_the_zero_and_pole_frequencies.sce"
		   ]
		  },
  {
"cell_type": "code",
	   "execution_count": null,
	   "metadata": {
	    "collapsed": true
	   },
	   "outputs": [],
"source": [
"clear;\n",
"clc;\n",
"//Example 11.20\n",
"Ro=10000000;\n",
"Co=1*10^-12;\n",
"Rb=500;\n",
"r=10000;\n",
"b=100;\n",
"f=1/(2*%pi*Ro*Co);\n",
"f=f*0.001;//KHz\n",
"printf('\nfrequency of the zero=%.2f KHz\n',f)\n",
"Req=Ro*(1+Rb/r)/(1+Rb/r+2*(1+b)*Ro/r);\n",
"printf('\nReq=%.2f Ohm\n',Req)\n",
"f=1/(2*%pi*Req*Co);\n",
"f=f*10^-9;//GHz\n",
"printf('\nfrequency of the pole=%.2f GHz\n',f)"
   ]
   }
,
{
		   "cell_type": "markdown",
		   "metadata": {},
		   "source": [
			"## Example 11.3: Determine_the_differential_and_common_mode_gains.sce"
		   ]
		  },
  {
"cell_type": "code",
	   "execution_count": null,
	   "metadata": {
	    "collapsed": true
	   },
	   "outputs": [],
"source": [
"clear;\n",
"clc;\n",
"//Example 11.3\n",
"V1=10;\n",
"V2=-10;\n",
"Iq=0.8*10^-3;\n",
"Rc=12000;\n",
"Ro=25000;\n",
"b=100;\n",
"Vt=0.026;\n",
"Ad=Iq*Rc/(4*Vt);\n",
"printf('\ndifferential gain=%.3f\n',Ad)\n",
"Acm=-(Iq*Rc/(2*Vt))/(1+(1+b)*Iq*Ro/(Vt*b));\n",
"printf('\ncommon mode gain=%.3f\n',Acm)"
   ]
   }
,
{
		   "cell_type": "markdown",
		   "metadata": {},
		   "source": [
			"## Example 11.7: Determine_the_CMRR_of_a_differential_amplifier.sce"
		   ]
		  },
  {
"cell_type": "code",
	   "execution_count": null,
	   "metadata": {
	    "collapsed": true
	   },
	   "outputs": [],
"source": [
"clear;\n",
"clc;\n",
"//Example 11.7\n",
"Ad=92.3;\n",
"Acm=0.237;//mod of Acm\n",
"CMRR=Ad/Acm;\n",
"printf('\ncommon mode rejection ratio=%.2f\n',CMRR)\n",
"CMRRdB=20*log10(CMRR);\n",
"printf('\nCMRR in decibels=%.2f dB\n',CMRRdB)"
   ]
   }
,
{
		   "cell_type": "markdown",
		   "metadata": {},
		   "source": [
			"## Example 11.8: Design_a_bipolar_source.sce"
		   ]
		  },
  {
"cell_type": "code",
	   "execution_count": null,
	   "metadata": {
	    "collapsed": true
	   },
	   "outputs": [],
"source": [
"clear;\n",
"clc;\n",
"//Example 11.8\n",
"CMRRdB=90;//dB\n",
"CMRR=3.16*10^4;\n",
"b=100;\n",
"Vt=0.026;\n",
"Iq=0.8;\n",
"Ro=(2*CMRR-1)*Vt*b/((1+b)*Iq);\n",
"Ro=Ro*10^-3;//Mohm\n",
"disp(Ro,'output resistance (MOhm)')"
   ]
   }
,
{
		   "cell_type": "markdown",
		   "metadata": {},
		   "source": [
			"## Example 11.9: Determine_the_differential_and_common_mode_input_resistance.sce"
		   ]
		  },
  {
"cell_type": "code",
	   "execution_count": null,
	   "metadata": {
	    "collapsed": true
	   },
	   "outputs": [],
"source": [
"clear;\n",
"clc;\n",
"//Example 11.9\n",
"b=100;\n",
"Vbe=0.7;\n",
"Va=100;\n",
"Vt=0.026;\n",
"Iref=0.5;\n",
"Iq=Iref;\n",
"I1=Iq/2\n",
"Icq=I1;\n",
"r=b*Vt/Icq;\n",
"printf('\nsmall signal parameter=%.2f KOhm\n',r)\n",
"ro=Va/Icq;\n",
"printf('\nro=%.2f KOhm\n',ro)\n",
"Ro=Va/Iq;\n",
"printf('\noutput resistance of Q4=%.2f KOhm\n',Ro)\n",
"Rid=2*r;\n",
"printf('\ndifferential mode input resistance =%.2fKOhm\n',Rid)\n",
"Ricm=(1+b)*(Ro*ro/2)/(Ro+ro/2);\n",
"Ricm=Ricm*0.001;//Mohm\n",
"printf('\ncommon mode input resistance=%.2f MOhm\n',Ricm)"
   ]
   }
],
"metadata": {
		  "kernelspec": {
		   "display_name": "Scilab",
		   "language": "scilab",
		   "name": "scilab"
		  },
		  "language_info": {
		   "file_extension": ".sce",
		   "help_links": [
			{
			 "text": "MetaKernel Magics",
			 "url": "https://github.com/calysto/metakernel/blob/master/metakernel/magics/README.md"
			}
		   ],
		   "mimetype": "text/x-octave",
		   "name": "scilab",
		   "version": "0.7.1"
		  }
		 },
		 "nbformat": 4,
		 "nbformat_minor": 0
}
