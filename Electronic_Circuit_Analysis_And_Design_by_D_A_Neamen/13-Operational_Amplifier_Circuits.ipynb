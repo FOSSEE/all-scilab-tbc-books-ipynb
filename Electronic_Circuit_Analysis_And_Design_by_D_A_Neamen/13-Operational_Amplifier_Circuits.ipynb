{
"cells": [
 {
		   "cell_type": "markdown",
	   "metadata": {},
	   "source": [
       "# Chapter 13: Operational Amplifier Circuits"
	   ]
	},
{
		   "cell_type": "markdown",
		   "metadata": {},
		   "source": [
			"## Example 13.10: Determine_the_differential_mode_voltage_gain.sce"
		   ]
		  },
  {
"cell_type": "code",
	   "execution_count": null,
	   "metadata": {
	    "collapsed": true
	   },
	   "outputs": [],
"source": [
"clear;\n",
"clc;\n",
"//Example 13.10\n",
"Iref=100;\n",
"Kn=80;\n",
"Kp=40;\n",
"//W/L=x\n",
"x=25;\n",
"//lambda=y\n",
"y=0.02;\n",
"Id=Iref/2;\n",
"gm1=2*sqrt(Kp*x*Id/2);\n",
"printf('\ntransconductance gm1=gm8=%.3f microA/V\n',gm1)\n",
"gm6=2*sqrt(Kn*x*Id/2);\n",
"printf('\ntransconductance=%.3f microA/V\n',gm6)\n",
"ro1=1/(y*Id);\n",
"ro8=ro1;\n",
"ro6=ro1;\n",
"ro10=ro1;\n",
"printf('\noutput resistance ro1=ro8=ro6=ro10=%.3f MOhm\n',ro1)\n",
"Id4=Iref;\n",
"ro4=1/(y*Id4);\n",
"printf('\nro4=%.3f MOhm\n',ro4)\n",
"Ro8=gm1*ro8*ro10;\n",
"printf('\ncomposite output resistances =%.2f MOhm\n',Ro8)\n",
"Ro6=gm6*ro6*ro4*ro1/(ro4+ro1);\n",
"printf('\ncomposite output resistances=%.2f MOhm\n',Ro6)\n",
"Ad=gm1*Ro6*Ro8/(Ro6+Ro8);\n",
"printf('\ndifferential voltage gain=%.2f\n',Ad)"
   ]
   }
,
{
		   "cell_type": "markdown",
		   "metadata": {},
		   "source": [
			"## Example 13.12: Determine_the_small_signal_voltage_gain.sce"
		   ]
		  },
  {
"cell_type": "code",
	   "execution_count": null,
	   "metadata": {
	    "collapsed": true
	   },
	   "outputs": [],
"source": [
"clear;\n",
"clc;\n",
"//Example 13.12\n",
"Kp=0.6;\n",
"bn=200;\n",
"Va=50;\n",
"Vt=0.026;\n",
"Ic13=0.20;\n",
"Ri2=bn*Vt/Ic13;\n",
"printf('\ninput resistance to the gain stage=%.2f KOhm\n',Ri2)\n",
"Iq5=Ic13;\n",
"Ad=sqrt(2*Kp*Iq5)*Ri2;\n",
"printf('\nsmall signal voltage gain=%.2f\n',Ad)"
   ]
   }
,
{
		   "cell_type": "markdown",
		   "metadata": {},
		   "source": [
			"## Example 13.13: Determine_the_small_signal_voltage_gain.sce"
		   ]
		  },
  {
"cell_type": "code",
	   "execution_count": null,
	   "metadata": {
	    "collapsed": true
	   },
	   "outputs": [],
"source": [
"clear;\n",
"clc;\n",
"//Example 13.13\n",
"Va=150;\n",
"Vt=0.026;\n",
"Ic13=0.2;\n",
"gm13=Ic13/Vt;\n",
"printf('\ntransconductance=%.2f mA/V\n',gm13)\n",
"ro13=Va/Ic13;\n",
"printf('\noutput resistance=%.2f KOhm\n',ro13)\n",
"Av2=gm13*ro13;\n",
"printf('\nvoltage gain=%.2f \n',Av2)"
   ]
   }
,
{
		   "cell_type": "markdown",
		   "metadata": {},
		   "source": [
			"## Example 13.14: Determine_the_dominant_pole_frequency_and_unity_gain_bandwidth.sce"
		   ]
		  },
  {
"cell_type": "code",
	   "execution_count": null,
	   "metadata": {
	    "collapsed": true
	   },
	   "outputs": [],
"source": [
"clear;\n",
"clc;\n",
"//Example 13.14\n",
"Av2=5768;\n",
"C1=12;\n",
"Ci=C1*(1+Av2);\n",
"printf('\neffective input capacitance=%.2f pF\n',Ci)\n",
"Ri2=26000;//gain stage input resistance (Ohm)\n",
"Ci=Ci*10^-12;//F\n",
"fPD=1/(2*%pi*Ri2*Ci);\n",
"printf('\ndominant pole frequency=%.f Hz\n',fPD)\n",
"Av=73254;\n",
"fT=fPD*Av;\n",
"fT=fT*10^-6;//MHz\n",
"printf('\nunity gain bandwidth=%.2f MHz\n',fT)"
   ]
   }
,
{
		   "cell_type": "markdown",
		   "metadata": {},
		   "source": [
			"## Example 13.1: Calculate_the_dc_currents.sce"
		   ]
		  },
  {
"cell_type": "code",
	   "execution_count": null,
	   "metadata": {
	    "collapsed": true
	   },
	   "outputs": [],
"source": [
"clear;\n",
"clc;\n",
"//Example 13.1\n",
"V1=15;//positive supply voltage\n",
"V2=-15;//negative supply voltage\n",
"Veb12=0.6;\n",
"Vbe11=0.6;\n",
"Rs=40;\n",
"Iref=(V1-V2-Veb12-Vbe11)/Rs;\n",
"printf('\nreference current=%.2f mA\n',Iref)\n",
"Ic10=19;\n",
"Ic1=Ic10/2;\n",
"printf('\nIc1=Ic2=Ic3=Ic4= %.3fmicroA\n',Ic1)\n",
"Ic1=Ic1*0.001;//mA\n",
"Vbe7=0.6;\n",
"Vbe6=0.6;\n",
"Ic6=Ic1;\n",
"R2=1;\n",
"Vc6=Vbe7+Vbe6+Ic6*R2+V2;\n",
"printf('\nvoltage at collector of Q6=%.2f V\n',Vc6)"
   ]
   }
,
{
		   "cell_type": "markdown",
		   "metadata": {},
		   "source": [
			"## Example 13.2: Calculate_the_bias_currents.sce"
		   ]
		  },
  {
"cell_type": "code",
	   "execution_count": null,
	   "metadata": {
	    "collapsed": true
	   },
	   "outputs": [],
"source": [
"clear;\n",
"clc;\n",
"//Example 13.2\n",
"Iref=0.72;\n",
"Ic17=0.75*Iref;\n",
"printf('\ncollector currents in Q17=%.2f mA\n',Ic17)\n",
"b=200;\n",
"Ib17=Ic17/b;\n",
"Ie17=Ic17;\n",
"R8=0.100;\n",
"Vbe17=0.6;\n",
"R9=50;\n",
"Ic16=Ib17+(Ie17*R8+Vbe17)/R9;\n",
"Ic16=Ic16*1000;\n",
"printf('\ncollector current in Q16=%.2f microA\n',Ic16)"
   ]
   }
,
{
		   "cell_type": "markdown",
		   "metadata": {},
		   "source": [
			"## Example 13.3: Calculate_the_bias_currents.sce"
		   ]
		  },
  {
"cell_type": "code",
	   "execution_count": null,
	   "metadata": {
	    "collapsed": true
	   },
	   "outputs": [],
"source": [
"clear;\n",
"clc;\n",
"//Example 13.3\n",
"Is1=10^-14;//reverse saturation currents for Q18 Q19\n",
"Is2=3*10^-14;//reverse saturation currents for Q14 Q20\n",
"Iref=0.72;\n",
"Vt=0.026;\n",
"Ic13a=0.25*Iref;\n",
"printf('\nIc13a=%.2f mA\n',Ic13a)\n",
"Vbe19=0.6;\n",
"R10=50;\n",
"Ir1o=Vbe19/R10;\n",
"printf('\ncurrent in Ro=%.3f mA\n',Ir1o)\n",
"Ic19=Ic13a-Ir1o;\n",
"printf('\ncurrent in Q19 =%.3fmA\n',Ic19)\n",
"Ic19=Ic19*0.001;//A\n",
"Vbe19=Vt*log(Ic19/Is1);\n",
"printf('\nB-E voltage of Q19=%.2f V\n',Vbe19)\n",
"b=200;\n",
"Ic19=Ic19*10^6;//micro A\n",
"Iv19=Ic19*1000;\n",
"Ib18=Ic19/b;\n",
"Ir1o=Ir1o*1000;\n",
"printf('\nbase current in Q18=%.3f microA\n',Ib18)\n",
"Ic18=Ir1o+Ib18;\n",
"printf('\ncurrents in Q18=%.3f microA\n',Ic18)\n",
"Ic18=Ic18*10^-6;\n",
"Vbe18=Vt*log(Ic18/Is1);\n",
"printf('\nB-E voltage of Q18=%.2f V\n',Vbe18)\n",
"Vbb=Vbe18+Vbe19;\n",
"printf('\nvoltage difference Vbb=%.2f V\n',Vbb)\n",
"Ic14=Is2*exp(Vbb/(2*Vt));\n",
"Ic14=Ic14*10^6;//micro A\n",
"printf('\nquiescent currents in Q14 and Q20 =%.fmicroA\n',Ic14)"
   ]
   }
,
{
		   "cell_type": "markdown",
		   "metadata": {},
		   "source": [
			"## Example 13.4: Determine_the_small_signal_differential_voltage_gain.sce"
		   ]
		  },
  {
"cell_type": "code",
	   "execution_count": null,
	   "metadata": {
	    "collapsed": true
	   },
	   "outputs": [],
"source": [
"clear;\n",
"clc;\n",
"//Example 13.4\n",
"b=200;\n",
"Va=50\n",
"Vt=0.026;\n",
"R2=1;\n",
"Ic6=0.0095;\n",
"Ic4=Ic6;\n",
"Ic16=0.0158;\n",
"Ic17=0.54;\n",
"r17=b*Vt/Ic17;\n",
"printf('\ninput resistance to gain stage=%.2f KOhm\n',r17)\n",
"R9=50;\n",
"R8=0.100;\n",
"x=r17+(1+b)*R8;\n",
"Re=x*R9/(x+R9);\n",
"printf('\nRe=%.3f KOhm\n',Re)\n",
"r16=b*Vt/Ic16;\n",
"printf('\nr16=%.2f KOhm\n',r16)\n",
"Ri2=r16+(1+b)*Re;\n",
"Ri2=Ri2*0.001;//MOhm\n",
"printf('\nRi2=%.2f KOhm\n',Ri2)\n",
"r6=b*Vt/Ic6;\n",
"printf('\nresistance of the active load=%.2f KOhm\n',r6)\n",
"gm=Ic6/Vt;\n",
"printf('\ntransconductance =%.3fmA/V\n',gm)\n",
"ro6=Va/Ic6;\n",
"ro6=ro6*0.001;//MOhm\n",
"printf('\nro6=%.2f MOhm\n',ro6)\n",
"R=ro6*(1+gm*R2*r6/(R2+r6));\n",
"printf('\neffective resistance of active load=%.2f MOhm\n',R)\n",
"ro4=Va/Ic4;\n",
"ro4=ro4*0.001;//Mohm\n",
"printf('\nResistance ro4=%.2f KOhm\n',ro4)\n",
"Icq=9.5;\n",
"x=Ri2*R/(R+Ri2);\n",
"y=ro4*x/(ro4+x);\n",
"Ad=-y*Icq/Vt;\n",
"printf('\nsmall signal differential voltage gain=%.2f\n',Ad)"
   ]
   }
,
{
		   "cell_type": "markdown",
		   "metadata": {},
		   "source": [
			"## Example 13.5: Determine_the_small_signal_voltage_gain.sce"
		   ]
		  },
  {
"cell_type": "code",
	   "execution_count": null,
	   "metadata": {
	    "collapsed": true
	   },
	   "outputs": [],
"source": [
"clear;\n",
"clc;\n",
"//Example 13.5\n",
"bp=50;\n",
"bn=200;\n",
"Va=50;\n",
"R9=50;\n",
"R8=0.100;\n",
"Rl=2;\n",
"Vt=0.026;\n",
"Ri2=4070;\n",
"Ic20=0.138;\n",
"r20=bp*Vt/Ic20;\n",
"printf('\nr20=%.2f KOhm\n',r20)\n",
"R20=r20+(1+bp)*Rl;\n",
"printf('\nR20=%.2f KOhm\n',R20)\n",
"Ic13A=0.18;\n",
"R19=Va/Ic13A;\n",
"printf('\nR19=%.2f KOhm\n',R19)\n",
"r22=bp*Vt/Ic13A;\n",
"printf('\nr22=%.2f KOhm\n',r22)\n",
"Ri3=r22+(1+bp)*R19*R20/(R19+R20);\n",
"Ri3=Ri3*0.001;//MOhm\n",
"printf('\ninput resistance to the output stage=%.2f MOhm\n',Ri3)\n",
"Ic13B=0.54;\n",
"R=Va/Ic13B;\n",
"printf('\neffective resistance of the active load=%.2f KOhm\n',R)\n",
"Ic17=Ic13B;\n",
"R17=Va/Ic17;\n",
"printf('\noutput resistance Ro17 =%.2fKOhm\n',R17)\n",
"Ri3=Ri3*1000;//KOhm\n",
"r17=9.63;\n",
"x=R17*Ri3/(Ri3+R17);\n",
"y=x*R/(R+x);\n",
"A=-bn*R9*(1+bn)*y/(Ri2*(R9+r17+(1+bn)*R8));\n",
"printf('\nsmall signal voltage gain=%.2f\n',A)"
   ]
   }
,
{
		   "cell_type": "markdown",
		   "metadata": {},
		   "source": [
			"## Example 13.6: Calculate_the_output_resistance.sce"
		   ]
		  },
  {
"cell_type": "code",
	   "execution_count": null,
	   "metadata": {
	    "collapsed": true
	   },
	   "outputs": [],
"source": [
"clear;\n",
"clc;\n",
"//Example 13.6\n",
"Ic20=2;\n",
"bn=200;\n",
"bp=50;\n",
"Va=50;\n",
"r17=9.63;\n",
"r22=7.22;\n",
"R20=0.260;\n",
"gm17=20.8;\n",
"ro17=92.6;\n",
"Ro13B=92.6;\n",
"R8=0.100;\n",
"Rc17=ro17*(1+gm17*R8*r17/(R8+r17));\n",
"printf('\nRc17=%.2f KOhm\n',Rc17)\n",
"Rc22=(r22+Rc17*Ro13B/(Rc17+Ro13B))/(1+bp);\n",
"printf('\nRc22=%.2f KOhm\n',Rc22)\n",
"Ic13A=0.18;\n",
"Rc19=Va/Ic13A;\n",
"printf('\nRc19=%.2f KOhm\n',Rc19)\n",
"Rc20=(R20+Rc22*Rc19/(Rc22+Rc19))/(1+bp);\n",
"printf('\nRc20=%.5f KOhm\n',Rc20)\n",
"Rc20=Rc20*1000;//Ohm\n",
"R3=22;\n",
"Ro=R3+Rc20;\n",
"printf('\noutput resistance=%.2f Ohm\n',Ro)"
   ]
   }
,
{
		   "cell_type": "markdown",
		   "metadata": {},
		   "source": [
			"## Example 13.7: Determine_the_dominant_pole_frequency_of_the_741_op_amp.sce"
		   ]
		  },
  {
"cell_type": "code",
	   "execution_count": null,
	   "metadata": {
	    "collapsed": true
	   },
	   "outputs": [],
"source": [
"clear;\n",
"clc;\n",
"//Example 13.7\n",
"Av2=285;\n",
"C1=30;\n",
"Ci=C1*(1+Av2);\n",
"printf('\ninput capacitance=%.2f pF\n',Ci)\n",
"Ri2=4.07;\n",
"Ract=7.18;\n",
"ro4=5.26;\n",
"Ro1=Ract*ro4/(Ract+ro4);\n",
"printf('\ngate stage input resistance=%.2fMOhm \n',Ro1)\n",
"Req=Ro1*Ri2/(Ri2+Ro1);\n",
"printf('\nequivalent resistance=%.2f MOhm\n',Req)\n",
"Req=Req*10^6;//Ohm\n",
"Ci=Ci*10^-12;//F\n",
"fPD=1/(2*%pi*Req*Ci);\n",
"printf('\ndominant pole frequency =%.2fHz\n',fPD)"
   ]
   }
,
{
		   "cell_type": "markdown",
		   "metadata": {},
		   "source": [
			"## Example 13.9: Determine_the_small_signal_voltage_gain.sce"
		   ]
		  },
  {
"cell_type": "code",
	   "execution_count": null,
	   "metadata": {
	    "collapsed": true
	   },
	   "outputs": [],
"source": [
"clear;\n",
"clc;\n",
"//Example 13.9\n",
"//lambda=y\n",
"y=0.02;\n",
"//W/L=x and u*Cox/2=t\n",
"x=12.5;\n",
"t=10;\n",
"Kp1=x*t;\n",
"printf('\nconduction parameters of M1 and M2=%.fmicroA/V^2\n',Kp1)\n",
"Kp1=Kp1*0.001;//mA/V^2\n",
"Id=0.0199;\n",
"ro2=1/(y*Id);\n",
"ro2=ro2*0.001;//Mohm\n",
"printf('\noutput resistance=%.2f MOhm\n',ro2)\n",
"Iq=0.0397;\n",
"ro2=ro2*1000;//Kohm\n",
"ro4=ro2;\n",
"Ad=sqrt(2*Kp1*Iq)*ro2*ro4/(ro2+ro4);\n",
"printf('\nthe gain of input stage=%.2f \n',Ad)\n",
"Kn7=0.250;\n",
"Id7=Iq;\n",
"gm7=2*sqrt(Kn7*Id7)\n",
"printf('\ntransconductance of M7=%.2f mA/V\n',gm7)\n",
"ro7=1/(y*Id7);\n",
"ro7=ro7*0.001;\n",
"printf('\noutput resistance of M7 and M8 =%.2fMOhm\n',ro7)\n",
"ro7=ro7*1000;//Kohm\n",
"ro8=ro7;\n",
"Av2=gm7*ro7*ro8/(ro7+ro8);\n",
"printf('\ngain of the second stage=%.2f\n',Av2)\n",
"Av=Ad*Av2;\n",
"printf('\noverall voltage gain=%.2f\n',Av)"
   ]
   }
],
"metadata": {
		  "kernelspec": {
		   "display_name": "Scilab",
		   "language": "scilab",
		   "name": "scilab"
		  },
		  "language_info": {
		   "file_extension": ".sce",
		   "help_links": [
			{
			 "text": "MetaKernel Magics",
			 "url": "https://github.com/calysto/metakernel/blob/master/metakernel/magics/README.md"
			}
		   ],
		   "mimetype": "text/x-octave",
		   "name": "scilab",
		   "version": "0.7.1"
		  }
		 },
		 "nbformat": 4,
		 "nbformat_minor": 0
}
