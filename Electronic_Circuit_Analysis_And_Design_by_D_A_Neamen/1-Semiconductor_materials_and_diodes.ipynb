{
"cells": [
 {
		   "cell_type": "markdown",
	   "metadata": {},
	   "source": [
       "# Chapter 1: Semiconductor materials and diodes"
	   ]
	},
{
		   "cell_type": "markdown",
		   "metadata": {},
		   "source": [
			"## Example 1.10: Calculate_currents_in_a_circuit.sce"
		   ]
		  },
  {
"cell_type": "code",
	   "execution_count": null,
	   "metadata": {
	    "collapsed": true
	   },
	   "outputs": [],
"source": [
"clear;\n",
"clc;\n",
"//Example 1.10\n",
"V_Y=0.7;//(V)cut in voltage for pn junction\n",
"r_f=0;\n",
"V_PS=4;//(V)\n",
"R1=4,R2=4//(KOhm) from given circuit\n",
"I1=(V_PS-V_Y)/R1;\n",
"printf('\ncurrent through pn junction diode=%.3f mA\n',I1)\n",
"V_Y=0.3;//(V)cut in voltage for Schottky diode\n",
"I2=(V_PS-V_Y)/R2;\n",
"printf('\ncurrent through Schottky diode=%.3f mA\n',I2)"
   ]
   }
,
{
		   "cell_type": "markdown",
		   "metadata": {},
		   "source": [
			"## Example 1.11: Design_the_value_of_resistance_required_to_limit_the_current_in_given_circuit.sce"
		   ]
		  },
  {
"cell_type": "code",
	   "execution_count": null,
	   "metadata": {
	    "collapsed": true
	   },
	   "outputs": [],
"source": [
"clear;\n",
"clc;\n",
"//Example 1.11 \n",
"V_Z=5.6;//(V)Zener diode breakdown voltage\n",
"r_z=0;//(Ohm)Zener resistance\n",
"I=3;//(mA)current in the diode\n",
"V_PS=10;//(V)\n",
"//I=(V_PS-V_Z)/R\n",
"R=(V_PS-V_Z)/I;\n",
"printf('\nresistance=%.3f KOhm\n',R)"
   ]
   }
,
{
		   "cell_type": "markdown",
		   "metadata": {},
		   "source": [
			"## Example 1.1: Calculate_intrinsic_carrier_concentration_in_silicon.sce"
		   ]
		  },
  {
"cell_type": "code",
	   "execution_count": null,
	   "metadata": {
	    "collapsed": true
	   },
	   "outputs": [],
"source": [
"clear;\n",
"clc;\n",
"//Example 1.1\n",
"T=300;//((°K)temperature)\n",
"//for silicon\n",
"B=5.23*10^(15);//Constant (per centimeter cube degree kelvin)\n",
"Eg=1.1;//bandgap energy in electrovolt(eV)\n",
"k=86*10^(-6);//Boltzmann's constant(eV per degree kelvin)\n",
"n_i=B*T^(3/2)*exp(-Eg/(2*k*T));//intrinsic carrier concentration\n",
"printf('intrinsic carrier concentration=%f cm^-3',n_i);"
   ]
   }
,
{
		   "cell_type": "markdown",
		   "metadata": {},
		   "source": [
			"## Example 1.2: Calculate_thermal_equilibrium_electron_and_hole_concentrations.sce"
		   ]
		  },
  {
"cell_type": "code",
	   "execution_count": null,
	   "metadata": {
	    "collapsed": true
	   },
	   "outputs": [],
"source": [
"clear;\n",
"clc;\n",
"//Example 1.2 \n",
"T=300;//(°K)Given Temperature\n",
"Nd=10^16;//(cm^-3)Donor concentration\n",
"n_i=1.5*10^10;//(cm^-3)intrinsic carrier concentration\n",
"//since Nd>>n_i\n",
"n_o=10^16;//(cm^-3)electron concentration\n",
"//by using formula ::n_i^2=n_o*p_o\n",
"p_o=(n_i)^2/Nd;//hole concentration\n",
"printf('\nelectron concentration= %.e cm^-3',n_o);\n",
"printf('\nhole concentration =%e cm^-3',p_o);"
   ]
   }
,
{
		   "cell_type": "markdown",
		   "metadata": {},
		   "source": [
			"## Example 1.3: Calculate_the_built_in_potential_barrier_of_a_pn_junction.sce"
		   ]
		  },
  {
"cell_type": "code",
	   "execution_count": null,
	   "metadata": {
	    "collapsed": true
	   },
	   "outputs": [],
"source": [
"clear;\n",
"clc;\n",
"//Example1.3\n",
"T=300;//(°K)Given Temperature\n",
"Na=10^16;//(cm^-3)Acceptor concentration in p region\n",
"Nd=10^17;//(cm^-3)Donor concentration in n region\n",
"n_i=1.5*10^10;//(cm^-3)intrinsic carrier concentration\n",
"V_T=0.026;//(Volt)terminal voltage\n",
"//built-in potential\n",
"V_bi=V_T*log(Na*Nd/(n_i)^2);\n",
"printf('\nthe built-in potential=%f V',V_bi)"
   ]
   }
,
{
		   "cell_type": "markdown",
		   "metadata": {},
		   "source": [
			"## Example 1.4: Calculate_the_junction_capacitance_of_a_pn_junction.sce"
		   ]
		  },
  {
"cell_type": "code",
	   "execution_count": null,
	   "metadata": {
	    "collapsed": true
	   },
	   "outputs": [],
"source": [
"clear;\n",
"clc;\n",
"//Example 1.4\n",
"T=300;//(°K)Given Temperature\n",
"Na=10^16;//(cm^-3)Acceptor concentration in p region\n",
"Nd=10^15;//(cm^-3)Donor concentration in n region\n",
"n_i=1.5*10^10;//(cm^-3)intrinsic carrier concentration\n",
"C_jo=0.5;//(pF)junction capacitance at zero applied voltage\n",
"V_T=0.026;//(Volt)terminal voltage\n",
"//built-in potential\n",
"V_bi=V_T*log(Na*Nd/(n_i)^2);\n",
"disp(V_bi,'the built-in potential(V)')\n",
"//the junction capacitance for\n",
"V_R=1;//(V)reverse bias voltage\n",
"Cj=C_jo*(1+V_R/V_bi)^(-1/2);\n",
"printf('\nthe junction capacitance for V_R=1V=%f pF\n',Cj)\n",
"V_R=5;//(V)reverse bias voltage\n",
"Cj=C_jo*(1+V_R/V_bi)^(-1/2);\n",
"printf('\nthe junction capacitance for V_R=5V =%f pF',Cj)"
   ]
   }
,
{
		   "cell_type": "markdown",
		   "metadata": {},
		   "source": [
			"## Example 1.5: Determine_the_diode_current_in_pn_junction.sce"
		   ]
		  },
  {
"cell_type": "code",
	   "execution_count": null,
	   "metadata": {
	    "collapsed": true
	   },
	   "outputs": [],
"source": [
"clear;\n",
"clc;\n",
"//Example 1.5\n",
"T=300;//(°K)Given Temperature\n",
"V_T=0.026;//(Volt)terminal voltage\n",
"Is=10^-11;//(mA)reverse bias saturation current\n",
"n=1;//emission coefficient\n",
"v_D=+0.7;//(V)applied voltage\n",
"//pn junction is forward biased\n",
"i_D=Is*(exp(v_D/V_T)-1);//diode current\n",
"printf('\ndiode current=%f mA\n',i_D)\n",
"v_D=-0.7;//(V)pn junction is reverse biased\n",
"Is=10^-14//A;\n",
"i_D=Is*(exp(v_D/V_T)-1);//diode current\n",
"printf('\ndiode current=%e A',i_D)"
   ]
   }
,
{
		   "cell_type": "markdown",
		   "metadata": {},
		   "source": [
			"## Example 1.6: Determine_the_diode_voltage_and_current.sce"
		   ]
		  },
  {
"cell_type": "code",
	   "execution_count": null,
	   "metadata": {
	    "collapsed": true
	   },
	   "outputs": [],
"source": [
"clear;\n",
"clc;\n",
"//Example 1.6\n",
"Is=10^-13;//(A)reverse saturation current\n",
"V_PS=5;//(V)applied voltage\n",
"R=2;//(KOhm)Resistance in circuit\n",
"V_T=0.026;//(Volt)terminal voltage\n",
"//V_PS=Is*R*(exp(V_D/V_T)-1)+V_D\n",
"//5=(10^-13)*(2000)*(exp(V_D/V_T)-1)+V_D\n",
"//let right side of equation be x=(10^-13)*(2000)*(exp(V_D/V_T)-1)+V_D\n",
"V_D=0.6;//(V)\n",
"x=(10^-13)*(2000)*(exp(V_D/V_T)-1)+V_D\n",
"//so the equation is not balanced\n",
"V_D=0.65;//(V)\n",
"x=(10^-13)*(2000)*(exp(V_D/V_T)-1)+V_D\n",
"//again equation is not balanced .solution for V_D is between 0.6V and 0.65V\n",
"V_D=0.619;//(V)\n",
"x=(10^-13)*(2000)*(exp(V_D/V_T)-1)+V_D\n",
"//essentially equal to the value of the left side of the equation i.e 5V\n",
"printf('\ndiode voltage=%f V',V_D)\n",
"I_D=(V_PS-V_D)/R;//(A)diode current\n",
"printf('\nthe diode current=%f mA',I_D)"
   ]
   }
,
{
		   "cell_type": "markdown",
		   "metadata": {},
		   "source": [
			"## Example 1.7: Determine_the_diode_voltage_and_current.sce"
		   ]
		  },
  {
"cell_type": "code",
	   "execution_count": null,
	   "metadata": {
	    "collapsed": true
	   },
	   "outputs": [],
"source": [
"clear;\n",
"clc;\n",
"//Example 1.7\n",
"//piecewise linear diode parameters\n",
"V_Y=0.6;//(V)\n",
"r_f=0.010;//(KOhm)\n",
"V_PS=5;//(V)applied voltage\n",
"R=2;//(KOhm)Resistance in circuit\n",
"I_D=(V_PS-V_Y)/(R+r_f);//(A)diode current\n",
"printf('\nthe diode current=%f mA\n',I_D)\n",
"V_D=V_Y+I_D*r_f;//(V)diode voltage\n",
"printf('\ndiode voltage=%f V',V_D)"
   ]
   }
,
{
		   "cell_type": "markdown",
		   "metadata": {},
		   "source": [
			"## Example 1.9: Analysing_the_circuit.sce"
		   ]
		  },
  {
"cell_type": "code",
	   "execution_count": null,
	   "metadata": {
	    "collapsed": true
	   },
	   "outputs": [],
"source": [
"clear;\n",
"clc;\n",
"//Example 1.9 \n",
"//circuit and diode parameters \n",
"V_PS=5;//(V)\n",
"R=5;//(KOhm)\n",
"V_Y=0.6;//(V)\n",
"V_T=0.026;//(Volt)terminal voltage\n",
"v_i=0.1//*sin(wt)Volt\n",
"//dc analysis\n",
"I_DQ=(V_PS-V_Y)/R;\n",
"printf('\ndc quiescent current=%f mA\n',I_DQ)\n",
"V_O=I_DQ*R;\n",
"printf('\ndc output voltage=%f V\n',V_O)\n",
"//ac analysis\n",
"V_PS=0;\n",
"//Kirchhoff voltage law equation becomes\n",
"//v_i=i_d*r_d+i_d*R\n",
"r_d=V_T/I_DQ//(Ohm)small signal diode diffusion resistance\n",
"i_d=v_i/(r_d+R);//ac diode current\n",
"printf('\nac diode current=%fsin(wt) A\n',i_d)\n",
"\n",
"v_o=i_d*R;//ac output voltage\n",
"printf('\nac output voltage=%fsin(wt) V',v_o)"
   ]
   }
],
"metadata": {
		  "kernelspec": {
		   "display_name": "Scilab",
		   "language": "scilab",
		   "name": "scilab"
		  },
		  "language_info": {
		   "file_extension": ".sce",
		   "help_links": [
			{
			 "text": "MetaKernel Magics",
			 "url": "https://github.com/calysto/metakernel/blob/master/metakernel/magics/README.md"
			}
		   ],
		   "mimetype": "text/x-octave",
		   "name": "scilab",
		   "version": "0.7.1"
		  }
		 },
		 "nbformat": 4,
		 "nbformat_minor": 0
}
