{
"cells": [
 {
		   "cell_type": "markdown",
	   "metadata": {},
	   "source": [
       "# Chapter 14: Nonideal Effects in Operational Amplifier Circuits"
	   ]
	},
{
		   "cell_type": "markdown",
		   "metadata": {},
		   "source": [
			"## Example 14.10: Calculate_the_offset_voltage_in_MOSFET_diff_amp.sce"
		   ]
		  },
  {
"cell_type": "code",
	   "execution_count": null,
	   "metadata": {
	    "collapsed": true
	   },
	   "outputs": [],
"source": [
"clear;\n",
"clc;\n",
"//Example 14.10\n",
"Kn1=105;\n",
"Kn2=100;\n",
"Iq=200;\n",
"dKn=Kn1-Kn2;\n",
"printf('\ndifference in conduction parameter=%.2f microA/V^2\n',dKn)\n",
"Kn=(Kn1+Kn2)/2;\n",
"printf('\naverage of the conduction parameter=%.2f microA/V^2\n',Kn)\n",
"Vos=sqrt(Iq/(2*Kn))*dKn/(2*Kn);\n",
"printf('\noffset voltage=%f V\n',Vos)"
   ]
   }
,
{
		   "cell_type": "markdown",
		   "metadata": {},
		   "source": [
			"## Example 14.11: EX14_11.sce"
		   ]
		  },
  {
"cell_type": "code",
	   "execution_count": null,
	   "metadata": {
	    "collapsed": true
	   },
	   "outputs": [],
"source": [
"clear;\n",
"clc;\n",
"//Example 14.11\n",
"Rs=100;\n",
"R4=100000;\n",
"R3=100000;\n",
"V1=15;\n",
"V2=-15;\n",
"Vy=Rs*V1/(Rs+R4);\n",
"Vy=Vy*1000;//mV\n",
"printf('\nVoltage Vy =%.2fmV\n',Vy)"
   ]
   }
,
{
		   "cell_type": "markdown",
		   "metadata": {},
		   "source": [
			"## Example 14.13: Determine_the_bias_current_effect.sce"
		   ]
		  },
  {
"cell_type": "code",
	   "execution_count": null,
	   "metadata": {
	    "collapsed": true
	   },
	   "outputs": [],
"source": [
"clear;\n",
"clc;\n",
"//Example 14.13\n",
"R1=10;\n",
"R2=100;\n",
"Ib1=1.1*10^-3;\n",
"Ib2=1*10^-3;\n",
"vo=Ib1*R2;\n",
"printf('\noutput voltage =%.2fV\n',vo)\n",
"R3=R1*R2/(R1+R2);\n",
"printf('\nR3=%.2f KOhm\n',R3)\n",
"vo=R2*(Ib1-Ib2);\n",
"printf('\noutput voltage=%.2f V\n',vo)"
   ]
   }
,
{
		   "cell_type": "markdown",
		   "metadata": {},
		   "source": [
			"## Example 14.2: Determine_the_closed_loop_input_resistance.sce"
		   ]
		  },
  {
"cell_type": "code",
	   "execution_count": null,
	   "metadata": {
	    "collapsed": true
	   },
	   "outputs": [],
"source": [
"clear;\n",
"clc;\n",
"//Example 14.2\n",
"R2=10000;\n",
"Ri=10000;\n",
"Aol=10^5;\n",
"Rif=1/(1/Ri+(1+Aol)/R2);\n",
"printf('\nclosed loop input resistance =%.2fOhm\n',Rif)"
   ]
   }
,
{
		   "cell_type": "markdown",
		   "metadata": {},
		   "source": [
			"## Example 14.3: Determine_the_closed_loop_input_resistance.sce"
		   ]
		  },
  {
"cell_type": "code",
	   "execution_count": null,
	   "metadata": {
	    "collapsed": true
	   },
	   "outputs": [],
"source": [
"clear;\n",
"clc;\n",
"//Example 14.3\n",
"Aol=10^5;\n",
"Ri=10;\n",
"R1=10;\n",
"R2=R1;\n",
"Rif=(Ri*(1+Aol)+R2*(1+Ri/R1))/(1+R2/R1);\n",
"Rif=Rif*0.001;//Mohm\n",
"printf('\ninput resistance =%.fMOhm\n',Rif)"
   ]
   }
,
{
		   "cell_type": "markdown",
		   "metadata": {},
		   "source": [
			"## Example 14.5: Determine_the_unity_gain_bandwidth_and_the_closed_loop_gain.sce"
		   ]
		  },
  {
"cell_type": "code",
	   "execution_count": null,
	   "metadata": {
	    "collapsed": true
	   },
	   "outputs": [],
"source": [
"clear;\n",
"clc;\n",
"//Example 14.5\n",
"Ao=2*10^5;\n",
"fPD=5;\n",
"fT=fPD*Ao;\n",
"printf('\nunity gain bandwidth=%.e Hz\n',fT)\n",
"f3dB=20*10^3;\n",
"Acl=fT/f3dB;\n",
"printf('\nclosed loop gain=%.2f\n',Acl)"
   ]
   }
,
{
		   "cell_type": "markdown",
		   "metadata": {},
		   "source": [
			"## Example 14.6: Calculate_the_slew_rate_of_the_741_op_amp.sce"
		   ]
		  },
  {
"cell_type": "code",
	   "execution_count": null,
	   "metadata": {
	    "collapsed": true
	   },
	   "outputs": [],
"source": [
"clear;\n",
"clc;\n",
"//Example 14.6\n",
"Iq=19*10^-6;\n",
"C1=30*10^-12;\n",
"SR=Iq/C1;\n",
"SR=SR*10^-6;\n",
"printf('\nslew rate=%.2f V/micros\n',SR)"
   ]
   }
,
{
		   "cell_type": "markdown",
		   "metadata": {},
		   "source": [
			"## Example 14.7: Determine_the_small_signal_bandwidth_of_an_amplifier_and_full_power_bandwidth.sce"
		   ]
		  },
  {
"cell_type": "code",
	   "execution_count": null,
	   "metadata": {
	    "collapsed": true
	   },
	   "outputs": [],
"source": [
"clear;\n",
"clc;\n",
"//Example 14.7\n",
"fT=1000;//KHz\n",
"Aclo=10;\n",
"SR=1*10^3;\n",
"Vpo=10;\n",
"f3dB=fT/Aclo;\n",
"printf('\nsmall signal closed loop bandwidth=%.2f KHz\n',f3dB)\n",
"fmax=SR/(2*%pi*Vpo);\n",
"printf('\nfull power bandwidth=%.2f KHz\n',fmax)"
   ]
   }
,
{
		   "cell_type": "markdown",
		   "metadata": {},
		   "source": [
			"## Example 14.8: Calculate_the_offset_voltage_in_bipolar_diff_amp.sce"
		   ]
		  },
  {
"cell_type": "code",
	   "execution_count": null,
	   "metadata": {
	    "collapsed": true
	   },
	   "outputs": [],
"source": [
"clear;\n",
"clc;\n",
"//Example 14.8\n",
"Is1=10^-14;\n",
"Is2=1.05*10^-14;\n",
"Vt=0.026;\n",
"Vos=Vt*log(Is2/Is1);\n",
"printf('\nthe offset voltage =%fV\n',Vos)"
   ]
   }
],
"metadata": {
		  "kernelspec": {
		   "display_name": "Scilab",
		   "language": "scilab",
		   "name": "scilab"
		  },
		  "language_info": {
		   "file_extension": ".sce",
		   "help_links": [
			{
			 "text": "MetaKernel Magics",
			 "url": "https://github.com/calysto/metakernel/blob/master/metakernel/magics/README.md"
			}
		   ],
		   "mimetype": "text/x-octave",
		   "name": "scilab",
		   "version": "0.7.1"
		  }
		 },
		 "nbformat": 4,
		 "nbformat_minor": 0
}
