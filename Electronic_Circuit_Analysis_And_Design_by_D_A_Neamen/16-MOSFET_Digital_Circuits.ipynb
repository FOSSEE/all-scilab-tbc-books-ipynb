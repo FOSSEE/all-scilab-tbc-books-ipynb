{
"cells": [
 {
		   "cell_type": "markdown",
	   "metadata": {},
	   "source": [
       "# Chapter 16: MOSFET Digital Circuits"
	   ]
	},
{
		   "cell_type": "markdown",
		   "metadata": {},
		   "source": [
			"## Example 16.10: Calculate_the_power_dissipation_in_CMOS_inverter.sce"
		   ]
		  },
  {
"cell_type": "code",
	   "execution_count": null,
	   "metadata": {
	    "collapsed": true
	   },
	   "outputs": [],
"source": [
"clear;\n",
"clc;\n",
"//Example 16.10\n",
"Cl=2*10^-6;\n",
"Vdd=5;\n",
"f=100000;\n",
"P=f*Cl*Vdd^2;\n",
"printf('\npower dissipation in the CMOS inverter=%.3f microW\n',P)"
   ]
   }
,
{
		   "cell_type": "markdown",
		   "metadata": {},
		   "source": [
			"## Example 16.11: Determine_the_noise_margins_of_a_CMOS_inverter.sce"
		   ]
		  },
  {
"cell_type": "code",
	   "execution_count": null,
	   "metadata": {
	    "collapsed": true
	   },
	   "outputs": [],
"source": [
"clear;\n",
"clc;\n",
"//Example 16.11\n",
"Vtn=1;\n",
"Vtp=-1;\n",
"Vdd=5;\n",
"Vth=1;\n",
"Vil=Vtn+3*(Vdd+Vtp-Vth)/8;\n",
"printf('\ninput voltage at the transition points Vil=%.3f V\n',Vil)\n",
"Vih=Vtn+5*(Vdd+Vtp-Vtn)/8;\n",
"printf('\ninput voltage at the transition points Vih=%.3fV\n',Vih)\n",
"Vohu=1*(2*Vil+Vdd-Vtn-Vtp)/2;\n",
"printf('\noutput voltage =%.3f V\n',Vohu)\n",
"Volu=1*(2*Vih-Vdd-Vtn-Vtp)/2;\n",
"printf('\noutput voltage =%.2f V\n',Volu)\n",
"NML=Vil-Volu;\n",
"printf('\nnoise margin =%.3f V\n',NML)\n",
"NMH=Vohu-Vih;\n",
"printf('\nnoise margin=%.3f V\n',NML)"
   ]
   }
,
{
		   "cell_type": "markdown",
		   "metadata": {},
		   "source": [
			"## Example 16.15: Determine_the_currents_voltages_and_power_dissipation_in_two_NMOS_SPAM_cells.sce"
		   ]
		  },
  {
"cell_type": "code",
	   "execution_count": null,
	   "metadata": {
	    "collapsed": true
	   },
	   "outputs": [],
"source": [
"clear;\n",
"clc;\n",
"//Example 16.15\n",
"Vdd=3;\n",
"Kn=60;\n",
"Vtnd=0.5;\n",
"//W/L=x\n",
"xd=2;\n",
"Vtnl=-1;\n",
"xl=0.5;\n",
"R=2;//(MOhm)\n",
"Vgsl=0;\n",
"//solution with Depletion load\n",
"iD=Kn*xl*(Vgsl-Vtnl)^2/2;\n",
"printf('\nfrain currents in M1 and M3 =%.fmicroA\n',iD)\n",
"P=iD*Vdd;\n",
"printf('\npower dissipation in the circuit=%.f microW\n',P)\n",
"//iD=Kn/2*x*(2*Vgsd-Vtnd)Vdsd-Vdsd^2\n",
"Q=poly(0,'Q');\n",
"p=poly([0.25 -5 1],'Q','c');\n",
"roots(p)\n",
"disp('Q=50.5 (mV)')\n",
"//solution with Resistor load\n",
"//(Vdd-Q)/R=Kn/2*xd*(2*Vgsd-Vtnd)Q-Q^2\n",
"Q=poly(0,'Q');\n",
"p=poly([3 -599 120],'Q','c');\n",
"roots(p)\n",
"Q=0.005;\n",
"disp('Q=5 (mV)')\n",
"iD=(Vdd-Q)/R;\n",
"printf('\ndrain current =%.2f microA\n',iD)\n",
"P=iD*Vdd;\n",
"printf('\npower dissipation in the circuit =%.2f microW\n',P)"
   ]
   }
,
{
		   "cell_type": "markdown",
		   "metadata": {},
		   "source": [
			"## Example 16.3: Design_the_aspect_ratio_and_determine_the_power_dissipation.sce"
		   ]
		  },
  {
"cell_type": "code",
	   "execution_count": null,
	   "metadata": {
	    "collapsed": true
	   },
	   "outputs": [],
"source": [
"clear;\n",
"clc;\n",
"//Example 16.3\n",
"Vdd=5;\n",
"Vtnd=0.8;\n",
"Vtnl=0.8;\n",
"Kn=35;\n",
"Vo=0.1;\n",
"Vi=4.2;\n",
"//W/L=Y\n",
"yl=0.5;\n",
"//Kd/Kl=x\n",
"x=(Vdd-Vo-Vtnl)^2/(2*Vo*(Vi-Vtnd)-Vo^2);\n",
"printf('\nKd/Kl=%.2f\n',x)\n",
"//Kd/Kl=yd/yl\n",
"yd=12.6\n",
"yl=0.5\n",
"iD=Kn*yl*(Vdd-Vo-Vtnl)^2/2;\n",
"printf('\ndrain current =%.2f microA\n',iD)\n",
"P=iD*Vdd;\n",
"printf('\npower dissipation=%.2f microW\n',P)"
   ]
   }
,
{
		   "cell_type": "markdown",
		   "metadata": {},
		   "source": [
			"## Example 16.4: Design_the_aspect_ratio_and_determine_the_power_dissipation.sce"
		   ]
		  },
  {
"cell_type": "code",
	   "execution_count": null,
	   "metadata": {
	    "collapsed": true
	   },
	   "outputs": [],
"source": [
"clear;\n",
"clc;\n",
"//Example 16.4\n",
"Vdd=5;\n",
"Vtnd=0.8;\n",
"Vtnl=-2;\n",
"Kn=35;\n",
"Vo=0.1;\n",
"Vi=5;\n",
"//W/L=Y\n",
"yl=0.5;\n",
"//Kd/Kl=x\n",
"x=(-Vtnl)^2/(2*Vo*(Vi-Vtnd)-Vo^2);\n",
"printf('\nKd/Kl=%.2f\n',x)\n",
"//Kd/Kl=yd/yl\n",
"yd=2.41\n",
"yl=0.5\n",
"iD=Kn*yl*(-Vtnl)^2/2;\n",
"printf('\ndrain current=%.2f microA\n',iD)\n",
"P=iD*Vdd;\n",
"printf('\npower dissipation =%.2f microW\n',P)"
   ]
   }
,
{
		   "cell_type": "markdown",
		   "metadata": {},
		   "source": [
			"## Example 16.5: Determine_the_noise_margin_of_an_inverter_with_enhancement_load.sce"
		   ]
		  },
  {
"cell_type": "code",
	   "execution_count": null,
	   "metadata": {
	    "collapsed": true
	   },
	   "outputs": [],
"source": [
"clear;\n",
"clc;\n",
"//Example 16.5\n",
"Voh=4.2;\n",
"Vol=0.1;\n",
"//x=Kd/Kl\n",
"x=25.1;\n",
"Vdd=5;\n",
"Vtnl=0.8;\n",
"Vohu=4.2;\n",
"Vil=0.8;\n",
"Vtnd=0.8;\n",
"Vih=Vtnd+(Vdd-Vtnl)/x*((1+2*x)/sqrt(1+3*x)-1);\n",
"printf('\nVih=%.2f V\n',Vih)\n",
"Volu=(Vdd-Vtnl+x*(Vih-Vtnd))/(1+2*x);\n",
"printf('\noutput voltage corresponding to Vih=%.3f V\n',Volu)\n",
"NMl=Vil-Volu;\n",
"printf('\nnoise margin=%0.3f V\n',NMl)\n",
"NMh=Vohu-Vih;\n",
"printf('\nnoise margin=%.3f V\n',NMh)"
   ]
   }
,
{
		   "cell_type": "markdown",
		   "metadata": {},
		   "source": [
			"## Example 16.9: Determine_the_critical_voltage_on_the_voltage_transfer_curve_of_a_CMOS_inverter.sce"
		   ]
		  },
  {
"cell_type": "code",
	   "execution_count": null,
	   "metadata": {
	    "collapsed": true
	   },
	   "outputs": [],
"source": [
"clear;\n",
"clc;\n",
"//Example 16.9\n",
"Vdd=5;\n",
"Vtn=1;\n",
"Vtp=-1;\n",
"//Kn=Kp hence Kn/Kp=x=1;\n",
"x=1;\n",
"Vit=(Vdd+Vtp+sqrt(x)*Vtn)/(1+sqrt(x));\n",
"printf('\ninput voltage=%.2f V\n',Vit)\n",
"Vipt=Vit;\n",
"Vopt=Vipt-Vtp;\n",
"printf('\noutput voltage at the transition point for PMOS =%.2fV\n',Vopt)\n",
"Vint=Vit;\n",
"Vont=Vint-Vtn;\n",
"printf('\noutput voltage at the transition point for NMOS=%.2f V\n',Vont)\n",
"Vdd=10;\n",
"Vit=(Vdd+Vtp+sqrt(x)*Vtn)/(1+sqrt(x));\n",
"printf('\ninput voltage =%.2fV\n',Vit)\n",
"Vipt=Vit;\n",
"Vint=Vit;\n",
"Vopt=Vipt-Vtp;\n",
"printf('\noutput voltage at the transition point for PMOS =%.2fV\n',Vopt)\n",
"Vont=Vint-Vtn;\n",
"printf('\noutput voltage at the transition point for NMOS =%.2fV\n',Vont)"
   ]
   }
],
"metadata": {
		  "kernelspec": {
		   "display_name": "Scilab",
		   "language": "scilab",
		   "name": "scilab"
		  },
		  "language_info": {
		   "file_extension": ".sce",
		   "help_links": [
			{
			 "text": "MetaKernel Magics",
			 "url": "https://github.com/calysto/metakernel/blob/master/metakernel/magics/README.md"
			}
		   ],
		   "mimetype": "text/x-octave",
		   "name": "scilab",
		   "version": "0.7.1"
		  }
		 },
		 "nbformat": 4,
		 "nbformat_minor": 0
}
