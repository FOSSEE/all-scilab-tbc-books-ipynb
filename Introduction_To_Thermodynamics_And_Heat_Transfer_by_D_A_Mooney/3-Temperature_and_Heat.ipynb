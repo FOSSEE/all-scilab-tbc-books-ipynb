{
"cells": [
 {
		   "cell_type": "markdown",
	   "metadata": {},
	   "source": [
       "# Chapter 3: Temperature and Heat"
	   ]
	},
{
		   "cell_type": "markdown",
		   "metadata": {},
		   "source": [
			"## Example 3.1: chapter_3_example_1.sce"
		   ]
		  },
  {
"cell_type": "code",
	   "execution_count": null,
	   "metadata": {
	    "collapsed": true
	   },
	   "outputs": [],
"source": [
"clc\n",
"//initialisation of variables\n",
"T2w= 100 //F\n",
"T1w= 75 //F\n",
"cw= 1 //Btu/lb F\n",
"T2i= 100 //F\n",
"T1i= 500 //F\n",
"ci= 0.12 //Btu/lb F\n",
"mi= 1\n",
"//CALCULATIONS\n",
"Mw= -mi*ci*(T2i-T1i)/(cw*(T2w-T1w))\n",
"//RESULTS\n",
"printf ('Pounds of water needed per pound of iron= %.2f lb water/lb iron',Mw)"
   ]
   }
,
{
		   "cell_type": "markdown",
		   "metadata": {},
		   "source": [
			"## Example 3.2: chapter_3_example_2.sce"
		   ]
		  },
  {
"cell_type": "code",
	   "execution_count": null,
	   "metadata": {
	    "collapsed": true
	   },
	   "outputs": [],
"source": [
"clc\n",
"//initialisation of variables\n",
"m=5 //lb\n",
"T1=1540 +460 //R\n",
"T2=540+460 //R\n",
"//CALCULATIONS\n",
"function [cp]=cp(T)\n",
"    cp=0.248+0.448*10^-8 *T*T\n",
"endfunction\n",
"Q=m*intg(T1,T2,cp)\n",
"//Results\n",
"printf ('Net heat transferred to the system = %.2f Btu',Q)"
   ]
   }
,
{
		   "cell_type": "markdown",
		   "metadata": {},
		   "source": [
			"## Example 3.3: chapter_3_example_3.sce"
		   ]
		  },
  {
"cell_type": "code",
	   "execution_count": null,
	   "metadata": {
	    "collapsed": true
	   },
	   "outputs": [],
"source": [
"clc\n",
"//initialisation of variables\n",
"m= 10 //lb\n",
"cp= 0.180 //Btu/lb F\n",
"cp1= 0.235 //Btu/lb F\n",
"L= 15.8 //btu/lb\n",
"L1= 120 //btu/lb\n",
"T1= 70 //F\n",
"T2= 235 //F\n",
"T3= 832 //F\n",
"//CALCULATIONS\n",
"Qa= m*cp*(T2-T1)\n",
"Qb= m*L\n",
"Qc= m*cp1*(T3-T2)\n",
"Qd= m*L1\n",
"Q= Qa+Qb+Qc+Qd\n",
"//RESULTS\n",
"printf ('Heat required= %.f Btu',Q)"
   ]
   }
,
{
		   "cell_type": "markdown",
		   "metadata": {},
		   "source": [
			"## Example 3.4: chapter_3_example_4.sce"
		   ]
		  },
  {
"cell_type": "code",
	   "execution_count": null,
	   "metadata": {
	    "collapsed": true
	   },
	   "outputs": [],
"source": [
"clc\n",
"//initialisation of variables\n",
"m= 40 //lb\n",
"m1= 10 //lb\n",
"cp= 1.00 //Btu/lb F\n",
"cp1= 0.501 //Btu/lb F\n",
"cp2= 0.092 //Btu/lb F\n",
"L= 143.3 //btu/lb\n",
"L1= 120 //btu/lb\n",
"T1= 22 //F\n",
"T2= 32 //F\n",
"T3= 40 //F\n",
"T4= 70 //F\n",
"//CALCULATIONS\n",
"Qa= cp1*(T2-T1)\n",
"Qb= L\n",
"Qc= cp*(T3-T2)\n",
"Qd= m*cp*(T3-T4)\n",
"mi= -Qd/(Qa+Qb+Qc)\n",
"Qe= m1*cp2*(T3-T4)\n",
"mi1= -Qe/(Qa+Qb+Qc)\n",
"//RESULTS\n",
"printf ('Ice weight= %.2f lb of ice',mi)\n",
"printf (' \n Additional ice required= %.3f lb of ice',mi1)\n",
""
   ]
   }
],
"metadata": {
		  "kernelspec": {
		   "display_name": "Scilab",
		   "language": "scilab",
		   "name": "scilab"
		  },
		  "language_info": {
		   "file_extension": ".sce",
		   "help_links": [
			{
			 "text": "MetaKernel Magics",
			 "url": "https://github.com/calysto/metakernel/blob/master/metakernel/magics/README.md"
			}
		   ],
		   "mimetype": "text/x-octave",
		   "name": "scilab",
		   "version": "0.7.1"
		  }
		 },
		 "nbformat": 4,
		 "nbformat_minor": 0
}
