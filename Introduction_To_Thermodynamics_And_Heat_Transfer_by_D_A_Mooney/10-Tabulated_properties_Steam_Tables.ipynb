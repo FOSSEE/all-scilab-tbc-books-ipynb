{
"cells": [
 {
		   "cell_type": "markdown",
	   "metadata": {},
	   "source": [
       "# Chapter 10: Tabulated properties Steam Tables"
	   ]
	},
{
		   "cell_type": "markdown",
		   "metadata": {},
		   "source": [
			"## Example 10.10: chapter_10_example_10.sce"
		   ]
		  },
  {
"cell_type": "code",
	   "execution_count": null,
	   "metadata": {
	    "collapsed": true
	   },
	   "outputs": [],
"source": [
" clc\n",
"//initialisation of variables\n",
"T= 100 //F\n",
"P= 1000 //psia\n",
"dv= -5.1*10^-5 //cu ft/lb\n",
"dh= 2.70 //Btu/lb\n",
"vf= 0.01613 //cu ft/lb\n",
"hf= 67.97 //Btu/lb\n",
"//CALCULATIONS\n",
"h= dh+hf\n",
"v= dv+vf\n",
"//RESULTS\n",
"printf ('Volume= %.5f cu ft/lb',v)\n",
"printf (' \n Enthalpy= %.2f Btu/lb',h)"
   ]
   }
,
{
		   "cell_type": "markdown",
		   "metadata": {},
		   "source": [
			"## Example 10.11: chapter_10_example_11.sce"
		   ]
		  },
  {
"cell_type": "code",
	   "execution_count": null,
	   "metadata": {
	    "collapsed": true
	   },
	   "outputs": [],
"source": [
"clc\n",
"//initialisation of variables\n",
"h1= 1183.2 //Btu/lb\n",
"hg= 1198.4 //Btu/lb\n",
"hfg= 843.0 //Btu/lb\n",
"//CALCULATIONS\n",
"n= 1-((hg-h1)/hfg)\n",
"//RESULTS\n",
"printf ('quality= %.3f ',n)"
   ]
   }
,
{
		   "cell_type": "markdown",
		   "metadata": {},
		   "source": [
			"## Example 10.1: Chapter_10_example_1.sce"
		   ]
		  },
  {
"cell_type": "code",
	   "execution_count": null,
	   "metadata": {
	    "collapsed": true
	   },
	   "outputs": [],
"source": [
"clc\n",
"//initialisation of variables\n",
"p= 100//psia\n",
"vg= 4.432 //cu ft/lb\n",
"vf= 0.01744 //cu ft/lb\n",
"T= 327.8 //F\n",
"sfg= 1.1286 //Bu/lb R\n",
"//CALCULATIONS\n",
"Q=(T+460)*sfg\n",
"//RESULTS\n",
"printf ('Heat of vaourisation= %.f Btu/lb',Q)"
   ]
   }
,
{
		   "cell_type": "markdown",
		   "metadata": {},
		   "source": [
			"## Example 10.2: chapter_10_example_2.sce"
		   ]
		  },
  {
"cell_type": "code",
	   "execution_count": null,
	   "metadata": {
	    "collapsed": true
	   },
	   "outputs": [],
"source": [
"clc\n",
"//initialisation of variables\n",
"S= 1.6315 //Btu/lb R\n",
"//CALCULATIONS\n",
"P= 70 //psia\n",
"t= 302.92 //F\n",
"h= 1180.6 //Btu/lb\n",
"//RESULTS\n",
"printf ('Pressure= %.2f Psia',P)\n",
"printf (' \n Temperature = %.2f F',t)\n",
"printf (' \n Enthalpy= %.1f Btu/lb',h)"
   ]
   }
,
{
		   "cell_type": "markdown",
		   "metadata": {},
		   "source": [
			"## Example 10.3: chapter_10_example_3.sce"
		   ]
		  },
  {
"cell_type": "code",
	   "execution_count": null,
	   "metadata": {
	    "collapsed": true
	   },
	   "outputs": [],
"source": [
"clc\n",
"//initialisation of variables\n",
"T= 250 //F\n",
"hg= 1164.0 //Btu/lb\n",
"P= 29.825 //Psia\n",
"Vg= 13.821 //cu ft/lb\n",
"//CALCULATIONS\n",
"ug= hg-(P*Vg*144/778)\n",
"//RESULTS\n",
"printf ('Internal energy= %.1f Btu/lb',ug)"
   ]
   }
,
{
		   "cell_type": "markdown",
		   "metadata": {},
		   "source": [
			"## Example 10.4: chapter_10_example_4.sce"
		   ]
		  },
  {
"cell_type": "code",
	   "execution_count": null,
	   "metadata": {
	    "collapsed": true
	   },
	   "outputs": [],
"source": [
"clc\n",
"//initialisation of variables\n",
"P= 100 //psia\n",
"n= 40\n",
"vf= 0.01774 //cu ft/lb\n",
"vg= 4.432 //cu ft/lb\n",
"hf= 298.4 //Btu/lb\n",
"hfg= 888.8 //Btu/lb\n",
"sg= 1.6026 //Btu/lb R\n",
"sfg= 1.1286 //Btu/lb R\n",
"//CALCULATIONS\n",
"vx= (n/100)*vf+(1-(n/100))*vg\n",
"hx= hf+(1-(n/100))*hfg\n",
"sx= sg-(n/100)*sfg\n",
"//RESULTS\n",
"printf ('Volume= %.2f cu ft/lb',vx)\n",
"printf (' \n Entropy = %.2f Btu/lb R',sx)\n",
"printf (' \n Enthalpy= %.1f Btu/lb',hx)"
   ]
   }
,
{
		   "cell_type": "markdown",
		   "metadata": {},
		   "source": [
			"## Example 10.5: chapter_10_example_5.sce"
		   ]
		  },
  {
"cell_type": "code",
	   "execution_count": null,
	   "metadata": {
	    "collapsed": true
	   },
	   "outputs": [],
"source": [
"clc\n",
"//initialisation of variables\n",
"P= 100 //psia\n",
"n= 0.97\n",
"hf= 298.4 //Btu/lb\n",
"hfg= 888.8 //Btu/lb\n",
"hg= 1187.2 //Btu/lb\n",
"//CALCULATIONS\n",
"hx= hf+n*hfg\n",
"hx1= hg-(1-n)*hfg\n",
"//RESULTS\n",
"printf ('Enthalpy= %.f Btu/lb',hx)\n",
"printf (' \n Precise Enthalpy= %.1f Btu/lb',hx1)"
   ]
   }
,
{
		   "cell_type": "markdown",
		   "metadata": {},
		   "source": [
			"## Example 10.6: chapter_10_example_6.sce"
		   ]
		  },
  {
"cell_type": "code",
	   "execution_count": null,
	   "metadata": {
	    "collapsed": true
	   },
	   "outputs": [],
"source": [
" clc\n",
"//initialisation of variables\n",
"P= 15 //psia\n",
"S= 1.7050 //Btu/lb R\n",
"sg= 1.7549 //btu/lb R\n",
"sfg= 1.4415 //Bru/lb R\n",
"hg= 1150.8 //btu/lb\n",
"hfg= 969.7 //Btu/lb\n",
"vg= 26.29 //cu ft/lb\n",
"vfg= 26.27 //cu ft/lb\n",
"//CALCULATIONS\n",
"n= (sg-sx)/sfg\n",
"sx= sg-n*sfg\n",
"hx= hg-n*hfg\n",
"vx= vg-n*vfg\n",
"//RESULTS\n",
"printf ('Volume= %.2f cu ft/lb',vx)\n",
"printf (' \n Entropy = %.2f Btu/lb R',sx)\n",
"printf (' \n Enthalpy= %.1f Btu/lb',hx)"
   ]
   }
],
"metadata": {
		  "kernelspec": {
		   "display_name": "Scilab",
		   "language": "scilab",
		   "name": "scilab"
		  },
		  "language_info": {
		   "file_extension": ".sce",
		   "help_links": [
			{
			 "text": "MetaKernel Magics",
			 "url": "https://github.com/calysto/metakernel/blob/master/metakernel/magics/README.md"
			}
		   ],
		   "mimetype": "text/x-octave",
		   "name": "scilab",
		   "version": "0.7.1"
		  }
		 },
		 "nbformat": 4,
		 "nbformat_minor": 0
}
