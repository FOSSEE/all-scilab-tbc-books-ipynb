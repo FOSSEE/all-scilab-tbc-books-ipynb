{
"cells": [
 {
		   "cell_type": "markdown",
	   "metadata": {},
	   "source": [
       "# Chapter 2: Work"
	   ]
	},
{
		   "cell_type": "markdown",
		   "metadata": {},
		   "source": [
			"## Example 2.1: chapter_2_example_1.sce"
		   ]
		  },
  {
"cell_type": "code",
	   "execution_count": null,
	   "metadata": {
	    "collapsed": true
	   },
	   "outputs": [],
"source": [
"clc\n",
"//initialisation of variables\n",
"P= 100 //psia\n",
"V= 3 //cu ft\n",
"P1= 20 //psia\n",
"n= 1.4\n",
"//CALCULATIONS\n",
"V1= V*(P/P1)^(1/n)\n",
"W= (P1*V1*144-P*V*144)/(1-n)\n",
"//RESULTS\n",
"printf ('P dV work for this process= %.f ft lb',W)"
   ]
   }
,
{
		   "cell_type": "markdown",
		   "metadata": {},
		   "source": [
			"## Example 2.2: chapter_2_example_2.sce"
		   ]
		  },
  {
"cell_type": "code",
	   "execution_count": null,
	   "metadata": {
	    "collapsed": true
	   },
	   "outputs": [],
"source": [
"clc\n",
"//initialisation of variables\n",
"W= 1 //hp\n",
"P= 69.4 //psia\n",
"V2= 3 //cu\n",
"V1= 1 //cu\n",
"//CALCULATIONS\n",
"Wb=  -W*33000\n",
"Wa= P*(V2-V1)*144\n",
"Q= Wa+Wb\n",
"//RESULTS\n",
"printf ('Total system work during the 1 minute period= %.f ft lb',Q)"
   ]
   }
,
{
		   "cell_type": "markdown",
		   "metadata": {},
		   "source": [
			"## Example 2.3: chapter_2_example_3.sce"
		   ]
		  },
  {
"cell_type": "code",
	   "execution_count": null,
	   "metadata": {
	    "collapsed": true
	   },
	   "outputs": [],
"source": [
"clc\n",
"//initialisation of variables\n",
"r= 11 //in\n",
"l= 15 //in\n",
"A= 1.6 //in\n",
"l1= 2.4 //in\n",
"//CALCULATIONS\n",
"a= %pi*r^2/4\n",
"L= l/12\n",
"Pm= (A/l1)*80\n",
"W= a*L*Pm\n",
"//RESULTS\n",
"printf ('Net work done by the fluid in the cylinder= %.f ft lb',W)"
   ]
   }
],
"metadata": {
		  "kernelspec": {
		   "display_name": "Scilab",
		   "language": "scilab",
		   "name": "scilab"
		  },
		  "language_info": {
		   "file_extension": ".sce",
		   "help_links": [
			{
			 "text": "MetaKernel Magics",
			 "url": "https://github.com/calysto/metakernel/blob/master/metakernel/magics/README.md"
			}
		   ],
		   "mimetype": "text/x-octave",
		   "name": "scilab",
		   "version": "0.7.1"
		  }
		 },
		 "nbformat": 4,
		 "nbformat_minor": 0
}
