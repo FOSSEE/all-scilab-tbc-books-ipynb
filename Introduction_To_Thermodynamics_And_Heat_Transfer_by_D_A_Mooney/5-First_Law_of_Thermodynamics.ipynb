{
"cells": [
 {
		   "cell_type": "markdown",
	   "metadata": {},
	   "source": [
       "# Chapter 5: First Law of Thermodynamics"
	   ]
	},
{
		   "cell_type": "markdown",
		   "metadata": {},
		   "source": [
			"## Example 5.1: Chapter_5_example_1.sce"
		   ]
		  },
  {
"cell_type": "code",
	   "execution_count": null,
	   "metadata": {
	    "collapsed": true
	   },
	   "outputs": [],
"source": [
"clc\n",
"//initialisation of variables\n",
"p= 15 //psia\n",
"V2= 5 //cu\n",
"V1= 10 //cu\n",
"E= 34.7 //Btu\n",
"//CALCULATIONS\n",
"dE= -E-((p*(V2-V1)*144)/(778))\n",
"//RESULTS\n",
"printf ('Change in internal enenrgy of the gas= %.2f Btu',dE)"
   ]
   }
,
{
		   "cell_type": "markdown",
		   "metadata": {},
		   "source": [
			"## Example 5.2: chapter_5_example_2.sce"
		   ]
		  },
  {
"cell_type": "code",
	   "execution_count": null,
	   "metadata": {
	    "collapsed": true
	   },
	   "outputs": [],
"source": [
"clc\n",
"//initialisation of variables\n",
"m= 2 //lb\n",
"T2= 35 //F\n",
"cv= 1.2 //Btu/lb F\n",
"Q= 34 //Btu\n",
"//CALCULATIONS\n",
"U= m*cv*T2\n",
"W= Q-U\n",
"//RESULTS\n",
"printf ('Change in internal enenrgy = %.f Btu',W)"
   ]
   }
,
{
		   "cell_type": "markdown",
		   "metadata": {},
		   "source": [
			"## Example 5.3: chapter_5_example_3.sce"
		   ]
		  },
  {
"cell_type": "code",
	   "execution_count": null,
	   "metadata": {
	    "collapsed": true
	   },
	   "outputs": [],
"source": [
"clc\n",
"//initialisation of variables\n",
"p= 500 //psia\n",
"V2= 0.9278 //cu ft/lb\n",
"V1= 0.0197 //cu ft/lb\n",
"h= 1204.4 //Btu/lb\n",
"h1= 449.4 //Btu/lb\n",
"//CALCULATIONS\n",
"W= p*144*(V2-V1)\n",
"U= h-h1-(W/778)\n",
"//RESULTS\n",
"printf ('Change in internal enenrgy = %.1f Btu',U)"
   ]
   }
,
{
		   "cell_type": "markdown",
		   "metadata": {},
		   "source": [
			"## Example 5.4: chapter_5_example_4.sce"
		   ]
		  },
  {
"cell_type": "code",
	   "execution_count": null,
	   "metadata": {
	    "collapsed": true
	   },
	   "outputs": [],
"source": [
"clc\n",
"//initialisation of variables\n",
"m= 3 //lb\n",
"V1= 6 //cu ft\n",
"p1= 75. //psia\n",
"p2= 15 //psia\n",
"n= 1.2\n",
"Q1= 30 //Btu\n",
"//CALCULATIONS\n",
"V2= V1*(p1/p2)^(1/n)\n",
"disp(V2)\n",
"U= (m/3)*(0.480*p2*V2+35-0.480*p1*V1-35)\n",
"W= (p2*V2-p1*V1)/(1-n)\n",
"Q= U+W\n",
"W1= Q1-U\n",
"//RESULTS\n",
"printf ('Change in internal enenrgy = %.1f Btu',U)\n",
"printf (' \n Work done = %.f Btu',W)\n",
"printf (' \n Heat generated = %.f Btu',Q)\n",
"printf (' \n Work done = %.f Btu',W1)\n",
"//The answers given in the textbook are wrong.please calculate them personally.\n",
"\n",
"\n",
"\n",
"\n",
"\n",
"\n",
"\n",
"\n",
"\n",
"\n",
"\n",
"\n",
"\n",
"\n",
""
   ]
   }
],
"metadata": {
		  "kernelspec": {
		   "display_name": "Scilab",
		   "language": "scilab",
		   "name": "scilab"
		  },
		  "language_info": {
		   "file_extension": ".sce",
		   "help_links": [
			{
			 "text": "MetaKernel Magics",
			 "url": "https://github.com/calysto/metakernel/blob/master/metakernel/magics/README.md"
			}
		   ],
		   "mimetype": "text/x-octave",
		   "name": "scilab",
		   "version": "0.7.1"
		  }
		 },
		 "nbformat": 4,
		 "nbformat_minor": 0
}
