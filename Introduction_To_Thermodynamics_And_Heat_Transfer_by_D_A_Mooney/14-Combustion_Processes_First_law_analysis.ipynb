{
"cells": [
 {
		   "cell_type": "markdown",
	   "metadata": {},
	   "source": [
       "# Chapter 14: Combustion Processes First law analysis"
	   ]
	},
{
		   "cell_type": "markdown",
		   "metadata": {},
		   "source": [
			"## Example 14.1: Chapter_14_example_1.sce"
		   ]
		  },
  {
"cell_type": "code",
	   "execution_count": null,
	   "metadata": {
	    "collapsed": true
	   },
	   "outputs": [],
"source": [
"clc\n",
"//initialisation of variables\n",
"M= 114 //lb\n",
"Mo= 32 //lb\n",
"Mn= 28 //lb\n",
"Mc= 44 //lb\n",
"Mw= 18 //lb\n",
"//CALCULATIONS\n",
"Ma= (12.5*Mo+(12.5)*(79/21)*Mn)/114\n",
"//RESULTS\n",
"printf ('Theoritical air for combustion= %.1f lb air per lb C8H18 ',Ma)"
   ]
   }
,
{
		   "cell_type": "markdown",
		   "metadata": {},
		   "source": [
			"## Example 14.4: chapter_14_example_4.sce"
		   ]
		  },
  {
"cell_type": "code",
	   "execution_count": null,
	   "metadata": {
	    "collapsed": true
	   },
	   "outputs": [],
"source": [
"clc\n",
"//initialisation of variables\n",
"mO2=1.33 //lb\n",
"mCO2=3.67 //lb\n",
"CvO2=0.155 //Btu/lb F\n",
"CvCO2=0.165 //Btu/lb F\n",
"Cc=0.170 //Btu/lb F\n",
"t2=1000 //F\n",
"tB=68 //F\n",
"t=300 //F\n",
"mC=1\n",
"mO=4\n",
"//Calculations\n",
"deltaE1=mO2*CvO2*(t2-tB) + mCO2*CvCO2*(t2-tB)\n",
"deltaE2=mC*CC*(tB-t) + mO*CvO2*(tB-t)\n",
"E= -14087 //Btu\n",
"Q=deltaE1+E+deltaE2\n",
"//Results\n",
"printf ('Heat Transfer from the system = %.2f',Q)"
   ]
   }
,
{
		   "cell_type": "markdown",
		   "metadata": {},
		   "source": [
			"## Example 14.5: chapter_14_example_5.sce"
		   ]
		  },
  {
"cell_type": "code",
	   "execution_count": null,
	   "metadata": {
	    "collapsed": true
	   },
	   "outputs": [],
"source": [
"clc\n",
"//initialisation of variables\n",
"HV=4344 //Btu/lb\n",
"m=56 //lb\n",
"R=1.986 //Btu/lb mol R\n",
"Tb=530 //R\n",
"//Calculations\n",
"HR=m*HV\n",
"Eb=-HR-R*Tb*(2-3)\n",
"printf ('Constant pressure heating value = %.1f Btu/lb formula wt',Eb)"
   ]
   }
,
{
		   "cell_type": "markdown",
		   "metadata": {},
		   "source": [
			"## Example 14.6: chapter_14_example_6.sce"
		   ]
		  },
  {
"cell_type": "code",
	   "execution_count": null,
	   "metadata": {
	    "collapsed": true
	   },
	   "outputs": [],
"source": [
"clc\n",
"//initialisation of variables\n",
"mC=1 //lb\n",
"mO2=2.67 //lb\n",
"mN2=8.78 //lb\n",
"mCO2=3.67 //lb\n",
"mN2=8.78 //lb\n",
"tB=77 //F\n",
"deltaH=14087 //Btu/lb\n",
"CpCO2=0.196 //Btu/lb F\n",
"CpCO2f=0.3 //Btu/lb F\n",
"CpN2=0.248 //Btu/lb F\n",
"CpN2f=0.285 //Btu/lb F\n",
"//Calculations\n",
"t2= tB+ deltaH/(mCO2*CpCO2 + mN2*CpN2)\n",
"t2f=tB+ deltaH/(mCO2*CpCO2f + mN2*CpN2f)\n",
"//Results\n",
"printf ('In case 1, t2 = %.1f F',t2)\n",
"printf ('\n In case 2, t2f = %.1f F',t2f)"
   ]
   }
,
{
		   "cell_type": "markdown",
		   "metadata": {},
		   "source": [
			"## Example 14.7: chapter_14_example_7.sce"
		   ]
		  },
  {
"cell_type": "code",
	   "execution_count": null,
	   "metadata": {
	    "collapsed": true
	   },
	   "outputs": [],
"source": [
"clc\n",
"//initialisation of variables\n",
"HR=14087 //Btu\n",
"HRC=3952 //Btu\n",
"x1=0.9\n",
"x2=0.05\n",
"//Calculations\n",
"HR1=x1*HR\n",
"HR2=x2*HRC\n",
"e=(HR2+HR1)/HR\n",
"//Results\n",
"printf ('Efficiency = %.3f',e)"
   ]
   }
,
{
		   "cell_type": "markdown",
		   "metadata": {},
		   "source": [
			"## Example 14.8: chapter_14_example_8.sce"
		   ]
		  },
  {
"cell_type": "code",
	   "execution_count": null,
	   "metadata": {
	    "collapsed": true
	   },
	   "outputs": [],
"source": [
"clc\n",
"//initialisation of variables\n",
"h= 19500 //Btu\n",
"w= 700 //lb/hr\n",
"Q= 10240000\n",
"//CALCULATIONS\n",
"Q1= w*h\n",
"e= Q/Q1\n",
"//RESULTS\n",
"printf ('Efficiency= %.2f ',e)"
   ]
   }
],
"metadata": {
		  "kernelspec": {
		   "display_name": "Scilab",
		   "language": "scilab",
		   "name": "scilab"
		  },
		  "language_info": {
		   "file_extension": ".sce",
		   "help_links": [
			{
			 "text": "MetaKernel Magics",
			 "url": "https://github.com/calysto/metakernel/blob/master/metakernel/magics/README.md"
			}
		   ],
		   "mimetype": "text/x-octave",
		   "name": "scilab",
		   "version": "0.7.1"
		  }
		 },
		 "nbformat": 4,
		 "nbformat_minor": 0
}
