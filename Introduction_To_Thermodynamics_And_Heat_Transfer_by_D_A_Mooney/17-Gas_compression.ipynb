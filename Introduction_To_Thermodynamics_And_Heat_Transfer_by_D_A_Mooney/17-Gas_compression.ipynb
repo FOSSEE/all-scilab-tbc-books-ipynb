{
"cells": [
 {
		   "cell_type": "markdown",
	   "metadata": {},
	   "source": [
       "# Chapter 17: Gas compression"
	   ]
	},
{
		   "cell_type": "markdown",
		   "metadata": {},
		   "source": [
			"## Example 17.1: chapter_17_example_1.sce"
		   ]
		  },
  {
"cell_type": "code",
	   "execution_count": null,
	   "metadata": {
	    "collapsed": true
	   },
	   "outputs": [],
"source": [
"clc\n",
"//initialisation of variables\n",
"R= 53.31\n",
"T= 80 //F\n",
"P2= 90//psia\n",
"P1= 15 //psia\n",
"n= 1.4\n",
"n1= 1.3\n",
"cv= 0.171\n",
"//CALCULATIONS\n",
"Wk= (n/(n-1))*R*(T+460)*((P2/P1)^((n-1)/n)-1)\n",
"Wn= (n1/(n1-1))*R*(T+460)*((P2/P1)^((n1-1)/n1)-1)\n",
"Wt= R*(T+460)*log(P2/P1)\n",
"Q= cv*0.778*((n-n1)/(1-n1))*(T+460)*((P2/P1)^((n-1)/n)-1)\n",
"//RESULTS\n",
"printf ('Heat transfered from the airin each case= %.1f Btu/lb',Q)"
   ]
   }
,
{
		   "cell_type": "markdown",
		   "metadata": {},
		   "source": [
			"## Example 17.2: chapter_17_example_2.sce"
		   ]
		  },
  {
"cell_type": "code",
	   "execution_count": null,
	   "metadata": {
	    "collapsed": true
	   },
	   "outputs": [],
"source": [
"clc\n",
"//initialisation of variables\n",
"R= 53.31\n",
"T= 80 //F\n",
"P2= 90//psia\n",
"P1= 15 //psia\n",
"n= 1.4\n",
"n1= 1.3\n",
"cv= 0.171\n",
"//CALCULATIONS\n",
"Wk= (n/(n-1))*R*(T+460)*((P2/P1)^((n-1)/n)-1)\n",
"Wn= (n1/(n1-1))*R*(T+460)*((P2/P1)^((n1-1)/n1)-1)\n",
"Wt= R*(T+460)*log(P2/P1)\n",
"nc= Wt/Wn\n",
"nc1=Wk/Wn\n",
"////RESULTS\n",
"printf ('Thermal effeciency= %.2f ',nc)\n",
"printf (' \n Isothermal effeciency= %.2f ',nc1)"
   ]
   }
,
{
		   "cell_type": "markdown",
		   "metadata": {},
		   "source": [
			"## Example 17.3: chapter_17_example_3.sce"
		   ]
		  },
  {
"cell_type": "code",
	   "execution_count": null,
	   "metadata": {
	    "collapsed": true
	   },
	   "outputs": [],
"source": [
"clc\n",
"//initialisation of variables\n",
"R= 53.31\n",
"T= 80 //F\n",
"P2= 90//psia\n",
"P1= 15 //psia\n",
"n= 1.4\n",
"cp= 0.240\n",
"nc= 0.95\n",
"n1= 1.3\n",
"//CALCULATIONS\n",
"Wk= (n/(n-1))*(R)*(T+460)*((P2/P1)^((n-1)/n)-1)\n",
"Wx= -Wk/nc\n",
"dh= cp*(T+460)*((P2/P1)^((n1-1)/n1)-1)\n",
"Q= dh+(Wx/778)\n",
"//RESULTS\n",
"printf ('Heat transferred= %.1f Btu/lb ',Q)"
   ]
   }
,
{
		   "cell_type": "markdown",
		   "metadata": {},
		   "source": [
			"## Example 17.4: chapter_17_example_4.sce"
		   ]
		  },
  {
"cell_type": "code",
	   "execution_count": null,
	   "metadata": {
	    "collapsed": true
	   },
	   "outputs": [],
"source": [
"clc\n",
"//initialisation of variables\n",
"P1= 83.5//psia\n",
"P2= 5 //psia\n",
"n= 3 //percent\n",
"n1= 1.25\n",
"//CALCULATIONS\n",
"nv= 1-(n/100)*((P1/P2)^(1/n1)-1)\n",
"nv1= 1-(n/100)*(sqrt((P1/P2)^(1/n1))-1)\n",
"//RESULTS\n",
"printf ('single-stage compression = %.3f ',nv)\n",
"printf (' \n two-stage compression = %.3f ',nv1)"
   ]
   }
],
"metadata": {
		  "kernelspec": {
		   "display_name": "Scilab",
		   "language": "scilab",
		   "name": "scilab"
		  },
		  "language_info": {
		   "file_extension": ".sce",
		   "help_links": [
			{
			 "text": "MetaKernel Magics",
			 "url": "https://github.com/calysto/metakernel/blob/master/metakernel/magics/README.md"
			}
		   ],
		   "mimetype": "text/x-octave",
		   "name": "scilab",
		   "version": "0.7.1"
		  }
		 },
		 "nbformat": 4,
		 "nbformat_minor": 0
}
