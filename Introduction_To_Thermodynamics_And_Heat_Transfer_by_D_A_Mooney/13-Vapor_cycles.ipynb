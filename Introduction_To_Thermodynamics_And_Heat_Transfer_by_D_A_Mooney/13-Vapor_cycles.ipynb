{
"cells": [
 {
		   "cell_type": "markdown",
	   "metadata": {},
	   "source": [
       "# Chapter 13: Vapor cycles"
	   ]
	},
{
		   "cell_type": "markdown",
		   "metadata": {},
		   "source": [
			"## Example 13.1: Chapter_13_example_1.sce"
		   ]
		  },
  {
"cell_type": "code",
	   "execution_count": null,
	   "metadata": {
	    "collapsed": true
	   },
	   "outputs": [],
"source": [
"clc\n",
"//initialisation of variables\n",
"P= 1 //psia\n",
"P1= 200 //psia\n",
"T= 750 //F\n",
"v3= 0.01614 //cu ft/lb\n",
"h1= 1399.2 //Bu/lb\n",
"h2= 976 //Btu/lb\n",
"h3= 69.7 //Btu/lb\n",
"//CALCULATIONS\n",
"dh= v3*(144/778)*(P1-P)\n",
"h4= h3+dh\n",
"Q1= h1-h4\n",
"Wt= h1-h2\n",
"Wp= h4-h3\n",
"n= (Wt-Wp)/Q1\n",
"w= 2545/Wt\n",
"//RESULTS\n",
"printf ('cycle efficency = %.3f ',n)\n",
"printf (' \n steam rate= %.2f lb steam per hphr',w)"
   ]
   }
,
{
		   "cell_type": "markdown",
		   "metadata": {},
		   "source": [
			"## Example 13.2: chapter_13_example_2.sce"
		   ]
		  },
  {
"cell_type": "code",
	   "execution_count": null,
	   "metadata": {
	    "collapsed": true
	   },
	   "outputs": [],
"source": [
"clc\n",
"//initialisation of variables\n",
"wt= 8 //lb/hphr\n",
"h1= 1399.2 //Btu/lb\n",
"h2s= 976 //Btu/lb\n",
"h2= 976 //Btu/lb\n",
"//CACLAULATIONS\n",
"Wt= 2545/wt\n",
"nt= Wt/(h1-h2s)\n",
"h21= h1-Wt\n",
"//RESULTS\n",
"printf ('Engine efficency = %.3f ',nt)\n",
"printf (' \n state  of the exhaust steam= %.3f Btu/lb',h21)"
   ]
   }
,
{
		   "cell_type": "markdown",
		   "metadata": {},
		   "source": [
			"## Example 13.3: chapter_13_example_3.sce"
		   ]
		  },
  {
"cell_type": "code",
	   "execution_count": null,
	   "metadata": {
	    "collapsed": true
	   },
	   "outputs": [],
"source": [
"clc\n",
"//initialisation of variables\n",
"h1=1474.5 //btu/lb\n",
"s1=1.5603 //btu/lb R\n",
"h2s=1277.5 //btu/lb\n",
"//Calculations and printfing\n",
"h2=h1-0.85*(h1-h2s)\n",
"printf ('h2= %.2f Btu/lb',h2)\n",
"h3=1522.4  //btu/lb\n",
"s3=1.7623 //btu/lb R\n",
"h4s=948 //btu/lb\n",
"h4=h3- 0.85*(h3-h4s)\n",
"printf ('\n h4= %.2f Btu/lb',h4)\n",
"h5=47.6 //btu/lb\n",
"h6=53.5 //btu/lb\n",
"disp('For the first rankine cycle')\n",
"h7s=840 //btu/lb\n",
"h7=h1-0.85*(h1-h7s)\n",
"printf ('h7= %.2f Btu/lb',h7)\n",
"disp('For the second rankine cycle')\n",
"h8=1493.2 //btu/lb\n",
"s8=1.6903 //btu/lb R\n",
"h9s=866 //btu/lb\n",
"h9=h8-0.85*(h8-h9s)\n",
"printf ('h9= %.2f Btu/lb',h9)\n",
"h11=51.5 //btu/lb\n",
"n1=0.401\n",
"n2=0.375\n",
"n3=0.366\n",
"e1=(n1-n2)/n2\n",
"printf ('\n Percentage Efficiency of reheat cycle compared to Rankine cycle for the first case = %.2f',e1*100)\n",
"e2=(n1-n3)/n3\n",
"printf ('\n Percentage Efficiency of reheat cycle compared to Rankine cycle for the second case = %.2f',e2*100)"
   ]
   }
,
{
		   "cell_type": "markdown",
		   "metadata": {},
		   "source": [
			"## Example 13.4: chapter_13_example_4.sce"
		   ]
		  },
  {
"cell_type": "code",
	   "execution_count": null,
	   "metadata": {
	    "collapsed": true
	   },
	   "outputs": [],
"source": [
"clc\n",
"//initialisation of variables\n",
"h1= 1371 //Btu/lb\n",
"h2s= 1149 //Btu/lb\n",
"h3= 118 //Btu/lb\n",
"Q1= 1253 //Btu/lb\n",
"W= 156 //Btu/lb\n",
"Qw= 680 //Btu/lb\n",
"//CALCULATIONS\n",
"Qh= h1-W-h3\n",
"y= W+0.9*Qh\n",
"r= y/Q1\n",
"x= Qh+Qw\n",
"z= y/x\n",
"//RESULTS\n",
"printf ('Fraction of energy supplied = %.2f ',r)\n",
"printf (' \n Fraction of energy supplied= %.2f ',z)"
   ]
   }
],
"metadata": {
		  "kernelspec": {
		   "display_name": "Scilab",
		   "language": "scilab",
		   "name": "scilab"
		  },
		  "language_info": {
		   "file_extension": ".sce",
		   "help_links": [
			{
			 "text": "MetaKernel Magics",
			 "url": "https://github.com/calysto/metakernel/blob/master/metakernel/magics/README.md"
			}
		   ],
		   "mimetype": "text/x-octave",
		   "name": "scilab",
		   "version": "0.7.1"
		  }
		 },
		 "nbformat": 4,
		 "nbformat_minor": 0
}
