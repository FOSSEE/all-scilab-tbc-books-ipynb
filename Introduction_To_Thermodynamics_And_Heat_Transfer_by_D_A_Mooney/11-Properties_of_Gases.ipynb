{
"cells": [
 {
		   "cell_type": "markdown",
	   "metadata": {},
	   "source": [
       "# Chapter 11: Properties of Gases"
	   ]
	},
{
		   "cell_type": "markdown",
		   "metadata": {},
		   "source": [
			"## Example 11.1: Chapter_11_example_1.sce"
		   ]
		  },
  {
"cell_type": "code",
	   "execution_count": null,
	   "metadata": {
	    "collapsed": true
	   },
	   "outputs": [],
"source": [
"clc\n",
"//initialisation of variables\n",
"P= 15 //psia\n",
"T= 80 //F\n",
"m= 3 //lb\n",
"P1= 25 //psia\n",
"T1= 75 //F\n",
"//CALCULATIONS\n",
"r= (P*(460+T1))/(P1*(T+460))\n",
"m2= m/(1-r)\n",
"V2= (m2*55.16*(460+T1))/(P1*144)\n",
"//RESULTS\n",
"printf ('Volume of the apparatus= %.1f cu ft',V2)"
   ]
   }
,
{
		   "cell_type": "markdown",
		   "metadata": {},
		   "source": [
			"## Example 11.2: chapter_11_example_2.sce"
		   ]
		  },
  {
"cell_type": "code",
	   "execution_count": null,
	   "metadata": {
	    "collapsed": true
	   },
	   "outputs": [],
"source": [
"clc\n",
"//initialisation of variables\n",
"R= 48.3 //ft lb/lb R\n",
"T= 100 //F\n",
"T1= 500 //F\n",
"T2= 1500 //F\n",
"k= 1.4\n",
"k1= 1.36\n",
"k2= 1.31\n",
"//CALCULATIONS\n",
"dc= R/778\n",
"cp= (k/(k-1))*dc\n",
"cv= cp/k\n",
"cp1= (k1/(k1-1))*dc\n",
"cv1= cp/k1\n",
"cp2= (k2/(k2-1))*dc\n",
"cv2= cp2/k2\n",
"//RESULTS\n",
"printf ('cp= %.3f Btu/lb R',cp)\n",
"printf (' \n cv= %.3f Btu/lb R',cv)\n",
"printf (' \n cp1= %.3f Btu/lb R',cp1)\n",
"printf (' \n cv1= %.3f Btu/lb R',cv1)\n",
"printf (' \n cp2= %.3f Btu/lb R',cp2)\n",
"printf (' \n cv2= %.3f Btu/lb R',cv2)"
   ]
   }
,
{
		   "cell_type": "markdown",
		   "metadata": {},
		   "source": [
			"## Example 11.4: chapter_11_example_4.sce"
		   ]
		  },
  {
"cell_type": "code",
	   "execution_count": null,
	   "metadata": {
	    "collapsed": true
	   },
	   "outputs": [],
"source": [
"clc\n",
"//initialisation of variables\n",
"P= 10 //psia\n",
"P1= 100 //psia\n",
"T= 140 //F\n",
"k= 1.4\n",
"R= 55.16 //ft lb/lb R\n",
"//CALCULATIONS\n",
"dh= (k*R*(T+460)/(k-1))*((P/P1)^((k-1)/k)-1)*(72/56000)\n",
"//RESULTS\n",
"printf ('Enthalpy change= %.1f Btu/lb',dh)"
   ]
   }
,
{
		   "cell_type": "markdown",
		   "metadata": {},
		   "source": [
			"## Example 11.5: chapter_11_example_5.sce"
		   ]
		  },
  {
"cell_type": "code",
	   "execution_count": null,
	   "metadata": {
	    "collapsed": true
	   },
	   "outputs": [],
"source": [
"clc\n",
"//initialisation of variables\n",
"P= 100 //psia\n",
"P1= 15 //psia\n",
"T= 2000 //F\n",
"k= 1.4\n",
"R= 53.34 //ft lb/lb R\n",
"cp= 0.240 //Btu/lb R\n",
"//CALCULATIONS\n",
"v1= (R*(T+460)/(P*144))*(P/P1)^(1/k)\n",
"disp(v1)\n",
"T1= (T+460)*(P1*v1/(P*(R*(T+460)/(P*144))))\n",
"dh= cp*(T1-T)\n",
"dv= v1-(R*(T+460)/(P*144))\n",
"disp('case 1')\n",
"printf ('change in volume = %.2f', dv)\n",
"disp('case 2')\n",
"T2=1500 //F\n",
"v2=R*(T+460)/(P*144)/0.241\n",
"disp(v2)\n",
"T2=(T2+460)*(P1*v2/(P*(R*(T2+460)/(P*144))))\n",
"deltah=0.276*(T2-460-T)\n",
"dv2=v2-(R*(T+460)/(P*144))\n",
"printf ('change in volume = %.2f cu ft/lb', dv2)\n",
"disp('At T1=2460 R, from table 1, case 3')\n",
"h1=634.34\n",
"pr1=407.3\n",
"pr2=pr1*P1/P\n",
"T2=1075 //F\n",
"h2=378.44\n",
"deltah=h2-h1\n",
"v2=53.34*(T2+460)/(P1*144)\n",
"disp(v2)\n",
"dv3=v2-(R*(T+460)/(P*144))\n",
"printf ('change in volume = %.2f cu ft/lb',dv3)"
   ]
   }
],
"metadata": {
		  "kernelspec": {
		   "display_name": "Scilab",
		   "language": "scilab",
		   "name": "scilab"
		  },
		  "language_info": {
		   "file_extension": ".sce",
		   "help_links": [
			{
			 "text": "MetaKernel Magics",
			 "url": "https://github.com/calysto/metakernel/blob/master/metakernel/magics/README.md"
			}
		   ],
		   "mimetype": "text/x-octave",
		   "name": "scilab",
		   "version": "0.7.1"
		  }
		 },
		 "nbformat": 4,
		 "nbformat_minor": 0
}
