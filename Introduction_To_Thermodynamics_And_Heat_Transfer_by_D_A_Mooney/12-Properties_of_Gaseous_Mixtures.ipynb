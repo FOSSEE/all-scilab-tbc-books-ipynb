{
"cells": [
 {
		   "cell_type": "markdown",
	   "metadata": {},
	   "source": [
       "# Chapter 12: Properties of Gaseous Mixtures"
	   ]
	},
{
		   "cell_type": "markdown",
		   "metadata": {},
		   "source": [
			"## Example 12.1: Chapter_12_example_1.sce"
		   ]
		  },
  {
"cell_type": "code",
	   "execution_count": null,
	   "metadata": {
	    "collapsed": true
	   },
	   "outputs": [],
"source": [
"clc\n",
"//initialisation of variables\n",
"P= 15.0 //psia\n",
"T= 55 //F\n",
"P1= 0.2141 //psia\n",
"ma= 29 //lb\n",
"mb= 18 //lb\n",
"P2= 0.2141 //psia\n",
"P3= 0.3631 //psia\n",
"//CALCULATIONS\n",
"dp= P-P1\n",
"r= (dp*ma)/(P1*mb)\n",
"r1= r/(r+1)\n",
"r2= 1/(r+1)\n",
"r4= r2/r1\n",
"P= P2/P3\n",
"//RESULTS\n",
"printf ('relative humidity= %.2f ',P)\n",
"printf (' \n specific humidity= %.4f lb vapour/lb air',r4)"
   ]
   }
,
{
		   "cell_type": "markdown",
		   "metadata": {},
		   "source": [
			"## Example 12.2: chapter_12_example_2.sce"
		   ]
		  },
  {
"cell_type": "code",
	   "execution_count": null,
	   "metadata": {
	    "collapsed": true
	   },
	   "outputs": [],
"source": [
"clc\n",
"//initialisation of variables\n",
"h= 29.5 //in\n",
"n= 75\n",
"T= 80 //F\n",
"h1= 10 //in\n",
"mw= 0.380*18\n",
"ma= 14.47*29\n",
"d= 13.6 //kg/m^3\n",
"P= 0.5069 //psi\n",
"//CALCULATIONS\n",
"Pw= (n/100)*P\n",
"P= (h+(h1/d))*(0.491)\n",
"pa= P-Pw\n",
"r= mw/ma\n",
"//RESULTS\n",
"printf ('Pounds of water vapour enter the furnance per pound of dry air= %.4f lb vapour/lb air',r)"
   ]
   }
,
{
		   "cell_type": "markdown",
		   "metadata": {},
		   "source": [
			"## Example 12.3: chapter_12_example_3.sce"
		   ]
		  },
  {
"cell_type": "code",
	   "execution_count": null,
	   "metadata": {
	    "collapsed": true
	   },
	   "outputs": [],
"source": [
"clc\n",
"//initialisation of variables\n",
"n= 0.5\n",
"T= 75 //F\n",
"P= 14.7 //psia\n",
"pg= 0.4298 //psia\n",
"pw= 0.2149 //psia\n",
"//CALCULATIONS\n",
"pw1= n*pg\n",
"pa= P-pw1\n",
"r= 0.622*pw/pa\n",
"//RESULTS\n",
"printf ('relative humidity= %.5f lb water/lb dry air',r)"
   ]
   }
,
{
		   "cell_type": "markdown",
		   "metadata": {},
		   "source": [
			"## Example 12.4: chapter_12_example_4.sce"
		   ]
		  },
  {
"cell_type": "code",
	   "execution_count": null,
	   "metadata": {
	    "collapsed": true
	   },
	   "outputs": [],
"source": [
"clc\n",
"//initialisation of variables\n",
"r2= 0.0078 //lb water /lb dry air\n",
"r1= 0.0032 //lb water /lb dry air\n",
"h2= 25.33 //Btu/lb\n",
"h1= 12.9 //Btu/lb\n",
"pg= 0.1217 //psia\n",
"p= 14.7 //psia\n",
"h3= 13 //Btu/lb\n",
"n= 60\n",
"t2=70\n",
"t1=40\n",
"cpa=0.240\n",
"R2= 0.00788 //lb/lb of dry sir\n",
"w1= 0.00477 //lb/lb of dry sir\n",
"//CALCULATIONS\n",
"disp('Method 1')\n",
"w= r2-r1\n",
"q= h2-h1-w*h3\n",
"printf ('In method 1, Enthalpy =%.2f Btu/lb of dry air',q)\n",
"disp('Method 2')\n",
"R1= 0.622*(n/100)*(pg/(p-pg))\n",
"R2=0.00788\n",
"w2=R2-R1\n",
"//All constants are obtained from steam tables\n",
"Q=cpa*(t2-t1)+R2*(1092.6)-R1*(1079.6) -w2*h3\n",
"printf ('In method 2, Enthalpy = %.2f btu/lb of dry air',Q)"
   ]
   }
,
{
		   "cell_type": "markdown",
		   "metadata": {},
		   "source": [
			"## Example 12.5: chapter_12_example_5.sce"
		   ]
		  },
  {
"cell_type": "code",
	   "execution_count": null,
	   "metadata": {
	    "collapsed": true
	   },
	   "outputs": [],
"source": [
"clc\n",
"//initialisation of variables\n",
"P= 1//atm\n",
"n= 70\n",
"T= 75 //F\n",
"T1= 70 //F\n",
"r1= 0.0131 //lb water/lb dry air\n",
"r2= 0.0093 //lb water/lb dry air\n",
"h1= 32.36 //Btu/lb dry air\n",
"h2= 27.03 //Btu/lb dry air\n",
"hd2= 23.40 //Btu/lb dry air\n",
"hf= 23.4 //Btu/lb dry liquid\n",
"hg= 1094.5 //Btu/lb dry liquid\n",
"//CALCULATIONS\n",
"R1= r1-r2\n",
"Qc= hd2-h1+R1*hf\n",
"Qh= h2-hd2\n",
"x= R1*(hg-hf) \n",
"y= x/(-Qc)\n",
"//RESULTS\n",
"printf ('Fraction of heat removed in the coil= %.2f ',y)"
   ]
   }
],
"metadata": {
		  "kernelspec": {
		   "display_name": "Scilab",
		   "language": "scilab",
		   "name": "scilab"
		  },
		  "language_info": {
		   "file_extension": ".sce",
		   "help_links": [
			{
			 "text": "MetaKernel Magics",
			 "url": "https://github.com/calysto/metakernel/blob/master/metakernel/magics/README.md"
			}
		   ],
		   "mimetype": "text/x-octave",
		   "name": "scilab",
		   "version": "0.7.1"
		  }
		 },
		 "nbformat": 4,
		 "nbformat_minor": 0
}
