{
"cells": [
 {
		   "cell_type": "markdown",
	   "metadata": {},
	   "source": [
       "# Chapter 18: Refrigeration"
	   ]
	},
{
		   "cell_type": "markdown",
		   "metadata": {},
		   "source": [
			"## Example 18.1: chapter_18_example_1.sce"
		   ]
		  },
  {
"cell_type": "code",
	   "execution_count": null,
	   "metadata": {
	    "collapsed": true
	   },
	   "outputs": [],
"source": [
"clc\n",
"//initialisation of variables\n",
"T2 = 0 //F\n",
"T1= 76  //F\n",
"h1= 611.8 //Btu/lb\n",
"h4= 127.4 //Btu/lb\n",
"h2= 704.4 //Btu/lb\n",
"x= 10000 //Btu/hr\n",
"v1= 9.116 //cu ft/lb\n",
"n=70\n",
"//CALCULATIONS\n",
"CP= (T2+460)/(T1-T2)\n",
"CP1= (h1-h4)/(h2-h1)\n",
"w= (x/60)/(h1-h4)\n",
"PD=(w*v1)/(n/100)\n",
"//RESULTS\n",
"printf ('CP1 = %.2f ',CP)\n",
"printf (' \n CP2 = %.2f ',CP1)\n",
"printf (' \n PD = %.2f cu ft/min',PD)"
   ]
   }
],
"metadata": {
		  "kernelspec": {
		   "display_name": "Scilab",
		   "language": "scilab",
		   "name": "scilab"
		  },
		  "language_info": {
		   "file_extension": ".sce",
		   "help_links": [
			{
			 "text": "MetaKernel Magics",
			 "url": "https://github.com/calysto/metakernel/blob/master/metakernel/magics/README.md"
			}
		   ],
		   "mimetype": "text/x-octave",
		   "name": "scilab",
		   "version": "0.7.1"
		  }
		 },
		 "nbformat": 4,
		 "nbformat_minor": 0
}
