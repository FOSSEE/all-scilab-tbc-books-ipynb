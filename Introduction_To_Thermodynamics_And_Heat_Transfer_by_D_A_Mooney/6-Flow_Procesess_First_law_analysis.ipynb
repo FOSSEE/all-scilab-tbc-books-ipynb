{
"cells": [
 {
		   "cell_type": "markdown",
	   "metadata": {},
	   "source": [
       "# Chapter 6: Flow Procesess First law analysis"
	   ]
	},
{
		   "cell_type": "markdown",
		   "metadata": {},
		   "source": [
			"## Example 6.1: Chapter_6_example_1.sce"
		   ]
		  },
  {
"cell_type": "code",
	   "execution_count": null,
	   "metadata": {
	    "collapsed": true
	   },
	   "outputs": [],
"source": [
"clc\n",
"//initialisation of variables\n",
"u1= 1111.9 //Btu/lb\n",
"p= 170 //psia\n",
"v1= 2.675 //cu ft/lb\n",
"V1= 6000 //ft/min\n",
"g0= 32.2 //ft/sec^2\n",
"g= 32.2 //ft/sec^2\n",
"z= 10 //ft\n",
"Q= 1000//Btu/hr\n",
"u2= 914.6 //Btu/lb\n",
"p1= 3 //psia\n",
"v2= 100.9 //cu ft/lb\n",
"V2= 300 //ft/sec\n",
"g0= 32.2 //ft/sec^2\n",
"g= 32.2 //ft/sec^2\n",
"z1= 0 //ft\n",
"//CALCULATIONS\n",
"Wx= (u1+(p*v1*144/778)+((V1/60)^2/(2*g*778))+(z/778)-(Q/2500)-u2-(p1*v2*144/778)-((V2^2)/(2*g*778)))*2500\n",
"//RESULTS\n",
"printf ('Poweroutput = %.f hp',Wx*0.000393014779)\n",
"//It is the conversion factor from btu/hr to hp"
   ]
   }
,
{
		   "cell_type": "markdown",
		   "metadata": {},
		   "source": [
			"## Example 6.2: chapter_6_example_2.sce"
		   ]
		  },
  {
"cell_type": "code",
	   "execution_count": null,
	   "metadata": {
	    "collapsed": true
	   },
	   "outputs": [],
"source": [
"clc\n",
"//initialisation of variables\n",
"w1= 500 //lb/min\n",
"h1= 132.9 //Btu/lb\n",
"h2= 1150 //Btu/lb\n",
"h3= 180 //Btu/lb\n",
"//CALCULATIONS\n",
"w2= w1*(h3-h1)*60/(h2-h3)\n",
"//RESULTS\n",
"printf ('Steam supplied to the hater = %.f lb/hr',w2)"
   ]
   }
,
{
		   "cell_type": "markdown",
		   "metadata": {},
		   "source": [
			"## Example 6.3: chapter_6_example_3.sce"
		   ]
		  },
  {
"cell_type": "code",
	   "execution_count": null,
	   "metadata": {
	    "collapsed": true
	   },
	   "outputs": [],
"source": [
"clc\n",
"//initialisation of variables\n",
"h1= 1227.6 //Btu/lb\n",
"h2= 1223.9 //Btu/lb\n",
"g= 32.2 //ft/sec^2\n",
"v1= 4.937 //cu ft/lb\n",
"d= 2/12 //in\n",
"A1=%pi*d^2 /4.\n",
"//CALCULATIONS\n",
"V1= sqrt((2*g*(h1-h2)*778)/((1.1)^2-1))\n",
"V2= 1.1*V1\n",
"w=A1*V1/v1\n",
"//RESULTS\n",
"printf ('Average velovity at section1 = %.f fps',V1)\n",
"printf (' \n Average velovity at section2 = %.f fps',V2)\n",
"printf ('\n rate of flow =%.2f lb/sec', w)"
   ]
   }
],
"metadata": {
		  "kernelspec": {
		   "display_name": "Scilab",
		   "language": "scilab",
		   "name": "scilab"
		  },
		  "language_info": {
		   "file_extension": ".sce",
		   "help_links": [
			{
			 "text": "MetaKernel Magics",
			 "url": "https://github.com/calysto/metakernel/blob/master/metakernel/magics/README.md"
			}
		   ],
		   "mimetype": "text/x-octave",
		   "name": "scilab",
		   "version": "0.7.1"
		  }
		 },
		 "nbformat": 4,
		 "nbformat_minor": 0
}
