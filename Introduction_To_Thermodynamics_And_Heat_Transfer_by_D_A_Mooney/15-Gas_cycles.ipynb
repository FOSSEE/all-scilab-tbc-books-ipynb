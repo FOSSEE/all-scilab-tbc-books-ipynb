{
"cells": [
 {
		   "cell_type": "markdown",
	   "metadata": {},
	   "source": [
       "# Chapter 15: Gas cycles"
	   ]
	},
{
		   "cell_type": "markdown",
		   "metadata": {},
		   "source": [
			"## Example 15.1: Chapter_15_example_1.sce"
		   ]
		  },
  {
"cell_type": "code",
	   "execution_count": null,
	   "metadata": {
	    "collapsed": true
	   },
	   "outputs": [],
"source": [
"clc\n",
"//initialisation of variables\n",
"p= 15 //psia\n",
"p1= 75 //psia\n",
"T= 550 //R\n",
"T1= 1700 //R\n",
"k= 1.4\n",
"//CALCULATIONS\n",
"Ta= T*(p1/p)^((k-1)/k)\n",
"Tc= T1/((p1/p)^((k-1)/k))\n",
"cp= 0.24\n",
"Q1= cp*(T1-Ta)\n",
"Q2= cp*(Tc-T)\n",
"Wnet= Q1-Q2\n",
"n= Wnet/Q1\n",
"hb= 422.59 //Btu/lb\n",
"hc= 269.27 //Btu/lb\n",
"ha= 208.41 //Btu/lb\n",
"hd= 131.46 //btu/lb\n",
"Q1i= hb-ha\n",
"Q2i= hc-hd\n",
"Wnet1= Q1i-Q2i\n",
"n1= Wnet1/Q1i\n",
"//RESULTS\n",
"printf ('Efficiency = %.2f ',n)\n",
"printf ( 'Efficiency = %.3f ',n1)"
   ]
   }
,
{
		   "cell_type": "markdown",
		   "metadata": {},
		   "source": [
			"## Example 15.2: chapter_15_example_2.sce"
		   ]
		  },
  {
"cell_type": "code",
	   "execution_count": null,
	   "metadata": {
	    "collapsed": true
	   },
	   "outputs": [],
"source": [
"clc\n",
"//initialisation of variables\n",
"p= 15 //psia\n",
"p1= 75 //psia\n",
"T= 550 //R\n",
"T1= 1700 //R\n",
"k= 1.4\n",
"n= 75\n",
"cp= 0.24\n",
"//CALCULATIONS\n",
"Ta= T*(p1/p)^((k-1)/k)\n",
"Tc= T1/((p1/p)^((k-1)/k))\n",
"Ta1= (n/100)*(Tc-Ta)+Ta\n",
"Tc1= Ta+Tc-Ta1\n",
"Q1= cp*(T1-Ta1)\n",
"Q2= cp*(Tc1-T)\n",
"Wnet= Q1-Q2\n",
"n1= Wnet/Q1\n",
"//CALCULATIONS\n",
"printf ('Efficiency = %.2f ',n1)"
   ]
   }
,
{
		   "cell_type": "markdown",
		   "metadata": {},
		   "source": [
			"## Example 15.3: chapter_15_example_3.sce"
		   ]
		  },
  {
"cell_type": "code",
	   "execution_count": null,
	   "metadata": {
	    "collapsed": true
	   },
	   "outputs": [],
"source": [
"clc\n",
"//initialisation of variables\n",
"h1= 124.27 //Btu/lb\n",
"Pr1= 1.2147 //psia\n",
"r= 6\n",
"p4= 15 //psia\n",
"p1= 15 //psia\n",
"h2s= 197.5 //Btu/lb\n",
"Wnet= 48.9 //Btu/lb air\n",
"hs= 18500 //Btu/lb\n",
"wfbywa= 0.0146 //lb fuel/lb sir\n",
"W= 2545 //Btu/lb air\n",
"dh=-91.5 //Btu/lb\n",
"Wc= 91.5 //Btu/lb air\n",
"//CALCULATIONS\n",
"n= Wnet/(wfbywa*hs)\n",
"n1= W/Wnet\n",
"n2= Wc/Wnet\n",
"//RESULTS\n",
"printf ('Efficiency = %.3f ',n)\n",
"printf (' \n air rate= %.1f lb air/hphr',n1)\n",
"printf (' \n back work ratio= %.2f ',n2)"
   ]
   }
],
"metadata": {
		  "kernelspec": {
		   "display_name": "Scilab",
		   "language": "scilab",
		   "name": "scilab"
		  },
		  "language_info": {
		   "file_extension": ".sce",
		   "help_links": [
			{
			 "text": "MetaKernel Magics",
			 "url": "https://github.com/calysto/metakernel/blob/master/metakernel/magics/README.md"
			}
		   ],
		   "mimetype": "text/x-octave",
		   "name": "scilab",
		   "version": "0.7.1"
		  }
		 },
		 "nbformat": 4,
		 "nbformat_minor": 0
}
