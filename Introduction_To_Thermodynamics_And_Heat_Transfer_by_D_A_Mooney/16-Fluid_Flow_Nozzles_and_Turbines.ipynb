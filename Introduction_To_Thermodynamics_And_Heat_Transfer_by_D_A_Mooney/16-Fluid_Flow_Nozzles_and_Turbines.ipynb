{
"cells": [
 {
		   "cell_type": "markdown",
	   "metadata": {},
	   "source": [
       "# Chapter 16: Fluid Flow Nozzles and Turbines"
	   ]
	},
{
		   "cell_type": "markdown",
		   "metadata": {},
		   "source": [
			"## Example 16.1: chapter_16_example_1.sce"
		   ]
		  },
  {
"cell_type": "code",
	   "execution_count": null,
	   "metadata": {
	    "collapsed": true
	   },
	   "outputs": [],
"source": [
"clc\n",
"//initialisation of variables\n",
"h1=1279.1 //Btu/lb\n",
"s1=1.7085 //Btu/lb R\n",
"p1= 100 //psia\n",
"p2=10 //psia\n",
"h2=1091.7 //Btu/lb\n",
"s2=s1\n",
"V1=100 //fps\n",
"v2=36.41 //cu ft/lb\n",
"w=1 //lb/sec\n",
"//Calculations\n",
"a2=w*v2/(sqrt(V1*V1 + 2*24956.243*(h1-h2)))\n",
"printf ('Exit area = %.5f sq. ft',a2)\n",
"pt=0.55*p1\n",
"ht=1221.5 //Btu/lb\n",
"vt=8.841 //cu ft/lb\n",
"at=w*vt/(sqrt(V1*V1 + 2*24956.243*(h1-ht)))\n",
"printf ('\n Exit area in case 2 = %.5f sq. ft',at)"
   ]
   }
,
{
		   "cell_type": "markdown",
		   "metadata": {},
		   "source": [
			"## Example 16.2: chapter_16_example_2.sce"
		   ]
		  },
  {
"cell_type": "code",
	   "execution_count": null,
	   "metadata": {
	    "collapsed": true
	   },
	   "outputs": [],
"source": [
"clc\n",
"//initialisation of variables\n",
"w=10000 //lb/hr\n",
"p0=250 //psia\n",
"T1=500 //F\n",
"Pf=1 //psia\n",
"vc=0.949\n",
"dc=1\n",
"h0=1263.4 //btu/lb\n",
"s0=1.5949 //btu/lb R\n",
"v2=276 //cu ft/lb\n",
"//Calculations\n",
"pt=0.55*p0\n",
"disp('from tables')\n",
"hts=1208.2 //btu/lb\n",
"vts=3.415 //cu ft/lb\n",
"h2s=891. //btu/lb\n",
"Vts=sqrt(2*32.174*778*(h0-hts))\n",
"w=w/3600 //lb/sec\n",
"cw=1\n",
"at=w*vts/(cw*Vts)\n",
"printf ('Throat area = %.5f ft^2',at)\n",
"V2=sqrt(2*32.174*778*(h0-h2s))\n",
"eta=0.9\n",
"h2=h0-eta*(h0-h2s)\n",
"a2s=w*v2/(cw*V2)\n",
"printf ('\n Exit area = %.5f ft^2',a2s)"
   ]
   }
,
{
		   "cell_type": "markdown",
		   "metadata": {},
		   "source": [
			"## Example 16.3: chapter_16_example_3.sce"
		   ]
		  },
  {
"cell_type": "code",
	   "execution_count": null,
	   "metadata": {
	    "collapsed": true
	   },
	   "outputs": [],
"source": [
"clc\n",
"//initialisation of variables\n",
"k=1.4\n",
"ptbyp0=0.53\n",
"T0=800 //R\n",
"cp=778 \n",
"R=0.0425864\n",
"P0=150 //psia\n",
"Pt=15 //psia\n",
"w=1 //lb/sec\n",
"cw=1.0043782\n",
"//Calculations\n",
"Pt2=ptbyp0*Pt\n",
"Tts=T0*(ptbyp0)^((k-1)/k)\n",
"Vts=sqrt(2*32.174*cp*0.24*(T0-Tts))\n",
"printf ('Exit velocity case 1= %.2f fps',Vts)\n",
"vts=3.12 //cu ft/lb\n",
"at=w*vts/(cw*Vts)\n",
"printf ('\n Throat Area = %.5f ft^2', at)\n",
"T2s=T0*(Pt/P0)^((k-1)/k)\n",
"eta=0.88\n",
"T2=T0-eta*(T0-T2s)\n",
"V2=sqrt(2*32.174*cp*0.24*(T0-T2))\n",
"printf ('\n Exit velocity = %.2f fps', V2)\n",
"v2=11.4 //cu ft/lb\n",
"a2=w*v2/V2\n",
"printf('\n Exit area = %.5f ft^2',a2)"
   ]
   }
],
"metadata": {
		  "kernelspec": {
		   "display_name": "Scilab",
		   "language": "scilab",
		   "name": "scilab"
		  },
		  "language_info": {
		   "file_extension": ".sce",
		   "help_links": [
			{
			 "text": "MetaKernel Magics",
			 "url": "https://github.com/calysto/metakernel/blob/master/metakernel/magics/README.md"
			}
		   ],
		   "mimetype": "text/x-octave",
		   "name": "scilab",
		   "version": "0.7.1"
		  }
		 },
		 "nbformat": 4,
		 "nbformat_minor": 0
}
