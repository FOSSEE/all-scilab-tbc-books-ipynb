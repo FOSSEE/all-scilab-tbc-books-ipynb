{
"cells": [
 {
		   "cell_type": "markdown",
	   "metadata": {},
	   "source": [
       "# Chapter 19: Heat Transmission"
	   ]
	},
{
		   "cell_type": "markdown",
		   "metadata": {},
		   "source": [
			"## Example 19.2: chapter_19_example_2.sce"
		   ]
		  },
  {
"cell_type": "code",
	   "execution_count": null,
	   "metadata": {
	    "collapsed": true
	   },
	   "outputs": [],
"source": [
"clc\n",
"//initialisation of variables\n",
"t= 8 //in\n",
"t1= 1 //in\n",
"k= 0.50 //Btu/hr ft F\n",
"k1= 0.02 //Btu/hr ft F\n",
"A= 1 //ft^2\n",
"T= 60 //F\n",
"T1= -20 //F\n",
"//CALCULATIONS\n",
"Rc= (t/12)/(k*A)\n",
"Rf= (t1/12)/(k1*A)\n",
"R= Rc+Rf\n",
"q= (T-T1)/R\n",
"T2= (T+(Rc/Rf)*T1)/(1+(Rc/Rf))\n",
"//RESULTS\n",
"printf ('Rate of heat flow= %.1f Btu/hr',q)\n",
"printf (' \n Temperature at the interface= %.1f F',T2)"
   ]
   }
,
{
		   "cell_type": "markdown",
		   "metadata": {},
		   "source": [
			"## Example 19.3: chapter_19_example_3.sce"
		   ]
		  },
  {
"cell_type": "code",
	   "execution_count": null,
	   "metadata": {
	    "collapsed": true
	   },
	   "outputs": [],
"source": [
"clc\n",
"//initialisation of variables\n",
"h1= 2500 //Btu/sq ft hr F\n",
"r= 10 //in\n",
"t= 0.375 //in\n",
"Ts= 500 //F\n",
"Ta= 80 //F\n",
"r2= 5.375 //in\n",
"r1= 5 //in\n",
"r3= 7.375 //in\n",
"kp= 26 //Btu ft/hr\n",
"ki= 0.045 //Btu ft/hr\n",
"h1= 2500 //Btu/sq ft hr F\n",
"h3= 1.6 //Btu/sq ft hr F\n",
"r4= 14.750\n",
"//CALCULATIONS\n",
"R1= 1/(h1*%pi*(r/12))\n",
"Rp= log(r2/r1)/(2*%pi*kp)\n",
"Ri= log(r3/r2)/(2*%pi*ki)\n",
"R3= 1/(h3*%pi*(r4/12))\n",
"R0= R1+Rp+Ri+R3\n",
"T3=Ta+ (Ts-Ta)*R3/R0\n",
"//RESULTS\n",
"printf ('Temperature at the interface= %.6f F',T3)"
   ]
   }
,
{
		   "cell_type": "markdown",
		   "metadata": {},
		   "source": [
			"## Example 19.4: chapter_19_example_4.sce"
		   ]
		  },
  {
"cell_type": "code",
	   "execution_count": null,
	   "metadata": {
	    "collapsed": true
	   },
	   "outputs": [],
"source": [
"clc\n",
"//initialisation of variables\n",
"wh= 40000 //lb.hr\n",
"cph= 0.5 //Btu/lb F\n",
"th1= 170 //F\n",
"th2= 120 //F\n",
"cpc= 1 //Btu/lb F\n",
"tc2= 140 //F\n",
"tc1= 100 //F\n",
"t= 140 //F\n",
"U= 120 //Btu/sq ft hr F\n",
"//CALCULATIONS\n",
"dh= t-th2\n",
"dc= tc2-tc1\n",
"wc= (wh*cph*(th1-th2))/(cpc*dc)\n",
"dtm= (-(tc1-th2)-(th1-tc2))/log((tc1-th2)/(-th1+tc2))\n",
"q= wh*cph*(th1-th2)\n",
"A= q/(U*dtm)\n",
"th2= ((wh/wc)*(cph/cpc)*th1+tc1)/((wh/wc)*(cph/cpc)+1)\n",
"wc1= (wh*cph*(th1-th2))/(cpc*(th2-tc1))\n",
"//RESULTS\n",
"printf ('Water flow rate= %.f lb/hr',wc)\n",
"printf (' \n Area of heat transfer surface= %.f sq ft',A)\n",
"printf (' \n temperature of the oil= %.f F',th2)\n",
"printf (' \n flow rate= %.f lb/hr',wc1*2)"
   ]
   }
,
{
		   "cell_type": "markdown",
		   "metadata": {},
		   "source": [
			"## Example 19.5: chapter_19_example_5.sce"
		   ]
		  },
  {
"cell_type": "code",
	   "execution_count": null,
	   "metadata": {
	    "collapsed": true
	   },
	   "outputs": [],
"source": [
"clc\n",
"//initialisation of variables\n",
"Tw= 200 //F\n",
"Ta= 600 //F\n",
"V= 100 //fps\n",
"Di= 0.902 //in\n",
"d= 0.0375 //lb/cu ft\n",
"u= 0.000020 //lbm/sec\n",
"cp= 0.25 //Btu/lb F\n",
"k= 0.027 //Btu/sq ft hr\n",
"//CALCULATIONS\n",
"NRe= (Di*V*d)/(u*12)\n",
"Npr= 0.66\n",
"h= k*0.023*NRe^0.8*Npr^0.4*12/Di\n",
"//RESULTS\n",
"printf ('Film coefficient = %.1f Btu/sq ft hr F',h)"
   ]
   }
,
{
		   "cell_type": "markdown",
		   "metadata": {},
		   "source": [
			"## Example 19.6: chapter_19_example_6.sce"
		   ]
		  },
  {
"cell_type": "code",
	   "execution_count": null,
	   "metadata": {
	    "collapsed": true
	   },
	   "outputs": [],
"source": [
"clc\n",
"//initialisation of variables\n",
"Tw= 200 //F\n",
"Ta= 600 //F\n",
"cpb= 0.25 // Btu/lb F\n",
"tf= 0.68\n",
"uf= 0.000017 //lbm/sec ft\n",
"D= 0.902 //in\n",
"V= 100 //fps\n",
"d= 0.0375 //lb/cu ft\n",
"//CALCULATIONS\n",
"Nre= (D/12)*V*d/uf\n",
"Npr= 0.68\n",
"h= cpb*V*3600*d*0.023/(Nre^0.2*Npr^(2/3))\n",
"//RESULTS\n",
"printf ('Film coefficient = %.1f Btu/sq ft hr F',h)"
   ]
   }
,
{
		   "cell_type": "markdown",
		   "metadata": {},
		   "source": [
			"## Example 19.7: chapter_19_example_7.sce"
		   ]
		  },
  {
"cell_type": "code",
	   "execution_count": null,
	   "metadata": {
	    "collapsed": true
	   },
	   "outputs": [],
"source": [
"clc\n",
"//initialisation of variables\n",
"A1= 0.916 //ft^2\n",
"e1= 0.8\n",
"s= 0.173 //BTU s^-1 in^-2 R^-4\n",
"T= 200 //F\n",
"T1= 70 //F\n",
"D= 0.292\n",
"//CALCULATIONS\n",
"q= (A1/10^6)*e1*s*(((T+460)^4/100)-((T1+460)^4/100))\n",
"hr= q/(A1*(T-T1))\n",
"hc= 0.27*((T-T1)/D)^0.25\n",
"//RESULTS\n",
"printf ('Heat loss= %.2f Btu/hr',q)\n",
"printf (' \n hr= %.2f Btu/sq ft hr F',hr)\n",
"printf (' \n hc= %.2f Btu/sq ft hr F',hc)"
   ]
   }
,
{
		   "cell_type": "markdown",
		   "metadata": {},
		   "source": [
			"## Example 19.8: chapter_19_example_8.sce"
		   ]
		  },
  {
"cell_type": "code",
	   "execution_count": null,
	   "metadata": {
	    "collapsed": true
	   },
	   "outputs": [],
"source": [
"clc\n",
"//initialisation of variables\n",
"T= 120 //F\n",
"T1= 1500 //F\n",
"A= 64/144\n",
"F= 0.86\n",
"Fe= 1\n",
"s= 0.173 //BTU s^-1 in^-2 R^-4\n",
"//CALCULATIONS\n",
"q= (A/10^6)*F*Fe*s*(((T1+460)^4/100)-((T+460)^4/100))\n",
"//RESULTS\n",
"printf ('Heat loss= %.f Btu/hr',q)"
   ]
   }
],
"metadata": {
		  "kernelspec": {
		   "display_name": "Scilab",
		   "language": "scilab",
		   "name": "scilab"
		  },
		  "language_info": {
		   "file_extension": ".sce",
		   "help_links": [
			{
			 "text": "MetaKernel Magics",
			 "url": "https://github.com/calysto/metakernel/blob/master/metakernel/magics/README.md"
			}
		   ],
		   "mimetype": "text/x-octave",
		   "name": "scilab",
		   "version": "0.7.1"
		  }
		 },
		 "nbformat": 4,
		 "nbformat_minor": 0
}
