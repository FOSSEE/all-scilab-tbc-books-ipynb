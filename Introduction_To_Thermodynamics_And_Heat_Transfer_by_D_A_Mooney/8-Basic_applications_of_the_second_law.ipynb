{
"cells": [
 {
		   "cell_type": "markdown",
	   "metadata": {},
	   "source": [
       "# Chapter 8: Basic applications of the second law"
	   ]
	},
{
		   "cell_type": "markdown",
		   "metadata": {},
		   "source": [
			"## Example 8.1: Chapter_8_example_1.sce"
		   ]
		  },
  {
"cell_type": "code",
	   "execution_count": null,
	   "metadata": {
	    "collapsed": true
	   },
	   "outputs": [],
"source": [
"clc\n",
"//initialisation of variables\n",
"T1= 85 //F\n",
"T2= 50 //F\n",
"//CALCULATIONS\n",
"n= (T1-T2)/(T1+460)\n",
"n1= n*100\n",
"//RESULTS\n",
"printf ('Maximum thermal efficiency  = %.1f percent',n1)"
   ]
   }
,
{
		   "cell_type": "markdown",
		   "metadata": {},
		   "source": [
			"## Example 8.2: chapter_8_example_2.sce"
		   ]
		  },
  {
"cell_type": "code",
	   "execution_count": null,
	   "metadata": {
	    "collapsed": true
	   },
	   "outputs": [],
"source": [
"clc\n",
"//initialisation of variables\n",
"T1= 1050 //F\n",
"T2= 90 //F\n",
"//CALCULATIONS\n",
"n= (T1-T2)/(T1+460)\n",
"n1= n*100\n",
"//RESULTS\n",
"printf ('Maximum thermal efficiency  = %.f percent',n1)"
   ]
   }
,
{
		   "cell_type": "markdown",
		   "metadata": {},
		   "source": [
			"## Example 8.3: chapter_8_example_3.sce"
		   ]
		  },
  {
"cell_type": "code",
	   "execution_count": null,
	   "metadata": {
	    "collapsed": true
	   },
	   "outputs": [],
"source": [
"clc\n",
"//initialisation of variables\n",
"m= 1 //lb\n",
"cp= 0.240 //btu/lb F\n",
"T2= 150 //F\n",
"T1= 50 //F\n",
"//CALCULATIONS\n",
"S= m*cp*(log(460+T2)-log(460+T1))\n",
"//RESULTS\n",
"printf ('Entropy change = %.4f Btu/Fabs',S)"
   ]
   }
,
{
		   "cell_type": "markdown",
		   "metadata": {},
		   "source": [
			"## Example 8.4: chapter_8_example_4.sce"
		   ]
		  },
  {
"cell_type": "code",
	   "execution_count": null,
	   "metadata": {
	    "collapsed": true
	   },
	   "outputs": [],
"source": [
"clc\n",
"//initialisation of variables\n",
"m= 1 //lb\n",
"cp= 0.240 //btu/lb F\n",
"T2= 150 //F\n",
"T1= 50 //F\n",
"//CALCULATIONS\n",
"S= m*cp*(log(460+T2)-log(460+T1))\n",
"//RESULTS\n",
"printf ('Entropy change = %.4f Btu/Fabs',S)\n",
"//This result is same as the above since change in entropy does not depend on the process involved\n",
"// but only on the initial and final states"
   ]
   }
,
{
		   "cell_type": "markdown",
		   "metadata": {},
		   "source": [
			"## Example 8.5: chapter_8_example_5.sce"
		   ]
		  },
  {
"cell_type": "code",
	   "execution_count": null,
	   "metadata": {
	    "collapsed": true
	   },
	   "outputs": [],
"source": [
"clc\n",
"//initialisation of variables\n",
"Q= 826 //Btu/lb\n",
"T= 400 //F\n",
"T1= 1000 //F\n",
"T2= 2000 //F\n",
"//CALCULATIONS\n",
"Sw= Q/(T+460)\n",
"Sg= (Q/T1)*(log(T1+460)-log(T2+460))\n",
"S= Sw+Sg\n",
"//RESULTS\n",
"printf ('Total Entropy change = %.3f Btu/R',S)"
   ]
   }
,
{
		   "cell_type": "markdown",
		   "metadata": {},
		   "source": [
			"## Example 8.6: chapter_8_example_6.sce"
		   ]
		  },
  {
"cell_type": "code",
	   "execution_count": null,
	   "metadata": {
	    "collapsed": true
	   },
	   "outputs": [],
"source": [
"clc\n",
"//initialisation of variables\n",
"Q= 826 //Btu/lb\n",
"T= 400 //F\n",
"T1= 1000 //F\n",
"T2= 2000 //F\n",
"T3= 80 //F\n",
"//CALCULATIONS\n",
"Sw= Q/(T+460)\n",
"Sg= (Q/T1)*(log(T1+460)-log(T2+460))\n",
"S= Sw+Sg\n",
"Q1= (T3+460)*S\n",
"Q2= Q+(T3+460)*Sg\n",
"n= Q1/Q2\n",
"n1= n*100\n",
"//RESULTS\n",
"printf ('Loss percent = %d ',n1+1)"
   ]
   }
],
"metadata": {
		  "kernelspec": {
		   "display_name": "Scilab",
		   "language": "scilab",
		   "name": "scilab"
		  },
		  "language_info": {
		   "file_extension": ".sce",
		   "help_links": [
			{
			 "text": "MetaKernel Magics",
			 "url": "https://github.com/calysto/metakernel/blob/master/metakernel/magics/README.md"
			}
		   ],
		   "mimetype": "text/x-octave",
		   "name": "scilab",
		   "version": "0.7.1"
		  }
		 },
		 "nbformat": 4,
		 "nbformat_minor": 0
}
