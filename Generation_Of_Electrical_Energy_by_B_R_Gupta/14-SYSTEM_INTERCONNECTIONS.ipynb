{
"cells": [
 {
		   "cell_type": "markdown",
	   "metadata": {},
	   "source": [
       "# Chapter 14: SYSTEM INTERCONNECTIONS"
	   ]
	},
{
		   "cell_type": "markdown",
		   "metadata": {},
		   "source": [
			"## Example 14.10: change_in_frequency_in_transfer_function.sce"
		   ]
		  },
  {
"cell_type": "code",
	   "execution_count": null,
	   "metadata": {
	    "collapsed": true
	   },
	   "outputs": [],
"source": [
"clc\n",
"clear\n",
"disp('example14.10')\n",
"tg=0.2 //time constent of steam turbine\n",
"t=2 //time constant of turbine\n",
"h=5 //inertia constent\n",
"r=0.04  //given\n",
"dl=0.01  //change in load\n",
"df=0.01  //change in frequency\n",
"c=1500  //capacity\n",
"f=50  //frequency\n",
"adl=0.01 //max allowable change in load\n",
"printf('\ntransfer function of governor gr= 1/(1+%.1f*s) \n transfer function of turbine gt=1/(1+%d*s)',tg,t)\n",
"rr=r*f\n",
"d=(dl*c)/(df*f)\n",
"dpu=(d/c)\n",
"kp=(1/dpu)\n",
"tp=(kp*(2*h)/(f))\n",
"printf('\ntransfer function of power system \n Gp=(%d/(1+%d*s)\n Df=-gp/(1+(0.5*(gr*gt*gp)))',kp,tp)\n",
"ddf=-(kp)/(1+kp/r)\n",
"dff=df*f\n",
"m=dff/(ddf)\n",
"mm=m*c\n",
"disp('(b)')\n",
"printf('\nthe largest step in the load if the frequency change by more than %.2f in steady state %dMW',adl,mm)\n",
"if mm<0\n",
"    printf('\nthe minu sign is becose of the that if frequency is to increase by %f \nthe change in load be negative.',adl)\n",
"else\n",
"    printf('\nthe largest step in load if the frequency is to decrease by %f /n the change in load be positive',adl)\n",
"end\n",
"disp('(c)')\n",
"\n",
"disp('when integral controller is used,static frequency error is zero')"
   ]
   }
,
{
		   "cell_type": "markdown",
		   "metadata": {},
		   "source": [
			"## Example 14.11: stactic_frequency_drop_and_change_in_power_line_with_perameters.sce"
		   ]
		  },
  {
"cell_type": "code",
	   "execution_count": null,
	   "metadata": {
	    "collapsed": true
	   },
	   "outputs": [],
"source": [
"clc\n",
"clear\n",
"disp('example 14_11')\n",
"pa=5000   //power of unit a\n",
"pb=10000   //power of unit b\n",
"r=2       //given speed regulation in p.uMW\n",
"d=0.01   //d in p.u.MW/Hz\n",
"dpa=0    //change in power  in unit a\n",
"dpb=-100 //change in power in unit b \n",
"pbas=10000  //assume base as 10000 \n",
"ra=r*pbas/pa  //speed regulation of the unit a\n",
"da=d*pa/pbas  //da of unit b\n",
"rb=r*pbas/pb //speed regulation of unit b\n",
"db=d*pb/pbas  //db of unit b\n",
"ba=da+(1/ra)  //area frequency response of a\n",
"bb=db+(1/rb)  //area frequency response of b\n",
"ma=dpa/pbas   //change in power a in per unit in unit a \n",
"mb=dpb/pbas   //change in power a in per unit in unit b\n",
"df=(ma+mb)/(ba+bb) //change in frequency\n",
"dpab=(ba*mb-bb*ma)/(ba+bb)  //change in power between ab\n",
"printf('change in frequency is %.5fHz \nchange in power %.6f p.u.MW',df,dpab)"
   ]
   }
,
{
		   "cell_type": "markdown",
		   "metadata": {},
		   "source": [
			"## Example 14.12: change_in_frequency_and_change_power_in_different_area.sce"
		   ]
		  },
  {
"cell_type": "code",
	   "execution_count": null,
	   "metadata": {
	    "collapsed": true
	   },
	   "outputs": [],
"source": [
"clc\n",
"clear\n",
"disp('example 14.12')\n",
"pa=500   //power of unit a\n",
"pb=2000  //power of unit b\n",
"ra=2.5   //speed regulation of a\n",
"rb=2     //speed regulation of b\n",
"dl=0.01  //change in load\n",
"df=0.01  // change in frequency\n",
"pt=20     //change in tie line power \n",
"ptl=0     //let other power station has zero \n",
"pbas=2000  //assume base as 2000MW\n",
"f=50        //assume frequency\n",
"da=(dl*pa)/(df*f)  //change in power w.r.t frequency\n",
"dapu=da/(pbas)  // change in power w.r.t frequency in per unit\n",
"db=(dl*pb)/(df*f) //change in power in unit b\n",
"dbpu=db/pbas      //change in power w.r.t frequency in per unit\n",
"raa=ra*pbas/pa  //speed regulation with pbase\n",
"rbb=rb*pbas/pb  //speed regulation with pbase\n",
"ba=dapu+(1/raa)  //area frequency response a\n",
"bb=dbpu+(1/rbb)  //area frequency response b\n",
"ma=pt/pbas       //assume change in power in unit a alone due to tie power\n",
"mb=ptl/pbas       //change in power in unit b\n",
"df=-(ma+mb)/(ba+bb) //change in frequency\n",
"dpp=(ba*mb-bb*ma)/(ba+bb)  //change in power\n",
"disp('(a)')\n",
"printf('change in frequency is %.3fHz  \n change in power between ab %.5fp.u.MW \n \t\t%.2fMW',df,dpp,dpp*pbas)\n",
"ma2=ptl/pbas       //assume change in power in unit a alone due to tie power\n",
"mb2=pt/pbas       //change in power in unit b\n",
"df2=-(ma2+mb2)/(ba+bb) //change in frequency\n",
"dpp2=(ba*mb2-bb*ma2)/(ba+bb)  //change in power\n",
"disp('(b)')\n",
"dpba=dpp2*pbas\n",
"printf('change in frequency is %.3fHz  \n change in power between ab %.5fp.u.MW \n',df2,dpp2)\n",
"printf(' change in power %fMW',dpba)"
   ]
   }
,
{
		   "cell_type": "markdown",
		   "metadata": {},
		   "source": [
			"## Example 14.13: steady_state_change_in_tie_line_power_if_step_change_in_power.sce"
		   ]
		  },
  {
"cell_type": "code",
	   "execution_count": null,
	   "metadata": {
	    "collapsed": true
	   },
	   "outputs": [],
"source": [
"clc\n",
"clear\n",
"disp('example 14.13')\n",
"p=4000 //power area\n",
"n=2    //number of units\n",
"r=2    //speed regulation\n",
"h=5    \n",
"pt=600    //given tie power\n",
"pan=40   //power angle\n",
"stp=100\n",
"f=50\n",
"t=(pt/p)*cosd(pan)\n",
"wo=((2*%pi*f*t/h)^2-(f/(4*r*h))^2)^(0.5)\n",
"printf('the damped angular frequency is %.2fradians/sec if speed govenor loop is closed',wo)\n",
"disp('(b)')\n",
"printf('since the two area are imilier ,each area will supply half of increase in load .this also evident besause ba=bb  \n change in power %dMW \n speed regulation is infininy',stp/2)\n",
"wo1=(2*%pi*f*t/h)^(0.5) //if govenor loop is open alpha is zero\n",
"printf('damped angular frequency if speed governor loop is open %.3frad/sec ',wo1)\n",
""
   ]
   }
,
{
		   "cell_type": "markdown",
		   "metadata": {},
		   "source": [
			"## Example 14.14: capacitance_of_shunt_load_capacitor_to_maintain_voltage_constant.sce"
		   ]
		  },
  {
"cell_type": "code",
	   "execution_count": null,
	   "metadata": {
	    "collapsed": true
	   },
	   "outputs": [],
"source": [
"clc\n",
"clear\n",
"disp('example14.14')\n",
"Aa=0.98;Ap=3 //magnitude and angle of constant A\n",
"Ba=110;Bp=75 //magnitude and angle of constant B\n",
"p=50      //given power 50\n",
"pf=0.8   //given power factor is 0.8\n",
"vr=132   //voltage at reseving station\n",
"vs=132  //voltage at source station to be maintained\n",
"vsr1=p*pf+(Aa*(vr^2)/Ba)*cosd(Bp-Ap)\n",
"ph=vsr1*Ba/(vs*vr)\n",
"phh=acosd(ph)\n",
"del=Bp-phh\n",
"qrr=((vs*vr/Ba)*sind(phh))-((Aa*(vr)^(2)/Ba)*sind(Bp-Ap))  //reactive power to maintain voltage equal\n",
"qrre=p*sind(acosd(pf)) //reactive power for the load\n",
"qrc=qrre-qrr\n",
"printf('the reactive power supply and reseving power is %dkV \nreactive power %.2fMvar',vs,qrr)\n",
"printf('\nthe required compensator network neeeded %.2fMvar',qrc)\n",
"disp('(b)')\n",
"cosb=(Aa*cosd(Bp-Ap)*(vr)^(2)/Ba)*(Ba/(vs*vr)) //under no oad condition\n",
"phb=acosd(cosb)\n",
"qrb=(vs*vr*sind(phb)/Ba)-(Aa*vr*vr*sind(Bp-Ap)/Ba)\n",
"if qrb>0 then\n",
"    printf('thus under no load condition the line delivers %.2fMvar at receiving end.the reactive power must be absorbed by shunt reactor at receving end. thus the capacity of shunt reactor, for no load condition is %.2fMvar. ',qrb,qrb)\n",
"else\n",
"    printf('thus under no load condition the line absorbs %.2fMvar at receiving end.the reactive power must be delivered by shunt reactor at receving end. or reactive must suppiled by the source thus the capacity of shunt reactor, for no load condition is %.2fMvar. ',qrb,qrb)\n",
"end"
   ]
   }
,
{
		   "cell_type": "markdown",
		   "metadata": {},
		   "source": [
			"## Example 14.15: maintaining_voltage_costant_by_tapping_transformer.sce"
		   ]
		  },
  {
"cell_type": "code",
	   "execution_count": null,
	   "metadata": {
	    "collapsed": true
	   },
	   "outputs": [],
"source": [
"clc\n",
"clear\n",
"disp('example 14.15')\n",
"v=220  //line voltage\n",
"ps=11 ;ss=220;pr=220;sr=11  //primer and secondary end terminal voltages of tapping transformer\n",
"zr=20;zi=60  //impedence of line in real ndimagenary parts\n",
"p=100  //power at recieving end is 100MVA\n",
"pf=0.8  //power factor at recievin end\n",
"t=1   //prodect of 2 off terminal tap setting is  1\n",
"vt=11  //tap setting for 11 kv voltage bus\n",
"P=(p*pf*10^6)/3 //real power \n",
"Q=(p*sind(acosd(pf))*10^6)/3  //reactance power\n",
"v1=v*(10^3)/sqrt(3)\n",
"ts=(1/(1-(zr*P+zi*Q)/(v1^2)))^(0.5)\n",
"printf(' tapping ratio at the source %.3f  \n tapping ratio at the receving end %.2f',ts,1/ts)"
   ]
   }
,
{
		   "cell_type": "markdown",
		   "metadata": {},
		   "source": [
			"## Example 14.16: output_voltage_with_reactive_power.sce"
		   ]
		  },
  {
"cell_type": "code",
	   "execution_count": null,
	   "metadata": {
	    "collapsed": true
	   },
	   "outputs": [],
"source": [
"clc\n",
"clear\n",
"disp('example 14.16')\n",
"vp=132;vs=33;vt=11  //voltage at primary ,secondary ,teritiory\n",
"pp=75;ps=50;pt=25  //MVA rating at prinary ,secondary,teritiory \n",
"rpr=0.12;rv=132;rp=75  //reactance power of primary under rv and rp as voltage and power base\n",
"poa=60;rea=50  //load real and reactive power a\n",
"pva=125;svaa=33 //primary and secondary voltage a\n",
"svsb=25;pvb=140;svbb=33  //primary and secondary voltage at no load\n",
"disp('(a)')\n",
"vbas=132 ;mvabas=75  //assume voltage and MVA base   \n",
"v1pu=pva/vbas   //voltage in per unit\n",
"v1apu=round(v1pu*1000)/1000  //rounding off \n",
"qre=rea/mvabas  //reactive power in per unit\n",
"vn1a=(v1apu+sqrt(v1apu^2-4*rpr*qre))/2  //voltage using quadratic equation formulae\n",
"vn2a=(v1apu-sqrt(v1apu^2-4*rpr*qre))/2\n",
"vnaa=vn1a*vbas\n",
"v12=pvb/vbas\n",
"q=svsb/mvabas\n",
"vn1b=(v12+sqrt(v12^2-4*rpr*q))/2  //voltage using quadratic equation formulae\n",
"vn1b=round(vn1b*1000)/1000\n",
"vnbb=vn1b*vbas    //vn in no load condition\n",
"printf('vn=%.3f.p.u \n vn=%.3fkV',vn1a,vnaa)\n",
"disp('(b)')\n",
"printf('vn=%.3f.p.u \n vn=%.3fkV',vn1b,vnbb)\n",
"z=vnaa/svaa;x=vnbb/svbb;\n",
"printf('\n transformation ratio under load condition %.3f \n transformation ratio under no load condition %.3f \n the actual ratio can be taken as mean of the above value i.e.%.3fpercent\n varying by (+/-)%.3fpercent',z,x,(z+x)/2,x-(z+x)/2)\n",
""
   ]
   }
,
{
		   "cell_type": "markdown",
		   "metadata": {},
		   "source": [
			"## Example 14.17: generation_at_each_station_and_transfer_of_power_of_different_plants.sce"
		   ]
		  },
  {
"cell_type": "code",
	   "execution_count": null,
	   "metadata": {
	    "collapsed": true
	   },
	   "outputs": [],
"source": [
"clc\n",
"clear\n",
"disp('example 14.7')\n",
"ca=200  //capacity of unit a\n",
"cb=100   //capacity of unit b\n",
"ra=1.5    //speed regulation of unit a   \n",
"rb=3      //speed regulation of unit b\n",
"f=50       //frequency\n",
"pla=100    //load on each bus\n",
"plb=100\n",
"raa=ra*f/(pla*ca)\n",
"rbb=rb*f/(plb*cb)\n",
"pa=rbb*(pla+plb)/(raa+rbb)\n",
"pb=pla+plb-pa\n",
"tp=pa-pla\n",
"printf(' generation at the plant a is %dMW and \n generation at the plant b is %dMW \n transfer power from plant a to b is %dMW',pa,pb,tp)"
   ]
   }
,
{
		   "cell_type": "markdown",
		   "metadata": {},
		   "source": [
			"## Example 14.18: current_transfer_between_two_station.sce"
		   ]
		  },
  {
"cell_type": "code",
	   "execution_count": null,
	   "metadata": {
	    "collapsed": true
	   },
	   "outputs": [],
"source": [
"clc\n",
"clear\n",
"disp('example 14.18')\n",
"za=1.5;zb=2.5;//impedence between two lines \n",
"v=11  //plant operatio\ng voltage\n",
"l=20 ; pf=0.8 ;//load at 20 MW at 0.8 pf\n",
"i=l*10^3/(v*pf*sqrt(3));ph=-acosd(pf) //current and phase angle of transfrming current\n",
"vd=complex(za,zb)*complex(i*cosd(ph),i*sind(ph))  //voltage drop due to loss\n",
"printf('the current transfer is %.1fA at an angle %.2f',i,ph)\n",
"printf('\nvoltage drop in the interconnector is %.2f+j%.2fV \n so voltage boost needed is %.2f+j%.2fV ',real(vd),imag(vd),real(vd),imag(vd))"
   ]
   }
,
{
		   "cell_type": "markdown",
		   "metadata": {},
		   "source": [
			"## Example 14.19: current_in_interconnector_with_different_power_factor.sce"
		   ]
		  },
  {
"cell_type": "code",
	   "execution_count": null,
	   "metadata": {
	    "collapsed": true
	   },
	   "outputs": [],
"source": [
"clc\n",
"clear\n",
"disp('example 14.19')\n",
"zaa=3;zbb=9  //impedence given between line\n",
" pas=1   //power at two units are equal to 1p.u \n",
"par=1    \n",
"pbs=1.05  //power at sending end is 1.05 and power at receiving end is 1p.u\n",
"pbr=1\n",
"i=1 //assume current is 1p.u\n",
"los=i*complex(zaa/100,zbb/100)\n",
"csd=((abs(los)^2)-pas^2-par^2)/(2*pas*par)  //load angle between two stations\n",
"csa=(pas^2+abs(los)^2-par^2)/(2*pas*abs(los))  //angle between source and loss\n",
"ta=180-atand(zbb/zaa)-acosd(csa)  //transfering power factor angle\n",
"printf('load angle is %.2f\n',cosd(csd))\n",
"if sind(ta)<0 then\n",
"    printf('real power is %.3fp.u \nreactive power %.3fp.u lagging',cosd(ta),abs(sind(ta)))\n",
"   else\n",
"           printf('real power is %.3fp.u \nreactive power %.3fp.u leading',cosd(ta),sind(ta))\n",
"\n",
"end\n",
"csd2=(abs(los)^2-pbs^2-pbr^2)/(2*pbs*pbr)  //load angle between two stations\n",
"csa2=(pbr^2-pbs^2+abs(los)^2)/(2*pbr*abs(los))  //angle between source and loss\n",
"    f=180-atand(zbb/zaa)-acosd(csa2)  //transfering power factor angle\n",
"disp('(b)')\n",
"\n",
"printf('load angle is %.2f\n',cosd(csd2))\n",
"if sind(f)<0 then\n",
"    printf('real power is %.3fp.u \nreactive power %.3fp.u lagging',cosd(f),abs(sind(f)))\n",
"   else\n",
"           printf('real power is %.3fp.u \nreactive power %.3fp.u leading',cosd(f),sind(f))\n",
"\n",
"end"
   ]
   }
,
{
		   "cell_type": "markdown",
		   "metadata": {},
		   "source": [
			"## Example 14.1: speed_regulation_and_frequency_drop_in_alternator.sce"
		   ]
		  },
  {
"cell_type": "code",
	   "execution_count": null,
	   "metadata": {
	    "collapsed": true
	   },
	   "outputs": [],
"source": [
"clc\n",
"clear\n",
"disp('example 14.1')\n",
"p=100  //rating of alternater\n",
"sd=0.04 //speed of alrternator drops \n",
"df=-0.1  //change in frequency and drops so -ve\n",
"f=50    //frequency is 50hz\n",
"r=sd*f/p  //r in hz/MW\n",
"dp=-(df)/r \n",
"printf('speed regulation of alternator is %.2fHz/MW \n change in power output %dMW',r,dp)"
   ]
   }
,
{
		   "cell_type": "markdown",
		   "metadata": {},
		   "source": [
			"## Example 14.2: frequency_deviation_in_alternator.sce"
		   ]
		  },
  {
"cell_type": "code",
	   "execution_count": null,
	   "metadata": {
	    "collapsed": true
	   },
	   "outputs": [],
"source": [
"clc\n",
"clear\n",
"disp('example14.2')\n",
"p=100 //power of alternator\n",
"f=50  //frequency\n",
"h=5   //h constant of machine kW-sec kVA\n",
"inl=50 //load suddenly increase by\n",
"de=0.5 //time delay\n",
"ke=h*p*10^3 //kinetic energy\n",
"lke=inl*10^3*de //loss in kinetic energy\n",
"nf=((1-(lke/ke))^(de))*f //now frequency \n",
"fd=(1-nf/f)*100  //frequency deviation\n",
"printf('kinetic energy stored at rated speed %.1e kW-sec \nloss in kinetic energy due to increase in load %.1e kW-sec \n new frequency %.3fHz \nfrequency deviation %.3f',ke,lke,nf,fd)"
   ]
   }
,
{
		   "cell_type": "markdown",
		   "metadata": {},
		   "source": [
			"## Example 14.3: speed_regulation_in_sharing_alternator.sce"
		   ]
		  },
  {
"cell_type": "code",
	   "execution_count": null,
	   "metadata": {
	    "collapsed": true
	   },
	   "outputs": [],
"source": [
"clc\n",
"clear\n",
"disp('example 14_3')\n",
"ar1=500 //alternator rating1\n",
"pl=0.5  //each alternator is operating at half load \n",
"ar2=200 //alternator rating2\n",
"f=50   //frequency\n",
"il=140  //load increase by 140 MW\n",
"fd=49.5  //frequency drops\n",
"fdd=-f+fd //frequency deviation \n",
"dp1=(ar1*pl)-il  //change in load alternator 1\n",
"dp2=-(ar2*pl)+il //change in load of alternator 2\n",
"r1=-fdd/dp1  \n",
"r2=-fdd/dp2\n",
"printf(' R1=%.3fohm \n R2=%.4fohm',r1,r2)"
   ]
   }
,
{
		   "cell_type": "markdown",
		   "metadata": {},
		   "source": [
			"## Example 14.4: static_frequency_drop_for_change_in_load.sce"
		   ]
		  },
  {
"cell_type": "code",
	   "execution_count": null,
	   "metadata": {
	    "collapsed": true
	   },
	   "outputs": [],
"source": [
"clc\n",
"clear\n",
"disp('example14.4')\n",
"rc=10000 //rated capacity\n",
"r=2   //regulation in all units\n",
"li=0.02 //load increase\n",
"f=50  //frequency\n",
"d=rc/(2*f) //d=partial derevative with respect to frequency\n",
"d=d/rc\n",
"b=d+1/r\n",
"m=li*rc/2\n",
"mpu=m/rc\n",
"df=-mpu/b \n",
"dff=-mpu/d\n",
"printf('static frequency drop %fHz \nfrequency drop %dHz',df,dff)"
   ]
   }
,
{
		   "cell_type": "markdown",
		   "metadata": {},
		   "source": [
			"## Example 14.5: primary_ALFC_loop_paramers.sce"
		   ]
		  },
  {
"cell_type": "code",
	   "execution_count": null,
	   "metadata": {
	    "collapsed": true
	   },
	   "outputs": [],
"source": [
"clc\n",
"clear\n",
"disp('example 14.5')\n",
"cac=10000  //control area capacity\n",
"nol=5000  //normal operating\n",
"h=5       //inertial constent\n",
"r=3       //regulation\n",
"cf=1      //1%change in corresponds to 1% change in load\n",
"f=50      //frequency\n",
"d=cac/(2*f)\n",
"dpu=d/(cac)\n",
"kp=1/dpu\n",
"tp=2*h/(f*dpu)\n",
"printf('d=%.2fp.u.MW/hz, \nkp=%dhz/p.u.MW \n tp=%dsecond',dpu,kp,tp)"
   ]
   }
,
{
		   "cell_type": "markdown",
		   "metadata": {},
		   "source": [
			"## Example 14.6: frequency_drop_and_increased_generation_to_meet_the_increase_in_load.sce"
		   ]
		  },
  {
"cell_type": "code",
	   "execution_count": null,
	   "metadata": {
	    "collapsed": true
	   },
	   "outputs": [],
"source": [
"clc\n",
"clear\n",
"disp('example 14.6')\n",
"rc=10000 //rated capacity\n",
"r=2   //regulation in all units\n",
"li=0.02 //load increase\n",
"f=50  //frequency\n",
"d=rc/(2*f) //d=partial derevative with respect to frequency\n",
"dd=d/rc\n",
"b=dd+1/r\n",
"m=li*rc/2\n",
"mpu=m/rc\n",
"df=-mpu/b \n",
"dff=-mpu/dd\n",
"cf=abs(df*d)\n",
"inc=-(df/r)*10^4\n",
"printf('the contribution of frequency drop to meet increase in load %.3fMW \nincrease in generation cost Rs%.2f',cf,inc)"
   ]
   }
,
{
		   "cell_type": "markdown",
		   "metadata": {},
		   "source": [
			"## Example 14.7: frequency_deviation_before_the_value_opens_to_meet_the_load_demand.sce"
		   ]
		  },
  {
"cell_type": "code",
	   "execution_count": null,
	   "metadata": {
	    "collapsed": true
	   },
	   "outputs": [],
"source": [
"clc\n",
"clear\n",
"disp('example 14.7')\n",
"p=100  //MVA of generated\n",
"f=50   //frequency\n",
"rpm=3000 //no load rpm\n",
"lad=25  //load applied to the machiene\n",
"t=0.5  //time delay \n",
"h=4.5  //inertia constent\n",
"ke=h*p  //kinetic energy is product of h*p\n",
"lke=lad*t  //loss of ke\n",
"nf=(((ke-lke)/ke)^t)*f  //new frequency ((1-lke/ke)^t)*f\n",
"fd=(1-(nf/f))*100    //frequency deviation\n",
"printf('ke at no load %dMW-sec \n loss in k.e due to load %.1fMW-sec \nnew frequency %.1fHz \nfrequency deviation %.1fpercent',ke,lke,nf,fd)"
   ]
   }
,
{
		   "cell_type": "markdown",
		   "metadata": {},
		   "source": [
			"## Example 14.8: largest_change_in_step_load_for_constant_duration_of_frequency.sce"
		   ]
		  },
  {
"cell_type": "code",
	   "execution_count": null,
	   "metadata": {
	    "collapsed": true
	   },
	   "outputs": [],
"source": [
"clc\n",
"clear\n",
"disp('example 14.8')\n",
"c=4000//capacity\n",
"f=50  //frequency\n",
"ol=2500 //operating load\n",
"r=2   //speed regulation\n",
"h=5  //inertial constant\n",
"dl=0.02 //change in load\n",
"df=0.01  //change in frequency\n",
"dff=-0.2 //change in steady state frequency\n",
"d=(dl*ol)/(df*f) //\n",
"dpu=d/c  //din pu\n",
"b=dpu+(1/r)\n",
"m=-dff*b\n",
"printf('largest chang in load is %.3fp.u.MW=%dMW',m,m*c)\n",
"kp=(1/dpu)\n",
"tp=(kp)*2*h/f\n",
"tt=(r+kp)/(r*tp) //time constant \n",
"printf('\ndf=(dff)(1-e^%f*t)',tt)\n",
""
   ]
   }
,
{
		   "cell_type": "markdown",
		   "metadata": {},
		   "source": [
			"## Example 14.9: frequency_responce_and_static_frequency_error_in_the_absence_of_secondary_loop.sce"
		   ]
		  },
  {
"cell_type": "code",
	   "execution_count": null,
	   "metadata": {
	    "collapsed": true
	   },
	   "outputs": [],
"source": [
"clc\n",
"clear\n",
"disp('example14.9')\n",
"c=4000 //capacity of system\n",
"f=50  //frequency //operatingload=rated area capacity\n",
"h=5   //time constent\n",
"r=0.025  //\n",
"dl=0.01 //change in load\n",
"df=0.01 //change in frequency\n",
"rr=r*f //\n",
"d=(dl*c)/(df*f) \n",
"dpu=d/c\n",
"kp=1/dpu\n",
"tp=(kp)*(2*h/f)\n",
"tt=(rr+kp)/(rr*tp)\n",
"sfe=(kp*rr*dpu)/(rr+kp)\n",
"ki=(1+(kp/r))^2/(4*tp*kp)\n",
"printf('df=-%.5f(1-e^(-%.1f)) \n ki=%.4fp.u.MW/Hz',sfe,tt,ki)"
   ]
   }
],
"metadata": {
		  "kernelspec": {
		   "display_name": "Scilab",
		   "language": "scilab",
		   "name": "scilab"
		  },
		  "language_info": {
		   "file_extension": ".sce",
		   "help_links": [
			{
			 "text": "MetaKernel Magics",
			 "url": "https://github.com/calysto/metakernel/blob/master/metakernel/magics/README.md"
			}
		   ],
		   "mimetype": "text/x-octave",
		   "name": "scilab",
		   "version": "0.7.1"
		  }
		 },
		 "nbformat": 4,
		 "nbformat_minor": 0
}
