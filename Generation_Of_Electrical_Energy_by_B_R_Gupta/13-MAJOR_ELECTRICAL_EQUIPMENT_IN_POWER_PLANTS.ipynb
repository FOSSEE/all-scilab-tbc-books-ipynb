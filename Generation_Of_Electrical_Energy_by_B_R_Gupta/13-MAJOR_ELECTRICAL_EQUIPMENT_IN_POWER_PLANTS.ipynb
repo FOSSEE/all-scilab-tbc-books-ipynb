{
"cells": [
 {
		   "cell_type": "markdown",
	   "metadata": {},
	   "source": [
       "# Chapter 13: MAJOR ELECTRICAL EQUIPMENT IN POWER PLANTS"
	   ]
	},
{
		   "cell_type": "markdown",
		   "metadata": {},
		   "source": [
			"## Example 13.10: fault_current_with_different_circuit.sce"
		   ]
		  },
  {
"cell_type": "code",
	   "execution_count": null,
	   "metadata": {
	    "collapsed": true
	   },
	   "outputs": [],
"source": [
"clc\n",
"clear\n",
"disp('example 13 10') //given //p=power/v=voltage/f=frequency/x=reactance/iff=feeder reactance take off\n",
"pa=20;va=11;f=50;xa=0.2;pb=30;xb=0.2;pf=10;xf=0.06;iff=0.5\n",
"pba=20;vba=11\n",
"xap=xa*pba/pb\n",
"xfp=xf*pba/pf\n",
"nx=xfp+(xa/2)*(xa/2+xap)/(xa+xap)\n",
"fcp=nx^(-1)\n",
"bc=pba*1000/(va*sqrt(3))\n",
"fc=fcp*bc\n",
"disp('a')\n",
"printf('fault current %.2fohm',fc)\n",
"ic=iff*fcp\n",
"xtx=ic^(-1)\n",
"xn=xtx-nx\n",
"zb=va^2/pba\n",
"xnn=xn*zb\n",
"disp('b')\n",
"printf('reactance required %.4fohm',xnn)"
   ]
   }
,
{
		   "cell_type": "markdown",
		   "metadata": {},
		   "source": [
			"## Example 13.11: fault_level_and_fault_MVA.sce"
		   ]
		  },
  {
"cell_type": "code",
	   "execution_count": null,
	   "metadata": {
	    "collapsed": true
	   },
	   "outputs": [],
"source": [
"clc\n",
"clear\n",
"disp('example 13 11')\n",
"n1=5;x=0.4;d=0.1;g=20  //given\n",
"mva=(g/x)+(g*(n1-1)/(x+n1*d))\n",
"n2=10  //given\n",
"mva2=(g/x)+(g*(n2-1)/(x+n2*d))\n",
"disp('a')\n",
"printf('fault MVA =(g/x)+(g*(n-1)/(x+nd)) \n fault level is to equal to fault MVA if n=infinity')\n",
"disp('b')\n",
"printf(' MVA=%.2fMVA if n=%d \n MVA=%.2fMVA if n=%d',mva,n1,mva2,n2)\n",
"fl=g*((1/x)+(1/d))\n",
"disp('c')\n",
"printf('\nfault level %dMVA',fl)"
   ]
   }
,
{
		   "cell_type": "markdown",
		   "metadata": {},
		   "source": [
			"## Example 13.1: fault_current_with_different_generators.sce"
		   ]
		  },
  {
"cell_type": "code",
	   "execution_count": null,
	   "metadata": {
	    "collapsed": true
	   },
	   "outputs": [],
"source": [
"clc\n",
"clear\n",
"disp('example 13.1')\n",
"pg=3000  //kva rating of generators single phase\n",
"xg=0.1  //10%reactanse of generator\n",
"vg=11   //voltage at the terminals of generator\n",
"xbf=5    //reactanse of feeder fron bus to fault\n",
"pb=pg;vb=vg;ib=pg/vg  //let power and voltage of as respective base then current base\n",
"zb=(vb*10^3)/ib   //base impedence\n",
"xpu=xbf/zb  //per unit reactance of feeder\n",
"tx=(xg/2)+(xpu) //total reactance \n",
"sckva=pg/tx  //short circuit kva is ratio ofpower to total reactance\n",
"sci=sckva/vg   //short circuit current\n",
"disp('a')\n",
"printf(' p.u.feeder reactor %.3fp.u \n total reactance is %.3fp.u \n short circuit kVA %dkVA \n short circuit current %.1fA',xpu,tx,sckva,sci)\n",
"gz=zb*xg  //generator impedence\n",
"tz=(gz/2)+xbf  //total impedence\n",
"scc=(vg*10^3)/tz  //short circuit current in ampears\n",
"disp('b') \n",
"printf(' generator impedence %.3fohm \n total impedence %.3f ohm \n short circuit current %.1fA',gz,tz,scc)"
   ]
   }
,
{
		   "cell_type": "markdown",
		   "metadata": {},
		   "source": [
			"## Example 13.2: short_circuit_current_parallel_generator.sce"
		   ]
		  },
  {
"cell_type": "code",
	   "execution_count": null,
	   "metadata": {
	    "collapsed": true
	   },
	   "outputs": [],
"source": [
"clc\n",
"clear\n",
"disp('example 13.2')\n",
"pa1=20000 ;pa2=30000  //kva in in 3 ph power\n",
"va1=11    ;va2=11  //voltage in kilo volts\n",
"pt1=20000 ;pt2=30000//kva of 3 ph transformer\n",
"vpt1=11   ;vpt2=11//voltage of primery of transformer\n",
"vst1=132  ;vst2=132//voltage of secondary of transformer\n",
"xg1=0.5  ;xg2=0.65   //reactance of generator\n",
"xt1=0.05 ;xt2=0.05 //reactance of transformer with their own kva\n",
"pb=pa2;vbg=va2;vbt=vpt2;//assumeing base quantoties\n",
"xtn1=xt1*pb/pa1 ;xtn2=xt2*pb/pa2 //transformer reactance with new base\n",
"xgn1=xg1*pb/pa1;xgn2=xg2*pb/pa2\n",
"xn1=xtn1+xgn1;xn2=xtn2+xgn2  //reactancee up to fault from each generator\n",
"xn=(xn1*xn2)/(xn1+xn2)  //equalent reactance between generator and fault\n",
"sckva=pb/xn ; //short circuit KVA\n",
"disp('(a)')\n",
"printf(' equivalent reactance is %.4f p.u \n short circuit KVA %dKVA',xn,sckva)\n",
"disp('(b)')\n",
"sccb=sckva/(vst1*sqrt(3))\n",
"sccg1=sccb*(xn2/(xn1+xn2))*vst1/vpt1\n",
"sccg2=sccb*(xn1/(xn1+xn2))*vst2/vpt2\n",
"printf(' short circuit current on bus bar side %.1fA \n short circuit current of generator 1 is %.1fA \n short circuit current of generator 2 is %.1fA \n',sccb,sccg1,sccg2)"
   ]
   }
,
{
		   "cell_type": "markdown",
		   "metadata": {},
		   "source": [
			"## Example 13.3: short_circuit_MVA.sce"
		   ]
		  },
  {
"cell_type": "code",
	   "execution_count": null,
	   "metadata": {
	    "collapsed": true
	   },
	   "outputs": [],
"source": [
"clc\n",
"clear\n",
"disp('example 13.3')\n",
"pa1=20000 ;pa2=30000  //kva in in 3 ph power\n",
"va1=11    ;va2=11  //voltage in kilo volts\n",
"pt1=20000 ;pt2=30000//kva of 3 ph transformer\n",
"vpt1=11   ;vpt2=11//voltage of primery of transformer\n",
"vst1=132  ;vst2=132//voltage of secondary of transformer\n",
"xg1=0.5  ;xg2=0.65   //reactance of generator\n",
"xt1=0.05 ;xt2=0.05 //reactance of transformer with their own kva\n",
"pb=pa2;vbg=va2;vbt=vpt2;//assumeing base quantoties\n",
"xtn1=xt1*pb/pa1 ;xtn2=xt2*pb/pa2 //transformer reactance with new base\n",
"xgn1=xg1*pb/pa1;xgn2=xg2*pb/pa2\n",
"xn1=xtn1+xgn1;xn2=xtn2+xgn2  //reactancee up to fault from each generator\n",
"xn=(xn1*xn2)/(xn1+xn2)  //equalent reactance between generator and fault\n",
"sckva=pb/xn ; //short circuit KVA\n",
"pf=50000  //fault kva rating\n",
"xf=pb/pf  //reactance from fault\n",
"xx=xf*xn1/(xn1-xf)\n",
"x=xx-xn2 //reactance to be added \n",
"bi=(vst1^2)*1000/(pb)\n",
"xo=x*bi\n",
"printf(' reactance to be added in circuit of generator 2 have %.1f p.u. \n reactance in ohms %.1f',x,xo)"
   ]
   }
,
{
		   "cell_type": "markdown",
		   "metadata": {},
		   "source": [
			"## Example 13.4: fault_MVA_in_parallel_generators.sce"
		   ]
		  },
  {
"cell_type": "code",
	   "execution_count": null,
	   "metadata": {
	    "collapsed": true
	   },
	   "outputs": [],
"source": [
"clc\n",
"clear\n",
"disp('example 13.4')\n",
"pa=50;xgb=0.5;xb=0.1;//given power,reactance of generator\n",
"x1=xgb+xb;\n",
"x=x1*x1*xgb/(x1*x1+x1*xgb+x1*xgb)\n",
"f=pa/x\n",
"printf(' total reactance %.4f.p.u \n fault MVA %.1fMVA',x,f)"
   ]
   }
,
{
		   "cell_type": "markdown",
		   "metadata": {},
		   "source": [
			"## Example 13.5: REATING_OF_CIRCUIT_BREAKER.sce"
		   ]
		  },
  {
"cell_type": "code",
	   "execution_count": null,
	   "metadata": {
	    "collapsed": true
	   },
	   "outputs": [],
"source": [
"clc\n",
"clear\n",
"disp('example13_5')\n",
"vb=33\n",
"pb=20;zb=vb^2/pb   //base voltage and base power\n",
"pa1=10;pa2=10;xa1=0.08;xa2=0.08;  //given power and reactance for different branches\n",
"pbb=20;xb=0.06;pc=15;xc=0.12;pd=20;xd=0.08;\n",
"xab=2.17;xbc=3.26;xcd=1.63;xda=4.35;\n",
"xap1=xa1*pb/pa1;\n",
"xap2=xa2*pb/pa2;xap=xap1*xap2/(xap1+xap2)\n",
"xbp=xb*pb/pbb;\n",
"xcp=xc*pb/pc;\n",
"xdp=xd*pb/pd;    //generators reactance in per unit\n",
"xabp=round(xab*100/zb)/100;\n",
"xbcp=round(xbc*100/zb)/100;\n",
"xcdp=round(xcd*100/zb)/100;\n",
"xdap=round(xda*100/zb)/100  //reactance in per unit between bus\n",
"function [s1,s2,s3]=del2star(d12,d23,d31)\n",
"    dsum=d12+d23+d31\n",
"    s1=d12*d31/(dsum)\n",
"    s2=d12*d23/(dsum)\n",
"    s3=d31*d23/dsum\n",
"endfunction\n",
"function [d12,d31,d23]=star2del(s1,s2,s3)\n",
"    d12=s1+s2+(s1*s2)/s3\n",
"    d23=s2+s3+(s2*s3)/s1\n",
"    d31=s3+s1+(s3*s1)/s2\n",
"endfunction\n",
"[xac,xrc,xra]=star2del(xcdp,xdap,xdp)\n",
"rc=xrc*xcp/(xrc+xcp)\n",
"ra=xra*xap/(xra+xap)\n",
"[xpr,xpc,xpa]=del2star(xac,rc,ra)\n",
"xf1=xbcp+xpc\n",
"xf2=xpr+xabp\n",
"xf=xf1*xf2/(xf1+xf2)\n",
"xfr=xf+xpa\n",
"xx=xfr*xbp/(xfr+xbp)\n",
"netr=xx //net reactance\n",
"fkva=pb*1000/xx\n",
"printf('the rating of circuit breaker should be %d KVA, or %d MVA',fkva,fkva/1000)"
   ]
   }
,
{
		   "cell_type": "markdown",
		   "metadata": {},
		   "source": [
			"## Example 13.6: ratio_of_mech_stresses_on_short_circuit_to_mech_stresses_on_full_load.sce"
		   ]
		  },
  {
"cell_type": "code",
	   "execution_count": null,
	   "metadata": {
	    "collapsed": true
	   },
	   "outputs": [],
"source": [
"clc\n",
"clear\n",
"disp('example 13_6')\n",
"p=150 //given ,power\n",
"v=11 //given voltage\n",
"xg=0.12 //reactance of generator\n",
"xb=0.08 //reactance of line\n",
"scca=1/xg\n",
"ms=scca^2\n",
"sccb=1/(xg+xb)\n",
"ms1=sccb^2\n",
"disp('a')\n",
"printf('short circuit current is %.3fp.u \n ratio of mechanical stress on short circuit to aech. stresses on full load %.2f',scca,ms)\n",
"disp('b')\n",
"printf('short circuit current is with reactor %.3fp.u \n ratio of mechanical stress on short circuit to aech. stresses on full load with reactor %.f',sccb,ms1)"
   ]
   }
,
{
		   "cell_type": "markdown",
		   "metadata": {},
		   "source": [
			"## Example 13.7: percentage_drop_in_bus_bar_voltage.sce"
		   ]
		  },
  {
"cell_type": "code",
	   "execution_count": null,
	   "metadata": {
	    "collapsed": true
	   },
	   "outputs": [],
"source": [
"clc\n",
"clear\n",
"disp('example13_7')\n",
"xf=complex(0,0.04)\n",
"pf=0.8;ph=acosd(pf)\n",
"v=1;i=1;//let v and i\n",
"vb=v+i*xf*(complex(cosd(ph),-sind(ph)))\n",
"iv=vb-abs(v);\n",
"printf('bus bar voltage %.4f.p.u at angle %.1f\n increase in voltage %.4f =%.4fpersent',abs(vb),atand(imag(vb)/real(vb)),iv,iv*100)"
   ]
   }
,
{
		   "cell_type": "markdown",
		   "metadata": {},
		   "source": [
			"## Example 13.8: short_circuit_MVA_on_hv_and_lv_side.sce"
		   ]
		  },
  {
"cell_type": "code",
	   "execution_count": null,
	   "metadata": {
	    "collapsed": true
	   },
	   "outputs": [],
"source": [
"clc\n",
"clear\n",
"disp('example 13 8');\n",
"p1=30;x1=0.3 //power and reactance of different sets\n",
"p2=30;x2=0.3\n",
"p3=20;x3=0.3\n",
"l=10 ;xl=0.04\n",
"pb=p1;xp3=x3*pb/p3\n",
"tr=(xp3*x1*x2)/(xp3*x1+xp3*x2+x1*x2)\n",
"sc=pb/tr\n",
"disp('a')\n",
"printf('total reactance %.4f p.u \n short circuit MVA on l.v.bus %.2fMVA',tr,sc)\n",
"disp('b')\n",
"xlp=xl*pb/l\n",
"trr=tr+xlp\n",
"scc=pb/trr\n",
"printf('total reactance seen from h.v.side of transformer %.2fp.u \n short circuit MVA %.2fMVA',trr,scc)"
   ]
   }
,
{
		   "cell_type": "markdown",
		   "metadata": {},
		   "source": [
			"## Example 13.9: limiting_the_MVA_with_reactance.sce"
		   ]
		  },
  {
"cell_type": "code",
	   "execution_count": null,
	   "metadata": {
	    "collapsed": true
	   },
	   "outputs": [],
"source": [
"clc\n",
"clear\n",
"disp('example 13 9')\n",
"p1=30;x1=0.15;p2=10;x2=0.125;\n",
"pt=10;vs=3.3;pm=100\n",
"pb=p1 //let base as power of unit 1\n",
"x22=x2*pb/p2;x11=x1*pb/p1\n",
"xx=1/((1/x22)+(1/x11)+(1/x11))\n",
"xl=(pb/pm)-xx\n",
"xt2=xl*pt/pb\n",
"bi=vs^2/pt\n",
"xtt=xt2*bi\n",
"disp('a')\n",
"printf('reactance of transformer is %.4f.p.u \n reactance of transformer on %dMVA base is %.5fp.u. \n reactance of transformer %.4fohm',xl,pt,xl,xtt)"
   ]
   }
],
"metadata": {
		  "kernelspec": {
		   "display_name": "Scilab",
		   "language": "scilab",
		   "name": "scilab"
		  },
		  "language_info": {
		   "file_extension": ".sce",
		   "help_links": [
			{
			 "text": "MetaKernel Magics",
			 "url": "https://github.com/calysto/metakernel/blob/master/metakernel/magics/README.md"
			}
		   ],
		   "mimetype": "text/x-octave",
		   "name": "scilab",
		   "version": "0.7.1"
		  }
		 },
		 "nbformat": 4,
		 "nbformat_minor": 0
}
