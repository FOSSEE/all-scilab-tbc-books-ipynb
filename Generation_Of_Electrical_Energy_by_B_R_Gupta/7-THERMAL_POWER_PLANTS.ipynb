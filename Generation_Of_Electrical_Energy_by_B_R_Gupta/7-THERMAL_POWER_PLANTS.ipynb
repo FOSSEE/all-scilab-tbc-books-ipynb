{
"cells": [
 {
		   "cell_type": "markdown",
	   "metadata": {},
	   "source": [
       "# Chapter 7: THERMAL POWER PLANTS"
	   ]
	},
{
		   "cell_type": "markdown",
		   "metadata": {},
		   "source": [
			"## Example 7.1: calculation_of_energy_input_to_the_thermal_plant_and_output_from_thermal_plant.sce"
		   ]
		  },
  {
"cell_type": "code",
	   "execution_count": null,
	   "metadata": {
	    "collapsed": true
	   },
	   "outputs": [],
"source": [
"clear\n",
"clc\n",
"disp('exanple7.1')\n",
"pow=100*10^6\n",
"calv=6400\n",
"threff=0.3\n",
"elceff=0.92\n",
"kcal=0.239*10^-3\n",
"eo=pow*3600\n",
"ei=eo/(threff*elceff)\n",
"eikc=ei*kcal\n",
"colreq=eikc/6400\n",
"printf('energy output in 1 hour is %eWatt.sec ',eo);\n",
"printf('\nenergy input in one hour is %ejoules Watt.sec\n',ei)\n",
"printf(' energy input in 1 hour is %ekcal.',eikc);\n",
"printf('\n coal required is %.3fkg per hour',colreq);"
   ]
   }
],
"metadata": {
		  "kernelspec": {
		   "display_name": "Scilab",
		   "language": "scilab",
		   "name": "scilab"
		  },
		  "language_info": {
		   "file_extension": ".sce",
		   "help_links": [
			{
			 "text": "MetaKernel Magics",
			 "url": "https://github.com/calysto/metakernel/blob/master/metakernel/magics/README.md"
			}
		   ],
		   "mimetype": "text/x-octave",
		   "name": "scilab",
		   "version": "0.7.1"
		  }
		 },
		 "nbformat": 4,
		 "nbformat_minor": 0
}
