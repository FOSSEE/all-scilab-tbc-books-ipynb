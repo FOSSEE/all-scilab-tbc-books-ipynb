{
"cells": [
 {
		   "cell_type": "markdown",
	   "metadata": {},
	   "source": [
       "# Chapter 3: power plant economics"
	   ]
	},
{
		   "cell_type": "markdown",
		   "metadata": {},
		   "source": [
			"## Example 3.16: generation_cost_of_a_plant.sce"
		   ]
		  },
  {
"cell_type": "code",
	   "execution_count": null,
	   "metadata": {
	    "collapsed": true
	   },
	   "outputs": [],
"source": [
"clear\n",
"clc \n",
"disp('data 3.16')\n",
"pu=500*10^3  ;pc=2*pu //plant unit,plant capacity\n",
"land=11.865*10^9\n",
"cicost=30.135*10^9\n",
"ccost=land+cicost;   //capital cost =land cost+civil cost\n",
"plife=25;    //plant life\n",
"ir=0.16;    //interest rate\n",
"ond=1.5*10^-2;// o and mof capital cost\n",
"gr=0.5*10^-2  //grneral reserve of capital cost\n",
"calv=4158  //calorific value kj per kg\n",
"coalcost=990  //caol cost per ton\n",
"heat=2500//heat rate kcal/kWh\n",
"retur=0.08 //return\n",
"salvage=0\n",
"plf=0.69 ;auxcons=0.075 //auxiliary consumption\n",
"disp('cost calculation ')\n",
"disp('using sinking fund depreciation')\n",
"ande=(ir/((ir+1)^(plife)-1))*100\n",
"afixcost=ccost*(ir+ond+retur+gr+(ande/100))\n",
"afcppc=afixcost/pc\n",
"printf('annual depretion reserve is %fpersent \n annual fixed cost Rs%f \n annual fixed cost per Rs%dkWh',ande,afixcost,afcppc)\n",
"fclco=(heat*coalcost)/(calv*1000)\n",
"engepc=24*365*plf\n",
"enavil=engepc*(1-auxcons)\n",
"gencost=(afcppc/enavil)+fclco\n",
"printf('\nfuel cost Rs.%f/kWh \nenergy generated per kW of plant capacity Rs.%fkWh \nenergy available bus bar %fkWh \n generation cost Rs%f perkWh',fclco,engepc,enavil,gencost)\n",
""
   ]
   }
,
{
		   "cell_type": "markdown",
		   "metadata": {},
		   "source": [
			"## Example 3.17: to_find_the_generation_cost_and_total_annual_cost.sce"
		   ]
		  },
  {
"cell_type": "code",
	   "execution_count": null,
	   "metadata": {
	    "collapsed": true
	   },
	   "outputs": [],
"source": [
"clear\n",
"clc\n",
"disp('dat 3.17')\n",
"pco=120*10^3 //3 units of 40MW\n",
"caco=68*10^8 //6 year of consumption\n",
"inr=0.16 //intrest rate\n",
"de=2.5*10^-2 //depreciation\n",
"oanm=1.5*10^-2//OandM\n",
"ger=0.5*10^-2//general reserve\n",
"pllf=0.6 //plant load facot\n",
"aucon=0.5*10^-2 //auxiliary consumption\n",
"tac=caco*(inr+de+oanm+aucon) ///total cost\n",
"engpy=pco*pllf*24*365 //energy generatedper year\n",
"eabb=engpy*(1-ger) //energy available at bus bar\n",
"geco=tac/eabb //generation cost\n",
"printf(' total annual costs is Rs%e per year \n energy generated per year =%ekWh/year \n energy available at bus bar %ekWh/year \n generation cost is Rs.%fper kWh',tac,engpy,eabb,geco)"
   ]
   }
,
{
		   "cell_type": "markdown",
		   "metadata": {},
		   "source": [
			"## Example 3.1: annual_plant_cost_and_generation_cost_of_two_different_units.sce"
		   ]
		  },
  {
"cell_type": "code",
	   "execution_count": null,
	   "metadata": {
	    "collapsed": true
	   },
	   "outputs": [],
"source": [
"clc\n",
"disp('example 3.1')\n",
"totpow=110*10^3 //(kW)\n",
"uc1=18000;fcr1=0.1;cf1=0.55;fuelcons1=0.7;fuelcost1=1500/1000;om1=0.2;utilizationf1=1;\n",
"uc2=30000;fcr2=0.1;cf2=0.60;fuelcons2=0.65;fuelcost2=1500/1000;om2=0.2;utilizationf2=1;\n",
"//given uck=unit capital cost k;fcrk= fixed charge rate of kth unit;cfk=capacity factor at k th unit; omk=annual cost of operating labour ;totpow=total power rating of units\n",
"afc1=fcr1*uc1*totpow;afc2=fcr2*uc2*totpow;\n",
"e1=8760*cf1*totpow;e2=8760*cf2*totpow;\n",
"annualfuel1=e1*fuelcons1;annualfuel2=e2*fuelcons2;\n",
"fc1=annualfuel1*fuelcost1;fc2=annualfuel2*fuelcost2;\n",
"om11=om1*fc1;om22=om2*fc2;\n",
"aoc1=fc1+om1;aoc2=fc2+om2;\n",
"apc1=aoc1+afc1;apc2=aoc2+afc2;\n",
"gc1=apc1/fc1;gc2=apc2/fc2\n",
"disp('solution for (a)')\n",
"printf('\nafc1=Rs.%d\n e1=%dkWh\n annualfual1=%fkg \n fc1=Rs.%d \n om1=Rs.%d \n aoc1=Rs.%f \n apc1=Rs.%f \n gc1=%fkWh\n',afc1,e1,annualfuel1,fc1,om11,aoc1,apc1,gc1)\n",
"  disp('solution for (b)')\n",
"printf('\nafc2=Rs.%d\n e2=%dkWh\n annualfual2=%fkg \n fc2=Rs.%d \n om22=Rs.%d \n aoc2=Rs.%f \n apc2=Rs.%f \n gc2=%fkWh\n',afc2,e2,annualfuel2,fc2,om22,aoc2,apc2,gc1)\n",
"ogc=(apc1+apc2)/(e1+e2)\n",
"\n",
"printf('\n\nsolution of (c)\nogc=Rs.%f/kWh',ogc)"
   ]
   }
,
{
		   "cell_type": "markdown",
		   "metadata": {},
		   "source": [
			"## Example 3.2: annual_depreciation_reserve.sce"
		   ]
		  },
  {
"cell_type": "code",
	   "execution_count": null,
	   "metadata": {
	    "collapsed": true
	   },
	   "outputs": [],
"source": [
"clear\n",
"clc\n",
"disp('example 3.2')\n",
"c=2*10^8;//cost\n",
"s=0.15;//salvage value\n",
"ul=25; ///useful value\n",
"i=0.08;//life of plant\n",
"disp('solution for (a)')\n",
"printf('\nannual straight line depreciation reserve =Rs.%.1eperyear\n',c*(1-s)/ul)\n",
"disp('solution for (b)')\n",
"it=(i+1)^25-1\n",
"iit=i/it\n",
"asdr=c*(1-s)*iit*100\n",
"printf('\n annual sinking fund depreciation reserve is =Rs%.3eperyear',asdr)"
   ]
   }
,
{
		   "cell_type": "markdown",
		   "metadata": {},
		   "source": [
			"## Example 3.3: solving_accumulated_depreciation.sce"
		   ]
		  },
  {
"cell_type": "code",
	   "execution_count": null,
	   "metadata": {
	    "collapsed": true
	   },
	   "outputs": [],
"source": [
"clear\n",
"clc\n",
"disp('example 3.3')\n",
"cost=2*10^8\n",
"sal=0.15\n",
"use=25\n",
"t=(1-(sal^(1/use)))\n",
"printf('rate of depretion by fixed percentage method =%fpersent',t*100)\n",
"rd=cost*(1-t)^10\n",
"printf('\nremaining depreciation at the end of 10th year =Rs.%f=Rs.%fx10^8',rd,rd/(10^8))\n",
"printf('\naccumulated depreciation at the end of 10 year is Rs.%f =Rs.%fx10^8',cost-rd,(cost-rd)/10^8)"
   ]
   }
,
{
		   "cell_type": "markdown",
		   "metadata": {},
		   "source": [
			"## Example 3.4: load_factor_verses_generation_cost.sce"
		   ]
		  },
  {
"cell_type": "code",
	   "execution_count": null,
	   "metadata": {
	    "collapsed": true
	   },
	   "outputs": [],
"source": [
"clc\n",
"clear\n",
"disp('example 3 4')\n",
"p=100  //ratring of steam station\n",
"fc=3000 //fixed cost of plant per year\n",
"rg=0.9 //90 paise per kv generation\n",
"uf=1  //utilization factor 1\n",
"lf=20:20:100 //let load factor be 5 discreate units\n",
"lm=uf*lf  //lwt load MW is as same as lf as utilisation factor is 1\n",
"n=size(lm)\n",
"fc=fc*ones(1,n(2))\n",
"op=rg*100*ones(1,n(2))\n",
"for i=1:n(2)\n",
"    negp(1,i)=lm(i)*8760\n",
"    fcgp(1,i)=fc(i)*10000/negp(i)\n",
"    tgc(1,i)=fcgp(i)+op(i)\n",
"end\n",
"plot2d4(lf,tgc)\n",
"printf('load factor')\n",
"disp(lf)\n",
"printf('load MW\n')\n",
"fcgp=fcgp/100;op=op/100;tgc=tgc/100\n",
"printf('%dMW\t%dMW\t%dMW\t%dMW\t%dMW',lm(1),lm(2),lm(3),lm(4),lm(5))\n",
"disp('fixed cost')\n",
"printf('Rs%d\tRS%d\tRs%d\tRs%d\tRs%d',fc(1),fc(2),fc(3),fc(4),fc(5))\n",
"disp('number of KW hrs of energy generated in paise per unit of energy')\n",
"printf('%dkWh\t%dkWh\t%dkWh\t%dkWh\t%dkWh',negp(1),negp(2),negp(3),negp(4),negp(5))\n",
"disp('fixed cost in paise per unit of energy')\n",
"printf('Rs%.3f\tRS%.3f\tRs%.3f\tRs%.3f\tRs%.3f',fcgp(1),fcgp(2),fcgp(3),fcgp(4),fcgp(5))\n",
"disp('operating cost in paise per unit of energy')\n",
"printf('Rs%.3f\tRS%.3f\tRs%.3f\tRs%.3f\tRs%.3f',op(1),op(2),op(3),op(4),op(5))\n",
"disp('totla generation cost in paise per unit of energy')\n",
"printf('Rs%.3f\tRS%.3f\tRs%.3f\tRs%.3f\tRs%.3f',tgc(1),tgc(2),tgc(3),tgc(4),tgc(5))"
   ]
   }
,
{
		   "cell_type": "markdown",
		   "metadata": {},
		   "source": [
			"## Example 3.5: generation_cost_of_per_unit_of_energy.sce"
		   ]
		  },
  {
"cell_type": "code",
	   "execution_count": null,
	   "metadata": {
	    "collapsed": true
	   },
	   "outputs": [],
"source": [
"clear\n",
"clc\n",
"disp('example 3.5')\n",
"ic=120 //installed capacity\n",
"ccppkw=40000 ///capital cost of plant\n",
"iand=0.15 //interest and depreciation\n",
"fco=0.64 //fuel consumption\n",
"fc=1.5//fuel cost\n",
"oc=50*10^6 //operating cost\n",
"pl=100//peak load\n",
"lf=0.6 //load factor\n",
"al=lf*pl//avarrage load\n",
"printf(' average load %dMW',al)\n",
"eg=al*8760*10^3//energy generated\n",
"printf('\n energy generated =%ekWhr',eg)\n",
"ti=ic*ccppkw //total investiment\n",
"printf('\n total investement Rs.%e',ti)\n",
"ind=ti*iand*10^3//interest and depreciation\n",
"printf('\n investement amd depression is Rs.%e',ind)\n",
"fcons=eg*fco //fual consumption\n",
"printf('\n fuel consumtion is %ekgper year',fcons)\n",
"fcost=fcons*fc//fuel cost\n",
"aco=ti+fcost+ind+oc//annual cost\n",
"printf('\n fuel cost Rs.%eper year \n annual plant cost Rs%eper  year \n generation cost Rs%fper year',fcost,aco,aco/eg)"
   ]
   }
,
{
		   "cell_type": "markdown",
		   "metadata": {},
		   "source": [
			"## Example 3.6: comparision_between_costs_of_different_alternators.sce"
		   ]
		  },
  {
"cell_type": "code",
	   "execution_count": null,
	   "metadata": {
	    "collapsed": true
	   },
	   "outputs": [],
"source": [
"clear\n",
"clc\n",
"disp('example 3.6')\n",
"md=50*10^3;//maximum demand in kW\n",
"ecy=0\n",
"pst=600*md+2.5*ecy//public supply tariff equation\n",
"lfr=0.5; //load factor\n",
"rc=20*10^3;//reserve capacity\n",
"cik=30000; //capital investiment\n",
"inad=0.15;///interest and depreciation\n",
"fuc=0.6;fuco=1.4;oct=0.8//fuel consumption//fuel cost//other cost\n",
"avl=md*lfr;//average load\n",
"ecy=avl*8760  //energy cosumption per year\n",
"disp('solution of (a)')\n",
"printf(' average load = %dkW \n energy consumton =%dkWh\n annual expenditure is Rs%dperyear\n',avl,ecy,pst)\n",
"disp('(b) private steam plant')\n",
"ict=md+rc; //installed capacity\n",
"caint=cik*ict; //capital investiment\n",
"iande=inad*caint; //interest and depreciation\n",
"fuelcon=ecy*fuc; //fuel consumption\n",
"fucost=fuelcon*fuco; //fuel cost\n",
"opwe=oct*ecy //other expenditure\n",
"totex=iande+fucost+opwe//total expenditure\n",
"printf('\n installed capacity is Rs%d \n capital investiment is Rs%d \n interest and depreciation is Rs.%d \n fuel consumption is Rs.%f \n fuel cost is Rs.%f per year \n wage,repair and other expenses are Rs%f per year \n total expenditure is Rs%e per year',ict,caint,iande,fuelcon,fucost,opwe,totex)"
   ]
   }
,
{
		   "cell_type": "markdown",
		   "metadata": {},
		   "source": [
			"## Example 3.7: overall_generation_cost_per_kWh_for_thermal_and_hydro_plant.sce"
		   ]
		  },
  {
"cell_type": "code",
	   "execution_count": null,
	   "metadata": {
	    "collapsed": true
	   },
	   "outputs": [],
"source": [
"clc\n",
"clear\n",
"disp('example 3 7')\n",
"md=500 //given maximum demand\n",
"lf=0.5 //load factor\n",
"hp=7200;he=0.36//operating cost of hydro plant\n",
"tp=3600;te=1.56 //operating cost of thermal plant\n",
"teg=md*1000*lf*8760 //total energy generated\n",
"printf('total energy generated per year %2.2eW',teg)\n",
"t=(hp-tp)/(te-he) //time of operating useing (de/dp)\n",
"ph=md*(1-t/8760) //from triangle adf\n",
"pt=md-ph\n",
"et=pt*t*1000/2\n",
"eh=teg-et\n",
"co=hp*ph*1000+he*eh+tp*pt*1000+te*et\n",
"ogc=co/teg\n",
"printf('\n capacity of hydro plant is %dMW \n capacity of thermal plant %dMW\n energy generatede by hydro plant %dkWh\n energy generated by thermal plant %dkWh\n over all generation cost is %.3f/kWh',ph,pt,eh,et,ogc)"
   ]
   }
],
"metadata": {
		  "kernelspec": {
		   "display_name": "Scilab",
		   "language": "scilab",
		   "name": "scilab"
		  },
		  "language_info": {
		   "file_extension": ".sce",
		   "help_links": [
			{
			 "text": "MetaKernel Magics",
			 "url": "https://github.com/calysto/metakernel/blob/master/metakernel/magics/README.md"
			}
		   ],
		   "mimetype": "text/x-octave",
		   "name": "scilab",
		   "version": "0.7.1"
		  }
		 },
		 "nbformat": 4,
		 "nbformat_minor": 0
}
