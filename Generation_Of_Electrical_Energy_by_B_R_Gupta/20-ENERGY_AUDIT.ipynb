{
"cells": [
 {
		   "cell_type": "markdown",
	   "metadata": {},
	   "source": [
       "# Chapter 20: ENERGY AUDIT"
	   ]
	},
{
		   "cell_type": "markdown",
		   "metadata": {},
		   "source": [
			"## Example 20.1: economic_power_factor_electricity_bill.sce"
		   ]
		  },
  {
"cell_type": "code",
	   "execution_count": null,
	   "metadata": {
	    "collapsed": true
	   },
	   "outputs": [],
"source": [
"clc\n",
"clear\n",
"disp('example 20.1')\n",
"lod=1 //industrial installation load\n",
"pf=0.78  //power factor\n",
"tf=200   //tariff \n",
"md=3.5   //extra maximum demand\n",
"ic=500   //installation of capacitor\n",
"id=0.15  //interest and depreciation\n",
"lf=0.8  //load factor\n",
"sinp=ic*id/tf\n",
"ph2=asind(sinp)\n",
"epf2=cosd(ph2)\n",
"ph1=acosd(pf)\n",
"ph1=round(ph1*10^2)/10^2\n",
"ph2=round(ph2*10^2)/10^2\n",
"q=lod*(tand(ph1)-tand(ph2))\n",
"q=round(q*10^4)/10^4\n",
"ikva=lod/pf\n",
"ikv=round(ikva*(10^5))/10^2\n",
"aeu=lod*lf*8760*10^6\n",
"eb=ikv*tf+aeu*md\n",
"printf('(a)\neconomic power factor %.3flagging \n(b) \ncapacitor kVAr to improve the power factor %.4f \n(c) \ninitial kVA %.2fKVA \nannual energy used %0.3ekWh \nelectrical bill Rs%e per year',epf2,q,ikv,aeu,eb)\n",
"kvc=round((lod*10^3/(round(epf2*1000)/10^3))*10^2)/10^2\n",
"ebc=kvc*tf+aeu*md\n",
"aidc=q*10^3*ic*id\n",
"te=ebc+aidc\n",
"asc=eb-te\n",
"printf('\n(d)\nKVA after installation of capacitors %.2fKVA \n',kvc)\n",
"printf('energy bill after installation of capacitor Rs%e per year \n',ebc)\n",
"printf('annual interest and depreciation of capacitor bank Rs%.1fper year \ntotal expendition after installation of capacitors Rs%e per year \n annual savings due to installation of capacitors Rs%d per year',aidc,te,asc)"
   ]
   }
,
{
		   "cell_type": "markdown",
		   "metadata": {},
		   "source": [
			"## Example 20.2: annual_cost_method_present_worth_method.sce"
		   ]
		  },
  {
"cell_type": "code",
	   "execution_count": null,
	   "metadata": {
	    "collapsed": true
	   },
	   "outputs": [],
"source": [
"clc\n",
"clear\n",
"disp('example 20.2')\n",
"ee=5*10^16  //electrical energy requirement\n",
"eer=0.1   //energy requirement\n",
"i=5*10^6  //investement\n",
"n=20     //life time\n",
"ec=4.1    //energy cost\n",
"r=0.13   //interest rate\n",
"dr=r/((1+r)^(n)-1) //depreciation rate\n",
"dr=round(dr*10^5)/10^5\n",
"tfc=r+dr   //total fixed cost\n",
"ace=i*tfc  //annual cost\n",
"ace=round(ace/10^2)*10^2\n",
"eb=i*ec   //electrical bill with present motor\n",
"teb=eb*(1-eer) //electrical bill with efficiency motor\n",
"tac=teb+ace   //total annual cost with efficiency cost\n",
"as=eb-tac  //annual saving\n",
"printf(' depreciation rate %.5f \n total fixed charge rate %f\n annual cost of efficiency motor Rs%eper year \n total electrical bill with present motors Rs%eper year \n total electrical bill with efficiency motor Rs.%e \n total annual cost if motors are replaced by high efficiency motors Rs%e per year \n annual saving Rs%d per year',dr,tfc,ace,eb,teb,tac,as)\n",
"disp('b')\n",
"pwf=r/(1-((1+r)^-n)) //present worth factor\n",
"pwf=round(pwf*10^5)/10^5\n",
"pwm=teb/pwf   //present worth annual cost with existing motors\n",
"pwm=round(pwm/10^4)*10^4 //present worth with existing motors\n",
"pwem=eb/pwf //present worth with efficiency motor\n",
"pwem=round(pwem/10^4)*10^4\n",
"pwam=teb/pwf\n",
"pwam=round(pwam/10^4)*10^4\n",
"tpw=pwam+i  //total persent worth\n",
"printf('present worth factor %.5f \n present worth of annual cost with existing motors Rs%e \n present worth of annual cost with new motor Rs%e \n total present worth %e per year',pwf,pwem,pwam,tpw)"
   ]
   }
],
"metadata": {
		  "kernelspec": {
		   "display_name": "Scilab",
		   "language": "scilab",
		   "name": "scilab"
		  },
		  "language_info": {
		   "file_extension": ".sce",
		   "help_links": [
			{
			 "text": "MetaKernel Magics",
			 "url": "https://github.com/calysto/metakernel/blob/master/metakernel/magics/README.md"
			}
		   ],
		   "mimetype": "text/x-octave",
		   "name": "scilab",
		   "version": "0.7.1"
		  }
		 },
		 "nbformat": 4,
		 "nbformat_minor": 0
}
