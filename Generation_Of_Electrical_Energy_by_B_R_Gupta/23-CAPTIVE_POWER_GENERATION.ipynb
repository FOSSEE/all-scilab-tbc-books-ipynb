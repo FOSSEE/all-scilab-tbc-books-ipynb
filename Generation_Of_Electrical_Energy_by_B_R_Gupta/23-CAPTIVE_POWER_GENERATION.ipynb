{
"cells": [
 {
		   "cell_type": "markdown",
	   "metadata": {},
	   "source": [
       "# Chapter 23: CAPTIVE POWER GENERATION"
	   ]
	},
{
		   "cell_type": "markdown",
		   "metadata": {},
		   "source": [
			"## Example 23.11_2: calculation_of_wheeling_charges.sce"
		   ]
		  },
  {
"cell_type": "code",
	   "execution_count": null,
	   "metadata": {
	    "collapsed": true
	   },
	   "outputs": [],
"source": [
"clc\n",
"clear\n",
"disp('sample problem in 23.11.2')\n",
"pp=11 //power capacity\n",
"cost=35 //cost of the system\n",
"in=0.14 //interest\n",
"lis=30 //life of system\n",
"sv=0.15 //salvage value\n",
"es=13.5*10^6 //energy sent\n",
"los=0.05 //losses\n",
"omc=0.02 //O&M charges\n",
"gr=0.006 //general revenue\n",
"rd=(1-sv)*100/lis\n",
"rdd=rd/100\n",
"tac=cost*(in+omc+rdd+gr)\n",
"ery=es*(1-los)\n",
"wc=(tac/ery)*10^5\n",
"printf('rate of depreciation is %.3fpercent \ntotal annual cost is Rs.%.5f lakhs/year \nenergy received per year %ekWh/year \nwheeling charges Rs%f',rd,tac,ery,wc)"
   ]
   }
,
{
		   "cell_type": "markdown",
		   "metadata": {},
		   "source": [
			"## Example 23.1: COST_OF_DIESEL_ENGINE_CAPITIVE_POWER_PLANT.sce"
		   ]
		  },
  {
"cell_type": "code",
	   "execution_count": null,
	   "metadata": {
	    "collapsed": true
	   },
	   "outputs": [],
"source": [
"clc\n",
"clear\n",
"disp('example:23.1')\n",
"sp=11*10^3;pc=300*10^6;ir=0.15;lp=15;fc=7;eff=0.35;cv=10100;mc=0.02;lf=0.8;er=860  //let the given variable be --sp=size of plant ,pc=project cost,ir=interest rate,lp=life of the plant,fc=fuel cost,eff=efficiency,cv=calorific value,er=860,mc=maintenance cost,lf=load factor,\n",
"cac=pc/sp //let the variable cac be captel cost\n",
"printf('\ncapitel cost is %.1f/kW',cac)\n",
"crfd1=(1+ir)^(-lp)\n",
"crfd=1-crfd1\n",
"crf=ir/crfd //crf=capitel cost recovery factor\n",
"printf('\nCRF=%.3f',crf)\n",
"anfc=cac*crf //anual fixed cost is prodect of capitel cost and capitel recovery factor\n",
"printf('\nannual fixed cost is Rs%.2f/kW',anfc)\n",
"hr=er/eff //heat rate is energy ratedivided by efficiency\n",
"printf('\nheat rate is %fcal/kWh',hr) \n",
"gpf=cv/hr;//kW generated per liter is division of calorific value to hr\n",
"printf('\nnumber of kWh generated per liter of fuel is %.2fkWh/litre',gpf)\n",
"fcp=fc/gpf //fuel cost per unit is fuel cost divided by generated per liter\n",
"printf('\nfuel cost per unit Rs%fper kWh',fcp)\n",
"aomc=cac*mc //annual operation and maintenence cost\n",
"printf('\nannual operation cost Rs.%.4f/kW',aomc)\n",
"afom=anfc+aomc \n",
"printf('\nannual fixed, operation and maintence cost Rs.%.2f/kW',afom)\n",
"egpy=8760*lf //energy generated is 24*12*60\n",
"printf('\nenergygenerated per year is %dkWh',egpy)\n",
"afomc=afom/egpy\n",
"printf('\nannual fixed operation and maintenence cost per kWh of energy %.4f/kWh',afomc)\n",
"gco=fcp+afomc //generated cost is sum of fuel cost and maintenence cost\n",
"printf('\ngenerated cost is Rs%.4f/kWh',gco)"
   ]
   }
,
{
		   "cell_type": "markdown",
		   "metadata": {},
		   "source": [
			"## Example 23.2: GENERATION_COST_OF_CAPITIVE_POWER_PLANT_in_suger_mill.sce"
		   ]
		  },
  {
"cell_type": "code",
	   "execution_count": null,
	   "metadata": {
	    "collapsed": true
	   },
	   "outputs": [],
"source": [
"clc\n",
"clear\n",
"disp('example 23.2')\n",
"sp=25*10^3 //size of the plant\n",
"cc=800*10^6  //capital cost\n",
"ir=0.1    //interest rate\n",
"lp=20    //life of the plant\n",
"mc=0.05  //maintence cost\n",
"lf=0.6   //load factor \n",
"sub=0.3  //subsidy\n",
"nc=cc*(1-sub)\n",
"nck=nc/sp \n",
"crf=ir/(1-(1+ir)^(-lp))\n",
"afc=nck*crf\n",
"aomc=nck*mc\n",
"tac=afc+aomc\n",
"aeg=8760*lf\n",
"gc=tac/aeg\n",
"printf('net capital cost Rs%d*10^6 \nnet capital cost per KW Rs%f/kW \ncrf %f \nannual fixed cost Rs%d per kW \nannual operation and maintenance cost Rs%dper kW \nTotal annual cost Rs%dper kW \nAnnual energy generated per kW of plant capacity %.1fkWh \ngeneration cost Rs%.3fkWh',nc/(10^6),nck,crf,afc,aomc,tac,aeg,gc)"
   ]
   }
],
"metadata": {
		  "kernelspec": {
		   "display_name": "Scilab",
		   "language": "scilab",
		   "name": "scilab"
		  },
		  "language_info": {
		   "file_extension": ".sce",
		   "help_links": [
			{
			 "text": "MetaKernel Magics",
			 "url": "https://github.com/calysto/metakernel/blob/master/metakernel/magics/README.md"
			}
		   ],
		   "mimetype": "text/x-octave",
		   "name": "scilab",
		   "version": "0.7.1"
		  }
		 },
		 "nbformat": 4,
		 "nbformat_minor": 0
}
