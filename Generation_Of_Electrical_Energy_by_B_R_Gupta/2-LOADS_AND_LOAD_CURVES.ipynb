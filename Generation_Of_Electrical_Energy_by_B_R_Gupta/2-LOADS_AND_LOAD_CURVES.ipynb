{
"cells": [
 {
		   "cell_type": "markdown",
	   "metadata": {},
	   "source": [
       "# Chapter 2: LOADS AND LOAD CURVES"
	   ]
	},
{
		   "cell_type": "markdown",
		   "metadata": {},
		   "source": [
			"## Example 2.10: reserve_capacity_of_plant_with_different_factors.sce"
		   ]
		  },
  {
"cell_type": "code",
	   "execution_count": null,
	   "metadata": {
	    "collapsed": true
	   },
	   "outputs": [],
"source": [
"clc\n",
"disp('example 2.10')\n",
"egd1=438*10^4;plp=0.2;pcf=0.15;//annual load duration ;annual  load factor;plant capacity factor\n",
"pml=egd1/(plp*8760)\n",
"pc=(pml*plp)/pcf\n",
"printf('annual load factor =energy generated during 1 year/(max. load)x8760=%.1f \n maximum load =%dkW',plp,pml)\n",
"printf('\ncapacity factor =(max.load/plant capacity)x(load factor)\n plant capacity =max.load/0.75 =%fMW \n reserve capacity =3.333-2.5=%fMW',pc,pc-pml)"
   ]
   }
,
{
		   "cell_type": "markdown",
		   "metadata": {},
		   "source": [
			"## Example 2.11: suggested_installed_capacity_for_a_plant.sce"
		   ]
		  },
  {
"cell_type": "code",
	   "execution_count": null,
	   "metadata": {
	    "collapsed": true
	   },
	   "outputs": [],
"source": [
"clc\n",
"disp('example 2.11')\n",
"p1=10;p2=6;p3=8;p4=7 //peak demands of 4 areas\n",
"df=1.5;lf=0.65;imdp=0.6;//diversity factor ;annual load factor ;ratio of maximum demand\n",
"p=p1+p2+p3+p4\n",
"md=p/df\n",
"ae=md*lf*8760\n",
"imd=imdp*md\n",
"ic=md+imd\n",
"printf(' sum of maximum=%dMW',p)\n",
"printf('\n maximum demand = sum of max.demands/diversity factor =%d/%f = %fMW',p,df,md)\n",
"printf('\n annual energy =%fMWh \n increase in maximum demand =%fMW \n installed capacity =%fMW',ae,imd,ic)"
   ]
   }
,
{
		   "cell_type": "markdown",
		   "metadata": {},
		   "source": [
			"## Example 2.12: load_duration_curve.sce"
		   ]
		  },
  {
"cell_type": "code",
	   "execution_count": null,
	   "metadata": {
	    "collapsed": true
	   },
	   "outputs": [],
"source": [
"clc\n",
"disp('example 2.12')\n",
"disp('from the above data,the durations of different loads during one week are')\n",
"aw=[0 5 8 12 13 17 21 24]  //given week timings and corresponding loads\n",
"lw=[100 150 250 100 250 350 150]\n",
"aen=[0 5 17 21 24]   //given weakends timing and corresponding\n",
"len=[100 150 200 150]\n",
"saw=size(aw);saen=size(aen)\n",
"sae=saw(1,2)-1;saen=saen(1,2)-1\n",
"for x=1:sae                      //getting duration of load\n",
"    tdw(1,x)=aw(1,x+1)-aw(1,x)\n",
"end\n",
"for x=1:saen\n",
"    tden(1,x)=aen(1,x+1)-aen(1,x)\n",
"end\n",
"taw=5*tdw                         //duration of entair week\n",
"taen=2*tden\n",
"alw=[taw taen;lw len]\n",
"lwen=[lw len]      //arranging load in accending order\n",
"[m n]=gsort(lwen)\n",
"kn=size(lwen)\n",
"kld=kn(1,2)\n",
"\n",
"for x=2:kld\n",
"    \n",
"    ldcq(:,x)=alw(:,n(x))\n",
"    if x>1 then\n",
"    ldcq(1,x)=ldcq(1,x)+ldcq(1,x-1)\n",
"    end\n",
"end\n",
"\n",
"plot2d2(ldcq(1,:),ldcq(2,:))\n",
"printf(' load            duration \n 350MW  4x5   =20hours \n 250MW  20+8x5=60hours \n 200MW  60+4x2 =68hours \n 150MW  68+6x5+15x2 =128hours \n 100MW  128+6x5+5x2 =168hours')\n",
"disp('the load duration curve is plotted in fig')\n",
"disp('the total area under the load duration curve is 31600MWh which represents the energy conumption in one week.')\n",
"eclw=ldcq(2,1)*ldcq(1,1)\n",
"for x=2:1:kld\n",
"   eclw=eclw+(ldcq(2,x)*(ldcq(1,x)-ldcq(1,x-1)))\n",
"end\n",
"lf=eclw/(max(lwen)*24*7)\n",
"printf('total energy consumed is %dWh',eclw)\n",
"printf('\ntotal maximum energy could consume %dWh',eclw/lf)\n",
"printf('\nload factor =%f',lf)"
   ]
   }
,
{
		   "cell_type": "markdown",
		   "metadata": {},
		   "source": [
			"## Example 2.13: annual_load_factor_daily_load_factor_and_different_ratioes.sce"
		   ]
		  },
  {
"cell_type": "code",
	   "execution_count": null,
	   "metadata": {
	    "collapsed": true
	   },
	   "outputs": [],
"source": [
"clc\n",
"disp('example 2.13')\n",
"dlf=0.825;   //daily load factor\n",
"lptmlp=0.87;  //average daily peak load to monthly load peak\n",
"mlptalp=0.78;  //average monthly peak load to annual load peak\n",
"printf('annual load factor =%fx%fx%f=%f.',dlf,lptmlp,mlptalp,dlf*lptmlp*mlptalp)"
   ]
   }
,
{
		   "cell_type": "markdown",
		   "metadata": {},
		   "source": [
			"## Example 2.14: peak_load_on_different_transformers_and_peak_load_on_feeder.sce"
		   ]
		  },
  {
"cell_type": "code",
	   "execution_count": null,
	   "metadata": {
	    "collapsed": true
	   },
	   "outputs": [],
"source": [
"clc\n",
"disp('example 2.14')\n",
"disp('(a)')\n",
"//given\n",
"transformer1.motorload=300;transformer1.demandfactorm=0.6;tarnsformer1.commercialload=100;transformer1.demandfactorc=0.5;transformer1.diversityfactor=2.3;transformer2.residentalload=500;transformer2.demandfactor=0.4;transformer2.diversitryfactor=2.5;transformer3.residentalload=400;transformer3.demandfactor=0.5;transformer3.diversityfactor=2.0;diversitybtwxmer=1.4\n",
"peakloadoftransformer1=((transformer1.motorload*transformer1.demandfactorm)+(tarnsformer1.commercialload*transformer1.demandfactorc))/transformer1.diversityfactor\n",
"peakloadonxmer=(transformer2.residentalload*transformer2.demandfactor)/transformer2.diversitryfactor\n",
"peakloadonxmer3=(transformer3.residentalload*transformer3.demandfactor)/(transformer3.diversityfactor)\n",
"printf('peak load on transformer 1 =(300x0.6+100x0.5)/2.3 =%dkW \npeak load on transformer 2 =%dkW \n peak load on transformer 3 =%dkW',peakloadoftransformer1,peakloadonxmer,peakloadonxmer3)\n",
"disp('(b)')\n",
"peakloadonfeeder=(peakloadoftransformer1+peakloadonxmer+peakloadonxmer3)/diversitybtwxmer\n",
"printf('peak load on feeder =(100+80+100)/1.4 =%dkW',peakloadonfeeder)"
   ]
   }
,
{
		   "cell_type": "markdown",
		   "metadata": {},
		   "source": [
			"## Example 2.1: connected_load_demand_factor_and_other_load_factors_connected_to_the_system.sce"
		   ]
		  },
  {
"cell_type": "code",
	   "execution_count": null,
	   "metadata": {
	    "collapsed": true
	   },
	   "outputs": [],
"source": [
"clc\n",
"disp('example =2.1')\n",
"printf('\n')\n",
"disp('solution for (a)')\n",
"nb=8;nf=2;nl=2 //given number of equipments is 8 bulbs 2 fans 2plugs\n",
"lb=100;lf=60;ll=100 //corresponding wattages\n",
"cl=nb*lb+nf*lf+nl*ll; //total connected load\n",
"printf('connected load = 8X100W+2X60W+2X100W=%dW\n',cl);\n",
"disp('solution for (b)')\n",
"disp('total wattage at different times is')\n",
"t1=5;t2=2;t3=2;t4=9;t5=6;\n",
"fr=[0 1 0] //12 to 5am period of duration 5h\n",
"s=[0 2 1] //5am to 7am period of duration 2h\n",
"t=[0 0 0] //7am to 9am period of duration 2h\n",
"fo=[0 2 0] //9am to 6pm period of duration 9h\n",
"fi=[4 2 0] //6pm to 12pm period of duration 6h\n",
"w=[fr;s;t;fo;fi]\n",
"wt=[100*w(:,1),60*w(:,2),100*w(:,3)]\n",
"wtt=[sum(wt(1,:));sum(wt(2,:));sum(wt(3,:));sum(wt(4,:));sum(wt(5,:))]\n",
"printf('\t%dW\n\t%dW\n\t%dW\n\t%dW\n\t%dW',wtt(1),wtt(2),wtt(3),wtt(4),wtt(5))\n",
"printf('\nthe maximum demand is %dW\n',max(wtt))\n",
"m=max(wtt)\n",
"disp('solution for (c)')\n",
"printf('\ndemand factor =%3f\n',m/cl)\n",
"disp('solution for (d)')//energy consumed is power multiply by corresponding time\n",
"energy=[wtt(1,1)*t1;wtt(2,1)*t2;wtt(3,1)*t3;wtt(4,1)*t4;wtt(5,1)*t5]\n",
"printf('\t%dWh\n\t%dWh\n\t%dWh\n\t%dWh\n\t%dWh',energy(1),energy(2),energy(3),energy(4),energy(5))\n",
"e=sum(energy)\n",
"printf('\ntotal energy consumed during 24 hours =%dWh+%dWh+%dWh+%dWh+%dWh=%dWh\n',energy(1),energy(2),energy(3),energy(4),energy(5),e)\n",
"disp('solution for (e)');\n",
"ec=cl*24;\n",
"printf('\nif all devices are used throughout the day the energy consumed in Wh is %dWh \n\t\t%.2fkWh',ec,ec/1000)     \n",
"//for 24 hours of max. load"
   ]
   }
,
{
		   "cell_type": "markdown",
		   "metadata": {},
		   "source": [
			"## Example 2.2: diversity_factor_conserning_different_loads.sce"
		   ]
		  },
  {
"cell_type": "code",
	   "execution_count": null,
	   "metadata": {
	    "collapsed": true
	   },
	   "outputs": [],
"source": [
"clc\n",
"disp('example 2.2')\n",
"disp('(a)');\n",
"mca=1.1;cla=2.5;mcb=1;clb=3;      //mca=maximum demand of consumera;cla=connected load of a;mcb=maximum load of consumer b;clb=connected load of consumer b\n",
"printf('maximum demand of consumer A =%1fkW \n \ndemand factor of consumer A =%2f \n \nmaximum demand of consumer B =%dkW\n \ndemand factor of consumer B = %2f',mca,mca/cla,mcb,mcb/clb)\n",
"disp('(b)')\n",
"printf('The variation in demand versus time curves are plotted and shown in Fig This is known as chonological load curve.')\n",
"A=[100*ones(1,5),1100*ones(1,1),200*ones(1,2),0*ones(1,9),500*ones(1,7)]\n",
"B=[0*ones(1,7),300*ones(1,1),1000*ones(1,2),200*ones(1,8),600*ones(1,5),0*ones(1,1)]; //time line of different periods by a and b consumers\n",
"t=1:1:24        ;//for 24 hours ploting\n",
"ma=max(A);mb=max(B);\n",
"subplot(121);       //matrix plotting\n",
"plot2d2(t,A,1);\n",
"plot2d2(t,B,2);\n",
"xtitle('load curves of A and B/ fig 1','time','load watts')\n",
"C=A+B;\n",
"subplot(122);\n",
"plot2d2(t,C,1); \n",
"xtitle('chronological load of group / fig 2','time','load watts')\n",
"mg=max(C); //maximum demand of group\n",
"disp('(c)')\n",
"printf('maximum demand of the group is %dW',mg);\n",
"gd=(ma+mb)/mg;\n",
"printf('group diversity factor = %3f',gd) ; //group diversity factor is sum of individual maximum consumaer load to the group max load \n",
"disp('(d)')\n",
"sa=sum(A)\n",
"printf('energy consumed by A during 24 hours is =%dWh',sa)\n",
"printf('\nit is seen that energy consumed by A is equal to the area under the chronological load curve of A \n energy consumed by B during 24 hours is')\n",
"sb=sum(B);\n",
"printf('300x1+100x2+200x8+600x5=%dWh',sb);\n",
"disp('(e)');\n",
"printf('maximum energy which A could consume in 24hours = %.2fkWh \nmaximum energy which B consume in 24 hours is =%.2fkWh',mca*24,mcb*24 );\n",
"disp('(f)');\n",
"printf('actual energy/maximum energy');\n",
"mca=mca*10^3;mcb=mcb*10^3\n",
"aemea=sa/(mca*24)\n",
"aemeb=sb/(mcb*24)\n",
"printf('\nfor A = %d/%d =%f \nfor b =%d/%d =%f',sa,mca*24,sa/(mca*24),sb,mcb*24,aemeb);"
   ]
   }
,
{
		   "cell_type": "markdown",
		   "metadata": {},
		   "source": [
			"## Example 2.3: load_demand_power_from_load.sce"
		   ]
		  },
  {
"cell_type": "code",
	   "execution_count": null,
	   "metadata": {
	    "collapsed": true
	   },
	   "outputs": [],
"source": [
"clc\n",
"disp('example 2.3')\n",
"printf('\n')\n",
"cola=5;na=600;ns=20;\n",
"cls=2;clfm=10;clsm=5;cll=20;clci=80;\n",
"dffl=0.7;dfsm=0.8;dfl=0.65;dfci=0.5;\n",
"nsl=200;clsl=0.04;dfa=0.5;gdfa=3.0;\n",
"pdfa=1.25;gdfc=2;pdfc=1.6;dfs=0.8; //given col||cl=connected load,n=number,df=demand factor,gdf=group diversity factor,pdf=peak diversity factor,a=appartement,c=commertials,s=shop,sl=streetlight,fm=flourmill,sm=saw mill,l=laundry,ci=cinema complex.\n",
"mdea=cola*dfa\n",
"printf('maximum demand of each appartment =%.2fkWh \n',mdea)\n",
"mda=(na*mdea)/gdfa\n",
"printf('maximum demand of 600 apatments =%.2fkW \n',mda);\n",
"datsp=mda/pdfa\n",
"printf('demand of 600 apartments at time of the system peak =%dkW \n',datsp); \n",
"mdtcc=((cls*ns*dfs)+(clfm*dffl)+(clsm*dfsm)+(cll*dfl)+(clci*dfci))/gdfc\n",
"printf('maximum demand of total commertial complex=%dkW \n',mdtcc)\n",
"dcsp=mdtcc/pdfc\n",
"printf('demand of the commertial load at the time of the peak = %dkW\n',dcsp);\n",
"dsltsp=nsl*clsl\n",
"printf('demand of the street lighting at the time of the system peak =%dkW',dsltsp);\n",
"ispd=datsp+dcsp+dsltsp\n",
"printf('\nincrease in system peak deamand =%dkW ',ispd)\n",
""
   ]
   }
,
{
		   "cell_type": "markdown",
		   "metadata": {},
		   "source": [
			"## Example 2.4: load_deviation_curve_and_load_factor.sce"
		   ]
		  },
  {
"cell_type": "code",
	   "execution_count": null,
	   "metadata": {
	    "collapsed": true
	   },
	   "outputs": [],
"source": [
"clc\n",
"disp('example 2.4')\n",
"printf('\n')\n",
"printf('the chronological load curve is plotted in fig 1 the durition of loads is as under :')\n",
"lc=[20*ones(1,5),40*ones(1,4),80*ones(1,9),100*ones(1,4),20*ones(1,2)]\n",
"ldc=gsort(lc);\n",
"[mm,nn]=size(ldc)\n",
"printf('\n')\n",
"for i=1:nn\n",
"printf('\t%dW',ldc(i));//arranging accending order\n",
"end\n",
"e=sum(ldc)\n",
"printf('\nthe load duration curve is ploted in 2 the energy produced by plant in 24 hours \n =100x4+80x(13-4)+40(17-13)+20(24-17)=%dMWh \n',e);\n",
"lff=e/(24*max(ldc));\n",
"printf('load factor =1420/2400=%f=%f in persent',lff,lff*100)\n",
"t=1:1:24\n",
"subplot(121);\n",
"plot2d2(t,lc);\n",
"xtitle('chronological curve','time','load MW');\n",
"subplot(122);\n",
"plot2d2(t,ldc);\n",
"xtitle('load duration curve','time','load MW');"
   ]
   }
,
{
		   "cell_type": "markdown",
		   "metadata": {},
		   "source": [
			"## Example 2.5: capacity_factor_and_utilisation_factor.sce"
		   ]
		  },
  {
"cell_type": "code",
	   "execution_count": null,
	   "metadata": {
	    "collapsed": true
	   },
	   "outputs": [],
"source": [
"clc\n",
"disp('example 2.5')\n",
"lf=0.5917;ml=100;ic=125; //lf=load factor,ic=installed capacity,ml=maximum load,cf=capacity factor,uf=utillization factor\n",
"cf=(ml*lf)/ic;uf=ml/lf\n",
"printf('capacity factor =%f',cf)\n",
"printf('\nutilisation factor =%f',uf)"
   ]
   }
,
{
		   "cell_type": "markdown",
		   "metadata": {},
		   "source": [
			"## Example 2.6: mass_curve_of_24_example.sce"
		   ]
		  },
  {
"cell_type": "code",
	   "execution_count": null,
	   "metadata": {
	    "collapsed": true
	   },
	   "outputs": [],
"source": [
"clc\n",
"disp('Example 2.6')\n",
"time=[5 9 18 22 24]\n",
"loadt=[20 40 80 100 20]                      //given time and load\n",
"k=size(time)\n",
"k=k(1,2)\n",
"timed(1,1)=time(1,1)\n",
"for x=2:k                                      //finding time duration of each load\n",
"    timed(1,x)=time(1,x)-time(1,x-1)\n",
"end\n",
"[m n]=gsort(loadt)                //sorting decresing order\n",
"for x=1:k                                 //sorting the load and timeduration correspondingly\n",
"    timed1(1,x)=timed(1,n(x))\n",
"end\n",
"tim(1,1)=timed1(1,1)\n",
"for x=2:k\n",
"    tim(1,x)=timed1(1,x)+tim(1,x-1)\n",
"end\n",
"lo(1,1)=24*min(m)\n",
"m(k+1)=[]\n",
"printf('the energy at different load levels is as under :')\n",
"printf('\nload=%dMW,energy=%dMWh',m(k),lo(1,1))\n",
"y=2\n",
"for x=k-2:-1:1\n",
"   lo(1,y)=lo(1,y-1)+(tim(1,x))*(m(x)-m(x+1)) \n",
"   t=m(x);l=lo(1,y)\n",
"    printf('\nload=%dMW,energy=%dMWh',t,l)\n",
"    y=y+1\n",
"end\n",
"for x=1:k\n",
"    for y=x+1:k\n",
"        if m(1,x)==m(1,y) then\n",
"            m(1,y)=[]\n",
"        end\n",
"    end\n",
"end\n",
"pop=gsort(m,'g','i')\n",
"subplot(121)\n",
"plot(lo,pop)\n",
"xtitle('energy load curve','energy','load')\n",
"//time=[5 9 18 22 24]\n",
"//loadt=[20 40 80 100 20]\n",
"printf('\nthe energy load curve is plotted in fig 1 \nthe energy supplied up to different times of the day is as under :')\n",
"et(1,1)=time(1,1)*loadt(1,1)\n",
"for x=2:k\n",
"    printf('\nenergy supplied upto %d is %dMWh',time(1,x-1),et(1,x-1))\n",
"    et(1,x)=et(1,x-1)+loadt(1,x)*(time(1,x)-time(1,x-1))\n",
"    \n",
"end\n",
"subplot(122)\n",
"plot(time,et)\n",
"xtitle('masscurve','time in hours','load in MW')"
   ]
   }
,
{
		   "cell_type": "markdown",
		   "metadata": {},
		   "source": [
			"## Example 2.7: annual_production_of_plant_with_factors.sce"
		   ]
		  },
  {
"cell_type": "code",
	   "execution_count": null,
	   "metadata": {
	    "collapsed": true
	   },
	   "outputs": [],
"source": [
"clc\n",
"disp('example 2.7')\n",
"md=40;cf=0.5;uf=0.8;//maximum demand in MW;capacity factor;utility factor\n",
"disp('(a)')\n",
"lf=cf/uf;  //load factor is ratio of capacity factor to the utility  factor\n",
"printf('load factor = capacity factor/utilisation factor =%f',lf)\n",
"disp('(b)')\n",
"pc=md/uf;  //plant capacity is ratio of maximum demand to utility factor\n",
"printf('plant capacity = maximum demand/utilisation factor =%dMW',pc)\n",
"disp('(c)')\n",
"rc=pc-md;  //reserve capacity is plant capacity minus maximum demand \n",
"printf('reserve capacity =%dMW',rc)\n",
"disp('d')\n",
"printf('annual energy production =%dMWh',md*lf*8760)\n",
""
   ]
   }
,
{
		   "cell_type": "markdown",
		   "metadata": {},
		   "source": [
			"## Example 2.8: daily_load_factor.sce"
		   ]
		  },
  {
"cell_type": "code",
	   "execution_count": null,
	   "metadata": {
	    "collapsed": true
	   },
	   "outputs": [],
"source": [
"clc\n",
"disp('example 2.8')\n",
"disp('the chronological load curve is plotted in fig 1')\n",
"a=[0 5 9 18 20 22 24] //time in matrix format\n",
"b=[50 50 100 100 150 80 50]//load in matrix format\n",
"for x=1:6\n",
"   z(1,x)=((b(1,x)+b(1,x+1))/2)*(a(1,(x+1))-a(1,x))\n",
"end\n",
"e=sum(z);\n",
"printf('energy required required by the system in 24 hrs \n =50x5MWh+((100+50)/2)x4MWh +(100x9)MWh+(100+150)MWh+(150+80)MWh+(80+50)MWh \n =%dMWh',sum(z))\n",
"dlf=e/(max(b)*24)\n",
"printf('\ndaily load factor =2060/(150x24) =%f',dlf)\n",
"plot(a,b)\n",
"xtitle('load curve','time','MW')"
   ]
   }
,
{
		   "cell_type": "markdown",
		   "metadata": {},
		   "source": [
			"## Example 2.9: load_duration_curve_and_mass_curve.sce"
		   ]
		  },
  {
"cell_type": "code",
	   "execution_count": null,
	   "metadata": {
	    "collapsed": true
	   },
	   "outputs": [],
"source": [
"clc\n",
"clear\n",
"disp('example 2.9')\n",
"disp('load duration curve in fig1')\n",
"disp('the energy consumed upto different times is as ')\n",
"a=[0 5 9 18 20 22 24]  //time in matrix format\n",
"b=[50 50 100 100 150 80 50] //load in matrix format\n",
"for x=1:6\n",
"   z(1,x)=((b(1,x)+b(1,x+1))/2)*(a(1,(x+1))-a(1,x))\n",
"end\n",
"et=0\n",
"for x=1:6\n",
"    et=et+z(1,x);\n",
"    A=a(1,(x+1))\n",
"    ett(1,x)=et;\n",
"    q(1,x)=a(1,x+1)\n",
"    printf('\nfrom mid night upto %d,energy=%dMWh',A,et)\n",
"end\n",
"q(1,x+1)=[]\n",
"[m n]=gsort(b)\n",
"m(1,7)=[];m(1,6)=[]; //rearranging for mass  curve\n",
"disp('energy curve in fig 2')\n",
"t=[0 3.88 15.88 19.88 23]\n",
"for j=1:6\n",
"    k(1,j)=a(1,(j+1))\n",
"end\n",
"subplot(121);\n",
"plot(t,m);\n",
"xtitle('load duration','hours','MW')\n",
"subplot(122);\n",
"plot(q,ett,-9);\n",
"xtitle('energy curve','time','MWh')"
   ]
   }
],
"metadata": {
		  "kernelspec": {
		   "display_name": "Scilab",
		   "language": "scilab",
		   "name": "scilab"
		  },
		  "language_info": {
		   "file_extension": ".sce",
		   "help_links": [
			{
			 "text": "MetaKernel Magics",
			 "url": "https://github.com/calysto/metakernel/blob/master/metakernel/magics/README.md"
			}
		   ],
		   "mimetype": "text/x-octave",
		   "name": "scilab",
		   "version": "0.7.1"
		  }
		 },
		 "nbformat": 4,
		 "nbformat_minor": 0
}
