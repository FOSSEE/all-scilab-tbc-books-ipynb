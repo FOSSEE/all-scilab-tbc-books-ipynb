{
"cells": [
 {
		   "cell_type": "markdown",
	   "metadata": {},
	   "source": [
       "# Chapter 11: HYDRO THERMAL CO ORDINATION"
	   ]
	},
{
		   "cell_type": "markdown",
		   "metadata": {},
		   "source": [
			"## Example 11.1: SCHEDULING_OF_POWER_PLANT.sce"
		   ]
		  },
  {
"cell_type": "code",
	   "execution_count": null,
	   "metadata": {
	    "collapsed": true
	   },
	   "outputs": [],
"source": [
"clc\n",
"clear\n",
"disp('example 11 1')\n",
"wd=[0 5 8 12 13 17 21 24] //given week days\n",
"wlld=[100 150 250 100 250 350 150] //given load in week days\n",
"wld=[wlld 0]\n",
"we=[0 5 17 21 24]//given week ends\n",
"wed=[100 150 200 150]//given load in week ends\n",
"wed=[wed 0]\n",
"h=90//head\n",
"f=50 //flow\n",
"et=0.97//is available for 97 persent\n",
"eff=0.9 //efficiency\n",
"tl=0.05 //transmission loss\n",
"pa=735.5*f*h*eff/75 //power available\n",
"nap=pa*(1-tl) //net available power\n",
"he=nap*24/1000 //hydro energy for 24 in MW\n",
"he1=round(he/100)*100\n",
"[m,n]=size(wd)\n",
"[x,y]=min(wlld)\n",
"[q,r]=max(wlld)\n",
"for i=1:n-1\n",
"    fl(i)=wd(i+1)-wd(i)\n",
"end\n",
"[o,p]=size(we)\n",
"for i=1:p-1\n",
"    fll(i)=we(i+1)-we(i)\n",
"end\n",
"for j=x:10:q\n",
"    pp=wlld-j\n",
"    for l=1:n-1\n",
"    if pp(l)<0 then\n",
"        pp(l)=0\n",
"    end\n",
"    end\n",
"    heq=pp*fl\n",
"    heq=round(heq/100)*100\n",
"    if heq==he1 then\n",
"        break\n",
"    end\n",
"end//rearrangeing for plot\n",
"subplot(211) \n",
"plot2d2(wd,wld)\n",
"xtitle('chronological load curve for week day for example 11.1','hour of day','load MW')\n",
"subplot(212)\n",
"plot2d2(we,wed)\n",
"xtitle('chronological load curve for weekend day for example 11.1','hour of day','load MW')\n",
"\n",
"printf('power available from the hydro plant for %dMW of the time is %.2fMW',et*100,pa/1000)\n",
"printf('\nnet available hydra power after taking transmission loss into account %.2fMW',nap/100)\n",
"printf('\nhydro energy available during 24 hours %.2fMW',he)\n",
"printf('\nthe magnitude of hydro power is %dMW \ntotal capacity of hydro plant required on week days %dMW ',q-j,(q-j)/(1-tl))\n",
"printf('capacity of thermal plant on week days %dMW',q)\n",
"printf('\nthe schedule for hydro plant is on week days')\n",
"for i=1:n\n",
"    if wd(i)>12 then\n",
"        wd(i)=wd(i)-12\n",
"    end\n",
"end\n",
"disp(wd)\n",
"disp(round(pp/(1-tl)))\n",
"disp('the schedule for thermal plant is on week days')\n",
"disp(wd)\n",
"disp(wlld-pp)\n",
"[m,n]=size(we)\n",
"[x,y]=min(wed)\n",
"[q,r]=max(wed)\n",
"for j=x:10:q\n",
"    pp=wed-j\n",
"    for l=1:n-1\n",
"    if pp(l)<0 then\n",
"        pp(l)=0\n",
"    end\n",
"end\n",
"pp(n)=[]\n",
"    heq=pp*fll\n",
"    heq=floor(heq/100)*100\n",
"    if heq==he1 then\n",
"        break\n",
"    end\n",
"end\n",
"printf('\nthe magnitude of hydro power is %dMW \ntotal capacity of hydro plant required on week ends %dMW ',q-j,(q-j)/(1-tl))\n",
"printf('capacity of thermal plant on week ends %dMW',q)\n",
"printf('\nthe schedule for hydro plant is on week ends')\n",
"for i=1:n\n",
"    if we(i)>12 then\n",
"        we(i)=we(i)-12\n",
"    end\n",
"end\n",
"disp(we)\n",
"disp(round(pp/(1-tl)))\n",
"disp('the schedule for thermal plant is on week days')\n",
"disp(we)\n",
"pp(n)=0\n",
"disp(wed-pp)"
   ]
   }
,
{
		   "cell_type": "markdown",
		   "metadata": {},
		   "source": [
			"## Example 11.2: generation_schedule_and_daily_water_usage_of_power_plant.sce"
		   ]
		  },
  {
"cell_type": "code",
	   "execution_count": null,
	   "metadata": {
	    "collapsed": true
	   },
	   "outputs": [],
"source": [
"clc\n",
"clear\n",
"disp('example 11.2')\n",
"//given\n",
"l1=700;t1=14;l2=500;t2=10\n",
"ac=24;bc=0.02//variables of cost equation\n",
"aw=6;bw=0.0025 //variables of watere quantity equation\n",
"b22=0.0005 //loss coefficient\n",
"r2=2.5\n",
"lam=1:0.001:40\n",
"gg=1;q=1\n",
"for lam=25:0.001:40\n",
"    a=[2*bc 0;0 r2*bw*2+2*b22*lam]\n",
"    b=[lam-ac;lam-aw*r2]\n",
"    p=inv(a)*b\n",
"    g=round(p(1)+p(2))\n",
"    l=round(l1+b22*p(2)^2)\n",
"    lq=round(l2+b22*p(2)^2)\n",
"    if g>=l then\n",
"        printf('\nfor load condition %dMW \n then, \n \t lamda %f \t p1=%fMW \n \t p2=%fMW \t pl=%fMW',l1,lam,p(1),p(2),2*b22*p(2))\n",
"        break\n",
"    end\n",
"end\n",
"for lam=25:0.001:40\n",
"    a=[2*bc 0;0 r2*bw*2+2*b22*lam]\n",
"    b=[lam-ac;lam-aw*r2]\n",
"    pq=inv(a)*b\n",
"    g=round(pq(1)+pq(2))\n",
"    lq=round(l2+b22*pq(2)^2)\n",
"\n",
"    if g>=lq then\n",
"        printf('\nfor load condition %dMW \n then, \n \t lamda %f \t p1=%fMW \n \t p2=%fMW \t pl=%fMW',l2,lam,pq(1),pq(2),2*b22*pq(2))\n",
"        break\n",
"    end\n",
"end\n",
"dwu=[(aw+bw*p(2))*p(2)*t1+t2*(aw+bw*pq(2))*pq(2)]*3600\n",
"doc=[(ac+bc*p(1))*p(1)*t1+(ac+bc*pq(1))*pq(1)*t2]\n",
"printf('\ndaily water used %fm^3 \ndaily operating cost of thermal plant Rs%f',dwu,doc)"
   ]
   }
,
{
		   "cell_type": "markdown",
		   "metadata": {},
		   "source": [
			"## Example 11.3: water_usage_and_cost_of_water_by_hydro_power_plant.sce"
		   ]
		  },
  {
"cell_type": "code",
	   "execution_count": null,
	   "metadata": {
	    "collapsed": true
	   },
	   "outputs": [],
"source": [
"clc\n",
"clear\n",
"disp('example 11.3')\n",
"//given \n",
"p=250//load\n",
"rt=14 //run time\n",
"t=24//total time\n",
"ac=5;bc=8;cc=0.05 //variables of cost equation\n",
"bw=30;cw=0.05 //variables of water per power\n",
"qw=500//quantity of water\n",
"lam=bc+cc*2*p //lambda\n",
"a=-qw*(10^6)/(3600*rt)\n",
"inn=sqrt(bw^2-4*cw*a)\n",
"phh1=(-bw+inn)/(2*cw)//solution of quadratic equation\n",
"phh2=(-bw-inn)/(2*cw)\n",
"if phh1>0 then\n",
"     r=lam/(bw+cw*phh1) \n",
"    printf(' hydro plant power is %fMW \n the cost of water is %fRs.per hour/m^3/sec',phh1,r) \n",
"end\n",
"if phh2>0 then\n",
"     r=lam/(bw+cw*phh2) \n",
"    printf(' hydro plant power is %fMW \n the cost of water is %fRs.per hour/m^3/sec',phh2,r) \n",
"end"
   ]
   }
],
"metadata": {
		  "kernelspec": {
		   "display_name": "Scilab",
		   "language": "scilab",
		   "name": "scilab"
		  },
		  "language_info": {
		   "file_extension": ".sce",
		   "help_links": [
			{
			 "text": "MetaKernel Magics",
			 "url": "https://github.com/calysto/metakernel/blob/master/metakernel/magics/README.md"
			}
		   ],
		   "mimetype": "text/x-octave",
		   "name": "scilab",
		   "version": "0.7.1"
		  }
		 },
		 "nbformat": 4,
		 "nbformat_minor": 0
}
