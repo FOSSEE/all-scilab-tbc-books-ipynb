{
"cells": [
 {
		   "cell_type": "markdown",
	   "metadata": {},
	   "source": [
       "# Chapter 12: parallel operation of alternators"
	   ]
	},
{
		   "cell_type": "markdown",
		   "metadata": {},
		   "source": [
			"## Example 12.1: load_sharing_between_alternators.sce"
		   ]
		  },
  {
"cell_type": "code",
	   "execution_count": null,
	   "metadata": {
	    "collapsed": true
	   },
	   "outputs": [],
"source": [
"clc\n",
"clear\n",
"disp('example 12 1')\n",
"p=4000  //given kva of alternator\n",
"fnl1=50  //frequency on no load\n",
"fl1=47.5 //frequency on load\n",
"fnl2=50 //frequency on no load on second alternator\n",
"fl2=48  //frequency on load on second alternator\n",
"l=6000 //load given two to alternator\n",
"df1=fnl1-fl1  //change in 1 alternator frequency\n",
"df2=fnl2-fl2  //change in 2 alternator frequency\n",
"l1=df2*(l)/(df2+df1)  //load on 1 alternator\n",
"disp('a')\n",
"l2=l-l1\n",
"printf(' load on 1 alternator %.2fkW \n load on 2 alternator %.2fkW',l1,l2)\n",
"ml1=df2*p/df1   //load on 1 machine when machine 2 on full load\n",
"ll=ml1+p  \n",
"disp('b')\n",
"printf(' load supplied by machine 1 with full load on machine2 %dkW \n total load is %dkW',ml1,l1) "
   ]
   }
,
{
		   "cell_type": "markdown",
		   "metadata": {},
		   "source": [
			"## Example 12.2: different_parameters_between_parallel_operation_of_generator.sce"
		   ]
		  },
  {
"cell_type": "code",
	   "execution_count": null,
	   "metadata": {
	    "collapsed": true
	   },
	   "outputs": [],
"source": [
"clc\n",
"clear\n",
"disp('example12_2')\n",
"l1=3000 //load on 1 machine\n",
"pf1=0.8  //pf on 1 machine\n",
"i2=150  //current on  2 machine\n",
"z1=0.4+12*%i  //synchronour impedence\n",
"z2=0.5+10*%i\n",
"vt=6.6  //terminal voltage\n",
"al=l1/2  //active load on each machine\n",
"cosdb=al/(vt*i2*sqrt(3)) //cos db\n",
"db=acosd(cosdb)  //angle in digree\n",
"ib=i2*complex(cosdb,-sind(db))  //current in complex number\n",
"it=l1/(vt*pf1*sqrt(3))  //total current\n",
"itc=complex(it*pf1,-it*sind(acosd(pf1)))  //total current in complex\n",
"ia=itc-ib  \n",
"pfa=atan(imag(ia)/real(ia))  //pf of current a\n",
"ea=(vt/sqrt(3))+ia*(z1)/1000  //voltage a\n",
"pha=atand(imag(ea)/real(ea))  //phase angle of unit a\n",
"printf('induced emf of a machine a %.2f+%.2fi =%fkV per phase',real(ea),imag(ea),abs(ea))\n",
"eb=(vt/sqrt(3))+ib*(z2)/1000  //voltage b\n",
"phb=atand(imag(eb)/real(eb))  //phase angle of unit b\n",
"printf('\ninduced emf of a machine b %.2f+%.2fi =%fkV per phase',real(eb),imag(eb),abs(eb))"
   ]
   }
,
{
		   "cell_type": "markdown",
		   "metadata": {},
		   "source": [
			"## Example 12.3: circulating_current_between_parallel_generators.sce"
		   ]
		  },
  {
"cell_type": "code",
	   "execution_count": null,
	   "metadata": {
	    "collapsed": true
	   },
	   "outputs": [],
"source": [
"clc\n",
"clear\n",
"disp('example12_3')\n",
"e1=3000;ph1=20;e2=2900;ph2=0;//given induced emf of two machines\n",
"z1=2+20*%i;z2=2.5+30*%i //impedence of two synchronous machine\n",
"zl=10+4*%i //load impedence\n",
"e11=e1*(cosd(ph1)+sind(ph1)*%i)\n",
"e22=e2*(cosd(ph2)+sind(ph2)*%i)\n",
"is=(e11-e22)*zl/(z1*z2+(z1+z2)*zl)\n",
"printf('current is %.2f%.2fiA =%.2fA',real(is),imag(is),abs(is))"
   ]
   }
,
{
		   "cell_type": "markdown",
		   "metadata": {},
		   "source": [
			"## Example 12.4: different_parameters_between_parallel_operation_of_generator.sce"
		   ]
		  },
  {
"cell_type": "code",
	   "execution_count": null,
	   "metadata": {
	    "collapsed": true
	   },
	   "outputs": [],
"source": [
"clc\n",
"clear\n",
"disp('example 12 4')\n",
"z=10+5*%i  //load\n",
"e1=250;e2=250 //emf of generator\n",
"z1=2*%i;z2=2*%i //synchronous impedence\n",
"v=(e1*z2+z1*e2)/((z1*z2/z)+z1+z2);vph=atand(imag(v)/real(v)) //substitution the value in equation 12.10\n",
"i1=(z2*e1+(e1-e2)*z)/(z1*z2+(z1+z2)*z);iph=atand(imag(i1)/real(i1)) //substitution the value in equation 12.7\n",
"pf1=cosd(vph-iph)\n",
"pd=v*i1*pf1\n",
"printf('terminal voltage %.2fV \ncurrent supplied by each %.2fA \npower factor of each %.3f lagging \npower delivered by each %.4fKW',abs(v),abs(i1),abs(pf1),abs(pd))"
   ]
   }
,
{
		   "cell_type": "markdown",
		   "metadata": {},
		   "source": [
			"## Example 12.5: synchronising_power_per_mechanical_degree_of_angular_displacement.sce"
		   ]
		  },
  {
"cell_type": "code",
	   "execution_count": null,
	   "metadata": {
	    "collapsed": true
	   },
	   "outputs": [],
"source": [
"clc\n",
"clear\n",
"disp('example 12 5')\n",
"po=5 //mva rating\n",
"v=10 //voltage in kv\n",
"n=1500;ns=n/60 //speed\n",
"f=50 //freaquency\n",
"pfb=0.8//power factor in b\n",
"x=0.2*%i //reactance of machine\n",
"md=0.5 //machanical displacement\n",
"//no load\n",
"v=1;e=1;\n",
"p=4\n",
"spu=v*e/abs(x);sp=spu*po*1000;mt=(%pi*p)/(180*2)\n",
"spm=sp*mt //synchronous power in per mech.deree\n",
"st=spm*md*1000/(2*ns*%pi)\n",
"disp('(a)')\n",
"printf(' synchronous power %dkW \n synchronous torque for %.1f displacement %dN-M',spm,md,st)\n",
"disp('(b) full load')\n",
"ee=e+x*(pfb-sind(acosd(pfb))*%i)\n",
"spb=v*abs(ee)*cosd(atand(imag(ee)/real(ee)))/abs(x)  //synchronous power \n",
"sppm=spb*po*1000*mt //synchronous power per mech.degree\n",
"stp=sppm*md*1000/(2*%pi*ns)//synchrounous torque under load\n",
"printf(' synchronous power %dkW \n synchronous torque for %.1f displacement %dN-M',sppm,md,stp)"
   ]
   }
,
{
		   "cell_type": "markdown",
		   "metadata": {},
		   "source": [
			"## Example 12.6: synchronising_power_per_mechanical_degree_of_angular_displacement.sce"
		   ]
		  },
  {
"cell_type": "code",
	   "execution_count": null,
	   "metadata": {
	    "collapsed": true
	   },
	   "outputs": [],
"source": [
"clc\n",
"clear\n",
"disp('example 12 6')\n",
"po=2*10^6;p=8;n=750;v=6000;x=6*%i;pf=0.8;//given \n",
"i=po/(v*sqrt(3))\n",
"e=(v/sqrt(3))+i*x*(pf-sind(acosd(pf))*%i)\n",
"mt=p*%pi/(2*180)\n",
"cs=cosd(atand(imag(e)/real(e)))\n",
"ps=abs(e)*v*sqrt(3)*cs*mt/(1000*abs(x))\n",
"ns=n/60\n",
"ts=ps*1000/(2*%pi*ns)\n",
"printf(' synchronous power %.1fkW per mech.degree \n synchrounous torque %dN-m',ps,ts)"
   ]
   }
,
{
		   "cell_type": "markdown",
		   "metadata": {},
		   "source": [
			"## Example 12.7: load_parameters_between_alternators.sce"
		   ]
		  },
  {
"cell_type": "code",
	   "execution_count": null,
	   "metadata": {
	    "collapsed": true
	   },
	   "outputs": [],
"source": [
"clc\n",
"clear\n",
"disp('example 12 7')\n",
"i=100;pf=-0.8;v=11*1000;x=4*%i;ds=10;pfc=-0.8 //given,currents,power factor,voltage,reactance,delta w.r.t steem supply,pf of alternator\n",
"e=(v/sqrt(3))+(i*x*(pf-sind(acosd(pf))*%i))\n",
"disp('a')\n",
"ph=atand(imag(e)/real(e))\n",
"printf(' open circuit emf %dvolts per phase and %.2f degree',abs(e),ph)\n",
"d=ds-ph\n",
"eee=round(abs(e)/100)*100\n",
"ic=round(abs(eee)*sind(d)/abs(x))\n",
"iis=(eee^2-(abs(x)*ic)^2)^(0.5)\n",
"is=(iis-v/sqrt(3))/abs(x)\n",
"tad=is/ic\n",
"d=atand(tad)\n",
"ii=ic/cosd(d)\n",
"pff=cosd(d)\n",
"disp('b.')\n",
"printf(' current %.1fA \n power factor %.3f',ii,pff)\n",
"disp('c.')\n",
"ia=ii*pff/abs(pfc)\n",
"printf('current %.2fA',ia)"
   ]
   }
],
"metadata": {
		  "kernelspec": {
		   "display_name": "Scilab",
		   "language": "scilab",
		   "name": "scilab"
		  },
		  "language_info": {
		   "file_extension": ".sce",
		   "help_links": [
			{
			 "text": "MetaKernel Magics",
			 "url": "https://github.com/calysto/metakernel/blob/master/metakernel/magics/README.md"
			}
		   ],
		   "mimetype": "text/x-octave",
		   "name": "scilab",
		   "version": "0.7.1"
		  }
		 },
		 "nbformat": 4,
		 "nbformat_minor": 0
}
