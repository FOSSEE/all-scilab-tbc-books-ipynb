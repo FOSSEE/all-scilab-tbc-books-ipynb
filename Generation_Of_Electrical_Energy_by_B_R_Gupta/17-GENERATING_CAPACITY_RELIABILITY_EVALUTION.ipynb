{
"cells": [
 {
		   "cell_type": "markdown",
	   "metadata": {},
	   "source": [
       "# Chapter 17: GENERATING CAPACITY RELIABILITY EVALUTION"
	   ]
	},
{
		   "cell_type": "markdown",
		   "metadata": {},
		   "source": [
			"## Example 17.1: CAPACITY_OUTAGE_PROBABILITY_TABLE.sce"
		   ]
		  },
  {
"cell_type": "code",
	   "execution_count": null,
	   "metadata": {
	    "collapsed": true
	   },
	   "outputs": [],
"source": [
"clc\n",
"clear\n",
"disp('example 17.1')\n",
"//given\n",
"n=2 //number of generating station\n",
"f=0.03 //F.O.R\n",
"a=1-f\n",
"p=40 //generation station power \n",
"function [y]=comb(m,r)\n",
"y=factorial(m)/(factorial(m-r)*factorial(r))\n",
"endfunction\n",
"for i=0:n\n",
"    pg(i+1)=comb(n,i)*((f)^i)*((a)^(n-i))\n",
"    printf('\nnumber of units out %d ,capacity out  %dMW ,capacity available %dMW ,probability %4f ',i,p*i,p*(n-i),pg(i+1))\n",
"end"
   ]
   }
,
{
		   "cell_type": "markdown",
		   "metadata": {},
		   "source": [
			"## Example 17.2: CAPACITY_OUTAGE_PROBABILITY_TABLE_AND_CUMMULATIVE_PROBABILITY.sce"
		   ]
		  },
  {
"cell_type": "code",
	   "execution_count": null,
	   "metadata": {
	    "collapsed": true
	   },
	   "outputs": [],
"source": [
"clc\n",
"clear\n",
"disp('example 17 2')\n",
"//given\n",
"n1=2 //number of generating station\n",
"f1=0.03 //F.O.R\n",
"a1=1-f1\n",
"p1=40 //genetaion station power\n",
"n2=1  //number of genreting station \n",
"f2=0.03 //F.O.R for second set\n",
"a2=1-f2\n",
"p2=30 //generating station power in second set \n",
"function [y]=comb(m,r)\n",
"y=factorial(m)/(factorial(m-r)*factorial(r))\n",
"endfunction\n",
"for i=0:n2\n",
"    pg2(i+1)=comb(n2,i)*((f2)^i)*((a2)^(n2-i))\n",
"   co2(i+1)=p2*i;ca2(i+1)=p2*(n2-i)\n",
"    printf('\nnumber of units out %d ,capacity out  %dMW ,capacity available  %dMW ,probability %4f ',i,co2(i+1),ca2(i+1),pg2(i+1))\n",
"end\n",
"printf('\nfor exp 17 1 ')\n",
"for i=0:n1\n",
"    pg1(i+1)=comb(n1,i)*((f1)^i)*((a1)^(n1-i))\n",
"    co1(i+1)=p1*i;ca1(i+1)=p1*(n1-i)\n",
"    printf('\nnumber of units out %d ,capacity out  %dMW ,capacity available %dMW ,probability %4f ',i,co1(i+1),ca1(i+1),pg1(i+1))\n",
"end\n",
"printf('\ncombination of 2 set of stations')\n",
"tp=1\n",
"pocg=0\n",
"for i=0:n1\n",
"    for j=0:n2\n",
"        og=co1(i+1)+co2(j+1) //now total system capacity out\n",
"        cg=ca1(i+1)+ca2(j+1)  //now total system capacity available\n",
"        tp=tp-pocg\n",
"        pocg=pg1(i+1)*pg2(j+1) //individual stste probability\n",
"        printf('\ncapacity out %dMW ,capacity available %dMW ,individual state probability %.6f ,cumulative probability %.6f',og,cg,pocg,tp)\n",
"    end\n",
"end"
   ]
   }
,
{
		   "cell_type": "markdown",
		   "metadata": {},
		   "source": [
			"## Example 17.3: CAPACITY_OUTAGE_PROBABILITY_TABLE_AND_CUMMULATIVE_PROBABILITY.sce"
		   ]
		  },
  {
"cell_type": "code",
	   "execution_count": null,
	   "metadata": {
	    "collapsed": true
	   },
	   "outputs": [],
"source": [
"clc\n",
"clear\n",
"disp('example 17 3')\n",
"//given\n",
"n=4 //number of generating station\n",
"f=0.05 //F.O.R\n",
"a=1-f\n",
"p=50 //generation station power \n",
"mp=150 //maximum alowable  power\n",
"lf=50 //load factor in persentage\n",
"function [y]=comb(m,r)\n",
"y=factorial(m)/(factorial(m-r)*factorial(r))\n",
"endfunction\n",
"for i=0:n\n",
"    pg(i+1)=comb(n,i)*((f)^i)*((a)^(n-i))\n",
"    co(i+1)=p*i;ca(i+1)=p*(n-i)\n",
"    printf('\nnumber of units out %d ,capacity out %dMW ,capacity available %dMW ,probability %4f ',i,co(i+1),ca(i+1),pg(i+1))\n",
"end\n",
"ld=mp:-lf:0\n",
"[m n]=size(ld)\n",
"plot(ld)\n",
"tg(n-1)=round(10000/(n-1))/100\n",
"tg(n)=tg(n-1)*2\n",
"tg(n+1)=100\n",
"tg(2)=0;tg(1)=0 //maximum load limit\n",
"for i=0:n\n",
"    el(i+1)=pg(i+1)*tg(i+1)\n",
"    printf('\nnumber of units out %d ,capacity out %dMW ,capacity available %dMW ,probability %4f ,tg in persentage %.2f ,expected load %.6fMW',i,co(i+1),ca(i+1),pg(i+1),tg(i+1),el(i+1))\n",
"end\n",
"lt=sum(el)\n",
"printf('\n\nexpected loss of load is %.6fMW percent of time. assuming 365 days in a year, then expected loss of load is %.3fMW days per year',lt,lt*365/100)"
   ]
   }
,
{
		   "cell_type": "markdown",
		   "metadata": {},
		   "source": [
			"## Example 17.4: CAPACITY_OUTAGE_PROBABILITY_TABLEAND_EXPECTED_LOAD.sce"
		   ]
		  },
  {
"cell_type": "code",
	   "execution_count": null,
	   "metadata": {
	    "collapsed": true
	   },
	   "outputs": [],
"source": [
"clc \n",
"clear\n",
"disp('example 17 4')\n",
"//given\n",
"n=4 //number of generating station\n",
"f=0.02 //F.O.R\n",
"a=1-f\n",
"p=50 //generation station power \n",
"mp=150 //maximum alowable  power\n",
"minp=30 //minimum power \n",
"lf=60 //load factor in persentage\n",
"function [y]=comb(m,r)\n",
"y=factorial(m)/(factorial(m-r)*factorial(r))\n",
"endfunction\n",
"for i=0:n\n",
"    pg(i+1)=comb(n,i)*((f)^i)*((a)^(n-i))\n",
"    co(i+1)=p*i;ca(i+1)=p*(n-i)\n",
"    printf('\nnumber of units out %d ,capacity out %dMW ,capacity available %dMW ,probability %.7f ',i,co(i+1),ca(i+1),pg(i+1))\n",
"end\n",
"ld=mp:-lf:minp\n",
"[m n1]=size(ld)\n",
"[mm m]=max(co)\n",
"plot(ld)\n",
"tg(1)=0\n",
"for i=2:n+1\n",
"    tg(i)=(mp-ca(i))*100/(2*lf) //percentage time \n",
"end\n",
"disp('')\n",
"for i=1:n+1\n",
"    el(i)=pg(i)*tg(i)\n",
"    printf('\nnumber of units out %d ,capacity out %dMW ,capacity available %dMW ,probability %4f ,tg in persentage %.2f ,expected load %.6fMW',i-1,co(i),ca(i),pg(i),tg(i),el(i))\n",
"end\n",
"lt=sum(el)\n",
"printf('\n\nexpected loss of load is %.6fMW percent of time. assuming 365 days in a year, then expected loss of load is %.3fMW days per year ,some times the loss of load is also expressed as reciprocal of this figure and then the units are years per day this result is %.4fMW years per day.',lt,lt*365/100,100/(lt*365))"
   ]
   }
],
"metadata": {
		  "kernelspec": {
		   "display_name": "Scilab",
		   "language": "scilab",
		   "name": "scilab"
		  },
		  "language_info": {
		   "file_extension": ".sce",
		   "help_links": [
			{
			 "text": "MetaKernel Magics",
			 "url": "https://github.com/calysto/metakernel/blob/master/metakernel/magics/README.md"
			}
		   ],
		   "mimetype": "text/x-octave",
		   "name": "scilab",
		   "version": "0.7.1"
		  }
		 },
		 "nbformat": 4,
		 "nbformat_minor": 0
}
