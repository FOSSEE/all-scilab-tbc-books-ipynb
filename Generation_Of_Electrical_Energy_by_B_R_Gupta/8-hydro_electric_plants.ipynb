{
"cells": [
 {
		   "cell_type": "markdown",
	   "metadata": {},
	   "source": [
       "# Chapter 8: hydro electric plants"
	   ]
	},
{
		   "cell_type": "markdown",
		   "metadata": {},
		   "source": [
			"## Example 8.1: hydro_plant_power_with_parameters_of_reservoir.sce"
		   ]
		  },
  {
"cell_type": "code",
	   "execution_count": null,
	   "metadata": {
	    "collapsed": true
	   },
	   "outputs": [],
"source": [
"clear\n",
"clc\n",
"disp('example 8.1')\n",
"h=100 //given height\n",
"q=200 //discharge\n",
"e=0.9 //efficiency\n",
"p=(735.5/75)*q*h*e\n",
"printf('\npower developed by hydro plant is %ekW',p)"
   ]
   }
,
{
		   "cell_type": "markdown",
		   "metadata": {},
		   "source": [
			"## Example 8.2: STORAGE_CAPACITY_AND_HYDRO_GRAPH.sce"
		   ]
		  },
  {
"cell_type": "code",
	   "execution_count": null,
	   "metadata": {
	    "collapsed": true
	   },
	   "outputs": [],
"source": [
"clear\n",
"clc\n",
"disp('example 8.2')\n",
"flow=[0 1000 800 600 400 400 1200 2400 2400 1000 400 400 1000] //flow in matrix from in the order of months\n",
"y=0:12\n",
"h=150\n",
"e=0.85\n",
"avg=sum(flow)/12\n",
"printf('\naverage rate of inflow is %dcu-m/sec',avg)\n",
"p=(735.5/75)*avg*h*e\n",
"printf('\npower developed is %fkW',p)\n",
"plot2d2(y,flow)\n",
"\n",
"xtitle('hydrograph','months','run in cu-m/sec')\n",
"disp('hydrograph is ploted in figure')\n",
"for x=1:12\n",
"       t=flow(1,x)\n",
"    a=avg\n",
"        if t<a|t==avg then\n",
"        t=0\n",
"    else\n",
"        t=t-1000\n",
"       end\n",
"     flow1(1,x)=t;\n",
"    end\n",
"sto=sum(flow1)\n",
"printf('\nstorage capacity of given plant is %dsec-m-month',sto)"
   ]
   }
,
{
		   "cell_type": "markdown",
		   "metadata": {},
		   "source": [
			"## Example 8.3: STORAGE_CAPACITY_AND_HYDRO_GRAPH.sce"
		   ]
		  },
  {
"cell_type": "code",
	   "execution_count": null,
	   "metadata": {
	    "collapsed": true
	   },
	   "outputs": [],
"source": [
"clear\n",
"clc\n",
"disp('example 8.3')\n",
"flow=[1500 1000 500 500 500 1200 2900 2900 1000 400 600 1600]\n",
"cod=1000//constant demand\n",
"plot2d2(flow)\n",
"xtitle('hydrograph for exp 8.3','months','run off in m^3/sec')\n",
"avg=sum(flow)/12\n",
"if cod<avg then\n",
"    for x=1:6\n",
"       t=flow(1,x)\n",
"        if t>cod|t==avg then\n",
"        \n",
"        t=0\n",
"    else\n",
"        t=cod-t\n",
"       end\n",
"     flow1(1,x)=t;\n",
" end\n",
" \n",
" else\n",
"     for x=1:12\n",
"       t=flow(1,x)\n",
"    a=cod\n",
"        if t>a|t==avg then\n",
"        t=0\n",
"    else\n",
"        t=t-cod\n",
"       end\n",
"     flow1(1,x)=t;\n",
"    end\n",
"end\n",
"\n",
"sto=sum(flow1)\n",
"printf('storage capacity of plant is %dsec-m-month',sto)\n",
""
   ]
   }
,
{
		   "cell_type": "markdown",
		   "metadata": {},
		   "source": [
			"## Example 8.4: derevation_of_mass_curve.sce"
		   ]
		  },
  {
"cell_type": "code",
	   "execution_count": null,
	   "metadata": {
	    "collapsed": true
	   },
	   "outputs": [],
"source": [
"clear\n",
"clc\n",
"disp('example 8.4')\n",
"flow=[1500 1000 500 500 500 1200 2900 2900 1000 400 600 1600]\n",
"cod=1000//constant demand\n",
"[m n]=size(flow)\n",
"mf(1)=1500\n",
"for i=2:n\n",
"    mf(i)=mf(i-1)+flow(i)\n",
"end\n",
"plot(mf)\n",
"dd=1:cod:mf(n)\n",
"avg=sum(flow)/12\n",
"if cod<avg then\n",
"    for x=1:6\n",
"       t=flow(1,x)\n",
"        if t>cod|t==avg then\n",
"        \n",
"        t=0\n",
"    else\n",
"        t=cod-t\n",
"       end\n",
"     flow1(1,x)=t;\n",
" end\n",
" \n",
" else\n",
"     for x=1:12\n",
"       t=flow(1,x)\n",
"    a=cod\n",
"        if t>a|t==avg then\n",
"        t=0\n",
"    else\n",
"        t=t-cod\n",
"       end\n",
"     flow1(1,x)=t;\n",
"    end\n",
"end\n",
"\n",
"sto=sum(flow1)\n",
"printf('storage capacity of plant is %dsec-m-month',sto)\n",
""
   ]
   }
,
{
		   "cell_type": "markdown",
		   "metadata": {},
		   "source": [
			"## Example 8.5: HYDRO_GRAPH.sce"
		   ]
		  },
  {
"cell_type": "code",
	   "execution_count": null,
	   "metadata": {
	    "collapsed": true
	   },
	   "outputs": [],
"source": [
"clear\n",
"clc\n",
"disp('solution of 8.5')\n",
"flow=[80 50 40 20 0 100 150 200 250 120 100 80]\n",
"h=100;e=80\n",
"subplot(211)\n",
"plot2d2(flow)\n",
"xtitle('hydrograph','months','run off,millon m^3/month' )\n",
"fd=gsort(flow)\n",
"subplot(212)\n",
"plot2d2(fd)\n",
"xtitle('flow duretion','months','run off')\n",
"t=1:12\n",
"for x=2:10\n",
"    d=fd(1,x)\n",
"    ad=fd(1,(x-1))\n",
"    if d==ad then\n",
"        t(1,x)=[]\n",
"        t(1,x-1)=t(1,x-1)+1\n",
"        fd(1,x)=[]\n",
"    end\n",
"end\n",
"ffw=[fd;t]\n",
"disp('load duration data is as under')\n",
"disp(ffw)\n",
"mf=sum(flow)*10^6/(30*24*3600)\n",
"disp('(a)')\n",
"printf('meanflow is %fm^3-sec',mf)\n",
"disp('(b)')\n",
"p=(735.5/75)*mf*h*e\n",
"printf('power delevered in %dkW=%.3fMW',p,p/1000)"
   ]
   }
,
{
		   "cell_type": "markdown",
		   "metadata": {},
		   "source": [
			"## Example 8.6: WATER_USED_AND_LOAD_FACTOR_OF_HYDRO_STATION.sce"
		   ]
		  },
  {
"cell_type": "code",
	   "execution_count": null,
	   "metadata": {
	    "collapsed": true
	   },
	   "outputs": [],
"source": [
"clear\n",
"clc\n",
"disp('example 8.6')\n",
"mh=205//mean height\n",
"a=1000*10^6//in miters\n",
"r=1.25//annual rain fall\n",
"er=0.8//efficiency\n",
"lf=0.75//load factor\n",
"hl=5//head loss\n",
"et=0.9//efficiency of turbine\n",
"eg=0.95//efficiency of generator\n",
"wu=a*r*er/(365*24*3600)\n",
"printf('\nwater used is \t\t%fm^3/sec',wu)\n",
"eh=mh-hl\n",
"printf('\neffective head is \t%dm',eh)\n",
"p=(735.5/75)*(wu*eh*et*eg)\n",
"printf('\npower generated is \t%fkW =\t%fMW',p,p/1000)\n",
"pl=p/lf\n",
"printf('\npeak load is \t\t%fMw \ntherefore the MW rating of station is \t%fMW',pl/1000,pl/1000)\n",
"if eh<=200 then\n",
"printf('\nfor a head above 200m pelton turbine is suitable,\nfrancis turbine is suitable in the range of 30m-200m.,\nhowever pelton is most suitable')\n",
"else\n",
"    printf('only pelton turbine is most suitable')\n",
"end"
   ]
   }
],
"metadata": {
		  "kernelspec": {
		   "display_name": "Scilab",
		   "language": "scilab",
		   "name": "scilab"
		  },
		  "language_info": {
		   "file_extension": ".sce",
		   "help_links": [
			{
			 "text": "MetaKernel Magics",
			 "url": "https://github.com/calysto/metakernel/blob/master/metakernel/magics/README.md"
			}
		   ],
		   "mimetype": "text/x-octave",
		   "name": "scilab",
		   "version": "0.7.1"
		  }
		 },
		 "nbformat": 4,
		 "nbformat_minor": 0
}
