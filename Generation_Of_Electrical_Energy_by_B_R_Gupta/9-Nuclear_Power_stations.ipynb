{
"cells": [
 {
		   "cell_type": "markdown",
	   "metadata": {},
	   "source": [
       "# Chapter 9: Nuclear Power stations"
	   ]
	},
{
		   "cell_type": "markdown",
		   "metadata": {},
		   "source": [
			"## Example 9.1: energy_equivalent_of_matter_1_gram.sce"
		   ]
		  },
  {
"cell_type": "code",
	   "execution_count": null,
	   "metadata": {
	    "collapsed": true
	   },
	   "outputs": [],
"source": [
"clear\n",
"clc\n",
"disp('example 9.1')\n",
"m=1*10^-3//mass of 1 grm in kgs\n",
"c=3*10^8\n",
"e=m*c^2;\n",
"E=e/(1000*3600)\n",
"printf('energy equivalent of 1 gram is %dkWh',E)"
   ]
   }
,
{
		   "cell_type": "markdown",
		   "metadata": {},
		   "source": [
			"## Example 9.2: mass_defect_of_1_amu.sce"
		   ]
		  },
  {
"cell_type": "code",
	   "execution_count": null,
	   "metadata": {
	    "collapsed": true
	   },
	   "outputs": [],
"source": [
"clear\n",
"clc\n",
"disp('example 9.2')\n",
"amu=1.66*10^-27//mass equvalent in kgs\n",
"c=3*10^8\n",
"j=6.242*10^12\n",
"e=amu*c^2\n",
"E=e*j;\n",
"printf('energy evalent in joules is %ejoules \n energy equvalent in Mev is %dMeV \n hense shown',e,E)"
   ]
   }
,
{
		   "cell_type": "markdown",
		   "metadata": {},
		   "source": [
			"## Example 9.3: binding_energy_of_1h2_28ni59_92u235.sce"
		   ]
		  },
  {
"cell_type": "code",
	   "execution_count": null,
	   "metadata": {
	    "collapsed": true
	   },
	   "outputs": [],
"source": [
"clear\n",
"clc\n",
"disp('example 9.3')\n",
"hm=2.0141\n",
"hp=1.007825\n",
"hn=1.008665\n",
"nm=58.9342\n",
"np=28\n",
"nn=59\n",
"um=235.0439\n",
"up=92\n",
"un=235\n",
"hmd=hp+hn-hm;nmd=np*hp+(nn-np)*hn-nm;umd=up*hp+(un-up)*hn-um;\n",
"hbe=931*hmd;nbe=931*nmd;ube=931*umd;\n",
"ahbe=hbe/2;anbe=nbe/nn;aube=ube/un;\n",
"printf('\t(a)\n mass defect is for hydrogen %famu \n total binding energy for hydrogens %fMev \n average binding energy for hydrogen is %fMeV',hmd,hbe,ahbe)\n",
"printf('\n\t(b)\n mass defect is for nickel %famu \n total binding energy for nickel is %fMev \n average binding energy for nickelis %fMeV',nmd,nbe,anbe)\n",
"printf('\n\t(c)\n mass defect of uranium is %famu \n total binding energy uranium is %fMev \n average binding energy uranium is %fMeV',umd,ube,aube)"
   ]
   }
,
{
		   "cell_type": "markdown",
		   "metadata": {},
		   "source": [
			"## Example 9.4: half_life_of_uranium.sce"
		   ]
		  },
  {
"cell_type": "code",
	   "execution_count": null,
	   "metadata": {
	    "collapsed": true
	   },
	   "outputs": [],
"source": [
"clear\n",
"clc\n",
"disp('example 9.4')\n",
"no=1.7*10^24\n",
"hl=7.1*10^8\n",
"t=10*10^8\n",
"lm=0.693/(hl)\n",
"lmda=lm/(8760*3600)\n",
"ia=lmda*no\n",
"n=no*(exp(-lm*t))\n",
"printf('(lamda) disintegrations per sec is %ebq \n initial activity is lamda*na is %ebq \n final number of atoms is %eatoms',lmda,ia,n)"
   ]
   }
,
{
		   "cell_type": "markdown",
		   "metadata": {},
		   "source": [
			"## Example 9.5: power_produced_by_fissioning_5_grams_of_uranium.sce"
		   ]
		  },
  {
"cell_type": "code",
	   "execution_count": null,
	   "metadata": {
	    "collapsed": true
	   },
	   "outputs": [],
"source": [
"clear\n",
"clc\n",
"disp('example 9.5')\n",
"um=5\n",
"owp=2.6784*10^15\n",
"an=6.023*10^23\n",
"na1g=an/235\n",
"na5g=an*5/235\n",
"p=na5g/owp\n",
"printf('1 watt power requvires %efussions per day \n number of atoms in 5 gram is %eatoms \n power is %eMW ',owp,na5g,p)"
   ]
   }
,
{
		   "cell_type": "markdown",
		   "metadata": {},
		   "source": [
			"## Example 9.6: fuel_requirement_for_given_energy.sce"
		   ]
		  },
  {
"cell_type": "code",
	   "execution_count": null,
	   "metadata": {
	    "collapsed": true
	   },
	   "outputs": [],
"source": [
"clear\n",
"clc\n",
"disp('example 9.6')\n",
"pp=235\n",
"pe=0.33\n",
"lf=1\n",
"teo=pp*8760*3600*10^6\n",
"ei=teo/pe\n",
"nfr=3.1*10^10//fessions required\n",
"tnfr=nfr*ei\n",
"t1gu=2.563*10^21 //total uranium atoms in 1 grm\n",
"fure=tnfr/t1gu\n",
"printf('total energy input %eWatt sec \n energy input is %eWatt-sec\n total number of fissions required is %efissions \n fuel required is %e grams %dkg',teo,ei,tnfr,fure,fure/1000)"
   ]
   }
,
{
		   "cell_type": "markdown",
		   "metadata": {},
		   "source": [
			"## Example 9.7: number_of_collisions_for_energy_change.sce"
		   ]
		  },
  {
"cell_type": "code",
	   "execution_count": null,
	   "metadata": {
	    "collapsed": true
	   },
	   "outputs": [],
"source": [
"clear\n",
"clc\n",
"disp('example 9.7')\n",
"en=3*10^6\n",
"a=12\n",
"fen=0.1\n",
"Es=2/(12+2/3)\n",
"re=exp(Es)\n",
"printf('(a)\nratio of energies per collision is %f',re)\n",
"rietf=en/fen\n",
"ldie=log(rietf)\n",
"nc=ldie/Es\n",
"printf('(b)\npatio of iniial to final energies is %e \n logarithemic decrement in energy is %f \n number of collisions is %d',rietf,ldie,nc)"
   ]
   }
],
"metadata": {
		  "kernelspec": {
		   "display_name": "Scilab",
		   "language": "scilab",
		   "name": "scilab"
		  },
		  "language_info": {
		   "file_extension": ".sce",
		   "help_links": [
			{
			 "text": "MetaKernel Magics",
			 "url": "https://github.com/calysto/metakernel/blob/master/metakernel/magics/README.md"
			}
		   ],
		   "mimetype": "text/x-octave",
		   "name": "scilab",
		   "version": "0.7.1"
		  }
		 },
		 "nbformat": 4,
		 "nbformat_minor": 0
}
