{
"cells": [
 {
		   "cell_type": "markdown",
	   "metadata": {},
	   "source": [
       "# Chapter 10: ECONOMIC OPERATION OF STEAM PLANTS"
	   ]
	},
{
		   "cell_type": "markdown",
		   "metadata": {},
		   "source": [
			"## Example 10.10: SHARING_OF_LOAD_BETWEEN_STATIONS_WITH_ITRATION_METHOD.sce"
		   ]
		  },
  {
"cell_type": "code",
	   "execution_count": null,
	   "metadata": {
	    "collapsed": true
	   },
	   "outputs": [],
"source": [
"clear\n",
"clc\n",
"disp('example 10.10')\n",
"b11=0.001\n",
"b12=-0.0005\n",
"b22=0.0024\n",
"q1=0.08\n",
"r1=16\n",
"q2=0.08\n",
"r2=12\n",
"lamda=20\n",
"\n",
"p2=0\n",
"for x=1:4\n",
"    p1=(1-(r1/lamda)-(2*p2*b12))/((q1/lamda)+2*b11)\n",
"\n",
"p2=(1-(r2/lamda)-(2*p1*b12))/((q2/lamda)+2*b22)\n",
"\n",
"end\n",
"pl=b11*p1^2+2*b12*p1*p2+b22*p2^2\n",
"pr=p1+p2-pl\n",
"printf('thus \t p1=%2.1fMW,p2=%2.1fMW\n pl=%1.1fMW\npower resevied %2.1fMW',p1,p2,pl,pr)"
   ]
   }
,
{
		   "cell_type": "markdown",
		   "metadata": {},
		   "source": [
			"## Example 10.11: COST_CHARACTERISTIC_UNDER_COMBAINED_STATIONS_CONDITION.sce"
		   ]
		  },
  {
"cell_type": "code",
	   "execution_count": null,
	   "metadata": {
	    "collapsed": true
	   },
	   "outputs": [],
"source": [
"clear\n",
"clc\n",
"disp('example 10.11')\n",
"a1=561;b1=7.92;c1=0.001562\n",
"a2=310;b2=7.85;c2=0.00194\n",
"ce=c1*c2/(c1+c2)\n",
"printf('\nce=%e',ce)\n",
"be=((b1/c1)+(b2/c2))*ce\n",
"printf('\nbe=%1.4f',be)\n",
"ae=a1-((b1^2)/4*c1)+a2-((b2^2)/4*c2)+((be^2)/4*ce)\n",
"printf('ae=%3.3f \n cost characteristics of composite unit for demand pt is \n ct=%3.3f+%1.4f*p1+%ep1^2',ae,ae,be,ce)"
   ]
   }
,
{
		   "cell_type": "markdown",
		   "metadata": {},
		   "source": [
			"## Example 10.12: SHARING_OF_LOAD_BETWEEN_STATIONS.sce"
		   ]
		  },
  {
"cell_type": "code",
	   "execution_count": null,
	   "metadata": {
	    "collapsed": true
	   },
	   "outputs": [],
"source": [
"clear\n",
"clc\n",
"disp('example 10.12')\n",
"a1=7700;b1=52.8;c1=5.5*10^-3\n",
"a2=2500;b2=15;c2=0.05//given eqution\n",
"plo=200;pup=800\n",
"ct=1000\n",
"l=[500,900,1200,500];t=[6 16 20 24]//from given graph\n",
"function [p1,p2]=cost(y)\n",
"   p1=(2*c2*y-(b1-b2))/(2*(c1+c2))\n",
"   p2=y-p1\n",
"endfunction\n",
"ma=max(l)\n",
"mi=min(l)\n",
"for x=1:3\n",
"    [e g]=cost(l(x))\n",
"    if e<plo|g<plo|e>pup|g>pup then\n",
"        if e<plo|g<plo then\n",
"    [v,u]=min(e,g)\n",
"    if u==1 then\n",
"        e=plo\n",
"        g=l(x)-e\n",
"    else\n",
"        g=plo\n",
"        e=l(x)-g\n",
"    end\n",
"    end\n",
"    \n",
"end\n",
"printf('\np1=%3.2fMW\tp2=%3.2fMW',e,g)\n",
"end"
   ]
   }
,
{
		   "cell_type": "markdown",
		   "metadata": {},
		   "source": [
			"## Example 10.13: ECONOMIC_SCHEDULING_BETWEEN_POWER_STATION.sce"
		   ]
		  },
  {
"cell_type": "code",
	   "execution_count": null,
	   "metadata": {
	    "collapsed": true
	   },
	   "outputs": [],
"source": [
"clc\n",
"clear\n",
"disp('example 10 13')\n",
"a1=2000;b1=20;c1=0.05;p1=350;p2=550\n",
"a2=2750;b2=26;c2=0.03091\n",
"function [co]=cost(a,b,c,p)\n",
"    co=a+b*p+c*p^2\n",
"endfunction\n",
"disp('(a)')\n",
"toco=cost(a1,b1,c1,p1)+cost(a2,b2,c2,p2)\n",
"printf('total cost when each system supplies its own load Rs%.3f per hour',toco)\n",
"l=p1+p2\n",
"p11=(b2-b1+2*c2*l)/(2*(c1+c2))\n",
"p22=l-p11\n",
"totco=cost(a1,b1,c1,p11)+cost(a2,b2,c2,p22)\n",
"sav=toco-totco\n",
"tilo=p11-p1\n",
"disp('(b)')\n",
"printf('\n total cost when load is supplied in economic load dispatch method Rs%d per hour \n saving %.3f \n tie line load %.3f MW',totco,sav,tilo)"
   ]
   }
,
{
		   "cell_type": "markdown",
		   "metadata": {},
		   "source": [
			"## Example 10.14: ECONOMIC_SCHEDULING_BETWEEN_POWER_STATION.sce"
		   ]
		  },
  {
"cell_type": "code",
	   "execution_count": null,
	   "metadata": {
	    "collapsed": true
	   },
	   "outputs": [],
"source": [
"clear\n",
"clc\n",
"disp('example10.14')\n",
"a1=5000;b1=450;c1=0.5;//for system 1 \n",
"e1=0.02;e2=-0.02//error\n",
"a1c=a1*(1-e1);b1c=b1*(1-e1);c1c=c1*(1-e1)\n",
"a2c=a1*(1-e2);b2c=b1*(1-e2);c2c=c1*(1-e2)\n",
"tl=200\n",
"function [co]=cost(a,b,c,p)\n",
"    co=a+b*p+c*p^2\n",
"endfunction\n",
"p11=(b2c-b1c+2*c2c*tl)/(2*(c1c+c2c))\n",
"p22=tl-p11\n",
"totco=cost(a1c,b1c,c1c,p11)+cost(a2c,b2c,c2c,p22)\n",
"printf('\npower at station 1 is %dMW \t power at station 2 is %dMW \n total cost on economic critieria method Rs%d per hour',p11,p22,totco)\n",
"tocoe=cost(a1c,b1c,c1c,tl/2)+cost(a2c,b2c,c2c,tl/2)\n",
"eop=tocoe-totco\n",
"printf('\nextra operating cost due to erroneous scheduling Rs.%d per hour',eop)"
   ]
   }
,
{
		   "cell_type": "markdown",
		   "metadata": {},
		   "source": [
			"## Example 10.15: ECONOMIC_SCHEDULING_BETWEEN_POWER_STATION.sce"
		   ]
		  },
  {
"cell_type": "code",
	   "execution_count": null,
	   "metadata": {
	    "collapsed": true
	   },
	   "outputs": [],
"source": [
"clc\n",
"clear\n",
"disp('example 10_15')\n",
"c1=0.002;b1=0.86;a1=20\n",
"c2=0.004;b2=1.08;a2=20\n",
"c3=0.0028;b3=0.64;a3=36\n",
"fc=500\n",
"maxl=120\n",
"minl=36\n",
"tl=200\n",
"d=[1 1 1;2*fc*c1 -fc*2*c2 0;0 -fc*2*c2 fc*2*c3]\n",
"p=[tl;fc*(b2-b1);fc*(b2-b3)] \n",
"pp=inv(d)*p //matrix inversion method\n",
"printf('\nloads on generaating station by economic creatirian method is %dMW,%dMW,%dMW',pp(1),pp(2),pp(3))\n",
"for i=1:3\n",
"    if pp(i)<minl then\n",
"        pp(i)=minl\n",
"        printf('\nload on generating station %d is less then minimum value %dMW \n so it is made equal to minimum value %dMW',i,minl,minl)\n",
"        e=[1 1;d(2,1) -d(3,3)]\n",
"        q=[(tl-pp(i));-p(i)]\n",
"        qq=inv(e)*q //matrix inversion method\n",
"printf('\nloads on generaating station by economic creatirian method is %.3fMW,%.3fMW',qq(1),qq(2))\n",
"    end\n",
"    if pp(i)>maxl then\n",
"        pp(i)=maxl\n",
"        printf('\nload on generating station %d is greater than maximum value %dMW \n so it is made equal to mmaximum value %dMW',i,maxl,maxl)\n",
"        e=[1 1;d(2,1) -d(3,3)]\n",
"        q=[(tl-pp(i));-p(i)]\n",
"        qq=inv(e)*q //matrix inversion method\n",
"printf('\nloads on generaating station by economic creatirian method is %.2fMW,%.2fMW',qq(1),qq(2))\n",
"    end\n",
"end"
   ]
   }
,
{
		   "cell_type": "markdown",
		   "metadata": {},
		   "source": [
			"## Example 10.16: COMPARITION_BETWEEN_UNIFORM_LOAD_AND_DISTRUBTED_LOAD.sce"
		   ]
		  },
  {
"cell_type": "code",
	   "execution_count": null,
	   "metadata": {
	    "collapsed": true
	   },
	   "outputs": [],
"source": [
"clc\n",
"clear\n",
"disp('example 10.16')\n",
"//given\n",
"ia=32;ib=32;ic=1.68;f=10^5\n",
"wt=18;rt=24-wt\n",
"p=30\n",
"function [in]=inpu(a,b,c,f,t,p)\n",
"    in=(a+b*p+c*p^2)*f*t\n",
"endfunction\n",
"hi1=inpu(ia,ib,ic,f,wt,p);hi2=inpu(ia,ib,ic,f,rt,p/2)\n",
"disp('(a)')\n",
"printf('for full load condition for %d hours is %ekj \n for half load condition for%d s %ekj \n total load %ekj',wt,hi1,rt,hi2,hi1+hi2)\n",
"disp('(b)')\n",
"te=p*wt+(p/2)*rt\n",
"ul=te/24\n",
"hin=inpu(ia,ib,ic,f,24,ul)\n",
"sav=hi1+hi2-hin\n",
"savp=sav/(te*1000)\n",
"printf('\n total energy produced\t%dMW \n unifor load\t%dMW \n heat input under uniform load condition %ekj \n saving in heat energy %ekj \n saving in heat energy per kWh %dkj/kWh',te,ul,hin,sav,savp)"
   ]
   }
,
{
		   "cell_type": "markdown",
		   "metadata": {},
		   "source": [
			"## Example 10.17: ECONOMIC_SCHEDULING_BETWEEN_POWER_STATION.sce"
		   ]
		  },
  {
"cell_type": "code",
	   "execution_count": null,
	   "metadata": {
	    "collapsed": true
	   },
	   "outputs": [],
"source": [
"clc\n",
"clear\n",
"disp('example 10.17')\n",
"//given\n",
"a1=450;b1=6.5;c1=0.0013\n",
"a2=300;b2=7.8;c2=0.0019\n",
"a3=80;b3=8.1;c3=0.005\n",
"tl=800//total load\n",
"ma(1)=600\n",
"mi(1)=100\n",
"ma(2)=400\n",
"mi(2)=50\n",
"ma(3)=200\n",
"mi(3)=50\n",
"d=[1 1 1;2*c1 -2*c2 0;0 -2*c2 2*c3]\n",
"p=[tl;(b2-b1);(b2-b3)] \n",
"pp=inv(d)*p //matrix inversion method\n",
"printf('\nloads on generaating station by economic creatirian method isp1=%fMW,p2=%fMW,p3=%fMW',pp(1),pp(2),pp(3))\n",
"for i=1:3\n",
"    if pp(i)<mi(i) then\n",
"        pp(i)=mi(i)\n",
"    end\n",
"    if pp(i)>ma(i) then\n",
"        pp(i)=ma(i)\n",
"    end\n",
"end\n",
"pp(2)=tl-pp(1)-pp(3)\n",
"printf('\nloads on generating station under critical conditions p1=%dMW p2=%dMW p3=%dMW',pp(1),pp(2),pp(3))"
   ]
   }
,
{
		   "cell_type": "markdown",
		   "metadata": {},
		   "source": [
			"## Example 10.1: SHARING_OF_LOAD_BETWEEN_STATIONS.sce"
		   ]
		  },
  {
"cell_type": "code",
	   "execution_count": null,
	   "metadata": {
	    "collapsed": true
	   },
	   "outputs": [],
"source": [
"clear\n",
"clc\n",
"disp('example 10.1')\n",
"mp=250 //maximum power\n",
"function [ic]=unit1(p1) //ic equation of unit 1\n",
"    ic=0.2*p1+30\n",
"endfunction\n",
"function [ic]=unit2(p2)//ic equation of unit 2\n",
"    ic=0.15*p2+40\n",
"endfunction\n",
"mil=20//minimum load\n",
"disp('minimum load ic is')\n",
"ic=[unit1(mil),unit2(mil)]\n",
"[m,n]=max(ic)\n",
"if m==unit2(mil) then\n",
"    for x=20:100\n",
"      if m==unit1(x) then\n",
"        break\n",
"        end\n",
"    end\n",
"    printf('ic of unit1 =ic of unit2 when unit2=%dMW and unit1=%dMW',mil,x)\n",
"end\n",
"function [p1,p2]=un(ic)\n",
"    p1=(ic-30)/0.2\n",
"    p2=(ic-40)/0.15\n",
"endfunction\n",
"printf('load division \n')\n",
"me=ceil(unit2(mil)/10)\n",
"for x=me*10:5:100\n",
"   ii=0\n",
"    [m,n]=un(x)\n",
"    if m>=mp|n>=mp then\n",
"        if n>mp then\n",
"            p=2\n",
"        end\n",
"        if m>mp then\n",
"            p=1\n",
"        end\n",
"        for y=x-5:0.5:x\n",
"            [c,v]=un(y)\n",
"            m1=[c,v]\n",
"            if mp==m1(p) then\n",
"                ii=1\n",
"                break\n",
"            end\n",
"        end\n",
"        [pp qq]=un(y)\n",
"    printf('\n for plant ic %3.1fMW \tthen p1=%dMW\t p2 =%dMW',unit1(pp),pp,qq)\n",
"    ii=1\n",
"    break\n",
"    end\n",
"   if ii==0 then\n",
"       l=m+n\n",
"       printf('\n for plant ic %dMW \tthen p1 is %dMW\t plant2 is %dMW and total is %dMW ',x,m,n,l)\n",
"    end\n",
"end\n",
"a=unit1(mp);b=unit2(mp)\n",
"printf('\n for plant ic %dMW \tthen p1 is %dMW\t plant2 is %dMW and total is %dMW ',a,mp,mp,2*mp)"
   ]
   }
,
{
		   "cell_type": "markdown",
		   "metadata": {},
		   "source": [
			"## Example 10.2: COST_ON_DIFFERENT_STATIONS_ON_INCREMENTAL_COST_METHOD.sce"
		   ]
		  },
  {
"cell_type": "code",
	   "execution_count": null,
	   "metadata": {
	    "collapsed": true
	   },
	   "outputs": [],
"source": [
"clear\n",
"clc\n",
"disp('example 10.2')\n",
"mp=250     //from example 10.1\n",
"function [ic]=unit1(p1)\n",
"    ic=0.2*p1+30\n",
"endfunction\n",
"function [ic]=unit2(p2)\n",
"    ic=0.15*p2+40\n",
"endfunction\n",
"mil=20\n",
"ttt=225\n",
"function [p1,p2]=un(ic)\n",
"    p1=(ic-30)/0.2\n",
"    p2=(ic-40)/0.15\n",
"endfunction\n",
"for x=40:5:60\n",
"    [e,r]=un(x)\n",
"    if ttt==e+r then\n",
"        printf('for the same incremental costs unit1 should supply %dMW and unit 2 shold supply %dMW,for equal sharing each unit should supply %3.1fMW',e,r,ttt/2)\n",
"        break\n",
"    end\n",
"end\n",
"opo=ttt/2\n",
"u1=integrate('unit1','p1',opo,e)\n",
"u2=integrate('unit2','p2',r,opo)\n",
"uuu=(u1+u2)*8760\n",
"printf('\nyearly extra cost is (%3.2f-%3.2f)8760 =%dper year',u1,u2,uuu)\n",
"printf('\nthis if the load is equally shared by the two units an extra cost of Rs.%d will be incurred.in other words economic loading would result in saving of Rs.%dper year',uuu,uuu)"
   ]
   }
,
{
		   "cell_type": "markdown",
		   "metadata": {},
		   "source": [
			"## Example 10.3: SHARING_OF_LOAD_BETWEEN_STATIONS_WITH_PARTICIPATION_FACTOR.sce"
		   ]
		  },
  {
"cell_type": "code",
	   "execution_count": null,
	   "metadata": {
	    "collapsed": true
	   },
	   "outputs": [],
"source": [
"clear\n",
"clc\n",
"disp('example 10.3')\n",
"function [ic]=unit1(p1)\n",
"    ic=0.2*p1+30\n",
"endfunction\n",
"function [ic]=unit2(p2)\n",
"    ic=0.15*p2+40\n",
"endfunction\n",
"tol=400\n",
"pd=50\n",
"u1c=5\n",
"u2c=1/0.15//from example10_1\n",
"p1pd=u1c/(u1c+u2c)\n",
"p2pd=u2c/(u1c+u2c)\n",
"pi=p1pd*pd\n",
"pt=p2pd*pd\n",
"printf('p1=%1.5fMW\n p2=%1.5fMW',pi,pt)\n",
"p11=pi+tol/2\n",
"p22=pt+tol/2\n",
"up1=unit1(p11)\n",
"up2=unit2(p22)\n",
" printf('\nthe total load on 2 units would be %3.2fMW and %3.2fMW respectevily. it is easy to check that incremental cost will be same for two units at these loading.\n incremental cost of unit1 is %3.2fRs.MW,\n incremantal cost of unit 2 is %3.2fRs./MW',p11,p22,up1,up2)"
   ]
   }
,
{
		   "cell_type": "markdown",
		   "metadata": {},
		   "source": [
			"## Example 10.5: LOSS_COEFFICIENTS_AND_TRANSMISSION_LOSS.sce"
		   ]
		  },
  {
"cell_type": "code",
	   "execution_count": null,
	   "metadata": {
	    "collapsed": true
	   },
	   "outputs": [],
"source": [
"clear\n",
"clc\n",
"disp('example10.5')\n",
"i1=0.8\n",
"i2=1.0\n",
"l1=complex(0.04,0.12)\n",
"l2=complex(0.03,0.1)\n",
"l3=complex(0.03,0.12)\n",
"vl=1\n",
"\n",
"i3=i1+i2\n",
"v1=vl+i3*(l1)+i1*(l2)\n",
"v2=vl+i3*(l1)+i2*(l3)\n",
"p1=real(i1*v1)\n",
"p2=real(i2*v2)\n",
"cos1=real(v1)/abs(v1)\n",
"cos2=real(v2)/abs(v2)\n",
"b11=abs((real(l1)+real(l2))/(v1^2*cos1^2))\n",
"b22=abs((real(l1)+real(l3))/(v2^2*cos2^2))\n",
"b12=abs((real(l1))/(v1*v2*cos1*cos2))\n",
"pl=(p1^2)*b11+(p2^2)*b22+2*p1*p2*b12\n",
"printf('i1+i3=%dpu\nv1=%1.3f+%1.3fp.u\nv2=%1.3f+%1.3fp.u\np1=%1.3fp.u\np2=%1.3fp.u\ncos(ph1)=%1.3f\ncos(ph2)=%1.3f\nb11=%1.5fp.u\nb22=%1.5fp.u\nb12=%1.5fp.u\npl=%1.6fp.u',i3,v1,imag(v1),v2,imag(v2),p1,p2,cos1,cos2,b11,b22,b12,pl)"
   ]
   }
,
{
		   "cell_type": "markdown",
		   "metadata": {},
		   "source": [
			"## Example 10.7: LOSS_COEFFICIENTS_AND_TRANSMISSION_LOSS.sce"
		   ]
		  },
  {
"cell_type": "code",
	   "execution_count": null,
	   "metadata": {
	    "collapsed": true
	   },
	   "outputs": [],
"source": [
"clear\n",
"clc\n",
"disp('example10.7')\n",
"za=complex(0.03,0.09)\n",
"zb=complex(0.1,0.3)\n",
"zc=complex(0.03,0.09)\n",
"zd=complex(0.04,0.12)\n",
"ze=complex(0.04,0.12)\n",
"ia=complex(1.5,-0.4)\n",
"ib=complex(0.5,-0.2)\n",
"ic=complex(1,-0.1)\n",
"id=complex(1,-0.2)\n",
"ie=complex(1.5,-0.3)\n",
"il1=.4\n",
"il2=.6\n",
"na1=1;nb1=0.6;nc1=0;nd1=.4;ne1=.6\n",
"na2=0;nb2=-0.4;nc2=1;nd2=.4;ne2=.6\n",
"vl=1\n",
"//some thing is messed\n",
"v1=vl+za*ia\n",
"v2=vl-zb*ib+zc*ic\n",
"a1=atan(imag(ia)/real(ia))\n",
"a2=atan(imag(ic)/real(ic))\n",
"cosa=cos(a1-a2)\n",
"cosph1=cos(atan(imag(v1)/real(v1))-a1)\n",
"cosph2=cos(atan(imag(v2)/real(v2))-a2)\n",
"b11=(na1^2*real(za)+nb1^2*real(zb)+nc1^2*real(zc)+nd1^2*real(zd)+ne1^2*real(ze))/(abs(v1)^2*cosph1)\n",
"b22=(na2^2*real(za)+nb2^2*real(zb)+nc2^2*real(zc)+nd2^2*real(zd)+ne2^2*real(ze))/((abs(v2)^2)*cosph2)\n",
"bb12=(abs(v1)*abs(v2)*cosph1*cosph2)\n",
"ab12=(na2*na1*real(za)+nb2*nb1*real(zb)+nc1*nc2*real(zc)+nd2*nd1*real(zd)+ne2*ne1*0.03)\n",
"b12=cosa*ab12/bb12\n",
"printf('bus voltages at 2 buses are \nv1=%1.3f+i%1.3f,\nv2=%1.3f+i%1.3f',real(v1),imag(v1),real(v2),imag(v2))\n",
"printf('\nloss coffecients are \nb11=%1.5fp.u\nb22=%1.5fp.u\nb12=%1.5fp.u \n',b11,b22,b12)\n",
"printf('loss coffecients in actual values is \nb11=%eM(W)-1\nb22=%eM(W)-1\nb12=%eM(W)-1\n',b11/100,b22/100,b12/100)"
   ]
   }
,
{
		   "cell_type": "markdown",
		   "metadata": {},
		   "source": [
			"## Example 10.8: SHARING_OF_LOAD_BETWEEN_STATIONS_WITH_PARTICIPATION_FACTOR.sce"
		   ]
		  },
  {
"cell_type": "code",
	   "execution_count": null,
	   "metadata": {
	    "collapsed": true
	   },
	   "outputs": [],
"source": [
"clear\n",
"clc\n",
"disp('example 10.8')\n",
"r1=22;r2=30;q1=0.2;q2=0.15\n",
"b22=0;b12=0;p1=100;pl=15//transmission losses are 0\n",
"b11=pl/(p1)^2\n",
"function [p1,p2]=power(x) //mathematical computation\n",
"    p1=(x-r1)/(q1+2*b11*x)\n",
"     p2=(x-r2)/q2\n",
"endfunction\n",
"[a,b]=power(60)\n",
"printf('l1=1/(1-%.3f*p1)\nl2=[1/(1-0)]=1\ngiven lamda=60\nsince ic1*l1=lamda ;ic2*l2=lamda\ntotal load=%dMW',b11*2,a+b-(b11*a^2))"
   ]
   }
,
{
		   "cell_type": "markdown",
		   "metadata": {},
		   "source": [
			"## Example 10.9: COST_CONDITIONS_WITH_CHANGE_IN_LOAD_ON_PLANT.sce"
		   ]
		  },
  {
"cell_type": "code",
	   "execution_count": null,
	   "metadata": {
	    "collapsed": true
	   },
	   "outputs": [],
"source": [
"clear\n",
"clc\n",
"disp('example 10.9')\n",
"r1=22;r2=30;q1=0.2;q2=0.15\n",
"b22=0;b12=0;p1=100;pl=15//transmission losses are 0\n",
"b11=pl/(p1)^2\n",
"function [p1,p2]=power(x) //mathematical computation\n",
"    p1=(x-r1)/(q1+2*b11*x)\n",
"     p2=(x-r2)/q2\n",
"endfunction\n",
"[a,b]=power(60)\n",
"pt=a+b-(b11*a^2)\n",
"\n",
"\n",
"\n",
"\n",
"z=integrate('q1*u+r1','u',a,161.80)\n",
"y=integrate('q2*v+r2','v',b,162.5)\n",
"m=z+y\n",
"printf('net change in cost =Rs.%dper hour',m)\n",
"printf('\nthus scheduling the generation by taking transmission losses into account would mean a saving of Rs.%dper hour in fuel cost',m)"
   ]
   }
],
"metadata": {
		  "kernelspec": {
		   "display_name": "Scilab",
		   "language": "scilab",
		   "name": "scilab"
		  },
		  "language_info": {
		   "file_extension": ".sce",
		   "help_links": [
			{
			 "text": "MetaKernel Magics",
			 "url": "https://github.com/calysto/metakernel/blob/master/metakernel/magics/README.md"
			}
		   ],
		   "mimetype": "text/x-octave",
		   "name": "scilab",
		   "version": "0.7.1"
		  }
		 },
		 "nbformat": 4,
		 "nbformat_minor": 0
}
