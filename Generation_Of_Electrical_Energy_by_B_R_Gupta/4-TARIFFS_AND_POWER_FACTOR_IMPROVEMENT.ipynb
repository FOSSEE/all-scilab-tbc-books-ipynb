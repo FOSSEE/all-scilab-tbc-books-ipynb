{
"cells": [
 {
		   "cell_type": "markdown",
	   "metadata": {},
	   "source": [
       "# Chapter 4: TARIFFS AND POWER FACTOR IMPROVEMENT"
	   ]
	},
{
		   "cell_type": "markdown",
		   "metadata": {},
		   "source": [
			"## Example 4.10: kvar_rating_of_star_connected_capacitor_and_capacitance_for_power_factor.sce"
		   ]
		  },
  {
"cell_type": "code",
	   "execution_count": null,
	   "metadata": {
	    "collapsed": true
	   },
	   "outputs": [],
"source": [
"clc\n",
"clear\n",
"disp('example 4 10')\n",
"v=400//voltage\n",
"i=25///current\n",
"pf=0.8//at power factor\n",
"pf2=0.9//over all power factor\n",
"kw=v*i*pf*sqrt(3)/1000\n",
"printf('kw rating of induction motor %.2fkW',kw)\n",
"dm=acosd(pf)\n",
"rp=kw*tand(dm)\n",
"printf('\n power factor angle %.2f \n reactive power %.2fkVR',dm,rp)\n",
"fdm=acosd(pf2)\n",
"rp2=kw*tand(fdm)\n",
"printf('\n final power factor %.2f \n final reactance power %.2fkVR',fdm,rp2)\n",
"ckvb=rp-rp2\n",
"cc=ckvb*1000/(sqrt(3)*v)\n",
"vc=v/sqrt(3)\n",
"xc=vc/cc\n",
"f=50\n",
"cec=1*10^(6)/(xc*2*%pi*f)\n",
"printf('\n kvar rating of capacitor bank %.4f \n current through each capacitor %.2fA\n voltage across each capacitor %.2f \n reactance of each capacitor %.2fohm \n capacitance of each capacitance %.2fuf',ckvb,cc,vc,xc,cec)"
   ]
   }
,
{
		   "cell_type": "markdown",
		   "metadata": {},
		   "source": [
			"## Example 4.11: kva_and_power_factor_of_synchronous_motor.sce"
		   ]
		  },
  {
"cell_type": "code",
	   "execution_count": null,
	   "metadata": {
	    "collapsed": true
	   },
	   "outputs": [],
"source": [
"clc\n",
"clear\n",
"disp('example 4 11')\n",
"v=400//line voltage\n",
"i=50 //line current\n",
"pf=0.8 //at power factor\n",
"pf2=0.95 // overall power factor\n",
"sm=25 //hp of synchronous motor \n",
"e=0.9//efficiency\n",
"kwri=v*i*pf*sqrt(3)/1000\n",
"kvari=v*i*sqrt(3)/1000\n",
"karri=(-kwri^2+kvari^2)^0.5\n",
"kwsm=sm*735.5/(e*1000)\n",
"tkw=kwri+kwsm\n",
"printf(' kw rating of installation %.1fkW \n kVA rating of installation %.2fkva \n kVAR rating %.2fkvar \n kw input to synchrounous motor %.2fkw \n total kw=%.2f\n',kwri,kvari,karri,kwsm,tkw)\n",
"pd=acosd(pf2)\n",
"tkr=tkw*tand(pd)\n",
"krsm=tkr-karri\n",
"kasm=(kwsm^2+krsm^2)^0.5\n",
"pfsm=kwsm/kasm\n",
"if krsm<0 then\n",
"    ch=char('capacitor')\n",
"    ich=char('leading')\n",
"else\n",
"    ch=char('inductive')\n",
"    ich=char('lagging')\n",
"end\n",
"printf(' overall power factor angle %.2fkw \n total kvar %.2fkvar \n kvar of synchrounous motor %.2fkvar %c \n kva of synchrounous motor %.2fkva \n power factor of synchrounous motor %.2f %c',pd,tkr,krsm,ch,kasm,pfsm,ich)"
   ]
   }
,
{
		   "cell_type": "markdown",
		   "metadata": {},
		   "source": [
			"## Example 4.12: parallel_operation_of_synchronous_and_induction_motor_under_different.sce"
		   ]
		  },
  {
"cell_type": "code",
	   "execution_count": null,
	   "metadata": {
	    "collapsed": true
	   },
	   "outputs": [],
"source": [
"clc\n",
"clear\n",
"disp('example 4 12')\n",
"psm=100 //power of synchrounous motors\n",
"pim=200 //power of inducion motor\n",
"v=400 //voltage \n",
"pff=0.71;pp=-1//power factor\n",
"rsm=0.1 //resistance of synchrounous motor\n",
"rt=0.03 //resistance of cable\n",
"pf(1)=1;p(1)=1 //power factor in a\n",
"pf(2)=0.8;p(2)=1 //power factor in b\n",
"pf(3)=0.6;p(3)=1 //power factor in c\n",
"i1=pim*1000/(v*pff*sqrt(3))\n",
"i11=i1*(complex(pff,pp*sind(acosd(pff))))\n",
"i2f=psm*1000/(v*sqrt(3))\n",
"ch=['a' 'b' 'c']\n",
"for i=1:3\n",
"    printf('\n (%c)',ch(i))\n",
"    d=acosd(pf(i))\n",
"    it(i)=i11(1)+complex(i2f,(p(i)*i2f*tand(d)))\n",
"    opf(i)=cosd(atand(imag(it(i))/real(it(i))))\n",
"    clsm=3*((i2f)^2)*rsm\n",
"    clt=3*(abs(it(i))^2)*rt/1000\n",
"    printf('\n total current %.2f %.fjA \n overall power factor %.3f lagging \n copper losses in synchrounous motor %.fW \n copper losses in cable %.2fKW',it(i),imag(it(i)),opf(i),clsm,clt)\n",
"end\n",
"disp('(d)')\n",
"printf('copper loss of synchronous motor this is evidently minimum when tand=%d cosd=%d',0,1)"
   ]
   }
,
{
		   "cell_type": "markdown",
		   "metadata": {},
		   "source": [
			"## Example 4.13: finding_power_factor_and_load_on_different_generator.sce"
		   ]
		  },
  {
"cell_type": "code",
	   "execution_count": null,
	   "metadata": {
	    "collapsed": true
	   },
	   "outputs": [],
"source": [
"clc\n",
"clear\n",
"disp('example 4 13')\n",
"p=2//constant output in MW\n",
"pf=0.9//power factor\n",
"pa=10//load\n",
"pb=5\n",
"pfb=0.8//power factor at load of 5MW\n",
"td=tand(acosd(pf))\n",
"go=p*(1-td*%i)\n",
"op=0.8\n",
"tp=tand(acosd(pfb))\n",
"printf('power factor of indection generator is leading therefor induction generator output %d%.2fiMVA /n (a) \n',real(go),imag(go))\n",
"tl=pa*(1+tp*%i)\n",
"sg=tl-go\n",
"da=atand(imag(sg)/real(sg))\n",
"printf(' total load %d+%.1fiMW \n synchronous generator load %d+%.3fiMW \n\t\t=%.2fMW at angle %.2f \n power factor of synchronous generator is %.2flagging',real(tl),imag(tl),real(sg),imag(sg),abs(sg),da,cosd(da))\n",
"tl1=pb*(1+tp*%i)\n",
"sg1=tl1-go\n",
"da1=atand(imag(sg1)/real(sg1))\n",
"disp('(b)')\n",
"printf(' total load %d+%.1fiMW \n synchronous generator load %d+%.3fiMW \n\t\t=%.2fMW at angle %.2f \n power factor of synchronous generator is %.2flagging',real(tl1),imag(tl1),real(sg1),imag(sg1),abs(sg1),da1,cosd(da1))"
   ]
   }
,
{
		   "cell_type": "markdown",
		   "metadata": {},
		   "source": [
			"## Example 4.14: loss_if_capacitor_is_connected_in_star_and_delta.sce"
		   ]
		  },
  {
"cell_type": "code",
	   "execution_count": null,
	   "metadata": {
	    "collapsed": true
	   },
	   "outputs": [],
"source": [
"clc\n",
"clear\n",
"disp('example 4 14')\n",
"c=40*10^(-6) //bank of capacitors in farads\n",
"v=400 //line voltage\n",
"i=40///line current\n",
"pf=0.8//power factor\n",
"f=50//line frequency\n",
"xc=1/(2*%pi*f*c)\n",
"ic=v/(sqrt(3)*xc)\n",
"il=i*(pf-sind(acosd(pf))*%i)\n",
"til=il+%i*ic\n",
"od=atand(imag(til)/real(til))\n",
"opf=cosd(od)\n",
"nlol=(abs(od)/i)^2\n",
"disp('(a)')\n",
"printf(' line current of capacitor bank %.1fA \n load current %d%diA \n total line current %d%.1fjA \n overall p.f %.3f \n new line loss to old line loss  %.3f',ic,real(il),imag(il),real(til),imag(til),opf,nlol)\n",
"pcb=(v/xc)\n",
"printf('\n phase current of capacitor bank %.3fA',pcb)\n",
"lcb=pcb*sqrt(3)\n",
"printf('\n line current of capacitor bank %.1fA',lcb)\n",
"tcu=il+lcb*%i\n",
"printf('\n total current %d%.1fjA =%.2fA at an angle %.2f',tcu,imag(tcu),abs(tcu),atand(imag(tcu)/real(tcu)))\n",
"pf2=cosd(atand(imag(tcu)/real(tcu)))\n",
"printf('\n power factor %.1f \n ratio of new line loss to original loss %.3f',pf2,(abs(tcu)/i)^2)"
   ]
   }
,
{
		   "cell_type": "markdown",
		   "metadata": {},
		   "source": [
			"## Example 4.15: persentage_reduction_in_line_loss_with_the_connection_of_capacitors.sce"
		   ]
		  },
  {
"cell_type": "code",
	   "execution_count": null,
	   "metadata": {
	    "collapsed": true
	   },
	   "outputs": [],
"source": [
"clc\n",
"clear\n",
"disp('example 4 15')\n",
"p=30 //b.h.p of induction motor\n",
"f=50//line frequency\n",
"v=400//line voltage\n",
"e=0.85//effiency\n",
"pf=0.8 //power factor\n",
"i=p*746/(v*e*pf*sqrt(3))\n",
"i=i*complex(pf,-sind(acosd(pf)))\n",
"ccb=imag(i)/sqrt(3)\n",
"xc=v/ccb\n",
"c=10^6/(2*f*%pi*xc)\n",
"prl=((abs(i)^2-real(i)^2)/abs(i)^2)*100\n",
"printf(' current drawn by motor is %.1fA \n the line loss will be minimum when i is munimum.the minimum value of i is %dA and occurs when the capacitor bank draws a line current of %djA \n capacitor C %.2fuf \n percentage loss reduction %d',abs(i),i,imag(i),abs(c),prl)"
   ]
   }
,
{
		   "cell_type": "markdown",
		   "metadata": {},
		   "source": [
			"## Example 4.16: kva_of_capacitor_bank_and_transformerand_etc.sce"
		   ]
		  },
  {
"cell_type": "code",
	   "execution_count": null,
	   "metadata": {
	    "collapsed": true
	   },
	   "outputs": [],
"source": [
"clc\n",
"clear\n",
"disp('example 4 16')\n",
"po=666.66 //power\n",
"f=50 //frequency\n",
"v=400 //voltage\n",
"pf=0.8 ;p=-1//power factor\n",
"pf2=0.95;p2=-1//improved power factor\n",
"vc=2200 //capacitor voltage \n",
"rc=vc\n",
"il=po*1000/(v*pf*sqrt(3))\n",
"il1=il*(complex(pf,p*sind(acosd(pf))))\n",
"i2c=il*pf\n",
"tad=tand(acosd(pf2))\n",
"i2=complex(i2c,i2c*tad*p2)\n",
"printf(' load current i1 %.2f%.2fA \n load current current on improved power factor %.2f%.2fjA',il1,imag(il1),i2,imag(i2))\n",
"disp('(a)')\n",
"ic=abs(il1-i2)\n",
"ilc=ic*v/vc\n",
"pic=ilc/sqrt(3)\n",
"xc=vc/pic\n",
"ca=10^6/(2*%pi*f*xc)\n",
"printf(' line current of %dV capacitor bank %.2fA\n line current of %d capacitor bank %.2fA \n phase current of capacitor bank %.2fA \n reactance %.2f \n capacitance %.2fF*10^(-6)',v,ic,vc,ilc,pic,xc,ca)\n",
"disp('(b)')\n",
"kr=3*vc*pic/1000\n",
"printf(' kVA rating %.1fkVA \n kVA rating of transformer to convert %dV to %dV will be the same as the kVA rating of capacitor bank',kr,v,vc)\n",
"pl=100*(abs(il1)^2-abs(i2)^2)/abs(il1)^2\n",
"printf('percentage reduction in losses %d percent',pl)\n",
"disp('(d)')\n",
"pi=ic/sqrt(3)\n",
"xcc=v/pi\n",
"cc=1*10^6/(2*%pi*f*xcc)\n",
"roc=ca/cc\n",
"printf(' phase current %.1fA \n reactance %.2fohm \n capasitance %.2f*10^-6F \n ratio of capacitance %.3f',pi,xcc,cc,roc)"
   ]
   }
,
{
		   "cell_type": "markdown",
		   "metadata": {},
		   "source": [
			"## Example 4.17: MVA_rating_of_three_winding_of_transformer.sce"
		   ]
		  },
  {
"cell_type": "code",
	   "execution_count": null,
	   "metadata": {
	    "collapsed": true
	   },
	   "outputs": [],
"source": [
"clc\n",
"clear\n",
"disp('example 4 17')\n",
"v1=132//line voltage at primary\n",
"v2=11//line voltage at secondary\n",
"p=10 //power\n",
"pf=0.8 //power factor\n",
"mva=p*(complex(pf,sind(acosd(pf))))\n",
"printf(' MVA rating of secondary = %dMVA =%d+%djMVA \n ',p,mva,imag(mva))\n",
"printf('\n since the power factor at primary terminals is unity,rating of primary need be %dMVA only \n the tertiary will supply capacitor curren.since p.f is to be raised to 1 ,the mav compensation needed is 6MVA so rating of teritiary is %dMVA',mva,imag(mva))"
   ]
   }
,
{
		   "cell_type": "markdown",
		   "metadata": {},
		   "source": [
			"## Example 4.18: load_power_and_power_factor_of_3_ph_alternator.sce"
		   ]
		  },
  {
"cell_type": "code",
	   "execution_count": null,
	   "metadata": {
	    "collapsed": true
	   },
	   "outputs": [],
"source": [
"clc\n",
"clear\n",
"disp('example 4 18')\n",
"v=11 //line voltage\n",
"f=50//line frequency\n",
"l=400 //load of alternator\n",
"pf=0.8 //power factor\n",
"e=0.85//efficiency\n",
"p=l/pf\n",
"lo=l+p*sind(acosd(pf))*%i\n",
"disp('a')\n",
"printf('when pf is rased to 1 the alternator can supply %dkW for the same value of armture current hence it can supply %dKW to synchronous motor',p,p-l)\n",
"disp('b')\n",
"printf('b.h.p =%.2fHP',100*e/0.746)\n",
"kvam=p-lo\n",
"td=atand(imag(kvam)/real(kvam))\n",
"pff=cosd(td)\n",
"printf('\ncosd=%.3fleading',pff)"
   ]
   }
,
{
		   "cell_type": "markdown",
		   "metadata": {},
		   "source": [
			"## Example 4.19: maintaining_of_poer_factor_using_capacitor.sce"
		   ]
		  },
  {
"cell_type": "code",
	   "execution_count": null,
	   "metadata": {
	    "collapsed": true
	   },
	   "outputs": [],
"source": [
"clc\n",
"clear\n",
"kw=100  //let kw=100kw\n",
"pf=0.6 //power foctor\n",
"pf2=0.8 //power factor\n",
"kvar=kw*tand(acosd(pf))\n",
"kvar2=kw*tand(acosd(pf2))\n",
"ckar=((kvar-kvar2))/10\n",
"ck=round(ckar)*10\n",
"disp('example 4 19')\n",
"printf('capacitor kVAR required for %dkW\n load for same power factor improvement %dKVAR',round(ckar),ck)\n",
"pff=0.95:-0.05:0.4\n",
"pff=200*pff\n",
"n=size(pff)\n",
"z=zeros(1,n(2))"
   ]
   }
,
{
		   "cell_type": "markdown",
		   "metadata": {},
		   "source": [
			"## Example 4.1: monthly_electricity_consumption.sce"
		   ]
		  },
  {
"cell_type": "code",
	   "execution_count": null,
	   "metadata": {
	    "collapsed": true
	   },
	   "outputs": [],
"source": [
"clc\n",
"clear\n",
"disp('example 4 1')\n",
"day=30 //days \n",
"pll=40;nll=5;tll=3 //light load \n",
"pfl=100;nfl=3;tfl=5 //fan load\n",
"prl=1*1000 //refrigerator\n",
"pml=1*1000;nml=1 //misc. load \n",
"t1=2.74;t11=15//tariff\n",
"t2=2.70;t22=25  //tariff on 25 units\n",
"tr=2.32; //reamaining units\n",
"tc=7.00;//constant charge\n",
"dis=0.05//discount for prompt payment\n",
"te=(pll*nll*tll+pfl*nfl*tfl)*day+prl*day+pml*day\n",
"tee=te/1000\n",
"mb=tc+tr*(tee-t11-t22)+t1*t11+t2*t22\n",
"nmb=mb*(1-dis)\n",
"printf('total energy consumption in %d day %dunits \nthe monthly bill Rs%.2f \nnet monthly bill Rs%.2f',day,tee,mb,nmb)"
   ]
   }
,
{
		   "cell_type": "markdown",
		   "metadata": {},
		   "source": [
			"## Example 4.20: maintaining_of_poer_factor_using_capacitor.sce"
		   ]
		  },
  {
"cell_type": "code",
	   "execution_count": null,
	   "metadata": {
	    "collapsed": true
	   },
	   "outputs": [],
"source": [
"clc\n",
"clear\n",
"disp('example 4 20')\n",
"p=160 //kva for transformer \n",
"pf=0.6 //power factor\n",
"el=96 //effective load\n",
"eli=120 //effective load increase\n",
"rc=eli*(tand(acosd(pf))-tand(acosd(eli/p)))\n",
"opf=eli/p\n",
"printf(' required capacitor kVAR %dKVAR \n overall power factor %.2f \n it is seen that point d is on %.2f line',rc,opf,opf)"
   ]
   }
,
{
		   "cell_type": "markdown",
		   "metadata": {},
		   "source": [
			"## Example 4.21: difference_in_annual_fixed_charges_of_consumer_for_change_in_pf.sce"
		   ]
		  },
  {
"cell_type": "code",
	   "execution_count": null,
	   "metadata": {
	    "collapsed": true
	   },
	   "outputs": [],
"source": [
"clc\n",
"clear\n",
"disp('example 4 21')\n",
"md=800 //maximum demand\n",
"pf=0.707 //power factor\n",
"c=80 //cost\n",
"p=200 //power\n",
"e=0.99//efficiency\n",
"pff=0.8 //fulload pf\n",
"ikva=md/pf\n",
"iafc=(round(ikva*100)*(c)/100)\n",
"rsm=ikva*pf\n",
"act=p*(0.7355)/e\n",
"at=-act*sind(acosd(pff))\n",
"tkw=rsm+act\n",
"tkvr=rsm+at\n",
"tkva=(tkw^2+tkvr^2)^0.5\n",
"ikvad=tkva-ikva\n",
"infc=ikvad*c\n",
"printf(' initial kVA %.2fkVA \n initial annual fixed charges Rs%.1f \n after installation of synchronous motor reactive power of induction motor %dkVars\n active power input of synchrounous motor %.2fkW\n reactive power input to synchrounous motor %.2fKVAR \n total kW %.2fKW \n total kVars %.2fkVARS \n total kVA %.2fkVA \n increase in KVA demand %.2fkVA\n increase in annual fixed charges Rs%.1f ',ikva,iafc,rsm,act,at,tkw,tkvr,tkva,ikvad,infc)"
   ]
   }
,
{
		   "cell_type": "markdown",
		   "metadata": {},
		   "source": [
			"## Example 4.22: finding_annual_cost_and_difference_in_annual_cost_in_two_units.sce"
		   ]
		  },
  {
"cell_type": "code",
	   "execution_count": null,
	   "metadata": {
	    "collapsed": true
	   },
	   "outputs": [],
"source": [
"clc\n",
"clear\n",
"disp('example 4 22')\n",
"t=16//working  time\n",
"d=300 //working days\n",
"hv=1;hvmd=50 //tariff on high voltage\n",
"lv=1.1;lvmd=60 //tariff on low voltage\n",
"al=250//avarage load\n",
"pf=0.8//power factor\n",
"md=300 //maximum demand\n",
"hvec=500//cost of hv equipment\n",
"l=0.05 //loss of hv equipment\n",
"id=0.12  //interest and deprecistion\n",
"ter=al*md*t \n",
"mdv=md/pf\n",
"printf(' total energy requirement %2.2ekWH \n maximum demand %dKVA',ter,mdv)\n",
"disp('(a)HV supply')\n",
"chv=mdv*hvec\n",
"idc=chv*id\n",
"ere=ter/(1-l)\n",
"dch=mdv*hvmd\n",
"ech=round(ere*hv/1000)*1000\n",
"tanc=ech+dch+idc\n",
"printf(' cost of HV equipment Rs%e\n interest and depreciation charges Rs%d \n energy received %ekWh\n demand charges Rs%d \n energy charges Rs%2e \n total annual cost Rs%d',chv,idc,ere,dch,ech,tanc)\n",
"disp('(b) LV supply')\n",
"lvdc=mdv*lvmd\n",
"lvec=ter*lv\n",
"lvtac=lvec+lvdc\n",
"lvdac=lvtac-tanc\n",
"printf(' demand charges Rs%d \n energy charges Rs%2.e \n total annual cost Rs%d \n difference in annual cost Rs%d',lvdc,lvec,lvtac,lvdac)"
   ]
   }
,
{
		   "cell_type": "markdown",
		   "metadata": {},
		   "source": [
			"## Example 4.2: total_electricity_bill_per_year.sce"
		   ]
		  },
  {
"cell_type": "code",
	   "execution_count": null,
	   "metadata": {
	    "collapsed": true
	   },
	   "outputs": [],
"source": [
"clc\n",
"clear\n",
"disp('example 4 2')\n",
"l=100;//connected load\n",
"md=80;//maximum demand\n",
"wt=0.6; //working time\n",
"c=6000; //constant cost\n",
"t=700; //cost on per kW\n",
"re=1.8;//rate\n",
"ec=l*wt*8760//electricity consumption per year\n",
"teb=c+md*t+re*ec //total electricity bill per year\n",
"printf(' energy consumption %dkWh \n total electricity bill per year Rs%d',ec,teb)"
   ]
   }
,
{
		   "cell_type": "markdown",
		   "metadata": {},
		   "source": [
			"## Example 4.3: annual_cost_operating_cost_tariff.sce"
		   ]
		  },
  {
"cell_type": "code",
	   "execution_count": null,
	   "metadata": {
	    "collapsed": true
	   },
	   "outputs": [],
"source": [
"clc\n",
"clear\n",
"disp('example 4 3')\n",
"md=160;lff=0.7;dfc=1.7//maximum demand //load factor//diversity factor bt consumers\n",
"ic=200;//installed capacity\n",
"ccp=30000//capital cost of plant per kW\n",
"ctds=1800*10^6 //capital cost of transmission and distribution\n",
"idi=0.11 //interest,depreciation insurance and taxes on capital investiment\n",
"fmc=30*10^6  //fixed managerial and general maintanance cost\n",
"ol=236*10^6 //operating labour,maintanance and suppies\n",
"cm=90*10^6 //cost of metering,billing and collection\n",
"eca=0.05  //energy consumed by auxillary\n",
"el=0.15//energy loss and maintanance\n",
"p=0.25\n",
"lf=0.8//load factor\n",
"ap=0.5 //addition energy for profit\n",
"disp('a')\n",
"printf(' capital cost of plant Rs%e \n total capital cost Rs%e\n interest,depereiation system Rs%e ',ccp*ic*10^3,ccp*ic*10^3+ctds,(ccp*ic*10^3+ctds)*idi)\n",
"printf('\n sum of maximum demand of consumers energy prodused %dMW \n energy produced %ekWh \n energy consumed by auxilliries %ekWh\n energy output %ekWH \n energy sold to consumer %ekWh\n',md*dfc,md*8760*lff*10^3,md*8760*lff*eca*10^3,md*8760*lff*10^3*(1-eca),md*8760*lff*10^3*(1-eca)*(1-el))\n",
"disp('(b)fixed cost')\n",
"idetc=(ccp*ic*10^3+ctds)*idi\n",
"tot=idetc+fmc;\n",
"printf(' interest, deprecition etc Rs%e per year\n managerial and maintence Rs%.eper year \n total \t Rs%e ',idetc,fmc,tot)\n",
"pro=p*tot\n",
"gtot=tot+pro\n",
"printf('\n profit@%d \tRs%eper year \n grand total Rs%e per year',p*100,pro,gtot)\n",
"disp('Operating cost')\n",
"tot2=ol+cm\n",
"pro2=tot2*p\n",
"gtot2=tot2+pro2\n",
"printf(' Operating labour,supplies maintenance etc Rs.%eper year \n metering,billing etc Rs%eper year\n total\t\tRs%e per year\n profit \t Rs%eper year \n grand total \t Rs%e per year',ol,cm,tot2,pro2,gtot2)\n",
"disp('tariff')\n",
"co=gtot/(md*dfc*1000)\n",
"es=md*8760*lff*10^3*(1-eca)*(1-el)\n",
"cs=gtot2/es\n",
"printf(' cost per kW \tRs%e \n cost per kWh \tRs%e',co,cs)\n",
"disp('(b)')\n",
"ep=md*1000*8760*lf\n",
"printf(' energy produced %ekWh \n energy consumed by auxiliaries %ekWh/year \n energy output of plant %ekWh \n energy sold to consumer %ekWh',ep,ep*eca,ep*(1-eca),ep*(1-eca)*(1-el))\n",
"estc=ep*(1-eca)*(1-el)"
   ]
   }
,
{
		   "cell_type": "markdown",
		   "metadata": {},
		   "source": [
			"## Example 4.4: monthly_bill_and_average_tariff_per_kWH.sce"
		   ]
		  },
  {
"cell_type": "code",
	   "execution_count": null,
	   "metadata": {
	    "collapsed": true
	   },
	   "outputs": [],
"source": [
"clc\n",
"clear\n",
"disp('example 4 4')\n",
"v=230;ec=2020;//voltage //energy consumption\n",
"i=40;pf=1;t=2;c=3.5;rc=1.8;mon=30;//current/power factor/time/cost/reamining cost/month\n",
"ecd=v*i*pf*t*mon/1000 //energy corresponding to maximum demand\n",
"cost=ecd*c\n",
"ren=ec-ecd\n",
"rcost=ren*rc\n",
"tmb=cost+rcost\n",
"at=tmb/ec\n",
"printf(' energy corresponding to maximum demand %dkWh \n cost of above energy Rs%d \n remaining energy %dkWh \n cost of reamaining energy Rs%.1f \n total monthly bill Rs.%.1f\n avarage tariff Rs%.3fper kWh',ecd,cost,ren,rcost,tmb,at)"
   ]
   }
,
{
		   "cell_type": "markdown",
		   "metadata": {},
		   "source": [
			"## Example 4.5: better_consumption_per_year.sce"
		   ]
		  },
  {
"cell_type": "code",
	   "execution_count": null,
	   "metadata": {
	    "collapsed": true
	   },
	   "outputs": [],
"source": [
"clc\n",
"clear\n",
"disp('example 4 5')\n",
"t1=3000;t11=0.9 //cost equation \n",
"t2=3; //rate\n",
"x=t1/(t2-t11)\n",
"printf('if energy consumption per month is more than %.1fkWh,\ntariff is more suitable',x)"
   ]
   }
,
{
		   "cell_type": "markdown",
		   "metadata": {},
		   "source": [
			"## Example 4.6: avarage_energy_cost_in_different_case.sce"
		   ]
		  },
  {
"cell_type": "code",
	   "execution_count": null,
	   "metadata": {
	    "collapsed": true
	   },
	   "outputs": [],
"source": [
"clc\n",
"clear\n",
"disp('example 4 6')\n",
"aec=201500 //annual energy consumption\n",
"lf=0.35//load factor constnt\n",
"t=4000//tariff\n",
"tmd=1200//tariff for maximum demand\n",
"t3=2.2\n",
"lfb=0.55 //load factor improved\n",
"ecd=0.25//energy consumption reduced\n",
"md=aec/(8760*lf)\n",
"yb=t+md*tmd+t3*aec\n",
"mdb=aec/(8760*lfb)\n",
"ybb=t+mdb*tmd+t3*aec\n",
"ne=aec*(1-ecd)\n",
"md3=ne/(8760*lf)\n",
"ybc=t+md3*tmd+t3*ne\n",
"aeca=yb/aec\n",
"aecb=ybb/aec\n",
"aecc=ybc/ne\n",
"disp('a')\n",
"printf('maximum demand %.2fkW \n yearly bill Rs.%d per year \n(b)\n maximum demand %.2fkW \n yearly bill Rs.%dper year',md,yb,mdb,ybb)\n",
"disp('c')\n",
"printf(' new energy %dkWh \n maximum demand %.2fkW \n yearly bill Rs.%dper year \n average energy cost in case a Rs%.4fper kWh \n average energy cost in case b Rs%.3fper kWh\n average energy cost in case c Rs%.3fper kWh ',ne,md3,ybc,aeca,aecb,aecc)"
   ]
   }
,
{
		   "cell_type": "markdown",
		   "metadata": {},
		   "source": [
			"## Example 4.7: selection_of_cheeper_transformer.sce"
		   ]
		  },
  {
"cell_type": "code",
	   "execution_count": null,
	   "metadata": {
	    "collapsed": true
	   },
	   "outputs": [],
"source": [
"clc\n",
"clear\n",
"disp('example 4 7')\n",
"pl1=20;pf1=0.8;t1=2000//load in MVA //power factor //duration\n",
"pl2=10;pf2=0.8;t2=1000//load in MVA //power factor //duration\n",
"pl3=2;pf3=0.8;t3=500//load in MVA //power factor //duration\n",
"pt=20 ///transformar power rating\n",
"fte=0.985;ste=0.99 ///full load efficiency for first and second transformer\n",
"ftl=120;stl=90 //core  loss inKW for first and  second transformer\n",
"cst=200000;//cost of second transformer with compared with first transformer\n",
"aid=0.15;//annual  interest and depreciation\n",
"ce=0.8 //cost of energy\n",
"tfl=pt*(1-fte)*1000//total full load\n",
"fle=tfl-ftl //full load copper loss\n",
"elc=fle*t1+(fle*t2/(pt/pl2)^2)+(fle*t3/(pt/pl3)^2) //energy loss due to copper loss\n",
"eli=ftl*(t1+t2+t3)//energy loss due to iron loss\n",
"celo=(elc+eli)*ce //cost of energy loss\n",
"disp('   first transformer')\n",
"printf(' total full load losses %dkW \n full load copper losses %dkW \n energy loss due to copper losses %dkWh/year\n energy loss due to iron losses %dkWh/year \n cost of energy losses Rs%dper year',tfl,fle,elc,eli,celo)\n",
"stfl=pt*(1-ste)*1000//total full load\n",
"sle=stfl-stl//full load copper loss\n",
"selc=sle*t1+(sle*t2/(pt/pl2)^2)+(sle*t3/(pt/pl3)^2)//energy loss due to copper loss\n",
"seli=stl*(t1+t2+t3)//energy loss due to iron loss\n",
"scelo=(selc+seli)*ce//cost of energy loss\n",
"disp('   second transformer')\n",
"printf(' total full load losses %dkW \n full load copper losses %dkW \n energy loss due to copper losses %dkWh/year\n energy loss due to iron losses %dkWh/year \n cost of energy losses Rs%dper year',stfl,sle,selc,seli,scelo)\n",
"aidc=stfl*aid*1000\n",
"tybc=aidc+scelo\n",
"printf('additional interest and depreciation due to higher cost of second transformer Rs%d \n total yearly charges for second transformer Rs%d per year',aidc,tybc)"
   ]
   }
,
{
		   "cell_type": "markdown",
		   "metadata": {},
		   "source": [
			"## Example 4.8: most_economical_power_factor_and_rating_of_capacitor_bank.sce"
		   ]
		  },
  {
"cell_type": "code",
	   "execution_count": null,
	   "metadata": {
	    "collapsed": true
	   },
	   "outputs": [],
"source": [
"clc\n",
"clear\n",
"disp('example 4 8')\n",
"p=500 //load\n",
"pf=0.8//power factor\n",
"t=400 //tariff\n",
"md=100 //maximum demand tariff\n",
"ccb=600 //cost of capacitor bank\n",
"id=0.11//interest and deprecistion\n",
"sd=ccb*id/t//sin(ph2)\n",
"d2=asind(sd)\n",
"pf2=cosd(d2)\n",
"kva=p*(tand(acosd(pf))-tand(d2))\n",
"printf(' the most economic power factor %.3f lagging \n kvar requirement %.2fkVAR',pf2,kva)"
   ]
   }
,
{
		   "cell_type": "markdown",
		   "metadata": {},
		   "source": [
			"## Example 4.9: maximum_load_at_unity_power_factor_which_can_be_supplied_by_this_substation.sce"
		   ]
		  },
  {
"cell_type": "code",
	   "execution_count": null,
	   "metadata": {
	    "collapsed": true
	   },
	   "outputs": [],
"source": [
"clc\n",
"clear\n",
"disp('example 4 9')\n",
"l1=300;//load and power factor for three different loads\n",
"pf1=1;\n",
"l2=1000;\n",
"pf2=0.9;\n",
"l3=1500;\n",
"pf3=0.8\n",
"printf(' for %dkW unit power factor load \n power factor angle %.f\n reactive power %.fkvr',l1,acosd(pf1),l1*(tand(acosd(pf1))))\n",
"printf(' \nfor %dkW unit power factor load \n power factor angle %.2f\n reactive power %.2fkvr',l2,acosd(pf2),l2*(tand(acosd(pf2))))\n",
"printf(' \nfor %dkW unit power factor load \n power factor angle %.2f\n reactive power %.2fkvr',l3,acosd(pf3),l3*(tand(acosd(pf3))))\n",
"tl=l1+l2+l3\n",
"tt=l3*(tand(acosd(pf3)))+l2*(tand(acosd(pf2)))+l1*(tand(acosd(pf1)))\n",
"printf('\n total kW \t%dkW\n total kVAR %.1fkVAR \n total kVA %.2fkVA \n overall power factor %.3flagging',tl,tt,(tl^2+tt^2)^0.5,tl/(tl^2+tt^2)^0.5)\n",
"printf('\n the maximum unity power factor load which yhe station can supply is equal to the kVA i.e.%.2fkVR',(tl^2+tt^2)^0.5)"
   ]
   }
],
"metadata": {
		  "kernelspec": {
		   "display_name": "Scilab",
		   "language": "scilab",
		   "name": "scilab"
		  },
		  "language_info": {
		   "file_extension": ".sce",
		   "help_links": [
			{
			 "text": "MetaKernel Magics",
			 "url": "https://github.com/calysto/metakernel/blob/master/metakernel/magics/README.md"
			}
		   ],
		   "mimetype": "text/x-octave",
		   "name": "scilab",
		   "version": "0.7.1"
		  }
		 },
		 "nbformat": 4,
		 "nbformat_minor": 0
}
