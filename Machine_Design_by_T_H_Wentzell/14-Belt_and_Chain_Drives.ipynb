{
"cells": [
 {
		   "cell_type": "markdown",
	   "metadata": {},
	   "source": [
       "# Chapter 14: Belt and Chain Drives"
	   ]
	},
{
		   "cell_type": "markdown",
		   "metadata": {},
		   "source": [
			"## Example 14.1: Calculation_of_Front_Force_Net_Driving_Force_Force_on_Shaft_etc.sce"
		   ]
		  },
  {
"cell_type": "code",
	   "execution_count": null,
	   "metadata": {
	    "collapsed": true
	   },
	   "outputs": [],
"source": [
"clc;\n",
"clear;\n",
"mprintf('MACHINE DESIGN \n Timothy H. Wentzell, P.E. \n EXAMPLE-14.1 Page No.306\n');\n",
"//Torque on small pulley\n",
"hp=2;\n",
"n=2450;\n",
"T=63000*hp/n;\n",
"mprintf('\n Torque on small pulley = %f in-lb.',T);\n",
"r=6/2;\n",
"Fd=T/r;\n",
"//Front force\n",
"Fb=10;\n",
"Ff=Fd+Fb;\n",
"mprintf('\n Front force = %f lb.',Ff);\n",
"//Force pulling the shafts\n",
"Ft=Ff+Fb\n",
"mprintf('\n Force pulling the shafts = %f lb.',Ft);\n",
"//Surface speed\n",
"D=2*r;\n",
"Vm=%pi*D*n/12;\n",
"mprintf('\n Surface speed = %f ft/min.',Vm);\n",
"//Ratio\n",
"D2=10;\n",
"Mw=D2/D;\n",
"mprintf('\n Ratio = %f .',Mw);\n",
"//Output speed\n",
"no=n/Mw;\n",
"mprintf('\n Output speed = %f rpm.',no);\n",
"//Note-There is an error in the answer given in textbook"
   ]
   }
,
{
		   "cell_type": "markdown",
		   "metadata": {},
		   "source": [
			"## Example 14.2: Calculation_of_Angle_of_Contact_Length_of_Belt_Ratio_and_Surface_Speed_etc.sce"
		   ]
		  },
  {
"cell_type": "code",
	   "execution_count": null,
	   "metadata": {
	    "collapsed": true
	   },
	   "outputs": [],
"source": [
"clc;\n",
"clear;\n",
"mprintf('MACHINE DESIGN \n Timothy H. Wentzell, P.E. \n EXAMPLE-14.2 Page No.310\n');\n",
"//Length of belt\n",
"C=19;\n",
"D1=4;\n",
"D2=6;\n",
"L1=2*C+1.57*(D1+D2)+(D2-D1)^2/(4*C);\n",
"//Assuming a 54-inch belt is available\n",
"L=54;\n",
"mprintf('\n Length of belt = %f in.',L);\n",
"//Centerline distance\n",
"B=4*L-6.28*(D2+D1);\n",
"C=(B+sqrt(B^2-32*(D2-D1)^2))/16;\n",
"mprintf('\n Centerline distance = %f in.',C);\n",
"//Ratio\n",
"Mw=D2/D1;\n",
"mprintf('\n Ratio = %f.',Mw);\n",
"//Surface speed\n",
"n=1800;\n",
"Vm=%pi*D1*n/12;\n",
"mprintf('\n Surface speed = %f ft/min.',Vm);\n",
"//Angle of contact\n",
"theta=180-2*(180/%pi)*asin((D2-D1)/(2*C));\n",
"mprintf('\n Angle of contact = %f deg.',theta);"
   ]
   }
,
{
		   "cell_type": "markdown",
		   "metadata": {},
		   "source": [
			"## Example 14.3: V_Belts.sce"
		   ]
		  },
  {
"cell_type": "code",
	   "execution_count": null,
	   "metadata": {
	    "collapsed": true
	   },
	   "outputs": [],
"source": [
"clc;\n",
"clear;\n",
"mprintf('MACHINE DESIGN \n Timothy H. Wentzell, P.E. \n EXAMPLE-14.3 Page No.315\n');\n",
"//Power rating of belt\n",
"P1=27+2.98;\n",
"SF=1.5;\n",
"P=P1/SF;\n",
"P=round(P);\n",
"mprintf('\n Power rating = %f hp.',P);\n",
"//Length of belt\n",
"C=20;\n",
"D1=8;\n",
"D2=16;\n",
"L1=2*C+1.57*(D1+D2)+(D2-D1)^2/(4*C);\n",
"//Use an 80-inch belt\n",
"L=80;\n",
"mprintf('\n Length of belt = %f in.',L);"
   ]
   }
,
{
		   "cell_type": "markdown",
		   "metadata": {},
		   "source": [
			"## Example 14.4: Chain_Drive.sce"
		   ]
		  },
  {
"cell_type": "code",
	   "execution_count": null,
	   "metadata": {
	    "collapsed": true
	   },
	   "outputs": [],
"source": [
"clc;\n",
"clear;\n",
"mprintf('MACHINE DESIGN \n Timothy H. Wentzell, P.E. \n EXAMPLE-14.4 Page No.321\n');\n",
"P=5.31;\n",
"mprintf('\n Horsepower rating = %f hp.',P);\n",
"Nti=12;\n",
"N1=1800;\n",
"N2=900;\n",
"//Output sprocket\n",
"Nto=(N1/N2)*Nti;\n",
"mprintf('\n Number of tooth on output sprocket = %f.',Nto);\n",
"//Surface speed\n",
"Pc=0.5;\n",
"D1=Pc*Nti/%pi;\n",
"n=1800;\n",
"Vm=%pi*D1*n/12;\n",
"mprintf('\n Surface speed = %f ft/min.',Vm);\n",
"mprintf('\n Type of lubrication - Bath or disc lubrication');\n",
"//Length of chain\n",
"C=10;\n",
"D2=Pc*Nto/%pi;\n",
"L1=2*C+1.57*(D1+D2)+(D2-D1)^2/(4*C);\n",
"//Use 29 or 30 inch chain\n",
"L=30;\n",
"mprintf('\n Length of chain = %f in.', L);\n",
"hp=5.31;\n",
"T=63000*hp/n;\n",
"F=2*T/D1;\n",
"mprintf('\n Force in chain = %f lb.',F);\n",
"//Comparism with ultimate strength 3700 lb - not a valid comparison because of speed etc."
   ]
   }
],
"metadata": {
		  "kernelspec": {
		   "display_name": "Scilab",
		   "language": "scilab",
		   "name": "scilab"
		  },
		  "language_info": {
		   "file_extension": ".sce",
		   "help_links": [
			{
			 "text": "MetaKernel Magics",
			 "url": "https://github.com/calysto/metakernel/blob/master/metakernel/magics/README.md"
			}
		   ],
		   "mimetype": "text/x-octave",
		   "name": "scilab",
		   "version": "0.7.1"
		  }
		 },
		 "nbformat": 4,
		 "nbformat_minor": 0
}
