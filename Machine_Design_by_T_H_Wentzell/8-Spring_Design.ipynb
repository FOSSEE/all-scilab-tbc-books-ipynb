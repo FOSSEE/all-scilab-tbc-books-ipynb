{
"cells": [
 {
		   "cell_type": "markdown",
	   "metadata": {},
	   "source": [
       "# Chapter 8: Spring Design"
	   ]
	},
{
		   "cell_type": "markdown",
		   "metadata": {},
		   "source": [
			"## Example 8.1: Design_of_Helical_Compression_Spring.sce"
		   ]
		  },
  {
"cell_type": "code",
	   "execution_count": null,
	   "metadata": {
	    "collapsed": true
	   },
	   "outputs": [],
"source": [
"clc;\n",
"clear;\n",
"mprintf('MACHINE DESIGN \n Timothy H. Wentzell, P.E. \n EXAMPLE-8.1 Page No.160\n');\n",
"Dm=0.625;            //[in] Mean diameter of spring\n",
"F=35;              //[lb] Load\n",
"K=1.25;           //[] Wahl factor for Dm/Dw=6.25 (figure 8.8)\n",
"Q=190000;         //[lb/in^2] Expected ultimate strength \n",
"LF=0.263;         //[] Loading factor\n",
"Dw=(K*8*F*Dm/(LF*%pi*Q))^(1/2.846); //[in] Wire diameter\n",
"mprintf('\n The wire diameter of spring is %f in.',Dw);\n",
"//Use U.S Steel 12-gage wire: Dw=0.105 in."
   ]
   }
,
{
		   "cell_type": "markdown",
		   "metadata": {},
		   "source": [
			"## Example 8.2: Determination_of_number_of_coils.sce"
		   ]
		  },
  {
"cell_type": "code",
	   "execution_count": null,
	   "metadata": {
	    "collapsed": true
	   },
	   "outputs": [],
"source": [
"clc;\n",
"clear;\n",
"mprintf('MACHINE DESIGN \n Timothy H. Wentzell, P.E. \n EXAMPLE-8.2 Page No.163\n');\n",
"Dw=0.105;          //[in] Wire diameter\n",
"Dm=0.620;          //[in] Mean diameter of spring\n",
"F=35;              //[lb] Load\n",
"G=11.85*10^6;      //[lb/in^2] Shear modulus of elasticity\n",
"Delta=0.5;         //[in] Deflection\n",
"Na=Delta*G*Dw^4/(8*F*Dm^3); //[] Number of active coils\n",
"Nat=Na+2;          //[] Total number of coils\n",
"Lf=2;              //[in] Free length of spring\n",
"P=(Lf-2*Dw)/Nat;   //[in] Pitch (Table 8.1)\n",
"mprintf('\n Pitch is %f in.',P);\n",
"k=G*Dw^4/(8*Dm^3*Na); //[lb/in] Spring rate\n",
"mprintf('\n Spring rate is %f lb/in.',k);\n",
"mprintf('\n The total number of coils necessary to meet design criteria are %f.',Nat);\n",
"//Note: The deviation of answer from the answer given in the book is due to round off error.(In the book values are rounded while in scilab actual values are taken)\n",
"//Note: The deviation of answer from the answer given in the book is due to round off error.(In the book values are rounded while in scilab actual values are taken)"
   ]
   }
,
{
		   "cell_type": "markdown",
		   "metadata": {},
		   "source": [
			"## Example 8.3: Stability_of_Spring.sce"
		   ]
		  },
  {
"cell_type": "code",
	   "execution_count": null,
	   "metadata": {
	    "collapsed": true
	   },
	   "outputs": [],
"source": [
"clc;\n",
"clear;\n",
"mprintf('MACHINE DESIGN \n Timothy H. Wentzell, P.E. \n EXAMPLE-8.3 Page No.165\n');\n",
"Lf=2;            //[in] Free length of spring\n",
"Dm=0.620;        //[in] Mean diameter of spring\n",
"R=Lf/Dm;         //[] Free lengtth to mean diameter ratio\n",
"mprintf('\n The ratio of the free length of spring to mean diameter of spring is %f.',R);\n",
"mprintf(' From Figure 8.9 for squared and ground ends, this is a stable spring.');"
   ]
   }
,
{
		   "cell_type": "markdown",
		   "metadata": {},
		   "source": [
			"## Example 8.4: Deflection_of_Spring.sce"
		   ]
		  },
  {
"cell_type": "code",
	   "execution_count": null,
	   "metadata": {
	    "collapsed": true
	   },
	   "outputs": [],
"source": [
"clc;\n",
"clear;\n",
"mprintf('MACHINE DESIGN \n Timothy H. Wentzell, P.E. \n EXAMPLE-8.4 Page No.165\n');\n",
"F=35;              //[lb] Load\n",
"k=73.3;            //[lb/in] Spring rate\n",
"x=F/k;             //[in] Deflection \n",
"mprintf('\n The deflection in the spring would be %f in.',x);"
   ]
   }
,
{
		   "cell_type": "markdown",
		   "metadata": {},
		   "source": [
			"## Example 8.5: Flat_Springs.sce"
		   ]
		  },
  {
"cell_type": "code",
	   "execution_count": null,
	   "metadata": {
	    "collapsed": true
	   },
	   "outputs": [],
"source": [
"clc;\n",
"clear;\n",
"mprintf('MACHINE DESIGN \n Timothy H. Wentzell, P.E. \n EXAMPLE-8.5 Page No.166\n');\n",
"b=12;                  //[in] Width of plate\n",
"h=1;                   //[in] Thickness of plate\n",
"L=72;                  //[in] Length of plate\n",
"I=b*h^3/12;            //[in^4] Moment of inertia\n",
"Delta=4;               //[in] Deflection\n",
"E=10*10^6;             //[lb/in^2] Modulus of elasticity\n",
"F=3*Delta*E*I/L^3;     //[lb] Force\n",
"mprintf('\n The force at this point is %f lb.',F);\n",
"k=F/Delta;             //[lb/in] Stiffness\n",
"mprintf('\n stiffness is %f lb/in.',k);\n",
"//Note: The deviation of answer from the answer given in the book is due to round off error.(In the book values are rounded while in scilab actual values are taken)\n",
"//Note: The deviation of answer from the answer given in the book is due to round off error.(In the book values are rounded while in scilab actual values are taken)"
   ]
   }
,
{
		   "cell_type": "markdown",
		   "metadata": {},
		   "source": [
			"## Example 8.6: Energy_from_Deflection.sce"
		   ]
		  },
  {
"cell_type": "code",
	   "execution_count": null,
	   "metadata": {
	    "collapsed": true
	   },
	   "outputs": [],
"source": [
"clc;\n",
"clear;\n",
"mprintf('MACHINE DESIGN \n Timothy H. Wentzell, P.E. \n EXAMPLE-8.6 Page No.167\n');\n",
"F=322;             //[lb] Force\n",
"Delta=4;           //[in] Deflection\n",
"U=F*Delta/2;       //[in*lb] Energy\n",
"mprintf('\n The energy from the 4-inch deflection was %f lb*in.',U);"
   ]
   }
],
"metadata": {
		  "kernelspec": {
		   "display_name": "Scilab",
		   "language": "scilab",
		   "name": "scilab"
		  },
		  "language_info": {
		   "file_extension": ".sce",
		   "help_links": [
			{
			 "text": "MetaKernel Magics",
			 "url": "https://github.com/calysto/metakernel/blob/master/metakernel/magics/README.md"
			}
		   ],
		   "mimetype": "text/x-octave",
		   "name": "scilab",
		   "version": "0.7.1"
		  }
		 },
		 "nbformat": 4,
		 "nbformat_minor": 0
}
