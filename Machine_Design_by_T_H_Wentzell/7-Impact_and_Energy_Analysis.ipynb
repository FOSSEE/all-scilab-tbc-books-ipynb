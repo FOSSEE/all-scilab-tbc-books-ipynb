{
"cells": [
 {
		   "cell_type": "markdown",
	   "metadata": {},
	   "source": [
       "# Chapter 7: Impact and Energy Analysis"
	   ]
	},
{
		   "cell_type": "markdown",
		   "metadata": {},
		   "source": [
			"## Example 7.1: Impact_Energy.sce"
		   ]
		  },
  {
"cell_type": "code",
	   "execution_count": null,
	   "metadata": {
	    "collapsed": true
	   },
	   "outputs": [],
"source": [
"clc;\n",
"clear;\n",
"mprintf('MACHINE DESIGN \n Timothy H. Wentzell, P.E. \n EXAMPLE-7.1 Page No.137\n');\n",
"D=2;                  //[in] Diameter of bar\n",
"W=500;                //[lb] Weight\n",
"h=1;                  //[in] Height from which the weight falls\n",
"A=%pi*D^2/4;          //[in^2] Area of cross section of bar\n",
"L=10;                 //[in] Length of bar\n",
"E=30*10^6;            //[lb/in^2] Modulus of elasticity\n",
"S=(W/A)+(W/A)*(1+(2*h*E*A/(L*W)))^(0.5);  //[lb/in^2] Stress in the bar\n",
"mprintf('\n Stress in the bar is %f lb/in^2.',S);\n",
"Delta=S*L/E;          //[in] Deflection\n",
"mprintf('\n Deflecton in the bar is %f in.',Delta);"
   ]
   }
,
{
		   "cell_type": "markdown",
		   "metadata": {},
		   "source": [
			"## Example 7.2: Velocity_and_Impact.sce"
		   ]
		  },
  {
"cell_type": "code",
	   "execution_count": null,
	   "metadata": {
	    "collapsed": true
	   },
	   "outputs": [],
"source": [
"clc;\n",
"clear;\n",
"mprintf('MACHINE DESIGN \n Timothy H. Wentzell, P.E. \n EXAMPLE-7.2 Page No.139\n');\n",
"W=2000;             //[lb] Weight of automobile\n",
"L=36;               //[in] Length of stop\n",
"D=2;                //[in] Diameter of steel bar\n",
"V=5*5280*12/3600;   //[in/s] Velocity of automobile\n",
"A=%pi*D^2/4;        //[in^2] Area of cross section of bar\n",
"E=30*10^6;          //[lb/in^2] Modulus of elasticity\n",
"k=A*E/L;            //[lb/in] Stiffness of the bar\n",
"g=386;              //[in/s^2] Acceleration due to gravity\n",
"Delta=sqrt(2/k*W*(V^2/(2*g)+0));  //[in] Deflection\n",
"mprintf('\n The deflection in the bar is %f in.',Delta);\n",
"S=Delta*E/L;        //[in] Stress in the bar\n",
"//Note-In the book Delta=0.124 is used instead of Delta=0.123800\n",
"mprintf('\n The stress in the bar is %f lb/in^2.',S);"
   ]
   }
,
{
		   "cell_type": "markdown",
		   "metadata": {},
		   "source": [
			"## Example 7.3: Impact_on_Beam.sce"
		   ]
		  },
  {
"cell_type": "code",
	   "execution_count": null,
	   "metadata": {
	    "collapsed": true
	   },
	   "outputs": [],
"source": [
"clc;\n",
"clear;\n",
"mprintf('MACHINE DESIGN \n Timothy H. Wentzell, P.E. \n EXAMPLE-7.3 Page No.141\n');\n",
"W=3000;                //[lb] Weight of automobile\n",
"L=40*12;               //[in] Length of the beam\n",
"I=64.2;                //[in^4] Moment of inertia of the beam\n",
"Sy=48000;              //[lb/in^2] Yield strength of the beam\n",
"c=8/2;                 //[in] Distance from the outermost fiber to neutral axis\n",
"E=30*10^6;             //[lb/in^2] Modulus of elasticity\n",
"g=32.2;                //[ft/s^2] Acceleration due to gravity\n",
"M=I*Sy/c;              //[lb*in] Moment at which beam will yield\n",
"F=4*M/L;               //[lb] Force at which beam will yield\n",
"Delta=F*L^3/(48*E*I);  //[in] Deflection\n",
"KE=F*Delta/2;          //[lb*in] Kinetic energy\n",
"V=sqrt(2*g*KE/W);      //[in/s] Velocity\n",
"V=V/5280*3600;         //[miles/hr] Velocity\n",
"mprintf('\n At %f miles/hr velocity the beam will yield.',V);"
   ]
   }
,
{
		   "cell_type": "markdown",
		   "metadata": {},
		   "source": [
			"## Example 7.4: Designing_for_Impact.sce"
		   ]
		  },
  {
"cell_type": "code",
	   "execution_count": null,
	   "metadata": {
	    "collapsed": true
	   },
	   "outputs": [],
"source": [
"clc;\n",
"clear;\n",
"mprintf('MACHINE DESIGN \n Timothy H. Wentzell, P.E. \n EXAMPLE-7.4 Page No.143\n');\n",
"D=3/4;                //[in] Diameter of the bolt\n",
"At=0.334;             //[in^2] Area of thread\n",
"As=%pi*D^2/4;         //[in^2] Area of shank\n",
"//Note-In the book As=0.442 in^2 is used instead of As=0.4417865 in.\n",
"E=30*10^6;            //[lb/in^2] Modulus of elasticity\n",
"Lt=2;                 //[in] Length of the thread\n",
"Ls=6;                 //[in] Length of the shank\n",
"h=0.03;               //[in] Height from which the weight falls\n",
"W=500;                //[lb] Falling load\n",
"Kt=At*E/Lt;           //[lb/in] Stiffness of threaded portion\n",
"Ks=As*E/Ls;           //[lb/in] Stiffness of shank\n",
"K=Kt*Ks/(Kt+Ks);      //[lb/in] Overall stiffness\n",
"Delta=(W/K)+(W/K)*sqrt(1+2*h*K/W); //[in] Deflection\n",
"A=[Ls/E, Lt/E; 0.442, -0.334];\n",
"b=[Delta; 0];\n",
"S=A\b;\n",
"S=max(S);            //[lb/in^2] Maximum stress in the bolt\n",
"//Note-In the book Delta=0.0048 in is used instead of Delta=0.0047619 in.\n",
"mprintf('\n The maximum stress in this bolt is %f lb/in^2.',S);\n",
"Ln=8;               //[in] Length when shank has same area as threads\n",
"Kn=At*E/Ln;         //[lb/in] Stiffness\n",
"Deltan=(W/Kn)+(W/Kn)*sqrt(1+2*h*Kn/W);  //[in] Deflection\n",
"S=Deltan*E/Ln;      //[ln/in^2] Stress\n",
"mprintf('\n If shank has the same area as threads then stress is %f lb/in^2 and deflection is %f in.',S,Deltan);"
   ]
   }
],
"metadata": {
		  "kernelspec": {
		   "display_name": "Scilab",
		   "language": "scilab",
		   "name": "scilab"
		  },
		  "language_info": {
		   "file_extension": ".sce",
		   "help_links": [
			{
			 "text": "MetaKernel Magics",
			 "url": "https://github.com/calysto/metakernel/blob/master/metakernel/magics/README.md"
			}
		   ],
		   "mimetype": "text/x-octave",
		   "name": "scilab",
		   "version": "0.7.1"
		  }
		 },
		 "nbformat": 4,
		 "nbformat_minor": 0
}
