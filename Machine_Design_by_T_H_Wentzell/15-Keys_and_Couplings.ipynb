{
"cells": [
 {
		   "cell_type": "markdown",
	   "metadata": {},
	   "source": [
       "# Chapter 15: Keys and Couplings"
	   ]
	},
{
		   "cell_type": "markdown",
		   "metadata": {},
		   "source": [
			"## Example 15.1: Design_of_Keys.sce"
		   ]
		  },
  {
"cell_type": "code",
	   "execution_count": null,
	   "metadata": {
	    "collapsed": true
	   },
	   "outputs": [],
"source": [
"clc;\n",
"clear;\n",
"mprintf('MACHINE DESIGN \n Timothy H. Wentzell, P.E. \n EXAMPLE-15.1 Page No.332\n');\n",
"//Torque\n",
"P=5;\n",
"n=1750;\n",
"T=63000*P/n;\n",
"mprintf('\n Torque = %f in-lb.',T);\n",
"//Length of key for shear\n",
"Su=61000;\n",
"Ss=0.5*Su;\n",
"b=0.125;\n",
"D=0.5;\n",
"Ls1=2*T/(Ss*b*D);\n",
"SF=2.5;\n",
"Ls=SF*Ls1;\n",
"mprintf('\n Length of key for shear = %f in.',Ls);\n",
"//Length of key for compression\n",
"Sc=51000;\n",
"t=0.125;\n",
"Lc1=4*T/(Sc*t*D);\n",
"Lc=SF*Lc1;\n",
"mprintf('\n Length of key for compression = %f in.',Lc);"
   ]
   }
,
{
		   "cell_type": "markdown",
		   "metadata": {},
		   "source": [
			"## Example 15.2: Splines.sce"
		   ]
		  },
  {
"cell_type": "code",
	   "execution_count": null,
	   "metadata": {
	    "collapsed": true
	   },
	   "outputs": [],
"source": [
"clc;\n",
"clear;\n",
"mprintf('MACHINE DESIGN \n Timothy H. Wentzell, P.E. \n EXAMPLE-15.2 Page No.335\n');\n",
"//Torque capacity\n",
"Ss=30500;\n",
"D=1;\n",
"L=2;\n",
"T1=Ss*%pi*D^2*L/16;\n",
"SF=2;\n",
"T=T1/SF;\n",
"mprintf('\n Torque capacity 1 = %f in-lb.',T);\n",
"n=6;\n",
"d=0.81;\n",
"A=(D-d)*L*n/2;\n",
"S=1000;\n",
"rm=(1+0.810)/4;\n",
"T2=S*A*rm;\n",
"mprintf('\n Torque capacity 2 = %f in-lb.',T2);"
   ]
   }
],
"metadata": {
		  "kernelspec": {
		   "display_name": "Scilab",
		   "language": "scilab",
		   "name": "scilab"
		  },
		  "language_info": {
		   "file_extension": ".sce",
		   "help_links": [
			{
			 "text": "MetaKernel Magics",
			 "url": "https://github.com/calysto/metakernel/blob/master/metakernel/magics/README.md"
			}
		   ],
		   "mimetype": "text/x-octave",
		   "name": "scilab",
		   "version": "0.7.1"
		  }
		 },
		 "nbformat": 4,
		 "nbformat_minor": 0
}
