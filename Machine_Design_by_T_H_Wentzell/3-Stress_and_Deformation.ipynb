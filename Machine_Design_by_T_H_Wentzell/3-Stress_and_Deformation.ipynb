{
"cells": [
 {
		   "cell_type": "markdown",
	   "metadata": {},
	   "source": [
       "# Chapter 3: Stress and Deformation"
	   ]
	},
{
		   "cell_type": "markdown",
		   "metadata": {},
		   "source": [
			"## Example 3.1: Stress_and_Deflection_under_Compressive_Axial_Load.sce"
		   ]
		  },
  {
"cell_type": "code",
	   "execution_count": null,
	   "metadata": {
	    "collapsed": true
	   },
	   "outputs": [],
"source": [
"clc;\n",
"clear;\n",
"mprintf('MACHINE DESIGN \n Timothy H. Wentzell, P.E. \n EXAMPLE-3.1   Page No-41 \n');\n",
"F=20000;               //[lb] Load applied to steel bar\n",
"L=6;                   //[in] Length of steel bar\n",
"d=1;                   //[in] Diameter of steel bar\n",
"A=%pi*(d^2)/4;         //[in^2] Area of cross section of steel bar\n",
"E=30*10^6;             //[lb/in^2] Modulus of elasticity for AISI 1020 hot-rolled steel\n",
"Sy=30000;              //[lb/in^2] Yield limit\n",
"S=F/A;                 //[lb/in^2] Stress in bar\n",
"mprintf('\na. Stress in bar=%f lb/in^2.',S);\n",
"delta=F*L/(A*E);       //[in] Change in length of bar\n",
"mprintf('\nb. bar shorten by %f in.',delta);\n",
"if Sy>S then\n",
"    mprintf('\nc. The stress of %f psi is less than Sy of %f psi, so it will\n   return to its original size because the yield limit was not exceeded.',S,Sy);\n",
"else \n",
"    mprintf('The bar will not return to its original length')\n",
"end\n",
"//Note: The deviation of answer from the answer given in the book is due to round off error.(In the book values are rounded while in scilab actual values are taken)"
   ]
   }
,
{
		   "cell_type": "markdown",
		   "metadata": {},
		   "source": [
			"## Example 3.2: Stress_and_Deflection_due_to_Bending.sce"
		   ]
		  },
  {
"cell_type": "code",
	   "execution_count": null,
	   "metadata": {
	    "collapsed": true
	   },
	   "outputs": [],
"source": [
"clc;\n",
"clear;\n",
"mprintf('MACHINE DESIGN \n Timothy H. Wentzell, P.E. \n EXAMPLE-3.2 Page No.43\n');\n",
"b=2;                      //[in] Width of beam\n",
"h=2;                      //[in] Height of beam\n",
"I=(b*h^3)/12;             //[in^4] Moment of inertia\n",
"F=3000;                   //[lb] Load applied to beam\n",
"L=36;                     //[in] Length of beam\n",
"c=1;                      //[in] Distance of outer most fiber from neutral axis\n",
"E=30*10^6;                //[lb/in^2] Modulus of elasticity\n",
"Sy=30000;                 //[lb/in^2] Yield strength\n",
"Su=55000;                 //[lb/in^2] Ultimate strength\n",
"SF=2;                     //[] Safety factor based on ultimate stress\n",
"M=F*L/4;                  //[lb*in] Bending moment\n",
"S=(M/I)*c;                //[lb/in^2] Bending stress\n",
"//Note-In the book I=1.33 in^4 is used instead of I=1.3333333 in^2\n",
"mprintf('\na. The maximum stress in beam is %f lb/in^2',S);\n",
"delta=-F*L^3/(48*E*I);     //[in] Maximum deflection in this beam\n",
"mprintf('\nb. The maximum deflection in this beam is %f in.',delta);\n",
"if Sy>S then\n",
"    mprintf('\nc. Yes, the stress of %f lb/in^2 is less than the yield of Sy=%f lb/in^2.',S,Sy);\n",
"else\n",
"    mprintf('\nc. No, the stress of %f lb/in^2 is greater than the yield of Sy=%f lb/in^2',S,Sy);\n",
"end\n",
"Sall=Su/SF;                //[lb/in^2] Allowable stress\n",
"if Sall>S then\n",
"    mprintf('\nd. It is acceptable because allowable stress is greater than the acttual stress of %f lb/in^2.',S);\n",
"else\n",
"    mprintf('\nd. Design is not acceptable because allowable stress is less than the actual stress of %f lb/in^2.',S)\n",
"end\n",
"//Note: The deviation of answer from the answer given in the book is due to round off error.(In the book values are rounded while in scilab actual values are taken)"
   ]
   }
,
{
		   "cell_type": "markdown",
		   "metadata": {},
		   "source": [
			"## Example 3.3: Shear_Stress.sce"
		   ]
		  },
  {
"cell_type": "code",
	   "execution_count": null,
	   "metadata": {
	    "collapsed": true
	   },
	   "outputs": [],
"source": [
"clc;\n",
"clear;\n",
"mprintf('MACHINE DESIGN \n Timothy H. Wentzell, P.E. \n EXAMPLE-3.3 Page No.45\n');\n",
"Su=80*10^3;          //[lb/in^2] Ultimate strength\n",
"d=0.5;               //[in] Diameter of pin\n",
"As=%pi*d^2/4;        //[in^2] Area of cross section of pin\n",
"F=20*10^3;           //[lb] Load acting\n",
"Ss=F/(2*As);         //[lb/in^2] Shear stress\n",
"if 0.5*Su>=Ss & 0.6*Su>=Ss then\n",
"    mprintf('Pin would not fail');\n",
"else\n",
"    mprintf('\n Actual stress is too high and the pin would fail.');\n",
"end"
   ]
   }
,
{
		   "cell_type": "markdown",
		   "metadata": {},
		   "source": [
			"## Example 3.4: Torsional_Shear_Stress.sce"
		   ]
		  },
  {
"cell_type": "code",
	   "execution_count": null,
	   "metadata": {
	    "collapsed": true
	   },
	   "outputs": [],
"source": [
"clc;\n",
"clear;\n",
"mprintf('MACHINE DESIGN \n Timothy H. Wentzell, P.E. \n EXAMPLE-3.4 Page No.46\n');\n",
"hp=10;             //[hp] Power transmitted\n",
"rpm=1750;          //[rpm] Turning speed\n",
"d=0.5;             //[in] Diameter of shaft\n",
"L=12;              //[in] Length of shaft\n",
"G=11.5*10^6        //[lb/in^2] shear modulus of elasticity\n",
"Su=62000;          //[lb/in^2] \n",
"T=63000*hp/rpm;    //[in*lb] Torque transmitted\n",
"Z=%pi*d^3/16;      //[in^3] Polar section modulus\n",
"Ss=T/Z;            //[lb/in^2] Torsional shear stress\n",
"//Note- In the book Z=0.025 in^3 is used instead of Z=0.0245437 in^3\n",
"mprintf('\na. Stress in the shaft is %f lb/in^2.',Ss)\n",
"J=%pi*d^4/32;      //[in^4] Polar moment of inertia\n",
"theta=T*L/(J*G);   //[radians] \n",
"//Note- In the book J=0.0061 in^4 is used instead of J=0.0061359 in^4\n",
"mprintf('\nb. The angular deflection of shaft would be %f radians',theta);\n",
"SF=3;               //[] Safety factor based on ultimate strength\n",
"Zd=T/(0.5*Su/SF);   //[in^3] Polar section modulus required for SF=3\n",
"Dd=(16*Zd/%pi)^(1/3); //[in] Diameter of shaft required Z=%pi*d^3/16\n",
"mprintf('\nc. Diameter of shaft required is %f in.',Dd);"
   ]
   }
,
{
		   "cell_type": "markdown",
		   "metadata": {},
		   "source": [
			"## Example 3.5: Critical_Load_in_Pinned_End_Column.sce"
		   ]
		  },
  {
"cell_type": "code",
	   "execution_count": null,
	   "metadata": {
	    "collapsed": true
	   },
	   "outputs": [],
"source": [
"clc;\n",
"clear;\n",
"mprintf('MACHINE DESIGN \n Timothy H. Wentzell, P.E. \n EXAMPLE-3.5 Page No.53\n');\n",
"L=30;                      //[in] Length of link\n",
"d=5/8;                     //[in] Diameter of link\n",
"I=%pi*d^4/64;              //[in^4] Moment of inertia\n",
"A=%pi*d^2/4;               //[in^2] Area of cross section\n",
"E=30*10^6;                 //[lb/in^2] Modulus of elasticity\n",
"r=sqrt(I/A);               //[in] Radius of gyration\n",
"mprintf('\n The radius of gyration %f in.',r);\n",
"K=1;                       //[] End support condition factor\n",
"Le=K*L;                    //[in] Effective length\n",
"mprintf('\n Effective length is %f in',Le);\n",
"SR=Le/r;                   //[] Slenderness ratio\n",
"mprintf('\n Slenderness ratio is %f.',SR)\n",
"Sy=42000;                 //[lb/in^2] Yield strength\n",
"Cc=sqrt(2*%pi^2*E/Sy);    //[] Column constant\n",
"mprintf('The column constant is %f.',Cc);\n",
"if SR>Cc then\n",
"    mprintf('\n Slenderness ratio is greater than column constant, so use the euler formula')\n",
"end\n",
"I=%pi*d^4/64;             //[in^4] Moment of inertia\n",
"mprintf('\n The moment of inertia is %f in^4',I);\n",
"Pc=%pi^2*E*I/Le^2;        //[lb] Critical force\n",
"//Note- In the book I=0.0075 in^4 is used instead of I=0.0074901 in^4\n",
"mprintf('\n The critical force is %f lb.',Pc);"
   ]
   }
,
{
		   "cell_type": "markdown",
		   "metadata": {},
		   "source": [
			"## Example 3.6: Critical_Load_in_Fixed_End_Column.sce"
		   ]
		  },
  {
"cell_type": "code",
	   "execution_count": null,
	   "metadata": {
	    "collapsed": true
	   },
	   "outputs": [],
"source": [
"clc;\n",
"clear;\n",
"mprintf('MACHINE DESIGN \n Timothy H. Wentzell, P.E. \n EXAMPLE-3.6 Page No.55\n');\n",
"L=60;                    //[in] Length of column\n",
"Sy=36000;                //[lb/in^2] Yield strength\n",
"SF=2;                    //[]Safty factor\n",
"E=30*10^6;               //[lb/in^2] Modulus of elasticity\n",
"A=2.26;                  //[in^2] Area of cross section (Appendix 5.4)\n",
"I=0.764;                 //[in^4] Moment of inertia (Appendix 5.4)\n",
"r=sqrt(I/A);             //[in] Radius of gyration\n",
"K=0.65;                  //[] End support condition factor from Figure 3.8\n",
"Le=K*L;                  //[in] Effective length\n",
"mprintf('\n The effective length is %f in.',Le);\n",
"SR=Le/r;                 //[] Slenderness ratio\n",
"mprintf('\n The slenderness ratio is %f.',SR);\n",
"Cc=sqrt(2*%pi^2*E/Sy);   //[] Column constant\n",
"mprintf('\n The column constant is %f.',Cc);\n",
"if Cc>SR then\n",
"    mprintf('\n The column constant is greater than slenderness ratio, so use the Johnson formula.');\n",
"end\n",
"F=(A*Sy/SF)*(1-Sy*SR^2/(4*%pi^2*E));\n",
"mprintf('\n The acceptable load for a safty factor of 2 is %f lb.',F);"
   ]
   }
],
"metadata": {
		  "kernelspec": {
		   "display_name": "Scilab",
		   "language": "scilab",
		   "name": "scilab"
		  },
		  "language_info": {
		   "file_extension": ".sce",
		   "help_links": [
			{
			 "text": "MetaKernel Magics",
			 "url": "https://github.com/calysto/metakernel/blob/master/metakernel/magics/README.md"
			}
		   ],
		   "mimetype": "text/x-octave",
		   "name": "scilab",
		   "version": "0.7.1"
		  }
		 },
		 "nbformat": 4,
		 "nbformat_minor": 0
}
