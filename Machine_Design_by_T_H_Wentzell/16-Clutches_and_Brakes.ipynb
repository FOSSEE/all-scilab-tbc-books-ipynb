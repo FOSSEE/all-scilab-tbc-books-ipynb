{
"cells": [
 {
		   "cell_type": "markdown",
	   "metadata": {},
	   "source": [
       "# Chapter 16: Clutches and Brakes"
	   ]
	},
{
		   "cell_type": "markdown",
		   "metadata": {},
		   "source": [
			"## Example 16.1: Calculation_of_Torque_and_Power.sce"
		   ]
		  },
  {
"cell_type": "code",
	   "execution_count": null,
	   "metadata": {
	    "collapsed": true
	   },
	   "outputs": [],
"source": [
"clc;\n",
"clear;\n",
"mprintf('MACHINE DESIGN \n Timothy H. Wentzell, P.E. \n EXAMPLE-16.1 Page No.358\n');\n",
"//Torque capacity\n",
"f=0.3;\n",
"N=120;\n",
"ro=12;\n",
"ri=9;\n",
"Tf=f*N*(ro+ri)/2;\n",
"mprintf('\n Torque capacity = %f in-lb.',Tf);\n",
"n=2000;\n",
"//Power\n",
"Pf=Tf*n/63000;\n",
"mprintf('\n Power = %f hp.',Pf);"
   ]
   }
,
{
		   "cell_type": "markdown",
		   "metadata": {},
		   "source": [
			"## Example 16.2: Determination_of_Breaking_Torque.sce"
		   ]
		  },
  {
"cell_type": "code",
	   "execution_count": null,
	   "metadata": {
	    "collapsed": true
	   },
	   "outputs": [],
"source": [
"clc;\n",
"clear;\n",
"mprintf('MACHINE DESIGN \n Timothy H. Wentzell, P.E. \n EXAMPLE-16.2 Page No.359\n');\n",
"//Normal force\n",
"W=100;\n",
"L=20;\n",
"a=4;\n",
"N=(W*L)/a;\n",
"mprintf('\n Normal force = %f lb.',N);\n",
"//Torque friction\n",
"f=0.4;\n",
"D=12;\n",
"Tf=f*N*D/2;\n",
"mprintf('\n Torque friction = %f in-lb.',Tf);"
   ]
   }
,
{
		   "cell_type": "markdown",
		   "metadata": {},
		   "source": [
			"## Example 16.3: Torque_Transmitting_Capacity.sce"
		   ]
		  },
  {
"cell_type": "code",
	   "execution_count": null,
	   "metadata": {
	    "collapsed": true
	   },
	   "outputs": [],
"source": [
"clc;\n",
"clear;\n",
"mprintf('MACHINE DESIGN \n Timothy H. Wentzell, P.E. \n EXAMPLE-16.3 Page No.360\n');\n",
"//For alpha=20 deg.\n",
"alpha=20*(%pi/180);\n",
"f=0.35;\n",
"rm=12/2;\n",
"Fa=75;\n",
"Tf=(f*rm*Fa)/(sin(alpha)+f*cos(alpha));\n",
"mprintf('\n Torque capacity (alpha=20 deg.) = %f in-lb.',Tf);\n",
"//For alpha=10 deg.\n",
"alpha=10*(%pi/180);\n",
"Tf=(f*rm*Fa)/(sin(alpha)+f*cos(alpha));\n",
"mprintf('\n Torque capacity (alpha=10 deg.) = %f in-lb.',Tf);"
   ]
   }
,
{
		   "cell_type": "markdown",
		   "metadata": {},
		   "source": [
			"## Example 16.4: Calculation_of_Stopping_Force_Torque_per_Brake_Normal_Brake_Force_etc.sce"
		   ]
		  },
  {
"cell_type": "code",
	   "execution_count": null,
	   "metadata": {
	    "collapsed": true
	   },
	   "outputs": [],
"source": [
"clc;\n",
"clear;\n",
"mprintf('MACHINE DESIGN \n Timothy H. Wentzell, P.E. \n EXAMPLE-16.4 Page No.361\n');\n",
"//Stopping rate\n",
"V=60*5280/3600;\n",
"Va=0.5*V;\n",
"D=400;\n",
"t=D/Va;\n",
"a=V/t;\n",
"mprintf('\n Stopping rate = %f ft/sec^2.',a);\n",
"//Stopping force\n",
"W=40000;\n",
"g=32.2;\n",
"F=W*a/g;\n",
"//Torque\n",
"r=36/2;\n",
"T=F*r;\n",
"mprintf('\n Torque = %f in-lb.',T);\n",
"//For each wheel\n",
"T=T/10;\n",
"//Braking normal force\n",
"rm=10;\n",
"f=0.4;\n",
"N=T/(f*rm);\n",
"mprintf('\n Braking normal force = %f lb.',N);\n",
"//Note-There is an error in the answer given in textbook"
   ]
   }
,
{
		   "cell_type": "markdown",
		   "metadata": {},
		   "source": [
			"## Example 16.5: Rotational_Inertia_and_Brake_Power.sce"
		   ]
		  },
  {
"cell_type": "code",
	   "execution_count": null,
	   "metadata": {
	    "collapsed": true
	   },
	   "outputs": [],
"source": [
"clc;\n",
"clear;\n",
"mprintf('MACHINE DESIGN \n Timothy H. Wentzell, P.E. \n EXAMPLE-16.5 Page No.365\n');\n",
"W=3500;\n",
"V=73;\n",
"g=32.2;\n",
"V=50*5280/3600;\n",
"V=round(V);\n",
"//Kinetic energy to be absorbed\n",
"KE=W*V^2/(2*g);\n",
"mprintf('\n Kinetic energy to be absorbed = %f ft-lb.',KE);\n",
"//Temperature rise\n",
"Uf=KE;\n",
"Wb=40;\n",
"c=93;\n",
"deltaT=Uf/(Wb*c);\n",
"mprintf('\n Temperature rise = %f deg.',deltaT);\n",
"//Stopping time\n",
"a=20;\n",
"t=V/a;\n",
"mprintf('\n Stopping time = %f sec.',t);\n",
"//Frictional power\n",
"t=round(t*10)/10;\n",
"fhp=Uf/(550*t);\n",
"mprintf('\n Frictional power = %f hp.',fhp)"
   ]
   }
],
"metadata": {
		  "kernelspec": {
		   "display_name": "Scilab",
		   "language": "scilab",
		   "name": "scilab"
		  },
		  "language_info": {
		   "file_extension": ".sce",
		   "help_links": [
			{
			 "text": "MetaKernel Magics",
			 "url": "https://github.com/calysto/metakernel/blob/master/metakernel/magics/README.md"
			}
		   ],
		   "mimetype": "text/x-octave",
		   "name": "scilab",
		   "version": "0.7.1"
		  }
		 },
		 "nbformat": 4,
		 "nbformat_minor": 0
}
