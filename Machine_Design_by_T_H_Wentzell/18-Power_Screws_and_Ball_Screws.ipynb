{
"cells": [
 {
		   "cell_type": "markdown",
	   "metadata": {},
	   "source": [
       "# Chapter 18: Power Screws and Ball Screws"
	   ]
	},
{
		   "cell_type": "markdown",
		   "metadata": {},
		   "source": [
			"## Example 18.1: Torque_and_Power_in_Power_Screw.sce"
		   ]
		  },
  {
"cell_type": "code",
	   "execution_count": null,
	   "metadata": {
	    "collapsed": true
	   },
	   "outputs": [],
"source": [
"clc;\n",
"clear;\n",
"mprintf('MACHINE DESIGN \n Timothy H. Wentzell, P.E. \n EXAMPLE-18.1 Page No.399\n');\n",
"//Torque\n",
"Dp=(1.5+1.208)/2;\n",
"F=5800;\n",
"L=1/3;\n",
"f=0.15;\n",
"Tup=(F*Dp/4)*(L+%pi*f*Dp)/(%pi*Dp-f*L);\n",
"mprintf('\n Torque up = %f in-lb.',Tup);"
   ]
   }
,
{
		   "cell_type": "markdown",
		   "metadata": {},
		   "source": [
			"## Example 18.2: Efficiency_of_a_Power_Screw.sce"
		   ]
		  },
  {
"cell_type": "code",
	   "execution_count": null,
	   "metadata": {
	    "collapsed": true
	   },
	   "outputs": [],
"source": [
"clc;\n",
"clear;\n",
"mprintf('MACHINE DESIGN \n Timothy H. Wentzell, P.E. \n EXAMPLE-18.2 Page No.400\n');\n",
"//Lead angle\n",
"L=1/3;\n",
"Dp=1.354;\n",
"LA=atan(L/(%pi*Dp));\n",
"mprintf('\n Lead angle = %f deg.',LA*180/%pi);\n",
"//Efficiency\n",
"f=0.15;\n",
"e=tan(LA)*(1-f*tan(LA))/(tan(LA)+f);\n",
"mprintf('\n Efficiency = %f',e*100);\n",
"//Power\n",
"n=175;\n",
"T=454;\n",
"P=T*n/63000;\n",
"Pt=P*2;\n",
"mprintf('\n Power = %f hp per lead screw.',P);\n",
"if f>tan(LA) then\n",
"    mprintf('\n It is self-locking');\n",
"end"
   ]
   }
,
{
		   "cell_type": "markdown",
		   "metadata": {},
		   "source": [
			"## Example 18.3: Acme_Threads.sce"
		   ]
		  },
  {
"cell_type": "code",
	   "execution_count": null,
	   "metadata": {
	    "collapsed": true
	   },
	   "outputs": [],
"source": [
"clc;\n",
"clear;\n",
"mprintf('MACHINE DESIGN \n Timothy H. Wentzell, P.E. \n EXAMPLE-18.3 Page No.402\n');\n",
"L=1/4;\n",
"Dp=1.375;\n",
"LA=atan(L/(%pi*Dp));\n",
"mprintf('\n Lead angle = %f deg.',LA*180/%pi);\n",
"//Torque\n",
"phi=14.5*%pi/180;\n",
"f=0.15;\n",
"F=5800;\n",
"Tup=(F*Dp/4)*(cos(phi)*tan(LA)+f)/(cos(phi)-f*tan(LA));\n",
"mprintf('\n Torque = %f in-lb.',Tup);\n",
"//Power\n",
"n=175*4/3;\n",
"P=Tup*n/63000;\n",
"mprintf('\n Power = %f hp per lead screw.',P)"
   ]
   }
,
{
		   "cell_type": "markdown",
		   "metadata": {},
		   "source": [
			"## Example 18.4: Torque_and_Ball_Screws.sce"
		   ]
		  },
  {
"cell_type": "code",
	   "execution_count": null,
	   "metadata": {
	    "collapsed": true
	   },
	   "outputs": [],
"source": [
"clc;\n",
"clear;\n",
"mprintf('MACHINE DESIGN \n Timothy H. Wentzell, P.E. \n EXAMPLE-18.4 Page No.405\n');\n",
"//Torque\n",
"L=0.5;\n",
"F=5800/2;\n",
"T=0.177*F*L;\n",
"mprintf('\n Torque = %f in-lb.',T);\n",
"//Power\n",
"n=175*2/3;\n",
"P=T*n/63000;\n",
"mprintf('\n Power = %f hp.',P);"
   ]
   }
],
"metadata": {
		  "kernelspec": {
		   "display_name": "Scilab",
		   "language": "scilab",
		   "name": "scilab"
		  },
		  "language_info": {
		   "file_extension": ".sce",
		   "help_links": [
			{
			 "text": "MetaKernel Magics",
			 "url": "https://github.com/calysto/metakernel/blob/master/metakernel/magics/README.md"
			}
		   ],
		   "mimetype": "text/x-octave",
		   "name": "scilab",
		   "version": "0.7.1"
		  }
		 },
		 "nbformat": 4,
		 "nbformat_minor": 0
}
