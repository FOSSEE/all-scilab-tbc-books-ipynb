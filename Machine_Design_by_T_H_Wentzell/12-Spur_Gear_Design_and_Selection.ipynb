{
"cells": [
 {
		   "cell_type": "markdown",
	   "metadata": {},
	   "source": [
       "# Chapter 12: Spur Gear Design and Selection"
	   ]
	},
{
		   "cell_type": "markdown",
		   "metadata": {},
		   "source": [
			"## Example 12.1: Forces_on_Spur_Gear_Teeth.sce"
		   ]
		  },
  {
"cell_type": "code",
	   "execution_count": null,
	   "metadata": {
	    "collapsed": true
	   },
	   "outputs": [],
"source": [
"clc;\n",
"clear;\n",
"mprintf('MACHINE DESIGN \n Timothy H. Wentzell, P.E. \n EXAMPLE-12.1 Page No.254\n');\n",
"P=5;\n",
"n=1725;\n",
"T=63000*P/n;\n",
"//Pitch circle diameter\n",
"Np=20;\n",
"Pd=8;\n",
"Dp=Np/Pd;\n",
"mprintf('\n Pitch circle diameter = %f in.',Dp);\n",
"//Transmitted force\n",
"Ft=2*T/Dp;\n",
"mprintf('\n Transmitted force = %f lb.',Ft);\n",
"//Separating force\n",
"theta=20*%pi/180;\n",
"Fn=Ft*tan(theta);\n",
"mprintf('\n Separating force = %f lb.',Fn);\n",
"//Maximum force\n",
"Fr=Ft/cos(theta);\n",
"mprintf('\n Maximum force = %f lb.',Fr);"
   ]
   }
,
{
		   "cell_type": "markdown",
		   "metadata": {},
		   "source": [
			"## Example 12.2: Surface_Speed.sce"
		   ]
		  },
  {
"cell_type": "code",
	   "execution_count": null,
	   "metadata": {
	    "collapsed": true
	   },
	   "outputs": [],
"source": [
"clc;\n",
"clear;\n",
"mprintf('MACHINE DESIGN \n Timothy H. Wentzell, P.E. \n EXAMPLE-12.2 Page No.256\n');\n",
"//Surface speed\n",
"Dp=2.5;\n",
"n=1725;\n",
"Vm=%pi*Dp*n/12;\n",
"mprintf('\n Surface speed = %f ft/min.',Vm);"
   ]
   }
,
{
		   "cell_type": "markdown",
		   "metadata": {},
		   "source": [
			"## Example 12.3: Strength_of_Gear_Teeth.sce"
		   ]
		  },
  {
"cell_type": "code",
	   "execution_count": null,
	   "metadata": {
	    "collapsed": true
	   },
	   "outputs": [],
"source": [
"clc;\n",
"clear;\n",
"mprintf('MACHINE DESIGN \n Timothy H. Wentzell, P.E. \n EXAMPLE-12.3 Page No.258\n');\n",
"//Pinion\n",
"Su=95*10^3;\n",
"Sn=0.5*Su;\n",
"Y=0.320;\n",
"b=1;\n",
"Pd=8;\n",
"Fsp=Sn*b*Y/Pd;\n",
"mprintf('\n Force allowable for pinion = %f lb.',Fsp);\n",
"//Gear\n",
"Sn=0.5*88*10^3;\n",
"Y=0.421;\n",
"Fsg=Sn*b*Y/Pd;\n",
"mprintf('\n Force allowable for gear = %f lb.',Fsg);"
   ]
   }
,
{
		   "cell_type": "markdown",
		   "metadata": {},
		   "source": [
			"## Example 12.4: Dynamic_Load.sce"
		   ]
		  },
  {
"cell_type": "code",
	   "execution_count": null,
	   "metadata": {
	    "collapsed": true
	   },
	   "outputs": [],
"source": [
"clc;\n",
"clear;\n",
"mprintf('MACHINE DESIGN \n Timothy H. Wentzell, P.E. \n EXAMPLE-12.4 Page No.262\n');\n",
"//Dynamic load\n",
"Vm=1129;\n",
"Ft=146;\n",
"Fd=(600+Vm)*Ft/600;\n",
"mprintf('\n Dynamic load = %f lb.',Fd);\n",
"Fs=1900;\n",
"Nsf=2;\n",
"//Comparing to the allowable stress\n",
"if (Fs/Nsf)>Fd then\n",
"    mprintf('\n This is an acceptable design.');\n",
"end"
   ]
   }
,
{
		   "cell_type": "markdown",
		   "metadata": {},
		   "source": [
			"## Example 12.5: Calculation_of_Factor_of_Safety_Used_in_Catalog.sce"
		   ]
		  },
  {
"cell_type": "code",
	   "execution_count": null,
	   "metadata": {
	    "collapsed": true
	   },
	   "outputs": [],
"source": [
"clc;\n",
"clear;\n",
"mprintf('MACHINE DESIGN \n Timothy H. Wentzell, P.E. \n EXAMPLE-12.5 Page No.263\n');\n",
"Su=55*10^3;\n",
"Sn=0.5*Su;\n",
"Np=24;\n",
"Pd=12;\n",
"Dp=Np/Pd;\n",
"mprintf('\n Pitch circle diameter = %f in.',Dp);\n",
"n=1800;\n",
"Vm=%pi*Dp*n/12;\n",
"mprintf('\n Surface speed = %f ft/min.',Vm);\n",
"b=3/4;\n",
"Y=0.302;\n",
"Fs=Sn*b*Y/Pd;\n",
"mprintf('\n Allowable stress = %f lb.',Fs);\n",
"Fd=Fs;\n",
"Ft=600*Fd/(600+Vm);\n",
"mprintf('\n Force transmitted = %f lb.',Ft);\n",
"T=Ft*Dp/2;\n",
"P=T*n/63000;\n",
"mprintf('\n Power transmitted = %f hp.',P);\n",
"//Compared to catalog\n",
"hp_catalog=4.14;\n",
"Nsf=P/hp_catalog;\n",
"mprintf('\n Safety factor = %f .',Nsf);"
   ]
   }
,
{
		   "cell_type": "markdown",
		   "metadata": {},
		   "source": [
			"## Example 12.6: Spur_Gear_Desig.sce"
		   ]
		  },
  {
"cell_type": "code",
	   "execution_count": null,
	   "metadata": {
	    "collapsed": true
	   },
	   "outputs": [],
"source": [
"clc;\n",
"clear;\n",
"mprintf('MACHINE DESIGN \n Timothy H. Wentzell, P.E. \n EXAMPLE-12.6 Page No.266\n');\n",
"//Miscellaneous properties\n",
"Np=48;\n",
"Pd=12;\n",
"Dp=Np/Pd;\n",
"Vr=3;\n",
"Ng=Np*Vr;\n",
"//Surface speed\n",
"n=900;\n",
"Vm=%pi*Dp*n/12;\n",
"mprintf('\n Surface speed = %f ft/min.',Vm);\n",
"//Force on teeth\n",
"hp=2;\n",
"Ft=33000*hp/Vm;\n",
"mprintf('\n Force on teeth = %f lb.',Ft);\n",
"//Dynamic force\n",
"Fd=(600+Vm)*Ft/600;\n",
"mprintf('\n Dynamic force = %f lb.',Fd);\n",
"//Width\n",
"Su=30*10^3;\n",
"Sn=0.4*Su;\n",
"Y=0.344;\n",
"Nsf=2;\n",
"b=Fd*Nsf*Pd/(Sn*Y);\n",
"b=round(b);\n",
"mprintf('\n Width = %f in.',b);\n",
"if (8/Pd)<b&b<(12.5/Pd) then\n",
"    mprintf('\n This is an acceptable design.');\n",
"end"
   ]
   }
,
{
		   "cell_type": "markdown",
		   "metadata": {},
		   "source": [
			"## Example 12.7: Buckingham_Method_of_Gear_Design.sce"
		   ]
		  },
  {
"cell_type": "code",
	   "execution_count": null,
	   "metadata": {
	    "collapsed": true
	   },
	   "outputs": [],
"source": [
"clc;\n",
"clear;\n",
"mprintf('MACHINE DESIGN \n Timothy H. Wentzell, P.E. \n EXAMPLE-12.7 Page No.270\n');\n",
"Su=95*10^3;\n",
"Sn=0.5*Su;\n",
"Np=24;\n",
"Pd=16;\n",
"Dp=Np/Pd;\n",
"//Torque\n",
"n=3450;\n",
"P=3;\n",
"T=P*63000/n;\n",
"mprintf('\n Torque = %f in-lb.',T);\n",
"//Force transmitted\n",
"Ft=2*T/Dp;\n",
"mprintf('\n Force transmitted = %f lb.',Ft);\n",
"//Surface speed\n",
"Vm=%pi*Dp*n/12;\n",
"mprintf('\n Surface speed = %f ft/min.',Vm);\n",
"//Force allowable\n",
"Y=0.337;\n",
"b=1;\n",
"Fs=Sn*b*Y/Pd;\n",
"mprintf('\n Force allowable = %f lb.',Fs);\n",
"//Dynamic load using Buckingham's equation\n",
"C=830;\n",
"Fd=Ft+0.05*Vm*(b*C+Ft)/(0.05*Vm+(b*C+Ft)^0.5);\n",
"Nsf=1.4;\n",
"if (Fs/Nsf)>Fd then\n",
"    mprintf('\n This is a suitable design');\n",
"end"
   ]
   }
,
{
		   "cell_type": "markdown",
		   "metadata": {},
		   "source": [
			"## Example 12.8: Wear_of_Gears.sce"
		   ]
		  },
  {
"cell_type": "code",
	   "execution_count": null,
	   "metadata": {
	    "collapsed": true
	   },
	   "outputs": [],
"source": [
"clc;\n",
"clear;\n",
"mprintf('MACHINE DESIGN \n Timothy H. Wentzell, P.E. \n EXAMPLE-12.8 Page No.272\n');\n",
"Ng=42;\n",
"Np=24;\n",
"Q=2*Ng/(Ng+Np);\n",
"Kg=270;\n",
"Dp=1.5;\n",
"b=1;\n",
"Fw=Dp*b*Q*Kg;\n",
"Fd=699;\n",
"Nsf=1.2;\n",
"if (Fw/Nsf)<Fd then\n",
"    mprintf('\n (Fw/Nsf)<Fd So this would not be suitable design');\n",
"end\n",
"//If the surfaces each had a BHN = 450\n",
"Kg=470;\n",
"Fw=Dp*b*Q*Kg;\n",
"if(Fw/Nsf)>Fd then\n",
"    mprintf('\n\n If the surfaces each had a BHN = 450');\n",
"    mprintf('\n (Fw/Nsf)>Fd So this would be suitable design.');\n",
"end"
   ]
   }
],
"metadata": {
		  "kernelspec": {
		   "display_name": "Scilab",
		   "language": "scilab",
		   "name": "scilab"
		  },
		  "language_info": {
		   "file_extension": ".sce",
		   "help_links": [
			{
			 "text": "MetaKernel Magics",
			 "url": "https://github.com/calysto/metakernel/blob/master/metakernel/magics/README.md"
			}
		   ],
		   "mimetype": "text/x-octave",
		   "name": "scilab",
		   "version": "0.7.1"
		  }
		 },
		 "nbformat": 4,
		 "nbformat_minor": 0
}
