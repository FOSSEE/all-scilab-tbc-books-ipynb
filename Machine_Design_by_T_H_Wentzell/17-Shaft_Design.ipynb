{
"cells": [
 {
		   "cell_type": "markdown",
	   "metadata": {},
	   "source": [
       "# Chapter 17: Shaft Design"
	   ]
	},
{
		   "cell_type": "markdown",
		   "metadata": {},
		   "source": [
			"## Example 17.1: Design_Stresses_in_Shaft.sce"
		   ]
		  },
  {
"cell_type": "code",
	   "execution_count": null,
	   "metadata": {
	    "collapsed": true
	   },
	   "outputs": [],
"source": [
"clc;\n",
"clear;\n",
"mprintf('MACHINE DESIGN \n Timothy H. Wentzell, P.E. \n EXAMPLE-17.1 Page No.379\n');\n",
"hp=5;\n",
"n=1750;\n",
"T=63000*hp/n;\n",
"//Torsional stress in the shaft\n",
"D=0.75;\n",
"Z1=%pi*D^3/16;\n",
"Ss=T/Z1;\n",
"mprintf('\n Torsional stress in the shaft = %f lb/in^2.',Ss);\n",
"//Load at the gear pitch circle\n",
"Nt=40;\n",
"Pd=10;\n",
"Dp=Nt/Pd;\n",
"Ft=2*T/Dp;\n",
"mprintf('\n Load at gear pitch circle = %f lb.',Ft);\n",
"//Resultant force on the shaft\n",
"theta=20*%pi/180;\n",
"Fr=Ft/cos(theta);\n",
"mprintf('\n Resultant force = %f lb.',Fr);\n",
"//Maximum moment\n",
"L=15;\n",
"Mm=Fr*L/4;\n",
"mprintf('\n Maximum moment = %f in-lb.',Mm);\n",
"//Stress\n",
"D2=0.75;\n",
"Z2=%pi*D2^3/32;\n",
"Z2=round(Z2*1000)*10^-3;\n",
"S=Mm/Z2;\n",
"mprintf('\n Stress = %f lb/in^2.',S);\n",
"//Note-There is an error in the answer given in textbook"
   ]
   }
,
{
		   "cell_type": "markdown",
		   "metadata": {},
		   "source": [
			"## Example 17.2: Combined_Stresses_in_Shaft.sce"
		   ]
		  },
  {
"cell_type": "code",
	   "execution_count": null,
	   "metadata": {
	    "collapsed": true
	   },
	   "outputs": [],
"source": [
"clc;\n",
"clear;\n",
"mprintf('MACHINE DESIGN \n Timothy H. Wentzell, P.E. \n EXAMPLE-17.2 Page No.383\n');\n",
"//Combined stress using the maximum shear stress theorem\n",
"Ss=2170;\n",
"S=8780;\n",
"Sr=sqrt(Ss^2+(S/2)^2);\n",
"mprintf('\n Combined stress = %f lb/in^2.',Sr);"
   ]
   }
,
{
		   "cell_type": "markdown",
		   "metadata": {},
		   "source": [
			"## Example 17.3: Combined_Stress_Using_Maximum_Normal_Stress_Theory.sce"
		   ]
		  },
  {
"cell_type": "code",
	   "execution_count": null,
	   "metadata": {
	    "collapsed": true
	   },
	   "outputs": [],
"source": [
"clc;\n",
"clear;\n",
"mprintf('MACHINE DESIGN \n Timothy H. Wentzell, P.E. \n EXAMPLE-17.3 Page No.383\n');\n",
"//Combined stress using the maximum normal stress theory\n",
"Ss=2170;\n",
"S=8780;\n",
"Sr=S/2+sqrt(Ss^2+(S/2)^2);\n",
"mprintf('\n Combined stress = %f lb/in^2.',Sr);\n",
"//Note-There is an error in the answer given in textbook"
   ]
   }
,
{
		   "cell_type": "markdown",
		   "metadata": {},
		   "source": [
			"## Example 17.4: Comparison_of_Stresses_to_Allowable_Values_and_Endurance_Limit.sce"
		   ]
		  },
  {
"cell_type": "code",
	   "execution_count": null,
	   "metadata": {
	    "collapsed": true
	   },
	   "outputs": [],
"source": [
"clc;\n",
"clear;\n",
"mprintf('MACHINE DESIGN \n Timothy H. Wentzell, P.E. \n EXAMPLE-17.4 Page No.385\n');\n",
"//Modifying factors for Sn\n",
"Su=88000;\n",
"Csize=0.85;\n",
"Csurface=0.88;\n",
"Ctype=1;\n",
"Sn=Csize*Csurface*Ctype*(0.5*Su);\n",
"Kt=2.3;\n",
"S=9300;\n",
"N=Sn/(Kt*S);\n",
"if N>2 then\n",
"    mprintf('\n It would be an acceptable design.');\n",
"else\n",
"    mprintf('\n N<2,So this is not a suitable design for long term use.');\n",
"end"
   ]
   }
,
{
		   "cell_type": "markdown",
		   "metadata": {},
		   "source": [
			"## Example 17.5: Critical_Speed.sce"
		   ]
		  },
  {
"cell_type": "code",
	   "execution_count": null,
	   "metadata": {
	    "collapsed": true
	   },
	   "outputs": [],
"source": [
"clc;\n",
"clear;\n",
"mprintf('MACHINE DESIGN \n Timothy H. Wentzell, P.E. \n EXAMPLE-17.5 Page No.388\n');\n",
"//Deflection\n",
"D=0.75;\n",
"E=30*10^6;\n",
"L=15;\n",
"F=96;\n",
"I=%pi*D^4/64;\n",
"delta=F*L^4/(48*E*I);\n",
"delta=floor(100*delta)*10^-2;\n",
"Nc=188/sqrt(delta);\n",
"mprintf('\n Critical speed = %f rpm.',Nc);"
   ]
   }
],
"metadata": {
		  "kernelspec": {
		   "display_name": "Scilab",
		   "language": "scilab",
		   "name": "scilab"
		  },
		  "language_info": {
		   "file_extension": ".sce",
		   "help_links": [
			{
			 "text": "MetaKernel Magics",
			 "url": "https://github.com/calysto/metakernel/blob/master/metakernel/magics/README.md"
			}
		   ],
		   "mimetype": "text/x-octave",
		   "name": "scilab",
		   "version": "0.7.1"
		  }
		 },
		 "nbformat": 4,
		 "nbformat_minor": 0
}
