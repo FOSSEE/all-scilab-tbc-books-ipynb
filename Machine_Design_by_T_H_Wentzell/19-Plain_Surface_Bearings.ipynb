{
"cells": [
 {
		   "cell_type": "markdown",
	   "metadata": {},
	   "source": [
       "# Chapter 19: Plain Surface Bearings"
	   ]
	},
{
		   "cell_type": "markdown",
		   "metadata": {},
		   "source": [
			"## Example 19.1: Shaft_Considerations.sce"
		   ]
		  },
  {
"cell_type": "code",
	   "execution_count": null,
	   "metadata": {
	    "collapsed": true
	   },
	   "outputs": [],
"source": [
"clc;\n",
"clear;\n",
"mprintf('MACHINE DESIGN \n Timothy H. Wentzell, P.E. \n EXAMPLE-19.1 Page No.417\n');\n",
"//Length\n",
"F=20;\n",
"n=500;\n",
"PV=3000;\n",
"L1=%pi*F*n/(12*PV);\n",
"//Use 7/8-inch or longer bearing\n",
"L=7/8;\n",
"mprintf('\n Length of bearing = %f in.',L);\n",
"//Maximum pressure\n",
"A=(3/4)*(7/8);\n",
"P=F/A;\n",
"mprintf('\n Maximum pressure = %f lb/in^2.',P);\n",
"//Maximum velocity\n",
"D=3/4;\n",
"V=%pi*D*n/12;\n",
"mprintf('\n Maximum velocity = %f ft/min.',V);"
   ]
   }
,
{
		   "cell_type": "markdown",
		   "metadata": {},
		   "source": [
			"## Example 19.2: Wear.sce"
		   ]
		  },
  {
"cell_type": "code",
	   "execution_count": null,
	   "metadata": {
	    "collapsed": true
	   },
	   "outputs": [],
"source": [
"clc;\n",
"clear;\n",
"mprintf('MACHINE DESIGN \n Timothy H. Wentzell, P.E. \n EXAMPLE-19.2 Page No.421\n');\n",
"//Life in hours of operation\n",
"t=0.01;\n",
"K=12*10^-10;\n",
"P=30.5;\n",
"V=98;\n",
"T=t/(K*P*V);\n",
"mprintf('\n Life = %f hours.',T);\n",
"//Note-There is an error in the answer given in textbook"
   ]
   }
],
"metadata": {
		  "kernelspec": {
		   "display_name": "Scilab",
		   "language": "scilab",
		   "name": "scilab"
		  },
		  "language_info": {
		   "file_extension": ".sce",
		   "help_links": [
			{
			 "text": "MetaKernel Magics",
			 "url": "https://github.com/calysto/metakernel/blob/master/metakernel/magics/README.md"
			}
		   ],
		   "mimetype": "text/x-octave",
		   "name": "scilab",
		   "version": "0.7.1"
		  }
		 },
		 "nbformat": 4,
		 "nbformat_minor": 0
}
