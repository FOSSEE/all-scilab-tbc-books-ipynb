{
"cells": [
 {
		   "cell_type": "markdown",
	   "metadata": {},
	   "source": [
       "# Chapter 6: Fasteners and Fastening Methods"
	   ]
	},
{
		   "cell_type": "markdown",
		   "metadata": {},
		   "source": [
			"## Example 6.1: Torquing_Method.sce"
		   ]
		  },
  {
"cell_type": "code",
	   "execution_count": null,
	   "metadata": {
	    "collapsed": true
	   },
	   "outputs": [],
"source": [
"clc;\n",
"clear;\n",
"mprintf('MACHINE DESIGN \n Timothy H. Wentzell, P.E. \n EXAMPLE-6.1 Page No.120\n');\n",
"As=0.334;              //[in^2] Tensile stress area (Table 6.1)\n",
"Sp=85000;              //[lb/in^2] Proof strength (Table 6.3)\n",
"D=3/4;                 //[in] Nominal diameter of thread\n",
"Fi=0.85*As*Sp;         //[lb] Desired intial preload\n",
"C=0.2;                 //[] Torque coefficient\n",
"T=C*D*Fi;              //[in*lb] Torque\n",
"mprintf('\n The required torque is %f lb*in.',T);"
   ]
   }
,
{
		   "cell_type": "markdown",
		   "metadata": {},
		   "source": [
			"## Example 6.2: Turn_of_Nut_Method.sce"
		   ]
		  },
  {
"cell_type": "code",
	   "execution_count": null,
	   "metadata": {
	    "collapsed": true
	   },
	   "outputs": [],
"source": [
"clc;\n",
"clear;\n",
"mprintf('MACHINE DESIGN \n Timothy H. Wentzell, P.E. \n EXAMPLE-6.2 Page No.121\n');\n",
"L=5;                   //[in] Length of engagement\n",
"E=30*10^6;             //[lb/in^2] Modulus of elasticity\n",
"As=0.334;              //[in^2] Tensile stress area (Table 6.1)\n",
"Sp=85000;              //[lb/in^2] Proof strength (Table 6.3)\n",
"Fi=0.85*As*Sp;         //[lb] Desired intial preload\n",
"Delta=Fi*L/(As*E)      //[in] Elongation\n",
"pitch=0.1;             //[in] Pitch for 3/4 UNC\n",
"TA=Delta*360/pitch;    //[Degree] Torque angle\n",
"mprintf('\n The angle of rotation needed is %f degree.',TA);"
   ]
   }
,
{
		   "cell_type": "markdown",
		   "metadata": {},
		   "source": [
			"## Example 6.3: Elastic_Analysis_of_Bolted_Connections.sce"
		   ]
		  },
  {
"cell_type": "code",
	   "execution_count": null,
	   "metadata": {
	    "collapsed": true
	   },
	   "outputs": [],
"source": [
"clc;\n",
"clear;\n",
"mprintf('MACHINE DESIGN \n Timothy H. Wentzell, P.E. \n EXAMPLE-6.3 Page No.122\n');\n",
"Alpha=6.5*10^-6;       //[in/(in*F)] Thermal expansion coefficient (Appendix 8)\n",
"L=5;                   //[in] Length of engagement\n",
"Delta=0.01204;       //[Degree] Elongation\n",
"DT=Delta/(Alpha*L);    //[F] The temperature we would need to heat this bolt above the sevice temperature\n",
"mprintf('\n The temperature we would need to heat this bolt above the sevice temperature is %f F.',DT);"
   ]
   }
,
{
		   "cell_type": "markdown",
		   "metadata": {},
		   "source": [
			"## Example 6.4: Elastic_Analysis_of_Bolted_Connections.sce"
		   ]
		  },
  {
"cell_type": "code",
	   "execution_count": null,
	   "metadata": {
	    "collapsed": true
	   },
	   "outputs": [],
"source": [
"clc;\n",
"clear;\n",
"mprintf('MACHINE DESIGN \n Timothy H. Wentzell, P.E. \n EXAMPLE-6.4 Page No.124\n');\n",
"Dp=20;                 //[in] Pressure vessel head diameter\n",
"Ds=1.25;               //[in] Stud diameter\n",
"Ls=6;                  //[in] Stud length\n",
"Af=50;                 //[in^2] Clamped area of flanges\n",
"E=30*10^6;             //[lb/in^2] Modulus of elasticity\n",
"C=0.15;                //[] Torque coefficient\n",
"Si=120000;             //[lb/in^2] Proof strength (Table 6.3)\n",
"A=1.073;               //[in^2] Tensile stress area (Table 6.1)\n",
"Fi=0.9*Si*A;           //[lb] Desired intial load\n",
"T=C*Ds*Fi;             //[lb*in] Torque\n",
"mprintf('\n1. The required torque is %f lb*in.',T);\n",
"Pp=500;                 //[lb/in^2] Pressure inside the pressure vessel\n",
"Ap=%pi*Dp^2/4;          //[in^2] Pressure vessel head cross section area\n",
"Kb=A*E/Ls;              //[lb/in] Stiffness per stud\n",
"Kf=Af*E/Ls;             //[lb/in] Stiffness per flange\n",
"Fe=Pp*Ap;               //[lb] Force on pressure vessel head\n",
"Ft=10*Fi+(10*Kb/(10*Kb+Kf))*Fe;  //[lb] Total load on the bolt\n",
"mprintf('\n2. The total load on the bolt is %f lb.',Ft);"
   ]
   }
],
"metadata": {
		  "kernelspec": {
		   "display_name": "Scilab",
		   "language": "scilab",
		   "name": "scilab"
		  },
		  "language_info": {
		   "file_extension": ".sce",
		   "help_links": [
			{
			 "text": "MetaKernel Magics",
			 "url": "https://github.com/calysto/metakernel/blob/master/metakernel/magics/README.md"
			}
		   ],
		   "mimetype": "text/x-octave",
		   "name": "scilab",
		   "version": "0.7.1"
		  }
		 },
		 "nbformat": 4,
		 "nbformat_minor": 0
}
