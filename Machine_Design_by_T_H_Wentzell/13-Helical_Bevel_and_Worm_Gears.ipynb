{
"cells": [
 {
		   "cell_type": "markdown",
	   "metadata": {},
	   "source": [
       "# Chapter 13: Helical Bevel and Worm Gears"
	   ]
	},
{
		   "cell_type": "markdown",
		   "metadata": {},
		   "source": [
			"## Example 13.1: Helical_Gears.sce"
		   ]
		  },
  {
"cell_type": "code",
	   "execution_count": null,
	   "metadata": {
	    "collapsed": true
	   },
	   "outputs": [],
"source": [
"clc;\n",
"clear;\n",
"mprintf('MACHINE DESIGN \n Timothy H. Wentzell, P.E. \n EXAMPLE-13.1 Page No.280\n');\n",
"//Pitch-line velocity\n",
"Nt=24;\n",
"Pd=12;\n",
"Dp=Nt/Pd;\n",
"n=1750;\n",
"Vm=%pi*Dp*n/12;\n",
"mprintf('\n Pitch-line velocity = %f ft/min.',Vm);\n",
"//Transmitted force\n",
"hp=5;\n",
"Ft=33000*hp/Vm;\n",
"mprintf('\n Transmitted force = %f lb.',Ft);\n",
"//Axial force\n",
"psi=15*%pi/180;\n",
"Fa=Ft*tan(psi);\n",
"mprintf('\n Axial force = %f lb.',Fa);\n",
"//Separating force\n",
"theta=20*%pi/180;\n",
"psit=atan(tan(theta)/cos(psi));\n",
"Fn=Ft*tan(psit);\n",
"mprintf('\n Separating force = %f lb.',Fn);"
   ]
   }
,
{
		   "cell_type": "markdown",
		   "metadata": {},
		   "source": [
			"## Example 13.2: Helical_Gear_Stresses.sce"
		   ]
		  },
  {
"cell_type": "code",
	   "execution_count": null,
	   "metadata": {
	    "collapsed": true
	   },
	   "outputs": [],
"source": [
"clc;\n",
"clear;\n",
"mprintf('MACHINE DESIGN \n Timothy H. Wentzell, P.E. \n EXAMPLE-13.2 Page No.282\n');\n",
"//Normal plane pitch\n",
"Pd=16;\n",
"psi=45*%pi/180;\n",
"Pdn=Pd/cos(psi);\n",
"mprintf('\n Normal plane pitch = %f in.',Pdn);\n",
"N=24;\n",
"S=30000;\n",
"b=0.5;\n",
"Ne=N/cos(psi)^3;\n",
"Y=0.427;\n",
"Fs=S*b*Y/Pdn;\n",
"mprintf('\n Allowable force = %f lb.',Fs);\n",
"Dp=24/16;\n",
"n=600;\n",
"Vm=%pi*Dp*n/12;\n",
"mprintf('\n Surface speed = %f ft/min.',Vm);\n",
"Ft=Fs/((600+Vm)/600);\n",
"mprintf('\n Force transmitted = %f lb.',Ft);\n",
"P=Ft*Vm/33000;\n",
"mprintf('\n Power rating = %f hp.',P);\n",
"//Note-There is an error in the answer given in textbook"
   ]
   }
,
{
		   "cell_type": "markdown",
		   "metadata": {},
		   "source": [
			"## Example 13.3: Bevel_Gear_Forces.sce"
		   ]
		  },
  {
"cell_type": "code",
	   "execution_count": null,
	   "metadata": {
	    "collapsed": true
	   },
	   "outputs": [],
"source": [
"clc;\n",
"clear;\n",
"mprintf('MACHINE DESIGN \n Timothy H. Wentzell, P.E. \n EXAMPLE-13.3 Page No.286\n');\n",
"Np=24;\n",
"Ng=36;\n",
"Pd=8;\n",
"Yp=33.7*%pi/180;\n",
"Yg=56.3*%pi/180;\n",
"theta=14.5*%pi/180;\n",
"//Pitch diameter\n",
"Dp=Np/Pd;\n",
"mprintf('\n Pitch diameter = %f in.',Dp);\n",
"//Transmitted force\n",
"n=2200;\n",
"P=8;\n",
"T=63000*P/n;\n",
"Ft=2*T/Dp;\n",
"mprintf('\n Transmitted force = %f lb.',Ft);\n",
"//Separating force - Pinion\n",
"Fnp=Ft*tan(theta)*cos(Yp);\n",
"mprintf('\n Separating force-Pinion = %f lb.',Fnp);\n",
"//Separating force-Gear\n",
"Fng=Ft*tan(theta)*cos(Yg);\n",
"mprintf('\n Separating force = %f lb.',Fng);\n",
"//Axial force-Pinion\n",
"Fap=Ft*tan(theta)*sin(Yp);\n",
"mprintf('\n Axial force-Pinion= %f lb.',Fap);\n",
"//Axial force-Gear\n",
"Fag=Ft*tan(theta)*sin(Yg);\n",
"mprintf('\n Axial force-Gear = %f lb.',Fag);"
   ]
   }
,
{
		   "cell_type": "markdown",
		   "metadata": {},
		   "source": [
			"## Example 13.4: Worm_Gear_Forces.sce"
		   ]
		  },
  {
"cell_type": "code",
	   "execution_count": null,
	   "metadata": {
	    "collapsed": true
	   },
	   "outputs": [],
"source": [
"clc;\n",
"clear;\n",
"mprintf('MACHINE DESIGN \n Timothy H. Wentzell, P.E. \n EXAMPLE-13.4 Page No.288\n');\n",
"//Pitch diameter\n",
"Ng=60;\n",
"Pd=6;\n",
"Dp=Ng/Pd;\n",
"mprintf('\n Pitch diameter = %f in.',Dp);\n",
"//Circular pitch\n",
"Pc=%pi*Dp/Ng;\n",
"mprintf('\n Circular pitch = %f in.',Pc);\n",
"L=Pc;\n",
"//Lead angle\n",
"D=2;\n",
"LA=atan(L/(%pi*D));\n",
"LA=LA*180/%pi;\n",
"mprintf('\n Lead angle = %f deg.',LA);\n",
"//Centerline distance\n",
"CC=(D+Dp)/2;\n",
"mprintf('\n Centerline distance = %f in.',CC);\n",
"//Velocity ratio\n",
"Ntgear=60;\n",
"Nstarts_worm=1;\n",
"Vr=Ntgear/Nstarts_worm;\n",
"mprintf('\n Velocity ratio = %f',Vr);\n",
"//Output speed\n",
"nin=1750;\n",
"nout=nin/Vr;\n",
"mprintf('\n Output speed = %f rpm.',nout);"
   ]
   }
,
{
		   "cell_type": "markdown",
		   "metadata": {},
		   "source": [
			"## Example 13.5: Calculation_of_Normal_Circular_Pitch_Dynamic_Load_Force_Allowable.sce"
		   ]
		  },
  {
"cell_type": "code",
	   "execution_count": null,
	   "metadata": {
	    "collapsed": true
	   },
	   "outputs": [],
"source": [
"clc;\n",
"clear;\n",
"mprintf('MACHINE DESIGN \n Timothy H. Wentzell, P.E. \n EXAMPLE-13.5 Page No.292\n');\n",
"//Normal circular pitch\n",
"Pc=0.524;\n",
"LA=4.77*%pi/180;\n",
"Pcn=Pc*cos(LA);\n",
"mprintf('\n Normal circular pitch = %f in.',Pcn);\n",
"//Force transmitted\n",
"hp=5;\n",
"n=29.2;\n",
"T=63000*hp/n;\n",
"Dp=10;\n",
"Ft=2*T/Dp;\n",
"mprintf('\n Force transmitted = %f lb.',Ft);\n",
"Vm=%pi*Dp*n/12;\n",
"//Dynamic load\n",
"Fd=(1200+Vm)*Ft/1200;\n",
"mprintf('\n Dynamic load = %f lb.',Fd);\n",
"//Force allowable\n",
"Su=95*10^3;\n",
"Y=0.392;\n",
"b=1;\n",
"Sn=0.5*Su;\n",
"Fs=Sn*Y*b*Pcn/%pi;\n",
"mprintf('\n Force allowable = %f lb.',Fs);\n",
"//Safty factor\n",
"Nsf=Fs/Fd;\n",
"mprintf('\n Safty factor = %f .',Nsf);\n",
"//Note-There is an error in the answer given in textbook"
   ]
   }
,
{
		   "cell_type": "markdown",
		   "metadata": {},
		   "source": [
			"## Example 13.6: Efficiency_of_Worm_Gear_Drive.sce"
		   ]
		  },
  {
"cell_type": "code",
	   "execution_count": null,
	   "metadata": {
	    "collapsed": true
	   },
	   "outputs": [],
"source": [
"clc;\n",
"clear;\n",
"mprintf('MACHINE DESIGN \n Timothy H. Wentzell, P.E. \n EXAMPLE-13.6 Page No.294\n');\n",
"//Efficiency\n",
"LA=4.77*%pi/180;\n",
"f=0.03;\n",
"e=tan(LA)*(1-f*tan(LA))/(f+tan(LA));\n",
"mprintf('\n Efficiency = %f .',e);\n",
"//Torque input\n",
"hp=5;\n",
"n=1750;\n",
"T=63000*hp/n;\n",
"mprintf('\n Torque input = %f in-lb.',T);\n",
"Vr=60;\n",
"Tout=0.73*Vr*T;\n",
"mprintf('\n Output torque = %f in-lb.',Tout);"
   ]
   }
,
{
		   "cell_type": "markdown",
		   "metadata": {},
		   "source": [
			"## Example 13.7: Heat_Generated.sce"
		   ]
		  },
  {
"cell_type": "code",
	   "execution_count": null,
	   "metadata": {
	    "collapsed": true
	   },
	   "outputs": [],
"source": [
"clc;\n",
"clear;\n",
"mprintf('MACHINE DESIGN \n Timothy H. Wentzell, P.E. \n EXAMPLE-13.7 Page No.296\n');\n",
"hpin=5\n",
"e=0.73;\n",
"Q=(1-e)*hpin*2544;\n",
"mprintf('\n Heat generated by system = %f Btu/hr.',Q);\n",
"//Note-There is an error in the answer given in textbook"
   ]
   }
],
"metadata": {
		  "kernelspec": {
		   "display_name": "Scilab",
		   "language": "scilab",
		   "name": "scilab"
		  },
		  "language_info": {
		   "file_extension": ".sce",
		   "help_links": [
			{
			 "text": "MetaKernel Magics",
			 "url": "https://github.com/calysto/metakernel/blob/master/metakernel/magics/README.md"
			}
		   ],
		   "mimetype": "text/x-octave",
		   "name": "scilab",
		   "version": "0.7.1"
		  }
		 },
		 "nbformat": 4,
		 "nbformat_minor": 0
}
