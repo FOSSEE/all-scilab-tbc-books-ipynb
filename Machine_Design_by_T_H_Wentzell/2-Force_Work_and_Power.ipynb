{
"cells": [
 {
		   "cell_type": "markdown",
	   "metadata": {},
	   "source": [
       "# Chapter 2: Force Work and Power"
	   ]
	},
{
		   "cell_type": "markdown",
		   "metadata": {},
		   "source": [
			"## Example 2.1: Torque.sce"
		   ]
		  },
  {
"cell_type": "code",
	   "execution_count": null,
	   "metadata": {
	    "collapsed": true
	   },
	   "outputs": [],
"source": [
"clc;\n",
"clear;\n",
"mprintf('MACHINE DESIGN \n Timothy H. Wentzell, P.E. \n EXAMPLE-2.1   Page 26 ')    //Example 2.1\n",
"T=1080*12;                  //[in*lb] Torque in axle\n",
"d=30;                       //[in] Diameter of tire\n",
"F=T/(d/2);                  //[lb] Force exerted on the road surface\n",
"mprintf('\n\n The tire exerts %f lb force on the road surface',F);"
   ]
   }
,
{
		   "cell_type": "markdown",
		   "metadata": {},
		   "source": [
			"## Example 2.2: Work_and_Power.sce"
		   ]
		  },
  {
"cell_type": "code",
	   "execution_count": null,
	   "metadata": {
	    "collapsed": true
	   },
	   "outputs": [],
"source": [
"clc;\n",
"clear;\n",
"mprintf('MACHINE DESIGN \n Timothy H. Wentzell, P.E. \n EXAMPLE-2.2   Page 28 ')    //Example 2.2\n",
"G=3.6;                           //Diffential ratio\n",
"N=3500/G;                        //[rpm] Axle rotational speed\n",
"d=30;                            //[in] Diameter of tire\n",
"dist=N/(60)*(%pi*d)              //[in] Distance traveled in 1 sec\n",
"dist=dist/12;                    //[ft] Distance traveled in 1 sec\n",
"t=1;                             //[sec] Time period\n",
"F=864;                           //[lb] Force exerted by tire on road surface\n",
"W=F*dist;                        //[ft*lb] Workdone in 1 sec\n",
"P=F*dist/t;                      //[ft*lb/sec] Power\n",
"hp=P/550;                        //[hp] Power in horse power 1hp=550 ft*lb/sec\n",
"mprintf('\n\n Power to do work %f hp',hp);\n",
"//Comparing it to motor output:\n",
"Tm=300*12;                        //[in*lb] Engine torque\n",
"Nm=3500;                          //[rpm] Engine speed\n",
"Pm=Tm*Nm/63000; \n",
"mprintf('\n Motor output %f hp',Pm);\n",
"mprintf('\n The power output equaled the power at tire/road surface.');\n",
"//Note: The deviation of answer from the answer given in the book is due to round off error.(In the book values are rounded while in scilab actual values are taken)"
   ]
   }
,
{
		   "cell_type": "markdown",
		   "metadata": {},
		   "source": [
			"## Example 2.3: Force_Pressure_Relationship.sce"
		   ]
		  },
  {
"cell_type": "code",
	   "execution_count": null,
	   "metadata": {
	    "collapsed": true
	   },
	   "outputs": [],
"source": [
"clc;\n",
"clear;\n",
"mprintf('MACHINE DESIGN \n Timothy H. Wentzell, P.E. \n EXAMPLE-2.3   Page 29 ')    //Example 2.3\n",
"T=300*12;               //[in*lb] Engine torque \n",
"d=8;                    //[in] Crankshaft effective diameter\n",
"F=T/(d/2);              //[lb] Force exerted by piston\n",
"A=%pi*(2^2)/4;          //[in^2] Area of cross section of piston\n",
"P=F/A;                  //[lb/in^2] Pressure in cylinder\n",
"mprintf('\n\n Pressure inside cylinder %f lb/in^2',P);"
   ]
   }
],
"metadata": {
		  "kernelspec": {
		   "display_name": "Scilab",
		   "language": "scilab",
		   "name": "scilab"
		  },
		  "language_info": {
		   "file_extension": ".sce",
		   "help_links": [
			{
			 "text": "MetaKernel Magics",
			 "url": "https://github.com/calysto/metakernel/blob/master/metakernel/magics/README.md"
			}
		   ],
		   "mimetype": "text/x-octave",
		   "name": "scilab",
		   "version": "0.7.1"
		  }
		 },
		 "nbformat": 4,
		 "nbformat_minor": 0
}
