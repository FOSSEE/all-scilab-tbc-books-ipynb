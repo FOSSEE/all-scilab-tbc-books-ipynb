{
"cells": [
 {
		   "cell_type": "markdown",
	   "metadata": {},
	   "source": [
       "# Chapter 5: Repeated Loading"
	   ]
	},
{
		   "cell_type": "markdown",
		   "metadata": {},
		   "source": [
			"## Example 5.1: Design_of_a_Shaft_using_the_Soderberg_Method.sce"
		   ]
		  },
  {
"cell_type": "code",
	   "execution_count": null,
	   "metadata": {
	    "collapsed": true
	   },
	   "outputs": [],
"source": [
"clc;\n",
"clear;\n",
"mprintf('MACHINE DESIGN \n Timothy H. Wentzell, P.E. \n EXAMPLE-5.1 Page No.93\n');\n",
"SF=2;                     //[] Safety factor\n",
"F=500;                    //[lb] Load\n",
"L=40;                     //[in] Length of shaft\n",
"Su=95000;                 //[lb/in^2] Ultimate strength (Appendix 4)\n",
"Sy=60000;                 //[lb/in^2] Yield strength (Appendix 4)\n",
"Mmax=F*L/4;               //[lb*in] Maximum bending moment\n",
"Mmin=-F*L/4;              //[lb/in^2] Minimum bending moment\n",
"Csurface=1;               //[] As surface is polished\n",
"Csize=0.85;               //[] Assuming 0.5<D<2\n",
"Ctype=1;                  //[] Bending stress\n",
"Sn=Csize*Csurface*Ctype*(0.5*Su); //[lb/in^2] Endurance limit\n",
"if Mmax==abs(Mmin) then\n",
"    Sm=0;                //[lb/in^2] Mean stress\n",
"end\n",
"Sa=Sn/SF;                //[lb/in^2] As (1/SF)=(Sm/Sy)+(Sa/Sn) from soderberg equation\n",
"Sa_Z=(Mmax-Mmin)/2;      //[lb*in^2] Product of altenating stress and section modulus\n",
"Z=Sa_Z/Sa;               //[in^4] Section modulus\n",
"D=(32*Z/%pi)^(1/3);      //[in] Diameter of shaft\n",
"D1=1.375;                //[in] Next higher available is 1.375 in. so use D1\n",
"mprintf('\n The required diameter of rotating shaft is %f in.', D1);"
   ]
   }
,
{
		   "cell_type": "markdown",
		   "metadata": {},
		   "source": [
			"## Example 5.2: Design_of_a_Cantilever_Beam_using_the_Soderberg_Method.sce"
		   ]
		  },
  {
"cell_type": "code",
	   "execution_count": null,
	   "metadata": {
	    "collapsed": true
	   },
	   "outputs": [],
"source": [
"clc;\n",
"clear;\n",
"mprintf('MACHINE DESIGN \n Timothy H. Wentzell, P.E. \n EXAMPLE-5.2 Page No.95\n');\n",
"Su=90000;                  //[lb/in^2] Ultimate strength (Appendix 8)\n",
"Sy=37000;                  //[lb/in^2] Yield strength (Appendix 8)\n",
"Sni=34000;                 //[lb/in^2] Endurance limit (Appendix 8)\n",
"SF=1.6;                    //[] Safety factor\n",
"F=1000;                    //[lb] Load\n",
"L=12;                      //[in] Length of cantilever beam\n",
"Mmax=F*L;                  //[lb*in] Maximum bending moment\n",
"Mmin=0;                    //[lb*in] Minimum bending moment\n",
"Csize=0.85                 //[] Assuming 0.5<D<2 in\n",
"Ctype=1;                   //[] Bending stress\n",
"Csurface=1;                //[] As surface is polished\n",
"Malt=(Mmax-Mmin)/2;        //[lb*in] Alternating bending moment\n",
"Mmean=(Mmax+Mmin)/2;       //[lb*in] Mean bending moment\n",
"Sn=Csize*Csurface*Ctype*Sni; //[lb/in^2] Modified endurance limit\n",
"Z=((Mmean/Sy)+(Malt/Sn))*SF; //[in^3] Section modulus\n",
"D=(32*(Z)/%pi)^(1/3);        //[in] Diameter of bar\n",
"mprintf('\n The required diameter of bar using the soderberg method is %f in.',D);"
   ]
   }
,
{
		   "cell_type": "markdown",
		   "metadata": {},
		   "source": [
			"## Example 5.3: Design_of_a_Cantilever_Beam_using_the_Modified_Goodman_Method.sce"
		   ]
		  },
  {
"cell_type": "code",
	   "execution_count": null,
	   "metadata": {
	    "collapsed": true
	   },
	   "outputs": [],
"source": [
"clc;\n",
"clear;\n",
"mprintf('MACHINE DESIGN \n Timothy H. Wentzell, P.E. \n EXAMPLE-5.3 Page No.97\n');\n",
"Su=90000;                  //[lb/in^2] Ultimate strength (Appendix 8)\n",
"Sy=37000;                  //[lb/in^2] Yield strength (Appendix 8)\n",
"Sni=34000;                 //[lb/in^2] Endurance limit (Appendix 8)\n",
"SF=1.6;                    //[] Safety factor\n",
"F=1000;                    //[lb] Load\n",
"L=12;                      //[in] Length of cantilever beam\n",
"Mmax=F*L;                  //[lb*in] Maximum bending moment\n",
"Mmin=0;                    //[lb*in] Minimum bending moment\n",
"Csize=0.85                 //[] Assuming 0.5<D<2 in\n",
"Ctype=1;                   //[] Bending stress\n",
"Csurface=1;                //[] As surface is polished\n",
"Malt=(Mmax-Mmin)/2;        //[lb*in] Alternating bending moment\n",
"Mmean=(Mmax+Mmin)/2;       //[lb*in] Mean bending moment\n",
"Sn=Csize*Csurface*Ctype*Sni; //[lb/in^2] Modified endurance limit\n",
"Z=((Mmean/Su)+(Malt/Sn))*SF; //[in^3] Section modulus\n",
"D=(32*(Z)/%pi)^(1/3);        //[in] Diameter of bar\n",
"mprintf('\n The required diameter of bar using the soderberg method is %f in.',D);\n",
"//Note that the modified Goodman results in a less conservative size as would be expected from figure 5.10"
   ]
   }
,
{
		   "cell_type": "markdown",
		   "metadata": {},
		   "source": [
			"## Example 5.4: Design_of_Water_Pump_Connecting_Rod.sce"
		   ]
		  },
  {
"cell_type": "code",
	   "execution_count": null,
	   "metadata": {
	    "collapsed": true
	   },
	   "outputs": [],
"source": [
"clc;\n",
"clear;\n",
"mprintf('MACHINE DESIGN \n Timothy H. Wentzell, P.E. \n EXAMPLE-5.4 Page No.98\n');\n",
"Su=95000;              //[lb/in^2] Ultimate strength\n",
"Sy=60000;              //[lb/in^2] Yield strength\n",
"SF=1.5;                //[] Safety factor\n",
"Fmax=1000;            //[lb] Maximum load\n",
"Fmin=-6000;           //[lb] Minimum load\n",
"Fmean=(Fmax+Fmin)/2;   //[lb] Mean load\n",
"Fmean=abs(Fmean);      //[lb] Considering absolute value\n",
"Falt=(Fmax-Fmin)/2;    //[lb] Alternating load\n",
"Csize=1                //[] Assuming b<0.5 in\n",
"Ctype=0.8              //[] Axial stress\n",
"Csurface=0.86          //[] Machined surface Figure 5.7b\n",
"Sn=Csize*Csurface*Ctype*(0.5*Su); //[lb/in^2] Modified endurance limit\n",
"A=((Fmean/Sy)+(Falt/Sn))*SF;      //[in^2] Area of cross section of rod\n",
"b=sqrt(A);                        //[in] Side of square cross section\n",
"mprintf('\n The required square size in the center section is %f in.',b);"
   ]
   }
,
{
		   "cell_type": "markdown",
		   "metadata": {},
		   "source": [
			"## Example 5.5: Factor_of_Safety_for_Design_with_Stress_Concentration_Factor.sce"
		   ]
		  },
  {
"cell_type": "code",
	   "execution_count": null,
	   "metadata": {
	    "collapsed": true
	   },
	   "outputs": [],
"source": [
"clc;\n",
"clear;\n",
"mprintf('MACHINE DESIGN \n Timothy H. Wentzell, P.E. \n EXAMPLE-5.5 Page No.100\n');\n",
"Su=80000;                 //[lb/in^2] Ultimate strength\n",
"Sy=71000;                 //[lb/in^2] Yield strength\n",
"D=0.6;                    //[in] Diameter of shaft\n",
"d=0.5;                    //[in] Diameter of shaft at notch\n",
"r=0.05;                   //[in] Radius of notch\n",
"Z=%pi*d^3/16;             //[in^3] Polar section modulus\n",
"Tmax=200;                 //[lb*in] Maximum load\n",
"Tmin=0;                   //[lb*in] Minimum load\n",
"Smax=Tmax/Z;              //[lb/in^2] Maximum stress\n",
"Smin=Tmin/Z;              //[lb/in^2] Minimum stress\n",
"Smean=(Smax+Smin)/2;      //[lb/in^2] Mean stress\n",
"Salt=(Smax-Smin)/2;       //[lb/in^2] Alternating stress\n",
"Csize=0.85;               //[] Assume 0.5<D<2 in\n",
"Csurface=0.88;            //[] Machined surface Figure 5.7b\n",
"Ctype=0.6;                //[] Torsional stress\n",
"Sn=Csize*Csurface*Ctype*(0.5*Su);  //[lb/in^2] Modified endurance limit\n",
"Kt=1.32;                  //[] (D/d)=1.2, (r/d)=0.1 from Appendix 6c\n",
"N=inv(Smean/(0.5*Sy)+Kt*Salt/Sn);  //[] Safety factor\n",
"mprintf('\n The factor of safety for this design is %f',N);"
   ]
   }
,
{
		   "cell_type": "markdown",
		   "metadata": {},
		   "source": [
			"## Example 5.6: Factor_of_Safety_for_Design_when_Desired_Life_is_known.sce"
		   ]
		  },
  {
"cell_type": "code",
	   "execution_count": null,
	   "metadata": {
	    "collapsed": true
	   },
	   "outputs": [],
"source": [
"clc;\n",
"clear;\n",
"mprintf('MACHINE DESIGN \n Timothy H. Wentzell, P.E. \n EXAMPLE-5.6 Page No.102\n');\n",
"//From Example Problem 5.5\n",
"Sy=71000;                 //[lb/in^2] Yield strength\n",
"Smax=8148.7331 ;          //[lb/in^2] Maximum stress\n",
"Smin=0;                   //[lb/in^2] Minimum stress\n",
"Smean=(Smax+Smin)/2;      //[lb/in^2] Mean stress\n",
"Salt=(Smax-Smin)/2;       //[lb/in^2] Alternating stress\n",
"Sn=18000;                 //[lb/in^2] Modified endurance strength\n",
"Kt=1.32                   //[] Stress concentration factor\n",
"Nd=100000;                //[cycles] Desired life\n",
"Snn=Sn*(10^6/Nd)^0.09;          //[lb/in^2]\n",
"N=inv(Smean/(0.5*Sy)+Kt*Salt/Snn);  //[] Factor of safety\n",
"mprintf('\n The new factor of safety for this condition is %f.',N);"
   ]
   }
],
"metadata": {
		  "kernelspec": {
		   "display_name": "Scilab",
		   "language": "scilab",
		   "name": "scilab"
		  },
		  "language_info": {
		   "file_extension": ".sce",
		   "help_links": [
			{
			 "text": "MetaKernel Magics",
			 "url": "https://github.com/calysto/metakernel/blob/master/metakernel/magics/README.md"
			}
		   ],
		   "mimetype": "text/x-octave",
		   "name": "scilab",
		   "version": "0.7.1"
		  }
		 },
		 "nbformat": 4,
		 "nbformat_minor": 0
}
