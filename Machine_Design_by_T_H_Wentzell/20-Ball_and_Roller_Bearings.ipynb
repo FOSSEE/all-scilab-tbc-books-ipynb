{
"cells": [
 {
		   "cell_type": "markdown",
	   "metadata": {},
	   "source": [
       "# Chapter 20: Ball and Roller Bearings"
	   ]
	},
{
		   "cell_type": "markdown",
		   "metadata": {},
		   "source": [
			"## Example 20.1: Life_Expectancy_of_Ball_Bearing.sce"
		   ]
		  },
  {
"cell_type": "code",
	   "execution_count": null,
	   "metadata": {
	    "collapsed": true
	   },
	   "outputs": [],
"source": [
"clc;\n",
"clear;\n",
"mprintf('MACHINE DESIGN \n Timothy H. Wentzell, P.E. \n EXAMPLE-20.1 Page No.431\n');\n",
"//L10 design life\n",
"Cd=5050;\n",
"Pd=2400;\n",
"k=3;\n",
"Ld1=(Cd/Pd)^k*10^6;\n",
"Ld=Ld1/(1750*60);\n",
"mprintf('\n L10 design life = %f hr.',Ld);"
   ]
   }
,
{
		   "cell_type": "markdown",
		   "metadata": {},
		   "source": [
			"## Example 20.2: Selection_of_Bearing_to_Meet_Given_Criteria.sce"
		   ]
		  },
  {
"cell_type": "code",
	   "execution_count": null,
	   "metadata": {
	    "collapsed": true
	   },
	   "outputs": [],
"source": [
"clc;\n",
"clear;\n",
"mprintf('MACHINE DESIGN \n Timothy H. Wentzell, P.E. \n EXAMPLE-20.2 Page No.432\n');\n",
"//Dynamic load capacity\n",
"T=200;\n",
"n=1750;\n",
"L=T*n*60/10^6;\n",
"Pd=2400;\n",
"Ld=21;\n",
"Lc=1;\n",
"k=1/3;\n",
"Cd=Pd*(Ld/Lc)^k\n",
"mprintf('\n Dynamic load capacity required = %f lb.',Cd);\n",
"mprintf('\n Bearing 6211 meets this criterion.');"
   ]
   }
,
{
		   "cell_type": "markdown",
		   "metadata": {},
		   "source": [
			"## Example 20.3: Selection_of_Bearing_to_Meet_Given_Criteria.sce"
		   ]
		  },
  {
"cell_type": "code",
	   "execution_count": null,
	   "metadata": {
	    "collapsed": true
	   },
	   "outputs": [],
"source": [
"clc;\n",
"clear;\n",
"mprintf('MACHINE DESIGN \n Timothy H. Wentzell, P.E. \n EXAMPLE-20.3 Page No.434\n');\n",
"R=1200;\n",
"Ft=500;\n",
"n=1500;\n",
"L10=5000;\n",
"//Assume thrust factor=1.6\n",
"Y=1.6;\n",
"Pd=0.56*R+Y*Ft;\n",
"Ld=n*L10*60/10^6;\n",
"Lc=1;\n",
"k=3;\n",
"Cd=Pd*(Ld/Lc)^(1/k);\n",
"//For bearing number 6215\n",
"Cd1=11400;\n",
"Cs1=9700;\n",
"//Verify the assumption for Y\n",
"Ft_Cs1=Ft/Cs1;\n",
"Y=(0.056-Ft_Cs1)*(1.99-1.71)/(0.056-0.028)+1.71;\n",
"Pd=0.56*R+Y*Ft;\n",
"Cd=Pd*(Ld/Lc)^(1/k);\n",
"if Cd>Cd1 then\n",
"    mprintf('\n Since Cd of bearing < Cd required, So bearing number 6215 is not acceptable.');    \n",
"end\n",
"//For bearing number 6216\n",
"Cd2=12600;\n",
"Cs2=10500;\n",
"Ft_Cs2=Ft/Cs2;\n",
"Y=(0.056-Ft_Cs2)*(1.99-1.71)/(0.056-0.028)+1.71;\n",
"Pd=0.56*R+Y*Ft;\n",
"Cd=Pd*(Ld/Lc)^(1/k);\n",
"if Cd<Cd2 then\n",
"    mprintf('\n Since Cd of bearing > Cd required, So bearing number 6215 meets the design criteria.');\n",
"end"
   ]
   }
,
{
		   "cell_type": "markdown",
		   "metadata": {},
		   "source": [
			"## Example 20.4: Life_of_6200_Series_Bearing.sce"
		   ]
		  },
  {
"cell_type": "code",
	   "execution_count": null,
	   "metadata": {
	    "collapsed": true
	   },
	   "outputs": [],
"source": [
"clc;\n",
"clear;\n",
"mprintf('MACHINE DESIGN \n Timothy H. Wentzell, P.E. \n EXAMPLE-20.4 Page No.436\n');\n",
"//Thrust factor\n",
"Ft=300;\n",
"Cs=2320;\n",
"Ft_Cs=Ft/Cs;\n",
"Y=(0.17-Ft_Cs)*(1.45-1.31)/(0.17-0.11)+1.31;\n",
"mprintf('\n Thrust factor = %f ',Y);\n",
"V=1.2;\n",
"X=0.56;\n",
"R=1000;\n",
"P=V*X*R+Y*Ft;\n",
"Cd=3350;\n",
"Pd=1095;\n",
"k=3;\n",
"Ld=(Cd/Pd)^k*10^6;\n",
"mprintf('\n Life = %f revolutions.',Ld);"
   ]
   }
],
"metadata": {
		  "kernelspec": {
		   "display_name": "Scilab",
		   "language": "scilab",
		   "name": "scilab"
		  },
		  "language_info": {
		   "file_extension": ".sce",
		   "help_links": [
			{
			 "text": "MetaKernel Magics",
			 "url": "https://github.com/calysto/metakernel/blob/master/metakernel/magics/README.md"
			}
		   ],
		   "mimetype": "text/x-octave",
		   "name": "scilab",
		   "version": "0.7.1"
		  }
		 },
		 "nbformat": 4,
		 "nbformat_minor": 0
}
