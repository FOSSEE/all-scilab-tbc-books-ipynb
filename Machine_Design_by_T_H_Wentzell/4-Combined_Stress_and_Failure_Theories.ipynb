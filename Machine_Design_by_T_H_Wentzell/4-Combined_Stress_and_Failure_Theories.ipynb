{
"cells": [
 {
		   "cell_type": "markdown",
	   "metadata": {},
	   "source": [
       "# Chapter 4: Combined Stress and Failure Theories"
	   ]
	},
{
		   "cell_type": "markdown",
		   "metadata": {},
		   "source": [
			"## Example 4.1: Design_of_Short_Column_with_Eccentric_Load.sce"
		   ]
		  },
  {
"cell_type": "code",
	   "execution_count": null,
	   "metadata": {
	    "collapsed": true
	   },
	   "outputs": [],
"source": [
"clc;\n",
"clear;\n",
"mprintf('MACHINE DESIGN \n Timothy H. Wentzell, P.E. \n EXAMPLE-4.1   Page 66 ')\n",
" \n",
"D=2;               //[in] Dia. of short column\n",
"F=10000;          //[lb] Load applied\n",
"L=15;              //[in] Length of column\n",
"e=2;               //[in] Offset of load\n",
"\n",
"A=(%pi*D^2)/4;      //[in^2] Area of cross section of column\n",
"SA=F/A;             //[lb/in^2] Axial Stress\n",
"\n",
"Z=(%pi*D^3)/32;     //[in^4] Section modulus for bending\n",
"M=F*e;              //[lb*in] Bending moment\n",
"SB=M/Z;             //[lb/in^2] Bemding stress\n",
"\n",
"S=-SA-SB;           //S=(+-)SA+(+-)SB Max. stress\n",
"\n",
"//The bending stress and axial stress are added on inner side of column \n",
"\n",
"mprintf('\n\n Maximum stress in column is %f lb/in^2.\n',S)"
   ]
   }
,
{
		   "cell_type": "markdown",
		   "metadata": {},
		   "source": [
			"## Example 4.2: Coplanar_Shear.sce"
		   ]
		  },
  {
"cell_type": "code",
	   "execution_count": null,
	   "metadata": {
	    "collapsed": true
	   },
	   "outputs": [],
"source": [
"clc;\n",
"clear;\n",
"mprintf('MACHINE DESIGN \n Timothy H. Wentzell, P.E. \n EXAMPLE-4.2   Page 67 ')\n",
"\n",
"F1=800;             //[lb] Vertical force\n",
"F2=600;             //[lb] Horizontal force\n",
"D=0.5;              //[in] Pin diameter\n",
"A=(%pi*D^2)/4;     //[in^2] Area of cross section of pin\n",
"\n",
"F=sqrt(F1^2+F2^2);   //[lb] Resultant force on pin\n",
"S=F/A;               //[lb/in^2] Shear stress in pin\n",
"\n",
"//If forces were not perpendicular, they would be added vectorially.\n",
"mprintf('\n\n Shear stress in pin is %f lb/in^2.',S);"
   ]
   }
,
{
		   "cell_type": "markdown",
		   "metadata": {},
		   "source": [
			"## Example 4.3: Combined_Torsion_and_Shear.sce"
		   ]
		  },
  {
"cell_type": "code",
	   "execution_count": null,
	   "metadata": {
	    "collapsed": true
	   },
	   "outputs": [],
"source": [
"clc;\n",
"clear;\n",
"mprintf('MACHINE DESIGN\n Timothy H. Wentzell, P.E.\n Example 4.3   Page no 68');\n",
"\n",
"P=50;            //[hp] Power transmitted\n",
"N=300;           //[rpm] Speed\n",
"D=10;            //[in] Effective pitch diameter of sprocket\n",
"d=1;             //[in] Diameter of shaft from figure 4.3\n",
"Z=(%pi*d^3)/16;  //[in^3] Section modulus of shaft\n",
"A=(%pi*d^2)/4;   //[in^2] Area of cross section\n",
"\n",
"T=(63000/N)*P;  //[lb*in] Torque required to transmit power\n",
"F=T/(D/2);       //[lb] Driving force in chain\n",
"\n",
"Ss=F/A;          //[lb/in^2] Shear stress in shaft\n",
"\n",
"St=T/Z;          //[lb/in^2] Torsional stress in shaft\n",
"\n",
"S=Ss+St;         //[lb/in^2] Resultant stress\n",
"\n",
"//Note-There is mistake in addition of Ss and St.\n",
"\n",
"//This value would be compared to shear stress allowable for shaft material\n",
"\n",
"mprintf('\n\n The combined stress in 1 inch diameter shaft is %f lb/in^2.',S);"
   ]
   }
,
{
		   "cell_type": "markdown",
		   "metadata": {},
		   "source": [
			"## Example 4.4: Combined_Normal_and_Shear_Stress.sce"
		   ]
		  },
  {
"cell_type": "code",
	   "execution_count": null,
	   "metadata": {
	    "collapsed": true
	   },
	   "outputs": [],
"source": [
"clc;\n",
"clear;\n",
"mprintf('MACHINE DESIGN\n Timothy H. Wentzell, P.E.\n Example 4.4  Page no 71')\n",
"P=20;             //[hp] Power transmitted by chain drive\n",
"n=500;            //[rpm] speed\n",
"d=8;              //[in] Pitch diameter of sprocket\n",
"fos=2;\n",
"D=1.25;           //[in] Diameter of shaft\n",
"L=12;             //[in] Distance between two supporting bearings\n",
"Z1=%pi*D^3/16;    //[in^3] Section modulus for torsion\n",
"Z2=%pi*D^3/32;    //[in^3] Section modulus for bending\n",
"T=63000*P/n;      //[in*lb] Torque on shaft\n",
"F=T/(d/2);        //[lb] Force in chain\n",
"M=F*L/4;          //[in*lb] Bending moment in shaft\n",
"Ss=T/Z1;          //[lb/in^2] Torsional shear stress\n",
"Sb=M/Z2;          //[lb/in^2] Bending normal stress\n",
"//Note- In the book Sb=9860 lb/in^2 is used instead of Sb=9856.7075 lb/in^2\n",
"S=(Sb/2)+sqrt(Ss^2+(Sb/2)^2);  //[lb/in^2] Combined max. stress\n",
"Sy=30000;         //[lb/in^2]From APPENDIX 4 Page no-470 for AISI 1020 and Hot-rolled steel\n",
"FOS=(Sy/2)/S;     //[]Actual factor of safty\n",
"if S < Sy/2 then  //Strength is greater than combined stress so design is safe\n",
"    mprintf('\n\n Design is acceptable and Combined stress is %f lb/in^2',S);\n",
"else \n",
"    mprintf('\n\n Design is not acceptable');\n",
"end"
   ]
   }
],
"metadata": {
		  "kernelspec": {
		   "display_name": "Scilab",
		   "language": "scilab",
		   "name": "scilab"
		  },
		  "language_info": {
		   "file_extension": ".sce",
		   "help_links": [
			{
			 "text": "MetaKernel Magics",
			 "url": "https://github.com/calysto/metakernel/blob/master/metakernel/magics/README.md"
			}
		   ],
		   "mimetype": "text/x-octave",
		   "name": "scilab",
		   "version": "0.7.1"
		  }
		 },
		 "nbformat": 4,
		 "nbformat_minor": 0
}
