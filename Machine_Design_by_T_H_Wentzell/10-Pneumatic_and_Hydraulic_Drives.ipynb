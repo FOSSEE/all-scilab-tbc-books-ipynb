{
"cells": [
 {
		   "cell_type": "markdown",
	   "metadata": {},
	   "source": [
       "# Chapter 10: Pneumatic and Hydraulic Drives"
	   ]
	},
{
		   "cell_type": "markdown",
		   "metadata": {},
		   "source": [
			"## Example 10.1: Calculation_of_Hydraulic_Cylinder_Diameter_and_Standard_Rod_Size.sce"
		   ]
		  },
  {
"cell_type": "code",
	   "execution_count": null,
	   "metadata": {
	    "collapsed": true
	   },
	   "outputs": [],
"source": [
"clc;\n",
"clear;\n",
"mprintf('MACHINE DESIGN \n Timothy H. Wentzell, P.E. \n EXAMPLE-10.1 Page No.195\n');\n",
"P=100;                //[lb/in^2] Hydraulic pressure\n",
"F=450;                //[lb] Extension force\n",
"Fr=400;               //[lb] Retraction force\n",
"A=F/P;                //[in^2] Cross section area\n",
"D=sqrt(4*A/%pi);      //[in] Bore of cylinder\n",
"mprintf('\n The bore of cylinder is %f in.',D);\n",
"//Use 2.5in bore cylinder\n",
"Dm=2.5;               //[in] Bore of cylinder\n",
"Dr=1;                 //[in] Diameter of rod\n",
"A2=%pi*Dm^2/4-%pi*Dr^2/4; //[in^2]\n",
"F2=P*A2;              //[lb] Force\n",
"if F2>=Fr then\n",
"    mprintf('\n The diameter of rod is %f in.',Dr);\n",
"else \n",
"    mprintf('\n This would not meet requirement');\n",
"end\n",
"//This would meet requirement\n",
"Ab=%pi*Dm^2/4;        //[in^2] Cross section area\n",
"//Note-In the book V=180.7 is used instead of V=180.64158 \n",
"d=20;                //[in] stroke\n",
"V=Ab*d+A2*d;         //[in^3] Volume per cycle\n",
"t=2;                 //[s] Cycle time\n",
"FR=V/t;              //[in^3/s] Flowrate\n",
"FR=FR*7.48*60/1728;  //[gal/min] Flowrate\n",
"mprintf('\n Flow rate required is %f gal/min.',FR);"
   ]
   }
,
{
		   "cell_type": "markdown",
		   "metadata": {},
		   "source": [
			"## Example 10.2: Pneumatic_Pop_Rivet_Gun.sce"
		   ]
		  },
  {
"cell_type": "code",
	   "execution_count": null,
	   "metadata": {
	    "collapsed": true
	   },
	   "outputs": [],
"source": [
"clc;\n",
"clear;\n",
"mprintf('MACHINE DESIGN \n Timothy H. Wentzell, P.E. \n EXAMPLE-10.2 Page No.198\n');\n",
"Pa=100;              //[lb/in^2] Air pressure\n",
"Da=4;                //[in] Diameter\n",
"Aa=%pi*Da^2/4;       //[in^2] Cross section area\n",
"F1=Pa*Aa;            //[lb] \n",
"Do=1;                //[in] \n",
"Ao=%pi*Do^2/4;       //[in] \n",
"Po=F1/Ao;            //[lb/in^2]\n",
"mprintf('\n The oil pressure is %f lb/in^2.',Po);\n",
"D2o=3;               //[in]\n",
"A2o=%pi*D2o^2/4;     //[in^2]\n",
"F2=Po*A2o;\n",
"mprintf('\n Force F on piston rod is %f lb.',F2);\n",
"D=1;                 //[in]\n",
"d=4;                 //[in] \n",
"A=%pi*D^2/4;         //[in^2]\n",
"V=A*d;               //[in^3]\n",
"mprintf('\n The volume in 1-inch cylinder for the 4-inch travel is %f in^3.',V);\n",
"A3=%pi*3^2/4;        //[in^2]\n",
"l3=V/A3;             //[in]\n",
"mprintf('\n Travel for 3-inch cylinder is %f in.',l3);"
   ]
   }
],
"metadata": {
		  "kernelspec": {
		   "display_name": "Scilab",
		   "language": "scilab",
		   "name": "scilab"
		  },
		  "language_info": {
		   "file_extension": ".sce",
		   "help_links": [
			{
			 "text": "MetaKernel Magics",
			 "url": "https://github.com/calysto/metakernel/blob/master/metakernel/magics/README.md"
			}
		   ],
		   "mimetype": "text/x-octave",
		   "name": "scilab",
		   "version": "0.7.1"
		  }
		 },
		 "nbformat": 4,
		 "nbformat_minor": 0
}
