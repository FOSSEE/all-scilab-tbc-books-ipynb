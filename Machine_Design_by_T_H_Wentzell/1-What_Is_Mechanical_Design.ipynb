{
"cells": [
 {
		   "cell_type": "markdown",
	   "metadata": {},
	   "source": [
       "# Chapter 1: What Is Mechanical Design"
	   ]
	},
{
		   "cell_type": "markdown",
		   "metadata": {},
		   "source": [
			"## Example 1.2: Sample_Engineering_Calculation.sce"
		   ]
		  },
  {
"cell_type": "code",
	   "execution_count": null,
	   "metadata": {
	    "collapsed": true
	   },
	   "outputs": [],
"source": [
"clc;\n",
"clear;\n",
"mprintf('MACHINE DESIGN \n Timothy H. Wentzell, P.E. \n EXAMPLE-1.2   Page 13 ')    //Example 1.2\n",
"Sy=61000                   //[psi] Tensile strength of AISI 1020 cold drawn steel from Appendix 4 Page no 470\n",
"SF=2;                      //[] safety factor\n",
"F=300;                     //[lb] Weight of the ball\n",
"L=36;                      //[in] Length of round bar\n",
"Sy=61000;                  //[psi] Tensile strength from Appendix 4\n",
"M=F*L;                     //[in*lb] Bending moment Appendix 2\n",
"Sall=Sy/SF;                //[psi] Allowable stress \n",
"Z=M/Sall;                  //[in^3] Section modulus for bending Sall=M/Z\n",
"D=(32*Z/%pi)^(1/3);        //[in] Diameter of bar\n",
"//Use 13/8 in bar\n",
"D1=1.625;\n",
"mprintf('\n\n Diameter of Bar is %f in',D1);\n",
"//Checking Deflection\n",
"I=%pi*D1^4/64;              //[in^4] Moment of inertia Appendix 3\n",
"E=30*10^6;                  //[lb/in^2] Modulus of elasticity\n",
"Delta=F*L^3/(3*E*I);        //[in] Deflection \n",
"//Note- In the book I=0.342 in^4 is used instead of I=0.3422814 in^4\n",
"mprintf('\n The deflection of bar is %f in',Delta);\n",
"//Note: The deviation of answer from the answer given in the book is due to round off error.(In the book values are rounded while in scilab actual values are taken)"
   ]
   }
],
"metadata": {
		  "kernelspec": {
		   "display_name": "Scilab",
		   "language": "scilab",
		   "name": "scilab"
		  },
		  "language_info": {
		   "file_extension": ".sce",
		   "help_links": [
			{
			 "text": "MetaKernel Magics",
			 "url": "https://github.com/calysto/metakernel/blob/master/metakernel/magics/README.md"
			}
		   ],
		   "mimetype": "text/x-octave",
		   "name": "scilab",
		   "version": "0.7.1"
		  }
		 },
		 "nbformat": 4,
		 "nbformat_minor": 0
}
