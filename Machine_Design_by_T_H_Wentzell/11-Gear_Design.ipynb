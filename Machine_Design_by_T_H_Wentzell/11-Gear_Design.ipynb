{
"cells": [
 {
		   "cell_type": "markdown",
	   "metadata": {},
	   "source": [
       "# Chapter 11: Gear Design"
	   ]
	},
{
		   "cell_type": "markdown",
		   "metadata": {},
		   "source": [
			"## Example 11.1: Double_Reduction_Spur_Gear_Set.sce"
		   ]
		  },
  {
"cell_type": "code",
	   "execution_count": null,
	   "metadata": {
	    "collapsed": true
	   },
	   "outputs": [],
"source": [
"clc;\n",
"clear;\n",
"mprintf('MACHINE DESIGN \n Timothy H. Wentzell, P.E. \n EXAMPLE-11.1 Page No.217\n');\n",
"N2=60;\n",
"N1=20;\n",
"N3=20;\n",
"N4=60;\n",
"Vr=(N2/N1)*(N4/N3);\n",
"//Output speed\n",
"n1=3600;\n",
"n4=n1/Vr;\n",
"mprintf('\n The output speed is %f rpm.',n4);\n",
"//Output torque\n",
"T1=200;\n",
"T4=T1*Vr;\n",
"mprintf('\n The output torque is %f lb*in.',T4);\n",
"//Input horsepower\n",
"hpi=T1*n1/63000;\n",
"mprintf('\n The input horsepower is %f hp.',hpi);\n",
"//Output horsepower\n",
"hpo=T4*n4/63000;\n",
"mprintf('\n The output horsepower is %f hp.',hpo);"
   ]
   }
,
{
		   "cell_type": "markdown",
		   "metadata": {},
		   "source": [
			"## Example 11.2: Double_Reduction_Spur_Gear_Set_with_Idler.sce"
		   ]
		  },
  {
"cell_type": "code",
	   "execution_count": null,
	   "metadata": {
	    "collapsed": true
	   },
	   "outputs": [],
"source": [
"clc;\n",
"clear;\n",
"mprintf('MACHINE DESIGN \n Timothy H. Wentzell, P.E. \n EXAMPLE-11.2 Page No.219\n');\n",
"Na=20;\n",
"Nb=65;\n",
"Nc=20;\n",
"Nd=22;\n",
"Ne=60;\n",
"//train value\n",
"Vr=(Nb/Na)*(Nd/Nc)*(Ne/Nd);\n",
"mprintf('\n Train value = %f ',Vr);\n",
"//Output speed\n",
"na=3000;\n",
"ne=na/Vr;\n",
"mprintf('\n \Output speed = %f rpm.',ne);\n",
"//Output torque\n",
"Ta=10;\n",
"Te=Ta*Vr;\n",
"mprintf('\n Output torque = %f lb*in.',Te);\n",
"//Direction\n",
"mprintf('\n Direction\n   If Gear A is clockwise,\n   Gear B is counterclockwise.\n   Gear C is counterclockwise.\n   Gear D is clockwise. \n   Gear E is counterclockwise.');\n",
"//Output power\n",
"P=Te*ne;\n",
"P=P*%pi/60;\n",
" mprintf('\n Output power = %f W.',P);"
   ]
   }
,
{
		   "cell_type": "markdown",
		   "metadata": {},
		   "source": [
			"## Example 11.3: Calculation_of_Pitch_Diameter_Circular_Pitch_and_Shaft_Centre_to_Centre_Distance.sce"
		   ]
		  },
  {
"cell_type": "code",
	   "execution_count": null,
	   "metadata": {
	    "collapsed": true
	   },
	   "outputs": [],
"source": [
"clc;\n",
"clear;\n",
"mprintf('MACHINE DESIGN \n Timothy H. Wentzell, P.E. \n EXAMPLE-11.3 Page No.231\n');\n",
"Np=16;\n",
"Ng=32;\n",
"Pd=8;\n",
"//Pitch diameter\n",
"Dp=Np/Pd;\n",
"mprintf('\n Pinion pitch diameter is %f in.',Dp);\n",
"Dg=Ng/Pd;\n",
"mprintf('\n Gear pitch diameter is %f in.',Dg);\n",
"//Circular pitch\n",
"Pc=%pi*Dp/Np;\n",
"mprintf('\n Circular pitch is %f in.',Pc);\n",
"//Centerline distance\n",
"CC=(Dp+Dg)/2;\n",
"mprintf('\n Centerline distance is %f in.',CC);"
   ]
   }
,
{
		   "cell_type": "markdown",
		   "metadata": {},
		   "source": [
			"## Example 11.4: Bevel_Gear.sce"
		   ]
		  },
  {
"cell_type": "code",
	   "execution_count": null,
	   "metadata": {
	    "collapsed": true
	   },
	   "outputs": [],
"source": [
"clc;\n",
"clear;\n",
"mprintf('MACHINE DESIGN \n Timothy H. Wentzell, P.E. \n EXAMPLE-11.4 Page No.236\n');\n",
"//Torque in input shaft\n",
"hp=1.5;\n",
"n=3450;\n",
"T=63000*hp/n;\n",
"mprintf('\n Torque in input shaft is %f lb*in.',T);\n",
"//Note-In the book T=27.4 in-lb is used instead of T=27.391304\n",
"//Output torque\n",
"Ng=24;\n",
"Np=10;\n",
"Tout=(Ng/Np)*T;\n",
"mprintf('\n Output torque is %f lb*in.',Tout);\n",
"//Output speed\n",
"nout=(Np/Ng)*n;\n",
"mprintf('\n Output speed is %f rpm.',nout);"
   ]
   }
,
{
		   "cell_type": "markdown",
		   "metadata": {},
		   "source": [
			"## Example 11.5: Calculation_of_Gear_Train_Value_Input_and_Output_Torque_and_Speed.sce"
		   ]
		  },
  {
"cell_type": "code",
	   "execution_count": null,
	   "metadata": {
	    "collapsed": true
	   },
	   "outputs": [],
"source": [
"clc;\n",
"clear;\n",
"mprintf('MACHINE DESIGN \n Timothy H. Wentzell, P.E. \n EXAMPLE-11.5 Page No.241\n');\n",
"//Gear train value\n",
"Na=12;\n",
"Nb=36;\n",
"Nc=16;\n",
"Nd=64;\n",
"Vr=(Nb/Na)*(Nd/Nc);\n",
"mprintf('\n Gear train value is %f ',Vr);\n",
"//Motor torque\n",
"hp=1.5;\n",
"n=1750;\n",
"T=63000*hp/n;\n",
"mprintf('\n Motor torque is %f in-lb.',T);\n",
"//Output torque\n",
"Tout=T*Vr;\n",
"mprintf('\n Output torque is %f in-lb.',Tout);\n",
"//Output speed\n",
"nout=n/Vr;\n",
"mprintf('\n Output speed is %f rpm.',nout);\n",
"//Directions\n",
"mprintf('\n Directions\n  Gear A is clockwise.\n  Gear B is counterclockwise.\n  Gear C is counterclockwise.\n  Gear D is clockwise.');\n",
"//Output power\n",
"hp=T*n/63000;\n",
"mprintf('\n Output power is %f hp.',hp);"
   ]
   }
,
{
		   "cell_type": "markdown",
		   "metadata": {},
		   "source": [
			"## Example 11.6: Precision_Spur_Gears.sce"
		   ]
		  },
  {
"cell_type": "code",
	   "execution_count": null,
	   "metadata": {
	    "collapsed": true
	   },
	   "outputs": [],
"source": [
"clc;\n",
"clear;\n",
"mprintf('MACHINE DESIGN \n Timothy H. Wentzell, P.E. \n EXAMPLE-11.6 Page No.243\n');\n",
"//Velocity ratio\n",
"N2=2400;\n",
"N1=20;\n",
"Vr=N2/N1;\n",
"mprintf('\n Velocity ratio = %f ',Vr);\n",
"mprintf('\n Possible Solution: \n Three sets of gears \n   -20 tooth and 80 tooth\n   -20 tooth and 100 tooth\n   -20 tooth and 120 tooth.');"
   ]
   }
],
"metadata": {
		  "kernelspec": {
		   "display_name": "Scilab",
		   "language": "scilab",
		   "name": "scilab"
		  },
		  "language_info": {
		   "file_extension": ".sce",
		   "help_links": [
			{
			 "text": "MetaKernel Magics",
			 "url": "https://github.com/calysto/metakernel/blob/master/metakernel/magics/README.md"
			}
		   ],
		   "mimetype": "text/x-octave",
		   "name": "scilab",
		   "version": "0.7.1"
		  }
		 },
		 "nbformat": 4,
		 "nbformat_minor": 0
}
