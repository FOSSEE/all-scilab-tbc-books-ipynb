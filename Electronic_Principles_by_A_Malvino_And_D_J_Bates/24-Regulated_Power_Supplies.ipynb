{
"cells": [
 {
		   "cell_type": "markdown",
	   "metadata": {},
	   "source": [
       "# Chapter 24: Regulated Power Supplies"
	   ]
	},
{
		   "cell_type": "markdown",
		   "metadata": {},
		   "source": [
			"## Example 24.10: example10.sce"
		   ]
		  },
  {
"cell_type": "code",
	   "execution_count": null,
	   "metadata": {
	    "collapsed": true
	   },
	   "outputs": [],
"source": [
"// find load regulation and line regulation\n",
"// Electronic Principles\n",
"// By Albert Malvino , David Bates\n",
"// Seventh Edition\n",
"// The McGraw-Hill Companies\n",
"// Example 24-10, page 964\n",
"\n",
"clear; clc; close;\n",
"\n",
"// Given data\n",
"Vnl=10.16;// in volts\n",
"Vfl=10.15;// in volts\n",
"Vhl=10.16;// in volts\n",
"Vll=10.07;// in volts\n",
"\n",
"// Calculations\n",
"ld=((Vnl-Vfl)/Vfl)*100 ;// load regulation in %\n",
"ln=((Vhl-Vll)/Vll)*100;// loan regulation in %\n",
"disp('%',ld,'load regulation=')\n",
"disp('%',ln,'line regulation=')\n",
"\n",
"// Results\n",
"// load regulation is 0.0985%\n",
"// line regulation is 0.894%"
   ]
   }
,
{
		   "cell_type": "markdown",
		   "metadata": {},
		   "source": [
			"## Example 24.13: example13.sce"
		   ]
		  },
  {
"cell_type": "code",
	   "execution_count": null,
	   "metadata": {
	    "collapsed": true
	   },
	   "outputs": [],
"source": [
"// find output voltage\n",
"// Electronic Principles\n",
"// By Albert Malvino , David Bates\n",
"// Seventh Edition\n",
"// The McGraw-Hill Companies\n",
"// Example 24-13, page 972\n",
"\n",
"clear; clc; close;\n",
"\n",
"// Given data\n",
"R1=2*10^3;// in ohms\n",
"R2=22*10^3 ;// in ohms\n",
"\n",
"// Calculations\n",
"Vout=((R1+R2)/R1)*1.25;// output voltage in volts\n",
"disp('Volts',Vout,'output voltage=')\n",
"\n",
"// Results\n",
"// Output voltage is 15 Volts"
   ]
   }
,
{
		   "cell_type": "markdown",
		   "metadata": {},
		   "source": [
			"## Example 24.15: example15.sce"
		   ]
		  },
  {
"cell_type": "code",
	   "execution_count": null,
	   "metadata": {
	    "collapsed": true
	   },
	   "outputs": [],
"source": [
"// find output voltage\n",
"// Electronic Principles\n",
"// By Albert Malvino , David Bates\n",
"// Seventh Edition\n",
"// The McGraw-Hill Companies\n",
"// Example 24-15, page 984\n",
"\n",
"clear; clc; close;\n",
"\n",
"// Given data\n",
"R1=2.21*10^3;// in ohms\n",
"R2=2.8*10^3 ;// in ohms\n",
"Vref=2.21;// in volts\n",
"\n",
"// Calculations\n",
"Vout=((R1+R2)/R1)*Vref;// output voltage in volts\n",
"disp('Volts',Vout,'output voltage=')\n",
"\n",
"// Results\n",
"// Output voltage is 5.01 Volts"
   ]
   }
,
{
		   "cell_type": "markdown",
		   "metadata": {},
		   "source": [
			"## Example 24.16: example16.sce"
		   ]
		  },
  {
"cell_type": "code",
	   "execution_count": null,
	   "metadata": {
	    "collapsed": true
	   },
	   "outputs": [],
"source": [
"// find output voltage\n",
"// Electronic Principles\n",
"// By Albert Malvino , David Bates\n",
"// Seventh Edition\n",
"// The McGraw-Hill Companies\n",
"// Example 24-16, page 984\n",
"\n",
"clear; clc; close;\n",
"\n",
"// Given data\n",
"R1=1*10^3;// in ohms\n",
"R2=5.79*10^3 ;// in ohms\n",
"Vref=2.21;// in volts\n",
"\n",
"// Calculations\n",
"Vout=((R1+R2)/R1)*Vref;// output voltage in volts\n",
"disp('Volts',Vout,'output voltage=')\n",
"\n",
"// Results\n",
"// Output voltage is 15 Volts"
   ]
   }
,
{
		   "cell_type": "markdown",
		   "metadata": {},
		   "source": [
			"## Example 24.1: example1.sce"
		   ]
		  },
  {
"cell_type": "code",
	   "execution_count": null,
	   "metadata": {
	    "collapsed": true
	   },
	   "outputs": [],
"source": [
"// find output,load,collector current\n",
"// Electronic Principles\n",
"// By Albert Malvino , David Bates\n",
"// Seventh Edition\n",
"// The McGraw-Hill Companies\n",
"// Example 24-1, page 954\n",
"\n",
"clear; clc; close;\n",
"\n",
"// Given data\n",
"Vin=15;// input voltage\n",
"Rs=10;// in ohms\n",
"Vz=9.1;// in volts\n",
"Vbe=0.8;// in volts\n",
"Rl=40;// in ohms\n",
"\n",
"// Calculations\n",
"Vout=Vz+Vbe;// output voltage in volts\n",
"Is=(Vin-Vout)/Rs;// current through series resistor in amperes\n",
"Il=Vout/Rl;// load current in amperes\n",
"Ic=Is-Il;// collector current in ampers\n",
"disp('Volts',Vout,'output voltage=')\n",
"disp('amperes',Il,'load current=')\n",
"disp('amperes',Ic,'collector current=')\n",
"\n",
"// Results\n",
"// Output voltage is 9.9\n",
"// Load current is 248 mAmperes\n",
"// Collector current is 262 mAmperes"
   ]
   }
,
{
		   "cell_type": "markdown",
		   "metadata": {},
		   "source": [
			"## Example 24.2: example2.sce"
		   ]
		  },
  {
"cell_type": "code",
	   "execution_count": null,
	   "metadata": {
	    "collapsed": true
	   },
	   "outputs": [],
"source": [
"// find output voltage,load,collector current\n",
"// Electronic Principles\n",
"// By Albert Malvino , David Bates\n",
"// Seventh Edition\n",
"// The McGraw-Hill Companies\n",
"// Example 24-2, page 954\n",
"\n",
"clear; clc; close;\n",
"\n",
"// Given data\n",
"Vin=15;// input voltage\n",
"Rs=10;// in ohms\n",
"Vz=6.2;// in volts\n",
"Vbe=0.81;// in volts\n",
"Rl=40;// in ohms\n",
"R1=750;// in ohms\n",
"R2=250 ;// in ohms\n",
"\n",
"// Calculations\n",
"Vout=((R1+R2)/R1)*(Vz+Vbe);// output voltage in volts\n",
"Is=(Vin-Vout)/Rs;// current through series resistor in amperes\n",
"Il=Vout/Rl;// load current in amperes\n",
"Ic=Is-Il;// collector current in ampers\n",
"disp('Volts',Vout,'output voltage=')\n",
"disp('amperes',Il,'load current=')\n",
"disp('amperes',Ic,'collector current=')\n",
"\n",
"// Results\n",
"// Output voltage is 9.35\n",
"// Load current is 234 mAmperes\n",
"// Collector current is 331 mAmperes"
   ]
   }
,
{
		   "cell_type": "markdown",
		   "metadata": {},
		   "source": [
			"## Example 24.3: example3.sce"
		   ]
		  },
  {
"cell_type": "code",
	   "execution_count": null,
	   "metadata": {
	    "collapsed": true
	   },
	   "outputs": [],
"source": [
"// find efficiency and power dissipated\n",
"// Electronic Principles\n",
"// By Albert Malvino , David Bates\n",
"// Seventh Edition\n",
"// The McGraw-Hill Companies\n",
"// Example 24-3, page 955\n",
"\n",
"clear; clc; close;\n",
"\n",
"// Given data\n",
"Vin=15;// input voltage\n",
"Rs=10;// in ohms\n",
"Vz=6.2;// in volts\n",
"Vbe=0.81;// in volts\n",
"Rl=40;// in ohms\n",
"R1=750;// in ohms\n",
"R2=250 ;// in ohms\n",
"\n",
"// Calculations\n",
"Vout=((R1+R2)/R1)*(Vz+Vbe);// output voltage in volts\n",
"Is=(Vin-Vout)/Rs;// current through series resistor in amperes\n",
"Il=Vout/Rl;// load current in amperes\n",
"Ic=Is-Il;// collector current in ampers\n",
"Pout=Vout*Il;// load power in watts\n",
"Iin=Is;// as I3 is very low input current in amperes\n",
"Pin=Vin*Iin;// input power in watts\n",
"E=(Pout/Pin)*100;// efficiency in %\n",
"Preg=Pin-Pout;// power dissipated by regulator in watts\n",
"disp('%',E,'efficiency=')\n",
"disp('watts',Preg,'power dissipated=')\n",
"\n",
"// Results\n",
"// Efficiency is 25.8 %\n",
"// Power dissipated by regulator is 6.29 watts"
   ]
   }
,
{
		   "cell_type": "markdown",
		   "metadata": {},
		   "source": [
			"## Example 24.4: example4.sce"
		   ]
		  },
  {
"cell_type": "code",
	   "execution_count": null,
	   "metadata": {
	    "collapsed": true
	   },
	   "outputs": [],
"source": [
"// find output voltage,input,load,collector current\n",
"// Electronic Principles\n",
"// By Albert Malvino , David Bates\n",
"// Seventh Edition\n",
"// The McGraw-Hill Companies\n",
"// Example 24-4, page 955\n",
"\n",
"clear; clc; close;\n",
"\n",
"// Given data\n",
"Vin=15;// input voltage\n",
"Rs=10;// in ohms\n",
"Vz=6.8;// in volts\n",
"Rl=40;// in ohms\n",
"R1=7.5*10^3;// in ohms\n",
"R2=2.5*10^3 ;// in ohms\n",
"\n",
"// Calculations\n",
"Vout=((R1+R2)/R1)*Vz;// output voltage in volts\n",
"Is=(Vin-Vout)/Rs;// current through series resistor in amperes\n",
"Iin=Is;// as I3 is very low input current in amperes\n",
"Il=Vout/Rl;// load current in amperes\n",
"Ic=Is-Il;// collector current in ampers\n",
"disp('Volts',Vout,'output voltage=')\n",
"disp('amperes',Iin,'input current=')\n",
"disp('amperes',Il,'load current=')\n",
"disp('amperes',Ic,'collector current=')\n",
"\n",
"// Results\n",
"// Output voltage is 9.07 Volts\n",
"// Input current is 593 mAmperes\n",
"// Load current is 227 mAmperes\n",
"// Collector current is 366 mAmperes"
   ]
   }
,
{
		   "cell_type": "markdown",
		   "metadata": {},
		   "source": [
			"## Example 24.6: example6.sce"
		   ]
		  },
  {
"cell_type": "code",
	   "execution_count": null,
	   "metadata": {
	    "collapsed": true
	   },
	   "outputs": [],
"source": [
"// find load regulation and line regulation\n",
"// Electronic Principles\n",
"// By Albert Malvino , David Bates\n",
"// Seventh Edition\n",
"// The McGraw-Hill Companies\n",
"// Example 24-6, page 956\n",
"\n",
"clear; clc; close;\n",
"\n",
"// Given data\n",
"Vnl=9.91;// in volts\n",
"Vfl=9.81;// in volts\n",
"Vhl=9.94;// in volts\n",
"Vll=9.79 ;// in volts\n",
"\n",
"// Calculations\n",
"ld=((Vnl-Vfl)/Vfl)*100 ;// load regulation in %\n",
"ln=((Vhl-Vll)/Vll)*100;// loan regulation in %\n",
"disp('%',ld,'load regulation=')\n",
"disp('%',ln,'line regulation=')\n",
"\n",
"// Results\n",
"// load regulation is 1.02%\n",
"// line regulation is 1.53%"
   ]
   }
,
{
		   "cell_type": "markdown",
		   "metadata": {},
		   "source": [
			"## Example 24.7: example7.sce"
		   ]
		  },
  {
"cell_type": "code",
	   "execution_count": null,
	   "metadata": {
	    "collapsed": true
	   },
	   "outputs": [],
"source": [
"// find output voltage,power dissipation\n",
"// Electronic Principles\n",
"// By Albert Malvino , David Bates\n",
"// Seventh Edition\n",
"// The McGraw-Hill Companies\n",
"// Example 24-7, page 962\n",
"\n",
"clear; clc; close;\n",
"\n",
"// Given data\n",
"Vin=15;// input voltage\n",
"Vz=6.2;// in volts\n",
"Vbe=0.7;// in volts\n",
"Rl=40;// in ohms\n",
"R1=3*10^3;// in ohms\n",
"R2=1*10^3 ;// in ohms\n",
"\n",
"// Calculations\n",
"Vout=((R1+R2)/R1)*(Vz+Vbe);// output voltage in volts\n",
"Ic=Vout/Rl;// transistor current is equal to load current \n",
"Pd=(Vin-Vout)*Ic;// power dissipation in watts\n",
"disp('Volts',Vout,'output voltage=')\n",
"disp('Watts',Pd,'power dissipation=')\n",
"\n",
"// Results\n",
"// Output voltage is 9.2 Volts\n",
"// power dissipation is 1.33 Watts"
   ]
   }
,
{
		   "cell_type": "markdown",
		   "metadata": {},
		   "source": [
			"## Example 24.8: example8.sce"
		   ]
		  },
  {
"cell_type": "code",
	   "execution_count": null,
	   "metadata": {
	    "collapsed": true
	   },
	   "outputs": [],
"source": [
"// find efficiency\n",
"// Electronic Principles\n",
"// By Albert Malvino , David Bates\n",
"// Seventh Edition\n",
"// The McGraw-Hill Companies\n",
"// Example 24-8, page 963\n",
"\n",
"clear; clc; close;\n",
"\n",
"// Given data\n",
"Vin=15;// input voltage\n",
"Vz=6.2;// in volts\n",
"Vbe=0.7;// in volts\n",
"Rl=40;// in ohms\n",
"R1=3*10^3;// in ohms\n",
"R2=1*10^3 ;// in ohms\n",
"\n",
"// Calculations\n",
"Vout=((R1+R2)/R1)*(Vz+Vbe);// output voltage in volts\n",
"Il=Vout/Rl;// load current in amperes\n",
"Ic=Il;// transistor current is equal to load current \n",
"Pout=Vout*Il;// load power in watts\n",
"Pin=Vin*Ic;// input power in watts\n",
"E=(Pout/Pin)*100;// efficiency in %\n",
"disp('%',E,'efficiency=')\n",
"\n",
"// Results\n",
"// Efficiency is 61.3 %"
   ]
   }
],
"metadata": {
		  "kernelspec": {
		   "display_name": "Scilab",
		   "language": "scilab",
		   "name": "scilab"
		  },
		  "language_info": {
		   "file_extension": ".sce",
		   "help_links": [
			{
			 "text": "MetaKernel Magics",
			 "url": "https://github.com/calysto/metakernel/blob/master/metakernel/magics/README.md"
			}
		   ],
		   "mimetype": "text/x-octave",
		   "name": "scilab",
		   "version": "0.7.1"
		  }
		 },
		 "nbformat": 4,
		 "nbformat_minor": 0
}
