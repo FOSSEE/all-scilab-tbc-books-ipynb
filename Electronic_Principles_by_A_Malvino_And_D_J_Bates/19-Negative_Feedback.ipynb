{
"cells": [
 {
		   "cell_type": "markdown",
	   "metadata": {},
	   "source": [
       "# Chapter 19: Negative Feedback"
	   ]
	},
{
		   "cell_type": "markdown",
		   "metadata": {},
		   "source": [
			"## Example 19.10: example10.sce"
		   ]
		  },
  {
"cell_type": "code",
	   "execution_count": null,
	   "metadata": {
	    "collapsed": true
	   },
	   "outputs": [],
"source": [
"// find closed-loop bandwidth\n",
"// Electronic Principles\n",
"// By Albert Malvino , David Bates\n",
"// Seventh Edition\n",
"// The McGraw-Hill Companies\n",
"// Example 19-10, page 723\n",
"\n",
"clear; clc; close;\n",
"\n",
"// Given data\n",
"// LM308\n",
"Avol=250000;// given\n",
"f2ol=1.2;// open-loop bandwidth in hertz\n",
"Avcl=50;// closed loop voltage gain\n",
"\n",
"// Calculations\n",
"f2cl=(Avol/Avcl)*f2ol;// closed-loop bandwidth in hertz\n",
"disp('hertz',f2cl,'closed-loop bandwidth')\n",
"\n",
"// Result\n",
"// closed-loop bandwidth is 6 KHertz"
   ]
   }
,
{
		   "cell_type": "markdown",
		   "metadata": {},
		   "source": [
			"## Example 19.11: example11.sce"
		   ]
		  },
  {
"cell_type": "code",
	   "execution_count": null,
	   "metadata": {
	    "collapsed": true
	   },
	   "outputs": [],
"source": [
"// find closed-loop bandwidth\n",
"// Electronic Principles\n",
"// By Albert Malvino , David Bates\n",
"// Seventh Edition\n",
"// The McGraw-Hill Companies\n",
"// Example 19-11, page 724\n",
"\n",
"clear; clc; close;\n",
"\n",
"// Given data\n",
"// LM12\n",
"Avol=50000;// given\n",
"f2ol=14;// open-loop bandwidth in hertz\n",
"\n",
"// Calculations\n",
"f2cl=(1+Avol)*f2ol;// closed-loop bandwidth in hertz\n",
"disp('hertz',f2cl,'closed-loop bandwidth')\n",
"\n",
"// Result\n",
"// closed-loop bandwidth is 700 KHertz"
   ]
   }
,
{
		   "cell_type": "markdown",
		   "metadata": {},
		   "source": [
			"## Example 19.12: example12.sce"
		   ]
		  },
  {
"cell_type": "code",
	   "execution_count": null,
	   "metadata": {
	    "collapsed": true
	   },
	   "outputs": [],
"source": [
"// find closed-loop bandwidth\n",
"// Electronic Principles\n",
"// By Albert Malvino , David Bates\n",
"// Seventh Edition\n",
"// The McGraw-Hill Companies\n",
"// Example 19-12, page 724\n",
"\n",
"clear; clc; close;\n",
"\n",
"// Given data\n",
"// OP-07A\n",
"AvolB=2500-1;// given\n",
"f2ol=20;// open-loop bandwidth in hertz\n",
"\n",
"// Calculations\n",
"f2cl=(1+AvolB)*f2ol;// closed-loop bandwidth in hertz\n",
"disp('hertz',f2cl,'closed-loop bandwidth')\n",
"\n",
"// Result\n",
"// closed-loop bandwidth is 50 KHertz"
   ]
   }
,
{
		   "cell_type": "markdown",
		   "metadata": {},
		   "source": [
			"## Example 19.13: example13.sce"
		   ]
		  },
  {
"cell_type": "code",
	   "execution_count": null,
	   "metadata": {
	    "collapsed": true
	   },
	   "outputs": [],
"source": [
"// find closed-loop bandwidth,peak voltage\n",
"// Electronic Principles\n",
"// By Albert Malvino , David Bates\n",
"// Seventh Edition\n",
"// The McGraw-Hill Companies\n",
"// Example 19-13, page 724\n",
"\n",
"clear; clc; close;\n",
"\n",
"// Given data\n",
"// LM741C\n",
"funity=10^6;// in hertz\n",
"Sr=0.5*10^6;// slew rate in Volts/second\n",
"Avcl=10;// closed-loop voltage gain\n",
"\n",
"// Calculations\n",
"f2cl=funity/Avcl;// closed-loop bandwidth in hertz\n",
"Vpeak=Sr/(2*%pi*f2cl);// peak voltage in volts\n",
"disp('hertz',f2cl,'closed-loop bandwidth')\n",
"disp('Volts',Vpeak,'peak voltage=')\n",
"\n",
"// Result\n",
"// closed-loop bandwidth is 100 KHertz\n",
"// Peak voltage is 0.795 Volts"
   ]
   }
,
{
		   "cell_type": "markdown",
		   "metadata": {},
		   "source": [
			"## Example 19.1: example1.sce"
		   ]
		  },
  {
"cell_type": "code",
	   "execution_count": null,
	   "metadata": {
	    "collapsed": true
	   },
	   "outputs": [],
"source": [
"// find feedback fraction,ideal and exact closed-loop voltage gain,percent error\n",
"// Electronic Principles\n",
"// By Albert Malvino , David Bates\n",
"// Seventh Edition\n",
"// The McGraw-Hill Companies\n",
"// Example 19-1, page 709\n",
"\n",
"clear; clc; close;\n",
"\n",
"// Given data\n",
"R1=10^2;// in ohms from the given figure\n",
"Rf=3.9*10^3;// in ohms from the given figure\n",
"Avol=10^5;// Avol of 741C\n",
"\n",
"// Calculations\n",
"B=R1/(R1+Rf);// feedback fraction\n",
"Avideal=1/B;// ideal closed loop voltage gain\n",
"%error=100/(1+(Avol*B));// percentage % in closed-loop voltage gain\n",
"Avexact=Avol/(1+(Avol*B));// exact closed loop voltage gain\n",
"disp('hertz',B,'bandwidth=')\n",
"disp(Avideal,'Ideal closed-loop voltage gain=')\n",
"disp(Avexact,'exact closed-loop voltage gain=')\n",
"disp('%',%error,'percentage eroor=')\n",
"\n",
"// Result\n",
"// Bandwidth is 0.025\n",
"// Ideal closed-loop voltage gain is 40\n",
"// Exact closed-loop voltage gain is 39.984\n",
"// Percentage error is 0.04%"
   ]
   }
,
{
		   "cell_type": "markdown",
		   "metadata": {},
		   "source": [
			"## Example 19.2: example2.sce"
		   ]
		  },
  {
"cell_type": "code",
	   "execution_count": null,
	   "metadata": {
	    "collapsed": true
	   },
	   "outputs": [],
"source": [
"// find closed-loop input impedance\n",
"// Electronic Principles\n",
"// By Albert Malvino , David Bates\n",
"// Seventh Edition\n",
"// The McGraw-Hill Companies\n",
"// Example 19-2, page 713\n",
"\n",
"clear; clc; close;\n",
"\n",
"// Given data\n",
"R1=10^2;// in ohms from the given figure\n",
"Rf=3.9*10^3;// in ohms from the given figure\n",
"Avol=10^5;// Avol of 741C\n",
"Rin=2*10^6;// in ohms\n",
"Rcm=200*10^6;// in ohms\n",
"\n",
"// Calculations\n",
"B=R1/(R1+Rf);// feedback fraction\n",
"zincl=(1+(Avol*B))*Rin;// closed-loop input impedance in ohms\n",
"// as zincl>100 Mega ohms\n",
"zincl=Rcm*zincl/(zincl+Rcm)\n",
"disp('ohms',zincl,'closed-loop input impedance=')\n",
"\n",
"// Result\n",
"// closed-loop input impedance is 192 Mohms"
   ]
   }
,
{
		   "cell_type": "markdown",
		   "metadata": {},
		   "source": [
			"## Example 19.3: example3.sce"
		   ]
		  },
  {
"cell_type": "code",
	   "execution_count": null,
	   "metadata": {
	    "collapsed": true
	   },
	   "outputs": [],
"source": [
"// find closed-loop output impedance\n",
"// Electronic Principles\n",
"// By Albert Malvino , David Bates\n",
"// Seventh Edition\n",
"// The McGraw-Hill Companies\n",
"// Example 19-3, page 714\n",
"\n",
"clear; clc; close;\n",
"\n",
"// Given data\n",
"R1=10^2;// in ohms from the given figure\n",
"Rf=3.9*10^3;// in ohms from the given figure\n",
"Avol=10^5;// Avol of 741C\n",
"Rout=75;// in ohms\n",
"Rcm=200*10^6;// in ohms\n",
"\n",
"// Calculations\n",
"B=R1/(R1+Rf);// feedback fraction\n",
"zoutcl=Rout/(1+(Avol*B));// closed-loop output impedance in ohms\n",
"disp('ohms',zoutcl,'closed-loop output impedance=')\n",
"\n",
"// Result\n",
"// closed-loop output impedance is 0.03 ohms"
   ]
   }
,
{
		   "cell_type": "markdown",
		   "metadata": {},
		   "source": [
			"## Example 19.4: example4.sce"
		   ]
		  },
  {
"cell_type": "code",
	   "execution_count": null,
	   "metadata": {
	    "collapsed": true
	   },
	   "outputs": [],
"source": [
"// find closed-loop total harmonic distortion\n",
"// Electronic Principles\n",
"// By Albert Malvino , David Bates\n",
"// Seventh Edition\n",
"// The McGraw-Hill Companies\n",
"// Example 19-4, page 714\n",
"\n",
"clear; clc; close;\n",
"\n",
"// Given data\n",
"R1=10^2;// in ohms from the given figure\n",
"Rf=3.9*10^3;// in ohms from the given figure\n",
"Avol=10^5;// Avol of 741C\n",
"THDol=7.5;// open loop total harmonic distortion in %\n",
"\n",
"// Calculations\n",
"B=R1/(R1+Rf);// feedback fraction\n",
"THDcl=THDol/(1+(Avol*B));// closed loop total harmonic distortion in %\n",
"disp('%',THDcl,'closed-loop total harmonic distortion=')\n",
"\n",
"// Result\n",
"// closed-loop total harmonic distortion is 0.003%"
   ]
   }
,
{
		   "cell_type": "markdown",
		   "metadata": {},
		   "source": [
			"## Example 19.6: example6.sce"
		   ]
		  },
  {
"cell_type": "code",
	   "execution_count": null,
	   "metadata": {
	    "collapsed": true
	   },
	   "outputs": [],
"source": [
"// find closed-loop input and output impedance\n",
"// Electronic Principles\n",
"// By Albert Malvino , David Bates\n",
"// Seventh Edition\n",
"// The McGraw-Hill Companies\n",
"// Example 19-6, page 717\n",
"\n",
"clear; clc; close;\n",
"\n",
"// Given data\n",
"Rf=5*10^3;// in ohms from the given figure\n",
"Avol=10^5;// Avol of 741C\n",
"Rout=75;// in ohms\n",
"\n",
"// Calculations\n",
"zincl=Rf/(1+Avol);// closed-loop input impedance in ohms\n",
"zoutcl=Rout/(1+Avol);// closed-loop output impedance in ohms\n",
"disp('ohms',zincl,'closed-loop input impedance=')\n",
"disp('ohms',zoutcl,'closed-loop output impedance=')\n",
"\n",
"// Result\n",
"// closed-loop input impedance is 0.05 ohms\n",
"// closed-loop output impedance is 0.00075 ohms"
   ]
   }
,
{
		   "cell_type": "markdown",
		   "metadata": {},
		   "source": [
			"## Example 19.9: example9.sce"
		   ]
		  },
  {
"cell_type": "code",
	   "execution_count": null,
	   "metadata": {
	    "collapsed": true
	   },
	   "outputs": [],
"source": [
"// find closed-loop bandwidth\n",
"// Electronic Principles\n",
"// By Albert Malvino , David Bates\n",
"// Seventh Edition\n",
"// The McGraw-Hill Companies\n",
"// Example 19-9, page 723\n",
"\n",
"clear; clc; close;\n",
"\n",
"// Given data\n",
"// LF411A\n",
"AvolB=1000-1;// given\n",
"f2ol=160;// open-loop bandwidth in hertz\n",
"\n",
"// Calculations\n",
"f2cl=(1+AvolB)*f2ol;// closed-loop bandwidth in hertz\n",
"disp('hertz',f2cl,'closed-loop bandwidth')\n",
"\n",
"// Result\n",
"// closed-loop bandwidth is 160 KHertz"
   ]
   }
],
"metadata": {
		  "kernelspec": {
		   "display_name": "Scilab",
		   "language": "scilab",
		   "name": "scilab"
		  },
		  "language_info": {
		   "file_extension": ".sce",
		   "help_links": [
			{
			 "text": "MetaKernel Magics",
			 "url": "https://github.com/calysto/metakernel/blob/master/metakernel/magics/README.md"
			}
		   ],
		   "mimetype": "text/x-octave",
		   "name": "scilab",
		   "version": "0.7.1"
		  }
		 },
		 "nbformat": 4,
		 "nbformat_minor": 0
}
