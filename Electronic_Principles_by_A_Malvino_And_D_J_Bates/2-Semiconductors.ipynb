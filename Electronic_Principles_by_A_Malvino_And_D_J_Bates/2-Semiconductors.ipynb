{
"cells": [
 {
		   "cell_type": "markdown",
	   "metadata": {},
	   "source": [
       "# Chapter 2: Semiconductors"
	   ]
	},
{
		   "cell_type": "markdown",
		   "metadata": {},
		   "source": [
			"## Example 2.5: example5.sce"
		   ]
		  },
  {
"cell_type": "code",
	   "execution_count": null,
	   "metadata": {
	    "collapsed": true
	   },
	   "outputs": [],
"source": [
"// Given data\n",
"V(1)=0.7;// barrier potential in volts at 25 degree celcius\n",
"T(1)=25; // temperature in degree celcius at which vbarrier potential is known\n",
"T(2)=100; T(3)=0; // temperature in degree celcius at which barrier potential has to be found\n",
"//Calculations\n",
"dT(2)=T(2)-T(1);// difference in temperature\n",
"dT(3)=T(3)-T(1);// difference in temperature\n",
"dV(3)=(-0.002)*dT(3);// barrier potential for silicon decreases by 0.002 volts for each degree celcius rise\n",
"dV(2)=(-0.002)*dT(2)// barrier potential for silicon decreases by 0.002 volts for each degree celcius rise \n",
"V(2)=V(1)+dV(2);// to find barrier potential at T(2)\n",
"V(3)=V(1)+dV(3);// to find barrier potential at T(3)\n",
"disp('Volts',V(2),'Barrier Potential at 100 Degree celcius =')\n",
"disp('Volts',V(3),'Barrier Potential at 0 Degree celcius =')\n",
"// Result\n",
"// barrier potential at 100 degree celcius is 0.55 volts\n",
"// barrier potential at 0 degree celcius is 0.75 volts"
   ]
   }
,
{
		   "cell_type": "markdown",
		   "metadata": {},
		   "source": [
			"## Example 2.6: example6.sce"
		   ]
		  },
  {
"cell_type": "code",
	   "execution_count": null,
	   "metadata": {
	    "collapsed": true
	   },
	   "outputs": [],
"source": [
"// Example 2-6, page 51\n",
"clear;clc; close;\n",
"// Given data\n",
"I(1)=5;// saturation current at given temperature in nano amperes\n",
"T(1)=25;// temperature in degree celcius at which saturation current is known\n",
"T(2)=100;// temperature in degree celcius at which saturation current is to be found\n",
"// Calculations\n",
"I(2)=(2^7)*I(1);// 7 doublings between 25 and 95 degree celcius\n",
"I(3)=((1.07)^5)*I(2); // additional 5 degree between 95 and 100 degree celcius\n",
"disp('Amperes',I(3),'Saturation Current =')\n",
"// Result\n",
"// saturation current at 100 degree celcius is 898 nano amperes."
   ]
   }
,
{
		   "cell_type": "markdown",
		   "metadata": {},
		   "source": [
			"## Example 2.7: example7.sce"
		   ]
		  },
  {
"cell_type": "code",
	   "execution_count": null,
	   "metadata": {
	    "collapsed": true
	   },
	   "outputs": [],
"source": [
"// Example 2-7, page 52\n",
"clear;clc; close;\n",
"// Given data\n",
"I(1)=2*10^-9;// surface leakage current in  amperes at given reverse voltage \n",
"V(1)=25;// reverse voltage in volts at which surface leakage is known\n",
"V(2)=35;// reverse voltage in volts at which surface leakage current is to be found\n",
"// Calculations\n",
"I(2)=V(2)*I(1)/V(1);// surface leakage current is directly proportional to reverse voltage\n",
"disp('Amperes',I(2),'Surface leakage Current =')\n",
"// result\n",
"// surface leakage current is 2.8 nano amperes."
   ]
   }
],
"metadata": {
		  "kernelspec": {
		   "display_name": "Scilab",
		   "language": "scilab",
		   "name": "scilab"
		  },
		  "language_info": {
		   "file_extension": ".sce",
		   "help_links": [
			{
			 "text": "MetaKernel Magics",
			 "url": "https://github.com/calysto/metakernel/blob/master/metakernel/magics/README.md"
			}
		   ],
		   "mimetype": "text/x-octave",
		   "name": "scilab",
		   "version": "0.7.1"
		  }
		 },
		 "nbformat": 4,
		 "nbformat_minor": 0
}
