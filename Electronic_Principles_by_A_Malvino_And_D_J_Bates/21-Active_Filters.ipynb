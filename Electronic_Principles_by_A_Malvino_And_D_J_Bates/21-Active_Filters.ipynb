{
"cells": [
 {
		   "cell_type": "markdown",
	   "metadata": {},
	   "source": [
       "# Chapter 21: Active Filters"
	   ]
	},
{
		   "cell_type": "markdown",
		   "metadata": {},
		   "source": [
			"## Example 21.10: example10.sce"
		   ]
		  },
  {
"cell_type": "code",
	   "execution_count": null,
	   "metadata": {
	    "collapsed": true
	   },
	   "outputs": [],
"source": [
"// find pole frequency ,Q,resonant,cutoff,3-db frequency\n",
"// Electronic Principles\n",
"// By Albert Malvino , David Bates\n",
"// Seventh Edition\n",
"// The McGraw-Hill Companies\n",
"// Example 21-10, page 821\n",
"\n",
"clear;clc; close;\n",
"	\n",
"// Given data\n",
"C=10^-9;// capacitance in faraday\n",
"R1=10*10^3;// resistance in ohms\n",
"R2=15*10^3;// resistance in ohms\n",
"R=30*10^3;// resistance in ohms\n",
"K0=0.94;// constant \n",
"Kc=1.32;// constant \n",
"K3=1.48;// constant \n",
"\n",
"// Calculations\n",
"Av=(R2/R1)+1;// midband voltage gain\n",
"Q=1/(3-Av);// q of the filter\n",
"fp=1/(2*%pi*R*C);// peak frequency in hertz\n",
"fc=fp/Kc;// cutoff frequency in hertz\n",
"f0=fp/K0;// resonant frequency in hertz\n",
"f3db=fp/K3;// 3-db frequency in hertz\n",
"disp(Q,'Q of the filter=')\n",
"disp('hertz',fc,'cutoff frequency=')\n",
"disp('hertz',fp,'peak frequency=')\n",
"disp('hertz',f0,'resonant frequency=')\n",
"disp('hertz',f3db,'3db frequency=')\n",
"\n",
"// Result\n",
"// Q is 2\n",
"// peak frequency is 5.31 kHertz\n",
"// cutoff frequency is 4.02 kHertz\n",
"// resonant frequency is 5.65 kHertz\n",
"// 3-db frequency is 3.59 kHertz"
   ]
   }
,
{
		   "cell_type": "markdown",
		   "metadata": {},
		   "source": [
			"## Example 21.12: example12.sce"
		   ]
		  },
  {
"cell_type": "code",
	   "execution_count": null,
	   "metadata": {
	    "collapsed": true
	   },
	   "outputs": [],
"source": [
"// find voltage gain,center frequency,Q \n",
"// Electronic Principles\n",
"// By Albert Malvino , David Bates\n",
"// Seventh Edition\n",
"// The McGraw-Hill Companies\n",
"// Example 21-12, page 827\n",
"\n",
"clear;clc; close;\n",
"	\n",
"// Given data\n",
"C=120*10^-9;// capacitance in faraday\n",
"R1=13*10^3;// resistance in ohms\n",
"R2=10*10^3;// resistance in ohms\n",
"R=22*10^3;// resistance in ohms\n",
"\n",
"// Calculations\n",
"Av=(R2/R1)+1;// voltage gain\n",
"Q=0.5/(2-Av);// q of the filter\n",
"f0=1/(2*%pi*R*C);// center frequency in hertz\n",
"disp(Q,'Q of the filter=')\n",
"disp(Av,'Voltage gain=')\n",
"disp('hertz',f0,'resonant frequency=')\n",
"\n",
"// Result\n",
"// Q is 2.17\n",
"// resonant frequency is 60.3 Hertz\n",
"// Voltage gain is 1.77"
   ]
   }
,
{
		   "cell_type": "markdown",
		   "metadata": {},
		   "source": [
			"## Example 21.13: example13.sce"
		   ]
		  },
  {
"cell_type": "code",
	   "execution_count": null,
	   "metadata": {
	    "collapsed": true
	   },
	   "outputs": [],
"source": [
"// find phase shift of output voltage\n",
"// Electronic Principles\n",
"// By Albert Malvino , David Bates\n",
"// Seventh Edition\n",
"// The McGraw-Hill Companies\n",
"// Example 21-13, page 833\n",
"\n",
"clear;clc; close;\n",
"	\n",
"// Given data\n",
"C=100*10^-9;// capacitance in faraday\n",
"R=10^3;// resistance in ohms\n",
"f=10^3;// frequency in hertz\n",
"\n",
"// Calculations\n",
"fo=1/(2*%pi*R*C);// cutoff frequency in hertz\n",
"angle=2*atan(fo/f)*180/%pi;// phase shift in degree\n",
"disp('degrees',angle,'phase shift=')\n",
"\n",
"// Result\n",
"// Phase shift is 116 degrees"
   ]
   }
,
{
		   "cell_type": "markdown",
		   "metadata": {},
		   "source": [
			"## Example 21.1: example1.sce"
		   ]
		  },
  {
"cell_type": "code",
	   "execution_count": null,
	   "metadata": {
	    "collapsed": true
	   },
	   "outputs": [],
"source": [
"// find voltage gain ,cutoff frequency\n",
"// Electronic Principles\n",
"// By Albert Malvino , David Bates\n",
"// Seventh Edition\n",
"// The McGraw-Hill Companies\n",
"// Example 21-1, page 806\n",
"\n",
"clear;clc; close;\n",
"	\n",
"// Given data\n",
"R1=10^3;// in ohms\n",
"R2=39*10^3;// in ohms\n",
"R3=12*10^3;// in ohms\n",
"C1=680*10^-12;// capacitance in faraday\n",
"\n",
"// Calculations\n",
"Av=(R2/R1)+1;// voltage gain\n",
"fc=1/(2*%pi*R3*C1);// cutoff frequency in hertz\n",
"disp(Av,'Voltage gain=')\n",
"disp('Hertz',fc,'cutoff frequency=')\n",
"\n",
"// Result\n",
"// voltage gain is 40\n",
"// cutoff frequency is 19.5 KHertz"
   ]
   }
,
{
		   "cell_type": "markdown",
		   "metadata": {},
		   "source": [
			"## Example 21.2: example2.sce"
		   ]
		  },
  {
"cell_type": "code",
	   "execution_count": null,
	   "metadata": {
	    "collapsed": true
	   },
	   "outputs": [],
"source": [
"// find voltage gain ,cutoff frequency\n",
"// Electronic Principles\n",
"// By Albert Malvino , David Bates\n",
"// Seventh Edition\n",
"// The McGraw-Hill Companies\n",
"// Example 21-2, page 807\n",
"\n",
"clear;clc; close;\n",
"	\n",
"// Given data\n",
"R1=220;// in ohms\n",
"R2=43*10^3;// in ohms\n",
"C1=100*10^-12;// capacitance in faraday\n",
"\n",
"// Calculations\n",
"Av=-R2/R1;// voltage gain\n",
"fc=1/(2*%pi*R2*C1);// cutoff frequency in hertz\n",
"disp(Av,'Voltage gain=')\n",
"disp('Hertz',fc,'cutoff frequency=')\n",
"\n",
"// Result\n",
"// Voltage gain is -195\n",
"// Cutoff frequency is 37 KHertz"
   ]
   }
,
{
		   "cell_type": "markdown",
		   "metadata": {},
		   "source": [
			"## Example 21.3: example3.sce"
		   ]
		  },
  {
"cell_type": "code",
	   "execution_count": null,
	   "metadata": {
	    "collapsed": true
	   },
	   "outputs": [],
"source": [
"// find pole frequency ,Q,cutoff frequency\n",
"// Electronic Principles\n",
"// By Albert Malvino , David Bates\n",
"// Seventh Edition\n",
"// The McGraw-Hill Companies\n",
"// Example 21-3, page 811\n",
"\n",
"clear;clc; close;\n",
"	\n",
"// Given data\n",
"C1=820*10^-12;// capacitance in faraday\n",
"C2=1.64*10^-9;// capacitance in faraday\n",
"R=30*10^3;// resistance in ohms\n",
"\n",
"// Calculations\n",
"Q=((C2/C1)^0.5)/2;// q of the filter\n",
"fp=1/(2*%pi*R*((C1*C2)^0.5));// peak frequency in hertz\n",
"fc=fp;// for Butterworth response cutoff frequency is equal to peak frequency\n",
"disp(Q,'Q of the filter=')\n",
"disp('hertz',fc,'cutoff frequency=')\n",
"disp('hertz',fp,'peak frequency=')\n",
"\n",
"// Result\n",
"// Q of the filter is 0.707(Butterworth response)\n",
"// peak frequency is 4.58 kHertz\n",
"// cutoff frequency is 4.58 kHertz"
   ]
   }
,
{
		   "cell_type": "markdown",
		   "metadata": {},
		   "source": [
			"## Example 21.4: example4.sce"
		   ]
		  },
  {
"cell_type": "code",
	   "execution_count": null,
	   "metadata": {
	    "collapsed": true
	   },
	   "outputs": [],
"source": [
"// find pole frequency ,Q,cutoff frequency\n",
"// Electronic Principles\n",
"// By Albert Malvino , David Bates\n",
"// Seventh Edition\n",
"// The McGraw-Hill Companies\n",
"// Example 21-4, page 811\n",
"\n",
"clear;clc; close;\n",
"	\n",
"// Given data\n",
"C1=330*10^-12;// capacitance in faraday\n",
"C2=440*10^-12;// capacitance in faraday\n",
"R=51*10^3;// resistance in ohms\n",
"Kc=0.786;// constant for Bessel response\n",
"\n",
"// Calculations\n",
"Q=((C2/C1)^0.5)/2;// q of the filter\n",
"fp=1/(2*%pi*R*((C1*C2)^0.5));// peak frequency in hertz\n",
"fc=Kc*fp;// for Bessel's response cutoff frequency is Kc*peak frequency\n",
"disp(Q,'Q of the filter=')\n",
"disp('hertz',fc,'cutoff frequency=')\n",
"disp('hertz',fp,'peak frequency=')\n",
"\n",
"// Result\n",
"// Q of the filter is 0.577(Bessel response)\n",
"// peak frequency is 8.19 kHertz\n",
"// cutoff frequency is 6.44 kHertz"
   ]
   }
,
{
		   "cell_type": "markdown",
		   "metadata": {},
		   "source": [
			"## Example 21.5: example5.sce"
		   ]
		  },
  {
"cell_type": "code",
	   "execution_count": null,
	   "metadata": {
	    "collapsed": true
	   },
	   "outputs": [],
"source": [
"// find pole frequency ,Q,cutoff frequency, 3-db frequencies\n",
"// Electronic Principles\n",
"// By Albert Malvino , David Bates\n",
"// Seventh Edition\n",
"// The McGraw-Hill Companies\n",
"// Example 21-5, page 812\n",
"\n",
"clear;clc; close;\n",
"	\n",
"// Given data\n",
"C1=390*10^-12;// capacitance in faraday\n",
"C2=27*10^-9;// capacitance in faraday\n",
"R=22*10^3;// resistance in ohms\n",
"Ap=12.5;// in decibel\n",
"K0=0.99;// constant \n",
"Kc=1.38;// constant \n",
"K3=1.54;// constant \n",
"\n",
"// Calculations\n",
"Q=((C2/C1)^0.5)/2;// q of the filter\n",
"fp=1/(2*%pi*R*((C1*C2)^0.5));// peak frequency in hertz\n",
"fc=Kc*fp;// cutoff frequency in hertz\n",
"f3db=K3*fp;// 3-db frequency in hertz\n",
"disp(Q,'Q of the filter=')\n",
"disp('hertz',fc,'cutoff frequency=')\n",
"disp('hertz',fp,'peak frequency=')\n",
"disp('hertz',f3db,'3db frequency=')\n",
"\n",
"// Result\n",
"// Q of the filter is 4.16\n",
"// peak frequency is 2.23 kHertz\n",
"// cutoff frequency is 3.08 kHertz\n",
"// 3-db frequency is 3.43 kHertz"
   ]
   }
,
{
		   "cell_type": "markdown",
		   "metadata": {},
		   "source": [
			"## Example 21.6: example6.sce"
		   ]
		  },
  {
"cell_type": "code",
	   "execution_count": null,
	   "metadata": {
	    "collapsed": true
	   },
	   "outputs": [],
"source": [
"// find pole frequency ,Q,cutoff frequency\n",
"// Electronic Principles\n",
"// By Albert Malvino , David Bates\n",
"// Seventh Edition\n",
"// The McGraw-Hill Companies\n",
"// Example 21-6, page 817\n",
"\n",
"clear;clc; close;\n",
"	\n",
"// Given data\n",
"C=330*10^-12;// capacitance in faraday\n",
"R1=51*10^3;// resistance in ohms\n",
"R2=30*10^3;// resistance in ohms\n",
"R=47*10^3;// resistance in ohms\n",
"\n",
"// Calculations\n",
"Av=(R2/R1)+1;// midband voltage gain\n",
"Q=1/(3-Av);// q of the filter\n",
"fp=1/(2*%pi*R*C);// peak frequency in hertz\n",
"fc=fp;// for Butterworth response cutoff frequency is equal to peak frequency\n",
"disp(Q,'Q of the filter=')\n",
"disp('hertz',fc,'cutoff frequency=')\n",
"disp('hertz',fp,'peak frequency=')\n",
"\n",
"// Result\n",
"// Q of the filter is 0.709\n",
"// peak frequency is 10.3 kHertz\n",
"// cutoff frequency is 10.3 kHertz"
   ]
   }
,
{
		   "cell_type": "markdown",
		   "metadata": {},
		   "source": [
			"## Example 21.7: example7.sce"
		   ]
		  },
  {
"cell_type": "code",
	   "execution_count": null,
	   "metadata": {
	    "collapsed": true
	   },
	   "outputs": [],
"source": [
"// find pole frequency ,Q,cutoff frequency\n",
"// Electronic Principles\n",
"// By Albert Malvino , David Bates\n",
"// Seventh Edition\n",
"// The McGraw-Hill Companies\n",
"// Example 21-7, page 817\n",
"\n",
"clear;clc; close;\n",
"	\n",
"// Given data\n",
"C=100*10^-12;// capacitance in faraday\n",
"R1=56*10^3;// resistance in ohms\n",
"R2=15*10^3;// resistance in ohms\n",
"R=82*10^3;// resistance in ohms\n",
"Kc=0.786;// constant for Bessel response\n",
"\n",
"// Calculations\n",
"Av=(R2/R1)+1;// midband voltage gain\n",
"Q=1/(3-Av);// q of the filter\n",
"fp=1/(2*%pi*R*C);// peak frequency in hertz\n",
"fc=Kc*fp;// for Bessel's response cutoff frequency is Kc*peak frequency\n",
"disp(Q,'Q of the filter=')\n",
"disp('hertz',fc,'cutoff frequency=')\n",
"disp('hertz',fp,'peak frequency=')\n",
"\n",
"// Result\n",
"// Q of the filter is 0.578\n",
"// peak frequency is 19.4 kHertz\n",
"// cutoff frequency is 15.2 kHertz"
   ]
   }
,
{
		   "cell_type": "markdown",
		   "metadata": {},
		   "source": [
			"## Example 21.9: example9.sce"
		   ]
		  },
  {
"cell_type": "code",
	   "execution_count": null,
	   "metadata": {
	    "collapsed": true
	   },
	   "outputs": [],
"source": [
"// find pole frequency ,Q,cutoff frequency\n",
"// Electronic Principles\n",
"// By Albert Malvino , David Bates\n",
"// Seventh Edition\n",
"// The McGraw-Hill Companies\n",
"// Example 21-9, page 820\n",
"\n",
"clear;clc; close;\n",
"	\n",
"// Given data\n",
"C=4.7*10^-9;// capacitance in faraday\n",
"R1=24*10^3;// resistance in ohms\n",
"R2=12*10^3;// resistance in ohms\n",
"\n",
"// Calculations\n",
"Q=((R1/R2)^0.5)/2;// q of the filter\n",
"fp=1/(2*%pi*C*((R1*R2)^0.5));// peak frequency in hertz\n",
"fc=fp;// for Butterworth response cutoff frequency is equal to peak frequency\n",
"disp(Q,'Q of the filter=')\n",
"disp('hertz',fc,'cutoff frequency=')\n",
"disp('hertz',fp,'peak frequency=')\n",
"\n",
"// Results\n",
"// Q of the filter is 0.707(Butterworth response)\n",
"// peak frequency is 2 kHertz\n",
"// cutoff frequency is 2 kHertz"
   ]
   }
],
"metadata": {
		  "kernelspec": {
		   "display_name": "Scilab",
		   "language": "scilab",
		   "name": "scilab"
		  },
		  "language_info": {
		   "file_extension": ".sce",
		   "help_links": [
			{
			 "text": "MetaKernel Magics",
			 "url": "https://github.com/calysto/metakernel/blob/master/metakernel/magics/README.md"
			}
		   ],
		   "mimetype": "text/x-octave",
		   "name": "scilab",
		   "version": "0.7.1"
		  }
		 },
		 "nbformat": 4,
		 "nbformat_minor": 0
}
