{
"cells": [
 {
		   "cell_type": "markdown",
	   "metadata": {},
	   "source": [
       "# Chapter 16: Frequency Effects"
	   ]
	},
{
		   "cell_type": "markdown",
		   "metadata": {},
		   "source": [
			"## Example 16.1: example1.sce"
		   ]
		  },
  {
"cell_type": "code",
	   "execution_count": null,
	   "metadata": {
	    "collapsed": true
	   },
	   "outputs": [],
"source": [
"// calculate voltage gain of ac amplifier\n",
"// Electronic Principles\n",
"// By Albert Malvino , David Bates\n",
"// Seventh Edition\n",
"// The McGraw-Hill Companies\n",
"// Example 16-1, page 567\n",
"\n",
"clear; clc; close;\n",
"\n",
"// Given data\n",
"f1=20;// cutoff frequency in hertz\n",
"f2=20*10^3;// cutoff frequency in hertz\n",
"fin1=5;// input frequency in hertz\n",
"fin2=200*10^3;// input frequency in hertz\n",
"Avmid=200;// midband voltage gain\n",
"\n",
"// Calculations\n",
"Av1=Avmid/((1+((f1/fin1)^2))^0.5)// Voltage gain for input frequency below midband\n",
"Av2=Avmid*1/((1+((fin2/f2)^2))^0.5); // Voltage gain for input frequency above midband\n",
"disp(Av1,'Voltage  gain for input frequency below midband')\n",
"disp(Av2,'Voltage gain or input frequency above midband')\n",
"\n",
"// Result\n",
"// Voltage gain for an input frequency of 5 Hertz is 48.5\n",
"// Voltage gain for an input frequency of 20 KHertz is 19.9"
   ]
   }
,
{
		   "cell_type": "markdown",
		   "metadata": {},
		   "source": [
			"## Example 16.3: example3.sce"
		   ]
		  },
  {
"cell_type": "code",
	   "execution_count": null,
	   "metadata": {
	    "collapsed": true
	   },
	   "outputs": [],
"source": [
"// calculate voltage gain \n",
"// Electronic Principles\n",
"// By Albert Malvino , David Bates\n",
"// Seventh Edition\n",
"// The McGraw-Hill Companies\n",
"// Example 16-3, page 569\n",
"\n",
"clear; clc; close;\n",
"\n",
"// Given data\n",
"f=10;// cutoff frequency in hertz\n",
"Avmid=100000;// midband voltage gain\n",
"f1=100;// input frequency in hertz\n",
"f2=10^3;// input frequency in hertz\n",
"f3=10^4;// input frequency in hertz\n",
"f4=10^5;// input frequency in hertz\n",
"f5=10^6;// input frequency in hertz\n",
"\n",
"// Calculations\n",
"Av1=Avmid/((1+(f1/f)^2)^0.5)// Voltage gain for input frequency below midband\n",
"Av2=Avmid/((1+(f2/f)^2)^0.5)// Voltage gain for input frequency below midband\n",
"Av3=Avmid/((1+(f3/f)^2)^0.5)// Voltage gain for input frequency below midband\n",
"Av4=Avmid/((1+(f4/f)^2)^0.5)// Voltage gain for input frequency below midband\n",
"Av5=Avmid/((1+(f5/f)^2)^0.5)// Voltage gain for input frequency below midband\n",
"disp(Av1,'Voltage gain 1=')\n",
"disp(Av2,'Voltage gain 2=')\n",
"disp(Av3,'Voltage gain 3=')\n",
"disp(Av4,'Voltage gain 4=')\n",
"disp(Av5,'Voltage gain 5=')\n",
"\n",
"// Result\n",
"// Voltage gain for an input frequency of 100 Hertz is approximately 10000 \n",
"// Voltage gain for an input frequency of 1000 Hertz is approximately 1000 \n",
"// Voltage gain for an input frequency of 1000 Hertz is approximately 100 \n",
"// Voltage gain for an input frequency of 10000Hertz is approximately 10 \n",
"// Voltage gain for an input frequency of 100000 Hertz is approximately 1 "
   ]
   }
,
{
		   "cell_type": "markdown",
		   "metadata": {},
		   "source": [
			"## Example 16.4: example4.sce"
		   ]
		  },
  {
"cell_type": "code",
	   "execution_count": null,
	   "metadata": {
	    "collapsed": true
	   },
	   "outputs": [],
"source": [
"// calculate decibel power gain\n",
"// Electronic Principles\n",
"// By Albert Malvino , David Bates\n",
"// Seventh Edition\n",
"// The McGraw-Hill Companies\n",
"// Example 16-4, page 571\n",
"\n",
"clear; clc; close;\n",
"\n",
"// Given data\n",
"Ap1=1;// power gain\n",
"Ap2=2;// power gain\n",
"Ap3=4;// power gain\n",
"Ap4=8;// power gain\n",
"\n",
"// Calculations\n",
"Apdb1=10*log10(Ap1)// decibel power gain\n",
"Apdb2=10*log10(Ap2)// decibel power gain\n",
"Apdb3=10*log10(Ap3)// decibel power gain\n",
"Apdb4=10*log10(Ap4)// decibel power gain\n",
"disp('dB',Apdb1,'decibel power gain 1=')\n",
"disp('dB',Apdb2,'decibel power gain 2=')\n",
"disp('dB',Apdb3,'decibel power gain 3=')\n",
"disp('dB',Apdb4,'decibel power gain 4=')\n",
"\n",
"// Result\n",
"// decibal power gain for a voltage gain of 1 is 0 dB\n",
"// decibal power gain for a voltage gain of 2 is 3 dB\n",
"// decibal power gain for a voltage gain of 4 is 6 dB\n",
"// decibal power gain for a voltage gain of 8 is 9 dB"
   ]
   }
,
{
		   "cell_type": "markdown",
		   "metadata": {},
		   "source": [
			"## Example 16.5: example5.sce"
		   ]
		  },
  {
"cell_type": "code",
	   "execution_count": null,
	   "metadata": {
	    "collapsed": true
	   },
	   "outputs": [],
"source": [
"// calculate decibel power gain\n",
"// Electronic Principles\n",
"// By Albert Malvino , David Bates\n",
"// Seventh Edition\n",
"// The McGraw-Hill Companies\n",
"// Example 16-5, page 571\n",
"\n",
"clear; clc; close;\n",
"\n",
"// Given data\n",
"Ap1=1;// power gain\n",
"Ap2=0.5;// power gain\n",
"Ap3=0.25;// power gain\n",
"Ap4=0.125;// power gain\n",
"\n",
"// Calculations\n",
"Apdb1=10*log10(Ap1)// decibel power gain\n",
"Apdb2=10*log10(Ap2)// decibel power gain\n",
"Apdb3=10*log10(Ap3)// decibel power gain\n",
"Apdb4=10*log10(Ap4)// decibel power gain\n",
"disp('dB',Apdb1,'decibel power gain 1=')\n",
"disp('dB',Apdb2,'decibel power gain 2=')\n",
"disp('dB',Apdb3,'decibel power gain 3=')\n",
"disp('dB',Apdb4,'decibel power gain 4=')\n",
"\n",
"\n",
"// Result\n",
"// decibal power gain for a voltage gain of 1 is 0 dB\n",
"// decibal power gain for a voltage gain of 0.5 is -3 dB\n",
"// decibal power gain for a voltage gain of 0.25 is -6 dB\n",
"// decibal power gain for a voltage gain of 0.125 is -9 dB"
   ]
   }
,
{
		   "cell_type": "markdown",
		   "metadata": {},
		   "source": [
			"## Example 16.6: example6.sce"
		   ]
		  },
  {
"cell_type": "code",
	   "execution_count": null,
	   "metadata": {
	    "collapsed": true
	   },
	   "outputs": [],
"source": [
"// calculate decibel power gain\n",
"// Electronic Principles\n",
"// By Albert Malvino , David Bates\n",
"// Seventh Edition\n",
"// The McGraw-Hill Companies\n",
"// Example 16-6, page 572\n",
"\n",
"clear; clc; close;\n",
"\n",
"// Given data\n",
"Ap1=1;// power gain\n",
"Ap2=10;// power gain\n",
"Ap3=100;// power gain\n",
"Ap4=1000;// power gain\n",
"\n",
"// Calculations\n",
"Apdb1=10*log10(Ap1)// decibel power gain\n",
"Apdb2=10*log10(Ap2)// decibel power gain\n",
"Apdb3=10*log10(Ap3)// decibel power gain\n",
"Apdb4=10*log10(Ap4)// decibel power gain\n",
"disp('dB',Apdb1,'decibel power gain 1=')\n",
"disp('dB',Apdb2,'decibel power gain 2=')\n",
"disp('dB',Apdb3,'decibel power gain 3=')\n",
"disp('dB',Apdb4,'decibel power gain 4=')\n",
"\n",
"\n",
"// Result\n",
"// decibal power gain for a voltage gain of 1 is 0 dB\n",
"// decibal power gain for a voltage gain of 10 is 10 dB\n",
"// decibal power gain for a voltage gain of 100 is 20 dB\n",
"// decibal power gain for a voltage gain of 1000 is 30 dB"
   ]
   }
,
{
		   "cell_type": "markdown",
		   "metadata": {},
		   "source": [
			"## Example 16.7: example7.sce"
		   ]
		  },
  {
"cell_type": "code",
	   "execution_count": null,
	   "metadata": {
	    "collapsed": true
	   },
	   "outputs": [],
"source": [
"// calculate decibel power gain\n",
"// Electronic Principles\n",
"// By Albert Malvino , David Bates\n",
"// Seventh Edition\n",
"// The McGraw-Hill Companies\n",
"// Example 16-7, page 572\n",
"\n",
"clear; clc; close;\n",
"\n",
"// Given data\n",
"Ap1=1;// power gain\n",
"Ap2=0.1;// power gain\n",
"Ap3=0.01;// power gain\n",
"Ap4=0.001;// power gain\n",
"\n",
"// Calculations\n",
"Apdb1=10*log10(Ap1)// decibel power gain\n",
"Apdb2=10*log10(Ap2)// decibel power gain\n",
"Apdb3=10*log10(Ap3)// decibel power gain\n",
"Apdb4=10*log10(Ap4)// decibel power gain\n",
"disp('dB',Apdb1,'decibal power gain 1=')\n",
"disp('dB',Apdb2,'decibal power gain 2=')\n",
"disp('dB',Apdb3,'decibal power gain 3=')\n",
"disp('dB',Apdb4,'decibal power gain 4=')\n",
"\n",
"// Result\n",
"// decibal power gain for a voltage gain of 1 is 0 dB\n",
"// decibal power gain for a voltage gain of 0.1 is -10 dB\n",
"// decibal power gain for a voltage gain of 0.01 is -20 dB\n",
"// decibal power gain for a voltage gain of 0.001 is -30 dB"
   ]
   }
],
"metadata": {
		  "kernelspec": {
		   "display_name": "Scilab",
		   "language": "scilab",
		   "name": "scilab"
		  },
		  "language_info": {
		   "file_extension": ".sce",
		   "help_links": [
			{
			 "text": "MetaKernel Magics",
			 "url": "https://github.com/calysto/metakernel/blob/master/metakernel/magics/README.md"
			}
		   ],
		   "mimetype": "text/x-octave",
		   "name": "scilab",
		   "version": "0.7.1"
		  }
		 },
		 "nbformat": 4,
		 "nbformat_minor": 0
}
