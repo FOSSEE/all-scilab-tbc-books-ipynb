{
"cells": [
 {
		   "cell_type": "markdown",
	   "metadata": {},
	   "source": [
       "# Chapter 14: MOSFETs"
	   ]
	},
{
		   "cell_type": "markdown",
		   "metadata": {},
		   "source": [
			"## Example 14.12: example12.sce"
		   ]
		  },
  {
"cell_type": "code",
	   "execution_count": null,
	   "metadata": {
	    "collapsed": true
	   },
	   "outputs": [],
"source": [
"// calculate the RC time constant and lamp power at full brightness \n",
"// Electronic Principles\n",
"// By Albert Malvino , David Bates\n",
"// Seventh Edition\n",
"// The McGraw-Hill Companies\n",
"// Example 14-12, page 504\n",
"\n",
"clear; clc; close;\n",
"\n",
"// Given data\n",
"R1=2*10^6;// resistance in ohms\n",
"R2=1*10^6;// resistance in ohms\n",
"R=10;// resistance of the lamp in ohms\n",
"Rdson=1.07;// static drain-source on-resistance in ohms\n",
"Vdd=30;// drain cutoff voltage in volts \n",
"C=10*10^-6;// capacitance in faraday\n",
"\n",
"// Calculations\n",
"Rth=R1*R2/(R1+R2);// thevenin resistance in ohms\n",
"RC=Rth*C;// time constant in seconds\n",
"Id=Vdd/(R+Rdson) ;// lamp current in amperes\n",
"P=Id*Id*R;// lamp power in watts at full brightness\n",
"disp('seconds',RC,'time constant=')\n",
"disp('watts',P,'lamp power =')\n",
"\n",
"// Result\n",
"// RC time constant is 6.67 seconds\n",
"// Lamp power is 73.4 Watts"
   ]
   }
,
{
		   "cell_type": "markdown",
		   "metadata": {},
		   "source": [
			"## Example 14.13: example13.sce"
		   ]
		  },
  {
"cell_type": "code",
	   "execution_count": null,
	   "metadata": {
	    "collapsed": true
	   },
	   "outputs": [],
"source": [
"// find the constant k value and drain current of E-MOSFET \n",
"// Electronic Principles\n",
"// By Albert Malvino , David Bates\n",
"// Seventh Edition\n",
"// The McGraw-Hill Companies\n",
"// Example 14-13, page 506\n",
"\n",
"clear; clc; close;\n",
"\n",
"// Given data\n",
"// 2N7000\n",
"Idon=600*10^-3 ;// in amperes\n",
"Vgson=4.5;// from data sheet in volts \n",
"Vgsth=2.1;// from data sheet in volts\n",
"Vgs1=3 ;// gate source voltage in volts\n",
"Vgs2=4.5 ;// gate source voltage in volts\n",
"\n",
"// Calculations\n",
"k=Idon/([Vgson-Vgsth]^2)\n",
"Id1=k*([Vgs1-Vgsth]^2)\n",
"Id2=k*([Vgs2-Vgsth]^2)\n",
"disp(k,'constant=')\n",
"disp('amperes',Id1,'drain current 1=')\n",
"disp('amperes',Id2,'drain current 2=')\n",
"\n",
"// Result\n",
"// Constant k is 104 mAmperes/Volts^2\n",
"// Drain current when Vgs is 3 Volts is 84.4 mAmperes \n",
"// Drain current when Vgs is 4.5 Volts is 600 mAmperes"
   ]
   }
,
{
		   "cell_type": "markdown",
		   "metadata": {},
		   "source": [
			"## Example 14.14: example14.sce"
		   ]
		  },
  {
"cell_type": "code",
	   "execution_count": null,
	   "metadata": {
	    "collapsed": true
	   },
	   "outputs": [],
"source": [
"// find value of Rd for the MOSFET \n",
"// Electronic Principles\n",
"// By Albert Malvino , David Bates\n",
"// Seventh Edition\n",
"// The McGraw-Hill Companies\n",
"// Example 14-14, page 507\n",
"\n",
"clear; clc; close;\n",
"\n",
"// Given data\n",
"Idon=3*10^-3;// from the data sheet of the E-MOSFET in amperes\n",
"Vdson=10;// from data sheet of the E-MOSFET in volts \n",
"Vdd=25 ;// drain cutoff voltage in volts\n",
"\n",
"// Calculations\n",
"Rd=(Vdd-Vdson)/Idon ;// Rd in ohms\n",
"disp('ohms',Rd,'resistance=')\n",
"\n",
"// Result\n",
"// A resistance of 5kohms will allow the MOSFET to operate at a specified Q point."
   ]
   }
,
{
		   "cell_type": "markdown",
		   "metadata": {},
		   "source": [
			"## Example 14.15: example15.sce"
		   ]
		  },
  {
"cell_type": "code",
	   "execution_count": null,
	   "metadata": {
	    "collapsed": true
	   },
	   "outputs": [],
"source": [
"// find Vgs,Id,gm,Vout\n",
"// Electronic Principles\n",
"// By Albert Malvino , David Bates\n",
"// Seventh Edition\n",
"// The McGraw-Hill Companies\n",
"// Example 14-15, page 508\n",
"\n",
"clear; clc; close;\n",
"\n",
"// Given data\n",
"k=104*10^-3 ;// constant k of the E-MOSFET\n",
"Idon=600*10^-3 ;// in amperes \n",
"Vgsth=2.1;// in volts\n",
"R1=10^6;// in ohms from the given figure\n",
"R2=350*10^3;// in ohms from the given figure\n",
"Vin=100*10^-3;// in volts from the given figure\n",
"Rd=68;// in ohms from the given figure\n",
"Rl=10^3;// in ohms from the given figure\n",
"Vdd=12;// drain cutoff voltage in volts from the given figure\n",
"\n",
"// Calculations\n",
"Vg=(R2/(R1+R2))*Vdd ;// ground voltage in volts\n",
"Vgs=Vg;// Vgs = ground voltage\n",
"Id=k*([Vgs-Vgsth]^2)\n",
"gm=2*k*(Vgs-Vgsth);//transconductance in Seimens\n",
"rd=Rd*Rl/(Rd+Rl) ;// rd=Rd||Rl in ohms\n",
"Av=gm*rd;// voltage gain\n",
"Vout=Av*Vin;// output voltage in volts\n",
"disp('Volts',Vgs,'gate-source voltage=')\n",
"disp('Amperes',Id,'drain current=')\n",
"disp('Seimen',gm,'transconductane=')\n",
"disp('Volts',Vout,'output voltage=')\n",
"\n",
"// Result\n",
"// Vgs is 3.11 Volts\n",
"// Drain current is 106 mAmperes \n",
"// Transconductance is 210 mSeimens\n",
"// Output voltage is 1.34 mVolts"
   ]
   }
,
{
		   "cell_type": "markdown",
		   "metadata": {},
		   "source": [
			"## Example 14.1: example1.sce"
		   ]
		  },
  {
"cell_type": "code",
	   "execution_count": null,
	   "metadata": {
	    "collapsed": true
	   },
	   "outputs": [],
"source": [
"// calculate drain current at given gate-source voltages\n",
"// Electronic Principles\n",
"// By Albert Malvino , David Bates\n",
"// Seventh Edition\n",
"// The McGraw-Hill Companies\n",
"// Example 14-1, page 482\n",
"\n",
"clear; clc; close;\n",
"\n",
"// Given data\n",
"// D-MOSFET\n",
"Vgsoff=-3;// gate-source cutoff voltage in volts\n",
"Idss=6*10^-3 ;// maximum drain current in amperes\n",
"Vgs1=-1 ;// gate source voltage in volts\n",
"Vgs2=-2 ;// gate source voltage in volts\n",
"Vgs3=0  ;// gate source voltage in volts\n",
"Vgs4=1  ;// gate source voltage in volts\n",
"Vgs5=2  ;// gate source voltage in volts\n",
"\n",
"// Calculations\n",
"Id1=Idss*(1-(Vgs1/Vgsoff))^2 ;// drain current in amperes\n",
"Id2=Idss*(1-(Vgs2/Vgsoff))^2 ;// drain current in amperes\n",
"Id3=Idss*(1-(Vgs3/Vgsoff))^2 ;// drain current in amperes\n",
"Id4=Idss*(1-(Vgs4/Vgsoff))^2 ;// drain current in amperes\n",
"Id5=Idss*(1-(Vgs5/Vgsoff))^2 ;// drain current in amperes\n",
"disp('amperes',Id1,'drain current 1=')\n",
"disp('amperes',Id2,'drain current 2=')\n",
"disp('amperes',Id3,'drain current 3=')\n",
"disp('amperes',Id4,'drain current 4=')\n",
"disp('amperes',Id5,'drain current 5=')\n",
"\n",
"// Result\n",
"// Values of Drain current is 2.67, 0.667, 6, 10.7, 16.7  mAmperes respectively."
   ]
   }
,
{
		   "cell_type": "markdown",
		   "metadata": {},
		   "source": [
			"## Example 14.2: example2.sce"
		   ]
		  },
  {
"cell_type": "code",
	   "execution_count": null,
	   "metadata": {
	    "collapsed": true
	   },
	   "outputs": [],
"source": [
"// calculate the circuit's output voltage\n",
"// Electronic Principles\n",
"// By Albert Malvino , David Bates\n",
"// Seventh Edition\n",
"// The McGraw-Hill Companies\n",
"// Example 14-2, page 482\n",
"\n",
"clear; clc; close;\n",
"\n",
"// Given data\n",
"// D-MOSFET amplifier\n",
"Vgsoff=-2 ;// gate-source cutoff voltage in volts\n",
"Idss=4*10^-3 ;// maximum drain current in amperes\n",
"gmo=2000*10^-6 ;// in seimens\n",
"Vdd=15; // in volts from the figure\n",
"Rd=2*10^3;// in ohms from the figure\n",
"Rl=10*10^3;// in ohms from the figure\n",
"Vin=20*10^-3 ;// input voltage in volts\n",
"\n",
"// Calculations\n",
"Vds=Vdd-(Idss*Rd) ;// drain source voltage in volts\n",
"rd=(Rd*Rl)/(Rd+Rl) ;// ac drain resistance in ohms\n",
"gm=gmo ; // as Vgs=0 \n",
"Av=gm*rd ;// amplifier's voltage gain \n",
"Vout=Av*Vin; // in volts\n",
"disp('Volts ',Vout,'output voltage=')\n",
"\n",
"// Result\n",
"// Output voltage is 66.8 mVolts"
   ]
   }
,
{
		   "cell_type": "markdown",
		   "metadata": {},
		   "source": [
			"## Example 14.6: example6.sce"
		   ]
		  },
  {
"cell_type": "code",
	   "execution_count": null,
	   "metadata": {
	    "collapsed": true
	   },
	   "outputs": [],
"source": [
"// calculate output voltage\n",
"// Electronic Principles\n",
"// By Albert Malvino , David Bates\n",
"// Seventh Edition\n",
"// The McGraw-Hill Companies\n",
"// Example 14-6, page 496\n",
"\n",
"clear; clc; close;\n",
"\n",
"// Given data\n",
"Vdd=20;// supply voltage in volts\n",
"Rd=10*10^3;// resistance in ohms\n",
"Rdson=50;// static drain-source on-resistance in ohms\n",
"\n",
"// Calculations\n",
"Voutlow=Vdd; // when input voltage is low, the lower MOSFET is open and the output voltage= supply voltage\n",
"Vouthigh=Vdd*(Rdson/(Rdson+Rd)) ;// when input voltage is high, the lower MOSFET has a resistance of Rd and the output voltage= ground voltage\n",
"disp('Volts ',Vouthigh,'output voltage at high input voltage=')\n",
"disp('Volts ',Voutlow,'output voltage at low input voltage=')\n",
"\n",
"// Result\n",
"// Output voltage is 20 Volts when input voltage is low\n",
"// Output voltage is 100 mVolts when input voltage is high"
   ]
   }
,
{
		   "cell_type": "markdown",
		   "metadata": {},
		   "source": [
			"## Example 14.7: example7.sce"
		   ]
		  },
  {
"cell_type": "code",
	   "execution_count": null,
	   "metadata": {
	    "collapsed": true
	   },
	   "outputs": [],
"source": [
"// calculate output voltage\n",
"// Electronic Principles\n",
"// By Albert Malvino , David Bates\n",
"// Seventh Edition\n",
"// The McGraw-Hill Companies\n",
"// Example 14-7, page 496\n",
"\n",
"clear; clc; close;\n",
"\n",
"// Given data\n",
"Vdd=10;// supply voltage in volts\n",
"Rd=2*10^3;// resistance in ohms\n",
"Rdson=500;// static drain-source on-resistance in ohms\n",
"\n",
"// Calculations\n",
"Voutlow=Vdd; // when input voltage is low, the lower MOSFET is open and the output voltage= supply voltage\n",
"Vouthigh=Vdd*(Rdson/(Rdson+Rd)) ;// when input voltage is high, the lower MOSFET has a resistance of Rd and the output voltage= ground voltage\n",
"disp('Volts ',Vouthigh,'output voltage at high input voltage=')\n",
"disp('Volts ',Voutlow,'output voltage at low input voltage=')\n",
"\n",
"// Result\n",
"// Output voltage is 10 Volts when input voltage is low\n",
"// Output voltage is 2 Volts when input voltage is high"
   ]
   }
,
{
		   "cell_type": "markdown",
		   "metadata": {},
		   "source": [
			"## Example 14.9: example9.sce"
		   ]
		  },
  {
"cell_type": "code",
	   "execution_count": null,
	   "metadata": {
	    "collapsed": true
	   },
	   "outputs": [],
"source": [
"// calculate current through the motor winding \n",
"// Electronic Principles\n",
"// By Albert Malvino , David Bates\n",
"// Seventh Edition\n",
"// The McGraw-Hill Companies\n",
"// Example 14-9, page 502\n",
"\n",
"clear; clc; close;\n",
"\n",
"// Given data\n",
"// MTP4N80E\n",
"Vgson=10 ;// gate-source on-voltage in volts\n",
"Idon=2; // on-state drain current in amperes\n",
"Rdson=1.95; // static drain-source on resistance in ohms\n",
"Vdd=30;// drain cutoff voltage in volts\n",
"Rd=30;// drain cutoff voltage in ohms\n",
"\n",
"// Calculations\n",
"Idsat=Vdd/Rd;// drain saturation current in amperes\n",
"// as Idsat<Idon the power FET is equivalent to a resistance of Rdson so Rdson will have to be included to find the actual current\n",
"Id=Vdd/(Rd+Rdson) ;// current in amperes\n",
"disp('Amperes',Id,'Current through the motor windings=')\n",
"\n",
"// Result\n",
"// Current through the motor windings is 0.939 Amperes"
   ]
   }
],
"metadata": {
		  "kernelspec": {
		   "display_name": "Scilab",
		   "language": "scilab",
		   "name": "scilab"
		  },
		  "language_info": {
		   "file_extension": ".sce",
		   "help_links": [
			{
			 "text": "MetaKernel Magics",
			 "url": "https://github.com/calysto/metakernel/blob/master/metakernel/magics/README.md"
			}
		   ],
		   "mimetype": "text/x-octave",
		   "name": "scilab",
		   "version": "0.7.1"
		  }
		 },
		 "nbformat": 4,
		 "nbformat_minor": 0
}
