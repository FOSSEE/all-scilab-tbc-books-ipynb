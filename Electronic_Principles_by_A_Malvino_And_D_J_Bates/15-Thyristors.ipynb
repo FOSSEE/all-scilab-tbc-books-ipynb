{
"cells": [
 {
		   "cell_type": "markdown",
	   "metadata": {},
	   "source": [
       "# Chapter 15: Thyristors"
	   ]
	},
{
		   "cell_type": "markdown",
		   "metadata": {},
		   "source": [
			"## Example 15.1: example1.sce"
		   ]
		  },
  {
"cell_type": "code",
	   "execution_count": null,
	   "metadata": {
	    "collapsed": true
	   },
	   "outputs": [],
"source": [
"// find diode current\n",
"// Electronic Principles\n",
"// By Albert Malvino , David Bates\n",
"// Seventh Edition\n",
"// The McGraw-Hill Companies\n",
"// Example 15-1, page 524\n",
"\n",
"clear; clc; close;\n",
"\n",
"// Given data\n",
"Vb=10;// breakover voltage of the diode\n",
"V=15;// input voltage in volts\n",
"Ih=4*10^-3;// holding current in amperes\n",
"Vd=0.7 ;// voltage across diode in volts\n",
"R=100;// resistance in ohms\n",
"\n",
"// Calculations\n",
"// as V>Vb ,the diode breaks over .Taking into consideration the voltage across the diode\n",
"I=(V-Vd)/R;// diode current in amperes \n",
"disp('Amperes',I,'diode current=')\n",
"\n",
"// Result\n",
"// Diode current is 143 mAmperes"
   ]
   }
,
{
		   "cell_type": "markdown",
		   "metadata": {},
		   "source": [
			"## Example 15.4: example4.sce"
		   ]
		  },
  {
"cell_type": "code",
	   "execution_count": null,
	   "metadata": {
	    "collapsed": true
	   },
	   "outputs": [],
"source": [
"// find input and supply voltage for the SCR\n",
"// Electronic Principles\n",
"// By Albert Malvino , David Bates\n",
"// Seventh Edition\n",
"// The McGraw-Hill Companies\n",
"// Example 15-4, page 531\n",
"\n",
"clear; clc; close;\n",
"\n",
"// Given data\n",
"Vgt=0.75 ;// gate trigger voltage in volts\n",
"Igt=7*10^-3;// gate trigger current in amperes\n",
"Rg=10^3;// in ohms\n",
"Rl=100;// in ohms\n",
"Ih=6*10^-3;// holding current in amperes\n",
"\n",
"// Calculations\n",
"Vin=Vgt + (Igt*Rg);// input voltage in volts\n",
"Vcc=0.7 + (Ih*Rl);// supply voltage in volts\n",
"disp('Volts',Vin,'Input voltage=')\n",
"disp('Volts',Vcc,'Supply voltage=')\n",
"\n",
"// Result\n",
"// Minimum input voltage needed to trigger the SCR is 7.75 Volts\n",
"// Supply voltage that turns off the SCR is 1.3 Volts"
   ]
   }
,
{
		   "cell_type": "markdown",
		   "metadata": {},
		   "source": [
			"## Example 15.5: example5.sce"
		   ]
		  },
  {
"cell_type": "code",
	   "execution_count": null,
	   "metadata": {
	    "collapsed": true
	   },
	   "outputs": [],
"source": [
"// find peak output voltage and frequency\n",
"// Electronic Principles\n",
"// By Albert Malvino , David Bates\n",
"// Seventh Edition\n",
"// The McGraw-Hill Companies\n",
"// Example 15-5, page 532\n",
"\n",
"clear; clc; close;\n",
"\n",
"// Given data\n",
"R1=900;// from the figure in ohms\n",
"R2=100;// from the figure in ohms\n",
"Vgt=1 ;// gate trigger voltage in volts\n",
"Igt=200*10^-6;// gate trigger current in amperes\n",
"C=0.2*10^-6;// capacitance in faraday\n",
"R=50;// thevenin resistance facing the capacitance when the SCR is off\n",
"\n",
"// Calculations\n",
"Rth=R1*R2/(R1+R2);// thevenin resistance\n",
"Rg=Rth;// in ohms \n",
"Vin=Vgt + (Igt*Rg);// input voltage in volts\n",
"Vpeak=10*Vin;// because of 10:1 voltage divider, the output voltage is 10(Vin)\n",
"T=0.2*R*C ;// period of sawtooth is 20% of time constant in seconds\n",
"f=1/T;// frequency in Hertz\n",
"disp('Volts',Vpeak,'Peak output voltage=')\n",
"disp('hertz',f,'frequency=')\n",
"\n",
"// Results\n",
"// Peak output voltage is 10.1 Volts\n",
"// Frequency is 50 KHertz"
   ]
   }
,
{
		   "cell_type": "markdown",
		   "metadata": {},
		   "source": [
			"## Example 15.6: example6.sce"
		   ]
		  },
  {
"cell_type": "code",
	   "execution_count": null,
	   "metadata": {
	    "collapsed": true
	   },
	   "outputs": [],
"source": [
"// find supply voltage \n",
"// Electronic Principles\n",
"// By Albert Malvino , David Bates\n",
"// Seventh Edition\n",
"// The McGraw-Hill Companies\n",
"// Example 15-6, page 536\n",
"\n",
"clear; clc; close;\n",
"\n",
"// Given dataVz=5.6;// breakdown voltage in volts\n",
"Vgt=0.75;// gate trigger voltage in volts\n",
"Vz=5.6;// breakdown voltage in volts\n",
"\n",
"// Calculations\n",
"Vcc=Vz+Vgt;// overvoltage firing the SCR in volts\n",
"disp('Volts',Vcc,'Supply voltage=')\n",
"\n",
"// Results\n",
"// Supply voltage that turns the crowbar is 6.35 volts"
   ]
   }
,
{
		   "cell_type": "markdown",
		   "metadata": {},
		   "source": [
			"## Example 15.8: example8.sce"
		   ]
		  },
  {
"cell_type": "code",
	   "execution_count": null,
	   "metadata": {
	    "collapsed": true
	   },
	   "outputs": [],
"source": [
"// find current through the resistor\n",
"// Electronic Principles\n",
"// By Albert Malvino , David Bates\n",
"// Seventh Edition\n",
"// The McGraw-Hill Companies\n",
"// Example 15-8, page 546\n",
"\n",
"clear; clc; close;\n",
"\n",
"// Given data\n",
"R1=82;// givenin ohms\n",
"R2=22;// given in ohms\n",
"Vgt=75;//  in volts\n",
"\n",
"// Calculations\n",
"// Ideally the triac has 0 voltas across it when conducting \n",
"I=Vgt/R2;// current through 22 ohm resistor in amperes\n",
"disp('Amperes',I,'current through 22 ohm resistor=')\n",
"\n",
"// Results\n",
"// Current through the 22 ohm resistor is 3.41 Amperes"
   ]
   }
],
"metadata": {
		  "kernelspec": {
		   "display_name": "Scilab",
		   "language": "scilab",
		   "name": "scilab"
		  },
		  "language_info": {
		   "file_extension": ".sce",
		   "help_links": [
			{
			 "text": "MetaKernel Magics",
			 "url": "https://github.com/calysto/metakernel/blob/master/metakernel/magics/README.md"
			}
		   ],
		   "mimetype": "text/x-octave",
		   "name": "scilab",
		   "version": "0.7.1"
		  }
		 },
		 "nbformat": 4,
		 "nbformat_minor": 0
}
