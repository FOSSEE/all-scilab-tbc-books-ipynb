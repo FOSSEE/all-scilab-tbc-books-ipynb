{
"cells": [
 {
		   "cell_type": "markdown",
	   "metadata": {},
	   "source": [
       "# Chapter 1: Introduction"
	   ]
	},
{
		   "cell_type": "markdown",
		   "metadata": {},
		   "source": [
			"## Example 1.1: example1.sce"
		   ]
		  },
  {
"cell_type": "code",
	   "execution_count": null,
	   "metadata": {
	    "collapsed": true
	   },
	   "outputs": [],
"source": [
"// Example 1-1, page 9\n",
"clear;clc; close;\n",
"// Given data\n",
"R(1)=50; //source resistance of ac voltage in ohms\n",
"// Calculations\n",
"R(2)=R(1)*100;// minimum load resistance\n",
"disp('ohms', R(2),'Load resistance =')"
   ]
   }
,
{
		   "cell_type": "markdown",
		   "metadata": {},
		   "source": [
			"## Example 1.2: example2.sce"
		   ]
		  },
  {
"cell_type": "code",
	   "execution_count": null,
	   "metadata": {
	    "collapsed": true
	   },
	   "outputs": [],
"source": [
"// Example 1-2, page 12\n",
"clear;clc; close;\n",
"// Given data\n",
"i=2; // current source, in milli amperes\n",
"R=10*10^6; //internal source resistance , in ohms\n",
"// Calculations\n",
"Rlmin=0;// minimum load resistance in ohms\n",
"Rlmax=0.01*R; // maximum load resistance\n",
"disp('ohms', Rlmin,'Minimum Load resistance =')\n",
"disp('ohms', Rlmax,'Maximum Load resistance =')"
   ]
   }
,
{
		   "cell_type": "markdown",
		   "metadata": {},
		   "source": [
			"## Example 1.4: example4.sce"
		   ]
		  },
  {
"cell_type": "code",
	   "execution_count": null,
	   "metadata": {
	    "collapsed": true
	   },
	   "outputs": [],
"source": [
"// find thevenin voltage and resistance\n",
"// Electronic Principles\n",
"// By Albert Malvino , David Bates\n",
"// Seventh Edition\n",
"// The McGraw-Hill Companies\n",
"// Example 1-4, page 14\n",
"clear;clc; close;\n",
"// Given data\n",
"Vs=72;// source voltage in volts\n",
"// Calculations\n",
"// open load resistor to get thevenin voltage\n",
"Vth=24; // in volts as 8 mA flows through 6Kohms in series with 3Kohms,no current through 4Kohms\n",
"// reduce source to zero to get thevenin resistance\n",
"Rth=4+((3*6)/(3+6));// in Kohms\n",
"disp('Volts', Vth,'Thevenin Voltage =')\n",
"disp('ohms',Rth,'Thevenin Resistance =') \n",
"// Result\n",
"// Thevenin voltage is 24 volts\n",
"// Thevenin resistance is 6 Kohms"
   ]
   }
,
{
		   "cell_type": "markdown",
		   "metadata": {},
		   "source": [
			"## Example 1.6: example6.sce"
		   ]
		  },
  {
"cell_type": "code",
	   "execution_count": null,
	   "metadata": {
	    "collapsed": true
	   },
	   "outputs": [],
"source": [
"// Given data\n",
"Vth=10;// Thevenin voltage in volts\n",
"Rth=2000;// Thevenin resistance in ohms\n",
"// Calculations\n",
"In=Vth/Rth;// Norton current in amperes\n",
"disp('Amperes',In,'Norton Current=')"
   ]
   }
],
"metadata": {
		  "kernelspec": {
		   "display_name": "Scilab",
		   "language": "scilab",
		   "name": "scilab"
		  },
		  "language_info": {
		   "file_extension": ".sce",
		   "help_links": [
			{
			 "text": "MetaKernel Magics",
			 "url": "https://github.com/calysto/metakernel/blob/master/metakernel/magics/README.md"
			}
		   ],
		   "mimetype": "text/x-octave",
		   "name": "scilab",
		   "version": "0.7.1"
		  }
		 },
		 "nbformat": 4,
		 "nbformat_minor": 0
}
