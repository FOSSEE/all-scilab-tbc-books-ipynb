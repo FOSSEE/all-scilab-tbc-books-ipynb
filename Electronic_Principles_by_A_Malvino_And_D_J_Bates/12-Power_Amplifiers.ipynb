{
"cells": [
 {
		   "cell_type": "markdown",
	   "metadata": {},
	   "source": [
       "# Chapter 12: Power Amplifiers"
	   ]
	},
{
		   "cell_type": "markdown",
		   "metadata": {},
		   "source": [
			"## Example 12.10: example10.sce"
		   ]
		  },
  {
"cell_type": "code",
	   "execution_count": null,
	   "metadata": {
	    "collapsed": true
	   },
	   "outputs": [],
"source": [
"// calculate efficiency\n",
"// Electronic Principles\n",
"// By Albert Malvino , David Bates\n",
"// Seventh Edition\n",
"// The McGraw-Hill Companies\n",
"// Example 12-10, page 400\n",
"clear;clc; close;\n",
"// Given data\n",
"R=3.9*10^3;// resistance in ohms\n",
"R1=3.9*10^3;// in ohms\n",
"Vcc=20;// in volts\n",
"Rl=10;// in ohms\n",
"Vceq=10;// in volts \n",
"Vbe=0.7;// in volts\n",
"// Calculations\n",
"Ibias=(Vcc-(2*Vbe))/(2*R);// dc current through biasing resistors\n",
"Iq=Ibias;// quiescent collector current assuming compensating diodes match the emitter diodes\n",
"Icsat=Vceq/Rl;// saturation current in amperes\n",
"Iav=Icsat/%pi;// collector current in the conducting transistor\n",
"Idc=Ibias+Iav;// total current drain in amperes\n",
"Pdc=Vcc*Idc;// dc input power in watts\n",
"MPP=Vcc;// in volts\n",
"Poutmax=(MPP^2)/(8*Rl);// maximum output power in watts\n",
"E=(Poutmax/Pdc)*100;// efficiency in percentage\n",
"disp('%',E,'efficiency=')\n",
"disp('Amperes',Iq,'quiescent collector current=')\n",
"// Result\n",
"// efficiency is 78%\n",
"// quiescent collector current is 2.38 mAmperes"
   ]
   }
,
{
		   "cell_type": "markdown",
		   "metadata": {},
		   "source": [
			"## Example 12.12: example12.sce"
		   ]
		  },
  {
"cell_type": "code",
	   "execution_count": null,
	   "metadata": {
	    "collapsed": true
	   },
	   "outputs": [],
"source": [
"// calculate bandwidth of amplifier\n",
"// Electronic Principles\n",
"// By Albert Malvino , David Bates\n",
"// Seventh Edition\n",
"// The McGraw-Hill Companies\n",
"// Example 12-12, page 410\n",
"clear;clc; close;\n",
"// Given data\n",
"c=470*10^-12;// capacitance in faraday\n",
"l=2*10^-6;// inductance in henry\n",
"Rl=1*10^3;// load resistance in ohms\n",
"Ql=100;\n",
"// Calculations\n",
"fr=1/(2*%pi*sqrt(l*c));// resonant frequency in hertz\n",
"Xl=2*%pi*fr*l;// in ohms\n",
"Rp=Ql*Xl;// equivalent parallel resistance of coil in ohms\n",
"rc=(Rp*Rl)/(Rp+Rl);// ac collector resistance in ohms\n",
"Q=rc/Xl;// Q of the overall circuit\n",
"BW=fr/Q;// band width in hertz\n",
"disp('Hertz',BW,'bandwidth=')\n",
"// Result\n",
"// bandwidth is 390 KHertz"
   ]
   }
,
{
		   "cell_type": "markdown",
		   "metadata": {},
		   "source": [
			"## Example 12.13: example13.sce"
		   ]
		  },
  {
"cell_type": "code",
	   "execution_count": null,
	   "metadata": {
	    "collapsed": true
	   },
	   "outputs": [],
"source": [
"// calculate worst-case power dissipation\n",
"// Electronic Principles\n",
"// By Albert Malvino , David Bates\n",
"// Seventh Edition\n",
"// The McGraw-Hill Companies\n",
"// Example 12-13, page 411\n",
"clear;clc; close;\n",
"// Given data\n",
"c=470*10^-12;// capacitance in faraday\n",
"l=2*10^-6;// inductance in henry\n",
"Rl=1*10^3;// load resistance in ohms\n",
"Ql=100;\n",
"Vcc=15;// in volts\n",
"// Calculations\n",
"MPP=2*Vcc;// maximum peak-to-peak output in volts\n",
"fr=1/(2*%pi*sqrt(l*c));// resonant frequency in hertz\n",
"Xl=2*%pi*fr*l;// in ohms\n",
"Rp=Ql*Xl;// equivalent parallel resistance of coil in ohms\n",
"rc=(Rp*Rl)/(Rp+Rl);// ac collector resistance in ohms\n",
"Pd=MPP^2/(40*rc);// worst-case power dissipation of the transistor in watts\n",
"disp('Watts',Pd,'worst-case power dissipation=')\n",
"// Result\n",
"// worst-case power dissipation is 26 mWatts"
   ]
   }
,
{
		   "cell_type": "markdown",
		   "metadata": {},
		   "source": [
			"## Example 12.14: example14.sce"
		   ]
		  },
  {
"cell_type": "code",
	   "execution_count": null,
	   "metadata": {
	    "collapsed": true
	   },
	   "outputs": [],
"source": [
"// calculate maximum power rating \n",
"// Electronic Principles\n",
"// By Albert Malvino , David Bates\n",
"// Seventh Edition\n",
"// The McGraw-Hill Companies\n",
"// Example 12-14, page 414\n",
"clear;clc; close;\n",
"// Given data\n",
"// 2N3904\n",
"Pd=625*10^-3;// power rating at 25 degree celcius ambient\n",
"D=5*10^-3;// derating factor in watts per degree celcius\n",
"T2=50;// highest range in celcius\n",
"T1=25;// ambient temperature in degree celcius\n",
"// Calculations\n",
"dT=T2-T1;// in degree celcius\n",
"dP=D*dT;// change in power \n",
"Pdmax=Pd-dP;// in watts\n",
"disp('Watts',Pdmax,'maximum power rating=')\n",
"// Result\n",
"// maximum power rating is 500 mWatts."
   ]
   }
,
{
		   "cell_type": "markdown",
		   "metadata": {},
		   "source": [
			"## Example 12.1: example1.sce"
		   ]
		  },
  {
"cell_type": "code",
	   "execution_count": null,
	   "metadata": {
	    "collapsed": true
	   },
	   "outputs": [],
"source": [
"// calculate dc collector current,dc collector-emitter voltage,ac resistance seen by collector\n",
"// Electronic Principles\n",
"// By Albert Malvino , David Bates\n",
"// Seventh Edition\n",
"// The McGraw-Hill Companies\n",
"// Example 12-1, page 384\n",
"clear;clc; close;\n",
"// Given data\n",
"R1=490;// in ohms\n",
"R2=68;// in ohms\n",
"Rc=120;// in ohms\n",
"Re=20;// in ohms\n",
"Vcc=30;// in volts\n",
"Rl=180;// in ohms\n",
"Vc=12;// in volts\n",
"// Calculations\n",
"Vb=R2*Vcc/(R2+R1);// in volts\n",
"Ve=Vb-0.7;\n",
"Ie=Ve/Re;// in amperes\n",
"Icq=Ie;// dc collector current in amperes\n",
"Vceq=Vc-Ve;// dc collector-emitter voltage in volts\n",
"rc=Rc*Rl/(Rc+Rl);// rc=Rc||Rl\n",
"disp('Amperes',Icq,'dc collector current=')\n",
"disp('Volts',Vceq,'dc collector-emitter voltage=')\n",
"disp('ohms',rc,'ac resistance =')\n",
"// Results\n",
"// dc collector current is 147 mAmperes  \n",
"// dc collector-emitter voltage is 9 volts\n",
"// ac resistance seen by collector is 72 ohms  "
   ]
   }
,
{
		   "cell_type": "markdown",
		   "metadata": {},
		   "source": [
			"## Example 12.2: example2.sce"
		   ]
		  },
  {
"cell_type": "code",
	   "execution_count": null,
	   "metadata": {
	    "collapsed": true
	   },
	   "outputs": [],
"source": [
"// calculate ac load line saturation, cutoff points, maximum peak-to-peak output voltage  \n",
"// Electronic Principles\n",
"// By Albert Malvino , David Bates\n",
"// Seventh Edition\n",
"// The McGraw-Hill Companies\n",
"// Example 12-2, page 384\n",
"clear;clc; close;\n",
"// Given data\n",
"R1=490;// in ohms\n",
"R2=68;// in ohms\n",
"Rc=120;// in ohms\n",
"Re=20;// in ohms\n",
"Vcc=30;// in volts\n",
"Rl=180;// in ohms\n",
"Vc=12;// in volts\n",
"// Calculations\n",
"Vb=R2*Vcc/(R2+R1);// in volts\n",
"Ve=Vb-0.7;\n",
"Ie=Ve/Re;// in amperes\n",
"Icq=Ie;// dc collector current in amperes\n",
"Vceq=Vc-Ve; // dc collector-emitter voltage in volts\n",
"rc=Rc*Rl/(Rc+Rl);// rc=Rc||Rl\n",
"Icsat=Icq+Vceq/rc;// ac saturation current in amperes\n",
"Vcecutoff=Vceq+(Icq*rc);// in volts\n",
"// as supply voltage is 30 volts MPP<30\n",
"MPP=2*Vceq ; // as (Icq*rc)>Vceq\n",
"disp('Amperes',Icsat,'ac load line saturation')\n",
"disp('Volts',Vcecutoff,'ac cutoff voltage')\n",
"disp('Volts',MPP,'maximum peak-to-peak output voltage=')\n",
"// Results\n",
"// ac load line saturation is 273 mAmperes\n",
"// ac voltage at cutoff point is 19.7 volts\n",
"// maximum peak-to-peak output voltage is 18 volts "
   ]
   }
,
{
		   "cell_type": "markdown",
		   "metadata": {},
		   "source": [
			"## Example 12.3: example3.sce"
		   ]
		  },
  {
"cell_type": "code",
	   "execution_count": null,
	   "metadata": {
	    "collapsed": true
	   },
	   "outputs": [],
"source": [
"// calculate power output gain\n",
"// Electronic Principles\n",
"// By Albert Malvino , David Bates\n",
"// Seventh Edition\n",
"// The McGraw-Hill Companies\n",
"// Example 12-3, page 387\n",
"clear;clc; close;\n",
"// Given data\n",
"R1=490;// in ohms\n",
"R2=68;// in ohms\n",
"Rc=120;// in ohms\n",
"Re=20;// in ohms\n",
"Vcc=30;// in volts\n",
"Rl=180;// in ohms\n",
"Ri=100;// input independence in ohms\n",
"PP=18;// peak-to-peak voltage in volts\n",
"Vin=200*10^-3;// in volts\n",
"// Calculations\n",
"zinstage=490*68*100/((490*68)+(490*100)+(68*100));// in ohms\n",
"Pin=(Vin)^2/(8*zinstage);// ac input power in watts\n",
"Pout=(PP)^2/(8*Rl);// ac output power in watts\n",
"Ap=Pout/Pin;// power gain\n",
"disp(Ap,'Power gain=')\n",
"// Result\n",
"// power gain is 1682"
   ]
   }
,
{
		   "cell_type": "markdown",
		   "metadata": {},
		   "source": [
			"## Example 12.4: example4.sce"
		   ]
		  },
  {
"cell_type": "code",
	   "execution_count": null,
	   "metadata": {
	    "collapsed": true
	   },
	   "outputs": [],
"source": [
"// calculate transistor power dissipation and efficiency  \n",
"// Electronic Principles\n",
"// By Albert Malvino , David Bates\n",
"// Seventh Edition\n",
"// The McGraw-Hill Companies\n",
"// Example 12-4, page 387\n",
"clear;clc; close;\n",
"// Given data\n",
"R1=490;// in ohms\n",
"R2=68;// in ohms\n",
"Rc=120;// in ohms\n",
"Re=20;// in ohms\n",
"Vcc=30;// in volts\n",
"Rl=180;// in ohms\n",
"Ri=100;// input independence in ohms\n",
"PP=18;// peak-to-peak voltage in volts\n",
"Vin=200*10^-3;// in volts\n",
"Vc=12;// in volts\n",
"// Calculations\n",
"Vb=R2*Vcc/(R2+R1);// in volts\n",
"Ve=Vb-0.7;\n",
"Ie=Ve/Re;// in amperes\n",
"Icq=Ie;// dc collector current in amperes\n",
"Vceq=Vc-Ve;// dc collector-emitter voltage in volts\n",
"Pdq=Vceq*Icq;// transistor power dissipation\n",
"// to find stage efficiency\n",
"Ibias=Vcc/(R1+R2);// in amperes\n",
"Idc=Ibias+Icq;// in amperes\n",
"Pdc=Idc*Vcc;// dc input power in watts\n",
"Pout=(PP)^2/(8*Rl);// ac output power in watts\n",
"n=(Pout/Pdc)*100;// efficiency\n",
"disp('Watts',Pdq,'transistor power dissipation=')\n",
"disp('%',n,'efficiency=')\n",
"// Results\n",
"// transistor power dissipation is 1.34 watts  \n",
"// efficiency of stage is 3.72%"
   ]
   }
,
{
		   "cell_type": "markdown",
		   "metadata": {},
		   "source": [
			"## Example 12.6: example6.sce"
		   ]
		  },
  {
"cell_type": "code",
	   "execution_count": null,
	   "metadata": {
	    "collapsed": true
	   },
	   "outputs": [],
"source": [
"// calculate dc collector current,dc collector-emitter voltage,ac resistance seen by collector\n",
"// Electronic Principles\n",
"// By Albert Malvino , David Bates\n",
"// Seventh Edition\n",
"// The McGraw-Hill Companies\n",
"// Example 12-6, page 391\n",
"clear;clc; close;\n",
"// Given data\n",
"R1=50;// in ohms\n",
"R2=100;// in ohms\n",
"Re=16;// in ohms\n",
"Vcc=12;// in volts\n",
"Rl=16;// in ohms\n",
"// Calculations\n",
"Vb=R2*Vcc/(R2+R1);// in volts\n",
"Ve=Vb-0.7;\n",
"Ie=Ve/Re;// in amperes\n",
"Icq=Ie;// dc collector current in amperes\n",
"Vceq=Vcc-Ve;// dc collector-emitter voltage in volts\n",
"re=Re/2;// in ohms,re=Re||Rl\n",
"disp('Amperes',Icq,'dc collector current=')\n",
"disp('Volts',Vceq,'dc collector-emitter voltage=')\n",
"disp('ohms',re,'ac resistance =')\n",
"// Results\n",
"// Icq=456 mAmperes,Vceq=4.7 ohms,re=8 ohms"
   ]
   }
,
{
		   "cell_type": "markdown",
		   "metadata": {},
		   "source": [
			"## Example 12.7: example7.sce"
		   ]
		  },
  {
"cell_type": "code",
	   "execution_count": null,
	   "metadata": {
	    "collapsed": true
	   },
	   "outputs": [],
"source": [
"// calculate ac load line saturation, cutoff points, maximum peak-to-peak output voltage  \n",
"// Electronic Principles\n",
"// By Albert Malvino , David Bates\n",
"// Seventh Edition\n",
"// The McGraw-Hill Companies\n",
"// Example 12-7, page 392\n",
"clear;clc; close;\n",
"// Given data\n",
"R1=50;// in ohms\n",
"R2=100;// in ohms\n",
"Re=16;// in ohms\n",
"Vcc=12;// in volts\n",
"Rl=16;// in ohms\n",
"// Calculations\n",
"Vb=R2*Vcc/(R2+R1);// in volts\n",
"Ve=Vb-0.7;\n",
"Ie=Ve/Re;// in amperes\n",
"Icq=Ie;// dc collector current in amperes\n",
"Vceq=Vcc-Ve;// dc collector-emitter voltage in volts\n",
"re=Re/2;// in ohms,re=Re||Rl\n",
"icsat=Icq+(Vceq/re);// ac load line saturation in amperes\n",
"Vcecutoff=Vceq+(Icq*re);// cutoff point in volts\n",
"MPP=2*Icq*re;// MPP output voltage in Vpp\n",
"disp('Amperes',icsat,'ac load line saturation')\n",
"disp('Volts',Vcecutoff,'ac cutoff voltage')\n",
"disp('Volts',MPP,'maximum peak-to-peak output voltage=')\n",
"// Result\n",
"// ac load line saturation is 1.04 amperes\n",
"// cutoff voltage is 8.35 volts\n",
"// MPP output voltage is 7.3 Vpp."
   ]
   }
,
{
		   "cell_type": "markdown",
		   "metadata": {},
		   "source": [
			"## Example 12.8: example8.sce"
		   ]
		  },
  {
"cell_type": "code",
	   "execution_count": null,
	   "metadata": {
	    "collapsed": true
	   },
	   "outputs": [],
"source": [
"// calculate transistor power dissipation and maximum output power  \n",
"// Electronic Principles\n",
"// By Albert Malvino , David Bates\n",
"// Seventh Edition\n",
"// The McGraw-Hill Companies\n",
"// Example 12-8, page 397\n",
"clear;clc; close;\n",
"// Given data\n",
"R1=100;// in ohms\n",
"R2=100;// in ohms\n",
"Vcc=20;// in volts\n",
"Rl=8;// in ohms\n",
"// Calculations\n",
"MPP=Vcc;// in volts\n",
"Pdmax=(MPP^2)/(40*Rl);// maximum transistor power dissipation in watts\n",
"Poutmax=(MPP^2)/(8*Rl);// maximum output power in watts\n",
"disp('Watts',Pdmax,'maximum power dissipation=')\n",
"disp('Watts',Poutmax,'maximum output power=')\n",
"// Result\n",
"// maximum power dissipation is 1.25 watts\n",
"// maximum output power is 6.25 watts"
   ]
   }
,
{
		   "cell_type": "markdown",
		   "metadata": {},
		   "source": [
			"## Example 12.9: example9.sce"
		   ]
		  },
  {
"cell_type": "code",
	   "execution_count": null,
	   "metadata": {
	    "collapsed": true
	   },
	   "outputs": [],
"source": [
"// calculate efficiency\n",
"// Electronic Principles\n",
"// By Albert Malvino , David Bates\n",
"// Seventh Edition\n",
"// The McGraw-Hill Companies\n",
"// Example 12-9, page 398\n",
"clear;clc; close;\n",
"// Given data\n",
"R=15;// adjustable resistance in ohms\n",
"R1=100;// in ohms\n",
"R2=100;// in ohms\n",
"Vcc=20;// in volts\n",
"Rl=8;// in ohms\n",
"Vceq=10;// in volts \n",
"// Calculations\n",
"Ibias=Vcc/(R1+R2+R);// dc current through biasing resistors\n",
"Icsat=Vceq/Rl;// saturation current in amperes\n",
"Iav=Icsat/%pi;// collector current in the conducting transistor\n",
"Idc=Ibias+Iav;// total current drain in amperes\n",
"Pdc=Vcc*Idc;// dc input power in watts\n",
"MPP=Vcc;// in volts\n",
"Poutmax=(MPP^2)/(8*Rl);// maximum output power in watts\n",
"E=(Poutmax/Pdc)*100;// efficiency in percentage\n",
"disp('%',E,'efficiency=')\n",
"// Result\n",
"// efficiency is 63.6%"
   ]
   }
],
"metadata": {
		  "kernelspec": {
		   "display_name": "Scilab",
		   "language": "scilab",
		   "name": "scilab"
		  },
		  "language_info": {
		   "file_extension": ".sce",
		   "help_links": [
			{
			 "text": "MetaKernel Magics",
			 "url": "https://github.com/calysto/metakernel/blob/master/metakernel/magics/README.md"
			}
		   ],
		   "mimetype": "text/x-octave",
		   "name": "scilab",
		   "version": "0.7.1"
		  }
		 },
		 "nbformat": 4,
		 "nbformat_minor": 0
}
