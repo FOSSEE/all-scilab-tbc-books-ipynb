{
"cells": [
 {
		   "cell_type": "markdown",
	   "metadata": {},
	   "source": [
       "# Chapter 13: JFETs"
	   ]
	},
{
		   "cell_type": "markdown",
		   "metadata": {},
		   "source": [
			"## Example 13.10: example10.sce"
		   ]
		  },
  {
"cell_type": "code",
	   "execution_count": null,
	   "metadata": {
	    "collapsed": true
	   },
	   "outputs": [],
"source": [
"// find drain current,voltage between drain and ground \n",
"// Electronic Principles\n",
"// By Albert Malvino , David Bates\n",
"// Seventh Edition\n",
"// The McGraw-Hill Companies\n",
"// Example 13-10, page 443\n",
"\n",
"clear; clc; close;\n",
"\n",
"// Given data\n",
"Vdd=15;// in volts \n",
"Rd=1*10^3;// drain resistance in ohms\n",
"Rs=3*10^3;// source resistance in ohms\n",
"\n",
"// Calculations\n",
"// 15 Volts occur across source resistor\n",
"Vs=15;// voltage across source resistor in volts\n",
"Id=Vs/Rs;// drain current in amperes\n",
"Vd=Vdd-(Id*Rd);// drain voltage in volts\n",
"disp('Amperes',Id,'Drain current=')\n",
"disp('Volts',Vd,'Drain Voltage=')\n",
"\n",
"\n",
"// Result\n",
"// Drain current is 5 mAmperes\n",
"// Voltage between drain and ground is 10 Volts"
   ]
   }
,
{
		   "cell_type": "markdown",
		   "metadata": {},
		   "source": [
			"## Example 13.11: example11.sce"
		   ]
		  },
  {
"cell_type": "code",
	   "execution_count": null,
	   "metadata": {
	    "collapsed": true
	   },
	   "outputs": [],
"source": [
"// find drain current,drain voltage \n",
"// Electronic Principles\n",
"// By Albert Malvino , David Bates\n",
"// Seventh Edition\n",
"// The McGraw-Hill Companies\n",
"// Example 13-11, page 444\n",
"\n",
"clear; clc; close;\n",
"\n",
"// Given data\n",
"Vdd=10;// in volts \n",
"Vee=5;// in volts \n",
"Rd=1*10^3;// drain resistance in ohms\n",
"Re=2*10^3;// source resistance in ohms\n",
"\n",
"// Calculations\n",
"Id=(Vee-0.7)/Re;// drain current set up by bipolar junction transistor in amperes\n",
"Vd=Vdd-(Id*Rd);// drain voltage in volts\n",
"disp('Amperes',Id,'Drain current=')\n",
"disp('Volts',Vd,'Drain Voltage=')\n",
"\n",
"// Result\n",
"// Drain current is 2.15 mAmperes\n",
"// Drain voltage is 7.85 Volts"
   ]
   }
,
{
		   "cell_type": "markdown",
		   "metadata": {},
		   "source": [
			"## Example 13.12: example12.sce"
		   ]
		  },
  {
"cell_type": "code",
	   "execution_count": null,
	   "metadata": {
	    "collapsed": true
	   },
	   "outputs": [],
"source": [
"// find gate-source cutoff voltage and transconductance\n",
"// Electronic Principles\n",
"// By Albert Malvino , David Bates\n",
"// Seventh Edition\n",
"// The McGraw-Hill Companies\n",
"// Example 13-12, page 447\n",
"\n",
"clear; clc; close;\n",
"\n",
"// Given data\n",
"Idss=5*10^-3;// maximum drain current in amperes\n",
"gmo=5000*10^-6;// maximum transconductance in Seimen\n",
"Vgs=-1;// Gate-source voltage in volts\n",
"\n",
"// Calculations\n",
"Vgsoff=-2*Idss/gmo;// gate-source cutoff voltage in volts\n",
"gm=gmo*(1-(Vgs/Vgsoff));// Transconductance at given Vgs\n",
"disp('Volts',Vgsoff,'Gate source cutoff voltage=')\n",
"disp('Seimen',gm,'transconductance=')\n",
"\n",
"// Result\n",
"// Gate source cutoff voltage is -2 Volts\n",
"// Transconductance is 2500 MicroSeimens"
   ]
   }
,
{
		   "cell_type": "markdown",
		   "metadata": {},
		   "source": [
			"## Example 13.13: example13.sce"
		   ]
		  },
  {
"cell_type": "code",
	   "execution_count": null,
	   "metadata": {
	    "collapsed": true
	   },
	   "outputs": [],
"source": [
"// calculate output voltage\n",
"// Electronic Principles\n",
"// By Albert Malvino , David Bates\n",
"// Seventh Edition\n",
"// The McGraw-Hill Companies\n",
"// Example 13-13, page 449\n",
"\n",
"clear; clc; close;\n",
"\n",
"// Given data\n",
"Rd=3.6*10^3;// in ohms\n",
"Rl=10*10^3;// in ohms\n",
"gm=5000*10^-6;// transconductance in Seimen\n",
"Vin=10^-3;// input voltage in Vpp\n",
"\n",
"// Calculations\n",
"rd=Rd*Rl/(Rd+Rl);// ac drain resistance in ohms\n",
"Av=gm*rd;// voltage gain\n",
"Vout=Vin*Av;// output voltage in volts\n",
"disp('Volts',Vout,'Output voltage=')\n",
"\n",
"// Result\n",
"// Output voltage is 13.3 mVpp"
   ]
   }
,
{
		   "cell_type": "markdown",
		   "metadata": {},
		   "source": [
			"## Example 13.14: example14.sce"
		   ]
		  },
  {
"cell_type": "code",
	   "execution_count": null,
	   "metadata": {
	    "collapsed": true
	   },
	   "outputs": [],
"source": [
"// calculate output voltage\n",
"// Electronic Principles\n",
"// By Albert Malvino , David Bates\n",
"// Seventh Edition\n",
"// The McGraw-Hill Companies\n",
"// Example 13-14, page 450\n",
"\n",
"clear; clc; close;\n",
"\n",
"// Given data\n",
"Rs=10^3;// in ohms\n",
"Rl=10^3;// in ohms\n",
"gm=2500*10^-6;// transconductance in Seimen\n",
"Vin=10^-3;// input voltage in Vpp\n",
"\n",
"// Calculations\n",
"rs=Rs*Rl/(Rs+Rl);// ac drain resistance in ohms\n",
"Av=gm*rs/(1+(gm*rs));// voltage gain\n",
"Vout=Vin*Av;// output voltage in volts\n",
"disp('Volts',Vout,'Output voltage=')\n",
"\n",
"// Result\n",
"// Output voltage is 0.556 mVpp"
   ]
   }
,
{
		   "cell_type": "markdown",
		   "metadata": {},
		   "source": [
			"## Example 13.15: example15.sce"
		   ]
		  },
  {
"cell_type": "code",
	   "execution_count": null,
	   "metadata": {
	    "collapsed": true
	   },
	   "outputs": [],
"source": [
"// calculate voltage gain\n",
"// Electronic Principles\n",
"// By Albert Malvino , David Bates\n",
"// Seventh Edition\n",
"// The McGraw-Hill Companies\n",
"// Example 13-15, page 450\n",
"\n",
"clear; clc; close;\n",
"\n",
"// Given data\n",
"Rs1=220;// in ohms\n",
"Rs2=780;// in ohms\n",
"Rl=3*10^3;// in ohms\n",
"gm=2000*10^-6;// transconductance in Seimen\n",
"\n",
"\n",
"// Calculations\n",
"Rs=Rs1+Rs2;// total dc source resistance in ohms\n",
"rs=Rs*Rl/(Rs+Rl);// ac drain resistance in ohms\n",
"Av=gm*rs/(1+(gm*rs));// voltage gain\n",
"disp(Av,'Votage gain=')\n",
"\n",
"// Result\n",
"// voltage gain is 0.6"
   ]
   }
,
{
		   "cell_type": "markdown",
		   "metadata": {},
		   "source": [
			"## Example 13.16: example16.sce"
		   ]
		  },
  {
"cell_type": "code",
	   "execution_count": null,
	   "metadata": {
	    "collapsed": true
	   },
	   "outputs": [],
"source": [
"// calculate drain current,voltage gain\n",
"// Electronic Principles\n",
"// By Albert Malvino , David Bates\n",
"// Seventh Edition\n",
"// The McGraw-Hill Companies\n",
"// Example 13-16, page 451\n",
"\n",
"clear; clc; close;\n",
"\n",
"// Given data\n",
"Vdd=30;// in voltage\n",
"Rs=2.2*10^3;// in ohms\n",
"Rl=3.3*10^3;// in ohms\n",
"gm=3500*10^-6;// transconductance in Seimen\n",
"\n",
"// Calculations\n",
"// 3:1 voltage divider produces a gate voltage of 10 Volts\n",
"Vs=10;// voltage across source resistor in volts\n",
"Id=Vs/Rs;// drain current in amperes\n",
"rs=Rs*Rl/(Rs+Rl);// ac drain resistance in ohms\n",
"Av=gm*rs/(1+(gm*rs));// voltage gain\n",
"disp('Amperes',Id,'Drain Current=')\n",
"disp(Av,'Votage gain=')\n",
"\n",
"// Results\n",
"// Drain current is 4.55 mAmperes\n",
"// Voltage gain is 0.822"
   ]
   }
,
{
		   "cell_type": "markdown",
		   "metadata": {},
		   "source": [
			"## Example 13.1: example1.sce"
		   ]
		  },
  {
"cell_type": "code",
	   "execution_count": null,
	   "metadata": {
	    "collapsed": true
	   },
	   "outputs": [],
"source": [
"// calculate input resistance of JFET\n",
"// Electronic Principles\n",
"// By Albert Malvino , David Bates\n",
"// Seventh Edition\n",
"// The McGraw-Hill Companies\n",
"// Example 13-1, page 428\n",
"\n",
"clear;clc; close;\n",
"\n",
"// Given data\n",
"// 2N5486 JFET\n",
"Vgs=20;// reverse gate voltage in volts\n",
"Ig=1*10^-9 ;// gate current in amperes \n",
"\n",
"// Calculations\n",
"Rin=Vgs/Ig;// in ohms\n",
"disp('ohms',Rin,'input resistance=')\n",
"\n",
"// Result\n",
"// input resistance is 20,000 Mohms "
   ]
   }
,
{
		   "cell_type": "markdown",
		   "metadata": {},
		   "source": [
			"## Example 13.2: example2.sce"
		   ]
		  },
  {
"cell_type": "code",
	   "execution_count": null,
	   "metadata": {
	    "collapsed": true
	   },
	   "outputs": [],
"source": [
"// calculate ohmic resistance , gate-source cutoff voltage\n",
"// Electronic Principles\n",
"// By Albert Malvino , David Bates\n",
"// Seventh Edition\n",
"// The McGraw-Hill Companies\n",
"// Example 13-2, page 430\n",
"\n",
"clear; clc; close;\n",
"\n",
"// Given data\n",
"// MPF4857\n",
"Vp=6;// pinchoff voltage in volts\n",
"Idss=100*10^-3 ;// maximum drain current in amperes\n",
"\n",
"// Calculations\n",
"Rds=Vp/Idss;// ohmic resistance in ohms\n",
"Vgsoff=-Vp;// gate source cutoff voltge is negative of pinchoff voltage\n",
"disp('ohms',Rds,'input resistance=')\n",
"disp('Volts',Vgsoff,'gate-source cutoff voltage=')\n",
"\n",
"// Result\n",
"// input resistance is 60 ohms\n",
"// gate-source cutoff voltage is -6 Volts"
   ]
   }
,
{
		   "cell_type": "markdown",
		   "metadata": {},
		   "source": [
			"## Example 13.3: example3.sce"
		   ]
		  },
  {
"cell_type": "code",
	   "execution_count": null,
	   "metadata": {
	    "collapsed": true
	   },
	   "outputs": [],
"source": [
"// calculate gate voltage and drain current at half cutoff point\n",
"// Electronic Principles\n",
"// By Albert Malvino , David Bates\n",
"// Seventh Edition\n",
"// The McGraw-Hill Companies\n",
"// Example 13-3, page 431\n",
"\n",
"clear; clc; close;\n",
"\n",
"// Given data\n",
"// 2N5668\n",
"Vgsoff=-4;// gate-source cutoff voltage in volts\n",
"Idss=5*10^-3 ;// maximum drain current in amperes\n",
"\n",
"// Calculations\n",
"Vgs=-Vgsoff/2 ;// gate voltage at half cutoff point in volts\n",
"Id=Idss/4 ;// drain current at half cutoff point in amperes\n",
"disp('Amperes',Id,'Drain current=')\n",
"disp('Volts',Vgs,'gate Voltage=')\n",
"\n",
"\n",
"// Result\n",
"// Gate voltage at half cutoff point is -2 Volts\n",
"// Drain current is 1.25 mAmperes"
   ]
   }
,
{
		   "cell_type": "markdown",
		   "metadata": {},
		   "source": [
			"## Example 13.4: example4.sce"
		   ]
		  },
  {
"cell_type": "code",
	   "execution_count": null,
	   "metadata": {
	    "collapsed": true
	   },
	   "outputs": [],
"source": [
"// calculate drain current at half cutoff point\n",
"// Electronic Principles\n",
"// By Albert Malvino , David Bates\n",
"// Seventh Edition\n",
"// The McGraw-Hill Companies\n",
"// Example 13-4, page 432\n",
"\n",
"clear; clc; close;\n",
"\n",
"// Given data\n",
"// 2N5459\n",
"Vgsoff=-8;// gate-source cutoff voltage in volts\n",
"Idss=16*10^-3 ;// maximum drain current in amperes\n",
"\n",
"// Calculations\n",
"Id=Idss/4 ;// drain current at half cutoff point in amperes\n",
"disp('Amperes',Id,'Drain current=')\n",
"\n",
"// Result\n",
"// Drain current is 4 mAmperes"
   ]
   }
,
{
		   "cell_type": "markdown",
		   "metadata": {},
		   "source": [
			"## Example 13.6: example6.sce"
		   ]
		  },
  {
"cell_type": "code",
	   "execution_count": null,
	   "metadata": {
	    "collapsed": true
	   },
	   "outputs": [],
"source": [
"// calculate medium source resistance, drain voltage\n",
"// Electronic Principles\n",
"// By Albert Malvino , David Bates\n",
"// Seventh Edition\n",
"// The McGraw-Hill Companies\n",
"// Example 13-6, page 436\n",
"\n",
"clear; clc; close;\n",
"\n",
"// Given data\n",
"Vp=4 ;// pinchoff voltage in volts\n",
"Idss=10*10^-3 ;// maximum drain current in amperes\n",
"Vdd=30;// in volts \n",
"Rd=2*10^3;// drain resistance in ohms\n",
"\n",
"// Calculations\n",
"Rds=Vp/Idss;// medium source resistance in ohms\n",
"Id=Idss/4 ;// drain current in amperes\n",
"Vd=Vdd-(Id*Rd);//  drain voltage in volts\n",
"disp('ohms',Rds,'medium source resistance=')\n",
"disp('Volts',Vd,'Drain Voltage=')\n",
"\n",
"\n",
"// Result\n",
"// medium source resistance is 400 ohms\n",
"// drain voltage is 25 volts"
   ]
   }
,
{
		   "cell_type": "markdown",
		   "metadata": {},
		   "source": [
			"## Example 13.8: example8.sce"
		   ]
		  },
  {
"cell_type": "code",
	   "execution_count": null,
	   "metadata": {
	    "collapsed": true
	   },
	   "outputs": [],
"source": [
"// find Q point\n",
"// Electronic Principles\n",
"// By Albert Malvino , David Bates\n",
"// Seventh Edition\n",
"// The McGraw-Hill Companies\n",
"// Example 13-8, page 440\n",
"\n",
"clear; clc; close;\n",
"\n",
"// Given data\n",
"Vdd=30;// in volts \n",
"Rd=1*10^3;// drain resistance in ohms\n",
"Rs=2*10^3;// source resistance in ohms\n",
"\n",
"// Calculations\n",
"// 3:1 voltage divider produces a gate voltage of 10 Volts\n",
"Vs=10;// voltage across source resistor in volts\n",
"Id=Vs/Rs;// drain current in amperes\n",
"Vd=Vdd-(Id*Rd);// drain voltage in volts\n",
"Vds=Vd-Vs;// drain-source voltage in volts\n",
"disp('Amperes',Id,'Drain current=')\n",
"disp('Volts',Vds,'Drain-source Voltage=')\n",
"\n",
"\n",
"// Result\n",
"// Q point is (15,5*10^-3)"
   ]
   }
],
"metadata": {
		  "kernelspec": {
		   "display_name": "Scilab",
		   "language": "scilab",
		   "name": "scilab"
		  },
		  "language_info": {
		   "file_extension": ".sce",
		   "help_links": [
			{
			 "text": "MetaKernel Magics",
			 "url": "https://github.com/calysto/metakernel/blob/master/metakernel/magics/README.md"
			}
		   ],
		   "mimetype": "text/x-octave",
		   "name": "scilab",
		   "version": "0.7.1"
		  }
		 },
		 "nbformat": 4,
		 "nbformat_minor": 0
}
