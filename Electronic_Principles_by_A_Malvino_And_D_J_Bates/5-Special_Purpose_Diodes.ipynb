{
"cells": [
 {
		   "cell_type": "markdown",
	   "metadata": {},
	   "source": [
       "# Chapter 5: Special Purpose Diodes"
	   ]
	},
{
		   "cell_type": "markdown",
		   "metadata": {},
		   "source": [
			"## Example 5.10: example10.sce"
		   ]
		  },
  {
"cell_type": "code",
	   "execution_count": null,
	   "metadata": {
	    "collapsed": true
	   },
	   "outputs": [],
"source": [
"// find maximum allowable series resistance\n",
"// Electronic Principles\n",
"// By Albert Malvino , David Bates\n",
"// Seventh Edition\n",
"// The McGraw-Hill Companies\n",
"// Example 5-10, page 157\n",
"clear;clc; close;\n",
"	\n",
"// Given data\n",
"Rlmin=140;// minimum load resistance in ohms \n",
"Vsmin=22;// minimum input voltage in volts \n",
"Vz=12;// zener voltage in volts\n",
"// Calculations\n",
"Rsmax=((Vsmin/Vz)-1)*Rlmin;// maximum series resistance in ohms\n",
"disp('ohms',Rsmax,'Series resistance=')\n",
"// Result\n",
"// maximum series resistance is 117 ohms"
   ]
   }
,
{
		   "cell_type": "markdown",
		   "metadata": {},
		   "source": [
			"## Example 5.11: example11.sce"
		   ]
		  },
  {
"cell_type": "code",
	   "execution_count": null,
	   "metadata": {
	    "collapsed": true
	   },
	   "outputs": [],
"source": [
"// find maximum allowable series resistance\n",
"// Electronic Principles\n",
"// By Albert Malvino , David Bates\n",
"// Seventh Edition\n",
"// The McGraw-Hill Companies\n",
"// Example 5-11, page 157\n",
"clear;clc; close;\n",
"	\n",
"// Given data\n",
"Ilmax=20*10^-3;// maximum load current in amperes \n",
"Vsmin=15;// minimum input voltage in volts \n",
"Vz=6.8;// zener voltage in volts\n",
"// Calculations\n",
"Rsmax=(Vsmin-Vz)/Ilmax;// maximum series resistance in ohms\n",
"disp('ohms',Rsmax,'Series resistance=')\n",
"// Result\n",
"// maximum series resistance is 410 ohms"
   ]
   }
,
{
		   "cell_type": "markdown",
		   "metadata": {},
		   "source": [
			"## Example 5.12: example12.sce"
		   ]
		  },
  {
"cell_type": "code",
	   "execution_count": null,
	   "metadata": {
	    "collapsed": true
	   },
	   "outputs": [],
"source": [
"// find approximate load current \n",
"// Electronic Principles\n",
"// By Albert Malvino , David Bates\n",
"// Seventh Edition\n",
"// The McGraw-Hill Companies\n",
"// Example 5-12, page 168\n",
"clear;clc; close;\n",
"	\n",
"// Given data\n",
"Vs=50;// dc input voltage in volts\n",
"Vd=2;// forward voltage in volts\n",
"Rs=2.2*10^3;// series resistance in ohms\n",
"// Calculations\n",
"Is=(Vs-Vd)/Rs;// load current in amperes\n",
"disp('Amperes',Is,'load current =')\n",
"// Result\n",
"// approximate load current is 21.8 mAmperes."
   ]
   }
,
{
		   "cell_type": "markdown",
		   "metadata": {},
		   "source": [
			"## Example 5.13: example13.sce"
		   ]
		  },
  {
"cell_type": "code",
	   "execution_count": null,
	   "metadata": {
	    "collapsed": true
	   },
	   "outputs": [],
"source": [
"// find load current \n",
"// Electronic Principles\n",
"// By Albert Malvino , David Bates\n",
"// Seventh Edition\n",
"// The McGraw-Hill Companies\n",
"// Example 5-13, page 168\n",
"clear;clc; close;\n",
"	\n",
"// Given data\n",
"// input terminals are shorted\n",
"Vs=9;// dc input voltage in volts\n",
"Vd=2;// forward voltage in volts\n",
"Rs=470;// series resistance in ohms\n",
"// Calculations\n",
"Is=(Vs-Vd)/Rs;// load current in amperes\n",
"disp('Amperes',Is,'load current =')\n",
"// Result\n",
"// approximate load current is 14.9 mAmperes."
   ]
   }
,
{
		   "cell_type": "markdown",
		   "metadata": {},
		   "source": [
			"## Example 5.14: example14.sce"
		   ]
		  },
  {
"cell_type": "code",
	   "execution_count": null,
	   "metadata": {
	    "collapsed": true
	   },
	   "outputs": [],
"source": [
"// find average LED current,power dissipation in series resistor\n",
"// Electronic Principles\n",
"// By Albert Malvino , David Bates\n",
"// Seventh Edition\n",
"// The McGraw-Hill Companies\n",
"// Example 5-14, page 169\n",
"clear;clc; close;\n",
"	\n",
"// Given data\n",
"V=20;// ac source rms voltage in volts\n",
"Rs=680;// series resistance in ohms\n",
"// Calculations\n",
"Vp=sqrt(2)*V;// peak voltage in volts\n",
"Is1=Vp/Rs;// peak current in amperes\n",
"Is2=Is1/%pi;// average of the half-wave currnt through LED\n",
"P=(V)^2/Rs;// power dissipated in watts\n",
"disp('Amperes',Is2,'average LED current =')\n",
"disp('Watts',P,'dissipated power=')\n",
"// Result\n",
"// Average LED current is 13.1 mAmperes \n",
"// Power dissipated is 0.588 watts."
   ]
   }
,
{
		   "cell_type": "markdown",
		   "metadata": {},
		   "source": [
			"## Example 5.15: example15.sce"
		   ]
		  },
  {
"cell_type": "code",
	   "execution_count": null,
	   "metadata": {
	    "collapsed": true
	   },
	   "outputs": [],
"source": [
"// find average LED current\n",
"// Electronic Principles\n",
"// By Albert Malvino , David Bates\n",
"// Seventh Edition\n",
"// The McGraw-Hill Companies\n",
"// Example 5-15, page 170\n",
"clear;clc; close;\n",
"	\n",
"// Given data\n",
"f=60;// frequency in hertz\n",
"C=0.68*10^-6;// capacitance in faradays\n",
"V=170;// voltage in volts\n",
"// Calculations\n",
"Xc=1/(2*%pi*f*C);// capacitive resistance in ohms\n",
"Is1=V/Xc;// peak current in amperes\n",
"Is2=Is1/%pi;// average of the half-wave currnt through LED\n",
"disp('Amperes',Is2,'average LED current =')\n",
"// Result\n",
"// Average LED current is 13.9 mAmperes "
   ]
   }
,
{
		   "cell_type": "markdown",
		   "metadata": {},
		   "source": [
			"## Example 5.1: example1.sce"
		   ]
		  },
  {
"cell_type": "code",
	   "execution_count": null,
	   "metadata": {
	    "collapsed": true
	   },
	   "outputs": [],
"source": [
"// find minimum and maximum zener currents\n",
"// Electronic Principles\n",
"// By Albert Malvino , David Bates\n",
"// Seventh Edition\n",
"// The McGraw-Hill Companies\n",
"// Example 1-1, page 9\n",
"clear;clc; close;\n",
"// Given data\n",
"R=820;// resistance in ohms\n",
"V=10;// breakdown voltage of diode\n",
"Vinmin=20;// minimum input voltage in volts\n",
"Vinmax=40;// maximum input voltage in volts\n",
"// Calculations\n",
"// voltage across resistor=input voltage-breakdown voltage\n",
"Ismin=(Vinmin-V)/R;// minimum zener current in amperes\n",
"Ismax=(Vinmax-V)/R;// maximum zener current in amperes\n",
"disp('Amperes',Ismin,'Minimum zener current =')\n",
"disp('Amperes',Ismax,'Maximum zener current =')\n",
"// results\n",
"// minimum zener current is 12.2 mAmperes\n",
"// maximum zener current is 36.6 mAmperes"
   ]
   }
,
{
		   "cell_type": "markdown",
		   "metadata": {},
		   "source": [
			"## Example 5.2: example2.sce"
		   ]
		  },
  {
"cell_type": "code",
	   "execution_count": null,
	   "metadata": {
	    "collapsed": true
	   },
	   "outputs": [],
"source": [
"// to check if zener diode shown in the figure is operating in the breakdown region\n",
"// Electronic Principles\n",
"// By Albert Malvino , David Bates\n",
"// Seventh Edition\n",
"// The McGraw-Hill Companies\n",
"// Example 5-2, page 149\n",
"clear;clc; close;\n",
"// Given data\n",
"Rl=1*10^3;// in ohms\n",
"Rs=270;// in ohms\n",
"Vs=18;// in volts\n",
"Vz=10;// zener voltage in volts\n",
"// Calculations\n",
"Vth=(Rl/(Rs+Rl))*Vs;// Thevenin voltage facing the diode\n",
"disp('Volts',Vth,'Thevenin voltage=')\n",
"disp('Vth>Vz') \n",
"// Result\n",
"// Since thevenin voltage is greater than zener voltage,zener diode is operating in the breakdown region"
   ]
   }
,
{
		   "cell_type": "markdown",
		   "metadata": {},
		   "source": [
			"## Example 5.3: example3.sce"
		   ]
		  },
  {
"cell_type": "code",
	   "execution_count": null,
	   "metadata": {
	    "collapsed": true
	   },
	   "outputs": [],
"source": [
"// to find zener current\n",
"// Electronic Principles\n",
"// By Albert Malvino , David Bates\n",
"// Seventh Edition\n",
"// The McGraw-Hill Companies\n",
"// Example 5-3, page 149\n",
"clear;clc; close;\n",
"// Given data\n",
"Vl=10;// load voltage in volts\n",
"Rl=1*10^3;// in ohms\n",
"Rs=270;// in ohms\n",
"Vs=18;// in volts\n",
"Vz=10;// zener voltage in volts\n",
"// Calculations\n",
"Is=(Vs-Vz)/Rs; // current through series resistor in amperes\n",
"Il=Vl/Rl;// in amperes\n",
"Iz=Is-Il;// zener current in amperes\n",
"disp('Amperes',Iz,'zener current =')\n",
"// Result\n",
"// Zener current is 19.6 mAmperes "
   ]
   }
,
{
		   "cell_type": "markdown",
		   "metadata": {},
		   "source": [
			"## Example 5.7: example7.sce"
		   ]
		  },
  {
"cell_type": "code",
	   "execution_count": null,
	   "metadata": {
	    "collapsed": true
	   },
	   "outputs": [],
"source": [
"// using second approximation find load voltage\n",
"// Electronic Principles\n",
"// By Albert Malvino , David Bates\n",
"// Seventh Edition\n",
"// The McGraw-Hill Companies\n",
"// Example 5-7, page 153\n",
"clear;clc; close;\n",
"// Given data\n",
"Iz=20*10^-3;// zener current in amperes\n",
"Rz=8.5;// zener resistance in ohms\n",
"Vz=10;// breakdown voltage in volts\n",
"// Calculations\n",
"dVl=Iz*Rz;// change in load voltage in volts\n",
"Vl=Vz+dVl;// load voltage  in  volts\n",
"disp('Volts',Vl,'load voltage=')\n",
"// Result\n",
"// load voltage is 10.17 volts"
   ]
   }
,
{
		   "cell_type": "markdown",
		   "metadata": {},
		   "source": [
			"## Example 5.8: example8.sce"
		   ]
		  },
  {
"cell_type": "code",
	   "execution_count": null,
	   "metadata": {
	    "collapsed": true
	   },
	   "outputs": [],
"source": [
"// find approximate ripple voltage across load\n",
"// Electronic Principles\n",
"// By Albert Malvino , David Bates\n",
"// Seventh Edition\n",
"// The McGraw-Hill Companies\n",
"// Example 5-8, page 154\n",
"clear;clc; close;\n",
"	\n",
"// Given data\n",
"Rs=270; // series resistance in ohms\n",
"Vrin=2;// input ripple in volts\n",
"Rz=8.5;// zener resistance in ohms\n",
"Vz=10;// breakdown voltage in volts\n",
"// Calculations\n",
"Vrout=(Rz/Rs)*Vrin;// output ripple in volts\n",
"disp('Volts',Vrout,'load ripple=')\n",
"// Result\n",
"// approximate load ripple is 63 mVolts"
   ]
   }
],
"metadata": {
		  "kernelspec": {
		   "display_name": "Scilab",
		   "language": "scilab",
		   "name": "scilab"
		  },
		  "language_info": {
		   "file_extension": ".sce",
		   "help_links": [
			{
			 "text": "MetaKernel Magics",
			 "url": "https://github.com/calysto/metakernel/blob/master/metakernel/magics/README.md"
			}
		   ],
		   "mimetype": "text/x-octave",
		   "name": "scilab",
		   "version": "0.7.1"
		  }
		 },
		 "nbformat": 4,
		 "nbformat_minor": 0
}
