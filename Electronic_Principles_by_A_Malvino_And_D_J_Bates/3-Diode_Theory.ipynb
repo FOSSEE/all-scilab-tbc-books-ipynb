{
"cells": [
 {
		   "cell_type": "markdown",
	   "metadata": {},
	   "source": [
       "# Chapter 3: Diode Theory"
	   ]
	},
{
		   "cell_type": "markdown",
		   "metadata": {},
		   "source": [
			"## Example 3.2: example2.sce"
		   ]
		  },
  {
"cell_type": "code",
	   "execution_count": null,
	   "metadata": {
	    "collapsed": true
	   },
	   "outputs": [],
"source": [
"// Example 3-2, page 63\n",
"clear;clc; close;\n",
"// Given data\n",
"v=1.2; // diode voltage in volts\n",
"i=1.75; // diode current in amperes\n",
"P(1)=5;// power rating in watts\n",
"// Calculations\n",
"P(2)=v*i; // power dissipation\n",
"disp('Watts',P(2),'Power dissipation')\n",
"// Result\n",
"// As power dissipation is lower than power rating the diode will not get destroyed. "
   ]
   }
,
{
		   "cell_type": "markdown",
		   "metadata": {},
		   "source": [
			"## Example 3.3: example3.sce"
		   ]
		  },
  {
"cell_type": "code",
	   "execution_count": null,
	   "metadata": {
	    "collapsed": true
	   },
	   "outputs": [],
"source": [
"// to find load voltage and load current using ideal diode\n",
"// Example 3-3, page 65\n",
"clear;clc; close;\n",
"// Given data\n",
"// diode is forward biased, equivalent to a closed switch.\n",
"// Calculations\n",
"V=10;// load voltage in volts\n",
"R=1000;// load resistance in ohms\n",
"I=V/R;// all the source voltage appears across the load resistor\n",
"disp('Amperes',I,'Load Current=')\n",
"disp('Volts',V,'Load Voltage=')"
   ]
   }
,
{
		   "cell_type": "markdown",
		   "metadata": {},
		   "source": [
			"## Example 3.4: example4.sce"
		   ]
		  },
  {
"cell_type": "code",
	   "execution_count": null,
	   "metadata": {
	    "collapsed": true
	   },
	   "outputs": [],
"source": [
"// Example 3-4, page 65`\n",
"clear;clc; close;\n",
"// Given data\n",
"// refer to the diagram, thevenize the circuit to the left of the diode.\n",
"// looking at the diode back toward the source,we see a voltage divider with 6 killo-ohms and 3 killo-ohms.\n",
"R=2000;// thevenin resistance in ohms \n",
"V=12;// thevenin voltage in volts\n",
"// Calculations\n",
"disp('Using Thevenin Thm')\n",
"// we have a series circuit and the diode is forward biased.\n",
"// visualize the diode as a closed switch\n",
"I=V/3000; // load current in amperes\n",
"V(1)=I*1000;// load voltage\n",
"disp('Amperes',I,'Load Current=')\n",
"disp('Volts',V(1),'Load Voltage=')"
   ]
   }
,
{
		   "cell_type": "markdown",
		   "metadata": {},
		   "source": [
			"## Example 3.5: example5.sce"
		   ]
		  },
  {
"cell_type": "code",
	   "execution_count": null,
	   "metadata": {
	    "collapsed": true
	   },
	   "outputs": [],
"source": [
"// Example 3-5, page 67`\n",
"clear;clc; close;\n",
"// Given data\n",
"// the diode is forward biased, equivalent to a battery of 0.7 volts\n",
"V=10;// voltage of battery in volts\n",
"Vd=0.7;// diode drop in volts\n",
"// Calculations\n",
"Vl=V-Vd;// load voltage in volts\n",
"R=1000;// load resistance in ohms\n",
"Il=Vl/R;// load current in amperes\n",
"Pd=Il*Vd;// diode power in watts\n",
"disp('Amperes',Il,'Load Current=')\n",
"disp('Volts',Vl,'Load Voltage=')\n",
"disp('Watts',Pd,'Diode power=')"
   ]
   }
,
{
		   "cell_type": "markdown",
		   "metadata": {},
		   "source": [
			"## Example 3.6: example6.sce"
		   ]
		  },
  {
"cell_type": "code",
	   "execution_count": null,
	   "metadata": {
	    "collapsed": true
	   },
	   "outputs": [],
"source": [
"// Example 3-6, page 67`\n",
"clear;clc; close;\n",
"// Given data\n",
"// thevenize the circuit to the left of the diode.\n",
"// looking at the diode back toward the source,we see a voltage divider with 6 killo-ohms and 3 killo-ohms.\n",
"R=2000;// thevenin resistance in ohms \n",
"V(1)=12;// thevenin voltage in volts\n",
"// Calculations\n",
"disp('Using Thevenin Thm')\n",
"V(2)=0.7;// diode voltage in volts\n",
"I=(V(1)-V(2))/3000// load current in amperes\n",
"P=V(2)*I // diode power in watts\n",
"V=I*1000// load voltage in volts\n",
"disp('Amperes',I,'Load Current=')\n",
"disp('Volts',V,'Load Voltage=')\n",
"disp('Watts',P,'Diode power=')"
   ]
   }
,
{
		   "cell_type": "markdown",
		   "metadata": {},
		   "source": [
			"## Example 3.7: example7.sce"
		   ]
		  },
  {
"cell_type": "code",
	   "execution_count": null,
	   "metadata": {
	    "collapsed": true
	   },
	   "outputs": [],
"source": [
"// Example 3-7, page 68\n",
"clear;clc; close;\n",
"// Given data\n",
"Vd=0.7;// diode drop  in volts \n",
"V=10;// source voltage\n",
"R=1000;// resistance in ohms\n",
"// Calculations\n",
"Vl=V-Vd;// load voltage in volts\n",
"I=Vl/R;// load current in amperes\n",
"P=(V-Vl)*I;// diode power in watts\n",
"disp('Amperes',I,'Load Current=')\n",
"disp('Volts',Vl,'Load Voltage=')\n",
"disp('Watts',P,'Diode power=')"
   ]
   }
,
{
		   "cell_type": "markdown",
		   "metadata": {},
		   "source": [
			"## Example 3.8: example8.sce"
		   ]
		  },
  {
"cell_type": "code",
	   "execution_count": null,
	   "metadata": {
	    "collapsed": true
	   },
	   "outputs": [],
"source": [
"// Example 3-8, page 69`\n",
"clear;clc; close;\n",
"// Given data\n",
"Rl=10;// load resistance in ohms\n",
"Rb=0.23;// bulk resistance in ohms\n",
"// diode drop=0.7 volts\n",
"// Calculations\n",
"Rt=Rl+Rb;// total resistance in ohms\n",
"Vt=10-0.7;// voltage of battery-diode drop\n",
"I=Vt/Rt;// load current\n",
"Vl=I*10;// load voltage \n",
"Vd=10-Vl;// source voltage-load voltage\n",
"P=Vd*I;\n",
"disp('Amperes',I,'Load Current=')\n",
"disp('Volts',Vl,'Load Voltage=')\n",
"disp('Watts',P,'Diode power=')"
   ]
   }
],
"metadata": {
		  "kernelspec": {
		   "display_name": "Scilab",
		   "language": "scilab",
		   "name": "scilab"
		  },
		  "language_info": {
		   "file_extension": ".sce",
		   "help_links": [
			{
			 "text": "MetaKernel Magics",
			 "url": "https://github.com/calysto/metakernel/blob/master/metakernel/magics/README.md"
			}
		   ],
		   "mimetype": "text/x-octave",
		   "name": "scilab",
		   "version": "0.7.1"
		  }
		 },
		 "nbformat": 4,
		 "nbformat_minor": 0
}
