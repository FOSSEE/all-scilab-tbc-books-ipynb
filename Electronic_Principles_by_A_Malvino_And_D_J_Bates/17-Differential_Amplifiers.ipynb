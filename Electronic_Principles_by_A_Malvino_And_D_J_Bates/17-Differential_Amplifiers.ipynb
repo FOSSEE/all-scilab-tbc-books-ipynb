{
"cells": [
 {
		   "cell_type": "markdown",
	   "metadata": {},
	   "source": [
       "# Chapter 17: Differential Amplifiers"
	   ]
	},
{
		   "cell_type": "markdown",
		   "metadata": {},
		   "source": [
			"## Example 17.10: example10.sce"
		   ]
		  },
  {
"cell_type": "code",
	   "execution_count": null,
	   "metadata": {
	    "collapsed": true
	   },
	   "outputs": [],
"source": [
"// calculate common mode voltage gain and output voltage \n",
"// Electronic Principles\n",
"// By Albert Malvino , David Bates\n",
"// Seventh Edition\n",
"// The McGraw-Hill Companies\n",
"// Example 17-10, page 642\n",
"\n",
"clear; clc; close;\n",
"\n",
"// Given data\n",
"Rc=10^6;// collector resistance in ohms\n",
"Re=10^6;// emitter resistance in ohms\n",
"Vin=10^-3;// input voltage in volts\n",
"\n",
"// Calculations\n",
"Avcm=Rc/(2*Re);// swamped voltage gain\n",
"Vout=Vin*Avcm;// output voltage in volts\n",
"disp('Volts',Vout,'output voltage=')\n",
"\n",
"// Result\n",
"// Output voltage is 0.5 mVolts"
   ]
   }
,
{
		   "cell_type": "markdown",
		   "metadata": {},
		   "source": [
			"## Example 17.12: example12.sce"
		   ]
		  },
  {
"cell_type": "code",
	   "execution_count": null,
	   "metadata": {
	    "collapsed": true
	   },
	   "outputs": [],
"source": [
"// calculate output voltage \n",
"// Electronic Principles\n",
"// By Albert Malvino , David Bates\n",
"// Seventh Edition\n",
"// The McGraw-Hill Companies\n",
"// Example 17-12, page 644\n",
"\n",
"clear; clc; close;\n",
"\n",
"// Given data\n",
"Av=200000;// voltage gain\n",
"CMRRdb=90;// common mode rejection ratio in decibals\n",
"Vin=10^-6;// input voltage in volts\n",
"\n",
"// Calculations\n",
"CMRR=10^(CMRRdb/20);// common mode rejection ratio \n",
"Avcm=Av/CMRR;// swamped voltage gain\n",
"Vout1=Vin*Av;// desired output voltage in volts\n",
"Vout2=Vin*Avcm;// common mode output voltage in volts\n",
"Vout=Vout1+Vout2;// total output voltage in volts \n",
"disp('Volts',Vout,'output voltage=')\n",
"\n",
"// Result\n",
"// Output voltage is 6.32 microVolts"
   ]
   }
,
{
		   "cell_type": "markdown",
		   "metadata": {},
		   "source": [
			"## Example 17.13: example13.sce"
		   ]
		  },
  {
"cell_type": "code",
	   "execution_count": null,
	   "metadata": {
	    "collapsed": true
	   },
	   "outputs": [],
"source": [
"// calculate load voltage \n",
"// Electronic Principles\n",
"// By Albert Malvino , David Bates\n",
"// Seventh Edition\n",
"// The McGraw-Hill Companies\n",
"// Example 17-13, page 651\n",
"\n",
"clear; clc; close;\n",
"\n",
"// Given data\n",
"Vee=15;// in volts from the figure\n",
"Vcc=15;// in volts from the figure\n",
"Re=7.5*10^3;// emitter resistance in ohms\n",
"Rc=7.5*10^3;// collector resistance in ohms\n",
"Rl=15*10^3;// load resistance in ohms\n",
"Vin=10*10^-3;// input voltage in volts\n",
"\n",
"// Calculations\n",
"It=Vee/Re;// tail current in amperes\n",
"Ie=It/2;// emitter current in amperes\n",
"re=(25*10^-3)/Ie;// ac emitter resistance in ohms\n",
"Av=Rc/re;// unloaded voltage gain\n",
"Vout=Av*Vin;// unloaded output voltage in volts\n",
"Rth=2*Rc;// thevenin resistance in ohms\n",
"Vl=Vout/2;// load voltage in volts as Rl=Rth \n",
"disp('Volts',Vl,'load voltage=')\n",
"\n",
"// Result\n",
"// Load voltage is 1.5 Volts"
   ]
   }
,
{
		   "cell_type": "markdown",
		   "metadata": {},
		   "source": [
			"## Example 17.1: example1.sce"
		   ]
		  },
  {
"cell_type": "code",
	   "execution_count": null,
	   "metadata": {
	    "collapsed": true
	   },
	   "outputs": [],
"source": [
"// find ideal currents and voltages \n",
"// Electronic Principles\n",
"// By Albert Malvino , David Bates\n",
"// Seventh Edition\n",
"// The McGraw-Hill Companies\n",
"// Example 17-1, page 625\n",
"\n",
"clear; clc; close;\n",
"\n",
"// Given data\n",
"Vee=15;// in volts from the figure\n",
"Vcc=15;// in volts from the figure\n",
"Re=7.5*10^3;// emitter resistance in ohms\n",
"Rc=5*10^3;// collector resistance in ohms\n",
"\n",
"// Calculations\n",
"It=Vee/Re;// tail current in amperes\n",
"Ie=It/2;// emitter current in amperes\n",
"Ic=Ie;// collector current is equal to emitter current\n",
"Vc=Vcc-(Ic*Rc);// quiescent voltage in volts\n",
"disp('Amperes',It,'tail current=')\n",
"disp('Amperes',Ie,'emitter current=')\n",
"disp('Volts',Vc,'quiescent collector voltage=')\n",
"\n",
"// Result\n",
"// Tail current is 2 mAmperes\n",
"// Emitter current is 1 mAmperes\n",
"// Collector has a quiescent voltage of 10 Volts"
   ]
   }
,
{
		   "cell_type": "markdown",
		   "metadata": {},
		   "source": [
			"## Example 17.2: example2.sce"
		   ]
		  },
  {
"cell_type": "code",
	   "execution_count": null,
	   "metadata": {
	    "collapsed": true
	   },
	   "outputs": [],
"source": [
"// calculate currents and voltages using second approximation\n",
"// Electronic Principles\n",
"// By Albert Malvino , David Bates\n",
"// Seventh Edition\n",
"// The McGraw-Hill Companies\n",
"// Example 17-2, page 626\n",
"\n",
"clear; clc; close;\n",
"\n",
"// Given data\n",
"Vee=15;// in volts from the figure\n",
"Vcc=15;// in volts from the figure\n",
"Re=7.5*10^3;// emitter resistance in ohms\n",
"Rc=5*10^3;// collector resistance in ohms\n",
"Vin=10^-3;// in volts\n",
"B=300;// given\n",
"\n",
"// Calculations\n",
"It=(Vee-0.7)/Re;// tail current in amperes using second approximation\n",
"Ie=It/2;// emitter current in amperes\n",
"Ic=Ie;// collector current is equal to emitter current\n",
"Vc=Vcc-(Ic*Rc);// quiescent voltage in volts\n",
"disp('Amperes',It,'tail current=')\n",
"disp('Amperes',Ie,'emitter current=')\n",
"disp('Volts',Vc,'quiescent collector voltage=')\n",
"\n",
"// Result\n",
"// Tail current is 1.91 mAmperes\n",
"// Emitter current is 0.955 mAmperes\n",
"// Collector has a quiescent voltage of 10.2 Volts\n",
" "
   ]
   }
,
{
		   "cell_type": "markdown",
		   "metadata": {},
		   "source": [
			"## Example 17.3: example3.sce"
		   ]
		  },
  {
"cell_type": "code",
	   "execution_count": null,
	   "metadata": {
	    "collapsed": true
	   },
	   "outputs": [],
"source": [
"// find currents and voltages \n",
"// Electronic Principles\n",
"// By Albert Malvino , David Bates\n",
"// Seventh Edition\n",
"// The McGraw-Hill Companies\n",
"// Example 17-3, page 626\n",
"\n",
"clear; clc; close;\n",
"\n",
"// Given data\n",
"Vee=12;// in volts from the figure\n",
"Vcc=12;// in volts from the figure\n",
"Re=5*10^3;// emitter resistance in ohms\n",
"Rcright=3*10^3;// collector resistance in ohms\n",
"Rcleft=0;// collector resistance in ohms\n",
"\n",
"// Calculations\n",
"It=Vee/Re;// tail current in amperes\n",
"Ie=It/2;// emitter current in amperes\n",
"Ic=Ie;// collector current is equal to emitter current\n",
"Vcright=Vcc-(Ic*Rcright);// quiescent voltage of right collector in volts\n",
"Vcleft=Vcc-(Ic*Rcleft);// quiescent voltage of left collector in volts\n",
"disp('Amperes',It,'tail current=')\n",
"disp('Amperes',Ie,'emitter current=')\n",
"disp('Volts',Vcright,'right quiescent collector voltage=')\n",
"disp('Volts',Vcleft,'left quiescent collector voltage=')\n",
"\n",
"// Result\n",
"// Tail current is 2.4 mAmperes\n",
"// Emitter current is 1.2 mAmperes\n",
"// Right hand side collector has a quiescent voltage of 8.4 Volts\n",
"// Left hand side collector has a quiescent voltage of 12 Volts"
   ]
   }
,
{
		   "cell_type": "markdown",
		   "metadata": {},
		   "source": [
			"## Example 17.4: example4.sce"
		   ]
		  },
  {
"cell_type": "code",
	   "execution_count": null,
	   "metadata": {
	    "collapsed": true
	   },
	   "outputs": [],
"source": [
"// calculate ac output voltage and input impedance of the diff amp \n",
"// Electronic Principles\n",
"// By Albert Malvino , David Bates\n",
"// Seventh Edition\n",
"// The McGraw-Hill Companies\n",
"// Example 17-4, page 631\n",
"\n",
"clear; clc; close;\n",
"\n",
"// Given data\n",
"Vee=15;// in volts from the figure\n",
"Vcc=15;// in volts from the figure\n",
"Re=7.5*10^3;// emitter resistance in ohms\n",
"Rc=5*10^3;// collector resistance in ohms\n",
"Vin=10^-3;// in volts\n",
"B=300;// given\n",
"\n",
"// Calculations\n",
"It=Vee/Re;// tail current in amperes\n",
"Ie=It/2;// emitter current in amperes\n",
"re=25*10^-3/Ie;// ac emitter resistance in ohms\n",
"Av=Rc/re;// voltage gain\n",
"Vout=Av*Vin;// ac output voltage in volts\n",
"zin=2*B*re;// input impedance of either base in ohms\n",
"disp('Volts',Vout,'output voltage=')\n",
"disp('ohms',zin,'input impedance=')\n",
"\n",
"// Result\n",
"// ac output voltage is 200 mVolts\n",
"// Input impedance of the differential amplifier is 15 Kohms  "
   ]
   }
,
{
		   "cell_type": "markdown",
		   "metadata": {},
		   "source": [
			"## Example 17.5: example5.sce"
		   ]
		  },
  {
"cell_type": "code",
	   "execution_count": null,
	   "metadata": {
	    "collapsed": true
	   },
	   "outputs": [],
"source": [
"// calculate ac output voltage and input impedance of the diff amp using second approximation\n",
"// Electronic Principles\n",
"// By Albert Malvino , David Bates\n",
"// Seventh Edition\n",
"// The McGraw-Hill Companies\n",
"// Example 17-5, page 632\n",
"\n",
"clear; clc; close;\n",
"\n",
"// Given data\n",
"Vee=15;// in volts from the figure\n",
"Vcc=15;// in volts from the figure\n",
"Re=7.5*10^3;// emitter resistance in ohms\n",
"Rc=5*10^3;// collector resistance in ohms\n",
"Vin=10^-3;// in volts\n",
"B=300;// given\n",
"\n",
"// Calculations\n",
"It=(Vee-0.7)/Re;// tail current in amperes using second approximation\n",
"Ie=It/2;// emitter current in amperes\n",
"re=25*10^-3/Ie;// ac emitter resistance in ohms\n",
"Av=Rc/re;// voltage gain\n",
"Vout=Av*Vin;// ac output voltage in volts\n",
"zin=2*B*re;// input impedance of either base in ohms\n",
"disp('Volts',Vout,'output voltage=')\n",
"disp('ohms',zin,'input impedance=')\n",
"\n",
"// Result\n",
"// ac output voltage is 191 mVolts\n",
"// Input impedance of the differential amplifier is 15.7 Kohms  "
   ]
   }
,
{
		   "cell_type": "markdown",
		   "metadata": {},
		   "source": [
			"## Example 17.8: example8.sce"
		   ]
		  },
  {
"cell_type": "code",
	   "execution_count": null,
	   "metadata": {
	    "collapsed": true
	   },
	   "outputs": [],
"source": [
"// calculate error output voltage  \n",
"// Electronic Principles\n",
"// By Albert Malvino , David Bates\n",
"// Seventh Edition\n",
"// The McGraw-Hill Companies\n",
"// Example 17-8, page 639\n",
"\n",
"clear; clc; close;\n",
"\n",
"// Given data\n",
"Av=200;// voltage gain\n",
"Inbias=3*10^-6;// input bias current in amperes        \n",
"Inoff=0.5*10^-6;// input offset current in amperes\n",
"Vinoff=10^-3;// input offset voltage in volts\n",
"Rb1=10^3;// in ohms\n",
"Rb2=0;// in ohms\n",
"\n",
"// Calculations\n",
"V1err=(Rb1-Rb2)*Inbias;// unwanted dc error input in volts\n",
"V2err=(Rb1+Rb2)*Inoff/2;// unwanted dc error input in volts\n",
"V3err=Vinoff;// unwanted dc error input in volts\n",
"Verror=Av*(V1err+V2err+V3err);// output error voltage in volts\n",
"disp('Volts',Verror,'output error voltage=')\n",
"\n",
"// Result\n",
"// Output error voltage is 850 mVolts"
   ]
   }
,
{
		   "cell_type": "markdown",
		   "metadata": {},
		   "source": [
			"## Example 17.9: example9.sce"
		   ]
		  },
  {
"cell_type": "code",
	   "execution_count": null,
	   "metadata": {
	    "collapsed": true
	   },
	   "outputs": [],
"source": [
"// calculate error output voltage  \n",
"// Electronic Principles\n",
"// By Albert Malvino , David Bates\n",
"// Seventh Edition\n",
"// The McGraw-Hill Companies\n",
"// Example 17-9, page 640\n",
"\n",
"clear; clc; close;\n",
"\n",
"// Given data\n",
"Av=300;// voltage gain\n",
"Inbias=80*10^-9;// input bias current in amperes        \n",
"Inoff=20*10^-9;// input offset current in amperes\n",
"Vinoff=5*10^-3;// input offset voltage in volts\n",
"Rb1=10^4;// in ohms\n",
"Rb2=10^4;// in ohms\n",
"\n",
"// Calculations\n",
"V1err=(Rb1-Rb2)*Inbias;// unwanted dc error input in volts\n",
"V2err=(Rb1+Rb2)*Inoff/2;// unwanted dc error input in volts\n",
"V3err=Vinoff;// unwanted dc error input in volts\n",
"Verror=Av*(V1err+V2err+V3err);// output error voltage in volts\n",
"disp('Volts',Verror,'output error voltage=')\n",
"\n",
"// Result\n",
"// Output error voltage is 1.56 Volts"
   ]
   }
],
"metadata": {
		  "kernelspec": {
		   "display_name": "Scilab",
		   "language": "scilab",
		   "name": "scilab"
		  },
		  "language_info": {
		   "file_extension": ".sce",
		   "help_links": [
			{
			 "text": "MetaKernel Magics",
			 "url": "https://github.com/calysto/metakernel/blob/master/metakernel/magics/README.md"
			}
		   ],
		   "mimetype": "text/x-octave",
		   "name": "scilab",
		   "version": "0.7.1"
		  }
		 },
		 "nbformat": 4,
		 "nbformat_minor": 0
}
