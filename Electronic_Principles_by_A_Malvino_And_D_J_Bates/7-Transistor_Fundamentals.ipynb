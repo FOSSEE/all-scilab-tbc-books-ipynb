{
"cells": [
 {
		   "cell_type": "markdown",
	   "metadata": {},
	   "source": [
       "# Chapter 7: Transistor Fundamentals"
	   ]
	},
{
		   "cell_type": "markdown",
		   "metadata": {},
		   "source": [
			"## Example 7.1: example1.sce"
		   ]
		  },
  {
"cell_type": "code",
	   "execution_count": null,
	   "metadata": {
	    "collapsed": true
	   },
	   "outputs": [],
"source": [
"// calculate saturation current and cutoff voltage\n",
"// Electronic Principles\n",
"// By Albert Malvino , David Bates\n",
"// Seventh Edition\n",
"// The McGraw-Hill Companies\n",
"// Example 7-1, page 228\n",
"clear;clc; close;\n",
"// Given data\n",
"Vcc=30;// collector supply voltage in volts\n",
"Rc=3*10^3;// collector resistance in ohms\n",
"// Calculations\n",
"Icsat=Vcc/Rc;// saturation current in amperes\n",
"Vcecutoff=Vcc;// cutoff voltage in volts \n",
"disp('Amperes',Icsat,'Saturation Current')\n",
"disp('Volts',Vcecutoff,'cutoff voltage')\n",
"// Result\n",
"// saturation current is 10 mAmperes\n",
"// cutoff voltage is 30 Volts"
   ]
   }
,
{
		   "cell_type": "markdown",
		   "metadata": {},
		   "source": [
			"## Example 7.2: example2.sce"
		   ]
		  },
  {
"cell_type": "code",
	   "execution_count": null,
	   "metadata": {
	    "collapsed": true
	   },
	   "outputs": [],
"source": [
"// calculate saturation current and cutoff voltage\n",
"// Electronic Principles\n",
"// By Albert Malvino , David Bates\n",
"// Seventh Edition\n",
"// The McGraw-Hill Companies\n",
"// Example 7-2, page 228\n",
"clear;clc; close;\n",
"// Given data\n",
"Vcc=9;// collector supply voltage in volts\n",
"Rc=3*10^3;// collector resistance in ohms\n",
"// Calculations\n",
"Icsat=Vcc/Rc;// saturation current in amperes\n",
"Vcecutoff=Vcc;// cutoff voltage in volts \n",
"disp('Amperes',Icsat,'Saturation Current')\n",
"disp('Volts',Vcecutoff,'cutoff voltage')\n",
"// Result\n",
"// saturation current is 3 mAmperes\n",
"// cutoff voltage is 9 Volts"
   ]
   }
,
{
		   "cell_type": "markdown",
		   "metadata": {},
		   "source": [
			"## Example 7.3: example3.sce"
		   ]
		  },
  {
"cell_type": "code",
	   "execution_count": null,
	   "metadata": {
	    "collapsed": true
	   },
	   "outputs": [],
"source": [
"// calculate saturation current and cutoff voltage\n",
"// Electronic Principles\n",
"// By Albert Malvino , David Bates\n",
"// Seventh Edition\n",
"// The McGraw-Hill Companies\n",
"// Example 7-3, page 229\n",
"clear;clc; close;\n",
"// Given data\n",
"Vcc=15;// collector supply voltage in volts\n",
"Rc=1*10^3;// collector resistance in ohms\n",
"// Calculations\n",
"Icsat=Vcc/Rc;// saturation current in amperes\n",
"Vcecutoff=Vcc;// cutoff voltage in volts \n",
"disp('Amperes',Icsat,'Saturation Current')\n",
"disp('Volts',Vcecutoff,'cutoff voltage')\n",
"// Result\n",
"// saturation current is 15 mAmperes\n",
"// cutoff voltage is 15 Volts"
   ]
   }
,
{
		   "cell_type": "markdown",
		   "metadata": {},
		   "source": [
			"## Example 7.4: example4.sce"
		   ]
		  },
  {
"cell_type": "code",
	   "execution_count": null,
	   "metadata": {
	    "collapsed": true
	   },
	   "outputs": [],
"source": [
"// calculate saturation current and cutoff voltage\n",
"// Electronic Principles\n",
"// By Albert Malvino , David Bates\n",
"// Seventh Edition\n",
"// The McGraw-Hill Companies\n",
"// Example 7-4, page 229\n",
"clear;clc; close;\n",
"// Given data\n",
"Vcc=15;// collector supply voltage in volts\n",
"Rc=3*10^3;// collector resistance in ohms\n",
"// Calculations\n",
"Icsat=Vcc/Rc;// saturation current in amperes\n",
"Vcecutoff=Vcc;// cutoff voltage in volts \n",
"disp('Amperes',Icsat,'Saturation Current')\n",
"disp('Volts',Vcecutoff,'cutoff voltage')\n",
"// Result\n",
"// saturation current is 5 mAmperes\n",
"// cutoff voltage is 15 Volts"
   ]
   }
,
{
		   "cell_type": "markdown",
		   "metadata": {},
		   "source": [
			"## Example 7.5: example5.sce"
		   ]
		  },
  {
"cell_type": "code",
	   "execution_count": null,
	   "metadata": {
	    "collapsed": true
	   },
	   "outputs": [],
"source": [
"// calculate collector-emitter resistance voltage\n",
"// Electronic Principles\n",
"// By Albert Malvino , David Bates\n",
"// Seventh Edition\n",
"// The McGraw-Hill Companies\n",
"// Example 7-5, page 232\n",
"clear;clc; close;\n",
"// Given data\n",
"Bdc=100\n",
"Vbb=15;// in volts\n",
"Vcc=15;// collector supply voltage in volts\n",
"Vbe=0.7;// in volts\n",
"Rb=1*10^6;// base resistance in ohms\n",
"Rc=3*10^3;// collector resistance in ohms\n",
"// Calculations\n",
"Ib=(Vbb-Vbe)/Rb;// base current in amperes\n",
"Ic=Bdc*Ib;// collector current in amperes\n",
"Vce=Vcc-(Ic*Rc);// collector-emitter voltage in volts\n",
"disp('Volts',Vce,'collector-emitter voltage')\n",
"// Result\n",
"// collector-emitter voltage is 10.7 volts"
   ]
   }
,
{
		   "cell_type": "markdown",
		   "metadata": {},
		   "source": [
			"## Example 7.6: example6.sce"
		   ]
		  },
  {
"cell_type": "code",
	   "execution_count": null,
	   "metadata": {
	    "collapsed": true
	   },
	   "outputs": [],
"source": [
"// find whether transistor remains in saturated region\n",
"// Electronic Principles\n",
"// By Albert Malvino , David Bates\n",
"// Seventh Edition\n",
"// The McGraw-Hill Companies\n",
"// Example 7-6, page 235\n",
"clear;clc; close;\n",
"// Given data\n",
"Vcc=20;// collector supply voltage in volts\n",
"Vbb=10;// base voltage in volts\n",
"Rc=10*10^3;// collector resistance in ohms\n",
"Rb=1*10^6;// base resistance in ohms\n",
"Bdc=50;\n",
"// Calculations\n",
"Ib=Vbb/Rb;// base current in amperes\n",
"Ic=Bdc*Ib;// collector current in amperes\n",
"Vce=Vcc-(Ic*Rc);// collector-emitter voltage in volts\n",
"disp('Volts',Vce,'collector-emitter voltage')\n",
"// Result\n",
"// as Vce>0 ,the transistor is not saturated"
   ]
   }
,
{
		   "cell_type": "markdown",
		   "metadata": {},
		   "source": [
			"## Example 7.7: example7.sce"
		   ]
		  },
  {
"cell_type": "code",
	   "execution_count": null,
	   "metadata": {
	    "collapsed": true
	   },
	   "outputs": [],
"source": [
"// find whether transistor remains in saturated region\n",
"// Electronic Principles\n",
"// By Albert Malvino , David Bates\n",
"// Seventh Edition\n",
"// The McGraw-Hill Companies\n",
"// Example 7-7, page 235\n",
"clear;clc; close;\n",
"// Given data\n",
"Vcc=20;// collector supply voltage in volts\n",
"Vbb=10;// base voltage in volts\n",
"Rc=5*10^3;// collector resistance in ohms\n",
"Rb=1*10^6;// base resistance in ohms\n",
"Bdc=50;\n",
"// Calculations\n",
"Icsat=Vcc/Rc;// saturation current in amperes\n",
"Ib=Vbb/Rb;// base current in amperes\n",
"Ic=Bdc*Ib;// collector current in amperes\n",
"disp(Ic)\n",
"disp(Icsat)\n",
"disp('Ic>Icsat')\n",
"// Result\n",
"// as Ic>Icsat ,the transistor is saturated"
   ]
   }
,
{
		   "cell_type": "markdown",
		   "metadata": {},
		   "source": [
			"## Example 7.8: example8.sce"
		   ]
		  },
  {
"cell_type": "code",
	   "execution_count": null,
	   "metadata": {
	    "collapsed": true
	   },
	   "outputs": [],
"source": [
"// find the 2 values of output voltage\n",
"// Electronic Principles\n",
"// By Albert Malvino , David Bates\n",
"// Seventh Edition\n",
"// The McGraw-Hill Companies\n",
"// Example 7-8, page 236\n",
"clear;clc; close;\n",
"// Given data\n",
"Vcc=5;// collector supply voltage in volts\n",
"Vbb=10;// base voltage in volts\n",
"Rc=1*10^3;// collector resistance in ohms\n",
"Rb=10*10^3;// base resistance in ohms\n",
"Bdc=50;// current gain\n",
"Vcesat=0.15;// saturation voltage in volts\n",
"Iceo=50*10^-9;// collector leakage current in amperes\n",
"// Calculations\n",
"Vce=Vcc-(Iceo*Rc);// collector-emitter voltage in volts\n",
"disp('Volts',Vcesat,'Output voltage')\n",
"disp('Volts',Vce,'Output voltage')\n",
"// Result\n",
"// the 2 output voltages are 5 volts and 0.15 volts"
   ]
   }
,
{
		   "cell_type": "markdown",
		   "metadata": {},
		   "source": [
			"## Example 7.9: example9.sce"
		   ]
		  },
  {
"cell_type": "code",
	   "execution_count": null,
	   "metadata": {
	    "collapsed": true
	   },
	   "outputs": [],
"source": [
"// find voltage between collector and ground and between collector and emitter\n",
"// Electronic Principles\n",
"// By Albert Malvino , David Bates\n",
"// Seventh Edition\n",
"// The McGraw-Hill Companies\n",
"// Example 7-9, page 239\n",
"clear;clc; close;\n",
"// Given data\n",
"Vcc=15;// collector supply voltage in volts\n",
"Vbb=5;// base voltage in volts\n",
"Rc=2*10^3;// collector resistance in ohms\n",
"Re=1*10^3;// emitter resistance in ohms\n",
"// Calculations\n",
"Ve=Vbb-0.7;// emitter voltage in volts\n",
"Ie=Ve/Re;// emitter current in amperes\n",
"Ic=Ie;// collector current is equal to emitter current\n",
"Vc=Vcc-(Ic*Rc);// collector voltage in volts\n",
"Vce=Vc-Ve;// collector-emitter voltage in volts\n",
"disp('Volts',Vce,'collector-emitter voltage')\n",
"disp('Volts',Vc,'collector-ground voltage')\n",
"// Result\n",
"// collector-to-ground voltage is 6.4 volts\n",
"// collector-emitter voltage is 2.1 volts"
   ]
   }
],
"metadata": {
		  "kernelspec": {
		   "display_name": "Scilab",
		   "language": "scilab",
		   "name": "scilab"
		  },
		  "language_info": {
		   "file_extension": ".sce",
		   "help_links": [
			{
			 "text": "MetaKernel Magics",
			 "url": "https://github.com/calysto/metakernel/blob/master/metakernel/magics/README.md"
			}
		   ],
		   "mimetype": "text/x-octave",
		   "name": "scilab",
		   "version": "0.7.1"
		  }
		 },
		 "nbformat": 4,
		 "nbformat_minor": 0
}
