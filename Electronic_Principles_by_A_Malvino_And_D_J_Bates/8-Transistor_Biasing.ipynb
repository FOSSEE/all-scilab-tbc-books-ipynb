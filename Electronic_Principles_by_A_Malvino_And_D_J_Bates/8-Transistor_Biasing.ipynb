{
"cells": [
 {
		   "cell_type": "markdown",
	   "metadata": {},
	   "source": [
       "# Chapter 8: Transistor Biasing"
	   ]
	},
{
		   "cell_type": "markdown",
		   "metadata": {},
		   "source": [
			"## Example 8.1: example1.sce"
		   ]
		  },
  {
"cell_type": "code",
	   "execution_count": null,
	   "metadata": {
	    "collapsed": true
	   },
	   "outputs": [],
"source": [
"// calculate the collector-emmitter voltage\n",
"// Electronic Principles\n",
"// By Albert Malvino , David Bates\n",
"// Seventh Edition\n",
"// The McGraw-Hill Companies\n",
"// Example 8-1, page 263\n",
"clear;clc; close;\n",
"// Given data\n",
"Vcc=10;// collector supply voltage in volts\n",
"R1=10*10^3;// in ohms\n",
"R2=2.2*10^3;// in ohms\n",
"Rc=3.6*10^3;// collector resistance \n",
"Re=1*10^3;// emitter resistance\n",
"// Calculations\n",
"Vbb=R2*Vcc/(R1+R2);// base voltage in ohms\n",
"Ve=Vbb-0.7;// emitter voltage\n",
"Ie=Ve/Re;// emitter current in amperes\n",
"Ic=Ie;// collector current is approximately equal to emitter current\n",
"Vc=Vcc-(Ic*Rc);// collector-to-ground voltage in volts\n",
"Vce=Vc-Ve;// collector-emitter voltage in volts\n",
"disp('Volts',Vce,'Collector-Emitter Voltage')\n",
"// Result\n",
"// collector-emitter voltage is 4.92 volts."
   ]
   }
,
{
		   "cell_type": "markdown",
		   "metadata": {},
		   "source": [
			"## Example 8.3: example3.sce"
		   ]
		  },
  {
"cell_type": "code",
	   "execution_count": null,
	   "metadata": {
	    "collapsed": true
	   },
	   "outputs": [],
"source": [
"// find emitter current \n",
"// Electronic Principles\n",
"// By Albert Malvino , David Bates\n",
"// Seventh Edition\n",
"// The McGraw-Hill Companies\n",
"// Example 8-3, page 266\n",
"clear;clc; close;\n",
"// Given data\n",
"R1=10*10^3;// in ohms\n",
"R2=2.2*10^3;// in ohms\n",
"Rc=3.6*10^3;// in ohms\n",
"Re=1*10^3;// in ohms\n",
"Bdc=200;// current gain\n",
"Vbb=1.8;// base supply voltage in volts \n",
"Vbe=0.7;// voltage across emitter in volts\n",
"// Calculations\n",
"Rth=(R1*R2)/(R1+R2);// thevenin voltage in volts(R1||R2)\n",
"Rin=Bdc*Re;// input resistance of base\n",
"// as Rth<0.01*Rin, voltage divider is stiff\n",
"Ie=(Vbb-Vbe)/(Re+(Rth/Bdc));// emitter current in amperes\n",
"disp('Amperes',Ie,'Emitter Current')\n",
"// Result\n",
"// voltage divider is stiff, emitter current is 1.09 milliamperes"
   ]
   }
,
{
		   "cell_type": "markdown",
		   "metadata": {},
		   "source": [
			"## Example 8.4: example4.sce"
		   ]
		  },
  {
"cell_type": "code",
	   "execution_count": null,
	   "metadata": {
	    "collapsed": true
	   },
	   "outputs": [],
"source": [
"// find resistances to fit in the given VDB design\n",
"// Electronic Principles\n",
"// By Albert Malvino , David Bates\n",
"// Seventh Edition\n",
"// The McGraw-Hill Companies\n",
"// Example 8-4, page 269\n",
"clear;clc; close;\n",
"// Given data\n",
"// 2N3904\n",
"Bdc=100;// current gain\n",
"Vcc=10 ;// supply voltage in volts\n",
"Ic=10*10^-3;// collector current in amperes\n",
"// Calculations\n",
"Ve=0.1*Vcc;// emitter voltage in volts\n",
"Ie=Ic;// collector current is equal to emitter current\n",
"Re=Ve/Ie;// emitter resistance in ohms\n",
"Rc=4*Re;// collector resistance in ohms\n",
"R2max=0.01*Bdc*Re;// in ohms\n",
"V2=Ve+0.7;// in volts\n",
"V1=Vcc-V2;// in volts\n",
"R1=(V1*R2max)/V2;// in ohms\n",
"disp('Ohms',R1,'R1=')\n",
"disp('Ohms',R2max,'R2=')\n",
"disp('Ohms',Rc,' Collector Resistance=')\n",
"disp('Ohms',Re,'Emitter Resistance=')\n",
"// Result\n",
"// R1=488 ohms, R2=100 ohms, Rc=400 ohms, Re=100 ohms"
   ]
   }
,
{
		   "cell_type": "markdown",
		   "metadata": {},
		   "source": [
			"## Example 8.5: example5.sce"
		   ]
		  },
  {
"cell_type": "code",
	   "execution_count": null,
	   "metadata": {
	    "collapsed": true
	   },
	   "outputs": [],
"source": [
"// find collector voltage\n",
"// Electronic Principles\n",
"// By Albert Malvino , David Bates\n",
"// Seventh Edition\n",
"// The McGraw-Hill Companies\n",
"// Example 8-5, page 271\n",
"clear;clc; close;\n",
"// Given data\n",
"Re=1.8*10^3;// emitter current in ohms\n",
"Rc=3.6*10^3;// collector resistance in ohms\n",
"Rb=2.7*10^3;// in ohms\n",
"Vre=1.3;// voltage across the emitter resistor in volts\n",
"Vcc=10;// collector supply voltage in volts\n",
"// Calculations\n",
"Ie=Vre/Re;// emitter current in amperes\n",
"Ic=Ie;// collector current is equal to emitter current\n",
"Vc=Vcc-Ic*Rc;// collector voltage in volts\n",
"disp('Volts',Vc,'Collector Voltage')\n",
"// Result\n",
"// collector voltage is 7.4 volts"
   ]
   }
,
{
		   "cell_type": "markdown",
		   "metadata": {},
		   "source": [
			"## Example 8.6: example6.sce"
		   ]
		  },
  {
"cell_type": "code",
	   "execution_count": null,
	   "metadata": {
	    "collapsed": true
	   },
	   "outputs": [],
"source": [
"// find collector to ground voltage \n",
"// Electronic Principles\n",
"// By Albert Malvino , David Bates\n",
"// Seventh Edition\n",
"// The McGraw-Hill Companies\n",
"// Example 8-6, page 271\n",
"clear;clc; close;\n",
"// Given data\n",
"Vee=15;// in volts\n",
"Vcc=15;// in volts\n",
"Rc=10*10^3;// in ohms\n",
"Re=20*10^3;// in ohms\n",
"// Calculations\n",
"Ie=(Vee-0.7)/Re;// emitter current in amperes\n",
"Ic=Ie;// collector current is equal to emitter current\n",
"Vc=Vcc-Ic*Rc;// collector voltage in volts\n",
"disp('Volts',Vc,'Collector Voltage')\n",
"// Result\n",
"// collector to ground voltage is 7.85 volts"
   ]
   }
,
{
		   "cell_type": "markdown",
		   "metadata": {},
		   "source": [
			"## Example 8.7: example7.sce"
		   ]
		  },
  {
"cell_type": "code",
	   "execution_count": null,
	   "metadata": {
	    "collapsed": true
	   },
	   "outputs": [],
"source": [
"// calculate the 3 transistor voltages for pnp circuit \n",
"// Electronic Principles\n",
"// By Albert Malvino , David Bates\n",
"// Seventh Edition\n",
"// The McGraw-Hill Companies\n",
"// Example 8-7, page 278\n",
"clear;clc; close;\n",
"// Given data\n",
"Vee=10;// in volts\n",
"Vcc=10;// in volts\n",
"Rc=3.6*10^3;// in ohms\n",
"Re=1*10^3;// in ohms\n",
"R1=10*10^3;// in ohms\n",
"R2=2.2*10^3;// in ohms\n",
"// Calculations\n",
"V2=(R2/(R2+R1))*Vee;//voltage across R2\n",
"Ve=V2-0.7;// voltage across emitter resistor in volts\n",
"Ie=Ve/Re;// emitter current in amperes\n",
"Ic=Ie;// collector current is equal to emitter current\n",
"Vc=Ic*Rc;// collector-ground voltage in volts\n",
"Vb=Vcc-V2;// base -ground voltage in volts\n",
"Vee=Vcc-Ve;// emitter-ground voltage in volts\n",
"disp('Volts',Vc,'Collector Voltage')\n",
"disp('Volts',Vb,'Base Voltage')\n",
"disp('Volts',Vee,'Emitter Voltage')\n",
"// Result\n",
"// collector-ground voltage is 3.96 volts\n",
"// base-ground voltage is 8.2 volts\n",
"// emitter-ground voltage is 8.9 volts"
   ]
   }
],
"metadata": {
		  "kernelspec": {
		   "display_name": "Scilab",
		   "language": "scilab",
		   "name": "scilab"
		  },
		  "language_info": {
		   "file_extension": ".sce",
		   "help_links": [
			{
			 "text": "MetaKernel Magics",
			 "url": "https://github.com/calysto/metakernel/blob/master/metakernel/magics/README.md"
			}
		   ],
		   "mimetype": "text/x-octave",
		   "name": "scilab",
		   "version": "0.7.1"
		  }
		 },
		 "nbformat": 4,
		 "nbformat_minor": 0
}
