{
"cells": [
 {
		   "cell_type": "markdown",
	   "metadata": {},
	   "source": [
       "# Chapter 9: AC Models"
	   ]
	},
{
		   "cell_type": "markdown",
		   "metadata": {},
		   "source": [
			"## Example 9.1: example1.sce"
		   ]
		  },
  {
"cell_type": "code",
	   "execution_count": null,
	   "metadata": {
	    "collapsed": true
	   },
	   "outputs": [],
"source": [
"// find the value of capacitance\n",
"// Electronic Principles\n",
"// By Albert Malvino , David Bates\n",
"// Seventh Edition\n",
"// The McGraw-Hill Companies\n",
"// Example 9-1, page 289\n",
"clear;clc; close;\n",
"// Given data\n",
"R=2*10^3;// resistance in ohms\n",
"fmin=20;// lower frequency range\n",
"fmax=20*10^3;// higher frequency range\n",
"// Calculations\n",
"Xc=200;// Xc<0.1*R at 20 Hertz\n",
"C=1/(2*%pi*fmin*Xc);// in faraday \n",
"disp('Faraday',C,'Capacitance=')\n",
"// Result\n",
"// Capacitance required is 39.8 micro Faraday"
   ]
   }
,
{
		   "cell_type": "markdown",
		   "metadata": {},
		   "source": [
			"## Example 9.2: example2.sce"
		   ]
		  },
  {
"cell_type": "code",
	   "execution_count": null,
	   "metadata": {
	    "collapsed": true
	   },
	   "outputs": [],
"source": [
"// find the value of capacitance\n",
"// Electronic Principles\n",
"// By Albert Malvino , David Bates\n",
"// Seventh Edition\n",
"// The McGraw-Hill Companies\n",
"// Example 9-2, page 293\n",
"clear;clc; close;\n",
"// Given data\n",
"R1=600;// resistance in ohms\n",
"R2=1*10^3;// resistance in ohms\n",
"R=(R1*R2)/(R1+R2);// R=R1||R2\n",
"f=1*10^3;// frequency in hertz\n",
"// Calculations\n",
"Xc=37.5;// Xc<0.1*R at 1000 Hertz\n",
"C=1/(2*%pi*f*Xc);// in faraday \n",
"disp('Faraday',C,'Capacitance=')\n",
"// Result\n",
"// Capacitance required is 4.2 micro Faraday"
   ]
   }
,
{
		   "cell_type": "markdown",
		   "metadata": {},
		   "source": [
			"## Example 9.3: example3.sce"
		   ]
		  },
  {
"cell_type": "code",
	   "execution_count": null,
	   "metadata": {
	    "collapsed": true
	   },
	   "outputs": [],
"source": [
"// find maximum small signal emitter current \n",
"// Electronic Principles\n",
"// By Albert Malvino , David Bates\n",
"// Seventh Edition\n",
"// The McGraw-Hill Companies\n",
"// Example 9-3, page 297\n",
"clear;clc; close;\n",
"// Given data\n",
"Vee=2;// in volts\n",
"Vbe=0.7;// in volts\n",
"Re=1*10^3;// in ohms\n",
"// Calculations\n",
"Ieq=(Vee-Vbe)/Re;// Q point emitter current in amperes\n",
"ieppmax=0.1*Ieq;// maximum small signal emitter current in amperes\n",
"disp(ieppmax,'maximum small signal emitter current')\n",
"// Result\n",
"// Maximum small signal emitter current is 130 microApp."
   ]
   }
,
{
		   "cell_type": "markdown",
		   "metadata": {},
		   "source": [
			"## Example 9.4: example4.sce"
		   ]
		  },
  {
"cell_type": "code",
	   "execution_count": null,
	   "metadata": {
	    "collapsed": true
	   },
	   "outputs": [],
"source": [
"// find re(ac)\n",
"// Electronic Principles\n",
"// By Albert Malvino , David Bates\n",
"// Seventh Edition\n",
"// The McGraw-Hill Companies\n",
"// Example 9-4, page 301\n",
"clear;clc; close;\n",
"// Given data\n",
"Ie=3*10^-3;// emitter current in amperes\n",
"// Calculations\n",
"re=25*10^-3/Ie;// ac emitter resistance in ohms\n",
"disp('Ohms',re,'re(ac)=')\n",
"// Result\n",
"// re(ac) of the base-biased amplifier is 8.33 ohms"
   ]
   }
,
{
		   "cell_type": "markdown",
		   "metadata": {},
		   "source": [
			"## Example 9.5: example5.sce"
		   ]
		  },
  {
"cell_type": "code",
	   "execution_count": null,
	   "metadata": {
	    "collapsed": true
	   },
	   "outputs": [],
"source": [
"// find re(ac)\n",
"// Electronic Principles\n",
"// By Albert Malvino , David Bates\n",
"// Seventh Edition\n",
"// The McGraw-Hill Companies\n",
"// Example 9-5, page 301\n",
"\n",
"clear;clc; close;\n",
"\n",
"// Given data\n",
"Ie=1.1*10^-3;// emitter current in amperes\n",
"\n",
"// Calculations\n",
"re=25*10^-3/Ie;// ac emitter resistance in ohms\n",
"disp('Ohms',re,'re(ac)=')\n",
"\n",
"// Result\n",
"// re(ac) of the base-biased amplifier is 22.7 ohms"
   ]
   }
,
{
		   "cell_type": "markdown",
		   "metadata": {},
		   "source": [
			"## Example 9.6: example6.sce"
		   ]
		  },
  {
"cell_type": "code",
	   "execution_count": null,
	   "metadata": {
	    "collapsed": true
	   },
	   "outputs": [],
"source": [
"// find re(ac) \n",
"// Electronic Principles\n",
"// By Albert Malvino , David Bates\n",
"// Seventh Edition\n",
"// The McGraw-Hill Companies\n",
"// Example 9-6, page 301\n",
"\n",
"clear;clc; close;\n",
"\n",
"// Given data\n",
"Ie=1.3*10^-3;// emitter current in amperes\n",
"\n",
"// Calculations\n",
"re=25*10^-3/Ie;// ac emitter resistance in ohms\n",
"disp('Ohms',re,'re(ac)=')\n",
"\n",
"// Result\n",
"// re(ac) of the base-biased amplifier is 19.2 ohms"
   ]
   }
],
"metadata": {
		  "kernelspec": {
		   "display_name": "Scilab",
		   "language": "scilab",
		   "name": "scilab"
		  },
		  "language_info": {
		   "file_extension": ".sce",
		   "help_links": [
			{
			 "text": "MetaKernel Magics",
			 "url": "https://github.com/calysto/metakernel/blob/master/metakernel/magics/README.md"
			}
		   ],
		   "mimetype": "text/x-octave",
		   "name": "scilab",
		   "version": "0.7.1"
		  }
		 },
		 "nbformat": 4,
		 "nbformat_minor": 0
}
