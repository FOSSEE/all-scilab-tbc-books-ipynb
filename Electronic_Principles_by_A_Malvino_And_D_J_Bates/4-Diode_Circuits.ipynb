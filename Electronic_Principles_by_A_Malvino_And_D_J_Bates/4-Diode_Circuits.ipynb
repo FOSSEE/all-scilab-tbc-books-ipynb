{
"cells": [
 {
		   "cell_type": "markdown",
	   "metadata": {},
	   "source": [
       "# Chapter 4: Diode Circuits"
	   ]
	},
{
		   "cell_type": "markdown",
		   "metadata": {},
		   "source": [
			"## Example 4.10: example10.sce"
		   ]
		  },
  {
"cell_type": "code",
	   "execution_count": null,
	   "metadata": {
	    "collapsed": true
	   },
	   "outputs": [],
"source": [
"// Example 4-10, page 114\n",
"clear;clc; close;\n",
"// Given data\n",
"V1=120;// rms input voltage in volts\n",
"// turns ratio 8:1\n",
"// Calculations\n",
"V2=V1/8;// rms secondary voltage in volts\n",
"Vp=V2/0.707;// peak secondary voltage\n",
"PIV=Vp;// peak inverse voltage\n",
"disp(PIV)\n",
"disp('Volts',PIV,'Peak inverse voltage =')\n",
"// Result\n",
"// peak inverse voltage is 21.2 volts "
   ]
   }
,
{
		   "cell_type": "markdown",
		   "metadata": {},
		   "source": [
			"## Example 4.1: example1.sce"
		   ]
		  },
  {
"cell_type": "code",
	   "execution_count": null,
	   "metadata": {
	    "collapsed": true
	   },
	   "outputs": [],
"source": [
"//Theory Example"
   ]
   }
,
{
		   "cell_type": "markdown",
		   "metadata": {},
		   "source": [
			"## Example 4.2: example2.sce"
		   ]
		  },
  {
"cell_type": "code",
	   "execution_count": null,
	   "metadata": {
	    "collapsed": true
	   },
	   "outputs": [],
"source": [
"// Example 4-2, page 95\n",
"clear;clc; close;\n",
"// Given data\n",
"// refer to the diagram\n",
"// turns ratio 5:1\n",
"V1=120;// primary voltage in volts\n",
"// Calculations\n",
"V2=V1/5;// secondary voltage in volts\n",
"Vpin=V2/0.707;// peak secondary voltage in volts\n",
"// with ideal diode\n",
"Vpout=Vpin;\n",
"Vdc=Vpout/%pi;\n",
"disp('Volts',Vpout,'Peak voltage =')\n",
"disp('Volts',Vdc,'dc load voltage=')\n",
"// with second approximation\n",
"Vpout=Vpin-0.7;// peak load voltage in volts\n",
"Vdc=Vpout/%pi;\n",
"disp('Volts',Vpout,'Peak voltage =')\n",
"disp('Volts',Vdc,'dc load voltage=')"
   ]
   }
,
{
		   "cell_type": "markdown",
		   "metadata": {},
		   "source": [
			"## Example 4.3: example3.sce"
		   ]
		  },
  {
"cell_type": "code",
	   "execution_count": null,
	   "metadata": {
	    "collapsed": true
	   },
	   "outputs": [],
"source": [
"// Example 4-3, page 97\n",
"clear;clc; close;\n",
"// Given data\n",
"Vrms=120;// in volts\n",
"// 10:1 step down transformer\n",
"// Calculations\n",
"Vp1=Vrms/0.707;// peak primary voltage in volts\n",
"Vp2=Vp1/10;// peak secondary voltage in volts\n",
"// the full wave rectifier acts like 2 back-to-back half-wave rectifiers.because of the center tap,the input voltage to each half-wave rectifier is only half the secondary voltage\n",
"Vpin=0.5*Vp2;\n",
"disp('Volts',Vpin,'Peak input voltage =')\n",
"Vpout=Vpin;// ideally \n",
"disp('Volts',Vpout,'Peak voltage =')\n",
"Vpout=Vpin-0.7;// using second approximation\n",
"disp('Volts',Vpout,'Peak voltage =')"
   ]
   }
,
{
		   "cell_type": "markdown",
		   "metadata": {},
		   "source": [
			"## Example 4.5: example5.sce"
		   ]
		  },
  {
"cell_type": "code",
	   "execution_count": null,
	   "metadata": {
	    "collapsed": true
	   },
	   "outputs": [],
"source": [
"//Theory Example"
   ]
   }
,
{
		   "cell_type": "markdown",
		   "metadata": {},
		   "source": [
			"## Example 4.6: example6.sce"
		   ]
		  },
  {
"cell_type": "code",
	   "execution_count": null,
	   "metadata": {
	    "collapsed": true
	   },
	   "outputs": [],
"source": [
"//Theory Example"
   ]
   }
,
{
		   "cell_type": "markdown",
		   "metadata": {},
		   "source": [
			"## Example 4.7: example7.sce"
		   ]
		  },
  {
"cell_type": "code",
	   "execution_count": null,
	   "metadata": {
	    "collapsed": true
	   },
	   "outputs": [],
"source": [
"//Theory Example"
   ]
   }
,
{
		   "cell_type": "markdown",
		   "metadata": {},
		   "source": [
			"## Example 4.8: example8.sce"
		   ]
		  },
  {
"cell_type": "code",
	   "execution_count": null,
	   "metadata": {
	    "collapsed": true
	   },
	   "outputs": [],
"source": [
"// calculating of dc load voltage and ripple\n",
"// Electronic Principles\n",
"// By Albert Malvino , David Bates\n",
"// Seventh Edition\n",
"// The McGraw-Hill Companies\n",
"// Example 4-8, page 110\n",
"clear;clc; close;\n",
"// Given data\n",
"V1=120;// rms input voltage in volts\n",
"Rl=5000;// dc load resistance in ohms\n",
"f=60;// frequency in hertz\n",
"C=100*10^-6// capacitance in farads \n",
"// 5:1 step down transformer\n",
"// Calculations\n",
"V2=V1/5;// rms secondary voltage in volts\n",
"Vp=V2/0.707;// peak secondary voltage\n",
"Vl=Vp;// ideal diode and small ripple\n",
"Il=Vl/Rl;// dc load current in amperes\n",
"Vr=Il/(2*f*C);// ripple in vpp,bridge rectifier\n",
"disp('Volts',Vl,'dc load voltage =')\n",
"disp('Volts',Vr,'riple =')\n",
"// Result\n",
"// dc load voltage is 34 volts\n",
"// ripple is 0.57 Vpp"
   ]
   }
,
{
		   "cell_type": "markdown",
		   "metadata": {},
		   "source": [
			"## Example 4.9: example9.sce"
		   ]
		  },
  {
"cell_type": "code",
	   "execution_count": null,
	   "metadata": {
	    "collapsed": true
	   },
	   "outputs": [],
"source": [
"// calculating of dc load voltage and ripple\n",
"// Electronic Principles\n",
"// By Albert Malvino , David Bates\n",
"// Seventh Edition\n",
"// The McGraw-Hill Companies\n",
"// Example 4-9, page 111\n",
"clear;clc; close;\n",
"// Given data\n",
"V1=120;// rms input voltage in volts\n",
"Rl=500;// dc load resistance in ohms\n",
"f=60;// frequency in hertz\n",
"C=4700*10^-6// capacitance in farads \n",
"// 15:1 step down transformer\n",
"// Calculations\n",
"V2=V1/15;// rms secondary voltage in volts\n",
"Vp=V2/0.707;// peak secondary voltage\n",
"Vl=Vp-1.4;// using second approximation\n",
"Il=Vl/Rl;// dc load current in amperes\n",
"Vr=Il/(2*f*C);// ripple in vpp,bridge rectifier\n",
"disp('Volts',Vl,'dc load voltage =')\n",
"disp('Volts',Vr,'riple =')\n",
"// Result\n",
"// dc load voltage is 9.9 volts\n",
"// ripple is 35 mVpp"
   ]
   }
],
"metadata": {
		  "kernelspec": {
		   "display_name": "Scilab",
		   "language": "scilab",
		   "name": "scilab"
		  },
		  "language_info": {
		   "file_extension": ".sce",
		   "help_links": [
			{
			 "text": "MetaKernel Magics",
			 "url": "https://github.com/calysto/metakernel/blob/master/metakernel/magics/README.md"
			}
		   ],
		   "mimetype": "text/x-octave",
		   "name": "scilab",
		   "version": "0.7.1"
		  }
		 },
		 "nbformat": 4,
		 "nbformat_minor": 0
}
