{
"cells": [
 {
		   "cell_type": "markdown",
	   "metadata": {},
	   "source": [
       "# Chapter 18: Operational Amplifiers"
	   ]
	},
{
		   "cell_type": "markdown",
		   "metadata": {},
		   "source": [
			"## Example 18.10: example10.sce"
		   ]
		  },
  {
"cell_type": "code",
	   "execution_count": null,
	   "metadata": {
	    "collapsed": true
	   },
	   "outputs": [],
"source": [
"// find closed-loop voltage gain, bandwidth and output voltage\n",
"// Electronic Principles\n",
"// By Albert Malvino , David Bates\n",
"// Seventh Edition\n",
"// The McGraw-Hill Companies\n",
"// Example 18-10, page 683\n",
"\n",
"clear; clc; close;\n",
"\n",
"// Given data\n",
"R1=10^2;// in ohms from the given figure\n",
"Rf=3.9*10^3;// in ohms from the given figure\n",
"Vin=50*10^-3;// input voltage in mVpp\n",
"f=250*10^3;// frequency in hertz\n",
"funity=10^6;// unity gain frequency in hertz\n",
"\n",
"// Calculations\n",
"Avcl=(Rf/R1)+1;// cloased loop voltage gain\n",
"f2cl=funity/Avcl;// closed-loop bandwidth\n",
"// Avcl at 250 Khertz is equilaent to a voltage gain of 4\n",
"Vout=4*Vin;// output voltage at 250*10^3 Hertz\n",
"disp(Avcl,'closed loop voltage gain=')\n",
"disp('Hertz',f2cl,'closed loop bandwidth=')\n",
"disp('Volts',Vout,'output voltage=')\n",
"\n",
"// Result\n",
"// Closed loop voltage gain is 40\n",
"// Closed loop bandwidth is 25 Khertz\n",
"// Output voltage is 200 mVpp at 250 KHertz"
   ]
   }
,
{
		   "cell_type": "markdown",
		   "metadata": {},
		   "source": [
			"## Example 18.11: example11.sce"
		   ]
		  },
  {
"cell_type": "code",
	   "execution_count": null,
	   "metadata": {
	    "collapsed": true
	   },
	   "outputs": [],
"source": [
"// find output error voltage\n",
"// Electronic Principles\n",
"// By Albert Malvino , David Bates\n",
"// Seventh Edition\n",
"// The McGraw-Hill Companies\n",
"// Example 18-11, page 684\n",
"\n",
"clear; clc; close;\n",
"\n",
"// Given data\n",
"R1=10^2;// in ohms from the given figure\n",
"Rf=3.9*10^3;// in ohms from the given figure\n",
"Inbias=500*10^-9;// input bias current in amperes        \n",
"Inoff=200*10^-9;// input offset current in amperes\n",
"Vinoff=6*10^-3;// input offset voltage in volts\n",
"Rb1=0;// in ohms\n",
"\n",
"// Calculations\n",
"Avcl=(Rf/R1)+1;// cloased loop voltage gain\n",
"Rb2=R1*Rf/(R1+Rf);// in ohms\n",
"V1err=(Rb1-Rb2)*Inbias;// unwanted dc error input in volts\n",
"V2err=(Rb1+Rb2)*Inoff/2;// unwanted dc error input in volts\n",
"V3err=Vinoff;// unwanted dc error input in volts\n",
"Verror=Avcl*(V1err+V2err+V3err);// output error voltage in volts;\n",
"disp('Volts',Verror,'output error voltage=')\n",
"\n",
"// Result\n",
"// Output error voltage is 238 mVolts"
   ]
   }
,
{
		   "cell_type": "markdown",
		   "metadata": {},
		   "source": [
			"## Example 18.12: example12.sce"
		   ]
		  },
  {
"cell_type": "code",
	   "execution_count": null,
	   "metadata": {
	    "collapsed": true
	   },
	   "outputs": [],
"source": [
"// find ac output voltage\n",
"// Electronic Principles\n",
"// By Albert Malvino , David Bates\n",
"// Seventh Edition\n",
"// The McGraw-Hill Companies\n",
"// Example 18-12, page 687\n",
"\n",
"clear; clc; close;\n",
"\n",
"// Given data\n",
"Rf=100*10^3;// in ohms from the given figure\n",
"R1=20*10^3;// in ohms from the given figure\n",
"R2=10*10^3;// in ohms from the given figure\n",
"R3=50*10^3;// in ohms from the given figure\n",
"V1=100*10^-3;// voltage in Vpp from the given figure\n",
"V2=200*10^-3;// voltage in Vpp from the given figure\n",
"V3=300*10^-3;// voltage in Vpp from the given figure\n",
"\n",
"// Calculations\n",
"Av1cl=-Rf/R1;// cloased loop voltage gain\n",
"Av2cl=-Rf/R2;// cloased loop voltage gain\n",
"Av3cl=-Rf/R3;// cloased loop voltage gain\n",
"Vout=(Av1cl*V1)+(Av2cl*V2)+(Av3cl*V3);// output voltage in Vpp\n",
"disp('Vpp',Vout,'output voltage=')\n",
"\n",
"// Result\n",
"// Output voltage is -3.1 Vpp"
   ]
   }
,
{
		   "cell_type": "markdown",
		   "metadata": {},
		   "source": [
			"## Example 18.13: example13.sce"
		   ]
		  },
  {
"cell_type": "code",
	   "execution_count": null,
	   "metadata": {
	    "collapsed": true
	   },
	   "outputs": [],
"source": [
"// find output voltage and bandwidth\n",
"// Electronic Principles\n",
"// By Albert Malvino , David Bates\n",
"// Seventh Edition\n",
"// The McGraw-Hill Companies\n",
"// Example 18-13, page 688\n",
"\n",
"clear; clc; close;\n",
"\n",
"// Given data\n",
"Vin=10*10^-3;// ac input source in Vpp\n",
"R=100*10^3;// internal resistance in ohms\n",
"Rl=1;// load resistance in ohms\n",
"funity=10^6;// unity gain frequency in hertz\n",
"\n",
"// Calculations\n",
"Avcl=1;// closed loop voltage gain of a voltage follower\n",
"Vout=Avcl*Vin;// output voltage in volts\n",
"f2cl=funity/Avcl;// closed-loop bandwidth\n",
"disp('Hertz',f2cl,'closed loop bandwidth=')\n",
"disp(Vout,'output voltage=')\n",
"\n",
"// Result\n",
"// Output voltage is 10 mVpp\n",
"// bandwidth is 1 MHertz"
   ]
   }
,
{
		   "cell_type": "markdown",
		   "metadata": {},
		   "source": [
			"## Example 18.4: example4.sce"
		   ]
		  },
  {
"cell_type": "code",
	   "execution_count": null,
	   "metadata": {
	    "collapsed": true
	   },
	   "outputs": [],
"source": [
"// find slew rate of op-amp\n",
"// Electronic Principles\n",
"// By Albert Malvino , David Bates\n",
"// Seventh Edition\n",
"// The McGraw-Hill Companies\n",
"// Example 18-4, page 673\n",
"\n",
"clear; clc; close;\n",
"\n",
"// Given data\n",
"dV=0.25;// voltage change in volts\n",
"dT=0.1*10^-6;// time duration in which the voltage change took place in seconds\n",
"\n",
"// Calculations\n",
"Sr=dV/dT;// slew rate in volts/second\n",
"disp(Sr,'Slew rate=')\n",
"\n",
"// Result\n",
"// slew rate of the op-amp is 2.5 Megavolts/second"
   ]
   }
,
{
		   "cell_type": "markdown",
		   "metadata": {},
		   "source": [
			"## Example 18.5: example5.sce"
		   ]
		  },
  {
"cell_type": "code",
	   "execution_count": null,
	   "metadata": {
	    "collapsed": true
	   },
	   "outputs": [],
"source": [
"// find power band width \n",
"// Electronic Principles\n",
"// By Albert Malvino , David Bates\n",
"// Seventh Edition\n",
"// The McGraw-Hill Companies\n",
"// Example 18-5, page 673\n",
"\n",
"clear; clc; close;\n",
"\n",
"// Given data\n",
"Sr=15*10^6;// slew rate in volts/second\n",
"Vp=10;// peak voltage in volts\n",
"\n",
"// Calculations\n",
"fmax=Sr/(2*%pi*Vp);// power band width in hertz\n",
"disp('Hertz ',fmax,'power band width=')\n",
"\n",
"// Result\n",
"// Power bandwidth is 239 kHertz"
   ]
   }
,
{
		   "cell_type": "markdown",
		   "metadata": {},
		   "source": [
			"## Example 18.6: example6.sce"
		   ]
		  },
  {
"cell_type": "code",
	   "execution_count": null,
	   "metadata": {
	    "collapsed": true
	   },
	   "outputs": [],
"source": [
"// find power band width \n",
"// Electronic Principles\n",
"// By Albert Malvino , David Bates\n",
"// Seventh Edition\n",
"// The McGraw-Hill Companies\n",
"// Example 18-6, page 673\n",
"\n",
"clear; clc; close;\n",
"\n",
"// Given data\n",
"Vp=8;// peak voltage in volts\n",
"Sr1=0.5*10^6;// slew rate in volts/second\n",
"Sr2=5*10^6;// slew rate in volts/second\n",
"Sr3=50*10^6;// slew rate in volts/second\n",
"\n",
"// Calculations\n",
"fmax1=Sr1/(2*%pi*Vp);// power band width in hertz\n",
"fmax2=Sr2/(2*%pi*Vp);// power band width in hertz\n",
"fmax3=Sr3/(2*%pi*Vp);// power band width in hertz\n",
"disp('Hertz ',fmax1,'power band width 1=')\n",
"disp('Hertz ',fmax2,'power band width 2=')\n",
"disp('Hertz ',fmax3,'power band width 3=')\n",
"\n",
"// Result\n",
"// Power bandwidth when slew rate is 0.5 Volts/micro seconds is 10 kHertz\n",
"// Power bandwidth when slew rate is 5 Volts/micro seconds is 100 kHertz\n",
"// Power bandwidth when slew rate is 50 Volts/micro seconds is 1 MHertz"
   ]
   }
,
{
		   "cell_type": "markdown",
		   "metadata": {},
		   "source": [
			"## Example 18.7: example7.sce"
		   ]
		  },
  {
"cell_type": "code",
	   "execution_count": null,
	   "metadata": {
	    "collapsed": true
	   },
	   "outputs": [],
"source": [
"// find closed-loop voltage gain, bandwidth and output voltage\n",
"// Electronic Principles\n",
"// By Albert Malvino , David Bates\n",
"// Seventh Edition\n",
"// The McGraw-Hill Companies\n",
"// Example 18-7, page 678\n",
"\n",
"clear; clc; close;\n",
"\n",
"// Given data\n",
"R1=1.5*10^3;// in ohms from the given figure\n",
"Rf=75*10^3;// in ohms from the given figure\n",
"Vin=10^-2;// input voltage in mVpp\n",
"f1=10^3;// frequency in hertz\n",
"f2=10^6;// frequency in hertz\n",
"funity=10^6;// unity gain frequency in hertz\n",
"\n",
"// Calculations\n",
"Avcl=-Rf/R1;// closed loop voltage gain\n",
"f2cl=funity/-Avcl;// closed-loop bandwidth\n",
"Vout1=Avcl*Vin;// output voltage at 10^3 Hertz\n",
"Vout2=-Vin;// output voltage at 10^6 Hertz as it is unity gain frequency in hertz\n",
"disp(Avcl,'closed loop voltage gain=')\n",
"disp('Hertz',f2cl,'closed loop bandwidth=')\n",
"disp('Volts',Vout1,'output voltage 1=')\n",
"disp('Volts',Vout2,'output voltage 2=')\n",
"\n",
"// Result\n",
"// Closed loop voltage gain is -50\n",
"// Closed loop bandwidth is 20 Khertz\n",
"// Output voltage is -500 mVpp at 1 KHertz\n",
"// Output voltage is -10 mVpp at 1000 KHertz"
   ]
   }
,
{
		   "cell_type": "markdown",
		   "metadata": {},
		   "source": [
			"## Example 18.8: example8.sce"
		   ]
		  },
  {
"cell_type": "code",
	   "execution_count": null,
	   "metadata": {
	    "collapsed": true
	   },
	   "outputs": [],
"source": [
"// find output voltage \n",
"// Electronic Principles\n",
"// By Albert Malvino , David Bates\n",
"// Seventh Edition\n",
"// The McGraw-Hill Companies\n",
"// Example 18-8, page 679\n",
"\n",
"clear; clc; close;\n",
"\n",
"// Given data\n",
"R1=1.5*10^3;// in ohms from the given figure\n",
"Rf=75*10^3;// in ohms from the given figure\n",
"Vin=0;// input voltage in mVpp\n",
"Inbias=80*10^-9;// input bias current in amperes        \n",
"Inoff=20*10^-9;// input offset current in amperes\n",
"Vinoff=2*10^-3;// input offset voltage in volts\n",
"Rb1=0;// in ohms\n",
"\n",
"// Calculations\n",
"Rb2=R1*Rf/(R1+Rf);// in ohms\n",
"V1err=(Rb1-Rb2)*Inbias;// unwanted dc error input in volts\n",
"V2err=(Rb1+Rb2)*Inoff/2;// unwanted dc error input in volts\n",
"V3err=Vinoff;// unwanted dc error input in volts\n",
"Avcl=-Rf/R1;// cloased loop voltage gain\n",
"Verror=Avcl*(V1err+V2err+V3err);// output error voltage in volts;\n",
"Vout=Verror;// output voltage in volts\n",
"disp('Volts',Verror,'output error voltage=')\n",
"\n",
"// Result\n",
"// Output voltage will be (+ or -) 94.9 mVolts"
   ]
   }
,
{
		   "cell_type": "markdown",
		   "metadata": {},
		   "source": [
			"## Example 18.9: example9.sce"
		   ]
		  },
  {
"cell_type": "code",
	   "execution_count": null,
	   "metadata": {
	    "collapsed": true
	   },
	   "outputs": [],
"source": [
"// find output voltage \n",
"// Electronic Principles\n",
"// By Albert Malvino , David Bates\n",
"// Seventh Edition\n",
"// The McGraw-Hill Companies\n",
"// Example 18-9, page 679\n",
"\n",
"clear; clc; close;\n",
"\n",
"// Given data\n",
"R1=1.5*10^3;// in ohms from the given figure\n",
"Rf=75*10^3;// in ohms from the given figure\n",
"Vin=0;// input voltage in mVpp\n",
"Inbias=500*10^-9;// input bias current in amperes        \n",
"Inoff=200*10^-9;// input offset current in amperes\n",
"Vinoff=6*10^-3;// input offset voltage in volts\n",
"Rb1=0;// in ohms\n",
"\n",
"// Calculations\n",
"Rb2=R1*Rf/(R1+Rf);// in ohms\n",
"V1err=(Rb1-Rb2)*Inbias;// unwanted dc error input in volts\n",
"V2err=(Rb1+Rb2)*Inoff/2;// unwanted dc error input in volts\n",
"V3err=Vinoff;// unwanted dc error input in volts\n",
"Avcl=-Rf/R1;// cloased loop voltage gain\n",
"Verror=Avcl*(V1err+V2err+V3err);// output error voltage in volts;\n",
"Vout=Verror;// output voltage in volts\n",
"disp('Volts',Verror,'output error voltage=')\n",
"\n",
"// Result\n",
"// Output voltage will be (+ or -) 270.5 mVolts"
   ]
   }
],
"metadata": {
		  "kernelspec": {
		   "display_name": "Scilab",
		   "language": "scilab",
		   "name": "scilab"
		  },
		  "language_info": {
		   "file_extension": ".sce",
		   "help_links": [
			{
			 "text": "MetaKernel Magics",
			 "url": "https://github.com/calysto/metakernel/blob/master/metakernel/magics/README.md"
			}
		   ],
		   "mimetype": "text/x-octave",
		   "name": "scilab",
		   "version": "0.7.1"
		  }
		 },
		 "nbformat": 4,
		 "nbformat_minor": 0
}
