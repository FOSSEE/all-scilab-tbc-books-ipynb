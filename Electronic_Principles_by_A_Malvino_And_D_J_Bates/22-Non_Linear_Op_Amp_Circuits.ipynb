{
"cells": [
 {
		   "cell_type": "markdown",
	   "metadata": {},
	   "source": [
       "# Chapter 22: Non Linear Op Amp Circuits"
	   ]
	},
{
		   "cell_type": "markdown",
		   "metadata": {},
		   "source": [
			"## Example 22.10: example10.sce"
		   ]
		  },
  {
"cell_type": "code",
	   "execution_count": null,
	   "metadata": {
	    "collapsed": true
	   },
	   "outputs": [],
"source": [
"// find frequency of output signal\n",
"// Electronic Principles\n",
"// By Albert Malvino , David Bates\n",
"// Seventh Edition\n",
"// The McGraw-Hill Companies\n",
"// Example 22-10, page 871\n",
"\n",
"clear;clc; close;\n",
"	\n",
"// Given data\n",
"R1=18*10^3;// resistance in ohms\n",
"R2=2*10^3;// resistance in ohms\n",
"R=10^3;// resistance in ohms\n",
"C=0.1*10^-6;// capacitance in faraday\n",
"\n",
"// Calculations\n",
"B=R1/(R1+R2);// feedback fraction\n",
"T=2*R*C*log((1+B)/(1-B));// time period of output signal\n",
"f=1/T;// frequency of output signal\n",
"disp('hertz',f,'Frequency=')\n",
"\n",
"// Result\n",
"// Frequency of output signal is 1.7 KHertz"
   ]
   }
,
{
		   "cell_type": "markdown",
		   "metadata": {},
		   "source": [
			"## Example 22.12: example12.sce"
		   ]
		  },
  {
"cell_type": "code",
	   "execution_count": null,
	   "metadata": {
	    "collapsed": true
	   },
	   "outputs": [],
"source": [
"// find frequency and peak-to-peak voltage\n",
"// Electronic Principles\n",
"// By Albert Malvino , David Bates\n",
"// Seventh Edition\n",
"// The McGraw-Hill Companies\n",
"// Example 22-12, page 873\n",
"\n",
"clear;clc; close;\n",
"	\n",
"// Given data\n",
"Vsat=13;// in volts \n",
"R1=1*10^3;// resistance in ohms\n",
"R2=100*10^3;// resistance in ohms\n",
"R3=10*10^3;// resistance in ohms\n",
"R4=100*10^3;// resistance in ohms\n",
"C=10*10^-6;// capacitance in faraday\n",
"\n",
"// Calculations\n",
"UTP=(R1/R2)*Vsat;// upper trip point in volts\n",
"H=2*UTP;// hysteresis in volts\n",
"Vout=H;// peak to peak voltage in volts\n",
"f=R2/(4*R1*R3*C);// frequency in hertz\n",
"disp('hertz',f,'Frequency=')\n",
"disp('Volts',Vout,'output voltage=')\n",
"\n",
"// Result\n",
"// Peak-to-peak output is 0.26 Volts\n",
"// frequency is 250 Hertz"
   ]
   }
,
{
		   "cell_type": "markdown",
		   "metadata": {},
		   "source": [
			"## Example 22.4: example4.sce"
		   ]
		  },
  {
"cell_type": "code",
	   "execution_count": null,
	   "metadata": {
	    "collapsed": true
	   },
	   "outputs": [],
"source": [
"// find trip point,cutoff frequency\n",
"// Electronic Principles\n",
"// By Albert Malvino , David Bates\n",
"// Seventh Edition\n",
"// The McGraw-Hill Companies\n",
"// Example 22-4, page 854\n",
"\n",
"clear;clc; close;\n",
"	\n",
"// Given data\n",
"Vcc=15;// in volts from the figure\n",
"C=10*10^-6;// capacitance in faraday\n",
"R1=200*10^3;// resistance in ohms\n",
"R2=100*10^3;// resistance in ohms\n",
"\n",
"// Calculations\n",
"Vref=(R2/(R1+R2))*Vcc;// reference voltage in volts\n",
"R=R1*R2/(R1+R2);// equivalent resistance in ohms\n",
"fc=1/(2*%pi*R*C);// cutoff frequency in hertz\n",
"disp('hertz',fc,'cutoff frequency=')\n",
"disp('Volts',Vref,'Trip point=')\n",
"\n",
"// Result\n",
"// Trip point is 5 Volts\n",
"// cutoff frequency is 0.239 Hertz"
   ]
   }
,
{
		   "cell_type": "markdown",
		   "metadata": {},
		   "source": [
			"## Example 22.5: example5.sce"
		   ]
		  },
  {
"cell_type": "code",
	   "execution_count": null,
	   "metadata": {
	    "collapsed": true
	   },
	   "outputs": [],
"source": [
"// find duty cycle of output waveform\n",
"// Electronic Principles\n",
"// By Albert Malvino , David Bates\n",
"// Seventh Edition\n",
"// The McGraw-Hill Companies\n",
"// Example 22-5, page 855\n",
"\n",
"clear;clc; close;\n",
"	\n",
"// Given data\n",
"Vp=10;// peak voltage in volts\n",
"Vcc=15;// in volts from the figure\n",
"C=10*10^-6;// capacitance in faraday\n",
"R1=200*10^3;// resistance in ohms\n",
"R2=100*10^3;// resistance in ohms\n",
"\n",
"// Calculations\n",
"// input is a sine wave it is 10sin(angle)\n",
"Vref=(R2/(R1+R2))*Vcc;// reference voltage in volts\n",
"// output is a rectangular waveform whose trip point is 5 Volts\n",
"angle1=asin(Vref/Vp)*180/%pi;// angle where switching occurs\n",
"angle2=180-angle1;// other angle where switching occurs\n",
"angle=angle2-angle1;// conduction angle in degrees\n",
"D=angle*100/360;// duty cycle in %\n",
"disp('%',D,'duty cycle=')\n",
"\n",
"// Result\n",
"// duty cycle is 33.3 %"
   ]
   }
,
{
		   "cell_type": "markdown",
		   "metadata": {},
		   "source": [
			"## Example 22.6: example6.sce"
		   ]
		  },
  {
"cell_type": "code",
	   "execution_count": null,
	   "metadata": {
	    "collapsed": true
	   },
	   "outputs": [],
"source": [
"// find trip points and hysteresis\n",
"// Electronic Principles\n",
"// By Albert Malvino , David Bates\n",
"// Seventh Edition\n",
"// The McGraw-Hill Companies\n",
"// Example 22-6, page 860\n",
"\n",
"clear;clc; close;\n",
"	\n",
"// Given data\n",
"Vsat=13.5;// in volts \n",
"R1=1*10^3;// resistance in ohms\n",
"R2=47*10^3;// resistance in ohms\n",
"\n",
"// Calculations\n",
"B=R1/(R1+R2);// feedback fraction\n",
"UTP=(R1/R2)*Vsat;// upper trip point in volts\n",
"LTP=-(R1/R2)*Vsat;// lower trip point in volts \n",
"H=UTP-LTP;// hysteresis in volts\n",
"disp('Volts',UTP,'upper trip point=')\n",
"disp('Volts',LTP,'lower trip point=')\n",
"disp('Volts',H,'hysteresis=')\n",
"\n",
"// Result\n",
"// Trip points are -0.287 and +0.287 Volts\n",
"// Hysteresis is 0.574 Volts"
   ]
   }
,
{
		   "cell_type": "markdown",
		   "metadata": {},
		   "source": [
			"## Example 22.7: example7.sce"
		   ]
		  },
  {
"cell_type": "code",
	   "execution_count": null,
	   "metadata": {
	    "collapsed": true
	   },
	   "outputs": [],
"source": [
"// find output voltage, closed loop time constant\n",
"// Electronic Principles\n",
"// By Albert Malvino , David Bates\n",
"// Seventh Edition\n",
"// The McGraw-Hill Companies\n",
"// Example 22-7, page 865\n",
"\n",
"clear;clc; close;\n",
"	\n",
"// Given data\n",
"Avol=100000;// open loop voltage gain\n",
"Vin=8;// input voltage in volts \n",
"C=1*10^-6;// capacitance in faraday\n",
"R=2*10^3;// resistance in ohms\n",
"T=10^-3;// in seconds\n",
"\n",
"// Calculations\n",
"t=R*C*(1+Avol);// closed loop time constant in seconds\n",
"V=(T*Vin)/(R*C);// magnitude of negative output voltage at end of pulse in volts\n",
"disp('seconds',t,'time constant=')\n",
"disp('Volts',V,'output voltage=')\n",
"\n",
"// Result\n",
"// Closed loop time constant is 200 seconds\n",
"// Output voltage at end of pulse is -4 volts"
   ]
   }
,
{
		   "cell_type": "markdown",
		   "metadata": {},
		   "source": [
			"## Example 22.8: example8.sce"
		   ]
		  },
  {
"cell_type": "code",
	   "execution_count": null,
	   "metadata": {
	    "collapsed": true
	   },
	   "outputs": [],
"source": [
"// find output voltage\n",
"// Electronic Principles\n",
"// By Albert Malvino , David Bates\n",
"// Seventh Edition\n",
"// The McGraw-Hill Companies\n",
"// Example 22-8, page 868\n",
"\n",
"clear;clc; close;\n",
"	\n",
"// Given data\n",
"fin=10^3;// frequency in hertz`\n",
"Vp=5;// peak voltage in volts\n",
"C=10*10^-6;// capacitance in faraday\n",
"R=10^3;// resistance in ohms\n",
"\n",
"// Calculations\n",
"Vout=Vp/(2*fin*R*C);// output voltage in Vpp\n",
"disp('Volts',Vout,'output voltage=')\n",
"\n",
"// Result\n",
"// Output voltage is 0.25 Vpp"
   ]
   }
],
"metadata": {
		  "kernelspec": {
		   "display_name": "Scilab",
		   "language": "scilab",
		   "name": "scilab"
		  },
		  "language_info": {
		   "file_extension": ".sce",
		   "help_links": [
			{
			 "text": "MetaKernel Magics",
			 "url": "https://github.com/calysto/metakernel/blob/master/metakernel/magics/README.md"
			}
		   ],
		   "mimetype": "text/x-octave",
		   "name": "scilab",
		   "version": "0.7.1"
		  }
		 },
		 "nbformat": 4,
		 "nbformat_minor": 0
}
