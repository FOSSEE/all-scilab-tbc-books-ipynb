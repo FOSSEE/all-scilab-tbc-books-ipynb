{
"cells": [
 {
		   "cell_type": "markdown",
	   "metadata": {},
	   "source": [
       "# Chapter 6: Bipolar Junction Transistor"
	   ]
	},
{
		   "cell_type": "markdown",
		   "metadata": {},
		   "source": [
			"## Example 6.11: example11.sce"
		   ]
		  },
  {
"cell_type": "code",
	   "execution_count": null,
	   "metadata": {
	    "collapsed": true
	   },
	   "outputs": [],
"source": [
"// find power dissipation\n",
"// Electronic Principles\n",
"// By Albert Malvino , David Bates\n",
"// Seventh Edition\n",
"// The McGraw-Hill Companies\n",
"// Example 6-11, page 211\n",
"clear;clc; close;\n",
"// Given data\n",
"Vce=10;// collector-emmiter voltage in volts \n",
"Ic=20*10^-3;// collector-current in amperes\n",
"T=25;// ambient temperature \n",
"P=625*10^-3;// power rating in watts at 25 degree celcius\n",
"// Calculations\n",
"Pd=Vce*Ic;// power dissipation in watts\n",
"disp('watts',Pd,'dissipated power=')\n",
"// Result\n",
"// As power dissipation is less than rated power at ambient temperature,transistor(2N3904) is safe "
   ]
   }
,
{
		   "cell_type": "markdown",
		   "metadata": {},
		   "source": [
			"## Example 6.12: example12.sce"
		   ]
		  },
  {
"cell_type": "code",
	   "execution_count": null,
	   "metadata": {
	    "collapsed": true
	   },
	   "outputs": [],
"source": [
"// find if transistor is safe\n",
"// Electronic Principles\n",
"// By Albert Malvino , David Bates\n",
"// Seventh Edition\n",
"// The McGraw-Hill Companies\n",
"// Example 6-12, page 212\n",
"clear;clc; close;\n",
"// Given data\n",
"T1=100;// ambient temperature \n",
"T2=25;// in degree celcius\n",
"P=625*10^-3;// power rating in watts at 25 degree celcius\n",
"d=5*10^-3;// derating factor with respect to temperature\n",
"// Calculations\n",
"dT=T1-T2;// difference in temperature\n",
"dP=d*dT;// difference in power\n",
"Pd=P-dP;// maximum power dissipated in watts when ambient temperature is 100 degree celcius\n",
"disp('watts',Pd,'dissipated power=')\n",
"// Result\n",
"// If power dissipation is less than rated power at ambient temperatureor ambient temperature doesnt increase,transistor is safe "
   ]
   }
,
{
		   "cell_type": "markdown",
		   "metadata": {},
		   "source": [
			"## Example 6.1: example1.sce"
		   ]
		  },
  {
"cell_type": "code",
	   "execution_count": null,
	   "metadata": {
	    "collapsed": true
	   },
	   "outputs": [],
"source": [
"// to find current gain of the transistor\n",
"// Electronic Principles\n",
"// By Albert Malvino , David Bates\n",
"// Seventh Edition\n",
"// The McGraw-Hill Companies\n",
"// Example 6-1, page 194\n",
"clear;clc; close;\n",
"// Given data\n",
"Ic=10*10^-3;// collector current in amperes\n",
"Ib=40*10^-6;// base current in amperes\n",
"// Calculations\n",
"Bdc=Ic/Ib;// current gain\n",
"disp(Bdc)\n",
"disp(Bdc,'current gain =')\n",
"// Result\n",
"// current gain is 250."
   ]
   }
,
{
		   "cell_type": "markdown",
		   "metadata": {},
		   "source": [
			"## Example 6.2: example2.sce"
		   ]
		  },
  {
"cell_type": "code",
	   "execution_count": null,
	   "metadata": {
	    "collapsed": true
	   },
	   "outputs": [],
"source": [
"// to find collector current of the transistor\n",
"// Electronic Principles\n",
"// By Albert Malvino , David Bates\n",
"// Seventh Edition\n",
"// The McGraw-Hill Companies\n",
"// Example 6-2, page 194\n",
"clear;clc; close;\n",
"// Given data\n",
"Bdc=175;// current gain\n",
"Ib=0.1*10^-3;// base current in amperes\n",
"// Calculations\n",
"Ic=Bdc*Ib;// collector current in amperes\n",
"disp('Amperes',Ic,'collector current =')\n",
"// Result\n",
"// Collector current is 17.5 mAmperes."
   ]
   }
,
{
		   "cell_type": "markdown",
		   "metadata": {},
		   "source": [
			"## Example 6.3: example3.sce"
		   ]
		  },
  {
"cell_type": "code",
	   "execution_count": null,
	   "metadata": {
	    "collapsed": true
	   },
	   "outputs": [],
"source": [
"// to find base current of the transistor\n",
"// Electronic Principles\n",
"// By Albert Malvino , David Bates\n",
"// Seventh Edition\n",
"// The McGraw-Hill Companies\n",
"// Example 6-3, page 195\n",
" clear;clc; close;\n",
"// Given data\n",
"Ic=2*10^-3;// collector current in amperes\n",
"Bdc=135;// current gain\n",
"// Calculations\n",
"Ib=Ic/Bdc;// collector current in amperes\n",
"disp('Amperes',Ib,'base current =')\n",
"// Result\n",
"// Base current is 14.8 micro Amperes."
   ]
   }
,
{
		   "cell_type": "markdown",
		   "metadata": {},
		   "source": [
			"## Example 6.4: example4.sce"
		   ]
		  },
  {
"cell_type": "code",
	   "execution_count": null,
	   "metadata": {
	    "collapsed": true
	   },
	   "outputs": [],
"source": [
"// to find base current\n",
"// Electronic Principles\n",
"// By Albert Malvino , David Bates\n",
"// Seventh Edition\n",
"// The McGraw-Hill Companies\n",
"// Example 6-4, page 197\n",
" clear;clc; close;\n",
"// Given data\n",
"Bdc=200;// current gain\n",
"Vbb=2;// base source voltage in volts\n",
"Vbe=0.7;// emitter diode in volts\n",
"Rb=100*10^3;// resistance in ohms \n",
"// Calculations\n",
"Ib=(Vbb-Vbe)/Rb;// current through base resistor in amperes\n",
"Ic=Ib*Bdc;// collector current in amperes\n",
"disp('Amperes',Ic,'collector current =')\n",
"// Result\n",
"// collector current is 2.6mAmperes"
   ]
   }
,
{
		   "cell_type": "markdown",
		   "metadata": {},
		   "source": [
			"## Example 6.5: example5.sce"
		   ]
		  },
  {
"cell_type": "code",
	   "execution_count": null,
	   "metadata": {
	    "collapsed": true
	   },
	   "outputs": [],
"source": [
"// find Ib,Ic,Vce,Pd\n",
"// Electronic Principles\n",
"// By Albert Malvino , David Bates\n",
"// Seventh Edition\n",
"// The McGraw-Hill Companies\n",
"// Example 6-5, page 201\n",
"clear;clc; close;\n",
"// Given data\n",
"Rc=2*10^3;// resistance in ohms\n",
"Bdc=300;// current gain\n",
"Vbb=10;// base source voltage in volts\n",
"Vbe=0.7;// emitter diode in volts\n",
"Rb=1*10^6;// resistance in ohms \n",
"Vcc=10;// in volts\n",
" \n",
"// Calculations\n",
"Ib=(Vbb-Vbe)/Rb;// current through base resistor in amperes\n",
"Ic=Ib*Bdc;// collector current in amperes\n",
"Vce=Vcc-(Ic*Rc);// collector-emitter voltage in volts\n",
"Pd=Vce*Ic;// collector power dissipation in watts\n",
"disp('Amperes',Ib,'base current =')\n",
"disp('Amperes',Ic,'collector current =')\n",
"disp('Volts',Vce,'collector-emitter voltage =')\n",
"disp('watts',Pd,'dissipated power=')\n",
"// Result\n",
"// Ib is 9.3 microAmperes,Ic is 2.79 mAmperes,Vce is 4.42 volts,Pd is 12.3 mWatts"
   ]
   }
,
{
		   "cell_type": "markdown",
		   "metadata": {},
		   "source": [
			"## Example 6.6: example6.sce"
		   ]
		  },
  {
"cell_type": "code",
	   "execution_count": null,
	   "metadata": {
	    "collapsed": true
	   },
	   "outputs": [],
"source": [
"// calculate current gain for 2N4424\n",
"// Electronic Principles\n",
"// By Albert Malvino , David Bates\n",
"// Seventh Edition\n",
"// The McGraw-Hill Companies\n",
"// Example 6-6, page 202\n",
"clear;clc; close;\n",
"// Given data\n",
"Rc=470;// resistance in ohms\n",
"Vbb=10;// base source voltage in volts\n",
"Vbe=0.7;// emitter diode in volts\n",
"Rb=330*10^3;// resistance in ohms \n",
"Vce=5.45;// collector-emitter voltage in volts\n",
"// Calculations\n",
"V=Vbb-Vce;// voltage across collector-resistance in volts\n",
"Ic=V/Rc;// collector current in amperes\n",
"Ib=(Vbb-Vbe)/Rb;// current through base resistor in amperes\n",
"Bdc=Ic/Ib;// current gain\n",
"disp(Bdc,'current gain')\n",
"// Result\n",
"// current gain is 343"
   ]
   }
,
{
		   "cell_type": "markdown",
		   "metadata": {},
		   "source": [
			"## Example 6.7: example7.sce"
		   ]
		  },
  {
"cell_type": "code",
	   "execution_count": null,
	   "metadata": {
	    "collapsed": true
	   },
	   "outputs": [],
"source": [
"// find collector-emmiter voltage \n",
"// Electronic Principles\n",
"// By Albert Malvino , David Bates\n",
"// Seventh Edition\n",
"// The McGraw-Hill Companies\n",
"// Example 6-7, page 204\n",
"clear;clc; close;\n",
"// Given data\n",
"Rb=470*10^3;// resistance in ohms\n",
"Vbe=0;// as emmiter diode is ideal\n",
"Bdc=100;// current gain\n",
"Vbb=15;// base source voltage in volts\n",
"Rc=3.6*10^3;// resistance in ohms\n",
"Vcc=15;// collector-supply voltage in volts \n",
"// Calculations\n",
"Ib=(Vbb-Vbe)/Rb;// current through base resistor in amperes\n",
"Ic=Ib*Bdc;// collector current in amperes\n",
"Vce=Vcc-(Ic*Rc);// collector-emitter voltage in volts\n",
"disp('Volts',Vce,'collector-emitter voltage =')\n",
"// Result\n",
"// collector-emmiter voltage is 3.52 Volts"
   ]
   }
,
{
		   "cell_type": "markdown",
		   "metadata": {},
		   "source": [
			"## Example 6.8: example8.sce"
		   ]
		  },
  {
"cell_type": "code",
	   "execution_count": null,
	   "metadata": {
	    "collapsed": true
	   },
	   "outputs": [],
"source": [
"// find collector-emmiter voltage \n",
"// Electronic Principles\n",
"// By Albert Malvino , David Bates\n",
"// Seventh Edition\n",
"// The McGraw-Hill Companies\n",
"// Example 6-8, page 205\n",
"clear;clc; close;\n",
"// Given data\n",
"Rb=470*10^3;// resistance in ohms\n",
"Vbe=0.7;// using second approximation\n",
"Bdc=100;// current gain\n",
"Vbb=15;// base source voltage in volts\n",
"Rc=3.6*10^3;// resistance in ohms\n",
"Vcc=15;// collector-supply voltage in volts \n",
"// Calculations\n",
"Ib=(Vbb-Vbe)/Rb;// current through base resistor in amperes\n",
"Ic=Ib*Bdc;// collector current in amperes\n",
"Vce=Vcc-(Ic*Rc);// collector-emitter voltage in volts\n",
"disp('Volts',Vce,'collector-emitter voltage =')\n",
"// Result\n",
"// collector-emmiter voltage is 4.06 Volts."
   ]
   }
,
{
		   "cell_type": "markdown",
		   "metadata": {},
		   "source": [
			"## Example 6.9: example9.sce"
		   ]
		  },
  {
"cell_type": "code",
	   "execution_count": null,
	   "metadata": {
	    "collapsed": true
	   },
	   "outputs": [],
"source": [
"// find collector-emmiter voltage \n",
"// Electronic Principles\n",
"// By Albert Malvino , David Bates\n",
"// Seventh Edition\n",
"// The McGraw-Hill Companies\n",
"// Example 6-9, page 206\n",
"clear;clc; close;\n",
"// Given data\n",
"Rb=470*10^3;// resistance in ohms\n",
"Vbe=1;// voltage across emitter diode in volts\n",
"Bdc=100;// current gain\n",
"Vbb=15;// base source voltage in volts\n",
"Rc=3.6*10^3;// resistance in ohms\n",
"Vcc=15;// collector-supply voltage in volts \n",
"// Calculations\n",
"Ib=(Vbb-Vbe)/Rb;// current through base resistor in amperes\n",
"Ic=Ib*Bdc;// collector current in amperes\n",
"Vce=Vcc-(Ic*Rc);// collector-emitter voltage in volts\n",
"disp('Volts',Vce,'collector-emitter voltage =')\n",
"// Result\n",
"// collector-emmiter voltage is 4.27 Volts"
   ]
   }
],
"metadata": {
		  "kernelspec": {
		   "display_name": "Scilab",
		   "language": "scilab",
		   "name": "scilab"
		  },
		  "language_info": {
		   "file_extension": ".sce",
		   "help_links": [
			{
			 "text": "MetaKernel Magics",
			 "url": "https://github.com/calysto/metakernel/blob/master/metakernel/magics/README.md"
			}
		   ],
		   "mimetype": "text/x-octave",
		   "name": "scilab",
		   "version": "0.7.1"
		  }
		 },
		 "nbformat": 4,
		 "nbformat_minor": 0
}
