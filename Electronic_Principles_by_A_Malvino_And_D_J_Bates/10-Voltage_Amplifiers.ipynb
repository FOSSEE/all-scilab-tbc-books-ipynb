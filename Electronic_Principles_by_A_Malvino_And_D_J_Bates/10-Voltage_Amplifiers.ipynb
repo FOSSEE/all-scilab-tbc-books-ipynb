{
"cells": [
 {
		   "cell_type": "markdown",
	   "metadata": {},
	   "source": [
       "# Chapter 10: Voltage Amplifiers"
	   ]
	},
{
		   "cell_type": "markdown",
		   "metadata": {},
		   "source": [
			"## Example 10.1: example1.sce"
		   ]
		  },
  {
"cell_type": "code",
	   "execution_count": null,
	   "metadata": {
	    "collapsed": true
	   },
	   "outputs": [],
"source": [
"// find voltage gain  and voltage across load resistor\n",
"// Electronic Principles\n",
"// By Albert Malvino , David Bates\n",
"// Seventh Edition\n",
"// The McGraw-Hill Companies\n",
"// Example 10-1, page 322\n",
"clear;clc; close;\n",
"// Given data\n",
"R1=10*10^3;// in ohms\n",
"R2=2.2*10^3;// in ohms\n",
"Re=1*10^3;// in ohms\n",
"Rl=10*10^3;// in ohms\n",
"Rc=3.6*10^3;// in ohms\n",
"Vin=2.2*10^-3;// in volts\n",
"Vcc=10;// in volts\n",
"// Calculations\n",
"rc=(Rc*Rl)/(Rc+Rl);// ac collector resistance in ohms,Rc||Rl\n",
"re_=22.7;// ac resistance in ohms\n",
"Av=rc/re_;// voltage gain\n",
"vout=Av*Vin;// output voltage in volts\n",
"disp('Volts',vout,'Output voltage')\n",
"// Results\n",
"// output voltage is 256 mVolts"
   ]
   }
,
{
		   "cell_type": "markdown",
		   "metadata": {},
		   "source": [
			"## Example 10.2: example2.sce"
		   ]
		  },
  {
"cell_type": "code",
	   "execution_count": null,
	   "metadata": {
	    "collapsed": true
	   },
	   "outputs": [],
"source": [
"// find voltage gain  and output voltage across load resistor\n",
"// Electronic Principles\n",
"// By Albert Malvino , David Bates\n",
"// Seventh Edition\n",
"// The McGraw-Hill Companies\n",
"// Example 10-2, page 323\n",
"clear;clc; close;\n",
"// Given data\n",
"R1=10*10^3;// in ohms\n",
"R2=2.2*10^3;// in ohms\n",
"Re=10*10^3;// in ohms\n",
"Vin=5*10^-3;// in volts\n",
"Vcc=9;// in volts\n",
"Rc=3.6*10^3;// in ohms\n",
"Rl=2.2*10^3;// in ohms\n",
"// Calculations\n",
"rc=(Rc*Rl)/(Rc+Rl);// ac collector resistance in ohms,Rc||Rl\n",
"Ie=(Vcc-0.7)/Re;// dc emitter current in amperes\n",
"re_=(25*10^-3)/Ie;// ac resistance of the emitter diode\n",
"Av=rc/re_;// voltage gain\n",
"vout=Av*Vin;// output voltage in volts\n",
"disp('Volts',vout,'Output voltage')\n",
"// Results\n",
"// Output voltage is 228 mVolts."
   ]
   }
,
{
		   "cell_type": "markdown",
		   "metadata": {},
		   "source": [
			"## Example 10.3: example3.sce"
		   ]
		  },
  {
"cell_type": "code",
	   "execution_count": null,
	   "metadata": {
	    "collapsed": true
	   },
	   "outputs": [],
"source": [
"// find output voltage\n",
"// Electronic Principles\n",
"// By Albert Malvino , David Bates\n",
"// Seventh Edition\n",
"// The McGraw-Hill Companies\n",
"// Example 10-3, page 325\n",
"clear;clc; close;\n",
"// Given data\n",
"B=300;\n",
"R1=10*10^3;// in ohms\n",
"R2=2.2*10^3;// in ohms\n",
"Re=1*10^3;// in ohms\n",
"Rl=10*10^3;// in ohms\n",
"Rc=3.6*10^3;// in ohms\n",
"Rg=600;// internal resistance of ac generator in ohms\n",
"vg=2*10^-3;// in volts\n",
"Vcc=10;// in volts\n",
"// Calculations\n",
"rc=(Rc*Rl)/(Rc+Rl);// ac collector resistance in ohms,Rc||Rl\n",
"re_=22.7;// ac resistance in ohms\n",
"Av=rc/re_;// voltage gain\n",
"zinbase=B*re_;// input impedance of base in ohms\n",
"zinstage_=(1/R1)+(1/R2)+(1/zinbase);// input impedance of base in ohms\n",
"zinstage=zinstage_^-1\n",
"vin=(zinstage/(Rg+zinstage))*vg;// input voltage in volts\n",
"vout=Av*vin;// output voltage in volts\n",
"disp('Volts',vout,'Output voltage')\n",
"// Results\n",
"// Output voltage is 165 mVolts."
   ]
   }
,
{
		   "cell_type": "markdown",
		   "metadata": {},
		   "source": [
			"## Example 10.4: example4.sce"
		   ]
		  },
  {
"cell_type": "code",
	   "execution_count": null,
	   "metadata": {
	    "collapsed": true
	   },
	   "outputs": [],
"source": [
"// find output voltage\n",
"// Electronic Principles\n",
"// By Albert Malvino , David Bates\n",
"// Seventh Edition\n",
"// The McGraw-Hill Companies\n",
"// Example 10-4, page 325\n",
"clear;clc; close;\n",
"// Given data\n",
"B=50;\n",
"R1=10*10^3;// in ohms\n",
"R2=2.2*10^3;// in ohms\n",
"Re=1*10^3;// in ohms\n",
"Rl=10*10^3;// in ohms\n",
"Rc=3.6*10^3;// in ohms\n",
"Rg=600;// internal resistance of ac generator in ohms\n",
"vg=2*10^-3;// in volts\n",
"Vcc=10;// in volts\n",
"// Calculations\n",
"rc=(Rc*Rl)/(Rc+Rl);// ac collector resistance in ohms,Rc||Rl\n",
"re_=22.7;// ac resistance in ohms\n",
"Av=rc/re_;// voltage gain\n",
"zinbase=B*re_;// input impedance of base in ohms\n",
"zinstage_=(1/R1)+(1/R2)+(1/zinbase);// input impedance of base in ohms\n",
"zinstage=zinstage_^-1\n",
"vin=(zinstage/(Rg+zinstage))*vg;// input voltage in volts\n",
"vout=Av*vin;// output voltage in volts\n",
"disp('Volts',vout,'Output voltage')\n",
"// Results\n",
"// Output voltage is 126 mVolts."
   ]
   }
,
{
		   "cell_type": "markdown",
		   "metadata": {},
		   "source": [
			"## Example 10.5: example5.sce"
		   ]
		  },
  {
"cell_type": "code",
	   "execution_count": null,
	   "metadata": {
	    "collapsed": true
	   },
	   "outputs": [],
"source": [
"// calculate ac collector voltage,ac output voltage across load resistor\n",
"// Electronic Principles\n",
"// By Albert Malvino , David Bates\n",
"// Seventh Edition\n",
"// The McGraw-Hill Companies\n",
"// Example 10-5, page 327\n",
"clear;clc; close;\n",
"// Given data\n",
"B=100;\n",
"R1=10*10^3;// in ohms\n",
"R2=2.2*10^3;// in ohms\n",
"Re=1*10^3;// in ohms\n",
"Rl=10*10^3;// in ohms\n",
"Rc=3.6*10^3;// in ohms\n",
"Rg=600;// internal resistance of ac generator in ohms\n",
"Vg=1*10^-3;// in volts\n",
"Vcc=10;// in volts\n",
"// Calculations\n",
"re_=22.7;// ac resistance in ohms\n",
"zinbase=B*re_;// input impedance of first base in ohms\n",
"zinstage_=(1/R1)+(1/R2)+(1/zinbase);// input impedance of base in ohms\n",
"zinstage=zinstage_^-1\n",
"vin=(zinstage/(Rg+zinstage))*Vg;// input voltage in volts\n",
"rc1=Rc*zinstage/(Rc+zinstage);// rc=Rc||zinstage in ohms in first stage\n",
"Av1=rc1/zinbase;// voltage gain\n",
"vc1=Av1*vin;// collector voltage in volts in first stage\n",
"rc2=Rc*Rl/(Rc+Rl);// rc2=Rc||Rl in ohms in second stage\n",
"Av2=rc2/zinbase;// voltage gain\n",
"vc2=Av2*vc1;// output voltage across load resistot in volts\n",
"disp('Volts',vc1,'ac collector voltage in first stage=')\n",
"disp('Volts',vc2,'ac output voltage across the load resistor')\n",
"// Results\n",
"// ac collector voltage in first stage is 216 *10^-6 Volts\n",
"// ac output voltage across the load resistor is 252 *10^-6 Volts"
   ]
   }
,
{
		   "cell_type": "markdown",
		   "metadata": {},
		   "source": [
			"## Example 10.6: example6.sce"
		   ]
		  },
  {
"cell_type": "code",
	   "execution_count": null,
	   "metadata": {
	    "collapsed": true
	   },
	   "outputs": [],
"source": [
"// calculate output across load resistor\n",
"// Electronic Principles\n",
"// By Albert Malvino , David Bates\n",
"// Seventh Edition\n",
"// The McGraw-Hill Companies\n",
"// Example 10-6, page 331\n",
"clear;clc; close;\n",
"// Given data\n",
"B=200;\n",
"re=180;// in ohms\n",
"R1=10*10^3;// in ohms\n",
"R2=2.2*10^3;// in ohms\n",
"Rc=3.6*10^3;// in ohms\n",
"Vg=50*10^-3;// in volts\n",
"Vcc=10;// in volts\n",
"Rg=600;// internal resistance in ohms\n",
"// Calculations\n",
"rc=2.65*10^3;// in ohms\n",
"zinbase=B*re;// input impedance of base in ohms\n",
"zinstage_=(1/R1)+(1/R2)+(1/zinbase);// input impedance of base in ohms\n",
"zinstage=zinstage_^-1\n",
"vin=(zinstage/(Rg+zinstage))*Vg;// input voltage in volts\n",
"Av=rc/re;// voltage gain\n",
"vout=Av*vin;// output voltage across load resistor in volts\n",
"disp('Volts',vout,'Output voltage')\n",
"// Results\n",
"// output voltage across load resistor is 544 mVolts"
   ]
   }
,
{
		   "cell_type": "markdown",
		   "metadata": {},
		   "source": [
			"## Example 10.7: example7.sce"
		   ]
		  },
  {
"cell_type": "code",
	   "execution_count": null,
	   "metadata": {
	    "collapsed": true
	   },
	   "outputs": [],
"source": [
"// calculate output across load resistor\n",
"// Electronic Principles\n",
"// By Albert Malvino , David Bates\n",
"// Seventh Edition\n",
"// The McGraw-Hill Companies\n",
"// Example 10-7, page 332\n",
"clear;clc; close;\n",
"// Given data\n",
"B=200;\n",
"re_=22.7;// in ohms\n",
"re=180;// in ohms\n",
"R1=10*10^3;// in ohms\n",
"R2=2.2*10^3;// in ohms\n",
"Rc=3.6*10^3;// in ohms\n",
"Vg=50*10^-3;// in volts\n",
"Vcc=10;// in volts\n",
"Rg=600;// internal resistance in ohms\n",
"// Calculations\n",
"rc=2.65*10^3;// in ohms\n",
"zinbase=B*(re+re_);// input impedance of base in ohms\n",
"zinstage_=(1/R1)+(1/R2)+(1/zinbase);// input impedance of base in ohms\n",
"zinstage=zinstage_^-1\n",
"vin=(zinstage/(Rg+zinstage))*Vg;// input voltage in volts\n",
"Av=rc/(re+re_);// voltage gain\n",
"vout=Av*vin;// output voltage across load resistor in volts\n",
"disp('Volts',vout,'Output voltage')\n",
"// Results\n",
"// output voltage across load resistor is 485 mVolts"
   ]
   }
,
{
		   "cell_type": "markdown",
		   "metadata": {},
		   "source": [
			"## Example 10.8: example8.sce"
		   ]
		  },
  {
"cell_type": "code",
	   "execution_count": null,
	   "metadata": {
	    "collapsed": true
	   },
	   "outputs": [],
"source": [
"// calculate output across load resistor\n",
"// Electronic Principles\n",
"// By Albert Malvino , David Bates\n",
"// Seventh Edition\n",
"// The McGraw-Hill Companies\n",
"// Example 10-8, page 333\n",
"clear;clc; close;\n",
"// Given data\n",
"B=200;\n",
"re=180;// in ohms\n",
"R1=10*10^3;// in ohms\n",
"R2=2.2*10^3;// in ohms\n",
"Rc=3.6*10^3;// in ohms\n",
"Vg=1*10^-3;// in volts\n",
"Vcc=10;// in volts\n",
"Rg=600;// internal resistance in ohms\n",
"// Calculations\n",
"zinbase=B*re;// input impedance of base in ohms\n",
"zinstage_=(1/R1)+(1/R2)+(1/zinbase);// input impedance of base in ohms\n",
"zinstage=zinstage_^-1;\n",
"vin=(zinstage/(Rg+zinstage))*Vg;// input voltage in volts\n",
"rc1=Rc*zinstage/(Rc+zinstage);//in ohms\n",
"Av1=rc1/re;// voltage gain\n",
"vc=Av1*vin;// output voltage across load resistor in volts\n",
"rc2=2.65*10^3;// in ohms\n",
"Av2=rc2/re;// voltage gain\n",
"vout=Av2*vc;// outout voltage in volts\n",
"disp('Volts',vout,'Output voltage')\n",
"// Results\n",
"// output voltage across load resistor is 70 mVolts"
   ]
   }
,
{
		   "cell_type": "markdown",
		   "metadata": {},
		   "source": [
			"## Example 10.9: example9.sce"
		   ]
		  },
  {
"cell_type": "code",
	   "execution_count": null,
	   "metadata": {
	    "collapsed": true
	   },
	   "outputs": [],
"source": [
"// calculate minimum and maximum voltage gai of 2 stage amplifier\n",
"// Electronic Principles\n",
"// By Albert Malvino , David Bates\n",
"// Seventh Edition\n",
"// The McGraw-Hill Companies\n",
"// Example 10-9, page 335\n",
"clear;clc; close;\n",
"// Given data\n",
"rmin=0;// minimum adjustable resistance in ohms\n",
"rmax=10*10^3;// maximum adjustable resistance in ohms\n",
"re=100;// in ohms\n",
"// Calculations\n",
"rfmin=rmin+1*10^3;// minimum feedback resistance in ohms\n",
"rfmax=rmax+1*10^3;// maximum feedback resistance in ohms\n",
"Avmin=rfmin/re;// minimum voltage gain\n",
"Avmax=rfmax/re;// maximum voltage gain\n",
"disp(Avmin,'Minimum Voltage gain=')\n",
"disp(Avmax,'Maximum Voltage gain=')\n",
"// Results\n",
"// minimum voltage gain is 10\n",
"// maximum voltage gain is 110"
   ]
   }
],
"metadata": {
		  "kernelspec": {
		   "display_name": "Scilab",
		   "language": "scilab",
		   "name": "scilab"
		  },
		  "language_info": {
		   "file_extension": ".sce",
		   "help_links": [
			{
			 "text": "MetaKernel Magics",
			 "url": "https://github.com/calysto/metakernel/blob/master/metakernel/magics/README.md"
			}
		   ],
		   "mimetype": "text/x-octave",
		   "name": "scilab",
		   "version": "0.7.1"
		  }
		 },
		 "nbformat": 4,
		 "nbformat_minor": 0
}
