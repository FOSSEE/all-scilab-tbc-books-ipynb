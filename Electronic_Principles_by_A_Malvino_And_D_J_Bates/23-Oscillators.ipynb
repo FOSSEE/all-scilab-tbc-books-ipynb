{
"cells": [
 {
		   "cell_type": "markdown",
	   "metadata": {},
	   "source": [
       "# Chapter 23: Oscillators"
	   ]
	},
{
		   "cell_type": "markdown",
		   "metadata": {},
		   "source": [
			"## Example 23.10: example10.sce"
		   ]
		  },
  {
"cell_type": "code",
	   "execution_count": null,
	   "metadata": {
	    "collapsed": true
	   },
	   "outputs": [],
"source": [
"// find period of output pulses ,minimum and maximum pulse width, quiescent pulse width\n",
"// Electronic Principles\n",
"// By Albert Malvino , David Bates\n",
"// Seventh Edition\n",
"// The McGraw-Hill Companies\n",
"// Example 23-10, page 927\n",
"\n",
"clear;clc; close;\n",
"	\n",
"// Given data\n",
"C=0.01*10^-6;// capacitance in faraday\n",
"R=9.1*10^3;// resistance in ohms\n",
"Vcc=12;// in volts\n",
"f=2.5*10^3;// frequency in hertz\n",
"Vmod=2;// peak voltage\n",
"\n",
"// Calculations\n",
"T=1/f;// period of output pulses\n",
"UTP=2*Vcc/3;// upper trip point in volts\n",
"UTPmin=UTP-Vmod;// minimum upper trip point in volts\n",
"UTPmax=UTP+Vmod;// maximum upper trip point in volts\n",
"W=1.1*R*C;// quiescent pulse width  \n",
"Wmin=-R*C*log(1-(UTPmin/Vcc));// minimum pulse width\n",
"Wmax=-R*C*log(1-(UTPmax/Vcc));// maximum pulse width\n",
"disp('seconds',T,'period of output cycle=')\n",
"disp('Volts',UTPmin,'Minium UTP=')\n",
"disp('Volts',UTPmax,'Maxium UTP=')\n",
"disp('seconds',W,'Quiescent pulse width=')\n",
"disp('seconds',Wmin,'minimum pulse width=')\n",
"disp('seconds',Wmax,'maximum pulse width=')\n",
"\n",
"// Result\n",
"// Period of output pulses is 400 Microseconds\n",
"// Quiescent pulse width is 100 Micro seconds\n",
"// Minimum UTP is 6 Volts\n",
"// Maximum UTP is 10 Volts\n",
"// Minimum pulse width is 63.1 Microseconds\n",
"// Maximum pulse width is 163 Microseconds"
   ]
   }
,
{
		   "cell_type": "markdown",
		   "metadata": {},
		   "source": [
			"## Example 23.12: example12.sce"
		   ]
		  },
  {
"cell_type": "code",
	   "execution_count": null,
	   "metadata": {
	    "collapsed": true
	   },
	   "outputs": [],
"source": [
"// find slope of output ramp,its peak value,duration\n",
"// Electronic Principles\n",
"// By Albert Malvino , David Bates\n",
"// Seventh Edition\n",
"// The McGraw-Hill Companies\n",
"// Example 23-12, page 929\n",
"\n",
"clear;clc; close;\n",
"	\n",
"// Given data\n",
"C=100*10^-9;// capacitance in faraday\n",
"Ic=10^-3;// collector cuurent in amperes\n",
"Vcc=15;// in volts\n",
"f=2.5*10^3;// frequency in hertz\n",
"\n",
"// Calculations\n",
"S=Ic/C;// slope in Volts/second\n",
"V=2*Vcc/3;// peak value of ramp\n",
"T=2*Vcc/(3*S);// duration of ramp in seconds\n",
"disp(S,'slope of output ramp=')\n",
"disp('Volts',V,'peak value=')\n",
"disp('seconds',T,'duration of the ramp=')\n",
"\n",
"// Result\n",
"// slope of output ramp is 10^4 Volts/Second\n",
"// Peak value is 10 Volts\n",
"// duration of the ramp is 10^-2 second"
   ]
   }
,
{
		   "cell_type": "markdown",
		   "metadata": {},
		   "source": [
			"## Example 23.1: example1.sce"
		   ]
		  },
  {
"cell_type": "code",
	   "execution_count": null,
	   "metadata": {
	    "collapsed": true
	   },
	   "outputs": [],
"source": [
"// find minimum and maximum frequency\n",
"// Electronic Principles\n",
"// By Albert Malvino , David Bates\n",
"// Seventh Edition\n",
"// The McGraw-Hill Companies\n",
"// Example 23-1, page 897\n",
"\n",
"clear;clc; close;\n",
"	\n",
"// Given data\n",
"C=0.01*10^-6;// capacitance in faraday\n",
"Rmin=1*10^3;// resistance in ohms\n",
"Rmax=101*10^3;// resistance in ohms\n",
"\n",
"// Calculations\n",
"fcmin=1/(2*%pi*Rmax*C);// cutoff frequency in hertz\n",
"fcmax=1/(2*%pi*Rmin*C);// cutoff frequency in hertz\n",
"disp('hertz',fcmax,'Maximum frequency of osscillation=')\n",
"disp('hertz',fcmin,'Minimum frequency of osscillation=')\n",
"\n",
"// Result\n",
"// Minimum frequency of osscillation is 158 Hertz\n",
"// Maximum frequency of osscillation is 15.9 KHertz"
   ]
   }
,
{
		   "cell_type": "markdown",
		   "metadata": {},
		   "source": [
			"## Example 23.2: example2.sce"
		   ]
		  },
  {
"cell_type": "code",
	   "execution_count": null,
	   "metadata": {
	    "collapsed": true
	   },
	   "outputs": [],
"source": [
"// find output voltage of oscillator\n",
"// Electronic Principles\n",
"// By Albert Malvino , David Bates\n",
"// Seventh Edition\n",
"// The McGraw-Hill Companies\n",
"// Example 23-2 , page 897\n",
"\n",
"clear;clc; close;\n",
"	\n",
"// Given data\n",
"R=10^3;// lamp resistance in ohms\n",
"V=2;// lamp voltage in volts\n",
"Rb=2*10^3;// feedback resistance in ohms\n",
"\n",
"// Calculations\n",
"I=V/R;// lamp current in amperes\n",
"Vout=I*(R+Rb);// output voltage in volts\n",
"disp('Volts',Vout,'output voltage=')\n",
"\n",
"// Result\n",
"// Output voltage of the oscillator is 6vrms"
   ]
   }
,
{
		   "cell_type": "markdown",
		   "metadata": {},
		   "source": [
			"## Example 23.4: example4.sce"
		   ]
		  },
  {
"cell_type": "code",
	   "execution_count": null,
	   "metadata": {
	    "collapsed": true
	   },
	   "outputs": [],
"source": [
"// find frequency of oscillation\n",
"// Electronic Principles\n",
"// By Albert Malvino , David Bates\n",
"// Seventh Edition\n",
"// The McGraw-Hill Companies\n",
"// Example 23-4, page 908\n",
"\n",
"clear;clc; close;\n",
"	\n",
"// Given data\n",
"C1=0.001*10^-6;// capacitance in faraday\n",
"C2=0.01*10^-6;// capacitance in faraday\n",
"C3=50*10^-12;// capacitance in faraday\n",
"L=15*10^-6;// inductance in henry\n",
"\n",
"// Calculations\n",
"C=1/((1/C1)+(1/C2)+(1/C3));// equivalent capacitance in faraday\n",
"fr=1/(2*%pi*(L*C)^0.5);// frequency of oscillation in hertz\n",
"disp('hertz',fr,'frequency of osscillation=')\n",
"\n",
"// Result\n",
"// frequency of oscillation is 5.81 MHertz"
   ]
   }
,
{
		   "cell_type": "markdown",
		   "metadata": {},
		   "source": [
			"## Example 23.5: example5.sce"
		   ]
		  },
  {
"cell_type": "code",
	   "execution_count": null,
	   "metadata": {
	    "collapsed": true
	   },
	   "outputs": [],
"source": [
"// find series and parallel resonant frequencies of crystal\n",
"// Electronic Principles\n",
"// By Albert Malvino , David Bates\n",
"// Seventh Edition\n",
"// The McGraw-Hill Companies\n",
"// Example 23-5, page 912\n",
"\n",
"clear;clc; close;\n",
"	\n",
"// Given data\n",
"L=3;// inductance in henry\n",
"Cm=10*10^-12;// capacitance in faraday\n",
"Cs=0.05*10^-12;// capacitance in faraday\n",
"R=2*10^3;// resistance in ohms\n",
"\n",
"// Calculations\n",
"fs=1/(2*%pi*(L*Cs)^0.5);// series resonant frequency in hertz\n",
"Cp=Cm*Cs/(Cm+Cs);// equivalent parallel capacitance\n",
"fp=1/(2*%pi*(L*Cp)^0.5);// parallel resonant frequency in hertz\n",
"disp('hertz',fs,'Series resonant frequency=')\n",
"disp('hertz',fp,'parallel resonant frequency=')\n",
"\n",
"// Result\n",
"// Series resonant frequency of the crystal is 411 Khertz\n",
"// Parallel resonant frequency of the crystal is 412 Khertz"
   ]
   }
,
{
		   "cell_type": "markdown",
		   "metadata": {},
		   "source": [
			"## Example 23.6: example6.sce"
		   ]
		  },
  {
"cell_type": "code",
	   "execution_count": null,
	   "metadata": {
	    "collapsed": true
	   },
	   "outputs": [],
"source": [
"// find minimum trigger voltage,maximum capacitor voltage ,width of output pulse\n",
"// Electronic Principles\n",
"// By Albert Malvino , David Bates\n",
"// Seventh Edition\n",
"// The McGraw-Hill Companies\n",
"// Example 23-6, page 918\n",
"\n",
"clear;clc; close;\n",
"	\n",
"// Given data\n",
"C=0.47*10^-6;// capacitance in faraday\n",
"R=33*10^3;// resistance in ohms\n",
"Vcc=12;// in volts\n",
"\n",
"// Calculations\n",
"UTP=2*Vcc/3;// upper trip point in volts\n",
"LTP=Vcc/3;// lower trip point in volts\n",
"W=1.1*R*C;// pulse width  \n",
"disp('Volts',UTP,'Maximum trigger voltage=')\n",
"disp('Volts',LTP,'Minimum trigger voltage=')\n",
"disp('seconds',W,'pulse width=')\n",
"\n",
"// Result\n",
"// Minimum trigger voltage is 4 Volts\n",
"// Maximum capacitor voltage is 8 Volts\n",
"// Pulse width is 17.1 mSeconds"
   ]
   }
,
{
		   "cell_type": "markdown",
		   "metadata": {},
		   "source": [
			"## Example 23.7: example7.sce"
		   ]
		  },
  {
"cell_type": "code",
	   "execution_count": null,
	   "metadata": {
	    "collapsed": true
	   },
	   "outputs": [],
"source": [
"// find width of output pulse\n",
"// Electronic Principles\n",
"// By Albert Malvino , David Bates\n",
"// Seventh Edition\n",
"// The McGraw-Hill Companies\n",
"// Example 23-7, page 919\n",
"\n",
"clear;clc; close;\n",
"	\n",
"// Given data\n",
"C=470*10^-6;// capacitance in faraday\n",
"R=10*10^6;// resistance in ohms\n",
"\n",
"// Calculations\n",
"W=1.1*R*C;// pulse width  \n",
"disp('seconds',W,'pulse width=')\n",
"\n",
"// Result\n",
"// Pulse width is 1.44 hrs"
   ]
   }
,
{
		   "cell_type": "markdown",
		   "metadata": {},
		   "source": [
			"## Example 23.8: example8.sce"
		   ]
		  },
  {
"cell_type": "code",
	   "execution_count": null,
	   "metadata": {
	    "collapsed": true
	   },
	   "outputs": [],
"source": [
"// find frequency of output and duty cycle\n",
"// Electronic Principles\n",
"// By Albert Malvino , David Bates\n",
"// Seventh Edition\n",
"// The McGraw-Hill Companies\n",
"// Example 23-8, page 922\n",
"\n",
"clear;clc; close;\n",
"	\n",
"// Given data\n",
"C=47*10^-9;// capacitance in faraday\n",
"R1=75*10^3;// resistance in ohms\n",
"R2=30*10^3;// resistance in ohms\n",
"\n",
"// Calculations\n",
"f=1.44/((R1+2*R2)*C);// frequency in hertz\n",
"D=(R1+R2)/(R1+(2*R2));// duty cycle\n",
"disp('hertz',f,'frequency in hertz=')\n",
"disp('%',D,'duty cycle')\n",
"\n",
"// Result\n",
"// Frequency of output signal is 227 hertz\n",
"// duty cycle is 0.778"
   ]
   }
],
"metadata": {
		  "kernelspec": {
		   "display_name": "Scilab",
		   "language": "scilab",
		   "name": "scilab"
		  },
		  "language_info": {
		   "file_extension": ".sce",
		   "help_links": [
			{
			 "text": "MetaKernel Magics",
			 "url": "https://github.com/calysto/metakernel/blob/master/metakernel/magics/README.md"
			}
		   ],
		   "mimetype": "text/x-octave",
		   "name": "scilab",
		   "version": "0.7.1"
		  }
		 },
		 "nbformat": 4,
		 "nbformat_minor": 0
}
