{
"cells": [
 {
		   "cell_type": "markdown",
	   "metadata": {},
	   "source": [
       "# Chapter 20: Linear Op Amp Circuits"
	   ]
	},
{
		   "cell_type": "markdown",
		   "metadata": {},
		   "source": [
			"## Example 20.10: example10.sce"
		   ]
		  },
  {
"cell_type": "code",
	   "execution_count": null,
	   "metadata": {
	    "collapsed": true
	   },
	   "outputs": [],
"source": [
"// find maximum,minimum voltage gain\n",
"// Electronic Principles\n",
"// By Albert Malvino , David Bates\n",
"// Seventh Edition\n",
"// The McGraw-Hill Companies\n",
"// Example 20-10, page 771\n",
"\n",
"clear; clc; close;\n",
"\n",
"// Given data\n",
"Rdsmin=50;// in ohms\n",
"Rdsmax=120*10^3;// in ohms\n",
"R1=1*10^3;// in ohms\n",
"R2=47*10^3;// in ohms\n",
"R3=100*10^3;// in ohms\n",
"\n",
"// Calculations\n",
"Avmax=((R2/R1)+1)*(Rdsmax/(Rdsmax+R3));// maximum voltage gain\n",
"Avmin=((R2/R1)+1)*(Rdsmin/(Rdsmin+R3));// minimum voltage gain\n",
"disp(Avmin,'minimum voltage gain=')\n",
"disp(Avmax,'maximum voltage gain=')\n",
"\n",
"// Result\n",
"// Minimum voltage gain is 0.024\n",
"// Maximum voltage gain is 26.2"
   ]
   }
,
{
		   "cell_type": "markdown",
		   "metadata": {},
		   "source": [
			"## Example 20.2: example2.sce"
		   ]
		  },
  {
"cell_type": "code",
	   "execution_count": null,
	   "metadata": {
	    "collapsed": true
	   },
	   "outputs": [],
"source": [
"// find maximum,minimum voltage gain\n",
"// Electronic Principles\n",
"// By Albert Malvino , David Bates\n",
"// Seventh Edition\n",
"// The McGraw-Hill Companies\n",
"// Example 20-2, page 747\n",
"\n",
"clear; clc; close;\n",
"\n",
"// Given data\n",
"R1=1.2*10^3;// in ohms\n",
"R2=91*10^3;// in ohms\n",
"\n",
"// Calculations\n",
"Avmin=-R2/R1;// minimum voltage gain\n",
"Avmax=0;// maximum voltage gain is 0\n",
"disp(Avmin,'minimum voltage gain=')\n",
"disp(Avmax,'maximum voltage gain=')\n",
"\n",
"// Result\n",
"// Minimum voltage gain is -75.8\n",
"// Maximum voltage gain is 0"
   ]
   }
,
{
		   "cell_type": "markdown",
		   "metadata": {},
		   "source": [
			"## Example 20.3: example3.sce"
		   ]
		  },
  {
"cell_type": "code",
	   "execution_count": null,
	   "metadata": {
	    "collapsed": true
	   },
	   "outputs": [],
"source": [
"// find maximum positive voltage gain and value of other fixed resistance\n",
"// Electronic Principles\n",
"// By Albert Malvino , David Bates\n",
"// Seventh Edition\n",
"// The McGraw-Hill Companies\n",
"// Example 20-3, page 747\n",
"\n",
"clear; clc; close;\n",
"\n",
"// Given data\n",
"nR=7.5*10^3;// in ohms\n",
"R=1.5*10^3;// in ohms\n",
"\n",
"// Calculations\n",
"n=nR/R;// obvious\n",
"Av=n;// maximum positive voltage gain\n",
"R2=nR/(n-1);// other fixed resistance in hms\n",
"disp(Av,'maximum voltage gain=')\n",
"disp('ohms',R2,'resistance=')\n",
"\n",
"// Result\n",
"// Maximum voltage gain is 5\n",
"// Other resistance is 1.875 Kohms"
   ]
   }
,
{
		   "cell_type": "markdown",
		   "metadata": {},
		   "source": [
			"## Example 20.5: example5.sce"
		   ]
		  },
  {
"cell_type": "code",
	   "execution_count": null,
	   "metadata": {
	    "collapsed": true
	   },
	   "outputs": [],
"source": [
"// find voltage gain of each channel\n",
"// Electronic Principles\n",
"// By Albert Malvino , David Bates\n",
"// Seventh Edition\n",
"// The McGraw-Hill Companies\n",
"// Example 20-5, page 759\n",
"\n",
"clear; clc; close;\n",
"\n",
"// Given data\n",
"R1=1*10^3;// in ohms\n",
"R2=2*10^3;// in ohms\n",
"R3=3*10^3;// in ohms\n",
"R4=4*10^3;// in ohms\n",
"R5=5*10^3;// in ohms\n",
"Rf=6*10^3;// in ohms\n",
"\n",
"// Calculations\n",
"R12=R1*R2/(R1+R2);// R1||R2\n",
"R45=R4*R5/(R4+R5);// R4||R5\n",
"R35=R3*R5/(R3+R5);// R3||R5\n",
"Av1=-Rf/R1;// voltage gain of channel\n",
"Av2=-Rf/R2;// voltage gain of channel\n",
"Av3=((Rf/R12)+1)*(R45/(R3+R45));// voltage gain of channel\n",
"Av4=((Rf/R12)+1)*(R35/(R4+R35));// voltage gain of channel\n",
"disp(Av1,'voltage gain 1=')\n",
"disp(Av2,'voltage gain 2=')\n",
"disp(Av3,'voltage gain 3=')\n",
"disp(Av4,'voltage gain 4=')\n",
"\n",
"// Results\n",
"// Voltage gain of channel 1 is -6\n",
"// Voltage gain of channel 2 is -3\n",
"// Voltage gain of channel 3 is 4.26\n",
"// Voltage gain of channel 4 is 3.19"
   ]
   }
,
{
		   "cell_type": "markdown",
		   "metadata": {},
		   "source": [
			"## Example 20.6: example6.sce"
		   ]
		  },
  {
"cell_type": "code",
	   "execution_count": null,
	   "metadata": {
	    "collapsed": true
	   },
	   "outputs": [],
"source": [
"// find decimal equivalent of binary input and output voltage of the converter\n",
"// Electronic Principles\n",
"// By Albert Malvino , David Bates\n",
"// Seventh Edition\n",
"// The McGraw-Hill Companies\n",
"// Example 20-6, page 762\n",
"\n",
"clear; clc; close;\n",
"\n",
"// Given data\n",
"D0=1;// binary input \n",
"D1=0;// binary input \n",
"D2=0;// binary input \n",
"D3=1;// binary input \n",
"Vref=5;// in volts \n",
"\n",
"// Calculations\n",
"BIN=(D0*2^0)+(D1*2^1)+(D2*2^2)+(D3*2^3);// decimal equivalent of binary input\n",
"Vout=-(BIN*2*Vref/(2^4));// output voltage in volts\n",
"disp(BIN,'decimal equivalent of binary input=')\n",
"disp('Volts',Vout,'output voltage=')\n",
"\n",
"// Result\n",
"// decimal equivalent of binary input 1001 is 9\n",
"// Output voltage of the convertor is -5.625 Volts"
   ]
   }
,
{
		   "cell_type": "markdown",
		   "metadata": {},
		   "source": [
			"## Example 20.7: example7.sce"
		   ]
		  },
  {
"cell_type": "code",
	   "execution_count": null,
	   "metadata": {
	    "collapsed": true
	   },
	   "outputs": [],
"source": [
"// find  closed loop output impedance,short loaded current and voltage gain of the circuit\n",
"// Electronic Principles\n",
"// By Albert Malvino , David Bates\n",
"// Seventh Edition\n",
"// The McGraw-Hill Companies\n",
"// Example 20-7, page 764\n",
"\n",
"clear; clc; close;\n",
"\n",
"// Given data\n",
"R1=10^3;// in ohms\n",
"R2=51*10^3;// in ohms\n",
"Avol=100000;// Avol of 741C\n",
"zoutol=75;// open-loop output impedance in ohms\n",
"Bdc=125;// current gain\n",
"Isc=25*10^-3;// short-load current in amperes\n",
"\n",
"// Calculations\n",
"Av=-R2/R1;// voltage gain\n",
"B=R1/(R1+R2);//feedback fraction\n",
"zoutcl=zoutol/(1+(Avol*B));// closed-loop output impedance in ohms\n",
"Imax=Bdc*Isc;// boosted value of short loaded current in amperes\n",
"disp('ohms',zoutcl,'Closed loop output impedance=')\n",
"disp(Av,'Voltage gain=')\n",
"disp('amperes',Imax,'Short-load current=')\n",
"\n",
"// Result\n",
"// Closed loop output impedance is 0.039 ohms\n",
"// Voltage gain is -51\n",
"// Short-load current is 3.13 Amperes"
   ]
   }
,
{
		   "cell_type": "markdown",
		   "metadata": {},
		   "source": [
			"## Example 20.8: example8.sce"
		   ]
		  },
  {
"cell_type": "code",
	   "execution_count": null,
	   "metadata": {
	    "collapsed": true
	   },
	   "outputs": [],
"source": [
"// find output current and maximum load resistance\n",
"// Electronic Principles\n",
"// By Albert Malvino , David Bates\n",
"// Seventh Edition\n",
"// The McGraw-Hill Companies\n",
"// Example 20-8, page 768\n",
"\n",
"clear; clc; close;\n",
"\n",
"// Given data\n",
"R=10*10^3;// in ohms\n",
"Vin=10;// input voltage in volts\n",
"Vcc=15;// in volts\n",
"\n",
"// Calculations\n",
"iout=Vin/R;// output current in amperes\n",
"Rlmax=R*((Vcc/Vin)-1);// maximum load resistance in ohms\n",
"disp('Amperes',iout,'output current=')\n",
"disp('ohms',Rlmax,'Maximum load resistance=')\n",
"\n",
"// Result\n",
"// Output current is 1 mAmperes\n",
"// Maximum load resistance is 5 Kohms"
   ]
   }
,
{
		   "cell_type": "markdown",
		   "metadata": {},
		   "source": [
			"## Example 20.9: example9.sce"
		   ]
		  },
  {
"cell_type": "code",
	   "execution_count": null,
	   "metadata": {
	    "collapsed": true
	   },
	   "outputs": [],
"source": [
"// find output current and maximum load resistance\n",
"// Electronic Principles\n",
"// By Albert Malvino , David Bates\n",
"// Seventh Edition\n",
"// The McGraw-Hill Companies\n",
"// Example 20-9, page 768\n",
"\n",
"clear; clc; close;\n",
"\n",
"// Given data\n",
"R=15*10^3;// in ohms\n",
"Vin=3;// input voltage in volts\n",
"Vcc=15;// in volts\n",
"\n",
"// Calculations\n",
"iout=-Vin/R;// output current in amperes\n",
"Rlmax=(R/2)*((Vcc/Vin)-1);// maximum load resistance in ohms\n",
"disp('Amperes',iout,'output current=')\n",
"disp('ohms',Rlmax,'Maximum load resistance=')\n",
"\n",
"// Result\n",
"// Output current is -0.2 mAmperes\n",
"// Maximum load resistance is 30 Kohms"
   ]
   }
],
"metadata": {
		  "kernelspec": {
		   "display_name": "Scilab",
		   "language": "scilab",
		   "name": "scilab"
		  },
		  "language_info": {
		   "file_extension": ".sce",
		   "help_links": [
			{
			 "text": "MetaKernel Magics",
			 "url": "https://github.com/calysto/metakernel/blob/master/metakernel/magics/README.md"
			}
		   ],
		   "mimetype": "text/x-octave",
		   "name": "scilab",
		   "version": "0.7.1"
		  }
		 },
		 "nbformat": 4,
		 "nbformat_minor": 0
}
