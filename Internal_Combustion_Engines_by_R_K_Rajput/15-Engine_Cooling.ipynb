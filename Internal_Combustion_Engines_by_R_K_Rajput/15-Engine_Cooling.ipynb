{
"cells": [
 {
		   "cell_type": "markdown",
	   "metadata": {},
	   "source": [
       "# Chapter 15: Engine Cooling"
	   ]
	},
{
		   "cell_type": "markdown",
		   "metadata": {},
		   "source": [
			"## Example 15.1: Coolant_required_for_petrol_and_diesel_engine.sce"
		   ]
		  },
  {
"cell_type": "code",
	   "execution_count": null,
	   "metadata": {
	    "collapsed": true
	   },
	   "outputs": [],
"source": [
"clc;funcprot(0);//EXAMPLE 15.1\n",
"// Initialisation of Variables\n",
"BP=90;.................//Brake Power in kW\n",
"deltw=27;.................//Raise in temperature of water \n",
"etaP=0.25;...................//Efficiency of petrol engine\n",
"etaD=0.3;....................//Efficiency od diesel engine\n",
"Pec=32;......................//Percentage of energy going to coolant in petrol engine\n",
"Dec=28;......................//Percentage of energy going to coolant in diesel engine\n",
"cp=4.187;..........//specific heat of water at constant pressure\n",
"//Calculations\n",
"hsP = BP/etaP;............//Heat supplied in kW or kJ/s\n",
"ecP=hsP*(Pec/100);.............//Energy going to cooling water in kg/s\n",
"mwP=ecP/(cp*deltw);.............//Mass of cooling water required\n",
"hsD = BP/etaD;............//Heat supplied in kW or kJ/s\n",
"ecD=hsD*(Dec/100);.............//Energy going to cooling water in kg/s\n",
"mwD=ecD/(cp*deltw);.............//Mass of cooling water required\n",
"disp(mwP*3600,'The mass of cooling water required (kg/h)for petrol engine:')\n",
"disp(mwD*3600,'The mass of cooling water required (kg/h)for diesel engine:')"
   ]
   }
,
{
		   "cell_type": "markdown",
		   "metadata": {},
		   "source": [
			"## Example 17.28: Indicated_mean_effective_pressure_and_brake_mean_effective_pressure.sce"
		   ]
		  },
  {
"cell_type": "code",
	   "execution_count": null,
	   "metadata": {
	    "collapsed": true
	   },
	   "outputs": [],
"source": [
"clc;funcprot(0);//EXAMPLE 17.28\n",
"// Initialisation of Variables\n",
"D=0.2;.................//Engine bore in m\n",
"L=0.25;...............//Engine stroke in m\n",
"n=2;......................//No of cylinders\n",
"r=13;......................//Compression ratio\n",
"fc=14;..................//Fuel consumption in kg/h\n",
"N=300;....................//Engine rpm\n",
"etarel=0.65;..............//Relative efficiency\n",
"etamech=0.76;.............//Mechanical efficiency\n",
"co=0.05;.....................//Cut off of the stroke\n",
"C=41800;.....................//Calorific value of fuel in kJ/kg\n",
"k=1;........................//Two stroke engine\n",
"ga=1.4;.......................//Degree of freedom\n",
"//calculations\n",
"rho=1+(co*(r-1));\n",
"etast=1-((1/(r^(ga-1)))*(1/ga)*((rho^ga)-1)*(1/(rho-1)));............//Air standard efficiency\n",
"etath=etarel*etast;........................//Thermal efficiency\n",
"IP=etath*(fc/3600)*C;........................//Indicated power in kW\n",
"BP=etamech*IP;................................//Brake power in kW\n",
"pmi=(6*IP)/(n*N*L*(%pi/4)*D*D*k*10);............//mean effective pressure in bar\n",
"disp(pmi,'Mean effective pressure (in bar):')\n",
"pmb=pmi*etamech;...........................//Brake mean effective pressure in bar\n",
"disp(pmb,'Brake mean effective pressure (in bar):')"
   ]
   }
],
"metadata": {
		  "kernelspec": {
		   "display_name": "Scilab",
		   "language": "scilab",
		   "name": "scilab"
		  },
		  "language_info": {
		   "file_extension": ".sce",
		   "help_links": [
			{
			 "text": "MetaKernel Magics",
			 "url": "https://github.com/calysto/metakernel/blob/master/metakernel/magics/README.md"
			}
		   ],
		   "mimetype": "text/x-octave",
		   "name": "scilab",
		   "version": "0.7.1"
		  }
		 },
		 "nbformat": 4,
		 "nbformat_minor": 0
}
