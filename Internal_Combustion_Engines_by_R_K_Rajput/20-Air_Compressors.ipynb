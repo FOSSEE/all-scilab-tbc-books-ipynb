{
"cells": [
 {
		   "cell_type": "markdown",
	   "metadata": {},
	   "source": [
       "# Chapter 20: Air Compressors"
	   ]
	},
{
		   "cell_type": "markdown",
		   "metadata": {},
		   "source": [
			"## Example 20.10: Percentage_change_in_volume_and_power.sce"
		   ]
		  },
  {
"cell_type": "code",
	   "execution_count": null,
	   "metadata": {
	    "collapsed": true
	   },
	   "outputs": [],
"source": [
"clc;funcprot(0);//EXAMPLE 20.10\n",
"// Initialisation of Variables\n",
"L=88;...........//Compressor stroke in cm\n",
"k=0.02;...........//Clearance ratio\n",
"p3=8.2;...........//Delivery pressure in bar\n",
"p4=1.025;.......//Suction pressure in bar\n",
"p1=p4;.......//Suction pressure in bar \n",
"n=1.3;.........//Compression index\n",
"lo=0.55;...//Length of distance piece fitted after overhaul in cm\n",
"//Calculations\n",
"pcfa=(((L+(L*k))-((L*k)*((p3/p4)^(1/n))))-(((k*L)+lo+L)-(((k*L)+lo)*((p3/p4)^(1/n)))))/((L+L*k)-((L*k)*((p3/p4)^(1/n))))\n",
"disp(pcfa*100,'Percentage change in free air delivery:')\n",
"pcpa=pcfa;......//Percentage change in power delivered\n",
"disp(pcpa*100,'Percentage change in power delivered:')"
   ]
   }
,
{
		   "cell_type": "markdown",
		   "metadata": {},
		   "source": [
			"## Example 20.11: Single_stage_double_acting_compressor.sce"
		   ]
		  },
  {
"cell_type": "code",
	   "execution_count": null,
	   "metadata": {
	    "collapsed": true
	   },
	   "outputs": [],
"source": [
"clc;funcprot(0);//EXAMPLE 20.11\n",
"// Initialisation of Variables\n",
"v=30;.............//Suction volume in m^3/min\n",
"p1=1;...........//Suction pressure in bar\n",
"t1=300;.........//Suction temperature in K\n",
"p2=16;...........//Delivery pressure in bar\n",
"N=320;..........//Compressor rpm\n",
"k=0.04;.........//Clearance ratio\n",
"rld=1.2;.........//Ratio of stroke to bore\n",
"etamech=0.82;....//Mechanical efficiency\n",
"n=1.32;.........//Compression index\n",
"ti=39+273;......//Temperature inside the suction chamber in K\n",
"nc=4;.........//No of cylineders\n",
"//Calculations\n",
"W=(n/(n-1))*(p1/1000)*10^5*(v/60)*(((p2/p1)^((n-1)/n))-1);........//Work done in kW\n",
"mp=W/etamech;..........//Motor power in kW\n",
"disp(mp,'Motor power in kW:')\n",
"etav=((1+k)-(k*((p2/p1)^(1/n))))*(t1/ti);........//Volumetric efficiency\n",
"Vs=(v/nc)*(1/(2*N))*(1/etav);............//Swept volume of cylinder in m^3\n",
"D=(Vs/((%pi/4)*rld))^(1/3);.............//Compressor bore in m\n",
"L=D*rld;..............//Compresor stroke in m\n",
"disp(D*1000,'Compressor bore in mm:')\n",
"disp(L*1000,'Compressor stroke in mm:')\n",
"\n",
"\n",
""
   ]
   }
,
{
		   "cell_type": "markdown",
		   "metadata": {},
		   "source": [
			"## Example 20.12: Two_cylinder_single_acting_compressor.sce"
		   ]
		  },
  {
"cell_type": "code",
	   "execution_count": null,
	   "metadata": {
	    "collapsed": true
	   },
	   "outputs": [],
"source": [
"clc;funcprot(0);//EXAMPLE 20.12\n",
"// Initialisation of Variables\n",
"n=2;........//No of cylinders \n",
"ma=16;........//Mass of air supplied per min in kg\n",
"p1=1;........//Suction pressure in bar\n",
"t1=288;.......//Suction temperature in K\n",
"k=0.04;.......//Clearance ratio\n",
"ni=1.3;........//Compression index\n",
"R=0.287;........//Gas constant in kJ/kgK\n",
"N=2000;........//Engine rpm\n",
"p3=7;...........//Delivery pressure in bar\n",
"rld=1.2;...........//Ratio of stroke to bore for compressor cylinder and engine cylinder\n",
"etamech=0.82;.........//Mechanical efficiency of engine\n",
"pmb=5.5;..........//Mean effective pressure in bar in engine\n",
"ne=4;.............//No of engine cylinders\n",
"//Calculations\n",
"Vs=(((ma/n)*R*1000*t1)/(p1*10^5*N))/((1+k)-(k*((p3/p1)^(1/ni))));\n",
"Dc=(Vs/((%pi/4)*rld))^(1/3);.........//Diameter of compressor cylinder in m\n",
"Lc=rld*Dc;.............//Stroke of the compressor cylinder in m\n",
"disp(Dc*1000,'Diameter of compressor cylinder in mm:')\n",
"disp(Lc*1000,'Stroke of compressor cylinder in mm:')\n",
"IP=(ni/(ni-1))*(ma/60)*R*t1*(((p3/p1)^((ni-1)/ni))-1);......//Indicated power of the compressor in kW\n",
"BP=IP/etamech;...............//Brake power of the engine in kW\n",
"De=((BP*60*1000)/(ne*pmb*10^5*rld*(%pi/4)*N))^(1/3);......//Diameter of the engine cylinder in m\n",
"Le=rld*De;...........//Stroke of the engine cylinder in m\n",
"disp(De*1000,'Diameter of engine cylinder in mm:')\n",
"disp(Le*1000,'Stroke of engine cylinder in mm:')\n",
""
   ]
   }
,
{
		   "cell_type": "markdown",
		   "metadata": {},
		   "source": [
			"## Example 20.13: Single_stage_double_acting_compressor.sce"
		   ]
		  },
  {
"cell_type": "code",
	   "execution_count": null,
	   "metadata": {
	    "collapsed": true
	   },
	   "outputs": [],
"source": [
"clc;funcprot(0);//EXAMPLE 20.13\n",
"// Initialisation of Variables\n",
"nc=1.25;......//Index of compression\n",
"ne=1.3;......//Index of expansion\n",
"etamech=0.85;.......//Mechanical efficiency\n",
"p1=1;.........//Suction pressure in bar\n",
"p2=7.5;.......//Delivery pressure in bar\n",
"t1=25+273;....//Suction temperature in bar\n",
"Vamb=2.2;.....//Volume of free air delivered in m^3\n",
"N=310;........//Engine rpm\n",
"k=0.05;.......//Clearance ratio\n",
"pamb=1.03;.....//Ambient pressure in bar\n",
"tamb=293;......//Ambient temperature in K\n",
"//Calculations\n",
"etav=(1+k-(k*((p2/p1)^(1/ne))));........//Volumetric efficiency\n",
"disp(etav*100,'Volumetric efficiency in %:')\n",
"v1=(pamb*Vamb*t1)/(p1*tamb);.......//Volume of air delivered at suction condition in m^3\n",
"vs=(v1/(etav*N*2));.........//Swept volume in m^3\n",
"D=(vs/(%pi/4))^(1/3);........//Diameter of the cylinder in m\n",
"L=D;\n",
"disp(D*100,'Diameter of the cylinder in cm:')\n",
"disp(L*100,'Stroke of the cylinder in cm:')\n",
"W=2*vs*10^5*(((nc)/(nc-1))*p1*(1+k)*(((p2/p1)^((nc-1)/(nc)))-1)-((ne)/(ne-1))*p1*(k*((p2/p1)^(1/ne)))*(((p2/p1)^((ne-1)/(ne)))-1));..........//Work done per cycle of operation in Nm/cycle\n",
"IP=W*N/(60*1000);...............//Indicated power in kW\n",
"BP=IP/etamech;.............//Brake power in kW\n",
"disp(BP,'Brake power in kW:')"
   ]
   }
,
{
		   "cell_type": "markdown",
		   "metadata": {},
		   "source": [
			"## Example 20.14: Single_stage_single_acting_compressor.sce"
		   ]
		  },
  {
"cell_type": "code",
	   "execution_count": null,
	   "metadata": {
	    "collapsed": true
	   },
	   "outputs": [],
"source": [
"clc;funcprot(0);//EXAMPLE 20.14\n",
"// Initialisation of Variables\n",
"v=14;..........//Volume of air delivered in m^3\n",
"p1=1;........//Suction pressure in bar\n",
"p2=7;........//Delivery pressure in bar\n",
"N=310;........//Compressor rpm\n",
"n=1.35;........//Compression index\n",
"k=0.05;........//Clearance ratio\n",
"rld=1.5;.........//Ratio of cylinder length and diameter\n",
"//Calculations\n",
"etav=(1+k)-(k*((p2/p1)^(1/n)));..........//Volumetric efficiency\n",
"Vs=v/(etav*N);.............//Swept volume in m^3\n",
"D=((Vs)/((%pi/4)*rld))^(1/3);......//Compressor diameter in m\n",
"L=rld*D;......................//Compressor stroke in m\n",
"disp(D*100,'Compressor diameter in cm:')\n",
"disp(L*100,'Compressor stroke in cm:')"
   ]
   }
,
{
		   "cell_type": "markdown",
		   "metadata": {},
		   "source": [
			"## Example 20.15: Double_acting_compressor.sce"
		   ]
		  },
  {
"cell_type": "code",
	   "execution_count": null,
	   "metadata": {
	    "collapsed": true
	   },
	   "outputs": [],
"source": [
"clc;funcprot(0);//EXAMPLE 20.15\n",
"// Initialisation of Variables\n",
"D=0.33;.........//Cylinder diameter in m\n",
"L=0.35;.........//Cylinder stroke in m\n",
"k=0.05;.........//Clearance ratio \n",
"N=300;..........//Compressor rpm\n",
"psuc=0.95;........//Suction pressure in bar\n",
"tsuc=298;.........//Suction temperature in K\n",
"pamb=1.013;......//Ambient pressure in bar\n",
"tamb=293;.........//Ambient temperature in K\n",
"p2=4.5;...........//Delivery pressure in bar\n",
"n=1.25;..........//Compression index\n",
"cv=0.717;...........//Specific heat at constant volume in kJ/kgK\n",
"ga=1.4;..........//Ratio of specific heats\n",
"etamech=0.8;......//Mechanical efficiency\n",
"R=0.287;.........//Gas constant in kJ/kgK\n",
"//Calculations\n",
"Vs=(%pi/4)*D*D*L*N*2;............//Swept volume in m^3\n",
"p1=psuc;etav=1-(k*(((p2/p1)^(1/n))-1));........//Volumetric efficiency\n",
"Vad=Vs*etav;................//Actual air drawn per min in m^3\n",
"FAD=(psuc/pamb)*(tamb/tsuc)*Vad;............//Free air delivered in m^3/min\n",
"disp(FAD,'Free air delivered in m^3/min:')\n",
"t1=tsuc;ma=(p1*10^5*Vad)/(R*1000*t1);.......//Mass of air delivered per min in kg\n",
"t2=t1*((p2/p1)^((n-1)/n));..........//Delivery temperature in K\n",
"Qr=ma*cv*((ga-n)/(n-1))*(t2-t1);..........//Heat rejected during compression in kJ/min\n",
"disp(Qr,'Heat rejected during compression in kJ/min:')\n",
"P=((n)/(n-1))*R*t1*(ma/60)*(((p2/p1)^((n-1)/(n)))-1)*(1/etamech);..........//Power needed to drive the compressor in kW\n",
"disp(P,'Power needed to drive the compressor in kW:')"
   ]
   }
,
{
		   "cell_type": "markdown",
		   "metadata": {},
		   "source": [
			"## Example 20.16: Two_stage_compressor.sce"
		   ]
		  },
  {
"cell_type": "code",
	   "execution_count": null,
	   "metadata": {
	    "collapsed": true
	   },
	   "outputs": [],
"source": [
"clc;funcprot(0);...//Example 20.16\n",
"//Initialisation of variables\n",
"p1=1.03;...........//Intake pressure in bar\n",
"t1=300;............//Intake temperature in K\n",
"p2=7;.............//Intake pressure for High pressure cylinder in bar\n",
"t2=310;..............//Temperature of air entering high pressure cylinder in K\n",
"p3=40;............//Pressure of air after compression in bar\n",
"V=30;.........//volume of air delivered in m^3/h\n",
"R=0.287;............//Gas constant for air in kJ/kgK\n",
"ga=1.4;...........//Ratio of specific heats\n",
"//Calculations\n",
"m=p1*10^5*V/(R*1000*t1);..........//Mass of air compressed in kg/h\n",
"t21=t1*((p2/p1)^((ga-1)/ga));.......//Actual temperature of air entering high pressure cylinder in K\n",
"t3=t2*((p3/p2)^((ga-1)/ga));........//Actual temperature of air after compression in K\n",
"W=((ga)/(ga-1))*m*(R/3600)*(t21-t1+t3-t2);..........//Power required to run compressor in kW\n",
"disp(W,'Power required to run the compressor in kW:')"
   ]
   }
,
{
		   "cell_type": "markdown",
		   "metadata": {},
		   "source": [
			"## Example 20.17: Two_stage_compressor.sce"
		   ]
		  },
  {
"cell_type": "code",
	   "execution_count": null,
	   "metadata": {
	    "collapsed": true
	   },
	   "outputs": [],
"source": [
"clc;funcprot(0);//EXAMPLE 20.17\n",
"// Initialisation of Variables\n",
"FAD=6;.......//Free air delivered in m^3/min\n",
"p1=1;........//suction pressure in bar\n",
"t1=300;......//Suction temperature in K\n",
"p3=40;.......//Delivery pressure in bar\n",
"p2=6;........//Intermediate pressure in bar\n",
"t3=300;........//Temperature at the inlet to 2nd stage in K\n",
"n=1.3;.........//Compression index\n",
"etamech=0.8;.....//Mechanical efficiency\n",
"N=400;............//Compressor rpm\n",
"R=0.287;.........//Gas constant in kJ/kgK\n",
"//Calculations  \n",
"dlp=(FAD/(N*(%pi/4)))^(1/3);...............//Diameter of the low pressure cylinder in m\n",
"dhp=sqrt(1/(dlp*N*(%pi/4)));............//Diameter of high pressure cylinder in m\n",
"disp(dlp*1000,'Diameter of low pressure cylinder in mm:')\n",
"disp(dhp*1000,'Diameter of high pressure cylinder in mm:')\n",
"m=(p1*FAD*10^5)/(R*t1*1000*60);........//Mass flow of air in kg/s\n",
"W=n*(1/(n-1))*m*R*t1*(((p2/p1)^((n-1)/n))+((p3/p2)^((n-1)/n))-2);........//Indicated work in kJ/s\n",
"P=W/etamech;...............//Power required in kW\n",
"disp(P,'Power required to run the compressor:')\n",
""
   ]
   }
,
{
		   "cell_type": "markdown",
		   "metadata": {},
		   "source": [
			"## Example 20.18: Two_stage_compressor.sce"
		   ]
		  },
  {
"cell_type": "code",
	   "execution_count": null,
	   "metadata": {
	    "collapsed": true
	   },
	   "outputs": [],
"source": [
"clc;funcprot(0);//EXAMPLE 20.18\n",
"// Initialisation of Variables\n",
"ns=2;.............//No of stages\n",
"v1=0.2;.........//Intake volume in m^3/s\n",
"p1=1;..........//Intake pressure in bar\n",
"t1=289;...............//Intake temperature in K\n",
"p3=7;.........//Final pressure in bar\n",
"n=1.25;.......//Compression index\n",
"N=600;........//Compressor rpm\n",
"cp=1.005;.....//Specific heat at constant pressure in kJ/kgK\n",
"R=0.287;......//Gas constant in kJ/kgK\n",
"//Calculations\n",
"p2=sqrt(p1*p3);......//Intermediate pressure in bar\n",
"disp(p2/10,'Intermediate pressure in Mpa:')\n",
"vslp=60*v1/N;..........//Volume of low pressure cylinder in m^3\n",
"vshp=p1*vslp/p2;..........//Volume of high pressure cylinder in m^3\n",
"disp(vslp,'Volume of low pressure cylinder in m^3:')\n",
"disp(vshp,'Volume of high pressure cylinder in m^3:')\n",
"W=(ns*(n/(n-1)))*p1*10^5*(v1/1000)*(((p3/p1)^((n-1)/(ns*n)))-1);...........//Power required to drive the compressor in kW\n",
"disp(W,'Power required to drive the compressor in kW:')\n",
"m=p1*10^5*v1/(R*t1*1000);.........//Mass of air handled in kg/s\n",
"t2=t1*((p2/p1)^((n-1)/n));.........//Temperature at the end of first stage compression in K\n",
"Qr=m*cp*(t2-t1);.......//Heat rejected in the intercooler in kW\n",
"disp(Qr,'Heat rejected in the intercooler in kW:')"
   ]
   }
,
{
		   "cell_type": "markdown",
		   "metadata": {},
		   "source": [
			"## Example 20.19: Two_stage_compressor.sce"
		   ]
		  },
  {
"cell_type": "code",
	   "execution_count": null,
	   "metadata": {
	    "collapsed": true
	   },
	   "outputs": [],
"source": [
"clc,funcprot(0);.......//Example 20.19\n",
"//initialisation of variables\n",
"p3=30;..........//delivery pressure in bar\n",
"p1=1;.........//suction pressure  in bar\n",
"t1=273+15;.......//suction temperature in K\n",
"n=1.3;.........//adiabatic index\n",
"//calculation\n",
"p2=sqrt(p1*p3);.....//Pressure before entering High pressure cylinder in bar\n",
"t21=t1*((p2/p1)^((n-1)/n));.........//Actual temperature before entering the high pressure turbine in K\n",
"r=sqrt((p2^(1/n))*(t21/t1));............//Ratio of cylinder diameters\n",
"disp(r,'Ratio of cylinder diameters:')"
   ]
   }
,
{
		   "cell_type": "markdown",
		   "metadata": {},
		   "source": [
			"## Example 20.1: Single_stage_reciprocating_compressor.sce"
		   ]
		  },
  {
"cell_type": "code",
	   "execution_count": null,
	   "metadata": {
	    "collapsed": true
	   },
	   "outputs": [],
"source": [
"clc;funcprot(0);//EXAMPLE 20.1\n",
"// Initialisation of Variables\n",
"v1=1;.........//Volume of air taken in m^3/min\n",
"p1=1.013;...............//Intake pressure in bar\n",
"t1=288;...............//Intake temperature in K\n",
"p2=7;......................//Delivery pressure in bar\n",
"n=1.35;..............//Adiabatic index\n",
"R=287;..............//Gas constant in kJ/kgK\n",
"//Calculations\n",
"m=(p1*v1*10^5)/(R*t1);..............//Mass of air delivered per min in kg\n",
"t2=t1*((p2/p1)^((n-1)/n));...........//Delivery temperature in K\n",
"iw=(n/(n-1))*m*R*(t2-t1);............//Indicated work in kJ/min\n",
"IP=iw/(60*1000);....................//Indicated power\n",
"disp(IP,'Indicated power in kW:')"
   ]
   }
,
{
		   "cell_type": "markdown",
		   "metadata": {},
		   "source": [
			"## Example 20.20: Two_stage_compressor.sce"
		   ]
		  },
  {
"cell_type": "code",
	   "execution_count": null,
	   "metadata": {
	    "collapsed": true
	   },
	   "outputs": [],
"source": [
"clc;funcprot(0);//EXAMPLE 20.20\n",
"// Initialisation of Variables\n",
"ns=2;.........//No of stages\n",
"p1=1;........//Suction pressure in bar\n",
"p2=7.4;.......//Intercooler pressure in bar\n",
"p3=42.6;.......//Delivery pressure in bar\n",
"t1=15+273;......//Suction temperature in K\n",
"n=1.3;........//Compression index\n",
"R=0.287;.......//Gas constant in kJ/kgK\n",
"dlp=0.09;.......//Diameter of low pressure cylinder in m\n",
"dhp=0.03;.......//Diameter of high pressure cylinder in m\n",
"etav=0.9;.....//Volumetric efficiency\n",
"//Calculations\n",
"W=n*(1/(n-1))*R*t1*(((p2/p1)^((n-1)/n))+((p3/p2)^((n-1)/n))-2);\n",
"disp(W,'Work done in compressing 1 kg of gas in kJ:')\n",
"//Given that stroke length is same in both cases\n",
"rV=p2/p1;.........//Ratio of volumes\n",
"rECV=((dlp/dhp)^2)*etav;.........//Ratio of effective cylinder volumes\n",
"if (rECV>rV) then disp('Pressure in the intercooler would rise.')\n",
"else if (rECV<rV) then disp('Pressure in the intercooler would fall')\n",
"    end\n",
"end"
   ]
   }
,
{
		   "cell_type": "markdown",
		   "metadata": {},
		   "source": [
			"## Example 20.21: Single_acting_two_stage_compressor.sce"
		   ]
		  },
  {
"cell_type": "code",
	   "execution_count": null,
	   "metadata": {
	    "collapsed": true
	   },
	   "outputs": [],
"source": [
"clc;funcprot(0);//EXAMPLE 20.21\n",
"// Initialisation of Variables\n",
"V=4;...........//Volume of air handled in m^3/min\n",
"p1=1.016;.....//Suction pressure in bar\n",
"t1=288;........//Suction temperature in K\n",
"N=250;.........//Compressor rpm\n",
"p3=78.65;.....//Delivery pressure in bar\n",
"vp=3;........//Piston speed in m/s\n",
"etamech=0.75;.....//mechanical efficiency\n",
"etav=0.8;........//Volumetric efficiency\n",
"n=1.25;..........//Compression index\n",
"R=287;...........//Gas constant in J/kgK\n",
"ns=2;............//No of stages\n",
"//Calculations\n",
"l=(vp*60)/(2*N);..........//Stroke length in m\n",
"d=sqrt(V/((%pi/4)*l*N*etav));.......//Bore in m\n",
"disp(l,'Stroke length in m:')\n",
"disp(d,'Bore in m:')\n",
"m=(p1*10^5*V)/(R*t1);.......//Mass of air handled by the compressor in kg/min\n",
"p2=sqrt(p1*p3);.............//Intermediate pressure in bar\n",
"t2=t1*((p2/p1)^((n-1)/n));.........//Temperature at the end of first stage compression in K\n",
"W=ns*(n/(n-1))*(m/60)*(R/1000)*(t2-t1)*(1/etamech);..........//Work required in kW\n",
"disp(W,'Work required in kW:')"
   ]
   }
,
{
		   "cell_type": "markdown",
		   "metadata": {},
		   "source": [
			"## Example 20.22: Single_acting_two_stage_compressor.sce"
		   ]
		  },
  {
"cell_type": "code",
	   "execution_count": null,
	   "metadata": {
	    "collapsed": true
	   },
	   "outputs": [],
"source": [
"clc;funcprot(0);//EXAMPLE 20.22\n",
"// Initialisation of Variables\n",
"m=4.5;.........//Amount of air compressed in kg/min\n",
"ps=1.013;.......//Suction pressure in bar\n",
"ts=288;.........//Suction temperature in K\n",
"rp=9;...........//Pressure ratio\n",
"n=1.3;.........//Compression index\n",
"k=0.05;........//Clearance ratio\n",
"N=300;.........//Compressor rpm\n",
"R=287;.........//Gas constant in J/kgK\n",
"ns=2;............//No of stages\n",
"//Calculations\n",
"ti=round(ts*((sqrt(rp))^((n-1)/n)));......//Intermediate temperature in K\n",
"W=round(ns*n*(1/(n-1))*m*(R/1000)*(ti-ts));..........//Work required per min in kJ\n",
"IP=W/60;.........//Indicated power in kW\n",
"disp(IP,'Indicated power in kW:')\n",
"mc=m/N;...........//Mass induced per cycle in kg\n",
"etav=(1+k)-(k*(sqrt(rp)^(1/n)));.......//Volumetric efficiency\n",
"Vs=(mc*R*ts)/(ps*10^5*etav);........//Swept volume for low pressure cylinder in m^3\n",
"disp(Vs,'Swept volume for low pressure cylinder in m^3:')\n",
"vdhp=(mc*ts*R)/(sqrt(rp)*ps*10^5);............//Volume of air drawn in high pressure cylinder per cycle in m^3\n",
"vshp=vdhp/etav;...............//Swept volume ofhigh pressure cylinder in m^3\n",
"disp(vshp,'Swept volume of high pressure cylinder in m^3:')\n",
""
   ]
   }
,
{
		   "cell_type": "markdown",
		   "metadata": {},
		   "source": [
			"## Example 20.23: Two_stage_compressor.sce"
		   ]
		  },
  {
"cell_type": "code",
	   "execution_count": null,
	   "metadata": {
	    "collapsed": true
	   },
	   "outputs": [],
"source": [
"clc;funcprot(0);//EXAMPLE 20.23\n",
"// Initialisation of Variables\n",
"v1=2.2;...........//free air delivered by the compressor in m^3/min\n",
"p1=1;........//Suction pressure in bar\n",
"t1=298;.......//Suction temperature in K\n",
"pd=55;........//Delivery pressure in bar\n",
"N=210;.......//Compressor rpm\n",
"n=1.3;........//Compression index\n",
"k=0.05;.......//Clearance ratio for high pressure and low pressure cylinders\n",
"R=287;.......//Gas constant in J/kgK\n",
"ns=2;.......//No of stages\n",
"//Calculations\n",
"ps=p1;\n",
"m =(p1*v1*10^5)/(R*t1);.........//Mass of air deivered in m^3/min\n",
"W=(ns*(n/(n-1)))*m*R*t1*(((pd/ps)^((n-1)/(ns*n)))-1);...........//Work done by compressor in Nm/min\n",
"P=W/(60*1000);...........//Power required to run the compressor\n",
"disp(P,'Power required to run the compressor in kW:')\n",
"pi=sqrt(ps*pd);........//Intermediate pressure in bar\n",
"etav1=(1+k)-(k*((pi/p1)^(1/n)));...........//Volumetric efficiency of the low pressure cylinder \n",
"Vs=(v1*10^6)/(etav1*N);............//Swept volume in cm^3\n",
"dlp=(Vs/((%pi/4)))^(1/3);..........//Diameter of low pressure cylinder in cm\n",
"llp=dlp;.................//Stroke of low pressure cylinder in cm\n",
"disp(dlp,'Bore of low pressure cylinder in cm:')\n",
"disp(llp,'Stroke of low pressure cylinder in cm:')\n",
"dhp=sqrt(dlp*dlp/pi);.........//Diameter of high pressure cylinder in cm\n",
"lhp=llp;\n",
"disp(dhp,'Bore of high pressure cylinder in cm:')\n",
"disp(lhp,'Stroke of high pressure cylinder in cm:')\n",
"rcv=pi/ps;.....//Ratio of cylinder volumes\n",
"disp(rcv,'Ratio of cylinder volumes:')"
   ]
   }
,
{
		   "cell_type": "markdown",
		   "metadata": {},
		   "source": [
			"## Example 20.24: Two_stage_double_acting_compressor.sce"
		   ]
		  },
  {
"cell_type": "code",
	   "execution_count": null,
	   "metadata": {
	    "collapsed": true
	   },
	   "outputs": [],
"source": [
"clc;funcprot(0);//EXAMPLE 20.24\n",
"// Initialisation of Variables\n",
"p1=1;........//Suction pressure in bar\n",
"p2=4;.....//Intermediate pressure in bar\n",
"p5=3.8;.......//Pressure of air leaving the interooler in bar\n",
"p6=15.2;........//Delivery pressure in bar\n",
"t1=300;..........//Suction temperature in K\n",
"dlp=0.36;........//Diameter of low pressure cylinder in m\n",
"llp=0.4;........//Stroke of low pressure cylinder in m\n",
"N=220;........//Compressor rpm\n",
"k=0.04;........//Clearance ratio\n",
"cp=1.0035;.........//Specific heat at constant pressure in kJ/kgK\n",
"n=1.3;........//Compression index\n",
"R=0.287;........//Gas constant in kJ/kgK\n",
"p8=p5;p3=p2;p7=p6;t5=t1;\n",
"//Calculations\n",
"Vslp=(%pi/4)*dlp*dlp*llp*N*2;.......//Swept volume in m^3\n",
"etavlp=(1+k)-(k*((p2/p1)^(1/n)));.....//Volumetric efficiency\n",
"valp=Vslp*etavlp;................//Volume of air drawn in low pressure cylinder in m^3\n",
"m=(p1*10^5*valp)/(R*1000*t1);........//Mass of air drawin in kg/min\n",
"t2=round(t1*((p2/p1)^((n-1)/n)));\n",
"Qr=m*cp*(t2-t5);........//Heat rejected to the intercooler in kJ/min\n",
"disp(Qr,'Heat rejected to the intercooler in kJ/min:')\n",
"vahp=(m*R*t5*1000)/(p5*10^5);...//Volume of air drawn into high pressure cylinder per min in m^3\n",
"Vshp=vahp/etavlp;.........//Swept volume of high pressure cylinder in m^3/min\n",
"dhp=sqrt(Vshp/((%pi/4)*2*N*llp));..........//Diameter of high pressure cylinder in m\n",
"disp(dhp*1000,'Diameter of high pressure cylinder in mm:')\n",
"P=(n/(n-1))*m*(1/60)*R*(t2-t1);.......//Power required for high pressure cylinder in kW\n",
"disp(P,'Power required for high pressure cylinder in kW:')"
   ]
   }
,
{
		   "cell_type": "markdown",
		   "metadata": {},
		   "source": [
			"## Example 20.25: Two_stage_single_acting_compressor.sce"
		   ]
		  },
  {
"cell_type": "code",
	   "execution_count": null,
	   "metadata": {
	    "collapsed": true
	   },
	   "outputs": [],
"source": [
"clc;funcprot(0);//EXAMPLE 20.25\n",
"// Initialisation of Variables\n",
"ps=1;........//Suction pressure in bar\n",
"pi=4.2;.....//Intermediate pressure in bar\n",
"pi1=4;.......//Pressure of air leaving the interooler in bar\n",
"pd=18;........//Delivery pressure in bar\n",
"t1=298;..........//Suction temperature in K\n",
"t5=t1;\n",
"dlp=0.4;........//Diameter of low pressure cylinder in m\n",
"llp=0.5;........//Stroke of low pressure cylinder in m\n",
"N=200;........//Compressor rpm\n",
"k=0.05;........//Clearance ratio\n",
"cp=1.004;.........//Specific heat at constant pressure in kJ/kgK\n",
"n=1.25;........//Compression index\n",
"R=0.287;........//Gas constant in kJ/kgK\n",
"//Calculations\n",
"Vslp=(%pi/4)*dlp*dlp*llp;..........//Swept volume of low pressure cylinder in m^3\n",
"etavlp=(1+k)-(k*((pi/ps)^(1/n)));.....//Volumetric efficiency\n",
"t2=round(t1*((pi/ps)^((n-1)/n)));\n",
"m=(ps*10^5*etavlp*Vslp)/(R*1000*t1);...//Mass of air in kg\n",
"wlp=((n)/(n-1))*R*1000*t1*m*(((pi/ps)^((n-1)/(n)))-1);..........//Work done per min in Nm in low pressure cylinder\n",
"whp=((n)/(n-1))*R*t5*m*1000*(((pd/pi1)^((n-1)/(n)))-1);..........//Work done per min in Nm in high pressure cylinder\n",
"W=wlp+whp;.........//Net work done in Nm\n",
"IP=(W*N)/(60*1000);............//Power required to run the compressor in kW\n",
"disp(IP,'Power required to run the compressor in kW:')\n",
"Qr=m*N*cp*(t2-t1);...........//Heat rejected in intercooler in kJ/min\n",
"disp(Qr,'Heat rejected in intercooler in kJ/min:')"
   ]
   }
,
{
		   "cell_type": "markdown",
		   "metadata": {},
		   "source": [
			"## Example 20.26: Two_stage_single_acting_compressor.sce"
		   ]
		  },
  {
"cell_type": "code",
	   "execution_count": null,
	   "metadata": {
	    "collapsed": true
	   },
	   "outputs": [],
"source": [
"clc;funcprot(0);//EXAMPLE 20.26\n",
"// Initialisation of Variables\n",
"p1=1;............//Intake pressure in bar\n",
"p2=4;..............//Pressure after first stage in bar\n",
"p3=16;............//Final pressure in bar\n",
"ns=2;............//No of stages\n",
"t1=300;............//Intake temperature in K\n",
"n=1.3;............//Compression index\n",
"klp=0.04;.........//Clearance ratio for low pressure cylinder\n",
"khp=0.06;........//Clearance ratio for high pressure cylinder\n",
"N=440;............//Engine rpm\n",
"R=0.287;..........//Gas constant in kJ/kgK\n",
"m=10.5;.............//Mass of air delivered in kg/min\n",
"cp=1.005;.........//Specific heat at constant pressure in kJ/kgK\n",
"//Calculations\n",
"rp=sqrt(p1*p3);...........//Pressure ratio per stage\n",
"P=((ns*n)/(n-1))*R*t1*(m/60)*(((p3/p1)^((n-1)/(ns*n)))-1);..........//Work done per min in Nm\n",
"disp(P,'Power required in kW:')\n",
"isoWd=(m/60)*R*t1*log(p3/p1);..........//Isothermal work done in Nm\n",
"disp(isoWd,'Isothermal work done in kW:')\n",
"etaiso=isoWd/P;...............//Isothermal efficiency\n",
"disp(etaiso*100,'Isothermal efficiency in %:')\n",
"FAD=(m*R*t1*1000)/(p1*10^5);.............//Free air delivered in m^3/min\n",
"disp(FAD,'Free air delivered in m^3/min:')\n",
"t2=t1*((p2/p1)^((n-1)/n));.....//Temperature at the end of compression in K\n",
"Qt=(m/60)*cp*(t2-t1);..............//Heat transferred in intercooler in kW\n",
"disp(Qt,'Heat transferred in intercooler in kW:')\n",
"etavlp=(1+klp)-(klp*((p2/p1)^(1/n)));..........//Volumetric efficiency of low pressure stage\n",
"etavhp=(1+khp)-(khp*((p2/p1)^(1/n)));..........//Volumetric efficiency of high pressure stage\n",
"vslp=FAD/(N*etavlp);......//Swept volume for low pressure stage in m^3\n",
"vclp=klp*vslp;..............//Clearance volume for low pressure stage in m^3\n",
"printf('\nSwept volume for low pressure stage in m^3:   %f\n',vslp)\n",
"printf('\nClearance volume for low pressure stage in m^3:  %f\n',vclp)\n",
"vshp=FAD/(N*rp*etavhp);......//Swept volume for high pressure stage in m^3\n",
"vchp=khp*vshp;..............//Clearance volume for high pressure stage in m^3\n",
"printf('\nSwept volume for high pressure stage in m^3:  %f\n',vshp)\n",
"printf('\nClearance volume for high pressure stage in m^3:  %f\n',vchp)"
   ]
   }
,
{
		   "cell_type": "markdown",
		   "metadata": {},
		   "source": [
			"## Example 20.27: Three_stage_compressor.sce"
		   ]
		  },
  {
"cell_type": "code",
	   "execution_count": null,
	   "metadata": {
	    "collapsed": true
	   },
	   "outputs": [],
"source": [
"clc;funcprot(0);//EXAMPLE 20.27\n",
"// Initialisation of Variables\n",
"ns=3;......//No of stages\n",
"p1=1.05;......//Intake pressure in bar\n",
"pd=40;..........//Delivery pressure in bar\n",
"V=3;..........//Volume of air xupplied per min in m^3\n",
"n=1.25;........//Compression index\n",
"//Calculations\n",
"Wd=((ns*n)/(n-1))*p1*V*10^5*(((pd/p1)^((n-1)/(ns*n)))-1);..........//Work done per min in Nm\n",
"disp(Wd,'Work done in Nm:')\n",
"isoWd=10^5*p1*V*log(pd/p1);..........//Isothermal work done in Nm\n",
"disp(isoWd,'Isothermal work done in Nm:')\n",
"etaiso=isoWd/Wd;...............//Isothermal efficiency\n",
"disp(etaiso*100,'Isothermal efficiency in %:')\n",
"wdss=((n)/(n-1))*p1*V*10^5*(((pd/p1)^((n-1)/(n)))-1);..........//Single stage Work done per min in Nm\n",
"disp(wdss,'Single stage work done per min in Nm:')\n",
"perws=(wdss-Wd)/wdss;.......//Percentage of work saved\n",
"disp(perws*100,'Percentage of work saved:')"
   ]
   }
,
{
		   "cell_type": "markdown",
		   "metadata": {},
		   "source": [
			"## Example 20.28: Three_stage_compressor.sce"
		   ]
		  },
  {
"cell_type": "code",
	   "execution_count": null,
	   "metadata": {
	    "collapsed": true
	   },
	   "outputs": [],
"source": [
"clc;funcprot(0);//EXAMPLE 20.28\n",
"// Initialisation of Variables\n",
"p1=1;.............//Intake pressure in bar\n",
"p4=36;........//Final pressure in bar\n",
"n=1.25;.........//Compression index\n",
"R=0.287;.......//Gas constant in kJ/kgK\n",
"t1=300;..........//Intake temperature in K\n",
"ns=3;...........//No of stages\n",
"v=15;..........//Volume of air delivered in m^3\n",
"//Calculations\n",
"p2=p1*((p4/p1)^(1/ns));\n",
"p3=p2*((p4/p1)^(1/ns));\n",
"printf('\n\nIntermediate pressures\n\n  p2=%f\n  p3=%f\n\n',p2,p3)\n",
"t2=t1*((p4/p1)^(((n-1)/n)*(1/ns)));....//Delivery temperature  in K\n",
"m=p1*10^5*v/(R*1000*t1);...........//Mass of air handled per min in kg\n",
"Wt=((n/(n-1))*m*R*(1/60)*(t2-t1)*ns);........//Total work done in three stages \n",
"disp(Wt,'Indicated power required in kW:')"
   ]
   }
,
{
		   "cell_type": "markdown",
		   "metadata": {},
		   "source": [
			"## Example 20.29: Three_stage_compressor.sce"
		   ]
		  },
  {
"cell_type": "code",
	   "execution_count": null,
	   "metadata": {
	    "collapsed": true
	   },
	   "outputs": [],
"source": [
"clc;funcprot(0);//EXAMPLE 20.29\n",
"// Initialisation of Variables\n",
"ns=3;........//No of stages\n",
"N=200;.......//Compressor rpm\n",
"p1=1;.......//Intake pressure in bar\n",
"t1=20+273;....//Intake temperature in K\n",
"D=0.35;......//Engine bore in m\n",
"L=0.4;.......//Engine stroke in m\n",
"p2=4;........//Discharge pressure from first stage in bar\n",
"p6=16;........//Discharge pressure from second stage in bar\n",
"p10=64;........//Discharge pressure from third stage in bar\n",
"pd=0.2;........//Loss of pressure between intercoolers in bar\n",
"R=0.287;......//Gas constant in kJ/kgK\n",
"k=0.04;.......//Clearence volume in 4% of the stroke volume\n",
"n1=1.2;.....//Compressor index for first stage\n",
"n2=1.25;.....//Compressor index for second stage\n",
"n3=1.3;.....//Compressor index for third stage\n",
"cp=1.005;......//Specific heat at constant pressure in kJ/kgK\n",
"etamech=0.8;.....//Mechanical efficiency\n",
"//Calculations\n",
"p5=p2-pd;p9=p6-pd;t5=t1;t9=t1;\n",
"Vs=(%pi/4)*D*D*L*N*2;............//Swept volume of low pressure cylinder per min in m^3\n",
"etav1=(1+k)-(k*((p2/p1)^(1/n1)));.....//Volumetric efficiency in first stage\n",
"etav2=(1+k)-(k*((p6/p5)^(1/n2)));.....//Volumetric efficiency in second stage\n",
"etav3=(1+k)-(k*((p10/p9)^(1/n3)));.....//Volumetric efficiency in third stage\n",
"vain1=Vs*etav1;.................//Volume of air taken in first stage in m^3/min\n",
"m=(p1*10^5)*vain1/(R*t1*1000);...........//Mass of air intake in kg/min in first stage\n",
"t2=round(t1*((p2/p1)^((n1-1)/n1)));\n",
"t6=t5*((p6/p5)^((n2-1)/n2));\n",
"t10=t9*((p10/p9)^((n3-1)/n3));\n",
"Qr1=m*cp*(t2-t5);........//Heat rejected in intercooler after first stage in kJ/min\n",
"Qr2=m*cp*(t6-t9);........//Heat rejected in intercooler after second stage in kJ/min\n",
"Qr3=m*cp*(t10-t1);........//Heat rejected in intercooler after third stage in kJ/min\n",
"disp(Qr1,'Heat rejected in intercooler after first stage in kJ/min:')\n",
"disp(Qr2,'Heat rejected in intercooler after second stage in kJ/min:')\n",
"disp(Qr3,'Heat rejected in intercooler after third stage in kJ/min:')\n",
"vainip=m*R*t5*1000/(p5*10^5);.........//Volume drawn in intermediate pressure cylinder/min\n",
"Vsip=vainip/etav2;.............//Swept volume of intermediate cylinder in m^3/min\n",
"Dip=sqrt(Vsip/(2*N*L*(%pi/4)));............//Diameter of the intermediate cylinder in m\n",
"disp(Dip*1000,'Diameter of the intermediate cylinder in mm:')\n",
"vainhp=m*R*t9*1000/(p9*10^5);.........//Volume drawn in high pressure cylinder/min\n",
"Vshp=vainhp/etav3;.............//Swept volume of high pressure cylinder in m^3/min\n",
"Dhp=sqrt(Vshp/(2*N*L*(%pi/4)));............//Diameter of the intermediate cylinder in m\n",
"disp(Dhp*1000,'Diameter of the intermediate cylinder in mm:')\n",
"Ps=[{(n1/(n1-1))*m*R*(t2-t1)}+{(n2/(n2-1))*m*R*(t6-t5)}+{(n3/(n3-1))*m*R*(t10-t9)}]*(1/(60*etamech));...//Shaft power in kW\n",
"disp(Ps,'Shaft power in kW:')\n",
"cv=cp-R;..........//Specific heat at constant volume in kJ/kgK\n",
"ga=cp/cv;...........//Ratio of specific heats\n",
"Qt1=cv*((ga-n1)/(ga-1))*(t2-t1)*m;............//Heat transfer during first stage in kJ/min\n",
"Qt2=cv*((ga-n2)/(ga-1))*(t6-t1)*m;............//Heat transfer during second stage in kJ/min\n",
"Qt3=cv*((ga-n3)/(ga-1))*(t10-t1)*m;............//Heat transfer during third stage in kJ/min\n",
"printf('\nHeat transferred during first stage in kJ/min: %f\n',Qt1)\n",
"printf('\nHeat transferred during second stage in kJ/min: %f\n',Qt2)\n",
"printf('\nHeat transferred during third stage in kJ/min: %f\n',Qt3)"
   ]
   }
,
{
		   "cell_type": "markdown",
		   "metadata": {},
		   "source": [
			"## Example 20.2: Motor_power_and_bore_of_single_stage_compressor.sce"
		   ]
		  },
  {
"cell_type": "code",
	   "execution_count": null,
	   "metadata": {
	    "collapsed": true
	   },
	   "outputs": [],
"source": [
"clc;funcprot(0);//EXAMPLE 20.2\n",
"// Initialisation of Variables\n",
"N=300;............//Compressor rpm\n",
"afr=15;.........//Air fuel ratio\n",
"etamech=0.85;....//Mechanical efficiency\n",
"etamt=0.9;.......//Motor transmission efficiency\n",
"v=1;............//Volume dealt with per min at inlet in m^3/min\n",
"rld=1.5;........//Ratio of stroke to diameter\n",
"v1=1;.........//Volume of air taken in m^3/min\n",
"p1=1.013;...............//Intake pressure in bar\n",
"t1=288;...............//Intake temperature in K\n",
"p2=7;......................//Delivery pressure in bar\n",
"n=1.35;..............//Adiabatic index\n",
"R=287;..............//Gas constant in kJ/kgK\n",
"//Calculations\n",
"m=(p1*v1*10^5)/(R*t1);..............//Mass of air delivered per min in kg\n",
"t2=t1*((p2/p1)^((n-1)/n));...........//Delivery temperature in K\n",
"iw=(n/(n-1))*m*R*(t2-t1);............//Indicated work in kJ/min\n",
"IP=iw/(60*1000);....................//Indicated power in kW\n",
"vdc=v/N;........//Volume drawn in per cycle in m^3\n",
"D=(vdc/((%pi/4)*rld))^(1/3);..........//Cylinder bore in m\n",
"disp(D*1000,'Cylinder bore in mm:')\n",
"pc=IP/etamech;.........//Power input to the compressor in kW\n",
"mp=pc/etamt;..........//Motor power in kW\n",
"disp(mp,'Motor power in kW:')"
   ]
   }
,
{
		   "cell_type": "markdown",
		   "metadata": {},
		   "source": [
			"## Example 20.30: Multi_stage_compressor.sce"
		   ]
		  },
  {
"cell_type": "code",
	   "execution_count": null,
	   "metadata": {
	    "collapsed": true
	   },
	   "outputs": [],
"source": [
"clc;funcprot(0);//EXAMPLE 20.30\n",
"// Initialisation of Variables\n",
"p1=1;.....//Intake pressure in bar\n",
"p5=125;.....//Pressure of the compressed air in bar\n",
"rpr=4;.........//Pressure ratio is restricted to 4\n",
"//Calculations\n",
"X=(log(p5/p1)/log(rpr));\n",
"if(X>round(X))\n",
"x=round(X)+1;\n",
"else\n",
"    x=round(X);\n",
"end\n",
"disp(x,'No of stages:')\n",
"esrp=(p5/p1)^(1/x);\n",
"disp(esrp,'Exact stage pressure ratios:')\n",
"p4=p5/esrp;p3=p4/esrp;p2=p3/esrp;......//Intermediate pressures in bar\n",
"printf('\nIntermediate pressures\np4=%f\np3=%f\np2=%f',p4,p3,p2)\n",
""
   ]
   }
,
{
		   "cell_type": "markdown",
		   "metadata": {},
		   "source": [
			"## Example 20.31: Multi_stage_compressor.sce"
		   ]
		  },
  {
"cell_type": "code",
	   "execution_count": null,
	   "metadata": {
	    "collapsed": true
	   },
	   "outputs": [],
"source": [
"clc;funcprot(0);//EXAMPLE 20.31\n",
"// Initialisation of Variables\n",
"ps=1;.........//Suction pressure in bar\n",
"t1=273+125;.......//Delivery temperature in K\n",
"pd=160;...........//Delivery pressure in bar\n",
"tm=40+273;........//Min temperature\n",
"ts=298;........//Suction temperature in K\n",
"n=1.25;......//Adiabatic index\n",
"cv=0.71;.......//Specific heat at constant volume in kJ/kgK\n",
"R=0.287;......//Gas constant in kJ/kgK\n",
"ns=3;.......//No of stages\n",
"//Calculations\n",
"p1=ps*((t1/ts)^(n/(n-1)));\n",
"x=(log(pd/p1))/(((n/(n-1))*(log(t1/tm))));\n",
"disp(round(x)+1,'No of stages:')\n",
"rp1=p1;...........//Pressure ratio in 1st stage\n",
"rp=(pd/rp1)^(1/ns);.........//Pressure ratio in the following stage\n",
"W=(n/(n-1))*R*ts*(((rp1)^((n-1)/n))-1);.........//Work done in first stage in kJ\n",
"Wf=ns*(n/(n-1))*R*tm*(((rp)^((n-1)/n))-1);.........//Work done in next three stages in kJ\n",
"wt=W+Wf;............//Total work done per kg in kJ\n",
"disp(wt,'Total work done in kJ/kg:')\n",
"cp=cv+R;..............//Specific heat at constant pressure in kJ/kgK\n",
"Qr=ns*cp*(t1-tm);.............//Heat rejected in intercoolers in kJ/kg\n",
"disp(Qr,'Heat rejected in intercoolers in kJ/kg:')\n",
""
   ]
   }
,
{
		   "cell_type": "markdown",
		   "metadata": {},
		   "source": [
			"## Example 20.32: Three_stage_compressor.sce"
		   ]
		  },
  {
"cell_type": "code",
	   "execution_count": null,
	   "metadata": {
	    "collapsed": true
	   },
	   "outputs": [],
"source": [
"clc;funcprot(0);//EXAMPLE 20.32\n",
"// Initialisation of Variables\n",
"Vamb=10.5;........//Free air volume in m^3\n",
"Pamb=1.013;...........//Free air presssure in bar\n",
"Tamb=273+15;..........//Free air temperature in K\n",
"T1=(273+25);...........//Temperature at the end of suction in all cylinders in K\n",
"P1=1;............//Pressure at the suction in bar\n",
"pd=95;...........//Delivery presssure in bar\n",
"N=100;.........//Compressor rpm\n",
"n=1.25;..........//Adiabatic index\n",
"k=0.04;.........//Fractional clearances for LP\n",
"k1=0.07;.........//Fractional clearances for HP\n",
"//Calculations\n",
"z=(pd/P1)^(1/3);.........//Pressure ratio\n",
"pi1=z*P1;\n",
"pi2=z*pi1;\n",
"etavollp=1+k-(k*(z^(1/n)));\n",
"etavolhp=1+k1-(k1*(z^(1/n)));\n",
"v1=(Pamb*Vamb*T1)/(Tamb*P1);\n",
"sclp=(round(v1))/(etavollp*N);.........//Swept capacity of LP cylinder in m^3\n",
"disp(sclp,'Swept capacity of low pressure cylinder in m^3:')\n",
"vip=(Pamb*Vamb*T1)/(pi1*Tamb);.........//Volume of free air reduced to suction conditions of IP cylinder\n",
"scip=vip/(etavolhp*N);.........//Swept capacity of IP cylinder in m^3\n",
"disp(scip,'Swept capacity of intermediate pressure cylinder in m^3:')\n",
"vhp=(Pamb*Vamb*T1)/(pi2*Tamb);.........//Volume of free air reduced to suction conditions of HP cylinder\n",
"schp=vhp/(etavolhp*N);.........//Swept capacity of HP cylinder in m^3\n",
"disp(schp,'Swept capacity of intermediate pressure cylinder in m^3:')\n",
""
   ]
   }
,
{
		   "cell_type": "markdown",
		   "metadata": {},
		   "source": [
			"## Example 20.34: Indicated_power_and_air_supplied_per_minute.sce"
		   ]
		  },
  {
"cell_type": "code",
	   "execution_count": null,
	   "metadata": {
	    "collapsed": true
	   },
	   "outputs": [],
"source": [
"clc;funcprot(0);//EXAMPLE 20.34\n",
"// Initialisation of Variables\n",
"D=0.0635;.......//Engine bore in m\n",
"L=0.114;.........//Engine stroke in m\n",
"p1=6.3;..........//Supply pressure in bar\n",
"t1=273+24;.........//Supply temperature in K\n",
"p4=1.013;..........//Exhaust pressure in bar\n",
"cv=0.05;............//Clearance volume is 5% of the swept volume\n",
"cr=0.5;..........//Cut off ratio\n",
"n=1.3;...........//Adiabatic index\n",
"R=287;...............//gas constant in kJ/kgK\n",
"N=300;.............//Engine rpm\n",
"ga=1.4;...........//Ratio of specific heats\n",
"//Calculations\n",
"Vs=(%pi*D*D*L)/4;........//Swept volume in m^3\n",
"Vc=cv*Vs;..........//Clearance volume in m^3\n",
"v6=Vc;v5=v6;\n",
"v1=(Vs/2)+Vc;v2=Vs+Vc;v3=v2;p3=p4;v4=v5+(cv*Vs);\n",
"p2=p1*((v1/v2)^n);.......//Pressure at the end of expansion\n",
"t2=t1*((v1/v2)^(n-1));........//Temperature at the end of expansion in K\n",
"disp(t2,'Temperature at the end of expansion in K:')\n",
"p5=p4*((v4/v5)^n);\n",
"w=((p1*(v1-v6))+(((p1*v1)-(p2*v2))/(n-1))-(p3*(v3-v4))-(((p5*v5)-(p4*v4))/(n-1)))*10^5;.......//Workk done per cycle in Nm\n",
"IP=(w*N)/(60*1000);..........//Indicated power in kW\n",
"disp(IP,'Indicated power of the motor in kW:')\n",
"t3=t2*((p3/p2)^((ga-1)/ga));\n",
"t4=t3;m4=(p4*v4*10^5)/(R*t4);m1=(p1*v1*10^5)/(R*t1);\n",
"ma=(m1-m4)*N;..........//Mass of air supplied per min\n",
"disp(ma,'Mass of air supplied per min in kg:')"
   ]
   }
,
{
		   "cell_type": "markdown",
		   "metadata": {},
		   "source": [
			"## Example 20.35: Comparison_of_roots_blower_and_vane_type_compressor.sce"
		   ]
		  },
  {
"cell_type": "code",
	   "execution_count": null,
	   "metadata": {
	    "collapsed": true
	   },
	   "outputs": [],
"source": [
"clc;funcprot(0);//EXAMPLE 20.35\n",
"// Initialisation of Variables\n",
"v=0.03;..............//Induced volume in m^3/rev\n",
"p1=1.013;...........//Inlet pressure in bar\n",
"rp=1.5;............//Pressure ratio\n",
"ga=1.4;...........//Ratio of specific heats\n",
"//Calculations\n",
"p2=rp*p1;\n",
"wr=(p2-p1)*(10^5)*v/1000;.....//Work input for roots compressor in kJ\n",
"disp(wr,'Work input for roots compressor in kJ/rev')\n",
"pi=(p2+p1)/2;\n",
"wv=((p2-pi)*(10^5)*v*((p1/pi)^(1/ga))*(1/1000))+((ga/(ga-1))*p1*(10^5)*(v/1000)*(((pi/p1)^((ga-1)/ga))-1));...//Work input required for vane type in kJ/rev\n",
"disp(wv,'Work input for vane compressor in kJ/rev')"
   ]
   }
,
{
		   "cell_type": "markdown",
		   "metadata": {},
		   "source": [
			"## Example 20.36: Roots_blower.sce"
		   ]
		  },
  {
"cell_type": "code",
	   "execution_count": null,
	   "metadata": {
	    "collapsed": true
	   },
	   "outputs": [],
"source": [
"clc;funcprot(0);//EXAMPLE 20.36\n",
"// Initialisation of Variables\n",
"v=0.08;.........//Volume of air compressed in m^3\n",
"p1=1;..........//Intake pressure in bar\n",
"p2=1.5;........//Pressure after compression in in bar\n",
"ga=1.4;.........//Ratio of specific heats\n",
"//Calculations\n",
"wac=v*(p2-p1)*10^5;........//Actual work done in Nm\n",
"wid=(ga/(ga-1))*p1*v*(10^5)*(((p2/p1)^((ga-1)/ga))-1);...........//Ideal work done per revolution in Nw\n",
"etac=wid/wac;................//Compressor efficiency\n",
"disp(etac*100,'Compressor efficiency in %:')"
   ]
   }
,
{
		   "cell_type": "markdown",
		   "metadata": {},
		   "source": [
			"## Example 20.37: Centrifugal_compressor.sce"
		   ]
		  },
  {
"cell_type": "code",
	   "execution_count": null,
	   "metadata": {
	    "collapsed": true
	   },
	   "outputs": [],
"source": [
"clc;funcprot(0);//EXAMPLE 20.37\n",
"// Initialisation of Variables\n",
"m=2.5;..........//Air flow rate in kg/s\n",
"p1=1;........//Inlet pressure in bar\n",
"t1=290;............//Inlet temperature in bar\n",
"C1=80;..........//Inlet Velocity in m/s\n",
"p2=1.5;........//pressure after compression in bar\n",
"t2=345;............//temperature after compression in bar\n",
"C2=220;..........//Velocity after compression in m/s\n",
"cp=1.005;...........//Specific heat at constant pressure in kJ/kgK\n",
"ga=1.4;............//Ratio of specific heats\n",
"R=287;..............//Gas constant for air in kJ/kgK\n",
"//Calculations\n",
"t21=t1*((p2/p1)^((ga-1)/ga));\n",
"wisen=cp*(t21-t1)+((C2*C2)-(C1*C1))/(2*1000);.....//Isentropic work done in kJ/kg\n",
"w=cp*(t2-t1)+((C2*C2)-(C1*C1))/(2*1000);.....//Actual work done (in impeller) in kJ/kg\n",
"etaisen=wisen/w;...............//Isentropic efficiency\n",
"disp(etaisen*100,'Isentropic efficiency in %:')\n",
"P=m*w;..........//Power required to drive the coompressor in kW\n",
"disp(P,'Power required to drive the coompressor in kW:')\n",
"t3=(((C2*C2)-(C1*C1))/(2*1000*cp))+t2;....//Temperature of air after leaving the diffuser in K\n",
"p3=p2*((t3/t2)^(ga/(ga-1)));..........//Pressure of air after leaving the diffuser in bar\n",
"t31=t1*((p3/p1)^((ga-1)/ga));...........//Delivery temperature from diffuser in K\n",
"etao=(t31-t1)/(t3-t1);...............//Overall efficiency \n",
"disp(etao*100,'Overall efficiency in %:')"
   ]
   }
,
{
		   "cell_type": "markdown",
		   "metadata": {},
		   "source": [
			"## Example 20.38: Single_inlet_type_centrifugal_compressor.sce"
		   ]
		  },
  {
"cell_type": "code",
	   "execution_count": null,
	   "metadata": {
	    "collapsed": true
	   },
	   "outputs": [],
"source": [
"clc;funcprot(0);//EXAMPLE 20.38\n",
"// Initialisation of Variables\n",
"ma=528;.............//Air flow in kg/min\n",
"m=ma/60;.............//Air flow in kg/s\n",
"p1=1;........//Inlet pressure in bar\n",
"t1=293;............//Inlet temperature in bar\n",
"N=20000;..............//Compressor rpm\n",
"etaisen=0.8;.........//Isentropic efficiency\n",
"po1=1;.........//Static pressure in bar\n",
"p02=4;...........//Final total pressure in bar\n",
"C1=145;.........//Velocity of air when entering the impeller in m/s\n",
"rwt=0.9;..........//Ratio of whirl speed to tip speed \n",
"dh=0.12;........//Hub diameter in m\n",
"cp=1.005;...........//Specific heat at constant pressure in kJ/kgK\n",
"ga=1.4;............//Ratio of specific heats\n",
"R=287;..............//Gas constant for air in kJ/kgK\n",
"//Calculations\n",
"t01=t1+((C1*C1)/(2*cp*1000));..........//Stagnation temperature at the inlet to the machine in K\n",
"p01=p1*((t01/t1)^(ga/(ga-1)));.....//Stagnation pressure at the inlet to the machine in bar\n",
"t021=t01*((p02/p01)^((ga-1)/ga));\n",
"deltisen=t021-t01;.........//Isentropic rise in temperature in K\n",
"delt=round(deltisen/etaisen);........//Actual rise in temperature \n",
"disp(delt,'Actual rise in temperature:')\n",
"wc=cp*delt;.........//Work consumed by compressor in kJ/kg\n",
"Cbl2=sqrt(wc*1000/rwt);\n",
"d2=Cbl2*60/(%pi*N);..........//Tip diameter of the impeller in m\n",
"disp(d2*100,'Tip diameter of the impeller in cm:')\n",
"P=m*wc;............//Power required in kW\n",
"disp(P,'Power required in kW:')\n",
"rho1=(p1*10^5)/(R*t1);.......//Density at entry in kg/m^3\n",
"d1=sqrt(((m*4)/(C1*rho1*%pi))+(dh^2));.......//Eye diameter in m\n",
"disp(d1*100,'Diameter of the eye in cm:')"
   ]
   }
,
{
		   "cell_type": "markdown",
		   "metadata": {},
		   "source": [
			"## Example 20.39: Centrifugal_compressor.sce"
		   ]
		  },
  {
"cell_type": "code",
	   "execution_count": null,
	   "metadata": {
	    "collapsed": true
	   },
	   "outputs": [],
"source": [
"clc;funcprot(0);//EXAMPLE 20.39\n",
"// Initialisation of Variables\n",
"N=10000;.................//Compressor rpm\n",
"v=660;............//Volume of air delivered in m^3/min\n",
"p1=1;.................//Inlet pressure in bar\n",
"t1=293;.............//Inlet temperature in K\n",
"rp=4;.............//Pressure ratio\n",
"etaisen=0.82;........//Isentropic efficiency\n",
"Cf2=62;...............//Flow velocity in m/s\n",
"rr=2;.............//Ratio of outer radius of impeller to inner radius of impeller\n",
"ka=0.9;..............//Blade area co efficient\n",
"fis=0.9;...........//Slip factor\n",
"cp=1.005;..............//Specific heat at constant pressure in kJ/kgK\n",
"ga=1.4;............//Ratio of specific heats\n",
"R=287;..............//Gas constant for air in kJ/kgK\n",
"//Calculations\n",
"t21=t1*(rp^((ga-1)/ga));Cf1=Cf2;\n",
"t2=t1+((t21-t1)/etaisen);..........//Final temperature of air\n",
"m=(p1*10^5*v/60)/(R*t1);...............//Mass flow rate in m^3/s\n",
"P=m*cp*(t2-t1);.........//Theoretical power in kW\n",
"disp(t2,'Final temperature of air in Kevin:')\n",
"disp(P,'Theoretical power in kW:')\n",
"Cbl2=sqrt(1000*cp*(t2-t1)/fis);\n",
"d2=60*Cbl2/(%pi*N);..........//Impeller diameter at outlet in m\n",
"d1=d2/rr;...............//Impeller diameter at inlet in m\n",
"disp(d2*100,'Impeller diameter at outlet in cm')\n",
"disp(d1*100,'Impeller diameter at inlet in cm')\n",
"b1=(v/60)/(2*%pi*(d1/2)*Cf1*ka);.........//Breadth of impeller at inlet in m\n",
"disp(b1*100,'Breadth of impeller at inlet in cm:')\n",
"Cbl1=Cbl2/rr;\n",
"beta1=(atan(Cf1/Cbl1))*180/%pi;\n",
"al2=(atan(Cf2/(fis*Cbl2)))*180/%pi;\n",
"disp(beta1,'Impeller blade angle at inlet in degrees:')\n",
"disp(al2,'Diffuser blade angle at inlet in degrees')\n",
"\n",
""
   ]
   }
,
{
		   "cell_type": "markdown",
		   "metadata": {},
		   "source": [
			"## Example 20.3: Work_done_and_heat_transferred_during_single_stage_compression.sce"
		   ]
		  },
  {
"cell_type": "code",
	   "execution_count": null,
	   "metadata": {
	    "collapsed": true
	   },
	   "outputs": [],
"source": [
"clc;funcprot(0);//EXAMPLE 20.3\n",
"// Initialisation of Variables\n",
"p1=1;......//Suction pressure in bar\n",
"t1=293;.....//Suction temperature in K\n",
"n=1.2;......//Compression index\n",
"p2=10;......//Delivery pressure in bar\n",
"R=0.287;....//Gas constant in kJ/kgK\n",
"cv=0.718;...//Specific heat at constant volume in kJ/kgK\n",
"//Calculations\n",
"t2=t1*((p2/p1)^((n-1)/n));.....//Temperature at the end of compression in K\n",
"disp(t2,'Temperature at the end of compression in K:')\n",
"W=1*R*t1*(n/(n-1))*(((p2/p1)^((n-1)/n))-1);.......//Work done during compression of air in kJ\n",
"disp(W,'Work done during compression per kg of air in kJ:')\n",
"Q=(t2-t1)*(cv-((R)/(n-1)));..........//Heat transferred during compression of air in kJ/kg\n",
"disp(Q,'Heat transferred during compression per kg of air in kJ:')"
   ]
   }
,
{
		   "cell_type": "markdown",
		   "metadata": {},
		   "source": [
			"## Example 20.40: Centrifugal_compressor.sce"
		   ]
		  },
  {
"cell_type": "code",
	   "execution_count": null,
	   "metadata": {
	    "collapsed": true
	   },
	   "outputs": [],
"source": [
"clc;funcprot(0);//EXAMPLE 20.40\n",
"// Initialisation of Variables\n",
"v1=4.8;......//Volume of air compressed in m^3/s\n",
"p1=1;....//Inlet pressure in bar\n",
"t1=293;........//Inlet pressure in K\n",
"n=1.5;........//Compression index\n",
"Cf1=65;......//Air flow velocity at inlet in m/s\n",
"Cf2=Cf1;......//Flow velocity is same at inlet and outlet\n",
"d1=0.32;..........//Inlet impeller diameter in m\n",
"d2=0.62;........//Outlet impeller diameter in m\n",
"N=8000;........//Blower rpm\n",
"cp=1.005;......//Specific heat at constant pressure in kJ/kgK\n",
"//Calculations\n",
"t21=t1*((n/p1)^((n-1)/n));....//Temperature at the outlet of compressor in K\n",
"Cbl1=(%pi*d1*N)/60;......//Peripheral velocity at inlet in m/s\n",
"Cbl2=(%pi*N*d2)/60;......//Tip peripheral velocity at outlet in m/s\n",
"Cw2=(cp*(t21-t1)*1000)/Cbl2;\n",
"be1=(atan(Cf1/Cbl1))*180/%pi;be2=(atan(Cf2/(Cbl2-Cw2)))*180/%pi;......//Blade angles at the tip of the impeller\n",
"al2= (atan(Cf2/Cw2))*180/%pi; \n",
"printf('\nBlade angles  \n\n\t Blade angle at the inlet of the impeller: beta 1=%f \n\t Blade angle at the outlet of the impeller: beta 2=%f \n\t Absolute angle at the tip of impeller: alpha 2=%f\n\n',be1,be2,al2)\n",
"b1=v1/(2*%pi*(d1/2)*Cf1);........//Breadth of blade at inlet in m\n",
"disp(b1*100,'Breadth of the blade at inlet in cm')\n",
"v2=(v1*t21*p1)/(n*t1);..............//Discharge at the outlet in m^3/s\n",
"b2=v2/(2*%pi*(d2/2)*Cf2);........//Breadth of blade at outlet in m\n",
"disp(b2*100,'Breadth of the blade at outlet in cm')\n",
"\n",
""
   ]
   }
,
{
		   "cell_type": "markdown",
		   "metadata": {},
		   "source": [
			"## Example 20.41: Centrifugal_compressor.sce"
		   ]
		  },
  {
"cell_type": "code",
	   "execution_count": null,
	   "metadata": {
	    "collapsed": true
	   },
	   "outputs": [],
"source": [
"clc;funcprot(0);//EXAMPLE 20.41\n",
"// Initialisation of Variables\n",
"m=16.5;.......//Air flow in kg/s\n",
"rp=4;........//Pressure ratio\n",
"N=15000;.........//Compressor rpm\n",
"t01=293;.........//Inlet head temperature\n",
"fis=0.9;...........//Slip factor\n",
"fiw=1.04;.........//Power input factor\n",
"etaisen=0.8;.......//Isentropic efficiency\n",
"cp=1.005;........//Specific heat at constant pressure in kJ/kgK\n",
"ga=1.4;......//Ratio of specific heats\n",
"//Calculations\n",
"t021=t01*(rp^((ga-1)/ga));\n",
"delt=(t021-t01)/etaisen;Cbl2=sqrt((1000*cp*delt)/(fiw*fis));\n",
"D=(60*Cbl2)/(%pi*N);..............//Diameter of impeller\n",
"disp(D,'Diameter of the impeller in m:')\n",
"P=m*cp*delt;\n",
"disp(P,'Power input to compressor in kW:')"
   ]
   }
,
{
		   "cell_type": "markdown",
		   "metadata": {},
		   "source": [
			"## Example 20.42: Centrifugal_compressor.sce"
		   ]
		  },
  {
"cell_type": "code",
	   "execution_count": null,
	   "metadata": {
	    "collapsed": true
	   },
	   "outputs": [],
"source": [
"clc;funcprot(0);//EXAMPLE 20.42\n",
"// Initialisation of Variables\n",
"rp=3.6;..........//Pressure ratio\n",
"die=0.35;.......//Diameter of inlet eye of compressor in m\n",
"Cf=140;..........//Axial velocity in m/s\n",
"m=12;.............//Mass flow in kg/s\n",
"Cbl2=120;.........//Velocity in the delivery duct in m/s\n",
"Ci=460;..........//The tip speed of the impeller in m/s\n",
"N=16000;............//Speed of impeller in rpm\n",
"etaisen=0.8;.......//Isentropic efficiency\n",
"pc=0.73;........//Pressure co efficient\n",
"pa=1.013;..........//Ambient pressure in bar\n",
"ta=273+15;................//Ambient temperature in K\n",
"ga=1.4;..........//Ratio of specific heats\n",
"cp=1.005;.........//Specific heat at constant pressure in kJ/kgK\n",
"R=0.287;........//Gas constant in kJ/kgK\n",
"//Calculations\n",
"delt=((ta*((rp^((ga-1)/ga))-1))/etaisen);.......//Rise in temperature\n",
"t02=ta+delt;............//Total head temperature in K\n",
"disp(t02,'Total head temperature in K:')\n",
"t2=t02-((Cbl2*Cbl2)/(2*cp*1000));..........//Static temperature at outlet in K\n",
"disp(t2,'Static temperature at outlet in K:')\n",
"p02=pa*rp;\n",
"p2=p02/(1+((Cbl2*Cbl2)/(2*R*t2*1000)));...........//Static pressure at exit in bar\n",
"disp(p2,'Static pressure at exit in bar:')\n",
"t1=ta-((Cf*Cf)/(2*cp*1000));.............//Static temperature at inlet in K\n",
"disp(t1,'Static temperature at inlet in K:')\n",
"p1=pa/(1+((Cf*Cf)/(2*R*t1*1000)));...........//Static pressure at inlet in bar\n",
"disp(p1,'Static pressure at inlet in bar:')\n",
"rp=p2/p1;.....//Static pressure ratio\n",
"disp(rp,'Static pressure ratio:')\n",
"W=cp*delt;...........//Work done on air in kJ/kg of air\n",
"disp(W,'Work done on air in kJ/kg:')\n",
"P=m*cp*delt;..........//Power required to drive the compressor in kW\n",
"disp(P,'Power required to drve the compressor in kW:')"
   ]
   }
,
{
		   "cell_type": "markdown",
		   "metadata": {},
		   "source": [
			"## Example 20.43: Centrifugal_compressor.sce"
		   ]
		  },
  {
"cell_type": "code",
	   "execution_count": null,
	   "metadata": {
	    "collapsed": true
	   },
	   "outputs": [],
"source": [
"clc;funcprot(0);//EXAMPLE 20.43\n",
"// Initialisation of Variables\n",
"t1=300;.........//Inlet temperature in K\n",
"N=18000;.............//Compressor rpm\n",
"etaisen=0.76;.......//Isentropic efficiency\n",
"od=0.55;......//Outer diameter of blade tip\n",
"sf=0.82;......//Slip factor\n",
"cp=1.005;.........//Specific heat capacity at constant pressure in kJ/kgK\n",
"ga=1.4;.............//Ratio of specific heats\n",
"//Calculations\n",
"Cbl2=(%pi*od*N)/60;W=Cbl2*Cbl2*sf/1000;...........//Work done per kg of air in kW\n",
"delt=W/cp;..............//Temperature rise of air while passing through compressor \n",
"disp(delt,'Temperature rise of air while passing through compressor :')\n",
"t21=(etaisen*delt)+t1;rp=((t21/t1)^(ga/(ga-1)));.....//Pressure ratio\n",
"disp(rp,'Pressure ratio:')"
   ]
   }
,
{
		   "cell_type": "markdown",
		   "metadata": {},
		   "source": [
			"## Example 20.44: Axial_flow_compressor.sce"
		   ]
		  },
  {
"cell_type": "code",
	   "execution_count": null,
	   "metadata": {
	    "collapsed": true
	   },
	   "outputs": [],
"source": [
"clc;funcprot(0);//EXAMPLE 20.44\n",
"// Initialisation of Variables\n",
"Cbl=240;........//Mean blade velocity in m/s\n",
"Cf=190;.........//Air flow velocity in m/s\n",
"al1=45;al2=14;.........//Blade angels in degrees\n",
"rho=1;.........//Density of air in kg/m^3\n",
"//Calculations \n",
"pr=(1/2)*(rho*Cf*Cf/(10^5))*(((tan(al1*%pi/180))^2)-((tan(al2*%pi/180))^2));.......//Pressure rise in bar\n",
"disp(pr,'Pressure rise in bar:')\n",
"W=Cbl*Cf/1000*((tan(al1*%pi/180))-(tan(al2*%pi/180)));.............//Work done per kg of air in kW\n",
"disp(W,'Work done per kg of air in kW:')"
   ]
   }
,
{
		   "cell_type": "markdown",
		   "metadata": {},
		   "source": [
			"## Example 20.45: Axial_flow_compressor.sce"
		   ]
		  },
  {
"cell_type": "code",
	   "execution_count": null,
	   "metadata": {
	    "collapsed": true
	   },
	   "outputs": [],
"source": [
"clc;funcprot(0);//EXAMPLE 20.45\n",
"// Initialisation of Variables\n",
"etaisen=0.82;.......//Overall isentropic efficiency \n",
"N=8;............//No of stages\n",
"t1=293;...........//Inlet temperature in K\n",
"ga=1.4;............//Ratio of specific heats\n",
"rp=4;.............//Pressure ratio\n",
"Rd=0.5;................//Reaction factor\n",
"Cbl=180;.................//Mean blade speed in m/s\n",
"Cf=90;...............//Air flow velocity in m/s\n",
"cp=1.005;.........//Specific heat at constant pressure in kJ/kgK\n",
"//Calculations\n",
"t21=t1*(rp^((ga-1)/ga));\n",
"t2=((t21-t1)/etaisen)+t1;\n",
"wrt=cp*(t2-t1);.........//Work done by the machine in kJ/kg\n",
"disp(wrt,'Work done by the machine in kJ/kg')\n",
"be1=atan(((cp*(t2-t1)*1000/(Cf*Cbl*N))+(Cbl/Cf))/2)*180/%pi;\n",
"al1=atan((Cbl/Cf)-tan(be1*%pi/180))*180/%pi;\n",
"printf('\nBlade angels are as follows (In degrees)\n\nalpha1=%f\tbeta1=%f\n\nalpha2=%f\tbeta2=%f\n\n',al1,be1,be1,al1)\n",
""
   ]
   }
,
{
		   "cell_type": "markdown",
		   "metadata": {},
		   "source": [
			"## Example 20.46: Axial_flow_compressor.sce"
		   ]
		  },
  {
"cell_type": "code",
	   "execution_count": null,
	   "metadata": {
	    "collapsed": true
	   },
	   "outputs": [],
"source": [
"clc;funcprot(0);//EXAMPLE 20.46\n",
"// Initialisation of Variables\n",
"etaisen=0.85;.......//Overall isentropic efficiency\n",
"t1=293;...........//Inlet temperature in K\n",
"rp=4;.............//Pressure ratio\n",
"Rd=0.5;................//Reaction factor\n",
"Cbl=180;.................//Mean blade speed in m/s\n",
"wip=0.82;..............//Work input factor\n",
"al1=12;be1=42;......//Blade angels in degrees\n",
"ga=1.4;............//Ratio of specific heats  \n",
"cp=1.005;.........//Specific heat at constant pressure in kJ/kgK\n",
"//Calculations\n",
"t21=t1*(rp^((ga-1)/ga));\n",
"t2=((t21-t1)/etaisen)+t1;\n",
"wrt=cp*(t2-t1);.........//Theoretical work required in kJ/kg\n",
"Cf=Cbl/(tan(al1*%pi/180)+tan(be1*%pi/180));\n",
"Cw1=Cf*tan(al1*%pi/180);Cw2=Cf*tan(be1*%pi/180);\n",
"wcps=Cbl*(Cw2-Cw1)*wip/1000;.............//Work consumed per stage in kJ/kg\n",
"N=round(wrt/wcps);.......//No of stages\n",
"disp(Cf,'Flow velocity in m/s:')\n",
"disp(N,'No of stages:')"
   ]
   }
,
{
		   "cell_type": "markdown",
		   "metadata": {},
		   "source": [
			"## Example 20.47: Eight_stage_axial_flow_compressor.sce"
		   ]
		  },
  {
"cell_type": "code",
	   "execution_count": null,
	   "metadata": {
	    "collapsed": true
	   },
	   "outputs": [],
"source": [
"clc;funcprot(0);//EXAMPLE 20.47\n",
"// Initialisation of Variables\n",
"rp=5;..........//Stagnation pressure ratio ga\n",
"etaisen=0.92;.......//Overall isentropic efficiency\n",
"t1=290;.............//Inlet stagnation temperature in K\n",
"p1=1;...............//Inlet stagnation pressure in bar\n",
"Cbl=160;...........//Mean blade speed in m/s\n",
"ga=1.4;...........//Ratio of specific heats\n",
"Rd=0.5;............//Degree of reaction\n",
"Cf=90;................//Axial velocity of air through compressor in m/s\n",
"N=8;.............//No of stages\n",
"m=1;.........//Mass flow in kg/s\n",
"cp=1.005;............//Specific heat at constant pressure in kJ/kgK\n",
"//Calculations\n",
"tN1=t1*(rp^((ga-1)/ga));......//Temperature at the end of compression stage due to isentropic expansion in K\n",
"tN=((tN1-t1)/etaisen)+t1;\n",
"be1=atan(((cp*(tN-t1)*1000/(Cf*Cbl*N))+(Cbl/Cf))/2)*180/%pi;\n",
"al1=atan((Cbl/Cf)-tan(be1*%pi/180))*180/%pi;\n",
"printf('\nBlade angels are as follows (In degrees)\n\nalpha1=%f\t\tbeta1=%f\n\nalpha2=%f\tbeta2=%f\n\n',al1,be1,be1,al1)\n",
"P=m*cp*(tN-t1);..........//Power required by the compressor in kW\n",
"disp(P,'Power required by the compressor in kW:')\n",
"\n",
"\n",
"\n",
""
   ]
   }
,
{
		   "cell_type": "markdown",
		   "metadata": {},
		   "source": [
			"## Example 20.48: Axial_flow_compressor.sce"
		   ]
		  },
  {
"cell_type": "code",
	   "execution_count": null,
	   "metadata": {
	    "collapsed": true
	   },
	   "outputs": [],
"source": [
"clc;funcprot(0);//EXAMPLE 20.48\n",
"// Initialisation of Variables\n",
"rp=4;........//Stagnation pressure ratio\n",
"etaisen=0.85;.....//Stagnation isentropic efficiency\n",
"p1=1;.............//Inlet stagnation pressure in bar\n",
"t1=300;...........//Inlet stagnation temperature in K\n",
"Rd=0.5;............//Degree of reaction\n",
"Cu=180;...........//Mean blade speed in m/s\n",
"Wd=0.9;...........//Work done factor\n",
"htr=0.42;.......//Hub tip ratio\n",
"al1=12;be2=al1;.......//Relative air angle at rotor inlet in degrees\n",
"al2=32;be1=al2;........//Relative air angle at rotor at outlet in degrees\n",
"ga=1.4;...........//Ratio of specific heats\n",
"cp=1.005;..........//Specific heat capacity at constant pressure in kJ/kgK\n",
"R=287;..........//Gas constant in J/kgK\n",
"m=19.5;..........//Mass flow in kg/s\n",
"//Calculations\n",
"tN1=t1*(rp^((ga-1)/ga));......//Temperature at the end of compression stage due to isentropic expansion in K\n",
"tN=((tN1-t1)/etaisen)+t1;\n",
"etap=log(rp^((ga-1)/ga))/log(tN/t1);...........//Stagnation polytropic efficiency\n",
"disp(etap*100,'Stagnation polytropic efficiency in %:')\n",
"Cf=Cu/(tan(al1*%pi/180)+tan(be1*%pi/180));\n",
"Cw1=Cf*tan(al1*%pi/180);Cw2=Cf*tan(al2*%pi/180);\n",
"wcps=Cu*(Cw2-Cw1)*Wd/1000;.............//Work consumed per stage in kJ/kg\n",
"wc=cp*(tN-t1);...............//Work consumed by compressor in kJ/kg\n",
"N=round(wc/wcps);.......//No of stages\n",
"disp(N,'No of stages:')\n",
"C1=Cf/cos(al1*%pi/180);.......//Absolute velocity at exit from guide vanes in m/s\n",
"ti=t1-((C1*C1)/(2*cp*1000));..........//Inlet temperature in K\n",
"disp(ti,'Inlet temperature in K:')\n",
"pi=p1*((ti/t1)^(ga/(ga-1)));......//Inlet pressure in bar\n",
"disp(pi,'Inlet pressure in bar:')\n",
"rho1=(pi*10^5)/(R*ti);.............//Density of air approaching the first stage\n",
"r1=sqrt(m/(rho1*%pi*Cf*(1-(htr^2))));rh=r1*htr;\n",
"l=r1-rh;............//Height of the blade in the first stage in m\n",
"disp(l*100,'Height of the blade in the first stage in cm:')"
   ]
   }
,
{
		   "cell_type": "markdown",
		   "metadata": {},
		   "source": [
			"## Example 20.49: Multi_stage_axial_flow_compressor.sce"
		   ]
		  },
  {
"cell_type": "code",
	   "execution_count": null,
	   "metadata": {
	    "collapsed": true
	   },
	   "outputs": [],
"source": [
"clc;funcprot(0);//EXAMPLE 20.49\n",
"// Initialisation of Variables\n",
"ma=20;..........//Air flow rate in kg/s\n",
"p1=1;.........//Inlet stagnation pressure in bar\n",
"t1=290;.........//Inlet stagnation temperature in Kelvin\n",
"t2=305;.........//Temperature at the end of first stage in K\n",
"etapc=0.88;.....//Polytropic efficiency of compression\n",
"P=4350;......//Power consumed by compressor in kW\n",
"ga=1.4;.....//Ratio of specific heats\n",
"cp=1.005;......//Specific heat at constant pressure \n",
"//Calculations\n",
"p2byp1=(%e^(etapc*log(t2/t1)))^(ga/(ga-1));\n",
"tN=(P/(ma*cp))+t1;\n",
"pN=p1*((tN/t1)^((etapc*ga)/(ga-1)));......//Delivery pressure in bar\n",
"disp(pN,'Delivery pressure in bar:')\n",
"N=log(pN/p1)/log(p2byp1);...........//No of stages \n",
"disp(round(N),'No of stages:')\n",
"tN1=t1*((pN/p1)^((ga-1)/ga));\n",
"etao=(tN1-t1)/(tN-t1);...............//Overall efficiency\n",
"disp(etao*100,'Overall efficiency in %:')\n",
""
   ]
   }
,
{
		   "cell_type": "markdown",
		   "metadata": {},
		   "source": [
			"## Example 20.4: Single_stage_compressor.sce"
		   ]
		  },
  {
"cell_type": "code",
	   "execution_count": null,
	   "metadata": {
	    "collapsed": true
	   },
	   "outputs": [],
"source": [
"clc;funcprot(0);//EXAMPLE 20.4\n",
"// Initialisation of Variables\n",
"p1=1;........//Suction pressure in bar\n",
"t1=293;.......//Suction temperature in K\n",
"p2=6;..........//Discharge pressure in bar\n",
"t2=453;.......//Discharge temperature in K\n",
"N=1200;.........//Compressor rpm\n",
"Ps=6.25;........//Shaft power in kW\n",
"ma=1.7;........//Mass of air delivered in kg/min\n",
"D=0.14;......//Engine bore in m\n",
"L=0.10;.......//Engine stroke in m\n",
"R=287;..........//Gas constant in kJ/kgK\n",
"//Calculations\n",
"Vd=(%pi/4)*D*D*L*N;.........//Displlacement volume in m^3/min\n",
"FAD=ma*R*t1/(p1*10^5);........//Free air delivered\n",
"etav=FAD/Vd;.....//Volumetric efficiency \n",
"disp(etav*100,'Volumetric Efficiency in %:')\n",
"n=1/(1-((log(t2/t1))/(log(p2/p1))));........//Index of compression\n",
"IP=(n/(n-1))*(ma/60)*(R/1000)*t1*(((p2/p1)^((n-1)/n))-1);..........//Indicated power in kW\n",
"disp(IP,'Indicated power in kW:')\n",
"Piso=((ma/60)*(R/1000)*t1*(log(p2/p1)));..........//Isothermal power\n",
"etaiso=Piso/IP;..............//Isothermal efficiency\n",
"disp(etaiso*100,'Isothermal efficiency in %:')\n",
"etamech=IP/Ps;...........//Mechanical efficiency\n",
"disp(etamech*100,'Mechanical efficiency in %:')\n",
"etao=Piso/Ps;........//Overall efficiency\n",
"disp(etao*100,'Overall efficiency in %:')\n",
""
   ]
   }
,
{
		   "cell_type": "markdown",
		   "metadata": {},
		   "source": [
			"## Example 20.5: Low_pressure_water_jacketed_rotary_compressor.sce"
		   ]
		  },
  {
"cell_type": "code",
	   "execution_count": null,
	   "metadata": {
	    "collapsed": true
	   },
	   "outputs": [],
"source": [
"clc;funcprot(0);//EXAMPLE 20.5\n",
"// Initialisation of Variables\n",
"ma=6.75;.........//Mass of air compressed in kg/min\n",
"p1=1;............//Initial pressure in atm\n",
"cp=1.003;.........//Specifc heat at constant vpressure in kJ/kgK\n",
"t1=21;...........//Initial temperature in Celsius\n",
"t2=43;..........//Final temperature in Celsius\n",
"rp=1.35;.........//Pressure ratio\n",
"ga=1.4;.........//Ratio os specific heats\n",
"delt=3.3;.......//Change in temperature \n",
"cpw=4.18;.......//Specific heat for water in kJ/kgK\n",
"//Calculations\n",
"W=ma*cp*(t2-t1);............//Work output in kJ\n",
"disp(W,'Work output in kW:')\n",
"t21=(t1+273)*(rp^((ga-1)/ga));...........//Final temperature if the compression had been isentropic\n",
"Qr=ma*cp*(t21-(t2+273));............//Heat rejected in kJ\n",
"mw=Qr/(cpw*delt);........//Mass of cooling water in kg/min\n",
"disp(mw,'Mass of cooling water in kg/min:')"
   ]
   }
,
{
		   "cell_type": "markdown",
		   "metadata": {},
		   "source": [
			"## Example 20.6: Single_stage_double_acting_compressor.sce"
		   ]
		  },
  {
"cell_type": "code",
	   "execution_count": null,
	   "metadata": {
	    "collapsed": true
	   },
	   "outputs": [],
"source": [
"clc;funcprot(0);//EXAMPLE 20.6\n",
"// Initialisation of Variables\n",
"ma=14;........//Quantity of air delivered in kg/min\n",
"p1=1.013;......//Intake pressure in bar\n",
"t1=288;.........//Intake temperature in K\n",
"p2=7;...........//Delivery pressure in bar\n",
"N=300;..........//Compressor rpm\n",
"pervc=0.05;.......//Percentage of clearance volume in the total stroke volume\n",
"n=1.3;............//Compressor and expansion index\n",
"//Calculations\n",
"V1byVs=pervc+1;\n",
"v1minv4=ma/(N*2);v4byv3=((p2/p1)^(1/n));v4byvs=v4byv3*pervc;Vs=v1minv4/(V1byVs-v4byvs);.....//Swept volume in m^3\n",
"disp(Vs,'Swept volume in m^3:')\n",
"t2=t1*((p2/p1)^((n-1)/n));........//Delivery Temperature in K\n",
"disp(t2,'Delivery temperature in K:')\n",
"IP=((n)/(n-1))*p1*(10^5)*((ma)/(60*1000))*(((p2/p1)^((n-1)/n))-1);\n",
"disp(IP,'Indicated Power in kW:')"
   ]
   }
,
{
		   "cell_type": "markdown",
		   "metadata": {},
		   "source": [
			"## Example 20.7: Single_stage_double_acting_compressor.sce"
		   ]
		  },
  {
"cell_type": "code",
	   "execution_count": null,
	   "metadata": {
	    "collapsed": true
	   },
	   "outputs": [],
"source": [
"clc;funcprot(0);//EXAMPLE 20.7\n",
"// Initialisation of Variables\n",
"FAD=14;...........//Free air delivered in m^3/min\n",
"p1=0.95;.........//Induction pressure in bar\n",
"t1=305;........//Induction temperature in K\n",
"p2=7;...........//Delivery pressure in bar\n",
"n=1.3;...........//Adiabatic index\n",
"VcbyVs=0.05;........//Ratio of clearance volume and swept volume\n",
"R=287;...........//Gas constant in J/kgK\n",
"t=288;...........//free air temperature in K\n",
"p=1.013;.........//free air pressure in bar\n",
"//Calculations\n",
"m=(p*100000*FAD)/(R*t);..........//Mass delivered per min in kg\n",
"t2=t1*((p2/p1)^((n-1)/n));\n",
"IP=((n/(n-1))*m*(R/1000)*(t2-t1))/60;.........//Indicated power in kW\n",
"disp(IP,'Indicated power in kW:')\n",
"v4byv3=(p2/p1)^(1/n);v4byvs=v4byv3*VcbyVs;v1minv4=(1+VcbyVs)-v4byvs;\n",
"Vbyvs=v1minv4*(t/t1)*(p1/p);\n",
"etav=Vbyvs/1;.............//Volumetric efficiency\n",
"disp(etav*100,'Volumetric efficiency in %:')\n",
""
   ]
   }
,
{
		   "cell_type": "markdown",
		   "metadata": {},
		   "source": [
			"## Example 20.8: Single_stage_double_acting_compressor.sce"
		   ]
		  },
  {
"cell_type": "code",
	   "execution_count": null,
	   "metadata": {
	    "collapsed": true
	   },
	   "outputs": [],
"source": [
"clc;funcprot(0);//EXAMPLE 20.8\n",
"// Initialisation of Variables\n",
"FAD=16;.......//Free air delivered in m^3/min\n",
"p1=0.96;......//Suction pressure in bar\n",
"t1=303;.......//Suction temperature in K\n",
"n=1.3;........//Compression index\n",
"k=0.04;........//Clearance ratio\n",
"p2=6;.........//Delivery pressure in bar\n",
"etamech=0.9;...//Mechanical efficiency\n",
"vp=300;.......//Piston speed in m/min\n",
"N=500;........//Compressor rpm\n",
"p=1;.....//Ambient pressure in bar\n",
"t=288;.....//Ambient temperature in K\n",
"etac=0.85;...//Compressor efficiency\n",
"R=0.287;......//Universal gas constant\n",
"//Calculations\n",
"m=(p*10^5*FAD)/(R*1000*t);...........//Mass flow rate of compressor in kg/min\n",
"t2=t1*((p2/p1)^((n-1)/n));.....//Temperature at the end of compression in K\n",
"P=(n/(n-1))*(m/60)*R*(t2-t1)*(1/etamech)*(1/etac);..........//Power input to compressor in kW\n",
"disp(P,'Power input to compressor in kW:')\n",
"L=vp/(2*N);.........//Stroke in m\n",
"disp(L*1000,'Compressor stroke in mm:')\n",
"etav=((t/t1)*(p1/p)*(1+k-(k*((p2/p1)^(1/n)))));........//Volumetric efficiency\n",
"D=sqrt(FAD/((%pi/4)*L*N*2*etav));...........//Compressor bore in m\n",
"disp(D*1000,'Compressor bore in mm:')"
   ]
   }
,
{
		   "cell_type": "markdown",
		   "metadata": {},
		   "source": [
			"## Example 20.9: Single_stage_single_acting_compressor.sce"
		   ]
		  },
  {
"cell_type": "code",
	   "execution_count": null,
	   "metadata": {
	    "collapsed": true
	   },
	   "outputs": [],
"source": [
"clc;funcprot(0);//EXAMPLE 20.9\n",
"// Initialisation of Variables\n",
"m=0.6;..........//Mass of air delivered in kg/min\n",
"p2=6;.........//Delivery pressure in bar\n",
"p1=1;..........//Induction pressure in bar\n",
"t1=303;........//Induction temperature in K\n",
"D=0.1;.........//Compressor bore in m\n",
"L=0.15;........//Compressor stroke in m\n",
"k=0.03;........//Clearance ratio\n",
"etamech=0.85;....//Mechanical efficiency\n",
"R=0.287;.......//Gas constant in kJ/kgK\n",
"n=1.3;........//Compression index\n",
"//Calculations\n",
"etav=(1+k)-(k*((p2/p1)^(1/n)));..........//Volumetric efficiency\n",
"disp(etav*100,'Volumetric efficiency in %:')\n",
"IP=(n/(n-1))*(m/60)*R*t1*(((p2/p1)^((n-1)/n))-1);.........//Indicated power in kW\n",
"P=IP/etamech;...........//Power required to drive the compressor in kW\n",
"disp(P,'Power required to drive the compressor in kW:')\n",
"FAD=(m*R*t1*1000)/(p1*10^5);...........//Free air delivery in m^3/min\n",
"Vd=FAD/etav;........//Displacement volume in m^3/min\n",
"N=Vd/((%pi/4)*D*D*L);.........//Compressor rpm\n",
"disp(N,'Compressor rpm:')"
   ]
   }
],
"metadata": {
		  "kernelspec": {
		   "display_name": "Scilab",
		   "language": "scilab",
		   "name": "scilab"
		  },
		  "language_info": {
		   "file_extension": ".sce",
		   "help_links": [
			{
			 "text": "MetaKernel Magics",
			 "url": "https://github.com/calysto/metakernel/blob/master/metakernel/magics/README.md"
			}
		   ],
		   "mimetype": "text/x-octave",
		   "name": "scilab",
		   "version": "0.7.1"
		  }
		 },
		 "nbformat": 4,
		 "nbformat_minor": 0
}
