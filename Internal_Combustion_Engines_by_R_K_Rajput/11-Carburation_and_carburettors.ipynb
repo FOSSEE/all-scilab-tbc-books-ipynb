{
"cells": [
 {
		   "cell_type": "markdown",
	   "metadata": {},
	   "source": [
       "# Chapter 11: Carburation and carburettors"
	   ]
	},
{
		   "cell_type": "markdown",
		   "metadata": {},
		   "source": [
			"## Example 11.10: Fuel_consumption_and_air_velocity_through_tube.sce"
		   ]
		  },
  {
"cell_type": "code",
	   "execution_count": null,
	   "metadata": {
	    "collapsed": true
	   },
	   "outputs": [],
"source": [
"clc;funcprot(0);//EXAMPLE 11.10\n",
"// Initialisation of Variables\n",
"d=0.11;..................//Engine bore in m\n",
"l=0.11;..................//Engine length in m\n",
"da=0.042;................//Throat diameter of the choke tube in m\n",
"N=3000;..................//Engine rpm\n",
"etaV=0.75;...............//Volumetric efficiency\n",
"Ra=287;..................//Gas constant for air in J/kgK\n",
"Rv=97;...................//Gas constant for fuel vapour in J/kgK\n",
"t=273;....................//Temperature in Kelvin\n",
"p=1.013;...................//Pressure in bar\n",
"delpa=0.12;.................//Pressure depression in bar\n",
"t2=273+15;...................//Temperature at throat\n",
"n=8;........................//No of cylinders\n",
"mO=32;.......................//Mass of Oxygen molecule in amu\n",
"mC=12;........................//Mass of Carbon molecule in amu\n",
"mH=1;.......................//Mass of Hydrogen molecule in amu\n",
"cC=84;......................//Composition of carbon in %\n",
"cH2=16;.....................//Composition of Hydrogen in % \n",
"//Calculations\n",
"Vfm=(%pi/4)*d*d*l*n*(N/2)*etaV;.....................//Volume of fuel mixture supplied in m^3/min\n",
"afr=((cC*(mO/mC))+(cH2*(mO/(4*mH))))/23;..................//Air fuel ratio\n",
"va=(Ra*t)/(p*10^5);.....................//Volume of 1 kg of air in m^3/kg\n",
"vf=(Rv*t)/(p*10^5);......................//Volume of 1 kg of fuel vapour in m^3/kg\n",
"fc=(Vfm/((afr*va)+vf))*60;...............//Fuel consumption in kg/h\n",
"disp(fc,'Fuel consumption (in kg/h):')\n",
"rhoa=((p-delpa)*10^5)/(Ra*t2);...............//Density of air at the throat in kg/m^3\n",
"Ca=(afr*(fc/3600))/((%pi/4)*da*da*rhoa);................//Velocity of air at the throat in m/s\n",
"disp(Ca,'Velocity of air at the throat (in m/s):')"
   ]
   }
,
{
		   "cell_type": "markdown",
		   "metadata": {},
		   "source": [
			"## Example 11.11: Air_fuel_ratio_at_a_given_altitude.sce"
		   ]
		  },
  {
"cell_type": "code",
	   "execution_count": null,
	   "metadata": {
	    "collapsed": true
	   },
	   "outputs": [],
"source": [
"clc;funcprot(0);//EXAMPLE 11.11\n",
"// Initialisation of Variables\n",
"a=4500;.................//Altitude\n",
"afr=14;...............//Air fuel ratio at sea level\n",
"t1=25;...........//Temperature at sea level in Celsius\n",
"p1=1.013;...........//Pressure at sea level in bar\n",
"//Calculations\n",
"t2=t1-(0.0064*a);.........................//Temperature at the given altitude using the given formula in Celsius\n",
"p2=p1/(10^(a/19300));....................//Pressure at the given altitude using the given formula in bar\n",
"afr2=afr*sqrt((p2*(t1+273))/(p1*(t2+273)));...................//Air fuel ratio at the altitude\n",
"disp(afr2,'Air fuel ratio at the altitude:')"
   ]
   }
,
{
		   "cell_type": "markdown",
		   "metadata": {},
		   "source": [
			"## Example 11.1: Suction_at_throat.sce"
		   ]
		  },
  {
"cell_type": "code",
	   "execution_count": null,
	   "metadata": {
	    "collapsed": true
	   },
	   "outputs": [],
"source": [
"clc;funcprot(0);//EXAMPLE 11.1\n",
"// Initialisation of Variables\n",
"d=0.1;..................//Cylinder bore in m\n",
"l=0.12;................//Cylinder stroke in m\n",
"N=1800;..................//Engine rpm\n",
"d2=0.028;................//Throat diameter in m\n",
"Cda=0.8;................//Co efficient of air flow\n",
"etaV=0.75;..................//Volumetric efficiency\n",
"rhoa=1.2;................//Density of air in kg/m^3\n",
"n=4;.......................//No of cylinders\n",
"//Calculations\n",
"Vs=(%pi/4)*d*d*l*n;.................//Stroke Volume in m^3\n",
"Va=etaV*Vs;.......................//Actual volume per stroke in m^3\n",
"Vas=Va*(N/2)*(1/60);.............//Actual volume sucked per second\n",
"ma=Vas*rhoa;.........................//Air consumed in kg/sec\n",
"delp=((ma/(Cda*(%pi/4)*d2*d2))^2)/(2*rhoa);.............//Suction at throat in N/m^2\n",
"disp(delp,'Suction at throat (in N/m^2):')"
   ]
   }
,
{
		   "cell_type": "markdown",
		   "metadata": {},
		   "source": [
			"## Example 11.2: Depression_in_Venturi_throat_and_throat_area.sce"
		   ]
		  },
  {
"cell_type": "code",
	   "execution_count": null,
	   "metadata": {
	    "collapsed": true
	   },
	   "outputs": [],
"source": [
"clc;funcprot(0);//EXAMPLE 11.2\n",
"// Initialisation of Variables\n",
"cp=5;.................//Consumption of petrol in kg/h\n",
"afr = 16;...............//Air fuel ratio\n",
"Af=2*10^(-6);..............//Fuel orifice area in m^2\n",
"z=0.005;................//Distance between tip of jet and level of petrol in float chamber in m\n",
"spgrp=0.75;..............//Specific gravity of petrol\n",
"rhow=1000;.................//Density of water in kg/m^3\n",
"rhoa=1.2;....................//Density of air in kg/m^3\n",
"Cda=0.8;...............//Coefficient of discharge for venturi throat\n",
"g=9.81;...............//Acceleration due to gravity in m/sec^2\n",
"//Calculations\n",
"mf=cp/3600;.................//Fuel consumed in kg/sec\n",
"delp=(((mf/(Af*Cda))^2)*(1/(2*spgrp*rhow)))+(g*z*spgrp*rhow);\n",
"disp(delp,'Suction at the throat in (N/m^2)')\n",
"ma=mf*afr;................//Air flow rate\n",
"Atsqr=((ma/Cda)^2)*(1/(2*rhoa*delp));....................//Throat area in m^2\n",
"disp(sqrt(Atsqr)*10^4,'Throat area (in cm^2)')"
   ]
   }
,
{
		   "cell_type": "markdown",
		   "metadata": {},
		   "source": [
			"## Example 11.3: Diameter_of_the_fuel_jet.sce"
		   ]
		  },
  {
"cell_type": "code",
	   "execution_count": null,
	   "metadata": {
	    "collapsed": true
	   },
	   "outputs": [],
"source": [
"clc;funcprot(0);//EXAMPLE 11.3\n",
"// Initialisation of Variables\n",
"pc=7.2;.................//Petrol consumed in kg/h\n",
"spgrp=0.75;................//Specific gravity of fuel\n",
"rhow=1000;.................//Density of water in kg/m^3\n",
"t1=300;...................//Temperature of air in Kelvin\n",
"afr=15;....................//Air fuel ratio\n",
"d2=0.024;....................//Diameter of choke tube in m\n",
"z=0.0042;...................//The height of the jet above petrol level in float chamber in m\n",
"Cda=0.8;....................//Coefficient of discharge for air\n",
"Cdf=0.7;.....................//Coefficient of discharge for fuel\n",
"p1=1.013;.....................//Atmospheric pressure in bar\n",
"g=9.81;.......................//Acceleration due to gravity in m/s^2\n",
"R=287;........................//Gas constant in J/kg.K\n",
"//calculations\n",
"mf=pc/3600;....................//Rate of fuel consumption in kg/sec\n",
"rhof=spgrp*rhow;...............//Density of fuel in kg/m^3\n",
"rhoa=(p1*10^5)/(R*t1);............//Density of air in kg/m^3\n",
"ma=mf*afr;.......................//Air flow rate \n",
"delpa=((ma/(Cda*(%pi/4)*d2^2))^2)*(1/(2*rhoa));....................//Suction in N/m^2\n",
"df=sqrt((mf/sqrt(2*rhof*(delpa-(g*z*rhof))))*(1/(Cdf*(%pi/4))));.................//Diameter of fuel jet in m\n",
"disp(df*1000,'Diameter of the fuel jet (in mm):')"
   ]
   }
,
{
		   "cell_type": "markdown",
		   "metadata": {},
		   "source": [
			"## Example 11.4: Venturi_depression_and_diameter_and_velocity_of_air_across_venturi.sce"
		   ]
		  },
  {
"cell_type": "code",
	   "execution_count": null,
	   "metadata": {
	    "collapsed": true
	   },
	   "outputs": [],
"source": [
"clc;funcprot(0);//EXAMPLE 11.4\n",
"// Initialisation of Variables\n",
"pc=5.45;......................//Petrol consumption in kg/h\n",
"afr=15;......................//Air fuel ratio\n",
"af=2*10^(-6);................//Fuel jet orifice area in m^2\n",
"z=0.00635;...................//Distance between tip of fuel jet and level of petrol in the float chamber in m\n",
"Cda=0.8;............................//Coefficient of discharge of venturi throat\n",
"rhoa=1.29;........................//Density of air in kg/m^3\n",
"spgrp=0.72;........................//Specific gravity of fuel\n",
"rhow=1000;.........................//Density of water in kg/m^3\n",
"g=9.81;..............................//Acceleration due to gravity in m/s^2\n",
"Cdf=0.75;........................//Coefficient of discharge of the fuel\n",
"//calculations\n",
"mf=pc/3600;....................//Fuel consumed in kg/sec\n",
"rhof=spgrp*rhow;...............//Density of fuel in kg/m^3\n",
"delp=(((mf/(af*Cdf))^2)*(1/(2*rhof)))+(g*z*rhof);......................//Depression in venturi throat in N/m^2\n",
"h2odep=delp/(g*1000);................................//Depression in venturi throat in cm of Water\n",
"disp(h2odep*100,'Suction at the throat (in cm of Water):')\n",
"ma=mf*afr;................//Air flow rate\n",
"At=sqrt(((ma/Cda)^2)*(1/(2*rhoa*delp)));....................//Throat area in m^2\n",
"dt=sqrt(At/(%pi/4));........................................//Throat diameter in m\n",
"disp(dt*100,'Throat area (in cm):')\n",
"Ct=sqrt((2*g*z*rhof)/rhoa);..........................//Velocity of air across the venturi throat in m/sec\n",
"disp(Ct,'Velocity of air across the venturi throat (in m/s):')\n",
""
   ]
   }
,
{
		   "cell_type": "markdown",
		   "metadata": {},
		   "source": [
			"## Example 11.5: Throat_pressure_with_respct_to_air_cleaner.sce"
		   ]
		  },
  {
"cell_type": "code",
	   "execution_count": null,
	   "metadata": {
	    "collapsed": true
	   },
	   "outputs": [],
"source": [
"clc;funcprot(0);//EXAMPLE 11.5\n",
"// Initialisation of Variables\n",
"afr=15;.....................//Air fuel ratio\n",
"p1=1;.........................//Atmospheric pressure in bar\n",
"p2=0.8;.......................//Pressure at venturi throat in bar\n",
"pd=30;....................//Pressure drop to air cleaner in mm of Hg\n",
"rhohg=13600;....................//Density of Hg in kg/m^3\n",
"af=240;........................//Air flow at sea level in kg/h\n",
"g=9.81;.....................//Acceleration due to gravity in m/s^2\n",
"//calculations\n",
"delpa=p1-p2;........................//When there is no air cleaner\n",
"pt=1-(rhohg*g*(pd/1000)*10^(-5))-delpa;..........................//Throat pressure in bar\n",
"disp(pt,'Throat pressure (in bar):')\n",
"afrn=afr*sqrt(delpa/(p1-pt));...............................//Air fuel ratio when the air cleaner is fitted\n",
"disp(afrn,'Air fuel ratio when the air cleaner is fitted:')\n",
""
   ]
   }
,
{
		   "cell_type": "markdown",
		   "metadata": {},
		   "source": [
			"## Example 11.6: Throat_diameter.sce"
		   ]
		  },
  {
"cell_type": "code",
	   "execution_count": null,
	   "metadata": {
	    "collapsed": true
	   },
	   "outputs": [],
"source": [
"clc;funcprot(0);//EXAMPLE 11.6\n",
"// Initialisation of Variables\n",
"as=4.6;........................//Air supply in kg/min\n",
"p1=1.013;.......................//Atmospheric pressure in bar\n",
"t1=298;......................//Atmospheric temperature in Kelvin\n",
"C2=80;........................//Air flow velocity in m/s\n",
"Cv=0.8;....................//Velocity co efficient\n",
"ga=1.4;........................//Degree of freedom of gas\n",
"R=0.287;........................//Gas constant in kJ/kgK\n",
"//Calculations\n",
"cp=R*(ga/(ga-1));.......................//Specific heat capacity of air in kJ/kgK\n",
"p2=((1-(((C2/Cv)^2)*(1/(2*cp*1000*t1))))^(ga/(ga-1)))*p1;...................//Throat pressure in bar\n",
"rho1=(p1*10^5)/(R*1000*t1);\n",
"rho2=rho1*(p2/p1)^(1/ga);\n",
"ma=as/60;...................//Air flow in kg/s\n",
"A2=ma/(rho2*C2);.................//Throat area in m^2\n",
"d2=sqrt((4*A2)/%pi);................//Throat diameter in m\n",
"disp(d2,'Throat diameter in m')"
   ]
   }
,
{
		   "cell_type": "markdown",
		   "metadata": {},
		   "source": [
			"## Example 11.7: Throat_diameter_and_orifice_diameter.sce"
		   ]
		  },
  {
"cell_type": "code",
	   "execution_count": null,
	   "metadata": {
	    "collapsed": true
	   },
	   "outputs": [],
"source": [
"clc;funcprot(0);//EXAMPLE 11.7\n",
"// Initialisation of Variables\n",
"as=6;........................//Air supply in kg/min\n",
"fs=0.45;..........................//Fuel supply in kg/min\n",
"p1=1.013;.......................//Atmospheric pressure in bar\n",
"t1=300;......................//Atmospheric temperature in Kelvin\n",
"rhof=740;......................//Density of fuel in kg/m^3\n",
"C2=92;........................//Air flow velocity in m/s\n",
"Cda=0.8;....................//Velocity co efficient\n",
"Cdf=0.6;.........................//Coefficient of discharge for fuel\n",
"ga=1.4;........................//Degree of freedom of gas\n",
"r=0.75;......................//ratio of pressure drop across venturi and of that of choke\n",
"R=0.287;........................//Gas constant in kJ/kgK\n",
"//Calculations\n",
"ma=as/60;.................................//Air flow in kg/s\n",
"mf=fs/60;.................................//Fuel flow in kg/s\n",
"cp=R*(ga/(ga-1));.......................//Specific heat capacity of air in kJ/kgK\n",
"p2=((1-(((C2/Cda)^2)*(1/(2*cp*1000*t1))))^(ga/(ga-1)))*p1;...................//Throat pressure in bar\n",
"v1=(R*t1*1000)/(p1*10^5);\n",
"v2=v1*(p1/p2)^(1/ga);................//specific volume in m^3/kg\n",
"A2=(ma*v2)/(C2);.................//Throat area in m^2\n",
"d2=sqrt((4*A2)/%pi);................//Throat diameter in m\n",
"disp(d2*100,'Throat diameter (in cm):')\n",
"pdv=p1-p2;..........//Pressure drop at venturi in bar\n",
"pdj=r*pdv;.............//Pressure drop at jet in bar\n",
"Af=((mf/Cdf)*(1/sqrt(2*rhof*pdj*10^5)));.............//Area of orifice in m^2\n",
"df=sqrt((4*Af)/%pi);................//Orifice diameter in m\n",
"disp(df,'Orifice diameter (in cm):')\n",
"\n",
"\n",
""
   ]
   }
,
{
		   "cell_type": "markdown",
		   "metadata": {},
		   "source": [
			"## Example 11.8: Choke_diameter_and_fuel_jet_diameter.sce"
		   ]
		  },
  {
"cell_type": "code",
	   "execution_count": null,
	   "metadata": {
	    "collapsed": true
	   },
	   "outputs": [],
"source": [
"clc;funcprot(0);//EXAMPLE 11.8\n",
"// Initialisation of Variables\n",
"Vs=1489*10^(-6);.......................//Capacity of engine in m^3\n",
"N=4200;...............//Engine rpm at which max speed is developed\n",
"etaV=0.75;.....................//Volumetric efficiency\n",
"afr=13;........................//air fuel ratio\n",
"Ct=85;..........................//Theoretical air speed at peak power in m/s\n",
"C2=Ct;\n",
"Cda=0.82;....................//Coefficient of discharge for the venturi\n",
"Cdf=0.65;....................//Coefficient of discharge of main petrol jet\n",
"spgr=0.74;..................//Specific gravity of petrol\n",
"z=0.006;.................................//Level of petrol surface below choke\n",
"p1=1.013;......................//Atmospheric pressure in bar\n",
"t1=293;.........................//Atmospheric temperature in Kelvin\n",
"r=0.4;.............................//Ratio of diameter of emulsion tube to choke diameter\n",
"R=0.287;.............................//Gas constant in kJ/kgK\n",
"ga=1.4;..............................//Degree of freedom for air\n",
"g=9.81;..............................//Acceleration due to gravity in m/s^2\n",
"rhow=1000;...........................//Density of water in kg/m^3\n",
"//calculations\n",
"rhof=rhow*spgr;............................//Density of fuel in kg/m^3\n",
"Va=(etaV*Vs*N)/(60*2);.....................//Volume of air induced in m^3/s\n",
"ma=(p1*10^5*Va)/(R*t1*1000);...............//mass flow of air in kg/s\n",
"cp=R*(ga/(ga-1));.......................//Specific heat capacity of air in kJ/kgK\n",
"p2=((1-(((C2)^2)*(1/(2*cp*1000*t1))))^(ga/(ga-1)))*p1;...................//Throat pressure in bar\n",
"pt=p2;\n",
"vt=Va*(p1/p2)^(1/ga);.....................//Volume flow of air at choke in m^3/s\n",
"At=vt/(Ct*Cda);...................//Area of emulsion tube in m\n",
"D=sqrt((4*At*10^6)/(%pi*(1-r^2)));...................//Diameter of choke in mm\n",
"disp(D,'Diameter of choke (in mm):')\n",
"mf=ma/afr;..................//Mass flow of fuel in kg/s\n",
"delpa=(p1-p2)*10^5;\n",
"df=sqrt((mf/sqrt(2*rhof*(delpa-(g*z*rhof))))*(1/(Cdf*(%pi/4))));.................//Diameter of fuel jet in m\n",
"disp(df*1000,'Diameter of the fuel jet (in mm):')\n",
""
   ]
   }
,
{
		   "cell_type": "markdown",
		   "metadata": {},
		   "source": [
			"## Example 11.9: Air_fuel_ratio_with_respect_to_nozzle_lip.sce"
		   ]
		  },
  {
"cell_type": "code",
	   "execution_count": null,
	   "metadata": {
	    "collapsed": true
	   },
	   "outputs": [],
"source": [
"clc;funcprot(0);//EXAMPLE 11.9\n",
"// Initialisation of Variables\n",
"da=0.018;..........................//Throat Diameter in m\n",
"df=0.0012;......................//Diameter of fuel orifice in m\n",
"Cda=0.82;.................//Coefficient of air flow\n",
"Cdf=0.65;......................//Coefficient of fuel flow\n",
"z=0.006;........................//Level of petrol surface below the throat\n",
"rhoa=1.2;.......................//density of air in kg/m^3\n",
"rhof=750;.........................//density of fuel in kg/m^3\n",
"g=9.81;........................//Acceleration due to gravity in m/s^2\n",
"delp=0.065*10^5;...................//Pressure drop in N/m^2\n",
"//Calculations\n",
"afr1=(Cda/Cdf)*((da/df)^2)*sqrt(rhoa/rhof);..................//Air fuel ratio when the nozzle lip is neglected\n",
"disp(afr1,'Air fuel ratio when the nozzle lip is neglected:')\n",
"afr2=afr1*sqrt(delp/(delp-(g*z*rhof)));.....................//Air fuel ratio when nozzle lip is taken into account\n",
"disp(afr2,'Air fuel ratio when nozzle lip is taken into account:')\n",
"C2=sqrt((2*g*z*rhof)/rhoa);.........................//Minimum velocity of air in m/s\n",
"disp(C2,'Minimum velocity of air (in m/s):')"
   ]
   }
],
"metadata": {
		  "kernelspec": {
		   "display_name": "Scilab",
		   "language": "scilab",
		   "name": "scilab"
		  },
		  "language_info": {
		   "file_extension": ".sce",
		   "help_links": [
			{
			 "text": "MetaKernel Magics",
			 "url": "https://github.com/calysto/metakernel/blob/master/metakernel/magics/README.md"
			}
		   ],
		   "mimetype": "text/x-octave",
		   "name": "scilab",
		   "version": "0.7.1"
		  }
		 },
		 "nbformat": 4,
		 "nbformat_minor": 0
}
