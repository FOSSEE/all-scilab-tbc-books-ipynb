{
"cells": [
 {
		   "cell_type": "markdown",
	   "metadata": {},
	   "source": [
       "# Chapter 5: Combustion in SI engines"
	   ]
	},
{
		   "cell_type": "markdown",
		   "metadata": {},
		   "source": [
			"## Example 5.1: Time_for_combustion_process_and_total_crank_rotation.sce"
		   ]
		  },
  {
"cell_type": "code",
	   "execution_count": null,
	   "metadata": {
	    "collapsed": true
	   },
	   "outputs": [],
"source": [
"clc;funcprot(0);//EXAMPLE 5.1\n",
"// Initialisation of Variables\n",
"d=10.2;............//Engine bore in cm\n",
"spo=0.6;............//Spark plug offset in cm\n",
"vf=15.8;............//Average flame speed in m/s\n",
"thetas=20;.............//The angle of the crank when spark plug is fired\n",
"theta=6.5;..........//Angle by which the Engine rotates for combustion to develop (degree)\n",
"N=1200;................//Engine rpm\n",
"//calculations\n",
"dmax=(0.5*d)+spo;.........//Max distance of flame travel in cm\n",
"tf=(dmax)/(vf*100);................//Time of flame travel in seconds\n",
"degs=(N/60)*360;...................//Conversion of engine rpm into degree/second\n",
"ctheta=tf*degs;...............//Crank angle for flame travel in degree\n",
"tc=theta/degs;..................//time for combustion to develop in seconds\n",
"top=tf+tc;......................//Time for one combustion process in seconds\n",
"thetatot=theta+ctheta;................//Total crank rotation in degree\n",
"thetacp = thetatot-thetas;..........//Crank position\n",
"disp(top,'Time for one combustion process in seconds:')\n",
"disp(thetacp,'The crank position is (in degree):')"
   ]
   }
,
{
		   "cell_type": "markdown",
		   "metadata": {},
		   "source": [
			"## Example 5.2: Time_of_spark.sce"
		   ]
		  },
  {
"cell_type": "code",
	   "execution_count": null,
	   "metadata": {
	    "collapsed": true
	   },
	   "outputs": [],
"source": [
"clc;funcprot(0);//EXAMPLE 5.2\n",
"// Initialisation of Variables\n",
"dp=22;............//Delay period in degree\n",
"cp=17;...............//Combustion period in degree\n",
"dper=14;...............//Delay Percentage\n",
"//Calculations\n",
"thetad=dp/2;.........//Full throttle half speed will result in delay angle being reduced for the same time\n",
"//Thus ignition timing should be arranged so that the total of thetad+cp ends 13 degree after TDC\n",
"tsp=(thetad+cp)-13;............//Time of spark in degree\n",
"disp(tsp,'The time of spark (in Degrees before TDC)')\n",
"//Half throttle half speed will result in an increase of 14% in delay time over that at full throttle half speed \n",
"theta=(dper*thetad)/100;\n",
"dtheta=thetad+theta;............//Delay angle\n",
"tp=dtheta+cp;................//Total period\n",
"tsp=tp-13;..............//\n",
"disp(tsp,'Time of spark (in degrees before TDC)')\n",
""
   ]
   }
],
"metadata": {
		  "kernelspec": {
		   "display_name": "Scilab",
		   "language": "scilab",
		   "name": "scilab"
		  },
		  "language_info": {
		   "file_extension": ".sce",
		   "help_links": [
			{
			 "text": "MetaKernel Magics",
			 "url": "https://github.com/calysto/metakernel/blob/master/metakernel/magics/README.md"
			}
		   ],
		   "mimetype": "text/x-octave",
		   "name": "scilab",
		   "version": "0.7.1"
		  }
		 },
		 "nbformat": 4,
		 "nbformat_minor": 0
}
