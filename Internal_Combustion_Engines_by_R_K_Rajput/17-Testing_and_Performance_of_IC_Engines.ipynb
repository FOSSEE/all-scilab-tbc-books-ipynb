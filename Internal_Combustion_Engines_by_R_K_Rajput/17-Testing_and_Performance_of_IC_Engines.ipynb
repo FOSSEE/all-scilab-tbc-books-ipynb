{
"cells": [
 {
		   "cell_type": "markdown",
	   "metadata": {},
	   "source": [
       "# Chapter 17: Testing and Performance of IC Engines"
	   ]
	},
{
		   "cell_type": "markdown",
		   "metadata": {},
		   "source": [
			"## Example 17.10: BSFC_and_brake_thermal_efficiency.sce"
		   ]
		  },
  {
"cell_type": "code",
	   "execution_count": null,
	   "metadata": {
	    "collapsed": true
	   },
	   "outputs": [],
"source": [
"clc;funcprot(0);//EXAMPLE 17.10\n",
"// Initialisation of Variables\n",
"Db=0.7;.............................//Diameter of brake pulley in m\n",
"d=0.025;............................//Diameter of the rope in m\n",
"W=50;...............................//Load on the tight side of the rope in kg\n",
"S=50;...............................//Spring balance reading in N\n",
"N=900;..............................//Engine rpm\n",
"mf=4;...............................//Rate of fuel consumption in kg/h\n",
"C=44000;............................//Calorific value of fuel in kJ/kg\n",
"g=9.81;.............................//Acceleration due to gravity in m/s^2\n",
"//Calculations\n",
"BP=(((W*g)-S)*%pi*(Db+d)*N)/(60*1000);........................//Brake power in kW\n",
"bsfc=mf/BP;...................................................//Brake specific fuel consumption in kJ/hW-h\n",
"disp(bsfc,'Brake specific fuel consumption (in kJ/hW-h)')\n",
"etathB=(BP*3600)/(mf*C);.............................................//Brake thermal efficiency\n",
"disp(etathB*100,'Brake thermal efficiency:')"
   ]
   }
,
{
		   "cell_type": "markdown",
		   "metadata": {},
		   "source": [
			"## Example 17.11: Indicated_thermal_efficiency_and_brake_power.sce"
		   ]
		  },
  {
"cell_type": "code",
	   "execution_count": null,
	   "metadata": {
	    "collapsed": true
	   },
	   "outputs": [],
"source": [
"clc;funcprot(0);//EXAMPLE 17.11\n",
"// Initialisation of Variables\n",
"n=4;.......................//No of cylinders\n",
"k=0.5;.....................//Four stroke engine\n",
"r=8;.......................//Compression ratio\n",
"d=0.1;.....................//Engine bore in m\n",
"l=0.1;.....................//Engine stroke in m\n",
"etaV=0.75;.................//Volumetric efficiency\n",
"N=4800;....................//Engine rpm\n",
"afr=15;....................//Air fuel ratio\n",
"C=42000000;................//Calorific value of fuel\n",
"rhoa=1.12;.................//Atmospheric density in kg/m^3\n",
"Pmi=10;....................//Mean effective pressure in bar\n",
"etamech=0.8;...............//Mechanical efficiency\n",
"//Calculations \n",
"IP=(n*Pmi*l*(%pi/4)*d*d*N*k*10)/6;.................//Indicated power in kW\n",
"Ac=n*(%pi/4)*d*d*l*(N/2)*(etaV/60);.....................//Air consumption in m^3/s\n",
"ma=Ac*rhoa;........................................//Mass flow of air in kg/s\n",
"mf=ma/afr;.........................................//Mass flow of fuel in kg/s\n",
"etath=(IP*1000)/(mf*C);...................................//Indicated thermal efficiency\n",
"disp(etath*100,'Indicated thermal efficiency (%):')\n",
"BP=IP*etamech;.....................................//Brake Power in kW\n",
"disp(BP,'Brake power (in kW):')"
   ]
   }
,
{
		   "cell_type": "markdown",
		   "metadata": {},
		   "source": [
			"## Example 17.12: Volumetric_efficiency_and_BSFC.sce"
		   ]
		  },
  {
"cell_type": "code",
	   "execution_count": null,
	   "metadata": {
	    "collapsed": true
	   },
	   "outputs": [],
"source": [
"clc;funcprot(0);//EXAMPLE 7.12\n",
"// Initialisation of Variables\n",
"N=1800;...................//Engine rpm\n",
"l=0.11;...................//Engine stroke in m\n",
"d=0.085;..................//Engine bore in m\n",
"ma=0.56;..................//Air flow rate in kg/min\n",
"BP=6;.....................//Brake power developed in kW\n",
"afr=20;...................//Air fuel ratio\n",
"C=42550;..................//Calorific value of fuel in kJ/kg\n",
"rhof=1.18;................//Density of fuel in kg/m^3\n",
"//calculations\n",
"V=(%pi/4)*d*d*l*(N/2);.....................//Volume displacemt in m^3/min\n",
"Ma=V*rhof;.................................//Mass of air in kg/min\n",
"etaV=ma/Ma;................................//Volumetric efficiency\n",
"fc=ma/afr;.................................//Fuel concumption\n",
"bsfc=(fc*60)/BP;...........................//Brake specific fuel consumption in kg/kWh\n",
"disp(etaV*100,'The volumetric efficiency (in %):')\n",
"disp(bsfc,'Brake specific fuel consumption (in kg/kWh):')"
   ]
   }
,
{
		   "cell_type": "markdown",
		   "metadata": {},
		   "source": [
			"## Example 17.13: Mechanical_efficiency.sce"
		   ]
		  },
  {
"cell_type": "code",
	   "execution_count": null,
	   "metadata": {
	    "collapsed": true
	   },
	   "outputs": [],
"source": [
"clc;funcprot(0);//EXAMPLE 17.13\n",
"// Initialisation of Variables\n",
"pmicover=6.5;....................//Mean effective pressure on cover side in bar\n",
"pmicrank=7;......................//Mean effective pressure on crank side in bar\n",
"D=0.2;...........................//Engine bore in m\n",
"l=0.35;..........................//Engine stroke in m\n",
"drod=0.02;.........................//Diameter of piston rod in m\n",
"W=1370;............................//Dead load on the brake in N\n",
"S=145;.............................//Spring balance reading in N\n",
"Db=1.2;............................//Brake wheel diameter in m\n",
"d=0.02;............................//Brake rope diameter in m\n",
"k=0.5;.............................//Four stroke engine\n",
"N=420;.......................//Engine rpm\n",
"//calculations\n",
"Acover=(%pi/4)*D*D;.......................//Area of cylinder on the cover side in m^2\n",
"Acrank=(%pi/4)*((D^2)-(drod^2));..........//Effective area of cylinder on the crank end side in m^2\n",
"IPcover=(pmicover*l*Acover*N*k*10)/6;................//Indicated power on the cover end side in kW\n",
"IPcrank=(pmicrank*l*Acrank*N*k*10)/6;................//Indicated power on the crank end side in kW\n",
"IPtotal=IPcover+IPcrank;....................//TOtal\n",
"BP=((W-S)*%pi*(Db+d)*N)/(60*1000);...................//Brake power in kW\n",
"etamech=BP/IPtotal;..................................//Mechanical efficiency\n",
"disp(etamech*100,'The mechanical efficiency is (%):')"
   ]
   }
,
{
		   "cell_type": "markdown",
		   "metadata": {},
		   "source": [
			"## Example 17.14: Engine_bore_and_stroke.sce"
		   ]
		  },
  {
"cell_type": "code",
	   "execution_count": null,
	   "metadata": {
	    "collapsed": true
	   },
	   "outputs": [],
"source": [
"clc;funcprot(0);//EXAMPLE 17.14\n",
"// Initialisation of Variables\n",
"BP=14.7;........................//Brake power in kW\n",
"p1=0.9;.........................//Suction pressure in bar\n",
"etamech=0.8;....................//Mechanical efficiency\n",
"r=5;............................//Compression ratio\n",
"p3=24;..........................//maximum explosion pressure in bar\n",
"N=1000;.........................//Engine rpm\n",
"rld=1.5;........................//Ratio of length and stroke\n",
"ic=1.35;........................//Index of compression curve\n",
"ie=1.3;.........................//Index of expansion curve\n",
"k=0.5;..........................//Four stroke engine\n",
"//calculations\n",
"p2=(r^ic)*p1;......................//intermediate pressure (in bar) during compression\n",
"p4=p3/(r^ie);......................//Intermediate pressure (in bar) during expansion\n",
"pm=((((p3-r*p4)/(ie-1))-((p2-p1*r)/(ic-1)))*(10^5))/(r-1);...........//Mean effective pressure in N/m^2\n",
"pmb=pm/100000;........................................//Mean effective pressure in bar\n",
"IP=BP/etamech;........................................//Indicated power in kW\n",
"D=((IP*6*4)/(pmb*rld*(%pi)*N*k*10))^(1/3);............//Engine bore in m\n",
"L=rld*D;..............................................//Engine stroke in m\n",
"disp(D*1000,'Engine bore (in mm):')\n",
"disp(L*1000,'Engine stroke (in mm):')"
   ]
   }
,
{
		   "cell_type": "markdown",
		   "metadata": {},
		   "source": [
			"## Example 17.15: EX17_15.sce"
		   ]
		  },
  {
"cell_type": "code",
	   "execution_count": null,
	   "metadata": {
	    "collapsed": true
	   },
	   "outputs": [],
"source": [
"clc;funcprot(0);//EXAMPLE 17.15\n",
"//Initialisation of Variables\n",
"IP=30;........................//Indicated power in kW\n",
"BP=26;........................//Brake power in kW\n",
"N=1000;.......................//Engine rpm\n",
"fpbph=0.35;...................//Fuel per brake power hour in kg/B.P.h\n",
"C=43900;......................//Calorific value of fuel used in kJ/kg\n",
"//Calculations\n",
"mf=BP*fpbph;.............//Fuel consumption per hour in kg/h\n",
"etaIth=IP/((mf/3600)*C);.................//Indicated thermal efficiency\n",
"etaBth=BP/((mf/3600)*C);.................//Indicated brake efficiency\n",
"etamech=BP/IP;...........................//Mechanical efficiency\n",
"disp(etaIth*100,'Indicated thermal efficiency (in %):')\n",
"disp(etaBth*100,'Indicated brake efficiency (in %):')\n",
"disp(etamech*100,'Mechanical efficiency (in %):')"
   ]
   }
,
{
		   "cell_type": "markdown",
		   "metadata": {},
		   "source": [
			"## Example 17.16: BSFC_and_brake_thermal_efficiency.sce"
		   ]
		  },
  {
"cell_type": "code",
	   "execution_count": null,
	   "metadata": {
	    "collapsed": true
	   },
	   "outputs": [],
"source": [
"clc;funcprot(0);//EXAMPLE 17.16\n",
"//Initialisation of Variables\n",
"Db=0.75;.....................//Diameter of brake pulley in m\n",
"d=0.05;......................//Rope diameter in m\n",
"W=400;.......................//Dead load in N\n",
"S=50;........................//Spring balance reading in N\n",
"cf=4.2;......................//Consumption of fuel in kg/h\n",
"N=1000;......................//Engine rpm\n",
"C=43900;.....................//Calorific value of fuel in kJ/kg\n",
"//Calculations\n",
"BP=((W-S)*%pi*(Db+d)*N)/(60*1000);...............//Brake power in kW\n",
"bsfc=cf/BP;......................................//Brake specific fuel consumption  in kg/kWh\n",
"etabth=BP/((cf/3600)*C);.........................//Brake thermal efficiency\n",
"disp(bsfc,'Brake specific fuel consumption  (in kg/kWh):')\n",
"disp(etabth*100,'Brake thermal efficiency (in %):')"
   ]
   }
,
{
		   "cell_type": "markdown",
		   "metadata": {},
		   "source": [
			"## Example 17.17: Fuel_consumption_and_calorific_value_of_fuel.sce"
		   ]
		  },
  {
"cell_type": "code",
	   "execution_count": null,
	   "metadata": {
	    "collapsed": true
	   },
	   "outputs": [],
"source": [
"clc;funcprot(0);//EXAMPLE 17.17\n",
"//Initialisation of Variables\n",
"n=6;.............................//No of cylinders\n",
"D=0.09;..........................//Bore of cylinder in m\n",
"L=0.1;...........................//Stroke length in m\n",
"r=7;.............................//Compression ratio\n",
"etarel=0.55;.....................//Relative efficiency\n",
"isfc=0.3;........................//Indicated specific fuel consumption in kg/kWh\n",
"imep=8.6;........................//Indicated mean effective pressure in bar\n",
"N=2500;..........................//Engine speed\n",
"ga=1.4;..........................//Degree of freedom for air\n",
"k=0.5;...........................//Four stroke engine\n",
"//calculations\n",
"etastan=1-1/(r^(ga-1));...................//Air standard efficiency\n",
"etath=etarel*etastan;.....................//Indicated thermal efficiency \n",
"C=3600/(etath*isfc);.......................//Calorific value of fuel in kJ/kg\n",
"IP=(n*imep*L*D*D*(%pi/4)*N*k*10)/6;................//Indicated power in kW\n",
"fc=IP*isfc;.............................//Fuel consumption in kg/h\n",
"disp (C,'The calorific value of the fuel used (in kJ/kg):')\n",
"disp(fc,'Fuel consumption (kg/h):')"
   ]
   }
,
{
		   "cell_type": "markdown",
		   "metadata": {},
		   "source": [
			"## Example 17.18: Engine_bore_and_stroke_and_Fuel_consumption.sce"
		   ]
		  },
  {
"cell_type": "code",
	   "execution_count": null,
	   "metadata": {
	    "collapsed": true
	   },
	   "outputs": [],
"source": [
"clc;funcprot(0);//EXAMPLE 17.18\n",
"// Initialisation of Variables\n",
"BP=30;........................//Brake power in kW\n",
"pmi=8;.........................//Mean effective pressure in bar\n",
"etamech=0.8;....................//Mechanical efficiency\n",
"n=4;............................//No of cylinders\n",
"N=2500;.........................//Engine rpm\n",
"rld=1.5;........................//Ratio of length and stroke\n",
"etabth=0.28;......................//Brake thermal efficiency\n",
"k=1;..........................//Two stroke engine\n",
"C=43900;.........................//Calorific value of fuel in kJ/kg\n",
"//calculations\n",
"IP=BP/etamech;........................................//Indicated power in kW\n",
"D=((IP*6*4)/(pmi*n*rld*(%pi)*N*k*10))^(1/3);............//Engine bore in m\n",
"L=rld*D;..............................................//Engine stroke in m\n",
"disp(D*1000,'Engine bore (in mm):')\n",
"disp(L*1000,'Engine stroke (in mm):')\n",
"mf=BP/(etabth*C);..............................//Fuel consumption in kg/s\n",
"disp(mf*3600,'Fuel consumption in (kg/h):')"
   ]
   }
,
{
		   "cell_type": "markdown",
		   "metadata": {},
		   "source": [
			"## Example 17.19: Volumetric_efficiency_and_brake_thermal_efficiency_and_brake_torque.sce"
		   ]
		  },
  {
"cell_type": "code",
	   "execution_count": null,
	   "metadata": {
	    "collapsed": true
	   },
	   "outputs": [],
"source": [
"clc;funcprot(0);//EXAMPLE 17.19\n",
"// Initialisation of Variables\n",
"n=6;......................//No of cylinders\n",
"pdpc=700*10^(-6);.................//Piston displacement per cylinder in m^3\n",
"P=78;............................//Power developed in kW\n",
"N=3200;.............................//Engine rpm\n",
"mf=27;.............................//Fuel consumption in kg/h\n",
"C=44000;...........................//Calorific value of fuel in kJ/kg\n",
"afr=12;..............................//Air fuel ratio\n",
"p1=0.9;..........................//Intake air pressure\n",
"pa=p1;\n",
"t1=305;...............................//Intake air temperature\n",
"ta=t1;\n",
"R=0.287;.....................//Gas constant in kJ/kgK\n",
"//Calculations\n",
"ma=afr*mf;............................//maaa of air in kg/h\n",
"Va=(ma*R*t1)/(p1*100);.............//Volume of air intake in m^3/h\n",
"Vs=pdpc*n*(N/2)*60;.....................//Swept volume in m^3/h\n",
"etaV=Va/Vs;.............................//Volumetric efficiency\n",
"disp(etaV*100,'The volumetric efficiency of the engine (in %):')\n",
"etabt=P/(mf*(C/3600));...................//Brake thermal efficiency\n",
"disp(etabt*100,'The brake thermal efficiency of the engine (in %):')\n",
"Tb=(P*60)/(2*%pi*N);..........................//Brake torque in kNm\n",
"disp(Tb,'Brake torque (in kNm):')"
   ]
   }
,
{
		   "cell_type": "markdown",
		   "metadata": {},
		   "source": [
			"## Example 17.1: Indicated_power.sce"
		   ]
		  },
  {
"cell_type": "code",
	   "execution_count": null,
	   "metadata": {
	    "collapsed": true
	   },
	   "outputs": [],
"source": [
"clc;funcprot(0);//EXAMPLE 17.1\n",
"// Initialisation of Variables\n",
"Pmi=6;.....................//Mean effective pressure in bar\n",
"N=1000;....................//Engine rpm\n",
"d=0.11;.....................//Diameter of piston in m\n",
"l=0.14;.....................//Stroke length in m\n",
"n=1;........................//No of cylinders\n",
"k=1;........................//k=1 for two stroke engine\n",
"//Calculations\n",
"V=l*(%pi/4)*d*d;.............//Volume of the cylinder in m^3\n",
"IP=(n*Pmi*V*k*10*N)/6;.........//Indicated Power developed in kW\n",
"disp(IP,'Indicated power developed (in kW):')"
   ]
   }
,
{
		   "cell_type": "markdown",
		   "metadata": {},
		   "source": [
			"## Example 17.20: Average_no_of_misfires_per_min.sce"
		   ]
		  },
  {
"cell_type": "code",
	   "execution_count": null,
	   "metadata": {
	    "collapsed": true
	   },
	   "outputs": [],
"source": [
"clc;funcprot(0);//EXAMPLE 17.20\n",
"// Initialisation of Variables\n",
"n=6;.......................//No of cylinders\n",
"Vs=1.75*10^(-3);..............//Stroke volume in m^3\n",
"IP=26.3;.....................//Indicated power in kW\n",
"Ne=504;.......................//Expected Engine rpm\n",
"Pmi=6;........................//Mean effective pressure in bar\n",
"k=0.5;.........................//Four stroke engine\n",
"//Calculations\n",
"Na=floor((IP*6)/(n*Pmi*Vs*k*10));.......................//Actual Engine rpm\n",
"af=(Na*n)/2;.......................//Actual no of fires in min\n",
"ef=(Ne*n)/2;.......................//Expected no of fires in min\n",
"Nm=ef-af;........................//No of misfires/min\n",
"nm=Nm/n;....................//Average no of times each cylinder misfires in one min\n",
"disp(nm,'Average no of times each cylinder misfires in one min:')"
   ]
   }
,
{
		   "cell_type": "markdown",
		   "metadata": {},
		   "source": [
			"## Example 17.21: Indicated_power_and_indicated_thermal_efficiency.sce"
		   ]
		  },
  {
"cell_type": "code",
	   "execution_count": null,
	   "metadata": {
	    "collapsed": true
	   },
	   "outputs": [],
"source": [
"clc;funcprot(0);//EXAMPLE 17.21\n",
"// Initialisation of Variables\n",
"n=4;.......................//No of cylinders\n",
"D=0.075;.......................//Engine bore in m\n",
"L=0.09;........................//Engine length in m\n",
"err=39/8;.......................//Engine to rear axle ratio\n",
"Dw=0.65;.........................//Wheel diameter in m\n",
"pc=0.227;.......................//Petrol consumption in kg\n",
"pmi=5.625;.........................//Mean effective pressure in bar\n",
"C=43470;..............................//Calorific value of petrol in kJ/kg\n",
"k=0.5;.............................//Four stroke engine\n",
"sc=48;............................//Speed of the car in km/h\n",
"d=3.2;.............................//Distance covered by car in km\n",
"//Calculations\n",
"sc1=sc*(1000/60);...................//Speed of the car in m/min\n",
"Nt=sc1/(%pi*Dw);......................//Revolutions made by tire per min\n",
"Ne=Nt*err;............................//Speed of engine shaft\n",
"IP=(n*pmi*L*(%pi/4)*D*D*Ne*k*10)/6;........//Indicated power in kW\n",
"disp(IP,'Indicated power (in kW):')\n",
"sc2=sc/60;.......................//Speed of the car in km/min\n",
"t=d/sc2;..........................//Time for covering 3.2 km in min\n",
"fc=pc/(t*60);.....................//Fuel consumed per second in kg\n",
"etait=IP/(fc*C);...............//Indicated thermal efficiency\n",
"disp(etait*100,'Indicated thermal efficiency (%):')\n",
"\n",
""
   ]
   }
,
{
		   "cell_type": "markdown",
		   "metadata": {},
		   "source": [
			"## Example 17.22: Finding_all_engine_parameters.sce"
		   ]
		  },
  {
"cell_type": "code",
	   "execution_count": null,
	   "metadata": {
	    "collapsed": true
	   },
	   "outputs": [],
"source": [
"clc;funcprot(0);//EXAMPLE 17.22\n",
"// Initialisation of Variables\n",
"n=1;.................//No of cylinders\n",
"D=0.25;................//Engine bore in m\n",
"L=0.4;.................//Engine stroke in m\n",
"pmg=7;.................//Gross mean effective pressure in bar\n",
"pmp=0.5;...............//Pumping mean effective pressure in bar\n",
"N=250;..................//Engine rpm\n",
"Db=1.5;................//Effective diameter of the brake in m\n",
"Nl=1080;..............//Net load on the brake in N\n",
"fh=10;.................//Fuel used per hour in kg\n",
"C=44300;...............//Calorific value of fuel in kJ/kg\n",
"k=0.5;.................//Four stroke engine\n",
"//Calculations\n",
"mf=fh/3600;.........................//Fuel used per second in kg\n",
"pm=pmg-pmp;.......................//Net pressure\n",
"IP=(n*pm*L*(%pi/4)*D*D*N*k*10)/6;..........///Indicated power in kW\n",
"disp(IP,'Indicated power (in kW):')\n",
"BP=((Nl)*%pi*Db*N)/(60*1000);...............//Brake power in kW\n",
"disp(BP,'Brake power (in kW):')\n",
"etamech=BP/IP;...........................//Mechanical efficiency\n",
"disp(etamech*100,'Mechanical efficiency (in %):')\n",
"etath=IP/(mf*C);.........................//Indicated thermal efficiency\n",
"disp(etath*100,'Indicated thermal efficiency (in %):')"
   ]
   }
,
{
		   "cell_type": "markdown",
		   "metadata": {},
		   "source": [
			"## Example 17.23: Brake_mean_effective_pressure.sce"
		   ]
		  },
  {
"cell_type": "code",
	   "execution_count": null,
	   "metadata": {
	    "collapsed": true
	   },
	   "outputs": [],
"source": [
"clc;funcprot(0);//EXAMPLE 17.23\n",
"// Initialisation of Variables\n",
"etabth=0.3;....................//Brake thermal efficiency\n",
"afrw=20;........................//Air fuel ratio by weight\n",
"C=41800;.........................//Calorific value of fuel used in kJ/kg\n",
"R=287;........................//Gas constant in J/kg\n",
"//Calculations\n",
"Wp=etabth*C;...................//Work produced per kg of fuel in kJ\n",
"p1=1.0132;t=273+15;............//STP conditions in bar and Kelvin\n",
"V=(afrw*t*R)/(p1*10^5);.......//Volume of air used in m^3\n",
"pmb=(Wp*1000)/(V*10^5);........//Brake mean effective pressure in bar\n",
"disp(pmb,'Brake mean effective pressure (in bar):')"
   ]
   }
,
{
		   "cell_type": "markdown",
		   "metadata": {},
		   "source": [
			"## Example 17.24: Volumetric_efficiency.sce"
		   ]
		  },
  {
"cell_type": "code",
	   "execution_count": null,
	   "metadata": {
	    "collapsed": true
	   },
	   "outputs": [],
"source": [
"clc;funcprot(0);//EXAMPLE 17.24\n",
"// Initialisation of Variables\n",
"v1=0.216;.....................//Gas consumption in m^3/min\n",
"pw=75;........................//Pressure of gas in mm of water\n",
"t1=290;......................//Temperature of gas in K\n",
"ac=2.84;....................//Air consumption in kg/min\n",
"br=745;......................//Barometer reading in m of Hg\n",
"D=0.25;.....................//Engine bore in m\n",
"L=0.475;......................//Engine stroke in m\n",
"N=240;........................//Engine rpm\n",
"R=287;......................//Gas constant for air in J/kgK\n",
"//Calculations\n",
"p1=br+(pw/13.6);...................//Pressure of gas in mm of mercury\n",
"p2=760;t2=273;.....................//NTP conditions in mm of Hg and Kelvin\n",
"v2=(p1*v1*t2)/(t1*p2);...............//Volume of gas used at NTP in m^3\n",
"gs=v2/(N/2);.........................//Gas used per stroke in m^3\n",
"v=(ac*R*t2)/(1.0132*10^5);...........//Volume occupied by air at NTP in m^3/min\n",
"aps=v/(N/2);...........................//Air used per stroke\n",
"Va=gs+aps;.....................//Actual volume of mixture in m^3 drawn per stroke at NTP\n",
"Vs=(%pi/4)*D*D*L;...............//Swept volume in mm^3\n",
"etaV=(Va/Vs);...................//Volumetric efficiency\n",
"disp(etaV*100,'Volumetric efficiency (in %):')"
   ]
   }
,
{
		   "cell_type": "markdown",
		   "metadata": {},
		   "source": [
			"## Example 17.25: finding_all_parameters_of_engine.sce"
		   ]
		  },
  {
"cell_type": "code",
	   "execution_count": null,
	   "metadata": {
	    "collapsed": true
	   },
	   "outputs": [],
"source": [
"clc;funcprot(0);//EXAMPLE 17.25\n",
"// Initialisation of Variables\n",
"t=1;...................//Duration of trial in hrs\n",
"Rev=14000;.............//Revolutions\n",
"nmc=500;...............//Number of missed cycles\n",
"bl=1470;................//Net Brake load in N\n",
"mep=7.5;................//Mean effective pressure in bar\n",
"gc=20000;...............//Gas consumption in litres\n",
"lcv=21;.................//LCV of gas at supply condition in kJ/litre\n",
"D=0.25;.................//Engine bore in m\n",
"L=0.4;.................//Engine stroke in m\n",
"r=6.5;..................//Compression ratio\n",
"n=1;......................//No of cylinders\n",
"Cb=4;......................//Effective brake Circumference \n",
"k=0.5;....................//Four stroke engine\n",
"ga=1.4;......................//Degree of freedom\n",
"//Calculations\n",
"N=Rev/60;..............//Engine rpm\n",
"Vg=gc/3600;.............//Fuel consumption in litres/s\n",
"Na=((Rev/2)-nmc)/60;................//Working cycles per min\n",
"IP=(n*mep*L*(%pi/4)*D*D*Na*10)/6;............//indicated power in kW\n",
"disp(IP,'Indicated power (in kW):')\n",
"BP=((bl)*Cb*N)/(60*1000);...............//Brake power in kW\n",
"disp(BP,'Brake power (in kW):')\n",
"etamech=BP/IP;...........................//Mechanical efficiency\n",
"disp(etamech*100,'Mechanical efficiency (in %):')\n",
"etath=IP/(Vg*lcv);.........................//Indicated thermal efficiency\n",
"disp(etath*100,'Indicated thermal efficiency (in %):')\n",
"etast=1-(1/r^(ga-1));............//Air standard efficiency \n",
"etarel=etath/etast;............//Relative efficiency\n",
"disp(etarel*100,'Relative efficiency (in %):')"
   ]
   }
,
{
		   "cell_type": "markdown",
		   "metadata": {},
		   "source": [
			"## Example 17.26: Compression_ratio_and_thermal_efficiency_and_gas_consumption.sce"
		   ]
		  },
  {
"cell_type": "code",
	   "execution_count": null,
	   "metadata": {
	    "collapsed": true
	   },
	   "outputs": [],
"source": [
"clc;funcprot(0);//EXAMPLE 17.26\n",
"// Initialisation of Variables\n",
"n=1.3;...................//Index of compression\n",
"pa=1.4;pb=3.6;posa=(1/4);..........//Point a - the position 1/4 of the stroke\n",
"posb=(3/4);..........//Point b - the position 3/4 of the stroke\n",
"ga=1.4;...............//Degree of freedom for gas\n",
"etarel=0.4;...................//Relative efficiency\n",
"C=18800;....................//Calorific value of fuel in kJ/m^3\n",
"//Calculations\n",
"r=1+((((pb/pa)^(1/n))-1)/(posb-(((pb/pa)^(1/n))*(posa))));.........//Compression ratio\n",
"disp(r,'The compression ratio :')\n",
"etast=1-(1/r^(ga-1));............//Air standard efficiency \n",
"etath=etarel*etast;............//Thermal efficiency\n",
"disp(etath*100,'Thermal efficiency (in %):')\n",
"v=1/(etath*C);...............//Gas consumption per IP sec\n",
"disp(v*3600,'Gas consumption (in m^3/IP hour):')"
   ]
   }
,
{
		   "cell_type": "markdown",
		   "metadata": {},
		   "source": [
			"## Example 17.27: Mean_effective_pressure_developed.sce"
		   ]
		  },
  {
"cell_type": "code",
	   "execution_count": null,
	   "metadata": {
	    "collapsed": true
	   },
	   "outputs": [],
"source": [
"clc;funcprot(0);//EXAMPLE 17.27\n",
"// Initialisation of Variables\n",
"n=6;.....................//No of cylinders\n",
"r=5;..................//Compression ratio\n",
"Vc=0.000115;................//Clearance volume of each cylinder in m^3\n",
"fc=10.5;.....................//Fuel consumed in kg/h\n",
"C=41800;......................//Calorific value of fuel in  kJ/kg\n",
"N=2500;.......................//Engine speed in rpm\n",
"er=0.65;.......................//Efficiency ratio\n",
"ga=1.4;........................//Degree of freedom\n",
"//calculations\n",
"etast=1-(1/r^(ga-1));...............................//Air standard efficiency\n",
"etath=etast*er;.................................//Thermal efficiency\n",
"IP=etath*(fc/3600)*C;..........................//Indicated power in kW\n",
"Wnet=(IP*(10^3)*60)/(n*(N/2));..............//Net work froom one cycle per cylinder in N-m\n",
"Vs=(r-1)*Vc;......................//Swept volume in m^3\n",
"pm=Wnet/(Vs*10^5);...................//Mean effective pressure developed\n",
"disp(pm,'Mean effective pressure developed (in bar):')"
   ]
   }
,
{
		   "cell_type": "markdown",
		   "metadata": {},
		   "source": [
			"## Example 17.28: Indicated_mean_effective_pressure_and_brake_mean_effective_pressure.sce"
		   ]
		  },
  {
"cell_type": "code",
	   "execution_count": null,
	   "metadata": {
	    "collapsed": true
	   },
	   "outputs": [],
"source": [
"clc;funcprot(0);//EXAMPLE 17.28\n",
"// Initialisation of Variables\n",
"D=0.2;.................//Engine bore in m\n",
"L=0.25;...............//Engine stroke in m\n",
"n=2;......................//No of cylinders\n",
"r=13;......................//Compression ratio\n",
"fc=14;..................//Fuel consumption in kg/h\n",
"N=300;....................//Engine rpm\n",
"etarel=0.65;..............//Relative efficiency\n",
"etamech=0.76;.............//Mechanical efficiency\n",
"co=0.05;.....................//Cut off of the stroke\n",
"C=41800;.....................//Calorific value of fuel in kJ/kg\n",
"k=1;........................//Two stroke engine\n",
"ga=1.4;.......................//Degree of freedom\n",
"//calculations\n",
"rho=1+(co*(r-1));\n",
"etast=1-((1/(r^(ga-1)))*(1/ga)*((rho^ga)-1)*(1/(rho-1)));............//Air standard efficiency\n",
"etath=etarel*etast;........................//Thermal efficiency\n",
"IP=etath*(fc/3600)*C;........................//Indicated power in kW\n",
"BP=etamech*IP;................................//Brake power in kW\n",
"pmi=(6*IP)/(n*N*L*(%pi/4)*D*D*k*10);............//mean effective pressure in bar\n",
"disp(pmi,'Mean effective pressure (in bar):')\n",
"pmb=pmi*etamech;...........................//Brake mean effective pressure in bar\n",
"disp(pmb,'Brake mean effective pressure (in bar):')"
   ]
   }
,
{
		   "cell_type": "markdown",
		   "metadata": {},
		   "source": [
			"## Example 17.29: Finding_all_parameters_of_engine.sce"
		   ]
		  },
  {
"cell_type": "code",
	   "execution_count": null,
	   "metadata": {
	    "collapsed": true
	   },
	   "outputs": [],
"source": [
"clc;funcprot(0);//EXAMPLE 17.29\n",
"// Initialisation of Variables\n",
"n=4;.................//No of cylinders\n",
"C=45200;..................//calorific value of fuel in kJ/kg\n",
"etamech=0.82;...............//Mechanical efficiency\n",
"etarel=0.7;.................//Relative efficiency\n",
"etast=0.52;...............//Air standard efficiency\n",
"etav=0.78;...............//Volumetric efficiency\n",
"sbr=1.25;...................//Stroke bore ratio\n",
"N=2400;...................//Engine rpm\n",
"p=1;.......................//Suction pressure in bar\n",
"t=298;....................//Suction temperature in bar\n",
"BP=72;...................//Brake power in kW\n",
"ga=1.4;......................//Degree of freedom\n",
"afr=16;.................//Air fuel ratio\n",
"R=287;.......................//Gas constant in J/kg\n",
"//calculations\n",
"r=(1/(1-etast))^(1/(ga-1));............//Compression ratio\n",
"disp(r,'The compression ratio :')\n",
"etath=etast*etarel;.....................//Indicated thermal efficiency\n",
"disp(etath*100,'Indicated thermal efficiency:')\n",
"IP=BP/etamech;....................//Indicated power in kW\n",
"mf=IP/(etath*C);......................//Fuel consumption in kg/s\n",
"bsfc=mf/BP;......................//Brake specific fuel consumption in kg/kWs\n",
"disp(bsfc*3600,'Brake specific fuel consumption (in kg/kWs):')\n",
"mafm=afr+1;......................//Mass of air fuel mixture in kg/kg of fuel\n",
"mafm1=mafm*mf;....................//Mass of air fuel mixture when mf amount of fuel is supplied to engine per second\n",
"v=(mafm1*R*t)/(p*10^5);.......................///Volume of air fuel mixture supplied to the engine in m^3\n",
"Vs=v/etav;..............................//Swept volume in m^3\n",
"D=((Vs)/((%pi/4)*sbr*n*(N/(2*60))))^(1/3);............//Engine bore in m\n",
"disp(D*1000,'Engine bore (in mm):')\n",
"disp(D*1000*sbr,'Engine stroke (in mm):')"
   ]
   }
,
{
		   "cell_type": "markdown",
		   "metadata": {},
		   "source": [
			"## Example 17.2: Bore_and_Stroke_of_engine.sce"
		   ]
		  },
  {
"cell_type": "code",
	   "execution_count": null,
	   "metadata": {
	    "collapsed": true
	   },
	   "outputs": [],
"source": [
"clc;funcprot(0);//EXAMPLE 17.2\n",
"// Initialisation of Variables\n",
"n=4;........................//No of cylinders\n",
"P=14.7;....................//Power developed in kW\n",
"N=1000;....................//Engine speed in rpm\n",
"Pmi=5.5;....................//Mean effective pressure in bar\n",
"lbyd=1.5;...................//Ratio of stroke to bore\n",
"k=0.5;.......................//For four stroke engine\n",
"//Calculations\n",
"d=((P*6)/(n*Pmi*N*k*10*(%pi/4)*lbyd))^(1/3);......................//Calculation of bore in m\n",
"l=lbyd*d;................................//Calculation of stroke in m\n",
"disp(d*1000,'The bore of the engine (in mm):')\n",
"disp(l*1000,'The stroke of the engine (in mm):')"
   ]
   }
,
{
		   "cell_type": "markdown",
		   "metadata": {},
		   "source": [
			"## Example 17.30: Full_load_brake_power_and_mechanical_efficiency.sce"
		   ]
		  },
  {
"cell_type": "code",
	   "execution_count": null,
	   "metadata": {
	    "collapsed": true
	   },
	   "outputs": [],
"source": [
"clc;funcprot(0);//EXAMPLE 17.30\n",
"// Initialisation of Variables\n",
"n=1;.......................//No of cylinders\n",
"D=0.18;...................//Engine bore in m\n",
"L=0.34;....................//Engine stroke in m\n",
"N=400;......................//Engine rpm\n",
"mepw=6.4;.................//Mean effective pressure of working loop in bar\n",
"mepp=0.36;..................//Mean effective pressure of pumping loop in bar\n",
"mepd=0.64;.................//Mean effective pressure (dead cycle) iin bar\n",
"fs=46;................//Firing strokes per min\n",
"//calculations\n",
"pminet=mepw-mepp;..........//Net indicated mean effective pressure in bar\n",
"dc=(N/2)-fs;...............//Dead cycles per min\n",
"IPnet=(n*pminet*(%pi/4)*L*D*D*fs*4*10)/6;.............//Net indicated power output in kW\n",
"ppdc=(n*pminet*L*(%pi/4)*D*D*10*dc)/6;.............//Pumping power of dead cycles in kW\n",
"FP=IPnet-ppdc;...........................//Frictional power in kW\n",
"IP=(n*pminet*L*(%pi/4)*D*D*(N/2)*10)/6;...............//Indicated power in kW\n",
"BP=IP-FP;..................//Brake power in kW\n",
"disp(BP,'Brake power (in kW):')\n",
"etamech=BP/IP;.................//Mechanical efficiency\n",
"disp(etamech*100,'Mechanical efficiency (in %):')"
   ]
   }
,
{
		   "cell_type": "markdown",
		   "metadata": {},
		   "source": [
			"## Example 17.31: Mechanical_efficiency_and_brake_thermal_efficiency.sce"
		   ]
		  },
  {
"cell_type": "code",
	   "execution_count": null,
	   "metadata": {
	    "collapsed": true
	   },
	   "outputs": [],
"source": [
"clc;funcprot(0);//EXAMPLE 17.31\n",
"// Initialisation of Variables\n",
"n=1;..............//No of cylinders\n",
"B=0.32;...............//Engine bore in m\n",
"L=0.42;..............//Engine stroke in m\n",
"N=200;................//Engine rpm\n",
"Nk=90;..................//No of explosions per min\n",
"v1=11.68;............//Gas used in m^3/h\n",
"pg=170;................//Pressure of gas in mm of water \n",
"br=755;................//Barometer reading in mm of Hg\n",
"pmi=6.2;.................//Mean effective pressure in bar\n",
"C=21600;.......................//Calorific value of gas in kJ/kg\n",
"bl=2040;......................//Net load on brake in N\n",
"Db=1.2;......................//Brake drum diameter in m\n",
"t1=298;.....................//Ambient temperature in Kelvin\n",
"//Calculations\n",
"IP=(n*pmi*L*(%pi/4)*B*B*Nk*10)/6;..........................//Indicated power in kW\n",
"BP=(bl*%pi*Db*N)/(60*1000);.........................//Brake power in kW\n",
"etamech=(BP/IP);...................//Mechanical efficiency\n",
"disp(etamech*100,'Mechanical efficiency (in %):')\n",
"p1=br+(pg/13.6);.................//In mm of Hg\n",
"p2=760;t2=273;...................//NTP conditions in mm of Hg and Kelvin\n",
"v2=(p1*v1*t2)/(p2*t1);\n",
"etabth=BP/((v2/3600)*C);..............//Brake thermal efficiency\n",
"disp(etabth*100,'Brake thermal efficiency (in %):')"
   ]
   }
,
{
		   "cell_type": "markdown",
		   "metadata": {},
		   "source": [
			"## Example 17.32: Finding_all_parameters_of_the_engine.sce"
		   ]
		  },
  {
"cell_type": "code",
	   "execution_count": null,
	   "metadata": {
	    "collapsed": true
	   },
	   "outputs": [],
"source": [
"clc;funcprot(0);//EXAMPLE 17.32\n",
"// Initialisation of Variables\n",
"n=1;...................//No of cylinders\n",
"d=0.032;................//Diameter of circular orifice in m\n",
"Cd=0.62;.............//Co efficient of discharge\n",
"hw=150;.................//Pressure across orfice in mm of water\n",
"t=20+273;..............//Temperature of air in the room in Kelvin\n",
"p=1.0132;.................//Ambient pressure in bar\n",
"pd=0.00178;............//Piston displacement in m^3\n",
"R=287;....................//Gas constant in J/kg\n",
"r=6.5;..................//Compression ratio\n",
"fc=0.135;................//Fuel consumption in kg/min\n",
"C=43900;.................//Calorific value of fuel in kJ/kg\n",
"BP=28;................//Brake power in kW\n",
"N=2500;...................//Engine rpm\n",
"k=0.5;....................//Four stroke engine\n",
"g=9.81;.......................//Acceleration due to gravity in m/s^2\n",
"rhow=1000;....................//Density of water in kg/m^3\n",
"ga=1.4;........................//Degree of freedom\n",
"//calculations\n",
"mbyv=(p*10^5)/(R*t);\n",
"pw=(hw/rhow)*rhow;....................//Pressure across orifice in kg/m^2\n",
"H=pw/mbyv;........................//Head of air column causing the flow in m\n",
"ma=Cd*(%pi/4)*d*d*sqrt(2*g*H);................//Air flow through orifice in m^3/s\n",
"maps=(ma*60)/(N/2);........................//Air consumption per stroke\n",
"etav=maps/pd;.................//Volumetric efficiency\n",
"disp(etav*100,'Volumetric efficiency (in %):')\n",
"ac=ma*60*mbyv;...............//Mass of air drawn into cylinder per min in kg\n",
"afr=ac/fc;...................//Air fuel ratio\n",
"disp(afr,'Air fuel ratio:')\n",
"pmb=(6*BP)/(n*pd*N*k*10);...................//Mean effective pressure in bar\n",
"disp(pmb,'Mean effective pressure (in bar):')\n",
"etast=1-(1/(r^(ga-1)));...............//Air standard efficiency\n",
"etabth=BP/((fc/60)*C);...............//Brake thermal efficiency\n",
"etarel=etabth/etast;.................//Relative efficiency\n",
"disp(etarel*100,'Relative efficiency (in %):')"
   ]
   }
,
{
		   "cell_type": "markdown",
		   "metadata": {},
		   "source": [
			"## Example 17.33: Finding_all_parameters_of_the_engine.sce"
		   ]
		  },
  {
"cell_type": "code",
	   "execution_count": null,
	   "metadata": {
	    "collapsed": true
	   },
	   "outputs": [],
"source": [
"clc;funcprot(0);//EXAMPLE 17.33\n",
"// Initialisation of Variables\n",
"N=400;.................//Engine rpm\n",
"n=1;....................//no of cylinders\n",
"W=370;.................//Load on the brake in N\n",
"S=50;..................//Spring balance readin in N\n",
"Db=1.2;.................//Diameter of the brake drum\n",
"mf=2.8;.................//Fuel consumption in kg/h\n",
"C=41800;..................//Calorific value of fuel in kJ/kg\n",
"D=0.16;...................//Engine bore in m\n",
"L=0.2;....................//Engine stroke in m\n",
"k=0.5;.....................//Four stroke engine\n",
"Sc=1;....................//Spring constant in bar/mm\n",
"l=40;....................//Length of diagram in mm\n",
"aic=300;.................//Area of indicator card in mm^2\n",
"//Calculations\n",
"pmi=aic*(Sc/l);..................//Mean effective pressure in bar\n",
"IP=(n*pmi*L*(%pi/4)*D*D*k*N*10)/6;..............//Indicated power in kW\n",
"disp(pmi,'Indicated power (in kW):')\n",
"BP=((W-S)*%pi*Db*N)/(60*1000);............//Brake power in kW\n",
"disp(BP,'Brake power (in kW):')\n",
"pmb=(BP*6)/(n*L*D*D*(%pi/4)*k*N*10);...........//Brake mean effective pressure in bar\n",
"disp(pmb,'Brake mean effective pressure (in bar):')\n",
"bsfc=mf/BP;.................//Brake specific fuel consumption in kg/BP h\n",
"disp(bsfc,'Brake specific fuel consumption (in kg/BP h)')\n",
"etabth=BP/((mf/3600)*C);..................//Brake thermal efficiency\n",
"disp(etabth*100,'Brake thermal efficiency (in %):')\n",
"etaith=IP/((mf/3600)*C);....................//Indicated thermal efficiency\n",
"disp(etaith*100,'Indicated thermal efficiency (in %):')"
   ]
   }
,
{
		   "cell_type": "markdown",
		   "metadata": {},
		   "source": [
			"## Example 17.34: Indicated_thermal_efficiency_and_brake_mean_effective_pressure.sce"
		   ]
		  },
  {
"cell_type": "code",
	   "execution_count": null,
	   "metadata": {
	    "collapsed": true
	   },
	   "outputs": [],
"source": [
"clc;funcprot(0);//EXAMPLE 17.34\n",
"// Initialisation of Variables\n",
"R=287;................//Gas constant in J/kg K\n",
"n=4;...................//No of cylinders\n",
"D=0.0825;..............//Engine bore in m\n",
"L=0.13;................//Engine stroke in m\n",
"BP=28;..................//Brake power in kW\n",
"N=1500;.................//Engine rpm\n",
"afrth=14.8;...............//theoretical air fuel ratio \n",
"C=45980;..................//Calorific value of fuel in kJ/kg\n",
"etamech=0.9;.............//Mechanical efficiency\n",
"ap=70;..................//Percentage of Volume of air in he cylinder\n",
"fr=20;..................//Percentage richness of the fuel\n",
"p1=1.0132;.................//Ambient pressure in bar\n",
"pc=762;...................//Pressure in the cylinder in mm of Hg \n",
"tc=273+15.5;...............//Temperature in the cylinder in Kelvin\n",
"k=0.5;..................//Four stroke engine\n",
"//Calculations\n",
"Vs=(%pi/4)*D*D*L;.......................//Swept volume in m^3\n",
"va=(ap/100)*Vs;.....................//Volume of air drawn in m^3\n",
"p=(pc/760)*p1;\n",
"m=(p*(10^5)*va)/(R*tc);...................//Mass of air per stroke per cylinder\n",
"tmau=m*(N/2)*n;...................//Theoretical mass of air used per minute in kg\n",
"tmfu=tmau/afrth;..................//Theoretical mass of fyel used per min in kg\n",
"mf=(tmfu/60)*((100+fr)/100);...............//Mass of fuel burnt per second in kg\n",
"IP=BP/etamech;.........................//Indicated power in kW\n",
"etaith=IP/(mf*C);.....................//Indicated thermal efficiency \n",
"disp(etaith*100,'Indicated thermal efficiency (in %):')\n",
"pmb=(BP*6)/(n*L*D*D*(%pi/4)*N*10*k);...............//Mean effective pressure in bar\n",
"disp(pmb,'Mean effective pressure (in bar):')"
   ]
   }
,
{
		   "cell_type": "markdown",
		   "metadata": {},
		   "source": [
			"## Example 17.35: Finding_all_parameters_of_IC_engine.sce"
		   ]
		  },
  {
"cell_type": "code",
	   "execution_count": null,
	   "metadata": {
	    "collapsed": true
	   },
	   "outputs": [],
"source": [
"clc;funcprot(0);//EXAMPLE 17.35\n",
"// Initialisation of Variables\n",
"n=1;..................//No of cylinders\n",
"D=0.2;............//Engine bore in m\n",
"L=0.4;..............//Engine stroke in m\n",
"Nt=9400;...............//Total no of revolutions \n",
"Ne=4200;...............//Total no of explosions\n",
"t=40;...................//Duration of testing in min\n",
"Nk=Ne/t;...............//No of explosions\n",
"bl=540;...............//Brake load in N\n",
"Db=1.6;.................//Diameter of brake wheel in m\n",
"d=0.02;................//Diameter of rope in m\n",
"gu=8.5;..................//Gas used in m^3/sec\n",
"C=15900;...............//Calorific value of fuel in kJ/kg\n",
"Vg=(gu/(t*60));.................//Volume of gas used in m^3/sec\n",
"aic=550;.....................//Area of indicator diagram mm^2\n",
"l=72;.......................//Length of indicator diagram in mm\n",
"s=0.8;.....................//Spring number in bar/mm\n",
"//calculations\n",
"pmi=(aic*s)/l;................//Mean effective pressure in bar\n",
"IP=(n*pmi*L*D*D*(%pi/4)*Nk*10)/6;............//Indicated power in kW\n",
"disp(IP,'Indicated power (in kW):')\n",
"BP=(bl*%pi*(Db+d)*(Nt/t))/(60*1000);...............//Brake power in kW\n",
"disp(BP,'Brake power (in kW):')\n",
"etaith=IP/(Vg*C);...............//Indicated thermal efficiency\n",
"disp(etaith*100,'Indicated thermal efficiency (in %):')\n",
"etabth=BP/(Vg*C);...............//Brake thermal efficiency\n",
"disp(etabth*100,'Brake thermal efficiency (in %):')"
   ]
   }
,
{
		   "cell_type": "markdown",
		   "metadata": {},
		   "source": [
			"## Example 17.36: Finding_all_parameters_of_IC_engine.sce"
		   ]
		  },
  {
"cell_type": "code",
	   "execution_count": null,
	   "metadata": {
	    "collapsed": true
	   },
	   "outputs": [],
"source": [
"clc;funcprot(0);//EXAMPLE 17.36\n",
"// Initialisation of Variables\n",
"n=6;....................//No of cylinders\n",
"D=0.125;................//Engine bore in m\n",
"L=0.125;...............//Engine stroke in m\n",
"N=2400;.................//Engine rpm\n",
"W=490;...............//Load on the dynamometer in N\n",
"CD=16100;...............//Dynamometer constant\n",
"d0=0.055;...................//Air orifice diameter in m\n",
"Cd=0.66;...................//Co efficient of discharge\n",
"hw=310;.................//Head causing flow through prifice in mm of water\n",
"br=760;................//Barometer reading in mm of Hg\n",
"t=298;..................//Ambient temperature in Kelvin\n",
"fc=22.1;..................//Fuel consumption per hour in kg\n",
"C=45100;..................//Calorific value of fuel used in kJ/kg\n",
"perc=85;...................//Percentage of carbon in the fuel\n",
"perh=15;...................//Percentage of hydrogen in the fuel\n",
"p1=1.013;....................//Pressure of air at the end of suction stroke in bar\n",
"t1=298;......................//Temperature of air the the end of suction stroke in Kelvin\n",
"k=0.5;.......................//Four stroke engine\n",
"R=287;.......................//Gas constant in J/kgK\n",
"//calculations\n",
"BP=W*(N/CD);................//Brake power in kW\n",
"pmb=(BP*6)/(L*D*D*k*10*N*n*(%pi/4));................//Brake mean effective pressure in bar\n",
"disp(pmb,'Brake mean effective pressure (in bar):')\n",
"bsfc=fc/BP;.......................//Brake specific fuel consumption in kg/kWh\n",
"disp(bsfc,'Brake specific fuel consumption (in kg/kWh):')\n",
"etathb=BP/((fc/3600)*C);......................//Brake thermal efficiency\n",
"disp(etathb*100,'Brake thermal efficiency (in %):')\n",
"Vst=(%pi/4)*D*D*L;..............//Stroke volume in m^3\n",
"Val=840*(%pi/4)*d0*d0*Cd*sqrt((hw/10)/((p1*10^5)/(R*t1)));............//Volume of air passing through orifice of air box per min\n",
"Vac=Val/n;.........................//Actual volume of air per cylinder in m^3/min\n",
"asps=Vac/(N/2);.......................//Air supplied per stroke per cylinder in m^3\n",
"etav=asps/Vst;....................//Volumetric efficiency\n",
"disp(etav*100,'Volumetric efficiency (in %)')\n",
"Qa=(100/23)*(((perc/100)*(8/3))+((perh/100)*(8/1)));.....................//Quantity of air required per kg of fuel combustion\n",
"aqas=(Val*((p1*10^5)/(R*t1))*60)/fc;....................//Actual quantity of air supplied per kg of fuel\n",
"pe=(aqas-Qa)/Qa;....................//Fraction of excess air supplied to engine\n",
"disp(pe*100,'Percentage of excess air supplied :')\n",
""
   ]
   }
,
{
		   "cell_type": "markdown",
		   "metadata": {},
		   "source": [
			"## Example 17.37: Heat_balance_sheet.sce"
		   ]
		  },
  {
"cell_type": "code",
	   "execution_count": null,
	   "metadata": {
	    "collapsed": true
	   },
	   "outputs": [],
"source": [
"clc;funcprot(0);//EXAMPLE 17.37\n",
"// Initialisation of Variables\n",
"n=1;......................//No of cylinders\n",
"D=0.3;....................//Engine bore in m\n",
"L=0.45;....................//Engine stroke in m\n",
"mf=8.8;...................//Fuel consumption in kg/h\n",
"C=41800;...................//Calorific value of fuel in kJ/kg\n",
"N=200;....................//Engine rpm\n",
"pmi=5.8;....................//Mean effective pressure in bar\n",
"bl=1860;....................//Brake load in N\n",
"Db=1.22;...................//Diameter of brake drum in m\n",
"k=0.5;........................//four stroke engine\n",
"mw=650;......................//Mass of cooling water in kg\n",
"cpw=4.18;....................//Specific heat capacity of water\n",
"delt=22;......................//Temperature rise\n",
"//Calculations\n",
"IP=(n*L*D*D*k*10*pmi*N*(%pi/4))/6;...............//Indicated power in kW\n",
"BP=(bl*%pi*Db*N)/(60*1000);..................//Brake power in kW\n",
"etamech=BP/IP;............//Mechanical efficiency\n",
"disp(etamech*100,'Mechanical efficiency (in %):')\n",
"etathb=BP/((mf/3600)*C);...................//Brake thermal efficiency\n",
"disp(etathb*100,'Brake thermal efficiency (in %):')\n",
"//Heat supplied\n",
"hip=IP*3600;...........//Heat equivalent of IP in kJ/h\n",
"hcw=mw*cpw*delt;..........//Heat carried away by cooling water\n",
"hf=mf*C;................//heat supplied by fuel\n",
"hex=hf-hip-hcw;..........//Heat carried by exhaust gasses\n",
"pf=100;pip=(hip/hf)*100;pcw=(hcw/hf)*100;pex=(hex/hf)*100\n",
"printf('\n\n')\n",
"printf('HEAT BALANCE TABLE\n')\n",
"printf('_______________________________________________________________________\n')\n",
"printf('Item                                      kJ                  Percent\n')\n",
"printf('_______________________________________________________________________\n')\n",
"printf('Heat supplied by fuel                     %d             %f\n',hf,pf)\n",
"printf('Heat absorbed in IP                       %d             %f\n',hip,pip)\n",
"printf('Heat taken away by cooling water          %d             %f\n',hcw,pcw)\n",
"printf('Heat carried away by exhaust gases        %d             %f\n',hex,pex)\n",
"printf('_____________________________________________________________________')"
   ]
   }
,
{
		   "cell_type": "markdown",
		   "metadata": {},
		   "source": [
			"## Example 17.38: Heat_balance_sheet.sce"
		   ]
		  },
  {
"cell_type": "code",
	   "execution_count": null,
	   "metadata": {
	    "collapsed": true
	   },
	   "outputs": [],
"source": [
"clc;funcprot(0);//EXAMPLE 17.38\n",
"// Initialisation of Variables\n",
"r=15;................//Compression ratio\n",
"n=1;...................//No of cylinders\n",
"mf=10.2;..................//Fuel consumption in kg/h\n",
"C=43890;.................//Calorific value of fuel in kJ/kg\n",
"ma=3.8;.................//Consumption of air in kg/min\n",
"N=1900;...................//Engine rpm\n",
"T=186;....................//Torque on brake drum in Nm\n",
"mw=15.5;.................//Mass of cooling water used in kg/min\n",
"delt=36;..................//temperature rise\n",
"tg=410;..................//Exhaust gas temperature in Celsius\n",
"tr=20;...................//Room temperature in Celsius\n",
"cp=1.17;.................//Specific heat capacity for exhaust gases kJ/kgK\n",
"cpw=4.18;..................//Specific heat capacity for water in kJ/kgK\n",
"//calculations\n",
"BP=(2*%pi*N*T)/(60*1000);................//Brake power in kW\n",
"disp(BP,'Brake power in kW:')\n",
"bsfc=mf/BP;.............................//Brake specific fuel consumption in kg/kWh\n",
"disp(bsfc,'Brake specific fuel consumption in kg/kWh:')\n",
"etabth=BP/((mf/3600)*C);....................//Brake thermal efficiency\n",
"disp(etabth*100,'Brake thermal efficiency in %:')\n",
"//Heat supplied\n",
"mg=(mf/60)+ma;....................//Mass of exhaust gases in kg/min\n",
"hbp=BP*60;...........//Heat equivalent of BP in kJ/min\n",
"hcw=mw*cpw*delt;..........//Heat carried away by cooling water\n",
"hf=(mf/60)*C;................//heat supplied by fuel\n",
"hex=mg*cp*(tg-tr);..........//Heat carried by exhaust gasses\n",
"ha=round(hf)-round(hbp+hex+hcw);............//Unaccounted heat\n",
"pf=100;pbp=(hbp/hf)*100;pcw=(hcw/hf)*100;pex=(hex/hf)*100;pa=(ha/hf)*100;\n",
"printf('\n\n')\n",
"printf('HEAT BALANCE TABLE\n')\n",
"printf('_______________________________________________________________________\n')\n",
"printf('Item                                      kJ                  Percent\n')\n",
"printf('_______________________________________________________________________\n')\n",
"printf('Heat supplied by fuel                     %d             %f\n',hf,pf)\n",
"printf('Heat absorbed in BP                       %d             %f\n',hbp,pbp)\n",
"printf('Heat taken away by cooling water          %d             %f\n',hcw,pcw)\n",
"printf('Heat carried away by exhaust gases        %d             %f\n',hex,pex)\n",
"printf('Unaccounted heat                          %d             %f\n',ha,pa)\n",
"printf('_____________________________________________________________________')"
   ]
   }
,
{
		   "cell_type": "markdown",
		   "metadata": {},
		   "source": [
			"## Example 17.39: heat_balance_sheet.sce"
		   ]
		  },
  {
"cell_type": "code",
	   "execution_count": null,
	   "metadata": {
	    "collapsed": true
	   },
	   "outputs": [],
"source": [
"clc;funcprot(0);//EXAMPLE 17.39\n",
"// Initialisation of Variables\n",
"Cpw=4.18;..............//Specific heat of water in kJ/kgK\n",
"n=1;................//No of cylinders\n",
"N=350;.......//Engine rpm\n",
"pmi=3.1;..........//Mean effective pressure in bar\n",
"bl=640;..........//Brake load in N\n",
"mf=1.52;............//Fuel consumption in kg\n",
"mw=162;..............//Mass of cooling water\n",
"tw1=30;...............//Water inlet temperature in C\n",
"tw2=55;................//Water outlet temperature in C\n",
"ma=32;..................//Mass of air used per kg of fuel in kg\n",
"tr=25;.................//Room temperature in C\n",
"tg=305;.................//Exhaust temperature in C\n",
"D=0.2;.................//Engine bore in m\n",
"L=0.28;.................//Engine stroke in m\n",
"Db=1;......................//Brake drum diameter in m\n",
"ms=1.4;......................//Mass of steam formed per kg of fuel exhaust in kg\n",
"C=43900;...................//Calorirfic value of fuel in kJ/kg\n",
"Cps=2.09;..................//Specific heat of steamm in exhaust in kJ/kgK\n",
"Cpg=1.0;...................//Specific heat of dry exhaust gases in kJ/kgK\n",
"k=1;....................//Two stroke engiine\n",
"t=20;.....................//Duration of testing in min\n",
"//Calculations\n",
"IP=(n*pmi*N*D*D*L*k*10*(%pi/4))/6;...................//Indicated power in kW\n",
"disp(IP,'Indicated power in kW:')\n",
"BP=(bl*%pi*Db*N)/(60*1000);......................//Brake power in kW\n",
"disp(BP,'Brake power in kW:')\n",
"//Heat supplied\n",
"hf=mf*C;................//heat supplied by fuel\n",
"hip=IP*60*t;...........//Heat equivalent of BP in kJ/min\n",
"hcw=mw*Cpw*(tw2-tw1);..........//Heat carried away by cooling water\n",
"mg=mf+(ma*mf);....................//Mass of exhaust gases in kg/min\n",
"mst=mf*ms;..................//Mass of steam formed\n",
"hg=(mg-mst)*Cpg*(tg-tr);..........//Heat carried by exhaust gasses\n",
"hst=mst*(417.5+2257.9+(Cps*(305-99.6)));....................//Heat carried by exhaust steam, the obtained values are from steam table and hence are constants at NTP\n",
"ha=round(hf)-round(hip+hg+hst+hcw);............//Unaccounted heat\n",
"pf=100;pip=(hip/hf)*100;pcw=(hcw/hf)*100;pg=(hg/hf)*100;pa=(ha/hf)*100;pst=(hst/hf)*100;\n",
"printf('\n\n')\n",
"printf('HEAT BALANCE TABLE\n')\n",
"printf('_______________________________________________________________________\n')\n",
"printf('Item                                          kJ               Percent\n')\n",
"printf('_______________________________________________________________________\n')\n",
"printf('Heat supplied by fuel                       %d             %f\n',hf,pf)\n",
"printf('Heat absorbed in IP                         %d             %f\n',hip,pip)\n",
"printf('Heat taken away by cooling water            %d             %f\n',hcw,pcw)\n",
"printf('Heat carried away by dry exhaust gases      %d             %f\n',hg,pg)\n",
"printf('Heat carried away by steam in exhaust gases %d             %f\n',hst,pst)\n",
"printf('Unaccounted heat                            %d             %f\n',ha,pa)\n",
"printf('_____________________________________________________________________')"
   ]
   }
,
{
		   "cell_type": "markdown",
		   "metadata": {},
		   "source": [
			"## Example 17.3: Brake_power.sce"
		   ]
		  },
  {
"cell_type": "code",
	   "execution_count": null,
	   "metadata": {
	    "collapsed": true
	   },
	   "outputs": [],
"source": [
"clc;funcprot(0);//EXAMPLE 17.3\n",
"// Initialisation of Variables\n",
"Db=0.6;.....................//Diameter of the brake wheel in m\n",
"d=0.026;......................//Diameter of the rope in m\n",
"W=200;.......................//Dead load on the brake in N\n",
"S=30;......................//Spring balance reading in N\n",
"N=450;......................//Engine speed in rpm\n",
"//Calculations\n",
"BP=((W-S)*%pi*(Db+d)*N)/(60*1000);...............//Brake Power in KW\n",
"disp(BP,'Brake Power (in KW):')"
   ]
   }
,
{
		   "cell_type": "markdown",
		   "metadata": {},
		   "source": [
			"## Example 17.40: Finding_the_parameters_for_IC_engine.sce"
		   ]
		  },
  {
"cell_type": "code",
	   "execution_count": null,
	   "metadata": {
	    "collapsed": true
	   },
	   "outputs": [],
"source": [
"clc;funcprot(0);//EXAMPLE 17.40\n",
"// Initialisation of Variables\n",
"n=6;................//No of cylinders\n",
"D=0.1;...............//Engine bore in m\n",
"L=0.14;...............//Engine stroke in m\n",
"N=2500;...............//Engine rpm\n",
"k=0.5;..................//Four stroke\n",
"bl=480;.................//Brake load in N\n",
"br=76;..................//Barometer reading in cm of Hg\n",
"d0=3.3/100;..............//Orifice diameter in m\n",
"Cd=0.62;.................//Co efficient of discharge of orifice\n",
"pd=14;...................//Pressure drop across orifice in cm of Hg\n",
"tr=25;...............//Room temperature in C\n",
"mf=0.32;................//Fuel consumption in kg/min\n",
"rhohg=13600;.................//Density of Hg in kg/m^3\n",
"R=0.287;...................//gas constant in kJ/kgK\n",
"g=9.81;.................//Acceleration due to gravity in m/s^2\n",
"CD=17000;....................//dynamometer constant\n",
"//Calculations\n",
"Vs=(%pi/4)*D*D*L*(N/2)*(n/60);..............//Swept volume in m^3\n",
"br1=(br/100)*rhohg*g*(10^-3);.............//Barometer reading into kN/m^2\n",
"rhoa=br1/(R*(tr+273));...............//Density of air\n",
"pd1=(pd/100)*rhohg*g;......................//Conversion of pd into N/m^2\n",
"ha=pd1/(rhoa*g);.......................//Head of air causing flow in m\n",
"Va=Cd*(%pi/4)*d0*d0*sqrt(2*g*ha);............//Volume of air passing through orifice of air box per min\n",
"etav=Va/Vs;....................//Volumetric efficiency\n",
"disp(etav*100,'Volumetric efficiency in %:')\n",
"BP=bl*(N/CD);................//Brake power in kW\n",
"pmb=(BP*6)/(L*D*D*k*10*N*n*(%pi/4));................//Brake mean effective pressure in bar\n",
"disp(pmb,'Brake mean effective pressure (in bar):')\n",
"T=(BP*60*1000)/(2*%pi*N);....................//Engine torque in N-m\n",
"disp(T,'Engine torque in N-m:')\n",
"bsfc=(mf*60)/BP;.......................//Brake specific fuel consumption in kg/kWh\n",
"disp(bsfc,'Brake specific fuel consumption in kg/kWh:')"
   ]
   }
,
{
		   "cell_type": "markdown",
		   "metadata": {},
		   "source": [
			"## Example 17.41: Heat_balance_sheet.sce"
		   ]
		  },
  {
"cell_type": "code",
	   "execution_count": null,
	   "metadata": {
	    "collapsed": true
	   },
	   "outputs": [],
"source": [
"clc;funcprot(0);//EXAMPLE 17.41\n",
"// Initialisation of Variables\n",
"Cpw=4.18;..............//Specific heat of water in kJ/kgK\n",
"n=1;................//No of cylinders\n",
"N=350;.......//Engine rpm\n",
"pmi=2.74;..........//Mean effective pressure in bar\n",
"bl=600;..........//Brake load in N\n",
"mf=4.22;............//Fuel consumption in kg\n",
"mw=495;..............//Mass of cooling water\n",
"tw1=13;...............//Water inlet temperature in C\n",
"tw2=38;................//Water outlet temperature in C\n",
"ma=135;..................//Mass of air used in kg/h\n",
"tr=20;.................//Room temperature in C\n",
"tg=370;.................//Exhaust temperature in C\n",
"D=0.2;.................//Engine bore in m\n",
"L=0.28;.................//Engine stroke in m\n",
"Db=1;......................//Brake drum diameter in m\n",
"C=44670;...................//Calorirfic value of fuel in kJ/kg\n",
"Cps=2.093;..................//Specific heat of steamm in exhaust in kJ/kgK\n",
"Cpg=1.005;...................//Specific heat of dry exhaust gases in kJ/kgK\n",
"k=1;....................//Two stroke engiine\n",
"t=60;.....................//Duration of testing in min\n",
"perh=15;.................//Percentage of H2 in the fuel\n",
"//Calculations\n",
"IP=(n*pmi*N*D*D*L*k*10*(%pi/4))/6;...................//Indicated power in kW\n",
"disp(IP,'Indicated power in kW:')\n",
"BP=(bl*%pi*Db*N)/(60*1000);......................//Brake power in kW\n",
"etaith=(IP)/((mf/3600)*C);.................//Indicated thermal efficiency\n",
"disp(etaith*100,'Indicated thermal efficiency in %:')\n",
"//Heat supplied\n",
"hf=(mf/t)*C;................//heat supplied by fuel\n",
"hbp=BP*t;...........//Heat equivalent of BP in kJ/min\n",
"hcw=(mw/60)*Cpw*(tw2-tw1);..........//Heat carried away by cooling water\n",
"mg=(mf+ma)/t;....................//Mass of exhaust gases in kg/min\n",
"mst=9*(perh/100)*(mf/60);..................//Mass of steam formed\n",
"mdg=mg-mst;..............................//Mass of dry exhaust gases per min\n",
"hg=(mdg)*Cpg*(tg-tr);..........//Heat carried by exhaust gasses\n",
"hst=mst*(417.5+2257.9+(Cps*(305-99.6)));....................//Heat carried by exhaust steam, the obtained values are from steam table and hence are constants at NTP\n",
"ha=round(hf)-round(hbp+hg+hst+hcw);............//Unaccounted heat\n",
"pf=100;pbp=(hbp/hf)*100;pcw=(hcw/hf)*100;pg=(hg/hf)*100;pa=(ha/hf)*100;pst=(hst/hf)*100;\n",
"printf('\n\n')\n",
"printf('HEAT BALANCE TABLE\n')\n",
"printf('_______________________________________________________________________\n')\n",
"printf('Item                                          kJ               Percent\n')\n",
"printf('_______________________________________________________________________\n')\n",
"printf('Heat supplied by fuel                       %f             %f\n',hf,pf)\n",
"printf('Heat equivalent of BP                       %f             %f\n',hbp,pbp)\n",
"printf('Heat taken away by cooling water            %f             %f\n',hcw,pcw)\n",
"printf('Heat carried away by dry exhaust gases      %f             %f\n',hg,pg)\n",
"printf('Heat carried away by steam in exhaust gases %f             %f\n',hst,pst)\n",
"printf('Unaccounted heat                            %f             %f\n',ha,pa)\n",
"printf('_____________________________________________________________________')"
   ]
   }
,
{
		   "cell_type": "markdown",
		   "metadata": {},
		   "source": [
			"## Example 17.42: Heat_balance_sheet.sce"
		   ]
		  },
  {
"cell_type": "code",
	   "execution_count": null,
	   "metadata": {
	    "collapsed": true
	   },
	   "outputs": [],
"source": [
"clc;funcprot(0);//EXAMPLE 17.42\n",
"// Initialisation of Variables\n",
"Cpw=4.18;..............//Specific heat of water in kJ/kgK\n",
"n=1;................//No of cylinders\n",
"N=350;.......//Engine rpm\n",
"pmi=2.8;..........//Mean effective pressure in bar\n",
"bl=590;..........//Brake load in N\n",
"mf=4.3;............//Fuel consumption in kg\n",
"mw=500;..............//Mass of cooling water\n",
"tw1=25;...............//Water inlet temperature in C\n",
"tw2=50;................//Water outlet temperature in C\n",
"ma=33;..................//Mass of air used per kg of fuel in kg\n",
"tr=25;.................//Room temperature in C\n",
"tg=400;.................//Exhaust temperature in C\n",
"D=0.22;.................//Engine bore in m\n",
"L=0.28;.................//Engine stroke in m\n",
"Db=1;......................//Brake drum diameter in m\n",
"C=43900;...................//Calorirfic value of fuel in kJ/kg\n",
"Cps=2.09;..................//Specific heat of steamm in exhaust in kJ/kgK\n",
"Cpg=1.0;...................//Specific heat of dry exhaust gases in kJ/kgK\n",
"k=1;....................//Two stroke engiine\n",
"perh=15;...................//Percentage of hydrogen\n",
"//Calculations\n",
"IP=(n*pmi*N*D*D*L*k*10*(%pi/4))/6;...................//Indicated power in kW\n",
"disp(IP,'Indicated power in kW:')\n",
"BP=(bl*%pi*Db*N)/(60*1000);......................//Brake power in kW\n",
"disp(BP,'Brake power in kW:')\n",
"//Heat supplied\n",
"hf=(mf/60)*C;................//heat supplied by fuel\n",
"hip=IP*60;...........//Heat equivalent of BP in kJ/min\n",
"hcw=(mw/60)*Cpw*(tw2-tw1);..........//Heat carried away by cooling water\n",
"mg=(mf+(mf*ma))/60;....................//Mass of exhaust gases in kg/min\n",
"mst=9*(perh/100)*(mf/60);..................//Mass of steam formed\n",
"mdg=mg-mst;..............................//Mass of dry exhaust gases per min\n",
"hg=(mdg)*Cpg*(tg-tr);..........//Heat carried by exhaust gasses\n",
"hst=mst*(417.5+2257.9+(Cps*(400-99.6)));....................//Heat carried by exhaust steam, the obtained values are from steam tables at NTP\n",
"mg=mf+(ma*mf);....................//Mass of exhaust gases in kg/min\n",
"ha=round(hf)-round(hip+hg+hst+hcw);............//Unaccounted heat\n",
"pf=100;pip=(hip/hf)*100;pcw=(hcw/hf)*100;pg=(hg/hf)*100;pa=(ha/hf)*100;pst=(hst/hf)*100;\n",
"printf('\n\n')\n",
"printf('HEAT BALANCE TABLE\n')\n",
"printf('_______________________________________________________________________\n')\n",
"printf('Item                                          kJ               Percent\n')\n",
"printf('_______________________________________________________________________\n')\n",
"printf('Heat supplied by fuel                       %d             %f\n',hf,pf)\n",
"printf('Heat absorbed in IP                         %d             %f\n',hip,pip)\n",
"printf('Heat taken away by cooling water            %d             %f\n',hcw,pcw)\n",
"printf('Heat carried away by dry exhaust gases      %d             %f\n',hg,pg)\n",
"printf('Heat carried away by steam in exhaust gases %d             %f\n',hst,pst)\n",
"printf('Unaccounted heat                            %d             %f\n',ha,pa)\n",
"printf('_____________________________________________________________________')"
   ]
   }
,
{
		   "cell_type": "markdown",
		   "metadata": {},
		   "source": [
			"## Example 17.43: Heat_balance_sheet.sce"
		   ]
		  },
  {
"cell_type": "code",
	   "execution_count": null,
	   "metadata": {
	    "collapsed": true
	   },
	   "outputs": [],
"source": [
"clc;funcprot(0);//EXAMPLE 17.43\n",
"// Initialisation of Variables\n",
"I=210;.....................//Output of generator in A\n",
"V=200;.....................//Generator voltage in V\n",
"etag=0.82;.................//Generator efficiency \n",
"mf=11.2;....................//Fuel used in kg/h\n",
"C=42600;.......................//Calorific value of fuel in kJ/kg\n",
"afr=18;....................//Air fuel ratio\n",
"mc=580;.....................//Mass of water through calorimeter in kg/h\n",
"delt=36;....................//Temperature raise in C\n",
"tg=98;........................//Temperature of exhaust in C\n",
"ta=20;.......................//Ambient temperature in C\n",
"phcw=0.32;.....................//Heat lost to cooling jacket is 32% of heat supplied\n",
"cpe=1.05;...................//Specific heat of exhause gases in kJ/kgK\n",
"cpw=4.18;...................//Specific heat of water in kJ/kgK\n",
"//Calculations\n",
"pow=V*I;......................//Total power generated in W\n",
"BP=(pow/1000)/etag;..................//Brake power in kW\n",
"hf=(mf/60)*C;...................//Heat supplied to the engine\n",
"hbp=BP*60;.........................//Heat equivalent of BP\n",
"mg=(mf/60)*(afr+1);...............//Mass of exhaust gases formed per min in kg\n",
"hg=((mc/60)*cpw*(delt))+(mg*cpe*(tg-ta));..........//Heat carried by exhaust gases per min\n",
"hcw=phcw*hf;...................//Heat lost to cooling jacket\n",
"ha=hf-(hcw+hg+hbp);...................//Unaccounted heat\n",
"pf=100;pbp=(hbp/hf)*100;pcw=(hcw/hf)*100;pg=(hg/hf)*100;pa=(ha/hf)*100\n",
"printf('\n\n')\n",
"printf('HEAT BALANCE TABLE\n')\n",
"printf('_______________________________________________________________________\n')\n",
"printf('Item                                      kJ                  Percent\n')\n",
"printf('_______________________________________________________________________\n')\n",
"printf('Heat supplied by fuel                     %d             %f\n',hf,pf)\n",
"printf('Heat absorbed in BP                       %d             %f\n',hbp,pbp)\n",
"printf('Heat taken away by cooling water          %d             %f\n',hcw,pcw)\n",
"printf('Heat carried away by exhaust gases        %d             %f\n',hg,pg)\n",
"printf('Unaccounted heat                          %d             %f\n',ha,pa)\n",
"printf('_____________________________________________________________________')\n",
"\n",
""
   ]
   }
,
{
		   "cell_type": "markdown",
		   "metadata": {},
		   "source": [
			"## Example 17.44: Heat_balance_sheet.sce"
		   ]
		  },
  {
"cell_type": "code",
	   "execution_count": null,
	   "metadata": {
	    "collapsed": true
	   },
	   "outputs": [],
"source": [
"clc;funcprot(0);//EXAMPLE 17.44\n",
"// Initialisation of Variables\n",
"D=0.34;..............//Engine bore in m\n",
"k=0.5;...............//Four stroke engine\n",
"n=1;..................//No of cylinders\n",
"L=0.44;................//Engine stroke in m\n",
"Ne=400;................//Engine rpm\n",
"aic=465;..............//Area of indicator diagram in mm^2\n",
"l=60;..................//Length of diagram in mm\n",
"s=0.6;...............//Spring constant in bar/mm\n",
"W=950;.................//Load of dynamometer in N\n",
"CD=7460;................//Dynamometer constant\n",
"mf=10.6;................//Fuel used in kg/h\n",
"Ca=49500;.................//Calorific value of fuel in kJ/kg\n",
"mw=25;...................//Cooling water circulated in kg/min\n",
"cpw=4.18;..................//Specific heat capacity of water in kJ/kgC\n",
"delt=25;..................//Rise in temperature of water\n",
"//Mass analysis of fuel\n",
"C=84;..................//Percentage of carbon\n",
"H=15;..................//Percentage of hydrogen\n",
"In=1;..................//Percentage of incombustible\n",
"//Volume analysis of exhaust gases\n",
"CO2=9;..................//Percentage of caron dioxide\n",
"O=10;..................//Percentage of oxygen\n",
"N=81;..................//Percentage of nitrogen\n",
"tg=400;................//Temperature of exhaust gases in C\n",
"cpg=1.05;..............//Specific heat of exhaust gases in kJ/kgC\n",
"tr=25;.................//Temperature of room in C\n",
"ppst=0.03;..............//Partial pressure of steam in exhaust gases in bar\n",
"cpst=2.1;.................//Specific heat of superheated steam in kJ/kgC\n",
"//Calculations\n",
"pmi=(aic*s)/l;................//Mean effective pressure in bar\n",
"IP=(n*pmi*L*D*D*k*10*Ne*(%pi/4))/6;...............//Indicated power in kW\n",
"BP=(W*Ne)/CD;.......................//Brake power in kW\n",
"FP=IP-BP;...........................//Frictional power in kW\n",
"hf=(mf/60)*Ca;...................//Heat supplied in kJ per min\n",
"hbp=BP*60;.....................//Heat equivalent of Brake power in kW\n",
"hfp=FP*60;......................//heat equivalent of frictional power in kW\n",
"hcw=mw*cpw*delt;..................//Heat carried away by cooling water\n",
"ma1=(N*C)/(33*(CO2));...........//Mass of air supplied per kg of fuel\n",
"mg1=ma1+1;.......................//Mass of exhaust gases per kg of fuel\n",
"mg=mg1*(mf/60);.................//Mass of exhaust gas formed per min\n",
"mst1=9*(H/100);.................//Mass of steam formed per kg of fuel\n",
"mst=mst1*(mf/60);..................//Mass of steam formed per min\n",
"mdg=mg-mst;.......................//Mass of dry exhaust gas \n",
"hex=mdg*cpg*(tg-tr);...............//Heat carried by exhaust gases\n",
"hst=(2545.5+(cpst*(tg-24.1)))*mst;................//Heat carried by steam in exhaust gases in kJ/kg.....The values are from steam tables corresponding to the partial pressure 0.03 and temperature 400 Celsius\n",
"ha=hf-(hbp+hfp+hcw+hex+hst);.....................//Unaccounted heat\n",
"pf=100;pbp=(hbp/hf)*100;pfp=(hfp/hf)*100;pcw=(hcw/hf)*100;pex=(hex/hf)*100;pa=(ha/hf)*100;pst=(hst/hf)*100;\n",
"printf('\n\n')\n",
"printf('HEAT BALANCE TABLE\n')\n",
"printf('_______________________________________________________________________\n')\n",
"printf('Item                                          kJ               Percent\n')\n",
"printf('_______________________________________________________________________\n')\n",
"printf('Heat supplied by fuel                       %d             %f\n',hf,pf)\n",
"printf('Heat absorbed in BP                         %d             %f\n',hbp,pbp)\n",
"printf('Heat lost by FP                             %d              %f\n',hfp,pfp)\n",
"printf('Heat taken away by cooling water            %d             %f\n',hcw,pcw)\n",
"printf('Heat carried away by dry exhaust gases      %d             %f\n',hex,pex)\n",
"printf('Heat carried away by steam in exhaust gases %d              %f\n',hst,pst)\n",
"printf('Unaccounted heat                            %d               %f\n',ha,pa)\n",
"printf('_____________________________________________________________________')"
   ]
   }
,
{
		   "cell_type": "markdown",
		   "metadata": {},
		   "source": [
			"## Example 17.45: Morse_test.sce"
		   ]
		  },
  {
"cell_type": "code",
	   "execution_count": null,
	   "metadata": {
	    "collapsed": true
	   },
	   "outputs": [],
"source": [
"clc;funcprot(0);//EXAMPLE 17.45\n",
"// Initialisation of Variables\n",
"n=4;........................//No of cylinders\n",
"ga=1.4;...................//Degree of freedom\n",
"D=0.075;..................//Engine bore in m\n",
"L=0.1;...................//Engine stroke in m\n",
"mf=6;.......................//Fuel consumption in kg/h\n",
"C=83600;..................//Calorific value of fuel used\n",
"Vc=0.0001;.................//Clearence volume in m^3\n",
"BP=15.6;.................//Brake power wilh all cylinder working in kW\n",
"BP1=11.1;...................//Brake power wilh cylinder no 1 cutout in kW\n",
"BP2=11.03;...................//Brake power wilh cylinder no 2 cutout in kW\n",
"BP3=10.88;...................//Brake power wilh cylinder no 3 cutout in kW\n",
"BP4=10.66;...................//Brake power wilh cylinder no 4 cutout in kW\n",
"//Calculations\n",
"IP1=BP-BP1;...........................//Indicated power produced in cylinder 1 in kW\n",
"IP2=BP-BP2;...........................//Indicated power produced in cylinder 2 in kW\n",
"IP3=BP-BP3;...........................//Indicated power produced in cylinder 3 in kW\n",
"IP4=BP-BP4;...........................//Indicated power produced in cylinder 4 in kW\n",
"IP=IP1+IP2+IP3+IP4;.............................//Total Indicated power produced in kW\n",
"etamech=BP/IP;..............................//Mechanical efficiency\n",
"disp(etamech*100,'Mechanical efficiency in %:')\n",
"etaith=IP/((mf/3600)*C);.....................//Indicated thermal efficiency\n",
"disp(etaith*100,'Indicated thermal efficiency in %:')\n",
"Vs=(%pi/4)*D*D*L;..........................//Stroke volume in m^3\n",
"r=(Vs+Vc)/Vc;................................//Compression ratio\n",
"etast=1-(1/(r^(ga-1)));...........................//Air standard efficiency\n",
"disp(etast*100,'Air standard efficiency in %:')"
   ]
   }
,
{
		   "cell_type": "markdown",
		   "metadata": {},
		   "source": [
			"## Example 17.46: Morse_test.sce"
		   ]
		  },
  {
"cell_type": "code",
	   "execution_count": null,
	   "metadata": {
	    "collapsed": true
	   },
	   "outputs": [],
"source": [
"clc;funcprot(0);//EXAMPLE 17.46\n",
"// Initialisation of Variables\n",
"n=4;..........................//No of cylinders\n",
"D=0.06;......................//Engine bore in m\n",
"L=0.09;.......................//Engine stroke in m\n",
"N=2800;.......................//Engine rpm\n",
"Ta=0.37;.......................//Length of torque arm in m\n",
"spgr=0.74;.....................//Specific graviy of fuel \n",
"fc=8.986;......................//Fuel consumption in ltrs/h\n",
"mf=fc*spgr;.....................//Fuel consumed in kg/h\n",
"C=44100;......................//Calorific value of fuel in kJ/kg\n",
"BPnl=160;.................//Net brake load in N\n",
"BP1=110;...................//Brake load with cylinder no 1 cutout in N\n",
"BP2=107;...................//Brake load with cylinder no 2 cutout in N\n",
"BP3=104;...................//Brake load with cylinder no 3 cutout in N\n",
"BP4=110;...................//Brake load with cylinder no 4 cutout in N\n",
"k=0.5;.....................//Four stroke engine\n",
"//Calculations\n",
"T=BPnl*Ta;.......................//Engine torque in N-m\n",
"disp(T,'Engine torque in Nm:')\n",
"BP=(2*%pi*N*T)/(60*1000);..........................//Brake power in kW\n",
"pmb=(BP*6)/(n*D*D*L*N*10*(%pi/4)*k);...................//Brake mean effective pressure in bar\n",
"disp(pmb,'Brake mean effective pressure in bar:')\n",
"etabth=BP/((mf/3600)*C);...........................//Brake thermal efficiency\n",
"disp(etabth*100,'Brake thermal efficiency in %:')\n",
"sfc=mf/BP;.......................//Specific fuel consumption in kg/kWh\n",
"disp(sfc,'Specific fuel consumption in kg/kWh:')\n",
"IP1=BPnl-BP1;...........................//Indicated power produced in cylinder 1 in kW\n",
"IP2=BPnl-BP2;...........................//Indicated power produced in cylinder 2 in kW\n",
"IP3=BPnl-BP3;...........................//Indicated power produced in cylinder 3 in kW\n",
"IP4=BPnl-BP4;...........................//Indicated power produced in cylinder 4 in kW\n",
"IP=IP1+IP2+IP3+IP4;.............................//Total Indicated power produced in kW\n",
"etamech=BPnl/IP;..............................//Mechanical efficiency\n",
"disp(etamech*100,'Mechanical efficiency in %:')\n",
"pmi=pmb/etamech;............................//Indicated mean effective pressure in bar\n",
"disp(pmi,'Indicated mean effective pressure in bar:')\n",
""
   ]
   }
,
{
		   "cell_type": "markdown",
		   "metadata": {},
		   "source": [
			"## Example 17.4: Engine_displacement.sce"
		   ]
		  },
  {
"cell_type": "code",
	   "execution_count": null,
	   "metadata": {
	    "collapsed": true
	   },
	   "outputs": [],
"source": [
"clc;funcprot(0);//EXAMPLE 17.4\n",
"// Initialisation of Variables\n",
"n=4;........................//No of cylinders\n",
"k=0.5;......................//For four stroke engine\n",
"Tb=160;.....................//Max brake torque in Nm\n",
"N=3000;......................//Engine rpm\n",
"Pm=9.6;....................//Brake mean effective pressure in bar\n",
"//Calculations\n",
"D=((2*%pi*N*Tb*6)/(60*1000*Pm*(%pi/4)*N*k*10))^(1/3);.....................//Bore of engine in m\n",
"L=D;...................//Given that the stroke is equal to bore\n",
"Disp=(%pi/4)*D*D*L;....................................//Displacement in m^3\n",
"disp(D*1000,'Since it is given that the stroke is equal to bore, their value is (in mm):    ')\n",
"disp(Disp,'The engine displacement (in m^3):')"
   ]
   }
,
{
		   "cell_type": "markdown",
		   "metadata": {},
		   "source": [
			"## Example 17.5: Bore_and_stroke.sce"
		   ]
		  },
  {
"cell_type": "code",
	   "execution_count": null,
	   "metadata": {
	    "collapsed": true
	   },
	   "outputs": [],
"source": [
"clc;funcprot(0);//EXAMPLE 17.5\n",
"// Initialisation of Variables\n",
"n=6;.....................//No of cylinders\n",
"Pmb=6;....................//Brake mean effective pressure in bar\n",
"N=1000;..................//Engine rpm\n",
"k=0.5;.......................//For four stroke engine\n",
"Wce=820;.................//Work during compression and expansion in kW\n",
"Wie=50;...................//Work during intake and exhaust in kW\n",
"f=150;......................//Rubbing friction in engiine in kW\n",
"WnetT=40;...................//Net work done by turbine in kW\n",
"//Calculations\n",
"BP=Wce-(Wie+f+WnetT);.....................//Net work available or brake power in kW\n",
"D=((BP*6)/(n*Pmb*(%pi/4)*N*k*10))^(1/3);......................//Bore of engine in m\n",
"L=D;.........................................//Given that bore is equal to stroke\n",
"disp(D*1000,'Since the stroke and bore are equal, their value is (in mm):')"
   ]
   }
,
{
		   "cell_type": "markdown",
		   "metadata": {},
		   "source": [
			"## Example 17.6: Ratio_of_power_output_when_using_different_fuels.sce"
		   ]
		  },
  {
"cell_type": "code",
	   "execution_count": null,
	   "metadata": {
	    "collapsed": true
	   },
	   "outputs": [],
"source": [
"clc;funcprot(0);//EXAMPLE 17.6\n",
"// Initialisation of Variables\n",
"Cm=50150;............................//Heating value of methane in kJ/kg\n",
"Co=44880;............................//Heating value of octane in kJ/kg\n",
"//Calculations\n",
"//Since Energy supplied is proportional to mass of fuel supplied time calorific value of the fuel supplied\n",
"ratioP=Cm/Co;.........................//Ratio of the power input of the engine with methane fuel to that with octane\n",
"disp(ratioP,'Ratio of the power input of the engine with methane fuel to that with octane:')"
   ]
   }
,
{
		   "cell_type": "markdown",
		   "metadata": {},
		   "source": [
			"## Example 17.7: Brake_power_and_brake_thermal_efficiency.sce"
		   ]
		  },
  {
"cell_type": "code",
	   "execution_count": null,
	   "metadata": {
	    "collapsed": true
	   },
	   "outputs": [],
"source": [
"clc;funcprot(0);//EXAMPLE 17.7\n",
"// Initialisation of Variables\n",
"N=2000;...........................//Engine rpm\n",
"k=0.5;..............................//Four stroke engine\n",
"Disp=0.025;........................//Engine displacement in m^3\n",
"Pmb=6;..............................//Brake mean effective pressure in bar\n",
"mf=0.018;............................//Fuel consumption in kg/s\n",
"Cf=42000;............................//Calorific value of fuel in kJ/kg\n",
"//Calcuations \n",
"BP=(Pmb*Disp*N*k*10)/(6);................//Brake power in kW\n",
"etaBT=BP/(mf*Cf);.................//Brake thermal efficiency\n",
"disp(BP,'The Brake power (in kW):')\n",
"disp(etaBT*100,'Brake thermal efficiency (in %):')"
   ]
   }
,
{
		   "cell_type": "markdown",
		   "metadata": {},
		   "source": [
			"## Example 17.8: Brake_power.sce"
		   ]
		  },
  {
"cell_type": "code",
	   "execution_count": null,
	   "metadata": {
	    "collapsed": true
	   },
	   "outputs": [],
"source": [
"clc;funcprot(0);//EXAMPLE 17.8\n",
"// Initialisation of Variables\n",
"T=175;.......................//Torque due to brake load in Nm\n",
"N=500;.........................//Engine speed in rpm\n",
"//calcuations\n",
"BP=(2*%pi*N*T)/(60*1000);.......................//Brake power developed by engine in kW\n",
"disp(BP,'Brake power developed by engine (in kW):')"
   ]
   }
,
{
		   "cell_type": "markdown",
		   "metadata": {},
		   "source": [
			"## Example 17.9: Indicated_power_and_brake_power_and_mechanical_efficiency.sce"
		   ]
		  },
  {
"cell_type": "code",
	   "execution_count": null,
	   "metadata": {
	    "collapsed": true
	   },
	   "outputs": [],
"source": [
"clc;funcprot(0);//EXAMPLE 17.9\n",
"// Initialisation of Variables\n",
"D=0.3;.............................//Bore of engine cylinder in m\n",
"L=0.45;............................//Stroke of engine cylinder in m\n",
"N=300;.............................//Engine rpm\n",
"Pmi=6;.............................//Indicated mean effective pressure in bar\n",
"Nbl=1.5;...........................//Net brake load in kN\n",
"Db=1.8;............................//Diameter of brake drum in m\n",
"d=0.02;............................//Brake rope diameter\n",
"k=0.5;.............................//Four stroke engine\n",
"n=1;...............................//No of cylinders\n",
"//Calculations\n",
"IP=(n*Pmi*L*(%pi/4)*D*D*N*k*10)/6;......................//Indicated power in kW\n",
"BP=(Nbl*%pi*(Db+d)*N)/60;...............................//Brake power in kW\n",
"etam=BP/IP;.............................................//Mechanical efficiency\n",
"disp(IP,'Indicated power (in kW):')\n",
"disp(BP,'Brake power (in kW):')\n",
"disp(etam*100,'Mechanical efficiency (%):')"
   ]
   }
],
"metadata": {
		  "kernelspec": {
		   "display_name": "Scilab",
		   "language": "scilab",
		   "name": "scilab"
		  },
		  "language_info": {
		   "file_extension": ".sce",
		   "help_links": [
			{
			 "text": "MetaKernel Magics",
			 "url": "https://github.com/calysto/metakernel/blob/master/metakernel/magics/README.md"
			}
		   ],
		   "mimetype": "text/x-octave",
		   "name": "scilab",
		   "version": "0.7.1"
		  }
		 },
		 "nbformat": 4,
		 "nbformat_minor": 0
}
