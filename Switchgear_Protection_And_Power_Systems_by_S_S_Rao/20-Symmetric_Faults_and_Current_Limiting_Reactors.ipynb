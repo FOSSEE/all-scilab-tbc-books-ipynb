{
"cells": [
 {
		   "cell_type": "markdown",
	   "metadata": {},
	   "source": [
       "# Chapter 20: Symmetric Faults and Current Limiting Reactors"
	   ]
	},
{
		   "cell_type": "markdown",
		   "metadata": {},
		   "source": [
			"## Example 20.03: to_find_the_fault_MVA.sce"
		   ]
		  },
  {
"cell_type": "code",
	   "execution_count": null,
	   "metadata": {
	    "collapsed": true
	   },
	   "outputs": [],
"source": [
"clear;\n",
"clc;\n",
"rating=25e6;\n",
"vb=11e3;\n",
"x=.16/4;\n",
"faultMVA=rating*1e-6/x;\n",
"mprintf('the fault MVA from method 1=%dMVA',faultMVA);\n",
"//method 2\n",
"Ifault=1/(x*%i);\n",
"Ib=rating/(sqrt(3)*vb);\n",
"Isc=Ib*25;\n",
"MVA=sqrt(3)*vb*Isc/1e6;\n",
"mprintf('\n the fault MVA from method 2=%dMVA',MVA);"
   ]
   }
,
{
		   "cell_type": "markdown",
		   "metadata": {},
		   "source": [
			"## Example 20.04: calculate_the_fault_current_and_MVA.sce"
		   ]
		  },
  {
"cell_type": "code",
	   "execution_count": null,
	   "metadata": {
	    "collapsed": true
	   },
	   "outputs": [],
"source": [
"clear;\n",
"clc;\n",
"R=3e6;\n",
"Rb=6000e3;\n",
"vb1=11e3;\n",
"vb2=22e3;\n",
"X=.15;\n",
"x=.15*Rb/R;\n",
"xeq=x/2;\n",
"MVA=Rb/xeq;\n",
"Ifault=MVA/(sqrt(3)*vb1*%i);\n",
"Ir=real(Ifault);\n",
"Ii=imag(Ifault);\n",
"Imod=sqrt((Ir^2)+(Ii^2));\n",
"Iangle=atand(Ir/Ii)-90;\n",
"Imod=round(Imod/10)*10;\n",
"mprintf('for fault on generator side \n Fault MVA=%dMVA \n Fault current=%d/_%dAmp',MVA/1e6,Imod,Iangle);\n",
"x2=.05;\n",
"Xeq=x2+xeq;\n",
"MVA=Rb/Xeq;\n",
"Ifault=MVA/(1.734*vb2*%i);\n",
"Ir=real(Ifault);\n",
"Ii=imag(Ifault);\n",
"Imod=sqrt((Ir^2)+(Ii^2));\n",
"Iangle=atand(Ir/Ii)-90;\n",
"mprintf('\nfor fault on transmission side \n Fault MVA=%dMVA \n Fault current=%d/_%dAmp(lag)',MVA/1e6,Imod,Iangle);"
   ]
   }
,
{
		   "cell_type": "markdown",
		   "metadata": {},
		   "source": [
			"## Example 20.05_a: Calculate_the_Fault_MVA_and_current.sce"
		   ]
		  },
  {
"cell_type": "code",
	   "execution_count": null,
	   "metadata": {
	    "collapsed": true
	   },
	   "outputs": [],
"source": [
"clear;\n",
"clc;\n",
"R=3e6;\n",
"Rb=6e6;\n",
"vb2=11e3;\n",
"vb3=66e3;\n",
"x=.2;\n",
"Xg=x*Rb/R;\n",
"xt=.05;\n",
"xl=vb3^2/Rb;\n",
"xl1=20*.1/xl;\n",
"xl2=xl1*4;\n",
"\n",
"X1=Xg+xt+xl2;\n",
"X2=Xg+xt+xl1;\n",
"X=inv(inv(X1)+inv(X2));\n",
"Ifaultpu=1/(X*%i);\n",
"Ifault=Ifaultpu*Rb/(sqrt(3)*vb3);\n",
"MVA=sqrt(3)*vb3*Ifault*%i;\n",
"Ir=real(Ifault);\n",
"Ii=imag(Ifault);\n",
"Imod=sqrt((Ir^2)+(Ii^2));\n",
"Iangle=atand(Ir/Ii)-90;\n",
"MVA=fix(MVA/1e5)*1e5;\n",
"Imod=fix(Imod);\n",
"mprintf('\n Fault MVA=%fMVA \n Fault current=%d/_%dAmp',MVA/1e6,Imod,Iangle);\n",
"//another method\n",
"MVA=Rb/X;\n",
"Ifault=MVA/(sqrt(3)*vb3*%i);\n",
"Ir=real(Ifault);\n",
"Ii=imag(Ifault);\n",
"Imod=sqrt((Ir^2)+(Ii^2));\n",
"Iangle=atand(Ir/Ii)-90;\n",
"MVA=fix(MVA/1e5)*1e5;\n",
"Imod=fix(Imod);\n",
"mprintf('\n \n from second method\nFault MVA=%fMVA \n Fault current=%d/_%dAmp',MVA/1e6,Imod,Iangle);"
   ]
   }
,
{
		   "cell_type": "markdown",
		   "metadata": {},
		   "source": [
			"## Example 20.05_b: calculating_the_fault_current.sce"
		   ]
		  },
  {
"cell_type": "code",
	   "execution_count": null,
	   "metadata": {
	    "collapsed": true
	   },
	   "outputs": [],
"source": [
"clear;\n",
"clc;\n",
"v1=66e3;\n",
"v2=11e3;\n",
"x2=.461;\n",
"x1=.4527;\n",
"If=229;\n",
"I1=If*x2/(x1+x2);\n",
"I2=If*x1/(x1+x2);\n",
"I=I1+I2;\n",
"Ig1=I1*v1/v2;\n",
"Ig1=fix(Ig1);\n",
"I1=round(I1*10)/10;\n",
"I2=round(I2*10)/10;\n",
"mprintf('the fault current supplied by each transformer is\n I1=%fA\nI2=%fA\nI3=I1+I2=%dA\n',I1,I2,I);\n",
"I2=fix(I2);\n",
"Ig2=I2*v1/v2;\n",
"mprintf('the fault current supplied by each generator \n Ig1=%dA\n Ig2=%dA\n',Ig1,Ig2);"
   ]
   }
,
{
		   "cell_type": "markdown",
		   "metadata": {},
		   "source": [
			"## Example 20.06: To_calculate_the_current_supplied_by_alternator.sce"
		   ]
		  },
  {
"cell_type": "code",
	   "execution_count": null,
	   "metadata": {
	    "collapsed": true
	   },
	   "outputs": [],
"source": [
"clear;\n",
"clc;\n",
"r=6e6;\n",
"v1=11e3;\n",
"v2=66e3;\n",
"xg=.1;\n",
"xt=.09;\n",
"z=4+(1*%i);\n",
"zb=v2^2/r;\n",
"zpu=z/zb;\n",
"E=1;\n",
"Ifault=E/(zpu+((xg+xt)*%i));\n",
"Ir=real(Ifault);\n",
"Ii=imag(Ifault);\n",
"Imod=sqrt((Ir^2)+(Ii^2));\n",
"Ib=r/(sqrt(3)*v2);\n",
"i=Imod*Ib;\n",
"igb=r/(sqrt(3)*v1);\n",
"ig=igb*Imod;\n",
"i=fix(i);\n",
"ig=fix(ig);\n",
"mprintf('the base current on HT side = %dA\n the current from generator = %dA',i,ig);"
   ]
   }
,
{
		   "cell_type": "markdown",
		   "metadata": {},
		   "source": [
			"## Example 20.07: finding_the_current_supplied_by_generator.sce"
		   ]
		  },
  {
"cell_type": "code",
	   "execution_count": null,
	   "metadata": {
	    "collapsed": true
	   },
	   "outputs": [],
"source": [
"clear;\n",
"clc;\n",
"r1=20e6;\n",
"rb=30e6;\n",
"v1=11e3;\n",
"v2=110e3;\n",
"x1g=.2*rb/r1;\n",
"x1t=.08*rb/r1;\n",
"x2g=.2;\n",
"x2t=.1;\n",
"xl=.516;\n",
"x0=xl/2;\n",
"x1=x1g+x1t;\n",
"x2=x2g+x2t;\n",
"x=inv(inv(x2)+inv(x1));\n",
"z=x+x0;\n",
"E=1;\n",
"isc=E/z;\n",
"ig1=isc*x2/(x1+x2);\n",
"ig2=isc*x1/(x1+x2);\n",
"i=ig1+ig2;\n",
"ib=rb/(1.7355*v1);\n",
"ig1=fix(ig1*1000)/1000;\n",
"Ig1=ig1*ib;\n",
"ib=fix(ib);\n",
"ig2=fix(ig2*100)/100;\n",
"Ig2=ig2*ib;\n",
"Ig2=fix(Ig2);\n",
"mprintf('the current taken from G1=%dA(lagging)\n the current taken from G2=%dA(lagging)',Ig1,Ig2);"
   ]
   }
,
{
		   "cell_type": "markdown",
		   "metadata": {},
		   "source": [
			"## Example 20.08: to_calulate_the_subtransient_fault_current_and_breaker_current_rating.sce"
		   ]
		  },
  {
"cell_type": "code",
	   "execution_count": null,
	   "metadata": {
	    "collapsed": true
	   },
	   "outputs": [],
"source": [
"clear;\n",
"clc;\n",
"r=25e6;\n",
"rb=5e6;\n",
"v1=6.6e3;\n",
"v2=25e3;\n",
"xs=.2;\n",
"xt=.3;\n",
"Xs=xs*r/rb;\n",
"Xt=xt*r/rb;\n",
"Z=.125;\n",
"v=1;\n",
"I=v/(Z);\n",
"ib=r/(1.7355*v1);\n",
"ib=fix(ib);\n",
"i=ib*8;\n",
"ig=I*.25/.5;\n",
"im=I-ig;\n",
"it=3*1+im;\n",
"Ia=ib*it;\n",
"Imom=1.6*Ia;\n",
"xt=.15;\n",
"Zth=.375*.25/(.375+.25);\n",
"I=v/xt;\n",
"igen=I*.375/.625;\n",
"imot=.25*I*.25/.625;\n",
"itot=igen+(3*imot);//symm breaking current\n",
"ibr=itot*1.1;//asymm breaking current\n",
"is=itot*ib;\n",
"ia=ibr*ib*1.01;\n",
"ia=fix(ia/100)*100;\n",
"rbreaking=1.739*v1*ia;\n",
"rbreaking=fix(rbreaking/1e6)*1e6;\n",
"Imom=round(Imom/10)*10;\n",
"ia=round(ia);\n",
"is=fix(is/100)*100;\n",
"mprintf('the subtransient fault current If= %d/_-90A\nsubtansient current in breaker A=%dA\n the momentary current = %dA\n,the current to be interrupted asymmetric=%dA \n symmetric interrupting current=%dA\n the rating of the CB in kva=%dkVA',i,Ia,Imom,ia,is,rbreaking/1e3);"
   ]
   }
,
{
		   "cell_type": "markdown",
		   "metadata": {},
		   "source": [
			"## Example 20.09: to_calculate_the_fault_level.sce"
		   ]
		  },
  {
"cell_type": "code",
	   "execution_count": null,
	   "metadata": {
	    "collapsed": true
	   },
	   "outputs": [],
"source": [
"clc;\n",
"clear;\n",
"rb=100e6;\n",
"rf=1e6;\n",
"v=3.3e3;\n",
"x=rf/rb;\n",
"xpu=.6;\n",
"xtot=x+xpu;\n",
"rf2=rf/xtot;\n",
"rf2=round(rf2/1e4)*1e4;\n",
"If=rf2/(1.72*v);\n",
"If=fix(If);\n",
"mprintf('the fault level is=%fMVA\n the fault current=%dA',rf2/1e6,If);;"
   ]
   }
,
{
		   "cell_type": "markdown",
		   "metadata": {},
		   "source": [
			"## Example 20.10: to_calculate_the_max_possible_fault_level.sce"
		   ]
		  },
  {
"cell_type": "code",
	   "execution_count": null,
	   "metadata": {
	    "collapsed": true
	   },
	   "outputs": [],
"source": [
"clear;\n",
"clc;\n",
"r=500e3;\n",
"x=4.75/100;\n",
"fault=r/x;\n",
"fault=fix(fault/1e5)*1e5;\n",
"mprintf('the fault level on LT side=%dkVA',fault/1e3);"
   ]
   }
,
{
		   "cell_type": "markdown",
		   "metadata": {},
		   "source": [
			"## Example 20.11: to_calculate_the_fault_level.sce"
		   ]
		  },
  {
"cell_type": "code",
	   "execution_count": null,
	   "metadata": {
	    "collapsed": true
	   },
	   "outputs": [],
"source": [
"clc;\n",
"clear;\n",
"r1=75e6;\n",
"r2=150e6;\n",
"rb=r1+r2;\n",
"rf=rb;\n",
"x=.05;\n",
"xn=x*rb/1e6;\n",
"xeq=rb/rf;\n",
"X=xn+xeq;\n",
"fault=rb/X;\n",
"f=rb/xn;\n",
"fault=round(fault/1e4)*1e4\n",
"mprintf('fault level on LT sid eof transformer=%fMVA \n fault level when source of reactance is neglected=%fMVA',fault/1e6,f/1e6);"
   ]
   }
,
{
		   "cell_type": "markdown",
		   "metadata": {},
		   "source": [
			"## Example 20.12: To_calculate_the_fault_level_at_any_point_of_line.sce"
		   ]
		  },
  {
"cell_type": "code",
	   "execution_count": null,
	   "metadata": {
	    "collapsed": true
	   },
	   "outputs": [],
"source": [
"clear;\n",
"clc;\n",
"rb=100e6;\n",
"r1=50e6;\n",
"r2=rb;\n",
"x1=rb/r1;\n",
"x2=rb/r2;\n",
"xeq=inv(inv(x1)+inv(x2));\n",
"f=rb/xeq;\n",
"mprintf('the fault level on the line =%dMVA',f/1e6);"
   ]
   }
,
{
		   "cell_type": "markdown",
		   "metadata": {},
		   "source": [
			"## Example 20.13: to_find_initial_short_circuit_current_and_peak_SC_current.sce"
		   ]
		  },
  {
"cell_type": "code",
	   "execution_count": null,
	   "metadata": {
	    "collapsed": true
	   },
	   "outputs": [],
"source": [
"clear;\n",
"clc;\n",
"x=.23;\n",
"r=3750e3;\n",
"v=6600;\n",
"res=.866;\n",
"x1=x*(v^2)/r;\n",
"z=sqrt((res^2)+(x1^2));\n",
"i=1.1*v/(sqrt(3)*z);\n",
"f=res/x1;\n",
"x=1.38;\n",
"i=round(i/100)*100\n",
"is=sqrt(2)*x*i;\n",
"is=round(is/10)*10;\n",
"mprintf('initial short circuit current=%dA \n peak short circuit current=%dA',i,is);"
   ]
   }
,
{
		   "cell_type": "markdown",
		   "metadata": {},
		   "source": [
			"## Example 20.14: to_find_the_subtransient_currents.sce"
		   ]
		  },
  {
"cell_type": "code",
	   "execution_count": null,
	   "metadata": {
	    "collapsed": true
	   },
	   "outputs": [],
"source": [
"clear;\n",
"clc;\n",
"rb=75000e3;\n",
"ro=50e6;\n",
"v1=11e3;\n",
"v2=66e3;\n",
"xa=.25*rb/ro;\n",
"xb=.75;\n",
"xt=.1;\n",
"v=1;\n",
"xeq=inv(inv(xa)+inv(xb))+xt;\n",
"i=v/xeq;\n",
"i=round(i*100)/100;\n",
"ia=i*xb/(xa+xb);\n",
"ib=i*xa/(xa+xb);\n",
"ia=round(ia*100)/100;\n",
"ilt=rb/(sqrt(3)*v1);\n",
"iht=rb/(sqrt(3)*v2);\n",
"i=i*iht;\n",
"i=fix(i)\n",
"ia=ia*ilt;\n",
"ilt=rb/(1.73*v1);\n",
"ib=ib*ilt;\n",
"ia=round(ia);\n",
"ib=round(ib/10)*10;\n",
"mprintf('sub transient current generator A=%dA \n generator B=%dA \n HT side=%dA',ia,ib,i);"
   ]
   }
,
{
		   "cell_type": "markdown",
		   "metadata": {},
		   "source": [
			"## Example 20.15: to_find_SC_current_and_rms_current_and_making_and_breaking_capacity_required.sce"
		   ]
		  },
  {
"cell_type": "code",
	   "execution_count": null,
	   "metadata": {
	    "collapsed": true
	   },
	   "outputs": [],
"source": [
"clear;\n",
"clc;\n",
"x=1;\n",
"e=1;\n",
"i=e/x;\n",
"r=7.5e6;\n",
"v=6.6e3;\n",
"i=r/(sqrt(3)*v);\n",
"i=fix(i);\n",
"x2=.09;\n",
"i2=e/x2;\n",
"I2=i2*i;\n",
"I2=fix(I2/10)*10\n",
"idc=sqrt(2)*I2;\n",
"mc=idc*2;\n",
"x3=.15;\n",
"i3=e/x3;\n",
"I3=i3*i;\n",
"ib=I3*1.4;\n",
"Mva=sqrt(3)*v*ib;\n",
"idc=round(idc/1e2)*1e2;\n",
"mc=round(mc/1e2)*1e2;\n",
"I3=round(I3/10)*10;\n",
"Mva=fix(Mva/1e4)*1e4\n",
"mprintf('sustained short circuit current=%dA\ninitial symmetric SC current=%fkA\nmaximum dc component=%fkA\nmaking capacity required=%fkA\ntransient short circuit current=%fkA\n interrupting capacity required=%fMVA,Asymmetric',i,I2/1e3,idc/1e3,mc/1e3,I3/1e3,Mva/1e6);"
   ]
   }
,
{
		   "cell_type": "markdown",
		   "metadata": {},
		   "source": [
			"## Example 20.16_a: to_find_the_short_circuit_current.sce"
		   ]
		  },
  {
"cell_type": "code",
	   "execution_count": null,
	   "metadata": {
	    "collapsed": true
	   },
	   "outputs": [],
"source": [
"clear;\n",
"clc;\n",
"rb=2e6;\n",
"r=1.2e6;\n",
"x=7*rb/r;\n",
"v=6.6e3;\n",
"i=rb/v;\n",
"zb=v/i;\n",
"r=1200e3;\n",
"rb=2000e3;\n",
"v=6.6e3;\n",
"i=rb/v;\n",
"x=.1;\n",
"z0=v*x/i;\n",
"x1=7*rb/r;\n",
"z1=v*x1/(100*i);\n",
"z2=2;\n",
"z=z0+z1+z2;\n",
"ish=v/z;\n",
"zb=round(zb*10)/10;\n",
"ish=round(ish/10)*10;\n",
"mprintf('the shortcircuit current by direct ohmic method=%fA\n',ish);\n",
"mprintf('the base impedence=%fohm',zb);"
   ]
   }
,
{
		   "cell_type": "markdown",
		   "metadata": {},
		   "source": [
			"## Example 20.16_b: to_find_SC_current_by_ohmic_method.sce"
		   ]
		  },
  {
"cell_type": "code",
	   "execution_count": null,
	   "metadata": {
	    "collapsed": true
	   },
	   "outputs": [],
"source": [
"clear;\n",
"clc;\n",
"rb=2e6;\n",
"r=1.2e6;\n",
"x=7*rb/r;\n",
"x1=10;\n",
"x2=11.7;\n",
"v=6.6e3;\n",
"i=rb/v;\n",
"zb=v/i;\n",
"r=1200e3;\n",
"rb=2000e3;\n",
"v=6.6e3;\n",
"xt=.117;\n",
"xf=2/zb*100;\n",
"xtot=xf+x1+x2;\n",
"ish=i*100/xtot;\n",
"ish=round(ish/10)*10;\n",
"mprintf('the short circuit current by percentage reactance method=%fA',ish);"
   ]
   }
,
{
		   "cell_type": "markdown",
		   "metadata": {},
		   "source": [
			"## Example 20.16_c: To_find_the_new_SC_current.sce"
		   ]
		  },
  {
"cell_type": "code",
	   "execution_count": null,
	   "metadata": {
	    "collapsed": true
	   },
	   "outputs": [],
"source": [
"clear;\n",
"clc;\n",
"x1=5;\n",
"x2=10;\n",
"x3=11.7;\n",
"x4=9.1;\n",
"i=303;\n",
"xt=x1+x2+x3+x4;\n",
"ish=303*100/xt;\n",
"mprintf('the SHORT CIRCUIT CURRENT=%dA',ish)"
   ]
   }
,
{
		   "cell_type": "markdown",
		   "metadata": {},
		   "source": [
			"## Example 20.17_a: To_find_the_SC_current_of_the_circuit.sce"
		   ]
		  },
  {
"cell_type": "code",
	   "execution_count": null,
	   "metadata": {
	    "collapsed": true
	   },
	   "outputs": [],
"source": [
"clear;\n",
"clc;\n",
"v=3.3e3;\n",
"rb=3e6;\n",
"r1=1e6;\n",
"r2=1.5e6;\n",
"x1=10;\n",
"x2=20;\n",
"X1=x1*rb/r1;\n",
"X2=x2*rb/r2;\n",
"x=inv(inv(X1)+inv(X2));\n",
"kva=rb*100/x;\n",
"ish=kva/(1.7388*v);\n",
"ish=round(ish);\n",
"printf('the value of short circuit current=%dA',ish);"
   ]
   }
,
{
		   "cell_type": "markdown",
		   "metadata": {},
		   "source": [
			"## Example 20.17_b: to_find_the_reactance_of_the_reactor.sce"
		   ]
		  },
  {
"cell_type": "code",
	   "execution_count": null,
	   "metadata": {
	    "collapsed": true
	   },
	   "outputs": [],
"source": [
"clear;\n",
"clc;\n",
"v=3.3e3;\n",
"rb=3e6;\n",
"r1=1e6;\n",
"r2=1.5e6;\n",
"x1=10;\n",
"x2=20;\n",
"X1=x1*rb/r1;\n",
"X2=x2*rb/r2;\n",
"x=inv(inv(X1)+inv(X2));\n",
"kva=rb*100/x;\n",
"ish=kva/(sqrt(3)*v);\n",
"rx=10e6;\n",
"x2=rb*100/rx;\n",
"r=inv(inv(X1)-inv(X2))-30;\n",
"printf('the reactance of generator to be converted=%dpercent',r);"
   ]
   }
,
{
		   "cell_type": "markdown",
		   "metadata": {},
		   "source": [
			"## Example 20.18_a: To_calculate_the_reactance_of_the_reactor_to_limit_SC_MVA.sce"
		   ]
		  },
  {
"cell_type": "code",
	   "execution_count": null,
	   "metadata": {
	    "collapsed": true
	   },
	   "outputs": [],
"source": [
"clear;\n",
"clc;\n",
"r1=3e6;\n",
"x=10;\n",
"r=150e6;\n",
"rb=9e6;\n",
"x1=x*rb/r1;\n",
"xc=inv(2*inv(x1));\n",
"xt=rb*100/r;\n",
"x=(inv(inv(xt)-inv(xc)))-5;\n",
"printf('the reactance that should be added= %d percent',x);"
   ]
   }
,
{
		   "cell_type": "markdown",
		   "metadata": {},
		   "source": [
			"## Example 20.18_b: fault_level_at_generator_bus.sce"
		   ]
		  },
  {
"cell_type": "code",
	   "execution_count": null,
	   "metadata": {
	    "collapsed": true
	   },
	   "outputs": [],
"source": [
"clear;\n",
"clc;\n",
"z=4000;\n",
"zb=9;\n",
"x1=zb/z*100;\n",
"x2=5;\n",
"x3=30;\n",
"x4=30;\n",
"x=inv(inv(x1+x2)+inv(x3)+inv(x4));\n",
"x=round(x*100)/100;\n",
"fault=zb*1e3/x*100;\n",
"fault=fix(fault/1e3)*1e3;\n",
"mprintf('the new fault level of generator bus=%dMVA',fault/1e3);"
   ]
   }
,
{
		   "cell_type": "markdown",
		   "metadata": {},
		   "source": [
			"## Example 20.19: to_calculate_the_current_fed_to_the_faults.sce"
		   ]
		  },
  {
"cell_type": "code",
	   "execution_count": null,
	   "metadata": {
	    "collapsed": true
	   },
	   "outputs": [],
"source": [
"clear;\n",
"clc;\n",
"rb=20e6;\n",
"r=10e6;\n",
"v1=11e3;\n",
"v2=66e3;\n",
"x1=5;\n",
"X1=x1*rb/r;\n",
"xa=20;\n",
"xb=20;\n",
"xc=20;\n",
"xd=20;\n",
"xbus=25;\n",
"xtr=X1;\n",
"xcd=inv(inv(xc)+inv(xd));\n",
"xab=inv(inv(xa)+inv(xb));\n",
"xcdbus=xcd+xbus;\n",
"xn=inv(inv(xab)+inv(xcdbus));\n",
"xth=xtr+xn;\n",
"mva=rb/xth*100;\n",
"i=mva/(1.745*v2);\n",
"i=round(i);\n",
"printf('the SC MVA=%fMVA \n the SC current=%dA',mva/1e6,i);"
   ]
   }
,
{
		   "cell_type": "markdown",
		   "metadata": {},
		   "source": [
			"## Example 20.1: Calculate_Fault_MVA_and_current.sce"
		   ]
		  },
  {
"cell_type": "code",
	   "execution_count": null,
	   "metadata": {
	    "collapsed": true
	   },
	   "outputs": [],
"source": [
"clear;\n",
"clc;\n",
"V=6.6e3;\n",
"r=5e6;\n",
"X=.12;\n",
"F=r/X;\n",
"I=(F/V)/(%i*sqrt(3));\n",
"Ir=real(I);\n",
"Ii=imag(I);\n",
"Imod=sqrt((Ir^2)+(Ii^2));\n",
"Iangle=atand(Ir/Ii)-90;\n",
"F=fix(F/1e5)*1e5;\n",
"Imod=fix(Imod);\n",
"mprintf('Method 1 \nthe value of fault MVA=%fMVA \n the fault current is = %d /_%d A\n',(F/1e6),Imod,Iangle);\n",
"//method 2\n",
"Vbase=V/sqrt(3);\n",
"Ifaultpu=1/(X*%i);\n",
"Ibase=r/(Vbase*3);\n",
"Ifault=Ifaultpu*Ibase;\n",
"P=sqrt(3)*Ifault*V;\n",
"Ir=real(Ifault);\n",
"Ii=imag(Ifault);\n",
"Imod=sqrt((Ir^2)+(Ii^2));\n",
"Pr=real(P);\n",
"Pi=imag(P);\n",
"Pmod=sqrt((Pr^2)+(Pi^2));\n",
"Pangle=atand(Pr/Pi)-90;\n",
"Pmod=fix(Pmod/1e5)*1e5;\n",
"Imod=fix(Imod);\n",
"mprintf('From method 2\n the value of fault MVA=%f /_%d MVA \n the fault current is = %d A',(Pmod/1e6),Pangle,Imod);\n",
"//method 3\n",
"v1=6.4e3;\n",
"I=(v1/V)/X;\n",
"Ifault=Ibase*I;\n",
"p=sqrt(3)*Ifault*v1;//the difference in result is due to erroneous calculation in textbook.\n",
"p=round(p/1e5)*1e5;\n",
"mprintf('\nthe new fault current at 6.4kV is = %fA \n the newfault power at service voltage is =%fMVA',Ifault,p/1e6);\n",
"disp('the difference in result is due to erroneous calculation in textbook.');"
   ]
   }
,
{
		   "cell_type": "markdown",
		   "metadata": {},
		   "source": [
			"## Example 20.20_b: to_calculate_the_percentage_change_of_reactors_R.sce"
		   ]
		  },
  {
"cell_type": "code",
	   "execution_count": null,
	   "metadata": {
	    "collapsed": true
	   },
	   "outputs": [],
"source": [
"clear;\n",
"clc;\n",
"g=20;\n",
"v=11e3;\n",
"r=20e6;\n",
"n=4;\n",
"x=.4;\n",
"x1=g/(n-1);\n",
"z=((x1/x)-(x1))/1.33;\n",
"R=(z/100)*(v^2)/r;\n",
"R=round(R*1000)/1000;\n",
"printf('the value of reactance=%fohms',R);"
   ]
   }
,
{
		   "cell_type": "markdown",
		   "metadata": {},
		   "source": [
			"## Example 20.21: calculate_the_MVA_and_current_by_both_generator_and_transformer_side.sce"
		   ]
		  },
  {
"cell_type": "code",
	   "execution_count": null,
	   "metadata": {
	    "collapsed": true
	   },
	   "outputs": [],
"source": [
"clear;\n",
"clc;\n",
"xst=20;\n",
"xtr=28;\n",
"xs=250;\n",
"xt=15;\n",
"v1=25e3;\n",
"r1=500e6/.8;\n",
"v2=220e3;\n",
"rb=600e6;\n",
"vb=25e3;\n",
"xf=rb/r1;\n",
"xst=xst*xf/100;\n",
"xtr=xtr*xf/100;\n",
"xs=xs*xf/100;\n",
"xt=xt/100;\n",
"xeqs=inv(inv(xst)+inv(xt));\n",
"xeqt=inv(inv(xtr)+inv(xt));\n",
"xeg=inv(inv(xs)+inv(xt));\n",
"e=1;\n",
"xeqs=round(xeqs*1000)/1e3;\n",
"is=e/xeqs;\n",
"is=round(is);\n",
"it=e/xeqt;\n",
"ig=e/xeg;\n",
"i1=is*xt/(xt+xst);\n",
"i2=is*xst/(xst+xt);\n",
"ib=rb/(1.726*22.2*1e3);\n",
"Is=is*ib;\n",
"i1=round(i1*10)/10;\n",
"Is=round(Is/1e3)*1e3;\n",
"i2=fix(i2*100)/0100;\n",
"I1=i1*ib;\n",
"I2=i2*ib;\n",
"I1=fix(I1/1e2)*1e2;\n",
"I2=fix(I2/1e2)*1e2;\n",
"mprintf('total subtransient current T-off=%fkA\nsubtransient current on generator side=%fkA\n subtransient current on transformer side=%fkA',Is/1e3,I1/1e3,I2/1e3);"
   ]
   }
,
{
		   "cell_type": "markdown",
		   "metadata": {},
		   "source": [
			"## Example 20.22: calculate_the_short_circuit_level_and_normal_and_effective_fault_current.sce"
		   ]
		  },
  {
"cell_type": "code",
	   "execution_count": null,
	   "metadata": {
	    "collapsed": true
	   },
	   "outputs": [],
"source": [
"clc;\n",
"clear;\n",
"mvan=6800e6;\n",
"v=132e3;\n",
"mvac=200e6;\n",
"mvae=mvan-mvac;\n",
"n=mvan/(sqrt(3)*v);\n",
"e=mvae/(1.681*v);\n",
"e=fix(e/10)*10;\n",
"n=fix(n/10)*10;\n",
"printf('normal fault current=%f/_-90 kA\nEffective fault current=%f/_-90 kA',n/1e3,e/1e3);"
   ]
   }
,
{
		   "cell_type": "markdown",
		   "metadata": {},
		   "source": [
			"## Example 20.23: calculate_the_SC_ratio_and_effective_SC_ratio_of_HVDC_current.sce"
		   ]
		  },
  {
"cell_type": "code",
	   "execution_count": null,
	   "metadata": {
	    "collapsed": true
	   },
	   "outputs": [],
"source": [
"clear;\n",
"clc;\n",
"v=400e3;\n",
"mvan=30000e6;\n",
"mw=1500e6;\n",
"mvac=600e6;\n",
"n=mvan/mw;\n",
"mvae=mvan-mvac;////the difference in result is due to erroneous calculation in textbook.\n",
"e=mvae/mw;\n",
"mprintf('the SC raio=%d\neffective fault level=%fMVA\neffective circuit level of HVDC system(ESCR)=%f',n,mvae/1e6,e);\n",
"disp('the difference in result is due to erroneous calculation in textbook.');"
   ]
   }
,
{
		   "cell_type": "markdown",
		   "metadata": {},
		   "source": [
			"## Example 20.24: to_calculate_the_fault_levels_on_secondary_sides_of_transformer.sce"
		   ]
		  },
  {
"cell_type": "code",
	   "execution_count": null,
	   "metadata": {
	    "collapsed": true
	   },
	   "outputs": [],
"source": [
"clear;\n",
"clc;\n",
"s=1;\n",
"xt=5;\n",
"m=s/xt*100;\n",
"n=2*s/xt*100;\n",
"mprintf('fault level on lt side=%dMVA\n fault level on HT side=%dMVA',m,n);"
   ]
   }
,
{
		   "cell_type": "markdown",
		   "metadata": {},
		   "source": [
			"## Example 20.2: To_find_the_steady_state_fault_current.sce"
		   ]
		  },
  {
"cell_type": "code",
	   "execution_count": null,
	   "metadata": {
	    "collapsed": true
	   },
	   "outputs": [],
"source": [
"clear;\n",
"clc;\n",
"V=3000e3;\n",
"r1=30;\n",
"r=5000e3;\n",
"vb2=11e3;\n",
"vb3=33e3;\n",
"x=.2;\n",
"Xt=.05*r/V;\n",
"Xl=r1*r/(vb3^2);\n",
"xtotal=(x+Xt+Xl)*%i;\n",
"MVA=r*%i*1e-6/xtotal;\n",
"Ifault=MVA*1e6/(sqrt(3)*vb3*%i);\n",
"Ir=real(Ifault);\n",
"Ii=imag(Ifault);\n",
"Imod=sqrt((Ir^2)+(Ii^2));\n",
"Iangle=atand(Ir/Ii)-90;\n",
"Imod=round(Imod);\n",
"MVA=round(MVA*10)/10;\n",
"mprintf('the value of falut current = %d/_%d Amp \n fault MVA =%f MVA',Imod,Iangle,MVA);"
   ]
   }
],
"metadata": {
		  "kernelspec": {
		   "display_name": "Scilab",
		   "language": "scilab",
		   "name": "scilab"
		  },
		  "language_info": {
		   "file_extension": ".sce",
		   "help_links": [
			{
			 "text": "MetaKernel Magics",
			 "url": "https://github.com/calysto/metakernel/blob/master/metakernel/magics/README.md"
			}
		   ],
		   "mimetype": "text/x-octave",
		   "name": "scilab",
		   "version": "0.7.1"
		  }
		 },
		 "nbformat": 4,
		 "nbformat_minor": 0
}
