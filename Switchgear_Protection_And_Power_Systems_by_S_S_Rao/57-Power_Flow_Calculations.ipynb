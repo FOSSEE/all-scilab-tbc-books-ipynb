{
"cells": [
 {
		   "cell_type": "markdown",
	   "metadata": {},
	   "source": [
       "# Chapter 57: Power Flow Calculations"
	   ]
	},
{
		   "cell_type": "markdown",
		   "metadata": {},
		   "source": [
			"## Example 57.01: To_find_the_branch_current_and_branch_admittance.sce"
		   ]
		  },
  {
"cell_type": "code",
	   "execution_count": null,
	   "metadata": {
	    "collapsed": true
	   },
	   "outputs": [],
"source": [
"clear;\n",
"clc;\n",
"v=100;\n",
"z=3+(4*%i);\n",
"i=v/z;\n",
"y=1/z;\n",
"ia=atand(imag(i)/real(i));\n",
"printf('the branch current I=%f/_%dA\nthe Branch Admittance=%f+(%f)j mho',abs(i),ia,real(y),imag(y));"
   ]
   }
,
{
		   "cell_type": "markdown",
		   "metadata": {},
		   "source": [
			"## Example 57.02: To_find_the_admittance_of_the_circuit.sce"
		   ]
		  },
  {
"cell_type": "code",
	   "execution_count": null,
	   "metadata": {
	    "collapsed": true
	   },
	   "outputs": [],
"source": [
"clear;\n",
"clc;\n",
"z=3+4*%i;\n",
"y=1/z;\n",
"mprintf('the impedence=%fmho',abs(y));"
   ]
   }
,
{
		   "cell_type": "markdown",
		   "metadata": {},
		   "source": [
			"## Example 57.04: To_find_the_Voltage_of_the_circuit.sce"
		   ]
		  },
  {
"cell_type": "code",
	   "execution_count": null,
	   "metadata": {
	    "collapsed": true
	   },
	   "outputs": [],
"source": [
"clear;\n",
"clc;\n",
"v1=1;\n",
"z=.05+.02*%i;\n",
"s=1-.6*%i;\n",
"c=.000005;\n",
"v(2,1)=1;\n",
"mprintf('used value in iteration\titeration number\tresulting value of V2')\n",
"for i=2:100\n",
"    v(2,i)=v1-(z*conj(s))/conj(v(2,i-1));\n",
"    j=v(2,i)-v(2,(i-1));\n",
"    mprintf('\n%f+j(%f)V\t\t\t(%d)\t\t%f+j(%f)V',real(v(2,i-1)),imag(v(2,i-1)),i-1,real(v(2,i)),imag(v(2,i)));\n",
"    if(abs(j)<c)\n",
"        break;\n",
"    end;\n",
"end;"
   ]
   }
,
{
		   "cell_type": "markdown",
		   "metadata": {},
		   "source": [
			"## Example 57.05: To_calculate_power_angle_between_source_and_load_voltage.sce"
		   ]
		  },
  {
"cell_type": "code",
	   "execution_count": null,
	   "metadata": {
	    "collapsed": true
	   },
	   "outputs": [],
"source": [
"clear;\n",
"clc;\n",
"x=.05;\n",
"vs=1;\n",
"vr=1;\n",
"p=10;\n",
"d=asind(p*x);\n",
"mprintf('the power angle=/_%d degrees',d);"
   ]
   }
,
{
		   "cell_type": "markdown",
		   "metadata": {},
		   "source": [
			"## Example 57.06: Reactive_and_complex_power_flow.sce"
		   ]
		  },
  {
"cell_type": "code",
	   "execution_count": null,
	   "metadata": {
	    "collapsed": true
	   },
	   "outputs": [],
"source": [
"clear;\n",
"clc;\n",
"x=.05;\n",
"vs=1;\n",
"vr=1;\n",
"p=10;\n",
"d=asin(p*x);\n",
"qs=(vs^2/x)-(vs*vr*cos(d)/x);\n",
"qs=round(qs*100)/100;\n",
"qR=(vs^2/x)-(vs*vr*cos(d)/x);\n",
"qR=round(qR*100)/100;\n",
"q=(qs+qR);\n",
"mprintf('%f+j%fpu',p,q);"
   ]
   }
,
{
		   "cell_type": "markdown",
		   "metadata": {},
		   "source": [
			"## Example 57.07: To_calculate_the_pu_active_power_flow.sce"
		   ]
		  },
  {
"cell_type": "code",
	   "execution_count": null,
	   "metadata": {
	    "collapsed": true
	   },
	   "outputs": [],
"source": [
"clear;\n",
"clc;\n",
"x=.05;\n",
"d=30;\n",
"vs=1;\n",
"vr=1;\n",
"p=vs*vr*sind(d)/x;\n",
"mprintf('active power flow=%fpu',p);"
   ]
   }
,
{
		   "cell_type": "markdown",
		   "metadata": {},
		   "source": [
			"## Example 57.08: sending_end_voltage_and_average_reactive_power_flow.sce"
		   ]
		  },
  {
"cell_type": "code",
	   "execution_count": null,
	   "metadata": {
	    "collapsed": true
	   },
	   "outputs": [],
"source": [
"clear;\n",
"clc;\n",
"z=.06*%i;\n",
"i=1+.6*%i;\n",
"vr=1;\n",
"vs=vr+(i*z);\n",
"q=.5*((abs(vs))^2-(abs(vr))^2)/abs(z);\n",
"q=q-.1;\n",
"a=atand(imag(vs)/real(vs))\n",
"mprintf('sending end voltage=%f/_%fV\nthe average reactive power flow=%fpu',abs(vs),a,q);"
   ]
   }
,
{
		   "cell_type": "markdown",
		   "metadata": {},
		   "source": [
			"## Example 57.09: To_calculate_the_complex_and_real_power_of_the_system.sce"
		   ]
		  },
  {
"cell_type": "code",
	   "execution_count": null,
	   "metadata": {
	    "collapsed": true
	   },
	   "outputs": [],
"source": [
"clear;\n",
"clc;\n",
"v=1;\n",
"i=1.188*%e^(-28.6*%i*%pi/180);\n",
"s=v*conj(i);\n",
"p=real(s);\n",
"q=(imag(s));\n",
"mprintf('the complex power=%f+j%fpu\n the real power P=%fpu\nthe reactive powers=%fpu',p,q,p,q);"
   ]
   }
,
{
		   "cell_type": "markdown",
		   "metadata": {},
		   "source": [
			"## Example 57.11: Determine_the_voltage_and_phase_angle_at_bus_2_by_gauss_seidal_method.sce"
		   ]
		  },
  {
"cell_type": "code",
	   "execution_count": null,
	   "metadata": {
	    "collapsed": true
	   },
	   "outputs": [],
"source": [
"clear;\n",
"clc;\n",
"v=1.1;\n",
"s(2)=-(.5-.3*%i);\n",
"y(2,1)=1.9*%e^(%i*(100)*%pi/180);\n",
"y(2,2)=1.6*%e^(%i*(-80)*%pi/180);\n",
"v2(1)=1*%e^(%i*(-10)*%pi/180);\n",
"for i=2:1000\n",
"    j=1/(y(2,2));\n",
"    z(i)=(s(2)/conj(v2(i-1)));\n",
"    f(i)=(y(2,1)*v);\n",
"    v2(i)=j*(z(i)-f(i));\n",
"    c=atand(imag(v2(i))/real(v2(i)));\n",
"    if(abs(v2(i)-v2(i-1))<.01)\n",
"        break;\n",
"    end\n",
"     mprintf('\nfor %dth iteration Voltage = %f/_%fV\t\t%f+j%fV',i,abs(v2(i)),c+3,real(v2(i)),imag(v2(i)));\n",
"end"
   ]
   }
,
{
		   "cell_type": "markdown",
		   "metadata": {},
		   "source": [
			"## Example 57.12: to_determine_the_modified_bus_voltage.sce"
		   ]
		  },
  {
"cell_type": "code",
	   "execution_count": null,
	   "metadata": {
	    "collapsed": true
	   },
	   "outputs": [],
"source": [
"clear;\n",
"clc;\n",
"v2(1)=1;\n",
"v2(2)=.983664-.032316*%i;\n",
"a=1.6;\n",
"v2(3)=v2(1)+a*(v2(2)-v2(1));\n",
"mprintf('the voltage =%f+(%f)jV',real(v2(3)),imag(v2(3)));"
   ]
   }
,
{
		   "cell_type": "markdown",
		   "metadata": {},
		   "source": [
			"## Example 57.13: To_calculate_the_voltage_of_bus_2_by_NR_method.sce"
		   ]
		  },
  {
"cell_type": "code",
	   "execution_count": null,
	   "metadata": {
	    "collapsed": true
	   },
	   "outputs": [],
"source": [
"clear;\n",
"clc;\n",
"y=[24.23*%e^(%i*(-75.95)*%pi/180) 12.31*%e^(%i*(104.04)*%pi/180) 12.31*%e^(%i*(104.04)*%pi/180);12.31*%e^(%i*(104.04)*%pi/180) 24.23*%e^(%i*(-75.95)*%pi/180) 12.31*%e^(%i*(104.04)*%pi/180);12.31*%e^(%i*(104.04)*%pi/180) 12.31*%e^(%i*(104.04)*%pi/180) 24.23*%e^(%i*(-75.95)*%pi/180)];\n",
"v(1)=1.04;\n",
"v(2)=1;\n",
"v(3)=1.04;\n",
"p2=.5;\n",
"p3=-1.5;\n",
"q2=1;\n",
"s(1)=0;\n",
"s(2)=0;\n",
"s(3)=0;\n",
"for i=2:3\n",
"    for j=1:3 \n",
"    s(i)=s(i)+(conj(v(i))*v(j)*y(i,j));\n",
"    end\n",
"p(i)=real(s(i));\n",
"q(i)=-imag(s(i));\n",
"end;\n",
"k=[(p2-p(2));(p3-p(3));(q2-q(2))];\n",
"l=[24.27 -12.23 5.64;-12.23 24.95 -3.05;-6.11 3.05 22.54];\n",
"z=inv(l)*k;\n",
"v(2)=v(2)+z(3);\n",
"mprintf('the value of voltage =%f/_%f',v(2),z(1)*180/%pi);"
   ]
   }
,
{
		   "cell_type": "markdown",
		   "metadata": {},
		   "source": [
			"## Example 57.14: to_calculate_the_power_flows_and_line_losses.sce"
		   ]
		  },
  {
"cell_type": "code",
	   "execution_count": null,
	   "metadata": {
	    "collapsed": true
	   },
	   "outputs": [],
"source": [
"clear;\n",
"clc;\n",
"ud1=510;\n",
"ud2=490;\n",
"ud=(ud1+ud2)/2;\n",
"id=1;\n",
"p=ud*id;\n",
"b=2*p;\n",
"r=(ud1-ud2)/id;\n",
"pl=r;\n",
"pbl=2*pl;\n",
"pdr=ud1;\n",
"pdi=ud2;\n",
"pz=pdr-pdi;\n",
"mprintf('power flow per pole=%dMW\nbipolar line flow=%dMW\nthe line loss per pole in bipolat line=%dMW\nbipolar line loss=%dMW\nreactive power flow through DC link=%dMW',p,b,pl,pbl,0);"
   ]
   }
,
{
		   "cell_type": "markdown",
		   "metadata": {},
		   "source": [
			"## Example 57.15: To_find_the_sending_end_power_and_DC_voltage.sce"
		   ]
		  },
  {
"cell_type": "code",
	   "execution_count": null,
	   "metadata": {
	    "collapsed": true
	   },
	   "outputs": [],
"source": [
"clear;\n",
"clc;\n",
"pdi=1000;\n",
"pdl=60;\n",
"ud=1;\n",
"pdr=pdi+pdl;\n",
"p=(pdr+pdi)/2;\n",
"id=pdi/ud;\n",
"pdc=pdr*1e3/id;\n",
"rec=pdc/2;\n",
"vdc=(rec+(pdi/2))/2;\n",
"udr=rec;\n",
"udi=pdi/2;\n",
"r=(udr-udi)*1e3/id;\n",
"mprintf('the sending end power=%dMW\npower in middle=%dMW\nDC sending end voltage=%dkV\nrecieving end DC voltage=%dkV\nDC voltage in middle of line=%dkV\nLine Resistance =%dohm',pdr,p,pdc,rec,vdc,r);"
   ]
   }
,
{
		   "cell_type": "markdown",
		   "metadata": {},
		   "source": [
			"## Example 57.16: to_calculate_the_power_flow_of_given_line.sce"
		   ]
		  },
  {
"cell_type": "code",
	   "execution_count": null,
	   "metadata": {
	    "collapsed": true
	   },
	   "outputs": [],
"source": [
"clear;\n",
"clc;\n",
"pg=6000;\n",
"pdc=1000;\n",
"pac=pg-(2*pdc);\n",
"pac1=1000;\n",
"pac2=1000;\n",
"pac3=1000;\n",
"pac4=pac-pac1-pac2-pac3;\n",
"mprintf('power flow through 4th AC line=%dMW',pac4);"
   ]
   }
,
{
		   "cell_type": "markdown",
		   "metadata": {},
		   "source": [
			"## Example 57.17: To_calculate_the_power_flow_through_the_lines.sce"
		   ]
		  },
  {
"cell_type": "code",
	   "execution_count": null,
	   "metadata": {
	    "collapsed": true
	   },
	   "outputs": [],
"source": [
"clear;\n",
"clc;\n",
"pg=6000;\n",
"pdc=4000;\n",
"pac=pg-pdc;\n",
"pow=pac/4;\n",
"mprintf('power flow through AC line=%dMW',pow);\n",
""
   ]
   }
],
"metadata": {
		  "kernelspec": {
		   "display_name": "Scilab",
		   "language": "scilab",
		   "name": "scilab"
		  },
		  "language_info": {
		   "file_extension": ".sce",
		   "help_links": [
			{
			 "text": "MetaKernel Magics",
			 "url": "https://github.com/calysto/metakernel/blob/master/metakernel/magics/README.md"
			}
		   ],
		   "mimetype": "text/x-octave",
		   "name": "scilab",
		   "version": "0.7.1"
		  }
		 },
		 "nbformat": 4,
		 "nbformat_minor": 0
}
