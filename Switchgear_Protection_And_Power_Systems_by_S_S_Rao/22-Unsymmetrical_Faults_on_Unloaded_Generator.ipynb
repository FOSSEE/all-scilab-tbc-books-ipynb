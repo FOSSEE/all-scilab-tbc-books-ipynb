{
"cells": [
 {
		   "cell_type": "markdown",
	   "metadata": {},
	   "source": [
       "# Chapter 22: Unsymmetrical Faults on Unloaded Generator"
	   ]
	},
{
		   "cell_type": "markdown",
		   "metadata": {},
		   "source": [
			"## Example 22.01: to_calculate_the_sub_transient_currents_for_different_types_of_fault.sce"
		   ]
		  },
  {
"cell_type": "code",
	   "execution_count": null,
	   "metadata": {
	    "collapsed": true
	   },
	   "outputs": [],
"source": [
"clear;\n",
"clc;\n",
"v=11e3/sqrt(3);\n",
"r=25e6;\n",
"x2=.35*%i;\n",
"x0=.1*%i;\n",
"x1=.25*%i;\n",
"e=1;\n",
"ia0=e/(x0+x1+x2);\n",
"ia0=round(ia0*100)/100;\n",
"ia1=ia0;\n",
"ia2=ia0;\n",
"ia=3*ia0;\n",
"ibase=r/((3)*v);\n",
"Ifault=3*ia0*ibase;\n",
"Ifault=round(Ifault/10)*10;\n",
"va1=e-(ia1*x1);\n",
"va2=-ia2*x2;\n",
"va0=-ia0*x0;\n",
"a=1*%e^(%i*(120*%pi/180));\n",
"b=a^2;\n",
"va=(va1+va2+va0);\n",
"vb=(va0+(b*va1)+(a*va2));\n",
"vc=(va0+(a*va1)+(b*va2));\n",
"vab=va-vb;\n",
"vbc=vb-vc;\n",
"vca=vc-va;\n",
"vab=vab*v;\n",
"vbc=vbc*v;\n",
"vca=vca*v;\n",
"va0r=real(vab);\n",
"va0i=imag(vab);\n",
"va0m=sqrt((va0r^2)+(va0i^2));\n",
"va0a=atand(va0i/va0r);\n",
"va1r=real(vbc);\n",
"va1i=imag(vbc);\n",
"va1m=sqrt((va1r^2)+(va1i^2));\n",
"va1a=atand(va1i/va1r);\n",
"va2r=real(vca);\n",
"va2i=imag(vca);\n",
"va2m=sqrt((va2r^2)+(va2i^2));\n",
"va2a=atand(va2i/va2r);\n",
"mprintf('the subtransient voltage levels are \n vab=%f+j%f V \tor\t %f/_%d kV',round(va0r*100/1e3)/100,round(va0i*100/1e3)/100,round(va0m*100/1e3)/100,va0a);\n",
"mprintf('\n vbc=%f+j(%f) kV \tor\t %f/_%d V',round(va1r*100/1e3)/100,round(va1i*100/1e3)/100,round(va1m*100/1e3)/100,round(va1a)+180);\n",
"mprintf('\n vca=%f+j(%f) kV \tor\t %f/_%d V',round(va2r*100/1e3)/100,round(va2i*100/1e3)/100,round(va2m*100/1e3)/100,180+va2a);\n",
"\n",
"Iar=real(Ifault);\n",
"Iai=imag(Ifault);\n",
"Iamod=sqrt((Iar^2)+(Iai^2));\n",
"iaa=atand(Iar/Iai)-90;\n",
"mprintf('\n the subtransient line current \n Ia=%f+j(%f) A \tor\t %f/_%d A',Iar,Iai,Iamod,iaa);"
   ]
   }
,
{
		   "cell_type": "markdown",
		   "metadata": {},
		   "source": [
			"## Example 22.02: To_find_ratio_of_line_currents_to_single_line_to_ground_faults.sce"
		   ]
		  },
  {
"cell_type": "code",
	   "execution_count": null,
	   "metadata": {
	    "collapsed": true
	   },
	   "outputs": [],
"source": [
"clear;\n",
"clc;\n",
"v=11e3;\n",
"r=10e6;\n",
"x1=.05*%i;\n",
"x2=.15*%i;\n",
"x0=.15*%i;\n",
"e=1;\n",
"ia1=e/(x0+x1+x2);\n",
"ia=3*ia1;\n",
"ic=e/x0;\n",
"c=ia/ic;\n",
"mprintf('the ratio of line to ground fault to 3phase fault=%f',c);"
   ]
   }
,
{
		   "cell_type": "markdown",
		   "metadata": {},
		   "source": [
			"## Example 22.03: to_calculate_line_current_for_single_line_to_ground_fault.sce"
		   ]
		  },
  {
"cell_type": "code",
	   "execution_count": null,
	   "metadata": {
	    "collapsed": true
	   },
	   "outputs": [],
"source": [
"clear;\n",
"clc;\n",
"v=11e3;\n",
"r=25e6;\n",
"e=1;\n",
"xg0=.05*%i;\n",
"x1=.15*%i;\n",
"x2=.15*%i;\n",
"zbase=v^2/r;\n",
"res=.3;\n",
"xd=res/zbase;\n",
"x0=xg0+(3*xd*%i);\n",
"x=x1+x2+x0;\n",
"ia0=e/x;\n",
"ia=3*ia0;\n",
"iabase=r/(1.7398*v);\n",
"ia=ia*iabase;\n",
"ia=fix(ia);\n",
"printf('the line current for a line to ground fault=%dA',-imag(ia));"
   ]
   }
,
{
		   "cell_type": "markdown",
		   "metadata": {},
		   "source": [
			"## Example 22.04_a: To_calculate_subtransient_voltage_between_double_line_to_ground_fault.sce"
		   ]
		  },
  {
"cell_type": "code",
	   "execution_count": null,
	   "metadata": {
	    "collapsed": true
	   },
	   "outputs": [],
"source": [
"clear;\n",
"clc;\n",
"v=11e3/sqrt(3);\n",
"r=25e6;\n",
"x1=.25*%i;\n",
"x2=.35*%i;\n",
"x0=.1*%i;\n",
"xn=0;\n",
"e=1;\n",
"ia1=e/(x1+(x0*x2/(x0+x2)));\n",
"va1=e-(ia1*x1);\n",
"va2=va1;\n",
"va0=va2;\n",
"ia2=-va2/x2;\n",
"ia0=-va0/x0;\n",
"a=1*%e^(%i*(120*%pi/180));\n",
"b=a^2;\n",
"ia=(ia0+ia1+ia2);\n",
"ib=(ia0+(b*ia1)+(a*ia2));\n",
"ic=(ia0+(a*ia1)+(b*ia2));\n",
"in=3*ia0;\n",
"va=3*va1;\n",
"vb=0;\n",
"vc=vb;\n",
"vab=va;\n",
"vbc=vb-vc;\n",
"vca=-va;\n",
"vab=v*vab;\n",
"vca=v*vca;\n",
"i=r/(3*v);\n",
"ia0r=real(ia);\n",
"ia0i=imag(ia);\n",
"iam=sqrt((ia0r^2)+(ia0i^2));\n",
"ia1r=real(ib);\n",
"ia1i=imag(ib);\n",
"ibm=sqrt((ia1r^2)+(ia1i^2));\n",
"ia2r=real(ic);\n",
"ia2i=imag(ic);\n",
"icm=sqrt((ia2r^2)+(ia2i^2));\n",
"ic=icm*i;\n",
"ib=ibm*i;\n",
"ia=iam*i;\n",
"ib=round(ib/01e2)*1e2;\n",
"ic=round(ic/01e2)*1e2;\n",
"in=in*i*%i;\n",
"mprintf('the line voltages are\nvab=%fV \t vbc=%fkV \t vca=%f/_180kV\nthe line currents are\nia=%fA \t ib=%dA \t ic=%dA \t in=%dA',vab/1e3,vbc/1e3,-vca/1e3,ia,-ib,ic,-real(in));"
   ]
   }
,
{
		   "cell_type": "markdown",
		   "metadata": {},
		   "source": [
			"## Example 22.04_b: To_calculate_fault_current_following_through_the_neutral_reactor.sce"
		   ]
		  },
  {
"cell_type": "code",
	   "execution_count": null,
	   "metadata": {
	    "collapsed": true
	   },
	   "outputs": [],
"source": [
"clear;\n",
"clc;\n",
"v=11e3/sqrt(3);\n",
"r=25e6;\n",
"x1=.25*%i;\n",
"x2=.35*%i;\n",
"xg0=.1*%i;\n",
"xn=0.1*%i;\n",
"e=1;\n",
"x0=xg0+(3*xn);\n",
"ia1=e/(x1+(x0*x2/(x0+x2)));\n",
"va1=e-(ia1*x1);\n",
"va2=va1;\n",
"va0=va2;\n",
"ia2=-va2/x2;\n",
"ia0=-va0/x0;\n",
"a=1*%e^(%i*(120*%pi/180));\n",
"b=a^2;\n",
"ia=(ia0+ia1+ia2);\n",
"ib=(ia0+(b*ia1)+(a*ia2));\n",
"ic=(ia0+(a*ia1)+(b*ia2));\n",
"ia0r=real(ia);\n",
"ia0i=imag(ia);\n",
"iam=sqrt((ia0r^2)+(ia0i^2));\n",
"ia1r=real(ib);\n",
"ia1i=imag(ib);\n",
"ibm=sqrt((ia1r^2)+(ia1i^2));\n",
"ia2r=real(ic);\n",
"ia2i=imag(ic);\n",
"icm=sqrt((ia2r^2)+(ia2i^2));//the difference in result is due to erroneous calculation in textbook.\n",
"iaa=0;\n",
"iba=atand(ia1i/ia1r);\n",
"ica=atand(ia2i/ia2r);\n",
"mprintf('the symmetric components  are \n ia0=%f+j%f A \tor\t %f/_%d A',ia0r,ia0i,iam,iaa);\n",
"mprintf('\n ib=%f+j%f A \tor\t %f/_%d A',ia1r,ia1i,ibm,iba);\n",
"mprintf('\n ic=%f+j(%f) A \tor\t %f/_%d A',ia2r,ia2i,icm,ica);\n",
"in=ib+ic;\n",
"mprintf('\nneutal current In=%fA',(imag(in)*1310));\n",
"disp('//the difference in result is due to erroneous calculation in textbook.')"
   ]
   }
,
{
		   "cell_type": "markdown",
		   "metadata": {},
		   "source": [
			"## Example 22.05: TO_find_fault_current_and_line_to_neutral_voltages_at_generator_terminals.sce"
		   ]
		  },
  {
"cell_type": "code",
	   "execution_count": null,
	   "metadata": {
	    "collapsed": true
	   },
	   "outputs": [],
"source": [
"clear;\n",
"clc;\n",
"r=10e6;\n",
"v=11e3;\n",
"e=1;\n",
"x1=.26*%i;\n",
"x2=.18*%i;\n",
"x0=.36*%i;\n",
"ia1=e/(x1+(x0*x2/(x0+x2)));\n",
"va1=e-(ia1*x1);\n",
"va2=va1;\n",
"va0=va2;\n",
"ia2=-va2/x2;\n",
"ia0=-va0/x0;\n",
"a=1*%e^(%i*(120*%pi/180));\n",
"b=a^2;\n",
"ia=(ia0+ia1+ia2);\n",
"ib=(ia0+(b*ia1)+(a*ia2));\n",
"ic=(ia0+(a*ia1)+(b*ia2));\n",
"i=r/(sqrt(3)*v);\n",
"ia=ia*i;\n",
"ib=ib*i;\n",
"ic=ic*i;\n",
"ia0r=real(ia);\n",
"ia0i=imag(ia);\n",
"iam=sqrt((ia0r^2)+(ia0i^2));\n",
"ia1r=real(ib);\n",
"ia1i=imag(ib);\n",
"ibm=sqrt((ia1r^2)+(ia1i^2));\n",
"ia2r=real(ic);\n",
"ia2i=imag(ic);\n",
"icm=sqrt((ia2r^2)+(ia2i^2));\n",
"icm=round(icm);\n",
"ibm=round(ibm);\n",
"iaa=0;\n",
"iba=180+atand(ia1i/ia1r);\n",
"ica=atand(ia2i/ia2r);\n",
"mprintf('the symmetric components  are \n ia0=%f+j%f A \tor\t %f/_%d A',ia0r,ia0i,iam,iaa);\n",
"mprintf('\n ib=%f+j%f A \tor\t %f/_%d A',ia1r,ia1i,ibm,iba);\n",
"mprintf('\n ic=%f+j(%f) A \tor\t %f/_%d A',ia2r,ia2i,icm,ica);\n",
"in=ib+ic;\n",
"mprintf('\nneutal current In=%fA',(imag(in)*1310));\n",
"//at generator\n",
"x1=.16*%i;\n",
"x2=.08*%i;\n",
"x0=.06*%i;\n",
"va1=1-(ia1*x1);\n",
"va2=-ia2*x2;\n",
"va0=ia0*x0;\n",
"va=(va0+va1+va2);\n",
"vb=(va0+(b*va1)+(a*va2));//the difference in result is due to erroneous calculation in textbook.\n",
"\n",
"vc=(va0+(a*va1)+(b*va2));\n",
"v=v/sqrt(3);\n",
"va=v*va/1e3;\n",
"vb=v*vb/1e3;\n",
"vc=v*vc/1e3;\n",
"va0r=real(va);\n",
"va0i=imag(va);\n",
"va0m=sqrt((va0r^2)+(va0i^2));\n",
"va0a=atand(va0i/va0r);\n",
"va1r=real(vb);\n",
"va1i=imag(vb);\n",
"va1m=sqrt((va1r^2)+(va1i^2));\n",
"va1a=atand(va1i/va1r);\n",
"va2r=real(vc);\n",
"va2i=imag(vc);\n",
"va2m=sqrt((va2r^2)+(va2i^2));\n",
"va2a=atand(va2i/va2r);\n",
"mprintf('\nthe voltage levels are \n va=%f+j%f kV \tor\t %f/_%d kV',va0r,va0i,va0m,va0a);\n",
"mprintf('\n vb=%f+j(%f) kV \tor\t %f/_%d kV',va1r,va1i,va1m,va1a);//the difference in result is due to erroneous calculation in textbook.\n",
"mprintf('\n vc=%f+j(%f) kV \tor\t %f/_%d kV',va2r,va2i,va2m,va2a);\n",
"disp('the difference in result is due to erroneous calculation in textbook.');"
   ]
   }
,
{
		   "cell_type": "markdown",
		   "metadata": {},
		   "source": [
			"## Example 22.06: To_calculate_subtransient_voltage_between_line_to_line_fault.sce"
		   ]
		  },
  {
"cell_type": "code",
	   "execution_count": null,
	   "metadata": {
	    "collapsed": true
	   },
	   "outputs": [],
"source": [
"clear;\n",
"clc;\n",
"r=1250e3;\n",
"v=600;\n",
"z1=.15*%i;\n",
"z2=.3*%i;\n",
"z3=.05*%i;\n",
"z4=.55*%i;\n",
"x1=inv(inv(z2)+inv(z1));\n",
"x2=x1;\n",
"x0=inv(inv(z3)+inv(z4));\n",
"e=1;\n",
"ia1=e/(x1+x2+x0);\n",
"ia2=ia1;\n",
"ia0=ia2;\n",
"ia=3*ia1;//the difference in result is due to erroneous calculation in textbook.\n",
"base=r/(sqrt(3)*v);\n",
"ita=ia*base;\n",
"mprintf('the fault current=%fA',-imag(ita));\n",
"disp('the difference in result is due to erroneous calculation in textbook.');"
   ]
   }
,
{
		   "cell_type": "markdown",
		   "metadata": {},
		   "source": [
			"## Example 22.07: ratio_of_line_currents_for_line_to_line_to_three_phase_faults.sce"
		   ]
		  },
  {
"cell_type": "code",
	   "execution_count": null,
	   "metadata": {
	    "collapsed": true
	   },
	   "outputs": [],
"source": [
"clc;\n",
"clear;\n",
"e=1;\n",
"x1=.15*%i;\n",
"x2=.15*%i;\n",
"ia1=e/(x1+x2);\n",
"a=1*%e^(%i*(120*%pi/180));\n",
"b=a^2;\n",
"ia2=-ia1;\n",
"ia=(b-a)*ia1;\n",
"iap=e/x1;\n",
"c=real(ia)/imag(iap);\n",
"mprintf('the ratio to line to line fault to three phase fault=%f',c);"
   ]
   }
,
{
		   "cell_type": "markdown",
		   "metadata": {},
		   "source": [
			"## Example 22.08: To_calculate_the_percentage_reactance_and_resistance.sce"
		   ]
		  },
  {
"cell_type": "code",
	   "execution_count": null,
	   "metadata": {
	    "collapsed": true
	   },
	   "outputs": [],
"source": [
"clear;\n",
"clc;\n",
"e=1;\n",
"x1=.6;\n",
"x2=.25;\n",
"x0=.15;\n",
"ia=1;\n",
"xn=(3*e/3*ia)-((x1+x2+x0)/3);\n",
"ifault=1;\n",
"r=sqrt(8/9);\n",
"mprintf('the percentage reactance that should be added in the generator neutral =%fpercent\n',xn*100);\n",
"mprintf('resistance to be added in neutral to ground circuit to achieve the same purpose is %f',r);"
   ]
   }
,
{
		   "cell_type": "markdown",
		   "metadata": {},
		   "source": [
			"## Example 22.09: To_find_the_SC_current_and_ratio_of_generator_contribution.sce"
		   ]
		  },
  {
"cell_type": "code",
	   "execution_count": null,
	   "metadata": {
	    "collapsed": true
	   },
	   "outputs": [],
"source": [
"clear;\n",
"clc;\n",
"x1=.07*%i;\n",
"x2=.04*%i;\n",
"x0=.1*%i;\n",
"e=1;\n",
"ia=3*e/(x1+x2+x0);\n",
"ia=-imag(ia);\n",
"ia0=ia/3;\n",
"ia1=ia/3;\n",
"ia2=ia1;\n",
"ia1=ia1/3;\n",
"ia2=ia1;\n",
"ig1=ia0+ia2+ia1;\n",
"ig2=ia1+ia2;\n",
"ig3=ig2;\n",
"c=ig1/ig2;\n",
"ia=round(ia*10)/10;\n",
"c=4.05*c;\n",
"d=4.05;\n",
"mprintf('for single line to ground fault Ia=-j%fA',ia);\n",
"mprintf('\nthe ratio of contribution of generator I, II and III is %d:%d:%d',c,d,d);\n",
"i3=e/(x1);\n",
"il=3*e/(x1+x2+x0);\n",
"y=i3/il;\n",
"mprintf('\nthe ratio of 3-phase to line to ground fault=%f',y);"
   ]
   }
],
"metadata": {
		  "kernelspec": {
		   "display_name": "Scilab",
		   "language": "scilab",
		   "name": "scilab"
		  },
		  "language_info": {
		   "file_extension": ".sce",
		   "help_links": [
			{
			 "text": "MetaKernel Magics",
			 "url": "https://github.com/calysto/metakernel/blob/master/metakernel/magics/README.md"
			}
		   ],
		   "mimetype": "text/x-octave",
		   "name": "scilab",
		   "version": "0.7.1"
		  }
		 },
		 "nbformat": 4,
		 "nbformat_minor": 0
}
