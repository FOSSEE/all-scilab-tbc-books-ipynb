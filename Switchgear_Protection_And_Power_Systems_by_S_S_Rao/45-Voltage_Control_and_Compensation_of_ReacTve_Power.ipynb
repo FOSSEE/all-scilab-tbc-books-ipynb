{
"cells": [
 {
		   "cell_type": "markdown",
	   "metadata": {},
	   "source": [
       "# Chapter 45: Voltage Control and Compensation of ReacTve Power"
	   ]
	},
{
		   "cell_type": "markdown",
		   "metadata": {},
		   "source": [
			"## Example 45.01: To_find_the_power_factor_and_KVA.sce"
		   ]
		  },
  {
"cell_type": "code",
	   "execution_count": null,
	   "metadata": {
	    "collapsed": true
	   },
	   "outputs": [],
"source": [
"clear;\n",
"clc;\n",
"v=460;\n",
"i=200;\n",
"r=1.73*v*i/1e3;\n",
"r=round(r*10)/10;\n",
"p=120;\n",
"c=p/r;//the difference in result is due to erroneous calculation in textbook.\n",
"s=sqrt(1-(c^2))\n",
"rr=r*s;\n",
"mprintf('the power factor=%f\nthe rating=%fkVA\n the kVAr of system=%fkVA',c,r,rr);\n",
"disp('the difference in result is due to erroneous calculation in textbook.');"
   ]
   }
,
{
		   "cell_type": "markdown",
		   "metadata": {},
		   "source": [
			"## Example 45.B_2: To_find_the_overall_power_factor_of_the_sub_station.sce"
		   ]
		  },
  {
"cell_type": "code",
	   "execution_count": null,
	   "metadata": {
	    "collapsed": true
	   },
	   "outputs": [],
"source": [
"clear;\n",
"clc;\n",
"r1=75;\n",
"c1=.8;\n",
"p1=r1*c1;\n",
"rr1=r1*(sin(acos(c1)));\n",
"r2=150;\n",
"c2=.8;\n",
"p2=r2*c2;\n",
"rr2=r2*(sin(acos(c2)));\n",
"r3=50;\n",
"c3=1;\n",
"p3=r3*c3;\n",
"rr3=r3*(sin(acos(c3)));\n",
"rr=-rr1+rr2+rr3;\n",
"p=p1+p2+p3;\n",
"r=sqrt(p^2+rr^2);\n",
"r=round(r)\n",
"j=p/r;\n",
"mprintf('the power factor of the substation=%f',j);"
   ]
   }
,
{
		   "cell_type": "markdown",
		   "metadata": {},
		   "source": [
			"## Example 45.B_3: Calculate_the_KVAr_required_of_capacitor.sce"
		   ]
		  },
  {
"cell_type": "code",
	   "execution_count": null,
	   "metadata": {
	    "collapsed": true
	   },
	   "outputs": [],
"source": [
"clear;\n",
"clc;\n",
"c1=.8;\n",
"p1=120;\n",
"r1=p1/c1;\n",
"rr1=r1*(sin(acos(c1)));\n",
"c2=.9;\n",
"r2=p1/c2;\n",
"rr2=r2*(sin(acos(c2)));\n",
"rr2=round(rr2);\n",
"rr=rr1-rr2;\n",
"printf('the kVAr of capacitors = %fkVA',rr);"
   ]
   }
,
{
		   "cell_type": "markdown",
		   "metadata": {},
		   "source": [
			"## Example 45.B_4: Calculate_the_economical_pf.sce"
		   ]
		  },
  {
"cell_type": "code",
	   "execution_count": null,
	   "metadata": {
	    "collapsed": true
	   },
	   "outputs": [],
"source": [
"clear;\n",
"clc;\n",
"k=100;\n",
"s=400;\n",
"pf=1-((k/s)^2);\n",
"printf('the power factor is %f',pf);"
   ]
   }
,
{
		   "cell_type": "markdown",
		   "metadata": {},
		   "source": [
			"## Example 45.B_5: Calculate_the_most_economical_pf.sce"
		   ]
		  },
  {
"cell_type": "code",
	   "execution_count": null,
	   "metadata": {
	    "collapsed": true
	   },
	   "outputs": [],
"source": [
"clear;\n",
"clc;\n",
"k=12\n",
"m=72;\n",
"pf=1-((k/m)^2);\n",
"printf('the power factor is %f(lag)',pf);"
   ]
   }
,
{
		   "cell_type": "markdown",
		   "metadata": {},
		   "source": [
			"## Example 45.B_6: Calculate_the_kW_and_power_factor_of_substation.sce"
		   ]
		  },
  {
"cell_type": "code",
	   "execution_count": null,
	   "metadata": {
	    "collapsed": true
	   },
	   "outputs": [],
"source": [
"clear;\n",
"clc;\n",
"n1=.89;\n",
"h1=150;\n",
"c1=.9;\n",
"h2=200;\n",
"n2=.9;\n",
"c2=.8;\n",
"h3=500;\n",
"n3=.93;\n",
"c3=.707;\n",
"p4=100;\n",
"p1=h1*.746/n1;\n",
"p2=h2*.746/n2;\n",
"p3=h3*.746/n3;\n",
"rr1=p1*(tan(acos(c1)));\n",
"rr2=p2*(tan(acos(c2)));\n",
"rr3=p3*(tan(acos(c3)));\n",
"rr4=0;\n",
"rr=rr1+rr2-rr3+rr4;\n",
"p=p1+p2+p3+p4;\n",
"c=rr/p;\n",
"j=cos(atan(c));\n",
"j=round(j*1000)/1000;\n",
"printf('the Power Factor of the combined sub-station=%f leading',j);"
   ]
   }
],
"metadata": {
		  "kernelspec": {
		   "display_name": "Scilab",
		   "language": "scilab",
		   "name": "scilab"
		  },
		  "language_info": {
		   "file_extension": ".sce",
		   "help_links": [
			{
			 "text": "MetaKernel Magics",
			 "url": "https://github.com/calysto/metakernel/blob/master/metakernel/magics/README.md"
			}
		   ],
		   "mimetype": "text/x-octave",
		   "name": "scilab",
		   "version": "0.7.1"
		  }
		 },
		 "nbformat": 4,
		 "nbformat_minor": 0
}
