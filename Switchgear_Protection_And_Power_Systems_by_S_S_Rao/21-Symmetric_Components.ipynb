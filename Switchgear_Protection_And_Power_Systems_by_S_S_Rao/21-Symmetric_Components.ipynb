{
"cells": [
 {
		   "cell_type": "markdown",
	   "metadata": {},
	   "source": [
       "# Chapter 21: Symmetric Components"
	   ]
	},
{
		   "cell_type": "markdown",
		   "metadata": {},
		   "source": [
			"## Example 21.01: Calculate_the_symmetric_components_of_unbalanced_lines.sce"
		   ]
		  },
  {
"cell_type": "code",
	   "execution_count": null,
	   "metadata": {
	    "collapsed": true
	   },
	   "outputs": [],
"source": [
"clear;\n",
"clc;\n",
"va=100*(%e^(%pi*%i/2));\n",
"vb=116*(%e^(%i*0));\n",
"vc=71*(%e^(%i*(224.8*%pi/180)));\n",
"a=1*%e^(%i*(120*%pi/180));\n",
"b=a^2;\n",
"va0=1/3*(va+vb+vc);\n",
"va1=1/3*(va+(a*vb)+(b*vc));\n",
"va2=1/3*(va+(b*vb)+(a*vc));\n",
"va0r=real(va0);\n",
"va0i=imag(va0);\n",
"va0m=sqrt((va0r^2)+(va0i^2));\n",
"va0a=atand(va0i/va0r);\n",
"va1r=real(va1);\n",
"va1i=imag(va1);\n",
"va1m=sqrt((va1r^2)+(va1i^2));//the difference in result is due to erroneous calculation in textbook.\n",
"va1a=atand(va1i/va1r);\n",
"va2r=real(va2);\n",
"va2i=imag(va2);\n",
"va2m=sqrt((va2r^2)+(va2i^2));\n",
"va2a=atand(va2i/va2r);\n",
"mprintf('the symmetric components are \n va0=%f+j%f V \tor\t %f/_%d V',va0r,va0i,va0m,va0a);\n",
"mprintf('\n va1=%f+j%f V \tor\t %f/_%d V',va1r,va1i,va1m,va1a);\n",
"mprintf('\n va2=%f+j(%f) V \tor\t %f/_%d V',va2r,va2i,va2m,va2a);\n",
"disp('the difference in result is due to erroneous calculation in textbook.')"
   ]
   }
,
{
		   "cell_type": "markdown",
		   "metadata": {},
		   "source": [
			"## Example 21.02: to_calculate_the_line_voltages.sce"
		   ]
		  },
  {
"cell_type": "code",
	   "execution_count": null,
	   "metadata": {
	    "collapsed": true
	   },
	   "outputs": [],
"source": [
"clear;\n",
"clc;\n",
"va=22+(16.66*%i);\n",
"vb=-25.33+(%i*89.34);\n",
"vc=3.33-(%i*6);\n",
"a=1*%e^(%i*(120*%pi/180));\n",
"b=a^2;\n",
"va0=(va+vb+vc);\n",
"va1=(va+(b*vb)+(a*vc));\n",
"va2=(va+(a*vb)+(b*vc));\n",
"va0r=real(va0);\n",
"va0i=imag(va0);\n",
"va0m=sqrt((va0r^2)+(va0i^2));\n",
"va0a=atand(va0i/va0r);\n",
"va1r=real(va1);\n",
"va1i=imag(va1);\n",
"va1m=round(sqrt((va1r^2)+(va1i^2))*10)/10;\n",
"va1a=atand(va1i/va1r);\n",
"va2r=round(real(va2));\n",
"va2i=round(imag(va2));\n",
"va2m=round(sqrt((va2r^2)+(va2i^2)));\n",
"va2a=atand(va2i/va2r);\n",
"mprintf('the voltage levels are \n va=%f+j%f V \tor\t %f/_%d V',va0r,va0i,va0m,va0a);\n",
"mprintf('\n vb=%f+j(%f) V \tor\t %f/_%d V',va1r,va1i,va1m,va1a);\n",
"mprintf('\n vc=%f+j(%f) V \tor\t %f/_%d V',va2r,va2i,va2m,va2a);"
   ]
   }
,
{
		   "cell_type": "markdown",
		   "metadata": {},
		   "source": [
			"## Example 21.03: To_determine_the_line_currents.sce"
		   ]
		  },
  {
"cell_type": "code",
	   "execution_count": null,
	   "metadata": {
	    "collapsed": true
	   },
	   "outputs": [],
"source": [
"clear;\n",
"clc;\n",
"ib=50;\n",
"ic=10*%e^(%i*%pi/2);\n",
"ia=10*%e^(%i*%pi);\n",
"a=1*%e^(%i*(120*%pi/180));\n",
"b=a^2;\n",
"ia0=(ia+ib+ic);\n",
"ia1=(ia+(b*ib)+(a*ic));\n",
"ia2=(ia+(a*ib)+(b*ic));\n",
"ia0r=real(ia0);\n",
"ia0i=imag(ia0);\n",
"ia0m=sqrt((ia0r^2)+(ia0i^2));\n",
"ia0a=atand(ia0i/ia0r);\n",
"ia1r=real(ia1);\n",
"ia1i=imag(ia1);\n",
"ia1m=sqrt((ia1r^2)+(ia1i^2));\n",
"ia1a=atand(ia1i/ia1r);\n",
"ia2r=real(ia2);\n",
"ia2i=imag(ia2);\n",
"ia2m=sqrt((ia2r^2)+(ia2i^2));\n",
"ia2a=atand(ia2i/ia2r);\n",
"mprintf('the current levels are \n ia=%f+j%f A \tor\t %f/_%d A',ia0r,ia0i,ia0m,ia0a);\n",
"mprintf('\n ib=%f+j(%f) A \tor\t %f/_%d A',ia1r,ia1i,ia1m,ia1a);\n",
"mprintf('\n ic=%f+j(%f) A \tor\t %f/_%d A',ia2r,ia2i,ia2m,ia2a);"
   ]
   }
,
{
		   "cell_type": "markdown",
		   "metadata": {},
		   "source": [
			"## Example 21.04: to_find_the_symmetric_components_of_line_currents.sce"
		   ]
		  },
  {
"cell_type": "code",
	   "execution_count": null,
	   "metadata": {
	    "collapsed": true
	   },
	   "outputs": [],
"source": [
"clear;\n",
"clc;\n",
"ia=20;\n",
"ib=20*(%e^(%i*%pi));\n",
"ic=0;\n",
"a=1*%e^(%i*(120*%pi/180));\n",
"b=a^2;\n",
"ia0=1/3*(ia+ib+ic);\n",
"ia1=1/3*(ia+(a*ib)+(b*ic));\n",
"ia2=1/3*(ia+(b*ib)+(a*ic));\n",
"ia0r=real(ia0);\n",
"ia0i=imag(ia0);\n",
"ia0m=sqrt((ia0r^2)+(ia0i^2));\n",
"ia0a=0-atand(ia0r/ia0i);\n",
"ia1r=real(ia1);\n",
"ia1i=imag(ia1);\n",
"ia1m=sqrt((ia1r^2)+(ia1i^2));\n",
"ia1a=atand(ia1i/ia1r);\n",
"ia2r=real(ia2);\n",
"ia2i=imag(ia2);\n",
"ia2m=sqrt((ia2r^2)+(ia2i^2));\n",
"ia2a=atand(ia2i/ia2r);\n",
"mprintf('the symmetric components  are \n ia0=%f+j%f A \tor\t %f/_%d A',ia0r,ia0i,ia0m,ia0a);\n",
"mprintf('\n ia1=%f+j%f A \tor\t %f/_%d A',ia1r,ia1i,ia1m,ia1a);\n",
"mprintf('\n ia2=%f+j(%f) A \tor\t %f/_%d A',ia2r,ia2i,ia2m,ia2a);\n",
"ib1=b*ia1;\n",
"ib2=a*ia2;\n",
"ic1=a*ia1;\n",
"ic2=b*ia2;\n",
"ib0=ia0;\n",
"ic0=ia0;\n",
"ib1r=real(ib1);\n",
"ib1i=imag(ib1);\n",
"ib1m=sqrt((ib1r^2)+(ib1i^2));\n",
"ib1a=atand(ib1i/ib1r);\n",
"ib2r=real(ib2);\n",
"ib2i=imag(ib2);\n",
"ib2m=sqrt((ib2r^2)+(ib2i^2));\n",
"ib2a=atand(ib2i/ib2r);\n",
"ic1r=real(ic1);\n",
"ic1i=imag(ic1);\n",
"ic1m=sqrt((ic1r^2)+(ic1i^2));\n",
"ic1a=atand(ic1i/ic1r);\n",
"ic2r=real(ic2);\n",
"ic2i=imag(ic2);\n",
"ic2m=sqrt((ic2r^2)+(ic2i^2));\n",
"ic2a=atand(ic2i/ic2r);\n",
"mprintf('\n \n ib0=%fA ',ib0);\n",
"mprintf('\n ib1=%f+j%f A \tor\t %f/_%d A',ib1r,ib1i,ib1m,ib1a);\n",
"mprintf('\n ib2=%f+j(%f) A \tor\t %f/_%d A',ib2r,ib2i,ib2m,ib2a);\n",
"mprintf('\n \n ic0=%f A',ic0);\n",
"mprintf('\n ic1=%f+j%f A \tor\t %f/_%d A',ic1r,ic1i,ic1m,ic1a);\n",
"mprintf('\n ic2=%f+j(%f) A \tor\t %f/_%d A',ic2r,ic2i,ic2m,ic2a);"
   ]
   }
,
{
		   "cell_type": "markdown",
		   "metadata": {},
		   "source": [
			"## Example 21.05: to_calculate_the_voltages_of_phase_and_line_voltages.sce"
		   ]
		  },
  {
"cell_type": "code",
	   "execution_count": null,
	   "metadata": {
	    "collapsed": true
	   },
	   "outputs": [],
"source": [
"clear;\n",
"clc;\n",
"vb=.584+(0*%i);\n",
"vc=.584+(0*%i);\n",
"va=0;\n",
"a=1*%e^(%i*(120*%pi/180));\n",
"b=a^2;\n",
"vae=(va+vb+vc);\n",
"vbe=(va+(b*vb)+(a*vc));\n",
"vce=(va+(a*vb)+(b*vc));\n",
"va0=vae-vbe;\n",
"va1=vbe-vce;\n",
"va2=vce-vae;\n",
"va0r=real(va0);\n",
"va0i=imag(va0);\n",
"va0m=sqrt((va0r^2)+(va0i^2));\n",
"va0a=atand(va0i/va0r);\n",
"va1r=real(va1);\n",
"va1i=imag(va1);\n",
"va1m=sqrt((va1r^2)+(va1i^2));\n",
"va1a=0;\n",
"va2r=real(va2);\n",
"va2i=imag(va2);\n",
"va2m=sqrt((va2r^2)+(va2i^2));\n",
"va2a=atand(va2i/va2r)+180;\n",
"mprintf('the voltage levels are \n vab=%f+j%f V \tor\t %f/_%d V',va0r,va0i,va0m,va0a);\n",
"mprintf('\n vbc=%f+j(%f) V \tor\t %f/_%d V',va1r,va1i,va1m,va1a);\n",
"mprintf('\n vca=%f+j(%f) V \tor\t %f/_%d V',va2r,va2i,va2m,va2a);"
   ]
   }
,
{
		   "cell_type": "markdown",
		   "metadata": {},
		   "source": [
			"## Example 21.06: to_calculate_the_value_of_Ia.sce"
		   ]
		  },
  {
"cell_type": "code",
	   "execution_count": null,
	   "metadata": {
	    "collapsed": true
	   },
	   "outputs": [],
"source": [
"clear;\n",
"clc;\n",
"e=1;\n",
"x1=.25*%i;\n",
"x2=.35*%i;\n",
"x0=.1*%i;\n",
"ia0=e/(x1+x2+x0);\n",
"ia1=ia0;\n",
"ia2=ia0;\n",
"ia=ia0+ia1+ia2;\n",
"iar=real(ia);\n",
"iai=imag(ia);\n",
"iam=round(sqrt((iar^2)+(iai^2))*100)/100;\n",
"iaa=0;\n",
"mprintf('the current levels are \n ia=%f+j(%f) A \tor\t %f/_%d A',iar,iai,iam,iaa);"
   ]
   }
,
{
		   "cell_type": "markdown",
		   "metadata": {},
		   "source": [
			"## Example 21.07: to_find_the_line_and_phase_voltage_of_phase_a.sce"
		   ]
		  },
  {
"cell_type": "code",
	   "execution_count": null,
	   "metadata": {
	    "collapsed": true
	   },
	   "outputs": [],
"source": [
"clear;\n",
"clc;\n",
"z1=.25*%i;\n",
"z2=.35*%i;\n",
"z0=.1*%i;\n",
"ea=1;\n",
"ia1=inv(z1+inv(inv(z2)+inv(z0)))*ea;\n",
"va1=ea-(ia1*z1);\n",
"va0=va1;\n",
"va2=va0;\n",
"ia0=-va0/z0;\n",
"ia2=-va2/z2;\n",
"ia=ia1+ia2+ia0;\n",
"va=va1+va2+va0;\n",
"va=fix(va*1000)/1e3;\n",
"mprintf('the current ia=%dA\tVa=%fV',ia,va);"
   ]
   }
,
{
		   "cell_type": "markdown",
		   "metadata": {},
		   "source": [
			"## Example 21.08: to_find_positive_sequence_component_of_fault_current.sce"
		   ]
		  },
  {
"cell_type": "code",
	   "execution_count": null,
	   "metadata": {
	    "collapsed": true
	   },
	   "outputs": [],
"source": [
"clear;\n",
"clc;\n",
"r0=.1;\n",
"v=1;\n",
"r1=.05;\n",
"r2=.05;\n",
"r3=.2;\n",
"r4=.2;\n",
"r34=inv(inv(r3)+inv(r4));\n",
"r234=r2+r34;\n",
"r10=r1+r0;\n",
"r=inv(inv(r234)+inv(r10));\n",
"ip=v/r;\n",
"mprintf('the positive sequence current=%fpu',ip);"
   ]
   }
,
{
		   "cell_type": "markdown",
		   "metadata": {},
		   "source": [
			"## Example 21.09: calculate_the_symmetric_components_of_the_fault.sce"
		   ]
		  },
  {
"cell_type": "code",
	   "execution_count": null,
	   "metadata": {
	    "collapsed": true
	   },
	   "outputs": [],
"source": [
"clear;\n",
"clc;\n",
"ia=86.6+(%i*50);\n",
"ib=25-(43.3*%i);\n",
"ic=-30;\n",
"a=1*%e^(%i*(120*%pi/180));\n",
"b=a^2;\n",
"ia0=1/3*(ia+ib+ic);\n",
"ia1=1/3*(ia+(a*ib)+(b*ic));\n",
"ia2=1/3*(ia+(b*ib)+(a*ic));\n",
"ia0r=real(ia0);\n",
"ia0i=imag(ia0);\n",
"ia0m=sqrt((ia0r^2)+(ia0i^2));\n",
"ia0a=atand(ia0r/ia0i);\n",
"ia1r=real(ia1);\n",
"ia1i=imag(ia1);\n",
"ia1m=sqrt((ia1r^2)+(ia1i^2));\n",
"ia1a=atand(ia1i/ia1r);\n",
"ia2r=real(ia2);\n",
"ia2i=imag(ia2);\n",
"ia2m=sqrt((ia2r^2)+(ia2i^2));\n",
"ia2a=atand(ia2i/ia2r);\n",
"in=ia+ib+ic;\n",
"mprintf('the symmetric components  are \n ir0=%f+j%f A \tor\t %f/_%d A',ia0r,ia0i,ia0m,ia0a);\n",
"mprintf('\n ir1=%f+j%f A \tor\t %f/_%d A',ia1r,ia1i,ia1m,ia1a);\n",
"mprintf('\n ir2=%f+j(%f) A \tor\t %f/_%d A\n neutral current in = %fA',ia2r,ia2i,ia2m,ia2a,in);"
   ]
   }
,
{
		   "cell_type": "markdown",
		   "metadata": {},
		   "source": [
			"## Example 21.10: to_calculate_the_zero_components_of_currents.sce"
		   ]
		  },
  {
"cell_type": "code",
	   "execution_count": null,
	   "metadata": {
	    "collapsed": true
	   },
	   "outputs": [],
"source": [
"clear;\n",
"clc;\n",
"in=9;\n",
"ia=in/3;\n",
"ib=ia;\n",
"ic=ib;\n",
"mprintf('the zero sequence components are ia0=%dA \t ib0=%dA \t ic0=%d',ia,ib,ic);"
   ]
   }
],
"metadata": {
		  "kernelspec": {
		   "display_name": "Scilab",
		   "language": "scilab",
		   "name": "scilab"
		  },
		  "language_info": {
		   "file_extension": ".sce",
		   "help_links": [
			{
			 "text": "MetaKernel Magics",
			 "url": "https://github.com/calysto/metakernel/blob/master/metakernel/magics/README.md"
			}
		   ],
		   "mimetype": "text/x-octave",
		   "name": "scilab",
		   "version": "0.7.1"
		  }
		 },
		 "nbformat": 4,
		 "nbformat_minor": 0
}
