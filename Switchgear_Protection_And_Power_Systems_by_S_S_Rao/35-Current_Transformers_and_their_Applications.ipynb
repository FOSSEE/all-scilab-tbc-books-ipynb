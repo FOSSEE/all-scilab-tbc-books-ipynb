{
"cells": [
 {
		   "cell_type": "markdown",
	   "metadata": {},
	   "source": [
       "# Chapter 35: Current Transformers and their Applications"
	   ]
	},
{
		   "cell_type": "markdown",
		   "metadata": {},
		   "source": [
			"## Example 35.01: To_find_the_VA_rating_and_current_of_CT.sce"
		   ]
		  },
  {
"cell_type": "code",
	   "execution_count": null,
	   "metadata": {
	    "collapsed": true
	   },
	   "outputs": [],
"source": [
"clear;\n",
"clc;\n",
"i=5;\n",
"r=.1;\n",
"va=i^2*r;\n",
"j=10+2*va;\n",
"mprintf('the Ct of %f VA and %fA may be used',j,i);"
   ]
   }
,
{
		   "cell_type": "markdown",
		   "metadata": {},
		   "source": [
			"## Example 35.02: Calculate_the_effective_burden_of_the_current_transformer.sce"
		   ]
		  },
  {
"cell_type": "code",
	   "execution_count": null,
	   "metadata": {
	    "collapsed": true
	   },
	   "outputs": [],
"source": [
"clear;\n",
"clc;\n",
"is=5;\n",
"pr=2;\n",
"ir=2.5;\n",
"pe=pr*(is/ir)^2\n",
"mprintf('the burden on transformer Pe=%dVA',pe);"
   ]
   }
,
{
		   "cell_type": "markdown",
		   "metadata": {},
		   "source": [
			"## Example 35.03: To_find_out_the_flux_density_of_core.sce"
		   ]
		  },
  {
"cell_type": "code",
	   "execution_count": null,
	   "metadata": {
	    "collapsed": true
	   },
	   "outputs": [],
"source": [
"clear;\n",
"clc;\n",
"ct=2000/5;\n",
"i=40e3;\n",
"r1=.31;\n",
"a=28.45e-4;\n",
"r2=2;\n",
"is=i/ct;\n",
"e=is*(r1+r2);\n",
"f=50;\n",
"B=e/(4.4*f*ct*a);\n",
"C=B/sqrt(2);\n",
"C=round(C*10)/10;\n",
"mprintf('saturation magnetic field max=%fWb\t rms value=%fWb',B,C);"
   ]
   }
,
{
		   "cell_type": "markdown",
		   "metadata": {},
		   "source": [
			"## Example 35.04: To_calculate_the_ratio_error_of_CT.sce"
		   ]
		  },
  {
"cell_type": "code",
	   "execution_count": null,
	   "metadata": {
	    "collapsed": true
	   },
	   "outputs": [],
"source": [
"clear;\n",
"clc;\n",
"r1=.1;\n",
"r2=.4;\n",
"r=r1+r2;\n",
"i=1e3/10;\n",
"ip=100*5/50;\n",
"ie=10;\n",
"e=45;\n",
"y=i-ie;\n",
"per=(ie*y-(10*i))/(i*10);\n",
"mprintf('the percentage R.E at 1000A =%dpercent',per*100);\n",
""
   ]
   }
],
"metadata": {
		  "kernelspec": {
		   "display_name": "Scilab",
		   "language": "scilab",
		   "name": "scilab"
		  },
		  "language_info": {
		   "file_extension": ".sce",
		   "help_links": [
			{
			 "text": "MetaKernel Magics",
			 "url": "https://github.com/calysto/metakernel/blob/master/metakernel/magics/README.md"
			}
		   ],
		   "mimetype": "text/x-octave",
		   "name": "scilab",
		   "version": "0.7.1"
		  }
		 },
		 "nbformat": 4,
		 "nbformat_minor": 0
}
