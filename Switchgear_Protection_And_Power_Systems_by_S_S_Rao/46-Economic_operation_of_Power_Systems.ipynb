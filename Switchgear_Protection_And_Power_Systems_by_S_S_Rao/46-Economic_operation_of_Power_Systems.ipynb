{
"cells": [
 {
		   "cell_type": "markdown",
	   "metadata": {},
	   "source": [
       "# Chapter 46: Economic operation of Power Systems"
	   ]
	},
{
		   "cell_type": "markdown",
		   "metadata": {},
		   "source": [
			"## Example 46.01: To_determine_the_load_allocation_of_various_units.sce"
		   ]
		  },
  {
"cell_type": "code",
	   "execution_count": null,
	   "metadata": {
	    "collapsed": true
	   },
	   "outputs": [],
"source": [
"clear;\n",
"clc;\n",
"//for low loads\n",
"p1(1)=20;\n",
"p2(1)=30;\n",
"t1(1)=.1*p1(1)+20;\n",
"t2(1)=.12*p2(1)+16;\n",
"//when load is further increased\n",
"t2(4)=22;\n",
"p2(4)=(t2(4)-16)/.12;\n",
"t1(4)=t2(4);\n",
"//upper limit 125MW\n",
"p2(5)=125;\n",
"t1(5)=1.12*p2(5)+16;\n",
"p1(5)=(t1(5)-20)/.1;\n",
"n=7;\n",
"t2(1)=19.6;\n",
"t2(2)=20;\n",
"t2(3)=21;\n",
"t2(4)=22;\n",
"t2(5)=31;\n",
"t2(6)=32;\n",
"t2(7)=32.5;\n",
"p1(5)=110;\n",
"p1(6)=120;\n",
"p1(7)=125;\n",
"for j=1:4\n",
"        p1(j)=20;\n",
"end;\n",
"mprintf('incremental cost(rs./MWhr)\tloading of unit 1(MW) \t loading of unit 2(MW)\ttotal generating power(MW)');\n",
"for i=1:n\n",
"    p2(i)=(-16+t2(i))/.12;\n",
"    if(t2(i)>=31)\n",
"        p2(i)=125;\n",
"        end;\n",
"    pt(i)=p1(i)+p2(i);\n",
"    mprintf('\n%f\t\t\t%f\t\t\t%f\t\t%f',t2(i),p1(i),p2(i),pt(i));\n",
"    \n",
"end;"
   ]
   }
,
{
		   "cell_type": "markdown",
		   "metadata": {},
		   "source": [
			"## Example 46.02: To_calculate_the_load_distribution_on_basis_of_economic_loading.sce"
		   ]
		  },
  {
"cell_type": "code",
	   "execution_count": null,
	   "metadata": {
	    "collapsed": true
	   },
	   "outputs": [],
"source": [
"clear;\n",
"clc;\n",
"p=180;\n",
"p2=(20-16+(180*.1))/(.1+.12);\n",
"p1=p-p2;\n",
"t=.1*p1+20;\n",
"mprintf('loading of unit 1 P1=%dMW\nthe loading of unit 2 P2=%dMW\nincremental operating cost =%dRs/MWhr',p1,p2,t);"
   ]
   }
,
{
		   "cell_type": "markdown",
		   "metadata": {},
		   "source": [
			"## Example 46.03: Comparison_of_Economic_and_Equal_loading.sce"
		   ]
		  },
  {
"cell_type": "code",
	   "execution_count": null,
	   "metadata": {
	    "collapsed": true
	   },
	   "outputs": [],
"source": [
"clear;\n",
"clc;\n",
"p11=80;\n",
"p12=90;\n",
"p21=100;\n",
"p22=90;\n",
"x=integrate('.1*x+20','x',p11,p12);\n",
"y=integrate('.2*x+6','x',p21,p22);\n",
"p=x+y;\n",
"as=p*8760;\n",
"mprintf('economic loading for unit 1=%dRs/hr\neconomic loading for unit 2=%dRs/hr\nannual savings=%dRs',x,y,as);"
   ]
   }
],
"metadata": {
		  "kernelspec": {
		   "display_name": "Scilab",
		   "language": "scilab",
		   "name": "scilab"
		  },
		  "language_info": {
		   "file_extension": ".sce",
		   "help_links": [
			{
			 "text": "MetaKernel Magics",
			 "url": "https://github.com/calysto/metakernel/blob/master/metakernel/magics/README.md"
			}
		   ],
		   "mimetype": "text/x-octave",
		   "name": "scilab",
		   "version": "0.7.1"
		  }
		 },
		 "nbformat": 4,
		 "nbformat_minor": 0
}
