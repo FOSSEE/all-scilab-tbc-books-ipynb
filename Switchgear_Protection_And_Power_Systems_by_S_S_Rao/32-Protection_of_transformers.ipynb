{
"cells": [
 {
		   "cell_type": "markdown",
	   "metadata": {},
	   "source": [
       "# Chapter 32: Protection of transformers"
	   ]
	},
{
		   "cell_type": "markdown",
		   "metadata": {},
		   "source": [
			"## Example 32.01: to_find_the_CT_ratio.sce"
		   ]
		  },
  {
"cell_type": "code",
	   "execution_count": null,
	   "metadata": {
	    "collapsed": true
	   },
	   "outputs": [],
"source": [
"clear;\n",
"clc;\n",
"v1=33e3;\n",
"v2=6.6e3;\n",
"i1=300;\n",
"trn=sqrt(3);\n",
"i2=i1*v2/v1;\n",
"ratio=300/5;\n",
"i1sec=i1/ratio;\n",
"i1sec=fix(i1sec*100/trn)/100;\n",
"mprintf('Ct ratio on HT side = %d:(%f)',i2,i1sec);"
   ]
   }
,
{
		   "cell_type": "markdown",
		   "metadata": {},
		   "source": [
			"## Example 32.02: To_find_the_CT_ratio.sce"
		   ]
		  },
  {
"cell_type": "code",
	   "execution_count": null,
	   "metadata": {
	    "collapsed": true
	   },
	   "outputs": [],
"source": [
"clear;\n",
"clc;\n",
"r=30e6;\n",
"v=11.5e3;\n",
"v2=69e3;\n",
"ip=r/(sqrt(3)*v);\n",
"ip=round(ip);\n",
"ratio=3000/5;\n",
"is=ip/ratio;\n",
"is=sqrt(3)*is;\n",
"is=round(is*100)/100;\n",
"printf('at LV side secondry current Is=%fA\t Ip=%f\t',is,ip);\n",
"ipn=r/(sqrt(3)*v2);\n",
"Ct=ipn/is;\n",
"ct=round(Ct/10)*10;\n",
"is=5;\n",
"ip=is*ct;\n",
"printf('\nSecondary current=%dA\tat HV side CT ratio=%d:%d\t primarry current Ip=%fA\t',is,ct*is,is,ip);"
   ]
   }
],
"metadata": {
		  "kernelspec": {
		   "display_name": "Scilab",
		   "language": "scilab",
		   "name": "scilab"
		  },
		  "language_info": {
		   "file_extension": ".sce",
		   "help_links": [
			{
			 "text": "MetaKernel Magics",
			 "url": "https://github.com/calysto/metakernel/blob/master/metakernel/magics/README.md"
			}
		   ],
		   "mimetype": "text/x-octave",
		   "name": "scilab",
		   "version": "0.7.1"
		  }
		 },
		 "nbformat": 4,
		 "nbformat_minor": 0
}
