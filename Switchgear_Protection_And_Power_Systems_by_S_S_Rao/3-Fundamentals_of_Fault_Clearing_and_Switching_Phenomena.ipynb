{
"cells": [
 {
		   "cell_type": "markdown",
	   "metadata": {},
	   "source": [
       "# Chapter 3: Fundamentals of Fault Clearing and Switching Phenomena"
	   ]
	},
{
		   "cell_type": "markdown",
		   "metadata": {},
		   "source": [
			"## Example 3.1: To_find_the_transient_current_of_RL_circuit.sce"
		   ]
		  },
  {
"cell_type": "code",
	   "execution_count": null,
	   "metadata": {
	    "collapsed": true
	   },
	   "outputs": [],
"source": [
"\n",
"clear ;\n",
"close ;\n",
"clc ;\n",
"R=10; \n",
"L=0.1; \n",
"f=50; \n",
"w=2*%pi*f; \n",
"k=sqrt((R^2)+((w*L)^2));\n",
"angle=atan(w*L/R);\n",
"E=400 \n",
"A=E*sin(angle)/k;\n",
"i=A*exp((-R)*.02/L);\n",
"i=round(i*100)/100;\n",
"mprintf('the transient current =%fA',i)"
   ]
   }
,
{
		   "cell_type": "markdown",
		   "metadata": {},
		   "source": [
			"## Example 3.2: to_find_the_DC_component_and_instantaneous_value_of_currents_and_voltages.sce"
		   ]
		  },
  {
"cell_type": "code",
	   "execution_count": null,
	   "metadata": {
	    "collapsed": true
	   },
	   "outputs": [],
"source": [
"\n",
"clear;\n",
"close;\n",
"clc;\n",
"\n",
"R=10; \n",
"L=0.1; \n",
"f=50; \n",
"w=2*%pi*f; \n",
"k=sqrt((R^2)+((w*L)^2));\n",
"angle=atan(w*L/R); \n",
"E=100; \n",
"Em=sqrt(2)*E; \n",
"A=Em*sin(angle)/k;\n",
"i1=A; \n",
"Em=round(Em*10)/10;\n",
"i1=round(i1*10)/10;\n",
"mprintf('current in amperes for part1=%fA\n',i1);\n",
"mprintf('current in part 2& part 3= 0\n');\n",
"mprintf('the DC component vanishes if e=%fV',Em);//the error is due to the erroneous values in the textbook\n",
"\n",
"t1=0.5*.02; \n",
"i2=A*exp((-R)*t1/L);\n",
"mprintf('\ncurrent at .5 cycles for t1=%fsec \ncurrent in the problem = %fA',t1,i2);\n",
"t2=1.5*.02;\n",
"i3=A*exp((-R)*t2/L);\n",
"mprintf('\ncurrent at 1.5 cycles for t2=%fsec \ncurrent in the problem = %fA',t2,i3);\n",
"t3=5.5*.02;\n",
"i4=A*exp((-R)*t3/L);\n",
"mprintf('\ncurrent at 5.5 cycles for t3=%fsec \ncurrent in the problem = %fA',t3,i4);\n",
"\n",
"\n",
"disp('the difference in result is due to erroneous value in textbook.')"
   ]
   }
,
{
		   "cell_type": "markdown",
		   "metadata": {},
		   "source": [
			"## Example 3.3: To_find_Max_Rate_of_restriking_voltage_and_time_for_RRRV_and_the_frequency.sce"
		   ]
		  },
  {
"cell_type": "code",
	   "execution_count": null,
	   "metadata": {
	    "collapsed": true
	   },
	   "outputs": [],
"source": [
"clear;\n",
"close;\n",
"clc;\n",
"C=.003e-6 \n",
"L=1.6e-3 \n",
"y=sqrt(L*C);\n",
"y=round(y*1e7)/1e7;\n",
"f=(2*3.14*y)^-1; \n",
"f=round(f/100)*100;\n",
"i=7500;\n",
"E=i*2*3.15*L*50;\n",
"Em=1.414*E;\n",
"Em=round(Em/10)*10\n",
"t=y*%pi/2;\n",
"t=t*1e6;\n",
"t=round(t*100)/100;\n",
"e=Em/y;\n",
"e=round((e)/1e6)*1e6;\n",
"e=fix(e/1e7)*1e7\n",
"mprintf('frequency of oscillations=%fc/s',f);\n",
"mprintf('\ntime of maximum restriking voltage=%fmicrosec',t);\n",
"mprintf('\nmaximum restriking voltage=%dV/microsecs',e/1e6);"
   ]
   }
,
{
		   "cell_type": "markdown",
		   "metadata": {},
		   "source": [
			"## Example 3.4: EX3_4.sce"
		   ]
		  },
  {
"cell_type": "code",
	   "execution_count": null,
	   "metadata": {
	    "collapsed": true
	   },
	   "outputs": [],
"source": [
"\n",
"clear;\n",
"close;\n",
"clc;\n",
"R=5 \n",
"f=50\n",
"L=R/(2*%pi*f);\n",
"V=11e3;\n",
"Vph=11/sqrt(3);\n",
"C=0.01d-6;\n",
"y=sqrt(L*C);\n",
"Em=sqrt(2)*Vph;\n",
"ep=2*Em;\n",
"ep=round(ep*10)/10;\n",
"y=round(y*1e7)/1e7;\n",
"t=y*%pi;\n",
"t=fix(t*1e7)/1e7\n",
"ea=ep/t;\n",
"ea=round(ea/1e3)*1e3\n",
"fn=(2*3.14*y)^-1;\n",
"Em=round(Em)\n",
"Emax=Em/y;\n",
"Emax=round(Emax/1000)*1e3;\n",
"mprintf('peak restriking voltage=%dkV',ep);\n",
"printf('\nfrequency of oscillations=%dc/s',fn);\n",
"printf('\naverage rate of restriking voltage=%fkV/microsecs',ea/1e6);\n",
"printf('\nmax restriking voltage=%dV/microsecs',Emax/1e3);\n",
""
   ]
   }
,
{
		   "cell_type": "markdown",
		   "metadata": {},
		   "source": [
			"## Example 3.5: The_average_rate_of_rise_of_restriking_voltage.sce"
		   ]
		  },
  {
"cell_type": "code",
	   "execution_count": null,
	   "metadata": {
	    "collapsed": true
	   },
	   "outputs": [],
"source": [
"\n",
"clear;\n",
"close;\n",
"clc;\n",
"E=19.1*1e3;\n",
"L=10*1e-3;\n",
"C=.02*1e-6;\n",
"Em=sqrt(2)*E;\n",
"y=sqrt(L*C);\n",
"t=%pi*y*1e6;\n",
"emax=2*Em;\n",
"eavg=emax/t;\n",
"eavg=round(eavg/10)*10\n",
"printf('average restriking voltage=%dV/microsecs',eavg);"
   ]
   }
,
{
		   "cell_type": "markdown",
		   "metadata": {},
		   "source": [
			"## Example 3.6: To_estimate_the_average_rate_of_restriking_voltage.sce"
		   ]
		  },
  {
"cell_type": "code",
	   "execution_count": null,
	   "metadata": {
	    "collapsed": true
	   },
	   "outputs": [],
"source": [
"clear;\n",
"close;\n",
"clc;\n",
"V=78e3;\n",
"Vph=V/sqrt(3);\n",
"Em=2*Vph;\n",
"pf=0.4;\n",
"angle=acos(pf);\n",
"k1=sin(angle); \n",
"k1=round(k1*100)/100;\n",
"k2=.951;\n",
"k3=1;\n",
"k=k1*k2*k3;\n",
"k=round(k*1000)/1e3;\n",
"E=k*Em;\n",
"f=15000; \n",
"t=1/(2*f);\n",
"t=round(t*1e6);\n",
"eavg=2*E/t;\n",
"eavg=round(eavg/100)*100;\n",
"printf('average restriking voltage=%fkV/microsecs',eavg/1e3);"
   ]
   }
,
{
		   "cell_type": "markdown",
		   "metadata": {},
		   "source": [
			"## Example 3.7: to_find_the_peak_striking_voltage_and_the_time_to_reach_it.sce"
		   ]
		  },
  {
"cell_type": "code",
	   "execution_count": null,
	   "metadata": {
	    "collapsed": true
	   },
	   "outputs": [],
"source": [
"clear;\n",
"clc;\n",
"Em=100e3\n",
"t=70e-6\n",
"Ea=Em/t/1e6\n",
"f=1/(2*t);\n",
"Ea=round(Ea/10)*10;\n",
"f=round(f);\n",
"printf('average voltage in volts=%dV/microsecs\n',Ea);\n",
"printf('frequency of oscillation =%dc/s',f);"
   ]
   }
,
{
		   "cell_type": "markdown",
		   "metadata": {},
		   "source": [
			"## Example 3.8: To_find_the_value_of_resistance_to_be_used_across_the_contact_space.sce"
		   ]
		  },
  {
"cell_type": "code",
	   "execution_count": null,
	   "metadata": {
	    "collapsed": true
	   },
	   "outputs": [],
"source": [
"\n",
"clc;\n",
"L=6; \n",
"C=0.01e-6;\n",
"i=10;\n",
"v=i*sqrt(L/C);\n",
"R=.5*v/i;\n",
"R=round(R/10)*10;\n",
"printf('damping resistance in ohms=%fkohms',R/1e3);"
   ]
   }
],
"metadata": {
		  "kernelspec": {
		   "display_name": "Scilab",
		   "language": "scilab",
		   "name": "scilab"
		  },
		  "language_info": {
		   "file_extension": ".sce",
		   "help_links": [
			{
			 "text": "MetaKernel Magics",
			 "url": "https://github.com/calysto/metakernel/blob/master/metakernel/magics/README.md"
			}
		   ],
		   "mimetype": "text/x-octave",
		   "name": "scilab",
		   "version": "0.7.1"
		  }
		 },
		 "nbformat": 4,
		 "nbformat_minor": 0
}
