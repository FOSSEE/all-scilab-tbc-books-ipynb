{
"cells": [
 {
		   "cell_type": "markdown",
	   "metadata": {},
	   "source": [
       "# Chapter 18: Neutral Grounding or Earthing"
	   ]
	},
{
		   "cell_type": "markdown",
		   "metadata": {},
		   "source": [
			"## Example 18.1: To_calculate_the_ohmic_value_of_impedence.sce"
		   ]
		  },
  {
"cell_type": "code",
	   "execution_count": null,
	   "metadata": {
	    "collapsed": true
	   },
	   "outputs": [],
"source": [
"clc;\n",
"clear;\n",
"P=2000e3;\n",
"V=400;\n",
"r=.4;\n",
"z=V^2/(r*P);\n",
"mprintf('the value of z=%f ohm',z);"
   ]
   }
,
{
		   "cell_type": "markdown",
		   "metadata": {},
		   "source": [
			"## Example 18.2: to_find_the_value_of_reactance.sce"
		   ]
		  },
  {
"cell_type": "code",
	   "execution_count": null,
	   "metadata": {
	    "collapsed": true
	   },
	   "outputs": [],
"source": [
"clc;\n",
"clear;\n",
"w=314;\n",
"c=.015e-6;\n",
"l=1/(3*w^2*c);//the difference in result is due to erroneous calculation in textbook.\n",
"l=round(l*10)/10;\n",
"mprintf('inductance =%f Henries',l);\n",
"disp('the difference in result is due to erroneous calculation in textbook.')"
   ]
   }
,
{
		   "cell_type": "markdown",
		   "metadata": {},
		   "source": [
			"## Example 18.3: calculate_the_reactance_to_neutralize_different_value_of_line_capacitance.sce"
		   ]
		  },
  {
"cell_type": "code",
	   "execution_count": null,
	   "metadata": {
	    "collapsed": true
	   },
	   "outputs": [],
"source": [
"clc;\n",
"clear;\n",
"c1=1.5e-6;\n",
"w=2*%pi*50;\n",
"L1=1/(3*c1*(w^2));\n",
"c2=.9*c1;\n",
"L2=1/(3*c2*(w^2));\n",
"c3=.95*c1;\n",
"L3=1/(3*c3*(w^2));\n",
"L1=round(L1*100)/100;\n",
"L2=round(L2*10)/10;\n",
"L3=round(L3*100)/100;\n",
"mprintf('the inductance for 100 percent line capacitance=%f henries \n',L1);\n",
"mprintf('for 90percent line capacitance,the inductance=%f henries\n',L2);\n",
"mprintf('for 95percent line capacitane inductance=%f henries',L3);"
   ]
   }
,
{
		   "cell_type": "markdown",
		   "metadata": {},
		   "source": [
			"## Example 18.4: To_find_the_inductance_and_the_KVA_rating.sce"
		   ]
		  },
  {
"cell_type": "code",
	   "execution_count": null,
	   "metadata": {
	    "collapsed": true
	   },
	   "outputs": [],
"source": [
"clc;\n",
"clear;\n",
"c=.01e-6*50;\n",
"w=2*%pi*50;\n",
"L=1/(3*c*(w^2));\n",
"L=round(L*100)/100;\n",
"V=33e3/sqrt(3);\n",
"I=V/(w*L);\n",
"I=round(I*1000)/1000;\n",
"I=round(I*100)/100;\n",
"R=V*I/1e3; //the difference in result is due to erroneous calculation in textbook.\n",
"mprintf('the value of L=%fH and rating =%fkVA',L,R);\n",
"disp('the difference in result is due to erroneous calculation in textbook.');"
   ]
   }
],
"metadata": {
		  "kernelspec": {
		   "display_name": "Scilab",
		   "language": "scilab",
		   "name": "scilab"
		  },
		  "language_info": {
		   "file_extension": ".sce",
		   "help_links": [
			{
			 "text": "MetaKernel Magics",
			 "url": "https://github.com/calysto/metakernel/blob/master/metakernel/magics/README.md"
			}
		   ],
		   "mimetype": "text/x-octave",
		   "name": "scilab",
		   "version": "0.7.1"
		  }
		 },
		 "nbformat": 4,
		 "nbformat_minor": 0
}
