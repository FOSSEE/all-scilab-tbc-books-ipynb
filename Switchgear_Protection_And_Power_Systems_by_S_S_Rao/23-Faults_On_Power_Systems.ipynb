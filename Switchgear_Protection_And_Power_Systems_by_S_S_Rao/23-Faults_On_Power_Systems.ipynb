{
"cells": [
 {
		   "cell_type": "markdown",
	   "metadata": {},
	   "source": [
       "# Chapter 23: Faults On Power Systems"
	   ]
	},
{
		   "cell_type": "markdown",
		   "metadata": {},
		   "source": [
			"## Example 23.03: To_calculate_the_fault_current.sce"
		   ]
		  },
  {
"cell_type": "code",
	   "execution_count": null,
	   "metadata": {
	    "collapsed": true
	   },
	   "outputs": [],
"source": [
"clear;\n",
"clc;\n",
"vf=1;\n",
"r=1250e3;\n",
"V=600;\n",
"x1=.5;\n",
"x2=.5;\n",
"x3=.02;\n",
"ia2=vf/(x1+x2+x3);\n",
"ia=3*ia2;\n",
"ia1=ia2;\n",
"ia0=ia1;\n",
"iab=r/(sqrt(3)*V);\n",
"iab=round(iab/10)*10;\n",
"ia=round(ia*100)/100;\n",
"If=ia*iab;//the difference in result is due to erroneous calculation in textbook.\n",
"printf('fault current If=%fA',If);\n",
"disp('the difference in result is due to erroneous calculation in textbook.')"
   ]
   }
,
{
		   "cell_type": "markdown",
		   "metadata": {},
		   "source": [
			"## Example 23.04: To_calculate_the_fault_current.sce"
		   ]
		  },
  {
"cell_type": "code",
	   "execution_count": null,
	   "metadata": {
	    "collapsed": true
	   },
	   "outputs": [],
"source": [
"clear;\n",
"clc;\n",
"v=1;\n",
"r=1250e3;\n",
"V=600;\n",
"x1=.05*%i;\n",
"x2=.05*%i;\n",
"x0=.02*%i;\n",
"a=1*%e^(%i*(120*%pi/180));\n",
"b=a^2;\n",
"ia1=v/(x1+inv(inv(x2)+inv(x0)));\n",
"ibase=1200;\n",
"va1=v-(ia1*x1);\n",
"ia2=-va1/x2;\n",
"ia0=-va1/x0;\n",
"ia=(ia0+ia1+ia2);\n",
"ib=(ia0+(b*ia1)+(a*ia2));\n",
"ic=(ia0+(a*ia1)+(b*ia2));\n",
"ia0r=real(ia);\n",
"ia0i=imag(ia);\n",
"iam=sqrt((ia0r^2)+(ia0i^2));\n",
"ia1r=real(ib);\n",
"ia1i=imag(ib);\n",
"ibm=sqrt((ia1r^2)+(ia1i^2));//the difference in result is due to erroneous calculation in textbook.\n",
"ia2r=real(ic);\n",
"ia2i=imag(ic);\n",
"icm=sqrt((ia2r^2)+(ia2i^2));\n",
"iaa=0;\n",
"iba=atand(ia1i/ia1r);\n",
"ica=atand(ia2i/ia2r);\n",
"im=ibm*ibase;\n",
"mprintf('fault current for double line to ground fault=%fA',im)\n",
"disp('the difference in result is due to erroneous calculation in textbook.')"
   ]
   }
,
{
		   "cell_type": "markdown",
		   "metadata": {},
		   "source": [
			"## Example 23.05: To_calculate_the_fault_current.sce"
		   ]
		  },
  {
"cell_type": "code",
	   "execution_count": null,
	   "metadata": {
	    "collapsed": true
	   },
	   "outputs": [],
"source": [
"clear;\n",
"clc;\n",
"v=1;\n",
"r=1250e3;\n",
"V=600;\n",
"x1=.05*%i;\n",
"x2=.05*%i;\n",
"x0=.02*%i;\n",
"ia1=v/(x1+x2);\n",
"ia2=-ia1;\n",
"ia=ia1+ia2;\n",
"ia0=0;\n",
"a=1*%e^(%i*(120*%pi/180));\n",
"b=a^2;\n",
"ia=(ia0+ia1+ia2);\n",
"ib=(ia0+(b*ia1)+(a*ia2));\n",
"ic=(ia0+(a*ia1)+(b*ia2));\n",
"ia0r=real(ia);\n",
"ia0i=imag(ia);\n",
"iam=sqrt((ia0r^2)+(ia0i^2));\n",
"ia1r=real(ib);\n",
"ia1i=imag(ib);\n",
"ibm=sqrt((ia1r^2)+(ia1i^2));\n",
"ia2r=real(ic);\n",
"ia2i=imag(ic);\n",
"icm=sqrt((ia2r^2)+(ia2i^2));\n",
"iaa=0;\n",
"iba=atand(ia1i/ia1r);\n",
"ica=atand(ia2i/ia2r);\n",
"ibase=r/(sqrt(3)*V);\n",
"ibm=ibm*ibase;\n",
"ibm=round(ibm/100)*100;\n",
"mprintf('fault current for double line to ground fault=%dA',ibm);"
   ]
   }
,
{
		   "cell_type": "markdown",
		   "metadata": {},
		   "source": [
			"## Example 23.06: to_find_the_subtransient_fault_currents.sce"
		   ]
		  },
  {
"cell_type": "code",
	   "execution_count": null,
	   "metadata": {
	    "collapsed": true
	   },
	   "outputs": [],
"source": [
"clear;\n",
"clc;\n",
"r=1250e3;\n",
"v=600;\n",
"z1=.15*%i;\n",
"z2=.3*%i;\n",
"z3=.05*%i;\n",
"z4=.55*%i;\n",
"x1=inv(inv(z2)+inv(z1));\n",
"x2=x1;\n",
"x0=inv(inv(z3)+inv(z4));\n",
"e=1;\n",
"ia1=e/(x1+x2+x0);\n",
"ia2=ia1;\n",
"ia0=ia2;\n",
"ia=3*ia1;//the difference in result is due to erroneous calculation in textbook.\n",
"base=r/(sqrt(3)*v);\n",
"ita=ia*base;\n",
"mprintf('the fault current=%fA',-imag(ita));\n",
"disp('the difference in result is due to erroneous calculation in textbook.');"
   ]
   }
,
{
		   "cell_type": "markdown",
		   "metadata": {},
		   "source": [
			"## Example 23.07: To_calculate_the_fault_current_for_different_cases.sce"
		   ]
		  },
  {
"cell_type": "code",
	   "execution_count": null,
	   "metadata": {
	    "collapsed": true
	   },
	   "outputs": [],
"source": [
"clear;\n",
"clc;\n",
"e=1;\n",
"r=1500e3;\n",
"v=11e3;\n",
"x1=.1;\n",
"ia=3*e/(x1*3);\n",
"ibase=r/(sqrt(3)*v);\n",
"i=ia*ibase;\n",
"mprintf('the single line to ground fault = %dA',i);\n",
"ia1=e/(2*x1);\n",
"ib=sqrt(3)*ia1;\n",
"ib=ibase*ib;\n",
"mprintf('\nline to line fault current=%dA',ib);"
   ]
   }
,
{
		   "cell_type": "markdown",
		   "metadata": {},
		   "source": [
			"## Example 23.08: To_calculate_fault_current_and_phase_voltages.sce"
		   ]
		  },
  {
"cell_type": "code",
	   "execution_count": null,
	   "metadata": {
	    "collapsed": true
	   },
	   "outputs": [],
"source": [
"clear;\n",
"clc;\n",
"X1=6.6*%i;\n",
"X2=6.3*%i;\n",
"X0=12.6*%i;\n",
"r=37.5e6;\n",
"v=33e3;\n",
"e=1;\n",
"zb=v^2/r;\n",
"x1=X1/zb;\n",
"x2=X2/zb;\n",
"x0=X0/zb;\n",
"x1g=.18*%i;\n",
"x2g=.12*%i;\n",
"x0g=.1*%i;\n",
"x1=x1+x1g;\n",
"x2=x2+x2g;\n",
"x0=x0+x0g;\n",
"ia=3*e/(x1+x2+x0);\n",
"ia1=ia/3;\n",
"a=1*%e^(%i*(120*%pi/180));\n",
"b=a^2;\n",
"ibase=r/(sqrt(3)*v);\n",
"ian=ia*ibase;\n",
"printf('fault current=%djAmp',imag(ian));\n",
"va=e-(ia1*x1g);\n",
"vb=-ia1*x2g;\n",
"vc=-ia1*x0g;\n",
"va0=(va+vb+vc);\n",
"va1=(va+(b*vb)+(a*vc));\n",
"va2=(va+(a*vb)+(b*vc));\n",
"v=v/sqrt(3);\n",
"va0=va0*v;\n",
"va1=va1*v;\n",
"va2=va2*v;\n",
"va0r=real(va0);\n",
"va0i=imag(va0);\n",
"va0m=sqrt((va0r^2)+(va0i^2));\n",
"va0a=atand(va0i/va0r);\n",
"va1r=real(va1);\n",
"va1i=imag(va1);\n",
"va1m=sqrt((va1r^2)+(va1i^2));\n",
"va1a=atand(va1i/va1r)-120;\n",
"va2r=real(va2);\n",
"va2i=imag(va2);\n",
"va2m=sqrt((va2r^2)+(va2i^2));\n",
"va2a=atand(va2i/va2r)+120;\n",
"mprintf('\nthe voltage levels are \n va=%f+j%f V \tor\t %d/_%d kV',va0r/1e3,va0i/1e3,va0m/1e3,va0a);\n",
"mprintf('\n vb=%f+j(%f) kV \tor\t %d/_%d kV',va1r/1e3,va1i/1e3,va1m/1e3,va1a);\n",
"mprintf('\n vc=%f+j(%f) kV \tor\t %d/_%d kV',va2r/1e3,va2i/1e3,va2m/1e3,va2a);"
   ]
   }
,
{
		   "cell_type": "markdown",
		   "metadata": {},
		   "source": [
			"## Example 23.09: To_calculate_fault_currents_for_different_types_of_faults.sce"
		   ]
		  },
  {
"cell_type": "code",
	   "execution_count": null,
	   "metadata": {
	    "collapsed": true
	   },
	   "outputs": [],
"source": [
"clear;\n",
"clc;\n",
"e=100/75;\n",
"r=100e6;\n",
"v=66e3;\n",
"xg1=.175*%i*e;\n",
"xg2=.135*%i*e;\n",
"X1=.1*%i*e;\n",
"zn=3*58;\n",
"ibase=r/(sqrt(3)*v);\n",
"vbase=v/sqrt(3);\n",
"zb=vbase/ibase;\n",
"zg0=zn/zb;\n",
"f=70e3;\n",
"e=f/v;\n",
"x1=.367*%i;\n",
"x2=.313*%i;\n",
"z0=zg0+(.133*%i);\n",
"a=1*%e^(%i*(120*%pi/180));\n",
"b=a^2;\n",
"ia1=e/x1;\n",
"mprintf('%f',real(vbase));\n",
"ia=ia1;\n",
"ib=b*ia;\n",
"ic=a*ia;\n",
"ia=ibase*ia;\n",
"ib=ibase*ib;\n",
"ic=ibase*ic;\n",
"ia0r=real(ia);\n",
"ia0i=imag(ia);\n",
"iam=sqrt((ia0r^2)+(ia0i^2));\n",
"ia1r=real(ib);\n",
"ia1i=imag(ib);\n",
"ibm=sqrt((ia1r^2)+(ia1i^2));\n",
"ia2r=real(ic);\n",
"ia2i=imag(ic);\n",
"icm=sqrt((ia2r^2)+(ia2i^2));\n",
"iaa=-90;\n",
"iba=180+atand(ia1i/ia1r);\n",
"ica=atand(ia2i/ia2r);\n",
"mprintf('the symmetric components for three phase fault are \n ia0=%f+j%f A \tor\t %f/_%d A',ia0r,ia0i,iam,iaa);\n",
"mprintf('\n ib=%f+j%f A \tor\t %f/_%d A',ia1r,ia1i,ibm,iba);\n",
"mprintf('\n ic=%f+j(%f) A \tor\t %f/_%d A',ia2r,ia2i,icm,ica);\n",
"ia1=e/(x1+x2);\n",
"ia2=-ia1;\n",
"ia0=0;\n",
"ia=(ia0+ia1+ia2);\n",
"ib=(ia0+(b*ia1)+(a*ia2));\n",
"ic=(ia0+(a*ia1)+(b*ia2));\n",
"i=r/(sqrt(3)*v);\n",
"ia=ia*i;\n",
"ib=ib*i;\n",
"ic=ic*i;\n",
"ia0r=real(ia);\n",
"ia0i=imag(ia);\n",
"iam=sqrt((ia0r^2)+(ia0i^2));\n",
"ia1r=real(ib);\n",
"ia1i=imag(ib);\n",
"ibm=sqrt((ia1r^2)+(ia1i^2));\n",
"ia2r=real(ic);\n",
"ia2i=imag(ic);\n",
"icm=sqrt((ia2r^2)+(ia2i^2));\n",
"iaa=0;\n",
"iba=180+atand(ia1i/ia1r);\n",
"ica=atand(ia2i/ia2r);\n",
"icm=round(icm/10)*10;\n",
"ibm=round(ibm/10)*10;\n",
"mprintf('\nthe symmetric components for line to line fault are \n ia0=%f+j%f A \tor\t %f/_%f A',ia0r,ia0i,iam,iaa);\n",
"mprintf('\n ib=%f+j%f A \tor\t %f/_%f A',ia1r,ia1i,ibm,iba);\n",
"mprintf('\n ic=%f+j(%f) A \tor\t %f/_%f A',ia2r,ia2i,icm,ica);\n",
"ia1=e/(x1+x2+z0);\n",
"ia2=ia1;\n",
"ia0=ia2;\n",
"ia=(ia0+ia1+ia2);\n",
"ib=(ia0+(b*ia1)+(a*ia2));\n",
"ic=(ia0+(a*ia1)+(b*ia2));\n",
"i=r/(sqrt(3)*v);\n",
"ia=ia*874;\n",
"ia0r=real(ia);\n",
"ia0i=imag(ia);\n",
"iam=sqrt((ia0r^2)+(ia0i^2));\n",
"ia1r=real(ib);\n",
"ia1i=imag(ib);\n",
"ibm=sqrt((ia1r^2)+(ia1i^2));\n",
"ia2r=real(ic);\n",
"ia2i=imag(ic);\n",
"icm=sqrt((ia2r^2)+(ia2i^2));\n",
"iaa=atand(ia0i/ia0r);\n",
"iba=0;\n",
"ica=0;\n",
"mprintf('\nthe symmetric components for single line to ground fault are \n ia0=%f+j%f A \tor\t %f/_%f A',ia0r,ia0i,iam,iaa);\n",
"mprintf('\n ib=%f+j%f A \tor\t %f/_%f A',ia1r,ia1i,ibm,iba);\n",
"mprintf('\n ic=%f+j(%f) A \tor\t %f/_%f A',ia2r,ia2i,icm,ica);"
   ]
   }
],
"metadata": {
		  "kernelspec": {
		   "display_name": "Scilab",
		   "language": "scilab",
		   "name": "scilab"
		  },
		  "language_info": {
		   "file_extension": ".sce",
		   "help_links": [
			{
			 "text": "MetaKernel Magics",
			 "url": "https://github.com/calysto/metakernel/blob/master/metakernel/magics/README.md"
			}
		   ],
		   "mimetype": "text/x-octave",
		   "name": "scilab",
		   "version": "0.7.1"
		  }
		 },
		 "nbformat": 4,
		 "nbformat_minor": 0
}
