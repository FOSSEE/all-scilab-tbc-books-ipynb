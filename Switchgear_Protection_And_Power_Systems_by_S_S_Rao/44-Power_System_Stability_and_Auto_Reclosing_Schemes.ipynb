{
"cells": [
 {
		   "cell_type": "markdown",
	   "metadata": {},
	   "source": [
       "# Chapter 44: Power System Stability and Auto Reclosing Schemes"
	   ]
	},
{
		   "cell_type": "markdown",
		   "metadata": {},
		   "source": [
			"## Example 44.01: To_calculate_max_possible_power_transfer_through_the_transmission_line.sce"
		   ]
		  },
  {
"cell_type": "code",
	   "execution_count": null,
	   "metadata": {
	    "collapsed": true
	   },
	   "outputs": [],
"source": [
"clear;\n",
"clc;\n",
"v=115;\n",
"x=7;\n",
"v=v/sqrt(3);\n",
"pm=v^2/x;\n",
"ps=pm*v*v/x;\n",
"pm3=round(pm*100)/100;\n",
"pm3=pm3*3;\n",
"mprintf('the maximum 3 phase=%fMW',pm3);"
   ]
   }
,
{
		   "cell_type": "markdown",
		   "metadata": {},
		   "source": [
			"## Example 44.02: To_calculate_max_possible_power_transfer_through_the_transmission_line.sce"
		   ]
		  },
  {
"cell_type": "code",
	   "execution_count": null,
	   "metadata": {
	    "collapsed": true
	   },
	   "outputs": [],
"source": [
"clear;\n",
"clc;\n",
"x=4+(7*%i);\n",
"v=115/sqrt(3);\n",
"pm=(v^2/sqrt((real(x)^2)+(imag(x)^2)))-(real(x)*v^2/((real(x)^2)+(imag(x)^2)));\n",
"pm3=round(pm*100)/100;\n",
"pm3=3*pm3;\n",
"mprintf('the maximum 3 phase=%fMW',pm3);"
   ]
   }
,
{
		   "cell_type": "markdown",
		   "metadata": {},
		   "source": [
			"## Example 44.03: To_calculate_the_steady_state_limit.sce"
		   ]
		  },
  {
"cell_type": "code",
	   "execution_count": null,
	   "metadata": {
	    "collapsed": true
	   },
	   "outputs": [],
"source": [
"clear;\n",
"clc;\n",
"v=1;\n",
"p=.91;\n",
"y=acosd(-.91)-180;\n",
"y=round(y*10)/10;\n",
"i=v*%e^(y*%i*%pi/180);\n",
"x=.37*%e^(%i*%pi/2);\n",
"e=v+(i*x);\n",
"e=round(e*100)/100;\n",
"p=abs(e/x)*v;\n",
"mprintf('the steady state limit=%fp.u.',p);\n",
"a=atand(imag(i),real(i))"
   ]
   }
,
{
		   "cell_type": "markdown",
		   "metadata": {},
		   "source": [
			"## Example 44.04_a: To_determine_the_Inertia_Constants_and_Angular_Momentum.sce"
		   ]
		  },
  {
"cell_type": "code",
	   "execution_count": null,
	   "metadata": {
	    "collapsed": true
	   },
	   "outputs": [],
"source": [
"clear;\n",
"clc;\n",
"j=50e2;\n",
"r=100e6;\n",
"f=60;\n",
"p=2;\n",
"g=10;\n",
"n=120*f/p;\n",
"w=2*3.14*n/60;\n",
"ke=.5*j*w^2*100;\n",
"h=ke/r;\n",
"m=g*h/(180*f)\n",
"m=round(m*1000)/1000;\n",
"mprintf('the value of angulr momentum M=%fMJs/ele.degrees\nthe Inertia Constant H=%dMJ/MVA',m,round(h));"
   ]
   }
,
{
		   "cell_type": "markdown",
		   "metadata": {},
		   "source": [
			"## Example 44.04: To_calculate_the_kinetic_energy_of_rotor.sce"
		   ]
		  },
  {
"cell_type": "code",
	   "execution_count": null,
	   "metadata": {
	    "collapsed": true
	   },
	   "outputs": [],
"source": [
"clear;\n",
"clc;\n",
"j=400;\n",
"N=500;\n",
"w=2*%pi*N/60;\n",
"w=round(w);\n",
"ke=.5*j*(w^2);\n",
"mprintf('the kinetic energy=%dJoules \tor\t%fKiloJoules',ke,ke/1e3);"
   ]
   }
,
{
		   "cell_type": "markdown",
		   "metadata": {},
		   "source": [
			"## Example 44.05: To_find_the_stored_energy_and_angular_acceleration.sce"
		   ]
		  },
  {
"cell_type": "code",
	   "execution_count": null,
	   "metadata": {
	    "collapsed": true
	   },
	   "outputs": [],
"source": [
"clear;\n",
"clc;\n",
"r=200;\n",
"c=8;\n",
"e=c*r;\n",
"f=50;\n",
"mprintf('stored energy=%dMJ',e);\n",
"ps=160e6;\n",
"pe=100e6;\n",
"p=ps-pe;\n",
"m=e*1e6/(180*f);\n",
"a=p/m;\n",
"mprintf('\nthe angular acceleration=%f elec.degrees/sec^2',a)"
   ]
   }
,
{
		   "cell_type": "markdown",
		   "metadata": {},
		   "source": [
			"## Example 44.06: To_calculate_the_Angular_momentum_and_acceleration_of_rotor.sce"
		   ]
		  },
  {
"cell_type": "code",
	   "execution_count": null,
	   "metadata": {
	    "collapsed": true
	   },
	   "outputs": [],
"source": [
"clear;\n",
"clc;\n",
"ke=200e6;\n",
"r=50e6;\n",
"ps=25e6;\n",
"pe=22.5e6;\n",
"g=50;\n",
"f=60;\n",
"p=ps-pe;\n",
"h=ke/r;\n",
"m=g*h/(180*f);\n",
"m=round(m*10000)/10000;\n",
"n=m*180/(%pi);\n",
"n=round(n*100)/100;\n",
"mprintf('the angular momentum is %fMJ.s/elec.degree\tor\t%fMJs/rad',m,n);\n",
"a=p/n/1e6;\n",
"printf('\nthe angular acceleration =%frad/sec^2',a);"
   ]
   }
,
{
		   "cell_type": "markdown",
		   "metadata": {},
		   "source": [
			"## Example 44.07: To_calculate_the_power_and_increase_in_the_shaft_power.sce"
		   ]
		  },
  {
"cell_type": "code",
	   "execution_count": null,
	   "metadata": {
	    "collapsed": true
	   },
	   "outputs": [],
"source": [
"clear;\n",
"clc;\n",
"pm=500;\n",
"d=8;\n",
"pd=pm*sind(d);\n",
"pd=round(pd*10)/10;\n",
"mprintf('the power developed=%fMW',pd);\n",
"d=d*%pi/180;\n",
"v=asind(cos(3.14-d))+31.9;\n",
"p=pm*sind(-v);\n",
"p=round(p);\n",
"pz=p-pd;\n",
"mprintf('permissible sudden action loading without loss of transient stability with initial rotor angle 8degree = %fMW',pz);"
   ]
   }
,
{
		   "cell_type": "markdown",
		   "metadata": {},
		   "source": [
			"## Example 44.08: To_calculate_the_critical_clearing_angle.sce"
		   ]
		  },
  {
"cell_type": "code",
	   "execution_count": null,
	   "metadata": {
	    "collapsed": true
	   },
	   "outputs": [],
"source": [
"clear;\n",
"clc;\n",
"p2=.4;\n",
"p3=1.3;\n",
"p1=1.8;\n",
"d1=asind(1/p1);\n",
"d1=round(d1*10)/10;\n",
"d3=180-asind(1/p3);\n",
"k=d1-d3;\n",
"t=(p2*cosd(d1));\n",
"p=(cosd(d3));\n",
"y=(((d1-d3)*%pi/180)+(p2*cosd(d1))-(p3*(cosd(d3)-.14)))/(p2-p3);\n",
"c=acosd(y);//the difference in result is due to erroneous calculation in textbook.\n",
"mprintf('the clearing critical angle =%f(electrical degrees)',c)\n",
"disp('the difference in result is due to erroneous calculation in textbook.');"
   ]
   }
],
"metadata": {
		  "kernelspec": {
		   "display_name": "Scilab",
		   "language": "scilab",
		   "name": "scilab"
		  },
		  "language_info": {
		   "file_extension": ".sce",
		   "help_links": [
			{
			 "text": "MetaKernel Magics",
			 "url": "https://github.com/calysto/metakernel/blob/master/metakernel/magics/README.md"
			}
		   ],
		   "mimetype": "text/x-octave",
		   "name": "scilab",
		   "version": "0.7.1"
		  }
		 },
		 "nbformat": 4,
		 "nbformat_minor": 0
}
