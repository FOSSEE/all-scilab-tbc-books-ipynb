{
"cells": [
 {
		   "cell_type": "markdown",
	   "metadata": {},
	   "source": [
       "# Chapter 19: Introduction to Fault Calculations"
	   ]
	},
{
		   "cell_type": "markdown",
		   "metadata": {},
		   "source": [
			"## Example 19.1: expressing_the_quantities_in_per_unit_form.sce"
		   ]
		  },
  {
"cell_type": "code",
	   "execution_count": null,
	   "metadata": {
	    "collapsed": true
	   },
	   "outputs": [],
"source": [
"clc;\n",
"clear;\n",
"i=10;\n",
"v=200;\n",
"z=v/i;\n",
"I1=20/i;\n",
"I2=.2/i;\n",
"v1=50/v;\n",
"r=2/z;\n",
"mprintf('the base impedence=%dohm\n',z);\n",
"mprintf('the base values for 20A=%dp.u.\n.the base values for 2A=%fp.u.\nthe base values for 50V=%fp.u.\n the base values for 2ohm=%fp.u',I1,I2,v1,r);"
   ]
   }
,
{
		   "cell_type": "markdown",
		   "metadata": {},
		   "source": [
			"## Example 19.2: conversion_in_per_unit.sce"
		   ]
		  },
  {
"cell_type": "code",
	   "execution_count": null,
	   "metadata": {
	    "collapsed": true
	   },
	   "outputs": [],
"source": [
"clc;\n",
"clear;\n",
"z=2;\n",
"v=11e3;\n",
"r=1000e3;\n",
"zb=v^2/r;\n",
"y=z/zb;\n",
"y=round(y*10000)/10000;\n",
"mprintf('the per unit resistance=%fp.u',y);"
   ]
   }
,
{
		   "cell_type": "markdown",
		   "metadata": {},
		   "source": [
			"## Example 19.3: to_find_the_new_pu_reactance.sce"
		   ]
		  },
  {
"cell_type": "code",
	   "execution_count": null,
	   "metadata": {
	    "collapsed": true
	   },
	   "outputs": [],
"source": [
"clc;\n",
"clear;\n",
"v=11e3;\n",
"r=15000e3;\n",
"zp=.15;\n",
"vnew=110e3;\n",
"rnew=30000e3;\n",
"zb=v^2/r;\n",
"Z=zp*zb;\n",
"zbnew=vnew^2/rnew;\n",
"Zp=Z/zbnew;\n",
"mprintf('the new per unit reactance=%fp.u',Zp/10);"
   ]
   }
,
{
		   "cell_type": "markdown",
		   "metadata": {},
		   "source": [
			"## Example 19.4: drawing_the_reactance_diagram_of_the_system.sce"
		   ]
		  },
  {
"cell_type": "code",
	   "execution_count": null,
	   "metadata": {
	    "collapsed": true
	   },
	   "outputs": [],
"source": [
"clc;\n",
"clear;\n",
"v1=11e3;\n",
"v2=22e3;\n",
"v3=3.3e3;\n",
"r=10000e3;\n",
"zb1=v1^2/r;\n",
"zb2=v2^2/r;\n",
"zb3=v3^2/r;\n",
"zp1=300/zb3;\n",
"zp2=300*(zb2/zb3)/zb2;\n",
"zp3=300*(zb1/zb3)/zb1;\n",
"zp1=round(zp1*10)/10;\n",
"zp1=round(zp1);\n",
"zp2=round(zp2*10)/10;\n",
"zp2=round(zp2);\n",
"zp3=round(zp3*10)/10;\n",
"zp3=round(zp3);\n",
"mprintf('the per unit values =%dp.u. ; %dp.u.; %dp.u. ',zp1,zp2,zp3);"
   ]
   }
,
{
		   "cell_type": "markdown",
		   "metadata": {},
		   "source": [
			"## Example 19.5: to_find_the_fault_current.sce"
		   ]
		  },
  {
"cell_type": "code",
	   "execution_count": null,
	   "metadata": {
	    "collapsed": true
	   },
	   "outputs": [],
"source": [
"clc;\n",
"clear;\n",
"z=0.2*%i*0.155/(0.2+0.155);\n",
"v=1;\n",
"i=v/z;\n",
"ir=real(i);\n",
"im=imag(i);\n",
"im=round(im*100)/100;\n",
"mprintf('the fault current is =%d+(%fj)A',ir,im);"
   ]
   }
,
{
		   "cell_type": "markdown",
		   "metadata": {},
		   "source": [
			"## Example 19.6: The_reactance_calculations.sce"
		   ]
		  },
  {
"cell_type": "code",
	   "execution_count": null,
	   "metadata": {
	    "collapsed": true
	   },
	   "outputs": [],
"source": [
"clc;\n",
"clear;\n",
"r=30000e3;\n",
"v1=11e3;\n",
"v2=110e3;\n",
"zb1=v1^2/r;\n",
"zb2=v2^2/r;\n",
"zp1=80/zb2;\n",
"zp2=.1*%i*30000/35000;\n",
"zp3=.2*%i*30000/10000;\n",
"zp3r=real(zp3);\n",
"zp2r=real(zp2);\n",
"zp3i=imag(zp3);\n",
"zp2i=imag(zp2);\n",
"zb2=round(zb2*10)/10;\n",
"zp1=round(zp1*1000)/1000;\n",
"zp2i=round(zp2i*10000)/10000;\n",
"zp3i=round(zp3i*10)/10;\n",
"mprintf('the base impedence of transmission line circuti=%fohm\nper unit reactance of transmission line=%fp.u.\n ',zb2,zp1);\n",
"mprintf('per unit reactance of transformer to new base=%f+(%fj)p.u.\nPer unit reactance of motor to new base=%f+(%fj)p.u.',zp2r,zp2i,zp3r,zp3i);"
   ]
   }
,
{
		   "cell_type": "markdown",
		   "metadata": {},
		   "source": [
			"## Example 19.7: to_find_the_pu_impedences.sce"
		   ]
		  },
  {
"cell_type": "code",
	   "execution_count": null,
	   "metadata": {
	    "collapsed": true
	   },
	   "outputs": [],
"source": [
"clc;\n",
"clear;\n",
"r1=10e6;\n",
"r2=7.5e6;\n",
"r3=5e6;\n",
"v1=66e3;\n",
"v2=11e3;\n",
"v3=3.3e3;\n",
"zst=.06*r1*%i/r2;\n",
"zps=.07*%i;\n",
"zpt=.09*%i;\n",
"Zp=(zst+zps-zst)/2;\n",
"Zs=(zps+zst-zpt)/2;\n",
"Zt=(zpt+zst-zps)/2;\n",
"Zpi=imag(Zp);\n",
"Zsi=imag(Zs);\n",
"Zti=imag(Zt);\n",
"Zpi=round(Zpi*100)/100;\n",
"mprintf('the per unit impedencce of circuit \nZp=%fjp.u ;\n Zs=%fjp.u;\n Zt=%fjp.u',Zpi,Zsi,Zti);"
   ]
   }
,
{
		   "cell_type": "markdown",
		   "metadata": {},
		   "source": [
			"## Example 19.9: To_calculate_the_new_fault_level.sce"
		   ]
		  },
  {
"cell_type": "code",
	   "execution_count": null,
	   "metadata": {
	    "collapsed": true
	   },
	   "outputs": [],
"source": [
"clc;\n",
"clear;\n",
"old=5000;\n",
"bank=200;\n",
"new=old-bank;\n",
"mprintf('new fault =%dMVA',new);"
   ]
   }
],
"metadata": {
		  "kernelspec": {
		   "display_name": "Scilab",
		   "language": "scilab",
		   "name": "scilab"
		  },
		  "language_info": {
		   "file_extension": ".sce",
		   "help_links": [
			{
			 "text": "MetaKernel Magics",
			 "url": "https://github.com/calysto/metakernel/blob/master/metakernel/magics/README.md"
			}
		   ],
		   "mimetype": "text/x-octave",
		   "name": "scilab",
		   "version": "0.7.1"
		  }
		 },
		 "nbformat": 4,
		 "nbformat_minor": 0
}
