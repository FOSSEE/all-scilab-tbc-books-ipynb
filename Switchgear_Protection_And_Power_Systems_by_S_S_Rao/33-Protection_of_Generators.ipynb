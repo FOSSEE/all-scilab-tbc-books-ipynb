{
"cells": [
 {
		   "cell_type": "markdown",
	   "metadata": {},
	   "source": [
       "# Chapter 33: Protection of Generators"
	   ]
	},
{
		   "cell_type": "markdown",
		   "metadata": {},
		   "source": [
			"## Example 33.01: EX33_01.sce"
		   ]
		  },
  {
"cell_type": "code",
	   "execution_count": null,
	   "metadata": {
	    "collapsed": true
	   },
	   "outputs": [],
"source": [
"clear;\n",
"clc;\n",
"v=11e3/sqrt(3);\n",
"v=round(v);\n",
"r=5e6;\n",
"per=20;\n",
"i=r/(3*v);\n",
"i=round(i);\n",
"i0=i*25/100;\n",
"R=per*v/(i0*1000);\n",
"R=round(R*100)/100;\n",
"printf('the resistance to be added=%fohms',R);"
   ]
   }
,
{
		   "cell_type": "markdown",
		   "metadata": {},
		   "source": [
			"## Example 33.02: To_find_the_percentage_winding_to_be_protected.sce"
		   ]
		  },
  {
"cell_type": "code",
	   "execution_count": null,
	   "metadata": {
	    "collapsed": true
	   },
	   "outputs": [],
"source": [
"clear;\n",
"clc;\n",
"v=10e3/sqrt(3);\n",
"R=10;\n",
"i=1;\n",
"ct=1000/5;\n",
"ip=i*ct;\n",
"per=R*ip*100/v;\n",
"p=10;\n",
"res=p/100*v/ip;\n",
"mprintf('the percentage of unprotected winding=%fpercent\nResistance for 90percent winding protection=%fohms',100-(per),res);"
   ]
   }
,
{
		   "cell_type": "markdown",
		   "metadata": {},
		   "source": [
			"## Example 33.03: To_find_the_percentage_winding_to_be_protected_against_earth_fault.sce"
		   ]
		  },
  {
"cell_type": "code",
	   "execution_count": null,
	   "metadata": {
	    "collapsed": true
	   },
	   "outputs": [],
"source": [
"clear;\n",
"clc;\n",
"per=.2;\n",
"r=10e6;\n",
"R=7;\n",
"v=11e3;\n",
"i=r/(sqrt(3)*v);\n",
"i=round(i);\n",
"i0=per*i;\n",
"v=v/sqrt(3);\n",
"p=R*i0/v*100;\n",
"p=round(p*10)/10;\n",
"printf('percentage of unprotected winding for earth fault=%fpercent',p);"
   ]
   }
,
{
		   "cell_type": "markdown",
		   "metadata": {},
		   "source": [
			"## Example 33.05: To_find_the_neutral_earthing_resistance.sce"
		   ]
		  },
  {
"cell_type": "code",
	   "execution_count": null,
	   "metadata": {
	    "collapsed": true
	   },
	   "outputs": [],
"source": [
"clear;\n",
"clc;\n",
"i=200;\n",
"c=.1;\n",
"v=11e3/sqrt(3);\n",
"per=.15;\n",
"x=per*v/(i);\n",
"ru=c*x;\n",
"vi=v*c;\n",
"y=i\vi;\n",
"r=sqrt((y^2)-(ru^2));\n",
"r=round(r*100)/100;\n",
"printf('the neutral earthing resistance=%fohms',r);"
   ]
   }
],
"metadata": {
		  "kernelspec": {
		   "display_name": "Scilab",
		   "language": "scilab",
		   "name": "scilab"
		  },
		  "language_info": {
		   "file_extension": ".sce",
		   "help_links": [
			{
			 "text": "MetaKernel Magics",
			 "url": "https://github.com/calysto/metakernel/blob/master/metakernel/magics/README.md"
			}
		   ],
		   "mimetype": "text/x-octave",
		   "name": "scilab",
		   "version": "0.7.1"
		  }
		 },
		 "nbformat": 4,
		 "nbformat_minor": 0
}
