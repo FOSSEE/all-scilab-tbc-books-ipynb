{
"cells": [
 {
		   "cell_type": "markdown",
	   "metadata": {},
	   "source": [
       "# Chapter 2: Nuclear Models"
	   ]
	},
{
		   "cell_type": "markdown",
		   "metadata": {},
		   "source": [
			"## Example 2.2_1: Binding_energy_and_percentage_discrepancy.sci"
		   ]
		  },
  {
"cell_type": "code",
	   "execution_count": null,
	   "metadata": {
	    "collapsed": true
	   },
	   "outputs": [],
"source": [
"// Scilab code Exa2.2.1 To calculate the binding energy of Ca(20,40) and %_age discrepancy : Page 66 (2011)\n",
"// For Ca(20,40), actual binding energy is ...... \n",
"m_p = 1.007825; // Mass of proton, amu\n",
"m_n = 1.008665; // Mass of neutron, amu\n",
"Z = 20; // Number of protons\n",
"N = 20;  // Number of neutrons\n",
"M_n = 39.962591; // Mass of the nucleus, amu\n",
"B_actual = (M_n-Z*m_p-N*m_n)*931.49; // Actual binding energy, MeV\n",
"// For Ca(20,40), Binding energ as per semiemperical mas formula......\n",
"Z = 20; // Number of protons\n",
"a_v = 15.5; // Volume constant, MeV\n",
"a_s = 16.8; // Surface constant, MeV\n",
"a_a = 23.0; // Asymmetric constant, MeV\n",
"a_c = 0.7; // Coulomb constant, MeV\n",
"a_p = 34.0; // Paring constant, MeV\n",
"A = 40; // Mass number\n",
"B_semi = [a_v*A-(a_s*A^(2/3))-(a_c*Z*(Z-1)/A^(1/3))-(a_a*(A-2*Z)^2/A)-(a_p*A^(-3/4))]; // Binding energy as per semiemperical mass formula\n",
"// Percentage discrepancy between actual and semiemperical mass formula values are.......\n",
"Per_des = -(B_semi+B_actual)/B_actual*100; // Percentage discrepancy \n",
"printf('\nActual binding energy = %6.2f MeV\nBinding energy as per semiemperical mass formula = %6.2f MeV\nPercentage discrepancy = %3.1f percent', B_actual, B_semi, Per_des);\n",
"\n",
"// Result\n",
"// Actual binding energy = -342.05 MeV\n",
"// Binding energy as per semiemperical mass formula = 343.59 MeV\n",
"// Percentage discrepancy = 0.4 percent"
   ]
   }
,
{
		   "cell_type": "markdown",
		   "metadata": {},
		   "source": [
			"## Example 2.2_2: Coulomb_energies_and_nucelon_masses_of_mirror_nuclei.sci"
		   ]
		  },
  {
"cell_type": "code",
	   "execution_count": null,
	   "metadata": {
	    "collapsed": true
	   },
	   "outputs": [],
"source": [
"// Scilab code Exa2.2.2 To calculate the difference in coulomb energy and nucleons' mass difference for mirror nuclei and show in agreement with actual mass difference Page 67 (2011)\n",
" // Calculation of coulomb energy for mirror nuclei : N-7 and O-8\n",
" // For N-7 nucleus\n",
"a_c = 0.7; // Coulomb energy constant, MeV\n",
"Z_N = 7;  //  Atpmic no. \n",
"A = 15; // Atomic mass\n",
"E_C_N = a_c*Z_N*(Z_N-1)/(A^(1/3)); // Coulomb energy for N-7, MeV\n",
"// For O-8 nucleus\n",
"a_c = 0.7; // Coulomb energy constant, MeV\n",
"Z_O = 8;  //  Atpmic no. \n",
"A = 15; // Atomic mass\n",
"E_C_O = a_c*Z_O*(Z_O-1)/(A^(1/3)); // Coulomb energy for O-8, MeV\n",
"C_E_d = E_C_O-E_C_N; // Coulomb energy difference, MeV\n",
"m_p = 1.007276*931.49; // Mass of proton, MeV\n",
"m_n = 1.008665*931.49; // Mass of neutron, MeV\n",
"M_d = m_n-m_p; // Mass difference of nucleons, MeV \n",
"D_C_M = round(C_E_d-M_d); // Difference in coulomb energy and nucleon mass difference, MeV\n",
"M_O = 15.003070*931.49; // Mass of O-8, MeV\n",
"M_N = 15.000108*931.49; // Mass of N-7, MeV\n",
"D_A = round(M_O-M_N); // Actual mass difference, MeV\n",
"printf('\nDifference in Coulomb energy = %5.3f MeV\nNucleon mass difference  = %6.4f MeV\nDifference in Coulomb energy and nucleon mass difference = %5.3f MeV\nActual mass difference = %5.3f MeV',C_E_d, M_d ,D_C_M, D_A);\n",
"if D_A == D_C_M then printf('\nResult is verified')\n",
"end\n",
"// Result\n",
"// Difference in Coulomb energy = 3.974 MeV\n",
"// Nucleon mass difference  = 1.2938 MeV\n",
"// Difference in Coulomb energy and nucleon mass difference = 3.000 MeV\n",
"// Actual mass difference = 3.000 MeV\n",
"// Result is verified"
   ]
   }
,
{
		   "cell_type": "markdown",
		   "metadata": {},
		   "source": [
			"## Example 2.2_3: Neutron_binding_energy_for_isotopes_of_krypton.sci"
		   ]
		  },
  {
"cell_type": "code",
	   "execution_count": null,
	   "metadata": {
	    "collapsed": true
	   },
	   "outputs": [],
"source": [
"// Scilab code Exa2.2.3 To calculate the energy required to remove a neutron from Kr-81, Kr-82, Kr-83 : Page 68 (2011)\n",
"// For Kr-80,  \n",
"m_p = 1.007825; // Mass of proton, amu\n",
"m_n = 1.008665; // Mass of neutron, amu\n",
"Z = 36; // Number of protons\n",
"N_80 = 44;  // Number of neutrons\n",
"M_n_80 = 79.91628; // Mass of Kr nucleus\n",
"BE_Kr_80 = (Z*m_p+N_80*m_n-M_n_80)*931.49; //  Binding energy for Kr-80, MeV\n",
"// For Kr-81,\n",
"N_81 = 45; // Number of neutrons\n",
"M_n_81 = 80.91661; // Mass of Kr-81 nucleus\n",
"BE_Kr_81 = (Z*m_p+N_81*m_n-M_n_81)*931.49; // Binding energy for Kr-81 nucleus\n",
"// For Kr-82\n",
"N_82 = 46;  // Number of neutrons\n",
"M_n_82 = 81.913482; // Mass of Kr nucleus\n",
"BE_Kr_82 = (Z*m_p+N_82*m_n-M_n_82)*931.49;  // Binding energy for Kr-82,MeV\n",
"// For Kr-83 \n",
"N_83 = 47; // Number of protons\n",
"M_n_83 = 82.914134; // Mass of Kr-83 nucleus\n",
"BE_Kr_83 = (Z*m_p+N_83*m_n-M_n_83)*931.49; // Binding energy for Kr-83, MeV\n",
"E_sep_81 = BE_Kr_81-BE_Kr_80; // Energy seperation of neutron for Kr-81, MeV\n",
"E_sep_82 = BE_Kr_82-BE_Kr_81; // Energy seperation of neutron for Kr-82, MeV\n",
"E_sep_83 = BE_Kr_83-BE_Kr_82; // Energy seperation of neutron for Kr-83, MeV\n",
", \n",
"printf('\nEnergy seperation of neutron for Kr-81 = %4.2f MeV\nEnergy seperation of neutron for Kr-82 = %4.2f MeV\nEnergy seperation of  neutron for Kr-83 = %5.2f MeV', E_sep_81, E_sep_82, E_sep_83);\n",
"\n",
"// Result\n",
"// Energy seperation of neutron for Kr-81 = 7.76 MeV\n",
"// Energy seperation of neutron for Kr-82 = 10.99 MeV\n",
"// Energy seperation of  neutron for Kr-83 =  7.46 MeV"
   ]
   }
,
{
		   "cell_type": "markdown",
		   "metadata": {},
		   "source": [
			"## Example 2.2_4: Isotopic_stability.sci"
		   ]
		  },
  {
"cell_type": "code",
	   "execution_count": null,
	   "metadata": {
	    "collapsed": true
	   },
	   "outputs": [],
"source": [
"// Scilab code Exa2.2.4 To determine the most stable isotope of A = 75 : Page 68 (2011)\n",
"a_v = 15.5; // Volume energy coefficient, MeV\n",
"a_s = 16.8; // Surface energy coefficient MeV\n",
"a_c = 0.7; // Coulomb energy coefficient, MeV\n",
"a_a = 23.0; // Asymmetric energy coefficient, MeV\n",
"a_p = 34.0; // Pairing energy coefficient, MeV\n",
"A = 75; //  Given atomic mass \n",
"z = poly(0, 'z'); // z declares  a polynomial\n",
"B = -a_c*z*(z-1)/A^(1/3)-a_a*(A-2*z)^2/A ; // Binding energy as per liquid drop model\n",
"dB = derivat(B); // Differentiate B w.r.t. z\n",
"z = roots(dB); // Isotope of A = 75\n",
"z_i = round(z); // Most stable isotope of A = 75\n",
"printf('\nMost stable isotope of A = 75 corresponds to Z = %d ', z_i)\n",
"\n",
"//   Result\n",
"//  Most stable isotope of A = 75 corresponds to Z = 33"
   ]
   }
,
{
		   "cell_type": "markdown",
		   "metadata": {},
		   "source": [
			"## Example 2.2_5: Stable_isotopes_for_different_mass_numbers.sci"
		   ]
		  },
  {
"cell_type": "code",
	   "execution_count": null,
	   "metadata": {
	    "collapsed": true
	   },
	   "outputs": [],
"source": [
"// Scilab code Exa2.2.5 To determine the most stable isotopes for A = 27, A = 118, A = 238 : Page 69 (2011)\n",
"a_v = 15.5; // Volume energy, MeV \n",
"a_s = 16.8; // Surface energy, MeV \n",
"a_c = 0.7; // Coulomb energy, MeV\n",
"a_a = 23.0; // Asymmetric energy, MeV\n",
"a_p = 34.0; // Pairing energy, MeV\n",
"z = poly(0, 'z')\n",
"// For A = 27;  \n",
"B_27 = -a_c*z*(z-1)/27^(1/3)-a_a*(27-2*z)^2/27 ; // Binding energy as per liquid drop model\n",
"dB_27 = derivat(B_27) // Differentiate B w.r.t. z\n",
"z_27 = roots(dB_27)   // Isotope of A = 27\n",
"z_i_27 = round(z_27)  // Most stable isotope of A = 27\n",
"// For A = 118 \n",
"B_118 = -a_c*z*(z-1)/118^(1/3)-a_a*(118-2*z)^2/118 ; // Binding energy as per liquid drop model\n",
"dB_118 = derivat(B_118)  // Differentiate B w.r.t. z\n",
"z_118 = roots(dB_118)    // Isotope of A = 118\n",
"z_i_118 = round(z_118)   // Most stable isotope of A = 118\n",
"// For A = 238\n",
"B_238 = -a_c*z*(z-1)/238^(1/3)-a_a*(238-2*z)^2/238 ; // Binding energy as per liquid drop model\n",
"dB_238 = derivat(B_238); // Differentiate B w.r.t. z\n",
"z_238 = roots(dB_238); // Isotope of A = 238\n",
"z_i_238 = round(z_238); // Most stable isotope of A = 238\n",
"printf('\nMost stable isotopes for A = 27, A = 118, A = 238 corresponds to z = %d, %d and %d respectively', z_i_27, z_i_118, z_i_238);\n",
"\n",
"// Result\n",
"// Most stable isotopes for A = 27, A = 118, A = 238 corresponds to z = 13, 50 and 92 respectively\n",
""
   ]
   }
,
{
		   "cell_type": "markdown",
		   "metadata": {},
		   "source": [
			"## Example 2.2_6: Coulomb_energy_coefficient_of_mirror_nuclei.sci"
		   ]
		  },
  {
"cell_type": "code",
	   "execution_count": null,
	   "metadata": {
	    "collapsed": true
	   },
	   "outputs": [],
"source": [
"// Scilab code Exa2.2.6  : To calculate the  coulomb coefficient and estimate nuclear radius for mirror nuclei: Page no. 69 (2011)\n",
"// Mirror nuclei : Na-11 and Mg-12 \n",
"m_p = 1.007276; //  Mass of proton, amu\n",
"m_n = 1.008665; // Mass of neutron, amu\n",
"M_Mg  = 22.994124; //  Atomic mass of Mg-12, amu\n",
"M_Na = 22.989768; // Atomic mass of Na-11, amu\n",
"A = 23; // Mass number\n",
"Z_Mg = 12; // Atomic number of Mg-12\n",
"e = 1.6e-019; // Charge of the electron, C\n",
"K = 8.98e+09; // Coulomb force constant\n",
"a_c = A^(1/3)/(2*Z_Mg-1)*[(M_Mg-M_Na)+(m_n-m_p)]*931.47; // Coulomb coefficient, MeV \n",
"r_0 = 3/5*K*e^2/(a_c*1.6e-013); // Nuclear radius, m\n",
"printf('\nCoulomb coefficient = %4.2f MeV\nNuclear radius = %3.1e m', a_c, r_0)\n",
"//   Result      \n",
"//   Coulomb coefficient = 0.66 MeV\n",
"//   Nuclear radius = 1.3e-015 m "
   ]
   }
,
{
		   "cell_type": "markdown",
		   "metadata": {},
		   "source": [
			"## Example 2.2_7: Coulomb_and_surface_energies_of_uranium.sci"
		   ]
		  },
  {
"cell_type": "code",
	   "execution_count": null,
	   "metadata": {
	    "collapsed": true
	   },
	   "outputs": [],
"source": [
"// Scilab code Exa2.2.7 To calculate coulomb energy and surface energy for U(92,236) : Page 71 (2011)\n",
"Z = 92; // Atomic number of U-236\n",
"e = 1.6e-019; // Charge of an electron, C\n",
"A = 236; // Mass number of U-236\n",
"K = 8.98e+09; // Coulomb constant,\n",
"r_o = 1.2e-015; // Distance of closest approach, m\n",
"a_s = -16.8; // Surface constant\n",
"E_c = -(3*K*Z*(Z-1)*e^2)/(5*r_o*A^(1/3)*1.6e-013); // Coulomb energy, MeV\n",
"E_s = a_s*A^(2/3); // Surface energy, MeV   \n",
"printf('\nCoulomb energy for U(92,236)  = %5.1f MeV \nSurface energy for U(92,236)   = %5.1f MeV  ', E_c, E_s)\n",
"//   Result\n",
"//  Coulomb energy for U(92,236)  = -973.3 MeV \n",
"//   Surface energy for U(92,236)   = -641.6 MeVS"
   ]
   }
,
{
		   "cell_type": "markdown",
		   "metadata": {},
		   "source": [
			"## Example 2.3_1: Mass_of_decayed_radioactive_material.sci"
		   ]
		  },
  {
"cell_type": "code",
	   "execution_count": null,
	   "metadata": {
	    "collapsed": true
	   },
	   "outputs": [],
"source": [
"// Scilab code Exa2.3.1 To calculate the mass of decayed radioactive material: Page 126 (2011)\n",
"t_prime =  1600; // Half life of radioactive material, years\n",
"t = 2000; // Total time, years\n",
"lambda = 0.6931/t_prime; // Decay constant, years^(-1)\n",
"m0 = 1; // The mass of radioactive substance at t0, mg\n",
"m = m0* %e^(-(lambda*t)); // Ratio of total number of atoms and number of atoms disintegrat, mg\n",
"a = 1-m; // The amount of radioactive substance decayed, mg \n",
"printf('\nThe amount of radioactive substance decayed : %6.4f mg', a)\n",
"\n",
"//   Result    \n",
"//  The amount of radioactive substance decayed : 0.5795 mg "
   ]
   }
,
{
		   "cell_type": "markdown",
		   "metadata": {},
		   "source": [
			"## Example 2.3_4: Magnetic_moment_of_nuclei.sci"
		   ]
		  },
  {
"cell_type": "code",
	   "execution_count": null,
	   "metadata": {
	    "collapsed": true
	   },
	   "outputs": [],
"source": [
"// Scilab code Exa2.3.4 : To calculate the magnetic moment of given nuclei  : Page no. 74 : (2011)\n",
"// For Ne(10.19) nucleus \n",
"j_Ne_9 = 5/2; // Total angular momentum for Ne-19 nucleus\n",
"u_Ne_9 = j_Ne_9+2.29; // Magnetic moment of Ne-19 nucleus , nuclear magneton\n",
"// For Ne(10,20) nucleus\n",
"j_Ne_10 = 0;//  Total angular momentum for Ne-20 nucleus\n",
"u_Ne_10 = j_Ne_10+2.29; // Magnetic moment of Ne-20 nucleus, nuclear magneton\n",
"// For Ne(10,21) nucleus\n",
"j_Ne_11 = 5/2;//  Total angular momentum for Ne-21 nucleus\n",
"u_Ne_11 = j_Ne_11+2.29; // Magnetic moment of Ne-21 nucleus, nuclear magneton\n",
"printf('\nMagnetic moment of Ne-19 nucleus = %4.2f nuclear magneton\nMagnetic moment of Ne-20 nucleus = %4.2f nuclear magneton\nMagnetic moment of Ne-21 nucleus = %4.2f nuclear magneton', u_Ne_9, u_Ne_10, u_Ne_11);\n",
"// Result\n",
"// Magnetic moment of Ne-19 nucleus = 4.79 nuclear magneton\n",
"// Magnetic moment of Ne-20 nucleus = 2.29 nuclear magneton\n",
"// Magnetic moment of Ne-21 nucleus = 4.79 nuclear magneton"
   ]
   }
],
"metadata": {
		  "kernelspec": {
		   "display_name": "Scilab",
		   "language": "scilab",
		   "name": "scilab"
		  },
		  "language_info": {
		   "file_extension": ".sce",
		   "help_links": [
			{
			 "text": "MetaKernel Magics",
			 "url": "https://github.com/calysto/metakernel/blob/master/metakernel/magics/README.md"
			}
		   ],
		   "mimetype": "text/x-octave",
		   "name": "scilab",
		   "version": "0.7.1"
		  }
		 },
		 "nbformat": 4,
		 "nbformat_minor": 0
}
