{
"cells": [
 {
		   "cell_type": "markdown",
	   "metadata": {},
	   "source": [
       "# Chapter 6: Particle Accelerators"
	   ]
	},
{
		   "cell_type": "markdown",
		   "metadata": {},
		   "source": [
			"## Example 6.10_1: Magnetic_field_of_the_electron.sci"
		   ]
		  },
  {
"cell_type": "code",
	   "execution_count": null,
	   "metadata": {
	    "collapsed": true
	   },
	   "outputs": [],
"source": [
"// Scilab code Exa6.10.1 : To calculate the value of magnetic field of the electron whose energy is given   Page 274(2011)\n",
"q = 1.602e-019; // Charge of an electron, C\n",
"r = 0.28; // Radius of stable orbit,m\n",
"E = 70*1.6e-013;  //  Energy of the electron, j\n",
"c = 3e+08; // Velocity of light, m/s\n",
"B = E/(e*r*c); // Magnetic field, T  \n",
"printf('\nThe magnetic field of the electron :  %4.2f T', B)\n",
"// Result\n",
"//   The magnetic field of the electron :  0.83 T    "
   ]
   }
,
{
		   "cell_type": "markdown",
		   "metadata": {},
		   "source": [
			"## Example 6.10_2: Radius_of_proton_orbit_in_synchrotron.sci"
		   ]
		  },
  {
"cell_type": "code",
	   "execution_count": null,
	   "metadata": {
	    "collapsed": true
	   },
	   "outputs": [],
"source": [
"// Scilab code Exa6.10.2 : To calculate the radius of proton orbit in synchrotron of given energy Page 275(2011)\n",
"c= 3e+08; // Speed of light in vacuum, m/s\n",
"q = 1.602e-019; // Charge on proton, coulomb\n",
"amu = 931;    // Energy equivalent of 1 amu, MeV\n",
"m = 938;  //  Rest mass of a proton, MeV\n",
"KE = 12e+03;    // Kinetic energy of proton, MeV\n",
"B = 1.9; // Magnetic field, T\n",
"E = m + KE;    // Total energy of proton, MeV\n",
"// As E = m*amu, solving for m, the mass of proton\n",
"m = E/amu*1.672e-027;    // Proton mass in motion, kg \n",
"v = 0.9973*c; // Velocity of the proton, m/s\n",
"r = m*v/(B*q); // Radius of the proton, m  \n",
"printf('\nRadius of the proton orbit :  %4.2f m', r)\n",
"// Result\n",
"//         Radius of the proton orbit:  22.84 m"
   ]
   }
,
{
		   "cell_type": "markdown",
		   "metadata": {},
		   "source": [
			"## Example 6.2_1: Kinetic_energy_of_protons.sci"
		   ]
		  },
  {
"cell_type": "code",
	   "execution_count": null,
	   "metadata": {
	    "collapsed": true
	   },
	   "outputs": [],
"source": [
"// Scilab code Exa6.2.1 : To calculate the kinetic energy of protons : Page 264 (2011)\n",
"q = 1;  //   Number of proton, \n",
"V = 800;    //  Voltage applied to the dome, kV\n",
"E = q*V; // The kinetic energy of proton,keV\n",
"printf('\nThe kinetic energy of proton : %d keV', E);\n",
"// Result\n",
"// The kinetic energy of proton : 800 keV "
   ]
   }
,
{
		   "cell_type": "markdown",
		   "metadata": {},
		   "source": [
			"## Example 6.3_1: Protons_in_Van_de_Graff_accelerator.sci"
		   ]
		  },
  {
"cell_type": "code",
	   "execution_count": null,
	   "metadata": {
	    "collapsed": true
	   },
	   "outputs": [],
"source": [
"// Scilab code Exa6.3.1 : To calculate the kinetic energy of protons in Van de Graff accelerator: Page 265 (2011)\n",
"q = 1;  //   Number of proton, \n",
"V = 7;    //  Voltage applied to the dome, MV\n",
"E = q*V; // The kinetic energy of proton,MeV\n",
"printf('\nThe kinetic energy of proton : %d MeV', E);\n",
"// Result\n",
"//     The kinetic energy of proton : 7 MeV"
   ]
   }
,
{
		   "cell_type": "markdown",
		   "metadata": {},
		   "source": [
			"## Example 6.3_2: Reactions_at_different_particle_energies.sci"
		   ]
		  },
  {
"cell_type": "code",
	   "execution_count": null,
	   "metadata": {
	    "collapsed": true
	   },
	   "outputs": [],
"source": [
"// Scilab code Exa6.3.2 : To calculate the kinetic energy of protons and no. of  possibile reactions:  Page 265 (2011)\n",
"V = 5; // Voltage of accelerator, MV\n",
"// Declare three cells (for three reactions): Page no. : 133(2011)\n",
" R1 = cell(3,2)\n",
" R2 = cell(10,2)\n",
"// Enter data for first cell (Reaction)\n",
"R1(1,1).entries = 'p';\n",
"R1(1,2).entries = 1;\n",
"R1(2,1).entries = 'd';\n",
"R1(2,2).entries = 1;\n",
"R1(3,1).entries = 'He';\n",
"R1(3,2).entries = 2;\n",
"E_p =  (R1(1,2).entries)*V\n",
"E_d =  (R1(2,2).entries)*V\n",
"E_He =  (R1(3,2).entries)*V\n",
" // Enter data for second cell (Reaction)\n",
" R2(1,1).entries = 'p'\n",
" R2(1,2).entries = 1\n",
" R2(2,1).entries = 'N'\n",
" R2(2,2).entries = 14\n",
" R2(3,1).entries = 'O'\n",
" R2(3,2).entries = 15\n",
" R2(4,1).entries = 'y'\n",
" R2(4,2).entries = 0\n",
" R2(5,1).entries = 'd'\n",
" R2(5,2).entries = 1\n",
" R2(6,1).entries = 'n'\n",
" R2(6,2).entries = 0\n",
" R2(7,1).entries = 'He'\n",
" R2(7,2).entries = 3\n",
" R2(8,1).entries = 'C'\n",
" R2(8,2).entries = 13\n",
" R2(9,1).entries = 'He'\n",
" R2(9,2).entries = 4\n",
" R2(10,1).entries = 'C'\n",
" R2(10,2).entries = 12\n",
" printf('\nProtons energy   = -%d MeV \n Deuterons energy   = -%d MeV  \n Double charged He-3  = -%d MeV', E_p, E_d, E_He)\n",
" printf('\n Possible reaction at these energies are')\n",
" printf('\n %s + %s(%d) --->   %s(%d)+ %s', R2(1,1).entries,R2(2,1).entries,R2(2,2).entries,R2(3,1).entries,R2(3,2).entries,R2(4,1).entries)\n",
"printf('\n %s + %s(%d) --->   %s(%d) + %s ', R2(5,1).entries,R2(2,1).entries,R2(2,2).entries,R2(3,1).entries,R2(3,2).entries,R2(6,1).entries)\n",
"printf('\n %s(%d) +%s(%d)  --->   %s(%d)+ %s', R2(7,1).entries,R2(7,2).entries,R2(8,1).entries,R2(8,2).entries,R2(3,1).entries,R2(3,2).entries,R2(6,1).entries)\n",
" printf('\n %s(%d) + %s(%d)  --->  %s(%d) +%s', R2(9,1).entries,R2(9,2).entries,R2(10,1).entries,R2(10,2).entries,R2(3,1).entries,R2(3,2).entries,R2(6,1).entries)\n",
"// Result\n",
"// Protons energy   = -5 MeV \n",
"// Deuterons energy   = -5 MeV  \n",
"// Double charged He-3  = -10 MeV\n",
"// Possible reaction at these energies are\n",
"// p + N(14) --->   O(15)+ y\n",
"// d + N(14) --->   O(15) + n \n",
"// He(3) +C(13)  --->   O(15)+ n\n",
"// He(4) + C(12)  --->  O(15) +n"
   ]
   }
,
{
		   "cell_type": "markdown",
		   "metadata": {},
		   "source": [
			"## Example 6.4_1: Protons_passing_through_the_carbon_stripper_foil.sci"
		   ]
		  },
  {
"cell_type": "code",
	   "execution_count": null,
	   "metadata": {
	    "collapsed": true
	   },
	   "outputs": [],
"source": [
"// Scilab code Exa6.4.1 : To calculate the kinetic energy of protons passing through the carbon stripper foil : Page 266 (2011)\n",
"q = 2;  //   Number of proton, \n",
"V = 15;    //  Voltage applied to the dome, MV\n",
"E = q*V; // The kinetic energy of proton,MeV\n",
"printf('\nThe kinetic energy of proton : %d MeV', E);\n",
"// Result\n",
"//    The kinetic energy of proton : 30 MeV"
   ]
   }
,
{
		   "cell_type": "markdown",
		   "metadata": {},
		   "source": [
			"## Example 6.5_1: Electron_at_relativistic_energy.sci"
		   ]
		  },
  {
"cell_type": "code",
	   "execution_count": null,
	   "metadata": {
	    "collapsed": true
	   },
	   "outputs": [],
"source": [
"// Scilab code Exa6.5.1 : To calculate the difference between the electron's speed and speed of light. Page 265 (2011)\n",
"v = 2.999999997e+08;  //  Velocity of the electron, m/s\n",
"c = 3e+08;  // Velocity of light,m/s\n",
"D = c-v; // difference between electron's speed and speed of light,m/s\n",
"printf('\nThe difference between electron speed and speed of light : %3.1f m/s', D);\n",
"// Result\n",
"//  The difference between electron speed and speed of light : 0.3 m/s "
   ]
   }
,
{
		   "cell_type": "markdown",
		   "metadata": {},
		   "source": [
			"## Example 6.5_2: Protons_accelerating_through_drift_tubes.sci"
		   ]
		  },
  {
"cell_type": "code",
	   "execution_count": null,
	   "metadata": {
	    "collapsed": true
	   },
	   "outputs": [],
"source": [
"// Scilab code Exa6.5.2 : To calculate the length of the first and last drift tubes which accelerate the protons whose frequency and energies are given. Page 268 (2011)\n",
"f = 200e+06;  //  Frequency of applied the voltage, Hz\n",
"V_0 = 750e+03;  // Applied potential difference, V\n",
"q = 1.6e-019; // Charge of proton, C\n",
"m = 1.67e-027; // Mass of proton, Kg\n",
"n_1 = 1; // For first tube\n",
"L_1 = sqrt(2*n_1*q*V_0/m)/(2*f);   // Length of the first tube, m\n",
"n_n = 128; //  For last tube\n",
"L_n = 1/(2*f)*sqrt(2*n_n*q*V_0/m); // Length of the last tube,m\n",
"printf('\n Length of the first tube = %4.2f m \n Length of the last tube = %4.2f m ', L_1,L_n);\n",
"// Result\n",
"//    Length of the first tube = 0.03 m \n",
"//    Length of the last tube = 0.34 m "
   ]
   }
,
{
		   "cell_type": "markdown",
		   "metadata": {},
		   "source": [
			"## Example 6.5_3: Electron_speed_at_relativistic_energies.sci"
		   ]
		  },
  {
"cell_type": "code",
	   "execution_count": null,
	   "metadata": {
	    "collapsed": true
	   },
	   "outputs": [],
"source": [
"// Scilab code Exa6.5.3 : To calculate the velocity of the electrons using relativistic considerations . Page 269 (2011)\n",
"K_E = 1.17; // Kinetic energy of the electron, MeV\n",
"E_r = 0.511; // Rest mass energy of the electron, MeV\n",
"v = [1-1/(K_E/E_r+1)^2]; // Velocity of the electron, m/s\n",
"printf('\nVelocity of the electron : %4.2fc', v)\n",
"// Result\n",
"//    Velocity of the electron : 0.91c "
   ]
   }
,
{
		   "cell_type": "markdown",
		   "metadata": {},
		   "source": [
			"## Example 6.7_1: Proton_accelerating_in_a_cyclotron.sci"
		   ]
		  },
  {
"cell_type": "code",
	   "execution_count": null,
	   "metadata": {
	    "collapsed": true
	   },
	   "outputs": [],
"source": [
"// Scilab code Exa6.7.1 : To calculate the maximum energy, oscillator frequency and number of revolutions of proton accelerated in a cyclotron. Page 270(2011)\n",
"V = 20e+03; // Potential difference across the dees, V\n",
"r = 0.28; // Radius of the dees, m \n",
"B = 1.1; // Magnetic field, tesla\n",
"q = 1.6e-019; // Charge of the proton, C\n",
"m = 1.67e-027; // Mass of the proton, Kg\n",
"E_max = B^2*q^2*r^2/(2*m*1.6e-013); // Maximnum energy acquired by protons,MeV\n",
"f = B*q/(2*%pi*m*10^06); // Frequecy of the oscillator,MHz\n",
"N = E_max*1.6e-013/(q*V); // Number of revolutions, \n",
"disp(N)\n",
"printf('\n Maximum energy acquired by proton   =  %4.2f MeV \n Frequency of the oscillator   = %4.2f MHz \n Number of revolutions    =  %d revolutions ', E_max,f,N)\n",
"// Result\n",
"//    Maximum energy acquired by proton   =  4.54 MeV \n",
"//  Frequency of the oscillator   = 16.77 MHz \n",
"//  Number of revolutions    =  227 revolutions"
   ]
   }
,
{
		   "cell_type": "markdown",
		   "metadata": {},
		   "source": [
			"## Example 6.7_2: Frequency_of_deutron_accelerated_in_a_cyclotron.sci"
		   ]
		  },
  {
"cell_type": "code",
	   "execution_count": null,
	   "metadata": {
	    "collapsed": true
	   },
	   "outputs": [],
"source": [
"// Scilab code Exa6.7.2 : To calculate the frequency of deutron accelerated in a cyclotron. Page 271(2011)\n",
"B= 2.475; // Magnetic field, tesla\n",
"q = 1.6e-019; // Charge of the deutron, C\n",
"m = 2*1.67e-027; // Mass of the deutron, Kg\n",
"f = B*q/(2*%pi*m*10^06); // Frequency of the deutron,MHz\n",
"printf('\nFrequency of the deutron:  %4.2f MHz ', f)\n",
"// Result\n",
"//   Frequency of the deutron:  18.87 MHz"
   ]
   }
,
{
		   "cell_type": "markdown",
		   "metadata": {},
		   "source": [
			"## Example 6.7_3: Relation_between_magnetic_field_and_cyclotron_frequency.sci"
		   ]
		  },
  {
"cell_type": "code",
	   "execution_count": null,
	   "metadata": {
	    "collapsed": true
	   },
	   "outputs": [],
"source": [
"// Scilab code Exa6.7.3 : To calculate the magnetic field applied to cyclotron whose frequency is given. Page 271(2011)\n",
"q = 1.6e-019; // Charge of the proton, C\n",
"r = 0.60; // radius of the dees, m\n",
"m = 1.67e-027; // Mass of the proton, Kg\n",
"f = 10^6; // Frequecy of the proton,Hz\n",
"B = 2*%pi*m*f/q; // Magnetic field applied to cyclotron, tesla\n",
"printf('\nMagnetic field applied to cyclotron :  %6.4f tesla ', B)\n",
"// Result\n",
"//    Magnetic field applied to cyclotron :  0.0656 tesla"
   ]
   }
,
{
		   "cell_type": "markdown",
		   "metadata": {},
		   "source": [
			"## Example 6.7_4: Frequency_of_alternating_field.sci"
		   ]
		  },
  {
"cell_type": "code",
	   "execution_count": null,
	   "metadata": {
	    "collapsed": true
	   },
	   "outputs": [],
"source": [
"// Scilab code Exa6.7.4 : To calculate the frequency of alternating field applied to dees. Page 272(2011)\n",
"q = 1.6e-019; // Charge of the proton, C\n",
"m = 1.67e-027; // Mass of the proton, Kg\n",
"B = 1.4; // Magnetic field , tesla\n",
"f = B*q/(2*%pi*m*10^06); // Frequency of the applied field, tesla\n",
"printf('\n Frequency of the applied field :  %4.2f MHz', f)\n",
"// Result\n",
"//     Frequency of the applied field :  21.35 MHz "
   ]
   }
,
{
		   "cell_type": "markdown",
		   "metadata": {},
		   "source": [
			"## Example 6.8_1: Energy_gained_by_an_electron_in_the_magnetic_field.sci"
		   ]
		  },
  {
"cell_type": "code",
	   "execution_count": null,
	   "metadata": {
	    "collapsed": true
	   },
	   "outputs": [],
"source": [
"// Scilab code Exa6.8.1. : To calculate the energy gained per turn of an electron present in given magnetic field. Page 273(2011)\n",
"e = 1.6e-019 ; // Charge of an electron, C\n",
"f = 60; // Frequency of variation magnetic field, Hz\n",
"B_0 = 1; // Magnetic field , tesla\n",
"r_0 = 1; // Radius of doughnut, m\n",
"E = 4*e*2*%pi*f*r_0^2/(1.6e-019); // Energy gained by electron per turn, eV\n",
"E_g = round(E)\n",
"printf('\n Energy gained by electron per turn:  %d eV', E_g)\n",
"// Result\n",
"//      Energy gained by electron per turn:  1508 eV "
   ]
   }
,
{
		   "cell_type": "markdown",
		   "metadata": {},
		   "source": [
			"## Example 6.9_1: Ratio_of_highest_to_the_lowest_frequency_of_accelerating_proton.sci"
		   ]
		  },
  {
"cell_type": "code",
	   "execution_count": null,
	   "metadata": {
	    "collapsed": true
	   },
	   "outputs": [],
"source": [
"// Scilab code Exa6.9.1 : To determine the ratio of highest to the lowest frequency of cyclotron accelerating protons whose energy is given. Page 273(2011)\n",
"K = 500; // Kinetic energy of the proton, MeV\n",
"E_r = 938; // Rest mass energy of the proton, MeV\n",
"R_f = E_r/(K+E_r); // The ratio of highest to the lowest frequency, \n",
"printf('\nThe ratio of highest to the lowest frequency :  %4.2f ', R_f)\n",
"// Result\n",
"//    The ratio of highest to the lowest frequency :  0.65 "
   ]
   }
,
{
		   "cell_type": "markdown",
		   "metadata": {},
		   "source": [
			"## Example 6.9_2: W_B_ration_of_completely_stripped_nitrogen.sci"
		   ]
		  },
  {
"cell_type": "code",
	   "execution_count": null,
	   "metadata": {
	    "collapsed": true
	   },
	   "outputs": [],
"source": [
"// Scilab code Exa6.9.2 : To calculate the w/B ratio for a completely stripped nitrogen to move in a stable orbit : Page 274(2011)\n",
"E_k = 1200; // Kinetic energy of the proton, MeV\n",
"q = 7; // Number of proton in nitrogen\n",
"E_r = 13040 //  Rest mass energy of the electron, MeV\n",
"E = (E_k+E_r)*1.6e-013; // Total energy,j\n",
"c = 3e+08; // Velocity of light, m/s\n",
"R_w_B = q*1.6e-019*c^2/E; // Ratio of w/B, m^2/W  \n",
"printf('\nThe ratio of w/B :  %4.2e m^2/W ', R_w_B)\n",
"// Result\n",
"//      The ratio of w/B :  4.42e+007 m^2/W "
   ]
   }
],
"metadata": {
		  "kernelspec": {
		   "display_name": "Scilab",
		   "language": "scilab",
		   "name": "scilab"
		  },
		  "language_info": {
		   "file_extension": ".sce",
		   "help_links": [
			{
			 "text": "MetaKernel Magics",
			 "url": "https://github.com/calysto/metakernel/blob/master/metakernel/magics/README.md"
			}
		   ],
		   "mimetype": "text/x-octave",
		   "name": "scilab",
		   "version": "0.7.1"
		  }
		 },
		 "nbformat": 4,
		 "nbformat_minor": 0
}
