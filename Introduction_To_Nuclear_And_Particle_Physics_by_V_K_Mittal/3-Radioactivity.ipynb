{
"cells": [
 {
		   "cell_type": "markdown",
	   "metadata": {},
	   "source": [
       "# Chapter 3: Radioactivity"
	   ]
	},
{
		   "cell_type": "markdown",
		   "metadata": {},
		   "source": [
			"## Example 3.2_10: Power_in_radioactive_decay.sci"
		   ]
		  },
  {
"cell_type": "code",
	   "execution_count": null,
	   "metadata": {
	    "collapsed": true
	   },
	   "outputs": [],
"source": [
"// Scilab code Exa3.2.10 : To calculate the power produced by 10 mg of Po-210  : Page no. 130 (2011)\n",
"N = 2.87e+019; // Number of atoms in 10e-10kg of Po-210\n",
"t_h = 138*24*3600; // Half life of Po-210, s\n",
"D = 0.693/t_h; // Decay constant, s^-1\n",
"A = N*D; // Activity of K-40, dps\n",
"E = 5.3*1.6e-013; // Power produce by one dps, MeV\n",
"P = A*E; // Power produced by 1.667e+012 dps, W\n",
"printf('\nThe Power produced by 1.667e+012 dps : %3.1f W', P)\n",
"//   Result\n",
"//   The Power produced by 1.667e+012 dps : 1.4 W "
   ]
   }
,
{
		   "cell_type": "markdown",
		   "metadata": {},
		   "source": [
			"## Example 3.2_1: Curie_becquerel_relatio.sci"
		   ]
		  },
  {
"cell_type": "code",
	   "execution_count": null,
	   "metadata": {
	    "collapsed": true
	   },
	   "outputs": [],
"source": [
"// Scilab code Exa3.2.1: To determine how many curie in 10^10 Bq : Page 124 (2011)\n",
"Bq = 1/3.7e+010; // Number of curie in one Bq, Ci\n",
"N = 10^10*Bq; // The number of curie in 10^10 Bq, Ci\n",
"printf('\nThe number of curie in 10^10 Bq : %4.2f Ci', N)\n",
"//   Result\n",
"//  The number of curie in 10^10 Bq : 0.27 Ci\n",
"\n",
""
   ]
   }
,
{
		   "cell_type": "markdown",
		   "metadata": {},
		   "source": [
			"## Example 3.2_2: Activity_of_thorium.sci"
		   ]
		  },
  {
"cell_type": "code",
	   "execution_count": null,
	   "metadata": {
	    "collapsed": true
	   },
	   "outputs": [],
"source": [
"// Scilab code Exa3.2.2: To calculate the activity of 10g of Th-232 : Page 125 (2011)\n",
"lambda_232 = 1.58e-018; // Decay constant, s^-1\n",
"N = 2.596e+022; // Number of atoms in 10g Th-232\n",
"A = N*lambda_232; // The activity of 10g of Th-232, dps\n",
"printf('\nThe activty of 10g of Th-232 : %5.3e dps', A)\n",
"//   Result\n",
"//   The activty of 10g of Th-232 : 4.102e+004 dps"
   ]
   }
,
{
		   "cell_type": "markdown",
		   "metadata": {},
		   "source": [
			"## Example 3.2_3: Mass_of_radiactive_sample.sci"
		   ]
		  },
  {
"cell_type": "code",
	   "execution_count": null,
	   "metadata": {
	    "collapsed": true
	   },
	   "outputs": [],
"source": [
"// Scilab code Exa3.2.3: Calculation of mass of 1 Ci sample of radioactive sample : Page 125 (2011)\n",
"A = 3.7e+010; // Activity of 1Ci sample, dps\n",
"t = 1608; // Half life of radioactive substance, s\n",
"N = 6.023e+023/214; // Number of atoms in 1g of substance having atomic mass 214\n",
"lambda = 0.6931/t; // Decay constant, s^-1\n",
"m = A/(lambda*N); // The mass of radoiactive substance, g\n",
"printf('\nThe mass of radioactive substance : %4.2e g', m)\n",
"//   Result\n",
"//     The mass of radioactive substance : 3.05e-008 g "
   ]
   }
,
{
		   "cell_type": "markdown",
		   "metadata": {},
		   "source": [
			"## Example 3.2_4: Activity_of_1_kg_of_uranium.sci"
		   ]
		  },
  {
"cell_type": "code",
	   "execution_count": null,
	   "metadata": {
	    "collapsed": true
	   },
	   "outputs": [],
"source": [
"// Scilab code Exa3.2.4: To calculate the activity of 1kg of U-238: Page 125 (2011)\n",
"t =  1.419e+017; // Half life of U-238, s\n",
"N = 6.023e+023/238; // Number of atoms in 1g of U-238\n",
"lambda = 0.6931/t; // Decay constant, s^-1\n",
"A = (lambda*N)*1000/(3.7e+010); // The activity of 1kg of U-238, Ci\n",
"printf('\nThe activity of 1kg of U-238 : %4.2e Ci', A)\n",
"//   Result\n",
"//     The activity of 1kg of U-238 : 3.34e-004 Ci"
   ]
   }
,
{
		   "cell_type": "markdown",
		   "metadata": {},
		   "source": [
			"## Example 3.2_6: Half_life_of_radioactive_material.sci"
		   ]
		  },
  {
"cell_type": "code",
	   "execution_count": null,
	   "metadata": {
	    "collapsed": true
	   },
	   "outputs": [],
"source": [
"// Scilab code Exa3.2.6 Determination of half life of radioactive material Page 127 (2011)\n",
"t =  10; // Total period of radioactive material, days\n",
"lambda = log(6.6667)/10; //Decay constant, day^-1\n",
"t_h = 0.6931/(lambda); // Half life of radioactive substance, days\n",
"printf('\nThe half life of radioactive substance  : %4.2f days', t_h)\n",
"//   Result\n",
"//     The half life of radioactive substance  : 3.65 days\n",
""
   ]
   }
,
{
		   "cell_type": "markdown",
		   "metadata": {},
		   "source": [
			"## Example 3.2_7: Mass_of_Ra_226.sci"
		   ]
		  },
  {
"cell_type": "code",
	   "execution_count": null,
	   "metadata": {
	    "collapsed": true
	   },
	   "outputs": [],
"source": [
"// Scilab code Exa3.2.7 : To calculate the mass of Ra-226 :Page no. 127 (2011)\n",
"t_h  = 1620*31536000; // Half life of Ra-226, S\n",
"D = 0.6931/t_h; // Decay constant, S^-1\n",
"A_Ci = 3.7e+010; // Activity, Ci\n",
"N_Ci = A_Ci/D; // Number of atoms decayed\n",
"m = 0.226; // Mass of 6.023e+023 atoms, kg\n",
"M_Ci = m*N_Ci/6.023e+023; // Mass of 1-Ci sample of Ra-226, kg\n",
"A_rf = 10^6; // Activity, Rf\n",
"N_rf = A_rf/D; // Number of atoms decayed\n",
"M_rf = m*N_rf/6.023e+023; // Mass of 1-Rf sample of Ra-226, kg\n",
"printf('\n Mass of 1-Ci sample of Ra-226   = %5.3e kg and \n Mass of 1-Rf sample of Ra-226  =  %4.2e kg ',M_Ci, M_rf )\n",
"//   Result\n",
"// Mass of 1-Ci sample of Ra-226   = 1.023e-003 kg and \n",
"// Mass of 1-Rf sample of Ra-226  =  2.77e-008 kg\n",
""
   ]
   }
,
{
		   "cell_type": "markdown",
		   "metadata": {},
		   "source": [
			"## Example 3.2_8: Activity_and_weight_of_radiactive_material.sci"
		   ]
		  },
  {
"cell_type": "code",
	   "execution_count": null,
	   "metadata": {
	    "collapsed": true
	   },
	   "outputs": [],
"source": [
"// Scilab code Exa3.2.8 To calculate the activity  and weight of radioactive material : Page 128 (2011)\n",
"N_o = 7.721e+018; // Number of atoms in 3 mg of U-234\n",
"t_h = 2.5e+05; // Half life of U-234, years\n",
"T = 150000; // Total time, years\n",
"lambda = 0.6931/t_h; // Decay constant, year^-1\n",
"N = N_o*(%e^-(lambda*T)); // Number of atoms left after T years\n",
"m = 234000; // Mass of 6.023e+023 atoms of U-234, mg\n",
"M = m*N/(6.023e+023); // Weight of sample left after t years, \n",
"L = 8.8e-014; // Given decay constant, S^-1\n",
"A = N*L*10^6/(3.7e+010); // Activity, micro Ci\n",
"printf('\nThe weight of sample  =  %5.3f mg  \n Activity   =  %5.2f micro Ci ', M, A)\n",
"//   Result\n",
"//     The weight of sample  =  1.979 mg  \n",
"//      Activity   =  12.12 micro Ci \n",
"  \n",
"\n",
" "
   ]
   }
,
{
		   "cell_type": "markdown",
		   "metadata": {},
		   "source": [
			"## Example 3.2_9: Activity_of_K_40.sci"
		   ]
		  },
  {
"cell_type": "code",
	   "execution_count": null,
	   "metadata": {
	    "collapsed": true
	   },
	   "outputs": [],
"source": [
"// Scilab code Exa3.2.9 : To calculate the activity of K-40 : Page no. 129 (2011)\n",
"N = 6.324e+020; // Number of atoms in 4.2e-05 kg of K-40\n",
"t_h = 1.31e+09*31536000; // Half life of K-40, s\n",
"D = 0.693/t_h; // Decay constant, s^-1\n",
"A = N*D/(3.7e+010)*10^6; // Activity of K-40, microCi\n",
"printf('\nThe activity of K-40 : %5.3f micro Ci', A )\n",
"//   Result\n",
"//    The activity of K-40 : 0.287 micro Ci \n",
"\n",
""
   ]
   }
,
{
		   "cell_type": "markdown",
		   "metadata": {},
		   "source": [
			"## Example 3.3_1: Emitted_particles_during_nuclear_disintegration.sci"
		   ]
		  },
  {
"cell_type": "code",
	   "execution_count": null,
	   "metadata": {
	    "collapsed": true
	   },
	   "outputs": [],
"source": [
"// Scilab code Exa 3.3.1 : Finding particles in the  given reactions : page no. 131 (2011)\n",
"// Declare three cells (for three reactions)\n",
"R1 = cell(4,3);\n",
"R2 = cell(4,3);\n",
"R3 = cell(3,3);\n",
"// Enter data for first cell (Reaction)\n",
"R1(1,1).entries = 'Pb';\n",
"R1(1,2).entries = 82;\n",
"R1(1,3).entries = 211;\n",
"R1(2,1).entries = 'Bi';\n",
"R1(2,2).entries = 83;\n",
"R1(2,3).entries = 211;\n",
"R1(3,1).entries = 'Tl';\n",
"R1(3,2).entries = 81;\n",
"R1(3,3).entries = 207;\n",
"R1(4,1).entries = 'Pb';\n",
"R1(4,2).entries = 82;\n",
"R1(4,3).entries = 207;\n",
"// Enter data for second cell (Reaction)\n",
"R2(1,1).entries = 'U';\n",
"R2(1,2).entries = 92;\n",
"R2(1,3).entries = 238;\n",
"R2(2,1).entries = 'Th';\n",
"R2(2,2).entries = 90;\n",
"R2(2,3).entries = 234;\n",
"R2(3,1).entries = 'Pa';\n",
"R2(3,2).entries = 91;\n",
"R2(3,3).entries = 234;\n",
"R2(4,1).entries = 'U';\n",
"R2(4,2).entries = 92;\n",
"R2(4,3).entries = 234;\n",
"// Enter data for third cell (Reaction)\n",
"R3(1,1).entries = 'Bi';\n",
"R3(1,2).entries = 83;\n",
"R3(1,3).entries = 211;\n",
"R3(2,1).entries = 'Pa';\n",
"R3(2,2).entries = 84;\n",
"R3(2,3).entries = 211;\n",
"R3(3,1).entries = 'Pb';\n",
"R3(3,2).entries = 82;\n",
"R3(3,3).entries = 207;\n",
"// Declare a function returning the type of particle emitted\n",
"function particle = identify_particle(d_Z, d_A)\n",
"      if d_Z == 2 & d_A == 4 then \n",
"       particle = 'Alpha';\n",
"   elseif d_Z == -1 & d_A == 0 then\n",
"       particle = 'Beta minus';\n",
"   elseif d_Z == 1 & d_A == 0 then\n",
"       particle = 'Beta plus';\n",
"      end\n",
"endfunction\n",
"// Display emitted particles for first reaction\n",
"printf('\n\n\nReaction-I:');\n",
"for i = 1:1:3\n",
"        dZ = R1(i,2).entries-R1(i+1,2).entries;\n",
"        dA = R1(i,3).entries-R1(i+1,3).entries;\n",
"        p = identify_particle(dZ,dA);\n",
"        printf('\n%s(%d) - (%s) --> %s(%d)', R1(i,1).entries, R1(i,2).entries, p, R1(i+1,1).entries, R1(i+1,2).entries); \n",
"end\n",
"// Display emitted particles for second reaction\n",
"printf('\n\n\nReaction-II:');\n",
"for i = 1:1:3\n",
"        dZ = R2(i,2).entries-R2(i+1,2).entries;\n",
"        dA = R2(i,3).entries-R2(i+1,3).entries;\n",
"        p = identify_particle(dZ,dA);\n",
"        printf('\n%s(%d) - (%s) --> %s(%d)', R2(i,1).entries, R2(i,2).entries, p, R2(i+1,1).entries, R2(i+1,2).entries); \n",
"end\n",
"// Display emitted particles for third reaction\n",
"printf('\n\n\nReaction-III:');\n",
"for i = 1:1:2\n",
"        dZ = R3(i,2).entries-R3(i+1,2).entries;\n",
"        dA = R3(i,3).entries-R3(i+1,3).entries;\n",
"        p = identify_particle(dZ,dA);\n",
"        printf('\n%s(%d) - (%s) --> %s(%d)', R3(i,1).entries, R3(i,2).entries, p, R3(i+1,1).entries, R3(i+1,2).entries); \n",
"end\n",
"// Result\n",
"//\n",
"// Reaction-I:\n",
"// Pb(82) - (Beta minus) --> Bi(83)\n",
"// Bi(83) - (Alpha) --> Tl(81)\n",
"// Tl(81) - (Beta minus) --> Pb(82)\n",
"// Reaction-II:\n",
"// U(92) - (Alpha) --> Th(90)\n",
"// Th(90) - (Beta minus) --> Pa(91)\n",
"// Pa(91) - (Beta minus) --> U(92)\n",
"// Reaction-III:\n",
"// Bi(83) - (Beta minus) --> Pa(84)\n",
"// Pa(84) - (Alpha) --> Pb(82)"
   ]
   }
,
{
		   "cell_type": "markdown",
		   "metadata": {},
		   "source": [
			"## Example 3.3_2: Energy_of_Pb_decay.sci"
		   ]
		  },
  {
"cell_type": "code",
	   "execution_count": null,
	   "metadata": {
	    "collapsed": true
	   },
	   "outputs": [],
"source": [
"// Scilab code Exa 3.3.2 To calculate mass number of Pb isotope and energy emitted : Page no : 132 (2011)\n",
"M_U = 238.050786; // Atomic mass of U-238, amu\n",
"M_Pb = 205.9744550; // Atomic mass of Pb-205, amu\n",
"M_He = 4.002603; // Atomic mass of He-4, amu\n",
"M_e = 5.486e-04; // Atomic mass of electron, amu\n",
"M = M_Pb+(8*M_He)+(6*M_e); // Total mass of products, amu\n",
"D = M_U-M; // Decrease in mass, amu\n",
"E = D*931.47; // Energy evolved, MeV\n",
"printf('\nTotal mass of products  = %1.7f amu \n Decrease in mass   =  %9.7f amu and \n Energy evolved   = %4.1f MeV', M, D,  E)\n",
"// Result\n",
"//     Total mass of products  = 237.9985706 amu \n",
"//  Decrease in mass   =  0.0522154 amu and \n",
"//   Energy evolved   = 48.6 MeV"
   ]
   }
,
{
		   "cell_type": "markdown",
		   "metadata": {},
		   "source": [
			"## Example 3.4_1: Atomic_and_mass_numbers_of_daughter_nuclei.sci"
		   ]
		  },
  {
"cell_type": "code",
	   "execution_count": null,
	   "metadata": {
	    "collapsed": true
	   },
	   "outputs": [],
"source": [
"// Finding atomic No. and mass No. of daughter nuclei in the given reactions : Page No. 133(2011)\n",
"// Declare  cell (for given reaction)\n",
"R1 = cell(5,4);\n",
"// Enter data for cell (Reaction-I)\n",
"R1(1,1).entries = 'A';\n",
"R1(1,2).entries = 90;\n",
"R1(1,3).entries = 238;\n",
"R1(1,4).entries = 'Alpha';\n",
"R1(2,1).entries = 'B';\n",
"R1(2,4).entries = 'Beta minus';\n",
"R1(3,1).entries = 'C';\n",
"R1(3,4).entries = 'Alpha';\n",
"R1(4,1).entries = 'D';\n",
"R1(4,4).entries = 'Beta minus';\n",
"R1(5,1).entries = 'E';  \n",
"// Declare a function returning the type of particle emitted\n",
"function [Z, A] = daughter_nucleus(particle_emitted)\n",
"      if particle_emitted == 'Alpha' then \n",
"          Z = 2, A = 4;\n",
"   elseif particle_emitted == 'Beta minus' then \n",
"          Z = -1, A = 0; \n",
"   elseif particle_emitted == 'Beta plus' then \n",
"          Z = 1, A = 0;\n",
"      end\n",
"endfunction\n",
"// Display emitted particles for first reaction\n",
"printf('\n\n\nReaction-I:');\n",
"for i = 1:1:4\n",
"        [Z, A] = daughter_nucleus(R1(i,4).entries);\n",
"        R1(i+1,2).entries = R1(i,2).entries-Z;\n",
"        R1(i+1,3).entries = R1(i,3).entries-A; \n",
"        printf('\n%s(%d,%d) - (%s) --> %s(%d,%d)', R1(i,1).entries, R1(i,2).entries, R1(i,3).entries, R1(i,4).entries, R1(i+1,1).entries, R1(i+1,2).entries, R1(i+1,3).entries)\n",
"        ; \n",
"end\n",
"// Result \n",
"// \n",
"// Reaction-I:\n",
"// A(90,238) - (Alpha) --> B(88,234)\n",
"// B(88,234) - (Beta minus) --> C(89,234)\n",
"// (89,234) - (Alpha) --> D(87,230)\n",
"// D(87,230) - (Beta minus) --> E(88,230) "
   ]
   }
,
{
		   "cell_type": "markdown",
		   "metadata": {},
		   "source": [
			"## Example 3.4_2: Number_of_half_lives_of_Rn_222.sci"
		   ]
		  },
  {
"cell_type": "code",
	   "execution_count": null,
	   "metadata": {
	    "collapsed": true
	   },
	   "outputs": [],
"source": [
"// Scilab code Exa 3.4.2 : To determine the number of Rn-222 half lives elapsed when it reaches 99% of its equilibrium concentration : Page no. 133 : (2011)\n",
" D = log(2); // Decay constant, s^-1\n",
" t = log(100); // Half life, s\n",
" n = t/D; // Number of half-lives \n",
"printf('\n Number of half-lives : %4.2f ', n)\n",
"// Result\n",
"//       Number of half-lives : 6.64"
   ]
   }
,
{
		   "cell_type": "markdown",
		   "metadata": {},
		   "source": [
			"## Example 3.4_3: Decay_constant_for_alpha_and_beta_decays.sci"
		   ]
		  },
  {
"cell_type": "code",
	   "execution_count": null,
	   "metadata": {
	    "collapsed": true
	   },
	   "outputs": [],
"source": [
"// Scilab code Exa 3.4.3 : To calculate the  decay constant for alpha and beta decays : Page no. 133 : (2011)\n",
" H_t = 60.5*60; // Total half life period, s\n",
" T_d = 0.693/H_t; // Total decay constant, s^-1\n",
" A_d = 34/100*T_d; // Decay constant for alpha decays, s^-1\n",
" B_d = 66/100*T_d; // Decay constant for beta decay, s^-1\n",
"printf('\n Alpha decay   =  %4.2e s^-1    \n Beta decay    = %4.2e s^-1', A_d, B_d)\n",
"// Result\n",
"//       Alpha decay   =  6.49e-005 s^-1    \n",
"//       Beta decay    = 1.26e-004 s^-1 "
   ]
   }
,
{
		   "cell_type": "markdown",
		   "metadata": {},
		   "source": [
			"## Example 3.4_4: Half_life_of_uranium_234.sci"
		   ]
		  },
  {
"cell_type": "code",
	   "execution_count": null,
	   "metadata": {
	    "collapsed": true
	   },
	   "outputs": [],
"source": [
"// Scilab code Exa 3.4.4 : To calculate the half life of U(92,234): Page no. 134 : (2011)\n",
"A_r = 1.8e+04; // Atomic ratio of U(92,238) and U(92,234)\n",
"T_238  = 2.5e+05; // Half life of U(92,238), years\n",
"T_234 = A_r*T_238; // Half life of U(92,234), years\n",
"printf('\n Half life of U(92,234): %3.1e years', T_234)\n",
"// Result\n",
"//        Half life of U(92,234): 4.5e+009 years"
   ]
   }
,
{
		   "cell_type": "markdown",
		   "metadata": {},
		   "source": [
			"## Example 3.4_5: Decayed_amount_of_radioactive_matter.sci"
		   ]
		  },
  {
"cell_type": "code",
	   "execution_count": null,
	   "metadata": {
	    "collapsed": true
	   },
	   "outputs": [],
"source": [
"// Scilab code Exa3.2.5 To calculate the mass of decayed radioactive material: Page 126 (2011)\n",
"t_h =  1600; // Half life of radioactive material, years\n",
"t = 2000; // Totaltime, years\n",
"lambda = 0.6931/t_h; // Decay constant, years^-1\n",
"m0 = 1; // The mass of radioactive substance at t0, mg\n",
"m = m0* %e^(-(lambda*t)); // Ratio of total number of atoms and number of atoms disintegrat, mg\n",
"A = 1-m; // The amount of radioactive substance decayed, mg\n",
"printf('\nThe amount of radioactive substance decayed : %6.4f mg',A)\n",
"//   Result\n",
"//     The amount of radioactive substance decayed : 0.5795 mg"
   ]
   }
,
{
		   "cell_type": "markdown",
		   "metadata": {},
		   "source": [
			"## Example 3.5_2: Kinetic_energy_of_alpha_particle.sci"
		   ]
		  },
  {
"cell_type": "code",
	   "execution_count": null,
	   "metadata": {
	    "collapsed": true
	   },
	   "outputs": [],
"source": [
"// Scilab code Exa 3.5.2 : To calculate the K.E. of alpha particle in following decay   Pu-239 to U-235+He-4\n",
"M_239 = 239.052158; // Atomic mass of Pu-239, amu\n",
"M_235 = 235.043925; // Atomic mass of U-235, amu\n",
"M_4 = 4.002603; // Atomic mass of He-4, amu\n",
"Q = (M_239-M_235-M_4)*931.47; // Difference in masses, MeV\n",
"A = 241; // Mass number \n",
"K_alpha = Q*(A-4)/A; // Kinetic energy of alpha particle, MeV\n",
"printf('\nKinetic energy of alpha particle %5.2f MeV', K_alpha)\n",
"// Result\n",
"//        Kinetic energy of alpha particle  5.16 MeV "
   ]
   }
,
{
		   "cell_type": "markdown",
		   "metadata": {},
		   "source": [
			"## Example 3.5_3: Height_of_barrier_faced_by_alpha_particle.sci"
		   ]
		  },
  {
"cell_type": "code",
	   "execution_count": null,
	   "metadata": {
	    "collapsed": true
	   },
	   "outputs": [],
"source": [
"// Scilab code Exa 3.5.3 : To calculate the height of barrier faced by alpha particle of Ra-226 : Page no. : 136 (2011)\n",
"Z = 88; // Atomic number of Ra-226 nucleus, \n",
"A = 226; // Atomic mass of Ra-226 nucleus\n",
"R_0 = 1.3e-015; // Distance of closest approach, m\n",
"E_0 = 8.854e-012; // Permittivity of free space, C^2/Nm^2\n",
"e = 1.6e-019; // Charge of an electron, C\n",
"B = 2/(1.6e-013)*(Z-2)*e^2/(4*%pi*E_0*R_0*A^(1/3)); // The barrier height faced by alpha particle, MeV\n",
"printf('\nThe barrier height faced by alpha particle : %4.1f MeV', B)\n",
"// Result\n",
"//         The barrier height faced by alpha particle : 31.2 MeV"
   ]
   }
,
{
		   "cell_type": "markdown",
		   "metadata": {},
		   "source": [
			"## Example 3.5_4: Height_of_coulomb_barrier.sci"
		   ]
		  },
  {
"cell_type": "code",
	   "execution_count": null,
	   "metadata": {
	    "collapsed": true
	   },
	   "outputs": [],
"source": [
"// Scilab code Exa 3.5.4 : To calculate the height of coulomb barrier faced by alpha particle  : Page no. : 136 (2011)\n",
"Z_1 = 2; //Atomic number of He-4,  \n",
"Z_2 = 7; // Atomic number of N-14,\n",
"A_1 = 4; // Atomis mass of He-4 nucleus \n",
"A_2 = 14; // Atomic mass of N-14 nucleus\n",
"R_0 = 1.5e-015; // Distance of closest approach, m\n",
"E_0 = 8.854e-012; // Permittivity of free space, C^2/Nm^2\n",
"e = 1.6e-019; // Charge of an electron, C\n",
"B = Z_1/(1.6e-013)*Z_2*e^2/(4*%pi*E_0*R_0*(A_1^(1/3)+A_2^(1/3))); // The coulomb barrier  faced by alpha particle, MeV\n",
"printf('\nThe coulomb barrier  faced by alpha particle : %4.2f MeV', B)\n",
"// Result\n",
"//    The coulomb barrier  faced by alpha particle : 3.36 MeV "
   ]
   }
,
{
		   "cell_type": "markdown",
		   "metadata": {},
		   "source": [
			"## Example 3.5_5: KE_of_a_proton_to_penetrate_the_barrier.sci"
		   ]
		  },
  {
"cell_type": "code",
	   "execution_count": null,
	   "metadata": {
	    "collapsed": true
	   },
	   "outputs": [],
"source": [
"// Scilab code Exa 3.5.5 : To calculate the K.E. of a proton to penetrate the barrier of H nucleus  : Page no. : 137 (2011)\n",
"R_0 = 1.2; // Distance of closest approach, m\n",
"E_b = 197/(R_0*137); // The K.E. of proton to penetrate the berrier of H nucleus, Mev\n",
"printf('\nThe K.E. of proton to penetrate the berrier of H nucleus : %3.1f MeV', E_b)\n",
"// Result\n",
"//         The K.E. of proton to penetrate the berrier of H nucleus : 1.2 MeV"
   ]
   }
,
{
		   "cell_type": "markdown",
		   "metadata": {},
		   "source": [
			"## Example 3.6_1: Mass_of_daughter_nucleus.sci"
		   ]
		  },
  {
"cell_type": "code",
	   "execution_count": null,
	   "metadata": {
	    "collapsed": true
	   },
	   "outputs": [],
"source": [
"// Scilab code Exa 3.6.1 : To determine the mass of daughter nucleus for given reaction : Page no. 138 : (2011)\n",
" M_C = 14.007685; // Mass of C-14 nucleus, amu\n",
" E_e = 0.156/931.47; // Kinetic energy of emitted electron, amu\n",
" M_N = M_C-E_e; // Mass of N-14 nucleus, amu\n",
"printf('\n Mass of N-14 nucleus : %9.6f amu', M_N)\n",
"// Result\n",
"//      Mass of N-14 nucleus : 14.007518 amu"
   ]
   }
,
{
		   "cell_type": "markdown",
		   "metadata": {},
		   "source": [
			"## Example 3.6_3: Number_of_proton_decayed_per_year_from_water.sci"
		   ]
		  },
  {
"cell_type": "code",
	   "execution_count": null,
	   "metadata": {
	    "collapsed": true
	   },
	   "outputs": [],
"source": [
"// Scilab code Exa. 3.6.3 : To determine the number of proton decayed  per year from H2O in a reservior : Page no. 139 : (2011)\n",
"N_p = 6.70e+033;// Number of protons \n",
"T_p = 10^32; // Mean life of proton, years\n",
"D_p = N_p/T_p*0.5; // Number of proton decays per year, decays/year  \n",
"printf('\n Number of proton decays per year,: %4.1f decays/year', D_p)\n",
"// Result\n",
"//      Number of proton decayed per year: 33.5 decays/year"
   ]
   }
,
{
		   "cell_type": "markdown",
		   "metadata": {},
		   "source": [
			"## Example 3.7_1: Energy_of_gamma_photons_from_excited_Ni_60.sci"
		   ]
		  },
  {
"cell_type": "code",
	   "execution_count": null,
	   "metadata": {
	    "collapsed": true
	   },
	   "outputs": [],
"source": [
"// Scilab code Exa. 3.7.1 : To determine the energies of two gamma rays emitted  during de-excitation of Ni-60: Page no. 141 : (2011)\n",
"E_2 = 2505; // Second excited state of Ni-60, KeV\n",
"E_1 = 1332; // First excited state of Ni-60, KeV\n",
"E_0 = 0; // Ground state of Ni-60 , KeV\n",
"E_G_2 = E_2-E_1; // Energy of gamma rays emitted when transition from 2 to 1, KeV\n",
"E_G_1 = E_1-E_0; // Energy of gamma rays emitted when transition from 1 to 0, KeV\n",
"printf('\n Energies of two gamma rays emitted : %d KeV and %d KeV', E_G_2, E_G_1)\n",
"// Result\n",
"//     Energy of two gamma rays emitted : 1173 KeV and 1332 KeV "
   ]
   }
,
{
		   "cell_type": "markdown",
		   "metadata": {},
		   "source": [
			"## Example 3.7_2: Conversion_energies_for_K_and_L_shell_electrons.sci"
		   ]
		  },
  {
"cell_type": "code",
	   "execution_count": null,
	   "metadata": {
	    "collapsed": true
	   },
	   "outputs": [],
"source": [
"// Scilab code Exa. 3.7.2 : To determine the energies conversion for K and L-shell electrons  for reaction Cs(55,137) = Ba(56,137)+e(-1,0): Page no. 141 : (2011)\n",
"E = 662; // Energy available with the nucleus, KeV\n",
"I_b_K = 37.4; // Binding energy for K-shell, KeV\n",
"I_b_L = 6.0; // Binding energy for L-shell, KeV\n",
"E_c_K = E-I_b_K; // Energy conversion for K-shell, KeV\n",
"E_c_L = E-I_b_L; // Energy conversion for L-shell, KeV\n",
"printf('\n Energies conversion for K and L-shell electrons : %5.1f KeV and %d KeV', E_c_K, E_c_L)\n",
"// Result\n",
"//      Energies conversion for K and L-shell electrons : 624.6 KeV and 656 KeV"
   ]
   }
,
{
		   "cell_type": "markdown",
		   "metadata": {},
		   "source": [
			"## Example 3.9_1: Age_of_uranium_mineral.sci"
		   ]
		  },
  {
"cell_type": "code",
	   "execution_count": null,
	   "metadata": {
	    "collapsed": true
	   },
	   "outputs": [],
"source": [
"// Scilab code Exa. 3.9.1 : To calculate the age of uranium mineral: Page no. 143 : (2011)\n",
"t_h = 4.5e+09; // Half life of mineral, years\n",
"D_c = 0.6931/t_h; // Decay constant of minerals, years^-1\n",
"N_1 = 6.023e+023/238; // Number of nuclei in 1g of Uranium\n",
"N = 6.023e+023*0.093/206; // Number of nuclei in 0.093g of lead\n",
"t = log(1+N/N_1)/D_c; // Age of the mineral, years\n",
"printf('\n Age of the mineral : %6.4e years ', t)\n",
"// Result\n",
"//         Age of the mineral : 6.6261e+008 years"
   ]
   }
,
{
		   "cell_type": "markdown",
		   "metadata": {},
		   "source": [
			"## Example 3.9_2: Age_of_boat_from_its_half_life.sci"
		   ]
		  },
  {
"cell_type": "code",
	   "execution_count": null,
	   "metadata": {
	    "collapsed": true
	   },
	   "outputs": [],
"source": [
"// Scilab code Exa. 3.9.2 : To determine the age of boat whose half life is given : Page no. 145 : (2011)\n",
"t_h = 5760; // Half life of boat, years\n",
"D_c = 0.6931/t_h; // Decay constant of boat, years^-1\n",
"N_1 = 16; // Number of atoms decay per min. per gram initially \n",
"N = 5; // Number of atoms decay per min per gram presently\n",
"t = log(N_1/N)*1/D_c; // Age of the boat, years\n",
"printf('\n Age of the boat : %d years ', t)\n",
"// Result\n",
"//         Age of the boat : 9666 years "
   ]
   }
,
{
		   "cell_type": "markdown",
		   "metadata": {},
		   "source": [
			"## Example 3.9_4: radioactive_disintegration_of_Pu_239.sci"
		   ]
		  },
  {
"cell_type": "code",
	   "execution_count": null,
	   "metadata": {
	    "collapsed": true
	   },
	   "outputs": [],
"source": [
"// Scilab code Exa. 3.9.4 : To calculate the number of nuclei at t = 0, initial activity and age of Pu-239 which emit alpha particle : Page no. 145 : (2011)\n",
"t_h = 24000*365*24*3600; // Half life of Pu-239, s\n",
"D_c = 0.6931/t_h; // Decay constant of Pu-239, s^-1\n",
"N = 6.023e+023*10/239; // Number of nuclei at t = 0, nuclei \n",
"A_0 = D_c*N; // Initial activity, disintegrations/sec\n",
"A = 0.1; // Activity after time t, disintegrations/sec\n",
"t = log(A_0/A)*1/D_c; // Age of the Pu-239, years\n",
"printf('\nThe number of nuclei at t = 0,  = %4.2e nuclei \nInitial activity  = %4.2e disintegrations/s and \nAge  of Pu-239  = %4.2e years ', N, A_0, t)\n",
"// Result\n",
"//   The number of nuclei at t = 0,  = 2.52e+022 nuclei \n",
"// Initial activity  = 2.31e+010 disintegrations/s and \n",
"//  Age of Pu-239  = 2.86e+013 years"
   ]
   }
],
"metadata": {
		  "kernelspec": {
		   "display_name": "Scilab",
		   "language": "scilab",
		   "name": "scilab"
		  },
		  "language_info": {
		   "file_extension": ".sce",
		   "help_links": [
			{
			 "text": "MetaKernel Magics",
			 "url": "https://github.com/calysto/metakernel/blob/master/metakernel/magics/README.md"
			}
		   ],
		   "mimetype": "text/x-octave",
		   "name": "scilab",
		   "version": "0.7.1"
		  }
		 },
		 "nbformat": 4,
		 "nbformat_minor": 0
}
