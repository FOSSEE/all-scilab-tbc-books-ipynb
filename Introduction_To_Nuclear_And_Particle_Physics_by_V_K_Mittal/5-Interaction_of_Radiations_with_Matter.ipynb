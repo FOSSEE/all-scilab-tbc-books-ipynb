{
"cells": [
 {
		   "cell_type": "markdown",
	   "metadata": {},
	   "source": [
       "# Chapter 5: Interaction of Radiations with Matter"
	   ]
	},
{
		   "cell_type": "markdown",
		   "metadata": {},
		   "source": [
			"## Example 5.2_1: Energy_lost_during_collision.sci"
		   ]
		  },
  {
"cell_type": "code",
	   "execution_count": null,
	   "metadata": {
	    "collapsed": true
	   },
	   "outputs": [],
"source": [
"// Scilab code Exa5.2.1: To calculate the energy and no. of collision required to stop collision : P.no. 223 (2011)\n",
"m = 511; // Mass of electron, KeV\n",
"M = 938*10^3; // Mass of incident charged particle, KeV\n",
"E = 10*10^3; // Energy of proton, KeV\n",
"E_l = 4*m*E/M; // Energy lost during collison, KeV\n",
"n = E/E_l; // Number of collisions, \n",
"N = round(n)\n",
"printf('\n The energy lost during collision  = %5.2f KeV \n Number of collision required   = %d collisions',E_l, N )\n",
"// Result\n",
"//     The energy lost during collision  = 21.79 KeV \n",
"//  Number of collision required   = 459 collisions  "
   ]
   }
,
{
		   "cell_type": "markdown",
		   "metadata": {},
		   "source": [
			"## Example 5.5_1: Half_value_thickness_of_aluminium.sci"
		   ]
		  },
  {
"cell_type": "code",
	   "execution_count": null,
	   "metadata": {
	    "collapsed": true
	   },
	   "outputs": [],
"source": [
"// Scilab code Exa5.5.1: To calculate the half value  thickness of Al for given radiation : P.no. 225 (2011)\n",
"x = 0.2; // Thickness of Al material , m\n",
"I_r = 3/100; // Intensity ratios, \n",
"x_h = log(2)*x/log(1/I_r); // Half value thickness of Al, m\n",
"printf('\n  Half value thickness of Al : %6.4f m',x_h )\n",
"// Result\n",
"//      Half value thickness of Al : 0.0395 m "
   ]
   }
,
{
		   "cell_type": "markdown",
		   "metadata": {},
		   "source": [
			"## Example 5.5_2: Thickness_of_lead.sci"
		   ]
		  },
  {
"cell_type": "code",
	   "execution_count": null,
	   "metadata": {
	    "collapsed": true
	   },
	   "outputs": [],
"source": [
"// Scilab code Exa5.5.2: To calculate the thickness of Pb: P.no. 226 (2011)\n",
"u = 0.75; // Absorption coefficient , cm^-1\n",
"I_r = 1/100; // Intensity ratios, \n",
"x = log(1/I_r)*u; // Thckness of Pb, cm\n",
"printf('\n Thickness of Pb : %5.3f cm',x )\n",
"// Result\n",
"//      Thickness of Pb : 6.140 m "
   ]
   }
,
{
		   "cell_type": "markdown",
		   "metadata": {},
		   "source": [
			"## Example 5.5_3: Percentage_loss_of_intensity_of_gamma_rays.sci"
		   ]
		  },
  {
"cell_type": "code",
	   "execution_count": null,
	   "metadata": {
	    "collapsed": true
	   },
	   "outputs": [],
"source": [
"// Scilab code Exa5.5.3: To calculate the percentage loss of intensity of gamma rays  : P.no. 226 (2011)\n",
"x_h = 5; // Half thickness of an absorber, mm\n",
"u = log(2)/x_h; // Absorption coefficient, mm^-1\n",
"x = 20; // Thickness of an absorber, mm\n",
"I_r = %e^(-u*x); // Intensity ratios, \n",
"P_loss = I_r*100; // Percentage loss in intensity, percent\n",
"printf('\n Percentage loss in intensity : %4.2f percent',P_loss )\n",
"// Result\n",
"//        Percentage loss in intensity : 6.25 percent "
   ]
   }
,
{
		   "cell_type": "markdown",
		   "metadata": {},
		   "source": [
			"## Example 5.6_1: Velocity_of_ejected_photoelectro.sci"
		   ]
		  },
  {
"cell_type": "code",
	   "execution_count": null,
	   "metadata": {
	    "collapsed": true
	   },
	   "outputs": [],
"source": [
"// Scilab code Exa5.6.1: To calculate the velocity of ejected photoelectron : P.no. 230 (2011)\n",
" C = 3e+08; // Speed of light, m/s\n",
" h = 6.626e-034; // Planck's constant, Js\n",
" lambda = 2500e-010; //   wavelength of light, m\n",
"e = 1.602e-019; // Charge of electron, C\n",
" w = 1.9; // Work function, J\n",
"m = 9.1e-031; // Mass of the electron, kg \n",
"E_c = h*C/(lambda*e); // Calculated energy, J\n",
"E_e = E_c-w; // Energy of photoelectron, J\n",
"v = sqrt((2*E_e*e)/m); // Velocity of photoelectron, m/s\n",
"printf('\nThe velocity of photoelectron : %4.2e m/s ', v )\n",
"// Result\n",
"//      The velocity of photoelectron : 1.04e+006 m/s  \n",
"\n",
"\n",
"\n",
"\n",
"\n",
"\n",
"\n",
"\n",
"\n",
"\n",
"\n",
"\n",
"\n",
"\n",
"\n",
"\n",
"\n",
"\n",
"\n",
"\n",
"\n",
"\n",
"\n",
"\n",
"\n",
"\n",
"\n",
"\n",
"\n",
"\n",
"\n",
"\n",
"\n",
"\n",
"\n",
"\n",
"\n",
"\n",
"\n",
"\n",
"\n",
"\n",
"\n",
"\n",
"\n",
"\n",
"\n",
"\n",
"\n",
"\n",
"\n",
"\n",
"\n",
"\n",
"\n",
"\n",
"\n",
"\n",
"\n",
"\n",
"\n",
"\n",
"\n",
"\n",
"\n",
"\n",
"\n",
"\n",
"\n",
"\n",
"\n",
"\n",
"\n",
"\n",
"\n",
""
   ]
   }
,
{
		   "cell_type": "markdown",
		   "metadata": {},
		   "source": [
			"## Example 5.6_2: Rate_of_photoelectron_emission.sci"
		   ]
		  },
  {
"cell_type": "code",
	   "execution_count": null,
	   "metadata": {
	    "collapsed": true
	   },
	   "outputs": [],
"source": [
"// Scilab code Exa5.6.2: To calculate the kinetic energy of photoelectron and rate at which photoelectron emitted : P.no. 231 (2011)\n",
" C = 3e+08; // Speed of light, m/s\n",
" h = 6.626e-034; // Planck's constant, Js\n",
" lambda = 250e-09; // Wavelength of light, m\n",
" w = 2.30; // Work function, eV\n",
"A = 2e-04; // Area of the surface, m^2 \n",
"I = 2; // Intensity of light, W/m^2\n",
"e = 1.6e-019; // Charge of the electron, C\n",
"E_p = h*C/(lambda*e); // Energy of photoelectron, eV\n",
"E_max = E_p-w; // Maximum kinetic energy of photoelectron, eV\n",
"n_p = I*A/(E_p*e); // Number of photons reaching the surface per second, photons/s\n",
"R_p = 0.2/100*n_p; // Rate at which photoelectrons are emitted, photoelectrons/s\n",
"printf('\n The maximum kinetic energy   = %4.2f eV  \n The rate at which photoelectrons are emitted    =  %4.2e photoelectrons/s ', E_max, R_p)\n",
"// Result\n",
"//        The maximum kinetic energy   = 2.67 eV  \n",
" // The rate at which photoelectrons are emitted    =  1.01e+012 photoelectrons/s\n",
"\n",
"\n",
"\n",
"\n",
"\n",
"\n",
"\n",
"\n",
"\n",
"\n",
"\n",
"\n",
"\n",
"\n",
"\n",
"\n",
"\n",
"\n",
"\n",
"\n",
"\n",
"\n",
"\n",
"\n",
"\n",
"\n",
"\n",
"\n",
"\n",
"\n",
"\n",
"\n",
"\n",
"\n",
"\n",
"\n",
"\n",
"\n",
"\n",
"\n",
"\n",
"\n",
"\n",
"\n",
"\n",
"\n",
"\n",
"\n",
"\n",
"\n",
"\n",
"\n",
"\n",
"\n",
"\n",
"\n",
"\n",
"\n",
"\n",
"\n",
"\n",
"\n",
"\n",
"\n",
"\n",
"\n",
"\n",
"\n",
"\n",
"\n",
"\n",
"\n",
"\n",
"\n",
"\n",
""
   ]
   }
,
{
		   "cell_type": "markdown",
		   "metadata": {},
		   "source": [
			"## Example 5.6_3: Kinetic_energy_of_photoelectron.sci"
		   ]
		  },
  {
"cell_type": "code",
	   "execution_count": null,
	   "metadata": {
	    "collapsed": true
	   },
	   "outputs": [],
"source": [
"// Scilab code Exa5.6.3: To calculate the wavelength of light whose kinetic energy is given : P. No. 232 (2011)\n",
" C = 3e+08; // Speed of light, m/s\n",
" h = 6.626e-034; // Planck's constant, Js\n",
" T_lambda = 190e-09; // Threhold wavelength of light, m\n",
"e = 1.6e-019; // Charge of the electron, C\n",
"E_max = 1.1; // Maximum kinetic energy of photoelectron, eV\n",
"w = h*C/(T_lambda*e); // Work function, eV \n",
"E_t = E_max+w; // threshold energy, eV\n",
"lambda = h*C/(E_t*e); // Wavelength of light used, m\n",
"printf('\nThe wavelength of light used  : %5.3e m', lambda)\n",
"// Result\n",
"//     The wavelength of light used  : 1.626e-007 m\n",
"\n",
"\n",
"\n",
"\n",
"\n",
"\n",
"\n",
"\n",
"\n",
"\n",
"\n",
"\n",
"\n",
"\n",
"\n",
"\n",
"\n",
"\n",
"\n",
"\n",
"\n",
"\n",
"\n",
"\n",
"\n",
"\n",
"\n",
"\n",
"\n",
"\n",
"\n",
"\n",
"\n",
"\n",
"\n",
"\n",
"\n",
"\n",
"\n",
"\n",
"\n",
"\n",
"\n",
"\n",
"\n",
"\n",
"\n",
"\n",
"\n",
"\n",
"\n",
"\n",
"\n",
"\n",
"\n",
"\n",
"\n",
"\n",
"\n",
"\n",
"\n",
"\n",
"\n",
"\n",
"\n",
"\n",
"\n",
"\n",
"\n",
"\n",
"\n",
"\n",
"\n",
""
   ]
   }
,
{
		   "cell_type": "markdown",
		   "metadata": {},
		   "source": [
			"## Example 5.7_1: Compton_shift.sci"
		   ]
		  },
  {
"cell_type": "code",
	   "execution_count": null,
	   "metadata": {
	    "collapsed": true
	   },
	   "outputs": [],
"source": [
"// Scilab code Exa5.7.1: To calculate the Compton shift : P.no. 233 (2011)\n",
"h = 6.62e-034; // Value of Planck's constant, J\n",
"m_e = 9.11e-031; // Mass of the electron,Kg\n",
"c = 3e+08; // Velocity of light, m/s\n",
"A = 65; // Angle between scattered radiation and incident radiation, degree\n",
"C_s =  h/(m_e*c)*(1-cosd(A)); // Compton shift, m\n",
"printf('\nCompton shift  : %4.2e m',C_s )\n",
"// Result\n",
"//      Compton shift  : 1.40e-012 m"
   ]
   }
,
{
		   "cell_type": "markdown",
		   "metadata": {},
		   "source": [
			"## Example 5.7_2: Wavelength_of_the_scattered_gamma_rays.sci"
		   ]
		  },
  {
"cell_type": "code",
	   "execution_count": null,
	   "metadata": {
	    "collapsed": true
	   },
	   "outputs": [],
"source": [
"// Scilab code Exa5.7.2: To calculate the  wavelength of the scattered gamma rays: P.no. 233 (2011)\n",
"h = 6.626e-034; // Value of Planck's constant, J\n",
"m_e = 9.11e-031; // Mass of the electron,Kg\n",
"c = 3e-04; // Velocity of light, m/s\n",
"A = 135; // Angle between scattered radiation and incident radiation, degree\n",
"W_i = 1.87; // Wavelength of incident radiation, pm\n",
"W_s = W_i + [h*(1-cosd(A))]/(m_e*c); // Wavelength of scattered radiation, pm\n",
"printf('\nWavelength of scattered radiation   : %4.2f pm',W_s )\n",
"// Result\n",
"//       Wavelength of scattered radiation   : 6.01 pm "
   ]
   }
,
{
		   "cell_type": "markdown",
		   "metadata": {},
		   "source": [
			"## Example 5.7_3: Wavelength_of_the_incident_beam_of_X_rays.sci"
		   ]
		  },
  {
"cell_type": "code",
	   "execution_count": null,
	   "metadata": {
	    "collapsed": true
	   },
	   "outputs": [],
"source": [
"// Scilab code Exa5.7.3: To calculate the  wavelength of the incident beam of X-rays : P.no. 234 (2011)\n",
"h = 6.626e-034; // Value of Planck's constant, J\n",
"m_e = 9.11e-031; // Mass of the electron,Kg\n",
"c = 3e-04; // Velocity of light, pm/s\n",
"A = 90; // Angle between scattered radiation and incident radiation, degree\n",
"W_s = 3.8; // Wavelength of scattered radiation, pm\n",
"W_i = [W_s - h/(m_e*c)*(1-cosd(A))]; // Wavelength of incident beam of Xrays, pm\n",
"printf('\nWavelength of incident beam of X-rays : %4.2f pm', W_i )\n",
"// Result\n",
"//       Wavelength of incident beam of X-rays : 1.38 pm "
   ]
   }
,
{
		   "cell_type": "markdown",
		   "metadata": {},
		   "source": [
			"## Example 5.7_4: Frequency_of_the_scattered_photon.sci"
		   ]
		  },
  {
"cell_type": "code",
	   "execution_count": null,
	   "metadata": {
	    "collapsed": true
	   },
	   "outputs": [],
"source": [
"// Scilab code Exa 5.7.4 : To calculate the  frequency of the scattered photon  Page.no. 234 (2011)\n",
"h = 6.626e-034; // Value of Planck's constant, J\n",
"m_e = 9.11e-031; // Mass of the electron,Kg\n",
"c = 3e+08; // Velocity of light, pm/s\n",
"A = 60; // Angle between scattered radiation and incident radiation, degree\n",
"v_0 = 3.2e+019; // Frequency of the incident photon, Hz\n",
"V = 1/v_0 + h/(m_e*c^2)*(1-cosd(A)); \n",
"v =(1/V); // Frequency of the scattered photon, Hz\n",
"printf('\n Frequency of the scattered photon: %4.2e Hz', v )\n",
"// Result\n",
"//       Frequency of the scattered photon: 2.83e+019 Hz"
   ]
   }
,
{
		   "cell_type": "markdown",
		   "metadata": {},
		   "source": [
			"## Example 5.7_5: Energy_of_scattered_photon_and_recoil_electron.sci"
		   ]
		  },
  {
"cell_type": "code",
	   "execution_count": null,
	   "metadata": {
	    "collapsed": true
	   },
	   "outputs": [],
"source": [
"// Scilab code Exa 5.7.5 : To calculate the  energy of the scattered photon and the energy of recoil electron : P.no. 235 (2011)\n",
"h = 6.626e-034; // Value of Planck's constant, J\n",
"m_e = 9.11e-031; // Mass of the electron,Kg\n",
"c = 3e+08; // Velocity of light, pm/s\n",
"A = 180; // Angle between scattered radiation and incident radiation, degree\n",
"E_i = 1836; // Energy of the incident electron, KeV\n",
"E = 1/E_i + 1/511*(1-cosd(A)); \n",
"E_s = round(1/E); // Energy of the sscattered photon, KeV\n",
"E_r = E_i-E_s; // Energy of the recoil electron, KeV\n",
"printf('\n Energy of the scattered photon    = %d KeV  \n Energy of the recoil electron    = %d KeV ', E_s, E_r )\n",
"// Result\n",
"//        Energy of the scattered photon    = 224 KeV  \n",
" //       Energy of the recoil electron    = 1612 KeV "
   ]
   }
,
{
		   "cell_type": "markdown",
		   "metadata": {},
		   "source": [
			"## Example 5.7_6: Scattering_angle_of_X_rays.sci"
		   ]
		  },
  {
"cell_type": "code",
	   "execution_count": null,
	   "metadata": {
	    "collapsed": true
	   },
	   "outputs": [],
"source": [
"// Scilab code Exa 5.7.6 : To calculate the scattering angle of X-rays  Page.no. 235 (2011)\n",
"E_s = 180; // Energy of the scattered X-rays, KeV\n",
"E_i = 200; // Energy of the incident X-rays, KeV\n",
"a = acosd(1-[{1/E_s-1/E_i}*511]); // \n",
"A = round(a); // Scattering angle of X-rays, degree\n",
"printf('\n Scattering angle of X-rays: %d degree', A )\n",
"// Result\n",
"//         Scattering angle of X-rays: 44 degree "
   ]
   }
,
{
		   "cell_type": "markdown",
		   "metadata": {},
		   "source": [
			"## Example 5.8_1: Kinetic_energy_of_electron_and_positron.sci"
		   ]
		  },
  {
"cell_type": "code",
	   "execution_count": null,
	   "metadata": {
	    "collapsed": true
	   },
	   "outputs": [],
"source": [
"// Scilab code Exa5.8.1: To calculate the kinetic energy of electron and positron :P.no. 236 (2011)\n",
" M_e = 0.511; // Rest mass of electron, MeV\n",
" M_p = 0.511; // Rest mass of positron, MeV\n",
" E_c = M_e+M_p; // Energy consumed, Mev\n",
" E_g = 5.0; // Given energy, MeV\n",
" E_l = E_g-E_c; // Energy left, Mev\n",
" E_k = E_l/2; // Kinetic energy of electron and positron, MeV\n",
" printf('\n The kinetic energy of electron and positron  : %5.3f Mev', E_k)\n",
"// Result\n",
"//         The kinetic energy of electron and positron  : 1.989 Mev\n",
" \n",
"\n",
"\n",
"\n",
"\n",
"\n",
"\n",
"\n",
"\n",
"\n",
"\n",
"\n",
"\n",
"\n",
"\n",
"\n",
"\n",
"\n",
"\n",
"\n",
"\n",
"\n",
"\n",
"\n",
"\n",
"\n",
"\n",
"\n",
"\n",
"\n",
"\n",
"\n",
"\n",
"\n",
"\n",
"\n",
"\n",
"\n",
"\n",
"\n",
"\n",
"\n",
"\n",
"\n",
"\n",
"\n",
"\n",
"\n",
"\n",
"\n",
"\n",
"\n",
"\n",
"\n",
"\n",
"\n",
"\n",
"\n",
"\n",
"\n",
"\n",
"\n",
"\n",
"\n",
"\n",
"\n",
"\n",
"\n",
"\n",
"\n",
"\n",
"\n",
"\n",
""
   ]
   }
],
"metadata": {
		  "kernelspec": {
		   "display_name": "Scilab",
		   "language": "scilab",
		   "name": "scilab"
		  },
		  "language_info": {
		   "file_extension": ".sce",
		   "help_links": [
			{
			 "text": "MetaKernel Magics",
			 "url": "https://github.com/calysto/metakernel/blob/master/metakernel/magics/README.md"
			}
		   ],
		   "mimetype": "text/x-octave",
		   "name": "scilab",
		   "version": "0.7.1"
		  }
		 },
		 "nbformat": 4,
		 "nbformat_minor": 0
}
