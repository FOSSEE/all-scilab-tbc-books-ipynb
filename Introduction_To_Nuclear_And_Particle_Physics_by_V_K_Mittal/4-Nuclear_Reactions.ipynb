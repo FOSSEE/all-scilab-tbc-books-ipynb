{
"cells": [
 {
		   "cell_type": "markdown",
	   "metadata": {},
	   "source": [
       "# Chapter 4: Nuclear Reactions"
	   ]
	},
{
		   "cell_type": "markdown",
		   "metadata": {},
		   "source": [
			"## Example 4.3_1: Cross_section_of_lithium.sci"
		   ]
		  },
  {
"cell_type": "code",
	   "execution_count": null,
	   "metadata": {
	    "collapsed": true
	   },
	   "outputs": [],
"source": [
"// Scilab code Exa4.3.1: To calculate the cross section of Li(3,7) : Page 179(2011)\n",
"t = 10^-5; // Thickness of Li(3,7), m\n",
"d = 500; // Density, Kg/m^3\n",
"N = 6.023e+026; // Number of  nuclei in 7-Kg of Li-7\n",
"M = 7 ; // Molar mass of Li\n",
"n = d*N*t/M; // Number of Li(3,7) nuclei/area\n",
"N_p = 10^8; // Number of neutron produced/s\n",
"N_0 = 10^13; // Number of incident particle striking/unit area of target\n",
"C_s = N_p/(N_0*n*10^(-028)); //  Cross section, b\n",
"printf('\n Cross section : %5.3f b', C_s)\n",
" // Result \n",
"//  Cross section : 0.232 b "
   ]
   }
,
{
		   "cell_type": "markdown",
		   "metadata": {},
		   "source": [
			"## Example 4.3_2: Neutron_absorption_ratio.sci"
		   ]
		  },
  {
"cell_type": "code",
	   "execution_count": null,
	   "metadata": {
	    "collapsed": true
	   },
	   "outputs": [],
"source": [
"// Scilab code Exa4.3.2: To calculate the fraction of neutron absorbed by Cd sheet of given thickness : Page 180 (2011)\n",
"t = 0.2e-03; // Thickness of Cd sheet, m\n",
"d = 8.64e+03; // Density, Kg/m^3\n",
"N = 6.023e+026; // Number of  nuclei in 7-Kg of Li-7\n",
"M = 112 ; // Atomic mass of Cd-113, amu\n",
"C_s = 20000e-028; //  Cross section of neutron for Cd-113, m^2\n",
"n = 0.12*d*N/M; // Number of Cd atoms/volume, atoms/m^3\n",
"F_inc_absorb = [1-%e^(-n*C_s*t)]*100; // Fraction of neutron absorbed \n",
"printf('\n Fraction of neutron absorbed by Cd sheet : %4.2f percent',F_inc_absorb )\n",
"// Result\n",
"//   Fraction of neutron absorbed by Cd sheet : 89.25 percent "
   ]
   }
,
{
		   "cell_type": "markdown",
		   "metadata": {},
		   "source": [
			"## Example 4.4_1: Nuclear_reactions.sci"
		   ]
		  },
  {
"cell_type": "code",
	   "execution_count": null,
	   "metadata": {
	    "collapsed": true
	   },
	   "outputs": [],
"source": [
"// Scilab code Exa test : Checking the possibility of occurence of reactions : page no. 181 (2011)\n",
"// Declare three cells (for three reactions)\n",
"R1 = cell(4,4);\n",
"R2 = cell(5,4);\n",
"R3 = cell(4,4);\n",
"// Enter data for first cell (Reaction)\n",
"R1(1,1).entries = 'Al'; // Element\n",
"R1(1,2).entries = 13;   // Atomic number\n",
"R1(1,3).entries = 27;    // Mass number\n",
"R1(1,4).entries = 0;    // Lepton number \n",
"R1(2,1).entries = 'He';\n",
"R1(2,2).entries = 2;\n",
"R1(2,3).entries = 4;\n",
"R1(2,4).entries = 0;\n",
"R1(3,1).entries = 'Si';\n",
"R1(3,2).entries = 14;\n",
"R1(3,3).entries = 30;\n",
"R1(2,4).entries = 0;\n",
"R1(4,1).entries = 'n';\n",
"R1(4,2).entries = 0;\n",
"R1(4,3).entries = 1;\n",
"R1(2,4).entries = 0;\n",
"// Enter data for second cell (Reaction)\n",
"R2(1,1).entries = 'U';\n",
"R2(1,2).entries = 92;\n",
"R2(1,3).entries = 235;\n",
"R2(1,4).entries = 0;\n",
"R2(2,1).entries = 'n';\n",
"R2(2,2).entries = 0;\n",
"R2(2,3).entries = 1;\n",
"R2(2,4).entries = 0;\n",
"R2(3,1).entries = 'Ba';\n",
"R2(3,2).entries = 56;\n",
"R2(3,3).entries = 143;\n",
"R2(3,4).entries = 0;\n",
"R2(4,1).entries = 'Kr';\n",
"R2(4,2).entries = 36;\n",
"R2(4,3).entries = 90;\n",
"R2(4,4).entries = 0;\n",
"R2(5,1).entries = '2n';\n",
"R2(5,2).entries = 0;\n",
"R2(5,3).entries = 1;\n",
"R1(5,4).entries = 0;\n",
"// Enter data for third cell (Reaction)\n",
"R3(1,1).entries = 'P';\n",
"R3(1,2).entries = 15;\n",
"R3(1,3).entries = 32;\n",
"R3(1,4).entries = 0;\n",
"R3(2,1).entries = 'S';\n",
"R3(2,2).entries = 16;\n",
"R3(2,3).entries = 32;\n",
"R3(2,4).entries = 0;\n",
"R3(3,1).entries = 'e';\n",
"R3(3,2).entries = -1;\n",
"R3(3,3).entries = 0;\n",
"R3(3,4).entries = 0;\n",
"R3(4,1).entries = 'v_e';\n",
"R3(4,2).entries = 0;\n",
"R3(4,3).entries = 0;\n",
"R3(4,4).entries = 0;\n",
"// Declare a function returning equality status of nucleon number\n",
"function f = check_nucleon(nr_sum,np_sum)\n",
"        if nr_sum == np_sum then\n",
"            f = 1;\n",
"        else \n",
"            f = 0;\n",
"        end\n",
"endfunction\n",
"// Declare a function returning equality status of proton number\n",
"function f = check_proton(pr_sum,pp_sum)\n",
"        if pr_sum == pp_sum then\n",
"            f = 1;\n",
"        else \n",
"            f = 0;\n",
"        end    \n",
"endfunction\n",
"// Declare a function returning equality status of lepton number\n",
"function f = check_lepton(lr_sum,lp_sum)\n",
"        if lr_sum == lp_sum then\n",
"            f = 1;\n",
"        else \n",
"            f = 0;\n",
"        end    \n",
"endfunction\n",
"            \n",
"// Reaction-I\n",
"printf('\n\n\nReaction-I:\n\n');\n",
"        pr_sum = R1(1,2).entries+R1(2,2).entries;\n",
"        pp_sum = R1(3,2).entries+R1(4,2).entries;\n",
"        nr_sum = R1(1,3).entries+R1(2,3).entries;\n",
"        np_sum = R1(3,3).entries+R1(4,3).entries;\n",
"        lr_sum = R1(1,4).entries+R1(2,4).entries;\n",
"        lp_sum = R1(3,4).entries+R1(4,4).entries; \n",
"        if (check_nucleon(nr_sum,np_sum)&check_proton(pr_sum,pp_sum)&check_lepton(lr_sum,lp_sum) == 1) then\n",
"            printf('The Reaction\n')\n",
"            printf('\t%s(%d) + %s(%d) --> %s(%d)+%s(%d)\nis possible', R1(1,1).entries, R1(1,3).entries, R1(2,1).entries, R1(2,3).entries, R1(3,1).entries, R1(3,3).entries, R1(4,1).entries, R1(4,3).entries);\n",
"        elseif (check_proton(pr_sum,pp_sum) == 0) then\n",
"            printf('The Reaction\n')\n",
"            printf('\t%s(%d) + %s(%d) --> %s(%d)+%s(%d)\nis impossible', R1(1,1).entries, R1(1,3).entries, R1(2,1).entries, R1(2,3).entries, R1(3,1).entries, R1(3,3).entries, R1(4,1).entries, R1(4,3).entries);\n",
"            R1(4,1).entries = 'H'; R1(4,3).entries = 1;\n",
"            printf('\nThe correct reaction is:\n')\n",
"            printf('\t%s(%d) + %s(%d) --> %s(%d)+%s(%d)\n', R1(1,1).entries, R1(1,3).entries, R1(2,1).entries, R1(2,3).entries, R1(3,1).entries, R1(3,3).entries, R1(4,1).entries, R1(4,3).entries);    \n",
"        end\n",
"//  Display for reaction-II\n",
"  printf('\n\n\nReaction-II:\n\n');\n",
"        pr_sum = R2(1,2).entries+R2(2,2).entries;\n",
"        pp_sum = R2(3,2).entries+R2(4,2).entries+R2(5,2).entries;\n",
"        nr_sum = R2(1,3).entries+R2(2,3).entries;\n",
"        np_sum = R2(3,3).entries+R2(4,3).entries+R2(5,3).entries;\n",
"        lr_sum = R2(1,4).entries+R2(2,4).entries;\n",
"        lp_sum = R2(3,4).entries+R2(4,4).entries+R2(5,4).entries; \n",
"        if (check_nucleon(nr_sum,np_sum)&check_proton(pr_sum,pp_sum)&check_lepton(lr_sum,lp_sum) == 1) then\n",
"            printf('The Reaction\n')\n",
"            printf('\t%s(%d) + %s(%d) --> %s(%d)+%s(%d)+%s(%d)\nis possible', R2(1,1).entries, R2(1,3).entries, R2(2,1).entries, R2(2,3).entries, R2(3,1).entries, R2(3,3).entries, R2(4,1).entries, R2(4,3).entries, R2(5,1).entries, R2(5,3).entries);\n",
"        elseif (check_nucleon(nr_sum,np_sum) == 0) then\n",
"            printf('The Reaction\n')\n",
"            printf('\t%s(%d) + %s(%d) --> %s(%d)+%s(%d)+%s(%d)\nis impossible', R2(1,1).entries, R2(1,3).entries, R2(2,1).entries, R2(2,3).entries, R2(3,1).entries, R2(3,3).entries, R2(4,1).entries, R2(4,3).entries, R2(5,1).entries, R2(5,3).entries);\n",
"             R2(5,1).entries = '3n';\n",
"            printf('\nThe correct reaction is:\n')\n",
"            printf('\t%s(%d) + %s(%d) --> %s(%d)+%s(%d)+%s(%d)\n', R2(1,1).entries, R2(1,3).entries, R2(2,1).entries, R2(2,3).entries, R2(3,1).entries, R2(3,3).entries, R2(4,1).entries, R2(4,3).entries, R2(5,1).entries, R2(5,3).entries);    \n",
"        end          \n",
"//     Reaction-III\n",
"            printf('\n\n\nReaction-III:\n\n');\n",
"        pr_sum = R3(1,2).entries+R3(2,2).entries;\n",
"        pp_sum = R3(3,2).entries+R3(4,2).entries;\n",
"        nr_sum = R3(1,3).entries+R3(2,3).entries;\n",
"        np_sum = R3(3,3).entries+R3(4,3).entries;\n",
"        lr_sum = R3(1,4).entries+R3(2,4).entries;\n",
"        lp_sum = R3(3,4).entries+R3(4,4).entries; \n",
"        if (check_nucleon(nr_sum,np_sum)&check_proton(pr_sum,pp_sum)&check_lepton(lr_sum,lp_sum) == 1) then\n",
"            printf('The Reaction\n')\n",
"            printf('\t%s(%d) + %s(%d) --> %s(%d)+%s(%d)\nis possible', R3(1,1).entries, R3(1,3).entries, R3(2,1).entries, R3(2,3).entries, R3(3,1).entries, R3(3,3).entries, R3(4,1).entries, R2(4,3).entries);\n",
"        elseif (check_lepton(nr_sum,np_sum) == 0) then\n",
"            printf('The Reaction\n')\n",
"            printf('\t%s(%d) + %s(%d) --> %s(%d)+%s(%d)\nis impossible', R3(1,1).entries, R3(1,3).entries, R3(2,1).entries, R3(2,3).entries, R3(3,1).entries, R3(3,3).entries, R3(4,1).entries, R3(4,3).entries);\n",
"             R3(4,1).entries = 'v_e_a'\n",
"            printf('\nThe correct reaction is:\n')\n",
"            printf('\t%s(%d) + %s(%d) --> %s(%d)+%s(%d)\n', R3(1,1).entries, R3(1,3).entries, R3(2,1).entries, R3(2,3).entries, R3(3,1).entries, R3(3,3).entries, R3(4,1).entries, R3(4,3).entries);    \n",
"        end         \n",
"      \n",
"// Reaction-I:\n",
"// The Reaction\n",
"//	Al(27) + He(4) --> Si(30)+n(1)\n",
"// is impossible\n",
"// The correct reaction is:\n",
"//	Al(27) + He(4) --> Si(30)+H(1)\n",
"// Reaction-II:\n",
"// The Reaction\n",
"//	U(235) + n(1) --> Ba(143)+Kr(90)+2n(1)\n",
"// is impossible\n",
"// The correct reaction is:\n",
"//	U(235) + n(1) --> Ba(143)+Kr(90)+3n(1)\n",
"// Reaction-III:\n",
"// The Reaction\n",
"//	P(32) + S(32) --> e(0)+v_e(0)\n",
"// is impossible\n",
"// The correct reaction is:\n",
"//	P(32) + S(32) --> e(0)+v_e_a(0)\n",
"      "
   ]
   }
,
{
		   "cell_type": "markdown",
		   "metadata": {},
		   "source": [
			"## Example 4.5_10: Energy_of_gamma_rays.sci"
		   ]
		  },
  {
"cell_type": "code",
	   "execution_count": null,
	   "metadata": {
	    "collapsed": true
	   },
	   "outputs": [],
"source": [
"// Scilab code Exa4.5.10: To determine the energy of gamma ray for reaction :: P.no. 186 (2011)\n",
"//    H(1,2)+G  =  H(1,1)+ n(0,1) is the given reaction\n",
"M_H_2 = 2.014735; // Mass of H-2, amu\n",
"M_H_1 = 1.008142 ; // Mass of H-1, amu\n",
"M_n_1 = 1.008987; // Mass of M_n_1, amu\n",
"Q = -5.4; // Q-value, MeV\n",
"E_g = (M_H_1*931.47+M_n_1*931.47)-(M_H_2*931.47); //Energy of the gama rays, MeV\n",
"printf('\nThe  energy of the gama rays  : %6.4f MeV ', E_g)\n",
"// Result  \n",
"//   The  energy of the gama rays  : 2.2299 MeV "
   ]
   }
,
{
		   "cell_type": "markdown",
		   "metadata": {},
		   "source": [
			"## Example 4.5_1: Q_value_for_reactio.sci"
		   ]
		  },
  {
"cell_type": "code",
	   "execution_count": null,
	   "metadata": {
	    "collapsed": true
	   },
	   "outputs": [],
"source": [
"// Scilab code Exa4.5.1: To calculate Q-value for given reaction  : Page 182 (2011)\n",
"M_n = 1.00866501; // Mass of neutron, amu\n",
"M_Hp = 2.014102; // Mass of proton, amu\n",
"M_Hd = 3.016049; // Mass of deutron, amu\n",
"M_He = 4.002603; // Mass of alpha particle, amu\n",
"Q = [M_Hp+M_Hd-M_He-M_n]*931.49; // Q-value, MeV\n",
"printf('\nThe Q-value for the reaction : %4.1f MeV', Q)\n",
"// Result\n",
"//    The Q-value for the reaction : 17.6 MeV "
   ]
   }
,
{
		   "cell_type": "markdown",
		   "metadata": {},
		   "source": [
			"## Example 4.5_2: Energy_emitted_in_nuclear_reaction.sci"
		   ]
		  },
  {
"cell_type": "code",
	   "execution_count": null,
	   "metadata": {
	    "collapsed": true
	   },
	   "outputs": [],
"source": [
"// Scilab code Exa4.5.2: To calculate Q-value for the reaction : Page 183 (2011)\n",
"M_Cf = 252.081621; // Mass of califronium, amu\n",
"M_Cm = 248.072343; // Mass of curium, amu\n",
"M_He = 4.002603; // Mass of alpha particle, amu\n",
"Q = [M_Cf-M_Cm-M_He]*931.49; // Q-value, MeV\n",
"printf('\nThe Q-value for the reaction : %4.2f MeV', Q)\n",
"// Result  \n",
"// The Q-value for the reaction : 6.22 MeV"
   ]
   }
,
{
		   "cell_type": "markdown",
		   "metadata": {},
		   "source": [
			"## Example 4.5_3: Threshold_energy_and_Q_value_for_nuclear_reaction.sci"
		   ]
		  },
  {
"cell_type": "code",
	   "execution_count": null,
	   "metadata": {
	    "collapsed": true
	   },
	   "outputs": [],
"source": [
"// Scilab code Exa4.5.3: To calculate Q-value and threshold energy for the given reaction : Page 183 (2011)\n",
"// Pb_208(Fe_56, Fe_54)Pb_210\n",
"M_Pb_208 = 207.976641; // Mass of Pb-208, amu\n",
"M_Fe_56 = 55.934939; // Mass of Fe-56, amu\n",
"M_Pb_210 = 209.984178; // Mass of Pb-210, amu\n",
"M_Fe_54 = 53.939612; // Mass of Fe-54, amu\n",
"Q = [M_Pb_208+M_Fe_56-M_Pb_210-M_Fe_54]*931.49; // Q-value, MeV\n",
"E_th = -Q*(M_Fe_56+M_Pb_208)/M_Pb_208; // Threshold energy, MeV \n",
"printf('\nThe Q-value for the reaction   =  %5.2f MeV \n Threshold energy   = %5.2f MeV ', Q,E_th)\n",
"// Result  \n",
"//  The Q-value for the reaction   =  -11.37 MeV \n",
"//  Threshold energy   = 14.43 MeV "
   ]
   }
,
{
		   "cell_type": "markdown",
		   "metadata": {},
		   "source": [
			"## Example 4.5_4: Mass_of_neutron_from_nuclear_reaction.sci"
		   ]
		  },
  {
"cell_type": "code",
	   "execution_count": null,
	   "metadata": {
	    "collapsed": true
	   },
	   "outputs": [],
"source": [
"// Scilab code Exa4.5.4: To calculate  the mass of neutron for  given reaction : P.No. 184 (2011)\n",
"// H(1,1)+n(0,1) = H(1,2)+G is the reaction\n",
"M_H_2 = 2.014735; // Mass of H-2, amu\n",
"M_H_1 = 1.008142 ; // Mass of H-1, amu\n",
"E_g = 2.230; // Energy of gamma rays, MeV\n",
"M_n_1 = [(M_H_2*931.47+E_g)-(M_H_1*931.47)]/931.47; //Mass of neutron, amu\n",
"printf('\nThe  mass of the neutron  : %8.6f MeV ', M_n_1)\n",
"// Result\n",
"//      The mass of the neutron  : 1.008987 MeV"
   ]
   }
,
{
		   "cell_type": "markdown",
		   "metadata": {},
		   "source": [
			"## Example 4.5_5: Q_value_sign_for_nuclear_reaction.sci"
		   ]
		  },
  {
"cell_type": "code",
	   "execution_count": null,
	   "metadata": {
	    "collapsed": true
	   },
	   "outputs": [],
"source": [
"// Scilab code Exa 4.5.5 : Checking given reaction condition : page no. 184 (2011)\n",
"// Li-6 + n-1     > He-4 + H-3 is the given reaction \n",
"M_Li = 6.0151234; // Atomic mass of Li, amu\n",
"M_n = 1.0086654; //  Atomic mass of neutron, amu\n",
"M_He = 4.0026034; //  Atomic mass of He, amu\n",
"M_H = 3.0160294; //  Atomic mass of H, amu\n",
"r_sum = M_Li+M_n; //  Sum of reactant, amu\n",
"p_sum = M_He+M_H; //  Sum of product, amu\n",
"// Declare a function returning equality status of nucleon number\n",
"function Q = check_Qvalue(r_sum,p_sum)\n",
"        if r_sum >= p_sum then\n",
"            Q = 1;\n",
"        else \n",
"            Q = 0;\n",
"        end\n",
"endfunction\n",
"// Reaction\n",
"        if (check_Qvalue(r_sum,p_sum)  == 1) then\n",
"            printf('\n Reaction : \n\n\t Li(6)+n(1) ----> He(4)+H(3)')\n",
"            printf('\n\n\t\tThis reaction is exoergic')\n",
"        elseif (check_Qvalue(r_sum,p_sum) == 0) then\n",
"            printf('\n Reaction : \n\n\t Li(6)+n(1) ----> He(4)+H(3)')\n",
"            printf('\n\n\t\tThis reaction is endoergic')\n",
"           end          \n",
"// Reaction : \n",
"//	Li(6)+n(1) ----> He(4)+H(3)\n",
"	//	This reaction is exoergic"
   ]
   }
,
{
		   "cell_type": "markdown",
		   "metadata": {},
		   "source": [
			"## Example 4.5_6: Spontaneity_of_Q_value_for_nulclear_reaciton.sci"
		   ]
		  },
  {
"cell_type": "code",
	   "execution_count": null,
	   "metadata": {
	    "collapsed": true
	   },
	   "outputs": [],
"source": [
"// Scilab code Exa 4.5.5 : Checking whether the  reaction  is spontaneous or exoergic : page no. 185 (2011)\n",
"// Cf-252    > Zr-98 +Ce-145 + 9*n-1 is the given reaction\n",
"M_Cf = 252.081621; // Atomic mass of Cf, amu\n",
"M_Zr = 97.912735; //  Atomic mass of Zr, amu\n",
"M_Ce = 144.917230; //  Atomic mass of Ce, amu\n",
"M_n = 3.0160294; //  Atomic mass of neutron, amu\n",
"r_sum = M_Cf+M_Zr; //  Sum of reactant, amu\n",
"p_sum = M_Ce+M_n; //  Sum of product, amu\n",
"// Declare the function which check the Q-value \n",
"function Q = check_Qvalue(r_sum,p_sum)\n",
"        if r_sum >= p_sum then\n",
"            Q = 1;\n",
"        else \n",
"            Q = 0;\n",
"        end\n",
"endfunction\n",
"// Reaction\n",
"        if (check_Qvalue(r_sum,p_sum)  == 1) then\n",
"            printf('\n Reaction : \n\n\t Cf(256) ----> Zr(98)+Ce(145)+9*n(1)')\n",
"            printf('\n\n\t\tThis reaction is spontaneous')\n",
"        elseif (check_Qvalue(r_sum,p_sum) == 0) then\n",
"            printf('\n Reaction : \n\n\t Cf(256) ----> Zr(98)+Ce(145)+9*n(1)')\n",
"            printf('\n\n\t\tThis reaction is not spontaneous')\n",
"           end          \n",
" // Reaction : \n",
"   //  Cf(256) ----> Zr(98)+Ce(145)+9*n(1)\n",
"	// 	This reaction is spontaneous "
   ]
   }
,
{
		   "cell_type": "markdown",
		   "metadata": {},
		   "source": [
			"## Example 4.5_7: Nuclear_reaction_Q_value.sci"
		   ]
		  },
  {
"cell_type": "code",
	   "execution_count": null,
	   "metadata": {
	    "collapsed": true
	   },
	   "outputs": [],
"source": [
"// Scilab code Exa4.5.7: To calculate Q-value  for given reaction : Page 185 (2011)\n",
"// O(8,16)     > N(7,15)+ H(1,1) is the given reaction\n",
"M_N_15 = 15.000108; // Mass of N-15, amu\n",
"M_O_16 = 16; // Mass of O-16, amu\n",
"M_H_1 = 1.007825; // Mass of H-1, amu\n",
"Q = [M_O_16-M_N_15-M_H_1]*931.49; // Q-value, MeV\n",
"printf('\nThe Q-value for the reaction  : %3.1f MeV ', Q)\n",
"// Result  \n",
"//The Q-value for the reaction  : -7.4 MeV  "
   ]
   }
,
{
		   "cell_type": "markdown",
		   "metadata": {},
		   "source": [
			"## Example 4.5_8: Threshold_energy_for_given_reaction.sci"
		   ]
		  },
  {
"cell_type": "code",
	   "execution_count": null,
	   "metadata": {
	    "collapsed": true
	   },
	   "outputs": [],
"source": [
"// Scilab code Exa4.5.8: To determine the threshold energy for given reaction : P.no. 185 (2011)\n",
"// Na(11,23)+ n    >   F(9,20)+ He(2,4) is the reaction\n",
"M_Na_23 = 22.99097; // Mass of Na-23, amu\n",
"M_n_1 =1.00866 ; // Mass of n-1, amu\n",
"Q = -5.4; // Q-value, MeV\n",
"E_th = -Q*(M_Na_23+M_n_1)/M_Na_23; // Threshold energy, MeV\n",
"printf('\nThe threshold energy for the reaction  : %4.2f MeV ', E_th)\n",
"// Result  \n",
"//   The threshold energy for the reaction  : 5.64 MeV"
   ]
   }
,
{
		   "cell_type": "markdown",
		   "metadata": {},
		   "source": [
			"## Example 4.5_9: Q_value_of_nuclear_reaction.sci"
		   ]
		  },
  {
"cell_type": "code",
	   "execution_count": null,
	   "metadata": {
	    "collapsed": true
	   },
	   "outputs": [],
"source": [
"// Scilab code Exa4.5.9: To calculate Q-value for the reaction : Page 187 (2011)\n",
"// He(2,4)+ N(7,14) =  O(8,17)+ H(1,1)is the given reaction\n",
"M_N_14 = 14.00755; // Mass of N-14, amu\n",
"M_He_4 = 4.00388; // Mass of He-4, amu\n",
"M_O_17 = 17.00452; // Mass of O-17, amu\n",
"M_H_1 = 1.00815; // Mass of H-1, amu\n",
"Q = [M_N_14+M_He_4-M_O_17-M_H_1]*931.49; // Q-value, MeV\n",
"printf('\nThe Q-value for the reaction  : %4.2f MeV ', Q)\n",
"// Result  \n",
"//The Q-value for the reaction  : -1.16 MeV  "
   ]
   }
,
{
		   "cell_type": "markdown",
		   "metadata": {},
		   "source": [
			"## Example 4.7_1: Energy_and_power_released_during_fission_of_U_235.sci"
		   ]
		  },
  {
"cell_type": "code",
	   "execution_count": null,
	   "metadata": {
	    "collapsed": true
	   },
	   "outputs": [],
"source": [
"// Scilab code Exa4.7.1: To calculate the energy  and power released during fission of U-235 : Page 189 (2011)\n",
"m = 0.001; // Mass of U-235 lost during fission, Kg\n",
"c = 3e+08; // Velocity of light, m/s\n",
"E = m*c^2; // Energy released during fission, J\n",
"E_t = E/(4e+09*1000); // Energy requires TNT, Kt \n",
"printf('\n Energy released during fission    = %1.0e J  \n Destructive power of bomb    =  %4.1f Kt of TNT', E, E_t)\n",
"// Result  \n",
"  //     Energy released during fission    = 9e+013 J  \n",
"//  Destructive power of bomb    =  22.5 Kt of TNT     "
   ]
   }
,
{
		   "cell_type": "markdown",
		   "metadata": {},
		   "source": [
			"## Example 4.7_2: Fission_rate_induced_in_the_uranium_foil_by_neutron.sci"
		   ]
		  },
  {
"cell_type": "code",
	   "execution_count": null,
	   "metadata": {
	    "collapsed": true
	   },
	   "outputs": [],
"source": [
"// Scilab code Exa4.7.2: To determine the fission rate induced in the foil by neutron  : Page 190 (2011)\n",
"t = 0.15; // Thickness of the foil, Kg\n",
"N = 6.023e+026; // Number of nuclei in 1Kg of U-235, nuclei\n",
"N_1 = N/235*t; // Number of nuclei in 0.15Kg of U-235, nuclei\n",
"A = 2e-026; // Area present in each nucleus, m^2\n",
"I = 10^6; // Intensity ,s^-1 \n",
"F_r = N_1*A; // Rate of fissions induced in the foil by the neutrons, s^-1\n",
"printf('\n Rate of fissions induced in the foil by the neutrons: %5.3e per sec', F_r)\n",
"// Result  \n",
"//      Rate of fissions induced in the foil by the neutrons: 7.689e-003 per sec"
   ]
   }
,
{
		   "cell_type": "markdown",
		   "metadata": {},
		   "source": [
			"## Example 4.7_3: Power_in_fission_process.sci"
		   ]
		  },
  {
"cell_type": "code",
	   "execution_count": null,
	   "metadata": {
	    "collapsed": true
	   },
	   "outputs": [],
"source": [
"// Scilab code Exa4.7.3: To determine the fission power produced by one microgram of Fm-256  : Page 190 (2011)\n",
"N = 6.023e+023/256*10^-6; // Number of nuclei in 1ug of Fm-256\n",
"t_h = 158*60; // Half life of Fm-256, s\n",
"D_c = log(2)/t_h; // Decay constant, s^-1\n",
"F_r = N*D_c; // Fission rate, fissions/s\n",
"E = 220*1.6e-013; // Energy released during fission of one nucleus, J\n",
"P = E*F_r; // Power released in fission of 1 microgram of Fm-256, W\n",
"printf('\n Power released in fission of 1 microgram of Fm-256 = %d W', P)\n",
"// Result  \n",
"//          Power released in fission of 1 microgram of Fm-256 = 6 W "
   ]
   }
,
{
		   "cell_type": "markdown",
		   "metadata": {},
		   "source": [
			"## Example 4.7_4: Power_released_in_fission.sci"
		   ]
		  },
  {
"cell_type": "code",
	   "execution_count": null,
	   "metadata": {
	    "collapsed": true
	   },
	   "outputs": [],
"source": [
"// Scilab code Exa4.7.4: To determine the  power produced by 100 milligram of Cf-252  : Page 191 (2011)\n",
"N = 6.023e+023/252*0.1; // Number of nuclei in 100mg of Cf-252\n",
"t_h = 2.62*365*24*3600; // Half life of Cf-252, s\n",
"D_c = log(2)/t_h; // Decay constant, s^-1\n",
"F_r = N*D_c; // Fission rate, fissions/s\n",
"E = 210*1.6e-013; // Energy released during fission of one nucleus, J\n",
"P = E*F_r; // Power released in fission of 100 milligram of Cf-252, W\n",
"printf('\n Power released in fission of 100 milligram of Cf-252: %4.1f W', P)\n",
"// Result  \n",
"//         Power released in fission of 100 milligram of Cf-252: 67.4 W  "
   ]
   }
,
{
		   "cell_type": "markdown",
		   "metadata": {},
		   "source": [
			"## Example 4.7_5: Fission_counts_and_mass_reduction_of_fissile_material.sci"
		   ]
		  },
  {
"cell_type": "code",
	   "execution_count": null,
	   "metadata": {
	    "collapsed": true
	   },
	   "outputs": [],
"source": [
"// Scilab code Exa4.7.5: To determine the number of nuclear fission and decrease in mass during explosion at hiroshima : Page 191 (2011)\n",
"E = 200*1.6e-013; // Energy released during fission of one nucleus, J\n",
"E_t = 20000*4.18e+09; // Energy released in detonation of 20000 tons of TNT, J\n",
"N_f = E_t/E; // Number of fission occured during eplosion, fissions\n",
"c = 3e+08; // Velocity of light, m/s\n",
"m = E_t/(c)^2*10^6; // Decrease in mass during explosion, mg\n",
"m_r = round(m)\n",
"printf('\n Number of fissions occured during explosion    = %4.2e fissions \n Decrease in mass during explosion    = %d mg ', N_f, m_r)\n",
"// Result  \n",
"//         Number of fissions occured during explosion    = 2.61e+024 fissions \n",
"//           Decrease in mass during explosion    = 929 mg"
   ]
   }
,
{
		   "cell_type": "markdown",
		   "metadata": {},
		   "source": [
			"## Example 4.8_1: Energy_liberated_in_fusion_reaction.sci"
		   ]
		  },
  {
"cell_type": "code",
	   "execution_count": null,
	   "metadata": {
	    "collapsed": true
	   },
	   "outputs": [],
"source": [
"// Scilab code Exa4.8.1: To calculate the energy liberated during fusion reaction: Page 194 (2011)\n",
"//  5*H(1,2)= He(2,3)+He(2,4)+H(1,2)+2*n(0,1)+25MeV is the given reaction\n",
"N = 6.023e+026/2*10; // Number of atoms in 10Kg of H-2, atoms\n",
"E = 25/5*1.6e-013; // Energy liberate during fusion of 1 atom of H-2, J\n",
"E_l = E*N; // Energy liberate during fusion of 10 Kg  of H-2, J\n",
"printf('\n Energy liberated during fusion of 10 Kg  of H-2 = %4.2e J', E_l)\n",
"// Result  \n",
"//   Energy liberated during fusion of 10 Kg  of H-2 = 2.41e+015 J"
   ]
   }
,
{
		   "cell_type": "markdown",
		   "metadata": {},
		   "source": [
			"## Example 4.8_2: Energy_produced_by_helium_carbon_fusion.sci"
		   ]
		  },
  {
"cell_type": "code",
	   "execution_count": null,
	   "metadata": {
	    "collapsed": true
	   },
	   "outputs": [],
"source": [
"// Scilab code Exa4.8.2: To calculate the energy produced by the fusion reaction He(2,4)+C(6,12)= O(8,16) : Page 194 (2011)\n",
"M_r = 16.002603; // Mass of the reactant, amu\n",
"M_p = 15.994915; // Mass of reactant, amu\n",
"M_d = 7.688e-03; // Difference in masses, amu\n",
"E_p = M_d*931.49; // Energy produced, MeV\n",
"printf('\n Energy produced by the fusion reaction :%4.2f MeV', E_p)\n",
"// Result  \n",
"// Energy produced by the fusion reaction :7.16 MeV"
   ]
   }
,
{
		   "cell_type": "markdown",
		   "metadata": {},
		   "source": [
			"## Example 4.8_3: Energy_released_and_temperature_required_for_fusion_of_gases.sci"
		   ]
		  },
  {
"cell_type": "code",
	   "execution_count": null,
	   "metadata": {
	    "collapsed": true
	   },
	   "outputs": [],
"source": [
"// Scilab code Exa4.8.3: To calculate the energy released and temperature required for fusion of given gases : Page 194 (2011)\n",
"// Firstly calculate for B-10\n",
"Z_B = 5; // Atomic number of B-10\n",
"r_B = 5.17; //  Seperation of two nuclei, fm\n",
"K = 1.38e-023; // Boltzmann's constant\n",
"F = 1/137; // Fine structure constant\n",
"E = 197.5*1.6e-013; // Energy, J\n",
"V_c_B = F*Z_B^2*E/r_B; // Coulomb barrier for B-10, J\n",
"T_B = 2/3*V_c_B/K; // Temperature required to overcome the barrier for B-10, K\n",
"// Now calculate for Mg-24\n",
"Z_Mg = 12; // Atomic number of Mg-24\n",
"r_Mg = 6.92; //  Seperation of two nuclei, fm\n",
"K = 1.38e-023; // Boltzmann's constant\n",
"F = 1/137; // Fine structure constant\n",
"E = 197.5*1.6e-013; // Energy, J\n",
"V_c_Mg = F*Z_Mg^2*E/r_Mg; // Coulomb barrier for Mg-24, J\n",
"T_Mg = 2/3*V_c_Mg/K; // Temperature required to overcome the barrier for Mg-24, K\n",
"printf('\nFor B-10 \n Energy released   = %4.2e J \n Temperature required   = %4.1e K   \nFor Mg-24  \n Energy released    = %4.2e J \n Temperature required  =  %4.2e K', V_c_B,T_B, V_c_Mg,  T_Mg)\n",
"// Result  \n",
" //      For B-10 \n",
" // Energy released   = 1.12e-012 J \n",
" // Temperature required   = 5.4e+010 K   \n",
"// For Mg-24  \n",
"//  Energy released    = 4.80e-012 J \n",
"//  Temperature required  =  2.32e+011 K  "
   ]
   }
,
{
		   "cell_type": "markdown",
		   "metadata": {},
		   "source": [
			"## Example 4.8_4: Life_time_of_su.sci"
		   ]
		  },
  {
"cell_type": "code",
	   "execution_count": null,
	   "metadata": {
	    "collapsed": true
	   },
	   "outputs": [],
"source": [
"// Scilab code Exa4.8.4: To calculate the life time of sun for given reaction : Page 196 (2011)\n",
"// 4*H(1,1)= He(2,4)+2*e(1,0)+2*v+G is the reaction\n",
"E_r = 3.9e+026; // Energy releasd in 1s, J\n",
"N = 1.2e+057; // Number of hydrogen atoms in the sun, atoms\n",
"M_d = 0.027599;// Mass difference, amu\n",
"E = M_d*931.47; // In terms of energy, MeV\n",
"E_t = N/4*E*1.6e-013; // Total energy available in the sun, J\n",
"t = E_t/(E_r*365*24*3600*10^9); // Life time of the sun, billion years\n",
"printf('\n Life time of the sun : %5.1f billion years', t)\n",
"// Result  \n",
"//        Life time of the sun : 100.3 billion years"
   ]
   }
,
{
		   "cell_type": "markdown",
		   "metadata": {},
		   "source": [
			"## Example 4.8_5: Particle_identification_in_the_nuclear_reaction.sci"
		   ]
		  },
  {
"cell_type": "code",
	   "execution_count": null,
	   "metadata": {
	    "collapsed": true
	   },
	   "outputs": [],
"source": [
"// Scilab code Exa 4.8.5 : Identifying the nucleus and energy released in the given reaction : page no. 197 (2011)\n",
"// Declare three cells (for three reactions)\n",
"R = cell(4,3);\n",
"// Enter data for first cell (Reaction)\n",
"R(1,1).entries = 'H'; // Element\n",
"R(1,2).entries = 1;   // Atomic number\n",
"R(1,3).entries = 2;    // Mass number\n",
"R(2,1).entries = 'H';\n",
"R(2,2).entries = 1;\n",
"R(2,3).entries = 3;\n",
"R(3,1).entries = 'n'\n",
"R(3,2).entries = 0;\n",
"R(3,3).entries = 1;\n",
"R(4,1).entries = 'He'\n",
"R(4,2).entries = 2;\n",
"R(4,3).entries = 3;\n",
"// Declare a function returning equality status of nucleon number\n",
"  \n",
"        p_sum = R(1,2).entries+R(2,2).entries;\n",
"                if (p_sum == 2) then\n",
"            \n",
"            printf('\n The particle is : %s(%d,%d) ',R(4,1).entries,R(4,2).entries,R(4,3).entries ) \n",
"             end \n",
"//  Calculate the energy released\n",
"m_n = 1.008665; // Mass of neutron, amu\n",
"m_d = 2.014102; // Mass of deutron, amu\n",
"m_He = 3.0160293; // Mass of He-3, amu\n",
"E = [2*m_d-(m_n+m_He)]*931.47; // Energy released in this reaction, MeV\n",
"printf('\n The energy released in this reaction : %4.2f MeV', E )\n",
"// Result \n",
"//         The particle is : He(2,3) \n",
" //      The energy released in this reaction : 3.27 MeV"
   ]
   }
,
{
		   "cell_type": "markdown",
		   "metadata": {},
		   "source": [
			"## Example 4.8_6: Mass_defect_and_q_value_for_fusion_reaction.sci"
		   ]
		  },
  {
"cell_type": "code",
	   "execution_count": null,
	   "metadata": {
	    "collapsed": true
	   },
	   "outputs": [],
"source": [
"// Scilab code Exa4.8.6: To calculate the mass defect and Q-value for the fusion reactions : Page 197 (2011)\n",
"//  Reaction-1 = H(1,2)+H(1,2)= He(2,3)+n(0,1)\n",
"m_p = 1.007825; // Mass of proton, amu\n",
"m_n = 1.008665; // Mass of neutron, amu\n",
"m_H = 2.014102; // Mass of H(1,2), amu\n",
"m_He = 3.016029; // Mass of He(2,3), amu\n",
"m_d_1 = 2*m_H-m_He-m_n; // Mass defect for reaction first, amu\n",
"Q_1 = m_d_1*931.47; // Q-value for reaction first, MeV\n",
"// Reaction-2 = H(1,2)+H(1,2)= H(1,3)+p(1,1)\n",
"m_p = 1.007825; // Mass of proton, amu\n",
"m_n = 1.008665; // Mass of neutron, amu\n",
"m_H = 2.014102; // Mass of H(1,2), amu\n",
"m_H_3 = 3.016049; // Mass of H(1,3), amu\n",
"m_d_2 = 2*m_H-m_H_3-m_p; // Mass defect for reaction second, amu\n",
"Q_2 = m_d_2*931.47; // Q-value for reaction second, MeV\n",
"printf('\nFor first reaction \n Mass defect    = %7.5f amu \n Q-value    =   %7.5f amu   \nFor second reaction \n Mass defect   =  %7.5f MeV \n Q-value    = %4.2f MeV ', m_d_1,Q_1, m_d_2,  Q_2)\n",
"// Result  \n",
"//   For first reaction \n",
"//  Mass defect    = 0.00351 amu \n",
"//  Q-value    =   3.26946 amu   \n",
"// For second reaction \n",
"//  Mass defect   =  0.00433 MeV \n",
"//  Q-value    = 4.03 MeV  "
   ]
   }
],
"metadata": {
		  "kernelspec": {
		   "display_name": "Scilab",
		   "language": "scilab",
		   "name": "scilab"
		  },
		  "language_info": {
		   "file_extension": ".sce",
		   "help_links": [
			{
			 "text": "MetaKernel Magics",
			 "url": "https://github.com/calysto/metakernel/blob/master/metakernel/magics/README.md"
			}
		   ],
		   "mimetype": "text/x-octave",
		   "name": "scilab",
		   "version": "0.7.1"
		  }
		 },
		 "nbformat": 4,
		 "nbformat_minor": 0
}
