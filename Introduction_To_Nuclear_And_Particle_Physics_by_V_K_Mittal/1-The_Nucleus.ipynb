{
"cells": [
 {
		   "cell_type": "markdown",
	   "metadata": {},
	   "source": [
       "# Chapter 1: The Nucleus"
	   ]
	},
{
		   "cell_type": "markdown",
		   "metadata": {},
		   "source": [
			"## Example 1.11_1: Ion_accelerated_in_a_mass_spectrograph.sci"
		   ]
		  },
  {
"cell_type": "code",
	   "execution_count": null,
	   "metadata": {
	    "collapsed": true
	   },
	   "outputs": [],
"source": [
"// Scilab code Exa1.11.1 : To find the speed, mass and mass number of the ion which is accelerated in a mass spectrograph : Page 40 (2011)\n",
"V = 1000; // Potential difference, volts\n",
"R = 0.122; // Radius of the circular path, m\n",
"B = 1500e-04; // Magnetic field, tesla\n",
"e = 1.602e-019; // Charge of the electron, C\n",
"amu = 1.673e-027; // Atomic mass unit, kg\n",
"v = (2*V)/(R*B); // Speed of the ion, m/s\n",
"M = 2*e*V/v^2; // Mass of the ion, kg\n",
"A = M/amu; // Mass number\n",
"printf('\n    Speed   >  %5.3e m/s  \n    Mass    >  %5.3e kg  \n    Mass number   >  %5.2f ',v, M, A);\n",
"\n",
"// Result\n",
"//  \n",
"//    Speed   >  1.093e+005 m/s  \n",
"//   Mass    >  2.682e-026 kg  \n",
"//     Mass number   >  16.03"
   ]
   }
,
{
		   "cell_type": "markdown",
		   "metadata": {},
		   "source": [
			"## Example 1.11_2: Distance_between_isotopic_Ar_ions.sci"
		   ]
		  },
  {
"cell_type": "code",
	   "execution_count": null,
	   "metadata": {
	    "collapsed": true
	   },
	   "outputs": [],
"source": [
"// Scilab code Exa 1.11.2 : To determine distances between the isotopic Ar ions in Bainbridge mass spectrograph : Page 41 (2011)\n",
"amu = 1.673e-027; // Atomic mass unit, kg\n",
"E = 5e+04; // Electric field, V/m\n",
"B1 = 0.4; // Magnetic field, tesla\n",
"v = E/B1; // Velocity of ions, m/s\n",
"B = 0.8; // Magnetic field, tesla\n",
"e = 1.602e-019; //charge of electron,C\n",
"m_Ar = zeros(1,3);    // Array of masses of three Ar ions, amu\n",
"m_Ar(1,1) = 36,m_Ar(1,2) = 38,m_Ar(1,3) = 40; // Masses of three isoptopes of Ar, amu\n",
"r_Ar = zeros(1,3);    // Array of radii of three Ar ions, mm\n",
"for i = 1:1:3\n",
"    r_Ar(1,i) = (m_Ar(1,i)*amu*v)/(B*e)*1e+03; // Radius of Ar ion orbit, mm\n",
"    disp(r_Ar(1,i));    \n",
"end\n",
"d1 = 2*(r_Ar(1,2)-r_Ar(1,1));    // Distance b/w first and second line, mm\n",
"d2 = 2*(r_Ar(1,3)-r_Ar(1,2));    // Distance b/w second and third line, mm\n",
"printf('\nThe distance between successive lines due to three different isotopes : %3.1f mm and %3.1f mm', d1,d2);\n",
"\n",
"// Result\n",
"// The distance between successive lines due to three different isotopes : 6.5 mm and 6.5 mm"
   ]
   }
,
{
		   "cell_type": "markdown",
		   "metadata": {},
		   "source": [
			"## Example 1.3_1: de_Broglie_relatio.sci"
		   ]
		  },
  {
"cell_type": "code",
	   "execution_count": null,
	   "metadata": {
	    "collapsed": true
	   },
	   "outputs": [],
"source": [
"// Scilab code Exa1.3.1 Momentum determination for a neutron using de-Broglie relation : Page 31 (2011)\n",
"h = 6.626e-034;    // Planck's constant, Js\n",
"e = 1.602e-019;    // Charge on an electron, C\n",
"red_h = h/(2*%pi*e*1e+06);    // Reduced Planck's constant, MeV\n",
"lambda = 5.0e-015;    // de_Broglie wavelength of neutron, m\n",
"p = red_h/lambda;    // Momentum of the neutron, MeV-s/m\n",
"printf('\nThe momentum of the neutron from de-Broglie relation : %5.3e MeV-s/m', p);\n",
"\n",
"// Result\n",
"// The momentum of the neutron from de-Broglie relation : 1.317e-007 MeV-s/m"
   ]
   }
,
{
		   "cell_type": "markdown",
		   "metadata": {},
		   "source": [
			"## Example 1.3_2: Isotopes_Isotones_and_Isobars.sci"
		   ]
		  },
  {
"cell_type": "code",
	   "execution_count": null,
	   "metadata": {
	    "collapsed": true
	   },
	   "outputs": [],
"source": [
"// Scilab code Exa1.3.2 : Grouping the nuclides as isotopes, isotones and isobars : Page 32 (2011)\n",
"E = cell(3,3);    // Declare a cell array of empty matrices for nuclides information\n",
"E(1,1).entries = 'C';    // Assign element 'C' to (1,1) cell\n",
"E(2,1).entries = 'N';    // Assign element 'N' to (2,1) cell\n",
"E(3,1).entries = 'O';    // Assign element 'o' to (3,1) cell\n",
"E(1,2).entries = 6;    // Assign atomic No. 6 to (1,2) cell\n",
"E(2,2).entries = 7;    // Assign atomic No. 7 to (2,2) cell\n",
"E(3,2).entries = 8;    // Assign atomic No. 8 to (3,2) cell\n",
"E(1,3).entries = [12,13,14,16];    // Assign mass numbers for 'C' to (1,3) cell\n",
"E(2,3).entries = [14,15,16,17];    // Assign mass numbers for 'N' to (2,3) cell\n",
"E(3,3).entries = [14,15,16,17];    // Assign mass numbers for 'O' to (3,3) cell\n",
"// Isotopes\n",
"printf('\nIsotopes:');\n",
"printf('\n=========');\n",
"for i = 1:1:3    // Search for the three elements one-by-one\n",
"    printf('\n(Z = %d)\n',E(i,2).entries);\n",
"    for j= 1:1:4\n",
"       printf('\t%s(%d)',E(i,1).entries,E(i,3).entries(j));\n",
"    end\n",
"end\n",
"// Isotones\n",
"printf('\n\nIsotones:');\n",
"printf('\n========');\n",
"for N = 6:1:9    // Search for the neutron numbers from 6 to 9\n",
"    printf('\n(N = %d)\n',N);\n",
"    for i = 1:1:3\n",
"         for j= 1:1:4\n",
"             if  E(i,3).entries(j)- E(i,2).entries == N then // N = A-Z\n",
"                  printf('\t%s(%d)',E(i,1).entries,E(i,3).entries(j));\n",
"             end\n",
"         end\n",
"    end     \n",
"end\n",
"// Isobars\n",
"printf('\n\nIsobars:');\n",
"printf('\n=======');\n",
"for A = 14:1:17    // Search for the mass numbers from 14 to 17\n",
"    printf('\n(A = %d)\n',A);\n",
"    for i = 1:1:3\n",
"         for j= 1:1:4\n",
"             if  E(i,3).entries(j) == A then\n",
"                  printf('\t%s(%d)',E(i,1).entries,E(i,3).entries(j));\n",
"             end\n",
"         end\n",
"    end     \n",
"end\n",
"//\n",
"// Result\n",
"//\n",
"// Isotopes:\n",
"// =========\n",
"// (Z = 6)\n",
"//   C(12)    C(13)    C(14)    C(16)\n",
"// (Z = 7)\n",
"//   N(14)    N(15)    N(16)    N(17)\n",
"// (Z = 8)\n",
"//  O(14)    O(15)    O(16)    O(17)\n",
"//\n",
"// Isotones:\n",
"// ========\n",
"// (N = 6)\n",
"//  C(12)    O(14)\n",
"// (N = 7)\n",
"//  C(13)    N(14)    O(15)\n",
"// (N = 8)\n",
"//  C(14)    N(15)    O(16)\n",
"// (N = 9)\n",
"//  N(16)    O(17)\n",
"//\n",
"// Isobars:\n",
"// =======\n",
"// (A = 14)\n",
"//  C(14)     N(14)    O(14)\n",
"// (A = 15)\n",
"//  N(15)    O(15)\n",
"// (A = 16)\n",
"//  C(16)     N(16)     O(16)\n",
"// (A = 17)\n",
"//  N(17)    O(17)"
   ]
   }
,
{
		   "cell_type": "markdown",
		   "metadata": {},
		   "source": [
			"## Example 1.4_1: Rest_mass_energy_of_electron.sci"
		   ]
		  },
  {
"cell_type": "code",
	   "execution_count": null,
	   "metadata": {
	    "collapsed": true
	   },
	   "outputs": [],
"source": [
"// Scilab code Exa1.4.1: To calculate the energy of electron at rest : Page 33 (2011)\n",
"m = 9.1e-031; // Mass of the electron, Kg\n",
"C = 3e+08; // Velocity of the light,m/s\n",
"E = m*C^2/1.6e-013; // Energy of the electron at rest, MeV\n",
"printf('\nEnergy of the electron at rest : %5.3f MeV', E)\n",
"\n",
"//   Result\n",
"//    Energy of the electron at rest : 0.512 MeV "
   ]
   }
,
{
		   "cell_type": "markdown",
		   "metadata": {},
		   "source": [
			"## Example 1.4_2: Nuclear_radius.sci"
		   ]
		  },
  {
"cell_type": "code",
	   "execution_count": null,
	   "metadata": {
	    "collapsed": true
	   },
	   "outputs": [],
"source": [
"// Scilab code Exa1.4.2 : Estimation of the Nucleus type from its radius : Page 33 (2011)\n",
"r = 3.46e-015; // Radius of the nucleus, m\n",
"r0 = 1.2e-015; // Distance of closest approach of the nucleus, m\n",
"A = round((r/r0)^3); // Mass number of the nucleus\n",
"if A == 23 then\n",
"   element = 'Na';\n",
"elseif A == 24 then\n",
"   element = 'Mg';\n",
"elseif  A == 27 then\n",
"   element = 'Al';\n",
"elseif  A == 28 then\n",
"   element = 'Si';\n",
"end\n",
"printf('The mass number of the nucleus is %d and the nucleus is of %s', A, element);\n",
"\n",
"//  Result\n",
"// The mass number of the nucleus is 24 and the nucleus is of Mg"
   ]
   }
,
{
		   "cell_type": "markdown",
		   "metadata": {},
		   "source": [
			"## Example 1.4_3: Nuclear_density.sci"
		   ]
		  },
  {
"cell_type": "code",
	   "execution_count": null,
	   "metadata": {
	    "collapsed": true
	   },
	   "outputs": [],
"source": [
"// Scilab code Exa1.4.3 : Estimate the density of nuclear matter : Page 34 (2011)\n",
"m = 40*(1.66e-027); // Mass of the nucleus, kg \n",
"r0 = 1.2e-015; // Distance of the closest approach, m\n",
"A = 40; // Atomic mass of the nucleus\n",
"r = r0*A^(1/3); //Radius of the nucleus, m\n",
"V = 4/3*(%pi*r^3); // Volume of the nucleus, m^3\n",
"density = m/V; // Density of the nucleus, kg/m^3\n",
"printf('\nRadius of the nucleus: %3.1e m\nVolume of the nucleus: %5.3e m^3\nDensity of the nucleus: %3.1e kg/m^3',r,V,density);\n",
"\n",
"// Result\n",
"// Radius of the nucleus: 4.1e-015 m\n",
"// Volume of the nucleus: 2.895e-043 m^3\n",
"// Density of the nucleus: 2.3e+017 kg/m^3"
   ]
   }
,
{
		   "cell_type": "markdown",
		   "metadata": {},
		   "source": [
			"## Example 1.4_4: Density_of_uranium_235.sci"
		   ]
		  },
  {
"cell_type": "code",
	   "execution_count": null,
	   "metadata": {
	    "collapsed": true
	   },
	   "outputs": [],
"source": [
"// Scilab code Exa1.4.4 : To determine the density of U-235 nucleus : Page 34 (2011)\n",
"m = 1.66e-027;    // Mass of a nucleon, kg\n",
"A = 235; // Atomic mass of U-235 nucleus\n",
"M = A*m;    //Mass of the U-235 nucleus, kg\n",
"r0 = 1.2e-015; // Distance of closest approach, m\n",
"r = r0*(A)^(1/3); // Radius of the U-235 nucleus\n",
"V = 4/3*(%pi*r^3); // Volume of the U-235 nucleus,m^3\n",
"d = M/V; // Density of the U-235 nucleus,kg/m^3\n",
"printf('\nThe density of U-235 nucleus : %4.2e kg per metre cube',d)\n",
"\n",
"// Result\n",
"// The density of U-235 nucleus : 2.29e+017 kg per metre cube"
   ]
   }
,
{
		   "cell_type": "markdown",
		   "metadata": {},
		   "source": [
			"## Example 1.4_5: Variation_of_nuclear_density_with_radius.sci"
		   ]
		  },
  {
"cell_type": "code",
	   "execution_count": null,
	   "metadata": {
	    "collapsed": true
	   },
	   "outputs": [],
"source": [
"// Scilab code Exa1.4.5 : To calculate densities of O and Pb whose radii are given: Page 35 (2011)\n",
"m_O = 2.7e-026; // Mass of O nucleus, kg\n",
"r_O = 3e-015; // Radius of O nucleus, m\n",
"V_O = 4/3*(%pi*(r0)^3); // Volume of O nucleus, metre cube\n",
"d_O = m_O/V_O; // Density of O nucleus, kg/metre cube\n",
"m_Pb = 3.4e-025; // Mass of Pb nucleus, kg\n",
"r_Pb = 7.0e-015; // Radius of Pb nucleus, m\n",
"V_Pb = 4/3*(%pi*(r_Pb)^3); // Volume of Pb nucleus, metre cube\n",
"d_Pb = m_Pb/V_Pb; //Density of Pb nucleus,kg/metre cube\n",
"printf('\nThe density of oxygen nucleus : %4.2e in kg/metre cube',d_O);\n",
"printf('\nThe density of Pb nucleus : %4.2e in kg/metre cube',d_Pb);\n",
"\n",
"// Result\n",
"// The density of oxygen nucleus : 3.73e+018 in kg/metre cube\n",
"// The density of Pb nucleus : 2.37e+017 in kg/metre cube"
   ]
   }
,
{
		   "cell_type": "markdown",
		   "metadata": {},
		   "source": [
			"## Example 1.4_6: Distance_of_closest_approach.sci"
		   ]
		  },
  {
"cell_type": "code",
	   "execution_count": null,
	   "metadata": {
	    "collapsed": true
	   },
	   "outputs": [],
"source": [
"// Scilab code Exa1.4.6 : Determination of distance of closest approach for alpha-particle : Page 35 (2011)\n",
"E = 5.48*1.6e-013; // Energy of alpha particle, J\n",
"e = 1.6e-019; // Charge of an electron, C\n",
"Z = 79; // Mas number of Au nucleus, \n",
"epsilon_0 = 8.85e-012; // Permittivity of free space, \n",
"D = (2*Z*e^2)/(4*%pi*epsilon_0*E); // Distance of closest approach, m\n",
"printf('\nThe distance of closest appproach of alpha particle : %4.2e m', D)\n",
"\n",
"// Result\n",
"// The distance of closest appproach of alpha particle : 4.15e-014 m"
   ]
   }
,
{
		   "cell_type": "markdown",
		   "metadata": {},
		   "source": [
			"## Example 1.4_7: Radius_of_Pb_208.sci"
		   ]
		  },
  {
"cell_type": "code",
	   "execution_count": null,
	   "metadata": {
	    "collapsed": true
	   },
	   "outputs": [],
"source": [
"// Scilab code Exa1.4.7 : Determination of radius of Pb-208 : Page 36 (2011)\n",
"A = 208; // Mass number of Pb-208\n",
"r0 = 1.2e-015; // Distance of closest approach, m\n",
"r = r0*((A)^(1/3)); // Radius of Pb-208, m\n",
"printf('\nThe radius of Pb-208 : %4.2e m', r)\n",
"\n",
"// Result\n",
"//    The radius of Pb-208 : 7.11e-015 m"
   ]
   }
,
{
		   "cell_type": "markdown",
		   "metadata": {},
		   "source": [
			"## Example 1.5_1: Binding_energy_of_alpha_particle.sci"
		   ]
		  },
  {
"cell_type": "code",
	   "execution_count": null,
	   "metadata": {
	    "collapsed": true
	   },
	   "outputs": [],
"source": [
"// Scilab code Exa1.5.1 : Calculation of binding energy of alpha particle and express in MeV and joule : Page 36 (2011)\n",
"amu = 931.49; // Atomic mass unit, MeV\n",
"M_p = 1.00758; // Mass of proton, amu\n",
"M_n = 1.00897;  // Mass of neutron, amu\n",
"M_He = 4.0028; // Mass of He nucleus, amu\n",
"Z = 2; // Atomic number\n",
"N = 2; // Number of neutron\n",
"M_defect = Z*M_p+N*M_n-M_He;    // Mass defect, amu\n",
"BE_MeV = M_defect*amu; // Binding energy, MeV\n",
"BE_J = M_defect*1.49239e-010;    // Binding energy, J\n",
"printf('\nThe binding energy (in MeV): %5.2f', BE_MeV)\n",
"printf('\nThe binding energy (in J): %4.2e', BE_J)\n",
"\n",
"// Result\n",
"// The binding energy (in MeV): 28.22\n",
"// The binding energy (in J): 4.52e-012 "
   ]
   }
,
{
		   "cell_type": "markdown",
		   "metadata": {},
		   "source": [
			"## Example 1.5_2: Dissociation_energy_of_C12.sci"
		   ]
		  },
  {
"cell_type": "code",
	   "execution_count": null,
	   "metadata": {
	    "collapsed": true
	   },
	   "outputs": [],
"source": [
"// Scilab code Exa1.5.2 : Calculation of energy required to break C-12 into 3-alpha particle : Page 37 (2011)\n",
"amu = 1.49239e-010; // Atomic mass unit, J\n",
"M_C = 12; // Mass of C-12, amu\n",
"M_a = 4.0026;    // Mass of alpha particle, amu\n",
"M_3a = 3*M_a; // Mass of 3 alpha particle, amu\n",
"D = M_C-M_3a; // Difference in two masses, amu\n",
"E = D*amu; // Required energy,J\n",
"printf('\nThe energy required to break 3 alpha particles : %4.2e J',E)\n",
"\n",
"// Result\n",
"// The energy required to break 3 alpha particles : -1.16e-012 J "
   ]
   }
,
{
		   "cell_type": "markdown",
		   "metadata": {},
		   "source": [
			"## Example 1.5_3: Dissociation_energy_of_helium_nucleus.sci"
		   ]
		  },
  {
"cell_type": "code",
	   "execution_count": null,
	   "metadata": {
	    "collapsed": true
	   },
	   "outputs": [],
"source": [
"// Scilab code Exa1.5.3 : Calculation of energy required to knock out nucleon from He nucleus : Page 37 (2011)\n",
"M_p = 1.007895; // Mass of proton, amu\n",
"M_n = 1.008665; // Mass of neutron, amu\n",
"M_He = 4.0026; // Mass of He-nucleus, amu\n",
"Z = 2; // Number of proton\n",
"N = 2; // Number of neutron\n",
"D_m = [(Z*M_p)+(N*M_n)-M_He]; // Mass defect, amu\n",
"amu = 931.49; // Atomic mass unit, MeV\n",
"E = D_m*amu; // Required energy, MeV\n",
"printf('\nThe energy required to knock out nucleons from the He nucleus = %5.2f MeV', E);\n",
"\n",
"// Result\n",
"// The energy required to knock out nucleons from the He nucleus = 28.43 MeV "
   ]
   }
,
{
		   "cell_type": "markdown",
		   "metadata": {},
		   "source": [
			"## Example 1.5_4: Binding_energy_of_Fe_56.sci"
		   ]
		  },
  {
"cell_type": "code",
	   "execution_count": null,
	   "metadata": {
	    "collapsed": true
	   },
	   "outputs": [],
"source": [
"// Scilab code Exa1.5.4 : To calculate binding energy of Fe-56 : Page 38 (2011)\n",
"M_Fe = 55.934939; // Mass of Fe-56, amu\n",
"M_p = 1.007825; // Mass of proton, amu\n",
"M_n = 1.008665; // Mass of neutron, amu\n",
"Z = 26; // Atomic number of Fe-56\n",
"N = 30; // Number of neutron in Fe-56\n",
"amu = 931.49; // Atomic mass unit, MeV\n",
"BE = [(Z*M_p)+(N*M_n)-M_Fe]*amu; // Binding energy of Fe-56, MeV\n",
"printf('\nThe binding energy of Fe-56 : %6.4f MeV',BE)\n",
"\n",
"// Result\n",
"// The binding energy of Fe-56 : 492.2561 MeV "
   ]
   }
,
{
		   "cell_type": "markdown",
		   "metadata": {},
		   "source": [
			"## Example 1.5_5: Mass_defect_and_packing_fraction.sci"
		   ]
		  },
  {
"cell_type": "code",
	   "execution_count": null,
	   "metadata": {
	    "collapsed": true
	   },
	   "outputs": [],
"source": [
"// Scilab code Exa1.5.5 : Calculation of mass defect and packing fraction from given data Page : 38 (2011)\n",
"amu = 931.49; // Atomic mass unit, MeV\n",
"M_p = 1.007825; // Mass of proton, amu\n",
"M_n = 1.008663;  // Mass of neutron, amu\n",
"A = 2;       // Mass number of deutron, amu\n",
"M_D = 2.014103;    // Mass of deuteron nucleus, amu\n",
"M_Defect = (M_p+M_n-M_D)*amu;     // Mass defect of the nucleus, MeV\n",
"P_fraction = (M_D - A)/A;     // Packing fraction of nucleus\n",
"printf('\n Mass defect      %4.2f MeV\n Packing fraction    %7.5f',M_Defect,P_fraction);\n",
"\n",
"// Result\n",
"//   Mass defect      2.22 MeV\n",
"//   Packing fraction    0.00705"
   ]
   }
,
{
		   "cell_type": "markdown",
		   "metadata": {},
		   "source": [
			"## Example 1.5_6: Average_binding_energy.sci"
		   ]
		  },
  {
"cell_type": "code",
	   "execution_count": null,
	   "metadata": {
	    "collapsed": true
	   },
	   "outputs": [],
"source": [
"// Scilab code Exa1.5.6 : To calculate binding energy per nucleon of He-4 nucleus : Page 38 (2011)\n",
"m_p = 1.007825; // Mass of proton, amu\n",
"m_n = 1.008665; // Mass of neutron, amu\n",
"m_He = 4.002634; // Mass of He-4 nucleus, amu\n",
"amu = 931.47; // Atomic mass unit, MeV\n",
"A = 4, // Mass number of He-4 nucleus\n",
"BE = [2*m_p+2*m_n-m_He]*amu; // Binding energy of He-4 nucleus, MeV\n",
"Av_BE = BE/A; // Average binding energy or binding energy per nucleon, MeV\n",
"printf('\nThe binding energy per nucleon : %4.2f MeV', Av_BE);\n",
"\n",
"// Result\n",
"// The binding energy per nucleon of He-4 is        \n",
"// The binding energy per nucleon : 7.07 MeV"
   ]
   }
,
{
		   "cell_type": "markdown",
		   "metadata": {},
		   "source": [
			"## Example 1.6_1: Orbital_angular_momentum_of_coupled_nucleons.sci"
		   ]
		  },
  {
"cell_type": "code",
	   "execution_count": null,
	   "metadata": {
	    "collapsed": true
	   },
	   "outputs": [],
"source": [
"// Scilab code Exa1.6.1 : Orbital angular momentum of coupled nucleons : Page 39  (2011)\n",
"l1 = 1;    // Orbital qunatum number for p-state nucleon\n",
"l2 = 2;    // Orbital qunatum number for d-state nucleon\n",
"// Display the value of L within the for loop\n",
"disp('The possible L values will be');\n",
"for i = abs(l1-l2):1:abs(l1+l2)        // Coupling of l-orbitals \n",
"    printf('\t %1d',i);\n",
"end\n",
"\n",
"// Result\n",
"// The possible L values will be   \n",
"//  1     2     3 "
   ]
   }
,
{
		   "cell_type": "markdown",
		   "metadata": {},
		   "source": [
			"## Example 1.6_2: Total_angular_momentum_of_proton.sci"
		   ]
		  },
  {
"cell_type": "code",
	   "execution_count": null,
	   "metadata": {
	    "collapsed": true
	   },
	   "outputs": [],
"source": [
"// Scilab code Exa1.6.2 : Total angular momentum of proton : Page 40  (2011)\n",
"// Get the l value from the user\n",
"l = 3;    // Orbital qunatum number for f-state proton\n",
"s = 1/2;    // Magnitude of spin quantum number\n",
"// Display the value of j within the for loop\n",
"disp('The j values will be between');\n",
"for i = abs(l-s):1:abs(l+s)        // l-s Coupling \n",
"    printf('\t %3.1f',i);\n",
"end\n",
"\n",
"// Result\n",
"// The j values will be between   \n",
"//  2.5     3.5 "
   ]
   }
],
"metadata": {
		  "kernelspec": {
		   "display_name": "Scilab",
		   "language": "scilab",
		   "name": "scilab"
		  },
		  "language_info": {
		   "file_extension": ".sce",
		   "help_links": [
			{
			 "text": "MetaKernel Magics",
			 "url": "https://github.com/calysto/metakernel/blob/master/metakernel/magics/README.md"
			}
		   ],
		   "mimetype": "text/x-octave",
		   "name": "scilab",
		   "version": "0.7.1"
		  }
		 },
		 "nbformat": 4,
		 "nbformat_minor": 0
}
