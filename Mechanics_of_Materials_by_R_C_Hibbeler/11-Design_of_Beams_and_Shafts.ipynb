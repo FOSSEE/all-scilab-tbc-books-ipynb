{
"cells": [
 {
		   "cell_type": "markdown",
	   "metadata": {},
	   "source": [
       "# Chapter 11: Design of Beams and Shafts"
	   ]
	},
{
		   "cell_type": "markdown",
		   "metadata": {},
		   "source": [
			"## Example 11.1: DBS1.sce"
		   ]
		  },
  {
"cell_type": "code",
	   "execution_count": null,
	   "metadata": {
	    "collapsed": true
	   },
	   "outputs": [],
"source": [
"clear all; clc;\n",
"\n",
"disp('Scilab Code Ex 11.1 : ')\n",
"\n",
"//Given:\n",
"sigma_allow = 170; //MPa\n",
"tou_allow = 100; //MPa\n",
"\n",
"//Shear and Moment Diagrams:\n",
"V_max = 90; //kN\n",
"M_max = 120; //kNm\n",
"\n",
"//Bending Stress:\n",
"S_reqd = (M_max*(10^3))/sigma_allow;\n",
"\n",
"W = [60 67 64 74 80 100];\n",
"S = [1120 1200 1030 1060 984 987];\n",
"\n",
"i = find(min(W));\n",
"S_chosen = S(i);\n",
"flag1 = 0;\n",
"flag2 = 0;\n",
"\n",
"if (S_reqd<S_chosen) \n",
"   flag1 =1; \n",
"end\n",
"\n",
"//Shear Stress:\n",
"d = 455; //mm\n",
"tw = 8; //mm\n",
"tou_avg = (V_max*10^3)/(d*tw);\n",
"\n",
"if(tou_avg<tou_allow)\n",
"    flag2 =1;\n",
"end\n",
"\n",
"if(flag1==1 & flag2==1)\n",
"    \n",
"    \n",
"     printf('\n\nUse a W460X60 standard shape.');\n",
"end\n",
"\n",
"//--------------------------------------------------------------------------END-------------------------------------------------------------------------------------\n",
"\n",
"\n",
"\n",
"\n",
"\n",
""
   ]
   }
,
{
		   "cell_type": "markdown",
		   "metadata": {},
		   "source": [
			"## Example 11.2: DBS2.sce"
		   ]
		  },
  {
"cell_type": "code",
	   "execution_count": null,
	   "metadata": {
	    "collapsed": true
	   },
	   "outputs": [],
"source": [
"clear all; clc;\n",
"\n",
"disp('Scilab Code Ex 11.2 : ')\n",
"\n",
"//Given:\n",
"l = 200/1000;//m\n",
"t = 30/1000;//m\n",
"sigma_allow = 12; //MPa\n",
"tou_allow = 0.8; //MPa\n",
"V_nail = 1.50; //kN\n",
"l_bc = 2; //m\n",
"l_cd = 2; //m\n",
"\n",
"//Shear and Moment Diagrams:\n",
"V_max = 1.5; //kN\n",
"M_max = 2; //kNm\n",
"\n",
"//Bending Stress:\n",
"y1 = l/2;\n",
"A1 = l*t;\n",
"y2 = l+(t/2);\n",
"A2 = t*l;\n",
"y_dash = (y1*A1 + y2*A2)/(A1 + A2);\n",
"\n",
"I1 = (t*l^3)/12 + (t*l*(y_dash - y1)^2);\n",
"I2 = (l*t^3)/12 + (t*l*(y2 - y_dash)^2);\n",
"I =I1 + I2;\n",
"\n",
"c = y_dash;\n",
"sigma = (M_max*c)/(I);\n",
"flag1 = 0;\n",
"sigma_allow = sigma_allow*1000; //kPa\n",
"\n",
"if(sigma<sigma_allow)\n",
"    flag1 = 1;\n",
"end\n",
"\n",
"//Shear Stress:\n",
"y3 = y_dash/2;\n",
"A3 = y_dash*t;\n",
"Q = y3*A3;\n",
"\n",
"tou = (V_max*Q)/(I*t);\n",
"tou_allow = tou_allow*1000; //kPa\n",
"flag2 =0;\n",
"\n",
"if(tou<tou_allow)\n",
"    flag2 = 1;\n",
"end\n",
"\n",
"//Nail Spacing:\n",
"y4a = (l+t-y_dash);\n",
"y4 = y4a - (t/2);\n",
"A4 = l*t;\n",
"Q4 = y4*A4;\n",
"V_bc = 1.5; //kN\n",
"V_cd = 1; //kN\n",
"\n",
"q_bc = (V_bc*Q4)/I;\n",
"q_cd = (V_cd*Q4)/I;\n",
"\n",
"s_bc = (V_nail)/(q_bc);\n",
"s_cd = (V_nail)/(q_cd);\n",
"\n",
"chosen_bc = 150; //mm\n",
"chosen_cd = 250; //mm\n",
"\n",
"if(flag1==1 & flag2==1)\n",
"     \n",
"    printf('\n\nThe design is safe in bending and shear.');\n",
"    printf('\nThe calculated nail spacing BC = %1.3f m',s_bc);\n",
"    printf('\nThe calculated nail spacing CD = %1.3f m',s_cd);\n",
"    printf('\nThe chosen nail spacing BC     = %1.0f mm',chosen_bc);\n",
"    printf('\nThe chosen nail spacing CD     = %1.0f mm',chosen_cd);\n",
"end\n",
"\n",
"//--------------------------------------------------------------------------END-------------------------------------------------------------------------------------\n",
"\n",
"\n",
"\n",
"\n",
"\n",
"\n",
"\n",
"\n",
"\n",
""
   ]
   }
,
{
		   "cell_type": "markdown",
		   "metadata": {},
		   "source": [
			"## Example 11.3: DBS3.sce"
		   ]
		  },
  {
"cell_type": "code",
	   "execution_count": null,
	   "metadata": {
	    "collapsed": true
	   },
	   "outputs": [],
"source": [
"clear all; clc;\n",
"\n",
"disp('Scilab Code Ex 11.3 : ')\n",
"\n",
"//Given:\n",
"udl = 12; //kN/m\n",
"h_by_a = 1.5;\n",
"sigma_allow = 9; //MPa\n",
"tou_allow = 0.6; //MPa\n",
"\n",
"//Shear and Moment Diagrams:\n",
"V_max = 20; //kN\n",
"M_max =10.67; //kNm\n",
"\n",
"//Bending Stress:\n",
"S_reqd = (M_max)/(sigma_allow*1000);\n",
"c = h_by_a/2;\n",
"a_cube = (S_reqd*c*12)/(1.5^3); //S_reqd = I/c\n",
"a = a_cube^(1/3);\n",
"\n",
" \n",
"A = a*h_by_a*a;\n",
"tou_max = (1.5*V_max)/(A*1000);\n",
"\n",
"\n",
"if(tou_max>tou_allow)\n",
"    a_sqr = (3/2)*(V_max)/(h_by_a*tou_allow*1000);\n",
"    a =sqrt(a_sqr);\n",
"end\n",
"\n",
"//Display:\n",
"\n",
"     printf('\n\nThe smallest width for the laminated wooden beam = %1.3f m', a);\n",
"\n",
"//----------------------------------------------------------------------END-----------------------------------------------------------------------------"
   ]
   }
,
{
		   "cell_type": "markdown",
		   "metadata": {},
		   "source": [
			"## Example 11.6: DBS6.sce"
		   ]
		  },
  {
"cell_type": "code",
	   "execution_count": null,
	   "metadata": {
	    "collapsed": true
	   },
	   "outputs": [],
"source": [
"clear all; clc;\n",
"\n",
"disp('Scilab Code Ex 11.6 : ')\n",
"\n",
"//Given:\n",
"tou_allow = 50*10^6; //MPa\n",
"T = 7.5; //Nm\n",
"R_ah = 150; //N\n",
"R_av = 475; //N\n",
"l_ac = 0.25; //m\n",
"\n",
"mc = R_ah*l_ac;\n",
"m = R_av*l_ac;\n",
"\n",
"M_c = sqrt(m^2 + mc^2);\n",
"\n",
"k = sqrt(M_c^2 + T^2);\n",
"c1 = (2*k)/(%pi*tou_allow);\n",
"c = c1^(1/3);\n",
"\n",
"d = 2*c*1000;\n",
"\n",
"//Display:\n",
"\n",
"     printf('\n\nThe smallest allowable diameter of the shaft = %1.1f mm', d);\n",
"\n",
"//----------------------------------------------------------------------END------------------------------------------------------------------------------"
   ]
   }
],
"metadata": {
		  "kernelspec": {
		   "display_name": "Scilab",
		   "language": "scilab",
		   "name": "scilab"
		  },
		  "language_info": {
		   "file_extension": ".sce",
		   "help_links": [
			{
			 "text": "MetaKernel Magics",
			 "url": "https://github.com/calysto/metakernel/blob/master/metakernel/magics/README.md"
			}
		   ],
		   "mimetype": "text/x-octave",
		   "name": "scilab",
		   "version": "0.7.1"
		  }
		 },
		 "nbformat": 4,
		 "nbformat_minor": 0
}
