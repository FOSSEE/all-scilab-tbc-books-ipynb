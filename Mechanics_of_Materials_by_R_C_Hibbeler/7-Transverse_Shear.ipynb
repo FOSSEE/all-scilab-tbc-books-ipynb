{
"cells": [
 {
		   "cell_type": "markdown",
	   "metadata": {},
	   "source": [
       "# Chapter 7: Transverse Shear"
	   ]
	},
{
		   "cell_type": "markdown",
		   "metadata": {},
		   "source": [
			"## Example 7.1: TS1.sce"
		   ]
		  },
  {
"cell_type": "code",
	   "execution_count": null,
	   "metadata": {
	    "collapsed": true
	   },
	   "outputs": [],
"source": [
"clear all; clc;\n",
"\n",
"disp('Scilab Code Ex 7.1 : ')\n",
"\n",
"//Given:\n",
"V = 3; //kN\n",
"h = 125; //mm\n",
"b = 100; //mm\n",
"y_top = 50; //mm\n",
"x_right = 37.5; //mm\n",
"\n",
"//Part (a):\n",
"\n",
"//Section Properties:\n",
"I = (b*h^3)/12;\n",
"y_dash_1 = ((h-y_top)-(h/2));\n",
"A = y_top*b;\n",
"Q = (y_dash_1+(y_top/2))*A;\n",
"\n",
"//Shear Stress:\n",
"tou_p = (V*Q)/(I*b); //tou = VQ/It\n",
"tou_p = tou_p*10^3;\n",
"\n",
"//Part (b):\n",
"\n",
"//Section Properties:\n",
"y_dash_2 = (y_dash_1+(y_top));\n",
"a_dash= b*y_dash_2;\n",
"Q_dash =(y_dash_2*a_dash)/2;\n",
"\n",
"//Shear Stress:\n",
"tou_max = (V*Q_dash)/(I*b);\n",
"tou_max = tou_max*10^3;\n",
"\n",
"//Display:\n",
"\n",
"printf('\n\nThe shear stress in the beam at point P    = %1.3f MPa',tou_p);\n",
"printf('\nThe maximum shear stress in the beam       = %1.3f MPa',tou_max);\n",
"\n",
"//----------------------------------------------------------------------END--------------------------------------------------------------------------------"
   ]
   }
,
{
		   "cell_type": "markdown",
		   "metadata": {},
		   "source": [
			"## Example 7.2: TS2.sce"
		   ]
		  },
  {
"cell_type": "code",
	   "execution_count": null,
	   "metadata": {
	    "collapsed": true
	   },
	   "outputs": [],
"source": [
"clear all; clc;\n",
"\n",
"disp('Scilab Code Ex 7.2 : ')\n",
"\n",
"//Given:\n",
"V = 80; //kN\n",
"thick_1 = 20/1000; //m\n",
"thick_2 = 15/1000; //m\n",
"l = 300/1000; //m\n",
"y = 100/1000; //m\n",
"h = 2*y;\n",
"y_dash = y +thick_1/2;\n",
"\n",
"//Part(a):\n",
"\n",
"I1 = (thick_2*(h^3))/12;\n",
"I2 = (l*(thick_1^3))/12;\n",
"I3 = (l*thick_1*(y_dash)^2);\n",
"I = I1+2*(I2+I3); //Moment of inertia\n",
"\n",
"Q_b = y_dash*l*thick_1;\n",
"//At B'\n",
"tou_b_dash = (V*Q_b)/(I*l*1000);\n",
"//At B\n",
"tou_b = (V*Q_b)/(I*thick_2*1000);\n",
"\n",
"//At C:\n",
"Q_c = (y_dash*l*thick_1)+(y*thick_2*y/2);\n",
"tou_c = (V*Q_c)/(I*thick_2*1000);\n",
"\n",
"//Part(b)\n",
"\n",
"\n",
"y0 = -0.1;\n",
"y1 = 0.1;\n",
"\n",
"function Q =f(y),Q = ((0.735 - (7.5*y*y))*10^-3),\n",
"endfunction\n",
"Int =intg(y0,y1,f)\n",
"\n",
"V_w = (V*Int*thick_2)/(I*thick_2);\n",
"\n",
"//Display:\n",
"\n",
"printf('\n\nThe shear stress at B dash             = %1.2f MPa',tou_b_dash);\n",
"printf('\nThe shear stress at B                  = %1.1f MPa',tou_b);\n",
"printf('\nThe shear stress at C                  = %1.1f MPa',tou_c);\n",
"printf('\nThe shear force resisted by the web    = %1.1f kN',V_w);\n",
"\n",
"//------------------------------------------------------------------------END----------------------------------------------------------------------------------"
   ]
   }
,
{
		   "cell_type": "markdown",
		   "metadata": {},
		   "source": [
			"## Example 7.3: TS3.sce"
		   ]
		  },
  {
"cell_type": "code",
	   "execution_count": null,
	   "metadata": {
	    "collapsed": true
	   },
	   "outputs": [],
"source": [
"clear all; clc;\n",
"\n",
"disp('Scilab Code Ex 7.3 : ')\n",
"\n",
"//Given:\n",
"udl = 6.5; //kN\n",
"l_bc = 8; //m\n",
"l = 150/1000;//m\n",
"t = 30/1000;//m\n",
"\n",
"//Internal Shear:\n",
"w = udl*l_bc/2;\n",
"l_wc = l_bc/4;\n",
"l_bw = l_bc - l_wc;\n",
"V = (w*l_bw)/l_bc;\n",
"R_b = w - V;\n",
"\n",
"//Section Properties:\n",
"y1= l/2;\n",
"A = (l*t);\n",
"y2= l+(t/2);\n",
"y_dash = (y1*A + y2*A)/(2*A);\n",
"I1 = (t*l^3)/12;\n",
"I2 = (A*(y_dash-y1)^2);\n",
"I3 = (l*t^3)/12;\n",
"I4 = (A*(y2 - y_dash)^2);\n",
"I = I1+I2+I3+I4;\n",
"\n",
"Q = ((l+t)-(t/2)-y_dash)*A;\n",
"\n",
"//Shear Stress:\n",
"tou_max = (V*Q)/(I*t*1000);\n",
"\n",
"//Display:\n",
"\n",
"printf('\n\nThe maximum shear stress in the glue necessary to hold the boards together    = %1.2f MPa',tou_max);\n",
"\n",
"\n",
"//----------------------------------------------------------------------END--------------------------------------------------------------------------------"
   ]
   }
,
{
		   "cell_type": "markdown",
		   "metadata": {},
		   "source": [
			"## Example 7.4: TS4.sce"
		   ]
		  },
  {
"cell_type": "code",
	   "execution_count": null,
	   "metadata": {
	    "collapsed": true
	   },
	   "outputs": [],
"source": [
"clear all; clc;\n",
"\n",
"disp('Scilab Code Ex 7.4 : ')\n",
"\n",
"//Given:\n",
"\n",
"V = 850; //kN\n",
"l1 =250/1000; //m\n",
"l2 = 300/1000; //m\n",
"l3 = 125/1000;//m\n",
"t = 10/1000; //m\n",
"h = 200/1000; //m\n",
"\n",
"A1 = l1*t;\n",
"A2 = l2*t;\n",
"A3 = l3*t;\n",
"\n",
"y1 = l2+(t/2);\n",
"y2 = l2/2;\n",
"y3 = h+(t/2);\n",
"\n",
"y_dash = (2*y2*A2 + A1*y1 + A3*y3)/(2*A2 + A1 + A3);\n",
"\n",
"I1 = ((l1*t^3)/12) +(A1 * (l2+(t/2)-y_dash)^2);\n",
"I2 = ((t*l2^3)/12) +(A2 * (y_dash - (l2/2))^2);\n",
"I3 = ((l3*t^3)/12) +(A1 * (h+(t/2)-y_dash)^2);\n",
"I = 2*I2 + I1 + I3;\n",
"\n",
"Q_b = (l2+(t/2) - y_dash)*A1; //Q = y'A'\n",
"Q_c = (h+(t/2) - y_dash)*A3; //Q = y'A'\n",
"\n",
"//Shear Flow:\n",
"\n",
"q_b = (V*Q_b)/I;\n",
"q_c = (V*Q_c)/I;\n",
"\n",
"q_b = q_b/(2*1000);\n",
"q_c = q_c/(2*1000);\n",
"\n",
"//Display:\n",
"\n",
"printf('\n\nThe shear flow at B, resisted by the glue is    = %1.2f MN/m',q_b);\n",
"printf('\nThe shear flow at C, resisted by the glue is    = %1.4f MN/m',q_c);\n",
"\n",
"\n",
"\n",
"\n",
"//----------------------------------------------------------------------END--------------------------------------------------------------------------------"
   ]
   }
,
{
		   "cell_type": "markdown",
		   "metadata": {},
		   "source": [
			"## Example 7.5: TS5.sce"
		   ]
		  },
  {
"cell_type": "code",
	   "execution_count": null,
	   "metadata": {
	    "collapsed": true
	   },
	   "outputs": [],
"source": [
"clear all; clc;\n",
"\n",
"disp('Scilab Code Ex 7.5 : ')\n",
"\n",
"//Given:\n",
"V = 80; //N\n",
"t = 1.5; //cm\n",
"a = 7.5; //cm\n",
"b = a-2*t; //cm\n",
"F_nail= 30; //N\n",
"\n",
"//Section Properties:\n",
"I = (a*a^3 - b*b^3 )/12;\n",
"Q_b = (((a-2*t)/2)+(t/2))*a*t; //Q = y'A'\n",
"Q_c = (((a-2*t)/2)+(t/2))*(a-2*t)*t; //Q = y'A'\n",
"\n",
"//Shear Flow:\n",
"q_b = (V*Q_b)/I;\n",
"q_c = (V*Q_c)/I;\n",
"\n",
"s_b = F_nail/(q_b/2);\n",
"s_c = F_nail/(q_c/2);\n",
"\n",
"//Display:\n",
"\n",
"\n",
"printf('\n\nThe maximum spacing of nails required at B is    = %1.0f cm',s_b);\n",
"printf('\nThe maximum spacing of nails required at C is    = %1.1f cm',s_c);\n",
"\n",
"\n",
"\n",
"//----------------------------------------------------------------------END--------------------------------------------------------------------------------"
   ]
   }
,
{
		   "cell_type": "markdown",
		   "metadata": {},
		   "source": [
			"## Example 7.6: TS6.sce"
		   ]
		  },
  {
"cell_type": "code",
	   "execution_count": null,
	   "metadata": {
	    "collapsed": true
	   },
	   "outputs": [],
"source": [
"clear all; clc;\n",
"\n",
"disp('Scilab Code Ex 7.6 : ')\n",
"\n",
"//Given:\n",
"F = 40; //N\n",
"s = 9; //cm\n",
"h = 5; //cm\n",
"t = 0.5; //cm\n",
"w = 3; //cm\n",
"w_3 = w/3; //cm\n",
"\n",
"//Calculations:\n",
"\n",
"I = (w*h^3)/12 - (2*w_3*(h - 2*t)^3)/12;\n",
"\n",
"//Case 1:\n",
"\n",
"Q1 = ((h-t)/2)*(w*t);\n",
"V1 =((F/s)*I)/Q1 ;  //q = VQ/I\n",
"\n",
"//Case2:\n",
"\n",
"Q2 = ((h-t)/2)*(w_3*t);\n",
"V2 =((F/s)*I)/Q2 ;  //q = VQ/I\n",
"\n",
"//Display:\n",
"\n",
"\n",
"printf('\n\nThe largest vertical shear that can be supported in Case 1    = %1.1f N',V1);\n",
"printf('\nThe largest vertical shear that can be supported in Case 2    = %1.1f N',V2);\n",
"\n",
"//-------------------------------------------------------------------------END---------------------------------------------------------------------------------------"
   ]
   }
,
{
		   "cell_type": "markdown",
		   "metadata": {},
		   "source": [
			"## Example 7.7: TS7.sce"
		   ]
		  },
  {
"cell_type": "code",
	   "execution_count": null,
	   "metadata": {
	    "collapsed": true
	   },
	   "outputs": [],
"source": [
"clear all; clc;\n",
"\n",
"disp('Scilab Code Ex 7.7 : ')\n",
"\n",
"//Given:\n",
"V = 10; //kN\n",
"b1 = 6; //cm\n",
"h1 = 8; //cm\n",
"t = 1; //cm\n",
"b2 = b1-2*t;\n",
"h2 = h1-2*t; //cm\n",
"b3 = 4; //cm\n",
"\n",
"//Calculations:\n",
"I = ((b1*h1^3)/12) - ((b2*h2^3)/12);\n",
"\n",
"q_b = 0;\n",
"\n",
"Q_c = ((b1/2)+(t/2))*(b3+(t))*t; \n",
"q_c = (V*Q_c*100)/(I); //Q = VQ/I\n",
"\n",
"Q_d = (2*h1/4*t*b3) + ((b1/2)+(t/2))*b3*t;\n",
"q_d = (V*Q_d*100)/(I); //Q = VQ/I\n",
"\n",
"//Display:\n",
"\n",
"\n",
"printf('\n\nVariation of shear flow at B  = %1.1f N/mm',q_b);\n",
"printf('\nVariation of shear flow at C  = %1.1f N/mm',q_c);\n",
"printf('\nVariation of shear flow at D  = %1.1f N/mm',q_d);\n",
"\n",
"//-------------------------------------------------------------------------END---------------------------------------------------------------------------------------\n",
""
   ]
   }
],
"metadata": {
		  "kernelspec": {
		   "display_name": "Scilab",
		   "language": "scilab",
		   "name": "scilab"
		  },
		  "language_info": {
		   "file_extension": ".sce",
		   "help_links": [
			{
			 "text": "MetaKernel Magics",
			 "url": "https://github.com/calysto/metakernel/blob/master/metakernel/magics/README.md"
			}
		   ],
		   "mimetype": "text/x-octave",
		   "name": "scilab",
		   "version": "0.7.1"
		  }
		 },
		 "nbformat": 4,
		 "nbformat_minor": 0
}
