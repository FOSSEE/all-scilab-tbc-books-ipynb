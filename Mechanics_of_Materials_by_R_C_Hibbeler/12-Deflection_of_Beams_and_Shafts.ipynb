{
"cells": [
 {
		   "cell_type": "markdown",
	   "metadata": {},
	   "source": [
       "# Chapter 12: Deflection of Beams and Shafts"
	   ]
	},
{
		   "cell_type": "markdown",
		   "metadata": {},
		   "source": [
			"## Example 12.10: DefBS10.sce"
		   ]
		  },
  {
"cell_type": "code",
	   "execution_count": null,
	   "metadata": {
	    "collapsed": true
	   },
	   "outputs": [],
"source": [
"clear all; clc;\n",
"\n",
"disp('Scilab Code Ex 12.10 : ')\n",
"\n",
"//Given:\n",
"E = 200*10^6; //kN/m^2\n",
"I = 17*10^-6;//mm^4\n",
"l_ac = 2; //m\n",
"l_cF = 4; //m\n",
"l_Fb = 2; //m\n",
"l_cb = 6; //m\n",
"l_aF = 6; //m\n",
"l_ab = 8; //m\n",
"F = 16; //kN\n",
"R_b = (F*l_cb)/l_ab;\n",
"R_a = F - R_b;\n",
"\n",
"mc = R_a*l_ac;\n",
"mf = R_b*l_Fb;\n",
"theta_ca = (0.5*l_ac*mc)/(E*I);\n",
"\n",
"A1 = 0.5*l_aF*mf;\n",
"t1_ba = (l_Fb + l_aF/3)*(A1);\n",
"\n",
"A2 = 0.5*l_Fb*mf;\n",
"t2_ba = (l_Fb*2*A2)/3;\n",
"\n",
"t_ba = (t1_ba+t2_ba)/(E*I);\n",
"\n",
"theta_c = (t_ba/l_ab)-(theta_ca);\n",
"\n",
"//Display:\n",
"\n",
"printf('\n\nThe slope at point C of the steel beam    = %1.5f rad',theta_c);\n",
"\n",
"\n",
"//----------------------------------------------------------------------END--------------------------------------------------------------------------------\n",
""
   ]
   }
,
{
		   "cell_type": "markdown",
		   "metadata": {},
		   "source": [
			"## Example 12.12: DefBS12.sce"
		   ]
		  },
  {
"cell_type": "code",
	   "execution_count": null,
	   "metadata": {
	    "collapsed": true
	   },
	   "outputs": [],
"source": [
"clear all; clc;\n",
"\n",
"disp('Scilab Code Ex 12.12 : ')\n",
"\n",
"//Given:\n",
"E = 200; //kN/m^2\n",
"I = 50*10^6;//mm^4\n",
"l_ab = 4; //m\n",
"l_bc = 4; //m\n",
"l_ac = l_ab+l_bc;\n",
"R_a = -25; //kN\n",
"R_b = 50; //kN\n",
"R_c = 25; //kN\n",
"\n",
"mb = R_a*l_ab;\n",
"\n",
"//Moment-Area Theorem:\n",
"\n",
"t_ca = (l_ab*0.5*l_ac*mb*(10^3)^3)/(E*I);\n",
"t_ba = (l_ab*0.5*l_ab*mb*(10^3)^3)/(E*I*3);\n",
"\n",
"del_c = -t_ca + 2*t_ba;\n",
"\n",
"//Display:\n",
"\n",
"printf('\n\nThe displacement at point C for the steel overhanging beam    = %1.1f mm',del_c);\n",
"\n",
"\n",
"//----------------------------------------------------------------------END--------------------------------------------------------------------------------\n",
"\n",
"\n",
""
   ]
   }
,
{
		   "cell_type": "markdown",
		   "metadata": {},
		   "source": [
			"## Example 12.13: DefBS13.sce"
		   ]
		  },
  {
"cell_type": "code",
	   "execution_count": null,
	   "metadata": {
	    "collapsed": true
	   },
	   "outputs": [],
"source": [
"clear all; clc;\n",
"\n",
"disp('Scilab Code Ex 12.13 : ')\n",
"\n",
"//Given:\n",
"w = 2; //kN/m\n",
"L = 8; //m\n",
"P = 8; //kN\n",
"\n",
"//Calculations:\n",
"EI_theta_A1 = (3*w*L^3)/(128); //ThetaA1 = (3wL^3)/(128EI)\n",
"EI_nu_C1 = (5*w*L^4)/(768); //NuC1 = (5wL^4)/(768EI)\n",
"\n",
"EI_theta_A2 = (P*L^2)/(16); //theta_A2 = (PL^2)/(16EI)\n",
"EI_nu_C2 = (P*L^3)/(48); //nu_C2 = (PL^3)/(48EI)\n",
"\n",
"theta_A = EI_theta_A1 + EI_theta_A2;\n",
"nu_C = EI_nu_C1 + EI_nu_C2;\n",
"\n",
"//Display:\n",
"\n",
"printf('\n\nThe slope at A in terms of EI                = %1.0f/EI  kNm^2',theta_A);\n",
"printf('\nThe displacement at point C in terms of EI   = %1.0f/EI  kNm^3',nu_C);\n",
"\n",
"//----------------------------------------------------------------------END--------------------------------------------------------------------------------\n",
""
   ]
   }
,
{
		   "cell_type": "markdown",
		   "metadata": {},
		   "source": [
			"## Example 12.14: DefBS14.sce"
		   ]
		  },
  {
"cell_type": "code",
	   "execution_count": null,
	   "metadata": {
	    "collapsed": true
	   },
	   "outputs": [],
"source": [
"clear all; clc;\n",
"\n",
"disp('Scilab Code Ex 12.14 : ')\n",
"\n",
"//Given:\n",
"w = 5; //kN/m\n",
"l_ab = 4; //m\n",
"l_bc = 2; //m\n",
"P = 10; //kN\n",
"M = w*l_ab; //kNm\n",
"\n",
"//Calculations:\n",
"EI_theta_B1 = (w*l_ab^3)/(24); //ThetaB1 = (wL^3)/(24EI)\n",
"EI_nu_C1 = l_bc*EI_theta_B1;\n",
"\n",
"EI_theta_B2 = (M*l_ab)/(3); //\n",
"EI_nu_C2 = l_bc*EI_theta_B2;\n",
"\n",
"EI_nu_C3 = (P*l_bc^3)/(3); //nuC3 = (PL^3)/(24EI)\n",
"\n",
"nu_C = -EI_nu_C1 + EI_nu_C2 + EI_nu_C3;\n",
"\n",
"//Display:\n",
"\n",
"printf('\n\nThe displacement at end C of the overhanging beam, in terms of EI   = %1.1f/EI kNm^3',nu_C);\n",
"\n",
"//----------------------------------------------------------------------END--------------------------------------------------------------------------------\n",
"\n",
""
   ]
   }
,
{
		   "cell_type": "markdown",
		   "metadata": {},
		   "source": [
			"## Example 12.15: DefBS15.sce"
		   ]
		  },
  {
"cell_type": "code",
	   "execution_count": null,
	   "metadata": {
	    "collapsed": true
	   },
	   "outputs": [],
"source": [
"clear all; clc;\n",
"\n",
"disp('Scilab Code Ex 12.15 : ')\n",
"\n",
"//Given:\n",
"w = 4; //kN/m\n",
"l = 10; //m\n",
"l_bc =3; //m\n",
"\n",
"//Calculations:\n",
"EI_theta_B = (w*l^3)/(24); //ThetaB1 = (wL^3)/(24EI)\n",
"EI_nu_B = (w*l^4)/(30); //nuB = (wL^4)/(30EI)\n",
"\n",
"nu_C = EI_nu_B + (EI_theta_B*l_bc);\n",
"\n",
"//Display:\n",
"\n",
"printf('\n\nThe displacement at end C of the cantilever beam, in terms of EI   = %1.0f/EI kNm^3',nu_C);\n",
"\n",
"//----------------------------------------------------------------------END--------------------------------------------------------------------------------\n",
"\n",
"\n",
""
   ]
   }
,
{
		   "cell_type": "markdown",
		   "metadata": {},
		   "source": [
			"## Example 12.16: DefBS16.sce"
		   ]
		  },
  {
"cell_type": "code",
	   "execution_count": null,
	   "metadata": {
	    "collapsed": true
	   },
	   "outputs": [],
"source": [
"clear all; clc;\n",
"\n",
"disp('Scilab Code Ex 12.16 : ')\n",
"\n",
"//Given:\n",
"k = 45; //kN/m\n",
"F = 3; //kN\n",
"E = 200*10^6; //kPa\n",
"l_ab = 3; //m\n",
"l_ac = 1; //m\n",
"l_cb = 2; //m\n",
"I = 4.687*10^-6; //m^4\n",
"R_a = (F*l_cb)/(l_ab);\n",
"R_b = F-R_a;\n",
"\n",
"//Calculations:\n",
"nu_a = (R_a)/k;\n",
"nu_b = (R_b)/k;\n",
"\n",
"nu_c1 = nu_b + (l_cb/l_ab)*(nu_a - nu_b);\n",
"nu_c2 = ((F*l_ac*l_cb)*(l_ab^2 - l_ac^2 - l_cb^2))/(6*E*I*l_ab);\n",
"\n",
"nu_c = nu_c1 + nu_c2;\n",
"nu_C = nu_c*1000;\n",
"\n",
"//Display:\n",
"\n",
"printf('\n\nThe vertical displacement of the force at C   = %1.3f mm',nu_C);\n",
"\n",
"//----------------------------------------------------------------------END--------------------------------------------------------------------------------\n",
"\n",
""
   ]
   }
,
{
		   "cell_type": "markdown",
		   "metadata": {},
		   "source": [
			"## Example 12.21: DefBS21.sce"
		   ]
		  },
  {
"cell_type": "code",
	   "execution_count": null,
	   "metadata": {
	    "collapsed": true
	   },
	   "outputs": [],
"source": [
"clear all; clc;\n",
"\n",
"disp('Scilab Code Ex 12.21 : ')\n",
"\n",
"//Given:\n",
"l = 3; //m\n",
"l_af = l/2; //m\n",
"P = 8; //kN\n",
"w = 6; //kN/m\n",
"\n",
"//Compatibility Equation:\n",
"EI_nu_b1 = (w*l^4)/8 + (5*P*l^3)/48; //nu_b = (wl^4)/8EI + (5Pl^3)/48EI\n",
"EI_nu_b2 = (l^3)/3;\n",
"\n",
"B_y = EI_nu_b1 / EI_nu_b2;\n",
"\n",
"//Display:\n",
"\n",
"printf('\n\nThe reactions at roller support B    = %1.2f kN',B_y);\n",
"\n",
"\n",
"//----------------------------------------------------------------------END--------------------------------------------------------------------------------"
   ]
   }
,
{
		   "cell_type": "markdown",
		   "metadata": {},
		   "source": [
			"## Example 12.22: DefBS22.sce"
		   ]
		  },
  {
"cell_type": "code",
	   "execution_count": null,
	   "metadata": {
	    "collapsed": true
	   },
	   "outputs": [],
"source": [
"clear all; clc;\n",
"\n",
"disp('Scilab Code Ex 12.22 : ')\n",
"\n",
"//Given:\n",
"l = 8; //m\n",
"l_ab = l/2; //m\n",
"l_bc = l/2; //m\n",
"l_af = l_ab/2; //m\n",
"b = 12/1000; //m\n",
"w = 24; //kN/m\n",
"E = 200*10^6; //Kn/m^2\n",
"I = 80*10^-6;// m^4\n",
"\n",
"//Compatibility Equation:\n",
"nu_b = (5*w*l^4)/(768*E*I); //nu_b = (5wl^4)/768EI\n",
"nu_b_byBy = (l^3)/(48*E*I); //nu_b' = (Pl^3)/48EI\n",
"\n",
"B_y = (nu_b-b)/nu_b_byBy;\n",
"\n",
"C_y = ((w*l_ab*l_af) - (B_y*l_ab))/l;\n",
"\n",
"A_y = (w*l_ab - B_y - C_y);\n",
"\n",
"//Display:\n",
"\n",
"printf('\n\nThe reaction at A    = %1.0f kN',A_y);\n",
"printf('\nThe reaction at B    = %1.0f kN',B_y);\n",
"printf('\nThe reaction at C    = %1.0f kN',C_y);\n",
"\n",
"\n",
"//----------------------------------------------------------------------END--------------------------------------------------------------------------------\n",
""
   ]
   }
,
{
		   "cell_type": "markdown",
		   "metadata": {},
		   "source": [
			"## Example 12.23: DefBS23.sce"
		   ]
		  },
  {
"cell_type": "code",
	   "execution_count": null,
	   "metadata": {
	    "collapsed": true
	   },
	   "outputs": [],
"source": [
"clear all; clc;\n",
"\n",
"disp('Scilab Code Ex 12.23 : ')\n",
"\n",
"//Given:\n",
"d = 12; //mm\n",
"E = 210; //GPa\n",
"I = 186*10^6; //mm^4\n",
"P = 40; //kN\n",
"l_bc = 3; //m\n",
"l_ab = 4;//m\n",
"l = 5; //m\n",
"\n",
"//Compatibility Equation: nuB'' = nuB - nuB'\n",
"A = (%pi/4)*(d^2);\n",
"\n",
"nuB1_by_Fbc = (l_bc*1000)/(A*E*1000); //nuB'' = PL/AE\n",
"nuB2 = (5*P*1000*(l_ab*1000)^3)/(48*E*1000*I); //nuB = (5PL^3)/(48EI)\n",
"nuB2_by_Fbc = ((l*1000)^3)/(3*E*1000*I); //nuB' = (PL^3)/(3EI)\n",
"\n",
"F_bc = (nuB2)/(nuB1_by_Fbc + nuB2_by_Fbc );\n",
"F_bc = F_bc/1000; //in kN\n",
"\n",
"//Display:\n",
"\n",
"printf('\n\nThe force in the rod due to loading    = %1.3f kN',F_bc);\n",
"\n",
"\n",
"//----------------------------------------------------------------------END--------------------------------------------------------------------------------\n",
"\n",
"\n",
""
   ]
   }
,
{
		   "cell_type": "markdown",
		   "metadata": {},
		   "source": [
			"## Example 12.24: DefBS24.sce"
		   ]
		  },
  {
"cell_type": "code",
	   "execution_count": null,
	   "metadata": {
	    "collapsed": true
	   },
	   "outputs": [],
"source": [
"clear all; clc;\n",
"\n",
"disp('Scilab Code Ex 12.24 : ')\n",
"\n",
"//Given:\n",
"l_ab = 4; //m\n",
"l = l_ab/2;\n",
"w = 9; //kN/m\n",
"\n",
"//Compatibility Equations:\n",
"\n",
"EI_thetaB = (w*l_ab^3)/(48); //thetaB = (wL^3)/(48EI)\n",
"EI_nuB = (7*w*l_ab^4)/(384); //nuB = (7wl^4)/(384EI)\n",
"\n",
"//Only redundant By applied:\n",
"EI_thetaB_by_By = (l_ab^2)/(2); //thetaB' = (PL^2)/(2EI)\n",
"EI_nuB_by_By = (l_ab^3)/(3); //nuB' = (PL^3)/(3EI)\n",
"\n",
"//Only redundant Mb is applied:\n",
"EI_thetaB_by_Mb = l_ab; //thetaB'' = (ML)/(EI)\n",
"EI_nuB_by_Mb = (l_ab^2)/(2); //nuB'' = (ML^2)/(2EI)\n",
"\n",
"//Solving for By and Mb using matrices:\n",
"\n",
"A = [EI_thetaB_by_By EI_thetaB_by_Mb; EI_nuB_by_By EI_nuB_by_Mb ];\n",
"b = [-EI_thetaB; -EI_nuB ] ;\n",
"moments = A\b;\n",
"\n",
"By = moments(1);\n",
"Mb = moments(2);\n",
"\n",
"//Display:\n",
"\n",
"printf('\n\nThe vertical force at B for the beam    = %1.3f kN',By);\n",
"printf('\nThe moment at B for the beam            = %1.2f kNm',Mb);\n",
"\n",
"//----------------------------------------------------------------------END--------------------------------------------------------------------------------\n",
"\n",
"\n",
"\n",
""
   ]
   }
,
{
		   "cell_type": "markdown",
		   "metadata": {},
		   "source": [
			"## Example 12.6: DefBS6.sce"
		   ]
		  },
  {
"cell_type": "code",
	   "execution_count": null,
	   "metadata": {
	    "collapsed": true
	   },
	   "outputs": [],
"source": [
"\n",
"clear all; clc;\n",
"\n",
"disp('Scilab Code Ex 12.6 : ')\n",
"\n",
"//Display:\n",
"    printf('\n\nRefer to the relation derived in the book.');\n",
"     \n",
"//-----------------------------------------------------------------END--------------------------------------------------------------------------\n",
""
   ]
   }
],
"metadata": {
		  "kernelspec": {
		   "display_name": "Scilab",
		   "language": "scilab",
		   "name": "scilab"
		  },
		  "language_info": {
		   "file_extension": ".sce",
		   "help_links": [
			{
			 "text": "MetaKernel Magics",
			 "url": "https://github.com/calysto/metakernel/blob/master/metakernel/magics/README.md"
			}
		   ],
		   "mimetype": "text/x-octave",
		   "name": "scilab",
		   "version": "0.7.1"
		  }
		 },
		 "nbformat": 4,
		 "nbformat_minor": 0
}
