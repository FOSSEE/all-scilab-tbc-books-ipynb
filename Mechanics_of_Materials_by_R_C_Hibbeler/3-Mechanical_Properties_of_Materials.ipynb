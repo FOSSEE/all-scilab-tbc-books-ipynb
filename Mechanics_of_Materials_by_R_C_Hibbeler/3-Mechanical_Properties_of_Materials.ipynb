{
"cells": [
 {
		   "cell_type": "markdown",
	   "metadata": {},
	   "source": [
       "# Chapter 3: Mechanical Properties of Materials"
	   ]
	},
{
		   "cell_type": "markdown",
		   "metadata": {},
		   "source": [
			"## Example 3.1: MPM1.sce"
		   ]
		  },
  {
"cell_type": "code",
	   "execution_count": null,
	   "metadata": {
	    "collapsed": true
	   },
	   "outputs": [],
"source": [
"clear all; clc;\n",
"\n",
"disp('Scilab Code Ex 3.1 : ')\n",
"\n",
"//Given:\n",
"offset = 0.2; //%\n",
"a_x = 0.0016; //mm/mm\n",
"a_y = 345; //Mpa\n",
"\n",
"//Refer to the given graph.\n",
"\n",
"//Calculations:\n",
"\n",
"//Modulus of Elasticity\n",
"E = a_y/(a_x*10^3); //E is the slope in GPa.\n",
"\n",
"//Yield Strength:\n",
"sigma_ys = 469; //Graphically, for a strain of 0.002mm/mm\n",
"\n",
"//Ultimate Stress:\n",
"sigma_u = 745.2; //Mpa B is the peak of stress strain graph.\n",
"\n",
"//Fracture Stress:\n",
"ep_f = 0.23; //mm/mm\n",
"sigma_f = 621; //Mpa from the graph.\n",
"\n",
"//Display:\n",
"\n",
"printf('\n\nThe Modulus of Elasticity is          = %10.1f GPa',E);\n",
"printf('\nThe Yield Strength from the graph     =    %0.2f MPa',sigma_ys);\n",
"printf('\nThe Ultimate Stress from the graph is =%10.1f MPa',sigma_u);\n",
"printf('\nThe Fracture Stress from the graph is =%10.1f MPa',sigma_f);\n",
"\n",
"//-------------------------------------------------------------------------END----------------------------------------------------------------------------------\n",
"\n",
""
   ]
   }
,
{
		   "cell_type": "markdown",
		   "metadata": {},
		   "source": [
			"## Example 3.2: MPM2.sce"
		   ]
		  },
  {
"cell_type": "code",
	   "execution_count": null,
	   "metadata": {
	    "collapsed": true
	   },
	   "outputs": [],
"source": [
"clear all; clc;\n",
"\n",
"disp('Scilab Code Ex 3.2 : ')\n",
"\n",
"//Given:\n",
"stress_b = 600; //MPa\n",
"strain_b = 0.023; //mm/mm\n",
"stress_a = 450; //Mpa\n",
"strain_a = 0.006; //mm/mm\n",
"\n",
"//Calculations:\n",
"\n",
"//Permanent Strain:\n",
"E = stress_a/strain_a;\n",
"strain_cd = stress_b/E; //The recovered elastic strain\n",
"perm_strain = strain_b - strain_cd; //mm/mm\n",
"\n",
"//Modulus of Resilience:\n",
"ur_initial = (0.5*stress_a*strain_a);//MJ/m^3\n",
"ur_final = (0.5*stress_b*strain_cd); //MJ/m^3\n",
"\n",
"//Display:\n",
"\n",
"printf('\n\nThe Permanent Strain is              =%10.5f mm/mm',perm_strain);\n",
"printf('\nThe Initial Modulus of Resilience is = %0.2f MJ/mm^3',ur_initial);\n",
"printf('\nThe Final Modulus of Resilience is   = %0.2f MJ/mm^3',ur_final);\n",
"\n",
"\n",
"//------------------------------------------------------------------------------END-------------------------------------------------------------------------------"
   ]
   }
,
{
		   "cell_type": "markdown",
		   "metadata": {},
		   "source": [
			"## Example 3.3: MPM3.sce"
		   ]
		  },
  {
"cell_type": "code",
	   "execution_count": null,
	   "metadata": {
	    "collapsed": true
	   },
	   "outputs": [],
"source": [
"clear all; clc;\n",
"\n",
"disp('Scilab Code Ex 3.3 : ')\n",
"\n",
"//Given:\n",
"p = 10000; //N\n",
"E_al = 70*(10^3); //MPa\n",
"l_ab = 600; //mm\n",
"d_ab = 20; //mm\n",
"l_bc = 400; //mm\n",
"d_bc = 15; //mm\n",
"\n",
"//Calculations:\n",
"\n",
"a_ab = (%pi/4)*(d_ab^2);// Area of AB\n",
"a_bc = (%pi/4)*(d_bc^2);\n",
"stress_ab = p/a_ab;// Stress = load/area\n",
"stress_bc = p/a_bc;\n",
"\n",
"e_ab = stress_ab/E_al; //Hookes's Law. Elastic strain.\n",
"e_bc = 0.045; //mm/mm . From the graph for stress_bc\n",
"\n",
"elongation = (l_ab*e_ab)+ (l_bc*e_bc);\n",
"strain_rec = stress_bc/E_al; //Strain Recovery\n",
"\n",
"e_og = e_bc-strain_rec;// mm/mm\n",
"rod_elong = e_og*l_bc;\n",
"\n",
"//Display:\n",
"\n",
"printf('\n\nThe elongation of the rod when load is applied           =%10.1f mm',elongation);\n",
"printf('\nThe permanent elongation of the rod when load is removed = %0.1f mm',rod_elong);\n",
"\n",
"//-------------------------------------------------------------------------END----------------------------------------------------------------------------------"
   ]
   }
,
{
		   "cell_type": "markdown",
		   "metadata": {},
		   "source": [
			"## Example 3.4: MPM4.sce"
		   ]
		  },
  {
"cell_type": "code",
	   "execution_count": null,
	   "metadata": {
	    "collapsed": true
	   },
	   "outputs": [],
"source": [
"clear all; clc;\n",
"\n",
"disp('Scilab Code Ex 3.4 : ')\n",
"\n",
"//Given:\n",
"P = 80; //kN\n",
"l_z = 1.5; //m\n",
"l_y = 0.05;//m\n",
"l_x = 0.1; //m\n",
"\n",
"//Calculations:\n",
"A= l_x*l_y;\n",
"normal_stress_z = (P*(10^3))/A; //Pa\n",
"\n",
"Est = 200; //GPa - from the tables.\n",
"strain_z = (normal_stress_z)/(Est*(10^9)); // Strain = stress/modulus of elasticity\n",
"\n",
"axial_elong = strain_z*l_z; //elongation in the y direction\n",
"\n",
"nu_st = 0.32; //Poisson's Ratio - from the tables.\n",
"strain_x = -(nu_st)*(strain_z); //strain in the x direction.\n",
"strain_y = strain_x;\n",
"\n",
"//Elongations:\n",
"delta_x = strain_x*l_x;\n",
"delta_y = strain_y*l_y;\n",
"\n",
"//Display:\n",
"\n",
"printf('\n\nThe change in the length (z direction)       = %10.8f m',axial_elong);\n",
"printf('\nThe change in the cross section (x direction)= %10.8f m',delta_x);\n",
"printf('\nThe change in the cross section (y direction)= %10.8f m',delta_y);\n",
"\n",
"printf('\n\nIn the standard form:')\n",
"printf('\nThe change in the length (z direction)       =  %10.2f x10^6m',(axial_elong*10^6));\n",
"printf('\nThe change in the cross section (x direction)= %10.2f x10^6m',(delta_x*10^6));\n",
"printf('\nThe change in the cross section (y direction)= %10.2f x10^6m',(delta_y*10^6));\n",
"\n",
"//----------------------------------------------------------------------------END------------------------------------------------------------------------\n",
""
   ]
   }
,
{
		   "cell_type": "markdown",
		   "metadata": {},
		   "source": [
			"## Example 3.5: MPM5.sce"
		   ]
		  },
  {
"cell_type": "code",
	   "execution_count": null,
	   "metadata": {
	    "collapsed": true
	   },
	   "outputs": [],
"source": [
"clear all; clc;\n",
"\n",
"disp('Scilab Code Ex 3.5 : ')\n",
"\n",
"//Given:\n",
"//Refer to the graph of shear stress-strain of titanium alloy.\n",
"x_A = 0.008; //rad - x co-ordinate of A\n",
"y_A = 360; //MPa - y co-ordinate of A\n",
"height = 50;//mm\n",
"l = 75; //mm\n",
"b = 100; //mm\n",
"\n",
"\n",
"//Calculations:\n",
"\n",
"//Shear Modulus:\n",
"G = y_A/x_A;\n",
"\n",
"//Proportional Limit:\n",
"tou_pl = 360; //Mpa Point A\n",
"\n",
"//Ultimate Stresss:\n",
"tou_u = 504; //MPa - Max shear stress at B\n",
"\n",
"//Maximum Elastic Displacement:\n",
"tanA= x_A;// tan theta is approximated as theta.\n",
"d = tanA*height;\n",
"\n",
"//Shear Force:\n",
"A = l*b;\n",
"V = tou_pl*A;\n",
"\n",
"//Display:\n",
"\n",
"\n",
"printf('\n\nThe Shear Modulus                = %10.2f MPa',G);\n",
"printf('\nThe Proportional Limit           = %10.2f Mpa',tou_pl);\n",
"printf('\nThe Ultimate Shear Stress        = %10.2f MPa ',tou_u);\n",
"printf('\nThe Maximum Elastic Displacement = %10.2f mm',d);\n",
"printf('\nThe Shear Force                  = %10.2f kN ',(V/1000));\n",
"\n",
"//------------------------------------------------------------------END---------------------------------------------------------------------------\n",
"\n",
"\n",
""
   ]
   }
,
{
		   "cell_type": "markdown",
		   "metadata": {},
		   "source": [
			"## Example 3.6: MPM6.sce"
		   ]
		  },
  {
"cell_type": "code",
	   "execution_count": null,
	   "metadata": {
	    "collapsed": true
	   },
	   "outputs": [],
"source": [
"clear all; clc;\n",
"\n",
"disp('Scilab Code Ex 3.6 : ')\n",
"\n",
"//Given:\n",
"d_o = 0.025; //m\n",
"l_o =0.25; //m\n",
"F =165; //kN\n",
"delta = 1.2; //mm\n",
"G_al = 26; //GPa\n",
"sigma_y = 440; //MPa\n",
"\n",
"//Calculations:\n",
"\n",
"//Modulus of Elasticity:\n",
"A = (%pi/4)*(d_o^2);\n",
"avg_normal_stress = (F*10^3)/A;\n",
"avg_normal_strain = delta/l_o;\n",
"E_al = avg_normal_stress/ avg_normal_strain;\n",
"\n",
"E_al = E_al/10^6;\n",
"\n",
"//Contraction of Diameter:\n",
"nu = (E_al/(2*G_al))-1;\n",
"strain_lat = nu*(avg_normal_strain) ;\n",
"d_contraction = strain_lat* d_o ;\n",
"\n",
"\n",
"//Display:\n",
"\n",
"printf('\n\nThe Modulus of Elasticity                    = %10.1f GPa',E_al);\n",
"printf('\nThe contraction in diameter due to the force = %10.4f mm',d_contraction);\n",
"\n",
"//------------------------------------------------------------------------------END----------------------------------------------------------------------------------------"
   ]
   }
],
"metadata": {
		  "kernelspec": {
		   "display_name": "Scilab",
		   "language": "scilab",
		   "name": "scilab"
		  },
		  "language_info": {
		   "file_extension": ".sce",
		   "help_links": [
			{
			 "text": "MetaKernel Magics",
			 "url": "https://github.com/calysto/metakernel/blob/master/metakernel/magics/README.md"
			}
		   ],
		   "mimetype": "text/x-octave",
		   "name": "scilab",
		   "version": "0.7.1"
		  }
		 },
		 "nbformat": 4,
		 "nbformat_minor": 0
}
