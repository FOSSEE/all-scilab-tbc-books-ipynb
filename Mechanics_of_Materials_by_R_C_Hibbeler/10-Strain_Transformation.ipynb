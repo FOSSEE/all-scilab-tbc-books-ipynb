{
"cells": [
 {
		   "cell_type": "markdown",
	   "metadata": {},
	   "source": [
       "# Chapter 10: Strain Transformation"
	   ]
	},
{
		   "cell_type": "markdown",
		   "metadata": {},
		   "source": [
			"## Example 10.10: StnT10.sce"
		   ]
		  },
  {
"cell_type": "code",
	   "execution_count": null,
	   "metadata": {
	    "collapsed": true
	   },
	   "outputs": [],
"source": [
"clear all; clc;\n",
"\n",
"disp('Scilab Code Ex 10.10 : ')\n",
"\n",
"//Given:\n",
"a = 300; //mm\n",
"b = 50; //mm\n",
"t = 20; //mm\n",
"E_cu = 120*10^3; //MPa\n",
"nu_cu = 0.34;// Poisson's ratio\n",
"\n",
"//By inspection:\n",
"sigma_x = 800; //MPa\n",
"sigma_y = -500; //MPa\n",
"tou_xy = 0;\n",
"sigma_z = 0;\n",
"\n",
"//By Hooke's Law:\n",
"ep_x = (sigma_x/E_cu) - (nu_cu/E_cu)*(sigma_y + sigma_z);\n",
"ep_y = (sigma_y/E_cu) - (nu_cu/E_cu)*(sigma_x + sigma_z);\n",
"ep_z = (sigma_z/E_cu) - (nu_cu/E_cu)*(sigma_y + sigma_x);\n",
"\n",
"//New lengths:\n",
"\n",
"a_dash = a + ep_x*a;\n",
"b_dash = b + ep_y*b;\n",
"t_dash = t + ep_z*t;\n",
"\n",
"//Display:\n",
"\n",
"printf('\n\nThe new length     = %1.2fmm ',a_dash);\n",
"printf('\nThe new width      = %1.2f mm ',b_dash);\n",
"printf('\nThe new thickness  = %1.2f mm ',t_dash);\n",
"//--------------------------------------------------------------------------END--------------------------------------------------------------------------------------\n",
"\n",
"\n",
"\n",
""
   ]
   }
,
{
		   "cell_type": "markdown",
		   "metadata": {},
		   "source": [
			"## Example 10.11: StnT11.sce"
		   ]
		  },
  {
"cell_type": "code",
	   "execution_count": null,
	   "metadata": {
	    "collapsed": true
	   },
	   "outputs": [],
"source": [
"clear all; clc;\n",
"\n",
"disp('Scilab Code Ex 10.11 : ')\n",
"\n",
"//Given:\n",
"p = 20; //kPa\n",
"E = 600; //kPa\n",
"nu = 0.45\n",
"a = 4; //cm\n",
"b = 2; //cm\n",
"c = 3; //cm\n",
"\n",
"//Dilatation:\n",
"sigma_x = -p;\n",
"sigma_y = -p;\n",
"sigma_z = -p;\n",
"\n",
"e = ((1-2*nu)/E)*(sigma_x + sigma_y + sigma_z);\n",
"\n",
"//Change in Length:\n",
"ep = (sigma_x - nu*(sigma_y + sigma_z))/E;\n",
"\n",
"del_a = ep*a;\n",
"del_b = ep*b;\n",
"del_c = ep*c;\n",
"\n",
"//Display:\n",
"\n",
"printf('\n\nThe change in length a      = %1.4fcm ',del_a);\n",
"printf('\nThe change in length b      = %1.5fcm ',del_b);\n",
"printf('\nThe change in length c      = %1.4fcm ',del_c);\n",
"//--------------------------------------------------------------------------END--------------------------------------------------------------------------------------\n",
"\n",
""
   ]
   }
,
{
		   "cell_type": "markdown",
		   "metadata": {},
		   "source": [
			"## Example 10.12: StnT12.sce"
		   ]
		  },
  {
"cell_type": "code",
	   "execution_count": null,
	   "metadata": {
	    "collapsed": true
	   },
	   "outputs": [],
"source": [
"clear all; clc;\n",
"\n",
"disp('Scilab Code Ex 10.12 : ')\n",
"\n",
"//Given:\n",
"di = 60/1000; //m\n",
"ri = di/2;\n",
"d0 = 80/1000;//m\n",
"ro = d0/2;\n",
"T = 8000;//Nm\n",
"M = 3500; //Nm\n",
"sigma_y_sqr = 250^2; //MPa\n",
"\n",
"//Calculations:\n",
"c = ro;\n",
"J = (%pi/2)*(ro^4 - ri^4)*(10^6);\n",
"I = (%pi/4)*(ro^4 - ri^4)*(10^6);\n",
"tou_a = (T*c)/J;\n",
"sigma_a = (M*c)/I;\n",
"\n",
"sigma_avg = (0-sigma_a)/2;\n",
"\n",
"R = sqrt(116.4^2 + sigma_avg^2);\n",
"sigma1 = sigma_avg + R;\n",
"sigma2 = sigma_avg - R;\n",
"\n",
"test = (sigma1^2 - (sigma1*sigma2) + sigma2^2);\n",
"\n",
"\n",
"if(test<sigma_y_sqr)\n",
"    printf('\n\nThe material within the pipe will not yield.');\n",
"end\n",
"\n",
"//-----------------------------------------------------------------------END---------------------------------------------------------------------------------"
   ]
   }
,
{
		   "cell_type": "markdown",
		   "metadata": {},
		   "source": [
			"## Example 10.13: StnT13.sce"
		   ]
		  },
  {
"cell_type": "code",
	   "execution_count": null,
	   "metadata": {
	    "collapsed": true
	   },
	   "outputs": [],
"source": [
"clear all; clc;\n",
"\n",
"disp('Scilab Code Ex 10.13 : ')\n",
"\n",
"//Given:\n",
"T = 400; //Nm\n",
"sigma_ult = 150*10^6; //N/m^2\n",
"\n",
"//Calculations:\n",
"\n",
"x = T/(%pi/2);\n",
"r_3 = [x/sigma_ult];\n",
"r = nthroot(r_3, 3);\n",
"r= r*1000; //in mm\n",
"\n",
"//Display:\n",
"\n",
"printf('\n\nThe smallest radius of the solid cast iron shaft     = %1.2fmm ',r);\n",
"\n",
"//--------------------------------------------------------------------------END--------------------------------------------------------------------------------------\n",
"\n",
""
   ]
   }
,
{
		   "cell_type": "markdown",
		   "metadata": {},
		   "source": [
			"## Example 10.14: StnT14.sce"
		   ]
		  },
  {
"cell_type": "code",
	   "execution_count": null,
	   "metadata": {
	    "collapsed": true
	   },
	   "outputs": [],
"source": [
"clear all; clc;\n",
"\n",
"disp('Scilab Code Ex 10.14 : ')\n",
"\n",
"//Given:\n",
"r = 0.5; //cm\n",
"sigma_yield = 360; //MPa\n",
"T = 3.25; //kN/cm\n",
"A= (%pi*r^2);\n",
"P = 15; //kN\n",
"J = (%pi/2)*(r^4);\n",
"sigma_y_sqr = sigma_yield^2;\n",
"\n",
"//Calculations:\n",
"sigma_x = -(P/A)*10;\n",
"sigma_y = 0;\n",
"tou_xy = (T*r*10)/J;\n",
"\n",
"k = (sigma_x + sigma_y)/2;\n",
"R = sqrt(k^2 + (tou_xy^2));\n",
"\n",
"sigma1 = k+R;\n",
"sigma2 = k-R;\n",
"l = sigma1 - sigma2;\n",
"\n",
"//Maximum Shear Stress Theory:\n",
"test1 = abs(l);\n",
"\n",
"if(test1 >= sigma_yield)\n",
"    \n",
"    printf('\n\nFailure occurs by Maximum Shear Stress Theory.');\n",
"end\n",
"\n",
"\n",
"//Maximum Distortion-Energy Theory:\n",
"test2 = (sigma1^2 - (sigma1*sigma2) + sigma2^2);\n",
"\n",
"\n",
"if(test2<sigma_y_sqr)\n",
" \n",
"    printf('\n\nFailure will not occur by Maximum Distortion-Energy Theory.');\n",
"end"
   ]
   }
,
{
		   "cell_type": "markdown",
		   "metadata": {},
		   "source": [
			"## Example 10.1: StnT1.sce"
		   ]
		  },
  {
"cell_type": "code",
	   "execution_count": null,
	   "metadata": {
	    "collapsed": true
	   },
	   "outputs": [],
"source": [
"clear all; clc;\n",
"\n",
"disp('Scilab Code Ex 10.1 : ')\n",
"\n",
"//Given:\n",
"ep_x = 500; //Normal Strain\n",
"ep_y = -300; //Normal Strain\n",
"gamma_xy = 200; //Shear Strain\n",
"theta = 30*(%pi/180);\n",
"theta = theta*-1;\n",
"\n",
"ep_x_new = ((ep_x+ep_y)/2) + ((ep_x - ep_y)/2)*cos(2*theta) + (gamma_xy/2)*sin(2*theta);\n",
"\n",
"gamma_xy_new = -((ep_x - ep_y)/2)*sin(2*theta) + (gamma_xy/2)*cos(2*theta);\n",
"gamma_xy_new = 2*gamma_xy_new;\n",
"\n",
"phi = 60*(%pi/180);\n",
"ep_y_new = (ep_x+ep_y)/2 + ((ep_x - ep_y)/2)*cos(2*phi) + (gamma_xy/2)*sin(2*phi);\n",
"\n",
"//Display:\n",
"\n",
"\n",
"printf('\n\nThe equivalent strain acting on the element in the x plain oriented at 30 degrees clockwise    = %1.1f *10^-6',ep_x_new);\n",
"printf('\nThe equivalent strain acting on the element in the y plain oriented at 30 degrees clockwise    = %1.1f *10^-6',ep_y_new);\n",
"printf('\nThe equivalent shear strain acting on the element                                              = %1.0f *10^-6',gamma_xy_new);\n",
"\n",
"//----------------------------------------------------------------------END--------------------------------------------------------------------------------\n",
"\n",
""
   ]
   }
,
{
		   "cell_type": "markdown",
		   "metadata": {},
		   "source": [
			"## Example 10.2: StnT2.sce"
		   ]
		  },
  {
"cell_type": "code",
	   "execution_count": null,
	   "metadata": {
	    "collapsed": true
	   },
	   "outputs": [],
"source": [
"clear all; clc;\n",
"\n",
"disp('Scilab Code Ex 10.2 : ')\n",
"\n",
"//Given:\n",
"ep_x = -350;//(*10^-6) Normal Strain\n",
"ep_y = 200; //*(10^-6) Normal Strain\n",
"gamma_xy = 80; //*(10^-6) Shear Strain\n",
"\n",
"//Orientation of the element:\n",
"tan_thetap = (gamma_xy)/(ep_x - ep_y);\n",
"thetap1 = (0.5)*(atan(tan_thetap));\n",
"\n",
"//Principal Strains:\n",
"\n",
"k = (ep_x + ep_y)/2;\n",
"l = (ep_x - ep_y)/2;\n",
"tou = gamma_xy/2;\n",
"R = sqrt( (l)^2 + tou^2);\n",
"ep1 = R + k;\n",
"ep2 = k -R ;\n",
"ep = [ep1 ep2];\n",
"\n",
"ep_x1 = k + l*cos(2*thetap1)+ tou*sin(2*thetap1);\n",
"thetap1 = thetap1*(180/%pi);\n",
"thetap2 = (90 + thetap1);\n",
"thetap =[thetap1 thetap2];\n",
"\n",
"\n",
"//Display:\n",
"\n",
"printf('\n\nThe orientation of the element in the positive counterclockwise direction    = %1.2f degrees, %1.2f  degrees ',thetap);\n",
"printf('\nThe principal strains are                                                    = %1.0f *10^-6 , %1.0f *10^-6 ',ep);\n",
"printf('\nThe principal strain in the new x direction is                               = %1.0f *10^-6 ',ep_x1);\n",
"\n",
"//----------------------------------------------------------------------END---------------------------------------------------------------------------------------"
   ]
   }
,
{
		   "cell_type": "markdown",
		   "metadata": {},
		   "source": [
			"## Example 10.3: StnT3.sce"
		   ]
		  },
  {
"cell_type": "code",
	   "execution_count": null,
	   "metadata": {
	    "collapsed": true
	   },
	   "outputs": [],
"source": [
"clear all; clc;\n",
"\n",
"disp('Scilab Code Ex 10.3 : ')\n",
"\n",
"//Given:\n",
"ep_x = -350;//(*10^-6) Normal Strain\n",
"ep_y = 200; //*(10^-6) Normal Strain\n",
"gamma_xy = 80; //*(10^-6) Shear Strain\n",
"\n",
"//Orientation of the element:\n",
"tan_thetap = -(ep_x - ep_y)/(gamma_xy);\n",
"thetap1 = (0.5)*(atan(tan_thetap));\n",
"\n",
"//Maximum in-plane shear strain:\n",
"\n",
"l = (ep_x - ep_y)/2;\n",
"tou = gamma_xy/2;\n",
"R = sqrt( l^2 + tou^2);\n",
"max_inplane_strain = 2*R;\n",
"\n",
"gamma_xy_1 = (-l*sin(2*thetap1)+ tou*cos(2*thetap1))*2;\n",
"strain_avg = (ep_x + ep_y)/2;\n",
"\n",
"thetap1 = thetap1*(180/%pi);\n",
"thetap2 = (90 + thetap1);\n",
"thetap =[thetap1 thetap2];\n",
"\n",
"//Display:\n",
"\n",
"printf('\n\nThe orientation of the element            = %1.1f degrees, %1.1f  degrees ',thetap);\n",
"printf('\nThe maximum in-plane shear strain         = %1.0f *10^-6 ',max_inplane_strain);\n",
"printf('\nThe average strain                        = %1.0f *10^-6 ',strain_avg);\n",
"\n",
"//--------------------------------------------------------------------------END--------------------------------------------------------------------------------------"
   ]
   }
,
{
		   "cell_type": "markdown",
		   "metadata": {},
		   "source": [
			"## Example 10.4: StnT4.sce"
		   ]
		  },
  {
"cell_type": "code",
	   "execution_count": null,
	   "metadata": {
	    "collapsed": true
	   },
	   "outputs": [],
"source": [
"clear all; clc;\n",
"\n",
"disp('Scilab Code Ex 10.4 : ')\n",
"\n",
"//Given:\n",
"ep_x = 250;//(*10^-6) Normal Strain\n",
"ep_y = -150; //*(10^-6) Normal Strain\n",
"gamma_xy = 120; //*(10^-6) Shear Strain\n",
"\n",
"//Construction of the circle:\n",
"strain_avg = (ep_x + ep_y)/2;\n",
"tou = gamma_xy/2;\n",
"R = sqrt((ep_x - strain_avg)^2 + (tou^2));\n",
"\n",
"//Principal Strains:\n",
"ep1 = (strain_avg + R);\n",
"ep2 = (strain_avg - R);\n",
"strain = [ep1 ep2];\n",
"\n",
"tan_thetap = (tou)/(ep_x - strain_avg);\n",
"thetap1 = (atan(tan_thetap))/2;\n",
"thetap1 = thetap1*(180/%pi);\n",
"\n",
"//Display:\n",
"\n",
"printf('\n\nThe principal strains are              = %1.0f *10^-6, %1.0f*10^-6 ',strain);\n",
"printf('\nThe orientation of the element         = %1.2f degrees',thetap1);\n",
"printf('\nThe average strain                     = %1.0f *10^-6 ',strain_avg);\n",
"\n",
"//--------------------------------------------------------------------------END--------------------------------------------------------------------------------------\n",
"\n",
"\n",
""
   ]
   }
,
{
		   "cell_type": "markdown",
		   "metadata": {},
		   "source": [
			"## Example 10.5: StnT5.sce"
		   ]
		  },
  {
"cell_type": "code",
	   "execution_count": null,
	   "metadata": {
	    "collapsed": true
	   },
	   "outputs": [],
"source": [
"clear all; clc;\n",
"\n",
"disp('Scilab Code Ex 10.5 : ')\n",
"\n",
"//Given:\n",
"ep_x = 250;//(*10^-6) Normal Strain\n",
"ep_y = -150; //*(10^-6) Normal Strain\n",
"gamma_xy = 120; //*(10^-6) Shear Strain\n",
"\n",
"//Orientation of the element:\n",
"thetas = 90 - 2*8.35;\n",
"thetas1 = thetas/2;\n",
"\n",
"//Maximum in-plane shear strain:\n",
"\n",
"l = (ep_x - ep_y)/2;\n",
"tou = gamma_xy/2;\n",
"R = sqrt( l^2 + tou^2);\n",
"max_inplane_strain = 2*R;\n",
"\n",
"\n",
"strain_avg = (ep_x + ep_y)/2;\n",
"\n",
"\n",
"//Display:\n",
"\n",
"printf('\n\nThe orientation of the element            = %1.1f degrees ',thetas1);\n",
"printf('\nThe maximum in-plane shear strain         = %1.0f *10^-6 ',max_inplane_strain);\n",
"printf('\nThe average strain                        = %1.0f *10^-6 ',strain_avg);\n",
"\n",
"//--------------------------------------------------------------------------END--------------------------------------------------------------------------------------"
   ]
   }
,
{
		   "cell_type": "markdown",
		   "metadata": {},
		   "source": [
			"## Example 10.6: StnT6.sce"
		   ]
		  },
  {
"cell_type": "code",
	   "execution_count": null,
	   "metadata": {
	    "collapsed": true
	   },
	   "outputs": [],
"source": [
"clear all; clc;\n",
"\n",
"disp('Scilab Code Ex 10.6 : ')\n",
"\n",
"//Given:\n",
"ep_x = -300;//(*10^-6) Normal Strain\n",
"ep_y = -100; //*(10^-6) Normal Strain\n",
"gamma_xy = 100; //*(10^-6) Shear Strain\n",
"theta = 20; //degrees\n",
"\n",
"\n",
"//Construction of the circle:\n",
"strain_avg = (ep_x+ ep_y)/2;\n",
"tou = gamma_xy/2;\n",
"R = sqrt((-ep_x + strain_avg)^2 + tou^2);\n",
"\n",
"//Strains on Inclined Element:\n",
"theta1 = 2*theta;\n",
"\n",
"phi = atan((tou)/(-ep_x +strain_avg));\n",
"phi = phi*(180/%pi);\n",
"psi = theta1 - phi;\n",
"psi = psi*(%pi/180);\n",
"\n",
"ep_x1 = -(-strain_avg+ R*cos(psi));\n",
"gamma_xy1 = -(R*sin(psi))*2;\n",
"\n",
"ep_y1 = -(-strain_avg - R*cos(psi));\n",
"\n",
"//Display:\n",
"\n",
"printf('\n\nThe normal strain in the new x direction       = %1.0f *10^-6 ',ep_x1);\n",
"printf('\nThe normal strain in the new y direction       = %1.1f *10^-6 ',ep_y1);\n",
"printf('\nThe shear strain in the new xy direction       = %1.0f *10^-6 ',gamma_xy1);\n",
"printf('\nThe average strain                             = %1.0f *10^-6 ',strain_avg);\n",
"\n",
"//--------------------------------------------------------------------------END--------------------------------------------------------------------------------------\n",
"\n",
"\n",
"\n",
""
   ]
   }
,
{
		   "cell_type": "markdown",
		   "metadata": {},
		   "source": [
			"## Example 10.7: StnT7.sce"
		   ]
		  },
  {
"cell_type": "code",
	   "execution_count": null,
	   "metadata": {
	    "collapsed": true
	   },
	   "outputs": [],
"source": [
"clear all; clc;\n",
"\n",
"disp('Scilab Code Ex 10.7 : ')\n",
"\n",
"//Given:\n",
"ep_x = -400;//(*10^-6) Normal Strain\n",
"ep_y = 200; //*(10^-6) Normal Strain\n",
"gamma_xy = 150; //*(10^-6) Shear Strain\n",
"\n",
"//Maximum in-plane Shear Strain:\n",
"strain_avg = (ep_x+ ep_y)/2;\n",
"tou = gamma_xy/2;\n",
"\n",
"R = sqrt((-ep_x + strain_avg)^2 + tou^2); \n",
"strain_max = strain_avg + R;\n",
"strain_min = strain_avg - R;\n",
"\n",
"max_shear_strain = strain_max - strain_min;\n",
"\n",
"//Absolute Maximum Shear Strain:\n",
"abs_max_shear = max_shear_strain;\n",
"\n",
"//Display:\n",
"\n",
"printf('\n\nThe maximum in-plane principal strain     = %1.0f *10^-6 ',strain_max);\n",
"printf('\nThe minimum in-plane principal strain     = %1.0f *10^-6 ',strain_min);\n",
"printf('\nThe maximum in-plane shear strain         = %1.0f *10^-6 ',max_shear_strain);\n",
"printf('\nThe absolute maximum shear strain         = %1.0f *10^-6 ',abs_max_shear);\n",
"printf('\nThe average strain                        = %1.0f *10^-6 ',strain_avg);\n",
"//--------------------------------------------------------------------------END--------------------------------------------------------------------------------------\n",
"\n",
""
   ]
   }
,
{
		   "cell_type": "markdown",
		   "metadata": {},
		   "source": [
			"## Example 10.8: StnT8.sce"
		   ]
		  },
  {
"cell_type": "code",
	   "execution_count": null,
	   "metadata": {
	    "collapsed": true
	   },
	   "outputs": [],
"source": [
"clear all; clc;\n",
"\n",
"disp('Scilab Code Ex 10.8 : ')\n",
"\n",
"//Given:\n",
"ep_a = 60;//(*10^-6) Normal Strain\n",
"ep_b = 135; //*(10^-6) Normal Strain\n",
"ep_c = 264; //*(10^-6) Normal Strain\n",
"\n",
"theta_a = 0;\n",
"theta_b = 60*(%pi/180);\n",
"theta_c = 120*(%pi/180);\n",
"\n",
"//Using matrices to solve the equations: \n",
"a1 = (cos(theta_a))^2;\n",
"b1 = (sin(theta_a))^2;\n",
"c1 = cos(theta_a)*sin(theta_a);\n",
"\n",
"a2 = (cos(theta_b))^2;\n",
"b2 = (sin(theta_b))^2;\n",
"c2 = cos(theta_b)*sin(theta_b);\n",
"\n",
"a3 = (cos(theta_c))^2;\n",
"b3 = (sin(theta_c))^2;\n",
"c3 = cos(theta_c)*sin(theta_c);\n",
"\n",
"A = [a1 b1 c1 ; a2 b2 c2; a3 b3 c3 ]\n",
"b = [ep_a ; ep_b ; ep_c];\n",
"strain = A\b;\n",
"\n",
"ep_x = strain(1);\n",
"ep_y = strain(2);\n",
"gamma_xy = strain(3);\n",
"\n",
"strain_avg = (ep_x + ep_y )/2;\n",
"tou = gamma_xy/2;\n",
"\n",
"R = sqrt((-ep_x + strain_avg)^2 + tou^2); \n",
"\n",
"ep1 = strain_avg + R;\n",
"ep2 = strain_avg - R;\n",
"ep = [ep1 ep2];\n",
"\n",
"tan_thetap =atan(-tou/(-ep_x + strain_avg));\n",
"thetap = tan_thetap/2;\n",
"thetap2 = thetap*(180/%pi);\n",
"\n",
"//Display:\n",
"\n",
"\n",
"printf('\n\nThe maximum in-plane principal strains are     = %1.0f *10^-6 , %1.1f *10^-6',ep);\n",
"printf('\nThe angle of orientation                       = %1.1f degrees',thetap2);\n",
"\n",
"//--------------------------------------------------------------------------END--------------------------------------------------------------------------------------\n",
"\n",
"\n",
" \n",
" \n",
"\n",
"\n",
"\n",
"\n",
""
   ]
   }
,
{
		   "cell_type": "markdown",
		   "metadata": {},
		   "source": [
			"## Example 10.9: StnT9.sce"
		   ]
		  },
  {
"cell_type": "code",
	   "execution_count": null,
	   "metadata": {
	    "collapsed": true
	   },
	   "outputs": [],
"source": [
"clear all; clc;\n",
"\n",
"disp('Scilab Code Ex 10.9 : ')\n",
"\n",
"//Given:\n",
"E_st = 200*10^9; //GPa\n",
"nu_st = 0.3; //Poisson's ratio\n",
"ep1 = 272 *10^-6;\n",
"ep2 = 33.8 *10^-6;\n",
"\n",
"//Solving for sigma using matrices:\n",
"A = [1 -nu_st; -nu_st 1];\n",
"b = [(ep1*E_st) ; (ep2*E_st)];\n",
"sigma = A\b;\n",
"\n",
"sigma1= sigma(1)/(10^6);\n",
"sigma2= sigma(2)/(10^6);\n",
"\n",
"//Display:\n",
"\n",
"printf('\n\nThe principal stresses at point A are    = %1.0f MPa , %1.1f MPa',sigma1, sigma2);\n",
"\n",
"\n",
"//--------------------------------------------------------------------------END--------------------------------------------------------------------------------------\n",
""
   ]
   }
],
"metadata": {
		  "kernelspec": {
		   "display_name": "Scilab",
		   "language": "scilab",
		   "name": "scilab"
		  },
		  "language_info": {
		   "file_extension": ".sce",
		   "help_links": [
			{
			 "text": "MetaKernel Magics",
			 "url": "https://github.com/calysto/metakernel/blob/master/metakernel/magics/README.md"
			}
		   ],
		   "mimetype": "text/x-octave",
		   "name": "scilab",
		   "version": "0.7.1"
		  }
		 },
		 "nbformat": 4,
		 "nbformat_minor": 0
}
