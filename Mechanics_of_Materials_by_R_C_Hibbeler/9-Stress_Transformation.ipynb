{
"cells": [
 {
		   "cell_type": "markdown",
	   "metadata": {},
	   "source": [
       "# Chapter 9: Stress Transformation"
	   ]
	},
{
		   "cell_type": "markdown",
		   "metadata": {},
		   "source": [
			"## Example 9.10: ST10.sce"
		   ]
		  },
  {
"cell_type": "code",
	   "execution_count": null,
	   "metadata": {
	    "collapsed": true
	   },
	   "outputs": [],
"source": [
"clear all; clc;\n",
"\n",
"disp('Scilab Code Ex 9.10 : ')\n",
"\n",
"//Given:\n",
"sigma_x = -20; //MPa\n",
"sigma_y = 90; //MPa\n",
"tou_xy = 60; //MPa\n",
"\n",
"//Construction of the circle:\n",
"sigma_avg = (sigma_x+sigma_y)/2;\n",
"R = sqrt(((sigma_x-sigma_avg))^2 + (tou_xy)^2);\n",
"\n",
"//Maximum In plane Shear Stress:\n",
"tou_max = R;\n",
"\n",
"theta_s1 = atan(-(sigma_x - sigma_avg)/(tou_xy));\n",
"theta_s1 = theta_s1/2*(180/%pi);\n",
"\n",
"//Display:\n",
"\n",
"printf('\n\nThe maximum in-plane shear stresses are   = %1.1f  MPa',tou_max);\n",
"printf('\n                                          = %1.1f  MPa',sigma_avg);\n",
"printf('\nThe orientation of the element is         = %1.1f  degrees',theta_s1);\n",
"\n",
"//----------------------------------------------------------------------END--------------------------------------------------------------------------------\n",
""
   ]
   }
,
{
		   "cell_type": "markdown",
		   "metadata": {},
		   "source": [
			"## Example 9.11: ST11.sce"
		   ]
		  },
  {
"cell_type": "code",
	   "execution_count": null,
	   "metadata": {
	    "collapsed": true
	   },
	   "outputs": [],
"source": [
"\n",
"clear all; clc;\n",
"\n",
"disp('Scilab Code Ex 9.11 : ')\n",
"\n",
"//Given:\n",
"sigma_x  = -8; //MPa\n",
"sigma_y = 12; //MPa\n",
"tou_xy = -6; //Mpa\n",
"\n",
"//Construction of the circle:\n",
"sigma_avg = (sigma_x+sigma_y)/2;\n",
"\n",
"R = sqrt( 10^2 + tou_xy^2);\n",
"\n",
"//Stresses on 30 degree element:\n",
"phi = atan(6/10);\n",
"psi = (%pi/3) - phi;\n",
"\n",
"//On face BD:\n",
"sigma_x1 = 2 - (R*cos(psi));\n",
"tou_xy1 = (R*sin(psi));\n",
"\n",
"//On face DE:\n",
"sigma_x2 = 2 + (R*cos(psi));\n",
"tou_xy2 = -(R*sin(psi));\n",
"\n",
"//Display:\n",
"\n",
"printf('\n\nThe normal stress on plane BD inclined at 30 degrees is   = %1.2f  MPa',sigma_x1);\n",
"printf('\nThe normal stress on plane DE inclined at 60 degrees is   = %1.1f  MPa',sigma_x2);\n",
"printf('\nThe shear stress is                                       = %1.2f  MPa',tou_xy1);\n",
"\n",
"\n",
"//----------------------------------------------------------------------END--------------------------------------------------------------------------------\n",
"\n",
""
   ]
   }
,
{
		   "cell_type": "markdown",
		   "metadata": {},
		   "source": [
			"## Example 9.12: ST12.sce"
		   ]
		  },
  {
"cell_type": "code",
	   "execution_count": null,
	   "metadata": {
	    "collapsed": true
	   },
	   "outputs": [],
"source": [
"clear all; clc;\n",
"\n",
"disp('Scilab Code Ex 9.12 : ')\n",
"\n",
"//Given:\n",
"P = 900; //N\n",
"T = 2.5; //Nm\n",
"d = 40/1000; //m\n",
"r = d/2;\n",
"c = r;\n",
"\n",
"//Stress Components:\n",
"J = (%pi/2)*(r^4);\n",
"tou = (T*c)/(J*1000);\n",
"\n",
"A = (%pi*r^2);\n",
"sigma = P/(A*1000);\n",
"\n",
"//Principal Stresses:\n",
"sigma_avg = (0 + sigma)/2;\n",
"\n",
"R = sqrt( sigma_avg^2 + tou^2);\n",
"sigma1 = sigma_avg + R;\n",
"sigma2 = sigma_avg - R;\n",
"\n",
"//Display:\n",
"\n",
"printf('\n\nThe prinicpal stresses at point P are:');\n",
"printf('\n %1.1f  kPa',sigma1);\n",
"printf('\n %1.1f  kPa',sigma2);\n",
"\n",
"//----------------------------------------------------------------------END--------------------------------------------------------------------------------\n",
"\n",
"\n",
"\n",
""
   ]
   }
,
{
		   "cell_type": "markdown",
		   "metadata": {},
		   "source": [
			"## Example 9.13: ST13.sce"
		   ]
		  },
  {
"cell_type": "code",
	   "execution_count": null,
	   "metadata": {
	    "collapsed": true
	   },
	   "outputs": [],
"source": [
"clear all; clc;\n",
"\n",
"disp('Scilab Code Ex 9.13 : ')\n",
"\n",
"//Given:\n",
"w = 120; //kN/m\n",
"I = 67.4*(10^-6);\n",
"V= 84; //kN\n",
"M = 30.6; //kNm\n",
"t = 10/1000; //m\n",
"\n",
"//Stress Components:\n",
"y = 0.200/2;\n",
"sigma = -(M*10^3*y)/(I*10^6);\n",
"\n",
"Q = (0.100 + 0.015/2)*(0.175)*(0.015);\n",
"tou = (V*Q*10^3)/(I*t*10^6);\n",
"\n",
"//Principal Stresses:\n",
"\n",
"k = sigma/2;\n",
"R = sqrt( (-sigma+k)^2 + tou^2);\n",
"sigma1 = R + k;\n",
"sigma2 = k -R ;\n",
"\n",
"theta_p2 = atan(-tou/(sigma-k));\n",
"theta_p2 =theta_p2/2*(180/%pi);\n",
"\n",
"//Display:\n",
"\n",
"\n",
"printf('\n\nThe prinicpal stresses at point P are:');\n",
"printf('\n %1.1f  MPa',sigma1);\n",
"printf('\n %1.1f  MPa',sigma2);\n",
"printf('\nThe angle of rotation of the plane  %1.1f  degrees',theta_p2);\n",
"\n",
"//----------------------------------------------------------------------END--------------------------------------------------------------------------------"
   ]
   }
,
{
		   "cell_type": "markdown",
		   "metadata": {},
		   "source": [
			"## Example 9.14: ST14.sce"
		   ]
		  },
  {
"cell_type": "code",
	   "execution_count": null,
	   "metadata": {
	    "collapsed": true
	   },
	   "outputs": [],
"source": [
"clear all; clc;\n",
"\n",
"disp('Scilab Code Ex 9.14 : ')\n",
"\n",
"//Given:\n",
"tou = 40; //kPa\n",
"sigma = -20; //kPa\n",
"\n",
"//Principal Stresses:\n",
"sigma_avg = sigma/2;\n",
"R = sqrt( (-sigma + sigma_avg)^2 + tou^2);\n",
"sigma_max = sigma_avg + R  ;\n",
"sigma_min = sigma_avg - R  ;\n",
"\n",
"theta = atan(tou/(-sigma+sigma_avg));\n",
"theta = theta/2;\n",
"\n",
"//Absolute Maximum Shear Stress:\n",
"tou_max = (sigma_max - sigma_min)/2;\n",
"sigma_avg = (sigma_max + sigma_min)/2;\n",
"\n",
"//Display:\n",
"\n",
"printf('\n\nThe prinicpal stresses at the point are:');\n",
"printf('\n  %1.1f  kPa',sigma_max);\n",
"printf('\n %1.1f  kPa',sigma_min);\n",
"printf('\nThe absolute maximum shear stress at the point  %1.1f kPa',tou_max);\n",
"\n",
"//----------------------------------------------------------------------END--------------------------------------------------------------------------------\n",
"\n",
""
   ]
   }
,
{
		   "cell_type": "markdown",
		   "metadata": {},
		   "source": [
			"## Example 9.15: ST15.sce"
		   ]
		  },
  {
"cell_type": "code",
	   "execution_count": null,
	   "metadata": {
	    "collapsed": true
	   },
	   "outputs": [],
"source": [
"clear all; clc;\n",
"\n",
"disp('Scilab Code Ex 9.15 : ')\n",
"\n",
"//Given:\n",
"sigma_max = 32; //MPa\n",
"sigma_min = 0; //MPa\n",
"sigma_int = 16; //MPa\n",
"\n",
"tou_max = (sigma_max - sigma_min)/2 ; //MPa\n",
"sigma_avg = (sigma_max + sigma_min)/2 ; //MPa\n",
"\n",
"tou_in_plane = (sigma_max - sigma_int)/2;\n",
"sigma_avg2 = sigma_avg + (tou_in_plane);\n",
"\n",
"//Display:\n",
"\n",
"printf('\n\nThe maximum absolute shear stress   = %1.2f  MPa',tou_max);\n",
"\n",
"//----------------------------------------------------------------------END--------------------------------------------------------------------------------\n",
"\n",
""
   ]
   }
,
{
		   "cell_type": "markdown",
		   "metadata": {},
		   "source": [
			"## Example 9.1: ST1.sce"
		   ]
		  },
  {
"cell_type": "code",
	   "execution_count": null,
	   "metadata": {
	    "collapsed": true
	   },
	   "outputs": [],
"source": [
"\n",
"clear all; clc;\n",
"\n",
"disp('Scilab Code Ex 9.1 : ')\n",
"\n",
"//Given:\n",
"tou = 25; //MPa\n",
"sigma1 = 50; //MPa\n",
"sigma2 = 80; //MPa\n",
"phi = 30*(%pi/180);\n",
"\n",
"// Calculations:\n",
"sigma_x1 = (sigma1*cos(phi)*cos(phi))- (tou*cos(phi)*sin(phi)) - (sigma2*sin(phi)*sin(phi))- (tou*sin(phi)*cos(phi));\n",
"tou1 = (sigma1*cos(phi)*sin(phi))+ (tou*cos(phi)*cos(phi)) + (sigma2*sin(phi)*cos(phi))- (tou*sin(phi)*sin(phi));\n",
"sigma_x2 = (tou*cos(phi)*sin(phi))- (sigma2*cos(phi)*cos(phi)) + (tou*sin(phi)*cos(phi))+ (sigma1*sin(phi)*sin(phi));\n",
"tou2 = (tou*cos(phi)*cos(phi))+ (sigma2*cos(phi)*sin(phi)) - (tou*sin(phi)*sin(phi))+ (sigma1*sin(phi)*cos(phi));\n",
"\n",
"//Display:\n",
"\n",
"printf('\n\nThe normal stress component in the x diection is     = %1.2f MPa',sigma_x1);\n",
"printf('\n  The shear stress component in the x diection is    = %1.1f MPa',tou1);\n",
"printf('\n  The normal stress component in the y diection is   = %1.1f MPa',sigma_x2);\n",
"printf('\n  The shear stress component in the y diection is    = %1.1f MPa',tou2);\n",
"\n",
"//----------------------------------------------------------------------END--------------------------------------------------------------------------------\n",
""
   ]
   }
,
{
		   "cell_type": "markdown",
		   "metadata": {},
		   "source": [
			"## Example 9.2: ST2.sce"
		   ]
		  },
  {
"cell_type": "code",
	   "execution_count": null,
	   "metadata": {
	    "collapsed": true
	   },
	   "outputs": [],
"source": [
"clear all; clc;\n",
"\n",
"\n",
"disp('Scilab Code Ex 9.2 : ')\n",
"\n",
"//Given:\n",
"phi = -30*(%pi/180);\n",
"theta = 60*(%pi/180);\n",
"sigma_x = -80; //MPa\n",
"sigma_y = 50; //MPa\n",
"tou_xy = -25; //MPa\n",
"\n",
"//Plane CD:\n",
"sigma_x1 = (sigma_x+sigma_y)/2 + ((sigma_x-sigma_y)*cos(2*phi))/2 + (tou_xy*sin(2*phi)); //Eqn 9.1\n",
"tou_xy1 = ((-(sigma_x - sigma_y)*sin(2*phi))/2) + (tou_xy*cos(2*phi)); //Eqn 9.2\n",
"\n",
"//Plane BC:\n",
"sigma_x2 = (sigma_x+sigma_y)/2 + ((sigma_x-sigma_y)*cos(2*theta))/2 + (tou_xy*sin(2*theta)); //Eqn 9.1\n",
"tou_xy2 = (-(sigma_x - sigma_y)*sin(2*theta))/2 + tou_xy*cos(2*theta); //Eqn 9.2\n",
"\n",
"//Display:\n",
"\n",
"printf('\n\nThe normal stress of plane CD inclined at 30 degrees    = %1.1f MPa',sigma_x1);\n",
"printf('\nThe shear stress of plane CD inclined at 30 degrees     = %1.1f MPa',tou_xy1);\n",
"printf('\nThe normal stress of plane BC inclined at 60 degrees    = %1.2f MPa',sigma_x2);\n",
"printf('\nThe shear stress of plane BC inclined at 60 degrees     = %1.1f MPa',tou_xy2);\n",
"\n",
"//-------------------------------------------------------------------------END---------------------------------------------------------------------------------------"
   ]
   }
,
{
		   "cell_type": "markdown",
		   "metadata": {},
		   "source": [
			"## Example 9.5: ST5.sce"
		   ]
		  },
  {
"cell_type": "code",
	   "execution_count": null,
	   "metadata": {
	    "collapsed": true
	   },
	   "outputs": [],
"source": [
"clear all; clc;\n",
"\n",
"disp('Scilab Code Ex 9.5 : ')\n",
"\n",
"//Given:\n",
"sigma_x = -20; //MPa\n",
"sigma_y = 90; //MPa\n",
"tou_xy = 60; //MPa\n",
"\n",
"//Orientation of Element:\n",
"theta_p2 = atan((2*tou_xy)/(sigma_x - sigma_y));\n",
"theta_p2 = theta_p2/2;\n",
"theta_p1 = (180+2*theta_p2)/2;\n",
"\n",
"//Principal Stresses:\n",
"\n",
"sigma1 = ((sigma_x+sigma_y)/2)+(sqrt(((sigma_x - sigma_y)/2)^2 + tou_xy^2));\n",
"sigma2 = ((sigma_x+sigma_y)/2)- sqrt(((sigma_x-sigma_y)/2)^2 + tou_xy^2);\n",
"sigma_x2 = ((sigma_x+sigma_y)/2)+ (((sigma_x-sigma_y)/2)*cos(2*theta_p2)) + (tou_xy*sin(2*theta_p2));\n",
"\n",
"//Display:\n",
"\n",
"printf('\n\nThe first principal stress is                       = %1.0f  MPa',sigma1);\n",
"printf('\nThe second principal stress is                      = %1.1f  MPa',sigma2);\n",
"printf('\nThe normal stress acting on the 23.7 degrees plane  = %1.1f MPa',sigma_x2);\n",
"\n",
"//----------------------------------------------------------------------END--------------------------------------------------------------------------------\n",
"\n",
""
   ]
   }
,
{
		   "cell_type": "markdown",
		   "metadata": {},
		   "source": [
			"## Example 9.6: ST6.sce"
		   ]
		  },
  {
"cell_type": "code",
	   "execution_count": null,
	   "metadata": {
	    "collapsed": true
	   },
	   "outputs": [],
"source": [
"\n",
"clear all; clc;\n",
"\n",
"disp('Scilab Code Ex 9.6 : ')\n",
"\n",
"//Given:\n",
"sigma_x = -20; //MPa\n",
"sigma_y  = 90; //MPa\n",
"tou_xy =60; //Mpa\n",
"\n",
"//Orientation of Element:\n",
"theta_s2 = atan(-(sigma_x - sigma_y)/(2*tou_xy));\n",
"theta_s2 = theta_s2/2;\n",
"theta_s1 = %pi + 2*theta_s2;\n",
"theta_s1 = theta_s1/2;\n",
"\n",
"//Maximum in plane Shear Stress:\n",
"tou_max = (sqrt(((sigma_x - sigma_y)/2)^2 + tou_xy^2));\n",
"tou_xy1 = -(sigma_x - sigma_y)*(sin(2*theta_s2))/2 + (tou_xy*cos(2*theta_s2));\n",
"\n",
"//Average Normal Stress:\n",
"sigma_avg = (sigma_x+sigma_y)/2;\n",
"\n",
"//Display:\n",
"\n",
"printf('\n\nThe maximum in-plane shear stress is        = %1.1f  MPa',tou_xy1);\n",
"printf('\nThe average normal stress is                = %1.0f  MPa',sigma_avg);\n",
"\n",
"//----------------------------------------------------------------------END--------------------------------------------------------------------------------\n",
"\n",
"\n",
""
   ]
   }
,
{
		   "cell_type": "markdown",
		   "metadata": {},
		   "source": [
			"## Example 9.9: ST9.sce"
		   ]
		  },
  {
"cell_type": "code",
	   "execution_count": null,
	   "metadata": {
	    "collapsed": true
	   },
	   "outputs": [],
"source": [
"clear all; clc;\n",
"\n",
"disp('Scilab Code Ex 9.9 : ')\n",
"\n",
"//Given:\n",
"sigma_x = -12; //MPa\n",
"sigma_y = 0;\n",
"tou_xy = -6; //MPa\n",
"\n",
"//Construction of the circle:\n",
"sigma_avg = (sigma_x+sigma_y)/2;\n",
"R = sqrt((-sigma_x+sigma_avg)^2 + (tou_xy)^2);\n",
"\n",
"//Principal Stresses:\n",
"sigma2 = -R+sigma_avg;//From the Mohr's circle\n",
"sigma1 = R+sigma_avg;\n",
"\n",
"theta_p2 = atan((-tou_xy)/(-sigma_x+sigma_avg));\n",
"theta_p2 = theta_p2/2*(180/%pi);\n",
"\n",
"//Display:\n",
"\n",
"printf('\n\nThe first principal stress is            = %1.2f  MPa',sigma1);\n",
"printf('\nThe second principal stress is           = %1.1f  MPa',sigma2);\n",
"printf('\nThe direction of the principal plane is  = %1.1f  degrees',theta_p2);\n",
"\n",
"\n",
"//----------------------------------------------------------------------END--------------------------------------------------------------------------------\n",
"\n",
"\n",
"\n",
""
   ]
   }
],
"metadata": {
		  "kernelspec": {
		   "display_name": "Scilab",
		   "language": "scilab",
		   "name": "scilab"
		  },
		  "language_info": {
		   "file_extension": ".sce",
		   "help_links": [
			{
			 "text": "MetaKernel Magics",
			 "url": "https://github.com/calysto/metakernel/blob/master/metakernel/magics/README.md"
			}
		   ],
		   "mimetype": "text/x-octave",
		   "name": "scilab",
		   "version": "0.7.1"
		  }
		 },
		 "nbformat": 4,
		 "nbformat_minor": 0
}
