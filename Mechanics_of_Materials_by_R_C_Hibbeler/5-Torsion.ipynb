{
"cells": [
 {
		   "cell_type": "markdown",
	   "metadata": {},
	   "source": [
       "# Chapter 5: Torsion"
	   ]
	},
{
		   "cell_type": "markdown",
		   "metadata": {},
		   "source": [
			"## Example 5.11: T11.sce"
		   ]
		  },
  {
"cell_type": "code",
	   "execution_count": null,
	   "metadata": {
	    "collapsed": true
	   },
	   "outputs": [],
"source": [
"clear all; clc;\n",
"\n",
"disp('Scilab Code Ex 5.11 : ')\n",
"\n",
"//Given:\n",
"d = 20/1000; //m\n",
"r = d/2;\n",
"l_bc = 0.2;\n",
"l_cd = 1.5;\n",
"l_da = 0.3;\n",
"T_c = 800; //Nm\n",
"T_d = -500; //Nm\n",
"\n",
"//Equilibrium:\n",
"//Eqn 1 :     300 = T_a + T_b\n",
"\n",
"//Compatibility:\n",
"//Eqn 2:\n",
"coeff_Tb = -l_bc;\n",
"coeff_Ta = l_cd + l_da;\n",
"\n",
"//Solving Equations simultaneously using matrices:\n",
"C = [1 1; coeff_Tb coeff_Ta];\n",
"b = [300 ; -750];\n",
"T = C\b;\n",
"\n",
"T_b = T(1);\n",
"T_a = T(2);\n",
"\n",
"//Display:\n",
"\n",
"\n",
"printf('\n\nThe reaction at A    = %1.0f Nm',T_a);\n",
"printf('\nThe reaction at B    = %1.0f Nm',T_b);\n",
"\n",
"//---------------------------------------------------------------------------------END--------------------------------------------------------------------\n",
"\n",
""
   ]
   }
,
{
		   "cell_type": "markdown",
		   "metadata": {},
		   "source": [
			"## Example 5.12: T12.sce"
		   ]
		  },
  {
"cell_type": "code",
	   "execution_count": null,
	   "metadata": {
	    "collapsed": true
	   },
	   "outputs": [],
"source": [
"clear all; clc;\n",
"\n",
"disp('Scilab Code Ex 5.12 : ')\n",
"\n",
"//Given:\n",
" T = 250; //Nm\n",
" G_st = 80; //GPa\n",
" G_br = 36; //GPa\n",
" ri = 10; //mm\n",
" ro = 20; //mm\n",
" l_ab = 1.2; //m\n",
" \n",
" //Equilibrium:\n",
" // -Tst-Tbr+250Nm = 0\n",
" coeff1_st = -1;\n",
" coeff1_br = -1;\n",
" b1 = -250;\n",
" \n",
" //Compatibility:\n",
" //phi = TL/JG\n",
" \n",
" J1 = (%pi/2)*(ro^4 - ri^4);\n",
" J2 = (%pi/2)*(ri^4);\n",
" coeff2_st = 1/(J1*G_st*10^3);\n",
" coeff2_br = -1/(J2*G_br*10^3);\n",
"b2 = 0;\n",
"\n",
"//Solving the above two equations simultaneously using matrices:\n",
"A = [coeff1_st coeff1_br;coeff2_st coeff2_br ];\n",
"b = [b1 ; b2];\n",
"T = A\b;\n",
"\n",
"T_st = T(1);\n",
"T_br = T(2);\n",
"\n",
"shear_br_max = (T_br*10^3*ri)/(J2); //tou = (Tr)/J\n",
"shear_st_min = (T_st*10^3*ri)/(J1); //tou = (Tr)/J\n",
"shear_st_max = (T_st*10^3*ro)/(J1); //tou = (Tr)/J\n",
"\n",
"shear_strain = shear_br_max / G_br;\n",
"shear_strain = shear_strain;\n",
"\n",
"//Display:\n",
"\n",
"\n",
"printf('\n\nThe Torque acting on Steel                       = %1.2f Nm',T_st);\n",
"printf('\nThe Torque acting on Brass                       = %1.2f Nm',T_br);\n",
"printf('\nThe maximum shear stress experienced by Steel    = %1.2f MPa',shear_st_max);\n",
"printf('\nThe minimum shear stress experienced by Steel    = %1.2f MPa',shear_st_min);\n",
"printf('\nThe maximum shear stress experienced by Brass    = %1.2f MPa',shear_br_max);\n",
"printf('\nThe shear strain at the interface                = %1.5f *10^-3 rad',shear_strain);\n",
"\n",
"\n",
"//--------------------------------------------------------END-------------------------------------------------------------------------------------\n",
"\n",
"\n",
"\n",
""
   ]
   }
,
{
		   "cell_type": "markdown",
		   "metadata": {},
		   "source": [
			"## Example 5.13: T13.sce"
		   ]
		  },
  {
"cell_type": "code",
	   "execution_count": null,
	   "metadata": {
	    "collapsed": true
	   },
	   "outputs": [],
"source": [
"clear all; clc;\n",
"\n",
"disp('Scilab Code Ex 5.13 : ')\n",
"\n",
"//Given:\n",
" l = 1.2; //m\n",
" a = 40; //mm\n",
" tou_allow = 56; //MPa\n",
" phi_allow = 0.02; //rad\n",
" G = 26; //GPa\n",
" alpha = (60*%pi)/180; //degrees\n",
" \n",
" //Calculations:\n",
" T_shear1 = (tou_allow*a^3)/(20*1000); // allowable shear stress = (20T)/(a^3)\n",
" T_twist1 = (phi_allow*a^4*G*10^3)/(46*l*10^6); //angle of twist =(46TL)/(a^4*G)\n",
" \n",
" T1 = min(T_shear1, T_twist1);\n",
" \n",
"//Circular Cross Section:\n",
"c_ = (a*a*sin(alpha))/(%pi*2);\n",
"c = sqrt(c_);\n",
"\n",
"J = (%pi/2)*(c^4);\n",
"T_shear2 = (tou_allow*J)/(c*1000);\n",
"T_twist2 = (phi_allow*J*G*10^3)/(l*10^6);\n",
"\n",
" T2 = min(T_shear2, T_twist2);\n",
"\n",
"\n",
"//Display:\n",
"\n",
"printf('\n\nThe largest torque that can be applied at the end of the triangular shaft    = %1.2f Nm',T1);\n",
"printf('\nThe largest torque that can be applied at the end of the circular shaft      = %1.2f Nm',T2);\n",
"\n",
"\n",
"//------------------------------------------------------------------------------END------------------------------------------------------------------"
   ]
   }
,
{
		   "cell_type": "markdown",
		   "metadata": {},
		   "source": [
			"## Example 5.15: T15.sce"
		   ]
		  },
  {
"cell_type": "code",
	   "execution_count": null,
	   "metadata": {
	    "collapsed": true
	   },
	   "outputs": [],
"source": [
"clear all; clc;\n",
"\n",
"disp('Scilab Code Ex 5.15 : ')\n",
"\n",
"//Given:\n",
"l_cd = 0.5; //m\n",
"l_de = 1.5; //m\n",
"h =60/1000; //m\n",
"w = 40/1000; //m\n",
"t_h = 3/1000; //m\n",
"t_w = 5/1000; //m\n",
"T_c = 60; //Nm\n",
"T_d = 25; //Nm\n",
"G = 38*10^9; //N/m^2\n",
"T1 = T_c - T_d;\n",
"\n",
"//Average Shear Stress:\n",
"area = (w-t_w)*(h-t_h);\n",
"\n",
"shear_a = T1/(2*t_w*area*10^6);\n",
"shear_b = T1/(2*t_h*area*10^6);\n",
"\n",
"//Angle of Twist:\n",
"\n",
"ds_t = 2*(((w-t_w)/t_h)+((h-t_h)/t_w));\n",
"T = [T_c T1];\n",
"l = [l_cd l_de];\n",
"phi = 0;\n",
"\n",
"for i = 1:2\n",
"    phi = phi+ (T(i)*l(i)*ds_t)/(4*area^2*G);\n",
"   \n",
"end\n",
"\n",
"//Display:\n",
"\n",
"printf('\n\nThe average shear stress of the tube at A    = %1.2f MPa',shear_a);\n",
"printf('\nThe average shear stress of the tube at B    = %1.2f MPa',shear_b);\n",
"printf('\nThe angle of twist of end C                  = %1.6f rad',phi);\n",
"\n",
"//----------------------------------------------------------------------------END-------------------------------------------------------------------------------\n",
""
   ]
   }
,
{
		   "cell_type": "markdown",
		   "metadata": {},
		   "source": [
			"## Example 5.16: T16.sce"
		   ]
		  },
  {
"cell_type": "code",
	   "execution_count": null,
	   "metadata": {
	    "collapsed": true
	   },
	   "outputs": [],
"source": [
"clear all; clc;\n",
"\n",
"disp('Scilab Code Ex 5.16 : ')\n",
"\n",
"//Given:\n",
"T = 85; //Nm\n",
"G = 26; //GPa\n",
"t = 10; //mm thickness\n",
"a = 60; //mm side\n",
"l = 1.5; //m\n",
"\n",
"//Average Shear Stress:\n",
"area_m = (a-t)*(a-t);\n",
"avg_shear = (T*10^3)/(2*t*area_m); //tou_avg = T/(2tarea_m);\n",
"\n",
"\n",
"//Angle of Twist:\n",
"ds_t = (4*(a-t))/t;\n",
"phi = (T*10^3*l*10^3*ds_t)/(4*(area_m^2)*G*10^3);\n",
"\n",
"//Display:\n",
"\n",
"\n",
"printf('\n\nThe average shear stress in the tube at A    = %1.1f N/mm^2',avg_shear);\n",
"printf('\nThe angle of twist due to loading            = %1.5f rad',phi);\n",
"\n",
"//------------------------------------------------------------------END------------------------------------------------------------------------"
   ]
   }
,
{
		   "cell_type": "markdown",
		   "metadata": {},
		   "source": [
			"## Example 5.17: T17.sce"
		   ]
		  },
  {
"cell_type": "code",
	   "execution_count": null,
	   "metadata": {
	    "collapsed": true
	   },
	   "outputs": [],
"source": [
"clear all; clc;\n",
"\n",
"disp('Scilab Code Ex 5.17 : ')\n",
"\n",
"//Given:\n",
"tou_allow = 90; //MPa\n",
"phi_allow = 2*10^-3; //rad\n",
"a = 200; //mm side\n",
"angle = (60*%pi)/180;\n",
"h = a*sin(angle);\n",
"l = 3; //m\n",
"t = 5/1000; //m\n",
"G = 75*10^9; //N/mm^2\n",
"\n",
"//Calculations:\n",
"area_m = 0.5*a*h*10^-6;//m^2 a = (1/2)bh\n",
"ds_t = (3*a)/(t*1000);\n",
"\n",
"T_shear = (tou_allow*10^6*2*t*area_m); //tou_avg = T/(2tarea_m);\n",
"\n",
"T_twist = (phi_allow*4*area_m^2*G)/(l*ds_t);\n",
"\n",
" T = min(T_shear, T_twist);\n",
" \n",
"\n",
"//Display:\n",
"\n",
"\n",
"printf('\n\nThe maximum torque that the thin tube can be subjected to    = %1.1f Nm',T);\n",
"\n",
"//----------------------------------------------------------------END------------------------------------------------------------------------\n",
"\n",
""
   ]
   }
,
{
		   "cell_type": "markdown",
		   "metadata": {},
		   "source": [
			"## Example 5.18: T18.sce"
		   ]
		  },
  {
"cell_type": "code",
	   "execution_count": null,
	   "metadata": {
	    "collapsed": true
	   },
	   "outputs": [],
"source": [
"clear all; clc;\n",
"\n",
"disp('Scilab Code Ex 5.18 : ')\n",
"\n",
"//Given:\n",
"fillet_r = 6; //mm\n",
"D = 40/1000; //m\n",
"d = 20/1000; //m\n",
"T = 30; //Nm\n",
"D_d = D/d; \n",
"r_d = fillet_r/d; \n",
"k = 1.3;\n",
"\n",
"//Maximum Shear Stress:\n",
"c = D/2;\n",
"J = (%pi/2)*(c^4)\n",
"max_shear = (k*T*c)/(J*10^6); // tou = K(Tc/J)\n",
"\n",
"//Display:\n",
"\n",
"printf('\n\nThe maximum shear stress in the shaft due to the applied torques    = %1.2f MPa',max_shear);\n",
"\n",
"//----------------------------------------------------------------END------------------------------------------------------------------------"
   ]
   }
,
{
		   "cell_type": "markdown",
		   "metadata": {},
		   "source": [
			"## Example 5.19: T19.sce"
		   ]
		  },
  {
"cell_type": "code",
	   "execution_count": null,
	   "metadata": {
	    "collapsed": true
	   },
	   "outputs": [],
"source": [
"clear all; clc;\n",
"\n",
"disp('Scilab Code Ex 5.19 : ')\n",
"\n",
"//Given:\n",
"ro = 50/1000; //m\n",
"ri = 30/1000; //m\n",
"c = ro;\n",
"shear = 20*10^6; //N/m^2\n",
"\n",
"//Maximum Elastic Torque:\n",
"J = (%pi/2)*((ro^4)-(ri^4));\n",
"T_y = (shear*J)/c; // tou = Tc/J\n",
"T_y = T_y/1000; //in kN\n",
"\n",
"//Plastic Torque:\n",
"x0 = 0.03;\n",
"x1 = 0.05;\n",
"I = integrate('rho^2','rho',x0,x1)\n",
"Tp =  (2*%pi*I*shear);\n",
"Tp= Tp/1000;\n",
"\n",
"//Outer Shear Strain:\n",
"strain = (0.286*10^-3*ro)/(ri);\n",
"\n",
"//Display:\n",
"\n",
"\n",
"printf('\n\nThe maximum torque that can be applied to the shaft without causing the material to yield   = %1.2f kNm',T_y);\n",
"printf('\nThe plastic torque that can be applied to the shaft                                         = %1.2f kNm',Tp);\n",
"printf('\nThe minimum shear strain at the outer radius of the shaft                                   = %1.7f rad',strain);\n",
"\n",
"\n",
"//----------------------------------------------------------------END------------------------------------------------------------------------\n",
""
   ]
   }
,
{
		   "cell_type": "markdown",
		   "metadata": {},
		   "source": [
			"## Example 5.1: T1.sce"
		   ]
		  },
  {
"cell_type": "code",
	   "execution_count": null,
	   "metadata": {
	    "collapsed": true
	   },
	   "outputs": [],
"source": [
"clear all; clc;\n",
"\n",
"disp('Scilab Code Ex 5.1 : ')\n",
"\n",
"//Given:\n",
"r = 50; //mm\n",
"J = (%pi/2)*(r^4); //polar moment of inertia\n",
"tou_max = 56; //MPa\n",
"T = (tou_max*J)/(r*10^6); //toumax = Tc/J\n",
"\n",
"//Display:\n",
"\n",
"\n",
"printf('\n\nThe resultant internal torque    = %1.0f kNm',T);\n",
"\n",
"//-----------------------------------------------------------------END-------------------------------------------------------------------------------------------------\n",
"\n",
""
   ]
   }
,
{
		   "cell_type": "markdown",
		   "metadata": {},
		   "source": [
			"## Example 5.20: T20.sce"
		   ]
		  },
  {
"cell_type": "code",
	   "execution_count": null,
	   "metadata": {
	    "collapsed": true
	   },
	   "outputs": [],
"source": [
"clear all; clc;\n",
"\n",
"disp('Scilab Code Ex 5.19 : ')\n",
"\n",
"//Given:\n",
"r = 20/1000; //m\n",
"l = 1.5; //m\n",
"phi = 0.6; //rad\n",
"shear_y = 75*10^6; //N/m^2\n",
"\n",
"//Calculations:\n",
"max_shear_strain = (phi*r)/(l); //phi = (strain*L)/r\n",
"strain_y = 0.0016;\n",
"\n",
"r_y = (r*strain_y)/(max_shear_strain); //by ratios\n",
"\n",
"//T= (%pi*shear_y)*(4c^3 - r_y^3)/6;\n",
"c = r;\n",
"\n",
"T = (%pi*shear_y)*(4*c^3 - r_y^3)/6;\n",
"T = T/1000;\n",
"\n",
"//Display:\n",
"\n",
"printf('\n\nThe torque needed to twist the shaft by 0.6 rad    = %1.2f kNm',T);\n",
"\n",
"//----------------------------------------------------------------END------------------------------------------------------------------------\n",
"\n",
"\n",
""
   ]
   }
,
{
		   "cell_type": "markdown",
		   "metadata": {},
		   "source": [
			"## Example 5.21: T21.sce"
		   ]
		  },
  {
"cell_type": "code",
	   "execution_count": null,
	   "metadata": {
	    "collapsed": true
	   },
	   "outputs": [],
"source": [
"clear all; clc;\n",
"\n",
"disp('Scilab Code Ex 5.21 : ')\n",
"\n",
"//Given:\n",
"l = 1.5; //m\n",
"G = 42*10^3; //GPa\n",
"co = 50; //mm\n",
"ci = 25;//mm\n",
"shear_y = 84; //N/mm^2\n",
"strain_y = 0.002; //rad\n",
"\n",
"//Plastic Torque:\n",
"T_p = ((2*%pi)*(co^3 - ci^3)*shear_y)/3;\n",
"phi_p = (strain_y*l*10^3)/ci;\n",
"\n",
"J = (%pi/2)*(co^4 - ci^4);\n",
"shear_r = (T_p*co)/J;\n",
"shear_i = (shear_r*ci)/(co);// shear = Tc/J\n",
"\n",
"G = shear_y/strain_y; \n",
"\n",
"phi_dash = (T_p*l*10^3)/(J*G); //phi = TpL/JG;\n",
"\n",
"phi = phi_p - phi_dash;\n",
"T_p = T_p/10^6;\n",
"\n",
"//Display:\n",
"\n",
"\n",
"printf('\n\nThe plastic torque Tp                                =  %1.2f x 10^6 Nmm',T_p);\n",
"printf('\nThe permanent twist of the tube if Tp is removed     = %1.5f rad',phi);\n",
"\n",
"\n",
"//----------------------------------------------------------------END------------------------------------------------------------------------"
   ]
   }
,
{
		   "cell_type": "markdown",
		   "metadata": {},
		   "source": [
			"## Example 5.3: T3.sce"
		   ]
		  },
  {
"cell_type": "code",
	   "execution_count": null,
	   "metadata": {
	    "collapsed": true
	   },
	   "outputs": [],
"source": [
"clear all; clc;\n",
"\n",
"disp('Scilab Code Ex 5.3 : ')\n",
"\n",
"//Given:\n",
"T1 = 4250; //kNmm\n",
"T2 = -3000; //kNm\n",
"T3 = T1+T2; //kNm\n",
"r = 75; //mm\n",
"\n",
"//Section Property:\n",
"J = (%pi/2)*(r^4); //polar moment of inertia\n",
"\n",
"//Shear Stress:\n",
"c_a = 75; //mm\n",
"tou_a = (T3*c_a*1000)/J; //tou = Tc/J\n",
"\n",
"c_b = 15; //mm\n",
"tou_b = (T3*c_b*1000)/J; //tou = Tc/J\n",
"\n",
"//Display:\n",
"\n",
"printf('\n\nThe shear stress developed at A   = %1.2f MPa',tou_a);\n",
"printf('\nThe shear stress developed at B   = %1.3f MPa',tou_b);\n",
"\n",
"//--------------------------------------------------------------------------------------END-------------------------------------------------------------------------------\n",
""
   ]
   }
,
{
		   "cell_type": "markdown",
		   "metadata": {},
		   "source": [
			"## Example 5.4: T4.sce"
		   ]
		  },
  {
"cell_type": "code",
	   "execution_count": null,
	   "metadata": {
	    "collapsed": true
	   },
	   "outputs": [],
"source": [
"clear all; clc;\n",
"\n",
"disp('Scilab Code Ex 5.4 : ')\n",
"\n",
"//Given:\n",
"di = 80; //mm\n",
"ri = 40/1000; //m\n",
"d0 = 100; //mm\n",
"ro = d0/2000; //m\n",
"F = 80; //N\n",
"l1 = 0.2; //m\n",
"l2 = 0.3; //m\n",
"\n",
"//Internal Torque:\n",
"T = F*(l1+l2);\n",
"\n",
"//Section Property:\n",
"J = (%pi/2)*((ro^4)-(ri^4));\n",
"\n",
"//Shear Stress:\n",
"c_o = 0.05;//m\n",
"tou_o = (T*c_o)/(J*10^6);\n",
"\n",
"c_i = 0.04; //m\n",
"tou_i = (T*c_i)/(J*10^6);\n",
"\n",
"//Display:\n",
"\n",
"\n",
"printf('\n\nThe shear stress in the inner wall    = %1.3f MPa',tou_i);\n",
"printf('\nThe shear stress in the outer wall    = %1.3f MPa',tou_o);\n",
"\n",
"\n",
"//---------------------------------------------------------------------END-------------------------------------------------------------------------------------------\n",
"\n",
"\n",
"  "
   ]
   }
,
{
		   "cell_type": "markdown",
		   "metadata": {},
		   "source": [
			"## Example 5.5: T5.sce"
		   ]
		  },
  {
"cell_type": "code",
	   "execution_count": null,
	   "metadata": {
	    "collapsed": true
	   },
	   "outputs": [],
"source": [
"clear all; clc;\n",
"\n",
"disp('Scilab Code Ex 5.5 : ')\n",
"\n",
"//Given:\n",
"P = 3750; //W\n",
"N = 175; //rpm\n",
"allow_shear = 100; //MPa\n",
"\n",
"//Calculations:\n",
"ang_vel = (2*%pi*N)/60; // rad/s\n",
"T = P/ang_vel; //P = T*angular velocity\n",
"\n",
"c = ((2*T*1000)/(%pi*allow_shear))^(1/3);\n",
"d = round(2*c);\n",
"\n",
"//Display:\n",
"\n",
"\n",
"printf('\n\nThe required diameter of the shaft   = %1.0f mm',d);\n",
"\n",
"//------------------------------------------------------------------END------------------------------------------------------------------------------"
   ]
   }
,
{
		   "cell_type": "markdown",
		   "metadata": {},
		   "source": [
			"## Example 5.6: T6.sce"
		   ]
		  },
  {
"cell_type": "code",
	   "execution_count": null,
	   "metadata": {
	    "collapsed": true
	   },
	   "outputs": [],
"source": [
"clear all; clc;\n",
"\n",
"disp('Scilab Code Ex 5.6 : ')\n",
"\n",
"//Given:\n",
"di = 30; //mm\n",
"ri= (di/2000); //m\n",
"d0 = 42; //mm\n",
"ro = (d0/2000); //m\n",
"P = 90; //kW\n",
"max_shear = 50; //MPa\n",
"\n",
"//Calculations:\n",
"c = ro; //m\n",
"J = (%pi/2)*((ro^4)-(ri^4)); //Polar moment of inertia of hollow shaft\n",
"T = (max_shear*J)/c; //tou max = Tc/J\n",
"\n",
"//P = 2(%pi)fT\n",
"f = (P)/(2*%pi*T*10^3);\n",
"\n",
"//Display:\n",
"\n",
"\n",
"printf('\n\nThe required frequency of rotation of the shaft    = %1.1f Hz',f);\n",
"\n",
"//---------------------------------------------------------------------------END------------------------------------------------------------------------\n",
"\n",
""
   ]
   }
,
{
		   "cell_type": "markdown",
		   "metadata": {},
		   "source": [
			"## Example 5.7: T7.sce"
		   ]
		  },
  {
"cell_type": "code",
	   "execution_count": null,
	   "metadata": {
	    "collapsed": true
	   },
	   "outputs": [],
"source": [
"clear all; clc;\n",
"\n",
"disp('Scilab Code Ex 5.7 : ')\n",
"\n",
"//Given:\n",
"E = 80*10^3; //MPa\n",
"d = 14/1000; //m\n",
"r = d/2; //m\n",
"R = 100; //mm\n",
"l_ac = 0.4; //m\n",
"l_cd = 0.3; //m\n",
"l_de = 0.5; //m\n",
"T_c = 280;//Nm\n",
"T_a = 150; //Nm\n",
"T_d = 40; //Nm\n",
"T_ac = T_a; //Nm\n",
"T_cd = T_ac - T_c; \n",
"T_de = T_cd - T_d;\n",
"\n",
"//Angle of Twist:\n",
"J = (%pi/2)*(r^4);\n",
"\n",
"T = [T_ac T_cd T_de];\n",
"l = [l_ac l_cd l_de];\n",
"\n",
"sumTwist = 0;\n",
"\n",
"for i= 1:3\n",
"    sumTwist = sumTwist+ ((T(i)*l(i))/(J*E*10^6));\n",
"end\n",
"\n",
"displacement = - sumTwist*R;\n",
"\n",
"//Display:\n",
"\n",
"\n",
"printf('\n\nThe angle of twist of the shaft          = %1.3f rad',sumTwist);\n",
"printf('\nThe displacement of tooth P on gear A    = %1.1f mm',displacement);\n",
"\n",
"//---------------------------------------------------------------------END------------------------------------------------------------------\n",
"\n",
""
   ]
   }
,
{
		   "cell_type": "markdown",
		   "metadata": {},
		   "source": [
			"## Example 5.8: T8.sce"
		   ]
		  },
  {
"cell_type": "code",
	   "execution_count": null,
	   "metadata": {
	    "collapsed": true
	   },
	   "outputs": [],
"source": [
"clear all; clc;\n",
"\n",
"disp('Scilab Code Ex 5.8 : ')\n",
"\n",
"//Given:\n",
"T = 45; //N\n",
"G = 80; //GPa\n",
"d = 20/1000; //m\n",
"r = d/2; //m\n",
"l_dc = 1.5; //m\n",
"l_ab = 2; //m\n",
"r1 = 75/1000; //m\n",
"r2 = 150/1000; //m\n",
"\n",
"//Internal Torque:\n",
"F = T/r2;\n",
"T_d_x = F*r1;\n",
"\n",
"//Angle of twist:\n",
"J = (%pi/2)*(r^4);\n",
"phi_c = (T*l_dc)/(2*J*G*10^9);\n",
"phi_b = (phi_c*r1)/r2;\n",
"\n",
"phi_ab = (T*l_ab)/(J*G*10^9);\n",
"\n",
"phi_a = phi_b + phi_ab;\n",
"\n",
"//Display:\n",
"\n",
"\n",
"printf('\n\nThe angle of twist of end A of shaft AB   = + %1.4f rad',phi_a);\n",
"\n",
"//----------------------------------------------------------------------------END--------------------------------------------------------------------------------"
   ]
   }
,
{
		   "cell_type": "markdown",
		   "metadata": {},
		   "source": [
			"## Example 5.9: T9.sce"
		   ]
		  },
  {
"cell_type": "code",
	   "execution_count": null,
	   "metadata": {
	    "collapsed": true
	   },
	   "outputs": [],
"source": [
"clear all; clc;\n",
"\n",
"disp('Scilab Code Ex 5.9 : ')\n",
"\n",
"//Given:\n",
"d = 50; //mm\n",
"r = d/2;\n",
"c = d/2;\n",
"l_buried = 600; //mm\n",
"G = 40*10^3; //MPa\n",
"F = 100; //N\n",
"l_handle= 150; //mm\n",
"l_ab = 900; //mm\n",
"\n",
"//Internal Torque:\n",
"T_ab = F*2*l_handle;\n",
"t = T_ab/l_buried;\n",
"\n",
"//Maximum Shear Stress:\n",
"J = (%pi/2)*(r^4);\n",
"tou_max = (T_ab*c)/(J);\n",
"\n",
"//Angle of Twist:\n",
"\n",
"x0=0;\n",
"x1=l_buried;\n",
"X=integrate('x','x',x0,x1);\n",
"\n",
"phi_a = ((T_ab*l_ab)+(50*X))/(J*G); \n",
"\n",
"//Display:\n",
"\n",
"\n",
"\n",
"printf('\n\nThe maximum shear stress in the post          = %1.2f N/mm^2',tou_max);\n",
"printf('\nThe angle of twist at the top of the post    = %1.5f rad',phi_a);\n",
"\n",
"//---------------------------------------------------------------------------END----------------------------------------------------------------------------\n",
""
   ]
   }
],
"metadata": {
		  "kernelspec": {
		   "display_name": "Scilab",
		   "language": "scilab",
		   "name": "scilab"
		  },
		  "language_info": {
		   "file_extension": ".sce",
		   "help_links": [
			{
			 "text": "MetaKernel Magics",
			 "url": "https://github.com/calysto/metakernel/blob/master/metakernel/magics/README.md"
			}
		   ],
		   "mimetype": "text/x-octave",
		   "name": "scilab",
		   "version": "0.7.1"
		  }
		 },
		 "nbformat": 4,
		 "nbformat_minor": 0
}
