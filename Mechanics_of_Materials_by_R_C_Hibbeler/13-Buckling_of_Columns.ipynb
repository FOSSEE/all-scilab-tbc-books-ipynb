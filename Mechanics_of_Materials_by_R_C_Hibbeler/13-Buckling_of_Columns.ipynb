{
"cells": [
 {
		   "cell_type": "markdown",
	   "metadata": {},
	   "source": [
       "# Chapter 13: Buckling of Columns"
	   ]
	},
{
		   "cell_type": "markdown",
		   "metadata": {},
		   "source": [
			"## Example 13.10: BoC10.sce"
		   ]
		  },
  {
"cell_type": "code",
	   "execution_count": null,
	   "metadata": {
	    "collapsed": true
	   },
	   "outputs": [],
"source": [
"clear all; clc;\n",
"\n",
"disp('Scilab Code Ex 13.10 : ')\n",
"\n",
"//Given:\n",
"L = 750; //mm\n",
"P = 60; //kN\n",
"sigma = 195; //N/mm^2\n",
"K = 1;\n",
"\n",
"//Calculations:\n",
"b2 = (P*1000)/(2*sigma);\n",
"b = sqrt(b2);\n",
"\n",
"A = 2*b*b;\n",
"Iy = (1/12)*(2*b*b^3);\n",
"ry = sqrt(Iy/A);\n",
"\n",
"sl_ratio = (K*L)/(ry);\n",
"\n",
"\n",
"\n",
"if(sl_ratio>12)\n",
"    b4 = (P*1000*2598.1^2)/(2*378125); //Eqn 13.26\n",
"    b = b4^(1/4);\n",
"   \n",
"    sl_ratio = (2598.1)/(b);\n",
"    w = 2*b;\n",
"    \n",
"    if(sl_ratio>55)\n",
"        printf('\n\nThe thickness of the bar  = %1.0fmm',b);\n",
"       printf('\nThe width of the bar      = %1.0fmm',w);\n",
"   end\n",
"end\n",
"\n",
"//-------------------------------------------------------------------------END----------------------------------------------------------------------------\n",
"   "
   ]
   }
,
{
		   "cell_type": "markdown",
		   "metadata": {},
		   "source": [
			"## Example 13.11: BoC11.sce"
		   ]
		  },
  {
"cell_type": "code",
	   "execution_count": null,
	   "metadata": {
	    "collapsed": true
	   },
	   "outputs": [],
"source": [
"clear all; clc;\n",
"\n",
"disp('Scilab Code Ex 13.11 : ')\n",
"\n",
"//Given:\n",
"P = 20*10^3; //N\n",
"y1 = 150; //mm\n",
"x1 = 40; //mm\n",
"A = (x1*y1);\n",
"d = 40;\n",
"K = 1;\n",
"\n",
"//Eqn 13.29\n",
"\n",
"L2 = (3718*A*d^2)/(P);\n",
"L = sqrt(L2);\n",
"KL_d = (K*L)/(d);\n",
"\n",
"if(KL_d>26 & KL_d<=50)\n",
"     printf('\n\nThe greatest allowable length L as specified by the NFPA  = %1.0f mm',L);\n",
"   \n",
"end \n",
"\n",
"//------------------------------------------------------------------------END----------------------------------------------------------------------------- \n",
""
   ]
   }
,
{
		   "cell_type": "markdown",
		   "metadata": {},
		   "source": [
			"## Example 13.12: BoC12.sce"
		   ]
		  },
  {
"cell_type": "code",
	   "execution_count": null,
	   "metadata": {
	    "collapsed": true
	   },
	   "outputs": [],
"source": [
"clear all; clc;\n",
"\n",
"disp('Scilab Code Ex 13.12 : ')\n",
"\n",
"//Given:\n",
"L = 1600; //mm\n",
"K = 2;\n",
"l = 80; //mm\n",
"b = 40; //mm\n",
"e = 20; //mm\n",
"c = 40; //mm\n",
"\n",
"//Calculations:\n",
"I1 = (1/12)*(l*b^3);\n",
"A = l*b;\n",
"r = sqrt(I1/A);\n",
"sl_ratio = (K*L)/(r);\n",
"\n",
"//Eqn 13.26:\n",
"sigma_allow = (378125)/(sl_ratio^2);\n",
"\n",
"I2 = (1/12)*(b*l^3);\n",
"coefficient = (1/A) + (e*c)/I2;\n",
"sigma_max = sigma_allow;\n",
"P = sigma_max/coefficient;\n",
"P = P/1000;\n",
"\n",
"//Display:\n",
"\n",
"printf('\n\nThe load that can be supported if the column is fixed at its base  = %1.2f kN',P);\n",
"\n",
"//------------------------------------------------------------------------END-----------------------------------------------------------------------------------"
   ]
   }
,
{
		   "cell_type": "markdown",
		   "metadata": {},
		   "source": [
			"## Example 13.13: BoC13.sce"
		   ]
		  },
  {
"cell_type": "code",
	   "execution_count": null,
	   "metadata": {
	    "collapsed": true
	   },
	   "outputs": [],
"source": [
"clear all; clc;\n",
"\n",
"disp('Scilab Code Ex 13.13 : ')\n",
"\n",
"//Given:\n",
"sigmaB_allow = 160; //MPa\n",
"E = 200; //GPa\n",
"sigma_y = 250; //MPa\n",
"K= 1;\n",
"A = 3790; //mm^2\n",
"Ix = 17.1*10^6; //mm^4\n",
"ry = 38.2; //mm\n",
"d = 157; //mm\n",
"c= d/2; \n",
"e = 750; //mm\n",
"L = 4000; //mm\n",
"\n",
"sl_ratio = (K*L)/(ry);\n",
"sl_ratio_c = sqrt((2*%pi^2*E*1000)/(sigma_y));\n",
"\n",
"\n",
"\n",
"if(sl_ratio<sl_ratio_c)\n",
"    num = (1 - (sl_ratio^2/(2*sl_ratio_c^2)))*sigma_y;\n",
"    denom1 = (5/3) + ((3/8)*sl_ratio/sl_ratio_c);\n",
"    denom2 = (sl_ratio^3)/(8*sl_ratio_c^3);\n",
"    sigmaA_allow = num/(denom1 - denom2);\n",
"    \n",
"    coeffP = 1/(sigmaA_allow*A) + (e*c)/(Ix*sigmaB_allow);\n",
"    P = 1/coeffP;\n",
"    \n",
"    sigA = (P/A)/(sigmaA_allow);\n",
"    P = P/1000; //in kN\n",
"   \n",
"  \n",
"    if(sigA < 0.15)\n",
"        printf('\n\nThe maximum allowable value of eccentric load  = %1.2f kN',P);\n",
"    end\n",
"end\n",
"\n",
"//---------------------------------------------------------------------------END--------------------------------------------------------------------------------\n",
"    "
   ]
   }
,
{
		   "cell_type": "markdown",
		   "metadata": {},
		   "source": [
			"## Example 13.14: BoC14.sce"
		   ]
		  },
  {
"cell_type": "code",
	   "execution_count": null,
	   "metadata": {
	    "collapsed": true
	   },
	   "outputs": [],
"source": [
"\n",
"clear all; clc;\n",
"\n",
"disp('Scilab Code Ex 13.14 : ')\n",
"\n",
"//Given:\n",
"K = 2;\n",
"d= 60; //mm\n",
"L = 1200; //mm\n",
"e = 80; //mm\n",
"c = d;\n",
"A = 60*120; //mm^2\n",
"l = 60; //mm\n",
"b = 120;//mm\n",
"\n",
"\n",
"//Calculations:\n",
"sl_ratio = (K*L)/(d);\n",
"\n",
"if(sl_ratio>26 & sl_ratio<50)\n",
"    sigma_allow = (3718)/(sl_ratio^2);\n",
"    sigma_max = sigma_allow;\n",
"    \n",
"    I = (1/12)*(l*b^3);\n",
"    coeffP = (1/A) + (e*c)/(I);\n",
"    P = sigma_max/coeffP;\n",
"    P = P/1000; //kN\n",
"    \n",
"     printf('\n\nThe eccentric load that can be supported = %1.2f kN',P);\n",
"end\n",
"\n",
"//Answer given in the textbook varies.\n",
"\n",
"//-------------------------------------------------------------------------END-------------------------------------------------------------------------------------\n",
"    \n",
"    \n",
"    "
   ]
   }
,
{
		   "cell_type": "markdown",
		   "metadata": {},
		   "source": [
			"## Example 13.1: BoC1.sce"
		   ]
		  },
  {
"cell_type": "code",
	   "execution_count": null,
	   "metadata": {
	    "collapsed": true
	   },
	   "outputs": [],
"source": [
"clear all; clc;\n",
"\n",
"disp('Scilab Code Ex 13.1 : ')\n",
"\n",
"//Given:\n",
"l = 7.2*1000; //mm\n",
"E = 200; //GPa\n",
"ro = 75; //mm\n",
"ri = 70; //mm\n",
"sigma_y = 250; //MPa\n",
"\n",
"//Calculations:\n",
"I = (%pi/4)*(ro^4 - ri^4)\n",
"A = (%pi)*(ro^2 -ri^2);\n",
"\n",
"Pcr = (%pi^2*(E*10^6)*I*(1000)^-2)/(l^2); //Pcr = (%pi^2*EI)/(l^2)\n",
"\n",
"sigma_cr = (Pcr*1000)/A;\n",
"\n",
"if(sigma_cr<sigma_y)\n",
"   \n",
"    printf('\n\nThe maximum allowable axial load that the column can support    = %1.1f kN',Pcr);\n",
"end\n",
"\n",
"//-------------------------------------------------------------------------END--------------------------------------------------------------------------------------------"
   ]
   }
,
{
		   "cell_type": "markdown",
		   "metadata": {},
		   "source": [
			"## Example 13.2: BoC2.sce"
		   ]
		  },
  {
"cell_type": "code",
	   "execution_count": null,
	   "metadata": {
	    "collapsed": true
	   },
	   "outputs": [],
"source": [
"clear all; clc;\n",
"\n",
"disp('Scilab Code Ex 13.2 : ')\n",
"\n",
"//Given:\n",
"E = 200; //GPa\n",
"I = 15.3*10^6; //mm^4\n",
"l= 4*1000; //mm\n",
"A = 5890; //mm^2\n",
"sigma_y = 250; //MPa\n",
"\n",
"//Calculations:\n",
"\n",
"Pcr = ((%pi^2)*E*10^6*I*1000^-2)/(l^2); //Pcr = (%pi^2*EI)/(l^2)\n",
"\n",
"sigma_cr = (Pcr*1000)/A;\n",
"\n",
"if(sigma_cr>sigma_y)\n",
"    Pcr = (sigma_y*A);\n",
"    Pcr = Pcr/1000; //in kN\n",
"end\n",
"\n",
"//Display:\n",
"\n",
"printf('\n\nThe maximum allowable axial load that the column can support    = %1.1f kN',Pcr);\n",
"\n",
"//----------------------------------------------------------------------END--------------------------------------------------------------------------------"
   ]
   }
,
{
		   "cell_type": "markdown",
		   "metadata": {},
		   "source": [
			"## Example 13.3: BoC3.sce"
		   ]
		  },
  {
"cell_type": "code",
	   "execution_count": null,
	   "metadata": {
	    "collapsed": true
	   },
	   "outputs": [],
"source": [
"clear all; clc;\n",
"\n",
"disp('Scilab Code Ex 13.3 : ')\n",
"\n",
"//Given:\n",
"E = 200;//GPa\n",
"Ix = 13.4*10^-6;\n",
"Iy = 1.83*10^-6;\n",
"l = 8;\n",
"KLx = 0.5*l; //m\n",
"KLy = 0.7*(l/2); //m\n",
"rx = 66.2; //mm\n",
"ry = 24.5; //mm\n",
"\n",
"Pcrx = (%pi^2*E*10^6*Ix)/(KLx^2); //Pcr = (%pi^2*EI)/(l^2)\n",
"Pcry = (%pi^2*E*10^6*Iy)/(KLy^2); //Pcr = (%pi^2*EI)/(l^2)\n",
"\n",
"Pcr = min(Pcrx,Pcry);\n",
"A = 3060; //mm^2\n",
"sigma_cr = Pcr/A;\n",
"\n",
"sl_ratio_x = (KLx*1000)/(rx);\n",
"sl_ratio_y = (KLy*1000)/(ry);\n",
"s_ratio = max(sl_ratio_x, sl_ratio_y);\n",
"\n",
"//Display:\n",
"\n",
"printf('\n\nThe maximum load that the column can support without buckling    = %1.0f kN',Pcr);\n",
"printf('\nThe largest slenderness ratio                                    = %1.1f N/mm^2',s_ratio);\n",
"//----------------------------------------------------------------------END--------------------------------------------------------------------------------\n",
"\n",
"\n",
""
   ]
   }
,
{
		   "cell_type": "markdown",
		   "metadata": {},
		   "source": [
			"## Example 13.4: BoC4.sce"
		   ]
		  },
  {
"cell_type": "code",
	   "execution_count": null,
	   "metadata": {
	    "collapsed": true
	   },
	   "outputs": [],
"source": [
"clear all; clc;\n",
"\n",
"disp('Scilab Code Ex 13.4 : ')\n",
"\n",
"//Given:\n",
"E = 70;//GPa\n",
"Ix = 61.3*10^-6;\n",
"Iy = 23.2*10^-6;\n",
"l = 5;\n",
"KLx = 2*l; //m\n",
"KLy = 0.7*(l); //m\n",
"FS = 3; //Factor of safety\n",
"sigma_y = 215; //MPa\n",
"\n",
"\n",
"Pcrx = (%pi^2*E*10^6*Ix)/(KLx^2); //Pcr = (%pi^2*EI)/(l^2)\n",
"Pcry = (%pi^2*E*10^6*Iy)/(KLy^2); //Pcr = (%pi^2*EI)/(l^2)\n",
"\n",
"Pcr = min(Pcrx,Pcry);\n",
"A = 7.5*10^-3; //mm^2\n",
"P_allow = Pcr/FS;\n",
"sigma_cr = (Pcr*10^-3)/A;\n",
"\n",
"\n",
"if(sigma_cr<sigma_y)\n",
"\n",
"  printf('\n\nThe largest allowable load that the column can support     = %1.0f kN',P_allow);\n",
"end\n",
"\n",
"//----------------------------------------------------------------------END--------------------------------------------------------------------------------\n",
""
   ]
   }
,
{
		   "cell_type": "markdown",
		   "metadata": {},
		   "source": [
			"## Example 13.5: BoC5.sce"
		   ]
		  },
  {
"cell_type": "code",
	   "execution_count": null,
	   "metadata": {
	    "collapsed": true
	   },
	   "outputs": [],
"source": [
"clear all; clc;\n",
"disp('Scilab Code Ex 13.5 : ')\n",
"//Given:\n",
"E = 200*10^3; //MPa\n",
"sigma_y = 250; //MPa\n",
"x1 = 50; //mm\n",
"y1 = 75; //mm\n",
"z1 = 4.5; //m\n",
"e = 25; //mm\n",
"Ix = (1/12)*x1*(y1*2)^3;\n",
"A = x1*2*y1;\n",
"rx = sqrt(Ix/A);\n",
"L = z1*1000;\n",
"KL = 1*L;\n",
"sl_ratio = KL/rx;\n",
"c = y1;\n",
"ec_r = e*c/(rx^2);\n",
"P_a = 83; //MPa\n",
"A = 7500; //mm^2\n",
"P = P_a*A;\n",
"P = P/1000; //in kN\n",
"k = (L/(2*rx))*(sqrt(P/(E*A)));\n",
"sigma_max = (P*1000/A)*(1+ec_r*sec(k)); //Secant Formula\n",
"l = sqrt((P*1000)/(E*Ix));\n",
"nu_max = e*(sec(l*L/2)-1);\n",
"//Display:\n",
"printf('\n\nThe allowable eccentric load that can be applied on the column  = %1.1fkN',P);\n",
"printf('\nThe maximum deflection of the column due to the loading         = %1.0f mm',nu_max);\n",
"//--------------------------------------------------------------------------END------------------------------------------------------------------------------------"
   ]
   }
,
{
		   "cell_type": "markdown",
		   "metadata": {},
		   "source": [
			"## Example 13.6: BoC6.sce"
		   ]
		  },
  {
"cell_type": "code",
	   "execution_count": null,
	   "metadata": {
	    "collapsed": true
	   },
	   "outputs": [],
"source": [
"clear all; clc;\n",
"\n",
"disp('Scilab Code Ex 13.6 : ')\n",
"\n",
"//Given:\n",
"z1 = 4*1000; //mm\n",
"e = 200; //mm\n",
"KLy = 0.7*z1;\n",
"Iy = 20.4*10^6;\n",
"E = 200*10^3; //N/mm^2\n",
"sigma_y =250; //MPa\n",
"\n",
"//y-y Axis Buckling:\n",
"Pcry = (%pi^2*E*10^6*Iy)/(KLy^2); //Pcr = (%pi^2*EI)/(l^2)\n",
"Pcry = Pcry/1000;\n",
"\n",
"//x-x Axis Yielding:\n",
"Kx= 2;\n",
"KLx = Kx*z1;\n",
"c = (z1-KLy)/2;\n",
"rx = 89.9;\n",
"\n",
"//Solved by applying the Secant Formula and then finding Px by trial and error:\n",
"\n",
"trial_Px = 419.4; //kN\n",
"\n",
"A = 7850;//mm^2\n",
"sigma = (trial_Px*1000)/(A);\n",
"\n",
"if(Pcry>trial_Px & sigma<sigma_y)\n",
"printf('\n\nThe maximum eccentric load that the column can support = %1.1fkN',trial_Px);\n",
"printf('\nFailure will occur about the x-x axis.');\n",
"\n",
"end\n",
"\n",
"//--------------------------------------------------------------------------END------------------------------------------------------------------------------------"
   ]
   }
,
{
		   "cell_type": "markdown",
		   "metadata": {},
		   "source": [
			"## Example 13.7: BoC7.sce"
		   ]
		  },
  {
"cell_type": "code",
	   "execution_count": null,
	   "metadata": {
	    "collapsed": true
	   },
	   "outputs": [],
"source": [
"clear all; clc;\n",
"\n",
"disp('Scilab Code Ex 13.7 : ')\n",
"\n",
"//Given:\n",
"d = 30; //mm\n",
"r = d/2;\n",
"L = 600; //mm\n",
"sigma_pl = 150;//MPa\n",
"\n",
"//Calculations:\n",
"I = (%pi/4)*(r^4);\n",
"A = %pi*r^2;\n",
"r_gyr = sqrt(I/A);\n",
"K = 1;\n",
"sl_ratio = (K*L)/(r_gyr);\n",
"flag1 = 0;\n",
"\n",
"//Assuming the critical stress is elastic:\n",
"E = 150/0.001;\n",
"sigma_cr1 = (%pi^2*E)/(sl_ratio^2); //Pcr = (%pi^2*EI)/(l^2)\n",
"\n",
"\n",
"if(sigma_cr1 > sigma_pl)\n",
"    Et = (270 - 150)/(0.002 - 0.001);\n",
"    sigma_cr2 = (%pi^2*Et)/(sl_ratio^2); //Pcr = (%pi^2*EI)/(l^2)\n",
"    \n",
"   if(sigma_cr2>150 & sigma_cr2<270) \n",
"       Pcr = sigma_cr2*A;\n",
"       Pcr = Pcr/1000; //in kN\n",
"        printf('\n\nThe critical load when used as a pin supported column = %1.0fkN',Pcr);\n",
"   \n",
"   end\n",
"    \n",
"       \n",
"end\n",
"\n",
"\n",
""
   ]
   }
,
{
		   "cell_type": "markdown",
		   "metadata": {},
		   "source": [
			"## Example 13.8: BoC8.sce"
		   ]
		  },
  {
"cell_type": "code",
	   "execution_count": null,
	   "metadata": {
	    "collapsed": true
	   },
	   "outputs": [],
"source": [
"clear all; clc;\n",
"\n",
"disp('Scilab Code Ex 13.8 : ')\n",
"\n",
"//Given:\n",
"E = 200*10^3; //MPa\n",
"sigma_y = 250; //MPa\n",
"L = 5*1000; //mm\n",
"K = 1;\n",
"A = 19000; //mm^2\n",
"rx = 117; //mm\n",
"ry = 67.4; //mm\n",
"\n",
"//Calculations:\n",
"sl_ratio = (K*L)/(ry);\n",
"sl_ratio_c = sqrt((2*%pi^2*E)/(sigma_y));\n",
"\n",
"if(sl_ratio>0 & sl_ratio<sl_ratio_c)\n",
"    num = (1 - (sl_ratio^2/(2*sl_ratio_c^2)))*sigma_y;\n",
"    denom1 = (5/3) + ((3/8)*sl_ratio/sl_ratio_c);\n",
"    denom2 = (sl_ratio^3)/(8*sl_ratio_c^3);\n",
"    sigma_allow = num/(denom1 - denom2);\n",
"    \n",
"    P = sigma_allow*A;\n",
"    P = P/1000;\n",
"       printf('\n\nThe largest load the pin supported column can safely bear = %1.0f kN',P);\n",
"       \n",
"   end\n",
"   \n",
"//---------------------------------------------------------------------END----------------------------------------------------------------------------"
   ]
   }
,
{
		   "cell_type": "markdown",
		   "metadata": {},
		   "source": [
			"## Example 13.9: BoC9.sce"
		   ]
		  },
  {
"cell_type": "code",
	   "execution_count": null,
	   "metadata": {
	    "collapsed": true
	   },
	   "outputs": [],
"source": [
"clear all; clc;\n",
"\n",
"disp('Scilab Code Ex 13.9 : ')\n",
"\n",
"//Given:\n",
"P = 80; //kN\n",
"E = 210*10^3; //MPa\n",
"sigma_y = 360; //MPa\n",
"L = 5000; //mm\n",
"K = 0.5;\n",
"\n",
"//Calculations:\n",
"I_by_d = (1/4)*(%pi)*(0.5^4);\n",
"A_by_d = (1/4)*(%pi);\n",
"r_by_d = sqrt(I_by_d/A_by_d);\n",
"\n",
"sl_ratio_c = sqrt((2*%pi^2*E)/(sigma_y));\n",
"sigma_allow = (P*1000)/A_by_d;\n",
"\n",
"d4 = (sigma_allow*23*(K*L)^2*16)/(12*%pi^2*E);\n",
"d = d4^(1/4);\n",
"\n",
"//Check:\n",
"d = ceil(d);\n",
"r = d/4;\n",
"KL_r = (K*L)/r;\n",
"\n",
"\n",
"if(KL_r>sl_ratio_c & KL_r<200)\n",
"        printf('\n\nThe smallest diameter of the rod as allowed by AISC specification  = %1.0fmm',d);\n",
"   \n",
"end \n",
"\n",
"//------------------------------------------------------------------------END----------------------------------------------------------------------------- "
   ]
   }
],
"metadata": {
		  "kernelspec": {
		   "display_name": "Scilab",
		   "language": "scilab",
		   "name": "scilab"
		  },
		  "language_info": {
		   "file_extension": ".sce",
		   "help_links": [
			{
			 "text": "MetaKernel Magics",
			 "url": "https://github.com/calysto/metakernel/blob/master/metakernel/magics/README.md"
			}
		   ],
		   "mimetype": "text/x-octave",
		   "name": "scilab",
		   "version": "0.7.1"
		  }
		 },
		 "nbformat": 4,
		 "nbformat_minor": 0
}
