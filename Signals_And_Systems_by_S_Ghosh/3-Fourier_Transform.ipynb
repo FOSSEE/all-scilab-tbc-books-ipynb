{
"cells": [
 {
		   "cell_type": "markdown",
	   "metadata": {},
	   "source": [
       "# Chapter 3: Fourier Transform"
	   ]
	},
{
		   "cell_type": "markdown",
		   "metadata": {},
		   "source": [
			"## Example 3.4: Find_system_function.sce"
		   ]
		  },
  {
"cell_type": "code",
	   "execution_count": null,
	   "metadata": {
	    "collapsed": true
	   },
	   "outputs": [],
"source": [
"//Example 3.4\n",
"//Find system function and output of the system\n",
"clc;\n",
"syms t;\n",
"h=%e^(-3*t);\n",
"H=laplace(h,t,'jw');\n",
"disp(H,'SYSTEM FUNCTION=');\n",
"x=%e^(-2*t);\n",
"X=laplace(x,t,'jw');\n",
"Y=H*X;\n",
"y=ilaplace(Y,'jw',t);\n",
"disp(y,'OUTPUT OF THE SYSTEM FOR THE GIVEN INPUT IS=');"
   ]
   }
,
{
		   "cell_type": "markdown",
		   "metadata": {},
		   "source": [
			"## Example 3.5: Find_impulse_responce.sce"
		   ]
		  },
  {
"cell_type": "code",
	   "execution_count": null,
	   "metadata": {
	    "collapsed": true
	   },
	   "outputs": [],
"source": [
"//Example 3.5\n",
"//Find the impulse responce and output of the system\n",
"clc;\n",
"syms jw t;\n",
"H=(jw+1)/((jw+2)*(jw+3));\n",
"h=ilaplace(H,jw,t);\n",
"disp(h,'IMPULSE RESPONCE=');\n",
"x=%e^(-2*t);\n",
"X=laplace(x,t,jw);\n",
"Y=H*X;\n",
"y=ilaplace(Y,jw,t);\n",
"disp(y,'OUTPTU OF THE SYSTEM IS=');"
   ]
   }
],
"metadata": {
		  "kernelspec": {
		   "display_name": "Scilab",
		   "language": "scilab",
		   "name": "scilab"
		  },
		  "language_info": {
		   "file_extension": ".sce",
		   "help_links": [
			{
			 "text": "MetaKernel Magics",
			 "url": "https://github.com/calysto/metakernel/blob/master/metakernel/magics/README.md"
			}
		   ],
		   "mimetype": "text/x-octave",
		   "name": "scilab",
		   "version": "0.7.1"
		  }
		 },
		 "nbformat": 4,
		 "nbformat_minor": 0
}
