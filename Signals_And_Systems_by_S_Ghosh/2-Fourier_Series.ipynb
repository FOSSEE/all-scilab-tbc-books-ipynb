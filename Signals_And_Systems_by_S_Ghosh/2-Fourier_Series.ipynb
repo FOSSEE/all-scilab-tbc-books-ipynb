{
"cells": [
 {
		   "cell_type": "markdown",
	   "metadata": {},
	   "source": [
       "# Chapter 2: Fourier Series"
	   ]
	},
{
		   "cell_type": "markdown",
		   "metadata": {},
		   "source": [
			"## Example 2.2: Find_trigonometric_fourier_series.sce"
		   ]
		  },
  {
"cell_type": "code",
	   "execution_count": null,
	   "metadata": {
	    "collapsed": true
	   },
	   "outputs": [],
"source": [
"clear ;\n",
"close;\n",
"clc;\n",
"T0=4;\n",
"t=.01:0.01:2*T0;\n",
"t_temp=0.01:0.01:T0/2;\n",
"s=length(t)/length(t_temp);\n",
"x=[];\n",
"for i=1:s\n",
"    if modulo(i,2)==0 then\n",
"        x=[x zeros(1,length(t_temp))];\n",
"    else\n",
"        x=[x ones(1,length(t_temp))];\n",
"    end\n",
"end\n",
"a=gca();\n",
"plot(t,x)\n",
"poly1=a.children.children;\n",
"poly1.thickness=3;\n",
"poly1.foreground=2;\n",
"xtitle('x(t)','t')\n",
"w0=%pi/2;\n",
"for k=1:5\n",
"    cc(k,:)=exp(-%i*k*w0*t);\n",
"    ck(k)=x*cc(k,:)'/length(t);\n",
"    if abs(ck(k))<0.01 then\n",
"    ck(k)=0;\n",
"    else if imag(ck(k))<0.01 then\n",
"    ck(k)=real(ck(k));\n",
"    end\n",
"    end\n",
"   \n",
"end \n",
"a=2*real(ck);\n",
"b=2*imag(ck);\n",
"disp(b,'bn=');"
   ]
   }
],
"metadata": {
		  "kernelspec": {
		   "display_name": "Scilab",
		   "language": "scilab",
		   "name": "scilab"
		  },
		  "language_info": {
		   "file_extension": ".sce",
		   "help_links": [
			{
			 "text": "MetaKernel Magics",
			 "url": "https://github.com/calysto/metakernel/blob/master/metakernel/magics/README.md"
			}
		   ],
		   "mimetype": "text/x-octave",
		   "name": "scilab",
		   "version": "0.7.1"
		  }
		 },
		 "nbformat": 4,
		 "nbformat_minor": 0
}
