{
"cells": [
 {
		   "cell_type": "markdown",
	   "metadata": {},
	   "source": [
       "# Chapter 8: Stability"
	   ]
	},
{
		   "cell_type": "markdown",
		   "metadata": {},
		   "source": [
			"## Example 8.3: Check_the_stability.sce"
		   ]
		  },
  {
"cell_type": "code",
	   "execution_count": null,
	   "metadata": {
	    "collapsed": true
	   },
	   "outputs": [],
"source": [
"//Example 8.3\n",
"clc;\n",
"// Define the polynomial\n",
"s=poly(0,'s');\n",
"p=3+10*s+5*s^2+s^3;\n",
"// Calculate the routh of above polynomial\n",
"r=routh_t(p);\n",
"disp(r,'Routh array=');\n",
"A=r(:,1);\n",
"c=0;\n",
"x1=0;\n",
"eps=0;\n",
"for i=1:4\n",
"   x1=A(i,1);\n",
"   if x1<0\n",
"     c=c+1;\n",
"   end\n",
"end\n",
"   if(c>=1) then\n",
"       printf('system is unstable');\n",
"   else \n",
"       printf('system is stable');\n",
"   end\n",
"x=roots(p);"
   ]
   }
,
{
		   "cell_type": "markdown",
		   "metadata": {},
		   "source": [
			"## Example 8.4: Check_the_stability.sce"
		   ]
		  },
  {
"cell_type": "code",
	   "execution_count": null,
	   "metadata": {
	    "collapsed": true
	   },
	   "outputs": [],
"source": [
"//Example 8.4\n",
"clc;\n",
"// Define the polynomial\n",
"s=poly(0,'s');\n",
"p=10+3*s+2*s^2+s^3;\n",
"// Calculate the routh of above polynomial\n",
"r=routh_t(p);\n",
"disp(r,'Routh array=');\n",
"A=r(:,1);\n",
"c=0;\n",
"x1=0;\n",
"eps=0;\n",
"for i=1:4\n",
"    x1=A(i,1);\n",
"    if x1<0\n",
"        c=c+1;\n",
"    end\n",
"end\n",
"   if(c>=1) then\n",
"       printf('system is unstable');\n",
"   else \n",
"       printf('system is stable');\n",
"   end\n",
"x=roots(p);"
   ]
   }
,
{
		   "cell_type": "markdown",
		   "metadata": {},
		   "source": [
			"## Example 8.5_a: Check_the_stability.sce"
		   ]
		  },
  {
"cell_type": "code",
	   "execution_count": null,
	   "metadata": {
	    "collapsed": true
	   },
	   "outputs": [],
"source": [
"//Example 8.5a\n",
"clc;\n",
"// Define the polynomial\n",
"s=poly(0,'s');\n",
"p=20+36*s+21*s^2+21*s^3+s^4;\n",
"// Calculate the routh of above polynomial\n",
"r=routh_t(p);\n",
"disp(r,'Routh array=');\n",
"A=r(:,1);\n",
"c=0;\n",
"x1=0;\n",
"eps=0;\n",
"for i=1:5\n",
"   x1=A(i,1);\n",
"   if x1<0\n",
"       c=c+1;\n",
"   end\n",
"end\n",
"   if(c>=1) then\n",
"       printf('system is unstable');\n",
"   else \n",
"       printf('system is stable');\n",
"   end\n",
"x=roots(p);"
   ]
   }
,
{
		   "cell_type": "markdown",
		   "metadata": {},
		   "source": [
			"## Example 8.5_b: Check_the_stability.sce"
		   ]
		  },
  {
"cell_type": "code",
	   "execution_count": null,
	   "metadata": {
	    "collapsed": true
	   },
	   "outputs": [],
"source": [
"//Example 8.5b\n",
"clc;\n",
"// Define the polynomial\n",
"s=poly(0,'s');\n",
"p=1+s+2*s^2+3*s^3+6*s^4+s^5;\n",
"// Calculate the routh of above polynomial\n",
"r=routh_t(p);\n",
"disp(r,'Routh array=');\n",
"A=r(:,1);\n",
"c=0;\n",
"x1=0;\n",
"eps=0;\n",
"for i=1:6\n",
"     x1=A(i,1);\n",
"     if x1<0\n",
"         c=c+1;\n",
"     end\n",
"end\n",
"   if(c>=1) then\n",
"       printf('system is unstable');\n",
"   else \n",
"       printf('system is stable');\n",
"   end\n",
"x=roots(p);"
   ]
   }
,
{
		   "cell_type": "markdown",
		   "metadata": {},
		   "source": [
			"## Example 8.6: Check_the_stability.sce"
		   ]
		  },
  {
"cell_type": "code",
	   "execution_count": null,
	   "metadata": {
	    "collapsed": true
	   },
	   "outputs": [],
"source": [
"//Example 8.6\n",
"clc;\n",
"// Define the polynomial\n",
"s=poly(0,'s');\n",
"p=1+3*s+8*s^2+4*s^3+2*s^4+s^5;\n",
"// Calculate the routh of above polynomial\n",
"r=routh_t(p);\n",
"A=r(:,1);\n",
"c=0;\n",
"x=0;\n",
"for i=1:6\n",
"    x=A(i,1);\n",
"    if x<>0\n",
"        c=c+1;\n",
"    end\n",
"end\n",
"   if(c>=1) then\n",
"       printf('system is unstable');\n",
"   else \n",
"       printf('system is stable');\n",
"   end"
   ]
   }
,
{
		   "cell_type": "markdown",
		   "metadata": {},
		   "source": [
			"## Example 8.7: Check_the_stability.sce"
		   ]
		  },
  {
"cell_type": "code",
	   "execution_count": null,
	   "metadata": {
	    "collapsed": true
	   },
	   "outputs": [],
"source": [
"//Example 8.7\n",
"clc;\n",
"// Define the polynomial\n",
"s=poly(0,'s');\n",
"p=8+4*s+4*s^2+2*s^3+2*s^4+s^5;\n",
"// Calculate the routh of above polynomial\n",
"r=routh_t(p);\n",
"S=roots(p);\n",
"disp(r,'Routh array=');\n",
"disp(S,'Roots=');\n",
"A=r(:,1);\n",
"c=0;\n",
"x=0;\n",
"for i=1:5\n",
"    x=A(i,1);\n",
"    if x<0\n",
"        c=c+1;\n",
"    end\n",
"end\n",
"if(c>=1) then\n",
"   printf('system is unstable');\n",
"else \n",
"    l=length(S);\n",
"    c=0;\n",
"    for i=1:l\n",
"        a=S(i,1);\n",
"        r=real(a);\n",
"        if r<0 then\n",
"            c=c+1;\n",
"        end\n",
"    end\n",
"    if c==0 then\n",
"        printf('system is stable');\n",
"    else\n",
"        printf('system is unstable');\n",
"    end\n",
"end"
   ]
   }
,
{
		   "cell_type": "markdown",
		   "metadata": {},
		   "source": [
			"## Example 8.9: Check_the_stability.sce"
		   ]
		  },
  {
"cell_type": "code",
	   "execution_count": null,
	   "metadata": {
	    "collapsed": true
	   },
	   "outputs": [],
"source": [
"//Example 8.9\n",
"clc;\n",
"// Define the polynomial\n",
"s=poly(0,'s');\n",
"p=8+4*s+3*s^2+3*s^3+s^4+s^5;\n",
"// Calculate the routh of above polynomial\n",
"r=routh_t(p);\n",
"A=r(:,1);\n",
"c=0;\n",
"x=0;\n",
"for i=1:6\n",
"    x=A(i,1);\n",
"    if x<>0\n",
"        c=c+1;\n",
"    end\n",
"end\n",
"if(c>=1) then\n",
"    printf('system is unstable');\n",
"else \n",
"    printf('system is stable');\n",
"end"
   ]
   }
],
"metadata": {
		  "kernelspec": {
		   "display_name": "Scilab",
		   "language": "scilab",
		   "name": "scilab"
		  },
		  "language_info": {
		   "file_extension": ".sce",
		   "help_links": [
			{
			 "text": "MetaKernel Magics",
			 "url": "https://github.com/calysto/metakernel/blob/master/metakernel/magics/README.md"
			}
		   ],
		   "mimetype": "text/x-octave",
		   "name": "scilab",
		   "version": "0.7.1"
		  }
		 },
		 "nbformat": 4,
		 "nbformat_minor": 0
}
