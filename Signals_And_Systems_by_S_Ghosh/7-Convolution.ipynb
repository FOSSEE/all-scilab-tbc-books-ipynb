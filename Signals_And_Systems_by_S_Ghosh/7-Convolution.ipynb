{
"cells": [
 {
		   "cell_type": "markdown",
	   "metadata": {},
	   "source": [
       "# Chapter 7: Convolution"
	   ]
	},
{
		   "cell_type": "markdown",
		   "metadata": {},
		   "source": [
			"## Example 7.2: Convolution_of_two_periodic_signals.sce"
		   ]
		  },
  {
"cell_type": "code",
	   "execution_count": null,
	   "metadata": {
	    "collapsed": true
	   },
	   "outputs": [],
"source": [
"//Example 7.2\n",
"//Convolution of two periodic signals\n",
"clc;\n",
"x1=[1,2,3,4];\n",
"x2=[3,1,1,3];\n",
"X1=fft(x1,-1);\n",
"X2=fft(x2,-1);\n",
"X3=X1.*X2;\n",
"x3=fft(X3,1);\n",
"disp(x3,'Convolution of the two given periodic signals is');"
   ]
   }
,
{
		   "cell_type": "markdown",
		   "metadata": {},
		   "source": [
			"## Example 7.3: Linear_and_circular_convolution.sce"
		   ]
		  },
  {
"cell_type": "code",
	   "execution_count": null,
	   "metadata": {
	    "collapsed": true
	   },
	   "outputs": [],
"source": [
"//Example 7.3\n",
"//Linear and circular convolution of two sequences\n",
"clc;\n",
"x1=[1,2,3,4];\n",
"x2=[3,1,4,2];\n",
"y1=convol(x1,x2);\n",
"disp(y1,'Linear convolution of the two sequences')\n",
"X1=fft(x1,-1);\n",
"X2=fft(x2,-1);\n",
"Y2=X1.*X2;\n",
"y2=fft(Y2,1);\n",
"disp(y2,'Circular convolution of the two sequences');"
   ]
   }
,
{
		   "cell_type": "markdown",
		   "metadata": {},
		   "source": [
			"## Example 7.4: Convolution_of_two_sequences.sce"
		   ]
		  },
  {
"cell_type": "code",
	   "execution_count": null,
	   "metadata": {
	    "collapsed": true
	   },
	   "outputs": [],
"source": [
"//Example 7.4\n",
"//Convolution of given sequences\n",
"clc;\n",
"x=[1,2,3,4];\n",
"y=[1,-2];\n",
"X=convol(x,y);\n",
"disp(X,'Convolution of given sequences');"
   ]
   }
,
{
		   "cell_type": "markdown",
		   "metadata": {},
		   "source": [
			"## Example 7.5: Convolution_of_two_sequences.sce"
		   ]
		  },
  {
"cell_type": "code",
	   "execution_count": null,
	   "metadata": {
	    "collapsed": true
	   },
	   "outputs": [],
"source": [
"//Example 7.5\n",
"//Convolution of two signals\n",
"clc;\n",
"x=[1,3,2];\n",
"y=[4,1,2];\n",
"X=convol(x,y);\n",
"disp(X,'Convolution of the given sequences');"
   ]
   }
,
{
		   "cell_type": "markdown",
		   "metadata": {},
		   "source": [
			"## Example 7.6: Convolution_of_two_sequences.sce"
		   ]
		  },
  {
"cell_type": "code",
	   "execution_count": null,
	   "metadata": {
	    "collapsed": true
	   },
	   "outputs": [],
"source": [
"//Example 7.6\n",
"//Convolution of given sequences\n",
"clc;\n",
"x=[1,-2,2];\n",
"y=[2,5,3,6];\n",
"X=convol(x,y);\n",
"disp(X,'Convolution of the given sequences');"
   ]
   }
],
"metadata": {
		  "kernelspec": {
		   "display_name": "Scilab",
		   "language": "scilab",
		   "name": "scilab"
		  },
		  "language_info": {
		   "file_extension": ".sce",
		   "help_links": [
			{
			 "text": "MetaKernel Magics",
			 "url": "https://github.com/calysto/metakernel/blob/master/metakernel/magics/README.md"
			}
		   ],
		   "mimetype": "text/x-octave",
		   "name": "scilab",
		   "version": "0.7.1"
		  }
		 },
		 "nbformat": 4,
		 "nbformat_minor": 0
}
