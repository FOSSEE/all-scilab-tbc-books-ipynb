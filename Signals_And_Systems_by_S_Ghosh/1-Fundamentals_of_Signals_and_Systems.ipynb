{
"cells": [
 {
		   "cell_type": "markdown",
	   "metadata": {},
	   "source": [
       "# Chapter 1: Fundamentals of Signals and Systems"
	   ]
	},
{
		   "cell_type": "markdown",
		   "metadata": {},
		   "source": [
			"## Example 1.11_b: Check_for_time_invariant_systems.sce"
		   ]
		  },
  {
"cell_type": "code",
	   "execution_count": null,
	   "metadata": {
	    "collapsed": true
	   },
	   "outputs": [],
"source": [
"//Example 1.11b\n",
"//Determine whether the following signal is time invariant or not\n",
"clc;\n",
"n0=2;\n",
"N=10;\n",
"for n=1:N\n",
"    x(n)=n; \n",
"    y(n)=n*x(n);\n",
"end\n",
"inputshift=x(N-n0);\n",
"outputshift=y(N-n0);\n",
"if(inputshift==outputshift)\n",
"    disp('THE GIVEN SYSTEM IS TIME INVARIANT')\n",
"else\n",
"    disp('THE GIVEN SYSTEM IS TIME VARIANT');\n",
"end"
   ]
   }
,
{
		   "cell_type": "markdown",
		   "metadata": {},
		   "source": [
			"## Example 1.12_b: Check_for_linear_systems.sce"
		   ]
		  },
  {
"cell_type": "code",
	   "execution_count": null,
	   "metadata": {
	    "collapsed": true
	   },
	   "outputs": [],
"source": [
"//Example 1.12b\n",
"//Determine whether the system is linear or not\n",
"clc;\n",
"x1=[1,1,1,1]\n",
"x2=[2,2,2,2]\n",
"a=1\n",
"b=1\n",
"for n=1:length(x1)\n",
"    x3(n)=a*x1(n)+b*x2(n)\n",
"end\n",
"for n=1:length(x1)\n",
"    y1(n)=x1(n)^2\n",
"    y2(n)=x2(n)^2\n",
"    y3(n)=x3(n)^2\n",
"end\n",
"for n=1:length(y1)\n",
"    z(n)=a*y1(n)+b*y2(n)\n",
"end\n",
"count=0\n",
"for n=1:length(y1)\n",
"    if(y3(n)==z(n))\n",
"        count=count+1;\n",
"     end   \n",
"end\n",
"if(count==length(y3))\n",
"disp('It satisfy the superposition principle');\n",
"disp('THE GIVEN SYSTEM IS LINEAR ');\n",
"else\n",
"    disp('It does not satisfy superposition principle ');\n",
"    disp('THE GIVEN SYSTEM IS NON LINEAR');\n",
"end"
   ]
   }
,
{
		   "cell_type": "markdown",
		   "metadata": {},
		   "source": [
			"## Example 1.15_a: Check_for_periodicity.sce"
		   ]
		  },
  {
"cell_type": "code",
	   "execution_count": null,
	   "metadata": {
	    "collapsed": true
	   },
	   "outputs": [],
"source": [
"//Example 1.15a\n",
"//Check whether the given signal is periodic or not\n",
"clc;\n",
"t=-10:0.01:10;\n",
"y=cos(t+(%pi/3));\n",
"plot(t,y);\n",
"disp('Plot shows that the given signal is periodic with period 2*%pi');"
   ]
   }
,
{
		   "cell_type": "markdown",
		   "metadata": {},
		   "source": [
			"## Example 1.15_b: Check_for_periodicity.sce"
		   ]
		  },
  {
"cell_type": "code",
	   "execution_count": null,
	   "metadata": {
	    "collapsed": true
	   },
	   "outputs": [],
"source": [
"//Example 1.15b\n",
"//Check whether the given signal is periodic or not\n",
"clc;\n",
"t=-10:0.01:10;\n",
"y=sin((2*%pi/5)*t);\n",
"plot(t,y);\n",
"disp('Plot shows that the given signal is periodic with period 5');"
   ]
   }
,
{
		   "cell_type": "markdown",
		   "metadata": {},
		   "source": [
			"## Example 1.15_c: Check_for_periodicity.sce"
		   ]
		  },
  {
"cell_type": "code",
	   "execution_count": null,
	   "metadata": {
	    "collapsed": true
	   },
	   "outputs": [],
"source": [
"//Example 1.15c\n",
"//Check whether the given signal is periodic or not\n",
"clc;\n",
"t=-20:0.01:20;\n",
"y=sin((%pi/2)*t)+cos((%pi/4)*t);\n",
"plot(t,y);\n",
"disp('Plot shows that the given signal is periodic with period 40');"
   ]
   }
,
{
		   "cell_type": "markdown",
		   "metadata": {},
		   "source": [
			"## Example 1.15_d: Check_for_periodicity.sce"
		   ]
		  },
  {
"cell_type": "code",
	   "execution_count": null,
	   "metadata": {
	    "collapsed": true
	   },
	   "outputs": [],
"source": [
"//Example 1.15d\n",
"//Check whether the given signal is periodic or not\n",
"clc;\n",
"t=-10:0.01:10;\n",
"y=(cos(t))^2;\n",
"plot(t,y);\n",
"disp('Plot shows that the given signal is periodic with period %pi');"
   ]
   }
,
{
		   "cell_type": "markdown",
		   "metadata": {},
		   "source": [
			"## Example 1.15_e: Check_for_periodicity.sce"
		   ]
		  },
  {
"cell_type": "code",
	   "execution_count": null,
	   "metadata": {
	    "collapsed": true
	   },
	   "outputs": [],
"source": [
"//Example 1.15e\n",
"//Check whether the given signal is periodic or not\n",
"clc;\n",
"t=-20:0.01:20;\n",
"y=sin(t)+cos(sqrt(3)*t);\n",
"plot(t,y);\n",
"disp('Plot shows that the given signal is NOT periodic');"
   ]
   }
,
{
		   "cell_type": "markdown",
		   "metadata": {},
		   "source": [
			"## Example 1.19_a: Check_for_periodicity.sce"
		   ]
		  },
  {
"cell_type": "code",
	   "execution_count": null,
	   "metadata": {
	    "collapsed": true
	   },
	   "outputs": [],
"source": [
"//Example 1.19a\n",
"//Check whether the given signal is periodic or not\n",
"clc;\n",
"n=-50:50;\n",
"y=sin(n/5);\n",
"plot2d3(n,y);\n",
"disp('Plot shows that the given signal is periodic');"
   ]
   }
,
{
		   "cell_type": "markdown",
		   "metadata": {},
		   "source": [
			"## Example 1.19_b: Check_for_periodicity.sce"
		   ]
		  },
  {
"cell_type": "code",
	   "execution_count": null,
	   "metadata": {
	    "collapsed": true
	   },
	   "outputs": [],
"source": [
"//Example 1.19b\n",
"//Check whether the given signal is periodic or not\n",
"clc;\n",
"n=-20:20;\n",
"x=exp(%i*(%pi/5)*n);\n",
"plot2d3(n,x);\n",
"disp('Plot shows that the given signal is periodic');"
   ]
   }
,
{
		   "cell_type": "markdown",
		   "metadata": {},
		   "source": [
			"## Example 1.19_c: Check_for_periodicity.sce"
		   ]
		  },
  {
"cell_type": "code",
	   "execution_count": null,
	   "metadata": {
	    "collapsed": true
	   },
	   "outputs": [],
"source": [
"//Example 1.19c\n",
"//Check whether the given signal is periodic or not\n",
"clc;\n",
"n=-75:75;\n",
"x=cos((%pi/5)*n)+sin((%pi/6)*n);\n",
"plot2d3(n,x);\n",
"disp('Plot shows that the given signal is periodic');"
   ]
   }
,
{
		   "cell_type": "markdown",
		   "metadata": {},
		   "source": [
			"## Example 1.1: Time_shifting_and_scaling.sce"
		   ]
		  },
  {
"cell_type": "code",
	   "execution_count": null,
	   "metadata": {
	    "collapsed": true
	   },
	   "outputs": [],
"source": [
"//Example1.1\n",
"clc;\n",
"t=0:0.01:9;\n",
"A=0:4/900:4;\n",
"for i=1:length(t)\n",
"    if t(i)<3 then\n",
"        x(i)=A(i)*t(i);\n",
"    else\n",
"        x(i)=0\n",
"    end\n",
"end\n",
"t1=t+3;\n",
"subplot(2,2,1)\n",
"plot(t1,x);\n",
"xtitle('x(t-3)');\n",
"subplot(2,2,2)\n",
"plot(4*t,x);\n",
"xtitle('x(t/4)');\n",
"subplot(2,2,3)\n",
"plot(t/3,x);\n",
"xtitle('x(3t)');\n",
"subplot(2,2,4)\n",
"t2=-9:0.01:0\n",
"plot(t2,x($:-1:1));\n",
"xtitle('x(-t)');\n",
"figure\n",
"plot(t,x);\n",
"xtitle('x(t)');"
   ]
   }
,
{
		   "cell_type": "markdown",
		   "metadata": {},
		   "source": [
			"## Example 1.3_a: Check_for_energy_or_power_signal.sce"
		   ]
		  },
  {
"cell_type": "code",
	   "execution_count": null,
	   "metadata": {
	    "collapsed": true
	   },
	   "outputs": [],
"source": [
"//Example 1.3a\n",
"//Find whether the the given signal is energy or power signal\n",
"clc;\n",
"A=0.5;\n",
"phi=0;\n",
"t=0:0.001:10;\n",
"y=A*sin(2*%pi*t+phi);\n",
"P=(integrate('A^2*(sin(2*%pi*t))^2','t',0,2*%pi))/(2*%pi);\n",
"disp(P,'Power of the signal is');\n",
"disp('Since the power of the given signal is finite so we can say that this signal is a power signal');"
   ]
   }
,
{
		   "cell_type": "markdown",
		   "metadata": {},
		   "source": [
			"## Example 1.3_b: Check_for_energy_or_power_signal.sce"
		   ]
		  },
  {
"cell_type": "code",
	   "execution_count": null,
	   "metadata": {
	    "collapsed": true
	   },
	   "outputs": [],
"source": [
"//Example 1.3b\n",
"//Find whether the the given signal is energy or power signal\n",
"clc;\n",
"b=0.5;\n",
"t=0:0.001:10;\n",
"y=exp(-b*t);\n",
"E=integrate('(exp(-b*t))^2','t',0,2*%pi);\n",
"disp(E,'Energy of the signal is');\n",
"disp('Since the energy of the given signal is finite so we can say that this signal is an energy signal');"
   ]
   }
,
{
		   "cell_type": "markdown",
		   "metadata": {},
		   "source": [
			"## Example 1.4: Time_shifting_and_scaling.sce"
		   ]
		  },
  {
"cell_type": "code",
	   "execution_count": null,
	   "metadata": {
	    "collapsed": true
	   },
	   "outputs": [],
"source": [
"//Example 1.4\n",
"//Time Shifting And Scaling\n",
"clc;\n",
"n=-2:8;\n",
"x=[0,0,0,1,2,3,4,4,0,0,0];\n",
"n1=n+3;\n",
"subplot(2,2,1);\n",
"plot2d3(n1,x);\n",
"xtitle('x[n-3]');\n",
"subplot(2,2,2);\n",
"plot2d3(ceil(n/3),x);\n",
"xtitle('x[3n]');\n",
"subplot(2,2,3);\n",
"n2=-8:2;\n",
"plot2d3(n2,x($:-1:1));\n",
"xtitle('x[-n]');\n",
"subplot(2,2,4)\n",
"n3=n2+3;\n",
"plot2d3(n3,x($:-1:1));\n",
"xtitle('x[-n+3]');\n",
"figure\n",
"plot2d3(n,x);\n",
"xtitle('x[n]');"
   ]
   }
,
{
		   "cell_type": "markdown",
		   "metadata": {},
		   "source": [
			"## Example 1.5: Sum_and_multiplication_of_two_signal.sce"
		   ]
		  },
  {
"cell_type": "code",
	   "execution_count": null,
	   "metadata": {
	    "collapsed": true
	   },
	   "outputs": [],
"source": [
"//Example 1.5\n",
"clc;\n",
"n=-1:5;\n",
"x1=[0,0,1,2,-3,0,-2];\n",
"x2=[2,1,-1,3,2,0,0];\n",
"y1=x1+x2;\n",
"disp(y1,'y1[n]=');\n",
"y2=x1.*x2;\n",
"disp(y2,'y2[n]=');"
   ]
   }
,
{
		   "cell_type": "markdown",
		   "metadata": {},
		   "source": [
			"## Example 1.6: Ploting_of_signal.sce"
		   ]
		  },
  {
"cell_type": "code",
	   "execution_count": null,
	   "metadata": {
	    "collapsed": true
	   },
	   "outputs": [],
"source": [
"//Example 1.6\n",
"clc;\n",
"n1=-4:-1;\n",
"for i=1:length(n1)\n",
"    x(i)=1+(n1(i)/4);\n",
"end\n",
"for j=5:9\n",
"    x(j)=1;\n",
"end\n",
"n=-4:4;\n",
"plot2d3(n,x);\n",
"xtitle('x[n]');"
   ]
   }
,
{
		   "cell_type": "markdown",
		   "metadata": {},
		   "source": [
			"## Example 1.8_a: Check_for_periodicity.sce"
		   ]
		  },
  {
"cell_type": "code",
	   "execution_count": null,
	   "metadata": {
	    "collapsed": true
	   },
	   "outputs": [],
"source": [
"//Example 1.8a\n",
"//Check whether the given signal is periodic or not\n",
"clc;\n",
"n=-20:20;\n",
"x=cos(0.1*%pi*n);\n",
"plot2d3(n,x);\n",
"f=0.1*%pi/(2*%pi);//f is no. of cycles per sample\n",
"N=1/f;//N is no. of samples per cycle\n",
"disp('samples',N,'Figure shows that the signal is periodic with period equal to');"
   ]
   }
,
{
		   "cell_type": "markdown",
		   "metadata": {},
		   "source": [
			"## Example 1.9_a: Find_energy_of_signal.sce"
		   ]
		  },
  {
"cell_type": "code",
	   "execution_count": null,
	   "metadata": {
	    "collapsed": true
	   },
	   "outputs": [],
"source": [
"//Example 1.9a\n",
"clc;\n",
"E=0;\n",
"for n=0:100\n",
"    x(n+1)=(-0.3)^n;\n",
"end\n",
"for n=0:100\n",
"    E=E+x(n+1)^2;\n",
"end\n",
"if E<%inf then\n",
"    disp(E,'The given signal is energy signal with energy=');\n",
"else\n",
"    disp('The given signal is not energy signal');\n",
"end"
   ]
   }
,
{
		   "cell_type": "markdown",
		   "metadata": {},
		   "source": [
			"## Example 1.9_b: Find_power_of_signal.sce"
		   ]
		  },
  {
"cell_type": "code",
	   "execution_count": null,
	   "metadata": {
	    "collapsed": true
	   },
	   "outputs": [],
"source": [
"//Example 1.9b\n",
"clc;\n",
"for n=0:100\n",
"    x(n+1)=2;\n",
"end\n",
"P=0;\n",
"for n=0:100\n",
"    P=P+(abs(x(n+1)^2))/100;\n",
"end\n",
"if P<%inf then\n",
"    disp(P,'The given signal is power signal with power =');\n",
"else\n",
"    disp('The given signal is not power signal');\n",
"end"
   ]
   }
,
{
		   "cell_type": "markdown",
		   "metadata": {},
		   "source": [
			"## Example 1.9_c: Find_power_of_signal.sce"
		   ]
		  },
  {
"cell_type": "code",
	   "execution_count": null,
	   "metadata": {
	    "collapsed": true
	   },
	   "outputs": [],
"source": [
"//Example 1.9c\n",
"clc;\n",
"for n=1:100\n",
"    x(n)=3*exp(%i*2*n);\n",
"end\n",
"P=0;\n",
"for n=1:100\n",
"    P=P+(abs(x(n)^2))/100;\n",
"end\n",
"if P<%inf then\n",
"    disp(P,'The given signal is power signal with power =');\n",
"else\n",
"    disp('The given signal is not power signal');\n",
"end"
   ]
   }
],
"metadata": {
		  "kernelspec": {
		   "display_name": "Scilab",
		   "language": "scilab",
		   "name": "scilab"
		  },
		  "language_info": {
		   "file_extension": ".sce",
		   "help_links": [
			{
			 "text": "MetaKernel Magics",
			 "url": "https://github.com/calysto/metakernel/blob/master/metakernel/magics/README.md"
			}
		   ],
		   "mimetype": "text/x-octave",
		   "name": "scilab",
		   "version": "0.7.1"
		  }
		 },
		 "nbformat": 4,
		 "nbformat_minor": 0
}
