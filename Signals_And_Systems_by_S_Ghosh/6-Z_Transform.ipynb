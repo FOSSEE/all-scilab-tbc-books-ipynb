{
"cells": [
 {
		   "cell_type": "markdown",
	   "metadata": {},
	   "source": [
       "# Chapter 6: Z Transform"
	   ]
	},
{
		   "cell_type": "markdown",
		   "metadata": {},
		   "source": [
			"## Example 6.12: z_transform_of_sequence.sce"
		   ]
		  },
  {
"cell_type": "code",
	   "execution_count": null,
	   "metadata": {
	    "collapsed": true
	   },
	   "outputs": [],
"source": [
"//Example 6.12\n",
"clc;\n",
"function[za]=ztransfer(sequence,n)\n",
"    z=poly(0,'z','r')\n",
"    za=sequence*(1/z)^n'\n",
"endfunction\n",
"x=[4,2,-1,0,3,-4];\n",
"n1=-2:length(x)-3;\n",
"X=ztransfer(x,n1);\n",
"disp(X,'X(z)=');\n",
"funcprot(0);"
   ]
   }
,
{
		   "cell_type": "markdown",
		   "metadata": {},
		   "source": [
			"## Example 6.14_a: z_transform.sce"
		   ]
		  },
  {
"cell_type": "code",
	   "execution_count": null,
	   "metadata": {
	    "collapsed": true
	   },
	   "outputs": [],
"source": [
"//Example 6.14a\n",
"clc;\n",
"syms z n;\n",
"x1=(1/4)^n;\n",
"x2=(1/5)^n;\n",
"X1=symsum(x1*(z^-n),n,0,%inf);\n",
"X2=symsum(x2*(z^-n),n,0,%inf);\n",
"X=X1+X2;\n",
"disp(X,'X(z)=');"
   ]
   }
,
{
		   "cell_type": "markdown",
		   "metadata": {},
		   "source": [
			"## Example 6.14_b: z_transform.sce"
		   ]
		  },
  {
"cell_type": "code",
	   "execution_count": null,
	   "metadata": {
	    "collapsed": true
	   },
	   "outputs": [],
"source": [
"//Example 6.14b\n",
"clc;\n",
"syms z n;\n",
"x1=(1/5)^n;\n",
"x2=(1/4)^n;\n",
"X1=symsum(x1*(z^-n),n,0,%inf);\n",
"X2=symsum(x2*(z^-n),n,-%inf,-1);\n",
"X=X1+X2;\n",
"disp(X,'X(z)=');"
   ]
   }
,
{
		   "cell_type": "markdown",
		   "metadata": {},
		   "source": [
			"## Example 6.14_c: z_transform.sce"
		   ]
		  },
  {
"cell_type": "code",
	   "execution_count": null,
	   "metadata": {
	    "collapsed": true
	   },
	   "outputs": [],
"source": [
"//Example 6.14c\n",
"clc;\n",
"syms z n;\n",
"x1=(1/4)^n;\n",
"x2=(1/5)^n;\n",
"X1=symsum(x1*(z^-n),n,0,%inf);\n",
"X2=symsum(x2*(z^-n),n,-%inf,-1);\n",
"X=X1+X2;\n",
"disp(X,'X(z)=');"
   ]
   }
,
{
		   "cell_type": "markdown",
		   "metadata": {},
		   "source": [
			"## Example 6.1_a: z_transform_of_sequence.sce"
		   ]
		  },
  {
"cell_type": "code",
	   "execution_count": null,
	   "metadata": {
	    "collapsed": true
	   },
	   "outputs": [],
"source": [
"//Example 6.1a\n",
"clc;\n",
"function[za]=ztransfer(sequence,n)\n",
"    z=poly(0,'z','r')\n",
"    za=sequence*(1/z)^n'\n",
"endfunction\n",
"x=[1,2,3,4,5,6,7];\n",
"n1=0:length(x)-1;\n",
"X=ztransfer(x,n1);\n",
"disp(X,'X(z)=');\n",
"funcprot(0);"
   ]
   }
,
{
		   "cell_type": "markdown",
		   "metadata": {},
		   "source": [
			"## Example 6.1_b: z_transform_of_sequence.sce"
		   ]
		  },
  {
"cell_type": "code",
	   "execution_count": null,
	   "metadata": {
	    "collapsed": true
	   },
	   "outputs": [],
"source": [
"//Example 6.1b\n",
"clc;\n",
"function[za]=ztransfer(sequence,n)\n",
"    z=poly(0,'z','r')\n",
"    za=sequence*(1/z)^n'\n",
"endfunction\n",
"x=[1,2,3,4,5,6,7];\n",
"n1=-2:length(x)-3;\n",
"X=ztransfer(x,n1);\n",
"disp(X,'X(z)=');\n",
"funcprot(0);"
   ]
   }
,
{
		   "cell_type": "markdown",
		   "metadata": {},
		   "source": [
			"## Example 6.2: Convolution_of_two_sequences.sce"
		   ]
		  },
  {
"cell_type": "code",
	   "execution_count": null,
	   "metadata": {
	    "collapsed": true
	   },
	   "outputs": [],
"source": [
"//Example 6.2\n",
"clc;\n",
"function[za]=ztransfer(sequence,n)\n",
"    z=poly(0,'z','r')\n",
"    za=sequence*(1/z)^n'\n",
"endfunction\n",
"x1=[1,-3,2];\n",
"n1=0:length(x1)-1;\n",
"X1=ztransfer(x1,n1);\n",
"x2=[1,2,1];\n",
"n2=0:length(x2)-1;\n",
"X2=ztransfer(x2,n2);\n",
"X=X1*X2;\n",
"disp(X,'X(z)=');\n",
"z=poly(0,'z');\n",
"X=[1;-z^-1;-3*z^-2;z^-3;2*z^-4];\n",
"n=0:4;\n",
"ZI=z^n';\n",
"x=numer(X.*ZI);\n",
"disp(x,'x[n]=');"
   ]
   }
,
{
		   "cell_type": "markdown",
		   "metadata": {},
		   "source": [
			"## Example 6.5: z_transform.sce"
		   ]
		  },
  {
"cell_type": "code",
	   "execution_count": null,
	   "metadata": {
	    "collapsed": true
	   },
	   "outputs": [],
"source": [
"//Example 6.5\n",
"clc;\n",
"syms z n;\n",
"x1=4*(5^n);\n",
"x2=3*(4^n);\n",
"X1=symsum(x1*(z^-n),n,0,%inf);\n",
"X2=symsum(x2*(z^-n),n,0,%inf);\n",
"X=X1-X2;"
   ]
   }
,
{
		   "cell_type": "markdown",
		   "metadata": {},
		   "source": [
			"## Example 6.6_a: z_transform.sce"
		   ]
		  },
  {
"cell_type": "code",
	   "execution_count": null,
	   "metadata": {
	    "collapsed": true
	   },
	   "outputs": [],
"source": [
"//Example 6.6a\n",
"clc;\n",
"syms z n;\n",
"x=(1/3)^n;\n",
"X=symsum(x*(z^-n),n,-%inf,0);"
   ]
   }
,
{
		   "cell_type": "markdown",
		   "metadata": {},
		   "source": [
			"## Example 6.6_b: z_transform.sce"
		   ]
		  },
  {
"cell_type": "code",
	   "execution_count": null,
	   "metadata": {
	    "collapsed": true
	   },
	   "outputs": [],
"source": [
"//Example 6.6b\n",
"clc;\n",
"syms z n;\n",
"x=(1/3)^n;\n",
"X1=symsum(x*(z^-n),n,0,%inf);\n",
"X2=symsum(x*(z^-n),n,8,%inf);\n",
"X=X1-X2;"
   ]
   }
],
"metadata": {
		  "kernelspec": {
		   "display_name": "Scilab",
		   "language": "scilab",
		   "name": "scilab"
		  },
		  "language_info": {
		   "file_extension": ".sce",
		   "help_links": [
			{
			 "text": "MetaKernel Magics",
			 "url": "https://github.com/calysto/metakernel/blob/master/metakernel/magics/README.md"
			}
		   ],
		   "mimetype": "text/x-octave",
		   "name": "scilab",
		   "version": "0.7.1"
		  }
		 },
		 "nbformat": 4,
		 "nbformat_minor": 0
}
