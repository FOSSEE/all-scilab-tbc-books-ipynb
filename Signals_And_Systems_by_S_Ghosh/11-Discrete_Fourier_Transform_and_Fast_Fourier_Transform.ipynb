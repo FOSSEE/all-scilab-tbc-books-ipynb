{
"cells": [
 {
		   "cell_type": "markdown",
	   "metadata": {},
	   "source": [
       "# Chapter 11: Discrete Fourier Transform and Fast Fourier Transform"
	   ]
	},
{
		   "cell_type": "markdown",
		   "metadata": {},
		   "source": [
			"## Example 11.1: DFT_of_sequence.sce"
		   ]
		  },
  {
"cell_type": "code",
	   "execution_count": null,
	   "metadata": {
	    "collapsed": true
	   },
	   "outputs": [],
"source": [
"//Example 11.1\n",
"//Find the DFT of x[n]=[1,2,3,4]\n",
"clc;\n",
"x=[1,2,3,4];\n",
"X=fft(x,-1);\n",
"disp(X,'X(k)=');"
   ]
   }
,
{
		   "cell_type": "markdown",
		   "metadata": {},
		   "source": [
			"## Example 11.2: Circular_convolution.sce"
		   ]
		  },
  {
"cell_type": "code",
	   "execution_count": null,
	   "metadata": {
	    "collapsed": true
	   },
	   "outputs": [],
"source": [
"//Example 11.2\n",
"//Find the circular convolution \n",
"clc;\n",
"x1=[3,1,3,1];\n",
"x2=[1,2,3,4];\n",
"X1=fft(x1,-1);\n",
"X2=fft(x2,-1);\n",
"X3=X1.*X2;\n",
"x3=fft(X3,1);\n",
"disp(x3,'x3(n)=x1(n)(N)x2(n)');"
   ]
   }
],
"metadata": {
		  "kernelspec": {
		   "display_name": "Scilab",
		   "language": "scilab",
		   "name": "scilab"
		  },
		  "language_info": {
		   "file_extension": ".sce",
		   "help_links": [
			{
			 "text": "MetaKernel Magics",
			 "url": "https://github.com/calysto/metakernel/blob/master/metakernel/magics/README.md"
			}
		   ],
		   "mimetype": "text/x-octave",
		   "name": "scilab",
		   "version": "0.7.1"
		  }
		 },
		 "nbformat": 4,
		 "nbformat_minor": 0
}
