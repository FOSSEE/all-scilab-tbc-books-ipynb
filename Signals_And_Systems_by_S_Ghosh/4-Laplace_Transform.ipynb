{
"cells": [
 {
		   "cell_type": "markdown",
	   "metadata": {},
	   "source": [
       "# Chapter 4: Laplace Transform"
	   ]
	},
{
		   "cell_type": "markdown",
		   "metadata": {},
		   "source": [
			"## Example 4.11: Inverse_laplace_transform.sce"
		   ]
		  },
  {
"cell_type": "code",
	   "execution_count": null,
	   "metadata": {
	    "collapsed": true
	   },
	   "outputs": [],
"source": [
"//Example 4.11\n",
"clc;\n",
"syms s;\n",
"I=(3*s+4)/(s^2+4*s);\n",
"i=ilaplace(I);\n",
"disp(i);"
   ]
   }
,
{
		   "cell_type": "markdown",
		   "metadata": {},
		   "source": [
			"## Example 4.14: Inverse_laplace_transform.sce"
		   ]
		  },
  {
"cell_type": "code",
	   "execution_count": null,
	   "metadata": {
	    "collapsed": true
	   },
	   "outputs": [],
"source": [
"//Example 4.14\n",
"clc;\n",
"syms s;\n",
"F=(s+3)/(s*(s+1)*(s+2));\n",
"f=ilaplace(F);\n",
"disp(f);"
   ]
   }
,
{
		   "cell_type": "markdown",
		   "metadata": {},
		   "source": [
			"## Example 4.15: Inverse_laplace_transform.sce"
		   ]
		  },
  {
"cell_type": "code",
	   "execution_count": null,
	   "metadata": {
	    "collapsed": true
	   },
	   "outputs": [],
"source": [
"//Example 4.15\n",
"clc;\n",
"syms s;\n",
"F=(s+3)/(s*((s+1)^2)*(s+2));\n",
"f=ilaplace(F);\n",
"disp(f);"
   ]
   }
,
{
		   "cell_type": "markdown",
		   "metadata": {},
		   "source": [
			"## Example 4.16: Inverse_laplace_transform.sce"
		   ]
		  },
  {
"cell_type": "code",
	   "execution_count": null,
	   "metadata": {
	    "collapsed": true
	   },
	   "outputs": [],
"source": [
"//Example 4.16\n",
"clc;\n",
"syms s;\n",
"F=1/((s^2)*(s+2));\n",
"f=ilaplace(F);\n",
"disp(f);"
   ]
   }
,
{
		   "cell_type": "markdown",
		   "metadata": {},
		   "source": [
			"## Example 4.17: Inverse_laplace_transform.sce"
		   ]
		  },
  {
"cell_type": "code",
	   "execution_count": null,
	   "metadata": {
	    "collapsed": true
	   },
	   "outputs": [],
"source": [
"//Example 4.17\n",
"clc;\n",
"syms s;\n",
"I=(s+6)/(s*(s+3));\n",
"i=ilaplace(I);\n",
"Io=limit(s*I,s,0);\n",
"disp(Io,'FINAL VALUE OF i(t)');"
   ]
   }
,
{
		   "cell_type": "markdown",
		   "metadata": {},
		   "source": [
			"## Example 4.18: Inverse_laplace_transform.sce"
		   ]
		  },
  {
"cell_type": "code",
	   "execution_count": null,
	   "metadata": {
	    "collapsed": true
	   },
	   "outputs": [],
"source": [
"//Example 4.18\n",
"clc;\n",
"syms s;\n",
"I=(2*s+3)/((s+1)*(s+3));\n",
"i=ilaplace(I);\n",
"io=limit(i,t,0);\n",
"disp(io,'INITIAL VALUE OF i(t)');"
   ]
   }
,
{
		   "cell_type": "markdown",
		   "metadata": {},
		   "source": [
			"## Example 4.19: Inverse_laplace_transform.sce"
		   ]
		  },
  {
"cell_type": "code",
	   "execution_count": null,
	   "metadata": {
	    "collapsed": true
	   },
	   "outputs": [],
"source": [
"//Example 4.19\n",
"clc;\n",
"syms s;\n",
"F=1/((s+1)*(s+2));\n",
"f=ilaplace(F);\n",
"disp(f);"
   ]
   }
,
{
		   "cell_type": "markdown",
		   "metadata": {},
		   "source": [
			"## Example 4.28: Determine_the_input_for_given_output.sce"
		   ]
		  },
  {
"cell_type": "code",
	   "execution_count": null,
	   "metadata": {
	    "collapsed": true
	   },
	   "outputs": [],
"source": [
"//Example 4.28\n",
"clc;\n",
"syms t;\n",
"h=%e^(-2*t)+%e^(-3*t);\n",
"vo=t*%e^(-2*t);\n",
"Vo=laplace(vo);\n",
"H=laplace(h);\n",
"Vi=Vo/H;\n",
"vi=ilaplace(Vi);\n",
"disp(vi);"
   ]
   }
,
{
		   "cell_type": "markdown",
		   "metadata": {},
		   "source": [
			"## Example 4.29: Find_unit_step_responce_of_system.sce"
		   ]
		  },
  {
"cell_type": "code",
	   "execution_count": null,
	   "metadata": {
	    "collapsed": true
	   },
	   "outputs": [],
"source": [
"//Example 4.29\n",
"clc;\n",
"syms t;\n",
"h=0.24*(%e^(-0.36*t)-%e^(-2.4*t));\n",
"H=laplace(h);\n",
"x=1;\n",
"X=laplace(x);\n",
"Y=X*H;\n",
"y=ilaplace(Y);\n",
"disp(y);"
   ]
   }
,
{
		   "cell_type": "markdown",
		   "metadata": {},
		   "source": [
			"## Example 4.3: Laplace_transform_of_function.sce"
		   ]
		  },
  {
"cell_type": "code",
	   "execution_count": null,
	   "metadata": {
	    "collapsed": true
	   },
	   "outputs": [],
"source": [
"//Example 4.3\n",
"//Laplace transform of f(t)=3-2%e^(-4t)\n",
"clc;\n",
"syms t;\n",
"f=3-2*%e^(-4*t);\n",
"F=laplace(f);\n",
"disp(F);"
   ]
   }
,
{
		   "cell_type": "markdown",
		   "metadata": {},
		   "source": [
			"## Example 4.4: Laplace_transform_of_function.sce"
		   ]
		  },
  {
"cell_type": "code",
	   "execution_count": null,
	   "metadata": {
	    "collapsed": true
	   },
	   "outputs": [],
"source": [
"//Example 4.4\n",
"//Laplace transform of f(t)=5cos(wt)+4sin(wt)\n",
"clc;\n",
"syms w t;\n",
"f=5*cos(w*t)+4*sin(w*t);\n",
"F=laplace(f);\n",
"disp(F);"
   ]
   }
,
{
		   "cell_type": "markdown",
		   "metadata": {},
		   "source": [
			"## Example 4.8: Laplace_transform_of_function.sce"
		   ]
		  },
  {
"cell_type": "code",
	   "execution_count": null,
	   "metadata": {
	    "collapsed": true
	   },
	   "outputs": [],
"source": [
"//Example 4.8\n",
"//Laplace transform of x(t)=%e^(3t)u(-t)+%e^(t)u(t)\n",
"clc;\n",
"syms t;\n",
"x1=%e^(3*t);\n",
"x2=%e^t;\n",
"X1=laplace(x1);\n",
"X2=laplace(x2);\n",
"X=X2-X1;//since x1 is form -%inf to 0\n",
"disp(X);"
   ]
   }
],
"metadata": {
		  "kernelspec": {
		   "display_name": "Scilab",
		   "language": "scilab",
		   "name": "scilab"
		  },
		  "language_info": {
		   "file_extension": ".sce",
		   "help_links": [
			{
			 "text": "MetaKernel Magics",
			 "url": "https://github.com/calysto/metakernel/blob/master/metakernel/magics/README.md"
			}
		   ],
		   "mimetype": "text/x-octave",
		   "name": "scilab",
		   "version": "0.7.1"
		  }
		 },
		 "nbformat": 4,
		 "nbformat_minor": 0
}
