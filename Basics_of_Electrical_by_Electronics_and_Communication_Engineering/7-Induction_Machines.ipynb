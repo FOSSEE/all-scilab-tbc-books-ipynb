{
"cells": [
 {
		   "cell_type": "markdown",
	   "metadata": {},
	   "source": [
       "# Chapter 7: Induction Machines"
	   ]
	},
{
		   "cell_type": "markdown",
		   "metadata": {},
		   "source": [
			"## Example 7.1: Speed_and_frequency.sce"
		   ]
		  },
  {
"cell_type": "code",
	   "execution_count": null,
	   "metadata": {
	    "collapsed": true
	   },
	   "outputs": [],
"source": [
"//Ex 7.1\n",
"clc;clear;close;\n",
"format('v',5);\n",
"P=4;//no. of poles\n",
"f=50;//Hz\n",
"S=4/100;//slip\n",
"N=600;//rpm\n",
"p=P/2;//pair of poles\n",
"//(a)\n",
"Ns=60*f/p;//rpm(Synchronous speed)\n",
"disp(Ns,'(a) Synchronous speed(rpm)');\n",
"//(b)\n",
"Nr=Ns-S*Ns;//rpm(Rotor speed)\n",
"disp(Nr,'(b) Rotor speed(rpm)');\n",
"//(c)\n",
"Sdash=(Ns-N)/Ns;//per unot slip\n",
"fr=f*Sdash;//Hz(Rotor frequency)\n",
"disp(fr,'Rotor frequency(Hz)');"
   ]
   }
,
{
		   "cell_type": "markdown",
		   "metadata": {},
		   "source": [
			"## Example 7.2: Rotor_emf_and_phase_difference.sce"
		   ]
		  },
  {
"cell_type": "code",
	   "execution_count": null,
	   "metadata": {
	    "collapsed": true
	   },
	   "outputs": [],
"source": [
"//Ex 7.2\n",
"clc;clear;close;\n",
"format('v',5);\n",
"Zs=240;//no. of conductors in stator winding\n",
"Zr=48;//no. of conductors in rotor winding\n",
"Rr=0.013;//ohm/phase(resstance rotor windig)\n",
"XL=0.048;//ohm/phase(leakega reactance)\n",
"Vs=400;//V\n",
"//(a)\n",
"Eo=Vs*Zr/Zs;//V(rotor emf)\n",
"disp(Eo,'(a) Rotor emf(V)');\n",
"//(b)\n",
"S=4/100;//slip\n",
"Eo=Eo*S;//V(rotor emf for 4% slip)\n",
"disp(Eo,'(b) Rotor emf at 4% slip(V)');\n",
"Z=sqrt(Rr^2+(S*XL)^2);//ohm/phase(rotor impedence at 4% slip)\n",
"Ir=Eo/Z;//A(Rotor curren at 4% slip)\n",
"disp(Ir,'(b) Rotor curren at 4% slip(A)');\n",
"//(c)\n",
"fi_r=atand(S*XL/Rr);//degree\n",
"disp(fi_r,'(c) Phase difference at 4% slip(degree)');\n",
"S=100/100;//100% slip\n",
"fi_r=atand(S*XL/Rr);//degree\n",
"disp(fi_r,'(c) Phase difference at 100% slip(degree)');"
   ]
   }
],
"metadata": {
		  "kernelspec": {
		   "display_name": "Scilab",
		   "language": "scilab",
		   "name": "scilab"
		  },
		  "language_info": {
		   "file_extension": ".sce",
		   "help_links": [
			{
			 "text": "MetaKernel Magics",
			 "url": "https://github.com/calysto/metakernel/blob/master/metakernel/magics/README.md"
			}
		   ],
		   "mimetype": "text/x-octave",
		   "name": "scilab",
		   "version": "0.7.1"
		  }
		 },
		 "nbformat": 4,
		 "nbformat_minor": 0
}
