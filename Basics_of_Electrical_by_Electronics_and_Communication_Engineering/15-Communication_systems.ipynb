{
"cells": [
 {
		   "cell_type": "markdown",
	   "metadata": {},
	   "source": [
       "# Chapter 15: Communication systems"
	   ]
	},
{
		   "cell_type": "markdown",
		   "metadata": {},
		   "source": [
			"## Example 6.1: Angle_of_refraction.sce"
		   ]
		  },
  {
"cell_type": "code",
	   "execution_count": null,
	   "metadata": {
	    "collapsed": true
	   },
	   "outputs": [],
"source": [
"//Ex 6.1\n",
"clc;clear;close;\n",
"format('v',6);\n",
"theta1=30;//degree(Angle of incedence)\n",
"n1=1.5;//(refractive index for glass)\n",
"n2=1.36;//(refractive index for ethyl alcohol)\n",
"theta2=asind(n1*sind(theta1)/n2);//degree(Angle of refraction)\n",
"disp(theta2,'Angle of refraction(degree)');"
   ]
   }
,
{
		   "cell_type": "markdown",
		   "metadata": {},
		   "source": [
			"## Example 6.2: No_of_channels.sce"
		   ]
		  },
  {
"cell_type": "code",
	   "execution_count": null,
	   "metadata": {
	    "collapsed": true
	   },
	   "outputs": [],
"source": [
"//Ex 6.2\n",
"clc;clear;close;\n",
"format('v',6);\n",
"clusters=10;//no. of clusters\n",
"cells=7;//no. of cells in a cluster\n",
"channels=10;//no. of channels in a cell\n",
"F=cells*channels;//no. of full duplex channels/cluster\n",
"disp(F,'Number of channels per cluster');\n",
"C=clusters*cells*channels;//total no. of channels\n",
"disp(C,'Total channel capacity');"
   ]
   }
,
{
		   "cell_type": "markdown",
		   "metadata": {},
		   "source": [
			"## Example 6.3: No_of_cells_and_frequency.sce"
		   ]
		  },
  {
"cell_type": "code",
	   "execution_count": null,
	   "metadata": {
	    "collapsed": true
	   },
	   "outputs": [],
"source": [
"//Ex 6.3\n",
"clc;clear;close;\n",
"format('v',6);\n",
"Asys=1520;//km^2\n",
"Ch=1140;//no. of channels\n",
"Acell=4;//km^2\n",
"i=3;j=2;//For hexagon cells\n",
"N=i^2+i*j+j^2;//cells in a cluster\n",
"disp(N,'(a) No. of cells in a cluster');\n",
"Acluster=N*Acell;//km^2\n",
"cluster=Asys/Acluster;//no. of clusters\n",
"disp(cluster,'(b) Number of clusters');\n",
"disp(Acluster,'(c) Area of each cellular cluster(km^2)');\n",
"C=cluster*Ch;//system capacity\n",
"disp(C,'(d) Increased system capacity(No. of channels)');\n",
"//Without frequency reuse :-\n",
"c_sys=Asys/Acell;//No. of cell in a system\n",
"ch_cell=Ch/c_sys;//No. of channels/cell\n",
"disp(ch_cell,'(e_i) Without frequency reuse, No. of channels/cell');\n",
"//With frequency reuse :-\n",
"ch_cell=Ch/N;//No. of channels/cell\n",
"disp(ch_cell,'(e_ii) With frequency reuse, No. of channels/cell');"
   ]
   }
],
"metadata": {
		  "kernelspec": {
		   "display_name": "Scilab",
		   "language": "scilab",
		   "name": "scilab"
		  },
		  "language_info": {
		   "file_extension": ".sce",
		   "help_links": [
			{
			 "text": "MetaKernel Magics",
			 "url": "https://github.com/calysto/metakernel/blob/master/metakernel/magics/README.md"
			}
		   ],
		   "mimetype": "text/x-octave",
		   "name": "scilab",
		   "version": "0.7.1"
		  }
		 },
		 "nbformat": 4,
		 "nbformat_minor": 0
}
