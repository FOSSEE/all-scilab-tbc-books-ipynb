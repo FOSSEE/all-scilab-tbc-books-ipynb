{
"cells": [
 {
		   "cell_type": "markdown",
	   "metadata": {},
	   "source": [
       "# Chapter 5: Single Phase Transformers"
	   ]
	},
{
		   "cell_type": "markdown",
		   "metadata": {},
		   "source": [
			"## Example 5.1: Curent_Turns_and_flux.sce"
		   ]
		  },
  {
"cell_type": "code",
	   "execution_count": null,
	   "metadata": {
	    "collapsed": true
	   },
	   "outputs": [],
"source": [
"//Ex 5.1\n",
"clc;clear;close;\n",
"format('v',5);\n",
"kVA=250;//kVA\n",
"V1=11000;//V(Primary voltage)\n",
"V2=400;//V(secondary voltage)\n",
"f=50;//Hz\n",
"N2=80;//no. of turns in secondary\n",
"Ifl1=kVA*1000/V1;//A(Full load primay current)\n",
"Ifl2=kVA*1000/V2;//A(Full load secondary current)\n",
"disp('Part(a)');\n",
"disp(Ifl1,'Full load primary current(A)');\n",
"disp(Ifl2,'Full load secondary current(A)');\n",
"disp('Part(b)');\n",
"N1=N2*V1/V2;//no. of turns in secondary\n",
"disp(N1,'No. of turns in primary');\n",
"disp('Part(c)');\n",
"fi_m=V2/(4.44*N2*f);//Wb\n",
"disp(fi_m*1000,'Maximum value of flux(mWb)');"
   ]
   }
,
{
		   "cell_type": "markdown",
		   "metadata": {},
		   "source": [
			"## Example 5.2: Area_Voltage_ad_current.sce"
		   ]
		  },
  {
"cell_type": "code",
	   "execution_count": null,
	   "metadata": {
	    "collapsed": true
	   },
	   "outputs": [],
"source": [
"//Ex 5.2\n",
"clc;clear;close;\n",
"format('v',7);\n",
"N1=480;//no. of turns in primary\n",
"N2=90;//no. of turns in secondary\n",
"lfp=1.8;//m(length of flux path)\n",
"ag=0.1;//mm(airgap)\n",
"Flux=1.1;//T(flux density)\n",
"MF=400;//A/m(Magnetic flux)\n",
"c_loss=1.7;//W/kg\n",
"f=50;//Hz\n",
"d=7800;//kg/m^3(density of core)\n",
"V=2200;//V(potential difference)\n",
"//Part (a)\n",
"fi_m=V/(4.44*N1*f);//Wb\n",
"A=fi_m/Flux;//m^2(Cross sectional area)\n",
"disp(A,'(a) Cross sectional area(m^2)');\n",
"//Part (b)\n",
"Vnl2=V*N2/N1;//V(2ndary voltage on no load)\n",
"Vnl2=round(Vnl2);//V(2ndary voltage on no load)\n",
"disp(Vnl2,'(b) 2ndary voltage on no load(V)');\n",
"//Part (c)\n",
"format('v',5);\n",
"Fm1=MF*lfp;//A(Magnetootive force for the core)\n",
"Fm2=Flux/(4*%pi*10^-7)*ag*10^-3;//A(Magnetootive force for airgap)\n",
"Fm=Fm1+Fm2;//A(Total magnetomotive force)\n",
"Imax=Fm/N1;//A(maximum value of magnetizing current)\n",
"Iom=Imax/sqrt(2);//A(rms current)\n",
"v=lfp*A;//m^3(Volume of core)\n",
"m=v*d;//kg(Mass of core)\n",
"coreLoss=c_loss*m;//W(Core Loss)\n",
"Io1=coreLoss/V;//A(Core loss component of curent)\n",
"Io=sqrt(Iom^2+Io1^2);//A(no load current)\n",
"disp(Io,'(c) Primary current on no load(A)');\n",
"format('v',6);\n",
"pf=Io1/Io;//lagging pf on no load\n",
"disp(pf,'(c) Power factor(lagging) on no load');"
   ]
   }
,
{
		   "cell_type": "markdown",
		   "metadata": {},
		   "source": [
			"## Example 5.3: Current_and_power_factor.sce"
		   ]
		  },
  {
"cell_type": "code",
	   "execution_count": null,
	   "metadata": {
	    "collapsed": true
	   },
	   "outputs": [],
"source": [
"//Ex 5.3\n",
"clc;clear;close;\n",
"format('v',5);\n",
"N1=1000;//no. of turns in primary\n",
"N2=200;//no. of turns in secondary\n",
"I0=3;//A\n",
"pf0=0.2;//lagging power factor\n",
"I2=280;//A(2ndary current)\n",
"pf2=0.8;//lagging power factor\n",
"I2dash=I2*N2/N1;//A\n",
"cosfi0=pf0;cosfi2=pf2;sinfi0=sqrt(1-cosfi0^2);sinfi2=sqrt(1-cosfi2^2);\n",
"I1_cosfi1=I2dash*cosfi2+I0*cosfi0;//A\n",
"I1_sinfi1=I2dash*sinfi2+I0*sinfi0;//A\n",
"I1=sqrt(I1_cosfi1^2+I1_sinfi1^2);//A\n",
"disp(I1,'Primary current(A)');\n",
"fi1=atand(I1_sinfi1/I1_cosfi1);//degree\n",
"pf1=cosd(fi1);//lagging\n",
"disp(pf1,'Primary power factor(lagging)');"
   ]
   }
],
"metadata": {
		  "kernelspec": {
		   "display_name": "Scilab",
		   "language": "scilab",
		   "name": "scilab"
		  },
		  "language_info": {
		   "file_extension": ".sce",
		   "help_links": [
			{
			 "text": "MetaKernel Magics",
			 "url": "https://github.com/calysto/metakernel/blob/master/metakernel/magics/README.md"
			}
		   ],
		   "mimetype": "text/x-octave",
		   "name": "scilab",
		   "version": "0.7.1"
		  }
		 },
		 "nbformat": 4,
		 "nbformat_minor": 0
}
