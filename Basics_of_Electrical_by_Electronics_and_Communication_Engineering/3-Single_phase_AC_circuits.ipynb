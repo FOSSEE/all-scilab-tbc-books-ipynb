{
"cells": [
 {
		   "cell_type": "markdown",
	   "metadata": {},
	   "source": [
       "# Chapter 3: Single phase AC circuits"
	   ]
	},
{
		   "cell_type": "markdown",
		   "metadata": {},
		   "source": [
			"## Example 3.10: Capacitance_and_phase_angle.sce"
		   ]
		  },
  {
"cell_type": "code",
	   "execution_count": null,
	   "metadata": {
	    "collapsed": true
	   },
	   "outputs": [],
"source": [
"//Ex 3.10\n",
"clc;clear;close;\n",
"format('v',5);\n",
"Pr=750;//W(rated)\n",
"Vr=100;//V(rated)\n",
"V=230;//V(Supply voltage)\n",
"f=60;//Hz\n",
"VC=sqrt(V^2-Vr^2);//V(Voltage across capacitor)\n",
"Ir=Pr/Vr;//A(Rated current)\n",
"C=Ir/(2*%pi*f*VC)*10^6;//micro F\n",
"disp(C,'(a) Capacitance required(micro F)');\n",
"fi=acosd(Vr/V);//degree\n",
"disp(fi,'(b) Phase angle(degree)');"
   ]
   }
,
{
		   "cell_type": "markdown",
		   "metadata": {},
		   "source": [
			"## Example 3.11: Impedence_current_and_voltage.sce"
		   ]
		  },
  {
"cell_type": "code",
	   "execution_count": null,
	   "metadata": {
	    "collapsed": true
	   },
	   "outputs": [],
"source": [
"//Ex 3.11\n",
"clc;clear;close;\n",
"format('v',5);\n",
"R=12;//ohm\n",
"L=0.15;//H\n",
"C=100;//micro F\n",
"V=100;//V\n",
"f=50;//Hz\n",
"XL=2*%pi*f*L;//ohm\n",
"XC=1/(2*%pi*f*C*10^-6);//ohm\n",
"Z=sqrt(R^2+(XL-XC)^2);//ohm\n",
"disp(Z,'(a) Impedence(ohm)');\n",
"I=V/Z;//A\n",
"disp(I,'(b) Current(A)');\n",
"VR=R*I;//V\n",
"VL=XL*I;//V\n",
"VC=XC*I;//V\n",
"disp(VC,VL,VR,'(b) Voltge(V) across R, L & C');\n",
"fi=acosd(VR/V);//degree\n",
"disp(fi,'(c) Phase difference(degree)');"
   ]
   }
,
{
		   "cell_type": "markdown",
		   "metadata": {},
		   "source": [
			"## Example 3.12: Curent_Phase_angle_and_power.sce"
		   ]
		  },
  {
"cell_type": "code",
	   "execution_count": null,
	   "metadata": {
	    "collapsed": true
	   },
	   "outputs": [],
"source": [
"//Ex 3.12\n",
"clc;clear;close;\n",
"format('v',5);\n",
"R=6;//ohm\n",
"L=0.03;//H\n",
"V=50;//V\n",
"f=60;//Hz\n",
"XL=2*%pi*f*L;//ohm\n",
"Z=sqrt(R^2+XL^2);//ohm\n",
"I=V/Z;//A\n",
"disp(I,'(a) Current(A)');\n",
"fi=atand(XL/R);//degree\n",
"disp(fi,'(b) Phase angle(degree)');\n",
"S=V*I;//VA(Apparent power)\n",
"disp(S,'(c) Apparent power(VA)')\n",
"P=S*cosd(fi);//W\n",
"P=round(P);//W\n",
"disp(P,'(d) Active power(W)')"
   ]
   }
,
{
		   "cell_type": "markdown",
		   "metadata": {},
		   "source": [
			"## Example 3.13: Power_dissipated.sce"
		   ]
		  },
  {
"cell_type": "code",
	   "execution_count": null,
	   "metadata": {
	    "collapsed": true
	   },
	   "outputs": [],
"source": [
"//Ex 3.13\n",
"clc;clear;close;\n",
"format('v',5);\n",
"R=30;//ohm\n",
"V=230;//V\n",
"f=50;//Hz\n",
"VR=130;//V\n",
"VLr=180;//V\n",
"fiLr=acosd((V^2-VR^2-VLr^2)/(2*VR*VLr));//degree(lag)\n",
"I=VR/R;//A\n",
"Pr=VLr*I*cosd(fiLr);//W\n",
"disp(Pr,'Power dissipated in the coil(W)');"
   ]
   }
,
{
		   "cell_type": "markdown",
		   "metadata": {},
		   "source": [
			"## Example 3.14: Resistance_Inductance_and_Power_factor.sce"
		   ]
		  },
  {
"cell_type": "code",
	   "execution_count": null,
	   "metadata": {
	    "collapsed": true
	   },
	   "outputs": [],
"source": [
"//Ex 3.14\n",
"clc;clear;close;\n",
"format('v',5);\n",
"V=230;//V\n",
"f=50;//Hz\n",
"I=5;//A\n",
"P=750;//W\n",
"Z=V/I;//ohm\n",
"R=P/I^2;//ohm(Resistance)\n",
"XL=sqrt(Z^2-R^2);//ohm(reactance)\n",
"L=XL/2/%pi/f;//H(Inductance)\n",
"disp(R,'(a) Resistance(ohm)');\n",
"disp(L*1000,'(a) Inductance(mH)');\n",
"pf=P/(V*I);//power factor(lag)\n",
"disp(pf,'(b) Power factor(lag)');"
   ]
   }
,
{
		   "cell_type": "markdown",
		   "metadata": {},
		   "source": [
			"## Example 3.1: Frequency_Period_and_emf.sce"
		   ]
		  },
  {
"cell_type": "code",
	   "execution_count": null,
	   "metadata": {
	    "collapsed": true
	   },
	   "outputs": [],
"source": [
"//Ex 3.1\n",
"clc;clear;close;\n",
"format('v',5);\n",
"N=100;//turns\n",
"R=1500;//rpm(Rotation)\n",
"B=0.05;//T(Magnetic field)\n",
"A=40;//cm^2(Cross sectional area)\n",
"f=R/60;//Hz\n",
"theta=30;//degree\n",
"disp(f,'(a) Frequency(Hz)');\n",
"Period=1/f;//seconds\n",
"disp(Period,'(b) Period(seconds)');\n",
"Em=2*%pi*B*(A/10^4)*N*f;//V\n",
"disp(Em,'(c) Maximum value of gnerated emf(V)');\n",
"e=%pi*sind(theta);//V\n",
"disp(e,'(d) Gnerated emf after rotation(V)');"
   ]
   }
,
{
		   "cell_type": "markdown",
		   "metadata": {},
		   "source": [
			"## Example 3.2: Peak_values_of_current.sce"
		   ]
		  },
  {
"cell_type": "code",
	   "execution_count": null,
	   "metadata": {
	    "collapsed": true
	   },
	   "outputs": [],
"source": [
"//Ex 3.2\n",
"clc;clear;close;\n",
"format('v',6);\n",
"Irms=10;//A\n",
"Im=Irms*sqrt(2);//A\n",
"disp(-Im,+Im,'Peak values of current(A) are');"
   ]
   }
,
{
		   "cell_type": "markdown",
		   "metadata": {},
		   "source": [
			"## Example 3.3: Voltage_and_frequency.sce"
		   ]
		  },
  {
"cell_type": "code",
	   "execution_count": null,
	   "metadata": {
	    "collapsed": true
	   },
	   "outputs": [],
"source": [
"//Ex 3.3\n",
"clc;clear;close;\n",
"format('v',6);\n",
"//v=141.4*sin(377*t)\n",
"Vm=141.4;//V\n",
"V=Vm/sqrt(2);//V(rms voltage)\n",
"disp(V,'(a) r.m.s. Voltage(V)');\n",
"omega=377;//rad/s\n",
"f=omega/2/%pi;//Hz\n",
"disp(f,'(b) Frequency(Hz)');\n",
"t=3*10^-3;//seconds\n",
"v=141.4*sin(377*t);//V\n",
"disp(v,'(c) Instantaneous Voltage(V)');"
   ]
   }
,
{
		   "cell_type": "markdown",
		   "metadata": {},
		   "source": [
			"## Example 3.4: Ameter_reading_Form_and_Peak_factor.sce"
		   ]
		  },
  {
"cell_type": "code",
	   "execution_count": null,
	   "metadata": {
	    "collapsed": true
	   },
	   "outputs": [],
"source": [
"//Ex 3.4\n",
"clc;clear;close;\n",
"format('v',5);\n",
"V=110;//V(Supply voltage)\n",
"R=50;//ohm\n",
"Vm=V*sqrt(2);//V(maximum voltage)\n",
"Im=Vm/R;//A(maximum current)\n",
"Iav1=0.637*Im;//A(average current Over +ve half cycle)\n",
"Iav2=0;//(average current Over -ve half cycle)\n",
"Iav=(Iav1+Iav2)/2;//A(average current Over whole cycle)\n",
"disp(Iav,'(a) Reading on moving coil ammeter(A)');\n",
"//For thermal ammeter : I^2*R=1/4*Im^2*R(thermal effect for complete cycle)\n",
"I=sqrt(1/4*Im^2);//A(reading on thermal ammeter)\n",
"disp(I,'(a) Reading on thermal ammeter(A)');\n",
"kf=I/Iav;//form factor\n",
"kp=Im/I;//peak factor\n",
"disp(kp,kf,'(b) Form factor & peak factor are');"
   ]
   }
,
{
		   "cell_type": "markdown",
		   "metadata": {},
		   "source": [
			"## Example 3.5: Circuit_current_and_phase_angle.sce"
		   ]
		  },
  {
"cell_type": "code",
	   "execution_count": null,
	   "metadata": {
	    "collapsed": true
	   },
	   "outputs": [],
"source": [
"//Ex 3.5\n",
"clc;clear;close;\n",
"format('v',5);\n",
"V=100;//V\n",
"R=7;//ohm\n",
"L=31.8;//mH\n",
"f=50;///Hz\n",
"XL=2*%pi*f*L/1000;//ohm\n",
"Z=sqrt(R^2+XL^2);//ohm\n",
"I=V/Z;//A(circuit current)\n",
"disp(I,'(a) Circuit current(A)');\n",
"fi=atand(XL/R);//degree(lag)\n",
"disp(fi,'(b) Phase angle(lag) in degree');"
   ]
   }
,
{
		   "cell_type": "markdown",
		   "metadata": {},
		   "source": [
			"## Example 3.6: Supply_voltage.sce"
		   ]
		  },
  {
"cell_type": "code",
	   "execution_count": null,
	   "metadata": {
	    "collapsed": true
	   },
	   "outputs": [],
"source": [
"//Ex 3.6\n",
"clc;clear;close;\n",
"format('v',5);\n",
"L=318;//mH\n",
"R=75;//ohm\n",
"VR=150;//V\n",
"f=50;///Hz\n",
"I=VR/R;//A\n",
"XL=2*%pi*f*L/1000;//ohm\n",
"VL=I*XL;//V\n",
"V=sqrt(VR^2+VL^2);//V\n",
"disp(V,'Supply Voltage(V)');"
   ]
   }
,
{
		   "cell_type": "markdown",
		   "metadata": {},
		   "source": [
			"## Example 3.7: Supply_voltage_and_phase_angle.sce"
		   ]
		  },
  {
"cell_type": "code",
	   "execution_count": null,
	   "metadata": {
	    "collapsed": true
	   },
	   "outputs": [],
"source": [
"//Ex 3.7\n",
"clc;clear;close;\n",
"format('v',4);\n",
"ZLr=50;//ohm\n",
"fiLr=45;//degree(lag)(between current & Voltage)\n",
"R=40;//ohm\n",
"I=3;//A(Circuit current)\n",
"VR=I*R;//V\n",
"VLr=I*ZLr;//V\n",
"V=sqrt(VR^2+VLr^2+2*VR*VLr*cosd(fiLr));//V\n",
"disp(V,'Supply voltage(V)');\n",
"fi=acosd((VR+VLr*cosd(fiLr))/V);//degree\n",
"disp(fi,'Circuit phase angle(lag in degree)');"
   ]
   }
,
{
		   "cell_type": "markdown",
		   "metadata": {},
		   "source": [
			"## Example 3.8: Reactance_and_current.sce"
		   ]
		  },
  {
"cell_type": "code",
	   "execution_count": null,
	   "metadata": {
	    "collapsed": true
	   },
	   "outputs": [],
"source": [
"//Ex 3.8\n",
"clc;clear;close;\n",
"format('v',6);\n",
"C=30;//micro F\n",
"V=400;//V\n",
"f=50;//Hz\n",
"Xc=1/(2*%pi*f*C*10^-6);//ohm\n",
"disp(Xc,'(a) Reactance of capacitor(ohm)');\n",
"I=V/Xc;//A\n",
"disp(I,'(b) Current(A)');"
   ]
   }
,
{
		   "cell_type": "markdown",
		   "metadata": {},
		   "source": [
			"## Example 3.9: Reactance_Impedence_Current_and_phase.sce"
		   ]
		  },
  {
"cell_type": "code",
	   "execution_count": null,
	   "metadata": {
	    "collapsed": true
	   },
	   "outputs": [],
"source": [
"//Ex 3.9\n",
"clc;clear;close;\n",
"format('v',5);\n",
"R=12;//ohm(Coil resistance)\n",
"L=0.1;//H(Coil Inductance)\n",
"V=100;//V\n",
"f=50;//Hz\n",
"XL=2*%pi*f*L;//ohm\n",
"Z=sqrt(R^2+XL^2);//ohm\n",
"disp(Z,XL,'(a) Reactance(ohm) & impedence(ohm) of the coil are');\n",
"I=V/Z;//A\n",
"disp(I,'(b) Current(A)');\n",
"fi=atand(XL/R);//degree\n",
"fi=round(fi);//degree\n",
"disp(fi,'Phase difference(degree)');"
   ]
   }
],
"metadata": {
		  "kernelspec": {
		   "display_name": "Scilab",
		   "language": "scilab",
		   "name": "scilab"
		  },
		  "language_info": {
		   "file_extension": ".sce",
		   "help_links": [
			{
			 "text": "MetaKernel Magics",
			 "url": "https://github.com/calysto/metakernel/blob/master/metakernel/magics/README.md"
			}
		   ],
		   "mimetype": "text/x-octave",
		   "name": "scilab",
		   "version": "0.7.1"
		  }
		 },
		 "nbformat": 4,
		 "nbformat_minor": 0
}
