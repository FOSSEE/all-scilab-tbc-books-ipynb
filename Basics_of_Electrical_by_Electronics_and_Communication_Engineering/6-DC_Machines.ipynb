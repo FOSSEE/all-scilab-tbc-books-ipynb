{
"cells": [
 {
		   "cell_type": "markdown",
	   "metadata": {},
	   "source": [
       "# Chapter 6: DC Machines"
	   ]
	},
{
		   "cell_type": "markdown",
		   "metadata": {},
		   "source": [
			"## Example 6.1: Generated_emf.sce"
		   ]
		  },
  {
"cell_type": "code",
	   "execution_count": null,
	   "metadata": {
	    "collapsed": true
	   },
	   "outputs": [],
"source": [
"//Ex 6.1\n",
"clc;clear;close;\n",
"format('v',5);\n",
"P=4;//no. of poles\n",
"c=2;//no. of parallel paths\n",
"p=4/2;//no. of pair of poles\n",
"S=51;//no. of slots\n",
"C=12;//conductors per slot\n",
"N=900;//rpm(speed)\n",
"fi=25/1000;//Wb\n",
"Z=S*C;//total no. of conductors\n",
"E=2*Z/c*N*p/60*fi;//V\n",
"disp(E,'Generated emf(V)');"
   ]
   }
,
{
		   "cell_type": "markdown",
		   "metadata": {},
		   "source": [
			"## Example 6.2: Conductors_per_slot.sce"
		   ]
		  },
  {
"cell_type": "code",
	   "execution_count": null,
	   "metadata": {
	    "collapsed": true
	   },
	   "outputs": [],
"source": [
"//Ex 6.2\n",
"clc;clear;close;\n",
"format('v',5);\n",
"P=8;//no. of poles\n",
"c=8;//no. of parallel paths\n",
"p=8/2;//no. of pair of poles\n",
"E=260;//V(generated emf)\n",
"fi=0.05;//Wb\n",
"S=120;//no. of slots\n",
"N=350;//rpm(speed)\n",
"Z=E/(2/c*N*p/60*fi);//V\n",
"disp(round(Z),'No. of conductors per slot');"
   ]
   }
,
{
		   "cell_type": "markdown",
		   "metadata": {},
		   "source": [
			"## Example 6.3: Generated_emf.sce"
		   ]
		  },
  {
"cell_type": "code",
	   "execution_count": null,
	   "metadata": {
	    "collapsed": true
	   },
	   "outputs": [],
"source": [
"//Ex 6.3\n",
"clc;clear;close;\n",
"format('v',5);\n",
"Ra=0.1;//ohm(Armature resistance)\n",
"Vs=250;//V(supply voltage)\n",
"//part(a)\n",
"I=80;//A\n",
"Vdrop=Ra*I;//V\n",
"emf=Vs+Vdrop;//V(Generated emf)\n",
"disp(emf,'Part(a) Generated emf(V)');\n",
"//part(b)\n",
"I=60;//A(current taken by Motor)\n",
"Vdrop=Ra*I;//V\n",
"emf=Vs-Vdrop;//V(Generated emf)\n",
"disp(emf,'Part(b) Generated emf(V)');"
   ]
   }
,
{
		   "cell_type": "markdown",
		   "metadata": {},
		   "source": [
			"## Example 6.4: Calculate_speed.sce"
		   ]
		  },
  {
"cell_type": "code",
	   "execution_count": null,
	   "metadata": {
	    "collapsed": true
	   },
	   "outputs": [],
"source": [
"//Ex 6.4\n",
"clc;clear;close;\n",
"format('v',5);\n",
"P=4;//no. of poles\n",
"Vs=440;//V\n",
"c=2;//no. of parallel paths\n",
"p=4/2;//no. of pair of poles\n",
"Ia=50;//A\n",
"Ra=0.28;//ohm\n",
"Z=888;//conductors\n",
"fi=0.023;//Wb\n",
"emf=Vs-Ia*Ra;//V\n",
"N=emf/(2*Z/c*p/60*fi);//rpm\n",
"disp(round(N),'Speed in rpm');"
   ]
   }
,
{
		   "cell_type": "markdown",
		   "metadata": {},
		   "source": [
			"## Example 6.5: Approximate_speed.sce"
		   ]
		  },
  {
"cell_type": "code",
	   "execution_count": null,
	   "metadata": {
	    "collapsed": true
	   },
	   "outputs": [],
"source": [
"//Ex 6.5\n",
"clc;clear;close;\n",
"format('v',5);\n",
"N=900;//rpm\n",
"Vs=460;//V\n",
"Vs_new=200;//V\n",
"fi_ratio=0.7;//ratio of new flux to original flux\n",
"kfi=Vs/N;//for original flux\n",
"Nnew=Vs_new/kfi/fi_ratio;//rpm(new speed)\n",
"disp(round(Nnew),'Speed in rpm');"
   ]
   }
,
{
		   "cell_type": "markdown",
		   "metadata": {},
		   "source": [
			"## Example 6.6: SPeed_and_gross_torque.sce"
		   ]
		  },
  {
"cell_type": "code",
	   "execution_count": null,
	   "metadata": {
	    "collapsed": true
	   },
	   "outputs": [],
"source": [
"//Ex 6.6\n",
"clc;clear;close;\n",
"format('v',5);\n",
"Ia=110;//A\n",
"Vs=480;//V\n",
"Ra=0.2;//ohm\n",
"P=6;//no. of poles\n",
"c=6;//no. of parallel paths\n",
"p=P/2;//no. of pair of poles\n",
"Z=864;//no. of conductors\n",
"fi=0.05;//Wb\n",
"emf=Vs-Ia*Ra;//V\n",
"N=emf/(2*Z/c*p/60*fi);//rpm\n",
"N=round(N);//rpm\n",
"disp(N,'(a) Speed in rpm');\n",
"Pm=Ia*emf;//W(Mechanical power developed)\n",
"M=Pm/(N/60)/(2*%pi);//Nm(Torque)\n",
"disp(M,'(b) Gross torque developed(Nm)');"
   ]
   }
,
{
		   "cell_type": "markdown",
		   "metadata": {},
		   "source": [
			"## Example 6.7: Power_generated.sce"
		   ]
		  },
  {
"cell_type": "code",
	   "execution_count": null,
	   "metadata": {
	    "collapsed": true
	   },
	   "outputs": [],
"source": [
"//Ex 6.7\n",
"clc;clear;close;\n",
"format('v',6);\n",
"N=15;//rps\n",
"M=2*1000;//Nm(Torque required)\n",
"Loss=8*1000;//W\n",
"P=2*%pi*M*N;//W(Power required)\n",
"Pa=P-Loss;//W(Power generated in armature)\n",
"disp(Pa/1000,'Power generated in armature(kW)');"
   ]
   }
],
"metadata": {
		  "kernelspec": {
		   "display_name": "Scilab",
		   "language": "scilab",
		   "name": "scilab"
		  },
		  "language_info": {
		   "file_extension": ".sce",
		   "help_links": [
			{
			 "text": "MetaKernel Magics",
			 "url": "https://github.com/calysto/metakernel/blob/master/metakernel/magics/README.md"
			}
		   ],
		   "mimetype": "text/x-octave",
		   "name": "scilab",
		   "version": "0.7.1"
		  }
		 },
		 "nbformat": 4,
		 "nbformat_minor": 0
}
