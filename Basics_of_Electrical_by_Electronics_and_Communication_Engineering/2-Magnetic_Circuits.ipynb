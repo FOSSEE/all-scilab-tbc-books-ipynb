{
"cells": [
 {
		   "cell_type": "markdown",
	   "metadata": {},
	   "source": [
       "# Chapter 2: Magnetic Circuits"
	   ]
	},
{
		   "cell_type": "markdown",
		   "metadata": {},
		   "source": [
			"## Example 2.10: Self_and_mutual_inductance.sce"
		   ]
		  },
  {
"cell_type": "code",
	   "execution_count": null,
	   "metadata": {
	    "collapsed": true
	   },
	   "outputs": [],
"source": [
"//Ex 2.10\n",
"clc;clear;close;\n",
"format('v',6);\n",
"A=800;//mm^2(Cross sectional area)\n",
"r=170;//mm(radius)\n",
"N1=500;//turns\n",
"N2=700;//turns\n",
"mur=1200;//relative permeability\n",
"mu0=4*%pi*10^-7;//constant\n",
"S=2*%pi*r*10^-3/(mu0*mur*A*10^-6);//H\n",
"L1=N1^2/S;//H\n",
"disp(L1,'Self Inductance of coil 1(H)');\n",
"L2=N2^2/S;//H\n",
"disp(L2,'Self Inductance of coil 2(H)');\n",
"k=1;//constant\n",
"M=k*sqrt(L1*L2);//H\n",
"disp(M,'Mutual Inductance(H)');"
   ]
   }
,
{
		   "cell_type": "markdown",
		   "metadata": {},
		   "source": [
			"## Example 2.1: field_strength_and_flux.sce"
		   ]
		  },
  {
"cell_type": "code",
	   "execution_count": null,
	   "metadata": {
	    "collapsed": true
	   },
	   "outputs": [],
"source": [
"//Ex 2.1\n",
"clc;clear;close;\n",
"format('v',6);\n",
"N=200;//turns\n",
"c=600;//mm(circumference)\n",
"A=500;//m^2(Cross section area)\n",
"I=4;//A(Current through coil)\n",
"H=I*N/(c*10^-3);//A/m(Magnetic field strength)\n",
"disp(H,'(a) Magnetic field strength(A/m)');\n",
"mu0=4*%pi*10^-7;//constant\n",
"FD=mu0*H*10^6;//micro T(Flux density)\n",
"disp(FD,'(b) Flux density(micro T)');\n",
"Ft=FD*A*10^-6;//micro Wb(Total flux)\n",
"disp(Ft,'(c) Total flux(micro Wb)');\n",
"//Answer in the book is wrong."
   ]
   }
,
{
		   "cell_type": "markdown",
		   "metadata": {},
		   "source": [
			"## Example 2.2: Magnetomotive_force.sce"
		   ]
		  },
  {
"cell_type": "code",
	   "execution_count": null,
	   "metadata": {
	    "collapsed": true
	   },
	   "outputs": [],
"source": [
"//Ex 2.2\n",
"clc;clear;close;\n",
"format('v',6);\n",
"fi=0.015;//Wb(flux)\n",
"ag=2.5;//mm(airgap)\n",
"Ae=200;//cm^2(Effective area)\n",
"FD=fi/(Ae*10^-4);//T(Flux density)\n",
"mu0=4*%pi*10^-7;//constant\n",
"H=FD/mu0;//A/m(Magnetic field strength)\n",
"mmf=H*ag*10^-3;//A(magnetomotive force required)\n",
"disp(mmf,'Magnetomotive force required(A)');\n",
"//Answer in the book is not accurate."
   ]
   }
,
{
		   "cell_type": "markdown",
		   "metadata": {},
		   "source": [
			"## Example 2.3: Reluctance_and_current.sce"
		   ]
		  },
  {
"cell_type": "code",
	   "execution_count": null,
	   "metadata": {
	    "collapsed": true
	   },
	   "outputs": [],
"source": [
"//Ex 2.3\n",
"clc;clear;close;\n",
"format('e',9);\n",
"A=500;//mm^2(Cross sectional area)\n",
"c=400;//mm(circumference)\n",
"N=200;//turns\n",
"fi=800;//micro Wb(flux)\n",
"B=fi*10^-6/(A*10^-6);//T(Flux density)\n",
"mu0=4*%pi*10^-7;//constant\n",
"mur=380;//relative permeability\n",
"S=(c/1000)/(mur*mu0*A*10^-6);//A/Wb(Reluctance)\n",
"disp(S,'(a) Reluctance of the ring(A/Wb)');\n",
"mmf=fi*10^-6*S;//A\n",
"Im=mmf/N;//A(Magnetizing current)\n",
"format('v',5);\n",
"disp(Im,'(b) Required magnetizing current(A)');"
   ]
   }
,
{
		   "cell_type": "markdown",
		   "metadata": {},
		   "source": [
			"## Example 2.4: Coil_Current.sce"
		   ]
		  },
  {
"cell_type": "code",
	   "execution_count": null,
	   "metadata": {
	    "collapsed": true
	   },
	   "outputs": [],
"source": [
"//Ex 2.4\n",
"clc;clear;close;\n",
"format('v',5);\n",
"la=80;//mm\n",
"Aa=50;//mm^2(Cross sectional area)\n",
"lb=60;//mm\n",
"Ab=90;//mm^2(Cross sectional area)\n",
"lc=0.5;//mm(airgap)\n",
"Ac=150;//mm^2(Cross sectional area)\n",
"N=4000;//turns\n",
"Bc=0.30;//T(Flux density in airgap)\n",
"mu0=4*%pi*10^-7;//constant\n",
"mur=1300;//relative permeability\n",
"fi=Bc*Ac*10^-6;//Wb(flux)\n",
"Fa=fi*la*10^-3/(mu0*mur*Aa*10^-6);//At\n",
"Fb=fi*lb*10^-3/(mu0*mur*Ab*10^-6);//At\n",
"Fc=fi*lc*10^-3/(mu0*1*Ac*10^-6);//At\n",
"F=Fa+Fb+Fc;//At\n",
"I=F/N*1000;//mA\n",
"disp(I,'Coil current(mA)');"
   ]
   }
,
{
		   "cell_type": "markdown",
		   "metadata": {},
		   "source": [
			"## Example 2.5: Induced_emf.sce"
		   ]
		  },
  {
"cell_type": "code",
	   "execution_count": null,
	   "metadata": {
	    "collapsed": true
	   },
	   "outputs": [],
"source": [
"//Ex 2.5\n",
"clc;clear;close;\n",
"format('v',6);\n",
"L=0.5;//H\n",
"deltaI=2-5;//A\n",
"deltaT=0.05;//sec\n",
"dIBYdT=deltaI/deltaT;//A/s\n",
"emf=L*dIBYdT;//V\n",
"disp(emf,'emf induced(V)');"
   ]
   }
,
{
		   "cell_type": "markdown",
		   "metadata": {},
		   "source": [
			"## Example 2.6: Flux_and_emf.sce"
		   ]
		  },
  {
"cell_type": "code",
	   "execution_count": null,
	   "metadata": {
	    "collapsed": true
	   },
	   "outputs": [],
"source": [
"//Ex 2.6\n",
"clc;clear;close;\n",
"format('v',5);\n",
"N=300;//turns\n",
"L=10;//mH\n",
"I=5;//A\n",
"fi=L*10^-3/N*I*10^6;//micro Wb\n",
"disp(fi,'(a) Flux produced(micro Wb)');\n",
"//on reverse the current\n",
"delta_fi=2*fi;//micro Wb\n",
"//(as it goes to zero and increase to same value in reverse direction)\n",
"deltaT=8*10^-3;//seconds\n",
"dfiBYdT=delta_fi*10^-6/deltaT;//Wb/s\n",
"emf=N*dfiBYdT;//V(Average emf induced)\n",
"disp(emf,'(b) Average emf induced(V)');"
   ]
   }
,
{
		   "cell_type": "markdown",
		   "metadata": {},
		   "source": [
			"## Example 2.7: Inductance_of_coil.sce"
		   ]
		  },
  {
"cell_type": "code",
	   "execution_count": null,
	   "metadata": {
	    "collapsed": true
	   },
	   "outputs": [],
"source": [
"//Ex 2.7\n",
"clc;clear;close;\n",
"format('v',6);\n",
"c=400;//mm(circumference)\n",
"A=500;//mm^2(Cross sectional area)\n",
"N=200;//turns\n",
"//Part (a)\n",
"I=2;//A\n",
"H=N*I/(c*10^-3);//A/m\n",
"B=1.13;//T(Corresponding Flux density)\n",
"fi=B*A*10^-6;//Wb(total flux)\n",
"L=N*fi/I*1000;//mH\n",
"disp(L,'(a) Inductance of coil(mH)');\n",
"//Part (a)\n",
"I=10;//A\n",
"H=N*I/(c*10^-3);//A/m\n",
"B=1.63;//T(Corresponding Flux density)\n",
"fi=B*A*10^-6;//Wb(total flux)\n",
"L=N*fi/I*1000;//mH\n",
"disp(L,'(b) Inductance of coil(mH)');"
   ]
   }
,
{
		   "cell_type": "markdown",
		   "metadata": {},
		   "source": [
			"## Example 2.8: Inductance.sce"
		   ]
		  },
  {
"cell_type": "code",
	   "execution_count": null,
	   "metadata": {
	    "collapsed": true
	   },
	   "outputs": [],
"source": [
"//Ex 2.8\n",
"clc;clear;close;\n",
"format('v',5);\n",
"c=400;//mm(circumference)\n",
"A=500;//mm^2(Cross sectional area)\n",
"N=200;//turns\n",
"mu0=4*%pi*10^-7;//constant\n",
"L=mu0*A*10^-6*(N^2)/(c*10^-3)*10^6;//micro H\n",
"disp(L,'Inductance(micro H)');"
   ]
   }
],
"metadata": {
		  "kernelspec": {
		   "display_name": "Scilab",
		   "language": "scilab",
		   "name": "scilab"
		  },
		  "language_info": {
		   "file_extension": ".sce",
		   "help_links": [
			{
			 "text": "MetaKernel Magics",
			 "url": "https://github.com/calysto/metakernel/blob/master/metakernel/magics/README.md"
			}
		   ],
		   "mimetype": "text/x-octave",
		   "name": "scilab",
		   "version": "0.7.1"
		  }
		 },
		 "nbformat": 4,
		 "nbformat_minor": 0
}
