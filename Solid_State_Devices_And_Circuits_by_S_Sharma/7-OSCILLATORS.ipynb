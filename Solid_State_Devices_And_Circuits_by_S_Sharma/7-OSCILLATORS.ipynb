{
"cells": [
 {
		   "cell_type": "markdown",
	   "metadata": {},
	   "source": [
       "# Chapter 7: OSCILLATORS"
	   ]
	},
{
		   "cell_type": "markdown",
		   "metadata": {},
		   "source": [
			"## Example 7.10: oscillation_frequency.sce"
		   ]
		  },
  {
"cell_type": "code",
	   "execution_count": null,
	   "metadata": {
	    "collapsed": true
	   },
	   "outputs": [],
"source": [
"// Example 7.10:oscillation frequency \n",
"clc;\n",
"clear;\n",
"close;\n",
"C=100;//capacitance of tunned circuit in pico farad\n",
"L1=1;//INDUCTANCE of tunned circuit in milli henry\n",
"L2=0.1;//INDUCTANCE of tunned circuit in milli henry\n",
"fo=(1/(2*%pi*sqrt((L1+L2)*10^-3*C*10^-12)))*10^-3;//tunned frequency in killo hertz\n",
"disp(fo,'tunned frequency in killo hertz is')"
   ]
   }
,
{
		   "cell_type": "markdown",
		   "metadata": {},
		   "source": [
			"## Example 7.11: feedback_ratio.sce"
		   ]
		  },
  {
"cell_type": "code",
	   "execution_count": null,
	   "metadata": {
	    "collapsed": true
	   },
	   "outputs": [],
"source": [
"// Example 7.11:feedback ratio\n",
"clc;\n",
"clear;\n",
"close;\n",
"Af=40;//gain wtih feedback\n",
"Vi=2.4;//input voltage\n",
"Vif=0.1;//input voltage with feedback\n",
"A= Af*(Vi/Vif);//gain without feedback\n",
"Beta= (1-(A/Af))/A;//feedback ratio\n",
"disp(Beta,'feedback ratio is')"
   ]
   }
,
{
		   "cell_type": "markdown",
		   "metadata": {},
		   "source": [
			"## Example 7.12: resonant_frequency.sce"
		   ]
		  },
  {
"cell_type": "code",
	   "execution_count": null,
	   "metadata": {
	    "collapsed": true
	   },
	   "outputs": [],
"source": [
"// Example 7.12:resonant frequency\n",
"clc;\n",
"clear;\n",
"close;\n",
"Cs=0.08;//capacitance of tunned circuit in pico farad\n",
"Ls=0.8;//series INDUCTANCE of tunned circuit in henry\n",
"Cp=1;//parallel capacitance in pico farad\n",
"Rs=5;//SERIES RESISTANCE IN KILLO OHMS\n",
"fs=round((1/(2*%pi*sqrt(Ls*Cs*10^-12)))*10^-3);//series tunned frequency in killo hertz\n",
"fp=round(((1/(2*%pi))*sqrt((1+Cs/Cp)/(Ls*Cs*10^-12)))*10^-3);//parralel tunned frequency in killo hertz\n",
"disp(fs,'series tunned frequency in killo hertz is')\n",
"disp(fp,'parallel tunned frequency in killo hertz is')"
   ]
   }
,
{
		   "cell_type": "markdown",
		   "metadata": {},
		   "source": [
			"## Example 7.13: quality_factor.sce"
		   ]
		  },
  {
"cell_type": "code",
	   "execution_count": null,
	   "metadata": {
	    "collapsed": true
	   },
	   "outputs": [],
"source": [
"// Example 7.12:quality factor\n",
"clc;\n",
"clear;\n",
"close;\n",
"f=450;//resonant frequency in killo hertz\n",
"L=4.2;//inductnace in henry\n",
"R=600;//resistance in ohms\n",
"Q= round((2*%pi*f*10^3*L)/R);//quality factor\n",
"disp(Q,'quality factor is')"
   ]
   }
,
{
		   "cell_type": "markdown",
		   "metadata": {},
		   "source": [
			"## Example 7.14: resonant_frequency.sce"
		   ]
		  },
  {
"cell_type": "code",
	   "execution_count": null,
	   "metadata": {
	    "collapsed": true
	   },
	   "outputs": [],
"source": [
"// Example 7.14:resonant frequency\n",
"clc;\n",
"clear;\n",
"close;\n",
"Cs=0.01;//capacitance of tunned circuit in pico farad\n",
"Ls=0.8;//series INDUCTANCE of tunned circuit in henry\n",
"Cp=20;//parallel capacitance in pico farad\n",
"Rs=5;//SERIES RESISTANCE IN KILLO OHMS\n",
"fs=((1/(2*%pi*sqrt(Ls*Cs*10^-12)))*10^-3);//series tunned frequency in killo hertz\n",
"fp=(((1/(2*%pi))*sqrt((1+Cs/Cp)/(Ls*Cs*10^-12)))*10^-3);//parralel tunned frequency in killo hertz\n",
"disp(fs,'series tunned frequency in killo hertz is')\n",
"disp(fp,'parallel tunned frequency in killo hertz is')"
   ]
   }
,
{
		   "cell_type": "markdown",
		   "metadata": {},
		   "source": [
			"## Example 7.15: percentage_change_and_quality_factor.sce"
		   ]
		  },
  {
"cell_type": "code",
	   "execution_count": null,
	   "metadata": {
	    "collapsed": true
	   },
	   "outputs": [],
"source": [
"// Example 7.15:resonant frequency,percentage change and quality factor\n",
"clc;\n",
"clear;\n",
"close;\n",
"Cs=0.065;//capacitance of tunned circuit in pico farad\n",
"Ls=0.33;//series INDUCTANCE of tunned circuit in henry\n",
"Cp=1;//parallel capacitance in pico farad\n",
"Rs=5.5;//SERIES RESISTANCE IN KILLO OHMS\n",
"fs=round((1/(2*%pi*sqrt(Ls*Cs*10^-12)))*10^-3);//series tunned frequency in killo hertz\n",
"fp=round(((1/(2*%pi))*sqrt((1+Cs/Cp)/(Ls*Cs*10^-12)))*10^-3);//parralel tunned frequency in killo hertz\n",
"Pc= ((fp-fs)/fs)*100;//percentage by which series resonant frequency exceeds the parallel resonant frequency\n",
"Qs= round((2*%pi*fs*10^3*Ls)/(Rs*10^3));//quality factor with series resonant frequency\n",
"Qp= round((2*%pi*fp*10^3*Ls)/(Rs*10^3));//quality factor with parallled resonant frequency\n",
"disp(fs,'series tunned frequency in killo hertz is')\n",
"disp(fp,'parallel tunned frequency in killo hertz is')\n",
"disp(Pc,'percentage by which series resonant frequency exceeds the parallel resonant frequency')\n",
"disp(Qs,'quality factor with series resonant frequency is')\n",
"disp(Qp,'quality factor with paralled resonant frequency is')"
   ]
   }
,
{
		   "cell_type": "markdown",
		   "metadata": {},
		   "source": [
			"## Example 7.16: oscillation_frequency.sce"
		   ]
		  },
  {
"cell_type": "code",
	   "execution_count": null,
	   "metadata": {
	    "collapsed": true
	   },
	   "outputs": [],
"source": [
"// Example 7.16:oscillation frequency \n",
"clc;\n",
"clear;\n",
"close;\n",
"C1=120;//capacitance of tunned circuit in PICO farad\n",
"C2=1500;//capacitance of tunned circuit in pico farad\n",
"C3=15;//capacitance of tunned circuit in pico farad\n",
"Cx=(C1*C2)/(C1+C2);//capacitance in pico farad\n",
"Ct=(Cx*C3)/(Cx+C3);//total capacitance in pico farad\n",
"L=10;//INDUCTANCE of tunned circuit in micro henry\n",
"fo=(1/(2*%pi*sqrt(L*10^-6*Ct*10^-12)))*10^-6;//tunned frequency in mega hertz\n",
"foa= (1/(2*%pi*sqrt(L*10^-6*C3*10^-12)))*10^-6;//actual resonant frequency in mega hertz\n",
"disp(fo,'tunned frequency in killo mega is')\n",
"disp(foa,'actual resonant frequency in mega hertz')"
   ]
   }
,
{
		   "cell_type": "markdown",
		   "metadata": {},
		   "source": [
			"## Example 7.17: resonant_frequency.sce"
		   ]
		  },
  {
"cell_type": "code",
	   "execution_count": null,
	   "metadata": {
	    "collapsed": true
	   },
	   "outputs": [],
"source": [
"// Example 7.16:resonant frequency \n",
"clc;\n",
"clear;\n",
"close;\n",
"R=500;//resistance in ohms\n",
"C1=0.01;//capacitance of tunned circuit in pico farad\n",
"C2=10;//capacitance of tunned circuit in pico farad\n",
"C=(C1*C2)/(C1+C2);//total capacitance in micro farad\n",
"L=0.06;//INDUCTANCE of tunned circuit in  henry\n",
"fs=((1/(2*%pi*sqrt(L*C1*10^-12)))*10^-6);//series tunned frequency in mega hertz\n",
"C=(C1*C2)/(C1+C2);//total capacitance in pico farad\n",
"fp=(1/(2*%pi*sqrt(L*C*10^-12))*10^-6);//parralel tunned frequency in mega hertz\n",
"disp(fs,'series tunned frequency in mega hertz is')\n",
"disp(fp,'parallel tunned frequency in mega hertz is')"
   ]
   }
,
{
		   "cell_type": "markdown",
		   "metadata": {},
		   "source": [
			"## Example 7.18: oscillation_frequency.sce"
		   ]
		  },
  {
"cell_type": "code",
	   "execution_count": null,
	   "metadata": {
	    "collapsed": true
	   },
	   "outputs": [],
"source": [
"// Example 7.18:oscillation frequency \n",
"clc;\n",
"clear;\n",
"close;\n",
"C=100;//capacitance of tunned circuit in pico farad\n",
"L1=50;//INDUCTANCE of tunned circuit in micro henry\n",
"L2=50;//INDUCTANCE of tunned circuit in micro henry\n",
"fo=(1/(2*%pi*sqrt((L1+L2)*10^-6*C*10^-12)))*10^-6;//tunned frequency in mega hertz\n",
"disp(fo,'tunned frequency in mega hertz is')"
   ]
   }
,
{
		   "cell_type": "markdown",
		   "metadata": {},
		   "source": [
			"## Example 7.19: scillation_frequency.sce"
		   ]
		  },
  {
"cell_type": "code",
	   "execution_count": null,
	   "metadata": {
	    "collapsed": true
	   },
	   "outputs": [],
"source": [
"// Example 7.19:oscillation frequency \n",
"clc;\n",
"clear;\n",
"close;\n",
"C1=120;//capacitance of tunned circuit in PICO farad\n",
"C2=1500;//capacitance of tunned circuit in pico farad\n",
"C=(C1*C2)/(C1+C2);//total capacitance in pico farad\n",
"L=10;//INDUCTANCE of tunned circuit in micro henry\n",
"fo=(1/(2*%pi*sqrt(L*10^-6*C*10^-12)))*10^-6;//tunned frequency in mega hertz\n",
"disp(fo,'tunned frequency in mega hertz is')"
   ]
   }
,
{
		   "cell_type": "markdown",
		   "metadata": {},
		   "source": [
			"## Example 7.1: oscillation_frequency.sce"
		   ]
		  },
  {
"cell_type": "code",
	   "execution_count": null,
	   "metadata": {
	    "collapsed": true
	   },
	   "outputs": [],
"source": [
"// Example 7.1:oscillation frequency \n",
"clc;\n",
"clear;\n",
"close;\n",
"c=450;//capacitance of tunned circuit in pico farad\n",
"L=29.3;//INDUCTANCE of tunned circuit in micro henry\n",
"fo=(1/(2*%pi*sqrt(L*10^-6*c*10^-12)))*10^-6;//tunned frequency in mega hertz\n",
"disp(fo,'tunned frequency in mega hertz is')"
   ]
   }
,
{
		   "cell_type": "markdown",
		   "metadata": {},
		   "source": [
			"## Example 7.20: oscillation_frequency.sce"
		   ]
		  },
  {
"cell_type": "code",
	   "execution_count": null,
	   "metadata": {
	    "collapsed": true
	   },
	   "outputs": [],
"source": [
"// Example 7.20:oscillation frequency \n",
"clc;\n",
"clear;\n",
"close;\n",
"C1=120;//capacitance of tunned circuit in PICO farad\n",
"C2=1500;//capacitance of tunned circuit in pico farad\n",
"C3=15;//capacitance of tunned circuit in pico farad\n",
"Cx=(C1*C2)/(C1+C2);//capacitance in pico farad\n",
"Ct=(Cx*C3)/(Cx+C3);//total capacitance in pico farad\n",
"L=10;//INDUCTANCE of tunned circuit in micro henry\n",
"fo=(1/(2*%pi*sqrt(L*10^-6*Ct*10^-12)))*10^-6;//tunned frequency in mega hertz\n",
"disp(fo,'tunned frequency in killo mega is')\n",
""
   ]
   }
,
{
		   "cell_type": "markdown",
		   "metadata": {},
		   "source": [
			"## Example 7.21: oscillation_frequency.sce"
		   ]
		  },
  {
"cell_type": "code",
	   "execution_count": null,
	   "metadata": {
	    "collapsed": true
	   },
	   "outputs": [],
"source": [
"// Example 7.21:oscillation frequency \n",
"clc;\n",
"clear;\n",
"close;\n",
"C=100;//capacitance in pico farad\n",
"R=800;//resistance in killo ohms\n",
"fo=round(1/(2*%pi*R*10^3*C*10^-12*sqrt(6)));//RESONANT FREQUENCY IN HERTZ\n",
"disp(fo,'RESONANT FREQUENCY IN HERTZ')"
   ]
   }
,
{
		   "cell_type": "markdown",
		   "metadata": {},
		   "source": [
			"## Example 7.22: oscillation_frequency.sce"
		   ]
		  },
  {
"cell_type": "code",
	   "execution_count": null,
	   "metadata": {
	    "collapsed": true
	   },
	   "outputs": [],
"source": [
"// Example 7.22:oscillation frequency \n",
"clc;\n",
"clear;\n",
"close;\n",
"w=2*10^3;//in radiand per second\n",
"f= round(w/(2*%pi));//resonant frequency\n",
"X=(((16*10^9*4*w^2*10^3))/((4*w^2*10^3)^2));//\n",
"disp(f,'resonant frequency in hertz')\n",
"disp(X,'oscillations are sustained')"
   ]
   }
,
{
		   "cell_type": "markdown",
		   "metadata": {},
		   "source": [
			"## Example 7.23: Design_R_C_phase_shift_oscillator.sce"
		   ]
		  },
  {
"cell_type": "code",
	   "execution_count": null,
	   "metadata": {
	    "collapsed": true
	   },
	   "outputs": [],
"source": [
"// Example 7.23:Design R-C phase shift oscillator\n",
"clc;\n",
"clear;\n",
"close;\n",
"fo=1;//resonant frequency in killo hertz\n",
"Av= 29;//voltage gain\n",
"Vcc=10;//collector voltage\n",
"Ib=0.5;//maximum base current in micro ampere\n",
"I1=100*Ib;//assume current in micro ampere\n",
"Vosat= 0.9*Vcc;//saturation voltage assume\n",
"V1=Vosat/Av;//voltage for sustained oscillations\n",
"R1=(V1/(I1*10^-6))*10^-3;//RESISTANCE IN KILLO PHMS\n",
"Rf1=Av*R1;//resistance in killo ohms\n",
"Rf2=180;//standard resistance in killo ohms\n",
"R3=Rf2;//\n",
"R=R1;//\n",
"C=(1/(2*%pi*R*10^3*fo*10^3*sqrt(6)))*10^6;//capacitance in micro farad\n",
"disp(R,'Resistance for the R-C Phase shift oscillator in kilo ohms is')\n",
"disp(R3,'Resistance for the R-C Phase shift oscillator in kilo ohms is')\n",
"disp(C,'Capacitance for the R-C Phase shift oscillator in micro-farad is')"
   ]
   }
,
{
		   "cell_type": "markdown",
		   "metadata": {},
		   "source": [
			"## Example 7.24: Design_R_C_phase_shift_oscillator.sce"
		   ]
		  },
  {
"cell_type": "code",
	   "execution_count": null,
	   "metadata": {
	    "collapsed": true
	   },
	   "outputs": [],
"source": [
"// Example 7.24:drain resistance and Design R-C phase shift oscillator\n",
"clc;\n",
"clear;\n",
"close;\n",
"Mu=55;//\n",
"rd=5.5;//resistane in killo ohms\n",
"fo=5;//resonant frequency in killo hertz\n",
"A= 29;//voltage gain\n",
"Rd= (29*rd)/(Mu-A);//resistance in killo ohms\n",
"RC=round((1/(2*%pi*fo*10^3*sqrt(6)))*10^6);//R-C in pico second\n",
"R=30;;//assume Resistance in killo ohms\n",
"C=round(RC*10^-6/(30*10^3)*10^12);//CAPACITANCE IN PICO FARAD\n",
"disp(Rd,'drain resistance in killo ohms is')\n",
"disp(RC,'R-C in pico second')\n",
"disp(C,'Capacitance for the R-C Phase shift oscillator in PICO-farad is')"
   ]
   }
,
{
		   "cell_type": "markdown",
		   "metadata": {},
		   "source": [
			"## Example 7.25: oscillations_and_mimimum_gain.sce"
		   ]
		  },
  {
"cell_type": "code",
	   "execution_count": null,
	   "metadata": {
	    "collapsed": true
	   },
	   "outputs": [],
"source": [
"// Example 7.25:Vf/Vo,frequency of oscillations and mimimum gain\n",
"clc;\n",
"clear;\n",
"close;\n",
"Beta=1/29;//GAIN\n",
"VfVo= (Beta+1);//\n",
"disp(VfVo,'Voltage gain is')\n",
"disp('f=1/(2*%pi*R*C*sqrt(6)) frequency of oscillations')\n",
"disp('AS gain is more than one oscillations will be sustained')"
   ]
   }
,
{
		   "cell_type": "markdown",
		   "metadata": {},
		   "source": [
			"## Example 7.26: design_wein_bridge_oscillator.sce"
		   ]
		  },
  {
"cell_type": "code",
	   "execution_count": null,
	   "metadata": {
	    "collapsed": true
	   },
	   "outputs": [],
"source": [
"// Example 7.26:design wein bridge oscillator\n",
"clc;\n",
"clear;\n",
"close;\n",
"Vcc=15;//collector voltage\n",
"f=10;//frequency of oscillation in killo hertz\n",
"Vo=Vcc-1;//maximum output voltage\n",
"I=1;//current in millo ampere\n",
"x=Vo/I;//resistance in killo ohms\n",
"R4=x/3;//resistance in killo ohms\n",
"R3= 2*R4;//resistance in killo ohms\n",
"A= round(1+(R3/R4));//amplifier gain\n",
"R=R4;//resistance in killo ohms\n",
"C=(1/(2*%pi*f*10^3*R*10^3))*10^9;//CAPACITANCE IN NANO FARAD\n",
"disp(A,'amlifier gain is')\n",
"disp(R,'resistance in killo ohms')\n",
"disp(R3,'resistance in killo ohms')\n",
"disp(C,'CAPACITANCE IN NANO FARAD')\n",
"disp('this is name as example 7.27 in the book' )"
   ]
   }
,
{
		   "cell_type": "markdown",
		   "metadata": {},
		   "source": [
			"## Example 7.27: oscillations_and_output_frequency.sce"
		   ]
		  },
  {
"cell_type": "code",
	   "execution_count": null,
	   "metadata": {
	    "collapsed": true
	   },
	   "outputs": [],
"source": [
"// Example 7.27:sustained oscillations and output frequency\n",
"clc;\n",
"clear;\n",
"close;\n",
"R4=5.1;//resistance in killo ohms\n",
"R3=12;//resistance in killo ohms\n",
"A= round(1+(R3/R4));//amplifier gain\n",
"R=R4;//resistance in killo ohms\n",
"C=1;//capacitance in nano farad\n",
"fo= (1/(2*%pi*C*10^-9*R*10^3))*10^-3;//FREQUENCY OF OSCILLATION IN KILLO HERTZ\n",
"disp(A,'amlifier gain is it is greater than 1 so circuit will oscillate')\n",
"disp(fo,'oscillation frequency in killo hertz')"
   ]
   }
,
{
		   "cell_type": "markdown",
		   "metadata": {},
		   "source": [
			"## Example 7.29: design_wein_bridge_oscillator.sce"
		   ]
		  },
  {
"cell_type": "code",
	   "execution_count": null,
	   "metadata": {
	    "collapsed": true
	   },
	   "outputs": [],
"source": [
"// Example 7.28:design wein bridge oscillator\n",
"clc;\n",
"clear;\n",
"close;\n",
"Vcc=10;//collector voltage\n",
"f=10;//frequency of oscillation in killo hertz\n",
"Vo=Vcc-1;//maximum output voltage\n",
"I=500;//current in micro ampere\n",
"x=(Vo/I)*10^3;//resistance in killo ohms\n",
"R4=x/3;//resistance in killo ohms\n",
"R3= 2*R4;//resistance in killo ohms\n",
"R=R4;//resistance in killo ohms\n",
"C=(1/(2*%pi*f*10^3*R*10^3))*10^12;//CAPACITANCE IN pico FARAD\n",
"disp(R,'resistance in killo ohms')\n",
"disp(R3,'resistance in killo ohms')\n",
"disp(C,'CAPACITANCE IN NANO FARAD')"
   ]
   }
,
{
		   "cell_type": "markdown",
		   "metadata": {},
		   "source": [
			"## Example 7.2: tunned_capacitance_range_of_tunned_circuit.sce"
		   ]
		  },
  {
"cell_type": "code",
	   "execution_count": null,
	   "metadata": {
	    "collapsed": true
	   },
	   "outputs": [],
"source": [
"// Example 7.2:tunned capacitance range of tunned circuit\n",
"clc;\n",
"clear;\n",
"close;\n",
"L=100;//INDUCTANCE of tunned circuit in micro henry\n",
"fo1=500;//tunned frequency in killo hertz\n",
"fo2=1500;//tunned frequency in killo hertz\n",
"C1= (1/(4*%pi^2*(fo1*10^-6)^2*L*10^-6))*10^-6;//tunned capacitance\n",
"C2= (1/(4*%pi^2*(fo2*10^-6)^2*L*10^-6))*10^-6;//tunned capacitance\n",
"disp(C1,'-',C2,'tunned capacitance range of tunned circuit IN PICO FARAD IS')"
   ]
   }
,
{
		   "cell_type": "markdown",
		   "metadata": {},
		   "source": [
			"## Example 7.32: design_BJT_R_C_Phase_shift_oscillator.sce"
		   ]
		  },
  {
"cell_type": "code",
	   "execution_count": null,
	   "metadata": {
	    "collapsed": true
	   },
	   "outputs": [],
"source": [
"// Example 7.33:Design R-C phase shift oscillator\n",
"clc;\n",
"clear;\n",
"close;\n",
"Vce=5;//in volts\n",
"RE=1;//emitter reistsance in killo ohms\n",
"Vbe=0.7;//in volts\n",
"Ie=1;//emitter current in mA\n",
"Re=1;//EMITTER RESISTANCE IN KILLO OHMS\n",
"f=100;//oscillaor frequency in killo hertz\n",
"hfe=100;//\n",
"hie=1;//in killo ohms\n",
"Vc=5;//in volts\n",
"Ic=1;//current in mili ampere\n",
"Vcc=20;//in volts\n",
"R=10;//resistane in killo ohms\n",
"Rc= ((Vcc-Vce-Ie*Re)/(Ic));//collector resistance in killo ohms is\n",
"k= Rc/R;\n",
"C= ((1/(2*%pi*R*10^3*f*10^3*sqrt(6+(4*1.4)))))*10^12;//capacitance in pico farad\n",
"R3= R-hie;//resistance in kiilo ohms\n",
"Vb= (Vbe+Ie*Re);//voltage at base\n",
"R2=R;//\n",
"I2=Vb/R2;// in mA\n",
"V2=(Vcc-R2*I2);//voltage drop across R2\n",
"IR1= (I2+(1/100));//CURRENT ACROOS R1\n",
"R1= V2/(IR1);//\n",
"disp(Re,'Emitter resistance in killo ohms is')\n",
"disp(Rc,'collector resistance in killo ohms is')\n",
"disp(R,' resistance in killo ohms is')\n",
"disp(C,'Capacitance in pico farad is')\n",
"disp(R3,' resistance(R3) in killo ohms is')\n",
"disp(R2,' resistance(R2) in killo ohms is')\n",
"disp(R1,' resistance(R1) in killo ohms is')"
   ]
   }
,
{
		   "cell_type": "markdown",
		   "metadata": {},
		   "source": [
			"## Example 7.33: design_phase_shift_oscillator.sce"
		   ]
		  },
  {
"cell_type": "code",
	   "execution_count": null,
	   "metadata": {
	    "collapsed": true
	   },
	   "outputs": [],
"source": [
"// Example 7.33:Design R-C phase shift oscillator\n",
"clc;\n",
"clear;\n",
"close;\n",
"rd=40;//resistane in killo ohms\n",
"fo=1//resonant frequency in killo hertz\n",
"gm= 5000;//in killo mh\n",
"R=10;;//assume Resistance in killo ohms\n",
"C=((1/(2*%pi*fo*10^3*R*10^3*sqrt(6)))*10^9);//C in nano farad\n",
"Av=29;//VOLTAGE GAIN\n",
"Vdd=12;//drain voltage\n",
"Rl= (Av/gm*10^-6)*10^9;//load resistance in killo ohms\n",
"Rd= ((Rl*rd)/(rd-Rl));//drain resistance in killo ohms\n",
"disp(Rd,'drain resistance in killo ohms is')\n",
"disp(C,'Capacitance for the R-C Phase shift oscillator in NANO-farad is')"
   ]
   }
,
{
		   "cell_type": "markdown",
		   "metadata": {},
		   "source": [
			"## Example 7.34: components_of_wein_bridge_oscialltor.sce"
		   ]
		  },
  {
"cell_type": "code",
	   "execution_count": null,
	   "metadata": {
	    "collapsed": true
	   },
	   "outputs": [],
"source": [
"// Example 7.32:design wein bridge oscillator\n",
"clc;\n",
"clear;\n",
"close;\n",
"R=100;//ASSUME RESSITANCE IN KILO OHMS\n",
"fo1=10;//tunned frequency in killo hertz\n",
"fo2=100;//tunned frequency in  hertz\n",
"C1= (1/(2*%pi*R*10^3*fo1*10^3))*10^9;//tunned capacitance\n",
"C2= (1/(2*%pi*R*10^3*fo2))*10^9;//tunned capacitance\n",
"disp(C1,'tunned capacitance range of tunned circuit IN NANO FARAD IS')\n",
"disp(C2,'tunned capacitance range of tunned circuit IN NANO FARAD IS')"
   ]
   }
,
{
		   "cell_type": "markdown",
		   "metadata": {},
		   "source": [
			"## Example 7.35: series_and_parallel_resonant_frequencies.sce"
		   ]
		  },
  {
"cell_type": "code",
	   "execution_count": null,
	   "metadata": {
	    "collapsed": true
	   },
	   "outputs": [],
"source": [
"// Example 7.33:resonant frequency and quality factor\n",
"clc;\n",
"clear;\n",
"close;\n",
"Cs=0.06;//capacitance of tunned circuit in pico farad\n",
"Ls=0.5;//series INDUCTANCE of tunned circuit in henry\n",
"Cp=1;//parallel capacitance in pico farad\n",
"Rs=5;//SERIES RESISTANCE IN KILLO OHMS\n",
"fs=round((1/(2*%pi*sqrt(Ls*Cs*10^-12)))*10^-3);//series tunned frequency in killo hertz\n",
"fp=round(((1/(2*%pi))*sqrt((1+Cs/Cp)/(Ls*Cs*10^-12)))*10^-3);//parralel tunned frequency in killo hertz\n",
"Pc= ((fp-fs)/fs)*100;//percentage by which series resonant frequency exceeds the parallel resonant frequency\n",
"Qs= round((2*%pi*fs*10^3*Ls)/(Rs*10^3));//quality factor with series resonant frequency\n",
"Qp= round((2*%pi*fp*10^3*Ls)/(Rs*10^3));//quality factor with parallled resonant frequency\n",
"disp(fs,'series tunned frequency in killo hertz is')\n",
"disp(fp,'parallel tunned frequency in killo hertz is')\n",
"disp(Qs,'quality factor with series resonant frequency is')\n",
"disp(Qp,'quality factor with paralled resonant frequency is')"
   ]
   }
,
{
		   "cell_type": "markdown",
		   "metadata": {},
		   "source": [
			"## Example 7.3: TRANSFORMER_WINDING_RATIO.sce"
		   ]
		  },
  {
"cell_type": "code",
	   "execution_count": null,
	   "metadata": {
	    "collapsed": true
	   },
	   "outputs": [],
"source": [
"// Example 7.3:TRANSFORMER WINDING RATIO\n",
"clc;\n",
"clear;\n",
"close;\n",
"Vcc=12;//collector vltage\n",
"Po=88;//power output in milli watt\n",
"Ploss=8;//power losses in milli watt\n",
"Pi= Po+Ploss;//input power in milli watt\n",
"Ic= Pi/Vcc;//collector current in milli ampere\n",
"gm=10;//transconductance in milli ampere per volt\n",
"Vb= Ic/(gm);//base VOLTAGE \n",
"TR=Vcc/Vb;//transfomer turn ratio\n",
"disp(TR,'transformer turn ratio is')"
   ]
   }
,
{
		   "cell_type": "markdown",
		   "metadata": {},
		   "source": [
			"## Example 7.4: oscillation_frequency.sce"
		   ]
		  },
  {
"cell_type": "code",
	   "execution_count": null,
	   "metadata": {
	    "collapsed": true
	   },
	   "outputs": [],
"source": [
"// Example 7.4:oscillation frequency \n",
"clc;\n",
"clear;\n",
"close;\n",
"C1=0.005;//capacitance of tunned circuit in micro farad\n",
"C2=0.01;//capacitance of tunned circuit in micro farad\n",
"C=(C1*C2)/(C1+C2);//total capacitance in micro farad\n",
"L=100;//INDUCTANCE of tunned circuit in micro henry\n",
"fo=(1/(2*%pi*sqrt(L*10^-6*C*10^-6)))*10^-3;//tunned frequency in killo hertz\n",
"disp(fo,'tunned frequency in killo hertz is')"
   ]
   }
,
{
		   "cell_type": "markdown",
		   "metadata": {},
		   "source": [
			"## Example 7.5: oscillation_frequency.sce"
		   ]
		  },
  {
"cell_type": "code",
	   "execution_count": null,
	   "metadata": {
	    "collapsed": true
	   },
	   "outputs": [],
"source": [
"// Example 7.5:oscillation frequency \n",
"clc;\n",
"clear;\n",
"close;\n",
"C1=500;//capacitance of tunned circuit in PICO farad\n",
"C2=500;//capacitance of tunned circuit in pico farad\n",
"C=(C1*C2)/(C1+C2);//total capacitance in micro farad\n",
"L=1;//INDUCTANCE of tunned circuit in milli henry\n",
"fo=(1/(2*%pi*sqrt(L*10^-3*C*10^-12)))*10^-3;//tunned frequency in killo hertz\n",
"disp(fo,'tunned frequency in killo hertz is')"
   ]
   }
,
{
		   "cell_type": "markdown",
		   "metadata": {},
		   "source": [
			"## Example 7.6: tunned_capacitance_and_inductance_of_tunned_circuit.sce"
		   ]
		  },
  {
"cell_type": "code",
	   "execution_count": null,
	   "metadata": {
	    "collapsed": true
	   },
	   "outputs": [],
"source": [
"// Example 7.6:tunned capacitance and inductance of tunned circuit\n",
"clc;\n",
"clear;\n",
"close;\n",
"fo=500;//tunned frequency in killo hertz\n",
"LC= (1/(4*%pi^2*(fo*10^-3)^2));//\n",
"L3=1;//assume inductance \n",
"C=LC/(L3*10^-3);//capacitance in pico farad\n",
"C1= 2*C;//\n",
"C2=C1;\n",
"disp(L3,'inductance in milli henry is')\n",
"disp(C1,'tunned capacitance C1 of tunned circuit IN PICO FARAD IS')\n",
"disp(C2,'tunned capacitance C2 of tunned circuit IN PICO FARAD IS')\n",
""
   ]
   }
,
{
		   "cell_type": "markdown",
		   "metadata": {},
		   "source": [
			"## Example 7.7: minimum_gain_and_emitter_resistance.sce"
		   ]
		  },
  {
"cell_type": "code",
	   "execution_count": null,
	   "metadata": {
	    "collapsed": true
	   },
	   "outputs": [],
"source": [
"// Example 7.6:operating frequency ,feedback fration ,minimum gain and emitter resistance\n",
"clc;\n",
"clear;\n",
"close;\n",
"Rc=2.5;//collector resistance in killo ohms\n",
"C1=0.001;//capacitance of tunned circuit in micro farad\n",
"C2=0.01;//capacitance of tunned circuit in micro farad\n",
"L=100;//INDUCTANCE of tunned circuit in micro henry\n",
"C=(C1*C2)/(C1+C2);//total capacitance in micro farad\n",
"fo=round((1/(2*%pi*sqrt(L*10^-6*C*10^-6)))*10^-3);//tunned frequency in killo hertz\n",
"Beta=C1/C2;//feedback fration\n",
"Amin= 1/Beta;//gain\n",
"Re= Rc*10^3/Amin;//emitter resistance in ohms\n",
"disp(fo,'tunned frequency in killo hertz')\n",
"disp(Beta,'feedback fraction is')\n",
"disp(Amin,'minimum gain is')\n",
"disp(Re,'emitter resistance in ohms')"
   ]
   }
,
{
		   "cell_type": "markdown",
		   "metadata": {},
		   "source": [
			"## Example 7.8: tunned_capacitance.sce"
		   ]
		  },
  {
"cell_type": "code",
	   "execution_count": null,
	   "metadata": {
	    "collapsed": true
	   },
	   "outputs": [],
"source": [
"// Example 7.8:tunned capacitance  of tunned circuit\n",
"clc;\n",
"clear;\n",
"close;\n",
"fo1=50;//tunned frequency in killo hertz\n",
"L1=100;//inductance in micro henry\n",
"L2=100;//inductance in micro henry\n",
"C= (1/(4*%pi^2*(fo1*10^-6)^2*(L1+L2)*10^-6))*10^-12;//tunned capacitance\n",
"disp(C,'tunned capacitance  tunned circuit IN MICRO FARAD IS')"
   ]
   }
,
{
		   "cell_type": "markdown",
		   "metadata": {},
		   "source": [
			"## Example 7.9: oscillation_frequency.sce"
		   ]
		  },
  {
"cell_type": "code",
	   "execution_count": null,
	   "metadata": {
	    "collapsed": true
	   },
	   "outputs": [],
"source": [
"// Example 7.9:oscillation frequency \n",
"clc;\n",
"clear;\n",
"close;\n",
"C=0.2;//capacitance of tunned circuit in MICRO farad\n",
"L1=0.5;//INDUCTANCE of tunned circuit in milli henry\n",
"L2=1;//INDUCTANCE of tunned circuit in milli henry\n",
"fo=(1/(2*%pi*sqrt((L1+L2)*10^-3*C*10^-6)));//tunned frequency in killo hertz\n",
"disp(fo,'tunned frequency in killo hertz is')"
   ]
   }
],
"metadata": {
		  "kernelspec": {
		   "display_name": "Scilab",
		   "language": "scilab",
		   "name": "scilab"
		  },
		  "language_info": {
		   "file_extension": ".sce",
		   "help_links": [
			{
			 "text": "MetaKernel Magics",
			 "url": "https://github.com/calysto/metakernel/blob/master/metakernel/magics/README.md"
			}
		   ],
		   "mimetype": "text/x-octave",
		   "name": "scilab",
		   "version": "0.7.1"
		  }
		 },
		 "nbformat": 4,
		 "nbformat_minor": 0
}
