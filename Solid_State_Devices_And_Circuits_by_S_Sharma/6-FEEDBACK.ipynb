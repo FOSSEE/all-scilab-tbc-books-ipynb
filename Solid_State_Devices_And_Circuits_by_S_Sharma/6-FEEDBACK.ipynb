{
"cells": [
 {
		   "cell_type": "markdown",
	   "metadata": {},
	   "source": [
       "# Chapter 6: FEEDBACK"
	   ]
	},
{
		   "cell_type": "markdown",
		   "metadata": {},
		   "source": [
			"## Example 6.10: input_and_output_impedance.sce"
		   ]
		  },
  {
"cell_type": "code",
	   "execution_count": null,
	   "metadata": {
	    "collapsed": true
	   },
	   "outputs": [],
"source": [
"// Example 6.10;//input & output impedance\n",
"clc;\n",
"clear;\n",
"close;\n",
"A= 10000;// open voltage gain\n",
"Beta=0.02;// feedback ratio\n",
"Zi=1;//input impedance without feedback in kiilo ohms\n",
"Zo=10;//output impedance without feedback in kiilo ohms\n",
"Zif= (1+A*Beta)*Zi;//input impedance with feedback in kiilo ohms\n",
"Zof=(Zo/(1+Beta*A))*10^3;//output impedance with feedback in  ohms\n",
"disp(Zif,'input impedance with feedback in kiilo ohms is ')\n",
"disp(Zof,'output impedance with feedback in ohms is ')"
   ]
   }
,
{
		   "cell_type": "markdown",
		   "metadata": {},
		   "source": [
			"## Example 6.11: feedback_factor_and_Change_in_gain.sce"
		   ]
		  },
  {
"cell_type": "code",
	   "execution_count": null,
	   "metadata": {
	    "collapsed": true
	   },
	   "outputs": [],
"source": [
"// Example 6.11;// feedback factor and Change in gain\n",
"clc;\n",
"clear;\n",
"close;\n",
"Zi=1;//input impedance without feedback in kiilo ohms\n",
"Zo=10;//output impedance without feedback in kiilo ohms\n",
"Zof=1;//output impedance with feedback in killo ohms\n",
"A= 1000;// open loop voltage gain\n",
"Beta=( (Zo/Zof)-1)/A;// feedback ratio\n",
"BetaA= Beta*A;//feedback factor\n",
"A1= (1-0.1)*A;//new open loop voltage gain\n",
"Af=100;//FEEDBACK\n",
"Af1= (A1/(1+(Beta*A1)));//GAIN WITH FEEDBACL\n",
"dA=((Af-Af1)/Af)*100;// Change in overall gain in percentage \n",
"disp(BetaA,'feedback factor is')\n",
"disp(dA,'Change in overall gain in percentage is')"
   ]
   }
,
{
		   "cell_type": "markdown",
		   "metadata": {},
		   "source": [
			"## Example 6.12: gain_and_frequency.sce"
		   ]
		  },
  {
"cell_type": "code",
	   "execution_count": null,
	   "metadata": {
	    "collapsed": true
	   },
	   "outputs": [],
"source": [
"// Example 6.12;// Avf,Fhf,Flf\n",
"clc;\n",
"clear;\n",
"close;\n",
"Fh=20;//upper cutoff frequency in killo hertz without feedback\n",
"Fl=30;//upper cutoff frequency in hertz without feedback\n",
"Av= 50000;// open loop voltage gain\n",
"Beta=5*10^-5;// feedback ratio\n",
"Avf= (Av/(1+(Beta*Av)));//GAIN WITH FEEDBACL\n",
"Fhf=Fh*(1+Av*Beta);//uppor cutoff frequency with feedback in killo hertz\n",
"Flf=Fl/(1+Av*Beta);//lower cutoff frequency with feedback in hertz\n",
"disp(Fhf,'uppor cutoff frequency with feedback in killo hertz')\n",
"disp(Flf,'lower cutoff frequency with feedback in hertz')"
   ]
   }
,
{
		   "cell_type": "markdown",
		   "metadata": {},
		   "source": [
			"## Example 6.13: feedback_factor_and_bandwidth.sce"
		   ]
		  },
  {
"cell_type": "code",
	   "execution_count": null,
	   "metadata": {
	    "collapsed": true
	   },
	   "outputs": [],
"source": [
"// Example 6.12;//feedback factor and bandwidth\n",
"clc;\n",
"clear;\n",
"close;\n",
"B=4;//bandwidth in mega hertz without feedback\n",
"Av= 1500;// open loop voltage gain\n",
"Avf= 150;//GAIN WITH FEEDBACk\n",
"AvB= ((Av/Avf)-1);//feedback factor\n",
"BWf=(1+AvB)*B;//bandwidth in mega hertz with feedback\n",
"disp(AvB,'FEEDBACK FACTOR IS')\n",
"disp(BWf,'bandwidth in mega hertz with feedback is')"
   ]
   }
,
{
		   "cell_type": "markdown",
		   "metadata": {},
		   "source": [
			"## Example 6.14: voltage_gain_and_input_and_output_resistance.sce"
		   ]
		  },
  {
"cell_type": "code",
	   "execution_count": null,
	   "metadata": {
	    "collapsed": true
	   },
	   "outputs": [],
"source": [
"// Example 6.14;//voltage gain ,input & output resistance\n",
"clc;\n",
"clear;\n",
"close;\n",
"A= 500;// open voltage gain\n",
"Beta=0.01;// feedback ratio\n",
"Ri=3;//input resistance without feedback in kiilo ohms\n",
"Ro=20;//output resistance without feedback in kiilo ohms\n",
"Af=(A/(1+A*Beta));//Voltage gain is\n",
"Rif= (1+A*Beta)*Ri;//input RESISTANCE with feedback in kiilo ohms\n",
"Rof=(Ro/(1+Beta*A));//output resistance with feedback in killo ohms\n",
"disp(Rif,'input resistance with feedback in kiilo ohms is ')\n",
"disp(Rof,'output resistance with feedback in killo ohms is ')"
   ]
   }
,
{
		   "cell_type": "markdown",
		   "metadata": {},
		   "source": [
			"## Example 6.15: INPUT_IMPEDANCE.sce"
		   ]
		  },
  {
"cell_type": "code",
	   "execution_count": null,
	   "metadata": {
	    "collapsed": true
	   },
	   "outputs": [],
"source": [
"// Example 6.15;//INPUT IMPEDANCE\n",
"clc;\n",
"clear;\n",
"close;\n",
"Beta=100;//gain\n",
"Rl=18.6;//load resistance in killo ohms\n",
"Re=9.3;//emitter resistance in killo ohms\n",
"Vbe=0.7;//\n",
"Vcc=10;//collector voltage in volts\n",
"R1=10;//resistance in killo ohms\n",
"R2=10;//resistance in killo ohms\n",
"V2= Vcc*(R2/(R1+R2));// voltage at resistor R2 \n",
"Ve=V2-Vbe;//volate at emitter\n",
"Ie=Ve/Re;// Emitter current in milli ampere\n",
"re=(25/Ie);//AC emitter resistance\n",
"Re=(Rl*Re)/(Rl+Re);//effective emitter resistance in killo ohms\n",
"Zib=Beta*(Re*10^3+re)*10^-3;//INPUT IMPEDANCE TO THE BASE IN KILLO OHMS\n",
"x=(R1*R2)/(R1+R2);//resistance in killo ohms\n",
"Zi=(Zib*x)/(Zib+x);//input impedance of the emitter follower in killo ohms\n",
"disp(Zi,'input impedance of the emitter follower in killo ohms is')"
   ]
   }
,
{
		   "cell_type": "markdown",
		   "metadata": {},
		   "source": [
			"## Example 6.16: gai.sce"
		   ]
		  },
  {
"cell_type": "code",
	   "execution_count": null,
	   "metadata": {
	    "collapsed": true
	   },
	   "outputs": [],
"source": [
"// Example 6.16;//gain\n",
"clc;\n",
"clear;\n",
"close;\n",
"gm=4000;//gain in micro second\n",
"Ro=10;//output resistance in killo ohms\n",
"Rd=10;// resistance in killo ohms\n",
"Rl=(Ro*Rd)/(Ro+Rd);//load resistance in killo ohms\n",
"A= -(gm*10^-6*Rl*10^3);//gain without feedback\n",
"R1=80;//resistance in killo ohms\n",
"R2=20;//resistance in killo ohms\n",
"Beta= -(R2/(R1+R2));//feedback factor\n",
"Af=(A/(1+A*Beta));//gain with feedback\n",
"disp(A,'gain without feedback is')\n",
"disp(Af,' gain with feedback is')"
   ]
   }
,
{
		   "cell_type": "markdown",
		   "metadata": {},
		   "source": [
			"## Example 6.17: gai.sce"
		   ]
		  },
  {
"cell_type": "code",
	   "execution_count": null,
	   "metadata": {
	    "collapsed": true
	   },
	   "outputs": [],
"source": [
"// Example 6.17;//gain\n",
"clc;\n",
"clear;\n",
"close;\n",
"R1=1.8;//resistance in killo ohms\n",
"R2=0.2;//resistance in killo ohms\n",
"Beta= (R2/(R1+R2));//feedback factor\n",
"A=100000;//gain without feedback\n",
"Af1=(A/(1+A*Beta));//gain with feedback\n",
"Af=(1/Beta);//AS A*Beta>>1\n",
"disp(Af,' gain with feedback AS A*Beta>>1 is')"
   ]
   }
,
{
		   "cell_type": "markdown",
		   "metadata": {},
		   "source": [
			"## Example 6.18: voltage_gain_and_resistance.sce"
		   ]
		  },
  {
"cell_type": "code",
	   "execution_count": null,
	   "metadata": {
	    "collapsed": true
	   },
	   "outputs": [],
"source": [
"// Example 6.18;//Av,Rif,Avf,Rof\n",
"clc;\n",
"clear;\n",
"close;\n",
"Rs=600;//Internal resistance in ohms\n",
"Rl=2;//Load resistance in killo ohms'\n",
"Rb=40;//base resistance in killo ohms\n",
"//H Paramters are\n",
"hie=5;//in killo ohms\n",
"hre=80;\n",
"hfe=80;\n",
"RL1=(Rb*Rl)/(Rb+Rl);//load resistance in killo ohms\n",
"Av=(-(hfe*(RL1*10^3/hie*10^3)))*10^-6;// Voltage Gain\n",
"x=(Rb*10^3/(1-Av));//\n",
"Rif= (hie*10^3*x)/(hie*10^3+x)//input resistance with feedback\n",
"Avf=(Av*Rif)/(Rif+Rs);// Overall Voltage gain\n",
"Rof=((Rb*10^3*(Rs+hie*10^3))/(Rs*hfe))*10^-3;//output resistance with feedback\n",
"Rof1=(Rof*Rl)/(Rof+Rl);// output resistance with feedback in killo ohms\n",
"disp(Av,'Voltage Gain is')\n",
"disp(Rif,'input resistance with feedback in ohms is')\n",
"disp(Avf,'Overall Voltage gain is')\n",
"disp(Rof1,'output resistance with feedback in killo ohms')\n",
"\n",
""
   ]
   }
,
{
		   "cell_type": "markdown",
		   "metadata": {},
		   "source": [
			"## Example 6.19: loop_gai.sce"
		   ]
		  },
  {
"cell_type": "code",
	   "execution_count": null,
	   "metadata": {
	    "collapsed": true
	   },
	   "outputs": [],
"source": [
"// Example 6.19;//A,Beta,Rif,Af amd loop gain\n",
"clc;\n",
"clear;\n",
"close;\n",
"R1=1;//resistance in killo ohms\n",
"R2=20;// resistance in killo ohms\n",
"Re=100;//emitter resistance in  ohms\n",
"//H Paramters are\n",
"hie=2;//in killo ohms\n",
"hfe=80;\n",
"Rl=1;//load resistance in killo ohms\n",
"Ri=hie;//input resistance in killo ohms\n",
"A= -(hfe*Rl*10^3)/(hie*10^3);//\n",
"Beta=Re/(Rl*(10^3));//GAIN\n",
"Rif= (hie*10^3+(1+hfe)*Re)*10^-3//input resistance with feedback in killo ohms\n",
"Av=(-(hfe*(Rl*10^3/Rif*10^3)))*10^-6;// Voltage Gain\n",
"BetaA= Beta*A;//loop gain\n",
"BetaAd= 20*(log10(-BetaA));//loop gain in dB\n",
"disp(A,'Voltage Gain is')\n",
"disp(Beta,'Gain is')\n",
"disp(Rif,'input resistance with feedback in killo ohms is')\n",
"disp(Av,' Voltage gain with feedback is')\n",
"disp(BetaAd,'loop gain in dB is')\n",
"\n",
""
   ]
   }
,
{
		   "cell_type": "markdown",
		   "metadata": {},
		   "source": [
			"## Example 6.1: gai.sce"
		   ]
		  },
  {
"cell_type": "code",
	   "execution_count": null,
	   "metadata": {
	    "collapsed": true
	   },
	   "outputs": [],
"source": [
"// Example 6.1;// Gain\n",
"clc;\n",
"clear;\n",
"close;\n",
"a=60;// OPEN LOOP VOLTAGE GAIN IN dB\n",
"A= 10^(a/20);// open voltage gain\n",
"Beta= (1/20);// feedback ratio\n",
"Af= (A/(1+(Beta*A)));//GAIN WITH FEEDBACL\n",
"AfdB= 20*(log10(Af));//gain with feedback in dB\n",
"disp(AfdB,'gain with feedback in dB is')"
   ]
   }
,
{
		   "cell_type": "markdown",
		   "metadata": {},
		   "source": [
			"## Example 6.20: voltage_gai.sce"
		   ]
		  },
  {
"cell_type": "code",
	   "execution_count": null,
	   "metadata": {
	    "collapsed": true
	   },
	   "outputs": [],
"source": [
"// Example 6.20;//voltage gain\n",
"clc;\n",
"clear;\n",
"close;\n",
"re=7.5;//A.C. Resistance\n",
"R1=470;//resistance in  ohms\n",
"Rc=2.2;// resistance in killo ohms\n",
"Re=510;//emitter resistance in  ohms\n",
"//H Paramters are\n",
"hie=900;//in  ohms\n",
"hfe=120;\n",
"A=-(hfe)/(hie+Re);///gain without feedback\n",
"Beta=-Re;//gain\n",
"GF= (1+A*Beta);//gain factor\n",
"Af=A/(GF);//GAIN WITH FEEDBACK\n",
"Avf= Af*Rc*10^3;//voltage gain with feedback\n",
"Av= -(Rc*10^3/re);//voltage gain without feedback\n",
"disp(Avf,'voltage gain with feedback is')\n",
"disp(Av,'voltage gain without feedback is')"
   ]
   }
,
{
		   "cell_type": "markdown",
		   "metadata": {},
		   "source": [
			"## Example 6.21: change_in_overall_gain.sce"
		   ]
		  },
  {
"cell_type": "code",
	   "execution_count": null,
	   "metadata": {
	    "collapsed": true
	   },
	   "outputs": [],
"source": [
"// Example 6.21;// change in overall gain\n",
"clc;\n",
"clear;\n",
"close;\n",
"Beta=0.01;//feedback\n",
"Ad= 60;//gain in dB\n",
"A= 10^(Ad/20);//gain\n",
"dA= 11;// open voltage gain\n",
"dAf= (1/(1+Beta*A))*dA;//GAIN WITH FEEDBACK\n",
"disp(dAf,'change in overall gain is in percentage')\n",
"disp('the result clearly shows that the percentage change reduction in overall gain with negative feedback is reduced from 11 to 1 percent .That is why we say that amplifier with negative feedback have stable gain')\n",
""
   ]
   }
,
{
		   "cell_type": "markdown",
		   "metadata": {},
		   "source": [
			"## Example 6.22: input_impedence_with_feedback.sce"
		   ]
		  },
  {
"cell_type": "code",
	   "execution_count": null,
	   "metadata": {
	    "collapsed": true
	   },
	   "outputs": [],
"source": [
"// Example 6.22;// input impedence with feedback\n",
"clc;\n",
"clear;\n",
"close;\n",
"A= 1000;// open voltage gain\n",
"Beta=0.005;// feedback ratio\n",
"Zi=2;//input impedance without feedback in kiilo ohms\n",
"Zif= (1+A*Beta)*Zi;//input impedance with feedback in kiilo ohms\n",
"disp(Zif,'input impedance with feedback in kiilo ohms is')"
   ]
   }
,
{
		   "cell_type": "markdown",
		   "metadata": {},
		   "source": [
			"## Example 6.23: feedback_factor_and_change_in_overall_gain.sce"
		   ]
		  },
  {
"cell_type": "code",
	   "execution_count": null,
	   "metadata": {
	    "collapsed": true
	   },
	   "outputs": [],
"source": [
"// Example 6.23;// feedback factor and change in overall gain\n",
"clc;\n",
"clear;\n",
"close;\n",
"Zo=12.6;//output impedance in killo ohms\n",
"Zofb=600;//output impedance in ohms with feedback\n",
"Ad= 60;//gain in dB\n",
"A= 10^(Ad/20);//gain\n",
"Beta= ((Zo*10^3/Zofb)-1)/A;//feedback factor\n",
"dA= 10;// open voltage gain\n",
"dAf= (1/(1+Beta*A))*dA;//GAIN WITH FEEDBACK\n",
"disp(Beta,'feedbck factor is')\n",
"disp(dAf,'change in overall gain is in percentage')\n",
"\n",
""
   ]
   }
,
{
		   "cell_type": "markdown",
		   "metadata": {},
		   "source": [
			"## Example 6.24: feedback_fraction_overall_voltage_gain_and_output_voltage.sce"
		   ]
		  },
  {
"cell_type": "code",
	   "execution_count": null,
	   "metadata": {
	    "collapsed": true
	   },
	   "outputs": [],
"source": [
"// Example 6.24;// feedback fration ,overall voltage gain and output voltage\n",
"clc;\n",
"clear;\n",
"close;\n",
"A=5000;//gain wtihout feedback\n",
"R1=1;//resistance in killo ohms\n",
"R2=9;//resistance in killo ohms\n",
"Beta= R1/(R1+R2);//feedback fraction\n",
"Afb=round(A/(1+Beta*A));//overall gain\n",
"Vs=2;//input voltage without feedback in milli volts\n",
"Vo= round(Afb*Vs);//output voltage with feedback in milli volts\n",
"disp(Beta,'feedback fraction is')\n",
"disp(Afb,'overall voltage gain')\n",
"disp(Vo,'output voltage with feedback in milli volts')"
   ]
   }
,
{
		   "cell_type": "markdown",
		   "metadata": {},
		   "source": [
			"## Example 6.25: overall_gain_and_impedence.sce"
		   ]
		  },
  {
"cell_type": "code",
	   "execution_count": null,
	   "metadata": {
	    "collapsed": true
	   },
	   "outputs": [],
"source": [
"// Example 6.25;//feedback fraction ,overall voltage gain,input impedance  ,output impedance and output volatge\n",
"clc;\n",
"clear;\n",
"close;\n",
"Zi=5;//input impedance in killo ohms\n",
"Zo=100;//input impedance in  ohms\n",
"A=10000;//gain wtihout feedback\n",
"R1=2;//resistance in killo ohms\n",
"R2=18;//resistance in killo ohms\n",
"Beta= R1/(R1+R2);//feedback fraction\n",
"Afb=round(A/(1+Beta*A));//overall gain\n",
"Zif= round((1+A*Beta)*Zi*10^-3);//input impedance with feedback in mega ohms\n",
"Zof= Zo/(1+Beta*A);//OUTPUT impedance with feedback in  ohms\n",
"Vs=10;//input voltage without feedback in milli volts\n",
"Vo= round(Vs/Afb);//output voltage with feedback in milli volts\n",
"disp(Beta,'feedback fraction is')\n",
"disp(Afb,'overall voltage gain')\n",
"disp(Zif,'input impedance with feedback in mega ohms')\n",
"disp(Zof,'OUTPUT impedance with feedback in  ohms')\n",
"disp(Vo,'output voltage with feedback in milli volts')"
   ]
   }
,
{
		   "cell_type": "markdown",
		   "metadata": {},
		   "source": [
			"## Example 6.26: gai.sce"
		   ]
		  },
  {
"cell_type": "code",
	   "execution_count": null,
	   "metadata": {
	    "collapsed": true
	   },
	   "outputs": [],
"source": [
"// Example 6.26;// Gain\n",
"clc;\n",
"clear;\n",
"close;\n",
"a=60;// OPEN LOOP VOLTAGE GAIN IN dB\n",
"A= 10^(a/20);// open voltage gain\n",
"Beta=0.009;// feedback ratio\n",
"Af= (A/(1+(Beta*A)));//GAIN WITH FEEDBACL\n",
"AfdB= 20*(log10(Af));//gain with feedback in dB\n",
"disp(AfdB,'gain with feedback in dB is')"
   ]
   }
,
{
		   "cell_type": "markdown",
		   "metadata": {},
		   "source": [
			"## Example 6.27: reduction_in_distortion.sce"
		   ]
		  },
  {
"cell_type": "code",
	   "execution_count": null,
	   "metadata": {
	    "collapsed": true
	   },
	   "outputs": [],
"source": [
"// Example 6.27;// reduction in distortion\n",
"clc;\n",
"clear;\n",
"close;\n",
"a=54.8;// OPEN LOOP VOLTAGE GAIN IN dB\n",
"A= 10^(a/20);// open voltage gain\n",
"Beta=0.02;// feedback ratio\n",
"Af= (A/(1+(Beta*A)));//GAIN WITH FEEDBACL\n",
"dA= (1/(1+Beta*A))*100;//percentage change in distortion \n",
"disp(dA,'percentage change in distortion is')"
   ]
   }
,
{
		   "cell_type": "markdown",
		   "metadata": {},
		   "source": [
			"## Example 6.28: feedback_and_impedence.sce"
		   ]
		  },
  {
"cell_type": "code",
	   "execution_count": null,
	   "metadata": {
	    "collapsed": true
	   },
	   "outputs": [],
"source": [
"// Example 6.28;//gain with feedback ,input impedance  and output impedance \n",
"clc;\n",
"clear;\n",
"close;\n",
"Zi=1;//input impedance in killo ohms\n",
"Zo=40;//input impedance in killo ohms\n",
"A=10000;//gain wtihout feedback\n",
"Beta=0.05;//gain\n",
"Afb=round(A/(1+Beta*A));//overall gain\n",
"Zif= round((1+A*Beta)*Zi);//input impedance with feedback in mega ohms\n",
"Zof= round(Zo*10^3/(1+Beta*A));//OUTPUT impedance with feedback in  ohms\n",
"disp(Afb,'overall voltage gain')\n",
"disp(Zif,'input impedance with feedback in mega ohms')\n",
"disp(Zof,'OUTPUT impedance with feedback in  ohms')\n",
""
   ]
   }
,
{
		   "cell_type": "markdown",
		   "metadata": {},
		   "source": [
			"## Example 6.29: bandwidth.sce"
		   ]
		  },
  {
"cell_type": "code",
	   "execution_count": null,
	   "metadata": {
	    "collapsed": true
	   },
	   "outputs": [],
"source": [
"// Example 6.29;//bandwidth\n",
"clc;\n",
"clear;\n",
"close;\n",
"F2=16;//upper cutoff frequency in killo hertz without feedback\n",
"F1=40;//upper cutoff frequency in hertz without feedback\n",
"A= 800;// open loop voltage gain\n",
"Beta=0.02;// feedback ratio\n",
"Afb= (A/(1+(Beta*A)));//GAIN WITH FEEDBACk\n",
"F2f=F2*(1+A*Beta);//uppor cutoff frequency with feedback in killo hertz\n",
"F1f=F1/(1+A*Beta)*10^-3;//lower cutoff frequency with feedback in killo hertz\n",
"Bw=F2-F1*10^-3;///bandwidth without feedback in killo hertz\n",
"Bwf=round(F2f-F1f);//bandwidth with feedback in killo hertz\n",
"disp(Bw,'bandwidth without feedback in killo hertz')\n",
"disp(Bwf,'bandwidth with feedback in killo hertz')"
   ]
   }
,
{
		   "cell_type": "markdown",
		   "metadata": {},
		   "source": [
			"## Example 6.2: feedback_factor.sce"
		   ]
		  },
  {
"cell_type": "code",
	   "execution_count": null,
	   "metadata": {
	    "collapsed": true
	   },
	   "outputs": [],
"source": [
"// Example 6.2;// feedback factor\n",
"clc;\n",
"clear;\n",
"close;\n",
"a=60;// OPEN LOOP VOLTAGE GAIN IN dB\n",
"A= 10^(a/20);// open voltage gain\n",
"AfdB=40;//gain with feedback in dB\n",
"Af= 10^(AfdB/20);//GAIN WITH FEEDBACK\n",
"BetaA= (A/Af)-1;// feedback factor\n",
"disp(BetaA,'feedback factor is')"
   ]
   }
,
{
		   "cell_type": "markdown",
		   "metadata": {},
		   "source": [
			"## Example 6.30: bandwidth.sce"
		   ]
		  },
  {
"cell_type": "code",
	   "execution_count": null,
	   "metadata": {
	    "collapsed": true
	   },
	   "outputs": [],
"source": [
"// Example 6.30;//bandwidth\n",
"clc;\n",
"clear;\n",
"close;\n",
"BW=10;//bandwidth without feedback in killo hertz\n",
"A= 100;// open loop voltage gain\n",
"Beta=0.1;// feedback ratio\n",
"Afb= (A/(1+(Beta*A)));//GAIN WITH FEEDBACk\n",
"Bwf=round(BW*(1+Beta*A));//bandwidth with feedback in killo hertz\n",
"disp(Afb,'feedback gain')\n",
"disp(Bwf,'bandwidth with feedback in killo hertz')"
   ]
   }
,
{
		   "cell_type": "markdown",
		   "metadata": {},
		   "source": [
			"## Example 6.32: pole_frequency.sce"
		   ]
		  },
  {
"cell_type": "code",
	   "execution_count": null,
	   "metadata": {
	    "collapsed": true
	   },
	   "outputs": [],
"source": [
"// Example 6.32;pole frequency \n",
"clc;\n",
"clear;\n",
"close;\n",
"R2=2*10^5;//effective resistance in ohms\n",
"Av2=1000;//gain of second stage\n",
"Cf=20;//feedback capacitor in pico farad\n",
"Cm=(1+Av2)*Cf;//effective miller capacitance in pico farad\n",
"fp1= 1/(2*%pi*R2*Cm*10^-12);//pole frequency in hertz\n",
"disp(fp1,'pole frequency in hertz is')"
   ]
   }
,
{
		   "cell_type": "markdown",
		   "metadata": {},
		   "source": [
			"## Example 6.3: feedback_output.sce"
		   ]
		  },
  {
"cell_type": "code",
	   "execution_count": null,
	   "metadata": {
	    "collapsed": true
	   },
	   "outputs": [],
"source": [
"// Example 6.3;// feedback output\n",
"clc;\n",
"clear;\n",
"close;\n",
"A= 600;// open voltage gain\n",
"Af=50;//\n",
"Beta=( (A/Af)-1)/A;// feedback ratio\n",
"fop= (Beta*100);//percentage of output voltage which is fedback to the input is \n",
"disp(fop,'percentage of output voltage which is fedback to the input is ')"
   ]
   }
,
{
		   "cell_type": "markdown",
		   "metadata": {},
		   "source": [
			"## Example 6.4: feedback_ratio.sce"
		   ]
		  },
  {
"cell_type": "code",
	   "execution_count": null,
	   "metadata": {
	    "collapsed": true
	   },
	   "outputs": [],
"source": [
"// Example 6.3;// feedback ratio\n",
"clc;\n",
"clear;\n",
"close;\n",
"Vo= 5;// output voltage\n",
"Vin=0.1;//input voltage without feedback\n",
"A= Vo/Vin;// Gain without feedback\n",
"Vin1=0.2;//input voltage with feedback\n",
"Af= Vo/Vin1;// Gain with feedback\n",
"Beta=( (A/Af)-1)/A;// feedback ratio \n",
"disp(Beta,'feedback ration is ')"
   ]
   }
,
{
		   "cell_type": "markdown",
		   "metadata": {},
		   "source": [
			"## Example 6.5: Change_in_gain.sce"
		   ]
		  },
  {
"cell_type": "code",
	   "execution_count": null,
	   "metadata": {
	    "collapsed": true
	   },
	   "outputs": [],
"source": [
"// Example 6.5;// Change in gain\n",
"clc;\n",
"clear;\n",
"close;\n",
"A= 1000;// open loop voltage gain\n",
"Beta= 0.002;// feedback ratio\n",
"Af= (A/(1+(Beta*A)));//GAIN WITH FEEDBACL\n",
"A1= (1-0.15)*A;//new open loop voltage gain\n",
"Af1= (A1/(1+(Beta*A1)));//GAIN WITH FEEDBACL\n",
"dA=((Af-Af1)/Af)*100;// Change in overall gain in percentage \n",
"disp(dA,'Change in overall gain in percentage is')"
   ]
   }
,
{
		   "cell_type": "markdown",
		   "metadata": {},
		   "source": [
			"## Example 6.6: open_loop_voltage_gain.sce"
		   ]
		  },
  {
"cell_type": "code",
	   "execution_count": null,
	   "metadata": {
	    "collapsed": true
	   },
	   "outputs": [],
"source": [
"// Example 6.6;// open loop voltage gain\n",
"clc;\n",
"clear;\n",
"close;\n",
"Af= 100;//GAIN WITH FEEDBACK\n",
"dAf=1/100;// OPEN LOOP VOLTAGE GAIN \n",
"dA= 10/100;// open voltage gain\n",
"BetaA=(dA/dAf)-1;// feedback factor\n",
"A=Af*(1+BetaA);//open loop voltage gain\n",
"disp(A,'open loop voltage gain is')"
   ]
   }
,
{
		   "cell_type": "markdown",
		   "metadata": {},
		   "source": [
			"## Example 6.7: open_loop_voltage_gain_and_negaive_feedback.sce"
		   ]
		  },
  {
"cell_type": "code",
	   "execution_count": null,
	   "metadata": {
	    "collapsed": true
	   },
	   "outputs": [],
"source": [
"// Example 6.7;// open loop voltage gain & negaive feedback\n",
"clc;\n",
"clear;\n",
"close;\n",
"Af= 100;//GAIN WITH FEEDBACK\n",
"dAf=0.1/100;// OPEN LOOP VOLTAGE GAIN \n",
"dA= 10/100;// open voltage gain\n",
"BetaA=(dA/dAf)-1;// feedback factor\n",
"A=Af*(1+BetaA);//open loop voltage gain\n",
"NF= Af/A;//amount of negative feedback\n",
"disp(A,'open loop voltage gain is')\n",
"disp(NF,'amount of negative feedback is')"
   ]
   }
,
{
		   "cell_type": "markdown",
		   "metadata": {},
		   "source": [
			"## Example 6.8: INPUT_VOLTAGE_AND_OUTPUT_VOLTAGE.sce"
		   ]
		  },
  {
"cell_type": "code",
	   "execution_count": null,
	   "metadata": {
	    "collapsed": true
	   },
	   "outputs": [],
"source": [
"// Example 6.8;// GAIN,INPUT VOLTAGE AND OUTPUT VOLTAGE\n",
"clc;\n",
"clear;\n",
"close;\n",
"Vs=10;//output voltage in milli volts\n",
"Vi= 0.01;//input voltage in volts\n",
"A=200;//amplifier gain without feedback\n",
"D=0.1;//distortion without feedback\n",
"Df=0.01;//distortion with feedback\n",
"Beta=( (D/Df)-1)/A;// feedback ratio\n",
"fop= (Beta*100);//percentage of output voltage which is fedback to the input is \n",
"Af= (A/(1+(Beta*A)));//GAIN WITH FEEDBACL\n",
"Vo= Af*Vs*10^-3;//new output volate in volts\n",
"Vin= (Vi +(-Beta*Vo))*10^3;//new input voltage in milli volts\n",
"disp(Af,'gain with feedback  is')\n",
"disp(Vo,'new output volate in volts')\n",
"disp(Vin,'new input voltage in milli volts is')"
   ]
   }
,
{
		   "cell_type": "markdown",
		   "metadata": {},
		   "source": [
			"## Example 6.9: distortion_AND_close_loop_gain.sce"
		   ]
		  },
  {
"cell_type": "code",
	   "execution_count": null,
	   "metadata": {
	    "collapsed": true
	   },
	   "outputs": [],
"source": [
"// Example 6.8;// INPUT VOLTAGE ,distortion AND close loop gain\n",
"clc;\n",
"clear;\n",
"close;\n",
"Vs=10;//output voltage in milli volts\n",
"A=1000;//amplifier gain without feedback\n",
"D=0.1;//distortion without feedback\n",
"BetaAd=40;//FEEDBACK FACTOR IN dB\n",
"BetaA=10^(BetaAd/20);// feedback ratio\n",
"Df= ((D/(1+BetaA)))*100;//distortion in percentage with feedbck\n",
"Af= (A/(1+(BetaA)));//GAIN WITH FEEDBACL\n",
"Vo= Vs*(1+BetaA)*10^-3;//new output volate in volts\n",
"disp(Vo,'new output volate in volts')\n",
"disp(Df,'distortion in percentage with feedbck is')\n",
"disp(Af,'gain with feedback  is')\n",
"\n",
""
   ]
   }
],
"metadata": {
		  "kernelspec": {
		   "display_name": "Scilab",
		   "language": "scilab",
		   "name": "scilab"
		  },
		  "language_info": {
		   "file_extension": ".sce",
		   "help_links": [
			{
			 "text": "MetaKernel Magics",
			 "url": "https://github.com/calysto/metakernel/blob/master/metakernel/magics/README.md"
			}
		   ],
		   "mimetype": "text/x-octave",
		   "name": "scilab",
		   "version": "0.7.1"
		  }
		 },
		 "nbformat": 4,
		 "nbformat_minor": 0
}
