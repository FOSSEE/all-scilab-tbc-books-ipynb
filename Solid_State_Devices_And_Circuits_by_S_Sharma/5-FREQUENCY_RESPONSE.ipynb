{
"cells": [
 {
		   "cell_type": "markdown",
	   "metadata": {},
	   "source": [
       "# Chapter 5: FREQUENCY RESPONSE"
	   ]
	},
{
		   "cell_type": "markdown",
		   "metadata": {},
		   "source": [
			"## Example 5.12: CORNER_FREQUENCY_AND_MAXIMUM_GAIN.sce"
		   ]
		  },
  {
"cell_type": "code",
	   "execution_count": null,
	   "metadata": {
	    "collapsed": true
	   },
	   "outputs": [],
"source": [
"// Example 5.12:corner frequency and maximum GAIN\n",
"clc;\n",
"clear;\n",
"close;\n",
"Vcc=10;// Colector voltage in volts\n",
"Beta= 100;\n",
"Rc=1;// Collector resistance in killo ohms\n",
"Rs=600;//SERIES RESISTANCE IN OHMS\n",
"Re=0.2;// in kilo ohms\n",
"R1= 50;// in kilo ohms\n",
"R2= 10;// in kilo ohms\n",
"Vbe=0.7;// Base to emitter voltage in volts\n",
"C1=1;//capacitance in micro farad\n",
"Vth=Vcc * (R2/(R1+R2)); // vOLTAGE AT BASE\n",
"Rth= (R1*R2)/(R1+R2);\n",
"Ib=((Vcc-Vbe)/((Rth+(1+Beta)*Re)*10^3))*10^5;//in micro ampere\n",
"Icq= Beta*Ib*10^-3;//in milli ampere\n",
"Vt=26;//volate at room termprature in milli volts\n",
"gm= (Icq/Vt)*10^3;//transconductance in milli ampere per volts\n",
"rpi= (Beta*Vt*10^-3)/(Icq*10^-3);//resistance\n",
"Rb=Rth;//base resistance in killo ohms\n",
"x=(rpi+(1+Beta)*Re*10^3);//\n",
"y=(Rs+Rb*10^3);//\n",
"ts=((x*y)/(x+y))*C1*10^-3;//in milli second\n",
"fl= (1/(2*%pi*ts*10^-3));//corner frequency in hertz\n",
"Ri=(x*Rb*10^-3)/(Rb+x*10^-3);//\n",
"Av= ((gm*10^-3*rpi*Rc*10^3)*Rb*10^3)/((Ri+Rs*10^-3)*10^3*(x*10^-3+Rb)*10^3);\n",
"disp (fl,'corner frequency in hertz is')\n",
"disp(Av,'maximum gain is')"
   ]
   }
,
{
		   "cell_type": "markdown",
		   "metadata": {},
		   "source": [
			"## Example 5.17: LOW_FREQUENCY_RESPONSE.sce"
		   ]
		  },
  {
"cell_type": "code",
	   "execution_count": null,
	   "metadata": {
	    "collapsed": true
	   },
	   "outputs": [],
"source": [
"// Example 5.16:frequency response\n",
"clc;\n",
"clear;\n",
"close;\n",
"Rg=10;//resistance in mega ohms\n",
"Vgs=10;//gate to soure voltage\n",
"Igss=10;//current in nano ampere\n",
"x= (Vgs/Igss)*1000;//resistance in mega ohms\n",
"Rin= ((Rg*x)/(Rg+x));//input resistance in mega ohms\n",
"C1=0.001;//capacitance in micro farad\n",
"fc= (1/(2*%pi*Rin*10^6*C1*10^-6));//input critical frequency of the RC network\n",
"Rd=1.8;//drain resistance in killo ohms\n",
"Rl=18;//load resistance in killo ohms\n",
"C2=1;//Capacitance in micro farad\n",
"fc1=(1/(2*%pi*(Rd+Rl)*10^3*C2*10^-6));//output critical frequency of the RC network\n",
"disp(fc,'input critical frequency of the RC network in hertz')\n",
"disp(fc1,'input critical frequency of the RC network in hertz')"
   ]
   }
,
{
		   "cell_type": "markdown",
		   "metadata": {},
		   "source": [
			"## Example 5.18: fB.sce"
		   ]
		  },
  {
"cell_type": "code",
	   "execution_count": null,
	   "metadata": {
	    "collapsed": true
	   },
	   "outputs": [],
"source": [
"// Example 5.16:fb\n",
"clc;\n",
"clear;\n",
"close;\n",
"rpi=2;//resistance in killo ohms\n",
"Cpi=1.8;//capacitance in pico farad\n",
"Cmu=0.12;//capacitance in pico farad\n",
"fb=(1/(2*%pi*rpi*10^3*(Cpi+Cmu)*10^-6));//frequency in mega hertz\n",
"disp(fb,'frequency in mega hertz')"
   ]
   }
,
{
		   "cell_type": "markdown",
		   "metadata": {},
		   "source": [
			"## Example 5.19: BANDWIDTH_AND_CAPACITANCE.sce"
		   ]
		  },
  {
"cell_type": "code",
	   "execution_count": null,
	   "metadata": {
	    "collapsed": true
	   },
	   "outputs": [],
"source": [
"// Example 5.18:bandwidth and capacitance\n",
"clc;\n",
"clear;\n",
"close;\n",
"Vt=26;//voltage in milli volts\n",
"ft=500;//frequecy in mega hertz\n",
"Ic=1;//collector current in mili ampere\n",
"Bo=90;//\n",
"fb=ft/Bo;//frequency in mega hertz\n",
"Cmu=0.2;//capacitance in pico farad\n",
"x= ((Ic*10^-3)/(2*%pi*Vt*10^-3*ft*10^6))*10^12;//\n",
"Cpi= x-Cmu;//\n",
"disp(fb,'bandwidth in mega hertz')\n",
"disp(Cpi,'capacitance of the transistor in pico farad')"
   ]
   }
,
{
		   "cell_type": "markdown",
		   "metadata": {},
		   "source": [
			"## Example 5.1: coupling_capacitor.sce"
		   ]
		  },
  {
"cell_type": "code",
	   "execution_count": null,
	   "metadata": {
	    "collapsed": true
	   },
	   "outputs": [],
"source": [
"// Example 5.1:COUPLING CAPACITOR\n",
"clc;\n",
"clear;\n",
"close;\n",
"Rs=10;//series resistance in killo ohms\n",
"Xc1= Rs/10;//reactance at 20Hz\n",
"C1=(1/(2*%pi*20*Xc1*10^3))*10^6;//CAPACITANCE IN MICRO FARAD\n",
"disp(C1,'capacitance in micro farad is  as this is not a standar value will select 10 micro farad')"
   ]
   }
,
{
		   "cell_type": "markdown",
		   "metadata": {},
		   "source": [
			"## Example 5.21: MIDBAND_GAIN_AND_UPPER_3DB_FREQUENCY.sce"
		   ]
		  },
  {
"cell_type": "code",
	   "execution_count": null,
	   "metadata": {
	    "collapsed": true
	   },
	   "outputs": [],
"source": [
"// Example 5.20:mid band gain and upper 3 db frequency\n",
"clc;\n",
"clear;\n",
"close;\n",
"Cpi=40;//in pico farad\n",
"Vt=26;//voltage in milli volts\n",
"Beta=150;//\n",
"Icc=1;//current in milli ampere\n",
"rpi= ((Beta*Vt)/Icc)*10^-3;//\n",
"Icq=1;//current in milli ampere\n",
"gm=(Icq/Vt)*10^3;//transconductance in mili ampere per volt\n",
"Rc=4.7;//collector resistance in killo ohms\n",
"Rl=10;//load resistance in killo ohms\n",
"Rld= (Rc*Rl)/(Rc+Rl);//\n",
"Cmu=3;//capacitance in pico farad\n",
"Cm=round(Cmu*(1+gm*Rld));//miller capacitance in pico farad\n",
"R1= 50;// in kilo ohms\n",
"R2= 5;// in kilo ohms\n",
"Rb= (R1*R2)/(R1+R2);\n",
"rs=1;//in killo ohms\n",
"x=(Rb*rs)/(Rb+rs);//\n",
"y=(rpi*x)/(rpi+x);//\n",
"fh=(1/(2*%pi*y*10^3*(Cmu+Cpi)*10^-6));//3-db upper cut off frequency in mega hertz\n",
"z=(Rb*rpi)/(Rb+rpi);//\n",
"Avm=(gm*Rld*z)/(z+rs);//\n",
"disp(fh,'3-db upper cut off frequency in mega hertz is')\n",
"disp(Avm,'MIDBAND GAIN')"
   ]
   }
,
{
		   "cell_type": "markdown",
		   "metadata": {},
		   "source": [
			"## Example 5.22: MIDBAND_GAIN_AND_UPPER_3DB_FREQUENCY.sce"
		   ]
		  },
  {
"cell_type": "code",
	   "execution_count": null,
	   "metadata": {
	    "collapsed": true
	   },
	   "outputs": [],
"source": [
"// Example 5.21:mid band gain and upper 3 db frequency\n",
"clc;\n",
"clear;\n",
"close;\n",
"Cpi=40;//in pico farad\n",
"Vt=26;//voltage in milli volts\n",
"Beta=150;//\n",
"Icq=1;//current in milli ampere\n",
"rpi= ((Beta*Vt)/Icq)*10^-3;//\n",
"gm=(Icq/Vt)*10^3;//transconductance in mili ampere per volt\n",
"rs=1;//in killo ohms\n",
"re=0.5;//in killo ohms\n",
"g=(rs*re)/(rs+re);//\n",
"m=rpi/(1+Beta);//\n",
"tpi= ((m*g)/(m+g))*Cpi*10^-7;//\n",
"fh1=(1/(2*%pi*tpi*10^4));//first 3-db upper cut off frequency in mega hertz\n",
"Rc=4.7;//collector resistance in killo ohms\n",
"Rl=10;//load resistance in killo ohms\n",
"Rld= (Rc*Rl)/(Rc+Rl);//\n",
"Cmu=3;//capacitance in pico farad\n",
"R1= 50;// in kilo ohms\n",
"R2= 5;// in kilo ohms\n",
"Rb= (R1*R2)/(R1+R2);\n",
"fh2=(1/(2*%pi*Cmu*10^-8*Rld*10^3))*10^-2;//second 3-db upper cut off frequency in mega hertz\n",
"x=(m*re)/(m+re);///\n",
"Avm=(gm*Rld*x)/(x+rs);//\n",
"disp(fh1,'3-db upper cut off frequency in mega hertz is')\n",
"disp(fh2,'second 3-db upper cut off frequency in mega hertz')\n",
"disp(Avm,'MIDBAND GAIN')"
   ]
   }
,
{
		   "cell_type": "markdown",
		   "metadata": {},
		   "source": [
			"## Example 5.23: MIDBAND_GAIN_AND_UPPER_3DB_FREQUENCY.sce"
		   ]
		  },
  {
"cell_type": "code",
	   "execution_count": null,
	   "metadata": {
	    "collapsed": true
	   },
	   "outputs": [],
"source": [
"// Example 5.22:mid band gain and upper 3 db frequency\n",
"clc;\n",
"clear;\n",
"close;\n",
"Cmu=3;//capacitance in pico farad\n",
"Cpi=40;//in pico farad\n",
"Vt=26;//voltage in milli volts\n",
"Beta=150;//\n",
"Icq=1;//current in milli ampere\n",
"rpi= ((Beta*Vt)/Icq)*10^-3;//\n",
"gm=(Icq/Vt)*10^3;//transconductance in mili ampere per volt\n",
"rs=1;//in killo ohms\n",
"re=4.7;//in killo ohms\n",
"R1= 40;// in kilo ohms\n",
"R2= 20;// in kilo ohms\n",
"R3= 27;// in kilo ohms\n",
"Rb=(R2*R3)/(R2+R3);//\n",
"g=(rs*rpi)/(rs+rpi);//\n",
"tp1=(((Rb*g)*(Cpi+2*Cmu))/(Rb+g))*10^-9;//in second\n",
"m=rpi/(1+Beta);//\n",
"tp2= m*(Cmu+Cpi)*10^-9;//\n",
"Rc=4.7;//collector resistance in killo ohms\n",
"Rl=10;//load resistance in killo ohms\n",
"Rld= (Rc*Rl)/(Rc+Rl);//\n",
"tp3=Cmu*10^-12*Rld*10^3;//in second\n",
"fh1=(1/(2*%pi*tp1*10^6));//first 3-db upper cut off frequency in mega hertz\n",
"fh2=(1/(2*%pi*tp2*10^6));//second 3-db upper cut off frequency in mega hertz\n",
"fh3=(1/(2*%pi*tp3*10^6));//third 3-db upper cut off frequency in mega hertz\n",
"Avm= -gm*Rld*(rpi/(rpi+1));//\n",
"disp(fh1,'3-db upper cut off frequency in mega hertz is')\n",
"disp(fh2,'second 3-db upper cut off frequency in mega hertz')\n",
"disp(fh3,'third 3-db upper cut off frequency in mega hertz')\n",
"disp(Avm,'MIDBAND GAIN')"
   ]
   }
,
{
		   "cell_type": "markdown",
		   "metadata": {},
		   "source": [
			"## Example 5.2: amplifier_gai.sce"
		   ]
		  },
  {
"cell_type": "code",
	   "execution_count": null,
	   "metadata": {
	    "collapsed": true
	   },
	   "outputs": [],
"source": [
"// Example 5.2:amplifier gain\n",
"clc;\n",
"clear;\n",
"close;\n",
"f=20;//frequency in hertz\n",
"Avm=100;//mid voltage gain\n",
"fl=40;//lower cut off  frequency in hertz\n",
"fh=16;//lower cut off  frequency in hertz\n",
"Avl= (Avm/(sqrt(1+(fl/f)^2)));//gain at lower cut off frequency\n",
"Avh= (Avm/(sqrt(1+(f/fh)^2)));//gain at upper cut off frequency\n",
"disp(Avl,'gain at lower cut off frequency')\n",
"disp(Avh,'gain at upper cut off frequency')"
   ]
   }
,
{
		   "cell_type": "markdown",
		   "metadata": {},
		   "source": [
			"## Example 5.3: amplifier_gai.sce"
		   ]
		  },
  {
"cell_type": "code",
	   "execution_count": null,
	   "metadata": {
	    "collapsed": true
	   },
	   "outputs": [],
"source": [
"// Example 5.3:amplifier gain\n",
"clc;\n",
"clear;\n",
"close;\n",
"f=40;//frequency in hertz\n",
"Avm=40;//mid voltage gain\n",
"fl=40;//lower cut off  frequency in hertz\n",
"Avl= (Avm/(sqrt(1+(fl/f)^2)));//gain at lower cut off frequency\n",
"disp(Avl,'gain at lower cut off frequency')\n",
""
   ]
   }
,
{
		   "cell_type": "markdown",
		   "metadata": {},
		   "source": [
			"## Example 5.4: amplifier_gai.sce"
		   ]
		  },
  {
"cell_type": "code",
	   "execution_count": null,
	   "metadata": {
	    "collapsed": true
	   },
	   "outputs": [],
"source": [
"// Example 5.4:amplifier gain\n",
"clc;\n",
"clear;\n",
"close;\n",
"f=50;//frequency in hertz\n",
"Avm=150/0.707;//mid voltage gain\n",
"fh=20;//lower cut off  frequency in hertz\n",
"Avh= (Avm/(sqrt(1+(f/fh)^2)));//gain at upper cut off frequency\n",
"disp(Avh,'gain at upper cut off frequency')"
   ]
   }
,
{
		   "cell_type": "markdown",
		   "metadata": {},
		   "source": [
			"## Example 5.5: maximum_voltage_gai.sce"
		   ]
		  },
  {
"cell_type": "code",
	   "execution_count": null,
	   "metadata": {
	    "collapsed": true
	   },
	   "outputs": [],
"source": [
"// Example 5.5:maximum voltage gain\n",
"clc;\n",
"clear;\n",
"close;\n",
"Avl=100;//voltage gain\n",
"Avm=Avl/0.708;//MID VOLTAGE GAIN\n",
"disp(Avm,'maximum voltage gain is')"
   ]
   }
,
{
		   "cell_type": "markdown",
		   "metadata": {},
		   "source": [
			"## Example 5.6: series_capacitance_and_transfer_function.sce"
		   ]
		  },
  {
"cell_type": "code",
	   "execution_count": null,
	   "metadata": {
	    "collapsed": true
	   },
	   "outputs": [],
"source": [
"// Example 5.6:series capacitance and transfer function\n",
"clc;\n",
"clear;\n",
"close;\n",
"f=100;//frequency in hertz\n",
"fc=25;//corner frequency\n",
"rs=2;//series resistance in killo ohms\n",
"rp=4;//PARALLEL resistance in killo ohms\n",
"Cs= (1/(2*%pi*fc*(rs+rp)*10^3))*10^6;//series capacitance in micro farad\n",
"ts= Cs*10^-6*(rs+rp)*10^3;//time constant\n",
"Tf= ((rp/(rs+rp))*((2*%pi*f*ts)/(sqrt(1+(2*%pi*f*ts)^2))));//transfer function\n",
"disp(Cs,'series capacitance in micro farad')\n",
"disp(Tf,'transfer function is')\n",
""
   ]
   }
,
{
		   "cell_type": "markdown",
		   "metadata": {},
		   "source": [
			"## Example 5.7: corner_frequency_and_maximum_magnitude_asymptote.sce"
		   ]
		  },
  {
"cell_type": "code",
	   "execution_count": null,
	   "metadata": {
	    "collapsed": true
	   },
	   "outputs": [],
"source": [
"// Example 5.7:corner frequency and maximum magnitude asymptote\n",
"clc;\n",
"clear;\n",
"close;\n",
"Cp=2;//PARALLEL RESISTANCE IN PICO FARAD\n",
"rs=2;//series resistance in killo ohms\n",
"rp=10;//PARALLEL resistance in killo ohms\n",
"tp= ((rs*rp)/(rs+rp)*10^3*Cp*10^-12);//time constant\n",
"f= (1/(2*%pi*tp))*10^-6;//corner frequency in mega hertz\n",
"Am= rp/(rp+rs);//maximum amplitude\n",
"Amd= 20*(log10(Am));//maximum magnitude aymptote is dB\n",
"disp(f,'corner frequency in mega hertz')\n",
"disp(Amd,'maximum magnitude aymptote is dB is')\n",
""
   ]
   }
,
{
		   "cell_type": "markdown",
		   "metadata": {},
		   "source": [
			"## Example 5.8: frequency_and_bandwidth.sce"
		   ]
		  },
  {
"cell_type": "code",
	   "execution_count": null,
	   "metadata": {
	    "collapsed": true
	   },
	   "outputs": [],
"source": [
"// Example 5.8:3-db frequency and bandwidth\n",
"clc;\n",
"clear;\n",
"close;\n",
"Cp=1;//PARALLEL capacitance IN PICO FARAD\n",
"Cs=2;//series capacitance IN micro FARAD\n",
"rs=1;//series resistance in killo ohms\n",
"rp=10;//PARALLEL resistance in killo ohms\n",
"ts= ((rs+rp)*10^3*Cp*10^-12);//time constant\n",
"tp= ((rs*rp)/(rs+rp)*10^3*Cp*10^-12);//time constant\n",
"fl= (1/(2*%pi*ts))*10^-6;//lower frequency in mega hertz\n",
"fh= (1/(2*%pi*tp))*10^-6;//upper frequency in mega hertz\n",
"BW=fh-fl;//bandwidth in mega hertz\n",
"disp(fl,'lower 3 dB frequency in mega hertz')\n",
"disp(fh,'upper 3 dB frequency in mega hertz')\n",
"disp(BW,'bandwidth in mega hertz is')"
   ]
   }
],
"metadata": {
		  "kernelspec": {
		   "display_name": "Scilab",
		   "language": "scilab",
		   "name": "scilab"
		  },
		  "language_info": {
		   "file_extension": ".sce",
		   "help_links": [
			{
			 "text": "MetaKernel Magics",
			 "url": "https://github.com/calysto/metakernel/blob/master/metakernel/magics/README.md"
			}
		   ],
		   "mimetype": "text/x-octave",
		   "name": "scilab",
		   "version": "0.7.1"
		  }
		 },
		 "nbformat": 4,
		 "nbformat_minor": 0
}
