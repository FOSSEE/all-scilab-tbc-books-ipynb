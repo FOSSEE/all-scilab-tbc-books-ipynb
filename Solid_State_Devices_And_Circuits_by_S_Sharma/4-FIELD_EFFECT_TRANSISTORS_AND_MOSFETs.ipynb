{
"cells": [
 {
		   "cell_type": "markdown",
	   "metadata": {},
	   "source": [
       "# Chapter 4: FIELD EFFECT TRANSISTORS AND MOSFETs"
	   ]
	},
{
		   "cell_type": "markdown",
		   "metadata": {},
		   "source": [
			"## Example 4.10: channel_width_to_channel_length_ratio_and_drain_resistance.sce"
		   ]
		  },
  {
"cell_type": "code",
	   "execution_count": null,
	   "metadata": {
	    "collapsed": true
	   },
	   "outputs": [],
"source": [
"// Example 4.10: channel width to channel length ratio and drain resisitance\n",
"clc, clear\n",
"Id=100; // drain current in micro-ampere\n",
"kn=20; // in micro-ampere per volt^2\n",
"Vt=-1; // in volts\n",
"Vgs=0; // gate source voltage in volts\n",
"Vdd=5; // dc voltage in volts\n",
"Vd=1; // drain voltage in volts\n",
"wl=(2*Id/(kn*(Vgs-Vt)^2));\n",
"Rd=(Vdd-Vd)/(Id*10^-3);\n",
"disp(wl,'dchannel width to channel ratio ()')\n",
"disp(Rd,'drain resistance (in kilo ohm)')\n",
"disp('Rd can vary in the range 0 to 40 kilo-ohm')"
   ]
   }
,
{
		   "cell_type": "markdown",
		   "metadata": {},
		   "source": [
			"## Example 4.11: drain_to_source_resistance.sce"
		   ]
		  },
  {
"cell_type": "code",
	   "execution_count": null,
	   "metadata": {
	    "collapsed": true
	   },
	   "outputs": [],
"source": [
"// Example 4.11: drain to source resisitance\n",
"clc, clear\n",
"//Given DATA\n",
"Vdd=10;//in volt\n",
"knwl=1;//in mA/V^2\n",
"Vd=0.1;//drain voltage\n",
"Vt=-1;//in Volt\n",
"Id=1*((-Vt)*Vd- (1/2)*0.01);//drain current in milli ampere\n",
"Rd=(Vdd-Vd)/Id;// resistance in killo ohms\n",
"Rds= Vd/Id;//resistance in killo ohms\n",
"disp(Rds,'drain to source  resistance in killo ohms is')"
   ]
   }
,
{
		   "cell_type": "markdown",
		   "metadata": {},
		   "source": [
			"## Example 4.12: input_resistance.sce"
		   ]
		  },
  {
"cell_type": "code",
	   "execution_count": null,
	   "metadata": {
	    "collapsed": true
	   },
	   "outputs": [],
"source": [
"// Example 4.12:input resistance\n",
"clc, clear\n",
"//Given DATA\n",
"Vdd=15;//in volt\n",
"knwl=0.25;//in mA/V^2\n",
"Va=50;//voltage\n",
"Vt=1.5;//in Volt\n",
"Id=1.06;//drain current in milli ampre\n",
"Vd= 4.4;//drain oltage in volt\n",
"Vgs=Vd;//\n",
"gm=knwl*(Vgs-Vt);//transconductance in mA/V\n",
"ro=Va/Id;//output resistance in killo ohms\n",
"Rd=10;//drain resistance in killo ohms\n",
"Rg=10;//gate resistance in killo ohms\n",
"Rl=10;//load resistance in killo ohms\n",
"x=(Rd*Rl)/(Rd+Rl);//\n",
"Av= -gm*((x*ro)/(x+ro));//voltage gain\n",
"Ii=4.3;//input current in milli ampere\n",
"Ri= Rg/Ii;//input resistance in mega ohms\n",
"disp(Ri,'input resistance in mega ohms')"
   ]
   }
,
{
		   "cell_type": "markdown",
		   "metadata": {},
		   "source": [
			"## Example 4.1: drain_current.sce"
		   ]
		  },
  {
"cell_type": "code",
	   "execution_count": null,
	   "metadata": {
	    "collapsed": true
	   },
	   "outputs": [],
"source": [
"// Example 4.1: find the drain current\n",
"clc, clear\n",
"Idss=15; // maximum drain current in mili-ampere\n",
"VgsOFF=-5; // pinch off voltage in volts\n",
"Vgs1=0; // gate source voltage in volts\n",
"Vgs2=-1; // gate source voltage in volts\n",
"Vgs3=-4; // gate source voltage in volts\n",
"Id1=Idss*(1-(Vgs1/VgsOFF))^2;\n",
"Id2=Idss*(1-(Vgs2/VgsOFF))^2;\n",
"Id3=Idss*(1-(Vgs3/VgsOFF))^2;\n",
"disp(Id1,'drain current (mA) = ')\n",
"disp(Id2,'drain current (mA) = ')\n",
"disp(Id3,'drain current (mA) = ')"
   ]
   }
,
{
		   "cell_type": "markdown",
		   "metadata": {},
		   "source": [
			"## Example 4.2: drain_current.sce"
		   ]
		  },
  {
"cell_type": "code",
	   "execution_count": null,
	   "metadata": {
	    "collapsed": true
	   },
	   "outputs": [],
"source": [
"// Example 4.2: find the drain current\n",
"clc, clear\n",
"Idss=12; // maximum drain current in mili-ampere\n",
"VgsOFF=-20; // pinch off voltage in volts\n",
"Vgs1=0; // gate source voltage in volts\n",
"Vgs2=-5; // gate source voltage in volts\n",
"Vgs3=-10; // gate source voltage in volts\n",
"Vgs4=-15; // gate source voltage in volts\n",
"Vgs5=-20; // gate source voltage in volts\n",
"Id1=Idss*(1-(Vgs1/VgsOFF))^2;\n",
"Id2=Idss*(1-(Vgs2/VgsOFF))^2;\n",
"Id3=Idss*(1-(Vgs3/VgsOFF))^2;\n",
"Id4=Idss*(1-(Vgs4/VgsOFF))^2;\n",
"Id5=Idss*(1-(Vgs5/VgsOFF))^2;\n",
"disp(Id1,'drain current (mA) = ')\n",
"disp(Id2,'drain current (mA) = ')\n",
"disp(Id3,'drain current (mA) = ')\n",
"disp(Id4,'drain current (mA) = ')\n",
"disp(Id5,'drain current (mA) = ')"
   ]
   }
,
{
		   "cell_type": "markdown",
		   "metadata": {},
		   "source": [
			"## Example 4.3: minimum_and_maximum_transconductance_curve.sce"
		   ]
		  },
  {
"cell_type": "code",
	   "execution_count": null,
	   "metadata": {
	    "collapsed": true
	   },
	   "outputs": [],
"source": [
"\n",
"// Example 4.3: Plot the min and max transconductance curve\n",
"clc, clear\n",
"//given data\n",
"//VGS_off=-2 to -6 volt\n",
"//IDSS=8 to 20 mA\n",
"//Formula : ID=IDSS*[1-VGS/VGS_off]^2\n",
"//Let take some values for plotting\n",
"IDSS=8;//mA\n",
"VGS=0:-0.5:-2;//in Volt\n",
"VGS_off=-2 ;// in Volt\n",
"ID=zeros(1,5)\n",
"for i=1:5\n",
"    ID(i)=IDSS*[1-VGS(i)/VGS_off]^2\n",
"end\n",
"plot(VGS,ID);\n",
"xlabel('Gate to source voltage (Vgs)','fontsize',2)\n",
"ylabel('Drain current in milli ampere(Id)','fontsize',2)"
   ]
   }
,
{
		   "cell_type": "markdown",
		   "metadata": {},
		   "source": [
			"## Example 4.4: drain_current_and_transconductance.sce"
		   ]
		  },
  {
"cell_type": "code",
	   "execution_count": null,
	   "metadata": {
	    "collapsed": true
	   },
	   "outputs": [],
"source": [
"// Example 4.4: drain current and transconductance\n",
"clc, clear\n",
"Idss=20; // maximum drain current in mili-ampere\n",
"Vp=-8; // pintc off voltage in volts\n",
"gmo=5000; // in micro seconds\n",
"Vgs=-4; // gate to source voltage in volts\n",
"Id=Idss*(1-(Vgs/Vp))^2;\n",
"gm=gmo*(1-(Vgs/Vp));\n",
"disp(Id,'drain current (mA) = ')\n",
"disp(gm,'transconductance (micro-second) = ')"
   ]
   }
,
{
		   "cell_type": "markdown",
		   "metadata": {},
		   "source": [
			"## Example 4.5: drain_resistance.sce"
		   ]
		  },
  {
"cell_type": "code",
	   "execution_count": null,
	   "metadata": {
	    "collapsed": true
	   },
	   "outputs": [],
"source": [
"// Example 4.5: drain resisitance\n",
"clc, clear\n",
"Id=0.4; // drain current in mili-ampere\n",
"Vd=1; // drain voltage in volts\n",
"Vs=-5; // dc voltage in volts\n",
"Vss=-3; // dc voltage in volts\n",
"Vdd=5; // dc voltage in volts\n",
"MuCox=20; // in micro-ampere/volts\n",
"W=400; // in micro-metre\n",
"l=10; // in micro-metre\n",
"Id=((1/2)*(MuCox)*(W/l));\n",
"Rs=(Vss-Vs)/(Id*10^-3);\n",
"Rd=(Vdd-Vd)/(Id*10^-3);\n",
"disp('The values of the resistances are as follows : ');\n",
"disp('Resistance Rs is '+string(Rs)+' Kohm');\n",
"disp('Resistance Rd is '+string(Rd)+' Kohm');"
   ]
   }
,
{
		   "cell_type": "markdown",
		   "metadata": {},
		   "source": [
			"## Example 4.6: drain_resistance.sce"
		   ]
		  },
  {
"cell_type": "code",
	   "execution_count": null,
	   "metadata": {
	    "collapsed": true
	   },
	   "outputs": [],
"source": [
"// Example 4.6: drain resisitance\n",
"clc, clear\n",
"//Given DATA\n",
"Vdd=10;//in volt\n",
"ID=0.4;//in mA\n",
"mu_nCox=20;//in uA/V^2\n",
"W=100;//in um\n",
"L=10;//in um\n",
"Vt=2;//in Volt\n",
"//Formula : ID=mu_n*Cox*W*(VGS-Vt)^2/(2*L)\n",
"VGS=sqrt(2*L*ID/(mu_nCox*10^-3*W))+(Vt);//in Volt\n",
"Vd=VGS;//\n",
"R=(Vdd-Vd)/ID;// resistance in killo ohms\n",
"disp(R,'drain resistance in killo ohms is')"
   ]
   }
,
{
		   "cell_type": "markdown",
		   "metadata": {},
		   "source": [
			"## Example 4.7: drain_to_source_resistance.sce"
		   ]
		  },
  {
"cell_type": "code",
	   "execution_count": null,
	   "metadata": {
	    "collapsed": true
	   },
	   "outputs": [],
"source": [
"// Example 4.7: drain to source resisitance\n",
"clc, clear\n",
"//Given DATA\n",
"Vdd=5;//in volt\n",
"knwl=1;//in mA/V^2\n",
"Vd=0.1;//drain voltage\n",
"Vt=1;//in Volt\n",
"Id=Vt*((Vdd-Vt)*Vd- (1/2)*0.01);//drain current in milli ampere\n",
"Rd=(Vdd-Vd)/Id;// resistance in killo ohms\n",
"Rds= Vd/Id;//resistance in killo ohms\n",
"disp(Rds,'drain to source  resistance in killo ohms is')"
   ]
   }
,
{
		   "cell_type": "markdown",
		   "metadata": {},
		   "source": [
			"## Example 4.8: circuit_analyze.sce"
		   ]
		  },
  {
"cell_type": "code",
	   "execution_count": null,
	   "metadata": {
	    "collapsed": true
	   },
	   "outputs": [],
"source": [
"// Example 4.8: Analyse the circuit\n",
"clc, clear\n",
"//Given DATA\n",
"Vdd=10;//in volt\n",
"ID=0.4;//in mA\n",
"knwl=1;//in mA/V^2\n",
"Vg=5;//gate voltage in volys\n",
"Vt=1;//in Volt\n",
"Rd=6'//drain resistance in killo ohms\n",
"Id=0.5;//in mA after solving the qudratic equation\n",
"Vs= Id*Rd;//source voltage in volts\n",
"Vd= Vdd-Rd*Id;//drain voltage in volts\n",
"Vgs= Vg-Rd*Id;//gate to source voltage in volts\n",
"disp(Vs,'source voltage in volts')\n",
"disp(Vd,'drain voltage in volts')\n",
"disp(Vgs,'gate to source voltage in volts')\n",
"disp(Id,'drain current in milli ampere')\n",
"disp('As Vd>Vg-Vt the transistor is operating at saturation as initially assumed')"
   ]
   }
,
{
		   "cell_type": "markdown",
		   "metadata": {},
		   "source": [
			"## Example 4.9: drain_resistance.sce"
		   ]
		  },
  {
"cell_type": "code",
	   "execution_count": null,
	   "metadata": {
	    "collapsed": true
	   },
	   "outputs": [],
"source": [
"// Example 4.9: drain resisitance\n",
"clc, clear\n",
"//Given DATA\n",
"Vdd=5;//in volt\n",
"Id=0.5;//in mA\n",
"knwl=1;//in mA/V^2\n",
"Vt=-1;//in Volt\n",
"//Formula : ID=mu_n*Cox*W*(VGS-Vt)^2/(2*L)\n",
"VGS=sqrt((2*Id/knwl))+(Vt);//in Volt\n",
"Vd=3;//\n",
"Rd1=Vd/Id;//drain resistance in killo ohms\n",
"Vdm= Vd-Vt;//saturation mode operation\n",
"Rd2=Vdm/Id;//drain resistance in killo ohms\n",
"disp(Rd1,'drain resistance in killo ohms is')\n",
"disp(Rd2,'drain resistance in killo ohms is')"
   ]
   }
],
"metadata": {
		  "kernelspec": {
		   "display_name": "Scilab",
		   "language": "scilab",
		   "name": "scilab"
		  },
		  "language_info": {
		   "file_extension": ".sce",
		   "help_links": [
			{
			 "text": "MetaKernel Magics",
			 "url": "https://github.com/calysto/metakernel/blob/master/metakernel/magics/README.md"
			}
		   ],
		   "mimetype": "text/x-octave",
		   "name": "scilab",
		   "version": "0.7.1"
		  }
		 },
		 "nbformat": 4,
		 "nbformat_minor": 0
}
