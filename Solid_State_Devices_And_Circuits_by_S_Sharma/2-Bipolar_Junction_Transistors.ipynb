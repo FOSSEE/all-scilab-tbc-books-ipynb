{
"cells": [
 {
		   "cell_type": "markdown",
	   "metadata": {},
	   "source": [
       "# Chapter 2: Bipolar Junction Transistors"
	   ]
	},
{
		   "cell_type": "markdown",
		   "metadata": {},
		   "source": [
			"## Example 2.1: Common_base_d_c_current.sce"
		   ]
		  },
  {
"cell_type": "code",
	   "execution_count": null,
	   "metadata": {
	    "collapsed": true
	   },
	   "outputs": [],
"source": [
"// Example 2.1: comman base dc current gain\n",
"clc, clear\n",
"Ic=2.10*10^-3; // collector current in ampere\n",
"Ie=2.18*10^-3; // emitter current in ampere\n",
"alfa=Ic/Ie;\n",
"disp(alfa,'comman base dc current gain')"
   ]
   }
,
{
		   "cell_type": "markdown",
		   "metadata": {},
		   "source": [
			"## Example 2.2: base_current.sce"
		   ]
		  },
  {
"cell_type": "code",
	   "execution_count": null,
	   "metadata": {
	    "collapsed": true
	   },
	   "outputs": [],
"source": [
"// Example 2.2: Base Current\n",
"alfa= 0.987;// Common base D.C. Current Gain\n",
"Ie= 10;//in Milli Ampere\n",
"Ic= alfa*Ie ; // Collector Current\n",
"Ib=Ie-Ic;// Base Current in Mili Ampere\n",
"disp(Ic,'collector current (in mA)')\n",
"disp(Ib,'base current (in mA)')"
   ]
   }
,
{
		   "cell_type": "markdown",
		   "metadata": {},
		   "source": [
			"## Example 2.38_a: stability_factor.sce"
		   ]
		  },
  {
"cell_type": "code",
	   "execution_count": null,
	   "metadata": {
	    "collapsed": true
	   },
	   "outputs": [],
"source": [
"// Example 2.38.a:S\n",
"clc;\n",
"clear;\n",
"close;\n",
"Beta=180;//Common emitter D.C. Current gain\n",
"Re=1;// Collector resistance in killo ohms\n",
"R1=5.76;// resistance in killo ohms\n",
"R2=34.67;// resistance in killo ohms\n",
"S=1+Beta;\n",
"disp(S,'Stability factor in fixed bias case is')"
   ]
   }
,
{
		   "cell_type": "markdown",
		   "metadata": {},
		   "source": [
			"## Example 2.5_a: dc_current_gain.sce"
		   ]
		  },
  {
"cell_type": "code",
	   "execution_count": null,
	   "metadata": {
	    "collapsed": true
	   },
	   "outputs": [],
"source": [
"// Example 2.5.a: Calculate Common Emitter D.C. Current gain\n",
"alfa=0.950;//Common base D.C. Current gain\n",
"beta= (alfa/(1-alfa));\n",
"disp(beta,'Common Emitter D.C. Current gain')"
   ]
   }
,
{
		   "cell_type": "markdown",
		   "metadata": {},
		   "source": [
			"## Example 2.5_b: ac_current_gain.sce"
		   ]
		  },
  {
"cell_type": "code",
	   "execution_count": null,
	   "metadata": {
	    "collapsed": true
	   },
	   "outputs": [],
"source": [
"// Example 2.5.b: Calculate Common Base D.C. Current gain\n",
"Beta=100;//Common emitter D.C. Current gain\n",
"alfa= (Beta/(1+Beta));\n",
"disp(alfa,'Common Base D.C. Current gain')"
   ]
   }
,
{
		   "cell_type": "markdown",
		   "metadata": {},
		   "source": [
			"## Example 2.67: Q_FACTOR.sce"
		   ]
		  },
  {
"cell_type": "code",
	   "execution_count": null,
	   "metadata": {
	    "collapsed": true
	   },
	   "outputs": [],
"source": [
"// Example 2.67:Q FACTOR\n",
"clc;\n",
"clear;\n",
"fr=1600;//resonant frequency in killo hertz\n",
"BW=10;//In kill hertz\n",
"Qr=fr/BW;\n",
"disp(Qr,'value of quality factor is')"
   ]
   }
,
{
		   "cell_type": "markdown",
		   "metadata": {},
		   "source": [
			"## Example 2.68: Q_FACTOR.sce"
		   ]
		  },
  {
"cell_type": "code",
	   "execution_count": null,
	   "metadata": {
	    "collapsed": true
	   },
	   "outputs": [],
"source": [
"// Example 2.68:Q FACTOR\n",
"clc;\n",
"clear;\n",
"fr=2*10^6;//resonant frequency in hertz\n",
"BW=50*10^3;// hertz\n",
"Qr=fr/BW;\n",
"disp(Qr,'value of quality factor is')"
   ]
   }
,
{
		   "cell_type": "markdown",
		   "metadata": {},
		   "source": [
			"## Example 2.69: PARALLEL_IMPEDENCE.sce"
		   ]
		  },
  {
"cell_type": "code",
	   "execution_count": null,
	   "metadata": {
	    "collapsed": true
	   },
	   "outputs": [],
"source": [
"// Example 2.69:parallel impedence\n",
"clc;\n",
"clear;\n",
"fr=445*10^3;//resonant frequency in hertz\n",
"BW=10*10^3;// hertz\n",
"Xl=1255;// inductive reactance in ohm\n",
"Qr=fr/BW;\n",
"R=Xl/Qr;\n",
"L=Xl/(2*%pi*fr);\n",
"C=1/(2*%pi*fr*Xl);\n",
"Zp=(L/(C*R))*10^-3;\n",
"disp(Qr,'value of quality factor is')\n",
"disp(R,'resisitance = (ohm)')\n",
"disp(L,'inductance = (H)')\n",
"disp(C,'capacitor= = (F)')\n",
"disp(Zp,'parallel impedence = (killo ohm)')"
   ]
   }
,
{
		   "cell_type": "markdown",
		   "metadata": {},
		   "source": [
			"## Example 2.7: dc_load_line.sce"
		   ]
		  },
  {
"cell_type": "code",
	   "execution_count": null,
	   "metadata": {
	    "collapsed": true
	   },
	   "outputs": [],
"source": [
"// Example 2.7: Calculate the collector to emitter voltage(Vce) and Collector current (Ic)\n",
"clc;\n",
"clear;\n",
"Vcc= 12 ;// as Ic=0 so Vce=Vcc (In volts)\n",
"Rc= 3;// Collector Resistance in killo oms\n",
"Ic=Vcc/Rc; // Collector Current in Amperes\n",
"Vce=Vcc;\n",
"disp(Vce,'Colletor to emitter voltage (in volts)')\n",
"disp(Ic,' Collector current (in mA)')"
   ]
   }
,
{
		   "cell_type": "markdown",
		   "metadata": {},
		   "source": [
			"## Example 2.8_b: stability_factor.sce"
		   ]
		  },
  {
"cell_type": "code",
	   "execution_count": null,
	   "metadata": {
	    "collapsed": true
	   },
	   "outputs": [],
"source": [
"// Example 2.8.b: Calculate stability factor\n",
"Beta=100;//Common emitter D.C. Current gain\n",
"S=1+Beta ;\n",
"disp (S,'The Stability factor')"
   ]
   }
],
"metadata": {
		  "kernelspec": {
		   "display_name": "Scilab",
		   "language": "scilab",
		   "name": "scilab"
		  },
		  "language_info": {
		   "file_extension": ".sce",
		   "help_links": [
			{
			 "text": "MetaKernel Magics",
			 "url": "https://github.com/calysto/metakernel/blob/master/metakernel/magics/README.md"
			}
		   ],
		   "mimetype": "text/x-octave",
		   "name": "scilab",
		   "version": "0.7.1"
		  }
		 },
		 "nbformat": 4,
		 "nbformat_minor": 0
}
