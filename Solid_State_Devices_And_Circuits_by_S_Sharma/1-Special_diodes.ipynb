{
"cells": [
 {
		   "cell_type": "markdown",
	   "metadata": {},
	   "source": [
       "# Chapter 1: Special diodes"
	   ]
	},
{
		   "cell_type": "markdown",
		   "metadata": {},
		   "source": [
			"## Example 1.1: resistance.sce"
		   ]
		  },
  {
"cell_type": "code",
	   "execution_count": null,
	   "metadata": {
	    "collapsed": true
	   },
	   "outputs": [],
"source": [
"// Example 1.1: resistance\n",
"clc, clear\n",
"Iz=10*10^-3; // reverse current in ampere\n",
"Vz=0.05; // zener voltage in volts\n",
"Rz=Vz/Iz; // resistance in ohm\n",
"disp(Rz,'resistance (ohm) = ');"
   ]
   }
,
{
		   "cell_type": "markdown",
		   "metadata": {},
		   "source": [
			"## Example 1.2: terminal_voltage.sce"
		   ]
		  },
  {
"cell_type": "code",
	   "execution_count": null,
	   "metadata": {
	    "collapsed": true
	   },
	   "outputs": [],
"source": [
"// Example 1.2: terminal voltage \n",
"clc, clear\n",
"v=4.7; // in volts\n",
"r=15; // in ohm\n",
"i=20*10^-3; // in ampere\n",
"Vz=(v+(i*r)); // terminal voltage in volts\n",
"disp(Vz,'terminal voltage in volts(v)');"
   ]
   }
,
{
		   "cell_type": "markdown",
		   "metadata": {},
		   "source": [
			"## Example 1.3: tunning_range.sce"
		   ]
		  },
  {
"cell_type": "code",
	   "execution_count": null,
	   "metadata": {
	    "collapsed": true
	   },
	   "outputs": [],
"source": [
"// Example 1.3: tuning range of the circuit\n",
"clc, clear\n",
"C1=5*10^-12; // minimum capacitance in  farad\n",
"C2=50*10^-12; // maximum capacitance in  farad\n",
"L=10*10^-3; // in henry\n",
"CTmin= (C1/2);//minimum total capacitance of varactor diode\n",
"p= (sqrt(L*CTmin)); // calculating square root\n",
"q= (2*3.14*p);\n",
"fomax= (1/q); // maximum resonant frequency\n",
"CTmax= ((C2*C2)/(C2+C2));//maximum total capacitance of varactor diode\n",
"r= (sqrt(L*CTmax)); // calculating square root\n",
"s= (2*3.14*r);\n",
"fomin= (1/s); // minimum resonant frequency\n",
"disp(fomax,'maximum resonant frequency in(Hz)');\n",
"disp(fomin,'minimum resonant frequency in(Hz)');"
   ]
   }
,
{
		   "cell_type": "markdown",
		   "metadata": {},
		   "source": [
			"## Example 1.4: resistance.sce"
		   ]
		  },
  {
"cell_type": "code",
	   "execution_count": null,
	   "metadata": {
	    "collapsed": true
	   },
	   "outputs": [],
"source": [
"// Example 1.3: standard resistor\n",
"clc, clear\n",
"vf=1.8; // in volts\n",
"if=16*10^-3; // in ampere\n",
"vo=8; // in volts\n",
"rs=(vo-vf)/if; // resistor in ohm\n",
"disp(rs,'standard resistor (ohm) = ')"
   ]
   }
,
{
		   "cell_type": "markdown",
		   "metadata": {},
		   "source": [
			"## Example 1.5: LED_Current.sce"
		   ]
		  },
  {
"cell_type": "code",
	   "execution_count": null,
	   "metadata": {
	    "collapsed": true
	   },
	   "outputs": [],
"source": [
"// Example 1.5: min and max value of led current\n",
"clc, clear\n",
"v1=1.5; // in volts\n",
"v2=2.3; // in volts\n",
"vs=10; // in volts\n",
"r1=470; // in ohm\n",
"I1=(vs-v1)/r1; // in ampere\n",
"I2=(vs-v2)/r1; // in ampere\n",
"disp(I1,'maximum current in ampere (A) = ')\n",
"disp(I2,'minimum current in ampere (A) = ')"
   ]
   }
,
{
		   "cell_type": "markdown",
		   "metadata": {},
		   "source": [
			"## Example 1.6: supply_voltage.sce"
		   ]
		  },
  {
"cell_type": "code",
	   "execution_count": null,
	   "metadata": {
	    "collapsed": true
	   },
	   "outputs": [],
"source": [
"// Example 1.6: which supply voltage will keep brighness of diode constant\n",
"clc, clear\n",
"v1=1.8; // in volts\n",
"v2=3; // in volts\n",
"vs=24; // in volts\n",
"rs=820;// in ohms\n",
"Imin=((vs-v2)/rs);//case1\n",
"Imax=((vs-v1)/rs);\n",
"vs1=5; // in volts\n",
"rs1=120;// in ohms\n",
"Imin1=((vs1-v2)/rs1);//case2\n",
"Imax1=((vs1-v1)/rs1);\n",
"r1=470; // in ohmI1=(vs-v1)/r1; // in ampere\n",
"disp(Imax,'maximum current in ampere in case1(A) = ')\n",
"disp(Imin,'minimum current in ampere in case1(A) = ')\n",
"disp(Imax1,'maximum current in ampere in case2(A) = ')\n",
"disp(Imin1,'minimum current in ampere in case2(A) = ')\n",
"disp('Brightness in the first case will remain constant wheras in second case it will be changing ,therefore, in order to get an approximately constant brighntness we use as large a supply voltage as possible')"
   ]
   }
,
{
		   "cell_type": "markdown",
		   "metadata": {},
		   "source": [
			"## Example 1.7_a: photocurrent.sce"
		   ]
		  },
  {
"cell_type": "code",
	   "execution_count": null,
	   "metadata": {
	    "collapsed": true
	   },
	   "outputs": [],
"source": [
"// Example 1.7.a : photocurrent\n",
"clc, clear\n",
"r=0.85; // reponsivity of a photodiode in apmere per watt\n",
"p1=1; // incident light power in milli watt\n",
"Ip=r*p1;\n",
"disp(Ip,'photocurrent (mA) = ')"
   ]
   }
,
{
		   "cell_type": "markdown",
		   "metadata": {},
		   "source": [
			"## Example 1.7_b: photocurrent.sce"
		   ]
		  },
  {
"cell_type": "code",
	   "execution_count": null,
	   "metadata": {
	    "collapsed": true
	   },
	   "outputs": [],
"source": [
"// Example 1.7.b : photocurrent\n",
"clc, clear\n",
"r=0.85; // reponsivity of a photodiode in apmere per watt\n",
"p1=2; // incident light power in milli watt\n",
"disp('Given input power saturation is 1.5mw so Ip is not proportional to Pop hencewe cannot find the value of photocurrent')"
   ]
   }
,
{
		   "cell_type": "markdown",
		   "metadata": {},
		   "source": [
			"## Example 1.8: quantum_efficiency.sce"
		   ]
		  },
  {
"cell_type": "code",
	   "execution_count": null,
	   "metadata": {
	    "collapsed": true
	   },
	   "outputs": [],
"source": [
"// Example 1.8: quantum efficiency\n",
"clc, clear\n",
"EHP=5.4*10^6; \n",
"photons=6*10^6; \n",
"n=EHP/photons;\n",
"disp(n,'quantum efficiency = ')"
   ]
   }
,
{
		   "cell_type": "markdown",
		   "metadata": {},
		   "source": [
			"## Example 1.9: responsivity.sce"
		   ]
		  },
  {
"cell_type": "code",
	   "execution_count": null,
	   "metadata": {
	    "collapsed": true
	   },
	   "outputs": [],
"source": [
"h=6.62*10^-34;// planc's constant\n",
"c=3*10^8;// speed of light in vaccum\n",
"e=0.70;//efficiency \n",
"Eg=0.75*1.6*10^-19;// Energy gap in volts\n",
"w=((h*c)/Eg);//wavelength in meters\n",
"R=((e/1248)*w);// in ampere per watt\n",
"disp (R , 'Responsivity = ')"
   ]
   }
],
"metadata": {
		  "kernelspec": {
		   "display_name": "Scilab",
		   "language": "scilab",
		   "name": "scilab"
		  },
		  "language_info": {
		   "file_extension": ".sce",
		   "help_links": [
			{
			 "text": "MetaKernel Magics",
			 "url": "https://github.com/calysto/metakernel/blob/master/metakernel/magics/README.md"
			}
		   ],
		   "mimetype": "text/x-octave",
		   "name": "scilab",
		   "version": "0.7.1"
		  }
		 },
		 "nbformat": 4,
		 "nbformat_minor": 0
}
