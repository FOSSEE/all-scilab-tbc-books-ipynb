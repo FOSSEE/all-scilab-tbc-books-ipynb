{
"cells": [
 {
		   "cell_type": "markdown",
	   "metadata": {},
	   "source": [
       "# Chapter 3: TRANSISTOR AMPLIFIERS"
	   ]
	},
{
		   "cell_type": "markdown",
		   "metadata": {},
		   "source": [
			"## Example 3.10: harmonic_distortion_and_percentage.sce"
		   ]
		  },
  {
"cell_type": "code",
	   "execution_count": null,
	   "metadata": {
	    "collapsed": true
	   },
	   "outputs": [],
"source": [
"//Exa 3.10\n",
"clc;\n",
"clear;\n",
"close;\n",
"//given data :\n",
"//Vs=1.95*sin(400*t);in volt\n",
"//io=12*sin400*t+1.2*sin800*t+0.9*sin*1200*t+0.4*sin1600*t\n",
"//from current we have\n",
"V1=12;//in volt\n",
"V2=1.2;//in volt\n",
"V3=0.9;//in volt\n",
"V4=0.4;//in volt\n",
"//Harmonic distortion of each component is expressed as :\n",
"D2=V2/V1;//unitless\n",
"D3=V3/V1;//unitless\n",
"D4=V4/V1;//unitless\n",
"//Total distortion \n",
"D=sqrt(D2^2+D3^2+D4^2);//unitless\n",
"disp('Total disortion : '+string(D)+' or '+string(D*100)+'%');\n",
"//Total Power\n",
"disp('Total Power, P=(1+D2^2)*P1');\n",
"disp('Percentage Increase in power because of distortion=(P-P1)*100/P1');\n",
"PowerIncrease=D^2*100;//in %\n",
"disp(PowerIncrease,'Percentage Increase in power = ');"
   ]
   }
,
{
		   "cell_type": "markdown",
		   "metadata": {},
		   "source": [
			"## Example 3.11_a: minimum_power_drain.sce"
		   ]
		  },
  {
"cell_type": "code",
	   "execution_count": null,
	   "metadata": {
	    "collapsed": true
	   },
	   "outputs": [],
"source": [
"// Example 3.11 (i): minimum power drain on the power supply \n",
"clc, clear;\n",
"Pl=10; // power delivered to load in watt\n",
"eta1=80/100; // output transformer efficiency\n",
"eta=78.5/100; // efficiency of a class B push pull amplfier under optimum condition\n",
"Pout=Pl/eta1;\n",
"Pin=Pout/eta;\n",
"disp(Pout,'ac power output of amplifier (W) = ')\n",
"disp(Pin,'minimum power drain on the power supply (W) = ')"
   ]
   }
,
{
		   "cell_type": "markdown",
		   "metadata": {},
		   "source": [
			"## Example 3.11_b: minimum_average_power_dissipation.sce"
		   ]
		  },
  {
"cell_type": "code",
	   "execution_count": null,
	   "metadata": {
	    "collapsed": true
	   },
	   "outputs": [],
"source": [
"// Example 3.11 (ii): minimum average power dissipation\n",
"Pl=10; // power delivered to load in watt\n",
"eta1=80/100; // output transformer efficiency\n",
"eta=78.5/100; // efficiency of a class B push pull amplfier under optimum condition\n",
"Pout=Pl/eta1;\n",
"Pin=Pout/eta;\n",
"Pd=Pin-Pout;\n",
"Pd1=Pd/2;\n",
"disp(Pout,'ac power output of amplifier (W) = ')\n",
"disp(Pin,'minimum power drain on the power supply for dc (W) = ')\n",
"disp(Pd,'minimum average power dissipation (W) = ')\n",
"disp(Pd1,' minimum average power dissipation rating required for each transistor (W) = ')"
   ]
   }
,
{
		   "cell_type": "markdown",
		   "metadata": {},
		   "source": [
			"## Example 3.12: power_and_conversion_efficiency.sce"
		   ]
		  },
  {
"cell_type": "code",
	   "execution_count": null,
	   "metadata": {
	    "collapsed": true
	   },
	   "outputs": [],
"source": [
"// Example 3.12 : the percent second harmonic distortion\n",
"clc, clear;\n",
"Vcc=50; // voltage in volts\n",
"Vmin=5; // minimum voltage in volts\n",
"pi=3.142857; \n",
"Pd=40; // total power dissipation in watt\n",
"Icmax=Pd/(((2*Vcc)/pi)-((Vcc-Vmin)/2));\n",
"Pin=(2/pi)*(Vcc*Icmax);\n",
"Pout=((Icmax/2)*(Vcc-Vmin));\n",
"eta=(Pout/Pin)*100;\n",
"disp(Icmax,'maximum collector current (A) = ')\n",
"disp(Pin,'total power input (W) = ')\n",
"disp(Pout,'ac power output (W) = ')\n",
"disp(eta,'conversion efficiency (%) = ')"
   ]
   }
,
{
		   "cell_type": "markdown",
		   "metadata": {},
		   "source": [
			"## Example 3.1: input_impedence_output_impedence_and_current_gain.sce"
		   ]
		  },
  {
"cell_type": "code",
	   "execution_count": null,
	   "metadata": {
	    "collapsed": true
	   },
	   "outputs": [],
"source": [
"// Example 3.1: calculate the input impedence, output impedence, voltage gain and current gain \n",
"clc, clear\n",
"Hie=500; // the h-parameters of the transistor in ohm\n",
"Hfe=60; // the h-parameters of the transistor in ohm\n",
"Ic=3*10^-3; // collector current in ampere\n",
"Rb=220*10^3; // resistance in ohm\n",
"Rc=5.1*10^3; // resistance in ohm\n",
"zi=Hie;\n",
"zo=Rc;\n",
"Av=-Hfe*Rc/Hie;\n",
"Ai=-Hfe\n",
"Vcc=12; // voltage in volts\n",
"Vbe=0.6; // voltage in volts\n",
"Beta=60; // for transistor\n",
"Ib=(Vcc-Vbe)/Rb;\n",
"Ie=Beta*Ib;\n",
"re=26*10^-3/Ie;\n",
"Zin=Beta*re;\n",
"Zout=Rc;\n",
"Av1=-Rc/re;\n",
"Ai1=-Beta;\n",
"disp('part 1 -from h-parameter model')\n",
"disp(zi,'input impedence (ohm) = ')\n",
"disp(zo,'ouput impedence (ohm) = ')\n",
"disp(Ai,'current gain (unitless) = ')\n",
"disp(Av,'voltage gain (unitless) = ')\n",
"disp('part 2 -from re model')\n",
"disp(Ib,'base curret (A) = ')\n",
"disp(Ie,'emitter curret (A) = ')\n",
"disp(re,'resistance = ')\n",
"disp(Zin,'input impedence (ohm) = ')\n",
"disp(Zout,'ouput impedence (ohm) = ')\n",
"disp(Ai1,'current gain (unitless) = ')\n",
"disp(Av1,'voltage gain (unitless) = ')"
   ]
   }
,
{
		   "cell_type": "markdown",
		   "metadata": {},
		   "source": [
			"## Example 3.2: input_impedence_output_impedence_and_current_gain.sce"
		   ]
		  },
  {
"cell_type": "code",
	   "execution_count": null,
	   "metadata": {
	    "collapsed": true
	   },
	   "outputs": [],
"source": [
"// Example 3.2: calculate the input impedence, output impedence, voltage gain and current gain \n",
"clc, clear;\n",
"Hie=3.2; // the h-parameters of the transistor in kilo-ohm\n",
"Hfe=100; // the h-parameters of the transistor \n",
"R1=40; // resistance in kilo-ohm\n",
"R2=4.7; // resistance in kilo-ohm;\n",
"Rc=4; // resistance in kilo-ohm;\n",
"Re=1.2; // resistance in kilo-ohm;\n",
"Rb=(R1*R2)/(R1+R2);\n",
"zi=(Rb*Hie)/(Rb+Hie);\n",
"zo=Rc;\n",
"Av=-(Hfe*Rc)/Hie;\n",
"Ai=-(Rb*Hfe)/(Rb+Hie);\n",
"Vcc=16; // voltage in volts\n",
"Vbe=0.6; // voltage in volts\n",
"Beta=100; // for transistor\n",
"Vb=(R2*Vcc)/(R1+R2);\n",
"Ib=(Vb-Vbe)/(Rb+(1+Beta)*Re);\n",
"Ic=Beta*Ib;\n",
"Ie=Ic;\n",
"re=26/Ie;\n",
"Zin=(Rb*(Beta*re*10^-3))/(Rb+(Beta*re*10^-3));\n",
"Zout=Rc;\n",
"Av1=-(Rc*10^3)/re;\n",
"Ai1=-(Beta*(Rb*10^3))/((Rb*10^3)+(Beta*re));\n",
"disp('part 1 -from h-parameter model')\n",
"disp(Rb,'base resistance (kilo-ohm) = ')\n",
"disp(zi,'input impedence (kilo-ohm) = ')\n",
"disp(zo,'ouput impedence (kilo-ohm) = ')\n",
"disp(Ai,'current gain (unitless) = ')\n",
"disp(Av,'voltage gain (unitless) = ')\n",
"disp('part 2 -from re model')\n",
"disp(Vb,'base voltage (V) = ')\n",
"disp(Ib,'base curret (mA) = ')\n",
"disp(Ic,'collector curret (mA) = ')\n",
"disp(Ie,'emitter curret (mA) = ')\n",
"disp(re,'resistance = ')\n",
"disp(Zin,'input impedence (kilo-ohm) = ')\n",
"disp(Zout,'ouput impedence (kilo-ohm) = ')\n",
"disp(Ai1,'current gain (unitless) = ')\n",
"disp(Av1,'voltage gain (unitless) = ')"
   ]
   }
,
{
		   "cell_type": "markdown",
		   "metadata": {},
		   "source": [
			"## Example 3.3: input_impedence_output_impedence_and_current_gain.sce"
		   ]
		  },
  {
"cell_type": "code",
	   "execution_count": null,
	   "metadata": {
	    "collapsed": true
	   },
	   "outputs": [],
"source": [
"// Example 3.3: calculate the input impedence, output impedence, voltage gain and current gain \n",
"clc, clear\n",
"Re=4; // resistance in kilo-ohm\n",
"Rc=3; // resistance in kilo-ohm\n",
"Vcc=10; // collector voltage in volts\n",
"Vee=8; // emitter voltage in volts\n",
"Vbe=0.6; // base voltage in volts\n",
"Ie=(Vee-Vbe)/(Re*10^3)\n",
"re=26*10^-3/Ie;\n",
"zi=((Re*10^3)*re)/((Re*10^3)+re);\n",
"zo=Rc;\n",
"Av=Rc/(re*10^-3);\n",
"Ai=Ie/Ie;\n",
"disp(Ie,'emitter current (A) = ')\n",
"disp(zi,'input impedence (ohm) = ')\n",
"disp(zo,'ouput impedence (kilo-ohm) = ')\n",
"disp(Ai,'current gain (unitless) = ')\n",
"disp(Av,'voltage gain (unitless) = ')"
   ]
   }
,
{
		   "cell_type": "markdown",
		   "metadata": {},
		   "source": [
			"## Example 3.4: collector_efficiency.sce"
		   ]
		  },
  {
"cell_type": "code",
	   "execution_count": null,
	   "metadata": {
	    "collapsed": true
	   },
	   "outputs": [],
"source": [
"// Example 3.1: determine collector efficiency\n",
"clc, clear;\n",
"Vmax=25; //collector emitter voltag in volts\n",
"Vmin=2.5;//collector emitter voltag in volts\n",
"eta=(50*((Vmax-Vmin)/(Vmax+Vmin)));\n",
"disp(eta,'collector efficiency (%) = ')"
   ]
   }
,
{
		   "cell_type": "markdown",
		   "metadata": {},
		   "source": [
			"## Example 3.5: maximum_power_output.sce"
		   ]
		  },
  {
"cell_type": "code",
	   "execution_count": null,
	   "metadata": {
	    "collapsed": true
	   },
	   "outputs": [],
"source": [
"// Example 3.1: determine maximum output power\n",
"clc, clear;\n",
"Rl=80; // load resistance in ohm\n",
"alfa=5; // turn ratio\n",
"Ic=120; // collector current in milli-ampere\n",
"Rl1=alfa^2*Rl;\n",
"Imax=2*Ic;\n",
"Imin=0;\n",
"Irms=(1/sqrt(2))*((Imax-Imin)/2);\n",
"Pout=((Ic*10^-3)^2*Rl1)/2;\n",
"disp(Rl1,'load as seen by transformer primary (ohm) = ')\n",
"disp(Imax,'maximum current (mA) = ')\n",
"disp(Imin,'minimum current (mA) = ')\n",
"disp(Irms,'rms value of current (mA) = ')\n",
"disp(Pout,'maximum power output (W) = ') \n",
"\n",
"\n",
"\n",
"\n",
"\n",
"\n",
"\n",
"\n",
"\n",
"\n",
"\n",
"\n",
"\n",
""
   ]
   }
,
{
		   "cell_type": "markdown",
		   "metadata": {},
		   "source": [
			"## Example 3.6: power_rating_of_transistor.sce"
		   ]
		  },
  {
"cell_type": "code",
	   "execution_count": null,
	   "metadata": {
	    "collapsed": true
	   },
	   "outputs": [],
"source": [
"// Example 3.1: (i) maximum output power (ii) maximum collector efficiency (iii) power rating of the transistor\n",
"clc, clear;\n",
"Vcc=10; // collector supply voltage in volts\n",
"Icq=200; // zero-signal collector current in milli-ampere\n",
"Rl=2; // load resistance in ohm\n",
"alfa=5; // turn ratio\n",
"Pout=(Vcc*(Icq*10^-3))/2;\n",
"Pin=(Vcc*(Icq*10^-3));\n",
"eta=(Pout/Pin)*100;\n",
"P=(Vcc*(Icq*10^-3)); \n",
"Rl1=(alfa^2)*Rl;\n",
"disp(Pout,'output power for dc (w) = ')\n",
"disp(Pin,'input power for ac (w) = ')\n",
"disp(eta,'collector efficiency (%) = ')\n",
"disp(P,'power rating of the transistor (w) = ')\n",
"disp(Rl1,'load by the tranformer primary (ohm) = ')"
   ]
   }
,
{
		   "cell_type": "markdown",
		   "metadata": {},
		   "source": [
			"## Example 3.7: power_dissipated_and_efficiency.sce"
		   ]
		  },
  {
"cell_type": "code",
	   "execution_count": null,
	   "metadata": {
	    "collapsed": true
	   },
	   "outputs": [],
"source": [
"// Example 3.7: (i) Vce maximum (ii) Vce minimum (iii) Ic maximum (iv) Ic minimum (v) rms value of load current and voltage (vi) ac power developed across the load pated (vii) power dissi(viii) the efficiency of the amplifier circuit\n",
"clc, clear;\n",
"alpha=3;//\n",
"Podc=0.434;//output ac power in watts\n",
"Icq=140;//current in milli ampere\n",
"Rl=8;//load resistance in killo ohms\n",
"Vcq=10; \n",
"Vcc=Vcq;//\n",
"Vcemax=18.3;//maximum collector to emitter voltage in volts\n",
"Vcemin=2.5;//minimum collector to emitter voltage in volta\n",
"Icmax=245;//maximum collector current in mili ampere\n",
"Icmin=25;//minimum collector current in mili ampere\n",
"Vlrms=(Vcemax-Vcemin)/(2*sqrt(2));//\n",
"VLrms=(1/alpha)*Vlrms;//rms value of load voltage\n",
"ILrms=(VLrms/Rl)*10^3;//rms value of load current\n",
"Pindc=Vcc*Icq*10^-3;// ac power developed across the load in watts\n",
"Pd=Pindc-Podc;// power dissipated in watts\n",
"n=(Podc/Pindc)*100;//efficieny\n",
"disp(Vcemax,'maximum collector to emitter voltage in volts')\n",
"disp(Vcemin,'minimum collector to emitter voltage in volts')\n",
"disp(Icmax,'maximum collector current in mili ampere')\n",
"disp(Icmin,'minimum collector current in mili ampere')\n",
"disp(VLrms,'rms value of load voltage')\n",
"disp(ILrms,'rms value of load current in milli ampere')\n",
"disp(Pindc,'ac power developed across the load in watts')\n",
"disp(Pd,'power dissipated in watts')\n",
"disp(n,'efficiency in percentage is')"
   ]
   }
,
{
		   "cell_type": "markdown",
		   "metadata": {},
		   "source": [
			"## Example 3.8: overall_efficiency.sce"
		   ]
		  },
  {
"cell_type": "code",
	   "execution_count": null,
	   "metadata": {
	    "collapsed": true
	   },
	   "outputs": [],
"source": [
"// Example 3.8: overall efficiency\n",
"clc, clear;\n",
"Vcc=20; // in volts\n",
"Vce=2.5; // in volts\n",
"eta=78.5*(1-(Vce/Vcc));\n",
"disp(eta,'the overall efficiency (%) = ')"
   ]
   }
,
{
		   "cell_type": "markdown",
		   "metadata": {},
		   "source": [
			"## Example 3.9_a: harmonic_distortion.sce"
		   ]
		  },
  {
"cell_type": "code",
	   "execution_count": null,
	   "metadata": {
	    "collapsed": true
	   },
	   "outputs": [],
"source": [
"// Example 3.9 (a): the percent second harmonic distortion\n",
"clc, clear;\n",
"V1ce=22; // maximum voltage in volts\n",
"V2ce=1.2; // minimum voltage in volts\n",
"Vceq=10; // in volts\n",
"D2=(((1/2)*(V1ce+V2ce)-Vceq)/(V1ce-V2ce))*100;\n",
"disp(D2,' the percent harmonic distortion (%) = ')"
   ]
   }
,
{
		   "cell_type": "markdown",
		   "metadata": {},
		   "source": [
			"## Example 3.9_b: harmonic_distortion.sce"
		   ]
		  },
  {
"cell_type": "code",
	   "execution_count": null,
	   "metadata": {
	    "collapsed": true
	   },
	   "outputs": [],
"source": [
"// Example 3.9 (b): the percent second harmonic distortion\n",
"clc, clear;\n",
"V1ce=18; // maximum voltage in volts\n",
"V2ce=2; // minimum voltage in volts\n",
"Vceq=10; // in volts\n",
"D2=(((1/2)*(V1ce+V2ce)-Vceq)/(V1ce-V2ce))*100;\n",
"disp(D2,' the percent harmonic distortion (%) = ')"
   ]
   }
],
"metadata": {
		  "kernelspec": {
		   "display_name": "Scilab",
		   "language": "scilab",
		   "name": "scilab"
		  },
		  "language_info": {
		   "file_extension": ".sce",
		   "help_links": [
			{
			 "text": "MetaKernel Magics",
			 "url": "https://github.com/calysto/metakernel/blob/master/metakernel/magics/README.md"
			}
		   ],
		   "mimetype": "text/x-octave",
		   "name": "scilab",
		   "version": "0.7.1"
		  }
		 },
		 "nbformat": 4,
		 "nbformat_minor": 0
}
