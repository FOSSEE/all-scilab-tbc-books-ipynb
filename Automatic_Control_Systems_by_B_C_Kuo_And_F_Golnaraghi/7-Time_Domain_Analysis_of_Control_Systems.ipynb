{
"cells": [
 {
		   "cell_type": "markdown",
	   "metadata": {},
	   "source": [
       "# Chapter 7: Time Domain Analysis of Control Systems"
	   ]
	},
{
		   "cell_type": "markdown",
		   "metadata": {},
		   "source": [
			"## Example 7.1: type_of_system.sce"
		   ]
		  },
  {
"cell_type": "code",
	   "execution_count": null,
	   "metadata": {
	    "collapsed": true
	   },
	   "outputs": [],
"source": [
"//type of system\n",
"s=%s\n",
"G1=syslin('c',(1+0.5*s)/(s*(1+s)*(1+2*s)*(1+s+s^2)))\n",
"disp(G1,'G(s)=')\n",
"printf('type 1 as it has one s term in denominator')\n",
"G2=syslin('c',(1+2*s)/s^3)\n",
"disp(G2,'G(s)=')\n",
"printf('type 3 as it has 3 poles at origin')"
   ]
   }
,
{
		   "cell_type": "markdown",
		   "metadata": {},
		   "source": [
			"## Example 7.2: steady_state_errors_from_open_loop_tf.sce"
		   ]
		  },
  {
"cell_type": "code",
	   "execution_count": null,
	   "metadata": {
	    "collapsed": true
	   },
	   "outputs": [],
"source": [
"//steady state errors from open loop transfer function\n",
"s=%s;\n",
"//type 1 system\n",
"G=syslin('c',(s+3.15)/(s*(s+1.5)*(s+0.5)))//K=1\n",
"disp(G,'G(s)=')\n",
"H=1;\n",
"y=G*H;\n",
"disp(y,'G(s)H(s)=')\n",
"syms s;\n",
"Kv=limit(s*y,s,0); //Kv= velocity error coefficient\n",
"Ess=1/Kv\n",
"//Refering the table 7.1 given in the book ,For type 1 system  Kp=%inf,Ess=0 & Ka=0,Ess=%inf\n",
"printf('For type1 system \n step input Kp=inf Ess=0 \n \n parabolic input Ka=0 Ess=inf \n ')\n",
"disp(Kv,'ramp input Kv=')\n",
"disp(Ess,'Ess=')\n",
"//type 2 system\n",
"p=poly([1],'s','coeff');\n",
"q=poly([0 0 12 1],'s','coeff');\n",
"G=p/q;//K=1\n",
"disp(G,'G(s)=')\n",
"H=1;\n",
"y=G*H;\n",
"disp(y,'G(s)H(s)=')\n",
"Ka=limit(s^2*y,s,0); //Ka= parabolic error coefficient\n",
"Ess=1/Ka\n",
"//Refering the table 7.1 given in the book ,For type 2 system  Kp=%inf,Ess=0 & Kv=inf,Ess=0\n",
"printf('For type2 system \n step input Kp=inf Ess=0 \n ramp input Kv=inf Ess=0 \n ')\n",
"disp(Ka,'parabolic input Ka=')\n",
"disp(Ess,'Ess=')\n",
"//type 2 system\n",
"p=poly([5 5],'s','coeff');\n",
"q=poly([0 0 60 17 1],'s','coeff');\n",
"G=p/q;//K=1\n",
"disp(G,'G(s)=')\n",
"H=1;\n",
"y=G*H;\n",
"disp(y,'G(s)H(s)=')\n",
"Ka=limit(s^2*y,s,0); //Ka= parabolic error coefficient\n",
"Ess=1/Ka\n",
"//Refering the table 7.1 given in the book ,For type 2 system  Kp=%inf,Ess=0 & Kv=inf,Ess=0\n",
"printf('For type2 system \n step input Kp=inf Ess=0 \n ramp input Kv=inf Ess=0 \n ')\n",
"disp(Ka,'parabolic input Ka=')\n",
"disp(Ess,'Ess=')"
   ]
   }
,
{
		   "cell_type": "markdown",
		   "metadata": {},
		   "source": [
			"## Example 7.3: steady_state_errors_from_closed_loop_tf.sce"
		   ]
		  },
  {
"cell_type": "code",
	   "execution_count": null,
	   "metadata": {
	    "collapsed": true
	   },
	   "outputs": [],
"source": [
"//steady state errors from closed loop transfer functions\n",
"s=%s\n",
"p=poly([3.15 1 0],'s','coeff');//K=1\n",
"q=poly([3.15 1.75 2 1],'s','coeff');\n",
"M=p/q\n",
"disp(M,'M(s)=')\n",
"H=1;\n",
"R=1;\n",
"b=coeff(p)\n",
"a=coeff(q)\n",
"\n",
"//step input\n",
"if (a(1,1)==b(1,1)) then\n",
"    printf('for unit step input Ess=0' )\n",
"else \n",
"    Ess=1/H*(1-(b(1,1)*H/a(1,1)))*R\n",
"    disp(Ess,'for unit step input Ess=')\n",
"end\n",
"\n",
"//ramp input\n",
"c=0\n",
"for i=1:2\n",
"    if(a(1,i)-b(1,i)*H==0) then\n",
"        c=c+1\n",
"    end\n",
"end\n",
"if(c==2)\n",
"        printf('for unit ramp input Ess=0')\n",
"    else if(c==1) then\n",
"            Ess=(a(1,2)-b(1,2)*H)/a(1,1)*H\n",
"            disp(Ess,'for unit ramp input Ess=')\n",
"        else printf('for unit ramp input Ess=inf')\n",
"     end \n",
" end\n",
"\n",
"//parabolic input\n",
"c=0\n",
"for i=1:3\n",
"    if(a(1,i)-b(1,i)*H==0) then\n",
"        c=c+1\n",
"    end\n",
"end\n",
"if(c==3)\n",
"        printf('for unit parabolic input Ess=0')\n",
"    else if(c==2) then\n",
"            Ess=(a(1,3)-b(1,3)*H)/a(1,1)*H\n",
"            disp(Ess,'for unit parabolic input Ess=')\n",
"        else printf('for unit parabolic input Ess=inf')\n",
"     end \n",
" end\n",
"        \n",
"        \n",
"        \n",
"        \n",
"        \n",
"        \n",
"        \n",
"  "
   ]
   }
,
{
		   "cell_type": "markdown",
		   "metadata": {},
		   "source": [
			"## Example 7.4: steady_state_errors_from_closed_loop_tf.sce"
		   ]
		  },
  {
"cell_type": "code",
	   "execution_count": null,
	   "metadata": {
	    "collapsed": true
	   },
	   "outputs": [],
"source": [
"//steady state errors from closed loop transfer functions\n",
"s=%s\n",
"p=poly([5 5 0],'s','coeff');\n",
"q=poly([5 5 60 17 1],'s','coeff');\n",
"M=p/q\n",
"disp(M,'M(s)=')\n",
"H=1;\n",
"R=1;\n",
"b=coeff(p)\n",
"a=coeff(q)\n",
"\n",
"//step input\n",
"if (a(1,1)==b(1,1)) then\n",
"    printf('for unit step input Ess=0 \n' )\n",
"else \n",
"    Ess=1/H*(1-(b(1,1)*H/a(1,1)))*R\n",
"    disp(Ess,'for unit step input Ess=')\n",
"end\n",
"\n",
"//ramp input\n",
"c=0\n",
"for i=1:2\n",
"    if(a(1,i)-b(1,i)*H==0) then\n",
"        c=c+1\n",
"    end\n",
"end\n",
"if(c==2)\n",
"        printf('for unit ramp input Ess=0 \n')\n",
"    else if(c==1) then\n",
"            Ess=(a(1,2)-b(1,2)*H)/a(1,1)*H\n",
"            disp(Ess,'for unit ramp input Ess=')\n",
"        else printf('for unit ramp input Ess=inf \n')\n",
"     end \n",
" end\n",
"\n",
"//parabolic input\n",
"c=0\n",
"for i=1:3\n",
"    if(a(1,i)-b(1,i)*H==0) then\n",
"        c=c+1\n",
"    end\n",
"end\n",
"if(c==3)\n",
"        printf('for unit parabolic input Ess=0 \n')\n",
"    else if(c==2) then\n",
"            Ess=(a(1,3)-b(1,3)*H)/a(1,1)*H\n",
"            disp(Ess,'for unit parabolic input Ess=')\n",
"        else printf('for unit parabolic input Ess=inf \n')\n",
"     end \n",
" end"
   ]
   }
,
{
		   "cell_type": "markdown",
		   "metadata": {},
		   "source": [
			"## Example 7.5: steady_state_errors_from_closed_loop_tf.sce"
		   ]
		  },
  {
"cell_type": "code",
	   "execution_count": null,
	   "metadata": {
	    "collapsed": true
	   },
	   "outputs": [],
"source": [
"//steady state errors from closed loop transfer functions\n",
"s=%s\n",
"p=poly([5 1 0],'s','coeff');\n",
"q=poly([5 5 60 17 1],'s','coeff');\n",
"M=p/q\n",
"disp(M,'M(s)=')\n",
"H=1;\n",
"R=1;\n",
"b=coeff(p)\n",
"a=coeff(q)\n",
"\n",
"//step input\n",
"if (a(1,1)==b(1,1)) then\n",
"    printf('for unit step input Ess=0 \n' )\n",
"else \n",
"    Ess=1/H*(1-(b(1,1)*H/a(1,1)))*R\n",
"    disp(Ess,'for unit step input Ess=')\n",
"end\n",
"\n",
"//ramp input\n",
"c=0\n",
"for i=1:2\n",
"    if(a(1,i)-b(1,i)*H==0) then\n",
"        c=c+1\n",
"    end\n",
"end\n",
"if(c==2)\n",
"        printf('for unit ramp input Ess=0 \n')\n",
"    else if(c==1) then\n",
"            Ess=(a(1,2)-b(1,2)*H)/a(1,1)*H\n",
"            disp(Ess,'for unit ramp input Ess=')\n",
"        else printf('for unit ramp input Ess=inf \n')\n",
"     end \n",
" end\n",
"\n",
"//parabolic input\n",
"c=0\n",
"for i=1:3\n",
"    if(a(1,i)-b(1,i)*H==0) then\n",
"        c=c+1\n",
"    end\n",
"end\n",
"if(c==3)\n",
"        printf('for unit parabolic input Ess=0 \n')\n",
"    else if(c==2) then\n",
"            Ess=(a(1,3)-b(1,3)*H)/a(1,1)*H\n",
"            disp(Ess,'for unit parabolic input Ess=')\n",
"        else printf('for unit parabolic input Ess=inf \n')\n",
"     end \n",
" end"
   ]
   }
,
{
		   "cell_type": "markdown",
		   "metadata": {},
		   "source": [
			"## Example 7.6: steady_state_errors_from_closed_loop_tf.sce"
		   ]
		  },
  {
"cell_type": "code",
	   "execution_count": null,
	   "metadata": {
	    "collapsed": true
	   },
	   "outputs": [],
"source": [
"//steady state errors from closed loop transfer functions\n",
"s=%s\n",
"p=poly([5 1 0],'s','coeff');\n",
"q=poly([10 10 60 17 1],'s','coeff');\n",
"M=p/q\n",
"disp(M,'M(s)=')\n",
"H=2;\n",
"R=1;\n",
"b=coeff(p)\n",
"a=coeff(q)\n",
"\n",
"//step input\n",
"if (a(1,1)==b(1,1)) then\n",
"    printf('for step input Ess=0 \n' )\n",
"else \n",
"    Ess=1/H*(1-(b(1,1)*H/a(1,1)))*R\n",
"    disp(Ess,'for step input Ess=')\n",
"end\n",
"\n",
"//ramp input\n",
"c=0\n",
"for i=1:2\n",
"    if(a(1,i)-b(1,i)*H==0) then\n",
"        c=c+1\n",
"    end\n",
"end\n",
"if(c==2)\n",
"        printf('for ramp input Ess=0 \n')\n",
"    else if(c==1) then\n",
"            Ess=(a(1,2)-b(1,2)*H)/a(1,1)*H\n",
"            disp(Ess,'for ramp input Ess=')\n",
"        else printf('for ramp input Ess=inf \n')\n",
"     end \n",
" end\n",
"\n",
"//parabolic input\n",
"c=0\n",
"for i=1:3\n",
"    if(a(1,i)-b(1,i)*H==0) then\n",
"        c=c+1\n",
"    end\n",
"end\n",
"if(c==3)\n",
"        printf('for parabolic input Ess=0 \n')\n",
"    else if(c==2) then\n",
"            Ess=(a(1,3)-b(1,3)*H)/a(1,1)*H\n",
"            disp(Ess,'for parabolic input Ess=')\n",
"        else printf('for parabolic input Ess=inf \n')\n",
"     end \n",
" end"
   ]
   }
],
"metadata": {
		  "kernelspec": {
		   "display_name": "Scilab",
		   "language": "scilab",
		   "name": "scilab"
		  },
		  "language_info": {
		   "file_extension": ".sce",
		   "help_links": [
			{
			 "text": "MetaKernel Magics",
			 "url": "https://github.com/calysto/metakernel/blob/master/metakernel/magics/README.md"
			}
		   ],
		   "mimetype": "text/x-octave",
		   "name": "scilab",
		   "version": "0.7.1"
		  }
		 },
		 "nbformat": 4,
		 "nbformat_minor": 0
}
