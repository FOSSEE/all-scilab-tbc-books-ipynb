{
"cells": [
 {
		   "cell_type": "markdown",
	   "metadata": {},
	   "source": [
       "# Chapter 8: Root Locus Technique"
	   ]
	},
{
		   "cell_type": "markdown",
		   "metadata": {},
		   "source": [
			"## Example 8.10: intersection_of_root_loci_with_real_axis.sce"
		   ]
		  },
  {
"cell_type": "code",
	   "execution_count": null,
	   "metadata": {
	    "collapsed": true
	   },
	   "outputs": [],
"source": [
"//intersection of root loci with real axis\n",
"s=%s\n",
"sys=syslin('c',1/(s*(s+3)*(s^2+2*s+2)))\n",
"clf\n",
"evans(sys)\n",
"K=kpure(sys)\n",
"disp(K,'value of K where RL crosses jw axis=')\n",
"p=poly([K 6 8 5 1],'s','coeff')\n",
"x=roots(p)\n",
"x1=clean(x(1,1))\n",
"x2=clean(x(2,1))\n",
"disp(x2,x1,'crossover points on jw axis=')"
   ]
   }
,
{
		   "cell_type": "markdown",
		   "metadata": {},
		   "source": [
			"## Example 8.11: breakaway_points.sce"
		   ]
		  },
  {
"cell_type": "code",
	   "execution_count": null,
	   "metadata": {
	    "collapsed": true
	   },
	   "outputs": [],
"source": [
"//breakaway points\n",
"s=%s\n",
"sys=syslin('c',(s+4)/(s*(s+2)))\n",
"evans(sys)\n",
"syms s\n",
"d=derivat(sys)\n",
"n=numer(d)\n",
"a=roots(n)    //a=breakaway points\n",
"disp(a,'breakaway points=')\n",
"for i=1:2\n",
"    K=-a(i,1)*(a(i,1)+2)/(a(i,1)+4)\n",
"    disp(a(i,1),'s=')\n",
"    disp(K,'K=')\n",
"end\n",
"printf('if K is positive breakaway point lies on RL or else on CRL')\n",
""
   ]
   }
,
{
		   "cell_type": "markdown",
		   "metadata": {},
		   "source": [
			"## Example 8.12: breakaway_points.sce"
		   ]
		  },
  {
"cell_type": "code",
	   "execution_count": null,
	   "metadata": {
	    "collapsed": true
	   },
	   "outputs": [],
"source": [
"//breakaway points\n",
"s=%s\n",
"sys=syslin('c',(s+2)/(s^2+2*s+2))\n",
"evans(sys)\n",
"syms s\n",
"d=derivat(sys)\n",
"n=numer(d)\n",
"a=roots(n)    //a=breakaway points\n",
"disp(a,'breakaway points=')\n",
"for i=1:2\n",
"    K=-(a(i,1)^2+2*a(i,1)+2)/(a(i,1)+2)\n",
"        disp(a(i,1),'s=')\n",
"        disp(K,'K=')\n",
"end\n",
"printf('if K is positive breakaway point lies on RL or else on CRL')"
   ]
   }
,
{
		   "cell_type": "markdown",
		   "metadata": {},
		   "source": [
			"## Example 8.13: breakaway_points.sce"
		   ]
		  },
  {
"cell_type": "code",
	   "execution_count": null,
	   "metadata": {
	    "collapsed": true
	   },
	   "outputs": [],
"source": [
"//breakaway points\n",
"s=%s\n",
"sys=syslin('c',1/(s*(s+4)*(s^2+4*s+20)))\n",
"evans(sys)\n",
"syms s\n",
"d=derivat(sys)\n",
"n=numer(d)\n",
"a=roots(n)    //a=breakaway points\n",
"disp(a,'breakaway points=')\n",
"for i=1:3\n",
"    K=-a(i,1)*(a(i,1)+4)*(a(i,1)^2+4*a(i,1)+20)\n",
"        disp(a(i,1),'s=')\n",
"        disp(K,'K=')\n",
"end\n",
"printf('if K is positive breakaway point lies on RL or else on CRL')\n",
"    "
   ]
   }
,
{
		   "cell_type": "markdown",
		   "metadata": {},
		   "source": [
			"## Example 8.14: breakaway_points.sce"
		   ]
		  },
  {
"cell_type": "code",
	   "execution_count": null,
	   "metadata": {
	    "collapsed": true
	   },
	   "outputs": [],
"source": [
"//breakaway points\n",
"s=%s\n",
"sys=syslin('c',1/(s*(s^2+2*s+2)))\n",
"evans(sys)\n",
"syms s\n",
"d=derivat(sys)\n",
"n=numer(d)\n",
"a=roots(n)    //a=breakaway points\n",
"disp(a,'breakaway points=')\n",
"for i=1:2\n",
"    K=-a(i,1)^2+2*a(i,1)+2\n",
"        disp(a(i,1),'s=')\n",
"        disp(K,'K=')\n",
"end\n",
"printf('if K is complex then point is not a break away point')"
   ]
   }
,
{
		   "cell_type": "markdown",
		   "metadata": {},
		   "source": [
			"## Example 8.15: root_sensitivity.sce"
		   ]
		  },
  {
"cell_type": "code",
	   "execution_count": null,
	   "metadata": {
	    "collapsed": true
	   },
	   "outputs": [],
"source": [
"//root sensitivity\n",
"s=%s\n",
"sys1=syslin('c',1/(s*(s+1)))\n",
"evans(sys1)\n",
"\n",
"sys2=syslin('c',(s+2)/(s^2*(s+1)^2))\n",
"evans(sys2)\n",
"\n",
"printf('root densitivity at breakaway points is infinite')\n",
"\n",
"\n",
"\n",
""
   ]
   }
,
{
		   "cell_type": "markdown",
		   "metadata": {},
		   "source": [
			"## Example 8.16: calculation_of_K_on_root_loci.sce"
		   ]
		  },
  {
"cell_type": "code",
	   "execution_count": null,
	   "metadata": {
	    "collapsed": true
	   },
	   "outputs": [],
"source": [
"//calculation of K on root loci\n",
"s=%s\n",
"sys=syslin('c',(s+2)/(s^2+2*s+2))\n",
"evans(sys)\n",
"//value of K at s=0\n",
"printf('K=A*B/C \n A and B are lenths of vectors drawn from poles of sys \n C is lenths of vector drawn from zero of sys')\n",
"A=sqrt((-1)^2+1^2)\n",
"B=sqrt((-1)^2+(-1)^2)\n",
"C=-2\n",
"K=A*B/C\n",
"disp(K,'value of K at s=0 is')"
   ]
   }
,
{
		   "cell_type": "markdown",
		   "metadata": {},
		   "source": [
			"## Example 8.17: properties_of_root_loci.sce"
		   ]
		  },
  {
"cell_type": "code",
	   "execution_count": null,
	   "metadata": {
	    "collapsed": true
	   },
	   "outputs": [],
"source": [
"//properties of root loci\n",
"s=%s\n",
"sys=syslin('c',(s+3)/(s*(s+5)*(s+6)*(s^2+2*s+2)))\n",
"d=denom(sys)\n",
"n=numer(sys)\n",
"p=roots(d)\n",
"z=roots(n)\n",
"disp(p,'poles of sys=')\n",
"disp(z,'zeroes of sys=')\n",
"n=length(p)\n",
"m=length(z)\n",
"disp(n,'no of poles=')\n",
"disp(m,'no of zeroes=')\n",
"if (n>m) then\n",
"    disp(n,'no of branches of RL=')\n",
"else\n",
"    disp(m,'no of branches of CRL=')\n",
"end\n",
"printf('the root loci are symmetrical with respect to the real axis of the plane')"
   ]
   }
,
{
		   "cell_type": "markdown",
		   "metadata": {},
		   "source": [
			"## Example 8.18: effect_of_addition_of_poles_to_system.sce"
		   ]
		  },
  {
"cell_type": "code",
	   "execution_count": null,
	   "metadata": {
	    "collapsed": true
	   },
	   "outputs": [],
"source": [
"//effect of addition of poles to sys\n",
"s=%s\n",
"sys=syslin('c',1/(s*(s+1)))    //a=1\n",
"evans(sys)\n",
"sys1=syslin('c',1/(s*(s+1)*(s+2)))   //b=2\n",
"evans(sys1)\n",
"printf('adding a pole to sys has effect of pushing the root loci towards the RHP')"
   ]
   }
,
{
		   "cell_type": "markdown",
		   "metadata": {},
		   "source": [
			"## Example 8.19: effect_of_addition_of_zeroes_to_system.sce"
		   ]
		  },
  {
"cell_type": "code",
	   "execution_count": null,
	   "metadata": {
	    "collapsed": true
	   },
	   "outputs": [],
"source": [
"//effect of addition of zeroes to sys\n",
"s=%s\n",
"sys=syslin('c',1/(s*(s+1)))    //a=1\n",
"evans(sys)\n",
"sys1=syslin('c',(s+2)/(s*(s+1)))   //b=2\n",
"//evans(sys1)\n",
"printf('adding a LHP zero to sys has effect of moving and bending the root loci towards the LHP')"
   ]
   }
,
{
		   "cell_type": "markdown",
		   "metadata": {},
		   "source": [
			"## Example 8.1: poles_and_zeros.sce"
		   ]
		  },
  {
"cell_type": "code",
	   "execution_count": null,
	   "metadata": {
	    "collapsed": true
	   },
	   "outputs": [],
"source": [
"//poles and zeroes\n",
"s=%s\n",
"sys=syslin('c',(s+1)/(s*(s+2)*(s+3)))\n",
"plzr(sys)\n",
"printf('three points on the root loci at which K=0 and those at which K=inf are shown in fig')\n",
""
   ]
   }
,
{
		   "cell_type": "markdown",
		   "metadata": {},
		   "source": [
			"## Example 8.20: effect_of_moving_poles_near_jw_axis.sce"
		   ]
		  },
  {
"cell_type": "code",
	   "execution_count": null,
	   "metadata": {
	    "collapsed": true
	   },
	   "outputs": [],
"source": [
"//effect of moving pole near jw axis\n",
"s=%s\n",
"sys1=syslin('c',(s+1)/(s^2*(s+10)))    //a=10 b=1\n",
"evans(sys1)\n",
"sys2=syslin('c',(s+1)/(s^2*(s+9)))   //a=9\n",
"evans(sys2)\n",
"sys3=syslin('c',(s+1)/(s^2*(s+8)))    //a=8\n",
"evans(sys3)\n",
"sys4=syslin('c',(s+1)/(s^2*(s+3)))   //a=3\n",
"evans(sys4)\n",
"sys5=syslin('c',(s+1)/(s^2*(s+1)))   //a=1\n",
"evans(sys5)\n",
"printf('as pole is moved towards jw axis RL also moves towards jw axis')"
   ]
   }
,
{
		   "cell_type": "markdown",
		   "metadata": {},
		   "source": [
			"## Example 8.21: effect_of_moving_poles_awat_from_jw_axis.sce"
		   ]
		  },
  {
"cell_type": "code",
	   "execution_count": null,
	   "metadata": {
	    "collapsed": true
	   },
	   "outputs": [],
"source": [
"//effect of moving pole away from jw axis\n",
"s=%s\n",
"sys1=syslin('c',(s+2)/(s*(s^2+2*s+1)))    //a=1 \n",
"evans(sys1)\n",
"sys2=syslin('c',(s+1)/(s*(s^2+2*s+1.12)))   //a=1.12\n",
"evans(sys2)\n",
"sys3=syslin('c',(s+1)/(s*(s^2+2*s+1.185)))    //a=1.185\n",
"evans(sys3)\n",
"sys4=syslin('c',(s+1)/(s*(s^2+2*s+3)))   //a=3\n",
"evans(sys4)\n",
"printf('as pole is moved away from jw axis RL also moves away from jw axis')"
   ]
   }
,
{
		   "cell_type": "markdown",
		   "metadata": {},
		   "source": [
			"## Example 8.2: root_locus.sce"
		   ]
		  },
  {
"cell_type": "code",
	   "execution_count": null,
	   "metadata": {
	    "collapsed": true
	   },
	   "outputs": [],
"source": [
"//root locus\n",
"s=%s\n",
"sys=syslin('c',(s+1)/(s*(s+2)*(s+3)))\n",
"evans(sys)\n",
"printf('number of branches of root loci is 3 as equation is of 3rd order')"
   ]
   }
,
{
		   "cell_type": "markdown",
		   "metadata": {},
		   "source": [
			"## Example 8.3: root_locus.sce"
		   ]
		  },
  {
"cell_type": "code",
	   "execution_count": null,
	   "metadata": {
	    "collapsed": true
	   },
	   "outputs": [],
"source": [
"//root locus\n",
"s=%s\n",
"sys=syslin('c',1/(s*(s+2)*(s+1)))\n",
"clf\n",
"evans(sys)\n",
"printf('root loci is symmetical to both axis')"
   ]
   }
,
{
		   "cell_type": "markdown",
		   "metadata": {},
		   "source": [
			"## Example 8.4: root_locus.sce"
		   ]
		  },
  {
"cell_type": "code",
	   "execution_count": null,
	   "metadata": {
	    "collapsed": true
	   },
	   "outputs": [],
"source": [
"//root locus\n",
"s=%s\n",
"sys=syslin('c',1/(s*(s+2)*(s^2+2*s+2)))\n",
"clf\n",
"evans(sys)\n",
"printf('when pole zero configuration is symmetrical wrt a point in s plane,then root loci is symmetrical to that point')"
   ]
   }
,
{
		   "cell_type": "markdown",
		   "metadata": {},
		   "source": [
			"## Example 8.5: root_locus.sce"
		   ]
		  },
  {
"cell_type": "code",
	   "execution_count": null,
	   "metadata": {
	    "collapsed": true
	   },
	   "outputs": [],
"source": [
"//root locus\n",
"s=%s\n",
"sys=syslin('c',(s+1)/(s*(s+4)*(s^2+2*s+2)))\n",
"clf\n",
"evans(sys)\n",
"n=4;\n",
"disp(n,'no of poles=')\n",
"m=1;\n",
"disp(m,'no of poles=')\n",
"//angle of asymptotes\n",
"printf('angle of asymptotes of RL')\n",
"for i=0:(n-m-1)\n",
"    O=((2*i)+1)/(n-m)*180\n",
"    disp(O,'q=')\n",
"    end\n",
"printf('angle of asymptotes of CRL')\n",
"for i=0:(n-m-1)\n",
"    O=(2*i)/(n-m)*180\n",
"    disp(O,'q=')\n",
"end\n",
"//centroid\n",
"printf('Centroid=((sum of all real part of poles of G(s)H(s))-(sum of all real part of zeros of G(s)H(s))/(n-m) \n')\n",
"C=((0-4-1-1)-(-1))/(n-m);\n",
"disp(C,'centroid=')"
   ]
   }
,
{
		   "cell_type": "markdown",
		   "metadata": {},
		   "source": [
			"## Example 8.8: angle_of_departure_and_angle_of_arrivals.sce"
		   ]
		  },
  {
"cell_type": "code",
	   "execution_count": null,
	   "metadata": {
	    "collapsed": true
	   },
	   "outputs": [],
"source": [
"//angle of departure and angle of arrivals\n",
"s=%s\n",
"sys=syslin('c',1/(s*(s+3)*(s^2+2*s+2)))\n",
"clf\n",
"evans(sys)\n",
"printf('angle of arrival and departure of root loci on the real axis are not affected by complex poles and zeroes of G(s)H(s)')\n",
""
   ]
   }
,
{
		   "cell_type": "markdown",
		   "metadata": {},
		   "source": [
			"## Example 8.9: multiple_order_pole.sce"
		   ]
		  },
  {
"cell_type": "code",
	   "execution_count": null,
	   "metadata": {
	    "collapsed": true
	   },
	   "outputs": [],
"source": [
"//multiple order pole\n",
"s=%s\n",
"sys=syslin('c',(s+3)/(s*(s+2)^3))\n",
"clf\n",
"evans(sys)\n",
"printf('this shows that whole real axis is occupied by RL and CRL')"
   ]
   }
],
"metadata": {
		  "kernelspec": {
		   "display_name": "Scilab",
		   "language": "scilab",
		   "name": "scilab"
		  },
		  "language_info": {
		   "file_extension": ".sce",
		   "help_links": [
			{
			 "text": "MetaKernel Magics",
			 "url": "https://github.com/calysto/metakernel/blob/master/metakernel/magics/README.md"
			}
		   ],
		   "mimetype": "text/x-octave",
		   "name": "scilab",
		   "version": "0.7.1"
		  }
		 },
		 "nbformat": 4,
		 "nbformat_minor": 0
}
