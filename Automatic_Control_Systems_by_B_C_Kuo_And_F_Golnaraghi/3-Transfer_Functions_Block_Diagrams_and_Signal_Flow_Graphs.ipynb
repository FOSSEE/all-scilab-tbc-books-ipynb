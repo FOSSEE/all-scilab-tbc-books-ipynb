{
"cells": [
 {
		   "cell_type": "markdown",
	   "metadata": {},
	   "source": [
       "# Chapter 3: Transfer Functions Block Diagrams and Signal Flow Graphs"
	   ]
	},
{
		   "cell_type": "markdown",
		   "metadata": {},
		   "source": [
			"## Example 3.10: masons_gain_formula.sce"
		   ]
		  },
  {
"cell_type": "code",
	   "execution_count": null,
	   "metadata": {
	    "collapsed": true
	   },
	   "outputs": [],
"source": [
"//applying gain formula to state diagram 3-22\n",
"//r(t),x1(t) and x2(t) are input nodes\n",
"//y(t) is output node\n",
"//superposition principle holds good\n",
"\n",
"syms s r x1 x2\n",
"//r(t) as input node and y(t) as output node\n",
"M1=0\n",
"delta1=1\n",
"delta=1\n",
"a=(M1*delta1)/delta\n",
"y1=a*r\n",
"disp(y1,'y1(t)=')\n",
"\n",
"//x1(t) as input node and y(t) as output node\n",
"M1=1\n",
"delta1=1\n",
"b=(M1*delta1)/delta\n",
"y2=b*x1\n",
"disp(y2,'y2(t)=')\n",
"\n",
"//x2(t) as input node and y(t) as output node\n",
"M1=0\n",
"delta1=1\n",
"c=(M1*delta1)/delta\n",
"y3=c*x2\n",
"disp(y3,'y3(t)=')\n",
"\n",
"disp(y1+y2+y3,'y(t)=')"
   ]
   }
,
{
		   "cell_type": "markdown",
		   "metadata": {},
		   "source": [
			"## Example 3.11: masons_gain_formula.sce"
		   ]
		  },
  {
"cell_type": "code",
	   "execution_count": null,
	   "metadata": {
	    "collapsed": true
	   },
	   "outputs": [],
"source": [
"//applying gain formula to state diagram in figure 3-23(b)\n",
"//r(t),x1(t),x2(t) and x3(t) are input nodes\n",
"//y(t) is output node\n",
"//superposition principle holds good\n",
"\n",
"syms s a0 a1 a2 a3 r x1 x2 x3\n",
"//r(t) as input node and y(t) as output node\n",
"M1=0\n",
"delta1=1\n",
"L11=-a0*a3\n",
"delta=1-(L11)\n",
"a=(M1*delta1)/delta\n",
"y1=a*r\n",
"disp(y1,'y1(t)=')\n",
"\n",
"//x1(t) as input node and y(t) as output node\n",
"M1=1\n",
"delta1=1\n",
"b=(M1*delta1)/delta\n",
"y2=b*x1\n",
"disp(y2,'y2(t)=')\n",
"\n",
"//x2(t) as input node and y(t) as output node\n",
"M1=0\n",
"delta1=1\n",
"c=(M1*delta1)/delta\n",
"y3=c*x2\n",
"disp(y3,'y3(t)=')\n",
"\n",
"//x3(t) as input node and y(t) as output node\n",
"M1=a0\n",
"delta1=1\n",
"d=(M1*delta1)/delta\n",
"y4=d*x3\n",
"disp(y4,'y4(t)=')\n",
"\n",
"disp(y1+y2+y3+y4,'y(t)=')\n",
""
   ]
   }
,
{
		   "cell_type": "markdown",
		   "metadata": {},
		   "source": [
			"## Example 3.1: closed_loop_transfer_function_matrix.sce"
		   ]
		  },
  {
"cell_type": "code",
	   "execution_count": null,
	   "metadata": {
	    "collapsed": true
	   },
	   "outputs": [],
"source": [
"//closed loop transfer function matrix\n",
"s=%s\n",
"G=[1/(s+1) -1/s;2 1/(s+2)]\n",
"H=[1 0;0 1]\n",
"GH=G*H\n",
"disp(GH,'G(s)H(s)=')\n",
"I=[1 0;0 1]\n",
"x=I+GH\n",
"y=inv(x)\n",
"M=y*G\n",
"disp(M,'M(s)=')"
   ]
   }
,
{
		   "cell_type": "markdown",
		   "metadata": {},
		   "source": [
			"## Example 3.3: masons_gain_formula_applied_to_SFG_in_figure_3_15.sce"
		   ]
		  },
  {
"cell_type": "code",
	   "execution_count": null,
	   "metadata": {
	    "collapsed": true
	   },
	   "outputs": [],
"source": [
"//mason's gain formula applied to SFG in figure 3-15\n",
"syms G H\n",
"M1=G        //as seen from SFG there is only one forward path\n",
"L11=-G*H     //only one loop and no non touching loops\n",
"delta=1-L11\n",
"delta1=1\n",
"Y=M1*delta1/delta\n",
"disp(Y,'Y(s)/R(s)=')"
   ]
   }
,
{
		   "cell_type": "markdown",
		   "metadata": {},
		   "source": [
			"## Example 3.4: masons_gain_formula.sce"
		   ]
		  },
  {
"cell_type": "code",
	   "execution_count": null,
	   "metadata": {
	    "collapsed": true
	   },
	   "outputs": [],
"source": [
"//masons gain formula applied to SFG in figure 3-8(d)\n",
"//two forward paths\n",
"syms a12 a23 a24 a25 a32 a34 a43 a44 a45\n",
"M1=a12*a23*a34*a45\n",
"M2=a12*a25\n",
"//four loops\n",
"L11=a23*a32\n",
"L21=a34*a43\n",
"L31=a24*a32*a43\n",
"L41=a44\n",
"//one pair of non touching loops\n",
"L12=a23*a32*a44\n",
"delta=1-(L11+L21+L31+L41)+(L12)\n",
"delta1=1\n",
"delta2=1-(L21+L41)\n",
"x=(M1*delta1+M2*delta2)/delta\n",
"disp(x,'y5/y1=')\n",
"//if y2 is output node\n",
"M1=a12\n",
"delta1=1-(L21+L41)\n",
"y=(M1*delta1)/delta\n",
"disp(y,'y2/y1=')"
   ]
   }
,
{
		   "cell_type": "markdown",
		   "metadata": {},
		   "source": [
			"## Example 3.5: masons_gain_formula.sce"
		   ]
		  },
  {
"cell_type": "code",
	   "execution_count": null,
	   "metadata": {
	    "collapsed": true
	   },
	   "outputs": [],
"source": [
"//mason's gain formula applied to SFG in figure 3-16\n",
"//y2 as output node\n",
"syms G1 G2 G3 G4 G5 H1 H2 H3 H4\n",
"M1=1\n",
"L11=-G1*H1\n",
"L21=-G3*H2\n",
"L31=G1*G2*G3*-H3\n",
"L41=-H4\n",
"L12=G1*H1*G3*H2\n",
"L22=G1*H1*H4\n",
"L32=G3*H2*H4\n",
"L42=-G1*G2*G3*H3*H4\n",
"L13=-G1*H1*G3*H2*H4\n",
"delta=1-(L11+L21+L31+L41)+(L12+L22+L32+L42)+L13\n",
"delta1=1-(L21+L41)+(L32)\n",
"x=M1*delta1/delta\n",
"disp(x,'y2/y1=')\n",
"//y4 as output node\n",
"M1=G1*G2\n",
"delta1=1-(L41)\n",
"y=M1*delta1/delta\n",
"disp(y,'y4/y1=')\n",
"//y6 or y7 as output node\n",
"M1=G1*G2*G3*G4\n",
"M2=G1*G5\n",
"delta1=1\n",
"delta2=1-(L21)\n",
"z=(M1*delta1+M2*delta2)/delta\n",
"disp(z,'y6/y1=y7/y1=')"
   ]
   }
,
{
		   "cell_type": "markdown",
		   "metadata": {},
		   "source": [
			"## Example 3.6: masons_gain_formula.sce"
		   ]
		  },
  {
"cell_type": "code",
	   "execution_count": null,
	   "metadata": {
	    "collapsed": true
	   },
	   "outputs": [],
"source": [
"//mason's gain formula applied to SFG in figure 3-16\n",
"//y2 as output node\n",
"syms G1 G2 G3 G4 G5 H1 H2 H3 H4\n",
"M1=1\n",
"L11=-G1*H1\n",
"L21=-G3*H2\n",
"L31=G1*G2*G3*-H3\n",
"L41=-H4\n",
"L12=G1*H1*G3*H2\n",
"L22=G1*H1*H4\n",
"L32=G3*H2*H4\n",
"L42=-G1*G2*G3*H3*H4\n",
"L13=-G1*H1*G3*H2*H4\n",
"delta=1-(L11+L21+L31+L41)+(L12+L22+L32+L42)+L13\n",
"delta1=1-(L21+L41)+(L32)\n",
"x=M1*delta1/delta\n",
"disp(x,'y2/y1=')\n",
"//y7 as output node\n",
"M1=G1*G2*G3*G4\n",
"M2=G1*G5\n",
"delta1=1\n",
"delta2=1-(L21)\n",
"y=(M1*delta1+M2*delta2)/delta\n",
"disp(y,'y7/y1=')\n",
"z=y/x             // (y7/y2)=(y7/y1)/(y2/y1)\n",
"disp(z,'y7/y2=')"
   ]
   }
,
{
		   "cell_type": "markdown",
		   "metadata": {},
		   "source": [
			"## Example 3.7: masons_gain_formula.sce"
		   ]
		  },
  {
"cell_type": "code",
	   "execution_count": null,
	   "metadata": {
	    "collapsed": true
	   },
	   "outputs": [],
"source": [
"//block diagram is converted to SFG\n",
"//mason's gain formula applied to SFG in figure 3-17\n",
"//E as output node\n",
"syms G1 G2 G3 G4 H1 H2 \n",
"M1=1\n",
"L11=-G1*G2*H1\n",
"L21=-G2*G3*H2\n",
"L31=-G1*G2*G3\n",
"L41=-G1*G4\n",
"L51=-G4*H2\n",
"delta=1-(L11+L21+L31+L41+L51)\n",
"delta1=1-(L21+L51+L11)\n",
"x=M1*delta1/delta\n",
"disp(x,'E(s)/R(s)=')\n",
"//Y as output node\n",
"M1=G1*G2*G3\n",
"M2=G1*G4\n",
"delta1=1\n",
"delta2=1\n",
"y=(M1*delta1+M2*delta2)/delta\n",
"disp(y,'Y(s)/R(s)=')"
   ]
   }
,
{
		   "cell_type": "markdown",
		   "metadata": {},
		   "source": [
			"## Example 3.9: masons_gain_formula.sce"
		   ]
		  },
  {
"cell_type": "code",
	   "execution_count": null,
	   "metadata": {
	    "collapsed": true
	   },
	   "outputs": [],
"source": [
"//finding transfer function from state diagram by applying gain formula\n",
"//state diagram is shown in fifure 3-21\n",
"syms s\n",
"//initial conditions are sset to zero\n",
"M1=s^-1*s^-1\n",
"L11=-3*s^-1\n",
"L21=-2*s^-1*s^-1\n",
"delta=1-(L11+L21)\n",
"delta1=1\n",
"x=M1*delta1/delta\n",
"disp(x,'Y(s)/R(s)=')"
   ]
   }
],
"metadata": {
		  "kernelspec": {
		   "display_name": "Scilab",
		   "language": "scilab",
		   "name": "scilab"
		  },
		  "language_info": {
		   "file_extension": ".sce",
		   "help_links": [
			{
			 "text": "MetaKernel Magics",
			 "url": "https://github.com/calysto/metakernel/blob/master/metakernel/magics/README.md"
			}
		   ],
		   "mimetype": "text/x-octave",
		   "name": "scilab",
		   "version": "0.7.1"
		  }
		 },
		 "nbformat": 4,
		 "nbformat_minor": 0
}
