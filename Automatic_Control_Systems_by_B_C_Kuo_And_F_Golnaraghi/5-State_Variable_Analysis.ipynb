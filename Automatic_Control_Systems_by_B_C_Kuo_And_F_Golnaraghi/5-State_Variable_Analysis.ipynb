{
"cells": [
 {
		   "cell_type": "markdown",
	   "metadata": {},
	   "source": [
       "# Chapter 5: State Variable Analysis"
	   ]
	},
{
		   "cell_type": "markdown",
		   "metadata": {},
		   "source": [
			"## Example 5.12: ccf_form.sce"
		   ]
		  },
  {
"cell_type": "code",
	   "execution_count": null,
	   "metadata": {
	    "collapsed": true
	   },
	   "outputs": [],
"source": [
"//OCF form\n",
"s=%s\n",
"A=[1 2 1;0 1 3;1 1 1]\n",
"B=[1;0;1]\n",
"[row,col]=size(A)\n",
"c=s*eye(row,col)-A\n",
"x=det(c)\n",
"r=coeff(x)\n",
"M=[r(1,2) r(1,3) 1;r(1,3) 1 0;1 0 0]\n",
"S=[B A*B A^2*B]\n",
"disp(S,'controllability matrix=')\n",
"if (det(S)==0) then\n",
"    printf('system cannot be transformed into ccf form')\n",
"else\n",
"    printf('system can be transformed into ccf form')\n",
"end\n",
"P=S*M\n",
"disp(P,'P=')\n",
"Accf=inv(P)*A*P\n",
"Bccf=inv(P)*B\n",
"disp(Accf,'Accf=')\n",
"disp(Bccf,'Bccf=')"
   ]
   }
,
{
		   "cell_type": "markdown",
		   "metadata": {},
		   "source": [
			"## Example 5.13: ocf_form.sce"
		   ]
		  },
  {
"cell_type": "code",
	   "execution_count": null,
	   "metadata": {
	    "collapsed": true
	   },
	   "outputs": [],
"source": [
"//OCF form\n",
"A=[1 2 1;0 1 3;1 1 1]\n",
"B=[1;0;1]\n",
"C=[1 1 0]\n",
"D=0\n",
"[row,col]=size(A)\n",
"c=s*eye(row,col)-A\n",
"x=det(c)\n",
"r=coeff(x)\n",
"M=[r(1,2) r(1,3) 1;r(1,3) 1 0;1 0 0]\n",
"V=[C;C*A;C*A^2]\n",
"disp(V,'observability matrix=')\n",
"if (det(V)==0) then\n",
"    printf('system cannot be transformed into ocf form')\n",
"else\n",
"    printf('system can be transformed into ocf form')\n",
"end\n",
"Q=inv(M*V)\n",
"disp(Q,'Q=')\n",
"Aocf=inv(Q)*A*Q\n",
"Cocf=C*Q\n",
"B=inv(Q)*B\n",
"disp(Aocf,'Aocf=')\n",
"disp(Cocf,'Cocf=')"
   ]
   }
,
{
		   "cell_type": "markdown",
		   "metadata": {},
		   "source": [
			"## Example 5.14: dcf_form.sce"
		   ]
		  },
  {
"cell_type": "code",
	   "execution_count": null,
	   "metadata": {
	    "collapsed": true
	   },
	   "outputs": [],
"source": [
"//DCF form\n",
"A=[0 1 0;0 0 1;-6 -11 -6]\n",
"x=spec(A)\n",
"T=[1 1 1;x(1,1) x(2,1) x(3,1);(x(1,1))^2 (x(2,1))^2 (x(3,1))^2]\n",
"Adcf=inv(T)*A*T\n",
"disp(Adcf,'Adcf=')"
   ]
   }
,
{
		   "cell_type": "markdown",
		   "metadata": {},
		   "source": [
			"## Example 5.18: system_with_identical_eigen_values.sce"
		   ]
		  },
  {
"cell_type": "code",
	   "execution_count": null,
	   "metadata": {
	    "collapsed": true
	   },
	   "outputs": [],
"source": [
"//system with identical eigen values\n",
"A=[1 0;0 1]   //lamda1=1\n",
"B=[2;3]       //b11=2 b21=3\n",
"S=[B A*B]\n",
"if det(S)==0 then\n",
"    printf('system is uncontrollable')\n",
"else \n",
"    printf('system is contollable')\n",
"    end"
   ]
   }
,
{
		   "cell_type": "markdown",
		   "metadata": {},
		   "source": [
			"## Example 5.19: controllability.sce"
		   ]
		  },
  {
"cell_type": "code",
	   "execution_count": null,
	   "metadata": {
	    "collapsed": true
	   },
	   "outputs": [],
"source": [
"//controllability\n",
"A=[-2 1;0 -1]\n",
"B=[1;0]\n",
"S=[B A*B]\n",
"if det(S)==0 then\n",
"    printf('system is uncontrollable')\n",
"else \n",
"    printf('system is contollable')\n",
"    end"
   ]
   }
,
{
		   "cell_type": "markdown",
		   "metadata": {},
		   "source": [
			"## Example 5.1: state_transition_equation.sce"
		   ]
		  },
  {
"cell_type": "code",
	   "execution_count": null,
	   "metadata": {
	    "collapsed": true
	   },
	   "outputs": [],
"source": [
"//state transition equation\n",
"//as seen from state equation A=[0 1;-2 -3] B=[0;1] E=0;\n",
"A=[0 1;-2 -3] \n",
"B=[0;1]\n",
"s=poly(0,'s');\n",
"[Row Col]=size(A)    //Size of a matrix\n",
"m=s*eye(Row,Col)-A   //sI-A\n",
"n=det(m)             //To Find The Determinant of si-A\n",
"p=inv(m) ;           // To Find The Inverse Of sI-A\n",
"U=1/s\n",
"p=p*U\n",
"syms t s;\n",
"disp(p,'phi(s)=')   //Resolvent Matrix\n",
"for i=1:Row\n",
"for j=1:Col\n",
"//Taking Inverse Laplace of each element of Matrix phi(s)\n",
"q(i,j)=ilaplace(p(i,j),s,t);  \n",
"end;\n",
"end;\n",
"disp(q,'phi(t)=')//State Transition Matrix\n",
"y=q*B; //x(t)=phi(t)*x(0)\n",
"disp(y,'Solution To The given eq.=')"
   ]
   }
,
{
		   "cell_type": "markdown",
		   "metadata": {},
		   "source": [
			"## Example 5.20: controllability.sce"
		   ]
		  },
  {
"cell_type": "code",
	   "execution_count": null,
	   "metadata": {
	    "collapsed": true
	   },
	   "outputs": [],
"source": [
"//controllability\n",
"A=[1 2 -1;0 1 0;1 -4 3]\n",
"B=[0;0;1]\n",
"S=[B A*B A^2*B]\n",
"if det(S)==0 then\n",
"    printf('system is uncontrollable')\n",
"else \n",
"    printf('system is contollable')\n",
"    end"
   ]
   }
,
{
		   "cell_type": "markdown",
		   "metadata": {},
		   "source": [
			"## Example 5.21: observability.sce"
		   ]
		  },
  {
"cell_type": "code",
	   "execution_count": null,
	   "metadata": {
	    "collapsed": true
	   },
	   "outputs": [],
"source": [
"//observability\n",
"A=[-2 0;0 -1]\n",
"B=[3;1]\n",
"C=[1 0]\n",
"V=[C;C*A]\n",
"if det(V)==0 then\n",
"    printf('system is unobservable')\n",
"else \n",
"    printf('system is observable')\n",
"    end"
   ]
   }
,
{
		   "cell_type": "markdown",
		   "metadata": {},
		   "source": [
			"## Example 5.7: characteristic_equation_from_transfer_function.sce"
		   ]
		  },
  {
"cell_type": "code",
	   "execution_count": null,
	   "metadata": {
	    "collapsed": true
	   },
	   "outputs": [],
"source": [
"//characteristic equation from transfer function\n",
"s=%s\n",
"sys=syslin('c',1/(s^3+5*s^2+s+2))\n",
"c=denom(sys)\n",
"disp(c,'characteristic equation=')"
   ]
   }
,
{
		   "cell_type": "markdown",
		   "metadata": {},
		   "source": [
			"## Example 5.8: characteristic_equation_from_state_equation.sce"
		   ]
		  },
  {
"cell_type": "code",
	   "execution_count": null,
	   "metadata": {
	    "collapsed": true
	   },
	   "outputs": [],
"source": [
"//characteristic equation from state equation\n",
"A=[0 1 0;0 0 1;-2 -1 -5]\n",
"B=[0;0;1]\n",
"C=[1 0 0]\n",
"D=[0]\n",
"[Row Col]=size(A)\n",
"Gr=C*inv(s*eye(Row,Col)-A)*B+D\n",
"c=denom(Gr)\n",
"disp(c,'characteristic equation=')"
   ]
   }
,
{
		   "cell_type": "markdown",
		   "metadata": {},
		   "source": [
			"## Example 5.9: eigen_values.sce"
		   ]
		  },
  {
"cell_type": "code",
	   "execution_count": null,
	   "metadata": {
	    "collapsed": true
	   },
	   "outputs": [],
"source": [
"//eigen values \n",
"A=[0 1 0;0 0 1;-2 -1 -5]\n",
"e=spec(A)     //spec gives eigen values of matrix\n",
"disp(e,'eigen values=')"
   ]
   }
],
"metadata": {
		  "kernelspec": {
		   "display_name": "Scilab",
		   "language": "scilab",
		   "name": "scilab"
		  },
		  "language_info": {
		   "file_extension": ".sce",
		   "help_links": [
			{
			 "text": "MetaKernel Magics",
			 "url": "https://github.com/calysto/metakernel/blob/master/metakernel/magics/README.md"
			}
		   ],
		   "mimetype": "text/x-octave",
		   "name": "scilab",
		   "version": "0.7.1"
		  }
		 },
		 "nbformat": 4,
		 "nbformat_minor": 0
}
