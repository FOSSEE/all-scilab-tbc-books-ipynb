{
"cells": [
 {
		   "cell_type": "markdown",
	   "metadata": {},
	   "source": [
       "# Chapter 9: Frequency Domain Analysis"
	   ]
	},
{
		   "cell_type": "markdown",
		   "metadata": {},
		   "source": [
			"## Example 9.10: multiple_loop_systems.sce"
		   ]
		  },
  {
"cell_type": "code",
	   "execution_count": null,
	   "metadata": {
	    "collapsed": true
	   },
	   "outputs": [],
"source": [
"//multiple loop systems\n",
"s=%s\n",
"innerloop=syslin('c',6/s*(s+1)*(s+2))\n",
"nyquist(innerloop)\n",
"show_margins(innerloop,'nyquist')\n",
"printf('nyquist plot intersects jw axis at -1 so innerloop is marginally stable')\n",
"outerloop=syslin('c',100*(s+0.1)/(s+10)*(s^3+3*s^2+2*s+6))\n",
"//nyquist(outerloop)\n",
"show_margins(outerloop,'nyquist')\n",
"P=0//no of poles on RHP\n",
"Pw=2//no of poles on jw axis\n",
"theta=-(Z-P-0.5*Pw)*180\n",
"Z=0//for outer loop to be stable\n",
"disp(theta,'theta for stability=')\n",
"printf('theta as seen from nyquist plot is same as that required for stability \n hence outer loop is stable')"
   ]
   }
,
{
		   "cell_type": "markdown",
		   "metadata": {},
		   "source": [
			"## Example 9.14: gain_margin_and_phase_margin.sce"
		   ]
		  },
  {
"cell_type": "code",
	   "execution_count": null,
	   "metadata": {
	    "collapsed": true
	   },
	   "outputs": [],
"source": [
"//gain margin and phase margin\n",
"s=%s;\n",
"sys=syslin('c',(2500)/(s*(s+5)*(s+50)))\n",
"nyquist(sys)\n",
"show_margins(sys,'nyquist')\n",
"gm=g_margin(sys)\n",
"pm=p_margin(sys)\n",
"disp(gm,'gain margin=')\n",
"disp(pm,'phase margin=')"
   ]
   }
,
{
		   "cell_type": "markdown",
		   "metadata": {},
		   "source": [
			"## Example 9.15: bode_plot.sce"
		   ]
		  },
  {
"cell_type": "code",
	   "execution_count": null,
	   "metadata": {
	    "collapsed": true
	   },
	   "outputs": [],
"source": [
"//bode plot\n",
"s=%s;\n",
"sys=syslin('c',(2500)/(s*(s+5)*(s+50)))\n",
"bode(sys)\n",
"show_margins(sys,'bode')\n",
"gm=g_margin(sys)\n",
"pm=p_margin(sys)\n",
"disp(gm,'gain margin=')\n",
"disp(pm,'phase margin=')\n",
"if (gm<=0 | pm<=0)\n",
"  printf('system is unstable')\n",
"else \n",
"  printf('system is stable')\n",
"  end "
   ]
   }
,
{
		   "cell_type": "markdown",
		   "metadata": {},
		   "source": [
			"## Example 9.17: relative_stability.sce"
		   ]
		  },
  {
"cell_type": "code",
	   "execution_count": null,
	   "metadata": {
	    "collapsed": true
	   },
	   "outputs": [],
"source": [
"//relative stability\n",
"s=%s;\n",
"sys=syslin('c',(100)*(s+5)*(s+40)/(s^3*(s+100)*(s+200)))//K=1\n",
"bode(sys)\n",
"show_margins(sys,'bode')\n",
"gm=g_margin(sys)\n",
"pm=p_margin(sys)\n",
"disp(gm,'gain margin=')\n",
"disp(pm,'phase margin=')\n",
"if (gm<=0 | pm<=0)\n",
"  printf('system is unstable')\n",
"else \n",
"  printf('system is stable')\n",
"  end "
   ]
   }
,
{
		   "cell_type": "markdown",
		   "metadata": {},
		   "source": [
			"## Example 9.1: nyquist_plot.sce"
		   ]
		  },
  {
"cell_type": "code",
	   "execution_count": null,
	   "metadata": {
	    "collapsed": true
	   },
	   "outputs": [],
"source": [
"//nyquist plot\n",
"s=%s;\n",
"sys=syslin('c',1/(s*(s+2)*(s+10)))\n",
"nyquist(sys)\n",
"show_margins(sys,'nyquist')\n",
"K=kpure(sys)\n",
"disp(K,'system is stable for 0<K<')"
   ]
   }
,
{
		   "cell_type": "markdown",
		   "metadata": {},
		   "source": [
			"## Example 9.2: nyquist_plot.sce"
		   ]
		  },
  {
"cell_type": "code",
	   "execution_count": null,
	   "metadata": {
	    "collapsed": true
	   },
	   "outputs": [],
"source": [
"//nyquist plot\n",
"s=%s;\n",
"sys=syslin('c',s*(s^2+2*s+2)/(s^2+5*s+1))\n",
"nyquist(sys)\n",
"show_margins(sys,'nyquist')\n",
"printf('Since P=0(no of poles in RHP)=Poles of G(s)H(s) \n here the number of zeros of 1+G(s)H(s) in the RHP is N>0 \n hence the system is unstable')     \n",
"\n",
""
   ]
   }
,
{
		   "cell_type": "markdown",
		   "metadata": {},
		   "source": [
			"## Example 9.3: stability_of_non_minimum_phase_loop_tf.sce"
		   ]
		  },
  {
"cell_type": "code",
	   "execution_count": null,
	   "metadata": {
	    "collapsed": true
	   },
	   "outputs": [],
"source": [
"//stability of non minimum phase loop transfer_function\n",
"s=%s;\n",
"sys=syslin('c',(s^2-s+1)/s*(s^2-6*s+5))\n",
"nyquist(sys)\n",
"show_margins(sys,'nyquist')\n",
"printf('Z=0 hence sys is closed loop stable but as it is a non minimum phase loop_function it should satisfy angle criterion')\n",
"Z=0//no of zeroes of 1+G(s)H(s) in RHP\n",
"P=2//no of poles in RHP\n",
"Pw=1//no of poles on jw axis including origin\n",
"theta=(Z-P-0.5*Pw)*180\n",
"disp(theta,'theta=')\n",
"printf('theta from nyquist_plot = -90 \n hence system is unstabe')"
   ]
   }
,
{
		   "cell_type": "markdown",
		   "metadata": {},
		   "source": [
			"## Example 9.4: stability_of_minimum_phase_loop_tf.sce"
		   ]
		  },
  {
"cell_type": "code",
	   "execution_count": null,
	   "metadata": {
	    "collapsed": true
	   },
	   "outputs": [],
"source": [
"//stability of minimum phase loop transfer function\n",
"s=%s;\n",
"sys=syslin('c',1/(s*(s+2)*(s+10)))\n",
"nyquist(sys)\n",
"show_margins(sys,'nyquist') \n",
"Z=0//no of zeroes of 1+G(s)H(s) in RHP\n",
"P=0//no of poles in RHP\n",
"Pw=1//no of poles on jw axis including origin\n",
"theta=(Z-P-0.5*Pw)*180\n",
"disp(theta,'theta=')\n",
"printf('theta from nyquist_plot = -90 \n hence system is stabe')"
   ]
   }
,
{
		   "cell_type": "markdown",
		   "metadata": {},
		   "source": [
			"## Example 9.5: stability_of_non_minimum_phase_loop_tf.sce"
		   ]
		  },
  {
"cell_type": "code",
	   "execution_count": null,
	   "metadata": {
	    "collapsed": true
	   },
	   "outputs": [],
"source": [
"//stability of non minimum phase loop transfer_function\n",
"s=%s;\n",
"sys=syslin('c',(s-1)/s*(s+1))\n",
"nyquist(sys)\n",
"show_margins(sys,'nyquist')\n",
"P=0//no of poles in RHP\n",
"Pw=1//no of poles on jw axis including origin\n",
"theta=90//as seen from nyquist plot\n",
"Z=(theta/180)+0.5*Pw+P\n",
"disp(Z,'Z=')\n",
"printf('Z is not equal to 0. \n hence system is unstabe')"
   ]
   }
,
{
		   "cell_type": "markdown",
		   "metadata": {},
		   "source": [
			"## Example 9.6: stability_of_non_minimum_phase_loop_tf.sce"
		   ]
		  },
  {
"cell_type": "code",
	   "execution_count": null,
	   "metadata": {
	    "collapsed": true
	   },
	   "outputs": [],
"source": [
"//stability of non minimum phase loop transfer_function\n",
"s=%s;\n",
"sys=syslin('c',10*(s+2)/(s^3+3*s^2+10))\n",
"nyquist(sys)\n",
"show_margins(sys,'nyquist')\n",
"printf('Z=0 hence sys is closed loop stable but as it is a non minimum phase loop_function it should satisfy angle criterion')\n",
"Z=0//no of zeroes of 1+G(s)H(s) in RHP\n",
"P=2//no of poles in RHP\n",
"Pw=0//no of poles on jw axis including origin\n",
"theta=(Z-P-0.5*Pw)*180\n",
"disp(theta,'theta for stability=')\n",
"printf('theta from nyquist_plot = -360 \n hence system is stabe')"
   ]
   }
,
{
		   "cell_type": "markdown",
		   "metadata": {},
		   "source": [
			"## Example 9.7: stability_of_non_minimum_phase_loop_tf.sce"
		   ]
		  },
  {
"cell_type": "code",
	   "execution_count": null,
	   "metadata": {
	    "collapsed": true
	   },
	   "outputs": [],
"source": [
"//stability of non minimum phase loop transfer_function\n",
"s=%s;\n",
"sys=syslin('c',1/(s+2)*(s^2+4))\n",
"nyquist(sys)\n",
"show_margins(sys,'nyquist')\n",
"Z=0//no of zeroes of 1+G(s)H(s) in RHP(for sys to be stable)\n",
"P=0//no of poles in RHP\n",
"Pw=2//no of poles on jw axis including origin\n",
"theta=(Z-P-0.5*Pw)*180\n",
"disp(theta,'for stability theta=')\n",
"printf('theta from nyquist_plot = 135 \n hence system is unstabe')"
   ]
   }
,
{
		   "cell_type": "markdown",
		   "metadata": {},
		   "source": [
			"## Example 9.8: effect_of_addition_of_poles.sce"
		   ]
		  },
  {
"cell_type": "code",
	   "execution_count": null,
	   "metadata": {
	    "collapsed": true
	   },
	   "outputs": [],
"source": [
"//effect of addition of poles\n",
"s=%s;\n",
"sys1=syslin('c',1/(s^2*(s+1)))//taking T1=1\n",
"nyquist(sys1)\n",
"show_margins(sys1,'nyquist') \n",
"sys2=syslin('c',1/(s^3*(s+1)))\n",
"//nyquist(sys2)\n",
"//show_margins(sys2,'nyquist')  \n",
"printf('these two plots show that addition of poles decreases stability') "
   ]
   }
,
{
		   "cell_type": "markdown",
		   "metadata": {},
		   "source": [
			"## Example 9.9: effect_of_addition_of_zeroes.sce"
		   ]
		  },
  {
"cell_type": "code",
	   "execution_count": null,
	   "metadata": {
	    "collapsed": true
	   },
	   "outputs": [],
"source": [
"//effect of addition of zeroes\n",
"s=%s;\n",
"sys1=syslin('c',1/(s*(s+1)*(2*s+1)))//taking T1=1,T2=2\n",
"nyquist(sys1)\n",
"show_margins(sys1,'nyquist') \n",
"sys2=syslin('c',(3*s+1)/(s*(s+1)*(2*s+1)))//Td=3\n",
"//nyquist(sys2)\n",
"//show_margins(sys2,'nyquist')  \n",
"printf('these two plots show that addition of poles increases stability') "
   ]
   }
],
"metadata": {
		  "kernelspec": {
		   "display_name": "Scilab",
		   "language": "scilab",
		   "name": "scilab"
		  },
		  "language_info": {
		   "file_extension": ".sce",
		   "help_links": [
			{
			 "text": "MetaKernel Magics",
			 "url": "https://github.com/calysto/metakernel/blob/master/metakernel/magics/README.md"
			}
		   ],
		   "mimetype": "text/x-octave",
		   "name": "scilab",
		   "version": "0.7.1"
		  }
		 },
		 "nbformat": 4,
		 "nbformat_minor": 0
}
