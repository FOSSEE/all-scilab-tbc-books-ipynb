{
"cells": [
 {
		   "cell_type": "markdown",
	   "metadata": {},
	   "source": [
       "# Chapter 4: Mathematical Modelling of Physical Systems"
	   ]
	},
{
		   "cell_type": "markdown",
		   "metadata": {},
		   "source": [
			"## Example 4.1: transfer_fnuction_of_system.sce"
		   ]
		  },
  {
"cell_type": "code",
	   "execution_count": null,
	   "metadata": {
	    "collapsed": true
	   },
	   "outputs": [],
"source": [
"//transfer function of the system\n",
"//from state diagram in 4-1(b)\n",
"//initial conditions are taken as zero\n",
"//considering voltage across capacitor as output \n",
"syms R L C\n",
"s=%s\n",
"M1=(1/L)*(s^-1)*(1/C)*(s^-1)\n",
"L11=-(s^-1)*(R/L)\n",
"delta=1-(L11)\n",
"delta1=1\n",
"x=M1*delta1/delta\n",
"disp(x,'Ec(s)/E(s)=')\n",
"//considering current in the circuit as output\n",
"M1=(1/L)*(s^-1)\n",
"delta1=1\n",
"y=M1*delta1/delta\n",
"disp(y,'I(s)/E(s)=')"
   ]
   }
,
{
		   "cell_type": "markdown",
		   "metadata": {},
		   "source": [
			"## Example 4.2: transfer_fnuction_of_electric_network.sce"
		   ]
		  },
  {
"cell_type": "code",
	   "execution_count": null,
	   "metadata": {
	    "collapsed": true
	   },
	   "outputs": [],
"source": [
"//transfer function of electric network\n",
"//from state diagram in 4-2(b)\n",
"//inital conditions are taken as zero\n",
"//considering i1 as output\n",
"syms R1 R2 L1 L2 C\n",
"s=%s\n",
"M1=(1/L1)*(s^-1)\n",
"L11=-(s^-1)*(R1/L1)\n",
"L21=-(s^-1)*(1/C)*(s^-1)*(1/L1)\n",
"L31=-(s^-1)*(1/L2)*(s^-1)*(1/C)\n",
"L41=-(s^-1)*(R2/L2)\n",
"L12=L11*L31\n",
"L22=L11*L41\n",
"L32=L21*L41\n",
"delta=1-(L11+L21+L31+L41)+(L12+L22+L32)\n",
"delta1=1-(L31+L41)\n",
"x=M1*delta1/delta\n",
"disp(x,'I1(s)/E(s)=')\n",
"//considering i2 as output\n",
"M1=(1/L1)*(s^-1)*(1/C)*(s^-1)*(1/L2)*(s^-1)\n",
"delta1=1\n",
"y=M1*delta1/delta\n",
"disp(y,'I2(s)/E(s)=')\n",
"//considering voltage across capacitor as output\n",
"M1=(1/L1)*(s^-1)*(1/C)*(s^-1)\n",
"delta1=1-L41\n",
"z=M1*delta1/delta\n",
"disp(z,'Ec(s)/E(s)=')"
   ]
   }
,
{
		   "cell_type": "markdown",
		   "metadata": {},
		   "source": [
			"## Example 4.3: gear_trains.sce"
		   ]
		  },
  {
"cell_type": "code",
	   "execution_count": null,
	   "metadata": {
	    "collapsed": true
	   },
	   "outputs": [],
"source": [
"//gear trains\n",
"printf('Given \n inertia(J2)=0.05oz-in.-sec^2 \n frictional torque(T2)=2oz-in. \n N1/N2(r)=1/5')\n",
"J2=0.05;\n",
"disp(J2,'J2=')\n",
"T2=2;\n",
"disp(T2,'T2=')\n",
"r=1/5\n",
"disp(r,'N1/N2=')\n",
"printf('J1=(N1/N2)^2*J2 \n T1=(N1/N2)*T2')\n",
"J1=(r)^2*J2;\n",
"disp(J1,'The reflected inertia on side of N1=')\n",
"T1=(r)*T2\n",
"disp(T1,'The reflected coulumb friction is=')"
   ]
   }
,
{
		   "cell_type": "markdown",
		   "metadata": {},
		   "source": [
			"## Example 4.4: mass_spring_system.sce"
		   ]
		  },
  {
"cell_type": "code",
	   "execution_count": null,
	   "metadata": {
	    "collapsed": true
	   },
	   "outputs": [],
"source": [
"//mass-spring system\n",
"//free body diagram and state diagram are drawn as shown in figure 4-18(b) and 4-18(c)\n",
"//applying gain formula to state diagram\n",
"syms K M B\n",
"s=%s\n",
"M1=(1/M)*(s^-2)\n",
"L11=-(B/M)*(s^-1)\n",
"L21=-(K/M)*(s^-2)\n",
"delta=1-(L11+L21)\n",
"delta1=1\n",
"x=M1*delta1/delta\n",
"disp(x,'Y(s)/F(s)=')"
   ]
   }
,
{
		   "cell_type": "markdown",
		   "metadata": {},
		   "source": [
			"## Example 4.5: mass_spring_system.sce"
		   ]
		  },
  {
"cell_type": "code",
	   "execution_count": null,
	   "metadata": {
	    "collapsed": true
	   },
	   "outputs": [],
"source": [
"//mass-spring system\n",
"//free body diagram and state diagram are drawn as shown in figure 4-19(b) and 4-19(c)\n",
"//applying gain formula to state diagram\n",
"syms K M B\n",
"s=%s\n",
"//considering y1 as output\n",
"M1=(1/M)\n",
"L11=-(B/M)*(s^-1)\n",
"L21=-(K/M)*(s^-2)\n",
"L31=(K/M)*(s^-2)\n",
"delta=1-(L11+L21+L31)\n",
"delta1=1-(L11+L21)\n",
"x=M1*delta1/delta\n",
"disp(x,'Y1(s)/F(s)=')\n",
"//considering y2 as output\n",
"M1=(1/K)*(K/M)*(s^-2)\n",
"delta1=1\n",
"y=M1*delta1/delta\n",
"disp(y,'Y2(s)/F(s)=')"
   ]
   }
,
{
		   "cell_type": "markdown",
		   "metadata": {},
		   "source": [
			"## Example 4.9: incremental_encoder.sce"
		   ]
		  },
  {
"cell_type": "code",
	   "execution_count": null,
	   "metadata": {
	    "collapsed": true
	   },
	   "outputs": [],
"source": [
"//incremental encoder\n",
"//2 sinusoidal signals\n",
"//generates four zero crossings per cycle(zc)\n",
"//printwheel has 96 characters on its pheriphery(ch) and encoder has 480 cycles(cyc)\n",
"zc=4    \n",
"ch=96\n",
"cyc=480\n",
"zcpr=cyc*zc  //zero crossings per revolution\n",
"disp(zcpr,'zero_crossings_per_revolution=')\n",
"zcpc=zcpr/ch //zreo crossings per character\n",
"disp(zcpc,'zero_crossings_per_character=')\n",
"//500khz clock is used\n",
"//500 pulses/zero crossing\n",
"shaft_speed=500000/500\n",
"x=shaft_speed/zcpr\n",
"disp(x,'ans=')   //in rev per sec"
   ]
   }
],
"metadata": {
		  "kernelspec": {
		   "display_name": "Scilab",
		   "language": "scilab",
		   "name": "scilab"
		  },
		  "language_info": {
		   "file_extension": ".sce",
		   "help_links": [
			{
			 "text": "MetaKernel Magics",
			 "url": "https://github.com/calysto/metakernel/blob/master/metakernel/magics/README.md"
			}
		   ],
		   "mimetype": "text/x-octave",
		   "name": "scilab",
		   "version": "0.7.1"
		  }
		 },
		 "nbformat": 4,
		 "nbformat_minor": 0
}
