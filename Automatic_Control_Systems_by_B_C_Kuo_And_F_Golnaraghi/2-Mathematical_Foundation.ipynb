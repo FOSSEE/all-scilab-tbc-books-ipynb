{
"cells": [
 {
		   "cell_type": "markdown",
	   "metadata": {},
	   "source": [
       "# Chapter 2: Mathematical Foundation"
	   ]
	},
{
		   "cell_type": "markdown",
		   "metadata": {},
		   "source": [
			"## Example 2.10: determinant_of_matrix.sce"
		   ]
		  },
  {
"cell_type": "code",
	   "execution_count": null,
	   "metadata": {
	    "collapsed": true
	   },
	   "outputs": [],
"source": [
"//determinant of the matrix\n",
"A=[1 2;3 4]\n",
"d=det(A)\n",
"disp(d)"
   ]
   }
,
{
		   "cell_type": "markdown",
		   "metadata": {},
		   "source": [
			"## Example 2.12: transpose_of_matrix.sce"
		   ]
		  },
  {
"cell_type": "code",
	   "execution_count": null,
	   "metadata": {
	    "collapsed": true
	   },
	   "outputs": [],
"source": [
"//transpose of a matrix\n",
"A=[3 2 1;0 -1 5]\n",
"t=A'\n",
"disp(t)"
   ]
   }
,
{
		   "cell_type": "markdown",
		   "metadata": {},
		   "source": [
			"## Example 2.13: adjoint_of_matrix.sce"
		   ]
		  },
  {
"cell_type": "code",
	   "execution_count": null,
	   "metadata": {
	    "collapsed": true
	   },
	   "outputs": [],
"source": [
"//adjoint of a matrix\n",
"A=[1 2;3 4]\n",
"i=inv(A)\n",
"a=i.*det(A)\n",
"disp(a)"
   ]
   }
,
{
		   "cell_type": "markdown",
		   "metadata": {},
		   "source": [
			"## Example 2.14: equality_of_matrices.sce"
		   ]
		  },
  {
"cell_type": "code",
	   "execution_count": null,
	   "metadata": {
	    "collapsed": true
	   },
	   "outputs": [],
"source": [
"//equality of matrices\n",
"A=[1 2;3 4]\n",
"B=[1 2;3 4]\n",
"x=1;\n",
"for i=1:2\n",
"  for j=1:2\n",
"    if A(i,j)~=B(i,j) then\n",
"     x=0\n",
"    end\n",
"  end\n",
"end\n",
"if x==1 then\n",
"  disp('matrices are equal')\n",
"else \n",
"  disp('matrices are not equal')\n",
"end\n",
"\n",
"  "
   ]
   }
,
{
		   "cell_type": "markdown",
		   "metadata": {},
		   "source": [
			"## Example 2.15: addition_of_matrices.sce"
		   ]
		  },
  {
"cell_type": "code",
	   "execution_count": null,
	   "metadata": {
	    "collapsed": true
	   },
	   "outputs": [],
"source": [
"//addition of matrices\n",
"A=[3 2;-1 4;0 -1]\n",
"B=[0 3;-1 2;1 0]\n",
"s=A+B\n",
"disp(s)"
   ]
   }
,
{
		   "cell_type": "markdown",
		   "metadata": {},
		   "source": [
			"## Example 2.16: conformability_for_multiplication_of_matrices.sce"
		   ]
		  },
  {
"cell_type": "code",
	   "execution_count": null,
	   "metadata": {
	    "collapsed": true
	   },
	   "outputs": [],
"source": [
"//conformablility for multiplication of matrices\n",
"A=[1 2 3;4 5 6]\n",
"B=[1 2 3]\n",
"C=size(A)\n",
"D=size(B)\n",
"if C(1,2)==D(1,1) then\n",
"    disp('matrices  are conformable for multiplication AB')\n",
"else \n",
"    disp('matrices  are not conformable for multiplication AB')\n",
"end\n",
"if D(1,2)==C(1,1) then\n",
"    disp('matrices  are conformable for multiplication BA')\n",
"else \n",
"    disp('matrices  are not conformable for multiplication BA')\n",
"end"
   ]
   }
,
{
		   "cell_type": "markdown",
		   "metadata": {},
		   "source": [
			"## Example 2.17: multiplication_of_matrices.sce"
		   ]
		  },
  {
"cell_type": "code",
	   "execution_count": null,
	   "metadata": {
	    "collapsed": true
	   },
	   "outputs": [],
"source": [
"//multiplication of matrices\n",
"A=[3 -1;0 1;2 0]\n",
"B=[1 0 -1;2 1 0]\n",
"C=size(A)\n",
"D=size(B)\n",
"if C(1,2)==D(1,1) then\n",
"    AB=A*B\n",
"    disp(AB,'AB=')\n",
"else \n",
"    disp('matrices  are not conformable for multiplication AB')\n",
"end\n",
"if D(1,2)==C(1,1) then\n",
"    BA=B*A\n",
"    disp(BA,'BA=')\n",
"else \n",
"    disp('matrices  are not conformable for multiplication BA')\n",
"end"
   ]
   }
,
{
		   "cell_type": "markdown",
		   "metadata": {},
		   "source": [
			"## Example 2.18: inverse_of_2x2_matrix.sce"
		   ]
		  },
  {
"cell_type": "code",
	   "execution_count": null,
	   "metadata": {
	    "collapsed": true
	   },
	   "outputs": [],
"source": [
"//inverse of 2 X 2  matrix\n",
"A=[1 2;3 4]\n",
"d=det(A)\n",
"if det(A)~=0 then\n",
"    i=inv(A)\n",
"    disp(i,'A^-1=')\n",
"else\n",
"    disp('inverse of a singular matrix doesnt exist')\n",
"end"
   ]
   }
,
{
		   "cell_type": "markdown",
		   "metadata": {},
		   "source": [
			"## Example 2.19: inverse_of_3x3_matrix.sce"
		   ]
		  },
  {
"cell_type": "code",
	   "execution_count": null,
	   "metadata": {
	    "collapsed": true
	   },
	   "outputs": [],
"source": [
"//inverse of a 3 X 3 matrix\n",
"A=[1 2 3;4 5 6;7 8 9]\n",
"d=det(A)\n",
"if det(A)~=0 then\n",
"    i=inv(A)\n",
"    disp(i,'A^-1=')\n",
"else\n",
"    disp('inverse of a singular matrix doesnt exist')\n",
"end"
   ]
   }
,
{
		   "cell_type": "markdown",
		   "metadata": {},
		   "source": [
			"## Example 2.1: laplace_transform_of_step_function.sce"
		   ]
		  },
  {
"cell_type": "code",
	   "execution_count": null,
	   "metadata": {
	    "collapsed": true
	   },
	   "outputs": [],
"source": [
"//laplace transform of unit function\n",
"syms t s \n",
"y=laplace('1',t,s)\n",
"disp(y,'F(s)=')"
   ]
   }
,
{
		   "cell_type": "markdown",
		   "metadata": {},
		   "source": [
			"## Example 2.20: rank_of_a_matrix.sce"
		   ]
		  },
  {
"cell_type": "code",
	   "execution_count": null,
	   "metadata": {
	    "collapsed": true
	   },
	   "outputs": [],
"source": [
"//rank of a matrix\n",
"A=[0 1;0 1]\n",
"[E,Q,Z ,stair ,rk1]=ereduc(A,1.d-15)\n",
"disp(rk1,'rank of A=')\n",
"B=[0 5 1 4;3 0 3 2]\n",
"[E,Q,Z ,stair ,rk2]=ereduc(B,1.d-15)\n",
"disp(rk2,'rank of B=')\n",
"C=[3 9 2;1 3 0;2 6 1]\n",
"[E,Q,Z ,stair ,rk3]=ereduc(C,1.d-15)\n",
"disp(rk3,'rank of C=')\n",
"D=[3 0 0;1 2 0;0 0 1]\n",
"[E,Q,Z ,stair ,rk4]=ereduc(D,1.d-15)\n",
"disp(rk4,'rank of D=')"
   ]
   }
,
{
		   "cell_type": "markdown",
		   "metadata": {},
		   "source": [
			"## Example 2.21: z_transform.sce"
		   ]
		  },
  {
"cell_type": "code",
	   "execution_count": null,
	   "metadata": {
	    "collapsed": true
	   },
	   "outputs": [],
"source": [
"//z transform   \n",
"syms n z;\n",
"a=1;\n",
"x =%e^-(a*n);\n",
"X = symsum(x*(z^(-n)),n,0,%inf)\n",
"disp(X,'ans=')"
   ]
   }
,
{
		   "cell_type": "markdown",
		   "metadata": {},
		   "source": [
			"## Example 2.22: z_transform.sce"
		   ]
		  },
  {
"cell_type": "code",
	   "execution_count": null,
	   "metadata": {
	    "collapsed": true
	   },
	   "outputs": [],
"source": [
"//z transform\n",
"syms n z;\n",
"x =1;\n",
"X = symsum(x*(z^(-n)),n,0,%inf)\n",
"disp(X,'ans=')"
   ]
   }
,
{
		   "cell_type": "markdown",
		   "metadata": {},
		   "source": [
			"## Example 2.23: z_transform.sce"
		   ]
		  },
  {
"cell_type": "code",
	   "execution_count": null,
	   "metadata": {
	    "collapsed": true
	   },
	   "outputs": [],
"source": [
"//z transform \n",
"//t=k*T\n",
"syms k z;\n",
"a=1;\n",
"T=1;\n",
"x =%e^-(a*k*T);\n",
"X = symsum(x*(z^(-k)),k,0,%inf)\n",
"disp(X,'ans=')"
   ]
   }
,
{
		   "cell_type": "markdown",
		   "metadata": {},
		   "source": [
			"## Example 2.25: final_value_thereom.sce"
		   ]
		  },
  {
"cell_type": "code",
	   "execution_count": null,
	   "metadata": {
	    "collapsed": true
	   },
	   "outputs": [],
"source": [
"//final  value thereom\n",
"z=%z\n",
"sys=syslin('c',0.792*z^2/((z-1)*(z^2-0.416*z+0.208)))\n",
"syms z\n",
"l=limit(sys*(1-z^-1),z,1)\n",
"disp(l,'limit as k approaches infinity=')"
   ]
   }
,
{
		   "cell_type": "markdown",
		   "metadata": {},
		   "source": [
			"## Example 2.2: laplace_transform_of_exponential_function.sci"
		   ]
		  },
  {
"cell_type": "code",
	   "execution_count": null,
	   "metadata": {
	    "collapsed": true
	   },
	   "outputs": [],
"source": [
"//laplace transform of exponential function\n",
" syms t s;\n",
" y=laplace('%e^(-1*t)',t,s);\n",
" disp(y,'ans=')"
   ]
   }
,
{
		   "cell_type": "markdown",
		   "metadata": {},
		   "source": [
			"## Example 2.3: final_value_thereom.sci"
		   ]
		  },
  {
"cell_type": "code",
	   "execution_count": null,
	   "metadata": {
	    "collapsed": true
	   },
	   "outputs": [],
"source": [
"//final value thereom\n",
"syms s\n",
"d=poly([0 2 1 1],'s','coeff')\n",
"n=poly([5],'s','coeff')\n",
"f=n/d;\n",
"disp(f,'F(s)=')\n",
"x=s*f;\n",
"y=limit(x,s,0); // final value theorem\n",
"disp(y,'f(inf)=')"
   ]
   }
,
{
		   "cell_type": "markdown",
		   "metadata": {},
		   "source": [
			"## Example 2.4: inverse_laplace.sce"
		   ]
		  },
  {
"cell_type": "code",
	   "execution_count": null,
	   "metadata": {
	    "collapsed": true
	   },
	   "outputs": [],
"source": [
"//inverse laplace\n",
"syms s \n",
"F=1/(s^2+1)        //w=1\n",
"disp(F,'F(s)=')\n",
"f=ilaplace(F)\n",
"disp(f,'f(t)=')\n",
"printf('since s*F(s) has two poles on imaginary axis of s plane,final value thereom cannot be applied in this case')"
   ]
   }
,
{
		   "cell_type": "markdown",
		   "metadata": {},
		   "source": [
			"## Example 2.5: partial_fractions.sci"
		   ]
		  },
  {
"cell_type": "code",
	   "execution_count": null,
	   "metadata": {
	    "collapsed": true
	   },
	   "outputs": [],
"source": [
"//partial fractions\n",
"n=poly([3 5],'s','coeff')\n",
"d=poly([6 11 6 1],'s','coeff')\n",
"f=n/d;\n",
"disp(f,'F(s)=')\n",
"pf=pfss(f)\n",
"disp(pf)"
   ]
   }
,
{
		   "cell_type": "markdown",
		   "metadata": {},
		   "source": [
			"## Example 2.7: inverse_laplace_transform.sce"
		   ]
		  },
  {
"cell_type": "code",
	   "execution_count": null,
	   "metadata": {
	    "collapsed": true
	   },
	   "outputs": [],
"source": [
"//inverse laplace transform\n",
"n=poly([4],'s','coeff')\n",
"d=poly([4 8 1],'s','coeff')    //w=2,damping ratio=2\n",
"G=n/d;\n",
"disp(G,'G(s)=')\n",
"pf=pfss(G)\n",
"disp(pf,'G(s)=')\n",
"syms s t\n",
"g1=ilaplace(pf(1),s,t)\n",
"g2=ilaplace(pf(2),s,t)\n",
"disp(g1+g2,'g(t)=')"
   ]
   }
,
{
		   "cell_type": "markdown",
		   "metadata": {},
		   "source": [
			"## Example 2.8: inverse_laplace_transform.sce"
		   ]
		  },
  {
"cell_type": "code",
	   "execution_count": null,
	   "metadata": {
	    "collapsed": true
	   },
	   "outputs": [],
"source": [
"//inverse laplace transform\n",
"n=poly([5 -1 -1],'s','coeff')\n",
"d=poly([0 -1 -2],'s','roots')\n",
"Y=n/d;\n",
"disp(Y,'Y(s)=')\n",
"pf=pfss(Y)\n",
"disp(pf,'Y(s)=')\n",
"syms s t\n",
"y1=ilaplace(pf(1),s,t)\n",
"y2=ilaplace(pf(2),s,t)\n",
"y3=ilaplace(pf(3),s,t)\n",
"disp(y1+y2+y3,'g(t)=')\n",
"l=limit(Y*s,s,0)\n",
"disp(l,'limit of y(t) as t tends to infinity=')"
   ]
   }
,
{
		   "cell_type": "markdown",
		   "metadata": {},
		   "source": [
			"## Example 2.9: inverse_laplace_transform.sce"
		   ]
		  },
  {
"cell_type": "code",
	   "execution_count": null,
	   "metadata": {
	    "collapsed": true
	   },
	   "outputs": [],
"source": [
"//inverse laplace transform\n",
"n=poly([1000],'s','coeff')\n",
"d=poly([0 1000 34.5 1],'s','coeff')\n",
"Y=n/d;\n",
"disp(Y,'Y(s)=')\n",
"pf=pfss(Y)\n",
"disp(pf,'Y(s)=')\n",
"syms s t\n",
"y1=ilaplace(pf(1),s,t)\n",
"y2=ilaplace(pf(2),s,t)\n",
"y3=ilaplace(pf(3),s,t)\n",
"disp(y1+y2+y3,'y(t)=')"
   ]
   }
],
"metadata": {
		  "kernelspec": {
		   "display_name": "Scilab",
		   "language": "scilab",
		   "name": "scilab"
		  },
		  "language_info": {
		   "file_extension": ".sce",
		   "help_links": [
			{
			 "text": "MetaKernel Magics",
			 "url": "https://github.com/calysto/metakernel/blob/master/metakernel/magics/README.md"
			}
		   ],
		   "mimetype": "text/x-octave",
		   "name": "scilab",
		   "version": "0.7.1"
		  }
		 },
		 "nbformat": 4,
		 "nbformat_minor": 0
}
