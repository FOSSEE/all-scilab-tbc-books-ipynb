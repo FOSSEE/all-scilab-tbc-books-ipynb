{
"cells": [
 {
		   "cell_type": "markdown",
	   "metadata": {},
	   "source": [
       "# Chapter 6: Stability of Linear Control Systems"
	   ]
	},
{
		   "cell_type": "markdown",
		   "metadata": {},
		   "source": [
			"## Example 6.10: bilinear_transformation_method.sce"
		   ]
		  },
  {
"cell_type": "code",
	   "execution_count": null,
	   "metadata": {
	    "collapsed": true
	   },
	   "outputs": [],
"source": [
"//bilinear transformation method\n",
"s=%s\n",
"syms K\n",
"//p=z^3+z^2+z+K\n",
"//substituting z=(1+r)/(1-r) we get\n",
"m=(1-K)*s^3+(1+3*K)*s^2+3*(1-K)*s+3+K\n",
"cof_a_0 = coeffs(m,'s',0);\n",
"cof_a_1 = coeffs(m,'s',1);\n",
"cof_a_2 = coeffs(m,'s',2);\n",
"cof_a_3 = coeffs(m,'s',3);\n",
"    \n",
"r=[cof_a_0 cof_a_1 cof_a_2 cof_a_3] \n",
"\n",
"n=length(r);\n",
"routh=[r([4,2]);r([3,1])];\n",
"routh=[routh;-det(routh)/routh(2,1),0];\n",
"t=routh(2:3,1:2); //extracting the square sub block of routh matrix\n",
"routh=[routh;-det(t)/t(2,1),0]\n",
"disp(routh,'rouths tabulation=')"
   ]
   }
,
{
		   "cell_type": "markdown",
		   "metadata": {},
		   "source": [
			"## Example 6.1: stability_of_open_loop_systems.sce"
		   ]
		  },
  {
"cell_type": "code",
	   "execution_count": null,
	   "metadata": {
	    "collapsed": true
	   },
	   "outputs": [],
"source": [
"//stability of open loop systems\n",
"s=%s\n",
"sys1=syslin('c',20/((s+1)*(s+2)*(s+3)))\n",
"disp(sys1,'M(s)=')\n",
"printf('sys1 is stable as there are no ploes or zeroes in RHP')\n",
"sys2=syslin('c',20*(s+1)/((s-1)*(s^2+2*s+2)))\n",
"disp(sys2,'M(s)=')\n",
"printf('sys2 is unstable due to pole at s=1')\n",
"sys3=syslin('c',20*(s-1)/((s+2)*(s^2+4)))\n",
"disp(sys3,'M(s)=')\n",
"printf('sys3 is marginally stable or marginally unstable due to s=j2 and s=-j2')\n",
"sys4=syslin('c',10/((s+10)*(s^2+4)^2))\n",
"disp(sys4,'M(s)=')\n",
"printf('sys4 is unstable due to multiple order pole at s=j2 and s=-j2')\n",
"sys5=syslin('c',10/(s^4+30*s^3+s^2+10*s))\n",
"disp(sys5,'M(s)=')\n",
"printf('sys5 is stable if pole at s=0 is placed intentionally')"
   ]
   }
,
{
		   "cell_type": "markdown",
		   "metadata": {},
		   "source": [
			"## Example 6.2: rouths_tabulation_to_determine_stability.sce"
		   ]
		  },
  {
"cell_type": "code",
	   "execution_count": null,
	   "metadata": {
	    "collapsed": true
	   },
	   "outputs": [],
"source": [
"//rouths tabulations to determine stability\n",
"s=%s;\n",
"m=s^3-4*s^2+s+6;\n",
"disp(m)\n",
"r=coeff(m)\n",
"n=length(r)\n",
"routh=routh_t(m) //This Function generates the Routh table\n",
"disp(routh,'rouths tabulation=')\n",
"c=0;\n",
"for i=1:n\n",
"if (routh(i,1)<0)\n",
"c=c+1;\n",
" end \n",
"  end\n",
"  if(c>=1)\n",
"    printf('system is unstable')\n",
"  else printf('system is stable')\n",
"  end"
   ]
   }
,
{
		   "cell_type": "markdown",
		   "metadata": {},
		   "source": [
			"## Example 6.3: rouths_tabulation_to_determine_stability.sce"
		   ]
		  },
  {
"cell_type": "code",
	   "execution_count": null,
	   "metadata": {
	    "collapsed": true
	   },
	   "outputs": [],
"source": [
"//rouths tabulations to determine stability\n",
"s=%s;\n",
"m=2*s^4+s^3+3*s^2+5*s+10;\n",
"disp(m)\n",
"r=coeff(m)\n",
"n=length(r)\n",
"routh=routh_t(m) //This Function generates the Routh table\n",
"disp(routh,'rouths tabulation=')\n",
"c=0;\n",
"for i=1:n\n",
"if (routh(i,1)<0)\n",
"c=c+1;\n",
" end \n",
"  end\n",
"  if(c>=1)\n",
"    printf('system is unstable')\n",
"  else printf('system is stable')\n",
"  end"
   ]
   }
,
{
		   "cell_type": "markdown",
		   "metadata": {},
		   "source": [
			"## Example 6.4: first_element_in_any_row_of_rouths_tabulation_is_z.sce"
		   ]
		  },
  {
"cell_type": "code",
	   "execution_count": null,
	   "metadata": {
	    "collapsed": true
	   },
	   "outputs": [],
"source": [
"//first element in any row of rouths tabulation is zero\n",
"s=%s\n",
"m=s^4+s^3+2*s^2+2*s+3\n",
"r=coeff(m);  //Extracts the coefficient of the polynomial\n",
"n=length(r); \n",
"routh=routh_t(m)\n",
"disp(routh,'routh=')\n",
"printf('since there are two sign changes in the rouths tabulation,sys is unstable')"
   ]
   }
,
{
		   "cell_type": "markdown",
		   "metadata": {},
		   "source": [
			"## Example 6.5: elements_in_any_row_of_rouths_tabulations_are_all.sce"
		   ]
		  },
  {
"cell_type": "code",
	   "execution_count": null,
	   "metadata": {
	    "collapsed": true
	   },
	   "outputs": [],
"source": [
"//elements in one row of rouths tabulations are all zero\n",
"s=%s;\n",
"m=s^5+4*s^4+8*s^3+8*s^2+7*s+4;\n",
"disp(m)\n",
"r=coeff(m)\n",
"n=length(r)\n",
"routh=routh_t(m)\n",
"disp(routh,'rouths tabulations=')\n",
"c=0;\n",
"for i=1:n\n",
"if (routh(i,1)<0)\n",
"c=c+1;\n",
"end \n",
"end\n",
"if(c>=1)\n",
"printf('system is unstable')\n",
"else printf('system is marginally stable')\n",
"end"
   ]
   }
,
{
		   "cell_type": "markdown",
		   "metadata": {},
		   "source": [
			"## Example 6.6: determining_critical_value_of_K.sce"
		   ]
		  },
  {
"cell_type": "code",
	   "execution_count": null,
	   "metadata": {
	    "collapsed": true
	   },
	   "outputs": [],
"source": [
"//determining critical value of K\n",
"s=%s\n",
"syms K\n",
"m=s^3+3408.3*s^2+1204000*s+1.5*10^7*K\n",
"cof_a_0 = coeffs(m,'s',0);\n",
"cof_a_1 = coeffs(m,'s',1);\n",
"cof_a_2 = coeffs(m,'s',2);\n",
"cof_a_3 = coeffs(m,'s',3);\n",
"    \n",
"r=[cof_a_0 cof_a_1 cof_a_2 cof_a_3] \n",
"\n",
"n=length(r);\n",
"routh=[r([4,2]);r([3,1])];\n",
"routh=[routh;-det(routh)/routh(2,1),0];\n",
"t=routh(2:3,1:2); //extracting the square sub block of routh matrix\n",
"routh=[routh;-det(t)/t(2,1),0]\n",
"disp(routh,'rouths tabulation=')\n",
"routh(3,1)=0  //For marginaly stable system\n",
"sys=syslin('c',1.5*10^7/(s^3+3408.3*s^2+1204000*s))\n",
"k=kpure(sys)\n",
"disp(k,'K(marginal)=')\n",
"disp('=0',routh(2,1)*(s^2)+1.5*10^7*k,'auxillary equation')\n",
"p=poly([1.5*10^7*k,0,3408.3],'s','coeff') \n",
"s=roots(p)\n",
"disp(s,'Frequency of oscillation(in rad/sec)=')\n",
"\n",
"\n",
" "
   ]
   }
,
{
		   "cell_type": "markdown",
		   "metadata": {},
		   "source": [
			"## Example 6.7: determining_critical_value_of_K.sce"
		   ]
		  },
  {
"cell_type": "code",
	   "execution_count": null,
	   "metadata": {
	    "collapsed": true
	   },
	   "outputs": [],
"source": [
"//determining critical value of K\n",
"s=%s\n",
"syms K\n",
"m=s^3+3*K*s^2+(K+2)*s+4\n",
"cof_a_0 = coeffs(m,'s',0);\n",
"cof_a_1 = coeffs(m,'s',1);\n",
"cof_a_2 = coeffs(m,'s',2);\n",
"cof_a_3 = coeffs(m,'s',3);\n",
"    \n",
"r=[cof_a_0 cof_a_1 cof_a_2 cof_a_3] \n",
"\n",
"n=length(r);\n",
"routh=[r([4,2]);r([3,1])];\n",
"routh=[routh;-det(routh)/routh(2,1),0];\n",
"t=routh(2:3,1:2); //extracting the square sub block of routh matrix\n",
"routh=[routh;-det(t)/t(2,1),0]\n",
"disp(routh,'rouths tabulation=')\n",
"routh(3,1)=0  //For marginaly stable system\n",
"sys=syslin('c',s*(3*s+1)/(s^3+2*s+4))\n",
"k=kpure(sys)\n",
"disp(k,'K(marginal)=')"
   ]
   }
,
{
		   "cell_type": "markdown",
		   "metadata": {},
		   "source": [
			"## Example 6.8: stability_of_closed_loop_systems.sce"
		   ]
		  },
  {
"cell_type": "code",
	   "execution_count": null,
	   "metadata": {
	    "collapsed": true
	   },
	   "outputs": [],
"source": [
"//stability of closed loop systems\n",
"z=%z\n",
"sys1=syslin('c',5*z/((z-0.2)*(z-0.8)))\n",
"disp(sys1,'M(z)=')\n",
"printf('sys1 is stable')\n",
"sys2=syslin('c',5*z/((z+1.2)*(z-0.8)))\n",
"disp(sys2,'M(z)=')\n",
"printf('sys2 is unstable due to pole at z=-1.2')\n",
"sys3=syslin('c',5*(z+1)/(z*(z-1)*(z-0.8)))\n",
"disp(sys3,'M(z)=')\n",
"printf('sys3 is marginally stable due to z=1')\n",
"sys4=syslin('c',5*(z+1.2)/(z^2*(z+1)^2*(z+0.1)))\n",
"disp(sys4,'M(z)=')\n",
"printf('sys4 is unstable due to multiple order pole at z=-1')"
   ]
   }
,
{
		   "cell_type": "markdown",
		   "metadata": {},
		   "source": [
			"## Example 6.9: bilinear_transformation_method.sce"
		   ]
		  },
  {
"cell_type": "code",
	   "execution_count": null,
	   "metadata": {
	    "collapsed": true
	   },
	   "outputs": [],
"source": [
"//bilinear transformation method\n",
"r=%s\n",
"//p=z^3+5.94*z^2+7.7*z-0.368\n",
"//substituting z=(1+r)/(1-r) we get\n",
"m=3.128*r^3-11.47*r^2+2.344*r+14.27\n",
"x=coeff(m)\n",
"n=length(x)\n",
"routh=routh_t(m)\n",
"disp(routh,'rouths tabulations')\n",
"c=0;\n",
"for i=1:n\n",
"if (routh(i,1)<0) then \n",
"c=c+1\n",
"end\n",
"end\n",
"if (c>=1) then\n",
"printf('system is unstable')\n",
"else printf('system is stable')\n",
"end"
   ]
   }
],
"metadata": {
		  "kernelspec": {
		   "display_name": "Scilab",
		   "language": "scilab",
		   "name": "scilab"
		  },
		  "language_info": {
		   "file_extension": ".sce",
		   "help_links": [
			{
			 "text": "MetaKernel Magics",
			 "url": "https://github.com/calysto/metakernel/blob/master/metakernel/magics/README.md"
			}
		   ],
		   "mimetype": "text/x-octave",
		   "name": "scilab",
		   "version": "0.7.1"
		  }
		 },
		 "nbformat": 4,
		 "nbformat_minor": 0
}
