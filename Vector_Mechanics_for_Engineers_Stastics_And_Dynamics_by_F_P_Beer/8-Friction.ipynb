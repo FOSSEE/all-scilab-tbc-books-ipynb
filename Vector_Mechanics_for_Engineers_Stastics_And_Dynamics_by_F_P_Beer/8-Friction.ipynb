{
"cells": [
 {
		   "cell_type": "markdown",
	   "metadata": {},
	   "source": [
       "# Chapter 8: Friction"
	   ]
	},
{
		   "cell_type": "markdown",
		   "metadata": {},
		   "source": [
			"## Example 8.1: value_of_friction_force.sce"
		   ]
		  },
  {
"cell_type": "code",
	   "execution_count": null,
	   "metadata": {
	    "collapsed": true
	   },
	   "outputs": [],
"source": [
"clc;\n",
"//page 396\n",
"\n",
"h=100;//lb, horizontal force\n",
"W=300;//lb, weight of block\n",
"\n",
"us=0.2;// Coeffiecient of static friction\n",
"uk=0.20;//Co=efficient of kinetic friction\n",
"\n",
"//Applying sumFx =0 , we get\n",
"F=h-3/5*W;//lb, Force along plane\n",
"F=-F\n",
"\n",
"//Applying sumFy=0, we get\n",
"N=4/5*W//lb, Normal force to the plane\n",
"\n",
"\n",
"printf('Force F required to maintain the equillibrium is thus %.0f lb, up and to right\n',F);\n",
"\n",
"// Maximum friction force\n",
"Fm=us*N;//lb,Maximum friction force\n",
"printf('\n Maximum friction force is %.2f lb is less than that of required to maintain equillibrium that is %.2f lb \n So, equillibrium will nat maintain and block wil move down\n',Fm,F);\n",
"// Actual value of friction force\n",
"Fk=(0.6*300)-(h)-(Fm);//lb, Actual value of friction force\n",
"printf('\nActual value of friction force is %.2f lb directed up and to the right\n',Fk);"
   ]
   }
,
{
		   "cell_type": "markdown",
		   "metadata": {},
		   "source": [
			"## Example 8.2: Force_P_to_prevent_block.sce"
		   ]
		  },
  {
"cell_type": "code",
	   "execution_count": null,
	   "metadata": {
	    "collapsed": true
	   },
	   "outputs": [],
"source": [
"clc;\n",
"//page 397\n",
"F=800;//N Firce in verical direction\n",
"us=0.35;// Coeffiecient of static friction\n",
"uk=0.25;//Co=efficient of kinetic friction\n",
"theta=25;//degree, angle of inclination\n",
"theta=theta*%pi/180;//rad, Conversion into radian\n",
"// Force P start block moving up\n",
"// At static equillibrium Tan(Theta_s)=us\n",
"theta_s=atan(us);//rad\n",
"P=F*tan(theta+theta_s);//N,Force P to start block moving up\n",
"printf('Force P to start block moving up is %.0f N\n',P);\n",
"// Force P to keep block moving up\n",
"// At kinetic equillibrium Tan(Theta_k)=uk\n",
"theta_k=atan(uk);//rad\n",
"P=F*tan(theta+theta_k);//N,Force P to keep block moving up\n",
"printf('Force P to keep block moving up is %.0f N\n',P);\n",
"// Force P to prevent  block from sliding down\n",
"theta_s=atan(us);//rad\n",
"P=F*tan(theta-theta_s);//N,Force P to prevent  block from sliding down\n",
"printf('Force P to prevent  block from sliding down is %.0f N\n',P);"
   ]
   }
,
{
		   "cell_type": "markdown",
		   "metadata": {},
		   "source": [
			"## Example 8.3: Minimum_distance.sce"
		   ]
		  },
  {
"cell_type": "code",
	   "execution_count": null,
	   "metadata": {
	    "collapsed": true
	   },
	   "outputs": [],
"source": [
"clc;\n",
"us=0.25;// Coeffiecient of static friction\n",
"//Applying equillibrium equation we get relation in x\n",
"printf('Apply equillibrium equations. It is theoritical part. \n');\n",
"x=12-(.75*2)+1.5//in, Distance at which the applied load can be supported\n",
"printf('Minimum distance at which the applied load can be supported is %.0f in\n',x);"
   ]
   }
,
{
		   "cell_type": "markdown",
		   "metadata": {},
		   "source": [
			"## Example 8.4: force_required.sce"
		   ]
		  },
  {
"cell_type": "code",
	   "execution_count": null,
	   "metadata": {
	    "collapsed": true
	   },
	   "outputs": [],
"source": [
"clc;\n",
"//page 411\n",
"F=400;//lb, force exerte\n",
"us=0.35;// Coeffiecient of static friction\n",
"phi=atand(us);//rad, angle of friction\n",
"//disp(phi)\n",
"theta=8;//degree, angle of inclination\n",
"theta=theta*%pi/180;//rad, Conversion into radian\n",
"\n",
"//Using sine rule\n",
"//force p to raise block\n",
"//free body , block B\n",
"R1=F*sind(109.3)/(sind(43.4))\n",
"//free body wedge A\n",
"P=R1*sind(46.6)/(sind(70.7))\n",
"printf(' force required to raise block is P=%.0f lb\n',P);\n",
"\n",
"//force to lower block\n",
"//free body , block B\n",
"R1=F*sind(70.7)/(sind(98.0))\n",
"//free body wedge A\n",
"P=R1*sind(30.6)/(sind(70.7))\n",
"printf(' force required to lower block is P=%.0f lb\n',P);\n",
"\n",
"\n",
"\n",
"\n",
"\n",
"\n",
"\n",
"\n",
"\n",
"\n",
"\n",
"\n",
"\n",
"\n",
"\n",
"\n",
"\n",
"\n",
"\n",
"\n",
"\n",
"\n",
"\n",
"\n",
"\n",
"\n",
"\n",
"\n",
"\n",
"\n",
""
   ]
   }
,
{
		   "cell_type": "markdown",
		   "metadata": {},
		   "source": [
			"## Example 8.5: Couple_required_to_loosen_clamp.sce"
		   ]
		  },
  {
"cell_type": "code",
	   "execution_count": null,
	   "metadata": {
	    "collapsed": true
	   },
	   "outputs": [],
"source": [
"clc;\n",
"//page 412\n",
"pitch=2;//mm, pitch of screw\n",
"d=10;//mm, mean diameter of thread\n",
"r=d/2;//mm, radius\n",
"us=0.30;// Coeffiecient of static friction\n",
"M=40;//kN.m , Maximum couple\n",
"//Force exerted by clamp\n",
"L=2*pitch;//mm, as screw is double threaded\n",
"theta=atan(L/(2*%pi*r));//rad, angle of inclination\n",
"phi=atan(us);//rad, angle of friction\n",
"Q=M/r*1000;//N, Force applied to block representing screw\n",
"Q=Q/1000//kN, Conversion into kN\n",
"W=Q/tan(theta+phi);//kN, Magnitude of force exerted on the piece of wood \n",
"printf('Magnitude of force exerted on the piece of wood  is W= %.2f kN \n',W);\n",
"//Couple required to loosen clamp\n",
"Q=W*tan(phi-theta);//kN, Force required to loosen clamp\n",
"Couple=Q*r;//N.m, Couple required to loosen clamp\n",
"printf('Couple  required to loosen clamp is %.2f N.m\n',Couple);"
   ]
   }
,
{
		   "cell_type": "markdown",
		   "metadata": {},
		   "source": [
			"## Example 8.6: force_required.sce"
		   ]
		  },
  {
"cell_type": "code",
	   "execution_count": null,
	   "metadata": {
	    "collapsed": true
	   },
	   "outputs": [],
"source": [
"clc;\n",
"clear all\n",
"//Page 423\n",
"r=1//in in\n",
"us=0.20;// Coeffiecient of static friction between shaft and pully\n",
"//Vertical Force required to raise load\n",
"rf=r*us;//in, Perpendicular distance from the center Of pully to line of action \n",
"//summing moment about B\n",
"P1=(2.20*500)/1.8//lb , downward Force required to raise load\n",
"printf('Force required to raise load is %f lb in downward direction\n',P1);\n",
"//Vertcal Force required to hold load\n",
"//summing moment about C\n",
"P=(1.80*500)/2.20//lb , downward Force required to hold load\n",
"printf('Force required to hold load is %.0f lb in downward direction\n',P);\n",
"//Horizontal force P to start raising the load\n",
"OE=rf;//mm,\n",
"OD=sqrt(2)*2;//in, pythagorus theorm\n",
"theta=asin(OE/OD);//rad, \n",
"// from force triangle\n",
"P=500*cotd(40.9);//lb, Horizontal force P to start raising the load\n",
"printf('Horizontal force P required to start raising the load is %.0f lb\n',P);"
   ]
   }
,
{
		   "cell_type": "markdown",
		   "metadata": {},
		   "source": [
			"## Example 8.7: Tension.sce"
		   ]
		  },
  {
"cell_type": "code",
	   "execution_count": null,
	   "metadata": {
	    "collapsed": true
	   },
	   "outputs": [],
"source": [
"clc;\n",
"//page 431\n",
"T1=150;//N, Force on free end of hawser\n",
"T2=7500;//N, Force on other end of hawser\n",
"\n",
"\n",
"//a, coefficient of friction\n",
"bta=2*2*%pi;//rad, angle of contact, 2 turns\n",
"//By equation 8.13\n",
"us=log(T2/T1)/bta;// Co-efficient of static friction\n",
"printf('Coefficient of static friction between hawser and ballard is us= %0.3f \n',us);\n",
"\n",
"//Number of wraps when tension in hawser=75 kN\n",
"\n",
"bta=3*2*%pi//in rad\n",
"//One turn = 2* pi angle, bta corresponds to\n",
"ten=T1*exp(bta*us)\n",
"printf('Tension  is %f N \n ',ten);"
   ]
   }
,
{
		   "cell_type": "markdown",
		   "metadata": {},
		   "source": [
			"## Example 8.8: Torque.sce"
		   ]
		  },
  {
"cell_type": "code",
	   "execution_count": null,
	   "metadata": {
	    "collapsed": true
	   },
	   "outputs": [],
"source": [
"clc;\n",
"//page 432\n",
"//Given\n",
"T2=600;//lb, Tension from side 2\n",
"us=0.25;// Coeffiecient of static friction between pulley and belt\n",
"bta=(2*%pi)/3;//Co=efficient of kinetic friction between pulley and belt\n",
"r1=8//in in\n",
"//Pulley B\n",
"\n",
"T1=T2/(exp(us*bta))//N, Tension from side 1\n",
"//disp(T1)\n",
"\n",
"//Pulley A\n",
"//Aumming moment about A\n",
"MA=(T2*r1)-(T1*r1);//lb-ft, Couple MA applied to pulley which is equal and opposite to torque \n",
"\n",
"printf('The largest torque which can be exerted by belt on pulley A is MA= %0.0f lb-in\n',MA);\n",
""
   ]
   }
],
"metadata": {
		  "kernelspec": {
		   "display_name": "Scilab",
		   "language": "scilab",
		   "name": "scilab"
		  },
		  "language_info": {
		   "file_extension": ".sce",
		   "help_links": [
			{
			 "text": "MetaKernel Magics",
			 "url": "https://github.com/calysto/metakernel/blob/master/metakernel/magics/README.md"
			}
		   ],
		   "mimetype": "text/x-octave",
		   "name": "scilab",
		   "version": "0.7.1"
		  }
		 },
		 "nbformat": 4,
		 "nbformat_minor": 0
}
