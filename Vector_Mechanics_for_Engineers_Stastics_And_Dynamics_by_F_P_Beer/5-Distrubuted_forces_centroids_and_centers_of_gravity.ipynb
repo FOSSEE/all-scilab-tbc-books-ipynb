{
"cells": [
 {
		   "cell_type": "markdown",
	   "metadata": {},
	   "source": [
       "# Chapter 5: Distrubuted forces centroids and centers of gravity"
	   ]
	},
{
		   "cell_type": "markdown",
		   "metadata": {},
		   "source": [
			"## Example 5.10: Reaction_and_direction.sce"
		   ]
		  },
  {
"cell_type": "code",
	   "execution_count": null,
	   "metadata": {
	    "collapsed": true
	   },
	   "outputs": [],
"source": [
"clc;\n",
"//page 251\n",
"t=0.3;//m thickness of dam\n",
"g=9.81;// m/s^2, acceleration due to gravity\n",
"p1=2400;//kg/m^3, density of concrete\n",
"p2=1000;//kg/m^3, density of water\n",
"W1=0.5*2.7*6.6*t*p1*g/1000;//kN, Weight of concrete component 1\n",
"W2=1.5*6.6*t*p1*g/1000;//kN, Weight of concrete component 2\n",
"W3=1/3*3*5.4*t*p1*g/1000;//kN, Weight of concrete component 3\n",
"W4=2/3*3*5.4*t*p2*g/1000;//kN, Weight of water\n",
"P=0.5*2.7*6.6*t*p1*g/1000;//kN, pressure force exerted by water\n",
"\n",
"// Applying sum(F_x)=0\n",
"H=42.9;//kN, Horizontal reation at A\n",
"\n",
"//Applying sum(Fy)=0\n",
"V=W1+W2+W3+W4;//kN, Vertical Reaction at A \n",
"\n",
"printf('The horizontal reaction is H=%.1f kN ,Vertical rection at A V=%.1f kN, \n',H,V);\n",
"//Applying sum(M_A)=0\n",
"M=W1*1.8+W2*3.45+W3*5.1+W4*6-P*1.8;//kN.m, Moment at A\n",
"\n",
"\n",
"// We can replace force couple system by single force acting at distance right to A\n",
"d=M/V;// m Distance of resultant force from A\n",
"\n",
"printf('The moment about A is M=%.1f kN.m anticlockwise and \n if we replace it by force couple system resultant,s distance from A is d= %0.2f m  \n',M,d);\n",
"//Difference is because of round off"
   ]
   }
,
{
		   "cell_type": "markdown",
		   "metadata": {},
		   "source": [
			"## Example 5.11: Coordinates_of_centroid.sce"
		   ]
		  },
  {
"cell_type": "code",
	   "execution_count": null,
	   "metadata": {
	    "collapsed": true
	   },
	   "outputs": [],
"source": [
"clc;\n",
"//page 263\n",
"n=3; // no of component\n",
"r=60;//mm, radius\n",
"l=100;//mm length of cylinder\n",
"V=[0.5*4/3*%pi*(r)^3,%pi*r*r*l,-%pi/3*r*r*l];//mm^3, Volumes of Hemisphere, cylinder and cone respectively\n",
"x=[-3/8*r,l/2,3/4*l];//mm, x components of centroids of Hemisphere, cylinder and cone respectively\n",
"\n",
"sumV=0;\n",
"sumxV=0;\n",
"\n",
"for(i=1:n)\n",
"    sumV=sumV+V(i);\n",
"    sumxV=sumxV+x(i)*V(i);\n",
"    \n",
"end\n",
"\n",
"\n",
"\n",
"//Location of centre of gravity\n",
"X=sumxV/sumV;// X co-ordinate\n",
"\n",
"printf('Co-ordinates of centroid are X= %.0f mm \n',X);"
   ]
   }
,
{
		   "cell_type": "markdown",
		   "metadata": {},
		   "source": [
			"## Example 5.12: components_of_centroids.sce"
		   ]
		  },
  {
"cell_type": "code",
	   "execution_count": null,
	   "metadata": {
	    "collapsed": true
	   },
	   "outputs": [],
"source": [
"clc;\n",
"//page 264\n",
"l=4.5; // in in\n",
"b=2;//in\n",
"h=.5;//in\n",
"a_I=l*b*h\n",
"a_II=((1/4)*%pi*b^2*h)\n",
"a_III=-%pi*(h^2)*h\n",
"a_IV=-%pi*(h^2)*h\n",
"V=[a_I a_II a_III a_IV]\n",
"//disp(V)\n",
"x=[.25,1.3488,.25,.25];//in, x components of centroids of part I,II , III and IV respectively\n",
"y=[-1,-0.8488,-1,-1];//in, y components of centroids of part I,II , III and IV respectively\n",
"z=[2.25,0.25,3.5,1.5];//in, z components of centroids of part I,II , III and IV respectively\n",
"for(i=1:4)\n",
"    temp=0\n",
"    sum_xV=0\n",
"    sum_xV=V(i)*x(i)\n",
"   y(i)=[sum_xV]\n",
"end\n",
"x=sum(y)\n",
"printf('The sum of x*V=%f  in^4 \n',x)\n",
"for(i=1:4)\n",
"    temp=0\n",
"    sum_zV=0\n",
"    sum_zV=V(i)*z(i)\n",
"   y(i)=[sum_zV]\n",
"end\n",
"z=sum(y)\n",
"printf('The sum of z*V=%f  in^4 \n',z)\n",
"for(i=1:4)\n",
"    temp=0\n",
"    sum_yV=0\n",
"    sum_yV=V(i)*y(i)\n",
"   y(i)=[sum_yV]\n",
"   disp(y(i))\n",
"end\n",
"s=sum(y)\n",
"printf('The sum of y*V=%f  in^4 \n',s)"
   ]
   }
,
{
		   "cell_type": "markdown",
		   "metadata": {},
		   "source": [
			"## Example 5.1: centroid.sce"
		   ]
		  },
  {
"cell_type": "code",
	   "execution_count": null,
	   "metadata": {
	    "collapsed": true
	   },
	   "outputs": [],
"source": [
"clc;\n",
"//page 228\n",
"n=4; // no of component\n",
"A=[120*80,120*60/2,%pi*60*60/2,-%pi*40*40];//mm^2, Areas of Rectangle, triangle, Semicircle, and Circle respectively\n",
"x=[60,40,60,60];//mm, x components of centroids of Rectangle, triangle, Semicircle, and Circle respectively\n",
"y=[40,-20,105.46,80];//mm, y components of centroids of Rectangle, triangle, Semicircle, and Circle respectively\n",
"\n",
"sumA=0;\n",
"sumxA=0;\n",
"sumyA=0;\n",
"\n",
"for(i=1:n)\n",
"    sumA=sumA+A(i);\n",
"    sumxA=sumxA+x(i)*A(i);\n",
"    sumyA=sumyA+y(i)*A(i);\n",
"    \n",
"end\n",
"\n",
"// First Moment of area\n",
"Qx=sumyA;// About X axis\n",
"Qy=sumxA;//About Yaxis\n",
"printf('First moments of the area are Qx= %.0f mm^3 and Qy=%.0f mm^3 \n',Qx,Qy);\n",
"\n",
"//Location of centroid\n",
"X=sumxA/sumA;// X co-ordinate\n",
"Y=sumyA/sumA;// Y co=ordinate\n",
"printf('Co-ordinates of centroid are X= %.1f mm and Y= %.1f mm \n',X,Y);"
   ]
   }
,
{
		   "cell_type": "markdown",
		   "metadata": {},
		   "source": [
			"## Example 5.2: Coordinates_of_centroid.sce"
		   ]
		  },
  {
"cell_type": "code",
	   "execution_count": null,
	   "metadata": {
	    "collapsed": true
	   },
	   "outputs": [],
"source": [
"clc;\n",
"//page 229\n",
"n=3; // no of segment\n",
"L=[600,650,250];//mm, Lengths of segment AB , BC and CA respectively\n",
"x=[300,300,0];//mm, x components of centroids of segment AB , BC and CA respectively\n",
"y=[0,125,125];//mm, y components of centroids of segment AB , BC and CA respectively\n",
"\n",
"sumL=0;\n",
"sumxL=0;\n",
"sumyL=0;\n",
"\n",
"for(i=1:n)\n",
"    sumL=sumL+L(i);\n",
"    sumxL=sumxL+x(i)*L(i);\n",
"    sumyL=sumyL+y(i)*L(i);\n",
"    \n",
"end\n",
"\n",
"\n",
"\n",
"//Location of centre of gravity\n",
"X=sumxL/sumL;// X co-ordinate\n",
"Y=sumyL/sumL;// Y co=ordinate\n",
"printf('Co-ordinates of centroid are X= %.0f mm and Y= %.0f mm \n',X,Y);\n",
"//There is variation because of roundoff"
   ]
   }
,
{
		   "cell_type": "markdown",
		   "metadata": {},
		   "source": [
			"## Example 5.7: Mass_of_steel.sce"
		   ]
		  },
  {
"cell_type": "code",
	   "execution_count": null,
	   "metadata": {
	    "collapsed": true
	   },
	   "outputs": [],
"source": [
"clc;\n",
"//page 242\n",
"p=7850;//kg/m^3, density of steel rim\n",
"n=2; // no of component\n",
"A=[(20+60+20)*(30+20),-60*30];//mm^2,Cross section Areas of rectangle I and II\n",
"\n",
"y=[375,365];//mm, y components of centroids of Rectangles I and II respectively\n",
"\n",
"\n",
"sumV=0;\n",
"\n",
"for(i=1:n)\n",
"    C(i)=2*%pi*y(i);//mm, Distance travelled by C\n",
"    V(i)=A(i)*C(i);//mm^3, Volume of 1 component\n",
"    sumV=sumV+V(i);// mm^3, Total volume of rim\n",
"    \n",
"end\n",
"sumV=sumV*10^(-9);//Conversion into m^3\n",
"g=9.81;//m/s^2, acceleration due to gravity\n",
"m=p*sumV;//kg, mass\n",
"W=m*g;//N, Weight\n",
"printf('mass of steel is m= %.0f kg and Wight is W= %.0f N\n',m,W);\n",
""
   ]
   }
,
{
		   "cell_type": "markdown",
		   "metadata": {},
		   "source": [
			"## Example 5.9: equivalent_concentrated_mass.sce"
		   ]
		  },
  {
"cell_type": "code",
	   "execution_count": null,
	   "metadata": {
	    "collapsed": true
	   },
	   "outputs": [],
"source": [
"clc;\n",
"//page 250\n",
"n=2; // no of triangle\n",
"A=[4.5,13.5];//kN, loads\n",
"x=[2,4];//mm, distances of centroid from point A\n",
"\n",
"sumA=0;\n",
"sumxA=0;\n",
"for(i=1:n)\n",
"    sumA=sumA+A(i);\n",
"    sumxA=sumxA+x(i)*A(i);\n",
"        \n",
"end\n",
"\n",
"\n",
"//Location of centroid\n",
"X=sumxA/sumA;// X co-ordinate\n",
"W=sumA;//kN, Concentrated load\n",
"printf('The equivalent concentrated mass is W= %.0f kN and its line of action is located at a distance X= %.1f m to the right of A \n',W,X);\n",
"\n",
"// Reactions\n",
"// Applying sum(F_x)=0\n",
"Bx=0;//N\n",
"//Applying sum(M_A)=0\n",
"By=W*X/6;//kN, Reaction at B in Y direction\n",
"//Applying sum(M_B)=0\n",
"A=W*(6-X)/6;//kN, Reaction at B in Y direction\n",
"\n",
"printf('The rection at A=%.1f kN, At Bx=%.1f kN and By=%.1f kN \n',A,Bx,By);"
   ]
   }
],
"metadata": {
		  "kernelspec": {
		   "display_name": "Scilab",
		   "language": "scilab",
		   "name": "scilab"
		  },
		  "language_info": {
		   "file_extension": ".sce",
		   "help_links": [
			{
			 "text": "MetaKernel Magics",
			 "url": "https://github.com/calysto/metakernel/blob/master/metakernel/magics/README.md"
			}
		   ],
		   "mimetype": "text/x-octave",
		   "name": "scilab",
		   "version": "0.7.1"
		  }
		 },
		 "nbformat": 4,
		 "nbformat_minor": 0
}
