{
"cells": [
 {
		   "cell_type": "markdown",
	   "metadata": {},
	   "source": [
       "# Chapter 2: Statics of particle"
	   ]
	},
{
		   "cell_type": "markdown",
		   "metadata": {},
		   "source": [
			"## Example 2.1: Determine_the_resultant.sce"
		   ]
		  },
  {
"cell_type": "code",
	   "execution_count": null,
	   "metadata": {
	    "collapsed": true
	   },
	   "outputs": [],
"source": [
"clc;\n",
"//Page 22\n",
"//Getting resultant of two vectors\n",
"\n",
"P=40; // N   Magnitude of vector P\n",
"Q=60 // N Magnitude of vector Q\n",
"// imagine triangle for triangle law of vectors \n",
"B=180-25;// degree , Angle between vector P and vector Q\n",
"\n",
"//R- Resultant vector\n",
"B=B*%pi/180;// conversion into radian\n",
"//R^2=P^2+Q^2-2*P*Q*cos(B);    Cosine Law\n",
"R=sqrt(P^2+Q^2-2*P*Q*cos(B));// N\n",
"\n",
"printf('Maginitude of Resultant is R= %.2f N\n',R);\n",
"\n",
"\n",
"//A- Angle between Resultant and P vector, Unknown\n",
"\n",
"// sin(A)/Q == sin(B)/R  sine law\n",
"\n",
"A=asin(Q*sin(B)/R);// radian\n",
"\n",
"\n",
"A=A*180/%pi;//// Conversion into degree\n",
"\n",
"alpha=A+20;// degree\n",
"printf('Angle of Resultant  vector R with x axis is %.2f Degrees\n',alpha);\n",
"\n",
""
   ]
   }
,
{
		   "cell_type": "markdown",
		   "metadata": {},
		   "source": [
			"## Example 2.2: Tension_in_ropw.sce"
		   ]
		  },
  {
"cell_type": "code",
	   "execution_count": null,
	   "metadata": {
	    "collapsed": true
	   },
	   "outputs": [],
"source": [
"clc;\n",
"//Page 29\n",
"R=25; // kN   Magnitude of Resultant vector\n",
"alpha=45;//degree\n",
"// T1 and T2 are tensions in rope 1 and rope 2 respectively \n",
"A=30;// degree , Angle between vector T1 and resultant\n",
"B=alpha;// degree , Angle between vector T2 and resultant\n",
"C=180-(A+B);// degree , Angle between vector T1 and T2\n",
"\n",
"\n",
"// conversion of angles into radian\n",
"A=A*%pi/180;\n",
"B=B*%pi/180;\n",
"C=C*%pi/180;\n",
"\n",
"\n",
"// sin(A)/T2 == sin(B)/T1 == sin(C)/R .............. sine law\n",
"\n",
"T1=(R*sin(B))/sin(C);//kN\n",
"T2=(R*sin(A))/sin(C);//kN\n",
"\n",
"\n",
"printf('Tension in rope 1 is T1=%.2f kN and in rope 2 is T2=%.2f kN \n',T1,T2);\n",
"\n",
"\n",
"// Minimum value of T2 occcurs when T1 and T2 are perpendicular to each other i.e C=90 degree\n",
"C=90;//degree\n",
"A=30;// degree\n",
"B=180-(A+C);//degrees\n",
"alpha=B;//degrees\n",
"B=B*%pi/180;// radian\n",
"T2=R*sin(B);// kN\n",
"T1=R*cos(B);//kN\n",
"printf('Minimum tension in rope 2 is T2=%.2f kN \n',T2);\n",
"printf('corrosponding T1=%.2f kN \n ',T1);\n",
"printf('alpha=%.2f degrees',alpha);\n",
"\n",
""
   ]
   }
,
{
		   "cell_type": "markdown",
		   "metadata": {},
		   "source": [
			"## Example 2.3: Resultant_of_forces.sce"
		   ]
		  },
  {
"cell_type": "code",
	   "execution_count": null,
	   "metadata": {
	    "collapsed": true
	   },
	   "outputs": [],
"source": [
"clc;\n",
"//page 31\n",
"F1=150;// N \n",
"F2=80;// N\n",
"F3=110;//N\n",
"F4=100// in N\n",
"\n",
"F1x=129//in N\n",
"F2x=-27.4\n",
"F3x=0\n",
"F4x=96.6\n",
"F1y=75\n",
"F2y=75.2\n",
"F3y=-110\n",
"F4y=-25.9\n",
"\n",
"Rx=F1x+F2x+F3x+F4x;//N Horizontal component of R- resultant\n",
"Ry=F1y+F2y+F3y+F4y;//N Vertical component of R- resultant\n",
"\n",
"//R=Rx i +Ry j\n",
"\n",
"printf('R= %.2f i + %.2f j \n', Rx,Ry);\n",
"\n",
"alpha=atan(Ry/Rx);//Radian, Angle made by resultant with +ve x axis\n",
"alpha=alpha*180/%pi;//Conversion into degrees\n",
"\n",
"R=sqrt(Rx^2+Ry^2);// N , Magnitude of resultant\n",
"printf('alpha= %.2f degrees and R= %.2f N',alpha,R);"
   ]
   }
,
{
		   "cell_type": "markdown",
		   "metadata": {},
		   "source": [
			"## Example 2.4: Tension_of_Tab_and_Tac.sce"
		   ]
		  },
  {
"cell_type": "code",
	   "execution_count": null,
	   "metadata": {
	    "collapsed": true
	   },
	   "outputs": [],
"source": [
"clc;\n",
"//page 38\n",
"W=3500; // lb   weight of automobile\n",
"alpha=2;//degree\n",
"// TAB and TAC are tensions in cable AB and cable AC respectively \n",
"A=90+30;// degree , Angle between vector T1 and resultant\n",
"B=alpha;// degree , Angle between vector T2 and resultant\n",
"C=180-(A+B);// degree , Angle between vector T1 and T2\n",
"\n",
"\n",
"// conversion of angles into radian\n",
"A=A*%pi/180;\n",
"B=B*%pi/180;\n",
"C=C*%pi/180;\n",
"\n",
"\n",
"// sin(A)/TAB == sin(B)/TAC == sin(C)/W .............. sine law\n",
"\n",
"\n",
"TAB=(W*sin(A))/sin(C);//N\n",
"TAC=(W*sin(B))/sin(C);//N\n",
"\n",
"printf('Tension in cable AB is TAB=%.2f lb and in Cable AC  is TAC=%.2f lb \n',TAB,TAC);\n",
"\n",
""
   ]
   }
,
{
		   "cell_type": "markdown",
		   "metadata": {},
		   "source": [
			"## Example 2.5: Force.sce"
		   ]
		  },
  {
"cell_type": "code",
	   "execution_count": null,
	   "metadata": {
	    "collapsed": true
	   },
	   "outputs": [],
"source": [
"clc\n",
"//page 39\n",
"mass=30;// kg\n",
"W=mass*9.81;// N, Weight of package\n",
"alpha=15;//degree\n",
"alpha=alpha*%pi/180;// Conversion into radian\n",
"F=W*sin(alpha);//N\n",
"printf('F= %.2f N',F);\n",
""
   ]
   }
,
{
		   "cell_type": "markdown",
		   "metadata": {},
		   "source": [
			"## Example 2.6: Drag_force.sce"
		   ]
		  },
  {
"cell_type": "code",
	   "execution_count": null,
	   "metadata": {
	    "collapsed": true
	   },
	   "outputs": [],
"source": [
"clc;\n",
"//page 39\n",
"alpha=atan(7/4);//rad\n",
"beta=atan(1.5/4);//rad\n",
"T_AB=200;//N tension in cable AB\n",
"T_AE=-300;//N, tension in cable AE\n",
"// R= T_AB+T_AC+T_AE+F_D=0        ...Equillibrium Condition...........1\n",
"\n",
"\n",
"T_ABx=-T_AB*sin(alpha);// Xcomponent of T_AB\n",
"T_ABy=T_AB*cos(alpha);//Y component of T_AB\n",
"\n",
"// T_ACx=T_AC*sin(beta); Xcomponent of T_AC\n",
"// T_ACy=T_AC*cos(beta); Y component of T_AC\n",
"\n",
"// Sum Fx =0 gives -T_AB*sin(alpha) N + T_AC*sin(beta) +F_D=0..........2\n",
"//Sum Fy=0 gives T_AB*cos(alpha) N +T_AC*cos(beta) +T_AE =0................3\n",
"\n",
"T_AC=(-T_AB*cos(alpha)-T_AE)/cos(beta);//N, From 3\n",
"\n",
"F_D=T_AB*sin(alpha)-T_AC*sin(beta);//N, From 2\n",
"\n",
"printf('Value of drag force is F_D=%.2f N and tension in cable AC is T_AC= %.2f N',F_D,T_AC);"
   ]
   }
,
{
		   "cell_type": "markdown",
		   "metadata": {},
		   "source": [
			"## Example 2.7: Resultant_force_on_AB_and_Ac.sce"
		   ]
		  },
  {
"cell_type": "code",
	   "execution_count": null,
	   "metadata": {
	    "collapsed": true
	   },
	   "outputs": [],
"source": [
"//page 50\n",
"clc;\n",
"dx=-40;//m\n",
"dy=80;//m\n",
"dz=30;//m\n",
"f=2500;//N, Mafnitude of force F\n",
"d=sqrt(dx^2+dy^2+dz^2);//m, total distance of vector AB\n",
"//F=f*lambda, lambda - unit vector= AB/d. So we can calculate each component by multiplying this unit vector\n",
"Fx=f*dx/d;//N , X component of F\n",
"Fy=f*dy/d;//N , Y component of F\n",
"Fz=f*dz/d;//N , Z component of F\n",
"\n",
"printf('Component of F along X axis is %.2f N\n',Fx);\n",
"printf('Component of F along Y axis is %.2f N\n',Fy);\n",
"printf('Component of F along Z axis is %.2f N\n',Fz);\n",
"printf('We may write F as \n F = %.2f i + %.2f j + %.2f k\n',Fx,Fy,Fz);\n",
"\n",
"thetax=acos(Fx/f);// radian , angle with +ve x axis\n",
"thetay=acos(Fy/f);// radian , angle with +ve y axis\n",
"thetaz=acos(Fz/f);// radian , angle with +ve z axis\n",
"\n",
"//Conversion of angles into degree\n",
"thetax=thetax*180/%pi;//degree\n",
"thetay=thetay*180/%pi;//degree\n",
"thetaz=thetaz*180/%pi;//degree\n",
"\n",
"printf('Angle made by F with +ve X axis %.2f degree\n',thetax);\n",
"\n",
"printf('Angle made by F with +ve Y axis %.2f degree\n',thetay);\n",
"printf('Angle made by F with +ve Z axis %.2f degree\n',thetaz);\n",
"printf('\n\n')\n",
"F=800 // N , given force\n",
"theta=145 // Degrees , angle with posiyive X axis \n",
"\n",
"theta=theta*%pi/180;// Conversion into radian\n",
"\n",
"Fx=F*sin(theta);//N, Horizontal component\n",
"Fy=F*cos(theta);// N, Vertical Component\n",
"printf('\n\n')\n",
"printf('Horizontal component of F is %.2f N\n',Fx);\n",
"printf('Vertial component of F is %.2f N\n',Fy);\n",
"printf('We may write F as \n F = %.2f i + %.2f j',Fx,Fy);\n",
"\n",
"F=300 // N , given force\n",
"AB=sqrt(8^2+6^2);// m Length of AB\n",
"cos_alpha=8/AB;\n",
"sin_alpha=-6/AB;\n",
"Fx=F*cos_alpha;//N, Horizontal component\n",
"Fy=F*sin_alpha;// N, Vertical Component\n",
""
   ]
   }
,
{
		   "cell_type": "markdown",
		   "metadata": {},
		   "source": [
			"## Example 2.8: resultant_of_AB_and_AC.sce"
		   ]
		  },
  {
"cell_type": "code",
	   "execution_count": null,
	   "metadata": {
	    "collapsed": true
	   },
	   "outputs": [],
"source": [
"clc;\n",
"//page 51\n",
"T_AB=4200;//N , Tension in cable AB\n",
"T_AC=6000;//N , Tension in cable AC\n",
"// Vector AB=-(5m)i+(3m)j+(4m)k\n",
"//Vector Ac= -(5m)i+(3m)j+(5m)k\n",
"ABx=-5;//m\n",
"ABy=3;//m\n",
"ABz=4;//m\n",
"ACx=-5;//m\n",
"ACy=3;//m\n",
"ACz=-5;//m\n",
"\n",
"AB=sqrt((-5)^2+3^2+4^2);//m, Magnitude of vector AB\n",
"AC=sqrt((-5)^2+3^2+5^2);//m, Magnitude of vector AC\n",
"//vT_AB=T_AB*lambdaAB, lambdaAB - unit vector= vAB/AB. So we can calculate each component by multiplying this unit vector\n",
"T_ABx=T_AB*ABx/AB;//N , X component of T_AB\n",
"T_ABy=T_AB*ABy/AB;//N , Y component of T_AB\n",
"T_ABz=T_AB*ABz/AB;//N , Z component of T_AB\n",
"\n",
"printf('Component of T_AB along X axis is %.2f N\n',T_ABx);\n",
"printf('Component of T_AB along Y axis is %.2f N\n',T_ABy);\n",
"printf('Component of T_AB along Z axis is %.2f N\n',T_ABz);\n",
"printf('We may write T_AB as \n T_AB = %.2f i + %.2f j + %.2f k\n',T_ABx,T_ABy,T_ABz);\n",
"\n",
"\n",
"//vT_AC=T_AC*lambdaAC, lambdaAC - unit vector= vAC/AC. So we can calculate each component by multiplying this unit vector\n",
"T_ACx=T_AC*ACx/AC;//N , X component of T_AC\n",
"T_ACy=T_AC*ACy/AC;//N , Y component of T_AC\n",
"T_ACz=T_AC*ACz/AC;//N , Z component of T_AC\n",
"\n",
"printf('Component of T_AC along X axis is %.2f N\n',T_ACx);\n",
"printf('Component of T_AC along Y axis is %.2f N\n',T_ACy);\n",
"printf('Component of T_AC along Z axis is %.2f N\n',T_ACz);\n",
"printf('We may write T_AC as \n T_AC = %.2f i + %.2f j + %.2f k\n',T_ACx,T_ACy,T_ACz);\n",
"\n",
"Rx=T_ABx+T_ACx;//N ,X component of R\n",
"Ry=T_ABy+T_ACy;//N ,Y component of R\n",
"Rz=T_ABz+T_ACz;//N ,Z component of R\n",
"\n",
"printf('Component of R along X axis is %.2f N\n',Rx);\n",
"printf('Component of R along Y axis is %.2f N\n',Ry);\n",
"printf('Component of R along Z axis is %.2f N\n',Rz);\n",
"printf('We may write R as \n R = %.2f i + %.2f j + %.2f k\n',Rx,Ry,Rz);\n",
"\n",
"R=sqrt(Rx^2+Ry^2+Rz^2);//N, Magnitude of resultant\n",
"\n",
"thetax=acos(Rx/R);// radian , angle with +ve x axis\n",
"thetay=acos(Ry/R);// radian , angle with +ve y axis\n",
"thetaz=acos(Rz/R);// radian , angle with +ve z axis\n",
"\n",
"//Conversion of angles into degree\n",
"thetax=thetax*180/%pi;//degree\n",
"thetay=thetay*180/%pi;//degree\n",
"thetaz=thetaz*180/%pi;//degree\n",
"\n",
"printf('Angle made by R with +ve X axis %.2f degree\n',thetax);\n",
"\n",
"printf('Angle made by R with +ve Y axis %.2f degree\n',thetay);\n",
"printf('Angle made by F with +ve Z axis %.2f degree\n',thetaz);"
   ]
   }
],
"metadata": {
		  "kernelspec": {
		   "display_name": "Scilab",
		   "language": "scilab",
		   "name": "scilab"
		  },
		  "language_info": {
		   "file_extension": ".sce",
		   "help_links": [
			{
			 "text": "MetaKernel Magics",
			 "url": "https://github.com/calysto/metakernel/blob/master/metakernel/magics/README.md"
			}
		   ],
		   "mimetype": "text/x-octave",
		   "name": "scilab",
		   "version": "0.7.1"
		  }
		 },
		 "nbformat": 4,
		 "nbformat_minor": 0
}
