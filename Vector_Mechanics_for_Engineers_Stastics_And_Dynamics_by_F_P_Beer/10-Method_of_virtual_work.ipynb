{
"cells": [
 {
		   "cell_type": "markdown",
	   "metadata": {},
	   "source": [
       "# Chapter 10: Method of virtual work"
	   ]
	},
{
		   "cell_type": "markdown",
		   "metadata": {},
		   "source": [
			"## Example 10.3: Force_exerted_by_each_cylinder.sce"
		   ]
		  },
  {
"cell_type": "code",
	   "execution_count": null,
	   "metadata": {
	    "collapsed": true
	   },
	   "outputs": [],
"source": [
"clc;\n",
"m=1000;//kg, mass of krate\n",
"theta=60;//degree\n",
"theta=theta*%pi/180;//radians, conversion into rad\n",
"a=0.70;//m\n",
"L=3.20;//m\n",
"g=9.81;//m/s^2\n",
"//From theory we get\n",
"W=m*g;//N, Weight\n",
"W=W/1000;//kN, conversion into kN\n",
"S=sqrt(a^2+L^2-2*a*L*cos(theta));//m\n",
"F_DH=W*S/L/tan(theta);//kN\n",
"\n",
"printf('Force exerted by each cylinder is F_DH=%.2f kN',F_DH);"
   ]
   }
,
{
		   "cell_type": "markdown",
		   "metadata": {},
		   "source": [
			"## Example 10.4: Angle.sce"
		   ]
		  },
  {
"cell_type": "code",
	   "execution_count": null,
	   "metadata": {
	    "collapsed": true
	   },
	   "outputs": [],
"source": [
"clc;\n",
"m=10;//kg, mass of rim\n",
"r=300;//mm, radius of disk\n",
"a=0.08;//m\n",
"b=0.3;//m\n",
"k=4;//kN/m\n",
"g=9.81;//m/s^2  gravity\n",
"//From theory we get\n",
"\n",
"//sin(theta)=k*a^2/m/g/b*theta\n",
"dif=1;\n",
"for theta=0:0.001:1\n",
"    dif=sin(theta)-k*a^2/m/g/b*theta;\n",
"    if dif<=0.001 then printf('theta= %.3f rad or %.1f degrees\n',theta,theta/%pi*180);\n",
"    end\n",
"end\n",
"\n",
""
   ]
   }
],
"metadata": {
		  "kernelspec": {
		   "display_name": "Scilab",
		   "language": "scilab",
		   "name": "scilab"
		  },
		  "language_info": {
		   "file_extension": ".sce",
		   "help_links": [
			{
			 "text": "MetaKernel Magics",
			 "url": "https://github.com/calysto/metakernel/blob/master/metakernel/magics/README.md"
			}
		   ],
		   "mimetype": "text/x-octave",
		   "name": "scilab",
		   "version": "0.7.1"
		  }
		 },
		 "nbformat": 4,
		 "nbformat_minor": 0
}
