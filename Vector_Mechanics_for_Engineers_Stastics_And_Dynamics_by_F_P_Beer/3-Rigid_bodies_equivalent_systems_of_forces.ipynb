{
"cells": [
 {
		   "cell_type": "markdown",
	   "metadata": {},
	   "source": [
       "# Chapter 3: Rigid bodies equivalent systems of forces"
	   ]
	},
{
		   "cell_type": "markdown",
		   "metadata": {},
		   "source": [
			"## Example 3.1: Vertical_force.sce"
		   ]
		  },
  {
"cell_type": "code",
	   "execution_count": null,
	   "metadata": {
	    "collapsed": true
	   },
	   "outputs": [],
"source": [
"clc;\n",
"// Given data\n",
"//page 85\n",
"F=100; // lb , Vertical force applied to end of lever\n",
"theta=60;// degree, angle made by lever with +ve X axis\n",
"l=24; //  , length of lever\n",
"\n",
"// a ) Momemt about O\n",
"d=l*cosd(theta);// mm ,perpendicular distance from  o to the line of action\n",
" \n",
"Mo=F*d;// N.m, Magnitude of moment about O \n",
"printf('Magnitude of moment about O of the 500 N is %d lb.in and it is in clockwise direction as force tends to rotate lever clockwise\n',Mo);\n",
"\n",
"// b) Horizontal force\n",
"\n",
"d=l*sind(theta);//in, perpendicular distance from  o to the line of action\n",
"\n",
"F=Mo/d;// N, Horizontal Force at A required to produce same Moment about O\n",
"printf('Magnitude of Horizontal Force at A required to produce same Moment about O is %f lb \n',F);\n",
"\n",
"// c)Smallest force\n",
"\n",
"// F is smaller when d is maximum in expression Mo=F*d, so we choose force perpendicular to OA\n",
"Mo=1200//in lb\n",
"d=24// in ,perpendicular distance from  o to the line of action\n",
"F=Mo/d;// N, Smallest Force at A required to produce same Moment about O\n",
"printf('Magnitude of smallest Force at A required to produce same Moment about O is %f lb \n',F);\n",
"\n",
"//d) 1200 N vertical force\n",
"Mo=1200;// lb-in,\n",
"F=240//in lb\n",
"d=Mo/F;// m, perpendicular distance from  o to the line of action of force\n",
"OB=d/cosd(theta);//m, distance of point B from O\n",
"\n",
"printf('Verical force of 1200 N must act at %f in far from the shaft to create same moment about O\n',OB);\n",
"\n",
"\n",
"\n",
"\n",
"\n",
"\n",
"\n",
"\n",
"\n",
"\n",
"\n",
"\n",
"\n",
"\n",
"\n",
"\n",
"\n",
"\n",
"\n",
"\n",
"\n",
"\n",
"\n",
"\n",
"\n",
"\n",
""
   ]
   }
,
{
		   "cell_type": "markdown",
		   "metadata": {},
		   "source": [
			"## Example 3.2: Moment_of_force.sce"
		   ]
		  },
  {
"cell_type": "code",
	   "execution_count": null,
	   "metadata": {
	    "collapsed": true
	   },
	   "outputs": [],
"source": [
"clc;\n",
"//Page 86\n",
"// Given data\n",
"F=800; // N , Force applied on bracket\n",
"theta=60;// degree, angle made by lever with +ve X axis\n",
"theta=theta*%pi/180;// Conversion of angle into radian\n",
"r_AB=[-0.2, 0.16];//m vector drawn from B to A resolved in rectangular component\n",
"F=[F*cos(theta), F*sin(theta)]//N , vector F resolved in rectangular component \n",
"k=1;// Unit vector along Z axis \n",
"\n",
"// M_B=r_AB * F relation 3.7 from section 3.5\n",
"M_B=det([r_AB; F])*k;// N.m \n",
"printf('The moment of force 800 N about B is %.2f N.m . -ve sign shows its acting clockwise\n',M_B);\n",
"\n",
""
   ]
   }
,
{
		   "cell_type": "markdown",
		   "metadata": {},
		   "source": [
			"## Example 3.3: Moment_of_force.sce"
		   ]
		  },
  {
"cell_type": "code",
	   "execution_count": null,
	   "metadata": {
	    "collapsed": true
	   },
	   "outputs": [],
"source": [
"clc;\n",
"//page 86\n",
"// Given data\n",
"P=30; // lb, Force applied to shift lever \n",
"alpha=20;// degree, angle made by force P with -ve X axis\n",
"Q=P*sind(alpha)//in degree\n",
"\n",
"d=3//in ft\n",
"M_o=Q*d//N.m , here negative signs are taken as each component creates moment clockwise\n",
"printf('The moment of force P about B is %.2f lb-ft . -ve sign \n shows its acting clockwise\n',M_o);\n",
"\n",
""
   ]
   }
,
{
		   "cell_type": "markdown",
		   "metadata": {},
		   "source": [
			"## Example 3.4: magnitude_of_force_and_lambda.sce"
		   ]
		  },
  {
"cell_type": "code",
	   "execution_count": null,
	   "metadata": {
	    "collapsed": true
	   },
	   "outputs": [],
"source": [
"clc;\n",
"//page 87\n",
"// Given data\n",
"// M_A=r_CA * F relation 3.7 from section 3.5\n",
"f=200; // N , Magnitude of Force directed along CD\n",
"r_CA=[0.3,0, 0.08];//m, vector AC reprecsented in rectangular component\n",
"//lambda=CD/norm(CD)-m, Unit vector along CD\n",
"//F=f*lambda;//m, Force \n",
"CD=[-0.3, 0.24, -0.32];//Vector CD resolved into rectangular component\n",
"// norm(CD); m, magnitude of vector CD\n",
"\n",
"lambda=CD/norm(CD);//m, Unit vector along CD\n",
"F=f*lambda;//m, Force \n",
"// M_A=r_CA * F relation 3.7 from section 3.5\n",
"//i=1; j=1; k=1; Unit vectors along X, Y and Z direction respectively\n",
"\n",
"// Componenets of moment M_A along X,Y and Z direction respectively\n",
"M_Ax=det([r_CA(2),r_CA(3); F(2), F(3)]);//N.m\n",
"M_Ay=-det([r_CA(1),r_CA(3) ; F(1),F(3)]);//N.m\n",
"M_Az=det([r_CA(1),r_CA(2) ;F(1), F(2)]);// N.m \n",
"\n",
"printf('Answer can be written as M_B = %.2f N.m i + %.2f N.m j + %.2f N.m k \n',M_Ax,M_Ay,M_Az);\n",
"\n",
"\n",
""
   ]
   }
,
{
		   "cell_type": "markdown",
		   "metadata": {},
		   "source": [
			"## Example 3.6: Couple_M_equivalent_to_two_couple.sce"
		   ]
		  },
  {
"cell_type": "code",
	   "execution_count": null,
	   "metadata": {
	    "collapsed": true
	   },
	   "outputs": [],
"source": [
"clc;\n",
"//Given data\n",
"// Moment arms\n",
"Fx=-30;//in lb\n",
"Fy=20;//in lb\n",
"Fz=20;//in lb\n",
"\n",
"//couple Forces \n",
"x=18;//iN\n",
"y=12;//iN\n",
"z=9;//iN\n",
"\n",
"Mx=Fx*x;//N.m, Component of Moment along X axis\n",
"My=Fy*y;//N.m, Component of Moment along Y axis\n",
"Mz=Fz*z;//N.m, Component of Moment along Z axis\n",
"//This three moments represent component of single couple M \n",
"printf('Couple M equivalent to two couple can be written as \n M = %.2f lb-in i + %.2f lb-in j + %.2f lb-in k \n',Mx,My,Mz);"
   ]
   }
,
{
		   "cell_type": "markdown",
		   "metadata": {},
		   "source": [
			"## Example 3.7: Distance_from_the_shaft.sce"
		   ]
		  },
  {
"cell_type": "code",
	   "execution_count": null,
	   "metadata": {
	    "collapsed": true
	   },
	   "outputs": [],
"source": [
"clc;\n",
"//page 113\n",
"Mo=24;//N.m *k, Couple of moment \n",
"f=-400;//N, Magnitude of force\n",
"OB=300;//mm,Distance of force from point O\n",
"theta=60;// degree, angle made by lever with +ve X axis\n",
"x=cosd(theta)\n",
"BC=Mo/(-f*x);//m \n",
"BC=BC*1000;//mm, Conversion into millimeter\n",
"disp(BC)\n",
"OC=OB+BC;//mm, Distance from the shaft to the point of application of this equivalenet force\n",
"\n",
"printf('Distance from the shaft to the point of application of this equivalenet single force is %f mm',OC)"
   ]
   }
],
"metadata": {
		  "kernelspec": {
		   "display_name": "Scilab",
		   "language": "scilab",
		   "name": "scilab"
		  },
		  "language_info": {
		   "file_extension": ".sce",
		   "help_links": [
			{
			 "text": "MetaKernel Magics",
			 "url": "https://github.com/calysto/metakernel/blob/master/metakernel/magics/README.md"
			}
		   ],
		   "mimetype": "text/x-octave",
		   "name": "scilab",
		   "version": "0.7.1"
		  }
		 },
		 "nbformat": 4,
		 "nbformat_minor": 0
}
