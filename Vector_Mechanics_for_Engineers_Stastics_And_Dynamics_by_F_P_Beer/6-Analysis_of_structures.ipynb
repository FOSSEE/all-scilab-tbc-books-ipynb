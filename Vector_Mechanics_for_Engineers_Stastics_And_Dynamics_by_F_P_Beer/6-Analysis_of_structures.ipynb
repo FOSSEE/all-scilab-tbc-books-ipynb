{
"cells": [
 {
		   "cell_type": "markdown",
	   "metadata": {},
	   "source": [
       "# Chapter 6: Analysis of structures"
	   ]
	},
{
		   "cell_type": "markdown",
		   "metadata": {},
		   "source": [
			"## Example 6.1: force.sce"
		   ]
		  },
  {
"cell_type": "code",
	   "execution_count": null,
	   "metadata": {
	    "collapsed": true
	   },
	   "outputs": [],
"source": [
"clc;\n",
"//page 294\n",
"//Entire truss\n",
"//Applying sum(M_C)=0\n",
"E=(10*12+5*6)/3;//kN\n",
"\n",
"//Applying sum Fx=0\n",
"Cx=0\n",
"\n",
"//Applying sumFy=0\n",
"\n",
"Cy=10+5-E;//kN\n",
"\n",
"//At joint A\n",
"//By proportion 10kN/4=F_AB/3=F_AD/5\n",
"F_AB=10/4*3;//kN, force in member AB\n",
"F_DA=10/4*5;//kN, force in member AD\n",
"\n",
"//At joint D\n",
"F_DB=F_DA;//kN, force in member DB\n",
"F_DE=2*3/5*F_DA;//kN, force in member DE\n",
"\n",
"//At joint B\n",
"//applying sumFy=0\n",
"F_BE=5/4*(-5-4/5*F_DB);//kN, force in member BE\n",
"//Applying sumFx=0\n",
"\n",
"F_BC=F_AB+3/5*F_DB-3/5*F_BE;//kN, force in member BC\n",
"\n",
"//At joint E\n",
"//Applying sumFx=0\n",
"F_EC=-5/3*(F_DE-3/5*F_BE);//kN, Force in member EC\n",
"\n",
"printf('The forces in member of truss are \n F_AB= %.1f kN T \n F_AD= %.1f kN C, \n F_DB= %.1f kN T, \n F_DE= %.0f kN C \n F_BE= %.2f kN  \n F_BC= %.2f kN \n F_EC= %.2f kN ',F_AB,F_DA,F_DB,F_DE,F_BE,F_BC,F_EC);\n",
"//Variation in answe because of round off"
   ]
   }
,
{
		   "cell_type": "markdown",
		   "metadata": {},
		   "source": [
			"## Example 6.2: force.sce"
		   ]
		  },
  {
"cell_type": "code",
	   "execution_count": null,
	   "metadata": {
	    "collapsed": true
	   },
	   "outputs": [],
"source": [
"clc;\n",
"//page 306\n",
"//Entire truss\n",
"v1=140;//kn, verical force 1\n",
"v2=140;//kN, Vertical force 2\n",
"h=80;//kN , Horizontal force\n",
"//Applying sum(M_B)=0\n",
"J=(v1*4+v2*12+h*5)/16;//kN\n",
"\n",
"//Applying sum Fx=0\n",
"Bx=-h;//kN, negative sign shows it is along negative x axis\n",
"\n",
"//Applying sumFy=0\n",
"\n",
"By=v1+v2-J;//kN\n",
"\n",
"//Force in member EF\n",
"//Applying sumFy=0\n",
"F_EF=By-v2;//kN, Force in member EF\n",
"printf('Force in member EF is %.0f kN \n Negative sign shows member is in compression \n',F_EF);\n",
"\n",
"//Force in member GI\n",
"F_GI=(-J*4-Bx*5)/5;//kN Force in member GI\n",
"printf('Force in member GI is %.0f kN \n Negative sign shows member is in compression \n',F_GI);\n",
"//Answer difference is because of rounding off variables"
   ]
   }
,
{
		   "cell_type": "markdown",
		   "metadata": {},
		   "source": [
			"## Example 6.3: Calculation_of_force.sce"
		   ]
		  },
  {
"cell_type": "code",
	   "execution_count": null,
	   "metadata": {
	    "collapsed": true
	   },
	   "outputs": [],
"source": [
"clc;\n",
"//page 307\n",
"//Entire truss\n",
"vB=1;//kN, verical force at B\n",
"vD=1;//kN, verical force at D\n",
"vF=1;//kN, verical force at F\n",
"vH=1;//kN, verical force at H\n",
"vJ=1;//kN, verical force at J\n",
"vC=5;//kN, verical force at C\n",
"vE=5;//kN, verical force at E\n",
"vG=5;//kN, verical force at G\n",
"h=8;//m, height\n",
"v=5;//m, horizontal distance between successive node\n",
"\n",
"A=12.50;//kN, reaction at A\n",
"L=7.50;//kN, reaction at L\n",
"\n",
"alpha=atan(h/3/v);// rad, angle made by inclined members with  X axis\n",
"//alpha=alpha/%pi*180;// Conversion of angle into degrees\n",
"\n",
"\n",
"\n",
"//Force in member GI\n",
"//Applying sum(M_H)=0\n",
"F_GI=(L*2*v-vJ*v)/(2*v*tan(alpha));//kN Force in member GI\n",
"printf('Force in member GI is %.2f kN \n ',F_GI);\n",
"\n",
"//Force in member FH\n",
"//Applying sum(M_G)=0\n",
"F_FH=(L*3*v-vH*v-vJ*2*v)/(-h*cos(alpha));//kN, Force in member FH\n",
"printf('Force in member FH is %.2f kN \n Negative sign shows member is in compression \n',F_FH);\n",
"\n",
"\n",
"//Force in member GH\n",
"be=atan(v/(2*v*tan(alpha)));//rad, as tan(be)=GI/HI\n",
"//Applying sum(M_L)=0\n",
"F_GH=(-vH*v-vJ*2*v)/(3*v*cos(be));//kN, Force in member FH\n",
"printf('Force in member GH is %.3f kN \n Negative sign shows member is in compression \n',F_GH);"
   ]
   }
,
{
		   "cell_type": "markdown",
		   "metadata": {},
		   "source": [
			"## Example 6.4: components_of_force.sce"
		   ]
		  },
  {
"cell_type": "code",
	   "execution_count": null,
	   "metadata": {
	    "collapsed": true
	   },
	   "outputs": [],
"source": [
"clc;\n",
"//page 319\n",
"//Entire truss\n",
"//Applying sum(Fy)=0\n",
"Ay=480;//N, Y component of reaction at A\n",
"//Applying sum(M_A)=0\n",
"B=480*100/160;//N,  reaction at B\n",
"//Applying sum(Fx)=0\n",
"Ax=-300;//N, X component of reaction at A\n",
"\n",
"alpha=atan(80/150);//radian\n",
"\n",
"//Free body member BCD\n",
"\n",
"//Applying sum(M_C)=0\n",
"F_DE=(-480*100-B*60)/(sin(alpha)*250);//N,  Force in link DE\n",
"printf('Force in link DE is F_DE=%.0f N\n Negative sign shows force is compressive\n',F_DE);\n",
"//Applying sum(Fx)=0\n",
"Cx=F_DE*cos(alpha)-B;//N, X component of force exerted at C\n",
"//Applying sum(Fy)=0\n",
"Cy=F_DE*sin(alpha)+Ay;//N, Y component of force exerted at C\n",
"printf('Components of force exerted at C is Cx=%.0f N and Cy=%.0f N \n',Cx,Cy);\n",
"\n",
""
   ]
   }
,
{
		   "cell_type": "markdown",
		   "metadata": {},
		   "source": [
			"## Example 6.5: components_of_force.sce"
		   ]
		  },
  {
"cell_type": "code",
	   "execution_count": null,
	   "metadata": {
	    "collapsed": true
	   },
	   "outputs": [],
"source": [
"clc;\n",
"//page 320\n",
"P=18;//kN, Force applied at D\n",
"AF=3.6;//m, Length AF\n",
"EF=2;//m, Length EF\n",
"ED=2;//m, Length ED\n",
"DC=2;//m, Length DC\n",
"//Entire frame\n",
"//Applying sum(M_F)=0\n",
"Ay=-P*(EF+ED)/AF;//kN, Y component of reaction at A\n",
"\n",
"//Applying sum(Fx)=0\n",
"Ax=-P;//kN, X component of reaction at A\n",
"//Applying sum(Fy)=0\n",
"F=-Ay;//kN,  reaction at B\n",
"\n",
"\n",
"printf('Components of force exerted at A is Ax=%.0f kN and Ay=%.0f kN \n',Ax,Ay);\n",
"printf('Force exerted at F is F=%.0f kN \n',F);\n",
"//Free body member BE\n",
"//Applying sum(Fx)=0\n",
"//B=E, and as it is 2 force member\n",
"By=0;\n",
"Ey=0;\n",
"\n",
"//Member ABC\n",
"//Applying sum(Fy)=0\n",
"Cy=-Ay;//kN, Y component of force exerted at C\n",
"//Applying sum(M_C)=0\n",
"B=(Ay*AF-Ax*(DC+ED+EF))/(ED+DC);//kN,  Force in link DE\n",
"printf('Force exerted at B is B=%.0f kN  \n',B);\n",
"//Applying sum(Fx)=0\n",
"Cx=-Ax-B;//kN, X component of force exerted at C\n",
"\n",
"printf('Components of force exerted at C is Cx=%.0f kN and Cy=%.0f kN \n',Cx,Cy);\n",
"\n",
"printf('Negative signs shows forces are in negative direction\n')\n",
"\n",
""
   ]
   }
,
{
		   "cell_type": "markdown",
		   "metadata": {},
		   "source": [
			"## Example 6.6: Force.sce"
		   ]
		  },
  {
"cell_type": "code",
	   "execution_count": null,
	   "metadata": {
	    "collapsed": true
	   },
	   "outputs": [],
"source": [
"clc;\n",
"P=3;//kN, Horizontal Force applied at A\n",
"AB=1;//m, perpendicular distance between A and B\n",
"BD=1;//m, perpendicular distance between D and B\n",
"CD=1;//m, perpendicular distance between C and D\n",
"FC=1;//m, perpendicular distance between C and F\n",
"EF=2.4;//m, perpendicular distance between E and F\n",
"//Entire frame\n",
"//Applying sum(M_E)=0\n",
"Fy=P*(AB+BD+CD+FC)/EF;//kN, Y component of reaction at F\n",
"\n",
"\n",
"//Applying sum(Fy)=0\n",
"Ey=-Fy;//kN, Y component of  reaction at E\n",
"\n",
"//Free body member ACE\n",
"//Applying sum(Fy)=0, and sum(M_E)=0 we get 2 equation\n",
"A=[-AB/sqrt(AB^2+EF^2),CD/sqrt(CD^2+EF^2);-EF/sqrt(AB^2+EF^2)*(AB+BD+CD+FC),-EF/sqrt(CD^2+EF^2)];// Matrix of coefficients\n",
"B=[Ey;-P*(AB+BD+CD+FC)];// Matrix B\n",
"X=linsolve(A,B);//kN Solution matrix\n",
"F_AB=X(1);//kN, Forec inmember AB\n",
"F_CD=X(2);//kN, Forec inmember CD\n",
"Ex=-P-EF/sqrt(AB^2+EF^2)*F_AB-EF/sqrt(CD^2+EF^2)*F_CD;//kN, X component of force exerted at E\n",
"//Free body : Entire frame\n",
"//Applying sum(F_X)=0\n",
"Fx=-P-Ex;//kN, X component of force exetered at F\n",
"printf('Components of force exerted at F is Fx=%.1f kN and Fy=%.0f kN \n',Fx,Fy);\n",
"printf('Force in member AB is F_AB=%.1f kN \n',F_AB);\n",
"printf('Force in member CD is F_CD=%.1f kN \n',F_CD);\n",
"printf('Components of force exerted at E is Ex=%.1f kN and Ey=%.1f kN \n',Ex,Ey);\n",
"\n",
"printf('Negative signs shows forces are in negative direction\n')\n",
"\n",
""
   ]
   }
],
"metadata": {
		  "kernelspec": {
		   "display_name": "Scilab",
		   "language": "scilab",
		   "name": "scilab"
		  },
		  "language_info": {
		   "file_extension": ".sce",
		   "help_links": [
			{
			 "text": "MetaKernel Magics",
			 "url": "https://github.com/calysto/metakernel/blob/master/metakernel/magics/README.md"
			}
		   ],
		   "mimetype": "text/x-octave",
		   "name": "scilab",
		   "version": "0.7.1"
		  }
		 },
		 "nbformat": 4,
		 "nbformat_minor": 0
}
