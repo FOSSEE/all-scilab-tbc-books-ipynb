{
"cells": [
 {
		   "cell_type": "markdown",
	   "metadata": {},
	   "source": [
       "# Chapter 9: Distributed forces Moment of Inertia"
	   ]
	},
{
		   "cell_type": "markdown",
		   "metadata": {},
		   "source": [
			"## Example 9.4: Area_of_plate.sce"
		   ]
		  },
  {
"cell_type": "code",
	   "execution_count": null,
	   "metadata": {
	    "collapsed": true
	   },
	   "outputs": [],
"source": [
"clc;\n",
"//page 465\n",
"//Area of plate\n",
"\n",
"\n",
"A=9*.75;//in^2\n",
"y=1/2*13.84+1/2*.75;//in, y co-ordinate of centroid of the plate\n",
"//All values for flange are from table from book\n",
"sumA=A+8.85;//in^2 Total area\n",
"sumyA=y*A+0;//in^3\n",
"Y=sumyA/sumA;//in \n",
"//disp(Y)\n",
"//Moment of inertia\n",
"//For wide flanfe\n",
"Ix1=291+8.85*Y^2;//in^4\n",
"//for plate\n",
"Ix2=1/12*9*(3/4)^3+6.75*(7.295-3.156)^2;//in^4\n",
"//For composite area\n",
"Ix=Ix1+Ix2;//in^4\n",
"\n",
"printf('Moment of inertia Ix= %.2e in^4 \n',Ix);\n",
"\n",
"//Radius of gyration\n",
"kx=sqrt(Ix/sumA);//mm\n",
"printf('Radius of gyration is kx= %.1f in\n',kx);"
   ]
   }
,
{
		   "cell_type": "markdown",
		   "metadata": {},
		   "source": [
			"## Example 9.5: Principle_moment_of_inertia.sce"
		   ]
		  },
  {
"cell_type": "code",
	   "execution_count": null,
	   "metadata": {
	    "collapsed": true
	   },
	   "outputs": [],
"source": [
"clc;\n",
"//page 466\n",
"//Given\n",
"r=90;//mm, radius of half circle\n",
"b=240;//mm, width\n",
"h=120;//mm, height\n",
"\n",
"//Moment of inertia of rectangle\n",
"Ixr=1/3*b*h^3;//mm^4\n",
"\n",
"//Moment of inertia of half circle\n",
"a=4*r/(3*%pi);//mm\n",
"\n",
"b=h-a;//mm, Distance b from centroid c to X axis\n",
"\n",
"I_AA=1/8*%pi*r^4;//mm^4, Moment of inertia of half circle with respect to AA'\n",
"A=1/2*%pi*r^2;//mm^2, Area of half circle\n",
"\n",
"Ix1=I_AA-A*a^2;//mm^4, Parallel axis theorem\n",
"\n",
"Ixc=Ix1+A*b^2;//mm^4, Parallel axis theorem\n",
"\n",
"//Moment of inertia of given area\n",
"Ix=Ixr-Ixc;//mm^4\n",
"\n",
"printf('Moment of inertia of area about X axis is Ix= %2.2e mm^4\n',Ix);"
   ]
   }
,
{
		   "cell_type": "markdown",
		   "metadata": {},
		   "source": [
			"## Example 9.7: Principle_moment_of_inertia.sce"
		   ]
		  },
  {
"cell_type": "code",
	   "execution_count": null,
	   "metadata": {
	    "collapsed": true
	   },
	   "outputs": [],
"source": [
"clc;\n",
"//page 479\n",
"Ix=10.38;//in^4,Moment of inertia about x axis\n",
"Iy=6.97;//in^4,Moment of inertia about y axis\n",
"\n",
"Ixy=-3.28+0-3.28\n",
"disp(Ixy)//in in^4\n",
"\n",
"//Principal axes\n",
"tan_2_theta_m=-(2*Ixy)/(Ix-Iy)\n",
"two_theta_m=atand(tan_2_theta_m)\n",
"theta_m=two_theta_m/2\n",
"printf('Orientation of principle axes of section about O is Theta_m= %.1f degree \n',theta_m);\n",
"\n",
"//Principle moment of inertia, eqn 9.27\n",
"Imax=(Ix+Iy)/2+sqrt(((Ix-Iy)/2)^2+Ixy^2);//mm^4\n",
"Imin=(Ix+Iy)/2-sqrt(((Ix-Iy)/2)^2+Ixy^2);//mm^4\n",
"\n",
"printf('Principle moment of inertia of section about O are \n Imax= %.2e in^4 \n Imin= %.0e  in^4\n',Imax,Imin);\n",
"//answer difference is due to roundoff\n",
"\n",
""
   ]
   }
],
"metadata": {
		  "kernelspec": {
		   "display_name": "Scilab",
		   "language": "scilab",
		   "name": "scilab"
		  },
		  "language_info": {
		   "file_extension": ".sce",
		   "help_links": [
			{
			 "text": "MetaKernel Magics",
			 "url": "https://github.com/calysto/metakernel/blob/master/metakernel/magics/README.md"
			}
		   ],
		   "mimetype": "text/x-octave",
		   "name": "scilab",
		   "version": "0.7.1"
		  }
		 },
		 "nbformat": 4,
		 "nbformat_minor": 0
}
