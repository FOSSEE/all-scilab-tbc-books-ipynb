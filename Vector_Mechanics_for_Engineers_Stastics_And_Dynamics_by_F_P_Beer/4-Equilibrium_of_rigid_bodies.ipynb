{
"cells": [
 {
		   "cell_type": "markdown",
	   "metadata": {},
	   "source": [
       "# Chapter 4: Equilibrium of rigid bodies"
	   ]
	},
{
		   "cell_type": "markdown",
		   "metadata": {},
		   "source": [
			"## Example 4.10: coordinates.sce"
		   ]
		  },
  {
"cell_type": "code",
	   "execution_count": null,
	   "metadata": {
	    "collapsed": true
	   },
	   "outputs": [],
"source": [
"clc;\n",
"//page 197\n",
"Tmin=300//lb\n",
"AC=[12 12 0]\n",
"w=[0;-450;0]\n",
"x1=AC*w\n",
"disp(x1)\n",
"x=[0 0 x1]\n",
"lambda=[2/3 2/3 -1/3]*[0;0;-x1]\n",
"y=x*lambda\n",
"disp(y)\n",
"//Location of G\n",
"//EG and Tmin are having same direction, so their component should be in proportion\n",
"x=-1.8/Tmin(3)*Tmin(1)+1.8;//m, X co-ordinate of G\n",
"y=-1.8/Tmin(3)*Tmin(2)+3.6;//m, Y co-ordinate of G\n",
"printf('Co-ordinates of G are x=%.0f m and y= %.1f m',x,y);"
   ]
   }
,
{
		   "cell_type": "markdown",
		   "metadata": {},
		   "source": [
			"## Example 4.1: Angle_and_degee.sce"
		   ]
		  },
  {
"cell_type": "code",
	   "execution_count": null,
	   "metadata": {
	    "collapsed": true
	   },
	   "outputs": [],
"source": [
"clc;\n",
"//page 166\n",
"//Determination of B\n",
"//At equillibrium +sum(M_A)=0\n",
"//B*1.5m-(9.81kN)(2 m)-(23.5 kN)(6 m)=0, B assumed to be in +ve X direction\n",
"B=(9.81*2+23.5*6)/1.5//kN\n",
"printf('B=%.2f kN \n +ve sign shows reaction is directed as assumed ',B);\n",
"//Determination of Ax\n",
"//Sum Fx=0\n",
"//Ax+B=0\n",
"Ax=-B;//kN\n",
"printf('Ax=%.2f kN\n',Ax);\n",
"//Determination of Ay\n",
"//Sum Fy=0\n",
"//Ay-9.81 kN-23.5kN=0\n",
"Ay=9.81+23.5;//kN\n",
"printf('Ay=%.2f kN\n',Ay);\n",
"A=[Ax,Ay];//kN Adding component\n",
"A=norm(A);//Magnitude of force A\n",
"theta=atan(Ay/Ax);//radians\n",
"theta=theta*180/%pi;//degrees, conversion into degrees\n",
"printf('Reaction at A is A=%.2f kN making angle %.2f degrees \n with + ve x axis ',A,theta);\n",
"//Slight variation in the answer because of roundoff error"
   ]
   }
,
{
		   "cell_type": "markdown",
		   "metadata": {},
		   "source": [
			"## Example 4.2: Angle_and_degee.sce"
		   ]
		  },
  {
"cell_type": "code",
	   "execution_count": null,
	   "metadata": {
	    "collapsed": true
	   },
	   "outputs": [],
"source": [
"clc;\n",
"//Page 148\n",
"\n",
"//At equillibrium equations are +-> sum Fx=0, +sum(M_A)=0, +sum(M_B)=0\n",
"//Sum Fx=0 gives\n",
"Bx=0;//kN\n",
"printf('Bx=%.0f kN \n',Bx);\n",
"//+sum(M_A)=0 gives -(70kN)(0.9m)+By(2.7m)-(27kN)(3.3m)-(27kN)(3.9m)=0, B assumed to be in +ve Y direction\n",
"By=(70*0.9+27*3.3+27*3.9)/2.7//kN\n",
"printf('By=%.2f kN  +ve sign shows reaction is directed as assumed \n',By);\n",
"\n",
"//+sum(M_B)=0 gives -A(2.7m)+(70kN)(1.8m)-(27kN)(0.6m)-(27kN)(1.2m)=0, A assumed to be in +ve Y direction\n",
"A=(70*1.8-27*0.6-27*1.2)/2.7//kN\n",
"printf('A=%.2f kN  +ve sign shows reaction is directed as assumed \n',A);\n",
"//Answer displayed in KN"
   ]
   }
,
{
		   "cell_type": "markdown",
		   "metadata": {},
		   "source": [
			"## Example 4.3: Reaction_and_direction.sce"
		   ]
		  },
  {
"cell_type": "code",
	   "execution_count": null,
	   "metadata": {
	    "collapsed": true
	   },
	   "outputs": [],
"source": [
"clc;\n",
"//page 168\n",
"//Take x axis parallel to track and Y axis perpendicular to track\n",
"W=25;//kN\n",
"// Resolving weight\n",
"Wx=W*cos(25*%pi/180);//kN\n",
"Wy=-W*sin(25*%pi/180);//kN\n",
"//At equillibrium equations are +-> sum Fx=0, +sum(M_A)=0, +sum(M_B)=0\n",
"\n",
"//+sum(M_A)=0 gives -(10.5kN)(625 mm)-(22.65 kN)(150 mm)+ R2(1250 mm)=0, R2 assumed to be in +ve Y direction\n",
"R2=(10.5*625+22.65*150)/1250;//kN\n",
"printf('R2=%.0f kN  +ve sign shows reaction is directed as assumed \n',R2);\n",
"\n",
"//+sum(M_B)=0 gives (10.5kN)(625 mm)-(22.65 kN)(150 mm)+ R1(1250 mm)=0, R1 assumed to be in +ve Y direction\n",
"R1=(10.5*625-22.65*150)/1250;//kN\n",
"printf('R1=%.1f kN  +ve sign shows reaction is directed as assumed \n',R1);\n",
"\n",
"//Sum Fx=0 gives, 22.65 N-T=0\n",
"T=22.65;//kN\n",
"printf('T=%.2f kN  +ve sign shows reaction is directed as assumed \n',T);"
   ]
   }
,
{
		   "cell_type": "markdown",
		   "metadata": {},
		   "source": [
			"## Example 4.4: Reaction_and_direction.sce"
		   ]
		  },
  {
"cell_type": "code",
	   "execution_count": null,
	   "metadata": {
	    "collapsed": true
	   },
	   "outputs": [],
"source": [
"clc;\n",
"////page 168\n",
"Ax=4.5//in m\n",
"Ay=6//in m\n",
"DF=sqrt((Ax^2)+(Ay^2))\n",
"F=150//in KN\n",
"Ex=-(Ax/DF)*F\n",
"printf('Ex=%.2f kN \n',Ex);\n",
"Ey=((Ay/DF)*F)+(4*20)\n",
"printf('Ey=%.2f kN \n',Ey);\n",
"\n",
"M_E=-((20*7.2)+(20*5.4)+(20*3.6)+(20*1.8)-((Ay/DF)*F*Ax))\n",
"printf('M_E=%.0f kN  +ve sign shows reaction is directed as assumed \n',M_E);"
   ]
   }
,
{
		   "cell_type": "markdown",
		   "metadata": {},
		   "source": [
			"## Example 4.5: Angle_and_degee.sce"
		   ]
		  },
  {
"cell_type": "code",
	   "execution_count": null,
	   "metadata": {
	    "collapsed": true
	   },
	   "outputs": [],
"source": [
"clc;\n",
"//page 169\n",
"\n",
"//At equillibrium  +sum(Mo)=0,\n",
"//s=r*theta;\n",
"//F=k*s=k*r*theta;\n",
"k=45;//N/mm\n",
"r=75;//mm\n",
"W=1800;//N\n",
"l=200;//mm\n",
"\n",
"\n",
"// trial and error \n",
"printf('Probable answers by trial and error method are \n');\n",
"for i=0:0.1:%pi/2 // from 0 to 90 degrees\n",
"\n",
"difference=(sin(i)-k*r^2*(i)/(W*l));\n",
"if difference<0.01 then   // Approximation\n",
"   theta=i;\n",
"   theta=theta*180/%pi;//Degrees , conversion into degrees\n",
"printf('Theta=%.2f degrees\n',theta); \n",
"end\n",
"end"
   ]
   }
,
{
		   "cell_type": "markdown",
		   "metadata": {},
		   "source": [
			"## Example 4.6: Tension_and_angle.sce"
		   ]
		  },
  {
"cell_type": "code",
	   "execution_count": null,
	   "metadata": {
	    "collapsed": true
	   },
	   "outputs": [],
"source": [
"clc;\n",
"//page 185\n",
"\n",
"m=10;//kg mass of joist\n",
"g=9.81;//m/s^2 gravitational acceleration\n",
"W=m*g;//N\n",
"AB=4;//m\n",
"// Three force body\n",
"BF=AB*cos(45*%pi/180);//m\n",
"AF=BF;//m\n",
"\n",
"AE=1/2*AF;//m\n",
"EF=AE;//m\n",
"CD=AE;//m\n",
"BD=CD/tan((45+25)*%pi/180);//m\n",
"DF=BF-BD;//m\n",
"CE=DF;//m\n",
"alpha=atan(CE/AE);//radians\n",
"alpha=alpha*180/%pi;//degrees\n",
"\n",
"//From geometry\n",
"\n",
"G=90-alpha;//degrees\n",
"B=alpha-(90-(45+25));//degrees\n",
"C=180-(G+B);//Degrees\n",
"\n",
"//Force triangle\n",
"//T/sin(G)=R/sin(C)=W/sin(B)..... sine law\n",
"\n",
"T=W/sin(B*%pi/180)*sin(G*%pi/180);//N\n",
"R=W/sin(B*%pi/180)*sin(C*%pi/180);//N\n",
"printf('Tension in cable T= %.1f N\n Reaction At A is \n R= %.1f N with angle alpha= %.1f degrees with +ve X axis',T,R,alpha); \n",
""
   ]
   }
,
{
		   "cell_type": "markdown",
		   "metadata": {},
		   "source": [
			"## Example 4.7: Reactio.sce"
		   ]
		  },
  {
"cell_type": "code",
	   "execution_count": null,
	   "metadata": {
	    "collapsed": true
	   },
	   "outputs": [],
"source": [
"clc;\n",
"//page 194\n",
"m1=80;//kg mass of man\n",
"m2=20;//kg, mass of ladder\n",
"m=m1+m2;//kg\n",
"g=9.81;//m/s^2 gravitational acceleration\n",
"W=-m*g;//N, j\n",
"\n",
"C=-0.6*W/3;//N\n",
"Bz=-0.6*C/1.2;//N\n",
"By=-0.9*W/1.2;//N\n",
"\n",
"printf(' Reaction At B is B= (%.0f) N j +(%.1f N)k\n',By,Bz);\n",
"printf(' Reaction At C is C= (%.2f) N k\n',C);  \n",
"Ay=-W-By;//N\n",
"Az=-C-Bz;//N\n",
"\n",
"\n",
"printf(' Reaction At A is A= (%.0f) N j +(%.1f N)k \n',Ay,Az); \n",
""
   ]
   }
,
{
		   "cell_type": "markdown",
		   "metadata": {},
		   "source": [
			"## Example 4.8: Reaction_and_direction.sce"
		   ]
		  },
  {
"cell_type": "code",
	   "execution_count": null,
	   "metadata": {
	    "collapsed": true
	   },
	   "outputs": [],
"source": [
"clc;\n",
"W=-1200;//N,j  Weight \n",
"BD=[-2.4,1.2,-2.4];//m, Vector BD\n",
"EC=[-1.8,0.9,0.6];//m, Vector EC\n",
"//T_BD=norm(T_BD)*BD/norm(BD);// m, vector of tension in BD\n",
"//T_EC=norm(T_EC)*EC/norm(EC);// m, vector of tension in EC\n",
"// Applying equillibrium conditions we get\n",
"// Sum_F=0, and Sum(M_A)=0 and setting co-efficient equal to zero\n",
"A=[0.8,0.771;1.6,-0.514];//MAtrix of co-efficient\n",
"b=[-1440;0];//matrix b\n",
"x=linsolve(A,b);// solution matrix\n",
"T_BD=x(1);// N,Tension in BD\n",
"T_EC=x(2);//N, Tension in EC\n",
"printf('T_BD= (%.0f N) and T_EC= (%.0f N) \n',x(1),x(2));\n",
"\n",
"Ax=2/3*T_BD+6/7*T_EC;//N, x component of reaction at A\n",
"Ay=-(1/3*T_BD+3/7*T_EC+W);//N, Y component of rection at A\n",
"Az=2/3*T_BD-2/7*T_EC;//N, z component of reaction at A\n",
"\n",
"printf('Reaction at A is A=(%.0f N)i +(%.0f N)j +(%.1f N)k \n',Ax,Ay,Az);\n",
"//Answe in Newton instead of lbs\n",
"//1lbs=4.44N"
   ]
   }
,
{
		   "cell_type": "markdown",
		   "metadata": {},
		   "source": [
			"## Example 4.9: Tension_in_vector_form.sce"
		   ]
		  },
  {
"cell_type": "code",
	   "execution_count": null,
	   "metadata": {
	    "collapsed": true
	   },
	   "outputs": [],
"source": [
"clc;\n",
"//page 198\n",
"//Free body diagram\n",
"m=30//in kg\n",
"g=9.81//in m/s2\n",
"w=-m*g//in J\n",
"DC=[-480 240 -160]//in mm\n",
"X=norm(DC)\n",
"T=DC/X\n",
"disp('Tension in the vector form=')\n",
"disp(T)\n",
"//Equilibrium equations\n",
"//From equation 2, setting unit vector=0\n",
"Ax=49//in N\n",
"Ay=73.5//in N\n",
"A=[Ax Ay]\n",
"y=norm(A)\n",
"disp('Tension in the vector form in N=')\n",
"disp(y)"
   ]
   }
],
"metadata": {
		  "kernelspec": {
		   "display_name": "Scilab",
		   "language": "scilab",
		   "name": "scilab"
		  },
		  "language_info": {
		   "file_extension": ".sce",
		   "help_links": [
			{
			 "text": "MetaKernel Magics",
			 "url": "https://github.com/calysto/metakernel/blob/master/metakernel/magics/README.md"
			}
		   ],
		   "mimetype": "text/x-octave",
		   "name": "scilab",
		   "version": "0.7.1"
		  }
		 },
		 "nbformat": 4,
		 "nbformat_minor": 0
}
