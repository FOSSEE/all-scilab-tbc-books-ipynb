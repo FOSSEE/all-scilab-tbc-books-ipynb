{
"cells": [
 {
		   "cell_type": "markdown",
	   "metadata": {},
	   "source": [
       "# Chapter 13: TRANSISTOR AND OTHER DEVICES"
	   ]
	},
{
		   "cell_type": "markdown",
		   "metadata": {},
		   "source": [
			"## Example 13.10: COLLECTOR_CURRENT.sce"
		   ]
		  },
  {
"cell_type": "code",
	   "execution_count": null,
	   "metadata": {
	    "collapsed": true
	   },
	   "outputs": [],
"source": [
"//Chapter-13, Example 13.10, Page 391\n",
"//=============================================================================\n",
"clc\n",
"clear\n",
"//INPUT DATA\n",
"Ie=12;//emitter current in mA\n",
"b=100;//common-emitter DC current gain\n",
"//CALCULATIONS\n",
"Ib=Ie/(1+b);//base current in mA\n",
"Ic=Ie-Ib;//collector current in mA\n",
"mprintf('Thus base and collector currents are %1.4f mA and %2.4f mA respectively',Ib,Ic);\n",
"//=================================END OF PROGRAM======================================================================================================="
   ]
   }
,
{
		   "cell_type": "markdown",
		   "metadata": {},
		   "source": [
			"## Example 13.11: COMMON_EMITTER_CURRENT_GAIN.sce"
		   ]
		  },
  {
"cell_type": "code",
	   "execution_count": null,
	   "metadata": {
	    "collapsed": true
	   },
	   "outputs": [],
"source": [
"//Chapter-13, Example 13.11, Page 391\n",
"//=============================================================================\n",
"clc\n",
"clear\n",
"//INPUT DATA\n",
"Ib=100*10^-6;//base current in A\n",
"Ic=2*10^-3;//collector current in A\n",
"Ib1=125*10^-6;//base current in A when change in Ib is 25 A\n",
"Ic1=2.6*10^-3;//collector current in A when change in Ic is 0.6 A\n",
"//CALCULATIONS\n",
"b=Ic/Ib;//common-emitter DC current gain\n",
"a=(b)/(b+1);//common-base DC current gain\n",
"Ie=Ib+Ic;//emitter current in A\n",
"b1=Ic1/Ib1;//new common-emitter DC current gain\n",
"mprintf('Thus b  a and Ie of transistor are %d ,%1.3f and %g A respectively\n',b,a,Ie);\n",
"mprintf('new value of b is %2.1f',b1)\n",
"//=================================END OF PROGRAM======================================================================================================="
   ]
   }
,
{
		   "cell_type": "markdown",
		   "metadata": {},
		   "source": [
			"## Example 13.12: COLLECTOR_CURRENT.sce"
		   ]
		  },
  {
"cell_type": "code",
	   "execution_count": null,
	   "metadata": {
	    "collapsed": true
	   },
	   "outputs": [],
"source": [
"//Chapter-13, Example 13.12, Page 391\n",
"//=============================================================================\n",
"clc\n",
"clear\n",
"//INPUT DATA\n",
"a=0.98//common-base DC current gain\n",
"Icbo=5*10^-6;//current in A\n",
"Ib=100*10^-6;//base current in A\n",
"//CALCULATIONS\n",
"Ic=((a*Ib)/(1-a))+(Icbo/(1-a));//collector current in mA\n",
"Ie=Ib+Ic;//emitter current in mA\n",
"mprintf('Thus collector and emitter currents are %g A and %g A respectively',Ic,Ie);\n",
"//=================================END OF PROGRAM======================================================================================================="
   ]
   }
,
{
		   "cell_type": "markdown",
		   "metadata": {},
		   "source": [
			"## Example 13.13: COLLECTOR_CURRENT.sce"
		   ]
		  },
  {
"cell_type": "code",
	   "execution_count": null,
	   "metadata": {
	    "collapsed": true
	   },
	   "outputs": [],
"source": [
"//Chapter-13, Example 13.13, Page 391\n",
"//=============================================================================\n",
"clc\n",
"clear\n",
"//INPUT DATA\n",
"Icbo=10*10^-6;//current in A\n",
"hfe=50;//common-emitter DC current gain\n",
"Ib=0.25*10^-3;//base current in A\n",
"T2=50;//temperature in degree centigrade\n",
"T1=27;//temperature in degree centigrade\n",
"//CALCULATIONS\n",
"Ic1=(hfe*Ib)+((1+hfe)*(Icbo));//collector current in A when base current is Ib=0.25*10^-3\n",
"I1cbo=Icbo*(2*(T2-T1)/10);//new value of Icbo when temperature changes from 27 degree centigrade to 50 degree centigrade\n",
"Ic2=(hfe*Ib)+((1+hfe)*(I1cbo));//collector current in A\n",
"mprintf('Thus collector currents in case 1 and 2 are %g A ,%g A respectively',Ic1,Ic2);\n",
"//=================================END OF PROGRAM======================================================================================================="
   ]
   }
,
{
		   "cell_type": "markdown",
		   "metadata": {},
		   "source": [
			"## Example 13.14: CURRENT_GAIN.sce"
		   ]
		  },
  {
"cell_type": "code",
	   "execution_count": null,
	   "metadata": {
	    "collapsed": true
	   },
	   "outputs": [],
"source": [
"//Chapter-13, Example 13.14, Page 391\n",
"//=============================================================================\n",
"clc\n",
"clear\n",
"//INPUT DATA\n",
"deltaIe=1*10^-3;//change in emitter current in A\n",
"deltaIc=0.99*10^-3;//change in collector current in A\n",
"//CALCULATIONS\n",
"a=(deltaIc/deltaIe);//current gain of the transistor\n",
"mprintf('Thus current gain of the transistor is %1.2f',a);\n",
"//=================================END OF PROGRAM======================================================================================================="
   ]
   }
,
{
		   "cell_type": "markdown",
		   "metadata": {},
		   "source": [
			"## Example 13.15: CURRENT_GAIN.sce"
		   ]
		  },
  {
"cell_type": "code",
	   "execution_count": null,
	   "metadata": {
	    "collapsed": true
	   },
	   "outputs": [],
"source": [
"//Chapter-13, Example 13.15, Page 391\n",
"//=============================================================================\n",
"clc\n",
"clear\n",
"//INPUT DATA\n",
"b=100;//common-emitter DC current gain\n",
"//CALCULATIONS\n",
"a=(b/(1+b));//common-base DC current gain\n",
"mprintf('Thus common-base DC current gain is %1.2f',a);\n",
"//=================================END OF PROGRAM======================================================================================================="
   ]
   }
,
{
		   "cell_type": "markdown",
		   "metadata": {},
		   "source": [
			"## Example 13.16: CURRENT_GAIN.sce"
		   ]
		  },
  {
"cell_type": "code",
	   "execution_count": null,
	   "metadata": {
	    "collapsed": true
	   },
	   "outputs": [],
"source": [
"//Chapter-13, Example 13.16, Page 391\n",
"//=============================================================================\n",
"clc\n",
"clear\n",
"//INPUT DATA\n",
"deltaIe=1*10^-3;//change in emitter current in A\n",
"deltaIc=0.995*10^-3;//change in collector current in A\n",
"//CALCULATIONS\n",
"a=deltaIc/deltaIe;//common-base DC current gain\n",
"b=a/(1-a);//common-emitter DC current gain\n",
"mprintf('Thus common-base DC current gain and common-emitter DC current gain are %1.3f and %1.0f respectively',a,b);\n",
"//=================================END OF PROGRAM======================================================================================================="
   ]
   }
,
{
		   "cell_type": "markdown",
		   "metadata": {},
		   "source": [
			"## Example 13.17: BASE_CURRENT.sce"
		   ]
		  },
  {
"cell_type": "code",
	   "execution_count": null,
	   "metadata": {
	    "collapsed": true
	   },
	   "outputs": [],
"source": [
"//Chapter-13, Example 13.17, Page 391\n",
"//=============================================================================\n",
"clc\n",
"clear\n",
"//INPUT DATA\n",
"b=49;//common-emitter DC current gain\n",
"Ie=3*10^-3;//emitter current in A\n",
"//CALCULATIONS\n",
"a=b/(1+b);//common-base DC current gain\n",
"Ic=a*Ie;//collector current in A\n",
"mprintf('Thus common-base DC current gain and ccollector current are %1.2f and %g A respectively',a,Ic);\n",
"//=================================END OF PROGRAM======================================================================================================="
   ]
   }
,
{
		   "cell_type": "markdown",
		   "metadata": {},
		   "source": [
			"## Example 13.18: COLLECTOR_CURRENT.sce"
		   ]
		  },
  {
"cell_type": "code",
	   "execution_count": null,
	   "metadata": {
	    "collapsed": true
	   },
	   "outputs": [],
"source": [
"//Chapter-13, Example 13.18, Page 393\n",
"//=============================================================================\n",
"clc\n",
"clear\n",
"//INPUT DATA\n",
"Ib=15*10^-3;//base current in A\n",
"b=150;//common-emitter DC current gain\n",
"//CALCULATIONS\n",
"Ic=b*Ib;//collector current in A\n",
"Ie=Ic+Ib;//emitter current in A\n",
"a=b/(1+b);//common-base DC current gain\n",
"mprintf('Thus collector current,emitter current and common-base DC current gain are %g A, %g A  and %1.4f  respectively',Ic,Ie,a);\n",
"//=================================END OF PROGRAM======================================================================================================="
   ]
   }
,
{
		   "cell_type": "markdown",
		   "metadata": {},
		   "source": [
			"## Example 13.19: BASE_CURRENT.sce"
		   ]
		  },
  {
"cell_type": "code",
	   "execution_count": null,
	   "metadata": {
	    "collapsed": true
	   },
	   "outputs": [],
"source": [
"//Chapter-13, Example 13.19, Page 393\n",
"//=============================================================================\n",
"clc\n",
"clear\n",
"//INPUT DATA\n",
"Vcc=10;//collector to collector voltage in volts\n",
"Vbb=4;//base to base voltage in volts\n",
"Rb=200*10^3;//base resistance in ohms\n",
"Rc=2*10^3;//collector resistance in ohms\n",
"Vbe=0.7;//base to emitter voltage in volts\n",
"b=200;//common-emitter DC current gain\n",
"//CALCULATIONS\n",
"Ib=(Vbb-Vbe)/(Rb);//base current in A\n",
"Ic=b*Ib;//collector current in A\n",
"Ie=Ic+Ib;//emitter current in A\n",
"Vce=Vcc-(Ic*Rc);//collector to emitter voltage in volts\n",
"mprintf('Thus collector current,emitter current and base currents are %g A,%g A and %g A respectively\n',Ib,Ic,Ie);\n",
"mprintf('collector to emitter voltage is %1.1f V',Vce)\n",
"//=================================END OF PROGRAM======================================================================================================="
   ]
   }
,
{
		   "cell_type": "markdown",
		   "metadata": {},
		   "source": [
			"## Example 13.1: BASE_CURRENT.sce"
		   ]
		  },
  {
"cell_type": "code",
	   "execution_count": null,
	   "metadata": {
	    "collapsed": true
	   },
	   "outputs": [],
"source": [
"//Chapter-13, Example 13.1, Page 388\n",
"//=============================================================================\n",
"clc\n",
"clear\n",
"//INPUT DATA\n",
"Ie=10;//emitter current in mA\n",
"Ic=9.8;//collector current in mA\n",
"//CALCULATIONS\n",
"Ib=Ie-Ic;//base current in mA\n",
"mprintf('base current is %1.1f mA ',Ib)\n",
"//=================================END OF PROGRAM======================================================================================================="
   ]
   }
,
{
		   "cell_type": "markdown",
		   "metadata": {},
		   "source": [
			"## Example 13.20: COLLECTOR_CURRENT.sce"
		   ]
		  },
  {
"cell_type": "code",
	   "execution_count": null,
	   "metadata": {
	    "collapsed": true
	   },
	   "outputs": [],
"source": [
"//Chapter-13, Example 13.20, Page 394\n",
"//=============================================================================\n",
"clc\n",
"clear\n",
"//INPUT DATA\n",
"a=0.99;//common-base DC current gain\n",
"Icbo=5*10^-6;//current in A\n",
"Ib=20*10^-6;//current in A\n",
"//CALCULATIONS\n",
"Ic=((a*Ib)/(1-a))+(Icbo/(1-a));//collector current in A\n",
"Ie=Ib+Ic;//emitter current in A\n",
"mprintf('collector and  emitter currents are %g A and %g A respectively',Ic,Ie)\n",
"//=================================END OF PROGRAM======================================================================================================="
   ]
   }
,
{
		   "cell_type": "markdown",
		   "metadata": {},
		   "source": [
			"## Example 13.21: CURRENT_GAIN.sce"
		   ]
		  },
  {
"cell_type": "code",
	   "execution_count": null,
	   "metadata": {
	    "collapsed": true
	   },
	   "outputs": [],
"source": [
"//Chapter-13, Example 13.21, Page 394\n",
"//=============================================================================\n",
"clc\n",
"clear\n",
"//INPUT DATA\n",
"Icbo=0.2*10^-6;//current in A\n",
"Iceo=18*10^-6;//current in A\n",
"Ib=30*10^-6;//current in A\n",
"//CALCULATIONS\n",
"a=1-(Icbo/Iceo);//common-base DC current gain\n",
"b=(Iceo/Icbo)-1;//common-emitter DC current gain\n",
"Ic=(b*Ib)+((1+b)*(Icbo));//collector current in A\n",
"mprintf('Thus common-base DC current gain and common-emitter DC current gain are %1.3f and %d respectively',a,b)\n",
"//=================================END OF PROGRAM======================================================================================================="
   ]
   }
,
{
		   "cell_type": "markdown",
		   "metadata": {},
		   "source": [
			"## Example 13.22: EMITTER_CURRENT.sce"
		   ]
		  },
  {
"cell_type": "code",
	   "execution_count": null,
	   "metadata": {
	    "collapsed": true
	   },
	   "outputs": [],
"source": [
"//Chapter-13, Example 13.22, Page 394\n",
"//=============================================================================\n",
"clc\n",
"clear\n",
"//INPUT DATA\n",
"a=0.99;//common-base DC current gain\n",
"Icbo=50*10^-6;//current in A\n",
"Ib=1*10^-3;//current in A\n",
"//CALCULATIONS\n",
"Ic=((a*Ib)/(1-a))+(Icbo/(1-a));//collector current in A\n",
"Ie=Ic+Ib;//emitter current in A\n",
"mprintf('Thus emitter current is %g A',Ie)\n",
"//=================================END OF PROGRAM======================================================================================================="
   ]
   }
,
{
		   "cell_type": "markdown",
		   "metadata": {},
		   "source": [
			"## Example 13.2: CURRENT_GAIN.sce"
		   ]
		  },
  {
"cell_type": "code",
	   "execution_count": null,
	   "metadata": {
	    "collapsed": true
	   },
	   "outputs": [],
"source": [
"//Chapter-13, Example 13.2, Page 389\n",
"//=============================================================================\n",
"clc\n",
"clear\n",
"//INPUT DATA\n",
"Ie=6.28;//emitter current in mA\n",
"Ic=6.20;//collector current in mA\n",
"//CALCULATIONS\n",
"a=(Ic/Ie);//current gain\n",
"mprintf('current gain  is %1.3f',a)\n",
"//=================================END OF PROGRAM======================================================================================================="
   ]
   }
,
{
		   "cell_type": "markdown",
		   "metadata": {},
		   "source": [
			"## Example 13.3: BASE_CURRENT.sce"
		   ]
		  },
  {
"cell_type": "code",
	   "execution_count": null,
	   "metadata": {
	    "collapsed": true
	   },
	   "outputs": [],
"source": [
"//Chapter-13, Example 13.3, Page 389\n",
"//=============================================================================\n",
"clc\n",
"clear\n",
"//INPUT DATA\n",
"a=0.967//common-base DC current gain\n",
"Ie=10;//emitter current in mA\n",
"//CALCULATIONS\n",
"Ic=Ie*a;//collector current in mA\n",
"Ib=Ie-Ic;//base current in mA\n",
"mprintf('base current is %1.2f mA',Ib)\n",
"//=================================END OF PROGRAM======================================================================================================="
   ]
   }
,
{
		   "cell_type": "markdown",
		   "metadata": {},
		   "source": [
			"## Example 13.4: COLLECTOR_CURRENT.sce"
		   ]
		  },
  {
"cell_type": "code",
	   "execution_count": null,
	   "metadata": {
	    "collapsed": true
	   },
	   "outputs": [],
"source": [
"//Chapter-13, Example 13.4, Page 389\n",
"//=============================================================================\n",
"clc\n",
"clear\n",
"//INPUT DATA\n",
"a=0.98//common-base DC current gain\n",
"Ie=10;//emitter current in mA\n",
"//CALCULATIONS\n",
"Ic=Ie*a;//collector current in mA\n",
"Ib=Ie-Ic;//base current in mA\n",
"mprintf('base current is %1.1f mA',Ib)\n",
"//=================================END OF PROGRAM======================================================================================================="
   ]
   }
,
{
		   "cell_type": "markdown",
		   "metadata": {},
		   "source": [
			"## Example 13.5: CURRENT_GAIN.sce"
		   ]
		  },
  {
"cell_type": "code",
	   "execution_count": null,
	   "metadata": {
	    "collapsed": true
	   },
	   "outputs": [],
"source": [
"//Chapter-13, Example 13.5, Page 389\n",
"//=============================================================================\n",
"clc\n",
"clear\n",
"//INPUT DATA\n",
"a=0.97//common-base DC current gain\n",
"b=200;//common-emitter DC current gain\n",
"//CALCULATIONS\n",
"b1=a/(1-a);//common-emitter DC current gain when a=0.97\n",
"a1=b/(b+1);//common-base DC current gain when b=200\n",
"mprintf('Thus common-emitter DC current gain when a=0.97 and common-base DC current gain when b=200 are %2.2f and %1.3f respectively ',b1,a1)\n",
"//=================================END OF PROGRAM======================================================================================================="
   ]
   }
,
{
		   "cell_type": "markdown",
		   "metadata": {},
		   "source": [
			"## Example 13.6: EMITTER_CURRENT.sce"
		   ]
		  },
  {
"cell_type": "code",
	   "execution_count": null,
	   "metadata": {
	    "collapsed": true
	   },
	   "outputs": [],
"source": [
"//Chapter-13, Example 13.6, Page 389\n",
"//=============================================================================\n",
"clc\n",
"clear\n",
"//INPUT DATA\n",
"Ic=40;//collector current in mA\n",
"b=100;//common-emitter DC current gain\n",
"//CALCULATIONS\n",
"Ib=Ic/b;//base current in mA\n",
"Ie=Ib+Ic;//emitter current in mA\n",
"mprintf('Thus emitter current is %2.1f mA',Ie);\n",
"//=================================END OF PROGRAM======================================================================================================="
   ]
   }
,
{
		   "cell_type": "markdown",
		   "metadata": {},
		   "source": [
			"## Example 13.7: COLLECTOR_CURRENT.sce"
		   ]
		  },
  {
"cell_type": "code",
	   "execution_count": null,
	   "metadata": {
	    "collapsed": true
	   },
	   "outputs": [],
"source": [
"//Chapter-13, Example 13.7, Page 390\n",
"//=============================================================================\n",
"clc\n",
"clear\n",
"//INPUT DATA\n",
"Ie=10;//emitter current in mA\n",
"b=150;//common-emitter DC current gain\n",
"//CALCULATIONS\n",
"a=b/(b+1);//common-base DC current gain\n",
"Ic=a*Ie;//collector current in mA\n",
"Ib=Ie-Ic;//base current in mA\n",
"mprintf('Thus collector and base currents are %1.2f mA and %1.2f mA respectively',Ic,Ib);\n",
"//=================================END OF PROGRAM======================================================================================================="
   ]
   }
,
{
		   "cell_type": "markdown",
		   "metadata": {},
		   "source": [
			"## Example 13.8: BASE_CURRENT.sce"
		   ]
		  },
  {
"cell_type": "code",
	   "execution_count": null,
	   "metadata": {
	    "collapsed": true
	   },
	   "outputs": [],
"source": [
"//Chapter-13, Example 13.8, Page 390\n",
"//=============================================================================\n",
"clc\n",
"clear\n",
"//INPUT DATA\n",
"Ic=80;//collector current in mA\n",
"b=170;//common-emitter DC current gain\n",
"//CALCULATIONS\n",
"Ib=Ic/b;//base current in mA\n",
"Ie=Ib+Ic;//emitter current in mA\n",
"mprintf('Thus emitter and base currents are %2.2f mA and %1.2f mA respectively',Ie,Ib);\n",
"//=================================END OF PROGRAM======================================================================================================="
   ]
   }
,
{
		   "cell_type": "markdown",
		   "metadata": {},
		   "source": [
			"## Example 13.9: COLLECTOR_CURRENT.sce"
		   ]
		  },
  {
"cell_type": "code",
	   "execution_count": null,
	   "metadata": {
	    "collapsed": true
	   },
	   "outputs": [],
"source": [
"//Chapter-13, Example 13.9, Page 390\n",
"//=============================================================================\n",
"clc\n",
"clear\n",
"//INPUT DATA\n",
"Ib=0.125;//base current in mA\n",
"b=200;//common-emitter DC current gain\n",
"//CALCULATIONS\n",
"Ic=b*Ib;//collector current in mA\n",
"Ie=Ib+Ic;//emitter current in mA\n",
"mprintf('Thus emitter and collector currents are %2.3f mA and %d mA respectively',Ie,Ic);\n",
"//=================================END OF PROGRAM======================================================================================================="
   ]
   }
],
"metadata": {
		  "kernelspec": {
		   "display_name": "Scilab",
		   "language": "scilab",
		   "name": "scilab"
		  },
		  "language_info": {
		   "file_extension": ".sce",
		   "help_links": [
			{
			 "text": "MetaKernel Magics",
			 "url": "https://github.com/calysto/metakernel/blob/master/metakernel/magics/README.md"
			}
		   ],
		   "mimetype": "text/x-octave",
		   "name": "scilab",
		   "version": "0.7.1"
		  }
		 },
		 "nbformat": 4,
		 "nbformat_minor": 0
}
