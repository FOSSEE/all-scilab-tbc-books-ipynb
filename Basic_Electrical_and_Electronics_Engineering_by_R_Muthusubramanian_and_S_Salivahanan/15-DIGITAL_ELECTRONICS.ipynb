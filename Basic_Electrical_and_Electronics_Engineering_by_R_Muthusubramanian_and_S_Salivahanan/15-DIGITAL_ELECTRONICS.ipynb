{
"cells": [
 {
		   "cell_type": "markdown",
	   "metadata": {},
	   "source": [
       "# Chapter 15: DIGITAL ELECTRONICS"
	   ]
	},
{
		   "cell_type": "markdown",
		   "metadata": {},
		   "source": [
			"## Example 15.10: SUBTRACTION_OF_BINARY_NUMBERS.sce"
		   ]
		  },
  {
"cell_type": "code",
	   "execution_count": null,
	   "metadata": {
	    "collapsed": true
	   },
	   "outputs": [],
"source": [
"//Chapter-15, Example 15.10, Page 497\n",
"//=============================================================================\n",
"clc\n",
"clear\n",
"//CALCULATIONS\n",
"//using 1's complement method\n",
"x1=base2dec(['1000'],2)//converting binary to decimal\n",
"x=bin2dec('1010')\n",
"x2=dec2bin(bitcmp(x,4))//1's complement of a number\n",
"disp(x2)\n",
"x3=base2dec([x2],2)\n",
"x4=x1+x3+1;\n",
"x5=dec2base(x4,2)//converting decimal to hexadecimal\n",
"disp(x5)\n",
"//using normal method\n",
"a=base2dec(['1000','1010'],2);//converting binary to decimal\n",
"b=a(2)-a(1);//subtraction\n",
"c=dec2base(b,2)//converting decimal to binary\n",
"disp(c)\n",
"//since we cannot use dec2base for negative integers,we cannot do (a(1)-a(2)) but we can do (a(2)-a(1)),with '-' sign added before the result.hence 'c' here is actually -'c'\n",
"//=================================END OF PROGRAM======================================================================================================="
   ]
   }
,
{
		   "cell_type": "markdown",
		   "metadata": {},
		   "source": [
			"## Example 15.11: ADD_BCD_NUMBERS.sce"
		   ]
		  },
  {
"cell_type": "code",
	   "execution_count": null,
	   "metadata": {
	    "collapsed": true
	   },
	   "outputs": [],
"source": [
"//Chapter-15, Example 15.11, Page 500\n",
"//=============================================================================\n",
"clc\n",
"clear\n",
"//CALCULATIONS\n",
"x1=base2dec(['1001'],2)//converting binary to decimal\n",
"x2=base2dec(['0100'],2)//converting binary to decimal\n",
"x3=x1+x2;\n",
"if(x3>9)\n",
"    x3=x3+6;\n",
"    z1=dec2base(x3,2)//converting decimal to binary\n",
"else\n",
"    z1=dec2base(x3,2)//converting decimal to binary\n",
"end\n",
"disp(z1)\n",
"//note:last 4 bits represent 3 and 5th bit prefixed with 3 bits will look as 1.hence the combined result will be 13\n",
"//=================================END OF PROGRAM======================================================================================================="
   ]
   }
,
{
		   "cell_type": "markdown",
		   "metadata": {},
		   "source": [
			"## Example 15.12: LAWS_OF_BOOLEAN_ALGEBRA.sce"
		   ]
		  },
  {
"cell_type": "code",
	   "execution_count": null,
	   "metadata": {
	    "collapsed": true
	   },
	   "outputs": [],
"source": [
"//Chapter-15, Example 15.12, Page 502\n",
"//=============================================================================\n",
"clc\n",
"clear\n",
"//CALCULATIONS\n",
"disp('given=> Y=(A+AB)')\n",
"//given in the question//\n",
"disp('Y=A(1+B)')//by distributive law\n",
"disp('A.1')//by law 2\n",
"disp('A')//by law 4\n",
"disp('given=> Y=(A+A''B)')\n",
"disp('(A+A'').(A+B)')//by distributive law\n",
"disp('1.(A+B)')//by law 6\n",
"disp('A+B')//by law 4\n",
"disp('given=>(AB+A''C+BC)')\n",
"disp('AB+A''C+BC(A+A'')')\n",
"disp('AB+A''C+ABC+A''BC')\n",
"disp('AB(1+C)+A''C(1+B)')//by consensus theorem\n",
"disp('AB+A''C')\n",
"//=================================END OF PROGRAM======================================================================================================="
   ]
   }
,
{
		   "cell_type": "markdown",
		   "metadata": {},
		   "source": [
			"## Example 15.13: SIMPLIFICATION.sce"
		   ]
		  },
  {
"cell_type": "code",
	   "execution_count": null,
	   "metadata": {
	    "collapsed": true
	   },
	   "outputs": [],
"source": [
"//Chapter-15, Example 15.13, Page 503\n",
"//=============================================================================\n",
"clc\n",
"clear\n",
"//CALCULATIONS\n",
"//for (a)\n",
"disp('given=> Y=(A+AB+AB''C)')\n",
"disp('Y=A+AB''C')//by (A+AB=A)------>step 1\n",
"disp('A(A+B''C)')//by distributive law--------->step 2\n",
"disp('A(1.(1+B''C))')//by talking A as common--------->step 3\n",
"disp('A.1=A')//by 1+B''C=1--------->step 4\n",
"//for (b)\n",
"disp('given=> Y=(A''+B)C+ABC')\n",
"disp('A''C+BC+ABC')//by distributive law-------->step 1\n",
"disp('A''C+BC(1+A)')//by taking BC as common--------->step 2\n",
"disp('A''C+BC')//by rule 2 --------->step 3\n",
"disp('C(A''+B)')//taking C as common term-------->step 4\n",
"//for (c)\n",
"disp('given=> Y=(AB''BCD+AB''CDE+AC'')')\n",
"disp('AB''CDE+AC''')//applying rules 8 and 7 to first and second terms,respectively -------->step 1\n",
"disp('A(B''CDE+C'')')//taking A as common term--------->step 2\n",
"disp('A(B''DE+C'')')//by applying B''CDE+C'=B'DE+C'--------->step 3\n",
"//=================================END OF PROGRAM======================================================================================================="
   ]
   }
,
{
		   "cell_type": "markdown",
		   "metadata": {},
		   "source": [
			"## Example 15.17: LOGIC_CIRCUIT_SIMPLIFICATION.sce"
		   ]
		  },
  {
"cell_type": "code",
	   "execution_count": null,
	   "metadata": {
	    "collapsed": true
	   },
	   "outputs": [],
"source": [
"//Chapter-15, Example 15.17, Page 513\n",
"//=============================================================================\n",
"clc\n",
"clear\n",
"//CALCULATIONS\n",
"disp('((((A+C''))''(BD''))''.((A+C'').(BD''))'')''')//------>step 1\n",
"disp('((A+C'')+((BD'')'').((A+C)''+(BD'')''))''')//------>step 2\n",
"disp('((A+C'')+(BD'')'').((A+C'')''+(BD'')'')''')//------>step 3\n",
"disp('((BD'')''+((A+C'')((A+C''))'')''')//------>step 4\n",
"disp('(BD'')'')''')//------>step 5\n",
"disp('BD''')//------>step 6\n",
"//=================================END OF PROGRAM======================================================================================================="
   ]
   }
,
{
		   "cell_type": "markdown",
		   "metadata": {},
		   "source": [
			"## Example 15.19: SIMPLIFICATION_OF_K_MAP.sce"
		   ]
		  },
  {
"cell_type": "code",
	   "execution_count": null,
	   "metadata": {
	    "collapsed": true
	   },
	   "outputs": [],
"source": [
"//Chapter-15, Example 15.19, Page 519\n",
"//=============================================================================\n",
"clc\n",
"clear\n",
"//CALCULATIONS\n",
"//The adjacent cells that can be combined together are the cells 000 and 100 and the cell 011 and 111\n",
"//By combining the adjacent cells,we get\n",
"disp('((A''+A)B''C'')+(A''+A)BC)')//------>step 1\n",
"disp('(B''C'')+(BC)')//------>step 2\n",
"//=================================END OF PROGRAM======================================================================================================="
   ]
   }
,
{
		   "cell_type": "markdown",
		   "metadata": {},
		   "source": [
			"## Example 15.1: DEC_TO_OCT.sce"
		   ]
		  },
  {
"cell_type": "code",
	   "execution_count": null,
	   "metadata": {
	    "collapsed": true
	   },
	   "outputs": [],
"source": [
"//Chapter-15, Example 15.1, Page 492\n",
"//=============================================================================\n",
"clc\n",
"clear\n",
"//INPUT DATA\n",
"x=12;//in decimal form\n",
"//CALCULATIONS\n",
"y=dec2oct(x);//converting to octal form\n",
"mprintf('Thus octal number is');\n",
"disp(y);\n",
"//=================================END OF PROGRAM======================================================================================================="
   ]
   }
,
{
		   "cell_type": "markdown",
		   "metadata": {},
		   "source": [
			"## Example 15.20: SIMPLIFICATION_OF_K_MAP.sce"
		   ]
		  },
  {
"cell_type": "code",
	   "execution_count": null,
	   "metadata": {
	    "collapsed": true
	   },
	   "outputs": [],
"source": [
"//Chapter-15, Example 15.20, Page 519\n",
"//=============================================================================\n",
"clc\n",
"clear\n",
"//CALCULATIONS\n",
"disp('(B''C''D'')+(BC''D)')\n",
"//=================================END OF PROGRAM======================================================================================================="
   ]
   }
,
{
		   "cell_type": "markdown",
		   "metadata": {},
		   "source": [
			"## Example 15.2: OCT_TO_DEC.sce"
		   ]
		  },
  {
"cell_type": "code",
	   "execution_count": null,
	   "metadata": {
	    "collapsed": true
	   },
	   "outputs": [],
"source": [
"//Chapter-15, Example 15.2, Page 492\n",
"//=============================================================================\n",
"clc\n",
"clear\n",
"//INPUT DATA\n",
"x1=444;//in octal form\n",
"x2=237;//in octal form\n",
"x3=120;//in octal form\n",
"//CALCULATIONS\n",
"x1=base2dec(['444','237','120'],8)//converting octal to decimal\n",
"disp(x1);\n",
"//=================================END OF PROGRAM======================================================================================================="
   ]
   }
,
{
		   "cell_type": "markdown",
		   "metadata": {},
		   "source": [
			"## Example 15.3: DEC_TO_HEX.sce"
		   ]
		  },
  {
"cell_type": "code",
	   "execution_count": null,
	   "metadata": {
	    "collapsed": true
	   },
	   "outputs": [],
"source": [
"//Chapter-15, Example 15.3, Page 493\n",
"//=============================================================================\n",
"clc\n",
"clear\n",
"//INPUT DATA\n",
"x1=112;//in decimal form\n",
"x2=253;//in decimal form\n",
"//CALCULATIONS\n",
"y1=dec2base(x1,16)//converting decimal to hexadecimal\n",
"y2=dec2base(x2,16)//converting decimal to hexadecimal\n",
"disp(y1);\n",
"disp(y2);\n",
"//=================================END OF PROGRAM======================================================================================================="
   ]
   }
,
{
		   "cell_type": "markdown",
		   "metadata": {},
		   "source": [
			"## Example 15.4: HEX_TO_DEC.sce"
		   ]
		  },
  {
"cell_type": "code",
	   "execution_count": null,
	   "metadata": {
	    "collapsed": true
	   },
	   "outputs": [],
"source": [
"//Chapter-15, Example 15.4, Page 494\n",
"//=============================================================================\n",
"clc\n",
"clear\n",
"//CALCULATIONS\n",
"x1=base2dec(['4AB','23F'],16)//converting hexadecimal to decimal\n",
"disp(x1);\n",
"//=================================END OF PROGRAM======================================================================================================="
   ]
   }
,
{
		   "cell_type": "markdown",
		   "metadata": {},
		   "source": [
			"## Example 15.5: MULTIPLICATION_OF_BINARY_NUMBERS.sce"
		   ]
		  },
  {
"cell_type": "code",
	   "execution_count": null,
	   "metadata": {
	    "collapsed": true
	   },
	   "outputs": [],
"source": [
"//Chapter-15, Example 15.5, Page 496\n",
"//=============================================================================\n",
"clc\n",
"clear\n",
"//CALCULATIONS\n",
"x1=base2dec(['1101','1100'],2)//converting binary to decimal\n",
"x2=base2dec(['1000','101'],2)//converting binary to decimal\n",
"x3=base2dec(['1111','1001'],2)//converting binary to decimal\n",
"y1=(x1(1))*(x1(2));//multiplying\n",
"y2=(x2(1))*(x2(2));//multiplying\n",
"y3=(x3(1))*(x3(2));//multiplying\n",
"z1=dec2base(y1,2)//converting decimal to hexadecimal\n",
"z2=dec2base(y2,2)//converting decimal to hexadecimal\n",
"z3=dec2base(y3,2)//converting decimal to hexadecimal\n",
"disp(z1)\n",
"disp(z2)\n",
"disp(z3)\n",
"//=================================END OF PROGRAM======================================================================================================="
   ]
   }
,
{
		   "cell_type": "markdown",
		   "metadata": {},
		   "source": [
			"## Example 15.6: DIVISION_OF_BINARY.sce"
		   ]
		  },
  {
"cell_type": "code",
	   "execution_count": null,
	   "metadata": {
	    "collapsed": true
	   },
	   "outputs": [],
"source": [
"//Chapter-15, Example 15.6, Page 497\n",
"//=============================================================================\n",
"clc\n",
"clear\n",
"//CALCULATIONS\n",
"x1=base2dec(['110','10'],2)//converting binary to decimal\n",
"x2=base2dec(['1111','110'],2)//converting binary to decimal\n",
"y1=(x1(1))/(x1(2));//dividing\n",
"y2=(x2(1))/(x2(2));//dividing\n",
"z1=dec2base(y1,2);//converting decimal to binary\n",
"[f,e]=frexp(y2);//separting exponent and mantissa\n",
"disp(f)//mantissa\n",
"disp(e)//exponent\n",
"f=f*2;\n",
"g=floor(f);//rounding to nearest integer\n",
"disp(g);\n",
"z2=dec2base(e,2);//converting decimal to binary--------->before point part of resultant binary number\n",
"disp(z2)\n",
"g1=dec2base(g,2);//converting decimal to binary--------->after point part of  resultant binary number\n",
"disp(g1)\n",
"//NOTE:here floating point decimal cannot be directly converted to binary for second case.Hence computed to binary\n",
"//=================================END OF PROGRAM======================================================================================================="
   ]
   }
,
{
		   "cell_type": "markdown",
		   "metadata": {},
		   "source": [
			"## Example 15.7: SUBTRACTION_OF_BINARY_NUMBERS.sce"
		   ]
		  },
  {
"cell_type": "code",
	   "execution_count": null,
	   "metadata": {
	    "collapsed": true
	   },
	   "outputs": [],
"source": [
"//Chapter-15, Example 15.7, Page 497\n",
"//=============================================================================\n",
"clc\n",
"clear\n",
"//CALCULATIONS\n",
"//using 1's complement method\n",
"x1=base2dec(['1111'],2)//converting binary to decimal\n",
"x=bin2dec('1010')\n",
"x2=dec2bin(bitcmp(x,4))//1's complement of a number\n",
"disp(x2)\n",
"x3=base2dec([x2],2)\n",
"x4=x1+x3;\n",
"x5=dec2base(x4,2)//converting decimal to hexadecimal\n",
"disp(x5)\n",
"y=15;\n",
"z=bitand(x4,y);//eliminating carry\n",
"z1=bitset(z,1);//setting 1st bit t0 1\n",
"z2=dec2base(z1,2)//converting decimal to binary\n",
"disp(z2)\n",
"//using normal method\n",
"a=base2dec(['1111','1010'],2);//converting binary to decimal\n",
"b=a(1)-a(2);//subtraction\n",
"c=dec2base(b,2)//converting decimal to binary\n",
"disp(c)\n",
"//=================================END OF PROGRAM======================================================================================================="
   ]
   }
,
{
		   "cell_type": "markdown",
		   "metadata": {},
		   "source": [
			"## Example 15.8: SUBTRACTION_OF_BINARY_NUMBERS.sce"
		   ]
		  },
  {
"cell_type": "code",
	   "execution_count": null,
	   "metadata": {
	    "collapsed": true
	   },
	   "outputs": [],
"source": [
"//Chapter-15, Example 15.8, Page 498\n",
"//=============================================================================\n",
"clc\n",
"clear\n",
"//CALCULATIONS\n",
"//using 1's complement method\n",
"x1=base2dec(['1000'],2)//converting binary to decimal\n",
"x=bin2dec('1010')\n",
"x2=dec2bin(bitcmp(x,4))//1's complement of a number\n",
"disp(x2)\n",
"x3=base2dec([x2],2)\n",
"x4=x1+x3;\n",
"x5=dec2base(x4,2)//converting decimal to hexadecimal\n",
"disp(x5)\n",
"y=15;\n",
"z=bitand(x4,y);//eliminating carry\n",
"z2=dec2base(z,2)//converting decimal to binary\n",
"disp(z2)\n",
"//using normal method\n",
"a=base2dec(['1000','1010'],2);//converting binary to decimal\n",
"b=a(2)-a(1);//subtraction\n",
"c=dec2base(b,2)//converting decimal to binary\n",
"disp(c);//since we cannot use dec2base for negative integers,we cannot do (a(1)-a(2)) but we can do (a(2)-a(1)),with '-' sign added before the result.hence 'c' here is actually -'c'\n",
"//=================================END OF PROGRAM======================================================================================================="
   ]
   }
,
{
		   "cell_type": "markdown",
		   "metadata": {},
		   "source": [
			"## Example 15.9: SUBTRACTION_OF_BINARY_NUMBERS.sce"
		   ]
		  },
  {
"cell_type": "code",
	   "execution_count": null,
	   "metadata": {
	    "collapsed": true
	   },
	   "outputs": [],
"source": [
"//Chapter-15, Example 15.9, Page 497\n",
"//=============================================================================\n",
"clc\n",
"clear\n",
"//CALCULATIONS\n",
"//using 1's complement method\n",
"x1=base2dec(['1111'],2)//converting binary to decimal\n",
"x=bin2dec('1010')\n",
"x2=dec2bin(bitcmp(x,4))//1's complement of a number\n",
"disp(x2)\n",
"x3=base2dec([x2],2)\n",
"x4=x1+x3+1;\n",
"x5=dec2base(x4,2)//converting decimal to hexadecimal\n",
"disp(x5)\n",
"y=15;\n",
"z=bitand(x4,y);//eliminating carry\n",
"z2=dec2base(z,2)//converting decimal to binary\n",
"disp(z2)\n",
"//using normal method\n",
"a=base2dec(['1111','1010'],2);//converting binary to decimal\n",
"b=a(1)-a(2);//subtraction\n",
"c=dec2base(b,2)//converting decimal to binary\n",
"disp(c)\n",
"//=================================END OF PROGRAM======================================================================================================="
   ]
   }
],
"metadata": {
		  "kernelspec": {
		   "display_name": "Scilab",
		   "language": "scilab",
		   "name": "scilab"
		  },
		  "language_info": {
		   "file_extension": ".sce",
		   "help_links": [
			{
			 "text": "MetaKernel Magics",
			 "url": "https://github.com/calysto/metakernel/blob/master/metakernel/magics/README.md"
			}
		   ],
		   "mimetype": "text/x-octave",
		   "name": "scilab",
		   "version": "0.7.1"
		  }
		 },
		 "nbformat": 4,
		 "nbformat_minor": 0
}
