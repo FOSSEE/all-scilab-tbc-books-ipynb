{
"cells": [
 {
		   "cell_type": "markdown",
	   "metadata": {},
	   "source": [
       "# Chapter 14: INTEGRATED CIRCUITS"
	   ]
	},
{
		   "cell_type": "markdown",
		   "metadata": {},
		   "source": [
			"## Example 14.1: COMMONMODE_GAIN.sce"
		   ]
		  },
  {
"cell_type": "code",
	   "execution_count": null,
	   "metadata": {
	    "collapsed": true
	   },
	   "outputs": [],
"source": [
"//Chapter-14, Example 14.1, Page 456\n",
"//=============================================================================\n",
"clc\n",
"clear\n",
"//INPUT DATA\n",
"CMRR=10^5;//common-mode rejection ratio\n",
"Ad=10^5;//differential gain\n",
"//CALCULATIONS\n",
"Acm=Ad/(CMRR);//common mode gain\n",
"mprintf('common-mode gain is %d',Acm);\n",
"//=================================END OF PROGRAM======================================================================================================="
   ]
   }
,
{
		   "cell_type": "markdown",
		   "metadata": {},
		   "source": [
			"## Example 14.2: SLEWRATE.sce"
		   ]
		  },
  {
"cell_type": "code",
	   "execution_count": null,
	   "metadata": {
	    "collapsed": true
	   },
	   "outputs": [],
"source": [
"//Chapter-14, Example 14.2, Page 458\n",
"//=============================================================================\n",
"clc\n",
"clear\n",
"//INPUT DATA\n",
"V0=20;//voltage in volts\n",
"t=4;//time in microsec\n",
"//SLEW RATE\n",
"SR=(V0)/t;//slewrate in V/us\n",
"mprintf('slewrate is %d V/us',SR);\n",
"//=================================END OF PROGRAM======================================================================================================="
   ]
   }
,
{
		   "cell_type": "markdown",
		   "metadata": {},
		   "source": [
			"## Example 14.3: FREQUENCY.sce"
		   ]
		  },
  {
"cell_type": "code",
	   "execution_count": null,
	   "metadata": {
	    "collapsed": true
	   },
	   "outputs": [],
"source": [
"//Chapter-14, Example 14.3, Page 458\n",
"//=============================================================================\n",
"clc\n",
"clear\n",
"//INPUT DATA\n",
"A=50;//gain of inverting amplifier\n",
"Vid=20*10^-3;//voltage in V\n",
"SR=0.5;//slewrate in V/us----->SR=(2*%pi*f*Vm)/(10^6)\n",
"//CALCULATIONS\n",
"Vm=A*(Vid);//maximum output voltage in V\n",
"fmax=(SR*10^6)/(2*%pi*Vm);//frequency in hz\n",
"mprintf('thus maximum frequency of the input for which undistorted output is obtained is %g hz',fmax);\n",
"//=================================END OF PROGRAM======================================================================================================="
   ]
   }
,
{
		   "cell_type": "markdown",
		   "metadata": {},
		   "source": [
			"## Example 14.4: PEAK_TO_PEAK_VOLTAGE.sce"
		   ]
		  },
  {
"cell_type": "code",
	   "execution_count": null,
	   "metadata": {
	    "collapsed": true
	   },
	   "outputs": [],
"source": [
"//Chapter-14, Example 14.4, Page 458\n",
"//=============================================================================\n",
"clc\n",
"clear\n",
"//INPUT DATA\n",
"A=10;//gain of inverting amplifier\n",
"f=40*10^3;//frequency in hz\n",
"SR=0.5;//slewrate in V/us----->SR=(2*%pi*f*Vm)/(10^6)\n",
"//CALCULATIONS\n",
"Vm=(SR*10^6)/(2*%pi*f);//maximum output voltage in V peak\n",
"Vm=2*Vm;//maximum output voltage in V peak to peak\n",
"Vid=Vm/A;//maximum peak-to-peak input voltage for undistorted output \n",
"mprintf('Thus maximum peak-to-peak input voltage for undistorted output is %1.3f V peak-to-peak',Vid);\n",
"//=================================END OF PROGRAM======================================================================================================="
   ]
   }
,
{
		   "cell_type": "markdown",
		   "metadata": {},
		   "source": [
			"## Example 14.5: VOLTAGE_GAIN.sce"
		   ]
		  },
  {
"cell_type": "code",
	   "execution_count": null,
	   "metadata": {
	    "collapsed": true
	   },
	   "outputs": [],
"source": [
"//Chapter-14, Example 14.5, Page 465\n",
"//=============================================================================\n",
"clc\n",
"clear\n",
"//INPUT DATA\n",
"Rf=10*10^3;//feedback resistance in ohms\n",
"R1=1*10^3;//resistance in ohms\n",
"//CALCULATIONS\n",
"Af=-(Rf/R1);//closed-loop voltage gain for inverting amplifier\n",
"mprintf('Thus closed-loop voltage gain is %d',Af);\n",
"//=================================END OF PROGRAM======================================================================================================="
   ]
   }
,
{
		   "cell_type": "markdown",
		   "metadata": {},
		   "source": [
			"## Example 14.6: VOLTAGE_GAIN.sce"
		   ]
		  },
  {
"cell_type": "code",
	   "execution_count": null,
	   "metadata": {
	    "collapsed": true
	   },
	   "outputs": [],
"source": [
"//Chapter-14, Example 14.6, Page 466\n",
"//=============================================================================\n",
"clc\n",
"clear\n",
"//INPUT DATA\n",
"Rf=10*10^3;//forward resistance in ohms\n",
"R1=1*10^3;//resistance in ohms\n",
"//CALCULATIONS\n",
"Af=1+(Rf/R1);//closed-loop voltage gain in non-inverting amplifier\n",
"b=(R1/(R1+Rf));//feedback factor\n",
"mprintf('Thus closed-loop voltage gain and feedback factor are %d and %1.3f respectively',Af,b);\n",
"//=================================END OF PROGRAM======================================================================================================="
   ]
   }
,
{
		   "cell_type": "markdown",
		   "metadata": {},
		   "source": [
			"## Example 14.7: OUTPUT_VOLTAGE.sce"
		   ]
		  },
  {
"cell_type": "code",
	   "execution_count": null,
	   "metadata": {
	    "collapsed": true
	   },
	   "outputs": [],
"source": [
"//Chapter-14, Example 14.7, Page 473\n",
"//=============================================================================\n",
"clc\n",
"clear\n",
"//INPUT DATA\n",
"V1=2;//input voltage 1 of summing amplifier in V\n",
"V2=3;//input voltage 2 of summing amplifier in V\n",
"V3=4;//input voltage 3 of summing amplifier in V\n",
"R1=1;//resistance 1 of summing amplifier in kilo ohms\n",
"R2=1;//resistance 2 of summing amplifier in kilo ohms\n",
"R3=1;//resistance 3 of summing amplifier in kilo ohms\n",
"Rf=1;//feedback resistance in kilo ohms\n",
"R=1;//resistance in kilo ohms\n",
"//CALCULATIONS\n",
"V0=(-Rf/R)*(V1+V2+V3);//output voltage in volts\n",
"mprintf('Thus output voltage is %d V',V0);\n",
"//=================================END OF PROGRAM======================================================================================================="
   ]
   }
],
"metadata": {
		  "kernelspec": {
		   "display_name": "Scilab",
		   "language": "scilab",
		   "name": "scilab"
		  },
		  "language_info": {
		   "file_extension": ".sce",
		   "help_links": [
			{
			 "text": "MetaKernel Magics",
			 "url": "https://github.com/calysto/metakernel/blob/master/metakernel/magics/README.md"
			}
		   ],
		   "mimetype": "text/x-octave",
		   "name": "scilab",
		   "version": "0.7.1"
		  }
		 },
		 "nbformat": 4,
		 "nbformat_minor": 0
}
