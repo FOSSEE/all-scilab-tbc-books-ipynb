{
"cells": [
 {
		   "cell_type": "markdown",
	   "metadata": {},
	   "source": [
       "# Chapter 4: AC FUNDAMENTALS"
	   ]
	},
{
		   "cell_type": "markdown",
		   "metadata": {},
		   "source": [
			"## Example 4.10: TIME.sce"
		   ]
		  },
  {
"cell_type": "code",
	   "execution_count": null,
	   "metadata": {
	    "collapsed": true
	   },
	   "outputs": [],
"source": [
"//Chapter-4, Example 4.10, Page 137\n",
"//=============================================================================\n",
"clc\n",
"clear\n",
"//INPUT DATA\n",
"f=50;//freq in c/s\n",
"I=20;//current in A\n",
"Im=I/sqrt(2);\n",
"t=0.0025;//time in sec\n",
"//equation for instantaneous emf\n",
"i=(20*sqrt(2))*sin(2*%pi*f*t);\n",
"t1=0.0125;\n",
"i1=(20*sqrt(2))*sin(2*%pi*f*t1);\n",
"i2=14.14;\n",
"x=(i2)/(20*(sqrt(2)));\n",
"y=asin(x);\n",
"z=(2*%pi*50);\n",
"t=y/z;\n",
"mprintf('current when t is 00025 sec and 0.0125 sec are %d A and %d A respectively\n',i,i1);\n",
"mprintf('time when value of instantaneous cureent 14.14 is %g sec',t);\n",
"//note:in textbook for sub div (c) square root has not taken for maximum value computed\n",
"//=================================END OF PROGRAM=============================="
   ]
   }
,
{
		   "cell_type": "markdown",
		   "metadata": {},
		   "source": [
			"## Example 4.11: RMS_CURRENT.sce"
		   ]
		  },
  {
"cell_type": "code",
	   "execution_count": null,
	   "metadata": {
	    "collapsed": true
	   },
	   "outputs": [],
"source": [
"//Chapter-4, Example 4.11, Page 137\n",
"//=============================================================================\n",
"clc\n",
"clear\n",
"//INPUT DATA\n",
"I1=5;//current in A\n",
"I=10;//current in A\n",
"I2=I/sqrt(2);\n",
"//CALCULATIONS\n",
"i3=sqrt(((2*I1)^2)+(I2^2));\n",
"mprintf('rms value of current is %1.2f A respectively\n',i3);\n",
"//=================================END OF PROGRAM=============================="
   ]
   }
,
{
		   "cell_type": "markdown",
		   "metadata": {},
		   "source": [
			"## Example 4.12: CURRENT.sce"
		   ]
		  },
  {
"cell_type": "code",
	   "execution_count": null,
	   "metadata": {
	    "collapsed": true
	   },
	   "outputs": [],
"source": [
"//Chapter-4, Example 4.12, Page 138\n",
"//=============================================================================\n",
"clc\n",
"clear\n",
"//CALCULATIONS\n",
"Im=141.4;//instantaneous current\n",
"f=50;//freq in hz\n",
"w=2*%pi*f;//angular freq in rad/sec\n",
"//instantaneous current equation is i=141.4*sin(w*t);\n",
"function f=myfun(t)\n",
"  f=Im*sin(w*t(1));\n",
"endfunction\n",
"t=[0.0025];\n",
"g=numdiff(myfun,t)\n",
"mprintf('rate of change of current is %d A/sec \n',g);\n",
"function f1=myfun(t1)\n",
"  f1=Im*sin(w*t1(1));\n",
"endfunction\n",
"t1=[0.005];\n",
"g1=numdiff(myfun,t1)\n",
"mprintf('rate of change of current is %d A/sec \n',g1);\n",
"function f2=myfun(t2)\n",
"  f2=Im*sin(w*t2(1));\n",
"endfunction\n",
"t2=[0.01];\n",
"g2=numdiff(myfun,t2)\n",
"mprintf('rate of change of current is %d A/sec \n',g2);\n",
"//note:answer given in textbook for section c is wrong\n",
"//=================================END OF PROGRAM=============================="
   ]
   }
,
{
		   "cell_type": "markdown",
		   "metadata": {},
		   "source": [
			"## Example 4.13: CURRENT.sce"
		   ]
		  },
  {
"cell_type": "code",
	   "execution_count": null,
	   "metadata": {
	    "collapsed": true
	   },
	   "outputs": [],
"source": [
"//Chapter-4, Example 4.13, Page 138\n",
"//=============================================================================\n",
"clc\n",
"clear\n",
"//INPUT DATA\n",
"R=60;//resistance in ohms\n",
"Rf=50;//resistance in ohms\n",
"Rr=500;//resistance in ohms\n",
"V=120;//supply voltage in volts\n",
"f=50;//freq in hz\n",
"//CALCULATIONS\n",
"peak=V*sqrt(2);//peak value of applied voltage\n",
"peak1=peak/(R+Rf);//peak value of current in forward direction\n",
"peak2=peak/(R+Rr);//peak value of current in reverse direction\n",
"i=((2*peak1)-(2*peak2))/(2*%pi);//current in moving coil ammeter over the period 0 to 2*(%pi)\n",
"i1=((%pi/2)*((peak1)^2+(peak2)^2))/(2*(%pi));//mean current over the period 0 to 2*(%pi)\n",
"rms=sqrt(i1);//rms value in hot wire ammeter\n",
"mprintf('rms value in hot wire ammeter is %1.3f A\n',rms);\n",
"If=(peak1)/(sqrt(2));//rms value in forward direction\n",
"mprintf('rms value in forward direction is %1.2f A\n',If);\n",
"Ir=(peak2)/(sqrt(2));//rms value in reverse direction\n",
"mprintf('rms value in reverse direction is %1.2f A\n',Ir);\n",
"av=((R+Rf)*((If)^2)+(R+Rr)*((Ir)^2))/(2);\n",
"mprintf('average power dissipated is %2.2f W\n',av);\n",
"pf=((Rf)*((If)^2)+(Rr)*((Ir)^2))/(2);\n",
"mprintf('power dissipated in rectifier is %2.1f W\n',pf);\n",
"//=================================END OF PROGRAM==============================\n",
""
   ]
   }
,
{
		   "cell_type": "markdown",
		   "metadata": {},
		   "source": [
			"## Example 4.14: CURRENT.sce"
		   ]
		  },
  {
"cell_type": "code",
	   "execution_count": null,
	   "metadata": {
	    "collapsed": true
	   },
	   "outputs": [],
"source": [
"//Chapter-4, Example 4.14, Page 144\n",
"//=============================================================================\n",
"clc\n",
"clear\n",
"//given voltage applied is 100*sin(w*t)\n",
"//CALCULATIONS\n",
"R=10;//resisitance in ohms\n",
"//i=(100)*sin(w*t)/10=10*sin(w*t)\n",
"//instantaneous power=1000*(sin(w*t))^2\n",
"E=(100)/sqrt(2);//average value of voltage in volts\n",
"I=(10)/sqrt(2);//average value of current in amps\n",
"P=E*I;//average power in Watts\n",
"mprintf('thus average power is %1.0f W',P);\n",
"//=================================END OF PROGRAM==============================\n",
""
   ]
   }
,
{
		   "cell_type": "markdown",
		   "metadata": {},
		   "source": [
			"## Example 4.15: POWER.sce"
		   ]
		  },
  {
"cell_type": "code",
	   "execution_count": null,
	   "metadata": {
	    "collapsed": true
	   },
	   "outputs": [],
"source": [
"//Chapter-4, Example 4.15, Page 144\n",
"//=============================================================================\n",
"clc\n",
"clear\n",
"//given voltage applied is e=340*sin(314*t)\n",
"//given current applied is i=42.5*sin(314*t)\n",
"//CALCULATIONS\n",
"R=340/42.5;//resisitance in ohms\n",
"E=(340)/sqrt(2);//average value of voltage in volts\n",
"I=(42.5)/sqrt(2);//average value of current in amps\n",
"P=E*I;//average power in Watts\n",
"mprintf('thus average power is %1.0f W',P);\n",
"//=================================END OF PROGRAM==============================\n",
""
   ]
   }
,
{
		   "cell_type": "markdown",
		   "metadata": {},
		   "source": [
			"## Example 4.16: INSTANTANEOUS_CURRENT.sce"
		   ]
		  },
  {
"cell_type": "code",
	   "execution_count": null,
	   "metadata": {
	    "collapsed": true
	   },
	   "outputs": [],
"source": [
"//Chapter-4, Example 4.16, Page 145\n",
"//=============================================================================\n",
"clc\n",
"clear\n",
"//given voltage applied is e=100*sin(314*t)\n",
"//CALCULATIONS\n",
"E=100/sqrt(2);\n",
"w=314;\n",
"L=0.2;//inductannce in henry\n",
"// indefinitely integrating e and later dividing by L we get it as\n",
"//i=-1.592*cos(314*t);//instantaneous current\n",
"//instantaneous power=e*i=-79.6*sin(628t)\n",
"P=0;//average power=0\n",
"Xl=w*L;//inductance in ohms\n",
"I=(E)/(Xl);//rms current\n",
"mprintf('inductive reactance and rms current is %2.1f ohms and %1.3f amps respectively',Xl,I);\n",
"//note:We cannot compute symbolic or indefinite integration in scilab.In order to verify your results use wxmaxima software.\n",
"//=================================END OF PROGRAM==============================\n",
""
   ]
   }
,
{
		   "cell_type": "markdown",
		   "metadata": {},
		   "source": [
			"## Example 4.17: INDUCTIVE_REACTANCE.sce"
		   ]
		  },
  {
"cell_type": "code",
	   "execution_count": null,
	   "metadata": {
	    "collapsed": true
	   },
	   "outputs": [],
"source": [
"//Chapter-4, Example 4.17, Page 145\n",
"//=============================================================================\n",
"clc\n",
"clear\n",
"//CALCULATIONS\n",
"L=0.225;//inductance in henry\n",
"e=120;//voltage in volts\n",
"f=50;//frequency in c/s\n",
"Xl=(2*%pi*f*L);//inductive reactance in ohms\n",
"mprintf('Inductive reactance in ohms is %2.2f ohms\n',Xl);\n",
"L=0.2;//inductance in henry\n",
"Im=2.4;//peak value of current in A\n",
"//instantaneous voltage equation is e=(sqrt(2)*120*sin(314*t))\n",
"// indefinitely integrating e and later dividing by L we get it as\n",
"//i=-2.4*cos(314t);//instantaneous current in A\n",
"I=Im/(sqrt(2));//in A\n",
"mprintf('Current is %1.3f A\n',I);\n",
"m=(e*sqrt(2)*Im)/2;//maximum power delivered in watts\n",
"mprintf('Maximum power delivered to inductor is %3.2f watts\n',m);\n",
"mprintf('average power is zero\n')\n",
"mprintf('equation for voltage and current are 169.68*sin(314*t) and -2.4*cos(314*t) respectively');\n",
"//note:We cannot compute symbolic or indefinite integration in scilab.In order to verify your results use wxmaxima software.\n",
"//=================================END OF PROGRAM=============================="
   ]
   }
,
{
		   "cell_type": "markdown",
		   "metadata": {},
		   "source": [
			"## Example 4.18: INDUCTIVE_REACTANCE.sce"
		   ]
		  },
  {
"cell_type": "code",
	   "execution_count": null,
	   "metadata": {
	    "collapsed": true
	   },
	   "outputs": [],
"source": [
"//Chapter-4, Example 4.18, Page 146\n",
"//=============================================================================\n",
"clc\n",
"clear\n",
"//CALCULATIONS\n",
"L=0.01;//inductance in henry\n",
"//equation of current is 10*cos(1500*t)\n",
"w=1500;//angular freq in rad/sec\n",
"Xl=(w*L);//inductive reactance in ohms\n",
"mprintf('inductive reactance is  %1.1f ohms\n',Xl);\n",
"function f=myfun(t)\n",
"  f=10*cos(w*t);\n",
"q=derivative(f);\n",
"endfunction//derivation yields e=-150*sin(1500*t)\n",
"mprintf('equation for voltage across is e=-150*sin(1500*t)')\n",
"X2=40;//given new inductance in ohms\n",
"f2=X2/(2*%pi*L);//freq in hz\n",
"mprintf('thus at freq %d hz inductance will be 40 ohms',f2)\n",
"//note:answer given for inductive reactance is wrong.Please check the calculations\n",
"//=================================END OF PROGRAM=============================="
   ]
   }
,
{
		   "cell_type": "markdown",
		   "metadata": {},
		   "source": [
			"## Example 4.19: CAPACITIVE_REACTANCE.sce"
		   ]
		  },
  {
"cell_type": "code",
	   "execution_count": null,
	   "metadata": {
	    "collapsed": true
	   },
	   "outputs": [],
"source": [
"//Chapter-4, Example 4.19, Page 146\n",
"//=============================================================================\n",
"clc\n",
"clear\n",
"//CALCULATIONS\n",
"C=135;//capacitance in uF\n",
"E=150;//voltage in volts\n",
"f=50;//freq in c/s\n",
"Xc=1/(2*3.14*f*C*10^-6);//capacitive reactance in ohms\n",
"//equation for current is i=8.99*sin(314*t+(%pi/2))A\n",
"//instantaneous power is P=E*I*sin(2*w*t)\n",
"P=0;//average power\n",
"Im=8.99;//peak value of instantaneous current equation\n",
"I=(Im)/(sqrt(2));//rms current in amps\n",
"M=E*sqrt(2)*I*sqrt(2);//maximum power delivered in Watts\n",
"mprintf('thus capacitive reactance,Rms current and Maximum power delivered are %2.3f ohms ,%1.2f Amps,%1.0f Watts respectively',Xc,I,M);\n",
"//=================================END OF PROGRAM=============================="
   ]
   }
,
{
		   "cell_type": "markdown",
		   "metadata": {},
		   "source": [
			"## Example 4.1: FORM_FACTOR.sce"
		   ]
		  },
  {
"cell_type": "code",
	   "execution_count": null,
	   "metadata": {
	    "collapsed": true
	   },
	   "outputs": [],
"source": [
"//Chapter-4, Example 4.1, Page 126\n",
"//=============================================================================\n",
"clc\n",
"clear\n",
"//CALCULATIONS\n",
"//for WAVEFORM 1\n",
"//Average Value\n",
"b1=2;\n",
"h1=5;\n",
"area1=0.5*b1*h1;//area under one complete cycle(area of a triangle)\n",
"av0=area1/2;//average value\n",
"//rms value\n",
"area2=0.33*(h1)^2*b1;\n",
"rms=sqrt(area2/b1);//rms value\n",
"//form factor\n",
"ff=rms/av0;//form factor\n",
"//peak factor\n",
"Kp=h1/rms;//peak factor\n",
"mprintf('WAVEFORM 1\n');\n",
"mprintf('average value=%1.1f amps,rms value=%1.3f amps,formfactor=%1.3f ,peak factor=%1.3f\n',av0,rms,ff,Kp);\n",
"//for WAVEFORM 2\n",
"//Average Value\n",
"T=1;//assuming time period is 1\n",
"h2=100;\n",
"h3=-50;\n",
"area3=(h2+h3)*(T/2);//area under one complete cycle(area of a rectangle)\n",
"av=area3/T;//average value\n",
"//rms value\n",
"area_under_squared_curve=((h2)^2+(h3)^2)*(T/2);\n",
"rms1=sqrt(area_under_squared_curve/T);//rms value\n",
"//form factor\n",
"ff1=rms1/av;//form factor\n",
"//peak factor\n",
"Kp1=h2/rms1;//peak factor\n",
"mprintf('WAVEFORM 2\n');\n",
"mprintf('average value=%d volts,rms value=%2.3f volt,formfactor=%1.2f ,peak factor=%1.2f\n',av,rms1,ff1,Kp1);\n",
"//for WAVEFORM 3\n",
"//Average Value\n",
"Vm=1;//assuming mean voltage is 1\n",
"a1=0.5*Vm*(%pi/3);//area of the triangle from 0 to (pi/3)\n",
"a2=Vm*(%pi/3);//area of the rectangle for period (pi/3) to (2*pi/3)\n",
"a3=0.5*Vm*(%pi/3);//area of the triangle from (2*pi/3) to pi\n",
"a=a1+a2+a3;\n",
"av2=(a/%pi);//average value\n",
"//rms value\n",
"area_under_squared_curv2=((Vm)^2*(%pi/3)*(5/3))\n",
"rms2=sqrt(area_under_squared_curv2/(%pi));//rms value\n",
"//form factor\n",
"ff2=rms2/av2;//form factor\n",
"//peak factor\n",
"Kp2=Vm/rms2;//peak factor\n",
"mprintf('WAVEFORM 3\n');\n",
"mprintf('average value=%1.3f volts,rms value=%1.3f volt,formfactor=%1.2f ,peak factor=%1.3f\n',av2,rms2,ff2,Kp2);\n",
"//for WAVEFORM 4\n",
"//Average Value\n",
"T2=1;//let timeperiod=1\n",
"av3=(100*(T2/2))/(T2/2);//average\n",
"//rms value\n",
"area_under_squared_curv3=((100)^2*(T2/2));\n",
"rms3=sqrt((area_under_squared_curv3)/(T2/2));//rms value\n",
"//form factor\n",
"ff3=rms3/av3;//form factor\n",
"//peak factor\n",
"Kp3=100/rms3;//peak factor\n",
"mprintf('WAVEFORM 4\n');\n",
"mprintf('average value=%d volts,rms value=%d volt,formfactor=%d ,peak factor=%d\n',av3,rms3,ff3,Kp3);\n",
"//=================================END OF PROGRAM=============================="
   ]
   }
,
{
		   "cell_type": "markdown",
		   "metadata": {},
		   "source": [
			"## Example 4.20: IMPEDANCE.sce"
		   ]
		  },
  {
"cell_type": "code",
	   "execution_count": null,
	   "metadata": {
	    "collapsed": true
	   },
	   "outputs": [],
"source": [
"//Chapter-4, Example 4.20, Page 147\n",
"//=============================================================================\n",
"clc\n",
"clear\n",
"//CALCULATIONS\n",
"//given voltage eqn is v=100+(100*sqrt(2))*sin(314*t) volts\n",
"W=314;//freq in rad/sec\n",
"R=5;//resistance in ohms\n",
"X=12;//reactance in ohms\n",
"Z=R+((%i)*(X));//impedance in ohms\n",
"Idc=100/R;//dc current in A\n",
"Iac=(100)/(sqrt((R)^2+(X)^2));//rms value of ac component of current\n",
"Pt=(R*(Idc^2))+(R*(Iac^2));//total power in Watts\n",
"V1=sqrt((100)^2+(100)^2);//supplied voltage in Rms in volts\n",
"I1=sqrt((20)^2+(7.69)^2);//current in Rms in Amps\n",
"Z1=V1/I1;//circuit impedance in ohms\n",
"Pf=Pt/(V1*I1);//Power factor\n",
"mprintf('thus circuit impedance,Power expended and Power factors are %1.1f Ohms ,%1.0f W and %1.3f respectively',Z1,Pt,Pf);\n",
"//=================================END OF PROGRAM=============================="
   ]
   }
,
{
		   "cell_type": "markdown",
		   "metadata": {},
		   "source": [
			"## Example 4.21: CURRENT_AND_PHASE.sce"
		   ]
		  },
  {
"cell_type": "code",
	   "execution_count": null,
	   "metadata": {
	    "collapsed": true
	   },
	   "outputs": [],
"source": [
"//Chapter-4, Example 4.21, Page 147\n",
"//=============================================================================\n",
"clc\n",
"clear\n",
" function [polar] = r2p(x,y)//function to convert rectangular to polar\n",
" polar = ones(1,2)\n",
" polar(1) = sqrt ((x ^2) +(y^2))\n",
" polar(2) = atan (y/x)\n",
" polar(2) =(polar (2)*180)/%pi\n",
" endfunction\n",
" function [ rect ] = p2r(r,theta)//function to convert polar to rectangular\n",
" rect = ones(1 ,2)\n",
" theta =( theta *%pi) /180\n",
" rect (1)=r* cos(theta)\n",
" rect (2)=r* sin(theta)\n",
" endfunction\n",
"//CALCULATIONS\n",
"I1=p2r(300,0);\n",
"disp(I1);\n",
"I2=p2r(350,30);\n",
"disp(I2);\n",
"I=I1+I2;\n",
"disp(I);\n",
"i3=r2p(I(1),I(2))\n",
"disp(i3);\n",
"mprintf('Thus resultant current is 627.9 A and it leads 300 A by 16 degrees')\n",
"//note:here direct functions for converson are not available and hence we defined user defined functions for polar to rect and rect to polar conversions\n",
"//=================================END OF PROGRAM======================================================================================================\n",
""
   ]
   }
,
{
		   "cell_type": "markdown",
		   "metadata": {},
		   "source": [
			"## Example 4.22: POWER.sce"
		   ]
		  },
  {
"cell_type": "code",
	   "execution_count": null,
	   "metadata": {
	    "collapsed": true
	   },
	   "outputs": [],
"source": [
"//Chapter-4, Example 4.22, Page 147\n",
"//=============================================================================\n",
"clc\n",
"clear\n",
"funcprot(0)\n",
"function [polar] = r2p(x,y)//function to convert rectangular to polar\n",
" polar = ones(1,2)\n",
" polar(1) = sqrt ((x ^2) +(y^2))\n",
" polar(2) = atan (y/x)\n",
" polar(2) =(polar (2)*180)/%pi\n",
" endfunction\n",
" function [ rect ] = p2r(r,theta)//function to convert polar to rectangular\n",
" rect = ones(1 ,2)\n",
" theta =( theta *%pi) /180\n",
" rect (1)=r* cos(theta)\n",
" rect (2)=r* sin(theta)\n",
" endfunction\n",
"//v=230*sin(100*%pi*t)\n",
"//CALCULATIONS\n",
"R=100;//resistance in ohms\n",
"L=319;//inductance in mH\n",
"Xl=(100*%pi*L*10^-3);//inductive reactance in ohms\n",
"Z=R+((%i)*(Xl));//impedance in ohms\n",
"Z=r2p(R,Xl);//impedance in polar form\n",
"disp(Z);\n",
"Z1=p2r(Z(1),Z(2));\n",
"disp(Z1);\n",
"//i=230/1.414*sin(100*%3.14*t-45)=1.626*sin(100*%3.14*t-45)\n",
"i=(1.626/(sqrt(2)));//rms current in A\n",
"P=(i)^2*R;//power taken by the coil in W\n",
"mprintf('power taken by the coil is %3.1f W',P);\n",
"//note:here direct functions for converson are not available and hence we defined user defined functions for polar to rect and rect to polar conversions\n",
"//=================================END OF PROGRAM======================================================================================================="
   ]
   }
,
{
		   "cell_type": "markdown",
		   "metadata": {},
		   "source": [
			"## Example 4.23: RMS_CURRENT.sce"
		   ]
		  },
  {
"cell_type": "code",
	   "execution_count": null,
	   "metadata": {
	    "collapsed": true
	   },
	   "outputs": [],
"source": [
"//Chapter-4, Example 4.23, Page 148\n",
"//=============================================================================\n",
"clc\n",
"clear\n",
"function [polar] = r2p(x,y)//function to convert rectangular to polar\n",
" polar = ones(1,2)\n",
" polar(1) = sqrt ((x ^2) +(y^2))\n",
" polar(2) = atan (y/x)\n",
" polar(2) =(polar (2)*180)/%pi\n",
" endfunction\n",
" function [ rect ] = p2r(r,theta)//function to convert polar to rectangular\n",
" rect = ones(1 ,2)\n",
" theta =( theta *%pi) /180\n",
" rect (1)=r* cos(theta)\n",
" rect (2)=r* sin(theta)\n",
" endfunction\n",
"//e1=230*sin(w*t)\n",
"//e2=230*sin(w*t*%pi/6)\n",
"//CALCULATIONS\n",
"E1=p2r(230,0);//impedance in rectangular form\n",
"disp(E1);\n",
"E2=p2r(230,30);\n",
"disp(E2);\n",
"E=E1+E2;\n",
"E=E/sqrt(2);\n",
"E=r2p(E(1),E(2));\n",
"disp(E)\n",
"Z=r2p(8,6);\n",
"disp(Z);\n",
"I1=E(1)/Z(1);\n",
"disp(I1)\n",
"theta=E(2)-Z(2);\n",
"disp(theta);\n",
"phi=cos(theta*%pi/180)\n",
"disp(phi)\n",
"P1=(E(1))*(I1)*(phi);//power supplied in Watts\n",
"mprintf('Thus Rms current and power supplied are %2.1f A and %f W respectively',I1,P1);\n",
"//note here power calculated my vary as we took many decimal values for calculation.Please check the calculations\n",
"//note:here direct functions for converson are not available and hence we defined user defined functions for polar to rect and rect to polar conversions\n",
"//=================================END OF PROGRAM======================================================================================================="
   ]
   }
,
{
		   "cell_type": "markdown",
		   "metadata": {},
		   "source": [
			"## Example 4.24: CURRENT.sce"
		   ]
		  },
  {
"cell_type": "code",
	   "execution_count": null,
	   "metadata": {
	    "collapsed": true
	   },
	   "outputs": [],
"source": [
"//Chapter-4, Example 4.24, Page 148\n",
"//=============================================================================\n",
"clc\n",
"clear\n",
"//CALCULATIONS\n",
"//e1=230*sin(100*%pi*t)\n",
"C=20*10^-6;//capacitance in F\n",
"//e2=230*sin(700*%pi*t)\n",
"Vm1=230;//peak voltage for e1\n",
"Vm2=35;//peak voltage for e2\n",
"I1=Vm1*(100*%pi*C)/(sqrt(2));//current due to component e1\n",
"I2=Vm2*(700*%pi*C)/(sqrt(2));//current due to component e2\n",
"mprintf('thus current due to component e1 and e2 are %1.2fA and %1.2fA respectively',I1,I2);\n",
"//=================================END OF PROGRAM======================================================================================================\n",
""
   ]
   }
,
{
		   "cell_type": "markdown",
		   "metadata": {},
		   "source": [
			"## Example 4.25: RMS_CURRENT.sce"
		   ]
		  },
  {
"cell_type": "code",
	   "execution_count": null,
	   "metadata": {
	    "collapsed": true
	   },
	   "outputs": [],
"source": [
"//Chapter-4, Example 4.25, Page 149\n",
"//=============================================================================\n",
"clc\n",
"clear\n",
"funcprot(0)\n",
"function [polar] = r2p(x,y) //function to convert rectangular to polar\n",
" polar = ones(1,2)\n",
" polar(1) = sqrt ((x ^2) +(y^2))\n",
" polar(2) = atan (y/x)\n",
" polar(2) =(polar (2)*180)/%pi\n",
" endfunction\n",
" function [ rect ] = p2r(r,theta)//function to convert polar to rectangular\n",
" rect = ones(1 ,2)\n",
" theta =( theta *%pi) /180\n",
" rect (1)=r* cos(theta)\n",
" rect (2)=r* sin(theta)\n",
" endfunction\n",
"//CALCULATIONS\n",
"//v=230*sin(314*t)+60*sin(942*t)\n",
"V=230;//voltage in volts\n",
"V1=60;//voltage of harmonic in volts\n",
"R=10;//resistance in ohms\n",
"L=0.3;//inductance in henry\n",
"C=100*10^-6;//capacitance in F\n",
"//Branch with Resistor (R)\n",
"I1m=V/R;//current in A\n",
"I1m=I1m/(sqrt(2));//rms current in A\n",
"I3m=V1/R;//current in A\n",
"I3m=I3m/(sqrt(2));//rms current in A\n",
"I=sqrt((I1m)^2+(I3m)^2);//rms current in A\n",
"Pr=((I)^2)*(R);//power in Watts\n",
"//Branch with inductor(L)\n",
"Z1=(10+((%i)*(314*0.03)));//impedance to fundamental component\n",
"M=sqrt((10)^2+(9.42)^2);//magnitude of Z1 in polar form\n",
"theta=atan(9.42/10)*(180/%pi);//angle of Z1 in polar form\n",
"I2m=V/M;//fundamental current in A\n",
"I2m=I2m/(sqrt(2));//rms current in A\n",
"I4m=V1/M;//third harmonic component of current\n",
"I4m=I4m/(sqrt(2));//rms current in A\n",
"I1=((I2m)^2+(I4m)^2);//total rms current in A\n",
"Pr1=(I1)*(R);//Power in Watts\n",
"//branch with capacitor\n",
"X1=1/(314*10^-4);//reactance to fundamental component in ohms\n",
"I5m=V/(X1);//current in A\n",
"I5m=I5m/(sqrt(2));//rms current in A\n",
"X2=1/(942*10^-4);//reactance to third harmonic component in ohms\n",
"I6m=V1/X2;//current in A\n",
"I6m=I6m/(sqrt(2));//rms current in A\n",
"I2=sqrt((I5m)^2+(I6m)^2);//total rms current in A\n",
"Pr2=0;//power in watts\n",
"T=Pr+Pr1+Pr2;//total power dissipated in W\n",
"//calculation of total current\n",
"Im=(p2r(16.26,0)+p2r(11.84,43.29)+p2r(5.1,90));//pol to rect\n",
"disp(Im);//fundamental component of current in A\n",
"Im1=(p2r(4.24,0)+p2r(3.09,-43.29)+p2r(4,90));//pol to rect\n",
"disp(Im1);//third harmonic component of current in A\n",
"T1=sqrt((Im(1))^2+(Im1(1))^2);//total rms current in A\n",
"V2=(sqrt((V)^2+(V1)^2))/sqrt(2);//voltage applied in rms\n",
"pf=T/((T1)*(V2));//power factor\n",
"mprintf('thus total current ,power input and power factor are %2.2f A ,%f W,%1.2f respectively',T1,T,pf);\n",
"//=================================END OF PROGRAM======================================================================================================\n",
""
   ]
   }
,
{
		   "cell_type": "markdown",
		   "metadata": {},
		   "source": [
			"## Example 4.2: FORM_FACTOR.sce"
		   ]
		  },
  {
"cell_type": "code",
	   "execution_count": null,
	   "metadata": {
	    "collapsed": true
	   },
	   "outputs": [],
"source": [
"//Chapter-4, Example 4.2, Page 130\n",
"//=============================================================================\n",
"clc\n",
"clear\n",
"//CALCULATIONS\n",
"//for halfwave rectifier\n",
"Im=1;//assume peak value is 1\n",
"//for (0 to pi) value is (Im*sin(theta)) for (pi to 2*pi) value is 0\n",
"function y1=f1(x),y1=(Im^2)*(sin(x))^2,endfunction\n",
"a1=(intg(0,%pi,f1));\n",
"a=(a1)/(2*%pi);//mean square value\n",
"rms=sqrt(a);//rms value\n",
"function y3=f3(x),y3=(Im)*(sin(x)),endfunction\n",
"a3=(intg(0,%pi,f3));\n",
"av=a3/(2*(%pi));//average value\n",
"ff=rms/av;//form factor\n",
"pf=Im/rms;//peak factor\n",
"mprintf('for half wave rectifier\n');\n",
"mprintf('form factor=%1.2f,peak factor=%d\n',ff,pf);\n",
"//for fullwave rectifier\n",
"function y4=f4(x),y4=(Im^2)*(sin(x))^2,endfunction\n",
"a4=(intg(0,%pi,f4));\n",
"a4=a4/(%pi);\n",
"rms2=sqrt(a4);//rms value\n",
"function y5=f5(x),y5=(Im)*(sin(x)),endfunction\n",
"av2=(intg(0,%pi,f5))/(%pi);//average value\n",
"ff2=rms2/av2;//form factor\n",
"pf2=Im/rms2;//peak factor\n",
"mprintf('for full wave rectifier\n');\n",
"mprintf('form factor=%1.2f,peak factor=%1.2f',ff2,pf2);\n",
"//=================================END OF PROGRAM=============================="
   ]
   }
,
{
		   "cell_type": "markdown",
		   "metadata": {},
		   "source": [
			"## Example 4.3: RMS.sce"
		   ]
		  },
  {
"cell_type": "code",
	   "execution_count": null,
	   "metadata": {
	    "collapsed": true
	   },
	   "outputs": [],
"source": [
"//Chapter-4, Example 4.3, Page 132\n",
"//=============================================================================\n",
"clc\n",
"clear\n",
"//CALCULATIONS\n",
"v1=0;v2=5;v3=10;v4=20;v5=50;v6=60;v7=50;v8=20;v9=10;v10=5;v11=0;v12=-5;v13=-10;\n",
"Vm=60;\n",
"V=((v1^2)+(v2^2)+(v3^2)+(v4^2)+(v5^2)+(v6^2)+(v7^2)+(v8^2)+(v9^2)+(v10^2))\n",
"V=sqrt(V/10);\n",
"Vav=(v1+v2+v3+v4+v5+v6+v7+v8+v9+v10)/10;//average value\n",
"Kf=V/Vav;//form factor\n",
"Kp=Vm/V;//peak factor\n",
"rms2=Vm/(sqrt(2));//rms voltage value with the same peak value\n",
"mprintf('rms1 =%2.2f volts\n average value=%d volts \n form factor= %2.2f \n peak factor= %1.3f \n rms2 value is %2.2f volts',V,Vav,Kf,Kp,rms2);\n",
"//=================================END OF PROGRAM=============================="
   ]
   }
,
{
		   "cell_type": "markdown",
		   "metadata": {},
		   "source": [
			"## Example 4.4: TIME.sce"
		   ]
		  },
  {
"cell_type": "code",
	   "execution_count": null,
	   "metadata": {
	    "collapsed": true
	   },
	   "outputs": [],
"source": [
"//Chapter-4, Example 4.4, Page 133\n",
"//=============================================================================\n",
"clc\n",
"clear\n",
"//CALCULATIONS\n",
"f=60;\n",
"Im=120;\n",
"i=96;\n",
"t=asin(i/Im)/(2*%pi*60);\n",
"mprintf('time is %1.5f sec',t)\n",
"//=================================END OF PROGRAM=============================="
   ]
   }
,
{
		   "cell_type": "markdown",
		   "metadata": {},
		   "source": [
			"## Example 4.5: RATE_OF_CHANGE_OF_CURRENT.sce"
		   ]
		  },
  {
"cell_type": "code",
	   "execution_count": null,
	   "metadata": {
	    "collapsed": true
	   },
	   "outputs": [],
"source": [
"//Chapter-4, Example 4.5, Page 133\n",
"//=============================================================================\n",
"clc\n",
"clear\n",
"funcprot(0)\n",
"//CALCULATIONS\n",
"Im=100;//current in amps\n",
"f=50;//freq in hz\n",
"w=2*%pi*50;//angular freq in rad/sec\n",
"//at t=0.0025\n",
"function f=myfun(t)\n",
"  f=Im*sin(w*t(1));\n",
"endfunction\n",
"t=[0.0025];\n",
"g=numdiff(myfun,t)//by using numdiff function the calculated value will defer to observed value by 15\n",
"//at t= 0.005\n",
"function f1=myfun(t1)\n",
"  f1=Im*sin(w*t1(1));\n",
"endfunction\n",
"t1=[0.005];\n",
"g1=numdiff(myfun,t1);\n",
"//at t= 0.01\n",
"function f2=myfun(t2);\n",
"  f2=Im*sin(w*t2(1));\n",
"endfunction\n",
"t2=[0.01];\n",
"g2=numdiff(myfun,t2);\n",
"mprintf('rate of change of current at t=0.025,t=0.005,t=0.01 sec are %d A/sec %d A/sec %d A/sec respectively',g,g1,g2);\n",
"//=================================END OF PROGRAM=============================="
   ]
   }
,
{
		   "cell_type": "markdown",
		   "metadata": {},
		   "source": [
			"## Example 4.6: EMF.sce"
		   ]
		  },
  {
"cell_type": "code",
	   "execution_count": null,
	   "metadata": {
	    "collapsed": true
	   },
	   "outputs": [],
"source": [
"//Chapter-4, Example 4.6, Page 134\n",
"//=============================================================================\n",
"clc\n",
"clear\n",
"//INPUT DATA\n",
"N=200;//no of turns\n",
"a=250;//area of cross-section in sq.cm\n",
"Bm=0.5;//magnetic field strength in Tesla\n",
"speed=1200;//in r.p.m\n",
"//CALCULATIONS\n",
"w=2*%pi*(speed/60);//angular freq in rad/sec\n",
"phi=Bm*a*10^-4;//area taken in sq.m\n",
"Em=N*w*phi;//maximum value of induced Emf\n",
"mprintf('maximum value of induced Emf is %d volts\n',Em);\n",
"//equation for instantaneous induced emf is e=Em*sin(w*t)\n",
"//when  plane of coil is parallel to field ,theta is 90 degrees\n",
"e1=Em*sin(%pi/2);//converted degrees to radians\n",
"mprintf('when  plane of coil is parallel to field, induced Emf is %d volts\n',e1);\n",
"//when plane of coil is parallel to field ,theta is 0 degrees\n",
"e2=Em*sin(0);\n",
"mprintf('when  plane of coil is perpendicular to field, induced Emf is %d volts\n',e2);\n",
"//when plane of coli is inclined at 45 degrees to the field\n",
"e3=Em*sin(%pi/4);\n",
"mprintf('when  plane of coil is at 45 degrees to field, induced Emf is %d volts\n',e3);\n",
"//=================================END OF PROGRAM=============================="
   ]
   }
,
{
		   "cell_type": "markdown",
		   "metadata": {},
		   "source": [
			"## Example 4.7: RMS.sce"
		   ]
		  },
  {
"cell_type": "code",
	   "execution_count": null,
	   "metadata": {
	    "collapsed": true
	   },
	   "outputs": [],
"source": [
"//Chapter-4, Example 4.7, Page 135\n",
"//=============================================================================\n",
"clc\n",
"clear\n",
"//INPUT DATA\n",
"I=10;//direct current in A\n",
"Im=10;//peak value of sinusoidal current in A\n",
"//CALCULATIONS\n",
"function y1=f1(x),y1=(I+Im*sin(x))^2,endfunction\n",
"a1=(intg(0,2*%pi,f1));\n",
"a1=a1/(2*%pi);//mean square value in A\n",
"rms=sqrt(a1);//rms value in A\n",
"mprintf('rms value is %2.2f A',rms);\n",
"//=================================END OF PROGRAM=============================="
   ]
   }
,
{
		   "cell_type": "markdown",
		   "metadata": {},
		   "source": [
			"## Example 4.8: RELATIVE_HEATING_EFFECTS.sce"
		   ]
		  },
  {
"cell_type": "code",
	   "execution_count": null,
	   "metadata": {
	    "collapsed": true
	   },
	   "outputs": [],
"source": [
"//Chapter-4, Example 4.8, Page 136\n",
"//=============================================================================\n",
"clc\n",
"clear\n",
"//let the current peak value of sinusoidal and rectangular waves are Im.\n",
"//CALCULATIONS\n",
"Im=1;//let im current value be 1(just for calculation purposes)\n",
"rms1=sqrt(((Im)^2*%pi)/(%pi));//rms current value of rectangular wave\n",
"function y1=f1(x),y1=(Im^2)*(sin(x))^2,endfunction\n",
"a1=(intg(0,%pi,f1));\n",
"a1=a1/(%pi);//mean square value in A\n",
"rms=sqrt(a1);//rms value in A\n",
"z=((rms)^2/(rms1)^2);//relative heating effects \n",
"mprintf('relative heating effects is %1.1f',z);\n",
"//=================================END OF PROGRAM=============================="
   ]
   }
,
{
		   "cell_type": "markdown",
		   "metadata": {},
		   "source": [
			"## Example 4.9: RMS_CURRENT.sce"
		   ]
		  },
  {
"cell_type": "code",
	   "execution_count": null,
	   "metadata": {
	    "collapsed": true
	   },
	   "outputs": [],
"source": [
"//Chapter-4, Example 4.9, Page 137\n",
"//=============================================================================\n",
"clc\n",
"clear\n",
"//CALCULATIONS\n",
"//for subdivision a\n",
"funcprot(0);\n",
"max=40;\n",
"rms=max/sqrt(2);\n",
"mprintf('max and rms values are %d  units and %2.2f units respectively\n',max,rms);\n",
"//for subdivision b\n",
"//max=A+B\n",
"//rms=(A+B)/sqrt(2)\n",
"//for subdivision c\n",
"max1=sqrt(((10)^2)+((17.3)^2));\n",
"rms1=max1/sqrt(2);\n",
"mprintf('max and rms values are %2.2f units and %2.2f units respectively',max1,rms1);\n",
"//note:in textbook for sub div (c) square root has not taken for maximum value computed\n",
"//=================================END OF PROGRAM=============================="
   ]
   }
],
"metadata": {
		  "kernelspec": {
		   "display_name": "Scilab",
		   "language": "scilab",
		   "name": "scilab"
		  },
		  "language_info": {
		   "file_extension": ".sce",
		   "help_links": [
			{
			 "text": "MetaKernel Magics",
			 "url": "https://github.com/calysto/metakernel/blob/master/metakernel/magics/README.md"
			}
		   ],
		   "mimetype": "text/x-octave",
		   "name": "scilab",
		   "version": "0.7.1"
		  }
		 },
		 "nbformat": 4,
		 "nbformat_minor": 0
}
