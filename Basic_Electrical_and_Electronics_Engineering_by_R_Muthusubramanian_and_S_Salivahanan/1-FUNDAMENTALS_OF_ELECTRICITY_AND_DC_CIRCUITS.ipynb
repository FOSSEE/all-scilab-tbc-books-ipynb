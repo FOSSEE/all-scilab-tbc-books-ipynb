{
"cells": [
 {
		   "cell_type": "markdown",
	   "metadata": {},
	   "source": [
       "# Chapter 1: FUNDAMENTALS OF ELECTRICITY AND DC CIRCUITS"
	   ]
	},
{
		   "cell_type": "markdown",
		   "metadata": {},
		   "source": [
			"## Example 1.10: EFFICIENCY.sce"
		   ]
		  },
  {
"cell_type": "code",
	   "execution_count": null,
	   "metadata": {
	    "collapsed": true
	   },
	   "outputs": [],
"source": [
"//Chapter-1, Example 1.10, Page 23\n",
"//=============================================================================\n",
"clc;\n",
"clear;\n",
"//INPUT DATA\n",
"m1=2;//mass of water in kg\n",
"theta1=20;//temperature 20 degree centigrade\n",
"theta2=100;//temperature 100 degree centigrade(boiling point of water)\n",
"t=1/10;//time taken to boil water in hr\n",
"x=40;//cost of energy of 1kwh in paise for one unit\n",
"y=12;//cost of energy consumed\n",
"S=1;//specific heat of water\n",
"//CALCULATIONS \n",
"H=m1*S*(theta2-theta1);//heat energy required to raise temperature from theta1 to theta2 in kcals\n",
"H=H/860;//heat energy in Kwh\n",
"E=(12/40);//electrical energy or input energy to kettle in Kwh\n",
"n=H/E*100;//efficiency of kettle in percentage;\n",
"P=E/t;//power rating of kettle\n",
"//OUTPUT\n",
"mprintf('Thus the efficiency of kettle in percentage  and power rating of kettle is %d and %1.0f Kw',n,P);\n",
" \n",
"\n",
"//=================================END OF PROGRAM=============================="
   ]
   }
,
{
		   "cell_type": "markdown",
		   "metadata": {},
		   "source": [
			"## Example 1.11: RESISTANCE.sce"
		   ]
		  },
  {
"cell_type": "code",
	   "execution_count": null,
	   "metadata": {
	    "collapsed": true
	   },
	   "outputs": [],
"source": [
"//Chapter-1, Example 1.11, Page 24\n",
"//=============================================================================\n",
"clc;\n",
"clear;\n",
"//INPUT DATA\n",
"m=2;//mass of water in kg\n",
"theta1=20;//temperature 20 degree centigrade\n",
"theta2=100;//temperature 100 degree centigrade(boiling point of water)\n",
"t=0.25;//time taken to boil water in hr\n",
"V=240;//power supply in volts\n",
"n=80;//efficiency of kettle in percentage\n",
"S=1;//specific heat of water\n",
"//CALCULATIONS \n",
"H=m*S*(theta2-theta1);//output energy from the kettle in kcal\n",
"H=H/860;//output energy from the kettle in kwh\n",
"n=n/100;\n",
"E=H/n;//electrical energy or input energy to kettle in Kwh\n",
"P=E/t;//power rating of kettle in Kw\n",
"P=P*1000;//power rating of kettle in w\n",
"R=(V*V)/P;//resistance of heating element in ohms\n",
"//OUTPUT\n",
"mprintf('Thus the resistance of heating element is %2.2f ohms',R);\n",
" \n",
"\n",
"//=================================END OF PROGRAM=============================="
   ]
   }
,
{
		   "cell_type": "markdown",
		   "metadata": {},
		   "source": [
			"## Example 1.12: TIME.sce"
		   ]
		  },
  {
"cell_type": "code",
	   "execution_count": null,
	   "metadata": {
	    "collapsed": true
	   },
	   "outputs": [],
"source": [
"//Chapter-1, Example 1.12, Page 24\n",
"//=============================================================================\n",
"clc;\n",
"clear;\n",
"//INPUT DATA\n",
"m=20;//mass of aluminium in kg\n",
"S=0.896;//specific heat of aluminium in KJ/Kg degree centigrade\n",
"L=402;//latent heat of fusion of aluminium in KJ/Kg \n",
"theta2=657;//final temperature\n",
"theta1=20;//initial temperature(assumed)\n",
"P=25;//power of furnace in Kw\n",
"n=80;//efficiency of kettle in percentage\n",
"//CALCULATIONS \n",
"H=m*S*(theta2-theta1)+(m*L);//heat energy required to melt aluminium or energy output from the furnace in Kj\n",
"H=H/4.186;//heat energy required to melt aluminium or energy output from the furnace in Kcal\n",
"H=H/860;//heat energy required to melt aluminium or energy output from the furnace in KWh\n",
"n=n/100;\n",
"E=H/n;//electrical energy or input energy to kettle in Kwh\n",
"t=E/P;//time taken to melt the aluminium in hr\n",
"t=t*60;// time taken to melt the aluminium in min\n",
"//OUTPUT\n",
"mprintf('Thus the time taken to melt the aluminium is %2.2f min',t);\n",
" \n",
"\n",
"//=================================END OF PROGRAM=============================="
   ]
   }
,
{
		   "cell_type": "markdown",
		   "metadata": {},
		   "source": [
			"## Example 1.13: ENERGY.sce"
		   ]
		  },
  {
"cell_type": "code",
	   "execution_count": null,
	   "metadata": {
	    "collapsed": true
	   },
	   "outputs": [],
"source": [
"//Chapter-1, Example 1.13, Page 25\n",
"//=============================================================================\n",
"clc;\n",
"clear;\n",
"//INPUT DATA\n",
"m=80000;//mass of water lifted by pump in Kg/min\n",
"g=9.81;//gravity constant in m/sec^2\n",
"h=2;//pump is in operation for two hours a day\n",
"d=30;//pump is in operation for 30 days\n",
"T=h*d;//total time for which pump is in operation in hrs\n",
"n=70;//efficeincy in percentage\n",
"h=12;//the height in m to which pump lifts water\n",
"C=50;//cost of energy in paise/Kwh\n",
"//CALCULATIONS \n",
"P=m*g*h;//potential energy possessed by water per minute or workdone by motor pump/minute measured in joules\n",
"P=P/60;//potential energy possessed by water per minute or workdone by motor pump/minute  measured in joules/sec or watts.\n",
"O=P/1000;//output power of motor in Kw\n",
"n=n/100;\n",
"E=O/n;//input power of motor in Kw\n",
"Et=E*T;//total energy supplied or energy consumption in Kwh\n",
"C=C/100;//cost of energy in Rs/Kwh\n",
"Ct=C*Et;//Total cost of energy\n",
"//OUTPUT\n",
"mprintf('Thus the total cost of energy is  Rs %4.0f',Ct);\n",
" \n",
"\n",
"//=================================END OF PROGRAM=============================="
   ]
   }
,
{
		   "cell_type": "markdown",
		   "metadata": {},
		   "source": [
			"## Example 1.14: VOLUME.sce"
		   ]
		  },
  {
"cell_type": "code",
	   "execution_count": null,
	   "metadata": {
	    "collapsed": true
	   },
	   "outputs": [],
"source": [
"//Chapter-1, Example 1.14, Page 26\n",
"//=============================================================================\n",
"clc;\n",
"clear;\n",
"//INPUT DATA\n",
"P=100;//power of power station in MW\n",
"g=9.81;//gravity constant in m/sec^2\n",
"h=200;//effective head of power station in m\n",
"n=80;//efficiency of station in percentage\n",
"t=10;//operation time of power station \n",
"//CALCULATIONS \n",
"E1=P*t;// energy output from the station in 10 hours measured in MWh\n",
"n=n/100;\n",
"E2=P*t/n;//energy input to the station in 10 hours measured in MWh\n",
"E2=E2*10^6*60*60;//energy input to the station in 10 hours measured in Wsec or joules\n",
"//energy input to the station is equal to potential energy supplied by water to station\n",
"m=E2/(g*h);//mass in kg of water used\n",
"d=1000;//density of water in kg/m^3\n",
"V=m/d;//volume of water used in 10 hours\n",
"//OUTPUT\n",
"mprintf('Thus the volume of water used in 10 hours is %e cubic metre',V);\n",
" \n",
"\n",
"//=================================END OF PROGRAM=============================="
   ]
   }
,
{
		   "cell_type": "markdown",
		   "metadata": {},
		   "source": [
			"## Example 1.15: VELOCITY.sce"
		   ]
		  },
  {
"cell_type": "code",
	   "execution_count": null,
	   "metadata": {
	    "collapsed": true
	   },
	   "outputs": [],
"source": [
"//Chapter-1, Example 1.15, Page 26\n",
"//=============================================================================\n",
"clc;\n",
"clear;\n",
"//INPUT DATA\n",
"I=20;//current in A\n",
"V=8;//supply voltage in V\n",
"t=3600;//1hr=3600sec\n",
"m=1000;//mass in kg(1 tonne= 1000 kg)\n",
"//kinetic energy = energy dissipated in the resistance----eqn(1)\n",
"//CALCULATIONS \n",
"E=V*I*t;// energy dissipated in resistance in joules\n",
"v=sqrt(E/(0.5*m));//kinetic energy possesed by body(K=0.5*m*v*v) and using eqn(1),we found out velocity in m/sec\n",
"//OUTPUT\n",
"mprintf('Thus the velocity is %2.2f m/sec',v);\n",
" \n",
"\n",
"//=================================END OF PROGRAM=============================="
   ]
   }
,
{
		   "cell_type": "markdown",
		   "metadata": {},
		   "source": [
			"## Example 1.16: RESISTIVITY.sce"
		   ]
		  },
  {
"cell_type": "code",
	   "execution_count": null,
	   "metadata": {
	    "collapsed": true
	   },
	   "outputs": [],
"source": [
"//Chapter-1, Example 1.16, Page 27\n",
"//=============================================================================\n",
"clc;\n",
"clear;\n",
"//INPUT DATA\n",
"I=7.9;//current in A\n",
"V=240;//supply voltage in V\n",
"t=55;//temperature in degree centigrade\n",
"a0=0.00029;//temperature coefficient in ohm/ohm/degree centigrade\n",
"l=15.6;//length of wire in m\n",
"a=12;//cross-sectional area in mm^2\n",
"//CALCULATIONS \n",
"R=V/I;//resistance of wire in ohm\n",
"p=R*a/l;//resistivity of wire in ohm metre\n",
"Rt=R*(1+(a0*t));//resistance at 55 degree centigrade in ohm\n",
"I1=V/Rt;//current through wire at temperature 55 degree centigrade in A\n",
"//OUTPUT\n",
"mprintf('Thus the resistivity and current through wire at temperature 55 degree centigrade are %2.2f micro ohm meter and %2.2f A respectively',p,I1);\n",
" \n",
"\n",
"//=================================END OF PROGRAM=============================="
   ]
   }
,
{
		   "cell_type": "markdown",
		   "metadata": {},
		   "source": [
			"## Example 1.17: RESISTANCE.sce"
		   ]
		  },
  {
"cell_type": "code",
	   "execution_count": null,
	   "metadata": {
	    "collapsed": true
	   },
	   "outputs": [],
"source": [
"//Chapter-1, Example 1.17, Page 27\n",
"//=============================================================================\n",
"clc;\n",
"clear;\n",
"//INPUT DATA\n",
"R1=0.031;//resistance of wire in ohm\n",
"d1=11.7;//diameter of wire in mm in case 1\n",
"r1=d1/2;//radius of wire in mm in case 1\n",
"d2=5;//diameter of wire in mm in case 2\n",
"r2=d2/2;//radius of wire in mm in case 2\n",
"// we know that resistance is inversely proportional to square of area of cross-section\n",
"//CALCULATIONS \n",
"R2=R1*(((%pi*r1*r1)/(%pi*r2*r2)))^2;//resistance of wire in case 2\n",
"//OUTPUT\n",
"mprintf('Thus the new resistance of wire is %1.4f ohms',R2);\n",
" \n",
"\n",
"//=================================END OF PROGRAM=============================="
   ]
   }
,
{
		   "cell_type": "markdown",
		   "metadata": {},
		   "source": [
			"## Example 1.18: RESISTANCE.sce"
		   ]
		  },
  {
"cell_type": "code",
	   "execution_count": null,
	   "metadata": {
	    "collapsed": true
	   },
	   "outputs": [],
"source": [
"//Chapter-1, Example 1.18, Page 27\n",
"//=============================================================================\n",
"clc;\n",
"clear;\n",
"//INPUT DATA\n",
"p20=1.724*10^-8;//specific resistance of copper in ohm m\n",
"a=0.0043;//temperature coefficient of copper at 0 degree centigrade measured in per degree centigrade\n",
"r1=8;//inner radius of copper circular ring in cm\n",
"r2=6;//axial thickness in cm\n",
"r3=4;//radial thickness in cm\n",
"a1=r2*r3*10^-4;//area of cross-section of ring in m^2\n",
"r2=r2*2;\n",
"l=%pi*((r1+r2)/2)/100;//length of semicircular ring between faces in m\n",
"t1=20;//temperature 20 degree centigrade\n",
"t2=50;//temperature 50 degree centigrade\n",
"//CALCULATIONS \n",
"R20=p20*(l/a1);//resistance of ring at 20 degree centigrade in ohm\n",
"R50=R20*[(1+(a*t2))/(1+(a*t1))];//resistance of ring at 50 degree centigrade in ohm\n",
"//OUTPUT\n",
"mprintf('Thus the resistance of wire at 50 degree centigrade is %g ohms',R50);\n",
" \n",
"\n",
"//=================================END OF PROGRAM=============================="
   ]
   }
,
{
		   "cell_type": "markdown",
		   "metadata": {},
		   "source": [
			"## Example 1.19: RESISTIVITY.sce"
		   ]
		  },
  {
"cell_type": "code",
	   "execution_count": null,
	   "metadata": {
	    "collapsed": true
	   },
	   "outputs": [],
"source": [
"//Chapter-1, Example 1.19, Page 28\n",
"//=============================================================================\n",
"clc;\n",
"clear;\n",
"//INPUT DATA\n",
"l1=0.5;//length of copper rod in m\n",
"a=0.00426;//temperature coefficient of copper measured in per degree centigrade\n",
"R1=4.25*10^-4;//resistance of wire at 15 degree centigrade in ohm\n",
"d1=5*10^-3;//diameter of copper rod in m in case 1\n",
"r1=0.5*d1;//radius of copper rod in m in case 1\n",
"a1=%pi*((r1)^2);//area of cross-section in m^2 in case 1\n",
"t1=15;//temperature in degree centigrade\n",
"t2=50;//temperature in degree centigrade\n",
"//CALCULATIONS \n",
"p=R1*a1/l1;//resistivity in ohm-m\n",
"d2=1*10^-3;//diameter of copper rod in m in case 2\n",
"r2=d2/2;//radius of copper rod in m in case 2\n",
"a2=%pi*(r2)^2;//area of cross-section in m^2 in case 2\n",
"R15=(a1/a2)^2*R1;//resistance at 15 degree centigrade\n",
"R50=R15*((1+(a*t2))/(1+(a*t1)));\n",
"//OUTPUT\n",
"mprintf('Thus the resistance of wire at 50 degree centigrade is %1.4f ohm',R50);\n",
" \n",
"\n",
"//=================================END OF PROGRAM=============================="
   ]
   }
,
{
		   "cell_type": "markdown",
		   "metadata": {},
		   "source": [
			"## Example 1.1: RESISTANCE.sce"
		   ]
		  },
  {
"cell_type": "code",
	   "execution_count": null,
	   "metadata": {
	    "collapsed": true
	   },
	   "outputs": [],
"source": [
"//Chapter-1, Example 1.1, Page 18\n",
"//=============================================================================\n",
"clc;\n",
"clear;\n",
"//INPUT DATA\n",
"// details for the first wire\n",
"l1=1;//length in m\n",
"R1=2;//resistance in ohms\n",
"x=R1;//say\n",
"d=1;//say \n",
"p=1;//say\n",
"d1=d;//say diameter in m \n",
"p1=p;//say specific resistance of  wire\n",
"//details for the second wire\n",
"l2=3;//length in m\n",
"d=1;//say \n",
"p=1;//say\n",
"d2=2*d;//say diameter in m \n",
"p2=2*p;//say specific resistance of  wire\n",
"//CALCULATIONS\n",
"R1=p1*l1/(%pi*d*d/4);//(R1=p1*l1/a1), where a1 is cross sectional area of first wire with diameter d as (%pi*d*d/4)---------------equation 1\n",
"R2=p2*l2/(%pi*(4*d*d)/4);//(R2=p2*l2/a2), where a2 is cross sectional area of  second wire with diameter 2d as (%pi*((2*d)*(2*d))/4)-------------equation 2\n",
"//dividing equation 1 by equation 2\n",
"z=R1/R2;\n",
"R2=x/z;\n",
"//OUTPUT\n",
"mprintf('Thus the resistance of second wire is %1.0f ohm \n',R2);\n",
"\n",
"//=================================END OF PROGRAM=============================="
   ]
   }
,
{
		   "cell_type": "markdown",
		   "metadata": {},
		   "source": [
			"## Example 1.20: DIAMETER.sce"
		   ]
		  },
  {
"cell_type": "code",
	   "execution_count": null,
	   "metadata": {
	    "collapsed": true
	   },
	   "outputs": [],
"source": [
"//Chapter-1, Example 1.20, Page 28\n",
"//=============================================================================\n",
"clc;\n",
"clear;\n",
"//INPUT DATA\n",
"l1=7.5;//length of aluminium wire in m\n",
"d1=1*10^-3;//diameter of aluminium wire in m \n",
"r1=0.5*d1;//radius of aluminium wire in m\n",
"a1=%pi*((r1)^2);//area of cross-section in m^2 for aluminium wire \n",
"p1=0.028;//resistivity of aluminium in micro ohm-m\n",
"l2=6;//length of copper wire in m\n",
"p2=0.017;//resistivity of copper in micro ohm-m\n",
"I=5;//current through parallel combination in A\n",
"I1=3;//current through aluminium wire in A\n",
"I2=I-I1;//current through copper wire in A\n",
"//CALCULATIONS \n",
"R1=p1*l1/a1;//resistance of aluminium wire in ohm\n",
"V1=I1*R1;//voltage drop across the end of Al wire in V\n",
"//since the wires are connected in parallel,so V1=V2\n",
"a2=I2*p2*l2/V1;//area of cross-section in m^2 for copper wire  \n",
"d2=sqrt(4*a2/%pi);//diameter of copper wire in m \n",
"//OUTPUT\n",
"mprintf('Thus the diameter of copper wire is %g m',d2);\n",
" \n",
"//=================================END OF PROGRAM=============================="
   ]
   }
,
{
		   "cell_type": "markdown",
		   "metadata": {},
		   "source": [
			"## Example 1.22: TEMPERATURE_RISE.sce"
		   ]
		  },
  {
"cell_type": "code",
	   "execution_count": null,
	   "metadata": {
	    "collapsed": true
	   },
	   "outputs": [],
"source": [
"//Chapter-1, Example 1.22, Page 29\n",
"//=============================================================================\n",
"clc;\n",
"clear;\n",
"//INPUT DATA\n",
"R20=100;//resistance of coil at 20 degree centigrade in ohms\n",
"R45=110;//resistance of coil at 45 degree centigrade in ohms\n",
"Rt=124;//resistance of coil at t degree centigrade in ohms\n",
"t1=20;//temperature in degree centigrade\n",
"t2=15;//temperature in degree centigrade\n",
"a=R45/R20;\n",
"//CALCULATIONS \n",
"a0=(a-1)/(45-(20*a));//temperature coefficient of coil at 0 degree centigrade\n",
"x=(Rt/R20);\n",
"t=(x)*(1+(a0*t1));\n",
"t=t-1;\n",
"t=(t)*(1/a0);////temperature of coil when Rt=124 ohms measured in degree centigrade\n",
"deltat=t-t2;//mean temperature rise\n",
"//OUTPUT\n",
"mprintf('Thus the mean temperature rise is %2.0f degree centigrade',deltat);\n",
" \n",
"\n",
"//=================================END OF PROGRAM=============================="
   ]
   }
,
{
		   "cell_type": "markdown",
		   "metadata": {},
		   "source": [
			"## Example 1.23: TEMPERATURE_RISE.sce"
		   ]
		  },
  {
"cell_type": "code",
	   "execution_count": null,
	   "metadata": {
	    "collapsed": true
	   },
	   "outputs": [],
"source": [
"//Chapter-1, Example 1.23, Page 30\n",
"//=============================================================================\n",
"clc;\n",
"clear;\n",
"//INPUT DATA\n",
"R20=18;//resistance of coil at 20 degree centigrade in ohms\n",
"R50=20;//resistance of coil at 50 degree centigrade in ohms\n",
"Rt=21;//resistance of coil at t degree centigrade in ohms\n",
"t1=20;//temperature in degree centigrade\n",
"t2=50;//temperature in degree centigrade\n",
"t3=15;//temperature in degree centigrade\n",
"a=R50/R20;\n",
"//CALCULATIONS \n",
"a0=(a-1)/(50-(20*a));//temperature coefficient of coil at 0 degree centigrade\n",
"x=(Rt/R50);\n",
"t=(x)*(1+(a0*t2));\n",
"t=t-1;\n",
"t=(t)*(1/a0);////temperature of coil when Rt=21 ohms measured in degree centigrade\n",
"deltat=t-t3;//mean temperature rise\n",
"//OUTPUT\n",
"mprintf('Thus the mean temperature rise is %2.0f degree centigrade',deltat);\n",
" \n",
"\n",
"//=================================END OF PROGRAM==============================\n",
""
   ]
   }
,
{
		   "cell_type": "markdown",
		   "metadata": {},
		   "source": [
			"## Example 1.24: CURRENT.sce"
		   ]
		  },
  {
"cell_type": "code",
	   "execution_count": null,
	   "metadata": {
	    "collapsed": true
	   },
	   "outputs": [],
"source": [
"//Chapter-1, Example 1.24, Page 40\n",
"//=============================================================================\n",
"clc;\n",
"clear;\n",
"//INPUT DATA\n",
"R1=4;//resistance in ohms\n",
"R2=6;////resistance in ohms\n",
"I=30;//current through parallel combination in A\n",
"//CALCULATIONS \n",
"I1=I*(R2/(R1+R2));//current through resistor1 in A\n",
"I2=I-I1;//current through resistor2 in A\n",
"//OUTPUT\n",
"mprintf('Thus the current through resistor1 and resistor2 are %d A and %d A  respectively',I1,I2);\n",
" //=================================END OF PROGRAM=============================="
   ]
   }
,
{
		   "cell_type": "markdown",
		   "metadata": {},
		   "source": [
			"## Example 1.25: POWER.sce"
		   ]
		  },
  {
"cell_type": "code",
	   "execution_count": null,
	   "metadata": {
	    "collapsed": true
	   },
	   "outputs": [],
"source": [
"//Chapter-1, Example 1.25, Page 41\n",
"//=============================================================================\n",
"clc;\n",
"clear;\n",
"//INPUT DATA\n",
"R1=2;//resistance1 in ohms\n",
"R2=3;//resistance2 in ohms\n",
"R3=4;//resistance3 in ohms\n",
"R4=5;//resistance4 in ohms\n",
"P=100;//total power absorbed in watts\n",
"//CALCULATIONS \n",
"RT=((R2*R3*R4)+(R1*R3*R4)+(R1*R2*R4)+(R1*R2*R3))/(R1*R2*R3*R4);\n",
"RT=1/RT;//equivalent resistance of parallel combination of R1,R2,R3,R4 Resistors\n",
"V=sqrt(P*RT);//voltage in volts that has to be applied to absorb 100w of power\n",
"//OUTPUT\n",
"mprintf('Thus the voltage in volts that has to be applied to absorb 100w of power is %1.3f V ',V);\n",
" //=================================END OF PROGRAM=============================="
   ]
   }
,
{
		   "cell_type": "markdown",
		   "metadata": {},
		   "source": [
			"## Example 1.26: RESISTANCE.sce"
		   ]
		  },
  {
"cell_type": "code",
	   "execution_count": null,
	   "metadata": {
	    "collapsed": true
	   },
	   "outputs": [],
"source": [
"//Chapter-1, Example 1.26, Page 41\n",
"//=============================================================================\n",
"clc;\n",
"clear;\n",
"//INPUT DATA\n",
"V=230;//supply voltage in volts\n",
"I1=12;//initial current in A\n",
"I2=16;//final current in A\n",
"//CALCULATIONS \n",
"I=I2-I1;//current through the resistance placed in parallel in A\n",
"R=V/I;//resistance in ohms by ohm's law\n",
"//OUTPUT\n",
"mprintf('Thus the resistance placed in parallel is %2.1f ohm ',R);\n",
" //=================================END OF PROGRAM=============================="
   ]
   }
,
{
		   "cell_type": "markdown",
		   "metadata": {},
		   "source": [
			"## Example 1.27: CURRENT.sce"
		   ]
		  },
  {
"cell_type": "code",
	   "execution_count": null,
	   "metadata": {
	    "collapsed": true
	   },
	   "outputs": [],
"source": [
"//Chapter-1, Example 1.27, Page 41\n",
"//=============================================================================\n",
"clc;\n",
"clear;\n",
"//INPUT DATA\n",
"I=12.1;//current in A entering the parallel combination of resistors\n",
"I1=7.2;//current in A in resistor 1\n",
"R1=50;//resistance1 in ohm\n",
"R2=100;//resistance2 in ohm\n",
"//CALCULATIONS \n",
"V=I1*R1;//supply voltage in volts by ohms law(V=I*R)\n",
"I2=V/R2;//current through R2 in A  by ohms law\n",
"I3=I-I1-I2;//current through resistance3 R3 in A by ohms law\n",
"R3=V/I3;//resistance in ohm\n",
"//OUTPUT\n",
"mprintf('Thus the value of third resistance placed is %3.2f ohm ',R3);\n",
" //=================================END OF PROGRAM=============================="
   ]
   }
,
{
		   "cell_type": "markdown",
		   "metadata": {},
		   "source": [
			"## Example 1.28: RESISTANCE.sce"
		   ]
		  },
  {
"cell_type": "code",
	   "execution_count": null,
	   "metadata": {
	    "collapsed": true
	   },
	   "outputs": [],
"source": [
"//Chapter-1, Example 1.28, Page 42\n",
"//=============================================================================\n",
"clc;\n",
"clear;\n",
"//INPUT DATA\n",
"R1=3.6;//resistance in ohm\n",
"R2=4.56;//resistance in ohm\n",
"RT=6;//resistance in ohm\n",
"//CALCULATIONS \n",
"X=RT-(R2);\n",
"R3=(X*R1)/(R1-X);\n",
"//OUTPUT\n",
"mprintf('Thus the value of third resistance placed is %1.1f ohm ',R3);\n",
" //=================================END OF PROGRAM=============================="
   ]
   }
,
{
		   "cell_type": "markdown",
		   "metadata": {},
		   "source": [
			"## Example 1.29: RESISTANCE.sce"
		   ]
		  },
  {
"cell_type": "code",
	   "execution_count": null,
	   "metadata": {
	    "collapsed": true
	   },
	   "outputs": [],
"source": [
"//Chapter-1, Example 1.29, Page 42\n",
"//=============================================================================\n",
"clc;\n",
"clear;\n",
"//INPUT DATA\n",
"P=70;//total power dissipated in circuit in watts\n",
"V=22;//applied voltage in volts\n",
"I=P/V;//total current through the circuit in Amps\n",
"R1=12;//resistance 1 of parallel combination in ohms\n",
"R2=8;//resistance 2 of parallel combination in ohms\n",
"//CALCULATIONS \n",
"RP=(R1*R2)/(R1+R2);//equivalent resistance of parallel combination in ohms\n",
"VP=I*RP;//voltage across parallel combination in volts\n",
"VR=V-VP;//voltage across the resistance R# in volts\n",
"R3=VR/I;//by ohm's law\n",
"//OUTPUT\n",
"mprintf('Thus the value of third resistance placed is %1.2f ohms ',R3);\n",
" //=================================END OF PROGRAM=============================="
   ]
   }
,
{
		   "cell_type": "markdown",
		   "metadata": {},
		   "source": [
			"## Example 1.2: RESISTANCE.sce"
		   ]
		  },
  {
"cell_type": "code",
	   "execution_count": null,
	   "metadata": {
	    "collapsed": true
	   },
	   "outputs": [],
"source": [
"//Chapter-1, Example 1.2, Page 18\n",
"//=============================================================================\n",
"clc;\n",
"clear;\n",
"//INPUT DATA\n",
"l1=20;//length in cm for first case\n",
"l2=0.4;//length in cm for second case\n",
"w=0.1;//width in cm\n",
"t=0.4;//thickness in cm\n",
"p=1.7*10^-6//resistivity of copper in ohm cm\n",
"a1=0.1*0.4//area(w*t) in cm^2 for first case\n",
"a2=0.1*20//area(l*t) in cm^2 for second case\n",
"//CALCULATIONS\n",
"R1=p*l1/a1;//resistance in ohms for first case\n",
"R2=p*l2/a2;//resistance in ohms for second case\n",
"//OUTPUT\n",
"mprintf('Thus the resistance in first and second cases are %g ohms and %g ohms\n',R1,R2);\n",
"\n",
"//=================================END OF PROGRAM=============================="
   ]
   }
,
{
		   "cell_type": "markdown",
		   "metadata": {},
		   "source": [
			"## Example 1.30: EMF.sce"
		   ]
		  },
  {
"cell_type": "code",
	   "execution_count": null,
	   "metadata": {
	    "collapsed": true
	   },
	   "outputs": [],
"source": [
"//Chapter-1, Example 1.30, Page 43\n",
"//=============================================================================\n",
"clc;\n",
"clear;\n",
"//INPUT DATA\n",
"P=70;//total power dissipated in circuit in watts\n",
"V1=6;//since applied voltage  E is 6V,as per the characteristics of parallel circuit P.D across R1 is\n",
"V2=6;//V1=V2,in volts\n",
"R1=12;//resistance1 in parallel combination in ohms\n",
"R2=6;//resistance2 in parallel combination in ohms\n",
"R3=6.25//resistance3 in series with parallel combination in ohms\n",
"I1=V1/R1;// current through the resistance R1 in Amps\n",
"I2=V2/R2;//current through the resistance R2 in Amps\n",
"r=0.25;//internal resistance in ohm\n",
"//CALCULATIONS \n",
"I=I1+I2;//total current through parallel combination\n",
"E=(I*r)+(I*R3)+V2;//emf of battery in Volts\n",
"//OUTPUT\n",
"mprintf('Thus the value of emf of battery in Volts is %2.2f volts ',E);\n",
" //=================================END OF PROGRAM=============================="
   ]
   }
,
{
		   "cell_type": "markdown",
		   "metadata": {},
		   "source": [
			"## Example 1.31: CURRENT.sce"
		   ]
		  },
  {
"cell_type": "code",
	   "execution_count": null,
	   "metadata": {
	    "collapsed": true
	   },
	   "outputs": [],
"source": [
"//Chapter-1, Example 1.31, Page 44\n",
"//=============================================================================\n",
"clc;\n",
"clear;\n",
"//INPUT DATA\n",
"E=12;//emf of battery in volts\n",
"R1=3;//resistance1 in parallel combination in ohms\n",
"R2=4;//resistance2 in parallel combination in ohms\n",
"R3=6;//resistance3 in parallel combination in ohms\n",
"R4=4;//resistance4 in series with parallel combination in ohms\n",
"r=6;//internal resistance in ohm\n",
"//CALCULATIONS \n",
"RP=((R2*R3)+(R3*R1)+(R1*R2))/(R1*R2*R3);\n",
"RP=1/RP;//equivalent resistance of parallel combination in ohms\n",
"RT=RP+R4+r;//total circuit resistance in ohms\n",
"I=E/RT;//total circuit current in A\n",
"V=E-(I*r);//terminal voltage of battery in volts\n",
"//OUTPUT\n",
"mprintf('Thus the terminal voltage of battery is %1.3f volts ',V);\n",
" //=================================END OF PROGRAM=============================="
   ]
   }
,
{
		   "cell_type": "markdown",
		   "metadata": {},
		   "source": [
			"## Example 1.32: CURRENT.sce"
		   ]
		  },
  {
"cell_type": "code",
	   "execution_count": null,
	   "metadata": {
	    "collapsed": true
	   },
	   "outputs": [],
"source": [
"//Chapter-1, Example 1.32, Page 45\n",
"//=============================================================================\n",
"clc;\n",
"clear;\n",
"//INPUT DATA\n",
"V=24;//supply voltage of battery in volts\n",
"Rab=13;//resistance between A and B points in ohms\n",
"Rbc=11;//resistance between B and C points in ohms\n",
"Rbe=18;//resistance between B and E points in ohms\n",
"Rce=14;//resistance between C and E points in ohms\n",
"Red=9;//resistance between E and D points in ohms\n",
"Rcd=5;//resistance between C and D points in ohms\n",
"Rae=22;//resistance between A and E points in ohm\n",
"Rx=Rae;\n",
"Ry=Rbe;\n",
"Raf=1;//resistance between A and F points in ohms\n",
"//CALCULATIONS \n",
"Rce=((Rcd+Red)*(Rce))/(Rcd+Red+Rce);//equivalent resistance of Rce in ohms\n",
"Rbe=((Rbc+Rce)*(Rbe))/(Rbc+Rce+Rbe);//equivalent resistance of Rbe in ohms\n",
"Rae=((Rab+Rbe)*(Rae))/(Rab+Rbe+Rae);//equivalent resistance of Rae in ohms\n",
"RT=Rae+Raf;//total equivalent circuit resistance in ohms\n",
"Iaf=V/RT;//current through resistance Raf in A\n",
"Vae=V-(Iaf*Raf);//P.D across AE in volts\n",
"Iae=Vae/Rx;//current in AE in A\n",
"Iab=Iaf-Iae;//current in AB in A\n",
"Vab=Rab*Iab;//P.D across AB in volts\n",
"Vbe=Vae-Vab;//Voltage across branch BE in volts\n",
"Pbe=((Vbe)^2)/(Ry);//power absorbed in branch Be in watts\n",
"Ibe=Vbe/Ry;//current in BE in A\n",
"Ibc=Iab-Ibe;//current in BC in A\n",
"Icde=(Ibc)/(2);//current in CDE in A\n",
"Vcd=Icde*(Rcd);//P.D across CD\n",
"//OUTPUT\n",
"mprintf('Current in branch AF is %d A \n Power absorbed in BE is %1.1f watts \n P.D across CD is %1.2f volts ',Iaf,Pbe,Vcd);\n",
" //=================================END OF PROGRAM=============================="
   ]
   }
,
{
		   "cell_type": "markdown",
		   "metadata": {},
		   "source": [
			"## Example 1.33: CURRENT.sce"
		   ]
		  },
  {
"cell_type": "code",
	   "execution_count": null,
	   "metadata": {
	    "collapsed": true
	   },
	   "outputs": [],
"source": [
"//Chapter-1, Example 1.33, Page 46\n",
"//=============================================================================\n",
"clc;\n",
"clear;\n",
"//INPUT DATA\n",
"V1=25;//supply voltage1 of battery in volts\n",
"V2=45;//supply voltage2 of battery in volts\n",
"R1=6;//resistance1 in ohms\n",
"R3=4;//resistance2 in ohms\n",
"R2=3;//resistance3 in ohms\n",
"//let I1 be the current in loop1 and I2 current be in loop2\n",
"//CALCULATIONS \n",
"//V1=((R1+R3)*(I1)-(R3*I2));//applying KVL in loop1 -------------eqn(1)\n",
"//V2=((R3)*(I1)-(R2+R3)*(I2));//applying KVL in loop2 -------------eqn(2)\n",
"//solving both eqn(1) and eqn(2)\n",
"[a]=[(R1+R3),-R3;(R3),-(R2+R3)]\n",
"[b]=[V1;-V2]\n",
"[c]=inv(a)*(b)//ax=b\n",
"c1=c(1);//c1 is current in branch FABC measured in A\n",
"c2=c(2);//c2 is current in branch CDEF measured in A \n",
"c3=c1-c2;//current in branch CF in A\n",
"//OUTPUT\n",
"mprintf('Current in R1 is %1.4f A \n current in R2 is %2.3f A \n  current in R3 is %1.3f A\n ',c1,c2,c3);\n",
" //=================================END OF PROGRAM=============================="
   ]
   }
,
{
		   "cell_type": "markdown",
		   "metadata": {},
		   "source": [
			"## Example 1.34: CURRENT.sce"
		   ]
		  },
  {
"cell_type": "code",
	   "execution_count": null,
	   "metadata": {
	    "collapsed": true
	   },
	   "outputs": [],
"source": [
"//Chapter-1, Example 1.34, Page 46\n",
"//=============================================================================\n",
"clc;\n",
"clear;\n",
"//INPUT DATA\n",
"V=4.5;//supply voltage of battery in volts\n",
"RAB=1000;//resistance between A and B points in ohms\n",
"RBC=100;//resistance between B and C points in ohms\n",
"RAD=5000;//resistance between A and D points in ohms\n",
"RCD=450;//resistance between C and D points in ohms\n",
"Rg=500;//resistance of galvanometer in ohms\n",
"//let I1 be the current across RAB and I1-Ig across RBC and I2 across RAD and I2+Ig across RCD and I be the total current\n",
"//where I=I1+I2\n",
"//CALCULATIONS \n",
"//(-(RAB*I1)-(Rg*Ig)+(RAD*I2))=0;//applying KVL to loop ABDA -------------eqn(1)\n",
"//(-(RBC*I1)+((Rg+RCD+RBC)*(Ig))+(RCD*I2))=0;//applying KVL to loop BCDB -------------eqn(2)\n",
"//((RAD+RCD)*I2)+(RCD*Ig))=V;//applying KVL to loop EADCFE-------------eqn(3)\n",
"//solving  eqn(1),eqn(2) and eqn(3)\n",
"[a]=[-RAB,-Rg,RAD;-RBC,(Rg+RCD+RBC),RCD;0,RCD,(RAD+RCD)];\n",
"[b]=[0;0;V];\n",
"[c]=inv(a)*(b)//ax=b\n",
"I1=c(1);//c1 is current in branch FABC measured in A\n",
"Ig=c(2);//c2 is current in branch CDEF measured in A \n",
"I2=c(3);//current in branch CF in A\n",
"//OUTPUT\n",
"mprintf('Current through galvanometer is %g A \n since the answer is positive our assumed direction is correct ',Ig);\n",
" //=================================END OF PROGRAM=============================="
   ]
   }
,
{
		   "cell_type": "markdown",
		   "metadata": {},
		   "source": [
			"## Example 1.35: CURRENT.sce"
		   ]
		  },
  {
"cell_type": "code",
	   "execution_count": null,
	   "metadata": {
	    "collapsed": true
	   },
	   "outputs": [],
"source": [
"//Chapter-1, Example 1.35, Page 47\n",
"//=============================================================================\n",
"clc;\n",
"clear;\n",
"//INPUT DATA\n",
"V1=8;//supply voltage of battery in loop1 in volts\n",
"V2=4;//supply voltage of battery in loop2 in volts\n",
"RED=200;//resistance between E and D points in ohms\n",
"RAD=20;//resistance between A and D points in ohms\n",
"RCD=50;//resistance between C and D points in ohms\n",
"//let I1 be the current across path AFED and I2 across AD and I1-I2 across  path DCBA \n",
"//CALCULATIONS \n",
"//((RCD*I1)-((RAD+RCD)*I2))=4;//applying KVL to loop ADCBA -------------eqn(1)\n",
"//((RED*I1)+(RAD*I2))=8;//applying KVL to loop AFEDA -------------eqn(2)\n",
"//solving  eqn(1)and eqn(2)\n",
"[a]=[RCD,-(RAD+RCD);RED,RAD];\n",
"[b]=[4;8];\n",
"[c]=inv(a)*(b)//ax=b\n",
"I1=c(1);//c1 is current across path AFED in A\n",
"I2=c(2);//c2 is current across AD in A\n",
"//OUTPUT\n",
"mprintf('Current in 20 ohm resistor  is %f A \n since the answer is negative,the current actually flows from A to D ',I2);\n",
" //=================================END OF PROGRAM=============================="
   ]
   }
,
{
		   "cell_type": "markdown",
		   "metadata": {},
		   "source": [
			"## Example 1.36: RESISTANCE.sce"
		   ]
		  },
  {
"cell_type": "code",
	   "execution_count": null,
	   "metadata": {
	    "collapsed": true
	   },
	   "outputs": [],
"source": [
"//Chapter-1, Example 1.36, Page 48\n",
"//=============================================================================\n",
"clc;\n",
"clear;\n",
"//INPUT DATA\n",
"Rs=25;//total resistance when two resistances are connected in series in ohms\n",
"Rp=6;//total resistance when two resistances are connected in parallel in ohms\n",
"//let individual resistances be R1 and R2 ohms\n",
"//CALCULATIONS \n",
"//Rs=(R1+R2)---eqn(1)\n",
"//Rp=((R1*R2)/(R1+R2))---eqn(2)\n",
"//let (R1*R2)=x\n",
"//let(R1-R2)=y\n",
"//solving  eqn(1)and eqn(2)\n",
"x=Rs*Rp;//in ohms\n",
"y=sqrt((Rs)^2-(4*x));//eqn---(3)\n",
"//solving eqn(1) and eqn(3)\n",
"z=Rs+y;\n",
"R1=z/2;//resistance1 in ohms\n",
"R2=Rs-R1;//resistance2 in ohms\n",
"//OUTPUT\n",
"mprintf('Thus the individual resistances are R1=%d ohms and R2=%d ohms ',R1,R2); \n",
" //=================================END OF PROGRAM=============================="
   ]
   }
,
{
		   "cell_type": "markdown",
		   "metadata": {},
		   "source": [
			"## Example 1.37: CURRENT.sce"
		   ]
		  },
  {
"cell_type": "code",
	   "execution_count": null,
	   "metadata": {
	    "collapsed": true
	   },
	   "outputs": [],
"source": [
"//Chapter-1, Example 1.37, Page 48\n",
"//=============================================================================\n",
"clc;\n",
"clear;\n",
"//INPUT DATA\n",
"P=16;//total power dissipated in circuit in Watts\n",
"R1=4;//resistance R1 in Ohms\n",
"R2=2;//resistance R2 in Ohms\n",
"R3=8;//resistance R3 in Ohms\n",
"V=8;//supply voltage in volts\n",
"//let resistance parallel to R1 is R ohms\n",
"//CALCULATIONS \n",
"Reff=(((V)^2)/P);//total effective resistance of circuit in ohms\n",
"x=((R2*R3)/(R2+R3));//effective resistance of 2nd parallel circuit in ohms\n",
"z=(Reff-x);//effective resistance of 1st parallel circuit where z=((R1*R)/(R1+R)) in ohms------eqn(1)\n",
"//solving for R in eqn(1)\n",
"R=(R1*z)/(R1-z);\n",
"Reff=((R1*R)/(R1+R))+(x);//in ohms\n",
"I=V/Reff;//total current in A\n",
"mprintf('Thus the total current is I=%d A ',I); \n",
" //=================================END OF PROGRAM=============================="
   ]
   }
,
{
		   "cell_type": "markdown",
		   "metadata": {},
		   "source": [
			"## Example 1.38: CURRENT.sce"
		   ]
		  },
  {
"cell_type": "code",
	   "execution_count": null,
	   "metadata": {
	    "collapsed": true
	   },
	   "outputs": [],
"source": [
"//Chapter-1, Example 1.38, Page 49\n",
"//=============================================================================\n",
"clc;\n",
"clear;\n",
"//INPUT DATA\n",
"R1=2;//resistance R1 in Ohms\n",
"R2=12;//resistance R2 in parallel circuit measured in ohms\n",
"R3=20;//resistance R3 in parallel circuit measured in ohms\n",
"R4=30;//resistance R4 in parallel circuit measured  in ohms\n",
"R5=2;//resistance R5 in ohms\n",
"V=100;//supply voltage in volts\n",
"//CALCULATIONS \n",
"Reff=(R1)+((1)/((1/R2)+(1/R3)+(1/R4)))+(R5);//total effective resistance of circuit in ohms\n",
"I=V/Reff;//total current in A\n",
"// let individual currents in 3 parallel resistance network be I1,I2,I3 respectively\n",
"//Then I1+I2+I3=I---eqn(1)\n",
"//where I2=(I1*R1/R2) and I3=(I1*R1/R3)\n",
"//solving for I1 in eqn(1)\n",
"I1=I/2;//in A\n",
"I2=(I1*R2/R3);//in A\n",
"I3=(I1*R2/R4);//in A\n",
"mprintf('I1=%d A \n I2=%1.0f A \n I3=%1.0f A',I1,I2,I3); \n",
" //=================================END OF PROGRAM=============================="
   ]
   }
,
{
		   "cell_type": "markdown",
		   "metadata": {},
		   "source": [
			"## Example 1.39: RESISTANCE.sce"
		   ]
		  },
  {
"cell_type": "code",
	   "execution_count": null,
	   "metadata": {
	    "collapsed": true
	   },
	   "outputs": [],
"source": [
"//Chapter-1, Example 1.39, Page 49\n",
"//=============================================================================\n",
"clc;\n",
"clear;\n",
"//INPUT DATA\n",
"V=100;//supply voltage in volts\n",
"I=10;//total current in A\n",
"P1=600;//power dissipated in coil in Watts\n",
"//CALCULATIONS \n",
"//Reff=((R1*R2)/(R1+R2)) is total effective resistance of circuit in ohms----eqn(1)\n",
"Reff=V/I;;//total effective resistance of circuit in ohms\n",
"R1=((V)^2)/(P1);//in ohms----eqn(2)\n",
"//solving for R2 in eqn(1)\n",
"R2=((Reff*R1)/(R1-Reff));//in ohms\n",
"mprintf('R1=%2.2f Ohms \n R2=%1.0f Ohms ',R1,R2); \n",
" //=================================END OF PROGRAM=============================="
   ]
   }
,
{
		   "cell_type": "markdown",
		   "metadata": {},
		   "source": [
			"## Example 1.3: DIAMETER.sce"
		   ]
		  },
  {
"cell_type": "code",
	   "execution_count": null,
	   "metadata": {
	    "collapsed": true
	   },
	   "outputs": [],
"source": [
"//Chapter-1, Example 1.3, Page 19\n",
"//=============================================================================\n",
"clc;\n",
"clear;\n",
"//INPUT DATA\n",
"la=1000;//length  of aluminium wire in cm\n",
"da=0.2;//diameter in cm\n",
"pa=2.6*10^-6;//specific resistance of aluminium in ohm cm\n",
"pc=1.6*10^-6;//specific resistance of copper in ohm cm\n",
"lc=600;//length  of copper wire in cm\n",
"i=2;//current in A passing through combination\n",
"ia=1.25;//current in A passing through aluminium wire \n",
"//CALCULATIONS\n",
"ic=i-ia;//current in A passing through copper wire\n",
"//resistance of aluminium wire in ohms\n",
"Ra=pa*la/(%pi*(da*da)/4);//(Ra=pa*la/a), where a is cross sectional area of aluminum wire with diameter da  \n",
"Rc=ia/ic*Ra;//resistance of copper wire\n",
"dc=sqrt(4*pc*lc/Rc);//diameter of copper wire\n",
"//OUTPUT\n",
"mprintf('Thus the diameter of copper wire  is %1.3f cm \n',dc);\n",
"//note:The answer given for diameter in text book is wrong.please check the calculations\n",
"\n",
"//=================================END OF PROGRAM=============================="
   ]
   }
,
{
		   "cell_type": "markdown",
		   "metadata": {},
		   "source": [
			"## Example 1.40: CURRENT.sce"
		   ]
		  },
  {
"cell_type": "code",
	   "execution_count": null,
	   "metadata": {
	    "collapsed": true
	   },
	   "outputs": [],
"source": [
"//Chapter-1, Example 1.40, Page 50\n",
"//=============================================================================\n",
"clc;\n",
"clear;\n",
"//INPUT DATA\n",
"R1=5;//resistance in ohms\n",
"P=20;//power dissipated in R1 in Watts\n",
"R2=10;//Resistance parallel to R1\n",
"//CALCULATIONS \n",
"I1=sqrt(P/R1);//current through R1 in A\n",
"I=((R1+R2)/(R2))*(I1);//total supply current in A\n",
"mprintf('I=%d A',I); \n",
" //=================================END OF PROGRAM=============================="
   ]
   }
,
{
		   "cell_type": "markdown",
		   "metadata": {},
		   "source": [
			"## Example 1.41: RESISTANCE.sce"
		   ]
		  },
  {
"cell_type": "code",
	   "execution_count": null,
	   "metadata": {
	    "collapsed": true
	   },
	   "outputs": [],
"source": [
"//Chapter-1, Example 1.41, Page 50\n",
"//=============================================================================\n",
"clc;\n",
"clear;\n",
"//INPUT DATA\n",
"I1=2;//current through R1 in A\n",
"I3=1.5;//current through R3 in A\n",
"I5=0.5;//current through R5 in A\n",
"P2=75;//power dissipated in R2 in W\n",
"P4=30;//power dissipated in R4 in W\n",
"V=200;//supply voltage in volts\n",
"//let the current through R2 and R4 be I2 and I4 respectively\n",
"//CALCULATIONS \n",
"I2=I1-I3;//current through R2 in A\n",
"I4=I3-I5;//current through R4 in A\n",
"R2=P2/(I2)^2;//resistance R2 in Ohms\n",
"R4=P4/(I4)^2;//resistance R4 in Ohms\n",
"R5=(R4*I4)/(I5);//resistance R5 in Ohms\n",
"//(R1*I1)+(R2*I2)=200\n",
"//(R3*I3)+(R4*I4)=(R2*I2)\n",
"R1=((V-(R2*I2))/I1);//resistance R1 in Ohms\n",
"R3=((R2*I2)-(R4*I4))/(I3);//resistance R3 in Ohms\n",
"//OUTPUT\n",
"mprintf('R1=%d ohms \n R2=%d ohms \n R3=%d ohms \n R4=%d ohms \n R5=%d ohms ',R1,R2,R3,R4,R5);\n",
" //=================================END OF PROGRAM=============================="
   ]
   }
,
{
		   "cell_type": "markdown",
		   "metadata": {},
		   "source": [
			"## Example 1.42: CURRENT.sce"
		   ]
		  },
  {
"cell_type": "code",
	   "execution_count": null,
	   "metadata": {
	    "collapsed": true
	   },
	   "outputs": [],
"source": [
"//Chapter-1, Example 1.42, Page 50\n",
"//=============================================================================\n",
"clc;\n",
"clear;\n",
"//INPUT DATA\n",
"VA=0.2;//voltage across ammeter A in Volts\n",
"VB=0.3;//voltage across ammeter B in volts\n",
"I=20;//total current in A\n",
"//CALCULATIONS \n",
"RA=VA/I;//resistance through ammeter A in ohms\n",
"RB=VB/I;//resistance through ammeter B in ohms\n",
"IA=((RB*I)/(RA+RB));//current through ammeter A in amps\n",
"IB=I-IA;//current through ammeter B in amps\n",
"//OUTPUT\n",
"mprintf('IA=%1.0f Amps \n IB=%d Amps \n ',IA,IB);\n",
" //=================================END OF PROGRAM=============================="
   ]
   }
,
{
		   "cell_type": "markdown",
		   "metadata": {},
		   "source": [
			"## Example 1.43: RESISTANCE.sce"
		   ]
		  },
  {
"cell_type": "code",
	   "execution_count": null,
	   "metadata": {
	    "collapsed": true
	   },
	   "outputs": [],
"source": [
"//Chapter-1, Example 1.43, Page 51\n",
"//=============================================================================\n",
"clc;\n",
"clear;\n",
"//INPUT DATA\n",
"R1=10;//resistance R1 in ohms\n",
"R2=20;//resistance R2 in ohms\n",
"R3=40;//resistance R3 in ohms\n",
"//after certain manipulations the resultant network can be evaluated as parallel combinaton of R1,R2,R3\n",
"//CALCULATIONS \n",
"RAD=1/((1/R1)+(1/R2)+(1/R3));//resultant resistance in Ohms\n",
"//OUTPUT\n",
"mprintf('Resultant resitance RAD is %1.3f ohms',RAD);\n",
" //=================================END OF PROGRAM=============================="
   ]
   }
,
{
		   "cell_type": "markdown",
		   "metadata": {},
		   "source": [
			"## Example 1.44: RESISTANCE.sce"
		   ]
		  },
  {
"cell_type": "code",
	   "execution_count": null,
	   "metadata": {
	    "collapsed": true
	   },
	   "outputs": [],
"source": [
"//Chapter-1, Example 1.44, Page 51\n",
"//=============================================================================\n",
"clc;\n",
"clear;\n",
"//INPUT DATA\n",
"V=200;//supply voltage in volts\n",
"I=25;//total current in A\n",
"P1=1500;//power dissipated in watts\n",
"//CALCULATIONS \n",
"R1=(V)^2/(P1);//Resistance R1 in Ohms\n",
"Reff=(V)/(I);//total effective resitance of R1 and R2 in parallel in Ohms\n",
"R2=(Reff*R1)/(R1-Reff);//Resitance R2 in Ohms\n",
"//OUTPUT\n",
"mprintf('R1=%2.3f ohms \n R2= %2.3f ohms',R1,R2);\n",
" //=================================END OF PROGRAM=============================="
   ]
   }
,
{
		   "cell_type": "markdown",
		   "metadata": {},
		   "source": [
			"## Example 1.45: RESISTANCE.sce"
		   ]
		  },
  {
"cell_type": "code",
	   "execution_count": null,
	   "metadata": {
	    "collapsed": true
	   },
	   "outputs": [],
"source": [
"//Chapter-1, Example 1.45, Page 52\n",
"//=============================================================================\n",
"clc;\n",
"clear;\n",
"//INPUT DATA\n",
"V=15;//supply voltage in volts\n",
"VAB=5;//voltage across AB in volts\n",
"R1=5;//resitance in ohms\n",
"R2=10;//resitance in ohms\n",
"R3=10;//resitance in ohms\n",
"//CALCULATIONS \n",
"VAC=((R1)/(R1+R3))*V;//Volatge across AC terminals in Volts\n",
"//VBC=(((R)/(R+2))*V)--------------eqn(1) by ohm's law\n",
"//VAB=(VAC-((VBC)*(R2-(((R1+R2)*R)/(R+2)))---------------eqn(2) by ohm's law\n",
"//solving equation 2 with Vab=5V\n",
"R=10/10;//resistance R in ohms\n",
"//OUTPUT\n",
"mprintf('R=%d ohms',R);\n",
" //=================================END OF PROGRAM=============================="
   ]
   }
,
{
		   "cell_type": "markdown",
		   "metadata": {},
		   "source": [
			"## Example 1.46: CURRENT.sce"
		   ]
		  },
  {
"cell_type": "code",
	   "execution_count": null,
	   "metadata": {
	    "collapsed": true
	   },
	   "outputs": [],
"source": [
"//Chapter-1, Example 1.46, Page 52\n",
"//=============================================================================\n",
"clc;\n",
"clear;\n",
"//INPUT DATA\n",
"Ra=4;//Resistance in ohms\n",
"Rb=9;//Resistance in ohms\n",
"Rc=18;//Resistance in ohms\n",
"Rd=2;//Resistance in ohms\n",
"Re=7;//Resistance in ohms\n",
"Rf=15;//Resistance in ohms\n",
"V=125;//voltage in volts\n",
"//CALCULATIONS \n",
"R1=((Ra)+((Rb*Rc)/(Rc+Rb)));//resistance in branch1 in ohms\n",
"R2=((Rd)+(Re));//resistance in branch2 in ohms\n",
"Reff=((R1*R2)/(R1+R2))+Rf;//effective resistance in ohms\n",
"I=V/Reff;//current in Rf resistor in Amps\n",
"I1=(I)*(Rb)/(Rb+R1);//current in resistor Ra in Amps\n",
"Ix=(I1)*(Rb/(Rb+Rc)) ;//current in resistor Rc in Amps\n",
"V2=(Ix)*(Rc);//voltage across Rc in volts\n",
"I2=I-I1;//current across Re in Amps\n",
"P4=(I2)^2*Re;//power dissipated across Re in W\n",
"//OUTPUT\n",
"mprintf('current across 15 ohm resistor is %1.2f amps \n voltage across 18 ohm resistor is %dV \n power dissipated in 7 ohm resistor is %2.1f Watts ',I,V2,P4);\n",
" //=================================END OF PROGRAM=============================="
   ]
   }
,
{
		   "cell_type": "markdown",
		   "metadata": {},
		   "source": [
			"## Example 1.47: CURRENT.sce"
		   ]
		  },
  {
"cell_type": "code",
	   "execution_count": null,
	   "metadata": {
	    "collapsed": true
	   },
	   "outputs": [],
"source": [
"//Chapter-1, Example 1.47, Page 53\n",
"//=============================================================================\n",
"clc;\n",
"clear;\n",
"//INPUT DATA\n",
"R1=20;//Resistance in ohms\n",
"R2=50;//Resistance in ohms\n",
"R3=30;//Resistance in ohms\n",
"R4=15;//Resistance in ohms\n",
"V=100;// supply voltage in volts\n",
"//applying KVL to meshes I and II\n",
"//R1*(I1)+(R3)*(I1-I2)=V;-------eqn(1)\n",
"//(R2+R4)*(I2)+(R3)*(I2-I1)=0;---------eqn(2)\n",
"//solving eqn(1) and eqn(2)\n",
"//CALCULATIONS \n",
"[a]=[R2,-R3;-R3,(R3+R4+R2)];\n",
"[b]=[V;0];\n",
"[c]=inv(a)*(b);\n",
"I1=c(1);//current in mesh1 in A\n",
"I2=c(2);//current in mesh2 in A\n",
"//OUTPUT\n",
"mprintf('current across 15 ohm resistor is %1.4f amps',I2);\n",
" //=================================END OF PROGRAM=============================="
   ]
   }
,
{
		   "cell_type": "markdown",
		   "metadata": {},
		   "source": [
			"## Example 1.48: CURRENT.sce"
		   ]
		  },
  {
"cell_type": "code",
	   "execution_count": null,
	   "metadata": {
	    "collapsed": true
	   },
	   "outputs": [],
"source": [
"//Chapter-1, Example 1.48, Page 53\n",
"//=============================================================================\n",
"clc;\n",
"clear;\n",
"//INPUT DATA\n",
"RAB=1;//Resistance across AB in ohms\n",
"ROB=4;//Resistance across OB in ohms\n",
"RBC=2;//Resistance across BC in ohms\n",
"RAC=1.5;//resistance across AC in ohms\n",
"V=10;// supply voltage in volts\n",
"//let ROC is R ohms\n",
"//applying KVL to meshes I,II and III\n",
"//RAB*(I1)+0+ROB*(I1-I3)=0-------eqn(1)\n",
"//RAC*(I2)+ROC*(I2-I3)=0---------eqn(2)\n",
"//ROB*(I3-I1)+R*(I3-I2)+RBC*I3=10------eqn(3)\n",
"//solving eqn(1) we get it as (I2=I1) and applying it in eqn(2) we get R as 6 ohms\n",
"R=6;//Resistance ROC\n",
"//solving eqn(1),(2)and (3)\n",
"//CALCULATIONS \n",
"[a]=[RAB+ROB,0,-ROB;0,(RAC+R),-R;-ROB,-R,(RBC+R+ROB)];\n",
"[b]=[0;0;10];\n",
"[c]=inv(a)*(b);\n",
"I1=c(1);//current in mesh1 in A\n",
"I2=c(2);//current in mesh2 in A\n",
"I3=c(3);//current in mesh3 in A\n",
"I=(I3-I2);//current flowing through R\n",
"//OUTPUT\n",
"mprintf('current across resistor R is %1.1f amps',I);\n",
" //=================================END OF PROGRAM=============================="
   ]
   }
,
{
		   "cell_type": "markdown",
		   "metadata": {},
		   "source": [
			"## Example 1.49: CURRENT.sce"
		   ]
		  },
  {
"cell_type": "code",
	   "execution_count": null,
	   "metadata": {
	    "collapsed": true
	   },
	   "outputs": [],
"source": [
"//Chapter-1, Example 1.49, Page 54\n",
"//=============================================================================\n",
"clc;\n",
"clear;\n",
"//INPUT DATA\n",
"R1=5;//Resistance in ohms\n",
"R2=15;//Resistance in ohms\n",
"R3=10;//Resistance in ohms\n",
"R4=8;//resistance in ohms\n",
"R5=12;//resistance in ohms\n",
"V1=4;// supply voltage in volts\n",
"V2=6;//supply voltage in volts\n",
"//let currents in mesh I,II and III is I1,I2,I3 respectively\n",
"//applying KVL to meshes I,II and III\n",
"//(R1+R2)*(I1)-R2*(I2)=V1-------eqn(1)\n",
"//R2*(I1)-(R2+R3+R4)*(I2)+(R4)*(I3)=0---------eqn(2)\n",
"//R4*(I2)-(R4+R5)=V2------eqn(3)\n",
"//solving eqn(1) we get it as (I2=I1) and applying it in eqn(2) we get R as 6 ohms\n",
"R=6;//Resistance ROC\n",
"//solving eqn(1),(2)and (3)\n",
"//CALCULATIONS \n",
"[a]=[R1+R2,-R2,0;R2,-(R2+R3+R4),R4;0,R4,-(R4+R5)];\n",
"[b]=[V1;0;V2];\n",
"[c]=inv(a)*(b);\n",
"I1=c(1);//current in mesh1 in A\n",
"I2=c(2);//current in mesh2 in A\n",
"I3=c(3);//current in mesh3 in A\n",
"I=(I2-I3);//current flowing through R4 in Amps\n",
"//OUTPUT\n",
"mprintf('current across 8 ohm resistor is %1.3f amps',I);\n",
" //=================================END OF PROGRAM=============================="
   ]
   }
,
{
		   "cell_type": "markdown",
		   "metadata": {},
		   "source": [
			"## Example 1.4: RESISTANCE.sce"
		   ]
		  },
  {
"cell_type": "code",
	   "execution_count": null,
	   "metadata": {
	    "collapsed": true
	   },
	   "outputs": [],
"source": [
"//Chapter-1, Example 1.4, Page 20\n",
"//=============================================================================\n",
"clc;\n",
"clear;\n",
"//INPUT DATA\n",
"l=10000;//length drawn from 10cc of copper in cm\n",
"p=1.7*10^-6;//Resistivity of copper in ohm cm\n",
"v=10;//volume of copper in cc\n",
"s1=10;//square sheet side in second case in cm\n",
"//CALCULATIONS\n",
"a=v/l;//area of cross-section in cm^2 in first case\n",
"R1=p*l/a;//resistance of wire in first case in ohm\n",
"a1=s1*s1;//area of cross-section in cm^2 in second case\n",
"l1=v/a1;//thickness in case 2 in cm\n",
"R2=p*l1/a1;//resistance of wire in second case in ohm\n",
"//OUTPUT\n",
"mprintf('Thus the resistance in first and second cases are %g ohms and %g ohms\n',R1,R2);\n",
"\n",
"//=================================END OF PROGRAM=============================="
   ]
   }
,
{
		   "cell_type": "markdown",
		   "metadata": {},
		   "source": [
			"## Example 1.50: CURRENT.sce"
		   ]
		  },
  {
"cell_type": "code",
	   "execution_count": null,
	   "metadata": {
	    "collapsed": true
	   },
	   "outputs": [],
"source": [
"//Chapter-1, Example 1.50, Page 55\n",
"//=============================================================================\n",
"clc;\n",
"clear;\n",
"//INPUT DATA\n",
"RAB=25;//Resistance in ohms\n",
"RBC=10;//Resistance in ohms\n",
"RAD=20;//Resistance in ohms\n",
"RCD=15;//resistance in ohms\n",
"RG=50;//resistance of galvanometer in ohms\n",
"REF=2;//internal resistance in ohms\n",
"V=25;// supply voltage in volts\n",
"//let currents in mesh I,II and III is I1,I2,I3 respectively\n",
"//applying KVL to meshes I,II and III\n",
"//(RAB+RG+RAD)*(I1)-(RG)*(I2)-(RAD)*(I3)=0-------eqn(1)\n",
"//-(RG)*(I1)-(RG+RCD+RBC)*(I2)-(RCD)*(I3)=0---------eqn(2)\n",
"//-(RAD)*(I1)-(RCD)*(I2)+(RAD+RCD+REF)=-V---eqn(3)\n",
"//solving eqn(1),(2)and (3)\n",
"//CALCULATIONS \n",
"[a]=[RAB+RG+RAD,-RG,-RAD;-RG,(RG+RCD+RBC),-RCD;-RAD,-RCD,(RAD+RCD+REF)];\n",
"[b]=[0;0;-V];\n",
"[c]=inv(a)*(b);\n",
"I1=c(1);//current in mesh1 in A\n",
"I2=c(2);//current in mesh2 in A\n",
"I3=c(3);//current in mesh3 in A\n",
"I=(I1-I2);//currentthrough galvanometer in Amps\n",
"//OUTPUT\n",
"mprintf('current across galavanometer is %1.5f amps',I);\n",
" //=================================END OF PROGRAM=============================="
   ]
   }
,
{
		   "cell_type": "markdown",
		   "metadata": {},
		   "source": [
			"## Example 1.51: CURRENT.sce"
		   ]
		  },
  {
"cell_type": "code",
	   "execution_count": null,
	   "metadata": {
	    "collapsed": true
	   },
	   "outputs": [],
"source": [
"//Chapter-1, Example 1.51, Page 56\n",
"//=============================================================================\n",
"clc;\n",
"clear;\n",
"//INPUT DATA\n",
"V1=100;//source1 voltage in volts\n",
"V2=50;//source2 voltage in volts\n",
"R1=10;//Resistance in ohms\n",
"R2=20;//resistance in ohms\n",
"R3=30;//resistance in ohms\n",
"R4=40;//resistance in ohms\n",
"//let currents in mesh I,II is I1,I2 respectively\n",
"//applying KVL to meshes I,II \n",
"//(R1+R3+R4)*(I1)-(R3)*(I2)=V1-------eqn(1)\n",
"//(R3)*(I1)-(R2+R3)*(I2)=-V2---------eqn(2)\n",
"//solving eqn(1),(2)\n",
"//CALCULATIONS \n",
"[a]=[(R1+R3+R4),-R3;R3,-(R2+R3)];\n",
"[b]=[V1;-V2];\n",
"[c]=inv(a)*(b);\n",
"I1=c(1);//current in mesh1 in A\n",
"I2=c(2);//current in mesh2 in A\n",
"I=(I2-I1);//current through R3 in Amps\n",
"//OUTPUT\n",
"mprintf('current across 30 ohm resistor is %1.3f amps',I);\n",
" //=================================END OF PROGRAM=============================="
   ]
   }
,
{
		   "cell_type": "markdown",
		   "metadata": {},
		   "source": [
			"## Example 1.52: POWER.sce"
		   ]
		  },
  {
"cell_type": "code",
	   "execution_count": null,
	   "metadata": {
	    "collapsed": true
	   },
	   "outputs": [],
"source": [
"//Chapter-1, Example 1.52, Page 57\n",
"//=============================================================================\n",
"clc;\n",
"clear;\n",
"//INPUT DATA\n",
"V1=10;//source1 voltage in volts\n",
"V2=5;//source2 voltage in volts\n",
"V3=5;//source3 voltage in volts\n",
"RAH=2;//Resistance in ohms\n",
"RAB=3;//resistance in ohms\n",
"RBE=5;//resistance in ohms\n",
"REG=5;//resistance in ohms\n",
"RED=5;//resistance in ohms\n",
"RBC=7;//resistance in ohms\n",
"RCD=3;//resistance in ohms\n",
"RDF=5;//resistance in ohms\n",
"RHG=5;//resistance in ohms\n",
"//let currents in mesh I,II,III is I1,I2,I3 respectively\n",
"//applying KVL to meshes I,II \n",
"//(RAH+RHG+RAB+RBE+REG)*(I1)-(RBE)*(I2)-(REG)*(I3)=V1-------eqn(1)\n",
"//-(RBE)*(I1)+(RBC+RCD+RBE+RED)*(I2)-(RDF)*(I3)=-V2---------eqn(2)\n",
"//-(REG)*(I1)-(RED)*(I2)+(REG+RED+RDF)*(I3)=-V3--------eqn(3)\n",
"//solving eqn(1),(2) and (3)\n",
"//CALCULATIONS \n",
"[a]=[(RAH+RHG+RAB+RBE+REG),-RBE,-REG;-REG,(RBC+RCD+RBE+RED),-(RDF);-REG,-RED,(REG+RED+RDF)];\n",
"[b]=[V1;-V2;-V3];\n",
"[c]=inv(a)*(b);\n",
"I1=c(1);//current in mesh1 in A\n",
"I2=c(2);//current in mesh2 in A\n",
"I3=c(3);//current in mesh3 in A\n",
"P1=V1*I1;//power output from V1 in W\n",
"P2=V2*I2;//power output from V2 in W\n",
"P3=V3*I3;//power output from V3 in W\n",
"//OUTPUT\n",
"mprintf('power output from 10V is %1.1f W\n from 5V is %1.2fW\n from 5V is %1.2fW ',P1,-P2,-P3);\n",
" //=================================END OF PROGRAM=============================="
   ]
   }
,
{
		   "cell_type": "markdown",
		   "metadata": {},
		   "source": [
			"## Example 1.54: RESISTANCE.sce"
		   ]
		  },
  {
"cell_type": "code",
	   "execution_count": null,
	   "metadata": {
	    "collapsed": true
	   },
	   "outputs": [],
"source": [
"//Chapter-1, Example 1.54, Page 61\n",
"//=============================================================================\n",
"clc;\n",
"clear;\n",
"//INPUT DATA\n",
"RAC=10;//Resistance in ohms\n",
"RCD=10;//resistance in ohms\n",
"RCF=50;//resistance in ohms\n",
"RDH=50;//resistance in ohms\n",
"RDF=30;//resistance in ohms\n",
"RHF=10;//resistance in ohms\n",
"//using star to delta conversion,the star point D is eliminated\n",
"//CALCULATIONS \n",
"RCF1=((RCD*RDF)+(RDF*RDH)+(RDH*RCD))/(RDH);//by using star to delta conversion technique\n",
"RFH=((RCD*RDF)+(RDF*RDH)+(RDH*RCD))/(RCD);//by using star to delta conversion technique\n",
"RHC=((RCD*RDF)+(RDF*RDH)+(RDH*RCD))/(RDF);//by using star to delta conversion technique\n",
"RCF2=(RCF*RCF1)/(RCF+RCF1);\n",
"RCF=RCF2;//equivalent resistance of RCF in ohms\n",
"RHF1=(RHF*RFH)/(RHF+RFH);\n",
"RHF=RHF1;//equivalent resistance of RHF in ohms\n",
"RAB=(RAC)+(RHC*(RCF+RHF))/(RHC+RCF+RHF);//equivalent resistance of AB in ohms\n",
"//OUTPUT\n",
"mprintf('Thus equivalent resistance of AB is %f ohms',RAB);\n",
"//note:given final answer is wrong in textbook.Please check the calculations\n",
" //=================================END OF PROGRAM=============================="
   ]
   }
,
{
		   "cell_type": "markdown",
		   "metadata": {},
		   "source": [
			"## Example 1.55: RESISTANCE.sce"
		   ]
		  },
  {
"cell_type": "code",
	   "execution_count": null,
	   "metadata": {
	    "collapsed": true
	   },
	   "outputs": [],
"source": [
"//Chapter-1, Example 1.55, Page 62\n",
"//=============================================================================\n",
"clc;\n",
"clear;\n",
"//INPUT DATA\n",
"RAB=1;//Resistance in ohms\n",
"RBE=2;//resistance in ohms\n",
"RED=3;//resistance in ohms\n",
"REF=3;//resistance in ohms\n",
"RDF=3;//resistance in ohms\n",
"RAD=2;//resistance in ohms\n",
"RAC=1;//resistance in ohms\n",
"RBC=1;//resistance in ohms\n",
"RFC=2;//resistance in ohms\n",
"//CALCULATIONS \n",
"//Delta DEF is converted into equivalent star where RDN=REN=RFN=1 ohm\n",
"//series branches of inner star network are added\n",
"//Star ABCN is converted to equivalent delta\n",
"RDN=1;\n",
"REN=RDN;\n",
"RFN=REN;\n",
"RAN=RAD+RDN;RBN=RBE+REN;RCN=RFC+RFN\n",
"RAB1=((RAN*RBN)+(RBN*RCN)+(RCN*RAN))/(RCN);//by using star to delta conversion technique\n",
"RBC1=((RAN*RBN)+(RBN*RCN)+(RCN*RAN))/(RAN);//by using star to delta conversion technique\n",
"RCA1=((RAN*RBN)+(RBN*RCN)+(RCN*RAN))/(RBN);//by using star to delta conversion technique\n",
"//parallel resistances in each branch are converted to single resistance\n",
"RAB2=(RAB*RAB1)/(RAB+RAB1);\n",
"RAB=RAB2;//equivalent resistance of RAB in ohms\n",
"RBC2=(RBC*RBC1)/(RBC+RBC1);\n",
"RBC=RBC2;//equivalent resistance of RBC in ohms\n",
"RCA2=(RAC*RCA1)/(RAC+RCA1);\n",
"RCA3=((RCA2)*(RAB+RBC))/(RBC+RAB+RCA2);\n",
"RCA=RCA3;\n",
"//OUTPUT\n",
"mprintf('Thus equivalent resistance of CA is %1.1f ohms',RCA);\n",
"//TO FIND EQUIVALENT RESISTANCE BETWEEN DF\n",
"//===================================================================================\n",
"//node A is eliminated using star to delta conversion\n",
"RBC=(RAB*RAD)+(RAD*RAC)+(RAC*RAB)/(RAD);//by using star to delta conversion technique\n",
"RCD=(RAB*RAD)+(RAD*RAC)+(RAC*RAB)/(RAB);//by using star to delta conversion technique\n",
"//node C is eliminated using star to delta conversion\n",
"RDB=(0.72*5)+(5*2)+(2*0.72)/2;\n",
"RBF1=(0.72*5)+(5*2)+(2*0.72)/5;\n",
"RFD=(0.72*5)+(5*2)+(2*0.72)/0.72;\n",
"//parallel branches between nodes B and D and nodes D and F are reduced as\n",
"RBD=(RDB*5)/(RDB+5);\n",
"RDF=(RFD*3)/(RFD+3);\n",
"//node E is eliminated using star to delta conversion technique\n",
"RBF=((2*3)+(3*3)+(3*2))/3;\n",
"RFD=((2*3)+(3*3)+(3*2))/2;\n",
"RDB=((2*3)+(3*3)+(3*2))/3;\n",
"RDF1=4.2;//(R'=RDB+RDF)\n",
"RDF=((RDF1)*(RDF1/2))/(RDF1+(RDF1/2));\n",
"//OUTPUT\n",
"mprintf('\n Thus equivalent resistance of DF is %1.1f ohms',RDF);\n",
" //=================================END OF PROGRAM=============================="
   ]
   }
,
{
		   "cell_type": "markdown",
		   "metadata": {},
		   "source": [
			"## Example 1.56: CURRENT.sce"
		   ]
		  },
  {
"cell_type": "code",
	   "execution_count": null,
	   "metadata": {
	    "collapsed": true
	   },
	   "outputs": [],
"source": [
"//Chapter-1, Example 1.56, Page 66\n",
"//=============================================================================\n",
"clc;\n",
"clear;\n",
"//INPUT DATA\n",
"RAB=6;//Resistance in ohms\n",
"RBC=3;//resistance in ohms\n",
"RBD=4;//resistance in ohms\n",
"V1=25;//source voltage in volts\n",
"V2=45;//source voltage in volts\n",
"//CALCULATIONS \n",
"//applying kirchoff's current law at node B\n",
"//-I1-I2+I3=0\n",
"//I1=(V1-VB)/RAB\n",
"//I2=(V3-VB)/RBC\n",
"//I3=VB/RBD\n",
"VB=((V1/RAB)+(V2/RBC))/((1/RAB)+(1/RBC)+(1/RBD));\n",
"I1=(V1-VB)/(RAB);//current across AB\n",
"I2=(V2-VB)/(RBC);//current across BC\n",
"I3=(VB)/(RBD);//current across BD\n",
"//OUTPUT\n",
"mprintf('Thus currents I1,I2,I3 are %1.1f A %1.2f A %1.1f A',I1,I2,I3);\n",
" //=================================END OF PROGRAM==============================\n",
"\n",
""
   ]
   }
,
{
		   "cell_type": "markdown",
		   "metadata": {},
		   "source": [
			"## Example 1.57: VOLTAGE.sce"
		   ]
		  },
  {
"cell_type": "code",
	   "execution_count": null,
	   "metadata": {
	    "collapsed": true
	   },
	   "outputs": [],
"source": [
"//Chapter-1, Example 1.57, Page 67\n",
"//=============================================================================\n",
"clc;\n",
"clear;\n",
"//INPUT DATA\n",
"I1=25;//current source in A\n",
"I2=6;//current source in A\n",
"I3=5;//current source in A\n",
"RAB=5;//Resistance in ohms\n",
"RAC=10;//Resistance in ohms\n",
"RBC=2;//Resistance in ohms\n",
"//let currents across AC and BC and AB are Ix,Iy and Iz respectively\n",
"//applying kirchoff's current law at node A\n",
"//-I1+Ix+I3+Iz=0------eqn(1)\n",
"//applying kirchoff's current law at node B\n",
"//-Iz-I3+Iy+I2=0------eqn(2)\n",
"//CALCULATIONS \n",
"[a]=[((1/RAC)+(1/RAB)),(-1/RAB);(-1/RAB),((1/RAB)+(1/RBC))];\n",
"[b]=[20;-1];\n",
"[c]=inv(a)*(b)\n",
"VA=c(1);//voltage at node A\n",
"VB=c(2);//voltage at node B\n",
"//OUTPUT\n",
"mprintf('Thus voltages at node A and B are %2.1f V and %2.1f V',-VA,VB);\n",
" //=================================END OF PROGRAM==============================\n",
"\n",
""
   ]
   }
,
{
		   "cell_type": "markdown",
		   "metadata": {},
		   "source": [
			"## Example 1.58: RESISTANCE.sce"
		   ]
		  },
  {
"cell_type": "code",
	   "execution_count": null,
	   "metadata": {
	    "collapsed": true
	   },
	   "outputs": [],
"source": [
"//Chapter-1, Example 1.58, Page 68\n",
"//=============================================================================\n",
"clc;\n",
"clear;\n",
"//INPUT DATA\n",
"RAB=1;//Resistance in ohms\n",
"RAD=1;//Resistance in ohms\n",
"RDC=2;//Resistance in ohms\n",
"RCB=1;//Resistance in ohms\n",
"RAC=1;//Resistance in ohms\n",
"//delta DAC has been converted to star DAC where RDN=0.5 ohms,RNA=0.25 ohms,RNC=0.5 ohms\n",
"//CALCULATIONS \n",
"RDN=0.5;\n",
"RNA=0.25;\n",
"RNC=0.5\n",
"RBD=((RDN)+(((RNA+RAB)*(RNC+RCB))/(RNA+RAB+RNC+RCB)));//equivalent resistance across BD\n",
"//OUTPUT\n",
"mprintf('Thus equivalent resistance across BD is %1.2f ohms',RBD);\n",
" //=================================END OF PROGRAM==============================\n",
"\n",
""
   ]
   }
,
{
		   "cell_type": "markdown",
		   "metadata": {},
		   "source": [
			"## Example 1.59: RESISTANCE.sce"
		   ]
		  },
  {
"cell_type": "code",
	   "execution_count": null,
	   "metadata": {
	    "collapsed": true
	   },
	   "outputs": [],
"source": [
"//Chapter-1, Example 1.59, Page 69\n",
"//=============================================================================\n",
"clc;\n",
"clear;\n",
"//INPUT DATA\n",
"RAB=9;//Resistance in ohms\n",
"RBC=1;//Resistance in ohms\n",
"RCA=1.5;//Resistance in ohms\n",
"RAD=6;//Resistance in ohms\n",
"RBD=4;//Resistance in ohms\n",
"RCD=3;//Resistance in ohms\n",
"//star ABC has been converted to delta AnBnCn where RABn=18 ohms,RBCn=9 ohms,RCAn=13.5 ohms\n",
"//CALCULATIONS \n",
"RABn=18;\n",
"RBCn=9;\n",
"RCAn=13.5;\n",
"RAB1=((RAB*RABn)/(RAB+RABn));//equivalent resistance across AB\n",
"RBC1=((RBC*RBCn)/(RBC+RBCn));//equivalent resistance across BC\n",
"RAC1=((RCA*RCAn)/(RCA+RCAn));//equivalent resistance across AC\n",
"//there are two parallel paths across points A and B.\n",
"//(a)one directly from A to B having a resistance of 6 ohms and\n",
"//(b)The other via C having a total resistance \n",
"RBA=((RBC1+RAC1)*(RAB1))/(RBC1+RAC1+RAB1);//final equivalent resistance across AB\n",
"RCB=((RAC1+RAB1)*(RBC1))/(RAC1+RAB1+RBC1);//final equivalent resistance across BC\n",
"RCA=((RAB1+RBC1)*(RAC1))/(RAB1+RBC1+RAC1);//final equivalent resistance across AC\n",
"//OUTPUT\n",
"mprintf('Thus final equivalent resistance across AB,BC and CA are %1.2f ohms,%1.2f ohms,%1.2f ohms',RBA,RCB,RCA);\n",
"//note:answer given for RCA is wrong.Please check the calculations\n",
" //=================================END OF PROGRAM==============================\n",
"\n",
""
   ]
   }
,
{
		   "cell_type": "markdown",
		   "metadata": {},
		   "source": [
			"## Example 1.5: TEMPERATURE_COEFFICIENT.sce"
		   ]
		  },
  {
"cell_type": "code",
	   "execution_count": null,
	   "metadata": {
	    "collapsed": true
	   },
	   "outputs": [],
"source": [
"//Chapter-1, Example 1.5, Page 21\n",
"//=============================================================================\n",
"clc;\n",
"clear;\n",
"//INPUT DATA\n",
"t1=40;//temperature in degree centigrade \n",
"t2=100;//temperature in degree centigrade\n",
"R1=3.146;//resistance of platinum coli at t1\n",
"R2=3.767;//resistance of platinum coli at t2\n",
"//CALCULATIONS\n",
"x=R1/R2;\n",
"a0=((R1-R2)/(R2*t1-R1*t2));//temperature coefficient at 0 degree centigrade\n",
"R0=R1/(1+(a0*t1));//resistance at zero degree centigrade\n",
"a40=a0/(1+(a0*t1));//temperature coefficient at 40 degree centigrade\n",
"//OUTPUT\n",
"mprintf('Thus the temperature coefficient at 0 degree centigrade,resistance at zero degree centigrade,temperature coefficient at 40 degree centigrade are %f /degree centigrade ,%f ohms,%f /degree centigrade respectively \n',a0,R0,a40);\n",
"\n",
"\n",
"//=================================END OF PROGRAM=============================="
   ]
   }
,
{
		   "cell_type": "markdown",
		   "metadata": {},
		   "source": [
			"## Example 1.6: RESISTANCE.sce"
		   ]
		  },
  {
"cell_type": "code",
	   "execution_count": null,
	   "metadata": {
	    "collapsed": true
	   },
	   "outputs": [],
"source": [
"//Chapter-1, Example 1.6, Page 21\n",
"//=============================================================================\n",
"clc;\n",
"clear;\n",
"//INPUT DATA\n",
"t1=12;//temperature in degree centigrade\n",
"t2=50;//temperature in degree centigrade\n",
"R1=0.4;//copper coil resistance in ohms\n",
"a0=0.004;//temperature coefficient of copper at zero degree centigrade\n",
"//CALCULATIONS\n",
"a12=1/((1/a0)+t1);//temperature coefficient at 12 degree centigrade\n",
"R2=R1*[1+(a12*(t2-t1))];//resistance of copper wire  in ohm at 52 degree centigrade\n",
"//OUTPUT\n",
"mprintf('Thus the resistance copper wire at 52 degree centigrade is %1.2f  ohm \n',R2);\n",
"\n",
"//=================================END OF PROGRAM=============================="
   ]
   }
,
{
		   "cell_type": "markdown",
		   "metadata": {},
		   "source": [
			"## Example 1.7: TEMPERATURE.sce"
		   ]
		  },
  {
"cell_type": "code",
	   "execution_count": null,
	   "metadata": {
	    "collapsed": true
	   },
	   "outputs": [],
"source": [
"//Chapter-1, Example 1.7, Page 22\n",
"//=============================================================================\n",
"clc;\n",
"clear;\n",
"//INPUT DATA\n",
"t1=20;//temperature in degree centigrade\n",
"R1=45;//shunt motor resistance at t1\n",
"R2=48.5;//new shunt resistance at t2\n",
"a0=0.004;//temperature coefficient of resistance at 0 degree centigrade\n",
"//CALCULATIONS\n",
"x=R1/R2;\n",
"t2=((1+(a0*t1)-x)/(a0*x));\n",
"//OUTPUT\n",
"mprintf('Thus the temperature for new resistance is %d degree centigrade \n',t2);\n",
"\n",
"//=================================END OF PROGRAM=============================="
   ]
   }
,
{
		   "cell_type": "markdown",
		   "metadata": {},
		   "source": [
			"## Example 1.8: TEMPERATURE_RISE.sce"
		   ]
		  },
  {
"cell_type": "code",
	   "execution_count": null,
	   "metadata": {
	    "collapsed": true
	   },
	   "outputs": [],
"source": [
"//Chapter-1, Example 1.8, Page 22\n",
"//=============================================================================\n",
"clc;\n",
"clear;\n",
"//INPUT DATA\n",
"V=180;//supply voltage in volts\n",
"I1=4;//initial current of coil in A\n",
"t1=20;//initial temperature\n",
"I2=3.4;//new decreased current of coil in A at temperature t2\n",
"a0=0.0043;//temperature coefficient in per degree centigrade\n",
"//CALCULATIONS\n",
"R1=V/I1;//initial resistance of coil in ohms\n",
"R2=V/I2;//resistance of coil after some time in ohms\n",
"x=R1/R2;\n",
"t2=(1+(a0*t1)-x)/(a0*x);\n",
"t=t2-t1;//temperature rise\n",
"//OUTPUT\n",
"mprintf('Thus the temperature rise is %2.2f degree centigrade \n',t);\n",
"\n",
"//=================================END OF PROGRAM=============================="
   ]
   }
,
{
		   "cell_type": "markdown",
		   "metadata": {},
		   "source": [
			"## Example 1.9: CURRENT.sce"
		   ]
		  },
  {
"cell_type": "code",
	   "execution_count": null,
	   "metadata": {
	    "collapsed": true
	   },
	   "outputs": [],
"source": [
"//Chapter-1, Example 1.9, Page 23\n",
"//=============================================================================\n",
"clc;\n",
"clear;\n",
"//INPUT DATA\n",
"t2=2750;//temperature in degree centigrade for tungsten lamp\n",
"P=150;//power in watts\n",
"V=230;//voltage in volts\n",
"t1=16;//temperature in degree centigrade\n",
"a0=0.0047;//temperature coefficient of tungsten in per degree centigrade\n",
"//CALCULATIONS\n",
"R2=(V*V)/P;\n",
"a1=1/((1/a0)+t1);//temperature coefficient of resistant at 16 degree centigrade\n",
"R2=(V*V)/P;//Resistance of the filament of the lamp under normal working condition\n",
"R1=R2/[1+(a1*(t2-t1))];//resistance of copper wire  in ohm at 52 degree centigrade\n",
"I2=V/R2;//normal current taken by lamb\n",
"I1=V/R1;//current taken at the moment of switching on\n",
"//OUTPUT\n",
"mprintf('Thus the normal current taken by lamb and current taken at the moment of switching on are %1.4f A and %1.4f A respectively ',I2,I1);\n",
"\n",
"//=================================END OF PROGRAM=============================="
   ]
   }
],
"metadata": {
		  "kernelspec": {
		   "display_name": "Scilab",
		   "language": "scilab",
		   "name": "scilab"
		  },
		  "language_info": {
		   "file_extension": ".sce",
		   "help_links": [
			{
			 "text": "MetaKernel Magics",
			 "url": "https://github.com/calysto/metakernel/blob/master/metakernel/magics/README.md"
			}
		   ],
		   "mimetype": "text/x-octave",
		   "name": "scilab",
		   "version": "0.7.1"
		  }
		 },
		 "nbformat": 4,
		 "nbformat_minor": 0
}
