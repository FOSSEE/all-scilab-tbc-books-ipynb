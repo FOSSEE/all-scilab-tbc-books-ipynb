{
"cells": [
 {
		   "cell_type": "markdown",
	   "metadata": {},
	   "source": [
       "# Chapter 3: ELECTROMAGNETIC INDUCTION"
	   ]
	},
{
		   "cell_type": "markdown",
		   "metadata": {},
		   "source": [
			"## Example 3.10: MUTUAL_INDUCTANCE.sce"
		   ]
		  },
  {
"cell_type": "code",
	   "execution_count": null,
	   "metadata": {
	    "collapsed": true
	   },
	   "outputs": [],
"source": [
"//Chapter-3, Example 3.10, Page 113\n",
"//=============================================================================\n",
"clc\n",
"clear\n",
"//INPUT DATA\n",
"NA=15000;//no of turns in coil A\n",
"IA=6;//current in coil A in Amp(A)\n",
"phiA=0.05*10^-3;//flux in coil A in wb\n",
"NB=12000;//no of turns in coil B\n",
"IB=6;//current in coil B in Amp(A)\n",
"phiB=0.08*10^-3;//flux in coil B in wb\n",
"phiAB=0.55*0.05*10^-3;//mutual flux in wb\n",
"//CALCULATIONS\n",
"LA=phiA*NA/IA;//self inductance of coil A in H\n",
"LB=phiB*NB/IB;//self inductance of coil B in H\n",
"LAB=phiAB*NB/IB;//mutual inductance of coils in H\n",
"K=LAB/sqrt(LA*LB);//coefficient of coupling\n",
"//OUTPUT\n",
"mprintf('Thus the self inductance of coil A  is %1.3f H\n',LA);\n",
"mprintf('Thus the self inductance of coil B is %1.2f H \n',LB);\n",
"mprintf('Thus the mutual inductance of coils is %1.3f H \n',LAB);\n",
"mprintf('Thus the coefficient of coupling is %1.3f \n',K)\n",
"\n",
"//=================================END OF PROGRAM=============================="
   ]
   }
,
{
		   "cell_type": "markdown",
		   "metadata": {},
		   "source": [
			"## Example 3.1: VOLTAGE.sce"
		   ]
		  },
  {
"cell_type": "code",
	   "execution_count": null,
	   "metadata": {
	    "collapsed": true
	   },
	   "outputs": [],
"source": [
"//Chapter-3, Example 3.1, Page 109\n",
"//=============================================================================\n",
"clc;\n",
"clear;\n",
"//INPUT DATA\n",
"P=4;//no of poles\n",
"N1=500;//no of turns per pole\n",
"phi=0.02;//magnetic flux in wb/pole\n",
"t=0.02;//time in sec\n",
"rphi=0.002;//residual flux in wb/pole\n",
"\n",
"//CALCULATIONS\n",
"N=P*N1;//total no of turns\n",
"di=P*phi;//total initial flux in wb\n",
"dR=P*rphi;//total residual flux in wb\n",
"dphi=di-dR;//change in flux in wb\n",
"dt=0.02;//time of opening the circuit in sec\n",
"E=N*(dphi/dt);//induced emf  in volts\n",
"//OUTPUT\n",
"mprintf('Thus the average voltage that is induced across field terminals is %4.0f volts \n',E);\n",
"mprintf('The direction of this emf is the same as that of the original direction of the exciting current');\n",
"\n",
"//=================================END OF PROGRAM=============================="
   ]
   }
,
{
		   "cell_type": "markdown",
		   "metadata": {},
		   "source": [
			"## Example 3.2: AVERAGE_EMF.sce"
		   ]
		  },
  {
"cell_type": "code",
	   "execution_count": null,
	   "metadata": {
	    "collapsed": true
	   },
	   "outputs": [],
"source": [
"//Chapter-3, Example 3.2, Page 109\n",
"//=============================================================================\n",
"clc\n",
"clear\n",
"\n",
"//INPUT DATA\n",
"R=150;//Resistance of the coil in ohms\n",
"phi1=0.1;//magnetic flux in milli webers\n",
"N=500;//no of turns\n",
"Rgal=450;//resistance of galvanometer in ohms\n",
"dt=0.1;//time in sec required to move coil from given field(m) to another field (m2)\n",
"phi2=0.3;//magnetic flux of new field in milli webers\n",
"//CALCULATIONS\n",
"dphi=phi2-phi1;//change of flux in milli webers\n",
"E=N*(dphi/dt)*10^-3;//average induced emf in volts(V)\n",
"I=E/(R+Rgal);//average induced current in coil in amperes(A)\n",
"\n",
"//OUTPUT\n",
"mprintf('Average induced emf and current are %1.0f V and %1.4f A',E,I);\n",
"\n",
"//=================================END OF PROGRAM=============================="
   ]
   }
,
{
		   "cell_type": "markdown",
		   "metadata": {},
		   "source": [
			"## Example 3.3: FORCE.sce"
		   ]
		  },
  {
"cell_type": "code",
	   "execution_count": null,
	   "metadata": {
	    "collapsed": true
	   },
	   "outputs": [],
"source": [
"//Chapter-3, Example 3.3, Page 110\n",
"//=============================================================================\n",
"clc\n",
"clear\n",
"\n",
"//INPUT DATA\n",
"l=0.1;//conductor length (10 cm)=(0.1 m)\n",
"I=60;//current in amperes (A)\n",
"H=1000;//magnetic field strength in ampere/metre (A/m)\n",
"v=1;//conductor speed in metre/second(m/s)\n",
"u0=4*%pi*10^-7;//permeability in free space in henry/m\n",
"//CALCULATIONS\n",
"B=u0*1000;//magnetic flux density in (wb/m^2)\n",
"F=B*I*l;//force in Newtons(N)\n",
"P=F*v;//power in watt \n",
"E=B*l*v;//emf induced in conductor\n",
"//OUTPUT\n",
"mprintf('The force acting on conductor %1.4f N \n',F);\n",
"mprintf('The mechanical power to move this conductor is %1.4f watt \n',P);\n",
"mprintf('The induced emf in conductor is %1.5f V \n',E);\n",
"\n",
"//=================================END OF PROGRAM=============================="
   ]
   }
,
{
		   "cell_type": "markdown",
		   "metadata": {},
		   "source": [
			"## Example 3.4: INDUCTANCE.sce"
		   ]
		  },
  {
"cell_type": "code",
	   "execution_count": null,
	   "metadata": {
	    "collapsed": true
	   },
	   "outputs": [],
"source": [
"//Chapter-3, Example 3.4, Page 110\n",
"//=============================================================================\n",
"clc\n",
"clear\n",
"\n",
"//INPUT DATA\n",
"l=0.3;//mean length of toroidal coil in meters (30cm=0.3m)\n",
"N=480;//no of turns of coil\n",
"a=5*10^-4;//cross sectional area in metres (1 cm^2=10^-4 m^2)\n",
"I=4;//current in amps\n",
"dt=60*10^-3;//time in sec\n",
"u0=4*%pi*10^-7;//permeability in free space in henry/m\n",
"ur=1;//relative permeability for air\n",
"//CALCULATIONS\n",
"L=(u0*ur*a*N*N)/(l);//inductance of coli in henry\n",
"di=I-(-I);//change in current in amps\n",
"E=L*(di/dt);//average induced emf\n",
"//OUTPUT\n",
"mprintf('The inductance of the coil is %1.6f H \n',L)\n",
"mprintf('average induced emf is %1.3f V \n',E)\n",
"\n",
"//=================================END OF PROGRAM=============================="
   ]
   }
,
{
		   "cell_type": "markdown",
		   "metadata": {},
		   "source": [
			"## Example 3.5: MUTUAL_INDUCTANCE.sce"
		   ]
		  },
  {
"cell_type": "code",
	   "execution_count": null,
	   "metadata": {
	    "collapsed": true
	   },
	   "outputs": [],
"source": [
"//Chapter-3, Example 3.5, Page 111\n",
"\n",
"//=============================================================================\n",
"clc\n",
"clear\n",
"//INPUT DATA\n",
"L1=0.25;//self inductance of coil in henry(H)\n",
"N1=500;//no of turns of coil 1\n",
"N2=10500;//no of turns of coil 2\n",
"phi2=0.6*L1;//60 % of flux of first coil(m1) is linked with second coil(m2)\n",
"z=100;//rate of change of current(dii/dt) in A/sec\n",
"\n",
"//CALCULATIONS\n",
"x=L1/N1;//flux/ampere in first coil(phi1/I1)\n",
"y=0.6*(x);//flux linking the second coil(phi2/I1)\n",
"M=N2*(y);//mutual inductance between the two coils in H\n",
"E=M*(z);//induced emf in V\n",
"//OUTPUT\n",
"mprintf('Thus the mutual inductance between two coils is %1.2f H \n',M);\n",
"mprintf('The induced emf in second coil when current changes in first coil is %3.0f V \n',E);\n",
"\n",
"//=================================END OF PROGRAM=============================="
   ]
   }
,
{
		   "cell_type": "markdown",
		   "metadata": {},
		   "source": [
			"## Example 3.6: INDUCTANCE.sce"
		   ]
		  },
  {
"cell_type": "code",
	   "execution_count": null,
	   "metadata": {
	    "collapsed": true
	   },
	   "outputs": [],
"source": [
"//Chapter-3, Example 3.6, Page 111\n",
"//=============================================================================\n",
"clc\n",
"clear\n",
"//INPUT DATA\n",
"N1=250;//no of turns in a coil\n",
"I1=2;//current in coil in A\n",
"phi1=0.3;//flux in coil in wb\n",
"dt=2//time in  millisec\n",
"Em2=63.75//induced voltage in V\n",
"K=0.75\n",
"//CALCULATIONS\n",
"L1=N1*(phi1/I1);//self inductance of first coil in H\n",
"M=Em2*(dt/I1);//mutual inductance of two coils in H\n",
"L2=((Em2/K)^2)/(L1);//self inductance of second coil in H\n",
"phi2=K*phi1;//flux in second coil in wb\n",
"N2=(Em2*dt)/phi2;//no of turns in second coil\n",
"//OUTPUT\n",
"mprintf('Thus the self inductance of first coil is %2.1f mH \n',L1);\n",
"mprintf('mutual inductance of two coils %2.2f mH \n',M);\n",
"mprintf('self inductance of second coil %4.0f mH \n',L2);\n",
"mprintf('no of turns in second coil %3.0f turns \n',N2);\n",
"//note:the answer given  for N2 in textbook is wrong .please check the calculations\n",
"\n",
"//=================================END OF PROGRAM==============================\n",
"\n",
""
   ]
   }
,
{
		   "cell_type": "markdown",
		   "metadata": {},
		   "source": [
			"## Example 3.7: EMF.sce"
		   ]
		  },
  {
"cell_type": "code",
	   "execution_count": null,
	   "metadata": {
	    "collapsed": true
	   },
	   "outputs": [],
"source": [
"//Chapter-3, Example 3.7, Page 112\n",
"//=============================================================================\n",
"clc\n",
"clear\n",
"//INPUT DATA\n",
"l=1;//length of wire in m\n",
"v=50;//velocity in m/sec\n",
"B=1;//magnetic flux density in wb/m^2\n",
"theta1=90;//the angle of conductor in degrees to the field in case 1\n",
"theta2=30;//the angle of conductor in degrees to the field in case 2\n",
"//CALCULATIONS\n",
"E1=B*l*v*sin (theta1*%pi/180);//emf induced in conductor in case 1(1degree =3.14/180 radians)\n",
"E2=B*l*v*sin ((360+theta2)*%pi/180);//emf induced in conductor in case 2(1degree =3.14/180 radians)\n",
"//OUTPUT\n",
"mprintf('Thus the emf induced in case 1 is %2.0f volts \n',E1);\n",
"mprintf('Thus the emf induced in case 2 is %2.0f volts \n',E2);\n",
"//note:convert angle in degrees to radians and compute it.\n",
"//=================================END OF PROGRAM=============================="
   ]
   }
,
{
		   "cell_type": "markdown",
		   "metadata": {},
		   "source": [
			"## Example 3.8: AVERAGE_INDUCTANCE.sce"
		   ]
		  },
  {
"cell_type": "code",
	   "execution_count": null,
	   "metadata": {
	    "collapsed": true
	   },
	   "outputs": [],
"source": [
"//Chapter-3, Example 3.8, Page 112\n",
"//=============================================================================\n",
"clc\n",
"clear\n",
"//INPUT DATA\n",
"N=1000;//no of turns in a coil\n",
"a=10*10^-4;//crossectional area in m^2\n",
"i1=4.2;//current in A in case 1\n",
"i2=9.2;//current in A in case 2\n",
"B1=1;//flux density in wb/m^2 when current is i1\n",
"B2=1.42;//flux density in wb/m^2 when current is\n",
"dt=0.05;//time in sec where current reduces from 9.2A to 4.2A\n",
"//CALCULATIONS\n",
"db=(B2-B1)//difference in flux densities\n",
"di=(i2-i1);//difference in currents\n",
"di1=(i1-i2);//difference in currents\n",
"L=N*a*(db)/di;//average inductance between the limits in H\n",
"E=-(L*di1/dt);//emf induced \n",
"//OUTPUT\n",
"mprintf('Thus the average inductance between the limits is %1.3f H \n',L);\n",
"mprintf('emf induced is %1.1f volts\n',E);\n",
"\n",
"//=================================END OF PROGRAM==============================\n",
"\n",
""
   ]
   }
,
{
		   "cell_type": "markdown",
		   "metadata": {},
		   "source": [
			"## Example 3.9: MUTUAL_INDUCTANCE.sce"
		   ]
		  },
  {
"cell_type": "code",
	   "execution_count": null,
	   "metadata": {
	    "collapsed": true
	   },
	   "outputs": [],
"source": [
"//Chapter-3, Example 3.9, Page 113\n",
"//=============================================================================\n",
"clc\n",
"clear\n",
"//INPUT DATA\n",
"N1=1600;//no of turns of solenoid\n",
"l=0.5;//length of wire of solenoid in m\n",
"N2=600;//no of turns of second coil\n",
"a=18*10^-4;//area of second coil in m^2\n",
"u0=4*%pi*10^-7;//permeability in free space\n",
"z=300;//rate of change of current(di1/dt) in A/sec\n",
"//CALCULATIONS\n",
"B=(u0*N1)/(l);//flux density in solenoid\n",
"M=(B*a*N2);//mutual inductance in mH\n",
"E=M*(z);//voltage induced\n",
"//OUTPUT\n",
"mprintf('Thus the mutual inductance is %f H \n',M);\n",
"mprintf('Thus the voltage induced is %f V \n',E); \n",
"//note:answer given for voltage in text book is wrong.please check the calculations\n",
"//=================================END OF PROGRAM=============================="
   ]
   }
],
"metadata": {
		  "kernelspec": {
		   "display_name": "Scilab",
		   "language": "scilab",
		   "name": "scilab"
		  },
		  "language_info": {
		   "file_extension": ".sce",
		   "help_links": [
			{
			 "text": "MetaKernel Magics",
			 "url": "https://github.com/calysto/metakernel/blob/master/metakernel/magics/README.md"
			}
		   ],
		   "mimetype": "text/x-octave",
		   "name": "scilab",
		   "version": "0.7.1"
		  }
		 },
		 "nbformat": 4,
		 "nbformat_minor": 0
}
