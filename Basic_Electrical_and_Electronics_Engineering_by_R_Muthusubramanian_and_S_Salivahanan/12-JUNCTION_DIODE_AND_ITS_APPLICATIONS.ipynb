{
"cells": [
 {
		   "cell_type": "markdown",
	   "metadata": {},
	   "source": [
       "# Chapter 12: JUNCTION DIODE AND ITS APPLICATIONS"
	   ]
	},
{
		   "cell_type": "markdown",
		   "metadata": {},
		   "source": [
			"## Example 12.10: FILTER_DESIGN.sce"
		   ]
		  },
  {
"cell_type": "code",
	   "execution_count": null,
	   "metadata": {
	    "collapsed": true
	   },
	   "outputs": [],
"source": [
"//Chapter-12, Example 12.10, Page 352\n",
"//=============================================================================\n",
"clc\n",
"clear\n",
"//INPUT DATA\n",
"V=10;//output voltage in V\n",
"Il=200*10^-3;//load current in A\n",
"//CALCULATIONS\n",
"Rl=V/(Il);//effective load resistance in ohms\n",
"ripplefactor=0.02;\n",
"//critical value occurs at f=50 hz\n",
"f=50;//freq in hz\n",
"L=Rl/(3*2*%pi*f);//inductance in H\n",
"//but taking L=60mh(about 20 percentage higher)we have \n",
"L1=60*10^-3;//inductance in henry\n",
"C=1.194/(ripplefactor*L1);\n",
"mprintf('the values of L and C for LC filter are %g H and %g F respectively',L1,C)\n",
"//note:C value calculated is wrong in textbook\n",
"//=================================END OF PROGRAM======================================================================================================"
   ]
   }
,
{
		   "cell_type": "markdown",
		   "metadata": {},
		   "source": [
			"## Example 12.11: CLC.sce"
		   ]
		  },
  {
"cell_type": "code",
	   "execution_count": null,
	   "metadata": {
	    "collapsed": true
	   },
	   "outputs": [],
"source": [
"//Chapter-12, Example 12.11, Page 353\n",
"//=============================================================================\n",
"clc\n",
"clear\n",
"//INPUT DATA\n",
"V=10;//output voltage in V\n",
"Il=200*10^-3;//load current in A\n",
"ripplefactor=0.02;\n",
"//CALCULATIONS\n",
"Rl=V/(Il);//resistance in ohms\n",
"//if we assume L=10H and C1=C2=C\n",
"L=10;//indcutance in henry \n",
"C=sqrt(5700/(L*50*ripplefactor));\n",
"mprintf('the values of L and C for CLC section are %d H and %1.0f uF respectively',L,C)\n",
"//=================================END OF PROGRAM======================================================================================================="
   ]
   }
,
{
		   "cell_type": "markdown",
		   "metadata": {},
		   "source": [
			"## Example 12.16: VOLTAGE.sce"
		   ]
		  },
  {
"cell_type": "code",
	   "execution_count": null,
	   "metadata": {
	    "collapsed": true
	   },
	   "outputs": [],
"source": [
"//Chapter-12, Example 12.16, Page 363\n",
"//=============================================================================\n",
"clc\n",
"clear\n",
"//The frequency of given input signal is 2000 hz.Hence,the period of the signal is 0.5ms.During the negative half of the signal,the diode is forward biased and it acts like a short circuit and the capacitor charges to 20 V.THis can be found out by applying Kirchoff's law in the input side.\n",
"//15+Vc-5=0;\n",
"//and\n",
"//Vc=20 V\n",
"//The voltage across the resistor will be equal to Dc voltage 5V\n",
"//During the positive half of input signal,the diode is reverse biased and it acts like an open circuit.Hence,the 5V battery has no effect on V0.Applying Kirchhoff's voltage law around the outside loop,we get \n",
"//15+20-Vo=0\n",
"//Vo=35V\n",
"mprintf('Vc=20V\n')\n",
"mprintf('the voltage across resistor will be equal to 5V')\n",
"//=================================END OF PROGRAM======================================================================================================="
   ]
   }
,
{
		   "cell_type": "markdown",
		   "metadata": {},
		   "source": [
			"## Example 12.17: VOLTAGE.sce"
		   ]
		  },
  {
"cell_type": "code",
	   "execution_count": null,
	   "metadata": {
	    "collapsed": true
	   },
	   "outputs": [],
"source": [
"//Chapter-12, Example 12.17, Page 364\n",
"//=============================================================================\n",
"clc\n",
"clear\n",
"//During the negative half of the input signal,the diode conducts,and acts like a short circuit.Now,the output voltage,V0=0V.The capacitor is charged to 10V with polarities and it behaves like a battery.\n",
"//During the positive half of the input signal,the diode does not conduct,and acts like an open circuit.Hence,the output voltage,V0=20V.This gives positively clamped voltage.\n",
"mprintf('V0=10+10=20 V')\n",
"//=================================END OF PROGRAM======================================================================================================="
   ]
   }
,
{
		   "cell_type": "markdown",
		   "metadata": {},
		   "source": [
			"## Example 12.18: VOLTAGE.sce"
		   ]
		  },
  {
"cell_type": "code",
	   "execution_count": null,
	   "metadata": {
	    "collapsed": true
	   },
	   "outputs": [],
"source": [
"//Chapter-12, Example 12.18, Page 365\n",
"//=============================================================================\n",
"clc\n",
"clear\n",
"//During the positive half of the input signal,the diode conducts and acts like a short circuit.Now,the output voltage,V0=0V.The capacitor is charged to 12V with polarities and it behaves like a battery.\n",
"//during the negative half of the input signal,the diode does not conduct and acts like an open circuit.Hence the output voltage ,V0=-24V.This gives negatively clamped voltage.\n",
"mprintf('V0=0V\n')\n",
"mprintf('output voltage V0=-24V')\n",
"//=================================END OF PROGRAM======================================================================================================="
   ]
   }
,
{
		   "cell_type": "markdown",
		   "metadata": {},
		   "source": [
			"## Example 12.19: ELECTRON_MOBILITY.sce"
		   ]
		  },
  {
"cell_type": "code",
	   "execution_count": null,
	   "metadata": {
	    "collapsed": true
	   },
	   "outputs": [],
"source": [
"//Chapter-12, Example 12.19, Page 367\n",
"//=============================================================================\n",
"clc\n",
"clear\n",
"//INPUT DATA\n",
"Rh=200;//Hall-coefficient in cubiccentimeter/C\n",
"a=10;//conductivity in s/m\n",
"//CALCULATIONS\n",
"un=a*Rh;//electron mobility in cm^2/V-s\n",
"mprintf('electron mobility is %d cm^2/V-s',un)\n",
"//note:answer given is wrong in textbook\n",
"//=================================END OF PROGRAM======================================================================================================="
   ]
   }
,
{
		   "cell_type": "markdown",
		   "metadata": {},
		   "source": [
			"## Example 12.1: PEAK_RMS_AND_AVERAGE_CURRENT.sce"
		   ]
		  },
  {
"cell_type": "code",
	   "execution_count": null,
	   "metadata": {
	    "collapsed": true
	   },
	   "outputs": [],
"source": [
"//Chapter-12, Example 12.1, Page 341\n",
"//=============================================================================\n",
"clc\n",
"clear\n",
"//INPUT DATA\n",
"Vm=325;//voltage in volts\n",
"Rl=1000;//resistive load in ohms\n",
"rf=100;//forward resistance in ohms\n",
"//CALCULATIONS\n",
"//for subdivision (a)\n",
"Im=Vm/(rf+Rl);//peak value of current in A\n",
"Idc=Im/(%pi);//average current in A\n",
"Irms=Im/2;//rms value of current in A\n",
"mprintf('Thus peak value of current,average current and rms value of current are %g A ,%g A and %g A respectively\n',Im,Idc,Irms);\n",
"//for subdivision (b)\n",
"Pdc=(Idc)^2*(Rl);//DC power output\n",
"mprintf('Thus DC power is %1.3f W\n',Pdc);\n",
"//for subdivision (c)\n",
"Pac=(Irms)^2*(rf+Rl);//AC input power\n",
"mprintf('Thus AC power is %d W\n',Pac);\n",
"//for subdivision (d)\n",
"n=(Pdc/Pac);//efficiency of rectification\n",
"n=n*100;//efficiency in percentage\n",
"mprintf('Thus efficiency in percentage is %2.2f percentage',n);\n",
"//=================================END OF PROGRAM======================================================================================================"
   ]
   }
,
{
		   "cell_type": "markdown",
		   "metadata": {},
		   "source": [
			"## Example 12.20: ELECTRON_CONCENTRATION.sce"
		   ]
		  },
  {
"cell_type": "code",
	   "execution_count": null,
	   "metadata": {
	    "collapsed": true
	   },
	   "outputs": [],
"source": [
"//Chapter-12, Example 12.20, Page 367\n",
"//=============================================================================\n",
"clc\n",
"clear\n",
"//INPUT DATA\n",
"a=10;//conductivity in s/m\n",
"un=50*10^-4;//electron mobility in m^2/V-s\n",
"q=1.6*10^-19;//charge in coulombs\n",
"//CALCULATIONS\n",
"n=(a/(un*q));//electron concentration in m^-3\n",
"mprintf('electron concentration is %g m^-3 ',n)\n",
"//=================================END OF PROGRAM======================================================================================================="
   ]
   }
,
{
		   "cell_type": "markdown",
		   "metadata": {},
		   "source": [
			"## Example 12.21: ELECTRON_DENSITY.sce"
		   ]
		  },
  {
"cell_type": "code",
	   "execution_count": null,
	   "metadata": {
	    "collapsed": true
	   },
	   "outputs": [],
"source": [
"//Chapter-12, Example 12.21, Page 368\n",
"//=============================================================================\n",
"clc\n",
"clear\n",
"//INPUT DATA\n",
"I=20;//current in A\n",
"B=1.2//magnetic flux density in Wb/m^2\n",
"Vh=60;//hall voltage in V\n",
"w=0.5;//thickness of strip in mm\n",
"q=1.6*10^-19;//charge in coulombs\n",
"//CALCULATIONS\n",
"n=(B*I)/(Vh*q*w*10^-3);//electron concentration in m^-3\n",
"mprintf('electron density is %g m^3 ',n)\n",
"//=================================END OF PROGRAM======================================================================================================="
   ]
   }
,
{
		   "cell_type": "markdown",
		   "metadata": {},
		   "source": [
			"## Example 12.2: AC_VOLTAGE.sce"
		   ]
		  },
  {
"cell_type": "code",
	   "execution_count": null,
	   "metadata": {
	    "collapsed": true
	   },
	   "outputs": [],
"source": [
"//Chapter-12, Example 12.2, Page 341\n",
"//=============================================================================\n",
"clc\n",
"clear\n",
"//INPUT DATA\n",
"Vdc=24;//supply voltage in volts\n",
"Rl=500;//resistance in ohms\n",
"rf=50;//forward resistance in ohms\n",
"//CALCULATIONS\n",
"Idc=(Vdc)/(Rl);//average value of load current in A\n",
"Im=(%pi)*(Idc);//maximum value of load current in A\n",
"Vm=(Im)*(rf+Rl);//Maximum voltage required at input in volts\n",
"mprintf('Thus average current,maximum current and maximum voltage required are %g A,%g A and %2.2f V respectively',Idc,Im,Vm);\n",
"//=================================END OF PROGRAM======================================================================================================"
   ]
   }
,
{
		   "cell_type": "markdown",
		   "metadata": {},
		   "source": [
			"## Example 12.3: DC_VOLTAGE.sce"
		   ]
		  },
  {
"cell_type": "code",
	   "execution_count": null,
	   "metadata": {
	    "collapsed": true
	   },
	   "outputs": [],
"source": [
"//Chapter-12, Example 12.3, Page 342\n",
"//=============================================================================\n",
"clc\n",
"clear\n",
"//INPUT DATA\n",
"Vac=230;//AC supply voltage\n",
"turnsratio=5;//turns ratio\n",
"Rl=300;//resistance in ohms\n",
"//CALCULATIONS\n",
"Vs=(Vac)/(turnsratio);//transformer sceondary voltage in V\n",
"Vm=sqrt(2)*(Vs);//maximum value of secondary voltage in V\n",
"Vdc=Vm/(%pi);//DC output voltage in V \n",
"PIV=Vm;//PIV of a diode in V\n",
"Im=(Vm/Rl);//maximum value of load current in A\n",
"Pm=(Im)^2*(Rl);//Maximum value of power delivered\n",
"Idc=Vdc/(Rl);//average value of load current in A\n",
"Pdc=(Idc)^2*(Rl);//average value of power delivered to load\n",
"mprintf('Thus DC output voltage,PIV,Maximum value of power delivered,average value of power delivered to load are %2.1f V,%d V,%2.1f W,%1.2f W respectively',Vdc,PIV,Pm,Pdc);\n",
"//=================================END OF PROGRAM======================================================================================================"
   ]
   }
,
{
		   "cell_type": "markdown",
		   "metadata": {},
		   "source": [
			"## Example 12.4: DC_VOLTAGE.sce"
		   ]
		  },
  {
"cell_type": "code",
	   "execution_count": null,
	   "metadata": {
	    "collapsed": true
	   },
	   "outputs": [],
"source": [
"//Chapter-12, Example 12.4, Page 344\n",
"//=============================================================================\n",
"clc\n",
"clear\n",
"//INPUT DATA\n",
"Vac=230;//AC supply voltage\n",
"f=60;//frequency in Hz\n",
"Rl=900;//load resistance in ohms\n",
"noofturns=5;//no of turns\n",
"Rl=900;//resistance of load in ohms\n",
"rs=100;//secondary coil resistance in ohms\n",
"//CALCULATIONS\n",
"Vs=(Vac)/(noofturns);//voltage across two ends of secondary in V\n",
"Vrms=(Vs)/2;//voltage from center tapping to one end\n",
"Vm=Vrms*sqrt(2);//mean voltage in V\n",
"Vdc=(2*Vm)/(%pi);//voltage across load in V\n",
"Idc=(Vdc)/(rs+Rl);//DC current flowing through to load in A\n",
"Pdc=(Idc)^2*(Rl);//DC power delivered to the load in W\n",
"PIV=2*Vm;//PIV across each diode in V\n",
"Vr=sqrt((Vrms)^2-(Vdc)^2);//Ripple voltage in V\n",
"fr=2*f;//frequency of ripple voltage in Hz\n",
"mprintf('Thus voltage across load,DC current flowing through to load,DC power delivered to the load,PIV across each diode,Ripple voltage are %2.1f V,%g A,%1.3f W,%d V,%2.2f V and %d Hz respectively',Vdc,Idc,Pdc,PIV,Vr,fr);\n",
"//=================================END OF PROGRAM======================================================================================================"
   ]
   }
,
{
		   "cell_type": "markdown",
		   "metadata": {},
		   "source": [
			"## Example 12.5: RESISTANCE.sce"
		   ]
		  },
  {
"cell_type": "code",
	   "execution_count": null,
	   "metadata": {
	    "collapsed": true
	   },
	   "outputs": [],
"source": [
"//Chapter-12, Example 12.5, Page 344\n",
"//=============================================================================\n",
"clc\n",
"clear\n",
"//INPUT DATA\n",
"Imax=400*10^-3;//maximum value of current in mA\n",
"Iav=150*10^-3;//average value of current in mA\n",
"Vs=100;//maximum value of secondary voltage in V\n",
"//CALCULATIONS\n",
"//we know that maximum value of current does not exceed 80 percentage\n",
"Imax1=0.8*Imax;//maximum value of current in mA\n",
"Vm=sqrt(2)*(Vs);//maximum value of secondary voltage in V\n",
"Rl=(Vm)/(Imax1);//value of load resistor in ohms\n",
"Vdc=(2*Vm)/(%pi);//DC(load) voltage\n",
"Idc=Vdc/(Rl);//DC load current in A\n",
"PIV=2*Vm;//PIV of each diode\n",
"mprintf('Thus value of load resistor,voltage,current and PIV of each diode are %1.0f ohms,%d V,%1.3f A and %3.1f V respectively',Rl,Vdc,Idc,PIV);\n",
"//=================================END OF PROGRAM======================================================================================================"
   ]
   }
,
{
		   "cell_type": "markdown",
		   "metadata": {},
		   "source": [
			"## Example 12.6: RIPPLE_VOLTAGE.sce"
		   ]
		  },
  {
"cell_type": "code",
	   "execution_count": null,
	   "metadata": {
	    "collapsed": true
	   },
	   "outputs": [],
"source": [
"//Chapter-12, Example 12.6, Page 345\n",
"//=============================================================================\n",
"clc\n",
"clear\n",
"//INPUT DATA\n",
"Pdc=50;//power in W\n",
"Rl=200;//resistance in ohms\n",
"ripplefactor=0.01\n",
"//CALCULATIONS\n",
"Vdc=sqrt(Pdc*Rl);//DC voltage\n",
"Vac=ripplefactor*Vdc;//AC voltage\n",
"mprintf('Thus AC ripple voltage across the load is %d V',Vac);\n",
"//=================================END OF PROGRAM======================================================================================================"
   ]
   }
,
{
		   "cell_type": "markdown",
		   "metadata": {},
		   "source": [
			"## Example 12.7: DC_VOLTAGE.sce"
		   ]
		  },
  {
"cell_type": "code",
	   "execution_count": null,
	   "metadata": {
	    "collapsed": true
	   },
	   "outputs": [],
"source": [
"//Chapter-12, Example 12.7, Page 346\n",
"//=============================================================================\n",
"clc\n",
"clear\n",
"//INPUT DATA\n",
"V=230;//AC supply voltage\n",
"f=50;//frequency in Hz\n",
"noofturns=4;//noofturns ratio\n",
"Rl=600;//load resistance in ohms\n",
"//CALCULATIONS\n",
"Vrms=(V/4);//rms value of secondary voltage in V\n",
"Vm=sqrt(2)*(Vrms);//max value of secondary voltage\n",
"Vdc=(2*Vm)/(%pi);//DC output voltage\n",
"Pdc=(Vdc)^2/(Rl);//DC power in W\n",
"PIV=Vm;//PIV across each diode in V\n",
"f0=2*f;//output frequency in Hz\n",
"mprintf('Thus DC output voltage,DC power,PIV and output frequency are %1.0f V,%1.3f W,%2.1f V and %d hz respectively',Vdc,Pdc,PIV,f0);\n",
"//note:in given problem,Rl is 600 ohms,but in textbook calculations Rl taken is 1000 ohms,I took Rl as 600 ohms\n",
"//=================================END OF PROGRAM======================================================================================================"
   ]
   }
,
{
		   "cell_type": "markdown",
		   "metadata": {},
		   "source": [
			"## Example 12.8: INDUCTANCE.sce"
		   ]
		  },
  {
"cell_type": "code",
	   "execution_count": null,
	   "metadata": {
	    "collapsed": true
	   },
	   "outputs": [],
"source": [
"//Chapter-12, Example 12.8, Page 349\n",
"//=============================================================================\n",
"clc\n",
"clear\n",
"//INPUT DATA\n",
"Rl=100;//resistance of load in ohms\n",
"f=60;//frequency in hz\n",
"ripplefactor=0.04;\n",
"//CALCULATIONS\n",
"L=Rl/(3*sqrt(2)*(2*%pi*f*ripplefactor));//inductance\n",
"mprintf('inductance is %1.4f H',L);\n",
"//=================================END OF PROGRAM======================================================================================================"
   ]
   }
,
{
		   "cell_type": "markdown",
		   "metadata": {},
		   "source": [
			"## Example 12.9: CAPACITANCE.sce"
		   ]
		  },
  {
"cell_type": "code",
	   "execution_count": null,
	   "metadata": {
	    "collapsed": true
	   },
	   "outputs": [],
"source": [
"//Chapter-12, Example 12.9, Page 351\n",
"//=============================================================================\n",
"clc\n",
"clear\n",
"//INPUT DATA\n",
"Rl=500;//resistance of load in ohms\n",
"f=400;//frequency in hz\n",
"ripplefactor=0.1;\n",
"//CALCULATIONS\n",
"C=inv(4*sqrt(3)*f*Rl*ripplefactor);//capacitance in uF\n",
"mprintf('thus capacitance is %g F',C);\n",
"//note:ripple factor is 0.1 not 0.01 as mentioned by problem in text book\n",
"//=================================END OF PROGRAM======================================================================================================"
   ]
   }
],
"metadata": {
		  "kernelspec": {
		   "display_name": "Scilab",
		   "language": "scilab",
		   "name": "scilab"
		  },
		  "language_info": {
		   "file_extension": ".sce",
		   "help_links": [
			{
			 "text": "MetaKernel Magics",
			 "url": "https://github.com/calysto/metakernel/blob/master/metakernel/magics/README.md"
			}
		   ],
		   "mimetype": "text/x-octave",
		   "name": "scilab",
		   "version": "0.7.1"
		  }
		 },
		 "nbformat": 4,
		 "nbformat_minor": 0
}
