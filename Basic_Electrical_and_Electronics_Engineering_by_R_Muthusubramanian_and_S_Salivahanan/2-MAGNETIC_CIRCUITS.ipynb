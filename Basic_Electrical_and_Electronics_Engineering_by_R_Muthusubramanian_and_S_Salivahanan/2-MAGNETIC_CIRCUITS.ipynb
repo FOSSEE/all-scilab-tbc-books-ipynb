{
"cells": [
 {
		   "cell_type": "markdown",
	   "metadata": {},
	   "source": [
       "# Chapter 2: MAGNETIC CIRCUITS"
	   ]
	},
{
		   "cell_type": "markdown",
		   "metadata": {},
		   "source": [
			"## Example 2.10: FLUX_DENSITY.sce"
		   ]
		  },
  {
"cell_type": "code",
	   "execution_count": null,
	   "metadata": {
	    "collapsed": true
	   },
	   "outputs": [],
"source": [
"//Chapter-2, Example 2.10, Page 96\n",
"//=============================================================================\n",
"clc;\n",
"clear;\n",
"//INPUT DATA\n",
"li=0.5;//length of iron ring mean length in m\n",
"N=220;//no of turns\n",
"I=1.2;//current in A\n",
"lg=1.2*10^-3;//length of airgap in m\n",
"ur=350;//relative permeability of iron\n",
"u0=4*%pi*10^-7;//permeability in free space\n",
"//CALCULATIONS \n",
"MMF_produced=N*I;\n",
"Si=li/(u0*ur);//reluctance of iron path\n",
"Sg=lg/(u0);//reluctance of air gap\n",
"S=Si+Sg;//total reluctance \n",
"Flux_density=(MMF_produced)/(S);\n",
"//OUTPUT\n",
"mprintf('Thus fluxdensity is %1.3f Wb/m^2',Flux_density);\n",
" //=================================END OF PROGRAM=============================="
   ]
   }
,
{
		   "cell_type": "markdown",
		   "metadata": {},
		   "source": [
			"## Example 2.1: MMF.sce"
		   ]
		  },
  {
"cell_type": "code",
	   "execution_count": null,
	   "metadata": {
	    "collapsed": true
	   },
	   "outputs": [],
"source": [
"//Chapter-2, Example 2.1, Page 89\n",
"//=============================================================================\n",
"clc;\n",
"clear;\n",
"//INPUT DATA\n",
"N=2000;//no of turns\n",
"I=10;//current in A\n",
"Rm=25;//mean radius in cm\n",
"d=6;//diameter of each turn in cm\n",
"//CALCULATIONS \n",
"MMF=N*I;//magneto motive force in A\n",
"l=2*%pi*(Rm/100);//circumference of coli in m\n",
"u=(4*%pi*10^-7);//permeability (U=Ur*U0)\n",
"a=(%pi*d*d*10^-4)/4;\n",
"reluctance=(l/(a*u));//reluctance in At/Wb\n",
"flux=(MMF)/(reluctance);//flux in Wb\n",
"fluxdensity=(flux/a);//flux density in Wb/m^2 or tesla\n",
"//OUTPUT\n",
"mprintf('Thus MMF,flux,flux density  are %d A, %g Wb ,%g Wb/m^2 or Tesla respectively ',MMF,flux,fluxdensity);\n",
" //=================================END OF PROGRAM==============================\n",
"\n",
""
   ]
   }
,
{
		   "cell_type": "markdown",
		   "metadata": {},
		   "source": [
			"## Example 2.2: FLUX_DENSITY.sce"
		   ]
		  },
  {
"cell_type": "code",
	   "execution_count": null,
	   "metadata": {
	    "collapsed": true
	   },
	   "outputs": [],
"source": [
"//Chapter-2, Example 2.2, Page 90\n",
"//=============================================================================\n",
"clc;\n",
"clear;\n",
"//INPUT DATA\n",
"phi=5*10^-2;//flux in wb\n",
"a=0.2;//area of cross-section in m^2\n",
"lg=1.2*10^-2;//length of air gap in m\n",
"ur=1;//permeability\n",
"u=ur*4*%pi*10^-7;//permeability\n",
"//CALCULATIONS \n",
"B=(phi/a);//flux density in wb/sq.m\n",
"H=(B/(4*%pi*10^-7*ur));//magnetic flux density in A/m\n",
"S=lg/(a*u);//reluctance of air gap in A/wb\n",
"permeance=1/S;//permenace in A/wb\n",
"mmf_in_airgap=phi*S;//mmf in A\n",
"//OUTPUT\n",
"mprintf('Thus B,H,S,permeance,MMF in air gap  are %1.2f Wb/sq.m, %g A/m ,%f A/wb ,%g Wb/A ,%d A  respectively ',B,H,S,permeance,mmf_in_airgap);\n",
" //=================================END OF PROGRAM==============================\n",
"\n",
""
   ]
   }
,
{
		   "cell_type": "markdown",
		   "metadata": {},
		   "source": [
			"## Example 2.3: PERMEABILITY.sce"
		   ]
		  },
  {
"cell_type": "code",
	   "execution_count": null,
	   "metadata": {
	    "collapsed": true
	   },
	   "outputs": [],
"source": [
"//Chapter-2, Example 2.3, Page 90\n",
"//=============================================================================\n",
"clc;\n",
"clear;\n",
"//INPUT DATA\n",
"phi=0.1*10^-3;//flux in wb\n",
"a=1.7*10^-4;//area of cross-section in m^2\n",
"lg=0.5*10^-3;//length of air gap in m\n",
"Rm=15/2;//radius of ring in cm\n",
"u0=4*%pi*10^-7;//permeability in free space in henry/m\n",
"N=1500;//no of turns of ring\n",
"//CALCULATIONS \n",
"B=(phi/a);//flux density in wb/sq.m\n",
"H=(B/(4*%pi*10^-7));//magnetic flux density in A/m\n",
"ampere_turns_provided_fo=H*lg;\n",
"total_ampere_turns_provi=N*1;\n",
"Available_for_iron_path=N-(H*lg);\n",
"length_of_iron_path=(2*Rm*%pi*10^-2)-(lg);//length of iron path in m\n",
"H_for_iron_path=((N-(H*lg)))/(length_of_iron_path);\n",
"ur=(B/(u0*H_for_iron_path));//relative permeability of iron\n",
"//OUTPUT\n",
"mprintf('Thus relative permeability of iron is %d',ur);\n",
" //=================================END OF PROGRAM=============================="
   ]
   }
,
{
		   "cell_type": "markdown",
		   "metadata": {},
		   "source": [
			"## Example 2.4: CURRENT.sce"
		   ]
		  },
  {
"cell_type": "code",
	   "execution_count": null,
	   "metadata": {
	    "collapsed": true
	   },
	   "outputs": [],
"source": [
"//Chapter-2, Example 2.4, Page 91\n",
"//=============================================================================\n",
"clc;\n",
"clear;\n",
"//INPUT DATA\n",
"li=0.5;//iron path length in m\n",
"lg=10^-3;//length of air gap in m\n",
"phi=0.9*10^-3;//flux in wb\n",
"a=6.66*10^-4;//area of cross-section of iron in m^2\n",
"N=400;//no of turns \n",
"//CALCULATIONS \n",
"B=(phi/a);//flux density in wb/sq.m\n",
"Hg=(B/(4*%pi*10^-7));//magnetic flux density in A/m\n",
"AT_required=Hg*lg;//AT required for air path\n",
"Hi=1000;//magnetic flux density in A/m\n",
"AT_required_for_iron_pat=Hi*li;\n",
"total_AT_required=(Hg*lg)+(Hi*li);\n",
"I=((Hg*lg)+(Hi*li))/(N);\n",
"//OUTPUT\n",
"mprintf('Thus exciting current required is %1.2f A',I);\n",
" //=================================END OF PROGRAM=============================="
   ]
   }
,
{
		   "cell_type": "markdown",
		   "metadata": {},
		   "source": [
			"## Example 2.5: CURRENT.sce"
		   ]
		  },
  {
"cell_type": "code",
	   "execution_count": null,
	   "metadata": {
	    "collapsed": true
	   },
	   "outputs": [],
"source": [
"//Chapter-2, Example 2.5, Page 92\n",
"//=============================================================================\n",
"clc;\n",
"clear;\n",
"//INPUT DATA\n",
"r=0.01;//radius in m\n",
"lg=10^-3;//length of air gap in m\n",
"Rm=(30/2)*10^-2;//mean radius in m\n",
"ur=800;//relative permeability of iron\n",
"ur2=1;//relative permeability of air gap\n",
"N=250;//no of turns\n",
"phi=20000*10^-8;//flux in Wb\n",
"u0=4*%pi*10^-7;//permeability in free space \n",
"a=%pi*(r)^2;//area of cross-section in m\n",
"leakage_factor=1.1\n",
"//CALCULATIONS \n",
"Reluctance_of_air_gap=(lg/(u0*ur2*a));//reluctance of air gap in A/wb\n",
"li=(%pi*(2*r)-(lg));//length of iron path in m\n",
"Reluctance_of_iron_path=((%pi*0.3)-(lg))/(4*%pi*10^-7*800*a);//in A/wb\n",
"total_reluctance=Reluctance_of_air_gap+Reluctance_of_iron_path;//in A/wb\n",
"MMF=phi*total_reluctance;//in Ampere turns\n",
"current_required=(MMF)/(N);//in A\n",
"//OUTPUT\n",
"mprintf('Thus current required is %1.2f A \n',current_required);\n",
" //Including leakage\n",
" //CALCULATIONS\n",
" MMF_of_airgap=phi*Reluctance_of_air_gap;//in A/wb\n",
" Total_flux_in_ironpath=leakage_factor*phi;//in Wb\n",
" MMF_of_ironpath=Total_flux_in_ironpath*Reluctance_of_iron_path;//in A\n",
" Total_MMF=MMF_of_ironpath+MMF_of_airgap;//in A/wb\n",
" current_required2=Total_MMF/(N);//in A\n",
"//OUTPUT\n",
"mprintf('Thus current required is %1.3f A',current_required2);"
   ]
   }
,
{
		   "cell_type": "markdown",
		   "metadata": {},
		   "source": [
			"## Example 2.6: CURRENT.sce"
		   ]
		  },
  {
"cell_type": "code",
	   "execution_count": null,
	   "metadata": {
	    "collapsed": true
	   },
	   "outputs": [],
"source": [
"//Chapter-2, Example 2.6, Page 93\n",
"//=============================================================================\n",
"clc;\n",
"clear;\n",
"//INPUT DATA\n",
"l1=0.1;//length in m\n",
"l2=0.18;//length in m\n",
"l3=0.18;//length in m\n",
"lg=1*10^-3;//airgap length in mm\n",
"a1=6.25*10^-4;//area in m^2\n",
"a2=3*10^-4;//area in m^2\n",
"ur=800;//relative permeability of iron path\n",
"ur2=1;//relative permeability in free space\n",
"u0=4*%pi*10^-7\n",
"N=600;\n",
"phi=10^-4;//airgap flux in Wb\n",
"//CALCULATIONS \n",
"//for the airgap\n",
"Bg=(phi/(a1));//fluxdensity in Tesla\n",
"Hg=(Bg/(u0*ur2));//magnetising force in A/m\n",
"MMF1=Hg*lg;//in A\n",
"//for path I1\n",
"B1=0.16;// flux density in tesla\n",
"H1=(B1/(ur*u0));//magnetising force in A/m\n",
"MMF2=H1*l1;//in A\n",
"//since paths l2 and l3 are similar,the total flux divide equally between these two paths.Since these paths are in parallel,consider only one of them\n",
"//for path l2\n",
"flux=50*10^-6;//flux in wb\n",
"B2=(flux/a2);//fluxdensity in tesla\n",
"H2=(B2/(ur*u0));//magnetising force in A/m\n",
"MMF3=H2*l2;//in A\n",
"totalmmf=MMF1+MMF2+MMF3;//in A\n",
"I=(totalmmf/N);//current required in A\n",
"//OUTPUT\n",
"mprintf('Thus current required is %1.3f A',I);\n",
" //=================================END OF PROGRAM=============================="
   ]
   }
,
{
		   "cell_type": "markdown",
		   "metadata": {},
		   "source": [
			"## Example 2.7: CURRENT.sce"
		   ]
		  },
  {
"cell_type": "code",
	   "execution_count": null,
	   "metadata": {
	    "collapsed": true
	   },
	   "outputs": [],
"source": [
"//Chapter-2, Example 2.7, Page 95\n",
"//=============================================================================\n",
"clc;\n",
"clear;\n",
"//INPUT DATA\n",
"Dm=0.1//diameter in m\n",
"a=10^-3;//area of cross-section im m^2\n",
"N=150;//no of turns\n",
"ur=800;//permeability of iron ring\n",
"B=0.1;//in Wb/m^2\n",
"u0=4*%pi*10^-7;//permeability of free space\n",
"//CALCULATIONS \n",
"S=(%pi*Dm)/(a*ur*u0);//reluctance\n",
"I=(B*a*S)/(N);//current in A\n",
"//OUTPUT\n",
"mprintf('Thus current is %f A',I);\n",
" //=================================END OF PROGRAM=============================="
   ]
   }
,
{
		   "cell_type": "markdown",
		   "metadata": {},
		   "source": [
			"## Example 2.8: RELUCTANCE.sce"
		   ]
		  },
  {
"cell_type": "code",
	   "execution_count": null,
	   "metadata": {
	    "collapsed": true
	   },
	   "outputs": [],
"source": [
"//Chapter-2, Example 2.8, Page 95\n",
"//=============================================================================\n",
"clc;\n",
"clear;\n",
"//INPUT DATA\n",
"l=0.3;//length in m\n",
"d=1.5*10^-2;//diameter in m\n",
"N=900;//no of turns\n",
"ur=1;//relative permeability in free space\n",
"u0=4*%pi*10^-7;//permeability in free space\n",
"I=5;//current in A\n",
"//CALCULATIONS \n",
"a=(%pi*(d)^2/4);//in m^2\n",
"S=(l)/(a*ur*u0);//reluctance\n",
"//OUTPUT\n",
"mprintf('Thus reluctance is %f A/wb',S);\n",
" //=================================END OF PROGRAM=============================="
   ]
   }
,
{
		   "cell_type": "markdown",
		   "metadata": {},
		   "source": [
			"## Example 2.9: MMF.sce"
		   ]
		  },
  {
"cell_type": "code",
	   "execution_count": null,
	   "metadata": {
	    "collapsed": true
	   },
	   "outputs": [],
"source": [
"//Chapter-2, Example 2.9, Page 95\n",
"//=============================================================================\n",
"clc;\n",
"clear;\n",
"//INPUT DATA\n",
"lg=10^-3;//length of air gap in m\n",
"B=0.9;//flux density in wb/m^2\n",
"li=0.3;//length of ironpath in m\n",
"Hi=800;//magnetic flux density in AT/m\n",
"u0=4*%pi*10^-7;//permeabilty in free space\n",
"//CALCULATIONS \n",
"//for iron path\n",
"MMF_required1=Hi*li;//magnetic motive force in AT\n",
"//for air gap\n",
"MMF_required2=(B/u0)*lg;//magnetic motive force in AT\n",
"Totalmmf=MMF_required1+MMF_required2\n",
"//OUTPUT\n",
"mprintf('Thus total MMF required is %d AT',Totalmmf);\n",
" //=================================END OF PROGRAM=============================="
   ]
   }
],
"metadata": {
		  "kernelspec": {
		   "display_name": "Scilab",
		   "language": "scilab",
		   "name": "scilab"
		  },
		  "language_info": {
		   "file_extension": ".sce",
		   "help_links": [
			{
			 "text": "MetaKernel Magics",
			 "url": "https://github.com/calysto/metakernel/blob/master/metakernel/magics/README.md"
			}
		   ],
		   "mimetype": "text/x-octave",
		   "name": "scilab",
		   "version": "0.7.1"
		  }
		 },
		 "nbformat": 4,
		 "nbformat_minor": 0
}
