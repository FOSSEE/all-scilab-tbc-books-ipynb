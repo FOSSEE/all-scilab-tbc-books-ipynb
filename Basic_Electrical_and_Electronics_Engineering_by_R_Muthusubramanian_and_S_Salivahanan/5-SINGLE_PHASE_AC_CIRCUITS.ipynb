{
"cells": [
 {
		   "cell_type": "markdown",
	   "metadata": {},
	   "source": [
       "# Chapter 5: SINGLE PHASE AC CIRCUITS"
	   ]
	},
{
		   "cell_type": "markdown",
		   "metadata": {},
		   "source": [
			"## Example 5.10: IMPEDANCE.sce"
		   ]
		  },
  {
"cell_type": "code",
	   "execution_count": null,
	   "metadata": {
	    "collapsed": true
	   },
	   "outputs": [],
"source": [
"//Chapter-5, Example 5.10, Page 169\n",
"//=============================================================================\n",
"clc\n",
"clear\n",
"//INPUT DATA\n",
"//given v=141.4*sin(314*t)\n",
"P=700;//power in Watts\n",
"pf=0.707;//powerfactor------>leading------>cos(phi)\n",
"Vm=141.4;//maximum value of supply voltage\n",
"//CALCULATIONS\n",
"Vr=Vm/(sqrt(2));//rms value of supply voltage\n",
"I=P/(Vr*pf);//current in A\n",
"Z=Vr/I;//impedance in ohms\n",
"R=(Z)*(pf);//resistance in ohms\n",
"phi=acos(pf*180/%pi);//angle in degrees\n",
"Xc=(Z)*(sin(phi));//reactance in ohms\n",
"C=1/(3.14*7.13);//Capacitance in F\n",
"mprintf('Thus resistance and capacitance are %1.2f ohms and %g F respectively',R,C);\n",
"//=================================END OF PROGRAM======================================================================================================\n",
"\n",
";"
   ]
   }
,
{
		   "cell_type": "markdown",
		   "metadata": {},
		   "source": [
			"## Example 5.11: RESISTANCE.sce"
		   ]
		  },
  {
"cell_type": "code",
	   "execution_count": null,
	   "metadata": {
	    "collapsed": true
	   },
	   "outputs": [],
"source": [
"//Chapter-5, Example 5.11, Page 169\n",
"//=============================================================================\n",
"clc\n",
"clear\n",
"//INPUT DATA\n",
"V=200;//supply voltage in volts\n",
"f=50;//freq in hz\n",
"P=7000;//power in Watts\n",
"Vr=130;//volatge across resistor in volts\n",
"P=7000;//power in Watts\n",
"//CALCULATIONS\n",
"R=((Vr)^2)/P;//resistance in ohms\n",
"I=Vr/R;//current in A\n",
"Z=V/I;//total impedance in ohms\n",
"Xc=sqrt((Z)^2-(R)^2);\n",
"C=1/(2*%pi*f*Xc);//Capacitance in F\n",
"pf=R/Z;//power factor------>leading\n",
"phi=acos(pf);//angle in radians\n",
"phi=phi*180/%pi;//angle in degrees\n",
"Vm=V*sqrt(2);//maximum value of voltage\n",
"//voltage equation v=Vm*sin(2*%pi*f*t)------>282.84*sin(314.16*t)\n",
"//current leads voltage by phi\n",
"//current equation ------>i=76.155*sin(314.16*t+phi)\n",
"mprintf('Thus current,resistance,p.f,capacitance,impedance are %2.2f A ,%1.2f ohms,%2.1f ,%g F and %1.2f ohms respectively',I,R,pf,C,Z);\n",
"//=================================END OF PROGRAM======================================================================================================\n",
"\n",
";"
   ]
   }
,
{
		   "cell_type": "markdown",
		   "metadata": {},
		   "source": [
			"## Example 5.12: IMPEDANCE.sce"
		   ]
		  },
  {
"cell_type": "code",
	   "execution_count": null,
	   "metadata": {
	    "collapsed": true
	   },
	   "outputs": [],
"source": [
"//Chapter-5, Example 5.12, Page 170\n",
"//=============================================================================\n",
"clc\n",
"clear\n",
"//INPUT DATA\n",
"C=50;//capacitance in uf\n",
"R=100;//resistance in ohms\n",
"V=200;//supply voltage in volts\n",
"f=50;//freq in hz\n",
"//CALCULATIONS\n",
"Xc=1/(2*%pi*f*C*10^-6);//capacitive reactance in ohms\n",
"Z=R-((%i)*Xc);//impedance in ohms\n",
"disp(Z);\n",
"z1=sqrt((R)^2+(Xc)^2);\n",
"theta=atan(Xc/R);\n",
"pf=cos(theta);//powerfactor\n",
"I=V/z1;//current in A\n",
"P=V*I*pf;//power in Watts\n",
"mprintf('Thus current,power factor,power are % 1.2f A ,%1.3f ,%d W respectively',I,pf,P);\n",
"//=================================END OF PROGRAM======================================================================================================\n",
"\n",
";"
   ]
   }
,
{
		   "cell_type": "markdown",
		   "metadata": {},
		   "source": [
			"## Example 5.13: INDUCTANCE.sce"
		   ]
		  },
  {
"cell_type": "code",
	   "execution_count": null,
	   "metadata": {
	    "collapsed": true
	   },
	   "outputs": [],
"source": [
"//Chapter-5, Example 5.13, Page 170\n",
"//=============================================================================\n",
"clc\n",
"clear\n",
"//INPUT DATA\n",
"C=0.05;//capacitance in uf\n",
"F=500;//freq in hz\n",
"//CALCULATIONS\n",
"Xl=1/(2*%pi*F*C*10^-6);//capacitive reactance in ohms\n",
"//at resonance Xl=Xc \n",
"L=(Xl/(2*%pi*F));//inductance in H\n",
"mprintf('Thus value of L is %1.2f H',L);\n",
"//=================================END OF PROGRAM======================================================================================================\n",
"\n",
";"
   ]
   }
,
{
		   "cell_type": "markdown",
		   "metadata": {},
		   "source": [
			"## Example 5.14: CURRENT.sce"
		   ]
		  },
  {
"cell_type": "code",
	   "execution_count": null,
	   "metadata": {
	    "collapsed": true
	   },
	   "outputs": [],
"source": [
"//Chapter-5, Example 5.14, Page 171\n",
"//=============================================================================\n",
"clc\n",
"clear\n",
"//INPUT DATA\n",
"V=200;//voltage in V\n",
"R=50;//resistance in ohms\n",
"L=0.5;//inductance in Henry\n",
"F=50;//freq in hz\n",
"//CALCULATIONS\n",
"Xl=2*%pi*F*L;//inductive reactance\n",
"Z=(R)+((%i)*Xl)//impedance\n",
"disp(Z);\n",
"z1=sqrt((R)^2+(Xl)^2);//magnitude\n",
"theta=atan(Xl/R);//angle in radians\n",
"I=V/z1;//current in A\n",
"P=V*I*cos(theta);//power supplied in W\n",
"//here capacitive reactance equals inductive reactance\n",
"//hence Xc=Xl\n",
"C=1/(2*%pi*F*Xl);//capacitance in uf\n",
"r=(V/I)-(R);//additional resistance to be added in series\n",
"mprintf('Thus current and power required are % 1.2f A and %2.2f W respectively\n',I,P);\n",
"mprintf('Thus additional resistance that neede to be connected in series with R and C to have same current at unity power factor is %1.1f ohms',r);\n",
"//=================================END OF PROGRAM======================================================================================================\n",
"\n",
";"
   ]
   }
,
{
		   "cell_type": "markdown",
		   "metadata": {},
		   "source": [
			"## Example 5.15: CAPACITANCE.sce"
		   ]
		  },
  {
"cell_type": "code",
	   "execution_count": null,
	   "metadata": {
	    "collapsed": true
	   },
	   "outputs": [],
"source": [
"//Chapter-5, Example 5.15, Page 171\n",
"//=============================================================================\n",
"clc\n",
"clear\n",
"//INPUT DATA\n",
"R=50;//resistance in ohms\n",
"L=9;//inductance in Henry\n",
"I0=1;//current in A\n",
"f=75;//ferquency in Hz\n",
"//at resonance Xl=Xc \n",
"//CALCULATIONS\n",
"Xl=2*%pi*f*L;//inductive reactance\n",
"Xc=Xl;//capacitive reactance\n",
"C=1/(2*%pi*f*Xc);//capacitance in uf\n",
"mprintf('Thus capacitance is %g F',C);\n",
"//=================================END OF PROGRAM======================================================================================================\n",
"\n",
";"
   ]
   }
,
{
		   "cell_type": "markdown",
		   "metadata": {},
		   "source": [
			"## Example 5.16: INDUCTIVE_REACTANCE.sce"
		   ]
		  },
  {
"cell_type": "code",
	   "execution_count": null,
	   "metadata": {
	    "collapsed": true
	   },
	   "outputs": [],
"source": [
"//Chapter-5, Example 5.16, Page 175\n",
"//=============================================================================\n",
"clc\n",
"clear\n",
"//INPUT DATA\n",
"R=10;//resistance in ohms\n",
"L=0.1;//inductance in Henry\n",
"C=150;//capacitor in uf\n",
"V=200;//voltage in V\n",
"f=50;//frequency in hz\n",
"//CALCULATIONS\n",
"Xc=1/(2*%pi*f*C*10^-6);//Capacitive reactance in ohms\n",
"Xl=(2*%pi*f*L);//inductive reactance in ohms\n",
"Z=R+((%i)*(Xl-Xc));//impedance in ohms\n",
"z1=sqrt((R)^2+(Xl-Xc)^2);//magnitude of Z\n",
"I=V/z1;//current in A\n",
"pf=R/z1;//power factor----->cos(phi)\n",
"//As Xl-Xc is inductive,pf is lagging\n",
"z2=sqrt((R^2)+(Xl)^2);//impedance of coil in ohms\n",
"Vl=I*(z2);//voltage across coil in volts\n",
"Vc=I*(Xc);//voltage across capacitor in volts\n",
"mprintf('Thus inductive reactance,capacitive reactance,impedance,current,powerfactor are %2.2f ohms,%2.2f ohms,%2.2f ohms,%d A,%1.1f respectively,',Xl,Xc,z1,I,pf);\n",
"//=================================END OF PROGRAM======================================================================================================\n",
"\n",
";"
   ]
   }
,
{
		   "cell_type": "markdown",
		   "metadata": {},
		   "source": [
			"## Example 5.17: RESISTANCE.sce"
		   ]
		  },
  {
"cell_type": "code",
	   "execution_count": null,
	   "metadata": {
	    "collapsed": true
	   },
	   "outputs": [],
"source": [
"//Chapter-5, Example 5.17, Page 176\n",
"//=============================================================================\n",
"clc\n",
"clear\n",
"//INPUT DATA\n",
"L=10;//inductance in milliHenry\n",
"C=5;//capacitor in uf\n",
"phi=50;//phase in degrees-------->lagging\n",
"f=500;//frequency in hz\n",
"V=200;//supply voltage in volts\n",
"//CALCULATIONS\n",
"Xc=1/(2*%pi*f*C*10^-6);//Capacitive reactance in ohms\n",
"Xl=(2*%pi*f*L*10^-3);//inductive reactance in ohms\n",
"R=(Xc-Xl)/(tan(phi*%pi/180));//resistance in ohms\n",
"Z=sqrt((R)^2+(Xc-Xl)^2);//impedance in ohms\n",
"I=V/Z;//current in A\n",
"Vr=(I)*(R);//voltage across resistance\n",
"Vl=(I)*(Xl);//voltage across inductance\n",
"Vc=(I)*(Xc);//voltage across capacitance\n",
"mprintf('Thus voltages across resistance,inductance,capacitance are %3.2f volts,%3.2f volts,%3.2f volts respectively,',Vr,Vl,Vc);\n",
"//=================================END OF PROGRAM======================================================================================================\n",
"\n",
";"
   ]
   }
,
{
		   "cell_type": "markdown",
		   "metadata": {},
		   "source": [
			"## Example 5.18: CAPACITANCE.sce"
		   ]
		  },
  {
"cell_type": "code",
	   "execution_count": null,
	   "metadata": {
	    "collapsed": true
	   },
	   "outputs": [],
"source": [
"//Chapter-5, Example 5.18, Page 176\n",
"//=============================================================================\n",
"clc\n",
"clear\n",
"//INPUT DATA\n",
"L=5;//inductance in Henry\n",
"f=50;//frequency in hz\n",
"V=230;//supply voltage in volts\n",
"R=2;//resitance in ohms\n",
"V1=250;//voltage across coil in V\n",
"//CALCULATIONS\n",
"Xl=(2*%pi*f*L);//inductive reactance in ohms\n",
"Z1=sqrt((R)^2+(Xl)^2);//impedance of coil in ohms\n",
"I=V1/Z1;//current in A\n",
"Z=V/I;//total impedance in ohms\n",
"//Z=sqrt((R)^2+(Xl-Xc)^2) and solving for Xc\n",
"Xc=poly(0,'Xc');\n",
"p=(Xc^2)-3141.58*(Xc)+378004\n",
"roots2 = roots (p);\n",
"r2 = roots2 (2);\n",
"//Xc cannot be greater than Z\n",
"C=1/(2*%pi*f*r2);//capacitance in F\n",
"mprintf('Thus value of C that must be present suct that voltage across coil is 250 volts is %g F respectively,',C);\n",
"//=================================END OF PROGRAM======================================================================================================\n",
"\n",
";"
   ]
   }
,
{
		   "cell_type": "markdown",
		   "metadata": {},
		   "source": [
			"## Example 5.19: RESISTANCE_AND_CAPACITANCE.sce"
		   ]
		  },
  {
"cell_type": "code",
	   "execution_count": null,
	   "metadata": {
	    "collapsed": true
	   },
	   "outputs": [],
"source": [
"//Chapter-5, Example 5.19, Page 178\n",
"//=============================================================================\n",
"clc\n",
"clear\n",
"//v=350*cos(3000*t-20)\n",
"//i=15*cos(3000*t-60)\n",
"//INPUT DATA\n",
"L=0.5;//inductance in Henry\n",
"phi=-40;//phase difference between applied voltage and current\n",
"//Xl>Xc(P.f is lagging)\n",
"w=3000;//freq in hz\n",
"Vm=350;//peak voltage in volts\n",
"Im=15;//peak current in amps\n",
"//CALCULATIONS\n",
"Z=Vm/Im;//total impedance in ohms\n",
"//Xl-Xc=0.839*R=X\n",
"//Z=sqrt((R)^2+(X)^2)\n",
"//Z=1.305*R\n",
"R=Z/1.305;//resistance in ohms\n",
"X=0.839*R;//\n",
"//X=Xl-Xc\n",
"Xl=w*L;//reactive inductance in ohms\n",
"Xc=Xl-X;//capacitive reactance in ohms\n",
"C=1/(w*Xc);//capacitance in uf\n",
"mprintf('Thus resistance and capacitance are %2.2f ohms and %g F respectively,',R,C);\n",
"//=================================END OF PROGRAM======================================================================================================"
   ]
   }
,
{
		   "cell_type": "markdown",
		   "metadata": {},
		   "source": [
			"## Example 5.1: POLAR.sce"
		   ]
		  },
  {
"cell_type": "code",
	   "execution_count": null,
	   "metadata": {
	    "collapsed": true
	   },
	   "outputs": [],
"source": [
"//Chapter-5, Example 5.1, Page 157\n",
"//=============================================================================\n",
"clc\n",
"clear\n",
" function [polar] = r2p(x,y)//function to convert rectangular to polar\n",
" polar = ones(1,2)\n",
" polar(1) = sqrt ((x ^2) +(y^2))\n",
" polar(2) = atan (y/x)\n",
" polar(2) =(polar (2)*180)/%pi\n",
" endfunction\n",
" function [ rect ] = p2r(r,theta)//function to convert polar to rectangular\n",
" rect = ones(1 ,2)\n",
" theta =( theta *%pi) /180\n",
" rect (1)=r* cos(theta)\n",
" rect (2)=r* sin(theta)\n",
" endfunction\n",
"//CALCULATIONS\n",
"I1=r2p(7,-5);\n",
"disp(I1);\n",
"I2=r2p(-9,6);\n",
"I2(2)=I2(2)+(180);//this belongs to quadrant 2 and hence 180 degrees should be added\n",
"disp(I2);\n",
"I3=r2p(-8,-8);\n",
"I3(2)=I3(2)+(180);//this belongs to quadrant 3 and hence 180 degrees should be added\n",
"disp(I3);\n",
"I4=r2p(6,6);\n",
"disp(I4);\n",
"//note:here direct functions for converson are not available and hence we defined user defined functions for polar to rect and rect to polar conversions\n",
"//=================================END OF PROGRAM======================================================================================================\n",
""
   ]
   }
,
{
		   "cell_type": "markdown",
		   "metadata": {},
		   "source": [
			"## Example 5.20: ADMITTANCE.sce"
		   ]
		  },
  {
"cell_type": "code",
	   "execution_count": null,
	   "metadata": {
	    "collapsed": true
	   },
	   "outputs": [],
"source": [
"//Chapter-5, Example 5.20, Page 182\n",
"//=============================================================================\n",
"clc\n",
"clear\n",
"//INPUT DATA\n",
"R=10;//resistance in ohms\n",
"L=0.1;//inductance in henry\n",
"f=50;//frequency in hz\n",
"//CALCULATIONS\n",
"Xl=(2*%pi*f*L);//inductive reactance in ohms\n",
"Z=R+((%i)*(Xl));//impedance in ohms\n",
"Y=inv(Z);//admittance in mho\n",
"disp(Y);\n",
"y=abs(Y);//admittance in mho\n",
"mprintf('admittance is %1.5f mho',y);\n",
"//=================================END OF PROGRAM======================================================================================================"
   ]
   }
,
{
		   "cell_type": "markdown",
		   "metadata": {},
		   "source": [
			"## Example 5.21: ADMITTANCE.sce"
		   ]
		  },
  {
"cell_type": "code",
	   "execution_count": null,
	   "metadata": {
	    "collapsed": true
	   },
	   "outputs": [],
"source": [
"//Chapter-5, Example 5.21, Page 182\n",
"//=============================================================================\n",
"clc\n",
"clear\n",
"//INPUT DATA\n",
"//CALCULATIONS\n",
"Z=10+((%i)*(5));//impedance in ohms\n",
"Y=inv(Z);//Admittance in mho\n",
"disp(Y);\n",
"//=================================END OF PROGRAM======================================================================================================"
   ]
   }
,
{
		   "cell_type": "markdown",
		   "metadata": {},
		   "source": [
			"## Example 5.22: ADMITTANCE.sce"
		   ]
		  },
  {
"cell_type": "code",
	   "execution_count": null,
	   "metadata": {
	    "collapsed": true
	   },
	   "outputs": [],
"source": [
"//Chapter-5, Example 5.22, Page 182\n",
"//=============================================================================\n",
"clc\n",
"clear\n",
"//INPUT DATA\n",
"Z1=7+((%i)*5);//impedance of branch1 in ohms\n",
"Z2=10-((%i)*8);//impedance  of branch2 in ohms\n",
"V=230;//supply voltage in volts\n",
"f=50;//frequency in hz\n",
"//CALCULATIONS\n",
"Y1=1/(Z1);//admittance of branch1 in mho\n",
"Y2=1/(Z2);//admittance of branch2 in mho\n",
"Y=Y1+Y2;//admittance of combined circuit\n",
"disp(Y);\n",
"g=abs(Y);//conductance in mho;\n",
"B=atan(imag(Y)/real(Y));//susceptance in mho\n",
"I=V*(Y);//current\n",
"disp(I);//total current taken from mains in A\n",
"z=atan(imag(I)/real(I));\n",
"pf=cos(z);//power factor\n",
"mprintf('thus conductance and susceptance of the circuit is %1.3f mho and %1.3f mho respectively\n',g,B);\n",
"mprintf('power factor is %1.3f lagging',pf)\n",
"//=================================END OF PROGRAM======================================================================================================"
   ]
   }
,
{
		   "cell_type": "markdown",
		   "metadata": {},
		   "source": [
			"## Example 5.23: FREQUENCY.sce"
		   ]
		  },
  {
"cell_type": "code",
	   "execution_count": null,
	   "metadata": {
	    "collapsed": true
	   },
	   "outputs": [],
"source": [
"//Chapter-5, Example 5.23, Page 183\n",
"//=============================================================================\n",
"clc\n",
"clear\n",
"//INPUT DATA\n",
"V=240;//voltage in volts\n",
"f=50;//frequency in Hz\n",
"R=15;//resisitance in ohms\n",
"I=22.1;//current in A\n",
"//CALCULATIONS\n",
"G=1/R;//conductance in mho\n",
"//susceptance of the circuit,B=1/(Xl)=0.00318/L\n",
"//admittance of the circuit,(G-jB)=(0.067-j(0.00318/L))\n",
"Y=I/V;//admittance in mho;\n",
"//Y=sqrt((0.067)^2+(0.00318/L)^2)=0.092-----eqn(1)\n",
"//solving eqn(1) for L we have it as\n",
"L=sqrt((0.00318)^2/((Y)^2-(G)^2));//inductance in henry\n",
"//when current is 34A\n",
"I1=34;//current in A\n",
"Y1=I1/V;//admittance in mho\n",
"//for Y1 we need to find f \n",
"f1=sqrt((3.183)^2/((Y1)^2-(G)^2));//frequency in hz\n",
"mprintf('Thus value of frequency when current is 34A is %2.1f Hz',f1);\n",
"//=================================END OF PROGRAM======================================================================================================"
   ]
   }
,
{
		   "cell_type": "markdown",
		   "metadata": {},
		   "source": [
			"## Example 5.24: CURRENT.sce"
		   ]
		  },
  {
"cell_type": "code",
	   "execution_count": null,
	   "metadata": {
	    "collapsed": true
	   },
	   "outputs": [],
"source": [
"//Chapter-5, Example 5.24, Page 184\n",
"//=============================================================================\n",
"clc\n",
"clear\n",
"//INPUT DATA\n",
"L=0.05;//inductance in henry\n",
"R2=20;//resistance in ohms\n",
"R1=15;//resistance in ohms\n",
"V=200;//supply voltage in volts\n",
"f=50;//frequency in hz\n",
"//CALCULATIONS\n",
"//for branch 1\n",
"Z1=(R1)+((%i)*(2*%pi*f*L));//impedance in ohms\n",
"Y1=inv(Z1);//admittance in branch\n",
"I1=V*(Y1);//current in branch\n",
"disp(I1);\n",
"i1=abs(I1);//magnitude of current\n",
"//for branch 2\n",
"Y2=1/R2;//admittance in branch\n",
"I2=V*Y2;//current in branch\n",
"i2=abs(I2);//magnitude of current\n",
"I=I1+I2;//total current in A\n",
"i=abs(I);//magnitude of total current\n",
"theta=atan(imag(I)/real(I));//angle in radians\n",
"theta=theta*(180)/(%pi);//angle in degrees\n",
"mprintf('Thus current in branch1,branch2 abd total currents are %1.2f A,%d A,%2.2f A respectively\n',i1,i2,i);\n",
"mprintf('phase angle of the combination is %2.1f degrees',theta);\n",
"//=================================END OF PROGRAM======================================================================================================"
   ]
   }
,
{
		   "cell_type": "markdown",
		   "metadata": {},
		   "source": [
			"## Example 5.25: TOTAL_CURRENT.sce"
		   ]
		  },
  {
"cell_type": "code",
	   "execution_count": null,
	   "metadata": {
	    "collapsed": true
	   },
	   "outputs": [],
"source": [
"//Chapter-5, Example 5.25, Page 185\n",
"//=============================================================================\n",
"clc\n",
"clear\n",
"//INPUT DATA\n",
"L=6;//inductance in millihenry\n",
"R2=50;//resistance in ohms\n",
"R1=40;//resistance in ohms\n",
"C=4;//capacitance in uf\n",
"V=100;//voltage in volts\n",
"f=800;//frequency in hz\n",
"//CALCULATIONS\n",
"Xl=(2*%pi*f*L*10^-3);//inductive reactance in ohms\n",
"Xc=1/(2*%pi*f*C*10^-6);//capacitive reactance in ohms\n",
"Y1=inv((R1)+(%i*Xl));//admittance of branch1 in mho\n",
"Y2=inv((R2)-(%i*Xc));//admittance of branch2 in mho\n",
"I1=V*(Y1);//current in branch 1\n",
"I2=V*(Y2);//current in branch 2\n",
"I=I1+I2;//total curremt in A\n",
"theta=(atan(imag(I1)/real(I1))-atan(imag(I2)/real(I2)));\n",
"theta=theta*180/%pi;//angle in degrees\n",
"mprintf('Thus total current taken from supply is %2.2f\n',abs(I));\n",
"mprintf('phase angle between currents of coil and capacitor is %2.2f degrees',theta);\n",
"//=================================END OF PROGRAM======================================================================================================"
   ]
   }
,
{
		   "cell_type": "markdown",
		   "metadata": {},
		   "source": [
			"## Example 5.26: POWER.sce"
		   ]
		  },
  {
"cell_type": "code",
	   "execution_count": null,
	   "metadata": {
	    "collapsed": true
	   },
	   "outputs": [],
"source": [
"//Chapter-5, Example 5.26, Page 186\n",
"//=============================================================================\n",
"clc\n",
"clear\n",
"//INPUT DATA\n",
"Z1=10+(%i*15);//impedance in ohms\n",
"Z2=6-(%i*8);//impedance in ohms\n",
"I=15;//current in A\n",
"//CALCULATIONS\n",
"I1=((Z2)/(Z1+Z2))*(I);//using current division rule\n",
"I2=((Z1)/(Z1+Z2))*(I);//using current division rule\n",
"i1=abs(I1);//magnitude of current 1\n",
"i2=abs(I2);//magnitdude of current 2\n",
"P1=((i1)^2)*(Z1(1));//power consumed by branch 1\n",
"P2=((i2)^2)*(Z2(1));//power consumed by branch 2\n",
"mprintf('Thus power consumed by branches 1 and 2 are %3.2f W and %4.1f W respectively',P1,P2);\n",
"//=================================END OF PROGRAM======================================================================================================"
   ]
   }
,
{
		   "cell_type": "markdown",
		   "metadata": {},
		   "source": [
			"## Example 5.27: CURRENT.sce"
		   ]
		  },
  {
"cell_type": "code",
	   "execution_count": null,
	   "metadata": {
	    "collapsed": true
	   },
	   "outputs": [],
"source": [
"//Chapter-5, Example 5.27, Page 187\n",
"//=============================================================================\n",
"clc\n",
"clear\n",
"//INPUT DATA\n",
"V=200;//voltage in volts\n",
"f=50;//frequency in hz\n",
"R1=10;//resistance in ohms\n",
"L1=0.0023;//inductance in henry\n",
"R2=5;//resistance in ohms\n",
"L2=0.035;//inductance in henry\n",
"//CALCULATIONS\n",
"Xl1=(2*%pi*f*L1);//inductive reactance in branch 1 in ohm\n",
"Xl2=(2*%pi*f*L2);//inductive reactance in branch 2 in ohm\n",
"Y1=inv(10+(%i*7.23));//admittance of branch 1 in mho\n",
"Y2=inv(5+(%i*10.99));//admittance of branch 2 in mho\n",
"Y=Y1+Y2;//total admittance in mho\n",
"I1=V*(Y1);//current through branch1\n",
"I2=V*(Y2);//current through branch2\n",
"I=I1+I2;//total current in A\n",
"theta=atan(imag(I)/real(I));//angle in radians\n",
"pf_of_combination=cos(theta);//powerfactor---->lagging\n",
"mprintf('Thus currents in branch1,branch2 and total current are %2.1f A,%2.1f A and %2.2f A respectively\n',abs(I1),abs(I2),abs(I));\n",
"mprintf('pf of combination is %1.3f',pf_of_combination);\n",
"//=================================END OF PROGRAM======================================================================================================"
   ]
   }
,
{
		   "cell_type": "markdown",
		   "metadata": {},
		   "source": [
			"## Example 5.28: CURRENT.sce"
		   ]
		  },
  {
"cell_type": "code",
	   "execution_count": null,
	   "metadata": {
	    "collapsed": true
	   },
	   "outputs": [],
"source": [
"//Chapter-5, Example 5.28, Page 189\n",
"//=============================================================================\n",
"clc\n",
"clear\n",
"//INPUT DATA\n",
"f=50;//freq in hz\n",
"V=100;//volatge in V\n",
"L1=0.015;//inductance in branch 1 in henry\n",
"L2=0.08;//inductance in branch 2 in henry\n",
"R1=2;//resistance of branch 1 in ohms\n",
"x1=4.71;//reactance of branch 1 in ohms\n",
"R2=1;//resistance of branch 2 in ohms\n",
"x2=25.13;//reactance of branch 2 in ohms\n",
"Z1=(R1)+(%i*x1);//impedance of branch1 in ohms\n",
"Z2=(R2)+(%i*x2);//impedance of branch1 in ohms\n",
"I1=V/Z1;//current in branch 1 in A\n",
"printf('current in branch 1 in A')\n",
"disp(I1);\n",
"I2=V/Z2;//current in branch 2 in A\n",
"printf('current in branch 2 in A')\n",
"disp(I2);\n",
"I3=I1+I2;//total current in A\n",
"printf('total current in A')\n",
"disp(I3);\n",
"//note:Answer for real part of total current given in textbook is wrong.Please check the calculations\n",
"//=================================END OF PROGRAM======================================================================================================"
   ]
   }
,
{
		   "cell_type": "markdown",
		   "metadata": {},
		   "source": [
			"## Example 5.29: ADMITTANCE.sce"
		   ]
		  },
  {
"cell_type": "code",
	   "execution_count": null,
	   "metadata": {
	    "collapsed": true
	   },
	   "outputs": [],
"source": [
"//Chapter-5, Example 5.29, Page 189\n",
"//=============================================================================\n",
"clc\n",
"clear\n",
"//CALCULATIONS\n",
"R=8;//resistance in ohms\n",
"Xc=-(%i)*12;//capacitive reactance in ohms\n",
"Y=(inv(R)+inv(Xc));//admittance in mho\n",
"disp(Y);\n",
"//=================================END OF PROGRAM======================================================================================================"
   ]
   }
,
{
		   "cell_type": "markdown",
		   "metadata": {},
		   "source": [
			"## Example 5.2: POLAR.sce"
		   ]
		  },
  {
"cell_type": "code",
	   "execution_count": null,
	   "metadata": {
	    "collapsed": true
	   },
	   "outputs": [],
"source": [
"//Chapter-5, Example 5.2, Page 157\n",
"//=============================================================================\n",
"clc\n",
"clear\n",
" function [polar] = r2p(x,y)//function to convert rectangular to polar\n",
" polar = ones(1,2)\n",
" polar(1) = sqrt ((x ^2) +(y^2))\n",
" polar(2) = atan (y/x)\n",
" polar(2) =(polar (2)*180)/%pi\n",
" endfunction\n",
" function [ rect ] = p2r(r,theta)//function to convert polar to rectangular\n",
" rect = ones(1,2)\n",
" theta =( theta *%pi) /180\n",
" rect (1)=r* cos(theta)\n",
" rect (2)=r* sin(theta)\n",
" endfunction\n",
"//CALCULATIONS\n",
"//for subdivision 1\n",
"I1=p2r(10,60);\n",
"I2=p2r(8,-45);\n",
"I3=I1+I2;\n",
"disp(I3);\n",
"I4=r2p(I3(1),I3(2));\n",
"disp(I4)\n",
"//for subdivision 2\n",
"I5=r2p(5,4);\n",
"I6=r2p(-4,-6);\n",
"I7(1)=(I5(1))*(I6(1));\n",
"I7(2)=(I5(2)+I6(2));\n",
"I7(2)=I7(2)-180;\n",
"disp(I7);\n",
"//for subdivision 3\n",
"I8=r2p(-2,-5);\n",
"I9=r2p(5,7);\n",
"I10(1)=I8(1)/I9(1);\n",
"I10(2)=I8(2)-I9(2);\n",
"I10(2)=I10(2)-180\n",
"disp(I10);\n",
"//note:here direct functions for converson are not available and hence we defined user defined functions for polar to rect and rect to polar conversions\n",
"//=================================END OF PROGRAM======================================================================================================\n",
""
   ]
   }
,
{
		   "cell_type": "markdown",
		   "metadata": {},
		   "source": [
			"## Example 5.30: ADMITTANCE.sce"
		   ]
		  },
  {
"cell_type": "code",
	   "execution_count": null,
	   "metadata": {
	    "collapsed": true
	   },
	   "outputs": [],
"source": [
"//Chapter-5, Example 5.30, Page 189\n",
"//=============================================================================\n",
"clc\n",
"clear\n",
"//CALCULATIONS\n",
"R=3;//resistance in ohms\n",
"Xl=(%i)*4;//inductive reactance in ohms\n",
"Y=(inv(R)+inv(Xl));//admittance in mho\n",
"disp(Y);\n",
"//=================================END OF PROGRAM======================================================================================================"
   ]
   }
,
{
		   "cell_type": "markdown",
		   "metadata": {},
		   "source": [
			"## Example 5.31: RESONANT_FREQUENCY.sce"
		   ]
		  },
  {
"cell_type": "code",
	   "execution_count": null,
	   "metadata": {
	    "collapsed": true
	   },
	   "outputs": [],
"source": [
"//Chapter-5, Example 5.31, Page 196\n",
"//=============================================================================\n",
"clc\n",
"clear\n",
"//INPUT DATA\n",
"R=10;//resistance in ohms\n",
"L=10;//inductance in milli henry\n",
"C=1;//capacitance in uF\n",
"V=200;//applied voltage in volts\n",
"//CALCULATIONS\n",
"fr=1/(2*%pi*(sqrt(L*C*10^-3*10^-6)));//resonant frequency in hz\n",
"I0=V/(R);//current at resonance in A\n",
"Vr=I0*R;//voltage across resistance in volts\n",
"Xl=2*%pi*fr*L*10^-3;//inductance in ohms\n",
"Vl=I0*Xl;//voltage across inductor in volts\n",
"Xc=inv(2*%pi*fr*C*10^-6);//capacitance in ohms\n",
"Vc=I0*Xc;//voltage across capacitor in volts\n",
"wr=2*%pi*fr//angular resonant frewuency in rad/sec\n",
"Q=(wr*L*10^-3)/(R);//quality factor\n",
"Bw=(fr/Q);//bandwidth in hz\n",
"mprintf('Thus resonant frequency and current are %4.2f hz and %d A respectively\n',fr,I0);\n",
"mprintf('voltages across resistance,inductance and capacitance are %d V,%d V and %d V respectively\n',Vr,Vl,Vc);\n",
"mprintf('bandwidth and quality factor are %3.2f hz and %d respectively',Bw,Q);\n",
"//=================================END OF PROGRAM======================================================================================================"
   ]
   }
,
{
		   "cell_type": "markdown",
		   "metadata": {},
		   "source": [
			"## Example 5.32: CIRCUIT_CONSTANTS.sce"
		   ]
		  },
  {
"cell_type": "code",
	   "execution_count": null,
	   "metadata": {
	    "collapsed": true
	   },
	   "outputs": [],
"source": [
"//Chapter-5, Example 5.32, Page 196\n",
"//=============================================================================\n",
"clc\n",
"clear\n",
"//INPUT DATA\n",
"V=220;//applied voltage in volts\n",
"f=50;//frequency in hz\n",
"Imax=0.4;//maximum current in A\n",
"Vc=330;//voltage across capacitance in volts\n",
"//at resonance condition I0=0.4 A\n",
"I0=0.4//current in A\n",
"//CALCULATIONS\n",
"Xc=(Vc)/(I0);//capacitive reactance in ohms\n",
"C=inv(2*%pi*f*Xc);//capacitance in F\n",
"//at resonance condition Xc=Xl, hence\n",
"L=Xc/(2*%pi*f);//inductance in henry\n",
"R=V/(Imax);//resistance in ohms\n",
"mprintf('Thus resistance,inductance and capacitance are %d ohms,%1.2f H and %g F respectively\n',R,L,C);\n",
"//=================================END OF PROGRAM======================================================================================================"
   ]
   }
,
{
		   "cell_type": "markdown",
		   "metadata": {},
		   "source": [
			"## Example 5.33: RESONANT_FREQUENCY.sce"
		   ]
		  },
  {
"cell_type": "code",
	   "execution_count": null,
	   "metadata": {
	    "collapsed": true
	   },
	   "outputs": [],
"source": [
"//Chapter-5, Example 5.33, Page 197\n",
"//=============================================================================\n",
"clc\n",
"clear\n",
"//INPUT DATA\n",
"R1=5;//resistance of branch1 in ohms\n",
"R2=2;//resistance of branch2 in ohms\n",
"L=10;//inductance in mH\n",
"C=40;//capacitance in uF \n",
"//CALCULATIONS\n",
"fr=(1/(2*%pi*(sqrt(L*C*10^-9))))*(sqrt(((C*10^-6*(R1)^2)-L*10^-3)/((C*10^-6*(R2)^2)-L*10^-3)));//resonant frequency in hz\n",
"mprintf('Thus resonant frequency is %f hz',fr);\n",
"//=================================END OF PROGRAM======================================================================================================"
   ]
   }
,
{
		   "cell_type": "markdown",
		   "metadata": {},
		   "source": [
			"## Example 5.34: FREQUENCY.sce"
		   ]
		  },
  {
"cell_type": "code",
	   "execution_count": null,
	   "metadata": {
	    "collapsed": true
	   },
	   "outputs": [],
"source": [
"//Chapter-5, Example 5.34, Page 197\n",
"//=============================================================================\n",
"clc\n",
"clear\n",
"//INPUT DATA\n",
"R=20;//resistance in ohms\n",
"L=0.2;//inductance in H\n",
"C=100;//capacitance in uF \n",
"//resistance will be non-inductive only at reosnant frequency\n",
"//CALCULATIONS\n",
"fr=(1/(2*%pi*(sqrt(L*C*10^-6))))*(sqrt((L-(C*10^-6*(R)^2))/(L)));//resonant frequency in hz\n",
"mprintf('Thus resonant frequency is %2.2f hz\n',fr);\n",
"Rf=(L)/(C*R*10^-6);//non-inductive resistance\n",
"mprintf('Thus value of non-inductive resistance is %d ohms',Rf);\n",
"//=================================END OF PROGRAM======================================================================================================"
   ]
   }
,
{
		   "cell_type": "markdown",
		   "metadata": {},
		   "source": [
			"## Example 5.35: BANDWIDTH.sce"
		   ]
		  },
  {
"cell_type": "code",
	   "execution_count": null,
	   "metadata": {
	    "collapsed": true
	   },
	   "outputs": [],
"source": [
"//Chapter-5, Example 5.35, Page 198\n",
"//=============================================================================\n",
"clc\n",
"clear\n",
"//INPUT DATA\n",
"Q=250;//quality factor\n",
"fr=1.5*10^6;//resonant freq in hertz\n",
"//CALCULATIONS\n",
"Bw=(fr)/(Q);//bandwidth in Hz\n",
"hf1=fr+Bw;//half power freq 1\n",
"hf2=fr-Bw;//half power freq 2\n",
"mprintf('Thus bandwidth is %d hz\n',Bw);\n",
"mprintf('Thus value of half-power frequencies are %g hz and %g hz',hf1,hf2);\n",
"//=================================END OF PROGRAM======================================================================================================"
   ]
   }
,
{
		   "cell_type": "markdown",
		   "metadata": {},
		   "source": [
			"## Example 5.36: RESONANT_FREQUENCY.sce"
		   ]
		  },
  {
"cell_type": "code",
	   "execution_count": null,
	   "metadata": {
	    "collapsed": true
	   },
	   "outputs": [],
"source": [
"//Chapter-5, Example 5.36, Page 198\n",
"//=============================================================================\n",
"clc\n",
"clear\n",
"//INPUT DATA\n",
"L=40*10^-3;//inductance in henry\n",
"C=0.01*10^-6;//capacitance in uf\n",
"//CALCULATIONS\n",
"fr=1/(2*%pi*sqrt(L*C));//resonant frequency\n",
"mprintf('Thus resonant frequency is %d hz\n',fr);\n",
"//=================================END OF PROGRAM======================================================================================================"
   ]
   }
,
{
		   "cell_type": "markdown",
		   "metadata": {},
		   "source": [
			"## Example 5.37: RESONANT_FREQUENCY.sce"
		   ]
		  },
  {
"cell_type": "code",
	   "execution_count": null,
	   "metadata": {
	    "collapsed": true
	   },
	   "outputs": [],
"source": [
"//Chapter-5, Example 5.37, Page 198\n",
"//=============================================================================\n",
"clc\n",
"clear\n",
"//INPUT DATA\n",
"V=120;//source voltage in volts\n",
"R=50;//resistance in ohms\n",
"L=0.5;//inductance in Henry\n",
"C=50;//capacitance in uF\n",
"//CALCULATIONS\n",
"//at Resonance\n",
"fr=(1/(2*%pi*(sqrt(L*C*10^-6))));//resonant frequency in hz\n",
"I0=V/R;//current at resonance in A\n",
"Vl=(%i)*(I0*L);//voltage developed across inductor in volts\n",
"Vc=(-%i)*(I0*L);//voltage developed across capacitor in volts\n",
"Q=(inv(R))*(sqrt(L/(C*10^-6)));//quality factor\n",
"Bw=(fr)/(Q);//Bandwidth in Hz\n",
"//given resonance is to occur at 300 rad/sec,then\n",
"wr=300;//wr=(2*%pi*f*r)------->measured in Hz\n",
"//wr=inv(sqrt(L*Cn))\n",
"Cr=inv(L*(wr)^2);//capacitance required in uF\n",
"mprintf('Thus resonant frequency,current,quality factor and bandwidth are %2.1f Hz,%1.1f A,%d and %2.1f hz respectively\n',fr,I0,Q,Bw);\n",
"mprintf('New value of capacitance at 300 rad/sec is %g F',Cr)\n",
"//=================================END OF PROGRAM======================================================================================================"
   ]
   }
,
{
		   "cell_type": "markdown",
		   "metadata": {},
		   "source": [
			"## Example 5.38: Q_FACTOR.sce"
		   ]
		  },
  {
"cell_type": "code",
	   "execution_count": null,
	   "metadata": {
	    "collapsed": true
	   },
	   "outputs": [],
"source": [
"//Chapter-5, Example 5.38, Page 199\n",
"//=============================================================================\n",
"clc\n",
"clear\n",
"//INPUT DATA\n",
"Q=45;//quality factor\n",
"f1=600*10^3;//freq in Hz\n",
"f2=1000*10^3;//freq in Hz\n",
"//given new resistance is 50% greater than former.let us consider two reistances as R1=1 ohm and R2=1.5 ohm for ease of calculation.Then\n",
"R1=1;//resistance in ohm\n",
"R2=1.5;//resistance in ohm\n",
"//CALCULATIONS\n",
"W1=2*%pi*f1;//angular freq 1 in rad/sec\n",
"W2=2*%pi*f2;//angular freq 2 in rad/sec\n",
"Q=45;//quality factor\n",
"L=(Q*R1)/(W1);//inductance in henry\n",
"Q1=(W2*L)/(R2);//new quality factor\n",
"mprintf('Thus new quality factor is %d',Q1);\n",
"//=================================END OF PROGRAM======================================================================================================"
   ]
   }
,
{
		   "cell_type": "markdown",
		   "metadata": {},
		   "source": [
			"## Example 5.39: SINGLE_PHASE_AC_CIRCUITS.sce"
		   ]
		  },
  {
"cell_type": "code",
	   "execution_count": null,
	   "metadata": {
	    "collapsed": true
	   },
	   "outputs": [],
"source": [
"//Chapter-5, Example 5.39, Page 199\n",
"//=============================================================================\n",
"clc\n",
"clear\n",
"//INPUT DATA\n",
"R=4;//resistance in ohm\n",
"L=100*10^-6;//inductance in henry\n",
"C=250*10^-12;//capacitance in Farads\n",
"//CALCULATIONS\n",
"fr=inv(2*%pi*sqrt(L*C));//resonant frequency in Hz\n",
"Q=(inv(R))*(sqrt(L/C));//Q-factor\n",
"Bw=fr/Q;//bandwidth in Hz\n",
"hf1=fr+Bw;//halfpower freq1 in Hz\n",
"hf2=fr-Bw;//halfpower freq2 in Hz\n",
"mprintf('Thus resonant freq,Q-factor and new halfpower frequencies are %dhz ,%d,%g hz,%g hz respectively',fr,Q,hf1,hf2);\n",
"//note:given answers are wrong in textbook.Please check the answers\n",
"//=================================END OF PROGRAM======================================================================================================"
   ]
   }
,
{
		   "cell_type": "markdown",
		   "metadata": {},
		   "source": [
			"## Example 5.3: IMPEDANCE.sce"
		   ]
		  },
  {
"cell_type": "code",
	   "execution_count": null,
	   "metadata": {
	    "collapsed": true
	   },
	   "outputs": [],
"source": [
"//Chapter-5, Example 5.3, Page 160\n",
"//=============================================================================\n",
"clc\n",
"clear\n",
"//given i(t)=5*sin(314*t+(2*%pi/3))&& v(t)=20*sin(314*t+(5*%pi/6))\n",
"//CALCULATIONS\n",
"P1=2*(%pi/3);//phase angle of current in radians\n",
"P1=P1*(180/%pi);//phase angle of current in degrees\n",
"P2=5*(%pi/6);//phase angle of voltage in radians\n",
"P2=P2*(180/%pi);//phase angle of voltage in degrees\n",
"P3=P2-P1;//current lags voltage by P3 degrees\n",
"P4=P3*%pi/180;\n",
"pf=cos(P4);//lagging pf\n",
"Vm=20;//peak voltage\n",
"Im=5;//peak current\n",
"Z=Vm/Im;//impedance in ohms\n",
"R=(Z)*cos(P4);//resistance in ohms\n",
"Xl=sqrt((Z)^2-(R)^2);//reactance \n",
"W=314;\n",
"L=Xl/W;//inductance in henry\n",
"V=Vm/sqrt(2);//average value of voltage\n",
"I=Im/sqrt(2);//average value of current\n",
"av=(V*I)*cos(P4);//average power in watts\n",
"mprintf('thus impedance,resistance,inductance,powerfactor and average power are %d ohms,%1.2f ohms,%g H,%1.3f and %2.1f W respectively',Z,R,L,pf,av);\n",
"//=================================END OF PROGRAM======================================================================================================\n",
""
   ]
   }
,
{
		   "cell_type": "markdown",
		   "metadata": {},
		   "source": [
			"## Example 5.40: RESONANT_FREQUENCY.sce"
		   ]
		  },
  {
"cell_type": "code",
	   "execution_count": null,
	   "metadata": {
	    "collapsed": true
	   },
	   "outputs": [],
"source": [
"//Chapter-5, Example 5.40, Page 200\n",
"//=============================================================================\n",
"clc\n",
"clear\n",
"//INPUT DATA\n",
"R=10;//resistance in ohm\n",
"L=10^-3;//inductance in henry\n",
"C=1000*10^-12;//capacitance in Farads\n",
"V=20;//voltage in volts\n",
"//CALCULATIONS\n",
"fr=inv(2*%pi*sqrt(L*C));//resonant frequency in Hz\n",
"Q=(inv(R))*(sqrt(L/C));//Q-factor\n",
"Bw=fr/Q;//bandwidth in Hz\n",
"hf1=fr+Bw;//halfpower freq1 in Hz\n",
"hf2=fr-Bw;//halfpower freq2 in Hz\n",
"mprintf('Thus resonant freq,Q-factor and new halfpower frequencies are %d hz ,%d ,%g hz,%g hz respectively',fr,Q,hf1,hf2);\n",
"//=================================END OF PROGRAM======================================================================================================"
   ]
   }
,
{
		   "cell_type": "markdown",
		   "metadata": {},
		   "source": [
			"## Example 5.41: POWER.sce"
		   ]
		  },
  {
"cell_type": "code",
	   "execution_count": null,
	   "metadata": {
	    "collapsed": true
	   },
	   "outputs": [],
"source": [
"//Chapter-5, Example 5.41, Page 208\n",
"//=============================================================================\n",
"clc\n",
"clear\n",
"//INPUT DATA\n",
"P1=1000;//power1 in watts\n",
"P2=1000;//power2 in watts\n",
"//CALCULATIONS\n",
"//for case(1)\n",
"Pt=P1+P2;//total power in watts\n",
"phi=atan(sqrt(3)*((P2-P1)/(P2+P1))*(180/%pi));//since tan(phi)=sqrt(3)*((P2-P1)/(P2+P1)))\n",
"pf=cos(phi);\n",
"mprintf('Thus power and powerfactor are %d W ,%d respectively\n',Pt,pf);\n",
"//for case(2)\n",
"P3=1000;//power3 in watts\n",
"P4=-1000;//power4 in watts\n",
"Pt1=P3+P4;//total power in watts\n",
"pf1=0;//since we cannot perform division by zero in scilab,it doesn't consider it as infinite quantity to yield 90 degree angle and hence powerfactor 0\n",
"mprintf('Thus power and powerfactor are %d W ,%d respectively',Pt1,pf1);\n",
"//=================================END OF PROGRAM======================================================================================================"
   ]
   }
,
{
		   "cell_type": "markdown",
		   "metadata": {},
		   "source": [
			"## Example 5.42: REAL_POWER.sce"
		   ]
		  },
  {
"cell_type": "code",
	   "execution_count": null,
	   "metadata": {
	    "collapsed": true
	   },
	   "outputs": [],
"source": [
"//Chapter-5, Example 5.42, Page 209\n",
"//=============================================================================\n",
"clc\n",
"clear\n",
"//INPUT DATA\n",
"V1=400;//voltage in volts\n",
"Z1=(3+((%i)*4));//impedance in ohms\n",
"//CALCULATIONS\n",
"//in star connected system,phase voltage=(line voltage)\n",
"Ep=V1/(sqrt(3));//voltage in volts\n",
"Ip=Ep/Z1;//current in A\n",
"ip1=abs(Ip);//line current in A\n",
"theta=atan((imag(Ip)/real(Ip)));\n",
"Pt=sqrt(3)*V1*ip1*cos(theta);//total power consumed in load in W\n",
"mprintf('Thus total power consumed in load is %f W',Pt);\n",
"//note:for line current the answer given is 46.02A instead of 46.2 A and hence total power consumed changes\n",
"//=================================END OF PROGRAM======================================================================================================"
   ]
   }
,
{
		   "cell_type": "markdown",
		   "metadata": {},
		   "source": [
			"## Example 5.43: LINE_TO_NEUTRAL_VOLTAGE.sce"
		   ]
		  },
  {
"cell_type": "code",
	   "execution_count": null,
	   "metadata": {
	    "collapsed": true
	   },
	   "outputs": [],
"source": [
"//Chapter-5, Example 5.43, Page 209\n",
"//=============================================================================\n",
"clc\n",
"clear\n",
"//INPUT DATA\n",
"V1=400;//voltage in volts\n",
"Il=10;//current in A\n",
"//CALCULATIONS\n",
"//in star connected system,phase current=(line current)=I1\n",
"phase_voltage=(V1)/(sqrt(3));//voltage in Volts\n",
"mprintf('Thus phase voltage is %1.0f V',phase_voltage);\n",
"//=================================END OF PROGRAM======================================================================================================"
   ]
   }
,
{
		   "cell_type": "markdown",
		   "metadata": {},
		   "source": [
			"## Example 5.44: CURRENT.sce"
		   ]
		  },
  {
"cell_type": "code",
	   "execution_count": null,
	   "metadata": {
	    "collapsed": true
	   },
	   "outputs": [],
"source": [
"//Chapter-5, Example 5.44, Page 209\n",
"//=============================================================================\n",
"clc\n",
"clear\n",
"//INPUT DATA\n",
"Z1=(6-((%i)*8));//impedance1 in ohms\n",
"Z2=(16+((%i)*12));//impedance2 in ohms\n",
"I1=(12+((%i)*16));//current in A\n",
"//CALCULATIONS\n",
"V=I1*Z1;//applied voltage in volts\n",
"I2=V/(Z2);//current in other branch in A\n",
"mprintf('current in other branch in Amps')\n",
"disp(I2);\n",
"I=I1+I2;//total current in A\n",
"mprintf('total current in Amps');\n",
"disp(I);\n",
"i1=abs(I);//magnitude in A\n",
"i2=atan((imag(I)/real(I)));\n",
"P=V*i1*cos(i2);//power consumed in circuit\n",
"mprintf('Thus voltage applied and power consumed are %d V and %d W respectively',V,P);\n",
"//=================================END OF PROGRAM======================================================================================================"
   ]
   }
,
{
		   "cell_type": "markdown",
		   "metadata": {},
		   "source": [
			"## Example 5.45: THREE_PHASE_POWER.sce"
		   ]
		  },
  {
"cell_type": "code",
	   "execution_count": null,
	   "metadata": {
	    "collapsed": true
	   },
	   "outputs": [],
"source": [
"//Chapter-5, Example 5.45, Page 210\n",
"//=============================================================================\n",
"clc\n",
"clear\n",
"//INPUT DATA\n",
"Vl=415;//voltage in volts\n",
"Z=(4+((%i)*6));//impedance in each phase in ohm\n",
"//CALCULATIONS\n",
"Ip=Vl/Z;//current in each phase in A\n",
"ip1=abs(Ip);//magnitude of Ip\n",
"Il=(sqrt(3))*(ip1);//line current in A\n",
"phi=atan((imag(Ip)/real(Ip)))\n",
"P=(sqrt(3))*Vl*Il*cos(phi);//power supplied in W\n",
"mprintf('Thus power supplied is %d W',P);\n",
"//note:the cosfunction of scilab and calculator will differ slightly\n",
"//=================================END OF PROGRAM======================================================================================================"
   ]
   }
,
{
		   "cell_type": "markdown",
		   "metadata": {},
		   "source": [
			"## Example 5.46: IMPEDANCE.sce"
		   ]
		  },
  {
"cell_type": "code",
	   "execution_count": null,
	   "metadata": {
	    "collapsed": true
	   },
	   "outputs": [],
"source": [
"//Chapter-5, Example 5.46, Page 210\n",
"//=============================================================================\n",
"clc\n",
"clear\n",
"//INPUT DATA\n",
"Vl=400;//voltage in volts\n",
"Il=20;//current in A\n",
"f=50;//freq in hz\n",
"pf=0.3//power factor\n",
"//CALCULATIONS\n",
"Ip=Il/sqrt(3);//phase current in A\n",
"Z=Vl/Ip;//impedance in each phase in ohms\n",
"phi=acos(0.3);//angle in radians\n",
"Zb=Z*(cos(phi)+(%i)*sin(phi));//impedance connected in each phase\n",
"mprintf('Thus impedance connected in each phase in ohms');\n",
"disp(Zb);\n",
"//=================================END OF PROGRAM======================================================================================================"
   ]
   }
,
{
		   "cell_type": "markdown",
		   "metadata": {},
		   "source": [
			"## Example 5.47: POWER.sce"
		   ]
		  },
  {
"cell_type": "code",
	   "execution_count": null,
	   "metadata": {
	    "collapsed": true
	   },
	   "outputs": [],
"source": [
"//Chapter-5, Example 5.47, Page 210\n",
"//=============================================================================\n",
"clc\n",
"clear\n",
"//INPUT DATA\n",
"P1=6*10^3;//power in Kw\n",
"P2=-1*10^3;//power in Kw\n",
"//CALCULATIONS\n",
"P=P1+P2;//total power in Kw\n",
"a=atan(sqrt(3)*((P2-P1)/(P2+P1)));\n",
"pf=cos(a);//power factor\n",
"mprintf('Thus power and power factor are %d W and %1.2f respectively',P,pf);\n",
"//=================================END OF PROGRAM======================================================================================================"
   ]
   }
,
{
		   "cell_type": "markdown",
		   "metadata": {},
		   "source": [
			"## Example 5.48: POWER_FACTOR.sce"
		   ]
		  },
  {
"cell_type": "code",
	   "execution_count": null,
	   "metadata": {
	    "collapsed": true
	   },
	   "outputs": [],
"source": [
"//Chapter-5, Example 5.48, Page 211\n",
"//=============================================================================\n",
"clc\n",
"clear\n",
"//INPUT DATA\n",
"Z=3-((%i)*4);//impedance in ohms\n",
"Vl=400;//line voltage in volts\n",
"//CALCULATIONS\n",
"Vp=Vl/(sqrt(3));//phase voltage in volts\n",
"Ip=Vp/abs(Z);//phase current in Amps\n",
"//line current(Il)=phase current(Ip)\n",
"Il=Ip;//line current in A\n",
"power_factor=cos(atan(imag(Z)/real(Z)));\n",
"power_consumed=sqrt(3)*Vl*Il*power_factor;\n",
"mprintf('Thus power consumed and power factor are %f W and %1.1f respectively',power_consumed,power_factor);\n",
"//note:answer computed for power consumed in textbook is wrong.Please check the calculations\n",
"//=================================END OF PROGRAM======================================================================================================"
   ]
   }
,
{
		   "cell_type": "markdown",
		   "metadata": {},
		   "source": [
			"## Example 5.49: LINE_TO_NEUTRAL_VOLTAGE.sce"
		   ]
		  },
  {
"cell_type": "code",
	   "execution_count": null,
	   "metadata": {
	    "collapsed": true
	   },
	   "outputs": [],
"source": [
"//Chapter-5, Example 5.49, Page 211\n",
"//=============================================================================\n",
"clc\n",
"clear\n",
"//INPUT DATA\n",
"Il=10;//current in Amps\n",
"Vl=400;//line voltage in volts\n",
"//CALCULATIONS\n",
"Vp=Vl/(sqrt(3));//line to neutral voltage\n",
"Ip=Il;//phase current in Amps\n",
"mprintf('Thus line to neutral voltage  and phase current are %1.0f V and %d A respectively',Vp,Ip);\n",
"//=================================END OF PROGRAM======================================================================================================"
   ]
   }
,
{
		   "cell_type": "markdown",
		   "metadata": {},
		   "source": [
			"## Example 5.4: IMPEDANCE.sce"
		   ]
		  },
  {
"cell_type": "code",
	   "execution_count": null,
	   "metadata": {
	    "collapsed": true
	   },
	   "outputs": [],
"source": [
"//Chapter-5, Example 5.4, Page 161\n",
"//=============================================================================\n",
"clc\n",
"clear\n",
"//INPUT DATA\n",
"I=10;//given current in A\n",
"P=1000;//power in Watts\n",
"V=250;//voltage in volts\n",
"f=25;//frequency in Hz\n",
"//CALCULATIONS\n",
"R=P/((I)^2);//resistance in ohms\n",
"Z=V/I;//impedance in ohms\n",
"Xl=sqrt((Z)^2-(R)^2);//reactance in ohms\n",
"L=Xl/(2*%pi*f);//inductance in Henry\n",
"Pf=R/Z;//power factor,lagging,pf=cos(phi)\n",
"mprintf('thus impedance,resistance,inductance,reactance and powerfactor are %d ohms,%d ohms,%1.3f H,%2.2f ohms and %1.1f respectively',Z,R,L,Xl,Pf);\n",
"//=================================END OF PROGRAM======================================================================================================\n",
""
   ]
   }
,
{
		   "cell_type": "markdown",
		   "metadata": {},
		   "source": [
			"## Example 5.50: POWER.sce"
		   ]
		  },
  {
"cell_type": "code",
	   "execution_count": null,
	   "metadata": {
	    "collapsed": true
	   },
	   "outputs": [],
"source": [
"//Chapter-5, Example 5.50, Page 211\n",
"//=============================================================================\n",
"clc\n",
"clear\n",
"//INPUT DATA\n",
"P1=2000;//power in watts\n",
"P2=1000;//power in watts\n",
"Vl=400;//line voltage in volts\n",
"//CALCULATIONS\n",
"P=P1+P2;//power in Watts\n",
"a=sqrt(3*(P1-P2)/(P1+P2));\n",
"b=atan(sqrt(a));\n",
"power_factor=cos(b);\n",
"kVA=P/power_factor;\n",
"mprintf('Thus power,power factor and kVA are %d W ,%1.3f and %1.2f respectively',P,power_factor,kVA);\n",
"//note:computed value for powerfactor and kVA in textbook are wrong.Please check the calculations\n",
"//=================================END OF PROGRAM======================================================================================================"
   ]
   }
,
{
		   "cell_type": "markdown",
		   "metadata": {},
		   "source": [
			"## Example 5.5: IMPEDANCE.sce"
		   ]
		  },
  {
"cell_type": "code",
	   "execution_count": null,
	   "metadata": {
	    "collapsed": true
	   },
	   "outputs": [],
"source": [
"//Chapter-5, Example 5.5, Page 162\n",
"//=============================================================================\n",
"clc\n",
"clear\n",
"//INPUT DATA\n",
"V=250;//supply voltage in volts\n",
"f=50;//frequency in hz\n",
"Vr=125;//voltage across resistance in volts\n",
"Vc=200;//voltage across coil in volts\n",
"I=5;//current in A\n",
"//CALCULATIONS\n",
"R=Vr/I;//resistance in ohms\n",
"Z1=Vc/I;//impedance of coil in ohms\n",
"//Z1=sqrt((R1)^2+(Xl)^2)------eqn(1)\n",
"Z=V/I;//total impedance in ohms\n",
"//Z=sqrt((R+R1)^2+(Xl)^2)-----eqn(2)\n",
"//solving eqn(1)and eqn(2) we get R1 as follows\n",
"R1=(((Z)^2-(Z1)^2)-(R)^2)/(2*R);//in ohms\n",
"Xl=sqrt((Z1)^2-(R1)^2);//reactance of coil in ohms\n",
"P=((I)^2*R1);//power absorbed by the coil in Watts\n",
"Pt=((I)^2)*(R+R1);//total power in Watts\n",
"mprintf('thus impedance,resistance,reactance are %d ohms,%d ohms,%2.2f ohms respectively\n',Z1,R,Xl);\n",
"mprintf('power absorbed and total power are %3.1f W and %3.1f W respectively',P,Pt)\n",
"\n",
"//=================================END OF PROGRAM======================================================================================================\n",
""
   ]
   }
,
{
		   "cell_type": "markdown",
		   "metadata": {},
		   "source": [
			"## Example 5.6: RESISTANCE.sce"
		   ]
		  },
  {
"cell_type": "code",
	   "execution_count": null,
	   "metadata": {
	    "collapsed": true
	   },
	   "outputs": [],
"source": [
"//Chapter-5, Example 5.6, Page 163\n",
"//=============================================================================\n",
"clc\n",
"clear\n",
"//INPUT DATA\n",
"V=240;//supply voltage in volts\n",
"Vl=171;//voltage across inductor in volts\n",
"I=3;//current in A\n",
"phi=37;//power factor laggging in degrees\n",
"//CALCULATIONS\n",
"Zl=Vl/I;//impedance of coil in ohms\n",
"//Zl=sqrt((R1)^2+(Xl)^2)------eqn(1)\n",
"Z=V/I;//total impedance in ohms\n",
"//Z=sqrt((R+R1)^2+(Xl)^2)-----eqn(2)\n",
"pf=cos(phi*%pi/180);//powerfactor\n",
"Rt=pf*Z;//total resistance in ohms//Rt=(R+R1)\n",
"//substituting Rt value in eqn(2) we find Xl as follows\n",
"Xl=sqrt((Z)^2-(Rt)^2);//reactance of inductor in ohms\n",
"//ubstituting Xl value in eqn(1) we find R1 as follows\n",
"R1=sqrt((Zl)^2-(Xl)^2);//resistance of inductor in ohms\n",
"R=Rt-R1;//resistance of resistor in ohms\n",
"mprintf('Thus resistance of resistor  is %2.2f ohms\n',R);\n",
"mprintf('Thus resisitance and reactance of inductor are %2.2f ohms and %2.2f ohms respectively',R1,Xl)\n",
"\n",
"//=================================END OF PROGRAM======================================================================================================\n",
""
   ]
   }
,
{
		   "cell_type": "markdown",
		   "metadata": {},
		   "source": [
			"## Example 5.7: CURRENT.sce"
		   ]
		  },
  {
"cell_type": "code",
	   "execution_count": null,
	   "metadata": {
	    "collapsed": true
	   },
	   "outputs": [],
"source": [
"//Chapter-5, Example 5.7, Page 164\n",
"//=============================================================================\n",
"clc\n",
"clear\n",
"//INPUT DATA\n",
"V=100;//supply voltage in volts\n",
"//for COIL A\n",
"f=50;//frequency in Hz\n",
"I1=8;//current in A\n",
"P1=120;//power in Watts\n",
"//for COIL B\n",
"I2=10;//current in A\n",
"P2=500;//power in Watts\n",
"//CALCULATIONS\n",
"//FOR COIL A\n",
"Z1=V/I1;//impedance of coil A in ohms\n",
"R1=P1/(I1)^2;//resistance of coil A in ohms\n",
"X1=sqrt(((Z1)^2-(R1)^2));//reactance of coil A in ohms\n",
"//FOR COIL B\n",
"Z2=V/I2;//impedance of coil B in ohms\n",
"R2=P2/(I2)^2;//resistance of coil B in ohms\n",
"X2=sqrt(((Z2)^2-(R2)^2));//reactance of coil B in ohms\n",
"//When both COILS A and B are in series\n",
"Rt=R1+R2;//total resistance in ohms\n",
"Xt=X1+X2;//total reactance in ohms\n",
"Zt=sqrt((Rt)^2+(Xt)^2);//total impedance in ohms\n",
"It=V/Zt;//current drawn in A\n",
"P=((It)^2)*(Rt);//power taken in watts\n",
"mprintf('Thus current drawn and power taken in watts are %2.2f A and %3.2f W respectively',It,P);\n",
"//=================================END OF PROGRAM======================================================================================================\n",
""
   ]
   }
,
{
		   "cell_type": "markdown",
		   "metadata": {},
		   "source": [
			"## Example 5.8: IMPEDANCE.sce"
		   ]
		  },
  {
"cell_type": "code",
	   "execution_count": null,
	   "metadata": {
	    "collapsed": true
	   },
	   "outputs": [],
"source": [
"//Chapter-5, Example 5.8, Page 167\n",
"//=============================================================================\n",
"clc\n",
"clear\n",
"//INPUT DATA\n",
"R=100;//resistance in ohms\n",
"C=50*10^-6;//capacitance in F\n",
"V=200;//voltage in Volts\n",
"f=50;//frequency in Hz\n",
"//Z=R-(%i)*(Xc)------>impedance\n",
"Xc=1/(2*%pi*f*C);//capacitive reactance in ohms\n",
"Z=sqrt((R)^2+(Xc)^2);//impedance in ohms\n",
"I=V/Z;//current in A\n",
"pf=R/Z;//power factor ------>cos(phi)---->leading\n",
"phi=acos(0.844);//phase angle in radians\n",
"phi=phi*180/%pi;//phase angle in degrees\n",
"Vr=(I)*(R);//voltage across resistor\n",
"Vc=(I)*(Xc);//votage across capacitor\n",
"mprintf('Thus impedance,current,powerfactor and phaseangle are %3.2f ohms,%1.2f A,%1.3f and %2.2f degrees respectively\n',Z,I,pf,phi);\n",
"mprintf('voltage across resistor and capacitor are %d V and %3.2f V respectively',Vr,Vc)\n",
"\n",
"//=================================END OF PROGRAM======================================================================================================\n",
"\n",
";"
   ]
   }
,
{
		   "cell_type": "markdown",
		   "metadata": {},
		   "source": [
			"## Example 5.9: POWER_FACTOR.sce"
		   ]
		  },
  {
"cell_type": "code",
	   "execution_count": null,
	   "metadata": {
	    "collapsed": true
	   },
	   "outputs": [],
"source": [
"//Chapter-5, Example 5.9, Page 169\n",
"//=============================================================================\n",
"clc\n",
"clear\n",
"//INPUT DATA\n",
"phi=40;//phase in degrees\n",
"V=150;//voltage in Volts\n",
"I=8;//current in A\n",
"//the applied voltage lags behind the current .That means the current leads the voltage\n",
"//hence pf is leading\n",
"//CALCULATIONS\n",
"pf=cos(phi*%pi/180);//in degrees--->leading\n",
"//hence it is a capacitive circuit\n",
"pa=V*I*pf;//active power in W\n",
"pr=V*I*sin(phi*%pi/180);//reactive power in VAR\n",
"mprintf('Thus active and reactive power are %3.1f W and %3.1f VAR respectively',pa,pr);\n",
"//=================================END OF PROGRAM======================================================================================================\n",
"\n",
";"
   ]
   }
],
"metadata": {
		  "kernelspec": {
		   "display_name": "Scilab",
		   "language": "scilab",
		   "name": "scilab"
		  },
		  "language_info": {
		   "file_extension": ".sce",
		   "help_links": [
			{
			 "text": "MetaKernel Magics",
			 "url": "https://github.com/calysto/metakernel/blob/master/metakernel/magics/README.md"
			}
		   ],
		   "mimetype": "text/x-octave",
		   "name": "scilab",
		   "version": "0.7.1"
		  }
		 },
		 "nbformat": 4,
		 "nbformat_minor": 0
}
