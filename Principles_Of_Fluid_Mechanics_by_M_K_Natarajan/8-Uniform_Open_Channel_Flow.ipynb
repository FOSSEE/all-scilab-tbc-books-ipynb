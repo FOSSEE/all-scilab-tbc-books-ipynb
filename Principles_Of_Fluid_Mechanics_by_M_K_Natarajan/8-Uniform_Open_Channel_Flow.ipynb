{
"cells": [
 {
		   "cell_type": "markdown",
	   "metadata": {},
	   "source": [
       "# Chapter 8: Uniform Open Channel Flow"
	   ]
	},
{
		   "cell_type": "markdown",
		   "metadata": {},
		   "source": [
			"## Example 8.10: Example_10.sce"
		   ]
		  },
  {
"cell_type": "code",
	   "execution_count": null,
	   "metadata": {
	    "collapsed": true
	   },
	   "outputs": [],
"source": [
"clc\n",
"//Initialization of variables\n",
"Q=12 //m^3/s\n",
"n=0.023\n",
"A=2.472\n",
"b=0.472\n",
"sf=1/8000\n",
"//calculations\n",
"y8= Q*n/A *2^(2/3) /sf^(1/2)\n",
"y=y8^(3/8)\n",
"b2= b*y\n",
"//results\n",
"printf('depth = %.3f m',y)\n",
"printf('\n width = %.2f m',b2)"
   ]
   }
,
{
		   "cell_type": "markdown",
		   "metadata": {},
		   "source": [
			"## Example 8.11: Example_11.sce"
		   ]
		  },
  {
"cell_type": "code",
	   "execution_count": null,
	   "metadata": {
	    "collapsed": true
	   },
	   "outputs": [],
"source": [
"clc\n",
"//Initialization of variables\n",
"Q=30 \n",
"V=1\n",
"//calculations\n",
"A=Q/V\n",
"y = sqrt(A/(sqrt(2) + 0.5))\n",
"b= (A- 0.5*y^2)/y\n",
"//results\n",
"printf('width = %.2f m',b)\n",
"printf('\n depth = %.2f m',y)"
   ]
   }
,
{
		   "cell_type": "markdown",
		   "metadata": {},
		   "source": [
			"## Example 8.1: Example_1.sce"
		   ]
		  },
  {
"cell_type": "code",
	   "execution_count": null,
	   "metadata": {
	    "collapsed": true
	   },
	   "outputs": [],
"source": [
"clc\n",
"//Initialization of variables\n",
"b=4 //m\n",
"y=1.2 //m\n",
"sf=0.001\n",
"n=0.012\n",
"gam=9.81*1000\n",
"//calculations\n",
"A=b*y\n",
"R=A/(b+ 2*y)\n",
"Q=1/n *A*R^(2/3) *sf^(1/2)\n",
"T=gam*R*sf\n",
"//results\n",
"printf('Discharge = %.3f m^3/s',Q)\n",
"printf('\n bed shear = %.2f N/m^2',T)\n",
"//The answer in textbook is wrong for discharge. Please use a calculator."
   ]
   }
,
{
		   "cell_type": "markdown",
		   "metadata": {},
		   "source": [
			"## Example 8.2: Example_2.sce"
		   ]
		  },
  {
"cell_type": "code",
	   "execution_count": null,
	   "metadata": {
	    "collapsed": true
	   },
	   "outputs": [],
"source": [
"clc\n",
"//Initialization of variables\n",
"b=6 //m\n",
"y=2 //m\n",
"sf=0.005\n",
"slope = 2\n",
"gam=9.81*1000\n",
"Q=65 //m^3/s\n",
"//calculations\n",
"A=(b+ 2*y)*slope\n",
"P=b+ 2*y*sqrt(slope^2 +1)\n",
"R=A/P\n",
"V=Q/A\n",
"n=R^(2/3) *sf^(1/2) /V\n",
"//results\n",
"printf('Value of mannings coefficient = %.3f',n)"
   ]
   }
,
{
		   "cell_type": "markdown",
		   "metadata": {},
		   "source": [
			"## Example 8.3: Example_3.sce"
		   ]
		  },
  {
"cell_type": "code",
	   "execution_count": null,
	   "metadata": {
	    "collapsed": true
	   },
	   "outputs": [],
"source": [
"clc\n",
"//Initialization of variables\n",
"b=3 //m\n",
"y=1 //m\n",
"sf=0.005\n",
"n=0.028\n",
"gam=9.81*1000\n",
"Q=0.25 //m^3/s\n",
"slope=1.5\n",
"//calculations\n",
"A= 0.5 *b*y\n",
"P=2*sqrt(1 + (slope)^2)\n",
"R=A/P\n",
"yx= Q*n/(slope * R^(2/3) *sf^(1/2))\n",
"y= yx^(3/8)\n",
"//results\n",
"printf('depth = %.2f m',y)"
   ]
   }
,
{
		   "cell_type": "markdown",
		   "metadata": {},
		   "source": [
			"## Example 8.4: Example_4.sce"
		   ]
		  },
  {
"cell_type": "code",
	   "execution_count": null,
	   "metadata": {
	    "collapsed": true
	   },
	   "outputs": [],
"source": [
"clc\n",
"//Initialization of variables\n",
"sf=0.0064\n",
"n=0.015\n",
"Q=6 //m^3/s\n",
"gam=9.81*1000\n",
"//calculations\n",
"AR= n*Q/sqrt(sf)\n",
"disp('On trial and error, ')\n",
"y=0.385 //m\n",
"printf('normal depth = %.3f m',y)"
   ]
   }
,
{
		   "cell_type": "markdown",
		   "metadata": {},
		   "source": [
			"## Example 8.5: Example_5.sce"
		   ]
		  },
  {
"cell_type": "code",
	   "execution_count": null,
	   "metadata": {
	    "collapsed": true
	   },
	   "outputs": [],
"source": [
"clc\n",
"//Initialization of variables\\n",
"sf=0.00007\n",
"n=0.013\n",
"gam=9.81*1000\n",
"V=0.45 //m/s\n",
"Q=1.4 //m^3/s\n",
"//calculations\n",
"by=Q/V\n",
"x=poly(0,'x')\n",
"y=roots(x^2 -2.66*x +1.55)\n",
"b=by ./y\n",
"//results\n",
"printf('y = ')\n",
"disp( y )\n",
"printf('corresponding b=')\n",
"disp(b)"
   ]
   }
,
{
		   "cell_type": "markdown",
		   "metadata": {},
		   "source": [
			"## Example 8.6: Example_6.sce"
		   ]
		  },
  {
"cell_type": "code",
	   "execution_count": null,
	   "metadata": {
	    "collapsed": true
	   },
	   "outputs": [],
"source": [
"clc\n",
"//Initialization of variables\n",
"sf=0.0016\n",
"n=0.02\n",
"Q=0.84 //m^3/s\n",
"gam=9.81*1000\n",
"//calculations\n",
"y53= Q*n/sqrt(sf)\n",
"y=y53^(3/5)\n",
"//results\n",
"printf('depth of flow = %.2f m',y)"
   ]
   }
,
{
		   "cell_type": "markdown",
		   "metadata": {},
		   "source": [
			"## Example 8.7: Example_7.sce"
		   ]
		  },
  {
"cell_type": "code",
	   "execution_count": null,
	   "metadata": {
	    "collapsed": true
	   },
	   "outputs": [],
"source": [
"clc\n",
"//Initialization of variables\n",
"n=0.015\n",
"Q=1.3 //m^3/s\n",
"V=0.6 //m/s\n",
"gam=9.81*1000\n",
"//calculations\n",
"alpha=60 //degrees\n",
"A=0.5 *(1/2)^2 *(180-alpha)/180 *%pi -(1/4)^2 *tand(alpha)\n",
"A=0.206\n",
"P=0.5*(180-alpha)/180 *%pi\n",
"R=A/P\n",
"d2=V*n/(R^(2/3))\n",
"d8= Q*n*4*4^(2/3) /%pi\n",
"d=sqrt(d8/d2)\n",
"sf= (d2/d^(2/3))^2\n",
"//results\n",
"printf('Diameter = %.2f m',d)\n",
"printf('\n slope = %.5f ',sf)\n",
"//The answer given in textbook is wrong. please check"
   ]
   }
,
{
		   "cell_type": "markdown",
		   "metadata": {},
		   "source": [
			"## Example 8.8: Example_8.sce"
		   ]
		  },
  {
"cell_type": "code",
	   "execution_count": null,
	   "metadata": {
	    "collapsed": true
	   },
	   "outputs": [],
"source": [
"clc\n",
"//Initialization of variables\n",
"b=0.5 //m\n",
"y=0.35 //m\n",
"sf=0.001\n",
"nc=0.016\n",
"gam=9.81*1000\n",
"Q=0.15 //m^3/s\n",
"//calculations\n",
"A=b*y\n",
"P= b+ 2*y\n",
"R=A/P\n",
"ng=1/Q *A*R^(2/3) *sf^(1/2)\n",
"n= (b*nc^(3/2) + 2*y*ng^(3/2))^(2/3) /(P^(2/3))\n",
"Q2=1/n *A*R^(2/3) *sf^(1/2)\n",
"//results\n",
"printf('flow in case 2 = %.3f m^3/s',Q2)"
   ]
   }
,
{
		   "cell_type": "markdown",
		   "metadata": {},
		   "source": [
			"## Example 8.9: Example_9.sce"
		   ]
		  },
  {
"cell_type": "code",
	   "execution_count": null,
	   "metadata": {
	    "collapsed": true
	   },
	   "outputs": [],
"source": [
"clc\n",
"//Initialization of variables\n",
"b1=8 //m\n",
"b2=5 //m\n",
"y=5 //m\n",
"b5=15 //m\n",
"b3=3 //m\n",
"b4=3 //m\n",
"y2=2 //m\n",
"y3=3 //m\n",
"n1=0.025\n",
"n2=0.035\n",
"sf=0.0008\n",
"//calcuations\n",
"A= (b1+b2)*y\n",
"P= b1+ sqrt(b2^2 +y^2) + sqrt(b3^2 +b4^2)\n",
"R=A/P\n",
"Q1=1/n1 *A*R^(2/3) *sf^(1/2)\n",
"A2 = b5*y2 - 0.5*y2*y2 + 0.5*y3*y2\n",
"P2= b5 + sqrt(b4^2 + y3^2)\n",
"R2=A2/P2\n",
"Q2= 1/n2 *A2*R2^(2/3) *sf^(1/2)\n",
"Q=Q1+Q2\n",
"//results\n",
"printf('Total discharge = %.1f m^3/s',Q)"
   ]
   }
],
"metadata": {
		  "kernelspec": {
		   "display_name": "Scilab",
		   "language": "scilab",
		   "name": "scilab"
		  },
		  "language_info": {
		   "file_extension": ".sce",
		   "help_links": [
			{
			 "text": "MetaKernel Magics",
			 "url": "https://github.com/calysto/metakernel/blob/master/metakernel/magics/README.md"
			}
		   ],
		   "mimetype": "text/x-octave",
		   "name": "scilab",
		   "version": "0.7.1"
		  }
		 },
		 "nbformat": 4,
		 "nbformat_minor": 0
}
