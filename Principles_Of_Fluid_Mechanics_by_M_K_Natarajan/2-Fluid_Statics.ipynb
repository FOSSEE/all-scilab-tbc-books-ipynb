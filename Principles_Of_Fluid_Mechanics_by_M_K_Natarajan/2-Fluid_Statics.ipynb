{
"cells": [
 {
		   "cell_type": "markdown",
	   "metadata": {},
	   "source": [
       "# Chapter 2: Fluid Statics"
	   ]
	},
{
		   "cell_type": "markdown",
		   "metadata": {},
		   "source": [
			"## Example 2.10: Example_10.sce"
		   ]
		  },
  {
"cell_type": "code",
	   "execution_count": null,
	   "metadata": {
	    "collapsed": true
	   },
	   "outputs": [],
"source": [
"clc \n",
"//Initialization of variables\n",
"r=0.75 //m\n",
"gam=8 //kN/m^3\n",
"//calculations\n",
"hp=3*%pi*r/16\n",
"P=gam*2/3 *r^3\n",
"//results\n",
"printf('Total pressure location = %.3f m',hp)\n",
"printf('\n Total pressure = %.2f kN',P)"
   ]
   }
,
{
		   "cell_type": "markdown",
		   "metadata": {},
		   "source": [
			"## Example 2.11: Example_11.sce"
		   ]
		  },
  {
"cell_type": "code",
	   "execution_count": null,
	   "metadata": {
	    "collapsed": true
	   },
	   "outputs": [],
"source": [
"clc \n",
"//Initialization of variables\n",
"l=3 //m\n",
"b=2 //m\n",
"h1=0.75 //m\n",
"h2=1 //m\n",
"sg=0.9\n",
"//calculations\n",
"IP=sg*9.81*h2\n",
"F1=0.5*IP*h2\n",
"F2=IP*h1\n",
"F3=0.5*(9.81*h1)*h1\n",
"F=l*(F1+F2+F3)\n",
"ybar= (F1*(h1+ 1/3) + F2* h1/2 + F3* h1/3)/(F1+F2+F3)\n",
"//results\n",
"printf('Total force = %.2f kN',F)\n",
"printf('\n Location = %.3f m  from the base',ybar)\n",
"    "
   ]
   }
,
{
		   "cell_type": "markdown",
		   "metadata": {},
		   "source": [
			"## Example 2.12: Example_12.sce"
		   ]
		  },
  {
"cell_type": "code",
	   "execution_count": null,
	   "metadata": {
	    "collapsed": true
	   },
	   "outputs": [],
"source": [
"clc\n",
"//Initialization of variables\n",
"g=1000*9.81 //kg/m^3\n",
"hc=20 //m\n",
"Ax=40*1 //m^2\n",
"y1=0 //m\n",
"y2=40 //m\n",
"//calculations\n",
"Fx=g*hc*Ax\n",
"function[f] =fy(y)\n",
"    f=(12*y)^(1/3)\n",
"endfunction\n",
"Fy=intg(y1,y2,fy)\n",
"Fy=g*Fy(1)\n",
"F=sqrt(Fx^2 +Fy^2)\n",
"//results\n",
"printf('Net force = %d kN',F/1000)\n",
"//The answer is a bit different due to rounding off error in the textbook"
   ]
   }
,
{
		   "cell_type": "markdown",
		   "metadata": {},
		   "source": [
			"## Example 2.13: Example_13.sce"
		   ]
		  },
  {
"cell_type": "code",
	   "execution_count": null,
	   "metadata": {
	    "collapsed": true
	   },
	   "outputs": [],
"source": [
"clc\n",
"//Initialization of variables\n",
"g=9.81 //kN/m^2\n",
"hc=1 //m\n",
"l=3 //m\n",
"b=0.5 //m\n",
"//calculations\n",
"Ax=l*b //m^2\n",
"Fx=g*hc*Ax\n",
"Fz=g*(0.5* %pi/4 *b^2)*l\n",
"F=sqrt(Fx^2 + Fz^2)\n",
"theta=atand(Fz/Fx)\n",
"//results\n",
"printf('Magintude of resultant force = %.2f kN',F)\n",
"printf('\n Directionn of the resultant force = %.1f deg',theta)"
   ]
   }
,
{
		   "cell_type": "markdown",
		   "metadata": {},
		   "source": [
			"## Example 2.14: Example_14.sce"
		   ]
		  },
  {
"cell_type": "code",
	   "execution_count": null,
	   "metadata": {
	    "collapsed": true
	   },
	   "outputs": [],
"source": [
"clc\n",
"//Initialization of variables\n",
"r1=920 //kg/m^3\n",
"r2=1030 //kg/m^3\n",
"//calculations\n",
"VtbyV2=r2/r1\n",
"V1byV2=VtbyV2-1\n",
"V1byVt=1/(1+1/V1byV2)\n",
"//results\n",
"printf('fraction = %.3f ',V1byVt)"
   ]
   }
,
{
		   "cell_type": "markdown",
		   "metadata": {},
		   "source": [
			"## Example 2.15: Example_15.sce"
		   ]
		  },
  {
"cell_type": "code",
	   "execution_count": null,
	   "metadata": {
	    "collapsed": true
	   },
	   "outputs": [],
"source": [
"clc\n",
"//Initialization of variables\n",
"d=3 //m\n",
"rh1=1.19 //kg/m^3\n",
"rh2=0.17 //kg/m^3 \n",
"g=9.81 //m/s^2\n",
"//calculations\n",
"pay=(rh1-rh2)*g*%pi/6 *d^3\n",
"//results\n",
"printf(' Pay load = %.2f N',pay)"
   ]
   }
,
{
		   "cell_type": "markdown",
		   "metadata": {},
		   "source": [
			"## Example 2.16: Example_16.sce"
		   ]
		  },
  {
"cell_type": "code",
	   "execution_count": null,
	   "metadata": {
	    "collapsed": true
	   },
	   "outputs": [],
"source": [
"clc\n",
"//Initialization of variables\n",
"x=poly(0,'x')\n",
"//calculations\n",
"y=6*x^2 -6*x+1\n",
"z=roots(y)\n",
"//results\n",
"printf('For stability, s must be greater than %.2f and less than %.2f and must be less than 1',z(1),z(2))"
   ]
   }
,
{
		   "cell_type": "markdown",
		   "metadata": {},
		   "source": [
			"## Example 2.17: Example_17.sce"
		   ]
		  },
  {
"cell_type": "code",
	   "execution_count": null,
	   "metadata": {
	    "collapsed": true
	   },
	   "outputs": [],
"source": [
"clc\n",
"//Initialization of variables\n",
"ax=1.5 //m/s^2\n",
"g=9.81 //m/s^2\n",
"//calculations\n",
"alpha=atand(ax/g)\n",
"//results\n",
"printf('The interface is inclined at %.2f degrees with the horizontal',alpha)"
   ]
   }
,
{
		   "cell_type": "markdown",
		   "metadata": {},
		   "source": [
			"## Example 2.18: Example_18.sce"
		   ]
		  },
  {
"cell_type": "code",
	   "execution_count": null,
	   "metadata": {
	    "collapsed": true
	   },
	   "outputs": [],
"source": [
"clc\n",
"//Initialization of variables\n",
"d=10 //cm\n",
"h=25 //cm\n",
"hw=15 //cm\n",
"g=9.81 //m/s^2\n",
"//calculations\n",
"z=d^2 *d*2/d^2\n",
"w=sqrt(z*2*g/(d/2)^2 *100)\n",
"N=w/(2*%pi) *60\n",
"//results\n",
"printf('Speed of rotation = %d rpm',N)"
   ]
   }
,
{
		   "cell_type": "markdown",
		   "metadata": {},
		   "source": [
			"## Example 2.19: Example_19.sce"
		   ]
		  },
  {
"cell_type": "code",
	   "execution_count": null,
	   "metadata": {
	    "collapsed": true
	   },
	   "outputs": [],
"source": [
"clc\n",
"//Initialization of variables\n",
"dia=1 //m\n",
"h=3 //m\n",
"rho=1000 //kg/m^3\n",
"N=80 //rpm\n",
"g=9.81 //m/s^2\n",
"//calculation\n",
"w=2*%pi*N/60\n",
"function y = fun(r)\n",
"    y=0.5*rho*w^2 *r^3 *2*%pi\n",
"endfunction\n",
"vec=intg(0,dia/2,fun)\n",
"Pt=vec(1) + %pi/4 *dia^2 *(h-dia)*rho*g\n",
"//results\n",
"printf('Total pressure on base = %.2f kN',Pt/1000)"
   ]
   }
,
{
		   "cell_type": "markdown",
		   "metadata": {},
		   "source": [
			"## Example 2.1: Example_1.sce"
		   ]
		  },
  {
"cell_type": "code",
	   "execution_count": null,
	   "metadata": {
	    "collapsed": true
	   },
	   "outputs": [],
"source": [
"clc \n",
"//Initialization of variables\n",
"h1=1.5 //m\n",
"h2=2 //m\n",
"g1=800 //kg/m^3\n",
"g2=1000 //kg/m^3\n",
"g=9.81\n",
"//calculations\n",
"P=h1*g*g1 + h2*g*g2\n",
"//results\n",
"printf('Pressure at the bottom of the vessel = %.2f kN/m^2',P/1000)"
   ]
   }
,
{
		   "cell_type": "markdown",
		   "metadata": {},
		   "source": [
			"## Example 2.2: Example_2.sce"
		   ]
		  },
  {
"cell_type": "code",
	   "execution_count": null,
	   "metadata": {
	    "collapsed": true
	   },
	   "outputs": [],
"source": [
"clc \n",
"//Initialization of variables\n",
"depth=8000 //m\n",
"sw=10.06 //kN/m^3\n",
"BM=2.05*10^9 //N/m^2\n",
"//calculations\n",
"g=sw*10^3 /(1- sw*10^3 *depth/BM)\n",
"Ph=2.3*BM*log10(BM/(BM-depth*9.81*1025))\n",
"//results\n",
"printf('Specific weight = %.2f kN/m^2',g/1000)\n",
"printf('\n Pressure at depth h = %.2f MN/m^2',Ph/10^6)"
   ]
   }
,
{
		   "cell_type": "markdown",
		   "metadata": {},
		   "source": [
			"## Example 2.3: Example_3.sce"
		   ]
		  },
  {
"cell_type": "code",
	   "execution_count": null,
	   "metadata": {
	    "collapsed": true
	   },
	   "outputs": [],
"source": [
"clc \n",
"//Initialization of variables\n",
"Patm=101.3/9.81 //m of water\n",
"x1=0.45 //m\n",
"x2=0.3 //m\n",
"s1=920 //Kg/m^3\n",
"s2=13600 //Kg/m^3\n",
"g=9.81 //m/s^2\n",
"//calculations\n",
"Pa=s1*x1*g + s2*x2*g\n",
"Pa2=Pa/(1000*g)\n",
"Pa3=Pa/(s2)\n",
"//results\n",
"printf('Pressure at A = %.1f kPa',Pa/1000)\n",
"printf('\n Pressure at A = %.3f m of water',Pa2)\n",
"printf('\n Pressure at A = %.3f m of mercury',Pa3)\n",
"printf('\n Pressure at A = %.3f m of water absolute',Pa/1000 +101.3)\n",
"printf('\n Pressure at A = %.3f m of mercury',Pa2+10.3)"
   ]
   }
,
{
		   "cell_type": "markdown",
		   "metadata": {},
		   "source": [
			"## Example 2.4: Example_4.sce"
		   ]
		  },
  {
"cell_type": "code",
	   "execution_count": null,
	   "metadata": {
	    "collapsed": true
	   },
	   "outputs": [],
"source": [
"clc \n",
"//Initialization of variables\n",
"sg=1.25\n",
"d=0.5 //m\n",
"d2=13.5*10^-2 //m\n",
"sw=9.81 //kN/m^2\n",
"//calculations\n",
"sl=sg*sw\n",
"sm=13.6*sw\n",
"Pa=sl*d - sm*d2\n",
"//results\n",
"printf('Pressure at A = %.2f kN/m^2 vacuum ',Pa)"
   ]
   }
,
{
		   "cell_type": "markdown",
		   "metadata": {},
		   "source": [
			"## Example 2.5: Example_5.sce"
		   ]
		  },
  {
"cell_type": "code",
	   "execution_count": null,
	   "metadata": {
	    "collapsed": true
	   },
	   "outputs": [],
"source": [
"clc \n",
"//Initialization of variables\n",
"s1=0.85\n",
"s2=13.6\n",
"z1=30\n",
"z2=15\n",
"z3=20\n",
"z4=35\n",
"z5=60\n",
"//calculations\n",
"dHa=s1*(z1+z5+z3-z4) +s2*z4 -z3+s2*z2-s1*(z1+z2)\n",
"Pd=1000*9.81*dHa/100\n",
"//results\n",
"printf('Pressure difference = %.2f kN/m^2',Pd/1000)"
   ]
   }
,
{
		   "cell_type": "markdown",
		   "metadata": {},
		   "source": [
			"## Example 2.6: Example_6.sce"
		   ]
		  },
  {
"cell_type": "code",
	   "execution_count": null,
	   "metadata": {
	    "collapsed": true
	   },
	   "outputs": [],
"source": [
"clc \n",
"//Initialization of variables\n",
"P=450 //kN/m^2\n",
"alt=2000 //m\n",
"r=610 //mm of mercury\n",
"//calculations\n",
"Pat=760-r\n",
"Pat2=Pat*13.6*9.81*10^-3\n",
"Pg=Pat2+P\n",
"//results\n",
"printf('Gauge reading = %.2f kN/m^2',Pg)"
   ]
   }
,
{
		   "cell_type": "markdown",
		   "metadata": {},
		   "source": [
			"## Example 2.7: Example_7.sce"
		   ]
		  },
  {
"cell_type": "code",
	   "execution_count": null,
	   "metadata": {
	    "collapsed": true
	   },
	   "outputs": [],
"source": [
"clc \n",
"//Initialization of variables\n",
"g=9.81 //kN/m^2\n",
"hc=16.25 //m\n",
"l=1.5 //m\n",
"b=2.5 //m\n",
"f=0.3\n",
"Pi=50 //kN\n",
"//calculations\n",
"P=g*hc*l*b\n",
"Preq=Pi+f*P\n",
"//results\n",
"printf('Force required to lift the gate = %.2f kN',Preq)"
   ]
   }
,
{
		   "cell_type": "markdown",
		   "metadata": {},
		   "source": [
			"## Example 2.8: Example_8.sce"
		   ]
		  },
  {
"cell_type": "code",
	   "execution_count": null,
	   "metadata": {
	    "collapsed": true
	   },
	   "outputs": [],
"source": [
"clc \n",
"//Initialization of variables\n",
"a=6 //m\n",
"b=8 //m\n",
"//calculations\n",
"Ixy=9/32 *b^4 /4\n",
"xp= Ixy/(2/3 *b *1/2 *a*b)\n",
"ICG=1/36 *a*b^3\n",
"yp=2/3*b + ICG/(2/3 *b* 1/2 *a*b )\n",
"//results\n",
"printf('The coordinates of centre of pressure are (%.2f ,%d)',xp,yp)"
   ]
   }
,
{
		   "cell_type": "markdown",
		   "metadata": {},
		   "source": [
			"## Example 2.9: Example_9.sce"
		   ]
		  },
  {
"cell_type": "code",
	   "execution_count": null,
	   "metadata": {
	    "collapsed": true
	   },
	   "outputs": [],
"source": [
"clc \n",
"//Initialization of variables\n",
"z=1.2 //m\n",
"y=1 //m\n",
"//calculations\n",
"hp=0.6 + 1/12 *y*z^3 /(0.6*y*z)\n",
"//results\n",
"printf('Position of hinge = %.1f m',hp)"
   ]
   }
],
"metadata": {
		  "kernelspec": {
		   "display_name": "Scilab",
		   "language": "scilab",
		   "name": "scilab"
		  },
		  "language_info": {
		   "file_extension": ".sce",
		   "help_links": [
			{
			 "text": "MetaKernel Magics",
			 "url": "https://github.com/calysto/metakernel/blob/master/metakernel/magics/README.md"
			}
		   ],
		   "mimetype": "text/x-octave",
		   "name": "scilab",
		   "version": "0.7.1"
		  }
		 },
		 "nbformat": 4,
		 "nbformat_minor": 0
}
