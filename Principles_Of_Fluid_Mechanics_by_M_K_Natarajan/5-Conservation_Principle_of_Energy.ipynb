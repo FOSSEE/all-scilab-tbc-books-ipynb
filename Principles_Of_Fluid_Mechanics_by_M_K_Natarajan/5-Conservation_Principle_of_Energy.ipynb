{
"cells": [
 {
		   "cell_type": "markdown",
	   "metadata": {},
	   "source": [
       "# Chapter 5: Conservation Principle of Energy"
	   ]
	},
{
		   "cell_type": "markdown",
		   "metadata": {},
		   "source": [
			"## Example 5.10: Example_9.sce"
		   ]
		  },
  {
"cell_type": "code",
	   "execution_count": null,
	   "metadata": {
	    "collapsed": true
	   },
	   "outputs": [],
"source": [
"clc\n",
"//Initialization of variables\n",
"g=9.81 //m/s^2\n",
"rho=860 //kg/m^3\n",
"P1=20 *10^3 //Pa\n",
"P2=50*10^3 //Pa\n",
"z=2.8 //m\n",
"d1=0.1 //m\n",
"//calculations\n",
"V1=sqrt(2*g*(P2/(rho*g) -z - P1/(rho*g)))\n",
"Q=%pi/4 *d1^2 *V1\n",
"//results\n",
"printf('rate of flow = %.4f m^3/s',Q)"
   ]
   }
,
{
		   "cell_type": "markdown",
		   "metadata": {},
		   "source": [
			"## Example 5.11: Example_10.sce"
		   ]
		  },
  {
"cell_type": "code",
	   "execution_count": null,
	   "metadata": {
	    "collapsed": true
	   },
	   "outputs": [],
"source": [
"clc\n",
"//Initialization of variables\n",
"g=9.81 //m/s^2\n",
"rho=10^3 //kg/m^3\n",
"Cv=0.92\n",
"P=210*10^3 //Pa\n",
"d=0.05 //m\n",
"ret=1.5 //m/s^2\n",
"//calculations\n",
"H=P/(g*rho)\n",
"Va=Cv*(2*g*H)\n",
"h=Cv^2 *H\n",
"h2= Cv^2 *2*g*H/(2*(g+ret))\n",
"//results\n",
"printf('The height to which the jet will rise is %.2f m',h)\n",
"printf('\n In case 2., height = %.2f m',h2)"
   ]
   }
,
{
		   "cell_type": "markdown",
		   "metadata": {},
		   "source": [
			"## Example 5.12: Example_11.sce"
		   ]
		  },
  {
"cell_type": "code",
	   "execution_count": null,
	   "metadata": {
	    "collapsed": true
	   },
	   "outputs": [],
"source": [
"clc\n",
"//Initialization of variables\n",
"g=9.81 //m/s^2\n",
"rho=10^3 //kg/m^3\n",
"h=4 //m\n",
"d=0.03 //m\n",
"Qa=3.8/1000 //m^3/s\n",
"x=2.5 //m\n",
"y=0.41 //m\n",
"//calculations\n",
"Qth = %pi/4 *d^2 *sqrt(2*g*h)\n",
"Cd=Qa/Qth\n",
"Cv=sqrt(x^2 /(4*y*h))\n",
"Cc=Cd/Cv\n",
"//results\n",
"printf('Cd = %.2f',Cd)\n",
"printf('\n Cv = %.3f',Cv)\n",
"printf('\n Cc= %.2f',Cc)"
   ]
   }
,
{
		   "cell_type": "markdown",
		   "metadata": {},
		   "source": [
			"## Example 5.13: Example_12.sce"
		   ]
		  },
  {
"cell_type": "code",
	   "execution_count": null,
	   "metadata": {
	    "collapsed": true
	   },
	   "outputs": [],
"source": [
"clc\n",
"//Initialization of variables\n",
"g=9.81 //m/s^2\n",
"rho=10^3 //kg/m^3\n",
"rho2=13.6*10^3 //kg/m^3\n",
"d1=3.2 //m\n",
"d2=0.6 //m\n",
"//calculations\n",
"z1=d1*rho/rho2\n",
"head= d2+z1\n",
"V=sqrt(2*g*head)\n",
"//results\n",
"printf('Efflux velocity = %.2f m/s',V)\n",
"//The answer is a bit different due to rounding off error."
   ]
   }
,
{
		   "cell_type": "markdown",
		   "metadata": {},
		   "source": [
			"## Example 5.15: Example_15.sce"
		   ]
		  },
  {
"cell_type": "code",
	   "execution_count": null,
	   "metadata": {
	    "collapsed": true
	   },
	   "outputs": [],
"source": [
"clc\n",
"//Initialization of variables\n",
"g=9.81 //m/s^2\n",
"rho=10^3 //kg/m^3\n",
"Cd=0.6\n",
"d=0.04 //m\n",
"h2=2.5 //m\n",
"//calculations\n",
"function y=fun(h)\n",
"    y=1/(Cd*%pi/4 *d^2 *sqrt(2*g)) *(4/sqrt(h) + sqrt(64-h^2))\n",
"endfunction\n",
"t=intg(0,h2,fun)\n",
"tmin=31.1\n",
"//results\n",
"printf('Time required = %.1f min',tmin)"
   ]
   }
,
{
		   "cell_type": "markdown",
		   "metadata": {},
		   "source": [
			"## Example 5.16: Example_16.sce"
		   ]
		  },
  {
"cell_type": "code",
	   "execution_count": null,
	   "metadata": {
	    "collapsed": true
	   },
	   "outputs": [],
"source": [
"clc\n",
"//Initialization of variables\n",
"g=981 //cm/s^2\n",
"Cd=0.6\n",
"Q=1200\n",
"d=3 //cm\n",
"l=30 //cm\n",
"b=30 //cm\n",
"dh=5 //cm\n",
"h1=9 //cm\n",
"//calculations\n",
"function y =fun1(h)\n",
"    y= l*b/(Q - Cd*%pi/4 *d^2 *sqrt(2*g*h))\n",
"endfunction\n",
"t=intg(h1,h1+dh,fun1)\n",
"t=126\n",
"//results\n",
"printf('Time required = %d sec',t)"
   ]
   }
,
{
		   "cell_type": "markdown",
		   "metadata": {},
		   "source": [
			"## Example 5.17: Example_17.sce"
		   ]
		  },
  {
"cell_type": "code",
	   "execution_count": null,
	   "metadata": {
	    "collapsed": true
	   },
	   "outputs": [],
"source": [
"clc\n",
"//Initialization of variables\n",
"g=9.81 //m/s^2\n",
"rho=10^3 //kg/m^3\n",
"pst=25.2*10^3 //Pa\n",
"h=2.5 //m\n",
"//calculations\n",
"v=sqrt(2/rho *(pst - g*rho*h))\n",
"//results\n",
"printf('velocity = %.2f m/s',v)"
   ]
   }
,
{
		   "cell_type": "markdown",
		   "metadata": {},
		   "source": [
			"## Example 5.18: Example_18.sce"
		   ]
		  },
  {
"cell_type": "code",
	   "execution_count": null,
	   "metadata": {
	    "collapsed": true
	   },
	   "outputs": [],
"source": [
"clc\n",
"//Initialization of variables\n",
"g=9.81 //m/s^2\n",
"rho=10^3 //kg/m^3\n",
"vel=800*10^3 /3600\n",
"sm=13.57\n",
"sl2=12.2\n",
"//calculations\n",
"sl=sl2/(g*rho)\n",
"y=vel^2 /(2*g*(sm/sl -1))\n",
"//results\n",
"printf('length of manometer = %d cm',y*100)"
   ]
   }
,
{
		   "cell_type": "markdown",
		   "metadata": {},
		   "source": [
			"## Example 5.19: Example_19.sce"
		   ]
		  },
  {
"cell_type": "code",
	   "execution_count": null,
	   "metadata": {
	    "collapsed": true
	   },
	   "outputs": [],
"source": [
"clc\n",
"//Initialization of variables\n",
"g=9.81 //m/s^2\n",
"rho=10^3 //kg/m^3\n",
"h=3.5 //m\n",
"//calculations\n",
"v=sqrt(2*g*h)\n",
"//results\n",
"printf('Speed necessary = %.1f m/s',v)"
   ]
   }
,
{
		   "cell_type": "markdown",
		   "metadata": {},
		   "source": [
			"## Example 5.1: Example_1.sce"
		   ]
		  },
  {
"cell_type": "code",
	   "execution_count": null,
	   "metadata": {
	    "collapsed": true
	   },
	   "outputs": [],
"source": [
"clc\n",
"//Initialization of variables\n",
"g=9.81 //m/s^2\n",
"rho=10^3 //kg/m^3\n",
"z2=0 //m\n",
"z1=8 //m\n",
"V2=5 //m/s\n",
"V1=3 //m/s\n",
"//calculations\n",
"Hs=(z2-z1) + (V2^2 -V1^2)/(2*g)\n",
"//results\n",
"printf('Work done by fluid = %.3f J/N',Hs)"
   ]
   }
,
{
		   "cell_type": "markdown",
		   "metadata": {},
		   "source": [
			"## Example 5.20: Example_20.sce"
		   ]
		  },
  {
"cell_type": "code",
	   "execution_count": null,
	   "metadata": {
	    "collapsed": true
	   },
	   "outputs": [],
"source": [
"clc\n",
"//Initialization of variables\n",
"g=9.81 //m/s^2\n",
"rho=10^3 //kg/m^3\n",
"sm=13.6 \n",
"s=1\n",
"Q=1 //m^3/s\n",
"d2=0.25 //m\n",
"d1=0.5 //m\n",
"nu=1e-6\n",
"//calculations\n",
"RN=Q*d1/(%pi/4 *d1^2 *nu)\n",
"Cv=0.98\n",
"yd= Q^2 *(1-d2^4 /d1^4)/(Cv^2 *%pi/4 *d2^2 *2*g)\n",
"y=yd/(sm/s -1)\n",
"//results\n",
"printf('Mercury manometer reading = %.2f cm',y*100)"
   ]
   }
,
{
		   "cell_type": "markdown",
		   "metadata": {},
		   "source": [
			"## Example 5.21: Example_21.sce"
		   ]
		  },
  {
"cell_type": "code",
	   "execution_count": null,
	   "metadata": {
	    "collapsed": true
	   },
	   "outputs": [],
"source": [
"clc\n",
"//Initialization of variables\n",
"g=9.81 //m/s^2\n",
"rho=10^3 //kg/m^3\n",
"sm=13.6\n",
"s=1\n",
"y=0.12 //m\n",
"Cv=0.984\n",
"d1=0.05 //m\n",
"d2=0.1 //m\n",
"nu=1e-6\n",
"//calculations\n",
"Q=Cv*%pi/4 *d1^2 *sqrt(2*g) /sqrt(1- (d1/d2)^4) *sqrt(y*(sm/s -1))\n",
"V1=Q/(%pi/4 *d2^2)\n",
"R=V1*d1/nu\n",
"//results\n",
"printf('Since, reynolds number is in required value, Flow rate = %.4f m^3/s',Q)"
   ]
   }
,
{
		   "cell_type": "markdown",
		   "metadata": {},
		   "source": [
			"## Example 5.22: Example_22.sce"
		   ]
		  },
  {
"cell_type": "code",
	   "execution_count": null,
	   "metadata": {
	    "collapsed": true
	   },
	   "outputs": [],
"source": [
"clc\n",
"//Initialization of variables\n",
"g=9.81 //m/s^2\n",
"rho=10^3 //kg/m^3\n",
"P1=150*10^3 //Pa\n",
"d0=3 //cm\n",
"d1=6 //cm\n",
"Cv=0.98\n",
"Cc=0.62\n",
"//calculations\n",
"P1g=P1/(g*rho)\n",
"Ar= (d0/d1)^4\n",
"A0=%pi/4 *(d0/100)^2\n",
"Q= Cv*Cc*A0 *sqrt(2*g) /sqrt(1- Cc^2 *Ar) *sqrt(P1g)\n",
"//results\n",
"printf('Discharge = %.2f lps',Q*10^3)"
   ]
   }
,
{
		   "cell_type": "markdown",
		   "metadata": {},
		   "source": [
			"## Example 5.23: Example_23.sce"
		   ]
		  },
  {
"cell_type": "code",
	   "execution_count": null,
	   "metadata": {
	    "collapsed": true
	   },
	   "outputs": [],
"source": [
"clc\n",
"clear\n",
"//Initialization of variables\n",
"g=9.81 //m/s^2\n",
"rho=10^3 //kg/m^3\n",
"Cd=0.6\n",
"L=3 //m\n",
"H=0.4 //m\n",
"V0=[0 0.24 0.275]\n",
"//calculations\n",
"Q= Cd*2/3 *sqrt(2*g) *(L-0.2*H) *((H+ V0.^2 ./(2*g) ).^(3/2) - (V0.^2 ./ (2*g)).^(3/2))\n",
"//results\n",
"H=max(Q)\n",
"printf('Flow rate = %.3f m^3/s',H)"
   ]
   }
,
{
		   "cell_type": "markdown",
		   "metadata": {},
		   "source": [
			"## Example 5.24: Example_24.sce"
		   ]
		  },
  {
"cell_type": "code",
	   "execution_count": null,
	   "metadata": {
	    "collapsed": true
	   },
	   "outputs": [],
"source": [
"clc\n",
"//Initialization of variables\n",
"g=9.81 //m/s^2\n",
"rho=10^3 //kg/m^3\n",
"d=0.5 //m\n",
"vel=1 //m/s\n",
"depth=1.2 //m\n",
"Cd=0.62\n",
"//calculations\n",
"H=(d*3/(2*Cd))^(2/3)\n",
"hw=depth-H\n",
"//results\n",
"printf('height of weir plate = %.2f m',hw)\n",
"//The answer given in textbook is wrong please use a caclculator."
   ]
   }
,
{
		   "cell_type": "markdown",
		   "metadata": {},
		   "source": [
			"## Example 5.25: Example_25.sce"
		   ]
		  },
  {
"cell_type": "code",
	   "execution_count": null,
	   "metadata": {
	    "collapsed": true
	   },
	   "outputs": [],
"source": [
"clc\n",
"//Initialization of variables\n",
"g=9.81 //m/s^2\n",
"rho=10^3 //kg/m^3\n",
"Q=0.1*100^2 /(24*3600) //m^3/s\n",
"Cd=0.61\n",
"theta=60 //degrees\n",
"Hd=Q/(Cd*8/15 *sqrt(2*g) *tand(theta/2))\n",
"H=Hd^(2/5)\n",
"//results\n",
"printf('apex of weir must be set %.1f cm below the free surface',H*100)\n",
"//The answer in the textbook is wrong. Please verify it"
   ]
   }
,
{
		   "cell_type": "markdown",
		   "metadata": {},
		   "source": [
			"## Example 5.26: Example_26.sce"
		   ]
		  },
  {
"cell_type": "code",
	   "execution_count": null,
	   "metadata": {
	    "collapsed": true
	   },
	   "outputs": [],
"source": [
"clc\n",
"//Initialization of variables\n",
"Q1=0.93\n",
"Q2=0.4\n",
"H1=0.7\n",
"H2=0.5\n",
"//calculations\n",
"n=log(Q1/Q2) /log(H1/H2)\n",
"//results\n",
"printf('Shape n = %.1f . hence shape of weir is triangular',n)"
   ]
   }
,
{
		   "cell_type": "markdown",
		   "metadata": {},
		   "source": [
			"## Example 5.27: Example_27.sce"
		   ]
		  },
  {
"cell_type": "code",
	   "execution_count": null,
	   "metadata": {
	    "collapsed": true
	   },
	   "outputs": [],
"source": [
"clc\n",
"//Initialization of variables\n",
"g=981 //cm/s^2\n",
"H=20 //cm\n",
"err=3/100\n",
"//calculations\n",
"dH=err/2.5 *H\n",
"v0=sqrt(2*g*dH)\n",
"//results\n",
"printf('Required velocity = %.2f cm/s',v0)\n",
"//The answer is a bit different due to rounding off error"
   ]
   }
,
{
		   "cell_type": "markdown",
		   "metadata": {},
		   "source": [
			"## Example 5.28: Example_28.sce"
		   ]
		  },
  {
"cell_type": "code",
	   "execution_count": null,
	   "metadata": {
	    "collapsed": true
	   },
	   "outputs": [],
"source": [
"clc\n",
"//Initialization of variables\n",
"g=9.81 //m/s^2\n",
"rho=10^3 //kg/m^3\n",
"Q=12000\n",
"f=30\n",
"t1=0.5\n",
"t2=1.2\n",
"//calculations\n",
"function y= fun2(h)\n",
"    y=Q/f *(1/h^(3/2))\n",
"endfunction\n",
"t=intg(t1,t2,fun2)\n",
"//results\n",
"printf('Time  = %d sec',t)\n",
"//The answer is a bit different due to rounding off error"
   ]
   }
,
{
		   "cell_type": "markdown",
		   "metadata": {},
		   "source": [
			"## Example 5.2: Example_2.sce"
		   ]
		  },
  {
"cell_type": "code",
	   "execution_count": null,
	   "metadata": {
	    "collapsed": true
	   },
	   "outputs": [],
"source": [
"clc\n",
"clear\n",
"//Initialization of variables\n",
"g=9.81 //m/s^2\n",
"rho=10^3 //kg/m^3\n",
"P1=80*10^3 //N/m^2\n",
"P2=12*10^6 + 101300 //N/m^2\n",
"Hq=-400 //J/N\n",
"//calculations\n",
"g1=g*rho\n",
"Hs= -Hq+ (P2-P1)/(g1)\n",
"//results\n",
"printf('Energy added by pump = %d J/N',Hs)\n",
"disp('The answer given in textbook is wrong. Please verify using a calculator')"
   ]
   }
,
{
		   "cell_type": "markdown",
		   "metadata": {},
		   "source": [
			"## Example 5.3: Example_3.sce"
		   ]
		  },
  {
"cell_type": "code",
	   "execution_count": null,
	   "metadata": {
	    "collapsed": true
	   },
	   "outputs": [],
"source": [
"clc\n",
"//Initialization of variables\n",
"g=9.81 //m/s^2\n",
"rho=10^3 //kg/m^3\n",
"d1=15 //cm\n",
"d2=10 //cm\n",
"V1=2.4 //m/s\n",
"P1=450*10^3 //N/m^2\n",
"rho2=900 //kg/m^3\n",
"//calculations\n",
"V2=d1^2 /d2^2 *V1\n",
"P2=g*rho2*(P1/(rho2*g) + V1^2 /(2*g) - V2^2 /(2*g))\n",
"Q=%pi/4*(d2/100)^2 *V2\n",
"//results\n",
"printf('Pressure at 2 = %.2f kN/m^2',P2/1000)\n",
"printf('\n Flow rate = %.4f m^3/s',Q)\n",
"//The answer given in textbook is wrong. Please verify it."
   ]
   }
,
{
		   "cell_type": "markdown",
		   "metadata": {},
		   "source": [
			"## Example 5.4: Example_4.sce"
		   ]
		  },
  {
"cell_type": "code",
	   "execution_count": null,
	   "metadata": {
	    "collapsed": true
	   },
	   "outputs": [],
"source": [
"clc\n",
"//Initialization of variables\n",
"g=9.81 //m/s^2\n",
"rho=10^3 //kg/m^3\n",
"z=10 //m\n",
"//calculations\n",
"PE=g*rho*%pi*z^2 /2\n",
"//results\n",
"printf('Work obtained = %.2e J',PE)"
   ]
   }
,
{
		   "cell_type": "markdown",
		   "metadata": {},
		   "source": [
			"## Example 5.6: Example_5.sce"
		   ]
		  },
  {
"cell_type": "code",
	   "execution_count": null,
	   "metadata": {
	    "collapsed": true
	   },
	   "outputs": [],
"source": [
"clc\n",
"//Initialization of variables\n",
"g=9.81 //m/s^2\n",
"rho=10^3 //kg/m^3\n",
"d1=7.5 //cm\n",
"d2=3 //cm\n",
"P1=300+101.3 //kPa\n",
"P2=25 //kPa\n",
"//calculations\n",
"V1=sqrt(2*g/ ((d1/d2)^4 -1) *(P1*10^3 /(rho*g) -P2*10^3 /(rho*g)))\n",
"Q=%pi/4 *(d1/100)^2 *V1\n",
"//results\n",
"printf('Max discharge = %.4f m^3/s',Q)\n",
"//The answer given in textbook is wrong. Please use a calculator to verify"
   ]
   }
,
{
		   "cell_type": "markdown",
		   "metadata": {},
		   "source": [
			"## Example 5.7: Example_6.sce"
		   ]
		  },
  {
"cell_type": "code",
	   "execution_count": null,
	   "metadata": {
	    "collapsed": true
	   },
	   "outputs": [],
"source": [
"clc\n",
"//Initialization of variables\n",
"g=9.81 //m/s^2\n",
"rho=10^3 //kg/m^3\n",
"z1=1.2 //m\n",
"z2=4 //m\n",
"d=5 //cm\n",
"//calculations\n",
"Va=sqrt(2*g*(z2-z1))\n",
"Q=%pi/4 *(d/100)^2 *Va\n",
"Pc= - z2*rho*g\n",
"P=25*10^3 //Pa\n",
"Zab=(101325 - P)/rho/g\n",
"//results\n",
"printf('rate of discharge = %.4f m^3/s',Q)\n",
"printf('\n Pressure at C = %.2f kPa',Pc/1000)\n",
"printf('\n Max. permissible length = %.2f m',Zab)"
   ]
   }
,
{
		   "cell_type": "markdown",
		   "metadata": {},
		   "source": [
			"## Example 5.8: Example_7.sce"
		   ]
		  },
  {
"cell_type": "code",
	   "execution_count": null,
	   "metadata": {
	    "collapsed": true
	   },
	   "outputs": [],
"source": [
"clc\n",
"//Initialization of variables\n",
"g=9.81 //m/s^2\n",
"rho=10^3 //kg/m^3\n",
"Q=0.09 //m^3/s\n",
"d1=0.12 //m\n",
"d2=0.2 //m\n",
"P1=80 //kN/m^2\n",
"P2=120 //kN/m^2\n",
"//calculations\n",
"V1=Q/(%pi/4 *d1^2)\n",
"TE1 = P1*10^3 /(rho*g) + V1^2 /(2*g)\n",
"V2= d1^2 /d2^2 *V1\n",
"TE2= P2*10^3 /(rho*g) + V2^2 /(2*g)\n",
"//results\n",
"if TE1>TE2 then\n",
"    printf('Flow is from section 1 to section 2')\n",
"else\n",
"    printf('Flow is from section 2 to section 1')\n",
"end"
   ]
   }
,
{
		   "cell_type": "markdown",
		   "metadata": {},
		   "source": [
			"## Example 5.9: Example_8.sce"
		   ]
		  },
  {
"cell_type": "code",
	   "execution_count": null,
	   "metadata": {
	    "collapsed": true
	   },
	   "outputs": [],
"source": [
"clc\n",
"//Initialization of variables\n",
"g=9.81 //m/s^2\n",
"rho=10^3 //kg/m^3\n",
"Q=0.012 //m^3/s\n",
"z=10 //m\n",
"d=0.075 //m\n",
"//calculations\n",
"Vb=Q/(%pi/4 *d^2)\n",
"Hm=z+ Vb^2 /(2*g)\n",
"P=Hm*rho*g*Q\n",
"//results\n",
"printf('Power required = %.3f kW',P/1000)"
   ]
   }
],
"metadata": {
		  "kernelspec": {
		   "display_name": "Scilab",
		   "language": "scilab",
		   "name": "scilab"
		  },
		  "language_info": {
		   "file_extension": ".sce",
		   "help_links": [
			{
			 "text": "MetaKernel Magics",
			 "url": "https://github.com/calysto/metakernel/blob/master/metakernel/magics/README.md"
			}
		   ],
		   "mimetype": "text/x-octave",
		   "name": "scilab",
		   "version": "0.7.1"
		  }
		 },
		 "nbformat": 4,
		 "nbformat_minor": 0
}
