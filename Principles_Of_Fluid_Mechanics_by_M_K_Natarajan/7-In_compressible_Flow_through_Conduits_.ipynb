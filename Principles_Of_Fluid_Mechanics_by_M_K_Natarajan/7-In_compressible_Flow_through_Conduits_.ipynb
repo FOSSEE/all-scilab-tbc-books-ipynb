{
"cells": [
 {
		   "cell_type": "markdown",
	   "metadata": {},
	   "source": [
       "# Chapter 7: In compressible Flow through Conduits "
	   ]
	},
{
		   "cell_type": "markdown",
		   "metadata": {},
		   "source": [
			"## Example 7.10: Example_10.sce"
		   ]
		  },
  {
"cell_type": "code",
	   "execution_count": null,
	   "metadata": {
	    "collapsed": true
	   },
	   "outputs": [],
"source": [
"clc\n",
"//Initialization of variables\n",
"g=9.81 //m/s^2\n",
"rho=10^3 //kg/m^3\n",
"l=1 //m\n",
"b=0.3 //m\n",
"Q=4.2 //m^3/s\n",
"//calculations\n",
"A=l*b\n",
"R=A/(2*(l+b))\n",
"d5=1.62/24.15\n",
"d=d5^(1/5)\n",
"Pr=2*(l+b)/(%pi*d)\n",
"//results\n",
"printf('The rectangular cross section will cost  %.2f times that of a circular cross section',Pr)"
   ]
   }
,
{
		   "cell_type": "markdown",
		   "metadata": {},
		   "source": [
			"## Example 7.11: Example_11.sce"
		   ]
		  },
  {
"cell_type": "code",
	   "execution_count": null,
	   "metadata": {
	    "collapsed": true
	   },
	   "outputs": [],
"source": [
"clc\n",
"//Initialization of variables\n",
"g=9.81 //m/s^2\n",
"rho=10^3 //kg/m^3\n",
"d1=2.5*10^-2 //m\n",
"d2=7.2*10^-2 //m\n",
"Q=100*10^-3 //m^3/hr\n",
"//calculations\n",
"V1=Q/(60*%pi/4*d1^2)\n",
"V2=(d1/d2)^2 *V1\n",
"dp= -(V2^2 -V1^2 + (V1-V2)^2)/(2*g)\n",
"Pdiff=dp*g*rho\n",
"//results\n",
"printf('pressure difference = %.2f kN/m^2',Pdiff/1000)\n",
"//The answers are a bit different due to rounding off error"
   ]
   }
,
{
		   "cell_type": "markdown",
		   "metadata": {},
		   "source": [
			"## Example 7.12: Example_12.sce"
		   ]
		  },
  {
"cell_type": "code",
	   "execution_count": null,
	   "metadata": {
	    "collapsed": true
	   },
	   "outputs": [],
"source": [
"clc\n",
"//Initialization of variables\n",
"g=9.81 //m/s^2\n",
"rho=10^3 //kg/m^3\n",
"d2=30/100 //cm\n",
"d1=60/100 //cm\n",
"Pu=105 //kN/m^2\n",
"Pd=75 //kN/m^2\n",
"Cc=0.65\n",
"//calculations\n",
"V22=(2*g/(1 - (d2/d1)^4 + (1/Cc -1)^2)) *(Pu-Pd)*10^3 /(rho*g)\n",
"V2=sqrt(V22)\n",
"Q=%pi/4 *V2 *d2^2\n",
"hl=(1/Cc -1)^2 *V2^2 /(2*g)\n",
"//results\n",
"printf('Flow rate = %.3f m^3/s',Q)\n",
"printf('\n Head loss = %.3f m',hl)"
   ]
   }
,
{
		   "cell_type": "markdown",
		   "metadata": {},
		   "source": [
			"## Example 7.13: Example_13.sce"
		   ]
		  },
  {
"cell_type": "code",
	   "execution_count": null,
	   "metadata": {
	    "collapsed": true
	   },
	   "outputs": [],
"source": [
"clc\n",
"//Initialization of variables\n",
"g=9.81 //m/s^2\n",
"rho=10^3 //kg/m^3\n",
"d=9 //m\n",
"dia=0.3 //m\n",
"//calculations\n",
"V302= 2*g*d/(0.5 + 20 + 2.53+101+0.66+41.47+2.07)\n",
"V30=sqrt(V302)\n",
"Q=%pi/4 *dia^2 *V30\n",
"//results\n",
"printf('Flow rate = %.3f m^3/s',Q)"
   ]
   }
,
{
		   "cell_type": "markdown",
		   "metadata": {},
		   "source": [
			"## Example 7.14: Example_14.sce"
		   ]
		  },
  {
"cell_type": "code",
	   "execution_count": null,
	   "metadata": {
	    "collapsed": true
	   },
	   "outputs": [],
"source": [
"clc\n",
"clear\n",
"//Initialization of variables\n",
"h=6 //m\n",
"rho=930 //kg/m^3\n",
"Q=3/60 //m^3/s\n",
"d=0.15 //m\n",
"L=20 //m\n",
"mu=0.006\n",
"g=9.81 //m/s^2\n",
"//calculations\n",
"V=Q/(%pi/4 *d^2)\n",
"RN=V*d*rho/mu\n",
"f=0.316/RN^0.25\n",
"hl=f*L/d *V^2 /(2*g)\n",
"Hp=h+hl\n",
"gam=rho*g\n",
"W=gam*Q\n",
"Power= W*Hp\n",
"//results\n",
"printf('Power required  = %.3f kW',Power/1000)"
   ]
   }
,
{
		   "cell_type": "markdown",
		   "metadata": {},
		   "source": [
			"## Example 7.15: Example_15.sce"
		   ]
		  },
  {
"cell_type": "code",
	   "execution_count": null,
	   "metadata": {
	    "collapsed": true
	   },
	   "outputs": [],
"source": [
"clc\n",
"//Initialization of variables\n",
"d=0.02 //m\n",
"d2=1.2 //m\n",
"f=0.01\n",
"L=250\n",
"ken=0.5\n",
"g=9.81\n",
"h1=8 //m\n",
"h2=4 //m\n",
"//calculations\n",
"V2=2*g/(1+ken+ f*L/d)\n",
"V=sqrt(V2)\n",
"Q=%pi/4 *d^2 *V\n",
"function t=time(h)\n",
"    t=-%pi/4 *d2^2 /Q /sqrt(h)\n",
"endfunction\n",
"ti=intg(h1,h2,time)\n",
"//results\n",
"printf('Time required = %d sec',ti)"
   ]
   }
,
{
		   "cell_type": "markdown",
		   "metadata": {},
		   "source": [
			"## Example 7.16: Example_16.sce"
		   ]
		  },
  {
"cell_type": "code",
	   "execution_count": null,
	   "metadata": {
	    "collapsed": true
	   },
	   "outputs": [],
"source": [
"clc\n",
"//Initialization of variables\n",
"d1=0.1 //m\n",
"d2=0.05 //m\n",
"l1=20 //m\n",
"l2=20 //m\n",
"f=0.02\n",
"//calculations\n",
"Kl=(f*l2/d2 *(d1/d2)^4 - f*l1/d1)\n",
"//results\n",
"printf('Loss coefficient = %d ',Kl)"
   ]
   }
,
{
		   "cell_type": "markdown",
		   "metadata": {},
		   "source": [
			"## Example 7.17: Example_17.sce"
		   ]
		  },
  {
"cell_type": "code",
	   "execution_count": null,
	   "metadata": {
	    "collapsed": true
	   },
	   "outputs": [],
"source": [
"clc\n",
"clear\n",
"//Initialization of variables\n",
"g=9.81 \n",
"rati=1.265\n",
"//calculations\n",
"percent = (rati-1)*100\n",
"//results\n",
"printf('Increase in discharge = %.1f',percent)"
   ]
   }
,
{
		   "cell_type": "markdown",
		   "metadata": {},
		   "source": [
			"## Example 7.18: Example_18.sce"
		   ]
		  },
  {
"cell_type": "code",
	   "execution_count": null,
	   "metadata": {
	    "collapsed": true
	   },
	   "outputs": [],
"source": [
"clc\n",
"//Initialization of variables\n",
"Q=0.6 //m^3/s\n",
"l1=1200 //m\n",
"l2=800 //m\n",
"d1=0.3 //m\n",
"//calculations\n",
"V1=1.02 //m/s\n",
"d5= d1*l2*4^2 *Q^2 /(l1*%pi^2 *V1^2)\n",
"d=d5^(1/5)\n",
"//results\n",
"printf('diameter of the single pipe = %.2f m',d)"
   ]
   }
,
{
		   "cell_type": "markdown",
		   "metadata": {},
		   "source": [
			"## Example 7.19: Example_19.sce"
		   ]
		  },
  {
"cell_type": "code",
	   "execution_count": null,
	   "metadata": {
	    "collapsed": true
	   },
	   "outputs": [],
"source": [
"clc\n",
"//Initialization of variables\n",
"g=9.81\n",
"Q=0.18 //m^3/s\n",
"d3=0.3//m\n",
"f=0.032\n",
"L3=360 //m\n",
"z=25.5 //m\n",
"z2=30 //m\n",
"L2=450 //m\n",
"d2=0.45//m\n",
"L1=950 //m\n",
"d1=0.45 //m\n",
"zn=18 //m\n",
"rho=1000\n",
"//calculations\n",
"V3=Q/(%pi/4 *d3^2)\n",
"hl3=f*L3/d3 *(V3^2 /(2*g))\n",
"Z2=z+hl3\n",
"hl2=Z2-z2\n",
"V2= sqrt(2*g*d2*hl2/(f*L2))\n",
"Q2=%pi/4 *d2^2 *V2\n",
"V1=V2+ (d3/d2)^2 *V3\n",
"hl1=f*L1/d1*V1^2 /(2*g)\n",
"Hp= hl1+ Z2-zn\n",
"gam=rho*g\n",
"P=gam*Hp\n",
"//results\n",
"printf('Discharge into the reservoir = %.3f m^3/s',Q2)\n",
"printf('\n Pressure maintained by the pump = %.2f kN/m^2',P/1000)"
   ]
   }
,
{
		   "cell_type": "markdown",
		   "metadata": {},
		   "source": [
			"## Example 7.1: Example_1.sce"
		   ]
		  },
  {
"cell_type": "code",
	   "execution_count": null,
	   "metadata": {
	    "collapsed": true
	   },
	   "outputs": [],
"source": [
"clc\n",
"//Initialization of variables\n",
"g=9.81 //m/s^2\n",
"rho=10^3 //kg/m^3\n",
"h1=4 //m\n",
"muw=0.001 //Ns/m^2\n",
"l=1.5 //m\n",
"B=0.15/1000 //m\n",
"len=11.2 //m\n",
"//calculations\n",
"P1=g*rho*h1\n",
"V=P1*B^2 /(12*muw*l)\n",
"A=B*len\n",
"Q=A*V\n",
"Q=7112.4\n",
"tau= B/2 *(P1)/l\n",
"//results\n",
"printf('Average velocity through the crack = %.3f m/s',V)\n",
"printf('\n rate of leakage = %.1f l/hr',Q)\n",
"printf('\n Shear stress = %.3f N/m^2',tau)"
   ]
   }
,
{
		   "cell_type": "markdown",
		   "metadata": {},
		   "source": [
			"## Example 7.20: Example_20.sce"
		   ]
		  },
  {
"cell_type": "code",
	   "execution_count": null,
	   "metadata": {
	    "collapsed": true
	   },
	   "outputs": [],
"source": [
"clc\n",
"//Initialization of variables\n",
"h=[1 2 1.9 1.96]\n",
"z1=10 //m\n",
"z2=5 //m\n",
"z3=7.5 //m\n",
"f=0.04 \n",
"l1=100 //m\n",
"l2=50 //m\n",
"l3=70 //m\n",
"d1=0.1 //m\n",
"d2=0.075 //m\n",
"d3=0.06 //m\n",
"g=9.81 //m/s^2\n",
"//calculations\n",
"Q1=sqrt(d1^5 *(%pi/4)^2 *2*g/(f*l1)) .*sqrt(z1-h)\n",
"Q2=sqrt(d2^5 *(%pi/4)^2 *2*g/(f*l2)) .*sqrt(h+z2)\n",
"Q3=sqrt(d3^5 *(%pi/4)^2 *2*g/(f*l3)) .*sqrt(h+z3)\n",
"len=length(h)\n",
"for i=1:len\n",
"    Q=Q2(i)+Q3(i)\n",
"    if (Q1(i) == Q) then\n",
"        break;\n",
"    end\n",
"end\n",
"printf('height h = %.2f m',h(i))\n",
"printf('\nDischarge in BC Q2 = %.2f lps',Q2(i)*1000)\n",
"printf('\nDischarge in BD Q3 = %.2f lps',Q3(i)*1000)"
   ]
   }
,
{
		   "cell_type": "markdown",
		   "metadata": {},
		   "source": [
			"## Example 7.21: Example_21.sce"
		   ]
		  },
  {
"cell_type": "code",
	   "execution_count": null,
	   "metadata": {
	    "collapsed": true
	   },
	   "outputs": [],
"source": [
"clc\n",
"//Initialization of variables\n",
"e=0.8\n",
"output=400 //kW\n",
"H=150 //m\n",
"rho=1000 \n",
"g=9.81\n",
"f=0.028\n",
"l=1250 //m\n",
"//calculations\n",
"gam=rho*g\n",
"inpu=output/e\n",
"Q=inpu*10^3 /(2/3 *gam*H)\n",
"hl=1/3 *H\n",
"d5= f*l*Q^2 /(2*g* %pi/4 * %pi/4 *hl)\n",
"d=d5^(1/5)\n",
"//results\n",
"printf('Smallest diameter of pen stock = %d cm',d*100)\n",
"    "
   ]
   }
,
{
		   "cell_type": "markdown",
		   "metadata": {},
		   "source": [
			"## Example 7.22: Example_22.sce"
		   ]
		  },
  {
"cell_type": "code",
	   "execution_count": null,
	   "metadata": {
	    "collapsed": true
	   },
	   "outputs": [],
"source": [
"clc\n",
"//Initialization of variables\n",
"f=0.04\n",
"H=30 //m\n",
"l=200 //m\n",
"d=0.075 //m\n",
"g=9.81\n",
"rho=1000\n",
"gam=rho*g\n",
"//calculations\n",
"h=2/3 *H\n",
"vj=sqrt(2*g*h)\n",
"hl= 1/3 *H\n",
"V= sqrt(hl*d*2*g/(f*l))\n",
"dj= d*(sqrt(V/vj))\n",
"Power= 2/3 *gam*%pi/4 *d^2 *V*H\n",
"//results\n",
"printf('Size of nozzle = %.1f cm',dj*100)\n",
"printf('\n Max power = %.2f kW',Power/1000)"
   ]
   }
,
{
		   "cell_type": "markdown",
		   "metadata": {},
		   "source": [
			"## Example 7.2: Example_2.sce"
		   ]
		  },
  {
"cell_type": "code",
	   "execution_count": null,
	   "metadata": {
	    "collapsed": true
	   },
	   "outputs": [],
"source": [
"clc\n",
"//Initialization of variables\n",
"g=9.81 //m/s^2\n",
"rho=1200 //kg/m^3\n",
"mu=0.005 //Ns/m^2\n",
"d=0.006 //m\n",
"Re=2000\n",
"V=0.15 //m/s\n",
"//calculations\n",
"Vc=Re*mu/(d*rho)\n",
"Vr=V/Vc\n",
"T0=8*mu*V/d\n",
"//results\n",
"printf('Shear stress = %d N/m^2',T0)"
   ]
   }
,
{
		   "cell_type": "markdown",
		   "metadata": {},
		   "source": [
			"## Example 7.3: Example_3.sce"
		   ]
		  },
  {
"cell_type": "code",
	   "execution_count": null,
	   "metadata": {
	    "collapsed": true
	   },
	   "outputs": [],
"source": [
"clc\n",
"//Initialization of variables\n",
"g=9.81 //m/s^2\n",
"rho=10^3 //kg/m^3\n",
"Q=0.45/(60*1000) //m^3/s\n",
"d=0.003 //m\n",
"depth=0.95 //m\n",
"alpha=2\n",
"len=1.25 //m\n",
"//calculations\n",
"A=%pi/4 *d^2\n",
"V=Q/A\n",
"nu= (depth - alpha*V^2 /(2*g))*g*d^2 /(32*V*len)\n",
"Re=V*d/nu\n",
"//results\n",
"if Re<2000 then\n",
"    printf('Flow is laminar')\n",
"else\n",
"    printf('Flow is not laminar')\n",
"end"
   ]
   }
,
{
		   "cell_type": "markdown",
		   "metadata": {},
		   "source": [
			"## Example 7.4: Example_4.sce"
		   ]
		  },
  {
"cell_type": "code",
	   "execution_count": null,
	   "metadata": {
	    "collapsed": true
	   },
	   "outputs": [],
"source": [
"clc\n",
"//Initialization of variables\n",
"g=9.81 //m/s^2\n",
"rho=787 //kg/m^3\n",
"Q=90*10^-3 //m^3/hr\n",
"d=0.015 //m\n",
"k=0.0045*10^-2 //m\n",
"nu=1.6e-6\n",
"l=5 //m\n",
"//calculations\n",
"V=Q/(60*%pi/4 *d^2)\n",
"Rn=V*d/nu\n",
"e=k/d\n",
"disp('From moody diagram, f=0.028')\n",
"f=0.028\n",
"hl=f*l/d *V^2 /(2*g)\n",
"Power=rho*g*Q/60 *hl\n",
"//result\n",
"printf('Head loss = %.2f m',hl)\n",
"printf('\n power required  =%.3f kW',Power/1000)"
   ]
   }
,
{
		   "cell_type": "markdown",
		   "metadata": {},
		   "source": [
			"## Example 7.5: Example_5.sce"
		   ]
		  },
  {
"cell_type": "code",
	   "execution_count": null,
	   "metadata": {
	    "collapsed": true
	   },
	   "outputs": [],
"source": [
"clc\n",
"//Initialization of variables\n",
"g=9.81 //m/s^2\n",
"rho=870 //kg/m^3\n",
"Q=2*10^-3 //m^3/s\n",
"d=0.03 //m\n",
"mu=5*10^-4\n",
"l=50 //m\n",
"//calculations\n",
"V=Q/(%pi/4 *d^2)\n",
"RN=rho*V*d/mu\n",
"f=0.017\n",
"hl=f*l/d *V^2/(2*g)\n",
"Ploss=rho*g*hl\n",
"//results\n",
"printf('Loss of pressure = %.1f kN/m^2',Ploss/1000)\n",
"//The answers are a bit different due to rounding off error in textbook"
   ]
   }
,
{
		   "cell_type": "markdown",
		   "metadata": {},
		   "source": [
			"## Example 7.6: Example_6.sce"
		   ]
		  },
  {
"cell_type": "code",
	   "execution_count": null,
	   "metadata": {
	    "collapsed": true
	   },
	   "outputs": [],
"source": [
"clc\n",
"//Initialization of variables\n",
"g=9.81 //m/s^2\n",
"rho=813 //kg/m^3\n",
"Q=0.007 //m^3/hr\n",
"d=0.01//m\n",
"mu=0.002 //Ns/m^2\n",
"l=30 //m\n",
"//calculations\n",
"V=Q/(60*%pi/4*d^2)\n",
"RN=V*d*rho/mu\n",
"f=0.316/RN^(0.25)\n",
"h=(1+f*l/d)*V^2 /(2*g)\n",
"//result\n",
"printf('Height required = %.2f m',h)"
   ]
   }
,
{
		   "cell_type": "markdown",
		   "metadata": {},
		   "source": [
			"## Example 7.7: Example_7.sce"
		   ]
		  },
  {
"cell_type": "code",
	   "execution_count": null,
	   "metadata": {
	    "collapsed": true
	   },
	   "outputs": [],
"source": [
"clc\n",
"//Initialization of variables\n",
"g=9.81 //m/s^2\n",
"rho=10^3 //kg/m^3\n",
"hl=0.02\n",
"d=1.2 //m\n",
"l=1 //m\n",
"k=0.5 *10^-2 //m\n",
"//calculations\n",
"v2f=hl*(2*g*d)/l\n",
"e=k/d\n",
"f=0.028\n",
"V=sqrt(v2f/f)\n",
"Q=%pi/4 *d^2 *V\n",
"//results\n",
"printf('Rate of flow = %.2f m^3/s',Q)"
   ]
   }
,
{
		   "cell_type": "markdown",
		   "metadata": {},
		   "source": [
			"## Example 7.8: Example_8.sce"
		   ]
		  },
  {
"cell_type": "code",
	   "execution_count": null,
	   "metadata": {
	    "collapsed": true
	   },
	   "outputs": [],
"source": [
"clc\n",
"//Initialization of variables\n",
"g=9.81 //m/s^2\n",
"rho=10^3 //kg/m^3\n",
"e=0.03*10^-2 //m\n",
"l=3000 //m\n",
"Q=300*10^-3 //m^3/s\n",
"nu=10^-5 //m^2/s\n",
"hl=24 //m\n",
"//calculations\n",
"d5f= l*Q/(%pi/4) * Q/(%pi/4) /(hl*2*g)\n",
"f=0.022\n",
"d=(d5f*f)^(1/5)\n",
"//results\n",
"printf('Size of the required pipe = %d cm',d*100)"
   ]
   }
,
{
		   "cell_type": "markdown",
		   "metadata": {},
		   "source": [
			"## Example 7.9: Example_9.sce"
		   ]
		  },
  {
"cell_type": "code",
	   "execution_count": null,
	   "metadata": {
	    "collapsed": true
	   },
	   "outputs": [],
"source": [
"clc\n",
"//Initialization of variables\n",
"g=9.81 //m/s^2\n",
"rho=10^3 //kg/m^3\n",
"d=0.3 //m\n",
"per=25/100\n",
"Q=0.1 //m^3/s\n",
"k0=0.025*10^-2 //m\n",
"nu=0.000001\n",
"year=10\n",
"//calculations\n",
"V=Q/(%pi/4 *d^2)\n",
"RN=V*d/nu\n",
"e1=k0/d\n",
"f1=0.019 \n",
"f2=(1+per)*f1\n",
"e2=0.002\n",
"k2=e2*d\n",
"rate = (k2-k0)*100/year\n",
"//results\n",
"printf('Rate of increase =%.4f cm/year',rate)"
   ]
   }
],
"metadata": {
		  "kernelspec": {
		   "display_name": "Scilab",
		   "language": "scilab",
		   "name": "scilab"
		  },
		  "language_info": {
		   "file_extension": ".sce",
		   "help_links": [
			{
			 "text": "MetaKernel Magics",
			 "url": "https://github.com/calysto/metakernel/blob/master/metakernel/magics/README.md"
			}
		   ],
		   "mimetype": "text/x-octave",
		   "name": "scilab",
		   "version": "0.7.1"
		  }
		 },
		 "nbformat": 4,
		 "nbformat_minor": 0
}
