{
"cells": [
 {
		   "cell_type": "markdown",
	   "metadata": {},
	   "source": [
       "# Chapter 4: Conservation Principle of Momentum"
	   ]
	},
{
		   "cell_type": "markdown",
		   "metadata": {},
		   "source": [
			"## Example 4.1: Example_1.sce"
		   ]
		  },
  {
"cell_type": "code",
	   "execution_count": null,
	   "metadata": {
	    "collapsed": true
	   },
	   "outputs": [],
"source": [
"clc\n",
"//Initialization of variables\n",
"Q=0.2 //m^3/s\n",
"v=30 //m/s\n",
"angle=120 //degrees\n",
"rho=1000 //kg/m^3\n",
"//calculations\n",
"Rx=rho*Q*(v-v*cosd(angle))\n",
"Ry=rho*Q*v*sind(angle)\n",
"R=sqrt(Rx^2 +Ry^2)\n",
"//results\n",
"printf('Resultant force = %.2f kN',R/1000)"
   ]
   }
,
{
		   "cell_type": "markdown",
		   "metadata": {},
		   "source": [
			"## Example 4.3: Example_2.sce"
		   ]
		  },
  {
"cell_type": "code",
	   "execution_count": null,
	   "metadata": {
	    "collapsed": true
	   },
	   "outputs": [],
"source": [
"clc\n",
"//Initialization of variables\n",
"angle =45 //degrees\n",
"p1=150*10^3 //N/m^2\n",
"Q=0.5 //m^3/s\n",
"d1=60 //cm\n",
"d2=30 //cm\n",
"rho=1000 //kg/m^3\n",
"g=9.81 //m/s^2\n",
"//calculations\n",
"V1=Q/(%pi/4 *(d1/100)^2)\n",
"V2=V1*(d1/d2)^2\n",
"P2=rho*g*(p1/(rho*g) + V1^2 /(2*g) -V2^2 /(2*g))\n",
"Rx=p1*%pi/4*(d1/100)^2 - P2*%pi/4 *(d2/100)^2 *cosd(angle) -rho*Q*(V2*cosd(angle) -V1)\n",
"Ry=P2*%pi/4 *(d2/100)^2 *sind(angle) + rho*Q*(V2*sind(angle))\n",
"R=sqrt(Rx^2 + Ry^2)\n",
"//results\n",
"printf('resultant force = %.2f kN',R/1000)"
   ]
   }
,
{
		   "cell_type": "markdown",
		   "metadata": {},
		   "source": [
			"## Example 4.4: Example_3.sce"
		   ]
		  },
  {
"cell_type": "code",
	   "execution_count": null,
	   "metadata": {
	    "collapsed": true
	   },
	   "outputs": [],
"source": [
"clc\n",
"//Initialization of variables\n",
"Q=20*10^3 //cc/s\n",
"depth=4 //m\n",
"d=5 //cm\n",
"g=9.81 //m/s^2\n",
"rho=10^3 //kg/m^3\n",
"//calculations\n",
"V1= Q/(%pi/4 *d^2) /100\n",
"V2= sqrt(2*g*(V1^2/(2*g) + depth))\n",
"W=rho*Q*(V2-V1)/10^6\n",
"//results\n",
"printf('weight of water = %d N',W)"
   ]
   }
,
{
		   "cell_type": "markdown",
		   "metadata": {},
		   "source": [
			"## Example 4.5: Example_4.sce"
		   ]
		  },
  {
"cell_type": "code",
	   "execution_count": null,
	   "metadata": {
	    "collapsed": true
	   },
	   "outputs": [],
"source": [
"clc\n",
"//Initialization of variables\n",
"g=9.81 //m/s^2\n",
"rho=10^3 //kg/m^3\n",
"V=50 //m/s\n",
"u=20 //m/s\n",
"A=6/10^4 //m^2\n",
"angle=180 //degrees\n",
"//calculations\n",
"Vr=V-u\n",
"rq=rho*A*Vr\n",
"Rx=-rq*(Vr*cosd(angle) - Vr)\n",
"Rx2=-rho*A*V*(Vr*cosd(angle) -Vr)\n",
"power=Rx2*u\n",
"//results\n",
"printf('Force exetred on fluid = %d N',Rx)\n",
"printf('\n Force transferred in case 2 = %d N',Rx2)\n",
"printf('\n Power transferred in case 2 = %d kW',power/1000)"
   ]
   }
,
{
		   "cell_type": "markdown",
		   "metadata": {},
		   "source": [
			"## Example 4.6: Example_5.sce"
		   ]
		  },
  {
"cell_type": "code",
	   "execution_count": null,
	   "metadata": {
	    "collapsed": true
	   },
	   "outputs": [],
"source": [
"clc\n",
"//Initialization of variables\n",
"g=9.81 //m/s^2\n",
"rho=10^3 //kg/m^3\n",
"Vr=10 //m/s\n",
"u=8.5 //m/s\n",
"A=250/10^4 //m^2\n",
"//calculations\n",
"V=Vr-u\n",
"Q=A*Vr\n",
"R=rho*Q*V\n",
"P=R*u\n",
"eth=1/(1+ V/(2*u))\n",
"//results\n",
"printf('Power required = %.3f kW',P/1000)\n",
"printf('\n Efficiency of jet propulsion = %.2f percent',eth*100)"
   ]
   }
,
{
		   "cell_type": "markdown",
		   "metadata": {},
		   "source": [
			"## Example 4.7: Example_6.sce"
		   ]
		  },
  {
"cell_type": "code",
	   "execution_count": null,
	   "metadata": {
	    "collapsed": true
	   },
	   "outputs": [],
"source": [
"clc\n",
"//Initialization of variables\n",
"g=9.81 //m/s^2\n",
"rho=10^3 //kg/m^3\n",
"v1=20 //m/s\n",
"v2=5 //m/s\n",
"r1=50/100 //cm\n",
"r2=30/100 //cm\n",
"a1=20 //degrees\n",
"a2=80 //degrees\n",
"N=300 //rpm\n",
"Q=5 //m^3/s\n",
"//calculations\n",
"u1=%pi*2*r1*N/60\n",
"u2=%pi*2*r2*N/60\n",
"T=rho*Q*(r1*v1*cosd(a1) - r2*v2*cosd(a2))\n",
"H=1/g *(u1*v1*cosd(a1) - u2*v2*cosd(a2))\n",
"power=rho*g*Q*H\n",
"//results\n",
"printf('torque = %d N m',T)\n",
"printf('\n Heat = %.1f m',H)\n",
"printf('\n Power = %d kW',power/10^3)\n",
"//The answers given in textbook are a bit different due to rounding off error"
   ]
   }
,
{
		   "cell_type": "markdown",
		   "metadata": {},
		   "source": [
			"## Example 4.8: Example_7.sce"
		   ]
		  },
  {
"cell_type": "code",
	   "execution_count": null,
	   "metadata": {
	    "collapsed": true
	   },
	   "outputs": [],
"source": [
"clc\n",
"//Initialization of variables\n",
"g=9.81 //m/s^2\n",
"rho=10^3 //kg/m^3\n",
"d1=0.05 //m\n",
"d2=0.3 //m\n",
"N=1800 //rpm\n",
"Q=0.425/60 //m^3/s\n",
"//calculations\n",
"u1=%pi*d1*N/60\n",
"u2=%pi*d2*N/60\n",
"T=rho*Q*(d2*u2 - d1*u1)/2\n",
"//results\n",
"printf('Torque supplied = %.1f Nm',T)"
   ]
   }
],
"metadata": {
		  "kernelspec": {
		   "display_name": "Scilab",
		   "language": "scilab",
		   "name": "scilab"
		  },
		  "language_info": {
		   "file_extension": ".sce",
		   "help_links": [
			{
			 "text": "MetaKernel Magics",
			 "url": "https://github.com/calysto/metakernel/blob/master/metakernel/magics/README.md"
			}
		   ],
		   "mimetype": "text/x-octave",
		   "name": "scilab",
		   "version": "0.7.1"
		  }
		 },
		 "nbformat": 4,
		 "nbformat_minor": 0
}
