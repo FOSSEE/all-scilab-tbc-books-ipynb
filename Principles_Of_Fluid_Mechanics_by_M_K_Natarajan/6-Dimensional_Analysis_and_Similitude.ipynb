{
"cells": [
 {
		   "cell_type": "markdown",
	   "metadata": {},
	   "source": [
       "# Chapter 6: Dimensional Analysis and Similitude"
	   ]
	},
{
		   "cell_type": "markdown",
		   "metadata": {},
		   "source": [
			"## Example 6.11: Example_11.sce"
		   ]
		  },
  {
"cell_type": "code",
	   "execution_count": null,
	   "metadata": {
	    "collapsed": true
	   },
	   "outputs": [],
"source": [
"clc\n",
"//Initialization of variables\n",
"dw=1000 //kg/m^3\n",
"muw=0.001 //N s /m^2\n",
"da=1.225 //kg/m^3\n",
"mua=18*10^-6 //N s /m^2\n",
"lr=1/10\n",
"//calculations\n",
"dr=da/dw\n",
"mur=mua/muw\n",
"vr=mur/dr\n",
"velocity= vr/lr\n",
"discharge =lr*vr\n",
"pressure = mur^2 /(dr*lr^2)\n",
"force = mur^2 /dr\n",
"//results\n",
"printf('Scale ratio for velocity = %d ',velocity)\n",
"printf('\nScale ratio for discharge = %.2f ',discharge)\n",
"printf('\nScale ratio for pressure = %.1f ',pressure)\n",
"printf('\nScale ratio for force = %.3f ',force)"
   ]
   }
,
{
		   "cell_type": "markdown",
		   "metadata": {},
		   "source": [
			"## Example 6.12: Example_12.sce"
		   ]
		  },
  {
"cell_type": "code",
	   "execution_count": null,
	   "metadata": {
	    "collapsed": true
	   },
	   "outputs": [],
"source": [
"clc\n",
"//Initialization of variables\n",
"dr=1000\n",
"mur=100\n",
"lr=1/10\n",
"dpm=60\n",
"//calculations\n",
"Vr=mur/dr/lr\n",
"dpr=dr*Vr^2\n",
"dpp=dpm/dpr\n",
"//results\n",
"printf('Pressure drop in prototype = %d N/m^2',dpp*10^3)"
   ]
   }
,
{
		   "cell_type": "markdown",
		   "metadata": {},
		   "source": [
			"## Example 6.14: Example_14.sce"
		   ]
		  },
  {
"cell_type": "code",
	   "execution_count": null,
	   "metadata": {
	    "collapsed": true
	   },
	   "outputs": [],
"source": [
"clc\n",
"//Initialization of variables\n",
"lr=1/25\n",
"Tp=6 //sec\n",
"dr=1/1.025\n",
"Fm=70 //N\n",
"//calculations\n",
"Tr=lr^(0.5)\n",
"Tm=Tr*Tp\n",
"Fr=dr*lr^3\n",
"Fp=Fm/Fr\n",
"//results\n",
"printf('Wave period = %.1f sec',Tm)\n",
"printf('Force = %.3f kN',Fp/1000)"
   ]
   }
,
{
		   "cell_type": "markdown",
		   "metadata": {},
		   "source": [
			"## Example 6.16: Example_16.sce"
		   ]
		  },
  {
"cell_type": "code",
	   "execution_count": null,
	   "metadata": {
	    "collapsed": true
	   },
	   "outputs": [],
"source": [
"clc\n",
"//Initialization of variables\n",
"lr=1/10\n",
"Vp=10 //knots\n",
"Fm=12 //N\n",
"//calculations\n",
"Vm=Vp*sqrt(lr)\n",
"Fp=Fm/lr^3\n",
"//results\n",
"printf('force = %.1f kN',Fp/1000)"
   ]
   }
,
{
		   "cell_type": "markdown",
		   "metadata": {},
		   "source": [
			"## Example 6.17: Example_17.sce"
		   ]
		  },
  {
"cell_type": "code",
	   "execution_count": null,
	   "metadata": {
	    "collapsed": true
	   },
	   "outputs": [],
"source": [
"clc\n",
"//Initialization of variables\n",
"lr=1/7200\n",
"//calculations\n",
"Tr=60/(12*3600)\n",
"yr=(lr/Tr)^2\n",
"//results\n",
"printf('vertical scale to be adopted is 1 in %d',1/yr)"
   ]
   }
],
"metadata": {
		  "kernelspec": {
		   "display_name": "Scilab",
		   "language": "scilab",
		   "name": "scilab"
		  },
		  "language_info": {
		   "file_extension": ".sce",
		   "help_links": [
			{
			 "text": "MetaKernel Magics",
			 "url": "https://github.com/calysto/metakernel/blob/master/metakernel/magics/README.md"
			}
		   ],
		   "mimetype": "text/x-octave",
		   "name": "scilab",
		   "version": "0.7.1"
		  }
		 },
		 "nbformat": 4,
		 "nbformat_minor": 0
}
