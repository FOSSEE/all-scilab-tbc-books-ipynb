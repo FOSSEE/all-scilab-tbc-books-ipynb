{
"cells": [
 {
		   "cell_type": "markdown",
	   "metadata": {},
	   "source": [
       "# Chapter 9: Potential Flow"
	   ]
	},
{
		   "cell_type": "markdown",
		   "metadata": {},
		   "source": [
			"## Example 9.14: Example_14.sce"
		   ]
		  },
  {
"cell_type": "code",
	   "execution_count": null,
	   "metadata": {
	    "collapsed": true
	   },
	   "outputs": [],
"source": [
"clc\n",
"//Initialization of variables\n",
"T=4.5\n",
"a=0.6\n",
"u=5 //m/s\n",
"rho=1000 //kg/m^3\n",
"//calculations\n",
"sint=0.5*(1- T/(2*%pi*a*u))\n",
"theta= asind(sint)\n",
"dp= 0.5*rho*u^2 *(1 - (2 + T/(2*%pi*a*u))^2)\n",
"//results\n",
"printf('Angle = %.1f %.1f degrees',theta,180-theta)\n",
"printf('\n Min guage pressure = %.2f kN/m^2',dp/1000)\n",
"//The answer in textbook is wrong. please check"
   ]
   }
,
{
		   "cell_type": "markdown",
		   "metadata": {},
		   "source": [
			"## Example 9.15: Example_15.sce"
		   ]
		  },
  {
"cell_type": "code",
	   "execution_count": null,
	   "metadata": {
	    "collapsed": true
	   },
	   "outputs": [],
"source": [
"clc\n",
"//Initialization of variables\n",
"T=6*%pi\n",
"r=1/3\n",
"//calculations\n",
"vab=T/(4*%pi)\n",
"vba= T/(2*%pi)\n",
"w=vab/r\n",
"//results\n",
"printf('rate of rotation = %.1f rad/s',w)\n",
"printf('\nspeed of A by B = %.1f m/s',vab)\n",
"printf('\nspeed of B by A = %.1f m/s',vba)"
   ]
   }
,
{
		   "cell_type": "markdown",
		   "metadata": {},
		   "source": [
			"## Example 9.4: Example_4.sce"
		   ]
		  },
  {
"cell_type": "code",
	   "execution_count": null,
	   "metadata": {
	    "collapsed": true
	   },
	   "outputs": [],
"source": [
"clc\n",
"//Initialization of variables\n",
"k=1.5\n",
"r=40 //cm\n",
"theta=45 //degrees\n",
"//calculations\n",
"vr= -2*k*r*cosd(2*theta)\n",
"vt= 2*k*r*sind(2*theta)\n",
"//results\n",
"printf('velocity in radial direction = %d cm/s',vr)\n",
"printf('\n velcoity in angular direction = %d cm/s',vt)"
   ]
   }
],
"metadata": {
		  "kernelspec": {
		   "display_name": "Scilab",
		   "language": "scilab",
		   "name": "scilab"
		  },
		  "language_info": {
		   "file_extension": ".sce",
		   "help_links": [
			{
			 "text": "MetaKernel Magics",
			 "url": "https://github.com/calysto/metakernel/blob/master/metakernel/magics/README.md"
			}
		   ],
		   "mimetype": "text/x-octave",
		   "name": "scilab",
		   "version": "0.7.1"
		  }
		 },
		 "nbformat": 4,
		 "nbformat_minor": 0
}
