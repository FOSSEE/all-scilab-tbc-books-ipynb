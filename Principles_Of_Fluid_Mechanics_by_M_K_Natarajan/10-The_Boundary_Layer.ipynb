{
"cells": [
 {
		   "cell_type": "markdown",
	   "metadata": {},
	   "source": [
       "# Chapter 10: The Boundary Layer"
	   ]
	},
{
		   "cell_type": "markdown",
		   "metadata": {},
		   "source": [
			"## Example 10.1: Example_1.sce"
		   ]
		  },
  {
"cell_type": "code",
	   "execution_count": null,
	   "metadata": {
	    "collapsed": true
	   },
	   "outputs": [],
"source": [
"clc\n",
"//Initialization of variables\n",
"v=30 //m/s\n",
"nu=1.5e-5 //m^2/s\n",
"//calculations\n",
"Re=5*10^5\n",
"xc= Re*nu/v\n",
"//results\n",
"printf('Transistion region = %.2f m',xc)"
   ]
   }
,
{
		   "cell_type": "markdown",
		   "metadata": {},
		   "source": [
			"## Example 10.2: Example_2.sce"
		   ]
		  },
  {
"cell_type": "code",
	   "execution_count": null,
	   "metadata": {
	    "collapsed": true
	   },
	   "outputs": [],
"source": [
"clc\n",
"//Initialization of variables\n",
"u=2 //m/s\n",
"x=0.15 //m\n",
"nu=1.5e-5 //m^2/s\n",
"B=0.5 //m\n",
"rho=1.22 //kg/m^3\n",
"//calcualtions\n",
"Rx=u*x/nu\n",
"delta= 4.91*x/sqrt(Rx)\n",
"deltas=1.729*x/sqrt(Rx)\n",
"Cf=1.328/sqrt(Rx)\n",
"Ff=Cf*0.5*rho*u^2 *2*B*x\n",
"//results\n",
"printf('Boundary layer thickness = %.2f cm',delta*100)\n",
"printf('\n Displacement thickness = %.2f cm',deltas*100)\n",
"printf('\n Average drag coeffcient = %.4f',Cf)\n",
"printf('\n Drag force = %.4f N',Ff)"
   ]
   }
,
{
		   "cell_type": "markdown",
		   "metadata": {},
		   "source": [
			"## Example 10.5: Example_5.sce"
		   ]
		  },
  {
"cell_type": "code",
	   "execution_count": null,
	   "metadata": {
	    "collapsed": true
	   },
	   "outputs": [],
"source": [
"clc\n",
"//Initialization of variables\n",
"U=172*1000/3600 //m/s\n",
"w=3 //m\n",
"h=3 //m\n",
"L=100 //m\n",
"nu=1.5e-5 //m^2/s\n",
"rho=1.22 //kg/m^3\n",
"//calculations\n",
"Rl=U*L/nu\n",
"Cf=0.074 /(Rl^(1/5))\n",
"Ff=Cf*0.5*rho*U^2 *w*h*L\n",
"power= Ff*U\n",
"//results\n",
"printf('power required = %.1f kW',power/1000)\n",
"//The answer is a bit different due to rounding off error"
   ]
   }
,
{
		   "cell_type": "markdown",
		   "metadata": {},
		   "source": [
			"## Example 10.6: Example_6.sce"
		   ]
		  },
  {
"cell_type": "code",
	   "execution_count": null,
	   "metadata": {
	    "collapsed": true
	   },
	   "outputs": [],
"source": [
"clc\n",
"//Initialization of variables\n",
"U=4000 //m/s\n",
"L=8 //m\n",
"nu=3600e-6 //m^2/s\n",
"rho=1000 //kg/m^3\n",
"b=5 //m\n",
"//calculations\n",
"Rl=U*L/nu\n",
"Cf= 0.074/Rl^(1/5) -1700/Rl\n",
"Ff=Cf*0.5*rho*(U/3600)^2 *L*b\n",
"//results\n",
"printf('Skin friction drag = %.2f N',Ff)"
   ]
   }
],
"metadata": {
		  "kernelspec": {
		   "display_name": "Scilab",
		   "language": "scilab",
		   "name": "scilab"
		  },
		  "language_info": {
		   "file_extension": ".sce",
		   "help_links": [
			{
			 "text": "MetaKernel Magics",
			 "url": "https://github.com/calysto/metakernel/blob/master/metakernel/magics/README.md"
			}
		   ],
		   "mimetype": "text/x-octave",
		   "name": "scilab",
		   "version": "0.7.1"
		  }
		 },
		 "nbformat": 4,
		 "nbformat_minor": 0
}
