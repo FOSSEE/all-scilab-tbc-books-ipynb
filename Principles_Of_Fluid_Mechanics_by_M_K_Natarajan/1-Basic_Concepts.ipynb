{
"cells": [
 {
		   "cell_type": "markdown",
	   "metadata": {},
	   "source": [
       "# Chapter 1: Basic Concepts"
	   ]
	},
{
		   "cell_type": "markdown",
		   "metadata": {},
		   "source": [
			"## Example 1.1: Example_1.sce"
		   ]
		  },
  {
"cell_type": "code",
	   "execution_count": null,
	   "metadata": {
	    "collapsed": true
	   },
	   "outputs": [],
"source": [
"clc \n",
"//Initialization of variables\n",
"weight = 9800 //Kg\n",
"g=9.81  //m/s^2\n",
"a=2 //m/s^2\n",
"//calculations\n",
"m=weight/g\n",
"Wm=m*a\n",
"//results\n",
"printf('Density on earth =%.2f Kg/m^3',m)\n",
"printf('\n Weight on moon = %.2f N',Wm)\n",
"printf('\n Density on moon remains unchanged and is equal to %.2f Kg/m^3',m)"
   ]
   }
,
{
		   "cell_type": "markdown",
		   "metadata": {},
		   "source": [
			"## Example 1.2: Example_2.sce"
		   ]
		  },
  {
"cell_type": "code",
	   "execution_count": null,
	   "metadata": {
	    "collapsed": true
	   },
	   "outputs": [],
"source": [
"clc \n",
"//Initialization of variables\n",
"w=150 //N\n",
"theta=30 //degrees\n",
"l=0.8 //m\n",
"b=0.8 //m\n",
"dy=0.12 //cm\n",
"v=20 //cm/s\n",
"//calculations\n",
"Tau=w*sind(theta) /(l*b)\n",
"rd=v/dy\n",
"vis=Tau/rd\n",
"//results\n",
"printf('Viscosity of the fluid = %.2f N s/m^2',vis)"
   ]
   }
,
{
		   "cell_type": "markdown",
		   "metadata": {},
		   "source": [
			"## Example 1.3: Example_3.sce"
		   ]
		  },
  {
"cell_type": "code",
	   "execution_count": null,
	   "metadata": {
	    "collapsed": true
	   },
	   "outputs": [],
"source": [
"clc \n",
"clear\n",
"//Initialization of variables\n",
"vis=2.5/10 //N s/m^2\n",
"D=15 //cm\n",
"N=180\n",
"dy=0.0001 //m\n",
"l=0.15 //m\n",
"b=0.25 //m\n",
"r=0.152 //m\n",
"//calculations\n",
"dv=%pi *D*N/60/100\n",
"Tau=vis*dv/dy\n",
"Tor=Tau*%pi*l*b*r/2\n",
"P=Tor*2*%pi*N/60\n",
"//results\n",
"printf('Power required = %d W',P)\n",
"disp('The answer is a bit different due to rounding off error in textbook.')"
   ]
   }
,
{
		   "cell_type": "markdown",
		   "metadata": {},
		   "source": [
			"## Example 1.4: Example_4.sce"
		   ]
		  },
  {
"cell_type": "code",
	   "execution_count": null,
	   "metadata": {
	    "collapsed": true
	   },
	   "outputs": [],
"source": [
"clc \n",
"//Initialization of variables\n",
"w=1 //rad/s\n",
"T=0.4 //N/m^2\n",
"//calculations\n",
"mu=T/tan(w)\n",
"//results\n",
"printf('Viscosity = %.2f N s/m^2',mu)"
   ]
   }
,
{
		   "cell_type": "markdown",
		   "metadata": {},
		   "source": [
			"## Example 1.6: Example_5.sce"
		   ]
		  },
  {
"cell_type": "code",
	   "execution_count": null,
	   "metadata": {
	    "collapsed": true
	   },
	   "outputs": [],
"source": [
"clc \n",
"//Initialization of variables\n",
"d=0.05*10^-3 //m\n",
"T=72*10^-3 //N/m\n",
"P=101 //kN/m^2\n",
"//calculations\n",
"Pi=P*1000 + 2*T/(d/2)\n",
"//results\n",
"printf('Pressure = %.2f kN/m^2',Pi/1000)"
   ]
   }
,
{
		   "cell_type": "markdown",
		   "metadata": {},
		   "source": [
			"## Example 1.7: Example_6.sce"
		   ]
		  },
  {
"cell_type": "code",
	   "execution_count": null,
	   "metadata": {
	    "collapsed": true
	   },
	   "outputs": [],
"source": [
"clc \n",
"//Initialization of variables\n",
"gam=981 //dyn/cm^2\n",
"sigma=72 //dyn/cm\n",
"theta=0 //degrees\n",
"d=0.5 //cm\n",
"depth=90 //cm\n",
"//calculations\n",
"h=4*sigma*cosd(theta) /(gam*d)\n",
"Td=depth-h\n",
"//results\n",
"printf('True depth = %.3f cm',Td)"
   ]
   }
],
"metadata": {
		  "kernelspec": {
		   "display_name": "Scilab",
		   "language": "scilab",
		   "name": "scilab"
		  },
		  "language_info": {
		   "file_extension": ".sce",
		   "help_links": [
			{
			 "text": "MetaKernel Magics",
			 "url": "https://github.com/calysto/metakernel/blob/master/metakernel/magics/README.md"
			}
		   ],
		   "mimetype": "text/x-octave",
		   "name": "scilab",
		   "version": "0.7.1"
		  }
		 },
		 "nbformat": 4,
		 "nbformat_minor": 0
}
