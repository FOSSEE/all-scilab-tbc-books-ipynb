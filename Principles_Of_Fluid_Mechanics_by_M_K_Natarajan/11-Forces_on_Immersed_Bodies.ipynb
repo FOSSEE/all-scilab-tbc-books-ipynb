{
"cells": [
 {
		   "cell_type": "markdown",
	   "metadata": {},
	   "source": [
       "# Chapter 11: Forces on Immersed Bodies"
	   ]
	},
{
		   "cell_type": "markdown",
		   "metadata": {},
		   "source": [
			"## Example 11.1: Example_1.sce"
		   ]
		  },
  {
"cell_type": "code",
	   "execution_count": null,
	   "metadata": {
	    "collapsed": true
	   },
	   "outputs": [],
"source": [
"clc\n",
"//Initialization of variables\n",
"d=1.2 //m\n",
"w=1 //m\n",
"U=60*1000/3600 //m/s\n",
"nu=1.5e-5 //m^2/s\n",
"Cd=0.4\n",
"rho=1.22 //kg/m^3\n",
"//calculations\n",
"Rn=U*d/nu\n",
"A=d*w\n",
"Fd= Cd*0.5*rho*U^2 *A\n",
"M= 0.5*Fd\n",
"//results\n",
"printf('Bending moment = %.2f h^2 N m',M)"
   ]
   }
,
{
		   "cell_type": "markdown",
		   "metadata": {},
		   "source": [
			"## Example 11.2: Example_2.sce"
		   ]
		  },
  {
"cell_type": "code",
	   "execution_count": null,
	   "metadata": {
	    "collapsed": true
	   },
	   "outputs": [],
"source": [
"clc\n",
"//Initialization of variables\n",
"d=0.006 //m\n",
"U=0.01 //m/s\n",
"gaml=8000 //N/m^3\n",
"gams=7.9*10^3 *9.81\n",
"mu=13.9 \n",
"//calculations\n",
"mu= d^2 /18 *(gams - gaml)/U\n",
"RN= U*d*(gaml/9.81) /mu\n",
"//results\n",
"printf('Viscosity of oil = %.1f Ns /m^2',mu)"
   ]
   }
,
{
		   "cell_type": "markdown",
		   "metadata": {},
		   "source": [
			"## Example 11.3: Example_3.sce"
		   ]
		  },
  {
"cell_type": "code",
	   "execution_count": null,
	   "metadata": {
	    "collapsed": true
	   },
	   "outputs": [],
"source": [
"\n",
"clc\n",
"//Initialization of variables\n",
"s=2.7\n",
"gamw=9810 //N/m^3\n",
"mu=0.001 //Ns/m^2\n",
"d=0.15*10^-3 //m\n",
"rho=1000 //kg/m^3\n",
"//calculations\n",
"gams=s*gamw\n",
"U= d^2 *(gams-gamw)/(18*mu)\n",
"RN= U*d*rho/mu\n",
"Cd = (1+ 3/16 *RN)^0.5 *(24/RN)\n",
"U22 = 4/3 *d*(gams-gamw) /(Cd*rho)\n",
"U2=sqrt(U22)\n",
"//results\n",
"printf('Settling velocity of sand in case 1  = %.2f m/s',U)\n",
"printf('\n Settling velocity of sand in case 2 = %.4f m/s',U2)\n",
"//The answer is a bit different due to rounding off error."
   ]
   }
,
{
		   "cell_type": "markdown",
		   "metadata": {},
		   "source": [
			"## Example 11.4: Example_4.sce"
		   ]
		  },
  {
"cell_type": "code",
	   "execution_count": null,
	   "metadata": {
	    "collapsed": true
	   },
	   "outputs": [],
"source": [
"clc\n",
"//Initialization of variables\n",
"A=2 //m^2\n",
"U=100*1000/3600 //m/s\n",
"Cd=0.32\n",
"rho=1.24\n",
"//calculations\n",
"Fd= Cd*0.5*rho*U^2 *A\n",
"P= Fd*U\n",
"//results\n",
"printf('Power required = %.1f kW',P/1000)"
   ]
   }
,
{
		   "cell_type": "markdown",
		   "metadata": {},
		   "source": [
			"## Example 11.5: Example_5.sce"
		   ]
		  },
  {
"cell_type": "code",
	   "execution_count": null,
	   "metadata": {
	    "collapsed": true
	   },
	   "outputs": [],
"source": [
"clc\n",
"//Initialization of variables\n",
"ratio=0.15\n",
"//calculations\n",
"VU= (1/(1-ratio))^(1/3)\n",
"percent= (VU-1)*100\n",
"//results\n",
"printf('percent increase in speed = %.1f ',percent)"
   ]
   }
,
{
		   "cell_type": "markdown",
		   "metadata": {},
		   "source": [
			"## Example 11.6: Example_6.sce"
		   ]
		  },
  {
"cell_type": "code",
	   "execution_count": null,
	   "metadata": {
	    "collapsed": true
	   },
	   "outputs": [],
"source": [
"clc\n",
"//Initialization of variables\n",
"U=50*1000/3600 //m/s\n",
"cd1=0.34\n",
"cd2=1.33\n",
"//calculations\n",
"disp('On solving for both convex and concave surfaces,')\n",
"w=18.26 //m/s\n",
"N=w/(2*%pi) *60\n",
"//results\n",
"printf('rotational speed = %.1f rpm',N)"
   ]
   }
],
"metadata": {
		  "kernelspec": {
		   "display_name": "Scilab",
		   "language": "scilab",
		   "name": "scilab"
		  },
		  "language_info": {
		   "file_extension": ".sce",
		   "help_links": [
			{
			 "text": "MetaKernel Magics",
			 "url": "https://github.com/calysto/metakernel/blob/master/metakernel/magics/README.md"
			}
		   ],
		   "mimetype": "text/x-octave",
		   "name": "scilab",
		   "version": "0.7.1"
		  }
		 },
		 "nbformat": 4,
		 "nbformat_minor": 0
}
