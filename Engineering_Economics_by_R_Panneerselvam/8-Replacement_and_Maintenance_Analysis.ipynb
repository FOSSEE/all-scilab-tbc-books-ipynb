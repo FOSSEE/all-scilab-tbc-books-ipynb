{
"cells": [
 {
		   "cell_type": "markdown",
	   "metadata": {},
	   "source": [
       "# Chapter 8: Replacement and Maintenance Analysis"
	   ]
	},
{
		   "cell_type": "markdown",
		   "metadata": {},
		   "source": [
			"## Example 8.10: Find_Optimum_Replacement_plan.sce"
		   ]
		  },
  {
"cell_type": "code",
	   "execution_count": null,
	   "metadata": {
	    "collapsed": true
	   },
	   "outputs": [],
"source": [
"//Exa 8.10\n",
"clc;\n",
"clear;\n",
"close;\n",
"//Given data : \n",
"p1=(100-96)/100;//unitless\n",
"p2=(96-89)/100;//unitless\n",
"p3=(89-68)/100;//unitless\n",
"p4=(68-37)/100;//unitless\n",
"p5=(37-13)/100;//unitless\n",
"p6=(13-0)/100;//unitless\n",
"N0=1000;//no. of resistors\n",
"N1=N0*p1;//no. of resistors\n",
"N2=N0*p2+N1*p1;//no. of resistors\n",
"N3=N0*p3+N1*p2+N2*p1;//no. of resistors\n",
"N4=N0*p4+N1*p3+N2*p2+N3*p1;//no. of resistors\n",
"N5=N0*p5+N1*p4+N2*p3+N3*p2+N4*p1;//no. of resistors\n",
"N6=N0*p6+N1*p5+N2*p4+N3*p3+N4*p2+N5*p1    ;//no. of resistors\n",
"//Calculation of individual replacement cost\n",
"Life=0;//in months\n",
"p=[p1 p2 p3 p4 p5 p6];//Unitless\n",
"for i=1:6\n",
"    Life=Life+i*p(i);\n",
"end\n",
"disp(Life,'Expected life of each transistor in months : ')\n",
"disp(round(1000/Life),'Average No. of failures/month :  ');\n",
"disp(round(1000/Life)*10,'Therefore, cost of individual replacement in Rs. : ')\n",
"\n",
"\n",
"//Calculation of group replacement cost\n",
"disp('Cost/transistor when replaced simultaneously = Rs. 4');\n",
"disp('Cost/transistor when replaced individually = Rs. 10');\n",
"disp('The cost of group replacement policy for several replacement periods are summarized in Table 8.7. This table can be seen from the book.');\n",
"disp('From table it is clear that the avg cost/month is minimum for the 3rd month. Hence, the group replacement period is 3 months.');\n",
"disp('Individual replacement cost/month = Rs. 2480');\n",
"disp('Minimum group replacement ost/month = Rs. 2426.67');\n",
"disp('Since the min group replacement cost/month is less than the individual replacement cost/month, the group replacement policy is the best, and hence all the transistors should be replaced in 3 months.')"
   ]
   }
,
{
		   "cell_type": "markdown",
		   "metadata": {},
		   "source": [
			"## Example 8.1: When_should_equipment_be_replaced.sce"
		   ]
		  },
  {
"cell_type": "code",
	   "execution_count": null,
	   "metadata": {
	    "collapsed": true
	   },
	   "outputs": [],
"source": [
"//Exa 8.1\n",
"clc;\n",
"clear;\n",
"close;\n",
"//given data :\n",
"//When i=0%\n",
"disp('When i = 0% :');\n",
"FC=4000;//in Rs.\n",
"i=0;//in % per annum\n",
"MC1=0;//in Rs.\n",
"disp('Tabulation to determine economic life : ');\n",
"disp('End of     Maintenance     Summation of     Avg cost of     Avg FC if     Avg total');\n",
"disp(' year      cost at end     maintenance      maintenance    replaced at    cost through');\n",
"disp('             of year         costs          through year    year given    year given');\n",
"disp('  A           B(Rs.)        C(Rs.)             D(Rs.)        E(Rs.)        F(Rs.)');\n",
"disp('  1            0                0                 0          4000          4000');\n",
"disp('  2          200              200               100          2000          2100');\n",
"disp('  3          400              600               200       1333.33       1533.33');\n",
"disp('  4          600             1200               300          1000          1300');\n",
"disp('  5          800             2000               400           800          1200');\n",
"disp('  6         1000             3000               500        666.67       1166.67');\n",
"disp('  7         1200             4200               600        571.43       1171.43');\n",
"disp('Economic life of the machine : 6 years');\n",
"disp('Column C summarizes the summation of maintenance costs for each replacement period. The value corresponding to any end of year in this column represents the total maintenance costs of using the equipment till the end of that year. It gives the Economic life of the machine : 6 years');\n",
"\n",
"//When i=12%\n",
"disp('When i = 12% :');\n",
"i=12;//in % per annum\n",
"FC=4000;//in Rs.\n",
"disp('Tabulation to determine economic life : ');\n",
"disp('End of     Maintenance         P/F       PW as of begin   Summation of    PW of        A/P     Annual equi');\n",
"disp(' year      cost at end        12%         of year of         PW of      cumulative     12%     total cost');\n",
"disp('             of year           n          maintenance     maintenance   maintenance     n       of year');\n",
"disp('  A           B(Rs.)        C(Rs.)             D(Rs.)        E(Rs.)        F(Rs.)    G(rs.)      H(rs.)');\n",
"disp('  1            0           0.8929              0.00          0.00       4000.00     1.1200     4480.00');\n",
"disp('  2          200           0.7972            159.44        159.44       4159.44     0.5917     2461.14');\n",
"disp('  3          400           0.7118            284.72        444.16       4444.16     0.4163     1850.10');\n",
"disp('  4          600           0.6355            381.30        825.46       4825.46     0.3292     1588.54');\n",
"disp('  5          800           0.5674            453.92       1279.38       5279.38     0.2774     1464.50');\n",
"disp('  6         1000           0.5066            506.60       1785.98       5785.98     0.2432     1407.15');\n",
"disp('  7         1200           0.4524            542.88       2328.86       6328.86     0.2191     1386.65');\n",
"disp('  8         1400           0.4039            565.46       2894.32       6894.32     0.2013     1387.83');\n",
"disp('  9         1600           0.3606            576.96       3471.28       7471.28     0.1877     1402.36');\n",
"disp(' 10         1800           0.3220            579.60       4050.88       8050.88     0.1770     1425.00');\n",
"disp('Economic life of the machine : 7 years');\n",
"disp('For this problem, the annual equivalent total cost is minimum at the end of year 7. Therefore, the economic life of the equipment is 7 year.');"
   ]
   }
,
{
		   "cell_type": "markdown",
		   "metadata": {},
		   "source": [
			"## Example 8.2: Find_Economic_Life.sce"
		   ]
		  },
  {
"cell_type": "code",
	   "execution_count": null,
	   "metadata": {
	    "collapsed": true
	   },
	   "outputs": [],
"source": [
"//Exa 8.2\n",
"clc;\n",
"clear;\n",
"close;\n",
"//Given data :\n",
"FC=20000;//in Rs.\n",
"i=15;//in % per annum\n",
"disp('The other details are summarized in Table 8.3. It can be seen from the book.');\n",
"disp('Total annual equivalent cost = [cumulative sum of PW as of beginning of year 1 of operation & maintenance cost + FC - PW as of beginning of year 1 of salvage]*(A/P,15,n)');\n",
"disp('In column L, the annual equivalent cost is minimum for n=5. Therefore, the economic life of the machine is 5 years. ');"
   ]
   }
,
{
		   "cell_type": "markdown",
		   "metadata": {},
		   "source": [
			"## Example 8.3: Determine_Economic_Life.sce"
		   ]
		  },
  {
"cell_type": "code",
	   "execution_count": null,
	   "metadata": {
	    "collapsed": true
	   },
	   "outputs": [],
"source": [
"//Exa 8.3\n",
"clc;\n",
"clear;\n",
"close;\n",
"//Given data :\n",
"FC=20000;//in Rs.\n",
"i=15;//in % per annum\n",
"disp('The details are summarized in Table 8.4. It can be seen from the book.');\n",
"disp('Total annual equivalent cost = [summation of PW of maintenance cost + FC]]*(A/P,15,n)');\n",
"disp('(column E + Rs. 6000)* Column G');\n",
"disp('Column F * Column G');\n",
"disp('In column H, the minimum annual equivalent cost occurs when n=8. Therefore, the economic life of the machine B is 8 years. ');\n",
"disp('RESULT : Min annual equivalent cost for machine A : Rs. 2780');\n",
"disp('Min annual equivalent cost for machine B : Rs. 3672.30');"
   ]
   }
,
{
		   "cell_type": "markdown",
		   "metadata": {},
		   "source": [
			"## Example 8.4: Is_it_worth_replacing_the_present_machine.sce"
		   ]
		  },
  {
"cell_type": "code",
	   "execution_count": null,
	   "metadata": {
	    "collapsed": true
	   },
	   "outputs": [],
"source": [
"//Exa 8.4\n",
"clc;\n",
"clear;\n",
"close;\n",
"//Alternative 1: Present machine :\n",
"Pprice=200000;//in Rs\n",
"P=120000;//in Rs\n",
"F=25000;//in Rs\n",
"A=25000;//in Rs\n",
"i=12;//in % per annum\n",
"n=6;//in years\n",
"//Formula : (A/P,i,n) : ((i/100)*(1+i/100)^n)/(((1+i/100)^n)-1) \n",
"AE1=(P-F)*((i/100)*(1+i/100)^n)/(((1+i/100)^n)-1)+F*i/100+A;//in RS\n",
"disp(AE1,'The annual equivalent cost(AE(12%)) of this alternative in RS. : ');\n",
"\n",
"//Alternative 2: New machine :\n",
"P=150000;//in Rs\n",
"F=20000;//in Rs\n",
"A=14000;//in Rs\n",
"i=12;//in % per annum\n",
"n=6;//in years\n",
"//Formula : (A/P,i,n) : ((i/100)*(1+i/100)^n)/(((1+i/100)^n)-1) \n",
"AE2=(P-F)*((i/100)*(1+i/100)^n)/(((1+i/100)^n)-1)+F*i/100+A;//in RS\n",
"disp(AE2,'The annual equivalent cost(AE(12%)) of this alternative in RS. : ');\n",
"disp('Since, The equivalent cost of new machine is less than that of present machine, it is suggested that the present machine be replaced with the new machine.');"
   ]
   }
,
{
		   "cell_type": "markdown",
		   "metadata": {},
		   "source": [
			"## Example 8.5: Whether_to_keep_or_replace_old_engine.sce"
		   ]
		  },
  {
"cell_type": "code",
	   "execution_count": null,
	   "metadata": {
	    "collapsed": true
	   },
	   "outputs": [],
"source": [
"//Exa 8.5\n",
"clc;\n",
"clear;\n",
"close;\n",
"//Alternative 1: Old deisel Engine :\n",
"Pprice=50000;//in Rs\n",
"P=15000;//in Rs\n",
"F=8000;//in Rs\n",
"A=14000;//in Rs\n",
"i=15;//in % per annum\n",
"n=5;//in years\n",
"//Formula : (A/P,i,n) : ((i/100)*(1+i/100)^n)/(((1+i/100)^n)-1) \n",
"AE1=(P-F)*((i/100)*(1+i/100)^n)/(((1+i/100)^n)-1)+F*i/100+A;//in RS\n",
"disp(AE1,'The annual equivalent cost(AE(15%)) of this alternative in RS. : ');\n",
"\n",
"//Alternative 2: New deisel Engine :\n",
"P=65000;//in Rs\n",
"F=13000;//in Rs\n",
"A=9000;//in Rs\n",
"i=15;//in % per annum\n",
"n=20;//in years\n",
"//Formula : (A/P,i,n) : ((i/100)*(1+i/100)^n)/(((1+i/100)^n)-1) \n",
"AE2=(P-F)*((i/100)*(1+i/100)^n)/(((1+i/100)^n)-1)+F*i/100+A;//in RS\n",
"disp(AE2,'The annual equivalent cost(AE(15%)) of this alternative in RS. : ');\n",
"disp('Since, The equivalent cost of Old deisel Engine is less than that of New deisel Engine, it is suggested to keep the Old deisel Engine.');"
   ]
   }
,
{
		   "cell_type": "markdown",
		   "metadata": {},
		   "source": [
			"## Example 8.6: Recommend_about_Reinforce_or_Replace_existing_Bridge.sce"
		   ]
		  },
  {
"cell_type": "code",
	   "execution_count": null,
	   "metadata": {
	    "collapsed": true
	   },
	   "outputs": [],
"source": [
"//Exa 8.6\n",
"clc;\n",
"clear;\n",
"close;\n",
"//Alternative 1: Reinforce the existing bridge\n",
"disp('Alternative 1: Reinforce the existing bridge.');\n",
"P=660000;//in Rs\n",
"F=400000;//in Rs\n",
"A=96000;//in Rs\n",
"i=10;//in % per annum\n",
"n=5;//in years\n",
"//Formula : (A/P,i,n) : ((i/100)*(1+i/100)^n)/(((1+i/100)^n)-1) \n",
"AE1=(P-F)*((i/100)*(1+i/100)^n)/(((1+i/100)^n)-1)+F*i/100+A;//in RS\n",
"disp(AE1,'The annual equivalent cost(AE(10%)) of this alternative in RS. : ');\n",
"\n",
"//Alternative 2: Replace the existing bridge by a new prestressed concrete bridge\n",
"disp('Alternative 2: Replace the existing bridge by a new prestressed concrete bridge.');\n",
"P=150000;//in Rs\n",
"X=420000;//in Rs\n",
"i=10;//in % per annum\n",
"n=40;//in years\n",
"//Formula : (A/P,i,n) : ((i/100)*(1+i/100)^n)/(((1+i/100)^n)-1) \n",
"AE2=(P-X)*((i/100)*(1+i/100)^n)/(((1+i/100)^n)-1)+F*i/100+A;//in RS\n",
"disp(AE2,'The annual equivalent cost(AE(10%)) of this alternative in RS. : ');\n",
"disp('Since, The equivalent cost of alternative 2 is less than that of alternative 1, it is suggested that alternative 2 should be selected.');\n",
"//Note  : calculations in the book is not accurate."
   ]
   }
,
{
		   "cell_type": "markdown",
		   "metadata": {},
		   "source": [
			"## Example 8.7: Find_Best_Alternative.sce"
		   ]
		  },
  {
"cell_type": "code",
	   "execution_count": null,
	   "metadata": {
	    "collapsed": true
	   },
	   "outputs": [],
"source": [
"//Exa 8.7\n",
"clc;\n",
"clear;\n",
"close;\n",
"//Alternative 1: Augmenting the present 10 hp motor with an additional 5 hp motor\n",
"disp('Alternative 1: Augmenting the present 10 hp motor with an additional 5 hp motor.');\n",
"//Calculation of annual equivalent cost of 10 hp motor\n",
"P=10000;//in Rs\n",
"F=1500;//in Rs\n",
"A=1600;//in Rs\n",
"i=15;//in % per annum\n",
"n=7;//in years\n",
"//Formula : (A/P,i,n) : ((i/100)*(1+i/100)^n)/(((1+i/100)^n)-1) \n",
"AE1=(P-F)*((i/100)*(1+i/100)^n)/(((1+i/100)^n)-1)+F*i/100+A;//in RS\n",
"disp(AE1,'The annual equivalent cost(AE(10%)) of 10 hp motor  in RS. : ');\n",
"\n",
"//Calculation of annual equivalent cost of 5 hp motor\n",
"P=10000;//in Rs\n",
"F=800;//in Rs\n",
"A=1000;//in Rs\n",
"i=15;//in % per annum\n",
"n=7;//in years\n",
"//Formula : (A/P,i,n) : ((i/100)*(1+i/100)^n)/(((1+i/100)^n)-1) \n",
"AE2=(P-F)*((i/100)*(1+i/100)^n)/(((1+i/100)^n)-1)+F*i/100+A;//in RS\n",
"disp(AE2,'The annual equivalent cost(AE(10%)) of 10 hp motor  in RS. : ');\n",
"disp(AE1+AE2,'Total annual equivalent cost of alternative in Rs. : ');\n",
"\n",
"\n",
"//Alternative 2: Replacing the present 10 hp motor with a new 15 hp motor\n",
"disp('Alternative 2: Replacing the present 10 hp motor with a new 15 hp motor.');\n",
"P=35000;//in Rs\n",
"F=4000;//in Rs\n",
"A=500;//in Rs\n",
"i=15;//in % per annum\n",
"n=7;//in years\n",
"//Formula : (A/P,i,n) : ((i/100)*(1+i/100)^n)/(((1+i/100)^n)-1) \n",
"AE=(P-F)*((i/100)*(1+i/100)^n)/(((1+i/100)^n)-1)+F*i/100+A;//in RS\n",
"disp(AE,'The annual equivalent cost of alternative 2 in RS. : ');\n",
"disp('Since, The equivalent cost of alternative 1 is less than that of alternative 2, it is suggested that the present 10 hp motor be augmented with an additional 5 hp motor.');\n",
"//Note  : calculations in the book is not accurate."
   ]
   }
,
{
		   "cell_type": "markdown",
		   "metadata": {},
		   "source": [
			"## Example 8.8: Find_Comparative_use_value.sce"
		   ]
		  },
  {
"cell_type": "code",
	   "execution_count": null,
	   "metadata": {
	    "collapsed": true
	   },
	   "outputs": [],
"source": [
"//Exa 8.8\n",
"clc;\n",
"clear;\n",
"close;\n",
"//Alternative 1: Old Machine :\n",
"disp('Let the comparative use value of old machine be X.')\n",
"F=1000;//in Rs\n",
"A=7500;//in Rs\n",
"i=12;//in % per annum\n",
"n=4;//in years\n",
"//Formula : (A/P,i,n) : ((i/100)*(1+i/100)^n)/(((1+i/100)^n)-1) \n",
"disp('AE(12%)=(X-F)*((i/100)*(1+i/100)^n)/(((1+i/100)^n)-1)+F*i/100+A;//in RS')\n",
"\n",
"//Alternative 2: New Machine :\n",
"P=10000;//in Rs\n",
"F=4000;//in Rs\n",
"A=500;//in Rs\n",
"i=15;//in % per annum\n",
"n=4;//in years\n",
"//Formula : (A/P,i,n) : ((i/100)*(1+i/100)^n)/(((1+i/100)^n)-1)  \n",
"AE=(P-F)*((i/100)*(1+i/100)^n)/(((1+i/100)^n)-1)+F*i/100+A;//in RS\n",
"disp(AE,'The annual equivalent cost(AE(15%)) of n in RSew machine : ');\n",
"disp('Now equating both annual equivalent cost we get the X.');\n",
"disp('X = Rs. 7334.14');\n",
"disp('The comparative use value of old machine is Rs. 7334.14, which is less than the price(Rs. 8000) offered by the company which is supplying the new machine in the event of replacing the old machine by nw machine. ');\n",
"disp('Therefore, it is advisable to replace the old machine with the new one.');"
   ]
   }
,
{
		   "cell_type": "markdown",
		   "metadata": {},
		   "source": [
			"## Example 8.9: Find_Equal_Intervals_for_transistor_replacement.sce"
		   ]
		  },
  {
"cell_type": "code",
	   "execution_count": null,
	   "metadata": {
	    "collapsed": true
	   },
	   "outputs": [],
"source": [
"//Exa 8.9\n",
"clc;\n",
"clear;\n",
"close;\n",
"//Given data : \n",
"p1=0.07;//unitless\n",
"p2=0.11;//unitless\n",
"p3=0.12;//unitless\n",
"p4=0.18;//unitless\n",
"p5=0.21;//unitless\n",
"p6=0.20;//unitless\n",
"p7=0.11;//unitless\n",
"N0=100;//no. of transistors\n",
"N1=N0*p1;//no. of transistors\n",
"N2=N0*p2;//no. of transistors\n",
"N3=N0*p3;//no. of transistors\n",
"N4=N0*p4;//no. of transistors\n",
"N5=N0*p5;//no. of transistors\n",
"N6=N0*p6;//no. of transistors\n",
"N7=N0*p7;//no. of transistors\n",
"//Calculation of individual replacement cost\n",
"Life=0;//in weeks\n",
"p=[p1 p2 p3 p4 p5 p6 p7];//Unitless\n",
"for i=1:7\n",
"    Life=Life+i*p(i);\n",
"end\n",
"disp(Life,'Expected life of each transistor in weeks : ')\n",
"disp(round(100/Life),'Average No. of failures/week :  ');\n",
"\n",
"//Calculation of group replacement cost\n",
"disp('Cost of transistor when replaced simultaneously = Rs. 3');\n",
"disp('Cost of transistor when replaced individually = Rs. 9');\n",
"disp('The cost of group replacement policy for seeral replacement periods are summarized in Table 8.6. This table can be seen from the book.');\n",
"disp('From table it is clear that the avg cost/week is minimum for the 4th week. Hence, the group replacement period is 4 weeks.');\n",
"disp('Individual replacement cost/week = Rs. 207');\n",
"disp('Minimum group replacement ost/week = Rs. 196.50');\n",
"disp('Since the min group replacement cost/week is less than the individual replacement cost/week, the group replacement policy is the best, and hence all the transistors should be replaced in 4 weeks.')"
   ]
   }
],
"metadata": {
		  "kernelspec": {
		   "display_name": "Scilab",
		   "language": "scilab",
		   "name": "scilab"
		  },
		  "language_info": {
		   "file_extension": ".sce",
		   "help_links": [
			{
			 "text": "MetaKernel Magics",
			 "url": "https://github.com/calysto/metakernel/blob/master/metakernel/magics/README.md"
			}
		   ],
		   "mimetype": "text/x-octave",
		   "name": "scilab",
		   "version": "0.7.1"
		  }
		 },
		 "nbformat": 4,
		 "nbformat_minor": 0
}
