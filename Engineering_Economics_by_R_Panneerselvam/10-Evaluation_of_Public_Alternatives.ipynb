{
"cells": [
 {
		   "cell_type": "markdown",
	   "metadata": {},
	   "source": [
       "# Chapter 10: Evaluation of Public Alternatives"
	   ]
	},
{
		   "cell_type": "markdown",
		   "metadata": {},
		   "source": [
			"## Example 10.1: Check_Project_justified_based_on_BC_ratio.sce"
		   ]
		  },
  {
"cell_type": "code",
	   "execution_count": null,
	   "metadata": {
	    "collapsed": true
	   },
	   "outputs": [],
"source": [
"//Exa 10.1\n",
"clc;\n",
"clear;\n",
"close;\n",
"//Given data\n",
"Ii=4000000;//in Rs.\n",
"AM=150000;//in Rs.\n",
"AFS=600000;//in Rs.\n",
"Einc=50000;//in Rs.\n",
"i=12;//in % per annum\n",
"n=15;//in years\n",
"//Total present worth of costs:\n",
"//Formula : (P/A,i,n)=(((1+i/100)^n)-1)/((i/100)*(1+i/100)^n)\n",
"Cp=AM*(((1+i/100)^n)-1)/((i/100)*(1+i/100)^n);//in Rs\n",
"TPW=Ii+Cp;//in RS\n",
"disp(TPW,'Total present worth of costs in RS. : ');\n",
"\n",
"//Total present worth of fuel savings:\n",
"AI=600000;//in Rs.\n",
"G=50000;//in Rs.\n",
"i=12;//in % per annum\n",
"n=15;//in years\n",
"//Formula : (A/G,i,n) :(((1+i/100)^n)-i*n/100-1)/(((i/100)*(1+i/100)^n)-i/100)\n",
"A=AI+G*(((1+i/100)^n)-i*n/100-1)/(((i/100)*(1+i/100)^n)-i/100);//in RS\n",
"Bp=A*(((1+i/100)^n)-1)/((i/100)*(1+i/100)^n);//in Rs.\n",
"disp(Bp,'Present worth of fuel savings in Rs. : ');\n",
"BCratio=Bp/(Ii+Cp);//unitless\n",
"disp(BCratio,'BCratio : ');\n",
"disp('Since BC ratio is more than 1, the construction of the bridge across the river is justified.');"
   ]
   }
,
{
		   "cell_type": "markdown",
		   "metadata": {},
		   "source": [
			"## Example 10.2: Check_Govt_should_implement_the_project.sce"
		   ]
		  },
  {
"cell_type": "code",
	   "execution_count": null,
	   "metadata": {
	    "collapsed": true
	   },
	   "outputs": [],
"source": [
"//Exa 10.2\n",
"clc;\n",
"clear;\n",
"close;\n",
"//Given data\n",
"Ic=80000000;//in Rs.\n",
"Aps=6000000;//in Rs.\n",
"Afs=3000000;//in Rs.\n",
"Aib=5000000;//in Rs.\n",
"Arb=2000000;//in Rs.\n",
"Amc=3000000;//in Rs.\n",
"i=12;//in % per annum\n",
"n=50;//in years\n",
"TAB=Afs+Aib+Arb;//in Rs.\n",
"//Present worth of Benefit:\n",
"//Formula : (P/A,i,n)=(((1+i/100)^n)-1)/((i/100)*(1+i/100)^n)\n",
"PW_B=TAB*(((1+i/100)^n)-1)/((i/100)*(1+i/100)^n);//in Rs\n",
"disp(PW_B,'Total present worth of benefits in RS. : ');\n",
"\n",
"//Present worth of costs:\n",
"//Formula : (P/A,i,n) : (((1+i/100)^n)-1)/((i/100)*(1+i/100)^n)\n",
"PW_C=Ic+Amc*(((1+i/100)^n)-1)/((i/100)*(1+i/100)^n)-Aps*(((1+i/100)^n)-1)/((i/100)*(1+i/100)^n);//in RS\n",
"disp(PW_C,'Present worth of costs in Rs. : ');\n",
"BCratio=PW_B/PW_C;//unitless\n",
"disp(BCratio,'BCratio : ');\n",
"disp('Since BC ratio is more than 1, the state govt. can implement the hydroelectric project.');"
   ]
   }
,
{
		   "cell_type": "markdown",
		   "metadata": {},
		   "source": [
			"## Example 10.3: Which_Project_would_you_select_using_BC_ratio.sce"
		   ]
		  },
  {
"cell_type": "code",
	   "execution_count": null,
	   "metadata": {
	    "collapsed": true
	   },
	   "outputs": [],
"source": [
"//Exa 10.3\n",
"clc;\n",
"clear;\n",
"close;\n",
"//Alternative A1 : \n",
"disp('Alternative A1 :')\n",
"P=3000000;//in Rs.\n",
"B=900000;//in Rs.\n",
"i=10;//in % per annum\n",
"n=5;//in years\n",
"//Formula : (A/P,i,n) : ((i/100)*(1+i/100)^n)/(((1+i/100)^n)-1)\n",
"AE1=P*((i/100)*(1+i/100)^n)/(((1+i/100)^n)-1);//in Rs\n",
"disp(AE1,'Annual equivalent of initial cost in Rs. : ');\n",
"BCratio=B/AE1;//unitless\n",
"disp(BCratio,'BCratio : ');\n",
"\n",
"//Alternative A2 : \n",
"disp('Alternative A2 :')\n",
"P=6000000;//in Rs.\n",
"B=1500000;//in Rs.\n",
"i=10;//in % per annum\n",
"n=7;//in years\n",
"//Formula : (A/P,i,n) : ((i/100)*(1+i/100)^n)/(((1+i/100)^n)-1)\n",
"AE2=P*((i/100)*(1+i/100)^n)/(((1+i/100)^n)-1);//in Rs\n",
"disp(AE2,'Annual equivalent of initial cost in Rs. : ');\n",
"BCratio=B/AE2;//unitless\n",
"disp(BCratio,'BCratio : ');\n",
"disp('The benefit cost ratio of alternative 2 is more than that of alternative A1. Hence, alternative A2 is to be selected. The comparisoon is made on a 35 years period which is the minimum common multiple of the lives of alternative 1 and 2');"
   ]
   }
,
{
		   "cell_type": "markdown",
		   "metadata": {},
		   "source": [
			"## Example 10.4: Find_BC_ratio.sce"
		   ]
		  },
  {
"cell_type": "code",
	   "execution_count": null,
	   "metadata": {
	    "collapsed": true
	   },
	   "outputs": [],
"source": [
"//Exa 10.4\n",
"clc;\n",
"clear;\n",
"close;\n",
"//Cost to the state :  \n",
"disp('Cost to the state :')\n",
"n=20;//in years\n",
"P=2500000000;//in Rs.\n",
"Agt=10000000;//in Rs.\n",
"Ai=1000000;//in Rs.\n",
"Com=48000;//in Rs./year/employee\n",
"C1=Com*300;//in Rs.\n",
"i=10;//in % per annum\n",
"//Formula : (A/P,i,n) : ((i/100)*(1+i/100)^n)/(((1+i/100)^n)-1)\n",
"C2=P*((i/100)*(1+i/100)^n)/(((1+i/100)^n)-1);//in Rs\n",
"disp(C2,'Annual equivalent initial cost in Rs. : ');\n",
"CA=C2+C1;//in Rs\n",
"disp(CA,'Total Annual equivalent cost of the project in Rs. : ');\n",
"//Benefit to the state : \n",
"disp('Benefit to the state :')\n",
"W=30000000;//in Rs.\n",
"//Formula : (A/P,i,n) : ((i/100)*(1+i/100)^n)/(((1+i/100)^n)-1)\n",
"A1=W*((i/100)*(1+i/100)^n)/(((1+i/100)^n)-1);//in Rs.\n",
"Agpy=10000000;//in ton/year\n",
"A2=Agpy*(30-10);//in Rs.\n",
"AvgAI=1000000;//in tons Km.\n",
"G=20000000;//in Rs.\n",
"//Formula : (A/G,i,n) :(((1+i/100)^n)-i*n/100-1)/(((i/100)*(1+i/100)^n)-i/100) \n",
"A3=A2+G*(((1+i/100)^n)-i*n/100-1)/(((i/100)*(1+i/100)^n)-i/100) ;//in Rs.\n",
"disp(A3,'Annual equivalent average of transport cost saving in Rs. : ');\n",
"BA=A1+A3;//in Rs.\n",
"disp(BA,'Total annual equivalent benefits to the state : ');\n",
"BCratio=BA/CA;//unitless\n",
"disp(BCratio,'BCratio : ');\n",
"disp('The benefit cost ratio is more than 1,the project is justified.');"
   ]
   }
,
{
		   "cell_type": "markdown",
		   "metadata": {},
		   "source": [
			"## Example 10.5: Which_Project_should_be_selected.sce"
		   ]
		  },
  {
"cell_type": "code",
	   "execution_count": null,
	   "metadata": {
	    "collapsed": true
	   },
	   "outputs": [],
"source": [
"//Exa 10.5\n",
"clc;\n",
"clear;\n",
"close;\n",
"i=9;//% per annum\n",
"n=50;//in years\n",
"//Project A : \n",
"disp('Project A : ');\n",
"P_A=150000000;//in RS.\n",
"//Formula : (A/P,i,n) : ((i/100)*(1+i/100)^n)/(((1+i/100)^n)-1)\n",
"AE_A=P_A*((i/100)*(1+i/100)^n)/(((1+i/100)^n)-1);\n",
"OMC_A=2000000;//in Rs.\n",
"Psy_A=10000000;//in Rs.\n",
"Cpy_A=AE_A+OMC_A-Psy_A;//in Rs.\n",
"disp(Cpy_A,'Costs/year : ');\n",
"Fcs_A=2500000;//in Rs.\n",
"Ib_A=3500000;//in Rs.\n",
"Rb_A=1000000;//in RS.\n",
"Bpy_A=Fcs_A+Ib_A+Rb_A;//in Rs.\n",
"disp(Bpy_A,'Benefits/year : ');\n",
"BCratio_A=Bpy_A/Cpy_A;//unitless\n",
"disp(BCratio_A,'BC Ratio of project A : ')\n",
"//Project B : \n",
"disp('Project B : ');\n",
"P_B=250000000;//in Rs.\n",
"//Formula : (A/P,i,n) : ((i/100)*(1+i/100)^n)/(((1+i/100)^n)-1)\n",
"AE_B=P_B*((i/100)*(1+i/100)^n)/(((1+i/100)^n)-1);\n",
"OMC_B=2500000;//in Rs.\n",
"Psy_B=12000000;//in Rs.\n",
"Cpy_B=AE_B+OMC_B-Psy_B;//in Rs.\n",
"disp(Cpy_B,'Costs/year : ');\n",
"Fcs_B=3500000;//in Rs.\n",
"Ib_B=4500000;//in Rs.\n",
"Rb_B=2000000;//in RS.\n",
"Bpy_B=Fcs_B+Ib_B+Rb_B;//in Rs.\n",
"disp(Bpy_B,'Benefits/year : ');\n",
"BCratio_B=Bpy_B/Cpy_B;//unitless\n",
"disp(BCratio_B,'BC Ratio of project B : ')\n",
"//Project C : \n",
"disp('Project C : ');\n",
"P_C=400000000;//in Rs.\n",
"//FormulC : (A/P,i,n) : ((i/100)*(1+i/100)^n)/(((1+i/100)^n)-1)\n",
"AE_C=P_C*((i/100)*(1+i/100)^n)/(((1+i/100)^n)-1);\n",
"OMC_C=3500000;//in Rs.\n",
"Psy_C=18000000;//in Rs.\n",
"Cpy_C=AE_C+OMC_C-Psy_C;//in Rs.\n",
"disp(Cpy_C,'Costs/year : ');\n",
"Fcs_C=5000000;//in Rs.\n",
"Ib_C=6000000;//in Rs.\n",
"Rb_C=3500000;//in RS.\n",
"Bpy_C=Fcs_C+Ib_C+Rb_C;//in Rs.\n",
"disp(Bpy_C,'Benefits/year : ');\n",
"BCratio_C=Bpy_C/Cpy_C;//unitless\n",
"disp(BCratio_C,'BC Ratio of project C : ')\n",
"disp('From the computations it is clear that only alternative A is eligible because other two alternatives have BC ratio less than one.')"
   ]
   }
],
"metadata": {
		  "kernelspec": {
		   "display_name": "Scilab",
		   "language": "scilab",
		   "name": "scilab"
		  },
		  "language_info": {
		   "file_extension": ".sce",
		   "help_links": [
			{
			 "text": "MetaKernel Magics",
			 "url": "https://github.com/calysto/metakernel/blob/master/metakernel/magics/README.md"
			}
		   ],
		   "mimetype": "text/x-octave",
		   "name": "scilab",
		   "version": "0.7.1"
		  }
		 },
		 "nbformat": 4,
		 "nbformat_minor": 0
}
