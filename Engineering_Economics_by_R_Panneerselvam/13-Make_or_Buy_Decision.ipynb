{
"cells": [
 {
		   "cell_type": "markdown",
	   "metadata": {},
	   "source": [
       "# Chapter 13: Make or Buy Decision"
	   ]
	},
{
		   "cell_type": "markdown",
		   "metadata": {},
		   "source": [
			"## Example 13.1: Would_it_be_profitable_to_make_fixtures.sce"
		   ]
		  },
  {
"cell_type": "code",
	   "execution_count": null,
	   "metadata": {
	    "collapsed": true
	   },
	   "outputs": [],
"source": [
"//Exa 13.1\n",
"clc;\n",
"clear;\n",
"close;\n",
"//Cost to make :\n",
"disp('Cost to make : ')\n",
"//given data :\n",
"material=300;//in Rs.\n",
"labour=250;//in Rs.\n",
"overhead=100;//in Rs.\n",
"VC=material+labour+overhead;//in Rs.\n",
"demand=5000;//in units\n",
"TVC=demand*VC;//in Rs.\n",
"FC=1000000;//in Rs.\n",
"TC=FC+TVC;//in Rs.\n",
"disp(TC,'Total cost in Rs. : ');\n",
"\n",
"//Cost to buy :\n",
"disp('Cost to buy : ')\n",
"//given data :\n",
"Pcost=900*demand;//in Rs.\n",
"FC=1000000;//in Rs.\n",
"TC=FC+Pcost;//in Rs.\n",
"disp(TC,'Total cost in Rs. : ');\n",
"disp('The cost of making fixtures is less than the cost of buying fixtures from outside. Therefore, the organisation should make the fixtures.')"
   ]
   }
,
{
		   "cell_type": "markdown",
		   "metadata": {},
		   "source": [
			"## Example 13.2: Determine_Best_Option.sce"
		   ]
		  },
  {
"cell_type": "code",
	   "execution_count": null,
	   "metadata": {
	    "collapsed": true
	   },
	   "outputs": [],
"source": [
"//Exa 13.2\n",
"clc;\n",
"clear;\n",
"close;\n",
"//Buy Option :\n",
"disp('Buy Option :')\n",
"//given data :\n",
"Pbuy=8;//in Rs/unit\n",
"D=2000;//in units/year\n",
"Co=120;//in Rs./order\n",
"Cc=1.60;//in Rs./units/year\n",
"Q1=sqrt(2*Co*D/Cc);//in units\n",
"TC=D*Pbuy+D*Co/Q1+Q1*Cc/2;//in Rs.\n",
"disp(TC,'Total cost of buying in Rs. : ')\n",
"//Make Option :\n",
"disp('Make Option :')\n",
"//given data :\n",
"Pmake=5;//in Rs/unit\n",
"Co=60;//in Rs./setup\n",
"Cc=1;//in Re1/units/year\n",
"r=2000;//in units/year\n",
"k=8000;//in units/year\n",
"Q2=sqrt(2*Co*r/(Cc*(1-r/k)));//in units\n",
"TC=D*Pmake+D*Co/Q2+Q2*Cc*(k-r)/(2*k);//in Rs.\n",
"disp(TC,'Total cost of making in Rs. : ')\n",
"disp('The cost of making is less than the cost of buying . Therefore, the firm should go in for making option.');"
   ]
   }
,
{
		   "cell_type": "markdown",
		   "metadata": {},
		   "source": [
			"## Example 13.3: Should_the_manufacturer_make_or_buy_the_cabinet.sce"
		   ]
		  },
  {
"cell_type": "code",
	   "execution_count": null,
	   "metadata": {
	    "collapsed": true
	   },
	   "outputs": [],
"source": [
"//Exa 13.3\n",
"clc;\n",
"clear;\n",
"close;\n",
"//given data :\n",
"SP=500;//in Rs.\n",
"VC=300;//in Rs.\n",
"FC=400000;//in RS.\n",
"BEP=FC/(SP-VC);//in units\n",
"disp(BEP,'BEP in units : ');\n",
"disp('Since the demand(1500units) is less than the break even quantity, the company should buy the cabinets for its TV production.')"
   ]
   }
,
{
		   "cell_type": "markdown",
		   "metadata": {},
		   "source": [
			"## Example 13.4: Should_the_company_make_or_buy_the_product.sce"
		   ]
		  },
  {
"cell_type": "code",
	   "execution_count": null,
	   "metadata": {
	    "collapsed": true
	   },
	   "outputs": [],
"source": [
"//Exa 13.4\n",
"clc;\n",
"clear;\n",
"close;\n",
"//given data :\n",
"volume=8000;//in units\n",
"//Process A :\n",
"disp('Process A :');\n",
"FC=500000;//in RS.\n",
"VC=175;//in Rs.\n",
"AC=FC+VC*volume;//in Rs.\n",
"disp(AC,'Annual Cost of Process A in Rs. :');\n",
"\n",
"//Process B :\n",
"disp('Process B :');\n",
"FC=600000;//in RS.\n",
"VC=150;//in Rs.\n",
"AC=FC+VC*volume;//in Rs.\n",
"disp(AC,'Annual Cost of Process A in Rs. :');\n",
"\n",
"//Buy option:\n",
"disp('Buy Option :');\n",
"Pprice=125;//in RS./Unit\n",
"VC=175;//in Rs.\n",
"AC=Pprice*volume;//in Rs.\n",
"disp(AC,'Annual Cost of Buy in Rs. :');\n",
"disp('Since the annual cost of buy option is the minimum among all the alternatives, the company should buy the product.')"
   ]
   }
],
"metadata": {
		  "kernelspec": {
		   "display_name": "Scilab",
		   "language": "scilab",
		   "name": "scilab"
		  },
		  "language_info": {
		   "file_extension": ".sce",
		   "help_links": [
			{
			 "text": "MetaKernel Magics",
			 "url": "https://github.com/calysto/metakernel/blob/master/metakernel/magics/README.md"
			}
		   ],
		   "mimetype": "text/x-octave",
		   "name": "scilab",
		   "version": "0.7.1"
		  }
		 },
		 "nbformat": 4,
		 "nbformat_minor": 0
}
