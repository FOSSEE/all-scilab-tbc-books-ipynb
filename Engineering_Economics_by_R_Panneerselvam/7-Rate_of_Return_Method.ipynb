{
"cells": [
 {
		   "cell_type": "markdown",
	   "metadata": {},
	   "source": [
       "# Chapter 7: Rate of Return Method"
	   ]
	},
{
		   "cell_type": "markdown",
		   "metadata": {},
		   "source": [
			"## Example 7.1: Find_the_Rate_of_Return.sce"
		   ]
		  },
  {
"cell_type": "code",
	   "execution_count": null,
	   "metadata": {
	    "collapsed": true
	   },
	   "outputs": [],
"source": [
"//Exa 7.1\n",
"clc;\n",
"clear;\n",
"close;\n",
"//Given data :\n",
"Ii=100000;//in Rs\n",
"Ar=30000;//in Rs\n",
"n=5;//in years\n",
"//Formula : (P/A,i,n)=(((1+i/100)^n)-1)/((i/100)*(1+i/100)^n)\n",
"// when i=10 %\n",
"i1=10;//in % per annum\n",
"PW1=-Ii+Ar*(((1+i1/100)^n)-1)/((i1/100)*(1+i1/100)^n);//in RS\n",
"disp(PW1,'The present worth for i=10% in RS. : ');\n",
"// when i=15 %\n",
"i2=15;//in % per annum\n",
"PW2=-Ii+Ar*(((1+i2/100)^n)-1)/((i2/100)*(1+i2/100)^n);//in RS\n",
"disp(PW2,'The present worth for i=15% in RS. : ');\n",
"// when i=18 %\n",
"i3=18;//in % per annum\n",
"PW3=-Ii+Ar*(((1+i3/100)^n)-1)/((i3/100)*(1+i3/100)^n);//in RS\n",
"disp(PW3,'The present worth for i=18% in RS. : ');\n",
"disp('Present worth for i=15% is suitable.');\n",
"i=15+(PW2-0)*(i3-i2)/(PW2-PW3);//in Rs.\n",
"disp(i,'Therefore, the rate of return for the new business in % per annum :');"
   ]
   }
,
{
		   "cell_type": "markdown",
		   "metadata": {},
		   "source": [
			"## Example 7.2: Find_the_Rate_of_Return.sce"
		   ]
		  },
  {
"cell_type": "code",
	   "execution_count": null,
	   "metadata": {
	    "collapsed": true
	   },
	   "outputs": [],
"source": [
"//Exa 7.2\n",
"clc;\n",
"clear;\n",
"close;\n",
"//Given data :\n",
"Io=2000000;//in Rs\n",
"ANP=350000;//in Rs\n",
"S=0;//in Rs\n",
"n=10;//in years\n",
"//Formula : (P/A,i,n)=(((1+i/100)^n)-1)/((i/100)*(1+i/100)^n)\n",
"// when i=10 %\n",
"i1=10;//in % per annum\n",
"PW1=-Io+ANP*(((1+i1/100)^n)-1)/((i1/100)*(1+i1/100)^n);//in RS\n",
"disp(PW1,'The present worth for i=10% in RS. : ');\n",
"// when i=12 %\n",
"i2=12;//in % per annum\n",
"PW2=-Io+ANP*(((1+i2/100)^n)-1)/((i2/100)*(1+i2/100)^n);//in RS\n",
"disp(PW2,'The present worth for i=15% in RS. : ');\n",
"disp('Present worth for i=10% is suitable.');\n",
"i=10+(PW1-0)*(i2-i1)/(PW1-PW2);//in Rs.\n",
"disp(i,'Therefore, the rate of return of the new product line in % per annum :');"
   ]
   }
,
{
		   "cell_type": "markdown",
		   "metadata": {},
		   "source": [
			"## Example 7.3: Find_Best_Alternative_based_on_Rat_of_Return_method.sce"
		   ]
		  },
  {
"cell_type": "code",
	   "execution_count": null,
	   "metadata": {
	    "collapsed": true
	   },
	   "outputs": [],
"source": [
"//Exa 7.3\n",
"clc;\n",
"clear;\n",
"close;\n",
"//Alternative 1:\n",
"disp('Alternative 1:');\n",
"Io=150000;//in Rs\n",
"Ap=45570;//in Rs\n",
"n=5;//in years\n",
"//Formula : (P/A,i,n)=(((1+i/100)^n)-1)/((i/100)*(1+i/100)^n)\n",
"// when i=10 %\n",
"i1=10;//in % per annum\n",
"PW1=-Io+Ap*(((1+i1/100)^n)-1)/((i1/100)*(1+i1/100)^n);//in RS\n",
"disp(PW1,'The present worth for i=10% in RS. : ');\n",
"// when i=12 %\n",
"i2=12;//in % per annum\n",
"PW2=-Io+Ap*(((1+i2/100)^n)-1)/((i2/100)*(1+i2/100)^n);//in RS\n",
"disp(PW2,'The present worth for i=10% in RS. : ');\n",
"// when i=15 %\n",
"i3=15;//in % per annum\n",
"PW3=-Io+Ap*(((1+i3/100)^n)-1)/((i3/100)*(1+i3/100)^n);//in RS\n",
"disp(PW3,'The present worth for i=10% in RS. : ');\n",
"// when i=18 %\n",
"i4=18;//in % per annum\n",
"PW4=-Io+Ap*(((1+i4/100)^n)-1)/((i4/100)*(1+i4/100)^n);//in RS\n",
"disp(PW4,'The present worth for i=10% in RS. : ');\n",
"disp('Present worth for i=15% is suitable.');\n",
"i=i3+(PW3-0)*(i4-i3)/(PW3-PW4);//in Rs.\n",
"disp(i,'Therefore, the rate of return of alternative in % per annum :');\n",
"\n",
"//Alternative 2:\n",
"disp('Alternative 2:');\n",
"Io=210000;//in Rs\n",
"Ap=58260;//in Rs\n",
"n=5;//in years\n",
"//Formula : (P/A,i,n)=(((1+i/100)^n)-1)/((i/100)*(1+i/100)^n)\n",
"// when i=12 %\n",
"i1=12;//in % per annum\n",
"PW1=-Io+Ap*(((1+i1/100)^n)-1)/((i1/100)*(1+i1/100)^n);//in RS\n",
"disp(PW1,'The present worth for i=12% in RS. : ');\n",
"// when i=13 %\n",
"i2=13;//in % per annum\n",
"PW2=-Io+Ap*(((1+i2/100)^n)-1)/((i2/100)*(1+i2/100)^n);//in RS\n",
"disp(PW2,'The present worth for i=13% in RS. : ');\n",
"disp('Present worth for i=12% is suitable.');\n",
"i=i1+(PW1-0)*(i2-i1)/(PW1-PW2);//in Rs.\n",
"disp(i,'Therefore, the rate of return of alternative 2 in % per annum :');\n",
"\n",
"//Alternative 3:\n",
"disp('Alternative 3:');\n",
"Io=255000;//in Rs\n",
"Ap=69000;//in Rs\n",
"n=5;//in years\n",
"//Formula : (P/A,i,n)=(((1+i/100)^n)-1)/((i/100)*(1+i/100)^n)\n",
"// when i=11 %\n",
"i1=11;//in % per annum\n",
"PW1=-Io+Ap*(((1+i1/100)^n)-1)/((i1/100)*(1+i1/100)^n);//in RS\n",
"disp(PW1,'The present worth for i=11% in RS. : ');\n",
"// when i=12 %\n",
"i2=12;//in % per annum\n",
"PW2=-Io+Ap*(((1+i2/100)^n)-1)/((i2/100)*(1+i2/100)^n);//in RS\n",
"disp(PW2,'The present worth for i=12% in RS. : ');\n",
"disp('Present worth for i=11% is suitable.');\n",
"i=i1+(PW1-0)*(i2-i1)/(PW1-PW2);//in Rs.\n",
"disp(i,'Therefore, the rate of return of the alternative 3 in % per annum :');\n",
"disp('');\n",
"disp('It is clear that rate of return for alternative 3v is less than the minimum attractive rate of return of 12 %. So it should not be considered for comparison. the remaining two alternatives are qualified for consideration. Among the alternatives 1 and 2, the rate of return of 1 is greater than that of 2. ence,         alternative 1 should be selected. ');"
   ]
   }
,
{
		   "cell_type": "markdown",
		   "metadata": {},
		   "source": [
			"## Example 7.4: Compute_Rate_of_Retur.sce"
		   ]
		  },
  {
"cell_type": "code",
	   "execution_count": null,
	   "metadata": {
	    "collapsed": true
	   },
	   "outputs": [],
"source": [
"//Exa 7.4\n",
"clc;\n",
"clear;\n",
"close;\n",
"//Given data\n",
"A0=-1275;//in Rs\n",
"A1=150;//in Rs\n",
"G=150;//in Rs\n",
"i=10;//in % per annum\n",
"n=5;//in years\n",
"//Formula : (A/G,i,n) :(((1+i/100)^n)-i*n/100-1)/(((i/100)*(1+i/100)^n)-i/100) \n",
"A=A1+G*(((1+i/100)^n)-i*n/100-1)/(((i/100)*(1+i/100)^n)-i/100) ;//in RS\n",
"disp(A,'The annual equivalent of the positive cash flows in RS. : ');\n",
"//Formula : (P/A,i,n) : (((1+i/100)^n)-1)/((i/100)*(1+i/100)^n)\n",
"i1=10;//in % per annum\n",
"PW1=A0+(A1+G*(((1+i1/100)^n)-i1*n/100-1)/(((i1/100)*(1+i1/100)^n)-i1/100))*(((1+i1/100)^n)-1)/((i1/100)*(1+i1/100)^n);''//i1n Rs.\n",
"disp(PW1,'PW(10) :');\n",
"i2=12;//i2n % per annum\n",
"PW2=A0+(A1+G*(((1+i2/100)^n)-i2*n/100-1)/(((i2/100)*(1+i2/100)^n)-i2/100))*(((1+i2/100)^n)-1)/((i2/100)*(1+i2/100)^n);''//i2n Rs.\n",
"disp(PW2,'PW(12) :');\n",
"i3=15;//i3n % per annum\n",
"PW3=A0+(A1+G*(((1+i3/100)^n)-i3*n/100-1)/(((i3/100)*(1+i3/100)^n)-i3/100))*(((1+i3/100)^n)-1)/((i3/100)*(1+i3/100)^n);''//i3n Rs.\n",
"disp(PW3,'PW(15) :');\n",
"i4=18;//in % per annum\n",
"PW4=A0+(A1+G*(((1+i4/100)^n)-i4*n/100-1)/(((i4/100)*(1+i4/100)^n)-i4/100))*(((1+i4/100)^n)-1)/((i4/100)*(1+i4/100)^n);''//in Rs.\n",
"disp(PW4,'PW(18) :');\n",
"\n",
"disp('Present worth for i=15% is suitable.');\n",
"i=i3+(PW3-0)*(i4-i3)/(PW3-PW4);//in Rs.\n",
"disp(i,'Therefore, the rate of return for the given cash flow in % per annum :');"
   ]
   }
,
{
		   "cell_type": "markdown",
		   "metadata": {},
		   "source": [
			"## Example 7.5: Suggest_Best_Alternative.sce"
		   ]
		  },
  {
"cell_type": "code",
	   "execution_count": null,
	   "metadata": {
	    "collapsed": true
	   },
	   "outputs": [],
"source": [
"//Exa 7.5\n",
"clc;\n",
"clear;\n",
"close;\n",
"//Alternative 1:\n",
"disp('Alternative 1:');\n",
"Io=500000;//in Rs\n",
"Ar=170000;//in Rs\n",
"n=5;//in years\n",
"//Formula : (P/A,i,n)=(((1+i/100)^n)-1)/((i/100)*(1+i/100)^n)\n",
"// when i=15 %\n",
"i1=15;//in % per annum\n",
"PW1=-Io+Ar*(((1+i1/100)^n)-1)/((i1/100)*(1+i1/100)^n);//in RS\n",
"disp(PW1,'The present worth(PW(15%)) for i=10% in RS. : ');\n",
"// when i=17 %\n",
"i2=17;//in % per annum\n",
"PW2=-Io+Ar*(((1+i2/100)^n)-1)/((i2/100)*(1+i2/100)^n);//in RS\n",
"disp(PW2,'The present worth(PW17(%)) for i=10% in RS. : ');\n",
"// when i=20 %\n",
"i3=20;//in % per annum\n",
"PW3=-Io+Ar*(((1+i3/100)^n)-1)/((i3/100)*(1+i3/100)^n);//in RS\n",
"disp(PW3,'The present worth(PW(20%)) for i=10% in RS. : ');\n",
"// when i=22 %\n",
"i4=22;//in % per annum\n",
"PW4=-Io+Ar*(((1+i4/100)^n)-1)/((i4/100)*(1+i4/100)^n);//in RS\n",
"disp(PW4,'The present worth(PW(22%)) for i=10% in RS. : ');\n",
"disp('Present worth for i=15% is suitable.');\n",
"i=i3+(PW3-0)*(i4-i3)/(PW3-PW4);//in Rs.\n",
"disp(i,'Therefore, the rate of return of alternative 1 in % per annum :');\n",
"\n",
"//Alternative 2:\n",
"disp('Alternative 2:');\n",
"Io=800000;//in Rs\n",
"Ar=270000;//in Rs\n",
"n=5;//in years\n",
"//Formula : (P/A,i,n)=(((1+i/100)^n)-1)/((i/100)*(1+i/100)^n)\n",
"// when i=20 %\n",
"i3=20;//in % per annum\n",
"PW3=-Io+Ar*(((1+i3/100)^n)-1)/((i3/100)*(1+i3/100)^n);//in RS\n",
"disp(PW3,'The present worth(PW(20%)) for i=10% in RS. : ');\n",
"// when i=22 %\n",
"i4=22;//in % per annum\n",
"PW4=-Io+Ar*(((1+i4/100)^n)-1)/((i4/100)*(1+i4/100)^n);//in RS\n",
"disp(PW4,'The present worth(PW(22%)) for i=10% in RS. : ');\n",
"disp('Present worth for i=15% is suitable.');\n",
"i=i3+(PW3-0)*(i4-i3)/(PW3-PW4);//in Rs.\n",
"disp(i,'Therefore, the rate of return of alternative 2 in % per annum :');\n",
"disp('Since the rate of return of alternative 1 is greater than that of the alternative 2, select alternative 1. ');"
   ]
   }
],
"metadata": {
		  "kernelspec": {
		   "display_name": "Scilab",
		   "language": "scilab",
		   "name": "scilab"
		  },
		  "language_info": {
		   "file_extension": ".sce",
		   "help_links": [
			{
			 "text": "MetaKernel Magics",
			 "url": "https://github.com/calysto/metakernel/blob/master/metakernel/magics/README.md"
			}
		   ],
		   "mimetype": "text/x-octave",
		   "name": "scilab",
		   "version": "0.7.1"
		  }
		 },
		 "nbformat": 4,
		 "nbformat_minor": 0
}
