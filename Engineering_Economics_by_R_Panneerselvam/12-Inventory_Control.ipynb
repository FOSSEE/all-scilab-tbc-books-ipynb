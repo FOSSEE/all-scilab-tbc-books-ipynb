{
"cells": [
 {
		   "cell_type": "markdown",
	   "metadata": {},
	   "source": [
       "# Chapter 12: Inventory Control"
	   ]
	},
{
		   "cell_type": "markdown",
		   "metadata": {},
		   "source": [
			"## Example 12.1: Economic_Order_Quantity_and_Orders_per_year.sce"
		   ]
		  },
  {
"cell_type": "code",
	   "execution_count": null,
	   "metadata": {
	    "collapsed": true
	   },
	   "outputs": [],
"source": [
"//Exa 12.1\n",
"clc;\n",
"clear;\n",
"close;\n",
"//given data :\n",
"D=24000;//in units/year\n",
"Co=150;//in Rs./order\n",
"Pprice=75;//Rs./unit\n",
"Cpupy=18;//in % of Pprice/unit\n",
"Cc=Pprice*Cpupy/100;//in Rs.\n",
"EOQ=sqrt((2*Co*D)/Cc);//in units\n",
"disp(round(EOQ),'Economic order quantity in units : ');\n",
"n=D/round(EOQ);//no. of orders/year\n",
"disp(n,'No. of orders/year : ');\n",
"T=round(EOQ)/D;// time between successive orders in year\n",
"T=T*12;//in months\n",
"T=T*30;//in Days\n",
"disp(round(T),'Time between successive orders in days : ');"
   ]
   }
,
{
		   "cell_type": "markdown",
		   "metadata": {},
		   "source": [
			"## Example 12.2: Find_EOQ_and_cycle_time.sce"
		   ]
		  },
  {
"cell_type": "code",
	   "execution_count": null,
	   "metadata": {
	    "collapsed": true
	   },
	   "outputs": [],
"source": [
"//Exa 12.2\n",
"clc;\n",
"clear;\n",
"close;\n",
"//given data :\n",
"r=12000;//in units/year\n",
"k=24000;//in units/year\n",
"Co=175;//in Rs./setup\n",
"Cc=15;//in Rs./unit/year\n",
"EOQ=sqrt((2*Co*r)/(Cc*(1-r/k)));//in units\n",
"Q=ceil(EOQ);//units\n",
"disp(Q,'Economic order quantity in units : ');\n",
"t1=Q/k;//in year\n",
"t1=t1*12*30;//in days\n",
"t2=(Q/r)*(1-r/k);//in year\n",
"t2=t2*12*30;//in days\n",
"disp(round(t1+t2),'Cycle time in days :');\n",
"disp(r/Q,'No. of setups/year : ');"
   ]
   }
,
{
		   "cell_type": "markdown",
		   "metadata": {},
		   "source": [
			"## Example 12.3: Find_Optimum_Values_of_various_parameter.sce"
		   ]
		  },
  {
"cell_type": "code",
	   "execution_count": null,
	   "metadata": {
	    "collapsed": true
	   },
	   "outputs": [],
"source": [
"//Exa 12.3\n",
"clc;\n",
"clear;\n",
"close;\n",
"//given data :\n",
"D=30000;//in units/year\n",
"Cc=2;//in Rs./unit/year\n",
"Co=100;//in Rs./orde\n",
"Cs=12;//in units/year\n",
"EOQ=sqrt(2*Co*D*(Cs+Cc)/(Cc*Cs));//in units\n",
"Q=round(EOQ);//units\n",
"disp(Q,'Ordering quantity in units : ');\n",
"Q1=sqrt(2*Co*D*Cs/(Cc*(Cs+Cc)));//in units\n",
"disp(round(Q1),'Maximum Inventory in units : ');\n",
"disp(round(Q-Q1),'Maximum shortage quantity in units : ');\n",
"t=Q/D;//in year\n",
"t=t*365;//in days\n",
"disp(round(t),'Cycle time in days: ');\n",
"t1=Q1/D;//in year\n",
"t1=t1*365;//in days\n",
"disp(round(t1),'Inventory period(t1) in days : ');\n",
"t2=t-t1;//in days\n",
"disp(round(t2),'Shortage period(t2) in days : ');\n",
"disp(D/Q,'No. of Orders/year : ');"
   ]
   }
,
{
		   "cell_type": "markdown",
		   "metadata": {},
		   "source": [
			"## Example 12.4: Find_Various_parameter_of_Inventory_System.sce"
		   ]
		  },
  {
"cell_type": "code",
	   "execution_count": null,
	   "metadata": {
	    "collapsed": true
	   },
	   "outputs": [],
"source": [
"//Exa 12.4\n",
"clc;\n",
"clear;\n",
"close;\n",
"//given data :\n",
"r=12000;//in units/year\n",
"k=2000*12;//in units/year\n",
"Co=400;//in Rs./setup\n",
"Cc=0.20*12;//in Rs./year\n",
"Cs=15;//in Rs./unit/year\n",
"\n",
"EOQ=sqrt((2*Co*k*r*(Cc+Cs)/(Cc*(k-r)*Cs)));//in units\n",
"Q=round(EOQ);//units\n",
"disp(Q,'Ordering quantity in units : ');\n",
"\n",
"Q1=sqrt(2*Co*Cc*r*(k-r)/(Cs*(Cc+Cs)*k));//in units\n",
"disp(round(Q1),'Maximum Inventory in units : ');\n",
"Q2=(Q*(k-r)/k)-Q1;//in Units\n",
"disp(round(Q2),'Maximum shortage quantity in units : ');\n",
"t=Q/r;//in year\n",
"t=t*365;//in days\n",
"disp(round(t),'Cycle time in days: ');\n",
"t1=(Q2/r)*365;//in days\n",
"t2=(Q2/(k-r))*365;//in days\n",
"t3=(Q1/(k-r))*365;//in days\n",
"t4=(Q1/r)*365;//in days\n",
"disp(round(t1),'Period of shortage in days : ');\n",
"disp(round(t2),'Period of production satisfying back order in days : ');\n",
"disp(ceil(t3),'Period of production satisfying period requirement in days : ');\n",
"disp(ceil(t4),'Period of consumption only in days : ');"
   ]
   }
],
"metadata": {
		  "kernelspec": {
		   "display_name": "Scilab",
		   "language": "scilab",
		   "name": "scilab"
		  },
		  "language_info": {
		   "file_extension": ".sce",
		   "help_links": [
			{
			 "text": "MetaKernel Magics",
			 "url": "https://github.com/calysto/metakernel/blob/master/metakernel/magics/README.md"
			}
		   ],
		   "mimetype": "text/x-octave",
		   "name": "scilab",
		   "version": "0.7.1"
		  }
		 },
		 "nbformat": 4,
		 "nbformat_minor": 0
}
