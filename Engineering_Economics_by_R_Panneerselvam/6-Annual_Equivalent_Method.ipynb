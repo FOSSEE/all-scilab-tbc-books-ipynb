{
"cells": [
 {
		   "cell_type": "markdown",
	   "metadata": {},
	   "source": [
       "# Chapter 6: Annual Equivalent Method"
	   ]
	},
{
		   "cell_type": "markdown",
		   "metadata": {},
		   "source": [
			"## Example 6.10: Which_tyre_should_be_buy.sce"
		   ]
		  },
  {
"cell_type": "code",
	   "execution_count": null,
	   "metadata": {
	    "collapsed": true
	   },
	   "outputs": [],
"source": [
"//Exa 6.10\n",
"clc;\n",
"clear;\n",
"close;\n",
"//Brand A : \n",
"disp('Brand A : ');\n",
"w=12;//in months\n",
"P=1200;//in Rs/tyre\n",
"i=12;//in % nominal rate(Compounded anually)\n",
"i=i/12;//in % compounded monthly\n",
"//Formula : (A/P,i,n) : ((i/100)*(1+i/100)^n)/(((1+i/100)^n)-1)\n",
"AE_A=P*((i/100)*(1+i/100)^w)/(((1+i/100)^w)-1);//in RS\n",
"disp(AE_A,'The annual equivalent for this brand in RS. : ');\n",
"\n",
"//Brand B : \n",
"disp('Brand B : ');\n",
"w=24;//in months\n",
"P=1800;//in Rs/tyre\n",
"i=12;//in % nominal rate(Compounded anually)\n",
"i=i/12;//in % compounded monthly\n",
"//Formula : (A/P,i,n) : ((i/100)*(1+i/100)^n)/(((1+i/100)^n)-1)\n",
"AE_B=P*((i/100)*(1+i/100)^w)/(((1+i/100)^w)-1);//in RS\n",
"disp(AE_B,'The annual equivalent for this brand in RS. : ');\n",
"\n",
"//Brand C : \n",
"disp('Brand C : ');\n",
"w=36;//in months\n",
"P=2100;//in Rs/tyre\n",
"i=12;//in % nominal rate(Compounded anually)\n",
"i=i/12;//in % compounded monthly\n",
"//Formula : (A/P,i,n) : ((i/100)*(1+i/100)^n)/(((1+i/100)^n)-1)\n",
"AE_C=P*((i/100)*(1+i/100)^w)/(((1+i/100)^w)-1);//in RS\n",
"disp(AE_C,'The annual equivalent for this brand in RS. : ');\n",
"\n",
"//Brand D : \n",
"disp('Brand D : ');\n",
"w=48;//in months\n",
"P=2700;//in Rs/tyre\n",
"i=12;//in % nominal rate(Compounded anually)\n",
"i=i/12;//in % compounded monthly\n",
"//Formula : (A/P,i,n) : ((i/100)*(1+i/100)^n)/(((1+i/100)^n)-1)\n",
"AE_D=P*((i/100)*(1+i/100)^w)/(((1+i/100)^w)-1);//in RS\n",
"disp(AE_D,'The annual equivalent for this brand in RS. : ');\n",
"\n",
"disp('Here common multiple lives of tyres is considered. This is 144 months. Therefore, the comparison is nade on 144 months basis.');\n",
"disp('The annual equivalent cost of Brand C is less than that of other brands. hence, it should be used in the vehicles of the trucking company. It should be replaced  for times during the 144 months period.');"
   ]
   }
,
{
		   "cell_type": "markdown",
		   "metadata": {},
		   "source": [
			"## Example 6.1: Decision_to_provide_rental_car_to_Executive.sce"
		   ]
		  },
  {
"cell_type": "code",
	   "execution_count": null,
	   "metadata": {
	    "collapsed": true
	   },
	   "outputs": [],
"source": [
"//Exa 6.1\n",
"clc;\n",
"clear;\n",
"close;\n",
"//GIVEN DATA :\n",
"disp('Average No. of Km run/year = 20000 Km');\n",
"disp('No. of Km/litre of petrol = 9 Km');\n",
"disp('Therefore,');\n",
"disp('Petrol consumption/year = 20000/9 = 2222.2 litre');\n",
"disp('Cost/litre of petrol for the 1st year = Rs. 21 ');\n",
"disp('Cost/litre of petrol for the 2nd year = Rs. 21 + Re. 1 = Rs. 22 ');\n",
"disp('Cost/litre of petrol for the 3rd year = Rs. 22 + Re. 1 = Rs. 23 ');\n",
"disp('Cost/litre of petrol for the 4th year = Rs. 23 + Re. 1 = Rs. 24 ');\n",
"\n",
"disp('Fuel expenditure for 1st year = 2222.2 * 21 = Rs. 46666.20');\n",
"disp('Fuel expenditure for 2nd year = 2222.2 * 22 = Rs. 48888.40');\n",
"disp('Fuel expenditure for 3rd year = 2222.2 * 23 = Rs. 51110.60');\n",
"disp('Fuel expenditure for 4th year = 2222.2 * 24 = Rs. 53332.80');\n",
"disp('The annual equal increment of the above expendiyure is Rs. 2222.20(G)');\n",
"\n",
"A1=46666.20;//in Rs.\n",
"G=2222.20;//in Rs.\n",
"i=18;//in % per annum\n",
"n=4;//in years\n",
"A=A1+G*(((1+i/100)^n)-i*n/100-1)/(((i/100)*(1+i/100)^n)-i/100) ;\n",
"disp(A,'Annual equal amount spending for petrol in Rs. : ');\n",
"disp('This amoount is less than the annual rental value of Rs. 60000. Therefore, the company should continue to provide its own car to its executive. ');"
   ]
   }
,
{
		   "cell_type": "markdown",
		   "metadata": {},
		   "source": [
			"## Example 6.2: Determine_Best_Alternative.sce"
		   ]
		  },
  {
"cell_type": "code",
	   "execution_count": null,
	   "metadata": {
	    "collapsed": true
	   },
	   "outputs": [],
"source": [
"//Exa 6.2\n",
"clc;\n",
"clear;\n",
"close;\n",
"//Alternative 1 :\n",
"disp('Alternative 1: ');\n",
"P=500000;//in Rs\n",
"A=200000;//in Rs\n",
"i=20;//in % per annum\n",
"n=15;//in years\n",
"//Formula : (A/P,i,n) : ((i/100)*(1+i/100)^n)/(((1+i/100)^n)-1)\n",
"AE_1=P*((i/100)*(1+i/100)^n)/(((1+i/100)^n)-1)+A;//in RS\n",
"disp(AE_1,'The Annual equivalent cost of alternative 1 in RS. : ');\n",
"\n",
"//Alternative 2 :\n",
"disp('Alternative 2: ');\n",
"P=400000;//in Rs\n",
"A=300000;//in Rs\n",
"i=20;//in % per annum\n",
"n=15;//in years\n",
"//Formula : (A/P,i,n) : ((i/100)*(1+i/100)^n)/(((1+i/100)^n)-1)\n",
"AE_2=P*((i/100)*(1+i/100)^n)/(((1+i/100)^n)-1)+A;//in RS\n",
"disp(AE_2,'The Annual equivalent cost of alternative 1 in RS. : ');\n",
"\n",
"//Alternative 3 :\n",
"disp('Alternative 3: ');\n",
"P=600000;//in Rs\n",
"A=150000;//in Rs\n",
"i=20;//in % per annum\n",
"n=15;//in years\n",
"//Formula : (A/P,i,n) : ((i/100)*(1+i/100)^n)/(((1+i/100)^n)-1)\n",
"AE_3=P*((i/100)*(1+i/100)^n)/(((1+i/100)^n)-1)+A;//in RS\n",
"disp(AE_3,'The Annual equivalent cost of alternative 1 in RS. : ');\n",
"disp('The annual equivalent cost of manufacturer 3 is less than that of other two. Therefore, company should buy advanced machine centre from manufacturer 3. ');\n",
"//Note : Calculation in the book is not accurate."
   ]
   }
,
{
		   "cell_type": "markdown",
		   "metadata": {},
		   "source": [
			"## Example 6.3: Determine_Best_Alternative.sce"
		   ]
		  },
  {
"cell_type": "code",
	   "execution_count": null,
	   "metadata": {
	    "collapsed": true
	   },
	   "outputs": [],
"source": [
"//Exa 6.3\n",
"clc;\n",
"clear;\n",
"close;\n",
"//Alternative A :\n",
"disp('Alternative A: ');\n",
"P=150000;//in Rs\n",
"A=60000;//in Rs\n",
"S=15000;//in Rs\n",
"i=25;//in % per annum\n",
"n=5;//in years\n",
"//Formula : (A/P,i,n) : ((i/100)*(1+i/100)^n)/(((1+i/100)^n)-1)\n",
"//Formula : (A/F,i,n) : (i/100)/(((1+i/100)^n)-1)\n",
"AE_A=-P*((i/100)*(1+i/100)^n)/(((1+i/100)^n)-1)+A+S*(i/100)/(((1+i/100)^n)-1);//in RS\n",
"disp(AE_A,'The Annual equivalent revenue of alternative A in RS. : ');\n",
"//Alternative B :\n",
"disp('Alternative B: ');\n",
"P=175000;//in Rs\n",
"A=70000;//in Rs\n",
"S=35000;//in Rs\n",
"i=25;//in % per annum\n",
"n=5;//in years\n",
"//Formula : (A/P,i,n) : ((i/100)*(1+i/100)^n)/(((1+i/100)^n)-1)\n",
"//Formula : (A/F,i,n) : (i/100)/(((1+i/100)^n)-1)\n",
"AE_B=-P*((i/100)*(1+i/100)^n)/(((1+i/100)^n)-1)+A+S*(i/100)/(((1+i/100)^n)-1);//in RS\n",
"disp(AE_B,'The Annual equivalent revenue of alternative A in RS. : ');\n",
"disp('The annual equivalent net return of alternative B is more than that of alternative A. Thus the company should select alternative A');\n",
"//Note : Calculation in the book is not accurate."
   ]
   }
,
{
		   "cell_type": "markdown",
		   "metadata": {},
		   "source": [
			"## Example 6.4: Which_Machine_would_you_choose.sce"
		   ]
		  },
  {
"cell_type": "code",
	   "execution_count": null,
	   "metadata": {
	    "collapsed": true
	   },
	   "outputs": [],
"source": [
"//Exa 6.4\n",
"clc;\n",
"clear;\n",
"close;\n",
"//Machine X :\n",
"disp('Machine X : ');\n",
"P=150000;//in Rs\n",
"A=0;//in Rs\n",
"S=0;//in Rs\n",
"i=15;//in % per annum\n",
"n=12;//in years\n",
"//Formula : (A/P,i,n) : ((i/100)*(1+i/100)^n)/(((1+i/100)^n)-1)\n",
"AE_X=P*((i/100)*(1+i/100)^n)/(((1+i/100)^n)-1);//in RS\n",
"disp(AE_X,'The Annual equivalent cost of machine X in RS. : ');\n",
"\n",
"//Machine Y :\n",
"disp('Machine Y : ');\n",
"P=240000;//in Rs\n",
"A=4500;//in Rs\n",
"S=60000;//in Rs\n",
"i=15;//in % per annum\n",
"n=12;//in years\n",
"//Formula : (A/P,i,n) : ((i/100)*(1+i/100)^n)/(((1+i/100)^n)-1)\n",
"//Formula : (A/F,i,n) : (i/100)/(((1+i/100)^n)-1)\n",
"AE_Y=P*((i/100)*(1+i/100)^n)/(((1+i/100)^n)-1)+A-S*(i/100)/(((1+i/100)^n)-1);//in RS\n",
"disp(AE_Y,'The Annual equivalent cost of machine X in RS. : ');\n",
"disp('The annual equivalent cost of machine X is less than that of machine Y.So machine X is more cost effective machine. ');\n",
"//Note : Calculation in the book is not accurate."
   ]
   }
,
{
		   "cell_type": "markdown",
		   "metadata": {},
		   "source": [
			"## Example 6.5: Should_Power_Line_routed_around_or_over_the_lake.sce"
		   ]
		  },
  {
"cell_type": "code",
	   "execution_count": null,
	   "metadata": {
	    "collapsed": true
	   },
	   "outputs": [],
"source": [
"//Exa 6.5\n",
"clc;\n",
"clear;\n",
"close;\n",
"//Alternative 1 : Around the lake\n",
"disp('Alternative 1 : Around the lake');\n",
"FC=15*150000;//in Rs\n",
"MC=15*6000;//in Rs\n",
"PL=15*15000;//in Rs\n",
"MCPL=MC+PL;//in Rs\n",
"S=15*90000;//in Rs\n",
"i=15;//in % per annum\n",
"n=15;//in years\n",
"//Formula : (A/F,i,n) : (i/100)/(((1+i/100)^n)-1)\n",
"//Formula : (A/P,i,n) : ((i/100)*(1+i/100)^n)/(((1+i/100)^n)-1)\n",
"AE1=FC*((i/100)*(1+i/100)^n)/(((1+i/100)^n)-1)+MCPL-S*(i/100)/(((1+i/100)^n)-1);//in RS\n",
"disp(AE1,'The Annual equivalent cost for this alternative in RS. : ');\n",
"\n",
"//Alternative 1 : Under the lake\n",
"FC=5*750000;//in Rs\n",
"MC=5*12000;//in Rs\n",
"PL=5*15000;//in Rs\n",
"MCPL=MC+PL;//in Rs\n",
"S=5*150000;//in Rs\n",
"i=15;//in % per annum\n",
"n=15;//in years\n",
"//Formula : (A/F,i,n) : (i/100)/(((1+i/100)^n)-1)\n",
"//Formula : (A/P,i,n) : ((i/100)*(1+i/100)^n)/(((1+i/100)^n)-1)\n",
"AE2=FC*((i/100)*(1+i/100)^n)/(((1+i/100)^n)-1)+MCPL-S*(i/100)/(((1+i/100)^n)-1);//in RS\n",
"disp(AE2,'The Annual equivalent cost for this alternative in RS. : ');\n",
"disp('The annual equivalent cost of alternative 1 is less than that of alternative 2. Therefore, select the route around the lake for laying the power line.');\n",
"//Note : Calculation in the book is not accurate."
   ]
   }
,
{
		   "cell_type": "markdown",
		   "metadata": {},
		   "source": [
			"## Example 6.6: Determine_the_more_economical_choice.sce"
		   ]
		  },
  {
"cell_type": "code",
	   "execution_count": null,
	   "metadata": {
	    "collapsed": true
	   },
	   "outputs": [],
"source": [
"//Exa 6.6\n",
"clc;\n",
"clear;\n",
"close;\n",
"//Alternative 1 : Purchase of diesel Taxi\n",
"disp('Alternative 1 : Purchase of diesel Taxi');\n",
"VC=390000;//in Rs\n",
"LpY=60000/30;//in litres\n",
"FcY=2000*8;//in Rs\n",
"AllExp=FcY+9000+15000;//in Rs\n",
"S=60000;//in Rs\n",
"i=20;//in % per annum\n",
"n=4;//in years\n",
"//Formula : (A/F,i,n) : (i/100)/(((1+i/100)^n)-1)\n",
"//Formula : (A/P,i,n) : ((i/100)*(1+i/100)^n)/(((1+i/100)^n)-1)\n",
"AE1=VC*((i/100)*(1+i/100)^n)/(((1+i/100)^n)-1)+AllExp-S*(i/100)/(((1+i/100)^n)-1);//in RS\n",
"disp(AE1,'The Annual equivalent cost for this alternative in RS. : ');\n",
"\n",
"//Alternative 2 : Purchase of petrol Taxi\n",
"disp('Alternative 2 : Purchase of petrol Taxi');\n",
"VC=360000;//in Rs\n",
"LpY=60000/20;//in litres\n",
"FcY=3000*20;//in Rs\n",
"AllExp=FcY+6000+15000;//in Rs\n",
"S=90000;//in Rs\n",
"i=20;//in % per annum\n",
"n=3;//in years\n",
"//Formula : (A/F,i,n) : (i/100)/(((1+i/100)^n)-1)\n",
"//Formula : (A/P,i,n) : ((i/100)*(1+i/100)^n)/(((1+i/100)^n)-1)\n",
"AE2=VC*((i/100)*(1+i/100)^n)/(((1+i/100)^n)-1)+AllExp-S*(i/100)/(((1+i/100)^n)-1);//in RS\n",
"disp(AE2,'The Annual equivalent cost for this alternative in RS. : ');\n",
"disp('The annual equivalent cost of purchase and operation of cars with diesel engine is less than that of cars with petrol engine. Therefore, the taxy company should buy cars with diesel engine.');\n",
"//Note : Calculation in the book is not accurate."
   ]
   }
,
{
		   "cell_type": "markdown",
		   "metadata": {},
		   "source": [
			"## Example 6.7: Determine_Which_Alternative_to_Select.sce"
		   ]
		  },
  {
"cell_type": "code",
	   "execution_count": null,
	   "metadata": {
	    "collapsed": true
	   },
	   "outputs": [],
"source": [
"//Exa 6.7\n",
"clc;\n",
"clear;\n",
"close;\n",
"//Alternative 1 : Purchase car for cash\n",
"disp('Alternative 1 : Purchase car for cash');\n",
"Pprice=390000;//in Rs\n",
"n=3;//in years\n",
"n=n*12;//in months\n",
"S=120000;//in Rs\n",
"i=12;//in % nominal rate(Compounded anually)\n",
"i=i/12;//in % compounded monthly\n",
"//Formula : (A/F,i,n) : (i/100)/(((1+i/100)^n)-1)\n",
"//Formula : (A/P,i,n) : ((i/100)*(1+i/100)^n)/(((1+i/100)^n)-1)\n",
"ME1=Pprice*((i/100)*(1+i/100)^n)/(((1+i/100)^n)-1)-S*(i/100)/(((1+i/100)^n)-1);//in RS\n",
"disp(ME1,'The Monthly equivalent cost for this alternative in RS. : ');\n",
"\n",
"//Alternative 2 : Use of car under lease\n",
"disp('Alternative 2 : Use of car under lease');\n",
"LeaseAmount=10500;//in Rs\n",
"MonthlyEquiCost=LeaseAmount;//in Rs.\n",
"disp(MonthlyEquiCost,'The Monthly equivalent cost for this alternative in RS. : ');\n",
"disp('The monthly equivalent cost of alternative 1 is less than that of alternative 2. hence the salesman should purchase the car for cash.')"
   ]
   }
,
{
		   "cell_type": "markdown",
		   "metadata": {},
		   "source": [
			"## Example 6.8: Which_Machine_should_be_purchased.sce"
		   ]
		  },
  {
"cell_type": "code",
	   "execution_count": null,
	   "metadata": {
	    "collapsed": true
	   },
	   "outputs": [],
"source": [
"//Exa 6.8\n",
"clc;\n",
"clear;\n",
"close;\n",
"//Machine A :\n",
"disp('Machine A : ');\n",
"IC=300000;//in Rs\n",
"n=4;//in years\n",
"S=200000;//in Rs\n",
"AM=30000;//in Rs\n",
"i=15;//in % per annum\n",
"//Formula : (A/F,i,n) : (i/100)/(((1+i/100)^n)-1)\n",
"//Formula : (A/P,i,n) : ((i/100)*(1+i/100)^n)/(((1+i/100)^n)-1)\n",
"AE_A=IC*((i/100)*(1+i/100)^n)/(((1+i/100)^n)-1)+AM-S*(i/100)/(((1+i/100)^n)-1);//in RS\n",
"disp(AE_A,'The Annual equivalent cost of machine X in RS. : ');\n",
"\n",
"//Machine B :\n",
"disp('Machine B : ');\n",
"IC=600000;//in Rs\n",
"n=4;//in years\n",
"S=300000;//in Rs\n",
"AM=0;//in Rs\n",
"i=15;//in % per annum\n",
"//Formula : (A/F,i,n) : (i/100)/(((1+i/100)^n)-1)\n",
"//Formula : (A/P,i,n) : ((i/100)*(1+i/100)^n)/(((1+i/100)^n)-1)\n",
"AE_B=IC*((i/100)*(1+i/100)^n)/(((1+i/100)^n)-1)+AM-S*(i/100)/(((1+i/100)^n)-1);//in RS\n",
"disp(AE_B,'The Annual equivalent cost of machine X in RS. : ');\n",
"disp('The annual equivalent cost of machine A is less than that of machine B.So machine A is more cost effective machine. It is advised to buy machine A ');\n",
"//Note : Calculation in the book is not accurate."
   ]
   }
,
{
		   "cell_type": "markdown",
		   "metadata": {},
		   "source": [
			"## Example 6.9: Determine_Best_Alternative_for_Lakshimi.sce"
		   ]
		  },
  {
"cell_type": "code",
	   "execution_count": null,
	   "metadata": {
	    "collapsed": true
	   },
	   "outputs": [],
"source": [
"//Exa 6.9\n",
"clc;\n",
"clear;\n",
"close;\n",
"//Alternative 1 : \n",
"disp('Alternative 1 : ');\n",
"DP=60000;//in Rs\n",
"P1=15000;//in Rs\n",
"n=1;//in years\n",
"i=12;//in % Compounded anually\n",
"//Formula : (P/F,i,n) : 1/((1+i/100)^n)\n",
"PW1=DP+P1*1/((1+i/100)^n);//in RS\n",
"disp(PW1,'The annual equivalent for this alternative in RS. : ');\n",
"//Formula : (A/P,i,n) : ((i/100)*(1+i/100)^n)/(((1+i/100)^n)-1)\n",
"n=4;//in years\n",
"AE1=PW1*((i/100)*(1+i/100)^n)/(((1+i/100)^n)-1)\n",
"disp(AE1,'The annual equivalent for this alternative in RS. : ');\n",
"\n",
"//Alternative 2 : \n",
"disp('Alternative 2 : ');\n",
"P4y=90000;//in Rs\n",
"AE2=P4y*(i/100)/(((1+i/100)^n)-1);//in Rs.\n",
"disp(AE2,'The annual equivalent for this alternative in RS. : ');\n",
"disp('The annual equivalent cost of alternative 2 is less than that of alternative 1. Hence, Joshi Lakshimi should select alternative 2 for purchasing the home equipment.');\n",
"//Note : Calculation in the book is not accurate."
   ]
   }
],
"metadata": {
		  "kernelspec": {
		   "display_name": "Scilab",
		   "language": "scilab",
		   "name": "scilab"
		  },
		  "language_info": {
		   "file_extension": ".sce",
		   "help_links": [
			{
			 "text": "MetaKernel Magics",
			 "url": "https://github.com/calysto/metakernel/blob/master/metakernel/magics/README.md"
			}
		   ],
		   "mimetype": "text/x-octave",
		   "name": "scilab",
		   "version": "0.7.1"
		  }
		 },
		 "nbformat": 4,
		 "nbformat_minor": 0
}
