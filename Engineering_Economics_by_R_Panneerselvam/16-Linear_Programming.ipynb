{
"cells": [
 {
		   "cell_type": "markdown",
	   "metadata": {},
	   "source": [
       "# Chapter 16: Linear Programming"
	   ]
	},
{
		   "cell_type": "markdown",
		   "metadata": {},
		   "source": [
			"## Example 16.1: Formulate_Linear_Programming_Model.sce"
		   ]
		  },
  {
"cell_type": "code",
	   "execution_count": null,
	   "metadata": {
	    "collapsed": true
	   },
	   "outputs": [],
"source": [
"//Exa 16.1\n",
"clc;\n",
"clear;\n",
"close;\n",
"//given data :\n",
"disp('The data of the problem are summarized below : ');\n",
"disp('Machine                   Products           Limit on ');\n",
"disp('                        P1         P2       machine hours');\n",
"disp('Lathe                    5         10            60');\n",
"disp('Milling                  4          4            40');\n",
"disp('Profit/unit              6          8');\n",
"disp('Let X1 be the production volume of the product.P1, and');\n",
"disp('X2 be the production volume of the product,P2.');\n",
"disp('The corresponding linear programming model to determine the production volume of each product such that the total profit is maximized is as shown below : ');\n",
"disp('maximize Z = 6*X1 + 8*X2');\n",
"disp('subject to');\n",
"disp('5*X1+10*X2 <= 60')\n",
"disp('4*X1+4*X2 <= 40')\n",
"disp('X1,X2 >= 0')"
   ]
   }
,
{
		   "cell_type": "markdown",
		   "metadata": {},
		   "source": [
			"## Example 16.2: Determine_Optimal_combination_of_food_types.sce"
		   ]
		  },
  {
"cell_type": "code",
	   "execution_count": null,
	   "metadata": {
	    "collapsed": true
	   },
	   "outputs": [],
"source": [
"//Exa 16.2\n",
"clc;\n",
"clear;\n",
"close;\n",
"//given data :\n",
"disp('Let X1 be the No. of packets of food type1 suggested for babies, and');\n",
"disp('X2 be the No. of packets of food type1 suggested for babies.');\n",
"disp('The corresponding linear programming model to determine the No. of packets of each food type to be suggested for babies with the minimum cost such that the minimum daily required vitamin in each food type is satisfied is as shown below : ');\n",
"disp('maximize Z = 2*X1 + 3*X2');\n",
"disp('subject to');\n",
"disp('X1+X2 >= 6')\n",
"disp('7*X1+X2 >= 14');\n",
"disp('X1,X2 >= 0');"
   ]
   }
,
{
		   "cell_type": "markdown",
		   "metadata": {},
		   "source": [
			"## Example 16.3: Solve_LP_problem.sce"
		   ]
		  },
  {
"cell_type": "code",
	   "execution_count": null,
	   "metadata": {
	    "collapsed": true
	   },
	   "outputs": [],
"source": [
"//Exa 16.3\n",
"clc;\n",
"clear;\n",
"close;\n",
"//given data :\n",
"disp('Given the following LP model :')\n",
"disp('maximize Z = 6*X1 + 8*X2');\n",
"disp('subject to');\n",
"disp('5*X1+10*X2 <= 60');\n",
"disp('4*X1+4*X2 <= 40');\n",
"disp('X1,X2 >= 0');\n",
"disp('The introduction of non-negative constraints X1>=0 and X2>=0 will eliminate the 2nd, 3rd and 4th quadrants of XY plane.');\n",
"disp('Compute the cordinates to plot equations relting to the constraints on the XY plane as shown below : ');\n",
"disp('5*X1+10*X2 <= 60');\n",
"disp('When X1=0 : X2=6');\n",
"disp('When X2=0 : X1=12');\n",
"X1=0:12;\n",
"X2=(60-5*X1)/10;\n",
"plot2d(X1,X2);\n",
"disp('Consider the 2nd constraint in the form :');\n",
"disp('4*X1+4*X2 <= 40');\n",
"disp('When X1=0 : X2=10');\n",
"disp('When X2=0 : X1=10');\n",
"X1=0:10;\n",
"X2=(40-4*X1)/4;\n",
"plot2d(X1,X2);\n",
"disp('The closed polygon is the feasible region at each of the corner points of the closed polygon is computed as follows by substituting its coordinates in the objective function :');\n",
"ZA=6*0+8*0;\n",
"ZB=6*10+8*0;\n",
"ZC=6*8+8*2;\n",
"ZD=6*0+8*6;\n",
"disp('ZA=6*0+8*0=0...\n",
"   ZB=6*10+8*0=60...\n",
"   ZC=6*8+8*2=64...\n",
"   ZD=6*0+8*6=48');\n",
"disp('Since the type of the objective function is maximization, the solution corresponding to the maximum Z value should be selected as the optimum solution. The Z value is maximum for the corner point C. Hence, the corresponding solution is ');\n",
"disp('X1 = 8  X2 = 2 and Z(Optimum) = 64');"
   ]
   }
,
{
		   "cell_type": "markdown",
		   "metadata": {},
		   "source": [
			"## Example 16.4: Solve_LP_problem.sce"
		   ]
		  },
  {
"cell_type": "code",
	   "execution_count": null,
	   "metadata": {
	    "collapsed": true
	   },
	   "outputs": [],
"source": [
"//Exa 16.4\n",
"clc;\n",
"clear;\n",
"close;\n",
"//given data :\n",
"disp('Given the following LP model :')\n",
"disp('minimize Z = 2*X1 + 3*X2');\n",
"disp('subject to');\n",
"disp('X1+X2 >= 6');\n",
"disp('7*X1+X2 >= 14');\n",
"disp('X1,X2 >= 0');\n",
"disp('The introduction of non-negative constraints X1>=0 and X2>=0 will eliminate the 2nd, 3rd and 4th quadrants of XY plane.');\n",
"disp('Compute the cordinates to plot equations relting to the constraints on the XY plane as shown below : ');\n",
"disp('X1+X2 = 6');\n",
"disp('When X1=0 : X2=6');\n",
"disp('When X2=0 : X1=6');\n",
"X1=0:6;\n",
"X2=(6-X1);\n",
"plot2d(X1,X2);\n",
"disp('Consider the 2nd constraint in the form :');\n",
"disp('7*X1+X2 = 14');\n",
"disp('When X1=0 : X2=14');\n",
"disp('When X2=0 : X1=2');\n",
"X1=0:2;\n",
"X2=(14-7*X1);\n",
"plot2d(X1,X2);\n",
"disp('The Optimum solution will be in any one of the corners A, B and C');\n",
"disp('The objective function value at each of these corner points of the feasible solution space is computed as fllows by substituting its coordinates in the objective function.')\n",
"ZA=2*0+3*14;\n",
"ZB=2*(4/3)+3*(14/3);\n",
"ZC=2*6+3*0;\n",
"disp('ZA=6*0+8*0=0...\n",
"   ZB=6*10+8*0=60...\n",
"   ZC=6*8+8*2=64);\n",
"disp('Since the type of the objective function is minimization, the solution corresponding to the minimum Z value should be selected as the optimum solution. The Z value is minimum for the corner point C. Hence, the corresponding solution is ');\n",
"disp('X1 = 6  X2 = 0 and Z(Optimum) = 12');"
   ]
   }
,
{
		   "cell_type": "markdown",
		   "metadata": {},
		   "source": [
			"## Example 16.5: Solve_LP_model.sce"
		   ]
		  },
  {
"cell_type": "code",
	   "execution_count": null,
	   "metadata": {
	    "collapsed": true
	   },
	   "outputs": [],
"source": [
"//Exa 16.3\n",
"clc;\n",
"clear;\n",
"close;\n",
"//given data :\n",
"disp('Given the following LP model :')\n",
"disp('maximize Z = 6*X1 + 8*X2');\n",
"disp('subject to');\n",
"disp('5*X1+10*X2 <= 60');\n",
"disp('4*X1+4*X2 <= 40');\n",
"disp('X1,X2 >= 0');\n",
"disp('The canonical form of the above LP problem is :');\n",
"disp('maximize Z = 6*X1 + 8*X2 + 0*S1 + 0*S2');\n",
"disp('subject to');\n",
"disp('5*X1+10*X2+S1 = 60');\n",
"disp('4*X1+4*X2+S2 = 40');\n",
"disp('X1,X2,S1,S2 >= 0');\n",
"disp('S1, S2 are slack variables.');\n",
"disp('The initial simplex table of the above problem is shownin table below : ');\n",
"disp('CBi               Cj          6          8          0          0');\n",
"disp('           Basic Variable    X1         X2         S1         S2     Solution     Ratio');\n",
"disp(' 0               S1           5         10          1          0        60        60/10=6**');\n",
"disp(' 0               S2           4          4          0          1        40        40/4=10');\n",
"disp('                 Zj           0          0          0          0         0');\n",
"disp('               Cj-Zj          6          8*         0          0');\n",
"disp('* key column       ** key row');\n",
"disp('The value at the intersection of the keyrow and key column is called the key element.');"
   ]
   }
,
{
		   "cell_type": "markdown",
		   "metadata": {},
		   "source": [
			"## Example 16.6: Solve_LP_model_using_simplex_method.sce"
		   ]
		  },
  {
"cell_type": "code",
	   "execution_count": null,
	   "metadata": {
	    "collapsed": true
	   },
	   "outputs": [],
"source": [
"//Exa 16.6\n",
"clc;\n",
"clear;\n",
"close;\n",
"//given data :\n",
"disp('Given the following LP model :')\n",
"disp('minimize Z = 2*X1 + 3*X2');\n",
"disp('subject to');\n",
"disp('X1+X2 >= 6');\n",
"disp('7*X1+X2 >= 14');\n",
"disp('X1,X2 >= 0');\n",
"disp('Standard Form : The standard form of the above model is as follows :');\n",
"disp('minimize Z = 2*X1 + 3*X2');\n",
"disp('subject to');\n",
"disp('X1+X2-S1 >= 6');\n",
"disp('7*X1+X2-S2 >= 14');\n",
"disp('X1,X2,S1,S2 >= 0');\n",
"disp('S1, S2 are surplus variables which are introduced to balance the constraints.');\n",
"disp('Canonical Form : The Canonical form of the above model is as follows :');\n",
"disp('minimize Z = 2*X1 + 3*X2 + M1*R1 + M2*R2');\n",
"disp('subject to');\n",
"disp('X1+X2-S1+R1 >= 6');\n",
"disp('7*X1+X2-S2+R2 >= 14');\n",
"disp('X1,X2,S1,S2,R1,R2 >= 0');\n",
"disp('R1, R2 are artificial variables which are introduced to have basic variables in each of the constraints.');\n",
"\n",
"disp('The initial simplex table of the above problem is shownin table below : ');\n",
"disp('CBi               Cj          2          3          0          0          M          M');\n",
"disp('           Basic Variable    X1         X2         S1         S2         R1        R2          Solution          Ratio');\n",
"disp(' M               R1           1          1         -1          0          1         0             6                6');\n",
"disp(' M               R2           7          1          0         -1          0         1            14                2**');\n",
"disp('                 Zj          8M         2M         -M         -M          M         M           20M');\n",
"disp('               Cj-Zj       2-8*M       3-2*M        M          M          0         0');\n",
"disp('* key column       ** key row');\n",
"disp('The value at the intersection of the keyrow and key column is called the key element.');"
   ]
   }
],
"metadata": {
		  "kernelspec": {
		   "display_name": "Scilab",
		   "language": "scilab",
		   "name": "scilab"
		  },
		  "language_info": {
		   "file_extension": ".sce",
		   "help_links": [
			{
			 "text": "MetaKernel Magics",
			 "url": "https://github.com/calysto/metakernel/blob/master/metakernel/magics/README.md"
			}
		   ],
		   "mimetype": "text/x-octave",
		   "name": "scilab",
		   "version": "0.7.1"
		  }
		 },
		 "nbformat": 4,
		 "nbformat_minor": 0
}
