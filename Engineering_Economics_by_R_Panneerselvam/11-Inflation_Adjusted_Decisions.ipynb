{
"cells": [
 {
		   "cell_type": "markdown",
	   "metadata": {},
	   "source": [
       "# Chapter 11: Inflation Adjusted Decisions"
	   ]
	},
{
		   "cell_type": "markdown",
		   "metadata": {},
		   "source": [
			"## Example 11.1: What_Equal_Amount_should_he_save.sce"
		   ]
		  },
  {
"cell_type": "code",
	   "execution_count": null,
	   "metadata": {
	    "collapsed": true
	   },
	   "outputs": [],
"source": [
"//Exa 11.1\n",
"clc;\n",
"clear;\n",
"close;\n",
"disp('Few steps are as follows : ');\n",
"disp('Step 1 : The estimated future requirementt per year in terms of todays rupees from his age 61 through 70 is Rs. 24000.');\n",
"disp('Step 2 : The formula which is given below is used to get future equivalent of Rs. 24000 with the inflation of 9% per year.');\n",
"disp('Formula : P*(1+IR)^n');\n",
"P=24000;//in Rs.\n",
"IR=9;//in % per year\n",
"Age=61;//in years\n",
"for n=21:30\n",
"    IV=P*(1+IR/100)^n;//in Rs\n",
"    disp('Age in years : '+string(Age)+'. ''Inflated value of Rs. 24000 at end of year : '+string(n)+' in Rs. '+string(round(IV)));\n",
"    Age=Age+1;//in Years\n",
"end;\n",
"PW=0;//For initialising\n",
"n=21;//in years\n",
"for m=1:10  \n",
"    IV=P*(1+IR/100)^n;//in Rs\n",
"    n=n+1;\n",
"    i=15;//in % per year\n",
"    PW=PW+IV/(1+i/100)^m;\n",
"end\n",
"disp(PW,'Present equivalent of withdrawls in Rs. : ');\n",
"//The annual equivalent amount :\n",
"i=15;//in % per year\n",
"n=20;//in years\n",
"//Formula : (A/F,i,n) : (i/100)/(((1+i/100)^n)-1) \n",
"A=PW*(i/100)/(((1+i/100)^n)-1);//in Rs.\n",
"disp(A,'The annual equivalent amount in Rs. : ');\n",
"disp('RECOMMENDATION : The person has to invest an amount of Rs. '+string(A)+' at the end of every year starting from his age 41 through 60 which will enable him to make a withdrawl at the end of every year starting from his age 61 through 70.'); "
   ]
   }
,
{
		   "cell_type": "markdown",
		   "metadata": {},
		   "source": [
			"## Example 11.2: Find_Economic_Life.sce"
		   ]
		  },
  {
"cell_type": "code",
	   "execution_count": null,
	   "metadata": {
	    "collapsed": true
	   },
	   "outputs": [],
"source": [
"//Exa 11.2\n",
"clc;\n",
"clear;\n",
"close;\n",
"disp('The method of finding the economic life of the machine witha discounting factor of 20% at zero inflation rate is summarized in table below. From the table it is clear that total annual cost is minimum if the machine is used for 14 years. Hence the economic life of the machine is 14 years.');\n",
"disp('End of year     Op_cost     Main_cost    Op+Main     P/F,i,n     PW     Cummulative     Salvage     PW_S    TPW     A/P,i,n     AEM');\n",
"i=20;//in  per year\n",
"Cum=0;//initialising\n",
"Op_cost=40000;//in RS.\n",
"Main_cost=60000;//in Rs.\n",
"OpMain=Op_cost+Main_cost;//in Rs.\n",
"S=400000;//in Rs.\n",
"for n=1:15\n",
"    PF=1/((1+i/100)^n);\n",
"    PW=OpMain*PF;//in Rs.\n",
"    Cum=Cum+PW\n",
"    PW_S=PF*S;//in RS.\n",
"    TPW=500000+Cum-PW_S;//in Rs.\n",
"    AP=((i/100)*(1+i/100)^n)/(((1+i/100)^n)-1);\n",
"    AEM=TPW*AP;//in RS\n",
"    disp('       '+string(n)+'        '+string(Op_cost)+'        '+string(Main_cost)+'        '+string(OpMain)+'    '+string(PF)+'     '+string(PW)+'        '+string(Cum)+'        '+string(S)+'        '+string(PW_S)+'        '+string(TPW)+'        '+string(AP)+'        '+string(AEM));\n",
"    Op_cost=Op_cost+5000;//in Rs.\n",
"    Main_cost=Main_cost+6000;//in Rs.\n",
"    S=S-50000;//in Rs.\n",
"end"
   ]
   }
,
{
		   "cell_type": "markdown",
		   "metadata": {},
		   "source": [
			"## Example 11.3: Determine_the_best_machine_based_on_Present_Worth.sce"
		   ]
		  },
  {
"cell_type": "code",
	   "execution_count": null,
	   "metadata": {
	    "collapsed": true
	   },
	   "outputs": [],
"source": [
"//Exa 11.3\n",
"clc;\n",
"clear;\n",
"close;\n",
"IR=5;//in % per year\n",
"i=15;//in % per year\n",
"//Machine X :\n",
"disp('Machine X : ');\n",
"Ppx=1500000;//in Rs.\n",
"n=7;//in years\n",
"S=200000;//in Rs.\n",
"AMC=300000;//in Rs.\n",
"disp('End of year     AMC     InflationFactor     InflatedAmount     P/F     PW');\n",
"format('v',9)\n",
"Pw=0;//For initialising\n",
"for n=1:7\n",
"    FP=(1+IR/100)^n\n",
"    IA=AMC*FP;//in Rs.\n",
"    PF=1/((1+i/100)^n);\n",
"    PW=IA*PF;//in Rs.\n",
"    Pw=Pw+PW;//in Rs.\n",
"    disp('     '+string(n)+'        '+string(AMC)+'         '+string(FP)+'           '+string(IA)+'          '+string(PF)+'      '+string(PW));\n",
"end\n",
"disp(Pw,'Present worth of inflated annual operating and maintenance cost in Rs. : ');\n",
"PWX=Ppx+Pw-S*1/((1+i/100)^n);\n",
"disp(PWX,'Present worth of machine X in Rs. : ');\n",
"//Machine Y\n",
"disp('Machine Y : ');\n",
"Ppy=2000000;//in Rs.\n",
"n=7;//in years\n",
"S=300000;//in Rs.\n",
"AMC=250000;//in Rs.\n",
"disp('End of year     AMC     InflationFactor     InflatedAmount     P/F     PW');\n",
"format('v',9)\n",
"Pw=0;//For initialising\n",
"for n=1:7\n",
"    FP=(1+IR/100)^n\n",
"    IA=AMC*FP;//in Rs.\n",
"    PF=1/((1+i/100)^n);\n",
"    PW=IA*PF;//in Rs.\n",
"    Pw=Pw+PW;//in Rs.\n",
"    disp('     '+string(n)+'        '+string(AMC)+'         '+string(FP)+'           '+string(IA)+'          '+string(PF)+'      '+string(PW));\n",
"end\n",
"disp(Pw,'Present worth of inflated annual operating and maintenance cost in Rs. : ');\n",
"PWY=Ppy+Pw-S*1/((1+i/100)^n);\n",
"disp(PWY,'Present worth of machine Y in Rs. : ');\n",
"disp('Since the present worth of Machine X is less than Machine Y, select Machine X')\n",
"//Note : Calculations are not accurate in the book"
   ]
   }
,
{
		   "cell_type": "markdown",
		   "metadata": {},
		   "source": [
			"## Example 11.4: Find_the_single_deposit.sce"
		   ]
		  },
  {
"cell_type": "code",
	   "execution_count": null,
	   "metadata": {
	    "collapsed": true
	   },
	   "outputs": [],
"source": [
"//Exa 11.4\n",
"clc;\n",
"clear;\n",
"close;\n",
"IR=6;//in % per year\n",
"i=18;//in % per year\n",
"AFR=5000000;//in Rs.\n",
"n=7;//in years\n",
"AI=500000;//in Rs.\n",
"disp('End of year     AFR     InflationFactor     InflatedAmount     P/F     PW');\n",
"TPW=0;//Initialising\n",
"format('v',10)\n",
"for n=1:5\n",
"    IF=(1+IR/100)^n;\n",
"    IA=IF*AFR;//in Rs.\n",
"    PF=1/((1+i/100)^n);\n",
"    PW=PF*IA;//in Rs.\n",
"    TPW=PW+TPW;//in Rs.\n",
"    disp('       '+string(n)+'        '+string(AFR)+'        '+string(IF)+'        '+string(IA)+'    '+string(PF)+'     '+string(PW));\n",
"    AFR=AFR+AI;//in Rs.\n",
"end;\n",
"disp(TPW,'The value of the single deposit to be made now to recieve the specified series for the next five years is Rs. : ')"
   ]
   }
],
"metadata": {
		  "kernelspec": {
		   "display_name": "Scilab",
		   "language": "scilab",
		   "name": "scilab"
		  },
		  "language_info": {
		   "file_extension": ".sce",
		   "help_links": [
			{
			 "text": "MetaKernel Magics",
			 "url": "https://github.com/calysto/metakernel/blob/master/metakernel/magics/README.md"
			}
		   ],
		   "mimetype": "text/x-octave",
		   "name": "scilab",
		   "version": "0.7.1"
		  }
		 },
		 "nbformat": 4,
		 "nbformat_minor": 0
}
