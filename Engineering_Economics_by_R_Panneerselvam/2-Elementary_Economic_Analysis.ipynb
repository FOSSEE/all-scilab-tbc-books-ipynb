{
"cells": [
 {
		   "cell_type": "markdown",
	   "metadata": {},
	   "source": [
       "# Chapter 2: Elementary Economic Analysis"
	   ]
	},
{
		   "cell_type": "markdown",
		   "metadata": {},
		   "source": [
			"## Example 2.1: Find_Economic_advantage.sce"
		   ]
		  },
  {
"cell_type": "code",
	   "execution_count": null,
	   "metadata": {
	    "collapsed": true
	   },
	   "outputs": [],
"source": [
"//Exa2.1\n",
"clc;\n",
"clear;\n",
"close;\n",
"//Part a : Cost of using aluminium metal for the jet engine part\n",
"//given data :\n",
"w1=1.2;//in Kg\n",
"//let c1=cost of making aluminium casting\n",
"//let c2=cost of machining aluminium casting per unit\n",
"//let Tc=Total cost of jet engine part made of aluminium per unit\n",
"c1=80;//in Rs/Kg\n",
"c2=150;//in Rs\n",
"Tc1=c1*w1+c2;//in Rs\n",
"disp(Tc1,'Total cost of jet engine part made of aluminium per unit in Rs : ');\n",
"\n",
"//Part b : Cost of jet engine part made of steel/unit\n",
"//given data :\n",
"w2=1.35;//in Kg\n",
"//let c1=cost of making steel casting\n",
"//let c2=cost of machining steel casting per unit\n",
"//let c3=penalty of excess weight of steel casting\n",
"//let Tc=Total cost of jet engine part made of steel per unit\n",
"c1=35;//in Rs/Kg\n",
"c2=170;//in Rs\n",
"c3=1300;//in Rs/Kg\n",
"Tc2=c1*w2+c2+c3*(w2-w1);//in Rs\n",
"disp(Tc2,'Total cost of jet engine part made of steel per unit in Rs : ');\n",
"disp(Tc2-Tc1,'DECISION : The total cost/unit of a jet engine part made of aluminium is less than that for an engine made of steel. Hence, aluminium is suggested for making jet engine part. The economic advantage of aluminium over steel per unit in Rs : ')"
   ]
   }
,
{
		   "cell_type": "markdown",
		   "metadata": {},
		   "source": [
			"## Example 2.2: Select_best_alternative_and_Find_Economic_advantage.sce"
		   ]
		  },
  {
"cell_type": "code",
	   "execution_count": null,
	   "metadata": {
	    "collapsed": true
	   },
	   "outputs": [],
"source": [
"//Exa2.2\n",
"clc;\n",
"clear;\n",
"close;\n",
"//given data for table with wooden top\n",
"wood=0.1;//in m^3\n",
"WoodCost=12000;//in Rs/m^3\n",
"Table=1;//in units\n",
"TableTopCost=3000;//in Rs/unit\n",
"LegBushes=4;//units\n",
"LegBushesCost=10;//Rs/units\n",
"Nails=100;//in grams\n",
"NailsCost=300;//in Rs/Kg\n",
"TotalLabour=15;//in Hours\n",
"TotalLabourCost=50;//in Rs/Hours\n",
"//Part a : Cost of table with wooden top\n",
"WoodCostframelegs=WoodCost*wood;//in Rs\n",
"WoodTopCost=3000;//in Rs\n",
"BushesCost=LegBushesCost*LegBushes;//in Rs\n",
"NailsCost=Nails*NailsCost/1000;//in Rs\n",
"LabourCost=TotalLabourCost*TotalLabour;//in Rs\n",
"TotalCost1=WoodCostframelegs+WoodTopCost+BushesCost+NailsCost+LabourCost;//in Rs\n",
"disp(TotalCost1,'Cost of Table with wooden top in Rs : ');\n",
"\n",
"//given data for table with granite top\n",
"wood=0.15;//in m^3\n",
"WoodCost=12000;//in Rs/m^3\n",
"Granite=1.62;//in m^2\n",
"GraniteCost=800;//in Rs/m^2\n",
"LegBushes=4;//units\n",
"LegBushesCost=25;//Rs/units\n",
"Nails=50;//in grams\n",
"NailsCost=300;//in Rs/Kg\n",
"TotalLabour=8;//in Hours\n",
"TotalLabourCost=50;//in Rs/Hours\n",
"//Part b : Cost of table with granite top\n",
"WoodCostframelegs=WoodCost*wood;//in Rs\n",
"GraniteTopCost=Granite*GraniteCost;//in Rs\n",
"BushesCost=LegBushesCost*LegBushes;//in Rs\n",
"NailsCost=Nails*NailsCost/1000;//in Rs\n",
"LabourCost=TotalLabourCost*TotalLabour;//in Rs\n",
"TotalCost2=WoodCostframelegs+GraniteTopCost+BushesCost+NailsCost+LabourCost;//in Rs\n",
"disp(TotalCost2,'Cost of Table with Granite top in Rs : ');\n",
"//Economic Advantage\n",
"disp(TotalCost1-TotalCost2,'Economic advantage of table with granite top in Rs : ')"
   ]
   }
,
{
		   "cell_type": "markdown",
		   "metadata": {},
		   "source": [
			"## Example 2.3: Find_Economic_advantage_of_best_alternative.sce"
		   ]
		  },
  {
"cell_type": "code",
	   "execution_count": null,
	   "metadata": {
	    "collapsed": true
	   },
	   "outputs": [],
"source": [
"//Exa2.3\n",
"clc;\n",
"clear;\n",
"close;\n",
"//given data\n",
"LatheCost=200;//in Rs/hour\n",
"grinderCost=150;//in Rs/hour\n",
"//given data for Design A\n",
"HoursOfLathe=16;//in hours/1000Unit\n",
"HoursOfGrinder=4.5;//in hours/1000Unit\n",
"TotalCostA=LatheCost*HoursOfLathe+grinderCost*HoursOfGrinder;//in Rs/1000unit\n",
"disp(TotalCostA*100000/1000,'Total cost of design A per 100,000 units : ');\n",
"\n",
"//given data for Design B\n",
"HoursOfLathe=7;//in hours/1000Unit\n",
"HoursOfGrinder=12;//in hours/1000Unit\n",
"TotalCostB=LatheCost*HoursOfLathe+grinderCost*HoursOfGrinder;//in Rs/1000unit\n",
"disp(TotalCostB*100000/1000,'Total cost of design A per 100,000 units : ');\n",
"//Economic Advantage\n",
"disp(TotalCostA*100-TotalCostB*100,'Economic advantage of design B over design A per 100,000 units in Rs : ');"
   ]
   }
,
{
		   "cell_type": "markdown",
		   "metadata": {},
		   "source": [
			"## Example 2.4: Find_optimum_tank_dimensions_and_total_expected_savings.sce"
		   ]
		  },
  {
"cell_type": "code",
	   "execution_count": null,
	   "metadata": {
	    "collapsed": true
	   },
	   "outputs": [],
"source": [
"//Exa2.4\n",
"clc;\n",
"clear;\n",
"close;\n",
"//given data for original design\n",
"Tanks=4;//units\n",
"TankDia=5.2;//in meter\n",
"TankRad=TankDia/2;//in meters\n",
"TankHeight=7;//in meters\n",
"HeightDiaRatio=TankHeight/TankDia;//unitless\n",
"VolPerTank=(22/7)*TankRad^2*TankHeight;//in m^3\n",
"//given data for new design\n",
"disp('Cost of old design = 111% of cost of new design(Optimal Design)');\n",
"disp('Optimal Ratio of height to diameter = 4:1 ');\n",
"disp('h:d = 4:1');\n",
"disp('4*d = h');\n",
"disp('r = h/8');\n",
"disp('Since volume remains the same, Volume = (22/7)*(h/8)^2*h');\n",
"h=VolPerTank/(22/7)*64;//in meters\n",
"r=h/8;//in meters\n",
"d=2*r;//in meters\n",
"CostNewDesign=900000*(100/111);//in Rs\n",
"disp(900000-CostNewDesign,'Expected savings by redesign in Rs : ');"
   ]
   }
,
{
		   "cell_type": "markdown",
		   "metadata": {},
		   "source": [
			"## Example 2.5: Find_Economic_advantage_of_selection.sce"
		   ]
		  },
  {
"cell_type": "code",
	   "execution_count": null,
	   "metadata": {
	    "collapsed": true
	   },
	   "outputs": [],
"source": [
"//Exa2.5\n",
"clc;\n",
"clear;\n",
"close;\n",
"distance=2500;//in Km\n",
"TransCost=1;//in Rs/Kg/100Km\n",
"//given data for steel window frame\n",
"SteelFramePrice=1000;//in Rs/Unit\n",
"SteelFrameWeight=75;//in Kg/Unit\n",
"TotalCost1=SteelFramePrice+TransCost*SteelFrameWeight*distance/100;//in Rs\n",
"disp(TotalCost1,'Total cost of steel window frame per unit in Rs : ');\n",
"\n",
"//given data for Aluminium window frame\n",
"AlumilniumFramePrice=1500;//in Rs/Unit\n",
"AlumilniumFrameWeight=28;//in Kg/Unit\n",
"TotalCost2=AlumilniumFramePrice+TransCost*AlumilniumFrameWeight*distance/100;//in Rs\n",
"disp(TotalCost2,'Total cost of Alumilnium window frame per unit in Rs : ');\n",
"disp(TotalCost1-TotalCost2,'DECISION : The total cost per unit of the aluminium window frame is less than that of steel window frame. Hence, Alumilnium window frame is recommended. The Economic advantage per unit of the Alumilnium window frame over steel window frame in Rs :  ')"
   ]
   }
,
{
		   "cell_type": "markdown",
		   "metadata": {},
		   "source": [
			"## Example 2.6: Find_most_economical_sequence_of_operations.sce"
		   ]
		  },
  {
"cell_type": "code",
	   "execution_count": null,
	   "metadata": {
	    "collapsed": true
	   },
	   "outputs": [],
"source": [
"//Exa2.6\n",
"clc;\n",
"clear;\n",
"close;\n",
"//Cost of component using process sequence 1\n",
"disp('The process sequence 1 of the component is as follows : Turning - Milling - Shaping - Drilling') ;\n",
"disp('Calculations are summarized in form of table below : ');\n",
"disp('Operation     Operation       Time       Machine Hour rate     Cost');\n",
"disp('   No.                     Min    Hour           Rs.             Rs.');\n",
"disp('   1           Turning       5   0.083          200           16.60');\n",
"disp('   2           Milling       8   0.133          400           53.20');\n",
"disp('   3          Shapiing      10   0.167          350           58.45');\n",
"disp('   4          Drilling       3   0.050          300           15.00');\n",
"disp('                                                   Total     143.25');\n",
"\n",
"//Cost of component using process sequence 2\n",
"disp('The process sequence 2 of the component is as follows : Turning - Milling - Drilling') ;\n",
"disp('Calculations are summarized in form of table below : ');\n",
"disp('Operation     Operation       Time       Machine Hour rate     Cost');\n",
"disp('   No.                     Min    Hour           Rs.             Rs.');\n",
"disp('   1           Turning       5   0.083          200           16.60');\n",
"disp('   2           Milling      14   0.233          400           93.20');\n",
"disp('   4          Drilling       3   0.050          300           15.00');\n",
"disp('                                                   Total     124.80');\n",
"\n",
"//Cost of component using process sequence 3\n",
"disp('The process sequence 3 of the component is as follows : Only CNC operations') ;\n",
"disp('Calculations are summarized in form of table below : ');\n",
"disp('Operation     Operation       Time       Machine Hour rate     Cost');\n",
"disp('   No.                     Min    Hour           Rs.             Rs.');\n",
"disp('   1             CNC         8   0.133         1000             133');\n",
"\n",
"disp('The process sequence 2 has the least cost. Therefore, it should be selected for manufacturing the component.')"
   ]
   }
],
"metadata": {
		  "kernelspec": {
		   "display_name": "Scilab",
		   "language": "scilab",
		   "name": "scilab"
		  },
		  "language_info": {
		   "file_extension": ".sce",
		   "help_links": [
			{
			 "text": "MetaKernel Magics",
			 "url": "https://github.com/calysto/metakernel/blob/master/metakernel/magics/README.md"
			}
		   ],
		   "mimetype": "text/x-octave",
		   "name": "scilab",
		   "version": "0.7.1"
		  }
		 },
		 "nbformat": 4,
		 "nbformat_minor": 0
}
