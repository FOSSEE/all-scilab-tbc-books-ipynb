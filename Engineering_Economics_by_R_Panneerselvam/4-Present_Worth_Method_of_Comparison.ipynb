{
"cells": [
 {
		   "cell_type": "markdown",
	   "metadata": {},
	   "source": [
       "# Chapter 4: Present Worth Method of Comparison"
	   ]
	},
{
		   "cell_type": "markdown",
		   "metadata": {},
		   "source": [
			"## Example 4.1: Suggest_Best_Technology.sce"
		   ]
		  },
  {
"cell_type": "code",
	   "execution_count": null,
	   "metadata": {
	    "collapsed": true
	   },
	   "outputs": [],
"source": [
"//Exa 4.1\n",
"clc;\n",
"clear;\n",
"close;\n",
"//Technology 1 :\n",
"disp('Technology 1 : ');\n",
"P=1200000;//in Rs\n",
"A=400000;//in Rs\n",
"i=20;//in % per annum\n",
"n=10;//in years\n",
"//Formula : (P/A,i,n)=(((1+i/100)^n)-1)/((i/100)*(1+i/100)^n)\n",
"PW=-P+A*(((1+i/100)^n)-1)/((i/100)*(1+i/100)^n);//in RS\n",
"disp(PW,'The present worth for this technology in RS. : ');\n",
"\n",
"//Technology 2 :\n",
"disp('Technology 2 : ');\n",
"P=2000000;//in Rs\n",
"A=600000;//in Rs\n",
"i=20;//in % per annum\n",
"n=10;//in years\n",
"//Formula : (P/A,i,n)=(((1+i/100)^n)-1)/((i/100)*(1+i/100)^n)\n",
"PW=-P+A*(((1+i/100)^n)-1)/((i/100)*(1+i/100)^n);//in RS\n",
"disp(PW,'The present worth for this technology in RS. : ');\n",
"\n",
"//Technology 3 :\n",
"disp('Technology 3 : ');\n",
"P=1800000;//in Rs\n",
"A=500000;//in Rs\n",
"i=20;//in % per annum\n",
"n=10;//in years\n",
"//Formula : (P/A,i,n)=(((1+i/100)^n)-1)/((i/100)*(1+i/100)^n)\n",
"PW=-P+A*(((1+i/100)^n)-1)/((i/100)*(1+i/100)^n);//in RS\n",
"disp(PW,'The present worth for this technology in RS. : ');\n",
"disp('It is clear from the calculations that the present worth of technology 2 is the highest among all technologies. Therefore technology 2 is suggested for implementation to expand the production.');"
   ]
   }
,
{
		   "cell_type": "markdown",
		   "metadata": {},
		   "source": [
			"## Example 4.2: Determine_which_bid_should_be_accepted.sce"
		   ]
		  },
  {
"cell_type": "code",
	   "execution_count": null,
	   "metadata": {
	    "collapsed": true
	   },
	   "outputs": [],
"source": [
"//Exa 4.2\n",
"clc;\n",
"clear;\n",
"close;\n",
"//Bid 1: Alpha Elevator Inc.\n",
"disp('Bid 1: Alpha Elevator Inc. ');\n",
"P=450000;//in Rs\n",
"A=27000;//in Rs\n",
"i=15;//in % per annum\n",
"n=15;//in years\n",
"//Formula : (P/A,i,n)=(((1+i/100)^n)-1)/((i/100)*(1+i/100)^n)\n",
"PW=P+A*(((1+i/100)^n)-1)/((i/100)*(1+i/100)^n);//in RS\n",
"disp(PW,'The present worth for this bid in RS. : ');\n",
"\n",
"//Bid 2: Beta Elevator Inc.\n",
"disp('Bid 2: Beta Elevator Inc. ');\n",
"P=540000;//in Rs\n",
"A=28500;//in Rs\n",
"i=15;//in % per annum\n",
"n=15;//in years\n",
"//Formula : (P/A,i,n)=(((1+i/100)^n)-1)/((i/100)*(1+i/100)^n)\n",
"PW=P+A*(((1+i/100)^n)-1)/((i/100)*(1+i/100)^n);//in RS\n",
"disp(PW,'The present worth for this bid in RS. : ');\n",
"disp('The total present worth cost of bid 1 is less than that of bid 2. Hence bid 1 is to be selected for implementation. That is, the Elevator from Alpha Elevator Inc. is to be purchased and installed in the new building.');"
   ]
   }
,
{
		   "cell_type": "markdown",
		   "metadata": {},
		   "source": [
			"## Example 4.3: Which_proposal_should_be_selected.sce"
		   ]
		  },
  {
"cell_type": "code",
	   "execution_count": null,
	   "metadata": {
	    "collapsed": true
	   },
	   "outputs": [],
"source": [
"//Exa 4.3\n",
"clc;\n",
"clear;\n",
"close;\n",
"//Investment proposal A : \n",
"P1=-10000;//in Rs\n",
"P2=3000;//in Rs\n",
"P3=3000;//in Rs\n",
"P4=7000;//in Rs\n",
"P5=6000;//in Rs\n",
"i=18;//in % per annum\n",
"//Formula : (P/F,i,n) : 1/((1+i/100)^n)\n",
"PW_A=P1+P2*1/((1+i/100)^1)+P3*1/((1+i/100)^2)+P4*1/((1+i/100)^3)+P5*1/((1+i/100)^4);//in RS\n",
"disp(PW_A,'The present worth of A in RS. : ');\n",
"\n",
"//Investment proposal B : \n",
"P1=-10000;//in Rs\n",
"P2=6000;//in Rs\n",
"P3=6000;//in Rs\n",
"P4=3000;//in Rs\n",
"P5=3000;//in Rs\n",
"i=18;//in % per annum\n",
"//Formula : (P/F,i,n) : 1/((1+i/100)^n)\n",
"PW_B=P1+P2*1/((1+i/100)^1)+P3*1/((1+i/100)^2)+P4*1/((1+i/100)^3)+P5*1/((1+i/100)^4);//in RS\n",
"disp(PW_B,'The present worth of B in RS. : ');\n",
"disp('At i=18%, the present worth of proposal B is higher than that of proposal A. Therefore, select proposal B.')"
   ]
   }
,
{
		   "cell_type": "markdown",
		   "metadata": {},
		   "source": [
			"## Example 4.4: Suggest_Best_Alternative.sce"
		   ]
		  },
  {
"cell_type": "code",
	   "execution_count": null,
	   "metadata": {
	    "collapsed": true
	   },
	   "outputs": [],
"source": [
"//Exa 4.4\n",
"clc;\n",
"clear;\n",
"close;\n",
"//Alternative 1 : \n",
"disp('In 1st alternative down payment : Rs. 16,00,000');\n",
"//Alternative 2 : \n",
"P0=400000;//in Rs\n",
"P=200000;//in Rs\n",
"i=18;//in % per annum\n",
"n=10;//in years\n",
"//Formula : (P/A,i,n) : (((1+i/100)^n)-1)/((i/100)*(1+i/100)^n)\n",
"PW=P0+P*(((1+i/100)^n)-1)/((i/100)*(1+i/100)^n);//in RS\n",
"disp(PW,'The present worth of alternative 2 in RS. : ');\n",
"disp('The present worth of 2nd alternative is less than that of first one i.e., complete downpayment of Rs. 1600000. Hence, select 2nd alternative.');"
   ]
   }
,
{
		   "cell_type": "markdown",
		   "metadata": {},
		   "source": [
			"## Example 4.5: Select_best_Investment_Plan.sce"
		   ]
		  },
  {
"cell_type": "code",
	   "execution_count": null,
	   "metadata": {
	    "collapsed": true
	   },
	   "outputs": [],
"source": [
"//Exa 4.5\n",
"clc;\n",
"clear;\n",
"close;\n",
"//Plan 1 : \n",
"P0=-1000;//in Rs\n",
"P=12000;//in Rs\n",
"i=12;//in % per annum\n",
"n=15;//in years\n",
"//Formula : (P/F,i,n) : 1/((1+i/100)^n)\n",
"PW1=P0+P*1/((1+i/100)^n);//in RS\n",
"disp(PW1,'The present worth of Plan-1 in RS. : ');\n",
"\n",
"//Plan 2 : \n",
"P0=-1000;//in Rs\n",
"P=4000;//in Rs\n",
"i=12;//in % per annum\n",
"n1=10;//in years\n",
"n2=15;//in years\n",
"//Formula : (P/F,i,n) : 1/((1+i/100)^n)\n",
"PW2=P0+P*1/((1+i/100)^n1)++P*1/((1+i/100)^n2);//in RS\n",
"disp(PW2,'The present worth of Plan-2 in RS. : ');\n",
"disp('The present worth of Plan-1 is more than that of Plan-1. Therefore plan 1 is the best plan from the investors point of view.');"
   ]
   }
,
{
		   "cell_type": "markdown",
		   "metadata": {},
		   "source": [
			"## Example 4.6: Find_Best_Investment_Alternative.sce"
		   ]
		  },
  {
"cell_type": "code",
	   "execution_count": null,
	   "metadata": {
	    "collapsed": true
	   },
	   "outputs": [],
"source": [
"//Exa 4.6\n",
"clc;\n",
"clear;\n",
"close;\n",
"//Novel Investment Ltd. Plan : \n",
"P0=-10000;//in Rs\n",
"P=800000;//in Rs\n",
"i=12;//in % per annum\n",
"n=20;//in years\n",
"//Formula : (P/F,i,n) : 1/((1+i/100)^n)\n",
"//Formula : (P/A,i,n) : (((1+i/100)^n)-1)/((i/100)*(1+i/100)^n)\n",
"PW1=P0*(((1+i/100)^n)-1)/((i/100)*(1+i/100)^n)+P*1/((1+i/100)^n);//in RS\n",
"disp(PW1,'The present worth of Plan-1 in RS. : ');\n",
"\n",
"//Innovative Investment Ltd. Plan : \n",
"P0=-10000;//in Rs\n",
"P=1500000;//in Rs\n",
"i=12;//in % per annum\n",
"n1=20;//in years\n",
"n2=25;//in years\n",
"//Formula : (P/F,i,n) : 1/((1+i/100)^n)\n",
"PW2=P0*(((1+i/100)^n1)-1)/((i/100)*(1+i/100)^n1)+P*1/((1+i/100)^n2);//in RS\n",
"disp(PW2,'The present worth of Plan-1 in RS. : ');\n",
"disp('The present worth of Innovative Investment Ltd. Plan is more than that of Novel Investment Ltd. Plan. Therefore Innovative Investment Ltd. Plan is the best plan from the investors point of view.');"
   ]
   }
,
{
		   "cell_type": "markdown",
		   "metadata": {},
		   "source": [
			"## Example 4.7: Find_Present_Worth_of_Business.sce"
		   ]
		  },
  {
"cell_type": "code",
	   "execution_count": null,
	   "metadata": {
	    "collapsed": true
	   },
	   "outputs": [],
"source": [
"//Exa 4.7\n",
"clc;\n",
"clear;\n",
"close;\n",
"//Given data :\n",
"P=12000;//in Rs\n",
"A1=10000;//in Rs\n",
"G=1000;//in Rs\n",
"i=18;//in % per annum\n",
"n=10;//in years\n",
"//Formula : (P/A,i,n)=(((1+i/100)^n)-1)/((i/100)*(1+i/100)^n)\n",
"//Formula : (A/G,i,n) :(((1+i/100)^n)-i*n/100-1)/(((i/100)*(1+i/100)^n)-i/100) \n",
"PW=-P+(A1+G*(((1+i/100)^n)-i*n/100-1)/(((i/100)*(1+i/100)^n)-i/100))*(((1+i/100)^n)-1)/((i/100)*(1+i/100)^n);//in RS\n",
"disp(PW,'The present worth of the small business in RS. : ');"
   ]
   }
],
"metadata": {
		  "kernelspec": {
		   "display_name": "Scilab",
		   "language": "scilab",
		   "name": "scilab"
		  },
		  "language_info": {
		   "file_extension": ".sce",
		   "help_links": [
			{
			 "text": "MetaKernel Magics",
			 "url": "https://github.com/calysto/metakernel/blob/master/metakernel/magics/README.md"
			}
		   ],
		   "mimetype": "text/x-octave",
		   "name": "scilab",
		   "version": "0.7.1"
		  }
		 },
		 "nbformat": 4,
		 "nbformat_minor": 0
}
