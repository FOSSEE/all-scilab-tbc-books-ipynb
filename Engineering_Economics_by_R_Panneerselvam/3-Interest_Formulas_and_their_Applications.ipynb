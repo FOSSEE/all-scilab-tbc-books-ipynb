{
"cells": [
 {
		   "cell_type": "markdown",
	   "metadata": {},
	   "source": [
       "# Chapter 3: Interest Formulas and their Applications"
	   ]
	},
{
		   "cell_type": "markdown",
		   "metadata": {},
		   "source": [
			"## Example 3.1: Find_maturity_value.sce"
		   ]
		  },
  {
"cell_type": "code",
	   "execution_count": null,
	   "metadata": {
	    "collapsed": true
	   },
	   "outputs": [],
"source": [
"//Exa3_1\n",
"clc;\n",
"clear;\n",
"close;\n",
"//given data is :\n",
"P=20000;//in rupees\n",
"n=10;//in years\n",
"i=18;//% per annum\n",
"F=P*(1+i/100)^n;\n",
"disp('Maturity value after 18 years is : '+string(F)+' Rupees.');\n",
"//Note : Ans in the book is not correct."
   ]
   }
,
{
		   "cell_type": "markdown",
		   "metadata": {},
		   "source": [
			"## Example 3.2: What_is_the_single_payment.sce"
		   ]
		  },
  {
"cell_type": "code",
	   "execution_count": null,
	   "metadata": {
	    "collapsed": true
	   },
	   "outputs": [],
"source": [
"//Exa3_2\n",
"clc;\n",
"clear;\n",
"close;\n",
"//given data is :\n",
"F=100000;//in rupees\n",
"n=10;//in years\n",
"i=15;//% per annum\n",
"P=F/(1+i/100)^n;\n",
"disp('The person has to invest : '+string(P)+' Rupees.');\n",
"//Note : Ans in the book is not correct."
   ]
   }
,
{
		   "cell_type": "markdown",
		   "metadata": {},
		   "source": [
			"## Example 3.3: Find_maturity_value.sce"
		   ]
		  },
  {
"cell_type": "code",
	   "execution_count": null,
	   "metadata": {
	    "collapsed": true
	   },
	   "outputs": [],
"source": [
"//Exa3_3\n",
"clc;\n",
"clear;\n",
"close;\n",
"//given data is :\n",
"A=10000;//in rupees\n",
"n=25;//in years\n",
"i=20;//% per annum\n",
"F=A*(((1+i/100)^n-1)/(i/100));\n",
"disp('The future sum of the annual equal payment after 25 years is : '+string(F)+' Rupees.');"
   ]
   }
,
{
		   "cell_type": "markdown",
		   "metadata": {},
		   "source": [
			"## Example 3.4: Find_Equivalent_Amount.sce"
		   ]
		  },
  {
"cell_type": "code",
	   "execution_count": null,
	   "metadata": {
	    "collapsed": true
	   },
	   "outputs": [],
"source": [
"//Exa3_4\n",
"clc;\n",
"clear;\n",
"close;\n",
"//given data is :\n",
"F=500000;//in rupees\n",
"n=15;//in years\n",
"i=18;//% per annum\n",
"A=F*((i/100)/((1+i/100)^n-1));\n",
"disp('The annual equal ammount which must be deposited for 15 years is : '+string(A)+' Rupees.');"
   ]
   }
,
{
		   "cell_type": "markdown",
		   "metadata": {},
		   "source": [
			"## Example 3.5: Find_single_payment.sce"
		   ]
		  },
  {
"cell_type": "code",
	   "execution_count": null,
	   "metadata": {
	    "collapsed": true
	   },
	   "outputs": [],
"source": [
"//Exa3_5\n",
"clc;\n",
"clear;\n",
"close;\n",
"//given data is :\n",
"A=1000000;//in rupees\n",
"n=20;//in years\n",
"i=15;//% per annum\n",
"P=A*(((1+i/100)^n-1)/((i/100)*(1+i/100)^n));\n",
"disp('The amount of reserve which must be setup now is : '+string(P)+' Rupees.');\n",
"//Note : Ans in the book is not correct."
   ]
   }
,
{
		   "cell_type": "markdown",
		   "metadata": {},
		   "source": [
			"## Example 3.6: Find_the_installment_amount.sce"
		   ]
		  },
  {
"cell_type": "code",
	   "execution_count": null,
	   "metadata": {
	    "collapsed": true
	   },
	   "outputs": [],
"source": [
"//Exa3_6\n",
"clc;\n",
"clear;\n",
"close;\n",
"//given data is :\n",
"P=1000000;//in rupees\n",
"n=15;//in years\n",
"i=18;//% per annum\n",
"A=P*(((i/100)*(1+i/100)^n)/((1+i/100)^n-1));\n",
"disp('The annual equivalent installment to be paid by the company to the bank is : '+string(A)+' Rupees.');"
   ]
   }
,
{
		   "cell_type": "markdown",
		   "metadata": {},
		   "source": [
			"## Example 3.7: Find_Total_Amount_of_series.sce"
		   ]
		  },
  {
"cell_type": "code",
	   "execution_count": null,
	   "metadata": {
	    "collapsed": true
	   },
	   "outputs": [],
"source": [
"//Exa3_7\n",
"clc;\n",
"clear;\n",
"close;\n",
"//given data is :\n",
"A1=4000;//in rupees\n",
"G=500;//in rupees\n",
"n=10;//in years\n",
"i=15;//% per annum\n",
"A=A1+G*(((1+i/100)^n-(i/100)*n-1)/((i/100)*(1+i/100)^n-(i/100)));\n",
"F=A*(((1+i/100)^n-1)/(i/100));\n",
"disp('At the end of 10th year, the compound amountr of all his payments will be : '+string(F)+' Rupees.');"
   ]
   }
,
{
		   "cell_type": "markdown",
		   "metadata": {},
		   "source": [
			"## Example 3.8: Find_Total_Amount_of_series.sce"
		   ]
		  },
  {
"cell_type": "code",
	   "execution_count": null,
	   "metadata": {
	    "collapsed": true
	   },
	   "outputs": [],
"source": [
"//Exa3_8\n",
"clc;\n",
"clear;\n",
"close;\n",
"//given data is :\n",
"A1=8500;//in rupees\n",
"G=-500;//in rupees\n",
"n=10;//in years\n",
"i=15;//% per annum\n",
"A=A1+G*(((1+i/100)^n-(i/100)*n-1)/((i/100)*(1+i/100)^n-(i/100)));\n",
"F=A*(((1+i/100)^n-1)/(i/100));\n",
"disp('At the end of 10th year, the compound amountr of all his payments will be : '+string(F)+' Rupees.');"
   ]
   }
,
{
		   "cell_type": "markdown",
		   "metadata": {},
		   "source": [
			"## Example 3.9: Find_maturity_amount.sce"
		   ]
		  },
  {
"cell_type": "code",
	   "execution_count": null,
	   "metadata": {
	    "collapsed": true
	   },
	   "outputs": [],
"source": [
"//Exa3_9\n",
"clc;\n",
"clear;\n",
"close;\n",
"//given data is :\n",
"P=5000;//in rupees\n",
"n=10;//in years\n",
"i=12;//% per annum\n",
"m=4;//no. of interest periods per year for quarterly\n",
"N=n*m;\n",
"r=i/m;\n",
"F=P*(1+r/100)^N;\n",
"disp('Maturity value after 10 years is : '+string(F)+' Rupees.');"
   ]
   }
],
"metadata": {
		  "kernelspec": {
		   "display_name": "Scilab",
		   "language": "scilab",
		   "name": "scilab"
		  },
		  "language_info": {
		   "file_extension": ".sce",
		   "help_links": [
			{
			 "text": "MetaKernel Magics",
			 "url": "https://github.com/calysto/metakernel/blob/master/metakernel/magics/README.md"
			}
		   ],
		   "mimetype": "text/x-octave",
		   "name": "scilab",
		   "version": "0.7.1"
		  }
		 },
		 "nbformat": 4,
		 "nbformat_minor": 0
}
