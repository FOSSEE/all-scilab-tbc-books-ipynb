{
"cells": [
 {
		   "cell_type": "markdown",
	   "metadata": {},
	   "source": [
       "# Chapter 1: Introduction"
	   ]
	},
{
		   "cell_type": "markdown",
		   "metadata": {},
		   "source": [
			"## Example 1.1: Break_even_sales_quantity_margin_of_safety.sce"
		   ]
		  },
  {
"cell_type": "code",
	   "execution_count": null,
	   "metadata": {
	    "collapsed": true
	   },
	   "outputs": [],
"source": [
"//Exa1.1\n",
"clc;\n",
"clear;\n",
"close;\n",
"//given data :\n",
"FC=2000000;//in Rs\n",
"v=100;//in Rs\n",
"s=200;//in Rs\n",
"Q=60000;//in units\n",
"//Part a : Break even quantity\n",
"BEQ=FC/(s-v);//in units\n",
"disp(BEQ,'Break even quantity in units : ');\n",
"//Part b : Break even sales\n",
"BES=FC*s/(s-v);//in Rs\n",
"disp(BES,'Break even sales in Rs. : ');\n",
"//Part c : Contribution & margin of safety\n",
"Con=s*Q-v*Q;//in Rs\n",
"disp(Con,'Contribution in units : ');\n",
"Mos=Q*s-BES;//in Rs\n",
"disp(Mos,'Margin of safety in Rs. : ');"
   ]
   }
,
{
		   "cell_type": "markdown",
		   "metadata": {},
		   "source": [
			"## Example 1.2: Find_contribution_profit_BEP_MS.sce"
		   ]
		  },
  {
"cell_type": "code",
	   "execution_count": null,
	   "metadata": {
	    "collapsed": true
	   },
	   "outputs": [],
"source": [
"//Exa1.2\n",
"clc;\n",
"clear;\n",
"close;\n",
"//given data :\n",
"FC=25000;//in Rs\n",
"v=45000;//in Rs\n",
"s=120000;//in Rs\n",
"//Part a : Contribution\n",
"Con=s-v;//in Rs\n",
"disp(Con,'Contribution in Rs : ');\n",
"//Part b : Profit\n",
"Prof=Con-FC;//in Rs\n",
"disp(Prof,'Profit in Rs : ');\n",
"//Part c : BEP\n",
"PVratio=Con*100/s;//in %\n",
"BEP=FC*100/PVratio;//in Rs\n",
"disp(BEP,'BEP in Rs : ');\n",
"//Part d : M.S.\n",
"MS=Prof*100/PVratio;//in Rs\n",
"disp(MS,'M.S. in Rs : ');"
   ]
   }
,
{
		   "cell_type": "markdown",
		   "metadata": {},
		   "source": [
			"## Example 1.3: Find_contribution_profit_BEP_MS.sce"
		   ]
		  },
  {
"cell_type": "code",
	   "execution_count": null,
	   "metadata": {
	    "collapsed": true
	   },
	   "outputs": [],
"source": [
"//Exa1.3\n",
"clc;\n",
"clear;\n",
"close;\n",
"//given data :\n",
"FC=15000;//in Rs\n",
"v=35000;//in Rs\n",
"s=80000;//in Rs\n",
"//Part a : Contribution\n",
"Con=s-v;//in Rs\n",
"disp(Con,'Contribution in Rs : ');\n",
"//Part b : Profit\n",
"Prof=Con-FC;//in Rs\n",
"disp(Prof,'Profit in Rs : ');\n",
"//Part c : BEP\n",
"PVratio=Con*100/s;//in %\n",
"BEP=FC*100/PVratio;//in Rs\n",
"disp(round(BEP),'BEP in Rs : ');\n",
"//Part d : M.S.\n",
"MS=Prof*100/PVratio;//in Rs\n",
"disp(round(MS),'M.S. in Rs : ');"
   ]
   }
],
"metadata": {
		  "kernelspec": {
		   "display_name": "Scilab",
		   "language": "scilab",
		   "name": "scilab"
		  },
		  "language_info": {
		   "file_extension": ".sce",
		   "help_links": [
			{
			 "text": "MetaKernel Magics",
			 "url": "https://github.com/calysto/metakernel/blob/master/metakernel/magics/README.md"
			}
		   ],
		   "mimetype": "text/x-octave",
		   "name": "scilab",
		   "version": "0.7.1"
		  }
		 },
		 "nbformat": 4,
		 "nbformat_minor": 0
}
