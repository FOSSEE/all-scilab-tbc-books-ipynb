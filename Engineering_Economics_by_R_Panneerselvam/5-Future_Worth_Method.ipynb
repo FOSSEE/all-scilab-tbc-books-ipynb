{
"cells": [
 {
		   "cell_type": "markdown",
	   "metadata": {},
	   "source": [
       "# Chapter 5: Future Worth Method"
	   ]
	},
{
		   "cell_type": "markdown",
		   "metadata": {},
		   "source": [
			"## Example 5.1: Select_best_alternative.sce"
		   ]
		  },
  {
"cell_type": "code",
	   "execution_count": null,
	   "metadata": {
	    "collapsed": true
	   },
	   "outputs": [],
"source": [
"//Exa 5.1\n",
"clc;\n",
"clear;\n",
"close;\n",
"//Alternative A :\n",
"disp('Alternative A : ');\n",
"P=5000000;//in Rs\n",
"A=2000000;//in Rs\n",
"i=18;//in % per annum\n",
"n=4;//in years\n",
"//Formula : (F/P,i,n) : (1+i/100)^n\n",
"//Formula : (F/A,i,n) : (((1+i/100)^n)-1)/(i/100)\n",
"FW_A=(-P*(1+i/100)^n)+(A*(((1+i/100)^n)-1)/(i/100));//in RS\n",
"disp(FW_A,'The future worth amount of alternative A in RS. : ');\n",
"\n",
"//Alternative B :\n",
"disp('Alternative B : ');\n",
"P=4500000;//in Rs\n",
"A=1800000;//in Rs\n",
"i=18;//in % per annum\n",
"n=4;//in years\n",
"//Formula : (F/P,i,n) : (1+i/100)^n\n",
"//Formula : (F/A,i,n) : (((1+i/100)^n)-1)/(i/100)\n",
"FW_B=(-P*(1+i/100)^n)+(A*(((1+i/100)^n)-1)/(i/100));//in RS\n",
"disp(FW_B,'The future worth amount of alternative B in RS. : ');\n",
"disp('The future worth of alternative A is greater than that of alternative B. Thus, alternative A should be selected.');\n",
"//Note : Calculation in the book is not accurate."
   ]
   }
,
{
		   "cell_type": "markdown",
		   "metadata": {},
		   "source": [
			"## Example 5.2: Evaluate_the_alternatives_based_on_future_worth_method.sce"
		   ]
		  },
  {
"cell_type": "code",
	   "execution_count": null,
	   "metadata": {
	    "collapsed": true
	   },
	   "outputs": [],
"source": [
"//Exa 5.2\n",
"clc;\n",
"clear;\n",
"close;\n",
"//Alternative 1 :\n",
"disp('Alternative 1: ');\n",
"FC=2000000;//in Rs\n",
"AI=800000;//in Rs\n",
"ATax=80000;//in Rs\n",
"NetAI=AI-ATax;//in Rs\n",
"\n",
"i=12;//in % per annum\n",
"n=20;//in years\n",
"//Formula : (F/P,i,n) : (1+i/100)^n\n",
"//Formula : (F/A,i,n) : (((1+i/100)^n)-1)/(i/100)\n",
"FW_1=(-FC*(1+i/100)^n)+(NetAI*(((1+i/100)^n)-1)/(i/100));//in RS\n",
"disp(FW_1,'The future worth amount of alternative 1 in RS. : ');\n",
"\n",
"//Alternative 2 :\n",
"disp('Alternative 2: ');\n",
"FC=3600000;//in Rs\n",
"AI=980000;//in Rs\n",
"ATax=150000;//in Rs\n",
"NetAI=AI-ATax;//in Rs\n",
"\n",
"i=12;//in % per annum\n",
"n=20;//in years\n",
"//Formula : (F/P,i,n) : (1+i/100)^n\n",
"//Formula : (F/A,i,n) : (((1+i/100)^n)-1)/(i/100)\n",
"FW_2=(-FC*(1+i/100)^n)+(NetAI*(((1+i/100)^n)-1)/(i/100));//in RS\n",
"disp(FW_2,'The future worth amount of alternative 2 in RS. : ');\n",
"disp('The future worth of alternative 1 is greater than that of alternative 2. Thus, building the gas station is the best alternative.');\n",
"//Note : Calculation in the book is not accurate."
   ]
   }
,
{
		   "cell_type": "markdown",
		   "metadata": {},
		   "source": [
			"## Example 5.3: Select_best_alternative.sce"
		   ]
		  },
  {
"cell_type": "code",
	   "execution_count": null,
	   "metadata": {
	    "collapsed": true
	   },
	   "outputs": [],
"source": [
"//Exa 5.3\n",
"clc;\n",
"clear;\n",
"close;\n",
"//Evaluation at i=8%\n",
"disp('Evaluation at i=8%');\n",
"//Alternative 1 :\n",
"disp('Alternative 1 : ');\n",
"P=500000;//in Rs\n",
"A1=50000;//in Rs\n",
"G=50000;//in Rs\n",
"i=8;//in % per annum\n",
"n=6;//in years\n",
"//Formula : (F/P,i,n) : (1+i/100)^n\n",
"//Formula : (F/A,i,n) : (((1+i/100)^n)-1)/(i/100)\n",
"//Formula : (A/G,i,n) :(((1+i/100)^n)-i*n/100-1)/(((i/100)*(1+i/100)^n)-i/100) \n",
"FW_1=(-P*(1+i/100)^n)+(A1+G*(((1+i/100)^n)-i*n/100-1)/(((i/100)*(1+i/100)^n)-i/100))*(((1+i/100)^n)-1)/(i/100);//in RS\n",
"disp(FW_1,'The future worth amount of alternative 1 in RS. : ');\n",
"\n",
"//Alternative 2 :\n",
"disp('Alternative 2 : ');\n",
"P=700000;//in Rs\n",
"A1=70000;//in Rs\n",
"G=70000;//in Rs\n",
"i=8;//in % per annum\n",
"n=6;//in years\n",
"//Formula : (F/P,i,n) : (1+i/100)^n\n",
"//Formula : (F/A,i,n) : (((1+i/100)^n)-1)/(i/100)\n",
"//Formula : (A/G,i,n) :(((1+i/100)^n)-i*n/100-1)/(((i/100)*(1+i/100)^n)-i/100) \n",
"FW_2=(-P*(1+i/100)^n)+(A1+G*(((1+i/100)^n)-i*n/100-1)/(((i/100)*(1+i/100)^n)-i/100))*(((1+i/100)^n)-1)/(i/100);//in RS\n",
"disp(FW_2,'The future worth amount of alternative 2 in RS. : ');\n",
"disp('The future worth of alternative 2 is greater than that of alternative 1. Thus, alternative 2 must be selected.');\n",
"\n",
"//Evaluation at i=9%\n",
"disp('Evaluation at i=9%');\n",
"//Alternative 1 :\n",
"disp('Alternative 1 : ');\n",
"P=500000;//in Rs\n",
"A1=50000;//in Rs\n",
"G=50000;//in Rs\n",
"i=9;//in % per annum\n",
"n=6;//in years\n",
"//Formula : (F/P,i,n) : (1+i/100)^n\n",
"//Formula : (F/A,i,n) : (((1+i/100)^n)-1)/(i/100)\n",
"//Formula : (A/G,i,n) :(((1+i/100)^n)-i*n/100-1)/(((i/100)*(1+i/100)^n)-i/100) \n",
"FW_1=(-P*(1+i/100)^n)+(A1+G*(((1+i/100)^n)-i*n/100-1)/(((i/100)*(1+i/100)^n)-i/100))*(((1+i/100)^n)-1)/(i/100);//in RS\n",
"disp(FW_1,'The future worth amount of alternative 1 in RS. : ');\n",
"\n",
"//Alternative 2 :\n",
"disp('Alternative 2 : ');\n",
"P=700000;//in Rs\n",
"A1=70000;//in Rs\n",
"G=70000;//in Rs\n",
"i=9;//in % per annum\n",
"n=6;//in years\n",
"//Formula : (F/P,i,n) : (1+i/100)^n\n",
"//Formula : (F/A,i,n) : (((1+i/100)^n)-1)/(i/100)\n",
"//Formula : (A/G,i,n) :(((1+i/100)^n)-i*n/100-1)/(((i/100)*(1+i/100)^n)-i/100) \n",
"FW_2=(-P*(1+i/100)^n)+(A1+G*(((1+i/100)^n)-i*n/100-1)/(((i/100)*(1+i/100)^n)-i/100))*(((1+i/100)^n)-1)/(i/100);//in RS\n",
"disp(FW_2,'The future worth amount of alternative 2 in RS. : ');\n",
"disp('The future worth of alternative 2 is greater than that of alternative 1. Thus, alternative 2 must be selected.');\n",
"\n",
"//Evaluation at i=20%\n",
"disp('Evaluation at i=20%');\n",
"//Alternative 1 :\n",
"disp('Alternative 1 : ');\n",
"P=500000;//in Rs\n",
"A1=50000;//in Rs\n",
"G=50000;//in Rs\n",
"i=20;//in % per annum\n",
"n=6;//in years\n",
"//Formula : (F/P,i,n) : (1+i/100)^n\n",
"//Formula : (F/A,i,n) : (((1+i/100)^n)-1)/(i/100)\n",
"//Formula : (A/G,i,n) :(((1+i/100)^n)-i*n/100-1)/(((i/100)*(1+i/100)^n)-i/100) \n",
"FW_1=(-P*(1+i/100)^n)+(A1+G*(((1+i/100)^n)-i*n/100-1)/(((i/100)*(1+i/100)^n)-i/100))*(((1+i/100)^n)-1)/(i/100);//in RS\n",
"disp(FW_1,'The future worth amount of alternative 1 in RS. : ');\n",
"\n",
"//Alternative 2 :\n",
"disp('Alternative 2 : ');\n",
"P=700000;//in Rs\n",
"A1=70000;//in Rs\n",
"G=70000;//in Rs\n",
"i=20;//in % per annum\n",
"n=6;//in years\n",
"//Formula : (F/P,i,n) : (1+i/100)^n\n",
"//Formula : (F/A,i,n) : (((1+i/100)^n)-1)/(i/100)\n",
"//Formula : (A/G,i,n) :(((1+i/100)^n)-i*n/100-1)/(((i/100)*(1+i/100)^n)-i/100) \n",
"FW_2=(-P*(1+i/100)^n)+(A1+G*(((1+i/100)^n)-i*n/100-1)/(((i/100)*(1+i/100)^n)-i/100))*(((1+i/100)^n)-1)/(i/100);//in RS\n",
"disp(FW_2,'The future worth amount of alternative 2 in RS. : ');\n",
"disp('The negative sign of alternatives future worth indicates that alternative 2 incurs loss. Thus, none of the two alternatives should be selected. ');\n",
"//Note : Calculation in the book is not accurate."
   ]
   }
,
{
		   "cell_type": "markdown",
		   "metadata": {},
		   "source": [
			"## Example 5.4: Find_Best_Alternative.sce"
		   ]
		  },
  {
"cell_type": "code",
	   "execution_count": null,
	   "metadata": {
	    "collapsed": true
	   },
	   "outputs": [],
"source": [
"//Exa 5.4\n",
"clc;\n",
"clear;\n",
"close;\n",
"//Alternative 1 :\n",
"disp('Alternative 1 :');\n",
"P=8000000;//in Rs\n",
"A=800000;//in Rs\n",
"i=20;//in % per annum\n",
"n=12;//in years\n",
"Salvage=500000;//in Rs\n",
"//Formula : (1+i/100)^n\n",
"//Formula : (F/A,i,n) : (((1+i/100)^n)-1)/(i/100)\n",
"FW1=P*(1+i/100)^n+A*(((1+i/100)^n)-1)/(i/100)-Salvage;//in RS\n",
"disp(FW1,'The future worth for this alternative in RS. : ');\n",
"\n",
"//Alternative 2 :\n",
"disp('Alternative 2 :');\n",
"P=7000000;//in Rs\n",
"A=900000;//in Rs\n",
"i=20;//in % per annum\n",
"n=12;//in years\n",
"Salvage=400000;//in Rs\n",
"//Formula : (1+i/100)^n\n",
"//Formula : (F/A,i,n) : (((1+i/100)^n)-1)/(i/100)\n",
"FW2=P*(1+i/100)^n+A*(((1+i/100)^n)-1)/(i/100)-Salvage;//in RS\n",
"disp(FW2,'The future worth for this alternative in RS. : ');\n",
"\n",
"//Alternative 3 :\n",
"disp('Alternative 3 :');\n",
"P=9000000;//in Rs\n",
"A=850000;//in Rs\n",
"i=20;//in % per annum\n",
"n=12;//in years\n",
"Salvage=700000;//in Rs\n",
"//Formula : (1+i/100)^n\n",
"//Formula : (F/A,i,n) : (((1+i/100)^n)-1)/(i/100)\n",
"FW3=P*(1+i/100)^n+A*(((1+i/100)^n)-1)/(i/100)-Salvage;//in RS\n",
"disp(FW3,'The future worth for this alternative in RS. : ');\n",
"disp('The future worth of alternative 2 is less than that of other two alternatives. Thus, Ms. Krishna castings should buy the annealing furnace from manufacturer 2.');\n",
"//Note : Calculation in the book is not accurate."
   ]
   }
,
{
		   "cell_type": "markdown",
		   "metadata": {},
		   "source": [
			"## Example 5.5: Which_Machine_should_be_selected.sce"
		   ]
		  },
  {
"cell_type": "code",
	   "execution_count": null,
	   "metadata": {
	    "collapsed": true
	   },
	   "outputs": [],
"source": [
"//Exa 5.5\n",
"clc;\n",
"clear;\n",
"close;\n",
"//Machine A :\n",
"disp('Machine A: ');\n",
"P=400000;//in Rs\n",
"A=40000;//in Rs\n",
"S=200000;//in Rs\n",
"i=12;//in % per annum\n",
"n=4;//in years\n",
"//Formula : (F/P,i,n) : (1+i/100)^n\n",
"//Formula : (F/A,i,n) : (((1+i/100)^n)-1)/(i/100)\n",
"FW_A=(P*(1+i/100)^n)+(A*(((1+i/100)^n)-1)/(i/100))-S;//in RS\n",
"disp(FW_A,'The future worth amount of Machine A in RS. : ');\n",
"\n",
"//Machine B :\n",
"disp('Machine AB: ');\n",
"P=800000;//in Rs\n",
"A=0;//in Rs\n",
"S=550000;//in Rs\n",
"i=12;//in % per annum\n",
"n=4;//in years\n",
"//Formula : (F/P,i,n) : (1+i/100)^n\n",
"//Formula : (F/A,i,n) : (((1+i/100)^n)-1)/(i/100)\n",
"FW_B=(P*(1+i/100)^n)+(A*(((1+i/100)^n)-1)/(i/100))-S;//in RS\n",
"disp(FW_B,'The future worth amount of Machine B in RS. : ');\n",
"disp('The future worth of Machine A is less than that of Machine B. Thus, Machine A should be selected.');\n",
"//Note : Calculation in the book is not accurate."
   ]
   }
],
"metadata": {
		  "kernelspec": {
		   "display_name": "Scilab",
		   "language": "scilab",
		   "name": "scilab"
		  },
		  "language_info": {
		   "file_extension": ".sce",
		   "help_links": [
			{
			 "text": "MetaKernel Magics",
			 "url": "https://github.com/calysto/metakernel/blob/master/metakernel/magics/README.md"
			}
		   ],
		   "mimetype": "text/x-octave",
		   "name": "scilab",
		   "version": "0.7.1"
		  }
		 },
		 "nbformat": 4,
		 "nbformat_minor": 0
}
