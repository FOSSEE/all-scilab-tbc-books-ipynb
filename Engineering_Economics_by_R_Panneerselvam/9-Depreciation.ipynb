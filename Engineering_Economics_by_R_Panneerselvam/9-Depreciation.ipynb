{
"cells": [
 {
		   "cell_type": "markdown",
	   "metadata": {},
	   "source": [
       "# Chapter 9: Depreciation"
	   ]
	},
{
		   "cell_type": "markdown",
		   "metadata": {},
		   "source": [
			"## Example 9.1: Determine_Depreciation_Charge.sce"
		   ]
		  },
  {
"cell_type": "code",
	   "execution_count": null,
	   "metadata": {
	    "collapsed": true
	   },
	   "outputs": [],
"source": [
"//Exa 9.1\n",
"clc;\n",
"clear;\n",
"close;\n",
"//Given data : \n",
"P=100000;//in Rs\n",
"F=20000;//in Rs\n",
"n=8;//in years\n",
"Dt=(P-F)/n;//in Rs.\n",
"disp('In this method of depreciation, the value of Dt is same for all the years. The calculations pertaining to Bt for different values of t are summarized in table below : ');\n",
"disp('End of year          Depreciation          Book value');\n",
"disp('   (t)                  (Dt)             (Bt=B(t-1)-Dt)');\n",
"disp('    0                                       100000');\n",
"disp('    1                  10000                 90000');\n",
"disp('    2                  10000                 80000');\n",
"disp('    3                  10000                 70000');\n",
"disp('    4                  10000                 60000');\n",
"disp('    5                  10000                 50000');\n",
"disp('    6                  10000                 40000');\n",
"disp('    7                  10000                 30000');\n",
"disp('    8                  10000                 20000');\n",
"disp('If we are interested in computing Dt and Bt for a specific period (t), the formulae can be used. in this approach, it should be noted that the depreciation is the same for all the periods.');"
   ]
   }
,
{
		   "cell_type": "markdown",
		   "metadata": {},
		   "source": [
			"## Example 9.2: Compute_Depreciation_and_Book_value.sce"
		   ]
		  },
  {
"cell_type": "code",
	   "execution_count": null,
	   "metadata": {
	    "collapsed": true
	   },
	   "outputs": [],
"source": [
"//Exa 9.2\n",
"clc;\n",
"clear;\n",
"close;\n",
"//Given data : \n",
"P=100000;//in Rs\n",
"F=20000;//in Rs\n",
"n=8;//in years\n",
"D5=(P-F)/n;//in Rs.\n",
"disp(D5,'D5 in Rs. : ');\n",
"disp('(This is independent of the time period)');\n",
"t=5;//in years\n",
"Bt=P-t*(P-F)/n;//in Rs\n",
"disp(Bt,'B5 in Rs. : ')"
   ]
   }
,
{
		   "cell_type": "markdown",
		   "metadata": {},
		   "source": [
			"## Example 9.3: Calculation_of_declining_balance_method.sce"
		   ]
		  },
  {
"cell_type": "code",
	   "execution_count": null,
	   "metadata": {
	    "collapsed": true
	   },
	   "outputs": [],
"source": [
"//Exa 9.3\n",
"clc;\n",
"clear;\n",
"close;\n",
"//Given data : \n",
"P=100000;//in Rs\n",
"F=20000;//in Rs\n",
"n=8;//in years\n",
"k=0.2\n",
"Dt=(P-F)/n;//in Rs.\n",
"disp('The calculations pertaining to Dt and Bt for different values of t are summarized in table below using the formulae : ');\n",
"disp('Dt=k*B(t-1)');\n",
"disp('Bt=B(t-1)-Dt');\n",
"\n",
"disp('End of year          Depreciation          Book value');\n",
"disp('   (t)                  (Dt)             (Bt=B(t-1)-Dt)');\n",
"disp('    0                                       100000.00');\n",
"disp('    1                 20000.00               80000.00');\n",
"disp('    2                 16000.00               64000.00');\n",
"disp('    3                 12800.00               51200.00');\n",
"disp('    4                 10240.00               40960.00');\n",
"disp('    5                  8192.00               32768.00');\n",
"disp('    6                  6553.60               26214.40');\n",
"disp('    7                  5242.88               20971.52');\n",
"disp('    8                  4194.                 16777.22');\n",
"disp('If we are interested in computing Dt and Bt for a specific period (t), the formulae can be used. in this approach, it should be noted that the depreciation is the same for all the periods.');"
   ]
   }
,
{
		   "cell_type": "markdown",
		   "metadata": {},
		   "source": [
			"## Example 9.4: Compute_Depreciation_and_Book_value.sce"
		   ]
		  },
  {
"cell_type": "code",
	   "execution_count": null,
	   "metadata": {
	    "collapsed": true
	   },
	   "outputs": [],
"source": [
"//Exa 9.4\n",
"clc;\n",
"clear;\n",
"close;\n",
"//Given data : \n",
"P=100000;//in Rs\n",
"F=20000;//in Rs\n",
"n=8;//in years\n",
"k=0.2\n",
"t=5;//in years\n",
"Dt=k*(1-k)^(t-1)*P;//in Rs.\n",
"disp(Dt,'D5 in Rs. : ');\n",
"Bt=((1-k)^t)*P;//in Rs.\n",
"disp(Bt,'B5 in Rs. : ')"
   ]
   }
,
{
		   "cell_type": "markdown",
		   "metadata": {},
		   "source": [
			"## Example 9.5: Calculations_of_sum_of_the_years_digits_method.sce"
		   ]
		  },
  {
"cell_type": "code",
	   "execution_count": null,
	   "metadata": {
	    "collapsed": true
	   },
	   "outputs": [],
"source": [
"//Exa 9.5\n",
"clc;\n",
"clear;\n",
"close;\n",
"//Given data : \n",
"P=100000;//in Rs\n",
"F=20000;//in Rs\n",
"n=8;//in years\n",
"Sum=n*(n+1)/2;//sum of the years\n",
"disp('The rates for years 1-8, are respectively 8/36,7/36,6/36,5/36,4/36,3/36,2/36,1/36');\n",
"disp('The calculations of Dt and Bt for different values of t are summarized in table below using the formulae : ');\n",
"disp('Dt=Rate*(P-F)');\n",
"disp('Bt=B(t-1)-Dt');\n",
"disp('End of year          Depreciation          Book value');\n",
"disp('   (t)                  (Dt)             (Bt=B(t-1)-Dt)');\n",
"disp('    0                                      100000.00');\n",
"disp('    1                 17777.77              82222.23');\n",
"disp('    2                 15555.55              66666.68');\n",
"disp('    3                 13333.33              53333.35');\n",
"disp('    4                 11111.11              42222.24');\n",
"disp('    5                  8888.88              33333.36');\n",
"disp('    6                  6666.66              26666.70');\n",
"disp('    7                  4444.44              22222.26');\n",
"disp('    8                  2222.22              20000.04');\n",
"disp('If we are interested in computing Dt and Bt for a specific period (t), then the usage of the  formulae would be better.');"
   ]
   }
,
{
		   "cell_type": "markdown",
		   "metadata": {},
		   "source": [
			"## Example 9.6: Find_Depreciation_and_Book_value.sce"
		   ]
		  },
  {
"cell_type": "code",
	   "execution_count": null,
	   "metadata": {
	    "collapsed": true
	   },
	   "outputs": [],
"source": [
"//Exa 9.6\n",
"clc;\n",
"clear;\n",
"close;\n",
"//Given data : \n",
"P=100000;//in Rs\n",
"F=20000;//in Rs\n",
"n=8;//in years\n",
"t=5;//in years\n",
"Dt=(n-t+1)*(P-F)/(n*(n+1)/2);//in Rs.\n",
"disp(Dt,'D5 in Rs. : ');\n",
"Bt=(P-F)*((n-t)/n)*((n-t+1)/(n+1))+F;//in Rs.\n",
"disp(Bt,'B5 in Rs. : ')"
   ]
   }
,
{
		   "cell_type": "markdown",
		   "metadata": {},
		   "source": [
			"## Example 9.7: Calculations_regarding_sinking_fund_method.sce"
		   ]
		  },
  {
"cell_type": "code",
	   "execution_count": null,
	   "metadata": {
	    "collapsed": true
	   },
	   "outputs": [],
"source": [
"//Exa 9.7\n",
"clc;\n",
"clear;\n",
"close;\n",
"//Given data : \n",
"P=100000;//in Rs\n",
"F=20000;//in Rs\n",
"n=8;//in years\n",
"i=12;//in % per annum\n",
"A=(P-F)*(i/100)/(((1+i/100)^n)-1);//in Rs.\n",
"disp('In this method of depreciation, a fixed amount of Rs. '+string(A)+' will be depreciated at the end of every year from the earning of the asset. The deprecited amount will earn intrest for the remaining period of life of the asset at an intrest rate of 12 %, compounded anually.');\n",
"disp(A,'Depreciation at the end of year 1(D1) in Rs. : ');\n",
"disp(A+A*i/100,'Depreciation at the end of year 2(D2) in Rs. : ');\n",
"disp(A+(A+(A+A*i/100))*i/100,'Depreciation at the end of year 3(D3) in Rs. : ');\n",
"disp('The calculations along with boook values are summarized in table below : ');\n",
"disp('End of year          Fixed Depreciation          Net Depreciation        Book value');\n",
"disp('   (t)                    (Rs.)                      Dt(Rs.)              Bt(Rs.)');\n",
"disp('    0                     6504                                          100000.00');\n",
"disp('    1                     6504                      6504.00              82222.23');\n",
"disp('    2                     6504                      7284.48              66666.68');\n",
"disp('    3                     6504                      8158.62              53333.35');\n",
"disp('    4                     6504                      9137.65              42222.24');\n",
"disp('    5                     6504                     10324.17              33333.36');\n",
"disp('    6                     6504                     11462.27              26666.70');\n",
"disp('    7                     6504                     12837.74              22222.26');\n",
"disp('    8                     6504                     14378.27              20000.04');"
   ]
   }
,
{
		   "cell_type": "markdown",
		   "metadata": {},
		   "source": [
			"## Example 9.8: Compute_D5_and_B7.sce"
		   ]
		  },
  {
"cell_type": "code",
	   "execution_count": null,
	   "metadata": {
	    "collapsed": true
	   },
	   "outputs": [],
"source": [
"//Exa 9.8\n",
"clc;\n",
"clear;\n",
"close;\n",
"//Given data : \n",
"P=100000;//in Rs\n",
"F=20000;//in Rs\n",
"n=8;//in years\n",
"i=12;//in % per annum\n",
"//Formula : (A/F,i,n) : (i/100)/(((1+i/100)^n)-1)\n",
"//Formula : (F/P,i,n) : (1+i/100)^n\n",
"//Formula : (F/A,i,n) : (((1+i/100)^n)-1)/(i/100)\n",
"t=5;//in Years\n",
"Dt=(P-F)*(i/100)/(((1+i/100)^n)-1)*(1+i/100)^(t-1);//in Rs.\n",
"disp(Dt,'D5 in Rs. : ');\n",
"t=7;//in Years\n",
"Bt=P-(P-F)*(i/100)/(((1+i/100)^n)-1)*(((1+i/100)^t)-1)/(i/100);//in Rs.\n",
"disp(Bt,'B7 in Rs. : ')"
   ]
   }
,
{
		   "cell_type": "markdown",
		   "metadata": {},
		   "source": [
			"## Example 9.9: Find_Depreciation_of_the_equipment.sce"
		   ]
		  },
  {
"cell_type": "code",
	   "execution_count": null,
	   "metadata": {
	    "collapsed": true
	   },
	   "outputs": [],
"source": [
"//Exa 9.9\n",
"clc;\n",
"clear;\n",
"close;\n",
"//Given data : \n",
"P=8000000;//in Rs\n",
"F=50000;//in Rs\n",
"X=75000;//in Km\n",
"x=2000;//in Km\n",
"n=8;//in years\n",
"i=12;//in % per annum\n",
"D=(P-F)*x/X;//in Rs.\n",
"disp(D,'Depreciation for year 3 in Rs. : ');"
   ]
   }
],
"metadata": {
		  "kernelspec": {
		   "display_name": "Scilab",
		   "language": "scilab",
		   "name": "scilab"
		  },
		  "language_info": {
		   "file_extension": ".sce",
		   "help_links": [
			{
			 "text": "MetaKernel Magics",
			 "url": "https://github.com/calysto/metakernel/blob/master/metakernel/magics/README.md"
			}
		   ],
		   "mimetype": "text/x-octave",
		   "name": "scilab",
		   "version": "0.7.1"
		  }
		 },
		 "nbformat": 4,
		 "nbformat_minor": 0
}
