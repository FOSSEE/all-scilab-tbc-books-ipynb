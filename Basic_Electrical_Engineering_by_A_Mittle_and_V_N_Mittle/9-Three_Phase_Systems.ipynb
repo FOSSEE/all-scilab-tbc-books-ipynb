{
"cells": [
 {
		   "cell_type": "markdown",
	   "metadata": {},
	   "source": [
       "# Chapter 9: Three Phase Systems"
	   ]
	},
{
		   "cell_type": "markdown",
		   "metadata": {},
		   "source": [
			"## Example 9.10: Example_on_Power_Measurement.sce"
		   ]
		  },
  {
"cell_type": "code",
	   "execution_count": null,
	   "metadata": {
	    "collapsed": true
	   },
	   "outputs": [],
"source": [
"\n",
"//calculating phase voltage\n",
"Vl=440//line voltage\n",
"Vph=Vl/sqrt(3)//star connected circuit\n",
"mprintf('Phase voltage=%f V\n', Vph)\n",
"Iph=20//phase current\n",
"Zph=Vph/Iph//impedance of load per phase\n",
"//calculating load parameters-current in each phase lags behind its voltage by 40 degrees\n",
"//on solving for R\n",
"R=Zph/sqrt(1+(tan(40*%pi/180))^2)\n",
"X=R*tan(40*%pi/180)\n",
"mprintf('Load parameters are\nR=%f ohm\nX=%f ohm\n',R,X)\n",
"//calculating total power\n",
"P=3*Vph*Iph*cos(40*%pi/180)\n",
"mprintf('Total power consumed=%f kW\n',P*10^-3)\n",
"//calculating W1 and W2-->W1+W2=P, W1-W2=P*tan(phi)/sqrt(3)\n",
"a=[1 1;1 -1]\n",
"b=[P;P*tan(40*%pi/180)/sqrt(3)]\n",
"w=inv(a)*b\n",
"mprintf('W1=%f kW,\nW2=%f kW', w(1,1)/1000, w(2,1)/1000)"
   ]
   }
,
{
		   "cell_type": "markdown",
		   "metadata": {},
		   "source": [
			"## Example 9.11: Example_on_Power_Measurement.sce"
		   ]
		  },
  {
"cell_type": "code",
	   "execution_count": null,
	   "metadata": {
	    "collapsed": true
	   },
	   "outputs": [],
"source": [
"\n",
"Pout=37.3D+3//power output\n",
"e=.88//efficiency\n",
"Pin=Pout/e//input power\n",
"pf=.82//power factor\n",
"phi=acosd(pf)\n",
"//calculating W1 and W2-->W1+W2=Pin, W1-W2=Pin*tan(phi)/sqrt(3)\n",
"a=[1 1;1 -1]\n",
"b=[Pin;Pin*tan(phi*%pi/180)/sqrt(3)]\n",
"w=inv(a)*b\n",
"mprintf('Readings of two wattmeters are:\nW1=%f kW,\nW2=%f kW\n', w(1,1)/1000, w(2,1)/1000)\n",
"Vl=440//line voltage\n",
"Il=Pin/(sqrt(3)*Vl*pf)\n",
"mprintf('Full load line current=%f A', Il)\n",
""
   ]
   }
,
{
		   "cell_type": "markdown",
		   "metadata": {},
		   "source": [
			"## Example 9.12: Example_on_Power_Measurement.sce"
		   ]
		  },
  {
"cell_type": "code",
	   "execution_count": null,
	   "metadata": {
	    "collapsed": true
	   },
	   "outputs": [],
"source": [
"\n",
"//considering star connected circuit\n",
"Rph=20//resistance of coil\n",
"Xph=15//reactance of coil\n",
"Vl=400//line voltage\n",
"Vph=Vl/sqrt(3)//phase voltage\n",
"Zph=sqrt(Rph^2+Xph^2)//impedance per phase\n",
"Iph=Vph/Zph//phase current\n",
"Il=Iph//line current\n",
"pf=Rph/Zph//power factor\n",
"phi=acosd(pf)\n",
"Pin=sqrt(3)*Vl*Il*pf//input power\n",
"//calculating W1 and W2-->W1+W2=Pin, W1-W2=Pin*tan(phi)/sqrt(3)\n",
"a=[1 1;1 -1]\n",
"b=[Pin;Pin*tan(phi*%pi/180)/sqrt(3)]\n",
"w=inv(a)*b\n",
"mprintf('Readings of two wattmeters in case of star connection are\nW1=%f W,\nW2=%f W\n', w(1,1), w(2,1))\n",
"//considering delta connected circuit\n",
"Iph=Vl/Zph//phase current\n",
"Il=sqrt(3)*Iph//line current\n",
"Pin=sqrt(3)*Vl*Il*pf//input power\n",
"//calculating W1 and W2-->W1+W2=Pin, W1-W2=Pin*tan(phi)/sqrt(3)\n",
"a=[1 1;1 -1]\n",
"b=[Pin;Pin*tan(phi*%pi/180)/sqrt(3)]\n",
"w=inv(a)*b\n",
"mprintf('Readings of two wattmeters in case of delta connection are\nW1=%f W,\nW2=%f W', w(1,1), w(2,1))\n",
"//The answers vary from the textbook due to round off error"
   ]
   }
,
{
		   "cell_type": "markdown",
		   "metadata": {},
		   "source": [
			"## Example 9.1: Example_on_Three_Phase_Circuits.sce"
		   ]
		  },
  {
"cell_type": "code",
	   "execution_count": null,
	   "metadata": {
	    "collapsed": true
	   },
	   "outputs": [],
"source": [
"\n",
"function[r]=mag(A)\n",
"    x=real(A)\n",
"    y=imag(A)\n",
"    r=sqrt(x^2+y^2)\n",
"endfunction\n",
"\n",
"j=%i\n",
"//considering coils to be star connected\n",
"Vl=400//line voltage\n",
"Vph=Vl/sqrt(3)\n",
"Rph=15//resistance of load\n",
"Xl=2*%pi*50*.03//inductive reactance of each coil\n",
"Zph=Rph+Xl*j\n",
"Iph=Vph/mag(Zph)\n",
"Il=Iph\n",
"pf=Rph/mag(Zph)//power factor\n",
"P=sqrt(3)*Vl*Il*pf\n",
"mprintf('In star connected circuit,\nPhase current=%f A,\nLine current=%f A,\nPower absorbed=%f kW\n', Iph, Il,P/10^3)\n",
"//considering coils to be delta connected\n",
"Vph=Vl\n",
"Iph=Vph/mag(Zph)\n",
"Il=sqrt(3)*Iph\n",
"P=sqrt(3)*Vl*Il*pf\n",
"mprintf('In delta connected circuit,\nPhase current=%f A,\nLine current=%f A,\nPower absorbed=%f kW\n', Iph, Il,P/10^3)\n",
"//answers vary from the textbook due to round off error"
   ]
   }
,
{
		   "cell_type": "markdown",
		   "metadata": {},
		   "source": [
			"## Example 9.2: Example_on_Three_Phase_Circuits.sce"
		   ]
		  },
  {
"cell_type": "code",
	   "execution_count": null,
	   "metadata": {
	    "collapsed": true
	   },
	   "outputs": [],
"source": [
"\n",
"//calculating phase current\n",
"Vl=440//line voltage\n",
"Vph=Vl\n",
"Pout=200D+3//output\n",
"e=.91//efficiency\n",
"Pin=Pout/e//input\n",
"pf=.86//power factor\n",
"Iph=Pin/(3*Vph*pf)\n",
"mprintf('Current drawn by each motor phase=%f A\n', Iph)\n",
"//calculating line current\n",
"Il=sqrt(3)*Iph\n",
"mprintf('Line current=%f A\n', Il)\n",
"//calculating active and reactive components of phase current\n",
"phi=acos(pf)\n",
"Iact=Iph*pf\n",
"Ireact=Iph*sin(phi)\n",
"mprintf('Active component of phase current=%f A\nReactive component of phase current=%f A',Iact,Ireact)"
   ]
   }
,
{
		   "cell_type": "markdown",
		   "metadata": {},
		   "source": [
			"## Example 9.3: Example_on_Three_Phase_Circuits.sce"
		   ]
		  },
  {
"cell_type": "code",
	   "execution_count": null,
	   "metadata": {
	    "collapsed": true
	   },
	   "outputs": [],
"source": [
"\n",
"Vl=400//line voltage across alternator and motor\n",
"Vph=Vl//as the motor is delta connected\n",
"Pout=112D+3//output of motor\n",
"e=.88//efficiency of motor\n",
"Pin=Pout/e//input to motor\n",
"pf=.86\n",
"phi=acos(pf)\n",
"Il=Pin/(sqrt(3)*Vl*pf)\n",
"Iph=Il/sqrt(3)\n",
"mprintf('Current in each motor phase, Iph=%f A\n', Iph)\n",
"//alternator is star connected\n",
"mprintf('Current in each alternator phase=%f A\n',Il)\n",
"//calculating active and reactive components of current in each phase of motor\n",
"Iact=Iph*pf\n",
"Ireact=Iph*sin(phi)\n",
"mprintf('Active component of current in each phase of motor=%f A\nReactive component of current in each phase of motor=%f A\n', Iact,Ireact)\n",
"//phase angle between the phase voltage and phase current will be the same for both motor and alternator if we neglect line impedance\n",
"Iph=Il\n",
"Iact=Iph*pf\n",
"Ireact=Iph*sin(phi)\n",
"mprintf('Active component of current in each phase of alternator=%f A\nReactive component of current in each phase of alternator=%f A\n', Iact,Ireact)\n",
"//The answers vary from the textbook due to round off error"
   ]
   }
,
{
		   "cell_type": "markdown",
		   "metadata": {},
		   "source": [
			"## Example 9.4: Example_on_Three_Phase_Circuits.sce"
		   ]
		  },
  {
"cell_type": "code",
	   "execution_count": null,
	   "metadata": {
	    "collapsed": true
	   },
	   "outputs": [],
"source": [
"\n",
"function[z]=pol2rect(r,theta)\n",
"    x=r*cos(theta*%pi/180)\n",
"    y=r*sin(theta*%pi/180)\n",
"    z=x+y*%i\n",
"endfunction\n",
"function[r]=mag(A)\n",
"    x=real(A)\n",
"    y=imag(A)\n",
"    r=sqrt(x^2+y^2)\n",
"endfunction\n",
"\n",
"//calculating current in each line\n",
"Vl=400//line voltage\n",
"Vph=Vl/sqrt(3)//phase voltage\n",
"Ir=8D+3/Vph\n",
"Iy=6D+3/Vph\n",
"Ib=4D+3/Vph\n",
"mprintf('Current in R-phase,Ir=%f A\nCurrent in Y-phase,Iy=%f A\nCurrent in B-phase,Ib=%f A\n',Ir,Iy,Ib)\n",
"//Loads on three phases are resistive\n",
"Ir=pol2rect(Ir,0)\n",
"Iy=pol2rect(Iy,-120)\n",
"Ib=pol2rect(Ib,-240)\n",
"In=Ir+Iy+Ib\n",
"mprintf('Current in the neutral=%f A', mag(In))"
   ]
   }
,
{
		   "cell_type": "markdown",
		   "metadata": {},
		   "source": [
			"## Example 9.5: Example_on_Three_Phase_Circuits.sce"
		   ]
		  },
  {
"cell_type": "code",
	   "execution_count": null,
	   "metadata": {
	    "collapsed": true
	   },
	   "outputs": [],
"source": [
"Pout=30D+3//output\n",
"e=.86//efficiency\n",
"Pin=Pout/e//input\n",
"Vl=440//line voltage\n",
"pf=.83//power factor\n",
"Il=Pin/(sqrt(3)*Vl*pf)\n",
"mprintf('Line current=%f A\n', Il)\n",
"Iph=Il/sqrt(3)//motor is delta connected\n",
"mprintf('Phase current=%f A', Iph)"
   ]
   }
,
{
		   "cell_type": "markdown",
		   "metadata": {},
		   "source": [
			"## Example 9.6: Example_on_Three_Phase_Circuits.sce"
		   ]
		  },
  {
"cell_type": "code",
	   "execution_count": null,
	   "metadata": {
	    "collapsed": true
	   },
	   "outputs": [],
"source": [
"\n",
"function[r,theta]=rect2pol(A)\n",
"    x=real(A)\n",
"    y=imag(A)\n",
"    r=sqrt(x^2+y^2)\n",
"    theta=atand(y/x)\n",
"endfunction\n",
"function[z]=pol2rect(r,theta)\n",
"    x=r*cos(theta*%pi/180)\n",
"    y=r*sin(theta*%pi/180)\n",
"    z=x+y*%i\n",
"endfunction\n",
"function[r]=mag(A)\n",
"    x=real(A)\n",
"    y=imag(A)\n",
"    r=sqrt(x^2+y^2)\n",
"endfunction\n",
"j=%i\n",
"//calculating phase currents-let the sequence be RYB\n",
"Vl=440//line voltage\n",
"Vph=Vl//delta connected load\n",
"Zph1=150//impedance of the phase between A and B(resistive)\n",
"I1=Vph/Zph1\n",
"mprintf('I1=%f A at 0 degrees w.r.t. Vry\n', I1)\n",
"Zph2=30+50*j//impedance of the phase between B and C\n",
"I2=Vph/mag(Zph2)\n",
"//as the load is inductive, current will lag the voltage Vyb by phi2\n",
"phi2=atand(50/30)\n",
"mprintf('I2=%f A at -%f degrees w.r.t. Vyb\n', I2,phi2)\n",
"C=20D-6\n",
"f=50\n",
"Xc=-(1/(2*%pi*f*C))*j\n",
"I3=Vph/mag(Xc)\n",
"//as the load is capacitive, current will lead the voltage Vbr by 90 degrees\n",
"mprintf('I3=%f A at 90 degrees w.r.t. Vbr\n', I3)\n",
"\n",
"//calculating line currents-\n",
"Vry=pol2rect(440,0)\n",
"Vyb=pol2rect(440,-120)\n",
"Vbr=pol2rect(440,-240)\n",
"I1=Vry/Zph1\n",
"I2=Vyb/Zph2\n",
"I3=Vbr/Xc\n",
"//using KCL\n",
"Ir=I1-I3\n",
"Iy=I2-I1\n",
"Ib=I3-I2\n",
"mprintf('Current in line R, Ir=%f A,\nCurrent in line Y, Iy=%f A,\nCurrent in line B, Ib=%f A,\n', mag(Ir),mag(Iy),mag(Ib))"
   ]
   }
,
{
		   "cell_type": "markdown",
		   "metadata": {},
		   "source": [
			"## Example 9.7: Example_on_Three_Phase_Circuits.sce"
		   ]
		  },
  {
"cell_type": "code",
	   "execution_count": null,
	   "metadata": {
	    "collapsed": true
	   },
	   "outputs": [],
"source": [
"\n",
"Vl=1100//line voltage\n",
"Vph=Vl/sqrt(3)//star connected load\n",
"Il=80//current through load\n",
"Iph=Il\n",
"Zph=Vph/Iph\n",
"P=100D+3//power drawn by load\n",
"pf=P/(sqrt(3)*Vl*Il)//power factor\n",
"Rph=Zph*pf\n",
"Xc=sqrt(Zph^2-Rph^2)\n",
"f=50\n",
"C=1/(2*%pi*f*Xc)\n",
"mprintf('Capacitance per phase=%f microF', C*10^6)\n",
"//Answer vary from the textbook due to round off error"
   ]
   }
,
{
		   "cell_type": "markdown",
		   "metadata": {},
		   "source": [
			"## Example 9.8: Example_on_Power_Measurement.sce"
		   ]
		  },
  {
"cell_type": "code",
	   "execution_count": null,
	   "metadata": {
	    "collapsed": true
	   },
	   "outputs": [],
"source": [
"\n",
"W1=15D+3//reading of first wattmeter\n",
"W2=-1.5D+3//reading of second wattmeter\n",
"W=W1+W2//total power fed to the load\n",
"mprintf('Total power fed to the load=%f kW\n',W/10^3)\n",
"phi=atand(sqrt(3)*(W1-W2)/W)\n",
"mprintf('Power factor angle, phi=%f degrees\nPower factor of load=%f', phi, cos(phi*%pi/180))"
   ]
   }
,
{
		   "cell_type": "markdown",
		   "metadata": {},
		   "source": [
			"## Example 9.9: Example_on_Power_Measurement.sce"
		   ]
		  },
  {
"cell_type": "code",
	   "execution_count": null,
	   "metadata": {
	    "collapsed": true
	   },
	   "outputs": [],
"source": [
"\n",
"W1=115D+3\n",
"W2=50D+3\n",
"//calculating input to motor\n",
"W=W1+W2\n",
"mprintf('Power input to the motor=%f kW\n', W/1000)\n",
"//calculating power factor\n",
"phi=atand(sqrt(3)*(W1-W2)/(W1+W2))\n",
"mprintf('Power factor angle, phi=%f degrees\nPower factor of load=%f A\n', phi, cos(phi*%pi/180))\n",
"//calculating line current\n",
"Il=W/(sqrt(3)*440*cos(phi*%pi/180))\n",
"mprintf('Line current drawn by the motor=%f A\n',Il)\n",
"//calculating efficiency\n",
"Pout=150D+3//output of motor\n",
"e=Pout/W*100\n",
"mprintf('Efficiency of the induction motor=%f percent',e )"
   ]
   }
],
"metadata": {
		  "kernelspec": {
		   "display_name": "Scilab",
		   "language": "scilab",
		   "name": "scilab"
		  },
		  "language_info": {
		   "file_extension": ".sce",
		   "help_links": [
			{
			 "text": "MetaKernel Magics",
			 "url": "https://github.com/calysto/metakernel/blob/master/metakernel/magics/README.md"
			}
		   ],
		   "mimetype": "text/x-octave",
		   "name": "scilab",
		   "version": "0.7.1"
		  }
		 },
		 "nbformat": 4,
		 "nbformat_minor": 0
}
