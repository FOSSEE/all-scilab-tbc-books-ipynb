{
"cells": [
 {
		   "cell_type": "markdown",
	   "metadata": {},
	   "source": [
       "# Chapter 24: Single Phase Induction Motor"
	   ]
	},
{
		   "cell_type": "markdown",
		   "metadata": {},
		   "source": [
			"## Example 24.1: Example_on_Equivalent_Circuit.sce"
		   ]
		  },
  {
"cell_type": "code",
	   "execution_count": null,
	   "metadata": {
	    "collapsed": true
	   },
	   "outputs": [],
"source": [
"\n",
"f=50//frequency in Hz\n",
"P=4//no. of poles\n",
"Ns=120*f/P//synchronous speed\n",
"Nr=1420\n",
"//calculating forward slip\n",
"s=(Ns-Nr)/Ns\n",
"mprintf('Forward slip=%f p.u.\n',s)\n",
"//calculating backward slip\n",
"s1=2-s\n",
"mprintf('Backward slip s_b=%f p.u.\n',s1)\n",
"//calculating effective rotor resistance in forward branch\n",
"R2_dash=4.5\n",
"Rf=R2_dash/(2*s)\n",
"mprintf('Effective rotor resistance in forward branch=%f ohm\n', Rf)\n",
"//calculating effective rotor resistance in backward branch\n",
"Rb=R2_dash/(2*(2-s))\n",
"mprintf('Effective rotor resistance in backward branch=%f ohm', Rb)\n",
"//answers vary from the textbook due to round off error"
   ]
   }
,
{
		   "cell_type": "markdown",
		   "metadata": {},
		   "source": [
			"## Example 24.2: Example_on_Equivalent_Circuit.sce"
		   ]
		  },
  {
"cell_type": "code",
	   "execution_count": null,
	   "metadata": {
	    "collapsed": true
	   },
	   "outputs": [],
"source": [
"\n",
"function[r,theta]=rect2pol(A)\n",
"    x=real(A)\n",
"    y=imag(A)\n",
"    r=sqrt(x^2+y^2)\n",
"    theta=atand(y/x)\n",
"endfunction\n",
"function[z]=pol2rect(r,theta)\n",
"    x=r*cos(theta*%pi/180)\n",
"    y=r*sin(theta*%pi/180)\n",
"    z=x+y*%i\n",
"endfunction\n",
"function[r]=mag(A)\n",
"    x=real(A)\n",
"    y=imag(A)\n",
"    r=sqrt(x^2+y^2)\n",
"endfunction\n",
"f=50//frequency\n",
"P=4//no. of poles\n",
"Ns=120*f/P//synchronous speed\n",
"Nr=1420\n",
"s=(Ns-Nr)/Ns\n",
"Xm=70\n",
"R2_dash=3.75\n",
"X2_dash=1.75\n",
"Zf=(Xm*%i/2)*(R2_dash/(2*s)+%i*X2_dash/2)/(R2_dash/(2*s)+%i*(Xm+X2_dash)/2)//forward impedance\n",
"Zb=(%i*Xm/2)*(R2_dash/(2*(2-s))+%i*X2_dash/2)/(R2_dash/(2*(2-s))+%i*(Xm+X2_dash)/2)//backward impedance\n",
"Z1=2.5+%i*1.5\n",
"Zin=Z1+Zf+Zb//input impedance\n",
"//calculating input current\n",
"V1=pol2rect(230,0)\n",
"I1=V1/Zin\n",
"[I1 theta]=rect2pol(I1)\n",
"mprintf('Input current drawn by the motor is %f A, lagging the applied voltage by %f degrees\n', I1,-theta)\n",
"//calculating input power\n",
"Pin=mag(V1)*I1*cos(theta*%pi/180)\n",
"mprintf('Power input=%f W\n', Pin)\n",
"//calculating mechanical power developed\n",
"Pgf=I1^2*real(Zf)\n",
"Pgb=I1^2*real(Zb)\n",
"Pm=(Pgf-Pgb)*(1-s)\n",
"mprintf('Mechanical power developed=%f W\n', Pm)\n",
"//calculating resultant torque developed\n",
"omega_s=2*%pi*Ns/60\n",
"T=(Pgf-Pgb)/omega_s\n",
"mprintf('Resultant torque developed=%f N-m\n',T)\n",
"//calculating efficiency\n",
"Prot=35+60\n",
"Pout=Pm-Prot\n",
"e=Pout/Pin*100\n",
"mprintf('Efficiency=%f percent', e)\n",
"//answers vary from the textbook due to round off error"
   ]
   }
,
{
		   "cell_type": "markdown",
		   "metadata": {},
		   "source": [
			"## Example 24.3: Example_on_Equivalent_Circuit.sce"
		   ]
		  },
  {
"cell_type": "code",
	   "execution_count": null,
	   "metadata": {
	    "collapsed": true
	   },
	   "outputs": [],
"source": [
"\n",
"function[r,theta]=rect2pol(A)\n",
"    x=real(A)\n",
"    y=imag(A)\n",
"    r=sqrt(x^2+y^2)\n",
"    theta=atan(y/x)\n",
"endfunction\n",
"function[z]=pol2rect(r,theta)\n",
"    x=r*cos(theta)\n",
"    y=r*sin(theta)\n",
"    z=x+y*%i\n",
"endfunction\n",
"function[r]=mag(A)\n",
"    x=real(A)\n",
"    y=imag(A)\n",
"    r=sqrt(x^2+y^2)\n",
"endfunction\n",
"f=50//frequency\n",
"P=4//no. of poles\n",
"Ns=120*f/P//synchronous speed\n",
"Nr=1425\n",
"s=(Ns-Nr)/Ns//slip\n",
"R2_dash=7.5\n",
"X2_dash=4.5\n",
"Xm=150\n",
"Zf=(Xm*%i/2)*(R2_dash/(2*s)+%i*X2_dash/2)/(R2_dash/(2*s)+%i*(Xm+X2_dash)/2)//forward impedance\n",
"Zb=(%i*Xm/2)*(R2_dash/(2*(2-s))+%i*X2_dash/2)/(R2_dash/(2*(2-s))+%i*(Xm+X2_dash)/2)//backward impedance\n",
"Z1=2.5+4.5*%i\n",
"Zin=Z1+Zf+Zb//input impedance\n",
"//calculating input current\n",
"V1=pol2rect(230,0)\n",
"I1=V1/Zin\n",
"[I1 theta]=rect2pol(I1)\n",
"mprintf('Input current drawn by the motor is %f A at %f pf lagging\n', I1,cos(theta))\n",
"//calculating air gap power\n",
"Pgf=I1^2*real(Zf)//air gap power due to forward field\n",
"Pgb=I1^2*real(Zb)//air gap power due to backward field\n",
"Pg=Pgf+Pgb\n",
"mprintf('Air gap power=%f W\n',Pg)\n",
"//calculating rotor copper losses\n",
"Prc=s*Pgf+(2-s)*Pgb\n",
"mprintf('Rotor copper losses=%f W',Prc)\n",
"//answers vary from the textbook due to round off error"
   ]
   }
,
{
		   "cell_type": "markdown",
		   "metadata": {},
		   "source": [
			"## Example 24.4: Example_on_No_Load_and_Block_Rotor_Test.sce"
		   ]
		  },
  {
"cell_type": "code",
	   "execution_count": null,
	   "metadata": {
	    "collapsed": true
	   },
	   "outputs": [],
"source": [
"\n",
"//under block rotor condition\n",
"Vb=82.5\n",
"Ib=9.3\n",
"Zb=Vb/Ib\n",
"P=500//power consumed\n",
"Rb=P/Ib^2\n",
"Xb=sqrt(Zb^2-Rb^2)\n",
"R1=2.5//main resistance winding\n",
"R2_dash=Rb-R1//rotor resistance referred to stator\n",
"X1=Xb/2\n",
"X2_dash=X1//rotor reactance referred to stator\n",
"//under no load\n",
"I0=6.4\n",
"V0=230\n",
"Z0=V0/I0\n",
"P0=220//power consumed\n",
"R0=P0/I0^2\n",
"X0=sqrt(Z0^2-R0^2)\n",
"Xm=2*X0-3/2*Xb\n",
"mprintf('Equivalent circuit parameters of the motor are:\nR1=%f ohm,\nX1=%f ohm,\nXm=%f ohm,\nR2_dash=%f ohm,\nX2_dash=%f ohm\n', R1,X1,Xm,R2_dash,X2_dash)"
   ]
   }
,
{
		   "cell_type": "markdown",
		   "metadata": {},
		   "source": [
			"## Example 24.5: Example_on_No_Load_and_Block_Rotor_Test.sce"
		   ]
		  },
  {
"cell_type": "code",
	   "execution_count": null,
	   "metadata": {
	    "collapsed": true
	   },
	   "outputs": [],
"source": [
"\n",
"function[r,theta]=rect2pol(A)\n",
"    x=real(A)\n",
"    y=imag(A)\n",
"    r=sqrt(x^2+y^2)\n",
"    theta=atand(y/x)\n",
"endfunction\n",
"function[z]=pol2rect(r,theta)\n",
"    x=r*cos(theta*%pi/180)\n",
"    y=r*sin(theta*%pi/180)\n",
"    z=x+y*%i\n",
"endfunction\n",
"function[r]=mag(A)\n",
"    x=real(A)\n",
"    y=imag(A)\n",
"    r=sqrt(x^2+y^2)\n",
"endfunction\n",
"f=50//frequency\n",
"P=4//no. of poles\n",
"Ns=120*f/P//synchronous speed\n",
"Nr=1420//motor speed\n",
"s=(Ns-Nr)/Ns\n",
"R1=2.5\n",
"X1=3.365\n",
"Xm=60.945\n",
"R2_dash=3.28\n",
"X2_dash=3.365\n",
"Zf=(Xm*%i/2)*(R2_dash/(2*s)+%i*X2_dash/2)/(R2_dash/(2*s)+%i*(Xm+X2_dash)/2)//forward impedance\n",
"Zb=(%i*Xm/2)*(R2_dash/(2*(2-s))+%i*X2_dash/2)/(R2_dash/(2*(2-s))+%i*(Xm+X2_dash)/2)//backward impedance\n",
"Z1=R1+%i*X1\n",
"Zin=Z1+Zf+Zb//input impedance\n",
"//calculating input current and power factor\n",
"V1=pol2rect(230,0)\n",
"I1=V1/Zin\n",
"[I1 theta]=rect2pol(I1)\n",
"mprintf('Input current drawn by the motor is %f A lagging the applied voltage by an angle of %f degrees, that is at %f pf lagging\n', I1,-theta,cos(theta*%pi/180))\n",
"//calculating input power\n",
"Pin=mag(V1)*I1*cos(theta*%pi/180)\n",
"mprintf('Power input=%f W\n', Pin)\n",
"//calculating torque developed\n",
"Pgf=I1^2*real(Zf)\n",
"Pgb=I1^2*real(Zb)\n",
"omega_s=2*%pi*Ns/60\n",
"T=(Pgf-Pgb)/omega_s\n",
"mprintf('Resultant torque developed=%f N-m\n',T)\n",
"//calculating output power\n",
"Pm=(Pgf-Pgb)*(1-s)//mechanical power developed\n",
"W0=220//power consumed under no load\n",
"I0=6.4//no load current\n",
"Prot=W0-I0^2*(R1+R2_dash/4)//rotational losses\n",
"Pout=Pm-Prot\n",
"mprintf('Output power developed=%f W\n', Pout)\n",
"//calculating efficiency\n",
"e=Pout/Pin*100\n",
"mprintf('Efficiency=%f percent\n', e)\n",
"//calculating air gap power\n",
"Pg=Pgf+Pgb\n",
"mprintf('Air gap power=%f W\n',Pg)\n",
"//calculating rotor copper losses\n",
"Prc=s*Pgf+(2-s)*Pgb\n",
"mprintf('Rotor copper losses=%f W',Prc)\n",
"//answers vary from the textbook due to round off error"
   ]
   }
],
"metadata": {
		  "kernelspec": {
		   "display_name": "Scilab",
		   "language": "scilab",
		   "name": "scilab"
		  },
		  "language_info": {
		   "file_extension": ".sce",
		   "help_links": [
			{
			 "text": "MetaKernel Magics",
			 "url": "https://github.com/calysto/metakernel/blob/master/metakernel/magics/README.md"
			}
		   ],
		   "mimetype": "text/x-octave",
		   "name": "scilab",
		   "version": "0.7.1"
		  }
		 },
		 "nbformat": 4,
		 "nbformat_minor": 0
}
