{
"cells": [
 {
		   "cell_type": "markdown",
	   "metadata": {},
	   "source": [
       "# Chapter 17: Fundamentals of DC Machines"
	   ]
	},
{
		   "cell_type": "markdown",
		   "metadata": {},
		   "source": [
			"## Example 17.10: Example_on_Types_of_DC_Machines.sce"
		   ]
		  },
  {
"cell_type": "code",
	   "execution_count": null,
	   "metadata": {
	    "collapsed": true
	   },
	   "outputs": [],
"source": [
"\n",
"V=250//terminal voltage\n",
"Il=450//load current\n",
"Rsh=50//shunt field resistance\n",
"Ish=V/Rsh\n",
"Ia=Ish+Il\n",
"Ra=.05//armature resistance\n",
"Eg=V+Ia*Ra\n",
"P=4//no. of poles\n",
"phi=.05//flux per pole in Wb\n",
"n=120//no. of slots on armature\n",
"c=4//conductors per slot\n",
"Z=n*c//total no. of conductors\n",
"A=P//no. of parallel paths\n",
"N=60*Eg*A/(P*phi*Z)\n",
"mprintf('Speed of rotation=%f rpm', round(N))"
   ]
   }
,
{
		   "cell_type": "markdown",
		   "metadata": {},
		   "source": [
			"## Example 17.11: Example_on_Types_of_DC_Machines.sce"
		   ]
		  },
  {
"cell_type": "code",
	   "execution_count": null,
	   "metadata": {
	    "collapsed": true
	   },
	   "outputs": [],
"source": [
"\n",
"//when the dc shunt machine works as a generator\n",
"V=250//terminal voltage\n",
"Il=80//load current\n",
"Rsh=100//field resistance\n",
"Ra=.12//armature resistance\n",
"Ish=V/Rsh\n",
"Ia=Il+Ish\n",
"Eg=V+Ia*Ra\n",
"\n",
"//when the dc shunt machine works as a motor\n",
"V=250//applied voltage to motor\n",
"Il=80//line current drawn by the motor\n",
"Ia=Il-Ish\n",
"Eb=V-Ia*Ra\n",
"//for a machine, P*phi*Z/(60*A) is a constant\n",
"x=Eg/Eb\n",
"mprintf('speed as generator/speed as motor=%f',x)"
   ]
   }
,
{
		   "cell_type": "markdown",
		   "metadata": {},
		   "source": [
			"## Example 17.12: Example_on_Types_of_DC_Machines.sce"
		   ]
		  },
  {
"cell_type": "code",
	   "execution_count": null,
	   "metadata": {
	    "collapsed": true
	   },
	   "outputs": [],
"source": [
"\n",
"//calculating back emf\n",
"V=120//applied voltage\n",
"Il=200//line current\n",
"Rsh=30//shunt field resistance\n",
"Ra=.02//armature winding resistance\n",
"Ish=V/Rsh\n",
"Ia=Il-Ish\n",
"Eb=V-Ia*Ra\n",
"mprintf('Back emf=%f V\n',Eb)\n",
"n=90//no. of slots on armature\n",
"c=4//conductors per slot\n",
"Z=n*c//total no. of conductors on armature\n",
"phi=.04\n",
"N=60*Eb/(phi*Z)\n",
"mprintf('Speed at which motor will run when flux per pole is .04 Wb=%d rpm',round(N))"
   ]
   }
,
{
		   "cell_type": "markdown",
		   "metadata": {},
		   "source": [
			"## Example 17.13: Example_on_Types_of_DC_Machines.sce"
		   ]
		  },
  {
"cell_type": "code",
	   "execution_count": null,
	   "metadata": {
	    "collapsed": true
	   },
	   "outputs": [],
"source": [
"\n",
"//calculating load current\n",
"i=30//current drawn by each motor\n",
"I=5*i//current drawn by 5 motors\n",
"P=150*60//total lighting load\n",
"V=110//applied voltage\n",
"I1=P/V//current taken by lighting load\n",
"I=I1+I\n",
"mprintf('Total load current=%d A\n',round(I))\n",
"//calculating terminal voltage\n",
"V_dash=110//voltage at terminals of load\n",
"R=.04//resistance of feeders\n",
"Vd=I*R//voltage drop in feeders\n",
"V=V_dash+Vd\n",
"mprintf('Terminal voltage across the generator terminals=%f V\n',V)\n",
"//calculating emf generated\n",
"Rsh=55//resistance of shunt field\n",
"Ish=V/Rsh\n",
"Ia=I+Ish\n",
"Ise=Ia\n",
"Rse=.04//series field resistance\n",
"Ra=.03//armature resistance\n",
"Eg=V+Ia*(Ra+Rse)\n",
"mprintf('Generated emf, Eg=%f V',Eg)"
   ]
   }
,
{
		   "cell_type": "markdown",
		   "metadata": {},
		   "source": [
			"## Example 17.14: Example_on_Types_of_DC_Machines.sce"
		   ]
		  },
  {
"cell_type": "code",
	   "execution_count": null,
	   "metadata": {
	    "collapsed": true
	   },
	   "outputs": [],
"source": [
"\n",
"//when the machine is working as generator\n",
"V=240//terminal voltage across the load\n",
"P=40D+3//load on generator\n",
"Il=P/V//load current\n",
"Rsh=60//resistance of shunt field\n",
"Ish=V/Rsh\n",
"Ia=Il+Ish\n",
"Ra=.03//armature resistance\n",
"e=2*1//voltage drop at brushes\n",
"Eg=V+Ia*Ra+e\n",
"N=450//speed as a generator at this load\n",
"//let k=P*phi*Z/(60*A)\n",
"k=Eg/N\n",
"//when the machine is working as motor\n",
"Ia=Il-Ish\n",
"Eb=V-Ia*Ra-e\n",
"N=Eb/k\n",
"mprintf('Speed as a motor=%d rpm', round(N))"
   ]
   }
,
{
		   "cell_type": "markdown",
		   "metadata": {},
		   "source": [
			"## Example 17.1: Example_on_DC_Winding.sce"
		   ]
		  },
  {
"cell_type": "code",
	   "execution_count": null,
	   "metadata": {
	    "collapsed": true
	   },
	   "outputs": [],
"source": [
"\n",
"P=6//no. of poles\n",
"a=P//no. of parallel circuits\n",
"n=150//no. of slots\n",
"c=8//no. of conductors per slot\n",
"Z=n*c//total no. of conductors\n",
"T=Z/2//no. of turns\n",
"Lmt=250D-2//mean length of one turn\n",
"S=10*2.5*1D-6//cross sectional area\n",
"rho=2.1D-8//resistivity at 80 degree C\n",
"R=(rho*Lmt*T)/(a^2*S)\n",
"mprintf('Resistance=%f ohm\n',R)"
   ]
   }
,
{
		   "cell_type": "markdown",
		   "metadata": {},
		   "source": [
			"## Example 17.2: Example_on_DC_Winding.sce"
		   ]
		  },
  {
"cell_type": "code",
	   "execution_count": null,
	   "metadata": {
	    "collapsed": true
	   },
	   "outputs": [],
"source": [
"\n",
"P=4//no. of poles\n",
"n=24//no. of slots\n",
"c=2//conductors per slot\n",
"Z=n*c//total no. of conductors\n",
"p=Z/4//pole pitch\n",
"Ybp=p+1//back pitch\n",
"Yfp=p-1//front pitch\n",
"Y=Ybp-Yfp\n",
"mprintf('Resultant pitch=%f',Y)"
   ]
   }
,
{
		   "cell_type": "markdown",
		   "metadata": {},
		   "source": [
			"## Example 17.3: Example_on_EMF_Equation.sce"
		   ]
		  },
  {
"cell_type": "code",
	   "execution_count": null,
	   "metadata": {
	    "collapsed": true
	   },
	   "outputs": [],
"source": [
"\n",
"P=6//no. of poles\n",
"A=P//no. of parallel paths\n",
"phi=.018//flux per pole\n",
"N=600//speed of rotation in rpm\n",
"Z=840//total no. of conductors\n",
"Eg=P*phi*N*Z/(60*A)\n",
"mprintf('Emf generated=%f V\n',Eg)"
   ]
   }
,
{
		   "cell_type": "markdown",
		   "metadata": {},
		   "source": [
			"## Example 17.4: Example_on_EMF_Equation.sce"
		   ]
		  },
  {
"cell_type": "code",
	   "execution_count": null,
	   "metadata": {
	    "collapsed": true
	   },
	   "outputs": [],
"source": [
"\n",
"P=6//no. of poles\n",
"A=2//no. of parallel paths\n",
"Z=300//no. of conductors on armature\n",
"N=1000//speed of rotation in rpm\n",
"Eg=400//emf generated on open circuit\n",
"phi=60*Eg*A/(P*N*Z)\n",
"mprintf('Flux per pole=%f Wb\n', phi)"
   ]
   }
,
{
		   "cell_type": "markdown",
		   "metadata": {},
		   "source": [
			"## Example 17.5: Example_on_EMF_Equation.sce"
		   ]
		  },
  {
"cell_type": "code",
	   "execution_count": null,
	   "metadata": {
	    "collapsed": true
	   },
	   "outputs": [],
"source": [
"\n",
"Eg=400//emf generated\n",
"n=80//no. of slots on armature\n",
"c=10//conductors per slot\n",
"Z=n*c//total no. of conductors on armature\n",
"N=1000//speed in rpm\n",
"phi=60*Eg/(N*Z)\n",
"Eg=220//desired value of generated voltage\n",
"N=60*Eg/(phi*Z)\n",
"mprintf('Speed of rotation to generate 220 V=%f rpm\n', round(N))"
   ]
   }
,
{
		   "cell_type": "markdown",
		   "metadata": {},
		   "source": [
			"## Example 17.6: Example_on_EMF_Equation.sce"
		   ]
		  },
  {
"cell_type": "code",
	   "execution_count": null,
	   "metadata": {
	    "collapsed": true
	   },
	   "outputs": [],
"source": [
"\n",
"n=60//no. of slots on armature\n",
"c=6//conductors per slot\n",
"Z=n*c//total no. of conductors\n",
"A=2//no. of parallel paths in armature winding\n",
"N=750//speed of rotation\n",
"P=4//no. of poles\n",
"Eg=230//emf generated on open circuit\n",
"phi=60*Eg*A/(P*N*Z)\n",
"mprintf('Useful fux per pole=%f Wb\n',phi)\n",
"Eg=115//emf to be generated at no load\n",
"A=P*N*Z*phi/(60*Eg)//required no. of parallel paths in armature winding\n",
"mprintf('As the machine has equal number of poles and parallel paths in armature winding, the armature will be lap connected to generate 115 V at the same speed')"
   ]
   }
,
{
		   "cell_type": "markdown",
		   "metadata": {},
		   "source": [
			"## Example 17.7: Example_on_Types_of_DC_Machines.sce"
		   ]
		  },
  {
"cell_type": "code",
	   "execution_count": null,
	   "metadata": {
	    "collapsed": true
	   },
	   "outputs": [],
"source": [
"\n",
"//calculating terminal voltage\n",
"P=10D+3//load supplied\n",
"Vl=220//voltage at load terminals\n",
"Il=P/Vl\n",
"R=.1//resistance of feeders\n",
"Vd=Il*R//voltage drop on feeders\n",
"V=Vd+Vl\n",
"mprintf('Terminal voltage across the armature terminals=%f V\n',V)\n",
"//Calculating shunt field current\n",
"Rsh=100//shunt resistance\n",
"Ish=V/Rsh\n",
"mprintf('Shunt field current=%f A\n',Ish)\n",
"//Calculating generated emf\n",
"Ra=.05//resistance of armature\n",
"Eg=V+Il*Ra\n",
"mprintf('Generated emf Eg=%f V',Eg)"
   ]
   }
,
{
		   "cell_type": "markdown",
		   "metadata": {},
		   "source": [
			"## Example 17.8: Example_on_Types_of_DC_Machines.sce"
		   ]
		  },
  {
"cell_type": "code",
	   "execution_count": null,
	   "metadata": {
	    "collapsed": true
	   },
	   "outputs": [],
"source": [
"\n",
"//calculating total armature current\n",
"V=200//terminal voltage across armature\n",
"Rsh=80//shunt field resistance\n",
"Ish=V/Rsh//shunt field current\n",
"Il=100//load current\n",
"Ia=Il+Ish\n",
"mprintf('Armature current=%f A\n',Ia)\n",
"//calculating current per armature path\n",
"A=4//no. of parallel paths\n",
"mprintf('Current per armature path=%f A\n',Ia/A)\n",
"//calculating emf generated\n",
"Ra=.1//armature resistance\n",
"e=2//brush contact drop\n",
"Eg=V+Ia*Ra+e\n",
"mprintf('Emf generated=%f V\n',Eg)"
   ]
   }
,
{
		   "cell_type": "markdown",
		   "metadata": {},
		   "source": [
			"## Example 17.9: Example_on_Types_of_DC_Machines.sce"
		   ]
		  },
  {
"cell_type": "code",
	   "execution_count": null,
	   "metadata": {
	    "collapsed": true
	   },
	   "outputs": [],
"source": [
"\n",
"V=100//terminal voltage\n",
"Il=200//load current\n",
"Rse=.03//resistance of series field winding\n",
"Ra=.04//resistance of armature winding\n",
"Rsh=60//resistance of shunt\n",
"Vd=Il*Rse//voltage drop in series field winding\n",
"V_dash=V+Il*Rse//terminal voltage across armature\n",
"Ish=V_dash/Rsh\n",
"Ia=Il+Ish\n",
"Eg=V+Il*Rse+Ia*Ra\n",
"mprintf('Generated emf=%f V',Eg)"
   ]
   }
],
"metadata": {
		  "kernelspec": {
		   "display_name": "Scilab",
		   "language": "scilab",
		   "name": "scilab"
		  },
		  "language_info": {
		   "file_extension": ".sce",
		   "help_links": [
			{
			 "text": "MetaKernel Magics",
			 "url": "https://github.com/calysto/metakernel/blob/master/metakernel/magics/README.md"
			}
		   ],
		   "mimetype": "text/x-octave",
		   "name": "scilab",
		   "version": "0.7.1"
		  }
		 },
		 "nbformat": 4,
		 "nbformat_minor": 0
}
