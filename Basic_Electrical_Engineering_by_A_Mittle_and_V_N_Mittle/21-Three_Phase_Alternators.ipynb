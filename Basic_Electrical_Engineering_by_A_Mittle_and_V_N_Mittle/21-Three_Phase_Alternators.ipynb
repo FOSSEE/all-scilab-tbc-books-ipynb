{
"cells": [
 {
		   "cell_type": "markdown",
	   "metadata": {},
	   "source": [
       "# Chapter 21: Three Phase Alternators"
	   ]
	},
{
		   "cell_type": "markdown",
		   "metadata": {},
		   "source": [
			"## Example 21.10: Example_on_Regulation.sce"
		   ]
		  },
  {
"cell_type": "code",
	   "execution_count": null,
	   "metadata": {
	    "collapsed": true
	   },
	   "outputs": [],
"source": [
"\n",
"function[z]=pol2rect(r,theta)\n",
"    x=r*cos(theta*%pi/180)\n",
"    y=r*sin(theta*%pi/180)\n",
"    z=x+y*%i\n",
"endfunction\n",
"function[r]=mag(A)\n",
"    x=real(A)\n",
"    y=imag(A)\n",
"    r=sqrt(x^2+y^2)\n",
"endfunction\n",
"j=%i\n",
"//terminal voltage is taken as reference phasor and the rated quantities are taken as 1 p.u.\n",
"Vt=pol2rect(1,0)//terminal voltage\n",
"pf=.8//lagging power factor\n",
"phi=acosd(pf)\n",
"Ia=pol2rect(1,-phi)//armature current\n",
"Xd=.8*j\n",
"Xq=.4*j\n",
"//refer to Fig.21.24 in the textbook\n",
"OB=Vt+Ia*Xq\n",
"delta=14.47//power angle\n",
"Id=Ia*sin((delta+phi)*%pi/180)\n",
"Ef=mag(OB)+mag(Id)*mag(Xd-Xq)\n",
"mprintf('Excitation voltage per phase is %f p.u.', Ef)"
   ]
   }
,
{
		   "cell_type": "markdown",
		   "metadata": {},
		   "source": [
			"## Example 21.1: Example_on_emf_Equation.sce"
		   ]
		  },
  {
"cell_type": "code",
	   "execution_count": null,
	   "metadata": {
	    "collapsed": true
	   },
	   "outputs": [],
"source": [
"\n",
"//calculating speed\n",
"f=50//frequency\n",
"P=20//no. of poles\n",
"N=120*f/P\n",
"mprintf('Speed at which alternator must be run=%d rpm\n', N)\n",
"//calculating the generated emf per phase\n",
"x=180//total no. of slots\n",
"y=x/P//slots per pole\n",
"m=y/3//slots per pole per phase\n",
"alpha=180/9//phase displacement between adjacent slots\n",
"Kd=sin((m*alpha/2)*%pi/180)/(m*sin((alpha/2)*%pi/180))//distribution factor\n",
"Kc=1//coil span factor\n",
"Kw=Kd*Kc//winding factor\n",
"Z=180*8//total no. of conductors\n",
"a=Z/3//conductors per phase\n",
"T=a/2//turns per phase\n",
"phi=25D-3//flux per pole\n",
"Eph=round(4.44*Kw*f*phi*T)\n",
"mprintf('Generated emf per phase=%d V\n', Eph)\n",
"//calculating line emf\n",
"El=sqrt(3)*round(Eph)\n",
"mprintf('Line emf=%d V', round(El))\n",
"//answer vary from the textbook due to round off error"
   ]
   }
,
{
		   "cell_type": "markdown",
		   "metadata": {},
		   "source": [
			"## Example 21.2: Example_on_emf_Equation.sce"
		   ]
		  },
  {
"cell_type": "code",
	   "execution_count": null,
	   "metadata": {
	    "collapsed": true
	   },
	   "outputs": [],
"source": [
"\n",
"funcprot(0)\n",
"m=2//no. of slots per pole per phase\n",
"x=m*3//no. of slots per pole\n",
"alpha=180/x//phase displacement between adjacent slots in degrees\n",
"Kd=sin((m*alpha/2)*%pi/180)/(m*sin((alpha/2)*%pi/180))//distribution factor\n",
"beta=180-150//in degrees\n",
"Kc=cos((beta/2)*%pi/180)//coil span factor\n",
"Kw=Kd*Kc//winding factor\n",
"P=10//no. of poles\n",
"n=m*P//no. of slots per phase\n",
"Zph=n*10//no. of conductors per phase\n",
"Tph=100//no. of turns per phase\n",
"N=600//speed of the alternator in rpm\n",
"f=P*N/120//frequency\n",
"phi=.05//useful flux per pole in Wb\n",
"Eph=4.44*Kw*f*phi*Tph\n",
"mprintf('Stator emf per phase at no load=%d V', round(Eph))"
   ]
   }
,
{
		   "cell_type": "markdown",
		   "metadata": {},
		   "source": [
			"## Example 21.3: Example_on_emf_Equation.sce"
		   ]
		  },
  {
"cell_type": "code",
	   "execution_count": null,
	   "metadata": {
	    "collapsed": true
	   },
	   "outputs": [],
"source": [
"\n",
"funcprot(0)\n",
"//calculating pitch factor\n",
"beta=0//full pitch coil\n",
"Kc=cos((beta/2)*%pi/180)\n",
"mprintf('Pitch factor, Kc=%d\n', Kc)\n",
"//calculating distribution factor\n",
"m=4//no. of slots per pole per phase\n",
"x=m*3//no. of slots per pole\n",
"alpha=180/x//phase displacement between adjacent slots in degrees\n",
"Kd=sin((m*alpha/2)*%pi/180)/(m*sin((alpha/2)*%pi/180))\n",
"mprintf('Distribution factor of stator winding=%f\n', Kd)\n",
"//calculating emf generated per phase\n",
"Kw=Kd*Kc\n",
"y=m*8//no. of slots per phase\n",
"n=y*10//no. of conductors per phase\n",
"Tph=160//no. of turns per phase\n",
"f=50//frequency\n",
"phi=.04//flux per pole\n",
"Eph=round(4.44*f*Kw*Tph*phi)\n",
"mprintf('Emf per phase at no load=%d V\n', Eph)\n",
"//calculating line emf\n",
"El=sqrt(3)*Eph\n",
"mprintf('Line emf=%d V', round(El))\n",
"//answer vary from the textbook due to round off error"
   ]
   }
,
{
		   "cell_type": "markdown",
		   "metadata": {},
		   "source": [
			"## Example 21.4: Example_on_emf_Equation.sce"
		   ]
		  },
  {
"cell_type": "code",
	   "execution_count": null,
	   "metadata": {
	    "collapsed": true
	   },
	   "outputs": [],
"source": [
"\n",
"funcprot(0)\n",
"//calculating distribution factor of stator winding\n",
"m=9//no. of slots per pole per phase\n",
"x=m*3//no. of slots per pole\n",
"alpha=180/x\n",
"Kd=sin((m*alpha/2)*%pi/180)/(m*sin((alpha/2)*%pi/180))\n",
"mprintf('Distribution factor of stator winding, Kd=%f\n',Kd)\n",
"//calculating pitch factor of stator winding\n",
"beta=2*20/3\n",
"Kc=cos((beta/2)*%pi/180)\n",
"mprintf('Pitch factor=%f\n', Kc)\n",
"//calculating useful flux per pole\n",
"Zph=9*2*4//no. of conductors per phase\n",
"Tph=36//turns per phase of stator winding\n",
"P=2//no. of poles\n",
"N=3000//speed in rpm\n",
"f=P*N/120\n",
"V=3.3D+3//line voltage\n",
"Eph=V/sqrt(3)\n",
"phi=Eph/(4.44*f*Kd*Kc*Tph)\n",
"mprintf('Useful flux per pole=%f Wb', phi)"
   ]
   }
,
{
		   "cell_type": "markdown",
		   "metadata": {},
		   "source": [
			"## Example 21.5: Example_on_emf_Equation.sce"
		   ]
		  },
  {
"cell_type": "code",
	   "execution_count": null,
	   "metadata": {
	    "collapsed": true
	   },
	   "outputs": [],
"source": [
"\n",
"funcprot(0)\n",
"m=5//no. of slots per pole per phase\n",
"x=m*3//no. of slots per pole\n",
"alpha=180/x//in degrees\n",
"Kd=sin((m*alpha/2)*%pi/180)/(m*sin((alpha/2)*%pi/180))//distribution factor\n",
"beta=3*12//in degrees\n",
"Kc=cos((beta/2)*%pi/180)//pitch factor of stator winding\n",
"Tph=5*2*4/2//no. of turns per phase\n",
"V=6D+3//line voltage\n",
"Eph=V/sqrt(3)\n",
"phi=.857//flux in Wb\n",
"f=round(Eph/(4.44*Kd*Kc*Tph*phi))\n",
"P=4//no. of poles\n",
"N=120*f/P\n",
"mprintf('Speed of rotation of alternator, N=%d rpm', round(N))\n",
"//answer vary from the textbook due to round off error"
   ]
   }
,
{
		   "cell_type": "markdown",
		   "metadata": {},
		   "source": [
			"## Example 21.6: Example_on_Regulation.sce"
		   ]
		  },
  {
"cell_type": "code",
	   "execution_count": null,
	   "metadata": {
	    "collapsed": true
	   },
	   "outputs": [],
"source": [
"\n",
"//calculating regulation at full load at unity pf\n",
"V=3300//line voltage\n",
"Vph=V/sqrt(3)\n",
"P=500D+3//output\n",
"Ia=P/(sqrt(3)*V)\n",
"Ra=.4//resistance per phase\n",
"Xs=3.8//reactance per phase\n",
"pf=1//power factor\n",
"Ef=[(Vph*1+Ia*Ra)^2+(Vph*0+Ia*Xs)^2]^.5//open circuit voltage per phase\n",
"VR=(Ef-Vph)/Vph*100\n",
"mprintf('Regulation at full load at unity pf=%f percent\n', VR)\n",
"//calculating regulation at full load at .8 pf lagging\n",
"Ef=[(Vph*.8+Ia*Ra)^2+(Vph*0.6+Ia*Xs)^2]^.5\n",
"VR=(Ef-Vph)/Vph*100\n",
"mprintf('Regulation full load at .8 pf lagging=%f percent\n', VR)\n",
"//answers vary from the textbook due to round off error"
   ]
   }
,
{
		   "cell_type": "markdown",
		   "metadata": {},
		   "source": [
			"## Example 21.7: Example_on_emf_Equation.sce"
		   ]
		  },
  {
"cell_type": "code",
	   "execution_count": null,
	   "metadata": {
	    "collapsed": true
	   },
	   "outputs": [],
"source": [
"\n",
"//calculating synchronous impedance\n",
"Voc=90//open circuit voltage per phase\n",
"Isc=15//short circuit current\n",
"Zs=Voc/Isc\n",
"mprintf('Synchronous impedance=%d ohm\n', Zs)\n",
"//calculating synchronous reactance\n",
"Ra=1//armature resistance per phase\n",
"Xs=sqrt(Zs^2-Ra^2)\n",
"mprintf('Synchronous reactance=%f ohm\n', Xs)\n",
"//Solving part (iii)\n",
"V=400//line voltage\n",
"Vt=round(V/sqrt(3))//phase voltage at the terminals of load\n",
"Ia=15//load current\n",
"Ef=round([(Vt*.8+Ia*Ra)^2+(Vt*.6+Ia*Xs)^2]^.5)\n",
"mprintf('Voltage rises from %d V to %d V, when the load is thrown off\n', Vt,Ef)\n",
"//solving part (iv)\n",
"//at 0.8 pf lagging\n",
"VR=(Ef-Vt)/Vt*100\n",
"mprintf('Regulation at .8 pf lagging=%f percent\n', VR)\n",
"//at unity pf\n",
"Ef=[(Vt*1+Ia*Ra)^2+(Vt*0+Ia*Xs)^2]^.5\n",
"VR=(Ef-Vt)/Vt*100\n",
"mprintf('Regulation at unity pf=%f percent', VR)\n",
"//answers vary from the textbook due to round off error"
   ]
   }
,
{
		   "cell_type": "markdown",
		   "metadata": {},
		   "source": [
			"## Example 21.8: Example_on_Regulation.sce"
		   ]
		  },
  {
"cell_type": "code",
	   "execution_count": null,
	   "metadata": {
	    "collapsed": true
	   },
	   "outputs": [],
"source": [
"\n",
"//refer Fig. 21.19 in the textbook \n",
"AT=15D+3//PE represents the armature reaction ampere turns\n",
"mprintf('Armature reaction ampere turns=%d\n', AT)\n",
"Pout=15D+6//output of the alternator\n",
"Vl=10.2D+3//line voltage\n",
"Il=Pout/(sqrt(3)*Vl)\n",
"Iph=Il \n",
"Ia=Il\n",
"//line DE represents the leakage reactance drop in terms of line values\n",
"Es=1.3D+3\n",
"Eph=Es/sqrt(3)\n",
"Xl=Eph/Ia\n",
"mprintf('Leakage reactance per phase, Xl=%f ohm\n', Xl)\n",
"//calculating regulation for full load at .8 pf lagging\n",
"Rt=.53//resistance of the stator winding between terminals\n",
"Ra=Rt/2//resistance per phase\n",
"Rd1=Ia*Ra//resistance drop in terms of phase value\n",
"Rd2=sqrt(3)*Rd1//resistance drop in terms of line value\n",
"//refer Fig.21.20(a) in the textbook\n",
"Ifg=21.67D+3\n",
"Ifs=1.67D+3\n",
"Ifsc=18D+3\n",
"//refer Fig.21.20(b) in the textbook\n",
"Ifl=40.67D+3//total field ampere turns\n",
"Ef=12.85D+3//no load voltage\n",
"Vt=10.2D+3//full load rated voltage\n",
"VR=(Ef-Vt)/Vt*100\n",
"mprintf('Regulation at full load, 0.8 pf lagging=%d percent', round(VR))"
   ]
   }
,
{
		   "cell_type": "markdown",
		   "metadata": {},
		   "source": [
			"## Example 21.9: Example_on_Regulation.sce"
		   ]
		  },
  {
"cell_type": "code",
	   "execution_count": null,
	   "metadata": {
	    "collapsed": true
	   },
	   "outputs": [],
"source": [
"\n",
"function[z]=pol2rect(r,theta)\n",
"    x=r*cos(theta*%pi/180)\n",
"    y=r*sin(theta*%pi/180)\n",
"    z=x+y*%i\n",
"endfunction\n",
"function[r]=mag(A)\n",
"    x=real(A)\n",
"    y=imag(A)\n",
"    r=sqrt(x^2+y^2)\n",
"endfunction\n",
"j=%i\n",
"Vt=1100/sqrt(3)//terminal voltage,taken as reference phasor\n",
"Vt=pol2rect(Vt,0)\n",
"Ia=1200*1000/(3*Vt)//armature current\n",
"pf=.8//lagging power factor\n",
"phi=acosd(pf)\n",
"Ia=pol2rect(Ia,-phi)\n",
"Xq=1.2*j\n",
"Xd=1.8*j\n",
"//refer Fig.21.24 in the textbook, phasor OB in the direction of Ef is given as\n",
"OB=Vt+Ia*Xq\n",
"delta=29//power angle\n",
"Id=Ia*sin((delta+phi)*%pi/180)\n",
"Ef=mag(OB)+mag(Id)*mag(Xd-Xq)\n",
"mprintf('Excitation voltage Ef=%d V', round(Ef))"
   ]
   }
],
"metadata": {
		  "kernelspec": {
		   "display_name": "Scilab",
		   "language": "scilab",
		   "name": "scilab"
		  },
		  "language_info": {
		   "file_extension": ".sce",
		   "help_links": [
			{
			 "text": "MetaKernel Magics",
			 "url": "https://github.com/calysto/metakernel/blob/master/metakernel/magics/README.md"
			}
		   ],
		   "mimetype": "text/x-octave",
		   "name": "scilab",
		   "version": "0.7.1"
		  }
		 },
		 "nbformat": 4,
		 "nbformat_minor": 0
}
