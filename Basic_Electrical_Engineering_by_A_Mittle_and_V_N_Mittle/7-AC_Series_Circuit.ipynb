{
"cells": [
 {
		   "cell_type": "markdown",
	   "metadata": {},
	   "source": [
       "# Chapter 7: AC Series Circuit"
	   ]
	},
{
		   "cell_type": "markdown",
		   "metadata": {},
		   "source": [
			"## Example 7.10: Example_on_AC_Series_Circuit.sce"
		   ]
		  },
  {
"cell_type": "code",
	   "execution_count": null,
	   "metadata": {
	    "collapsed": true
	   },
	   "outputs": [],
"source": [
"\n",
"//rating of bulb is 100 W,110 V\n",
"P=100\n",
"V=110\n",
"I=P/V//normal current of bulb\n",
"//voltage across bulb should be 110 V\n",
"Vc=sqrt(230^2-V^2)//voltage across the capacitance\n",
"Xc=Vc/I\n",
"C=1/(100*%pi*Xc)\n",
"mprintf('Capacitance of %f microF must be connected in series with the bulb',C*1D+6)"
   ]
   }
,
{
		   "cell_type": "markdown",
		   "metadata": {},
		   "source": [
			"## Example 7.11: Example_on_AC_Series_Circuit.sce"
		   ]
		  },
  {
"cell_type": "code",
	   "execution_count": null,
	   "metadata": {
	    "collapsed": true
	   },
	   "outputs": [],
"source": [
"\n",
"C=35D-6//capacitance\n",
"f=50//frequency\n",
"Xc=1/(2*%pi*f*C)\n",
"Z=2*Xc//voltage applied across the capacitance is equal to half of total voltage applied\n",
"R=sqrt(Z^2-Xc^2)\n",
"mprintf('Resistance of variable resistor, R=%f ohm',R)"
   ]
   }
,
{
		   "cell_type": "markdown",
		   "metadata": {},
		   "source": [
			"## Example 7.12: Example_on_AC_Series_Circuit.sce"
		   ]
		  },
  {
"cell_type": "code",
	   "execution_count": null,
	   "metadata": {
	    "collapsed": true
	   },
	   "outputs": [],
"source": [
"\n",
"//calculating current drawn\n",
"V=230//voltage applied\n",
"R=15+10//total resistance of the circuit\n",
"L=.04+.1//total inductance\n",
"Xl=2*%pi*50*L\n",
"C=100D-6//capacitance\n",
"Xc=1/(2*%pi*50*C)\n",
"X=Xl-Xc\n",
"Z=sqrt(R^2+X^2)\n",
"I=V/Z\n",
"mprintf('Current drawn=%f A\n',I)\n",
"//calculating voltages V1 and V2\n",
"Z1=sqrt(15^2+(2*%pi*50*.04)^2)\n",
"V1=I*Z1\n",
"phi1=atand(2*%pi*50*.04/15)\n",
"mprintf('V1=%f V and leads the current by %f degrees\n',V1,round(phi1))\n",
"Z2=sqrt(10^2+(2*%pi*50*.1-1/(2*%pi*50*100D-6))^2)\n",
"V2=I*Z2\n",
"phi2=acosd(10/Z2)\n",
"mprintf('V2=%f V and lags the current by %f degrees\n',V2,phi2)\n",
"//calculating power factor of overall circuit\n",
"pf=R/Z\n",
"mprintf('Power factor of overall circuit=%f lagging',pf)\n",
"//The answers vary from the textbook due to round off error"
   ]
   }
,
{
		   "cell_type": "markdown",
		   "metadata": {},
		   "source": [
			"## Example 7.13: Example_on_AC_Series_Circuit.sce"
		   ]
		  },
  {
"cell_type": "code",
	   "execution_count": null,
	   "metadata": {
	    "collapsed": true
	   },
	   "outputs": [],
"source": [
"\n",
"//solving part(i)\n",
"Rb=5//resistance of coil B\n",
"Xb=2*%pi*50*.02//inductive reactance of coil B\n",
"Zb=sqrt(Rb^2+Xb^2)\n",
"phi_b=atand(Xb/Rb)//phase difference of Vb with current as reference phasor\n",
"phi_a=90*%pi/180-phi_b*%pi/180//Va and Vb are in quadrature\n",
"//Xc/R=tan(phi_a)\n",
"//Vb=2*Va-->R^2+Xc^2=Zb^2/4\n",
"//on solving for R and Xc\n",
"R=sqrt((Zb^2/4)/(1+tan(phi_a)^2))\n",
"Xc=tan(phi_a)*R\n",
"C=1/(2*%pi*50*Xc)\n",
"mprintf('R=%f ohm\nC=%f microF\n',R,C*1D+6)\n",
"//solving part(ii)\n",
"Rt=5+R//total resistance of circuit\n",
"Xt=Xb-Xc//resultant reactance of circuit\n",
"Zt=sqrt(Rt^2+Xt^2)\n",
"V=220//applied voltage\n",
"I=V/Zt\n",
"mprintf('Current drawn by the circuit=%f A\n',I)\n",
"//solving part(iii)\n",
"//as the reactance is positive, circuit is inductive\n",
"pf=Rt/Zt//lagging\n",
"mprintf('Power factor of the circuit=%f(lagging)\n',pf)\n",
"//the answers vary from the textbook due to round off error"
   ]
   }
,
{
		   "cell_type": "markdown",
		   "metadata": {},
		   "source": [
			"## Example 7.14: Example_on_AC_Series_Circuit.sce"
		   ]
		  },
  {
"cell_type": "code",
	   "execution_count": null,
	   "metadata": {
	    "collapsed": true
	   },
	   "outputs": [],
"source": [
"\n",
"//calculating frequency of applied voltage\n",
"C=25.5D-6//capacitance\n",
"I=.4//current through circuit\n",
"V=50//voltage across capacitor\n",
"Xc=V/I\n",
"f=1/(2*%pi*C*Xc)\n",
"mprintf('Frequency=%d Hz\n',round(f))\n",
"//calculating parameters of choke coil\n",
"V=35//voltage across choke coil\n",
"Z=V/I//impedance of choke coil\n",
"//r^2+(100*%pi*L)^2=Z^2\n",
"R=20/.4\n",
"Vac=45//voltage across ac portion of circuit\n",
"Zac=Vac/I//impedance of ac portion\n",
"//(R+r)^2+(100*%pi*L)^2=Zac^2\n",
"//solving for r and L\n",
"r=(Zac^2-Z^2-R^2)/(2*R)\n",
"L=sqrt(Z^2-r^2)/(100*%pi)\n",
"Xl=2*%pi*50*L\n",
"mprintf('Parameters of choke coil:\nResistance=%f ohm\nInductance=%f H\nInductive reactance=%f ohm\n',r,L,Xl)\n",
"//calculating applied voltage\n",
"Z=sqrt((R+r)^2+(Xl-Xc)^2)\n",
"V=I*Z\n",
"mprintf('Voltage applied to the circuit=%f V\n',V)\n",
"//calculating losses in choke coil\n",
"W=I^2*r\n",
"mprintf('Losses in choke coil=%d W\n',round(W))"
   ]
   }
,
{
		   "cell_type": "markdown",
		   "metadata": {},
		   "source": [
			"## Example 7.15: Example_on_AC_Series_Circuit.sce"
		   ]
		  },
  {
"cell_type": "code",
	   "execution_count": null,
	   "metadata": {
	    "collapsed": true
	   },
	   "outputs": [],
"source": [
"\n",
"//calculating capacitance to give resonance\n",
"Xl=2*%pi*50*.4\n",
"Xc=Xl\n",
"C=1/(2*%pi*50*Xc)\n",
"mprintf('Capacitance=%f microF\n',C*1D+6)\n",
"//calculating current\n",
"R=5\n",
"Z=R\n",
"V=110\n",
"I=V/Z\n",
"mprintf('current drawn=%f A\n',I)\n",
"//calculating voltage across inductance\n",
"Xl=2*%pi*50*.4\n",
"Vl=I*Xl\n",
"mprintf('Voltage across inductance=%f V\n',Vl)\n",
"//calculating voltage across capacitance\n",
"Xc=Xl\n",
"Vc=I*Xc\n",
"mprintf('Voltage across capacitance=%f V\n',Vc)\n",
"//calculating Q-factor\n",
"Q_factor=Vl/V\n",
"mprintf('Q-factor of the circuit=%f',Q_factor)"
   ]
   }
,
{
		   "cell_type": "markdown",
		   "metadata": {},
		   "source": [
			"## Example 7.1: Example_on_AC_Series_Circuit.sce"
		   ]
		  },
  {
"cell_type": "code",
	   "execution_count": null,
	   "metadata": {
	    "collapsed": true
	   },
	   "outputs": [],
"source": [
"\n",
"//calculating current flowing in the circuit\n",
"L=0.1//inductance\n",
"f=50//frequency\n",
"Xl=2*%pi*f*L\n",
"R=15//total resistance in the circuit\n",
"Z=sqrt(R^2+Xl^2)\n",
"V=230//voltage applied to series circuit\n",
"I=V/Z\n",
"mprintf('Current flowing in the circuit=%f A\n',I)\n",
"//calculating power factor\n",
"pf=R/Z\n",
"mprintf('Power factor of the circuit is %f(lagging)\nVoltage across reactor=%f V\nVoltage across resistor=%f V',pf,I*Xl,I*R)\n",
""
   ]
   }
,
{
		   "cell_type": "markdown",
		   "metadata": {},
		   "source": [
			"## Example 7.2: Example_on_AC_Series_Circuit.sce"
		   ]
		  },
  {
"cell_type": "code",
	   "execution_count": null,
	   "metadata": {
	    "collapsed": true
	   },
	   "outputs": [],
"source": [
"\n",
"V1=200//voltage applied to non-inductive load\n",
"I1=20//current flowing through the load\n",
"R=V1/I1\n",
"V=230//applied voltage to series connection of R and L\n",
"I=I1\n",
"Z=V/I\n",
"Xl=sqrt(Z^2-R^2)\n",
"L=Xl/(2*%pi*50)\n",
"phi=atand(Xl/R)\n",
"mprintf('Inductance of the reactor=%f H, phase angle between applied voltage and the current is %f degrees',L,phi)"
   ]
   }
,
{
		   "cell_type": "markdown",
		   "metadata": {},
		   "source": [
			"## Example 7.3: Example_on_AC_Series_Circuit.sce"
		   ]
		  },
  {
"cell_type": "code",
	   "execution_count": null,
	   "metadata": {
	    "collapsed": true
	   },
	   "outputs": [],
"source": [
"\n",
"//calculating resistance, reactance and impedance of choke coil\n",
"I=7.5//current flowing through the circuit\n",
"V1=110//voltage across non-inductive resistor\n",
"R=V1/I\n",
"V2=180//voltage across choke coil\n",
"Z=V2/I\n",
"Zt=230/I//impedance of whole circuit\n",
"r=(Zt^2-R^2-Z^2)/(2*R)\n",
"Xl=sqrt(Z^2-r^2)\n",
"mprintf('Reactance of coil=%f ohm\nResistance of coil=%f ohm\nImpedance of coil=%f ohm\n',Xl,r,Z)\n",
"//calculating total resistance and impedance of the circuit\n",
"Rt=r+R\n",
"Zt=sqrt(Rt^2+Xl^2)\n",
"mprintf('Total resistance of circuit=%f ohm\nTotal impedance of circuit=%f ohm\n',Rt,Zt)\n",
"//calculating power absorbed by the coil\n",
"P1=I^2*r\n",
"mprintf('Power absorbed by the coil=%f W\n',P1)\n",
"//calculating power drawn by circuit\n",
"P2=I^2*(r+R)\n",
"mprintf('Power drawn by the circuit=%f W\n',P2)\n",
"//calculating power factor of whole circuit\n",
"pf=Rt/Zt\n",
"mprintf('Power factor of the whole circuit=%f lagging',pf)\n",
"//answers vary from the textbook due to round off error"
   ]
   }
,
{
		   "cell_type": "markdown",
		   "metadata": {},
		   "source": [
			"## Example 7.4: Example_on_AC_Series_Circuit.sce"
		   ]
		  },
  {
"cell_type": "code",
	   "execution_count": null,
	   "metadata": {
	    "collapsed": true
	   },
	   "outputs": [],
"source": [
"\n",
"//calculating current drawn at 50 Hz\n",
"V=220//voltage applied to choke coil\n",
"f=50//frequency of supply\n",
"I1=12//current taken by choke coil\n",
"R1=0//resistance of coil is negligible\n",
"Xl=V/I1\n",
"I2=16.5//current taken by the resistor\n",
"R=V/I2\n",
"Z=sqrt(R^2+Xl^2)\n",
"I=V/Z\n",
"mprintf('Current taken by the circuit at 50 Hz=%f A\n',I)\n",
"//calculating current drawn at 30 Hz\n",
"Xl_dash=30/50*Xl\n",
"Z_dash=sqrt(Xl_dash^2+R^2)\n",
"I=V/Z_dash\n",
"mprintf('Current drawn by the circuit at 30 Hz=%f A\n',I)"
   ]
   }
,
{
		   "cell_type": "markdown",
		   "metadata": {},
		   "source": [
			"## Example 7.5: Example_on_AC_Series_Circuit.sce"
		   ]
		  },
  {
"cell_type": "code",
	   "execution_count": null,
	   "metadata": {
	    "collapsed": true
	   },
	   "outputs": [],
"source": [
"\n",
"//let resistance and inductance of the coil be R and L respectively\n",
"V=220//voltage applied to coil\n",
"f=50//frequency of supply\n",
"I=60//current indicated by ammeter\n",
"Z1=V/I\n",
"//when the frequency is increased to 100 Hz\n",
"I=40//current indicated by ammeter\n",
"Z2=V/I\n",
"//on solving for L\n",
"L=sqrt((Z2^2-Z1^2)/3)/(100*%pi)\n",
"R=sqrt(Z1^2-(100*%pi*L)^2)\n",
"mprintf('Resistance of coil=%f ohm\nInductance of coil=%f H',R,L)"
   ]
   }
,
{
		   "cell_type": "markdown",
		   "metadata": {},
		   "source": [
			"## Example 7.6: Example_on_AC_Series_Circuit.sce"
		   ]
		  },
  {
"cell_type": "code",
	   "execution_count": null,
	   "metadata": {
	    "collapsed": true
	   },
	   "outputs": [],
"source": [
"\n",
"//calculating parameters of each coil\n",
"I=3//current through the circuit\n",
"//for coil A\n",
"Ra=12/3//resistance\n",
"Va=15//voltage drop\n",
"Za=Va/I\n",
"Xa=sqrt(Za^2-Ra^2)\n",
"//for coil B\n",
"Rb=6/3//resistance\n",
"Vb=9//voltage drop\n",
"Zb=Vb/I\n",
"Xb=sqrt(Zb^2-Rb^2)\n",
"//for coil C\n",
"Rc=9/3//resistance\n",
"Vc=12//voltage drop\n",
"Zc=Vc/I\n",
"Xc=sqrt(Zc^2-Rc^2)\n",
"mprintf('Parameters of\nCoilA: Ra=%f ohm, Xa=%f ohm\nCoil B: Rb=%f ohm, Xb=%f ohm\nCoil C: Rc=%f ohm, Xc=%f ohm\n',Ra,Xa,Rb,Xb,Rc,Xc)\n",
"//calculating power factor of each coil\n",
"pf_a=Ra/Za\n",
"pf_b=Rb/Zb\n",
"pf_c=Rc/Zc\n",
"mprintf('power factor of the coils are\npf_a=%f(lagging)\npf_b=%f(lagging)\npf_c=%f(lagging)\n',pf_a,pf_b,pf_c)\n",
"//calculating power dissipated for each coil\n",
"Pa=I^2*Ra\n",
"Pb=I^2*Rb\n",
"Pc=I^2*Rc\n",
"mprintf('Power dissipated in these coils:\nPa=%f W\nPb=%f W\nPc=%f W\n',Pa,Pb,Pc)\n",
"//calculating power factor of whole circuit\n",
"Rt=Ra+Rb+Rc\n",
"Xt=Xa+Xb+Xc\n",
"Zt=sqrt(Rt^2+Xt^2)\n",
"pf=Rt/Zt\n",
"mprintf('Power factor of the whole circuit=%f lagging\n',pf)\n",
"//calculating voltage applied across the whole circuit\n",
"V=I*Zt\n",
"mprintf('Voltage applied across the whole circuit=%f V',V)"
   ]
   }
,
{
		   "cell_type": "markdown",
		   "metadata": {},
		   "source": [
			"## Example 7.7: Example_on_AC_Series_Circuit.sce"
		   ]
		  },
  {
"cell_type": "code",
	   "execution_count": null,
	   "metadata": {
	    "collapsed": true
	   },
	   "outputs": [],
"source": [
"\n",
"//r1 be the variable resistance\n",
"X=10//total inductive reactance of circuit\n",
"V=200//rms value of applied voltage\n",
"//RMS value of current I=200/sqrt((2+r1)^2+10^2)\n",
"//power consumed is P=I^2*r1\n",
"//For max power, dP/dr=0\n",
"//on solving\n",
"r1=sqrt(104)\n",
"mprintf('Value of variable resistor at the instant of max power consumed in it is %f ohm\n',r1)\n",
"//solving part(ii), let r2 be the variable resistance-I=200/sqrt((200+r2)^2+10^2),P=I^2*(2+r2)\n",
"//for max power, dP/dr=0\n",
"//on solving\n",
"r2=10-2\n",
"mprintf('Value of variable resistor=%d ohm for the condition of max power consumed by the circuit\n',round(r2))\n",
"I1=200/sqrt((2+r1)^2+10^2)\n",
"I2=200/sqrt((2+r2)^2+10^2)\n",
"pf1=(2+r1)/sqrt((2+r1)^2+10^2)\n",
"pf2=(2+r2)/sqrt((2+r2)^2+10^2)\n",
"mprintf('Current in case(i)=%f A at %f pf lagging\nCurrent in case(ii)=%f A at %f pf lagging\n',I1,pf1,I2,pf2)"
   ]
   }
,
{
		   "cell_type": "markdown",
		   "metadata": {},
		   "source": [
			"## Example 7.8: Example_on_AC_Series_Circuit.sce"
		   ]
		  },
  {
"cell_type": "code",
	   "execution_count": null,
	   "metadata": {
	    "collapsed": true
	   },
	   "outputs": [],
"source": [
"\n",
"//both the coils draw lagging currents, hence both are inductive\n",
"//for coil A\n",
"Va=10//voltage applied\n",
"Ia=2//current drawn\n",
"Za=Va/Ia\n",
"pf=.8//power factor\n",
"Ra=pf*Za\n",
"Xa=sqrt(Za^2-Ra^2)\n",
"//for coil B\n",
"Vb=5//voltage applied\n",
"Ib=2//current drawn\n",
"Zb=Vb/Ib\n",
"pf=.7//power factor\n",
"Rb=pf*Zb\n",
"Xb=sqrt(Zb^2-Rb^2)\n",
"\n",
"Rt=Ra+Rb//total resistance of circuit\n",
"Xt=Xa+Xb//total reactance of circuit\n",
"Z=sqrt(Rt^2+Xt^2)\n",
"V=Ia*Z\n",
"pf=Rt/Z\n",
"mprintf('Voltage to be applied to the circuit of coils A and B in series=%f V and pf=%f lagging',V,pf)"
   ]
   }
,
{
		   "cell_type": "markdown",
		   "metadata": {},
		   "source": [
			"## Example 7.9: Example_on_AC_Series_Circuit.sce"
		   ]
		  },
  {
"cell_type": "code",
	   "execution_count": null,
	   "metadata": {
	    "collapsed": true
	   },
	   "outputs": [],
"source": [
"\n",
"//calculating capacitance\n",
"Xc=4//capacitive reactance\n",
"f=50\n",
"omega=2*%pi*f\n",
"C=1/(omega*Xc)\n",
"mprintf('Capacitance C=%f microF\n',C*1D+6)\n",
"//calculating impedance\n",
"R=5//resistance of circuit\n",
"Z=sqrt(R^2+Xc^2)\n",
"mprintf('Impedance of circuit=%f ohm\n',Z)\n",
"//calculating current taken by circuit\n",
"V=200\n",
"I=V/Z\n",
"mprintf('Current drawn by circuit=%f A\n',I)\n",
"//calculating voltage drop across the resistance\n",
"Vr=I*R\n",
"mprintf('Voltage drop across the resistance=%f V\n',Vr)\n",
"//calculating voltage drop across the reactance\n",
"Vc=I*Xc\n",
"mprintf('Voltage drop across the reactance=%f V\n',Vc)\n",
"//calculating power factor\n",
"pf=R/Z\n",
"mprintf('Power factor of the circuit=%f leading',pf)"
   ]
   }
],
"metadata": {
		  "kernelspec": {
		   "display_name": "Scilab",
		   "language": "scilab",
		   "name": "scilab"
		  },
		  "language_info": {
		   "file_extension": ".sce",
		   "help_links": [
			{
			 "text": "MetaKernel Magics",
			 "url": "https://github.com/calysto/metakernel/blob/master/metakernel/magics/README.md"
			}
		   ],
		   "mimetype": "text/x-octave",
		   "name": "scilab",
		   "version": "0.7.1"
		  }
		 },
		 "nbformat": 4,
		 "nbformat_minor": 0
}
