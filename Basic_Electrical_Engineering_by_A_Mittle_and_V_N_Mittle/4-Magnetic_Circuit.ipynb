{
"cells": [
 {
		   "cell_type": "markdown",
	   "metadata": {},
	   "source": [
       "# Chapter 4: Magnetic Circuit"
	   ]
	},
{
		   "cell_type": "markdown",
		   "metadata": {},
		   "source": [
			"## Example 4.10: Example_on_Series_Magnetic_Circuit.sce"
		   ]
		  },
  {
"cell_type": "code",
	   "execution_count": null,
	   "metadata": {
	    "collapsed": true
	   },
	   "outputs": [],
"source": [
"\n",
"mu_not=4D-7*%pi\n",
"flux=.018\n",
"//consider part A\n",
"a=205D-4  //cross sectional area\n",
"Ba=flux/a\n",
"H=760  //corresponding to Ba as obtained from Fig. 4.2 in the textbook\n",
"l=(38-.25)*1D-2  //length of mean flux path in iron portion of part A\n",
"ATi=H*l\n",
"ATg=.796*Ba*2.5D-3*10^6\n",
"ATa=ATi+ATg\n",
"//consider part B\n",
"a=255D-4\n",
"Bb=flux/a\n",
"H=670  //corresponding to Bb as obtained from Fig. 4.2 in the textbook\n",
"l=.25  //length of mean flux path in iron portion of part B\n",
"ATb=H*l\n",
"AT=round(ATa)+round(ATb)\n",
"mprintf('Total ampere turns required for complete magnetic circuit=%d', AT)"
   ]
   }
,
{
		   "cell_type": "markdown",
		   "metadata": {},
		   "source": [
			"## Example 4.11: Example_on_Series_Magnetic_Circuit.sce"
		   ]
		  },
  {
"cell_type": "code",
	   "execution_count": null,
	   "metadata": {
	    "collapsed": true
	   },
	   "outputs": [],
"source": [
"\n",
"mu_not=4D-7*%pi\n",
"b=[.5 1 1.2 1.4]\n",
"mu_r=[2500 2000 1500 1000]\n",
"plot2d(b,mu_r,rect=[0,0,1.5,3000])\n",
"xtitle('B-mu_r curve for example 4.11', 'B(Wb/m^2)', 'mu_r')\n",
"\n",
"phi=.38D-3  //flux in ring\n",
"A=3D-4  //cross-sectional area\n",
"B=phi/A\n",
"mu_r=1300  //correspondng to B from B-mu_r curve plotted\n",
"H=B/(mu_not*mu_r)  //ampere turns per metre of flux path length\n",
"l=%pi*58D-2  //length of mean flux path\n",
"AT_iron=H*l\n",
"mprintf('Total ampere turns required by iron ring=%d\n', round(AT_iron))\n",
"//after saw cut of 1 mm width has been made\n",
"l=l-.1D-2  //length of mean flux path in iron portion of ring\n",
"ATi=H*l\n",
"ATg=.796*B*1D-3*1D+6\n",
"AT=round(ATi)+round(ATg)\n",
"mprintf('Extra ampere turns required =%d', round(AT)-round(AT_iron))"
   ]
   }
,
{
		   "cell_type": "markdown",
		   "metadata": {},
		   "source": [
			"## Example 4.12: Example_on_Series_Parallel_Magnetic_Circuit.sce"
		   ]
		  },
  {
"cell_type": "code",
	   "execution_count": null,
	   "metadata": {
	    "collapsed": true
	   },
	   "outputs": [],
"source": [
"\n",
"//two parallel magnetic circuits have equal reluctances\n",
"phi_cc=1.2D-3  //flux in central core\n",
"phi_ol=phi_cc/2  //flux in each outer limb\n",
"//calculating AT for central core\n",
"a=9D-4  //cross-sectional area\n",
"B_cc=phi_cc/a\n",
"H=1600 //corresponding to B_cc from Fig 4.2 in the textbook\n",
"l=.15  //length of mean flux path\n",
"AT_cc=H*l\n",
"//calculating AT for outer limbs\n",
"a=5D-4  //cross-sectional area\n",
"B_ol=phi_ol/a\n",
"H=1200  //corresponding to B_ol from Fig 4.2 in the textbook\n",
"l=.35  //length of mean flux path\n",
"AT_ol=H*l\n",
"AT=AT_cc+AT_ol\n",
"N=400\n",
"mprintf('Current required in the coil=%f A', AT/N)"
   ]
   }
,
{
		   "cell_type": "markdown",
		   "metadata": {},
		   "source": [
			"## Example 4.13: Example_on_Series_Parallel_Magnetic_Circuit.sce"
		   ]
		  },
  {
"cell_type": "code",
	   "execution_count": null,
	   "metadata": {
	    "collapsed": true
	   },
	   "outputs": [],
"source": [
"\n",
"mu_not=4D-7*%pi\n",
"phi_cc=1.2D-3  //flux in central core\n",
"phi_ol=phi_cc/2  //flux in each outer limb\n",
"//consider central core\n",
"a=9D-4  //cross-sectional area\n",
"B_cc=phi_cc/a  //flux density\n",
"H=1600  //corresponding to B_cc from Fig 4.2 in the textbook\n",
"l=(15-.2)*1D-2  //length of mean flux path of cast steel\n",
"AT_cc=H*l\n",
"ATg=.796*B_cc*2D-3*10^6\n",
"//consider outer limb\n",
"a=5D-2//cross-sectional area\n",
"B_ol=phi_ol/a\n",
"H=1200  //corresponding to B_ol from Fig 4.2 in the textbook\n",
"l=.35  //length of mean flux path\n",
"AT_ol=H*l\n",
"AT=AT_cc+ATg+AT_ol\n",
"N=400\n",
"mprintf('Exciting current in the coil=%f A',AT/N)"
   ]
   }
,
{
		   "cell_type": "markdown",
		   "metadata": {},
		   "source": [
			"## Example 4.1: Example_on_Series_Magnetic_Circuit.sce"
		   ]
		  },
  {
"cell_type": "code",
	   "execution_count": null,
	   "metadata": {
	    "collapsed": true
	   },
	   "outputs": [],
"source": [
"\n",
"\n",
"mu_not=4D-7*%pi\n",
"a=(3D-2)^2//cross-sectional area\n",
"La=(20-1.5-1.5)*1D-2//length of flux path in part A\n",
"mu_r=1000//relative permeability for part A\n",
"Sa=La/(mu_not*mu_r*a)\n",
"mprintf('Reluctance of part A=%f*10^4AT/Wb\n',Sa/10^4)\n",
"Lb=(17+8.5+8.5)*1D-2//length of flux path in part B\n",
"mu_r=1200//relative permeability for part B\n",
"Sb=Lb/(mu_not*mu_r*a)\n",
"mprintf('Reluctance of part B=%f*10^4AT/Wb\n',Sb/10^4)\n",
"Lg=(2+2)*1D-3//length of flux path in air gap\n",
"Sg=Lg/(mu_not*a)\n",
"mprintf('Reluctance of 2 air gaps=%f*10^4 AT/Wb\n',Sg/10^4)\n",
"S=Sa+Sb+Sg\n",
"mprintf('Total reluctance of magnetic circuit=%f*10^4 AT/Wb\n', S/10^4)\n",
"N=1000//no. of turns on each coil\n",
"I=1//current in coil\n",
"mmf=2*N*I\n",
"mprintf('mmf=%d AT\n', mmf)\n",
"flux=mmf/S\n",
"mprintf('Flux in magnetic circuit=%f*10^-4 Wb\n',flux*10^4)\n",
"flux_density=flux/a\n",
"mprintf('Flux density=%f Tesla', flux_density)"
   ]
   }
,
{
		   "cell_type": "markdown",
		   "metadata": {},
		   "source": [
			"## Example 4.2: Example_on_Series_Magnetic_Circuit.sce"
		   ]
		  },
  {
"cell_type": "code",
	   "execution_count": null,
	   "metadata": {
	    "collapsed": true
	   },
	   "outputs": [],
"source": [
"\n",
"\n",
"Bg=.7//flux density in air gap\n",
"Lg=3D-3//length of air gap\n",
"ATg=.796*Bg*Lg*1D+6\n",
"Bs=Bg//flux density in iron path\n",
"H=660//ampere turns corresponding to Bs from B-H curve(Fig.4.2) of textbook\n",
"Li=40D-2//length of flux path in iron portion\n",
"ATs=H*Li\n",
"AT=round(ATg)+round(ATs)\n",
"mprintf('Total ampere turns to be provided on the electromagnet=%d AT', AT)\n",
"//answer vary from the textbook due to round off error"
   ]
   }
,
{
		   "cell_type": "markdown",
		   "metadata": {},
		   "source": [
			"## Example 4.3: Example_on_Series_Magnetic_Circuit.sce"
		   ]
		  },
  {
"cell_type": "code",
	   "execution_count": null,
	   "metadata": {
	    "collapsed": true
	   },
	   "outputs": [],
"source": [
"\n",
"mu_not=4D-7*%pi\n",
"N=700  //no. of turns on steel ring\n",
"I=2  //current carried by the winding on the ring\n",
"AT=N*I\n",
"mprintf('mmf produced=%d AT\n',AT)\n",
"ATi=.35*AT  //iron portion takes 35% of total mmf\n",
"ATg=AT-ATi\n",
"l=1.5D-3  //length of flux path in air gap\n",
"B=mu_not*ATg/l\n",
"mprintf('Flux density=%f Wb/m^2\n', B)\n",
"d=3D-2  //diameter of circular section of ring\n",
"A=%pi*d^2/4  //cross-sectional area of ring\n",
"flux=B*A\n",
"mprintf('Magnetic flux=%f milliWb\n', flux*10^3)\n",
"S=AT/flux  //Ohm's law for magnetic circuits\n",
"mprintf('Reluctance=%f*10^6 AT/Wb\n', S/10^6)\n",
"l=%pi*25D-2  //length of mean flux path in steel ring\n",
"H=ATi/l\n",
"mu_r=B/(H*mu_not)\n",
"mprintf('Rel. permeability of steel ring=%d', round(mu_r))"
   ]
   }
,
{
		   "cell_type": "markdown",
		   "metadata": {},
		   "source": [
			"## Example 4.4: Example_on_Series_Magnetic_Circuit.sce"
		   ]
		  },
  {
"cell_type": "code",
	   "execution_count": null,
	   "metadata": {
	    "collapsed": true
	   },
	   "outputs": [],
"source": [
"\n",
"phi=.26D-3//flux\n",
"d=2D-2//diameter of circular cross-section of ring\n",
"A=%pi*d^2/4\n",
"B=phi/A\n",
"H=740//ampere turns per length of flux path corresponding to B as obtained from B-H curve of cast steel\n",
"L=90D-2//length of mean flux path in the cast steel ring\n",
"AT=H*L\n",
"N=800//no. of turns of the coil wound on the ring\n",
"I=AT/N\n",
"mprintf('Current in the coil=%f A\n',I)\n",
"Lg=2D-3//length of air gap\n",
"Li=L-Lg//length of mean flux path in ring\n",
"mu=B/H\n",
"Bg=AT/(Li/mu+.796*Lg*1D+6)\n",
"flux=Bg*A\n",
"mprintf('Magnetic flux produced=%f*10^-4 Wb\n',flux*1D+4)\n",
"//calculating value of current which will produce the same flux as in (i)\n",
"ATi=H*Li\n",
"ATg=.796*B*Lg*1D+6\n",
"AT=ATi+ATg\n",
"I=AT/N\n",
"mprintf('Current in the coil which will give the same flux as in (i)=%f A',I)"
   ]
   }
,
{
		   "cell_type": "markdown",
		   "metadata": {},
		   "source": [
			"## Example 4.5: Example_on_Series_Magnetic_Circuit.sce"
		   ]
		  },
  {
"cell_type": "code",
	   "execution_count": null,
	   "metadata": {
	    "collapsed": true
	   },
	   "outputs": [],
"source": [
"\n",
"mu_not=4D-7*%pi\n",
"N=400   //number of turns on the coil wound on iron ring\n",
"I=1.2  //current through the coil\n",
"AT=N*I\n",
"l=1  //mean flux path in ring in mtrs\n",
"H=AT/l\n",
"B=1.15  //flux Density\n",
"mu_r=B/(H*mu_not) \n",
"mprintf('Rel permeability of iron ring mu_r=%d', round(mu_r)) \n",
"//error in textbook answer"
   ]
   }
,
{
		   "cell_type": "markdown",
		   "metadata": {},
		   "source": [
			"## Example 4.6: Example_on_Series_Magnetic_Circuit.sce"
		   ]
		  },
  {
"cell_type": "code",
	   "execution_count": null,
	   "metadata": {
	    "collapsed": true
	   },
	   "outputs": [],
"source": [
"\n",
"mu_not=4D-7*%pi\n",
"Li=50d-2//length of flux path in iron\n",
"mu_r=1300//relative permeability\n",
"a=12D-4//cross sectional area\n",
"Si=Li/(mu_not*mu_r*a)\n",
"mprintf('Reluctance of iron part of magnetic circuit=%f*10^3 AT/Wb\n',Si/10^3)\n",
"Lg=.4D-2//length of flux path in air gap\n",
"Sg=Lg/(mu_not*a)\n",
"mprintf('Reluctance of air gap of magnetic circuit=%f*10^3 AT/Wb\n',Sg/10^3)\n",
"S=Si+Sg\n",
"mprintf('Total reluctance of magnetic circuit=%f*10^3 AT/Wb\n',S/10^3)\n",
"N=400+400  //total no. of turns\n",
"I=1  //current through each coil\n",
"mmf=N*I\n",
"flux=mmf/S\n",
"mprintf('Total flux=%f milliWb\n', flux*10^3)\n",
"B=flux/a\n",
"mprintf('Flux density in air gap=%f Wb/m^2', B) \n",
"//answers vary from the textbook due to round off error"
   ]
   }
,
{
		   "cell_type": "markdown",
		   "metadata": {},
		   "source": [
			"## Example 4.7: Example_on_Series_Magnetic_Circuit.sce"
		   ]
		  },
  {
"cell_type": "code",
	   "execution_count": null,
	   "metadata": {
	    "collapsed": true
	   },
	   "outputs": [],
"source": [
"\n",
"mu_not=4D-7*%pi\n",
"N=300//no. of turns in coil\n",
"I=.7//current through coil\n",
"AT=N*I\n",
"L=60D-2//length of ring\n",
"Lg=2D-3//length of air gap\n",
"Li=L-Lg//length of flux path in ring\n",
"mu_r=300//rel permeability of iron\n",
"B=AT/(Li/(mu_not*mu_r)+.796*Lg*1D+6)\n",
"mprintf('Flux density=%f Wb/m^2', B)"
   ]
   }
,
{
		   "cell_type": "markdown",
		   "metadata": {},
		   "source": [
			"## Example 4.8: Example_on_Series_Magnetic_Circuit.sce"
		   ]
		  },
  {
"cell_type": "code",
	   "execution_count": null,
	   "metadata": {
	    "collapsed": true
	   },
	   "outputs": [],
"source": [
"\n",
"mu_not=4D-7*%pi\n",
"phi=.0006//flux\n",
"A=5.5D-4//cross-sectional area of ring\n",
"B=phi/A\n",
"h=[0 200 400 500 600 800 1000]\n",
"b=[0 .4 .8 1 1.09 1.17 1.19]\n",
"plot2d(h,b)\n",
"xtitle('B-H curve for example 4.8', 'H(ampere turns per metre)', 'B(Wb/m^2)')\n",
"H=600//corresponding to B from B-H curve\n",
"L=270D-2//length of ring\n",
"Lg=4.5D-3//length of air gap\n",
"Li=L-Lg//length of flux path in iron portion of ring\n",
"ATi=H*Li\n",
"ATg=.796*B*Lg*1D+6\n",
"AT=round(ATi)+round(ATg)\n",
"mprintf('Total ampere turns=%d', AT)\n",
"//error in textbook answer"
   ]
   }
,
{
		   "cell_type": "markdown",
		   "metadata": {},
		   "source": [
			"## Example 4.9: Example_on_Series_Magnetic_Circuit.sce"
		   ]
		  },
  {
"cell_type": "code",
	   "execution_count": null,
	   "metadata": {
	    "collapsed": true
	   },
	   "outputs": [],
"source": [
"\n",
"mu_not=4D-7*%pi\n",
"flux=1.1D-3\n",
"A=4*4*1D-4//cross-sectional area\n",
"B=flux/A\n",
"mu_r=2000//rel permeability\n",
"H=B/(mu_not*mu_r)\n",
"//calculating ampere turns required for potion C\n",
"l=.25//length of mean flux path\n",
"ATc=H*l\n",
"//calculating ampere turns required for potion D\n",
"l=.3//length of mean flux path\n",
"ATd=H*l\n",
"//calculating ampere turns required for air gap\n",
"ATg=.796*B*.002*10^6 \n",
"AT=round(ATc)+round(ATd)+round(2*ATg)\n",
"mprintf('Total ampere turns required=%d', AT)\n",
"//answer vary from the textbook due to round off error"
   ]
   }
],
"metadata": {
		  "kernelspec": {
		   "display_name": "Scilab",
		   "language": "scilab",
		   "name": "scilab"
		  },
		  "language_info": {
		   "file_extension": ".sce",
		   "help_links": [
			{
			 "text": "MetaKernel Magics",
			 "url": "https://github.com/calysto/metakernel/blob/master/metakernel/magics/README.md"
			}
		   ],
		   "mimetype": "text/x-octave",
		   "name": "scilab",
		   "version": "0.7.1"
		  }
		 },
		 "nbformat": 4,
		 "nbformat_minor": 0
}
