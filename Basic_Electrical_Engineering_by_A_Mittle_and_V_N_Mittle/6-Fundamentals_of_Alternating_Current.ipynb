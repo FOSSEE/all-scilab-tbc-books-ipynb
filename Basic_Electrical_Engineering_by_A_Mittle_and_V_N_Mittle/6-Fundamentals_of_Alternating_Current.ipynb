{
"cells": [
 {
		   "cell_type": "markdown",
	   "metadata": {},
	   "source": [
       "# Chapter 6: Fundamentals of Alternating Current"
	   ]
	},
{
		   "cell_type": "markdown",
		   "metadata": {},
		   "source": [
			"## Example 6.10: Example_on_AC_Wave_Shapes.sce"
		   ]
		  },
  {
"cell_type": "code",
	   "execution_count": null,
	   "metadata": {
	    "collapsed": true
	   },
	   "outputs": [],
"source": [
"\n",
"//the graph is drawn considering R=%pi\n",
"R=%pi\n",
"theta=linspace(-%pi,%pi,100)\n",
"V=sqrt(R^2-theta^2)\n",
"plot2d(theta,V)\n",
"xtitle('Wave shape for example 6.10','theta','Voltage')\n",
"theta=linspace(%pi,3*%pi,100)\n",
"V=-sqrt(R^2-(theta-2*%pi)^2)\n",
"plot2d(theta,V)\n",
"\n",
"Vrms=sqrt(integrate('(R^2-x^2)/(2*R)','x',-R,R))\n",
"mprintf('RMS value of such a wave shape will be %f of its maximum voltage',Vrms/R)"
   ]
   }
,
{
		   "cell_type": "markdown",
		   "metadata": {},
		   "source": [
			"## Example 6.11: Example_on_Phase_Difference.sce"
		   ]
		  },
  {
"cell_type": "code",
	   "execution_count": null,
	   "metadata": {
	    "collapsed": true
	   },
	   "outputs": [],
"source": [
"\n",
"//consider part (i)\n",
"phi=%pi/12\n",
"mprintf('For part (i)\nVoltage leads the current wave by %d degrees\n',round(phi*180/%pi))\n",
"f=377.16/(2*%pi)\n",
"mprintf('Frequency of the wave shape=%d Hz\n',f)\n",
"//consider part (ii)\n",
"phi=%pi/3\n",
"mprintf('For part (ii)\nVoltage leads the current by %d degrees\n',round(phi*180/%pi))\n",
"mprintf('Frequency of the wave shape=omega/(2*pi)\n')\n",
"//consider part (iii)\n",
"phi=0-(-%pi/2)\n",
"mprintf('For part (iii)\nVoltage leads the current wave by %d degrees\n',round(phi*180/%pi))\n",
"mprintf('Frequency of the wave shape=omega/pi\n')\n",
"//consider part (iv)\n",
"mprintf('For part (iv)\nCurrent wave lags the voltage by an angle=alpha+atan(x/R) and the frequency of this wave shape is omega/(2*pi)')"
   ]
   }
,
{
		   "cell_type": "markdown",
		   "metadata": {},
		   "source": [
			"## Example 6.13: Example_on_Simple_AC_Circuits.sce"
		   ]
		  },
  {
"cell_type": "code",
	   "execution_count": null,
	   "metadata": {
	    "collapsed": true
	   },
	   "outputs": [],
"source": [
"\n",
"V=230//applied voltage\n",
"L=60D-3//inductance of coil\n",
"f=50 //frequency of supply\n",
"Xl=2*%pi*f*L\n",
"I=230/Xl\n",
"//if frequency is reduced to 20 Hz\n",
"Xl=2*%pi*20*L\n",
"I1=V/Xl\n",
"mprintf('Current through the coil if frequency is reduced to 20 Hz=%f A\n',I1)\n",
"//if frequency is increased to 60 Hz\n",
"Xl=2*%pi*60*L\n",
"I2=V/Xl\n",
"mprintf('Current through the coil if frequency is increased to 60 Hz=%f A\n',I2)\n",
"//if frequency is increased to 100 Hz\n",
"Xl=2*%pi*100*L\n",
"I3=V/Xl\n",
"mprintf('Current through the coil if frequency is increased to 100 Hz=%f A\n',I3)\n",
"\n",
"\n",
"\n",
"\n",
""
   ]
   }
,
{
		   "cell_type": "markdown",
		   "metadata": {},
		   "source": [
			"## Example 6.14: Example_on_Simple_AC_Circuits.sce"
		   ]
		  },
  {
"cell_type": "code",
	   "execution_count": null,
	   "metadata": {
	    "collapsed": true
	   },
	   "outputs": [],
"source": [
"\n",
"//calculating reactance of capacitor\n",
"C=100D-6\n",
"Xc=1/(2*%pi*50*C)\n",
"mprintf('Capacitive reactance,Xc=%f ohm\n',Xc)\n",
"//calculating RMS value of current\n",
"V=200\n",
"Irms=V/Xc\n",
"mprintf('RMS value of current=%f A\n',Irms)\n",
"//calculating max current\n",
"Imax=Irms*sqrt(2)\n",
"mprintf('Maximum current=%f A',Imax)"
   ]
   }
,
{
		   "cell_type": "markdown",
		   "metadata": {},
		   "source": [
			"## Example 6.1: Example_on_AC_Wave_Shapes.sce"
		   ]
		  },
  {
"cell_type": "code",
	   "execution_count": null,
	   "metadata": {
	    "collapsed": true
	   },
	   "outputs": [],
"source": [
"\n",
"//plotting graph for i1\n",
"theta=linspace(0,2*%pi,100)\n",
"i1=50*sin(theta)+50*sin(theta-%pi/4)\n",
"plot(theta,i1)\n",
"//plotting graph for i2\n",
"theta=linspace(0,2*%pi,100)\n",
"i2=50*cos(theta)+50*cos(theta+%pi/4)\n",
"plot(theta,i2,'o')\n",
"//plotting graph for i3\n",
"i3=50*cos(theta)-20*sin(theta)\n",
"plot(theta,i3,'-*')\n",
"xtitle('Graphs of i1(-),i2(oo) and i3(-*)','theta','current')\n",
"//round off error while plotting graphs"
   ]
   }
,
{
		   "cell_type": "markdown",
		   "metadata": {},
		   "source": [
			"## Example 6.2: Example_on_AC_Wave_Shapes.sce"
		   ]
		  },
  {
"cell_type": "code",
	   "execution_count": null,
	   "metadata": {
	    "collapsed": true
	   },
	   "outputs": [],
"source": [
"\n",
"\n",
"//i=Imax*sin(2*%pi*f*t)\n",
"Imax=100//max value of current\n",
"f=25//frequency in Hz\n",
"//calculating time after which current becomes 20 A\n",
"i=20\n",
"t=asin(i/Imax)/(2*%pi*f)\n",
"mprintf('Time after which current becomes 20 A=%f sec\n',t)\n",
"//calculating time after which current becomes 50 A\n",
"i=50\n",
"t=asin(i/Imax)/(2*%pi*f)\n",
"mprintf('Time after which current becomes 50 A=%f sec\n',t)\n",
"//calculating time after which current becomes 100 A\n",
"i=100\n",
"t=asin(i/Imax)/(2*%pi*f)\n",
"mprintf('Time after which current becomes 100 A=%f sec\n',t)"
   ]
   }
,
{
		   "cell_type": "markdown",
		   "metadata": {},
		   "source": [
			"## Example 6.3: Example_on_AC_Wave_Shapes.sce"
		   ]
		  },
  {
"cell_type": "code",
	   "execution_count": null,
	   "metadata": {
	    "collapsed": true
	   },
	   "outputs": [],
"source": [
"\n",
"//calculating instantaneous voltage at .005 sec after the wave passes through zero in positive direction\n",
"f=50//frequency\n",
"Emax=350//max value of voltage\n",
"t=.005\n",
"e1=Emax*sin(2*%pi*f*t)\n",
"mprintf('Voltage at .005 sec after the wave passes through zero in positive direction=%d V\n',e1)\n",
"//calculating instantaneous voltage at .008 sec after the wave passes through zero in negative direction\n",
"t=.008\n",
"e2=-Emax*sin(2*%pi*f*t)\n",
"mprintf('Voltage at .008 sec after the wave passes through zero in negative direction=%f V',e2)\n",
""
   ]
   }
,
{
		   "cell_type": "markdown",
		   "metadata": {},
		   "source": [
			"## Example 6.4: Example_on_AC_Wave_Shapes.sce"
		   ]
		  },
  {
"cell_type": "code",
	   "execution_count": null,
	   "metadata": {
	    "collapsed": true
	   },
	   "outputs": [],
"source": [
"\n",
"//e=100*sin(100*%pi*t)\n",
"//calculating rate of change of voltage at t=.0025 sec\n",
"t=.0025\n",
"r1=10000*%pi*cos(100*%pi*t)\n",
"mprintf('Rate of change of voltage at .0025 sec=%f V/sec\n',r1)\n",
"//calculating rate of change of voltage at t=.005 sec\n",
"t=.005\n",
"r2=10000*%pi*cos(100*%pi*t)\n",
"mprintf('Rate of change of voltage at .005 sec=%d V/sec\n',r2)\n",
"//calculating rate of change of voltage at t=.01 sec\n",
"t=.01\n",
"r3=10000*%pi*cos(100*%pi*t)\n",
"mprintf('Rate of change of voltage at .01 sec=%f V/sec\n',r3)\n",
"//error in textbook answer in first and last case"
   ]
   }
,
{
		   "cell_type": "markdown",
		   "metadata": {},
		   "source": [
			"## Example 6.5: Example_on_AC_Wave_Shapes.sce"
		   ]
		  },
  {
"cell_type": "code",
	   "execution_count": null,
	   "metadata": {
	    "collapsed": true
	   },
	   "outputs": [],
"source": [
"\n",
"\n",
"//calculating greatest rate of change of current\n",
"//i=50*sin(100*%pi*t)\n",
"mprintf('Greatest rate of change of current=%f A/sec\n',50*100*%pi)\n",
"//calculating average value of current\n",
"f=50//frequency of the wave\n",
"T=1/f\n",
"Imean=1/.01*integrate('50*sin(100*%pi*t)','t',0,T/2)\n",
"mprintf('Average value of the given current=%f A\n',Imean)\n",
"Irms=sqrt(integrate('(50*sin(theta))^2','theta',0,2*%pi)/(2*%pi))\n",
"mprintf('RMS value of current=%f A\n',Irms)\n",
"//calculating time interval between a maximum value and next zero value\n",
"t=(%pi/2)/(100*%pi)\n",
"mprintf('Time interval between a maximum value and the next zero value is %f sec to %f sec',t,2*t)\n",
"//value of greatest rate of change of current is given wrong in the textbook due to approximation"
   ]
   }
,
{
		   "cell_type": "markdown",
		   "metadata": {},
		   "source": [
			"## Example 6.6: Example_on_AC_Wave_Shapes.sce"
		   ]
		  },
  {
"cell_type": "code",
	   "execution_count": null,
	   "metadata": {
	    "collapsed": true
	   },
	   "outputs": [],
"source": [
"\n",
"i=linspace(0,0,2)\n",
"t=linspace(0,1,2)\n",
"plot2d(t,i)\n",
"for j=0:3\n",
"    i=linspace(40+20*j,40+20*j,2)\n",
"    t=linspace(j+1,j+2,2)\n",
"    plot2d(t,i)\n",
"    if j==0 then\n",
"        t=linspace(j+1,j+1,2)\n",
"        i=linspace(0,40,2)\n",
"        plot2d(t,i)\n",
"    else \n",
"        t=linspace(j+1,j+1,2)\n",
"        i=linspace(40+20*(j-1),40+20*j,2)\n",
"        plot2d(t,i)\n",
"    end\n",
"end\n",
"for j=1:3\n",
"    i=linspace(100-20*j,100-20*j,2)\n",
"    t=linspace(j+4,j+5,2)\n",
"    plot2d(t,i)\n",
"    i=linspace(100-20*(j-1),100-20*j,2)\n",
"    t=linspace(j+4,j+4,2)\n",
"    plot2d(t,i)\n",
"end\n",
"i=linspace(40,0,2)\n",
"t=linspace(8,8,2)\n",
"plot2d(t,i)\n",
"i=linspace(0,0,2)\n",
"t=linspace(8,9,2)\n",
"plot2d(t,i)\n",
"for j=0:3\n",
"    i=linspace(-(40+20*j),-(40+20*j),2)\n",
"    t=linspace(j+9,j+10,2)\n",
"    plot2d(t,i)\n",
"    if j==0 then\n",
"        t=linspace(j+9,j+9,2)\n",
"        i=linspace(0,-40,2)\n",
"        plot2d(t,i)\n",
"    else \n",
"        t=linspace(j+9,j+9,2)\n",
"        i=linspace(-40-20*(j-1),-40-20*j,2)\n",
"        plot2d(t,i)\n",
"end\n",
"end\n",
"for j=1:3\n",
"    i=linspace(-(100-20*j),-(100-20*j),2)\n",
"    t=linspace(j+12,j+13,2)\n",
"    plot2d(t,i)\n",
"    i=linspace(-100+20*(j-1),-100+20*j,2)\n",
"    t=linspace(j+12,j+12,2)\n",
"    plot2d(t,i)\n",
"end\n",
"i=linspace(0,-40,2)\n",
"t=linspace(16,16,2)\n",
"plot2d(t,i)\n",
"xtitle('Periodic current wave for example 6.6','time in seconds','current')\n",
"\n",
"//calculating average value for this wave shape\n",
"Iavg=(0+40+60+80+100+80+60+40)/8\n",
"mprintf('Average value of current of given wave shape=%f A\n',Iavg)\n",
"//calculating RMS value for the given wave shape\n",
"Irms=sqrt((0^2+40^2+60^2+80^2+100^2+80^2+60^2+40^2)/8)\n",
"mprintf('RMS value of current of given wave shape=%f A\n',Irms)\n",
"//calculating form factor\n",
"x=Irms/Iavg\n",
"mprintf('Form factor of given wave form=%f\n',x)\n",
"//calculating peak factor\n",
"Imax=100//maximum value of current wave\n",
"y=Imax/Irms\n",
"mprintf('Peak factor of given wave=%f\n',y)\n",
"//calculating average and RMS value of current considering the wave to be sinusoidal having peak value of 100 A\n",
"Iavg=integrate('100/%pi*sin(theta)','theta',0,%pi)\n",
"mprintf('Average value of sine wave=%f A\n',Iavg)\n",
"Irms=sqrt(integrate('(100*sin(theta))^2/%pi','theta',0,%pi))\n",
"mprintf('RMS value of sine wave=%f A',Irms)"
   ]
   }
,
{
		   "cell_type": "markdown",
		   "metadata": {},
		   "source": [
			"## Example 6.7: Example_on_AC_Wave_Shapes.sce"
		   ]
		  },
  {
"cell_type": "code",
	   "execution_count": null,
	   "metadata": {
	    "collapsed": true
	   },
	   "outputs": [],
"source": [
"\n",
"theta=linspace(0,2*%pi,100)\n",
"i=10+10*sin(theta)//expression for the resultant wave\n",
"plot2d(theta,i)\n",
"xtitle('Wave shape for example 6.7','theta','current')\n",
"\n",
"//calculating average value of the resultant wave\n",
"Iavg=integrate('10+10*sin(theta)','theta',0,2*%pi)/(2*%pi)\n",
"mprintf('Average value of the resultant current wave=%d A\n',Iavg) \n",
"//calculating RMS value of current of the resultant wave\n",
"Irms=sqrt(integrate('(10+10*sin(theta))^2','theta',0,2*%pi)/(2*%pi))\n",
"mprintf('RMS value of the resultant current wave=%f A',Irms)"
   ]
   }
,
{
		   "cell_type": "markdown",
		   "metadata": {},
		   "source": [
			"## Example 6.8: Example_on_AC_Wave_Shapes.sce"
		   ]
		  },
  {
"cell_type": "code",
	   "execution_count": null,
	   "metadata": {
	    "collapsed": true
	   },
	   "outputs": [],
"source": [
"\n",
"theta=linspace(0,2*%pi,100)\n",
"i=50*sin(theta)\n",
"xset('window',0)\n",
"plot2d(theta,i)\n",
"xtitle('Current wave shape for example 6.8-->(a)','theta','current')\n",
"\n",
"xset('window',1)\n",
"theta=linspace(0,%pi,100)\n",
"i=50*sin(theta)\n",
"plot2d(theta,i)\n",
"theta=linspace(%pi,2*%pi,100)\n",
"i=-50*sin(theta)\n",
"plot2d(theta,i)\n",
"xtitle('Current wave shape for example 6.8-->(b)','theta','current')\n",
"\n",
"xset('window',2)\n",
"theta=linspace(0,0,2)\n",
"i=linspace(0,50,2)\n",
"plot2d(theta,i)\n",
"theta=linspace(0,%pi,2)\n",
"i=linspace(50,50,2)\n",
"plot2d(theta,i)\n",
"theta=linspace(%pi,%pi,2)\n",
"i=linspace(50,-50,2)\n",
"plot2d(theta,i)\n",
"theta=linspace(%pi,2*%pi,2)\n",
"i=linspace(-50,-50,2)\n",
"plot2d(theta,i)\n",
"i=linspace(-50,0,2)\n",
"theta=linspace(2*%pi,2*%pi,2)\n",
"plot2d(theta,i)\n",
"xtitle('Current wave shape for example 6.8-->(c)','theta','current')\n",
"\n",
"xset('window',3)\n",
"theta=linspace(0,%pi/2,2)\n",
"i=linspace(0,50,2)\n",
"plot2d(theta,i)\n",
"theta=linspace(%pi/2,%pi,2)\n",
"i=linspace(50,0,2)\n",
"plot2d(theta,i)\n",
"theta=linspace(%pi,3*%pi/2,2)\n",
"i=linspace(0,-50,2)\n",
"plot2d(theta,i)\n",
"theta=linspace(3*%pi/2,2*%pi,2)\n",
"i=linspace(-50,0,2)\n",
"plot2d(theta,i)\n",
"xtitle('Current wave shape for example 6.8-->(d)','theta','current')\n",
"\n",
"//consider wave shape (a)\n",
"mprintf('For wave shape (a)\nAs the negative and positive parts of the wave are equal, reading of moving coil ammeter is zero\n')\n",
"Irms=sqrt(integrate('(50*sin(theta))^2','theta',0,2*%pi)/(2*%pi))\n",
"mprintf('Reading of moving iron ammeter=%f A\n',Irms)\n",
"\n",
"//consider wave shape (b)\n",
"Iavg=integrate('50*sin(theta)','theta',0,%pi)/%pi\n",
"mprintf('For wave shape (b)\nReading on the moving coil ammeter=%f A\n',Iavg)\n",
"Irms=sqrt(integrate('(50*sin(theta))^2','theta',0,2*%pi)/(2*%pi))\n",
"mprintf('Reading on moving iron ammeter=%f A\n',Irms)\n",
"\n",
"//consider case (c)\n",
"mprintf('For wave shape (c)\nAverage value over one complete period is clearly zero. Thus reading on moving coil ammeter is zero. As the value of current remains constant at 50 A during various intervals, RMS value will be 50 A only. Hence, reading on moving iron ammeter=50 A\n')\n",
"\n",
"//consider case(d)\n",
"Iavg=(0+10+20+30+40+50++40+30+20+10+0+(-10)+(-20)+(-30)+(-40)+(-50)+(-40)+(-30)+(-20)+(-10)+0)/20\n",
"mprintf('For wave shape (d)\nReading on moving coil ammeter=%d\n',Iavg)\n",
"Irms=sqrt((0^2+10^2+20^2+30^2+40^2+50^2+40^2+30^2+20^2+10^2+0^2+(-10)^2+(-20)^2+(-30)^2+(-40)^2+(-50)^2+(-40)^2+(-30)^2+(-20)^2+(-10)^2+0^2)/20)\n",
"mprintf('Reading on moving iron ammeter=%f A\n',Irms)"
   ]
   }
,
{
		   "cell_type": "markdown",
		   "metadata": {},
		   "source": [
			"## Example 6.9: Example_on_AC_Wave_Shapes.sce"
		   ]
		  },
  {
"cell_type": "code",
	   "execution_count": null,
	   "metadata": {
	    "collapsed": true
	   },
	   "outputs": [],
"source": [
"\n",
"//let us assume V=1 V, T=1 sec\n",
"//e=V*t/T\n",
"V=1\n",
"T=1\n",
"Erms=sqrt(integrate('(V*t/T)^2','t',0, T)/T)\n",
"mprintf('RMS value of voltage is %f times maximum voltage\n',Erms/V)\n",
"Emean=integrate('V*t/T','t',0,T)/T\n",
"k=Erms/Emean\n",
"mprintf('Form factor of this wave=%f',k)\n",
""
   ]
   }
],
"metadata": {
		  "kernelspec": {
		   "display_name": "Scilab",
		   "language": "scilab",
		   "name": "scilab"
		  },
		  "language_info": {
		   "file_extension": ".sce",
		   "help_links": [
			{
			 "text": "MetaKernel Magics",
			 "url": "https://github.com/calysto/metakernel/blob/master/metakernel/magics/README.md"
			}
		   ],
		   "mimetype": "text/x-octave",
		   "name": "scilab",
		   "version": "0.7.1"
		  }
		 },
		 "nbformat": 4,
		 "nbformat_minor": 0
}
