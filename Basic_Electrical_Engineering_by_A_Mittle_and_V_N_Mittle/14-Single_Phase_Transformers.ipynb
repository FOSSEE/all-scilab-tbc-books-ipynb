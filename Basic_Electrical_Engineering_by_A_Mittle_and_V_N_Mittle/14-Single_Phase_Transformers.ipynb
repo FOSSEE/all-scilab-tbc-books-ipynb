{
"cells": [
 {
		   "cell_type": "markdown",
	   "metadata": {},
	   "source": [
       "# Chapter 14: Single Phase Transformers"
	   ]
	},
{
		   "cell_type": "markdown",
		   "metadata": {},
		   "source": [
			"## Example 14.10: Example_on_Regulation_and_Efficiency.sce"
		   ]
		  },
  {
"cell_type": "code",
	   "execution_count": null,
	   "metadata": {
	    "collapsed": true
	   },
	   "outputs": [],
"source": [
"\n",
"e_max=.98//max efficiency\n",
"Pout=.75*500*1000//output of transformer at max efficiency\n",
"Wi=Pout*(1-e_max)/(2*e_max)\n",
"Wcu1=Wi//copper losses at 3/4 full load\n",
"Wcu=Wcu1/(.75)^2//copper losses at full load\n",
"Is=500*1000/500//secondary current\n",
"Vs=500//secondary voltage\n",
"VR=(Wcu/(Vs*Is)*.8+sqrt(.1^2-(Wcu/(Vs*Is))^2)*.6)*100\n",
"mprintf('Regulation at full load, 0.8 pf lagging=%f percent',VR)"
   ]
   }
,
{
		   "cell_type": "markdown",
		   "metadata": {},
		   "source": [
			"## Example 14.11: Example_on_Regulation_and_Efficiency.sce"
		   ]
		  },
  {
"cell_type": "code",
	   "execution_count": null,
	   "metadata": {
	    "collapsed": true
	   },
	   "outputs": [],
"source": [
"\n",
"e1=.985//efficiency at full load, .8 pf lagging\n",
"//.985=100D+3*.8/(100D+3*.8+Wi+Wcu)-->.985*Wi+.985*Wcu=1200\n",
"e2=.99//efficiency at half load, unity pf\n",
"//.99=((100D+3)/2)/((100D+3)/2+Wi+Wcu/4)-->.99*Wi+.2475*Wcu=500\n",
"//solving for Wi and Wcu\n",
"a=[.985 .985;.99 .2475]\n",
"b=[1200;500]\n",
"w=inv(a)*b\n",
"Wi=w(1,1)\n",
"Wcu=w(2,1)\n",
"mprintf('Iron losses=%f W\nFull load copper losses=%f W',Wi,Wcu)"
   ]
   }
,
{
		   "cell_type": "markdown",
		   "metadata": {},
		   "source": [
			"## Example 14.12: Example_on_Regulation_and_Efficiency.sce"
		   ]
		  },
  {
"cell_type": "code",
	   "execution_count": null,
	   "metadata": {
	    "collapsed": true
	   },
	   "outputs": [],
"source": [
"\n",
"//calculating regulation at full load, 0.8 pf lagging\n",
"Pout1=.75*500D+3//output at max efficiency\n",
"Wi=375D+3*(1-.97)/(2*.97)\n",
"Wcu1=Wi//copper losses at 3/4th full load\n",
"Wcu=(4/3)^2*Wcu1//copper losses at full load\n",
"Is=500D+3/220\n",
"Rs=Wcu/Is^2\n",
"Vs=220//secondary voltage\n",
"Zs=220*.1/Is\n",
"Xs=sqrt(Zs^2-Rs^2)\n",
"VR=(Is*Rs*.8+Is*Xs*.6)/Vs*100\n",
"mprintf('Regulation at .8 pf lagging=%f percent\n',VR)\n",
"//calculating regulation at full load, 0.8 pf leading\n",
"VR=(Is*Rs*.8-Is*Xs*.6)/Vs*100\n",
"mprintf('Regulation at .8 pf leading=%f percent\n',VR)"
   ]
   }
,
{
		   "cell_type": "markdown",
		   "metadata": {},
		   "source": [
			"## Example 14.13: Example_on_Regulation_and_Efficiency.sce"
		   ]
		  },
  {
"cell_type": "code",
	   "execution_count": null,
	   "metadata": {
	    "collapsed": true
	   },
	   "outputs": [],
"source": [
"\n",
"e_max=.98//max efficiency of transformer\n",
"P=15D+3//load at which max efficiency occurs at unity pf\n",
"Wi=P*(1-e_max)/(2*e_max)\n",
"Wcu=Wi\n",
"//in the first interval\n",
"P1=3D+3/0.6//load on the transformer\n",
"Wcu1=Wcu*(P1/P)^2\n",
"//in the second interval\n",
"P2=10D+3/0.8//load on the transformer\n",
"Wcu2=Wcu*(P2/P)^2\n",
"//in the third interval\n",
"P3=18D+3/0.9//load on the transformer\n",
"Wcu3=Wcu*(P3/P)^2\n",
"//load on the transformer during last interval=0-->copper losses=0, iron losses=0\n",
"Wi=Wi*24//total iron losses\n",
"Wcu=10*Wcu1+5*Wcu2+5*Wcu3//total copper losses\n",
"Pout=(3*10+10*5+18*5)*10^3//total output\n",
"e=Pout/(Pout+Wi+Wcu)*100\n",
"mprintf('All day efficiency=%f percent',e)"
   ]
   }
,
{
		   "cell_type": "markdown",
		   "metadata": {},
		   "source": [
			"## Example 14.14: Example_on_Testing_of_Transformer.sce"
		   ]
		  },
  {
"cell_type": "code",
	   "execution_count": null,
	   "metadata": {
	    "collapsed": true
	   },
	   "outputs": [],
"source": [
"\n",
"//for no load test\n",
"V0=400//applied voltage\n",
"I0=1//current\n",
"W0=60//power consumed\n",
"Iw=W0/V0\n",
"R0=V0/Iw\n",
"Im=sqrt(I0^2-Iw^2)\n",
"Xm=V0/Im\n",
"mprintf('No load parameters:\nR0=%f ohm,\nXm=%f ohm\n',R0,Xm)\n",
"//for short circuit test\n",
"Vsc=15//applied voltage\n",
"Isc=12.5//current\n",
"Wsc=50//power consumed\n",
"Zp=Vsc/Isc\n",
"Rp=Wsc/Isc^2\n",
"Xp=sqrt(Zp^2-Rp^2)\n",
"mprintf('Equivalent resistance and reactance referred to primary is %f ohm and %f ohm\n',Rp,Xp)\n",
"//calculating regulation at full load, 0.8 pf lagging\n",
"Vp=400\n",
"Ip=5D+3/400\n",
"VR=Ip*(Rp*.8+Xp*.6)/Vp*100\n",
"mprintf('Voltage regulation=%f percent\n',VR)\n",
"//calculating iron and copper losses\n",
"Wi=W0\n",
"Wcu=Wsc\n",
"mprintf('Iron losses=%f W\nCopper losses at full load=%f W\n',Wi,Wcu)\n",
"//calculating efficiency at full load and 0.8 pf lagging\n",
"e=5D+3*.8/(5D+3*.8+Wi+Wcu)*100\n",
"mprintf('Efficiency at full load and .8 pf lagging=%f percent',e)"
   ]
   }
,
{
		   "cell_type": "markdown",
		   "metadata": {},
		   "source": [
			"## Example 14.15: Example_on_Testing_of_Transformer.sce"
		   ]
		  },
  {
"cell_type": "code",
	   "execution_count": null,
	   "metadata": {
	    "collapsed": true
	   },
	   "outputs": [],
"source": [
"\n",
"W0=1300//power consumed in no load test\n",
"Wsc=2400//power consumed in short circuit test performed at full load current\n",
"Wi=W0\n",
"Wcu=Wsc\n",
"Pout=(8*200*.8+10*.5*200*1)*10^3//total output\n",
"Wit=1300*24//total iron losses\n",
"Wcut=2400*8+2400/4*10//total copper losses\n",
"e=Pout/(Pout+Wit+Wcut)*100\n",
"mprintf('All day efficiency=%f percent',e)"
   ]
   }
,
{
		   "cell_type": "markdown",
		   "metadata": {},
		   "source": [
			"## Example 14.16: Example_on_Testing_of_Transformer.sce"
		   ]
		  },
  {
"cell_type": "code",
	   "execution_count": null,
	   "metadata": {
	    "collapsed": true
	   },
	   "outputs": [],
"source": [
"\n",
"Woc=60//power consumed in OC test at 220 V\n",
"//iron losses in transformer are proportional to square of applied voltage\n",
"Wi=60*(200/220)^2//iron losses at normal voltage of 200 V\n",
"Is=5D+3/400//full load current on HV side\n",
"//for SC test\n",
"Isc=10//current\n",
"Wsc=120//power consumed\n",
"Wcu=(Is/Isc)^2*Wsc//full load copper losses\n",
"e=(5D+3*.8)/(5D+3*.8+Wi+Wcu)*100\n",
"mprintf('Efficiency at full load=%f percent',e)"
   ]
   }
,
{
		   "cell_type": "markdown",
		   "metadata": {},
		   "source": [
			"## Example 14.17: Example_on_Parallel_Operation.sce"
		   ]
		  },
  {
"cell_type": "code",
	   "execution_count": null,
	   "metadata": {
	    "collapsed": true
	   },
	   "outputs": [],
"source": [
"\n",
"function[r,theta]=rect2pol(A)\n",
"    x=real(A)\n",
"    y=imag(A)\n",
"    r=sqrt(x^2+y^2)\n",
"    theta=atand(y/x)\n",
"endfunction\n",
"function[z]=pol2rect(r,theta)\n",
"    x=r*cos(theta*%pi/180)\n",
"    y=r*sin(theta*%pi/180)\n",
"    z=x+y*%i\n",
"endfunction\n",
"\n",
"j=%i\n",
"I=pol2rect(300,-acosd(.8))//total load to be shared by transformers A and B at .8 pf lagging\n",
"Za=.011+.042*j//impedance of transformer A\n",
"Zb=.044+.072*j//impedance of transformer B\n",
"\n",
"//calculating load shared by transformer A\n",
"Ia=Zb*I/(Za+Zb)\n",
"[Ia theta]=rect2pol(Ia)\n",
"mprintf('Load shared by transformer A=%f A, lagging by an angle of %f degrees\n',Ia,-theta)\n",
"\n",
"//calculating load shared by transformer B\n",
"Ib=Za*I/(Za+Zb)\n",
"[Ib theta]=rect2pol(Ib)\n",
"mprintf('Load shared by transformer B=%f A, lagging by an angle of %f degrees',Ib,-theta)\n",
"//answers vary from the textbook due to round off error"
   ]
   }
,
{
		   "cell_type": "markdown",
		   "metadata": {},
		   "source": [
			"## Example 14.18: Example_on_Parallel_Operation.sce"
		   ]
		  },
  {
"cell_type": "code",
	   "execution_count": null,
	   "metadata": {
	    "collapsed": true
	   },
	   "outputs": [],
"source": [
"\n",
"function[r]=mag(A)\n",
"    x=real(A)\n",
"    y=imag(A)\n",
"    r=sqrt(x^2+y^2)\n",
"endfunction\n",
"\n",
"j=%i\n",
"Zl=8+6.2*j//load impedance\n",
"//for transformer A\n",
"Ea=6600//secondary induced emf\n",
"Za=.3+3.2*j//equivalent impedance referred to secondary\n",
"//for transformer B\n",
"Eb=6400//secondary induced emf\n",
"Zb=.2+1.2*j//equivalent impedance referred to secondary\n",
"Ia=(Ea*Zb+(Ea-Eb)*Zl)/(Za*Zb+(Za+Zb)*Zl)\n",
"Ib=(Eb*Za-(Ea-Eb)*Zl)/(Za*Zb+(Za+Zb)*Zl)\n",
"mprintf('Current delivered by transformer A is %f A\nCurrent delivered by transformer B is %f A',mag(Ia),mag(Ib))"
   ]
   }
,
{
		   "cell_type": "markdown",
		   "metadata": {},
		   "source": [
			"## Example 14.1: Example_on_EMF_Equation.sce"
		   ]
		  },
  {
"cell_type": "code",
	   "execution_count": null,
	   "metadata": {
	    "collapsed": true
	   },
	   "outputs": [],
"source": [
"\n",
"//calculating Bm\n",
"Ep=400//induced emf in primary winding\n",
"Np=350//no. of turns in primary\n",
"Ai=55D-4//cross-sectional area\n",
"f=50//frequency in Hz\n",
"Bm=Ep/(4.44*f*Ai*Np)\n",
"mprintf('Maximum value of flux density in the core=%f Tesla(Wb/m^2)\n',Bm)\n",
"//calculating voltage induced in secondary winding\n",
"Ns=1050\n",
"Es=Ep*Ns/Np\n",
"mprintf('Voltage induced in the secondary winding=%d V',round(Es))"
   ]
   }
,
{
		   "cell_type": "markdown",
		   "metadata": {},
		   "source": [
			"## Example 14.2: Example_on_EMF_Equation.sce"
		   ]
		  },
  {
"cell_type": "code",
	   "execution_count": null,
	   "metadata": {
	    "collapsed": true
	   },
	   "outputs": [],
"source": [
"\n",
"//calculating no. of turns in secondary winding\n",
"Es=500//no load voltage of low voltage winding\n",
"phi=.06//flux\n",
"f=50//frequency in Hz\n",
"Ns=round(Es/(4.44*f*phi))\n",
"mprintf('No. of turns in low voltage winding=%f\n',Ns)\n",
"//calculating no. of turns in primary winding\n",
"Np=Ns*6600/500\n",
"mprintf('Np=%f(not possible)\n',Np)\n",
"//Here, the no. of turns finally taken is 500 and not 502\n",
"mprintf('No. of turns finally taken is 500 ,because the high voltage winding will be split up into a no. of coils')"
   ]
   }
,
{
		   "cell_type": "markdown",
		   "metadata": {},
		   "source": [
			"## Example 14.3: Example_on_Equivalent_Circuit.sce"
		   ]
		  },
  {
"cell_type": "code",
	   "execution_count": null,
	   "metadata": {
	    "collapsed": true
	   },
	   "outputs": [],
"source": [
"\n",
"Rp=.8\n",
"Xp=3.2\n",
"Rs=.009\n",
"Xs=.03\n",
"Rs_dash=(2200/220)^2*Rs\n",
"mprintf('Equivalent resistance referred to primary=%f ohm\n',Rp+Rs_dash)\n",
"Xs_dash=(2200/220)^2*Xs\n",
"mprintf('Equivalent reactance referred to primary=%f ohm\n',Xp+Xs_dash)\n",
"Rp_dash=(220/2200)^2*Rp\n",
"mprintf('Equivalent resistance referred to secondary=%f ohm\n',Rp_dash+Rs)\n",
"Xp_dash=(220/2200)^2*Xp\n",
"mprintf('Equivalent reactance referred to secondary=%f ohm',Xp_dash+Xs)"
   ]
   }
,
{
		   "cell_type": "markdown",
		   "metadata": {},
		   "source": [
			"## Example 14.4: Example_on_Equivalent_Circuit.sce"
		   ]
		  },
  {
"cell_type": "code",
	   "execution_count": null,
	   "metadata": {
	    "collapsed": true
	   },
	   "outputs": [],
"source": [
"\n",
"function[r,theta]=rect2pol(A)\n",
"    x=real(A)\n",
"    y=imag(A)\n",
"    r=sqrt(x^2+y^2)\n",
"    theta=atand(y/x)\n",
"endfunction\n",
"function[z]=pol2rect(r,theta)\n",
"    x=r*cos(theta*%pi/180)\n",
"    y=r*sin(theta*%pi/180)\n",
"    z=x+y*%i\n",
"endfunction\n",
"function[r]=mag(A)\n",
"    x=real(A)\n",
"    y=imag(A)\n",
"    r=sqrt(x^2+y^2)\n",
"endfunction\n",
"j=%i\n",
"//calculating current in primary\n",
"Is=10//at 0.8 pf lagging\n",
"Ip_dash=Is*400/200//at 0.8 pf lagging\n",
"Ip_dash=pol2rect(Ip_dash,-acosd(.8))\n",
"Im=200/300//magnetizing current\n",
"Iw=200/600//active component of no load current\n",
"I0=Iw-Im*j//no load current\n",
"Ip=Ip_dash+I0\n",
"[Ip theta]=rect2pol(Ip)\n",
"mprintf('Current in primary is %f A, lagging at an angle of %f degrees\n',Ip,-theta)\n",
"//calculating terminal voltage\n",
"Ip=pol2rect(Ip,-theta)\n",
"Ep=Ip_dash*(.15+.37*j)\n",
"Es_dash=200-Ep\n",
"[Es_dash theta]=rect2pol(Es_dash)\n",
"Es=Es_dash*400/200\n",
"mprintf('Secondary terminal voltage=%f V, lagging at an angle of %f degrees',Es,-theta)"
   ]
   }
,
{
		   "cell_type": "markdown",
		   "metadata": {},
		   "source": [
			"## Example 14.5: Example_on_Regulation_and_Efficiency.sce"
		   ]
		  },
  {
"cell_type": "code",
	   "execution_count": null,
	   "metadata": {
	    "collapsed": true
	   },
	   "outputs": [],
"source": [
"//calculating voltage regulation at full load with 0.8 pf lagging\n",
"Ip=2000/400//primary current at full load\n",
"Rp=3\n",
"Xp=4\n",
"phi=acos(.8)\n",
"Vp=400\n",
"VR=Ip*(Rp*cos(phi)+Xp*sin(phi))/Vp*100\n",
"mprintf('Voltage regulation at full load with 0.8 pf lagging=%f percent\n',VR)\n",
"//calculating voltage regulation at full load with 0.8 pf leading\n",
"VR=Ip*(Rp*cos(phi)-Xp*sin(phi))/Vp*100\n",
"mprintf('Voltage regulation at full load with 0.8 pf leading=%f percent\n',VR)\n",
"//calculating regulation at half load with 0.8 pf lagging\n",
"Ip=Ip/2//half load primary current\n",
"VR=Ip*(Rp*cos(phi)+Xp*sin(phi))/Vp*100\n",
"mprintf('Voltage regulation at half load with 0.8 pf lagging=%f percent',VR)"
   ]
   }
,
{
		   "cell_type": "markdown",
		   "metadata": {},
		   "source": [
			"## Example 14.6: Example_on_Regulation_and_Efficiency.sce"
		   ]
		  },
  {
"cell_type": "code",
	   "execution_count": null,
	   "metadata": {
	    "collapsed": true
	   },
	   "outputs": [],
"source": [
"\n",
"//Is*Rs=.02*Vs,Is*Xs=.05*Vs\n",
"//calculating regulation at .8 pf lagging\n",
"VR=(.02*.8+.05*.6)*100\n",
"mprintf('Voltage regulation at .8 pf lagging=%f percent\n',VR)\n",
"//calculating regulation at .8 pf leading\n",
"VR=(.02*.8-.05*.6)*100\n",
"mprintf('Voltage regulation at 0.8 pf leading=%f percent',VR)"
   ]
   }
,
{
		   "cell_type": "markdown",
		   "metadata": {},
		   "source": [
			"## Example 14.7: Example_on_Regulation_and_Efiiciency.sce"
		   ]
		  },
  {
"cell_type": "code",
	   "execution_count": null,
	   "metadata": {
	    "collapsed": true
	   },
	   "outputs": [],
"source": [
"\n",
"Wcu_fl=425//copper losses at full load\n",
"//calculating efficiency at full load, unity pf\n",
"Pout=50*1000*1//output\n",
"e=Pout/(Pout+350+425)*100\n",
"mprintf('Efficiency at full load, unity pf=%f percent\n',e)\n",
"//calculating efficiency at half load, unity pf\n",
"Pout=Pout/2//output\n",
"Wi=350//iron losses\n",
"Wcu=Wcu_fl/2^2//copper losses\n",
"e=Pout/(Pout+Wi+Wcu)*100\n",
"mprintf('Efficiency at half load, unity pf=%f percent\n',e)\n",
"//calculating efficiency at full load, 0.8 pf lagging\n",
"Pout=(50D+3)*.8//output\n",
"e=Pout/(Pout+Wi+Wcu_fl)*100\n",
"mprintf('Efficiency at full load, .8 pf lagging=%f percent\n',e)\n",
"//calculating maximum efficiency\n",
"Wcu=Wi//copper losses\n",
"x=sqrt(Wcu/Wcu_fl)//load at which maximum efficiency occurs\n",
"mprintf('At %f percent of the full load, maximum efficiency will occur\n',x*100)\n",
"Pout=(x*50D+3*1)\n",
"e_max=Pout/(Pout+2*Wi)*100\n",
"mprintf('Maximum efficiency=%f percent\nLoad at maximum efficiency=%f kVA',e_max,Pout/1000)\n",
""
   ]
   }
,
{
		   "cell_type": "markdown",
		   "metadata": {},
		   "source": [
			"## Example 14.8: Example_on_Regulation_and_Efficiency.sce"
		   ]
		  },
  {
"cell_type": "code",
	   "execution_count": null,
	   "metadata": {
	    "collapsed": true
	   },
	   "outputs": [],
"source": [
"\n",
"Wi=1100//iron losses\n",
"Wcu=400//copper losses at 50% load\n",
"Is=100*1000/10000//secondary full load current\n",
"//calculating efficiency at 25% load, unity pf\n",
"Is1=Is/4//secondary current\n",
"Wcu1=(25/50)^2*400//copper losses\n",
"Pout=.25*100*1000//output\n",
"e=Pout/(Pout+Wcu1+Wi)*100\n",
"mprintf('Efficiency at 25 percent load, unity pf=%f percent\n',e)\n",
"//calculating efficiency at 25% load, 0.8 pf\n",
"e=(Pout*.8)/(Pout*.8+Wcu1+Wi)*100\n",
"mprintf('Efficiency at 25 percent load, .8 pf=%f percent\n',e)\n",
"//calculating efficiency at 50% load,unity pf\n",
"Pout=.5*100*1000//output\n",
"e=Pout/(Pout+Wi+Wcu)*100\n",
"mprintf('Efficiency at 50 percent load, unity pf=%f percent\n',e)\n",
"//calculating efficiency at 50% load, 0.8 pf\n",
"e=Pout*.8/(Pout*.8+Wi+Wcu)*100\n",
"mprintf('Efficiency at 50 percent load, 0.8 pf=%f percent\n',e)\n",
"//calculating efficiency at full load, unity pf\n",
"Pout=100*1000//output\n",
"Wcu3=(10/5)^2*400//copper losses\n",
"e=Pout/(Pout+Wcu3+Wi)*100\n",
"mprintf('Efficiency at full load, unity pf=%f percent\n',e)\n",
"//calculating efficiency at full load, .8 pf \n",
"e=(Pout*.8)/(Pout*.8+Wcu3+Wi)*100\n",
"mprintf('Efficiency at full load, 0.8 pf=%f percent\n',e)\n",
"//calculating load for max efficiency at unity pf\n",
"x=sqrt(Wi/Wcu3)\n",
"mprintf('Load for max efficiency=%f kVA\nLoad for max efficiency will remain the same irrespective of power factor',x*Pout/1000)\n",
"//error in the textbook answer for efficiency at 50 % load at unity pf as well as at .8 pf\n",
""
   ]
   }
,
{
		   "cell_type": "markdown",
		   "metadata": {},
		   "source": [
			"## Example 14.9: Example_on_Regulation_and_Efficiency.sce"
		   ]
		  },
  {
"cell_type": "code",
	   "execution_count": null,
	   "metadata": {
	    "collapsed": true
	   },
	   "outputs": [],
"source": [
"\n",
"e=.9//efficiency at full load\n",
"Pout=500//output at full load\n",
"//we get, .9=500/(500+Wi+Wcu)\n",
"//efficiency at half load is also the same-->.9=(500/2)/(500/2+Wi+Wcu/4)\n",
"//solving for Wi and Wcu at full load\n",
"a=[.9 .9;.9 .225]\n",
"b=[50;25]\n",
"z=inv(a)*b\n",
"Wi=z(1,1)\n",
"Wcu=z(2,1)\n",
"//calculating efficiency at 75% load\n",
"Pout=.75*500//output\n",
"Wcu1=.75^2*Wcu//copper losses\n",
"e=Pout/(Pout+Wi+Wcu1)*100\n",
"mprintf('Efficiency at 75 percent full load=%f percent',e)"
   ]
   }
],
"metadata": {
		  "kernelspec": {
		   "display_name": "Scilab",
		   "language": "scilab",
		   "name": "scilab"
		  },
		  "language_info": {
		   "file_extension": ".sce",
		   "help_links": [
			{
			 "text": "MetaKernel Magics",
			 "url": "https://github.com/calysto/metakernel/blob/master/metakernel/magics/README.md"
			}
		   ],
		   "mimetype": "text/x-octave",
		   "name": "scilab",
		   "version": "0.7.1"
		  }
		 },
		 "nbformat": 4,
		 "nbformat_minor": 0
}
