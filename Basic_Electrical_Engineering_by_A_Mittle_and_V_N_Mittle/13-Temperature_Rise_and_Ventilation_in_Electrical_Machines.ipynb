{
"cells": [
 {
		   "cell_type": "markdown",
	   "metadata": {},
	   "source": [
       "# Chapter 13: Temperature Rise and Ventilation in Electrical Machines"
	   ]
	},
{
		   "cell_type": "markdown",
		   "metadata": {},
		   "source": [
			"## Example 13.1: Example_on_Heating_and_Cooling_of_Electrical_Machines.sce"
		   ]
		  },
  {
"cell_type": "code",
	   "execution_count": null,
	   "metadata": {
	    "collapsed": true
	   },
	   "outputs": [],
"source": [
"\n",
"//temp. rise at any time t is theta=theta_f-(theta_f-theta_1)*exp(-t/T)\n",
"theta_1=0//initial temperature\n",
"//theta =25 degree C when t=1 hr; theta =37.5 degree C when t=2 hr\n",
"//on solving for T\n",
"T=1/log(2)\n",
"mprintf('Heating time constant=%f hr\n', T)\n",
"//on solving for theta_f\n",
"theta_f=25/(1-exp(-1/T))\n",
"mprintf('Final steady full load temperature rise theta_f=%f degree C\n', theta_f)\n",
"//Temp. fall at any time t is theta'=theta_f'+(theta_2-theta_f')*exp(-t/T')\n",
"//As the transformer is disconnected now, theta_f'=0\n",
"theta_2=theta_f\n",
"theta_dash=40-30\n",
"t=1.5\n",
"T=t/log(theta_2/theta_dash)\n",
"mprintf('Cooling time constant =%f hr', T)\n",
"//The answers vary from the textbook due to round off error"
   ]
   }
,
{
		   "cell_type": "markdown",
		   "metadata": {},
		   "source": [
			"## Example 13.2: Example_on_Heating_and_Cooling_of_Electrical_Machines.sce"
		   ]
		  },
  {
"cell_type": "code",
	   "execution_count": null,
	   "metadata": {
	    "collapsed": true
	   },
	   "outputs": [],
"source": [
"\n",
"//temp. rise of the motor at any time t is theta=theta_f-(theta_f-theta_1)*exp(-t/T)\n",
"theta_f=50//final steady temp rise\n",
"T=100//heating time constant in min\n",
"t=20//full load working period in min\n",
"//during cooling process, temp. decreases to theta_1=theta*exp(-t/T')\n",
"t=40//stationary period in min\n",
"T=140//cooling time constant in min\n",
"//solving simultaneous equations\n",
"a=[1 -exp(-20/100);-exp(-40/140) 1]\n",
"b=[50-50*exp(-20/100);0]\n",
"c=inv(a)*b\n",
"theta=c(1,1)\n",
"mprintf('Maximum temp attained=%f degree C', theta) "
   ]
   }
],
"metadata": {
		  "kernelspec": {
		   "display_name": "Scilab",
		   "language": "scilab",
		   "name": "scilab"
		  },
		  "language_info": {
		   "file_extension": ".sce",
		   "help_links": [
			{
			 "text": "MetaKernel Magics",
			 "url": "https://github.com/calysto/metakernel/blob/master/metakernel/magics/README.md"
			}
		   ],
		   "mimetype": "text/x-octave",
		   "name": "scilab",
		   "version": "0.7.1"
		  }
		 },
		 "nbformat": 4,
		 "nbformat_minor": 0
}
