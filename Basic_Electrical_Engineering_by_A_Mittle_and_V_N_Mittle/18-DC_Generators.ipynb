{
"cells": [
 {
		   "cell_type": "markdown",
	   "metadata": {},
	   "source": [
       "# Chapter 18: DC Generators"
	   ]
	},
{
		   "cell_type": "markdown",
		   "metadata": {},
		   "source": [
			"## Example 18.1: Example_on_Magnetization_Characteristics.sce"
		   ]
		  },
  {
"cell_type": "code",
	   "execution_count": null,
	   "metadata": {
	    "collapsed": true
	   },
	   "outputs": [],
"source": [
"\n",
"i=linspace(0,1.6,9)\n",
"V=[0 40 66 86 101 112 121 128 133]\n",
"plot(i,V,rect=[0 0 1.6 133])\n",
"xtitle('Magnetization curve for example 18.1','Field Current','Generated emf')\n",
"\n",
"//refer Fig. 18.4 in the textbook\n",
"Rsh=94//resistance of shunt field winding\n",
"//OA is the field resistance line for this resistance\n",
"Voc=126//voltage corresponding to point A\n",
"mprintf('Open circuit voltage when the field circuit resistance is 94 ohm=%d V\n',Voc)\n",
"//D is point on OCC corresponding to 110 V. OD represents the field resistance line to generate this voltage \n",
"R=70/.6//total resistance of shunt field circuit\n",
"mprintf('Additional resistance in the shunt field circuit is %f ohm\n', R-Rsh)\n",
"//line OE represents the critical resistance of shunt field\n",
"Rc=40/.2\n",
"mprintf('Critical resistance=%d ohm',Rc)"
   ]
   }
,
{
		   "cell_type": "markdown",
		   "metadata": {},
		   "source": [
			"## Example 18.2: Example_on_Magnetization_Characteristics.sce"
		   ]
		  },
  {
"cell_type": "code",
	   "execution_count": null,
	   "metadata": {
	    "collapsed": true
	   },
	   "outputs": [],
"source": [
"\n",
"i=linspace(0,3.5,8)\n",
"V=[0 60 120 138 145 149 151 152]\n",
"plot2d(i,V)\n",
"xtitle('Magnetization curve for example 18.2','Field Current','Generated emf')\n",
"\n",
"//refer Fig. 18.5 in the textbook\n",
"Rsh=60//shunt field resistance\n",
"//line OA is field resistance line\n",
"Voc=149//voltage corresponding to point A\n",
"mprintf('Open circuit voltage=%d V\n',Voc)\n",
"//resistance represented by OE is critical resistance\n",
"Rc=120\n",
"mprintf('Critical resistance of shunt field=%d ohm\n',Rc)\n",
"//when the load has a resistance of 4 ohm\n",
"R=4\n",
"//load current I=V/4\n",
"//Ish=V/60\n",
"//Ia=I+Ish\n",
"Eg=Voc\n",
"Ra=.1//armature resistance\n",
"//V=Eg-Ia*Ra\n",
"V=Eg/(1+(1/R+1/Rsh)*Ra)\n",
"mprintf('Terminal voltage, V=%f V\n',V)\n",
"//when the terminal voltage is 100 V\n",
"V=100//terminal voltage\n",
"Ia=(Eg-V)/Ra\n",
"Ish=V/Rsh\n",
"I=Ia-Ish\n",
"mprintf('Load current=%f A',I)"
   ]
   }
,
{
		   "cell_type": "markdown",
		   "metadata": {},
		   "source": [
			"## Example 18.3: Example_on_Magnetization_Characteristics.sce"
		   ]
		  },
  {
"cell_type": "code",
	   "execution_count": null,
	   "metadata": {
	    "collapsed": true
	   },
	   "outputs": [],
"source": [
"\n",
"i=linspace(0,2.5,6)\n",
"V=[0 50 84 105 120 131]\n",
"plot(i,V)\n",
"xtitle('Magnetization curve for example 18.3','Field Current','Generated emf')\n",
"\n",
"//refer Fig.18.6 in the textbook\n",
"//OE is the field resistance line of critical resistance\n",
"Rc=100\n",
"//solving (iii)\n",
"Rsh=70//field resistance\n",
"N=750//speed in rpm\n",
"Nc=Rsh/Rc*N\n",
"mprintf('When the field resistance is 70 ohm, critical speed=%d rpm\n',round(Nc))\n",
"//solving (iv)\n",
"Eg=100//open-circuit voltage\n",
"Rsh=55//shunt field resistance\n",
"//now, the operating point is M instead of A\n",
"//LM/LN=N1/N\n",
"//from the graph, LM/LN=100/115\n",
"N1=100/115*N//desired speed\n",
"mprintf('With shunt field resistance of 55 ohm, reduction in speed to make the open circuit voltage equal to 100 V=%d rpm',round(N-N1))"
   ]
   }
,
{
		   "cell_type": "markdown",
		   "metadata": {},
		   "source": [
			"## Example 18.4: Example_on_Magnetization_Characteristics.sce"
		   ]
		  },
  {
"cell_type": "code",
	   "execution_count": null,
	   "metadata": {
	    "collapsed": true
	   },
	   "outputs": [],
"source": [
"\n",
"//generated emf is directly proportional to speed\n",
"//readings for OCC at 1000 rpm are\n",
"Eg2=[10*(1000/800) 112*(1000/800) 198*(1000/800) 232*(1000/800) 252*(1000/800) 266*(1000/800)]\n",
"i=linspace(0,5,6)\n",
"plot2d(i,Eg2) \n",
"xtitle('Magnetization curve for example 18.4','Field current','Generated emf')\n",
"\n",
"//refer Fig.18.7 in the textbook\n",
"Rsh=70//resistance of field circuit\n",
"//line OA is field resistance line\n",
"V=330//voltage corresponding to point A\n",
"mprintf('No load terminal voltage is %d V\n',V)\n",
"//now, no load terminal voltage is 270 V\n",
"V=270\n",
"//the operating point is D\n",
"//line OD is corresponding field resistance line\n",
"R=V/2.4//resistance represented by line OD\n",
"mprintf('Additional resistance required in the field circuit to reduce the voltage to 270 V=%f ohm\n',R-Rsh)"
   ]
   }
,
{
		   "cell_type": "markdown",
		   "metadata": {},
		   "source": [
			"## Example 18.5: Example_on_Parallel_Operation.sce"
		   ]
		  },
  {
"cell_type": "code",
	   "execution_count": null,
	   "metadata": {
	    "collapsed": true
	   },
	   "outputs": [],
"source": [
"\n",
"//for generator A\n",
"V1=240//initial terminal voltage\n",
"V2=225//final terminal voltage\n",
"Ia=120//armature current\n",
"Ra=(V1-V2)/Ia//armature resistance\n",
"//for generator B\n",
"V1=230//initial terminal voltage\n",
"V2=215//final terminal voltage\n",
"Ib=100//armature current\n",
"Rb=(V1-V2)/Ib//armature resistance\n",
"I=200//total load current\n",
"//I1+I2=I, V=240-I1*Ra, V=230-I2*Rb\n",
"//solving for V, I1 and I2\n",
"a=[1 1 0;Ra 0 1;0 Rb 1]\n",
"b=[200;240;230]\n",
"x=inv(a)*b\n",
"I1=x(1,1)\n",
"I2=x(2,1)\n",
"V=x(3,1)\n",
"mprintf('Bus-bar voltage=%f V,\nGenerator A supplies %f A,\nGenerator B supplies %f A', V,I1,I2)"
   ]
   }
,
{
		   "cell_type": "markdown",
		   "metadata": {},
		   "source": [
			"## Example 18.6: Example_on_Parallel_Operation.sce"
		   ]
		  },
  {
"cell_type": "code",
	   "execution_count": null,
	   "metadata": {
	    "collapsed": true
	   },
	   "outputs": [],
"source": [
"\n",
"Ra=.03//armature resistance of each generator\n",
"Rsh=60//field resistance of each generator\n",
"I=4500//total load current\n",
"//I1+I2=4500, Ish=V/60\n",
"//Ia1=I1+V/60\n",
"//Ia2=I2+V/60\n",
"Ea1=500//induced emf in generator 1\n",
"//500=V+Ia1*.03\n",
"Ea2=510//induced emf in generator 2\n",
"//510=V+Ia2*.03\n",
"//solving for V,I1 and I2\n",
"a=[1 1 0;.03 0 1+.03/60;0 .03 1+.03/60]\n",
"b=[4500;500;510]\n",
"x=inv(a)*b\n",
"I1=x(1,1)\n",
"I2=x(2,1)\n",
"V=x(3,1)\n",
"mprintf('Bus-bar voltage=%f V,\nLoad shared by generator 1=%f A,\nLoad shared by generator 2=%f A', V,I1,I2)"
   ]
   }
,
{
		   "cell_type": "markdown",
		   "metadata": {},
		   "source": [
			"## Example 18.7: Example_on_Parallel_Operation.sce"
		   ]
		  },
  {
"cell_type": "code",
	   "execution_count": null,
	   "metadata": {
	    "collapsed": true
	   },
	   "outputs": [],
"source": [
"\n",
"//Let V be bus-bar voltage and I1, I2 be the currents supplied by generators 1 and 2 respectively\n",
"Il=3000//total load current\n",
"//I1+I2=Il\n",
"//for generator 1\n",
"Rsh1=30//field resistance\n",
"Ra1=.05//armature resistance\n",
"Eg1=400//induced emf\n",
"//for generator 2\n",
"Rsh2=25//field resistance\n",
"Ra2=.03//armature resistance\n",
"Eg2=380//induced emf\n",
"//Ish1=V/Rsh1\n",
"//Ish2=V/Rsh2\n",
"//Ia1=I1+Ish1\n",
"//Ia2=I2+Ish2\n",
"//Eg1=V+Ia1*Ra1;Eg2=V+Ia2*Ra2\n",
"//solving for I1,I2 and V\n",
"a=[1 1 0;Ra1 0 1+Ra1/Rsh1;0 Ra2 1+Ra2/Rsh2]\n",
"b=[Il;Eg1;Eg2]\n",
"x=inv(a)*b\n",
"I1=x(1,1)\n",
"I2=x(2,1)\n",
"V=x(3,1)\n",
"P1=V*I1\n",
"P2=V*I2\n",
"mprintf('Output of generator 1=%f kW\nOutput of generator 2=%f kW', P1/1000,P2/1000)\n",
"//answers vary from the textbook due to round off error"
   ]
   }
],
"metadata": {
		  "kernelspec": {
		   "display_name": "Scilab",
		   "language": "scilab",
		   "name": "scilab"
		  },
		  "language_info": {
		   "file_extension": ".sce",
		   "help_links": [
			{
			 "text": "MetaKernel Magics",
			 "url": "https://github.com/calysto/metakernel/blob/master/metakernel/magics/README.md"
			}
		   ],
		   "mimetype": "text/x-octave",
		   "name": "scilab",
		   "version": "0.7.1"
		  }
		 },
		 "nbformat": 4,
		 "nbformat_minor": 0
}
