{
"cells": [
 {
		   "cell_type": "markdown",
	   "metadata": {},
	   "source": [
       "# Chapter 19: DC Motors"
	   ]
	},
{
		   "cell_type": "markdown",
		   "metadata": {},
		   "source": [
			"## Example 19.10: Example_on_Speed_Control_of_DC_Motors.sce"
		   ]
		  },
  {
"cell_type": "code",
	   "execution_count": null,
	   "metadata": {
	    "collapsed": true
	   },
	   "outputs": [],
"source": [
"\n",
"V=500//applied voltage\n",
"N1=700//initial speed of motor\n",
"Ia1=50//armature current\n",
"Ra=.4//effective armature resistance\n",
"Eb1=V-Ia1*Ra\n",
"N2=600//reduced speeed of motor\n",
"Ia2=Ia1//as torque and flux remains same\n",
"//back emf is directly proportional to speed\n",
"R=((V-Ia2*Ra)*N1-Eb1*N2)/(Ia2*N1)\n",
"mprintf('Additional resistance in the armature circuit is %f ohm',R)"
   ]
   }
,
{
		   "cell_type": "markdown",
		   "metadata": {},
		   "source": [
			"## Example 19.11: Example_on_Speed_Control_of_DC_Motors.sce"
		   ]
		  },
  {
"cell_type": "code",
	   "execution_count": null,
	   "metadata": {
	    "collapsed": true
	   },
	   "outputs": [],
"source": [
"\n",
"R=.25+.05//total resistance of the armature circuit\n",
"N1=500//normal speed\n",
"V=250//applied voltage\n",
"Ia1=100//armature current at normal speed\n",
"Eb1=V-Ia1*R\n",
"//solving part (i)\n",
"R1=R+1//total resisitance in the armature circuit\n",
"Ia2=50//armature current\n",
"Eb2=V-Ia2*R1\n",
"//back emf is directly proportional to speed\n",
"N2=Eb2/Eb1*N1\n",
"mprintf('For(i)\nSpeed=%d rpm\n',round(N2))\n",
"//solving part (ii)\n",
"Ia3=50//armature current\n",
"Eb3=V-Ia3*R\n",
"//Ish3=.6*Ish1-->phi3/phi1=.6\n",
"//back emf is directly proportional to flux and speed\n",
"N3=(Eb3/Eb1)*N1/.6\n",
"mprintf('For(ii)\nSpeed=%d rpm', N3)"
   ]
   }
,
{
		   "cell_type": "markdown",
		   "metadata": {},
		   "source": [
			"## Example 19.12: Example_on_Speed_Control_of_DC_Motors.sce"
		   ]
		  },
  {
"cell_type": "code",
	   "execution_count": null,
	   "metadata": {
	    "collapsed": true
	   },
	   "outputs": [],
"source": [
"\n",
"//solving (i)\n",
"Il=70//current drawn by the motor\n",
"V=200//applied voltage\n",
"Rsh=100//shunt field resistance\n",
"Ish=V/Rsh//shunt field current\n",
"Ia1=Il-Ish\n",
"N1=500//initial speed\n",
"Ra1=.2//armature resistance\n",
"Eb1=200-Ia1*Ra1\n",
"N2=350//reduced speed of motor\n",
"Ia2=Ia1//armature current remains same\n",
"//Eb2=200-68*(R+.2)\n",
"//back emf is proportional to speed\n",
"R=((V-Ia2*Ra1)*N1-Eb1*N2)/(Ia2*N1)\n",
"mprintf('Additional resistance in the armature circuit=%f ohm\n',R)\n",
"//solving (ii)\n",
"Ra2=R+Ra1//armature resistance\n",
"Ia3=35//armature current\n",
"Eb3=V-Ia3*Ra2\n",
"N3=N1*Eb3/Eb1\n",
"mprintf('Speed=%d rpm',N3)\n",
"//answer vary from the textbook due to round off error"
   ]
   }
,
{
		   "cell_type": "markdown",
		   "metadata": {},
		   "source": [
			"## Example 19.13: Example_on_Speed_Control_of_DC_Motors.sce"
		   ]
		  },
  {
"cell_type": "code",
	   "execution_count": null,
	   "metadata": {
	    "collapsed": true
	   },
	   "outputs": [],
"source": [
"\n",
"V=250//voltage applied to the motor\n",
"Eb1=V//Ra is negligible\n",
"N1=500//speed in rpm\n",
"Ia1=40//armature current\n",
"R=25//additional resistance\n",
"//as flux remains same, back emf is directly proportional to speed; and torque is directly proportional to armature current\n",
"//Eb2=250-Ia2*25, N2=500-50*Ia2\n",
"//also, torque varies as cube of speed\n",
"//from these conditions, we get, Ia2^3-30*Ia2^2+325*Ia2-1000=0\n",
"//solving this equation, we get\n",
"Ia2=5\n",
"N2=(Ia2/Ia1)^(1/3)*N1\n",
"mprintf('Speed of the motor with 25 ohm resistor in the armature circuit=%d rpm',N2)"
   ]
   }
,
{
		   "cell_type": "markdown",
		   "metadata": {},
		   "source": [
			"## Example 19.1: Example_on_Torque_and_Speed.sce"
		   ]
		  },
  {
"cell_type": "code",
	   "execution_count": null,
	   "metadata": {
	    "collapsed": true
	   },
	   "outputs": [],
"source": [
"\n",
"//calculating torque deveoped\n",
"P=6//no. of poles \n",
"A=6//no. of parallel circuits\n",
"Ia=300//armature current\n",
"n=500//no. of armature turns\n",
"Z=2*500//total no. of conductors\n",
"phi=75D-3//flux per pole\n",
"Ta=.159*P*phi*Ia*Z/A\n",
"mprintf('Torque developed=%f N-m\n',Ta)\n",
"//calculating shaft torque\n",
"T=2.5*Ta/100//torque lost in windage, friction and iron losses\n",
"Tsh=Ta-T\n",
"mprintf('Shaft torque=%f N-m\n',Tsh)\n",
"//calculating shaft power\n",
"N=400//speed in rpm\n",
"Psh=2*%pi*N*Tsh/60\n",
"mprintf('Shaft power=%f kW',Psh/1000)\n",
"//answer vary from the textbook due to round off error"
   ]
   }
,
{
		   "cell_type": "markdown",
		   "metadata": {},
		   "source": [
			"## Example 19.2: Example_on_Torque_and_Speed.sce"
		   ]
		  },
  {
"cell_type": "code",
	   "execution_count": null,
	   "metadata": {
	    "collapsed": true
	   },
	   "outputs": [],
"source": [
"\n",
"//calculating torque developed by armature\n",
"V=200//voltage applied across the motor\n",
"Rsh=40//resistance of shunt field winding\n",
"Ish=V/Rsh\n",
"I=100//total current drawn by motor\n",
"Ia=I-Ish\n",
"Ra=.1//armature resistance\n",
"Eb=V-Ia*Ra\n",
"P=Eb*Ia//mechanical power developed\n",
"N=750//speed in rpm\n",
"Ta=60*P/(2*%pi*N)\n",
"mprintf('Torque developed by armature=%f N-m\n',Ta)\n",
"//calculating copper losses\n",
"Wcu1=V*Ia-Eb*Ia//armature copper losses\n",
"Wcu2=Ish^2*Rsh//field copper losses\n",
"mprintf('Total copper losses=%f W\n',Wcu1+Wcu2)\n",
"//calculating shaft power\n",
"Wc=1500//friction and iron losses\n",
"Pi=200*100//input to motor\n",
"Psh=Pi-(Wc+Wcu1+Wcu2)\n",
"mprintf('Shaft power=%f kW\n',Psh/1000)\n",
"//calculating shaft torque\n",
"Tsh=60*Psh/(2*%pi*N)\n",
"mprintf('Shaft torque=%f N-m\n',Tsh)\n",
"//calculating efficiency\n",
"e=Psh/Pi*100\n",
"mprintf('Efficiency=%f percent',e)"
   ]
   }
,
{
		   "cell_type": "markdown",
		   "metadata": {},
		   "source": [
			"## Example 19.3: Example_on_Torque_and_Speed.sce"
		   ]
		  },
  {
"cell_type": "code",
	   "execution_count": null,
	   "metadata": {
	    "collapsed": true
	   },
	   "outputs": [],
"source": [
"\n",
"Po=60D+3//full load output of the motor \n",
"e=0.905//efficiency of the motor\n",
"Pin=Po/e\n",
"V=400//applied voltage\n",
"I=Pin/V//line current drawn by the motor\n",
"Rsh=200//resistance of the shunt field winding\n",
"Ish=V/Rsh\n",
"Ia=I-Ish\n",
"Ra=0.1//armature resistance\n",
"Eb=V-Ia*Ra\n",
"A=2//no. of parallel paths in armature winding\n",
"P=4//no. of poles\n",
"phi=45D-3//flux per pole\n",
"Z=450//total number of conductors\n",
"N=round(60*Eb*A/(P*phi*Z))\n",
"mprintf('Full load speed=%d rpm\n',N)\n",
"//calculating armature torque\n",
"Ta=0.159*P*phi*Ia*Z/A\n",
"mprintf('Torque developed by the armature of the DC motor=%f N-m\n',Ta)\n",
"//calculating useful torque\n",
"Psh=60D+3//shaft power\n",
"Tsh=60*Psh/(2*%pi*N)\n",
"mprintf('Useful torque=%f N-m',Tsh)\n",
"//error in the textbook answer for useful torque"
   ]
   }
,
{
		   "cell_type": "markdown",
		   "metadata": {},
		   "source": [
			"## Example 19.4: Example_on_Torque_and_Speed.sce"
		   ]
		  },
  {
"cell_type": "code",
	   "execution_count": null,
	   "metadata": {
	    "collapsed": true
	   },
	   "outputs": [],
"source": [
"\n",
"V=220//voltage applied to motor\n",
"Rsh=157//shunt field resistance\n",
"Ra=0.3//armature resistance\n",
"Ish=V/Rsh\n",
"I0=4.5//current drawn by the motor at no load\n",
"Ia0=I0-Ish\n",
"Eb0=V-Ia0*Ra\n",
"//under loaded conditions,\n",
"I=30//current drawn by motor\n",
"Ia=I-Ish\n",
"Eb=V-Ia*Ra\n",
"//phi=.97*phi0\n",
"//back emf is directly proportional to flux and speed\n",
"N0=1000//speed at no load\n",
"N=Eb*N0/(Eb0*.97)\n",
"mprintf('Speed under loaded condition=%d rpm', round(N))"
   ]
   }
,
{
		   "cell_type": "markdown",
		   "metadata": {},
		   "source": [
			"## Example 19.5: Example_on_Torque_and_Speed.sce"
		   ]
		  },
  {
"cell_type": "code",
	   "execution_count": null,
	   "metadata": {
	    "collapsed": true
	   },
	   "outputs": [],
"source": [
"\n",
"//calculating shaft power\n",
"V=100//voltage applied to series motor\n",
"Ra=.22//armature resistance\n",
"Rse=.13//series field resistance\n",
"Rm=Ra+Rse//total resistance\n",
"Ia=45//current in armature circuit\n",
"Eb=V-Ia*Rm\n",
"Pm=Eb*Ia//mechanical power developed\n",
"Wc=750//iron and friction losses\n",
"Psh=Pm-Wc\n",
"mprintf('Shaft power=%f kW\n',Psh/1000)\n",
"//calculating torque developed\n",
"N=750//speed in rpm\n",
"Ta=60*Pm/(2*%pi*N)\n",
"mprintf('Total torque=%f N-m\n',Ta)\n",
"//calculating shaft torque\n",
"Tsh=60*Psh/(2*%pi*N)\n",
"mprintf('Shaft torque=%f N-m',Tsh)"
   ]
   }
,
{
		   "cell_type": "markdown",
		   "metadata": {},
		   "source": [
			"## Example 19.6: Example_on_Torque_and_Speed.sce"
		   ]
		  },
  {
"cell_type": "code",
	   "execution_count": null,
	   "metadata": {
	    "collapsed": true
	   },
	   "outputs": [],
"source": [
"\n",
"//calculating speed\n",
"P=4//no. of poles\n",
"V=220//applied voltage\n",
"Ia=46//current in armature circuit\n",
"Ra=.25//field resistance\n",
"Rse=.15//series field resistance\n",
"Rm=Ra+Rse\n",
"Eb=V-Ia*Rm\n",
"A=2//no. of parallel circuits\n",
"phi=20D-3//flux per pole\n",
"Z=1200//total conductors on armature\n",
"N=round(60*Eb*A/(P*phi*Z))\n",
"mprintf('Speed, N=%d rpm\n', N)\n",
"//calculating total torque\n",
"Ta=.159*P*phi*Ia*Z/A\n",
"mprintf('Total torque=%f N-m\n',Ta)\n",
"//calculating shaft power\n",
"Pm=Eb*Ia//mechanical power developed\n",
"Wc=900//iron and friction losses\n",
"Po=Pm-Wc\n",
"mprintf('Shaft power=%f kW\n',Po/1000)\n",
"//calculating shaft torque\n",
"Tsh=60*Po/(2*%pi*N)\n",
"mprintf('Shaft torque Tsh=%f N-m\n', Tsh)\n",
"//calculating efficiency\n",
"Pin=V*Ia//input to motor\n",
"e=Po/Pin*100\n",
"mprintf('Efficiency=%f percent',e)"
   ]
   }
,
{
		   "cell_type": "markdown",
		   "metadata": {},
		   "source": [
			"## Example 19.7: Example_on_Torque_and_Speed.sce"
		   ]
		  },
  {
"cell_type": "code",
	   "execution_count": null,
	   "metadata": {
	    "collapsed": true
	   },
	   "outputs": [],
"source": [
"\n",
"//working as motor\n",
"V1=110//applied voltage to motor\n",
"Rsh=45//shunt field resistance\n",
"Ish1=V1/Rsh//shunt field current\n",
"Il=230\n",
"Ia1=Il-Ish1\n",
"Ra=.03//armature resistance\n",
"Eb1=V1-Ia1*Ra\n",
"N1=450//speed in rpm\n",
"V2=210//changed value of applied voltage\n",
"Ish2=V2/Rsh\n",
"Il=85//current drawn by the motor from the main\n",
"Ia2=Il-Ish2\n",
"Eb2=V2-Ia2*Ra\n",
"//back emf is directly proportional to shunt field current and speed\n",
"N2=(Eb2/Eb1)*(Ish1/Ish2)*N1\n",
"mprintf('Speed of the motor=%d rpm\n',N2)\n",
"//working as generator\n",
"V=200//terminal voltage across the load\n",
"Ish3=V/Rsh\n",
"Il=140//load current on the generator\n",
"Ia3=Il+Ish3\n",
"Eg=V+Ia3*Ra\n",
"N3=(Eg/Eb1)*(Ish1/Ish3)*N1\n",
"mprintf('Speed at which generator would have to run=%d rpm',N3)\n",
"//answers vary from the textbook due to round off error"
   ]
   }
,
{
		   "cell_type": "markdown",
		   "metadata": {},
		   "source": [
			"## Example 19.8: Example_on_Speed_Control_of_DC_Motors.sce"
		   ]
		  },
  {
"cell_type": "code",
	   "execution_count": null,
	   "metadata": {
	    "collapsed": true
	   },
	   "outputs": [],
"source": [
"\n",
"V=230//voltage applied to motor\n",
"N1=1000//initial speed\n",
"Ia=35//armature current\n",
"Ra=.3//resistance of armature circuit\n",
"Eb1=V-Ia*Ra\n",
"N1=1000//speed in rpm\n",
"Ia=25//armature current in new situation\n",
"N2=750//changed speed in rpm\n",
"//back emf is directly proportional to speed\n",
"R=((V-Ia*Ra)*N1-N2*Eb1)/(Ia*N1)\n",
"mprintf('Additional resistance in armature circuit=%f ohm',R)"
   ]
   }
,
{
		   "cell_type": "markdown",
		   "metadata": {},
		   "source": [
			"## Example 19.9: Example_on_Speed_Control_of_DC_Motors.sce"
		   ]
		  },
  {
"cell_type": "code",
	   "execution_count": null,
	   "metadata": {
	    "collapsed": true
	   },
	   "outputs": [],
"source": [
"\n",
"N1=600//initial speed of the motor in rpm\n",
"Ia1=20//armature current\n",
"V=200//applied voltage\n",
"Ra=.4//armature resistance\n",
"Eb1=V-Ia1*Ra\n",
"Rf1=200//field resistance\n",
"If1=200/200//field current\n",
"N2=900//increased speed in rpm\n",
"//If2=200/Rf\n",
"//phi1/phi2=If1/If2=Rf/200\n",
"//Ia2=Ia1*phi1/phi2=.1*Rf\n",
"//Eb2=200-.04*Rf \n",
"//back emf is directly proportional to flux and speed\n",
"//we get a quadratic equation in Rf as .04*Rf^2-200*Rf+57600=0\n",
"//solving for Rf\n",
"Rf2=(200-sqrt(200^2-4*.04*57600))/(2*.04)\n",
"mprintf('Additional resistance in the shunt field circuit=%f ohm',Rf2-Rf1)\n",
""
   ]
   }
],
"metadata": {
		  "kernelspec": {
		   "display_name": "Scilab",
		   "language": "scilab",
		   "name": "scilab"
		  },
		  "language_info": {
		   "file_extension": ".sce",
		   "help_links": [
			{
			 "text": "MetaKernel Magics",
			 "url": "https://github.com/calysto/metakernel/blob/master/metakernel/magics/README.md"
			}
		   ],
		   "mimetype": "text/x-octave",
		   "name": "scilab",
		   "version": "0.7.1"
		  }
		 },
		 "nbformat": 4,
		 "nbformat_minor": 0
}
