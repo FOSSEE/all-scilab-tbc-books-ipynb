{
"cells": [
 {
		   "cell_type": "markdown",
	   "metadata": {},
	   "source": [
       "# Chapter 16: Electromechanical Energy Conversion"
	   ]
	},
{
		   "cell_type": "markdown",
		   "metadata": {},
		   "source": [
			"## Example 16.2: Example_on_Electromechanical_Energy_Conversion_Devices.sce"
		   ]
		  },
  {
"cell_type": "code",
	   "execution_count": null,
	   "metadata": {
	    "collapsed": true
	   },
	   "outputs": [],
"source": [
"\n",
"i=3//current in coil\n",
"x=5D-2//length of air gap\n",
"lambda=sqrt(i/(121*x^2))\n",
"//calculating field energy W_f\n",
"W_f=integrate('121*lambda^2*.05^2','lambda', 0, lambda)\n",
"mprintf('Field energy stored=%f watt-sec\n', W_f)\n",
"//calculating coenergy\n",
"W_f_dash=integrate('i^.5/(11*.05)','i',0, i)\n",
"mprintf('Co-energy=%f watt-sec\n', W_f_dash)\n",
"//calculating mechanical force on moving part-keeping lambda constant\n",
"function y=f(x)\n",
"    y=121*x^2*lambda^3/3\n",
"endfunction\n",
"F_f=-1*derivative(f,x)\n",
"mprintf('Mechanical force developed F_f=%d N-m', round(F_f))"
   ]
   }
,
{
		   "cell_type": "markdown",
		   "metadata": {},
		   "source": [
			"## Example 16.3: Example_on_Electromechanical_Energy_Conversion_Devices.sce"
		   ]
		  },
  {
"cell_type": "code",
	   "execution_count": null,
	   "metadata": {
	    "collapsed": true
	   },
	   "outputs": [],
"source": [
"\n",
"mu_not=4D-7*%pi\n",
"i=120/6  //current flowing in coil\n",
"N=300  //no. of turns\n",
"x=.005  //length of air gap\n",
"Ag=36D-4  //cross-sectional area at gap\n",
"//calculating stored field energy\n",
"W_f=mu_not*N^2*Ag*i^2/(4*x)\n",
"mprintf('Stored field energy=%f watt-sec\n', W_f)\n",
"//calculating mechanical force developed\n",
"F_f=mu_not*N^2*i^2*Ag/(4*x^2)\n",
"mprintf('Mechanical force developed=%f N-m', F_f)"
   ]
   }
],
"metadata": {
		  "kernelspec": {
		   "display_name": "Scilab",
		   "language": "scilab",
		   "name": "scilab"
		  },
		  "language_info": {
		   "file_extension": ".sce",
		   "help_links": [
			{
			 "text": "MetaKernel Magics",
			 "url": "https://github.com/calysto/metakernel/blob/master/metakernel/magics/README.md"
			}
		   ],
		   "mimetype": "text/x-octave",
		   "name": "scilab",
		   "version": "0.7.1"
		  }
		 },
		 "nbformat": 4,
		 "nbformat_minor": 0
}
