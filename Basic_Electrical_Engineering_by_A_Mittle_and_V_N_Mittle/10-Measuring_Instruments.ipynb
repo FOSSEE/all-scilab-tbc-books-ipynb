{
"cells": [
 {
		   "cell_type": "markdown",
	   "metadata": {},
	   "source": [
       "# Chapter 10: Measuring Instruments"
	   ]
	},
{
		   "cell_type": "markdown",
		   "metadata": {},
		   "source": [
			"## Example 10.1: Example_on_Moving_Coil_Instruments.sce"
		   ]
		  },
  {
"cell_type": "code",
	   "execution_count": null,
	   "metadata": {
	    "collapsed": true
	   },
	   "outputs": [],
"source": [
"\n",
"//calculating resistance of the shunt\n",
"i=20D-3  //current throught the coil\n",
"r=4  //resistance of coil\n",
"V=i*r\n",
"I=2  //total current to be measured\n",
"Is=I-i  //current through shunt\n",
"R=V/Is  //Ohm's law\n",
"mprintf('Resistance of the shunt=%f ohm\n', R)\n",
"//solving part (ii)\n",
"V=30  //voltage to be measured\n",
"R=V/i-r\n",
"mprintf('Resistance to be connected in series with moving coil=%d ohm', R)"
   ]
   }
,
{
		   "cell_type": "markdown",
		   "metadata": {},
		   "source": [
			"## Example 10.2: Example_on_Moving_Coil_Instruments.sce"
		   ]
		  },
  {
"cell_type": "code",
	   "execution_count": null,
	   "metadata": {
	    "collapsed": true
	   },
	   "outputs": [],
"source": [
"\n",
"i=20D-3  //current throught the coil\n",
"r=4  //resistance of coil\n",
"V=30  //voltage to be measured\n",
"R=(V-r*i)/i  //resistance in series to read upto 30 V\n",
"//to read upto 60 V\n",
"V=60\n",
"R1=V/i-r\n",
"mprintf('Additional resistance needed to read upto 60 V=%d ohm\n', R1-R)\n",
"//to read upto 90 V\n",
"V=90\n",
"R2=V/i-r\n",
"mprintf('Additional resistance needed to read upto 90V=%d ohm',R2-R1)\n",
""
   ]
   }
,
{
		   "cell_type": "markdown",
		   "metadata": {},
		   "source": [
			"## Example 10.3: Example_on_Moving_Coil_Instruments.sce"
		   ]
		  },
  {
"cell_type": "code",
	   "execution_count": null,
	   "metadata": {
	    "collapsed": true
	   },
	   "outputs": [],
"source": [
"\n",
"i=20D-3  //current throught the coil\n",
"r=4  //resistance of coil\n",
"V=i*r\n",
"//when total current to be measured=2 A\n",
"Is=2-i  //shunt current\n",
"R1=V/Is\n",
"mprintf('Resistance of shunt for 2A range=%f ohm\n',R1)\n",
"//when total current to be measured=4 A\n",
"Is=4-i  //shunt current\n",
"R2=V/Is\n",
"mprintf('Resistance of shunt for 4A range=%f ohm\n', R2)\n",
"//when total current to be measured=6 A\n",
"Is=6-i  //shunt current\n",
"R3=V/Is\n",
"mprintf('Resistance of shunt for 6A range=%f ohm',R3)"
   ]
   }
,
{
		   "cell_type": "markdown",
		   "metadata": {},
		   "source": [
			"## Example 10.4: Example_on_Moving_Coil_Instruments.sce"
		   ]
		  },
  {
"cell_type": "code",
	   "execution_count": null,
	   "metadata": {
	    "collapsed": true
	   },
	   "outputs": [],
"source": [
"\n",
"//calculating deflecting torque\n",
"N=50  //no. of turns in coil\n",
"B=.12  //flux density in Wb/m^2\n",
"A=5D-4  //area of coil in m^2\n",
"I=15D-3  //current through coil\n",
"Td=N*B*A*I\n",
"mprintf('Deflecting torque=%fD-6 N-m\n',Td*10^6)\n",
"//calculating deflection of pointer\n",
"C=18D-7  //constant for spring in N-m per degree\n",
"Tc=Td  //controlling torque\n",
"theta=Tc/C\n",
"mprintf('Deflection=%d degrees', theta)\n",
""
   ]
   }
,
{
		   "cell_type": "markdown",
		   "metadata": {},
		   "source": [
			"## Example 10.5: Example_on_Moving_Coil_Instruments.sce"
		   ]
		  },
  {
"cell_type": "code",
	   "execution_count": null,
	   "metadata": {
	    "collapsed": true
	   },
	   "outputs": [],
"source": [
"\n",
"N=80  //no. of turns in coil\n",
"B=.5  //flux density\n",
"A=15D-4  //area of coil\n",
"Tc=2D-4  //controlling torque at full scale deflection\n",
"Td=Tc  //under final steady condition\n",
"I=Td/(N*B*A)\n",
"n=100  //no. of divisions\n",
"v=2  //voltage measured per division\n",
"V=n*v  //at full scale deflection\n",
"R=V/I\n",
"mprintf('Series resistance=%f ohm',R)"
   ]
   }
,
{
		   "cell_type": "markdown",
		   "metadata": {},
		   "source": [
			"## Example 10.6: Example_on_Moving_Coil_Instruments.sce"
		   ]
		  },
  {
"cell_type": "code",
	   "execution_count": null,
	   "metadata": {
	    "collapsed": true
	   },
	   "outputs": [],
"source": [
"\n",
"//calculating resistance of manganin shunt to extend range to 1 A\n",
"R=10  //resistance of instrument coil\n",
"I=10D-3  //current through coil\n",
"V=I*R\n",
"Is=1-I  //shunt current\n",
"r=V/Is\n",
"mprintf('Resistance of manganin shunt to extend range to 1 A=%f ohm\n', r)\n",
"//calculating value of series resistance to extend the range to 15 V\n",
"v=15-V  //voltage across series resistance\n",
"Rs=v/I\n",
"mprintf('Series resistance to be connected to extend range to 15 V=%d ohm', Rs)"
   ]
   }
],
"metadata": {
		  "kernelspec": {
		   "display_name": "Scilab",
		   "language": "scilab",
		   "name": "scilab"
		  },
		  "language_info": {
		   "file_extension": ".sce",
		   "help_links": [
			{
			 "text": "MetaKernel Magics",
			 "url": "https://github.com/calysto/metakernel/blob/master/metakernel/magics/README.md"
			}
		   ],
		   "mimetype": "text/x-octave",
		   "name": "scilab",
		   "version": "0.7.1"
		  }
		 },
		 "nbformat": 4,
		 "nbformat_minor": 0
}
