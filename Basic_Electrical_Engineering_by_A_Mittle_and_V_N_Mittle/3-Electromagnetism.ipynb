{
"cells": [
 {
		   "cell_type": "markdown",
	   "metadata": {},
	   "source": [
       "# Chapter 3: Electromagnetism"
	   ]
	},
{
		   "cell_type": "markdown",
		   "metadata": {},
		   "source": [
			"## Example 3.2: Example_on_Field_Strength_and_Flux_Density.sce"
		   ]
		  },
  {
"cell_type": "code",
	   "execution_count": null,
	   "metadata": {
	    "collapsed": true
	   },
	   "outputs": [],
"source": [
"\n",
"mu_not=4D-7*%pi\n",
"N=150  //no. of turns of coil\n",
"I=4  //current carried by coil\n",
"l=.3  //length of solenoid in mtrs\n",
"Bc=mu_not*N*I/l\n",
"mprintf('Flux density at centre =%f*10^-3 Wb/m^2', Bc*10^3)"
   ]
   }
,
{
		   "cell_type": "markdown",
		   "metadata": {},
		   "source": [
			"## Example 3.3: Example_on_Field_Strength_and_Flux_Density.sce"
		   ]
		  },
  {
"cell_type": "code",
	   "execution_count": null,
	   "metadata": {
	    "collapsed": true
	   },
	   "outputs": [],
"source": [
"\n",
"mu_not=4D-7*%pi\n",
"//calculating flux density at centre of coil B=mu_not*I/(2*R)\n",
"I=50\n",
"R=4D-2\n",
"B=mu_not*I/(2*R)\n",
"mprintf('Flux density at centre of coil=%f*10^-6 Wb/m^2(Tesla)\n', B*10^6)\n",
"//calculating flux density perpendicular to plane of coil at a distance of 10 cm from it\n",
"z=10D-2\n",
"B=mu_not*I*R^2/(2*(R^2+z^2)^1.5)\n",
"mprintf('Flux density perpendicular to plane of coil at a distance of 10 cm from it=%f*10^-6 Wb/m^2(Tesla)', B*10^6)"
   ]
   }
,
{
		   "cell_type": "markdown",
		   "metadata": {},
		   "source": [
			"## Example 3.4: Example_of_Force_on_on_Current_Carrying_Conductor.sce"
		   ]
		  },
  {
"cell_type": "code",
	   "execution_count": null,
	   "metadata": {
	    "collapsed": true
	   },
	   "outputs": [],
"source": [
"\n",
"\n",
"mu_not=4D-7*%pi\n",
"I1=30//current in wire A\n",
"I2=30//current in wire B\n",
"R=10D-2//distance b/w 2 wires\n",
"F=mu_not*I1*I2/(2*%pi*R)\n",
"mprintf('Force per metre length is %d*10^-4 N/m in both cases (i)and (ii). However in case(i), it is attractive and in case(ii), it is repulsive', F*10^4)"
   ]
   }
,
{
		   "cell_type": "markdown",
		   "metadata": {},
		   "source": [
			"## Example 3.5: Example_of_Force_on_on_Current_Carrying_Conductor.sce"
		   ]
		  },
  {
"cell_type": "code",
	   "execution_count": null,
	   "metadata": {
	    "collapsed": true
	   },
	   "outputs": [],
"source": [
"\n",
"B=.06//flux density\n",
"I=40D-3//current in coil\n",
"l=4D-2//length of coil side\n",
"F=B*I*l\n",
"N=50//no. of turns\n",
"mprintf('Force acting on each coil side=%f*10^-3 N',F*N*10^3)"
   ]
   }
],
"metadata": {
		  "kernelspec": {
		   "display_name": "Scilab",
		   "language": "scilab",
		   "name": "scilab"
		  },
		  "language_info": {
		   "file_extension": ".sce",
		   "help_links": [
			{
			 "text": "MetaKernel Magics",
			 "url": "https://github.com/calysto/metakernel/blob/master/metakernel/magics/README.md"
			}
		   ],
		   "mimetype": "text/x-octave",
		   "name": "scilab",
		   "version": "0.7.1"
		  }
		 },
		 "nbformat": 4,
		 "nbformat_minor": 0
}
