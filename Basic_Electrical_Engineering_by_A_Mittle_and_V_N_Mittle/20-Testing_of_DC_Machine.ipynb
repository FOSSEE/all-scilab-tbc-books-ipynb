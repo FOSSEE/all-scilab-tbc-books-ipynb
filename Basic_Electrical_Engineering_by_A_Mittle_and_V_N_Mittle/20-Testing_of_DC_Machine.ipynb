{
"cells": [
 {
		   "cell_type": "markdown",
	   "metadata": {},
	   "source": [
       "# Chapter 20: Testing of DC Machine"
	   ]
	},
{
		   "cell_type": "markdown",
		   "metadata": {},
		   "source": [
			"## Example 20.1: Example_on_losses_in_DC_Machine.sce"
		   ]
		  },
  {
"cell_type": "code",
	   "execution_count": null,
	   "metadata": {
	    "collapsed": true
	   },
	   "outputs": [],
"source": [
"\n",
"E1=400//eddy current losses\n",
"//for a machine, eddy current losses is directly proportional to Bmax^2 and f^2\n",
"//Bmax is proportional to flux\n",
"//f is proportional to speed\n",
"//when speed and flux increased by 10%\n",
"E2=1.1^2*1.1^2*E1 //Eddy current losses under changed condition\n",
"mprintf('Increase in eddy current losses=%f W', E2-E1)"
   ]
   }
,
{
		   "cell_type": "markdown",
		   "metadata": {},
		   "source": [
			"## Example 20.2: Example_on_losses_in_DC_Machine.sce"
		   ]
		  },
  {
"cell_type": "code",
	   "execution_count": null,
	   "metadata": {
	    "collapsed": true
	   },
	   "outputs": [],
"source": [
"\n",
"N=1500//speed in rpm\n",
"E1=300//hysteresis losses\n",
"//E1=k1*N\n",
"k1=E1/N\n",
"E2=150//eddy current losses\n",
"//E2=k2*N^2\n",
"k2=E2/N^2\n",
"E=E1+E2//total iron losses\n",
"//when iron losses are reduced to half\n",
"//k1*N1+k2*N1^2=.5*E\n",
"//solving for N1\n",
"N1=(-k1+sqrt(k1^2-4*k2*(-.5*E)))/(2*k2)\n",
"mprintf('Total iron losses will be halved if speed is reduced to %d rpm', round(N1))\n",
""
   ]
   }
,
{
		   "cell_type": "markdown",
		   "metadata": {},
		   "source": [
			"## Example 20.3: Example_on_losses_in_DC_Machine.sce"
		   ]
		  },
  {
"cell_type": "code",
	   "execution_count": null,
	   "metadata": {
	    "collapsed": true
	   },
	   "outputs": [],
"source": [
"\n",
"//calculating efficiency at full load\n",
"Il=200  //current supplied\n",
"Rsh=100  //shunt field resistance\n",
"V=500  //terminal voltage\n",
"Ish=V/Rsh\n",
"Ia=Il+Ish\n",
"Wcu=Ia^2*.1  //armature copper losses\n",
"Wc=4000 //constant losses including field copper losses\n",
"Wt=Wcu+Wc  //total losses\n",
"Po=V*Il  //output power\n",
"e=Po*100/(Po+Wt)\n",
"mprintf('Efficiency at full load=%f percent\n', e)\n",
"//Calculating efficiency at half load\n",
"Il=200/2\n",
"Ia=Il+Ish\n",
"Wcu=Ia^2*.1\n",
"Wt=Wc+Wcu\n",
"Po=V*Il\n",
"e=Po*100/(Po+Wt)\n",
"mprintf('Efficiency at half load=%f percent\n', e)\n",
"//Calculating efficiency at 1.5 times the full load\n",
"Il=1.5*200\n",
"Ia=Il+Ish\n",
"Wcu=Ia^2*.1\n",
"Wt=Wc+Wcu\n",
"Po=V*Il\n",
"e=Po*100/(Po+Wt)\n",
"mprintf('Efficiency at 1.5 times the full load=%f percent', e)"
   ]
   }
,
{
		   "cell_type": "markdown",
		   "metadata": {},
		   "source": [
			"## Example 20.4: Example_on_losses_in_DC_Machine.sce"
		   ]
		  },
  {
"cell_type": "code",
	   "execution_count": null,
	   "metadata": {
	    "collapsed": true
	   },
	   "outputs": [],
"source": [
"\n",
"Po=10D+3  //output power of each motor at full load\n",
"e=.85  //efficiency at full load\n",
"Pi=Po/e\n",
"W=Pi-Po  //total losses at full load for each motor\n",
"//calculating half load efficiency for motor A\n",
"Wc=500  //constant losses\n",
"Wcu1=(W-Wc)/2^2  //copper losses\n",
"W1=Wc+Wcu1  //total losses\n",
"P1=Po/2  //output\n",
"e1=P1/(P1+W1)*100\n",
"mprintf('Efficiency at half load for motor A=%f percent\n', e1)\n",
"//calculating half load efficiency for motor B\n",
"Wc=600  //constant losses\n",
"Wcu2=(W-Wc)/2^2  //copper losses\n",
"W2=Wc+Wcu2  //total losses\n",
"P2=Po/2  //output\n",
"e2=P2/(P2+W2)*100\n",
"mprintf('Efficiency at half load for motor B=%f percent', e2)"
   ]
   }
,
{
		   "cell_type": "markdown",
		   "metadata": {},
		   "source": [
			"## Example 20.5: Example_on_losses_in_DC_Machine.sce"
		   ]
		  },
  {
"cell_type": "code",
	   "execution_count": null,
	   "metadata": {
	    "collapsed": true
	   },
	   "outputs": [],
"source": [
"\n",
"//calculating power required at the driving shaft at full load\n",
"Po=30D+3  //output power of dc shunt generator\n",
"Wi=1300  //mechanical and iron losses\n",
"Rsh=125  //shunt field resistance\n",
"V=250  //terminal voltage\n",
"Ra=.13  //armature resistance\n",
"Ish=V/Rsh\n",
"Wcu=V*Ish  //shunt field copper losses\n",
"Wc=Wi+Wcu  //constant losses of generator\n",
"Il=Po/V\n",
"Ia=Il+Ish\n",
"Wcu=Ia^2*Ra  //armature copper loss\n",
"Wt=Wc+Wcu  //total losses\n",
"Pi=Po+Wt\n",
"mprintf('Power required at the driving shaft at full load=%f kW\n', Pi/10^3)\n",
"//calculating efficiency at full load\n",
"e=Po/Pi*100\n",
"mprintf('Efficiency at full load=%f percent\n', e)\n",
"//calculating efficiency at half load\n",
"Il=(Po/2)/V\n",
"Ia=Il+Ish\n",
"Wcu=Ia^2*Ra  //copper losses\n",
"Wt=Wc+Wcu  //total losses\n",
"e=(Po/2)/(Po/2+Wt)*100\n",
"mprintf('Efficiency at half load=%f percent\n', e)\n",
"//at maximum efficiency\n",
"Wcu=Wc  //copper losses\n",
"Ia=sqrt(Wcu/Ra)\n",
"Il=Ia-Ish\n",
"mprintf('Power output at max efficiency=%f kW\n',Il*V/10^3)\n",
"//calculating max efficiency\n",
"e_max=Il*V/(Il*V+2*Wc)*100\n",
"mprintf('Max efficiency=%f percent', e_max)\n",
"//answer vary from the textbook due to round off error"
   ]
   }
,
{
		   "cell_type": "markdown",
		   "metadata": {},
		   "source": [
			"## Example 20.6: Example_on_losses_in_DC_Machine.sce"
		   ]
		  },
  {
"cell_type": "code",
	   "execution_count": null,
	   "metadata": {
	    "collapsed": true
	   },
	   "outputs": [],
"source": [
"\n",
"V=500  //voltage applied to motor\n",
"Ra=.2  //armature resistance\n",
"Il0=4  //no load current taken by motor\n",
"Ish=1  //shunt current\n",
"Pi=V*Il0  //power input at no load\n",
"Ia0=Il0-Ish\n",
"Wcu=Ia0^2*Ra  //armature copper losses at no load\n",
"Wc=Pi-Wcu  //constant losses\n",
"//when input current=20 A\n",
"Il=20\n",
"Ia=Il-Ish\n",
"Wcu=Ia^2*Ra  //armature copper losses\n",
"Wt=Wc+Wcu  //total losses\n",
"Pi=V*Il  //power input to motor\n",
"Po=Pi-Wt\n",
"e=Po/Pi*100\n",
"mprintf('When input current=20 A, output is %f W and efficiency of motor is %f percent\n',Po, e)\n",
"//when input current =100 A\n",
"Il=100\n",
"Ia=Il-Ish\n",
"Wcu=Ia^2*Ra  //armature copper losses\n",
"Wt=Wc+Wcu  //total losses\n",
"Pi=V*Il  //power input to motor\n",
"Po=Pi-Wt\n",
"e=Po/Pi*100\n",
"mprintf('When input current=100 A, output is %f W and efficiency of motor is %f percent\n', Po,e)"
   ]
   }
,
{
		   "cell_type": "markdown",
		   "metadata": {},
		   "source": [
			"## Example 20.7: Example_on_losses_in_DC_Machine.sce"
		   ]
		  },
  {
"cell_type": "code",
	   "execution_count": null,
	   "metadata": {
	    "collapsed": true
	   },
	   "outputs": [],
"source": [
"\n",
"//shunt generator was run as a shunt motor at no load\n",
"I0=5  //current drawn\n",
"Ish=1.5  //shunt field current\n",
"Ia0=I0-Ish\n",
"Ra=.15  //armature circuit resistance\n",
"V=440  //terminal voltage\n",
"Wcu=Ia0^2*Ra  //armature copper loss\n",
"Pi=V*I0  //power input\n",
"Wc=Pi-Wcu  //constant losses\n",
"//calculating efficiency of shunt generator at full load\n",
"Po=50D+3  //output of generator\n",
"Il=Po/V  //load current\n",
"Ia=Il+Ish\n",
"Wcu=Ia^2*Ra //copper losses\n",
"Wt=Wc+Wcu  //total losses\n",
"e=Po/(Po+Wt)*100\n",
"mprintf('Efficiency of shunt generator at full load=%f percent\n', e)\n",
"//calculating efficiency at 3/4th load\n",
"I1=3/4*Il  //load current\n",
"Ia=I1+Ish\n",
"Wcu=Ia^2*Ra  //copper losses\n",
"Wt=Wc+Wcu  //total losses\n",
"e=(3/4*Po)/(3/4*Po+Wt)*100\n",
"mprintf('Efficiency at 3/4th load=%f percent\n', e)\n",
"//calculating efficiency at half load\n",
"I2=.5*Il  //load current\n",
"Ia=I2+Ish\n",
"Wcu=Ia^2*.15  //copper losses\n",
"Wt=Wc+Wcu  //total losses\n",
"e=(.5*Po)/(.5*Po+Wt)*100\n",
"mprintf('Efficiency at half load=%f percent', e)"
   ]
   }
,
{
		   "cell_type": "markdown",
		   "metadata": {},
		   "source": [
			"## Example 20.8: Example_on_losses_in_DC_Machine.sce"
		   ]
		  },
  {
"cell_type": "code",
	   "execution_count": null,
	   "metadata": {
	    "collapsed": true
	   },
	   "outputs": [],
"source": [
"\n",
"I1=50  //input current from mains\n",
"Po=100D+3  //output of generator on full load in W\n",
"V=500  //terminal voltage\n",
"I2=Po/V  //load current of generator\n",
"Rg=.1  //armature resistance of generator\n",
"Rm=.1  //armature resistance of motor\n",
"Pi=25D+3  //input power from mains\n",
"Pr=(Pi-I2^2*Rg-(I1+I2)^2*Rm)/2  //iron and mechanical losses in each machine\n",
"I3=4  //shunt field current of generator\n",
"I4=3  //shunt field current of motor\n",
"//calculating efficiency of generator\n",
"Wt=Pr+V*I3+I2^2*Rg  //total losses\n",
"e=Po/(Po+Wt)*100\n",
"mprintf('Efficiency of generator=%f percent\n', e)\n",
"//calculating efficiency of motor\n",
"Pi=V*(I1+I2+I4)  //power input\n",
"Wt=Pr+V*I4+(I1+I2)^2*Rm  //total losses\n",
"e=(Pi-Wt)/Pi*100\n",
"mprintf('Efficiency of motor=%f percent', e)"
   ]
   }
],
"metadata": {
		  "kernelspec": {
		   "display_name": "Scilab",
		   "language": "scilab",
		   "name": "scilab"
		  },
		  "language_info": {
		   "file_extension": ".sce",
		   "help_links": [
			{
			 "text": "MetaKernel Magics",
			 "url": "https://github.com/calysto/metakernel/blob/master/metakernel/magics/README.md"
			}
		   ],
		   "mimetype": "text/x-octave",
		   "name": "scilab",
		   "version": "0.7.1"
		  }
		 },
		 "nbformat": 4,
		 "nbformat_minor": 0
}
