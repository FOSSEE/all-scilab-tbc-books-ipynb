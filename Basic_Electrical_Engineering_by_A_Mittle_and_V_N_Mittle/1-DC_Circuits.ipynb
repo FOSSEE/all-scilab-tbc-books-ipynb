{
"cells": [
 {
		   "cell_type": "markdown",
	   "metadata": {},
	   "source": [
       "# Chapter 1: DC Circuits"
	   ]
	},
{
		   "cell_type": "markdown",
		   "metadata": {},
		   "source": [
			"## Example 1.10: Example_on_Thevenin_Theorem.sce"
		   ]
		  },
  {
"cell_type": "code",
	   "execution_count": null,
	   "metadata": {
	    "collapsed": true
	   },
	   "outputs": [],
"source": [
"\n",
"//refer Fig.1.22(a) in the textbook\n",
"//resistance between A and B is removed\n",
"//I1 be current in branch CD\n",
"//applying KCL\n",
"//100-I1 is the current in branch AF\n",
"//I1-50 is the current in branch DE\n",
"//70-I1 is the current in branch FE\n",
"//applying KVL for mesh CDEFC, we get,\n",
"I1=56\n",
"V=.1*I1+.15*(I1-50)  //thevenin's voltage\n",
"r=(.1+.15)*(.1+.15)/(.25+.25)  //thevenin's equivalent resistance\n",
"I=V/(r+.05)\n",
"mprintf('Current flowing in the branch AB of 0.05 ohm resistance is %f A', I) "
   ]
   }
,
{
		   "cell_type": "markdown",
		   "metadata": {},
		   "source": [
			"## Example 1.11: Example_on_Norton_Theorem.sce"
		   ]
		  },
  {
"cell_type": "code",
	   "execution_count": null,
	   "metadata": {
	    "collapsed": true
	   },
	   "outputs": [],
"source": [
"\n",
"//by Norton's Theorem\n",
"I=2*10//total current produced by current source\n",
"r=2*2/(2+2)//resultant resistance of current source\n",
"In=20*r/(r+1)//norton current\n",
"Rn=1+r//norton resistance\n",
"I=In*Rn/(Rn+8)\n",
"mprintf('Current through the load resistance of 8 ohm=%f A from A to B', I) "
   ]
   }
,
{
		   "cell_type": "markdown",
		   "metadata": {},
		   "source": [
			"## Example 1.12: Example_on_Nodal_Analysis.sce"
		   ]
		  },
  {
"cell_type": "code",
	   "execution_count": null,
	   "metadata": {
	    "collapsed": true
	   },
	   "outputs": [],
"source": [
"\n",
"//circuit has 4 nodes, viz, A, B, C and D\n",
"//node D is taken as reference node\n",
"//voltages at A, B and C be Va, Vb and Vc respectively\n",
"//applying KCL\n",
"//at node A, 7*Va-Vb-Vc=25\n",
"//at node B, -4*Va+19*Vb-10*Vc=0\n",
"//at node C, -4*Va-10*Vb+19*Vc=-40\n",
"a=[7 -1 -1;-4 19 -10;-4 -10 19]\n",
"b=[25;0;-40]\n",
"v=inv(a)*b\n",
"Va=v(1,1)\n",
"Vb=v(2,1)\n",
"Vc=v(3,1)\n",
"I=(Va-Vc)/5\n",
"mprintf('Current in 5 ohm AC branch=%f A from A to C', I)\n",
"//error in textbook answer"
   ]
   }
,
{
		   "cell_type": "markdown",
		   "metadata": {},
		   "source": [
			"## Example 1.13: Example_on_Maximum_Power_Transfer_Theorem.sce"
		   ]
		  },
  {
"cell_type": "code",
	   "execution_count": null,
	   "metadata": {
	    "collapsed": true
	   },
	   "outputs": [],
"source": [
"\n",
"V=3*20/(2+3)//thevenin's voltage\n",
"r=1+2*3/(2+3)//thevenin's equivalent resistance\n",
"R=r\n",
"Pmax=V^2/(4*r)\n",
"mprintf('Max power transferred to the load is %f W when load resistance is %f ohm', Pmax, R)"
   ]
   }
,
{
		   "cell_type": "markdown",
		   "metadata": {},
		   "source": [
			"## Example 1.14: Example_on_Delta_to_Star_and_Star_to_Delta_Transformation.sce"
		   ]
		  },
  {
"cell_type": "code",
	   "execution_count": null,
	   "metadata": {
	    "collapsed": true
	   },
	   "outputs": [],
"source": [
"\n",
"//inner delta DEF is transformed to equivalent star connection having resistances Ra, Rb, Rc\n",
"Ra=1.5*2.5/(1.5+2.5+1)\n",
"Rb=1.5*1/(1.5+2.5+1)\n",
"Rc=1*2.5/(1.5+2.5+1)\n",
"//inner portion of obtained star network ABC is converted into equivalent delta with resistances R1, R2, R3\n",
"R1=4+5.05+4*5.05/5\n",
"R2=4+5+4*5/5.05\n",
"R3=5+5.05+5*5.05/4\n",
"//now the network reduces to the form in which the resistances across a branch are in parallel \n",
"//let equivalent resistances be Rac, Rbc and Rab\n",
"Rac=5*R1/(5+R1)\n",
"Rbc=5*R2/(5+R2)\n",
"Rab=5*R3/(5+R3)\n",
"R=(Rac+Rbc)*Rab/(Rac+Rbc+Rab)\n",
"mprintf('Equivalent resistance between A and B=%f ohm',R)"
   ]
   }
,
{
		   "cell_type": "markdown",
		   "metadata": {},
		   "source": [
			"## Example 1.16: Example_on_Delta_to_Star_and_Star_to_Delta_Transformation.sce"
		   ]
		  },
  {
"cell_type": "code",
	   "execution_count": null,
	   "metadata": {
	    "collapsed": true
	   },
	   "outputs": [],
"source": [
"\n",
"//by Superposition Theorem\n",
"//consider 2 V battery alone \n",
"R1 =(3+1)*2/(3+1+2)  //equivalent resistance of Raf, Rfg, Rab\n",
"R2 =(1+R1)*12/(1+R1+12)  //equivalent resistance of Rad, R1, Rde\n",
"R=1+2+R2  //total resistance of the circuit\n",
"I1=2/R\n",
"I2=I1*12/(1+R1+12)\n",
"I3=I2*4/(2+4)  //current through 2 ohm\n",
"//consider 4 V battery alone\n",
"I4=34/71  //current through 2 ohm\n",
"I=I3+I4\n",
"mprintf('By Superposition Theorem, current through the 2 ohm resistance is %f A from A to B\n', I)\n",
"//by Thevenin's Theorem\n",
"//applying KCL\n",
"//for mesh CDHIC, 15*i1+12*i2=2\n",
"//for mesh DEGHD, 12*i1+17*i2=4\n",
"a=[15 12;12 17]\n",
"b=[2;4]\n",
"i=inv(a)*b\n",
"i1=i(1,1)\n",
"i2=i(2,1)\n",
"Vab=4-3*i2-i2\n",
"R1=(1+2)*12/(1+2+12)  //R1 is equivalent resistance of Rcd, Rci, Rdh\n",
"R=(1+R1)*(3+1)/(1+R1+3+1)  //thevenin's equivalent resistance\n",
"I=Vab/(R+2)\n",
"mprintf('By Thevenin Theorem, current through 2 ohm resistance is %f A from A to B\n', I) \n",
"//by Maxwell Mesh Analysis\n",
"//applying KVL\n",
"//for mesh CDEHC, 15*I1-12*I2=2\n",
"//for mesh DABED, -12*I1+15*I2+2*I3=0\n",
"//for mesh AFGBA, 2*I2+6*I3=4\n",
"a=[15 -12 0;-12 15 2;0 2 6]\n",
"b=[2;0;4]\n",
"i=inv(a)*b\n",
"I1=i(1,1)\n",
"I2=i(2,1)\n",
"I3=i(3,1)\n",
"mprintf('By Maxwell Mesh Analysis, current through 2 ohm resistance is %f A from A to B ', I2+I3)\n",
"\n",
""
   ]
   }
,
{
		   "cell_type": "markdown",
		   "metadata": {},
		   "source": [
			"## Example 1.1: Example_on_Ohms_Law.sce"
		   ]
		  },
  {
"cell_type": "code",
	   "execution_count": null,
	   "metadata": {
	    "collapsed": true
	   },
	   "outputs": [],
"source": [
"\n",
"//By KCL, I1 + I2=2.25\n",
"I1=10/(2+8)\n",
"I2=2.25-I1\n",
"r=(10-5*I2)/I2\n",
"mprintf('r=%d ohm, current in branch ABC=%d A and current in branch ADC=%f A', r, I1, I2)\n",
""
   ]
   }
,
{
		   "cell_type": "markdown",
		   "metadata": {},
		   "source": [
			"## Example 1.2: Example_on_Ohms_Law.sce"
		   ]
		  },
  {
"cell_type": "code",
	   "execution_count": null,
	   "metadata": {
	    "collapsed": true
	   },
	   "outputs": [],
"source": [
"\n",
"//i1, i2, i3 be the currents in the branches CD, EF and GH respectively\n",
"//i1+i2+i3=1.5\n",
"i2=(20-1.5*10)/15\n",
"i3=(20-1.5*10)/15\n",
"i1=1.5-i2-i3\n",
"r=(20-1.5*10)/i1\n",
"mprintf('r=%f ohm', r)\n",
""
   ]
   }
,
{
		   "cell_type": "markdown",
		   "metadata": {},
		   "source": [
			"## Example 1.3: Example_on_Ohms_Law.sce"
		   ]
		  },
  {
"cell_type": "code",
	   "execution_count": null,
	   "metadata": {
	    "collapsed": true
	   },
	   "outputs": [],
"source": [
"\n",
"//points A,E,F,G are at the same potential\n",
"Rab=20\n",
"Reb=50\n",
"R1=Rab*Reb/(Rab+Reb)  //equivalent resistance of Rab and Reb\n",
"Rbc=25\n",
"R2=R1+Rbc  //equivalent resistance of R1 and Rbc\n",
"Rfc=50\n",
"R3=Rfc*R2/(Rfc+R2)  //equivalent resistance of R2 and Rfc\n",
"Rcd=30\n",
"R4=R3+Rcd  //equivalent resistance of R3 and Rcd\n",
"R=R4*50/(50+R4)  //equivalent resistance between A and D\n",
"i=200/R   //Ohm's Law\n",
"mprintf('Current drawn by circuit=%f A', i)"
   ]
   }
,
{
		   "cell_type": "markdown",
		   "metadata": {},
		   "source": [
			"## Example 1.4: Example_on_Kirchhoffs_Law.sce"
		   ]
		  },
  {
"cell_type": "code",
	   "execution_count": null,
	   "metadata": {
	    "collapsed": true
	   },
	   "outputs": [],
"source": [
"\n",
"//refer Fig. 1.10 in the textbook\n",
"//applying KCL, I1+I2=20; -I2+I3=30\n",
"//applying KVL\n",
"//for mesh ABGHA, -0.1*I2+20*R1=108\n",
"//for mesh BCFGB, 0.3*I2+20*R1-30*R2=0\n",
"//for mesh CDEFC, 0.2*I2+30*R2=114\n",
"a=[-0.1 20 0;0.3 20 -30;0.2 0 30]\n",
"b=[108;0;114]\n",
"x=inv(a)*b\n",
"I2=x(1,1)\n",
"R1=x(2,1)\n",
"R2=x(3,1)\n",
"I1=20-I2\n",
"I3=30+I2\n",
"mprintf('R1=%f ohm, R2=%f ohm, I1=%f A, I2=%f A, I3=%f A', R1, R2, I1, I2, I3)"
   ]
   }
,
{
		   "cell_type": "markdown",
		   "metadata": {},
		   "source": [
			"## Example 1.5: Example_on_Kirchhoffs_Law.sce"
		   ]
		  },
  {
"cell_type": "code",
	   "execution_count": null,
	   "metadata": {
	    "collapsed": true
	   },
	   "outputs": [],
"source": [
"\n",
"//refer Fig.1.11 in the textbook\n",
"//applying  KVL over loops ABEFA and BCDEB, I2=3.5*I1; -2*I1+7*I2=10\n",
"a=[3.5 -1;-2 7]\n",
"b=[0;10]\n",
"i=inv(a)*b\n",
"I1=i(1,1)\n",
"I2=i(2,1)\n",
"I=I2-I1\n",
"mprintf('Current through 8 ohm resistance=%f A from E to B', I)\n",
"\n",
""
   ]
   }
,
{
		   "cell_type": "markdown",
		   "metadata": {},
		   "source": [
			"## Example 1.6: Example_on_Kirchhoffs_Law.sce"
		   ]
		  },
  {
"cell_type": "code",
	   "execution_count": null,
	   "metadata": {
	    "collapsed": true
	   },
	   "outputs": [],
"source": [
"\n",
"//refer Fig.1.12 in the textbook\n",
"//Applying KVL\n",
"//for mesh AHGBA, -23*i1+20*i2+3*i4=0\n",
"//for mesh GFCBG, 20*i1-43*i2+20*i3+3*i4=0\n",
"//for mesh FEDCF, 20*i2-43*i3+3*i4=0\n",
"//for mesh ABCDJIA, 3*i1+3*i2+3*i3-9*i4+50=0\n",
"a=[-23 20 0 3;20 -43 20 3;0 20 -43 3;3 3 3 -9]\n",
"b=[0;0;0;-50]\n",
"i=inv(a)*b\n",
"i1=i(1,1)\n",
"i2=i(2,1)\n",
"i3=i(3,1)\n",
"i4=i(4,1)\n",
"V1=3*(i4-i1)\n",
"V2=3*(i4-i2)\n",
"V3=3*(i4-i3)\n",
"mprintf('Voltage across branch AB=%f V, Voltage across branch BC=%f V, Voltage across branch CD=%f V', V1, V2, V3)"
   ]
   }
,
{
		   "cell_type": "markdown",
		   "metadata": {},
		   "source": [
			"## Example 1.7: Example_on_Kirchhoffs_Law.sce"
		   ]
		  },
  {
"cell_type": "code",
	   "execution_count": null,
	   "metadata": {
	    "collapsed": true
	   },
	   "outputs": [],
"source": [
"\n",
"//refer Fig.1.13 in the textbook\n",
"//by applying KVL\n",
"//for mesh ABCDA, 7.45*i1-3.25*i2=10\n",
"//for mesh EFBAE, 8.55*i2-5.3*i3-3.25*i1=10\n",
"//for mesh HGBFEAH, 11.3*i3-5.3*i2=80\n",
"a=[7.45 -3.25 0;-3.25 8.55 -5.3;0 -5.3 11.3]\n",
"b=[10;10;80]\n",
"i=inv(a)*b\n",
"i1=i(1,1)\n",
"i2=i(2,1)\n",
"i3=i(3,1)\n",
"mprintf('Current in 6 ohm resistor=%f A, current in 3 ohm resistor=%f A', i3, i2-i1)"
   ]
   }
,
{
		   "cell_type": "markdown",
		   "metadata": {},
		   "source": [
			"## Example 1.8: Example_on_Superposition_Theorem.sce"
		   ]
		  },
  {
"cell_type": "code",
	   "execution_count": null,
	   "metadata": {
	    "collapsed": true
	   },
	   "outputs": [],
"source": [
"\n",
"//using Superposition Theorem\n",
"//consider E1 alone\n",
"E1=1.5\n",
"R1=(1+1)*2/(1+1+2)+2  //total resistance\n",
"I1=E1/R1  //current supplied\n",
"i1=I1/2  //current in branch AB from B to A\n",
"//consider E2 alone\n",
"E2=1.1\n",
"R2=(1+1)*2/(1+1+2)+1+1  //total resistance\n",
"I2=E2/R2  //current supplied\n",
"i2=I2/2  //current in branch AB from B to A\n",
"mprintf('Current through 2 ohm resistor=%f A', i1+i2)"
   ]
   }
,
{
		   "cell_type": "markdown",
		   "metadata": {},
		   "source": [
			"## Example 1.9: Example_on_Superposition_Theorem.sce"
		   ]
		  },
  {
"cell_type": "code",
	   "execution_count": null,
	   "metadata": {
	    "collapsed": true
	   },
	   "outputs": [],
"source": [
"\n",
"//refer Fig.1.20 in the textbook\n",
"//applying KVL\n",
"//for mesh  BAEFB, 4*I1+2*I2=1.5\n",
"//for mesh  BACDB, 2*I1+4*I2=1.1\n",
"a=[4 2;2 4]\n",
"b=[1.5;1.1]\n",
"i=inv(a)*b\n",
"I1=i(1,1)\n",
"I2=i(2,1)\n",
"mprintf('Current through 2 ohm resistor=%f A from B to A', I1+I2)"
   ]
   }
],
"metadata": {
		  "kernelspec": {
		   "display_name": "Scilab",
		   "language": "scilab",
		   "name": "scilab"
		  },
		  "language_info": {
		   "file_extension": ".sce",
		   "help_links": [
			{
			 "text": "MetaKernel Magics",
			 "url": "https://github.com/calysto/metakernel/blob/master/metakernel/magics/README.md"
			}
		   ],
		   "mimetype": "text/x-octave",
		   "name": "scilab",
		   "version": "0.7.1"
		  }
		 },
		 "nbformat": 4,
		 "nbformat_minor": 0
}
