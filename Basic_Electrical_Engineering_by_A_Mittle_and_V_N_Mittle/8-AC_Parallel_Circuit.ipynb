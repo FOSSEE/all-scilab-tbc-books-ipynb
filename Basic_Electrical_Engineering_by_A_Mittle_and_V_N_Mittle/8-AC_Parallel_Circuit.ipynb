{
"cells": [
 {
		   "cell_type": "markdown",
	   "metadata": {},
	   "source": [
       "# Chapter 8: AC Parallel Circuit"
	   ]
	},
{
		   "cell_type": "markdown",
		   "metadata": {},
		   "source": [
			"## Example 8.10: Example_on_Series_Parallel_Circuit.sce"
		   ]
		  },
  {
"cell_type": "code",
	   "execution_count": null,
	   "metadata": {
	    "collapsed": true
	   },
	   "outputs": [],
"source": [
"\n",
"function[r,theta]=rect2pol(A)\n",
"    x=real(A)\n",
"    y=imag(A)\n",
"    r=sqrt(x^2+y^2)\n",
"    theta=atand(y/x)\n",
"endfunction\n",
"function[z]=pol2rect(r,theta)\n",
"    x=r*cos(theta*%pi/180)\n",
"    y=r*sin(theta*%pi/180)\n",
"    z=x+y*%i\n",
"endfunction\n",
"function[r]=mag(A)\n",
"    x=real(A)\n",
"    y=imag(A)\n",
"    r=sqrt(x^2+y^2)\n",
"endfunction\n",
"j=%i\n",
"//calculating impedance of overall circuit\n",
"Za=2+0*j//impedance of branch A\n",
"Zb=3+4*j//impedance of branch B\n",
"Zab=Za*Zb/(Za+Zb)//equivalent impedances of branches A and B\n",
"Zc=2-2*j\n",
"Z1=Zab*Zc/(Zab+Zc)//equivalent impedance of parallel circuit\n",
"Zd=1+1*j//impedance of branch D\n",
"Z=Z1+Zd\n",
"[Z theta]=rect2pol(Z)\n",
"mprintf('Total impedance of overall circuit=%f ohm at angle %f degrees\n', Z,theta)\n",
"//calculating current taken by overall circuit\n",
"V=110//voltage applied to the overall circuit\n",
"I=V/Z\n",
"mprintf('Current taken by the overall circuit=%f A\n', I)\n",
"//Calculating power consumed in each branch and total power consumed\n",
"Id=I//current in the series branch\n",
"Rd=1//resistance of branch D\n",
"Pd=I^2*Rd//power consumed by branch D\n",
"Ia=I*mag(Z1)/mag(Za)//current in branch A\n",
"Ib=I*mag(Z1)/mag(Zb)//current in branch B\n",
"Ic=I*mag(Z1)/mag(Zc)//current in branch C\n",
"Ra=2\n",
"Pa=Ia^2*Ra\n",
"Rb=3\n",
"Pb=Ib^2*Rb\n",
"Rc=2\n",
"Pc=Ic^2*Rc\n",
"P=Pa+Pb+Pc+Pd\n",
"mprintf('Power consumed by branch A=%f W,\nPower consumed by branch B=%f W,\nPower consumed by branch C=%f W,\nPower consumed by branch D=%f W,\nTotal power consumed=%f W',Pa,Pb,Pc,Pd,P)\n",
"//The answers vary from the textbook due to round off error"
   ]
   }
,
{
		   "cell_type": "markdown",
		   "metadata": {},
		   "source": [
			"## Example 8.11: Example_on_AC_Network_Theorems.sce"
		   ]
		  },
  {
"cell_type": "code",
	   "execution_count": null,
	   "metadata": {
	    "collapsed": true
	   },
	   "outputs": [],
"source": [
"\n",
"function[r,theta]=rect2pol(A)\n",
"    x=real(A)\n",
"    y=imag(A)\n",
"    r=sqrt(x^2+y^2)\n",
"    theta=atand(y/x)\n",
"endfunction\n",
"function[r]=mag(A)\n",
"    x=real(A)\n",
"    y=imag(A)\n",
"    r=sqrt(x^2+y^2)\n",
"endfunction\n",
"j=%i\n",
"//using Maxwell's mesh analysis\n",
"//refer Fig.8.14 in the textbook\n",
"//considering mesh FDCEF, (18+8*j)*I1-(10+8*j)*I2=24\n",
"//considering mesh ABCDA, (10+8*j)*I1-(14+10*j)*I2=0\n",
"a=[18+8*j -(10+8*j);10+8*j -(14+10*j)]\n",
"b=[24;0]\n",
"x=inv(a)*b\n",
"I1=x(1,1)\n",
"I2=x(2,1)\n",
"[I2 theta]=rect2pol(I2)\n",
"mprintf('By Maxwell Mesh Analysis, current in branch AB of the circuit shown is %f A, lagging the applied voltage by %f degrees\n',I2, -theta)\n",
"//using thevenin's theorem\n",
"//refer Fig.8.14(a),(b) and (c)\n",
"Zth=8*(10+8*j)/(8+10+8*j)+(-4*j)//thevenin's impedance\n",
"//for calculating the equivalent Thevenin's voltage Vth, I1 be the current flowing in the branch CD\n",
"I1=24/(8+10+8*j)\n",
"Vth=I1*(10+8*j)//equivalent thevenin's voltage\n",
"I=Vth/((4+6*j+Zth))\n",
"[I theta]=rect2pol(I)\n",
"mprintf('By Thevenin Theorem, current in the branch AB is %f A lagging the voltage by %f degrees\n',I,-theta)"
   ]
   }
,
{
		   "cell_type": "markdown",
		   "metadata": {},
		   "source": [
			"## Example 8.12: Example_on_Resonance_in_Parallel_Circuits.sce"
		   ]
		  },
  {
"cell_type": "code",
	   "execution_count": null,
	   "metadata": {
	    "collapsed": true
	   },
	   "outputs": [],
"source": [
"\n",
"function[r]=mag(A)\n",
"    x=real(A)\n",
"    y=imag(A)\n",
"    r=sqrt(x^2+y^2)\n",
"endfunction\n",
"j=%i\n",
"V=200\n",
"//calculating supply frequency\n",
"L=.1//inductance of branch A\n",
"//Xa=2*%pi*f*.1\n",
"Ra=10//resistance of branch A\n",
"C=150D-6//capacitance of branch B\n",
"//Xb=1/(2*%pi*f*150D-6)\n",
"Rb=0//resistance of branch B\n",
"//Zb=-Xb*j \n",
"//total current I=Ia+Ib, total current is in phase with voltage-->j component of I=0\n",
"//on solving for f,\n",
"f=sqrt((V*2*%pi*L)*(1/(2*%pi*C))/V-Ra^2)/(2*%pi*L)\n",
"mprintf('Frequency of the supply which is also the resonant frequency, f=%f Hz\n', f)\n",
"Xa=2*%pi*f*.1\n",
"Za=Ra+Xa*j\n",
"Ia=V/Za\n",
"Xb=1/(2*%pi*f*150D-6)\n",
"Zb=-Xb*j\n",
"Ib=V/Zb\n",
"I=Ia+Ib\n",
"mprintf('Total current drawn by the circuit=%f A', mag(I))\n",
"//The answers vary from the textbook due to round off error"
   ]
   }
,
{
		   "cell_type": "markdown",
		   "metadata": {},
		   "source": [
			"## Example 8.13: Example_on_Resonance_in_Parallel_Circuits.sce"
		   ]
		  },
  {
"cell_type": "code",
	   "execution_count": null,
	   "metadata": {
	    "collapsed": true
	   },
	   "outputs": [],
"source": [
"\n",
"function[r,theta]=rect2pol(A)\n",
"    x=real(A)\n",
"    y=imag(A)\n",
"    r=sqrt(x^2+y^2)\n",
"    theta=atand(y/x)\n",
"endfunction\n",
"function[r]=mag(A)\n",
"    x=real(A)\n",
"    y=imag(A)\n",
"    r=sqrt(x^2+y^2)\n",
"endfunction\n",
"j=%i\n",
"//calculating branch currents\n",
"Z1=15+12*j//impedance of branch 1\n",
"I1=200/Z1\n",
"phi1=atand(12/15)\n",
"Z2=25-17*j//impedance of branch 2\n",
"I2=200/Z2\n",
"phi2=atand(17/25)\n",
"mprintf('I1=%f A at angle of %f degrees\nI2=%f A at angle of %f degrees\n',mag(I1),phi1,mag(I2),phi2)\n",
"//calculating total current\n",
"I=I1+I2\n",
"[I phi]=rect2pol(I)\n",
"mprintf('Total current drawn by the circuit I=%f A, angle of lag=%f degrees and power factor=%f lagging\n',I,-phi,cos(phi*%pi/180))\n",
"//power factor is to be raised to unity-a capacitor has to be connected in parallel\n",
"//at unity power factor, imaginary part of I must be zero\n",
"Xc=-200/imag(I1+I2)\n",
"f=40\n",
"C=1/(2*%pi*f*Xc)\n",
"mprintf('If power factor is to be raised to unity-a capacitor of %f microF has to be connected in parallel to given circuit', C*1D+6)"
   ]
   }
,
{
		   "cell_type": "markdown",
		   "metadata": {},
		   "source": [
			"## Example 8.1: Example_on_Phasor_Method.sce"
		   ]
		  },
  {
"cell_type": "code",
	   "execution_count": null,
	   "metadata": {
	    "collapsed": true
	   },
	   "outputs": [],
"source": [
"\n",
"function[r,theta]=rect2pol(A)\n",
"    x=real(A)\n",
"    y=imag(A)\n",
"    r=sqrt(x^2+y^2)\n",
"    theta=atand(y/x)\n",
"endfunction\n",
"function[z]=pol2rect(r,theta)\n",
"    x=r*cos(theta*%pi/180)\n",
"    y=r*sin(theta*%pi/180)\n",
"    z=x+y*%i\n",
"endfunction\n",
"function[r]=mag(A)\n",
"    x=real(A)\n",
"    y=imag(A)\n",
"    r=sqrt(x^2+y^2)\n",
"endfunction\n",
"//calculating current in each branch and its angle of lag or lead\n",
"V=230\n",
"f=50\n",
"//for branch A\n",
"Ra=10//resistance\n",
"L=.04//inductance\n",
"Xl=2*%pi*f*L//inductive reactance\n",
"Za=sqrt(Ra^2+Xl^2)//impedance\n",
"Ia=V/Za\n",
"phi_a=atand(Xl/Ra)\n",
"//for branch B\n",
"R=25//resistance\n",
"Zb=R//impedance\n",
"Ib=V/Zb\n",
"phi_b=0\n",
"mprintf('Current in branch A, Ia=%f A lagging the applied voltage by %f degrees\nCurrent in branch B, Ib=%f A in phase with applied voltage\n',Ia, phi_a,Ib)\n",
"//calculating current drawn by the circuit\n",
"Ia=pol2rect(Ia,phi_a)\n",
"Ib=pol2rect(Ib,0)\n",
"I=Ia+Ib\n",
"mprintf('Total current drawn by the circuit=%f A\n', mag(I))\n",
"phi=atand(imag(I)/real(I))\n",
"mprintf('Phase angle of combination=%f degrees and power factor =%f lagging',phi,cos(phi*%pi/180))"
   ]
   }
,
{
		   "cell_type": "markdown",
		   "metadata": {},
		   "source": [
			"## Example 8.2: Example_on_Phasor_Method.sce"
		   ]
		  },
  {
"cell_type": "code",
	   "execution_count": null,
	   "metadata": {
	    "collapsed": true
	   },
	   "outputs": [],
"source": [
"\n",
"function[r,theta]=rect2pol(A)\n",
"    x=real(A)\n",
"    y=imag(A)\n",
"    r=sqrt(x^2+y^2)\n",
"    theta=atand(y/x)\n",
"endfunction\n",
"function[z]=pol2rect(r,theta)\n",
"    x=r*cos(theta*%pi/180)\n",
"    y=r*sin(theta*%pi/180)\n",
"    z=x+y*%i\n",
"endfunction\n",
"function[r]=mag(A)\n",
"    x=real(A)\n",
"    y=imag(A)\n",
"    r=sqrt(x^2+y^2)\n",
"endfunction\n",
"//solving part (i)\n",
"Xa=2*%pi*50*.1//inductive reactance of branch A\n",
"Za=sqrt(50^2+Xa^2)\n",
"Ia=230/Za\n",
"phi_a=atand(Xa/50)//angle of lag of Ia w.r.t. applied voltage\n",
"Ia=pol2rect(Ia,-phi_a)\n",
"Xb=1/(2*%pi*50*100D-6)//capacitive reactance of branch B\n",
"Zb=sqrt(45^2+Xb^2)\n",
"Ib=230/Zb\n",
"phi_b=atand(Xb/45)//angle of lead of Ib w.r.t. applied voltage\n",
"Ib=pol2rect(Ib,phi_b)\n",
"I=Ia+Ib\n",
"mprintf('Current drawn by the circuit=%f A\n', mag(I))\n",
"//calculating power factor\n",
"phi=atan(imag(I)/real(I))//phase angle of the circuit\n",
"pf=cos(phi)\n",
"mprintf('Power factor of the circuit=%f(leading)\n',pf)\n",
"//calculating power taken by the parallel circuit\n",
"P=230*mag(I)*pf\n",
"mprintf('Power taken by the parallel circuit=%d W', round(P))\n",
"//The answers vary from the textbook due to round off error"
   ]
   }
,
{
		   "cell_type": "markdown",
		   "metadata": {},
		   "source": [
			"## Example 8.3: Example_on_Phasor_Method.sce"
		   ]
		  },
  {
"cell_type": "code",
	   "execution_count": null,
	   "metadata": {
	    "collapsed": true
	   },
	   "outputs": [],
"source": [
"\n",
"\n",
"function[r,theta]=rect2pol(A)\n",
"    x=real(A)\n",
"    y=imag(A)\n",
"    r=sqrt(x^2+y^2)\n",
"    theta=atand(y/x)\n",
"endfunction\n",
"function[z]=pol2rect(r,theta)\n",
"    x=r*cos(theta*%pi/180)\n",
"    y=r*sin(theta*%pi/180)\n",
"    z=x+y*%i\n",
"endfunction\n",
"function[r]=mag(A)\n",
"    x=real(A)\n",
"    y=imag(A)\n",
"    r=sqrt(x^2+y^2)\n",
"endfunction\n",
"//calculating current in coil A\n",
"Xa=2*%pi*50*.02//inductive reactance of coil A\n",
"Za=sqrt(12^2+Xa^2)\n",
"Ia=200/Za\n",
"phi_a=atand(Xa/12)//angle of lag of Ia w.r.t. applied voltage\n",
"mprintf('Ia=%f A, lagging the applied voltage by %f degrees\n', Ia, phi_a)\n",
"//calculating current in coil B\n",
"Xb=2*%pi*50*.03//inductive reactance of coil B\n",
"Zb=sqrt(6^2+Xb^2)\n",
"Ib=200/Zb\n",
"phi_b=atand(Xb/6)//angle of lag of Ib w.r.t. applied voltage\n",
"mprintf('Ib=%f A, lagging the applied voltage by %f degrees\n', Ib, phi_b)\n",
"//calculating total current in the circuit\n",
"Ia=pol2rect(Ia,-phi_a)\n",
"Ib=pol2rect(Ib,-phi_b)\n",
"I=Ia+Ib\n",
"mprintf('Total current drawn by circuit=%f A lagging the applied voltage by %f degrees\n', mag(I),-atand(imag(I)/real(I)))\n",
"//calculating total current when additional circuit is added\n",
"Xc=1/(2*%pi*50*120D-6)//capacitive reactance\n",
"Zc=sqrt(15^2+Xc^2)\n",
"Ic=200/Zc\n",
"phi_c=atand(Xc/15)//angle of lag of Ic w.r.t. applied voltage\n",
"Ic=pol2rect(Ic,phi_c)\n",
"I=Ia+Ib+Ic\n",
"phi=atand(imag(I)/real(I))\n",
"mprintf('For the new circuit, total current drawn=%f A lagging the applied voltage by %f degrees, i.e. pf=%f(lagging)', mag(I),-phi,cos(phi*%pi/180))"
   ]
   }
,
{
		   "cell_type": "markdown",
		   "metadata": {},
		   "source": [
			"## Example 8.4: Example_on_Phasor_Method.sce"
		   ]
		  },
  {
"cell_type": "code",
	   "execution_count": null,
	   "metadata": {
	    "collapsed": true
	   },
	   "outputs": [],
"source": [
"\n",
"function[r,theta]=rect2pol(A)\n",
"    x=real(A)\n",
"    y=imag(A)\n",
"    r=sqrt(x^2+y^2)\n",
"    theta=atand(y/x)\n",
"endfunction\n",
"function[z]=pol2rect(r,theta)\n",
"    x=r*cos(theta*%pi/180)\n",
"    y=r*sin(theta*%pi/180)\n",
"    z=x+y*%i\n",
"endfunction\n",
"function[r]=mag(A)\n",
"    x=real(A)\n",
"    y=imag(A)\n",
"    r=sqrt(x^2+y^2)\n",
"endfunction\n",
"//for coil A\n",
"Ia=5//current taken\n",
"Va=110//voltage applied\n",
"Pa=300//power dissipated\n",
"Ra=Pa/Ia^2\n",
"Za=Va/Ia\n",
"Xa=sqrt(Za^2-Ra^2)\n",
"//for coil B\n",
"Ib=5//current taken\n",
"Vb=110//voltage applied\n",
"Pb=400//power dissipated\n",
"Rb=Pb/Ib^2\n",
"Zb=Vb/Ib\n",
"Xb=sqrt(Zb^2-Rb^2)\n",
"//calculating current drawn and power factor when coils conected in series\n",
"R=Ra+Rb\n",
"Xl=Xa+Xb\n",
"Z=sqrt(R^2+Xl^2)//impedance of series circuit\n",
"I=Va/Z\n",
"pf=R/Z\n",
"mprintf('Current in the series circuit=%f A at pf=%f lagging\n', I,pf)\n",
"//calculating current drawn and power factor when coils conected in parallel\n",
"Ia=pol2rect(Ia,-acosd(Ra/Za))\n",
"Ib=pol2rect(Ib,-acosd(Rb/Zb))\n",
"I=Ia+Ib\n",
"phi=atan(imag(I)/real(I))\n",
"mprintf('Total current drawn by the parallel circuit=%f A at pf=%f(lagging)', mag(I),cos(phi))\n",
"\n",
"\n",
"   "
   ]
   }
,
{
		   "cell_type": "markdown",
		   "metadata": {},
		   "source": [
			"## Example 8.5: Example_on_Admittance_Method.sce"
		   ]
		  },
  {
"cell_type": "code",
	   "execution_count": null,
	   "metadata": {
	    "collapsed": true
	   },
	   "outputs": [],
"source": [
"\n",
"function[r]=mag(A)\n",
"    x=real(A)\n",
"    y=imag(A)\n",
"    r=sqrt(x^2+y^2)\n",
"endfunction\n",
"j=%i\n",
"//solving part (i)\n",
"//for coil 1\n",
"Z1=5+2*%pi*50*.03*j//impedance\n",
"Y1=1/Z1\n",
"G1=real(Y1)\n",
"B1=imag(Y1)\n",
"mprintf('For coil 1,\nConductance=%f mho\nSuspectance=%f mho\nAdmittance=%f mho\n', G1,-B1,mag(Y1))\n",
"//for coil 2\n",
"Z2=3+2*%pi*50*.04*j//impedance\n",
"Y2=1/Z2\n",
"G2=real(Y2)\n",
"B2=imag(Y2)\n",
"mprintf('For coil 2,\nConductance=%f mho\nSuspectance=%f mho\nAdmittance=%f mho\n', G2,-B2,mag(Y2))\n",
"//solving part(ii)\n",
"Y=Y1+Y2//total admittance\n",
"I=200*Y\n",
"phi=atan(imag(I)/real(I))\n",
"pf=cos(phi)\n",
"mprintf('Total current drawn by the circuit=%f A at pf of %f(lagging)\n',mag(I),pf)\n",
"//calculating power\n",
"P=200*mag(I)*pf\n",
"mprintf('Power absorbed by the circuit=%f W\n',P)\n",
"//solving part(iv)\n",
"Z=1/Y\n",
"R=real(Z)\n",
"Xl=imag(Z)\n",
"L=Xl/(2*%pi*50)\n",
"mprintf('R=%f ohm, L=%f H of single coil which will take the same current and power as taken by the original circuit',R,L)\n",
"//answers vary from the textbook due to round off error"
   ]
   }
,
{
		   "cell_type": "markdown",
		   "metadata": {},
		   "source": [
			"## Example 8.6: Example_on_Symbolic_Method.sce"
		   ]
		  },
  {
"cell_type": "code",
	   "execution_count": null,
	   "metadata": {
	    "collapsed": true
	   },
	   "outputs": [],
"source": [
"\n",
"function[r]=mag(A)\n",
"    x=real(A)\n",
"    y=imag(A)\n",
"    r=sqrt(x^2+y^2)\n",
"endfunction\n",
"j=%i\n",
"//voltage V is taken as reference phasor\n",
"Z1=5+10*j//impedance of inductive branch\n",
"Z2=10-15*j//impedance of capacitive branch\n",
"I=20//total current\n",
"V=I/mag(1/Z1+1/Z2)\n",
"mprintf('Applied voltage=%f V\n',V)\n",
"//calculating power factor of total current\n",
"I1=V/Z1\n",
"I2=V/Z2\n",
"I=I1+I2\n",
"phi=atan(imag(I)/real(I))//angle of lag\n",
"pf=cos(phi)\n",
"mprintf('Power factor of the total circuit=%f(lagging)\n',pf)\n",
"//calculating power taken by each branch\n",
"R1=5//resistance of branch 1\n",
"P1=mag(I1)^2*R1\n",
"R2=10//resistance of branch 2\n",
"P2=mag(I2)^2*R2\n",
"mprintf('Power taken by inductive branch=%f W\nPower taken by capacitive branch=%f W', P1,P2)\n",
"//answers vary from the textbook due to round off error"
   ]
   }
,
{
		   "cell_type": "markdown",
		   "metadata": {},
		   "source": [
			"## Example 8.7: Example_on_Symbolic_Method.sce"
		   ]
		  },
  {
"cell_type": "code",
	   "execution_count": null,
	   "metadata": {
	    "collapsed": true
	   },
	   "outputs": [],
"source": [
"\n",
"function[z]=pol2rect(r,theta)\n",
"    x=r*cos(theta*%pi/180)\n",
"    y=r*sin(theta*%pi/180)\n",
"    z=x+y*%i\n",
"endfunction\n",
"function[r]=mag(A)\n",
"    x=real(A)\n",
"    y=imag(A)\n",
"    r=sqrt(x^2+y^2)\n",
"endfunction\n",
"//for coil A\n",
"Va=10//voltage applied\n",
"Ia=2//current taken\n",
"pf=.8//lagging power factor\n",
"Ia=pol2rect(Ia,-acosd(pf))\n",
"Za=Va/Ia//impedance\n",
"//for coil B\n",
"Vb=5//voltage applied\n",
"Ib=2//current taken\n",
"pf=.7//lagging power factor\n",
"Ib=pol2rect(2,-acosd(pf))\n",
"Zb=Vb/Ib//impedance\n",
"//calculating voltage required to produce a current of 2 A with A and B in series\n",
"I=2\n",
"Z=Za+Zb//impedance of series circuit\n",
"V=I*mag(Z)\n",
"mprintf('Voltage required to produce a current of 2 A with A and B in series=%f V\n', V)\n",
"//calculating voltage required to produce a current of 2 A with A and B in parallel\n",
"Z=Za*Zb/(Za+Zb)//impedance of parallel circuit\n",
"V=I*mag(Z)\n",
"mprintf('Voltage required to produce a current of 2 A with A and B in parallel=%f V\n', V)\n",
"//The answers vary from the textbook due to round off error"
   ]
   }
,
{
		   "cell_type": "markdown",
		   "metadata": {},
		   "source": [
			"## Example 8.8: Example_on_Symbolic_Method.sce"
		   ]
		  },
  {
"cell_type": "code",
	   "execution_count": null,
	   "metadata": {
	    "collapsed": true
	   },
	   "outputs": [],
"source": [
"\n",
"//calculating value of unknown capacitance\n",
"V=110//applied voltage\n",
"R=30//resistance of resistive circuit\n",
"Ir=V/R//Ohm's Law\n",
"I=5//total current drawn\n",
"Xc=V/sqrt(I^2-Ir^2)\n",
"f=50//frequency of supply\n",
"C=1/(2*%pi*f*Xc)\n",
"mprintf('Capacitance=%f microF\n',C*10^6)\n",
"//calculating unknown frequency\n",
"I=4//total current drawn\n",
"f=sqrt(I^2-Ir^2)/(V*2*%pi*C)\n",
"mprintf('To decrease the total current to 4 A, the frequency of the supply should be adjusted to %f Hz',f)\n",
"//The answers vary from the textbook due to round off error"
   ]
   }
,
{
		   "cell_type": "markdown",
		   "metadata": {},
		   "source": [
			"## Example 8.9: Example_on_Symbolic_Method.sce"
		   ]
		  },
  {
"cell_type": "code",
	   "execution_count": null,
	   "metadata": {
	    "collapsed": true
	   },
	   "outputs": [],
"source": [
"\n",
"function[r]=mag(A)\n",
"    x=real(A)\n",
"    y=imag(A)\n",
"    r=sqrt(x^2+y^2)\n",
"endfunction\n",
"\n",
"j=%i\n",
"R1=12//resistance of series circuit\n",
"X1=2*%pi*50*.025//inductive reactance of the series circuit\n",
"Z1=R1+X1*j\n",
"pf1=R1/mag(Z1)//power factor of the series circuit(lagging)\n",
"//the impedances and power factor of the parallel circuit are to be same as that of series circuit\n",
"//on solving, we get, R*Xl/sqrt(R^2+Xl^2)=mag(Z1); Xl/(sqrt(R^2+Xl^2))=pf1\n",
"R=mag(Z1)/pf1\n",
"//solving for Xl\n",
"Xl=pf1*R/sqrt(1-pf1^2)\n",
"L=Xl/(2*%pi*50)\n",
"mprintf('Resistance=%f ohm; Inductance=%f H\n',R,L)\n",
"//calculating current in each case\n",
"V=230//applied voltage\n",
"I1=V/mag(Z1)\n",
"mprintf('Current in series circuit=%f A\n',I1)\n",
"I2=V/mag(Z1)\n",
"mprintf('Current drawn by parallel circuit=%f A',I2)\n",
"//The answers vary from the textbook due to round off error"
   ]
   }
],
"metadata": {
		  "kernelspec": {
		   "display_name": "Scilab",
		   "language": "scilab",
		   "name": "scilab"
		  },
		  "language_info": {
		   "file_extension": ".sce",
		   "help_links": [
			{
			 "text": "MetaKernel Magics",
			 "url": "https://github.com/calysto/metakernel/blob/master/metakernel/magics/README.md"
			}
		   ],
		   "mimetype": "text/x-octave",
		   "name": "scilab",
		   "version": "0.7.1"
		  }
		 },
		 "nbformat": 4,
		 "nbformat_minor": 0
}
