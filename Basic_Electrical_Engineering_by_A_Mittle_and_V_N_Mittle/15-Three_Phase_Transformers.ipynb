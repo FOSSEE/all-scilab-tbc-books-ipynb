{
"cells": [
 {
		   "cell_type": "markdown",
	   "metadata": {},
	   "source": [
       "# Chapter 15: Three Phase Transformers"
	   ]
	},
{
		   "cell_type": "markdown",
		   "metadata": {},
		   "source": [
			"## Example 15.1: Example_on_three_phase_transformer.sce"
		   ]
		  },
  {
"cell_type": "code",
	   "execution_count": null,
	   "metadata": {
	    "collapsed": true
	   },
	   "outputs": [],
"source": [
"\n",
"\n",
"P=50D+3  //power per phase\n",
"Power_rating=3*P\n",
"Vpp=2300  //primary phase voltage\n",
"Vsp=230  //secondary phase voltage\n",
"Vpl=sqrt(3)*Vpp  //primary normal line voltage\n",
"Vsl=Vsp  //secondary normal line voltage\n",
"mprintf('Rating of 3-phase transformer will be-\n3-phase, %d kVA, %d/%d V, star/delta connection\n',Power_rating/1D+3,round(Vpl),round(Vsl))\n",
"Ipp=P/Vpp\n",
"Ipl=Ipp\n",
"Isp=P/Vsp\n",
"Isl=sqrt(3)*Isp\n",
"mprintf('Primary phase current=%f A\nPrimary line current=%f A\nSecondary phase current=%f A\nSecondary line current=%f A\n',Ipp,Ipl,Isp,Isl)\n",
"//calculating voltage regulation\n",
"Rp_dash=1.2  //equivalent resistance referred to primary\n",
"Xp_dash=1.6  //equivalent reactance referred to primary\n",
"VR=Ipp*(Rp_dash*.8+Xp_dash*.6)*100/Vpp\n",
"mprintf('Voltage Regulation=%f percent', VR)"
   ]
   }
,
{
		   "cell_type": "markdown",
		   "metadata": {},
		   "source": [
			"## Example 15.2: Example_on_three_phase_transformer.sce"
		   ]
		  },
  {
"cell_type": "code",
	   "execution_count": null,
	   "metadata": {
	    "collapsed": true
	   },
	   "outputs": [],
"source": [
"\n",
"//calculating no. of turns per phase\n",
"Vsp=440/sqrt(3)  //secondary phase voltage\n",
"Et=8  //emf per turn in volt\n",
"Ts=round(Vsp/Et)\n",
"Vpp=1100  //primary phase voltage\n",
"Tp=Ts*Vpp/Vsp\n",
"mprintf('No. of turns per phase on primary winding=%d\nNo. of turns per phase on secondary winding=%d\n', Tp, Ts)\n",
"//calculating net cross-sectional area of core\n",
"f=50  //frequency\n",
"Bm=1.3  //flux density\n",
"Ai=Et/(4.44*f*Bm)\n",
"mprintf('Net cross-sectional area of core, Ai=%d cm^2', round(Ai*1D+4))"
   ]
   }
,
{
		   "cell_type": "markdown",
		   "metadata": {},
		   "source": [
			"## Example 15.3: Example_on_three_phase_transformer.sce"
		   ]
		  },
  {
"cell_type": "code",
	   "execution_count": null,
	   "metadata": {
	    "collapsed": true
	   },
	   "outputs": [],
"source": [
"\n",
"//calculating currents in the main and teaser transformer\n",
"P2=600D+3//output\n",
"V2=110//applied voltage\n",
"pf=.707//lagging power factor\n",
"I2=P2/(pf*V2)\n",
"I1t=1.15*I2*110/6600\n",
"I1m=I2*110/6600\n",
"mprintf('Currents in primary winding of main and teaser transformer is %f A and %f A respectively\n', I1m,I1t)\n",
"//calculating line currents\n",
"Ic=I1t\n",
"Ib=sqrt(I1m^2+(I1t/2)^2)\n",
"Ia=Ib\n",
"mprintf('Line currents are %f A, %f A and %f A', Ia,Ib,Ic)"
   ]
   }
,
{
		   "cell_type": "markdown",
		   "metadata": {},
		   "source": [
			"## Example 15.4: Example_on_three_phase_transformer.sce"
		   ]
		  },
  {
"cell_type": "code",
	   "execution_count": null,
	   "metadata": {
	    "collapsed": true
	   },
	   "outputs": [],
"source": [
"\n",
"function[r, theta]=rect2pol(x,y)\n",
"    r=sqrt(x^2+y^2)\n",
"    theta=atand(y/x)\n",
"endfunction\n",
"Q=750//total load to be shared\n",
"pf=.8//lagging power factor\n",
"theta=-acosd(.8)\n",
"Q=rect2pol(Q*cos(theta),Q*sin(theta))\n",
"Zb=rect2pol(.35,3.3)//per phase impedance of transformer B\n",
"Za=rect2pol(.2,1.8)//per phase impedance of transformer A\n",
"Qa=Zb*Q/(Za+Zb)\n",
"Qb=Za*Q/(Za+Zb)\n",
"mprintf('Transformer A of 500 kVA rating shares a load of %f kVA whereas transformer B of 250 kVA rating shares a load of %f kVA', Qa,Qb)"
   ]
   }
],
"metadata": {
		  "kernelspec": {
		   "display_name": "Scilab",
		   "language": "scilab",
		   "name": "scilab"
		  },
		  "language_info": {
		   "file_extension": ".sce",
		   "help_links": [
			{
			 "text": "MetaKernel Magics",
			 "url": "https://github.com/calysto/metakernel/blob/master/metakernel/magics/README.md"
			}
		   ],
		   "mimetype": "text/x-octave",
		   "name": "scilab",
		   "version": "0.7.1"
		  }
		 },
		 "nbformat": 4,
		 "nbformat_minor": 0
}
