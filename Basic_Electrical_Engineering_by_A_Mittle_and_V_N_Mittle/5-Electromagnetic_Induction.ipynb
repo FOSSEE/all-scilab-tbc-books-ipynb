{
"cells": [
 {
		   "cell_type": "markdown",
	   "metadata": {},
	   "source": [
       "# Chapter 5: Electromagnetic Induction"
	   ]
	},
{
		   "cell_type": "markdown",
		   "metadata": {},
		   "source": [
			"## Example 5.10: Example_on_Induced_EMF.sce"
		   ]
		  },
  {
"cell_type": "code",
	   "execution_count": null,
	   "metadata": {
	    "collapsed": true
	   },
	   "outputs": [],
"source": [
"\n",
"mu_not=4D-7*%pi\n",
"N=800//no. of turns for each solenoid\n",
"l=90D-2//length of each solenoid\n",
"Ax=%pi*(3D-2)^2/4//cross-sectional area of solenoid X\n",
"Ay=%pi*(6D-2)^2/4//cross-sectional area of solenoid Y\n",
"M=N*N*mu_not*Ax/l\n",
"mprintf('Mutual inductance of arrangement=%f mH\n',1000*M)\n",
"//calculating coupling co-efficient\n",
"Lx=N*mu_not*N*Ax/l\n",
"Ly=N*mu_not*N*Ay/l\n",
"k=M/sqrt(Lx*Ly)\n",
"mprintf('Coupling co-efficient=%f',k)"
   ]
   }
,
{
		   "cell_type": "markdown",
		   "metadata": {},
		   "source": [
			"## Example 5.11: Example_on_Induced_EMF.sce"
		   ]
		  },
  {
"cell_type": "code",
	   "execution_count": null,
	   "metadata": {
	    "collapsed": true
	   },
	   "outputs": [],
"source": [
"\n",
"mu_not=4D-7*%pi\n",
"Nb=500//no. of turns in coil B\n",
"l=120D-2//mean length of flux path in iron circuit\n",
"Na=50//no. of turns in coil A\n",
"mu_r=2000//relative permeability of iron\n",
"A=80*10^-4//cross-sectional area\n",
"M=Nb*mu_not*mu_r*Na*A/(l)\n",
"mprintf('Mutual inductance M=%f H\n',M)\n",
"di=12\n",
"dt=.015\n",
"e=-M*di/dt\n",
"mprintf('Emf induced in coil B=%f V',e)"
   ]
   }
,
{
		   "cell_type": "markdown",
		   "metadata": {},
		   "source": [
			"## Example 5.12: Example_on_Growth_and_Decay_of_Current_in_Inductive_Circuits.sce"
		   ]
		  },
  {
"cell_type": "code",
	   "execution_count": null,
	   "metadata": {
	    "collapsed": true
	   },
	   "outputs": [],
"source": [
"\n",
"V=110//applied voltage\n",
"L=.5//inductance of coil\n",
"r=V/L\n",
"mprintf('Rate of change of current=%d A/s\n',r)\n",
"R=8//resistance of coil\n",
"I=V/R\n",
"mprintf('Final steady current=%f A\n',I)\n",
"T=L/R\n",
"mprintf('Time constant=%f sec\n',T)\n",
"//solving part(iv)\n",
"t=-log(.5)*T\n",
"mprintf('Time taken for the current to rise to half its final value=%f sec',t)"
   ]
   }
,
{
		   "cell_type": "markdown",
		   "metadata": {},
		   "source": [
			"## Example 5.13: Example_on_Growth_and_Decay_of_Current_in_Inductive_Circuits.sce"
		   ]
		  },
  {
"cell_type": "code",
	   "execution_count": null,
	   "metadata": {
	    "collapsed": true
	   },
	   "outputs": [],
"source": [
"\n",
"//calculating time it will take current to reach .8 of its final steady value\n",
"L=5//inductance of winding\n",
"R=50//resistance of winding\n",
"T=L/R\n",
"V=110//applied voltage\n",
"I=V/R//final steady current\n",
"i=.8*I\n",
"t=-T*log(1-i/I)\n",
"mprintf('Current grows to .8 times its final steady value, %f sec after the switch is closed\n',t)\n",
"//calculating time it will take for the current to reach .9 of its final steady value\n",
"i=.9*I\n",
"t=-T*log(1-i/I)\n",
"mprintf('Time taken for the current to grow to .9 time its final steady value is %f sec\n',t)\n",
"//calculating average emf induced\n",
"e=-L*(-2.2/.05)\n",
"mprintf('emf induced=%d V\n',round(e))"
   ]
   }
,
{
		   "cell_type": "markdown",
		   "metadata": {},
		   "source": [
			"## Example 5.14: Example_on_Growth_and_Decay_of_Current_in_Inductive_Circuits.sce"
		   ]
		  },
  {
"cell_type": "code",
	   "execution_count": null,
	   "metadata": {
	    "collapsed": true
	   },
	   "outputs": [],
"source": [
"\n",
"//calculating inductance and resistance of the relay\n",
"T=.004//time constant which is time taken for the current to rise to .632 of its final steady value\n",
"I=.35/.632//final steady value\n",
"V=200//applied voltage\n",
"R=V/I\n",
"L=T*R\n",
"mprintf('Resistance of relay circuit=%f ohm\nInductance of relay circuit=%f H\n',R,L)\n",
"//calculating initial rate of rise of current \n",
"r=V/L\n",
"mprintf('Initial rate of rise of current=%f A/s',r)"
   ]
   }
,
{
		   "cell_type": "markdown",
		   "metadata": {},
		   "source": [
			"## Example 5.15: Example_on_Growth_and_Decay_of_Current_in_Inductive_Circuits.sce"
		   ]
		  },
  {
"cell_type": "code",
	   "execution_count": null,
	   "metadata": {
	    "collapsed": true
	   },
	   "outputs": [],
"source": [
"\n",
"R=.5+40+15//total resistance\n",
"L=1//total inductance\n",
"T=L/R\n",
"V=12//emf of battery\n",
"I=V/R//final steady current in the circuit\n",
"i=.04//current at time t after closing the circuit\n",
"t=-T*log(1-i/I)\n",
"mprintf('The relay will begin to operate %f sec after the relay circuit is closed\n',t)"
   ]
   }
,
{
		   "cell_type": "markdown",
		   "metadata": {},
		   "source": [
			"## Example 5.16: Example_on_Energy_Stored_in_Magnetic_Field.sce"
		   ]
		  },
  {
"cell_type": "code",
	   "execution_count": null,
	   "metadata": {
	    "collapsed": true
	   },
	   "outputs": [],
"source": [
"\n",
"mu_not=4*%pi*1D-7\n",
"//calculating inductance \n",
"N=4000//number of turns\n",
"I=2//current flowing in the solenoid\n",
"d=8D-2//diameter of solenoid\n",
"As=%pi/4*d^2\n",
"l=80D-2//length of solenoid in mtrs\n",
"phi=mu_not*N*I*As/l\n",
"L=N*phi/I\n",
"mprintf('Inductance=%f H\n',L)\n",
"//calculating energy stored in the magnetic field\n",
"E=L*I^2/2\n",
"mprintf('Energy stored in the magnetic field=%f J',E)"
   ]
   }
,
{
		   "cell_type": "markdown",
		   "metadata": {},
		   "source": [
			"## Example 5.17: Example_on_Energy_Stored_in_Magnetic_Field.sce"
		   ]
		  },
  {
"cell_type": "code",
	   "execution_count": null,
	   "metadata": {
	    "collapsed": true
	   },
	   "outputs": [],
"source": [
"\n",
"mu_not=4D-7*%pi\n",
"//calculating exciting current\n",
"B=1.2//flux density\n",
"mu_r=500//rel permeability for iron\n",
"H=B/(mu_not*mu_r)\n",
"D=10D-2//mean diameter\n",
"l=%pi*D//length of flux path in the ring\n",
"AT=H*l\n",
"N=300//number of turns on the ring\n",
"I=AT/N\n",
"mprintf('Exciting current=%d A\n',round(I))\n",
"//calculating inductance\n",
"As=8D-4//cross-sectional area\n",
"phi=B*As\n",
"L=N*phi/I\n",
"mprintf('Inductance=%f H\n',L)\n",
"//calculating energy stored\n",
"E=L*I^2/2\n",
"mprintf('Energy stored=%f J\n',E)\n",
"//consider the case in which an air gap of 2 mm in the ring is made\n",
"li=l-2D-3//length of flux path in iron portion\n",
"lg=2D-3//length of air gap\n",
"ATi=H*li//ampere turns for iron portion\n",
"ATg=.796*B*lg*10^6//ampere turns for air gap\n",
"AT=ATi+ATg\n",
"I=AT/N\n",
"mprintf('When there is an air gap of 2mm in the ring\nExciting current=%f A\n',I)\n",
"L=N*phi/I\n",
"mprintf('Inductance=%f mH\n',L*1000)\n",
"E=L*I^2/2\n",
"mprintf('Energy stored=%f J\n',E)\n",
"\n",
""
   ]
   }
,
{
		   "cell_type": "markdown",
		   "metadata": {},
		   "source": [
			"## Example 5.18: Example_on_Energy_Stored_in_Magnetic_Field.sce"
		   ]
		  },
  {
"cell_type": "code",
	   "execution_count": null,
	   "metadata": {
	    "collapsed": true
	   },
	   "outputs": [],
"source": [
"\n",
"mu_not=4D-7*%pi\n",
"//calculating pull on the armature\n",
"mu_r=300//rel permeability of iron\n",
"AT=2000//total ampere turns\n",
"li=50D-2//length of iron path\n",
"lg=1.5D-3//length of air gap\n",
"B=AT/(li/(mu_not*mu_r)+.796*lg*10^6)\n",
"A=3D-4//area of each pole shoe\n",
"x=B^2*A/(2*mu_not)//pull on the armature at each pole\n",
"p=2*x\n",
"mprintf('Total pull due to both the poles=%f N\n',p)\n",
"//considering the gap closes to .2 mm\n",
"lg=.2*1D-3\n",
"B=AT/(li/(mu_not*mu_r)+.796*lg*10^6)\n",
"x=B^2*A/(2*mu_not)\n",
"p=2*x\n",
"mprintf('When the gap closes to .2 mm, total force needed due to both the poles, to pull the armature away=%f N',p)\n",
"//answer vary from the textbook due to round off error\n",
"\n",
""
   ]
   }
,
{
		   "cell_type": "markdown",
		   "metadata": {},
		   "source": [
			"## Example 5.1: Example_on_Induced_EMF.sce"
		   ]
		  },
  {
"cell_type": "code",
	   "execution_count": null,
	   "metadata": {
	    "collapsed": true
	   },
	   "outputs": [],
"source": [
"\n",
"N=1000//no. of turns in the coil\n",
"dphi=-2*900D-6//change in flux in Wb\n",
"dt=.2//time in sec in which change takes place\n",
"emf=-N*dphi/dt\n",
"mprintf('Average emf induced in the coil=%d V',round(emf))"
   ]
   }
,
{
		   "cell_type": "markdown",
		   "metadata": {},
		   "source": [
			"## Example 5.2: Example_on_Induced_EMF.sce"
		   ]
		  },
  {
"cell_type": "code",
	   "execution_count": null,
	   "metadata": {
	    "collapsed": true
	   },
	   "outputs": [],
"source": [
"\n",
"l=80D-2//length of conductor\n",
"B=1.2//flux density of uniform magnetic field\n",
"v=30//velocity of conductor in m/s\n",
"//when the direction of motion is perpendicular to field\n",
"e=B*l*v\n",
"mprintf('emf induced in the conductor when the direction of motion is perpendicular to field=%f V\n',e)\n",
"//when the direction of motion is inclined 45 degrees to field\n",
"e=B*l*v*sin(%pi/4)\n",
"mprintf('emf induced in the coil when the direction of motion is inclined 45 degrees to field=%f V',e)"
   ]
   }
,
{
		   "cell_type": "markdown",
		   "metadata": {},
		   "source": [
			"## Example 5.3: Example_on_Induced_EMF.sce"
		   ]
		  },
  {
"cell_type": "code",
	   "execution_count": null,
	   "metadata": {
	    "collapsed": true
	   },
	   "outputs": [],
"source": [
"\n",
"N=120//no. of turns in coil\n",
"dphi=(.3-.8)*1D-3//change in flux due to motion of conductor\n",
"dt=.08//time taken for change in flux\n",
"e=-N*dphi/dt\n",
"mprintf('Induced emf in the coil=%f V\n',e)\n",
"R=200//resistance offered by the coil\n",
"I=e/R\n",
"mprintf('Induced current=%f mA',I*1000)"
   ]
   }
,
{
		   "cell_type": "markdown",
		   "metadata": {},
		   "source": [
			"## Example 5.4: Example_on_Induced_EMF.sce"
		   ]
		  },
  {
"cell_type": "code",
	   "execution_count": null,
	   "metadata": {
	    "collapsed": true
	   },
	   "outputs": [],
"source": [
"\n",
"mu_not=4D-7*%pi\n",
"N=3500//no. of turns on iron rod\n",
"I=.6//current through coil\n",
"AT=N*I\n",
"B=.45//flux density in Wb/m^2\n",
"l=25D-2//length of mean magnetic flux path\n",
"H=AT/l\n",
"mu_r=B/(H*mu_not)\n",
"mprintf('Relative permeability of metal=%f\n',mu_r)\n",
"A=%pi*2.5D-2^2/4//cross sectional area of ring\n",
"phi=B*A\n",
"L=N*phi/I\n",
"mprintf('Self inductance of coil=%f H\n',L)\n",
"//solving part(iii)\n",
"dphi=.08*phi-phi//change in flux\n",
"dt=.0015//time taken for change\n",
"e=-N*dphi/dt\n",
"mprintf('emf induced in the coil when value of flux falls to 8 percent its valiue in 0.0015 sec=%f V',e)"
   ]
   }
,
{
		   "cell_type": "markdown",
		   "metadata": {},
		   "source": [
			"## Example 5.5: Example_on_Induced_EMF.sce"
		   ]
		  },
  {
"cell_type": "code",
	   "execution_count": null,
	   "metadata": {
	    "collapsed": true
	   },
	   "outputs": [],
"source": [
"\n",
"mu_not=4D-7*%pi\n",
"H=3500//ampere turns per metre of flux path length\n",
"l=%pi*40D-2//length of mean flux path in ring\n",
"AT=H*l\n",
"N=440//no. of turns on coil\n",
"I=AT/N//exciting current\n",
"mprintf('Exciting current=%d A\n',round(I))\n",
"B=.9//flux density\n",
"A=15D-4//cross-sectional area of ring\n",
"phi=B*A\n",
"L=N*phi/I\n",
"mprintf('Self-inductance of coil=%f H\n',L)\n",
"//solving part(iii)\n",
"l=(l-1/10^2)//length of mean flux path in steel ring\n",
"ATi=H*l//ampere turns required for iron portion\n",
"ATg=.796*B*1D-2*1D+6//ampere turns for air gap\n",
"AT=ATi+ATg\n",
"I=AT/N\n",
"mprintf('When an air gap 1 cm long is cut in the ring, exciting current I=%f A and self inductance of coil=%f H\n',I,N*phi/I)"
   ]
   }
,
{
		   "cell_type": "markdown",
		   "metadata": {},
		   "source": [
			"## Example 5.6: Example_on_Induced_EMF.sce"
		   ]
		  },
  {
"cell_type": "code",
	   "execution_count": null,
	   "metadata": {
	    "collapsed": true
	   },
	   "outputs": [],
"source": [
"\n",
"N=800//no. of turns\n",
"dI=10-5//change in current\n",
"dB=1.2-.8//corresponding change in flux density\n",
"A=15D-4//cross sectional area\n",
"L=A*N*dB/dI\n",
"mprintf('Self inductance of coil,L=%f H\n',L)\n",
"di=5-10//change in current\n",
"dt=.04//time taken for change\n",
"e=-L*di/dt\n",
"mprintf('Induced emf when the current falls uniformly from 10 A to 5 A in 0.04 sec=%d V',round(e))"
   ]
   }
,
{
		   "cell_type": "markdown",
		   "metadata": {},
		   "source": [
			"## Example 5.7: Example_on_Induced_EMF.sce"
		   ]
		  },
  {
"cell_type": "code",
	   "execution_count": null,
	   "metadata": {
	    "collapsed": true
	   },
	   "outputs": [],
"source": [
"\n",
"mu_not=4D-7*%pi\n",
"N=1200//no. of turns in the coil on solenoid\n",
"l=80D-2//length of solenoid\n",
"A=%pi/4*(5D-2)^2//cross-sectional area\n",
"L=N*(mu_not*N*A/l)\n",
"mprintf('Self inductance=%f mH\n',L*1000)\n",
"//calculating induced emf\n",
"di=-5-5\n",
"dt=.03\n",
"e=-L*di/dt\n",
"mprintf('Induced emf=%f V',e)"
   ]
   }
,
{
		   "cell_type": "markdown",
		   "metadata": {},
		   "source": [
			"## Example 5.8: Example_on_Induced_EMF.sce"
		   ]
		  },
  {
"cell_type": "code",
	   "execution_count": null,
	   "metadata": {
	    "collapsed": true
	   },
	   "outputs": [],
"source": [
"\n",
"N=1500//no. of turns in coil A\n",
"phi=.04D-3//flux linking coil A in Wb\n",
"I=4//current in coil\n",
"La=N*phi/I\n",
"mprintf('Self inductance of coil A=%f mH. As the coils are identical, coil B will also have the same self-inductance.Hence, self-inductance of coil B=%f mH\n',La*1000,La*1000)\n",
"k=.7\n",
"M=N*k*phi/I\n",
"mprintf('Mutual inductance of arrangement=%f mH\n',M*1000)\n",
"di=-8\n",
"dt=.02\n",
"e=-M*di/dt\n",
"mprintf('Emf induced in the coil B due to a change of current in coil A=%f V\n',e)\n",
"\n",
""
   ]
   }
,
{
		   "cell_type": "markdown",
		   "metadata": {},
		   "source": [
			"## Example 5.9: Example_on_Induced_EMF.sce"
		   ]
		  },
  {
"cell_type": "code",
	   "execution_count": null,
	   "metadata": {
	    "collapsed": true
	   },
	   "outputs": [],
"source": [
"\n",
"mu_not=4D-7*%pi\n",
"Ns=400//no. of turns on search coil\n",
"N=1000//no. of turns of wire on solenoid\n",
"M=mu_not*Ns*N*25D-4/80D-2\n",
"mprintf('Mutual inductance of arrangement=%f mH\n',M*1000)\n",
"//di/dt=200\n",
"e=-M*200\n",
"mprintf('emf induced in search coil=%f V',e)"
   ]
   }
],
"metadata": {
		  "kernelspec": {
		   "display_name": "Scilab",
		   "language": "scilab",
		   "name": "scilab"
		  },
		  "language_info": {
		   "file_extension": ".sce",
		   "help_links": [
			{
			 "text": "MetaKernel Magics",
			 "url": "https://github.com/calysto/metakernel/blob/master/metakernel/magics/README.md"
			}
		   ],
		   "mimetype": "text/x-octave",
		   "name": "scilab",
		   "version": "0.7.1"
		  }
		 },
		 "nbformat": 4,
		 "nbformat_minor": 0
}
