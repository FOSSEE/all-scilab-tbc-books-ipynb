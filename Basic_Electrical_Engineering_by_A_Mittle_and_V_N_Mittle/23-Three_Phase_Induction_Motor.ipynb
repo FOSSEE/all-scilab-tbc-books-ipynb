{
"cells": [
 {
		   "cell_type": "markdown",
	   "metadata": {},
	   "source": [
       "# Chapter 23: Three Phase Induction Motor"
	   ]
	},
{
		   "cell_type": "markdown",
		   "metadata": {},
		   "source": [
			"## Example 23.10: Example_on_Losses_in_Induction_Motor.sce"
		   ]
		  },
  {
"cell_type": "code",
	   "execution_count": null,
	   "metadata": {
	    "collapsed": true
	   },
	   "outputs": [],
"source": [
"\n",
"f=50//frequency\n",
"P=6//no. of poles\n",
"Ns=120*f/P//synchronous speed in rpm\n",
"Nr=950//speed at which the motor is running in rpm\n",
"s=(Ns-Nr)/Ns//slip\n",
"Pm=3.73D+3//mechanical power developed by the motor\n",
"//iron losses in the rotor are neglected\n",
"Prcu=s*Pm/(1-s)//rotor copper loss\n",
"P1=Pm+Prcu//rotor input\n",
"P=.25D+3//stator losses\n",
"P2=P1+P\n",
"mprintf('Stator input to the 3-phase induction motor=%f kW\n',P2/1000)"
   ]
   }
,
{
		   "cell_type": "markdown",
		   "metadata": {},
		   "source": [
			"## Example 23.11: Example_on_Losses_in_Induction_Motor.sce"
		   ]
		  },
  {
"cell_type": "code",
	   "execution_count": null,
	   "metadata": {
	    "collapsed": true
	   },
	   "outputs": [],
"source": [
"\n",
"//calculating rotor copper losses\n",
"s=.04//slip of the motor\n",
"Pout=14.92D+3//output of the motor\n",
"Pfw=200//friction and windage losses\n",
"Prcu=s*(Pout+Pfw)/(1-s)\n",
"mprintf('Rotor copper losses=%d W\n',round(Prcu))\n",
"//calculating efficiency at full load\n",
"P=Pout+Pfw+Prcu+1620//stator input\n",
"e=Pout/P*100\n",
"mprintf('Efficiency at full load=%f percent\n',e)\n",
"//calculating line current\n",
"pf=.86//power factor of load\n",
"Vl=500//line voltage\n",
"Il=P/(sqrt(3)*Vl*pf)\n",
"mprintf('Line current=%f A\n',Il)\n",
"//calculating no of complete cycles of the rotor electromotive force per minute\n",
"f=50//supply frequency\n",
"f_r=s*f//frequency of rotor emf\n",
"n=f_r*60\n",
"mprintf('No of complete cycles of the rotor electromotive force per minute=%d\n',n)\n",
"//answer vary from the textbook due to round off error, also there is an error in value of stator input given in textbook "
   ]
   }
,
{
		   "cell_type": "markdown",
		   "metadata": {},
		   "source": [
			"## Example 23.12: Example_on_Losses_in_Induction_Motor.sce"
		   ]
		  },
  {
"cell_type": "code",
	   "execution_count": null,
	   "metadata": {
	    "collapsed": true
	   },
	   "outputs": [],
"source": [
"\n",
"//calculating slip\n",
"n=100//no. of complete alternations per minute of rotor emf\n",
"f_r=n/60//rotor frequency in Hz\n",
"f=50//supply frequency in Hz\n",
"s=f_r/f\n",
"mprintf('Slip of the motor=%f percent\n',s*100)\n",
"//calculating rotor speed\n",
"P=6//no. of poles\n",
"Ns=120*f/P//synchronous speed\n",
"Nr=(1-s)*Ns\n",
"mprintf('Rotor speed=%d rpm\n',round(Nr))\n",
"//calculating rotor copper losses per phase\n",
"P1=75D+3//rotor input\n",
"Prcu=P1*s\n",
"mprintf('Rotor copper losses per phase=%f W\n',Prcu/3)\n",
"//calculating mechanical power developed\n",
"Pm=P1-Prcu\n",
"mprintf('Mechanical power developed=%f kW\n',Pm/1000)\n",
"//calculating rotor resistance per phase\n",
"Ir=60//rotor current\n",
"Rr=Prcu/(3*Ir^2)\n",
"mprintf('Rotor resistance per phase=%f ohm',Rr)\n",
"//answers vary from the textbook due to round off error"
   ]
   }
,
{
		   "cell_type": "markdown",
		   "metadata": {},
		   "source": [
			"## Example 23.13: Example_on_Torque.sce"
		   ]
		  },
  {
"cell_type": "code",
	   "execution_count": null,
	   "metadata": {
	    "collapsed": true
	   },
	   "outputs": [],
"source": [
"\n",
"\n",
"//calculating ratio of maximum to full load torque\n",
"Nr=970//speed at full load torque in rpm\n",
"Ns=50*120/6//synchronous speed in rpm\n",
"s=(Ns-Nr)/Ns//slip at full load\n",
"R2=.02//rotor resistance per phase\n",
"X2=.3//rotor reactance per phase at standstill\n",
"alpha=R2/X2\n",
"//Full load torque Tf=k1*Kt\n",
"k1=s*alpha/(s^2+alpha^2)\n",
"//maximum torque Tmax=Kt/2\n",
"x=1/(2*k1)\n",
"mprintf('Ratio of maximum to full load torque=%f\n',x)\n",
"//calculating speed at maximum torque\n",
"s_m=R2/X2//slip at maximum torque\n",
"Nm=(1-s_m)*Ns\n",
"mprintf('Speed at maximum torque=%d rpm\n',round(Nm))\n",
"//calculating ratio of starting torque to full load torque\n",
"s=1//slip at starting\n",
"//starting torque Tst=k2*Kt\n",
"k2=s*alpha/(s^2+alpha^2)\n",
"y=k2/k1\n",
"mprintf('Ratio of starting torque to full load torque=%f\n',y)"
   ]
   }
,
{
		   "cell_type": "markdown",
		   "metadata": {},
		   "source": [
			"## Example 23.14: Example_on_Torque.sce"
		   ]
		  },
  {
"cell_type": "code",
	   "execution_count": null,
	   "metadata": {
	    "collapsed": true
	   },
	   "outputs": [],
"source": [
"\n",
"function[r]=mag(A)\n",
"    x=real(A)\n",
"    y=imag(A)\n",
"    r=sqrt(x^2+y^2)\n",
"endfunction\n",
"j=%i\n",
"Vl=220//line voltage\n",
"Vph=Vl/sqrt(3)//stator phase voltage\n",
"n=.65//ratio of no. of rotor winding turns to no. of stator winding turns\n",
"E2=n*Vph//phase voltage induced in the rotor winding at standstill\n",
"R2=.1//rotor resistance per phase\n",
"X2=.8//standstill reactance per phase\n",
"//at 5 % slip\n",
"s=5/100\n",
"X=s*X2//reactance per phase\n",
"Z2=R2+X*j//rotor impedance\n",
"e2=s*E2//rotor phase voltage\n",
"I2=e2/mag(Z2)\n",
"mprintf('Rotor current at 5 percent slip=%f A\n',I2)\n",
"//calculating rotor input\n",
"Prcu=3*I2^2*R2//total rotor copper losses\n",
"Pg=Prcu/s\n",
"mprintf('Rotor input=%f W\n',Pg)\n",
"//calculating total torque at 5% slip\n",
"Pm=Pg-3*I2^2*R2//mechanical power developed by the rotor\n",
"Ns=120*50/4//synchronous speed\n",
"Nr=Ns*(1-s)//speed of the rotor\n",
"T=60*Pm/(2*%pi*round(Nr))\n",
"mprintf('Total torque developed by the rotor at 5 percent slip=%f N-m\nTotal mechanical power at 5 percent slip=%f kW\n',T,Pm/1000)\n",
"//calculating rotor current at maximum torque\n",
"s_m=R2/X2//slip for maximum torque\n",
"I2m=s_m*E2/sqrt(R2^2+(s_m*X2)^2)\n",
"mprintf('Rotor current at maximum torque=%d A\n',round(I2m))\n",
"//calculating rotor input corresponding to maximum torque\n",
"Sm=3*round(I2m)^2*R2//total rotor copper losses\n",
"Pg=Sm/s_m\n",
"mprintf('Rotor input corresponding to maximum torque=%f W\n',Pg)\n",
"//calculating maximum torque\n",
"Pm=Pg-Sm\n",
"Nm=Ns*(1-s_m)\n",
"T=60*Pm/(2*%pi*round(Nm))\n",
"mprintf('Maximum torque=%f N-m\nSpeed at maximum torque=%d rpm\nMaximum mechanical power=%f kW',T,Nm,Pm/1000)\n",
"//answers vary from the textbook due to round off error"
   ]
   }
,
{
		   "cell_type": "markdown",
		   "metadata": {},
		   "source": [
			"## Example 23.15: Example_on_Torque.sce"
		   ]
		  },
  {
"cell_type": "code",
	   "execution_count": null,
	   "metadata": {
	    "collapsed": true
	   },
	   "outputs": [],
"source": [
"\n",
"Ns=120*50/4//synchronous speed\n",
"R2=.03//rotor resistance\n",
"X2=.15//rotor reactance\n",
"alpha=R2/X2\n",
"s_m=alpha//slip at maximum torque\n",
"Nr=(1-s_m)*Ns//speed at maximum torque\n",
"//alpha=(.03+r)/.15\n",
"//Tst=Kt*alpha/(1+alpha^2)\n",
"//Tmax=Kt/2\n",
"//Tst/Tmax=3/4-->3*alpha^2-8*alpha+3=0\n",
"//solving for alpha\n",
"alpha=(8-sqrt(8^2-4*3*3))/(2*3)\n",
"r=.15*alpha-.03\n",
"mprintf('If a resistance of %f ohm is added in the circuit, the required starting torque will be achieved',r)\n",
"\n",
"    "
   ]
   }
,
{
		   "cell_type": "markdown",
		   "metadata": {},
		   "source": [
			"## Example 23.16: Example_on_Torque.sce"
		   ]
		  },
  {
"cell_type": "code",
	   "execution_count": null,
	   "metadata": {
	    "collapsed": true
	   },
	   "outputs": [],
"source": [
"\n",
"R2=1.1//rotor resistance per phase\n",
"//at 60 Hz supply\n",
"f=60//frequency of supply\n",
"P=6//no. of poles\n",
"Ns1=120*f/P//synchronous speed\n",
"Nr=1000//speed of rotor\n",
"s_m1=(Ns1-Nr)/Ns1//slip at maximum torque\n",
"X2=R2/s_m1\n",
"L2=X2/(2*%pi*60)\n",
"//at 50 Hz supply\n",
"X2=2*%pi*50*L2\n",
"s_m2=R2/X2//slip at maximum torque\n",
"Ns2=120*50/6//synchronous speed\n",
"Nr2=(1-s_m2)*Ns2\n",
"mprintf('Rotor speed at maximum torque=%d rpm',round(Nr2))"
   ]
   }
,
{
		   "cell_type": "markdown",
		   "metadata": {},
		   "source": [
			"## Example 23.17: No_load_and_Block_Rotor_Test.sce"
		   ]
		  },
  {
"cell_type": "code",
	   "execution_count": null,
	   "metadata": {
	    "collapsed": true
	   },
	   "outputs": [],
"source": [
"\n",
"function[z]=pol2rect(r,theta)\n",
"    x=r*cos(theta)\n",
"    y=r*sin(theta)\n",
"    z=x+y*%i\n",
"endfunction\n",
"function[r]=mag(A)\n",
"    x=real(A)\n",
"    y=imag(A)\n",
"    r=sqrt(x^2+y^2)\n",
"endfunction\n",
"\n",
"j=%i\n",
"R1=.15//per phase stator winding resistance\n",
"//block rotor test\n",
"Vb=133/sqrt(3)//per phase voltage\n",
"Ib=100//per phase current\n",
"Wb=8085/3//per phase power\n",
"Zb=Vb/Ib//per phase impedance\n",
"Rb=Wb/Ib^2//per phase resistance\n",
"Xb=sqrt(Zb^2-Rb^2)//per phase reactance\n",
"R2_dash=Rb-R1//per phase rotor resistance referred to stator\n",
"X2_dash=Xb/2//per phase rotor reactance referred to stator\n",
"X1=X2_dash//per phase stator leakage reactance\n",
"//no load test\n",
"Vo=400/sqrt(3)//per phase voltage\n",
"Io=20//per phase current\n",
"Wo=2080/3//per phase power\n",
"pf=Wo/(Vo*Io)//power factor\n",
"phi0=acos(pf)\n",
"Iw=Io*cos(phi0)\n",
"Im=-Io*sin(phi0)*j\n",
"Io=pol2rect(Io,-phi0)\n",
"Z1=R1+X1*j\n",
"Ro=(Vo-Io*Z1)/Iw\n",
"Xm=(Vo-Io*Z1)/Im\n",
"mprintf('Equivalent circuit parameters are\nR1=%f ohm;\nX1=%f ohm;\nR2_dash=%f ohm;\nX2_dash=%f ohm;\nRo=%f ohm;\nXm=%f ohm',R1,X1,R2_dash,X2_dash,mag(Ro),mag(Xm))\n",
""
   ]
   }
,
{
		   "cell_type": "markdown",
		   "metadata": {},
		   "source": [
			"## Example 23.18: Example_on_Circle_Diagram.sce"
		   ]
		  },
  {
"cell_type": "code",
	   "execution_count": null,
	   "metadata": {
	    "collapsed": true
	   },
	   "outputs": [],
"source": [
"\n",
"//refer Fig. 23.25 in the textbook\n",
"k1=40//current scale\n",
"Vph=400/sqrt(3)//voltage per phase\n",
"P=k1*Vph//power per phase\n",
"k2=3*P//power scale\n",
"//calculating full load stator current\n",
"P=33.6D+3//output of motor\n",
"P1=P/k2//ouput of motor to scale\n",
"//P is the corresponding operating point\n",
"OP=1.55\n",
"I1=OP*k1\n",
"phi1=28.5\n",
"mprintf('Full load stator current=%f A with %f power factor lagging\n',I1,cos(phi1*%pi/180))\n",
"//calculating efficiency at full load\n",
"PL=2.35\n",
"PX=2.75\n",
"e=PL/PX*100\n",
"mprintf('Efficiency at full load=%f percent\n',e)\n",
"//calculating max power output\n",
"NPm=2.6\n",
"mprintf('Maximum output power=%f kW\n',NPm*k2*10^-3)\n",
"//calculting max torque developed\n",
"MTm=3.12\n",
"mprintf('Maximum torque developed by the motor=%f kW',MTm*k2*10^-3)\n",
"//answers vary from the textbook due to round off error"
   ]
   }
,
{
		   "cell_type": "markdown",
		   "metadata": {},
		   "source": [
			"## Example 23.19: Example_on_starting.sce"
		   ]
		  },
  {
"cell_type": "code",
	   "execution_count": null,
	   "metadata": {
	    "collapsed": true
	   },
	   "outputs": [],
"source": [
"\n",
"//at short circuit\n",
"Vsc=100//applied voltage\n",
"Isc=15//line value of current\n",
"Iph=Isc/sqrt(3)//phase value of current\n",
"//calculating starting current drawn by the motor\n",
"V=400//line voltage\n",
"Vph=V/sqrt(3)//phase voltage\n",
"I=Iph*Vph/Vsc//phase value of starting current\n",
"Il=I\n",
"mprintf('Starting current drawn by the motor=%d A\n',Il)\n",
"//calculating ratio of starting to full load current\n",
"Pout=5D+3//output\n",
"e=.84//full load efficiency\n",
"pf=.82//power factor\n",
"I=Pout/(sqrt(3)*V*pf*e)//full load current\n",
"r=Il/I\n",
"mprintf('Ratio of starting to full load current=%f',r)\n",
""
   ]
   }
,
{
		   "cell_type": "markdown",
		   "metadata": {},
		   "source": [
			"## Example 23.1: Example_on_Slip_and_Rotor_Frequency.sce"
		   ]
		  },
  {
"cell_type": "code",
	   "execution_count": null,
	   "metadata": {
	    "collapsed": true
	   },
	   "outputs": [],
"source": [
"\n",
"\n",
"//calculating full load speed of induction motor\n",
"P1=8//no. of poles of alternator\n",
"N=750//speed at which alternator runs\n",
"f=P1*N/120//frequency of alternator\n",
"P2=6//no. of poles of induction motor\n",
"Ns=120*f/P2//synchronous speed\n",
"s=.03//full load slip\n",
"Nr=Ns*(1-s)\n",
"mprintf('Full load speed of induction motor=%d rpm\n', round(Nr))\n",
"//calculating frequency of rotor emf\n",
"fr=s*f\n",
"mprintf('Frequency of rotor emf=%f Hz', fr)\n",
""
   ]
   }
,
{
		   "cell_type": "markdown",
		   "metadata": {},
		   "source": [
			"## Example 23.20: Example_on_starting.sce"
		   ]
		  },
  {
"cell_type": "code",
	   "execution_count": null,
	   "metadata": {
	    "collapsed": true
	   },
	   "outputs": [],
"source": [
"\n",
"V=400//phase voltage applied to motor\n",
"//when started directly on line\n",
"Iph=25//phase current\n",
"Il=sqrt(3)*Iph\n",
"mprintf('Line current drawn by the motor when started directly on line=%f A\n',Il)\n",
"//when started with auto-transformer starter with a tapping percent of 60 percent\n",
"Vl=.6*V//line voltage\n",
"Vph=Vl//phase voltage\n",
"Iph=25//phase current\n",
"Ist=Iph*Vph/V\n",
"Il=sqrt(3)*Ist\n",
"mprintf('When started with auto-transformer starter with a tapping of 60 percent\nPhase starting current =%f A\nLine starting current=%f A\n',Ist,Il)\n",
"//when started with star-delta starter\n",
"Vph=V/sqrt(3)//phase voltage\n",
"I=Iph*Vph/V\n",
"Il=I\n",
"mprintf('When started with star-delta starter\nPhase starting current =%f A\nLine starting current=%f A',I,Il) "
   ]
   }
,
{
		   "cell_type": "markdown",
		   "metadata": {},
		   "source": [
			"## Example 23.2: Example_on_Slip_and_Rotor_Frequency.sce"
		   ]
		  },
  {
"cell_type": "code",
	   "execution_count": null,
	   "metadata": {
	    "collapsed": true
	   },
	   "outputs": [],
"source": [
"\n",
"//calculating no. of poles\n",
"Ns=1200//synchronous speed of rotating magnetic field\n",
"f=60//frequency of the supply to the stator\n",
"P=120*f/Ns\n",
"mprintf('No. of poles=%d\n', P)\n",
"//calculating slip at full load\n",
"Nr=1140//full load speed\n",
"s=(Ns-Nr)/Ns\n",
"mprintf('Percentage slip at full load=%f percent\n',s*100)\n",
"//calculating frequency of rotor voltage\n",
"fr=s*f\n",
"mprintf('Frequency of rotor voltage=%d Hz\n',fr)\n",
"//calculating speed of rotor field w.r.t. rotor\n",
"N1=120*fr/P//speed\n",
"mprintf('Speed of rotor field w.r.t. rotor=%d rpm\n',N1)\n",
"//calculating speed of rotor field w.r.t. stator\n",
"N2=1140//speed of the rotor w.r.t. stator\n",
"mprintf('Speed of the rotor field w.r.t. stator=%d rpm\nSpeed of the rotor field w.r.t. stator field=%d rpm\n', N2+N1,N1+N2-Ns)\n",
"s=.1\n",
"N1=(1-s)*Ns\n",
"mprintf('Speed of the rotor at 10 percent slip=%d rpm\nRotor frequency at 10 percent slip=%d Hz\n',N1,s*f)\n",
"Eph=230//applied voltage per phase\n",
"E1ph=Eph//induced emf per phase in the stator winding\n",
"E2ph=E1ph*.5//rotor induced emf at standstill\n",
"E2ph_dash=s*E2ph\n",
"mprintf('Rotor induced emf at standstill=%f V\nRotor induced emf at 10 percent slip=%f V',E2ph,E2ph_dash)"
   ]
   }
,
{
		   "cell_type": "markdown",
		   "metadata": {},
		   "source": [
			"## Example 23.3: Example_on_Slip_and_Rotor_Frequency.sce"
		   ]
		  },
  {
"cell_type": "code",
	   "execution_count": null,
	   "metadata": {
	    "collapsed": true
	   },
	   "outputs": [],
"source": [
"\n",
"//calculating synchronous speed\n",
"f=50//frequency\n",
"P=4//no. of poles\n",
"Ns=120*f/P\n",
"mprintf('Synchronous speed=%f rpm\n',Ns)\n",
"//calculating speed of rotating air gap field\n",
"mprintf('Rotating field in air gap rotates at synchronous speed,hence its speed=%f rpm\n',Ns)\n",
"//calculating speed of induction motor\n",
"s=.04//slip\n",
"Nr=(1-s)*Ns\n",
"mprintf('Speed of induction motor=%f rpm\n',Nr)\n",
"//calculating slip in rpm\n",
"mprintf('Slip of the motor in rpm=%f rpm\n',s*Ns)\n",
"mprintf('The rotor field rotates at synchronous speed w.r.t. stator, hence relative speed=%f rpm\n',Ns)\n",
"mprintf('Both rotor and stator field rotate at synchronous speed,relative to the stator, hence, speed of rotor field w.r.t. stator field=0 rpm\n')\n",
"mprintf('Speed of the rotor field w.r.t. rotor=%f rpm\n',s*Ns)\n",
"//calculating frequency of rotor induced emf\n",
"fr=s*f\n",
"mprintf('Frequency of rotor induced emf=%f Hz\n',fr)\n",
"//calculating rotor induced emf per phase\n",
"k=.6//turns ratio\n",
"E1ph=400/sqrt(3)//induced emf in stator winding\n",
"E2ph=E1ph*k//rotor induced emf per phase at the instant of starting\n",
"E2ph_dash=s*E2ph\n",
"mprintf('Rotor induced emf per phase under loaded condition=%f V',E2ph_dash)"
   ]
   }
,
{
		   "cell_type": "markdown",
		   "metadata": {},
		   "source": [
			"## Example 23.4: Example_on_Equivalent_Circuit.sce"
		   ]
		  },
  {
"cell_type": "code",
	   "execution_count": null,
	   "metadata": {
	    "collapsed": true
	   },
	   "outputs": [],
"source": [
"\n",
"R2=.5//rotor resistance per phase\n",
"//at standstill\n",
"E=40//induced emf\n",
"E2=E/sqrt(3)//induced emf per phase\n",
"X2=3//rotor reactance per phase\n",
"R=4//additional resistance per phase in the rotor circuit\n",
"Rt=R2+R//total resistance per phase in the rotor circuit\n",
"Z2=sqrt(Rt^2+X2^2)//rotor impedance per phase\n",
"I2=E2/Z2\n",
"mprintf('Rotor current per phase at standstill=%f A\n', I2)\n",
"//calculating rotor current per phase at 5% slip\n",
"s=.05//slip\n",
"X2=s*X2\n",
"Z2=sqrt(R2^2+X2^2)\n",
"E2=s*E2//induced emf per phase\n",
"I2=E2/Z2\n",
"mprintf('Rotor current per phase at 5 percent slip=%f A',I2)"
   ]
   }
,
{
		   "cell_type": "markdown",
		   "metadata": {},
		   "source": [
			"## Example 23.5: Example_on_Equivalent_Circuit.sce"
		   ]
		  },
  {
"cell_type": "code",
	   "execution_count": null,
	   "metadata": {
	    "collapsed": true
	   },
	   "outputs": [],
"source": [
"\n",
"//calculating rotor starting current per phase on normal voltage with slip ring short-circuited\n",
"V=400//voltage applied to the stator winding\n",
"V1=V/sqrt(3)//phase voltage\n",
"k=2.5//transformation ratio\n",
"R2=.02//rotor resistance per phase\n",
"//at standstill\n",
"s=1//slip\n",
"E2=V1/k//induced phase voltage in the rotor winding\n",
"X2=2*%pi*50*.6D-3//rotor reactance per phase\n",
"Z2=sqrt(R2^2+X2^2)\n",
"I2=E2/Z2\n",
"mprintf('Rotor starting current per phase on normal voltage with slip ring short-circuited=%f A\n',I2)\n",
"//calculating rotor power factor at starting\n",
"pf=R2/Z2\n",
"mprintf('Rotor power factor at starting=%f\n',pf)\n",
"//calculating rotor current per phase at 3 % slip\n",
"s=.03//slip\n",
"E2=s*E2\n",
"X2=s*X2\n",
"Z2=sqrt(R2^2+X2^2)\n",
"I2=E2/Z2\n",
"mprintf('Rotor current per phase at 3 percent slip=%f A\n',I2)\n",
"//calculating rotor power factor at 3% slip\n",
"pf=R2/Z2\n",
"mprintf('Rotor power factor at 3 percent slip=%f',pf)\n",
"//answers vary from the textbook due to round off error"
   ]
   }
,
{
		   "cell_type": "markdown",
		   "metadata": {},
		   "source": [
			"## Example 23.6: Example_on_Equivalent_Circuit.sce"
		   ]
		  },
  {
"cell_type": "code",
	   "execution_count": null,
	   "metadata": {
	    "collapsed": true
	   },
	   "outputs": [],
"source": [
"\n",
"function[r,theta]=rect2pol(A)\n",
"    x=real(A)\n",
"    y=imag(A)\n",
"    r=sqrt(x^2+y^2)\n",
"    theta=atand(y/x)\n",
"endfunction\n",
"function[r]=mag(A)\n",
"    x=real(A)\n",
"    y=imag(A)\n",
"    r=sqrt(x^2+y^2)\n",
"endfunction\n",
"j=%i\n",
"R2_dash=.16\n",
"s=.03\n",
"X2=.4\n",
"Z2_dash=R2_dash/s+X2*j//effective rotor impedance referred to stator\n",
"R0=200\n",
"Xm=20*j\n",
"Z=1/(1/R0+1/Xm+1/Z2_dash)//equivalent impedance\n",
"Z1=.15+.4*j//stator impedance\n",
"Zin=Z1+Z//total input impedance\n",
"V=400//applied voltage\n",
"//calculating stator current\n",
"V1=V/sqrt(3)//per phase stator voltage\n",
"I1=V1/Zin\n",
"[I1 theta1]=rect2pol(I1)\n",
"mprintf('Stator current=%f A at %f power factor lagging\n',I1,cos(theta1*%pi/180))\n",
"//calculating rotor current\n",
"I1=V1/Zin\n",
"E1=V1-I1*Z1\n",
"Iw=E1/R0//per phase core loss component of no load current\n",
"Im=E1/Xm//per phase magnetising current\n",
"I0=Iw+Im//no load current\n",
"I2_dash=I1-I0\n",
"[I2_dash theta2]=rect2pol(I2_dash)\n",
"mprintf('Per phase rotor current=%f A lagging by %f degrees\n',I2_dash,-theta2)\n",
"//calculating mechanical output power\n",
"P=I2_dash^2*R2_dash*(1-s)/s//mechanical power output per phase\n",
"Pout=3*P\n",
"mprintf('Total mechanical power output=%f kW\n',Pout/1000)\n",
"//calculating input power drawn by the motor\n",
"Pin=3*V1*mag(I1)*cos(theta1*%pi/180)\n",
"mprintf('Total input power drawn by the motor=%f kW\n',Pin/1000)\n",
"//answers vary from the textbook due to round off error"
   ]
   }
,
{
		   "cell_type": "markdown",
		   "metadata": {},
		   "source": [
			"## Example 23.7: Example_on_Equivalent_Circuit.sce"
		   ]
		  },
  {
"cell_type": "code",
	   "execution_count": null,
	   "metadata": {
	    "collapsed": true
	   },
	   "outputs": [],
"source": [
"\n",
"\n",
"function[r,theta]=rect2pol(A)\n",
"    x=real(A)\n",
"    y=imag(A)\n",
"    r=sqrt(x^2+y^2)\n",
"    theta=atand(y/x)\n",
"endfunction\n",
"function[r]=mag(A)\n",
"    x=real(A)\n",
"    y=imag(A)\n",
"    r=sqrt(x^2+y^2)\n",
"endfunction\n",
"j=%i\n",
"R2_dash=.16\n",
"s=3/100//slip\n",
"Rl=R2_dash*(1-s)/s//load resistance\n",
"Z1=.15+.4*j//stator impedance\n",
"Z2_dash=.16+.4*j//equivalent rotor impedance\n",
"Z=Rl+Z1+Z2_dash//total impedance per phase\n",
"Vph=400/sqrt(3)//applied voltage per phase\n",
"I2_dash=Vph/Z\n",
"R0=200\n",
"Xm=20\n",
"Iw=Vph/R0\n",
"Im=Vph/Xm\n",
"I0=Iw-Im*j\n",
"I1=I0+I2_dash\n",
"[I1 theta]=rect2pol(I1)\n",
"pf=cos(theta*%pi/180)\n",
"p=mag(I2_dash)^2*Rl//output power per phase\n",
"Pout=3*p\n",
"Pin=3*Vph*I1*pf\n",
"mprintf('By using approximate equivalent circuit, the values of different parameters are as under\nPer phase stator current=%f A\nPer phase rotor current=%f A\nOperating power factor=%f\nInput power=%f kW\nMechanical output power=%f kW\n',I1,I2_dash,pf,Pin/10^3,Pout/10^3)\n",
"//refer Fig. 23.16 in the textbook\n",
"Z2_dash=5.3+j*0.4\n",
"Z=(j*Xm)*Z2_dash/(j*Xm+Z2_dash)//equivalent impedance\n",
"Zin=Z1+Z//total input impedance\n",
"I1=Vph/Zin\n",
"I2_dash=I1*j*Xm/(j*Xm+Z2_dash)\n",
"[I1 theta]=rect2pol(I1)\n",
"pf=cos(theta*%pi/180)\n",
"Pout=3*(mag(I2_dash))^2*R2_dash*(1-s)/s\n",
"Pin=3*Vph*I1*pf\n",
"mprintf('By solving the problem using the circuit in Fig. 23.16 in the book, the values of different parameters are as under\nPer phase stator current=%f A\nPer phase rotor current=%f A\nOperating power factor=%f\nInput power=%f kW\nMechanical output power=%f kW\n',mag(I1),I2_dash,pf,Pin/10^3,Pout/10^3)"
   ]
   }
,
{
		   "cell_type": "markdown",
		   "metadata": {},
		   "source": [
			"## Example 23.8: Example_on_Losses_in_Induction_Motor.sce"
		   ]
		  },
  {
"cell_type": "code",
	   "execution_count": null,
	   "metadata": {
	    "collapsed": true
	   },
	   "outputs": [],
"source": [
"\n",
"Pin=60D+3//power input\n",
"p=1D+3//stator losses\n",
"Pg=Pin-p//air gap power\n",
"s=3/100//slip\n",
"Pm=Pg*(1-s)\n",
"Prcu=s*Pg\n",
"mprintf('Mechanical power developed by the motor=%f kW with rotor copper losses of %f kW',Pm/1000,Prcu/1000)"
   ]
   }
,
{
		   "cell_type": "markdown",
		   "metadata": {},
		   "source": [
			"## Example 23.9: Example_on_Losses_in_Induction_Motor.sce"
		   ]
		  },
  {
"cell_type": "code",
	   "execution_count": null,
	   "metadata": {
	    "collapsed": true
	   },
	   "outputs": [],
"source": [
"\n",
"Po=50D+3//power output\n",
"e=90/100//efficiency\n",
"Pin=Po/e//power input\n",
"P=Pin-Po//total losses\n",
"//P=Pscu+Psi+Prcu+Pfw\n",
"//Pscu=Prcu=Psi, Pfw=Psi/3\n",
"Psi=P/(1+1+1+1/3)\n",
"Pscu=Psi//stator copper loss\n",
"Prcu=Psi\n",
"mprintf('Rotor copper loss=%d W\n',round(Prcu))\n",
"Pg=Pin-2*Pscu\n",
"mprintf('Air gap power=%d W\n',round(Pg))\n",
"s=Prcu/Pg\n",
"mprintf('Slip=%f p.u.', s)\n",
"//answers vary from the textbook due to round off error"
   ]
   }
],
"metadata": {
		  "kernelspec": {
		   "display_name": "Scilab",
		   "language": "scilab",
		   "name": "scilab"
		  },
		  "language_info": {
		   "file_extension": ".sce",
		   "help_links": [
			{
			 "text": "MetaKernel Magics",
			 "url": "https://github.com/calysto/metakernel/blob/master/metakernel/magics/README.md"
			}
		   ],
		   "mimetype": "text/x-octave",
		   "name": "scilab",
		   "version": "0.7.1"
		  }
		 },
		 "nbformat": 4,
		 "nbformat_minor": 0
}
