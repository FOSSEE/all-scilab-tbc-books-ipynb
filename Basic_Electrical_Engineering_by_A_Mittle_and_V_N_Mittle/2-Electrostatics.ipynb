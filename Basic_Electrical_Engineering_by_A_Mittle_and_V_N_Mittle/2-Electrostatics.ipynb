{
"cells": [
 {
		   "cell_type": "markdown",
	   "metadata": {},
	   "source": [
       "# Chapter 2: Electrostatics"
	   ]
	},
{
		   "cell_type": "markdown",
		   "metadata": {},
		   "source": [
			"## Example 2.1: Example_on_Coulombs_Law.sce"
		   ]
		  },
  {
"cell_type": "code",
	   "execution_count": null,
	   "metadata": {
	    "collapsed": true
	   },
	   "outputs": [],
"source": [
"\n",
"epsilon=8.854D-12\n",
"r=sqrt(.1^2+.1^2)//distance b/w A and C\n",
"Fca=(2D-6)*(4D-6)/(4*%pi*epsilon*r^2)//from A to C\n",
"Fcb=(4D-6)*(2D-6)/(4*%pi*epsilon*.1^2)//from C to B\n",
"Fcd=(4D-6)*(4D-6)/(4*%pi*epsilon*.1^2)//from C to D\n",
"//Fr has horizontal and vertical components as Frx and Fry respectively\n",
"Frx=Fcd-Fca*cos(45*%pi/180)\n",
"Fry=Fcb-Fca*sin(45*%pi/180)\n",
"Fr=sqrt(Frx^2+Fry^2)\n",
"mprintf('Resultant force acting on charge at C=%f N', Fr)\n",
"//error in textbook answer"
   ]
   }
,
{
		   "cell_type": "markdown",
		   "metadata": {},
		   "source": [
			"## Example 2.2: Example_on_Electric_Intensity.sce"
		   ]
		  },
  {
"cell_type": "code",
	   "execution_count": null,
	   "metadata": {
	    "collapsed": true
	   },
	   "outputs": [],
"source": [
"\n",
"epsilon=8.854D-12\n",
"E1=(4D-8)/(4*%pi*epsilon*.05^2)//field intensity due to charge at A,direction is from D to A\n",
"r=sqrt(2*.05^2)//distance b/w B and D\n",
"E2=(4D-8)/(4*%pi*epsilon*r^2)//field intensity due to charge at B,direction is from B to D along diagonal BD\n",
"E3=(8D-8)/(4*%pi*epsilon*.05^2)//field intensity due to charge at C,direction is from D to C\n",
"//Er has horizontal and vertical components as Erx and Ery respectively\n",
"Erx=E3-E2*cos(45*%pi/180)\n",
"Ery=-E1+E2*sin(45*%pi/180)\n",
"Er=sqrt(Erx^2+Ery^2)\n",
"theta=atand(Ery/Erx)\n",
"mprintf('Resultant intensity on charge at C=%f*10^4 N/C at angle %f degrees', Er/10^4,-theta)"
   ]
   }
,
{
		   "cell_type": "markdown",
		   "metadata": {},
		   "source": [
			"## Example 2.3: Example_on_Electric_Potential.sce"
		   ]
		  },
  {
"cell_type": "code",
	   "execution_count": null,
	   "metadata": {
	    "collapsed": true
	   },
	   "outputs": [],
"source": [
"\n",
"epsilon=8.854D-12\n",
"AB=.05\n",
"BC=.07\n",
"AC=sqrt(.05^2+.07^2)\n",
"V1=2D-10/(4*%pi*epsilon*.05)//potential at A due to charge at B\n",
"V2=-8D-10/(4*%pi*epsilon*AC)//potential at A due to charge at C\n",
"V3=4D-10/(4*%pi*epsilon*.07)//potential at A due to charge at D\n",
"V=V1+V2+V3 \n",
"mprintf('Potential at A due to charges at B, C and D=%f V', V)"
   ]
   }
,
{
		   "cell_type": "markdown",
		   "metadata": {},
		   "source": [
			"## Example 2.4: Example_on_charging_and_discharging_of_capacitor.sce"
		   ]
		  },
  {
"cell_type": "code",
	   "execution_count": null,
	   "metadata": {
	    "collapsed": true
	   },
	   "outputs": [],
"source": [
"\n",
"C=30D-6\n",
"R=500\n",
"T=C*R\n",
"mprintf('Time constant T=%f sec\n', T)\n",
"//at t=0sec, voltage across capacitor is zero\n",
"V=100//aplied voltage\n",
"I=V/R//Ohm's Law\n",
"mprintf('Initial current=%f A\n', I)\n",
"t=.05\n",
"Q=C*V\n",
"q=Q*(1-exp(-t/T))\n",
"mprintf('Charge on the capacitor after 0.05 sec is %f C\n', q)\n",
"i1=I*exp(-t/T)\n",
"mprintf('Charging current after 0.05 sec is %f A\n',i1)\n",
"t=.015\n",
"i2=I*exp(-t/T)\n",
"mprintf('Charging current after 0.015 sec is %f A\n',i2)\n",
"V=i1*R\n",
"mprintf('Voltage across 500 ohm resistor after 0.05 sec is %f V', V)\n",
"//answers vary from the textbook due to round off error"
   ]
   }
,
{
		   "cell_type": "markdown",
		   "metadata": {},
		   "source": [
			"## Example 2.5: Example_on_charging_and_discharging_of_capacitor.sce"
		   ]
		  },
  {
"cell_type": "code",
	   "execution_count": null,
	   "metadata": {
	    "collapsed": true
	   },
	   "outputs": [],
"source": [
"\n",
"C=100D-6\n",
"V=200\n",
"Q=C*V\n",
"Ct=100D-6+50D-6//total capacitance\n",
"Vt=Q/Ct\n",
"mprintf('P.D. across the combination =%f V\n', Vt)\n",
"EE1=100D-6*V^2/2\n",
"mprintf('Electrostatic energy before capacitors are connected in parallel=%f J\n', EE1)\n",
"EE2=Ct*Vt^2/2\n",
"mprintf('Electrostatic energy after capacitors are connected in parallel=%f J', EE2)"
   ]
   }
,
{
		   "cell_type": "markdown",
		   "metadata": {},
		   "source": [
			"## Example 2.6: Example_on_charging_and_discharging_of_capacitor.sce"
		   ]
		  },
  {
"cell_type": "code",
	   "execution_count": null,
	   "metadata": {
	    "collapsed": true
	   },
	   "outputs": [],
"source": [
"\n",
"C1=100D-6  //capacitance of first capacitor which is to be charged\n",
"V=200  //voltage across C1\n",
"Q=C1*V\n",
"//Let Q1, Q2, Q3, Q4 be the charges on respective capacitors after connection\n",
"Q2=4000D-6\n",
"Q3=5000D-6\n",
"Q4=6000D-6\n",
"Q1=Q-(Q2+Q3+Q4)\n",
"C2=C1*(Q2/Q1)\n",
"C3=C1*(Q3/Q1)\n",
"C4=C1*(Q4/Q1)\n",
"mprintf('Three capacitors have capacitances %d microF, %d microF and %d microF\n', C2*10^6,C3*10^6,C4*10^6)\n",
"Vt=Q1/C1\n",
"mprintf('Voltage across the combination =%f V', Vt) "
   ]
   }
],
"metadata": {
		  "kernelspec": {
		   "display_name": "Scilab",
		   "language": "scilab",
		   "name": "scilab"
		  },
		  "language_info": {
		   "file_extension": ".sce",
		   "help_links": [
			{
			 "text": "MetaKernel Magics",
			 "url": "https://github.com/calysto/metakernel/blob/master/metakernel/magics/README.md"
			}
		   ],
		   "mimetype": "text/x-octave",
		   "name": "scilab",
		   "version": "0.7.1"
		  }
		 },
		 "nbformat": 4,
		 "nbformat_minor": 0
}
