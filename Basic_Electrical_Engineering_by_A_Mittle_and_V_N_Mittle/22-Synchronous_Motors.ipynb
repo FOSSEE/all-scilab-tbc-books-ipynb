{
"cells": [
 {
		   "cell_type": "markdown",
	   "metadata": {},
	   "source": [
       "# Chapter 22: Synchronous Motors"
	   ]
	},
{
		   "cell_type": "markdown",
		   "metadata": {},
		   "source": [
			"## Example 22.1: Example_on_Phasor_Diagram_and_Power_angle_Characteristics.sce"
		   ]
		  },
  {
"cell_type": "code",
	   "execution_count": null,
	   "metadata": {
	    "collapsed": true
	   },
	   "outputs": [],
"source": [
"\n",
"function[r,theta]=rect2pol(A)\n",
"    x=real(A)\n",
"    y=imag(A)\n",
"    r=sqrt(x^2+y^2)\n",
"    theta=atand(y/x)\n",
"endfunction\n",
"function[z]=pol2rect(r,theta)\n",
"    x=r*cos(theta*%pi/180)\n",
"    y=r*sin(theta*%pi/180)\n",
"    z=x+y*%i\n",
"endfunction\n",
"Va=400/sqrt(3)//per phase applied voltage\n",
"Ef=Va//per phase excitation voltage\n",
"delta=4*2//equivalent electrical degrees by which the rotor is retarted\n",
"Xs=2//per phase synchronous reactance\n",
"Vt=pol2rect(Va,0)\n",
"Ef=pol2rect(Ef,-8)\n",
"Xs=pol2rect(2,90)\n",
"Ia=(Vt-Ef)/Xs\n",
"[Ia theta]=rect2pol(Ia)\n",
"mprintf('Armature current drawn by the motor is %f A, lagging the applied voltage by %f degrees', Ia, -theta)"
   ]
   }
,
{
		   "cell_type": "markdown",
		   "metadata": {},
		   "source": [
			"## Example 22.2: Example_on_Phasor_Diagram_and_Power_angle_Characteristics.sce"
		   ]
		  },
  {
"cell_type": "code",
	   "execution_count": null,
	   "metadata": {
	    "collapsed": true
	   },
	   "outputs": [],
"source": [
"\n",
"//calculating armature current\n",
"Pout=7.46D+3//output power\n",
"Wc=500//iron amd mechanical losses\n",
"P=Pout+Wc//total mechanical power developed\n",
"Pm=P/3\n",
"Va=440/sqrt(3)//applied voltage per phase\n",
"pf=.75//lagging power factor\n",
"Ra=.5//effective resistance per phase\n",
"//Pm=Va*Ia*pf-Ia^2*Ra\n",
"//solving this quadratic equation\n",
"Ia=(Va*pf-sqrt((Va*pf)^2-4*Ra*Pm))/(2*Ra)\n",
"mprintf('Armature current=%f A\n', Ia)\n",
"//calculating total power supplied\n",
"Pin=Va*Ia*pf\n",
"Pi=3*Pin//total input to stator\n",
"Pe=650//excitation loss\n",
"Pt=Pi+Pe\n",
"mprintf('Total power supplied=%f W\n', Pt)\n",
"//calculating efficiency\n",
"e=Pout/Pt*100\n",
"mprintf('Efficiency=%f percent', e)\n",
"//answers vary from the textbook due to round off error"
   ]
   }
,
{
		   "cell_type": "markdown",
		   "metadata": {},
		   "source": [
			"## Example 22.3: Example_on_Phasor_Diagram_and_Power_angle_Characteristics.sce"
		   ]
		  },
  {
"cell_type": "code",
	   "execution_count": null,
	   "metadata": {
	    "collapsed": true
	   },
	   "outputs": [],
"source": [
"\n",
"function[r,theta]=rect2pol(A)\n",
"    x=real(A)\n",
"    y=imag(A)\n",
"    r=sqrt(x^2+y^2)\n",
"    theta=atand(y/x)\n",
"endfunction\n",
"function[z]=pol2rect(r,theta)\n",
"    x=r*cos(theta*%pi/180)\n",
"    y=r*sin(theta*%pi/180)\n",
"    z=x+y*%i\n",
"endfunction\n",
"function[r]=mag(A)\n",
"    x=real(A)\n",
"    y=imag(A)\n",
"    r=sqrt(x^2+y^2)\n",
"endfunction\n",
"f=50\n",
"P=4\n",
"Ns=120*f/P\n",
"//calculating excitation voltage and power angle\n",
"Va=400/sqrt(3)\n",
"Va=pol2rect(Va,0)\n",
"pf=1//power factor\n",
"Pin=3000//input to motor\n",
"Ia=Pin/(3*mag(Va))\n",
"Xs=8\n",
"Ef=mag(Va)-%i*Ia*Xs\n",
"[Ef theta]=rect2pol(Ef)\n",
"mprintf('Excitation voltage Ef=%f V, power angle=%f degrees\n', Ef,-theta)\n",
"//calculating torque developed\n",
"omega_s=2*%pi*Ns/60\n",
"T=3*mag(Va)*Ef/(Xs*omega_s)*sin(-theta*%pi/180)\n",
"mprintf('Mechanical torque developed T=%f N-m\n',T)\n",
"//calculating max torque developed\n",
"Tmax=3*mag(Va)*Ef/(Xs*omega_s)\n",
"mprintf('Max torque developed or pull out torque=%f N-m',Tmax)"
   ]
   }
,
{
		   "cell_type": "markdown",
		   "metadata": {},
		   "source": [
			"## Example 22.4: Example_on_Phasor_Diagram_and_Power_angle_Characteristics.sce"
		   ]
		  },
  {
"cell_type": "code",
	   "execution_count": null,
	   "metadata": {
	    "collapsed": true
	   },
	   "outputs": [],
"source": [
"\n",
"function[r,theta]=rect2pol(A)\n",
"    x=real(A)\n",
"    y=imag(A)\n",
"    r=sqrt(x^2+y^2)\n",
"    theta=atand(y/x)\n",
"endfunction\n",
"function[z]=pol2rect(r,theta)\n",
"    x=r*cos(theta*%pi/180)\n",
"    y=r*sin(theta*%pi/180)\n",
"    z=x+y*%i\n",
"endfunction\n",
"function[r]=mag(A)\n",
"    x=real(A)\n",
"    y=imag(A)\n",
"    r=sqrt(x^2+y^2)\n",
"endfunction\n",
"j=%i\n",
"//calculating per phase current drawn from the supply\n",
"Pout=100*746//output power\n",
"Va=500/sqrt(3)//per phase applied voltage\n",
"Zs=.06+j*.6//synchronous impedance per phase\n",
"e=.89//efficiency of motor at full load\n",
"Pin=Pout/e//input to the motor\n",
"pf=.8//leading power factor\n",
"Ia=Pin/(3*Va*pf)\n",
"theta=acosd(.8)\n",
"mprintf('Current drawn from the supply is %f A leading the applied voltage by %f degrees\n', Ia, theta)\n",
"//calculating excitation voltage per phase\n",
"Va=pol2rect(Va,0)\n",
"Ia=pol2rect(Ia,theta)\n",
"Ef=Va-Ia*Zs\n",
"[Ef delta]=rect2pol(Ef)\n",
"mprintf('Excitation voltage per phase is %f V\nPower angle=%f degrees\n', mag(Ef),-delta)\n",
"//calculating mechanical power developed Pm\n",
"Ra=.06//stator winding resistance per phase\n",
"Pm=Pin-3*mag(Ia)^2*Ra\n",
"mprintf('Mechanical power developed=%f W\n', Pm)"
   ]
   }
,
{
		   "cell_type": "markdown",
		   "metadata": {},
		   "source": [
			"## Example 22.5: Example_on_Phasor_Diagram_and_Power_angle_Characteristics.sce"
		   ]
		  },
  {
"cell_type": "code",
	   "execution_count": null,
	   "metadata": {
	    "collapsed": true
	   },
	   "outputs": [],
"source": [
"\n",
"function[r,theta]=rect2pol(A)\n",
"    x=real(A)\n",
"    y=imag(A)\n",
"    r=sqrt(x^2+y^2)\n",
"    theta=atand(y/x)\n",
"endfunction\n",
"function[z]=pol2rect(r,theta)\n",
"    x=r*cos(theta*%pi/180)\n",
"    y=r*sin(theta*%pi/180)\n",
"    z=x+y*%i\n",
"endfunction\n",
"\n",
"j=%i\n",
"Pout=10D+3//output of the motor at full load\n",
"e=.85//efficiency at full load\n",
"Pin=Pout/e//input at full load\n",
"Zs=.4+j*3//synchronous impedance per phase\n",
"Va=400/sqrt(3)//per phase applied voltage\n",
"pf=.8//leading power factor\n",
"Ia=Pin/(3*Va*pf)\n",
"Ia=pol2rect(Ia,acosd(pf))\n",
"Ef=Va-Ia*Zs\n",
"[Ef delta]=rect2pol(Ef)\n",
"mprintf('Motor must be excited to a voltage of %f V per phase and the angle of retard is %f degrees\n', Ef,-delta)\n",
""
   ]
   }
,
{
		   "cell_type": "markdown",
		   "metadata": {},
		   "source": [
			"## Example 22.6: Example_on_Phasor_Diagram_and_Power_angle_Characteristics.sce"
		   ]
		  },
  {
"cell_type": "code",
	   "execution_count": null,
	   "metadata": {
	    "collapsed": true
	   },
	   "outputs": [],
"source": [
"\n",
"function[r,theta]=rect2pol(A)\n",
"    x=real(A)\n",
"    y=imag(A)\n",
"    r=sqrt(x^2+y^2)\n",
"    theta=atand(y/x)\n",
"endfunction\n",
"\n",
"\n",
"j=%i\n",
"Va=400/sqrt(3)//applied voltage per phase\n",
"Zs=.5+j*4//synchronous impedance per phase\n",
"pf=1//power factor\n",
"Ia=15\n",
"Ef=Va-Ia*Zs\n",
"[Ef delta]=rect2pol(Ef)\n",
"mprintf('Excitation voltage is %f V and power angle is equal to %d degrees', Ef,-delta)\n",
""
   ]
   }
,
{
		   "cell_type": "markdown",
		   "metadata": {},
		   "source": [
			"## Example 22.7: Example_on_Phasor_Diagram_and_Power_angle_Characteristics.sce"
		   ]
		  },
  {
"cell_type": "code",
	   "execution_count": null,
	   "metadata": {
	    "collapsed": true
	   },
	   "outputs": [],
"source": [
"\n",
"function[r,theta]=rect2pol(A)\n",
"    x=real(A)\n",
"    y=imag(A)\n",
"    r=sqrt(x^2+y^2)\n",
"    theta=atand(y/x)\n",
"endfunction\n",
"function[z]=pol2rect(r,theta)\n",
"    x=r*cos(theta*%pi/180)\n",
"    y=r*sin(theta*%pi/180)\n",
"    z=x+y*%i\n",
"endfunction\n",
"function[r]=mag(A)\n",
"    x=real(A)\n",
"    y=imag(A)\n",
"    r=sqrt(x^2+y^2)\n",
"endfunction\n",
"\n",
"j=%i\n",
"//applied voltage per phase is taken as the reference phasor\n",
"Va=1//applied voltage per phase in p.u.\n",
"pf=.8//lagging power factor\n",
"theta=acosd(pf)\n",
"Ia=pol2rect(1,-theta)//armature current per phase\n",
"Xq=.4*j\n",
"Xd=.8*j\n",
"OC=Va-Ia*Xq\n",
"[OC alpha]=rect2pol(OC)\n",
"delta=-alpha//power angle\n",
"Id=Ia*sin((theta-delta)*%pi/180)\n",
"Ef=OC-mag(Id)*mag(Xd-Xq)//armature resistance is neglected\n",
"mprintf('Excitation voltage per phase is %f p.u. lagging the applied voltage by %f degrees\n',Ef,delta)\n",
"//calculating power due to excitation\n",
"Pf=Va*Ef*sin(delta*%pi/180)/mag(Xd)\n",
"mprintf('Per phase power developed due to field excitation is %f p.u.\n',Pf)\n",
"//calculating power due to saliency\n",
"Pr=Va^2*mag((Xd-Xq)/(2*Xd*Xq))*sin(2*delta*%pi/180)\n",
"mprintf('Per phase power developed due to saliency of the motor is %f p.u.\n',Pr)\n",
"//answers vary from the textbook due to round off error"
   ]
   }
,
{
		   "cell_type": "markdown",
		   "metadata": {},
		   "source": [
			"## Example 22.8: Example_on_Variation_of_Excitation.sce"
		   ]
		  },
  {
"cell_type": "code",
	   "execution_count": null,
	   "metadata": {
	    "collapsed": true
	   },
	   "outputs": [],
"source": [
"\n",
"function[r,theta]=rect2pol(A)\n",
"    x=real(A)\n",
"    y=imag(A)\n",
"    r=sqrt(x^2+y^2)\n",
"    theta=atand(y/x)\n",
"endfunction\n",
"function[z]=pol2rect(r,theta)\n",
"    x=r*cos(theta*%pi/180)\n",
"    y=r*sin(theta*%pi/180)\n",
"    z=x+y*%i\n",
"endfunction\n",
"j=%i\n",
"//calculating new power angle\n",
"Va=400/sqrt(3)//applied voltage per phase\n",
"Pin=8.5D+3/3//power input per phase\n",
"pf=.8//lagging power factor\n",
"Ia=Pin/(Va*pf)//armature current per phase\n",
"theta=acosd(pf)\n",
"Ia=pol2rect(Ia,-theta)\n",
"Zs=4*j\n",
"Ef=Va-Ia*Zs\n",
"[Ef theta]=rect2pol(Ef)\n",
"delta=-theta\n",
"//the excitation voltage is increased by 50%\n",
"Ef_dash=1.5*Ef\n",
"//as the power developed remains same\n",
"delta_dash=asind(Ef*sin(delta*%pi/180)/Ef_dash)\n",
"mprintf('The new power angle is %f degrees\n',delta_dash)\n",
"//calculating new armature current and power factor\n",
"Ef_dash=pol2rect(Ef_dash,-delta_dash)\n",
"Ia_dash=(Va-Ef_dash)/Zs\n",
"[Ia_dash theta]=rect2pol(Ia_dash)\n",
"mprintf('The armature current drawn from the supply is %f A and is now leading the applied voltage by %f degrees with power factor=%f(leading)\n',Ia_dash,theta,cos(theta*%pi/180))\n",
"//answers vary from the textbook due to round off error"
   ]
   }
],
"metadata": {
		  "kernelspec": {
		   "display_name": "Scilab",
		   "language": "scilab",
		   "name": "scilab"
		  },
		  "language_info": {
		   "file_extension": ".sce",
		   "help_links": [
			{
			 "text": "MetaKernel Magics",
			 "url": "https://github.com/calysto/metakernel/blob/master/metakernel/magics/README.md"
			}
		   ],
		   "mimetype": "text/x-octave",
		   "name": "scilab",
		   "version": "0.7.1"
		  }
		 },
		 "nbformat": 4,
		 "nbformat_minor": 0
}
