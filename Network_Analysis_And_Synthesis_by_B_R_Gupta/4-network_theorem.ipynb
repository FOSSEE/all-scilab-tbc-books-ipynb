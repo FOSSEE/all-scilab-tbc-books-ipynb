{
"cells": [
 {
		   "cell_type": "markdown",
	   "metadata": {},
	   "source": [
       "# Chapter 4: network theorem"
	   ]
	},
{
		   "cell_type": "markdown",
		   "metadata": {},
		   "source": [
			"## Example 4.10: Current.sce"
		   ]
		  },
  {
"cell_type": "code",
	   "execution_count": null,
	   "metadata": {
	    "collapsed": true
	   },
	   "outputs": [],
"source": [
"                              //EXAMPLE 4-11      PG NO-233-234\n",
"I1=-1.28;\n",
"I2=-0.83;\n",
"I3=0.84;\n",
"IR1=-I1;                               //CURRENT THROUGH 2.2 RESISTANCE\n",
"disp('i) Current (IR1)   is     =  '+string (IR1) +' A   from B to  A ');\n",
"IR2=-I1+I2;                               //CURRENT THROUGH 4.7 RESISTANCE\n",
"disp('ii) Current (IR2)   is     =  '+string (IR2) +' A  from C to  B ');\n",
"IR3=-I2+I3;                               //CURRENT THROUGH 6.8 RESISTANCE\n",
"disp('iii) Current (IR3)   is     =  '+string (IR3) +' A  from C to D ');"
   ]
   }
,
{
		   "cell_type": "markdown",
		   "metadata": {},
		   "source": [
			"## Example 4.12: current.sce"
		   ]
		  },
  {
"cell_type": "code",
	   "execution_count": null,
	   "metadata": {
	    "collapsed": true
	   },
	   "outputs": [],
"source": [
"                 //Example 4-12  PG NO234-235\n",
"VA=60.866;\n",
"VB=19.13;\n",
"R=60;\n",
"I60=(VA-VB)/R;\n",
"disp(' CURRENT is = '+string(I60)+' A');"
   ]
   }
,
{
		   "cell_type": "markdown",
		   "metadata": {},
		   "source": [
			"## Example 4.13: current.sce"
		   ]
		  },
  {
"cell_type": "code",
	   "execution_count": null,
	   "metadata": {
	    "collapsed": true
	   },
	   "outputs": [],
"source": [
"                           //Example       4-13             PG NO-235\n",
"X=[1 -0.5  2;-0.5 3.5 -4;-0.5 -1 0];\n",
"X1=[2 -0.5 -0.5;-4   3.5 -1;0 -1 2.5 ]\n",
"X2=[1 -0.5 -0.5;-0.5 3.5 -1;-0.5 -1 2.5];\n",
"V=det([X1-X]/X2);                          //V=VA-VC\n",
"disp('i) VOLTAGE (V)   is     =  '+string (V) +' V ');\n",
"I2=0.5*1.566;\n",
"disp('i) Current (I2)   is     =  '+string (I2) +' A    ');"
   ]
   }
,
{
		   "cell_type": "markdown",
		   "metadata": {},
		   "source": [
			"## Example 4.14: current.sce"
		   ]
		  },
  {
"cell_type": "code",
	   "execution_count": null,
	   "metadata": {
	    "collapsed": true
	   },
	   "outputs": [],
"source": [
"                //EXAMPLE 4-14  PG NO-236\n",
"VA=61.38;\n",
"R1=60;\n",
"R2=110;\n",
"R3=25;\n",
"V1=120;\n",
"V2=40;\n",
"V3=60;\n",
"I120=(V1-VA)/R1;\n",
"disp(' CURRENT is = '+string(I120)+' A');\n",
"I40=(VA+V2)/R2;\n",
"disp(' CURRENT is = '+string(I40)+' A');\n",
"I60=(VA-V3)/R3;\n",
"disp(' CURRENT is = '+string(I60)+' A');"
   ]
   }
,
{
		   "cell_type": "markdown",
		   "metadata": {},
		   "source": [
			"## Example 4.16: current.sce"
		   ]
		  },
  {
"cell_type": "code",
	   "execution_count": null,
	   "metadata": {
	    "collapsed": true
	   },
	   "outputs": [],
"source": [
"                 //EXAMPLE 4-16        PG NO-236-237;\n",
"VA=1.96;\n",
"VB=3.2;\n",
"IBA=(VB-VA)/2;\n",
"disp(' CURRENT is = '+string(IBA)+' A');"
   ]
   }
,
{
		   "cell_type": "markdown",
		   "metadata": {},
		   "source": [
			"## Example 4.17: voltage.sce"
		   ]
		  },
  {
"cell_type": "code",
	   "execution_count": null,
	   "metadata": {
	    "collapsed": true
	   },
	   "outputs": [],
"source": [
"                //EXAMPLE 4-17     PG NO-237\n",
"A=8.08;                      //POTENTIAL\n",
"B=7.942;                    //POTENTIAL\n",
"VAB=A-B;                  //POTENTIAL DIFFERENCE\n",
"disp(' POTENTIAL DIFFERENCE is = '+string(VAB)+' V');"
   ]
   }
,
{
		   "cell_type": "markdown",
		   "metadata": {},
		   "source": [
			"## Example 4.19: currents.sce"
		   ]
		  },
  {
"cell_type": "code",
	   "execution_count": null,
	   "metadata": {
	    "collapsed": true
	   },
	   "outputs": [],
"source": [
"                         //EXAMPLE 4-19            PG NO-236\n",
"i1=11.06;\n",
"i2=5.34;\n",
"i3=1.907;\n",
"IPR=i2-i3;\n",
"disp(' CURRENT is = '+string(IPR)+' A');\n",
"IRS=i2;\n",
"VRS=IRS*10^-3*15*10^3;\n",
"disp(' VOLTAGE is = '+string(VRS)+' A');   "
   ]
   }
,
{
		   "cell_type": "markdown",
		   "metadata": {},
		   "source": [
			"## Example 4.21: current_and_power.sce"
		   ]
		  },
  {
"cell_type": "code",
	   "execution_count": null,
	   "metadata": {
	    "collapsed": true
	   },
	   "outputs": [],
"source": [
"                      //EXAMPLE 4-21         PG NO-239\n",
"I1=4.46;\n",
"I2=9.46;\n",
"I3=10;\n",
"I4=6.22;\n",
"V1=110.8;\n",
"IAB=I1\n",
"disp(' CURRENT is = '+string(IAB)+' A');\n",
"ICD=I2;\n",
"disp(' CURRENT is = '+string(ICD)+' A');\n",
"IFE=I3-I1;\n",
"disp(' CURRENT is = '+string(IFE)+' A');\n",
"IDE=I2-I4;\n",
"disp(' CURRENT is = '+string(IDE)+' A');\n",
"IHG=I4;\n",
"disp(' CURRENT is = '+string(IHG)+' A');\n",
"I5=5*V1\n",
"disp(' CURRENT is = '+string(I5)+' A');"
   ]
   }
,
{
		   "cell_type": "markdown",
		   "metadata": {},
		   "source": [
			"## Example 4.22: voltage.sce"
		   ]
		  },
  {
"cell_type": "code",
	   "execution_count": null,
	   "metadata": {
	    "collapsed": true
	   },
	   "outputs": [],
"source": [
"                        //EXAMPLE 4-22           PG NO-39-240\n",
"R1=50;\n",
"R2=20;\n",
"R3=10;\n",
"V1=50;\n",
"V2=100;\n",
"V=[(V1/R1)+(V2/R2)]/[(1/50)+(1/20)+(1/10)];\n",
"disp(' Voltage is = '+string(V)+' V');"
   ]
   }
,
{
		   "cell_type": "markdown",
		   "metadata": {},
		   "source": [
			"## Example 4.23: current.sce"
		   ]
		  },
  {
"cell_type": "code",
	   "execution_count": null,
	   "metadata": {
	    "collapsed": true
	   },
	   "outputs": [],
"source": [
"                     //EXAMPLE 4-23       PG NO-240\n",
"I1=-3/19;\n",
"V=12.632;\n",
"I6=I1+1;\n",
"disp(' CURRENT is = '+string(I6)+' A');"
   ]
   }
,
{
		   "cell_type": "markdown",
		   "metadata": {},
		   "source": [
			"## Example 4.24: Current.sce"
		   ]
		  },
  {
"cell_type": "code",
	   "execution_count": null,
	   "metadata": {
	    "collapsed": true
	   },
	   "outputs": [],
"source": [
"                        //EXAMPLE 4-24     PG NO-240-241\n",
"I1=9;\n",
"I2=2.5;\n",
"I3=2;\n",
"IR3=I2-I3;\n",
"disp(' CURRENT is = '+string(IR3)+' A');\n",
"V=13.5;\n",
"disp(' VOLTAGE is = '+string(V)+' V');"
   ]
   }
,
{
		   "cell_type": "markdown",
		   "metadata": {},
		   "source": [
			"## Example 4.25: Current.sce"
		   ]
		  },
  {
"cell_type": "code",
	   "execution_count": null,
	   "metadata": {
	    "collapsed": true
	   },
	   "outputs": [],
"source": [
"                           //EXAMPLE 4-25         PG NO-241\n",
"   //31-15I1-(I1-I2)+10V1=0\n",
"   //-10V1-(I2-I1)-4I2=0;\n",
"   //V1=31-5I1;\n",
"I1=5;\n",
"disp('i) Current (I1)   is     =  '+string (I1) +' A   ');\n",
"I2=-11;\n",
"disp('ii) Current (I2)   is     =  '+string (I2) +' A   ');"
   ]
   }
,
{
		   "cell_type": "markdown",
		   "metadata": {},
		   "source": [
			"## Example 4.28: Current.sce"
		   ]
		  },
  {
"cell_type": "code",
	   "execution_count": null,
	   "metadata": {
	    "collapsed": true
	   },
	   "outputs": [],
"source": [
"                            //EXAMPLE 4-28         PG  NO-243\n",
"I1=1.42;\n",
"I2=1.683;\n",
"I3=0.325;\n",
"Iba=I2-I1;\n",
"disp(' CURRENT is = '+string(Iba)+' A');\n",
"Ibd=I1-I3;\n",
"disp(' CURRENT is = '+string(Ibd)+' A');\n",
"Iac=I2;\n",
"disp(' CURRENT is = '+string(Iac)+' A');\n",
"Icd=I3;\n",
"disp(' CURRENT is = '+string(Icd)+' A');"
   ]
   }
,
{
		   "cell_type": "markdown",
		   "metadata": {},
		   "source": [
			"## Example 4.29: Power.sce"
		   ]
		  },
  {
"cell_type": "code",
	   "execution_count": null,
	   "metadata": {
	    "collapsed": true
	   },
	   "outputs": [],
"source": [
"                      //EXAMPLE 4-29             PG NO-243\n",
"I1=2;                               //CURRENT\n",
"R=3;                                //RESISTANCE\n",
"P=I1*I1*R;                            //POWER\n",
"disp(' POWER is = '+string(P)+' W');"
   ]
   }
,
{
		   "cell_type": "markdown",
		   "metadata": {},
		   "source": [
			"## Example 4.30: Current.sce"
		   ]
		  },
  {
"cell_type": "code",
	   "execution_count": null,
	   "metadata": {
	    "collapsed": true
	   },
	   "outputs": [],
"source": [
"                      //EXAMPLE 4-30           PG NO-244\n",
"I3=-0.882;\n",
"I=-I3;\n",
"disp(' CURRENT is = '+string(I)+' A');"
   ]
   }
,
{
		   "cell_type": "markdown",
		   "metadata": {},
		   "source": [
			"## Example 4.32: Branch_Current.sce"
		   ]
		  },
  {
"cell_type": "code",
	   "execution_count": null,
	   "metadata": {
	    "collapsed": true
	   },
	   "outputs": [],
"source": [
"                              //EXAMPLE 4-32        PG NO-245-246\n",
"Vb=4.55;\n",
"Vc=2.57;\n",
"Vd=3.165;\n",
"Iab=2*(-Vb+9);\n",
"disp(' CURRENT is = '+string(Iab)+' A');\n",
"Ida=2*Vd;\n",
"disp(' CURRENT is = '+string(Ida)+' A');\n",
"Ibc=Vb-Vc;\n",
"disp(' CURRENT is = '+string(Ibc)+' A');\n",
"Idc=Vd-Vc;\n",
"disp(' CURRENT is = '+string(Idc)+' A');\n",
"Ibd=5*(Vb-Vd);\n",
"disp(' CURRENT is = '+string(Ibd)+' A');\n",
"Ica=Vc;\n",
"disp(' CURRENT is = '+string(Ica)+' A');"
   ]
   }
,
{
		   "cell_type": "markdown",
		   "metadata": {},
		   "source": [
			"## Example 4.36: Current.sce"
		   ]
		  },
  {
"cell_type": "code",
	   "execution_count": null,
	   "metadata": {
	    "collapsed": true
	   },
	   "outputs": [],
"source": [
"                           //EXAMPLE 4-36         PG NO-250-251\n",
"I1=0.3;\n",
"I2=-1.1;\n",
"V1=2*I1;\n",
"disp(' VOLTAGE is = '+string(V1)+' V');\n",
"V2=2*I2;\n",
"disp(' VOLTAGE is = '+string(V2)+' V');\n",
"V3=-5;\n",
"disp(' VOLTAGE is = '+string(V3)+' A');\n",
"V4=-(2*I1)+4;\n",
"disp(' VOLTAGE is = '+string(V4)+' V');\n",
"V5=2.8;\n",
"IAB=V4/2;\n",
"disp(' CURRENT is = '+string(IAB)+' A');\n",
"IAD=V5/2;\n",
"disp(' CURRENT is = '+string(IAD)+' A');\n",
"IAC=-V3/2;\n",
"disp(' CURRENT is = '+string(IAC)+' A');\n",
"IDB=V1/2;\n",
"disp(' CURRENT is = '+string(IDB)+' A');\n",
"IDC=-V2/2;\n",
"disp(' CURRENT is = '+string(IDC)+' A');\n",
"I=IAB+IAD+IAC-2;\n",
"disp(' CURRENT is = '+string(I)+' A');"
   ]
   }
,
{
		   "cell_type": "markdown",
		   "metadata": {},
		   "source": [
			"## Example 4.37: Current.sce"
		   ]
		  },
  {
"cell_type": "code",
	   "execution_count": null,
	   "metadata": {
	    "collapsed": true
	   },
	   "outputs": [],
"source": [
"                       //EXAMPLE 4-37           PG NO-251-252\n",
"I1=5;\n",
"I2=2;\n",
"I3=1;\n",
"IAB=I1;\n",
"disp(' CURRENT is = '+string(IAB)+' A');\n",
"IBE=I1-I2;\n",
"disp(' CURRENT is = '+string(IBE)+' A');\n",
"IBC=I2;\n",
"disp(' CURRENT is = '+string(IBC)+' A');\n",
"ICE=I2+I3;\n",
"disp(' CURRENT is = '+string(ICE)+' A');\n",
"IDC=I3;\n",
"disp(' CURRENT is = '+string(IDC)+' A');"
   ]
   }
,
{
		   "cell_type": "markdown",
		   "metadata": {},
		   "source": [
			"## Example 4.38: Current.sce"
		   ]
		  },
  {
"cell_type": "code",
	   "execution_count": null,
	   "metadata": {
	    "collapsed": true
	   },
	   "outputs": [],
"source": [
"                            //EXAMPLE 4-38                PG NO-252-253\n",
"VB=15;\n",
"VC=6;\n",
"V=20;\n",
"IAB=(V-VB)/1;\n",
"disp(' CURRENT is = '+string(IAB)+' A');\n",
"IBE=VB/IAB;\n",
"disp(' CURRENT is = '+string(IBE)+' A');\n",
"IBC=(VB-VC)/4.5;\n",
"disp(' CURRENT is = '+string(IBC)+' A');\n",
"ICE=VC/2;\n",
"disp(' CURRENT is = '+string(ICE)+' A');\n",
"IDC=1;\n",
"disp(' CURRENT is = '+string(IDC)+' A');"
   ]
   }
,
{
		   "cell_type": "markdown",
		   "metadata": {},
		   "source": [
			"## Example 4.41: Voltage_And_Current.sce"
		   ]
		  },
  {
"cell_type": "code",
	   "execution_count": null,
	   "metadata": {
	    "collapsed": true
	   },
	   "outputs": [],
"source": [
"                                //EXAMPLE-4-41        PG NO-254\n",
"I2=0.5;\n",
"I3=1.5;\n",
"R=11/3;\n",
"V=I3*R;\n",
"disp(' VOLTAGE is = '+string(V)+' V');\n",
"R1=20/9;\n",
"Req=(R*R1)/(R+R1);\n",
"disp(' RESISTANCE is = '+string(Req)+' ohm');\n",
"I=V/Req;\n",
"disp(' CURRENT is = '+string(I)+' A');"
   ]
   }
,
{
		   "cell_type": "markdown",
		   "metadata": {},
		   "source": [
			"## Example 4.43: Node_Voltage.sce"
		   ]
		  },
  {
"cell_type": "code",
	   "execution_count": null,
	   "metadata": {
	    "collapsed": true
	   },
	   "outputs": [],
"source": [
"                   //EXAMPLE 4-43              PG NO-256-257\n",
"X=[3 -1 -2;6 -1 -2;6 -5 -16];\n",
"disp('i) Ditermenent X   is     =  '+string (det(X)) +'  ');\n",
"X1=[0 -1 -2;80 -1 -2;40 -5 -16];\n",
"V1=X1/X;\n",
"disp('ii) Ditermenent V1   is     =  '+string (det(V1)) +' V ');\n",
"X2=[3 0 -2;6 80 -2;6 40 -16];\n",
"V3=X2/X;\n",
"disp('iii) Ditermenent V3   is     =  '+string (det(V3)) +' V ');\n",
"X3=[3 -1 0;6 -1 80;6 -5 40];\n",
"V4=X3/X;\n",
"disp('iv) Ditermenent V4   is     =  '+string (det(V4)) +' V ');"
   ]
   }
,
{
		   "cell_type": "markdown",
		   "metadata": {},
		   "source": [
			"## Example 4.44: Current.sce"
		   ]
		  },
  {
"cell_type": "code",
	   "execution_count": null,
	   "metadata": {
	    "collapsed": true
	   },
	   "outputs": [],
"source": [
"                      //EXAMPLE 4-44                 PG NO 257    \n",
"                           //6I1+14I2=20    I1-I2=-6\n",
"I1=-3.2;\n",
"I2=2.8;\n",
"disp('i) Current(I1)   is     =  '+string (I1) +' A '); \n",
"disp('Ii) Current (I2)   is     =  '+string (I2) +' A ');"
   ]
   }
,
{
		   "cell_type": "markdown",
		   "metadata": {},
		   "source": [
			"## Example 4.46: Current.sci"
		   ]
		  },
  {
"cell_type": "code",
	   "execution_count": null,
	   "metadata": {
	    "collapsed": true
	   },
	   "outputs": [],
"source": [
"                     //EXAMPLE 4-46           PG NO-258-259\n",
"X1=[10 -104-%i*200;0 205+%i*150];\n",
"X2=[200+%i*200 -104-%i*200;-104-%i*200 205+%i*150];\n",
"I1=det(X1/X2);\n",
"disp(' Current is  in polar form= '+string(I1)+' A');\n",
"X3=[200+%i*200 10;-104-%i*200 0];\n",
"X4=[200+%i*200 -104-%i*200;-104-%i*200 205+%i*150];\n",
"I2=det(X3/X4);\n",
"disp(' Current is in polar form = '+string(I2)+' A');\n",
"V=10;                               //VOLTAGE\n",
"P=V*5.1*10^-2;                       //POWERE\n",
"disp(' POWER is = '+string(P)+' W');"
   ]
   }
,
{
		   "cell_type": "markdown",
		   "metadata": {},
		   "source": [
			"## Example 4.47: V2.sce"
		   ]
		  },
  {
"cell_type": "code",
	   "execution_count": null,
	   "metadata": {
	    "collapsed": true
	   },
	   "outputs": [],
"source": [
"                              //EXAMPLE 4-47   PG NO259-260\n",
"I2=0;\n",
"x=%i*1500;\n",
"y=30+%i*30;\n",
"V2=x/y;                    //VOLTAGE\n",
"disp(' VOLTAGE is  in polar form = '+string(V2)+' V');"
   ]
   }
,
{
		   "cell_type": "markdown",
		   "metadata": {},
		   "source": [
			"## Example 4.48: Voltage.sce"
		   ]
		  },
  {
"cell_type": "code",
	   "execution_count": null,
	   "metadata": {
	    "collapsed": true
	   },
	   "outputs": [],
"source": [
"                        //EXAMPLE 4-48         PG NO-260\n",
"Vm=63.43+%i*33.38;\n",
"V=100+%i*0;\n",
"V1=0+%i*50\n",
"R1=5+%i*0;\n",
"R2=8+%i*6;\n",
"R3=12+%i*16;\n",
"I1=(V-Vm)/R1;\n",
"disp('i) Current (I1)   is     =  '+string (I1) +' A ');\n",
"I2=(V1-Vm)/R2;\n",
"disp('ii) Current (I2)   is     =  '+string (I2) +' A ');\n",
"I3=(Vm)/R3;\n",
"disp('iii) Current (I3)   is     =  '+string (I3) +' A ');"
   ]
   }
,
{
		   "cell_type": "markdown",
		   "metadata": {},
		   "source": [
			"## Example 4.49: Node_Voltage.sce"
		   ]
		  },
  {
"cell_type": "code",
	   "execution_count": null,
	   "metadata": {
	    "collapsed": true
	   },
	   "outputs": [],
"source": [
"                             //EXAMPLE 4-49          PG NO  260-261\n",
"Vm=[10 -0.25;%i*25  0.75+%i*0.5]/[0.45-%i*0.5 -0.25;-0.25 0.75+%i*0.5];\n",
"disp('i) Voltage (Vm)   is     =  '+string (det(Vm)) +' V ');\n",
"Vn=[0.45-%i*0.5 10;-0.25 0.75+%i*0.5]/[0.45-%i*0.5 10;-0.25 0.75+%i*0.5];\n",
"disp('ii) Voltage (Vn)   is     =  '+string (det(Vn)) +' V ');"
   ]
   }
,
{
		   "cell_type": "markdown",
		   "metadata": {},
		   "source": [
			"## Example 4.4: Numbers_of_trees.sce"
		   ]
		  },
  {
"cell_type": "code",
	   "execution_count": null,
	   "metadata": {
	    "collapsed": true
	   },
	   "outputs": [],
"source": [
"                      //EXAMPLE 4-4        PG NO-224\n",
"A=[1 1 0 0 0 1;0 -1 1 -1 0 0;-1 0 -1 0 -1 0];\n",
"A1=[1 0 -1;1 -1 0;0 1 -1;0 -1 0;0 0 -1;1 0 0];\n",
"det(A*A1)=A*A1;\n",
"disp('i) Numbers of trees  ([A*A^T]) is   =  '+string (det(A*A1)) +'  ');"
   ]
   }
,
{
		   "cell_type": "markdown",
		   "metadata": {},
		   "source": [
			"## Example 4.50: Voltage_Vcd.sce"
		   ]
		  },
  {
"cell_type": "code",
	   "execution_count": null,
	   "metadata": {
	    "collapsed": true
	   },
	   "outputs": [],
"source": [
"                     //EXAMPLE 4-50        PG  NO 261-262\n",
"I1=(17.32+%i*10)/(10+%i*10);\n",
"VCA=I1*5;\n",
"disp('i) VOLTAGE (VCA)   is     =  '+string (VCA) +' V   ');\n",
"I2=(35.35-%i*35.35)/(5-%i*5);\n",
"VBD=(-I2)*5;\n",
"disp('ii) VOLTAGE (VBD)   is     =  '+string (VBD) +' V   ');\n",
"VCD=VCA+VBD;\n",
"disp('ii) VOLTAGE (VCD)   is     =  '+string (VCD) +' V   ');"
   ]
   }
,
{
		   "cell_type": "markdown",
		   "metadata": {},
		   "source": [
			"## Example 4.51: Current.sce"
		   ]
		  },
  {
"cell_type": "code",
	   "execution_count": null,
	   "metadata": {
	    "collapsed": true
	   },
	   "outputs": [],
"source": [
"                     //EXAMPLE 4-51              PG NO-262\n",
"X1=[14+%i*6 -%i*10  20+%i*0;-%i*10 24+%i*6 -8.66+%i*5;-%i*10 -(4-%i*4) 0];\n",
"X2=[14+%i*6 -%i*10  -%i*10;-%i*10 24+%i*6 -(4-%i*4);-%i*10 -(4-%i*4) (34-%i*4)]\n",
"I3=det(X1/X2);\n",
"disp('i) Current (I3)   is     =  '+string (I3) +' A   ');"
   ]
   }
,
{
		   "cell_type": "markdown",
		   "metadata": {},
		   "source": [
			"## Example 4.52: Voltage.sce"
		   ]
		  },
  {
"cell_type": "code",
	   "execution_count": null,
	   "metadata": {
	    "collapsed": true
	   },
	   "outputs": [],
"source": [
"                             //EXAMPLE 4-52         PG NO-263\n",
"X=[(6+%i*2)  (100+%i*0);(-6-%i*3.32)   0];\n",
"X1=[(6+%i*2) (-6-%i*3.32); (-6-%i*3.32)  (16+%i*12)];\n",
"I2=det(X/X1);\n",
"disp('i) Current (I2)   is     =  '+string (I2) +' A   ');\n",
"V=10*I2;\n",
"disp('ii) VOLTAGE (V)   is     =  '+string (V) +' V   ');"
   ]
   }
,
{
		   "cell_type": "markdown",
		   "metadata": {},
		   "source": [
			"## Example 4.56: Input_Impedance.sce"
		   ]
		  },
  {
"cell_type": "code",
	   "execution_count": null,
	   "metadata": {
	    "collapsed": true
	   },
	   "outputs": [],
"source": [
"                       //EXAMPLE 4-56    PG NO-265 \n",
"I1=5.92-%i*4.833;\n",
"V=12+%i*0;\n",
"Z=V/I1;\n",
"disp('i) Input Impedance (Z)   is     =  '+string (Z) +' ohm   ');"
   ]
   }
,
{
		   "cell_type": "markdown",
		   "metadata": {},
		   "source": [
			"## Example 4.57: Primary_and_Secondry_Current_and_voltage.sce"
		   ]
		  },
  {
"cell_type": "code",
	   "execution_count": null,
	   "metadata": {
	    "collapsed": true
	   },
	   "outputs": [],
"source": [
"                                      //EXAMPLE 4-57        PG N 265-266\n",
"Z1=[200 +%i*4;0 5+%i*10];\n",
"Z2=[2+%i*5 %i*4;%i*4 5+%i*10];\n",
"I1=det(Z1/Z2);\n",
"disp('i) Current (I1)   is     =  '+string (I1) +' A   ');\n",
"Z3=[2+%i*5 %i*4;%i*4 5+%i*10];\n",
"Z4=[2+%i*5 %i*4;%i*4 5+%i*10];\n",
"I2=det(Z3/Z4);\n",
"disp('ii) Current (I2)   is     =  '+string (I2) +' A   ');"
   ]
   }
,
{
		   "cell_type": "markdown",
		   "metadata": {},
		   "source": [
			"## Example 4.58: current.sce"
		   ]
		  },
  {
"cell_type": "code",
	   "execution_count": null,
	   "metadata": {
	    "collapsed": true
	   },
	   "outputs": [],
"source": [
"\n",
"// Example : 4.58\n",
"   \n",
"v1=233.73-%i*8.934;\n",
"vs=240+%i*0;\n",
"r1=0.6+%i*0.8;\n",
"i1=(vs-v1)/r1;\n",
"disp('the value of I1 is = '+string(i1)+' Amp');\n",
"r2=0.5+%i*0.866;\n",
"vs1=239.5-%i*14.359;\n",
"i2=(vs1-v1)/r2;\n",
"disp('the value of I1 is = '+string(i2)+' Amp');\n",
"r3=16+%i*12;\n",
"il=i1/r3;\n",
"disp('the value of I1 is = '+string(il)+' Amp');"
   ]
   }
,
{
		   "cell_type": "markdown",
		   "metadata": {},
		   "source": [
			"## Example 4.62: I1_I2_Active_and_Reactive_Power.sce"
		   ]
		  },
  {
"cell_type": "code",
	   "execution_count": null,
	   "metadata": {
	    "collapsed": true
	   },
	   "outputs": [],
"source": [
"                      //EXAMPLE 4-61    PG NO-267-268\n",
"I1=0.05-%i*6.49;\n",
"I2=0.040+%i*0.02;\n",
"R1=100;\n",
"R2=4+%i*200;\n",
"Vab=(R1*I2)-[R2*(I1-I2)];\n",
"disp('i) VOLTAGE  (Vab) is    =  '+string (Vab) +' V ');"
   ]
   }
,
{
		   "cell_type": "markdown",
		   "metadata": {},
		   "source": [
			"## Example 4.6: Currents.sce"
		   ]
		  },
  {
"cell_type": "code",
	   "execution_count": null,
	   "metadata": {
	    "collapsed": true
	   },
	   "outputs": [],
"source": [
"             //  EXAMPLE 4-6           PG NO-228\n",
"I1=-2.59*10^-3;\n",
"I2=-1.45*10^-3;\n",
"IR1=I1;\n",
"disp('i) CURRENT  (IR1) is     from A  to B  =  '+string (IR1) +' A ');\n",
"IR2=I2;\n",
"disp('ii) CURRENT  (IR2) is     from B  to E  =  '+string (IR2) +' A ');\n",
"IR3=I1-I2;\n",
"disp('iii) CURRENT  (IR1) is     from B  to C  =  '+string (IR3) +' A ');\n",
"IR4=I1;\n",
"disp('vi) CURRENT  (IR4) is     from C  to F  =  '+string (IR4) +' A ');\n",
"IR5=I2;\n",
"disp('v) CURRENT  (IR1) is     from D  to C  =  '+string (IR5) +' A ');"
   ]
   }
,
{
		   "cell_type": "markdown",
		   "metadata": {},
		   "source": [
			"## Example 4.8: currents.sce"
		   ]
		  },
  {
"cell_type": "code",
	   "execution_count": null,
	   "metadata": {
	    "collapsed": true
	   },
	   "outputs": [],
"source": [
"                        //EXAMPLE 4-8            PG  NO-230-231\n",
"V=25;\n",
"Vm=0.64;\n",
"Vn=3.05;\n",
"R1=5;\n",
"R2=9.64\n",
"I1=(V-R2)/R1\n",
"disp('i) CURRENT  (I1) is       =  '+string (I1) +' A ');\n",
"I2=R2/4;\n",
"disp('ii) CURRENT  (I2) is     =  '+string (I2) +' A ');\n",
"I3=(R2-Vn)/10;\n",
"disp('iii) CURRENT  (I3) is     =  '+string (I3) +' A ');\n",
"I4=(10-Vn)/8;\n",
"disp('vi) CURRENT  (I4) is     =  '+string (I4) +' A ');\n",
"I5=Vn/2;\n",
"disp('v) CURRENT  (I5) is     =  '+string (I5) +' A ');"
   ]
   }
,
{
		   "cell_type": "markdown",
		   "metadata": {},
		   "source": [
			"## Example 4.9: current.sce"
		   ]
		  },
  {
"cell_type": "code",
	   "execution_count": null,
	   "metadata": {
	    "collapsed": true
	   },
	   "outputs": [],
"source": [
"                  //EXAMPLE 4-9      PG NO-232-233\n",
"X=[40 -8 -20;-8 18 -6;-20 -6 36];\n",
"Y=[24 -8 -20;0 18 -6;0 -6 36];\n",
"Z=[40 24 -20;-8 0 -6;-20 0 36];\n",
"U=[40 -8 24;-8 18 0;-20 -6 0]\n",
"I1=det(Y/X);\n",
"disp('CURRENT = '+string((I1))+' A');\n",
"I2=det(Z/X);\n",
"disp(' CURRENT = '+string(I2)+' A');\n",
"I3=det(U/X);\n",
"disp(' CURRENT is = '+string(I3)+' A');\n",
"IR3=I2;\n",
"disp(' CURRENT is = '+string(IR3)+' A');\n",
"IR4=0;\n",
"disp(' CURRENT is = '+string(IR4)+' A');\n",
"IR5=I1-I3;\n",
"disp(' CURRENT is = '+string(IR5)+' A');\n",
"IR6=I3;\n",
"disp(' CURRENT is = '+string(IR6)+' A');"
   ]
   }
,
{
		   "cell_type": "markdown",
		   "metadata": {},
		   "source": [
			"## Example 5.13: Current.sce"
		   ]
		  },
  {
"cell_type": "code",
	   "execution_count": null,
	   "metadata": {
	    "collapsed": true
	   },
	   "outputs": [],
"source": [
"           //EXAMPLE 5-13  PG NO-305\n",
"Z1=10+%i*0;\n",
"Z2=-%i*5;\n",
"Z3=3+%i*4;\n",
"Z4=3-%i*4;\n",
"Z5=10+%i*2.5;\n",
"VTH=(Z1*Z2)/(Z3+Z2);\n",
"ZTH=2+((20-%i*15)/(3-%i*1));\n",
"ZL=VTH/(ZTH+Z5);\n",
"disp('i) VOLTAGE (VTH) is   =  '+string (VTH)+'V ');\n",
"disp('i) IMPEDANCE (ZTH) is   =  '+string (ZTH)+'ohm ');\n",
"disp('i) IMPEDANCE (ZL) is   =  '+string (ZL)+'A ');"
   ]
   }
],
"metadata": {
		  "kernelspec": {
		   "display_name": "Scilab",
		   "language": "scilab",
		   "name": "scilab"
		  },
		  "language_info": {
		   "file_extension": ".sce",
		   "help_links": [
			{
			 "text": "MetaKernel Magics",
			 "url": "https://github.com/calysto/metakernel/blob/master/metakernel/magics/README.md"
			}
		   ],
		   "mimetype": "text/x-octave",
		   "name": "scilab",
		   "version": "0.7.1"
		  }
		 },
		 "nbformat": 4,
		 "nbformat_minor": 0
}
