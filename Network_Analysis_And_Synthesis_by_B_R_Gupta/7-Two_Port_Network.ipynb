{
"cells": [
 {
		   "cell_type": "markdown",
	   "metadata": {},
	   "source": [
       "# Chapter 7: Two Port Network"
	   ]
	},
{
		   "cell_type": "markdown",
		   "metadata": {},
		   "source": [
			"## Example 7.14: Y_Parameter.sce"
		   ]
		  },
  {
"cell_type": "code",
	   "execution_count": null,
	   "metadata": {
	    "collapsed": true
	   },
	   "outputs": [],
"source": [
"                            //EXAMPLE 7-14     PG NO469-470\n",
"Y11a=0.86;\n",
"Y11b=1.5;\n",
"Y12a=-0.57;\n",
"Y12b=-0.5;\n",
"Y21a=-0.57;\n",
"Y21b=-0.5;\n",
"Y22a=0.714;\n",
"Y22b=2.5;\n",
"Y11=Y11a+Y11b;\n",
"disp('i) IMPEDANCE (Y11) is   =  '+string (Y11) +'mho ');\n",
"Y12=Y12a+Y12b;\n",
"disp('i) IMPEDANCE (Y12) is   =  '+string (Y12) +'mho ');\n",
"Y21=Y21a+Y21b;\n",
"disp('i) IMPEDANCE (Y21) is   =  '+string (Y21) +'mho ');\n",
"Y22=Y22a+Y22b;\n",
"disp('i) IMPEDANCE (Y22) is   =  '+string (Y22) +'mho ');"
   ]
   }
,
{
		   "cell_type": "markdown",
		   "metadata": {},
		   "source": [
			"## Example 7.16: Image_Parameter.sce"
		   ]
		  },
  {
"cell_type": "code",
	   "execution_count": null,
	   "metadata": {
	    "collapsed": true
	   },
	   "outputs": [],
"source": [
"                   //EXAMPLE 7-16      PG NO-473\n",
"Zoc1=40;\n",
"Zsc1=36.67;\n",
"Zi1=sqrt((Zoc1*Zsc1));\n",
"disp('i) IMPEDANCE (Zi1) is   =  '+string (Zi1) +'ohm ');\n",
"Zoc2=30;\n",
"Zsc2=27.5;\n",
"Zi2=sqrt((Zoc2*Zsc2));\n",
"disp('ii) IMPEDANCE (Zi2) is   =  '+string (Zi2) +'ohm ');\n",
"TETA=1/tanh(0.9167);\n",
"disp('iii)  (TETA) is   =  '+string (TETA) +'degree ');"
   ]
   }
,
{
		   "cell_type": "markdown",
		   "metadata": {},
		   "source": [
			"## Example 7.17: Insertion_Loss.sce"
		   ]
		  },
  {
"cell_type": "code",
	   "execution_count": null,
	   "metadata": {
	    "collapsed": true
	   },
	   "outputs": [],
"source": [
"                               //EXAMPLE 7-17   PG NO-474-475\n",
"R=600;                        //RESISTANCE\n",
"I1=1/1200.13;\n",
"disp(' Current is   = '+string(I1)+'A');\n",
"I2=1/3793.54;\n",
"disp(' Current is   = '+string(I2)+'A');\n",
"P20=23984.9;\n",
"P2=2400;\n",
"IL=10*log10(P20/P2);\n",
"disp(' Insertion Loss is   = '+string(IL)+'dB');"
   ]
   }
,
{
		   "cell_type": "markdown",
		   "metadata": {},
		   "source": [
			"## Example 7.18: Impedance.sce"
		   ]
		  },
  {
"cell_type": "code",
	   "execution_count": null,
	   "metadata": {
	    "collapsed": true
	   },
	   "outputs": [],
"source": [
"                            //EXAMPLE 7-18  PG NO-477-478\n",
"Ra=7;\n",
"Rb=3;\n",
"Rc=3;\n",
"A=(Ra+Rb)/Rb;\n",
"disp(' A  is   = '+string(A)+'');\n",
"B=Ra+Rc+[(Ra*Rc)/Rb];\n",
"disp(' B is   = '+string(B)+'');\n",
"C=1/Rb;\n",
"disp(' C is   = '+string(C)+'');\n",
"D=(Rb+Rc)/Rb;\n",
"disp(' D is   = '+string(D)+'');\n",
"Z11=[(A*B)/(C*D)]^0.5;\n",
"disp(' Impedance is   = '+string(Z11)+'ohm');\n",
"Z12=[(B*D)/(A*C)]^0.5;\n",
"disp(' Impedance is   = '+string(Z12)+'ohm');\n",
"Q=1/cosh(2.62);\n",
"Y12=-(1/17);\n",
"disp(' Admittance is   = '+string(Y12)+'siemens');"
   ]
   }
,
{
		   "cell_type": "markdown",
		   "metadata": {},
		   "source": [
			"## Example 7.20: Admittance_Parameter.sce"
		   ]
		  },
  {
"cell_type": "code",
	   "execution_count": null,
	   "metadata": {
	    "collapsed": true
	   },
	   "outputs": [],
"source": [
"Zoc1=2.923;\n",
"Zsc1=1.80;\n",
"Zi1=sqrt((Zoc1*Zsc1));\n",
"disp('i) IMPEDANCE (Zi1) is   =  '+string (Zi1) +'ohm ');\n",
"Zoc2=4.77;\n",
"Zsc2=2.95;\n",
"Zi2=sqrt((Zoc2*Zsc2));\n",
"disp('ii) IMPEDANCE (Zi2) is   =  '+string (Zi2) +'ohm ');\n",
"TETA=1/tanh(0.619);\n",
"disp('iii)  (TETA) is   =  '+string (TETA) +'degree ');"
   ]
   }
,
{
		   "cell_type": "markdown",
		   "metadata": {},
		   "source": [
			"## Example 7.21: Ra_Rb_Rc.sce"
		   ]
		  },
  {
"cell_type": "code",
	   "execution_count": null,
	   "metadata": {
	    "collapsed": true
	   },
	   "outputs": [],
"source": [
"             //EXAMPLE 7-21     PG NO-481\n",
"Rb=0.05;\n",
"C=0.09;\n",
"Ra=1/[C-(Rb)];\n",
"disp('i) RESISTANCE  = '+string (Ra)+' ohm');\n",
"C1=0.07;\n",
"Rc=1/(C1-Rb);\n",
"disp('ii) RESISTANCE  = '+string (Rc)+' ohm');"
   ]
   }
,
{
		   "cell_type": "markdown",
		   "metadata": {},
		   "source": [
			"## Example 7.22: Z_and_Y_Parameter.sce"
		   ]
		  },
  {
"cell_type": "code",
	   "execution_count": null,
	   "metadata": {
	    "collapsed": true
	   },
	   "outputs": [],
"source": [
"                           //EXAMPLE 7-22      PG NO-482\n",
"Z11=4;\n",
"Z21=3;\n",
"Z12=3;\n",
"Z22=5;\n",
"Z=[Z11 Z12;Z21 Z22];\n",
"X=det(Z);\n",
"disp(' delta is   = '+string(X)+'');\n",
"Y=[(Z22/X) (-Z12/X);(-Z21/X) (Z11/X)];\n",
"disp(' ADMITTANCE is   = '+string(Y)+'');"
   ]
   }
,
{
		   "cell_type": "markdown",
		   "metadata": {},
		   "source": [
			"## Example 7.25: matrix.sce"
		   ]
		  },
  {
"cell_type": "code",
	   "execution_count": null,
	   "metadata": {
	    "collapsed": true
	   },
	   "outputs": [],
"source": [
"                         //EXAMPLE 7_25          PG  NO-484-485\n",
"A1=4/3;\n",
"A2=5/3;\n",
"B1=11/3;\n",
"B2=2;\n",
"C1=1/3;\n",
"C2=2;\n",
"D1=5/3;\n",
"D2=3;\n",
"A=A1+A2;\n",
"B=B1+B2;\n",
"C=C1+C2;\n",
"D=D1+D2;\n",
"X=(A*D)-(B*C);\n",
"disp(' X is   = '+string(X)+'');\n",
"Z=[A1 B1;C1 D1]*[A2 B2; C2 D2];\n",
"disp(' ABCD MATRIX is   = '+string(Z)+'');\n",
""
   ]
   }
,
{
		   "cell_type": "markdown",
		   "metadata": {},
		   "source": [
			"## Example 7.2: Z_Parameter.sce"
		   ]
		  },
  {
"cell_type": "code",
	   "execution_count": null,
	   "metadata": {
	    "collapsed": true
	   },
	   "outputs": [],
"source": [
"                                     //EXAMPLE 7-2    PG NO-437-438\n",
"Z11=99+%i*99;\n",
"Z12=-%i*100;\n",
"Z21=20-%i*102.26;\n",
"Z22=90.06-%i*120;\n",
"Z1=Z11-Z12;\n",
"disp('i) Impedance (Z1) is  in rectangular form  =  '+string (Z1) +'ohm ');\n",
"Z2=Z22-Z12;\n",
"disp('ii) Impedance (Z2) is  in rectangular form  =  '+string (Z2) +'ohm ');\n",
"Z3=Z21-Z12;\n",
"disp('iii) Impedance (Z3) is  in rectangular   form  =  '+string (Z3) +'ohm ');"
   ]
   }
,
{
		   "cell_type": "markdown",
		   "metadata": {},
		   "source": [
			"## Example 7.34: output_Voltage.sce"
		   ]
		  },
  {
"cell_type": "code",
	   "execution_count": null,
	   "metadata": {
	    "collapsed": true
	   },
	   "outputs": [],
"source": [
"                    //EXAMPLE 7-34        PG NO-489-490\n",
"h21=0.98;\n",
"h22=0.3*10^-6;\n",
"I1=(h22+(1/10^4))/h21;\n",
"disp('i) Current (I1)   is     =  '+string (I1) +' A   ');\n",
""
   ]
   }
,
{
		   "cell_type": "markdown",
		   "metadata": {},
		   "source": [
			"## Example 7.37: Y_parameter.sce"
		   ]
		  },
  {
"cell_type": "code",
	   "execution_count": null,
	   "metadata": {
	    "collapsed": true
	   },
	   "outputs": [],
"source": [
"                       //EXAMPLE 7-37        PG NO 438-439\n",
"Z11=3.25;\n",
"Z21=0.75;\n",
"Z12=-0.75;\n",
"Z22=1.75;\n",
"Z=[Z11 Z12;Z21 Z22];\n",
"X=det(Z);\n",
"disp(' delta is   = '+string(X)+'');\n",
"Y=[(Z22/X) (-Z12/X);(-Z21/X) (Z11/X)];\n",
"disp(' ADMITTANCE is   = '+string(Y)+'');"
   ]
   }
,
{
		   "cell_type": "markdown",
		   "metadata": {},
		   "source": [
			"## Example 7.38: Impedance.sce"
		   ]
		  },
  {
"cell_type": "code",
	   "execution_count": null,
	   "metadata": {
	    "collapsed": true
	   },
	   "outputs": [],
"source": [
"                             //EXAMPLE 7-38    PG NO-493\n",
"R1=4;                          //RESISTANCE\n",
"R2=4;                          //RESISTANCE\n",
"R3=8/9;                          //RESISTANCE\n",
"Z10=[R1*(R3+R2)]/[R1+R2+R3];\n",
"disp(' Impedance is  (Z10)  = '+string(Z10)+'ohm');\n",
"Z20=[R1*(R3+R2)]/[R1+R2+R3];\n",
"disp(' Impedance is  (Z20)  = '+string(Z20)+'ohm');\n",
"Z1S=[R1*R3]/[R1+R3];\n",
"disp(' Impedance is (Z1S)  = '+string(Z1S)+'ohm');\n",
"Z2S=[R1*R3]/[R1+R3];\n",
"disp(' Impedance is (Z1S)  = '+string(Z2S)+'ohm');"
   ]
   }
,
{
		   "cell_type": "markdown",
		   "metadata": {},
		   "source": [
			"## Example 7.42: Z_Parameter.sce"
		   ]
		  },
  {
"cell_type": "code",
	   "execution_count": null,
	   "metadata": {
	    "collapsed": true
	   },
	   "outputs": [],
"source": [
"                                   //EXAMPLE7-42  PG NO-495-496\n",
"Z11=2/3;\n",
"Z22=Z11;\n",
"Z12=1/3;\n",
"Z21=Z12;\n",
"A=Z11/Z21;\n",
"disp(' A is (A)  = '+string(A)+'ohm');\n",
"Z=[Z11 Z12;Z21 Z22]\n",
"X=det(Z);\n",
"disp(' Determinent is (X)  = '+string(X)+'');\n",
"B=X/Z21;\n",
"disp(' B is (B)  = '+string(B)+'ohm');\n",
"C=1/Z21;\n",
"disp(' C is (C)  = '+string(C)+'mho');\n",
"D=Z22/Z21;\n",
"disp(' D is (D)  = '+string(D)+'mho');"
   ]
   }
,
{
		   "cell_type": "markdown",
		   "metadata": {},
		   "source": [
			"## Example 7.4: Z_and_Y_Parameter.sce"
		   ]
		  },
  {
"cell_type": "code",
	   "execution_count": null,
	   "metadata": {
	    "collapsed": true
	   },
	   "outputs": [],
"source": [
"                         //EXAMPLE 7-4        PG NO 438-439\n",
"Z11=-0.4;\n",
"Z21=0.4;\n",
"Z12=-3.2;\n",
"Z22=1.2;\n",
"Z=[Z11 Z12;Z21 Z22];\n",
"X=det(Z);\n",
"disp(' delta is   = '+string(X)+'');\n",
"Y=[(Z22/X) (-Z12/X);(-Z21/X) (Z11/X)];\n",
"disp(' ADMITTANCE is   = '+string(Y)+'');"
   ]
   }
,
{
		   "cell_type": "markdown",
		   "metadata": {},
		   "source": [
			"## Example 7.5: Z_and_Y_Parameter.sce"
		   ]
		  },
  {
"cell_type": "code",
	   "execution_count": null,
	   "metadata": {
	    "collapsed": true
	   },
	   "outputs": [],
"source": [
"                   //EXAMPLE  7-5           PG NO-439-440\n",
"Z11=-0.4;\n",
"Z21=-3.2;\n",
"Z12=0.4;\n",
"Z22=1.2;\n",
"Z=[Z11 Z12;Z21 Z22];\n",
"X=det(Z);\n",
"disp(' delta is   = '+string(X)+'');\n",
"Y=[(Z22/X) (-Z12/X);(-Z21/X) (Z11/X)];\n",
"disp(' ADMITTANCE is   = '+string(Y)+'');"
   ]
   }
,
{
		   "cell_type": "markdown",
		   "metadata": {},
		   "source": [
			"## Example 7.8: Current_and_Voltage.sce"
		   ]
		  },
  {
"cell_type": "code",
	   "execution_count": null,
	   "metadata": {
	    "collapsed": true
	   },
	   "outputs": [],
"source": [
"                                           //EXAMPLE 7-8    PG NO-442\n",
"Y11=0.5;\n",
"Y21=-0.1;\n",
"Z1=0.1;\n",
"Z2=0.9;\n",
"Z=(Z1*Z2)/(Z1+Z2);\n",
"disp('i) Impedance (Z) is  in  rectangular   form  =  '+string (Z) +'mho ');\n",
"I1=10*Z;\n",
"disp('ii) Current (I) is   in rectangular   form  =  '+string (I1) +'A ');\n",
"V11=I1/I1;\n",
"disp('i) VOLTAGE (V11) is   in rectangular   form  =  '+string (V11) +'V ');"
   ]
   }
],
"metadata": {
		  "kernelspec": {
		   "display_name": "Scilab",
		   "language": "scilab",
		   "name": "scilab"
		  },
		  "language_info": {
		   "file_extension": ".sce",
		   "help_links": [
			{
			 "text": "MetaKernel Magics",
			 "url": "https://github.com/calysto/metakernel/blob/master/metakernel/magics/README.md"
			}
		   ],
		   "mimetype": "text/x-octave",
		   "name": "scilab",
		   "version": "0.7.1"
		  }
		 },
		 "nbformat": 4,
		 "nbformat_minor": 0
}
