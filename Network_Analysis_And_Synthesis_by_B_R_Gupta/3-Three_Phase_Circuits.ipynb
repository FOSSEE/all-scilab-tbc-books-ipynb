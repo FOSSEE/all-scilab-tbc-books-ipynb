{
"cells": [
 {
		   "cell_type": "markdown",
	   "metadata": {},
	   "source": [
       "# Chapter 3: Three Phase Circuits"
	   ]
	},
{
		   "cell_type": "markdown",
		   "metadata": {},
		   "source": [
			"## Example 3.10: Voltage_Line_Currents.sce"
		   ]
		  },
  {
"cell_type": "code",
	   "execution_count": null,
	   "metadata": {
	    "collapsed": true
	   },
	   "outputs": [],
"source": [
"                     //EXAMPLE 3-10          PG NO-180\n",
"Za=6+%i*0;\n",
"Zb=5.26+%i*3;\n",
"Zc=3.535+%i*3.535;\n",
"Van=230.94+%i*0;\n",
"Vcn=-115.47-%i*200;\n",
"Vbn=-115.47+%i*200;\n",
"Ya=1/Za;\n",
"disp('i) admittance  (Ya) is  in rectangular form  =  '+string (Ya) +' siemens ');\n",
"Yb=1/Zb;\n",
"disp('i) admittance  (Yb) is  in  rectangular form  =  '+string (Yb) +' siemens ');\n",
"Yc=1/Zc;\n",
"disp('i) admittance  (Yc) is  in rectangular form  =  '+string (Yc) +' siemens ');\n",
"Von=[(Van*Ya)+(Vbn*Yb)+(Vcn*Yc)]/(Ya+Yb+Yc);\n",
"disp('i) Voltage  (Von) is  in rectangular form  =  '+string (Von) +' V');\n",
"Vao=Van-Von;\n",
"disp('i) Voltage  (Vao) is  in rectangular form  =  '+string (Vao) +' V');\n",
"Vbo=Vbn-Von;\n",
"disp('i) Voltage  (Vbo) is  in rectangular form  =  '+string (Vbo) +' V');\n",
"Vco=Vcn-Von;\n",
"disp('i) Voltage  (Vco) is  in rectangular form  =  '+string (Vco) +' V');\n",
"Ia=Vao*Ya;\n",
"disp('i) CURRENT  (Ia) is  in rectangular form  =  '+string (Ia) +' A ');\n",
"Ib=Vbo*Yc;\n",
"disp('i) CURRENT  (Ib) is  in rectangular form  =  '+string (Ib) +' A ');\n",
"Ic=Vco*Yc;\n",
"disp('i) CURRENT  (Ic) is  in rectangular form  =  '+string (Ic) +' A ');"
   ]
   }
,
{
		   "cell_type": "markdown",
		   "metadata": {},
		   "source": [
			"## Example 3.11: Reading_on_wattmeter.sce"
		   ]
		  },
  {
"cell_type": "code",
	   "execution_count": null,
	   "metadata": {
	    "collapsed": true
	   },
	   "outputs": [],
"source": [
"                       //EXAMPLE 3-11   PG NO-181\n",
"                      \n",
"Vrn=230.94+%i*0;\n",
"Vyn=-115.47-%i*200;\n",
"Vbn=-115.47+%i*200;\n",
"Yr=-%i*0.05;\n",
"Yy=%i*0.05;\n",
"Yb=0.05;\n",
"Von=[(Vrn*Yr)+(Vyn*Yy)+(Vbn*Yb)]/(Yr+Yy+Yb);\n",
"disp('i) Voltage  (Von) is  in rectangular form  =  '+string (Von) +' V');\n",
"Vyo=Vyn-Von;\n",
"disp('i) Voltage  (Vyo) is  in rectangular form  =  '+string (Vyo) +' V');\n",
"Iy=Vyo*Yy;\n",
"disp('iii) CURRENT  (Iy) is  in rectangular form  =  '+string (Iy) +' A ');"
   ]
   }
,
{
		   "cell_type": "markdown",
		   "metadata": {},
		   "source": [
			"## Example 3.12: Phase_Current_of_delta_and_star_Active_Power_Power_Factor.sce"
		   ]
		  },
  {
"cell_type": "code",
	   "execution_count": null,
	   "metadata": {
	    "collapsed": true
	   },
	   "outputs": [],
"source": [
"              //EXAMPLE 3-12       PG NO-181-182\n",
"Vp=400;\n",
"Zp=10+%i*24;\n",
"Zpy=6-%i*8;\n",
"Ip=Vp/Zp;\n",
"disp('i) CURRENT  (Ip) is  in rectangular form  =  '+string (Ip) +' A ');\n",
"Ipy=[Vp/sqrt(3)]/Zpy;\n",
"disp('ii) CURRENT  (Ipy) is  in rectangular form  =  '+string (Ipy) +' A ');\n",
"Rp=10;\n",
"Rpy=6;\n",
"Xp=24;\n",
"Xpy=-8;\n",
"P1=3*Ip*Ip*Rp;\n",
"disp('iii)  Power (P1) is    =  '+string (P1) +'  W ');\n",
"P2=Ipy*Ipy*3*Rpy;\n",
"disp('iv)  Power (P2) is    =  '+string (P2) +'  W ');\n",
"Q1=3*Ip*Ip*Xp;\n",
"disp('v)  Power (Q1) is    =  '+string (Q1) +'  W ');\n",
"Qy=3*Ipy*Ipy*Xpy;\n",
"disp('vi)  Power (Qy) is    =  '+string (Qy) +'  W ');\n",
"P=P1+P2;\n",
"disp('vii)  Power (P) is    =  '+string (P) +'  W ');\n",
"Q=Q1+Qy;\n",
"disp('viii)  Power (Q) is    =  '+string (Q) +'  W ');\n",
"S=P+%i*Q;\n",
"disp('ix)  Power (S) is    =  '+string (S) +'  W ');\n",
"LI=S/[sqrt(3)*Vp];\n",
"disp('x) CURRENT  (LI) is  in rectangular form  =  '+string (LI) +' A ');"
   ]
   }
,
{
		   "cell_type": "markdown",
		   "metadata": {},
		   "source": [
			"## Example 3.13: Line_voltage.sce"
		   ]
		  },
  {
"cell_type": "code",
	   "execution_count": null,
	   "metadata": {
	    "collapsed": true
	   },
	   "outputs": [],
"source": [
"                                     //EXAMPLE 3-13    PG NO 182\n",
"VRY=375.877+%i*136.80;\n",
"disp('i)   LINE VOLTAGE (VRY) is in rectangular form   =  '+string (VRY) +' V  ');\n",
"VYB=-69.45-%i*393.923;\n",
"disp('ii)   LINE VOLTAGE (VYB) is in rectangular form   =  '+string (VYB) +' V  ');\n",
"VBR=-306.41+%i*257.11;\n",
"disp('iii)   LINE VOLTAGE (VBR) is in rectangular form   =  '+string (VBR) +' V  ');\n",
"VYR=-VRY;\n",
"disp('i)   LINE VOLTAGE (VYR) is in rectangular form   =  '+string (VYR) +' V  ');\n",
"VRB=69.45+%i*393.923;\n",
"disp('i)   LINE VOLTAGE (VRB) is in rectangular form   =  '+string (VRB) +' V  ');\n",
"VBY=306.41-%i*257.11;\n",
"disp('i)   LINE VOLTAGE (VBY) is in rectangular form   =  '+string (VBY) +' V  ');"
   ]
   }
,
{
		   "cell_type": "markdown",
		   "metadata": {},
		   "source": [
			"## Example 3.15: Line_Current_Neutral_Currents_Reading_of_wattmeter.sce"
		   ]
		  },
  {
"cell_type": "code",
	   "execution_count": null,
	   "metadata": {
	    "collapsed": true
	   },
	   "outputs": [],
"source": [
"                       //EXAMPLE 3-15  PG NO-185-186\n",
"Van=230.94+%i*0;\n",
"Vbn=-115.47-%i*200;\n",
"Vcn=-115.47+%i*200;\n",
"V1=10*10^3;\n",
"Ia=V1/Van;\n",
"disp('i) CURRENT  (Ia) is  in rectangular form  =  '+string (Ia) +' A ');\n",
"V2=4*10^3;\n",
"Ic=V2/Van;\n",
"disp('i) CURRENT  (Ic) is  in rectangular form  =  '+string (Ic) +' A ');\n",
"V3=6*10^3;\n",
"Ib=V3/Van;\n",
"disp('i) CURRENT  (Ib) is  in rectangular form  =  '+string (Ib) +' A ');\n",
"In=(Ia+Ib+Ic);\n",
"disp('i) CURRENT  (In) is  in rectangular form  =  '+string (In) +' A ');\n",
"W1=[V1+V2+V3]/2;\n",
"disp('iv)  Power (W1) is in rectangular form    =  '+string (W1) +'  W ');"
   ]
   }
,
{
		   "cell_type": "markdown",
		   "metadata": {},
		   "source": [
			"## Example 3.16: Power_and_Power_factor.sce"
		   ]
		  },
  {
"cell_type": "code",
	   "execution_count": null,
	   "metadata": {
	    "collapsed": true
	   },
	   "outputs": [],
"source": [
"        //example-3.16   pg no-186\n",
"W1=5920;\n",
"W2=2610;\n",
"P=8530;\n",
"tanQ=(1.732*(W2-W1))/(W1+W2);\n",
"cosQ=0.83;\n",
"P.F=cosQ;\n",
"disp('i) tanQ  = '+string (tanQ)+' ');\n",
"disp('ii) POWER FACTOR  = '+string (P.F)+' ');\n",
""
   ]
   }
,
{
		   "cell_type": "markdown",
		   "metadata": {},
		   "source": [
			"## Example 3.18: Power_ouputs.sce"
		   ]
		  },
  {
"cell_type": "code",
	   "execution_count": null,
	   "metadata": {
	    "collapsed": true
	   },
	   "outputs": [],
"source": [
"  //Example 3.18      pg no-186-187\n",
"cosQ=0.8;\n",
"sinQ=0.6;\n",
"VL=10000;\n",
"V=5000*10^3;               //VOLTAGE\n",
"P.F=0.9;                 //POWER FACTOR\n",
"IL=V/(1.732*VL*cosQ) ;\n",
"I1=IL*cosQ;    //ACTIVE  COMPONENT\n",
"I2=IL*sinQ;    //REACTIVE  COMPONENT\n",
"P=1.732*(VL*IL*P.F)\n",
"disp('i) IL = '+string (IL)+' A');\n",
"disp('i) ACTIVE COMPONENT = '+string (I1)+' A');\n",
"disp('i)  REACTIVE COMPONENT = '+string (I2)+' A');\n",
"disp('i)  P  = '+string (P)+' KW');"
   ]
   }
,
{
		   "cell_type": "markdown",
		   "metadata": {},
		   "source": [
			"## Example 3.19: Current_Power_factor_Active_Reactive_Power.sce"
		   ]
		  },
  {
"cell_type": "code",
	   "execution_count": null,
	   "metadata": {
	    "collapsed": true
	   },
	   "outputs": [],
"source": [
" //EXAMPLE 3.19     PG NO-187\n",
"VL=230;\n",
"VP=VL/1.732;\n",
"IL=13.279;\n",
"COSQ=0.8;\n",
"SINQ=0.6;\n",
"P=(1.732*VL*IL*COSQ)\n",
"R.P=(1.732*VL*IL*SINQ)      \n",
"VA=(1.732*VL*VP)\n",
"disp('i) POWER FACTOR = '+string (P)+' W');\n",
"disp('i) POWER FACTOR = '+string (R.P)+' var');\n",
"disp('i)TOTAL VA = '+string (VA)+' VA');"
   ]
   }
,
{
		   "cell_type": "markdown",
		   "metadata": {},
		   "source": [
			"## Example 3.1: Line_Current_Total_Volts_Ampere_Active_Power_Reactive_Power.sce"
		   ]
		  },
  {
"cell_type": "code",
	   "execution_count": null,
	   "metadata": {
	    "collapsed": true
	   },
	   "outputs": [],
"source": [
"             //EXAMPLE 3-1 PG NO-172\n",
"VL=400;\n",
"Vp=400/sqrt(3);\n",
"Z=8-%i*10;\n",
"IL=Vp/Z;\n",
"S=sqrt(3)*(VL*IL);\n",
"P=S*(cos(-51.34));\n",
"Q=S*(sin(-51.34));\n",
"Von=230.94+%i*0;\n",
"Vbn=-115.47-%i*99.99\n",
"disp('i) RMS   =  '+string (S)+'A ')"
   ]
   }
,
{
		   "cell_type": "markdown",
		   "metadata": {},
		   "source": [
			"## Example 3.20: Load_Impedance.sce"
		   ]
		  },
  {
"cell_type": "code",
	   "execution_count": null,
	   "metadata": {
	    "collapsed": true
	   },
	   "outputs": [],
"source": [
" //Example 3.20   pg no-187\n",
"Ip=100;   //LINE CURRENT\n",
"COSQ=0.787;\n",
"SINQ=0.617;\n",
"pi=3.14;\n",
"Vp=1100/1.732;\n",
"W=(2*pi*50)\n",
"Z=Vp/Ip;\n",
"R=Z*COSQ;\n",
"Xc=Z*SINQ\n",
"C=1/(W*Xc)\n",
"disp('i) Z = '+string (Z)+' ohm');\n",
"disp('ii) R = '+string (R)+' ohm');\n",
"disp('iii)  Xc = '+string (Xc)+' ohm');\n",
"disp('iiii)capacitance (C) = '+string (C)+' F');"
   ]
   }
,
{
		   "cell_type": "markdown",
		   "metadata": {},
		   "source": [
			"## Example 3.21: Line_current_Volt_ampere_Active_and_Reactive_Power.sce"
		   ]
		  },
  {
"cell_type": "code",
	   "execution_count": null,
	   "metadata": {
	    "collapsed": true
	   },
	   "outputs": [],
"source": [
"    // EXAMPLE 3.21  PG NO-187\n",
"Ip=20;\n",
"IL=(1.732*Ip);\n",
"VL=400;\n",
"cos40=0.766;\n",
"sin40=0.642;\n",
"VA=(1.732*VL*IL);\n",
"p=(VA*cos40);\n",
"q=(VA*sin40);\n",
"disp('i) VA = '+string (VA)+' VA');\n",
"disp('ii) P = '+string (p)+' W');\n",
"disp('iii) Q = '+string (q)+' vars');\n",
"    "
   ]
   }
,
{
		   "cell_type": "markdown",
		   "metadata": {},
		   "source": [
			"## Example 3.22: Phase_Current_Line_Current_Power_Factor_Active_Powerand_Reactive_Power.sce"
		   ]
		  },
  {
"cell_type": "code",
	   "execution_count": null,
	   "metadata": {
	    "collapsed": true
	   },
	   "outputs": [],
"source": [
"                    //EXAMPLE 3.22  PG NO-188\n",
"Vp=230;\n",
"VL=230;\n",
"Z=8+%i*6;   \n",
"Ip=Vp/Z;\n",
"disp('i) CURRENT  (Ip) is  in rectangular form  =  '+string (Ip) +' A ');"
   ]
   }
,
{
		   "cell_type": "markdown",
		   "metadata": {},
		   "source": [
			"## Example 3.23: impedance.sce"
		   ]
		  },
  {
"cell_type": "code",
	   "execution_count": null,
	   "metadata": {
	    "collapsed": true
	   },
	   "outputs": [],
"source": [
"                        //EXAMPLE 3-23     PG NO-188\n",
"Za=8.66+%i*5;\n",
"Zc=8.48+%i*8.48;\n",
"Zb=11.50+%i*9.642;\n",
"VRn=254+%i*0;\n",
"VYn=-127.02-%i*220;\n",
"Vbn=-127.02+%i*220;\n",
"Yr=1/Za;\n",
"disp('i) admittance  (Ya) is  in rectangular form  =  '+string (Yr) +' siemens ');\n",
"Yb=1/Zb;\n",
"disp('i) admittance  (Yb) is  in rectangular form  =  '+string (Yb) +' siemens ');\n",
"Yy=1/Zc;\n",
"disp('i) admittance  (Yc) is  in rectangular form  =  '+string (Yy) +' siemens ');\n",
"\n",
"Von=[(VRn*Yr)+(Vbn*Yb)+(VYn*Yy)]/(Yr+Yb+Yy);\n",
"\n",
"disp('i) Voltage  (Von) is  in rectangular form  =  '+string (Von) +' V');"
   ]
   }
,
{
		   "cell_type": "markdown",
		   "metadata": {},
		   "source": [
			"## Example 3.24: Total_Power_and_Power_Factor.sce"
		   ]
		  },
  {
"cell_type": "code",
	   "execution_count": null,
	   "metadata": {
	    "collapsed": true
	   },
	   "outputs": [],
"source": [
"                    //EXAMPLE  3-24  PG NO-189\n",
"W1=-1200;\n",
"W2=3400;\n",
"P=W1+W2;\n",
"disp('iv)  Power (P) is     =  '+string (P) +'  W ');\n",
"X=[sqrt(3)*(W2-W1)]/P;\n",
"disp('iv)   (tan (Q)) is     =  '+string  (X) +'   ');"
   ]
   }
,
{
		   "cell_type": "markdown",
		   "metadata": {},
		   "source": [
			"## Example 3.25: Line_Current_Total_Power.sce"
		   ]
		  },
  {
"cell_type": "code",
	   "execution_count": null,
	   "metadata": {
	    "collapsed": true
	   },
	   "outputs": [],
"source": [
"                    //EXAMPLE 3-25           PG NO-189\n",
"Vac=240+%i*0;\n",
"Vcb=-120-%i*207.84;\n",
"Vba=-120+%i*207.84;\n",
"Zac=20+%i*0;\n",
"Zcb=12.99+%i*7.5;\n",
"Zba=0+%i*25;\n",
"Iac=Vac/Zac;\n",
"disp('i) CURRENT  (Iac) is  in rectangular form  =  '+string (Iac) +' A ');\n",
"Icb=Vcb/Zcb;\n",
"disp('i) CURRENT  (Icb) is  in rectangular form  =  '+string (Icb) +' A ');\n",
"Iba=Vba/Zba;\n",
"disp('i) CURRENT  (Iba) is  in rectangular form  =  '+string (Iba) +' A ');\n",
"Ia=Iac-Iba;\n",
"disp('i) CURRENT  (Ia) is  in rectangular form  =  '+string (Ia) +' A ');\n",
"Ib=Iba-Icb;\n",
"disp('i) CURRENT  (Ib) is  in rectangular form  =  '+string (Ib) +' A ');\n",
"Ic=Icb-Iac;\n",
"disp('i) CURRENT  (Ic) is  in rectangular form  =  '+string (Ic) +' A ');\n",
"P=(240*12)+(240*16*0.866)+(240*9.6*0);\n",
"disp('iv)  Power (P) is     =  '+string (P) +'  W ');"
   ]
   }
,
{
		   "cell_type": "markdown",
		   "metadata": {},
		   "source": [
			"## Example 3.26: current_Power.sce"
		   ]
		  },
  {
"cell_type": "code",
	   "execution_count": null,
	   "metadata": {
	    "collapsed": true
	   },
	   "outputs": [],
"source": [
"Vab=200+%i*0;\n",
"Vbc=-100-%i*173.20;\n",
"Vca=-100+%i*173.20;\n",
"Zac=31+%i*59;\n",
"Zcb=30-%i*40;\n",
"Zba=80+%i*60;\n",
"Iab=Vab/Zac;\n",
"disp('i) CURRENT  (Iac) is  in rectangular form  =  '+string (Iab) +' A ');\n",
"Ibc=Vbc/Zcb;\n",
"disp('i) CURRENT  (Icb) is  in rectangular form  =  '+string (Ibc) +' A ');\n",
"Ica=Vca/Zba;\n",
"disp('i) CURRENT  (Iba) is  in rectangular form  =  '+string (Ica) +' A ');\n",
"Ia=Iab-Ica;\n",
"disp('i) CURRENT  (Ia) is  in rectangular form  =  '+string (Ia) +' A ');\n",
"Ib=Ibc-Iab;\n",
"disp('i) CURRENT  (Ib) is  in rectangular form  =  '+string (Ib) +' A ');\n",
"Ic=Ica-Ibc;\n",
"disp('i) CURRENT  (Ic) is  in rectangular form  =  '+string (Ic) +' A ');\n",
"P=(200*3*0.46)+(200*4*0.6)+(200*2*0.8);\n",
"disp('iv)  Power (P) is     =  '+string (P) +'  W ');"
   ]
   }
,
{
		   "cell_type": "markdown",
		   "metadata": {},
		   "source": [
			"## Example 3.27: Line_Current_and_Total_Power.sce"
		   ]
		  },
  {
"cell_type": "code",
	   "execution_count": null,
	   "metadata": {
	    "collapsed": true
	   },
	   "outputs": [],
"source": [
"   //EXAMPLE-3.27   PG NO-190-191\n",
"Zr=4;\n",
"Zy=5;\n",
"VL=400;\n",
"IL=103.1;\n",
"Q=36.6   //Q=TETA\n",
"COSQ=0.8028;\n",
"P=(1.732*VL*IL*COSQ)\n",
"disp('i) P = '+string (P)+' W');"
   ]
   }
,
{
		   "cell_type": "markdown",
		   "metadata": {},
		   "source": [
			"## Example 3.28: Line_Current_Neutral_Current_Total_power.sce"
		   ]
		  },
  {
"cell_type": "code",
	   "execution_count": null,
	   "metadata": {
	    "collapsed": true
	   },
	   "outputs": [],
"source": [
"                          //EXAMPLE 3-28   PG NO-191\n",
"Van=230.94+%i*0;\n",
"Vbn=-115.47-%i*200;\n",
"Vcn=-115.47+%i*200;\n",
"Za=12-%i*16;\n",
"Zb=12+%i*0;\n",
"Zc=8+%i*6;\n",
"Ia=Van/Za;\n",
"disp('i) CURRENT  (Ia) is  in rectangular form  =  '+string (Ia) +' A ');\n",
"Ib=Vbn/Zb;\n",
"disp('i) CURRENT  (Ib) is  in rectangular form  =  '+string (Ib) +' A ');\n",
"Ic=Vcn/Zc;\n",
"disp('i) CURRENT  (Ic) is  in rectangular form  =  '+string (Ic) +' A ');\n",
"NI=-(Ia+Ib+Ic);\n",
"disp('i)NEUTRAL CURRENT  (NI) is  in rectangular form  =  '+string (NI) +' A ');\n",
"P=(230.95*11.55*0.6)+(230.95*19.25*1)+(230.95*23.095*0.8);\n",
"disp('iv)  Power (P) is     =  '+string (P) +'  W ');"
   ]
   }
,
{
		   "cell_type": "markdown",
		   "metadata": {},
		   "source": [
			"## Example 3.29: Line_current.sce"
		   ]
		  },
  {
"cell_type": "code",
	   "execution_count": null,
	   "metadata": {
	    "collapsed": true
	   },
	   "outputs": [],
"source": [
"    //Example-3.29    PG NO-191-192\n",
"IL=12.55;\n",
"V=460;\n",
"Z=V/(1.732*IL)\n",
"disp('i) Z = '+string (Z)+' ohm');    "
   ]
   }
,
{
		   "cell_type": "markdown",
		   "metadata": {},
		   "source": [
			"## Example 3.2: Load_Impedance_Line_Voltage.sce"
		   ]
		  },
  {
"cell_type": "code",
	   "execution_count": null,
	   "metadata": {
	    "collapsed": true
	   },
	   "outputs": [],
"source": [
"      //EXAMPLE 2-32    PG NO 173\n",
"Vp=400;     //Peak voltage\n",
"VL=400;\n",
"Z=8-%i*10;     //Impedance\n",
"Ip=VL/12.81;     \n",
"IL=sqrt(3)*Ip;\n",
"S=sqrt(3)*VL*IL;\n",
"P=S*cos(-51.34);\n",
"Q=S*sin(-51.34);\n",
"Vab=Vp+%i*0;\n",
"Vbc=-200-%i*346.410;\n",
"Vca=-200+%i*346;\n",
"Iab=Vab/Z;\n",
"Ibc=Vbc/Z;\n",
"Ica=Vca/Z;\n",
"Ia=Iab-Ibc;\n",
"Ib=Ibc-Iab;\n",
"Ic=Ica-Ibc;\n",
"disp('i) Peak current   =  '+string (Ip)+'A ')\n",
"disp('i) S   =  '+string (S)+'VA ')\n",
"disp('i) Active Power   =  '+string (P)+'W ')\n",
"disp('i) Reactive power   =  '+string (Q)+'Vars ')\n",
"disp('i) Iab is in reactance form  =  '+string (Iab)+'A ')\n",
"disp('i) Ibc is in  reactance form =  '+string (Ibc)+'A ')\n",
"disp('i) Ica is in reactance   form=  '+string (Ica)+'A ')\n",
"disp('i) Ia is in  reactance form =  '+string (Ia)+'A ')\n",
"disp('i) Ib is in reactance form  =  '+string (Ib)+'A ')\n",
"disp('i) Ic is in reactance  =  '+string (Ic)+'A ')"
   ]
   }
,
{
		   "cell_type": "markdown",
		   "metadata": {},
		   "source": [
			"## Example 3.30: R_and_x.sce"
		   ]
		  },
  {
"cell_type": "code",
	   "execution_count": null,
	   "metadata": {
	    "collapsed": true
	   },
	   "outputs": [],
"source": [
"                     //EXAMPLE 3-30       PG NO-192\n",
"R=8*0.866;                      //cos30=0.866\n",
"disp('i)   Resistance (R) is   =  '+string (R) +' ohm  ');\n",
"X=8*0.5;\n",
"disp('ii)  X (X) is    =  '+string (X) +' ohm  ');"
   ]
   }
,
{
		   "cell_type": "markdown",
		   "metadata": {},
		   "source": [
			"## Example 3.31: Voltmeter.sce"
		   ]
		  },
  {
"cell_type": "code",
	   "execution_count": null,
	   "metadata": {
	    "collapsed": true
	   },
	   "outputs": [],
"source": [
"   //EXAMPLE -3.31   PG NO -193\n",
"Zr=3333.33;\n",
"Vry=200;\n",
"X=16666.66;\n",
"Y=346.40;    //Y=(300-j173.2)   \n",
"I=Y/X;\n",
"R.V=I*Zr;\n",
"disp('i) I = '+string (I)+'<-29.99 A');\n",
"disp('ii) READING OF VOLTMETER = '+string (R.V)+' <-30 degree V');"
   ]
   }
,
{
		   "cell_type": "markdown",
		   "metadata": {},
		   "source": [
			"## Example 3.32: Line_currents.sce"
		   ]
		  },
  {
"cell_type": "code",
	   "execution_count": null,
	   "metadata": {
	    "collapsed": true
	   },
	   "outputs": [],
"source": [
"                 //EXAMPLE 3-32          PG NO-193\n",
"Vry=400+%i*0;\n",
"Vyb=-200-%i*346.41;\n",
"Vbr=-200+%i*346.410;\n",
"I1=14.74-%i*7.3;\n",
"I2=2.105-%i*10.94;\n",
"Ir=I1;\n",
"disp('i) CURRENT  (Ir) is  in rectangular form  =  '+string (Ir) +' A ');\n",
"Iy=I2-I1;\n",
"disp('i) CURRENT  (Iy) is  in rectangular form  =  '+string (Iy) +' A ');\n",
"Ib=-I2;\n",
"disp('i) CURRENT  (Ib) is  in rectangular form  =  '+string (Ib) +' A ');\n",
"Pr=16.45*16.45*10;\n",
"disp('i) Power  (Pr) is    =  '+string (Pr) +' W ');\n",
"Py=Iy*Iy*20;\n",
"disp('i) Power  (Py) is  in  rectangular form  =  '+string (Py) +' W ');\n",
"Pb=11.24*11.24*25;\n",
"disp('i) Power  (Pb) is in rectangular form   =  '+string (Pb) +' W ');\n",
"Vro=-(Ir*10);\n",
"disp('i) VOLTAGE  (Vro) is  in rectangular  form  =  '+string (Vro) +' V ');\n",
"Vrn=200-%i*115.475;\n",
"disp('i) VOLTAGE  (Vrn) is  in rectangular  form  =  '+string (Vrn) +' V ');\n",
"Von=Vro+Vrn;\n",
"disp('i) VOLTAGE  (Von) is  in rectangular  form  =  '+string (Von) +' V ');"
   ]
   }
,
{
		   "cell_type": "markdown",
		   "metadata": {},
		   "source": [
			"## Example 3.33: Neutral_Current.sce"
		   ]
		  },
  {
"cell_type": "code",
	   "execution_count": null,
	   "metadata": {
	    "collapsed": true
	   },
	   "outputs": [],
"source": [
"                      //EXAMPLE 3-33      PG NO-194\n",
"Z1=8-%i*6;\n",
"Z2=3.6-%i*4.8;\n",
"In=-(Z1+Z2);\n",
"disp('i) CURRENT  (In) is  in rectangular form  =  '+string (In) +' A ');"
   ]
   }
,
{
		   "cell_type": "markdown",
		   "metadata": {},
		   "source": [
			"## Example 3.34: Line_Current_Total_Voltmetter_Active_and_Reactive_Power.sce"
		   ]
		  },
  {
"cell_type": "code",
	   "execution_count": null,
	   "metadata": {
	    "collapsed": true
	   },
	   "outputs": [],
"source": [
"                       //EXAMPLE 3-34       PG NO-194\n",
"Vp=230.94;\n",
"Van=230.94+%i*0;\n",
"Vbn=-115.47-%i*200;\n",
"Vcn=-115.47+%i*200;\n",
"Z=8-%i*10;\n",
"Ia=Van/Z;\n",
"disp('i) CURRENT  (Ia) is  in rectangular form  =  '+string (Ia) +' A ');\n",
"Ib=Vbn/Z;\n",
"disp('ii) CURRENT  (Ib) is  in rectangular form  =  '+string (Ib) +' A ');\n",
"Ic=Vcn/Z;\n",
"disp('iii) CURRENT  (Ic) is  in rectangular form  =  '+string (Ic) +' A ');\n",
"S=sqrt(3)*400*18.03;\n",
"disp('iv)  APPARENT POWER (S) is    =  '+string (S) +'  VA ');\n",
"P=S*0.62;\n",
"disp('v)  Power (P) is    =  '+string (P) +'  W ');\n",
"Q=S*-0.8;\n",
"disp('vi)  Power (Q) is    =  '+string (Q) +'  vars ');\n",
"\n",
""
   ]
   }
,
{
		   "cell_type": "markdown",
		   "metadata": {},
		   "source": [
			"## Example 3.35: EX3_35.sce"
		   ]
		  },
  {
"cell_type": "code",
	   "execution_count": null,
	   "metadata": {
	    "collapsed": true
	   },
	   "outputs": [],
"source": [
"      //EXAMPLE -3.35      PG NO-195\n",
"I.P=163.44;     //POWER INPUT\n",
"T.A.P=253.44;   //TOTAL ACTIVE POWER\n",
"R.P=122.58;   //REACTIVE POWER  INDUCTION  MOTOR\n",
"L=40;     //REACTIVE POWER OF SPECIAL LOAD\n",
"T.P=R.P+L;   //TOTAL REACTIVE POWER\n",
"S=301.1;   //P+JQ\n",
"X=T.A.P/S;    //OVERALL POWRER  FACTOR\n",
"IL=S*10^3/(1.732*400)\n",
"disp('i)TOTAL REACTIVE POWER    =  '+string (T.P)+' Kvar')\n",
"disp('i) S   =  '+string (S)+' KVA')\n",
"disp('i)OVERALL POWER FACTOR (x)   =  '+string (X)+' lagging')\n",
"disp('iiii)LOAD CURRENT (IL)   =  '+string (IL)+' A')\n",
"      "
   ]
   }
,
{
		   "cell_type": "markdown",
		   "metadata": {},
		   "source": [
			"## Example 3.36: Phase_current_Total_line_current.sce"
		   ]
		  },
  {
"cell_type": "code",
	   "execution_count": null,
	   "metadata": {
	    "collapsed": true
	   },
	   "outputs": [],
"source": [
" //EXAMPLE-3.36     PG NO -195\n",
"Vp=400/(3)^0.5;\n",
"R.p=162.58*10^3;\n",
"Ipc=R.p/(3*Vp);\n",
"IL=365.82;\n",
"Xc=Vp/Ipc;\n",
"pi=3.14;\n",
"C=1/(2*pi*50*Xc)\n",
"disp('i) Ipc = '+string (Ipc)+' A');      \n",
"disp('ii) Xc = '+string (Xc)+' ohm');\n",
"disp('i) CAPACITANCE = '+string (C)+' F');"
   ]
   }
,
{
		   "cell_type": "markdown",
		   "metadata": {},
		   "source": [
			"## Example 3.37: current.sce"
		   ]
		  },
  {
"cell_type": "code",
	   "execution_count": null,
	   "metadata": {
	    "collapsed": true
	   },
	   "outputs": [],
"source": [
"                               //EXAMPLE 3-37      PG NO-196-197\n",
"Vry=450+%i*0;\n",
"Vyb=-225-%i*389.711;\n",
"Vbr=-225+%i*389.711;\n",
"Vrn=225-%i*130;\n",
"Vyn=-225-%i*130;\n",
"Vbn=0+%i*259.8;\n",
"Z1=10.60+%i*10.60;\n",
"Z2=5+%i*8.66;\n",
"Z3=2.6+%i*1.5;\n",
"Z4=12.21+%i*4.44;\n",
"Iry=Vry/Z1;\n",
"disp('i) CURRENT  (Iry) is  in rectangular form  =  '+string (Iry) +' A ');\n",
"Iyb=Vyb/Z2;\n",
"disp('i) CURRENT  (Iyb) is  in rectangular form  =  '+string (Iyb) +' A ');\n",
"Ibr=Vbr/Z3;\n",
"disp('i) CURRENT  (Ibr) is  in rectangular form  =  '+string (Ibr) +' A ');\n",
"I1=Iry-Ibr;\n",
"disp('i) CURRENT  (I1) is  in rectangular form  =  '+string (I1) +' A ');\n",
"I2=Iyb-Iry;\n",
"disp('i) CURRENT  (I2) is  in rectangular form  =  '+string (I2) +' A ');\n",
"I3=Ibr-Iyb;\n",
"disp('i) CURRENT  (I3) is  in rectangular form  =  '+string (I3) +' A ');\n",
"I4=Vrn/Z4;\n",
"disp('i) CURRENT  (I4) is  in rectangular form  =  '+string (I4) +' A ');\n",
"I5=Vyn/Z4;\n",
"disp('i) CURRENT  (I5) is  in rectangular form  =  '+string (I5) +' A ');\n",
"I6=Vbn/Z4;\n",
"disp('i) CURRENT  (I6) is  in rectangular form  =  '+string (I6) +' A ');\n",
"I7=Vbn/(3+%i*4);\n",
"disp('i) CURRENT  (I7) is  in rectangular form  =  '+string (I7) +' A ');\n",
"IR=I1+I4;\n",
"disp('i) CURRENT  (IR) is  in rectangular form  =  '+string (IR) +' A ');\n",
"IY=I1+I4;\n",
"disp('i) CURRENT  (IY) is  in rectangular form  =  '+string (IY) +' A ');\n",
"IB=I3+I6+I7;\n",
"disp('i) CURRENT  (IB) is  in rectangular form  =  '+string (IB) +' A ');\n",
"IN=-(I7);\n",
"disp('i) CURRENT  (IN) is  in rectangular form  =  '+string (IN) +' A ');"
   ]
   }
,
{
		   "cell_type": "markdown",
		   "metadata": {},
		   "source": [
			"## Example 3.39: Voltage.sce"
		   ]
		  },
  {
"cell_type": "code",
	   "execution_count": null,
	   "metadata": {
	    "collapsed": true
	   },
	   "outputs": [],
"source": [
"VAB=400+%i*0;\n",
"VBC=-200-%i*346.41;\n",
"VCA=400+%i*0;\n",
"Z1=300-%i*398;\n",
"IAB=VAB/Z1;\n",
"disp('i) CURRENT  (IAB) is  in rectangular form  =  '+string (IAB) +' A ');\n",
"VAD=IAB*300;\n",
"disp('ii) VOLTAGE  (VAD) is  in rectangular form  =  '+string (VAD) +' V ');\n",
"VDA=-VAD;\n",
"disp('iii) VOLTAGE  (VDA) is  in rectangular form  =  '+string (VDA) +' V ');\n",
"VDC=VDA-VCA;\n",
"disp('iv) VOLTAGE  (VDC) is  in rectangular form  =  '+string (VDC) +' VA ');\n",
"VAC=400+%i*0;\n",
"VCB=-200-%i*346.41;\n",
"VBA=-200+%i*346.410;\n",
"IAB1=-(VAC)/Z1;\n",
"disp('v) CURRENT  (IAB1) is  in rectangular form  =  '+string (IAB1) +' A ');\n",
"VAD1=IAB1*300;\n",
"disp('vi) VOLTAGE  (VAD1) is  in rectangular form  =  '+string (VAD1) +' V ');\n",
"VDA=-VAD;\n",
"disp('vii) VOLTAGE  (VAAD) is  in rectangular form  =  '+string (VDA) +' V ');\n",
"VDC=VDA+VAC;\n",
"disp('viii) VOLTAGE  (VDC) is  in rectangular form  =  '+string (VDC) +' V ');"
   ]
   }
,
{
		   "cell_type": "markdown",
		   "metadata": {},
		   "source": [
			"## Example 3.3: Line_Current_Active_and_Reactive_Power.sce"
		   ]
		  },
  {
"cell_type": "code",
	   "execution_count": null,
	   "metadata": {
	    "collapsed": true
	   },
	   "outputs": [],
"source": [
"     //EXAMPLE 3.3  PG NO 174\n",
"Zy=3+%i*5.196;\n",
"Zeq=2.55+%i*2.916;\n",
"Vp=230.94;\n",
"IL=59.61;\n",
"Ip=59.61;\n",
"VL=400;\n",
"cos(48.83)=0.658;\n",
"sin(48.83)=0.7527;\n",
"S=sqrt(3)*VL*IL;\n",
"P=sqrt(3)*VL*IL*0.658;\n",
"Q=sqrt(3)*VL*IL*0.7527;\n",
"disp('i) S   =  '+string (S)+'VA ')\n",
"disp('i) Active power   =  '+string (P)+'W ')\n",
"disp('i) Reactive power   =  '+string (Q)+'Vars ')"
   ]
   }
,
{
		   "cell_type": "markdown",
		   "metadata": {},
		   "source": [
			"## Example 3.40: W1_and_W2.sce"
		   ]
		  },
  {
"cell_type": "code",
	   "execution_count": null,
	   "metadata": {
	    "collapsed": true
	   },
	   "outputs": [],
"source": [
"     //EXAMPLE-3.40    PG NO-199\n",
"Vry=200;\n",
"Vbr=200;\n",
"Vbn=115.47;\n",
"I1=10;   //10-j12\n",
"W1=200*I1;\n",
"X1=173.2;\n",
"X2=26.66;\n",
"W2=X1*X2;\n",
"disp('i)WATTMETERS (W2)   =  '+string (W2)+' W')\n",
""
   ]
   }
,
{
		   "cell_type": "markdown",
		   "metadata": {},
		   "source": [
			"## Example 3.41: Current.sce"
		   ]
		  },
  {
"cell_type": "code",
	   "execution_count": null,
	   "metadata": {
	    "collapsed": true
	   },
	   "outputs": [],
"source": [
"       //   CHAPTER -3 EXAMPLE NO 3.41   PG NO-200 \n",
"Vp=230.94;\n",
"Xa=100+%i*155;\n",
"Ia=Vp/Xa;\n",
"COSQ=0.542;\n",
"P=COSQ;\n",
"disp('i) (Ia)   =  '+string (Ia)+' A')"
   ]
   }
,
{
		   "cell_type": "markdown",
		   "metadata": {},
		   "source": [
			"## Example 3.42: Za_Zb_Zc.sce"
		   ]
		  },
  {
"cell_type": "code",
	   "execution_count": null,
	   "metadata": {
	    "collapsed": true
	   },
	   "outputs": [],
"source": [
"Van=254+%i*0;\n",
"Vbn=-127.02-%i*220;\n",
"Vcn=-127.02+%i*220;\n",
"Ib=0-%i*10;\n",
"Ic=0+%i*20;\n",
"Ia=-(Ib+Ic);\n",
"disp('i) CURRENT  (Ia) is  in rectangular form  =  '+string (Ia) +' A ');\n",
"Von=-173.20+%i*100;\n",
"Vao=Van-Von;\n",
"disp('i) VOLTAGE  (Vao) is  in rectangular form  =  '+string (Vao) +' V ');\n",
"Vbo=Vbn-Von;\n",
"disp('i) VOLTAGE  (Vbo) is  in rectangular form  =  '+string (Vbo) +' V ');\n",
"Vco=Vcn-Von;\n",
"disp('i) VOLTAGE  (Vco) is  in rectangular form  =  '+string (Vco) +' V ');\n",
"Za=Vao/Ia;\n",
"disp('i) IMPEDANCE  (Za) is  in rectangular form  =  '+string (Za) +' ohm ');\n",
"Zb=Vbo/Ib;\n",
"disp('i) IMPEDANCE  (Zb) is  in rectangular form  =  '+string (Zb) +' ohm ');\n",
"Zc=Vco/Ic;\n",
"disp('i) IMPEDANCE  (Zc) is  in rectangular form  =  '+string (Zc) +' ohm ');"
   ]
   }
,
{
		   "cell_type": "markdown",
		   "metadata": {},
		   "source": [
			"## Example 3.43: Total_Apparent_active_Reactive_Power_line_Current_Power_factor.sce"
		   ]
		  },
  {
"cell_type": "code",
	   "execution_count": null,
	   "metadata": {
	    "collapsed": true
	   },
	   "outputs": [],
"source": [
"   //example-3.43   pg no-200-201\n",
"Ip=11<36.87;\n",
"PL=5808;\n",
"QL=4356;\n",
"Pm=6000;\n",
"Qm=8000;\n",
"P=PL+Pm;\n",
"Q=Qm-QL;\n",
"S=((P*P)+(Q*Q))^0.5;\n",
"X=P/S;    //POWER FACTOR\n",
"disp('i)ACTIVE POWER (P)   =  '+string (P)+' W')\n",
"disp('i)REACTIVE POWER (Q)   =  '+string (Q)+' vars(inductive)')\n",
"disp('i)APPARENT POWER (S)   =  '+string (S)+' A')\n",
"disp('i)power factor (X)   =  '+string (X)+' lagging')"
   ]
   }
,
{
		   "cell_type": "markdown",
		   "metadata": {},
		   "source": [
			"## Example 3.44: Power_and_Power_Factor.sce"
		   ]
		  },
  {
"cell_type": "code",
	   "execution_count": null,
	   "metadata": {
	    "collapsed": true
	   },
	   "outputs": [],
"source": [
" //EXAMPLE 3.44 PG NO-201\n",
"W1=800;\n",
"W2=-400;\n",
"P=W1+W2;           \n",
"x=(1.723*(W2-W1))/(W1+W2)   //tanQ=x\n",
"Q=-79.10;\n",
"y=0.189;\n",
"P=y    //POWER  FACTOR\n",
"disp('i)tanQ (x)   =  '+string (x)+' ')\n",
"disp('i) POWER factor (P)   =  '+string (P)+' ')"
   ]
   }
,
{
		   "cell_type": "markdown",
		   "metadata": {},
		   "source": [
			"## Example 3.45: Line_Current.sce"
		   ]
		  },
  {
"cell_type": "code",
	   "execution_count": null,
	   "metadata": {
	    "collapsed": true
	   },
	   "outputs": [],
"source": [
"                     //EXAMPLE 3-45   PG NO-201-202\n",
"Vab=0+%i*212;\n",
"Vbc=-183.6-%i*106;\n",
"Vca=183.6-%i*106;\n",
"Za=10+%i*0;\n",
"Zb=10+%i*10;\n",
"Zc=0-%i*20;\n",
"Zab=[(Za*Zb)+(Zb*Zc)+(Za*Zc)]/Zc;\n",
"disp('i) IMPEDANCE  (Zab) is  in rectangular form  =  '+string (Zab) +' ohm ');\n",
"Zbc=[(Za*Zb)+(Zb*Zc)+(Za*Zc)]/Za;\n",
"disp('i) IMPEDANCE  (Zbc) is  in rectangular form  =  '+string (Zbc) +' ohm ');\n",
"Zca=[(Za*Zb)+(Zb*Zc)+(Za*Zc)]/Zb;\n",
"disp('i) IMPEDANCE  (Zca) is  in rectangular form  =  '+string (Zca) +' ohm ');\n",
"Iab=Vab/Zab;\n",
"disp('i) CURRENT  (Iab) is  in rectangular form  =  '+string (Iab) +' A ');\n",
"Ibc=Vbc/Zbc;\n",
"disp('i) CURRENT  (Ibc) is  in rectangular form  =  '+string (Ibc) +' A ');\n",
"Ica=Vca/Zca;\n",
"disp('i) CURRENT  (Ica) is  in rectangular form  =  '+string (Ica) +' A ');\n",
"Ia=Iab-Ica;\n",
"disp('i) CURRENT  (Ia) is  in rectangular form  =  '+string (Ia) +' A ');\n",
"Ib=Ibc-Iab;\n",
"disp('i) CURRENT  (Ib) is  in rectangular form  =  '+string (Ib) +' A ');\n",
"Ic=Ica-Ibc;\n",
"disp('i) CURRENT  (Ic) is  in rectangular form  =  '+string (Ic) +' A ');"
   ]
   }
,
{
		   "cell_type": "markdown",
		   "metadata": {},
		   "source": [
			"## Example 3.47: total_votamperes_Active_and_Reactive_Power.sce"
		   ]
		  },
  {
"cell_type": "code",
	   "execution_count": null,
	   "metadata": {
	    "collapsed": true
	   },
	   "outputs": [],
"source": [
"                        //EXAMPLE 3-47   PG NO-202-203\n",
"Vab=212;\n",
"Vbc=212;\n",
"Vca=212;\n",
"Iab=10;\n",
"Ibc=5;\n",
"Ica=7.07;\n",
"P=[(Vab*Iab*0.707)+(Vbc*Ibc*0.707)+(212*7.07*0)];\n",
"disp('i) ACTIVE POWER  (P) is   =  '+string (P) +' W ');\n",
"Q=[(Vab*Iab*0.707)+(Vbc*Ibc*-0.707)+(212*7.07*-1)]\n",
"disp('ii)REACTIVE POWER  (Q) is   =  '+string (Q) +' vars ');\n",
"S=[P^2+(Q^2)]^0.5;\n",
"disp('i)  APPARENT POWER  (S) is   =  '+string (S) +' VA ');"
   ]
   }
,
{
		   "cell_type": "markdown",
		   "metadata": {},
		   "source": [
			"## Example 3.48: voltage.sce"
		   ]
		  },
  {
"cell_type": "code",
	   "execution_count": null,
	   "metadata": {
	    "collapsed": true
	   },
	   "outputs": [],
"source": [
"                   //EXAMPLE 3-48   PG NO-202-203\n",
"Vao=186.7-%i*87.06;\n",
"Vco=-38.5+%i*292.48;\n",
"Vbo=-(Vao+Vco);\n",
"disp('i) VOLTAGE  (Vbo) is  in rectangular form  =  '+string (Vbo) +' V ');\n",
"Vab=Vao-Vbo;\n",
"disp('i) VOLTAGE  (Vab) is  in rectangular form  =  '+string (Vab) +' V ');\n",
"Van=201-%i*37.51;\n",
"Von=Van-Vao;\n",
"disp('i) VOLTAGE  (Von) is  in rectangular form  =  '+string (Von) +' V ');"
   ]
   }
,
{
		   "cell_type": "markdown",
		   "metadata": {},
		   "source": [
			"## Example 3.49: Phase_Current_Line_Current_Total_active_and_reactive_Power_W1_w2.sce"
		   ]
		  },
  {
"cell_type": "code",
	   "execution_count": null,
	   "metadata": {
	    "collapsed": true
	   },
	   "outputs": [],
"source": [
"                       //EXAMPLE 3-49 PG NO-203-204\n",
"Vab=400+%i*0;\n",
"Vbc=-200-%i*346.41;\n",
"Vca=-200+%i*346.410;\n",
"Z1=%i*10;\n",
"Z2=-%i*20;\n",
"Z3=10;\n",
"Iab=Vab/Z1;\n",
"disp('i) CURRENT  (Iab) is  in rectangular form  =  '+string (Iab) +' A ');\n",
"Ibc=Vbc/Z2;\n",
"disp('ii) CURRENT  (Ibc) is  in rectangular form  =  '+string (Ibc) +' A ');\n",
"Ica=Vca/Z3;\n",
"disp('iii) CURRENT  (Ica) is  in rectangular form  =  '+string (Ica) +' A ');\n",
"Ia=Iab-Ica;\n",
"disp('iv) CURRENT  (Ia) is  in rectangular form  =  '+string (Ia) +' A ');\n",
"Ib=Ibc-Iab;\n",
"disp('v) CURRENT  (Ib) is  in rectangular form  =  '+string (Ib) +' A ');\n",
"Ic=Ica-Ibc;\n",
"disp('vi) CURRENT  (Ic) is  in rectangular form  =  '+string (Ic) +' A ');\n",
"P=Ica*Z3;\n",
"disp('vii)ACTIVE POWER  (P) is  in rectangular form  =  '+string (P) +' W ');\n",
"Q=(Iab^2*Z3)-(Ibc^2*20);\n",
"disp('viii) REACTIVE POWER  (Q) is  in rectangular form  =  '+string (Q) +' vars ');\n",
"S=[P^2+Q^2]^0.5;\n",
"disp('i)APPARENT POWER  (S) is  in rectangular form  =  '+string (S) +' VA ');"
   ]
   }
,
{
		   "cell_type": "markdown",
		   "metadata": {},
		   "source": [
			"## Example 3.4: Current.sce"
		   ]
		  },
  {
"cell_type": "code",
	   "execution_count": null,
	   "metadata": {
	    "collapsed": true
	   },
	   "outputs": [],
"source": [
"    //EXAMPLE 3-4   PG NO-174\n",
"V=220;\n",
"Im=15.75+%i*21;\n",
"Z=5.33-%i*4;\n",
"LI=V/(sqrt(3)*Z);\n",
"TLI=LI+Im;\n",
"cos(-17.16)=0.955;\n",
"PF=sqrt(3)*0.955*V*32.42;\n",
"disp('i) Line current   =  '+string (LI)+'A ');\n",
"disp('i) TOTAL line current   =  '+string (TLI)+'A ');\n",
"disp('i) Power Factor   =  '+string (PF)+'W ');"
   ]
   }
,
{
		   "cell_type": "markdown",
		   "metadata": {},
		   "source": [
			"## Example 3.50: Line_current.sce"
		   ]
		  },
  {
"cell_type": "code",
	   "execution_count": null,
	   "metadata": {
	    "collapsed": true
	   },
	   "outputs": [],
"source": [
"                      //EXAMPLE 3-50      PG NO-204\n",
"I1=13.12-%i*9.15;\n",
"I2=-6.80-%i*19.55;\n",
"IaA=I1;\n",
"disp('i) CURRENT  (IaA) is  in rectangular form  =  '+string (IaA) +' A ');\n",
"IbB=I2-I1;\n",
"disp('i) CURRENT  (IbB) is  in rectangular form  =  '+string (IbB) +' A ');\n",
"IcC=-I2;\n",
"disp('i) CURRENT  (IcC) is  in rectangular form  =  '+string (IcC) +' A ');"
   ]
   }
,
{
		   "cell_type": "markdown",
		   "metadata": {},
		   "source": [
			"## Example 3.51: Resistance_reactance_Power_Factor.sce"
		   ]
		  },
  {
"cell_type": "code",
	   "execution_count": null,
	   "metadata": {
	    "collapsed": true
	   },
	   "outputs": [],
"source": [
"                          //EXAMPLE 3-51     PG NO -205\n",
"R1=1.5;\n",
"X=2.396;\n",
"X1=sqrt(X^2-R1^2);\n",
"disp('i) X1   is   =  '+string (X1) +'ohm ');\n",
"IL=100;\n",
"Ip=IL/1.732;\n",
"disp('ii) Peak Current  =  '+string (Ip) +' A ');\n",
"R2=4.5;\n",
"Z=7.1878;\n",
"X2=sqrt(Z^2-R2^2)\n",
"disp('iii) X2   is   =  '+string (X2) +'ohm ');\n",
"PF=R2/(Z);\n",
"disp('vi) Power Factor   is   =  '+string (PF) +' ');"
   ]
   }
,
{
		   "cell_type": "markdown",
		   "metadata": {},
		   "source": [
			"## Example 3.52: Line_Current_Power_factor_Active_and_Reactive_Power.sce"
		   ]
		  },
  {
"cell_type": "code",
	   "execution_count": null,
	   "metadata": {
	    "collapsed": true
	   },
	   "outputs": [],
"source": [
"                      //EXAMPLE 3-52   PG NO-205-206\n",
"Vp=230.94;\n",
"R=20+%i*30;\n",
"V=400;\n",
"IL=Vp/R;\n",
"disp('i) CURRENT  (IL) is  in rectangular form  =  '+string (IL) +' A ');\n",
"PF=0.555;\n",
"P=sqrt(3)*V*IL*PF;\n",
"disp('ii)ACTIVE POWER  (P) is  in rectangular form  =  '+string (P) +' W ');\n",
"Q=sqrt(3)*V*IL*56.289;\n",
"disp('iii) REACTIVE POWER  (Q) is  in rectangular form  =  '+string (Q) +' vars ');\n",
"S=sqrt(3)*V*IL;\n",
"disp('iv)APPARENT POWER  (S) is  in rectangular form  =  '+string (S) +' VA ');\n",
"Ip=3.698;\n",
"Z=V/Ip;\n",
"disp('i) IMPEDANCE  (Z) is  in rectangular form  =  '+string (Z) +' ohm ');\n",
"R1=Z*0.555;\n",
"disp('i) RESISTANCE  (R1) is  in rectangular form  =  '+string (R1) +' ohm ');\n",
"Xc=Z*0.83;\n",
"disp('i) INDUCTANCE  (Xc) is  in rectangular form  =  '+string (Xc) +' ohm ');\n",
"C=Xc/(2*%pi*50);\n",
"disp('i) CAPACITOR  (C) is  in rectangular form  =  '+string (C) +' F ');"
   ]
   }
,
{
		   "cell_type": "markdown",
		   "metadata": {},
		   "source": [
			"## Example 3.53: Current_Active_and_Reactive_Power.sce"
		   ]
		  },
  {
"cell_type": "code",
	   "execution_count": null,
	   "metadata": {
	    "collapsed": true
	   },
	   "outputs": [],
"source": [
"                  //EXAMPLE 3-53      PG NO-206-207\n",
"HP=2000;\n",
"Vp=2200;\n",
"E=0.93;\n",
"MI=(HP*735.5)/E;\n",
"disp('i) MOTOR INPUT  (MI) is  in rectangular form  =  '+string (MI) +' W ');\n",
"Ip=MI/[3*Vp*0.85];\n",
"disp('i) CURRENT  (Ip) is  in rectangular form  =  '+string (Ip) +' A ');\n",
"AC=Ip*0.85;\n",
"disp('i) ACTIVE CURRENT  (AC) is  in rectangular form  =  '+string (AC) +' A ');\n",
"RC=(Ip^2-AC^2)^0.5;\n",
"disp('i) REACTIVE CURRENT  (RC) is  in rectangular form  =  '+string (RC) +' A ');\n",
"LC=sqrt(3)*Ip;\n",
"disp('i) LINE CURRENT  (LC) is  in rectangular form  =  '+string (LC) +' A ');\n",
"ALC=LC*0.85;\n",
"disp('i)ACTIVE LINE CURRENT  (ALC) is  in rectangular form  =  '+string (ALC) +' A ');\n",
"RLC=(LC^2-ALC^2)^0.5;\n",
"disp('i) REACTIVE LINE CURRENT  (RLC) is  in rectangular form  =  '+string (RLC) +' A ');"
   ]
   }
,
{
		   "cell_type": "markdown",
		   "metadata": {},
		   "source": [
			"## Example 3.54: Voltage_load_impedance.sce"
		   ]
		  },
  {
"cell_type": "code",
	   "execution_count": null,
	   "metadata": {
	    "collapsed": true
	   },
	   "outputs": [],
"source": [
"                            //EXAMPLE 3-54  PG NO-207-208\n",
"Van=161.66+%i*0;\n",
"Vbn=-80.83-%i*140;\n",
"Vcn=-80.83+%i*140;\n",
"Z1=10+%i*0;\n",
"Z2=8.66+%i*5;\n",
"Z3=8.66-%i*5;\n",
"YA=1/Z1;\n",
"disp('i) ADMITTANCE  (YA) is  in rectangular form  =  '+string (YA) +' siemens ');\n",
"YB=1/Z2;\n",
"disp('ii) ADMITTANCE  (YB) is  in rectangular form  =  '+string (YB) +' siemens ');\n",
"YC=1/Z3;\n",
"disp('iii) ADMITTANCE  (YC) is  in rectangular form  =  '+string (YC) +' siemens ');\n",
"Von=-[(Van*YA)+(Vbn*YB)+(Vcn*YC)]/[YA+YB+YC];\n",
"disp('iv) VOLTAGE  (Von) is  in rectangular form  =  '+string (Von) +' V ');\n",
"Vao=Van-Von;\n",
"disp('v) VOLTAGE  (Vao) is  in rectangular form  =  '+string (Vao) +' V ');\n",
"Vbo=Vbn-Von;\n",
"disp('vi) VOLTAGE  (Vbo) is  in  rectangular form  =  '+string (Vbo) +' V ');\n",
"Vco=Vcn-Von;\n",
"disp('vii) VOLTAGE  (Vco) is  in rectangular form  =  '+string (Vco) +' V ');"
   ]
   }
,
{
		   "cell_type": "markdown",
		   "metadata": {},
		   "source": [
			"## Example 3.55: Phase_and_Line_Current.sce"
		   ]
		  },
  {
"cell_type": "code",
	   "execution_count": null,
	   "metadata": {
	    "collapsed": true
	   },
	   "outputs": [],
"source": [
"                             //EXAMPLE 3-55         PG NO-208-209  \n",
"Vab=400+%i*0;\n",
"Vbc=-220-%i*381.05;\n",
"Vca=-220+%i*381.05;\n",
"Z1=0+%i*25;\n",
"Z2=13+%i*7.5;\n",
"Z3=20+%i*0;\n",
"IAB=Vab/Z1;\n",
"disp('i) CURRENT  (IAB) is  in rectangular  form  =  '+string (IAB) +' A ');\n",
"IBC=Vbc/Z2;\n",
"disp('i) CURRENT  (IBC) is  in  rectangular form  =  '+string (IBC) +' A ');\n",
"ICA=Vca/Z3;\n",
"disp('i) CURRENT  (ICA) is  in rectangular form  =  '+string (ICA) +' A ');\n",
"IA=IAB-ICA;\n",
"disp('i) CURRENT  (IA) is  in rectangular form  =  '+string (IA) +' A ');\n",
"IB=IBC-IAB;\n",
"disp('i) CURRENT  (IB) is  in rectangular form  =  '+string (IB) +' A ');\n",
"IC=ICA-IBC;\n",
"disp('i) CURRENT  (IC) is  in rectangular form  =  '+string (IC) +' A ');"
   ]
   }
,
{
		   "cell_type": "markdown",
		   "metadata": {},
		   "source": [
			"## Example 3.59: current.sce"
		   ]
		  },
  {
"cell_type": "code",
	   "execution_count": null,
	   "metadata": {
	    "collapsed": true
	   },
	   "outputs": [],
"source": [
"       //EXAMPLE 3-59 PG NO 267\n",
"V2=240-%i*14.35;\n",
"V1=240+%i*0;\n",
"VL=233.73-%i*8.938;\n",
"R1=0.6+%i*0.8;\n",
"R2=0.5+%i*0.866;\n",
"I1=(V1-VL)/R1;\n",
"I2=(V2-VL)/R2;\n",
"R3=16+%i*12;\n",
"I3=(VL/R3);\n",
"disp('i) current(I1) is in polar form  =  '+string (I1)+'A ');\n",
"disp('i) current(I2) is in polar form  =  '+string (I2)+'A ');\n",
"disp('i) current(I3) is in polar form  =  '+string (I3)+'A ');"
   ]
   }
,
{
		   "cell_type": "markdown",
		   "metadata": {},
		   "source": [
			"## Example 3.5: line_current_active_and_reactive_power.sce"
		   ]
		  },
  {
"cell_type": "code",
	   "execution_count": null,
	   "metadata": {
	    "collapsed": true
	   },
	   "outputs": [],
"source": [
"   //EXAMPLE 3-5 PG NO-175\n",
"Pm=6000;\n",
"Qm=8000;\n",
"Z=16-%i*12;\n",
"V=220;\n",
"PC=V/Z;\n",
"PL=3*V*11*0.799;\n",
"QL=3*V*11*(-0.6);\n",
"P=Pm+PL;\n",
"Q=Qm+QL;\n",
"PF=cos(1/tan(Q/P));\n",
"IL=P/(sqrt(3)*V*0.9555);\n",
"disp('i) Phase current   =  '+string (PC)+'A ');\n",
"disp('i) PL   =  '+string (PL)+'W ');\n",
"disp('i) QL   =  '+string (QL)+'Vars ');\n",
"disp('i) Active power   =  '+string (P)+'W ');\n",
"disp('i) Reactive Power   =  '+string (Q)+'Vars ');\n",
"disp('i) Power factor   =  '+string (PF)+'lagging ');\n",
"disp('i)  line current (IL)  =  '+string (IL)+'A ');\n",
"   "
   ]
   }
,
{
		   "cell_type": "markdown",
		   "metadata": {},
		   "source": [
			"## Example 3.6: Phase_Current_Line_Current_Total_Active_and_Reactive_Power.sce"
		   ]
		  },
  {
"cell_type": "code",
	   "execution_count": null,
	   "metadata": {
	    "collapsed": true
	   },
	   "outputs": [],
"source": [
"                   //EXAMPLE 3-6     PG NO-175\n",
"Vac=100+%i*0;\n",
"Vcb=-50-%i*86.6;\n",
"Vba=-50+%i*86.6;\n",
"Zac=6+%i*8;\n",
"Rcb=20+%i*0;\n",
"Zba=4-%i*3;\n",
"Zcb=20+%i*0;\n",
"Iac=Vac/Zac;\n",
"disp('i) CURRENT  (Iac) is  in rectangular form  =  '+string (Iac) +' A ');\n",
"Icb=Vcb/Zcb;\n",
"disp('i) CURRENT  (Icb) is  in  rectangular form  =  '+string (Icb) +' A ');\n",
"Iba=Vba/Zba;\n",
"disp('i) CURRENT  (IbA) is  in rectangular form  =  '+string (Iba) +' A ');\n",
"Ia=Iac-Iba;\n",
"disp('i) CURRENT  (Ia) is  in rectangular form  =  '+string (Ia) +' A ');\n",
"Ic=Icb-Iac;\n",
"disp('i) CURRENT  (Ic) is  in rectangular form  =  '+string (Ic) +' A ');\n",
"Ib=Iba-Icb;\n",
"disp('i) CURRENT  (Ib) is  in  rectangular form  =  '+string (Ib) +' A ');\n",
"Pac=Vac*Iac*0.6;\n",
"disp('iv)  Power (Pac) is  in  rectangular form   =  '+string (Pac) +'  W ');\n",
"Pcb=Vcb*Icb;\n",
"disp('iv)  Power (Pcb) is in   rectangular form    =  '+string (Pcb) +'  W ');\n",
"Pba=Vba*Iba*0.8;\n",
"disp('iv)  Power (Pba) is  in rectangular form  =  '+string (Pba) +'  W ');\n",
"Qac=100*20*0.8;\n",
"disp('iv) Reactive Power (Qac) is in rectangular form   =  '+string (Qac) +'  vars ');\n",
"Qba=100*20*-0.6\n",
"disp('iv) Reactive Power (Qba) is   in rectangular form =  '+string (Qba) +'  vars ');\n",
"P=600+500+1600;\n",
"disp('iv)  Power (P) is    =  '+string (P) +'  W ');\n",
"Q=800-1200;\n",
"disp('iv)  Power (Q) is    =  '+string (Q) +'  vars ');\n",
""
   ]
   }
,
{
		   "cell_type": "markdown",
		   "metadata": {},
		   "source": [
			"## Example 3.7: line_currents.sce"
		   ]
		  },
  {
"cell_type": "code",
	   "execution_count": null,
	   "metadata": {
	    "collapsed": true
	   },
	   "outputs": [],
"source": [
"                      //EXAMPLE 3-7  PG NO-176-177\n",
"Vab=400+%i*0;\n",
"Vbc=-200-%i*346.410;\n",
"R=100;\n",
"Ica=0;\n",
"Iab=Vab/R;\n",
"disp('i) CURRENT  (Iab) is  in rectangular form  =  '+string (Iab) +' A ');\n",
"Ibc=Vbc/R;\n",
"disp('i) CURRENT  (Ibc) is  in rectangular form  =  '+string (Ibc) +' A ');\n",
"Ia=Iab-Ica;\n",
"disp('i) CURRENT  (Ia) is  in rectangular form  =  '+string (Ia) +' A ');\n",
"Ib=Ibc-Iab;\n",
"disp('i) CURRENT  (Ib) is  in rectangular form  =  '+string (Ib) +' A ');\n",
"Ic=Ica-Ibc;\n",
"disp('i) CURRENT  (Ic) is  in rectangular form  =  '+string (Ic) +' A ');"
   ]
   }
,
{
		   "cell_type": "markdown",
		   "metadata": {},
		   "source": [
			"## Example 3.8: Line_Current_Neutral_Current_Total_power.sce"
		   ]
		  },
  {
"cell_type": "code",
	   "execution_count": null,
	   "metadata": {
	    "collapsed": true
	   },
	   "outputs": [],
"source": [
"                       //EXAMPLE 3-8   PG NO-177\n",
"Za=10-%i*8;\n",
"Zb=12+%i*0;\n",
"Zc=8+%i*10;\n",
"Van=230.94+%i*0;\n",
"Vbn=-115.47-%i*200;\n",
"Vcn=-115.47+%i*200;\n",
"Ia=Van/Za;\n",
"disp('i) CURRENT  (Ia) is  in rectangular form  =  '+string (Ia) +' A ');\n",
"Ib=Vbn/Zb;\n",
"disp('ii) CURRENT  (Ib) is  in rectangular form  =  '+string (Ib) +' A ');\n",
"Ic=Vcn/Zc;\n",
"disp('iii) CURRENT  (Ic) is  in rectangular form  =  '+string (Ic) +' A ');\n",
"In=Ia+Ib+Ic;\n",
"disp('iv) CURRENT  (In) is  in rectangular form  =  '+string (In) +' A ');\n",
"\n",
"P=(230.94*18.028*0.78)+(230.94*19.245)+(230.94*18.028*0.62)\n",
"\n",
"disp('v) POWER  (P) is  in rectangular form  =  '+string (P) +' W ');"
   ]
   }
,
{
		   "cell_type": "markdown",
		   "metadata": {},
		   "source": [
			"## Example 3.9: Line_Current_Neutral_Current.sce"
		   ]
		  },
  {
"cell_type": "code",
	   "execution_count": null,
	   "metadata": {
	    "collapsed": true
	   },
	   "outputs": [],
"source": [
"                                   //EXAMPLE 3-9     PG NO-178-179\n",
"Z1=10+%i*0;\n",
"Z2=13+%i*7.5;\n",
"Z3=-13+%i&7.5;\n",
"Z4=8.66-%i*5;\n",
"X=[Z1+Z2 Z3;Z3 Z2+Z4];\n",
"Z5=-104+%i*180.13;\n",
"Z6=280+%i*0;\n",
"Y=[Z5 Z3;Z6 Z2+Z4];\n",
"I1=det(Y/X);\n",
"disp('i)   Current (I1) is    =  '+string (I1) +' A  ');"
   ]
   }
,
{
		   "cell_type": "markdown",
		   "metadata": {},
		   "source": [
			"## Example 4.14: Current_voltage.sce"
		   ]
		  },
  {
"cell_type": "code",
	   "execution_count": null,
	   "metadata": {
	    "collapsed": true
	   },
	   "outputs": [],
"source": [
"                     //EXAMPLE 3-14   PG NO 182-183\n",
"X=[400+%i*0 -6+%i*0,-200-%i*346.410  6-%i*0];\n",
"Y=[12+%i*0 -6+%i*0,-6+%i*0 6-%i*8];\n",
"I1=52.31-%i*7.120;\n",
"I2=37.957-%i*14.23;\n",
"Ia=I1;\n",
"disp('i) CURRENT  (Ia) is  in rectangular form  =  '+string (Ia) +' A ');\n",
"Ib=I2-I1;\n",
"disp('i) CURRENT  (Ib) is  in  rectangular form  =  '+string (Ib) +' A ');\n",
"IC=-I2;\n",
"disp('i) CURRENT  (Ic) is  in rectangular form  =  '+string (IC) +' A ');\n",
"Z1=6+%i*0;\n",
"Vao=Ia*Z1;\n",
"disp('i) VOLTAGE  (Vao) is  in rectangular form  =  '+string (Vao) +' V ');\n",
"Vbo=Ib*Z1;\n",
"disp('i) VOLTAGE  (Vbo) is  in rectangular form  =  '+string (Vbo) +' V ');\n",
"Vco=IC*(-%i*8);\n",
"disp('i) VOLTAGE  (Vco) is  in rectangular form  =  '+string (Vco) +' V ');"
   ]
   }
],
"metadata": {
		  "kernelspec": {
		   "display_name": "Scilab",
		   "language": "scilab",
		   "name": "scilab"
		  },
		  "language_info": {
		   "file_extension": ".sce",
		   "help_links": [
			{
			 "text": "MetaKernel Magics",
			 "url": "https://github.com/calysto/metakernel/blob/master/metakernel/magics/README.md"
			}
		   ],
		   "mimetype": "text/x-octave",
		   "name": "scilab",
		   "version": "0.7.1"
		  }
		 },
		 "nbformat": 4,
		 "nbformat_minor": 0
}
