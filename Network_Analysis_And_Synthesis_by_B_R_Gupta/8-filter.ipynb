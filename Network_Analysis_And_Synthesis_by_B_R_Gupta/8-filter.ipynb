{
"cells": [
 {
		   "cell_type": "markdown",
	   "metadata": {},
	   "source": [
       "# Chapter 8: filter"
	   ]
	},
{
		   "cell_type": "markdown",
		   "metadata": {},
		   "source": [
			"## Example 8.10: L_and_C.sce"
		   ]
		  },
  {
"cell_type": "code",
	   "execution_count": null,
	   "metadata": {
	    "collapsed": true
	   },
	   "outputs": [],
"source": [
"    //EXAMPLE  8-10               PG NO- 529\n",
"Ro=100;\n",
"Fc=1000;\n",
"L=Ro/Fc*%pi;\n",
"disp('i) INDUCTANCE (L) is    =  '+string ([L]) +'  H ')\n",
"C=1/(%pi*Ro*Fc)\n",
"disp('ii) CAPACITOR (C) is    =  '+string (C) +'  F ')"
   ]
   }
,
{
		   "cell_type": "markdown",
		   "metadata": {},
		   "source": [
			"## Example 8.11: L_and_C.sce"
		   ]
		  },
  {
"cell_type": "code",
	   "execution_count": null,
	   "metadata": {
	    "collapsed": true
	   },
	   "outputs": [],
"source": [
"            //EXAMPLE  8-11     PG NO-529-530\n",
"Ro=500;\n",
"Fc=1000;\n",
"L=Ro/(%pi*Fc);\n",
"disp('ii) INDUCTANCE (L) is    =  '+string (L) +'  H ')\n",
"C=1/(%pi*Ro*Fc);\n",
"disp('ii) CAPACITOR (C) is    =  '+string (C) +'  F ')"
   ]
   }
,
{
		   "cell_type": "markdown",
		   "metadata": {},
		   "source": [
			"## Example 8.12: L.sce"
		   ]
		  },
  {
"cell_type": "code",
	   "execution_count": null,
	   "metadata": {
	    "collapsed": true
	   },
	   "outputs": [],
"source": [
"            //EXAMPLE 8-12   PG NO-530\n",
"Fc=1000;\n",
"C=0.05*10^-6;\n",
"L=1/(%pi*%pi*Fc*Fc*C)\n",
"disp('i) INDUCTANCE (L) is    =  '+string ([L]) +'  H ')"
   ]
   }
,
{
		   "cell_type": "markdown",
		   "metadata": {},
		   "source": [
			"## Example 8.13: C.sce"
		   ]
		  },
  {
"cell_type": "code",
	   "execution_count": null,
	   "metadata": {
	    "collapsed": true
	   },
	   "outputs": [],
"source": [
"              //EXAMPLE 8-13      PG NO-530\n",
"Fc=2000;\n",
"L=0.05;\n",
"C=1/(16*%pi*%pi*Fc*Fc*L)\n",
"disp('i) CAPACITOR (C) is    =  '+string (C) +'  F ')"
   ]
   }
,
{
		   "cell_type": "markdown",
		   "metadata": {},
		   "source": [
			"## Example 8.14: L_and_C.sce"
		   ]
		  },
  {
"cell_type": "code",
	   "execution_count": null,
	   "metadata": {
	    "collapsed": true
	   },
	   "outputs": [],
"source": [
"         //EXAMPLE 8-14   PG NO-530\n",
"Ro=600;\n",
"Fc=20000;\n",
"L=Ro/(4*%pi*Fc);\n",
"C=1/(4*%pi*Ro*Fc);\n",
"disp('i) INDUCTANCE (L) is    =  '+string (L) +'  H ')\n",
"disp('ii) CAPACITOR (C) is    =  '+string (C) +'  F ')"
   ]
   }
,
{
		   "cell_type": "markdown",
		   "metadata": {},
		   "source": [
			"## Example 8.15: cutt_off_Frequency.sce"
		   ]
		  },
  {
"cell_type": "code",
	   "execution_count": null,
	   "metadata": {
	    "collapsed": true
	   },
	   "outputs": [],
"source": [
"                //EXAMPLE 8-15   PG NO-531\n",
"L=50*10^-3;\n",
"C=0.2*10^-6;\n",
"Ro=(L/C)^0.5;\n",
"Fc=1/[%pi*(L*C)^0.5];\n",
"disp('i) RESISTANCE (Ro) is    =  '+string (Ro) +'  ohm ')\n",
"disp('ii) FREQUENCY (Fc) is    =  '+string (Fc) +'  Hz ')"
   ]
   }
,
{
		   "cell_type": "markdown",
		   "metadata": {},
		   "source": [
			"## Example 8.16: Cutt_off_Frequency_Pass_band.sce"
		   ]
		  },
  {
"cell_type": "code",
	   "execution_count": null,
	   "metadata": {
	    "collapsed": true
	   },
	   "outputs": [],
"source": [
"                   //EXAMPLE 8-16   PG NO-531\n",
"C=0.2*10^-6;\n",
"L=50*10^-3;\n",
"Ro=(L/C)^0.5;\n",
"Fc=1/[4*%pi*(L*C)];\n",
"disp('Hi) RESISTANCE (Ro) is    =  '+string (Ro) +'  ohm ')\n",
"disp('Hi) FREQUENCY (Fc) is    =  '+string (Fc) +'  Hz ')"
   ]
   }
,
{
		   "cell_type": "markdown",
		   "metadata": {},
		   "source": [
			"## Example 8.17: Cutt_off_Frequency_Pass_band.sce"
		   ]
		  },
  {
"cell_type": "code",
	   "execution_count": null,
	   "metadata": {
	    "collapsed": true
	   },
	   "outputs": [],
"source": [
"                                  //EXAMPLE 8-18         PG NO-533-534 \n",
"Z1=%i*413.05;                      //Impedance\n",
"Z2=%i*334.45;                      //Impedance\n",
"Zoc=(Z1/2)-Z2;\n",
"disp('i)   Impedance(Zoc) is    =  '+string ([Zoc]) +' ohm  ');\n",
"Zsc=(Z1/2)+[((Z1*-Z2)/2)/(-Z2+(Z1/2))];\n",
"disp('ii)  Impedance (Zsc) is    =  '+string ([Zsc]) +' ohm  ');\n",
"Zo=(Zoc*Zsc)^0.5;\n",
"disp('ii)  Impedance (Zo) is    =  '+string ([Zo]) +' ohm  ');"
   ]
   }
,
{
		   "cell_type": "markdown",
		   "metadata": {},
		   "source": [
			"## Example 8.18: m.sce"
		   ]
		  },
  {
"cell_type": "code",
	   "execution_count": null,
	   "metadata": {
	    "collapsed": true
	   },
	   "outputs": [],
"source": [
"              //EXAMPLE 8-18   PG NO-533\n",
"Ro=600;\n",
"Fc=1000;\n",
"L1=Ro/(%pi*Fc);\n",
"C2=1/(%pi*Ro*Fc);\n",
"Fo=1050;\n",
"m=[1-(Fc/Fo)]^0.5;\n",
"X=(0.5*m*L1);\n",
"Y=[(1-m*m)/4*m]*L1;\n",
"Z=m*C2;\n",
"A=(m*L1)/2;\n",
"B=[(1-m*m)/(2*m)]*L1;\n",
"C=(m*C2)/2;\n",
"disp('i) INDUCTAR (L1) is    =  '+string (L1) +'  H ')\n",
"disp('ii) CAPACITOR (C2) is    =  '+string (C2) +'  F ')\n",
"disp('iii) CONSTANT (m) is    =  '+string (m') +'   ')\n",
"disp('iv)   (X) is    =  '+string (X) +'  H ')\n",
"disp('v)    (y) is    =  '+string (Y) +'  H ')\n",
"disp('vi)   (Z) is    =  '+string (Z) +'  F ')\n",
"disp('vii)  (A) is    =  '+string (A) +'  H ')\n",
"disp('viii) (B) is    =  '+string (B) +'  H ')\n",
"disp('x)    (C) is    =  '+string (C) +'  F ')"
   ]
   }
,
{
		   "cell_type": "markdown",
		   "metadata": {},
		   "source": [
			"## Example 8.19: m_and_T.sce"
		   ]
		  },
  {
"cell_type": "code",
	   "execution_count": null,
	   "metadata": {
	    "collapsed": true
	   },
	   "outputs": [],
"source": [
"                           //EXAMPLE 8-19            PG NO-534-535\n",
"Ro=600;                        //characteristics Impedance\n",
"Fc=1000;                       //cutt   of   frequency\n",
"L=Ro/(4*%pi*Fc);\n",
"disp('i) Inductance is    =  '+string ([L]) +'  H ');\n",
"C=1/[4*%pi*Fc*Ro];\n",
"disp('ii) Capacitance is    =  '+string ([C]) +'  F ');\n",
"m=0.2;\n",
"X=(2*C)/m;                      //X=2C/m;\n",
"disp('iii) X is    =  '+string ([X]) +'  F ');\n",
"Y=L/m;                        Y=L/m;\n",
"disp('iv)  Y is    =  '+string ([Y]) +'  H ');\n",
"Z=(4*m*C)/[1-m^2];\n",
"disp('v) Z   is    =  '+string ([Z]) +'  F ');\n",
"m1=0.6;\n",
"X1=(2*C)/m1;                      //X=2C/m;\n",
"disp('iii) X is    =  '+string ([X1]) +'  F ');\n",
"Y1=(2*L)/m1;                        Y1=L/m1;\n",
"disp('iv)  Y is    =  '+string ([Y1]) +'  H ');\n",
"Z1=(2*m1*C)/[1-m1^2];\n",
"disp('v) Z   is    =  '+string ([Z1]) +'  F ');"
   ]
   }
,
{
		   "cell_type": "markdown",
		   "metadata": {},
		   "source": [
			"## Example 8.1: Frequency_Impedance_Attenuation_Phase_Shift.sce"
		   ]
		  },
  {
"cell_type": "code",
	   "execution_count": null,
	   "metadata": {
	    "collapsed": true
	   },
	   "outputs": [],
"source": [
"                //EXAMPLE  8-1      PG N0-510\n",
"L=0.02;                //INDUCTANCE\n",
"C=4*10^-6;             //CAPACITOR\n",
"Z=200;\n",
"Fc=1/(%pi*(L*C)^0.5);\n",
"Z0=(L/C)^0.5;\n",
"Z1=(%i*2)*%pi*Z*L;\n",
"Z2=1/(%i*2*%pi*Z*C);\n",
"Z0*(%pi)=[(4*Z1*Z2*Z2)/(Z1+4*Z2)]^0.5\n",
"F1=2000;\n",
"Z11=%i*%pi*F1*L;\n",
"Z22=1/(%i*%pi*F1*C);\n",
"Z01=[(4*Z11*Z22*Z22)/(Z1+4*Z22)]^0.5;\n",
"disp('ii) POWER (Pmax) is    =  '+string ([Z1]) +'  W ');\n",
"disp('ii) POWER (Pmax) is    =  '+string ([Z2]) +'  W ');\n",
"disp('ii) POWER (Pmax) is    =  '+string ([Z0*(%pi)]) +'  W ');\n",
"disp('ii) POWER (Pmax) is    =  '+string ([Z11]) +'  W ');\n",
"disp('ii) POWER (Pmax) is    =  '+string ([Z22]) +'  W ');\n",
"disp('ii) POWER (Pmax) is    =  '+string ([Z01]) +'  W ');\n",
"\n",
""
   ]
   }
,
{
		   "cell_type": "markdown",
		   "metadata": {},
		   "source": [
			"## Example 8.20: impedance.sce"
		   ]
		  },
  {
"cell_type": "code",
	   "execution_count": null,
	   "metadata": {
	    "collapsed": true
	   },
	   "outputs": [],
"source": [
"                 //EXAMPLE 8-20   PG NO-535\n",
"Ro=450;\n",
"Fc=20000;\n",
"L=Ro/(4*%pi*Fc);\n",
"C=1/(4*%pi*Fc*Ro);\n",
"Z1=Ro/(2*%pi*Fc);\n",
"disp('i) IMPEDANCE (Z1) is   =  '+string (Z1) +' ');"
   ]
   }
,
{
		   "cell_type": "markdown",
		   "metadata": {},
		   "source": [
			"## Example 8.21: Inductance_Capacitance.sce"
		   ]
		  },
  {
"cell_type": "code",
	   "execution_count": null,
	   "metadata": {
	    "collapsed": true
	   },
	   "outputs": [],
"source": [
"                 //EXAMPLE 8-21   PG NO-536-537\n",
"Ro=600;                      //RESISTANCE\n",
"Fc=10000;                    //FREQUENCY\n",
"F=25000;\n",
"L=Ro/(4*%pi*Fc);\n",
"C=1/(4*%pi*Fc*Ro);\n",
"Z=Ro*[1-(Fc/F)^2]^0.5;\n",
"Zo=Ro/[1-(Fc/F)^2]^0.5;\n",
"disp('i) INDUCTAR (L) is    =  '+string (L) +'  H ')\n",
"disp('ii) CAPACITOR (C) is    =  '+string (C) +'  F ')\n",
"disp('i) IMPEDANCE (Z) is    =  '+string (Z) +'  ohm ')\n",
"disp('ii) IMPEDANCE (Zo) is    =  '+string (Zo) +'  ohm ')\n",
""
   ]
   }
,
{
		   "cell_type": "markdown",
		   "metadata": {},
		   "source": [
			"## Example 8.22: Resonant_Frequency_Band_Width_Cutt_off_Frequency.sce"
		   ]
		  },
  {
"cell_type": "code",
	   "execution_count": null,
	   "metadata": {
	    "collapsed": true
	   },
	   "outputs": [],
"source": [
"             //EXAMPLE 8-22        PG NO-537-538\n",
"L=60*10^-3;\n",
"C=150*10^-9;\n",
"Fo=1/[2*%pi*(L*C)^0.5];\n",
"disp('ii) FREQUENCY (Fo) is    =  '+string (Fo) +'  Hz ')\n",
"R=670;\n",
"B.W=R/L;\n",
"disp('ii) BAND WIDTH (B.W) is    =  '+string (B.W) +'  rad/sec ')\n",
"FL=Fo-(1777.22/2);\n",
"disp('ii) Lower Cut of Frequency (FL) is    =  '+string (FL) +'  Hz ')\n",
"Fu=Fo+(1777.22/2);\n",
"disp('ii) Upper Cut of Frequency (Fu) is    =  '+string (Fu) +'  Hz ')"
   ]
   }
,
{
		   "cell_type": "markdown",
		   "metadata": {},
		   "source": [
			"## Example 8.23: Cutt_off_Frequency.sce"
		   ]
		  },
  {
"cell_type": "code",
	   "execution_count": null,
	   "metadata": {
	    "collapsed": true
	   },
	   "outputs": [],
"source": [
"                  //EXAMPLE 8-23     PG NO-538\n",
"L=160*10^-3;\n",
"C=0.022*10^-6;\n",
"Fc=1/[%pi*(L*C)^0.5];\n",
"Zo=(L/C)^0.5;\n",
"disp('ii) Cut of Frequency (Fc) is    =  '+string (Fc) +'  Hz ')\n",
"disp('ii) IMPEDANCE (Zo) is    =  '+string (Zo) +'  ohm ')"
   ]
   }
,
{
		   "cell_type": "markdown",
		   "metadata": {},
		   "source": [
			"## Example 8.24: Output_Voltage.sce"
		   ]
		  },
  {
"cell_type": "code",
	   "execution_count": null,
	   "metadata": {
	    "collapsed": true
	   },
	   "outputs": [],
"source": [
"                     //EXAMPLE 8-24    PG NO-541-542\n",
"Avf=1.56\n",
"Vo=2.262*10^-3;\n",
"R=15*10^3;\n",
"F=0.707;\n",
"C=0.002*10^-6;\n",
"Fc=1/(2*%pi*R*C);\n",
"disp('ii) Cut of Frequency (Fc) is    =  '+string (Fc) +'  Hz ')\n",
"Vo1=F*Vo;\n",
"A=20*log(1.56);\n",
"disp('ii) Out Put Voltage (Vo1) is    =  '+string (Vo1) +'  V ')"
   ]
   }
,
{
		   "cell_type": "markdown",
		   "metadata": {},
		   "source": [
			"## Example 8.25: Gai.sce"
		   ]
		  },
  {
"cell_type": "code",
	   "execution_count": null,
	   "metadata": {
	    "collapsed": true
	   },
	   "outputs": [],
"source": [
"                  //EXAMPLE 8-25     PG NO-542\n",
"Fc=4000;\n",
"R=10*10^3;\n",
"C=1/[2*%pi*Fc*R];\n",
"disp('i) CAPACITOR (C) is    =  '+string (C) +'  F ')\n",
"Avf=1.586;\n",
"R1=15000\n",
"R2=[Avf-1]*R1;\n",
"disp('ii) RESISTANCE (R2) is    =  '+string (R2) +'  ohm ')"
   ]
   }
,
{
		   "cell_type": "markdown",
		   "metadata": {},
		   "source": [
			"## Example 8.26: Mid_Band_Gain.sce"
		   ]
		  },
  {
"cell_type": "code",
	   "execution_count": null,
	   "metadata": {
	    "collapsed": true
	   },
	   "outputs": [],
"source": [
"          //EXAMPLE-8-26    PG NO-543\n",
"R=15.86;\n",
"R1=10;\n",
"MA=R/R1; \n",
"disp('i) mid band gain  = '+string (MA)+' ');"
   ]
   }
,
{
		   "cell_type": "markdown",
		   "metadata": {},
		   "source": [
			"## Example 8.27: R2_Mid_abnd_Gain_Cutt_of_Frequency.sce"
		   ]
		  },
  {
"cell_type": "code",
	   "execution_count": null,
	   "metadata": {
	    "collapsed": true
	   },
	   "outputs": [],
"source": [
"                  //EXAMPLE 8-27  PG NO-545\n",
"R2=0.586;\n",
"M.G=1+0.586;           //MID BAND GAIN\n",
"R=10^3;\n",
"C=0.02*10^-6;\n",
"Fc=1/(2*%pi*R*C);                   //Cut OFF Frequency\n",
"G.Fc=0.707*M.G;\n",
"M.B.O=M.G*1.4;\n",
"disp('ii) Cut  off Frequency (Fc) is    =  '+string (Fc) +'   ')\n",
"disp('ii) Gain at cutt of frequency (G.Fc) is    =  '+string (G.Fc) +'   ')\n",
"disp('ii) Mid band out Put (M.B.O) is    =  '+string (M.B.O) +'  mV ')"
   ]
   }
,
{
		   "cell_type": "markdown",
		   "metadata": {},
		   "source": [
			"## Example 8.28: Mid_abnd_Output.sce"
		   ]
		  },
  {
"cell_type": "code",
	   "execution_count": null,
	   "metadata": {
	    "collapsed": true
	   },
	   "outputs": [],
"source": [
"                       //EXAMPLE-8-28       PG NO-545-546\n",
"Avf=1.586;\n",
"R1=10;\n",
"R2=[Avf-1]*R1;\n",
"Fc=5000;\n",
"R=2000;\n",
"C=1/[2*%pi*R*Fc]\n",
"disp('ii) Resistance (R2) is    =  '+string (R2) +'  Kohm ')\n",
"disp('ii) CAPACITOR (C) is    =  '+string (C) +'  F ')"
   ]
   }
,
{
		   "cell_type": "markdown",
		   "metadata": {},
		   "source": [
			"## Example 8.29: Gain_at_mid_band.sce"
		   ]
		  },
  {
"cell_type": "code",
	   "execution_count": null,
	   "metadata": {
	    "collapsed": true
	   },
	   "outputs": [],
"source": [
"               //EXAMPLE 8-29     PG NO-547-548\n",
"R1=10000;\n",
"Fc1=8000;\n",
"C1=1/[2*%pi*R1*Fc1];\n",
"R4=15;\n",
"R3=8.79;\n",
"Fc2=4000;\n",
"R2=20000;\n",
"C2=1/[2*%pi*R2*Fc2];\n",
"disp('ii) CAPACITOR (C1) is    =  '+string (C1) +'  F ')\n",
"disp('ii) CAPACITOR (C2) is    =  '+string (C2) +'  F ')\n",
""
   ]
   }
,
{
		   "cell_type": "markdown",
		   "metadata": {},
		   "source": [
			"## Example 8.2: L_and_C.sce"
		   ]
		  },
  {
"cell_type": "code",
	   "execution_count": null,
	   "metadata": {
	    "collapsed": true
	   },
	   "outputs": [],
"source": [
"          //example 8-2   pg no -511\n",
"Ro=600;\n",
"Fc=940;\n",
"L=Ro/(%pi*Fc);\n",
"C=1/(%pi*Ro*Fc);\n",
"disp('ii) INDUCTANCE (L) is    =  '+string ([L]) +'  H ')\n",
"disp('ii) CAPACITOR (C) is    =  '+string ([C]) +'  F ')"
   ]
   }
,
{
		   "cell_type": "markdown",
		   "metadata": {},
		   "source": [
			"## Example 8.30: Design_a_Filter.sce"
		   ]
		  },
  {
"cell_type": "code",
	   "execution_count": null,
	   "metadata": {
	    "collapsed": true
	   },
	   "outputs": [],
"source": [
"                       //EXAMPLE 8-30    PG NO-548\n",
"R1=10000;\n",
"Fc1=40000 ;\n",
"C1=1/[R1*Fc1*2*%pi];\n",
"disp('ii) CAPACITOR (C1) is    =  '+string (C1) +'  F ');\n",
"Fc2=8000;\n",
"R2=5000;\n",
"C2=1/[R2*Fc2*2*%pi];\n",
"disp('ii) CAPACITOR (C2) is    =  '+string (C2) +'  F ');"
   ]
   }
,
{
		   "cell_type": "markdown",
		   "metadata": {},
		   "source": [
			"## Example 8.31: Resistance.sce"
		   ]
		  },
  {
"cell_type": "code",
	   "execution_count": null,
	   "metadata": {
	    "collapsed": true
	   },
	   "outputs": [],
"source": [
"                //EXAMPLE 8-31     PG NO-550\n",
"N=100;\n",
"Ro=450;\n",
"R1=Ro*[(N-1)/(N+1)];\n",
"R2=Ro*[2*N/{N^2-1}];\n",
"disp('ii) Resistance (R1) is    =  '+string (R1) +'  ohm ');\n",
"disp('ii) Resistance(r2) is    =  '+string (R2) +'  ohm ');"
   ]
   }
,
{
		   "cell_type": "markdown",
		   "metadata": {},
		   "source": [
			"## Example 8.32: Impedance.sce"
		   ]
		  },
  {
"cell_type": "code",
	   "execution_count": null,
	   "metadata": {
	    "collapsed": true
	   },
	   "outputs": [],
"source": [
"                      //EXAMPLE 8-32      PG NO-550\n",
"Zoc=200;\n",
"Zsc=187.5;\n",
"Zo=[Zoc*Zsc]^0.5;\n",
"R1=50;\n",
"R2=150;\n",
"R3=193.65;\n",
"N=[R1+R2+R3]/R1;\n",
"D=20*log10(N)\n",
"disp('ii) IMPEDANCE (Zo) is    =  '+string (Zo) +'  ohm ');\n",
"disp('ii)  (N) is    =  '+string (N) +'   ');\n",
"disp('ii)  (D) is    =  '+string (D) +'  dB ');\n",
""
   ]
   }
,
{
		   "cell_type": "markdown",
		   "metadata": {},
		   "source": [
			"## Example 8.33: Attenuation.sce"
		   ]
		  },
  {
"cell_type": "code",
	   "execution_count": null,
	   "metadata": {
	    "collapsed": true
	   },
	   "outputs": [],
"source": [
"                //EXAMPLE 8-34       PG NO-551\n",
"N=2.985;\n",
"Ro=175;\n",
"R1=Ro*[(N-1)/(N+1)];\n",
"R2=Ro*[(2*N)/(N^2-1)];\n",
"disp('ii) Resistance (R1) is    =  '+string (R1) +'  ohm ');\n",
"disp('ii) Resistance (R2) is    =  '+string (R2) +'  ohm ');"
   ]
   }
,
{
		   "cell_type": "markdown",
		   "metadata": {},
		   "source": [
			"## Example 8.34: Resistance.sce"
		   ]
		  },
  {
"cell_type": "code",
	   "execution_count": null,
	   "metadata": {
	    "collapsed": true
	   },
	   "outputs": [],
"source": [
"                //EXAMPLE 8-34       PG NO-551\n",
"N=2.985;\n",
"Ro=175;\n",
"R1=Ro*[(N-1)/(N+1)];\n",
"R2=Ro*[(2*N)/(N^2-1)];\n",
"disp('ii) Resistance (R1) is    =  '+string (R1) +'  ohm ');\n",
"disp('ii) Resistance (R2) is    =  '+string (R2) +'  ohm ');"
   ]
   }
,
{
		   "cell_type": "markdown",
		   "metadata": {},
		   "source": [
			"## Example 8.35: Impedance.sce"
		   ]
		  },
  {
"cell_type": "code",
	   "execution_count": null,
	   "metadata": {
	    "collapsed": true
	   },
	   "outputs": [],
"source": [
"                 //EXAMPLE 8-35    PG NO-552\n",
"R1=200;\n",
"R2=200;\n",
"R3=100;\n",
"Zoc=[R1*(R2+R3)/(R1+R2+R3)];\n",
"disp('i) IMPEDANCE (Zoc) is    =  '+string (Zoc) +'  ohm ');\n",
"Zsc=(R1*R3)/(R1+R3);\n",
"disp('ii) IMPEDANCE (Zsc) is    =  '+string (Zsc) +'  ohm ');\n",
"Zo=[Zoc*Zsc]^0.5;\n",
"disp('iii) IMPEDANCE (Zo) is    =  '+string (Zo) +'  ohm ');\n",
"N=2.618;\n",
"D=20*log10(N)\n",
"disp('ii) (D) is    =  '+string (D) +'  dB ');"
   ]
   }
,
{
		   "cell_type": "markdown",
		   "metadata": {},
		   "source": [
			"## Example 8.36: Resistance.sce"
		   ]
		  },
  {
"cell_type": "code",
	   "execution_count": null,
	   "metadata": {
	    "collapsed": true
	   },
	   "outputs": [],
"source": [
"                 //EXAMPLE 8-36   PG NO-552-553\n",
"N=31.622;\n",
"Ro=700;\n",
"R1=Ro*[(N^2-1)/(2*N)];\n",
"R2=Ro*[(N+1)/(N-1)];\n",
"disp('i) RESISTANCE (R1) is    =  '+string (R1) +'  ohm ');\n",
"disp('ii) RESISTANCE (R2) is    =  '+string (R2) +'  ohms ');"
   ]
   }
,
{
		   "cell_type": "markdown",
		   "metadata": {},
		   "source": [
			"## Example 8.37: Impedance.sce"
		   ]
		  },
  {
"cell_type": "code",
	   "execution_count": null,
	   "metadata": {
	    "collapsed": true
	   },
	   "outputs": [],
"source": [
"                 //EXAMPLE 8-37      PG NO-553\n",
"R1=657.08;\n",
"R2=44.316;\n",
"Zoc=R1+R2;\n",
"Zsc=R1+[(R1*R2)/(R1+R2)];\n",
"Zo=[Zoc*Zsc]^0.5;\n",
"N=[R2+R1+Zo]/R2;\n",
"disp('i)    impedance (Zoc) is    =  '+string (Zoc) +'  ohm ');\n",
"disp('ii) impedance (Zsc) is    =  '+string (Zsc) +'  ohm ');\n",
"disp('iii)impedance (Zo) is    =  '+string (Zo) +'  ohm ');\n",
"disp('iv) (N) is    =  '+string (N) +'   ');"
   ]
   }
,
{
		   "cell_type": "markdown",
		   "metadata": {},
		   "source": [
			"## Example 8.38: Resistance.sce"
		   ]
		  },
  {
"cell_type": "code",
	   "execution_count": null,
	   "metadata": {
	    "collapsed": true
	   },
	   "outputs": [],
"source": [
"             //EXAMPLE 8-38    PG NO-554\n",
"N=5.6234;\n",
"Ro=450;\n",
"R1=Ro*[(N^2-1)/(2*N)];\n",
"R2=Ro*[(N+1)/(N-1)];\n",
"disp('i) RESISTANCE (R1) is    =  '+string (R1) +'  ohm ');\n",
"disp('ii) RESISTANCE (R2) is    =  '+string (R2) +'  ohm ');"
   ]
   }
,
{
		   "cell_type": "markdown",
		   "metadata": {},
		   "source": [
			"## Example 8.39: N.sce"
		   ]
		  },
  {
"cell_type": "code",
	   "execution_count": null,
	   "metadata": {
	    "collapsed": true
	   },
	   "outputs": [],
"source": [
"                   //EXAMPLE 8-39       PG NO-554\n",
"R1=250;\n",
"R2=750;\n",
"Zoc=[R1*(R1+R2)]/{R1+R2+R1};\n",
"Zsc=[(R1*R2)/(R1+R2)];\n",
"Zo=[Zoc*Zsc]^0.5;\n",
"disp('i)    impedance (Zoc) is    =  '+string (Zoc) +'  ohm ');\n",
"disp('ii) impedance (Zsc) is    =  '+string (Zsc) +'  ohm ');\n",
"disp('iii)impedance (Zo) is    =  '+string (Zo) +'  ohm ');\n",
""
   ]
   }
,
{
		   "cell_type": "markdown",
		   "metadata": {},
		   "source": [
			"## Example 8.3: Impedance.sce"
		   ]
		  },
  {
"cell_type": "code",
	   "execution_count": null,
	   "metadata": {
	    "collapsed": true
	   },
	   "outputs": [],
"source": [
"L=0.015;                //INDUCTANCE\n",
"C=0.5*10^-6;             //CAPACITOR\n",
"Z=200;\n",
"Fc=1/(4*%pi*(L*C)^0.5);\n",
"Z0=(L/C)^0.5;\n",
"Z2=(%i*2)*%pi*Z*L;\n",
"Z1=1/(%i*2*%pi*Z*C);\n",
"F1=2000;\n",
"Z01=[(Z1*Z2)/(1+(Z1/(4*Z2)))]^0.5;\n",
"A=8.147;\n",
"disp('ii) Impedance (ZO) is    =  '+string ([Z0]) +'  W ');\n",
"disp('ii) FREQUENCY is    =  '+string ([Fc]) +'  HZ ');\n",
"disp('ii) Impedance(Z1) is    =  '+string ([Z1]) +'  W ');\n",
"disp('ii) Impedance(Z2) is    =  '+string ([Z2]) +'  W ');\n",
"disp('ii) Impedance(Z01) is    =  '+string ([Z01]) +'  W ');\n",
"disp('ii) ALPHA is    =  '+string ([A]) +'   ');\n",
"\n",
""
   ]
   }
,
{
		   "cell_type": "markdown",
		   "metadata": {},
		   "source": [
			"## Example 8.40: N.sce"
		   ]
		  },
  {
"cell_type": "code",
	   "execution_count": null,
	   "metadata": {
	    "collapsed": true
	   },
	   "outputs": [],
"source": [
"                   //EXAMPLE 8-40  PG NO-554-555\n",
"R1=459.089;\n",
"R2=22500';\n",
"Zoc=[R1*(R1+R2)]/{R1+R2+R1};\n",
"Zsc=[(R1*R2)/(R1+R2)];\n",
"Zo=[Zoc*Zsc]^0.5;\n",
"disp('i)    impedance (Zoc) is    =  '+string (Zoc) +'  ohm ');\n",
"disp('ii) impedance (Zsc) is    =  '+string (Zsc) +'  ohm ');\n",
"disp('iii)impedance (Zo) is    =  '+string (Zo) +'  ohm ');\n",
""
   ]
   }
,
{
		   "cell_type": "markdown",
		   "metadata": {},
		   "source": [
			"## Example 8.41: L.sce"
		   ]
		  },
  {
"cell_type": "code",
	   "execution_count": null,
	   "metadata": {
	    "collapsed": true
	   },
	   "outputs": [],
"source": [
"              //EXAMPLE 8-41   PG NO-557\n",
"N=7.943;\n",
"Z=300;          //IMPEDANCE\n",
"R1=[(N-1)/N]*Z;\n",
"R2=Z/(N-1);\n",
"disp('i)   RESISTANCE (R1) is    =  '+string (R1) +'  ohm ');\n",
"disp('ii)   RESISTANCE (R2) is    =  '+string (R2) +'  ohm ');"
   ]
   }
,
{
		   "cell_type": "markdown",
		   "metadata": {},
		   "source": [
			"## Example 8.42: D.sce"
		   ]
		  },
  {
"cell_type": "code",
	   "execution_count": null,
	   "metadata": {
	    "collapsed": true
	   },
	   "outputs": [],
"source": [
"                   //EXAMPLE 8-43   PG NO-557\n",
"Z1=450;\n",
"Z2=300;\n",
"R1=[Z1*(Z1-Z2)]^0.5;\n",
"R2=[(Z1*Z2*Z2)/(Z1-Z2)]^0.5;\n",
"disp('ii)   RESISTANCE (R1) is    =  '+string (R1) +'  ohm ');\n",
"disp('ii)   RESISTANCE (R2) is    =  '+string (R2) +'  ohm ');"
   ]
   }
,
{
		   "cell_type": "markdown",
		   "metadata": {},
		   "source": [
			"## Example 8.43: L.sce"
		   ]
		  },
  {
"cell_type": "code",
	   "execution_count": null,
	   "metadata": {
	    "collapsed": true
	   },
	   "outputs": [],
"source": [
"                   //EXAMPLE 8-43   PG NO-557\n",
"Z1=450;\n",
"Z2=300;\n",
"R1=[Z1*(Z1-Z2)]^0.5;\n",
"R2=[(Z1*Z2*Z2)/(Z1-Z2)]^0.5;\n",
"disp('ii)   RESISTANCE (R1) is    =  '+string (R1) +'  ohm ');\n",
"disp('ii)   RESISTANCE (R2) is    =  '+string (R2) +'  ohm ');"
   ]
   }
,
{
		   "cell_type": "markdown",
		   "metadata": {},
		   "source": [
			"## Example 8.45: design_T.sce"
		   ]
		  },
  {
"cell_type": "code",
	   "execution_count": null,
	   "metadata": {
	    "collapsed": true
	   },
	   "outputs": [],
"source": [
"                //EXAMPLE 8-45 PG NO-559-560\n",
"N=5.6234;\n",
"R1=500;\n",
"R2=R1/(N-1);\n",
"R3=R1*(N-1);\n",
"disp('i)   RESISTANCE (R2) is    =  '+string (R2) +'  ohm ');\n",
"disp('ii)   RESISTANCE (R3) is    =  '+string (R3) +'  ohm ');"
   ]
   }
,
{
		   "cell_type": "markdown",
		   "metadata": {},
		   "source": [
			"## Example 8.46: Design_lattice_attenuator.sce"
		   ]
		  },
  {
"cell_type": "code",
	   "execution_count": null,
	   "metadata": {
	    "collapsed": true
	   },
	   "outputs": [],
"source": [
"                   //EXAMPLE 8-46     PG NO-560-561\n",
"N=7.0795;\n",
"Z1=450;\n",
"R1=Z1*[(N-1)/(N+1)];\n",
"R2=Z1*[(N+1)/(N-1)];\n",
"disp('ii)   RESISTANCE (R1) is    =  '+string (R1) +'  ohm ');\n",
"disp('ii)   RESISTANCE (R2) is    =  '+string (R2) +'  ohm ');"
   ]
   }
,
{
		   "cell_type": "markdown",
		   "metadata": {},
		   "source": [
			"## Example 8.47: Impedance.sce"
		   ]
		  },
  {
"cell_type": "code",
	   "execution_count": null,
	   "metadata": {
	    "collapsed": true
	   },
	   "outputs": [],
"source": [
"              //EXAMPLE 8-47    PG  NO-561\n",
"R1=175;\n",
"R2=350;\n",
"Zoc=R1+R2;\n",
"Zsc=R1+[(R1*R2)/(R1+R2)];\n",
"Zo=[Zoc*Zsc]^0.5;\n",
"N=[R1+R2+Zo]/R2;\n",
"AT=20*log10(2.618);\n",
"disp('i)    impedance (Zoc) is    =  '+string (Zoc) +'  ohm ');\n",
"disp('ii) impedance (Zsc) is    =  '+string (Zsc) +'  ohm ');\n",
"disp('iii)impedance (Zo) is    =  '+string (Zo) +'  ohm ');\n",
"disp('iv)   (N) is    =  '+string (N) +'   ')\n",
"disp('v)attenuation (AT) is    =  '+string (AT) +'  dB ')"
   ]
   }
,
{
		   "cell_type": "markdown",
		   "metadata": {},
		   "source": [
			"## Example 8.48: Resistance.sce"
		   ]
		  },
  {
"cell_type": "code",
	   "execution_count": null,
	   "metadata": {
	    "collapsed": true
	   },
	   "outputs": [],
"source": [
"                         //EXAMPLE  8-48   PG NO-561\n",
"R=300;\n",
"N=31.62;\n",
"R1=[(N-1)/N]*R;\n",
"R2=R/(N-1);\n",
"disp('i)   RESISTANCE (R1) is    =  '+string (R1) +'  ohm ');\n",
"disp('ii)   RESISTANCE (R2) is    =  '+string (R2) +'  ohm ');"
   ]
   }
,
{
		   "cell_type": "markdown",
		   "metadata": {},
		   "source": [
			"## Example 8.49: Design_lattice_attenuator.sce"
		   ]
		  },
  {
"cell_type": "code",
	   "execution_count": null,
	   "metadata": {
	    "collapsed": true
	   },
	   "outputs": [],
"source": [
"                //EXAMPLE 8-49   PG NO-562\n",
"Ro=500;\n",
"N=10;\n",
"RA=Ro*[(N-1)/(N+1)];\n",
"RB=Ro*[(N+1)/(N-1)];\n",
"R1=Ro*[(N-1)/(N+1)];\n",
"R2=Ro*[(2*N)/(N^2-1)];\n",
"disp('ii)   RESISTANCE (RA) is    =  '+string (RA) +'  ohm ');\n",
"disp('ii)   RESISTANCE (RB) is    =  '+string (RB) +'  ohm ');\n",
"disp('ii)   RESISTANCE (R1) is    =  '+string (R1) +'  ohm ');\n",
"disp('ii)   RESISTANCE (R2) is    =  '+string (R2) +'  ohm ');"
   ]
   }
,
{
		   "cell_type": "markdown",
		   "metadata": {},
		   "source": [
			"## Example 8.4: L_and_C.sce"
		   ]
		  },
  {
"cell_type": "code",
	   "execution_count": null,
	   "metadata": {
	    "collapsed": true
	   },
	   "outputs": [],
"source": [
"                //EXAMPLE -8-4   PG NO-514-515\n",
"Ro=3000;\n",
"Fc=2000;\n",
"L=Ro/(4*%pi*Fc);\n",
"C=1/(4*%pi*Fc*Ro);\n",
"disp('i) INDUCTANCE (L) is    =  '+string ([L]) +'  H ')\n",
"disp('ii) CAPACITOR (C) is    =  '+string ([C]) +'  F ')"
   ]
   }
,
{
		   "cell_type": "markdown",
		   "metadata": {},
		   "source": [
			"## Example 8.5: Band_Width.sce"
		   ]
		  },
  {
"cell_type": "code",
	   "execution_count": null,
	   "metadata": {
	    "collapsed": true
	   },
	   "outputs": [],
"source": [
"                 //EXAMPLE 8-5   PG NO-517\n",
"C1=1;\n",
"C2=50;\n",
"X=1000;              //X=1/(2*%pi*(L1*C1)^0.5)\n",
"Y=X*2*(C1/C2)^0.5;            //Y=(Fc2-Fc1)\n",
"disp('ii) Frequency (Fc2-Fc1) is    =  '+string ([Y]) +'  Hz ')"
   ]
   }
,
{
		   "cell_type": "markdown",
		   "metadata": {},
		   "source": [
			"## Example 8.6: Circuits_Parameter.sce"
		   ]
		  },
  {
"cell_type": "code",
	   "execution_count": null,
	   "metadata": {
	    "collapsed": true
	   },
	   "outputs": [],
"source": [
"                       //EXAMPLE 8-7  PG NO-519\n",
"Ro=100;\n",
"Fc2=5000;\n",
"Fc1=500;\n",
"L1=Ro/[2*%pi*(Fc2-Fc1)];\n",
"disp('ii) INDUCTANCE (L1/2) is    =  '+string ([L1/2]) +'  H ')\n",
"C1=(Fc2-Fc1)/(2*%pi*Ro*Fc1*Fc2)\n",
"disp('ii) CAPACITOR (2*C1) is    =  '+string ([2*C1]) +'  F ')\n",
"L2=[Ro*(Fc2-Fc1)]/(4*%pi*Fc1*Fc2);\n",
"disp('ii) INDUCTANCE (L2) is    =  '+string ([L2]) +'  H ')\n",
"C2=1/(%pi*(Fc2-Fc1));\n",
"disp('ii) CAPACITOR (C2) is    =  '+string ([C2]) +'  F ')\n",
""
   ]
   }
,
{
		   "cell_type": "markdown",
		   "metadata": {},
		   "source": [
			"## Example 8.7: inductance.sce"
		   ]
		  },
  {
"cell_type": "code",
	   "execution_count": null,
	   "metadata": {
	    "collapsed": true
	   },
	   "outputs": [],
"source": [
"              //EXAMPLE 8-7   PG NO-519\n",
"Fc1=1000;\n",
"Fc2=3000;\n",
"Ro=100;\n",
"L1=[(Ro*(Fc2-Fc1))/(2*%pi*Fc2*Fc1)]\n",
"disp('i) INDUCTANCE (L1/2) is    =  '+string ([L1]) +'  H ')\n",
"C1=1/[2*%pi*(Fc2-Fc1)];\n",
"disp('ii) CAPACITOR (C1) is    =  '+string (C1) +'  F ')\n",
"L2=Ro/[4*%pi*(Fc2-Fc1)];\n",
"disp('iii) INDUCTANCE (L2) is    =  '+string ([L2]) +'  H ')\n",
"C2=(Fc2-Fc1)/(%pi*Ro*Fc1*Fc2)\n",
"disp('ii) CAPACITOR (C2) is    =  '+string ([C2]) +'  F ')"
   ]
   }
,
{
		   "cell_type": "markdown",
		   "metadata": {},
		   "source": [
			"## Example 8.8: m.sce"
		   ]
		  },
  {
"cell_type": "code",
	   "execution_count": null,
	   "metadata": {
	    "collapsed": true
	   },
	   "outputs": [],
"source": [
"              // EXAMPLE 8-8   PG NO-523\n",
"Ro=600;\n",
"Fc=2500;\n",
"L=Ro/(%pi*Fc);\n",
"C=1/(%pi*Ro*Fc);\n",
"disp('i) INDUCTANCE (L) is    =  '+string ([L]) +'  H ')\n",
"disp('ii) CAPACITOR (C) is    =  '+string ([C]) +'  F ')\n",
"Fo=2600;\n",
"m=sqrt(1-(Fc/Fo)^2)\n",
"disp('iii)  (m) is    =  '+string (m) +'   ')\n",
"L1=[(1-m*m)/4*m]*L;\n",
"disp('iv) INDUCTANCE (L1) is    =  '+string ([L1]) +'  H ')\n",
"L2=0.5*m*L;\n",
"disp('ii) INDUCTANCE (L2) is    =  '+string ([L2]) +'  H ')\n",
"C1=m*C;\n",
"disp('ii) CAPACITOR (C1) is    =  '+string (C1) +'  F ')"
   ]
   }
,
{
		   "cell_type": "markdown",
		   "metadata": {},
		   "source": [
			"## Example 8.9: m.sce"
		   ]
		  },
  {
"cell_type": "code",
	   "execution_count": null,
	   "metadata": {
	    "collapsed": true
	   },
	   "outputs": [],
"source": [
"                 //EXAMPLE 8-9       PG NO-525\n",
"Ro=600;\n",
"Fc=3000;\n",
"L=Ro/(4*%pi*Fc);\n",
"disp('i) INDUCTANCE (L) is    =  '+string ([L]) +'  H ')\n",
"C=1/(4*%pi*Fc*Ro);\n",
"disp('ii) CAPACITOR (C) is    =  '+string ([C]) +'  F ')\n",
"Fo=2700;\n",
"m=sqrt(1-(Fo/Fc)^2);\n",
"disp('iii)  (m) is    =  '+string ([m]) +'   ');\n",
"X=(2*C)/m;\n",
"disp('iv) X (X) is    =  '+string ([X]) +' F  ');\n",
"Y=L/m;\n",
"disp('v) Y    is    =  '+string ([Y]) +' H  ');\n",
"Z=(4*m*C)/(1-m^2);                               //Z=4mC/1-m^2\n",
"disp('vi) Z   (Z) is    =  '+string ([Z]) +'  F ');\n",
"Z1=(4*m*L)/(1-m^2);                   //Z1=4mL/1-m^2\n",
"disp('vii)  (Z1) is    =  '+string ([Z1]) +' H  ')\n",
"X1=(2*L)/m;\n",
"disp('viii)  X1    (X1) is    =  '+string ([X1]) +' H  ')\n",
"Y1=C/m;\n",
"disp('ix) Y1  is    =  '+string ([Y1]) +' F  ')"
   ]
   }
],
"metadata": {
		  "kernelspec": {
		   "display_name": "Scilab",
		   "language": "scilab",
		   "name": "scilab"
		  },
		  "language_info": {
		   "file_extension": ".sce",
		   "help_links": [
			{
			 "text": "MetaKernel Magics",
			 "url": "https://github.com/calysto/metakernel/blob/master/metakernel/magics/README.md"
			}
		   ],
		   "mimetype": "text/x-octave",
		   "name": "scilab",
		   "version": "0.7.1"
		  }
		 },
		 "nbformat": 4,
		 "nbformat_minor": 0
}
