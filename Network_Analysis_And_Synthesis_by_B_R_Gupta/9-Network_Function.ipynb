{
"cells": [
 {
		   "cell_type": "markdown",
	   "metadata": {},
	   "source": [
       "# Chapter 9: Network Function"
	   ]
	},
{
		   "cell_type": "markdown",
		   "metadata": {},
		   "source": [
			"## Example 9.24: Resonant_frequency_Q_band_width_Impedance.sce"
		   ]
		  },
  {
"cell_type": "code",
	   "execution_count": null,
	   "metadata": {
	    "collapsed": true
	   },
	   "outputs": [],
"source": [
"                             //EXAMPLE 9-24         PG NO-608-609\n",
"L=20;                          //INDUCTANCE\n",
"R=2*L;                        //RESISTANCE\n",
"disp('i)  Resistance (R) is    =  '+string ([R]) +' ohm  ');\n",
"Wo=sqrt(101);\n",
"disp('ii)  Wo (Wo) is    =  '+string ([Wo]) +' rad/sec  ');\n",
"Q=(Wo*L)/R;\n",
"disp('iii) Q  is    =  '+string ([Q]) +'   ');\n",
"BW=Wo/Q;\n",
"disp('iv) BANDWIDTH (BW) is    =  '+string ([BW]) +' rad/sec  ');"
   ]
   }
,
{
		   "cell_type": "markdown",
		   "metadata": {},
		   "source": [
			"## Example 9.26: Resonant_frequency_Q.sce"
		   ]
		  },
  {
"cell_type": "code",
	   "execution_count": null,
	   "metadata": {
	    "collapsed": true
	   },
	   "outputs": [],
"source": [
"                           //EXAMPLE 9-26            PG NO-609-610\n",
"C=10^-6;\n",
"X=5*10^6;\n",
"L=1/(C*X);\n",
"disp('i) INDUCTAR (L) is    =  '+string ([L]) +' H  ');\n",
"R=10*L;\n",
"disp('ii) Resistance (R) is    =  '+string ([R]) +' ohm  ');\n",
"W=2.236*10^3;\n",
"Q=(W*L)/R;\n",
"disp('iii) (Q) is    =  '+string ([Q]) +'   ');\n",
"BW=W/Q;\n",
"disp('iv) Band Width (BW) is    =  '+string ([BW]) +' rad/sec  ');"
   ]
   }
,
{
		   "cell_type": "markdown",
		   "metadata": {},
		   "source": [
			"## Example 9.32: Q.sce"
		   ]
		  },
  {
"cell_type": "code",
	   "execution_count": null,
	   "metadata": {
	    "collapsed": true
	   },
	   "outputs": [],
"source": [
"                           //Example 9-32         PG NO 618-619\n",
"P1=1-%i*50;\n",
"P2=1+%i*150;\n",
"Z1=0+%i*50;\n",
"I=[0.2*Z1]/[P1*P2];\n",
"disp('i) Current (I) is    =  '+string ([I]) +' A  ');\n",
"L=5;                                //INDUCTAR\n",
"R=10;                              //RESISTANCE\n",
"C=2*10^-5;\n",
"Wo=1/sqrt(L*C);\n",
"disp('ii) Wo (Wo) is    =  '+string ([Wo]) +' rad/sec  ');\n",
"Q=(Wo*L)/R;\n",
"disp('iii) Q (Q) is    =  '+string ([Q]) +'   ');\n",
"BW=Wo/Q;\n",
"disp('ii) Band Width (BW) is    =  '+string ([BW]) +' rad/sec  ');"
   ]
   }
,
{
		   "cell_type": "markdown",
		   "metadata": {},
		   "source": [
			"## Example 9.37: Poles_and_Zero.sce"
		   ]
		  },
  {
"cell_type": "code",
	   "execution_count": null,
	   "metadata": {
	    "collapsed": true
	   },
	   "outputs": [],
"source": [
"                             //EXAMPLE 9-37             PG NO 623-624\n",
"C=1/8.5;                                  //Capacitor\n",
"L=1/(17*C);                              //Inductar\n",
"disp('ii) Inductar (L) is    =  '+string ([L]) +' H  ');\n",
"R=2*L;                                  //Resistance\n",
"disp('ii) Resistance (R) is    =  '+string ([R]) +' ohm  ');"
   ]
   }
,
{
		   "cell_type": "markdown",
		   "metadata": {},
		   "source": [
			"## Example 9.38: R_L_G_C.sce"
		   ]
		  },
  {
"cell_type": "code",
	   "execution_count": null,
	   "metadata": {
	    "collapsed": true
	   },
	   "outputs": [],
"source": [
"                         //EXAMPLE 9-38   PG NO=624-625\n",
"C=1/9;                //CAPACITOR\n",
"X=2;              //R/L=X\n",
"Y=6-X;             //G/C\n",
"G=4*C;\n",
"disp('i) G (G)   =  '+string (G)+' ohm')\n",
"L=0.9;\n",
"R=1.8;"
   ]
   }
,
{
		   "cell_type": "markdown",
		   "metadata": {},
		   "source": [
			"## Example 9.46: Ia.sce"
		   ]
		  },
  {
"cell_type": "code",
	   "execution_count": null,
	   "metadata": {
	    "collapsed": true
	   },
	   "outputs": [],
"source": [
"                           //EXAMPLE 9-46            PG NO 630-631\n",
"ZA=5+%i*3;\n",
"YA=1/ZA;\n",
"disp('ii) Admittance (YA) is    =  '+string ([YA]) +' siemens  ');\n",
"V=100;                       //VOLTAGE\n",
"IA=V*YA;\n",
"disp('ii) Current (IA) is    =  '+string ([IA]) +' A  ');"
   ]
   }
,
{
		   "cell_type": "markdown",
		   "metadata": {},
		   "source": [
			"## Example 9.50: Current.sce"
		   ]
		  },
  {
"cell_type": "code",
	   "execution_count": null,
	   "metadata": {
	    "collapsed": true
	   },
	   "outputs": [],
"source": [
"                 //EXAMPLE 9-50            PG NO-632\n",
"I1=17.39-%i*4.66;         //CURRENT\n",
"I2=9+%i*15.68;           //CURRENT\n",
"I3=-%i*10.95;            //CURRENT\n",
"I=I1+I2+I3;\n",
"disp('i)CURRENT (I)   =  '+string (I)+' A')"
   ]
   }
,
{
		   "cell_type": "markdown",
		   "metadata": {},
		   "source": [
			"## Example 9.56: C.sce"
		   ]
		  },
  {
"cell_type": "code",
	   "execution_count": null,
	   "metadata": {
	    "collapsed": true
	   },
	   "outputs": [],
"source": [
"                //example 9-56   pg no-636\n",
"Z1=8.05+%i*2.156;             //IMPEDANCE\n",
"XL=2.155;\n",
"W=5000;\n",
"L=XL/W;\n",
"disp('i)INDUCTANCE (L)   =  '+string (L)+' H')\n",
"Z2=4.166-%i*7.216;          //IMPEDANCE\n",
"Xc=7.216;\n",
"C=1/[W*Xc];\n",
"disp('ii)CAPACITOR (C)   =  '+string (C)+' F')\n",
"D=11.708;             //DIAMETER\n",
"XL1=12.81;\n",
"L1=XL1/W;\n",
"disp('i) INDUCTANCE (L1)   =  '+string (L1)+' H')"
   ]
   }
],
"metadata": {
		  "kernelspec": {
		   "display_name": "Scilab",
		   "language": "scilab",
		   "name": "scilab"
		  },
		  "language_info": {
		   "file_extension": ".sce",
		   "help_links": [
			{
			 "text": "MetaKernel Magics",
			 "url": "https://github.com/calysto/metakernel/blob/master/metakernel/magics/README.md"
			}
		   ],
		   "mimetype": "text/x-octave",
		   "name": "scilab",
		   "version": "0.7.1"
		  }
		 },
		 "nbformat": 4,
		 "nbformat_minor": 0
}
