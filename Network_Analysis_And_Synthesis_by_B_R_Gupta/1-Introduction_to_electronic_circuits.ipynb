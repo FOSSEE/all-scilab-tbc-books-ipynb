{
"cells": [
 {
		   "cell_type": "markdown",
	   "metadata": {},
	   "source": [
       "# Chapter 1: Introduction to electronic circuits"
	   ]
	},
{
		   "cell_type": "markdown",
		   "metadata": {},
		   "source": [
			"## Example 1.11: Temperature_coefficient.sce"
		   ]
		  },
  {
"cell_type": "code",
	   "execution_count": null,
	   "metadata": {
	    "collapsed": true
	   },
	   "outputs": [],
"source": [
"                          //EXAMPLE 1-11             PG NO-21\n",
"R55=58;                    //resistance\n",
"R15=50;                    //Resistance\n",
"T1=55;                  //Temperature \n",
"T2=15;                    //Temperature\n",
"A15=[(R55/R15)-1]/(T1-T2);           //alpha 15\n",
"disp('i) ALPHA (A15)   =  '+string (A15)+' ');\n",
"T3=0;\n",
"A2=A15/[1+A15*(T3-T2)];               //Alpha 2\n",
"disp('ii)  ALPHA (A2)   =  '+string (A2)+' ');\n",
"\n",
""
   ]
   }
,
{
		   "cell_type": "markdown",
		   "metadata": {},
		   "source": [
			"## Example 1.13: Resistance_total_power.sce"
		   ]
		  },
  {
"cell_type": "code",
	   "execution_count": null,
	   "metadata": {
	    "collapsed": true
	   },
	   "outputs": [],
"source": [
"                 //EXAMPLE 1-13  PG NO 21-22\n",
"R=10;  //RESISTANCE\n",
"V=230; //VOLTAGE\n",
"P=(V*V)/R;                      //POWER\n",
"disp('i) POWER = '+string (P)+' W')"
   ]
   }
,
{
		   "cell_type": "markdown",
		   "metadata": {},
		   "source": [
			"## Example 1.14: Resistance.sce"
		   ]
		  },
  {
"cell_type": "code",
	   "execution_count": null,
	   "metadata": {
	    "collapsed": true
	   },
	   "outputs": [],
"source": [
"                                         //EXAMPLE 1-14         PG NO-22\n",
"R1=4;                      //Resistance\n",
"R2=2;                      //Resistance\n",
"R3=8;                          //Resistance\n",
"RS=R1+R2;                                         //resistance  When Point A&B is short circuit\n",
"disp('i)resistance  When Point A&B is short circuit  = '+string (RS)+' ohm');\n",
"RO=R1+R2+R3;                                       //resistance  When Point A&B is   open circuit\n",
"disp('i)resistance  When Point A&B is open circuit  = '+string (RO)+' ohm');"
   ]
   }
,
{
		   "cell_type": "markdown",
		   "metadata": {},
		   "source": [
			"## Example 1.15: RESISTANCE_CURRENT.sce"
		   ]
		  },
  {
"cell_type": "code",
	   "execution_count": null,
	   "metadata": {
	    "collapsed": true
	   },
	   "outputs": [],
"source": [
"                           //EXAMPLE 1-15          PG NO-22\n",
"I1=0.04;               //CURRENT\n",
"I2=0.01;                  //CURRENT\n",
"V1=200;                   //VOLTAGE\n",
"R=V1/I1;                  //Resistance\n",
"disp('i)resistance  (R)  = '+string (R)+' ohm');\n",
"V2=10;                      //VOLTAGE\n",
"I3=50;                       //CURRENT\n",
"A=0.1;                //AMMETER RESISTANCE\n",
"R1=(V2/I3)-0.1;\n",
"disp('i)Resistance  (R1)  = '+string (R1)+' ohm');\n",
"V3=5000;\n",
"V4=250;\n",
"I=I3/V3;\n",
"disp('i)Current  (I)  = '+string (I)+' A');\n",
"R2=(V4-I3)/I;\n",
"disp('i)resistance  (R2)  = '+string (R2)+' ohm');"
   ]
   }
,
{
		   "cell_type": "markdown",
		   "metadata": {},
		   "source": [
			"## Example 1.16: ENERGY_PERCENTAGE_OF_ENERGY.sce"
		   ]
		  },
  {
"cell_type": "code",
	   "execution_count": null,
	   "metadata": {
	    "collapsed": true
	   },
	   "outputs": [],
"source": [
"                             //EXAMPLE 1-16            PG NO-23\n",
"V=1;                    //ASSUMING\n",
"t=1;                                 //ASSUMING\n",
"R1=30;                       //RESISTANCE\n",
"R2=20;\n",
"R3=10;\n",
"E30=(V/R1)*t;                            //ENERGY AT 30 ohm RESISTANCE\n",
"disp('i)    ENERGY = '+string (E30)+' ');\n",
"E20=(V/R2)*t;                         //ENERGY AT 20 ohm RESISTANCE\n",
"disp('ii)  ENERGY = '+string (E20)+' ');\n",
"E10=(V/R3)*t;                          //ENERGY AT 10 ohm RESISTANCE\n",
"disp('iii)    ENERGY = '+string (E10)+' ');\n",
"TE=E30+E20+E10;                   //TOTAL ENERGY\n",
"disp('iv)    TOTAL ENERGY = '+string (TE)+' ');\n",
"PTE=(E30/TE)*100;                   //PERCENTAGE OF TOTAL ENERGY\n",
"disp('ii)    PERCENTAGE OF TOTAL ENERGY = '+string (PTE)+'% ');"
   ]
   }
,
{
		   "cell_type": "markdown",
		   "metadata": {},
		   "source": [
			"## Example 1.17: EMF.sce"
		   ]
		  },
  {
"cell_type": "code",
	   "execution_count": null,
	   "metadata": {
	    "collapsed": true
	   },
	   "outputs": [],
"source": [
"                           //EXAMPLE 1-17           PG NO-23\n",
"N=10^3;               //Number of Turns\n",
"a=6.25*10^-4;                 //Diameter\n",
"l=0.25; \n",
"L=(N*N*4*%pi*10^-7*a)/(%pi*l);             //INDUCTANCE\n",
"disp('i)inductance = '+string (L)+' H');\n",
"e=L*100;                            //EMF\n",
"disp('ii)EMF = '+string (e)+' V')"
   ]
   }
,
{
		   "cell_type": "markdown",
		   "metadata": {},
		   "source": [
			"## Example 1.18: Inductance_of_Coil.sce"
		   ]
		  },
  {
"cell_type": "code",
	   "execution_count": null,
	   "metadata": {
	    "collapsed": true
	   },
	   "outputs": [],
"source": [
"                               //EXAMPLE 1-18           PG NO-23\n",
"E=0.05;                    //ENERGY \n",
"i=0.1;                       //CURRENT\n",
"L=2*E/i^2                    //INDUCTANCE OF COIL\n",
"disp('i)inductance = '+string (L)+' H')"
   ]
   }
,
{
		   "cell_type": "markdown",
		   "metadata": {},
		   "source": [
			"## Example 1.19: Inductance.sce"
		   ]
		  },
  {
"cell_type": "code",
	   "execution_count": null,
	   "metadata": {
	    "collapsed": true
	   },
	   "outputs": [],
"source": [
"                         //EXAMPLE 1-19      PG NO 23\n",
"i=0.184                 //derivative     of I\n",
"e=0.16;\n",
"L=e/i;                //Inductance\n",
"disp('i)Inductance = '+string (L)+' H')\n",
""
   ]
   }
,
{
		   "cell_type": "markdown",
		   "metadata": {},
		   "source": [
			"## Example 1.1: Resistance.sce"
		   ]
		  },
  {
"cell_type": "code",
	   "execution_count": null,
	   "metadata": {
	    "collapsed": true
	   },
	   "outputs": [],
"source": [
"  //CHAPTER1  EX 1-1   PG NO 17          \n",
"L=5*10^-3;   //length\n",
"B=2*10^-2;  //breath\n",
"A=(5*10^-3)*(2*10^-2);   //area\n",
"P=1.72*10^-5 ;  //resistivity of copper\n",
"R=P*L/A;   //resistance of copper\n",
"disp('i) resistance = '+string (R)+' ohm');\n",
"R=P*L/A;              //resistance in ohm"
   ]
   }
,
{
		   "cell_type": "markdown",
		   "metadata": {},
		   "source": [
			"## Example 1.20: Resistance.sce"
		   ]
		  },
  {
"cell_type": "code",
	   "execution_count": null,
	   "metadata": {
	    "collapsed": true
	   },
	   "outputs": [],
"source": [
"                       //EXAMPLE 1-20   PG NO-24\n",
"A=20*10^-6;\n",
"L=30;\n",
"P20=1.72*10^-8;\n",
"R20=P20*L/A;\n",
"X0=0.00426;\n",
"I=5;\n",
"X20=X0/[1+(X0*20)];\n",
"R55=R20*(1+X20*(55-20));\n",
"P=I*I*R55;\n",
"disp('i)RESISTANCE = '+string (R20)+' ohm');\n",
"disp('i) ALPHA 20(X20)= '+string(X20)+' ohm');\n",
"disp('i)RESISTANCE = '+string (R55)+' ohm')\n",
"disp('i)POWER = '+string (P)+' w')"
   ]
   }
,
{
		   "cell_type": "markdown",
		   "metadata": {},
		   "source": [
			"## Example 1.21: Voltage_Across_Inductor.sce"
		   ]
		  },
  {
"cell_type": "code",
	   "execution_count": null,
	   "metadata": {
	    "collapsed": true
	   },
	   "outputs": [],
"source": [
"                 //EXAMPLE 1-21              PG NO-24\n",
"L=200*10^-3;                      //INDUCTAR\n",
"t1=1;                  //di/dt=(-2e^-t+4e^-2t)=-1.9*10^-7;\n",
"V=L*(-1.94*10^-7);                   //VOLTAGE AT TIME 1\n",
"disp('i)  Voltage  = '+string (V)+'V ');\n",
"t2=0.1;                                  //di/dt=(-2e^-t+4e^-2t)^2=0.216;\n",
"V1=L*0.5*(0.216);                   //VOLTAGE AT TIME O.1\n",
"disp('ii)  Voltage  = '+string (V1)+'V ');"
   ]
   }
,
{
		   "cell_type": "markdown",
		   "metadata": {},
		   "source": [
			"## Example 1.26: Inductor.sce"
		   ]
		  },
  {
"cell_type": "code",
	   "execution_count": null,
	   "metadata": {
	    "collapsed": true
	   },
	   "outputs": [],
"source": [
"                       //EXAMPLE 1-26       PG NO 27\n",
"L1=(1.1-0.8)/0.75;                  //Inductance\n",
"disp('i)Inductance = '+string (L1)+' H')\n",
"L2=3*L1;                   //Inductance\n",
"disp('ii)Inductance = '+string (L2)+' H')\n",
"\n",
""
   ]
   }
,
{
		   "cell_type": "markdown",
		   "metadata": {},
		   "source": [
			"## Example 1.27: Flux.sce"
		   ]
		  },
  {
"cell_type": "code",
	   "execution_count": null,
	   "metadata": {
	    "collapsed": true
	   },
	   "outputs": [],
"source": [
"                  //EXAMPLE 1-27     PG NO27\n",
"L1=50*10^-3;              // Inductar\n",
"L2=100*10^-3;              //Inductar\n",
"X=(L1/L2);\n",
"disp('i)    (L1/L2) = '+string (X)+' ')\n",
"Q1+Q2=600;                 \n",
"Q11=200;         //flux\n",
"Q22=400         //flux\n",
"disp('ii) Flux   Q11 = '+string (Q11)+' mWb');\n",
"disp('iii) Flux    Q22 = '+string (Q22)+' mWb');"
   ]
   }
,
{
		   "cell_type": "markdown",
		   "metadata": {},
		   "source": [
			"## Example 1.28: Capacitor.sce"
		   ]
		  },
  {
"cell_type": "code",
	   "execution_count": null,
	   "metadata": {
	    "collapsed": true
	   },
	   "outputs": [],
"source": [
"                       //EXAMPLE 1-28      PG NO-27\n",
"C1=60;                  //TWO CAPACITOR CONNECTED IN SERIES\n",
"EC=(C1*C1)/(C1+C1);                      //EQUIVALENT CAPACITOR\n",
"disp('i)  Equivalent Cpacitor (EC) is    =  '+string (EC) +'  microF ');"
   ]
   }
,
{
		   "cell_type": "markdown",
		   "metadata": {},
		   "source": [
			"## Example 1.29: Equivalent_Capacitor.sce"
		   ]
		  },
  {
"cell_type": "code",
	   "execution_count": null,
	   "metadata": {
	    "collapsed": true
	   },
	   "outputs": [],
"source": [
"                      //EXAMPLE 1-29      PG NO-27-28\n",
"C1=12;                  //CAPACITOR\n",
"C2=4;                    //CAPACITOR\n",
"C3=8;\n",
"C4=7;\n",
"C1=(C1*C2)/(C1+C2);                      //CAPACITOR IN SEREIS\n",
"disp('i)    Capacitor = '+string (C1)+' muF')\n",
"C2=(C3*C4)/(C3+C4);                      //CAPACITOR IN PARALLEL\n",
"disp('i)    Capacitor = '+string (C2)+' muF')"
   ]
   }
,
{
		   "cell_type": "markdown",
		   "metadata": {},
		   "source": [
			"## Example 1.2: Diameter.sce"
		   ]
		  },
  {
"cell_type": "code",
	   "execution_count": null,
	   "metadata": {
	    "collapsed": true
	   },
	   "outputs": [],
"source": [
"                      //EXAMPLE 1-2   PG NO 18\n",
"R=0.69;               //RESISTANCE\n",
"P=2.83*10^-8;              //PRO\n",
"L=60;             //LENGTH OF CABLE\n",
"a=(P*L)/R;\n",
"disp('i) a = '+string (a)+' m^2');  \n",
"D=[(4*a)/%pi]^0.5;               //DIAMETER\n",
"disp('i) DIAMETER = '+string (D)+' mm');          "
   ]
   }
,
{
		   "cell_type": "markdown",
		   "metadata": {},
		   "source": [
			"## Example 1.30: VLTAGE_AND_ENERGY.sce"
		   ]
		  },
  {
"cell_type": "code",
	   "execution_count": null,
	   "metadata": {
	    "collapsed": true
	   },
	   "outputs": [],
"source": [
"                    //EXAMPLE 1-30            PG NO-28\n",
"Q=80*10^-4;   //COULUMB CHARGR\n",
"C=150*10^-6;\n",
"C1=100*10^-6;  //CAPACITANCE\n",
"C2=50*10^-6;\n",
"Va=Q/C1;\n",
"Vb=Q/C2;\n",
"E1=(0.5*C1*Va*Va)+(0.5*C2*Vb*Vb);    //ENERGY\n",
"E2=0.5*C*(Va+Vb)*(Va+Vb);\n",
"disp('i)variable = '+string (Va)+' ohm')\n",
"disp('i)variable = '+string (Vb)+' ohm')\n",
"disp('i)energy = '+string (E1)+' J')\n",
"disp('i)energy = '+string (E2)+' J')"
   ]
   }
,
{
		   "cell_type": "markdown",
		   "metadata": {},
		   "source": [
			"## Example 1.32: Current_and_Resistance.sce"
		   ]
		  },
  {
"cell_type": "code",
	   "execution_count": null,
	   "metadata": {
	    "collapsed": true
	   },
	   "outputs": [],
"source": [
"   //EXAMPLE 1-32  PG NO-29\n",
"V=10;              //VOLTAGE\n",
"R1=2;\n",
"R2=8;            //RESISTANCE\n",
"I1=V/(R1+R2);   //CURRENT\n",
"I2=1.25;        //CURRENT THROUGH SECOND BRANCH\n",
"R=V/I2-5;\n",
"disp('i)CURRENT = '+string (I1)+' A')\n",
"disp('ii)RESISTANCE = '+string (R)+' ohm')"
   ]
   }
,
{
		   "cell_type": "markdown",
		   "metadata": {},
		   "source": [
			"## Example 1.33: Introduction_of_Electric_Circuits.sce"
		   ]
		  },
  {
"cell_type": "code",
	   "execution_count": null,
	   "metadata": {
	    "collapsed": true
	   },
	   "outputs": [],
"source": [
"                  //EXAMPLE 1-33       PG NO-29-30\n",
"R1=29980;   //RESISTANCE\n",
"I1=9.99;            //current\n",
"R2=20;\n",
"I2=0.01;     //current\n",
"r=20*0.01/9.99;           //resistance\n",
"disp('i)resistance = '+string (r)+' ohm')\n",
"\n",
""
   ]
   }
,
{
		   "cell_type": "markdown",
		   "metadata": {},
		   "source": [
			"## Example 1.34: Power.sce"
		   ]
		  },
  {
"cell_type": "code",
	   "execution_count": null,
	   "metadata": {
	    "collapsed": true
	   },
	   "outputs": [],
"source": [
"                   //Example   1-34            PG  NO-30\n",
"V=20;                //VOLTAGE\n",
"R1=5;                //Resistance\n",
"X=7.5;\n",
"P=(20/(R1+X))^2*(X);                //Power\n",
"disp('i)  Power (P) is    =  '+string (P) +'  W ');"
   ]
   }
,
{
		   "cell_type": "markdown",
		   "metadata": {},
		   "source": [
			"## Example 1.35: Resistance.sce"
		   ]
		  },
  {
"cell_type": "code",
	   "execution_count": null,
	   "metadata": {
	    "collapsed": true
	   },
	   "outputs": [],
"source": [
"                             //EXAMPLE 1-35        PG NO 30-31\n",
"I1=4;                    //Current\n",
"I2=6;                      //Current\n",
"V=110;                        //Voltage\n",
"Vab1=V-(6+4)*2;\n",
"VB=80;\n",
"VC=50;\n",
"R11=(Vab1-VB)/I1;\n",
"R12=(Vab1-VC)/I2;                     \n",
"Vab2=V-(-2+20)*2;                    //Voltage\n",
"R21=(VB-Vab2)/2;                  //Resistance\n",
"R22=(Vab2-VC)/20;               //Resistance\n",
"I=(V-VB)/2;                 //Current\n",
"R=(VB-VC)/I;            //Resistance\n",
"disp('i)variable = '+string (Vab1)+' ohm')\n",
"disp('ii)resistance = '+string (R11)+' ohm')\n",
"disp('iii)resistance = '+string (R12)+' ohm')\n",
"disp('iv)variable = '+string (Vab2)+' ohm')\n",
"disp('v)resistance = '+string (R21)+' ohm')\n",
"disp('vi)resistance = '+string (R22)+' ohm')\n",
"disp('vii)    resistance    = '+string (R) + ' ohm')\n",
"disp('viii)  Current = '+string   (I) + ' A')\n",
"\n",
"\n",
""
   ]
   }
,
{
		   "cell_type": "markdown",
		   "metadata": {},
		   "source": [
			"## Example 1.36: change_flux_flux_change_voltage_energy_in_inductor.sce"
		   ]
		  },
  {
"cell_type": "code",
	   "execution_count": null,
	   "metadata": {
	    "collapsed": true
	   },
	   "outputs": [],
"source": [
"                       //EXAMPLE 1-36    PG NO-31\n",
"T=0.99425;    //TIME\n",
"disp('i)Time = '+string (T)+' seconds')\n",
"X=0.37;      //DERAVATIVES OF 'I'  W.R.T\n",
"disp('ii)(di\dt) = '+string (X)+' A\sec')\n",
"LI=0.63;     //CURRENT\n",
"dli=0.37;    // deravatives of 'SI' w.r.t\n",
"disp('iii)(dsi\dt) = '+string (dli)+' Wb-turns\sec')\n",
"VL=dli;\n",
"disp('iv)(VL) = '+string (VL)+' V')\n",
"Ri=0.63;\n",
"VR=Ri;\n",
"disp('v)VR = '+string (VR)+' V')\n",
"E=0.5*LI*LI;    //ENERGY\n",
"disp('vi)ENERGY stored in magnetic field = '+string (E)+' J')\n",
"E1=LI*v;   //ENERGY STORED IN MAGNETIC FIELD\n",
"H=Ri*Ri;     //HEAT\n",
"disp('vii) Rate of Energy stored in magnetic field = '+string (E1)+' W')\n",
"disp('viii)Rate of dissipation of heat in resistor = '+string (H)+' W')\n",
"disp('ix)Rate of supply of battery energy = '+string (Ri)+' W')"
   ]
   }
,
{
		   "cell_type": "markdown",
		   "metadata": {},
		   "source": [
			"## Example 1.37: Current.sce"
		   ]
		  },
  {
"cell_type": "code",
	   "execution_count": null,
	   "metadata": {
	    "collapsed": true
	   },
	   "outputs": [],
"source": [
"T=2000;    //TEMPERATURE\n",
"T1=15;    //ROOM TEMPERATURE\n",
"V=220;  //VOLTAGE\n",
"P=40;  //POWER\n",
"A15=0.005;\n",
"R=V*V/P;   //RESISTANCE\n",
"R15=R/(1+A15*(T-T1));   //RESISTANCE AT TIME OF SWITICHING\n",
"I=V/R15;      //CURRENT\n",
"disp('i)resistance  = '+string (R)+' ohm')\n",
"disp('ii)resistance  = '+string (R15)+' ohm')\n",
"disp('iii)current   =  '+string (I)+' A')"
   ]
   }
,
{
		   "cell_type": "markdown",
		   "metadata": {},
		   "source": [
			"## Example 1.38: Current.sce"
		   ]
		  },
  {
"cell_type": "code",
	   "execution_count": null,
	   "metadata": {
	    "collapsed": true
	   },
	   "outputs": [],
"source": [
"                    //EXAMPLE  1-38       PG NO-32\n",
"F=50;                     //Frequency\n",
"W=2*%pi*F;\n",
"disp('i)W  = '+string (W)+' rad/sec');\n",
"t=0.0025;                 //time\n",
"Vm=10;\n",
"A1=0.01;\n",
"A2=0.005;\n",
"i=[(A2*Vm^2)/2]+0.0707;\n",
"disp('ii)Current = '+string (i)+' A')\n",
"\n",
""
   ]
   }
,
{
		   "cell_type": "markdown",
		   "metadata": {},
		   "source": [
			"## Example 1.39: Insulation_resistance.sce"
		   ]
		  },
  {
"cell_type": "code",
	   "execution_count": null,
	   "metadata": {
	    "collapsed": true
	   },
	   "outputs": [],
"source": [
"                   //EXAMPLE 1-39    PG NO-32-33\n",
"V=440;               //voltage\n",
"V1=5;                  //voltage\n",
"R=40;            //resistance\n",
"V2=220;\n",
"V3=100;\n",
"Rv=(V3*R)/[V2-V3];            //insulation resistance\n",
"disp('i)Resistance (Rv) = ' + string (Rv)+' Kohm')\n",
"Ri=[Rv*(V-V1)]/V1;            //insulation resistance\n",
"disp('iii)Resistance(Ri) = '+string (Ri)+' Kohm')"
   ]
   }
,
{
		   "cell_type": "markdown",
		   "metadata": {},
		   "source": [
			"## Example 1.3: Alpha_Rise_in_Temperature.sce"
		   ]
		  },
  {
"cell_type": "code",
	   "execution_count": null,
	   "metadata": {
	    "collapsed": true
	   },
	   "outputs": [],
"source": [
"  //EXAMPLE 1-3   PG NO-18\n",
"A20=0.00393;  //ALPHA 20\n",
"R30=1.3;  //RESITANCE 30\n",
"A30=A20/(1+A20*(30-20));  //ALPHA 30\n",
"disp('i)Alpha30 (A30) = '+string (A30)+' ');\n",
"T=[((1.6/1.3)-1)/0.00378];   // THE RISE IN TEMPERATURE TO BE FIND    where T=t-30\n",
"disp('ii)Resistance Temperature (t-30) = '+string (T)+' degree celcious');\n",
"\n",
""
   ]
   }
,
{
		   "cell_type": "markdown",
		   "metadata": {},
		   "source": [
			"## Example 1.40: Resistance.sce"
		   ]
		  },
  {
"cell_type": "code",
	   "execution_count": null,
	   "metadata": {
	    "collapsed": true
	   },
	   "outputs": [],
"source": [
"                             //EXAMPLE 1-40       PG NO-33\n",
"P=1.72*10^-8;                   //PRO\n",
"t=0.03;                        //distance\n",
"R=[(4*P)/(%pi*0.03)]*0.47;              //Resistance\n",
"disp('i)    Resistance = '+string (R)+' ohm')"
   ]
   }
,
{
		   "cell_type": "markdown",
		   "metadata": {},
		   "source": [
			"## Example 1.41: Resistance.sce"
		   ]
		  },
  {
"cell_type": "code",
	   "execution_count": null,
	   "metadata": {
	    "collapsed": true
	   },
	   "outputs": [],
"source": [
"                            //EXAMPLE 1-41       PG NO-33\n",
"P=1.72*10^-8;                   //PRO\n",
"t=0.03;\n",
"R=[(P*%pi)/(4*0.03*0.47)];\n",
"disp('i)    Resistance = '+string (R)+' ohm')"
   ]
   }
,
{
		   "cell_type": "markdown",
		   "metadata": {},
		   "source": [
			"## Example 1.42: Resistance.sce"
		   ]
		  },
  {
"cell_type": "code",
	   "execution_count": null,
	   "metadata": {
	    "collapsed": true
	   },
	   "outputs": [],
"source": [
"                //EXAMPLE 1-42         PG NO-34\n",
"P=100;              //pro\n",
"L=0.5;              //inductance\n",
"r1=0.15;             //radius\n",
"r2=0.075;            //radius\n",
"R=[100/(2*%pi*L)]*(0.731);          //resistance\n",
"disp('i)    Resistance = '+string (R)+' ohm')"
   ]
   }
,
{
		   "cell_type": "markdown",
		   "metadata": {},
		   "source": [
			"## Example 1.44: voltage.sce"
		   ]
		  },
  {
"cell_type": "code",
	   "execution_count": null,
	   "metadata": {
	    "collapsed": true
	   },
	   "outputs": [],
"source": [
"                 //EXAMPLE 1-44  PG NO-36\n",
"R1=12;               //Resistance\n",
"R2=0.2;                //Resistance\n",
"R3=15; \n",
"V1=[-(R2*R3)+R1]/3;              //voltage drop \n",
"disp('i) VOLTAGE  = '+string (V1)+' V');"
   ]
   }
,
{
		   "cell_type": "markdown",
		   "metadata": {},
		   "source": [
			"## Example 1.46: current.sce"
		   ]
		  },
  {
"cell_type": "code",
	   "execution_count": null,
	   "metadata": {
	    "collapsed": true
	   },
	   "outputs": [],
"source": [
"             //EXAMPLE 1-46     PG NO37\n",
"A=[85 -25;-25 135];         // Finding current\n",
"B=[60;100];\n",
"X=A\B;             //  current\n",
"disp('i)CURRENT = '+string (X)+' A')\n",
"I1=0.977;\n",
"I2=0.922;        //WE HAVE FOUNDED  I1 and I2\n",
"I3=I1-I2;\n",
"disp('ii)CURRENT = '+string (I3)+' A')"
   ]
   }
,
{
		   "cell_type": "markdown",
		   "metadata": {},
		   "source": [
			"## Example 1.47: Resistance.sce"
		   ]
		  },
  {
"cell_type": "code",
	   "execution_count": null,
	   "metadata": {
	    "collapsed": true
	   },
	   "outputs": [],
"source": [
"            //EXAMPLE 1-48 PG NO-39-40\n",
"R1=4;                      //Resistance\n",
"R2=4;                     //Resistance\n",
"R3=8;                       //Resistance\n",
"RA=(R1*R2)/(R1+R2+R3);\n",
"disp('i)RESISTANCE = '+string (RA)+' ohm');\n",
"RB=(R1*R3)/(R1+R2+R3);\n",
"disp('ii)RESISTANCE = '+string (RB)+' ohm');\n",
"RC=(R2*R3)/(R1+R2+R3);\n",
"disp('iii)RESISTANCE = '+string (RC)+' ohm')"
   ]
   }
,
{
		   "cell_type": "markdown",
		   "metadata": {},
		   "source": [
			"## Example 1.48: Current.sce"
		   ]
		  },
  {
"cell_type": "code",
	   "execution_count": null,
	   "metadata": {
	    "collapsed": true
	   },
	   "outputs": [],
"source": [
"              //EXAMPLE 1-48 PG NO-39-40\n",
"R1=6.8;                 //Resistance\n",
"R2=15;\n",
"R3=10;\n",
"RA=(R1*R2)/(R1+R2+R3);\n",
"disp('i)RESISTANCE = '+string (RA)+' ohm');\n",
"RB=(R1*R3)/(R1+R2+R3);\n",
"disp('ii)RESISTANCE = '+string (RB)+' ohm');\n",
"RC=(R2*R3)/(R1+R2+R3);\n",
"disp('iii)RESISTANCE = '+string (RC)+' ohm')"
   ]
   }
,
{
		   "cell_type": "markdown",
		   "metadata": {},
		   "source": [
			"## Example 1.4: Current.sce"
		   ]
		  },
  {
"cell_type": "code",
	   "execution_count": null,
	   "metadata": {
	    "collapsed": true
	   },
	   "outputs": [],
"source": [
"                                   //EXAMPLE 1-4       PG NO 18-19\n",
"R1=2.22;                       //RESISTANCE\n",
"R2=0.6;                        //RESISTANCE\n",
"R3=3;                          //Resistance\n",
"R4=4;\n",
"R5=5;\n",
"R6=6;\n",
"R7=2;\n",
"R=R1+R2+R3;\n",
"disp('i) Resistance (R) is    =  '+string ([R]) +' ohm  ');\n",
"V=12;                              //VOLTAGE\n",
"I=V/R;                              //Current\n",
"disp('ii) CURRENT (I) is    =  '+string ([I]) +' A  ');\n",
"I3=I;                                                 //CURRENT THROUGH 3 ohm RESISTANCE\n",
"disp('iii) CURRENT (I3) is    =  '+string ([I3]) +' A  ');\n",
"I5=(I3*R4)/(R4+R5);                                      //CURRENT THROUGH 5 ohm RESISTANCE\n",
"disp('iv) CURRENT (I5)  is    =  '+string ([I5]) +' A  ');\n",
"I4=(I3*R5)/(R4+R5);                                  //CURRENT THROUGH 4 ohm RESISTANCE\n",
"disp('v) CURRENT (I4)  is    =  '+string ([I4]) +' A  ');\n",
"V1=1.236;                                    //VOLTAGE ACROSS THREE PARALLEL RESISTANCE \n",
"I2=V1/R7;                                         //current\n",
"disp('vi) CURRENT (I2)  is    =  '+string ([I2]) +' A  ');\n",
"I1=V1;                                               //CURRENT THROUGH 1 ohm RESISTANCE\n",
"disp('iv) CURRENT (I1)  is    =  '+string ([I1]) +' A  ');\n",
"I6=V1/R6;                                            //CURRENT THROUGH 6 ohm RESISTANCE\n",
"disp('vii) CURRENT (I6)  is    =  '+string ([I6]) +' A  ');"
   ]
   }
,
{
		   "cell_type": "markdown",
		   "metadata": {},
		   "source": [
			"## Example 1.50: voltage.sce"
		   ]
		  },
  {
"cell_type": "code",
	   "execution_count": null,
	   "metadata": {
	    "collapsed": true
	   },
	   "outputs": [],
"source": [
"              //EXAMPLE 1-50      PG NO-45\n",
"TR=17/6;                  //TOTAL RESISTANCE\n",
"V=40;                     //VOLTAGE\n",
"I=5;                       //CURRENT\n",
"Vs=(TR*I)-V;\n",
"disp('i)VOLTAGE = '+string (Vs)+' V')"
   ]
   }
,
{
		   "cell_type": "markdown",
		   "metadata": {},
		   "source": [
			"## Example 1.51: Power.sce"
		   ]
		  },
  {
"cell_type": "code",
	   "execution_count": null,
	   "metadata": {
	    "collapsed": true
	   },
	   "outputs": [],
"source": [
"                 //EXAMPLE 1-51      PG NO-45-46\n",
"TR=2.05;             //TOTAL  RESISTANCE\n",
"V=2;                 //VOLTAGE \n",
"P=V^2/TR;                          //ower\n",
"disp('i)POWER = '+string (P)+' W')"
   ]
   }
,
{
		   "cell_type": "markdown",
		   "metadata": {},
		   "source": [
			"## Example 1.52: equvalent_inductance.sce"
		   ]
		  },
  {
"cell_type": "code",
	   "execution_count": null,
	   "metadata": {
	    "collapsed": true
	   },
	   "outputs": [],
"source": [
"                  //EXAMPLE  1-52    PG NO-46\n",
"L1=1;\n",
"L2=1;\n",
"L3=1;                //INDUCTANCE\n",
"DL1=[(L1*L2)+(L2*L3)+(L3*L1)]/(L1*L2*L3);\n",
"disp('i)DELTA INDUCTANCE = '+string (DL1)+' H')\n",
"L4=1.5;\n",
"L5=1.5;                   //Inductance\n",
"L6=1.5;\n",
"L=[L4*(L5+L6)]/[L4+L5+L6];\n",
"disp('ii)INDUCTANCE = '+string (L)+' H')"
   ]
   }
,
{
		   "cell_type": "markdown",
		   "metadata": {},
		   "source": [
			"## Example 1.53: equvalent_resistance.sce"
		   ]
		  },
  {
"cell_type": "code",
	   "execution_count": null,
	   "metadata": {
	    "collapsed": true
	   },
	   "outputs": [],
"source": [
"               //EXAMPLE 1-53         PG NO-46-47\n",
"R1=200;                //RESISTANCE\n",
"R2=50;\n",
"R3=30;\n",
"R4=20;\n",
"Rab=[R1*(R2+R3+R4)]/(R1+R2+R3+R4);                //equvalent    resistance\n",
"disp('i)RESISTANCE = '+string (Rab)+' ohm')"
   ]
   }
,
{
		   "cell_type": "markdown",
		   "metadata": {},
		   "source": [
			"## Example 1.5: Power_and_Resistance.sce"
		   ]
		  },
  {
"cell_type": "code",
	   "execution_count": null,
	   "metadata": {
	    "collapsed": true
	   },
	   "outputs": [],
"source": [
"                    //EXAMPLE 1-5  PG NO-19\n",
"V1=230;  //VOLTAGE  ONE\n",
"P1=1000;   //POWER\n",
"R=V1*V1/P1;   //RESISTANCE OF HEATER\n",
"V2=210;  //VOLTAGE  TWO\n",
"P2=V2*V2/R;      //POWER OF HEATER WHEN VOLTAGE IS 210\n",
"R=(V1*V1)/P1                //Resistance\n",
"disp('i)RESISTANCE = '+string (R)+' ohm');\n",
"P2=(V2*V2)/R;                 //Power\n",
"disp('ii)POWER = '+string (P2)+' ohm');\n",
""
   ]
   }
,
{
		   "cell_type": "markdown",
		   "metadata": {},
		   "source": [
			"## Example 1.6: cost_quantity_of_electricity_number_of_electron_rate_of_electrical_energy.sce"
		   ]
		  },
  {
"cell_type": "code",
	   "execution_count": null,
	   "metadata": {
	    "collapsed": true
	   },
	   "outputs": [],
"source": [
"      //EXAMPLE 1-6   PG NO-19-20\n",
"I=12;  //CURRENT\n",
"V=230;  //VOLTAGE\n",
"P=1000;  //POWER\n",
"T=3;  //TIME\n",
"S=3600;\n",
"E=(I*V/P)*T;  //ENERGY USED\n",
"Q=I*T*S;  //QUANTITY OF ELECTRICITY USED\n",
"IC=6.24*10^18; \n",
"N.C=IC*Q;  //NUMBER OF ELECTRON\n",
"R=I*V;  //RATE OF ENERGY\n",
"disp('i) ENERGY = '+string (E)+' KWh');\n",
"disp('ii) QUANTITY = '+string (Q)+' C');\n",
"disp('iiI) NUMBER OF ELECTRON = '+string (N.C)+' ');\n",
"disp('iiII) RATE OF ENERGY = '+string (R)+' W');"
   ]
   }
,
{
		   "cell_type": "markdown",
		   "metadata": {},
		   "source": [
			"## Example 1.7: Power_current_voltage.sce"
		   ]
		  },
  {
"cell_type": "code",
	   "execution_count": null,
	   "metadata": {
	    "collapsed": true
	   },
	   "outputs": [],
"source": [
"                     //Example 1_7  PG NO-20\n",
"I1=3;        //current\n",
"I2=1;        //current\n",
"R=4;        //Resistor\n",
"I=I1-I2;   //current through resistance\n",
"disp('i)Current Through resistance (I) = '+string (I)+' A');\n",
"P=I*I*R;\n",
"disp('ii)Power dissipated in resistor (P) = '+string (P)+' W');\n",
"V=I*R;\n",
"disp('iii)voltage (V) = '+string (V)+' V');\n",
"P1=V*I1;         //power dissipated with 3A source\n",
"disp('iv)power dissipated with 3A source (P1) = '+string (P1)+' W');\n",
"\n",
""
   ]
   }
],
"metadata": {
		  "kernelspec": {
		   "display_name": "Scilab",
		   "language": "scilab",
		   "name": "scilab"
		  },
		  "language_info": {
		   "file_extension": ".sce",
		   "help_links": [
			{
			 "text": "MetaKernel Magics",
			 "url": "https://github.com/calysto/metakernel/blob/master/metakernel/magics/README.md"
			}
		   ],
		   "mimetype": "text/x-octave",
		   "name": "scilab",
		   "version": "0.7.1"
		  }
		 },
		 "nbformat": 4,
		 "nbformat_minor": 0
}
