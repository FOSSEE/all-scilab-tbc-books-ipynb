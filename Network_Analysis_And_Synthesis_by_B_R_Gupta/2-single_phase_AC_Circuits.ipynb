{
"cells": [
 {
		   "cell_type": "markdown",
	   "metadata": {},
	   "source": [
       "# Chapter 2: single phase AC Circuits"
	   ]
	},
{
		   "cell_type": "markdown",
		   "metadata": {},
		   "source": [
			"## Example 2.100: Self_Inductance_Mutual_Inductance_Coefficient_of_coupling.sce"
		   ]
		  },
  {
"cell_type": "code",
	   "execution_count": null,
	   "metadata": {
	    "collapsed": true
	   },
	   "outputs": [],
"source": [
"                          //example 2.100     pg no-141\n",
"L1=15;\n",
"L2=35;\n",
"M=10;\n",
"K=M/((L1*L2)^0.5);           //coefficient of coupling\n",
"disp('i) COEFFICENT OF CUPLING  (K) = '+string (K)+' ')"
   ]
   }
,
{
		   "cell_type": "markdown",
		   "metadata": {},
		   "source": [
			"## Example 2.102: Equivalent_Inductance.sce"
		   ]
		  },
  {
"cell_type": "code",
	   "execution_count": null,
	   "metadata": {
	    "collapsed": true
	   },
	   "outputs": [],
"source": [
"                           //EXAMPLE 2-102        PG NO-142\n",
"L1=0.3;\n",
"L2=0.8;                //INDUCTANCE\n",
"K=0.7;\n",
"M=K*sqrt(L1*L2);\n",
"disp('i)  M (M) is    =  '+string (M) +'  H ');\n",
"Lp=[(L1*L2)-M^2]/[L1+L2-(2*M)];\n",
"disp('ii)  Lp (Lp) is    =  '+string (Lp) +'  H ');"
   ]
   }
,
{
		   "cell_type": "markdown",
		   "metadata": {},
		   "source": [
			"## Example 2.103: Equivalent_Inductance.sce"
		   ]
		  },
  {
"cell_type": "code",
	   "execution_count": null,
	   "metadata": {
	    "collapsed": true
	   },
	   "outputs": [],
"source": [
"         //Example 2-103         pg no-142\n",
"L1=10;\n",
"L2=5;\n",
"L3=6;\n",
"M12=2;\n",
"M23=1;\n",
"M13=1;\n",
"X=1    //   X=di/dt\n",
"V1=(L1*X)+(M12*X)+(M13*X);\n",
"V2=(M12*X)+(L2*X)+(M23*X);\n",
"V3=(-M13*X)+(-M23*X)+(L3*X);\n",
"V=V1+V2+V3;\n",
"Ls=L1+L2+L3+(2*M12)-(2*M23)-(2*M13);\n",
"disp('i) V1 = '+string (V1)+' ')\n",
"disp('ii) V2 = '+string (V2)+' ')\n",
"disp('iii) V3 = '+string (V3)+' ')\n",
"disp('iv) V = '+string (V)+' ')\n",
"disp('v)equivlent indutance (Ls) = '+string (Ls)+' mH')"
   ]
   }
,
{
		   "cell_type": "markdown",
		   "metadata": {},
		   "source": [
			"## Example 2.104: Self_Inductance_Total_Inductance_Energy.sce"
		   ]
		  },
  {
"cell_type": "code",
	   "execution_count": null,
	   "metadata": {
	    "collapsed": true
	   },
	   "outputs": [],
"source": [
"   // Example-2.104   pg no-143\n",
"L=38.5*10^-3;\n",
"La=100*10^-3;\n",
"Lb=53.8*10^-3;            \n",
"C=0.3;                     //CAPACITOR\n",
"i=3;\n",
"M=(C*L);     \n",
"E1=(0.5*La*(3^2));       //energy in seriesauding connection\n",
"E2=(0.5*Lb*(i^2));       //ENERGY IN SERIES OPPOSING CONNECTION\n",
"disp('i) M = '+string (M)+' H')\n",
"disp('i) ENERGY aiding = '+string (E1)+' J')\n",
"disp('i) ENERGY opposing = '+string (E2)+' J')\n",
"\n",
"\n",
"   "
   ]
   }
,
{
		   "cell_type": "markdown",
		   "metadata": {},
		   "source": [
			"## Example 2.105: Self_Inductance_Mutual_Inductance_Turns_of_coil.sce"
		   ]
		  },
  {
"cell_type": "code",
	   "execution_count": null,
	   "metadata": {
	    "collapsed": true
	   },
	   "outputs": [],
"source": [
"                        //EXAMPLE-2.105     PG-NO143\n",
"N1=250;     //number of  turn\n",
"I1=2;      //current\n",
"Q1=0.3*10^-3;            //phi\n",
"L1=(N1*Q1)/I1;\n",
"V2=63.75;\n",
"K=0.85;\n",
"x=10^3;     //x=di/dt\n",
"M=V2/x;\n",
"L2=((V2/K)^2)/((37.510^-3)^0.5);\n",
"Q12=0.255*10^-3;\n",
"y=1.275*10^-7;    //y=dQ12/dt\n",
"N2=V2/y\n",
";\n",
"disp('i) L1 = '+string (L1)+' Tesla')\n",
"disp('ii) M = '+string (M)+' ')\n",
"disp('iii) L2 = '+string (L2)+' ')\n",
"disp('iv) N2 = '+string (N2)+'')"
   ]
   }
,
{
		   "cell_type": "markdown",
		   "metadata": {},
		   "source": [
			"## Example 2.106: Resonant_Frequency_Current.sce"
		   ]
		  },
  {
"cell_type": "code",
	   "execution_count": null,
	   "metadata": {
	    "collapsed": true
	   },
	   "outputs": [],
"source": [
"                        //EXAMPLE-2.106     PG NO-144\n",
"Fo=35.59;      //frequency in HZ\n",
"V=50;\n",
"R=100;\n",
"I=V/R;\n",
"L=0.5;\n",
"XL=(2*%pi*Fo*L);\n",
"V.I=XL*L;    //VOLTAGE ACROSS INDUCTION\n",
"XC=XL;\n",
"Q=XC/R;\n",
"S=L/Q;\n",
"W2=323.55;     //UPPER HALF REQUENCY\n",
"W1=123.65;      //LOWER HAL FREQUENCY\n",
"B.W=W2-W1;     //  BAND WIDTH\n",
"disp('i) INDUCTION  = '+string (XL)+ ' ohm ');\n",
"disp('i)VOLTAGE ACROSS INDUCTION   = '+string (V.I)+ ' V ');\n",
"disp('i) Q  = '+string (Q)+ ' ');\n",
"disp('i) REQUENCY  = '+  string   (S)+     ' ohm ');\n",
"disp('i) BAND WIDTH  = ' +string (B.W)  +  ' rad/sec');\n",
"        \n",
" "
   ]
   }
,
{
		   "cell_type": "markdown",
		   "metadata": {},
		   "source": [
			"## Example 2.107: Average_Value_RMS_Value.sce"
		   ]
		  },
  {
"cell_type": "code",
	   "execution_count": null,
	   "metadata": {
	    "collapsed": true
	   },
	   "outputs": [],
"source": [
"                       //EXAMPLE 2-107          PG NO-145\n",
"Vm=100;\n",
"RMS=Vm/{sqrt(3)};\n",
"disp('i)  RMS (RMS) is    =  '+string (RMS) +' ');\n",
"AVG=50;\n",
"FF=RMS/AVG;\n",
"disp('ii)   Form Factor (FF) is    =  '+string (FF) +'   ');"
   ]
   }
,
{
		   "cell_type": "markdown",
		   "metadata": {},
		   "source": [
			"## Example 2.108: RMS.sce"
		   ]
		  },
  {
"cell_type": "code",
	   "execution_count": null,
	   "metadata": {
	    "collapsed": true
	   },
	   "outputs": [],
"source": [
"     //EXAMPLE 2-108   PG NO-146\n",
"I1=(100/1.414)^2;\n",
"I2=(10/1.414)^2;\n",
"R.M.S=(I1+I2)^0.5;\n",
"disp('R.M.S VALUE is = '+string(R.M.S)+' A');"
   ]
   }
,
{
		   "cell_type": "markdown",
		   "metadata": {},
		   "source": [
			"## Example 2.109: Real_Power_Reactive_Power_Power_Factor.sce"
		   ]
		  },
  {
"cell_type": "code",
	   "execution_count": null,
	   "metadata": {
	    "collapsed": true
	   },
	   "outputs": [],
"source": [
"                   //EXAMPLE 2-109          PG NO-146\n",
"V=200;\n",
"I=10;\n",
"W=314;\n",
"Z=V/I;\n",
"disp('i)   IMPEDANCE (Z) is    =  '+string (Z) +' ohm ');\n",
"R=Z*0.707;\n",
"disp('ii)   RESISTANCE (R) is    =  '+string (R) +' ohm ');\n",
"XC=Z*0.707;\n",
"disp('iv)   INDUCTANCE (XC) is   =  '+string (XC) +' ohm ');\n",
"C=1/(W*XC);\n",
"disp('iv)   CAPACITOR (C) is    =  '+string (C) +' F ');\n",
"P=V*I*0.707;\n",
"disp('i) Active Power (P) is  in polar form   =  '+string (P) +'  W ');\n",
"Q=V*I*0.707;\n",
"disp('i) Reactive Power (Q) is   in  polar form  =  '+string (Q) +'  Var ');"
   ]
   }
,
{
		   "cell_type": "markdown",
		   "metadata": {},
		   "source": [
			"## Example 2.10: rms.sce"
		   ]
		  },
  {
"cell_type": "code",
	   "execution_count": null,
	   "metadata": {
	    "collapsed": true
	   },
	   "outputs": [],
"source": [
"          //EXAMPLE 2-10  PG NO-66\n",
"I1=5;                  //current\n",
"I2=7.071;                //current\n",
"RMS=(I1*I1+I2*I2)^0.5;          //resultant       rms value\n",
"disp('i) RMS   =  '+string (RMS)+'A ')"
   ]
   }
,
{
		   "cell_type": "markdown",
		   "metadata": {},
		   "source": [
			"## Example 2.111: Total_Power_Factor_Total_Active_and_Reactive_Power.sce"
		   ]
		  },
  {
"cell_type": "code",
	   "execution_count": null,
	   "metadata": {
	    "collapsed": true
	   },
	   "outputs": [],
"source": [
"                        //EXAMPLE 2-111         PG NO-147\n",
"VCB=2.49-%i*12.50;\n",
"R=4+%i*2;\n",
"I1=VCB/R;\n",
"disp('i) CURRENT  (I1) is  in polar form  =  '+string (I1) +' A ');\n",
"I2=2.5+%i*0;\n",
"I=I1+I2;\n",
"disp('i) CURRENT  (I) is  in polar form  =  '+string (I) +' A ');\n",
"VAC=11.8-%i*0.12;\n",
"VCB=2.5-%i*12.5;\n",
"VAB=VAC+VCB;\n",
"disp('i) VOLTAGE  (VAB) is  in polar form  =  '+string (VAB) +' V ')"
   ]
   }
,
{
		   "cell_type": "markdown",
		   "metadata": {},
		   "source": [
			"## Example 2.112: impedance_resistance_reactance.sce"
		   ]
		  },
  {
"cell_type": "code",
	   "execution_count": null,
	   "metadata": {
	    "collapsed": true
	   },
	   "outputs": [],
"source": [
"            //EXAMPLE 2-112        PG NO-148\n",
"I=5;\n",
"R=25;\n",
"Z=50;\n",
"Z1=40;\n",
"R1=[Z^2-R^2-1600]/50;\n",
"disp('i) RESISTANCE  (R1) is    =  '+string (R1) +' ohm ')\n",
"X1=[1600-R1^2]^0.5;\n",
"disp('ii) INDUCTANCE  (X1) is    =  '+string (X1) +' ohm ')\n",
"Pc=I*I*R1;\n",
"disp('iii)  Power (Pc) is     =  '+string (Pc) +'  W ');\n",
"P=I*I*(R+R1);\n",
"disp('iv)  Power (P) is    =  '+string (P) +'  W ');"
   ]
   }
,
{
		   "cell_type": "markdown",
		   "metadata": {},
		   "source": [
			"## Example 2.113: Resonant_Frequency_Dynamic_Resistance_Band_width.sce"
		   ]
		  },
  {
"cell_type": "code",
	   "execution_count": null,
	   "metadata": {
	    "collapsed": true
	   },
	   "outputs": [],
"source": [
"    //example-2.113  pg no -149\n",
"Wo=9.798*10^3;\n",
"Fo=1559.39;\n",
"C=2;\n",
"R=10*10^-6;\n",
"L=10^-3;\n",
"D.R=L/(C*R);     //DYNAMIC RESISTANCE\n",
"Q=(1/C)*((L/R)^0.5);   \n",
"B.W=Wo/Q;   //BAND WIDTH\n",
"disp('i) DYNAMIC RESISTANCE  = '+string (D.R)+ ' ohm ');\n",
"disp('ii) Q  = '+string (Q)+' ');\n",
"disp('iii) BAND WIDTH  = '+string (B.W)+'rad/sec ');\n",
"    "
   ]
   }
,
{
		   "cell_type": "markdown",
		   "metadata": {},
		   "source": [
			"## Example 2.11: INSTANTANEOUS_VALUE.sce"
		   ]
		  },
  {
"cell_type": "code",
	   "execution_count": null,
	   "metadata": {
	    "collapsed": true
	   },
	   "outputs": [],
"source": [
"             //EXAMPLE 2-11     PG NO-66\n",
"W=314.16;\n",
"PV=14.14;                  //PEAK VALUE\n",
"t=0.0025;                  //TIME\n",
"i=PV*sin(W*t);            //CURRENT\n",
"T=0.0175;              //TOTAL TIME\n",
"I=PV*sin(W*T);\n",
"disp('ii)   CURRNT (i) is    =  '+string (i) +'   ');\n",
"disp('ii)   CURRNT (I) is    =  '+string (I) +'   ');"
   ]
   }
,
{
		   "cell_type": "markdown",
		   "metadata": {},
		   "source": [
			"## Example 2.12: current.sce"
		   ]
		  },
  {
"cell_type": "code",
	   "execution_count": null,
	   "metadata": {
	    "collapsed": true
	   },
	   "outputs": [],
"source": [
"                 //EXAMPLE 2-12         PG NO-66-67\n",
"W1=80*%pi;              //womega\n",
"W2=100*%pi;\n",
"PV=14.14;            //peak value\n",
"t1=0.025;             //time\n",
"t2=0.05;\n",
"t3=0.075;\n",
"I1=PV*(cos(80*%pi*t1)+cos(100*%pi*t1));                  //current\n",
"I2=PV*(cos(80*%pi*t2)+cos(100*%pi*t2));                   //current\n",
"I3=PV*(cos(80*%pi*t3)+cos(100*%pi*t3));                   //current\n",
"disp('ii)   CURRNT (I) is    =  '+string (I1) +'  A');\n",
"disp('ii)   CURRNT (I) is    =  '+string (I2) +' A  ');\n",
"disp('ii)   CURRNT (I) is    =  '+string (I3) +'  A ');"
   ]
   }
,
{
		   "cell_type": "markdown",
		   "metadata": {},
		   "source": [
			"## Example 2.13: Average_Value_of_Voltage.sce"
		   ]
		  },
  {
"cell_type": "code",
	   "execution_count": null,
	   "metadata": {
	    "collapsed": true
	   },
	   "outputs": [],
"source": [
"                   //EXAMPLE 2-13        PG NO-67\n",
"T=20*10^-3;                 //TIME PERIOD\n",
"Ta=300*10^-3;              //TOTAL AREA\n",
"A=(Ta)/T;                  //AVERAGE VALUE\n",
"disp('ii)   AVERAGE VALUE (A) is    =  '+string (A) +'  V ');"
   ]
   }
,
{
		   "cell_type": "markdown",
		   "metadata": {},
		   "source": [
			"## Example 2.14: Effective_Value_Form_Factor.sce"
		   ]
		  },
  {
"cell_type": "code",
	   "execution_count": null,
	   "metadata": {
	    "collapsed": true
	   },
	   "outputs": [],
"source": [
"               //EXAMPLE 2-14       PG NO-67\n",
"Ta=5;                       //TOTAL  AREA\n",
"T=20*10^-3;                //TIME\n",
"Av=Ta/T;                  //AVERAGE  VALUE\n",
"Ev=[Av]^0.5;              //EFFECTIVE VALUE\n",
"FF=Ev/15;                  //FORM FACTOR\n",
"disp('ii)   AVERAGE VALUE (Av) is    =  '+string (Av) +'   ');\n",
"disp('ii)   EFFECTIVE VALUE (Ev) is    =  '+string (Ev) +'  V ');\n",
"disp('ii)   FORM FACTOR (FF) is    =  '+string (FF) +'   ');"
   ]
   }
,
{
		   "cell_type": "markdown",
		   "metadata": {},
		   "source": [
			"## Example 2.15: Average_Value_Effective_Value_Form_Factor.sce"
		   ]
		  },
  {
"cell_type": "code",
	   "execution_count": null,
	   "metadata": {
	    "collapsed": true
	   },
	   "outputs": [],
"source": [
"Eav=50;                    //in volts\n",
"T=2;                     //time\n",
"E=[(1/T)*2500*2.66]^0.5;                //energy           //integrate('0','t',2)=2.66                                           \n",
"disp('i) Energy  = '+string (E)+'V ');\n",
"FF=E/Eav;                                   //form factor\n",
"disp('i) Form Factor  = '+string (FF)+' ');"
   ]
   }
,
{
		   "cell_type": "markdown",
		   "metadata": {},
		   "source": [
			"## Example 2.16: ENERGY_FORM_FACTOR.sce"
		   ]
		  },
  {
"cell_type": "code",
	   "execution_count": null,
	   "metadata": {
	    "collapsed": true
	   },
	   "outputs": [],
"source": [
"                          //EXAMPLE 2-16          PG NO 68\n",
"Eav=2.5;                  //AVERAGE ENERGY\n",
"E=8.333;\n",
"disp('i)   ENERGY (E) is    =  '+string (sqrt(E)) +' V  ');\n",
"FF=sqrt(E)/Eav;\n",
"disp('ii)   Form  Factor (FF) is    =  '+string (FF) +'   ');"
   ]
   }
,
{
		   "cell_type": "markdown",
		   "metadata": {},
		   "source": [
			"## Example 2.17: RMS.sce"
		   ]
		  },
  {
"cell_type": "code",
	   "execution_count": null,
	   "metadata": {
	    "collapsed": true
	   },
	   "outputs": [],
"source": [
"                  //EXAMPLE 2-17       PG NO-69\n",
"I1=10;                     //CURRENT\n",
"I2=-4;\n",
"I3=2;\n",
"I4=0;\n",
"T=8;                   //TIME\n",
"Irms=[({I1*I1*2}+{I2*I2*2}+{I3*I3*2}+{I4*I4*2})/T]^0.5;          //RMS\n",
"disp('ii)   CURRENT R.M.S (Irms) is    =  '+string (Irms) +'  A ');"
   ]
   }
,
{
		   "cell_type": "markdown",
		   "metadata": {},
		   "source": [
			"## Example 2.1: average_value_RMS_Value_Form_Factor_Peak_Factor_RMS_Value_of_sine_wave.sce"
		   ]
		  },
  {
"cell_type": "code",
	   "execution_count": null,
	   "metadata": {
	    "collapsed": true
	   },
	   "outputs": [],
"source": [
"                //EXAMPLE-2-1              EXAMPLE-59\n",
"t=0.5; \n",
"x=115; \n",
"z=310.6                  //time\n",
"A.V=0.2*x;  //average value\n",
"R.M.S=(1/10)*z;                         //rms value\n",
"F=R.M.S/A.V;                          //form factor\n",
"P.F=60/R.M.S;                     //peak  factor\n",
"S=60/(2)^0.5;                      //rms value of  sine wave\n",
"disp('i)R.M.S   =  '+string (R.M.S)+' V')\n",
"disp('i) average value   =  '+string (A.V)+' V')\n",
"disp('i)orm factor   =  '+string (F)+' ')\n",
"disp('i peak factor   =  '+string (P.F)+' ')\n",
"disp('i)sine wave   =  '+string (S)+' V')\n",
"\n",
""
   ]
   }
,
{
		   "cell_type": "markdown",
		   "metadata": {},
		   "source": [
			"## Example 2.20: Voltage.sce"
		   ]
		  },
  {
"cell_type": "code",
	   "execution_count": null,
	   "metadata": {
	    "collapsed": true
	   },
	   "outputs": [],
"source": [
"                          //EXAMPLE 2-20                PG NO-70\n",
"T=0.03;                    //TIME\n",
" // (1000*integrate('0','t',0.01,0.01))^2=-0.333\n",
" //100*integrate('0.01','t',0.02,0.02)=-1\n",
" //integrate('0.02', '',0.03,0.03)]=0\n",
"V=(-0.33-1)/T;\n",
"disp('i) Voltage  (V) is   =  '+string (V) +' V ');\n",
"disp('i) Square Root of Voltage  (V) is   =  '+string (sqrt(-V)) +' seconds ');"
   ]
   }
,
{
		   "cell_type": "markdown",
		   "metadata": {},
		   "source": [
			"## Example 2.21: Voltage.sce"
		   ]
		  },
  {
"cell_type": "code",
	   "execution_count": null,
	   "metadata": {
	    "collapsed": true
	   },
	   "outputs": [],
"source": [
"                       //EXAMPLE 2-21                PG NO-70\n",
"T=0.05;                    //TIME\n",
" // (400*integrate('0','t',0.025,))^2=--0.8333\n",
" //100*integrate('0.01','t',0.02,0.02)=-1.738\n",
"V=(-0.833-1.738*10^-86)/T;\n",
"disp('i) Voltage  (V) is   =  '+string (V) +' V ');\n",
"disp('i) Square Root of Voltage  (V) is   =  '+string (sqrt(-V)) +' seconds ');"
   ]
   }
,
{
		   "cell_type": "markdown",
		   "metadata": {},
		   "source": [
			"## Example 2.22: Average.sce"
		   ]
		  },
  {
"cell_type": "code",
	   "execution_count": null,
	   "metadata": {
	    "collapsed": true
	   },
	   "outputs": [],
"source": [
"                   //EXAMPLE 2-22     PG NO-70-71\n",
"A=%pi/2;\n",
"                         //integrate(wt)=%pi/6\n",
"Eavg=1/A*(%pi+%pi)/6;\n",
"disp('i) Average Energy  (Eavg) is   =  '+string (Eavg) +' Em ');"
   ]
   }
,
{
		   "cell_type": "markdown",
		   "metadata": {},
		   "source": [
			"## Example 2.23: Average_Energy.sce"
		   ]
		  },
  {
"cell_type": "code",
	   "execution_count": null,
	   "metadata": {
	    "collapsed": true
	   },
	   "outputs": [],
"source": [
"          //EXAMPLE 2-23     PG NO-71\n",
"A=%pi/2;\n",
"                         //[integrate('0',wt,'%pi/3')]^2=%pi/9\n",
"                         //integrate('%pi/3',wt,'%pi/2')=%pi/6;\n",
"E=1/A*[(%pi/9)+(%pi/6)];\n",
"disp('i)  Energy  (E) is   =  '+string (E) +'  ');\n",
"disp('ii) Square Energy  (E) is   =  '+string (sqrt(E)) +'  ');\n",
"FF=[sqrt(E)*3]/2;\n",
"disp('iii)  FORM FACTOR  (FF) is   =  '+string (FF) +'  ');"
   ]
   }
,
{
		   "cell_type": "markdown",
		   "metadata": {},
		   "source": [
			"## Example 2.24: Current.sce"
		   ]
		  },
  {
"cell_type": "code",
	   "execution_count": null,
	   "metadata": {
	    "collapsed": true
	   },
	   "outputs": [],
"source": [
"                //EXAMPLE 2-24   PG NO 71\n",
"//integration of   is=1008sinQ^2=0.5\n",
"I=150                    //CURRENT\n",
"disp('i)  CURRENT  (I^2) is   =  '+string (I) +' A ');\n",
"disp('ii)  CURRENT  (I) is   =  '+string (sqrt(I)) +' A ');"
   ]
   }
,
{
		   "cell_type": "markdown",
		   "metadata": {},
		   "source": [
			"## Example 2.25: VOLTAGE.sce"
		   ]
		  },
  {
"cell_type": "code",
	   "execution_count": null,
	   "metadata": {
	    "collapsed": true
	   },
	   "outputs": [],
"source": [
"                  //EXAMPLE 2-25  PG NO-72\n",
"V1=50+%i*0;\n",
"V2=37.5-%i*64.95;\n",
"X=V1+V2;              //ADDITION  OF V1&V2\n",
"disp('ii)   ADDITION (X) is  in polar form  =  '+string (X) +'  V ');"
   ]
   }
,
{
		   "cell_type": "markdown",
		   "metadata": {},
		   "source": [
			"## Example 2.26: Reading_of_moving_coil_Reading_of_hot_wire_Total_Power_Power_dissipated.sce"
		   ]
		  },
  {
"cell_type": "code",
	   "execution_count": null,
	   "metadata": {
	    "collapsed": true
	   },
	   "outputs": [],
"source": [
"                       //EXAMPLE 2-26       PG NO-72\n",
"V=200;\n",
"R=100;\n",
"R1=500;\n",
"R2=0.9009;                      //resistance\n",
"RMS1=V/(R+R);                      //RMS\n",
"disp('ii)   CURRENT R.M.S  in forward (R.M.S.1) is    =  '+string (RMS1) +'  A ');\n",
"RMS2=-V/(R+R1);\n",
"disp('ii)   CURRENT R.M.S  in Backward (R.M.S.2) is    =  '+string (RMS2) +'  A ');\n",
"I1=RMS1*R2;                            //Current\n",
"disp('ii)  Average CURRENT   in forward (I1) is    =  '+string (I1) +'  A ');\n",
"I2=RMS2*R2;\n",
"disp('ii) Average  CURRENT   in Backward (I2) is    =  '+string (I2) +'  A ');\n",
"A=[I1+I2]/2;                         //Ammeter\n",
"disp('ii)   Reading of moving coil ammeter (A) is    =  '+string (A) +'  A ');\n",
"H.A=[0.5*[RMS1+(RMS2)^2]]^0.5;                   //HOT AMMETER\n",
"disp('ii)   Reading of hot wire ammeter (H.A) is    =  '+string (H.A) +'  A ');\n",
"P=0.5*[(RMS1*V)+(RMS2*RMS2*600)];                      //POWER\n",
"disp('ii)   TOTAL AVERAGE POWER (P) is    =  '+string (P) +'  W ');\n",
"P1=0.5*[(RMS1*R)+(RMS2*RMS2*R1)];\n",
"disp('ii)   TOTAL  POWER  dissipated in rectifier (P) is    =  '+string (P1) +'  W ');"
   ]
   }
,
{
		   "cell_type": "markdown",
		   "metadata": {},
		   "source": [
			"## Example 2.27: CURRENT_POWER_DISSIPATED_INSTANTANEOUS_CURRENT.sce"
		   ]
		  },
  {
"cell_type": "code",
	   "execution_count": null,
	   "metadata": {
	    "collapsed": true
	   },
	   "outputs": [],
"source": [
"       //EXAMPLE 2-27  PG NO 74\n",
"F=50\n",
"V=230;           //voltage\n",
"R=20;            //resisance\n",
"I=V/R;           //current\n",
"P=V*I;           //power\n",
"Im=I*1.414;         //Maximum current\n",
"W=2*%pi*F;\n",
"disp(' current  is    = '+string(I)+' A');\n",
"disp(' POWER  is    = '+string(P)+' W');\n",
"disp(' MAXIMUM CURENT is    = '+string(Im)+' A');\n",
"disp(' W  is    = '+string(W)+' ');\n",
""
   ]
   }
,
{
		   "cell_type": "markdown",
		   "metadata": {},
		   "source": [
			"## Example 2.28: FREQUENCY.sce"
		   ]
		  },
  {
"cell_type": "code",
	   "execution_count": null,
	   "metadata": {
	    "collapsed": true
	   },
	   "outputs": [],
"source": [
"    //EXAMPLE 2-28  PG NO-76\n",
"F=50;   //Frequency\n",
"L=0.2;  //inductance\n",
"XL1=500;\n",
"XL=(2*%pi*F*L);          \n",
"f=XL1/(2*%pi*L);                 //FREQUENCY\n",
"disp(' XL  is    = '+string(XL)+' ohms');\n",
"disp(' frequency  is    = '+string(f)+' Hz');"
   ]
   }
,
{
		   "cell_type": "markdown",
		   "metadata": {},
		   "source": [
			"## Example 2.29: Capacitive_Reactance_susceptance_and_current.sce"
		   ]
		  },
  {
"cell_type": "code",
	   "execution_count": null,
	   "metadata": {
	    "collapsed": true
	   },
	   "outputs": [],
"source": [
"      //EXAMPLE 2-29  PG NO=77-78\n",
"V=230;\n",
"F=50;       //Frequency\n",
"C=10*10^-6;    //Capacitor\n",
"Xc=1/(%pi*2*F*C);\n",
"Bc=1/Xc;\n",
"I=V/Xc;                       //susceptance  current\n",
"disp(' Xc  is    = '+string(Xc)+' ohms');\n",
"disp(' Bc  is    = '+string(Bc)+' siemens');\n",
"disp(' Current  is    = '+string(I)+' A');\n",
""
   ]
   }
,
{
		   "cell_type": "markdown",
		   "metadata": {},
		   "source": [
			"## Example 2.30: EX2_30.sce"
		   ]
		  },
  {
"cell_type": "code",
	   "execution_count": null,
	   "metadata": {
	    "collapsed": true
	   },
	   "outputs": [],
"source": [
"                         //EXAMPLE 2-30     PG NO-81-82\n",
"V=230+%i*0;\n",
"F=50;\n",
"L=0.03;\n",
"R=20;\n",
"XL=2*%pi*F*L;\n",
"disp('i)   INDUCTANCE (XL) is  in polar form  =  '+string (XL) +'  ohm ');\n",
"Z=R+%i*XL;\n",
"disp('ii)   IMPEDANCE (Z) is  in polar form  =  '+string (Z) +'  ohm ');\n",
"Y=1/Z;\n",
"disp('iii)  ADMITTANCE (Y) is  in polar form  =  '+string (Y) +'  siemens ');\n",
"I=V/Z;\n",
"disp('iv)   CURRENT (I) is in polar form   =  '+string (I) +'  A ');\n",
"Vr=I*R;\n",
"disp('v)   VOLTAGE (Vr) is  in polar form  =  '+string (Vr) +'  V ');\n",
"VL=%i*XL*I\n",
"disp('vi)   VOLTAGE (VL) is  in polar form  =  '+string (VL) +'  V ');\n",
"Q=25.23;                     //TETA\n",
"PF=cos(Q);\n",
"disp('vi)   POWER FACTOR (PF) is    =  '+string (PF) +' lagging ');\n",
"P=V*I*cos(Q);       //ACTIVE POWER\n",
"disp('vi)   ACTIVE POWER (P) is  in polar form  =  '+string (P) +'  W ');\n",
"q=V*I*sin(Q)\n",
"disp('vi)   REACTIVE POWER (q) is  in polar form  =  '+string (q) +'  W ');\n",
"S=230*10.4;\n",
"disp('vi)   APPARENT POWER (S) is  in polar form  =  '+string (S) +'  VA ');\n",
""
   ]
   }
,
{
		   "cell_type": "markdown",
		   "metadata": {},
		   "source": [
			"## Example 2.31: Current_Apparent_Power_Active_Power.sce"
		   ]
		  },
  {
"cell_type": "code",
	   "execution_count": null,
	   "metadata": {
	    "collapsed": true
	   },
	   "outputs": [],
"source": [
"           //EXAMPLE 2-31  PG NO=82\n",
"Z1=20.15+%i*15.18;\n",
"Z2=6.99+%i*17.29;\n",
"Z=Z1+Z2;                  //impedance\n",
"V=230+%i*0;\n",
"I=V/Z;                     //Current\n",
"PF=0.64;                        //Power   Factotr\n",
"S=V*I;                            //Apparent Power\n",
"P=S*PF;                             //Active Power\n",
"disp(' Impedanceis in rectangular form   = '+string(Z)+' ohm');\n",
"disp(' current  is in rectangular form   = '+string(I)+' A');\n",
"disp(' S  is in rectangular form   = '+string(S)+' VA');\n",
"disp(' POWER  is in rectangular form   = '+string(P)+' W');"
   ]
   }
,
{
		   "cell_type": "markdown",
		   "metadata": {},
		   "source": [
			"## Example 2.32: Active_Power_Current_Voltage.sce"
		   ]
		  },
  {
"cell_type": "code",
	   "execution_count": null,
	   "metadata": {
	    "collapsed": true
	   },
	   "outputs": [],
"source": [
"  //EXAMPLE 2-32    PG NO-83\n",
"cos30=0.866;\n",
"sin30=0.5;\n",
"E1=141.42+%i*0;\n",
"E2=144.566+%i*11.976;\n",
"V=E1+141.42*(cos30 * sin30 );\n",
"disp('1) Voltage  is in rectangular form   = '+string(V)+' W');\n",
"Z=8+%i*6;          //IMPEDANCE\n",
"I=V/Z;\n",
"disp('1) Current is in rectangular form   = '+string(I)+' A');\n",
"P=I*V*0.743;\n",
"disp(' POWER  is in rectangular form   = '+string(P)+' W');"
   ]
   }
,
{
		   "cell_type": "markdown",
		   "metadata": {},
		   "source": [
			"## Example 2.33: EX2_33.sce"
		   ]
		  },
  {
"cell_type": "code",
	   "execution_count": null,
	   "metadata": {
	    "collapsed": true
	   },
	   "outputs": [],
"source": [
"                      //EXAMPLE 2-33     PG NO-84-85\n",
"V=230+%i*0;                  //Voltage\n",
"F=50;                     //Frequency\n",
"C=10^-4;                   //Capacitor\n",
"R=10;                   //Resistance\n",
"XC=1/[2*%pi*F*C];               //Capacitor\n",
"disp('i)   CAPACITOR (XC) is  in polar form  =  '+string (XC) +'  ohm ');\n",
"Z=R-%i*XC;                          //Impedance\n",
"disp('ii)   IMPEDANCE (Z) is  in polar form  =  '+string (Z) +'  ohm ');\n",
"Y=1/Z;                           //Admittance\n",
"disp('iii)  ADMITTANCE (Y) is  in polar form  =  '+string (Y) +'  siemens ');\n",
"I=V/Z;                            //current\n",
"disp('iv)   CURRENT (I) is in polar form   =  '+string (I) +'  A ');\n",
"Vr=I*R;                         // Voltage\n",
"disp('v)   VOLTAGE (Vr) is  in polar form  =  '+string (Vr) +'  V ');\n",
"VC=%i*XC*I              //Voltage\n",
"disp('vi)   VOLTAGE (VL) is  in polar form  =  '+string (VC) +'  V ');"
   ]
   }
,
{
		   "cell_type": "markdown",
		   "metadata": {},
		   "source": [
			"## Example 2.34: Impedance_Power_Factor_Power_Consumed.sce"
		   ]
		  },
  {
"cell_type": "code",
	   "execution_count": null,
	   "metadata": {
	    "collapsed": true
	   },
	   "outputs": [],
"source": [
"                       //EXAMPLE 2-34          PG NO-85\n",
"V=80+%i*60;                  //voltage\n",
"I=-4+%i*10;              //current\n",
"Z=V/I;               //Impedance\n",
"PF=0.26;                    //power factor\n",
"P=V*I*PF;           //Power\n",
"disp(' IMPEDANCE   is in rectangular form = '+string(Z)+' ohm');\n",
"disp(' POWER  is in rectangular form   = '+string(P)+' W');"
   ]
   }
,
{
		   "cell_type": "markdown",
		   "metadata": {},
		   "source": [
			"## Example 2.35: Maximum_Charge_and_Energy.sce"
		   ]
		  },
  {
"cell_type": "code",
	   "execution_count": null,
	   "metadata": {
	    "collapsed": true
	   },
	   "outputs": [],
"source": [
"                        //EXAMPLE-2-35          PG NO-86\n",
"Vr=100;                  //VOLTAGE\n",
"P=300;                 //POWER\n",
"I=P/Vr;                //CURRENT\n",
"V=240;                 //voltage\n",
"F=50;                 //frequency\n",
"Z=V/I;                   //IMPEDANCE\n",
"R=Vr/I;\n",
"Xc=[Z^2-R^2]^0.5;\n",
"C=1/[2*F*%pi*Xc];         //CAPACITOR\n",
"Vc=[(V*V)-(Vr*Vr)]^0.5;\n",
"Vm=sqrt(2)*Vc;\n",
"Qm=(sqrt(2)*Vc)*(C);                 //CHARGE\n",
"Em=0.5*[Xc*Vm*Vm];         //MAXIMUM ENERGY\n",
"disp('i)   CURRENT (I) is    =  '+string (I) +'  A ');\n",
"disp('ii)  IMPEDANCE (Z) is    =  '+string (Z) +'  ohm ');\n",
"disp('iii)   RESISTANCE (R) is    =  '+string (R) +'  ohm ');\n",
"disp('i)   CAPACITOR (Xc) is    =  '+string (Xc) +'  ohm ');\n",
"disp('i)  CAPACITOR (C) is    =  '+string (C) +'  F ');\n",
"disp('i)   VOLTAGE (Vc) is    =  '+string (Vc) +'  V ');\n",
"disp('i)  MAXIMUM VOLTAGE (Vm) is    =  '+string (Vm) +'  V ');\n",
"disp('i)  MAXIMUM CHARGE (Qm) is    =  '+string (Qm) +'  C ');\n",
"disp('i)  MAXIMUM ENERGY (Em) is    =  '+string (Em) +'  J ');"
   ]
   }
,
{
		   "cell_type": "markdown",
		   "metadata": {},
		   "source": [
			"## Example 2.36: XL_XC_Current_Power_Factor_Apparent_Power_Active_Power_Reactive_Power.sce"
		   ]
		  },
  {
"cell_type": "code",
	   "execution_count": null,
	   "metadata": {
	    "collapsed": true
	   },
	   "outputs": [],
"source": [
"                   //EXAMPLE 2-36    PG NO-87\n",
"F=50;             //FREQUENCY\n",
"L=0.2;            //INDUCTANCE\n",
"C=150*10^-6;       //CAPACITOR\n",
"R=20;\n",
"V=230;\n",
"XL=2*%pi*L*F;\n",
"disp('i)   INDUCTANCE (XL) is    =  '+string (XL) +'  ohm ');\n",
"XC=1/(2*%pi*F*C)\n",
"disp('i)   CAPACITOR (Xc) is    =  '+string (XC) +'  ohm ');\n",
"Z=R+%i*(XL-XC)\n",
"disp('i)   IMPEDANCE (Z) is    in  polar form =  '+string (Z) +'  ohm ');\n",
"I=V/Z;                       //CURRENT\n",
"disp('i)   CURRENT (I) is in polar form   =  '+string (I) +'  ohm ');\n",
"AP=V*I;               //APPARENT POWER\n",
"disp('i)   Apparent Power (AP) is  in polar form  =  '+string (AP) +'  VA ');\n",
"P=V*I*0.433;                   //active power\n",
"disp('i)   ACTIVE POWER (P) is  in  polar form  =  '+string (P) +'  W ');\n",
"Q=V*I*0.9013;                  //Reactive Power\n",
"disp('i)   Reactive Power (Q) is in polar form   =  '+string (Q) +'  vars ');"
   ]
   }
,
{
		   "cell_type": "markdown",
		   "metadata": {},
		   "source": [
			"## Example 2.37: active_power_impedance.sce"
		   ]
		  },
  {
"cell_type": "code",
	   "execution_count": null,
	   "metadata": {
	    "collapsed": true
	   },
	   "outputs": [],
"source": [
"    //EXAMPLE  2-37    PG  NO-88\n",
"Xc=4;\n",
"XL=6;\n",
"R=2;                      //RESISTANCE\n",
"v=8.48+%i*30;;\n",
"Z=R+%i*(XL-Xc);             //IMPEDANCE\n",
"V=v;\n",
"I=V/Z;                  //CURRENT\n",
"VL=%i*I*XL;\n",
"Vc=-%i*I*Xc;\n",
"P=V*I*0.707;                //ACTIVE POWER\n",
"disp('i) Active Power  =  '+string(P)+'  W');\n",
"disp('ii) Impedance = '+string(Z)+' ohm');\n",
"disp('iii) Current is   = '+string(I)+' A');\n",
"disp('iv) VL is   = '+string(VL)+' V');\n",
"disp('v)Vc   is    = '+string(Vc)+' V');\n",
""
   ]
   }
,
{
		   "cell_type": "markdown",
		   "metadata": {},
		   "source": [
			"## Example 2.38: Current_Voltage.sce"
		   ]
		  },
  {
"cell_type": "code",
	   "execution_count": null,
	   "metadata": {
	    "collapsed": true
	   },
	   "outputs": [],
"source": [
"                 //EXAMPLE 2-38      PG N0-88-89\n",
"Z=12-%i*5;\n",
"V=100;            //VOLTAGE\n",
"I=V/Z;            //CURRENT\n",
"disp('i)   CURRENT (I) is in polar form   =  '+string (I) +'  A ');\n",
"Z1=4+%i*3;\n",
"Z2=6-%i*8;                         //impedance\n",
"V1=I*Z1;\n",
"disp('i)   voltage (V1) is in polar form   =  '+string (V1) +'  V ');\n",
"V2=I*Z2;                               //voltage\n",
"disp('i)   voltage (V2) is in polar form   =  '+string (V2) +'  V ');\n",
"V3=2*I;                             //voltage\n",
"disp('i)   voltage (V3) is in polar form   =  '+string (V3) +'  V ');\n",
"P=V*I*0.9230;                         //ACTIVE POWER\n",
"disp('i)   Active Power (P) is in polar form   =  '+string (P) +'  W ');"
   ]
   }
,
{
		   "cell_type": "markdown",
		   "metadata": {},
		   "source": [
			"## Example 2.39: 1_Power_factor_2_Apparent_Reactive_Active_Power.sce"
		   ]
		  },
  {
"cell_type": "code",
	   "execution_count": null,
	   "metadata": {
	    "collapsed": true
	   },
	   "outputs": [],
"source": [
"      //EXAMPLE-2-39    PG NO-89\n",
"V=7.07;\n",
"I=4.24;\n",
"W=500;\n",
"S=V*I;\n",
"cosQ=0.6428;\n",
"sinQ=0.766;\n",
"P=S*cosQ;                   //ACTIVE POWER\n",
"Q=S*sinQ;                  //REACTIVE POWER\n",
"Z=V/I;                    //IMPEDANCE\n",
"R=Z*cosQ;                //RESISTANCE\n",
"Xc=Z*sinQ;              //Xc\n",
"C=1/(W*Xc);            //CAPACITOR\n",
"P2 =S*(cosQ-1);     //NEGATIVE PEAK  POWER\n",
"P3 =S*(cosQ+1);   //POSITIVE PEAK POWER\n",
"P1=(P3 +P2)/2;     // POWER\n",
"S1=(P3-P1);                  //apparent power\n",
"disp(' S is = '+string(S)+' VA');\n",
"disp(' ACTIVE POWER  is = '+string(P)+' W');\n",
"disp(' REACTIVE POWER is = '+string(Q)+' VAr');\n",
"disp(' IMPEDANCE is = '+string(Z)+' ohm');\n",
"disp(' RESISTANCE is = '+string(R)+'ohm ');\n",
"disp(' Xc is = '+string(Xc)+' ohm');\n",
"disp(' CAPACITOR is = '+string(C)+' F');\n",
"disp(' POWER CURVE is = '+string(P2)+' W');\n",
"disp(' POWER CURVE is = '+string(P3)+' W');\n",
"disp(' POWER  is = '+string(P1)+' W');\n",
"disp(' S is = '+string(S1)+' VA');\n",
""
   ]
   }
,
{
		   "cell_type": "markdown",
		   "metadata": {},
		   "source": [
			"## Example 2.3: Form_Factor_Peak_Factor.sce"
		   ]
		  },
  {
"cell_type": "code",
	   "execution_count": null,
	   "metadata": {
	    "collapsed": true
	   },
	   "outputs": [],
"source": [
"     //EXAMPLE 2-3  PG NO-59-60\n",
"Vm=1;\n",
"AV1=0.318*Vm;                //avegare value\n",
"RMS1=0.5*Vm;                  //RMS value\n",
"FF1=RMS1/AV1;                     //Form Factor\n",
"PF1=Vm/RMS1;                       //Peak Factor\n",
"AV2=0.637*Vm;                  //Average    value\n",
"RMS2=0.707*Vm;                  //RMS  value\n",
"FF2=RMS2/AV2;                    //Form Factor\n",
"PF2=Vm/RMS2;                      //Peak Factor\n",
"disp('i)Form Factor   =  '+string (FF1)+' ')\n",
"disp('i)peak Factor   =  '+string (PF1)+' ')\n",
"disp('i)Form Factor   =  '+string (FF2)+' ')\n",
"disp('i)PEAK Factor   =  '+string (PF2)+' ')"
   ]
   }
,
{
		   "cell_type": "markdown",
		   "metadata": {},
		   "source": [
			"## Example 2.40: Voltage_across_v1_v2_Impedance_Admittance_Power_factor.sce"
		   ]
		  },
  {
"cell_type": "code",
	   "execution_count": null,
	   "metadata": {
	    "collapsed": true
	   },
	   "outputs": [],
"source": [
"                       //EXAMPLE 2-40      PG NO-89-90\n",
"V1=52.33-%i*34.15878;\n",
"Z1=7.5-%i*9.999;        //IMPEDANCE\n",
"Z2=3.488+%i*12;        //IMPEDANCE\n",
"Z3=11.99+%i*5;\n",
"V2=[Z2/Z1]*V1;\n",
"disp('i)   voltage (V2) is in polar form   =  '+string (V2) +'  V ');\n",
"V3=[Z3/Z1]*V1;                         //voltage\n",
"disp('ii)   voltage (V3) is in polar form   =  '+string (V3) +'  V ');\n",
"V=V1+V2+V3;                        //total voltage\n",
"disp('i)   voltage (V) is in polar form   =  '+string (V) +'  V ');\n",
"Z=Z1+Z2+Z3;                   //Total  Impedance\n",
"disp('i)   IMPEDANCE (Z) is in polar form   =  '+string (Z) +'  V ');\n",
"Y=1/Z;                               //Admittance\n",
"disp('i)   Y (Y) is in polar form   =  '+string (Y) +'  ohm ');"
   ]
   }
,
{
		   "cell_type": "markdown",
		   "metadata": {},
		   "source": [
			"## Example 2.41: Impedance.sce"
		   ]
		  },
  {
"cell_type": "code",
	   "execution_count": null,
	   "metadata": {
	    "collapsed": true
	   },
	   "outputs": [],
"source": [
"      //EXAMPLE 2-41   PG NO-90\n",
"F1=50;                        //frequency\n",
"W=(2*%pi*F1);\n",
"L=1;                          //inductar\n",
"C=10^-6;                        //capacitor\n",
"XL1=W*L;\n",
"Xc1=1/(W*C);\n",
"Z1=XL1-Xc1;\n",
"F2=1000;\n",
"XL2=(2*%pi*F2*L);\n",
"Xc2=1/(2*%pi*F2*C);\n",
"Z2=(XL2-Xc2);               //impedance\n",
"disp(' IMPEDANCE(Z1) is = '+string(Z1)+' ohm');\n",
"disp(' IMPEDANCE(Z2) is = '+string(Z2)+'ohm');\n",
"disp(' XL1 is = '+string(XL1)+' ohm');\n",
"disp(' Xc1 is = '+string(Xc1)+' ohm');\n",
"disp(' XL2 is = '+string(XL2)+' ohm');\n",
"disp(' Xc2 is = '+string(Xc2)+' ohm');"
   ]
   }
,
{
		   "cell_type": "markdown",
		   "metadata": {},
		   "source": [
			"## Example 2.42: Resistance_Inductance.sce"
		   ]
		  },
  {
"cell_type": "code",
	   "execution_count": null,
	   "metadata": {
	    "collapsed": true
	   },
	   "outputs": [],
"source": [
"  //EXAMPLE 2-42    PG NO-90\n",
"F=50;                     //frequency\n",
"C=100*10^-6;                //capacitor\n",
"W=(2*%pi*F);\n",
"Xc=1/(W*C);\n",
"R=19.1;               //resistance\n",
"XL=25.46;\n",
"L=XL/(2*%pi*F);                 //inductance\n",
"disp(' Xc is = '+string(Xc)+' ohms');\n",
"disp(' INDUCTANCE is = '+string(L)+' H');"
   ]
   }
,
{
		   "cell_type": "markdown",
		   "metadata": {},
		   "source": [
			"## Example 2.43: Power_Factor.sce"
		   ]
		  },
  {
"cell_type": "code",
	   "execution_count": null,
	   "metadata": {
	    "collapsed": true
	   },
	   "outputs": [],
"source": [
"                         //EXAMPLE 2-43        PG NO-91\n",
"R1=6;           //RESISTANCE\n",
"R2=3;           //RESISTANCE\n",
"R3=8;           //RESISTANCE\n",
"Z1=7;             //IMPEDANCE\n",
"Z2=5;             //IMPEDANCE\n",
"Z3=10;            //IMPEDANCE\n",
"V=7;\n",
"I=1;\n",
"PF1=R1/Z1;        //POWER FACTOR\n",
"disp('i)   Power Factor (PF1) is    =  '+string (PF1) +'  ');\n",
"PD1=V*I*0.857;      //POWER dissipated\n",
"disp('i)   Power Dissipated (PD1) is    =  '+string (PD1) +'  W ');\n",
"PF2=R2/Z2;\n",
"disp('iii)   Power Factor (PF2) is    =  '+string (PF2) +'  W ');\n",
"PD2=Z2*PF2;\n",
"disp('i)   Power Dissipated (PD2) is    =  '+string (PD2) +'  W ');\n",
"PF3=R3/Z3;\n",
"disp('iii)   Power Factor (PF3) is    =  '+string (PF3) +'  W ');\n",
"PD3=Z3*PF3;\n",
"disp('i)   Power Dissipated (PD3) is    =  '+string (PD3) +'  W ');\n",
"A=[Z1^2-R1^2]^0.5;\n",
"disp('i)   REACTANCE OF COIL (A) is    =  '+string (A) +'  ohm ');\n",
"B=[Z2^2-R2^2]^0.5;\n",
"disp('i)   REACTANCE OF COIL (B) is    =  '+string (B) +'  ohm ');\n",
"C=[Z3^2-R3^2]^0.5;\n",
"disp('i)   REACTANCE OF COIL (C) is    =  '+string (C) +'  ohm ');\n",
"TR=R1+R2+R3;                                              //TOTAL  RESISTANCE\n",
"disp('i)   TOTAL RESISTANCE (TR) is    =  '+string (TR) +'  ohm ');\n",
"TRC=A+B+C;                                               //TOTAL RACTANCE\n",
"disp('i)   TOTAL REACTANCE (TRC) is    =  '+string (TRC) +'  ohm ');\n",
"TI=[TR^2+TRC^2]^0.5;                                    //TOTAL  IMPEADNCE\n",
"disp('i)   TOTAL IMPEDANCE (TI) is    =  '+string (TI) +'  ohm ');\n",
"PF=TR/TI;                                               //POWER FACTOR\n",
"disp('i)   POWER FACTOR (PF) is    =  '+string (PF) +'  lagging ');"
   ]
   }
,
{
		   "cell_type": "markdown",
		   "metadata": {},
		   "source": [
			"## Example 2.44: Resistance_Capacitance.sce"
		   ]
		  },
  {
"cell_type": "code",
	   "execution_count": null,
	   "metadata": {
	    "collapsed": true
	   },
	   "outputs": [],
"source": [
"                        //EXAMPLE    2-44       PG NO 91-92\n",
"R=20;                       //Resistance\n",
"V=125;                      //VOLTAGE\n",
"I=2.2;                       //CURRENT\n",
"Z=V/I;                       //IMPEDANCE\n",
"disp('i) Impedance is = '+string(Z)+' ');\n",
"F=50;            //FREQUENCY\n",
"XC=53.18\n",
"C=1/[2*%pi*F*XC];                      //CAPACITANCE\n",
"disp('ii) Capacitor is = '+string(C)+' F');"
   ]
   }
,
{
		   "cell_type": "markdown",
		   "metadata": {},
		   "source": [
			"## Example 2.45: Power_Inductance.sce"
		   ]
		  },
  {
"cell_type": "code",
	   "execution_count": null,
	   "metadata": {
	    "collapsed": true
	   },
	   "outputs": [],
"source": [
"    //EXAMPLE 2-45  PG NO-92\n",
"I=10;                    //CURRENT \n",
"R=5;                    //RESISTANCE\n",
"P=I*I*R;               //POWER\n",
"IL=250;                //IRON LOSS\n",
"Z=20;\n",
"r=5;\n",
"F=50;\n",
"W=2*%pi*F;\n",
"p1=750;\n",
"v=200;                       //voltage\n",
"L=(Z*Z-r*r)^0.5/W;             //iductance\n",
"cosQ=p1/(v*I);\n",
"disp(' power is = '+string(P)+' W')\n",
"disp(' inductance is = '+string(L)+' H');\n",
"disp(' cos Q is = '+string(cosQ)+' lagging');"
   ]
   }
,
{
		   "cell_type": "markdown",
		   "metadata": {},
		   "source": [
			"## Example 2.46: P.sce"
		   ]
		  },
  {
"cell_type": "code",
	   "execution_count": null,
	   "metadata": {
	    "collapsed": true
	   },
	   "outputs": [],
"source": [
"                //Example  2-46    PG NO-92\n",
"Z=50+%i*49.95;                //IMPEDANCE\n",
"V=283;                      //VOLTAGE    \n",
"T=1;              //ASSUMING\n",
"i=(V/70.675)*[sin(100*%pi-44.97)];\n",
"disp('i)   Current (i) is  in polar form  =  '+string (i) +'  A'); \n",
"P=(V/sqrt(2))*(4/sqrt(2))*(0.707);\n",
"disp('ii)   POWER (P) is    =  '+string (P) +'  W ');"
   ]
   }
,
{
		   "cell_type": "markdown",
		   "metadata": {},
		   "source": [
			"## Example 2.47: RMS.sce"
		   ]
		  },
  {
"cell_type": "code",
	   "execution_count": null,
	   "metadata": {
	    "collapsed": true
	   },
	   "outputs": [],
"source": [
"                        //EXAMPLE 2-47   PG NO 92\n",
"V=100/sqrt(2);                //VOLTAGE\n",
"F=100;                      //FREQUENCY\n",
"L=0.018;                    //INDUCTANCE\n",
"XL=2*%pi*F*L;\n",
"disp('i)   INDUCTANCE (XL) is  in polar form  =  '+string (XL) +'  ohm ');\n",
"I=V/[(11.3+%i*11.3)];                    //current\n",
"disp('ii)   CURRENT (I) is  in polar form  =  '+string (I) +'  A ');\n",
"VR=I*10;                                   //voltage\n",
"disp('i)   Voltage Across Resister (VR) is    =  '+string (VR) +'  V ');"
   ]
   }
,
{
		   "cell_type": "markdown",
		   "metadata": {},
		   "source": [
			"## Example 2.49: current.sce"
		   ]
		  },
  {
"cell_type": "code",
	   "execution_count": null,
	   "metadata": {
	    "collapsed": true
	   },
	   "outputs": [],
"source": [
"     //EXAMPLE 2-49   PG NO-93\n",
"K=0.35;     //CONSTANT\n",
"L1=0.1;       //INDUCTANCE\n",
"L2=0.2;     //INDUCTANCE\n",
"M=K*(L1*L2)^0.5;\n",
"V=125;        //VOLTAGE\n",
"F=50;        //FREQUENCY\n",
"L=0.2;     //  TOTAL INDUCTANCE\n",
"I=V/(2*%pi*F*L);      //CURRENT\n",
"disp(' M is = '+string(M)+' H');\n",
"disp(' current is = '+string(I)+' A');\n",
""
   ]
   }
,
{
		   "cell_type": "markdown",
		   "metadata": {},
		   "source": [
			"## Example 2.51: Impedance_admittance_Current_Power_Factor_Apparent_Power_active_Reactive_Power.sce"
		   ]
		  },
  {
"cell_type": "code",
	   "execution_count": null,
	   "metadata": {
	    "collapsed": true
	   },
	   "outputs": [],
"source": [
"                //example 2-51        pg no-94\n",
"V=230+%i*0;                  //VOLTAGE\n",
"F=50;                       //FREQUENCY\n",
"C=10^-4;                   //CAPACITOR\n",
"R=10;                      //RESISTANCE\n",
"cos(72.56)=0.299;\n",
"XC=1/[2*%pi*F*C];\n",
"disp('i)   INDUCTANCE (XC) is    =  '+string (XC) +'  ohm ');\n",
"Z=R-%i*XC;                       //impedance\n",
"disp('i)   IMPEDANCE (Z) is  in rectangular form  =  '+string (Z) +'  ohm ');\n",
"Y=1/Z;                        //admittance\n",
"disp('i)   ADMITTANCE (Y) is  in rectangular form  =  '+string (Y) +'  ohm ');\n",
"I=V/Z;                      //CURRENT\n",
"disp('i)    CURRENT (I) is  in rectangular form  =  '+string (I) +'  A ');\n",
"PF=0.299;         //POWER FACTOR\n",
"disp('i)   POWER FACTOR (PF) is    =  '+string (PF) +'  leading ');\n",
"S=V*I;             //APPARENT  POWER\n",
"disp('i)   APPARENT POWER (S) is  IN rectangular FORM  =  '+string (S) +'  VA ');\n",
"P=V*I*0.3;               //ACTIVE    POWER\n",
"disp('i)   ACTIVE POWER (P) is in   rectangular form    =  '+string (P) +'  W ');\n",
"Q=V*I*-0.1315;          //REACTIVE POWER\n",
"disp('i)   REACTIVE POWER (Q) is    in rectangular form   =  '+string (Q) +'  vars ');\n",
"Vr=I*R;\n",
"disp('i)   VOLTAGE (Vr) is  in rectangular form  =  '+string (Vr) +'  V ');\n",
"Vc=-%i*I*XC;\n",
"disp('i)   VOLTAGE (Vc) is    =  '+string (Vc) +'  V ');"
   ]
   }
,
{
		   "cell_type": "markdown",
		   "metadata": {},
		   "source": [
			"## Example 2.52: Total_Current_power_Factor.sce"
		   ]
		  },
  {
"cell_type": "code",
	   "execution_count": null,
	   "metadata": {
	    "collapsed": true
	   },
	   "outputs": [],
"source": [
"//   EXAMPLE 2-53    PG  NO-96\n",
"W=1000;\n",
"L=0.02;\n",
"XL=W*L;\n",
"Z=4.85;\n",
"V=(100/1.414);\n",
"I=(20.62/1.414);\n",
"cos(14.06)=0.97;   // \n",
"P=V*I*0.97;\n",
"z=1.18;\n",
"Leq=z/W;\n",
"disp(' XL is = '+string(XL)+' ohms');   \n",
"disp(' POWER is = '+string(P)+' W');   \n",
"disp(' Leq is = '+string(Leq)+' H');   "
   ]
   }
,
{
		   "cell_type": "markdown",
		   "metadata": {},
		   "source": [
			"## Example 2.53: Inductance_Frequency.sce"
		   ]
		  },
  {
"cell_type": "code",
	   "execution_count": null,
	   "metadata": {
	    "collapsed": true
	   },
	   "outputs": [],
"source": [
"               //EXAMPLE 2-53   PG NO=97\n",
"R=15;               //RESISTANCE\n",
"V=240+%i*0;         //VOLTAGE\n",
"I=22.1;\n",
"Ir=V/R;             //CURENT\n",
"disp('i)  CURRENT (Ir) is    =  '+string (Ir) +'  A ');\n",
"IL=[I^2-Ir^2]^0.5;\n",
"disp('i)  CURRENT (IL) is    =  '+string (IL) +'  A ');\n",
"XL=V/IL;\n",
"disp('i)   INDUCTANCE (XL) is    =  '+string (XL) +'  ohm ');\n",
"L=XL/[2*%pi*50];\n",
"disp('i)   INDUCTANCE (L) is    =  '+string (L) +'  H ');\n",
"IL1=[34^2-Ir^2]^0.5;\n",
"disp('i)   INDUCTANCE (IL1) is    =  '+string (IL1) +'  A ');\n",
"F=8/[2*%pi*0.05];\n",
"disp('i)   FREQUENCY (F) is    =  '+string (F) +'  Hz ');"
   ]
   }
,
{
		   "cell_type": "markdown",
		   "metadata": {},
		   "source": [
			"## Example 2.54: Single_Phase_AC_Circuits.sce"
		   ]
		  },
  {
"cell_type": "code",
	   "execution_count": null,
	   "metadata": {
	    "collapsed": true
	   },
	   "outputs": [],
"source": [
"    //EXAMPLE 2-54  PG NO-98\n",
"C=159*10^-6;     //capacitor\n",
"F=50;           //frequency\n",
"Xc=1/(2*%pi*F*C);\n",
"Z=8.94;               //impedance\n",
"V=100;               //voltage\n",
"I=V/Z;             //Current\n",
"PF=0.894           //power factor\n",
"S=V*I;    \n",
"P=V*I*PF;\n",
"Q=V*I*(-0.447);\n",
"disp(' CURRENT is = '+string(P)+' A');   \n",
"disp(' APPARENT POWER is = '+string(S)+' VA');   \n",
"disp(' active power is = '+string(P)+' W');   \n",
"disp(' reactive power is = '+string(Q)+' vars');   "
   ]
   }
,
{
		   "cell_type": "markdown",
		   "metadata": {},
		   "source": [
			"## Example 2.55: Resistance.sce"
		   ]
		  },
  {
"cell_type": "code",
	   "execution_count": null,
	   "metadata": {
	    "collapsed": true
	   },
	   "outputs": [],
"source": [
"                 //EXAMPLE 2-55    PG NO-99\n",
"\n",
"Q=72.4;\n",
"tan(Q)=3.1524;\n",
"W=3000;\n",
"C=35*10^-6;\n",
"Xc=1/[W*C];\n",
"R=3.1524*Xc\n",
"disp('i)   CAPACITOR (XC) is    =  '+string (Xc) +'  ohm ');\n",
"disp('i)   RESISTANCE (R) is    =  '+string (R) +'  ohm ');"
   ]
   }
,
{
		   "cell_type": "markdown",
		   "metadata": {},
		   "source": [
			"## Example 2.56: Current_Power_Factor.sce"
		   ]
		  },
  {
"cell_type": "code",
	   "execution_count": null,
	   "metadata": {
	    "collapsed": true
	   },
	   "outputs": [],
"source": [
"                  //EXAMPLE 2-56      PG NO-99-100\n",
"V=230+%i*0;\n",
"R=15+%i*0;\n",
"L=%i*7.5;\n",
"Ir=V/R;\n",
"Z1=-%i*12\n",
"disp('i)   CURRENT (Ir) is    =  '+string (Ir) +'  A ');\n",
"IL=V/L;\n",
"disp('i)   INDUCTANCE CURRENT (IL) is    =  '+string (IL) +'  A ');\n",
"Ic=V/Z1;\n",
"disp('i)   CAPACITOR CURRENT (Ic) is    =  '+string (Ic) +'  A ');\n",
"I=Ir+IL+Ic;\n",
"disp('i)    CURRENT (I) is    =  '+string (I) +'  A ');\n",
"Z=V/I;\n",
"disp('i)   IMPEDANCE (Z) is    =  '+string (Z) +'  A ');\n",
"PF=0.8;\n",
"Leq=7.2/[2*%pi*50];\n",
"disp('i)   EQUIVALENT CURRENT (Ieq) is    =  '+string (Leq) +'  H ');"
   ]
   }
,
{
		   "cell_type": "markdown",
		   "metadata": {},
		   "source": [
			"## Example 2.57: EX2_57.sce"
		   ]
		  },
  {
"cell_type": "code",
	   "execution_count": null,
	   "metadata": {
	    "collapsed": true
	   },
	   "outputs": [],
"source": [
"                  //EXAMPLE 2-57   PG N0-100-101\n",
"V=240+%i*0;\n",
"R=400+%i*0;\n",
"Z1=%i*50;\n",
"Z2=-%i*40;\n",
"IR=V/R;\n",
"disp('i)   CURRENT (IR) is    =  '+string (IR) +'  A ');\n",
"IL=V/Z1;\n",
"disp('i)   CURRENT (IL) is    =  '+string (IL) +'  A ');\n",
"IC=V/Z2;\n",
"disp('i)   CURRENT (IC) is    =  '+string (IC) +'  A ');\n",
"I=IR+IL+IC;\n",
"disp('i)   CURRENT (I) is    =  '+string (I) +'  A ');\n",
"Z=V/I;\n",
"disp('i)  IMPEDANCE (Z) is    =  '+string (Z) +'  ohms ');\n",
"Y=1/Z;\n",
"disp('i)  ADMITTANCE (Y) is    =  '+string (Y) +'  ohm ');\n",
"S=V*I;\n",
"disp('i)  APPARENT POWER (S) is    =  '+string (S) +'  VA ');\n",
"P=V*I*0.448;\n",
"disp('i)  ACTIVE POWER (P) is    =  '+string (P) +'  W ');\n",
"Q=V*I*-0.94;\n",
"disp('i)  REACTIVE POWER (Q) is    =  '+string (Q) +'  vars ');"
   ]
   }
,
{
		   "cell_type": "markdown",
		   "metadata": {},
		   "source": [
			"## Example 2.58: Voltage_Current_power_Factor_Active_Reactive_Power.sce"
		   ]
		  },
  {
"cell_type": "code",
	   "execution_count": null,
	   "metadata": {
	    "collapsed": true
	   },
	   "outputs": [],
"source": [
"                     //EXAMPLE 2-58      PG NO-101-102\n",
"Z1=2+%i*3;\n",
"Z2=1-%i*5;\n",
"Z3=4+%i*2;\n",
"Zeq=[Z2*Z3]/[Z2+Z3];\n",
"disp('i)  IMPEDANCE EQUVALENT (Zeq) is    =  '+string (Zeq) +'  ohms ');\n",
"Z=Z1+Zeq;\n",
"disp('i)  TOTAL IMPEDANCE (Z) is    =  '+string (Z) +'  ohm ');\n",
"V=10;\n",
"R=5.65+%i*1.588;\n",
"I=V/R;\n",
"disp('i)  CURRENT (I) is    =  '+string (I) +'  A ');\n",
"VBC=I*Zeq;\n",
"disp('i)  VOLTAGE (VBC) is    =  '+string (VBC) +'  V ');\n",
"I2=VBC/Z2;\n",
"disp('i)   CURRENT    (I2) is    =  '+string (I2) +'  A ');\n",
"I3=VBC/Z3;\n",
"disp('i)   CURRENT    (I3) is  in polar form  =  '+string (I3) +'  A ');\n",
"S=V*I;\n",
"disp('i)  APPARENT POWER (S) is  in polar form  =  '+string (S) +'  VA ');\n",
"P=V*I*0.963;\n",
"disp('i)  ACTIVE POWER (P) is  in polar form  =  '+string (P) +'  W ');\n",
"Q=V*I*-0.27;\n",
"disp('i)  REACTIVE POWER (Q) is  in polar form  =  '+string (Q) +'  vars ');"
   ]
   }
,
{
		   "cell_type": "markdown",
		   "metadata": {},
		   "source": [
			"## Example 2.59: Total_Current_Shunt_Capacitor.sce"
		   ]
		  },
  {
"cell_type": "code",
	   "execution_count": null,
	   "metadata": {
	    "collapsed": true
	   },
	   "outputs": [],
"source": [
"    //EXAMPLE 2-59   PG NO-103\n",
"C1=15.5*10^3;\n",
"L=1000;\n",
"V=230;\n",
"PL1=10;            //active load power\n",
"PL2=6;            //active load power\n",
"QL1=7.5;        //reactive load power\n",
"QL2=8;     //reactiveload power\n",
"P=PL1+PL2;     //total active power\n",
"Q=QL1+QL2;      //total reactive power\n",
"AP=(P*P+Q*Q)^0.5;      //total apparent power\n",
"I=(AP*L)/V;          //TOTAL CURRENT\n",
"Ic=(C1/V);\n",
"Xc=V/Ic;\n",
"K=16;\n",
"C=1/(2*%pi*50*Xc);\n",
"I1=(L*K)/V;\n",
"disp(' total active power is = '+string(P)+' KW');   \n",
"disp(' total reactive power is = '+string(Q)+'K var ');   \n",
"disp(' total apparent power is = '+string(AP)+' KVA');   \n",
"disp(' total current(I) is = '+string(P)+' A');   \n",
"disp(' Ic is = '+string(P)+' A'); \n",
"disp(' Xc is = '+string(Xc)+' ohm');    \n",
"disp(' capacitor is = '+string(C)+' F');   \n",
"disp(' current(I1) is = '+string(I1)+' A');    "
   ]
   }
,
{
		   "cell_type": "markdown",
		   "metadata": {},
		   "source": [
			"## Example 2.60: Conductance_Susceptance_Current_Power_factor.sce"
		   ]
		  },
  {
"cell_type": "code",
	   "execution_count": null,
	   "metadata": {
	    "collapsed": true
	   },
	   "outputs": [],
"source": [
"                   //EXAMPLE 2-60     PG NO-103-104\n",
"Z1=6+%i*8;\n",
"V=230;                    // VOLTAGE\n",
"Y1=1/Z1;\n",
"disp('i)  ADMITTANCE (Y1) is    =  '+string (Y1) +'  siemens ');\n",
"G1=0.06;\n",
"B1=-0.08;\n",
"Z2=4-%i*3;\n",
"Y2=1/Z2;\n",
"disp('ii)  ADMITTANCE (Y2) is    =  '+string (Y2) +'  siemens ');\n",
"G2=0.16;\n",
"B2=0.12;\n",
"TL=G1+G2;                    //TOTAL CONDUCTANCE\n",
"disp('iii) TOTAL CONDUCTANCE (TL) is    =  '+string (TL) +' siemens');\n",
"TS=B1+B2;                      //TOTAL SUSCEPTANCE\n",
"disp('iv)  TOTAL SUSCEPTANCE (TS) is    =  '+string (TS) +'  siemens ');\n",
"I1=V*Y1;                    //   CURRENT\n",
"disp('v)  CURRENT (I1) is    =  '+string (I1) +' A ');\n",
"I2=V*Y2;\n",
"disp('vi)  CURRENT (I2) is    =  '+string (I2) +' A ');\n",
"TI=I1+I2;                //TOTAL CURRENT\n",
"disp('vii)  TOTAL CURRENT (TI) is    =  '+string (TI) +' A ');\n",
"PF=cos(degree(10.3));\n",
"disp('i)  POWER FACTOR (PF) is    =  '+string (PF) +' leading ');"
   ]
   }
,
{
		   "cell_type": "markdown",
		   "metadata": {},
		   "source": [
			"## Example 2.61: admittance_Impedance_Total_Current_Power_Factor_Active_Power.sce"
		   ]
		  },
  {
"cell_type": "code",
	   "execution_count": null,
	   "metadata": {
	    "collapsed": true
	   },
	   "outputs": [],
"source": [
"                 //EXAMPLE 2-61          PG NO-104-105\n",
"V=100+%i*0;\n",
"Zab=1.6+%i*7.2;\n",
"Yab=1/Zab;\n",
"disp('i)  ADMITTANCE (Yab) is  in polar form  =  '+string (Yab) +' siemens');\n",
"Zcd=4+%i*3;\n",
"Ycd=1/Zcd;\n",
"disp('i)  ADMITTANCE (Ycd) is  in polar form   =  '+string (Ycd) +'  siemens ');\n",
"Zef=6-%i*8;\n",
"Yef=1/Zef;\n",
"disp('i)  ADMITTANCE (Yef) is in polar form    =  '+string (Yef) +'  siemens ');\n",
"Ybg=Yef+Ycd;\n",
"disp('i)  ADMITTANCE (Ybg) is  in polar form   =  '+string (Ybg) +'  siemens ');\n",
"Zbg=1/Ybg;\n",
"disp('i)  IMPEDANCE (Zbg) is  in polar form   =  '+string (Zbg) +'  ohms ');\n",
"TZ=1.6+%i*7.2+4.4+%i*0.8;\n",
"disp('i) TOTAL IMPEDANCE (TZ) is  in polar form   =  '+string (TZ) +'  ohms ');\n",
"TI=V/TZ;\n",
"disp('i)  TOTAL CURRENT (TI) is  in polar form   =  '+string (TI) +'  A ');\n",
"Icd=TI*[Zef/(Zcd+Zef)]\n",
"disp('i)  CURRENT (Icd) is  in polar form   =  '+string (Icd) +'  A ');\n",
"Ief=TI*[Zcd/(Zcd+Zef)];\n",
"disp('i)  CURRENT (Ief) is  in polar form   =  '+string (Ief) +'  A ');\n",
"Pab=TI*TI*1.6;\n",
"disp('i)  POWER (Pab) is  in polar form   =  '+string (Pab) +'  W ');\n",
"Pcd=Icd*Icd*4;\n",
"disp('i)  POWER (Pcd) is  in polar form   =  '+string (Pcd) +'  W ');\n",
"Pef=Ief*Ief*6;\n",
"disp('i)  POWER (Pef) is  in polar form   =  '+string (Pef) +'  W ');\n",
"TP=Pab+Pcd+Pef;\n",
"disp('i) TOTAL POWER (TP) is  in polar form   =  '+string (TP) +'  W ');"
   ]
   }
,
{
		   "cell_type": "markdown",
		   "metadata": {},
		   "source": [
			"## Example 2.62: EX2_62.sce"
		   ]
		  },
  {
"cell_type": "code",
	   "execution_count": null,
	   "metadata": {
	    "collapsed": true
	   },
	   "outputs": [],
"source": [
"                   //EXAMPLE 2-62        PG NO-105-106\n",
"Z1=24+%i*18;\n",
"Z2=24-%i*10;\n",
"Z3=2-%i*0.148;\n",
"R1=24;\n",
"R2=24;\n",
"R3=32;\n",
"R4=16;\n",
"V=2;\n",
"v1=128.3;\n",
"I=2;\n",
"I3=32+%i*24;\n",
"I4=16-%i*30;\n",
"Z=Z1+Z2;\n",
"disp('i)  IMPEDANCE (Z) is  in polar form   =  '+string (Z) +'  ohms ');\n",
"I1=[Z2/(Z1+Z2)]*Z3;\n",
"disp('i)  CURRENT (I1) is  in polar form   =  '+string (I1) +'  ohms ');\n",
"I2=[Z1/(Z1+Z2)]*Z3;\n",
"disp('i)  CURRENT (I2) is  in polar form   =  '+string (I2) +'  ohms ');\n",
"P1=I1*I1*R1;\n",
"disp('i)  POWER (P1) is  in polar form   =  '+string (P1) +'  W ');\n",
"P2=I2*I2*R2;\n",
"disp('i)  POWER (P2) is  in polar form   =  '+string (P2) +'  W ');\n",
"P3=V*V*R3;\n",
"disp('i)  POWER (P3) is  in polar form   =  '+string (P3) +'  W ');\n",
"P4=V*V*R4;\n",
"disp('i)  POWER (P4) is  in polar form   =  '+string (P4) +'  W ');\n",
"P=P1+P2+P3+P4;\n",
"disp('i)  TOTAL POWER (P) is  in polar form   =  '+string (P) +'  W ');\n",
"V1=I1*Z1;\n",
"disp('i)  VOLTAGE (V1) is  in polar form   =  '+string (V1) +'  V ');\n",
"V2=V1;\n",
"disp('i)  VOLTAGE (V2) is  in polar form   =  '+string (V2) +'  V ');\n",
"V3=I3*Z3;\n",
"disp('i)  VOLTAGE (V3) is  in polar form   =  '+string (V3) +'  V ');\n",
"V4=I4*Z3;\n",
"disp('i)  VOLTAGE (V4) is  in polar form   =  '+string (V4) +'  V ');\n",
"V=V1+V4+V3;\n",
"disp('i%)  VOLTAGE (V) is  in polar form   =  '+string (V) +'  V ');\n",
"S=v1*I;\n",
"disp('i)  Apparent Power (S) is     =  '+string (S) +'  VA ');\n",
"Q=S*0.0726;\n",
"disp('i) Reactive Power (Q) is     =  '+string (Q) +'  Var ');"
   ]
   }
,
{
		   "cell_type": "markdown",
		   "metadata": {},
		   "source": [
			"## Example 2.63: Current_Power_Factor.sce"
		   ]
		  },
  {
"cell_type": "code",
	   "execution_count": null,
	   "metadata": {
	    "collapsed": true
	   },
	   "outputs": [],
"source": [
"                       //EXAMPLE 2-63   PG NO-106-107\n",
"Z1=14+%i*48;\n",
"Z2=30+%i*40;\n",
"Z3=24+%i*70;\n",
"V=230+%i*0;\n",
"Y1=1/Z1;\n",
"disp('i)  ADMITTANCE (Y1) is  in polar form  =  '+string (Y1) +' siemens');\n",
"Y2=1/Z2;\n",
"disp('ii)  ADMITTANCE (Y2) is  in polar form  =  '+string (Y2) +' siemens');\n",
"Y3=1/Z3;\n",
"disp('iii)  ADMITTANCE (Y3) is  in polar form  =  '+string (Y3) +' siemens');\n",
"Y=Y1+Y2+Y3;\n",
"disp('i)  ADMITTANCE (Y) is  in polar form  =  '+string (Y) +' siemens');\n",
"Z13=29.763+%i*21.62;\n",
"Z14=10-%i*24;\n",
"X=Z13+Z14;\n",
"Y=18+%i*80;\n",
"A=8-%i*6;\n",
"disp('i)  IMPEDANCE (X) is  in polar form  =  '+string (X) +' ohm');\n",
"Z=[{X*Y}/{X+Y}]+A;\n",
"disp('i)  IMPEDANCE (Z) is  in polar form  =  '+string (Z) +' ohm');\n",
"I=V/Z;\n",
"disp('vi)  CURRENT (I) is    =  '+string (I) +' A ');\n",
"S=V*I;\n",
"disp('i)  Apparent Power (S) is     =  '+string (S) +'  VA ');\n",
"P=V*I*0.989;\n",
"disp('i) Active Power (P) is     =  '+string (P) +'  W ');\n",
"Q=V*I*0.146;\n",
"disp('i) Reactive Power (Q) is     =  '+string (Q) +'  Var ');"
   ]
   }
,
{
		   "cell_type": "markdown",
		   "metadata": {},
		   "source": [
			"## Example 2.64: Current_in_branch_Total_Current.sce"
		   ]
		  },
  {
"cell_type": "code",
	   "execution_count": null,
	   "metadata": {
	    "collapsed": true
	   },
	   "outputs": [],
"source": [
"ZA=15+%i*15.708;\n",
"ZB=20+%i*0;\n",
"V=200+%i*0;\n",
"IA=V/ZA;\n",
"disp('i)  CURRENT (IA) is    =  '+string (IA) +' A ');\n",
"IB=V/ZB;\n",
"disp('ii)  CURRENT (IB) is    =  '+string (IB) +' A ');\n",
"I=IA+IB;\n",
"disp('vi) TOTAL CURRENT (I) is    =  '+string (I) +' A ');"
   ]
   }
,
{
		   "cell_type": "markdown",
		   "metadata": {},
		   "source": [
			"## Example 2.66: Power.sce"
		   ]
		  },
  {
"cell_type": "code",
	   "execution_count": null,
	   "metadata": {
	    "collapsed": true
	   },
	   "outputs": [],
"source": [
"                           //EXAMPLE 2-66      PG NO-108\n",
"I=15;\n",
"Z1=10+%i*15\n",
"Z2=6-%i*8;\n",
"I1=[I*Z2]/(Z1+Z2);\n",
"disp('ii)  CURRENT (I1) is  in polar form  =  '+string (I1) +' A ');\n",
"I2=(I*Z1)/(Z1+Z2);\n",
"disp('ii)  CURRENT (I2) is  in polar form  =  '+string (I2) +' A ');\n",
"P1=8.59^2*10;\n",
"disp('ii)  Power (P1) is  in  polar form  =  '+string (P1) +' W ');\n",
"P2=15.49^2*6;\n",
"disp('ii)  Power (P2) is  in polar form  =  '+string (P2) +' W ');"
   ]
   }
,
{
		   "cell_type": "markdown",
		   "metadata": {},
		   "source": [
			"## Example 2.67: Branch_Impedance_Total_Impedance_Branch_Current_Total_Current.sce"
		   ]
		  },
  {
"cell_type": "code",
	   "execution_count": null,
	   "metadata": {
	    "collapsed": true
	   },
	   "outputs": [],
"source": [
"                          //EXAMPLE 2-67      PG NO-108-109\n",
"Z1=5;\n",
"V=100+%i*200;\n",
"I1=16;                      //CURRENT\n",
"P1=I1*I1*Z1;\n",
"disp('i)  POWER (P1) is    =  '+string (P1) +' W ');\n",
"P2=5000-P1;\n",
"disp('ii)  POWER (P2) is    =  '+string (P2) +' W ');\n",
"Q1=-69.02;\n",
"cos(-69.02)=0.35;\n",
"Z2=Z1/0.358;\n",
"disp('iii)  IMPEDANCE (Z2) is  in polar form   =  '+string (Z2) +'  ohms ');\n",
"X1=Z2*-0.933;\n",
"disp('i)   (X1) is  in polar form   =  '+string (X1) +'  ohms ');\n",
"Z3=5-%i*13.04;\n",
"I1=V/Z3;\n",
"disp('ii)  CURRENT (I1) is  in polar form  =  '+string (I1) +' A ');\n",
"P3=3720;\n",
"I2=P3/(223.6*0.8);\n",
"disp('ii)  CURRENT (I2) is  in polar form  =  '+string (I2) +' A ');\n",
"z2=8.6+%i*6.45;\n",
"I3=V/z2;\n",
"disp('ii)  CURRENT (I3) is  in polar form  =  '+string (I3) +' A ');\n",
"I=I1+I3;\n",
"disp('ii)  CURRENT (I) is  in polar form  =  '+string (I) +' A ');\n",
"Z=V/I;\n",
"disp('iii)  IMPEDANCE (Z) is  in polar form   =  '+string (Z) +'  ohms ')"
   ]
   }
,
{
		   "cell_type": "markdown",
		   "metadata": {},
		   "source": [
			"## Example 2.68: Total_Power.sce"
		   ]
		  },
  {
"cell_type": "code",
	   "execution_count": null,
	   "metadata": {
	    "collapsed": true
	   },
	   "outputs": [],
"source": [
"                                 //EXAMPLE 2-68     PG NO-109-110\n",
"V=100;\n",
"Y1=0.16+%i*0.12;\n",
"Y2=-%i*0.15;\n",
"I1=V*Y1;\n",
"disp('i)  CURRENT (I1) is  in polar form  =  '+string (I1) +' A ');\n",
"I2=V*Y2;\n",
"disp('ii)  CURRENT (I2) is  in polar form  =  '+string (I2) +' A ');\n",
"P=(V*I1*0.8)+(V*I2*0);\n",
"disp('iii)  Power (P) is  in polar form  =  '+string (P) +' W ');\n",
"I=I1+I2;\n",
"disp('ii)  CURRENT (I) is  in polar form  =  '+string (I) +' A ');"
   ]
   }
,
{
		   "cell_type": "markdown",
		   "metadata": {},
		   "source": [
			"## Example 2.69: Line_Current_Impedance_Circuits_Phase_Angle.sce"
		   ]
		  },
  {
"cell_type": "code",
	   "execution_count": null,
	   "metadata": {
	    "collapsed": true
	   },
	   "outputs": [],
"source": [
"                   //EXAMPLE 2-69   PG NO-110\n",
"F=50;\n",
"L=0.6;\n",
"R=100;\n",
"XL=(%pi*2*F*L)\n",
"disp('i)  INDUCTANCE (XL) is    =  '+string (XL) +' ohm ');\n",
"V=230+%i*0;\n",
"IR=V/R;\n",
"disp('ii)  CURRENT (IR) is  in polar form  =  '+string (IR) +' A ');\n",
"IL=V/(0+%i*XL);\n",
"disp('iii)  CURRENT (IL) is  in polar form  =  '+string (IL) +' A ');\n",
"I=IR+IL;\n",
"disp('iv)  CURRENT (I) is  in polar form  =  '+string (I) +' A ');\n",
"P=V*I*cos(degree(27.9));\n",
"disp('v)  POWER (P) is  in polar form  =  '+string (P) +' W ');\n",
"Z=V/I;\n",
"disp('vi)  IMPEDANCE (Z) is    =  '+string (Z) +' ohm ');\n",
"LEQ=41.39/(2*%pi*F);\n",
"disp('ii)  INDUCTANCE (LEQ) is    =  '+string (LEQ) +' H ');"
   ]
   }
,
{
		   "cell_type": "markdown",
		   "metadata": {},
		   "source": [
			"## Example 2.70: Current_Impedance.sce"
		   ]
		  },
  {
"cell_type": "code",
	   "execution_count": null,
	   "metadata": {
	    "collapsed": true
	   },
	   "outputs": [],
"source": [
"            //EXAMPLE 2-70      PG NO-110-111\n",
"ZA=-%i*227.36;               //IMPEDANCE\n",
"ZB=-%i*795.77;                        //IMPEDANCE\n",
"ZC=500;                         //IMPEDANCE\n",
"V=230+%i*0;                    //VOLTAGE\n",
"IA=V/ZA;                          //CURRENT\n",
"disp('i)  CURRENT (IA) is  in polar form  =  '+string (IA) +' A ');\n",
"IB=V/ZB;\n",
"disp('i)  CURRENT (IB) is  in polar form  =  '+string (IB) +' A ');\n",
"IC=V/ZC;\n",
"disp('i)  CURRENT (IC) is  in polar form  =  '+string (IC) +' A ');\n",
"I=IA+IB+IC;\n",
"disp('i)  CURRENT (I) is  in polar form  =  '+string (I) +' A ');\n",
"P=V*I*0.334;\n",
"disp('i)  POWER (P) is  in polar form  =  '+string (P) +' W ');\n",
"Z=V/I;\n",
"disp('vi)  IMPEDANCE (Z) is    =  '+string (Z) +' ohm ');"
   ]
   }
,
{
		   "cell_type": "markdown",
		   "metadata": {},
		   "source": [
			"## Example 2.71: Power_Power_Factor.sce"
		   ]
		  },
  {
"cell_type": "code",
	   "execution_count": null,
	   "metadata": {
	    "collapsed": true
	   },
	   "outputs": [],
"source": [
"                 //EXAMPLE 2-71  PG NO-111\n",
"V=240;\n",
"cos (degree(62.74))=0.458;\n",
"Pm=V*2*0.458;\n",
"disp('i)  POWER (Pm) is  in rectangular form  =  '+string (Pm) +' W ');\n",
"I=(2*0.458+1.5)-%i*(2*0.89);\n",
"disp('i)  CURRENT (I) is  in rectangular form  =  '+string (I) +' A ')\n",
"P=V*3*0.805\n",
"disp('i)  Power (P) is  in  rectangular form  =  '+string (P) +' W ')"
   ]
   }
,
{
		   "cell_type": "markdown",
		   "metadata": {},
		   "source": [
			"## Example 2.72: Power_Factor_Total_volts_Active_Reactive_power_Overall_Power_Factor.sce"
		   ]
		  },
  {
"cell_type": "code",
	   "execution_count": null,
	   "metadata": {
	    "collapsed": true
	   },
	   "outputs": [],
"source": [
"  //EXAMPLE 2-72   PG NO 111\n",
"P.F=0.5;\n",
"cosQ=0.5;\n",
"sinQ=0.866;\n",
"V=552;\n",
"I=2.3;\n",
"v=240;\n",
"PF1=0.89;\n",
"P=v*I*PF1;\n",
"Q=(V*V-P*P)^0.5;\n",
"disp(' ACTIVE POWER is = '+string(P)+' W');\n",
"disp(' REACTIVE POWER is = '+string(Q)+' vars');"
   ]
   }
,
{
		   "cell_type": "markdown",
		   "metadata": {},
		   "source": [
			"## Example 2.73: Inductance_Capacitance.sce"
		   ]
		  },
  {
"cell_type": "code",
	   "execution_count": null,
	   "metadata": {
	    "collapsed": true
	   },
	   "outputs": [],
"source": [
"     //EXAMPLE 2-73   PG NO-112\n",
"R=44.074;\n",
"V=230;\n",
"I=3.05;\n",
"Z=V/I;\n",
"Y=2.475;\n",
"X=(Z*Z-R*R)^0.5;\n",
"L=X/(2*%pi*50)     \n",
"Xc=V/Y;\n",
"C=1/(2*50*Xc*%pi);\n",
"disp(' impedance is = '+string(Z)+' ohm');       \n",
"disp(' X is = '+string(X)+' W');    \n",
"disp('inductance  is = '+string(L)+'H ');  \n",
"disp(' Xc is = '+string(Xc)+' ohm');\n",
"disp(' Capacitor is = '+string(C)+' F');    "
   ]
   }
,
{
		   "cell_type": "markdown",
		   "metadata": {},
		   "source": [
			"## Example 2.74: EX2_74.sce"
		   ]
		  },
  {
"cell_type": "code",
	   "execution_count": null,
	   "metadata": {
	    "collapsed": true
	   },
	   "outputs": [],
"source": [
"                 //EXAMPLE 2-74  PG NO-112\n",
"ZA=10+%i*7.226;               //IMPEDANCE\n",
"ZB=5+%i*10.99;               //IMPEDANCE\n",
"V=200+%i*0;                    //VOLTAGE\n",
"IA=V/ZA;                          //CURRENT\n",
"disp('i)  CURRENT (IA) is  in polar form  =  '+string (IA) +' A ');\n",
"IB=V/ZB;\n",
"disp('ii)  CURRENT (IB) is  in polar form  =  '+string (IB) +' A ');\n",
"I=IA+IB;\n",
"disp('iii)  CURRENT (I) is  in polar form  =  '+string (I) +' A ');\n",
"S=V*I;\n",
"disp('i)  Apparent Power (S) is     =  '+string (S) +'  VA ');\n",
"P=V*I*0.63;\n",
"disp('i) Active Power (P) is     =  '+string (P) +'  W ');\n",
"Q=V*I*0.775;\n",
"disp('i) Reactive Power (Q) is     =  '+string (Q) +'  Var ');"
   ]
   }
,
{
		   "cell_type": "markdown",
		   "metadata": {},
		   "source": [
			"## Example 2.75: Current_Total_Apparent_Active_Reactive_Power_Power_Factor.sce"
		   ]
		  },
  {
"cell_type": "code",
	   "execution_count": null,
	   "metadata": {
	    "collapsed": true
	   },
	   "outputs": [],
"source": [
"                  //EXAMPLE 2-75   PG NO-113\n",
"V=100+%i*0;\n",
"R=3+%i*2;\n",
"I=V/R;\n",
"disp('i)  CURRENT (I) is  in polar form  =  '+string (I) +' A ');\n",
"ZA=10+%i*8;\n",
"ZB=9-%i*6;\n",
"ZC=3+%i*2;\n",
"IB=I*[ZA/(ZA+ZB)];\n",
"disp('i)  CURRENT (IB) is  in polar form  =  '+string (IB) +' A ');\n",
"IA=I*[ZB/(ZA+ZB)];\n",
"disp('i)  CURRENT (IA) is  in polar form  =  '+string (IA) +' A ');\n",
"Z=[(ZA*ZB)/{ZA+ZB}]+ZC;\n",
"disp('vi)  IMPEDANCE (Z) is    =  '+string (Z) +' ohm ');\n",
"V1=I*Z;\n",
"disp('vi)VOLTAGE  (V1) is    =  '+string (V1) +' V ');\n",
"S=V1*I;\n",
"disp('i)  Apparent Power (S) is     =  '+string (S) +'  VA ');\n",
"P=V1*I*0.984;\n",
"disp('i) Active Power (P) is     =  '+string (P) +'  W ');\n",
"Q=[S^2-P^2]^0.5;\n",
"disp('i) Reactive Power (Q) is     =  '+string (Q) +'  Var ');"
   ]
   }
,
{
		   "cell_type": "markdown",
		   "metadata": {},
		   "source": [
			"## Example 2.76: magnitude_Phase_Angle_Total_Impedance.sce"
		   ]
		  },
  {
"cell_type": "code",
	   "execution_count": null,
	   "metadata": {
	    "collapsed": true
	   },
	   "outputs": [],
"source": [
"Z1=8+%i*10;\n",
"Z2=7+%i*9;\n",
"Z3=5-%i*2;\n",
"Z={Z1*Z2}/{Z1+Z2};\n",
"disp('vi)  IMPEDANCE (Z) is    in polar form  =  '+string (Z) +' ohm ');\n",
"TZ=Z+Z3;\n",
"disp('vi) TOTAL  IMPEDANCE (TZ) is    =  '+string (TZ) +' ohm ');"
   ]
   }
,
{
		   "cell_type": "markdown",
		   "metadata": {},
		   "source": [
			"## Example 2.77: Power_Factor.sce"
		   ]
		  },
  {
"cell_type": "code",
	   "execution_count": null,
	   "metadata": {
	    "collapsed": true
	   },
	   "outputs": [],
"source": [
"                          //EXAMPLE 2-77    PG NO-114\n",
"R=sqrt(2.5^2-1.724^2)-0.69;\n",
"disp('i)   Resistance (R) is    =  '+string (R) +'  ohm ');\n",
"R1=sqrt(2.5^2-1.92^2)-0.384;\n",
"disp('ii)   Resistance (R1) is    =  '+string (R1) +'  ohm ');\n",
"r=5;\n",
"PF=(0.69+R)/2.5;\n",
"disp('iii)   Power Factor (PF) is    =  '+string (PF) +'  lagging ');\n",
"r1=10;\n",
"PF1=(0.384+R1)/2.5;\n",
"disp('iv)   Power Factor (PF1) is    =  '+string (PF1) +'  lagging ');"
   ]
   }
,
{
		   "cell_type": "markdown",
		   "metadata": {},
		   "source": [
			"## Example 2.78: Voltage.sce"
		   ]
		  },
  {
"cell_type": "code",
	   "execution_count": null,
	   "metadata": {
	    "collapsed": true
	   },
	   "outputs": [],
"source": [
"                     //EXAMPLE  2-78  PG NO-114-115\n",
"I=10;\n",
"L1=0.0318;                    //INDUCTANCE\n",
"L2=0.0191;\n",
"F=50;                         //FREQUENCY\n",
"C=398*10^-6;                  //CAPACITOR\n",
"XL1=[2*%pi*F*L1];\n",
"disp('i)   INDUCYANCE (XL1) is    =  '+string (XL1) +' ohm ');\n",
"XL2=[2*%pi*F*L2];\n",
"disp('ii)   INDUCYANCE (XL2) is    =  '+string (XL2) +' ohm ');\n",
"XC=1/[2*%pi*F*C];\n",
"disp('iii) CAPACITOR (XC) is    =  '+string (XC) +' ohm ');\n",
"Z1=5+%i*6;\n",
"Z2=7-%i*8;\n",
"Z3=8+%i*9.99;\n",
"Z=[(Z1*Z2)/(Z1+Z2)]+Z3;\n",
"disp('iv)   IMPEDANCE (Z) is  in polar form  =  '+string (Z) +' ohm ');\n",
"VAB=I*Z;\n",
"disp('i) VOLTAGE  (VAB) is  in polar form  =  '+string (VAB) +' V ')"
   ]
   }
,
{
		   "cell_type": "markdown",
		   "metadata": {},
		   "source": [
			"## Example 2.79: Voltage.sce"
		   ]
		  },
  {
"cell_type": "code",
	   "execution_count": null,
	   "metadata": {
	    "collapsed": true
	   },
	   "outputs": [],
"source": [
"                                 //EXAMPLE 2-79    PG NO-115\n",
"I2=10+%i*0;\n",
"Z1=7-%i*8;\n",
"Z2=5+%i*6\n",
"V=I2*Z1;\n",
"disp('i) VOLTAGE  (V) is  in polar form  =  '+string (V) +' V ');\n",
"I1=V/Z2;\n",
"disp('i) CURRENT  (I1) is  in polar form  =  '+string (I1) +' A ')\n",
"I=I2-%i*13.44;\n",
"disp('i) CURRENT  (I) is  in polar form  =  '+string (I) +' A ')\n",
"VAB=15.57*18.52;\n",
"disp('i) VOLTAGE  (VAB) is  in polar form  =  '+string (VAB) +' V ')"
   ]
   }
,
{
		   "cell_type": "markdown",
		   "metadata": {},
		   "source": [
			"## Example 2.7: addition_and_substraction.sce"
		   ]
		  },
  {
"cell_type": "code",
	   "execution_count": null,
	   "metadata": {
	    "collapsed": true
	   },
	   "outputs": [],
"source": [
"                     //EXAMPLE  2-7       PG NO 64-65\n",
"V1=24.15+%i*6.47;                 //VOLTAGE\n",
"V2=7.5+%i*12.99;                    //VOLTAGE\n",
"X=V1+V2;                        //ADITION fo v1&v2\n",
"disp('i)ADITION  is in rectangular  form =  '+string (X)+' V')\n",
"X1=V1-V2;                      //subsraction     of v1&v2\n",
"disp('i)substraction  is in rectangular  form =  '+string (X1)+' V')"
   ]
   }
,
{
		   "cell_type": "markdown",
		   "metadata": {},
		   "source": [
			"## Example 2.80: R1_X1_X2.sce"
		   ]
		  },
  {
"cell_type": "code",
	   "execution_count": null,
	   "metadata": {
	    "collapsed": true
	   },
	   "outputs": [],
"source": [
"                                    //EXAMPLE 2-80        PG NO-115-16\n",
"I=12+%i*0;\n",
"X2=13.33;\n",
"R=10+%i*13.33;\n",
"V=I*R;\n",
"disp('i) VOLTAGE  (V) is  in polar form  =  '+string (V) +' V ')\n",
"V1=30-%i*27.67;\n",
"Z1=10.6165+%i*1.5;\n",
"R1=V1/Z1;\n",
"disp('i) RESISTANCE  (R1) is  in polar form  =  '+string (R1) +' ohm ')"
   ]
   }
,
{
		   "cell_type": "markdown",
		   "metadata": {},
		   "source": [
			"## Example 2.81: Current_in_each_branch_Total_Current_Active_Reactive_Apparent_Power.sce"
		   ]
		  },
  {
"cell_type": "code",
	   "execution_count": null,
	   "metadata": {
	    "collapsed": true
	   },
	   "outputs": [],
"source": [
"                          //EXAMPLE 2-81  PG NO-116-117\n",
"Z1=10+%i*10;\n",
"Z2=20+%i*0;\n",
"Z3=20-%i*0.2;\n",
"V=100+%i*0;\n",
"I1=V/Z1;\n",
"disp('i) CURRENT  (I1) is  in polar form  =  '+string (I1) +' A ')\n",
"I2=V/Z2;\n",
"disp('i) CURRENT  (I2) is  in polar form  =  '+string (I2) +' A ')\n",
"I3=V/Z3;\n",
"disp('i) CURRENT  (I3) is  in polar form  =  '+string (I3) +' A ')\n",
"I=I1+I2+I3;\n",
"disp('i) CURRENT  (I) is  in polar form  =  '+string (I) +' A ')\n",
"S=V*I;\n",
"disp('i)  Apparent Power (S) is    in  polar form  =  '+string (S) +'  VA ');\n",
"P=V*I*0.95;\n",
"disp('i) Active Power (P) is  in polar form   =  '+string (P) +'  W ');\n",
"Q=[S^2-P^2]^0.5;\n",
"disp('i) Reactive Power (Q) is   in  polar form  =  '+string (Q) +'  Var ');"
   ]
   }
,
{
		   "cell_type": "markdown",
		   "metadata": {},
		   "source": [
			"## Example 2.82: Resistance_Capacitance.sce"
		   ]
		  },
  {
"cell_type": "code",
	   "execution_count": null,
	   "metadata": {
	    "collapsed": true
	   },
	   "outputs": [],
"source": [
"                  //EXAMPLE 2-82         PG NO-117\n",
"Z1=4+%i*314.16;                       //Impedance\n",
"I1=1/Z1;                                  //CURRENT\n",
"disp('i)   Current (I1) is    =  '+string (I1) +'  A ');\n",
"I2=I1+%i*90;                             //CURRENT\n",
"disp('ii)   Current (I2) is    =  '+string (I2) +'  A ');\n",
"Z2=1/I2;                               //IMPEDANCE\n",
"disp('i)  Impedance (Z2) is    =  '+string (Z2) +'  ohm ');\n",
"R=310.16;                        //RESISTANCE\n",
"Xc=310.16;\n",
"F=50;\n",
"C=1/(2*%pi*F*Xc);\n",
"disp('i)   Capacitor (C) is    =  '+string (C) +'  F ');"
   ]
   }
,
{
		   "cell_type": "markdown",
		   "metadata": {},
		   "source": [
			"## Example 2.83: Active_Reactive_Apparent_Power.sce"
		   ]
		  },
  {
"cell_type": "code",
	   "execution_count": null,
	   "metadata": {
	    "collapsed": true
	   },
	   "outputs": [],
"source": [
"                         //EXAMPLE 2-83    PG NO-117-118\n",
"V=125+%i*0;\n",
"I1=5+%i*0;\n",
"I2=1.2+%i*1.964;\n",
"Z2=V/I2;\n",
"disp('iv)   IMPEDANCE (Z2) is  in polar form  =  '+string (Z2) +' ohm ');\n",
"R=28.26;\n",
"XC=46.43;\n",
"F=50;\n",
"C=1/[2*%pi*F*XC];\n",
"disp('iv)   CAPACITOR (C) is  in polar form  =  '+string (C) +' F ');\n",
"I=I1+I2;\n",
"disp('iv)   CURRENT (I) is  in polar form  =  '+string (I) +' A ');\n",
"S=V*I;\n",
"disp('i)  Apparent Power (S) is    in  polar form  =  '+string (S) +'  VA ');\n",
"P=S*0.953;\n",
"disp('i) Active Power (P) is  in polar form   =  '+string (P) +'  W ');\n",
"Q=S*0.302;\n",
"disp('i) Reactive Power (Q) is   in  polar form  =  '+string (Q) +'  Var ');"
   ]
   }
,
{
		   "cell_type": "markdown",
		   "metadata": {},
		   "source": [
			"## Example 2.84: Frequency.sce"
		   ]
		  },
  {
"cell_type": "code",
	   "execution_count": null,
	   "metadata": {
	    "collapsed": true
	   },
	   "outputs": [],
"source": [
"                           //EXAMPLE 2-84            PG  NO  121-122\n",
"L=0.01;                   //Inductance\n",
"C=0.04*10^-6;                 //Capacitor\n",
"Fo=1/[2*%pi*(sqrt(L*C))];\n",
"disp('i)  Resonant Frequency (Fo) is    =  '+string (Fo) +'  Hz ');\n",
"Z=50;\n",
"R=Z;\n",
"V=100;\n",
"Io=V/R;\n",
"disp('ii)  Current (Io) is    =  '+string (Io) +'  A ');\n",
"Fc=(1/(2*%pi))*[(1/(L*C))-(R^2/(2*L^2))]^0.5;\n",
"disp('iii)  Cutt Frequency (Fc) is    =  '+string (Fc) +'  Hz ');\n",
"Z1=50-%i*2.5;\n",
"Xc=1/[2*%pi*Fc*C];\n",
"disp('iv)  Xc (Xc) is    =  '+string (Xc) +'   ');\n",
"Vc=[100/Z1]*Xc;\n",
"disp('v)  VOLTAGE (Vc) is    =  '+string (Vc) +'  V ');\n",
"FL=1/[(2*%pi)*[(L*C)-[(R^2*C^2)/2]]^0.5];\n",
"disp('vi) Frequency (FL) is    =  '+string (FL) +'  Hz ');\n",
"Z2=50+%i*2.5;\n",
"VL=[100/Z2]*(2*%pi*FL*0.1);\n",
"disp('i)  VOLTAGE (VL) is    =  '+string (VL) +'  V ');"
   ]
   }
,
{
		   "cell_type": "markdown",
		   "metadata": {},
		   "source": [
			"## Example 2.85: Current.sce"
		   ]
		  },
  {
"cell_type": "code",
	   "execution_count": null,
	   "metadata": {
	    "collapsed": true
	   },
	   "outputs": [],
"source": [
"    //example 285  pg no-126\n",
"I1=0.707;\n",
"I2=0.707;\n",
"db=20*log10(0.707);\n",
"disp(' Ration in db is = '+string(db)+' ');    "
   ]
   }
,
{
		   "cell_type": "markdown",
		   "metadata": {},
		   "source": [
			"## Example 2.86: Resonant_Frequency_Upper_Lower_Half_Frequency_Band_Width_Voltage.sce"
		   ]
		  },
  {
"cell_type": "code",
	   "execution_count": null,
	   "metadata": {
	    "collapsed": true
	   },
	   "outputs": [],
"source": [
"    //EXAMPLE 2-86 PG NO 126\n",
"L=0.5;                        //inductance\n",
"C=40*10^-6;                   //capacitor\n",
"Wo=1/(L*C)^0.5;\n",
"R=10;                       //resistance\n",
"V=100;                     //voltage\n",
"Fo=Wo/(2*%pi);            //frequency\n",
"Q=(Wo*L)/R;\n",
"W2=233.6;              //frequency\n",
"W1=213.6;            //frequency\n",
"B.W=W2-W1;          //Band width\n",
"Io=V/R;          //current at resonance\n",
"Io1=0.707*Io;   //current at half power points\n",
"V1=Q*V;         //voltage aacross inductance at resonance\n",
"disp(' frequency is = '+string(Wo)+' rad/sec');\n",
"disp(' frequency is = '+string(Fo)+' Hz');\n",
"disp(' Q is = '+string(Q)+' ');\n",
"disp(' BAND WIDTH is = '+string(B.W)+' rad/sec');  \n",
"disp(' current at resonance is = '+string(Io)+' A');\n",
"disp(' current at half power points is = '+string(Io1)+' A');\n",
"disp('voltage aacross inductance at resonance  is = '+string(V1)+' V');"
   ]
   }
,
{
		   "cell_type": "markdown",
		   "metadata": {},
		   "source": [
			"## Example 2.87: Inductance_Q_Current_voltage.sce"
		   ]
		  },
  {
"cell_type": "code",
	   "execution_count": null,
	   "metadata": {
	    "collapsed": true
	   },
	   "outputs": [],
"source": [
"       //EXAMPLE 2-87    PG NO-127  \n",
"Wo=1000;\n",
"C=20*10^-6;\n",
"R=2;\n",
"V=10;\n",
"L=1/((Wo^2)*C);\n",
"Q=(Wo*L)/R;\n",
"I=V/R;\n",
"Vr=I*R;\n",
"VL=Q*V;\n",
"Vc=Q*V;\n",
"disp(' INDUCTANCE is = '+string(L)+' H');\n",
"disp(' Q is = '+string(Q)+' ');\n",
"disp(' CURRENT(I) is = '+string(I)+' A');\n",
"disp('VOLTAGE ACROSS RESISTANCE is = '+string(Vr)+' V');\n",
"disp('VOLTAGE ACROSS INDUCTANCE is = '+string(VL)+' V');\n",
"disp(' VOLTAGE ACROSS CAPACITANCE is = '+string(Vc)+' V');"
   ]
   }
,
{
		   "cell_type": "markdown",
		   "metadata": {},
		   "source": [
			"## Example 2.88: Resonant_Frequency_Rc.sce"
		   ]
		  },
  {
"cell_type": "code",
	   "execution_count": null,
	   "metadata": {
	    "collapsed": true
	   },
	   "outputs": [],
"source": [
"     //EXAMPLE 2-88  PG NO-130\n",
"L=10^-3;           //INDUCTANCE\n",
"C=20*10^-6;      //CAPACITOR\n",
"Rc=4;            //CAPACITOR  RESISTANCE \n",
"RL=6;           //LOAD RESISTANCE\n",
"Wo=(1/(L*C)^0.5)*(((RL*RL)-(L/C))/((Rc*Rc)-(L/C)))^0.5;\n",
"disp(' Wo is = '+string(Wo)+' rad/sec');"
   ]
   }
,
{
		   "cell_type": "markdown",
		   "metadata": {},
		   "source": [
			"## Example 2.89: Resonant_Frequency_Q_Band_Width_Out_put_Voltage.sce"
		   ]
		  },
  {
"cell_type": "code",
	   "execution_count": null,
	   "metadata": {
	    "collapsed": true
	   },
	   "outputs": [],
"source": [
"    //example 2-89  pg no-134\n",
"L=8*10^-3;               //INDUCTANCE\n",
"C=16*10^-9;\n",
"Wo=1/[L*C]^0.5;\n",
"R=10;                  //RESISTANCE\n",
"Fo=Wo/(2*%pi);      //FREQUENCY\n",
"Q=(Wo*L)/R;\n",
"Rp=((R*R)+(Wo*Wo*L*L))/R\n",
"Vo1=100;\n",
"B.W1=Wo/Q;\n",
"R2=10*10^3;\n",
"R3=60*10^3;\n",
"LR=(Rp*R2)/R3;\n",
"Q1=(Q*LR)/Rp\n",
"Vo2=16.666;\n",
"B.W2=Wo/Q1;\n",
"disp(' Wo is = '+string(Wo)+' rad/sec');\n",
"disp(' Q is = '+string(Q)+' ');\n",
"disp(' Rp is = '+string(Rp)+' ohm');\n",
"disp('BAND WIDTH 1 is = '+string(B.W1)+' rad/sec');\n",
"disp('Load resistance is = '+string(LR)+' ohm');\n",
"disp('  Q1 is = '+string (Q1)+' ');\n",
"disp('BAND WIDTH2is = '+string(B.W2)+' rad/sec');"
   ]
   }
,
{
		   "cell_type": "markdown",
		   "metadata": {},
		   "source": [
			"## Example 2.8: ADDITION_SUBSTRACTION_MULTIPLICATION_DIVISION.sce"
		   ]
		  },
  {
"cell_type": "code",
	   "execution_count": null,
	   "metadata": {
	    "collapsed": true
	   },
	   "outputs": [],
"source": [
"                           //EXAMPLE 2-8        PG NO-65\n",
"A=3+%i*1;\n",
"B=4+%i*3;\n",
"X=A+B;                   //ADDITION\n",
"Y=A-B;                     //SUBSTRACTION\n",
"Z=A*B;                     //MULTIPLICATION\n",
"U=A/B;                     //DIVISION\n",
"V=A^4;                         \n",
"P=B^(1/3);\n",
"disp('ii)   ADDITION (A+B) is  in polar form  =  '+string (X) +'  ohm ');\n",
"disp('ii)   SUBSTRACTION (A-B) is in polar form   =  '+string (Y) +'  ohm ');\n",
"disp('ii)   MULTIPLICATION (A*B) is  in polar form  =  '+string (Z) +'  ohm ');\n",
"disp('ii)   DIVISION (A/B) is  is in polar form  =  '+string (U) +'  ohm ');\n",
"disp('ii)   SQUARE  OF A(A^4) is  in polar form  =  '+string (V) +'  ohm ');\n",
"disp('ii)   CUBE ROOT OF B (B^(1/3)) is  in polar form  =  '+string (P) +'  ohm ');"
   ]
   }
,
{
		   "cell_type": "markdown",
		   "metadata": {},
		   "source": [
			"## Example 2.90: R_L_C.sce"
		   ]
		  },
  {
"cell_type": "code",
	   "execution_count": null,
	   "metadata": {
	    "collapsed": true
	   },
	   "outputs": [],
"source": [
"   //EX 2-90  PG NO-135\n",
"R=20;          //RESISTANCE\n",
"Vc=250;       //VOLTAGE\n",
"I=1;        //CURRENT\n",
"F=50;        //FREQUENCY\n",
"W=2*%pi*F;\n",
"C=1/(W*50);       //CAPACITOR\n",
"L=1/(W*W*C);        //INDUTANCE\n",
"disp('W is = '+string(W)+' ');\n",
"disp('CAPACITANCE(C) is = '+string(C)+' F');\n",
"disp('INDUCTANCE(L) is = '+string(L)+' H');\n",
""
   ]
   }
,
{
		   "cell_type": "markdown",
		   "metadata": {},
		   "source": [
			"## Example 2.91: Current_at_resonance.sce"
		   ]
		  },
  {
"cell_type": "code",
	   "execution_count": null,
	   "metadata": {
	    "collapsed": true
	   },
	   "outputs": [],
"source": [
"    //EXAMPLE 2-91  PG NO-135\n",
"L=10*10^-6;      //INDUCTANCE\n",
"R=1;        //RESISTANCE\n",
"C=10^4*10^-12;   //CAPACITOR\n",
"V=100;          //VOLTAGE\n",
"Z=L/(C*R);     //IMPEDANCE\n",
"I=V/Z;        //CURRENT\n",
"disp('IMPEDANCE is = '+string(Z)+'ohm');\n",
"disp('CURRENT is = '+string(I)+' A');"
   ]
   }
,
{
		   "cell_type": "markdown",
		   "metadata": {},
		   "source": [
			"## Example 2.92: frequency.sce"
		   ]
		  },
  {
"cell_type": "code",
	   "execution_count": null,
	   "metadata": {
	    "collapsed": true
	   },
	   "outputs": [],
"source": [
"//EXAMPL2-92  PG NO-136\n",
"L=0.5;\n",
"R=25;\n",
"C=10^-6;\n",
"Wo= ((L- (R*R*C))/(5*10^-6*(0.5*0.5)))^0.5;\n",
"Q=(Wo*L)/R;\n",
"B.W=Wo/Q;\n",
"disp('FREQUENCY is = '+string(Wo)+' rad/sec');\n",
"disp('Q is = '+string(Q)+' ');\n",
"disp('band width is = '+string(B.W)+'rad/sec');"
   ]
   }
,
{
		   "cell_type": "markdown",
		   "metadata": {},
		   "source": [
			"## Example 2.93: Self_Inductane_Mutual_Inductance_voltage_induce.sce"
		   ]
		  },
  {
"cell_type": "code",
	   "execution_count": null,
	   "metadata": {
	    "collapsed": true
	   },
	   "outputs": [],
"source": [
"   //EXAMPLE 2-93  PG NO-139\n",
"N1=100;\n",
"Q1=0.05*10^-3;\n",
"I1=5;\n",
"L1=0.01;\n",
"L2=0.01;\n",
"K=0.6;\n",
"i=1000;     //(di/dt=20/0.02)\n",
"M=K*((L1*L2)^0.5);\n",
"V=M*i;\n",
"disp('mutual induction is = '+string(M)+' H');\n",
"disp('voltage induce is = '+string(V)+' v');"
   ]
   }
,
{
		   "cell_type": "markdown",
		   "metadata": {},
		   "source": [
			"## Example 2.94: Mutual_Inductance_EMF.sce"
		   ]
		  },
  {
"cell_type": "code",
	   "execution_count": null,
	   "metadata": {
	    "collapsed": true
	   },
	   "outputs": [],
"source": [
"     //EXAMPLE 2.94    PG NO-139-140\n",
"L=0.6;   //LENGTH\n",
"a=20*10^-4;   //AREA\n",
"MU=(4*%pi*10^-7);\n",
"R=L/(MU*a);\n",
"N1=1500;\n",
"N2=500;\n",
"i=250;\n",
"M=(N1*N2)/R;\n",
"e=M*(i);\n",
"disp('R = '+string(R)+' ');\n",
"disp('mutual induction is = '+string(M)+' H');\n",
"disp('E.M.F INDUCE is = '+string(e)+' V');"
   ]
   }
,
{
		   "cell_type": "markdown",
		   "metadata": {},
		   "source": [
			"## Example 2.95: Mutual_Inductance.sce"
		   ]
		  },
  {
"cell_type": "code",
	   "execution_count": null,
	   "metadata": {
	    "collapsed": true
	   },
	   "outputs": [],
"source": [
"                           //EXAMPLE 2-95     PG NO-140\n",
"L=1.5;                   //INDUCTANCE\n",
"a=(2000*0.01);\n",
"R=L/(4*%pi*10^-7*a);              //RESISTANCE\n",
"disp('i)  Resistance (R) is    =  '+string (R) +'  ohm ');\n",
"N1=30;\n",
"N2=600;\n",
"M=(N1*N2)/R;\n",
"disp('ii)  M (M) is    =  '+string (M) +'  H ');\n",
"e=M*(10/0.01);\n",
"disp('iii) e (e) is    =  '+string (e) +'  V ');"
   ]
   }
,
{
		   "cell_type": "markdown",
		   "metadata": {},
		   "source": [
			"## Example 2.96: Mutual_Inductance_Coefficient_Coupling.sce"
		   ]
		  },
  {
"cell_type": "code",
	   "execution_count": null,
	   "metadata": {
	    "collapsed": true
	   },
	   "outputs": [],
"source": [
"     //EXAMPLE-2.96   PG NO-140\n",
"M=0.125;\n",
"L1=0.2;\n",
"L2=0.15;\n",
"K=M/((L1*L2)^0.5)\n",
"disp('i) K = '+string (K)+' ');     "
   ]
   }
,
{
		   "cell_type": "markdown",
		   "metadata": {},
		   "source": [
			"## Example 2.97: L1_L2_M_K.sce"
		   ]
		  },
  {
"cell_type": "code",
	   "execution_count": null,
	   "metadata": {
	    "collapsed": true
	   },
	   "outputs": [],
"source": [
"                                //EXAMPLE-2.97  PG NO-140\n",
"N1=500;             //NUMBER OF TURN\n",
"N22=1500;\n",
"N12=500\n",
"Q1=0.6*10^-3;        //FLUX OF COIL\n",
"I1=5;                //CURRENT\n",
"Q12=0.3*10^-3;\n",
"L1=(N1*Q1)/I1\n",
"K=Q12/Q1;\n",
"L2=(N22/N12)*L1;\n",
"M=K*((L1*L2)^0.5);\n",
"disp('i) L1 = '+string (L2)+' ');\n",
"disp('ii) K = '+string (K)+' H');\n",
"disp('iii) L2 = '+string (L2)+' H');          \n",
"disp('i) M = '+string (M)+' H ');"
   ]
   }
,
{
		   "cell_type": "markdown",
		   "metadata": {},
		   "source": [
			"## Example 2.98: L1_L2_M_N2.sce"
		   ]
		  },
  {
"cell_type": "code",
	   "execution_count": null,
	   "metadata": {
	    "collapsed": true
	   },
	   "outputs": [],
"source": [
"              //example-2.98   pg no-141\n",
"L1=37.5*10^-3;\n",
"M=63.75*10^-3;\n",
"K=0.85;\n",
"N1=250;\n",
"L2=((M/K)^2)/L1;\n",
"N2=250/((L1/L2)^0.5);\n",
"disp('i) L2 = '+string (L2)+' ');\n",
"disp('i) N2 = '+string (N2)+' ');"
   ]
   }
,
{
		   "cell_type": "markdown",
		   "metadata": {},
		   "source": [
			"## Example 2.99: M_K.sce"
		   ]
		  },
  {
"cell_type": "code",
	   "execution_count": null,
	   "metadata": {
	    "collapsed": true
	   },
	   "outputs": [],
"source": [
"                             //EXAMPLE 2-99       PG NO -141\n",
"L1=6.8;\n",
"L2=4.5;\n",
"C1=19.6;\n",
"C2=3;\n",
"M=(C1-C2)/4;\n",
"disp('i)  M (M) is    =  '+string (M) +'  mH ');\n",
"K=M/sqrt(L1*L2);\n",
"disp('ii)  K (K) is    =  '+string (K) +'   ');"
   ]
   }
,
{
		   "cell_type": "markdown",
		   "metadata": {},
		   "source": [
			"## Example 2.9: Rate_of_change_of_current.sce"
		   ]
		  },
  {
"cell_type": "code",
	   "execution_count": null,
	   "metadata": {
	    "collapsed": true
	   },
	   "outputs": [],
"source": [
"                              //EXAMPLE 2-9           PG NO-65\n",
"t1=0.0025;                              //time\n",
"t2=0.005;                               //time\n",
"t3=0.01;                                //time\n",
"i1=10*314.16*cos(314.16*t1);                     //i1 is derivatives of i wrt t;\n",
"disp('i)  Current  = '+string (i1)+'A ');\n",
"i2=10*314.16*cos(314.16*t2);\n",
"disp('ii)  Current  = '+string (i2)+'A ');\n",
"i3=10*314.16*cos(314.16*t3);\n",
"disp('iii)  Current  = '+string (i3)+'A ');"
   ]
   }
],
"metadata": {
		  "kernelspec": {
		   "display_name": "Scilab",
		   "language": "scilab",
		   "name": "scilab"
		  },
		  "language_info": {
		   "file_extension": ".sce",
		   "help_links": [
			{
			 "text": "MetaKernel Magics",
			 "url": "https://github.com/calysto/metakernel/blob/master/metakernel/magics/README.md"
			}
		   ],
		   "mimetype": "text/x-octave",
		   "name": "scilab",
		   "version": "0.7.1"
		  }
		 },
		 "nbformat": 4,
		 "nbformat_minor": 0
}
