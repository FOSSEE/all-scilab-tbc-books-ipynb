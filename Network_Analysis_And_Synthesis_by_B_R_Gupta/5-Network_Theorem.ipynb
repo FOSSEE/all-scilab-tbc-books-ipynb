{
"cells": [
 {
		   "cell_type": "markdown",
	   "metadata": {},
	   "source": [
       "# Chapter 5: Network Theorem"
	   ]
	},
{
		   "cell_type": "markdown",
		   "metadata": {},
		   "source": [
			"## Example 5.10: Power_dissipared.sce"
		   ]
		  },
  {
"cell_type": "code",
	   "execution_count": null,
	   "metadata": {
	    "collapsed": true
	   },
	   "outputs": [],
"source": [
"        //EXAMPLE  5-10 PG NO-303\n",
"I1=(58/21);\n",
"R1=2;\n",
"R2=5;\n",
"R3=15;\n",
"VTH=R1+I1;                  //Thevenins Voltage\n",
"RTH=(1*(R2+R3))/(1+(R2+R3));      //Thevenins   resistance\n",
"I=VTH/(10+RTH);             //CURRENT\n",
"P=I*I*10;                  //POWER\n",
"disp('i)Thevenins  voltage  (VTH) is   =  '+string (VTH)+'V ');\n",
"disp('i) Thevenins   resistance (RTH) is   =  '+string (RTH)+'ohm ');\n",
"disp('i) current (I) is   =  '+string (I)+'A ');\n",
"disp('i) power (P) is   =  '+string (P)+'W ');"
   ]
   }
,
{
		   "cell_type": "markdown",
		   "metadata": {},
		   "source": [
			"## Example 5.11: Voltage.sce"
		   ]
		  },
  {
"cell_type": "code",
	   "execution_count": null,
	   "metadata": {
	    "collapsed": true
	   },
	   "outputs": [],
"source": [
"                             //EXAMPLE 5-11        PG NO-303\n",
"X=8+%i*8;                             //X=I1/V1;\n",
"X1=0+%i*30/25+%i*80;                  //X1=Va/V1;\n",
"V1=[20*(25+%i*80)]/(0+%i*30);\n",
"disp(' VOLTAGE is  in polar form = '+string(V1)+'V');"
   ]
   }
,
{
		   "cell_type": "markdown",
		   "metadata": {},
		   "source": [
			"## Example 5.12: Current.sce"
		   ]
		  },
  {
"cell_type": "code",
	   "execution_count": null,
	   "metadata": {
	    "collapsed": true
	   },
	   "outputs": [],
"source": [
"           //EXAMPLE 5-12   PG NO304-305\n",
"I2=0.411+%i*0;\n",
"VTH=5+%i*0-(I2*5);\n",
"ZTH=1/(1+(1/2)+(1/5));\n",
"Iab=VTH/(ZTH+(2+%i*2));\n",
"disp('i) VOLTAGE (VTH) is in polar form   =  '+string (VTH)+'V ');\n",
"disp('i) IMPEDANCE (ZTH) is    in polar form =  '+string (ZTH)+'ohms ');\n",
"disp('i) Current (Iab) is   in polar form =  '+string (Iab)+'A ');"
   ]
   }
,
{
		   "cell_type": "markdown",
		   "metadata": {},
		   "source": [
			"## Example 5.13: Current.sce"
		   ]
		  },
  {
"cell_type": "code",
	   "execution_count": null,
	   "metadata": {
	    "collapsed": true
	   },
	   "outputs": [],
"source": [
"           //EXAMPLE 5-13  PG NO-305\n",
"Z1=10+%i*0;\n",
"Z2=-%i*5;\n",
"Z3=3+%i*4;\n",
"Z4=3-%i*4;\n",
"Z5=10+%i*2.5;\n",
"VTH=(Z1*Z2)/(Z3+Z2);\n",
"ZTH=2+((20-%i*15)/(3-%i*1));\n",
"ZL=VTH/(ZTH+Z5);\n",
"disp('i) VOLTAGE (VTH) is   =  '+string (VTH)+'V ');\n",
"disp('i) IMPEDANCE (ZTH) is   =  '+string (ZTH)+'ohm ');\n",
"disp('i) IMPEDANCE (ZL) is   =  '+string (ZL)+'A ');"
   ]
   }
,
{
		   "cell_type": "markdown",
		   "metadata": {},
		   "source": [
			"## Example 5.14: Current.sce"
		   ]
		  },
  {
"cell_type": "code",
	   "execution_count": null,
	   "metadata": {
	    "collapsed": true
	   },
	   "outputs": [],
"source": [
"        //EXAMPLE 5-14  PG NO-306\n",
"V1=120;\n",
"V2=65;\n",
"R1=40;\n",
"R2=60;\n",
"IN=(V1/R1)+(V2/R2);\n",
"RN=(R1*R2)/(R1+R2);\n",
"IRL=IN*(RN/(RN+11));\n",
"disp('i) Current (IN) is   =  '+string (IN)+'A ');\n",
"disp('i) Current (RN) is   =  '+string (RN)+'ohms ');\n",
"disp('i) Current (IRL) is   =  '+string (IRL)+'A ');"
   ]
   }
,
{
		   "cell_type": "markdown",
		   "metadata": {},
		   "source": [
			"## Example 5.15: Current.sce"
		   ]
		  },
  {
"cell_type": "code",
	   "execution_count": null,
	   "metadata": {
	    "collapsed": true
	   },
	   "outputs": [],
"source": [
"         //EXAMPLE 5-15   PG NO-306\n",
"I2=-0.67;\n",
"R1=8;\n",
"R2=2;\n",
"R3=5;\n",
"RN=R1+((R2*R3)/(R2+R3));\n",
"I=-I2*(RN/(10+RN));\n",
"disp('i) Resistance (RN) is   =  '+string (RN)+'ohm ');\n",
"disp('i) Current3 (I) is   =  '+string (I)+'A ');"
   ]
   }
,
{
		   "cell_type": "markdown",
		   "metadata": {},
		   "source": [
			"## Example 5.16: Impedance.sce"
		   ]
		  },
  {
"cell_type": "code",
	   "execution_count": null,
	   "metadata": {
	    "collapsed": true
	   },
	   "outputs": [],
"source": [
"      //EXAMPLE 5-16  PG NO-307\n",
"Z1=2.828+%i*2.828;\n",
"Z2=0+%i*2.5;\n",
"R=10;\n",
"Z3=3+%i*4;\n",
"IN=Z1+Z2;\n",
"ZN=(R*Z3)/(R+Z3);\n",
"disp('i) current (IN) is   =  '+string (IN)+'A ');\n",
"disp('i) impedance (ZN) is   =  '+string (ZN)+'ohms ');\n",
""
   ]
   }
,
{
		   "cell_type": "markdown",
		   "metadata": {},
		   "source": [
			"## Example 5.17: Impedance.sce"
		   ]
		  },
  {
"cell_type": "code",
	   "execution_count": null,
	   "metadata": {
	    "collapsed": true
	   },
	   "outputs": [],
"source": [
"                       //EXAMPLE 5-17 PG NO-307-308\n",
"Z1=60+%i*0;\n",
"Z2=15.6-%i*9;\n",
"Z3=10.42-%i*6;\n",
"Z4=25.98-%i*15;\n",
"Z5=11.92-%i*1.4;\n",
"I=2.5*10^-3;\n",
"Vab=((Z1*Z2)/(Z3+Z2));\n",
"ZTH=(Z3*Z2)/(Z3+Z2);\n",
"Vax=I*Z3*10^3;\n",
"Vxy=Vab-Z4;\n",
"Zxy=ZTH+Z3;\n",
"IN=Z5/(Zxy*10^3);\n",
"ZN=Zxy;\n",
"disp('i) Voltage (Vab) is   =  '+string (Vab)+'V');\n",
"disp('i) Impedance (ZTH) is   =  '+string (ZTH)+'K ohms ');\n",
"disp('i) Voltage (Vax) is   =  '+string (Vax)+' ');\n",
"disp('i) Voltage (Vxy) is   =  '+string (Vxy)+'V');\n",
"disp('i) Impedance (Zxy) is   =  '+string (Zxy)+'K ohms ');\n",
"disp('i) Current (IN) is   =  '+string (IN)+'A ');\n",
"disp('i) Impedance (ZN) is   =  '+string (ZN)+'K ohms ');"
   ]
   }
,
{
		   "cell_type": "markdown",
		   "metadata": {},
		   "source": [
			"## Example 5.18: Current_and_Resistance.sce"
		   ]
		  },
  {
"cell_type": "code",
	   "execution_count": null,
	   "metadata": {
	    "collapsed": true
	   },
	   "outputs": [],
"source": [
"       //example  5-18  pg no-308-309\n",
"V=120;\n",
"R1=1200;\n",
"R2=400;\n",
"Vab=(V*R1)/(R1+R2);\n",
"Rab=(R1*R2)/(R1+R2);\n",
"IN=40/450;\n",
"RN=450;\n",
"disp('i) Voltage  (Vab) is   =  '+string (Vab)+'V ');\n",
"disp('i) Resistance (Rab) is   =  '+string (Rab)+'  ohms ');\n",
"disp('i) Current (IN) is   =  '+string (IN)+'  mA');\n",
"disp('i) Resistance (RN) is   =  '+string (RN)+'   ohms ');"
   ]
   }
,
{
		   "cell_type": "markdown",
		   "metadata": {},
		   "source": [
			"## Example 5.19: RL_Power.sce"
		   ]
		  },
  {
"cell_type": "code",
	   "execution_count": null,
	   "metadata": {
	    "collapsed": true
	   },
	   "outputs": [],
"source": [
"       //EXAMPLE -19 PG NO-312\n",
"V=360;\n",
"R1=150;\n",
"R2=30;\n",
"Pm=900;\n",
"RL=25;\n",
"VTH=(V*R1)/(R1+R2);\n",
"RTH=(R1*R2)/(R1+R2);\n",
"TR=30+((R1*RL)/(R1+RL));         //total resistance\n",
"I=V/TR;                          //Current supplied by battery\n",
"P=V*7;                        //Power  supplied by battery\n",
"%PL=Pm*100/P                       //Percentage of power delivered to load\n",
"disp('i) Voltage (VTH) is   =  '+string (VTH)+'V ');\n",
"disp('i) Resistance (RTH) is   =  '+string (RTH)+'  ohms ');\n",
"disp('i) Total resistance (TR) is   =  '+string (TR)+' ohms');\n",
"disp('i) Current (I) is   =  '+string (I)+' A ');\n",
"disp('i) power (P) is   =  '+string (P)+' W ');\n",
"disp('i) Percentage of power (%PL) is   =  '+string (%PL)+' % ');\n",
""
   ]
   }
,
{
		   "cell_type": "markdown",
		   "metadata": {},
		   "source": [
			"## Example 5.1: Current.sce"
		   ]
		  },
  {
"cell_type": "code",
	   "execution_count": null,
	   "metadata": {
	    "collapsed": true
	   },
	   "outputs": [],
"source": [
"    //EXAMPLE 5-1  PG NO-294\n",
"TR1=32;\n",
"R1=20;\n",
"R2=30;\n",
"R3=20;\n",
"V=32;\n",
"Ir11=V/TR1;\n",
"Ir12=Ir11*(R1/(R1+R2));\n",
"Ir13=Ir11*(R2/(R1+R3));\n",
"TR2=40;\n",
"I#r2=R3/TR2;\n",
"I#r1=(R3/TR2)*I#r2;\n",
"I#r3=(R3/TR2)*I#r1;\n",
"Ir3=Ir13+I#r3;\n",
"Ir1=Ir11-I#r1;\n",
"Ir2=Ir12-I#r2;\n",
"disp('i) current(Ir3) is   =  '+string (Ir3)+'A ');\n",
"Ir3=Ir13+I#r3;\n",
"disp('i) current(Ir1) is  =  '+string (Ir1)+'A ');\n",
"Ir1=Ir11-I#r1;\n",
"disp('i) current(Ir2) is   =  '+string (Ir2)+'A ');\n",
"Ir2=0.5-0.4;"
   ]
   }
,
{
		   "cell_type": "markdown",
		   "metadata": {},
		   "source": [
			"## Example 5.20: VOLTAGE.sce"
		   ]
		  },
  {
"cell_type": "code",
	   "execution_count": null,
	   "metadata": {
	    "collapsed": true
	   },
	   "outputs": [],
"source": [
"       //EXAMPLE 5-20 PG NO -313\n",
"Z1=5+%i*0;\n",
"Z2=4-%i*3;\n",
"Z3=3+%i*3;\n",
"Z4=%i*3;\n",
"VTH=((Z1)/(3+(((Z4*Z2)/(Z3-Z4)))))*(Z4/(Z3-Z4))*(-Z4);\n",
"disp('i) Voltage (VTH) is   =  '+string (VTH)+'V ');"
   ]
   }
,
{
		   "cell_type": "markdown",
		   "metadata": {},
		   "source": [
			"## Example 5.21: ZL_Power.sce"
		   ]
		  },
  {
"cell_type": "code",
	   "execution_count": null,
	   "metadata": {
	    "collapsed": true
	   },
	   "outputs": [],
"source": [
"       //EXAMPLE 5-21 PG NO -313-314\n",
"Z1=8.66+%i*5;\n",
"Z2=%i*1;\n",
"VTH=Z1-(Z1-1)*0.9;\n",
"ZTH=Z2+((9*1)/(9+1));\n",
"I=VTH/((0.9+%i*1)+(0.9-%i*1));\n",
"P=1.02^2*0.9;\n",
"disp('i) Voltage (VTH) is   =  '+string (VTH) +' V ');\n",
"disp('i) Impedance(ZTH) is   =  '+string (ZTH) +' ');\n",
"disp('i) Current (I) is   =  '+string (I) +'A ');\n",
"disp('i) Power (VTH) is   =  '+string (P) +' W ');"
   ]
   }
,
{
		   "cell_type": "markdown",
		   "metadata": {},
		   "source": [
			"## Example 5.22: VOLTAGE.sce"
		   ]
		  },
  {
"cell_type": "code",
	   "execution_count": null,
	   "metadata": {
	    "collapsed": true
	   },
	   "outputs": [],
"source": [
"         //EXAMPLE 5-22       PG NO-315-316\n",
"I1=100;\n",
"I2=80;\n",
"I3=5;\n",
"R1=100;\n",
"R2=50;\n",
"R3=200;\n",
"IN=I1+I2-I3;\n",
"X=1/R1+1/R2+1/R3;                  //1/RN=X\n",
"RN=X;\n",
"VTH=IN*RN;\n",
"RTH=RN\n",
"disp('i) Voltage (VTH) is   =  '+string (IN) +'V ');\n",
"disp('i) Voltage (VTH) is   =  '+string (1/RN) +'V ');\n",
"disp('i) Voltage (VTH) is   =  '+string (VTH) +'V ');\n",
"disp('i) Voltage (VTH) is   =  '+string (RTH) +'V ');"
   ]
   }
,
{
		   "cell_type": "markdown",
		   "metadata": {},
		   "source": [
			"## Example 5.23: Vo.sce"
		   ]
		  },
  {
"cell_type": "code",
	   "execution_count": null,
	   "metadata": {
	    "collapsed": true
	   },
	   "outputs": [],
"source": [
"      //EXAMPLE 5-23    PG -NO 316-317\n",
"V11=-5;\n",
"V12=5;\n",
"V13=0;\n",
"G1=1/2200;\n",
"G2=1/3300;\n",
"G3=1/1500;\n",
"VO1=((V11*G1)+(V12*G2)+(V13*G3))/(G1+G2+G3);\n",
"V21=-5;\n",
"V22=10;\n",
"V23=0;\n",
"VO2=((V21*G1)+(V22*G2)+(V23*G3))/(G1+G2+G3);\n",
"disp('i) Voltage (VO1) is   =  '+string (VO1) +'V ');\n",
"disp('i) Voltage (VO2) is   =  '+string (VO2) +'V ');\n",
"\n",
""
   ]
   }
,
{
		   "cell_type": "markdown",
		   "metadata": {},
		   "source": [
			"## Example 5.24: Voltage.sce"
		   ]
		  },
  {
"cell_type": "code",
	   "execution_count": null,
	   "metadata": {
	    "collapsed": true
	   },
	   "outputs": [],
"source": [
"Z1=10+%i*0;\n",
"Z2=99.33-%i*49.09222;\n",
"Z3=20+%i*0;\n",
"Z4=10+%i*20;\n",
"Z5=20.03+%i*30.03;\n",
"Z6=15+%i*20;\n",
"Z7=89.32-%i*49.105;\n",
"IN=Z1+Z2-Z3;\n",
"ZN=1/((1/Z4)+(1/Z5)+(1/Z6));\n",
"VTH=(Z7/1000)*ZN;\n",
"ZTH=ZN\n",
"disp('i) Current (IN) is   in rectangular form   =  '+string (IN) +'V ');\n",
"disp('i) Impedance (1/ZN) is  in rectangular form   =  '+string (1/ZN) +'V ');\n",
"disp('i) Voltage (VTH) is in rectangular form      =  '+string (VTH) +'V ');\n",
"disp('i) Impedance (ZTH) is  in  rectangular form   =  '+string (ZTH) +'ohm ');"
   ]
   }
,
{
		   "cell_type": "markdown",
		   "metadata": {},
		   "source": [
			"## Example 5.25: Current.sce"
		   ]
		  },
  {
"cell_type": "code",
	   "execution_count": null,
	   "metadata": {
	    "collapsed": true
	   },
	   "outputs": [],
"source": [
"                            //EXAMPLE 5-25           PG NO-318-319\n",
"I1=4.4-%i*1.012;                              //Current\n",
"I2=I1*[(%i*5)/(3+%i*9)];\n",
"Z1=1;\n",
"I11=[I2/[10*%i*5]]*[%i*5/10+%i*5];\n",
"disp(' Current is  in polar form = '+string(I1)+'A');\n",
"disp(' Current is  in polar form = '+string(I2)+'A');\n",
"disp(' Current is  in polar form = '+string(I11)+'A');\n",
"I12=I1-I11;\n",
"disp(' Current is  in polar form = '+string(I12)+'A');"
   ]
   }
,
{
		   "cell_type": "markdown",
		   "metadata": {},
		   "source": [
			"## Example 5.26: Current.sce"
		   ]
		  },
  {
"cell_type": "code",
	   "execution_count": null,
	   "metadata": {
	    "collapsed": true
	   },
	   "outputs": [],
"source": [
"                //EXAMPLE   5-26   PG NO-319-320\n",
"Z1=70.71+%i*70.71;\n",
"Z2=10+%i*5;\n",
"Z3=-%i*5;\n",
"Z4=%i*5;\n",
"Z5=5-%i*5;\n",
"X1=[Z2 Z3 Z1,Z3 10 0,0 Z4 0];\n",
"X2=[Z2 Z3 0,Z3 10 Z4,0 Z4 Z5];\n",
"X3=[0 Z3 0,0 10 Z4,Z1 Z4 Z5];\n",
"X4=[Z2 Z3 0,Z3 10 Z4,0 Z4 Z5];\n",
"I3=X1/X2;\n",
"I1=X3/X4;\n",
"disp('i) Current (I3) is   in polar  =  '+string (I3) +' A ');\n",
"disp('i) Current (I1) is   in polar  =  '+string (I1) +' A ');"
   ]
   }
,
{
		   "cell_type": "markdown",
		   "metadata": {},
		   "source": [
			"## Example 5.27: Delta_to_Star.sce"
		   ]
		  },
  {
"cell_type": "code",
	   "execution_count": null,
	   "metadata": {
	    "collapsed": true
	   },
	   "outputs": [],
"source": [
"     //EXAMPLE 5-27  PG NO-321\n",
"Z1=(6-%i*2.41);       //Impedance\n",
"Z2=(0-%i*9.64);       //Impedance\n",
"Z3=4+%i*0;            //Impedance\n",
"Z4=2+%i*0;           //Impedance\n",
"Z5=0-%i*2.41;          //Impedance\n",
"Za=Z2/Z1;              //Impedance\n",
"Zb=(Z3*Z4)/Z1;          //Impedance\n",
"Zc=(Z4*Z5)/Z1;          //Impedance\n",
"disp('i) Impedance (Za) is   in polar  =  '+string (Za) +'  ohms ');\n",
"disp('ii) Impedance (Zb) is   in polar  =  '+string (Zb) +'  ohms ');\n",
"disp('iii) Impedance (Zc) is   in polar  =  '+string (Zc) +'  ohms ');\n",
""
   ]
   }
,
{
		   "cell_type": "markdown",
		   "metadata": {},
		   "source": [
			"## Example 5.28: Total_Impedance.sce"
		   ]
		  },
  {
"cell_type": "code",
	   "execution_count": null,
	   "metadata": {
	    "collapsed": true
	   },
	   "outputs": [],
"source": [
"       //EXAMPLE 5-28   PG NO-322\n",
"Z1=0.6-%i*1.2;\n",
"Z2=0.6-%i*1.2;\n",
"Z3=1.2+%i*0.6;\n",
"Z=Z1+(((Z2+3)*(Z3+%i*3))/(Z2+3+Z3+%i*3));\n",
"disp('i) Impedance (Z) is   in polar  =  '+string (Z) +'  ohms ');"
   ]
   }
,
{
		   "cell_type": "markdown",
		   "metadata": {},
		   "source": [
			"## Example 5.29: Current.sce"
		   ]
		  },
  {
"cell_type": "code",
	   "execution_count": null,
	   "metadata": {
	    "collapsed": true
	   },
	   "outputs": [],
"source": [
"    //EXAMPLE 5-29    PG NO 323\n",
"V1=5;                     //Voltage\n",
"V2=0.05;                  //Voltage\n",
"R1=100;                    //Resistance\n",
"R2=1000;                  //Resistance\n",
"R3=85;\n",
"R4=880;;\n",
"I1=0.00266;              //Current\n",
"I2=0.02676;              //Current\n",
"Va=V1-R1*I2;\n",
"Vb=V1-R2*I1;\n",
"VTH=Va-Vb;\n",
"RTH=((R1*R3)/(R1+R3))+(R2*R4)/(R2+R4)\n",
"I=(0.016)/(RTH+20);\n",
"disp('i) Voltage (Va) is   in polar  =  '+string (Va) +'  V ');\n",
"disp('i) Voltage (Vb) is   in polar  =  '+string (Vb) +'  V ');\n",
"disp('i) Voltage (VTH) is   in polar  =  '+string (VTH) +'  V ');\n",
"disp('i) Resistance (RTH) is   in polar  =  '+string (RTH) +'  ohms ');\n",
"disp('i) Current (I) is     =  '+string (I) +'  A ');"
   ]
   }
,
{
		   "cell_type": "markdown",
		   "metadata": {},
		   "source": [
			"## Example 5.2: Voltage.sce"
		   ]
		  },
  {
"cell_type": "code",
	   "execution_count": null,
	   "metadata": {
	    "collapsed": true
	   },
	   "outputs": [],
"source": [
"    //EXAMPLE 5-2 PG NO-295\n",
"Vab1=7.059;\n",
"Vab2=2.353;\n",
"Vab=Vab1+Vab2;\n",
"disp('i) Votage(Vab) is   =  '+string (Vab)+'V ');"
   ]
   }
,
{
		   "cell_type": "markdown",
		   "metadata": {},
		   "source": [
			"## Example 5.30: Current.sce"
		   ]
		  },
  {
"cell_type": "code",
	   "execution_count": null,
	   "metadata": {
	    "collapsed": true
	   },
	   "outputs": [],
"source": [
"             //EXAMPLE 5-30    PG NO 324-325\n",
"V=25;                        //Voltage \n",
"R1=50;                      //RESISTANCE\n",
"R2=35;                     //RESISTANCE\n",
"R3=60;                    //RESISTANCE\n",
"R4=10;\n",
"VTH=V-(R1*(R2/R3));      //THEVENINS VOLTAGE\n",
"RTH=(R1*R4)/R3;\n",
"I40=-(VTH/(40+RTH));\n",
"V40=40*I40;\n",
"disp('i) Impedance (VTH) is     =  '+string (VTH) +'  V ');\n",
"disp('i) Impedance (RTH) is     =  '+string (RTH) +'  ohm ');\n",
"disp('i) Impedance (I40) is     =  '+string (I40) +'  A ');\n",
"disp('i) Impedance (V40) is     =  '+string (V40) +'  V '); "
   ]
   }
,
{
		   "cell_type": "markdown",
		   "metadata": {},
		   "source": [
			"## Example 5.31: Current.sce"
		   ]
		  },
  {
"cell_type": "code",
	   "execution_count": null,
	   "metadata": {
	    "collapsed": true
	   },
	   "outputs": [],
"source": [
"             //EXAMPLE 5-31   PG NO-326;\n",
"V=25;\n",
"R1=50;\n",
"R2=40;\n",
"R3=10;\n",
"I=(V/(R1+((R2*R3)/(R2+R3))))*(R3/(R2+R3));\n",
"disp('i) Current (I) is    =  '+string (I) +'  A ');"
   ]
   }
,
{
		   "cell_type": "markdown",
		   "metadata": {},
		   "source": [
			"## Example 5.32: RL_for_Pmax.sce"
		   ]
		  },
  {
"cell_type": "code",
	   "execution_count": null,
	   "metadata": {
	    "collapsed": true
	   },
	   "outputs": [],
"source": [
"              //EXAMPLE 5-32     PG NO=326\n",
"V1=60;             //VOLTAGE\n",
"V2=50;             //VOLTAGE\n",
"V3=100;            //VOLTAGE\n",
"R1=60;           //RESISTANCE\n",
"R2=30;          //RESISTANCE\n",
"R3=40;         //RESISTANCE\n",
"VTH=V2+(R2*(2/3))-(R1*1);\n",
"RTH=((R1*R2)/(R1+R2))+((R1*R3)/(R1+R3));\n",
"RL=RTH;\n",
"I=VTH/(RTH+RTH);                //CURRENT\n",
"P=(I*I)*RL;                     //POWER\n",
"disp('i) Voltage (VTH) is    =  '+string (VTH) +'  V ');\n",
"disp('i) Resistance (RTH) is    =  '+string (RTH) +'   ');\n",
"disp('i) Load Resistance (RL) is    =  '+string (RL) +'  ohm ');\n",
"disp('i) Current (I) is    =  '+string (I) +'  A ');\n",
"disp('i) Power (P) is    =  '+string (I) +'  W ');"
   ]
   }
,
{
		   "cell_type": "markdown",
		   "metadata": {},
		   "source": [
			"## Example 5.33: Current.sce"
		   ]
		  },
  {
"cell_type": "code",
	   "execution_count": null,
	   "metadata": {
	    "collapsed": true
	   },
	   "outputs": [],
"source": [
"       //EXAMPLE 5-33   PG NO=327\n",
"R1=15;   //RESISTANCE\n",
"R2=8;    //RESISTANCE\n",
"R3=12;    //RESISTANCE\n",
"R4=10;\n",
"R5=5.14;;\n",
"R6=7.429;\n",
"R7=32.74;\n",
"V=60;\n",
"Ra=(R1*R2)/ (R1+R2+R3);\n",
"Rb=(R3*R2)/(R1+R2+R3);\n",
"Rc=(R1*R3)/(R1+R2+R3);\n",
"TR=R4+R5+((R6*R7)/(R6+R7));      //TOTAL  RESISTANCE\n",
"I=V/TR\n",
"disp('i) Resistance (Ra) is    =  '+string (Ra) +'  ohms  ');\n",
"disp('i) Resistance (Rb) is    =  '+string (Rb) +'   ohms ');\n",
"disp('i) Resistance (Rc) is    =  '+string (Rc) +'  ohms  ');\n",
"disp('i) Total Resistance (TR) is    =  '+string (TR) +' ohms  ');\n",
"disp('i) Current (I) is    =  '+string (I) +'  A ');"
   ]
   }
,
{
		   "cell_type": "markdown",
		   "metadata": {},
		   "source": [
			"## Example 5.34: Pmax_Total_Power_RL.sce"
		   ]
		  },
  {
"cell_type": "code",
	   "execution_count": null,
	   "metadata": {
	    "collapsed": true
	   },
	   "outputs": [],
"source": [
"        //EXAMPLE 5-34  PG NO-327-328\n",
"V=10;\n",
"R1=1;\n",
"R2=2;\n",
"R3=8.5;\n",
"VTH=V*(R1/R2);                      //Thevenins Voltage\n",
"RTH=R2+((R1*R1)/(R1+R1))+R2;       //Thevenins Resistance\n",
"Pmax=(5/9)^2*RTH;\n",
"TR=R1+((R1*R3)/(R1+R3));         //Total Resistance\n",
"TP=V*(V/TR);                    //Total Power\n",
"disp('i) Voltage (VTH) is    =  '+string (VTH) +'  V ');\n",
"disp('i) Resistance (RTH) is    =  '+string (RTH) +'  ohms ');\n",
"disp('i) Power (Pmax) is    =  '+string (Pmax) +'  W ');\n",
"disp('i) Total resistance (TR) is    =  '+string (TR) +'  ohms ');\n",
"disp('i) Total Power (TP) is    =  '+string (TP) +'  W ');"
   ]
   }
,
{
		   "cell_type": "markdown",
		   "metadata": {},
		   "source": [
			"## Example 5.35: Thevenins_equivalent_circuits.sce"
		   ]
		  },
  {
"cell_type": "code",
	   "execution_count": null,
	   "metadata": {
	    "collapsed": true
	   },
	   "outputs": [],
"source": [
"           //EXAMPLE 5-35   PG NO-328-329\n",
"Va=6;           //VOLTAGE  at PONT A\n",
"Vb=-3;           //VOLTAGE   at POINT B\n",
"VTH=Va-Vb;\n",
"R1=1;\n",
"R2=2;\n",
"R3=3;\n",
"RTH=((R2*R3)/(R2+R3))+((R1*R3)/(R1+R3));\n",
"disp('i) Voltage (VTH) is    =  '+string (VTH) +'  V ');\n",
"disp('i) Resistance (RTH) is    =  '+string (RTH) +'  ohm ');"
   ]
   }
,
{
		   "cell_type": "markdown",
		   "metadata": {},
		   "source": [
			"## Example 5.36: maximum_Power.sce"
		   ]
		  },
  {
"cell_type": "code",
	   "execution_count": null,
	   "metadata": {
	    "collapsed": true
	   },
	   "outputs": [],
"source": [
"                                //EXAMPLE 5-36            PG NO=329\n",
"I1=-10;                              //CURRENT\n",
"Vpc=15;\n",
"I2=7.5;\n",
"Vqc=I2*1;\n",
"disp(' Voltage is   = '+string(Vqc)+'V');\n",
"Vpq=Vpc-Vqc;\n",
"disp(' Voltage is   = '+string(Vpq)+'V');\n",
"RTH=1.406;\n",
"Pmax=[I2/(2*RTH)]^2*RTH;\n",
"disp(' Power is   = '+string(Pmax)+'W');"
   ]
   }
,
{
		   "cell_type": "markdown",
		   "metadata": {},
		   "source": [
			"## Example 5.37: Current.sce"
		   ]
		  },
  {
"cell_type": "code",
	   "execution_count": null,
	   "metadata": {
	    "collapsed": true
	   },
	   "outputs": [],
"source": [
"                                    //EXAMPLE 5-37          PG NO-330-331\n",
"R=8;\n",
"R1=12.67;\n",
"R2=4;\n",
"R3=10;\n",
"R4=3.077;\n",
"R5=13.077;\n",
"R50=9.9;                      //RESISTANCE AT 50 V BATTERY\n",
"V=50;                        //VOLTAGE\n",
"I1=V/R50;                    //CURRENT\n",
"I=I1*[R/(R+R1)];\n",
"disp(' Current is (I1)  = '+string(I1)+'A');\n",
"disp(' Current is (I)  = '+string(I)+'A');\n",
"R100=R+[(R2*(R3+R4))/(R2+R3+R4)];\n",
"disp(' Resistance at 100 (R100) is   = '+string(R100)+'ohm');\n",
"I2=100/R100;\n",
"disp(' Current is   (I2)  = '+string(I2)+'A');\n",
"I3=[(I2*R2)/(R2+R5)];\n",
"disp(' Current is   (I3)  = '+string(I3)+'A');\n",
"I10=I3-I;\n",
"disp(' Current is    (I10) = '+string(I10)+'A');"
   ]
   }
,
{
		   "cell_type": "markdown",
		   "metadata": {},
		   "source": [
			"## Example 5.38: Current.sce"
		   ]
		  },
  {
"cell_type": "code",
	   "execution_count": null,
	   "metadata": {
	    "collapsed": true
	   },
	   "outputs": [],
"source": [
"       //EXAMPLE   5-38  PG  NO-331\n",
"R1=100;\n",
"R2=4;\n",
"R3=8;\n",
"R4=50;\n",
"R5=5;\n",
"VTH=(R1*((R2)/(R2+R3)))-((R3*R4)/(R3+R5));\n",
"RTH=((R3*R5)/(R3+R5))+((R2*R3)/(R2+R3));\n",
"I=VTH/(10+RTH);\n",
"disp('i) Voltage (VTH) is    =  '+string (VTH) +'  V ');\n",
"disp('i) Resistance (RTH) is    =  '+string (RTH) +' ohm ');\n",
"disp('i) Current (I) is    =  '+string (I) +'  A ');\n",
"\n",
""
   ]
   }
,
{
		   "cell_type": "markdown",
		   "metadata": {},
		   "source": [
			"## Example 5.39: RL_and_Pmax.sce"
		   ]
		  },
  {
"cell_type": "code",
	   "execution_count": null,
	   "metadata": {
	    "collapsed": true
	   },
	   "outputs": [],
"source": [
"    //EXAMPLE 5-39   PG NO-331\n",
"V=36;\n",
"R1=5;\n",
"R2=11;\n",
"R3=6;\n",
"VTH=V*(R1/R2);\n",
"RTH=(R1*R3)/(R1+R3);\n",
"R=RTH;\n",
"Pmax=(VTH/(2*RTH))^2*(RTH);\n",
"disp('i) Voltage (VTH) is    =  '+string (VTH) +'  V ');\n",
"disp('i) Resistance (RTH) is    =  '+string (RTH) +'  ohm ');\n",
"disp('i) Maximum Power (Pmax) is    =  '+string (Pmax) +'  W ');\n",
""
   ]
   }
,
{
		   "cell_type": "markdown",
		   "metadata": {},
		   "source": [
			"## Example 5.3: Current.sce"
		   ]
		  },
  {
"cell_type": "code",
	   "execution_count": null,
	   "metadata": {
	    "collapsed": true
	   },
	   "outputs": [],
"source": [
"     //EXAMPLE 5-3 PG NO-296\n",
"TR1=(90/14);                      //TOTAL RESISTANCE\n",
"R1=8;\n",
"R2=6;\n",
"R3=3;\n",
"E1=10;                            //VOLTS\n",
"IR11=E1*(1/TR1);                             //Current in resistance one\n",
"IR12=IR11*(R1/(R1+R2));           //Current in resistance Two\n",
"IR13=IR11*(R2/(R1+R2));          //Current in resistance one\n",
"IR14=0;\n",
"TR2=10;                      //TOTAL RESISTANCE\n",
"IR23=TR2/E1;\n",
"IR21=IR23*(R2/(R2+R3));\n",
"IR22=IR23*(R3/(R2+R3));\n",
"IR24=0;\n",
"IR34=(10/12);\n",
"IR32=TR2/(R2+(R3*R1/11));\n",
"IR31=IR32*(R1/(R1+R3));\n",
"IR33=IR32*(R3/(R1+R3));\n",
"IR1=(14-6-8)/9;\n",
"IR2=(8+3-11)/9;\n",
"IR3=(6+3)/9-1;\n",
"IR4=IR34+0+0;\n",
"disp('i) CURRENT IN RESISTANCE ONE is   =  '+string (IR11)+'V ');\n",
"disp('i) CURRENT IN RESISTANCE ONE is   =  '+string (IR12)+'V ');\n",
"disp('i) CURRENT IN RESISTANCE ONE is   =  '+string (IR13)+'V ');\n",
"disp('i) CURRENT IN RESISTANCE ONE is   =  '+string (IR14)+'V ');\n",
"disp('i) CURRENT IN RESISTANCE ONE is   =  '+string (IR21)+'V ');\n",
"disp('i) CURRENT IN RESISTANCE ONE is   =  '+string (IR22)+'V ');\n",
"disp('i) CURRENT IN RESISTANCE ONE is   =  '+string (IR23)+'V ');\n",
"disp('i) CURRENT IN RESISTANCE ONE is   =  '+string (IR24)+'V ');\n",
"disp('i) CURRENT IN RESISTANCE ONE is   =  '+string (IR31)+'V ');\n",
"disp('i) CURRENT IN RESISTANCE ONE is   =  '+string (IR32)+'V ');\n",
"disp('i) CURRENT IN RESISTANCE ONE is   =  '+string (IR33)+'V ');\n",
"disp('i) CURRENT IN RESISTANCE ONE is   =  '+string (IR34)+'V ');\n",
"disp('i) CURRENT IN RESISTANCE ONE is   =  '+string (IR1)+'V ');\n",
"disp('i) CURRENT IN RESISTANCE TWO is   =  '+string (IR2)+'V ');\n",
"disp('i)CURRENT IN RESISTANCE THREE  is   =  '+string (IR3)+'V ');\n",
"disp('i) CURRENT IN RESISTANCE FOUR is   =  '+string (IR4)+'');"
   ]
   }
,
{
		   "cell_type": "markdown",
		   "metadata": {},
		   "source": [
			"## Example 5.40: R_and_Current.sce"
		   ]
		  },
  {
"cell_type": "code",
	   "execution_count": null,
	   "metadata": {
	    "collapsed": true
	   },
	   "outputs": [],
"source": [
"      //EXAMPLE 5-40  PG NO-331-332\n",
"R1=3;\n",
"R2=2;\n",
"R3=12;\n",
"R4=4;\n",
"R5=8;\n",
"V=10;\n",
"R=R3/(R1/R2);\n",
"TR=R4+((R2*R5)/(R2+R5))+((R1*R3)/(R1+R3));\n",
"I=V/TR;\n",
"Ir=I*(R2/(R5+R2));\n",
"disp('i) Resistance (R) is    =  '+string (R) +'  ohm ');\n",
"disp('i) Total Resistance (TR) is    =  '+string (TR) +'  ohm ');\n",
"disp('i) Current (I) is    =  '+string (I) +'  A ');\n",
"disp('i) Current (Ir) is    =  '+string (Ir) +'  A ');"
   ]
   }
,
{
		   "cell_type": "markdown",
		   "metadata": {},
		   "source": [
			"## Example 5.41: Current.sce"
		   ]
		  },
  {
"cell_type": "code",
	   "execution_count": null,
	   "metadata": {
	    "collapsed": true
	   },
	   "outputs": [],
"source": [
"       //EXAMPLE 5-41  PG NO-332-333\n",
"VTH=10;\n",
"V=10;\n",
"R1=10;\n",
"R2=10;\n",
"R3=16.67;\n",
"R4=50;\n",
"R5=5.56;\n",
"R6=3.33;\n",
"RTH=V+R5+(((R1+R3)*(R4+R6))/(R1+R3+R4+R6));\n",
"I=(V/RTH)-0.4;\n",
"disp('i) Resistance (RTH) is    =  '+string (RTH) +'  ohm ');\n",
"disp('i) Currrent (I) is    =  '+string (I) +'  A ');"
   ]
   }
,
{
		   "cell_type": "markdown",
		   "metadata": {},
		   "source": [
			"## Example 5.42: Current.sce"
		   ]
		  },
  {
"cell_type": "code",
	   "execution_count": null,
	   "metadata": {
	    "collapsed": true
	   },
	   "outputs": [],
"source": [
"    //EXAMPLE 5-42   PG NO-333\n",
"V=100;           //Voltage\n",
"RTH=0;           //Resistance\n",
"Iab=V/20;        //Current\n",
"disp('i) Current (Iab) is    =  '+string (Iab) +'  A ');\n",
"Iab=V/20;"
   ]
   }
,
{
		   "cell_type": "markdown",
		   "metadata": {},
		   "source": [
			"## Example 5.43: Current.sce"
		   ]
		  },
  {
"cell_type": "code",
	   "execution_count": null,
	   "metadata": {
	    "collapsed": true
	   },
	   "outputs": [],
"source": [
"      //EXAMPLE 5-43 PG NO-333\n",
"Vab=38;       //Voltage\n",
"R1=12;\n",
"R2=6;\n",
"RTH=(R1*R2)/(R1+R2);\n",
"Iab=Vab/(RTH+3);\n",
"disp('i) Resistance (RTH) is    =  '+string (RTH) +'  ohm ');\n",
"disp('i) Current (Iab) is    =  '+string (Iab) +'  A ');"
   ]
   }
,
{
		   "cell_type": "markdown",
		   "metadata": {},
		   "source": [
			"## Example 5.44: current_resistance.sce"
		   ]
		  },
  {
"cell_type": "code",
	   "execution_count": null,
	   "metadata": {
	    "collapsed": true
	   },
	   "outputs": [],
"source": [
"    //EXAMPLE 5-44 PG NO-333-334\n",
"I1=1.6;\n",
"I2=0.8;\n",
"VTH=6*I2;                              // ((R1*R2)/(R1+R2))\n",
"R1=3;\n",
"R2=9;                                           \n",
"R3=6;\n",
"R4=3;\n",
"RTH=((((R1*R2)/(R1+R2))+R1)*R3)/(((R1*R2)/(R1+R2))+R1+R2);\n",
"IN=VTH/RTH;\n",
"RN=RTH;\n",
"disp('i) Voltage (VTH) is    =  '+string (VTH) +'  V ');\n",
"disp('i) Resistance (RTH) is    =  '+string (RTH) +'  ohm ');\n",
"disp('i) Current (IN) is    =  '+string (IN) +'  A ');\n",
"disp('i) Resistance (RN) is    =  '+string (RN) +'  ohm ');"
   ]
   }
,
{
		   "cell_type": "markdown",
		   "metadata": {},
		   "source": [
			"## Example 5.45: Current.sce"
		   ]
		  },
  {
"cell_type": "code",
	   "execution_count": null,
	   "metadata": {
	    "collapsed": true
	   },
	   "outputs": [],
"source": [
"        //EXAMPLE5-45  PG NO-334-335\n",
"R1=10;\n",
"R2=5;\n",
"V=15;\n",
"Vb=9;\n",
"Va=(V*R2)/(R1+R2);\n",
"Vba=Vb-Va;\n",
"RTH=(R1*R2)/(R1+R2);\n",
"VTH=Vba;\n",
"Iba=VTH/(RTH+Vba);\n",
"disp('i) Voltage (Va) is    =  '+string (Va) +'  V ');\n",
"disp('i) Voltage (Vba) is    =  '+string (Vba) +'  V ');\n",
"disp('i) Voltage (VTH) is    =  '+string (VTH) +'  V ');\n",
"disp('i) REsistance (RTH) is    =  '+string (RTH) +'  ohms ');\n",
"disp('i) Current (Iba) is    =  '+string (Iba) +'  A ');"
   ]
   }
,
{
		   "cell_type": "markdown",
		   "metadata": {},
		   "source": [
			"## Example 5.46: Load_Resistance.sce"
		   ]
		  },
  {
"cell_type": "code",
	   "execution_count": null,
	   "metadata": {
	    "collapsed": true
	   },
	   "outputs": [],
"source": [
"       //EXAMPLE 5-46   PG NO-335\n",
"R1=1;\n",
"R2=1;\n",
"R3=3;\n",
"RTH=R1+((R2*R3)/(R2+R3));\n",
"RL=R3/(RTH+RTH);\n",
"P=RL^2*RTH;\n",
"disp('i) Resistance (RTH) is    =  '+string (RTH) +'  ohms ');\n",
"disp('i) Resistance (RL) is    =  '+string (RL) +'  A ');\n",
"disp('i) Power (P) is    =  '+string (P) +'  W ');"
   ]
   }
,
{
		   "cell_type": "markdown",
		   "metadata": {},
		   "source": [
			"## Example 5.47: Thevenins_and_Nortan_Equivalent.sce"
		   ]
		  },
  {
"cell_type": "code",
	   "execution_count": null,
	   "metadata": {
	    "collapsed": true
	   },
	   "outputs": [],
"source": [
"         //EXAMPLE 5-47   PG NO-336\n",
"V=5;          //VOLTAGE\n",
"R1=2;\n",
"R2=1;\n",
"VTH=R1+((V-R1)/3);\n",
"RTH=R2+((R1*R2)/(R1+R2));\n",
"IN=((V*0.5)/(R1+0.5))+((R1/RTH)*(R1/VTH))\n",
"disp('i) Voltage (VTH) is    =  '+string (VTH) +'  V ');\n",
"disp('i) Resistance (RTH) is    =  '+string (RTH) +'  ohm ');\n",
"disp('i) Current (IN) is    =  '+string (IN) +'  A ');"
   ]
   }
,
{
		   "cell_type": "markdown",
		   "metadata": {},
		   "source": [
			"## Example 5.48: Current.sce"
		   ]
		  },
  {
"cell_type": "code",
	   "execution_count": null,
	   "metadata": {
	    "collapsed": true
	   },
	   "outputs": [],
"source": [
"    //EXAMPLE 5-48        PG NO-336-337\n",
"V=24;\n",
"R1=4;\n",
"R2=4;\n",
"Iab=V/(R1+R2);\n",
"Idb=6;\n",
"Iba=(Idb/(R1+R2))*R1;\n",
"Ibc=Iab+Iba;\n",
"IDB=Ibc;\n",
"disp('i) CURRENT (Iab) is    =  '+string (Iab) +'  A ');\n",
"disp('i) CURRENT (Iba) is    =  '+string (Iba) +'  A ');\n",
"disp('i) CURRENT (Ibc) is    =  '+string (Ibc) +'  A ');\n",
"disp('i) CURRENT (IDB) is    =  '+string (IDB) +'  A ');"
   ]
   }
,
{
		   "cell_type": "markdown",
		   "metadata": {},
		   "source": [
			"## Example 5.49: current.sce"
		   ]
		  },
  {
"cell_type": "code",
	   "execution_count": null,
	   "metadata": {
	    "collapsed": true
	   },
	   "outputs": [],
"source": [
"                    //EXAMPE 5-49     PG NO-337-338\n",
"V1=120;\n",
"V2=65;\n",
"R1=20;\n",
"R2=30;\n",
"VTH=V1-((V1-V2)/(R1+R2))*R1;\n",
"RTH=(R1*R2)/(R1+R2);\n",
"disp('i) Voltage (VTH) is    =  '+string (VTH) +'  V ');\n",
"disp('i) Resistance (RTH) is    =  '+string (RTH) +'  ohms ');"
   ]
   }
,
{
		   "cell_type": "markdown",
		   "metadata": {},
		   "source": [
			"## Example 5.4: Current.sce"
		   ]
		  },
  {
"cell_type": "code",
	   "execution_count": null,
	   "metadata": {
	    "collapsed": true
	   },
	   "outputs": [],
"source": [
"\n",
"E1=100+%i*0;\n",
"E2=43.30+%i*25\n",
"Z1=1+%i*3;\n",
"Z2=1-%i*3;\n",
"Z3=2+%i*4;\n",
"Z4=3-%i*3\n",
"Z5=1+%i*5;\n",
"Z6=2-%i*8;\n",
"Iab1=E1/((Z1+Z2)+((Z3*Z4)/(Z3+Z4)));\n",
"I2=E2/((Z5-Z6)+((Z3*Z1+Z2)/(Z3+Z1+Z2)));\n",
"Iab2=(I2*Z3)/(Z3+Z1+Z2)\n",
"disp('i) CURRENT (Iab1) is   =  '+string (Iab1)+'A ');\n",
"disp('i) CURRENT (I2) is   =  '+string (I2)+'A ');\n",
"disp('i) CURRENT (Iab2) is   =  '+string (Iab2)+'A ');\n",
""
   ]
   }
,
{
		   "cell_type": "markdown",
		   "metadata": {},
		   "source": [
			"## Example 5.50: Current.sce"
		   ]
		  },
  {
"cell_type": "code",
	   "execution_count": null,
	   "metadata": {
	    "collapsed": true
	   },
	   "outputs": [],
"source": [
"      //EXAMPLE - 5-50    PG NO-338\n",
"V1=240;\n",
"V2=140;\n",
"V=40;\n",
"R1=2;\n",
"R2=8;\n",
"R3=30;\n",
"VTH=((V1/V)*R3)-V2;\n",
"RTH=R1+((R3*(R1+R2))/V)+0.5;\n",
"I=VTH/(RTH+V2);\n",
"disp('i) Voltage (VTH) is    =  '+string (VTH) +'  V ');\n",
"disp('i) Reesistance (RTH) is    =  '+string (RTH) +'  ohms ');\n",
"disp('i) CURRENT (I) is    =  '+string (I) +'  A ');"
   ]
   }
,
{
		   "cell_type": "markdown",
		   "metadata": {},
		   "source": [
			"## Example 5.51: Resistance_Power.sce"
		   ]
		  },
  {
"cell_type": "code",
	   "execution_count": null,
	   "metadata": {
	    "collapsed": true
	   },
	   "outputs": [],
"source": [
"                  //EXAMPLE 5-51    PG NO-338\n",
"I=10;           //CURRENT\n",
"R1=1;\n",
"R2=1;\n",
"R3=1;\n",
"VTH=(I*R1)/(R1+R2+R3);\n",
"RTH=(R1*(R1+R2))/(R1+R2+R3);\n",
"P=(VTH/(RTH+RTH))^2*(RTH);\n",
"disp('i) Voltage (VTH) is    =  '+string (VTH) +'  V ');\n",
"disp('i) Resistance (RTH) is    =  '+string (RTH) +'  ohms ');    \n",
"disp('i) Power (P) is    =  '+string (P) +'  W ');"
   ]
   }
,
{
		   "cell_type": "markdown",
		   "metadata": {},
		   "source": [
			"## Example 5.52: Current.sce"
		   ]
		  },
  {
"cell_type": "code",
	   "execution_count": null,
	   "metadata": {
	    "collapsed": true
	   },
	   "outputs": [],
"source": [
"          //EXAMPLE  5-52   PG NO-339\n",
"R1=2;\n",
"R2=4;\n",
"R3=2;\n",
"V=0.389;            //VOLTAGE\n",
"I1=3.89;           //CURRENT\n",
"TR=((R1*R2)/(R1+R2))+R2;     //TOTAL RESISTANCE\n",
"I=V/TR;                 //CURRENT\n",
"TI=I1+I;                 //TOTAL   CURRENT\n",
"disp('i) Total resistance (TR) is    =  '+string (TR) +'  ohms ');\n",
"disp('i) Current (I) is    =  '+string (I) +'  A ');\n",
"disp('i) Total current (TI) is    =  '+string (TI) +'  A ');"
   ]
   }
,
{
		   "cell_type": "markdown",
		   "metadata": {},
		   "source": [
			"## Example 5.53: Vth_Rth.sce"
		   ]
		  },
  {
"cell_type": "code",
	   "execution_count": null,
	   "metadata": {
	    "collapsed": true
	   },
	   "outputs": [],
"source": [
"              //EXAMPLE 5-53   PG NO-339\n",
"R1=16;\n",
"R2=8;\n",
"R3=12;\n",
"Rd=(R1*R2)/(R1+R2+R1);\n",
"Rb=Rd;\n",
"Rc=(R1*R1)/(R1+R1+R2);\n",
"V=180;\n",
"VTH=[180/(R1+Rd+Rc)]*Rc;\n",
"RTH=R3+[((Rc*(R1+Rd)))/(R1+Rc+Rd)]+Rd;\n",
"disp('i) Resistance (Rd) is    =  '+string (Rd) +'  ohms ');\n",
"disp('i) Resistance (RC) is    =  '+string (Rc) +'  ohms ');\n",
"disp('i) Voltage (VTH) is    =  '+string (VTH) +'  V ');\n",
"disp('i) Resistance (RTH) is    =  '+string (RTH) +'  ohms ');"
   ]
   }
,
{
		   "cell_type": "markdown",
		   "metadata": {},
		   "source": [
			"## Example 5.54: Current.sce"
		   ]
		  },
  {
"cell_type": "code",
	   "execution_count": null,
	   "metadata": {
	    "collapsed": true
	   },
	   "outputs": [],
"source": [
"                       //EXAMPLE 5-54   PG NO-340\n",
"V1=48;                                //VOLTAGE\n",
"V2=16;                                //VOLTAGE\n",
"R1=12;\n",
"R2=4;\n",
"R3=4;\n",
"I=(V1-V2)/(R1+R2+R3);\n",
"disp('i) Current (I) is    =  '+string (I) +'  A ');"
   ]
   }
,
{
		   "cell_type": "markdown",
		   "metadata": {},
		   "source": [
			"## Example 5.55: Current.sce"
		   ]
		  },
  {
"cell_type": "code",
	   "execution_count": null,
	   "metadata": {
	    "collapsed": true
	   },
	   "outputs": [],
"source": [
"                           //EXAMPLE 5-55    PG NO-340-341\n",
"I1=1.2;                       //Current\n",
"I2=0.3;                      //Current\n",
"I=I1+I2;\n",
"disp(' Current is   = '+string(I)+'A');"
   ]
   }
,
{
		   "cell_type": "markdown",
		   "metadata": {},
		   "source": [
			"## Example 5.56: Current.sce"
		   ]
		  },
  {
"cell_type": "code",
	   "execution_count": null,
	   "metadata": {
	    "collapsed": true
	   },
	   "outputs": [],
"source": [
"                   //EXAMPLE 5-56         PG NO-341\n",
"VTH=15;                         //THEVENINS VOLTAGE\n",
"R1=4;\n",
"R2=6;\n",
"I4=VTH/(R1+R2);                    //CURRENT  THROUGH   4 ohms   Resistance\n",
"disp('i) CURRENT (I4) is    =  '+string (I4) +'  A ');"
   ]
   }
,
{
		   "cell_type": "markdown",
		   "metadata": {},
		   "source": [
			"## Example 5.57: Current.sce"
		   ]
		  },
  {
"cell_type": "code",
	   "execution_count": null,
	   "metadata": {
	    "collapsed": true
	   },
	   "outputs": [],
"source": [
"                   //EXAMPLE 5-57      PG NO-341-342\n",
"R1=22;\n",
"R2=33;\n",
"R3=10;\n",
"R4=15;\n",
"V=24;\n",
"TR=[(R1+R2)*(R3+R4)]/(R1+R2+R3+R4);\n",
"I=V/TR;\n",
"disp('i) Total Resistance (TR) is    =  '+string (TR) +'  Kohms ');\n",
"disp('ii) CURRENT (I) is    =  '+string (I) +'  A ');"
   ]
   }
,
{
		   "cell_type": "markdown",
		   "metadata": {},
		   "source": [
			"## Example 5.58: Resistance.sce"
		   ]
		  },
  {
"cell_type": "code",
	   "execution_count": null,
	   "metadata": {
	    "collapsed": true
	   },
	   "outputs": [],
"source": [
"                   //EXAMPLE 5-57      PG NO-341-342\n",
"R1=22;\n",
"R2=33;\n",
"R3=10;\n",
"R4=15;\n",
"V=24;\n",
"TR=[(R1+R2)*(R3+R4)]/(R1+R2+R3+R4);\n",
"I=V/TR;\n",
"disp('i) Total Resistance (TR) is    =  '+string (TR) +'  Kohms ');\n",
"disp('ii) CURRENT (I) is    =  '+string (I) +'  A ');"
   ]
   }
,
{
		   "cell_type": "markdown",
		   "metadata": {},
		   "source": [
			"## Example 5.60: Current.sce"
		   ]
		  },
  {
"cell_type": "code",
	   "execution_count": null,
	   "metadata": {
	    "collapsed": true
	   },
	   "outputs": [],
"source": [
"                   //EXAMPLE 5-60  PG NO-343\n",
"V=60;                //VOLTAGE\n",
"R1=3;\n",
"R2=4;\n",
"R3=1.5;\n",
"R4=2.5;\n",
"IAB=12;\n",
"IBC=6;\n",
"ICD=6;\n",
"IBD=6;\n",
"VAB=36;\n",
"VBC=9;\n",
"VCD=15;\n",
"VBD=24;\n",
"VkIk=VAB*IAB+VBC*IBC+VCD*ICD+VBD*IBD-V*IAB\n",
"disp('ii) SUBMISSION OF VkIk (VkIk) is    =  '+string (VkIk) +'   ');"
   ]
   }
,
{
		   "cell_type": "markdown",
		   "metadata": {},
		   "source": [
			"## Example 5.62: Nortan_equivalent.sce"
		   ]
		  },
  {
"cell_type": "code",
	   "execution_count": null,
	   "metadata": {
	    "collapsed": true
	   },
	   "outputs": [],
"source": [
"                  //EXAMPLE 5-62         PG NO-344-345\n",
"Z1=16+%i*0;\n",
"Z2=2+%i*1;\n",
"Z3=3-%i*1;\n",
"R=4;\n",
"I=Z1/[Z2+[(R*Z3)/(R+Z3)]];\n",
"disp(' Current is   = '+string(I)+'A');\n",
"IN=[I*Z3]/(R+Z3);\n",
"disp(' Current is   = '+string(IN)+'A');\n",
"ZN=[[Z3*Z2]/5]+R;\n",
"disp(' Impedance is   = '+string(ZN)+'A');"
   ]
   }
,
{
		   "cell_type": "markdown",
		   "metadata": {},
		   "source": [
			"## Example 5.63: Thevenins_Equivalent.sce"
		   ]
		  },
  {
"cell_type": "code",
	   "execution_count": null,
	   "metadata": {
	    "collapsed": true
	   },
	   "outputs": [],
"source": [
"                    //EXAMPLE 5-63  PG NO-345\n",
"IN=1.638-%i*0.614;\n",
"Z1=15+%i*0;\n",
"Z2=3-%i*1;\n",
"Z3=2+%i*1;\n",
"VTH=(Z1*Z2)/(Z3+Z2);\n",
"ZN=5.4+%i*0.21;\n",
"VTH1=IN*ZN\n",
"disp('ii) Voltage (VTH) is    =  '+string (VTH) +'  V ');\n",
"disp('ii) Voltage (VTH) is    =  '+string (VTH) +'  V ');"
   ]
   }
,
{
		   "cell_type": "markdown",
		   "metadata": {},
		   "source": [
			"## Example 5.64: ZL_Power.sce"
		   ]
		  },
  {
"cell_type": "code",
	   "execution_count": null,
	   "metadata": {
	    "collapsed": true
	   },
	   "outputs": [],
"source": [
"             //EXAMPLE 5-64   PG  NO-345-346\n",
"Z1=4+%i*6;\n",
"R1=1;\n",
"V=100;\n",
"ZTH=(Z1*R1)/(Z1+R1);\n",
"Pmax=[100/(ZTH+ZTH)]^2*[0.93*cos(-6.11)]\n",
"disp('i) IMPEDANCE (ZTH) is    =  '+string (ZTH) +'  ohms ');\n",
"disp('ii) POWER (Pmax) is    =  '+string ([Pmax]) +'  W ');"
   ]
   }
,
{
		   "cell_type": "markdown",
		   "metadata": {},
		   "source": [
			"## Example 5.65: Current.sce"
		   ]
		  },
  {
"cell_type": "code",
	   "execution_count": null,
	   "metadata": {
	    "collapsed": true
	   },
	   "outputs": [],
"source": [
"          //EXAMPLE 5-65       PG NO-346\n",
"V1=5;\n",
"G1=1;\n",
"V2=5;\n",
"G2=(1/2);\n",
"V3=10;\n",
"G3=(1/4);\n",
"EV=(V1*G1+V2*G2+V3*G3)/(G1+G2+G3);               //EQUIVALENT VOLTAGE\n",
"ER=1/(G1+G2+G3);\n",
"I=(EV*ER)/(EV+ER);\n",
"disp('i) Euivalent Resistance (EV) is    =  '+string (EV) +'  V ');\n",
"disp('ii) Equivalent  Resistance (ER) is    =  '+string (ER) +'  ohms ');\n",
"disp('ii) CURRENT (I) is    =  '+string (I) +'  A ');"
   ]
   }
,
{
		   "cell_type": "markdown",
		   "metadata": {},
		   "source": [
			"## Example 5.66: Change_in_current.sce"
		   ]
		  },
  {
"cell_type": "code",
	   "execution_count": null,
	   "metadata": {
	    "collapsed": true
	   },
	   "outputs": [],
"source": [
"Z1=12.99+%i*7.5;\n",
"Z2=4-%i*3;\n",
"Z3=6+%i*8;\n",
"I1=Z1/Z2;\n",
"Z=Z3-Z2\n",
"I=(I1*Z)/Z3;\n",
"disp('ii) CURRENT (I1) is  in polar form  =  '+string (I1) +'  A ');\n",
"disp('i) IMPEDANCE (Z) is  in polar form  =  '+string (Z) +'  V ');\n",
"disp('ii) CURRENT (I) is  in polar form  =  '+string (I) +'  A ');"
   ]
   }
,
{
		   "cell_type": "markdown",
		   "metadata": {},
		   "source": [
			"## Example 5.67: Reciprocity_Theorem.sce"
		   ]
		  },
  {
"cell_type": "code",
	   "execution_count": null,
	   "metadata": {
	    "collapsed": true
	   },
	   "outputs": [],
"source": [
"             //EXAMPLE 5-67 PG NO-347-348\n",
"V=10;           //VOLTAGE\n",
"R1=3;  \n",
"R2=4.91;        //RESISTANCE\n",
"I1=V/R1;       //CURRENT\n",
"Isc1=1.11;\n",
"I2=V/R2;\n",
"Isc2=1.11;\n",
"disp('ii) CURRENT (I1) is    =  '+string (I1) +'  A ');\n",
"disp('ii) CURRENT (I2) is    =  '+string (I2) +'  A ');"
   ]
   }
,
{
		   "cell_type": "markdown",
		   "metadata": {},
		   "source": [
			"## Example 5.68: Equivalent_Voltage.sce"
		   ]
		  },
  {
"cell_type": "code",
	   "execution_count": null,
	   "metadata": {
	    "collapsed": true
	   },
	   "outputs": [],
"source": [
"                    //EXAMPLE 5-68         PG NO-348\n",
"V1=3;\n",
"V2=0.75;\n",
"R1=1;\n",
"R2=0.75;\n",
"V=V1+V2;\n",
"R=R1+R2;\n",
"disp('ii) Voltage (V) is    =  '+string (V) +'  V ');\n",
"disp('ii)Resistance (R) is    =  '+string (R) +'  ohms ');"
   ]
   }
,
{
		   "cell_type": "markdown",
		   "metadata": {},
		   "source": [
			"## Example 5.69: Current.sce"
		   ]
		  },
  {
"cell_type": "code",
	   "execution_count": null,
	   "metadata": {
	    "collapsed": true
	   },
	   "outputs": [],
"source": [
"                 //EXAMPLE 5-69    PG NO-349\n",
"V=24;                         //VOLTAGE\n",
"R1=0.1;\n",
"R2=6;\n",
"R3=5;\n",
"I=V/[R1+(R3*R2)/(R3+R2)];\n",
"I1=I*(R3/(R2+R3));\n",
"I2=I*(R2/(R2+R3));\n",
"VTH=-(I1*2)-(-2*I2);\n",
"RTH=2.533;\n",
"IAB=VTH/(RTH+1);\n",
"disp('ii) CURRENT (I) is    =  '+string (I) +'  A ');\n",
"disp('ii) CURRENT (I1) is    =  '+string (I1) +'  A ');\n",
"disp('ii) CURRENT (I2) is    =  '+string (I2) +'  A ');\n",
"disp('ii) Voltage (VTH) is    =  '+string (VTH) +'  V ');\n",
"disp('ii) CURRENT (IAB) is    =  '+string (IAB) +'  A ');"
   ]
   }
,
{
		   "cell_type": "markdown",
		   "metadata": {},
		   "source": [
			"## Example 5.6: Current.sce"
		   ]
		  },
  {
"cell_type": "code",
	   "execution_count": null,
	   "metadata": {
	    "collapsed": true
	   },
	   "outputs": [],
"source": [
"                  //EXAMPLE   5-6    PG NO=299-300\n",
"TZ1=54.90+%i*85;\n",
"Z1=40+%i*0;\n",
"Z2=250-%i*132.625;\n",
"Z3=0-%i*132.625;\n",
"IR1=[Z1/TZ1]*[Z3/Z2];\n",
"disp(' CURRENT is  in polar form = '+string(IR1)+'A');\n",
"TZ2=173.64+%i*48.84;\n",
"Z4=20+%i*0;\n",
"Z5=250+%i*377;\n",
"Z6=0+%i*377;\n",
"IR2=[Z4/TZ2]*[Z6/Z5];\n",
"disp(' CURRENT is  in polar form = '+string(IR2)+'A');\n",
"IR=[IR1^2+IR2^2]^0.5;\n",
"disp(' CURRENT is  in polar form = '+string(IR)+'A');"
   ]
   }
,
{
		   "cell_type": "markdown",
		   "metadata": {},
		   "source": [
			"## Example 5.70: Current.sce"
		   ]
		  },
  {
"cell_type": "code",
	   "execution_count": null,
	   "metadata": {
	    "collapsed": true
	   },
	   "outputs": [],
"source": [
"             //EXAMPLE 5-70      PG NO-350\n",
"R1=2;\n",
"R2=3;\n",
"R3=6;\n",
"I4=R2*(R1/R3);                //CURRENT THROUGH   4 OHMS RESISTANCE\n",
"TI=I4+I4;                     //TOTAL CURRENT\n",
"disp('ii) CURRENT (I4) is    =  '+string (I4) +'  A ');\n",
"disp('ii) CURRENT (TI) is    =  '+string (TI) +'  A ');"
   ]
   }
,
{
		   "cell_type": "markdown",
		   "metadata": {},
		   "source": [
			"## Example 5.71: Current_in_R3.sce"
		   ]
		  },
  {
"cell_type": "code",
	   "execution_count": null,
	   "metadata": {
	    "collapsed": true
	   },
	   "outputs": [],
"source": [
"               //EXAMPLE 5-71    PG NO=350-351\n",
"R1=5;\n",
"R2=4;\n",
"R3=10;\n",
"R=R1*R2/(R1+R2);\n",
"I=(R*R3)/(R+R3);\n",
"disp('ii) Resitance (R) is    =  '+string (R) +'  ohms ');\n",
"disp('ii) CURRENT (I) is    =  '+string (I) +'  A ');"
   ]
   }
,
{
		   "cell_type": "markdown",
		   "metadata": {},
		   "source": [
			"## Example 5.73: matrix.sce"
		   ]
		  },
  {
"cell_type": "code",
	   "execution_count": null,
	   "metadata": {
	    "collapsed": true
	   },
	   "outputs": [],
"source": [
"X=[4 2 ;2  4 ];\n",
"B=[20;10];\n",
"X=B\n",
"disp(' Current is   = '+string(X)+'A');"
   ]
   }
,
{
		   "cell_type": "markdown",
		   "metadata": {},
		   "source": [
			"## Example 5.74: Reciprocity_Theorem.sce"
		   ]
		  },
  {
"cell_type": "code",
	   "execution_count": null,
	   "metadata": {
	    "collapsed": true
	   },
	   "outputs": [],
"source": [
"R1=15;\n",
"V=20               //RESISTANCE\n",
"I1=V/R1;\n",
"I2=I1*(1/2);\n",
"R2=15;\n",
"I1=V/R2;\n",
"I2=I1*(1/2);\n",
"disp('ii) CURRENT (I1) is    =  '+string (I1) +'  A ');\n",
"disp('ii) CURRENT (I2) is    =  '+string (I2) +'  A ');\n",
"disp('ii) CURRENT (I1) is    =  '+string (I1) +'  A ');\n",
"disp('ii) CURRENT (I2) is    =  '+string (I2) +'  A ');"
   ]
   }
,
{
		   "cell_type": "markdown",
		   "metadata": {},
		   "source": [
			"## Example 5.7: Power_Total_Power.sce"
		   ]
		  },
  {
"cell_type": "code",
	   "execution_count": null,
	   "metadata": {
	    "collapsed": true
	   },
	   "outputs": [],
"source": [
"     //EXAMPLE 5-7   PG NO-300\n",
"IR1=0.185;            //current \n",
"IR2=0.0924;          //current\n",
"R=250;              //Resistance\n",
"P1=IR1*IR1*R;      //POWER\n",
"P2=IR2*IR2*R;    //POWER\n",
"P=P1+P2;        //POWER\n",
"disp('i) POWER (P1) is   =  '+string (P1)+'W ');\n",
"disp('i) POWER (P2) is   =  '+string (P2)+'W ');\n",
"disp('i) POWER (P) is   =  '+string (P)+'W ');"
   ]
   }
,
{
		   "cell_type": "markdown",
		   "metadata": {},
		   "source": [
			"## Example 5.8: Current.sce"
		   ]
		  },
  {
"cell_type": "code",
	   "execution_count": null,
	   "metadata": {
	    "collapsed": true
	   },
	   "outputs": [],
"source": [
"                    //EXAMPLE 5-8   PG NO-301\n",
"Vcb=40/7;\n",
"Vth=-6.2857;\n",
"RTH=9.4286;\n",
"R=10;\n",
"I=-Vth/[R+RTH];\n",
"disp(' CURRENT is  in polar form = '+string(I)+'A');"
   ]
   }
,
{
		   "cell_type": "markdown",
		   "metadata": {},
		   "source": [
			"## Example 5.9: Deflectio.sce"
		   ]
		  },
  {
"cell_type": "code",
	   "execution_count": null,
	   "metadata": {
	    "collapsed": true
	   },
	   "outputs": [],
"source": [
"        //EXAMPLE 5-9  PG NO-302\n",
"V=10;   //Voltage\n",
"S=0.5*10^-5;\n",
"R1=2500;\n",
"R2=1050;\n",
"R3=200;\n",
"R4=500;\n",
"Van=(V/(R1+R4))*R4;\n",
"Vbn=(V/(R2+R3))*R3;\n",
"VTH=Van-Vbn;\n",
"RTH=((R1*R4)/(R1+R4))+((R2*R3)/(R2+R3));\n",
"I=VTH/(RTH+100);\n",
"GD=I/S;                        //Galvonater Deflection\n",
"disp('i) voltage (Van) is   =  '+string (Van)+'V ');\n",
"disp('i) Voltage (Vbn) is   =  '+string (Vbn)+'V ');\n",
"disp('i) Voltage (VTH) is   =  '+string (VTH)+'V ');  \n",
"disp('i) Resistance (RTH) is   =  '+string (RTH)+'ohms ');\n",
"disp('i) CURRENT (I) is   =  '+string (I)+'A ');\n",
"disp('i) Galvoneter Deflection (GD) is   =  '+string (GD)+'mm ');\n",
""
   ]
   }
],
"metadata": {
		  "kernelspec": {
		   "display_name": "Scilab",
		   "language": "scilab",
		   "name": "scilab"
		  },
		  "language_info": {
		   "file_extension": ".sce",
		   "help_links": [
			{
			 "text": "MetaKernel Magics",
			 "url": "https://github.com/calysto/metakernel/blob/master/metakernel/magics/README.md"
			}
		   ],
		   "mimetype": "text/x-octave",
		   "name": "scilab",
		   "version": "0.7.1"
		  }
		 },
		 "nbformat": 4,
		 "nbformat_minor": 0
}
