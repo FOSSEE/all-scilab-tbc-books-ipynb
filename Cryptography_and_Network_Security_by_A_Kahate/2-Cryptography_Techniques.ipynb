{
"cells": [
 {
		   "cell_type": "markdown",
	   "metadata": {},
	   "source": [
       "# Chapter 2: Cryptography Techniques"
	   ]
	},
{
		   "cell_type": "markdown",
		   "metadata": {},
		   "source": [
			"## Example 2.11: Fig_2pt11_Example_of_breaking_caesar_cipher.sce"
		   ]
		  },
  {
"cell_type": "code",
	   "execution_count": null,
	   "metadata": {
	    "collapsed": true
	   },
	   "outputs": [],
"source": [
"// Example of breaking Caesar cipher\n",
"\n",
"// Move scilab to current file directory\n",
"[u,t,n] = file()\n",
"n = strcat(n)\n",
"file_name = basename(n)+fileext(n)\n",
"file_name = strcat(file_name)\n",
"ind=strindex(n,file_name)\n",
"path = part(n,1:ind-1)\n",
"chdir(path)\n",
"\n",
"exec('Chapter_2.sci',-1)\n",
"\n",
"key = 3\n",
"a = ascii('A')\n",
"ct = 'L ORYH BRX'\n",
"printf('Encrypted text:\n\t%s\n',ct)\n",
"\n",
"//Decryption using function from dependency file\n",
"printf('Plaintext:\n\t%s',decrypt_caesar(ct))"
   ]
   }
,
{
		   "cell_type": "markdown",
		   "metadata": {},
		   "source": [
			"## Example 2.13: EX2_13.sce"
		   ]
		  },
  {
"cell_type": "code",
	   "execution_count": null,
	   "metadata": {
	    "collapsed": true
	   },
	   "outputs": [],
"source": [
"// Attempts to break moidified Caesar cipher text using multiple possiblities\n",
"\n",
"// Move scilab to current file directory\n",
"[u,t,n] = file()\n",
"n = strcat(n)\n",
"file_name = basename(n)+fileext(n)\n",
"file_name = strcat(file_name)\n",
"ind=strindex(n,file_name)\n",
"path = part(n,1:ind-1)\n",
"chdir(path)\n",
"\n",
"exec('Chapter_2.sci',-1)\n",
"\n",
"a = ascii('A')\n",
"ct = 'KWUM PMZM'\n",
"printf('Encrypted text:\n\t%s\n',ct)\n",
"printf('Possible Plaintext:\n\t\n')\n",
"\n",
"\n",
"//Decryption using library function\n",
"printf('Attempt Number\n(Value of k)\n');\n",
"for key = 1:25\n",
"    printf('\t%d. \t',key)\n",
"    printf('%s\n',decrypt_caesar_general(ct,26-key));        \n",
"end"
   ]
   }
,
{
		   "cell_type": "markdown",
		   "metadata": {},
		   "source": [
			"## Example 2.14: Fig_2pt14_Polygram_substitutio.sce"
		   ]
		  },
  {
"cell_type": "code",
	   "execution_count": null,
	   "metadata": {
	    "collapsed": true
	   },
	   "outputs": [],
"source": [
"\n",
"//Polygram substitution\n",
"\n",
"pt = ['HELLO' 'HELL']\n",
"ct = ['YUQQW' 'TEUI']\n",
"\n",
"for i=1:length(length(pt))\n",
"    printf('Plaintext: %s\n',pt(1,i))\n",
"    printf('Ciphertext: %s\n\n',ct(1,i))\n",
"end"
   ]
   }
,
{
		   "cell_type": "markdown",
		   "metadata": {},
		   "source": [
			"## Example 2.15: Fig_2pt15_Vignere_Tableau.sce"
		   ]
		  },
  {
"cell_type": "code",
	   "execution_count": null,
	   "metadata": {
	    "collapsed": true
	   },
	   "outputs": [],
"source": [
"// Vignere tableau\n",
"\n",
"a = ascii('A')\n",
"\n",
"// Print header\n",
"printf(' \t')\n",
"for i=1:26\n",
"    printf('%c ',ascii(a+i-1))\n",
"end\n",
"printf('\n\n')\n",
"//end of header\n",
"\n",
"for i=1:26\n",
"    printf('%c\t',ascii(a+i-1))\n",
"    for j=0:25\n",
"        printf('%c ',ascii( a + modulo( i+j+key, 26 ) ) )\n",
"    end\n",
"    printf('\n')\n",
"end"
   ]
   }
,
{
		   "cell_type": "markdown",
		   "metadata": {},
		   "source": [
			"## Example 2.18: Fig_2pt18_Keyword_matrix.sce"
		   ]
		  },
  {
"cell_type": "code",
	   "execution_count": null,
	   "metadata": {
	    "collapsed": true
	   },
	   "outputs": [],
"source": [
"//Keyword matrix for the example Fig 2.18\n",
"\n",
"// Move scilab to current file directory\n",
"[u,t,n] = file()\n",
"n = strcat(n)\n",
"file_name = basename(n)+fileext(n)\n",
"file_name = strcat(file_name)\n",
"ind=strindex(n,file_name)\n",
"path = part(n,1:ind-1)\n",
"chdir(path)\n",
"\n",
"exec('Chapter_2.sci',-1)\n",
"\n",
"key = 'PLAYFAIREXAMPLE'\n",
"\n",
"mat = playfair_matrix(key)                  //calling matrix population function from the dependency file\n",
"[row,col] = size(mat)\n",
"for m=1:row\n",
"    for n=1:col\n",
"        printf('%c ',ascii(mat(m,n)))\n",
"    end\n",
"    printf('\n')\n",
"end"
   ]
   }
,
{
		   "cell_type": "markdown",
		   "metadata": {},
		   "source": [
			"## Example 2.25: Fig_2pt25_Encryption_process_in_Playfair_cipher.sce"
		   ]
		  },
  {
"cell_type": "code",
	   "execution_count": null,
	   "metadata": {
	    "collapsed": true
	   },
	   "outputs": [],
"source": [
"//Encryption process in Playfair cipher\n",
"\n",
"// Move scilab to current file directory\n",
"[u,t,n] = file()\n",
"n = strcat(n)\n",
"file_name = basename(n)+fileext(n)\n",
"file_name = strcat(file_name)\n",
"ind=strindex(n,file_name)\n",
"path = part(n,1:ind-1)\n",
"chdir(path)\n",
"\n",
"exec('Chapter_2.sci',-1)\n",
"\n",
"//Playfair cipher key\n",
"key = 'PLAYFAIR EXAMPLE'\n",
"disp('Original plaintext:')\n",
"pt = 'MY NAME IS ATUL.'\n",
"disp(pt)\n",
"\n",
"//Using functions from dependency file to reformat the input\n",
"\n",
"pt = playfair_pt(pt)            // substituting J to I and handling duplicates\n",
"pt_digram = digram_array(pt)       // converting to digrams\n",
"\n",
"disp('Plaintext message broken down into pair of elements:')\n",
"print_matrix(pt_digram,0)\n",
"disp('')\n",
"a = ascii('A')\n",
"\n",
"key_matrix = playfair_matrix(key);\n",
"// mat contains ascii values of characters of playfair matrix\n",
"//Use 'disp(mat)' to verify this\n",
"disp('Playfair Cipher Key matrix: ')\n",
"\n",
"print_matrix(key_matrix,1)\n",
"\n",
"//disp(pt_matrix)\n",
"ct_mat = encrypt_playfair(pt_digram,key_matrix)\n",
"\n",
"disp('Playfair ciphertext:')\n",
"print_matrix(ct_mat,0)\n",
"\n",
""
   ]
   }
,
{
		   "cell_type": "markdown",
		   "metadata": {},
		   "source": [
			"## Example 2.26: Fig_2pt26_Keyword_matrix.sce"
		   ]
		  },
  {
"cell_type": "code",
	   "execution_count": null,
	   "metadata": {
	    "collapsed": true
	   },
	   "outputs": [],
"source": [
"//Keyword matrix for the example Fig 2.18\n",
"\n",
"// Move scilab to current file directory\n",
"[u,t,n] = file()\n",
"n = strcat(n)\n",
"file_name = basename(n)+fileext(n)\n",
"file_name = strcat(file_name)\n",
"ind=strindex(n,file_name)\n",
"path = part(n,1:ind-1)\n",
"chdir(path)\n",
"\n",
"exec('Chapter_2.sci',-1)\n",
"\n",
"key = 'PLAYFAIR EXAMPLE'\n",
"printf('Keyword:\n%s\n\n',key)\n",
"printf('Matrix:\n')\n",
"\n",
"//calling matrix population function from dependency file\n",
"mat = playfair_matrix(key)                  \n",
"\n",
"\n",
"[row,col] = size(mat)\n",
"for m=1:row\n",
"    for n=1:col\n",
"        printf('%c ',ascii(mat(m,n)))\n",
"    end\n",
"    printf('\n')\n",
"end\n",
"\n",
"disp('')"
   ]
   }
,
{
		   "cell_type": "markdown",
		   "metadata": {},
		   "source": [
			"## Example 2.33: Fig_2pt33_Practice_example_for_playfair_cipher.sce"
		   ]
		  },
  {
"cell_type": "code",
	   "execution_count": null,
	   "metadata": {
	    "collapsed": true
	   },
	   "outputs": [],
"source": [
"//Practice example for playfair cipher\n",
"\n",
"// Move scilab to current file directory\n",
"[u,t,n] = file()\n",
"n = strcat(n)\n",
"file_name = basename(n)+fileext(n)\n",
"file_name = strcat(file_name)\n",
"ind=strindex(n,file_name)\n",
"path = part(n,1:ind-1)\n",
"chdir(path)\n",
"\n",
"exec('Chapter_2.sci',-1)\n",
"\n",
"//Playfair cipher key\n",
"key = 'HARSH'\n",
"disp('Original plaintext:')\n",
"pt = 'MY NAME IS JUI KAHATE. I AM HARSHU''S SISTER.'\n",
"disp(pt)\n",
"\n",
"//using functions from dependency file to reformat the input\n",
"\n",
"pt = playfair_pt(pt)            // substituting J to I and handling duplicates\n",
"pt_digram = digram_array(pt)       // converting to digrams\n",
"\n",
"disp('Plaintext message broken down into pair of elements:')\n",
"print_matrix(pt_digram,0)\n",
"disp('')\n",
"a = ascii('A')\n",
"\n",
"\n",
"//Calling function to calculate the playfair matrix from the dependency file\n",
"key_matrix = playfair_matrix(key);\n",
"\n",
"// mat contains ascii values of characters of playfair matrix\n",
"//Use 'disp(mat)' to verify this\n",
"disp('Playfair Cipher Key matrix: ')\n",
"\n",
"print_matrix(key_matrix,1)\n",
"\n",
"//disp(pt_matrix)\n",
"ct_mat = encrypt_playfair(pt_digram,key_matrix)\n",
"\n",
"disp('Playfair ciphertext:')\n",
"print_matrix(ct_mat,0)"
   ]
   }
,
{
		   "cell_type": "markdown",
		   "metadata": {},
		   "source": [
			"## Example 2.34: Fig_2pt34_Encryption_and_decryption_of_hill_cipher.sce"
		   ]
		  },
  {
"cell_type": "code",
	   "execution_count": null,
	   "metadata": {
	    "collapsed": true
	   },
	   "outputs": [],
"source": [
"//////////////////////////////////////////\n",
"//										//\n",
"//(a) Encrytion scheme of hill cipher   //\n",
"//										//\n",
"//////////////////////////////////////////\n",
"\n",
"\n",
"//PLaintext \n",
"pt = 'CAT'\n",
"\n",
"disp('Plaintext: ')\n",
"disp(pt)\n",
"\n",
"l = length(pt)\n",
"pt = strsplit(pt)\n",
"\n",
"a = ascii('A')\n",
"pt_mat = []\n",
"\n",
"//Taking A=0,B=1,C=2,etc.\n",
"for i=1:l\n",
"    pt_mat(i,1)=ascii(pt(i,1))-a\n",
"end\n",
"\n",
"disp('Plaintext matrix:')\n",
"disp(pt_mat)\n",
"\n",
"//Key matrix \n",
"key_mat = [6 24 1; 13 16 10;20 17 15]\n",
"disp('Encryption Key matrix:')\n",
"disp(key_mat)\n",
"\n",
"//ciphertext matrix\n",
"ct_mat = key_mat * pt_mat\n",
"\n",
"disp('Product: ')\n",
"disp(ct_mat)\n",
"[r,c]=size(ct_mat)\n",
"\n",
"//Taking mod for correct conversion\n",
"for i=1:r\n",
"    ct_mat(i,1) = modulo(ct_mat(i,1),26)\n",
"end\n",
"\n",
"disp('Ciphertext matrix: ')\n",
"disp(ct_mat)\n",
"\n",
"disp('Ciphertext: ')\n",
"\n",
"//Conversion of code to letters\n",
"ct=[]\n",
"for i=1:r\n",
"    ct(i,1) = ascii(ct_mat(i,1)+a)\n",
"end\n",
"ct = strcat(ct)\n",
"disp(ct)\n",
"\n",
"\n",
"\n",
"//////////////////////////////////////////\n",
"//										//\n",
"//(b) Decrytion scheme of hill cipher   //\n",
"//										//\n",
"//////////////////////////////////////////\n",
"\n",
"//Ciphertext \n",
"disp('Ciphertext: ')\n",
"disp(ct)\n",
"\n",
"l = length(ct)\n",
"ct = strsplit(ct)\n",
"\n",
"a = ascii('A')\n",
"ct_mat = []\n",
"\n",
"//Taking A=0,B=1,C=2,etc.\n",
"for i=1:l\n",
"    ct_mat(i,1)=ascii(ct(i,1))-a\n",
"end\n",
"\n",
"disp('Ciphertext matrix:')\n",
"disp(ct_mat)\n",
"\n",
"//Key matrix for decryption (inverse of encryption key matrix)\n",
"key_mat = [8 5 10; 21 8 21;21 12 8]\n",
"disp('Decryption Key matrix:')\n",
"disp(key_mat)\n",
"\n",
"//ciphertext matrix\n",
"pt_mat = key_mat * ct_mat\n",
"\n",
"disp('Product: ')\n",
"disp(pt_mat)\n",
"[r,c]=size(pt_mat)\n",
"\n",
"//Taking mod for correct conversion\n",
"for i=1:r\n",
"    pt_mat(i,1) = modulo(pt_mat(i,1),26)\n",
"end\n",
"\n",
"disp('Plaintext matrix: ')\n",
"disp(pt_mat)\n",
"\n",
"disp('Plaintext: ')\n",
"\n",
"//Conversion of code to letters\n",
"pt=[]\n",
"for i=1:r\n",
"    pt(i,1) = ascii(pt_mat(i,1)+a)\n",
"end\n",
"pt = strcat(pt)\n",
"disp(pt)"
   ]
   }
,
{
		   "cell_type": "markdown",
		   "metadata": {},
		   "source": [
			"## Example 2.36: Fig_2pt36_Rail_fence_technique.sce"
		   ]
		  },
  {
"cell_type": "code",
	   "execution_count": null,
	   "metadata": {
	    "collapsed": true
	   },
	   "outputs": [],
"source": [
"//Rail fence technique\n",
"\n",
"// Move scilab to current file directory\n",
"[u,t,n] = file()\n",
"n = strcat(n)\n",
"file_name = basename(n)+fileext(n)\n",
"file_name = strcat(file_name)\n",
"ind=strindex(n,file_name)\n",
"path = part(n,1:ind-1)\n",
"chdir(path)\n",
"\n",
"exec('Chapter_2.sci',-1)\n",
"\n",
"disp('Original plaintext message:')\n",
"pt = 'Come home tomorrow'\n",
"disp(pt)\n",
"\n",
"//function from dependency file\n",
"pt = remove_spaces(pt)\n",
"\n",
"ct = []\n",
"k=1\n",
"\n",
"//Writing diagonally\n",
"for i=1:length(pt)\n",
"    if modulo(i,2)==0 then\n",
"        continue\n",
"    end\n",
"    ct(k,1) = part(pt,i:i)\n",
"    ct(k,2) = part(pt,i+1:i+1)\n",
"    k = k+1\n",
"end\n",
"\n",
"ct = strcat(ct)\n",
"disp('')\n",
"disp('Ciphertext:')\n",
"disp(ct)"
   ]
   }
,
{
		   "cell_type": "markdown",
		   "metadata": {},
		   "source": [
			"## Example 2.38: Fig_2pt38_Example_of_simple_columnar_ransposition_technique.sce"
		   ]
		  },
  {
"cell_type": "code",
	   "execution_count": null,
	   "metadata": {
	    "collapsed": true
	   },
	   "outputs": [],
"source": [
"//Example of simple columnar ransposition technique\n",
"\n",
"// Move scilab to current file directory\n",
"[u,t,n] = file()\n",
"n = strcat(n)\n",
"file_name = basename(n)+fileext(n)\n",
"file_name = strcat(file_name)\n",
"ind=strindex(n,file_name)\n",
"path = part(n,1:ind-1)\n",
"chdir(path)\n",
"\n",
"exec('Chapter_2.sci',-1)\n",
"\n",
"disp('Original plaintext message:')\n",
"pt = 'Come home tomorrow'\n",
"disp(pt)\n",
"disp('')\n",
"\n",
"//function from dependency file\n",
"pt = remove_spaces(pt)              \n",
"\n",
"l = length(pt)\n",
"\n",
"col = 6\n",
"\n",
"row = l/6\n",
"    if modulo(l,6)>0 then\n",
"        row=row+1\n",
"    end\n",
"\n",
"//Conversion of plaintext into a message table\n",
"//function from dependency file\n",
"pt_mat = message_rectangle(pt,col)\n",
"\n",
"disp('Plaintext message rectangle:')\n",
"printf('\n')\n",
"for i=1:col\n",
"    printf(' %d ',i)\n",
"end\n",
"disp(pt_mat)\n",
"disp('')\n",
"\n",
"//Column read order\n",
"col_order = [4 6 1 2 5 3]\n",
"disp('Column order: ')\n",
"disp(col_order)\n",
"disp('')\n",
"k=1\n",
"\n",
"ct=[]\n",
"//Convert to ciphertext\n",
"for n = 1:length(col_order)\n",
"    j = col_order(n)\n",
"    for i=1:row\n",
"        pos = (i-1)*col + j\n",
"        if pos>l then\n",
"            continue\n",
"        end\n",
"        ct(k)=pt_mat(i,j)\n",
"        k=k+1\n",
"    end\n",
"end\n",
"disp('Ciphertext:')\n",
"ct = strcat(ct)\n",
"disp(ct)"
   ]
   }
,
{
		   "cell_type": "markdown",
		   "metadata": {},
		   "source": [
			"## Example 2.40: Fig_2pt40_Example_of_simple_columnar_ransposition_technique_with_multiple_rounds.sce"
		   ]
		  },
  {
"cell_type": "code",
	   "execution_count": null,
	   "metadata": {
	    "collapsed": true
	   },
	   "outputs": [],
"source": [
"//Example of simple columnar ransposition technique with multiple rounds\n",
"\n",
"// Move scilab to current file directory\n",
"[u,t,n] = file()\n",
"n = strcat(n)\n",
"file_name = basename(n)+fileext(n)\n",
"file_name = strcat(file_name)\n",
"ind=strindex(n,file_name)\n",
"path = part(n,1:ind-1)\n",
"chdir(path)\n",
"\n",
"exec('Chapter_2.sci')\n",
"\n",
"pt = 'Come home tomorrow'\n",
"disp('Original plaintext message:')\n",
"disp(pt)\n",
"\n",
"//function from dependency file\n",
"l = length(remove_spaces(pt))\n",
"//disp(l)\n",
"\n",
"rounds = 2\n",
"col_order = [4 6 1 2 5 3]\n",
"col = 6\n",
"row = l/6\n",
"    if modulo(l,6)>0 then\n",
"        row=row+1\n",
"    end\n",
"\n",
"for r=1:rounds\n",
"    printf('\nRound %d:',r)\n",
"\n",
"    //function from dependency file\n",
"    pt_mat = message_rectangle(pt)\n",
"    \n",
"    disp('')\n",
"    disp('Plaintext:')\n",
"    disp(pt)    \n",
"    disp('Plaintext message rectangle:')\n",
"    printf('\n')\n",
"    for i=1:col\n",
"        printf(' %d ',i)\n",
"    end\n",
"    disp(pt_mat)\n",
"    \n",
"    k=1\n",
"    \n",
"    ct=[]\n",
"    //Convert to ciphertext\n",
"    for n = 1:length(col_order)\n",
"        j = col_order(n)\n",
"        for i=1:row\n",
"            pos = (i-1)*col + j\n",
"            if pos>l then\n",
"                continue\n",
"            end\n",
"            ct(k)=pt_mat(i,j)\n",
"            k=k+1\n",
"        end\n",
"    end\n",
"    disp('Ciphertext:')\n",
"    ct = strcat(ct)\n",
"    disp(ct)\n",
"    pt = ct\n",
"    disp('')\n",
"end\n",
"\n",
"disp('Final ciphertext:')\n",
"disp(ct)"
   ]
   }
,
{
		   "cell_type": "markdown",
		   "metadata": {},
		   "source": [
			"## Example 2.42: Fig_2pt42_Vernam_cipher.sce"
		   ]
		  },
  {
"cell_type": "code",
	   "execution_count": null,
	   "metadata": {
	    "collapsed": true
	   },
	   "outputs": [],
"source": [
"//Vernam cipher\n",
"\n",
"// Move scilab to current file directory\n",
"[u,t,n] = file()\n",
"n = strcat(n)\n",
"file_name = basename(n)+fileext(n)\n",
"file_name = strcat(file_name)\n",
"ind=strindex(n,file_name)\n",
"path = part(n,1:ind-1)\n",
"chdir(path)\n",
"\n",
"exec('Chapter_2.sci',-1)\n",
"\n",
"a= ascii('A')\n",
"\n",
"pt = 'HOW ARE YOU?'                 //Plaintext\n",
"disp('')\n",
"disp('Original plaintext:')\n",
"disp(pt)\n",
"\n",
"//function from dependency file\n",
"pt = remove_spaces(pt)              //Processed plaintext for encryption\n",
"\n",
"disp('')\n",
"disp('Plaintext:')\n",
"disp(pt)\n",
"disp(ascii(pt)-a)\n",
"\n",
"disp('')\n",
"disp('One-time pad:')               \n",
"otp = 'NCBTZQARX'                   //OTP\n",
"disp(otp)\n",
"disp(ascii(otp)-a)\n",
"\n",
"ct = []\n",
"\n",
"for i=1:length(pt)                  //Encryption stage\n",
"    ct(i) = ascii(part(pt,i:i)) + ascii(part(otp,i:i)) -2*a\n",
"end\n",
"\n",
"disp('')\n",
"disp('Initial total:')\n",
"disp(ct')\n",
"\n",
"\n",
"disp('')\n",
"disp('Subtracting 26 if >25')\n",
"ct = modulo(ct,26)                  //Taking modulo 26 to make range b/w 0-25\n",
"disp(ct')\n",
"ct = char(ct+a)'                    //Ciphertext\n",
"\n",
"disp('')\n",
"disp('Ciphertext: ')\n",
"disp(strcat(ct))                \n",
""
   ]
   }
,
{
		   "cell_type": "markdown",
		   "metadata": {},
		   "source": [
			"## Example 2.43: Fig_2pt43_Encryption.sce"
		   ]
		  },
  {
"cell_type": "code",
	   "execution_count": null,
	   "metadata": {
	    "collapsed": true
	   },
	   "outputs": [],
"source": [
"\n",
"//Encryption\n",
"\n",
"// Move scilab to current file directory\n",
"[u,t,n] = file()\n",
"n = strcat(n)\n",
"file_name = basename(n)+fileext(n)\n",
"file_name = strcat(file_name)\n",
"ind=strindex(n,file_name)\n",
"path = part(n,1:ind-1)\n",
"chdir(path)\n",
"\n",
"exec('Chapter_2.sci',-1)\n",
"\n",
"pt = 'Hello John'\n",
"\n",
"disp('Plain-text message:')\n",
"disp(pt)\n",
"\n",
"a = ascii('a')\n",
"z = ascii('z')\n",
"A = ascii('A')\n",
"Z = ascii('Z')\n",
"\n",
"\n",
"ct = []\n",
"for i=1:length(pt(k))\n",
"    x = ascii(part(pt(k,1),i:i))\n",
"    if x>=A & x<=Z then\n",
"        //function from dependency file\n",
"        ct(k,i) = encrypt_caesar_general(part(pt(k),i:i),1)\n",
"    elseif x>=a & x<=z then\n",
"        c = convstr(part(pt(k),i:i),'u')\n",
"        c = encrypt_caesar_general(c,1)\n",
"        c = convstr(c,'l')\n",
"        ct(k,i) = c\n",
"    else\n",
"        ct(k,i) = part(pt(k),i:i)\n",
"    end\n",
"end\n",
"\n",
"ct = strcat(ct)\n",
"disp('')\n",
"disp('Cipher text')\n",
"disp(ct)"
   ]
   }
,
{
		   "cell_type": "markdown",
		   "metadata": {},
		   "source": [
			"## Example 2.44: Fig_2pt44_Decryptio.sce"
		   ]
		  },
  {
"cell_type": "code",
	   "execution_count": null,
	   "metadata": {
	    "collapsed": true
	   },
	   "outputs": [],
"source": [
"\n",
"//Decryption\n",
"\n",
"// Move scilab to current file directory\n",
"[u,t,n] = file()\n",
"n = strcat(n)\n",
"file_name = basename(n)+fileext(n)\n",
"file_name = strcat(file_name)\n",
"ind=strindex(n,file_name)\n",
"path = part(n,1:ind-1)\n",
"chdir(path)\n",
"\n",
"exec('Chapter_2.sci',-1)\n",
"\n",
"pt = 'Ifmmp Kpio'\n",
"\n",
"disp('Plain-text message:')\n",
"disp(pt)\n",
"\n",
"a = ascii('a')\n",
"z = ascii('z')\n",
"A = ascii('A')\n",
"Z = ascii('Z')\n",
"\n",
"\n",
"ct = []\n",
"for i=1:length(pt)\n",
"    x = ascii(part(pt(1,1),i:i))\n",
"    if x>=A & x<=Z then\n",
"        //function from dependency file\n",
"        ct(1,i) = decrypt_caesar_general(part(pt,i:i),1)\n",
"    elseif x>=a & x<=z then\n",
"        c = convstr(part(pt,i:i),'u')\n",
"        c = decrypt_caesar_general(c,1)\n",
"        c = convstr(c,'l')\n",
"        ct(1,i) = c\n",
"    else\n",
"        ct(1,i) = part(pt,i:i)\n",
"    end\n",
"end\n",
"\n",
"ct = strcat(ct)\n",
"disp('')\n",
"disp('Cipher text')\n",
"disp(ct)"
   ]
   }
,
{
		   "cell_type": "markdown",
		   "metadata": {},
		   "source": [
			"## Example 2.51: Fig_2pt51_Number_of_parties_and_the_corresponding_number_of_lock_and_key_pairs.sce"
		   ]
		  },
  {
"cell_type": "code",
	   "execution_count": null,
	   "metadata": {
	    "collapsed": true
	   },
	   "outputs": [],
"source": [
"\n",
"// Number of parties and the corresponding number of lock-and-key pairs\n",
"\n",
"printf('Parties involved\tNumber of lock-and-key pairs required')\n",
"\n",
"n = (2:5)\n",
"\n",
"//disp(n)\n",
"num = factorial(n)\n",
"//disp(num)\n",
"den = factorial(2)*factorial(n-2)\n",
"//disp(den)\n",
"\n",
"for i=1:length(num)\n",
"    printf('\n\t%d\t\t\t\t%d\n',n(i),num(i)/den(i))\n",
"end"
   ]
   }
,
{
		   "cell_type": "markdown",
		   "metadata": {},
		   "source": [
			"## Example 2.54: Fig_2pt54_Diffie_Hellman_key_exchange.sce"
		   ]
		  },
  {
"cell_type": "code",
	   "execution_count": null,
	   "metadata": {
	    "collapsed": true
	   },
	   "outputs": [],
"source": [
"// Diffie-Hellman key exchange\n",
"\n",
"n = 11                  // Two prime numbers\n",
"g = 7					//need not be kept secret \n",
"printf('n: %d\ng: %d\n',n,g)\n",
"\n",
"x = 3                   // Alice's secret random number\n",
"A = modulo((g^x),n)     // Alice's message to Bob\n",
"                        //A  =  2\n",
" \n",
"y = 6                   // Bob's secret random number\n",
"B = modulo((g^y),n)     // Bob's message to Alice\n",
"                        //B  =  4  \n",
"\n",
"printf('x: %d\ny: %d\nA: %d\nB: %d\n',x,y,A,B)\n",
" \n",
"K1 = modulo((B^x),n)    // Alice's key\n",
"						//K1  =  9  \n",
" \n",
"K2 = modulo((A^y),n)    // Bob's key\n",
"                        //K2  =  9  \n",
"printf('Alice''s Key %d\n',K1)\n",
"printf('Bob''s Key %d',K2)\n",
" // K1 = K2, thus both Alice and Bob have the same key "
   ]
   }
,
{
		   "cell_type": "markdown",
		   "metadata": {},
		   "source": [
			"## Example 2.56: Fog_2pt56_Man_in_the_middle_attack_in_Diffie_Hellman_key_exchange.sce"
		   ]
		  },
  {
"cell_type": "code",
	   "execution_count": null,
	   "metadata": {
	    "collapsed": true
	   },
	   "outputs": [],
"source": [
"\n",
"//Man-in-the-middle attack in Diffie-Hellman key exchange\n",
"\n",
"n = 11                      //Large prime numbers\n",
"g = 7                       //which are public\n",
"\n",
"printf('n: %d\ng: %d\n',n,g)\n",
"\n",
"x_a = 3                     //Alice's x\n",
"x_t = 8                     //Tom's x\n",
"y_t = 6                     //Tom's y\n",
"y_b = 9                     //Bob's y\n",
"\n",
"A_a = modulo(g^x_a,n)       //Alice's A \n",
"A_t = modulo(g^x_t,n)       //Tom's A\n",
"B_t = modulo(g^y_t,n)       //Tom's B\n",
"B_b = modulo(g^y_b,n)       //Bob's B\n",
"\n",
"disp('Before intrusion by Tom: ')\n",
"disp('For Alice:')\n",
"printf('x: %d\nA: %d\n',x_a,A_a)\n",
"disp('For Tom:')\n",
"printf('x: %d\ty: %d\nA: %d\tB: %d\n',x_t,y_t,A_t,B_t)\n",
"disp('For Bob:')\n",
"printf('y: %d\nB: %d\n',y_b,B_b)\n",
"\n",
"A_b = A_t                   //Substituting Tom's A as A for Bob\n",
"B_a = B_t                   //Substituting Tom's B as B for Alice \n",
"A_t = A_a                   //Changing Tom's A to Alice's A\n",
"B_t = B_b                   //Changing Tom's B to Bob's B\n",
"\n",
"disp('After intrusion by Tom during exhange of keys: ')\n",
"disp('For Alice:')\n",
"printf('x: %d\nA: %d\tB: %d\n',x_a,A_a,B_a)\n",
"disp('For Tom:')\n",
"printf('x: %d\ty: %d\nA: %d\tB: %d\n',x_t,y_t,A_t,B_t)\n",
"disp('For Bob:')\n",
"printf('y: %d\nA: %d\tB: %d\n',y_b,A_b,B_b)\n",
"\n",
"\n",
"\n",
"//Now, Tom can calculate separate keys for Alice and Bob\n",
"\n",
"K1_a = modulo(B_a^x_a,n)        //Alice's key\n",
"K1_t = modulo(B_t^x_t,n)        //Tom's key for Bob\n",
"K2_t = modulo(A_t^y_t,n)        //Tom's key for Alice\n",
"K2_b = modulo(A_b^y_b,n)        //Bob's key\n",
"\n",
"printf('\n\nKeys:\n')\n",
"\n",
"disp('Alice''s key:')\n",
"printf('\tK1: %d\n\n',K1_a)\n",
"disp('Tom''s keys:')\n",
"printf('\nTo communicate with Alice\n\tK2: %d',K2_t)\n",
"printf('\nTo communicate with Bob\n\tK1: %d\n\n',K1_t)\n",
"disp('Bob''s key:')\n",
"printf('\tK2: %d',K2_b)\n",
"\n",
"//We can see that K1_a == K2+t and K1_t == K2_b\n",
"//Thus, Tom can communicate with Alice using K2_t and with Bob using K1_t\n",
"//and easily carry out \n",
""
   ]
   }
,
{
		   "cell_type": "markdown",
		   "metadata": {},
		   "source": [
			"## Example 2.5: Fig_2pt5_A_scheme_for_codifying_messages.sce"
		   ]
		  },
  {
"cell_type": "code",
	   "execution_count": null,
	   "metadata": {
	    "collapsed": true
	   },
	   "outputs": [],
"source": [
"// Substitutition scheme of Caesar cipher\n",
"// Move scilab to current file directory\n",
"[u,t,n] = file()\n",
"n = strcat(n)\n",
"file_name = basename(n)+fileext(n)\n",
"file_name = strcat(file_name)\n",
"ind=strindex(n,file_name)\n",
"path = part(n,1:ind-1)\n",
"chdir(path)\n",
"exec('Chapter_2.sci',-1)\n",
"a = ascii('A')\n",
"for i =0:25\n",
"    printf('%c : %c\n',ascii(a+i),encrypt_caesar(ascii(a+i)))\n",
"end\n",
"// A scheme for codifying messages \n",
"//(replacing each alphabet with an alphabet three places down the line)"
   ]
   }
,
{
		   "cell_type": "markdown",
		   "metadata": {},
		   "source": [
			"## Example 2.65: Fig_2pt65_Understanding_key_range.sce"
		   ]
		  },
  {
"cell_type": "code",
	   "execution_count": null,
	   "metadata": {
	    "collapsed": true
	   },
	   "outputs": [],
"source": [
"\n",
"//Understanding key range\n",
"\n",
"n = [2; 3]\n",
"states = []\n",
"for i=1:length(n)\n",
"    printf('Bits: %d\n',n(i,1))\n",
"    printf('No of states: %d',2^n(i,1));\n",
"    disp('The states are:')\n",
"    for j=0:2^n(i,1)-1\n",
"        disp(dec2bin(j))\n",
"    end\n",
"    disp('')\n",
"end"
   ]
   }
,
{
		   "cell_type": "markdown",
		   "metadata": {},
		   "source": [
			"## Example 2.6: Fig_2pt6_Codification_using_the_alphabet_replacement_scheme.sce"
		   ]
		  },
  {
"cell_type": "code",
	   "execution_count": null,
	   "metadata": {
	    "collapsed": true
	   },
	   "outputs": [],
"source": [
"// Substitutition scheme of Caesar cipher\n",
"\n",
"// Move scilab to current file directory\n",
"[u,t,n] = file()\n",
"n = strcat(n)\n",
"file_name = basename(n)+fileext(n)\n",
"file_name = strcat(file_name)\n",
"ind=strindex(n,file_name)\n",
"path = part(n,1:ind-1)\n",
"chdir(path)\n",
"\n",
"exec('Chapter_2.sci',-1)\n",
"\n",
"a = ascii('A')\n",
"pt = 'I LOVE YOU'\n",
"printf('Plaintext:\n\t%s\n',pt)\n",
"\n",
"//Encryption using encrypt_caesar function from dependency file\n",
"printf('Encrypted text:\n\t%s',encrypt_caesar(pt))\n",
"\n",
"// A scheme for codifying messages \n",
"//(replacing each alphabet with an alphabet three places down the line)"
   ]
   }
,
{
		   "cell_type": "markdown",
		   "metadata": {},
		   "source": [
			"## Example 2.8: Fig_2pt8_Example_of_a_plaint_text_message_being_transformed_into_cipher_text.sce"
		   ]
		  },
  {
"cell_type": "code",
	   "execution_count": null,
	   "metadata": {
	    "collapsed": true
	   },
	   "outputs": [],
"source": [
"\n",
"// Move scilab to current file directory\n",
"[u,t,n] = file()\n",
"n = strcat(n)\n",
"file_name = basename(n)+fileext(n)\n",
"file_name = strcat(file_name)\n",
"ind=strindex(n,file_name)\n",
"path = part(n,1:ind-1)\n",
"chdir(path)\n",
"\n",
"exec('Chapter_2.sci',-1)\n",
"\n",
"pt = ['Hi Amit,',\n",
"\n",
"'Hope you are doing fine. How about meeting at the train station this friday at 5 p.m. ? Please let me know if it is OK with you.',\n",
"\n",
"'Regards.',\n",
"\n",
"'Atul']\n",
"\n",
"disp('Plain-text message:')\n",
"disp('')\n",
"for i=1:length(length(pt))\n",
"    printf('%s\n',strcat(pt(i)))\n",
"end\n",
"\n",
"ct_full = list()\n",
"a = ascii('a')\n",
"z = ascii('z')\n",
"A = ascii('A')\n",
"Z = ascii('Z')\n",
"\n",
"\n",
"//Encryption using encrypt_caesar funtion from depenency file\n",
"for k = 1:length(length(pt))\n",
"    ct = []\n",
"    for i=1:length(pt(k))\n",
"        x = ascii(part(pt(k,1),i:i))\n",
"        if x>=A & x<=Z then\n",
"            ct(k,i) = encrypt_caesar(part(pt(k),i:i))\n",
"        elseif x>=a & x<=z then\n",
"            c = convstr(part(pt(k),i:i),'u')\n",
"            c = encrypt_caesar(c)\n",
"            c = convstr(c,'l')\n",
"            ct(k,i) = c\n",
"        else\n",
"            ct(k,i) = part(pt(k),i:i)\n",
"        end\n",
"    end\n",
"    ct_full(k) = ct\n",
"end\n",
"\n",
"disp('')\n",
"disp('Corresponding cipher-text message:')\n",
"disp('')\n",
"for i=1:length(ct_full)\n",
"    printf('%s\n',strcat(ct_full(i)))\n",
"end"
   ]
   }
],
"metadata": {
		  "kernelspec": {
		   "display_name": "Scilab",
		   "language": "scilab",
		   "name": "scilab"
		  },
		  "language_info": {
		   "file_extension": ".sce",
		   "help_links": [
			{
			 "text": "MetaKernel Magics",
			 "url": "https://github.com/calysto/metakernel/blob/master/metakernel/magics/README.md"
			}
		   ],
		   "mimetype": "text/x-octave",
		   "name": "scilab",
		   "version": "0.7.1"
		  }
		 },
		 "nbformat": 4,
		 "nbformat_minor": 0
}
