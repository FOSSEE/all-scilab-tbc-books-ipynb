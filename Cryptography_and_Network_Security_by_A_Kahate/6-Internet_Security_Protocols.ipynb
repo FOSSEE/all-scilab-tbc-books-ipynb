{
"cells": [
 {
		   "cell_type": "markdown",
	   "metadata": {},
	   "source": [
       "# Chapter 6: Internet Security Protocols"
	   ]
	},
{
		   "cell_type": "markdown",
		   "metadata": {},
		   "source": [
			"## Example 6.54: Fig_6pt54_Base_64_encoding_example.sce"
		   ]
		  },
  {
"cell_type": "code",
	   "execution_count": null,
	   "metadata": {
	    "collapsed": true
	   },
	   "outputs": [],
"source": [
"\n",
"//Base 64 encoding example\n",
"\n",
"[u,t,n] = file()\n",
"n = strcat(n)\n",
"file_name = basename(n)+fileext(n)\n",
"file_name = strcat(file_name)\n",
"ind=strindex(n,file_name)\n",
"path = part(n,1:ind-1)\n",
"chdir(path)\n",
"\n",
"//Get function to create encoding table\n",
"exec('Chapter_6.sci',-1)\n",
"\n",
"enc = encoding_table()\n",
"\n",
"inp = '001000110101110010010001'        // Input\n",
"disp('24-bit input:')\n",
"disp(inp)\n",
"disp('')\n",
"dec = []\n",
"\n",
"for i=1:length(inp)/6                       //Convert to 6-bit packets stored as\n",
"    str = part(inp,((i-1)*6+1):((i-1)*6+6)) //integers\n",
"    dec(i)=0\n",
"    for j=1:length(str)\n",
"        if part(str,j:j)=='1' then\n",
"            dec(i) = dec(i)+2^(6-j)\n",
"        end\n",
"    end\n",
"end\n",
"\n",
"disp('Divided into 6-bit blocks:')\n",
"disp(dec2bin(dec'))\n",
"disp('')\n",
"\n",
"disp('Decimal equivalents:')                \n",
"disp(dec')                                  //Decimal equivalents\n",
"disp('')\n",
"dec_str = []\n",
"\n",
"for i=1:length(dec)\n",
"    dec_str(i) = (ascii(enc(dec(i)+1)))\n",
"end\n",
"\n",
"disp('Map to base-64 encoding table (shown in Fig. 6.55):')\n",
"disp(dec_str')                              //Character values from encoding table\n",
"disp('')\n",
"dec_str = ascii(dec_str)\n",
"\n",
"bin_str = dec2bin(dec_str)                  //Convert to ASCII binary\n",
"bin_str = string(bin_str)\n",
"bin_str = '0'+bin_str                       //Convert to 8-bit from 7-bit\n",
"disp('ASCII equivalent binary')\n",
"disp(bin_str)"
   ]
   }
,
{
		   "cell_type": "markdown",
		   "metadata": {},
		   "source": [
			"## Example 6.55: Fig_6pt55_Base_64_encoding_mapping_table.sce"
		   ]
		  },
  {
"cell_type": "code",
	   "execution_count": null,
	   "metadata": {
	    "collapsed": true
	   },
	   "outputs": [],
"source": [
"\n",
"//Base-64 encoding mapping table\n",
"\n",
"disp('Base-64 encoding mapping table')\n",
"\n",
"[u,t,n] = file()\n",
"n = strcat(n)\n",
"file_name = basename(n)+fileext(n)\n",
"file_name = strcat(file_name)\n",
"ind=strindex(n,file_name)\n",
"path = part(n,1:ind-1)\n",
"chdir(path)\n",
"\n",
"//Get function to create encoding table\n",
"exec('Chapter_6.sci',-1)\n",
"\n",
"enc = encoding_table()\n",
"\n",
"for i=0:63\n",
"    printf('%d - %c\n',i,ascii(enc(i+1)))\n",
"end"
   ]
   }
],
"metadata": {
		  "kernelspec": {
		   "display_name": "Scilab",
		   "language": "scilab",
		   "name": "scilab"
		  },
		  "language_info": {
		   "file_extension": ".sce",
		   "help_links": [
			{
			 "text": "MetaKernel Magics",
			 "url": "https://github.com/calysto/metakernel/blob/master/metakernel/magics/README.md"
			}
		   ],
		   "mimetype": "text/x-octave",
		   "name": "scilab",
		   "version": "0.7.1"
		  }
		 },
		 "nbformat": 4,
		 "nbformat_minor": 0
}
