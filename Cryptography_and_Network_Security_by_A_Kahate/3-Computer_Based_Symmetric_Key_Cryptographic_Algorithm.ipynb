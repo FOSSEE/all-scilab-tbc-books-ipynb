{
"cells": [
 {
		   "cell_type": "markdown",
	   "metadata": {},
	   "source": [
       "# Chapter 3: Computer Based Symmetric Key Cryptographic Algorithm"
	   ]
	},
{
		   "cell_type": "markdown",
		   "metadata": {},
		   "source": [
			"## Example 3.2_1_1: Example_XOR_operations.sce"
		   ]
		  },
  {
"cell_type": "code",
	   "execution_count": null,
	   "metadata": {
	    "collapsed": true
	   },
	   "outputs": [],
"source": [
"\n",
"//Example XOR operations\n",
"\n",
"A  = bin2dec('101')\n",
"printf('A: %s\n\n',dec2bin(A))\n",
"B  = bin2dec('110')\n",
"printf('B: %s\n\n',dec2bin(B))\n",
"\n",
"C = bitxor(A,B)\n",
"printf('C: %3s\n\n',dec2bin(C))\n",
"\n",
"disp('C XOR A')\n",
"disp(dec2bin(bitxor(C,A)))\n",
"\n",
"disp('C XOR B')\n",
"disp(dec2bin(bitxor(C,B)))"
   ]
   }
,
{
		   "cell_type": "markdown",
		   "metadata": {},
		   "source": [
			"## Example 3.2: Fig_3pt2_Functioning_of_XOR_logic.sce"
		   ]
		  },
  {
"cell_type": "code",
	   "execution_count": null,
	   "metadata": {
	    "collapsed": true
	   },
	   "outputs": [],
"source": [
"\n",
"//Functioning of XOR logic\n",
"\n",
"printf('\tInput 1\tInput 2\tOutput\n\n')\n",
"\n",
"for i=0:1\n",
"    for j=0:1\n",
"        printf('\t  %d\t  %d\t  %d\n',i,j,bitxor(i,j))\n",
"    end\n",
"end"
   ]
   }
,
{
		   "cell_type": "markdown",
		   "metadata": {},
		   "source": [
			"## Example 3.34: Fig_3pt34_Example_of_selection_of_S_box_output_based_on_the_input.sce"
		   ]
		  },
  {
"cell_type": "code",
	   "execution_count": null,
	   "metadata": {
	    "collapsed": true
	   },
	   "outputs": [],
"source": [
"\n",
"x = [1 0 1 1 0 1]\n",
"\n",
"disp('Row: ')\n",
"row = [x(1),x(6)]\n",
"printf('in binary - %d%d',row)\n",
"\n",
"//Convert to decimal\n",
"printf('\nin decimal - %d',bin2dec(strcat([string(row)])))\n",
"\n",
"disp('')\n",
"\n",
"disp('Column: ')\n",
"col = x(2:5)\n",
"printf('in binary - %d%d%d%d',col)\n",
"\n",
"//Convert to decimal\n",
"printf('\nin decimal - %d',bin2dec(strcat([string(col)])))\n",
""
   ]
   }
,
{
		   "cell_type": "markdown",
		   "metadata": {},
		   "source": [
			"## Example 3.3: Fig_3pt3_Stream_cipher.sce"
		   ]
		  },
  {
"cell_type": "code",
	   "execution_count": null,
	   "metadata": {
	    "collapsed": true
	   },
	   "outputs": [],
"source": [
"\n",
"//Stream cipher \n",
"\n",
"disp('In text format:')\n",
"disp('Plain text')\n",
"disp('Pay 100')\n",
"disp('')\n",
"\n",
"disp('Cipher text')\n",
"disp('ZTU91 ^%D')\n",
"disp('')\n",
"\n",
"disp('')\n",
"\n",
"disp('In binary format:')\n",
"\n",
"disp('Plain text')\n",
"\n",
"pt = '010111001'\n",
"\n",
"disp(pt)\n",
"disp('')\n",
"\n",
"//convert to decimal\n",
"pt = bin2dec('010111001')\n",
"\n",
"disp('XOR operation with the key')\n",
"key='100101011'\n",
"disp(key)\n",
"\n",
"//convert key to decimal\n",
"key=bin2dec(key)\n",
"disp('')\n",
"\n",
"//calculate cipher text\n",
"ct = bitxor(pt,key)\n",
"ct = dec2bin(ct)\n",
"\n",
"disp('Cipher text')\n",
"disp(ct)\n",
"disp('')"
   ]
   }
,
{
		   "cell_type": "markdown",
		   "metadata": {},
		   "source": [
			"## Example 3.81: Fig_3pt81_Key_expansion_example.sce"
		   ]
		  },
  {
"cell_type": "code",
	   "execution_count": null,
	   "metadata": {
	    "collapsed": true
	   },
	   "outputs": [],
"source": [
"\n",
"//Key expansion example\n",
"\n",
"n = 0:15\n",
"n = int8(n)\n",
"disp('Byte position(decimal)')\n",
"for i=1:length(n)\n",
"    printf('%4d',n(i))\n",
"end\n",
"\n",
"disp('')\n",
"\n",
"disp('Value(hex)')\n",
"\n",
"for i=1:length(n)\n",
"    printf('  %s','0'+string(dec2hex(n(i))))\n",
"end\n",
"\n",
"disp('')\n",
"\n",
"for i=0:3\n",
"    printf('\n\tW[%d]\t\t\t',i)\n",
"    for j=1:4\n",
"        printf('0%s\t',string(dec2hex(n(i*4+j))))\n",
"    end\n",
"    \n",
"end"
   ]
   }
],
"metadata": {
		  "kernelspec": {
		   "display_name": "Scilab",
		   "language": "scilab",
		   "name": "scilab"
		  },
		  "language_info": {
		   "file_extension": ".sce",
		   "help_links": [
			{
			 "text": "MetaKernel Magics",
			 "url": "https://github.com/calysto/metakernel/blob/master/metakernel/magics/README.md"
			}
		   ],
		   "mimetype": "text/x-octave",
		   "name": "scilab",
		   "version": "0.7.1"
		  }
		 },
		 "nbformat": 4,
		 "nbformat_minor": 0
}
