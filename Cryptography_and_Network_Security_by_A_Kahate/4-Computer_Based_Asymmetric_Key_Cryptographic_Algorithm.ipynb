{
"cells": [
 {
		   "cell_type": "markdown",
	   "metadata": {},
	   "source": [
       "# Chapter 4: Computer Based Asymmetric Key Cryptographic Algorithm"
	   ]
	},
{
		   "cell_type": "markdown",
		   "metadata": {},
		   "source": [
			"## Example 4.17: Fig_4pt17_Longitudinal_redundancy_check.sce"
		   ]
		  },
  {
"cell_type": "code",
	   "execution_count": null,
	   "metadata": {
	    "collapsed": true
	   },
	   "outputs": [],
"source": [
"//Longitudinal redundancy check\n",
"data = [ '11100100','11011101','00111001','00101001' ]\n",
"disp('Original data')\n",
"disp(data)\n",
"data = bin2dec(data)\n",
"lrc = 0.\n",
"for i=1:length(data)\n",
"    lrc = bitxor(lrc,data(i))\n",
"end\n",
"disp('LRC: ')\n",
"for i=1:7\n",
"    if lrc<(2^(8-i)) then\n",
"        printf('0')\n",
"    else\n",
"        printf('%s',dec2bin(lrc))\n",
"        break        \n",
"    end\n",
"end"
   ]
   }
,
{
		   "cell_type": "markdown",
		   "metadata": {},
		   "source": [
			"## Example 4.18: Fig_4pt18_Simple_message_digest.sce"
		   ]
		  },
  {
"cell_type": "code",
	   "execution_count": null,
	   "metadata": {
	    "collapsed": true
	   },
	   "outputs": [],
"source": [
"// Simple message digest\n",
"\n",
"n = 7391743                         //Message\n",
"printf('Original number is %d\n',n)\n",
"\n",
"n_str = string(n)                   //Conversion of integer to string for easy access\n",
"l = length(n_str)                   \n",
"n_v = strsplit(n_str,1:l-1)         //String to vector of characters\n",
"\n",
"d = 1\n",
"for i=1:l                                       \n",
"    d = d * ( ascii(n_v(i:i)) - ascii('0'))        //\n",
"    d = modulo(d,10)\n",
"    i = i+1\n",
"end\n",
"\n",
"printf('Message digest is %d\n',d)"
   ]
   }
,
{
		   "cell_type": "markdown",
		   "metadata": {},
		   "source": [
			"## Example 4.4: Fig_4pt4_RSA_algorithm_example.sce"
		   ]
		  },
  {
"cell_type": "code",
	   "execution_count": null,
	   "metadata": {
	    "collapsed": true
	   },
	   "outputs": [],
"source": [
"//RSA algorithm example\n",
"\n",
"p = 47\n",
"q = 71\n",
"\n",
"n = p*q\n",
"z = (p-1)*(q-1)\n",
"\n",
"e = 79                              // E<N and E & Z are coprime \n",
"\n",
"i=1\n",
"d = i\n",
"\n",
"//Brute-force approach to find 'd'\n",
"while(1==1)                         \n",
"    if modulo(i*e,z)==1 then       // (E*D)mod Z = 1\n",
"        d=i\n",
"        break\n",
"    end\n",
"    i=i+1\n",
"end\n",
"\n",
"printf('%d',d)\n",
"\n",
"//Public key: (n,e)\n",
"//Privae key: (n,d)\n",
"printf('\nPublic Key: (%d,%d)\nPrivate Key: (%d,%d)\n\n',n,e,n,d)\n",
"\n",
"\n",
"P = 688                         //Plaintext\n",
"printf('Plaintext: %d\n',P)\n",
"\n",
"C = 1                           //Encrypted Text\n",
"for i = 1:e\n",
"    C = modulo(C*P,n)\n",
"end\n",
"\n",
"printf('Encrypted Text: %d\n',C)\n",
"\n",
"P=1                             //Decrypting the encypted text 'C'\n",
"for i = 1:d\n",
"    P = modulo(P*C,n)\n",
"end\n",
"\n",
"printf('Decrypted Text: %d\n',P)"
   ]
   }
,
{
		   "cell_type": "markdown",
		   "metadata": {},
		   "source": [
			"## Example 4.5_1: ElGamal_Key_Generation.sce"
		   ]
		  },
  {
"cell_type": "code",
	   "execution_count": null,
	   "metadata": {
	    "collapsed": true
	   },
	   "outputs": [],
"source": [
"\n",
"//ElGamal Key Generation\n",
"\n",
"p = 11\n",
"e1 = 2\n",
"d = 3\n",
"\n",
"e2 = modulo(e1^d,p)\n",
"\n",
"disp('Public key:')\n",
"printf('(%d,%d,%d)',e1,e2,p)"
   ]
   }
,
{
		   "cell_type": "markdown",
		   "metadata": {},
		   "source": [
			"## Example 4.5_2: ElGamal_Key_Encryption.sce"
		   ]
		  },
  {
"cell_type": "code",
	   "execution_count": null,
	   "metadata": {
	    "collapsed": true
	   },
	   "outputs": [],
"source": [
"\n",
"//ElGamal Key Encryption\n",
"\n",
"r = 4 \n",
"pt = 7\n",
"e1 = 2\n",
"e2 = modulo(e1^d,p)\n",
"\n",
"c1 = modulo(e1^r,p)\n",
"c2 = modulo(pt*e2^r,p)\n",
"\n",
"disp('Cipher text')\n",
"printf('(%d,%d)',c1,c2)"
   ]
   }
,
{
		   "cell_type": "markdown",
		   "metadata": {},
		   "source": [
			"## Example 4.5_3: ElGamal_Key_Decryptio.sce"
		   ]
		  },
  {
"cell_type": "code",
	   "execution_count": null,
	   "metadata": {
	    "collapsed": true
	   },
	   "outputs": [],
"source": [
"\n",
"//ElGamal Key Decryption\n",
"\n",
"// Move scilab to current file directory\n",
"[u,t,n] = file()\n",
"n = strcat(n)\n",
"file_name = basename(n)+fileext(n)\n",
"file_name = strcat(file_name)\n",
"ind=strindex(n,file_name)\n",
"path = part(n,1:ind-1)\n",
"chdir(path)\n",
"\n",
"exec('Chapter_4.sci',-1)\n",
"\n",
"p = 11\n",
"r = 4 \n",
"pt = 7\n",
"d = 3\n",
"e1 = 2\n",
"e2 = modulo(e1^d,p)\n",
"\n",
"c1 = modulo(e1^r,p)\n",
"c2 = modulo(pt*e2^r,p)\n",
"\n",
"x =c1^d\n",
"x_inv = mod_inv(x,p)\n",
"\n",
"pt = modulo(c2*x_inv,p)\n",
"disp('Original plaintext')\n",
"disp(pt)"
   ]
   }
,
{
		   "cell_type": "markdown",
		   "metadata": {},
		   "source": [
			"## Example 4.5: Fig_4pt5_RSA_Encryption_scheme.sce"
		   ]
		  },
  {
"cell_type": "code",
	   "execution_count": null,
	   "metadata": {
	    "collapsed": true
	   },
	   "outputs": [],
"source": [
"// RSA Encryption scheme\n",
"\n",
"p = 7                      //Large prime numbers\n",
"q = 17                     //Small values taken here for convenience of calculation\n",
"                           //and explanation\n",
"\n",
"n = p*q\n",
"z = (p-1)*(q-1)\n",
"\n",
"e = 5                              // e<n and e & z are coprime \n",
"\n",
"i=1\n",
"d = i                       \n",
"while(1==1)                        //Calcualtion of 'd' from e and z\n",
"    if modulo(i*e,z)==1 then       // (e*d)mod z = 1\n",
"        d=i\n",
"        break\n",
"    end\n",
"    i=i+1\n",
"end\n",
"\n",
"printf('\nPublic Key: (%d,%d)\nPrivate Key: (%d,%d)\n\n',n,e,n,d)\n",
"\n",
"PT = 10                            //Example plaintext\n",
"\n",
"printf('Plaintext: %d\n',PT)\n",
"\n",
"C = modulo(PT^e,n)\n",
"printf('\nEncrypted Text Code: %d\n\n',C)\n",
"\n",
"PT=1\n",
"for i = 1:d\n",
"    PT = modulo(PT*C,n)\n",
"end\n",
"\n",
"printf('Decrypted Text: %d\n',PT)       //Conversion to plain text in ASCII"
   ]
   }
,
{
		   "cell_type": "markdown",
		   "metadata": {},
		   "source": [
			"## Example 4.62: Fig_4pt62_Knapsack_algorithm_for_Public_Key_Encryption.sce"
		   ]
		  },
  {
"cell_type": "code",
	   "execution_count": null,
	   "metadata": {
	    "collapsed": true
	   },
	   "outputs": [],
"source": [
"// Knapsack algorithm for Public Key Encryption\n",
"\n",
"PT = [0 1 1 0 1 1; 1 1 1 0 0 0; 0 1 0 1 1 0]\n",
"\n",
"disp('Plain text')\n",
"disp(PT)\n",
"\n",
"K = [1 7 8 12 14 20]\n",
"disp('Knapsack:')\n",
"disp(K)\n",
"\n",
"[row,col] = size(PT)\n",
"C = []\n",
"for i=1:row\n",
"    sum=0\n",
"    for j=1:col\n",
"        sum = sum+PT(i,j)*K(j:j)\n",
"    end\n",
"    C(i:i) = sum\n",
"end\n",
"\n",
"disp('Cipher text:')\n",
"disp(C)"
   ]
   }
,
{
		   "cell_type": "markdown",
		   "metadata": {},
		   "source": [
			"## Example 4.6: Fig_4pt6_RSA_Encryption_scheme.sce"
		   ]
		  },
  {
"cell_type": "code",
	   "execution_count": null,
	   "metadata": {
	    "collapsed": true
	   },
	   "outputs": [],
"source": [
"// RSA Encryption scheme\n",
"\n",
"p = 7                      //Large prime numbers\n",
"q = 17                     //Small values taken here for convenience of calculation\n",
"                           //and explanation\n",
"\n",
"n = p*q\n",
"z = (p-1)*(q-1)\n",
"\n",
"e = 5                              // e<n and e & z are coprime \n",
"\n",
"i=1\n",
"d = i                       \n",
"while(1==1)                        //Calcualtion of 'd' from e and z\n",
"    if modulo(i*e,z)==1 then       // (e*d)mod z = 1\n",
"        d=i\n",
"        break\n",
"    end\n",
"    i=i+1\n",
"end\n",
"\n",
"printf('\nPublic Key: (%d,%d)\nPrivate Key: (%d,%d)\n\n',n,e,n,d)\n",
"\n",
"PT = 'F'                            //Example plaintext in ASCII\n",
"P = ascii(PT)-ascii('A')+1          //Conversion of ASCII to integer code \n",
"                                    //(A=1,B=2,C=3, ... )\n",
"printf('Plaintext: %s\n',PT)\n",
"printf('Plain text Integer code: %d\n\n\',P)\n",
"\n",
"C = 1\n",
"for i = 1:e\n",
"    C = modulo(C*P,n)\n",
"end\n",
"\n",
"C = modulo(C,n)\n",
"printf('Encrypted Text Code: %d\n\n',C)\n",
"\n",
"P=1\n",
"for i = 1:d\n",
"    P = modulo(P*C,n)\n",
"end\n",
"\n",
"PT = ascii(ascii('A')+P-1)\n",
"printf('Decrypted Text Code: %d\n',P)   //Decryoted code\n",
"printf('Decrypted Text: %s\n',PT)       //Conversion to plain text in ASCII"
   ]
   }
,
{
		   "cell_type": "markdown",
		   "metadata": {},
		   "source": [
			"## Example 4.9_1: ElGamal_Signature.sce"
		   ]
		  },
  {
"cell_type": "code",
	   "execution_count": null,
	   "metadata": {
	    "collapsed": true
	   },
	   "outputs": [],
"source": [
"\n",
"//ElGamal Signature\n",
"\n",
"// Move scilab to current file directory\n",
"[u,t,n] = file()\n",
"n = strcat(n)\n",
"file_name = basename(n)+fileext(n)\n",
"file_name = strcat(file_name)\n",
"ind=strindex(n,file_name)\n",
"path = part(n,1:ind-1)\n",
"chdir(path)\n",
"\n",
"exec('Chapter_4.sci',-1)\n",
"\n",
"e1 = 10\n",
"e2 = 4\n",
"p = 19\n",
"m = 14      //original message\n",
"d = 16\n",
"r = 5       //random number selected by sender\n",
"\n",
"r_inv = mod_inv(r,p-1)      //inverse of r modulo (p-1)\n",
"\n",
"s1 = modulo(e1^r,p)\n",
"\n",
"temp = (m-d*s1)*r_inv\n",
"while temp<0                    //calculate modulus (p-1) for negative values\n",
"    temp = temp+p-1\n",
"end\n",
"s2 = modulo(temp,p-1)\n",
"\n",
"printf('The signature is: (%d,%d)',s1,s2)"
   ]
   }
,
{
		   "cell_type": "markdown",
		   "metadata": {},
		   "source": [
			"## Example 4.9_2: ElGamal_Signature_verification.sce"
		   ]
		  },
  {
"cell_type": "code",
	   "execution_count": null,
	   "metadata": {
	    "collapsed": true
	   },
	   "outputs": [],
"source": [
"\n",
"//ElGamal Signature verification\n",
"\n",
"e1 = 10\n",
"e2 = 4\n",
"m = 14\n",
"p = 19\n",
"s1 = 3\n",
"s2 = 4\n",
"\n",
"v1 = modulo(e1^m,p)\n",
"disp('V1')\n",
"disp(v1)\n",
"\n",
"v2 = modulo(e2^s1 * s1^s2,p)\n",
"disp('V2')\n",
"disp(v2)\n",
"\n",
"disp('Since V1=V2, signature is valid')\n",
"\n",
""
   ]
   }
],
"metadata": {
		  "kernelspec": {
		   "display_name": "Scilab",
		   "language": "scilab",
		   "name": "scilab"
		  },
		  "language_info": {
		   "file_extension": ".sce",
		   "help_links": [
			{
			 "text": "MetaKernel Magics",
			 "url": "https://github.com/calysto/metakernel/blob/master/metakernel/magics/README.md"
			}
		   ],
		   "mimetype": "text/x-octave",
		   "name": "scilab",
		   "version": "0.7.1"
		  }
		 },
		 "nbformat": 4,
		 "nbformat_minor": 0
}
