{
"cells": [
 {
		   "cell_type": "markdown",
	   "metadata": {},
	   "source": [
       "# Chapter 4: microwave waveguides and components"
	   ]
	},
{
		   "cell_type": "markdown",
		   "metadata": {},
		   "source": [
			"## Example 4.1_1: TE10_in_Rectangular_Waveguide.sce"
		   ]
		  },
  {
"cell_type": "code",
	   "execution_count": null,
	   "metadata": {
	    "collapsed": true
	   },
	   "outputs": [],
"source": [
"//CHAPTER-4        \n",
"// EXAMPLE: 4-1-1,page no.-128.\n",
"//(a)program_to_find_the_cut-off_frequency_(fc)_of_an_airfilled_rectangular_waveguide_in_TE10_mode.\n",
"a=0.07       ;     b=0.035     ;                                           //wave-guide_dimensions_in_metres\n",
"f=3.5*(10^9);                                                              //Given_that_guide_is_operating_at_a_frequency_of 3.5 GHZ \n",
"c=3*(10^8);                                                                // c_is_the_speed_of_the_light \n",
"m=1  ;   n=0;                                                              //Given_that_guide_operates_in_the_dominant_mode_TE10\n",
"fc=c/(a*2);                                                                //since,fc=(c/2)*sqrt(((m/a)^2)+((n/b)^2)). For TE10 mode m=1,n=0,fc=c/2*a \n",
"disp(fc/(10^9),'cut-off_frequency_for_TE10_mode_in_GHZ=');                 //display_fc ,fc_is_divided_by_10^9 to_obtain_frequency_in_GHZ\n",
"// (b) program_to_find_the phase_velocity_of_the wave_in_the_guide_at_a_frequency_of_3.5GHZ\n",
"f=3.5*(10^9);                                                               //Given  that_guide_is_operating_at_a_frequency_of_3.5.GHZ \n",
"vg=c/(sqrt(1-((fc/f)^2)));                                                  //since , phase_velocity=c/(sqrt(1-((fc/f)^2))) \n",
"disp(vg,'phase_velocity_for_a_wave_at_a_frequency_of_3.5GHZ__(m/s)=');      //display_the_phase_velocity\n",
"// (c) program_to_find_the_guide_wavelength(lg_of_the_wav__at_a_frequency_of 3.5GHZ\n",
"lo=c/f;                                                                     // lo= wavelength in an unbounded dielectric and lo is in metres\n",
"lginmetres=lo/(sqrt(1-((fc/f)^2)));                                         //since ,lg=lo/sqrt(1-(fc/f^2));  guide_wavelength(lg)_is_in_metres\n",
"lgincm=100*lginmetres;                                                      //guide_wavelength (lg) is_in_centimetres\n",
"disp(lgincm,'Guide_wavelength_for_a_wave_at_frequency_of_3.5GHZ_(cm)=')  //display_the_guide_wavelength\n",
" "
   ]
   }
,
{
		   "cell_type": "markdown",
		   "metadata": {},
		   "source": [
			"## Example 4.1_2: TE10_mode_in_Rectangular_Waveguide.sce"
		   ]
		  },
  {
"cell_type": "code",
	   "execution_count": null,
	   "metadata": {
	    "collapsed": true
	   },
	   "outputs": [],
"source": [
"// chapter no.-4\n",
"// Example-4-1-2 , page no.-133\n",
" \n",
"//Program to find the peak value of the electric field occuring in the guide.\n",
"clc; \n",
"m=1; n=0;                                              //given guide transports energy in the TE10 mode.\n",
"f=30*(10^9);                                           //The impressed frequency is 30GHZ\n",
"uo=(4*(%pi))*(10^-7);eo=8.85*(10^(-12));               //scientific values of permeability and permittivity in free space\n",
"a=.02; b=.01;                                          // dimensions of wave-guide given in metres\n",
"energyrate=0.5*746;                                    //given ,the rate of transport of energy =0.5 hp   ,1 horse power(1 hp)= 746 watts.\n",
"kc=%pi/a;                                              //kc is cutoff wave number  , kc=sqrt((m*%pi/a)+(n*%pi/b)) ,For m=1,n=0 =&gt; kc=%pi/a\n",
"bg=sqrt((((2*%pi*f)^2)*(uo*eo)) - (kc^2));             //bg is the phase constant in radian/metre, bg=sqrt((w^2)*(uo*eo))-(kc^2)); where w=2*%pi*f\n",
"Zg=((2*%pi*30*(10^9))*uo)/bg;                          //Zg is the characteristic wave impedence ,Zg=(w*uo)/bg; where w=2*%pi*f\n",
"syms x z Eoy Hoz                                       //Defining the variables\n",
"Ex=0;                                                  //since, Ex=Eox*cos((m*%pi*x)/a)*sin((n*%pi*y)/b)*exp(-%i*bg*z)..For m=1 , n=0 =&gt; Ex=0\n",
"Ey = Eoy*sin((%pi*x)/a)*exp(-%i*bg*z);                 //since ,Ey = Eoy*sin((m*%pi*x)/a)*cos((n*%pi*y)/b)*exp(-%i*bg*z) (here put m=1,n=0)\n",
"Ez=0;                                                  // For TE mode Ez=0 \n",
"Hx=(Eoy/Zg)*sin((%pi*x)/a)*exp(-%i*bg*z);              //since, Hx=Hox*sin(m*%pi*x)/a)*cos((n*%pi*y)/b)*exp(-%i*bg*z). put m=1,n=0 and Hox=(Eoy/Zg)\n",
"Hy = 0 ;                                               //since ,Hy = Hoy*cos((m*%pi*x)/a)*sin((n*%pi*y)/b)*exp(-%i*bg*z)  here(for m=1,n=0) =&gt; Hy=0\n",
"Hz=Hoz*cos((%pi*x)/a)*exp(-%i*bg*z);                   //Hz=Hoz*cos(m*%pi*x)/a)*cos((n*%pi*y)/b)*exp(-%i*bg*z). put m=1,n=0 .\n",
"Hxc=Hx';                                               //power formula of poynting involves integrating (Ey*cojugate(Hx))over guide dimension.Thus                                                               we take conjugate of hx for propagation of wave in z direction\n",
"power=(Ey*Hxc);                                        //(Taking the term (Ey*cojugate(Hx)) from power formula of poynting vector \n",
"power=power/(Eoy^2);                                //normalise power with respect to (Eoy^2) so as to definitely integrate remaining terms in x and y.\n",
" \n",
"temp = str2max2sym(power.str1);                 \n",
"PowerToIntegrate = max2scistr(temp.str1) ;     //coverting_type_sym_into_type_string \n",
"I=integrate(PowerToIntegrate,'x',0,a);  //integrate X=(Ey*cojugate(Hx))(which is normalised with respect to Eoy^2) with respect                                                                    to x dimension from 0 to a. Thus the result of above multiplication(Ey*Hxc)/(Eoy^2)                                                                    = 1333*sin(2599825*x/16551)^2/519323 is written here for definite intergration.\n",
"I=I*b;                                              //since definite integral is independent of y.Hence dimension in y direction i.e,b can be taken out\n",
"I=real(I);                                          //since from poyting formula [energyrate = (0.5*(real(I))*(Eoy^2))].So we consider only real                                                            part of I.\n",
"Eoy=sqrt((energyrate*2)/I);                         // since ,energyrate =373= (0.5*(real(I))*(Eoy^2))\n",
"disp((Eoy/1000),'the peak value of the electric field intensity in(KV/m)');    //  display peak value of electric field .Divide by 1000 to obtain the                                                                                      electric field intensity in KV/m."
   ]
   }
,
{
		   "cell_type": "markdown",
		   "metadata": {},
		   "source": [
			"## Example 4.2_1: TE10_Mode_in_Circular_Waveguide.sce"
		   ]
		  },
  {
"cell_type": "code",
	   "execution_count": null,
	   "metadata": {
	    "collapsed": true
	   },
	   "outputs": [],
"source": [
"                                                     \n",
"//CHAPTER-4                                                         \n",
"// EXAMPLE:4-2-1,  page no.-144.\n",
"// (a) program_to_find_the_cut_off_frequency_(fc)_of_circular_waveguide_in_TE11_mode\n",
"radius=0.05  ;                                                             //Given .Here radius_is_in_metres. \n",
"f=3*(10^9);                                                                //operating_frequency_is_3_GHZ\n",
"uo=(4*(%pi))*(10^-7) ; eo=8.85*(10^(-12));                                 //scientific_values_of_permeability_and_permittivity_in_free_space\n",
"m=1          ;           n=1;                                              //Given_that_a_TE11_mode_is_propagating.\n",
"X=1.841;                                                                   //For_TE11_mode_in_circular_waveguide_X= (kc*radius) =1.841\n",
"              \n",
"kc=X/radius;                                                               //cut-off_wave_number\n",
"fc=kc/((2*%pi)*(sqrt(uo*eo)));                                             //since fc=kc/((2*%pi)*(sqrt(uo*eo)));\n",
"disp(fc/(10^9),'cut-off_frequency_for_TE10_mode_in_GHZ=');                 // display_cut-off_frequency_in_GHZ_by_dividing_by_(10^9)for_TE10_mode \n",
"// (b) program_to_find_the_guide_wavelength(lg)_of_the_wave__at_operating_frequency_of_3GHZ\n",
"bg=sqrt((((2*%pi*3*(10^9))^2)*(uo*eo)) - (kc^2));      //bg_is_the_phase_constant_in_radian/metre,_bg=sqrt((w^2)*(uo*eo))-(kc^2)); where w=2*%pi*f\n",
"lginmetres=(2*%pi)/bg;                                 //Guide_wavelength_is_in_meters\n",
"lgincm=100*lginmetres;                                 //Guide_wavelength_is_in_centimetres\n",
"disp(lgincm,'Guide_wavelength_for_a_wave_at_a_frequency_of_3.5GHZ__(cm)=');  // display_Guide_wavelength_for_TE10_mode\n",
"// (c) program_to_find_the_Guide_wavelength_in_the_wave_guide\n",
"zg=(2*%pi*(3*(10^9))*uo)/bg;                            //Zg_is_the_characteristic_wave_impedence ,Zg=(w*uo)/bg; where w=2*%pi*f\n",
"disp(zg,'wave_impedence_zg_in_the_wave_guide(ohm)=')    //display_wave_impedence_in_the_wave_guide"
   ]
   }
,
{
		   "cell_type": "markdown",
		   "metadata": {},
		   "source": [
			"## Example 4.2_2: Wave_Propagation_in_Circular_Waveguide.sce"
		   ]
		  },
  {
"cell_type": "code",
	   "execution_count": null,
	   "metadata": {
	    "collapsed": true
	   },
	   "outputs": [],
"source": [
"//chapter-4\n",
"//Example-4-2-2  page no.-147\n",
"//program_to_find_all_the_TE(n,p)_and_TM(n,p)modes_for_which_energy_transmisssion_is_possible.\n",
"radius=.02;                                                                //Given. Here_radius_is_in_metres. \n",
"uo=(4*(%pi))*(10^-7); eo=8.85*(10^(-12));                                  //scientific_values_of_permeability_and_permittivity_in_free_space\n",
"f=(10^10);                                                                 //guide_is_operating_at_the_frequency_of_10GHZ\n",
"wc=(2*%pi*f);                                                              //since, wc=(2*%pi*f)\n",
"kc=wc*sqrt(uo*eo);                                                         //kc_is_cut-off_wave_number  \n",
"X=kc*radius ;                                                              //the product X=(kc*radius) for_a_given_mode_is_constant\n",
"disp(kc*radius,'The_value_of_the_product X=(kc*radius)is = ');                  //display_the_product_X=(kc*a)\n",
"disp('Any mode having a product (kc*radius) less than or equal to 4.18 will propagate the wave with a frequency of 10 GHZ .This is (kc*radius)&lt;=4.18');\n",
"                                          \n",
"syms i j                                                                    //Defining_the_variables\n",
"p=[3.832 1.841 3.054 4.201 5.317 6.416;7.016 5.331 6.706 8.015 9.282 10.520 ; 10.173 8.536 9.969 11.346 12.682 13.987]//represent_the_values_of X_for_                                                                                        different_modes_in_a_form_of_matrix. Where_columns_represent                                                                                            the_n_values_of_mode_and_rows_represent_the_m_values_of_mode.\n",
"for i=1:1:3                                                                 //value_of_i_traverse_across_the_rows\n",
"for j=1:1:6                                                                 //value_of_j_traverse_across_the_columns\n",
"if(X &gt;=p(i,j))                                                              //check_if_the_value_in(n,p)_matrix_is_less_than_or_equal_to_X\n",
"disp(p(i,j),i,j-1,'TE mode(n,p) and corresponding value of X=');            //display_TE_mode_for_which_value_in [(n,p)matrix] &lt;= X and print                                                                                           corresponding_value_of_X\n",
"end                                                                         //end if\n",
"end                                                                         //end for\n",
"end                                                                         //end for\n",
"m=[2.405 3.832 5.136 6.380 7.588 ; 5.520 7.106 8.417 9.761 11.065 ;        //represent_the_values_of_X_for_different_modes_in_a_form_of_matrix.Where                                                                          columns_represent_the_n_values_of_mode_and_rows_represent_the_m_values_of_mode.   \n",
" 8.645 10.173 11.620 13.015 14.372]\n",
"for i=1:1:3                                                                 //value_of_i_traverse_across_the_rows_in [(n,p)matrix].\n",
"for j=1:1:5                                                                 //value_of_j_traverse_across_the_columns in [(n,p)matrix].\n",
"if(X &gt;=m(i,j))                                                              //check_if_the_value_in(n,p)_matrix_is_less_than_or_equal_to_X\n",
"disp(m(i,j),i,j-1,'TM mode(n,p) and corresponding value of X=');            //display_TM_mode_for_which_value in [(n,p)matrix] &lt;= X and_print                                                                                         corresponding_value_of_X.\n",
"end                                                                         //end if\n",
"end                                                                         //end for\n",
"end                                                                         //end for"
   ]
   }
,
{
		   "cell_type": "markdown",
		   "metadata": {},
		   "source": [
			"## Example 4.5_1: Directional_Coupler.sce"
		   ]
		  },
  {
"cell_type": "code",
	   "execution_count": null,
	   "metadata": {
	    "collapsed": true
	   },
	   "outputs": [],
"source": [
"//Chapter -4 \n",
"//EXAMPLE: 4-5-1  PAGE NO. 170\n",
"//(a)program_to_find_the_amount_of_the_power_delivered_in_the_load_Zl\n",
"PT4=8;                                                  //Given.Transmitted_power_to_Bolometer_1_at_port_4\n",
"s=2;                                                    //Given.VSWR_of_2.0_is_introduced_on_arm 4_by_Bolometer 1    \n",
"r4=(s-1)/(s+1);                                         //reflection_coefficient_at_port 4(r4)\n",
"PR4=8/8;                                                //(r4^2)=PR4/PI4=PR4/(PR4+PT4)=PR4/PR4+8=1/9  =&gt;  8PR4=8 \n",
"PI4=PT4 + PR4;                                          //PI4=power_incident_at_port_4 ;PT4=power_transmitted_at_port 4;PR4=power_reflected_at_port 4 \n",
"disp(PI4,'power_incident_at_the_port_4_is_(mW)=');\n",
"disp(PR4,'power_reflected_from_the_port 4_is_(mW) =');\n",
"disp('Since port 3 is matched and the Bolometer at port 3 reads 2mw ,then 1 mw must be radiated through the holes .Since 20 dB is equivalent to a power of 100:1,the power input at port 1 is given by=');\n",
"PI2=100*PI4;                                                                  //attenuation=20=10*log(PI1/PI4)\n",
"disp(PI2,'power_input_at_port_2_is_given_by_(mW)=');\n",
"PR2=100*PR4;                                                                   //attenuation=20=10*log(PR2/PR4)\n",
"disp(PR2,'power_reflected_from_the_load_at_port_2_is_given_by_(mW)=');\n",
"PT2=PI2-PR2;                                                                   //transmitted power = incident power - reflected power\n",
"disp(PT2,'power_dissipated_in_the_load_at_port_2_is_given_by_(mW) =');  \n",
"//(b)Program_to_find_the_VSWR_on arm 2\n",
"r=sqrt(PR2/PI2);                                                              //reflection_coefficient_at_port 2\n",
"s=(1+r)/(1-r);                                                               //VSWR ON ARM 2                                                   \n",
"disp(s,'value_of_VSWR_ON_ARM 2:::=');\n",
" "
   ]
   }
,
{
		   "cell_type": "markdown",
		   "metadata": {},
		   "source": [
			"## Example 4.5_2: Operation_Of_a_Balanced_Amplifier.sce"
		   ]
		  },
  {
"cell_type": "code",
	   "execution_count": null,
	   "metadata": {
	    "collapsed": true
	   },
	   "outputs": [],
"source": [
"//chapter-4\n",
"//Example4-5-2   page no. 174\n",
"                                                    \n",
"//(a)Program_to_find_out_the_input_and_output_VSWRs.\n",
"s11=0;                                                            //for_balanced_amplifier s11=0\n",
"s=(1+s11)/(1-s11);                                                //Input_VSWR\n",
"disp(s,'input vswr=');\n",
"s22=0;                                                            //for_balanced_amplifier s22=0\n",
"s=(1+s22)/(1-s22);                                                //output_VSWR\n",
"disp(s,'output vswr=');\n",
"//(b)Program_to_find_out_the_output_power_in_watts\n",
"PO=200*10*2;                                                      //output_power(PO)=[powerinput]*[power_gain_of_each_GaAs_chip]*[n]  ,here n=2\n",
"disp(PO/1000,'Output_POWER_in_Watts');                            //display_power_in_watts_by_dividing_by_1000\n",
"//(C)Program to find out the linear output power gain in db \n",
"GAIN=10*log10(2);                                             //BECAUSE_TWO_CHIPS_ARE_IN_PARALLEL. Gain=(power gain of each GaAs chip)*log(n),n=2.\n",
"disp(GAIN,'Linear_output_power_gain_in_db=');                     //display_linear_output_power_gain_in_db"
   ]
   }
],
"metadata": {
		  "kernelspec": {
		   "display_name": "Scilab",
		   "language": "scilab",
		   "name": "scilab"
		  },
		  "language_info": {
		   "file_extension": ".sce",
		   "help_links": [
			{
			 "text": "MetaKernel Magics",
			 "url": "https://github.com/calysto/metakernel/blob/master/metakernel/magics/README.md"
			}
		   ],
		   "mimetype": "text/x-octave",
		   "name": "scilab",
		   "version": "0.7.1"
		  }
		 },
		 "nbformat": 4,
		 "nbformat_minor": 0
}
