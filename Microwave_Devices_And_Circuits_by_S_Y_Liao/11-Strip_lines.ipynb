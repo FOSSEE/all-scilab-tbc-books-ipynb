{
"cells": [
 {
		   "cell_type": "markdown",
	   "metadata": {},
	   "source": [
       "# Chapter 11: Strip lines"
	   ]
	},
{
		   "cell_type": "markdown",
		   "metadata": {},
		   "source": [
			"## Example 11.1_1: Characteristic_Impedance_of_Microstrip_line.sce"
		   ]
		  },
  {
"cell_type": "code",
	   "execution_count": null,
	   "metadata": {
	    "collapsed": true
	   },
	   "outputs": [],
"source": [
"//CAPTION: Characteristic_Impedance_of_Microstrip_line\n",
"//chapter_no.-11,  page_no.-495\n",
"//Example_no.11-1-1\n",
"\n",
"clc;\n",
"\n",
"\n",
"er=5.23;//relative_dielectric_constant\n",
"h=7;//height_from_microstrip_line_to_the_ground\n",
"t=2.8;//thickness_of_the_microstrip_line\n",
"w=10;//width_of_the_microstrip_line\n",
"Z0=(87*(log((5.98*h)/(t+(.8*w)))))/sqrt(er+1.41);\n",
"disp(Z0,'the_characteristic_impedance_of_the_line(in ohms)is =');\n",
"\n",
"\n",
"\n",
"\n",
"\n",
"\n",
"\n",
"\n",
"\n",
""
   ]
   }
,
{
		   "cell_type": "markdown",
		   "metadata": {},
		   "source": [
			"## Example 11.2_1: Characteristics_of_a_Parallel_Strip_Line.sce"
		   ]
		  },
  {
"cell_type": "code",
	   "execution_count": null,
	   "metadata": {
	    "collapsed": true
	   },
	   "outputs": [],
"source": [
"//CAPTION: Characteristics_of_a_Parallel_Strip_Line\n",
"//chapter_no.-11,  page_no.-505\n",
"//Example_no.11-2-1\n",
"\n",
"clc;\n",
"\n",
"//(a) Calculate the required width of the conducting strip\n",
"erd=6;//relative_dielectric_constant\n",
"d=4*(10^-3);//thickness\n",
"Z0=50;//characteristic_impedance\n",
"\n",
"w=(377*(d))/((sqrt(erd))*Z0);\n",
"disp(w,'the_required_width_of_the_conducting_strip(in metres)is =');\n",
"\n",
"//(b) Calculate_the_strip_line_capacitance\n",
"\n",
"ed=8.854*(10^-12)*erd;\n",
"d=4*(10^-3);//thickness\n",
"C=(ed*w)/d;\n",
"C=C*(10^12);\n",
"disp(C,'the_strip_line_capacitance(in pF/m)is =');\n",
"\n",
"\n",
"\n",
"\n",
"//(c) Calculate_the_strip_line_inductance\n",
"\n",
"uc=4*%pi*(10^-7);\n",
"d=4*(10^-3);//thickness\n",
"C=(uc*d)/w;\n",
"C=C*(10^6);\n",
"disp(C,'the_strip_line_inductance(in uH/m)is =');\n",
"\n",
"//(d)Calculate_the_phase_velocity_of_the_wave_in_the_parallel_strip_line\n",
"\n",
"c=3*(10^8);\n",
"\n",
"vp=c/(sqrt(erd));\n",
"disp(vp,'the_phase_velocity_of_the_wave_in_the_parallel_strip_line(in m/s)is =');\n",
"\n",
"\n",
"\n",
"\n",
"\n",
"\n",
"\n",
"\n",
"\n",
"\n",
"\n",
"\n",
"\n",
"\n",
"\n",
""
   ]
   }
,
{
		   "cell_type": "markdown",
		   "metadata": {},
		   "source": [
			"## Example 11.3_1: Characteristic_Impedance_of_a_Coplanar_Stripline.sce"
		   ]
		  },
  {
"cell_type": "code",
	   "execution_count": null,
	   "metadata": {
	    "collapsed": true
	   },
	   "outputs": [],
"source": [
"//chapter_no.-11,  page_no.-507\n",
"//Example_no.11-3-1\n",
"clc;\n",
"Pavg=250*(10^-3);//average_power_flowing_in_the_positive_z_direction\n",
"Io=100*(10^-3);//total_peak_current\n",
"Z0=(2*Pavg)/(Io^2);\n",
"disp(Z0,'the_characteristic_impedance_of_the_coplanar_strip_line(in ohms)is =');"
   ]
   }
,
{
		   "cell_type": "markdown",
		   "metadata": {},
		   "source": [
			"## Example 11.4_1: Characteristic_Impedance_of_a_Shielded_Strip_Line.sce"
		   ]
		  },
  {
"cell_type": "code",
	   "execution_count": null,
	   "metadata": {
	    "collapsed": true
	   },
	   "outputs": [],
"source": [
"//chapter_no.-11,  page_no.-508\n",
"//Example_no.11-4-1\n",
"clc;\n",
"//(a)Calculate_the_K_factor\n",
"er=2.56//relative_dielectric_constant\n",
"w=25;//strip_width\n",
"t=14;//strip_thickness\n",
"d=70;//shield_depth\n",
"K=1/(1-(t/d));\n",
"disp(K,'the_K_factor is =');\n",
"//(b)Calculate_the_fringe_capacitance\n",
"Cf=((8.854*er)*((2*K*log(K+1))-((K-1)*log((K^2)-1))))/%pi;\n",
"disp(Cf,'the_fringe_capacitance(in pF/m)is =');\n",
"//(c) Calculate_the_characteristic_impedance_of_the_line\n",
"Z0=94.15/((((w/d)*K)+(Cf/(8.854*er)))*(sqrt(er)));\n",
"disp(Z0,'the_characteristic_impedance_of_the_line(in ohms)is =');"
   ]
   }
],
"metadata": {
		  "kernelspec": {
		   "display_name": "Scilab",
		   "language": "scilab",
		   "name": "scilab"
		  },
		  "language_info": {
		   "file_extension": ".sce",
		   "help_links": [
			{
			 "text": "MetaKernel Magics",
			 "url": "https://github.com/calysto/metakernel/blob/master/metakernel/magics/README.md"
			}
		   ],
		   "mimetype": "text/x-octave",
		   "name": "scilab",
		   "version": "0.7.1"
		  }
		 },
		 "nbformat": 4,
		 "nbformat_minor": 0
}
