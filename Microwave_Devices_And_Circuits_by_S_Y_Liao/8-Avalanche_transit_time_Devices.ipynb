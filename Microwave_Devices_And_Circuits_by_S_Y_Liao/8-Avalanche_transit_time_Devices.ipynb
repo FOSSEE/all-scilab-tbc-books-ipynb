{
"cells": [
 {
		   "cell_type": "markdown",
	   "metadata": {},
	   "source": [
       "# Chapter 8: Avalanche transit time Devices"
	   ]
	},
{
		   "cell_type": "markdown",
		   "metadata": {},
		   "source": [
			"## Example 8.2_1: CW_Output_Power_Of_an_IMPATT_Diode.sce"
		   ]
		  },
  {
"cell_type": "code",
	   "execution_count": null,
	   "metadata": {
	    "collapsed": true
	   },
	   "outputs": [],
"source": [
"//chapter_no.-8,  page_no.-331\n",
"//Example_no.8-2-1\n",
"clc;\n",
"//(a)Calculate_the_maximum_CW_power\n",
"n=.15;//efficiency\n",
"Vomax=100;//maximum_operating_voltage\n",
"Iomax=200*(10^-3);//maximum_operating_current\n",
"Pdc=Vomax*Iomax;\n",
"P=n*Pdc;\n",
"disp(P,'the_maximum_CW_power(in Watts)is =');\n",
"//(b) Calculate_the_resonant_frequency\n",
"L=6*(10^-6);//drift-region_Length\n",
"vd=2*(10^5);//carrier_drift_velocity\n",
"f=vd/(2*L);\n",
"f=f/(10^9);\n",
"disp(f,'the_resonant_frequency(in GHz)is =');"
   ]
   }
,
{
		   "cell_type": "markdown",
		   "metadata": {},
		   "source": [
			"## Example 8.3_1: Calculate_the_avalanche_zone_velocity.sce"
		   ]
		  },
  {
"cell_type": "code",
	   "execution_count": null,
	   "metadata": {
	    "collapsed": true
	   },
	   "outputs": [],
"source": [
"//chapter_no.-8,  page_no.-334\n",
"//Example_no.8-3-1\n",
"clc;\n",
"J=20*(10^3);//current_density\n",
"q=1.6*(10^-19);\n",
"NA=2*(10^15);//Doping_Concentration\n",
"vs=J/(q*NA);\n",
"disp(vs,'avalanche-zone_velocity(in cm/s)is =');\n",
"disp('This means that the avalanch-zone velocity is much larger than the scattering-limited velocity');"
   ]
   }
,
{
		   "cell_type": "markdown",
		   "metadata": {},
		   "source": [
			"## Example 8.4_1: Breakdown_voltage_Of_a_BARITT_Diode.sce"
		   ]
		  },
  {
"cell_type": "code",
	   "execution_count": null,
	   "metadata": {
	    "collapsed": true
	   },
	   "outputs": [],
"source": [
"//chapter_no.-8,  page_no.-338\n",
"//Example_no.8-4-1\n",
"clc;\n",
"//(a) Calculate_the_break_down_voltage\n",
"q=1.6*(10^-19);\n",
"N=2.8*(10^21);//Donor_Concentration\n",
"L=6*(10^-6);//silicon_length\n",
"er=11.8;//Relative_dielectric_constant\n",
"es=8.854*(10^-12)*er;\n",
"Vbd=(q*N*(L^2))/es;\n",
"disp(Vbd,'the_break_down_voltage_is_double_its_critical_voltage_as(in Volts)is =');\n",
"//(b)Calculate_the_break_down_electric_field\n",
"Ebd=Vbd/L;\n",
"disp(Ebd,'the_break_down_electric_field(in V/m)is =');\n",
"Ebd=Ebd/100;\n",
"disp(Ebd,'the_break_down_electric_field(in V/cm)is =');"
   ]
   }
,
{
		   "cell_type": "markdown",
		   "metadata": {},
		   "source": [
			"## Example 8.5_1: UP_Converter_parametric_Amplifier.sce"
		   ]
		  },
  {
"cell_type": "code",
	   "execution_count": null,
	   "metadata": {
	    "collapsed": true
	   },
	   "outputs": [],
"source": [
"//chapter_no.-8,  page_no.-346\n",
"//Example_no.8-5-1\n",
"clc;\n",
"//(a)Calculate_the_power_gain\n",
"R=25;//R=f0/fs ,ratio_of_output_frequency_over_signal_frequency\n",
"rQ=10;//figure_of_merit\n",
"x=((rQ)^2)/R;\n",
"PG=(R*x)/((1+sqrt(1+x))^2);\n",
"PG=10*log10(PG);//calculating_in_dB\n",
"disp(PG,'Up-converter_power_gain_(in dB)is =');\n",
"//(b)Calculate_the_noise_figure\n",
"Td=350;//Diode_temperature\n",
"To=300;//ambient_Temperature\n",
"F=1+(((2*Td)/To)*((1/rQ)+(1/rQ^2)));\n",
"F=10*log10(F);//calculating_in_dB\n",
"disp(F,'the_noise_figure(in dB)is =');\n",
"//(c)Calculate_the_band_width\n",
"r=.4//factor_of_merit_figure\n",
"BW=2*r*sqrt(R);  //R=fo/fs\n",
"disp(BW,'the_band_width_is =');"
   ]
   }
],
"metadata": {
		  "kernelspec": {
		   "display_name": "Scilab",
		   "language": "scilab",
		   "name": "scilab"
		  },
		  "language_info": {
		   "file_extension": ".sce",
		   "help_links": [
			{
			 "text": "MetaKernel Magics",
			 "url": "https://github.com/calysto/metakernel/blob/master/metakernel/magics/README.md"
			}
		   ],
		   "mimetype": "text/x-octave",
		   "name": "scilab",
		   "version": "0.7.1"
		  }
		 },
		 "nbformat": 4,
		 "nbformat_minor": 0
}
