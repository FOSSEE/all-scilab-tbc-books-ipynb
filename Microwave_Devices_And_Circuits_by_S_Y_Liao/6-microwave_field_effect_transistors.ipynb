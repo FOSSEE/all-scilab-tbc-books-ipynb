{
"cells": [
 {
		   "cell_type": "markdown",
	   "metadata": {},
	   "source": [
       "# Chapter 6: microwave field effect transistors"
	   ]
	},
{
		   "cell_type": "markdown",
		   "metadata": {},
		   "source": [
			"## Example 6.1_1: Pinch_Off_Voltage_Of_a_Silicon_JFET.sce"
		   ]
		  },
  {
"cell_type": "code",
	   "execution_count": null,
	   "metadata": {
	    "collapsed": true
	   },
	   "outputs": [],
"source": [
"//chapter_no.-6,  page_no.-229\n",
"//Example_no.6-1-1\n",
"clc;\n",
"a=.1*(10^-6);//channel_height\n",
"Nd=8*(10^23);//Electron_Concetration\n",
"er=11.80;//relative_dielectrin_constant\n",
"e=8.854*(10^-12)*er;//medium_dielecric_constant\n",
"q=1.6*(10^-19);//electronic_charge\n",
"Vp=(q*Nd*(a^2))/(2*e);//pinch-off_voltage\n",
"disp(Vp,'pinch-off volatge in(Volts)is');"
   ]
   }
,
{
		   "cell_type": "markdown",
		   "metadata": {},
		   "source": [
			"## Example 6.1_2: current_of_a_JFET.sce"
		   ]
		  },
  {
"cell_type": "code",
	   "execution_count": null,
	   "metadata": {
	    "collapsed": true
	   },
	   "outputs": [],
"source": [
"//chapter_no.-6,  page_no.-233\n",
"//Example_no.6-1-2\n",
"clc;\n",
"//(a)Calculate_the_pinch-off_Voltage_in_Volts\n",
"a=.2*(10^-4);//channel_height\n",
"Nd=1*(10^17);//Electron_Concetration\n",
"er=11.80;//relative_dielectrin_constant\n",
"e=8.854*(10^-14)*er;//medium_dielecric_constant\n",
"q=1.6*(10^-19);//electronic_charge\n",
"Vp=(q*Nd*(a^2))/(2*e);//pinch-off_voltage\n",
"disp(Vp,'pinch-off volatge in(Volts)is');\n",
"//(b)Calculate_the_pinch-off_current\n",
"un=800;//electron_mobility\n",
"L=8*(10^-4);//channel_length\n",
"Z=50*(10^-4);//channel_width\n",
"a=.2*(10^-4);//channel_height\n",
"Nd=1*(10^17);//Electron_Concetration\n",
"er=11.80;//relative_dielectrin_constant\n",
"e=8.854*(10^-14)*er;//medium_dielecric_constant\n",
"q=1.6*(10^-19);//electronic_charge\n",
"Ip=(un*(q^2)*(Nd^2)*Z*(a^3))/(L*e);//pinch-off_voltage\n",
"Ip=Ip*1000;\n",
"disp(Ip,'pinch-off current in(mA)is');\n",
"//(c)Calculate_the_built-in_voltage\n",
"Nd=1*(10^17);//Electron_Concetration\n",
"Na=1*(10^19);//hole_density\n",
"w0=26*(10^-3)*log((Nd*Na)/((1.5*10^10)^2));\n",
"disp(w0,'built-in voltage in(volts)is');\n",
"//(d) Calculate_the_drain_current\n",
"Vd=10;//drain_voltage\n",
"Vg=-1.5;//gate_voltage\n",
"Vg=-1*Vg;//we_take_only_magnitude\n",
"x=((Vd+Vg+w0)/(Vp))^(3/2);\n",
"x=(2/3)*x;\n",
"y=((Vg+w0)/(Vp))^(3/2);\n",
"y=(2/3)*y;\n",
"Id=(Vd/Vp)-x+y;\n",
"Id=Ip*Id;\n",
"disp(Id,'the_drain_current (mA)is');\n",
"//(e) Calculate_the_saturation_drain_current_at Vg=0\n",
"Vg=-1.5;//gate_voltage\n",
"Vg=-1*Vg;//we_take_only_magnitude\n",
"x=(Vg+w0)/(Vp);\n",
"y=((Vg+w0)/(Vp))^(3/2);\n",
"y=(2/3)*y;\n",
"Idsat=(1/3)-x+y;\n",
"Idsat=(Id)*Idsat;\n",
"disp(Idsat,'the_saturation_drain_current_(mA)is');\n",
"//(f) Calculate_the_cut-off_frequency\n",
"fc=(2*un*q*Nd*(a^2))/(%pi*e*(L^2));\n",
"disp(fc/(10^9),'the_cut-off_frequency(Ghz)');"
   ]
   }
,
{
		   "cell_type": "markdown",
		   "metadata": {},
		   "source": [
			"## Example 6.2_1: Pinch_Off_Voltage_Of_a_MESFET.sce"
		   ]
		  },
  {
"cell_type": "code",
	   "execution_count": null,
	   "metadata": {
	    "collapsed": true
	   },
	   "outputs": [],
"source": [
"//CAPTION: Pinch-Off_Voltage_Of_a_MESFET\n",
"//chapter_no.-6,  page_no.-239\n",
"//Example_no.6-2-1\n",
"\n",
"clc;\n",
"\n",
"a=.1*(10^-6);//channel_height\n",
"Nd=8*(10^23);//Electron_Concetration\n",
"er=13.10;//relative_dielectrin_constant\n",
"e=8.854*(10^-12)*er;//medium_dielecric_constant\n",
"q=1.6*(10^-19);//electronic_charge\n",
"Vp=(q*Nd*(a^2))/(2*e);//pinch-off_voltage\n",
"\n",
"disp(Vp,'pinch-off volatge in(Volts)is');"
   ]
   }
,
{
		   "cell_type": "markdown",
		   "metadata": {},
		   "source": [
			"## Example 6.2_2: Current_Voltage_Characteristics_Of_a_GaAs_MESFET.sce"
		   ]
		  },
  {
"cell_type": "code",
	   "execution_count": null,
	   "metadata": {
	    "collapsed": true
	   },
	   "outputs": [],
"source": [
"//chapter_no.-6,  page_no.-244\n",
"//Example_no.6-2-2\n",
"clc;\n",
"//(a) Calculate_the_pinch-off_voltage\n",
"a=.1*(10^-6);//channel_height\n",
"Nd=8*(10^23);//Electron_Concetration\n",
"er=13.1;//relative_dielectrin_constant\n",
"e=8.854*(10^-12)*er;//medium_dielecric_constant\n",
"q=1.6*(10^-19);//electronic_charge\n",
"Vp=(q*Nd*(a^2))/(2*e);//pinch-off_voltage\n",
"disp(Vp,'pinch-off volatge in(Volts)is');\n",
"//(b)Calculate_the_velocity_ratio\n",
"un=.08;//electron_mobility\n",
"vs=2*(10^5);\n",
"L=14*(10^-6);\n",
"n=(Vp*un)/(vs*L)\n",
"disp(n,'the velocity ratio');\n",
"//(c) Calculate_the_saturation_drain_current_at Vg=0\n",
"L=14*(10^-6);\n",
"Z=36*(10^-6);\n",
"Ipsat=(q*Nd*un*a*Z*Vp)/(3*L);\n",
"Ipsat=Ipsat*1000;\n",
"disp(Ipsat,'the_saturation_drain_current_(mA)is');\n",
"//(d) Calculate_the_drain_current\n",
"Vd=5;\n",
"Vg=2;\n",
"u=((Vd+Vg)/Vp)^(1/2);\n",
"p=((Vg)/Vp)^(1/2);\n",
"Id=(3*((u^2)-(p^2))-2*((u^3)-(p^3)))/(1+(n*((u^2)-(p^2))));\n",
"Id=Id*Ipsat;\n",
"disp(Id,'the_drain_current_(mA)is');"
   ]
   }
,
{
		   "cell_type": "markdown",
		   "metadata": {},
		   "source": [
			"## Example 6.2_3: CutOff_frequency_of_a_MESFET.sce"
		   ]
		  },
  {
"cell_type": "code",
	   "execution_count": null,
	   "metadata": {
	    "collapsed": true
	   },
	   "outputs": [],
"source": [
"//chapter_no.-6,  page_no.-247\n",
"//Example_no.6-2-3\n",
"clc;\n",
"//(a) Calculate_the_cut-off_frequency\n",
"gm=.05;\n",
"Cgs=.60*(10^-12);\n",
"fco=(gm)/(2*%pi*Cgs);\n",
"fco=fco/(10^9);\n",
"disp(fco,'the_cut-off_frequency(in Ghz)is');\n",
"//(b)Calculate_the_maximum_operating_frequency\n",
"Rd=450;\n",
"Rs=2.5;\n",
"Rg=3;\n",
"Ri=2.5;\n",
"fmax=(fco/2)*((Rd/(Rs+Rg+Ri))^(1/2));\n",
"disp(fmax,'the_maximum_operating_frequency(in Ghz)is');"
   ]
   }
,
{
		   "cell_type": "markdown",
		   "metadata": {},
		   "source": [
			"## Example 6.3_1: Current_of_a_HEMT.sce"
		   ]
		  },
  {
"cell_type": "code",
	   "execution_count": null,
	   "metadata": {
	    "collapsed": true
	   },
	   "outputs": [],
"source": [
"//chapter_no.-6,  page_no.-251\n",
"//Example_no.6-3-1\n",
"clc;\n",
"//Calculate_the_Drain_Current\n",
"q=1.60*(10^-19);\n",
"n=5.21*(10^15);\n",
"W=150*(10^-6);\n",
"v=2*(10^5);\n",
"Ids=q*n*W*v;\n",
"Ids=1000*Ids;\n",
"disp(Ids,'the_drain_current_is(mA)');"
   ]
   }
,
{
		   "cell_type": "markdown",
		   "metadata": {},
		   "source": [
			"## Example 6.3_2: Sensitivity_Of_HEMT.sce"
		   ]
		  },
  {
"cell_type": "code",
	   "execution_count": null,
	   "metadata": {
	    "collapsed": true
	   },
	   "outputs": [],
"source": [
"//chapter_no.-6,  page_no.-253\n",
"//Example_no.6-3-2\n",
"clc;\n",
"//(a) Calculate_the_conduction_band-edge_difference_between_GaAs_and_AlGaAs\n",
"Ega=1.8;\n",
"Egg=1.43;\n",
"AEc=Ega-Egg;\n",
"disp(AEc,'the_conduction_band-edge_difference_is=');\n",
"//(b) Calculate_the_sesitivity_of_the_HEMT\n",
"q=1.6*(10^-19);\n",
"Nd=2*(10^24);\n",
"wms=.8;\n",
"Vth=.13;\n",
"er=4.43;\n",
"e=er*(8.854*(10^-12));\n",
"S=-[(2*q*Nd*(wms-AEc-Vth))/(e)]^(1/2);//sesitivity_of_the_HEMT\n",
"S=S/(10^6);\n",
"disp(S,'the_sensitivity_of_the_HEMT_(mV/nm)_is=')\n",
"disp(-1*S,'d/dv(Vth)(mV/nm)is=');"
   ]
   }
,
{
		   "cell_type": "markdown",
		   "metadata": {},
		   "source": [
			"## Example 6.4_1: Threshold_Voltage_of_an_Ideal_MOSFET.sce"
		   ]
		  },
  {
"cell_type": "code",
	   "execution_count": null,
	   "metadata": {
	    "collapsed": true
	   },
	   "outputs": [],
"source": [
"//chapter_no.-6,  page_no.-260\n",
"//Example_no.6-4-1\n",
"clc;\n",
"//(a) Calculate_the_strong_potential_w(inv)_for_strong_inversion\n",
"kt=26*(10^-3);\n",
"Na=3*(10^17);\n",
"Ni=1.5*(10^10);\n",
"wsinv=2*kt*log(Na/Ni);\n",
"disp(wsinv,'the_strong_potential_w(inv)_for_strong_inversion(volts)');\n",
"//(b)Calculate_the_insulator_Capacitance\n",
"eir=4;\n",
"ei=8.854*(10^-12)*eir;\n",
"d=.01*(10^-6);\n",
"Ci=ei/d;\n",
"Ci=Ci*(1000);\n",
"disp(Ci,'the_insulator_Capacitance(mF/m^2)=');\n",
"//(c) Calculate_the_threshold_voltage\n",
"q=1.6*(10^-19);\n",
"Na=3*(10^23);\n",
"er=11.8;\n",
"e=8.854*er*(10^-12);\n",
"Vth=wsinv+((2/(Ci*(10^-3)))*((e*q*Na*.437)^(1/2)))\n",
"disp(Vth,'the_threshold_voltageis ()Volts=');"
   ]
   }
,
{
		   "cell_type": "markdown",
		   "metadata": {},
		   "source": [
			"## Example 6.4_2: Characteristics_Of_a_MOSFET.sce"
		   ]
		  },
  {
"cell_type": "code",
	   "execution_count": null,
	   "metadata": {
	    "collapsed": true
	   },
	   "outputs": [],
"source": [
"//chapter_no.-6,  page_no.-262\n",
"//Example_no.6-4-2\n",
"clc;\n",
"//(a)Calculate_the_insulation_capacitance\n",
"eir=3.9;\n",
"ei=8.854*(10^-12)*eir;\n",
"d=.05*(10^-6);\n",
"Ci=ei/d;\n",
"disp(Ci,'the_insulation_capacitance(in F/m^2)');\n",
"//(b)Calculate_the_saturation_drain_current\n",
"Z=12*(10^-12);\n",
"Vg=5;\n",
"Vth=.10;\n",
"vs=1.70*(10^7);\n",
"Idsat=Z*Ci*(Vg-Vth)*vs;\n",
"Idsat=Idsat*10^7;\n",
"disp(Idsat,'the_saturation_drain_current(in mA)');\n",
"//(c)Calculate_the_transconductance_in_the_saturation region\n",
"Z=12*(10^-12);\n",
"vs=1.70*(10^7);\n",
"gmsat=Z*Ci*vs;\n",
"gmsat=gmsat*10^7;\n",
"disp(gmsat,'the_transconductance_in_the_saturation region(in_millimhos)');\n",
"//(d)Calculate_the_maximum_operating_frequency_in_the_saturation_region\n",
"vs=1.70*(10^7);\n",
"L=4*(10^-6);\n",
"fm=vs/(2*%pi*L);\n",
"fm=fm/(10^2);\n",
"fm=fm/(10^9);\n",
"disp(fm,'the_maximum_operating_frequency_in_the_saturation_region(in GHz)');"
   ]
   }
,
{
		   "cell_type": "markdown",
		   "metadata": {},
		   "source": [
			"## Example 6.6_1: Power_Dissipation_of_a_Three_Phase_CCD.sce"
		   ]
		  },
  {
"cell_type": "code",
	   "execution_count": null,
	   "metadata": {
	    "collapsed": true
	   },
	   "outputs": [],
"source": [
"//chapter_no.-6,  page_no.-278\n",
"//Example_no.6-6-1\n",
"clc;\n",
"// Calculate_the_power_dissipation_per_bit\n",
"n=3;\n",
"f=10*(10^6);\n",
"V=10;\n",
"Qmax=.04*(10^-12);\n",
"P=n*f*V*Qmax;\n",
"P=P*(10^6);\n",
"disp(P,'the_power_dissipation_per_bit(uW)is=');"
   ]
   }
,
{
		   "cell_type": "markdown",
		   "metadata": {},
		   "source": [
			"## Example 6.6_2: Design_of_N_Type_Three_Phase_Surface_Channel_CCD.sce"
		   ]
		  },
  {
"cell_type": "code",
	   "execution_count": null,
	   "metadata": {
	    "collapsed": true
	   },
	   "outputs": [],
"source": [
"//chapter_no.-6,  page_no.-279\n",
"//Example_no.6-6-2\n",
"clc;\n",
"//(a)Calculate_the_insulator_capacitance\n",
"eir=3.9;\n",
"ei=8.854*(10^-12)*eir;\n",
"d=.15*(10^-6);\n",
"Ci=ei/d;\n",
"Ci=Ci*(10^5);\n",
"disp(Ci,'the_insulation_capacitance(in nF/cm^2)');\n",
"//(b)Calculate_the_maximum_stored_charges_per_well\n",
"Nmax=2*(10^12);\n",
"q=1.6*(10^-19);\n",
"A=.5*(10^-4);\n",
"Qmax=Nmax*A*q;\n",
"Qmax=Qmax*(10^12);\n",
"disp(Qmax,'the_maximum_stored_charges_per_well(picocoulombs)');\n",
"//(c) Calculate_the_required_applied_gate_voltage\n",
"Nmax=2*(10^12);\n",
"q=1.6*(10^-19);\n",
"Vg=(Nmax*q)/(Ci*10^-9);\n",
"disp(Vg,'the_required_applied_gate_voltage(in_Volts)');\n",
"//(d)Calculate_the_clock_frequency\n",
"P=.67*(10^-3);\n",
"n=3;\n",
"f=P/(n*Vg*Qmax*(10^-12));\n",
"f=f/(10^6);\n",
"disp(f,'the_clock_frequency(in MHz)');"
   ]
   }
],
"metadata": {
		  "kernelspec": {
		   "display_name": "Scilab",
		   "language": "scilab",
		   "name": "scilab"
		  },
		  "language_info": {
		   "file_extension": ".sce",
		   "help_links": [
			{
			 "text": "MetaKernel Magics",
			 "url": "https://github.com/calysto/metakernel/blob/master/metakernel/magics/README.md"
			}
		   ],
		   "mimetype": "text/x-octave",
		   "name": "scilab",
		   "version": "0.7.1"
		  }
		 },
		 "nbformat": 4,
		 "nbformat_minor": 0
}
