{
"cells": [
 {
		   "cell_type": "markdown",
	   "metadata": {},
	   "source": [
       "# Chapter 3: Electromagnetic plane waves"
	   ]
	},
{
		   "cell_type": "markdown",
		   "metadata": {},
		   "source": [
			"## Example 3.1_1: Line_characteristic_impedance_and_phase_constant.sce"
		   ]
		  },
  {
"cell_type": "code",
	   "execution_count": null,
	   "metadata": {
	    "collapsed": true
	   },
	   "outputs": [],
"source": [
"//chapter_no.-3,  page_no.-84\n",
"//Example_no.3-1-1\n",
"clc;\n",
"//(a)Calculate_the_line_Characteristic_Impedance\n",
"R=2;\n",
"L=8*(10^-9);\n",
"C=.23*(10^-12);\n",
"f=1*(10^9);\n",
"G=.5*(10^-3);\n",
"w=2*%pi*f;\n",
"Z0=sqrt((R+(%i*w*L))/(G+(%i*w*C)));\n",
"x=real(Z0);\n",
"y=imag(Z0);\n",
"o=atand(y,x);\n",
"disp(o,'the_phase_of_Z0_is =');\n",
"M=abs(Z0);//magintue_of_Z0\n",
"disp(M,'the_magnitude_of_Z0_is =');\n",
"disp(Z0,'the_line_characteristic_impedance is =');\n",
"//(b)Calculate_the_propagation_constant\n",
"r=sqrt((R+(%i*w*L))*(G+(%i*w*C)));\n",
"x=real(r);\n",
"y=imag(r);\n",
"o=atand(y,x);\n",
"disp(o,'the_phase_of_r_is =');\n",
"M=abs(r);//magintue_of_r\n",
"disp(M,'the_magnitude_of_r_is =');\n",
"disp(r,'the_propagation_constant is =');"
   ]
   }
,
{
		   "cell_type": "markdown",
		   "metadata": {},
		   "source": [
			"## Example 3.2_1: reflection_coefficient_and_transmissioncoefficient.sce"
		   ]
		  },
  {
"cell_type": "code",
	   "execution_count": null,
	   "metadata": {
	    "collapsed": true
	   },
	   "outputs": [],
"source": [
"//chapter_no.-3,  page_no.-89\n",
"//Example_no.3-2-1\n",
"clc;\n",
"//(a)Calculate_the_reflection_coefficient\n",
"Zl=70+(%i*50);\n",
"Z0=75+(%i*.01);\n",
"r=(Zl-Z0)/(Zl+Z0);\n",
"x=real(r);\n",
"y=imag(r);\n",
"o=atand(y,x);\n",
"disp(o,'the_phase_of_reflection_coefficient is =');\n",
"M=abs(r);//magintue_of_r\n",
"disp(M,'the_magnitude_of_reflection_coefficient_is =');\n",
"disp(r,'the_reflection_coefficient is =');\n",
"//(b)Calculate_the_transmission_coefficient\n",
"T=(2*Zl)/(Zl+Z0);\n",
"x=real(T);\n",
"y=imag(T);\n",
"o=atand(y,x);\n",
"disp(o,'the_phase_of_transmission_coefficient is =');\n",
"M=abs(T);//magintue_of_T\n",
"disp(M,'the_magnitude_of_transmission_coefficient_is =');\n",
"disp(T,'the_transmission_coefficient is =');\n",
"//(c)Verify_the_relationship_shown_in_Eq(3-2-21)\n",
"T2=T^2;\n",
"x=real(T2);\n",
"y=imag(T2);\n",
"o=atand(y,x);\n",
"disp(o,'the_phase_of_T^2_is =');\n",
"M=abs(T2);//magintue_of_T^2\n",
"disp(M,'the_magnitude_of_T^2_is =');\n",
"disp(T2,'T^2 =');\n",
"p=(Zl/Z0)*(1-(r^2));\n",
"x=real(p);\n",
"y=imag(p);\n",
"o=atand(y,x);\n",
"disp(o,'the_phase_of_(Zl/Z0)*(1-(r^2)_is =');\n",
"M=abs(T2);//magintue_of_(Zl/Z0)*(1-(r^2)\n",
"disp(M,'the_magnitude_of_(Zl/Z0)*(1-(r^2)_is =');\n",
"disp(p,'(Zl/Z0)*(1-(r^2)) = ');\n",
"disp('since T^2=(Zl/Z0)*(1-(r^2)) hence the_relationship_shown_in_Eq(3-2-21) is verified');\n",
"//(d)Verify_the_transmission_coefficient_equals_equals_the_algebraic_sum_of_1_plus_the_reflection_coefficient_as_shown_in_Eq(2-3-18)\n",
"y=r+1;\n",
"disp(T,'T =');\n",
"disp(y,'r+1 = ');\n",
"disp('since T = r+1 hence the_relationship_shown_in_Eq(2-3-18) is verified');"
   ]
   }
,
{
		   "cell_type": "markdown",
		   "metadata": {},
		   "source": [
			"## Example 3.3_1: Standing_Wave_Ratio.sce"
		   ]
		  },
  {
"cell_type": "code",
	   "execution_count": null,
	   "metadata": {
	    "collapsed": true
	   },
	   "outputs": [],
"source": [
"//chapter_no.-3,  page_no.-93\n",
"//Example_no.3-3-1\n",
"clc;\n",
"//(a)Calculate_the_reflection_coefficient\n",
"Zl=73-(%i*42.5);\n",
"Z0=50+(%i*.01);\n",
"rl=(Zl-Z0)/(Zl+Z0);\n",
"x=real(rl);\n",
"y=imag(rl);\n",
"o=atand(y,x);\n",
"disp(o,'the_phase_of_reflection_coefficient is =');\n",
"M=abs(rl);//magintue_of_r\n",
"disp(M,'the_magnitude_of_reflection_coefficient_is =');\n",
"disp(rl,'the_reflection_coefficient is =');\n",
"//(b)Calculate_the_standing-wave_ratio\n",
"p=(1+M)/(1-M);\n",
"disp(p,'the_standing-wave_ratio is =');"
   ]
   }
,
{
		   "cell_type": "markdown",
		   "metadata": {},
		   "source": [
			"## Example 3.4_1: Line_Impedance.sce"
		   ]
		  },
  {
"cell_type": "code",
	   "execution_count": null,
	   "metadata": {
	    "collapsed": true
	   },
	   "outputs": [],
"source": [
"//chapter_no.-3,  page_no.-99\n",
"//Example_no.3-4-1\n",
"clc;\n",
"//(a)Calculate_the_input_impedance\n",
"syms x ;//x_is_wavelength\n",
"Bd=(((2*%pi)/x)*(x/4));\n",
"disp(Bd,'from_Eq(3-4-26)_the_line_that_is_2.25_wavelengths_long_looks like_a_quarter-wave line,then Bd= ');\n",
"R0=50;//input_impedance\n",
"Rl=75;//load_resistance\n",
"Zin=(R0^2)/Rl;\n",
"disp(Zin,'From_Eq(3-4-26),the_input_impedance((in_ohms)_is = ');\n",
"//(b)Calculate_the_magnitude_of_the_instantaneous_load_voltage\n",
"R0=50;//input_impedance\n",
"Rl=75;//load_resistance\n",
"rl=(Rl-R0)/(Rl+R0);\n",
"disp(rl,'the_reflection_coefficient is =');\n",
"//(b)Calculate_the_magnitude_of_the_instantaneous_load_voltage\n",
"R0=50;//input_impedance\n",
"Rl=75;//load_resistance\n",
"rl=(Rl-R0)/(Rl+R0);\n",
"disp(rl,'the_reflection_coefficient is =');\n",
"V=30;//open-circuit_output_voltage\n",
"Vl=V*(exp(-1*%i*Bd))*(1+rl);\n",
"Vl=abs(Vl);\n",
"disp(Vl,'the_instantaneous_voltage_at_the_load(in V)_is =');\n",
"//(c) Calculate_the_instantaneous_power_delivered_to_the_load\n",
"Pl=(Vl^2)/Rl;\n",
"disp(Pl,'the_instantaneous_power_delivered_to_the_load(in W)is =');"
   ]
   }
,
{
		   "cell_type": "markdown",
		   "metadata": {},
		   "source": [
			"## Example 3.5_1: Location_of_Voltage_maxima_and_minima_from_load.sce"
		   ]
		  },
  {
"cell_type": "code",
	   "execution_count": null,
	   "metadata": {
	    "collapsed": true
	   },
	   "outputs": [],
"source": [
"//chapter_no.-3,  page_no.-104\n",
"//Example_no.3-5-1\n",
"clc;\n",
"Zl=1+ %i*1;//Given normalise load impedance\n",
"disp('1. Enter Zl=1+(1*i) on the chart');\n",
"disp('read .162lamda on the distance scale by drawing a dashed straight line from the centre of the chart through the load point and inersecting the distance circle');\n",
"disp('2. move a distance from the point at .162lamda towards the generator and first stop at the voltage maxima on the right hand side real axis at .25lambda');\n",
"lambda=5;//Given wavelength =5\n",
"dVmax=(.25-.162)*lambda;\n",
"disp(dVmax,'d1(Vmax) (in cm)=');\n",
"disp('Similarly, ,move a distance from the point of .162lambda towards the generator and first stop at the voltage minimum on the left-hand real axis at .5lambda');\n",
"dVmin=(.5-.162)*lambda;\n",
"disp(dVmin,'d1(Vmin) (in cm)=');\n",
"disp('4.Make a standing wave circle with the centre (1,0) and pass the circle through the point of 1+j1.The location intersected bythe circle at the right portion of the real axis indicates the SWR .this is p=2.6');"
   ]
   }
,
{
		   "cell_type": "markdown",
		   "metadata": {},
		   "source": [
			"## Example 3.5_2: Impedance_with_short_circuit_minima_shift.sce"
		   ]
		  },
  {
"cell_type": "code",
	   "execution_count": null,
	   "metadata": {
	    "collapsed": true
	   },
	   "outputs": [],
"source": [
"//Example_no.3-5-2\n",
"clc;\n",
"disp('1. When the line is shorted ,the first voltage minimum occurs at the place of the load ');\n",
"disp('2 .When the line is loaded ,the first voltage minimum shifts .15lambda from the load .the distance between successive minimas is half the wavelength');\n",
"disp('3.plot a SWR cirle for p=2');\n",
"disp('4. Move a distance of .15lambda from the minimum point along the distance scale toward the load and stop at .15lambda');\n",
"disp('5.Draw a circle from this point to the centre of the chart.');\n",
"disp('6. The intersection between the line and the SWR circle is Zt=1-j*.65');\n",
"Zt=1-(%i*.65);\n",
"Z0=50;//characeristic impedance of the line\n",
"Zl=Zt*Z0;\n",
"disp(Zl,'The load impedance is(in ohm)=');"
   ]
   }
,
{
		   "cell_type": "markdown",
		   "metadata": {},
		   "source": [
			"## Example 3.6_1: Single_Stub_Matching.sce"
		   ]
		  },
  {
"cell_type": "code",
	   "execution_count": null,
	   "metadata": {
	    "collapsed": true
	   },
	   "outputs": [],
"source": [
"//chapter_no.-3,  page_no.-108\n",
"////Example_no.3-6-1\n",
"clc;\n",
"R0=50;//characteristic impedance\n",
"Zl=50/(2+%i*(2+sqrt(3)));\n",
"zl=R0/Zl;//normaised load impedance\n",
"yl=1/zl;//normaised load admittance\n",
"disp('1. compute the normalised load admittance and enter it on the smith chart');\n",
"disp('2 .Draw a SWR circle throuh the point of yl so that he circle intersects the unity circle at the point yd ');\n",
"yd=1- %i*2.6;\n",
"disp(yd,'yd=');\n",
"disp('note that there are infinite number of yd.take the one that allows the stub to be attached as closely as possible the load');\n",
"disp('3. since the charcteristic impedance of the stub is different from that of the line ,the condition for impedance matching at the junction requires Y11=Yd + Ys ,where Ys is the susceptance that the stub will contribute');\n",
"  disp('it is clear that the stub and the portion of the line from the load to the junction are in parallel,as seen by the main line extending to the generator .the admittance must be converted to normalised values for matching on the smith chart .the our equation becomes');\n",
"  \n",
"  disp('y11*Y0= yd*Y0 + ys*y0s');\n",
"  y11=1;\n",
"  Y0=100;//charcteristic impedance of the stub\n",
"  Y0s=50;\n",
"  ys=(y11-yd)*(Y0/Y0s);  \n",
"  \n",
"  disp('4. the distance between the load and the stub position can be calculated from the distance scale as d=(.302-.215)*lambda');\n",
"  \n",
"  disp('5.since the stub contributes a susceptance of j5.20 ,enter j5.20 on the chart and determine the required distance l from the short circuited end(z=0,y=infinity),which corresponds to the right side of the real axis on the chart,by transversing the chart towards the generator until the point of j5.20 is reached.  Then l=(.5 -.031)lambda =.469lambda.  When a line is matched at the junction ,there will be no standing wave in the line from the stub to the generator');\n",
"  \n",
"  disp('If an inductive stub is required yd = 1+j*.26 and the susceptance will be ys =-j*5.2');\n",
"  \n",
"  disp('7.The position of the stub from the load is d=(.5-(.215-.198))lambda = .483lambda     and the length of the short-circuted stub is l =.031 lambda');\n",
"  \n",
"  \n",
"  \n",
"   "
   ]
   }
,
{
		   "cell_type": "markdown",
		   "metadata": {},
		   "source": [
			"## Example 3.6_2: Double_Stub_Matching.sce"
		   ]
		  },
  {
"cell_type": "code",
	   "execution_count": null,
	   "metadata": {
	    "collapsed": true
	   },
	   "outputs": [],
"source": [
"//chapter_no.-3,  page_no.-111\n",
"//Example_no.3-6-2\n",
"clc;\n",
"Zl=100+(%i*100);\n",
"R0=50;//charcteristic impedance of the stub and the line\n",
"zl=Zl/R0;\n",
"disp('1. compute the normalised load admittance and enter it on the smith chart');\n",
"disp('2 .plot a SWR circle and read the normalised load admittance 180 degree out of phase with zl on the SWR circle : ');\n",
"yl=1/zl;\n",
"disp(yl,'yl=');\n",
"disp('3. Draw the spacing circle of (3/8)lambda by rotating the constant-conductance unity circle (g=1) through a phase angle of 2Bd=2B(3/8lambda) =3/2(%pi)towards the load .now y11 must be on this spacing circle ,since yd2 will be on the g=1 circle(y11 and yd2 are 3/8lambda apart)');\n",
"disp('4. move yl for a distance of .4lambda from .458 to .358 along the SWR p circle toward the generator and read yd1 on the chart:');\n",
"yd1=.55- %i*1.08;\n",
"disp('yd1=.55-%i*1.08')\n",
"disp('5. there are two possible solutions for y11.they can be found by carrying yd1 along the constant-conducatnce (g=0.55)circle that intersects the spacing circle at two points        y11=.55-j(.11), y11=.55-j(1.88)');\n",
"y11=.55-(%i*.11);\n",
"y112=.55-(%i*1.88);\n",
"disp('at the junction 1-1  y11=yd1+ys1');\n",
"ys1=y11-yd1;\n",
"disp(ys1,'ys1=');\n",
"ys12=y112-yd1;\n",
"disp(ys12,'ys12=');\n",
"disp('7. the length of the stub 1 are found as l1=(.25+.123)lambda=.373lambda  l1`=(.25-.107)lambda=.143lambda');\n",
"disp('8. the 3/8lambda section of the line transforms y11 to yd2 and y11 to yd2` along their constant standing-wave circles respectively .That is  yd2=1-(%i*.61)  and yd2`=1+(%i*2.60)');\n",
"yd2=1-(%i*.61);\n",
"yd22=1+(%i*2.60);\n",
"disp('9. Then stub 2  must contribute ys2=(.61*%i) and ys2`=(-2.6*%i)');\n",
"disp('10. the length of the stub 1 are found as l2=(.25+.087)lambda=.337lambda  l1`=(.308-.25)lambda=.058lambda');\n",
"disp('11. It can be seen that normaised impedance yl located inside the hatched area cannot be brought to lie on the locus of y11 or y112 for a possible match by the parallel connection of any short-circuited stub because the spacing circle and g=2 circle are mutually tangent.Thus the area of g=2circle is called the forbidden region of the normalised load admittance for possible match.')"
   ]
   }
],
"metadata": {
		  "kernelspec": {
		   "display_name": "Scilab",
		   "language": "scilab",
		   "name": "scilab"
		  },
		  "language_info": {
		   "file_extension": ".sce",
		   "help_links": [
			{
			 "text": "MetaKernel Magics",
			 "url": "https://github.com/calysto/metakernel/blob/master/metakernel/magics/README.md"
			}
		   ],
		   "mimetype": "text/x-octave",
		   "name": "scilab",
		   "version": "0.7.1"
		  }
		 },
		 "nbformat": 4,
		 "nbformat_minor": 0
}
