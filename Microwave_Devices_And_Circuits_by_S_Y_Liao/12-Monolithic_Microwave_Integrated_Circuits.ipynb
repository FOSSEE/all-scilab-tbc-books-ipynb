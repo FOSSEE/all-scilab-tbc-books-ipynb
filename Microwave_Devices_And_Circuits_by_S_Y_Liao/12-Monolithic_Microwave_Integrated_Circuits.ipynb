{
"cells": [
 {
		   "cell_type": "markdown",
	   "metadata": {},
	   "source": [
       "# Chapter 12: Monolithic Microwave Integrated Circuits"
	   ]
	},
{
		   "cell_type": "markdown",
		   "metadata": {},
		   "source": [
			"## Example 12.4_1: Resistance_of_a_planar_resistor.sce"
		   ]
		  },
  {
"cell_type": "code",
	   "execution_count": null,
	   "metadata": {
	    "collapsed": true
	   },
	   "outputs": [],
"source": [
"//chapter_no.-12,  page_no.-534\n",
"//Example_no.12-4-1\n",
"clc;\n",
"l=10*(10^-3);;//resistance_film_length\n",
"ps=2.44*(10^-8);//sheet_resistivity_of_gold_film\n",
"w=10*(10^-3);//resistive_film_width\n",
"t=.1*(10^-6);//resistive_fim_thickness\n",
"R=(l*ps)/(w*t);\n",
"disp(R,'the_planar_resistance(in ohm/square)is =');"
   ]
   }
,
{
		   "cell_type": "markdown",
		   "metadata": {},
		   "source": [
			"## Example 12.4_2: Planar_Circular_Spiral_inductor.sce"
		   ]
		  },
  {
"cell_type": "code",
	   "execution_count": null,
	   "metadata": {
	    "collapsed": true
	   },
	   "outputs": [],
"source": [
"//chapter_no.-12,  page_no.-536\n",
"//Example_no.12-4-2\n",
"clc;\n",
"n=5;//number_of_turns\n",
"w=50;//film_width\n",
"s=100;//separation\n",
"d0=2.5*n*(w+s);\n",
"L=.03125*(n^2)*d0;\n",
"disp(L,'the_inductance(in (nH/mil)is =');"
   ]
   }
,
{
		   "cell_type": "markdown",
		   "metadata": {},
		   "source": [
			"## Example 12.4_3: Planar_Capacitor.sce"
		   ]
		  },
  {
"cell_type": "code",
	   "execution_count": null,
	   "metadata": {
	    "collapsed": true
	   },
	   "outputs": [],
"source": [
"//chapter_no.-12,  page_no.-537\n",
"//Example_no.12-4-3\n",
"clc;\n",
"N=8;//number_of_fingers\n",
"er=13.1;//relative_dielectric_constant\n",
"h=.254;//substarte_height\n",
"l=.00254;//finger_length\n",
"w=.051;//finger_base_width\n",
"A1=.089;//contribution_of_interior_finger_for_h&gt;w\n",
"A2=.1;//contribution_of_two_exterior_fingers_for_h&gt;w\n",
"C=((er+1)*l*((A1*(N-3))+A2))/w;\n",
"disp(C,'the_Capacitance(in (pF/cm)is =');"
   ]
   }
],
"metadata": {
		  "kernelspec": {
		   "display_name": "Scilab",
		   "language": "scilab",
		   "name": "scilab"
		  },
		  "language_info": {
		   "file_extension": ".sce",
		   "help_links": [
			{
			 "text": "MetaKernel Magics",
			 "url": "https://github.com/calysto/metakernel/blob/master/metakernel/magics/README.md"
			}
		   ],
		   "mimetype": "text/x-octave",
		   "name": "scilab",
		   "version": "0.7.1"
		  }
		 },
		 "nbformat": 4,
		 "nbformat_minor": 0
}
