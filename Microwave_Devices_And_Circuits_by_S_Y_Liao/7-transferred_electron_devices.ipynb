{
"cells": [
 {
		   "cell_type": "markdown",
	   "metadata": {},
	   "source": [
       "# Chapter 7: transferred electron devices"
	   ]
	},
{
		   "cell_type": "markdown",
		   "metadata": {},
		   "source": [
			"## Example 7.2_1: Conductivity_of_an_n_Type_GaAs_Gunn_Diode.sce"
		   ]
		  },
  {
"cell_type": "code",
	   "execution_count": null,
	   "metadata": {
	    "collapsed": true
	   },
	   "outputs": [],
"source": [
"//chapter_no.-7,  page_no.-294\n",
"//Example_no.7-2-1\n",
"clc;\n",
"//Calculate_the_conductivity_of_the_diode\n",
"e=1.6*(10^-19);\n",
"nl=(10^10)*(10^6);//electron_density_at_lower_valley\n",
"nu=(10^8)*(10^6);//electron_density_at_upper_valley\n",
"ul=8000*(10^-4);//electron_mobility_at_lower_valley\n",
"uu=180*(10^-4);//electron_mobility_at_upper_valley\n",
"o=e*((nl*ul)+(nu*uu));\n",
"o=o*1000;\n",
"disp(o,'the_conductivity_of_the_diode(in mmhos)is =');"
   ]
   }
,
{
		   "cell_type": "markdown",
		   "metadata": {},
		   "source": [
			"## Example 7.2_2: Charactristics_of_a_GaAs_Gunn_Diode.sce"
		   ]
		  },
  {
"cell_type": "code",
	   "execution_count": null,
	   "metadata": {
	    "collapsed": true
	   },
	   "outputs": [],
"source": [
"//chapter_no.-7,  page_no.-298\n",
"//Example_no.7-2-2\n",
"clc;\n",
"//(a)Calculate_the_electron_drift_velocity\n",
"q=1.6*(10^-19);\n",
"f=10*(10^9);//operating_frequency\n",
"L=10*(10^-6);//Device_Length\n",
"vd=f*L;\n",
"disp(vd,'the_electron_drift_velocity(in m/sec)is =');\n",
"vd=vd*100;\n",
"disp(vd,'the_electron_drift_velocity(in cm/sec)is =');\n",
"vd=vd/100;\n",
"//(b)Calculate_the_current_density\n",
"n=2*(10^14)*(10^6);\n",
"J=q*n*vd;\n",
"disp(J,'the_electron_drift(n A/m^2)is =');\n",
"J=J/(10^4);\n",
"disp(J,'the_electron_drift(n A/cm^2)is =');\n",
"//(c)CAPTION: Calculate_the_negative_electron_mobility\n",
"E=3200;//applied_field\n",
"vd=vd*(100);\n",
"un=-1*(vd/E);\n",
"disp(un,'negative_electron_mobility(in cm^2/V*sec)is =');"
   ]
   }
,
{
		   "cell_type": "markdown",
		   "metadata": {},
		   "source": [
			"## Example 7.3_1: Criterion_of_Mode_Operation.sce"
		   ]
		  },
  {
"cell_type": "code",
	   "execution_count": null,
	   "metadata": {
	    "collapsed": true
	   },
	   "outputs": [],
"source": [
"//chapter_no.-7,  page_no.-298\n",
"//Example_no.7-2-2\n",
"clc;\n",
"//(a)Calculate_the_electron_drift_velocity\n",
"q=1.6*(10^-19);\n",
"f=10*(10^9);//operating_frequency\n",
"L=10*(10^-6);//Device_Length\n",
"vd=f*L;\n",
"disp(vd,'the_electron_drift_velocity(in m/sec)is =');\n",
"vd=vd*100;\n",
"disp(vd,'the_electron_drift_velocity(in cm/sec)is =');\n",
"vd=vd/100;\n",
"//(b)Calculate_the_current_density\n",
"n=2*(10^14)*(10^6);\n",
"J=q*n*vd;\n",
"disp(J,'the_electron_drift(n A/m^2)is =');\n",
"J=J/(10^4);\n",
"disp(J,'the_electron_drift(n A/cm^2)is =');\n",
"//(c)CAPTION: Calculate_the_negative_electron_mobility\n",
"E=3200;//applied_field\n",
"vd=vd*(100);\n",
"un=-1*(vd/E);\n",
"disp(un,'negative_electron_mobility(in cm^2/V*sec)is =');"
   ]
   }
,
{
		   "cell_type": "markdown",
		   "metadata": {},
		   "source": [
			"## Example 7.4_1: Output_power_of_an_LSA_Oscillator.sce"
		   ]
		  },
  {
"cell_type": "code",
	   "execution_count": null,
	   "metadata": {
	    "collapsed": true
	   },
	   "outputs": [],
"source": [
"//chapter_no.-7,  page_no.-311\n",
"//Example_no.7-4-1\n",
"clc;\n",
"//Calculate_the_output_power\n",
"n=.06;//conversion_efficiency\n",
"M=3.5;//Multiplication_factor\n",
"Eth=320*(10^3);//threshold_field\n",
"L=12*(10^-6);//Device_Length\n",
"n0=10^21;//Donor_concentration\n",
"e=1.6*(10^-19);\n",
"v0=1.5*(10^5);//Average_carrier_velocity\n",
"A=3*(10^-8);//Area\n",
"P=n*(M*Eth*L)*(n0*e*v0*A);\n",
"P=P*1000;\n",
"disp(P,'the_output_power(in mW)is =');"
   ]
   }
],
"metadata": {
		  "kernelspec": {
		   "display_name": "Scilab",
		   "language": "scilab",
		   "name": "scilab"
		  },
		  "language_info": {
		   "file_extension": ".sce",
		   "help_links": [
			{
			 "text": "MetaKernel Magics",
			 "url": "https://github.com/calysto/metakernel/blob/master/metakernel/magics/README.md"
			}
		   ],
		   "mimetype": "text/x-octave",
		   "name": "scilab",
		   "version": "0.7.1"
		  }
		 },
		 "nbformat": 4,
		 "nbformat_minor": 0
}
