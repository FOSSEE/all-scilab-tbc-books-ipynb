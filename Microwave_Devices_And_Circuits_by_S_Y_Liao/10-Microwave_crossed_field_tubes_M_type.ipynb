{
"cells": [
 {
		   "cell_type": "markdown",
	   "metadata": {},
	   "source": [
       "# Chapter 10: Microwave crossed field tubes M type"
	   ]
	},
{
		   "cell_type": "markdown",
		   "metadata": {},
		   "source": [
			"## Example 10.1_1_A: Pulsed_Magnetron.sce"
		   ]
		  },
  {
"cell_type": "code",
	   "execution_count": null,
	   "metadata": {
	    "collapsed": true
	   },
	   "outputs": [],
"source": [
"// CAPTION: Pulsed_Magnetron\n",
"//chapter_no.-10,  page_no.-452\n",
"//Example_no.10-1-1A\n",
"\n",
"clc;\n",
"\n",
"//(a) Calculate_the_angular_resonant_frequency\n",
"\n",
"f=9*(10^9);//Operating_frequency\n",
"wr=2*%pi*f;\n",
"disp(wr,'the_angular_resonant_frequency(in rad)is =');\n",
"\n",
"\n",
"//(b) Calculate_the_unloaded_quality_factor\n",
"\n",
"\n",
"C=2.5*(10^-12);//vane_capacitance\n",
"Gr=2*(10^-4);//Resonator_capacitance\n",
"Qun=wr*C/Gr;\n",
"disp(Qun,'the_unloaded_quality_factor');\n",
"\n",
"\n",
"\n",
"\n",
"//(c) Calculate_the_loaded_quality_factor\n",
"\n",
"\n",
"C=2.5*(10^-12);//vane_capacitance\n",
"Gr=2*(10^-4);//Resonator_capacitance\n",
"Gl=2.5*(10^-5);//loaded_capacitance\n",
"Ql=wr*C/(Gl+Gr);\n",
"disp(Ql,'the_loaded_quality_factor');\n",
"\n",
"\n",
"\n",
"//(d) Calculate_the_external_quality_factor\n",
"\n",
"\n",
"C=2.5*(10^-12);//vane_capacitance\n",
"Gl=2.5*(10^-5);//loaded_capacitance\n",
"Qex=wr*C/Gl;\n",
"disp(Qex,'the_external_quality_factor');\n",
"\n",
"\n",
"//(e) Calculate_the_circuit_efficiency\n",
"\n",
"n=(1/(1+(Qex/Qun)));\n",
"n=n*100;\n",
"disp(n,'the_circuit_efficiency(in %) is=');\n",
"\n",
"\n",
"//(f) Calculate_the_electronic_efficiency\n",
"\n",
"\n",
"V0=5.5*(10^3);//Anode_Voltage\n",
"I0=4.5;//Beam_current\n",
"Plost=18.5*(10^3);//power_loss\n",
"ne=((V0*I0)-(Plost))/(V0*I0);\n",
"ne=ne*100;\n",
"disp(ne,'the_electronic_efficiency(in %) is=');"
   ]
   }
,
{
		   "cell_type": "markdown",
		   "metadata": {},
		   "source": [
			"## Example 10.1_1: Conventional_Magnetron.sce"
		   ]
		  },
  {
"cell_type": "code",
	   "execution_count": null,
	   "metadata": {
	    "collapsed": true
	   },
	   "outputs": [],
"source": [
"//CAPTION:Conventional_Magnetron\n",
"//chapter_no.-10,  page_no.-448\n",
"//Example_no.10-1-1\n",
"\n",
"clc;\n",
"\n",
"//(a) Calculate_the_cyclotron_angular_frequency\n",
"\n",
"em=1.759*(10^11);//em=e/m=charge_is_to_mass_ratio\n",
"B0=.336;//Magnetic_flux_density\n",
"wc=(em)*B0;\n",
"disp(wc,'The_cyclotron_angular_frequency(in rad)is =');\n",
"\n",
"\n",
"\n",
"//(b) Calculate_the_cutoff_voltage_for_a_fixed_B0\n",
"\n",
"\n",
"a=5*(10^-2);//radius_of_cathode_cylinder\n",
"b=10*(10^-2);//radius_of_vane_edge_to_centre\n",
"Voc=(em*(B0^2)*(b^2)*((1-((a/b)^2))^2))/8;\n",
"Voc=Voc/(10^5);\n",
"disp(Voc,'the_cutoff_voltage_for_a_fixed_B0(in KV)is =');\n",
"\n",
"\n",
"\n",
"//(c) Calculate_the_cutoff_magnetic_flux_density_for_a_fixed_V0\n",
"\n",
"\n",
"V0=26*(10^3);//Anode_voltage\n",
"Boc=(((8*V0)/em)^(1/2))/(b*(1-((a/b)^2)));\n",
"Boc=Boc*1000;\n",
"disp(Boc,'the_cutoff_magnetic_flux_density_for_a_fixed_V0(in mWb/m^2)is =');\n",
"\n",
"\n",
""
   ]
   }
,
{
		   "cell_type": "markdown",
		   "metadata": {},
		   "source": [
			"## Example 10.1_2_a: Linear_Magnetron.sce"
		   ]
		  },
  {
"cell_type": "code",
	   "execution_count": null,
	   "metadata": {
	    "collapsed": true
	   },
	   "outputs": [],
"source": [
"//CAPTION: Linear_Magnetron\n",
"//chapter_no.-10,  page_no.-459\n",
"//Example_no.10-1-2a\n",
"\n",
"clc;\n",
"\n",
"//(a) Calculate_the_electron_velocity_at_the_hub_surface\n",
"\n",
"em=1.759*(10^11);//em=e/m\n",
"Bo=.015;//Magnetic_flux_density\n",
"d=5*(10^-2);//Distance_between_cathode_and_anode\n",
"h=2.77*(10^-2);//hub_thickness\n",
"V=em*Bo*h;\n",
"disp(V,'the_electron_velocity_at_the_hub_surface(in m/s)is =');\n",
"\n",
"\n",
"\n",
"\n",
"//(b) Calculate_the_phase_velocity_for_synchronism\n",
"\n",
"disp(V,'the_phase_velocity_for_synchronism is Vph=w/B =');\n",
"\n",
"\n",
"\n",
"//(c) Calculate_the_Hartree_anode_voltage\n",
"\n",
"\n",
"wB=V;//wB=w/B\n",
"\n",
"Voh=((V*Bo*d))-((1/2)*(1/em)*(V^2));\n",
"Voh=Voh/1000;//in KV\n",
"disp(Voh,'the_Hartree_anode_voltage (in KV) is =');"
   ]
   }
,
{
		   "cell_type": "markdown",
		   "metadata": {},
		   "source": [
			"## Example 10.1_2: Linear_Magnetron.sce"
		   ]
		  },
  {
"cell_type": "code",
	   "execution_count": null,
	   "metadata": {
	    "collapsed": true
	   },
	   "outputs": [],
"source": [
"//CAPTION:Linear_Magnetron\n",
"//chapter_no.-10,  page_no.-457\n",
"//Example_no.10-1-2\n",
"\n",
"clc;\n",
"\n",
"\n",
"//(a) Calculate_the_Hall_cutoff_voltage_for_fixed_Bo\n",
"em=1.759*(10^11);//em=e/m\n",
"Bo=.01;//Magnetic_flux_density\n",
"d=5*(10^-2);//Distance_between_cathode_and_anode\n",
"Voc=(1/2)*(em)*(Bo^2)*(d^2);\n",
"Voc=Voc/1000;\n",
"disp(Voc,'the_Hall_cutoff_voltage_for_fixed_Bo(in KV)is =');\n",
"\n",
"\n",
"\n",
"\n",
"//(b) Calculate_the_Hall_cutoff_magnetic_field_density_for_fixed_Vo\n",
"\n",
"\n",
"V0=10*(10^3);//Anode_voltage\n",
"Boc=(1/d)*sqrt((2*V0)/(em));\n",
"Boc=Boc*1000;//in mWb\n",
"disp(Boc,'the_Hall_cutoff_magnetic_field_density_for_fixed_Vo(in mWb/m^2)is =');\n",
""
   ]
   }
,
{
		   "cell_type": "markdown",
		   "metadata": {},
		   "source": [
			"## Example 10.1_5: Inverted_Coaxial_Magnetron.sce"
		   ]
		  },
  {
"cell_type": "code",
	   "execution_count": null,
	   "metadata": {
	    "collapsed": true
	   },
	   "outputs": [],
"source": [
"// CAPTION:Inverted_Coaxial_Magnetron\n",
"//chapter_no.-10,  page_no.-465\n",
"//Example_no.10-1-5\n",
"\n",
"clc;\n",
"\n",
"\n",
"//(a) Calculate_the_cutoff_voltage_for_fixed_Bo\n",
"em=1.759*(10^11);//em=e/m\n",
"Bo=.01;//Magnetic_flux_density\n",
"a=3*(10^-2);//anode_radius\n",
"b=4*(10^-2);//Cathode_radius\n",
"Voc=(1/8)*(em)*(Bo^2)*(a^2)*((1-((b/a)^2))^2);\n",
"Voc=Voc/1000;\n",
"disp(Voc,'the_cutoff_voltage_for_fixed_Bo(in KV)is =');\n",
"\n",
"\n",
"\n",
"\n",
"//(b) Calculate_the_cutoff_magnetic_flux_density_for_fixed_Vo\n",
"\n",
"\n",
"V0=10*(10^3);//Anode_voltage\n",
"Boc=(-1/(sqrt(em)))*(sqrt(8*V0))/((a)*(1-((b/a)^2)));\n",
"disp(Boc,'the_cutoff_magnetic_flux_density_for_fixed_Vo(in Wb/m^2)is =');\n",
""
   ]
   }
,
{
		   "cell_type": "markdown",
		   "metadata": {},
		   "source": [
			"## Example 10.1_6: Frequency_Agile_Magnetron.sce"
		   ]
		  },
  {
"cell_type": "code",
	   "execution_count": null,
	   "metadata": {
	    "collapsed": true
	   },
	   "outputs": [],
"source": [
"//CAPTION: Frequency-Agile_Magnetron\n",
"//chapter_no.-10,  page_no.-467\n",
"//Example_no.10-1-6\n",
"\n",
"clc;\n",
"\n",
"//(a) Calculate_the_agile_excursion\n",
"t=.2*(10^-6);//pulse_duration\n",
"N=14;//pulse_rate_on_target\n",
"AC=N/t;//agile_Excursion\n",
"AC=AC/(10^6);//in MHz\n",
"disp(AC,'the_agile_excursion(in MHz)is =');\n",
"\n",
"\n",
"\n",
"//(b) Calculate_the_pulse-to-pulse_frequency_separation\n",
"\n",
"\n",
"fp=1/t;\n",
"fp=fp/(10^6);//in MHz\n",
"disp(fp,'the_pulse-to-pulse_frequency_separation(in MHz)is =');\n",
"\n",
"\n",
"\n",
"//(c) Calculate_the_signal_frequency\n",
"\n",
"DC=.001//Duty_cycle\n",
"f=(DC/t);\n",
"f=f/(10^3);//in KHz\n",
"disp(f,'the_signal_frequency(in KHz)is =');\n",
"\n",
"\n",
"\n",
"//(d) Calculate_the_time_for_N_pulses\n",
"\n",
"Time=N/f;\n",
"disp(Time,'the_time_for_14_pulses_per_second_(in ms)is =');\n",
"\n",
"\n",
"\n",
"\n",
"//(e) Calculate_the_agile_rate\n",
"\n",
"Agilerate=1/(2*Time*10^-3);\n",
"\n",
"disp(Agilerate,'the_agile_rate(in Hz)is =');"
   ]
   }
,
{
		   "cell_type": "markdown",
		   "metadata": {},
		   "source": [
			"## Example 10.2_1: Crossed_Field_Amplifier.sce"
		   ]
		  },
  {
"cell_type": "code",
	   "execution_count": null,
	   "metadata": {
	    "collapsed": true
	   },
	   "outputs": [],
"source": [
"//CAPTION:Crossed-Field_Amplifier\n",
"//chapter_no.-10,  page_no.-473\n",
"//Example_no.10-2-1\n",
"\n",
"clc;\n",
"\n",
"//(a) Calculate_the_induced_RF_power\n",
"\n",
"Vao=2*(10^3);//Anode_dc_voltage\n",
"Iao=1.5;//Anode_dc_current\n",
"ne=.20;//Electronic_efficiency\n",
"Pgen=Vao*Iao*ne;\n",
"disp(Pgen,'the_induced_RF_power(in W)is =');\n",
"\n",
"\n",
"\n",
"\n",
"//(b) Calculate_the_total_RF_output_power\n",
"\n",
"\n",
"Pin=80;//RF_input_power\n",
"Pout=Pin+(Pgen);\n",
"disp(Pout,'the_total_RF_output_power(in W)is =');\n",
"\n",
"\n",
"//(c) Calculate_the_power_gain\n",
"\n",
"g=Pout/Pin;\n",
"g=10*log10(g);//in_decibels\n",
"disp(g,'the_power_gain(in dB)is =');"
   ]
   }
,
{
		   "cell_type": "markdown",
		   "metadata": {},
		   "source": [
			"## Example 10.3_1: Amplitron_characteristics.sce"
		   ]
		  },
  {
"cell_type": "code",
	   "execution_count": null,
	   "metadata": {
	    "collapsed": true
	   },
	   "outputs": [],
"source": [
"//CAPTION: Amplitron_characteristics\n",
"//chapter_no.-10,  page_no.-478\n",
"//Example_no.10-3-1\n",
"\n",
"clc;\n",
"\n",
"//(a) Calculate_the_dc_electron-beam_velocity\n",
"\n",
"V0=15*(10^3);//Anode_voltage\n",
"v0=.593*(10^6)*sqrt(V0);\n",
"disp(v0,'the_dc_electron-beam_velocity_(in m/s)is  =');\n",
"\n",
"\n",
"\n",
"//(b) Calculate_the_electron-beam_phase_constant\n",
"\n",
"\n",
"f=8*(10^9);\n",
"w=2*%pi*f;\n",
"Be=w/v0;\n",
"disp(Be,'the_electron-beam_phase_constant(in rad/m)is  =');\n",
"\n",
"\n",
"\n",
"\n",
"\n",
"//(c) Calculate_the_cyclotron_angular_frequency\n",
"\n",
"em=1.759*(10^11);//em=e/m\n",
"Bo=.2;//Magnetic_flux_density\n",
"wc=(em*Bo);\n",
"disp(wc,'the_cyclotron_angular_frequency(in rad/s)is  =');\n",
"\n",
"\n",
"//(d) Calculate_the_cyclotron_phase_constant\n",
"\n",
"Bm=wc/v0;\n",
"disp(Bm,'the_cyclotron_phase_constant(in rad/m)is  =');\n",
"\n",
"//(e) Calculate_the_gain_parameter\n",
"\n",
"Z0=50;//characteristic_impedance\n",
"I0=3;//Anode_current\n",
"C=((I0*Z0)/(4*V0))^(1/3);\n",
"disp(C,'the_gain_parameter is  =');"
   ]
   }
,
{
		   "cell_type": "markdown",
		   "metadata": {},
		   "source": [
			"## Example 10.4_1: Carcinotron_Characteristics.sce"
		   ]
		  },
  {
"cell_type": "code",
	   "execution_count": null,
	   "metadata": {
	    "collapsed": true
	   },
	   "outputs": [],
"source": [
"//CAPTION:Carcinotron_Characteristics\n",
"//chapter_no.-10,  page_no.-483\n",
"//Example_no.10-4-1\n",
"\n",
"clc;\n",
"\n",
"//(a)Calculate_the_dc_electron_velocity\n",
"\n",
"V0=20*(10^3);//Anode_voltage\n",
"v0=.593*(10^6)*sqrt(V0);\n",
"disp(v0,'the_dc_electron_velocity_(in m/s)is  =');\n",
"\n",
"\n",
"\n",
"//(b) Calculate_the_electron-beam_phase_constant\n",
"\n",
"\n",
"f=4*(10^9);//operating_frequency\n",
"w=2*%pi*f;\n",
"Be=w/v0;\n",
"disp(Be,'the_electron-beam_phase_constant(in rad/m)is  =');\n",
"\n",
"\n",
"\n",
"\n",
"//(c) Calculate_the_delta_differentials\n",
"\n",
"\n",
"b=.5;//b_factor\n",
"disp('The_Delta_differentials_are :  s1=');\n",
"s1=(%i)*((b-sqrt((b^2)+4))/2);\n",
"disp(s1,'   s1=');\n",
"s2=(%i)*((b+sqrt((b^2)+4))/2);\n",
"disp(s2,'And  s2=');\n",
"\n",
"\n",
"\n",
"//(d)Calculate_the_propagation_constants\n",
"\n",
"D=.8;//D_factor\n",
"disp('the_propagation_constants are ');\n",
"r1=((%i)*(Be+b))+(b*D*s1);\n",
"disp(r1,'   r1=');\n",
"r2=((%i)*(Be+b))+(b*D*s2);\n",
"disp(r2,'   r2=');\n",
"\n",
"\n",
"\n",
"//(e)Calculate_the_oscillation_condition\n",
"\n",
"disp('the_oscillation_occurs_at_ DN=1.25 for n=1 ');\n",
"N=1.25/D;\n",
"disp(N,'then N=');\n",
"\n",
"l=(2*%pi*N)/Be;\n",
"l=l*100;//in_cm\n",
"disp(l,'and l= 2*pi*N/Be(in cm) = ')\n",
""
   ]
   }
],
"metadata": {
		  "kernelspec": {
		   "display_name": "Scilab",
		   "language": "scilab",
		   "name": "scilab"
		  },
		  "language_info": {
		   "file_extension": ".sce",
		   "help_links": [
			{
			 "text": "MetaKernel Magics",
			 "url": "https://github.com/calysto/metakernel/blob/master/metakernel/magics/README.md"
			}
		   ],
		   "mimetype": "text/x-octave",
		   "name": "scilab",
		   "version": "0.7.1"
		  }
		 },
		 "nbformat": 4,
		 "nbformat_minor": 0
}
