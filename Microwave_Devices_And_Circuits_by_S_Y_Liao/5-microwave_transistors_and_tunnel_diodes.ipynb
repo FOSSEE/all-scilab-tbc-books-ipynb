{
"cells": [
 {
		   "cell_type": "markdown",
	   "metadata": {},
	   "source": [
       "# Chapter 5: microwave transistors and tunnel diodes"
	   ]
	},
{
		   "cell_type": "markdown",
		   "metadata": {},
		   "source": [
			"## Example 5.1_1: Elements_of_Hybrid_Pi_Common_Emitter_Circuit.sce"
		   ]
		  },
  {
"cell_type": "code",
	   "execution_count": null,
	   "metadata": {
	    "collapsed": true
	   },
	   "outputs": [],
"source": [
"//CHAPTER NO.-5\n",
"//Example No.5-1-1 , Page No.-195 \n",
"                                                                     \n",
"//(a) Program_to_find_the_mutual_inductance_gm. \n",
"         \n",
"                                                                     \n",
"ic=6*(10^-3);//Collector_Current\n",
"vt=26*(10^-3); //vt=26mV_at_300k_is_the_voltage_equivalent_of_temperature        \n",
"gm=ic/vt;//the_mutual_inductance_is gm=(ic/vt)   \n",
"disp(gm,'the_mutual_inductance_is gm(in mho)=');                      \n",
"//(b) Program_to_find_the_input_inductance_gb_and_resistance_R \n",
"hfe=120;//hfe= common-emitter_current_gain_factor\n",
"gb=gm/hfe;//input_inductance\n",
"R=1/gb; //Resistance\n",
"disp(gb,'input_inductance gb(in mho)=');\n",
"disp(R,'input_resistance R (in ohms)=');\n",
"//(c)Program_to_find_the_electron_diffusion_coefficient_Dn\n",
"un=1600;//electron_Mobility\n",
"Dn=un*vt; // Dn=un*kt/q=un*26*(10^-3);\n",
"disp(Dn,'electron_diffusion_coefficient_Dn(in cm2/s)=');\n",
"//(d)Program_to_find_the_diffusion_capacitance_Cbe\n",
"Wb=(10^-8); //cross_sectional_area\n",
"Cbe=(gm*(Wb^2))/(2*Dn*(10^-7));\n",
"Cbe=Cbe/(10^-12);\n",
"disp(Cbe,'diffusion_capacitance_Cbe(in pF)=');"
   ]
   }
,
{
		   "cell_type": "markdown",
		   "metadata": {},
		   "source": [
			"## Example 5.1_2: I_V_Characteristics_of_n_p_n_transistor.sce"
		   ]
		  },
  {
"cell_type": "code",
	   "execution_count": null,
	   "metadata": {
	    "collapsed": true
	   },
	   "outputs": [],
"source": [
"//CHAPTER NO.-5\n",
"//Example No.5-1-2 , Page No.-203 \n",
"                                                                     \n",
"//(a) Program_to_find_the_impurity_desities_in_the_emitter,base_and_collector_regions\n",
"                                                                                                                           \n",
"disp('the impurity densities (in cm-3)are read from Fig A-1 in the Appendix A as NdE=1*(10^19)[the impurity density in the n-type emitter region], NaB=1.5*(10^17) [the impurity density in the p-type base region],NdC=3*(10^14)[the impurity density in the n-type collector region]'); \n",
"NdE=1*(10^19); \n",
"NaB=1.5*(10^17);\n",
"NdC=3*(10^14);\n",
"//(b)Program_to_find_the_mobilities_in_the_emitter,base and collector_regions\n",
"disp('the mobilities(in cm2/v*s)are read from fig A-2 in the Appendix A as upe=80[mobility in the emitter] , unE=105[mobility in the emitter] , upB=400[mobility in the base] , unC=1600[mobility in the collector]'); \n",
"upE=80;\n",
"unE=105;\n",
"upB=400;\n",
"unC=1600;\n",
"//(c)Program_to_find_the_diffusion_lengths_in_the_emitter,base and collector_regions\n",
"disp('the_diffusion_constants_are_computed_to_be');\n",
"Vt=26*(10^-3);\n",
"DpE=upE*Vt;\n",
"DnE=unE*Vt;\n",
"DpB=upB*Vt;\n",
"DnC=unC*Vt;\n",
"disp(DpE,'DpE=');\n",
"disp(DnE,'DnE=');\n",
"disp(DpB,'DpB=');\n",
"disp(DnC,'DnC=');\n",
"//(d)Program_to_compute_the_equilibrium_densities_in the emitter,base and_collector_regions\n",
"disp('the_equlibrium_densities_are');\n",
"ni=1.5*(10^10);\n",
"pEo=(ni^2)/NdE; \n",
"npB=(ni^2)/NaB;\n",
"pCo=(ni^2)/NdC;\n",
"disp(npB,'npB=');\n",
"disp(pEo,'pEo=');\n",
"disp(pCo,'pCo=');\n",
"//(e)Program_to_compute_the_terminal_currents\n",
"disp('the_terminal_currents_are_computed_as follows. From Eq 5-1-39, the_electron_current_in_the_emitter_is ');\n",
"A=2*(10^-2);// cross-section_area\n",
"q=1.6*(10^-19);\n",
"W=(10^-5);//base_width\n",
"Le=(10^-4);//Diffusion_length_in_emitter\n",
"Ve=.5;//Emitter_junction_voltage\n",
"InE=-(A*q*DnE*(ni^2)*exp(Ve/Vt))/(NaB*W);//Ine=-(Aq*Dp*(ni^2)*(exp(Ve/Vt)-1))/(Le*Nd);\n",
"InE=InE/(10^-3);\n",
"disp(InE,'the_electron_current_in_the_emitter_is(in mA)');\n",
"disp('From Eq5-1-42,_the_hole_current_in_the_emitter_is ');\n",
"IpE=(A*q*DpE*(ni^2)*(exp(Ve/Vt)-1))/(Le*NdE);//Ipe=(A*q*De*peo*(exp(Ve/Vt)-1))/Le  =  (A*q*Dp*(ni^2)*(exp(Ve/Vt)-1))/(Le*Nd)\n",
"IpE=IpE/(10^-6);\n",
"disp(IpE,'the_electron_current_in_the_emitter_is(in uA)');\n",
"disp('From Eq-5-1-24, the_reverse_saturation_current_in_the_collector_is ');\n",
"ICo=-(A*q*DnE*(ni^2)/(NaB*W))-(A*q*DpE*pEo)/Le;\n",
"ICo=ICo/(10^-12);\n",
"disp(ICo,'the_electron_current_in_the_emitter_is(in pA)');\n",
"disp('From Eq-5-1-40,_the_electron_current_which_reaches_the_collector is ');\n",
"InC=-(A*q*DnE*(ni^2)*exp(Ve/Vt)/(NaB*W));\n",
"InC=InC/(10^-3);\n",
"disp(InC,'the_electron_current_which_reaches_the_collector_is (in mA)');\n",
"IE=(-IpE*(10^-6))+(InE*(10^-3));\n",
"IE=IE/(10^-3);\n",
"disp(IE,'the_emitter_current_is (in mA)');\n",
"IC=(-ICo*(10^-12))-(InC*(10^-3));\n",
"IC=IC/(10^-3);\n",
"disp(IC,'the_collector_current_is (in mA)');\n",
"IB=(IpE*(10^-6))-[((InE*(10^-3)))-(InC*(10^-3))]+(ICo*(10^-12));\n",
"IB=IB/(10^-6);\n",
"disp(IB,'the_current_in_the_base_terminal_is_(in uA)');\n",
"disp('NOTE: The_recombination-generation_currents_in_the_spcae-charge_regions_are_not_counted');"
   ]
   }
,
{
		   "cell_type": "markdown",
		   "metadata": {},
		   "source": [
			"## Example 5.1_3: Silicon_Bipolar_Transistor.sce"
		   ]
		  },
  {
"cell_type": "code",
	   "execution_count": null,
	   "metadata": {
	    "collapsed": true
	   },
	   "outputs": [],
"source": [
"//CHAPTER NO.-5\n",
"//Example No.5-1-3 , Page No.-206 \n",
"                                                                     \n",
"//(a) Program_to_find_the_mobilities_un_and_up \n",
" disp('the mobilities(in cm2/v.s )are read from Fig-A-2 in Appendix A as un=200 for NdE=5*(10^18) cm-3 and up=500 for Na=5*(10^16) cm-3');\n",
"  un=200;\n",
"  up=500;\n",
"  \n",
"  //(b) Program_to_find_the_diffusion_coefficients_Dn_and_Dp \n",
"  Vt=26*(10^-3);//Vt=kt/q\n",
"  Dn=un*Vt;\n",
"  Dp=up*Vt;  \n",
"  \n",
"  disp(Dn,'diffusion_coefficient_are_Dn(in cm2/s)=');  \n",
"  disp(Dp,'and__Dp(in cm2/s)=');                \n",
"//(c) Program_to_find_the_emitter_efficiency_factor_y\n",
"W=(10^-3);//Base_width\n",
"Le=(10^-2);//Emitter_Length\n",
"Na=5*(10^16);//Acceptor_density_in_base_region\n",
"Nd=5*(10^18);//Donor_density_in_emitter_region\n",
"y=1/(1+((Dp*Na*W)/(Dn*Nd*Le)));\n",
"disp(y,'emitter_efficiency_factor_y=');\n",
"//(d) Program_to_find_the_transport_factor_B\n",
"t=10^-6;//hole_lifetime\n",
"B=1-(W^2)/(2*Dn*t);//transport_factor\n",
"disp(B,'the transport factor B=');\n",
"//(e) Program_to_find_the_current_gain_a\n",
"a=B*y;\n",
"disp(a,'the current_gain a=');"
   ]
   }
,
{
		   "cell_type": "markdown",
		   "metadata": {},
		   "source": [
			"## Example 5.1_4: Power_Frequency_Limitation.sce"
		   ]
		  },
  {
"cell_type": "code",
	   "execution_count": null,
	   "metadata": {
	    "collapsed": true
	   },
	   "outputs": [],
"source": [
"//CHAPTER NO.-5\n",
"//Example No.5-1-4 , Page No.-211 \n",
"                                                                     \n",
"// Program_to_determine_the_maximum_allowable_power_that_the_transisitor_can_carry \n",
"    \n",
"  Xc=1;//Reactance\n",
"  ft=4*(10^9);//Transit_cut-off_frequency\n",
"  Em=1.6*(10^5);//maximum_electric_field\n",
"  Vx=4*(10^5);//saturation_drift_velocity\n",
"  \n",
"  Pm=(((Em*Vx/(2*%pi)))^2)/(Xc*(ft^2)); \n",
" disp(Pm,'the_maximum _allowable_power(in W)_that_the_transisitor_can_carry_is ');"
   ]
   }
,
{
		   "cell_type": "markdown",
		   "metadata": {},
		   "source": [
			"## Example 5.2_1: Heterojunction_Bipolar_Transistor.sce"
		   ]
		  },
  {
"cell_type": "code",
	   "execution_count": null,
	   "metadata": {
	    "collapsed": true
	   },
	   "outputs": [],
"source": [
"//CHAPTER NO.-5\n",
"//Example No.5-2-1 , Page No.-213 \n",
"                                                                     \n",
"//(a) Program_to_determine_the_latice_match_present_in_percent \n",
"  disp('the_latice_match_present_is_within 1%');  \n",
"  \n",
"  //(b) Program_to_find_the_conduction-band_differential_between_Ge_and_GeAs\n",
"  X1=4;//electron_affinity\n",
"  X2=4.07;//electron_affinity\n",
"  AE=X1-X2;\n",
"disp(AE,'the_conduction-band differential_is(in eV) =');  \n",
"  \n",
"//(c) Program_to_find_the_valence-band_differential_between_Ge_and_GeA  \n",
"   Eg2=1.43;//energy_gap\n",
" Eg1=.8;//energy_gap\n",
"  Ev=Eg2-Eg1-AE\n",
"disp(Ev,'the valence-band differential is(in eV) =');  \n",
" "
   ]
   }
,
{
		   "cell_type": "markdown",
		   "metadata": {},
		   "source": [
			"## Example 5.2_2: n_Ge_p_GaAs_n_GaAs_HBT.sce"
		   ]
		  },
  {
"cell_type": "code",
	   "execution_count": null,
	   "metadata": {
	    "collapsed": true
	   },
	   "outputs": [],
"source": [
"//CHAPTER NO.-5\n",
"//Example No.5-2-2 , Page No.-215 \n",
"                                                                     \n",
"//(a) Program_to_compute_the_built-in voltage_in_the p-GaAs_side\n",
" Na=6*(10^16); //Acceptor_density_in_p-GaAs_side\n",
"  w02=-26*(10^-3)*log(Na/(1.8*(10^6)));                                                              \n",
"disp(w02,'the_built-in_voltage(in V)  in_the p-GaAs_side');  \n",
"                                                                   \n",
" //(b) Program_to_compute_the_hole_mobility \n",
" \n",
" disp('The hole mobility is read from Fig -A-2 in Appendix A as up=400(cm2/v.s)'); \n",
" up=400;\n",
" \n",
" //(c) Program_to_compute_the_hole_diffusion_constant\n",
" Dp=up*26*(10^-3); \n",
" \n",
" disp(Dp,'The_hole_diffusion_constant_is Dp(cm2/s)=');\n",
" \n",
" \n",
"  //(d) Program_to_compute_the_minority_hole_density in n-Ge \n",
"  \n",
"  ni=1.5*(10^10);\n",
"  Nd=5*(10^18);//Donor_density_in_n-Ge_region\n",
"  pno=(ni^2)/Nd;\n",
"   disp(pno,'the_minority_hole density (cm-3)in_n-Ge_is =');\n",
"   \n",
"     //(e) Program_to_compute_the_minority_electron_density_in_p-GaAs_region \n",
"  Na=6*(10^16);\n",
" npo=((1.8*10^6)^2)/Na;\n",
"   disp(npo,'the_minority_electron_density(in cm-3)_in_p-GaAs_region_is =');\n",
"   \n",
"   \n",
"   //(e) Program_to_compute_the_hole_diffusion_length \n",
"   tp=6*(10^-6);//hole_lifetime\n",
"   Lp=sqrt(tp*Dp);\n",
"   disp(Lp,'the_hole_diffusion_length(in cm) is =');\n",
"   \n",
"   //(e) Program_to_compute_the_emitter-junction_current \n",
"   \n",
"   A=2*(10^-2);//cross_section\n",
"   VE=1;//bias_voltage_at_emitter_junction\n",
"   q=1.6*(10^-19);\n",
"   l=VE/(26*(10^-3));\n",
"   I=(A*q*Dp*pno*(exp(l)-1))/(Lp);\n",
"   disp(I,'the_emitter-junction_current(in A)is =');\n",
"   \n",
"   "
   ]
   }
],
"metadata": {
		  "kernelspec": {
		   "display_name": "Scilab",
		   "language": "scilab",
		   "name": "scilab"
		  },
		  "language_info": {
		   "file_extension": ".sce",
		   "help_links": [
			{
			 "text": "MetaKernel Magics",
			 "url": "https://github.com/calysto/metakernel/blob/master/metakernel/magics/README.md"
			}
		   ],
		   "mimetype": "text/x-octave",
		   "name": "scilab",
		   "version": "0.7.1"
		  }
		 },
		 "nbformat": 4,
		 "nbformat_minor": 0
}
