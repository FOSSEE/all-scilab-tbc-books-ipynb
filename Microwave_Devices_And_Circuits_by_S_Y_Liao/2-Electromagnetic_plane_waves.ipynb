{
"cells": [
 {
		   "cell_type": "markdown",
	   "metadata": {},
	   "source": [
       "# Chapter 2: Electromagnetic plane waves"
	   ]
	},
{
		   "cell_type": "markdown",
		   "metadata": {},
		   "source": [
			"## Example 2.6_5: Calculation_of_a_Gold_Film_Coating.sce"
		   ]
		  },
  {
"cell_type": "code",
	   "execution_count": null,
	   "metadata": {
	    "collapsed": true
	   },
	   "outputs": [],
"source": [
"//chapter_no.-2,  page_no.-69\n",
"//Example No.-2-6-5  \n",
"clc;\n",
"                               \n",
"//(a) Program_to_find_gold-film_surface_resistance \n",
"                                                                                   \n",
"                                                                         \n",
"t=80*(10^(-10));//Film_Thickness\n",
"o=4.1*(10^7);    //Bulk_conductivity                                                                                                                   \n",
"p=570*(10^(-10));   //Electron_mean_free_path                                                                                                            \n",
"of=[(3*t*o)/(4*p)]*[0.4228 + log(p/t)];//the_gold-film_conductivity_is_of=[3*t*o/4*p]*[0.4228 + ln(p/t)] \n",
"Rs=1/(t*of);//the_gold_film_surface_resistance_is_given_by__Rs=1/(t*of) in_Ohms_per_square\n",
"disp(Rs,'the_gold_film_surface_resistance_in_Ohms_per_square_is');\n",
"//(b) Program_to_find_the_microwave_attenuation \n",
"Attenuation=40-20*log10(Rs)       //Microwave_attenuation  \n",
"disp(Attenuation,'Microwave__Attenuation_is_in_db_is:');\n",
"//(c)Light_transmittance_T\n",
"disp('From figure No.2-6-5 of Light transmittance T and light attenuation loss L versus wavelength with film thickness t as parameter for gold film, we find that for given gold film of thickness 80 angstrom ,the LIGHT TRANSMITTANCE T is estimated to be 75%');\n",
"//(d)light_reflection_loss_R\n",
"disp('From_the_same_figure_the_LIGHT_REFLECTION_LOSS_R_is_about_25% ');\n",
"                                                             "
   ]
   }
,
{
		   "cell_type": "markdown",
		   "metadata": {},
		   "source": [
			"## Example 2.6_6: Computation_of_a_Copper_Film_Coating.sce"
		   ]
		  },
  {
"cell_type": "code",
	   "execution_count": null,
	   "metadata": {
	    "collapsed": true
	   },
	   "outputs": [],
"source": [
"//chapter_no.-1,  page_no.-74                                        \n",
"//Example No.-2-6-6 \n",
"clc;              \n",
"                           \n",
"//(a) Program_to_find_copper-film_surface_resistance \n",
"                              \n",
"                                                                         \n",
"t=60*(10^(-10));//Film_Thickness\n",
"o=5.8*(10^7);    //Bulk_conductivity                                                                                                                   \n",
"p=420*(10^(-10));   //Electron_mean_free_path                                                                                                            \n",
"of=[(3*t*o)/(4*p)]*[0.4228 + log(p/t)];////the_copper-film_conductivity_is__of=[3*t*o/4*p]*[0.4228 + ln(p/t)]\n",
"Rs=1/(t*of);//the_copper_film_surface_resistance_is_given_by__Rs=1/(t*of) in_Ohms_per_square\n",
"disp(Rs,'the_copper_film_surface_resistance_in_Ohms_per_square_is');\n",
"//(b) Program_to_find_the_microwave_attenuation \n",
"Attenuation=40-20*log10(Rs)       //Microwave_attenuation  \n",
"disp(Attenuation,'Microwave__Attenuation__in db is:');\n",
"//(c)Light_transmittance_T\n",
"disp('From figure No.2-6-11 of Light transmittance T and light attenuation loss L versus wavelength with film thickness t as parameter for copper film, we find that for given copper film of thickness 60 angstrom ,the LIGHT TRANSMITTANCE T is estimated to be 82%');\n",
"//(d)light_reflection_loss_R\n",
"disp('From the same figure the LIGHT REFLECTION LOSS R is about 18% ');"
   ]
   }
],
"metadata": {
		  "kernelspec": {
		   "display_name": "Scilab",
		   "language": "scilab",
		   "name": "scilab"
		  },
		  "language_info": {
		   "file_extension": ".sce",
		   "help_links": [
			{
			 "text": "MetaKernel Magics",
			 "url": "https://github.com/calysto/metakernel/blob/master/metakernel/magics/README.md"
			}
		   ],
		   "mimetype": "text/x-octave",
		   "name": "scilab",
		   "version": "0.7.1"
		  }
		 },
		 "nbformat": 4,
		 "nbformat_minor": 0
}
