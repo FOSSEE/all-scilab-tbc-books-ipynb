{
"cells": [
 {
		   "cell_type": "markdown",
	   "metadata": {},
	   "source": [
       "# Chapter 10: Ch10"
	   ]
	},
{
		   "cell_type": "markdown",
		   "metadata": {},
		   "source": [
			"## Example 10.10: Machine_design.sce"
		   ]
		  },
  {
"cell_type": "code",
	   "execution_count": null,
	   "metadata": {
	    "collapsed": true
	   },
	   "outputs": [],
"source": [
"clc\n",
"//solution\n",
"//given\n",
"//ref fig 10.25\n",
"D=50//mm\n",
"s=15//mm\n",
"P=10000//N\n",
"e=200//mm\n",
"//let t is thickness of throat\n",
"//A=t*pi*D\n",
"pi=3.14\n",
"A=0.707*s*pi*D//mm^2\n",
"t=P/A//N/mm^2\n",
"M=P*e//N-mm\n",
"Z=pi*.707*s*D^2/4//mm^3\n",
"fb=M/Z//N/mm^2\n",
"ftmax=(0.5*fb)+(0.5*sqrt(fb^2+4*t^2))//N/mm^2\n",
"Tmax=(0.5*sqrt(fb^2+4*t^2))//N/mm^2\n",
"printf('the max normal stress and shear stress are,%f N/mm^2\n,%f N/mm^2 respectively',ftmax,Tmax)"
   ]
   }
,
{
		   "cell_type": "markdown",
		   "metadata": {},
		   "source": [
			"## Example 10.11: Machine_design.sce"
		   ]
		  },
  {
"cell_type": "code",
	   "execution_count": null,
	   "metadata": {
	    "collapsed": true
	   },
	   "outputs": [],
"source": [
"clc\n",
"//solution\n",
"//given\n",
"//ref fig 10.26\n",
"P=25*10^3//N\n",
"Tmax=75*10^3//N\n",
"l=100//mm\n",
"b=150//mm\n",
"e=500//mm\n",
"//let t is thickness of throat and s size\n",
"//t=0.707*s\n",
"//A=t*(2*b+2*l)=353.5*s//mm^2\n",
"//t=P/A\n",
"//t=70.72/s//N/mm^2\n",
"M=P*e//N-mm\n",
"//Z=t*[b*l+ b^2/3]=15907.5*s//mm^3\n",
"//fb=M/Z//\n",
"//fb=P*e/Z//\n",
"//fb=785.8/s//N/mm^2\n",
"//Tmax=0.5*[sqrt(fb^2+4*t^2)]\n",
"//75=399.2/s\n",
"s=399.2/75//mm\n",
"printf('the sieze of weld is,%f mm',s)"
   ]
   }
,
{
		   "cell_type": "markdown",
		   "metadata": {},
		   "source": [
			"## Example 10.12: Machine_design.sce"
		   ]
		  },
  {
"cell_type": "code",
	   "execution_count": null,
	   "metadata": {
	    "collapsed": true
	   },
	   "outputs": [],
"source": [
"clc\n",
"//solution\n",
"//given\n",
"//ref fig 10.27\n",
"P=15*10^3//N\n",
"Tmax=120//N/mm^2\n",
"d=80//mm\n",
"//let s be size of weld\n",
"T=P*240//N-mm//torque\n",
"//t=(2.83*T)/(pi*s*80^2)=506.6/s\n",
"M=P*175//N-mm\n",
"//fb=(5.66*M)/(pi*s*80^2)=(738.8/s)//N/mm^2\n",
"//Tmax=0.5*(sqrt(fb^2+t^2))\n",
"//Tmax=627/s\n",
"s=627/Tmax//mm\n",
"printf('the sieze of weld is,%f mm',s)"
   ]
   }
,
{
		   "cell_type": "markdown",
		   "metadata": {},
		   "source": [
			"## Example 10.13: Machine_design.sce"
		   ]
		  },
  {
"cell_type": "code",
	   "execution_count": null,
	   "metadata": {
	    "collapsed": true
	   },
	   "outputs": [],
"source": [
"clc\n",
"//solution\n",
"//given\n",
"//ref fig 10.28\n",
"P=15000//N\n",
"T=80//N/mm^2\n",
"b=80//mm\n",
"l=50//mm\n",
"e=125//mm\n",
"//let s be size of weld\n",
"//A=2*t*l//70.7*s//mm^2\n",
"//T1=P/A//N/mm^2//direct stress\n",
"//T1=212/s\n",
"//J=t*l*(3*b^2+l^2)/6//mm^4\n",
"//J=127850*s//mm^4\n",
"ab=40//mm\n",
"bg=25//mm=r1\n",
"r2=(sqrt(ab^2+bg^2))//mm\n",
"printf('the value of r2 is,%f mm\n',r2)\n",
"//T2=P*e*r2/J\n",
"//T2=689.3/s//N/mm^2\n",
"//cos(q)=r1/r2=25/47=0.532\n",
"a=0.532\n",
"//T=sqrt(T1^+T2^2+2*T1*T2*a)\n",
"//80=822/s\n",
"s=822/80//mm\n",
"printf('the sieze of weld is,%f mm',s)"
   ]
   }
,
{
		   "cell_type": "markdown",
		   "metadata": {},
		   "source": [
			"## Example 10.14: Machine_design.sce"
		   ]
		  },
  {
"cell_type": "code",
	   "execution_count": null,
	   "metadata": {
	    "collapsed": true
	   },
	   "outputs": [],
"source": [
"clc\n",
"//solution\n",
"//given\n",
"//ref fig 10.28\n",
"P=15000//N\n",
"T=80//N/mm^2\n",
"b=80//mm\n",
"l=50//mm\n",
"e=125//mm\n",
"//let s be size of weld\n",
"//A=2*t*l//70.7*s//mm^2\n",
"//T1=P/A//N/mm^2//direct stress\n",
"//T1=212/s\n",
"//J=t*l*(3*b^2+l^2)/6//mm^4\n",
"//J=127850*s//mm^4\n",
"ab=40//mm\n",
"bg=25//mm=r1\n",
"r2=(sqrt(ab^2+bg^2))//mm\n",
"printf('the value of r2 is,%f mm\n',r2)\n",
"//T2=P*e*r2/J\n",
"//T2=689.3/s//N/mm^2\n",
"//cos(q)=r1/r2=25/47=0.532\n",
"a=0.532\n",
"//T=sqrt(T1^+T2^2+2*T1*T2*a)\n",
"//80=822/s\n",
"s=822/80//mm\n",
"printf('the sieze of weld is,%f mm',s)"
   ]
   }
,
{
		   "cell_type": "markdown",
		   "metadata": {},
		   "source": [
			"## Example 10.15: Machine_design.sce"
		   ]
		  },
  {
"cell_type": "code",
	   "execution_count": null,
	   "metadata": {
	    "collapsed": true
	   },
	   "outputs": [],
"source": [
"clc\n",
"//solution\n",
"//given\n",
"//ref fig 10.32 and 33\n",
"s=6//mm\n",
"P=20*10^3//N\n",
"l=40//mm\n",
"b=90//mm\n",
"//let t throat thickness\n",
"//let x is distance of Cg from left edge\n",
"x=l^2/(2*l+b)//mm\n",
"//J=t*[(b+2*l)^3/12-(l^2*(b+l)^2/(b*2*l))]\n",
"J=0.707*s*[{(b+2*l)^3/12}-{(l^2*(b+l)^2)/(b+2*l)}]//mm^4\n",
"printf('the value of J is,%f mm^4\n',J)\n",
"Bg=40\n",
"e=200-x//mm\n",
"r1=Bg-x//mm\n",
"Ab=(90/2)//mm\n",
"r2=sqrt(Ab^2+Bg^2)//mm\n",
"//cos(q)=r2/r1=0.5625\n",
"a=0.5625\n",
"A=2*0.707*s*l+(0.707*s*b)//mm^2\n",
"t1=P/A//N/mm^2'\n",
"t2=P*e*r2/J//N/mm^2\n",
"T=sqrt(t1^2 + t2^2 + 2*t1*t2*a)//N/mm^2'\n",
"printf( 'the value of x is,%f mm\n',x) \n",
"printf('the value of direct shear stress is,%f N/mm^2\n',t1)\n",
"printf('the value of secondary shear stress is,%f N/mm^2\n',t2)\n",
"printf('the max shera stress is,%f N/mm^2',T)"
   ]
   }
,
{
		   "cell_type": "markdown",
		   "metadata": {},
		   "source": [
			"## Example 10.16: Machine_design.sce"
		   ]
		  },
  {
"cell_type": "code",
	   "execution_count": null,
	   "metadata": {
	    "collapsed": true
	   },
	   "outputs": [],
"source": [
"clc\n",
"//solution\n",
"//given\n",
"//ref fig 10.34\n",
"P=15000//N\n",
"t=150//N/mm^2\n",
"l=25//mm\n",
"//Pva+Pvb=P,Pva=Pvb\n",
"Pva=P/2//N\n",
"Pvb=P/2//N\n",
"//balnce moments abt B\n",
"Pha=(P*50)/75//N\n",
"//let s1 be size at top\n",
"Pa=sqrt(Pva^2+Pha^2)//N\n",
"printf('the value of force at A is,%f N\n',Pa)\n",
"//Pa=thorat area* permissible stress\n",
"//Pa=0.707*s1*l*t=0.707*s1*25*150=2650*s1\n",
"s1=Pa/2650//mm\n",
"printf('the size of weld at top is,%f mm\n',s1)\n",
"//let s2 be size at bottom\n",
"//Pvb=0.707*s2*l*t\n",
"//Pvb=2650*s2\n",
"s2=Pvb/2650//mm\n",
"printf('the size of weld at bottom is,%f mm\n',s2)"
   ]
   }
,
{
		   "cell_type": "markdown",
		   "metadata": {},
		   "source": [
			"## Example 10.1: Machine_design.sce"
		   ]
		  },
  {
"cell_type": "code",
	   "execution_count": null,
	   "metadata": {
	    "collapsed": true
	   },
	   "outputs": [],
"source": [
"clc\n",
"//soltion\n",
"//given\n",
"b=100//mm//width\n",
"t=10//mm//thickness\n",
"P=80*10^3//N\n",
"T=55//N/mm^2\n",
"//let l and s be length of wled and size of weld\n",
"//s=t\n",
"s=10//mm\n",
"//P=1.414*s*l*T\n",
"l=P/(1.414*s*T)//mm\n",
"printf('the length of weld is,%f mm',l+12.5)"
   ]
   }
,
{
		   "cell_type": "markdown",
		   "metadata": {},
		   "source": [
			"## Example 10.2: Machine_design.sce"
		   ]
		  },
  {
"cell_type": "code",
	   "execution_count": null,
	   "metadata": {
	    "collapsed": true
	   },
	   "outputs": [],
"source": [
"clc\n",
"//solution\n",
"//given\n",
"d=50//mm\n",
"s=10//mm\n",
"Imax=80//N/mm^2\n",
"pi=3.14\n",
"//let T be max toque\n",
"//Imax=(2.83*T)/(pi*s*d^2)\n",
"T=Imax*pi*s*d^2/(2.83)//N-mm\n",
"printf('the value of max torque is,%f N-mm',T)"
   ]
   }
,
{
		   "cell_type": "markdown",
		   "metadata": {},
		   "source": [
			"## Example 10.3: Machine_design.sce"
		   ]
		  },
  {
"cell_type": "code",
	   "execution_count": null,
	   "metadata": {
	    "collapsed": true
	   },
	   "outputs": [],
"source": [
"//solution\n",
"//given\n",
"l=1000//mm\n",
"Imax=80//N/mm^2\n",
"s=15//mm\n",
"//let T be max toque\n",
"T=Imax*s*l^2/(4.242)//N-mm\n",
"printf('the value of max torque is,%f N-mm',T)"
   ]
   }
,
{
		   "cell_type": "markdown",
		   "metadata": {},
		   "source": [
			"## Example 10.4: Machine_design.sce"
		   ]
		  },
  {
"cell_type": "code",
	   "execution_count": null,
	   "metadata": {
	    "collapsed": true
	   },
	   "outputs": [],
"source": [
"clc\n",
"//solution\n",
"//given\n",
"b=100//mm//width\n",
"t=12.5//mm//thickness\n",
"P=50*10^3//N\n",
"T=56//N/mm^2\n",
"//let l and s be length of wled and size of weld\n",
"//s=t\n",
"s=12.5//mm\n",
"//P=1.414*s*l*T\n",
"l=P/(1.414*s*T)//mm\n",
"printf('the value of length of static weld is,%f mm\n',l+12.5)\n",
"T1=T/2.7//N\n",
"//P=1.414*s*l*T1\n",
"l1=P/(1.414*s*T1)//mm\n",
"printf('the value of length of static weld is,%f mm',l1+12.5)"
   ]
   }
,
{
		   "cell_type": "markdown",
		   "metadata": {},
		   "source": [
			"## Example 10.5: Machine_design.sce"
		   ]
		  },
  {
"cell_type": "code",
	   "execution_count": null,
	   "metadata": {
	    "collapsed": true
	   },
	   "outputs": [],
"source": [
"clc\n",
"//solution\n",
"//given\n",
"//ref fig 10.15\n",
"b=75//mm//width\n",
"t=12.5//mm//thickness\n",
"ft=70//N/mm^2\n",
"T=56//N/mm^2\n",
"l1=b-t//mm\n",
"s=12.5//mm\n",
"//let l2 be length of each parallel fillet for static loading\n",
"//P=A*ft\n",
"P=b*t*ft//N//max load\n",
"P1=0.707*s*l1*ft//N\n",
"//P2=1.414*s*l2*T=990*l2//N\n",
"//P=P1+P2\n",
"l2=(P-P1)/990//mm\n",
"printf('the value of length of static weld is,%f mm\n',l2+12.5)\n",
"//length of parallel fillet for fatique loading\n",
"ft1=ft/1.5//N/mm^2\n",
"T1=T/2.7//N/mm^2\n",
"P11=0.707*s*l1*ft1//N\n",
"//P2=1.414*s*l2*T1=366*l22//N\n",
"//P=P1+P2\n",
"l22=(P-P11)/366//mm\n",
"printf('the value of length of static weld is,%f mm\n',l22+12.5)"
   ]
   }
,
{
		   "cell_type": "markdown",
		   "metadata": {},
		   "source": [
			"## Example 10.6: Machine_design.sce"
		   ]
		  },
  {
"cell_type": "code",
	   "execution_count": null,
	   "metadata": {
	    "collapsed": true
	   },
	   "outputs": [],
"source": [
"clc\n",
"//solution\n",
"//given\n",
"//refer fig 10.16\n",
"b=120//mm//width\n",
"t=15//mm//thickness\n",
"l1=b-12.5//mm\n",
"s=15//mm\n",
"ft1=70//N/mm^2//tensile stress\n",
"ft2=56//N/mm^2//shear stress\n",
"//let l2 be length of weld\n",
"//P=A*ft\n",
"P=120*15*ft1//N\n",
"ft11=ft1/1.5//N/mm^2\n",
"ft22=ft2/2.7//N/mm^2\n",
"P1=0.707*s*l1*ft11//N\n",
"//P2=0.707*s*l2*ft22=440*l2//N\n",
"//P=P1+P2//N\n",
"l2=(P-P1)/440//mm\n",
"printf('the value of length of static weld is,%f mm\n',l2+12.5)"
   ]
   }
,
{
		   "cell_type": "markdown",
		   "metadata": {},
		   "source": [
			"## Example 10.7: Machine_design.sce"
		   ]
		  },
  {
"cell_type": "code",
	   "execution_count": null,
	   "metadata": {
	    "collapsed": true
	   },
	   "outputs": [],
"source": [
"clc\n",
"//solution\n",
"//given\n",
"//refer fig 10.16\n",
"b=120//mm//width\n",
"t=15//mm//thickness\n",
"l1=b-12.5//mm\n",
"s=15//mm\n",
"ft1=70//N/mm^2//tensile stress\n",
"ft2=56//N/mm^2//shear stress\n",
"//let l2 be length of weld\n",
"//P=A*ft\n",
"P=120*15*ft1//N\n",
"ft11=ft1/1.5//N/mm^2\n",
"ft22=ft2/2.7//N/mm^2\n",
"P1=0.707*s*l1*ft11//N\n",
"//P2=0.707*s*l2*ft22=440*l2//N\n",
"//P=P1+P2//N\n",
"l2=(P-P1)/440//mm\n",
"printf('the value of length of static weld is,%f mm\n',l2+12.5)"
   ]
   }
,
{
		   "cell_type": "markdown",
		   "metadata": {},
		   "source": [
			"## Example 10.8: Machine_design.sce"
		   ]
		  },
  {
"cell_type": "code",
	   "execution_count": null,
	   "metadata": {
	    "collapsed": true
	   },
	   "outputs": [],
"source": [
"clc\n",
"//solution\n",
"//given\n",
"//ref fig 10.21\n",
"P=200*10^3//n\n",
"T=75//N/mm^2\n",
"s=10//mm\n",
"//a+b=200//mm\n",
"//let la=length of weld at top\n",
"//lb=length of weld at bottom\n",
"//l=la+lb//total length of belt\n",
"//P=0.707*s*l*T\n",
"l=P/(0.707*s*T)//mm\n",
"b=[(200-10)*10*95+(150*10*5)]/(190*10+1500)//mm\n",
"a=200-b//mm\n",
"la=l*b/(a+b)//mm\n",
"lb=l-la//mm\n",
"printf('the value of length at top and bottom is,%f mm\n,%f mm',la,lb)"
   ]
   }
,
{
		   "cell_type": "markdown",
		   "metadata": {},
		   "source": [
			"## Example 10.9: Machine_design.sce"
		   ]
		  },
  {
"cell_type": "code",
	   "execution_count": null,
	   "metadata": {
	    "collapsed": true
	   },
	   "outputs": [],
"source": [
"clc\n",
"//solution\n",
"//given\n",
"P=2000//N\n",
"e=120//mm\n",
"l=40//mm\n",
"Tmax=25//N/mm^2\n",
"//let s be size of weld and t be throat thickness\n",
"//ref fig 10.24\n",
"//A=2*t*l\n",
"//A=2*0.707*s*l\n",
"//A=2*0.707*s*40\n",
"//A=56.56*s//mm^2\n",
"//t=P/A\n",
"//t=35.4/s//N/mm^2\n",
"M=P*e//N-mm\n",
"//Z=s*l^2/(4.242)//section modulus//mm^3\n",
"//fb=M/Z//\n",
"//fb=P*e/Z//\n",
"//fb=636.6/s\n",
"//Tmax=0.5*[sqrt(fb^2+4*t^2)]\n",
"//25=320.3/s\n",
"s=320.3/25//mm\n",
"printf('the sieze of weld is,%f mm',s)"
   ]
   }
],
"metadata": {
		  "kernelspec": {
		   "display_name": "Scilab",
		   "language": "scilab",
		   "name": "scilab"
		  },
		  "language_info": {
		   "file_extension": ".sce",
		   "help_links": [
			{
			 "text": "MetaKernel Magics",
			 "url": "https://github.com/calysto/metakernel/blob/master/metakernel/magics/README.md"
			}
		   ],
		   "mimetype": "text/x-octave",
		   "name": "scilab",
		   "version": "0.7.1"
		  }
		 },
		 "nbformat": 4,
		 "nbformat_minor": 0
}
