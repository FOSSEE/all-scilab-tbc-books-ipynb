{
"cells": [
 {
		   "cell_type": "markdown",
	   "metadata": {},
	   "source": [
       "# Chapter 28: ch28"
	   ]
	},
{
		   "cell_type": "markdown",
		   "metadata": {},
		   "source": [
			"## Example 28.1: Machine_design.sce"
		   ]
		  },
  {
"cell_type": "code",
	   "execution_count": null,
	   "metadata": {
	    "collapsed": true
	   },
	   "outputs": [],
"source": [
"//find\n",
"clc\n",
"//solution\n",
"//given\n",
"G=10\n",
"//Tg/Tp=10\n",
"//Dg/Dp=10\n",
"L=660//mm\n",
"P=500*1000//W\n",
"Np=1800//rpm\n",
"q=(%pi/180)*22.5\n",
"Wn=175//N/mm\n",
"Aw=1\n",
"//Tp=(2*Aw)/[G*{sqrt(1+1/G*(1/G +2)*(sin(q))^2)-1}]\n",
"//x=G*{sqrt(1+1/G*(1/G +2)*(sin(q))^2)-1}\n",
"printf('numbr of teeth on pinion is,%f\n',Tp)\n",
"printf('numbr of teeth on pinion is,say 14\n')\n",
"Tp=14\n",
"Tg=G*Tp\n",
"//L=Dg/2+Dp/2=5.5*Dp///Dg/Dp=10\n",
"Dp=L/5.5\n",
"Dg=10*Dp\n",
"m=Dp/Tp\n",
"printf('modulde is,%f \n',m)\n",
"Tp1=Dp/m\n",
"Tg1=G*Tp1\n",
"printf('numbr of teeth on pinion and gear is,%f \n,%f \n',Tp1,Tg1)\n",
"T=P*60/(2*%pi*Np)//N-m\n",
"Wt=T/(Dp/2)\n",
"Wn=Wt/cos(q)\n",
"b=Wn/175*1000//mm\n",
"printf('width is,%f mm\n',b)"
   ]
   }
,
{
		   "cell_type": "markdown",
		   "metadata": {},
		   "source": [
			"## Example 28.2: Machine_design.sce"
		   ]
		  },
  {
"cell_type": "code",
	   "execution_count": null,
	   "metadata": {
	    "collapsed": true
	   },
	   "outputs": [],
"source": [
"//find\n",
"clc\n",
"//solution\n",
"//given\n",
"Np=600//rpm\n",
"vr=4//Tg/Tp=4\n",
"fop=84//N/mm^2\n",
"fog=105//N/mm^2\n",
"Tp=16\n",
"m=8//mm\n",
"b=90//mm\n",
"Dp=m*Tp/1000//m\n",
"v=%pi*Dp*Np/60//m/s\n",
"Cv=3/(3+v)\n",
"yp=0.154-(0.912/Tp)\n",
"yg=0.154-(0.912/Tg)\n",
"//fop*yp<fog*yg...therefore diseign is pinion based\n",
"Wt=fop*Cv*b*%pi*m*yp//N\n",
"P=Wt*v\n",
"printf('power trans is,%f W\n',P)"
   ]
   }
,
{
		   "cell_type": "markdown",
		   "metadata": {},
		   "source": [
			"## Example 28.3: Machine_design.sce"
		   ]
		  },
  {
"cell_type": "code",
	   "execution_count": null,
	   "metadata": {
	    "collapsed": true
	   },
	   "outputs": [],
"source": [
"//find\n",
"clc\n",
"//solution\n",
"//given\n",
"P=20000//W\n",
"Np=300//rpm\n",
"vr=3//Tg/Tp=3\n",
"fop=120//N/mm^2\n",
"fog=100\n",
"Tp=15\n",
"//b=14*m\n",
"//v=%pi*Dp*Np/60=%pi*m*Tp*Np/60=0.236*m//m/s\n",
"Cs=1\n",
"//Wt=(P/v)*Cs=84746/m//N\n",
"//Cv=3/(3+v)=3/(3+0.236*m)\n",
"yp=0.154-(0.912/Tp)\n",
"Tg=3*Tp\n",
"yg=0.154-(0.912/Tg)\n",
"//fop*yp<fog*yg....desing is pinion based\n",
"//Wt=fop*Cv*b*%pi*m*yp//N=1476*m^2/(3+0.236m)\n",
"//using hit and trial,m=6.4\n",
"//taking m=8 standard value\n",
"m=8\n",
"printf('module is,%f mm\n',m)\n",
"b=14*m\n",
"printf('face width is,%f mm\n',b)\n",
"Dp=m*Tp\n",
"Dg=m*Tg\n",
"printf('pitch dia of pinion and gear is,%f \n,%f \n',Dp,Dg)"
   ]
   }
,
{
		   "cell_type": "markdown",
		   "metadata": {},
		   "source": [
			"## Example 28.4: Machine_design.sce"
		   ]
		  },
  {
"cell_type": "code",
	   "execution_count": null,
	   "metadata": {
	    "collapsed": true
	   },
	   "outputs": [],
"source": [
"//find\n",
"clc\n",
"//solution\n",
"//given\n",
"P=22500//W\n",
"vr=2//Dg/Dp=2\n",
"Np=200//rpm\n",
"L=600//mm\n",
"fop=60\n",
"fog=60\n",
"//b=10m\n",
"C=80\n",
"K=1.4\n",
"//L=Dg/2+Dp/2=1.5*Dp\n",
"Dp=L/1.5\n",
"Dg=2*Dp\n",
"v=%pi*Dp*Np/60//m/s\n",
"Cv=3/(3+v)\n",
"//Tp=Dp/m\n",
"//yp=0.175-(0.841/Tp)\n",
"//yp=0.175-0.0021*m\n",
"Cs=1//assume\n",
"Wt=P*Cs/v//N\n",
"//Wt=fop*Cv*b*%pi*m*yp//N=137.6m^2-1.65m^3\n",
"//using hit and trial,m=0.65\n",
"//taking m=8 standard value\n",
"m=8\n",
"printf('module is,%f mm\n',m)\n",
"b=14*m\n",
"printf('face width is,%f mm\n',b)\n",
"Tp=Dp/m\n",
"Tg=Dg/m\n",
"printf('numbr of teeth on pinion and gear is,%f \n,%f \n',Tp,Tg)"
   ]
   }
,
{
		   "cell_type": "markdown",
		   "metadata": {},
		   "source": [
			"## Example 28.5: Machine_design.sce"
		   ]
		  },
  {
"cell_type": "code",
	   "execution_count": null,
	   "metadata": {
	    "collapsed": true
	   },
	   "outputs": [],
"source": [
"//find\n",
"clc\n",
"//solution\n",
"//given\n",
"L=500//mm\n",
"Nm=900//rpm\n",
"Nc=200//rpm\n",
"T=5000//N-m\n",
"Tmax=1.25*T\n",
"vr=Nm/Nc\n",
"//Dp+Dg=(L*2)...eq1\n",
"//Dg=vr*Dp....eq2\n",
"//usieng eq1 and eq2\n",
"Dp=182//mm\n",
"Dg=4.5*Dp/1000//m\n",
"v=%pi*Dg*Nc/60//m/s\n",
"Cv=3/(3+v)\n",
"fog=140\n",
"//yg=.175-(0.841/Tg)=0.175-0.841*m/Dg...Tg=Dg/m\n",
"//yg=0.175-0.001m\n",
"Wt=2*Tmax/Dg//N\n",
"//Wt=fog*Cv*b*%pi*m*yg=200*m^2-1.144m^3....\n",
"//using hit anf trial m=8.95,say 10\n",
"m=10//mm\n",
"b=10*m\n",
"printf('module is,%f mm\n',m)\n",
"printf('face width is,%f mm\n',b)\n",
"Tp=Dp/m\n",
"Tg=Dg/m\n",
"Dp=m*Tp\n",
"Dg=m*Tg\n",
"printf('pitch dia of pinion and gear si,%f mm\n,%f mm\n',Dp,Dg*1000)"
   ]
   }
,
{
		   "cell_type": "markdown",
		   "metadata": {},
		   "source": [
			"## Example 28.6: Machine_design.sce"
		   ]
		  },
  {
"cell_type": "code",
	   "execution_count": null,
	   "metadata": {
	    "collapsed": true
	   },
	   "outputs": [],
"source": [
"//find\n",
"clc\n",
"//solution\n",
"//given\n",
"L=500//mm\n",
"Nm=900//rpm\n",
"Nc=200//rpm\n",
"T=5000//N-m\n",
"Tmax=1.25*T\n",
"vr=Nm/Nc\n",
"//Dp+Dg=(L*2)...eq1\n",
"//Dg=vr*Dp....eq2\n",
"//usieng eq1 and eq2\n",
"Dp=182//mm\n",
"Dg=4.5*Dp/1000//m\n",
"v=%pi*Dg*Nc/60//m/s\n",
"Cv=3/(3+v)\n",
"fog=140\n",
"//yg=.175-(0.841/Tg)=0.175-0.841*m/Dg...Tg=Dg/m\n",
"//yg=0.175-0.001m\n",
"Wt=2*Tmax/Dg//N\n",
"//Wt=fog*Cv*b*%pi*m*yg=200*m^2-1.144m^3....\n",
"//using hit anf trial m=8.95,say 10\n",
"m=10//mm\n",
"b=10*m\n",
"printf('module is,%f mm\n',m)\n",
"printf('face width is,%f mm\n',b)\n",
"Tp=Dp/m\n",
"Tg=Dg/m\n",
"Dp=m*Tp\n",
"Dg=m*Tg\n",
"printf('pitch dia of pinion and gear si,%f mm\n,%f mm\n',Dp,Dg*1000)"
   ]
   }
,
{
		   "cell_type": "markdown",
		   "metadata": {},
		   "source": [
			"## Example 28.7: Machine_design.sce"
		   ]
		  },
  {
"cell_type": "code",
	   "execution_count": null,
	   "metadata": {
	    "collapsed": true
	   },
	   "outputs": [],
"source": [
"//find\n",
"clc\n",
"//solution\n",
"//given\n",
"Np=1500//rpm\n",
"P=15000//W\n",
"vr=3\n",
"q=(%pi/180)*14.5\n",
"Tp=25\n",
"fop=200\n",
"fog=200\n",
"t=40\n",
"P1=1.25*P\n",
"Tg=3*Tp\n",
"m=6//mm..assume\n",
"Dp=m*Tp/1000\n",
"Dg=m*Tg\n",
"v=%pi*Dp*Np/60//m/s\n",
"Cs=1\n",
"Wt=(P1/v)*Cs//N\n",
"Cv=3/(3+v)\n",
"yp=0.124-(0.684/Tp)\n",
"//let b be face width\n",
"b1=Wt/(fop*Cv*%pi*m*yp)//mm\n",
"printf('face width is,%f mm\n',b1)\n",
"//in practical situation b is btw 9.5m to 12.5m..sometime it is also taken as 6m\n",
"b=6*m\n",
"printf('face width actual is,%f mm\n',b)\n",
"printf('addndum,dedendum,working depth,min total depth,tooth thickness,min clearance is,%fmm \n,%fmm \n,%fmm \n,%fmm \n,%fmm \n,%fmm \n',m,1.25*m,2*m,2.25*m,1.5708*m,0.25*m)\n",
"Wn=Wt/sin(q)\n",
"Wp=0.00118*Tp*b*m^2//N\n",
"Wr=sqrt(Wn^2 + Wp^2 +2*Wn*Wp*cos(q))\n",
"M=Wr*100//N-mm\n",
"T=Wt*(Dp/2)*1000//N-mm\n",
"Te=sqrt(T^2 +M^2)\n",
"//let dp be pinion hub dia\n",
"dp=(Te/7.855)^(1/3)\n",
"printf('pinion hub dia is,%f mm\n',dp)"
   ]
   }
],
"metadata": {
		  "kernelspec": {
		   "display_name": "Scilab",
		   "language": "scilab",
		   "name": "scilab"
		  },
		  "language_info": {
		   "file_extension": ".sce",
		   "help_links": [
			{
			 "text": "MetaKernel Magics",
			 "url": "https://github.com/calysto/metakernel/blob/master/metakernel/magics/README.md"
			}
		   ],
		   "mimetype": "text/x-octave",
		   "name": "scilab",
		   "version": "0.7.1"
		  }
		 },
		 "nbformat": 4,
		 "nbformat_minor": 0
}
