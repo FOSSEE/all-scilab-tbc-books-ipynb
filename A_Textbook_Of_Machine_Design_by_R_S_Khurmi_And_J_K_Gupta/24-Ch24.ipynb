{
"cells": [
 {
		   "cell_type": "markdown",
	   "metadata": {},
	   "source": [
       "# Chapter 24: Ch24"
	   ]
	},
{
		   "cell_type": "markdown",
		   "metadata": {},
		   "source": [
			"## Example 24.10: Machine_design.sce"
		   ]
		  },
  {
"cell_type": "code",
	   "execution_count": null,
	   "metadata": {
	    "collapsed": true
	   },
	   "outputs": [],
"source": [
"//find..\n",
"clc\n",
"//solution\n",
"//given\n",
"n1=3\n",
"n2=2\n",
"n=4\n",
"d1=240//mm\n",
"r1=120//mm\n",
"d2=120//mm\n",
"r2=60//mm\n",
"u=0.3\n",
"P=25000//W\n",
"N=1575//rpm\n",
"T=P*60/(2*%pi*N)*1000//N-mm\n",
"R=(2/3)*[(r1^3-r2^3)/(r1^2-r2^2)]//mm\n",
"//T=u*n*W*R=112*W\n",
"W=T/112//N\n",
"printf('load acting is,%f N\n',W)\n",
"ns=6//numbr of springs\n",
"csos=8//contact surface of spring\n",
"we=1.25//wear on each spring\n",
"Twe=we*csos/1000//total wear\n",
"Ss=13000//N/m//stiffness of spring\n",
"Rsf=Twe*Ss*ns//reduction\n",
"W1=W-Rsf\n",
"R1=(r1+r2)/2000\n",
"T=n*u*W1*R1//N-m\n",
"P=T*2*%pi*N/60//W\n",
"printf('power trans is,%f W\n',P)"
   ]
   }
,
{
		   "cell_type": "markdown",
		   "metadata": {},
		   "source": [
			"## Example 24.11: Machine_design.sce"
		   ]
		  },
  {
"cell_type": "code",
	   "execution_count": null,
	   "metadata": {
	    "collapsed": true
	   },
	   "outputs": [],
"source": [
"//find..\n",
"clc\n",
"//solution\n",
"//given\n",
"D=80//mm\n",
"R=40//mm\n",
"a=(%pi/180)*15//deg\n",
"u=0.3\n",
"W=200//N\n",
"N=900//rpm\n",
"w=94.26//rad/s\n",
"m=14//kg\n",
"k=0.16//\n",
"//T=u*W*R*cosec(a)=9273//N-mm\n",
"T=9273//N-mm\n",
"printf('torque acting is,%f N-mm\n',T)\n",
"I=m*k^2//kg-m^2\n",
"alpha=T/(1000*I)//angular acc//rad/s^2\n",
"//w=0+alpha*t\n",
"t=w/alpha///sec\n",
"q=(w+0)/2*t//rad\n",
"E=T*q//energy lost in slipping\n",
"printf('energy lost is,%f N-mm\n',E)"
   ]
   }
,
{
		   "cell_type": "markdown",
		   "metadata": {},
		   "source": [
			"## Example 24.12: Machine_design.sce"
		   ]
		  },
  {
"cell_type": "code",
	   "execution_count": null,
	   "metadata": {
	    "collapsed": true
	   },
	   "outputs": [],
"source": [
"//find..\n",
"clc\n",
"//solution\n",
"//given\n",
"P=45*1000//W\n",
"N=1000//rpm\n",
"a=(%pi/180)*12.5\n",
"D=500//mm\n",
"R=250//mm\n",
"u=0.2\n",
"pn=0.1//N/mm^2\n",
"T=P*60/(2*%pi*N)*1000//N-mm\n",
"//let b be face width\n",
"//T=2*%pi*u*R^2*b\n",
"b=T/(2*%pi*pn*u*R^2)//mm\n",
"printf('face width is,%f mm\n',b)\n",
"Wn=pn*2*%pi*R*b//N\n",
"We=Wn*(sin(a)+0.25*u*cos(a))\n",
"printf('axial force applied is,%f N\n',We)"
   ]
   }
,
{
		   "cell_type": "markdown",
		   "metadata": {},
		   "source": [
			"## Example 24.13: Machine_design.sce"
		   ]
		  },
  {
"cell_type": "code",
	   "execution_count": null,
	   "metadata": {
	    "collapsed": true
	   },
	   "outputs": [],
"source": [
"//find..\n",
"clc\n",
"//solution\n",
"//given\n",
"P=30000//W\n",
"N=750//rpm\n",
"a=(%pi/180)*12.5\n",
"pn=0.1//N/mm62\n",
"Kl=1.75\n",
"t=42//N/mm^2\n",
"//D=6*b\n",
"T=60*P/(2*%pi*N)*Kl*1000//N-mm\n",
"//d=(T*16/(%pi*t))^(1/3)//mm\n",
"printf('dia of shaft is,%f mm\n',(T*16/(%pi*t))^(1/3))\n",
"printf('dia of shaft is say,50 mm\n')\n",
"d=50//mm\n",
"//T=2*%pi*u*pn*R^2*b\n",
"//b=R/3\n",
"//T=0.042*R^3\n",
"R=(T/0.042)^(1/3)//mm\n",
"printf('mean dia of shaft is,%f mm\n',2*R)\n",
"D=2*R\n",
"b=D/6\n",
"printf('face width is,%f mm\n',b)\n",
"//ref fig 24.9\n",
"r1=R+ (b/2)*sin(a)//mm\n",
"printf('radius of outr clutch is,%f mm\n',r1)\n",
"r2=R-(b/2)*sin(a)//mm\n",
"printf('radius of inner clutch is,%f mm\n',r2)"
   ]
   }
,
{
		   "cell_type": "markdown",
		   "metadata": {},
		   "source": [
			"## Example 24.14: Machine_design.sce"
		   ]
		  },
  {
"cell_type": "code",
	   "execution_count": null,
	   "metadata": {
	    "collapsed": true
	   },
	   "outputs": [],
"source": [
"//find..\n",
"clc\n",
"//solution\n",
"//given\n",
"P=15000//W\n",
"N=900//rpm\n",
"n=4\n",
"R=0.15//m\n",
"u=0.25\n",
"//let m be the mass\n",
"w=2*%pi*N/60//rad/s\n",
"w1=(3/4)*w//rad/s\n",
"r=0.12//m\n",
"//Pc=m*w^2*r=1066*m//N\n",
"//Ps=m*w1^2*r=600m//N\n",
"T=P*60/(2*%pi*N)//N-m\n",
"//T=u*(Pc-Ps)*R*n=70m\n",
"m=T/70//kg\n",
"printf('mass of shoes is,%f kg\n',m)\n",
"a=%pi/3\n",
"l=R*a*1000//mm\n",
"//A=l*n=157*b//mm^2\n",
"//F=A*p=15.7*b//N\n",
"//15.7*b=Pc-Ps=466m\n",
"b=466*m/(15.7)//mm\n",
"printf('face width is,%f mm\n',b)"
   ]
   }
,
{
		   "cell_type": "markdown",
		   "metadata": {},
		   "source": [
			"## Example 24.1: Machine_design.sce"
		   ]
		  },
  {
"cell_type": "code",
	   "execution_count": null,
	   "metadata": {
	    "collapsed": true
	   },
	   "outputs": [],
"source": [
"//find..\n",
"clc\n",
"//solution\n",
"//given\n",
"W=4000//N\n",
"r2=50//mm\n",
"r1=100//mm\n",
"//let pmax be max pressure\n",
"//C2=pmax*r2=50pmax\n",
"//W=2*%pi*C(r1-r2)=16710*pmax\n",
"pmax=W/15170//N/mm^2\n",
"printf('max pressure is,%f N/mm^2\n',pmax)\n",
"//let pmin be min pressure\n",
"//C1=r1*pmin=100*pmin\n",
"//W=2*%pi*C(r1-r2)=31420*pmin\n",
"pmin=W/31420//N/mm^2\n",
"printf('min pressure is,%f N/mm^2\n',pmin)\n",
"pav=W/(%pi*(r1^2-r2^2))//N/mm^2)\n",
"printf('avrage pressure is,%f N/mm^2\n',pav)"
   ]
   }
,
{
		   "cell_type": "markdown",
		   "metadata": {},
		   "source": [
			"## Example 24.2: Machine_design.sce"
		   ]
		  },
  {
"cell_type": "code",
	   "execution_count": null,
	   "metadata": {
	    "collapsed": true
	   },
	   "outputs": [],
"source": [
"//find..\n",
"clc\n",
"//solution\n",
"//given\n",
"P=110*1000//W\n",
"N=1250//rpm\n",
"d1=300//mm\n",
"r1=150//mm\n",
"u=0.4\n",
"n=2\n",
"p=0.14//N/mm^2\n",
"//let d2 b einner dia\n",
"//r2 be inner radius\n",
"T=P*60/(2*%pi*N)*1000//N-mm\n",
"//W=p*(%pi)*(r1^2-r2^2)=0.534*(150^2-r2^2)\n",
"//R=(2/3)*[(r1^3-r2^3)/(r1^2-r2^2)]\n",
"//T=n*u*W*R\n",
"//T=0.285*[150^3-r2^3]\n",
"r2=(150^3-2.95*10^6)^(1/3)//mm\n",
"d2=2*r2//mm\n",
"printf('inner dia is,%f mm\n',d2)\n",
"W=0.534*[r1^2-r2^2]//N\n",
"printf('axial thrust is,%f N\n',W)\n",
"R=(r1+r2)/2//mm\n",
"Tmax=n*u*W*R//N-mm\n",
"printf('max torque is,%f N-mm\n',Tmax)\n",
"pmax=W/(2*%pi*r2*(r1-r2))//N/mm^2\n",
"printf('max pressure acitngis,%f N/mm^2\n',pmax)"
   ]
   }
,
{
		   "cell_type": "markdown",
		   "metadata": {},
		   "source": [
			"## Example 24.3: Machine_design.sce"
		   ]
		  },
  {
"cell_type": "code",
	   "execution_count": null,
	   "metadata": {
	    "collapsed": true
	   },
	   "outputs": [],
"source": [
"//find..\n",
"clc\n",
"//solution\n",
"//given\n",
"n=2\n",
"P=25000//W\n",
"N=3000//rpm\n",
"u=0.255\n",
"//d1/d2=1.25\n",
"pmax=0.1//N/mm^2\n",
"T=P*60/(2*%pi*N)*1000//N-mm\n",
"//C=pmax*r2\n",
"//W=2*%pi*pmax*r2*(r1-r2)=0.157*r2//r1/r2=1.25\n",
"//R=(r1+r2)/2=1.125*r2\n",
"///T=n*u*W*R=0.09*r2^3//N-mm\n",
"r2=(T/0.09)^(1/3)//mm\n",
"r1=1.25*r2\n",
"d1=2*r1//mm\n",
"d2=2*r2//mm\n",
"W=2*%pi*0.1*r2*(r1-r2)//N\n",
"printf('outr dia is,%f mm\n',d1)\n",
"printf('nner dia is,%f mm\n',d2)\n",
"printf('axial thrust is,%f N\n',W)"
   ]
   }
,
{
		   "cell_type": "markdown",
		   "metadata": {},
		   "source": [
			"## Example 24.4: Machine_design.sce"
		   ]
		  },
  {
"cell_type": "code",
	   "execution_count": null,
	   "metadata": {
	    "collapsed": true
	   },
	   "outputs": [],
"source": [
"//find..\n",
"clc\n",
"//solution\n",
"//given\n",
"P=100*1000//W\n",
"N=2400//rpm\n",
"T=500*1000//N-mm\n",
"pb=0.07//N/mm^2\n",
"u=0.3\n",
"ns=8\n",
"Ss=40//N/mm\n",
"//let r1 be outr and r2 be inner rad\n",
"//r1=1.25*r2\n",
"//C=0.07*r2\n",
"//W=2*%pi*0.07*r2(r1-r2)=0.11*r2^2//N\n",
"//R=(r1+r2)/2=1.125*r2\n",
"///T=n*u*W*R=0.074*r2^3//N-mm\n",
"r2=(T/0.074)^(1/3)//mm\n",
"r1=1.25*r2//mm\n",
"printf('inner and outr radii is,%f mm\,%f mm\n',r2,r1)\n",
"s=Ss*ns//N/mm\n",
"W=0.11*r2^2//N\n",
"printf('axial force is,%f N\n',W)\n",
"dx=W/s\n",
"printf('intial compresion is,%f mm\n',dx)"
   ]
   }
,
{
		   "cell_type": "markdown",
		   "metadata": {},
		   "source": [
			"## Example 24.6: Machine_design.sce"
		   ]
		  },
  {
"cell_type": "code",
	   "execution_count": null,
	   "metadata": {
	    "collapsed": true
	   },
	   "outputs": [],
"source": [
"//find..\n",
"clc\n",
"//solution\n",
"//given\n",
"T=250*1000//N-mm\n",
"N=2000//rpm\n",
"d1=250//mm\n",
"r1=125//mm\n",
"v=15.3//m/s\n",
"Te=100//N-m\n",
"m=1500//kg\n",
"Dw=0.7//m\n",
"Rw=0.35//m\n",
"I=1//kg-m^2\n",
"Ta=175//N-m\n",
"gr=5//gear ratio\n",
"u=0.3\n",
"pb=0.13//N/mm^2\n",
"n=2\n",
"//R=(r1+r2)/2=62.5+0.5r2\n",
"//W=p*%pi*[r1^2-r2^2]//N\n",
"///T=n*u*W*R\n",
"//T=0.245*[976.56*1000+7812.5*r2-62.5*r2^2-0.5*r2^3]\n",
"//using hit and trial \n",
"r2=70//mm\n",
"we=2*%pi*N/60//rad/s\n",
"ww=v/Rw//rad/s\n",
"wo=ww*5//rad/s\n",
"ae=(Te-T)/I//rad/s^2\n",
"Fa=Ta/Rw//N\n",
"a=Fa/m//m/s^2\n",
"ao=a*gr/Rw//rad/s^2\n",
"dt=(wo-we)/(ao-ae)//s\n",
"qe=we*dt +0.5*ae*dt^2//rad\n",
"qo=wo*dt+0.5*ao*dt^2//rad\n",
"q=qo-qe//rad\n",
"x=q/(2*%pi)//numbr of revoltuion\n",
"printf('numbr of revolution are,%f revolution\n',x)\n",
"Q=T*q//heat\n",
"printf('heat generated is,%f J\n',Q)"
   ]
   }
,
{
		   "cell_type": "markdown",
		   "metadata": {},
		   "source": [
			"## Example 24.7: Machine_design.sce"
		   ]
		  },
  {
"cell_type": "code",
	   "execution_count": null,
	   "metadata": {
	    "collapsed": true
	   },
	   "outputs": [],
"source": [
"//find..\n",
"clc\n",
"//solution\n",
"//given\n",
"n=4\n",
"//n1+n2=5\n",
"pb=0.127//N/mm^2\n",
"N=500//rpm\n",
"r1=125//mm\n",
"r2=75//mm\n",
"u=0.3\n",
"C=pb*r2//N/mm\n",
"W=2*%pi*C*(r1-r2)//N\n",
"R=(r1+r2)/2/1000//m\n",
"T=n*u*W*R//N-m\n",
"P=T*2*%pi*N/60\n",
"printf('power trans is,%f W\n',P)"
   ]
   }
,
{
		   "cell_type": "markdown",
		   "metadata": {},
		   "source": [
			"## Example 24.8: Machine_design.sce"
		   ]
		  },
  {
"cell_type": "code",
	   "execution_count": null,
	   "metadata": {
	    "collapsed": true
	   },
	   "outputs": [],
"source": [
"//find..\n",
"clc\n",
"//solution\n",
"//given\n",
"n1=3\n",
"n2=2\n",
"d2=120//mm\n",
"r2=60//mm\n",
"pmax=0.1//N/mm^2\n",
"P=25000//W\n",
"N=1575//rpm\n",
"u=0.3\n",
"T=P*60/(2*%pi*N)*1000//N-mm\n",
"C=pmax*r2//N/mm\n",
"//W=2*%pi*C(r1-r2)=37.7(r1-60)//N\n",
"//R=(r1+r2)/2=0.5*r1 +30\n",
"n=n1+n2-1\n",
"//T=n*u*R*W=22.62*r1^2-81432\n",
"r1=sqrt((T+81432)/22.62)\n",
"printf('outr dia is,%f mm\n',r1)"
   ]
   }
,
{
		   "cell_type": "markdown",
		   "metadata": {},
		   "source": [
			"## Example 24.9: Machine_design.sce"
		   ]
		  },
  {
"cell_type": "code",
	   "execution_count": null,
	   "metadata": {
	    "collapsed": true
	   },
	   "outputs": [],
"source": [
"//find..\n",
"clc\n",
"//solution\n",
"//given\n",
"n1=3\n",
"n2=2\n",
"n=4\n",
"d1=240//mm\n",
"r1=120//mm\n",
"d2=120//mm\n",
"r2=60//mm\n",
"u=0.3\n",
"P=25000//W\n",
"N=1575//rpm\n",
"T=P*60/(2*%pi*N)*1000//N-mm\n",
"R=(2/3)*[(r1^3-r2^3)/(r1^2-r2^2)]//mm\n",
"//T=u*n*W*R=112*W\n",
"W=T/112//N\n",
"printf('load acting is,%f N\n',W)\n",
"ns=6//numbr of springs\n",
"csos=8//contact surface of spring\n",
"we=1.25//wear on each spring\n",
"Twe=we*csos/1000//total wear\n",
"Ss=13000//N/m//stiffness of spring\n",
"Rsf=Twe*Ss*ns//reduction\n",
"W1=W-Rsf\n",
"R1=(r1+r2)/2000\n",
"T=n*u*W1*R1//N-m\n",
"P=T*2*%pi*N/60//W\n",
"printf('power trans is,%f W\n',P)"
   ]
   }
],
"metadata": {
		  "kernelspec": {
		   "display_name": "Scilab",
		   "language": "scilab",
		   "name": "scilab"
		  },
		  "language_info": {
		   "file_extension": ".sce",
		   "help_links": [
			{
			 "text": "MetaKernel Magics",
			 "url": "https://github.com/calysto/metakernel/blob/master/metakernel/magics/README.md"
			}
		   ],
		   "mimetype": "text/x-octave",
		   "name": "scilab",
		   "version": "0.7.1"
		  }
		 },
		 "nbformat": 4,
		 "nbformat_minor": 0
}
