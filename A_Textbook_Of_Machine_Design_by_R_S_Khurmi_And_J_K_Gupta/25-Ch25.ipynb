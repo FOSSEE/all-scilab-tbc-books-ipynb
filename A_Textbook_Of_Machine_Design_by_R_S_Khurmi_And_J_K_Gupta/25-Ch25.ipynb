{
"cells": [
 {
		   "cell_type": "markdown",
	   "metadata": {},
	   "source": [
       "# Chapter 25: Ch25"
	   ]
	},
{
		   "cell_type": "markdown",
		   "metadata": {},
		   "source": [
			"## Example 25.10: Machine_design.sce"
		   ]
		  },
  {
"cell_type": "code",
	   "execution_count": null,
	   "metadata": {
	    "collapsed": true
	   },
	   "outputs": [],
"source": [
"//find..\n",
"clc\n",
"//solution\n",
"//given\n",
"//ref fig 25.21 and 25.22\n",
"q=3.93//rad\n",
"d=350//mm\n",
"r=175//mm\n",
"Tb=350*1000//N-mm\n",
"u=0.3\n",
"//let P1 be pull,cloackwise roration\n",
"//log(T1/T2)=u*q\n",
"//T1/T2=3.256  ...eq1\n",
"//Tb=(T1-T2)*r=175(T1-T2)\n",
"//T1-T2=2000//N.....eq2\n",
"//from eq1 and eq2,we get\n",
"T1=2886.5//N\n",
"T2=886.5//N\n",
"//taking moment abt O\n",
"P1=(T2*150-T1*35)/500\n",
"printf('pull req clockwise is,%f N\n',P1)\n",
"//P2 ,anticlockwise\n",
"P2=(T1*150-T2*35)/500//N\n",
"printf('pull req in anticlockwise is,%f N\n',P2)\n",
"//ref fig 25.23\n",
"//find OA\n",
"OB=35\n",
"//self locking considered\n",
"OA=T1*OB/T2//mm\n",
"printf('value of OA is,%f mm\n',OA)"
   ]
   }
,
{
		   "cell_type": "markdown",
		   "metadata": {},
		   "source": [
			"## Example 25.11: Machine_design.sce"
		   ]
		  },
  {
"cell_type": "code",
	   "execution_count": null,
	   "metadata": {
	    "collapsed": true
	   },
	   "outputs": [],
"source": [
"//find..\n",
"clc\n",
"//solution\n",
"//given\n",
"d=600//mm\n",
"r=0.300//mm\n",
"q=4.2//rad\n",
"t=5//mm\n",
"w=100//mm\n",
"u=0.3\n",
"ft=50//N/mm^2\n",
"//let P be least force req\n",
"//log(T1/T2)=u*q\n",
"//T1/T2=3.53  ...eq1\n",
"T1=ft*t*w\n",
"T2=T1/3.53\n",
"P=(T2*150-T1*75)/(600)//N\n",
"printf('force req is ,%f N\n ',P)\n",
"Tb=(T1-T2)*r//N-m\n",
"printf('torque applied is,%f N-m\n',Tb)"
   ]
   }
,
{
		   "cell_type": "markdown",
		   "metadata": {},
		   "source": [
			"## Example 25.12: Machine_design.sce"
		   ]
		  },
  {
"cell_type": "code",
	   "execution_count": null,
	   "metadata": {
	    "collapsed": true
	   },
	   "outputs": [],
"source": [
"//find..\n",
"clc\n",
"//solution\n",
"//given\n",
"P=220//N\n",
"u=0.4\n",
"q=%pi\n",
"d=150//mm\n",
"r=0.075//m\n",
"//let T1 be max force \n",
"//T2 be min force\n",
"Tb=450//N-m\n",
"//Tb=(T1-T2)*r\n",
"T1=(T2+6000)//N\n",
"//taking mont abt O\n",
"//220*200+T1*50=T2*100\n",
"T2=[(220*200)+(300000)]/50//N\n",
"T1=6000+T2//N\n",
"printf('max and min force is,%f N\n,%f N\n',T1,T2)\n",
"//ref fig 25.25,26,27\n",
"//log(T11/T22)=u*q\n",
"//T11/T22=3.52  ...eq1\n",
"//taking moment ABT O\n",
"//220*200+T22*50=T11*100....eq2\n",
"//from eq1 and eq 2,we egt\n",
"T11=146//N\n",
"T22=514//N\n",
"Tb=(T11-T22)*r//N-m\n",
"printf('max torque acting is %f N-m\n',Tb)\n",
""
   ]
   }
,
{
		   "cell_type": "markdown",
		   "metadata": {},
		   "source": [
			"## Example 25.14: Machine_design.sce"
		   ]
		  },
  {
"cell_type": "code",
	   "execution_count": null,
	   "metadata": {
	    "collapsed": true
	   },
	   "outputs": [],
"source": [
"//find..\n",
"clc\n",
"//solution\n",
"//given\n",
"n=12\n",
"q=(%pi/180)*7.5//rad\n",
"t=0.075//m\n",
"d=0.85//m\n",
"P=225*1000//W\n",
"N=240//rpm\n",
"u=0.4\n",
"//ref fig 25.35\n",
"//(T1+T1b)*sin(q)=Rn....eq1\n",
"//(T1-T1b)*cos(q)=uRn....eq2\n",
"//(T1/T1b)=(1+utan(q))/(1-utan(q))//constant\n",
"//similarly for other blocks\n",
"//T1b/T2b=T2b/T3b..etc remain constant\n",
"//T1/T2={(1+utan(q))/(1-utan(q))}^12=3.55//....eq1\n",
"//let P1 be least force req at C\n",
"D=d+2*t//m\n",
"//(T1-T2)=P*60/(%pi*D*N)=17900//N....eq2\n",
"//from eq1 and eq2\n",
"T1=24920//N\n",
"T2=7020//N\n",
"P1=(T2*150-T1*30)/500//N\n",
"printf('least force req is,%f N\n',P1)\n",
""
   ]
   }
,
{
		   "cell_type": "markdown",
		   "metadata": {},
		   "source": [
			"## Example 25.15: Machine_design.sce"
		   ]
		  },
  {
"cell_type": "code",
	   "execution_count": null,
	   "metadata": {
	    "collapsed": true
	   },
	   "outputs": [],
"source": [
"//find..\n",
"clc\n",
"//solution\n",
"//given\n",
"//ref fig 25.37,25,38,39\n",
"b=35//mm\n",
"u=0.4\n",
"r=150//mm\n",
"l=200//mm\n",
"q1=(%pi/180)*25//rad\n",
"q2=(%pi/180)*125//rad\n",
"p1=0.4//N/mm^2\n",
"Tbi=u*p1*b*r^2*(cos(q1)-cos(q2))//braking torque\n",
"Tb=2*Tbi//total braking torque\n",
"O1B=100\n",
"OO1=O1B/cos(q1)//mm\n",
"printf('OO1 is,%f mm\n',OO1)\n",
"Mn=0.5*p1*b*r*OO1*[(q2-q1)+0.5*(sin(2*q1)-sin(2*q2))]\n",
"printf('moment due to normal force is,%f N-mm\n',Mn)\n",
"Mf=u*p1*b*r*[r*(cos(q1)-cos(q2))+((OO1/4)*(cos(2*q2)-cos(2*q1)))]\n",
"printf('moment due to friction force is,%f N-mm\n',Mf)\n",
"F1=(Mn-Mf)/l//N\n",
"printf('F1 is,%f N\n',F1)\n",
"F2=(Mn+Mf)/l//N\n",
"printf('F2 is ,%f N\n',F2)"
   ]
   }
,
{
		   "cell_type": "markdown",
		   "metadata": {},
		   "source": [
			"## Example 25.1: Machine_design.sce"
		   ]
		  },
  {
"cell_type": "code",
	   "execution_count": null,
	   "metadata": {
	    "collapsed": true
	   },
	   "outputs": [],
"source": [
"//find..\n",
"clc\n",
"//solution\n",
"//given\n",
"m=1200//kg\n",
"s=1/5\n",
"v=20//m/s\n",
"h=50//m\n",
"d=600//mm\n",
"r=0.300//m\n",
"mb=20//kg\n",
"c=520//J/kg/dec C\n",
"Ek=(0.5)*m*v^2//N-m\n",
"g=9.81//m/s^2\n",
"Ep=m*g*h*s//N-m\n",
"E=Ep+Ek\n",
"Ft=E/50//N\n",
"Tb=Ft*r//N-m\n",
"printf('torque applied is,%f N-m\n',Tb)\n",
"//let dt be average temp rise \n",
"Hg=E\n",
"dt=Hg/(mb*c)//deg celcius\n",
"printf('average temperature rise is,%f deg celcius\n',dt)\n",
"//et u be coefficient of friction\n",
"Rn=m*g\n",
"u=Ft/(Rn)//\n",
"printf('min coefficient of friction is,%f ',u)"
   ]
   }
,
{
		   "cell_type": "markdown",
		   "metadata": {},
		   "source": [
			"## Example 25.2: Machine_design.sce"
		   ]
		  },
  {
"cell_type": "code",
	   "execution_count": null,
	   "metadata": {
	    "collapsed": true
	   },
	   "outputs": [],
"source": [
"//find..\n",
"clc\n",
"//solution\n",
"//given\n",
"d=250//mm\n",
"r=125//mm\n",
"q=%pi/4\n",
"P=700//N\n",
"u=0.35\n",
"ub=(4*u*sin(q))/(2*q+sin(2*q))//eqivalent coffint of friction\n",
"//Ft=ub*Rn\n",
"//taking moment abt O\n",
"//700*(250+200)+Ft*50=Rn*200=Ft/ub*200=520*Ft\n",
"Ft=700*(250+200)/470//N\n",
"Tb=Ft*r\n",
"printf('torque applied is,%f N-mm\n',Tb)"
   ]
   }
,
{
		   "cell_type": "markdown",
		   "metadata": {},
		   "source": [
			"## Example 25.3: Machine_design.sce"
		   ]
		  },
  {
"cell_type": "code",
	   "execution_count": null,
	   "metadata": {
	    "collapsed": true
	   },
	   "outputs": [],
"source": [
"//find..\n",
"clc\n",
"//solution\n",
"//given\n",
"r=0.16//m\n",
"u=0.3\n",
"P=600//N\n",
"//taking moment abt point A\n",
"//Rn=Ft/u\n",
"//Rn*350+Ft*(200-160)=600*(400+350)\n",
"Ft=600*750/1207//N\n",
"Tb=Ft*r//N-m\n",
"printf('torque acting is,%f N-m\n',Tb)"
   ]
   }
,
{
		   "cell_type": "markdown",
		   "metadata": {},
		   "source": [
			"## Example 25.4: Machine_design.sce"
		   ]
		  },
  {
"cell_type": "code",
	   "execution_count": null,
	   "metadata": {
	    "collapsed": true
	   },
	   "outputs": [],
"source": [
"//find..\n",
"clc\n",
"//solution\n",
"//given\n",
"Tb=360*1000//N-mm\n",
"d=300//mm\n",
"r=0.15//m\n",
"u=0.3\n",
"//ref fig 25.8  and 25.9\n",
"Ft=Tb/0.15/1000//N\n",
"Rn=Ft/u\n",
"//P*(600+200)+Ft*50=Rn*200\n",
"P=(Rn*200-Ft*50)/800\n",
"printf('force req in fig25.8 is,%f N\n',P)\n",
"//P1*800=Rn*200+Ft*50\n",
"P1=(Rn*200+Ft*50)/800\n",
"printf('force req in fig 25.9 is,%f N\n',P1)\n",
"//P*(600+200)+Ft*x-Rn*200=0\n",
"//if P=0\n",
"x=Rn*200/Ft//mm\n",
"printf('location of fulcrum is,%f mm\n',x)"
   ]
   }
,
{
		   "cell_type": "markdown",
		   "metadata": {},
		   "source": [
			"## Example 25.5: Machine_design.sce"
		   ]
		  },
  {
"cell_type": "code",
	   "execution_count": null,
	   "metadata": {
	    "collapsed": true
	   },
	   "outputs": [],
"source": [
"//find..\n",
"clc\n",
"//solution\n",
"//given\n",
"de=650//mm\n",
"re=0.325//m\n",
"d=1//m\n",
"r=0.500//mm\n",
"n=4\n",
"q=(%pi/180)*22.5\n",
"m=2000//kg\n",
"v=2.5//m/s\n",
"h=2.75//m\n",
"u=0.2\n",
"g=9.81//m/s^2\n",
"pb=0.3//N/mm^2\n",
"acc=v^2/(2*h)//m/s^2\n",
"fc=m*acc//N\n",
"W=(2000*9.81)+fc//N\n",
"T=W*re//N-m\n",
"Ftt=T/r//N\n",
"Ft=Ftt/4//N\n",
"Rn=Ft/0.2//N\n",
"//Ab=w*(2*r*sin(q))=382.7*w//mm^2\n",
"//pb=W/Ab\n",
"w=Rn/(0.3*382.7)//mm\n",
"printf('width of side is ,%f mm\n',w)\n",
"TE=(0.5*m*v^2)+(m*g*h)\n",
"printf('heat generated is,%f N-m\n',TE)"
   ]
   }
,
{
		   "cell_type": "markdown",
		   "metadata": {},
		   "source": [
			"## Example 25.6: Machine_design.sce"
		   ]
		  },
  {
"cell_type": "code",
	   "execution_count": null,
	   "metadata": {
	    "collapsed": true
	   },
	   "outputs": [],
"source": [
"//find..\n",
"clc\n",
"//solution\n",
"//given\n",
"Tb=1400*1000//N-mm\n",
"d=350//mm\n",
"r=175//mm\n",
"q=(1.75)/2//rad\n",
"u=0.4\n",
"pb=0.3//N/mm^2\n",
"//ref fig 25.11\n",
"ub=(4*u*sin(q))/(2*q+sin(2*q))//eqivalent coffint of friction\n",
"//let S be spring force\n",
"//taking moment abt fulcrum O1\n",
"//Rn1=Ft1/u\n",
"//S*450=Rn1*200 + Ft1*(175-40)\n",
"//put Rn1=Ft1/ub...\n",
"//S*450=579.4*Ft1\n",
"//Ft1=S*450/579.4\n",
"//taking moment abt O2\n",
"//S*450+Ft2(175-40)=Rn2*200\n",
"//Rn2=Ft2/ub\n",
"//S*450+Ft2(175-40)=444.4Ft2\n",
"//Ft2=S*450/309.4\n",
"//Tb=(Ft1+Ft2)*r=390.25*S\n",
"S=Tb/390.25//N\n",
"printf('spring force is,%f N\n',S)\n",
"//let b be width of brakes shoes\n",
"//Ab=b*(2*r*sin(q))//mm\n",
"Ft1=S*450/579.4\n",
"Rn1=Ft1/ub\n",
"Ft2=S*450/309.4\n",
"Rn2=Ft2/ub\n",
"//pb=Rn2/Ab\n",
"b=Rn2/(pb*2*r*sin(q))\n",
"printf('width of brake is,%f mm\n',b)"
   ]
   }
,
{
		   "cell_type": "markdown",
		   "metadata": {},
		   "source": [
			"## Example 25.7: Machine_design.sce"
		   ]
		  },
  {
"cell_type": "code",
	   "execution_count": null,
	   "metadata": {
	    "collapsed": true
	   },
	   "outputs": [],
"source": [
"//find..\n",
"clc\n",
"//solution\n",
"//given\n",
"Tb=3*10^6//N-mm\n",
"d=1//m\n",
"r=500//mm\n",
"u=0.3\n",
"q=0.61//rad\n",
"ub=(4*u*sin(q))/(2*q+sin(2*q))//eqivalent coffint of friction\n",
"//ref fig 25.12\n",
"//let S be spring force\n",
"//taking moment abt fulcrum O1\n",
"//S*1250=Rn1*600 + Ft1*(500-250)\n",
"//put Rn1=Ft1/ub...\n",
"//S*1250=2125*Ft1\n",
"//Ft1=S*1250/2125\n",
"//taking moment abt O2\n",
"//S*1250+Ft2(500-250)=Rn2*600\n",
"//Rn2=Ft2/ub\n",
"//S*1250+Ft2(500-250)=1625Ft2\n",
"//Ft2=S*1250/1625\n",
"//Tb=(Ft1+Ft2)*r=680*S\n",
"S=Tb/680\n",
"printf('spring force is,%f N\n',S)\n",
"//let b be width of brakes shoes\n",
"//Ab=b*(2*r*sin(q))//mm\n",
"Ft1=S*1250/2125\n",
"Rn1=Ft1/ub\n",
"Ft2=S*1250/1625\n",
"Rn2=Ft2/ub\n",
"//pb=Rn2/Ab\n",
"b=Rn2/(pb*2*r*sin(q))\n",
"printf('width of brake is,%f mm\n',b)\n",
"//dimension of coil\n",
"//let D be mean dia and d be spring wire dia\n",
"C=6\n",
"t=500//N/mm^2\n",
"n=8\n",
"G=80000//N/mm^2\n",
"K=(4*C-1)/(4*C-4)+(0.615/C)\n",
"Ws=1.3*S\n",
"d=((K*8*Ws*C)/(t*%pi))^(0.5)//mm\n",
"D=6*d//mm\n",
"printf('meand and spring wire dia is,%f mm\n,%f mm\n',D,d)\n",
"dx=8*Ws*C^3*n/(G*d)//mm\n",
"nb=n+2\n",
"fL=nb*d + dx+0.15*dx\n",
"printf('free length of spring is,%f mm\n',fL)"
   ]
   }
,
{
		   "cell_type": "markdown",
		   "metadata": {},
		   "source": [
			"## Example 25.8: Machine_design.sce"
		   ]
		  },
  {
"cell_type": "code",
	   "execution_count": null,
	   "metadata": {
	    "collapsed": true
	   },
	   "outputs": [],
"source": [
"//find..\n",
"clc\n",
"//solution\n",
"//given\n",
"d=600//mm\n",
"r=300//mm\n",
"N=200//rpm\n",
"u=0.25\n",
"q=4.713//rad\n",
"P=35000//W\n",
"t=2.5//mm\n",
"ft=50//N/mm^2\n",
"//let P1 be pull\n",
"//log(T1/T2)=u*q\n",
"//T1/T2=3.25...eq1\n",
"//let Tb be breaking torque\n",
"//ref fig 25.16\n",
"Tb=P*60/(2*%pi*N)*1000//N-mm\n",
"//Tb=(T1-T2)*r=300(T1-T2)\n",
"//T1-T2=5557//N.....eq2\n",
"//from eq1 and eq2,we get\n",
"T1=8027//N\n",
"T2=2470//N\n",
"//taking moment abt O\n",
"//P1*750=T*OD=T2*62.5*1.414\n",
"P1=T2*62.5*1.414/750//N\n",
"printf('pull req is,%f N\n',P1)\n",
"//let w be width \n",
"w=T1/(ft*t)\n",
"printf('width is,%f mm\n',w)"
   ]
   }
,
{
		   "cell_type": "markdown",
		   "metadata": {},
		   "source": [
			"## Example 25.9: Machine_design.sce"
		   ]
		  },
  {
"cell_type": "code",
	   "execution_count": null,
	   "metadata": {
	    "collapsed": true
	   },
	   "outputs": [],
"source": [
"//find..\n",
"clc\n",
"//solution\n",
"//given\n",
"d=450//mm\n",
"r=225//mm\n",
"Tb=225*1000//N-mm\n",
"OB=100//mm\n",
"u=0.25\n",
"ft=70//N/mm^2\n",
"fc=70//N/mm^2\n",
"t=56//N/mm^2\n",
"pb=8//N/mm^2\n",
"//let P be operating force\n",
"//ref fig 25.17\n",
"q=4.713//rad\n",
"//log(T1/T2)=u*q\n",
"//T1/T2=3.25 ...eq1\n",
"//let Tb be breaking torque\n",
"//ref fig 25.17\n",
"//(T1-T2)*r=Tb//N-mm\n",
"//T1-T2=1000//N.....eq2\n",
"//r=from eq1 and eq2\n",
"T1=1444//N\n",
"T2=444//N\n",
"//taking moment abt O\n",
"//P*500=T2*100\n",
"P=T2*100/500\n",
"//let ds be dia of shaft\n",
"//ds=[Tb*16/(%pi*t)]^(1/3)\n",
"printf('dia fo shaft is,%f mm\n',[Tb*16/(%pi*t)]^(1/3))\n",
"printf('dia of shaft is,say 30mm\n')\n",
"ds=30//mm\n",
"printf('corrsponding to dia 30mm ,we get width(w) is equal to 10 mm,and thickness 8mm\n')\n",
"//let l be length of key\n",
"w=10//mm\n",
"t1=8//mm\n",
"l1=Tb/(w*t*ds/2)//mm\n",
"printf('length on basis of shearing is,%f mm\n',l1)\n",
"l2=Tb/(t1/2*fc*ds/2)//mm\n",
"printf('length using crushing stress is,%f mm\n',l2)\n",
"printf('taking larger of two l2,in to consideration\n')\n",
"l=l2//mm\n",
"//let t2 be thickness of lever\n",
"//B be width,B=2t2\n",
"//Z=(1/6)*t2*B^2=0.67*t2^3//mm^3\n",
"M=P*500//N-mm\n",
"//fc=M/Z\n",
"//t2=(M/(fc*0.67))^(1/3)\n",
"printf('thickness of lever is,%f mm\n',(M/(fc*0.67))^(1/3))\n",
"printf('thicnkness is say 10mm\n')\n",
"t2=10//mm\n",
"printf('width of lever is,%f mm\n',2*t2)\n",
"//design of pins\n",
"//let d3 be dia and l3 be length of pins at O and B\n",
"//d3=1.25*d3\n",
"//T1=d3**l3*pb=10*d3^2\n",
"d3=sqrt(T1/10)//mm\n",
"printf('length and dia of pins is,%f mm\n,%f mm\n',1.25*d3,d3)\n",
"ti=T1*4/(2*%pi*d3^2)//N/mm62\n",
"printf('induced stress is,%f N/mm^2\n',ti)\n",
"printf('since induced stress is within permissible limit ,hence design is safe\n')\n",
""
   ]
   }
,
{
		   "cell_type": "markdown",
		   "metadata": {},
		   "source": [
			"## Example 26.5: Machine_design.sce"
		   ]
		  },
  {
"cell_type": "code",
	   "execution_count": null,
	   "metadata": {
	    "collapsed": true
	   },
	   "outputs": [],
"source": [
"//find\n",
"clc\n",
"//solution\n",
"//given\n",
"l=80//mm\n",
"W=2800//N\n",
"d=0.05//m\n",
"c=2*0.05//mm\n",
"Z=0.021\n",
"Qd=80//J/s\n",
"p=W/(l*d*1000)//N/mm^2\n",
"//u=(33/10^8)*(Z*N/p)*(d*1000/c)+0.002\n",
"//u=(495*N/10^8)+0.002\n",
"//Qg=u*W*V\n",
"V=%pi*d*N/60//m/s\n",
"//Qg=((495*N/10^8)+0.002)*2800*[%pi*d*N/60]\n",
"//N^2 +404 N-2.2*10^6=0\n",
"//solving quadratic equation\n",
"N=1295//rpm\n",
"printf('rpm is, %f rpm\n ',N)"
   ]
   }
],
"metadata": {
		  "kernelspec": {
		   "display_name": "Scilab",
		   "language": "scilab",
		   "name": "scilab"
		  },
		  "language_info": {
		   "file_extension": ".sce",
		   "help_links": [
			{
			 "text": "MetaKernel Magics",
			 "url": "https://github.com/calysto/metakernel/blob/master/metakernel/magics/README.md"
			}
		   ],
		   "mimetype": "text/x-octave",
		   "name": "scilab",
		   "version": "0.7.1"
		  }
		 },
		 "nbformat": 4,
		 "nbformat_minor": 0
}
