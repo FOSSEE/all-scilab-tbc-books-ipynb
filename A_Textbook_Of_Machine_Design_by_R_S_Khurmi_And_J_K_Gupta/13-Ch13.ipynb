{
"cells": [
 {
		   "cell_type": "markdown",
	   "metadata": {},
	   "source": [
       "# Chapter 13: Ch13"
	   ]
	},
{
		   "cell_type": "markdown",
		   "metadata": {},
		   "source": [
			"## Example 13.10: Machine_design.sce"
		   ]
		  },
  {
"cell_type": "code",
	   "execution_count": null,
	   "metadata": {
	    "collapsed": true
	   },
	   "outputs": [],
"source": [
"clc\n",
"//solution\n",
"//given\n",
"d=35//mm\n",
"n=6\n",
"D1=125//mm\n",
"T=800*10^3//N-mm\n",
"N=350//rpm\n",
"ts=63//N/mm^2\n",
"tb=56//N/mm^2\n",
"tc=10//N/mm^2\n",
"tk=46//N/mm^2\n",
"//let d1 be nominal dia\n",
"//T=(%pi/4)*d1^2*tb*n*D1/2\n",
"//d1=(T/16495)^(0.5)//mm\n",
"printf('the dia of bolt is,%f mm\n',(T/16495)^(0.5))\n",
"printf('the dia of bolt is say d1=8mm\n')\n",
"d1=8//mm\n",
"D=2*d\n",
"//let tf be flange thickness\n",
"//T=((%pi*D^2)/2)*tc*tf\n",
"//tf=T/[((%pi*D^2)/2)*tc]\n",
"printf('the flange thickness is,%f mm\n',T/[((%pi*D^2)/2)*tc])\n",
"printf('the flange thicknes is say tf=12mm\n')\n",
"tf=12//mm\n",
"//from table 13.1,we find that shaft of dia 70mm diametr\n",
"w=12//width of diametre\n",
"t1=8//mm//thickness of key\n",
"l=1.5*d//mm\n",
"L=1.5*d//mm\n",
"//let tk1 be induced stress\n",
"//T=l*w*tk1*d/2\n",
"tk1=T/11025//N/mm^2\n",
"printf('the induces stress is,%f N/mm^2\n',tk1)\n",
"printf('since induced stress is gerater then safe limits of 46 N/mm^2,therfore,we use limiting case by putting tk1=tk=46\n')\n",
"//l1=T/(12*46*17.5)//mm\n",
"printf('the length of key is,%f mm\n',T/(12*46*17.5))\n",
"printf('the length of key is say 85mm\n')\n",
"//L1=l1\n",
"L1=85//mm\n",
"printf('the legth of hub is,%f mm\n',L1)\n",
"P=2*%pi*N*T/60//W\n",
"printf('the power rtransmitted is,%f W\n',P)"
   ]
   }
,
{
		   "cell_type": "markdown",
		   "metadata": {},
		   "source": [
			"## Example 13.11: Machine_design.sce"
		   ]
		  },
  {
"cell_type": "code",
	   "execution_count": null,
	   "metadata": {
	    "collapsed": true
	   },
	   "outputs": [],
"source": [
"clc\n",
"//solution\n",
"//given\n",
"P=3*10^6//W\n",
"N=100//rpm\n",
"tb=60//N/mm^2\n",
"ts=60//N/mm^2\n",
"n=8\n",
"//D1=1.6*d\n",
"//let d be dia of shaft\n",
"T=(P*60*1000)/(2*%pi*N)//N-mm\n",
"//T=(%pi/16)*t*d^3=11.78*d^3\n",
"//d=(T/11.78)^(1/3)//mm\n",
"printf('the dia of shaft is,%f mm\n ',(T/11.78)^(1/3))\n",
"printf('the dia of shaft is ,say 300 mm\n')\n",
"d=300//mm\n",
"//let d1 be nominal dia of bolts\n",
"//T=(%pi/4)*d1^2*tb*n*D1/2\n",
"//d1=(T/90490)^(0.5)//mm\n",
"printf('the dia of bolt is,%f mm\n',(T/16495)^(0.5))\n",
"printf('the dia of bolt is say d1=60 mm\n')\n",
"d1=60//mm\n",
"tf=d/3//mm\n",
"printf('the flange thciness is,%f m\n',tf)\n",
"D2=2.2*d//mm\n",
"printf('the diameter of flange is,%f mm',D2)"
   ]
   }
,
{
		   "cell_type": "markdown",
		   "metadata": {},
		   "source": [
			"## Example 13.13: Machine_design.sce"
		   ]
		  },
  {
"cell_type": "code",
	   "execution_count": null,
	   "metadata": {
	    "collapsed": true
	   },
	   "outputs": [],
"source": [
"clc\n",
"//solution\n",
"//given\n",
"T=5000*10^3//N-mm\n",
"t=60//N/mm^2\n",
"t1=28//N/mm^2\n",
"//let d be dia\n",
"//T=(%pi*t*d^3)/16\n",
"d=(T/11.8)^(1/3)//mm\n",
"printf('the dia of shaft is,%f mm\n',d)\n",
"//let dp diA of pin\n",
"//T=2*(%pi/4)*dp^2*t1*d\n",
"dp=[T/(3300)]^0.5//mm\n",
"printf('the dia of pin is,%f mm',dp)"
   ]
   }
,
{
		   "cell_type": "markdown",
		   "metadata": {},
		   "source": [
			"## Example 13.1: Machine_design.sce"
		   ]
		  },
  {
"cell_type": "code",
	   "execution_count": null,
	   "metadata": {
	    "collapsed": true
	   },
	   "outputs": [],
"source": [
"clc\n",
"//solution\n",
"//given\n",
"d=50//mm\n",
"t=42//N/mm^2\n",
"fc=70//N/mm^2\n",
"//from tab 13.1,using d=50mm \n",
"w=16//mm\n",
"T=10//mm\n",
"//let l be length of key\n",
"//Tq1=l*w*t*d/2=16800*l1//N-mm//torque\n",
"pi=3.14\n",
"Tq=(pi/16)*t*d^3//\n",
"printf('the torsional moment acting is,%f N-mm\n',Tq)\n",
"l1=Tq/16800//mm\n",
"//Tq2=l2*T*fc*d/4=8750*l2\n",
"l2=Tq/8750//mm\n",
"printf('since l2 &gt;l1,taking large value l2=l ,length of key\n')\n",
"//l=l2//mm\n",
"printf('the length of key is,%f mm\n',l2)\n",
"printf('the length oif key is,say 120 mm\n')\n",
"l=120//mm"
   ]
   }
,
{
		   "cell_type": "markdown",
		   "metadata": {},
		   "source": [
			"## Example 13.2: Machine_design.sce"
		   ]
		  },
  {
"cell_type": "code",
	   "execution_count": null,
	   "metadata": {
	    "collapsed": true
	   },
	   "outputs": [],
"source": [
"clc\n",
"//solution\n",
"//given\n",
"d=45//mm\n",
"fyts=400//N/mm^2'//for shaft\n",
"w=14//mm\n",
"t=9//mm\n",
"fytk=340//N/mm^2//for key\n",
"Fs=2\n",
"pi=3.14\n",
"//let l be length of key\n",
"tmaxs=fyts/(2*Fs)//N/mm^2\n",
"tmaxk=fytk/(2*Fs)//N/mm^2\n",
"tmax=(pi/16)*tmaxs*d^3//N-mm\n",
"//tmax=l*w*tmaxk*d/2\n",
"l1=(tmax*2)/(w*tmaxk*d)//\n",
"printf('the length of key(l1) is,%f mm\n',l1)\n",
"//tmax=l2*t*fytk*d/4=17213*l2\n",
"l2=tmax/17213//mm\n",
"printf('te length of key(l2) is,%f mm\n',l2)\n",
"printf('since l2 &gt;l1,taking large value l2=l ,length of key\n')\n",
"l=103.89//mm\n",
"printf('the length of key(l) is,%f mm\n',l)"
   ]
   }
,
{
		   "cell_type": "markdown",
		   "metadata": {},
		   "source": [
			"## Example 13.3: Machine_design.sce"
		   ]
		  },
  {
"cell_type": "code",
	   "execution_count": null,
	   "metadata": {
	    "collapsed": true
	   },
	   "outputs": [],
"source": [
"clc\n",
"//soltuion\n",
"//given\n",
"P=15*10^3//W\n",
"N=960//rpm\n",
"d=40//mm\n",
"l=75//mm\n",
"t=56//N/mm^2\n",
"fc=112//N/mm^2\n",
"Tq=(P*60)/(2*%pi*N)//N-mm\n",
"//let w be width of key\n",
"//Tq=l*w*t*d/2=84000*w\n",
"//w=Tq/84000//mm\n",
"printf('the width of keywy is,%f mm\n',Tq/84000)\n",
"printf('this width is too small,it should be atleats w=d/4,so taking w=d/4 as min widht we get w=d/4=10//mm\n')\n",
"w=10//mm\n",
"T=10//mm//thickness =width=square key\n",
"h=T/2\n",
"e=1-(0.2*(w/d))-1.1*(h/d)\n",
"P1=(pi/16)*t*d^3*e//N//strength of shaft\n",
"Ps=l*w*t*d/2//N//shear strength of shaft\n",
"x=Ps/P1//\n",
"printf('the check value is,%f',x)"
   ]
   }
,
{
		   "cell_type": "markdown",
		   "metadata": {},
		   "source": [
			"## Example 13.4: Machine_design.sce"
		   ]
		  },
  {
"cell_type": "code",
	   "execution_count": null,
	   "metadata": {
	    "collapsed": true
	   },
	   "outputs": [],
"source": [
"clc\n",
"//solution\n",
"//given\n",
"P=40000//W\n",
"N=350//rpm\n",
"ts=40//N/mm^2\n",
"fcs=80//N/mm^2\n",
"tc=15//N/mm^2\n",
"//let d be dia\n",
"Tq=(P*60*1000)/(2*%pi*N)//N-mm\n",
"//Tq=(%pi/16)*ts*d^3=7.86*d^3\n",
"//d=(Tq/7.86)^(1/3)//mm\n",
"printf('the dia of shaft is,%f mm\n ',(Tq/7.86)^(1/3))\n",
"printf('the dia of shaft is ,say 55mm\n')\n",
"d=55//mm\n",
"D=2*d + 13//mm\n",
"printf('the outer dia of muff is,%f mm\n',D)\n",
"L=3.5*d//mm\n",
"printf('the length of muff is,%f mm\n',L)\n",
"//let tc be induced shear stress\n",
"//T=(%pi/16)*tc*[(D^4-d^4)/D] =370*10^3*fc\n",
"fc=Tq/370000//N/mm^2\n",
"printf('the induced shear stress is,%f N/mm^2 \n',fc)\n",
"//from table 13.1,we find that shaft of dia 55mm diametr\n",
"w=18//width of diametre\n",
"t1=w//mm//thicknessof key\n",
"l=L/2//mm//length of key\n",
"printf('the widht of key is,%f mm\n ',w)\n",
"printf('the thickness of key is,%f mm\n',t1)\n",
"printf('the length of key is,%f mm\n',l)"
   ]
   }
,
{
		   "cell_type": "markdown",
		   "metadata": {},
		   "source": [
			"## Example 13.5: Machine_design.sce"
		   ]
		  },
  {
"cell_type": "code",
	   "execution_count": null,
	   "metadata": {
	    "collapsed": true
	   },
	   "outputs": [],
"source": [
"clc\n",
"//solution\n",
"//given\n",
"P=30000//W\n",
"N=100//rpm\n",
"t=40//N/mm^2\n",
"n=6\n",
"ft=70//N/mm^2\n",
"u=0.3\n",
"//let d be dia\n",
"Tq=(P*60*1000)/(2*%pi*N)//N-mm\n",
"//Tq=(%pi/16)*t*d^3=7.86*d^3\n",
"//d=(Tq/7.86)^(1/3)//mm\n",
"printf('the dia of shaft is,%f mm\n ',(Tq/7.86)^(1/3))\n",
"printf('the dia of shaft is ,say 75mm\n')\n",
"d=75//mm\n",
"D=2*d + 13//mm\n",
"printf('the outer dia of muff is,%f mm\n',D)\n",
"L=3.5*d//mm\n",
"printf('the length of muff is,%f mm\n',L)\n",
"//from table 13.1,we find that shaft of dia 75mm diametr\n",
"w=22//width of diametre\n",
"t1=14//mm//thickness of key\n",
"//let db be the root dia\n",
"//'Tq=(%pi^2)*u*db^2*n*ft*d\n",
"//Tq=5830*db^2\n",
"db=sqrt(Tq/5830)\n",
"printf('the widht of key is,%f mm\n ',w)\n",
"printf('the thickness of key is,%f mm\n',t1)\n",
"printf('the root dia is,%f mm\n',db)"
   ]
   }
,
{
		   "cell_type": "markdown",
		   "metadata": {},
		   "source": [
			"## Example 13.6: Machine_design.sce"
		   ]
		  },
  {
"cell_type": "code",
	   "execution_count": null,
	   "metadata": {
	    "collapsed": true
	   },
	   "outputs": [],
"source": [
"clc\n",
"//soltuion\n",
"//given\n",
"P=15000//W\n",
"N=900//rpm\n",
"K=1.35//service factor\n",
"//ts=tb=tk=40//N/mm^2\n",
"ts=40//N/mm^2\n",
"tb=40//N/mm^2\n",
"tk=40//N/mm^2\n",
"//fcb=fck\n",
"fck=80//N/mm^2\n",
"fcb=80//N/mm^2\n",
"tc=8//N/mm^2\n",
"//let d be dia\n",
"Tq=(P*60*1000)/(2*%pi*N)//N-mm\n",
"Tqmax=Tq*1.35//N-mm\n",
"//Tq=(%pi/16)*t*d^3=7.86*d^3\n",
"//d=(Tq/7.86)^(1/3)//mm\n",
"printf('the dia of shaft is,%f mm\n ',(Tqmax/7.86)^(1/3))\n",
"printf('the dia of shaft is ,say 35mm\n')\n",
"d=35//mm\n",
"D=2*d//mm\n",
"printf('the outer dia of muff is,%f mm\n',D)\n",
"L=1.5*d//mm\n",
"printf('the length of muff is,%f mm\n',L)\n",
"//from table 13.1,we find that shaft of dia 75mm diametr\n",
"w=12//width of diametre\n",
"t1=12//mm//thickness of key\n",
"//let tc be induced shear stress\n",
"//Tqmax=(%pi/16)*tc*[(D^4-d^4)/D] =63147*fc\n",
"fc=Tqmax/63147//N/mm^2\n",
"printf('the induced stress acting is,%f N/mm^2\n',fc)\n",
"tf=0.5*d//mm\n",
"printf('the thicknes of flange is,%f mm\n',tf)\n",
"//let d1 be nominal dia of bolts\n",
"n=3\n",
"D=3*d\n",
"//Tqmax=(%pi/4)*d1^2*tb*n*D1/2\n",
"d1=sqrt(Tqmax/4950)//mm\n",
"D2=4*d//mm\n",
"tp=0.25*d\n",
"printf('the nominal dia of bolts is,%f mm\n',d1)\n",
"printf('the outer dia of flange is,%f mm\n',D2)\n",
"printf('the thickness of protective circumferencial flange is,%fmm',tp)"
   ]
   }
,
{
		   "cell_type": "markdown",
		   "metadata": {},
		   "source": [
			"## Example 13.7: Machine_design.sce"
		   ]
		  },
  {
"cell_type": "code",
	   "execution_count": null,
	   "metadata": {
	    "collapsed": true
	   },
	   "outputs": [],
"source": [
"clc\n",
"//soltuion\n",
"//given\n",
"P=15000//W\n",
"N=200//rpm\n",
"ts=40//N/mm^2\n",
"tb=30//N/mm^2\n",
"//fck=2*tk\n",
"tc=14//N/mm^2\n",
"Tmean=(P*60*1000)/(2*%pi*N)//N-mm\n",
"Tmax=1.25*Tmean//N/mm^2\n",
"//Tmax=(%pi/16)*t*d^3=7.86*d^3\n",
"//d=(Tq/7.86)^(1/3)//mm\n",
"printf('the dia of shaft is,%f mm\n ',(Tmax/7.86)^(1/3))\n",
"printf('the dia of shaft is ,say 50 mm\n')\n",
"d=50//mm\n",
"D=2*d//mm\n",
"printf('the outer dia of muff is,%f mm\n',D)\n",
"L=1.5*d//mm\n",
"printf('the length of muff is,%f mm\n',L)\n",
"//from table 13.1,we find that shaft of dia 75mm diametr\n",
"w=16//width of diametre\n",
"t1=16//mm//thickness of key\n",
"l=75//mm\n",
"//let tc be induced shear stress\n",
"//Tmax=(%pi/16)*tc*[(D^4-d^4)/D] =184100*fc\n",
"fc=Tmax/184100//N/mm^2\n",
"printf('the induced stress acting is,%f N/mm^2\n',fc)\n",
"//let tk be induced stress on key\n",
"//Tmax=l*w*l*d*tk*0.5=30000*tk\n",
"tk=Tmax/30000//N/mm^2\n",
"printf('the induced stress in key is,%f mm\n',tk)\n",
"tf=0.5*d//mm\n",
"printf('the thicknes of flange is,%f mm\n',tf)\n",
"//let d1 be nominal dia of bolts\n",
"n=4\n",
"D1=3*d//mm\n",
"//Tqmax=(%pi/4)*d1^2*tb*n*D1/2\n",
"d1=sqrt(Tmax/7070)//mm\n",
"D2=4*d//mm\n",
"tp=0.25*d\n",
"printf('the nominal dia of bolts is,%f mm\n',d1)\n",
"printf('the outer dia of flange is,%f mm\n',D2)\n",
"printf('the thickness of protective circumferencial flange is,%fmm',tp)"
   ]
   }
,
{
		   "cell_type": "markdown",
		   "metadata": {},
		   "source": [
			"## Example 13.8: Machine_design.sce"
		   ]
		  },
  {
"cell_type": "code",
	   "execution_count": null,
	   "metadata": {
	    "collapsed": true
	   },
	   "outputs": [],
"source": [
"clc\n",
"//soltuion\n",
"//given\n",
"P=90*10^3//W\n",
"N=250//rpm\n",
"ts=40//N/mm^2\n",
"q=0.0175\n",
"tb=30//N/mm^2\n",
"//let d be dia\n",
"T=(P*60*1000)/(2*%pi*N)//N-mm\n",
"//T/J=ts/(d/2)\n",
"//T/(%pi*d^4/32)=ts/(d/2)//considering strength iof shaft\n",
"d1=(35*10^6/80)^(1/3)//mm\n",
"//considering rigidity\n",
"//T/J=(C*q/l)\n",
"//T/(%pi*d^4/32)=84000*0.0175/(20*d)\n",
"d2=(35*10^6/73.5)^(1/3)//mm\n",
"printf('the value of d1 and d2 is,%f mm\n,%f mm\n',d1,d2)\n",
"printf('taking larger value into consideration i,e d2,we take d=d2=80mm\n')\n",
"d=80//mm\n",
"D=2*d//mm\n",
"printf('the outer dia of muff is,%f mm\n',D)\n",
"L=1.5*d//mm\n",
"printf('the length of muff is,%f mm\n',L)\n",
"//from table 13.1,we find that shaft of dia 70mm diametr\n",
"w=25//width of diametre\n",
"t1=14//mm//thickness of key\n",
"l=120//mm\n",
"//let tc be inducesd stress\n",
"//Tmax=(%pi/16)*tc*[(D^4-d^4)/D]\n",
"tc=T/{(%pi/16)*[(D^4-d^4)/D]}\n",
"printf('the induce stres is,%f N/mm^2\n',tc)\n",
"printf('the induced shear stress is less then 14,hence it is safe design\n ')\n",
"tf=0.5*d//mm\n",
"printf('the thicknes of flange is,%f mm\n',tf)\n",
"//let d1 be nominal dia of bolts\n",
"n=4\n",
"D1=3*d//mm\n",
"//Tqmax=(%pi/4)*d1^2*tb*n*D1/2\n",
"d1=sqrt(T/11311)//mm\n",
"D2=4*d//mm\n",
"tp=0.25*d\n",
"printf('the nominal dia of bolts is,%f mm\n',d1)\n",
"printf('the outer dia of flange is,%f mm\n',D2)\n",
"printf('the thickness of protective circumferencial flange is,%fmm',tp)"
   ]
   }
,
{
		   "cell_type": "markdown",
		   "metadata": {},
		   "source": [
			"## Example 13.9: Machine_design.sce"
		   ]
		  },
  {
"cell_type": "code",
	   "execution_count": null,
	   "metadata": {
	    "collapsed": true
	   },
	   "outputs": [],
"source": [
"clc\n",
"//solution\n",
"//given\n",
"d=35//mm\n",
"n=6\n",
"D1=125//mm\n",
"T=800*10^3//N-mm\n",
"N=350//rpm\n",
"ts=63//N/mm^2\n",
"tb=56//N/mm^2\n",
"tc=10//N/mm^2\n",
"tk=46//N/mm^2\n",
"//let d1 be nominal dia\n",
"//T=(%pi/4)*d1^2*tb*n*D1/2\n",
"//d1=(T/16495)^(0.5)//mm\n",
"printf('the dia of bolt is,%f mm\n',(T/16495)^(0.5))\n",
"printf('the dia of bolt is say d1=8mm\n')\n",
"d1=8//mm\n",
"D=2*d\n",
"//let tf be flange thickness\n",
"//T=((%pi*D^2)/2)*tc*tf\n",
"//tf=T/[((%pi*D^2)/2)*tc]\n",
"printf('the flange thickness is,%f mm\n',T/[((%pi*D^2)/2)*tc])\n",
"printf('the flange thicknes is say tf=12mm\n')\n",
"tf=12//mm\n",
"//from table 13.1,we find that shaft of dia 70mm diametr\n",
"w=12//width of diametre\n",
"t1=8//mm//thickness of key\n",
"l=1.5*d//mm\n",
"L=1.5*d//mm\n",
"//let tk1 be induced stress\n",
"//T=l*w*tk1*d/2\n",
"tk1=T/11025//N/mm^2\n",
"printf('the induces stress is,%f N/mm^2\n',tk1)\n",
"printf('since induced stress is gerater then safe limits of 46 N/mm^2,therfore,we use limiting case by putting tk1=tk=46\n')\n",
"//l1=T/(12*46*17.5)//mm\n",
"printf('the length of key is,%f mm\n',T/(12*46*17.5))\n",
"printf('the length of key is say 85mm\n')\n",
"//L1=l1\n",
"L1=85//mm\n",
"printf('the legth of hub is,%f mm\n',L1)\n",
"P=2*%pi*N*T/60//W\n",
"printf('the power rtransmitted is,%f W\n',P)"
   ]
   }
],
"metadata": {
		  "kernelspec": {
		   "display_name": "Scilab",
		   "language": "scilab",
		   "name": "scilab"
		  },
		  "language_info": {
		   "file_extension": ".sce",
		   "help_links": [
			{
			 "text": "MetaKernel Magics",
			 "url": "https://github.com/calysto/metakernel/blob/master/metakernel/magics/README.md"
			}
		   ],
		   "mimetype": "text/x-octave",
		   "name": "scilab",
		   "version": "0.7.1"
		  }
		 },
		 "nbformat": 4,
		 "nbformat_minor": 0
}
