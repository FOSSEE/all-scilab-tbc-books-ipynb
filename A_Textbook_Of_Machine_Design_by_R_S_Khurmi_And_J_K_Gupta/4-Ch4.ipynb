{
"cells": [
 {
		   "cell_type": "markdown",
	   "metadata": {},
	   "source": [
       "# Chapter 4: Ch4"
	   ]
	},
{
		   "cell_type": "markdown",
		   "metadata": {},
		   "source": [
			"## Example 4.10: Machine_design.sce"
		   ]
		  },
  {
"cell_type": "code",
	   "execution_count": null,
	   "metadata": {
	    "collapsed": true
	   },
	   "outputs": [],
"source": [
"clc\n",
"//solution\n",
"//given\n",
"D=12//mm//initial diameter\n",
"l=60//mm//initial length\n",
"L=80//mm//final length\n",
"d=7//mm//final diameter\n",
"Wy=3400//N//yield load\n",
"Wu=6100//N//ultimate load\n",
"pi=3.14\n",
"A=pi*D^2/4//mm^2//initial area of rod\n",
"a=pi*d^2/4//mm^2//final area of rod\n",
"Fy=Wy/A//N/mm^2//yield stress\n",
"Fu=Wu/A//N/mm^2//ultimate stress\n",
"%ria=(A-a)/A*100//percentage reduction in area\n",
"%eil=(L-l)/L*100//percentage elongation in length\n",
"printf('the yield stress is,%f N/mm^2\n',Fy)\n",
"printf('the ultimate stress is ,%f N/mm^2\n',Fu)\n",
"printf('the percentage reduction in area is,%f\n',%ria)\n",
"printf('the percentage increase in length is,%fn',%eil)"
   ]
   }
,
{
		   "cell_type": "markdown",
		   "metadata": {},
		   "source": [
			"## Example 4.11: Machine_design.sce"
		   ]
		  },
  {
"cell_type": "code",
	   "execution_count": null,
	   "metadata": {
	    "collapsed": true
	   },
	   "outputs": [],
"source": [
"clc\n",
"//solution\n",
"//given\n",
"lc=3000//mm//length of steel and copper bar\n",
"lst=3000//mm//length of steel bar\n",
"Ec=105//kN/mm^2//young's modulus of copper\n",
"Est=210//kN/mm^2//young's modulus of steel\n",
"b=25//mm//width\n",
"t=12.5//mm//thickness\n",
"P=50//kN//load applied\n",
"//refer fig 4.14 in book\n",
"//let dl be increace in length of compound bar\n",
"Ast=b*t//mm^2//area of steel bar\n",
"Ac=b*t//mm^2//area of copper bar\n",
"Pc=(P*Ec)/(Ec+Est)//kN//load taken by copper bar\n",
"Pst=P-Pc//kN//load taken by steel bar\n",
"dl=(Pc*lc)/(Ac*Ec)//mm//change in length \n",
"//stresses produced in individual bars are\n",
"//since strain produced are same therefore \n",
"//(Fst/Est)=(Fc/Ec)//since Est=2Ec,therefore Fst(stress in steel)=2*Fc(stress in copper)\n",
"P=Pst+Pc//(Fst*Ast)+(Fc*Ac)//Ast=Ac//Fst=2Fc,therefore gievn equation can ve written as\n",
"//50=2*Fc*Ac+(Fc*Ac)\n",
"Fc=50/(3*Ac)//N/mm^2//stress in copper bar\n",
"Fst=2*Fc//N/mm^2//stress in steel bar\n",
"printf('the change in lentgth of compound bar is,%f mm\n',dl)\n",
"printf('the stress in copper bar is ,%f kN/mm^2\n',Fc)\n",
"printf('the stress in steel bar is , %f kN/mm^2',Fst)"
   ]
   }
,
{
		   "cell_type": "markdown",
		   "metadata": {},
		   "source": [
			"## Example 4.12: Machine_design.sce"
		   ]
		  },
  {
"cell_type": "code",
	   "execution_count": null,
	   "metadata": {
	    "collapsed": true
	   },
	   "outputs": [],
"source": [
"clc\n",
"//soluton\n",
"//given\n",
"Ds=18//mm//diameter of steel\n",
"Dc1=24//mm//inner  diameter of copper rod initially\n",
"Dc2=40//mm//outer diametr of copper\n",
"Fs=10//N/mm^2//stress in steel rod\n",
"pi=3.14\n",
"As=(pi*Ds^2)/4//mm^2//area of steel rod\n",
"Ac=(pi*(Dc2^2-Dc1^2))/4//mm^2//area of copper rod\n",
"//since tensile load on steel rod is equal to compressive load on copper rod,therefore\n",
"//Fs*As=Fc*Ac,therefore\n",
"Fc=Fs*As/Ac//stress in copper rod//N/mm^2\n",
"//when copper rod is reduced outside diametr changes to 40-1.5*2=37mm,therefore new area is\n",
"Ac1=(pi*(37^2-24^2))//mm^2\n",
"//cross section of other half remain same//if Ac2 is the area of remainder then Ac2=Ac\n",
"//let Fc1 be stress in reduced section,Fc2 be stress in remainder ,Fs1 stress in rod aftre turning\n",
"//since load on copper tube is equal to load on steel tube, therefore Ac1*Fc1=Ac2*Fc2=As*Fs1\n",
"//from above equations Fc1=0.41*Fs1,Fc2=0.32*Fs1\n",
"//let L be the length of steela nd copper  rod ,since total change in length is equal to change inlength of rduced section before and aftr turning adn change in length of remainder section beofre and aftre turning\n",
"//dl=dl1+dl2\n",
"//(Fs-Fs1)*L/Es=(Fc1-Fc)*L/(2*Ec)+(Fc2-Fc)*(L)/(2*Ec)\n",
"//given Es=2Ec\n",
"//10-Fs1=0.41*Fs1-3.16+0.32*Fs1-3.16\n",
"Fs1=(10+3.16+3.16)/(1+0.41+0.32)\n",
"printf('the stress in the rod is,%f N/mm^2',Fs1)"
   ]
   }
,
{
		   "cell_type": "markdown",
		   "metadata": {},
		   "source": [
			"## Example 4.13: Machine_design.sce"
		   ]
		  },
  {
"cell_type": "code",
	   "execution_count": null,
	   "metadata": {
	    "collapsed": true
	   },
	   "outputs": [],
"source": [
"clc\n",
"//solution\n",
"//given\n",
"D=1200//mm//diameter of wheel\n",
"f=100//N/mm^2//stress\n",
"E=200*10^3//N/mm^2//young's modulus\n",
"a=6.5*10^-6//per degree celcius\n",
"//we know stress/strain=E\n",
"//100/x=E\n",
"x=100/E//\n",
"//x=(D-d)/d\n",
"//x=D/d-1\n",
"d=D/(x+1)//mm\n",
"//let t be least temp to which tyre must be heated\n",
"//pi*D=Pi*d(!+at)\n",
"t=(D-d)/(d*a)\n",
"printf('the internal diameter is, %f mm\n',d)\n",
"printf('the least temp is,%f degree celcius',t)"
   ]
   }
,
{
		   "cell_type": "markdown",
		   "metadata": {},
		   "source": [
			"## Example 4.14: Machine_design.sce"
		   ]
		  },
  {
"cell_type": "code",
	   "execution_count": null,
	   "metadata": {
	    "collapsed": true
	   },
	   "outputs": [],
"source": [
"clc\n",
"//solution\n",
"//given\n",
"t1=37//deg celcius\n",
"t2=20//deg celcius\n",
"Es=210*10^9//N/m^2\n",
"Ed=74*10^9//N/m^2\n",
"as=11.7*10^-6//per degree celcius\n",
"aa=23.4*10^-6//per degree celcius\n",
"ds=0.05//m\n",
"da=0.025//m\n",
"ls=0.6//m\n",
"la=0.3//m\n",
"pi=3.14\n",
"//refer fig4.16 in book\n",
"t=t1-t2//degree celcius\n",
"x1=as*ls*t//contraction in steel bar\n",
"x2=aa*la*t//contaction in aluminium bar\n",
"x=x1+x2//total contraction\n",
"//assume support B is removed,therefore there will no stress in bar,let us assume P force is applied to the right end to brougth in contact with support B..refer ffig 4.17\n",
"As=(pi/4)*ds^2//m^2//area of steel bar\n",
"Aa=(pi/4)*da^2//m^2\n",
"//we know dls=change in length=(P*ls)/(As*Es),therefore dls=P*1.455*10^-9//m\n",
"//dla=P*8.257*10^-9//m\n",
"//threfore total dl=dls + dla=9.712*10^-9 *P//m\n",
"//P*9.712*10^-9=x\n",
"P=x/(9.712*10^-9)\n",
"fs=P/As//stress in steel bar//N/m^2\n",
"fa=P/Aa//stress in aluminiumbar//N/m^2\n",
"//when supports are yielding by 0.1 mm\n",
"X=x-10^-4//m\n",
"P1=X/(9.712*10^-9)//N\n",
"fs1=P1/As//N/m^2\n",
"fa1=P1/Aa//N/m^2\n",
"printf(' the  initial stress in steel bar is, %f N/m^2\n',fs)\n",
"printf('the initial stress in aluminium bar is,%f N/m^2\n',fa)\n",
"printf('the final stress in steel bar is,%f N/m^2\n',fs1)\n",
"printf('the final stress in alu bar is,%f N/m^2',fa1)"
   ]
   }
,
{
		   "cell_type": "markdown",
		   "metadata": {},
		   "source": [
			"## Example 4.15: Machine_design.sce"
		   ]
		  },
  {
"cell_type": "code",
	   "execution_count": null,
	   "metadata": {
	    "collapsed": true
	   },
	   "outputs": [],
"source": [
"clc\n",
"//solution\n",
"//given\n",
"dc=0.050//m\n",
"dse=0.075//m\n",
"dsi=0.050//m\n",
"dp=0.018//m\n",
"t=50//degree celcius\n",
"Es=210*10^9//N/m^2\n",
"Ec=105*10^9//N/m^2\n",
"as=11.5*10^-6//per degree celcius\n",
"ac=17*10^-6//per degree celcius\n",
"//refer fig 4.18\n",
"pi=3.14\n",
"Ac=(pi/4)*dc^2//m^2\n",
"As=(pi/4)*(dse^2-dsi^2)//m^2\n",
"Ap=(pi/4)*(dp)^2\n",
"//let l be the length of rods\n",
"//dlc=l*ac*t=850*10^-6*l\n",
"//dls=l*as*t=575*10^-6*l\n",
"//x=dlc-dls=275*10^-6*l\n",
"//x1=(P*l)/(Ac*Ec)=(P*l)/(206.22*10^6)//m\n",
"//x2=(P*l)/(As*Es)=(P*l)/(515.55*10^6)//m\n",
"//therefore X=x1+x2=(6.79*10^-9*P*l)\n",
"//x=X\n",
"P=(275*10^-6)/(6.79*10^-9)//N\n",
"fc=P/Ac//N/m^2\n",
"fs=P/As//N/m^2\n",
"tp=P/(2*Ap)//N/m^2\n",
"printf('the stress in coper bar is, %f N/m^2\n',fc)\n",
"printf('the stress in steel bar is, %f N/m^2\n',fs)\n",
"printf('the stress is pin is,%f N.m^2',tp)"
   ]
   }
,
{
		   "cell_type": "markdown",
		   "metadata": {},
		   "source": [
			"## Example 4.16: Machine_design.sce"
		   ]
		  },
  {
"cell_type": "code",
	   "execution_count": null,
	   "metadata": {
	    "collapsed": true
	   },
	   "outputs": [],
"source": [
"clc\n",
"//solution\n",
"//given\n",
"P=50*10^3//N//load\n",
"ft=100//N/mm^2//stress\n",
"//let d be diameter in mm\n",
"pi=3.14\n",
"//A=(pi/4)*d^2//area\n",
"//P=ft*A=100*A\n",
"//d^2=(50*1000/78.54)\n",
"d=sqrt(50000/78.54)//mm\n",
"//let x be side if rod is square\n",
"//P=ft*A=100*x^2\n",
"x=sqrt(500)//mm\n",
"//if rod s rectangular\n",
"//A=b*t//b=3t,therfore\n",
"//A=3*t^2//m^2\n",
"//P=ft*A\n",
"t=sqrt(50000/300)//mm\n",
"b=3*t//mm\n",
"printf('the diameter if rod is cylindrical is,%f mm\n',d)\n",
"printf('the side is rod is square is,%f mm\n',x)\n",
"printf('the length if rod is rectangular is ,%f mm \n',t)\n",
"printf('the width if rod is rect is ,%f mm',b)"
   ]
   }
,
{
		   "cell_type": "markdown",
		   "metadata": {},
		   "source": [
			"## Example 4.17: Machine_design.sce"
		   ]
		  },
  {
"cell_type": "code",
	   "execution_count": null,
	   "metadata": {
	    "collapsed": true
	   },
	   "outputs": [],
"source": [
"clc\n",
"//solution\n",
"//given\n",
"l=2400//mm//length\n",
"A=900//mm^2//area\n",
"P=500000//N//load\n",
"m=1/0.25\n",
"E=0.2*10^6//N/mm^2//young's modulus\n",
"//let dV be change in volume\n",
"V=A*l//mm^3//volume of rod\n",
"st=P/(A*E)//strain\n",
"//dV/V=st*(1-(2/m))\n",
"dV=V*st*(1-(2/m))//mm^3\n",
"printf('the change in volume is approximately,%f mm^3',dV)"
   ]
   }
,
{
		   "cell_type": "markdown",
		   "metadata": {},
		   "source": [
			"## Example 4.18: Machine_design.sce"
		   ]
		  },
  {
"cell_type": "code",
	   "execution_count": null,
	   "metadata": {
	    "collapsed": true
	   },
	   "outputs": [],
"source": [
"clc\n",
"//solution\n",
"//given\n",
"h=10//mm//height thru which weigth fall\n",
"l=3000//mm//length of bar\n",
"A=600//mm^2//xsection area of bar\n",
"dl=2//mm//change in length of bar\n",
"E=200*10^3//N/mm^2\n",
"//let f be stress\n",
"f=(E*dl)/l//N/mm^2\n",
"//let w be value of unknown weigth\n",
"//we know f=(W/A)*[1+sqrt{1+(2*h*A*E/W/l)}]\n",
"//400/3=(W/600)*[1+sqrt{1+(2*10*600*200*1000/W/3000)}]\n",
"W=6400*100/96//N\n",
"printf('the stress induces is,%f N/mm^2\n',f)\n",
"printf('the unknown weigth is,%f N',W)"
   ]
   }
,
{
		   "cell_type": "markdown",
		   "metadata": {},
		   "source": [
			"## Example 4.19: Machine_design.sce"
		   ]
		  },
  {
"cell_type": "code",
	   "execution_count": null,
	   "metadata": {
	    "collapsed": true
	   },
	   "outputs": [],
"source": [
"clc\n",
"//solution\n",
"//given\n",
"d=50//mm//diameter of rod\n",
"l=2500//mm//length of bar\n",
"u=100*10^3//N-mm//shock energy\n",
"E=200*10^3//N/mm^2\n",
"//let f be stress\n",
"pi=3.14\n",
"V=(pi/4)*d^2*l//mm^3\n",
"//u=(f^2*V)/(2*E)\n",
"f=sqrt(u*2*E/V)//N/mm^2\n",
"//let dl be elongation produced\n",
"dl=f*l/E//mm\n",
"printf('the stress produced is,%f N/mm^2\n',f)\n",
"printf('elongation priduces is, %f mm',dl)"
   ]
   }
,
{
		   "cell_type": "markdown",
		   "metadata": {},
		   "source": [
			"## Example 4.1: Machine_design.sce"
		   ]
		  },
  {
"cell_type": "code",
	   "execution_count": null,
	   "metadata": {
	    "collapsed": true
	   },
	   "outputs": [],
"source": [
"clc\n",
"//solution\n",
"//given:\n",
"P=50000//N//maximum load is P\n",
"f=75//(N/mm^2)//stress is given\n",
"pi=3.14\n",
"d=sqrt(4*P/(f*pi))//manipulating to get the value of d\n",
"//d=diameter of link stock //using relation f=P/A\n",
"printf('\n\nThe diameter of link stock is,%f mm\n,',d)"
   ]
   }
,
{
		   "cell_type": "markdown",
		   "metadata": {},
		   "source": [
			"## Example 4.2: Machine_design.sce"
		   ]
		  },
  {
"cell_type": "code",
	   "execution_count": null,
	   "metadata": {
	    "collapsed": true
	   },
	   "outputs": [],
"source": [
"clc\n",
"//solution\n",
"//given\n",
"P=45000//N//load applied\n",
"A1=45*20//mm^2//area of cross section at link A-A\n",
"//stress in section A-A\n",
"f1=P/A1//(N/mm^2)\n",
"printf('the stress in section A-A is ,%f N/mm^2\n',f1)\n",
"//stress in section B-B\n",
"A2=20*(75-40)//mm^2//area of cross section at link B-B\n",
"f2=P/A2//(N/mm^2)\n",
"printf('the stress in B-B section ,%f N/mm^2',f2)"
   ]
   }
,
{
		   "cell_type": "markdown",
		   "metadata": {},
		   "source": [
			"## Example 4.3: Machine_design.sce"
		   ]
		  },
  {
"cell_type": "code",
	   "execution_count": null,
	   "metadata": {
	    "collapsed": true
	   },
	   "outputs": [],
"source": [
"clc\n",
"//solution\n",
"//given\n",
"P=3.5*10^6//N//load applied\n",
"f1=85//(N/mm^2)// safe stress\n",
"E=210*10^3//(N/mm^2)//young's modulus\n",
"l=2.5*10^3//mm\n",
"pi=3.14\n",
"//1)diameter of rod(d)\n",
"//let d be diameter of rods in mm\n",
"//since both rods carries equal load ,therefore load on single rod is\n",
"P1=P/2//N\n",
"d=sqrt(4*P1/(f1*pi))//using f1=P/A//mm\n",
"printf('the diameter of rods is,%f mm\n',d)\n",
"//2)extension in rod\n",
"//let x be extension in rod\n",
"//E=(P1*l)/(A*x)\n",
" //P1/A=f1\n",
"x=(f1*l)/E\n",
"printf('the extension of rod is,%f mm',x)"
   ]
   }
,
{
		   "cell_type": "markdown",
		   "metadata": {},
		   "source": [
			"## Example 4.4: Machine_design.sce"
		   ]
		  },
  {
"cell_type": "code",
	   "execution_count": null,
	   "metadata": {
	    "collapsed": true
	   },
	   "outputs": [],
"source": [
"clc\n",
"//solution\n",
"//given\n",
"d=20//mm\n",
"d1=22//mm\n",
"d2=50//mm\n",
"d3=22//mm\n",
"d4=44//mm\n",
"P1=120000//N\n",
"P2=5000//N\n",
"//1)stress on lower washer before the nuts are tightened\n",
"pi=3.14\n",
"A1=(pi/4)*(d2^2-d1^2)//(mm^2)\n",
"A2=(pi/4)*(d4^2-d3^2)//(mm^2)\n",
"//since load is equally distributed on 4 washers,therfore load Q1=P1/4\n",
"Q1=P1/4//N\n",
"//calculating stress on lower washer\n",
"f2=Q1/A1//(N/mm^2)\n",
"printf('\n the stress on lower washer when nuts are not tightened is,%f N/mm^2\n',f2)\n",
"//2)\n",
"//stres on upper washers\n",
"P2=5000//N\n",
"f3=P2/A2//stress//(N/mm^2)\n",
"printf('the stress on upper washer is,%f N/mm^2\n',f3)\n",
"//stress on lower washer when nuts are tightened\n",
"f4=(Q1+P2)/A1//(N/mm^2)\n",
"printf('the stress on lower washer when nuts are tightened is,%f N/mm^2',f4)"
   ]
   }
,
{
		   "cell_type": "markdown",
		   "metadata": {},
		   "source": [
			"## Example 4.5: Machine_design.sce"
		   ]
		  },
  {
"cell_type": "code",
	   "execution_count": null,
	   "metadata": {
	    "collapsed": true
	   },
	   "outputs": [],
"source": [
"clc\n",
"//solution \n",
"//given\n",
"d=50//mm//diameter of rod\n",
"l=600//mm//length of rod\n",
"D=400//mm//diameter of piston\n",
"p=0.9//(N/mm^2)//maximum steam pressure\n",
"E=210*10^3//(N/mm^2)//young's modulus\n",
"pi=3.14\n",
"A=(pi/4)*D^2//(mm^2)//area of cross section of piston\n",
"P=A*p//N//max load acting on piston\n",
"a=(pi/4)*d^2//(mm^2)//area of cross section of piston rod\n",
"//let x be the compression\n",
"x=(P*l)/(E*a)//mm\n",
"printf('the compression in piston rod is,%f mm',x)"
   ]
   }
,
{
		   "cell_type": "markdown",
		   "metadata": {},
		   "source": [
			"## Example 4.6: Machine_design.sce"
		   ]
		  },
  {
"cell_type": "code",
	   "execution_count": null,
	   "metadata": {
	    "collapsed": true
	   },
	   "outputs": [],
"source": [
"clc\n",
"//solution\n",
"//given\n",
"d=60//mm\n",
"t=5//mm\n",
"u=350//(N/mm^2)//ultimate stress\n",
"pi=3.14\n",
"A=pi*d*t//(mm^2)//area under shear\n",
"//force required to punch a hole\n",
"P=A*u\n",
"printf('the force required is,%f N',P)"
   ]
   }
,
{
		   "cell_type": "markdown",
		   "metadata": {},
		   "source": [
			"## Example 4.7: Machine_design.sce"
		   ]
		  },
  {
"cell_type": "code",
	   "execution_count": null,
	   "metadata": {
	    "collapsed": true
	   },
	   "outputs": [],
"source": [
"clc\n",
"//solution\n",
"//given\n",
"P=80000//N//tensile force applied\n",
"f1=100//(N/mm^2)\n",
"f2=80//(N/mm^2)\n",
"//diameter of bars in mm\n",
"//A1=(pi/4)*D1^2//Area of bar\n",
"//P=f1*(pi/4)*D1^2\n",
"D1=sqrt((4*P)/(f1*pi))\n",
"printf('\nthe diameter of bars is,%f mm\n',D1)\n",
"//diameter of pin\n",
"//A2=(2*pi/4)*D2^2//area of pin\n",
"D2=sqrt((4*P)/(2*pi*f2))\n",
"printf('\n the diameter of pin is,%f mm \n',D2)"
   ]
   }
,
{
		   "cell_type": "markdown",
		   "metadata": {},
		   "source": [
			"## Example 4.8: Machine_design.sce"
		   ]
		  },
  {
"cell_type": "code",
	   "execution_count": null,
	   "metadata": {
	    "collapsed": true
	   },
	   "outputs": [],
"source": [
"clc\n",
"//solution\n",
"//given\n",
"t=16//thickness//mm\n",
"P=48*10^3//N\n",
"n=2//two plates are given\n",
"d=25//mm\n",
"//stress acting \n",
"f=(P/(d*t*n))//(N/mm^2)\n",
"printf('the stress acting is,%f N/mm^2',f)"
   ]
   }
,
{
		   "cell_type": "markdown",
		   "metadata": {},
		   "source": [
			"## Example 4.9: Machine_design.sce"
		   ]
		  },
  {
"cell_type": "code",
	   "execution_count": null,
	   "metadata": {
	    "collapsed": true
	   },
	   "outputs": [],
"source": [
"clc\n",
"//solution\n",
"//given\n",
"d=25//mm/diameter \n",
"P=2500//N/force\n",
"p=5//(N/mm^2)//bearing pressure\n",
"//A=l*d =l*25//(mm^2)//projected area of bearing\n",
"//p=P/A//pressure=force/area\n",
"//therefore\n",
"l=(P/(25*5))//mm//length\n",
"printf('the required length is,%f mm',l)"
   ]
   }
],
"metadata": {
		  "kernelspec": {
		   "display_name": "Scilab",
		   "language": "scilab",
		   "name": "scilab"
		  },
		  "language_info": {
		   "file_extension": ".sce",
		   "help_links": [
			{
			 "text": "MetaKernel Magics",
			 "url": "https://github.com/calysto/metakernel/blob/master/metakernel/magics/README.md"
			}
		   ],
		   "mimetype": "text/x-octave",
		   "name": "scilab",
		   "version": "0.7.1"
		  }
		 },
		 "nbformat": 4,
		 "nbformat_minor": 0
}
