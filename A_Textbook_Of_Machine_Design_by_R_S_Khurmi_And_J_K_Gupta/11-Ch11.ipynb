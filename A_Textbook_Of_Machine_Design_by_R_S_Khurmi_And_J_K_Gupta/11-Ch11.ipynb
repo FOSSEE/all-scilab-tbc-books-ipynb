{
"cells": [
 {
		   "cell_type": "markdown",
	   "metadata": {},
	   "source": [
       "# Chapter 11: Ch11"
	   ]
	},
{
		   "cell_type": "markdown",
		   "metadata": {},
		   "source": [
			"## Example 11.10: Machine_design.sce"
		   ]
		  },
  {
"cell_type": "code",
	   "execution_count": null,
	   "metadata": {
	    "collapsed": true
	   },
	   "outputs": [],
"source": [
"//find size mild steel\n",
"clc\n",
"//solution\n",
"//given\n",
"p=0.84//N/mm^2\n",
"ft=56//N/mm^2\n",
"//ref fig 11.29\n",
"//since pince is 350 mm,therfor area ia A\n",
"A=350*350//mm^2\n",
"P=A*p//N\n",
"printf('the value of force acting is,%f N\n',P)\n",
"//let dc be core diameter \n",
"pi=3.14\n",
"//P=(pi/4)*dc^2*ft//N\n",
"dc=sqrt((P*4)/(pi*ft))\n",
"printf('the value of dc is,%f mm\n',dc)\n",
"printf('the standard value of core diametr  is 49.177 mm fron T11.1')"
   ]
   }
,
{
		   "cell_type": "markdown",
		   "metadata": {},
		   "source": [
			"## Example 11.11: Machine_design.sce"
		   ]
		  },
  {
"cell_type": "code",
	   "execution_count": null,
	   "metadata": {
	    "collapsed": true
	   },
	   "outputs": [],
"source": [
"//determine diameter of hole\n",
"Do=48//mm\n",
"//from table 11.1 ,core dia Do=48//mm,Dc=41.795//mm\n",
"Do=48//mm\n",
"Dc=41.795//mm\n",
"D=sqrt(Do^2-Dc^2)//mm\n",
"printf('the dia of bolt is,%f mm',D)"
   ]
   }
,
{
		   "cell_type": "markdown",
		   "metadata": {},
		   "source": [
			"## Example 11.12: Machine_design.sce"
		   ]
		  },
  {
"cell_type": "code",
	   "execution_count": null,
	   "metadata": {
	    "collapsed": true
	   },
	   "outputs": [],
"source": [
"//determine the size of bolts\n",
"clc\n",
"//solution\n",
"//given\n",
"//ref fig 11.31\n",
"W=30000//N\n",
"ft=60//N/mm^2\n",
"L1=80//mm\n",
"L2=250//mm\n",
"L=500//mm\n",
"Wt1=W/4//N\n",
"printf('the value of Wt1 is,%f N\n',Wt1)\n",
"w=(W*L)/(2*(L1^2+L2^2))//N/mm\n",
"printf('the value of w is,%f N/mm\n',w)\n",
"Wt2=w*L2//N\n",
"printf('the value of Wt2 is,%f N\n',Wt2)\n",
"Wt=Wt1+Wt2//N\n",
"printf('the value of Wt is,%f N\n',Wt)\n",
"pi=3.14\n",
"//klet dc be coire dia\n",
"dc=sqrt((Wt*4)/(pi*ft))//mm\n",
"printf('the core diameter of bolt is,%f mm',dc)"
   ]
   }
,
{
		   "cell_type": "markdown",
		   "metadata": {},
		   "source": [
			"## Example 11.13: Machine_design.sce"
		   ]
		  },
  {
"cell_type": "code",
	   "execution_count": null,
	   "metadata": {
	    "collapsed": true
	   },
	   "outputs": [],
"source": [
"//determine the size of bolts\n",
"clc\n",
"//solution\n",
"//given\n",
"//ref fig 11.31\n",
"W=30000//N\n",
"ft=60//N/mm^2\n",
"L1=80//mm\n",
"L2=250//mm\n",
"L=500//mm\n",
"Wt1=W/4//N\n",
"printf('the value of Wt1 is,%f N\n',Wt1)\n",
"w=(W*L)/(2*(L1^2+L2^2))//N/mm\n",
"printf('the value of w is,%f N/mm\n',w)\n",
"Wt2=w*L2//N\n",
"printf('the value of Wt2 is,%f N\n',Wt2)\n",
"Wt=Wt1+Wt2//N\n",
"printf('the value of Wt is,%f N\n',Wt)\n",
"pi=3.14\n",
"//klet dc be coire dia\n",
"dc=sqrt((Wt*4)/(pi*ft))//mm\n",
"printf('the core diameter of bolt is,%f mm',dc)"
   ]
   }
,
{
		   "cell_type": "markdown",
		   "metadata": {},
		   "source": [
			"## Example 11.14: Machine_design.sce"
		   ]
		  },
  {
"cell_type": "code",
	   "execution_count": null,
	   "metadata": {
	    "collapsed": true
	   },
	   "outputs": [],
"source": [
"//find the size of the bolts\n",
"clc\n",
"//solution\n",
"//given\n",
"//ref fig 11.35\n",
"W=12000//N\n",
"L=400//mm\n",
"L1=50//mm\n",
"L2=375//mm\n",
"ft=84//N/mm^2\n",
"n=4\n",
"Ws=W/n//shear load on each bolt\n",
"Wt=0.5*[[W*L*L2]/[L1^2 +L2^2]]//N\n",
"Wte=0.5*[Wt + sqrt(Wt^2 +4*(Ws)^2)]//N//equivalent tensile load\n",
"//let dc be core dia\n",
"pi=3.14\n",
"//A=(pi/4)*dc^2*ft=66*dc^2\n",
"dc=sqrt(Wte/66)//mm\n",
"//let tabd b be thickness and depth of arm\n",
"//Z=(1/6)*t*b^2\n",
"M=W*L//N-mm\n",
"Z=M/84//\n",
"//asume b=250\n",
"b=250//mm\n",
"//Z=b^2*t/6\n",
"t=(M*6)/(ft*b^2)\n",
"printf('the value of core diameteris, %f mm\n',dc)\n",
"printf('the standard value of core diametr  is 11.546 mm fron T11.1\n')\n",
"printf('the value of equivalent tensile load is,%f N\n',Wte)\n",
"printf('the value tensile load is,%f N\n',Wt)\n",
"printf('the value of load actiung on each bolt is,%f N\n',Ws)\n",
"printf('the moment acting is,%f N-mm\n',M)\n",
"printf('the value of thickness is,%f mm',t)"
   ]
   }
,
{
		   "cell_type": "markdown",
		   "metadata": {},
		   "source": [
			"## Example 11.15: Machine_design.sce"
		   ]
		  },
  {
"cell_type": "code",
	   "execution_count": null,
	   "metadata": {
	    "collapsed": true
	   },
	   "outputs": [],
"source": [
"//find the size of the bolts\n",
"clc\n",
"//solution\n",
"//given\n",
"//ref fig 11.35\n",
"W=12000//N\n",
"L=400//mm\n",
"L1=50//mm\n",
"L2=375//mm\n",
"ft=84//N/mm^2\n",
"n=4\n",
"Ws=W/n//shear load on each bolt\n",
"Wt=0.5*[[W*L*L2]/[L1^2 +L2^2]]//N\n",
"Wte=0.5*[Wt + sqrt(Wt^2 +4*(Ws)^2)]//N//equivalent tensile load\n",
"//let dc be core dia\n",
"pi=3.14\n",
"//A=(pi/4)*dc^2*ft=66*dc^2\n",
"dc=sqrt(Wte/66)//mm\n",
"//let tabd b be thickness and depth of arm\n",
"//Z=(1/6)*t*b^2\n",
"M=W*L//N-mm\n",
"Z=M/84//\n",
"//asume b=250\n",
"b=250//mm\n",
"//Z=b^2*t/6\n",
"t=(M*6)/(ft*b^2)\n",
"printf('the value of core diameteris, %f mm\n',dc)\n",
"printf('the standard value of core diametr  is 11.546 mm fron T11.1\n')\n",
"printf('the value of equivalent tensile load is,%f N\n',Wte)\n",
"printf('the value tensile load is,%f N\n',Wt)\n",
"printf('the value of load actiung on each bolt is,%f N\n',Ws)\n",
"printf('the moment acting is,%f N-mm\n',M)\n",
"printf('the value of thickness is,%f mm',t)"
   ]
   }
,
{
		   "cell_type": "markdown",
		   "metadata": {},
		   "source": [
			"## Example 11.16: Machine_design.sce"
		   ]
		  },
  {
"cell_type": "code",
	   "execution_count": null,
	   "metadata": {
	    "collapsed": true
	   },
	   "outputs": [],
"source": [
"//find a.)dia of fixing bolts,b.)dimension of arms\n",
"clc\n",
"//soltuion\n",
"//given\n",
"//refer fig 11.39\n",
"W=10000//N\n",
"q=60//deg\n",
"f1=100//N/mm^2\n",
"t=60//N/mm^2\n",
"Wh=W*sin(%pi/3)//N\n",
"printf('the horizontal component is,%f N\n',Wh)\n",
"Wv=W*cos(pi/3)//N\n",
"printf('the vertical component is,%f N\n',Wv)\n",
"Wt1=Wh/4//force on each bolt//N\n",
"printf('the direct tensile load on each bolt is,%f N\n',Wt1)\n",
"x1=0.05//m//distance of horizontal component from CG\n",
"Th=Wh*x1//N-m//torque due to horizntl compnt\n",
"Ws=Wv/4//N//shear load on each bolt\n",
"printf('shear load on each boltis,%f N\n',Ws)\n",
"x2=0.3//m\n",
"Tv=Wv*x2//N-m\n",
"Tn=Tv-Th//N-m//net moment\n",
"printf('net moment is,%f N-m\n',Tn)\n",
"L1=(250-175)/2000//m//dis btw 1 and 2 bolt\n",
"L3=L1+0.175//m//dis btw 3 and 4 bolt\n",
"printf('the value of L3 is,%f m\n',L3)\n",
"//let w be load  on each bolt\n",
"//Te=2*(w*L1)*L1 + 2*(w*L2)*L2=2*w(L1^2 +L2^2)//total moment abt E\n",
"//Te=0.093*w//N-m\n",
"w=Tn/0.093//N/m\n",
"printf('the laod on each per meter distance from E is,%f N/m\n',w)\n",
"L2=180//mm\n",
"Wt2=w*L3//N\n",
"printf('the value of Wt1 is ,%f N\n',Wt1)\n",
"printf('the value of Wt2 is,%f N\n',Wt2)\n",
"Wt=Wt1+Wt2//N\n",
"printf('the value of total force is,%f N\n',Wt)\n",
"Wte=0.5*[Wt + sqrt(Wt^2 + 4*Ws^2)]//N\n",
"printf('the value of equivalent force is,%f N\n',Wte)\n",
"//let dc be core dia\n",
"dc=sqrt((4*Wte)/(pi*f1))//mm\n",
"printf('the value of core dia is,%f mm\n',dc)\n",
"printf('the valuf of core dia from tabl 11.1 instandard condition is 8.18mm\n')\n",
"//let t be thickness and b be the width,b=3*t\n",
"//A=3*b*t=9*t^2//mm^2\n",
"//I={[b*(2*t +b)^3]/12}-{(b-t)*b^3/12}\n",
"//I=321*t^4/12\n",
"//Z=I/(t+0.5*b)=10.7*t^3//mm^3\n",
"//ft1=Wh/A=962/t^2//N/mm^2\n",
"Mh=Wh*0.05//N-m\n",
"//ft2=Mh/Z=40.5*10^3/t^3//N/mm^2\n",
"//Ty=Wv/A=556/t^3//N/mm^2\n",
"Mv=Wv*0.3//N-m\n",
"//ft3=Mv/Z=140.2*10^3/t^3//N/mm^2\n",
"//Ftnet=ft1-ft2+ft3//N/mm^2\n",
"//Ftnet=(962/t^2)-(40.5*10^3/t^3)+(140.210^3/t^3)\n",
"//Ftnet=(962/t^2)+(99.7*10^3/t^3)\n",
"Ftnet=100//N/mm^2\n",
"//by hit and trial\n",
"//'Ftnet=100=(962/t^2)+(99.7*10^3/t^3)\n",
"t=10.4//mm\n",
"b=3*t//mm\n",
"printf('the thickness is,%f mm\n',t)\n",
"printf('the width is,%f mm',b)"
   ]
   }
,
{
		   "cell_type": "markdown",
		   "metadata": {},
		   "source": [
			"## Example 11.17: Machine_design.sce"
		   ]
		  },
  {
"cell_type": "code",
	   "execution_count": null,
	   "metadata": {
	    "collapsed": true
	   },
	   "outputs": [],
"source": [
"//find size of bolts\n",
"clc\n",
"//solution\n",
"//given\n",
"//ref fig 11.42\n",
"n=8\n",
"d=1.6//m\n",
"r=0.8//m\n",
"D=2//m\n",
"R=1//m\n",
"W=100000//N\n",
"e=5//m\n",
"ft=100//N/mm^2\n",
"L=e-R//m\n",
"//let dc be core dia\n",
"pi=3.14\n",
"Wt=(2*W*L*(R+r))/(n*(2*R^2+r^2))//N\n",
"printf('the max load acting is,%f N\n',Wt)\n",
"dc=sqrt((W*4)/(pi*ft))//mm\n",
"printf('the core dia is,%f mm\n',dc)\n",
"printf('the standard value of core dia is 31.093 from table 11.1')"
   ]
   }
,
{
		   "cell_type": "markdown",
		   "metadata": {},
		   "source": [
			"## Example 11.18: Machine_design.sce"
		   ]
		  },
  {
"cell_type": "code",
	   "execution_count": null,
	   "metadata": {
	    "collapsed": true
	   },
	   "outputs": [],
"source": [
"//find size of bolts\n",
"clc\n",
"//solution\n",
"//given\n",
"n=4\n",
"d=500//mm\n",
"r=250//mm\n",
"D=650//mm\n",
"R=325//mm\n",
"W=400*10^3//N\n",
"L=350//mm\n",
"ft=60//N/mm^2\n",
"//let dc be core dia\n",
"pi=3.14\n",
"Wt=[(2*W*L)*{R+r*cos(pi/n)}]/{n*(2*R^2 +r^2)}\n",
"printf('the value of load acting is,%f N\n',Wt)"
   ]
   }
,
{
		   "cell_type": "markdown",
		   "metadata": {},
		   "source": [
			"## Example 11.19: Machine_design.sce"
		   ]
		  },
  {
"cell_type": "code",
	   "execution_count": null,
	   "metadata": {
	    "collapsed": true
	   },
	   "outputs": [],
"source": [
"//find size of bolts\n",
"clc\n",
"//solution\n",
"//given\n",
"n=4\n",
"d=500//mm\n",
"r=250//mm\n",
"D=650//mm\n",
"R=325//mm\n",
"W=400*10^3//N\n",
"L=350//mm\n",
"ft=60//N/mm^2\n",
"//let dc be core dia\n",
"pi=3.14\n",
"Wt=[(2*W*L)*{R+r*cos(pi/n)}]/{n*(2*R^2 +r^2)}\n",
"printf('the value of load acting is,%f N\n',Wt)"
   ]
   }
,
{
		   "cell_type": "markdown",
		   "metadata": {},
		   "source": [
			"## Example 11.1: Machine_design.sce"
		   ]
		  },
  {
"cell_type": "code",
	   "execution_count": null,
	   "metadata": {
	    "collapsed": true
	   },
	   "outputs": [],
"source": [
"//find safe tensile load\n",
"clc\n",
"//soltuion\n",
"//given\n",
"d=30//mm\n",
"ft=42//N/mm^2\n",
"//using table 11.1,area corresponding to d=30mm is A=561//N/mm^2\n",
"A=561//mm^2\n",
"F=A*ft//N\n",
"printf('the value of force is,%f N',F)"
   ]
   }
,
{
		   "cell_type": "markdown",
		   "metadata": {},
		   "source": [
			"## Example 11.2: Machine_design.sce"
		   ]
		  },
  {
"cell_type": "code",
	   "execution_count": null,
	   "metadata": {
	    "collapsed": true
	   },
	   "outputs": [],
"source": [
"//find stress\n",
"clc\n",
"//solution\n",
"//given\n",
"d=24//mm\n",
"//using table 11.1,area corresponding to d=24mm ,core diameter dc is=20.32//mm\n",
"dc=20.32//mm\n",
"//let ft is stress\n",
"P=2840*d//N\n",
"pi=3.14\n",
"//P=A*ft\n",
"A=(pi/4)*dc^2\n",
"ft=P/(A)//N/mm^2\n",
"printf('the stress acting is,%f N/mm^2',ft)"
   ]
   }
,
{
		   "cell_type": "markdown",
		   "metadata": {},
		   "source": [
			"## Example 11.3: Machine_design.sce"
		   ]
		  },
  {
"cell_type": "code",
	   "execution_count": null,
	   "metadata": {
	    "collapsed": true
	   },
	   "outputs": [],
"source": [
"//find nominal diameter of bolt\n",
"clc\n",
"//solution\n",
"//given\n",
"//ref fig 11.22\n",
"P=60000//N\n",
"ft=100//N/mm^2\n",
"//let d nominal diameter and dc core dia\n",
"//P=ft/A\n",
"//A=(pi/4)*dc^2\n",
"pi=3.14\n",
"dc=sqrt(P*4/(pi*ft))\n",
"printf('the value of dc is,%f mm\n',dc)\n",
"printf('the nominal value of d is 33 mm fron T11.1')"
   ]
   }
,
{
		   "cell_type": "markdown",
		   "metadata": {},
		   "source": [
			"## Example 11.4: Machine_design.sce"
		   ]
		  },
  {
"cell_type": "code",
	   "execution_count": null,
	   "metadata": {
	    "collapsed": true
	   },
	   "outputs": [],
"source": [
"//find size of bolts\n",
"clc\n",
"//solution\n",
"//given\n",
"T=25*10^3//N-mm\n",
"n=4\n",
"Rp=30//mm\n",
"t=30//N/mm^2\n",
"Ps=T/Rp//N//shearing load\n",
"//let dc be core dia\n",
"//P=t*n*A\n",
"//A=(pi/4)*dc^2\n",
"pi=3.14\n",
"//P=t*n*(pi/4)*dc^2=94.26*dc^2\n",
"//P=Ps\n",
"dc=sqrt(Ps/94.26)//mm\n",
"printf('the value of dc is,%f mm\n',dc)\n",
"printf('the standard value of core diametr  is 3.141 mm fron T11.1')"
   ]
   }
,
{
		   "cell_type": "markdown",
		   "metadata": {},
		   "source": [
			"## Example 11.5: Machine_design.sce"
		   ]
		  },
  {
"cell_type": "code",
	   "execution_count": null,
	   "metadata": {
	    "collapsed": true
	   },
	   "outputs": [],
"source": [
"//find dia meter of threaded part \n",
"clc\n",
"//solution\n",
"//given\n",
"D=100//mm\n",
"p=1.6//N/mm^2\n",
"ft=50//N/mm^2\n",
"pi=3.14\n",
"A=(pi/4)*D^2\n",
"F=A*p//N\n",
"printf('the value of force is,%f N\n',F)\n",
"//since leverage is 8,therfor\n",
"W=F/8//N\n",
"P=F-W\n",
"//let dc be core dia'\n",
"//P=(pi/4)*dc^2*ft\n",
"dc=sqrt(P*4/(pi*ft))//mm\n",
"printf('the value of core dai is,%f mm\n',dc)\n",
"printf('the standard value of core diametr  is 18.376 mm fron T11.1')\n",
""
   ]
   }
,
{
		   "cell_type": "markdown",
		   "metadata": {},
		   "source": [
			"## Example 11.6: Machine_design.sce"
		   ]
		  },
  {
"cell_type": "code",
	   "execution_count": null,
	   "metadata": {
	    "collapsed": true
	   },
	   "outputs": [],
"source": [
"//caLCULATE the nmber ans size of studs\n",
"clc\n",
"//soltuion\n",
"//given\n",
"D=350//mm\n",
"p=1.25//N/mm^2\n",
"ft=33//N/mm^2\n",
"//let d be diameter of studs and dc be core daimeter of studs\n",
"pi=3.14\n",
"P=(pi/4)*D^2*p//N\n",
"//assuming nominal dia of studs =24, corrsponding dc=20.32//mm\n",
"d=24//mm\n",
"dc=20.32//mm\n",
"//P1=(pi/4)*dc^2*ft*n\n",
"n=P*4/(pi*dc^2*ft)\n",
"printf('the value of nukmber of studs is,%f \n',n)\n",
"printf('let us assume the value of nukmber of studs is 12\n' )\n",
"d1=25//mm//dia of stid hole\n",
"t=10//mm//assume\n",
"Dp=D+2*t+3*d1//mmm\n",
"printf('the value of pitch dia is,%f mm\n',Dp)\n",
"Pc=(pi*Dp)/(12)//n=12//mm//circumferential pitch\n",
"printf('the value of circumferential pitch is,%f mm\n',Pc)\n",
"x1=20*sqrt(d1)//mm\n",
"x2=30*sqrt(d1)//mm\n",
"printf('the lower and upper limet of circumferential pitch is,%f mm\n and ,%f mm',x1,x2)\n",
"printf('since Pc lies btw x1 and x2,hence design is safe')\n",
"printf('the size of stud is M24')"
   ]
   }
,
{
		   "cell_type": "markdown",
		   "metadata": {},
		   "source": [
			"## Example 11.7: Machine_design.sce"
		   ]
		  },
  {
"cell_type": "code",
	   "execution_count": null,
	   "metadata": {
	    "collapsed": true
	   },
	   "outputs": [],
"source": [
"//desing th cover plate\n",
"clc\n",
"//solution\n",
"//given\n",
"D=120//mm\n",
"r=60//mm\n",
"p=6//N/mm^2\n",
"ft=60//N/mm^2\n",
"ftb=40//N/mm^2\n",
"t=r*[sqrt((ft+p)/(ft-p))-1]//mm\n",
"printf('the value of thicness is,%f mm\n',t)\n",
"printf('let us consider t=10mm\n')\n",
"//let d be nominal dia,dc core dia,nnumber of bolts\n",
"pi=3.14\n",
"P=(pi/4)*D^2*p//N\n",
"//let us assume d=24//mm,corrsponding dc=20.32/\n",
"d=24//mm\n",
"dc=20.32//mm\n",
"//P1=(pi/4)*dc^2*ftb*n//resistance offered by n bolts\n",
"//P1=12973*n//N\n",
"//P=P1\n",
"n=P/12973\n",
"printf('the value of number of studs is,%f \n',n)\n",
"printf('let us assume the value of number of studs is 6\n' )\n",
"d1=25//mm//dia of stid hole\n",
"t=10//mm//assume\n",
"Dp=D+2*t+3*d1//mmm\n",
"printf('the value of pitch dia is,%f mm\n',Dp)\n",
"Pc=(pi*Dp)/(6)//n=12//mm//circumferential pitch\n",
"printf('the value of circumferential pitch is,%f mm\n',Pc)\n",
"x1=20*sqrt(d1)//mm\n",
"x2=30*sqrt(d1)//mm\n",
"printf('the lower and upper limet of circumferential pitch is,%f mm\n and ,%f mm\n',x1,x2)\n",
"printf('since Pc lies btw x1 and x2,hence design is safe\n')\n",
"printf('the size of bolt is M24')"
   ]
   }
,
{
		   "cell_type": "markdown",
		   "metadata": {},
		   "source": [
			"## Example 11.8: Machine_design.sce"
		   ]
		  },
  {
"cell_type": "code",
	   "execution_count": null,
	   "metadata": {
	    "collapsed": true
	   },
	   "outputs": [],
"source": [
"//find size of bolt required\n",
"clc\n",
"//soltuion\n",
"//given\n",
"D=300//mm\n",
"p=1.5//N/mm^2\n",
"n=8\n",
"fy=330//N/mm^2\n",
"fe=240//n/mm^2\n",
"//P1=1.5*P2\n",
"Fs=2\n",
"K=0.5\n",
"pi=3.14\n",
"P2=(pi/4)*D^2*p//N\n",
"P1=1.5*P2//N\n",
"Pmax=P1+K*P2//N\n",
"printf('the max force on head  is,%f N\n',Pmax)\n",
"Pmax1=Pmax/n//N//load on each bolt\n",
"Pmin=P1/n//N\n",
"Pm=(Pmin+Pmax1)/2//N//average load\n",
"Pv=(Pmax1-Pmin)/2//N//variable load\n",
"printf('the mean and vaiable load acting are Pm and Pv,%f N\n,%f N\n',Pm,Pv)\n",
"//let dc core diametr of bolt in mm\n",
"//As=(pi/4)*dc^2//mm^2//stress area of bolt\n",
"//fm=Pm/As=29534/dc^2//N/mm^2\n",
"//fv=Pv/As=4220/dc^2//N/mm^2\n",
"//acc to soderberg's formula ,\n",
"//fv=fe[(1/Fs)-(fm/fy)]\n",
"//4420/dc^2=240*[(1/2)-29534/(dc^2*330)]\n",
"dc=sqrt(25700/120)//mm\n",
"printf('the value of core dai is,%f mm\n',dc)\n",
"printf('the standard value of core diametr  is 14.933 mm fron T11.1')"
   ]
   }
,
{
		   "cell_type": "markdown",
		   "metadata": {},
		   "source": [
			"## Example 11.9: Machine_design.sce"
		   ]
		  },
  {
"cell_type": "code",
	   "execution_count": null,
	   "metadata": {
	    "collapsed": true
	   },
	   "outputs": [],
"source": [
"//find size of bolt required\n",
"clc\n",
"//soltuion\n",
"//given\n",
"D=300//mm\n",
"p=1.5//N/mm^2\n",
"n=8\n",
"fy=330//N/mm^2\n",
"fe=240//n/mm^2\n",
"//P1=1.5*P2\n",
"Fs=2\n",
"K=0.5\n",
"pi=3.14\n",
"P2=(pi/4)*D^2*p//N\n",
"P1=1.5*P2//N\n",
"Pmax=P1+K*P2//N\n",
"printf('the max force on head  is,%f N\n',Pmax)\n",
"Pmax1=Pmax/n//N//load on each bolt\n",
"Pmin=P1/n//N\n",
"Pm=(Pmin+Pmax1)/2//N//average load\n",
"Pv=(Pmax1-Pmin)/2//N//variable load\n",
"printf('the mean and vaiable load acting are Pm and Pv,%f N\n,%f N\n',Pm,Pv)\n",
"//let dc core diametr of bolt in mm\n",
"//As=(pi/4)*dc^2//mm^2//stress area of bolt\n",
"//fm=Pm/As=29534/dc^2//N/mm^2\n",
"//fv=Pv/As=4220/dc^2//N/mm^2\n",
"//acc to soderberg's formula ,\n",
"//fv=fe[(1/Fs)-(fm/fy)]\n",
"//4420/dc^2=240*[(1/2)-29534/(dc^2*330)]\n",
"dc=sqrt(25700/120)//mm\n",
"printf('the value of core dai is,%f mm\n',dc)\n",
"printf('the standard value of core diametr  is 14.933 mm fron T11.1')"
   ]
   }
],
"metadata": {
		  "kernelspec": {
		   "display_name": "Scilab",
		   "language": "scilab",
		   "name": "scilab"
		  },
		  "language_info": {
		   "file_extension": ".sce",
		   "help_links": [
			{
			 "text": "MetaKernel Magics",
			 "url": "https://github.com/calysto/metakernel/blob/master/metakernel/magics/README.md"
			}
		   ],
		   "mimetype": "text/x-octave",
		   "name": "scilab",
		   "version": "0.7.1"
		  }
		 },
		 "nbformat": 4,
		 "nbformat_minor": 0
}
