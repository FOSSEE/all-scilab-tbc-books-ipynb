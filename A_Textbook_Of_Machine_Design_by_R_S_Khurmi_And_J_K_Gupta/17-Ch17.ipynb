{
"cells": [
 {
		   "cell_type": "markdown",
	   "metadata": {},
	   "source": [
       "# Chapter 17: Ch17"
	   ]
	},
{
		   "cell_type": "markdown",
		   "metadata": {},
		   "source": [
			"## Example 17.10: Machine_design.sce"
		   ]
		  },
  {
"cell_type": "code",
	   "execution_count": null,
	   "metadata": {
	    "collapsed": true
	   },
	   "outputs": [],
"source": [
"//find...\n",
"clc\n",
"//soltuion\n",
"//given\n",
"do=48//mm\n",
"p=8//mm\n",
"u=0.15//tan(q)\n",
"T=40000//N-mm\n",
"//let W be weigth\n",
"d=do-p/2//mm\n",
"Lead=3*p\n",
"//tan(a)=Lead/(%pi/d)=b=0.174\n",
"b=0.174\n",
"//u1=u/(cos(B))=u/(cos(15)=0.155\n",
"u1=0.155\n",
"//T1=W*[(b+u)/(1-(b*u))]*d/2//N-mm//torque aacting\n",
"//T=7.436*W\n",
"W=T/7.436//N\n",
"printf('the load acting is,%f N\n',W)\n",
"h=50//mm//heigth of nut\n",
"n=h/p//numbr of thread\n",
"t=p/2//thikness of therrad\n",
"pb=W/(%pi*n*t*d)//N/mm^2\n",
"printf('the bearing pressure is,%f N/mm^2',pb)"
   ]
   }
,
{
		   "cell_type": "markdown",
		   "metadata": {},
		   "source": [
			"## Example 17.11: Machine_design.sce"
		   ]
		  },
  {
"cell_type": "code",
	   "execution_count": null,
	   "metadata": {
	    "collapsed": true
	   },
	   "outputs": [],
"source": [
"//find...\n",
"clc\n",
"//soltuion\n",
"//given\n",
"//ref fig 17.10\n",
"do=12//mm\n",
"p=2//mm\n",
"u=0.12//tan(q)\n",
"u2=0.25\n",
"R=6//mm\n",
"P1=80//N\n",
"W=4000//N\n",
"d=do-p/2//mm\n",
"//tan(a)=p/(%pi*d)=0.058\n",
"b=0.058\n",
"//u1=u/(cos(B))=u/(cos(15)=0.124\n",
"u1=0.124\n",
"T1=W*[(b+u)/(1-(b*u))]*d/2//N-mm//torque acting\n",
"T2=u2*W*R//N-mm\n",
"T=T1+T2//N-mn\n",
"l=T/P1//mm\n",
"printf('the length of handle req is,%f mm\n',l)\n",
"dc=do-p//mm\n",
"//T=(%pi/16)*t*dc^2\n",
"t=16*T/(%pi*dc^3)//N/mm^2\n",
"M=P1*150//N-mm\n",
"fb=32*M/(%pi*dc^3)//N/mm^2\n",
"tmax=0.5*sqrt(fb^2 +4*t^2)//N/mm^2\n",
"printf('the max shear stressa cting is,%f N/mm^2\n',tmax)\n",
"h=25//mm\n",
"n=h/p\n",
"t1=p/2\n",
"pb=W/(%pi*n*t1*d)//N/mm^2\n",
"printf('the bearing pressure is,%f N/mm^2',pb)"
   ]
   }
,
{
		   "cell_type": "markdown",
		   "metadata": {},
		   "source": [
			"## Example 17.12: Machine_design.sce"
		   ]
		  },
  {
"cell_type": "code",
	   "execution_count": null,
	   "metadata": {
	    "collapsed": true
	   },
	   "outputs": [],
"source": [
"//find...\n",
"clc\n",
"//soltuion\n",
"//given\n",
"W=100*1000//n\n",
"N=60//rpm\n",
"u=0.12\n",
"fc=100//N/mm^2\n",
"//let Ac be core dia\n",
"Ac=W/fc//mm^2\n",
"//corr to Ac,we get'\n",
"do=50//mm\n",
"dc=41.5//mm\n",
"d=46//mm\n",
"p=8//mm\n",
"printf('the nominal,core ,mean dia and pitch of screw corresponding to Ac are,%f mm\n,%f mm\n,%f mm\n,%f mm\n',do,dc,d,p)\n",
"//tan(a)=p/(%pi*d)=0.055\n",
"b=0.055\n",
"//u1=u/(cos(B))=u/(cos(15)=0.124\n",
"u1=0.124\n",
"P=W*[(b+u)/(1-(b*u))]//N\n",
"T1=P*d/2//N-mm\n",
"T2=0.1*T1//N\n",
"T=T1+T2//N-mm\n",
"To=W*b*d/2//N\n",
"eff=To/T\n",
"Power=T*2*%pi*N/60000//W\n",
"printf('the effi and power tranmitted is,%f \n,%f W\n',eff,Power)"
   ]
   }
,
{
		   "cell_type": "markdown",
		   "metadata": {},
		   "source": [
			"## Example 17.14: Machine_design.sce"
		   ]
		  },
  {
"cell_type": "code",
	   "execution_count": null,
	   "metadata": {
	    "collapsed": true
	   },
	   "outputs": [],
"source": [
"//find...\n",
"clc\n",
"//soltuion\n",
"//given\n",
"W=40000//N\n",
"L=400//mm\n",
"do=50//mm\n",
"p=10//mm\n",
"fcu=320//N/mm^2\n",
"fy=200//N/mm^2\n",
"ty=120//N/mm^2\n",
"tc=20//N/mm^2\n",
"pb=12//N/mm^2\n",
"E=210*1000//N/mm^2\n",
"u=0.13///=tan(q)\n",
"dc=do-p//mm\n",
"Ac=(%pi/4)*dc^2\n",
"fc=W/Ac//N/mm^2\n",
"d=(do+dc)/2//mm\n",
"//tan(a)=p/(%pi*d)=0.07\n",
"b=0.07\n",
"T=W*[(b+u)/(1-(b*u))]*d/2//N-mm//torque acting\n",
"//let t be stress\n",
"t=(T*16)/(%pi*dc^3)//N/mm^2\n",
"tmax=0.5*sqrt(fc^2 +4*t^2)//N/mm^2\n",
"printf('the max shear stressa cting is,%f N/mm^2\n',tmax)\n",
"Fs=ty/tmax\n",
"printf('factor of safety is,%f\n',Fs)\n",
"//let n be numbr of therads\n",
"//n=W/(12*%pi/4*(do^2-dc^2))\n",
"printf('the numbr of threads is,%f \n',W/(12*%pi/4*(do^2-dc^2)))\n",
"printf('the numbr of threads is n=5\n')\n",
"n=5\n",
"h=p*n//mm\n",
"printf('the heigth of nut is,%f mm\n',h)\n",
"To=W*b*d/2//N-mm\n",
"eff=To/T\n",
"printf('the eff of arrngement is,%f',eff)"
   ]
   }
,
{
		   "cell_type": "markdown",
		   "metadata": {},
		   "source": [
			"## Example 17.15: Machine_design.sce"
		   ]
		  },
  {
"cell_type": "code",
	   "execution_count": null,
	   "metadata": {
	    "collapsed": true
	   },
	   "outputs": [],
"source": [
"//find...\n",
"clc\n",
"//soltuion\n",
"//given\n",
"W=80000//N\n",
"H1=400//mm\n",
"fet=200//N/mm^2\n",
"fec=200//N/mm^2\n",
"te=120//N/mm^2\n",
"fetn=100//N/mm^2\n",
"fecn=90//N/mm^2\n",
"te=80//N/mm^2\n",
"pb=18//N/mm^2\n",
"//let dc be core dia\n",
"Fs=2\n",
"//W=(%pi/4)*dc^2*fec/Fs=78.55*dc^2\n",
"//dc=sqrt(W/78.55)\n",
"printf('the core dia is,%f mm\n',sqrt(W/78.55))\n",
"printf('the core dia is,say 38mm selcted from table 17.2\n')\n",
"dc=38//mm\n",
"do=46//mm\n",
"p=8//m\n",
"printf('the nomnal dia and pitch is,%f mm\n,%f mm\n',do,p)\n",
"d=(do+dc)/2//mm\n",
"//tan(a)=p/(%pi*d)=0.0606\n",
"b=0.0606\n",
"u=0.14//=tan(q)\n",
"T1=W*[(b+u)/(1-(b*u))]*d/2//N-mm//torque acting\n",
"fc=W/(%pi*dc^2/4)//N/mm^@\n",
"t=(16*T1)/(%pi*dc^2)//N/mm^2\n",
"fcmax=0.5*[fc+sqrt(fc^2 +4*t^2)]//N/mm^2\n",
"printf('the max pric stress is,%f N/mm^2\n',fcmax)\n",
"tmax=0.5*sqrt(fc^2 +4*t^2)//N/mm^2\n",
"printf('the max shear stress is,%f N/mm^2\n',tmax)\n",
"//let n be numbr of therads\n",
"//n=W/(12*%pi/4*(do^2-dc^2))\n",
"printf('the numbr of threads is,%f \n',W/(12*%pi/4*(do^2-dc^2)))\n",
"printf('the numbr of threads is n=10\n')\n",
"n=10\n",
"h=p*n//mm\n",
"printf('the heigth of nut is,%f mm\n',h)\n",
"//let D1 be outer dia of nut\n",
"//W=(%pi/4)*[D1^2-do^2]*fetn/2=39.3*(D1^2-2116)\n",
"D1=sqrt(W/39.3 +2116)//mm\n",
"printf('the outer dia of nut is,%f mm\n',D1)\n",
"//let D2 be outer dia of nut collar\n",
"//W=(%pi/4)*[D2^2-D1^2]*fetn/2=35.3*(D2^2-4225)\n",
"D2=sqrt(W/35.3 + 4225)//mm\n",
"printf('the oter dia of collar nut is,%f mm\n',D2)\n",
"t1=W/(%pi*D1*40)//mm\n",
"printf('the thickness of nut is,%f mm\n',t1)\n",
"D3=1.75*do//mm\n",
"h3=50//mm\n",
"t3=10//mm\n",
"d3=160//mm\n",
"printf('the heigth ,thickness ,and dia of top of cup is,%f mm\n,%f mm\n,%f mm\n',h3,t3,d3)\n",
"u1=u//assume\n",
"//M=force applied * length of lever\n",
"M=300*2250//N-mm\n",
"//let D4 be dia of handle\n",
"fb=200/2\n",
"D4=(M/(%pi/32*fb))^(1/3)//mm\n",
"printf('the dia of ahndle is,%f mm\n',D4)\n",
"H4=2*D4//mm\n",
"printf('the heigth of head is,%f mm\n',H4)\n",
"//design of body\n",
"D5=1.5*D2//mm\n",
"t5=0.25*do//mm\n",
"D6=2.25*D2//mm\n",
"D7=1.75*D6//mm\n",
"t2=2*t1//mm\n",
"To=W*b*d/2//N-mm\n",
"printf('the dia of body at top is,%fmm\n',D5)\n",
"printf('the thickness of boody is,%f mm\n',t5)\n",
"printf('the inner dia is,%f mm\n',D6)\n",
"printf('the outr dia is,%f mm\n',D7)\n",
"printf('the thickness of base is,%f mm\n',t2)"
   ]
   }
,
{
		   "cell_type": "markdown",
		   "metadata": {},
		   "source": [
			"## Example 17.16: Machine_design.sce"
		   ]
		  },
  {
"cell_type": "code",
	   "execution_count": null,
	   "metadata": {
	    "collapsed": true
	   },
	   "outputs": [],
"source": [
"//desing\n",
"clc\n",
"//soltuion\n",
"//given\n",
"//ref fig 17.12\n",
"W=4000//N\n",
"l=110//mm\n",
"ft=100//N/mm^2\n",
"t=50//N/mm^2\n",
"pb=20//N/mm^2\n",
"p=6\n",
"u=0.20\n",
"//design of square\n",
"//cos(q)=0.8112\n",
"q=(%pi/180)*35.1//rad\n",
"F=W/(2*tan(q))//N\n",
"W1=2*F//N\n",
"//let dc be core dia\n",
"//dc=sqrt(4*W1/(%pi*ft))\n",
"printf('the core dia is,%f mm\n',sqrt(4*W1/(%pi*ft)))\n",
"printf('the core dia is,say dc=14 mm\n')\n",
"dc=14//mm\n",
"do=dc+p\n",
"printf('the nominal dia is,%f mm\n',do)\n",
"d=do-p/2\n",
"//tan(a)=p/(%pi/d)=b=0.1123\n",
"b=0.1123\n",
"P=W*[(b+u)/(1-(b*u))]//N\n",
"T=(P*d/2)\n",
"t1=(16*T)/(%pi*dc^3)///N/mm^2\n",
"ft1=W1/(%pi/4*dc^2)//N/mm^2\n",
"ftmax=0.5*(ft1+ sqrt(ft1^2 +4*t1^2))//N/mm^2\n",
"tmax=0.5*(sqrt(ft1^2 + 4* t1^2))//N/mm^2\n",
"printf('the max prin stress and max shear stress is,%f N/mm^2\n,%f N/mm^2\n',ftmax,tmax)\n",
"printf('since max stresses are within safe limits,therefore design is safe\n')\n",
"//design of nut\n",
"//let n be numbr of threads\n",
"//n=W1/(%pi/4*20*(do^2-dc^2))\n",
"printf('the numbr of threads are ,%f \n',W1/(%pi/4*20*(do^2-dc^2)))\n",
"printf('since number of threads can not so less,so we take n=4\n')\n",
"n=4\n",
"t2=n*p//mm\n",
"printf('the number of therd and thickness of threads is,%f \n,%f mm\n',n,t2)\n",
"b1=1.5*do\n",
"printf('the width of nut is,%f mm\n',b1)\n",
"length =210+t2+(2*8)\n",
"printf('the length of screwd portion is,%f mm\n',length)\n",
"//desig of pins in nuts\n",
"//let d1 be dia\n",
"d1=sqrt(F/(2*%pi/4*t))\n",
"printf('the dia of pins in nuts is,%f mm\n',d1)\n",
"//design of links\n",
"F1=F/2//load on link\n",
"Wcr=1423*5//Fs=5\n",
"//let t3 be thickness and b3 be width of link\n",
"//Al=t3*3t3=3*t3^2//b3=3*t3\n",
"//I=(1/12)*t3*b3^2=2.25*t3^4\n",
"//k=sqrt(I/Al)=0.866*t3\n",
"L=110\n",
"a=1/7500\n",
"//acc tor ankine fornula\n",
"//Wcr=(ft*Al)/(1+a*(L/k)^2)=300*t3^2/(1+(2.15/t1^2))\n",
"//t3^4-23.7*t3^2-51=0\n",
"//t3=sqrt(25.7)//mm\n",
"printf('the thickness and width is,%f mm\n,%f mm\n',sqrt(25.7),3*sqrt(25.7))\n",
"printf('the thickness is say 6mm\n')\n",
"t3=6//mm\n",
"b3=3*t3//mm\n",
"Al=3*t3^2"
   ]
   }
,
{
		   "cell_type": "markdown",
		   "metadata": {},
		   "source": [
			"## Example 17.17: Machine_design.sce"
		   ]
		  },
  {
"cell_type": "code",
	   "execution_count": null,
	   "metadata": {
	    "collapsed": true
	   },
	   "outputs": [],
"source": [
"//det...\n",
"clc\n",
"//solution\n",
"//given\n",
"do=50//mm\n",
"u=0.15//tan(q)\n",
"p1=16//mm\n",
"p2=12//mm\n",
"tmax=28//N/mm^2\n",
"d1=do-p1/2\n",
"d2=do-p2/2\n",
"//tan(a1)=p/(%pi/d1)=b1=0.1212\n",
"b1=0.1212\n",
"//tan(a2)=p/(%pi/d2)=b2=0.0868\n",
"b2=0.0868\n",
"//let W be load\n",
"//T1=W*[(b1+u)/(1-(b1*u))]*d1/2=5.8*W//N-mm\n",
"//T2=W*[(u-b2)/(1+(b2*u))]*d2/2=-.37*W//N-mm\n",
"//T=T1-T2=7.17*W\n",
"//To=W*(p1-p2)/(2*%pi)=0.636*W\n",
"//eff=To/T\n",
"eff=0.636/7.17\n",
"printf('the eff is,%f \n',eff)\n",
"dc1=do-p1\n",
"//fc=W/Ac1=W/(%pi/4 * dc1^2)=W/908//N/mm^2\n",
"//t1=16T/(%pi*dc1^3)=W/1331//N/mm^2\n",
"//tmax=0.5*sqrt(fc^2 + 4*t1^2)=0.5*1.863*10^-3*W\n",
"W=tmax/(0.5*1.863*10^-3)//N\n",
"printf('the load acting is,%f N',W)"
   ]
   }
,
{
		   "cell_type": "markdown",
		   "metadata": {},
		   "source": [
			"## Example 17.1: Machine_design.sce"
		   ]
		  },
  {
"cell_type": "code",
	   "execution_count": null,
	   "metadata": {
	    "collapsed": true
	   },
	   "outputs": [],
"source": [
"clc\n",
"//solution\n",
"//given\n",
"d=50//mm\n",
"p=12.5//mm\n",
"W=10000//N\n",
"D=60//mm\n",
"R=30//mm\n",
"u=0.15//tan(q)=u\n",
"u1=0.18\n",
"P1=100//N\n",
"//tan(a)=p/(%pi/d)=b=0.08\n",
"b=0.08\n",
"//P=W*tan(u+a)\n",
"//P=W*[(tan(a)+tan(q))/(1-tan(a)*tan(q))]\n",
"P=W*[(b+u)/(1-(b*u))]//N\n",
"T=(P*d/2)+(u1*W*R)//N-mm\n",
"//let D1 be dia of wheel\n",
"P1=100\n",
"//T=2*P1*D1/2=100*D1\n",
"D1=T/100//mm\n",
"printf('the dia of wheel is,%f mm\n',D1)"
   ]
   }
,
{
		   "cell_type": "markdown",
		   "metadata": {},
		   "source": [
			"## Example 17.2: Machine_design.sce"
		   ]
		  },
  {
"cell_type": "code",
	   "execution_count": null,
	   "metadata": {
	    "collapsed": true
	   },
	   "outputs": [],
"source": [
"//estimate Power\n",
"clc\n",
"//soltuion\n",
"//given\n",
"W=75000//N\n",
"v=300//mm/min\n",
"p=6//mm\n",
"do=40//mm\n",
"u=0.1//=tan(q)\n",
"d=do-(p/2)//mm\n",
"//tan(a)=p/(%pi/d)=b=0.0516\n",
"b=0.0516\n",
"//P=W*tan(u+a)\n",
"//P=W*[(tan(a)+tan(q))/(1-tan(a)*tan(q))]\n",
"P=W*[(b+u)/(1-(b*u))]//N\n",
"T=(P*d/2)/1000//N-m\n",
"N=v/p//rpm\n",
"w=2*%pi*N/60//rad/sec\n",
"P=T*w//W\n",
"printf('the power transmitted is,%f W',P)"
   ]
   }
,
{
		   "cell_type": "markdown",
		   "metadata": {},
		   "source": [
			"## Example 17.3: Machine_design.sce"
		   ]
		  },
  {
"cell_type": "code",
	   "execution_count": null,
	   "metadata": {
	    "collapsed": true
	   },
	   "outputs": [],
"source": [
"clc\n",
"//soluiton\n",
"//given\n",
"do=55//mm\n",
"p=10//mm\n",
"W=400//N\n",
"D2=60//mm\n",
"D1=90//mm\n",
"R1=45//mm\n",
"R2=30//mm\n",
"u=0.15\n",
"u1=0.15//=//tan(q)\n",
"v=6//m/min\n",
"d=do-(p/2)//mm\n",
"//tan(a)=p/(%pi/d)=b=0.0637\n",
"b=0.0637\n",
"//P=W*tan(u+a)\n",
"//P=W*[(tan(a)+tan(q))/(1-tan(a)*tan(q))]\n",
"P=W*[(b+u)/(1-(b*u))]//N\n",
"R=(R1+R2)/2//mm\n",
"T=[(P*d/2)+(u1*W*R)]/1000//N-mm\n",
"N=v/0.01//rpm\n",
"w=2*%pi*N/60//rad/sec\n",
"P=T*w//W\n",
"printf('the power transmitted is,%f W\n',P)\n",
"//eff=To/T\n",
"eff=(W*b*(d/2))/(1000*T)\n",
"printf('the efficuency is,%f',eff)"
   ]
   }
,
{
		   "cell_type": "markdown",
		   "metadata": {},
		   "source": [
			"## Example 17.4: Machine_design.sce"
		   ]
		  },
  {
"cell_type": "code",
	   "execution_count": null,
	   "metadata": {
	    "collapsed": true
	   },
	   "outputs": [],
"source": [
"clc\n",
"//soltuion\n",
"//given\n",
"d=100//mm\n",
"p=20//mm\n",
"W=18000//N\n",
"D1=250//mm\n",
"R1=125//mm\n",
"D2=100//mm\n",
"R2=50//mm\n",
"l=400//mm\n",
"u=0.15//=tan(q)\n",
"u1=0.20\n",
"Lead=2*p\n",
"//tan(a)=Lead/(%pi/d)=b=0.127\n",
"b=0.127\n",
"//P=W*tan(u+a)\n",
"//P=W*[(tan(a)+tan(q))/(1-tan(a)*tan(q))]\n",
"P=W*[(b+u)/(1-(b*u))]//N\n",
"R=(R1+R2)/2//mm\n",
"T=[(P*d/2)+(u1*W*R)]//N-mm\n",
"//let P1 be req force\n",
"P1=T/l//N\n",
"printf('the req force is,%f N\n',P1)\n",
"//P=W*tan(u-a)\n",
"//P=W*[(tan(a)-tan(q))/(1+tan(a)*tan(q))]\n",
"P2=W*[(u-b)/(1+(b*u))]//N\n",
"T2=[(P2*d/2)+(u1*W*R)]//N-mm\n",
"//let P3 be the force req\n",
"P3=T2/l//N\n",
"printf('the force req for lowering load is,%f N',P3)"
   ]
   }
,
{
		   "cell_type": "markdown",
		   "metadata": {},
		   "source": [
			"## Example 17.5: Machine_design.sce"
		   ]
		  },
  {
"cell_type": "code",
	   "execution_count": null,
	   "metadata": {
	    "collapsed": true
	   },
	   "outputs": [],
"source": [
"clc\n",
"//soltuion\n",
"//given\n",
"p=10//mm\n",
"d=50//mm\n",
"W=20000//N\n",
"D1=60//mm\n",
"R1=30//mm\n",
"D2=10//mm\n",
"R2=5//mm\n",
"u=0.08//=tan(q)\n",
"u1=u\n",
"//tan(a)=p/(%pi/d)=b=0.0637\n",
"b=0.0637\n",
"//P=W*tan(u+a)\n",
"//P=W*[(tan(a)+tan(q))/(1-tan(a)*tan(q))]\n",
"P=W*[(b+u)/(1-(b*u))]//N\n",
"T=(P*d/2)/1000//N-m\n",
"N=170/10\n",
"Wd1=T*2*%pi*N//N-m\n",
"//wen load rotates with th screw\n",
"printf('the workdone in lifting is,%f N-m\n',Wd1)\n",
"//eff1=tan(a)/(tan(a+q))\n",
"eff1=b*(1-b*u)/(b+u)\n",
"printf('the eff is,%f \n',eff1)\n",
"//wen load doesn't trotate\n",
"R=(R1+R2)/2//mm\n",
"T2={(P*d/2)+(u1*W*R)}/1000//N-m\n",
"Wd2=T2*2*%pi*N//N-m\n",
"printf('the work done wen scre dosnt rotate is,%f N-m\n',Wd2)\n",
"//To=W*tan(a)*d/2\n",
"To=W*b*d/2/1000//N-m\n",
"eff2=To/T2\n",
"printf('the effi in this cse is,%f ',eff2)"
   ]
   }
,
{
		   "cell_type": "markdown",
		   "metadata": {},
		   "source": [
			"## Example 17.6: Machine_design.sce"
		   ]
		  },
  {
"cell_type": "code",
	   "execution_count": null,
	   "metadata": {
	    "collapsed": true
	   },
	   "outputs": [],
"source": [
"//soltuion\n",
"//given\n",
"do=50//mm\n",
"p=8//mm\n",
"W=2500//N\n",
"D1=110//mm\n",
"R1=55//mm\n",
"D2=55//mm\n",
"R2=27.5//mm\n",
"N=30//rpm\n",
"u=0.15//=tan(q)\n",
"u2=0.12\n",
"//tan(a)=p/(%pi/d)=b=0.055\n",
"b=0.055\n",
"//u1=u/cos(B)=0.15/cos(14.5)=0.155\n",
"u1=0.155\n",
"//P=W*tan(u+a)\n",
"//P=W*[(tan(a)+tan(q1))/(1-tan(a)*tan(q1))]\n",
"P=W*[(b+u1)/(1-(b*u1))]//N\n",
"T1=(P*d/2)//N-mm\n",
"R=(R1+R2)/2//mm\n",
"T2=u2*W*R//N-mm\n",
"T=(T1+T2)/1000//N-m\n",
"Power=T*2*%pi*N/60//W\n",
"printf('the power req is,%f W\n',Power)\n",
"To=W*b*d/2/1000//N-m\n",
"printf('the torque acting is,%f N-m\n',To)\n",
"eff=To/T\n",
"printf('the eff is,%f ',eff)"
   ]
   }
,
{
		   "cell_type": "markdown",
		   "metadata": {},
		   "source": [
			"## Example 17.7: Machine_design.sce"
		   ]
		  },
  {
"cell_type": "code",
	   "execution_count": null,
	   "metadata": {
	    "collapsed": true
	   },
	   "outputs": [],
"source": [
"clc\n",
"//soltuion\n",
"//given\n",
"do=25//mm\n",
"p=5//mm\n",
"W=10000//N\n",
"D1=50//mm\n",
"R1=25//mm\n",
"D2=20//mm\n",
"R2=10//mm\n",
"u=0.2//=tan(q)\n",
"u1=0.15\n",
"N=12//rpm\n",
"pb=5.8//N/mm^2\n",
"d=do-(p/2)//mm\n",
"Lead=2*p\n",
"//tan(a)=Lead/(%pi/d)=b=0.1414\n",
"b=0.1414\n",
"//P=W*tan(u+a)\n",
"//P=W*[(tan(a)+tan(q))/(1-tan(a)*tan(q))]\n",
"P=W*[(b+u)/(1-(b*u))]//N\n",
"R=(R1+R2)/2//mm\n",
"T=[(P*d/2)+(u1*W*R)]/1000//N-mm\n",
"printf('the torque acting is,%f N-m\n',T)\n",
"dc=do-p//mm\n",
"Ac=(%pi/4)*dc^2//mm^2\n",
"fc=W/Ac//N/mm^2\n",
"printf('the direct stress acting,%f N/mm^2\n',fc)\n",
"t=(16*T*1000)/(%pi*dc^3)//N/mm^2\n",
"printf('the shear stressa acting is,%f N/mm^2\n',t)\n",
"tmax=0.5*sqrt(fc^2 +4*t^2)//N/mm^2\n",
"printf('the stressa cting is ,%f N/mm^2\n',tmax)\n",
"//let n be number of threads\n",
"t1=p/2//mm//thickness of threads\n",
"n=W/(%pi*d*t1*5.8)\n",
"printf('the number of threads are,%f ',n)"
   ]
   }
,
{
		   "cell_type": "markdown",
		   "metadata": {},
		   "source": [
			"## Example 17.9: Machine_design.sce"
		   ]
		  },
  {
"cell_type": "code",
	   "execution_count": null,
	   "metadata": {
	    "collapsed": true
	   },
	   "outputs": [],
"source": [
"//soltuion\n",
"//given\n",
"W1=18000//N\n",
"F=4000//N\n",
"do=60//mm\n",
"p=10//mm\n",
"D1=150//mm\n",
"R1=75//mm\n",
"D2=50//mm\n",
"R2=25//mm\n",
"u=0.1//=tan(q)\n",
"u1=0.12\n",
"pb=7//N/mm^2\n",
"//let P1 be max force\n",
"dc=do-p//mm\n",
"d=(do+dc)/2//mm\n",
"//tan(a)=p/(%pi*d)=0.058\n",
"b=0.058\n",
"W=W1+F//N\n",
"T1=W*[(b+u)/(1-(b*u))]*d/2//N-mm//torque aacting\n",
"R=(R1+R2)/2//mm\n",
"T2=u1*W*R//N-mm\n",
"T=T1+T2//N-mm\n",
"//T=2*P1*1000\n",
"P1=T/(2*1000)//N\n",
"printf('the force acting at end of lever is,%f N\n',P1)\n",
"W2=W1-F//N\n",
"T3=W2*[(u-b)/(1+(b*u))]*d/2//N-mm\n",
"T4=u1*W2*R//N-mm\n",
"T5=T4+T3//N-mm\n",
"P2=T5/(2000)//N\n",
"printf('the force acting in lowering the agte is,%f N\n',P2)\n",
"To=W*b*d/2//N-mm\n",
"eff=To/T\n",
"printf('the eff is,%f \n',eff)\n",
"//let n be numbr of theads\n",
"t=p/2//mm//thikness\n",
"n=(W)/(7*%pi*d*t)\n",
"printf('the numbr of threads are ,%f',n)"
   ]
   }
],
"metadata": {
		  "kernelspec": {
		   "display_name": "Scilab",
		   "language": "scilab",
		   "name": "scilab"
		  },
		  "language_info": {
		   "file_extension": ".sce",
		   "help_links": [
			{
			 "text": "MetaKernel Magics",
			 "url": "https://github.com/calysto/metakernel/blob/master/metakernel/magics/README.md"
			}
		   ],
		   "mimetype": "text/x-octave",
		   "name": "scilab",
		   "version": "0.7.1"
		  }
		 },
		 "nbformat": 4,
		 "nbformat_minor": 0
}
