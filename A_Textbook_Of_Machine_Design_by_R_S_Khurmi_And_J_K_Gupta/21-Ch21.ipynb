{
"cells": [
 {
		   "cell_type": "markdown",
	   "metadata": {},
	   "source": [
       "# Chapter 21: Ch21"
	   ]
	},
{
		   "cell_type": "markdown",
		   "metadata": {},
		   "source": [
			"## Example 21.1: Machine_design.sce"
		   ]
		  },
  {
"cell_type": "code",
	   "execution_count": null,
	   "metadata": {
	    "collapsed": true
	   },
	   "outputs": [],
"source": [
"clc\n",
"//soltuion\n",
"//given\n",
"RP=15000//W//rated power\n",
"N1=1000//rpm\n",
"N2=350//rpm\n",
"VR=N1/N2\n",
"//ref table 21.5,numbr of teeth on smaller sprocket is T1=25\n",
"T1=25\n",
"T2=T1*N1/N2\n",
"K1=1.5//load factor\n",
"K2=1//lubricaiton factor\n",
"K3=1.25//rating factor\n",
"Ks=K1*K2*K3//service factor\n",
"DP=Ks*RP//design power\n",
"//from table 21.4,corrs to N1=1000rpm,power transmittd for chain 12 is 15.65 kW per strand,\n",
"//therefore chain 12 with 2 strands is used tot ransmit power\n",
"//using table 21.1\n",
"p=19.05//pitch//mm\n",
"d=12.07//mm//roller dia\n",
"w=11.68//mm//min width of roller\n",
"Wb=59000//N\n",
"//d1=p*cosec(180/T1)=0.152//m\n",
"d1=0.152//m\n",
"//d2=p*cosec(180/T2)=0.436//m\n",
"d2=0.436//m\n",
"printf('the itch circle dia of smalla nd large sprocket is,%f mm\n,%f mm\n',d1,d2)\n",
"v1=%pi*d1*N1/60//m/s\n",
"W=RP/v1//N\n",
"Fs=Wb/W\n",
"c=30*p//mm//min center dis\n",
"x=c-4//correct centre dis\n",
"K=(T1+T2)/2+(2*x/p)+[(T1-T2)/(2*%pi)]^2*p/x//mm\n",
"L=K*p\n",
"printf('the length of chian is,%f mm\n',L)"
   ]
   }
],
"metadata": {
		  "kernelspec": {
		   "display_name": "Scilab",
		   "language": "scilab",
		   "name": "scilab"
		  },
		  "language_info": {
		   "file_extension": ".sce",
		   "help_links": [
			{
			 "text": "MetaKernel Magics",
			 "url": "https://github.com/calysto/metakernel/blob/master/metakernel/magics/README.md"
			}
		   ],
		   "mimetype": "text/x-octave",
		   "name": "scilab",
		   "version": "0.7.1"
		  }
		 },
		 "nbformat": 4,
		 "nbformat_minor": 0
}
