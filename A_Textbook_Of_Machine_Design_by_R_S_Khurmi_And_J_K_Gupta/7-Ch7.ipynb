{
"cells": [
 {
		   "cell_type": "markdown",
	   "metadata": {},
	   "source": [
       "# Chapter 7: Ch7"
	   ]
	},
{
		   "cell_type": "markdown",
		   "metadata": {},
		   "source": [
			"## Example 7.1: Machine_design.sce"
		   ]
		  },
  {
"cell_type": "code",
	   "execution_count": null,
	   "metadata": {
	    "collapsed": true
	   },
	   "outputs": [],
"source": [
"d=1200\n",
"p=1.75\n",
"sigmat2=28\n",
"sigmat1=42\n",
"//when longitudinal stress does not exceed 28Mpa\n",
"t2=(p*d)/(4*sigmat2)\n",
"disp(t,'Minimum wall thickness in mm=')\n",
"//when circumferential stress does not exceed 42MPa\n",
"t1=(p*d)/(2*sigmat1)\n",
"disp(t,'Minimum wall thickness in mm=')"
   ]
   }
,
{
		   "cell_type": "markdown",
		   "metadata": {},
		   "source": [
			"## Example 7.2: Machine_design.sce"
		   ]
		  },
  {
"cell_type": "code",
	   "execution_count": null,
	   "metadata": {
	    "collapsed": true
	   },
	   "outputs": [],
"source": [
"d=500\n",
"p=2\n",
"t=20\n",
"//hoop stress\n",
"sigmat1=(p*d)/(2*t)\n",
"disp(sigmat1,'Hoop stress in MPa=')\n",
"sigmat2=(p*d)/(4*t)\n",
"disp(sigmat2,'Longitudinal stress in MPa=')\n",
"tau=(sigmat1-sigmat2)/2\n",
"disp(tau,'Maximum stress=')"
   ]
   }
,
{
		   "cell_type": "markdown",
		   "metadata": {},
		   "source": [
			"## Example 7.3: Machine_design.sce"
		   ]
		  },
  {
"cell_type": "code",
	   "execution_count": null,
	   "metadata": {
	    "collapsed": true
	   },
	   "outputs": [],
"source": [
"p=3\n",
"d=800\n",
"n=1\n",
"sigmat1=50\n",
"F=25*10^3\n",
"sigmatc=30\n",
"nH=0.8\n",
"nP=0.6\n",
"t=(p*d)/(2*sigmat1*n)\n",
"disp(t,'Thickness of pressure tank in mm=')\n",
"F1=F+0.1*F\n",
"p1=3-0.2//p1=pressure in tank-pressure drop\n",
"D=sqrt(27500/2.2)\n",
"t1=(p1*D)/(2*sigmatc)\n",
"disp(t1,'Thickness of cylinder in mm=')\n",
"// Power o/p of cylinder\n",
"sp=0.45//stroke of piston=450mm\n",
"ts=5//time req for working stroke=5s\n",
"dp=sp/ts//distance moved by piston/sec=0.45/5\n",
"w=F1*dp\n",
"disp(w,'Power output of the cylinder in watts=')\n",
"pp=(w*10^3*5)/(nH*nP*30)\n",
"disp(pp,'Power of the motor in kW=')\n",
""
   ]
   }
,
{
		   "cell_type": "markdown",
		   "metadata": {},
		   "source": [
			"## Example 7.4: Machine_design.sce"
		   ]
		  },
  {
"cell_type": "code",
	   "execution_count": null,
	   "metadata": {
	    "collapsed": true
	   },
	   "outputs": [],
"source": [
"syms sigmat1;\n",
"p=(5/8)*sigmat1\n",
"d=100//diameter=100mm\n",
"p1=90//N/mm^2\n",
"E=205*10^3//N/mm^2\n",
"mu=0.29\n",
"t=(p*d)/(2*sigmat1)//thickness of a tube\n",
"disp(t,'Thickness of a tube in mm')\n",
"deltad=((p1*d^2)*(2-mu))/(2*t*E*2)\n",
"disp(deltad,'Increase in diameter of tube in mm')"
   ]
   }
,
{
		   "cell_type": "markdown",
		   "metadata": {},
		   "source": [
			"## Example 7.5: Machine_design.sce"
		   ]
		  },
  {
"cell_type": "code",
	   "execution_count": null,
	   "metadata": {
	    "collapsed": true
	   },
	   "outputs": [],
"source": [
"d=3000//mm\n",
"p=1.5//N-mm^2\n",
"sigmat=90//Mpa\n",
"n=0.75\n",
"t=(p*d)/(4*sigmat*n)//mm\n",
"disp(t,'Thickness of the vessel in mm')"
   ]
   }
,
{
		   "cell_type": "markdown",
		   "metadata": {},
		   "source": [
			"## Example 7.6: Machine_design.sce"
		   ]
		  },
  {
"cell_type": "code",
	   "execution_count": null,
	   "metadata": {
	    "collapsed": true
	   },
	   "outputs": [],
"source": [
"d=900//mm\n",
"t=10//mm\n",
"deltav=150*10^3//mm^3\n",
"E=200*10^3//N/mm^2\n",
"mu=0.3\n",
"p=(deltav*8*t*E)/(%pi*d^4*(1-mu))\n",
"disp(p,'Pressure exerted by the fluid on the shell in N/mm^2')"
   ]
   }
],
"metadata": {
		  "kernelspec": {
		   "display_name": "Scilab",
		   "language": "scilab",
		   "name": "scilab"
		  },
		  "language_info": {
		   "file_extension": ".sce",
		   "help_links": [
			{
			 "text": "MetaKernel Magics",
			 "url": "https://github.com/calysto/metakernel/blob/master/metakernel/magics/README.md"
			}
		   ],
		   "mimetype": "text/x-octave",
		   "name": "scilab",
		   "version": "0.7.1"
		  }
		 },
		 "nbformat": 4,
		 "nbformat_minor": 0
}
