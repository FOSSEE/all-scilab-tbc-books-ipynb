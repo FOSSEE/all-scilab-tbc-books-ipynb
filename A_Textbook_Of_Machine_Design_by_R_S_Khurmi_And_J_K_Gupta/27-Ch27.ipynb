{
"cells": [
 {
		   "cell_type": "markdown",
	   "metadata": {},
	   "source": [
       "# Chapter 27: Ch27"
	   ]
	},
{
		   "cell_type": "markdown",
		   "metadata": {},
		   "source": [
			"## Example 27.1: Machine_design.sce"
		   ]
		  },
  {
"cell_type": "code",
	   "execution_count": null,
	   "metadata": {
	    "collapsed": true
	   },
	   "outputs": [],
"source": [
"//find\n",
"clc\n",
"//solution\n",
"//given\n",
"W1=3//kN\n",
"//n1=0.1*n\n",
"W2=2//kN\n",
"//n2=0.2*n\n",
"W3=1//kN\n",
"//n3=0.3n\n",
"W4=0\n",
"//n4=0.4n\n",
"L95=20*10^6//rev\n",
"b=1.17\n",
"//x=L95/L90\n",
"x=[log(1/0.95)/log(1/0.90)]^(1/1.17)\n",
"L90=L95/x//rev\n",
"W={[(0.1*W1^3)+(0.2*W2^3)+(0.3*W3^3)+0]/[0.1+0.2+0.3+0.4]}^(1/3)\n",
"C=W*(L90/10^6)^(1/3)\n",
"printf('dynamic load rating is,%f kN',C)"
   ]
   }
,
{
		   "cell_type": "markdown",
		   "metadata": {},
		   "source": [
			"## Example 27.2: Machine_design.sce"
		   ]
		  },
  {
"cell_type": "code",
	   "execution_count": null,
	   "metadata": {
	    "collapsed": true
	   },
	   "outputs": [],
"source": [
"//find\n",
"clc\n",
"//solution\n",
"//given\n",
"N=720//rpm\n",
"Lh=24000//hours\n",
"W=1//N\n",
"L99=60*N*Lh//rev\n",
"//x=L99/L90\n",
"x=0.85*0.9*[log(1/0.99)/log(1/0.90)]^(1/1.17)\n",
"L90=L99/x//rev\n",
"C=W*(L90/10^6)^(1/3)\n",
"printf('dynamic load rating is,%f kN',C)"
   ]
   }
,
{
		   "cell_type": "markdown",
		   "metadata": {},
		   "source": [
			"## Example 27.3: Machine_design.sce"
		   ]
		  },
  {
"cell_type": "code",
	   "execution_count": null,
	   "metadata": {
	    "collapsed": true
	   },
	   "outputs": [],
"source": [
"//find\n",
"clc\n",
"//solution\n",
"//given\n",
"Wr=4000//N\n",
"Wa=5000//N\n",
"N=1600//rpm\n",
"Lh=5*300*10//hrs//bearing life in hours\n",
"L=60*N*Lh//rev\n",
"//W=XVWr + YWa\n",
"//from tale 27.4,..we get \n",
"X=0.56\n",
"Y=1\n",
"V=1\n",
"W=0.56*1*Wr +1*Wa//N\n",
"C=W*(L/10^6)^(1/3)\n",
"printf('dynamic load rating is,%f kN\n',C)\n",
"//from table 27.6, bearing numbr 315.\n",
"Co=72000//N\n",
"C1=90000//N\n",
"//Wa/Co=0.07,..\n",
"//from table 27.4\n",
"X1=0.56\n",
"Y1=1.6\n",
"W=0.56*1*Wr + 1.6*Wa//N\n",
"Cb=W*(L/10^6)^(1/3)\n",
"printf('basic dynamic load rating is,%f kN\n',Cb)"
   ]
   }
,
{
		   "cell_type": "markdown",
		   "metadata": {},
		   "source": [
			"## Example 27.4: Machine_design.sce"
		   ]
		  },
  {
"cell_type": "code",
	   "execution_count": null,
	   "metadata": {
	    "collapsed": true
	   },
	   "outputs": [],
"source": [
"//find\n",
"clc\n",
"//solution\n",
"//given\n",
"Wr=2500//N\n",
"Wa=1500//N\n",
"//Wa/Wr=0.6\n",
"//refer table 27.4\n",
"X=1\n",
"V=1\n",
"Y=0\n",
"W=X*V*Wr + Y*Wa//N\n",
"//from table 27.5,Ks=1.5...\n",
"Ks=1.5\n",
"W1=W*Ks//N\n",
"//ref table 27.6\n",
"C=53000//N\n",
"L=(C/W)^(3)*10^6\n",
"printf('rating life is,%f rev\n',L)"
   ]
   }
,
{
		   "cell_type": "markdown",
		   "metadata": {},
		   "source": [
			"## Example 27.5: Machine_design.sce"
		   ]
		  },
  {
"cell_type": "code",
	   "execution_count": null,
	   "metadata": {
	    "collapsed": true
	   },
	   "outputs": [],
"source": [
"//find\n",
"clc\n",
"//solution\n",
"//given\n",
"Wr=7000//N\n",
"Wa=2100//N\n",
"L=160*10^6//rev\n",
"N=300//rpm\n",
"//ref table 27.4,Wa/Wr=0.3..\n",
"X=0.65\n",
"Y=3.5\n",
"V=1\n",
"W=X*V*Wr + Y*Wa//N\n",
"C=W*(L/10^6)^(1/3)//N\n",
"printf('baisc dynamin load rating is,%f N\n',C)"
   ]
   }
,
{
		   "cell_type": "markdown",
		   "metadata": {},
		   "source": [
			"## Example 27.6: Machine_design.sce"
		   ]
		  },
  {
"cell_type": "code",
	   "execution_count": null,
	   "metadata": {
	    "collapsed": true
	   },
	   "outputs": [],
"source": [
"//find\n",
"clc\n",
"//solution\n",
"//given\n",
"Lh=15000//hrs\n",
"Wr1=2000//N\n",
"Wa1=1200//N\n",
"N1=400//rpm\n",
"Ks1=3\n",
"Wr2=1500//N\n",
"Wa2=1000//N\n",
"N2=500//rpm\n",
"Ks2=1.5\n",
"Wr3=1000//N\n",
"Wa3=1500//N\n",
"N3=600//rpm\n",
"Ks3=2\n",
"Wr4=1200//N\n",
"Wa4=2000//N\n",
"N4=800//rpm\n",
"Ks4=1\n",
"X=1\n",
"Y=1.5\n",
"V=1\n",
"W1=(Wr1 + Y*Wa1)*3//N\n",
"W2=(Wr2 + Y*Wa2)*1.5//N\n",
"W3=(Wr3 + Y*Wa3)*2//N\n",
"W4=(Wr4 + Y*Wa4)*1//N\n",
"printf('value of W1,W2,W3,W4 is,%f N\n,%f N\n,%f N\n,%f N\n',W1,W2,W3,W4)\n",
"//L=60*N*Lh=0.9*10^6*N\n",
"L1=(1/10)*0.9*10^6*N1\n",
"L2=(1/10)*0.9*10^6*N2\n",
"L3=(1/5)*0.9*10^6*N3\n",
"L4=(3/5)*0.9*10^6*N4\n",
"printf('life of bearing is,%f rev\n,%f rev\n,%f rev\n,%f rev\n',L1,L2,L3,L4)\n",
"W=[(L1* W1^3 + L2* W2^3 + L3* W3^3 + L4* W4^3)/(L1+L2+L3+L4)]^(1/3)\n",
"L=L1+L2+L3+L4//rev\n",
"C=W*(L/10^6)^(1/3)//N\n",
"printf('dynamic load rating is,%f kN',C)"
   ]
   }
],
"metadata": {
		  "kernelspec": {
		   "display_name": "Scilab",
		   "language": "scilab",
		   "name": "scilab"
		  },
		  "language_info": {
		   "file_extension": ".sce",
		   "help_links": [
			{
			 "text": "MetaKernel Magics",
			 "url": "https://github.com/calysto/metakernel/blob/master/metakernel/magics/README.md"
			}
		   ],
		   "mimetype": "text/x-octave",
		   "name": "scilab",
		   "version": "0.7.1"
		  }
		 },
		 "nbformat": 4,
		 "nbformat_minor": 0
}
