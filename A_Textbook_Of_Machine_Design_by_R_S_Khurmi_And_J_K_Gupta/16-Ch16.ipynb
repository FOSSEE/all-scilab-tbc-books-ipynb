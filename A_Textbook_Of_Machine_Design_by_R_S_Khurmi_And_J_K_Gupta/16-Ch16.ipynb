{
"cells": [
 {
		   "cell_type": "markdown",
	   "metadata": {},
	   "source": [
       "# Chapter 16: Ch16"
	   ]
	},
{
		   "cell_type": "markdown",
		   "metadata": {},
		   "source": [
			"## Example 16.1: Machine_design.sce"
		   ]
		  },
  {
"cell_type": "code",
	   "execution_count": null,
	   "metadata": {
	    "collapsed": true
	   },
	   "outputs": [],
"source": [
"//calculate cripping load\n",
"clc\n",
"//solution\n",
"//given\n",
"//ref fig 16.2\n",
"l=4000//mm\n",
"E=200*10^3//N/mm^3\n",
"a1=150*20//area of flange\n",
"y1=20/2\n",
"a2=(120-20)*20//area of wewb\n",
"y2=20+(100/2)//mm\n",
"yb=(a1*y1 + a2*y2)/(a1+a2)//mm//CG\n",
"Ixx=[(150*20^3/12)+(3000*(34-10)^2)+(20*(100)^3/12)+2000*(70-34)^2]//mm^4\n",
"Iyy=((20*(150)^3/12)) +(100*20^3/12)//mm^4\n",
"///sinve Iyy is less then Ixx,therfore I-Iyy\n",
"I=Iyy//mm^4\n",
"L=l//mm\n",
"Wcr=%pi^2*E*I/L^2//N\n",
"printf('the cripling load acting is,%f N',Wcr)"
   ]
   }
,
{
		   "cell_type": "markdown",
		   "metadata": {},
		   "source": [
			"## Example 16.2: Machine_design.sce"
		   ]
		  },
  {
"cell_type": "code",
	   "execution_count": null,
	   "metadata": {
	    "collapsed": true
	   },
	   "outputs": [],
"source": [
"//find euler's crippling load\n",
"clc\n",
"//solution\n",
"//given\n",
"//ref fig 16.3\n",
"D=400//mm\n",
"B=200//mm\n",
"t=10//mm\n",
"b=200-10//mm\n",
"d=400-20\n",
"l=6000//mm\n",
"E=200*1000//N/mm^2\n",
"Ixx=B*D^3/12-b*d^3/12//mm^4\n",
"Iyy=2*[t*B^3/12]+(d*t^3/12)//mm^4\n",
"//since Iyy <Ixx,therefore it will try to b uckle about Y axis\n",
"L=l/2\n",
"I=Iyy\n",
"Wcr=%pi^2*E*I/L^2//N\n",
"printf('the cripling load acting is,%f N',Wcr)"
   ]
   }
,
{
		   "cell_type": "markdown",
		   "metadata": {},
		   "source": [
			"## Example 16.3: Machine_design.sce"
		   ]
		  },
  {
"cell_type": "code",
	   "execution_count": null,
	   "metadata": {
	    "collapsed": true
	   },
	   "outputs": [],
"source": [
"//cal dia of piston\n",
"clc\n",
"//soltuion\n",
"//given\n",
"D=1500//mm\n",
"p=0.2//N/mm^2\n",
"E=200*1000//N/mm^2\n",
"l=3000//mm\n",
"W=(%pi/4)*D^2*p//N\n",
"Fs=8\n",
"Wcr=W*Fs//N\n",
"L=l/2\n",
"//let d be dia and I be moment of inertia\n",
"I=(%pi/64)*d^4\n",
"//acc to euler's formula\n",
"//Wcr=%pi^2*E*I/L^2//N\n",
"//Wcr=0.043*d^4\n",
"d=(Wcr/0.043)^(1/4)//mm\n",
"//acc to rankine's formula\n",
"//Wcr=(fc*A)/(1+a*(L/k)^2)\n",
"fc=320//N/mm^2\n",
"a=1/7500\n",
"//k=sqrt(I/A)=d/4\n",
"//Wcr=(251.4*d1^2)/(d1^2 +4800)\n",
"//on solving d2=14885\n",
"d1=sqrt(14885)//mm\n",
"//taking large rof two values\n",
"printf('the dia od piston is,%f\n',d1)"
   ]
   }
,
{
		   "cell_type": "markdown",
		   "metadata": {},
		   "source": [
			"## Example 16.4: Machine_design.sce"
		   ]
		  },
  {
"cell_type": "code",
	   "execution_count": null,
	   "metadata": {
	    "collapsed": true
	   },
	   "outputs": [],
"source": [
"//find size of push rod\n",
"clc\n",
"//solution\n",
"//given\n",
"l=300//mm\n",
"W=1400//N\n",
"//D=1.25*d\n",
"E=210*1000//N/mm^2\n",
"m=2.5\n",
"//let d be inner dia nd D be outer dia\n",
"//I=(%pi/64)*[D^4-d^4]=0.07*d^4//mm^4\n",
"Wcr=m*W\n",
"//Wcr=%pi^2*E*I/L^2=1.6*d^4//N\n",
"d=(Wcr/1.6)^(1/4)//mm\n",
"D=1.25*d//mm\n",
"printf('the inner and outer dia is,%f mm\n,%f mm\n',d,D)"
   ]
   }
,
{
		   "cell_type": "markdown",
		   "metadata": {},
		   "source": [
			"## Example 16.5: Machine_design.sce"
		   ]
		  },
  {
"cell_type": "code",
	   "execution_count": null,
	   "metadata": {
	    "collapsed": true
	   },
	   "outputs": [],
"source": [
"clc\n",
"//soltuion\n",
"//given\n",
"//ref fig 16.8\n",
"//let b be width and h be depth \n",
"//Ixx=b*h^3/12\n",
"//Iyy=h*b^3/12\n",
"//WcrX=%pi^2*E*Ixx/l^2//N\n",
"//Wcry=%pi^2*E*I/(l/2)^2//N\n",
"//Wcrx=Wcry\n",
"//we get h/b =2\n",
"printf('the ration of sides are h/b=2')"
   ]
   }
,
{
		   "cell_type": "markdown",
		   "metadata": {},
		   "source": [
			"## Example 16.6: Machine_design.sce"
		   ]
		  },
  {
"cell_type": "code",
	   "execution_count": null,
	   "metadata": {
	    "collapsed": true
	   },
	   "outputs": [],
"source": [
"clc\n",
"//soltuion\n",
"//given\n",
"D=101//mm\n",
"mr=2//kg\n",
"l=325//mm\n",
"sl=.15//m\n",
"Nmin=1500//rpm\n",
"Nmax=2500//rpm\n",
"r1=4//comp ratio\n",
"p=2.5//N/mm^2\n",
"r=sl/2//radius of crank\n",
"n=l/r\n",
"Fl=(%pi/4)*D^2*p//N\n",
"wmax=(2*%pi*Nmax)/60//rad/s\n",
"Fi=mr*(wmax)^2*r*[1+1/n]//N\n",
"Fc=Fl//N\n",
"//ref fig 16.11\n",
"//Ixx/Iyy=3.2\n",
"//kxx^2/kyy^2=3.2\n",
"Wcr=Fc*6//N\n",
"//A=2*(4*t*t)+ t*3*t=11t^2\n",
"//Ixx=[4t*5t^3/12-3t*3t^3/12]=419*t^4/12\n",
"//kxx=sqrt(Ixx/A)=1.78*t\n",
"L=l//mm\n",
"fc=320//N/mm^2\n",
"a=1/7500\n",
"//Wcr=(fc*A)/(1+a*(L/k)^2)\n",
"//on solving we egt \n",
"//t^2=44.55\n",
"t=sqrt(44.55)//mm\n",
"printf('the heigth and width is,%f mm\n,%f mm\n',5*t,4*t)\n",
"printf('the thickness oflnage is,%f mm\n',t)"
   ]
   }
],
"metadata": {
		  "kernelspec": {
		   "display_name": "Scilab",
		   "language": "scilab",
		   "name": "scilab"
		  },
		  "language_info": {
		   "file_extension": ".sce",
		   "help_links": [
			{
			 "text": "MetaKernel Magics",
			 "url": "https://github.com/calysto/metakernel/blob/master/metakernel/magics/README.md"
			}
		   ],
		   "mimetype": "text/x-octave",
		   "name": "scilab",
		   "version": "0.7.1"
		  }
		 },
		 "nbformat": 4,
		 "nbformat_minor": 0
}
