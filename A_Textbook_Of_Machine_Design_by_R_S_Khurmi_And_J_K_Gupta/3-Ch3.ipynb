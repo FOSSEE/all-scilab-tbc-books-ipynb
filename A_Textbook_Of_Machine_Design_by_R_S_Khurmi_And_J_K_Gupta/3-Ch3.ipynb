{
"cells": [
 {
		   "cell_type": "markdown",
	   "metadata": {},
	   "source": [
       "# Chapter 3: Ch3"
	   ]
	},
{
		   "cell_type": "markdown",
		   "metadata": {},
		   "source": [
			"## Example 3.1: Machine_design.sce"
		   ]
		  },
  {
"cell_type": "code",
	   "execution_count": null,
	   "metadata": {
	    "collapsed": true
	   },
	   "outputs": [],
"source": [
"clc\n",
"//solution\n",
"//given\n",
"lh=25//mm//lower limit of hole\n",
"uh=25.02//mm//upper limit of hole\n",
"ls=24.95//mm//lower limit of shaft\n",
"us=24.97//mm//upper limit of shaft\n",
"h=uh-lh//mm//hole tolerance\n",
"s=us-ls//mm//shaft tolerance\n",
"a=lh-us//mm//alownce\n",
"printf('the hole tolerance is,%f mm\n',h)\n",
"printf('the shaft tolerance is,%f mm \n',s)\n",
"printf('the allowance is,%f mm',a)"
   ]
   }
,
{
		   "cell_type": "markdown",
		   "metadata": {},
		   "source": [
			"## Example 3.2: Machine_design.sce"
		   ]
		  },
  {
"cell_type": "code",
	   "execution_count": null,
	   "metadata": {
	    "collapsed": true
	   },
	   "outputs": [],
"source": [
"clc\n",
"//solution\n",
"//given\n",
"//shaft is 40 H8/f7\n",
"//since 40 mm lies in the diameter steps of 30 to 50 mm, therefore the mean diameter ie geometric mean of them\n",
"D=sqrt(30*50)//mm\n",
"i=0.45*((D)^(1/3))+(0.001*D)//mm//standard tolerance unit\n",
"//therfore,standard tolerance is\n",
"x=25*i*0.001//mm//standard tolerance for grade 8\n",
"x1=16*i*0.001//mm//standard tolerance for grade 7\n",
"//fundamental deviation\n",
"es=-5.5*(D)^0.41*0.001//mm\n",
"ei=es-0.025//mm\n",
"//limit of size\n",
"bs=40//mm//basic size\n",
"uh=40+0.039//mm//upper limitt of hole=lower limit  for hole+tolerance for hole\n",
"us=40-0.025//mm//uppr limit of shaft is lower limit of hole-fundamental deviation\n",
"ls=us-0.025//mm\n",
"printf('the standard tolernce for IT8 is,%f mm\n',x)\n",
"printf('the satndard tolerance for IT7 is,%f mm\n',x1)\n",
"printf('the fundamental upper deviation for shaft is,%f mm\n',es)\n",
"printf('the fundamental lower deavtion for shaft is,%f mm\n ',ei)\n",
"printf('the basic size is,%f mm\n',bs)\n",
"printf('upper limit for hole is,%f mm\n',uh)\n",
"printf('the upper limit of shaft is,%f mm\n',us)\n",
"printf('the lower limit of shaft is,%f mm\n',ls)"
   ]
   }
,
{
		   "cell_type": "markdown",
		   "metadata": {},
		   "source": [
			"## Example 3.3: Machine_design.sce"
		   ]
		  },
  {
"cell_type": "code",
	   "execution_count": null,
	   "metadata": {
	    "collapsed": true
	   },
	   "outputs": [],
"source": [
"//a.)12 mm elctric motion\n",
"//12 mm lies between 10 and 18,therefore\n",
"D=sqrt(10*18)//mm\n",
"i=0.45*(D)^0.33+0.001*D//standard tolrence unit\n",
"IT8=25*i*0.001//mm//standard tolerance for IT8\n",
"es=-11*(D)^0.41*0.001//mm//upper deviation for shaft\n",
"ei=es-IT8//mm//lower deviation for shaft\n",
"printf('the standard tolerance for shaft and hole of grade 8 is,%f mm\n',IT8)\n",
"printf('the upper deviation for shaft is, %f mm',es)\n",
"printf('the upper deviation for shaft is,%f mm',ei)"
   ]
   }
,
{
		   "cell_type": "markdown",
		   "metadata": {},
		   "source": [
			"## Example 3.4: Machine_design.sce"
		   ]
		  },
  {
"cell_type": "code",
	   "execution_count": null,
	   "metadata": {
	    "collapsed": true
	   },
	   "outputs": [],
"source": [
"//solution\n",
"//given \n",
"//75 mm basic size \n",
"//since 75 lies betweenn 50 and 80\n",
"D=sqrt(50*80)//mm\n",
"i=0.45*(D)^0.33+0.001*D//standard tolerance unit\n",
"IT8=25*i*0.001//mm\n",
"IT7=16*i*0.001//mm\n",
"es=-2.5*(D)^0.34//mm//upper deviation of shaft\n",
"ei=es-IT7//mm//lower deviation fot hole\n",
"bs=75//mm//basic size\n",
"uh=75+IT8//upper limit of hole\n",
"us=75-0.01//mm//upper limit of shft\n",
"ls=us-0.03//mm\n",
"MxC=uh-ls//mm//maximum clearance\n",
"miC=75-us//mm\n",
"printf('maximum clearance is,%f mm\n',MxC)\n",
"printf('minimum clearance is,%f mm',miC)"
   ]
   }
],
"metadata": {
		  "kernelspec": {
		   "display_name": "Scilab",
		   "language": "scilab",
		   "name": "scilab"
		  },
		  "language_info": {
		   "file_extension": ".sce",
		   "help_links": [
			{
			 "text": "MetaKernel Magics",
			 "url": "https://github.com/calysto/metakernel/blob/master/metakernel/magics/README.md"
			}
		   ],
		   "mimetype": "text/x-octave",
		   "name": "scilab",
		   "version": "0.7.1"
		  }
		 },
		 "nbformat": 4,
		 "nbformat_minor": 0
}
