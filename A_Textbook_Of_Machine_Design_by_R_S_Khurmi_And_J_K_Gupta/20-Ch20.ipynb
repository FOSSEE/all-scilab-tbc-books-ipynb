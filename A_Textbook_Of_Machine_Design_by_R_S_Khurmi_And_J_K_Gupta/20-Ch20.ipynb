{
"cells": [
 {
		   "cell_type": "markdown",
	   "metadata": {},
	   "source": [
       "# Chapter 20: Ch20"
	   ]
	},
{
		   "cell_type": "markdown",
		   "metadata": {},
		   "source": [
			"## Example 20.10: Machine_design.sce"
		   ]
		  },
  {
"cell_type": "code",
	   "execution_count": null,
	   "metadata": {
	    "collapsed": true
	   },
	   "outputs": [],
"source": [
"//design wire rope\n",
"clc\n",
"//soltuion\n",
"//given\n",
"W=55000//N\n",
"depth=300//m\n",
"v=500//m/min\n",
"t=10//s\n",
"//ref T20.6,we choose rope type 6*19\n",
"//,tab; 20.11,Fs =7,for depth 300 to 600m,design load is calculated by taking 2 to 2.5 times factor of safety fiven is table\n",
"//ref table 20.11\n",
"Designload=15*55*1000//N\n",
"//ref table 20.6,tesnile strength of 6*19 is=595*d^2\n",
"//595d^2=designload\n",
"//d=sqrt(Desingload/595)//mm\n",
"printf('the dia of rope is,%f mm\n',sqrt(Designload/595))\n",
"printf('the dia of rope is,say 38mm\n')\n",
"d=38//mm\n",
"dw=0.063*d//ref table 20.10,dw=dia of wire\n",
"A=0.38*d^2\n",
"//ref table 20.6\n",
"w=0.0363*d^2*depth//N\n",
"//ref table 20.12\n",
"D=100*d\n",
"fb=84000*dw/D\n",
"printf('bending stress acting is,%f N/mm^2\n',fb)\n",
"Wb=fb*A//N\n",
"printf('the bending load on rope is,%f N\n',Wb)\n",
"a=v/(60*t)//acceleration\n",
"g=9.81//m/s^2\n",
"Wa=(W+w)/g*a//additonal load\n",
"printf('additional load due to acc si,%f N\n',Wa)\n",
"Wst=2*(W+w)\n",
"printf('the starting load acting is,%f N\n',Wst)\n",
"We=W+w+Wb//N\n",
"printf('effctive load during uniform velocity is,%f N\n',We)\n",
"Fsa=Designload/We\n",
"printf('actual factor of safety is,%f \n',Fsa)\n",
"printf('since factor of safety caculated above are safe,therefore wire rope of dia 38mm and 6*19 is chosen')"
   ]
   }
,
{
		   "cell_type": "markdown",
		   "metadata": {},
		   "source": [
			"## Example 20.11: Machine_design.sce"
		   ]
		  },
  {
"cell_type": "code",
	   "execution_count": null,
	   "metadata": {
	    "collapsed": true
	   },
	   "outputs": [],
"source": [
"//finf Fs\n",
"clc\n",
"//soltuion\n",
"//given\n",
"d=38//mm\n",
"D=2000//mm\n",
"W=50000//N\n",
"depth=900//m\n",
"v=3//m/s\n",
"a=1.5//m/s^2\n",
"dw=0.05*d//mm\n",
"Bs=1880//N/mm^2//breaking strength\n",
"Er=84*1000//N/mm^2\n",
"w=47700//N\n",
"//rope is 8*19\n",
"n=8*19\n",
"A=(%pi/4)*dw^2*n//mm^2\n",
"mbs=Bs*A//min breaking strength\n",
"printf('min breaking stresngth is,%f N\n',mbs)\n",
"fb=84000*dw/D\n",
"printf('bending stress acting is,%f N/mm^2\n',fb)\n",
"Wb=fb*A//N\n",
"printf('the bending load on rope is,%f N\n',Wb)\n",
"g=9.81//m/s^2\n",
"Wa=(W+w)/g*a//additonal load\n",
"printf('additional load due to acc si,%f N\n',Wa)\n",
"Wst=2*(W+w)\n",
"printf('the starting load acting is,%f N\n',Wst)\n",
"Wen=W+w+Wb//N//during normal working\n",
"printf('effctive load during uniform velocity is,%f N\n',Wen)\n",
"Fs=mbs/Wen\n",
"printf('the factor of safety during normal working is,%f \n ',Fs)\n",
"Wea=W+w+Wb+Wa//N//during acc\n",
"Fsa=mbs/Wea\n",
"printf('the factor of safety during acc is,%f ',Fsa)\n",
"//during straing\n",
"Wes=Wst+Wb//N\n",
"Fss=mbs/Wes\n",
"printf('the factor of safety during startin is,%f ',Fss)"
   ]
   }
,
{
		   "cell_type": "markdown",
		   "metadata": {},
		   "source": [
			"## Example 20.12: Machine_design.sce"
		   ]
		  },
  {
"cell_type": "code",
	   "execution_count": null,
	   "metadata": {
	    "collapsed": true
	   },
	   "outputs": [],
"source": [
"//finf dia of wire\n",
"clc\n",
"//soltuion\n",
"//given\n",
"W=25000//N\n",
"w=15000//n\n",
"//D=30*d\n",
"a=1//m/s^2\n",
"er=80000//N/mm^2\n",
"fu=1800//N/mm^2\n",
"//A=0.38*d^2\n",
"//let d be dia of rope\n",
"Wd=W+w//N\n",
"//dw=0.063*d..\n",
"//Wb=Er*dw/D*A=63.84*d^2//N\n",
"g=9.81\n",
"Wa=(W+w)/g*a\n",
"//Wt=Wd+Wa+Wb=44080+63.84*d^2//N....eq1\n",
"//WT=A*stress=A*fu/Fs=114*d^2//assume Fs=6...eq2\n",
"//from eq1 and eq2\n",
"d=sqrt(44080/(114-63.84))//mm\n",
"printf('choosing value of d from table 20.6,we get 32mm')"
   ]
   }
,
{
		   "cell_type": "markdown",
		   "metadata": {},
		   "source": [
			"## Example 20.1: Machine_design.sce"
		   ]
		  },
  {
"cell_type": "code",
	   "execution_count": null,
	   "metadata": {
	    "collapsed": true
	   },
	   "outputs": [],
"source": [
"//find..\n",
"clc\n",
"//soltuion\n",
"//given\n",
"P=90000//W\n",
"N2=250//rpm\n",
"N1=750//rpm\n",
"d2=1//m\n",
"x=1.75//m\n",
"v=26.67//m/s\n",
"A=375*10^(-6)//m^2\n",
"rho=1000//kg/m^3\n",
"f=2.5//N/mm^2\n",
"B=17.5//deg\n",
"u=0.25\n",
"d1=N2*d2/N1//m\n",
"//sin(a)=(r2-r1)/x=0.1914\n",
"a=(%pi/180)*11.04\n",
"q=%pi-2*a//rad\n",
"printf('the angle of contact is,%f rad\n',q)\n",
"m=A*rho//kg/m\n",
"Tc=m*v^2//N\n",
"printf('the centrifugl tension is,%f N\n',Tc)\n",
"T=f*A*10^6//N\n",
"printf('max tension is,%f N\n',T)\n",
"T1=T-Tc//N\n",
"//log(T1/T2)=u*q*cosec(%pi/180*B)=0.9976\n",
"T2=T1/9.95//N\n",
"Ppb=(T1-T2)*v//W\n",
"printf('power tranmited per belt is,%f W\n',Ppb)\n",
"//n=P/Ppb//\n",
"printf('the number of belts are,%f \n',P/Ppb)\n",
"printf('number of belts are say 6\n')\n",
"n=6\n",
"r1=d1/2\n",
"r2=d2/2\n",
"L=%pi*(r2+r1)+2*x+(r2-r1)^2/x\n",
"printf('the length of belt is,%f m',L)"
   ]
   }
,
{
		   "cell_type": "markdown",
		   "metadata": {},
		   "source": [
			"## Example 20.2: Machine_design.sce"
		   ]
		  },
  {
"cell_type": "code",
	   "execution_count": null,
	   "metadata": {
	    "collapsed": true
	   },
	   "outputs": [],
"source": [
"//find..\n",
"clc\n",
"//soltuion\n",
"//given\n",
"n=2\n",
"B=15//deg\n",
"A=750*10^-6\n",
"u=0.12\n",
"rho=1200//kg/m^3\n",
"f=7*10^6//N/m^2\n",
"d=0.300//m\n",
"N=1500//rpm\n",
"m=A*rho//kg/m\n",
"v=(%pi*N*d)/60//m/s\n",
"Tc=m*v^2//N\n",
"q=%pi\n",
"printf('the centrifugl tension is,%f N\n',Tc)\n",
"T=f*A//N\n",
"printf('max tension is,%f N\n',T)\n",
"T1=T-Tc//N\n",
"//log(T1/T2)=u*q*cosec(%pi/180*B)=0.6335\n",
"T2=T1/4.3//N\n",
"P=(T1-T2)*v*n//W\n",
"printf('the power trans is,%f W\n',P)\n",
"//for max power tranfer\n",
"//let N1 be speed\n",
"//Tc1=T/3\n",
"//Tc1=m*v1^2\n",
"v1=sqrt(T/(3*m))//m/s\n",
"N1=(v1*60/(%pi*d))\n",
"printf('rpm of shaft at max power trans,%f rpm',N1)"
   ]
   }
,
{
		   "cell_type": "markdown",
		   "metadata": {},
		   "source": [
			"## Example 20.3: Machine_design.sce"
		   ]
		  },
  {
"cell_type": "code",
	   "execution_count": null,
	   "metadata": {
	    "collapsed": true
	   },
	   "outputs": [],
"source": [
"//find..\n",
"clc\n",
"//soltuion\n",
"//given\n",
"x=1//m\n",
"P=95*1000//W\n",
"d1=0.3//m\n",
"N1=1000//rpm\n",
"N2=375//rpm\n",
"B=20//deg\n",
"A=400*10^-6//m^2\n",
"f=2.1//N/mm^2\n",
"rho=1100//kg/m^3\n",
"u=0.28\n",
"t=42//N/mm^2\n",
"d2=N1*d1/N2//m\n",
"//sin(a)=(r2-r1)/x=0.25\n",
"a=(%pi/180)*14.5\n",
"q=%pi-2*a//rad\n",
"printf('the angle of contact is,%f rad\n',q)\n",
"m=A*rho//kg/m\n",
"v=(%pi*N1*d1)/60//m/s\n",
"Tc=m*v^2//N\n",
"T=f*A*10^6//N\n",
"printf('max tension is,%f N\n',T)\n",
"T1=T-Tc//N\n",
"//log(T1/T2)=u*q*cosec(%pi/180*B)=0.9407\n",
"T2=T1/8.72//N\n",
"Ppb=(T1-T2)*v//W\n",
"printf('power tranmited per belt is,%f W\n',Ppb)\n",
"//n=P/Ppb//\n",
"printf('the number of belts are,%f \n',P/Ppb)\n",
"printf('number of belts are say 10\n')\n",
"n=10\n",
"//let D be dia of shaft\n",
"T3=(P*60)/(2*%pi*N2)*1000//N-mm\n",
"M=(T1+T2+2*Tc)*200*10//N-mm\n",
"Te=sqrt(T3^2 + M^2)\n",
"D=[(Te*16)/(%pi*t)]^(1/3)//m\n",
"printf('shaft dia is,%f mm\n',D)"
   ]
   }
,
{
		   "cell_type": "markdown",
		   "metadata": {},
		   "source": [
			"## Example 20.5: Machine_design.sce"
		   ]
		  },
  {
"cell_type": "code",
	   "execution_count": null,
	   "metadata": {
	    "collapsed": true
	   },
	   "outputs": [],
"source": [
"//find..\n",
"clc\n",
"//soltuion\n",
"//given\n",
"P=20000//W\n",
"d1=0.25//m\n",
"N1=1800//rpm\n",
"d2=0.9//m\n",
"x=1//m\n",
"B=20//deg\n",
"u=0.2\n",
"rho=1110//kg/m^3\n",
"f=2.1//N/mm^2\n",
"A=230*10^-6//m^2\n",
"//sin(a)=(r2-r1)/x=0.325\n",
"a=(%pi/180)*18.96\n",
"q1=%pi-2*a//rad\n",
"q2=%pi+2*a\n",
"//since uq for flat pulley si smalll,therfore desing is flat pulley based\n",
"v=(%pi*N1*d1)/60//m/s\n",
"m=A*rho//kg/m\n",
"Tc=m*v^2//N\n",
"printf('the centrifugl tension is,%f N\n',Tc)\n",
"T=f*A*10^6//N\n",
"printf('max tension is,%f N\n',T)\n",
"T1=T-Tc//N\n",
"//log(T1/T2)=u*q2=0.3304\n",
"T2=T1/2.14//N\n",
"Ppb=(T1-T2)*v//W\n",
"printf('power tranmited per belt is,%f W\n',Ppb)\n",
"//n=P/Ppb//\n",
"printf('the number of belts are,%f \n',P/Ppb)\n",
"printf('number of belts are say 5\n')\n",
"n=5"
   ]
   }
,
{
		   "cell_type": "markdown",
		   "metadata": {},
		   "source": [
			"## Example 20.6: Machine_design.sce"
		   ]
		  },
  {
"cell_type": "code",
	   "execution_count": null,
	   "metadata": {
	    "collapsed": true
	   },
	   "outputs": [],
"source": [
"//find..\n",
"clc\n",
"//soltuion\n",
"//given\n",
"d=2.6//m\n",
"n=15\n",
"B=22.5\n",
"q=2.967//rad\n",
"u=0.28\n",
"T=960//N\n",
"m=1.5//kg/m\n",
"//let N be speed\n",
"v=sqrt(T/(3*m))//m/s\n",
"N=(v*60)/(%pi*d)//rpm\n",
"printf('rpm is,%f rpm\n',N)\n",
"//for max power trans\n",
"Tc=T/3\n",
"T1=T-Tc\n",
"//log(T1/T2)=u*q*cosec(%pi/180*B)=0.9435\n",
"T2=T1/8.78//\n",
"P=(T1-T2)*v*n//W\n",
"printf('the power trans is,%f W\n',P)"
   ]
   }
,
{
		   "cell_type": "markdown",
		   "metadata": {},
		   "source": [
			"## Example 20.7: Machine_design.sce"
		   ]
		  },
  {
"cell_type": "code",
	   "execution_count": null,
	   "metadata": {
	    "collapsed": true
	   },
	   "outputs": [],
"source": [
"//find..\n",
"clc\n",
"//soltuion\n",
"//given\n",
"n=10\n",
"v=25//m/s\n",
"P=115*1000//W\n",
"q=%pi\n",
"B=22.5//deg\n",
"u=0.2\n",
"m=0.6//kg/m\n",
"//let T1 and T2 be tension on tight and slag side\n",
"//P=(T1-T2)*v*n//W\n",
"//T1-T2=460...eq1\n",
"//log(T1/T2)=u*q*cosec(%pi/180*B)=0.714\n",
"T2=T1/5.18//....eq2\n",
"//from eq1 and eq2\n",
"T1=570//N\n",
"T2=110//N\n",
"Tc=m*v^2\n",
"Tt1=T1+Tc\n",
"Tt2=T2+Tc\n",
"printf('the value of Tt1 and Tt2 is,%f N\n,%f N',Tt1,Tt2)"
   ]
   }
,
{
		   "cell_type": "markdown",
		   "metadata": {},
		   "source": [
			"## Example 20.8: Machine_design.sce"
		   ]
		  },
  {
"cell_type": "code",
	   "execution_count": null,
	   "metadata": {
	    "collapsed": true
	   },
	   "outputs": [],
"source": [
"//find..\n",
"clc\n",
"//soltuion\n",
"//given\n",
"P=600*1000//W\n",
"d=4//m\n",
"N=90//rpm\n",
"q=2.8//rad\n",
"B=22.5//deg\n",
"u=0.28\n",
"m=1.5//kg/m\n",
"T=2400//N\n",
"v=(%pi*N*d)/60//m/s\n",
"Tc=m*v^2//N\n",
"printf('the centrifugl tension is,%f N\n',Tc)\n",
"T1=T-Tc//N\n",
"//log(T1/T2)=u*q*cosec(%pi/180*B)=0.8907\n",
"T2=T1/7.78//N\n",
"Ppb=(T1-T2)*v//W\n",
"printf('power tranmited per belt is,%f W\n',Ppb)\n",
"//n=P/Ppb//\n",
"printf('the number of belts are,%f \n',P/Ppb)\n",
"printf('number of belts are say 20\n')"
   ]
   }
,
{
		   "cell_type": "markdown",
		   "metadata": {},
		   "source": [
			"## Example 20.9: Machine_design.sce"
		   ]
		  },
  {
"cell_type": "code",
	   "execution_count": null,
	   "metadata": {
	    "collapsed": true
	   },
	   "outputs": [],
"source": [
"//design wire rope\n",
"clc\n",
"//soltuion\n",
"//given\n",
"W=55000//N\n",
"depth=300//m\n",
"v=500//m/min\n",
"t=10//s\n",
"//ref T20.6,we choose rope type 6*19\n",
"//,tab; 20.11,Fs =7,for depth 300 to 600m,design load is calculated by taking 2 to 2.5 times factor of safety fiven is table\n",
"//ref table 20.11\n",
"Designload=15*55*1000//N\n",
"//ref table 20.6,tesnile strength of 6*19 is=595*d^2\n",
"//595d^2=designload\n",
"//d=sqrt(Desingload/595)//mm\n",
"printf('the dia of rope is,%f mm\n',sqrt(Designload/595))\n",
"printf('the dia of rope is,say 38mm\n')\n",
"d=38//mm\n",
"dw=0.063*d//ref table 20.10,dw=dia of wire\n",
"A=0.38*d^2\n",
"//ref table 20.6\n",
"w=0.0363*d^2*depth//N\n",
"//ref table 20.12\n",
"D=100*d\n",
"fb=84000*dw/D\n",
"printf('bending stress acting is,%f N/mm^2\n',fb)\n",
"Wb=fb*A//N\n",
"printf('the bending load on rope is,%f N\n',Wb)\n",
"a=v/(60*t)//acceleration\n",
"g=9.81//m/s^2\n",
"Wa=(W+w)/g*a//additonal load\n",
"printf('additional load due to acc si,%f N\n',Wa)\n",
"Wst=2*(W+w)\n",
"printf('the starting load acting is,%f N\n',Wst)\n",
"We=W+w+Wb//N\n",
"printf('effctive load during uniform velocity is,%f N\n',We)\n",
"Fsa=Designload/We\n",
"printf('actual factor of safety is,%f \n',Fsa)\n",
"printf('since factor of safety caculated above are safe,therefore wire rope of dia 38mm and 6*19 is chosen')"
   ]
   }
],
"metadata": {
		  "kernelspec": {
		   "display_name": "Scilab",
		   "language": "scilab",
		   "name": "scilab"
		  },
		  "language_info": {
		   "file_extension": ".sce",
		   "help_links": [
			{
			 "text": "MetaKernel Magics",
			 "url": "https://github.com/calysto/metakernel/blob/master/metakernel/magics/README.md"
			}
		   ],
		   "mimetype": "text/x-octave",
		   "name": "scilab",
		   "version": "0.7.1"
		  }
		 },
		 "nbformat": 4,
		 "nbformat_minor": 0
}
