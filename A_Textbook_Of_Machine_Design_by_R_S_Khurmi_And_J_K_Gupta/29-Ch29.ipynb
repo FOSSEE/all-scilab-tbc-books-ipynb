{
"cells": [
 {
		   "cell_type": "markdown",
	   "metadata": {},
	   "source": [
       "# Chapter 29: Ch29"
	   ]
	},
{
		   "cell_type": "markdown",
		   "metadata": {},
		   "source": [
			"## Example 29.1: Machine_design.sce"
		   ]
		  },
  {
"cell_type": "code",
	   "execution_count": null,
	   "metadata": {
	    "collapsed": true
	   },
	   "outputs": [],
"source": [
"//find\n",
"clc\n",
"//solution\n",
"//given\n",
"P=15000//W\n",
"q=(%pi/180)*20\n",
"a=(%pi/180)*45\n",
"Np=10000//rpm\n",
"Dp=0.08//m\n",
"Dg=0.32//m\n",
"fop=100\n",
"fog=100\n",
"fes=618\n",
"//let m is module\n",
"T=P*60/(2*%pi*Np)//N-m\n",
"Wt=T/(Dp/2)//N\n",
"//Tp=Dp/m\n",
"//Te=Tp/(cos(a))^3=226.4/m\n",
"//ypb=0.175-(0.841/Te)=0.175-0.0037m\n",
"v=%pi*Dp*Np/60//m/s\n",
"Cv=0.75/(0.75+sqrt(v))\n",
"//b=12.5m...assume\n",
"//Wt=fop*Cv*b*%pi*m*ypb=72m^2-1.5m^3\n",
"//using hit and trial m=2.3..say 2.5\n",
"m=2.5\n",
"b=12.5*m\n",
"printf('module and face width is,%f mm\n,%f mm\n',m,b)\n",
"vr=Dg/Dp\n",
"Q=2*vr/(vr+1)\n",
"//x=tan(qn)\n",
"x=tan(q)*tan(a)\n",
"qn=(%pi/180)*14.4\n",
"Ep=200*1000\n",
"Eg=200*1000\n",
"K=(fes)^2*sin(qn)*(1/1.4)*(1/Ep +1/Eg)//N/mm^2\n",
"Ww=Dp*b*Q*K*1000/(cos(a))^2//N\n",
"printf('load stress factor is,%f N/mm^2\n',K)\n",
"printf('wear load acting is,%f N\n',Ww)\n",
"printf('since wear load acting is more then tangentia tooth load ,hence design is safe')"
   ]
   }
,
{
		   "cell_type": "markdown",
		   "metadata": {},
		   "source": [
			"## Example 29.2: Machine_design.sce"
		   ]
		  },
  {
"cell_type": "code",
	   "execution_count": null,
	   "metadata": {
	    "collapsed": true
	   },
	   "outputs": [],
"source": [
"//find\n",
"clc\n",
"//solution\n",
"//given\n",
"a=(%pi/180)*30\n",
"P=35000//W\n",
"N=1500//rpm\n",
"Tg=24\n",
"q=(%pi/180)*20\n",
"fo=56\n",
"//b=3*pn...pn=pc*cos(a)...pc=%pi*m..put in eq2\n",
"T=P*60/(2*%pi*N)//N-mm\n",
"Te=T/(cos(a))^3//N\n",
"yb=0.154-(0.912/Te)\n",
"//Wt=T/(Dg/2)=(2T/m/Tg)....Dg=m*Tg\n",
"//Wt=18600/m....eq1\n",
"//v=%pi*N*Dg/60=%pi*m*Tg*N/60\n",
"//v=1.885 m//m/s\n",
"//Cv=15/(1+v)=15/(15+1.885m)\n",
"//Wt=fo*Cv*b*%pi*m*yp//N...eq2\n",
"//Wt=(fo*Cv)*3*%pi*m*cos(a)*%pi*m*yb\n",
"//Wt=2780m^2/(15+1.885*m)....eq3\n",
"//using hit an trial and eq 1 and 3,we get m=5.5,say 6\n",
"m=6\n",
"Dg=m*Tg\n",
"printf('module and pitch dia of gear is,%f mm\n,%f mm\n',m,Dg)\n",
"b=3*%pi*m*cos(a)\n",
"printf('face width is,%f mm\n',b)\n",
"Wt=18600/m\n",
"Wa=Wt*tan(a)//N\n",
"printf('axial tooth is,%f N\n',Wa)\n",
""
   ]
   }
,
{
		   "cell_type": "markdown",
		   "metadata": {},
		   "source": [
			"## Example 29.3: Machine_design.sce"
		   ]
		  },
  {
"cell_type": "code",
	   "execution_count": null,
	   "metadata": {
	    "collapsed": true
	   },
	   "outputs": [],
"source": [
"//find\n",
"clc\n",
"//solution\n",
"//given\n",
"P=22000//W\n",
"Np=1800//rpm\n",
"Ng=600//rpm\n",
"a=(%pi/180)*30\n",
"q=(%pi/180)*20\n",
"Tp=24\n",
"vr=3\n",
"fo=50//N/mm^2\n",
"//b=4*pc\n",
"oh=150//mm..overhang\n",
"t=50//N/mm^2\n",
"T=P*60*1000/(2*%pi*Np)//N-mm\n",
"printf('torque acting is,%f N-mm\n',T)\n",
"Te=T/(cos(a))^3//N\n",
"yb=0.154-(0.912/Te)\n",
"//Wt=T/(Dp/2)=(2T/m/Tp)....Dp=m*Tp\n",
"//Wt=9725/m....eq1\n",
"//v=%pi*m*Tp*Np=135.735*m//m/min\n",
"//Cv=350/(350+v)\n",
"//Wt=fo*Cv*b*%pi*m*yp//N...eq2\n",
"//Wt=(fo*Cv)*4*%pi*m*%pi*m*yb...eq3\n",
"//using hit and trial in eq2 and eq3,we egt m=4.75..say 6\n",
"m=6\n",
"b=4*%pi*m\n",
"printf('module and face width is,%f mm\n,%f mm\n',m,b)\n",
"Dp=m*Tp\n",
"Tg=3*Tp\n",
"printf('numbr of teeeth on gear is,%f \n',Tg)\n",
"Dg=m*Tg\n",
"printf('pitch circle dia of pinion and gear is is,%f mm\n,%f mm\n',Dp,Dg)\n",
"Tg=3*Tp\n",
"printf('numbr of teeeth on gear is,%f \n',Tg)\n",
"//let dp be dia of pinion shaft\n",
"Wt=9725/m\n",
"printf('Wt is,%f N\n',Wt)\n",
"Wa=Wt*tan(a)\n",
"printf('Wa is,%f N\n',Wa)\n",
"M1=Wt*oh//N-mm\n",
"M2=Wa*Dp/2//N-mm\n",
"M=sqrt(M1^2 +M2^2)\n",
"printf('equivalnet bendng moment is,%f N-mm\n',M)\n",
"Te=sqrt(T^2 +M^2)\n",
"//dp=(Te*16/(%pi*t))^(1/3)//mm\n",
"printf('dia of pinion shaft is,%f mm\n',(Te*16/(%pi*t))^(1/3))\n",
"printf('dia of pinion shaft is,say 35mm\n')\n",
"dp=35//mm\n",
"printf('dia of pinion hub is,%f mm\n',1.8*dp)\n",
"printf('length of hub is,%f mm\n',1.25*dp)\n",
"T1=T*vr//torque on gear shaft\n",
"M22=Wa*Dg/2\n",
"Mr=sqrt(M1^2 +M22^2)\n",
"Te1=sqrt(Mr^2 + T1^2)\n",
"//let dg be dia of gear shfat\n",
"//dg=(Te1*16/(%pi*t))^(1/3)//mm\n",
"printf('dia of gear shaft is,%f mm\n',(Te1*16/(%pi*t))^(1/3))\n",
"printf('dia of gear shaft is,say 40 mm\n')\n",
"dg=40//mm\n",
"printf('dia of gear hub is,%f mm\n',1.8*dg)\n",
"printf('length of hub is,%f mm\n',1.25*dg)\n",
"//let a1 be major axis and b1 minor axis\n",
"//b1=a1/2\n",
"//Z=%pi*b1*a1^2/32=0.05*a1^3\n",
"v=135.735*m\n",
"Cv=350/(350+v)\n",
"Ws=Wt/Cv//N\n",
"Mb=Ws/4*Dg/2//N-mm\n",
"printf('max bending moment acting is,%f N-mm\n',Mb)\n",
"fb=42//N/mm^2\n",
"//fb=M/Z\n",
"a1=(Mb/(0.05*fb))^(1/3)//mm\n",
"printf('major and minor axis of section is,%f mm\n,%f mm\n',a1,a1/2)"
   ]
   }
],
"metadata": {
		  "kernelspec": {
		   "display_name": "Scilab",
		   "language": "scilab",
		   "name": "scilab"
		  },
		  "language_info": {
		   "file_extension": ".sce",
		   "help_links": [
			{
			 "text": "MetaKernel Magics",
			 "url": "https://github.com/calysto/metakernel/blob/master/metakernel/magics/README.md"
			}
		   ],
		   "mimetype": "text/x-octave",
		   "name": "scilab",
		   "version": "0.7.1"
		  }
		 },
		 "nbformat": 4,
		 "nbformat_minor": 0
}
