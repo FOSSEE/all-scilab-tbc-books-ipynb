{
"cells": [
 {
		   "cell_type": "markdown",
	   "metadata": {},
	   "source": [
       "# Chapter 18: Ch18"
	   ]
	},
{
		   "cell_type": "markdown",
		   "metadata": {},
		   "source": [
			"## Example 18.10: Machine_design.sce"
		   ]
		  },
  {
"cell_type": "code",
	   "execution_count": null,
	   "metadata": {
	    "collapsed": true
	   },
	   "outputs": [],
"source": [
"//find..\n",
"clc\n",
"//soltuion\n",
"//given\n",
"N2=600//rpm\n",
"P=15*1000//w\n",
"N1=1750//rpm\n",
"rho=1000//kg/m^3\n",
"f=4*10^6//N/m^2\n",
"u1=0.5\n",
"u2=0.4\n",
"v=20//m/s\n",
"//ref fig 18.21\n",
"d1=v*60/(%pi*N1)//m\n",
"d2=v*60/(%pi*N2)//m\n",
"printf('the dia of mottr and blower pulley are,%f m\n,%f m\n',d1,d2)\n",
"x=2*d2//m\n",
"L=(%pi/2)*(d1+d2)+(2*x)+(d1-d2)^2/(4*x)\n",
"printf('the length of belt is,%f m\n',L)\n",
"//sin(a)=(r1-r2)/x=0.1643\n",
"a=(%pi/180)*9.46//rad\n",
"q=%pi-2*a//rad\n",
"q2=%pi+2*a\n",
"//since u1*q1 >u2*q2,therfore design is blower based\n",
"\n",
"//let T1 and  T2 be tneion on tight and slag side\n",
"//P=(T1-T2)*v\n",
"//T1-T2=750//N\n",
"//log(T1/T2)=u*q=0.4*q2=0.6035\n",
"//T2=T1/4//N\n",
"T1=1000//N\n",
"T2=250//N\n",
"//let a be the area\n",
"//m=a*rho=1500*a//mass/length\n",
"//Tc=m*v^2=0.6*10^6*a//N\n",
"//T=T1+Tc=1000+(0.6*10^6*a)...eq1\n",
"//T=f*a=4*10^6*a....eq2\n",
"//eq1=eq2\n",
"a=1000/(3.4*10^6)//m^2\n",
"printf('the area of belt is,%f m^2\n',a)\n",
"Tc=0.6*10^6*a//N\n",
"To=(T1+T2+2*Tc)/2//N\n",
"printf('min initial tension is,%f N\n',To)\n",
"Toi=To+(0.5)*To//N//increased initial tensaion\n",
"//Toi=(T1i+T2i+2*Tc)/2//N\n",
"//T1i+T2i=2051.2...eq3\n",
"//T1i/T2i=4...eq4\n",
"//from eq3 an eq4\n",
"T1i=1640.96//N\n",
"T2i=T1i/4\n",
"printf('the resultant force in plane of blower is,%f N',T1i-T2i)"
   ]
   }
,
{
		   "cell_type": "markdown",
		   "metadata": {},
		   "source": [
			"## Example 18.11: Machine_design.sce"
		   ]
		  },
  {
"cell_type": "code",
	   "execution_count": null,
	   "metadata": {
	    "collapsed": true
	   },
	   "outputs": [],
"source": [
"//find..\n",
"clc\n",
"//soltuion\n",
"//given\n",
"d1=0.3//m\n",
"d2=0.45//m\n",
"q1=2.8//rad\n",
"q2=3.66//rad\n",
"N1=200//rpm\n",
"u=0.25\n",
"P=3000//W\n",
"//let T1 and  T2 be tneion on tight and slag side\n",
"//since q2>q1,therfore design is smaller pulley based\n",
"v=%pi*N1*d1/60//m/s\n",
"//P=(T1-T2)*v\n",
"//T1-T2=955//N\n",
"//log(T1/T2)=u*q=0.25*q1=0.3043\n",
"//T2=T1/2.015//N\n",
"T1=1896//N\n",
"T2=941//N\n",
"To=(T1+T2)/2\n",
"Toi=To+(0.1)*To//N//incresed initial tension\n",
"//Toi=(T11+T22)/2//N\n",
"//T11+T22=2*Toi//N\n",
"//T11+T22=3120.7//N....eq1\n",
"//T12/T22=2.015...eq2\n",
"//from eq1 and eq2\n",
"T11=2085.7\n",
"T22=1035//N\n",
"P1=(T11-T22)*v\n",
"u1=u+(0.1)*u\n",
"//log(T111/T222)=u1*q1=0.3348\n",
"//T111/T222=2.16\n",
"//Toi=(T111+T222)/2.....eq3\n",
"//T111+T222=2837....eq4\n",
"//from eq3 and eq4\n",
"T111=1939//N\n",
"T222=898//N\n",
"P2=(T111-T222)*v//W\n",
"pi1=((P1-P)/P)*100\n",
"pi2=((P2-P)/P)*100\n",
"printf('the perctage inc in power wen initial tension is inc is,%f \n',pi1)\n",
"printf('the %age perct inc inpower wen coefficient of riction si,%f',pi2)"
   ]
   }
,
{
		   "cell_type": "markdown",
		   "metadata": {},
		   "source": [
			"## Example 18.1: Machine_design.sce"
		   ]
		  },
  {
"cell_type": "code",
	   "execution_count": null,
	   "metadata": {
	    "collapsed": true
	   },
	   "outputs": [],
"source": [
"//find..\n",
"clc\n",
"//soltuion\n",
"//given\n",
"N1=150//rpm\n",
"d1=750//rpm\n",
"d2=450//mm\n",
"d3=900//mm\n",
"d4=150//mm\n",
"s1=0.02\n",
"s2=0.02\n",
"//ref fig 18.12\n",
"N4={(d1*d3)/(d2*d4)}*N1//rpm\n",
"printf('the value of N4 is,%f rpm\n',N4)\n",
"//wen slip is there\n",
"N4s={(d1*d3)/(d2*d4)}*N1*(1-s1)*(1-s2)//rpm\n",
"printf('the value N4 when slip is there is,%f rpm',N4s)"
   ]
   }
,
{
		   "cell_type": "markdown",
		   "metadata": {},
		   "source": [
			"## Example 18.2: Machine_design.sce"
		   ]
		  },
  {
"cell_type": "code",
	   "execution_count": null,
	   "metadata": {
	    "collapsed": true
	   },
	   "outputs": [],
"source": [
"//find..\n",
"clc\n",
"//soltuion\n",
"//given\n",
"d1=0.450//rpm\n",
"r1=0.225//m\n",
"d2=0.2//m\n",
"r2=0.1//m\n",
"N1=200//rpm\n",
"x=1.95//m\n",
"T1=1000//N\n",
"u=0.25\n",
"//ref fig 18.17\n",
"L=%pi*(r1+r2)+2*x+(r1+r2)^2/x//m\n",
"printf('the length of belt is,%f m\n',L)\n",
"//sin(a)=(r1+r2)/x=0.1667\n",
"//a=9.6//deg\n",
"a=(%pi/180)*9.6//rad\n",
"q=%pi+(2*a)//rad\n",
"printf('te angle of contact is,%f rad\n',q)\n",
"//let T1 and  T2 be tneion on tight and slag side\n",
"//T1/T2=y\n",
"//log(T1/T2)=u*q=0.25*3.477=0.8693\n",
"T2=T1/2.387//N\n",
"v=%pi*N1*d1/60//m/s\n",
"P=(T1-T2)*v\n",
"printf('the power transmitted is,%f W\n',P)"
   ]
   }
,
{
		   "cell_type": "markdown",
		   "metadata": {},
		   "source": [
			"## Example 18.3: Machine_design.sce"
		   ]
		  },
  {
"cell_type": "code",
	   "execution_count": null,
	   "metadata": {
	    "collapsed": true
	   },
	   "outputs": [],
"source": [
"//find..\n",
"clc\n",
"//soltuion\n",
"//given\n",
"t=0.009//m\n",
"b=0.25//m\n",
"d=0.9//m\n",
"N=336//rpm\n",
"q=2.1//rad\n",
"f=2//N/mm^2\n",
"rho=980//kg/m^3\n",
"u=0.35\n",
"v=%pi*N*d/60//m/s\n",
"a=b*t//area\n",
"Tt1=f*a*1000*1000//N\n",
"T=Tt1\n",
"printf('the value of Tt1 is,%f N\n',Tt1)\n",
"m=a*rho//mass/length\n",
"Tc=m*v^2//N\n",
"printf('the centrifugal tension is,%f N\n',Tc)\n",
"T1=T-Tc//N\n",
"//let T1 and  T2 be tneion on tight and slag side\n",
"//T1/T2=y\n",
"//log(T1/T2)=u*q=0.25*3.477=0.735\n",
"T2=T1/2.085//N\n",
"printf('the value of T2 is,%f N\n',T2)\n",
"P=(T1-T2)*v//W\n",
"printf('the poweer capacity is,%f W\n',P)\n",
"Tt2=T2+Tc//N\n",
"P1=(Tt1-Tt2)*v//W\n",
"printf('the power capcity by taking centrifugal force is,%f W\n',P1)"
   ]
   }
,
{
		   "cell_type": "markdown",
		   "metadata": {},
		   "source": [
			"## Example 18.4: Machine_design.sce"
		   ]
		  },
  {
"cell_type": "code",
	   "execution_count": null,
	   "metadata": {
	    "collapsed": true
	   },
	   "outputs": [],
"source": [
"//find..\n",
"clc\n",
"//soltuion\n",
"//given\n",
"P=30000//W\n",
"d=1.5//m\n",
"N=300//rpm\n",
"q=2.88//rad\n",
"u=0.3\n",
"t=0.0095//m\n",
"rho=1100//kg/m^3\n",
"f=2.5*10^6//N/m^2\n",
"//let T1 and  T2 be tneion on tight and slag side\n",
"v=%pi*N*d/60//m/s\n",
"printf('the vel of belt is,%f m/s\n',v)\n",
"//P=(T1-T2)*v//W\n",
"//T1-T2=P/v=1273//N\n",
"//log(T1/T2)=u*q=0.25*3.477=2.375\n",
"//T2=T1/2.375//N\n",
"T1=2199//N\n",
"T2=926//N\n",
"//let b is width\n",
"//m=A*rho=b*t*rho=10.45*b//kg/m\n",
"//Tc=m*v^2=5805*b\n",
"//T=T1+Tc=f*b*t\n",
"//23750*b=2199+5805*b\n",
"b=2199/(23750-5805)//m\n",
"printf('the widht of belt is,%f m\n',b)"
   ]
   }
,
{
		   "cell_type": "markdown",
		   "metadata": {},
		   "source": [
			"## Example 18.5: Machine_design.sce"
		   ]
		  },
  {
"cell_type": "code",
	   "execution_count": null,
	   "metadata": {
	    "collapsed": true
	   },
	   "outputs": [],
"source": [
"//find..\n",
"clc\n",
"//soltuion\n",
"//given\n",
"d1=400//mm\n",
"r1=200//mm\n",
"d2=1600//mm\n",
"r2=800//mm\n",
"q1=2.5//rad\n",
"q2=3.78//rad\n",
"u1=0.3\n",
"u2=0.25\n",
"N1=700//rpm\n",
"P=22.5*10^3//W\n",
"t=0.005//mm\n",
"f=2.3*10^6//N/m^2\n",
"//ref fig 18.19\n",
"v=%pi*N1*d1/60//m/s\n",
"//let T1 and  T2 be tneion on tight and slag side\n",
"printf('the vel of belt is,%f m/s\n',v)\n",
"//P=(T1-T2)*v//W\n",
"//T1-T2=P/v=1530//N\n",
"//log(T1/T2)=u*q=0.25*3.477=0.75\n",
"//T2=T1/2.21//N\n",
"T1=2896//N\n",
"T2=1366//N\n",
"//let b is width\n",
"//m=A*rho=b*t*rho=5*b//kg/m\n",
"//Tc=m*v^2=1080*b\n",
"//T=T1+Tc=f*b*t\n",
"//11500*b=2896+1080*b\n",
"b=2896/(11500-1080)//m\n",
"printf('the widht of belt is,%f m\n',b)"
   ]
   }
,
{
		   "cell_type": "markdown",
		   "metadata": {},
		   "source": [
			"## Example 18.7: Machine_design.sce"
		   ]
		  },
  {
"cell_type": "code",
	   "execution_count": null,
	   "metadata": {
	    "collapsed": true
	   },
	   "outputs": [],
"source": [
"//find..\n",
"clc\n",
"//soltuion\n",
"//given\n",
"P=110*1000//W\n",
"d1=0.9//m\n",
"r1=0.45//m\n",
"d2=1.2//m\n",
"r2=0.6//m\n",
"v=20//m/s\n",
"x=3.6//m\n",
"u=0.3\n",
"s1=0.012\n",
"s2=0.012\n",
"rho=100//kg/m^3\n",
"//v=%pi*N1*d1/60*(1-s1)//m/s\n",
"N1=20/0.0466//rpm\n",
"//v*(1-s2)=%pi*N2*d2/60//m/s\n",
"N2=19.76*60/(%pi*1.2)//rpm\n",
"T=P*60/(2*%pi*N2)\n",
"//since there is 5% friction\n",
"Tn=1.05*T//net torque\n",
"//since belt is to designed for 20% overload\n",
"TN=1.2*Tn//N-m\n",
"//let T1 and  T2 be tneion on tight and slag side\n",
"//TN=(T1-T2)*r2\n",
"//T1-T2=TN/r2=7000/N\n",
"//sin(a)=(r2-r1)/x=2.4 deg\n",
"a=(%pi/180)*2.4//rad\n",
"q1=%pi-a//rad\n",
"printf('the angle of contact is,%f rad \n',q1)\n",
"//log(T1/T2)=u*q1=0.3*q1=0.918\n",
"//T2=T1/2.51//N\n",
"T1=11636//N\n",
"T2=4636//N\n",
"//let b is width\n",
"//m=A*rho=b*t*rho=15*b//kg/m\n",
"//Tc=m*v^2=6000*b\n",
"//T=T1+Tc=f*b*t\n",
"//37500*b=11636+6000*b\n",
"b=11636/(37500-6000)//m\n",
"printf('the widht of belt is,%f m\n',b)\n",
"L=%pi*(r1+r2)+2*x+(r1+r2)^2/x//m\n",
"printf('the length of belt is,%f m',L)"
   ]
   }
,
{
		   "cell_type": "markdown",
		   "metadata": {},
		   "source": [
			"## Example 18.8: Machine_design.sce"
		   ]
		  },
  {
"cell_type": "code",
	   "execution_count": null,
	   "metadata": {
	    "collapsed": true
	   },
	   "outputs": [],
"source": [
"//find..\n",
"clc\n",
"//soltuion\n",
"//given\n",
"b=0.100//m\n",
"t=0.01//m\n",
"v=16.67//m/s\n",
"//T1-T2=1.8 *T2\n",
"f=1.6//N/mm^2\n",
"rho=1000//kg/m^3\n",
"//let T1 and  T2 be tneion on tight and slag side\n",
"T=f*b*t*10^6//N//max tension\n",
"m=0.1*0.01*1000//kg/m\n",
"Tc=m*v^2//N\n",
"T1=T-Tc//N\n",
"T2=T1/2.8//N\n",
"P=(T1-T2)*v\n",
"printf('the power transmitted is,%f W\n',P)\n",
"vm=sqrt(T/(3*m))//m/s\n",
"Tc1=T/3//N\n",
"T11=T-Tc1\n",
"T21=T11/2.8\n",
"P1=(T11-T21)*vm\n",
"printf('the max power tans is,%f W\n',P1)"
   ]
   }
,
{
		   "cell_type": "markdown",
		   "metadata": {},
		   "source": [
			"## Example 18.9: Machine_design.sce"
		   ]
		  },
  {
"cell_type": "code",
	   "execution_count": null,
	   "metadata": {
	    "collapsed": true
	   },
	   "outputs": [],
"source": [
"//find..\n",
"clc\n",
"//soltuion\n",
"//given\n",
"x=4.8//m\n",
"d1=1.5//m\n",
"d2=1//m\n",
"To=3000//N\n",
"m=1.5//kg/m\n",
"u=0.3\n",
"N2=400//rpm\n",
"v=%pi*N2*d2/60//m/s\n",
"Tc=m*v^2\n",
"//let T1 and  T2 be tneion on tight and slag side\n",
"//To=(T1+T2+2*Tc)/2\n",
"//T1+T2=4677\n",
"//sin(a)=(r1-r2)/x=0.0521\n",
"a=(%pi/180)*3//rad\n",
"q=%pi-2*a//rad\n",
"printf('the angle of contact is,% f rad\n',q)\n",
"//log(T1/T2)=u*q=0.3*q=0.3965\n",
"//T2=T1/2.5//N\n",
"T1=3341//N\n",
"T2=1336//N\n",
"P=(T1-T2)*v\n",
"printf('the power transmitted is,%f W\n',P)"
   ]
   }
],
"metadata": {
		  "kernelspec": {
		   "display_name": "Scilab",
		   "language": "scilab",
		   "name": "scilab"
		  },
		  "language_info": {
		   "file_extension": ".sce",
		   "help_links": [
			{
			 "text": "MetaKernel Magics",
			 "url": "https://github.com/calysto/metakernel/blob/master/metakernel/magics/README.md"
			}
		   ],
		   "mimetype": "text/x-octave",
		   "name": "scilab",
		   "version": "0.7.1"
		  }
		 },
		 "nbformat": 4,
		 "nbformat_minor": 0
}
