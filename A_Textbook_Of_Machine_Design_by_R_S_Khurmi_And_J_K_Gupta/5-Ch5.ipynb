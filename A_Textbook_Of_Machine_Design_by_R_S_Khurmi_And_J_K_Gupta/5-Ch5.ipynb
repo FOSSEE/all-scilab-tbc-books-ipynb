{
"cells": [
 {
		   "cell_type": "markdown",
	   "metadata": {},
	   "source": [
       "# Chapter 5: Ch5"
	   ]
	},
{
		   "cell_type": "markdown",
		   "metadata": {},
		   "source": [
			"## Example 5.10: Machine_design.sce"
		   ]
		  },
  {
"cell_type": "code",
	   "execution_count": null,
	   "metadata": {
	    "collapsed": true
	   },
	   "outputs": [],
"source": [
"//find stress at inner and outer surface\n",
"clc\n",
"//solution\n",
"//given\n",
"//refer fig 5.9\n",
"W=5000//N\n",
"bi=18//mm\n",
"bo=6//mm\n",
"h=40//mm\n",
"Ri=25//mm\n",
"Ro=25+40//mm\n",
"A=0.5*{18+6}*40//are of section X-X//mm^2\n",
"Rn=[{(bi+bo)/2}*h]/[{{{(bi*Ro)-(bo*Ri)}/h}*log(Ro/Ri)}-(bi-bo)]//mm//radius of curvature of neutral axis\n",
"R=Ri+[(h*(bi+2*bo))/{3*(bi+bo)}]//mm//radius of curvature of centroidal axis\n",
"e=R-Rn//distance between centroidal and neutral axis\n",
"x=100+R//distance between load and central axis//mm\n",
"M=W*x//N-mm//moment abt centroidal axis\n",
"f=W/A//stress//N/mm^2\n",
"yi=Rn-Ri//distance from neutral axis to inner surface\n",
"yo=Ro-Rn//distance from neutral axis to outer surface\n",
"fbi=(M*yi)/(A*e*Ri)//N/mm^2//maximum bending stress at inner surafce\n",
"fbo=(M*yo)/(A*e*Ro)//N/mm^2//max bending strss at outr srface\n",
"Fi=f+fbi//N//mm^2//resultant stress on inner surafce\n",
"Fo=f+fbo//N/mm^2//resultant stress o outer surafce\n",
"printf('the value of Rn is,%f mm\n',Rn)\n",
"printf('the stress on section X-X is,%f N/mm^2\n',f)\n",
"printf('the max bedning stress on inner surafce,%f N/mm^2\n',fbi)\n",
"printf('the max bending stress on outer surface is,%f N/mm^2\n',fbo)\n",
"printf('the resultant streess on inner surface is,%f N/mm^2\n',Fi)\n",
"printf('the resultant stress on outer surface is,%f N/mm^2\n',Fo)"
   ]
   }
,
{
		   "cell_type": "markdown",
		   "metadata": {},
		   "source": [
			"## Example 5.11: Machine_design.sce"
		   ]
		  },
  {
"cell_type": "code",
	   "execution_count": null,
	   "metadata": {
	    "collapsed": true
	   },
	   "outputs": [],
"source": [
"//find stresses in inner and outer fibres\n",
"clc\n",
"//refer fig 5.11 and gfig 5.12\n",
"//solution\n",
"//given\n",
"W=20*10^3//N\n",
"Ri=50//mm\n",
"Ro=150//mm\n",
"h=100//mm\n",
"b=20//mm\n",
"A=b*h//mm^2//area\n",
"Rn=h/{log(Ro/Ri)}//mm//rad of neutral axis\n",
"R=Ri+h/2//rad of centroidal axis\n",
"e=R-Rn\n",
"x=R//mm//distnce btw load and centroidal axis\n",
"M=W*x//N-mm\n",
"f=W/A//N/mm^2\n",
"yi=Rn-Ri\n",
"yo=Ro-Rn\n",
"fbi=(M*yi)/(A*e*Ri)//N/mm^2\n",
"fbo=(M*yo)/(A*e*Ro)//N/mm^2\n",
"Fi=f+fbi//N/mm^2\n",
"Fo=f-fbo//N/mm^2\n",
"printf('the value of e is,%f mm\n',e)\n",
"printf('the value of Rn is,%f mm\n',Rn)\n",
"printf('the stress on section X-X is,%f N/mm^2\n',f)\n",
"printf('the max bedning stress on inner surafce,%f N/mm^2\n',fbi)\n",
"printf('the max bending stress on outer surface is,%f N/mm^2\n',fbo)\n",
"printf('the resultant streess on inner surface is,%f N/mm^2\n',Fi)\n",
"printf('the resultant stress on outer surface is,%f N/mm^2\n',Fo)"
   ]
   }
,
{
		   "cell_type": "markdown",
		   "metadata": {},
		   "source": [
			"## Example 5.13: Machine_design.sce"
		   ]
		  },
  {
"cell_type": "code",
	   "execution_count": null,
	   "metadata": {
	    "collapsed": true
	   },
	   "outputs": [],
"source": [
"//find the load\n",
"clc\n",
"//refer fig 5.13\n",
"//solution\n",
"//given\n",
"f=140//N/mm^2\n",
"Ri=25//mm\n",
"Ro=50//mm\n",
"bi=19//mm\n",
"ti=3//mm\n",
"t=3//mm\n",
"h=25//mm\n",
"A=(3*22)+(3*19)//mm^2\n",
"Rn={ti*(bi-t)+t*h}/{[(bi-t)*log((Ri+t)/Ri)]+[t*log(Ro/Ri)]}//mm\n",
"R=Ri+{[(0.5*h^2*t)+(0.5*ti^2*(bi-t))]/{(h*t)+(ti*(bi-t))}}//mm\n",
"e=R-Rn//mm\n",
"x=50+R//mm\n",
"//M=W*x//N-mm\n",
"yi=Rn-Ri//mm\n",
"//f1=W/A=0.008*W//N/mm^2//direct tensile stress\n",
"//fbi=(M*yi)/(A*e*Ri)=0.115*W//N/mm^2\n",
"//f=f1+fbi\n",
"//0.123*W=140\n",
"W=140/0.123//N\n",
"printf('the value of e is,%f mm\n',e)\n",
"printf('the value of Rn is,%f mm\n',Rn)\n",
"printf('the load acting is,%f N',W)"
   ]
   }
,
{
		   "cell_type": "markdown",
		   "metadata": {},
		   "source": [
			"## Example 5.14: Machine_design.sce"
		   ]
		  },
  {
"cell_type": "code",
	   "execution_count": null,
	   "metadata": {
	    "collapsed": true
	   },
	   "outputs": [],
"source": [
"//cal stress at A and B\n",
"clc\n",
"//solution\n",
"//given\n",
"W=3000//N\n",
"T=10^6//N-mm\n",
"P=15000//N\n",
"d=50//mm\n",
"x=250//mm\n",
"pi=3.14\n",
"A=(pi/4)*d^2//mm^2//area of shaft\n",
"f1=P/A//tensile stress at A and B\n",
"M=W*x//N-mm\n",
"Z=(pi/32)*d^3//mm^3\n",
"f2=M/Z//N/mm^2\n",
"fa=f1+f2//N/mm^2\n",
"fb=f2-f1//N/mm^2//tensile stress at B\n",
"fs=16*T/(pi*d^3)//N/mm^3\n",
"Fama=(fa/2)+0.5*sqrt((fa)^2+4*(fs)^2)//max stress at A\n",
"Fami=(fa/2)-0.5*sqrt((fa)^2+4*(fs)^2)//min stress at A\n",
"Tama=0.5*[sqrt(((fa)^2)+(4*(fs)^2))]// max shear stress at A\n",
"Fbma=(fb/2)+0.5*sqrt((fb)^2+4*(fs)^2)//max stress at B\n",
"Fbmi=(fb/2)-0.5*sqrt((fb)^2+4*(fs)^2)//min stress at B\n",
"Tbma=0.5*[sqrt(((fb)^2)+(4*(fs)^2))]//max shear stress at B\n",
"printf('the max stress at A is,% f N/mm^2\n',Fama)\n",
"printf('the min stress at A is,% f N/mm^2\n',Fami)\n",
"printf('the max stress at B is,% f N/mm^2\n',Fbma)\n",
"printf('the max stress at B is,% f N/mm^2\n',Fbmi)\n",
"printf('the max shear stress at A is,%f N/mm^2\n',Tama)\n",
"printf('the max shear stress at B is,%f N/mm^2',Tbma)"
   ]
   }
,
{
		   "cell_type": "markdown",
		   "metadata": {},
		   "source": [
			"## Example 5.15: Machine_design.sce"
		   ]
		  },
  {
"cell_type": "code",
	   "execution_count": null,
	   "metadata": {
	    "collapsed": true
	   },
	   "outputs": [],
"source": [
"//detrmin max principasl stress and max shear stress at centre of shaft bearing\n",
"clc\n",
"//solution\n",
"//given\n",
"//refer fig 5.18\n",
"W=15000//N\n",
"d=80//mm\n",
"y=140//mm\n",
"x=120//mm\n",
"pi=3.14\n",
"M=W*x//N-mm\n",
"T=W*y//N-mm\n",
"Z=(pi/32)*d^3//mm^3\n",
"f1=M/Z//N/mm^2//stress due to bending\n",
"f2=16*T/(pi*d^3)//N/mm^2//stress due torsion\n",
"Fm=(f1/2)+(0.5*sqrt(f1^2+4*f2^2))//Max stress\n",
"Fs=0.5*(sqrt(f1^2+4*f2^2))//max shear stress\n",
"printf('the max prin stress is,%f N/mm^2\n',Fm)\n",
"printf('the max shear stress is ,%f N/mm^2',Fs)\n",
"\n",
""
   ]
   }
,
{
		   "cell_type": "markdown",
		   "metadata": {},
		   "source": [
			"## Example 5.16: Machine_design.sce"
		   ]
		  },
  {
"cell_type": "code",
	   "execution_count": null,
	   "metadata": {
	    "collapsed": true
	   },
	   "outputs": [],
"source": [
"//find dia of bolt using all theories\n",
"clc\n",
"//solution\n",
"//given\n",
"Pt1=10000//N\n",
"Ps=5000//N\n",
"fs=100//N/mm^2\n",
"m=10/3\n",
"pi=3.14\n",
"//let d be diameter of bolt in mm\n",
"//A=(pi/4)*d^2=0.7854*d^2//mm^2\n",
"//f1=Pt1/A=12.73/d^2//kN/mm^2\n",
"//t=Ps/A=6.365/d^2//kN/mm^2\n",
"//fs=[(f1^2)+(0.5*sqrt(f1^2 + 4*t^2))]//acc to max principal stress theory\n",
"//fs=15.365/d^2//kN/mm^2\n",
"d=sqrt(15365/fs)//mm\n",
"//using max shear stres theory\n",
"Tm=fs/2//N/mm^2\n",
"//Tm=0.5*[f1^2+ 4*t^2]\n",
"//Tm=9000/d1^2//N/mm^2\n",
"d1=sqrt(9000*2/fs)//mm\n",
"//using max principal strain theory\n",
"//we know\n",
"//fs=[(f1^2)+(0.5*sqrt(f1^2 + 4*t^2))]//\n",
"//fs=15365/d2^2//N/mm^2//max pricipla stress\n",
"//fs2=[(f1^2)-(0.5*sqrt(f1^2 + 4*t^2))]//min principal stress\n",
"//fs2=-2635/d2^2//N/mm^2\n",
"//fs/E-(fs2/(m*E))=fs/E\n",
"//15365/d2^2+2635/(3.33*d2^2)=100\n",
"d2=sqrt(16156/100)//mm\n",
"//using max strain energy theory\n",
"//fs^2+fs^2-2*fs*fs2/m=fs^2\n",
"//[15365/d3^2]^2+[-2635/d3^2]^2+(2*15365*2635/d3^4/3.33)=100^2\n",
"//[23600/d3^4]+[694/d3^4]+[2430/d3^4]=1\n",
"d3=[26724]^(1/4)//mm\n",
"//using max distortion energy theory\n",
"//(fs^2)+(fs2)^2-(2*fs*fs2)=fs^2\n",
"//[15365/d4^2]^2+[2635/d4^2]^2+(2*15365*2635/d4^4)=100^2\n",
"//32391/d4^4=1\n",
"d4=(32391)^(1/4)//mm\n",
"printf('the dia og bolt using max prin stress theory is,%f mm\n',d)\n",
"printf('the dia of bolt using max shear stress thewory is,%f mm\n',d1)\n",
"printf('the dia of bolt using max prin strain theory is ,%f mm\n',d2)\n",
"printf('the dia of bolt using max strain energy theory is,%f mm\n',d3)\n",
"printf('the dia of boltusing distortion energy is,%f mm\n',d4)"
   ]
   }
,
{
		   "cell_type": "markdown",
		   "metadata": {},
		   "source": [
			"## Example 5.17: Machine_design.sce"
		   ]
		  },
  {
"cell_type": "code",
	   "execution_count": null,
	   "metadata": {
	    "collapsed": true
	   },
	   "outputs": [],
"source": [
"//find dia using two diffrnt theories\n",
"clc\n",
"//soltion\n",
"//given\n",
"fs=700//N/mm^2\n",
"M=10*10^6//N-mm\n",
"T=30*10^6//N-mm\n",
"Fs=2//factor of safety\n",
"E=210*10^3//N/mm^2\n",
"m=4\n",
"pi=3.14\n",
"//let d be dia of shaft in mm\n",
"//Z=(pi/32)*d^3//mm^3\n",
"//f1=M/Z=101.8*10^6/d^3//N/mm^2\n",
"//t=16*T/(pi*d^3)=152.8*10^6/d^3//N/mm^2\n",
"//ft1=(f1/2)+(0.5*sqrt((f1^2)+(4*t^2)))\n",
"//ft1=211.9*10^6/d^3//N/mm^2/max prin stress\n",
"//ft2=(f1/2)-(0.5*sqrt((f1^2)+(4*t^2)))//min prin stress\n",
"//ft2=-110.1*10^6/d^3//N/mm^2\n",
"//acc to max shear stress theory\n",
"//Tmax=(ft1-ft2)/2=161*10^6/d^3//max shear stress theory\n",
"//Tmax=fs/(2*Fs)\n",
"//161*10^6/d^3=700/(2*2)\n",
"d=(161*10^6/175)^(1/3)//mm\n",
"//acc to max strain energy theory\n",
"//1/(2*E)*[ft1^2+ft2^2-(2*ft1*ft2/m)]=1/(2*E)*[fs/Fs]^2\n",
"//ft1^2 + ft2^2- (2*ft1*ft2/m)=[fs/Fs]^2\n",
"//[211.9*10^6/d2^3]^2 + [-110.1*10^6/d2^3]^2 + [2*211.9*10^6*110.1*10^6*0.25/d2^6]=[700/2]^2\n",
"//68689*10^12/d2^6=122500\n",
"d2=(68689*10^12/122500)^(1/6)//mm\n",
"printf('the dia of shaft using max shear stress theory is,%f mm\n',d)\n",
"printf('the dia of shaft using max strain energy theory is,%f mm',d2)"
   ]
   }
,
{
		   "cell_type": "markdown",
		   "metadata": {},
		   "source": [
			"## Example 5.18: Machine_design.sce"
		   ]
		  },
  {
"cell_type": "code",
	   "execution_count": null,
	   "metadata": {
	    "collapsed": true
	   },
	   "outputs": [],
"source": [
"//find max value of torque\n",
"clc\n",
"//solution\n",
"//given\n",
"d=50//mm\n",
"M=2000*10^6//N-mm\n",
"fs=200//N/mm^2\n",
"//let T be torque \n",
"pi=3.14\n",
"Z=(pi/32)*d^3//mm^3\n",
"//acc to max principal stress theory\n",
"f1=M/Z//N/mm^2//bending stress\n",
"//t=16*T/(pi*d^3)//shear stress due to torque/\n",
"//ft1=(f1/2)+(0.5*sqrt((f1^2)+4*t^2)//N/mm^2\n",
"//ft2=(ft1/2)-(0.5*sqrt((f1^2)+4*t^2)//N/mm^2\n",
"//Tmax=0.5*sqrt(f1^2 + 4*t^2)\n",
"//ft1=fs\n",
"//81.5+sqrt(6642.5+(1.65*10^-9*T^2))=200\n",
"//6642.5+(1.65*10^-9*T^2)=14042\n",
"//T^2=(14042-6642.5)/(1.65*10^-9)\n",
"T=sqrt((14042-6642.5)/(1.65*10^-9))//N-mm\n",
"//acc to max shear stress theory\n",
"//Ty=fs/2//max shear stress=0.5*yield stress\n",
"Ty=100//N/mm^2\n",
"//sqrt(6642.5+(1.65*10^-9*T1^2))=100\n",
"//T1^2=(10000-6642.5)/(1.65*10^-9)\n",
"T1=sqrt(2035*10^9)//N-mm\n",
"//acc to max distortion energy theory\n",
"//ft1^2+ft2^2-ft1*ft2=fs^2\n",
"//[81.5+sqrt(6642.5+1.65*10^-9*T1^2)]^2+[81.5-sqrt(6642.5+1.65*10^-9*T1^2)]^2-[81.5+sqrt(6642.5+1.65*10^-9*T1^2)]^2*[81.5-sqrt(6642.5+1.65*10^-9*T1^2)]^2=200^2\n",
"//81.5^2+3*6642.5+3*1.65*10^-9*T1^2=200^2\n",
"//T1^2=(40000-26570)/(4.95*10^-9)\n",
"T1=sqrt((40000-26570)/(4.95*10^-9))//N-mm\n",
"printf('the torque acting acc to max shear theory is,%f N-mm\n',T)\n",
"printf('the torque acting acc to max distortion theoyr is,%f N-mm',T1)"
   ]
   }
,
{
		   "cell_type": "markdown",
		   "metadata": {},
		   "source": [
			"## Example 5.19: Machine_design.sce"
		   ]
		  },
  {
"cell_type": "code",
	   "execution_count": null,
	   "metadata": {
	    "collapsed": true
	   },
	   "outputs": [],
"source": [
"//find max and min intensties of stress in the section\n",
"clc\n",
"//solution\n",
"//given\n",
"//refer fig 5.21\n",
"b=150//mm\n",
"d=120//mm\n",
"P=180*10^3//N\n",
"e=10//mm\n",
"A=b*d//mm^2\n",
"fo=P/A//N/mm^2//direct compressive stress\n",
"//Z=Iyy/y\n",
"Z=d*b^2/6//mm^3\n",
"M=P*e//N-mm\n",
"fb=M/Z//bending stress//N/mm^2\n",
"Fm=fo+fb//max stress\n",
"Fmi=fo-fb//min stress\n",
"printf('the max stress is,%f N/mm^2\n',Fm)\n",
"printf('the min stress is,%f N/mm^2',Fmi)\n",
""
   ]
   }
,
{
		   "cell_type": "markdown",
		   "metadata": {},
		   "source": [
			"## Example 5.1: Machine_design.sce"
		   ]
		  },
  {
"cell_type": "code",
	   "execution_count": null,
	   "metadata": {
	    "collapsed": true
	   },
	   "outputs": [],
"source": [
"//find diameter of shaft\n",
"clc\n",
"//solution\n",
"//given\n",
"P=100000//W//power\n",
"N=160//rpm\n",
"//Tmax=1.25 Tmean\n",
"t=70//N/mm^2//shear stress\n",
"pi=3.14\n",
"//P=2*pi*N*Tmean/60\n",
"Tmean=(60*P)/(2*pi*N)//Nm\n",
"Tmax=1.25*Tmean//Nm\n",
"//Tmax=(pi/16)*t*d^3\n",
"d=(Tmax*1000*16/(pi*t))^0.33\n",
"printf('the mean torques is,%f Nm\n',Tmean)\n",
"printf('the max torques is,%f Nm\n',Tmax)\n",
"printf('the diametr of shaft is,%f mm',d)"
   ]
   }
,
{
		   "cell_type": "markdown",
		   "metadata": {},
		   "source": [
			"## Example 5.20: Machine_design.sce"
		   ]
		  },
  {
"cell_type": "code",
	   "execution_count": null,
	   "metadata": {
	    "collapsed": true
	   },
	   "outputs": [],
"source": [
"//find stresses at the sides of the column\n",
"clc\n",
"//solution\n",
"//given\n",
"D=250//mm\n",
"d=200//mm\n",
"P=20000//N\n",
"e=500//mm\n",
"pi=3.14\n",
"A=(pi/4)*[D^2-d^2]//mm^2\n",
"fo=P/A//N/mm^2//direct compressive stress\n",
"Z=(pi/64)*[D^4-d^4]*(1/125)//mm^3\n",
"M=P*e//N-mm\n",
"fb=M/Z//N/mm^2\n",
"Fm=fb+fo//N/mm^2//max comprssive stress\n",
"Fmi=fb-fo//max tensile stress//N/mm^2\n",
"printf('the max comprssive stress is ,%f N/mm^2\n',Fm)\n",
"printf('the max tensile stress is ,%f N/mm^2',Fmi)"
   ]
   }
,
{
		   "cell_type": "markdown",
		   "metadata": {},
		   "source": [
			"## Example 5.21: Machine_design.sce"
		   ]
		  },
  {
"cell_type": "code",
	   "execution_count": null,
	   "metadata": {
	    "collapsed": true
	   },
	   "outputs": [],
"source": [
"//find stresses developed at each corner of the pier\n",
"clc\n",
"//solution\n",
"//given\n",
"//refer fig 5.23\n",
"b=4//m\n",
"d=3//m\n",
"A=b*d//m^2\n",
"P=30//kN\n",
"ex=0.5//m\n",
"ey=1//m\n",
"Ixx=b*d^3/12//m^4\n",
"Iyy=d*b^3/12//m^4\n",
"x=3/2//m\n",
"y=4/2//m\n",
"//at A\n",
"fa=(P/A)+(P*ex*x/(Ixx))+(P*ey*y/(Iyy))//kN/m^2\n",
"//at B\n",
"fb=(P/A) +(P*ex*x/(Ixx))-(P*ey*y/(Iyy))//kN/m^2\n",
"//at C\n",
"fc=(P/A)-(P*ex*x/(Ixx))+(P*ey*y/(Iyy))//kN/m^2\n",
"//at D\n",
"fd=(P/A)-(P*ex*x/(Ixx))-(P*ey*y/(Iyy))//kN/m^2\n",
"printf('the stress at A is,%f N/m^2\n',fa)\n",
"printf('the stress at B is,%f N/m^2\n',fb)\n",
"printf('the stress at B is,%f N/m^2\n',fc)\n",
"printf('the stress at D is ,%f N/m^2',fd)"
   ]
   }
,
{
		   "cell_type": "markdown",
		   "metadata": {},
		   "source": [
			"## Example 5.22: Machine_design.sce"
		   ]
		  },
  {
"cell_type": "code",
	   "execution_count": null,
	   "metadata": {
	    "collapsed": true
	   },
	   "outputs": [],
"source": [
"//find b1 in fig 5.24\n",
"clc\n",
"//solution\n",
"//given\n",
"P=80000//N\n",
"ft=70//N/mm^2//stress\n",
"//b=3*t\n",
"//A=b*t\n",
"//A=3t*t\n",
"//P=ft*A\n",
"//t^2=80000/210\n",
"t=sqrt(80000/210)//mm\n",
"b=3*t//mm\n",
"////when the link is shown by dotted line, it will be subjected to direct stress as we;; as bending stress\n",
"//A1=b1*t\n",
"//fo=P/A\n",
"//fo=P/(b1*t)\n",
"//fb=M/Z//=P*e/(t*b1^2)\n",
"//f=fo+fb//total stress\n",
"//f=P/(t*b1)*[(6*e/b1)+1]\n",
"//70=(80000/(20*b1))*[4]\n",
"b1=16*10^3/70//mm\n",
"printf('the thickness is,%f mm\n',t)\n",
"printf('the width is,%f mm\n',b)\n",
"printf('the new width is,%f mm\n',b1)"
   ]
   }
,
{
		   "cell_type": "markdown",
		   "metadata": {},
		   "source": [
			"## Example 5.24: Machine_design.sce"
		   ]
		  },
  {
"cell_type": "code",
	   "execution_count": null,
	   "metadata": {
	    "collapsed": true
	   },
	   "outputs": [],
"source": [
"//find b1 in fig 5.24\n",
"clc\n",
"//solution\n",
"//given\n",
"P=80000//N\n",
"ft=70//N/mm^2//stress\n",
"//b=3*t\n",
"//A=b*t\n",
"//A=3t*t\n",
"//P=ft*A\n",
"//t^2=80000/210\n",
"t=sqrt(80000/210)//mm\n",
"b=3*t//mm\n",
"////when the link is shown by dotted line, it will be subjected to direct stress as we;; as bending stress\n",
"//A1=b1*t\n",
"//fo=P/A\n",
"//fo=P/(b1*t)\n",
"//fb=M/Z//=P*e/(t*b1^2)\n",
"//f=fo+fb//total stress\n",
"//f=P/(t*b1)*[(6*e/b1)+1]\n",
"//70=(80000/(20*b1))*[4]\n",
"b1=16*10^3/70//mm\n",
"printf('the thickness is,%f mm\n',t)\n",
"printf('the width is,%f mm\n',b)\n",
"printf('the new width is,%f mm\n',b1)"
   ]
   }
,
{
		   "cell_type": "markdown",
		   "metadata": {},
		   "source": [
			"## Example 5.25: Machine_design.sce"
		   ]
		  },
  {
"cell_type": "code",
	   "execution_count": null,
	   "metadata": {
	    "collapsed": true
	   },
	   "outputs": [],
"source": [
"//find x-sectional dimensions of the bracket\n",
"clc\n",
"//solution\n",
"//given\n",
"//refer fig 5.28\n",
"P=6000//N\n",
"q=45//deg\n",
"f=60//N/mm^2\n",
"//let t be thickness and b=2*t//gevin\n",
"//A=b*t//mm^2\n",
"//A=2t^2//mm^2\n",
"//Z=t*b^2/12\n",
"//Z=4*t^3/6//mm^3\n",
"Ph=6000*cos(45)//N//horizontal component of P\n",
"Mh=Ph*75//N-mm\n",
"//fh=Mh/Z\n",
"//fh=477225/t^3//N/mm^2\n",
"Pv=6000*sin(45)//N\n",
"Mv=Pv*130//N-mm\n",
"//fov=Pv/A//dirct stress due vertical component\n",
"//fov=2121/t^2//N/mm^2\n",
"//fbv=Mv/Z//max bednding stress\n",
"//fbv=827190/t^3//N/mm^2\n",
"//f=477225/t^3+2121/t^2+827190/t^3\n",
"//60=1304415/t^3 + 2121/t^2\n",
"//using hit and trial,we get t=28.4 mm\n",
"t=28.4//mm\n",
"b=2*t\n",
"printf('the value of thickness is ,%f mm\n ',t)\n",
"printf('the value of thickness is ,%f mm',b)"
   ]
   }
,
{
		   "cell_type": "markdown",
		   "metadata": {},
		   "source": [
			"## Example 5.26: Machine_design.sce"
		   ]
		  },
  {
"cell_type": "code",
	   "execution_count": null,
	   "metadata": {
	    "collapsed": true
	   },
	   "outputs": [],
"source": [
"//find max stress intensity and shear stress at joint\n",
"clc\n",
"//given\n",
"//solution\n",
"//refer figure 5.33\n",
"H=500//mm\n",
"B=200//mm\n",
"h=450//mm\n",
"b=15//mm\n",
"F=400000//N\n",
"I=645*10^6//mm^4\n",
"Tmax=(F/(I*b))*[(B/8)*(H^2-h^2)+(b*h^2/8)]//N/mm^2//max intensity of shear stress\n",
"Fj=F/(8*I)*(H^2-h^2)//stress at joint\n",
"FJ=F/(8*I)*(H^2-h^2)*(B/b)//stress at ujnction\n",
"printf('the stress at jointf is,%f N/mm^2\n',Fj)\n",
"printf('the stress at junction is ,%f N/mm^2\n',FJ)\n",
"printf('the max shear stress is ,%f N/mm^2 ',Tmax)\n",
""
   ]
   }
,
{
		   "cell_type": "markdown",
		   "metadata": {},
		   "source": [
			"## Example 5.2: Machine_design.sce"
		   ]
		  },
  {
"cell_type": "code",
	   "execution_count": null,
	   "metadata": {
	    "collapsed": true
	   },
	   "outputs": [],
"source": [
"//find 1.)load applied 2.) twist angle(q)\n",
"clc\n",
"//solution\n",
"//given \n",
"d=35//mm//diametr of shaft\n",
"r=17.5//mm\n",
"l=1200//mm//length of rod\n",
"D=500//mm\n",
"R=250//mm\n",
"C=80*10^3//N/mm^2//modulus of rigidity\n",
"t=60//N/mm^2//tortionsl streess\n",
"//let W bw load applied\n",
"//T=R*W //torque\n",
"//T=250*W//N-mm\n",
"pi=3.14\n",
"J=(pi/32)*(d)^4//mm^4\n",
"//T/J=t/r\n",
"//(250*W)/J=(t/r)\n",
"W=(t/r)*J/250//N\n",
"T=R*W\n",
"q=(T*l)/(C*J)//degree\n",
"printf('load applied is,%f N\n',W)\n",
"printf('the angle of twist is,%f degree',q)"
   ]
   }
,
{
		   "cell_type": "markdown",
		   "metadata": {},
		   "source": [
			"## Example 5.3: Machine_design.sce"
		   ]
		  },
  {
"cell_type": "code",
	   "execution_count": null,
	   "metadata": {
	    "collapsed": true
	   },
	   "outputs": [],
"source": [
"//find daimeter of shaft\n",
"clc\n",
"//solution\n",
"//given\n",
"P=97.5*10^3//W//power\n",
"N=180//rpm\n",
"t=60//N/mm^2//tortional stress\n",
"l=3000//mm//length of shaft\n",
"C=80*10^3//N/mm^2\n",
"//let T be torque in N-m\n",
"pi=3.14\n",
"q=0.0174//rad//angle\n",
"//P=2*pi*N*T/60\n",
"T=P*60/(2*pi*N)//N-m\n",
"//we will find diameter of shaft using stiffness and strength\n",
"//using strength\n",
"//T*1000=(pi/16)*t*d^3\n",
"d=(16*T*1000/pi/t)^0.33//mm\n",
"//using stiffness\n",
"//J=(pi/32)*d^4\n",
"//T/J=C*q/l\n",
"d1=(l*T*1000/C/q/0.0982)^(1/4)\n",
"printf('the diameter using strength is,%f mm\n',d)\n",
"printf('the diameter using stiffness is,%f mm\n',d1)"
   ]
   }
,
{
		   "cell_type": "markdown",
		   "metadata": {},
		   "source": [
			"## Example 5.4: Machine_design.sce"
		   ]
		  },
  {
"cell_type": "code",
	   "execution_count": null,
	   "metadata": {
	    "collapsed": true
	   },
	   "outputs": [],
"source": [
"//find exteranal diameter  of shaft\n",
"clc\n",
"//solution\n",
"//given\n",
"P=600*10^3//W//power\n",
"N=110//rpm\n",
"//Tmax=1.2 Tmean\n",
"t=63//N/mm^2\n",
"l=3000//mm\n",
"q=0.024 //rad//angle of twist\n",
"//k=di/do=3/8//ratio of inner adn outer diameter\n",
"C=84*10^3//N/mm^2\n",
"pi=3.14\n",
"//P=2*pi*N*Tmean/60\n",
"Tmean=60*P/(2*pi*N)//N-m\n",
"Tmax=1.2*Tmean//N-m\n",
"//Tmax*1000=(pi/16)*t*(do)^3(1-k^4)\n",
"do=[{16*Tmax*1000/pi/t}/{1-(3/8)^4}]^0.33//mm\n",
"//J=(pi/32)*{do1^4-di^4}\n",
"//J=(pi/32)*(do1)^4*{1-(3/8)^4}=0.0962*do1^4\n",
"//we know T/J=C*q/l\n",
"do1={Tmax*1000*l/(C*q*0.0962)}^(1/4)//mm\n",
"printf('the mean torque is ,%f N-m\n',Tmean)\n",
"printf('the maximum torque is,%f N-m\n',Tmax)\n",
"printf('the outer diameter using strength is,%f mm\n',do)\n",
"printf('the outer diameter using stiffness is,%f mm',do1)"
   ]
   }
,
{
		   "cell_type": "markdown",
		   "metadata": {},
		   "source": [
			"## Example 5.5: Machine_design.sce"
		   ]
		  },
  {
"cell_type": "code",
	   "execution_count": null,
	   "metadata": {
	    "collapsed": true
	   },
	   "outputs": [],
"source": [
"// find torque applied and tatal twist angle\n",
"clc\n",
"//solution\n",
"//given\n",
"L=3500//mm//total length\n",
"//l1+l2+l3=3500\n",
"do=100//mm\n",
"di=62.5//mm\n",
"d2=100//mm\n",
"d3=87.5//mm\n",
"t=47.5//N/mm^2//shear stress\n",
"C=82.5*10^3//N/mm^2\n",
"//refer fig 5.3\n",
"pi=3.14\n",
"J1=(pi/32)*[do^4-di^4]\n",
"J2=(pi/32)*[d2]^4\n",
"J3=(pi/32)*[d3]^4//mm^4\n",
"//we know q=(T*l)/(C*J)//twist angle\n",
"//q1=q2\n",
"//(T*l1)/(C*J1)=(T*l2)/(C*J2)\n",
"//therefore l1/l2=(J1/J2)=0.847\n",
"//q1=q3\n",
"//therefore (l1/l3)=(J1/J3)=1.447\n",
"//l1+l2+l3=L=3500\n",
"//l1+l1/0.847+l1/1.447=3500\n",
"//l1(1+(1/0.847)+(1/1.447))=3500\n",
"l1=3500/{1+(1/0.847)+(1/1.447)}\n",
"l2=l1/0.847\n",
"l3=l1/1.447\n",
"//T/J=t/r\n",
"T=(pi/16)*t*[(do^4-di^4)/do]//torque//N-mm\n",
"//q=q1+q2+q3//total angle of twist\n",
"q=(T/C)*[{l1/J1}+{l2/J2}+{l3/J3}]\n",
"printf('the torque applied is,%f N-mm\n',T)\n",
"printf('the total angle of twist is,%f radians',q)"
   ]
   }
,
{
		   "cell_type": "markdown",
		   "metadata": {},
		   "source": [
			"## Example 5.6: Machine_design.sce"
		   ]
		  },
  {
"cell_type": "code",
	   "execution_count": null,
	   "metadata": {
	    "collapsed": true
	   },
	   "outputs": [],
"source": [
"//find diameter of shaft\n",
"clc\n",
"//solution\n",
"//given\n",
"f=100//N/mm^2\n",
"//let Ra and Rb be reaction at A and B\n",
"//taking moment about A\n",
"Rb={(35*750)+(25*150)}/950//kN\n",
"Ra=25+35-Rb//kN\n",
"//since maximum stress is taken into account, therfore maximum moment will be taken into calculations...\n",
"Mc=Ra*150//N-mm\n",
"Md=Rb*200//N-mm\n",
"//Z=(pi/32)*d^3=0.0982*d^3\n",
"//100=Md/Z//because Md>Mc\n",
"d=[Md*1000/(100*0.0982)]^0.33\n",
"printf('the diametr is,%f mm',d)"
   ]
   }
,
{
		   "cell_type": "markdown",
		   "metadata": {},
		   "source": [
			"## Example 5.7: Machine_design.sce"
		   ]
		  },
  {
"cell_type": "code",
	   "execution_count": null,
	   "metadata": {
	    "collapsed": true
	   },
	   "outputs": [],
"source": [
"//find diameter of axle\n",
"clc\n",
"//solution\n",
"//given\n",
"L=1000//mm\n",
"W=30*10^3//N\n",
"f=60//N/mm^2//stress\n",
"//let d be diameter\n",
"pi=3.14\n",
"//Z=(pi/32)*d^3\n",
"M=W*L/4//N-mm\n",
"//f=M/Z\n",
"d=[M/(60*0.09982)]^(1/3)//mm\n",
"printf('the diameter of axle is,%f mm',d)"
   ]
   }
,
{
		   "cell_type": "markdown",
		   "metadata": {},
		   "source": [
			"## Example 5.8: Machine_design.sce"
		   ]
		  },
  {
"cell_type": "code",
	   "execution_count": null,
	   "metadata": {
	    "collapsed": true
	   },
	   "outputs": [],
"source": [
"//find width and depth of beam\n",
"//refer fig 5.7\n",
"clc\n",
"W=400//N\n",
"L=300//mm\n",
"f=40//N/mm^2\n",
"//h=2*b\n",
"//Z=b*h^2/6=2b^3/3//mm^3\n",
"M=W*L//N-mm\n",
"//f=M/Z\n",
"b=[M*1.5/(f)]^(1/3)//mm\n",
"h=2*b//mm\n",
"printf('the width of beam is ,%f mm\n',b)\n",
"printf('the height of beam is,%f mm\n',h)"
   ]
   }
,
{
		   "cell_type": "markdown",
		   "metadata": {},
		   "source": [
			"## Example 5.9: Machine_design.sce"
		   ]
		  },
  {
"cell_type": "code",
	   "execution_count": null,
	   "metadata": {
	    "collapsed": true
	   },
	   "outputs": [],
"source": [
"//determine dimensions of arm\n",
"clc\n",
"//solution\n",
"//given\n",
"P=10*10^3//W\n",
"N=400//rpm\n",
"D=1200//mm//\n",
"R=600//mm//\n",
"f=15//N/mm^2\n",
"//let T be torque transmitted by pulley\n",
"pi=3.14\n",
"//P=2*pi*N*T/60\n",
"T=(P*60)/(2*pi*N)//N-m\n",
"L=T*1000/R//load transmitted//N\n",
"//since pulley has 4 arms, therefore weigth on each arm is\n",
"W=L/4//N\n",
"M=W*R//N-mm\n",
"//let 2a be length of minor axis and 2b be length of major axis,2a=4b//given\n",
"//Z=(pi/4)*a^2*b=pi*b^2\n",
"//f=M/Z\n",
"b=[M/(15*pi)]^(1/3)//mm\n",
"a=2*b//mm\n",
"printf('the length of major axis is,%f mm\n',2*a)\n",
"printf('the length of minor axis is,%f mm',2*b)"
   ]
   }
],
"metadata": {
		  "kernelspec": {
		   "display_name": "Scilab",
		   "language": "scilab",
		   "name": "scilab"
		  },
		  "language_info": {
		   "file_extension": ".sce",
		   "help_links": [
			{
			 "text": "MetaKernel Magics",
			 "url": "https://github.com/calysto/metakernel/blob/master/metakernel/magics/README.md"
			}
		   ],
		   "mimetype": "text/x-octave",
		   "name": "scilab",
		   "version": "0.7.1"
		  }
		 },
		 "nbformat": 4,
		 "nbformat_minor": 0
}
