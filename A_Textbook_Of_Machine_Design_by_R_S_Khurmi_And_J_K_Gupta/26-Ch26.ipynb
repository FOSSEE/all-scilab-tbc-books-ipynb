{
"cells": [
 {
		   "cell_type": "markdown",
	   "metadata": {},
	   "source": [
       "# Chapter 26: Ch26"
	   ]
	},
{
		   "cell_type": "markdown",
		   "metadata": {},
		   "source": [
			"## Example 26.10: Machine_design.sce"
		   ]
		  },
  {
"cell_type": "code",
	   "execution_count": null,
	   "metadata": {
	    "collapsed": true
	   },
	   "outputs": [],
"source": [
"//find\n",
"clc\n",
"//solution\n",
"//given\n",
"d=300//rpm\n",
"r=150//rpm\n",
"W=200*1000//N\n",
"N=75//rpm\n",
"u=0.05\n",
"p=0.3//N/mm^2\n",
"D=1.4*d//mm\n",
"R=D/2\n",
"n=W/(p*%pi*(R^2-r^2))\n",
"printf('numbr of collar is,%f ',n)\n",
"T=(2/3)*u*W*[(R^3-r^3)/(R^2-r^2)]//N-mm\n",
"P=2*%pi*N*T/60000\n",
"printf('power loast in friction is,%f W\n',P)\n",
"printf('heat generated at ba=earing is,%f W\n',P)"
   ]
   }
,
{
		   "cell_type": "markdown",
		   "metadata": {},
		   "source": [
			"## Example 26.1: Machine_design.sce"
		   ]
		  },
  {
"cell_type": "code",
	   "execution_count": null,
	   "metadata": {
	    "collapsed": true
	   },
	   "outputs": [],
"source": [
"//find\n",
"clc\n",
"//solution\n",
"//given\n",
"W=20000//N\n",
"N=900//rpm\n",
"to=55//deg celcius\n",
"Z=0.017//kg/m/s\n",
"ta=15.5//deg celciusp=1.5//N/mm^2\n",
"t=10//deg celcius\n",
"C=1232//W/m^2/deg celcius\n",
"//from table 26.3\n",
"d=0.100//m//assume\n",
"p=1.5//N/mm^2\n",
"l=1.6*d*1000//mm\n",
"printf('length of journal is,%f mm\n',l)\n",
"pb=W/(l*d*1000)//bearig preassure\n",
"printf('bearing pressure actin is,%f N/mm^2\n',pb)\n",
"printf('since given bearing pressure is 1.5 ,hence dimension of l and d is safe\n')\n",
"//x1=Z*N/pb\n",
"//from table 26.3,operqating value of =ZN/pb=28\n",
"x1=28\n",
"//the minimum value of bearign modulus at which the oil film will break is given by\n",
"K1=x1/3\n",
"cr=0.0013//clearance ratio\n",
"//since calculated value of bearing characteristic numbr is is more then 9.33,hterfore bearignoperates in hydrodynamic conditions\n",
"K2=12.24\n",
"k=0.002\n",
"u=(33/10^8)*K2*(1/cr)+0.002\n",
"printf('coefficient of riction is,%f \n',u)\n",
"Qg=u*W*[%pi*d*N]/60//W\n",
"printf('heat generate is,%f W\n',Qg)\n",
"//Qd=C*A*(tb-ta)\n",
"//tb-ta=0.5(to-ta)=19.75\n",
"Qd=C*l*d*19.75/1000//W\n",
"printf('heat dessipated is,%f W\n',Qd)\n",
"Qa=Qg-Qd//artificial cooling req\n",
"//let m be mass of liq req\n",
"//Qt=m*S*t=m*1900*10=19000m//assume S=1900 J/kg/C\n",
"m=Qa/19000//kg/s\n",
"printf('mass of cooling liq req per sec is,%f kg/s',m)"
   ]
   }
,
{
		   "cell_type": "markdown",
		   "metadata": {},
		   "source": [
			"## Example 26.2: Machine_design.sce"
		   ]
		  },
  {
"cell_type": "code",
	   "execution_count": null,
	   "metadata": {
	    "collapsed": true
	   },
	   "outputs": [],
"source": [
"//find\n",
"clc\n",
"//solution\n",
"//given\n",
"W=150000//N\n",
"d=0.3//m\n",
"N=1800//rpm\n",
"p=1.6//N/mm^2\n",
"Z=0.02//kg/m/s\n",
"c=0.25//mm\n",
"//let l be the length of bearing in mm\n",
"//A=l*d=300*l//mm^2\n",
"//pb=W/A\n",
"l=W/(300*p)//mm\n",
"printf('length of bearing is,%f mm\n',l)\n",
"u=(33/10^8)*(Z*N/p)*(d*1000/c)+0.002\n",
"printf('coeeficient of friction is,%f \n',u)\n",
"V=%pi*d*N/60//m/s\n",
"Qg=u*W*V\n",
"printf('heat gen is,%f W\n',Qg)"
   ]
   }
,
{
		   "cell_type": "markdown",
		   "metadata": {},
		   "source": [
			"## Example 26.3: Machine_design.sce"
		   ]
		  },
  {
"cell_type": "code",
	   "execution_count": null,
	   "metadata": {
	    "collapsed": true
	   },
	   "outputs": [],
"source": [
"//find\n",
"clc\n",
"//solution\n",
"//given\n",
"d=0.05//m\n",
"l=0.1//m\n",
"p=1.4//N/mm^2\n",
"N=900//rpm\n",
"//d/c=1000\n",
"Z=0.011\n",
"to=75//deg C\n",
"ta=35//deg C\n",
"t=10//deg C\n",
"S=1850\n",
"u=(33/10^8)*(Z*N/p)*1000+0.002\n",
"W=p*d*l*10^6//N\n",
"V=%pi*d*N/60//m/s\n",
"Qg=u*W*V///W\n",
"//(tb-ta)=0.5(75-35)=20//deg C\n",
"C=280//W/m^2/C\n",
"Qd=C*l*d*20//J/s\n",
"printf('headt dessipated is,%f W\n',Qd)\n",
"Qa=Qg-Qd//W\n",
"//let m be mass\n",
"//Qt=m*S*t=18500*t\n",
"m=Qa/18500//kg/s\n",
"printf('artificial heat is,%f W\n',Qa)\n",
"printf('mass of lubricant ewq is,%f kg/s\n',m)"
   ]
   }
,
{
		   "cell_type": "markdown",
		   "metadata": {},
		   "source": [
			"## Example 26.4: Machine_design.sce"
		   ]
		  },
  {
"cell_type": "code",
	   "execution_count": null,
	   "metadata": {
	    "collapsed": true
	   },
	   "outputs": [],
"source": [
"//find\n",
"clc\n",
"//solution\n",
"//given\n",
"d=0.15//m\n",
"W=10000//N\n",
"N=1500//rpm\n",
"//l=1.5*d\n",
"c=0.15//mm\n",
"Z=0.011\n",
"l=1.5*d*1000//mm\n",
"p=W/(l*d*1000)//N/mm^2\n",
"u=(33/10^8)*(Z*N/p)*(d*1000/c)+0.002\n",
"printf('coefficient of friction is,%f\n',u)\n",
"V=%pi*d*N/60//m/s\n",
"Qg=u*W*V//W\n",
"printf('power wasted in friction is,%f W\n',Qg)\n",
""
   ]
   }
,
{
		   "cell_type": "markdown",
		   "metadata": {},
		   "source": [
			"## Example 26.6: Machine_design.sce"
		   ]
		  },
  {
"cell_type": "code",
	   "execution_count": null,
	   "metadata": {
	    "collapsed": true
	   },
	   "outputs": [],
"source": [
"//find\n",
"clc\n",
"//solution\n",
"//given\n",
"d=0.06//m\n",
"l=0.09//m\n",
"N=450//rpm\n",
"Z=0.06//kg/m/s\n",
"c=0.1\n",
"S=14.3*10^6\n",
"p=(Z*N)*(d*1000/c)^2/S//N/mm^2\n",
"printf('bearing pressure is,%f N/mm^2',p)\n",
"W=p*l*d*10^6//N\n",
"printf('safe load is ,%f N\n',W)"
   ]
   }
,
{
		   "cell_type": "markdown",
		   "metadata": {},
		   "source": [
			"## Example 26.7: Machine_design.sce"
		   ]
		  },
  {
"cell_type": "code",
	   "execution_count": null,
	   "metadata": {
	    "collapsed": true
	   },
	   "outputs": [],
"source": [
"//find\n",
"clc\n",
"//solution\n",
"//given\n",
"d=80//mm\n",
"l=120//mm\n",
"n=4\n",
"W=16.5*1000//N\n",
"a=150//mm\n",
"fb=15//N/mm^2\n",
"ft=35//N/mm^2\n",
"E=110*1000//N/mm^2\n",
"t=sqrt(3*W*a/(2*fb*l))//mm\n",
"printf('thickness of bearing cap,%f mm\n',t)\n",
"//let dc be core dia\n",
"dc=[(4/3)*(W/n)*(4/%pi)*(1/ft)]^(0.5)//mm\n",
"printf('dia of bolts is,%f mm\n',dc)\n",
"//let dx be deflction\n",
"dx=W*a^3/(4*E*l*t^3)//mm\n",
"printf('deflction of cap is,%f mm\n',dx)"
   ]
   }
,
{
		   "cell_type": "markdown",
		   "metadata": {},
		   "source": [
			"## Example 26.8: Machine_design.sce"
		   ]
		  },
  {
"cell_type": "code",
	   "execution_count": null,
	   "metadata": {
	    "collapsed": true
	   },
	   "outputs": [],
"source": [
"//find\n",
"clc\n",
"//solution\n",
"//given\n",
"D=150//mm\n",
"R=75//mm\n",
"d=50//mm\n",
"r=25//mm\n",
"p=0.8//N/mm^2\n",
"N=100//rpm\n",
"u=0.015\n",
"W=p*%pi*[R^2-r^2]//N\n",
"printf('load to be supported is,%f N\n',W)\n",
"T=(2/3)*u*W*[(R^3-r^3)/(R^2-r^2)]//N-mm\n",
"P=2*%pi*N*T/60000\n",
"printf('power loast in friction is,%f W\n',P)"
   ]
   }
,
{
		   "cell_type": "markdown",
		   "metadata": {},
		   "source": [
			"## Example 26.9: Machine_design.sce"
		   ]
		  },
  {
"cell_type": "code",
	   "execution_count": null,
	   "metadata": {
	    "collapsed": true
	   },
	   "outputs": [],
"source": [
"//find\n",
"clc\n",
"//solution\n",
"//given\n",
"n=6\n",
"D=300//mm\n",
"R=150//mm\n",
"d=200//mm\n",
"r=100//mm\n",
"N=120//rpm\n",
"p=0.4//N/mm^2\n",
"u=0.05\n",
"W=p*%pi*n*[R^2-r^2]//N\n",
"printf('load to be supported is,%f N\n',W)\n",
"T=(2/3)*u*W*[(R^3-r^3)/(R^2-r^2)]//N-mm\n",
"P=2*%pi*N*T/60000\n",
"printf('power loast in friction is,%f W\n',P)"
   ]
   }
,
{
		   "cell_type": "markdown",
		   "metadata": {},
		   "source": [
			"## Example 29.10: Machine_design.sce"
		   ]
		  },
  {
"cell_type": "code",
	   "execution_count": null,
	   "metadata": {
	    "collapsed": true
	   },
	   "outputs": [],
"source": [
"//find\n",
"clc\n",
"//solution\n",
"//given\n",
"d=300//rpm\n",
"r=150//rpm\n",
"W=200*1000//N\n",
"N=75//rpm\n",
"u=0.05\n",
"p=0.3//N/mm^2\n",
"D=1.4*d//mm\n",
"R=D/2\n",
"n=W/(p*%pi*(R^2-r^2))\n",
"printf('numbr of collar is,%f ',n)\n",
"T=(2/3)*u*W*[(R^3-r^3)/(R^2-r^2)]//N-mm\n",
"P=2*%pi*N*T/60000\n",
"printf('power loast in friction is,%f W\n',P)\n",
"printf('heat generated at ba=earing is,%f W\n',P)"
   ]
   }
],
"metadata": {
		  "kernelspec": {
		   "display_name": "Scilab",
		   "language": "scilab",
		   "name": "scilab"
		  },
		  "language_info": {
		   "file_extension": ".sce",
		   "help_links": [
			{
			 "text": "MetaKernel Magics",
			 "url": "https://github.com/calysto/metakernel/blob/master/metakernel/magics/README.md"
			}
		   ],
		   "mimetype": "text/x-octave",
		   "name": "scilab",
		   "version": "0.7.1"
		  }
		 },
		 "nbformat": 4,
		 "nbformat_minor": 0
}
