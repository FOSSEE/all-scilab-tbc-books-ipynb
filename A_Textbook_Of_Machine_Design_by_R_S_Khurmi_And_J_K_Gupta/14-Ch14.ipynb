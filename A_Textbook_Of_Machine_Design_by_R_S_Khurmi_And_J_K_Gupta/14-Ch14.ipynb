{
"cells": [
 {
		   "cell_type": "markdown",
	   "metadata": {},
	   "source": [
       "# Chapter 14: Ch14"
	   ]
	},
{
		   "cell_type": "markdown",
		   "metadata": {},
		   "source": [
			"## Example 14.10: Machine_design.sce"
		   ]
		  },
  {
"cell_type": "code",
	   "execution_count": null,
	   "metadata": {
	    "collapsed": true
	   },
	   "outputs": [],
"source": [
"clc\n",
"//solution\n",
"//given\n",
"//ref fig 14.6\n",
"AB=800//mm\n",
"a=(%pi/180)*20\n",
"Dc=600//mm\n",
"Rc=300//mm\n",
"AC=200//mm\n",
"Dd=700//mm\n",
"Rd=350//mm\n",
"DB=250//mm\n",
"W=2000//N\n",
"T1=3000//N\n",
"T2=T1/3//N\n",
"t=40//n/mm^2\n",
"T=(T1-T2)*Rd//N-mm\n",
"Ftc=(T/Rc)//N//tangential force acting oon gear C\n",
"//Wc=Ftc/cos(a)//N\n",
"Wc=Ftc/0.9397\n",
"//Wcv=Wc*cos(a)//veritcal comp\n",
"Wcv=Wc*0.9397\n",
"//Wch=Wc*sin(a)//hori com\n",
"Wcv=Wc*0.342//N\n",
"//RAv + RBv=2333+2000\n",
"//RAv + RBv=4333//N\n",
"RBv=[2000(800-250)+(2333*200)]/800//N\n",
"RAv=4333-RBv//N\n",
"printf('the value of RAv is,%f N\n',RAv)\n",
"//moment due to veritcal component\n",
"MAv=0\n",
"MBv=0\n",
"MCv=RAv*200//N-mm\n",
"MDv=RBv*250//N-mm\n",
"//RAh + RBh=4849\n",
"RBh=[4000*(800-250)+ (849*200)]/800//N\n",
"RAh=4849-RBh//N\n",
"//moment due to horizontal component\n",
"MAh=0\n",
"MBh=0\n",
"MCh=RAh*200//N-mm\n",
"MDh=RBh*250//N-mm\n",
"Mc=sqrt(MCv^2 + MCh^2)//net moment abt C\n",
"Md=sqrt(MDv^2 + MDh^2)//net moment abt D\n",
"printf('the moment acting abt D is,%f N-mm\n',Md)\n",
"//M=Md//N-mm//max moment\n",
"//printf('the moment acting is,%f N-mm\n',M)\n",
"//let d be dia\n",
"Te=sqrt(Md^2 + T^2)/N-mm\n",
"//Te=(%pi/16)*t*d^3\n",
"d=(Te/7.86)^(1/3)//mm\n",
"printf('the dia of shaft is,%f mm',d)"
   ]
   }
,
{
		   "cell_type": "markdown",
		   "metadata": {},
		   "source": [
			"## Example 14.11: Machine_design.sce"
		   ]
		  },
  {
"cell_type": "code",
	   "execution_count": null,
	   "metadata": {
	    "collapsed": true
	   },
	   "outputs": [],
"source": [
"clc\n",
"//solution\n",
"//given\n",
"//ref fig 14.6\n",
"AB=800//mm\n",
"a=(%pi/180)*20//rad\n",
"Dc=600//mm\n",
"Rc=300//mm\n",
"AC=200//mm\n",
"Dd=700//mm\n",
"Rd=350//mm\n",
"DB=250//mm\n",
"W=2000//N\n",
"T1=3000//N\n",
"T2=T1/3//N\n",
"t=40//n/mm^2\n",
"T=(T1-T2)*Rd//N-mm\n",
"Ftc=T/Rc//N//tangential force acting oon gear C\n",
"Wc=Ftc/cos(a)//N\n",
"Wcv=Wc*cos(a)//veritcal comp\n",
"Wch=Wc*sin(a)//hori com\n",
"//RAv + RBv=2333+2000\n",
"//RAv + RBv=4333//N\n",
"RBv=[2000(800-250)+(2333*200)]/800//N\n",
"RAv=4333-RBv//N\n",
"printf('the value of RAv is,%f N\n',RAv)\n",
"//moment due to veritcal component\n",
"MAv=0\n",
"MBv=0\n",
"MCv=RAv*200//N-mm\n",
"MDv=RBv*250//N-mm\n",
"//RAh + RBh=4849\n",
"RBh=[4000*(800-250)+ (849*200)]/800//N\n",
"RAh=4849-RBh//N\n",
"//moment due to horizontal component\n",
"MAh=0\n",
"MBh=0\n",
"MCh=RAh*200//N-mm\n",
"MDh=RBh*250//N-mm\n",
"Mc=sqrt(MCv^2 + MCh^2)//net moment abt C\n",
"Md=sqrt(MDv^2 + MDh^2)//net moment abt D\n",
"printf('the moment acting abt D is,%f N-mm\n',Md)\n",
"//M=Md//N-mm\n",
"//printf('the moment acting is,%f N-mm\n',M)\n",
"//let d eb dia\n",
"Te=sqrt(Md^2 + T^2)/N-mm\n",
"//Te=(%pi/16)*t*d^3\n",
"d=(Te/7.86)^(1/3)//mm\n",
"printf('the dia of shaft is,%f mm',d)"
   ]
   }
,
{
		   "cell_type": "markdown",
		   "metadata": {},
		   "source": [
			"## Example 14.12: Machine_design.sce"
		   ]
		  },
  {
"cell_type": "code",
	   "execution_count": null,
	   "metadata": {
	    "collapsed": true
	   },
	   "outputs": [],
"source": [
"//determine dia of the shaft\n",
"clc\n",
"//solution\n",
"//given\n",
"P=20000//W\n",
"N=200//rpm\n",
"W=900//N\n",
"L=2500//mm\n",
"t=42//N/mm^2\n",
"fb=56//N/mm^2\n",
"T=P*60000/(2*%pi*200)//N-mm\n",
"M=W*L/4//N-mm//max monet\n",
"Te=sqrt(T^2 + M^2)//N-mm\n",
"//Te=(%pi/16)*t*d^3\n",
"d1=(Te/8.25)^(1/3)//mm\n",
"printf('the dia of shaft is,%f mm',d1)\n",
"Me=0.5[M + sqrt(M^2 + T^2)]//N-mm\n",
"//Me=(%pi/32)*fb*d2^3\n",
"d2=(Me/5.5)^(1/3)//mm\n",
"printf('the dia oif shaft is,%f mm\n',d2)\n",
"printf('taking large value i.e d=d1=55 mm in consideration\n')\n",
"//dia by applying gradually applied load\n",
"//using table 14.2\n",
"Km=1.5\n",
"Kl=1\n",
"Te1=sqrt((Km*M)^2 + (Kl*T)^2)//N-mm\n",
"//Te=(%pi/16)*t*d^3\n",
"d1=(Te1/8.25)^(1/3)//mm\n",
"printf('the dia of shaft is,%f mm',d1)\n",
"Me1=0.5[M*Km + sqrt((Km*M)^2 + (Kl*T)^2)]//N-mm\n",
"//Me1=(%pi/32)*fb*d2^3\n",
"d2=(Me1/5.5)^(1/3)//mm\n",
"printf('the dia oif shaft is,%f mm\n',d2)\n",
"printf('taking large value i.e d=d1=60 mm in consideration\n')\n",
""
   ]
   }
,
{
		   "cell_type": "markdown",
		   "metadata": {},
		   "source": [
			"## Example 14.13: Machine_design.sce"
		   ]
		  },
  {
"cell_type": "code",
	   "execution_count": null,
	   "metadata": {
	    "collapsed": true
	   },
	   "outputs": [],
"source": [
"clc\n",
"//solution\n",
"//given\n",
"//ref fig 14.9\n",
"W=200//N\n",
"L=300//mm\n",
"D=200//mm\n",
"R=100//mm\n",
"P=1000//W\n",
"N=120//rpm\n",
"u=0.3\n",
"Km=1.5\n",
"Kl=2\n",
"T=79.6*1000\n",
"t=35//N/mm^2\n",
"//T=(T1-T2)*R\n",
"//T1-T2=796.....eq 1\n",
"//log(T1/T2)*2.3=u*%pi\n",
"//T1/T2=2.57.....eq 2\n",
"//from 1 and 2\n",
"T1=1303//N\n",
"T2=507//N\n",
"Wt=T1+T2+W//N\n",
"M=Wt*L//N-mm\n",
"Te=sqrt((Km*M)^2 + (Kl*T)^2)//N-mm\n",
"//Te=(%pi/16)*t*d^3\n",
"d=(Te/6.87)^(1/3)//mm\n",
"printf('the dia of shaft is,%f mm',d)"
   ]
   }
,
{
		   "cell_type": "markdown",
		   "metadata": {},
		   "source": [
			"## Example 14.1: Machine_design.sce"
		   ]
		  },
  {
"cell_type": "code",
	   "execution_count": null,
	   "metadata": {
	    "collapsed": true
	   },
	   "outputs": [],
"source": [
"clc\n",
"//solution\n",
"//given\n",
"N=200//rpm\n",
"P=20*10^3//W\n",
"t=42//N/mm^2\n",
"//let d be dia \n",
"T=P*60000/(2*%pi*200)//N-mm\n",
"//T=(%pi/16)*t*d^3=8.25*d^3\n",
"d=(T/8.25)^(1/3)//mm\n",
"printf('the dia of shaft is,%f mm',d)"
   ]
   }
,
{
		   "cell_type": "markdown",
		   "metadata": {},
		   "source": [
			"## Example 14.2: Machine_design.sce"
		   ]
		  },
  {
"cell_type": "code",
	   "execution_count": null,
	   "metadata": {
	    "collapsed": true
	   },
	   "outputs": [],
"source": [
"clc\n",
"//solution\n",
"//given\n",
"P=10^6//W\n",
"N=2400//rpm\n",
"//Tmax=1.2*Tmean\n",
"t=60//N/mm^2\n",
"//let d be dia of shaft\n",
"Tmean=(P*60000)/(2*%pi*N)//N-mm\n",
"Tmax=12.*Tmean\n",
"//Tmax=(%pi/16)*t*d^3=8.25*d^3\n",
"d=(Tmax/11.78)^(1/3)//mm\n",
"printf('the dia of shaft is,%f mm',d)"
   ]
   }
,
{
		   "cell_type": "markdown",
		   "metadata": {},
		   "source": [
			"## Example 14.3: Machine_design.sce"
		   ]
		  },
  {
"cell_type": "code",
	   "execution_count": null,
	   "metadata": {
	    "collapsed": true
	   },
	   "outputs": [],
"source": [
"clc\n",
"//solution\n",
"//given\n",
"P=20*1000//W\n",
"N=200//rpm\n",
"tu=360//N/mm^2\n",
"Fs=8\n",
"k=0.5//k=di/do\n",
"t=tu/Fs//N/mm^2\n",
"T=P*60000/(2*%pi*200)//N-mm\n",
"//T=(%pi/16)*t*d^3=8.25*d^3\n",
"d=(T/8.25)^(1/3)//mm\n",
"printf('the dia of solid shaft is,%f mm\n',d)\n",
"//elt di and do be inside and do be outer dia\n",
"//T=(%pi/16)*t*do^3*(1-k^4)\n",
"//T=(%pi/16)*t*do^3[1-0.5^4]\n",
"//T=8.3*do^3\n",
"do=(T/8.3)^(1/3)//mm\n",
"di=0.5*do//mm\n",
"printf('the inner and outer dia is,%f mm\n,%f mm\n',di,do)"
   ]
   }
,
{
		   "cell_type": "markdown",
		   "metadata": {},
		   "source": [
			"## Example 14.4: Machine_design.sce"
		   ]
		  },
  {
"cell_type": "code",
	   "execution_count": null,
	   "metadata": {
	    "collapsed": true
	   },
	   "outputs": [],
"source": [
"clc\n",
"//solution\n",
"//given\n",
"//ref fig 14.1\n",
"W=50*10^3//N\n",
"L=100//mm\n",
"x=1.4//m\n",
"fb=100//N/mm^2\n",
"M=W*L//N-mm\n",
"//let d eb dia\n",
"//M=(%pi/32)*fb*d^3\n",
"d=(M/9.82)^(1/3)//mm\n",
"printf('the dia of axle is,%f mm\n',d)"
   ]
   }
,
{
		   "cell_type": "markdown",
		   "metadata": {},
		   "source": [
			"## Example 14.5: Machine_design.sce"
		   ]
		  },
  {
"cell_type": "code",
	   "execution_count": null,
	   "metadata": {
	    "collapsed": true
	   },
	   "outputs": [],
"source": [
"clc\n",
"//solution\n",
"//given\n",
"M=3000*1000//N-mm\n",
"T=10000*1000//N-mm\n",
"ftu=700//N/mm^2\n",
"tu=500//N/mm^2\n",
"Fs=6\n",
"ft=ftu/Fs//N/mm^2\n",
"t=tu/Fs//N/mm^2\n",
"//let d eb dia of shaft\n",
"Te=sqrt(T^2 + M^2)//N-mm\n",
"//Te=(%pi/16)*t*d^3\n",
"d1=(Te/16.36)^(1/3)//mm\n",
"printf('the dia of axle is,%f mm\n',d1)\n",
"Me=0.5*[M+ sqrt(M^2 + T^2)]//N-mm\n",
"//Me=(%pi/32)*fb*d2^3\n",
"d2=(Me/11.46)^(1/3)//mm\n",
"printf('the dia oif shaft is,%f mm\n',d2)\n",
"printf('taking large value i.e d=d1=90 mm in consideration')"
   ]
   }
,
{
		   "cell_type": "markdown",
		   "metadata": {},
		   "source": [
			"## Example 14.6: Machine_design.sce"
		   ]
		  },
  {
"cell_type": "code",
	   "execution_count": null,
	   "metadata": {
	    "collapsed": true
	   },
	   "outputs": [],
"source": [
"clc\n",
"//solution\n",
"//given\n",
"P=7.5*10^3//W\n",
"N=300//rpm\n",
"D=150//mm\n",
"L=200//mm\n",
"t=45//N/mm^2\n",
"a=(%pi/180)*20//rad\n",
"//reff fig 14.2\n",
"T=P*60000/(2*%pi*200)//N-mm\n",
"Ft=2*T/D//N\n",
"W=Ft/(cos(a))//N\n",
"M=W*L/4//N-mm\n",
"//let d be dia\n",
"Te=sqrt(T^2 + M^2)//N-mm\n",
"//Te=(%pi/16)*t*d^3\n",
"d=(Te/8.84)^(1/3)//mm\n",
"printf('the dia of shaft is,%f mm',d)"
   ]
   }
,
{
		   "cell_type": "markdown",
		   "metadata": {},
		   "source": [
			"## Example 14.7: Machine_design.sce"
		   ]
		  },
  {
"cell_type": "code",
	   "execution_count": null,
	   "metadata": {
	    "collapsed": true
	   },
	   "outputs": [],
"source": [
"clc\n",
"//solution\n",
"//given\n",
"//ref fig 14.3\n",
"P=100000//W\n",
"N=300//rpm\n",
"L=3000//mm\n",
"W=1500//N\n",
"T=P*60000/(2*%pi*200)//N-mm\n",
"M=1500*1000//N-mm\n",
"Te=sqrt(M^2 + T^2)//N-mm\n",
"//Te=(%pi/16)*t*d^3\n",
"d=(Te/11.8)^(1/3)//mm\n",
"printf('the dia of shaft is,%f mm',d)"
   ]
   }
,
{
		   "cell_type": "markdown",
		   "metadata": {},
		   "source": [
			"## Example 14.8: Machine_design.sce"
		   ]
		  },
  {
"cell_type": "code",
	   "execution_count": null,
	   "metadata": {
	    "collapsed": true
	   },
	   "outputs": [],
"source": [
"//determine dia of the shaft\n",
"clc\n",
"//solution\n",
"//given\n",
"//ref fig 14.4\n",
"D=1500//mm\n",
"R=750//mm\n",
"T1=5400//N\n",
"T2=1800//N\n",
"L=400//mm\n",
"t=42//N/mm^2\n",
"T=(T1-T2)*R//N-mm\n",
"W=T1+T2//N\n",
"M=W*L//N-mm\n",
"//let d be dia of shaft\n",
"Te=sqrt(M^2 + T^2)//N-mm\n",
"//Te=(%pi/16)*t*d^3\n",
"d=(Te/8.25)^(1/3)//mm\n",
"printf('the dia of shaft is,%f mm',d)"
   ]
   }
,
{
		   "cell_type": "markdown",
		   "metadata": {},
		   "source": [
			"## Example 14.9: Machine_design.sce"
		   ]
		  },
  {
"cell_type": "code",
	   "execution_count": null,
	   "metadata": {
	    "collapsed": true
	   },
	   "outputs": [],
"source": [
"clc\n",
"//solution\n",
"//given\n",
"//ref fig 14.4\n",
"D=1500//mm\n",
"R=750//mm\n",
"T1=5400//N\n",
"T2=1800//N\n",
"L=400//mm\n",
"t=42//N/mm^2\n",
"T=(T1-T2)*R//N-mm\n",
"W=T1+T2//N\n",
"M=W*L//N-mm\n",
"//let d be dia of shaft\n",
"Te=sqrt(M^2 + T^2)//N-mm\n",
"//Te=(%pi/16)*t*d^3\n",
"d=(Te/8.25)^(1/3)//mm\n",
"printf('the dia of shaft is,%f mm',d)"
   ]
   }
],
"metadata": {
		  "kernelspec": {
		   "display_name": "Scilab",
		   "language": "scilab",
		   "name": "scilab"
		  },
		  "language_info": {
		   "file_extension": ".sce",
		   "help_links": [
			{
			 "text": "MetaKernel Magics",
			 "url": "https://github.com/calysto/metakernel/blob/master/metakernel/magics/README.md"
			}
		   ],
		   "mimetype": "text/x-octave",
		   "name": "scilab",
		   "version": "0.7.1"
		  }
		 },
		 "nbformat": 4,
		 "nbformat_minor": 0
}
