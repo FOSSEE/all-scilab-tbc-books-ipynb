{
"cells": [
 {
		   "cell_type": "markdown",
	   "metadata": {},
	   "source": [
       "# Chapter 23: Ch23"
	   ]
	},
{
		   "cell_type": "markdown",
		   "metadata": {},
		   "source": [
			"## Example 23.10: Machine_design.sce"
		   ]
		  },
  {
"cell_type": "code",
	   "execution_count": null,
	   "metadata": {
	    "collapsed": true
	   },
	   "outputs": [],
"source": [
"//find\n",
"clc\n",
"//solution\n",
"//given\n",
"m=2.97//kg\n",
"x=0.15//m\n",
"y=0.1125//m\n",
"r2=0.1//m\n",
"r1=0.15//m\n",
"N2=240//rpm\n",
"t=420//N/mm^2\n",
"G=84*1000//N/mm^2\n",
"C=8\n",
"//ref fig 23.16\n",
"w2=2*%pi*N2/60//rad/s\n",
"w1=w2+(7.5*w2/100)//rad/s\n",
"//let Fc1 and Fc2 be centri fugal forces a w1 and w2\n",
"//S1=2*Fc1*x/y\n",
"S1=2*m*r1*w1^2*x/y//N\n",
"S2=2*m*r2*w2^2*x/y//N\n",
"dx=(r1-r2)*y/x*1000//mm\n",
"K=(4*C-1)/(4*C-4)+(0.615/C)\n",
"W=S1//max force\n",
"printf('dia of sprig wire is,%f vmm\n',sqrt((K*8*W*C)/(t*%pi)))\n",
"printf('dia is say 7.62 mm,taking standard conditions rfom table 23.2\n')\n",
"d=7.62\n",
"D=C*d\n",
"W1=S1-S2\n",
"printf('mean dia is,%f mm\n',D)\n",
"printf('numbr of tunrs are,%f \n',dx*G*d/(8*W1*C^3))\n",
"printf('numbr of turns are say 16\n')\n",
"n=16\n",
"nb=n+2\n",
"dxmax=dx*W/(W1)\n",
"fL=nb*d + dxmax + 0.15*dxmax\n",
"printf('free length is ,%f mm\n',fL)\n",
"printf('pitch of coil is,%f mm',fL/(nb-1))"
   ]
   }
,
{
		   "cell_type": "markdown",
		   "metadata": {},
		   "source": [
			"## Example 23.11: Machine_design.sce"
		   ]
		  },
  {
"cell_type": "code",
	   "execution_count": null,
	   "metadata": {
	    "collapsed": true
	   },
	   "outputs": [],
"source": [
"//find\n",
"clc\n",
"//solution\n",
"//given\n",
"P=30000//W\n",
"N=3000//rpm\n",
"pb=0.085//N/mm^2\n",
"v=2300//m/min\n",
"//d1=1.3d2\n",
"//r1=1.3r2\n",
"u=0.3\n",
"ns=6\n",
"D=25//mm\n",
"t=420//N/mm^2\n",
"G=84000//N/mm^2\n",
"Tmean=P*60/(2*%pi*N)//N-m\n",
"Tmax=1.2*Tmean*1000//N-mm\n",
"//C=pb*r2\n",
"//W=C*2*%pi*(r1-r2)\n",
"//Tmax=2*%pi*u*C[r1^2-r2^2]\n",
"//Tmax=0.11*r2^3\n",
"r2=(Tmax/0.11)^(1/3)//mm\n",
"r1=1.3*r2//mm\n",
"r=(r1+r2)/2000//m\n",
"v1=2*%pi*N*r//m/min\n",
"printf('speed obtained is,%f m/min\n',v1)\n",
"//since velocity ontaine di sless then v,hence design is safe\n",
"//W=C*2*%pi*(r1-r2)\n",
"W=pb*r2*2*%pi*(r1-r2)//N\n",
"W1=W/6//force on each spring\n",
"//let d1 eb dia\n",
"T=W1*D/2//N-mm\n",
"d1=(16*T/(%pi*t))^(1/3)//mm\n",
"C=D/d1\n",
"K=(4*C-1)/(4*C-4)+(0.615/C)\n",
"printf('dia of sprig wire is,%f vmm\n',((K*8*W1*D)/(t*%pi))^(1/3))\n",
"printf('taking standard dia 4.064 from table 23.2,we get d is 4.064\n')\n",
"d=4.064//mm\n",
"Do=D+d\n",
"Di=D-d\n",
"printf('mean dia,outer di and inner dia are,%f mm\n,%f mm\n,%f mm\n',D,Do,Di)\n",
"dx=8*W1*D^3*8/(G*d^4)//mm\n",
"nb=8+2\n",
"fL=nb*d + dx +0.15*d\n",
"printf('free length is ,%f mm\n',fL)\n",
"printf('pitch of coil is,%f mm',fL/(nb-1))"
   ]
   }
,
{
		   "cell_type": "markdown",
		   "metadata": {},
		   "source": [
			"## Example 23.12: Machine_design.sce"
		   ]
		  },
  {
"cell_type": "code",
	   "execution_count": null,
	   "metadata": {
	    "collapsed": true
	   },
	   "outputs": [],
"source": [
"//find\n",
"clc\n",
"//solution\n",
"//given\n",
"U=1000//N-m\n",
"D=0.100//m\n",
"d=0.02//m\n",
"n=30\n",
"G=85*10^9//N/m^2\n",
"C=D/d\n",
"K=(4*C-1)/(4*C-4)+(0.615/C)\n",
"V=(%pi*D*n)*[%pi/4*d^2]//volume//m^3\n",
"t=(U*4*K^2*G/V)^(0.5)//N/m^2\n",
"printf('max shear stress acting is,%f N/m^2\n',t)\n",
"dx=%pi*t*D^2*n/(K*d*G)\n",
"printf('deflection produced is,%f m',dx)"
   ]
   }
,
{
		   "cell_type": "markdown",
		   "metadata": {},
		   "source": [
			"## Example 23.13: Machine_design.sce"
		   ]
		  },
  {
"cell_type": "code",
	   "execution_count": null,
	   "metadata": {
	    "collapsed": true
	   },
	   "outputs": [],
"source": [
"//find\n",
"clc\n",
"//solution\n",
"//given\n",
"d=10//mm\n",
"D=120//mm\n",
"n=10\n",
"W=200//N\n",
"G=80*1000//N/mm^2\n",
"t=8*W*D/(%pi*d^3)*[1+(d/2*D)]//N/mm^2\n",
"dx=8*W*D^3*n/(G*d^4)//mm\n",
"printf('stress and eflection is,%f N/mm^2\n,%f N/mm^2\n',t,dx)\n",
"sf=W/dx\n",
"printf('stiffness is,%f N/mm\n',sf)\n",
"U=0.5*W*dx\n",
"printf('enerrgy stored is,%f N-mm\n',U)"
   ]
   }
,
{
		   "cell_type": "markdown",
		   "metadata": {},
		   "source": [
			"## Example 23.15: Machine_design.sce"
		   ]
		  },
  {
"cell_type": "code",
	   "execution_count": null,
	   "metadata": {
	    "collapsed": true
	   },
	   "outputs": [],
"source": [
"//find\n",
"clc\n",
"//solution\n",
"//given\n",
"m=20000//kg\n",
"v=2//m/s\n",
"D=300//mm\n",
"dx=250//mm\n",
"t=600//N/mm^2\n",
"E=0.5*m*v^2*10^3//N-mm\n",
"//let W be equivalent load \n",
"//Es=0.5*W*dx*2=250*W\n",
"W=E/250//N\n",
"T=W*D/2//N-mm\n",
"printf('torque acting is,%f N-mm\n',T)\n",
"//d=(T*16/(%pi*t))^(1/3)//mm\n",
"printf('dia is,%f mm\n',(T*16/(%pi*t))^(1/3))\n",
"printf('dia is say 60mm\n')\n",
"d=60//mm\n",
"G=84000//N/mm^2\n",
"//let be numbr of active tunrs\n",
"//n=dx*G*d^4/(D^3*8*W)\n",
"printf('numbr of turns are,%f \n',dx*G*d^4/(D^3*8*W))\n",
"printf('numbr of turns are,say 8\n')\n",
"nb=8+2\n",
"fL=nb*d + dx +0.15*dx\n",
"printf('free length is ,%f mm\n',fL)\n",
"printf('pitch of coil is,%f mm',fL/(nb-1))"
   ]
   }
,
{
		   "cell_type": "markdown",
		   "metadata": {},
		   "source": [
			"## Example 23.16: Machine_design.sce"
		   ]
		  },
  {
"cell_type": "code",
	   "execution_count": null,
	   "metadata": {
	    "collapsed": true
	   },
	   "outputs": [],
"source": [
"//find\n",
"clc\n",
"//solution\n",
"//given\n",
"m=1800//kg\n",
"v=1.2//m/s\n",
"dx=200//m\n",
"t=365//N/mm^2\n",
"C=6\n",
"G=80*1000//N/mm2\n",
"E=0.5*m*v^2*10^3//N-mm\n",
"//let W be equivalent load \n",
"//Es=0.5*W*dx*2=200*W\n",
"W=E/200//N\n",
"//let b be suide of square and D be mean Dia\\n",
"//D=6b\n",
"K=(4*C-1)/(4*C-4)+(0.615/C)\n",
"//t=K*2.4*W*D/b^3=116870/b^2\n",
"//b=sqrt(116870/t)//mm\n",
"printf('sqrt(116870/t),%f mm\n',sqrt(116870/t))\n",
"printf('side of square is,say 18 mm\n')\n",
"b=18//mm\n",
"printf('dia of coil is,%f mm\n',6*b)\n",
"//let be numbr of acitve colild\n",
"n=dx*G*b/(5.568*W*C^3)\n",
"printf('acitve turns are ,%f \n',n)"
   ]
   }
,
{
		   "cell_type": "markdown",
		   "metadata": {},
		   "source": [
			"## Example 23.18: Machine_design.sce"
		   ]
		  },
  {
"cell_type": "code",
	   "execution_count": null,
	   "metadata": {
	    "collapsed": true
	   },
	   "outputs": [],
"source": [
"//find\n",
"clc\n",
"//solution\n",
"//given\n",
"n=12//...k constant\n",
"n1=5//....k1\n",
"n2=7//....k2\n",
"//X=G*d^4/(8*D^3)//constant\n",
"//X=k*n\n",
"//k1=X/n1\n",
"//k2=X/n2\n",
"printf('stifness of spring 1 is X/5,i.e 2.4k and stiffness of spring 2 is X/7,i.e 1.7k')"
   ]
   }
,
{
		   "cell_type": "markdown",
		   "metadata": {},
		   "source": [
			"## Example 23.19: Machine_design.sce"
		   ]
		  },
  {
"cell_type": "code",
	   "execution_count": null,
	   "metadata": {
	    "collapsed": true
	   },
	   "outputs": [],
"source": [
"//find\n",
"clc\n",
"//solution\n",
"//given\n",
"W=5000//N\n",
"dx=40//mm\n",
"t1=850//N/mm^2\n",
"t2=850//N/mm^2\n",
"C=6\n",
"G=80000//N/mm^2\n",
"//ref fig 23.22\n",
"//D1-D2=2*d1\n",
"//D1=C*d1\n",
"//D2=C*d2\n",
"//d1/d2=1.5\n",
"//W1/W2=2.25....eq1\n",
"//W1+W2=W....eq2\n",
"//from 1 and 2,we get\n",
"W1=3492//N\n",
"W2=1538//N\n",
"K1=(4*C-1)/(4*C-4)+(0.615/C)\n",
"K2=K1\n",
"//d1=(K1*8*W1*C/(%pi*t1))^(0.5)\n",
"printf('dia of spring wires is,%f mm\n',(K1*8*W1*C/(%pi*t1))^(0.5))\n",
"printf('dia is ,say 10mm\n')\n",
"printf('mean outer dia is,%f mm\n',6*d1)\n",
"d1=10\n",
"D1=6*d1\n",
"printf('dia of spring wires is,%f mm\n',(K2*8*W2*C/(%pi*t2))^(0.5))\n",
"printf('dia is ,say 6 mm\n')\n",
"d2=6\n",
"printf('mean outer dia is,%f mm\n',6*d2)\n",
"D2=6*d2\n",
"//n1=(8*W1*C^3)/(dx*G*d1)\n",
"printf('number of turns are in outer coil,%f \n',1/[(8*W1*C^3)/(dx*G*d1)])\n",
"printf('numbr of turns are say 6\n')\n",
"n1=6\n",
"n1b=n1+2\n",
"Ls1=n1b*d1\n",
"n2b=n1b*d1/d2\n",
"n2=n2b-2\n",
"printf('numbr of tuns in inner coil is,%f \n',n2)\n",
"fL=Ls1+dx+0.15*dx\n",
"printf('free length is,%f mm\n',fL)\n",
"printf('outr dia of outr spring is,%f mm\n',D1+d1)\n",
"printf('innr dia of outr spring is,%f mm\n',D1-d1)\n",
"printf('outer dia of innr spring is,%f mm\n',D2+d2)\n",
"printf('innr dia of innr spring is,%f mm\n',D2-d2)\n",
"\n",
"\n",
""
   ]
   }
,
{
		   "cell_type": "markdown",
		   "metadata": {},
		   "source": [
			"## Example 23.1: Machine_design.sce"
		   ]
		  },
  {
"cell_type": "code",
	   "execution_count": null,
	   "metadata": {
	    "collapsed": true
	   },
	   "outputs": [],
"source": [
"//find\n",
"clc\n",
"//solution\n",
"//given\n",
"D=50//mm\n",
"d=5//mm\n",
"n=20//mm\n",
"W=500//N\n",
"C=D/d\n",
"Ks=1+(1/(2*C))\n",
"t=Ks*[8*W*D/(%pi*d^3)]//N/mm^2\n",
"printf('shear stress acting is,%f N/mm^2',t)"
   ]
   }
,
{
		   "cell_type": "markdown",
		   "metadata": {},
		   "source": [
			"## Example 23.20: Machine_design.sce"
		   ]
		  },
  {
"cell_type": "code",
	   "execution_count": null,
	   "metadata": {
	    "collapsed": true
	   },
	   "outputs": [],
"source": [
"//find\n",
"clc\n",
"//solution\n",
"//given\n",
"dx1=15//mm\n",
"n1=10\n",
"D1=40//mm\n",
"d1=5//mm\n",
"n2=8\n",
"D2=30//mm\n",
"d2=4//mm\n",
"W=400//N\n",
"G=84000//N/mm^2\n",
"//comprssion of each spring\n",
"P1=dx1*G*d1^4/(8*D1^3*n1)//N\n",
"R=W-P1//remaining load istaken by both spring\n",
"//P2=P1*dx2/dx1=10.27*dx2\n",
"//dx2=8*W2*D2^3/(G*d2^4)=0.08*W2\n",
"//W2=12.5*dx2\n",
"//P2+W2=W-P1\n",
"dx2=(W-P1)/(22.77)//mm\n",
"P2=10.27*dx2\n",
"printf('total deflection is,%f mm\n',dx1+dx2)\n",
"W1=P1+P2\n",
"printf('load on outr spring is,%f N\n',W1)\n",
"W2=12.5*dx2\n",
"printf('load shared by innr spring is,%f N\n',W2)\n",
"C1=D1/d1\n",
"C2=D2/d2\n",
"K1=(4*C1-1)/(4*C1-4)+(0.615/C1)\n",
"K2=(4*C2-1)/(4*C2-4)+(0.615/C2)\n",
"t1=K1*8*W1*D1/(%pi*d1^3)//N/mm^2\n",
"t2=K2*8*W2*D2/(%pi*d2^3)//N/mm^2\n",
"printf('stress induced in outr spring is,%f N/mm^2\n',t1)\n",
"printf('strss induce in iner spring is,%f N/mm^2\n',t2)"
   ]
   }
,
{
		   "cell_type": "markdown",
		   "metadata": {},
		   "source": [
			"## Example 23.21: Machine_design.sce"
		   ]
		  },
  {
"cell_type": "code",
	   "execution_count": null,
	   "metadata": {
	    "collapsed": true
	   },
	   "outputs": [],
"source": [
"//find\n",
"clc\n",
"//solution\n",
"//given\n",
"D=60//mm\n",
"d=6//mm\n",
"M=6000//N-mm\n",
"C=10\n",
"E=200000//N/mm^2\n",
"n=5.5\n",
"K=(4*C^2-C-1)/(4*C^2-4*C)\n",
"fb=K*(32*M/(%pi*d^3))//N/mm^2\n",
"printf('bending stressa acting is,%f N/mm^2\n',fb)\n",
"q=64*M*D*n/(E*d^4)//rad\n",
"printf('angular deflection is,%f rad',q)"
   ]
   }
,
{
		   "cell_type": "markdown",
		   "metadata": {},
		   "source": [
			"## Example 23.22: Machine_design.sce"
		   ]
		  },
  {
"cell_type": "code",
	   "execution_count": null,
	   "metadata": {
	    "collapsed": true
	   },
	   "outputs": [],
"source": [
"//find\n",
"clc\n",
"//solution\n",
"//given\n",
"b=6//mm\n",
"t1=0.25//mm\n",
"l=2500//mm\n",
"t=800//N/mm^2\n",
"E=200*1000//N/mm^2\n",
"M=t*b*t1^2/(12)//N-mm\n",
"printf('bending moment is,%f N-mm\n',M)\n",
"q=12*M*l/(E*b*t1^2)//rad\n",
"printf('angular def is,%f rad\n',q)\n",
"U=0.5*M*q\n",
"printf('energy stored is,%f N-mm',U)"
   ]
   }
,
{
		   "cell_type": "markdown",
		   "metadata": {},
		   "source": [
			"## Example 23.23: Machine_design.sce"
		   ]
		  },
  {
"cell_type": "code",
	   "execution_count": null,
	   "metadata": {
	    "collapsed": true
	   },
	   "outputs": [],
"source": [
"//find\n",
"clc\n",
"//solution\n",
"//given\n",
"tL=140000//N\n",
"ns=4\n",
"n=10\n",
"L=500//mm\n",
"dx=80//mm\n",
"E=200000//N/mm^2\n",
"f=600//N/mm^2\n",
"W=tL/8//N\n",
"//let t be thickness and b be th width\n",
"//f=6WL/(nbt^2)\n",
"//nbt^2=87.5*1000...eq1\n",
"//dx=6WL^3/(nEbt^3)\n",
"//nbt^3=0.82*10^6....eq2\n",
"//from eq1 and eq2 ,we get\n",
"t=10//mm\n",
"b1=87.5*1000/(n*t^2)\n",
"printf('width using bending stress is,%f mm\n',b1)\n",
"b2=0.82*10^6/(n*t^3)\n",
"printf('width using deflection is,%f mm\n',b2)'\n",
"printf('taking larger value 87.5 mm into account...')"
   ]
   }
,
{
		   "cell_type": "markdown",
		   "metadata": {},
		   "source": [
			"## Example 23.24: Machine_design.sce"
		   ]
		  },
  {
"cell_type": "code",
	   "execution_count": null,
	   "metadata": {
	    "collapsed": true
	   },
	   "outputs": [],
"source": [
"//find\n",
"clc\n",
"//solution\n",
"//given\n",
"n=12\n",
"nf=2\n",
"L1=525//mm\n",
"l=85//mm\n",
"W=2700//N\n",
"ff=280//N/mm^2\n",
"E=210*1000//N/mm^2\n",
"//let t be thickness and b be th width\n",
"//nt/b=3\n",
"//b=4t\n",
"n=12\n",
"L=(2*L1-l)/2//mm\n",
"ng=n-nf\n",
"//ff=18WL/(bt^2(2ng+3nf))\n",
"//ff=225476/t^3\n",
"t=(225476/ff)^(1/3)//mm\n",
"printf('thickness and width is,%f mm\n,%f mm\n',t,4*t)\n",
"b=4*t//taking t=9.3 not 10\n",
"dx=12*W*L^3/(E*b*t^3*(2*ng+3*nf))\n",
"printf('deflection is,%f mm\n',dx)//"
   ]
   }
,
{
		   "cell_type": "markdown",
		   "metadata": {},
		   "source": [
			"## Example 23.26: Machine_design.sce"
		   ]
		  },
  {
"cell_type": "code",
	   "execution_count": null,
	   "metadata": {
	    "collapsed": true
	   },
	   "outputs": [],
"source": [
"//find\n",
"clc\n",
"//solution\n",
"//given\n",
"W=3000//N\n",
"n=7\n",
"b=65//mm\n",
"nf=2\n",
"L1=550//mm\n",
"l=80//mm\n",
"f=350//N/mm^2\n",
"fb=80//N/mm^2\n",
"E=210000//N/mm^2\n",
"//let t be thickness\n",
"L=(2*L1-l)/2//mm\n",
"ng=n-nf\n",
"//f=18WL/(bt^2(2ng+3nf))=26480/t^2\n",
"//t=sqrt(26480/350)//mm\n",
"printf('thickness is,%f mm\n',sqrt(26480/350))\n",
"printf('thickness is, say 9mm\n')\n",
"t=9//mm\n",
"dx=12*W*L^3/(E*b*t^3*(2*ng+3*nf))\n",
"printf('deflection is,%f mm\n',dx)//\n",
"l1=b//length of pin\n",
"pb=8//N/mm^2\n",
"//let d be dia of pin\n",
"d=W/(l1*pb)//mm\n",
"//ref fig 23.33\n",
"l2=l1+4//mm\n",
"M=W*l2/4//N-mm\n",
"//Z=(%pi/32)*d1^3=0.0982*d1^3\n",
"d1=(M/(fb*0.0982))^(1/3)\n",
"printf('inner dia of pin is,%f mm\n',d1)\n",
"ls=1020/(7-1)+l//mm\n",
"printf('lnegth of smallest leaf is,%f mm\n',ls)\n",
"l2nd=1020/(7-1)*2+l//mm\n",
"printf('length of 2nd leaf is,%f mm\n',l2nd)\n",
"l3rd=1020/(7-1)*3+l//mm\n",
"printf('length of third leaf is,%f mm\n',l3rd)\n",
"l4th=1020/(7-1)*4+l//mm\n",
"printf('length of 4th leaf is,%f mm\n',l4th)\n",
"l5th=1020/(7-1)*5+l//mm\n",
"printf('length of 5th leaf is,%f mm\n',l5th)\n",
"l6th =1020/(7-1)*6+l//mm\n",
"printf('length of 6ht leaf is,%f mm\n',l6th)\n",
"mL=2*L1+%pi*(d+t)*2"
   ]
   }
,
{
		   "cell_type": "markdown",
		   "metadata": {},
		   "source": [
			"## Example 23.2: Machine_design.sce"
		   ]
		  },
  {
"cell_type": "code",
	   "execution_count": null,
	   "metadata": {
	    "collapsed": true
	   },
	   "outputs": [],
"source": [
"//find\n",
"clc\n",
"//solution\n",
"//given\n",
"d=6//mm\n",
"Do=75//mm\n",
"t=350//N/mm^2\n",
"G=84*1000//N/mm^2\n",
"D=Do-d//mm\n",
"C=D/d\n",
"//let W be axial load\n",
"//neglecting curvature\n",
"Ks=1+(1/(2*C))\n",
"//t=Ks*[8*W*D/(%pi*d^3)]//N/mm^2\n",
"W=(t*%pi*d^3)/(8*Ks*D)\n",
"printf('load acting is,%f N\n',W)\n",
"dpt=8*W*D^3/(G*d^4)//deflection per turn//mm\n",
"printf('defelection per turn is,%f mm',dpt)\n",
"//considering curvature\n",
"K=(4*C-1)/(4*C-4)+(0.615/C)\n",
"W=t*%pi*d^2/(K*8*C)//N\n",
"printf('load acting by takin curvature in consideration is,%f N\n',W)"
   ]
   }
,
{
		   "cell_type": "markdown",
		   "metadata": {},
		   "source": [
			"## Example 23.3: Machine_design.sce"
		   ]
		  },
  {
"cell_type": "code",
	   "execution_count": null,
	   "metadata": {
	    "collapsed": true
	   },
	   "outputs": [],
"source": [
"//find\n",
"clc\n",
"//solution\n",
"//given\n",
"W=1000//N\n",
"dx=80//mm\n",
"n=30\n",
"G=85*1000//N/mm^2\n",
"//let D be mean dia of spring coil ,d be dia of spring wire\n",
"//C =D/d\n",
"d=4//assume//mm\n",
"//dx=8*W*D^3*n/(G*d^4)\n",
"//dx=8*W*C^3*n/(G*d)\n",
"C=[dx*G*d/(8*W*n)]^(1/3)\n",
"D=C*d//mm\n",
"printf('dia of coil is,%f mm\n',D)\n",
"printf('outer dia is ,%f mm\n',D+d)\n",
"K=(4*C-1)/(4*C-4)+(0.615/C)\n",
"t=K*(8*W*C)/(%pi*d^2)\n",
"printf('max shear stress induced is,%f N/mm^2',t)"
   ]
   }
,
{
		   "cell_type": "markdown",
		   "metadata": {},
		   "source": [
			"## Example 23.4: Machine_design.sce"
		   ]
		  },
  {
"cell_type": "code",
	   "execution_count": null,
	   "metadata": {
	    "collapsed": true
	   },
	   "outputs": [],
"source": [
"//find\n",
"clc\n",
"//solution\n",
"//given\n",
"W=30//N\n",
"d=2//mm\n",
"n=18\n",
"C=6\n",
"D=12//mm\n",
"t=680//N/mm^2\n",
"G=80*1000//N/mm^2\n",
"K=(4*C-1)/(4*C-4)+(0.615/C)\n",
"t1=K*(8*W*C)/(%pi*d^2)\n",
"printf('tortional shear stress is,%f N/mm^2\n',t1)\n",
"k=G*d/(8*C^3*n)\n",
"printf('spring rate is,%f N/mm\n',k)\n",
"//let W1 force cause t shear\n",
"W1=t*%pi*d^2/(K*8*C)//N\n",
"printf('force to cause the body of spring to yield stregth is,%f N',W1)"
   ]
   }
,
{
		   "cell_type": "markdown",
		   "metadata": {},
		   "source": [
			"## Example 23.5: Machine_design.sce"
		   ]
		  },
  {
"cell_type": "code",
	   "execution_count": null,
	   "metadata": {
	    "collapsed": true
	   },
	   "outputs": [],
"source": [
"//find\n",
"clc\n",
"//solution\n",
"//given\n",
"W=30//N\n",
"d=2//mm\n",
"n=18\n",
"C=6\n",
"D=12//mm\n",
"t=680//N/mm^2\n",
"G=80*1000//N/mm^2\n",
"K=(4*C-1)/(4*C-4)+(0.615/C)\n",
"t1=K*(8*W*C)/(%pi*d^2)\n",
"printf('tortional shear stress is,%f N/mm^2\n',t1)\n",
"k=G*d/(8*C^3*n)\n",
"printf('spring rate is,%f N/mm\n',k)\n",
"//let W1 force cause t shear\n",
"W1=t*%pi*d^2/(K*8*C)//N\n",
"printf('force to cause the body of spring to yield stregth is,%f N',W1)"
   ]
   }
,
{
		   "cell_type": "markdown",
		   "metadata": {},
		   "source": [
			"## Example 23.6: Machine_design.sce"
		   ]
		  },
  {
"cell_type": "code",
	   "execution_count": null,
	   "metadata": {
	    "collapsed": true
	   },
	   "outputs": [],
"source": [
"//find\n",
"clc\n",
"//solution\n",
"//given\n",
"W1=2250//N\n",
"W2=2750//N\n",
"dx=6\n",
"C=5\n",
"t=420//N/mm^2\n",
"G=84*1000//N/mm^2\n",
"//T=W2*D/2=W*5d/2=6875*d\n",
"//T=(%pi/16)*t*d^3\n",
"d=sqrt(6875/82.48)//mm\n",
"printf('mean dia is,%f mm\n',5*d)\n",
"printf('outer dia is,%f \n',5*d+d)\n",
"printf('inner dia is,%f mm\n',5*d-d)\n",
"W=500//N\n",
"//n=dx*G*d/(8*W*C^3)\n",
"printf('numbr of tunrs are,%f \n',dx*G*d/(8*W*C^3))\n",
"printf('numbr of turns are say 10\n')\n",
"n=10\n",
"nb=n+2\n",
"dxmax=(6/500)*2750//mm\n",
"fL=nb*d + dxmax + 0.15*dxmax\n",
"printf('free length is ,%f mm\n',fL)\n",
"printf('pitch of coil is,%f mm',fL/(nb-1))"
   ]
   }
,
{
		   "cell_type": "markdown",
		   "metadata": {},
		   "source": [
			"## Example 23.7: Machine_design.sce"
		   ]
		  },
  {
"cell_type": "code",
	   "execution_count": null,
	   "metadata": {
	    "collapsed": true
	   },
	   "outputs": [],
"source": [
"//find\n",
"clc\n",
"//solution\n",
"//given\n",
"W1=400//N\n",
"W2=250//N\n",
"Di=25//mm\n",
"l1=40//mm\n",
"l2=50//mm\n",
"t=400//N/mm^2\n",
"//D=25+d\n",
"//T=W1*D/2=400*(25+d)/2=(5000+200*d)N-mm\n",
"//T=(%pi/16)*t*d^3\n",
"//78.55*d^3=5000+200*d\n",
"//by hit and trial,d=4.2//mm\n",
"d=4.47//mm(standard value od diameter from table 23.2)\n",
"D=25+d\n",
"C=D/d\n",
"K=(4*C-1)/(4*C-4)+(0.615/C)\n",
"//d1=sqrt(K*8*W1*C/(t*%pi))\n",
"printf('value od d1 is,%f mm\n',d)\n",
"printf('standard value corr to 4.54 is,4.877 mm\n')\n",
"//taking d1=4.877 in to consideration\n",
"d1=4.877\n",
"D1=25+d1\n",
"Do=D1+d1\n",
"//let n be numbr of turns\n",
"dx=l2-l1//deflwection\n",
"//n=dx*G*d1^4/(8*D1^3*W)//\n",
"G=80000//N/mm^2\n",
"W=150\n",
"printf('numbr of turns are ,%f \n',dx*G*d1^4/(8*D1^3*W))\n",
"printf('numbr of turns are say 15\n')\n",
"n=15\n",
"nb=n+2\n",
"dxmax=(dx/150)*W1\n",
"fL=nb*d1 + dxmax + 0.15*dxmax\n",
"printf('free length is ,%f mm\n',fL)\n",
"printf('pitch of coil is,%f mm',fL/(nb-1))"
   ]
   }
,
{
		   "cell_type": "markdown",
		   "metadata": {},
		   "source": [
			"## Example 23.8: Machine_design.sce"
		   ]
		  },
  {
"cell_type": "code",
	   "execution_count": null,
	   "metadata": {
	    "collapsed": true
	   },
	   "outputs": [],
"source": [
"//find\n",
"clc\n",
"//solution\n",
"//given\n",
"D1=65//mm\n",
"p1=0.7//N/mm^2\n",
"p1=0.75//N/mm^2\n",
"dx=3.5//mm\n",
"t=550//N/mm^2\n",
"G=84000//N/mm^2\n",
"C=6\n",
"W1=(%pi/4)*D1^2*p1//N\n",
"W2=(%pi/4)*D1^2*p2//N\n",
"W=W1-W2//N\n",
"//T=W2*D/2=7467*d\n",
"//D=6d\n",
"//T=(%pi/16)*t*d^3=108*d^3\n",
"//d=sqrt(7467/108)//mm\n",
"printf('dia of spring wire is,%f mm\n',sqrt(7467/108))\n",
"printf('standard dia is 8.839 mm from table 23.2\n')\n",
"d=8.839\n",
"D=6*d//mm\n",
"Do=D+d\n",
"Di=D-d\n",
"printf('mean dia,outer di and inner dia are,%f mm\n,%f mm\n,%f mm\n',D,Do,Di)\n",
"//let n be nubr of tunrs\n",
"printf('numbr of turns are ,%f \n',dx*G*d1^4/(8*D1^3*W))\n",
"printf('numbr of turns are say 10\n')\n",
"n=10\n",
"nb=n+1\n",
"fL=n*d+ (n-1)*d\n",
"printf('free length is ,%f mm\n',fL)\n",
"printf('pitch of coil is,%f mm',fL/(nb-1))\n",
""
   ]
   }
,
{
		   "cell_type": "markdown",
		   "metadata": {},
		   "source": [
			"## Example 23.9: Machine_design.sce"
		   ]
		  },
  {
"cell_type": "code",
	   "execution_count": null,
	   "metadata": {
	    "collapsed": true
	   },
	   "outputs": [],
"source": [
"//find\n",
"clc\n",
"//solution\n",
"//given\n",
"vd=60//mm//valve dia\n",
"pb=1.2//N/mm^2\n",
"dx2=10//mm\n",
"C=5\n",
"dx1=35//mm\n",
"t=500//N/mm^2\n",
"G=80000//N/mm^2\n",
"W1=(%pi/4)*vd^2//N\n",
"dxmax=dx1+dx2\n",
"W=W1*dxmax/dx1//N\n",
"K=(4*C-1)/(4*C-4)+(0.615/C)\n",
"printf('dia of sprig wire is,%f vmm\n',sqrt((K*8*W*C)/(t*%pi)))\n",
"printf('dia is say 12.7 mm,taking standard conditions rfom table 23.2\n')\n",
"d=12.7\n",
"D=C*d\n",
"printf('mean dia is,%f mm\n',D)\n",
"printf('numbr of tunrs are,%f \n',dxmax*G*d/(8*W*C^3))\n",
"printf('numbr of turns are say 11\n')\n",
"n=11\n",
"nb=n+2\n",
"fL=nb*d + dxmax + 0.15*dxmax\n",
"printf('free length is ,%f mm\n',fL)\n",
"printf('pitch of coil is,%f mm',fL/(nb-1))"
   ]
   }
],
"metadata": {
		  "kernelspec": {
		   "display_name": "Scilab",
		   "language": "scilab",
		   "name": "scilab"
		  },
		  "language_info": {
		   "file_extension": ".sce",
		   "help_links": [
			{
			 "text": "MetaKernel Magics",
			 "url": "https://github.com/calysto/metakernel/blob/master/metakernel/magics/README.md"
			}
		   ],
		   "mimetype": "text/x-octave",
		   "name": "scilab",
		   "version": "0.7.1"
		  }
		 },
		 "nbformat": 4,
		 "nbformat_minor": 0
}
