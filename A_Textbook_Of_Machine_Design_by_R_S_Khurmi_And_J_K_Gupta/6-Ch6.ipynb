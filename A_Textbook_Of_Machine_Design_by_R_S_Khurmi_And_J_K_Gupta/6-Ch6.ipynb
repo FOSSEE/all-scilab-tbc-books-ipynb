{
"cells": [
 {
		   "cell_type": "markdown",
	   "metadata": {},
	   "source": [
       "# Chapter 6: Ch6"
	   ]
	},
{
		   "cell_type": "markdown",
		   "metadata": {},
		   "source": [
			"## Example 6.10: Machine_design.sce"
		   ]
		  },
  {
"cell_type": "code",
	   "execution_count": null,
	   "metadata": {
	    "collapsed": true
	   },
	   "outputs": [],
"source": [
"syms F\n",
"Wmin=-F\n",
"Wmax=3*F\n",
"d=13\n",
"FS=2\n",
"q=0.9\n",
"Kt=1.42\n",
"Ksz=0.85\n",
"Ksur=0.89\n",
"Kf=1.378\n",
"sigmau=550\n",
"sigmay=470\n",
"sigmae=275\n",
"Mmax=Wmax*125\n",
"disp(Mmax,'Maximum bending moment=')\n",
"Mmin=Wmin*125\n",
"disp(Mmin,'Minimum bending moment=')\n",
"Mm=(Mmax+Mmin)/2\n",
"disp(Mm,'Mean bending moment=')\n",
"Mv=(Mmax-Mmin)/2\n",
"disp(Mv,'Variable bending moment=')\n",
"syms d\n",
"Z=(%pi/32)*d^3\n",
"disp(Z,'Section modulus=')\n",
"sigmam=Mm/Z\n",
"disp(sigmam,'Mean bending stress=')\n",
"sigmav=Mv/Z\n",
"disp(sigmav,'Variable bending stress=')\n",
"0=(sigmam/sigmay)-((sigmav*Kf)/(sigmae*Ksur*Ksz)-(1/FS)//according to Soderberg's relation\n",
"F=1/(2*0.00891)\n",
"disp(F,'According to soderbergs formula, F=')\n",
"0=(sigmam/sigmau)-((sigmav*Kf)/(sigmae*Ksur*Ksz)-(1/FS)//according to goodman's relation\n",
"F=1/(2*0.00873)\n",
"disp(F,'According to Goodman formula, F=')"
   ]
   }
,
{
		   "cell_type": "markdown",
		   "metadata": {},
		   "source": [
			"## Example 6.11: Machine_design.sce"
		   ]
		  },
  {
"cell_type": "code",
	   "execution_count": null,
	   "metadata": {
	    "collapsed": true
	   },
	   "outputs": [],
"source": [
"syms P\n",
"Wmin=P\n",
"Wmax=4*P\n",
"l=500\n",
"d=60\n",
"FS=1.3\n",
"Ksz=0.85\n",
"Ksur=0.9\n",
"\n",
"sigmau=700\n",
"sigmay=500\n",
"sigmae=330\n",
"Mmax=(Wmax*l)/4\n",
"disp(Mmax,'Maximum bending moment=')\n",
"Mmin=(Wmin*l)/4\n",
"disp(Mmin,'Minimum bending moment=')\n",
"Mm=(Mmax+Mmin)/2\n",
"disp(Mm,'Mean bending moment=')\n",
"Mv=(Mmax-Mmin)/2\n",
"disp(Mv,'Variable bending moment=')\n",
"syms d\n",
"Z=(%pi/32)*d^3\n",
"disp(Z,'Section modulus=')\n",
"sigmam=Mm/Z\n",
"disp(sigmam,'Mean bending stress=')\n",
"sigmav=Mv/Z\n",
"disp(sigmav,'Variable bending stress=')\n",
"0=(sigmam/sigmay)-((sigmav*Kf)/(sigmae*Ksur*Ksz)-(1/FS)//according to Soderberg's relation\n",
"P=11982\n",
"disp(F,'According to soderbergs formula, F=')\n",
"0=(sigmam/sigmau)-((sigmav*Kf)/(sigmae*Ksur*Ksz)-(1/FS)//according to goodman's relation\n",
"P=13785\n",
"disp(F,'According to Goodman formula, F=')"
   ]
   }
,
{
		   "cell_type": "markdown",
		   "metadata": {},
		   "source": [
			"## Example 6.12: Machine_design.sce"
		   ]
		  },
  {
"cell_type": "code",
	   "execution_count": null,
	   "metadata": {
	    "collapsed": true
	   },
	   "outputs": [],
"source": [
"l=200\n",
"Wamax=450\n",
"Wamin=-150\n",
"Wtmax=120\n",
"Wtmin=-80\n",
"FS=2\n",
"sigmay=330\n",
"sigmae=300\n",
"Ka=0.7\n",
"Kb=1\n",
"Ktb=1.44\n",
"Kta=1.64\n",
"Ksz=0.85\n",
"Ksur=0.90\n",
"q=0.90\n",
"//consider the reversed axial loading\n",
"Wm=(Wamax+Wamin)/2\n",
"disp(Wm,'Average axial load=')\n",
"Wv=(Wamax-Wamin)/2\n",
"disp(Wv,'Variable axial load=')\n",
"syms d\n",
"A=(%pi*d^2)/4\n",
"sigmam=Wm/A\n",
"disp(sigmam,'Average axial stress=')\n",
"sigmav=Wv/A\n",
"disp(sigmav,'Variable axial stress=')\n",
"Kfa=1.576\n",
"sigmaea=sigmae*Ka\n",
"disp(sigmaea,'Endurance limit stress for reversed axial loading=')\n",
"sigmanea=sigmam+(sigmav*sigmay*Kfa)/(sigmaea*Ksur*Ksz)\n",
"Wm=(Wtmax+Wtmin)/2\n",
"disp(Wm,'Mean bending load=')\n",
"Wv=(Wtmax-Wtmin)/2\n",
"disp(Wv,'Variable bending load=')\n",
"Mm=Wm*(l-50)\n",
"disp(Mm,'Mean bending moment at point A=')\n",
"Mv=Wv*(l-50)\n",
"disp(Mv,'Variable bending moment at point A=')\n",
"Z=(%pi*d^3)/32\n",
"disp(Z,'section modulus=')\n",
"sigmam=Mm/Z\n",
"disp(sigmam,'Mean bending stress=')\n",
"sigmav=Mv/Z\n",
"disp(sigmav,'Variable bending stress=')\n",
"Kfb=1.396\n",
"Kb=1\n",
"sigmaeb=sigmae*Kb\n",
"disp(sigmaeb,'Endurance limit for reverse bending load=')\n",
"sigmaneb=sigmam+(sigmav*sigmay*Kfb)/(sigmaeb*Ksur*Ksz)\n",
"sigmane=sigmanea+sigmaneb\n",
"disp(sigmane,'Total equivalent normal stress at point A=')\n",
"sigmane=sigmay/FS\n",
"disp(sigmane,'Total equivalent normal stress at point A=')\n",
"s=%s\n",
"p=165*s^3-1428*s-337168\n",
"x=roots(p)\n",
"disp(x,'d=')\n",
"//taking the real value of d\n",
"d=12.9\n",
"disp(d,'d=')"
   ]
   }
,
{
		   "cell_type": "markdown",
		   "metadata": {},
		   "source": [
			"## Example 6.13: Machine_design.sce"
		   ]
		  },
  {
"cell_type": "code",
	   "execution_count": null,
	   "metadata": {
	    "collapsed": true
	   },
	   "outputs": [],
"source": [
"Mmax=440\n",
"Mmin=-220\n",
"sigmay=410*10^6\n",
"sigmau=550*10^6\n",
"sigmae=0.5*sigmau\n",
"FS=2\n",
"syms d\n",
"Tmax=330\n",
"Tmin=-110\n",
"Tm=(Tmax+Tmin)/2\n",
"taum=(16*Tm)/(%pi*d^3)\n",
"disp(taum,'Mean shear stress=')\n",
"Tv=(Tmax-Tmin)/2\n",
"tauv=(16*Tv)/(%pi*d^3)\n",
"disp(tauv,'Variable shear stress=')\n",
"taue=0.55*sigmae\n",
"Ksur=0.62\n",
"Ksz=0.85\n",
"Kfs=1\n",
"tauy=o.5*sigmay//yield stress in shear loading is taken as one half of yield stress in reverse bending\n",
"taues=taum+((tauv*tauy*Kfs)/(taue*Ksur*Ksz))\n",
"Mm=(Mmax+Mmin)/2\n",
"disp(Mm,'Mean bending moment=')\n",
"Mv=(Mmax-Mmin)/2\n",
"disp(Mv,'Variable bending moment=')\n",
"syms d\n",
"Z=(%pi/32)*d^3\n",
"disp(Z,'Section modulus=')\n",
"sigmam=Mm/Z\n",
"disp(sigmam,'Mean bending stress=')\n",
"sigmav=Mv/Z\n",
"disp(sigmav,'Variable bending stress=')\n",
"Kfb=1\n",
"sigmaeb=sigmae\n",
"sigmane=sigmam+((sigmav*sigmay*Kfb)/(sigmaeb*Ksur*Ksz))\n",
"taues=(205*10^6)/2\n",
"d=39.5\n",
"disp(d,'d=')\n",
"\n",
""
   ]
   }
,
{
		   "cell_type": "markdown",
		   "metadata": {},
		   "source": [
			"## Example 6.14: Machine_design.sce"
		   ]
		  },
  {
"cell_type": "code",
	   "execution_count": null,
	   "metadata": {
	    "collapsed": true
	   },
	   "outputs": [],
"source": [
"sigmau=550\n",
"sigmay=400\n",
"Mmin=-150\n",
"Mmax=400\n",
"Tmin=-50\n",
"\n",
"Tmax=150\n",
"Kfb=1.6\n",
"Kfs=1.3\n",
"FS=1.5\n",
"Kb=1\n",
"Ks=0.6\n",
"Ksz=0.85\n",
"Ksur=0.88\n",
"Mm=(Mmax+Mmin)/2\n",
"disp(Mm,'Mean bending moment=')\n",
"Mv=(Mmax-Mmin)/2\n",
"disp(Mv,'Variable bending moment=')\n",
"syms d\n",
"Z=(%pi/32)*d^3\n",
"disp(Z,'Section modulus=')\n",
"sigmam=(Mm*10^3)/Z\n",
"disp(sigmam,'Mean bending stress=')\n",
"sigmav=(Mv*10^3)/Z\n",
"disp(sigmav,'Variable bending stress=')\n",
"sigmaeb=sigmau/2\n",
"sigmaneb=sigmam+(sigmav*sigmay*Kfb)/(sigmaeb*Ksur*Ksz)\n",
"\n",
"Tm=(Tmax+Tmin)/2\n",
"taum=(16*Tm*10^3)/(%pi*d^3)\n",
"disp(taum,'Mean shear stress=')\n",
"Tv=(Tmax-Tmin)/2\n",
"tauv=(16*Tv*10^3)/(%pi*d^3)\n",
"disp(tauv,'Variable shear stress=')\n",
"taue=sigmae*Ks\n",
"disp(taue,'Endurance limit for reversed torsional loading=')\n",
"tauy=0.5*sigmay\n",
"disp(tauy,'Yield strength in shear=')\n",
"//yield stress in shear loading is taken as one half of yield stress in reverse bending\n",
"taues=taum+((tauv*tauy*Kfs)/(taue*Ksur*Ksz))\n",
"d=33.84\n",
"disp(d,'Diameter of shaft in mm is=')\n",
"\n",
"\n",
"\n",
"\n",
"\n",
""
   ]
   }
,
{
		   "cell_type": "markdown",
		   "metadata": {},
		   "source": [
			"## Example 6.1: Machine_design.sce"
		   ]
		  },
  {
"cell_type": "code",
	   "execution_count": null,
	   "metadata": {
	    "collapsed": true
	   },
	   "outputs": [],
"source": [
"b=60// b=60mm\n",
"t=10//t=10mm\n",
"d=12//d=12mm\n",
"A=(b-d)*t\n",
"disp(A,'Area=')\n",
"W=12000//W=12kN\n",
"Ns=W/A\n",
"disp(Ns,'Nominal Stress=')\n",
"x=d/b//ratio of diameter of hole to plate width\n",
"// for d/b=0.2, Kt=2.5\n",
"Kt=2.5\n",
"Ms=Kt*Ns\n",
"disp(Ms,'Maximum stress=')"
   ]
   }
,
{
		   "cell_type": "markdown",
		   "metadata": {},
		   "source": [
			"## Example 6.2: Machine_design.sce"
		   ]
		  },
  {
"cell_type": "code",
	   "execution_count": null,
	   "metadata": {
	    "collapsed": true
	   },
	   "outputs": [],
"source": [
"D=50//D=50mm\n",
"d=25//d=12mm\n",
"r=5\n",
"A=(%pi*d^2)/4\n",
"disp(A,'Area=')\n",
"W=12000//W=12kN\n",
"Ns=W/A\n",
"disp(Ns,'Nominal Stress=')\n",
"x=D/d//ratio of maximum diameter to minimum diameter\n",
"y=r/d//ratio of radius of fillet to minimum diameter\n",
"Kt=1.64\n",
"Ms=Kt*Ns\n",
"disp(Ms,'Maximum stress=')"
   ]
   }
,
{
		   "cell_type": "markdown",
		   "metadata": {},
		   "source": [
			"## Example 6.3: Machine_design.sce"
		   ]
		  },
  {
"cell_type": "code",
	   "execution_count": null,
	   "metadata": {
	    "collapsed": true
	   },
	   "outputs": [],
"source": [
"s=%s\n",
"sigma1=300\n",
"sigma2=-150\n",
"sigmay=0.55*s\n",
"sigmae=0.5*s\n",
"FS=2\n",
"sigmam=(sigma1+sigma2)/2\n",
"sigmav=(sigma1-sigma2)/2\n",
"disp(sigmam,'Mean stress=')\n",
"disp(sigmav,'Variable stress=')\n",
"p=s^2-900*s-22500\n",
"sigmau=roots(p)\n",
"sigmau1=924.35\n",
"disp(sigmau1,'Minimum ultimate strength according to gerber equation=')\n",
"0=(sigmam/s)+(sigmay/sigmae)-(1/FS)//Modified Goodman relation\n",
"sigmau=2*525\n",
"disp(sigmau,'Minimum ultimate strength according to Modified Goodman Relation is=')\n",
"0=(sigmam/sigmay)+(sigmav/sigmae)-(1/FS)//Soderberg equation\n",
"sigmau=2*586.36\n",
"disp(sigmau,'Minimum ultimate strength according to Soderberg equation=')"
   ]
   }
,
{
		   "cell_type": "markdown",
		   "metadata": {},
		   "source": [
			"## Example 6.4: Machine_design.sce"
		   ]
		  },
  {
"cell_type": "code",
	   "execution_count": null,
	   "metadata": {
	    "collapsed": true
	   },
	   "outputs": [],
"source": [
"syms d\n",
"Wmax=500\n",
"Wmin=200\n",
"sigmau=900\n",
"sigmae=700\n",
"FSu=3.5\n",
"FSe=4\n",
"Kf=1.65\n",
"A=(%pi/4)*d^2\n",
"Wm=(Wmax+Wmin)/2\n",
"sigmam=(Wm*10^3)/A\n",
"disp(sigmam,'Mean stress=')\n",
"Wv=(Wmax-Wmin)/2\n",
"sigmav=(Wv*10^3)/A\n",
"disp(sigmav,'Variable stress=')\n",
"0=1-((sigmam*Kf)/(sigmau/FSu))-(sigmav/(sigmae/FSe))//according to goodman relation\n",
"d=sqrt(3960)\n",
"disp(d,'d=')"
   ]
   }
,
{
		   "cell_type": "markdown",
		   "metadata": {},
		   "source": [
			"## Example 6.5: Machine_design.sce"
		   ]
		  },
  {
"cell_type": "code",
	   "execution_count": null,
	   "metadata": {
	    "collapsed": true
	   },
	   "outputs": [],
"source": [
"syms t\n",
"b=120\n",
"Wmax=250\n",
"Wmin=100\n",
"sigmay=300\n",
"sigmae=225\n",
"FS=1.5\n",
"A=b*t\n",
"Wm=(Wmax+Wmin)/2\n",
"sigmam=(Wm*10^3)/A\n",
"disp(sigmam,'Mean stress=')\n",
"Wv=(Wmax-Wmin)/2\n",
"sigmav=(Wv*10^3)/A\n",
"disp(sigmav,'Variable stress=')\n",
"0=(sigmam/sigmay)-(sigmav/sigmae)-(1/FS)//according to Soderberg's relation\n",
"t=7.64*FS\n",
"disp(t,'t=')"
   ]
   }
,
{
		   "cell_type": "markdown",
		   "metadata": {},
		   "source": [
			"## Example 6.6: Machine_design.sce"
		   ]
		  },
  {
"cell_type": "code",
	   "execution_count": null,
	   "metadata": {
	    "collapsed": true
	   },
	   "outputs": [],
"source": [
"syms d\n",
"Wmax=500\n",
"Wmin=200\n",
"sigmau=900\n",
"sigmae=700\n",
"FSu=3.5\n",
"FSe=4\n",
"Kf=1.65\n",
"A=(%pi/4)*d^2\n",
"Wm=(Wmax+Wmin)/2\n",
"sigmam=(Wm*10^3)/A\n",
"disp(sigmam,'Mean stress=')\n",
"Wv=(Wmax-Wmin)/2\n",
"sigmav=(Wv*10^3)/A\n",
"disp(sigmav,'Variable stress=')\n",
"0=1-((sigmam*Kf)/(sigmau/FSu))-(sigmav/(sigmae/FSe))//according to Soderberg's relation\n",
"d=sqrt(3960)\n",
"disp(d,'d=')"
   ]
   }
,
{
		   "cell_type": "markdown",
		   "metadata": {},
		   "source": [
			"## Example 6.7: Machine_design.sce"
		   ]
		  },
  {
"cell_type": "code",
	   "execution_count": null,
	   "metadata": {
	    "collapsed": true
	   },
	   "outputs": [],
"source": [
"syms d\n",
"Wmax=180\n",
"Wmin=-180\n",
"sigmau=1070\n",
"sigmay=910\n",
"sigmae=0.5*sigmau\n",
"Ka=0.7\n",
"Ksur=0.8\n",
"Ksz=0.85\n",
"Kf=1\n",
"A=(%pi/4)*d^2\n",
"Wm=(Wmax+Wmin)/2\n",
"sigmam=(Wm)/A\n",
"disp(sigmam,'Mean stress=')\n",
"Wv=(Wmax-Wmin)/2\n",
"sigmav=(Wv*10^3)/A\n",
"disp(sigmav,'Variable stress=')\n",
"sigmaea=sigmae*Ka\n",
"disp(sigmaea,'Endurance limit in reverse axial loading=')\n",
"0=(sigmam/sigmay)-((sigmav*Kf)/(sigmaea*Ksur*Ksz)-(1/FS)//according to Soderberg's relation\n",
"d=sqrt(1800)\n",
"disp(d,'d=')"
   ]
   }
,
{
		   "cell_type": "markdown",
		   "metadata": {},
		   "source": [
			"## Example 6.8: Machine_design.sce"
		   ]
		  },
  {
"cell_type": "code",
	   "execution_count": null,
	   "metadata": {
	    "collapsed": true
	   },
	   "outputs": [],
"source": [
"Wmin=20*10^3\n",
"Wmax=50*10^3\n",
"l=500\n",
"FS=1.5\n",
"Kf=1\n",
"Ksz=0.85\n",
"Ksur=0.9\n",
"sigmau=650\n",
"sigmay=500\n",
"sigmae=350\n",
"Mmax=(Wmax*l)/4\n",
"disp(Mmax,'Maximum bending moment=')\n",
"Mmin=(Wmin*l)/4\n",
"disp(Mmin,'Minimum bending moment=')\n",
"Mm=(Mmax+Mmin)/2\n",
"disp(Mm,'Mean bending moment=')\n",
"Mv=(Mmax-Mmin)/2\n",
"disp(Mv,'Variable bending moment=')\n",
"syms d\n",
"Z=(%pi/32)*d^3\n",
"sigmam=Mm/Z\n",
"0=(sigmam/sigmay)-((sigmav*Kf)/(sigmae*Ksur*Ksz)-(1/FS)//according to Soderberg's relation\n",
"d=59.3\n",
"disp(d,'According to soderbergs formula, d=')\n",
"0=(sigmam/sigmau)-((sigmav*Kf)/(sigmae*Ksur*Ksz)-(1/FS)//according to Soderberg's relation\n",
"d=62.1\n",
"disp(d,'According to Goodmans formula, d=')\n",
"printf('Taking larger of the two values, d=62.1mm')\n",
""
   ]
   }
,
{
		   "cell_type": "markdown",
		   "metadata": {},
		   "source": [
			"## Example 6.9: Machine_design.sce"
		   ]
		  },
  {
"cell_type": "code",
	   "execution_count": null,
	   "metadata": {
	    "collapsed": true
	   },
	   "outputs": [],
"source": [
"d=50\n",
"sigmau=630\n",
"Tmax=2000\n",
"Tmin=-800\n",
"Tm=(Tmax+Tmin)/2\n",
"taum=(16*Tm)/(%pi*d^3)\n",
"disp(taum,'Mean shear stress=')\n",
"Tv=(Tmax-Tmin)/2\n",
"tauv=(16*Tv)/(%pi*d^3)\n",
"taue=0.55*0.5*sigmau\n",
"disp(taue,'Endurance limit=')\n",
"sigmay=510\n",
"Ksur=0.87\n",
"Ksz=0.85\n",
"Kf=1\n",
"tauy=o.5*sigmay//yield stress in shear loading is taken as one half of yield stress in reverse bending\n",
"0=(taum/tauy)-((tauv*Kf)/(taue*Ksur*Ksz)-(1/FS)//according to Soderberg's relation\n",
"FS=1/0.541\n",
"disp(FS,'Factor of safety=')"
   ]
   }
],
"metadata": {
		  "kernelspec": {
		   "display_name": "Scilab",
		   "language": "scilab",
		   "name": "scilab"
		  },
		  "language_info": {
		   "file_extension": ".sce",
		   "help_links": [
			{
			 "text": "MetaKernel Magics",
			 "url": "https://github.com/calysto/metakernel/blob/master/metakernel/magics/README.md"
			}
		   ],
		   "mimetype": "text/x-octave",
		   "name": "scilab",
		   "version": "0.7.1"
		  }
		 },
		 "nbformat": 4,
		 "nbformat_minor": 0
}
