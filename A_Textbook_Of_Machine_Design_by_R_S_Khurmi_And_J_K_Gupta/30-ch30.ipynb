{
"cells": [
 {
		   "cell_type": "markdown",
	   "metadata": {},
	   "source": [
       "# Chapter 30: ch30"
	   ]
	},
{
		   "cell_type": "markdown",
		   "metadata": {},
		   "source": [
			"## Example 30.1: Machine_design.sce"
		   ]
		  },
  {
"cell_type": "code",
	   "execution_count": null,
	   "metadata": {
	    "collapsed": true
	   },
	   "outputs": [],
"source": [
"//find\n",
"clc\n",
"//solution\n",
"//given\n",
"P=35000//W\n",
"Np=1200//rpm\n",
"Ng=780//rpm\n",
"qs=%pi/2\n",
"Tp=30\n",
"q=(%pi/180)*14.5\n",
"//b=L/4\n",
"vr=Np/Ng\n",
"Tg=vr*Tp\n",
"//tan(qp1)=1/vr\n",
"qp1=(%pi/180)*33\n",
"qp2=(%pi/2)-qp1\n",
"Tep=Tp/cos(qp1)\n",
"Teg=Tg/cos(qp2)\n",
"ypb=0.124-0.686/Tep\n",
"ygb=0.124-0.686/Teg\n",
"//since theyr are made of sme material,ypb <ypg,therfoere desing is pinion based\n",
"T=P*60*1000/(2*%pi*Np)//N-mm\n",
"//Wt=2*T/Dp=2T/(m*Tp)=18567/m//N\n",
"//v=%pi*Dp*Np/1000=%pi*m*Tp*Np/1000\n",
"//v=113.1*m m/min\n",
"//fw=140*(280/(280+v)//N/mm^2)\n",
"//L=Dp/(2*sin(qpi))=27.54*m//mm\n",
"//b=L/4=6.885*m\n",
"//Wt=fw*b*%pi*m*ypb*((L-b)/L)\n",
"//Wt=140*(280/(280+113.1m))*6.6685m*%pi*m*ypb*((27.54m-6.885m)/27.54m)\n",
"//using hit and trial,we get m=6.6,say 8\n",
"m=8\n",
"printf('module,face width,addendum,dedundum,dia of pinion,slant height are,%f mm\n,%f mm\n,%f mm\n,%f mm\n,%f mm\n %f mm\n',m,6.885*m,m,1.2*m,(m*Tp+2*8*cos(qp1)),27.54*m)"
   ]
   }
,
{
		   "cell_type": "markdown",
		   "metadata": {},
		   "source": [
			"## Example 30.2: Machine_design.sce"
		   ]
		  },
  {
"cell_type": "code",
	   "execution_count": null,
	   "metadata": {
	    "collapsed": true
	   },
	   "outputs": [],
"source": [
"//find\n",
"clc\n",
"//solution\n",
"//given\n",
"qs=(%pi/2)\n",
"Dp=0.08//m\n",
"Dg=0.1//m\n",
"q=(%pi/180)*14.5\n",
"fop=55\n",
"fog=55\n",
"P=2750//W\n",
"Np=1100\n",
"//rpm\n",
"fes=630\n",
"Ep=84000//N/mm^2\n",
"Eg=Ep\n",
"vr=Dg/Dp\n",
"//tan(qp1)=1/vr\n",
"qp1=(%pi/180)*38.66\n",
"qp2=(%pi/2)-qp1\n",
"//Tp=Dp*1000/m\n",
"//Tg=Dg*1000/m\n",
"//Tep=Tp/cos(qp1)\n",
"//Teg=Tg/cos(qp2)\n",
"//ypb=0.124-0.686/Tep=0.124-0.00668*m\n",
"//ygb=0.124-0.686/Teg\n",
"v=%pi*Dp*Np/60//m/s\n",
"Cv=6/(6+v)\n",
"L=sqrt((Dg/2)^2 +(Dp/2)^2)*1000//mm\n",
"b=L/3\n",
"T=P*60*1000/(2*%pi*Np)//N-mm\n",
"Wt=T/(Dp*1000/2)//N\n",
"//Wt=fop*Cv*b*%pi*m*(0.124-0.00668*m)((L-b)/L)\n",
"//Wt=175m-9.43m^2\n",
"//using hit and trial,we get m=4.5,ssay\n",
"m=5\n",
"Tp=Dp*1000/m\n",
"Tg=Dg*1000/m\n",
"printf('module is,%f mm\n',m)\n",
"printf('numbr of teeth on pinion and gear  is,%f \n,%f \n',Tp,Tg)"
   ]
   }
,
{
		   "cell_type": "markdown",
		   "metadata": {},
		   "source": [
			"## Example 30.3: Machine_design.sce"
		   ]
		  },
  {
"cell_type": "code",
	   "execution_count": null,
	   "metadata": {
	    "collapsed": true
	   },
	   "outputs": [],
"source": [
"//find\n",
"clc\n",
"//solution\n",
"//given\n",
"qs=%pi/2\n",
"P=9000//W\n",
"Tp=21\n",
"Tg=60\n",
"fop=85\n",
"fog=55\n",
"Np=1200//rpm\n",
"Ng=420//rpm\n",
"q=(%pi/180)*14.5\n",
"vr=Tg/Tp\n",
"//tan(qp1)=1/vr\n",
"qp1=(%pi/180)*19.3\n",
"qp2=(%pi/2)-qp1\n",
"Tep=Tp/cos(qp1)\n",
"Teg=Tg/cos(qp2)\n",
"ypb=0.124-0.686/Tep\n",
"ygb=0.124-0.686/Teg\n",
"//since theyr are made of sme material,ygb <ypb,therfoere desing is gear based\n",
"T=P*60*1000/(2*%pi*Ng)//N-mm\n",
"//Wt=T/(Dg/2)=2*T/(m*Tg)=6820/m//N\n",
"//v=%pi*Dg*Ng/60=1320*m//mm/s\n",
"//Cv=6/(6+v)\n",
"//L=Dg/(2*sin(qp2))=Tg*m/(2*sin(qp2))=32*m\n",
"//b=L/3=10.67*m//mm\n",
"//Wt=fog*Cv8b*%pi*m*ygb*((L-b)/L)\n",
"//Wt=885m^2/(6+1.32*m)\n",
"//885*m^3 -9002*m-40920\n",
"//using hit and trial method,we get m=4.52,say m=5\n",
"m=5//mm\n",
"b=10.67*m\n",
"printf('module is,%f mm\n',m)\n",
"printf('face width is,%f mm\n',b)\n",
"Dp=m*Tp\n",
"Dg=m*Tg\n",
"printf('pitch dia of pinion and gear is,%f mm\n,%f mm\n',Dp,Dg)\n",
"v=1.32*m\n",
"Wt=6820/m\n",
"//table 28.7, \n",
"e=0.055//mm//error\n",
"//taking \n",
"K=0.107//14.5 composite teeth\n",
"Ep=210*1000//N/mm^2\n",
"Eg=84*1000//N/mm^2\n",
"C=K*e/(1/Ep + 1/Eg)//N/mm\n",
"Wd=Wt+[(21*v*(b*C + Wt))/(21*v + sqrt(b*C + Wt))]\n",
"printf('dynamic  load acting is,%f N\n',Wd)\n",
"fe=84\n",
"Ws=fe*b*%pi*m*ygb\n",
"printf('static load acting is,%f N\n',Ws)\n",
"printf('since Ws<Wd,therefore desing is not perfect\n')\n",
"C1=0.107*0.015/(1/Ep +1/Eg)//N-mm\n",
"Wd1=Wt+[(21*v*(b*C1+ Wt))/(21*v + sqrt(b*C1 + Wt))]\n",
"printf('new dynamic  load acting is,%f N\n',Wd1)\n",
"printf('now by changind dynamic factor (C),we get Ws>Wd,hence desing is,safe\n')\n",
"fes=630//N/mm^2\n",
"K1=(fes)^2*sin(q)*(1/1.4)*(1/Eg +1/Ep)//N/mm^2\n",
"Q=2*Teg/(Teg+Tep)\n",
"Ww=Dp*b*Q*K1\n",
"printf('wear load acting is,%f N\n',Ww)\n",
"printf('since Ww>Wd1.,hence desing is safe')"
   ]
   }
,
{
		   "cell_type": "markdown",
		   "metadata": {},
		   "source": [
			"## Example 30.4: Machine_design.sce"
		   ]
		  },
  {
"cell_type": "code",
	   "execution_count": null,
	   "metadata": {
	    "collapsed": true
	   },
	   "outputs": [],
"source": [
"//find\n",
"clc\n",
"//solution\n",
"//given\n",
"q=(%pi/180)*20\n",
"qs=%pi/2\n",
"vr=3\n",
"fog=70\n",
"fop=100\n",
"P=37500//W\n",
"Np=750//rpm\n",
"//b=L/3\n",
"oh=150//mm\n",
"//tan(qp1)=1/vr\n",
"qp1=(%pi/180)*18.43\n",
"qp2=(%pi/2)-qp1\n",
"Tp=20//assume\n",
"Tg=vr*Tp\n",
"Tep=Tp/cos(qp1)\n",
"Teg=Tg/cos(qp2)\n",
"ypb=0.124-0.686/Tep\n",
"ygb=0.124-0.686/Teg\n",
"Ng=Np/3\n",
"//since theyr are made of sme material,ygb <ypb,therfoere desing is gear based\n",
"T=P*60*1000/(2*%pi*Ng)//N-mm\n",
"//Wt=T/(Dg/2)=2*T/(m*Tg)=47.7*1000/m//N\n",
"//v=%pi*Dg*Ng/60=0.7855*m//m/s\n",
"//Cv=3/(3+v)\n",
"//L=Dg/(2*sin(qp2))=Tg*m/(2*sin(qp2))=32*m\n",
"//b=L/3=10.67*m//mm\n",
"//Wt=fog*Cv8b*%pi*m*ygb*((L-b)/L)\n",
"//Wt=691*m^2/(3+0.7855*m)\n",
"//using hit and trial,we get m=8.8,say 10\n",
"m=10\n",
"b=10.54*m\n",
"printf('module is,%f mm\n',m)\n",
"printf('face width is,%f mm\n',b)\n",
"Dp=m*Tp\n",
"Dg=m*Tg\n",
"printf('pitch dia of pinion and gear is,%f mm\n,%f mm\n',Dp,Dg)\n",
"//let dp be dia pf pinion shaft\n",
"T1=P*60*1000/(2*%pi*Np)\n",
"L=31.62*m\n",
"Rm=(L-b/2)*Dp/(2*L)//mm\n",
"WT=T1/Rm\n",
"WRH=WT*tan(q)*sin(qp1)//N\n",
"WRV=WT*tan(q)*cos(qp1)//N\n",
"printf('axiala nd radial force actin on piston shaft is,%f N\n,%f N\n',WRH,WRV)\n",
"M1=WRV*oh-WRH*Rm\n",
"printf('moment due to Wrh and Wrv is,%f  N-mm\n',M1)\n",
"M2=WT*oh\n",
"M3=sqrt(M1^2 +M2^2)\n",
"Te=sqrt(T1^2 + M3^2)\n",
"t=45\n",
"printf('net moment acting is,%f N-mm\n',M3)\n",
"dp=(16*Te/(%pi*t))^(1/3)\n",
"printf('dia of pinion shaft is,%f mm\n',dp)"
   ]
   }
],
"metadata": {
		  "kernelspec": {
		   "display_name": "Scilab",
		   "language": "scilab",
		   "name": "scilab"
		  },
		  "language_info": {
		   "file_extension": ".sce",
		   "help_links": [
			{
			 "text": "MetaKernel Magics",
			 "url": "https://github.com/calysto/metakernel/blob/master/metakernel/magics/README.md"
			}
		   ],
		   "mimetype": "text/x-octave",
		   "name": "scilab",
		   "version": "0.7.1"
		  }
		 },
		 "nbformat": 4,
		 "nbformat_minor": 0
}
