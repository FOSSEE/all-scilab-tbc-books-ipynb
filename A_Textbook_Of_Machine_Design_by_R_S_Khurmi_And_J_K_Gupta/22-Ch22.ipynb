{
"cells": [
 {
		   "cell_type": "markdown",
	   "metadata": {},
	   "source": [
       "# Chapter 22: Ch22"
	   ]
	},
{
		   "cell_type": "markdown",
		   "metadata": {},
		   "source": [
			"## Example 22.10: Machine_design.sce"
		   ]
		  },
  {
"cell_type": "code",
	   "execution_count": null,
	   "metadata": {
	    "collapsed": true
	   },
	   "outputs": [],
"source": [
"clc\n",
"//solution\n",
"//given\n",
"P=180*1000//W\n",
"N=240//rpm\n",
"ft=5.2*10^6//N/m^2\n",
"//N1-N2=0.03\n",
"rho=7220//kg/m^3\n",
"tf=40//N/mm^2\n",
"Tmean=(P*60)/(2*%pi*N)//N-m\n",
"printf('mean torque acig is,%f N-m\n',Tmean)\n",
"//ref fig 22.18\n",
"q=4*%pi\n",
"Wdpc=Tmean*q\n",
"Wp=1.33*Wdpc//work done in power stroke....eq1\n",
"//Wp1=(0.5*%pi)*Tmax...eq2\n",
"Tmax=Wp/(%pi/2)//N-m\n",
"printf('max torque is,%f N-m\n',Tmax)\n",
"//BG=BF-FG\n",
"BG=Tmax-Tmean//N-m\n",
"BF=Tmax\n",
"dE=Wp*(BG/BF)^2//N-m\n",
"printf('dE is,%f N-m\n',dE)\n",
"//let D be mean dia\n",
"//let v be peripheral velo\n",
"v=sqrt(ft/rho)//m/s\n",
"D=(v*60)/(N*%pi)//m\n",
"R=D/2\n",
"printf('the dia of wheel is,%f m\n',D)\n",
"//N1-N2=0.03*N\n",
"Cs=0.03\n",
"w=2*%pi*N/60//rad/s\n",
"//dE=E*2*Cs\n",
"m=dE/(R^2*w^2*Cs)\n",
"printf('mass of wheel is,%f kg\n',m)\n",
"//let t be thickness and b be width of rim\n",
"//b=2t\n",
"//A=b*t=2*t^2\n",
"t=sqrt(m/96730)//mm\n",
"printf('the thicknes and width is,%f m\n,%f m\n',t,2*t)\n",
"//let d be dia of hub ,d1 be dia of shaft,l be length of hub\n",
"//let Tmax1 be max torque on shaft\n",
"Tmax1=2*Tmean*1000//N-mm\n",
"//d1=(Tmax1*16/(%pi*tf))^(1/3)\n",
"printf('dia od shaft is,%f mm\n',(Tmax1*16/(%pi*tf))^(1/3))\n",
"printf('the dia of shaft is say 125mm\n')\n",
"d1=125//mm\n",
"d=2*d1//mm\n",
"l=2*t//mm\n",
"printf('the dia of hub and length of hub is,%f mm\n,%f m\n',d,l)\n",
"//let a1 be major and b1 be minor axis\n",
"//a1=2*b1\n",
"n=6\n",
"fb=15//N/mm^2\n",
"M=Tmax1*(D*1000-d)/(D*n*1000)//N-mm\n",
"printf('bending moment is,%f N-mm\n',M)\n",
"//Z=(%pi/32)*b1*a1^2=0.05*a1^3\n",
"//fb=M/Z\n",
"a1=(M/(fb*0.05))^(1/3)//mm\n",
"b1=0.5*a1\n",
"printf('major and minor axis is,%f mm\n,%f mm\n',a1,b1)\n",
"printf('corrsponding to shaft of dia 125 mm,width is 36 mm and thicknss ofkey is 20 mm\n')\n",
"//let L be length of key\n",
"L=Tmax1/(36*tf*d1/2)//mm\n",
"printf('length of key is,%f mm\n',L)"
   ]
   }
,
{
		   "cell_type": "markdown",
		   "metadata": {},
		   "source": [
			"## Example 22.11: Machine_design.sce"
		   ]
		  },
  {
"cell_type": "code",
	   "execution_count": null,
	   "metadata": {
	    "collapsed": true
	   },
	   "outputs": [],
"source": [
"clc\n",
"//solution\n",
"//given\n",
"P=185*1000//W\n",
"N=100//rpm\n",
"//dE=0.15*E\n",
"D=2.4//m\n",
"R=1.2//m\n",
"//let m be mass\n",
"E=(P*60)/N//N-m\n",
"dE=0.15*E//N-m\n",
"rho=7200\n",
"Cs=0.02\n",
"v=(%pi*D*N)/60//m/s\n",
"m=dE/(v^2*Cs)//kg\n",
"printf('mass is,%f kg\n',m)\n",
"//let t be thickness and b be width of rim\n",
"//b=2t\n",
"//m=A*%pi*D*rho\n",
"//A=b*t=2*t^2\n",
"t=sqrt(m/108588)//mm\n",
"printf('the thicknes and width is,%f m\n,%f m\n',t,2*t)\n",
"//let d be dia of hub ,d1 be dia of shaft,l be length of hub\n",
"Tmean=(P*60)/(2*%pi*N)//N-m\n",
"Tmax1=2*Tmean*1000//N-mm\n",
"//d1=(Tmax1*16/(%pi*tf))^(1/3)\n",
"printf('dia od shaft is,%f mm\n',(Tmax1*16/(%pi*tf))^(1/3))\n",
"printf('the dia of shaft is say 165mm\n')\n",
"d1=165//mm\n",
"d=2*d1//mm\n",
"l=2*t//mm\n",
"printf('the dia of hub and length of hub is,%f mm\n,%f m\n',d,l)\n",
"//let a1 be major and b1 be minor axis\n",
"//a1=2*b1\n",
"n=6\n",
"fb=14//N/mm^2\n",
"M=Tmax1*(D*1000-d)/(D*n*1000)//N-mm\n",
"printf('bending moment is,%f N-mm\n',M)\n",
"//Z=(%pi/32)*b1*a1^2=0.05*a1^3\n",
"//fb=M/Z\n",
"a1=(M/(fb*0.05))^(1/3)//mm\n",
"b1=0.5*a1\n",
"tf=40\n",
"printf('major and minor axis is,%f mm\n,%f mm\n',a1,b1)\n",
"printf('corrsponding to shaft of dia 165 mm,width is 45 mm and thicknss of key is 25 mm\n')\n",
"//let L be length of key\n",
"L=Tmax1/(45*tf*d1/2)//mm\n",
"printf('length of key is,%f mm\n',L)"
   ]
   }
,
{
		   "cell_type": "markdown",
		   "metadata": {},
		   "source": [
			"## Example 22.13: Machine_design.sce"
		   ]
		  },
  {
"cell_type": "code",
	   "execution_count": null,
	   "metadata": {
	    "collapsed": true
	   },
	   "outputs": [],
"source": [
"clc\n",
"//solution\n",
"//given\n",
"Do=1.8//m\n",
"Di=1.35//m\n",
"b=0.3//m\n",
"N=250//rpm\n",
"T=15000//N-m\n",
"ftb=35//n/mm^2\n",
"ftl=40//n/mm^2\n",
"//w=1.25*h\n",
"n=6\n",
"fta=15//N/mm^2\n",
"d1=150//mm\n",
"rho=7200//kg/m^3\n",
"D=(Do+Di)/2//m\n",
"t=(Do-Di)/2//m\n",
"v=(%pi*D*N)/60//m/s\n",
"ft=rho*v^2*10^6//N/mm^2\n",
"A=b*t//m^2\n",
"Ft=ft*A*10^6//N\n",
"//let dc be core dia\n",
"//Ft=(%pi/4)*dc^2*ftb*4=110*dc^2\n",
"//dc=sqrt(Ft/110)//mm\n",
"printf('the core dia is,%f mm\n',sqrt(Ft/110))\n",
"printf('the standard core dia is 48.65mm\n')\n",
"dc=48.65//mm\n",
"//let h be depth of link and w be width of link\n",
"//w=1.25*h\n",
"//Al=w*h=1.25*h^2\n",
"//let Fmax be max tensile force \n",
"Fmax=2*ft*A//N....eq1\n",
"//Fmax=4*ftl*Al=200*h^2...eq2\n",
"//from eq 1 and eq2 \n",
"h=46//mm\n",
"w=1.25*h//mm\n",
"printf('the heigth and width of of link is,%f mm\n,%f mm\n',h,w)\n",
"//let a1 be major and b1 be minor axis\n",
"//a1=2*b1\n",
"n=6\n",
"d=2*d1//m\n",
"M=T*(D*1000-d)/(D*n*1000)//N-mm\n",
"printf('bending moment is,%f N-mm\n',M*1000)\n",
"//Z=(%pi/32)*b1*a1^2=0.05*a1^3\n",
"//fb=M/Z\n",
"a1=(M*1000/(fta*0.05))^(1/3)//mm\n",
"b1=0.5*a1\n",
"tf=40\n",
"printf('major and minor axis is,%f mm\n,%f mm\n',a1,b1)"
   ]
   }
,
{
		   "cell_type": "markdown",
		   "metadata": {},
		   "source": [
			"## Example 22.1: Machine_design.sce"
		   ]
		  },
  {
"cell_type": "code",
	   "execution_count": null,
	   "metadata": {
	    "collapsed": true
	   },
	   "outputs": [],
"source": [
"clc\n",
"//solution\n",
"//given\n",
"D=300//mm\n",
"R=0.150//mm\n",
"Cs=0.003\n",
"N=1800//rpm\n",
"w=188.5//rad/s\n",
"rho=7250//kg/m^3\n",
"//let m eb the mass of fly wheel\n",
"//ref fig 22.6\n",
"//total energy at E =total energy at A\n",
"//Eb=E+295\n",
"//Ec=E+295-685=E-390\n",
"//Ed=E-350\n",
"//Ee=E-690\n",
"//Ef=E+270\n",
"//Eg=E\n",
"//Ea=E\n",
"//max energy is at B and min is a E\n",
"//dE=Eb-Ee=985\n",
"//dE=985//mm^2\n",
"//conveting to N-m\n",
"dE=985*0.087//N-m\n",
"//dE=m*R^2*w^2*Cs\n",
"m=dE/(R^2*w^2*Cs)//kg\n",
"printf('the mass of flywheel is,%f kg\n',m)\n",
"//let t be thickness and b be width of rim\n",
"//b=2t\n",
"//A=b*t=2*t^2\n",
"//m=A*2*%pi*R*rho=13668*t^2\n",
"t=sqrt(m/13668)//m\n",
"printf('the thicknes and width is,%f m\n,%f m\n',t,2*t)"
   ]
   }
,
{
		   "cell_type": "markdown",
		   "metadata": {},
		   "source": [
			"## Example 22.2: Machine_design.sce"
		   ]
		  },
  {
"cell_type": "code",
	   "execution_count": null,
	   "metadata": {
	    "collapsed": true
	   },
	   "outputs": [],
"source": [
"//find...\n",
"clc\n",
"//solution\n",
"//given\n",
"N=900//rpm\n",
"w=94.26//rad/s\n",
"//(w1-w2)/w=0.02\n",
"Cs=0.02\n",
"D=650//mm\n",
"R=0.325//m\n",
"rho=7200//kg/m^3\n",
"//let m eb the mass of fly wheel\n",
"//ref fig 22.7\n",
"//total energy at E =total energy at A\n",
"//Eb=E-35\n",
"//Ec=E+375\n",
"//Ed=E+390\n",
"//Ee=E+415\n",
"//Ef=E+80\n",
"//Eg=E+340\n",
"//Eh=E-25\n",
"//Ek=E+360\n",
"//El=E\n",
"//Ea=E\n",
"//max energy is at B and min is a E\n",
"//dE=Eb-Ee=450\n",
"//dE=450//mm^2\n",
"//conveting to N-m\n",
"dE=450*5.5//N-m\n",
"//dE=m*R^2*w^2*Cs\n",
"m=dE/(R^2*w^2*Cs)//kg\n",
"printf('the mass of flywheel is,%f kg\n',m)\n",
"//let t be thickness and b be width of rim\n",
"//b=2t\n",
"//A=b*t=2*t^2\n",
"//m=A*2*%pi*R*rho=29409*t^2\n",
"t=sqrt(m/29409)//m\n",
"printf('the thicknes and width is,%f m\n,%f m\n',t,2*t)"
   ]
   }
,
{
		   "cell_type": "markdown",
		   "metadata": {},
		   "source": [
			"## Example 22.3: Machine_design.sce"
		   ]
		  },
  {
"cell_type": "code",
	   "execution_count": null,
	   "metadata": {
	    "collapsed": true
	   },
	   "outputs": [],
"source": [
"clc\n",
"//solution\n",
"//given\n",
"P=150*1000//W\n",
"N=80//rpm\n",
"Ce=0.1\n",
"//(w1-w2)=0.02\n",
"D=2//m\n",
"R=1//m\n",
"rho=7200//kg/m^3\n",
"w=2*%pi*N/60//rad/s\n",
"//Cs=(w1-w2)/w\n",
"Cs=0.04\n",
"Wdpc=P*60/N//N-m\n",
"dE=Ce*Wdpc//N-m\n",
"dEm=0.95*dE\n",
"//let m eb the mass of fly wheel\n",
"//dE=m*R^2*w^2*Cs\n",
"m=dEm/(R^2*w^2*Cs)//kg\n",
"printf('the mass of flywheel is,%f kg\n',m)\n",
"//let A be the area of rim\n",
"//m=A*2*%pi*R*rho\n",
"A=m/(2*%pi*R*rho)//m^2\n",
"printf('the area of rim is,%f m^2',A)"
   ]
   }
,
{
		   "cell_type": "markdown",
		   "metadata": {},
		   "source": [
			"## Example 22.4: Machine_design.sce"
		   ]
		  },
  {
"cell_type": "code",
	   "execution_count": null,
	   "metadata": {
	    "collapsed": true
	   },
	   "outputs": [],
"source": [
"clc\n",
"//solution\n",
"//given\n",
"P=20000//W\n",
"N=300//rpm\n",
"w=31.42//rad/s\n",
"//(w1-w2)/w=0.01*w\n",
"//ref fig 22.8\n",
"q=4*%pi\n",
"Tmean=(P*60)/(2*%pi*N)//N-m\n",
"printf('mean torque acting is,%f N-m\n',Tmean)\n",
"Wdpc=Tmean*q//N-m...eq1\n",
"//Wn=We-Wc=We-We/2.3=0.565*We...eq2\n",
"//from eq1 and eq2\n",
"We=14160//N-m\n",
"Tmax=We*2/(%pi)//N-m\n",
"//BG=BF-FG\n",
"BG=Tmax-Tmean//N-m\n",
"BF=Tmax\n",
"dE=We*(BG/BF)^2//N-m\n",
"printf('the ')\n",
"//Cs=(w1-w2)/w\n",
"Cs=0.02\n",
"//let I be moment of inertia\n",
"//dE=I*w^2*Cs\n",
"I=dE/(w^2*Cs)//kg-m^2\n",
"printf('the moment of inertia is,%f kg-m^2',I)"
   ]
   }
,
{
		   "cell_type": "markdown",
		   "metadata": {},
		   "source": [
			"## Example 22.5: Machine_design.sce"
		   ]
		  },
  {
"cell_type": "code",
	   "execution_count": null,
	   "metadata": {
	    "collapsed": true
	   },
	   "outputs": [],
"source": [
"clc\n",
"//solution\n",
"//given\n",
"N=600//rpm\n",
"w=62.84//rad/s\n",
"rho=7250//kg/m^3\n",
"ft=6*10^6//n/M^2\n",
"//REF fig 22.12\n",
"//let I be mont of inertia\n",
"//total energy at E =total energy at A\n",
"//Eb=E+160\n",
"//Ec=E-12\n",
"//Ed=E+156\n",
"//Ee=E-35\n",
"//Ef=E+162\n",
"//Eg=E\n",
"//Ea=E\n",
"//max energy is at F and min is a E\n",
"//dE=Ef-Ee=197\n",
"//dE=197//mm^2\n",
"//conveting to N-m\n",
"dE=197*13.1//N-m\n",
"//Cs=(w1-w2)/w\n",
"Cs=0.02\n",
"//let I be moment of inertia\n",
"//dE=I*w^2*Cs\n",
"I=dE/(w^2*Cs)//kg-m^2\n",
"printf('the moment of inertia is,%f kg-m^2\n',I)\n",
"//let t be thickness and b be width of rim\n",
"//b=2t\n",
"v=sqrt(ft/rho)//m/s\n",
"printf('the tangetntial velocity is,%f m/s\n',v)\n",
"//v=%pi*D*N/60=31.42*D\n",
"printf('dia of flywheel is,%d mm\n',v/31.42*1000)\n",
"//let E be total energy\n",
"E=dE/(2*Cs)//N-m\n",
"Emin=0.92*E//N-m\n",
"//let m eb bmass\n",
"m=Emin*2/(v^2)//kg\n",
"//let t be thickness and b be width of rim\n",
"//b=2t\n",
"//A=b*t=2*t^2\n",
"//m=A*2*%pi*R*rho=41686*t^2\n",
"t=sqrt(m/41686)//m\n",
"printf('the thickness and iwth of rim is,%f m\n,%f m\n',t,2*t)"
   ]
   }
,
{
		   "cell_type": "markdown",
		   "metadata": {},
		   "source": [
			"## Example 22.6: Machine_design.sce"
		   ]
		  },
  {
"cell_type": "code",
	   "execution_count": null,
	   "metadata": {
	    "collapsed": true
	   },
	   "outputs": [],
"source": [
"//solution\n",
"//given\n",
"N=300//rpm\n",
"w=31.42//rad/s\n",
"ft=5.6*10^6//N/m^2\n",
"rho=7200\n",
"//let D be dia\n",
"//v=(%pi*D*N)/60=15.71*D//m/s\n",
"//ft=rho*v^2=1.8*10^6*D^2\n",
"D=sqrt(ft/(1.8*10^6))//m\n",
"R=D/2//m\n",
"printf('the dia of flywheel is,%f m\n',D)\n",
"//ref fig 22.13\n",
"//total energy at E =total energy at A\n",
"//Eb=E-32\n",
"//Ec=E+376\n",
"//Ed=E+109\n",
"//Ee=E+442\n",
"//Ef=E+132\n",
"//Eg=E+358\n",
"//Eh=E-16\n",
"//Ei=E+244\n",
"//Ej=E\n",
"//Ea=E\n",
"//max energy is at E and min is a B\n",
"//dE=Eb-Ee=474\n",
"//dE=474//mm^2\n",
"//conveting to N-m\n",
"dE=474*27.3//N-m\n",
"//Cs=(w1-w2)/w\n",
"Cs=0.03\n",
"//dE=m*R^2*w^2*Cs\n",
"m=dE/(R^2*w^2*Cs)//kg\n",
"printf('the mass of flywheel is,%f kg\n',m)\n",
"//let t be thickness and b be width of rim\n",
"//b=4t\n",
"//A=b*t=4*t^2\n",
"//m=A*2*%pi*R*rho=159624*t^2\n",
"t=sqrt(m/159624)//m\n",
"printf('the thickness and iwth of rim is,%f m\n,%f m\n',t,4*t)"
   ]
   }
,
{
		   "cell_type": "markdown",
		   "metadata": {},
		   "source": [
			"## Example 22.7: Machine_design.sce"
		   ]
		  },
  {
"cell_type": "code",
	   "execution_count": null,
	   "metadata": {
	    "collapsed": true
	   },
	   "outputs": [],
"source": [
"//solution\n",
"//given\n",
"P=50000//W\n",
"N=150//rpm\n",
"n=75\n",
"ft=4*10^6//N/m^2\n",
"rho=7200\n",
"Tmean=(P*60)/(2*%pi*N)//N-m\n",
"printf('mean torque acig is,%f N-m\n',Tmean)\n",
"//ref fig 22.14\n",
"q=4*%pi\n",
"Wdpc=Tmean*q\n",
"Wp=1.4*Wdpc//work done in power stroke....eq1\n",
"//from dia\n",
"//Wp1=(0.5*%pi)*Tmax...eq2\n",
"Tmax=Wp/1.571//N-m\n",
"printf('max torque is,%f N-m\n',Tmax)\n",
"//BG=BF-FG\n",
"BG=Tmax-Tmean//N-m\n",
"BF=Tmax\n",
"dE=Wp*(BG/BF)^2//N-m\n",
"printf('dE is,%f N-m\n',dE)\n",
"//let D be mean dia\n",
"//let v be peripheral velo\n",
"v=sqrt(ft/rho)//m/s\n",
"D=(v*60)/(N*%pi)//m\n",
"printf('the dia of wheel is,%f m\n',D)\n",
"//let t be thickness and b be width of rim\n",
"//b=4t\n",
"//A=b*t=4*t^2\n",
"//N1-N2=0.01*N\n",
"Cs=0.01\n",
"//dE=E*2*Cs\n",
"E=dE/(2*Cs)//N-m\n",
"Erim=(15/16)*E//N-m\n",
"printf('Erim is,%f N-m\n',Erim)\n",
"m=Erim*2/v^2//kg\n",
"t=sqrt(m/271468)\n",
"printf('the thickness and width si,%f m\n,%f m\n',t,4*t)"
   ]
   }
,
{
		   "cell_type": "markdown",
		   "metadata": {},
		   "source": [
			"## Example 22.9: Machine_design.sce"
		   ]
		  },
  {
"cell_type": "code",
	   "execution_count": null,
	   "metadata": {
	    "collapsed": true
	   },
	   "outputs": [],
"source": [
"//solution\n",
"//given\n",
"n=25\n",
"d1=25//mm\n",
"t1=18//mm\n",
"tu=300//N/mm^2\n",
"effm=0.95\n",
"Cs=0.1\n",
"ft=6//N/mm^2\n",
"rho=7250//kg/m^3\n",
"D=1.4//m\n",
"R=0.7//m\n",
"As=%pi*d1*t1//area of plate sheared\n",
"Fs=As*tu//N\n",
"Eps=0.5*Fs*t1//N-mm//energy req per stroke\n",
"Epm=Eps*n/1000//N-m\n",
"P=Epm/(60*effm)//W\n",
"printf('power req is,%f W\n',P)\n",
"//let t be thickness and b be width of rim\n",
"//b=2t\n",
"//A=b*t=2*t^2\n",
"dE=(9/10)*Eps//N-m\n",
"//let m be mass of wheel\n",
"Erim=0.95*dE//N-m\n",
"N=9*25//rpm\n",
"w=2*%pi*N/60//rad/s\n",
"m=Erim/(R^2*w^2*Cs)//kg\n",
"//m=A*2*%pi*R*rho=63782*t^2\n",
"t=sqrt(m/63782)//m\n",
"printf('the thickness and width is,%f m\n,%f m\n',t,2*t)"
   ]
   }
],
"metadata": {
		  "kernelspec": {
		   "display_name": "Scilab",
		   "language": "scilab",
		   "name": "scilab"
		  },
		  "language_info": {
		   "file_extension": ".sce",
		   "help_links": [
			{
			 "text": "MetaKernel Magics",
			 "url": "https://github.com/calysto/metakernel/blob/master/metakernel/magics/README.md"
			}
		   ],
		   "mimetype": "text/x-octave",
		   "name": "scilab",
		   "version": "0.7.1"
		  }
		 },
		 "nbformat": 4,
		 "nbformat_minor": 0
}
