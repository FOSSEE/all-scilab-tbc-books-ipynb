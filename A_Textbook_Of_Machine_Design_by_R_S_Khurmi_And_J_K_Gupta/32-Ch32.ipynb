{
"cells": [
 {
		   "cell_type": "markdown",
	   "metadata": {},
	   "source": [
       "# Chapter 32: Ch32"
	   ]
	},
{
		   "cell_type": "markdown",
		   "metadata": {},
		   "source": [
			"## Example 32.1: Machine_design.sce"
		   ]
		  },
  {
"cell_type": "code",
	   "execution_count": null,
	   "metadata": {
	    "collapsed": true
	   },
	   "outputs": [],
"source": [
"//find\n",
"clc\n",
"//solution\n",
"//given\n",
"BP=5000//W\n",
"N=1200//rpm\n",
"n=N/2\n",
"pm=0.35//N/mm^2\n",
"effm=0.8\n",
"//let D bebore dia\n",
"IP=BP/effm//W\n",
"//IP=pm*l*A*n/60\n",
"//A=%pi*D^2/4,l=1.5D\n",
"//IP=4.12*10^-3 *D^3\n",
"D=(IP*1000/4.12)^(1/3)//mm\n",
"printf('dia of bore dis,%f mm\n',D)\n",
"l=1.5*D\n",
"L=1.15*l\n",
"ft=42\n",
"printf('stroke length is,%f mm\n',L)\n",
"p=9*pm\n",
"C=0.1\n",
"th=D*sqrt(C*p/ft)\n",
"printf('thickness of head is,%f mm\n',th)\n",
"Fc=(%pi/4)*D^2*p//N//force on cylinder...eq1\n",
"//let ns be nu,mbr of studs\n",
"ns=6//...assume\n",
"///let dc be core dia\n",
"ft1=65//N/mm^2\n",
"//d be nominal  dia\n",
"//Fs=ns*(%pi/4)*dc^2*ft1=216*d^2....eq2...//dc=0.84*d\n",
"//using eq1 and eq2\n",
"//we get\n",
"//d=sqrt(Fc/216)\n",
"printf('nominal  dia is ,%f mm\n',sqrt(Fc/216))\n",
"printf('nominal dia is,say 14 mm\n')\n",
"d=14//mm"
   ]
   }
,
{
		   "cell_type": "markdown",
		   "metadata": {},
		   "source": [
			"## Example 32.2: Machine_design.sce"
		   ]
		  },
  {
"cell_type": "code",
	   "execution_count": null,
	   "metadata": {
	    "collapsed": true
	   },
	   "outputs": [],
"source": [
"//find\n",
"clc\n",
"//solution\n",
"//given\n",
"D=100//mm\n",
"L=0.125//m\n",
"p=5//N/mm^2\n",
"pm=0.75//N/mm^2\n",
"effm=0.8\n",
"m=41.7*10^-6//kg/BP/s\n",
"HCV=42*1000//kJ/kg\n",
"N=2000//rpm\n",
"ft=38\n",
"th1=sqrt((3*p*D^2)/(16*ft))\n",
"printf('thickness of head on basis of strength is,%f mm\n',th1)\n",
"n=N/2\n",
"A=%pi*D^2/4//mm^2\n",
"IP=pm*L*A*n/60\n",
"BP=effm*IP\n",
"printf('brake power is,%f W\n',BP)\n",
"C=0.05\n",
"H=C*HCV*m*BP//heat flowing piston head\n",
"k=46.6//W/m/C\n",
"//TC-TE=w\n",
"w=220\n",
"th2=H*1000/(12.56*k*w)\n",
"printf('thickness of head on basis of heat dessiapation is,%f mm\n',th2)\n",
"printf('taking large r value into consideration \n')\n",
"th=th1\n",
"printf('thickness of head is,%f mm\n',th)\n",
"tr=7\n",
"printf('thickness of ribs is,%f m\n',tr)\n",
"pw=0.035\n",
"ft1=90\n",
"t1=D*sqrt(3*pw/ft1)\n",
"//t2 lies btw 0.7 t1  to t1\n",
"t2=3//mm\n",
"//b1 lies btw th to 1.2th=16 to 19.2\n",
"b1=18//mm\n",
"//b2 lies btw 0.75t2 to t2\n",
"b2=2.5\n",
"printf('with of top land and othe ring land is,%f mm\n,%f mm\n',b1,b2)\n",
"//G1 lie sbtw 3.5t1 to 4t1\n",
"G1=12.8//mm\n",
"//G2 lies btw 0.002D to 0.004 D\n",
"G2=0.3//mm\n",
"printf('gap btw free ends of ring and btw ring and cylindr is,%f mm\n,%f mm\n',G1,G2)\n",
"u=0.1\n",
"R1=u*%pi*D^2*p/4//...eq3\n",
"//R2=pb*D*l=45*l...eq4\n",
"//from eq3 and eq4.\n",
"//l=R1/45\n",
"printf('length of skirt is,%f mm\n',R1/45)\n",
"printf('length of skirt is ,say 90mm\n')\n",
"l=90\n",
"Lp=l+(4*t2 + 3*3)+b1\n",
"printf('length of piston is,%f mm\n',Lp)\n",
"//let do be outside dia\n",
"//l1 be lenngth of pin \n",
"pb1=25//N/mm^2\n",
"l1=0.45*D\n",
"//Load1=pb1*do*l1=1125*do\n",
"lo2=%pi*D^2*p/4\n",
"do=lo2/1125//mm\n",
"di=0.6*do\n",
"printf('inside and outside dia is,%f mm\n,%f mm\n',di,do)"
   ]
   }
,
{
		   "cell_type": "markdown",
		   "metadata": {},
		   "source": [
			"## Example 32.3: Machine_design.sce"
		   ]
		  },
  {
"cell_type": "code",
	   "execution_count": null,
	   "metadata": {
	    "collapsed": true
	   },
	   "outputs": [],
"source": [
"//find\n",
"clc\n",
"//solution\n",
"//given\n",
"D=400//mm\n",
"L=600//mm\n",
"r=300//mm\n",
"pm=0.3//N/mm^2\n",
"p=2.5//N/mm^2\n",
"W=50//kN\n",
"//T1+T2=6.5//kN=P\n",
"P=6.5\n",
"q=(%pi/180)*pb\n",
"//l/r=5\n",
"Fp=(%pi/4)*D^2*p//N\n",
"b=2*D\n",
"b1=b/2\n",
"b2=b/2\n",
"H1=Fp*b1/b/1000//kN\n",
"H2=Fp*b2/b/1000//kN\n",
"//V2=W*c1/c\n",
"//c1=c2=c/2\n",
"V2=W/2\n",
"V2=W/2\n",
"H2b=P/2\n",
"H3b=P/2\n",
"//let dc be crankpin dia,lc be length \n",
"fb=75//N/mm^2\n",
"//Mc=(%pi/32)*dc^3*fb=7.364*10^-3*dc^3\n",
"Mc1=H1*b2\n",
"dc=(Mc1/(7.364*10^-3))^(1/3)\n",
"printf('dia of crankpin is,%f mm\n',dc)"
   ]
   }
,
{
		   "cell_type": "markdown",
		   "metadata": {},
		   "source": [
			"## Example 32.4: Machine_design.sce"
		   ]
		  },
  {
"cell_type": "code",
	   "execution_count": null,
	   "metadata": {
	    "collapsed": true
	   },
	   "outputs": [],
"source": [
"//find\n",
"clc\n",
"//solution\n",
"//given\n",
"D=400//mm\n",
"L=600//mm\n",
"r=300//mm\n",
"pm=0.3//N/mm^2\n",
"p=2.5//N/mm^2\n",
"W=50//kN\n",
"//T1+T2=6.5//kN=P\n",
"P=6.5\n",
"q=(%pi/180)*35\n",
"//l/r=5\n",
"Fp=(%pi/4)*D^2*p//N\n",
"b=2*D\n",
"b1=b/2\n",
"b2=b/2\n",
"H1=Fp*b1/b/1000//kN\n",
"H2=Fp*b2/b/1000//kN\n",
"//V2=W*c1/c\n",
"//c1=c2=c/2\n",
"V2=W/2\n",
"V3=W/2\n",
"H2b=P/2\n",
"H3b=P/2\n",
"//Desing of crankshaft wen crank is at dead centre\n",
"//let dc be crankpin dia,lc be length \n",
"fb=75//N/mm^2\n",
"//Mc=(%pi/32)*dc^3*fb=7.364*10^-3*dc^3\n",
"Mc1=H1*b2\n",
"dc=(Mc1/(7.364*10^-3))^(1/3)\n",
"printf('dia of crankpin is,%f mm\n',dc)\n",
"pb=10\n",
"lc=Fp/(dc*pb)//mm\n",
"printf('lengthb of crankipin is,%f mm\n',lc)\n",
"t=0.65*dc + 6.35\n",
"printf('thickness of crank web is,%f mm\n',t)\n",
"w=1.125*dc+12.7\n",
"printf('width of crank pin is,%f mm\n',w)\n",
"//let ds be dia of shaft\n",
"l1=2*(b/2-lc/2-t)\n",
"printf('l1 is,%f mm\n',l1)\n",
"//c=l1+300=667,take c=800\n",
"c=800\n",
"l2=l1\n",
"l3=l1\n",
"c1=c/2\n",
"c2=c/2\n",
"Mw=V3*c1*1000//N-mm\n",
"printf('bendin moment due to flywheel is,%f N-mm\n',Mw)\n",
"Mt=H3b*c1*1000//N-mm\n",
"Ms=sqrt(Mw^2 + Mt^2)//N-mm\n",
"fb1=42\n",
"printf('resultant bending moment is,%f N-mm\n',Ms)\n",
"ds=((Ms*32)/(%pi*fb1))^(1/3)\n",
"printf('dia of shaft is,%f mm\n',ds)\n",
"//Desing of crankshaftt wen crank is at an angle of max twisting moment\n",
"p1=1\n",
"Fp1=(%pi/4)*D^2*p1/1000//kN\n",
"q1=(%pi/180)*6.58\n",
"Fq1=Fp1/cos(q1)\n",
"FT1=Fq1*sin(q1+q)//kN\n",
"FR=Fq1*sin(q1+q)//kN\n",
"HT1=FT1*b1/b//kN\n",
"HT2=FT1*b2/b\n",
"HR1=FR*b1/b\n",
"HR2=FR*b2/b\n",
"//let dc1 be crankpin dia\n",
"MC1=HR1*b2//kN-mm\n",
"TC1=HT1*r//kN-mm\n",
"TE1=sqrt(MC1^2 + TC1^2)*1000//N-mm\n",
"t11=35//N/mm^2\n",
"dc1=((TE1*16)/(%pi*t11))^(1/3)\n",
"printf('dia of crankpin is,%f mm\n',dc1)\n",
"printf('take larger value dc equal to 205 into consideration\n')\n",
"//let ds1 be dai of shaft\n",
"TS1=FT1*r*1000//N-mm\n",
"TE2=sqrt(Ms^2 + TS1^2)\n",
"t22=35\n",
"ds22=(TE2*16/(%pi*t22))^(1/3)//mm\n",
"printf('shaft dia is,%f mm\n',ds22)"
   ]
   }
,
{
		   "cell_type": "markdown",
		   "metadata": {},
		   "source": [
			"## Example 32.5: Machine_design.sce"
		   ]
		  },
  {
"cell_type": "code",
	   "execution_count": null,
	   "metadata": {
	    "collapsed": true
	   },
	   "outputs": [],
"source": [
"//find\n",
"clc\n",
"//solution\n",
"//given\n",
"BP=5000//W\n",
"N=1200//rpm\n",
"n=N/2\n",
"pm=0.35//N/mm^2\n",
"effm=0.8\n",
"//let D bebore dia\n",
"IP=BP/effm//W\n",
"//IP=pm*l*A*n/60\n",
"//A=%pi*D^2/4,l=1.5D\n",
"//IP=4.12*10^-3 *D^3\n",
"D=(IP*1000/4.12)^(1/3)//mm\n",
"printf('dia of bore dis,%f mm\n',D)\n",
"l=1.5*D\n",
"L=1.15*l\n",
"ft=42\n",
"printf('stroke length is,%f mm\n',L)\n",
"p=9*pm\n",
"C==0.1\n",
"th=D*sqrt(C*p/ft)\n",
"printf('thickness of head is,%f mm\n',th)\n",
"Fc=(%pi/4)*D^2*p//N//force on cylinder...eq1\n",
"//let ns be nu,mbr of studs\n",
"ns=6//...assume\n",
"///let dc be core dia\n",
"ft1=65//N/mm^2\n",
"//d be nominal  dia\n",
"//Fs=ns*(%pi/4)*dc^2*ft1=216*d^2....eq2...//dc=0.84*d\n",
"//using eq1 and eq2\n",
"//we get\n",
"//d=sqrt(Fc/216)\n",
"printf('nominal  dia is ,%f mm\n',sqrt(Fc/216))\n",
"printf('nominal dia is,say 14 mm\n')\n",
"d=14//mm"
   ]
   }
,
{
		   "cell_type": "markdown",
		   "metadata": {},
		   "source": [
			"## Example 32.6: Machine_design.sce"
		   ]
		  },
  {
"cell_type": "code",
	   "execution_count": null,
	   "metadata": {
	    "collapsed": true
	   },
	   "outputs": [],
"source": [
"//find\n",
"clc\n",
"//solution\n",
"//given\n",
"dp=60//mm\n",
"p=4//N/mm^2\n",
"fb=46//N/mm^2\n",
"k=0.42\n",
"a=%pi/6\n",
"t=k*dp*sqrt(p/fb)//mm\n",
"printf('thickness of valve head is,%f mm\n',t)\n",
"ds=dp/8 + 6.35//mm\n",
"printf('stem dia is,%f mm\n',ds)\n",
"h=dp/(4*cos(a))\n",
"printf('max lift of valve is,%f mm\n',h)"
   ]
   }
],
"metadata": {
		  "kernelspec": {
		   "display_name": "Scilab",
		   "language": "scilab",
		   "name": "scilab"
		  },
		  "language_info": {
		   "file_extension": ".sce",
		   "help_links": [
			{
			 "text": "MetaKernel Magics",
			 "url": "https://github.com/calysto/metakernel/blob/master/metakernel/magics/README.md"
			}
		   ],
		   "mimetype": "text/x-octave",
		   "name": "scilab",
		   "version": "0.7.1"
		  }
		 },
		 "nbformat": 4,
		 "nbformat_minor": 0
}
