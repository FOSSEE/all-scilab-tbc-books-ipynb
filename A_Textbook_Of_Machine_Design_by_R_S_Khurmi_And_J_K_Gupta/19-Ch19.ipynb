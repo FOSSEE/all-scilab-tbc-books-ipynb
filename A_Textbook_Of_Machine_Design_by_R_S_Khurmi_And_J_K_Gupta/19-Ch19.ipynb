{
"cells": [
 {
		   "cell_type": "markdown",
	   "metadata": {},
	   "source": [
       "# Chapter 19: Ch19"
	   ]
	},
{
		   "cell_type": "markdown",
		   "metadata": {},
		   "source": [
			"## Example 19.1: Machine_design.sce"
		   ]
		  },
  {
"cell_type": "code",
	   "execution_count": null,
	   "metadata": {
	    "collapsed": true
	   },
	   "outputs": [],
"source": [
"// find..\n",
"clc\n",
"//solution\n",
"//given\n",
"P=20*1000//W\n",
"N=300//rpm\n",
"d=550//mm\n",
"n=4\n",
"fb=15//N/mm^2\n",
"//let b1 minor axis,a1 major axis\n",
"T=(P*60)/(2*%pi*N)//N-m\n",
"M=2*T/n*1000//N-mm\n",
"//a1=2b1\n",
"//Z=(%pi/32)*b1*a1^2=(%pi)/8*b1^3\n",
"//fb=M/Z\n",
"b1=(M/(%pi/8*fb))^(1/3)//mm\n",
"printf('the minor and moajor axis is,%f mm\n,%f mm',b1,2*b1)\n",
"\n",
""
   ]
   }
,
{
		   "cell_type": "markdown",
		   "metadata": {},
		   "source": [
			"## Example 19.2: Machine_design.sce"
		   ]
		  },
  {
"cell_type": "code",
	   "execution_count": null,
	   "metadata": {
	    "collapsed": true
	   },
	   "outputs": [],
"source": [
"// find..\n",
"clc\n",
"//solution\n",
"//given\n",
"P=35000//W\n",
"N=240//rpm\n",
"L=0.350//mm\n",
"u=0.25\n",
"t=10//mm\n",
"n=6\n",
"q=%pi\n",
"fts=80//N/mm^2\n",
"ftk=80//N/mm^2\n",
"ts=50//N/mm^2\n",
"tk=50//N/mm^2\n",
"f=2.5//N/mm^2\n",
"ft=4.5//N/mm^2\n",
"fb=15//N/mm^2\n",
"rho=7200//kg/m^3\n",
"//fb*10^6=rho*v^2\n",
"v=sqrt(ft*10^6/rho)//m/s\n",
"printf('the speed is,%f m/s\n',v)\n",
"D=(v*60)/(%pi*N)//m\n",
"printf('the dia of pulley is,%f m\n',D)\n",
"//let b e width of belt \n",
"//let T1 and T2 be tension on tight and slag side\n",
"//P=(T1-T2)*v\n",
"//T1-T2=1400//N\n",
"//log(T1/T2)=u*q=0.25*3.14=0.3415\n",
"//T2=T1/2.195//N\n",
"T1=2572//N\n",
"T2=1172//N\n",
"rho1=1000//kg/m^3\n",
"//A=b*t=10*b/10^6//m^2\n",
"//let b is width\n",
"//m=A*rho1=b*t*rho=0.01*b//kg/m\n",
"//Tc=m*v^2=6.25*b\n",
"//T=f*b*t=25*b//N\n",
"//T1=T-Tc\n",
"//T1=25*b-6.25b\n",
"//b=T1/18.75//mm\n",
"printf('the width of belt si,%f mm\n',T1/18.75)\n",
"printf('the standard width of belt is b=140mm\n')\n",
"b=140//mm\n",
"Tc=6.25*b//N\n",
"//let d eb dia of shaft\n",
"T3=(P*60)/(2*%pi*N)//N-mm\n",
"M=(T1+T2+2*Tc)*L\n",
"Te=sqrt(M^2 + T3^2)\n",
"//d=((Te*16*1000)/(%pi*ts))^(1/3)//mm\n",
"printf('the dia of shaft is,%f mm\n',((Te*16*1000)/(%pi*ts))^(1/3))\n",
"printf('the standard dia of shaft is d=65mm\n')\n",
"d=65//mm\n",
"//corres to d=65mm,\n",
"width =20//mm\n",
"thickness =12//mm\n",
"printf('correponding to d=65mm,thickness and width is,%f mm\n,%f mm\n',thickness,width)\n",
"//let l be length of key\n",
"//T3*1000=l*20*tk*d/2\n",
"//l=T3/(32500)//mm\n",
"printf('the length of key is,%f mm\n',T3/(32500))\n",
"printf('length should be atleast l=102 mm\n')\n",
"printf('therfore length is 102 mm\n')\n",
"l=102//mm\n",
"//let b1 minor axis,a1 major axis\n",
"M=2*T3/n*1000//N-mm\n",
"//a1=2b1\n",
"//Z=(%pi/32)*b1*a1^2=(%pi)/8*b1^3=0.2=393*b1^3\n",
"//fb=M/Z\n",
"b1=(M/(0.393*fb))^(1/3)//mm\n",
"printf('the minor and moajor axis is,%f mm\n,%f mm',b1,2*b1)\n",
""
   ]
   }
,
{
		   "cell_type": "markdown",
		   "metadata": {},
		   "source": [
			"## Example 19.3: Machine_design.sce"
		   ]
		  },
  {
"cell_type": "code",
	   "execution_count": null,
	   "metadata": {
	    "collapsed": true
	   },
	   "outputs": [],
"source": [
"// find..\n",
"clc\n",
"//solution\n",
"//given\n",
"D=0.9//m\n",
"N=200//rpm\n",
"P=7500//W\n",
"T=145//n\n",
"//T1=2*T2\n",
"n=6\n",
"fb=15//N/mm^2\n",
"t=63//N/mm^2\n",
"v=%pi*N*D/60//m/s\n",
"//let T1 and  T2 be tneion on tight and slag side\n",
"//P=(T1-T2)*v...eq1\n",
"//T1=2T2...eq2\n",
"//from 1 and 2\n",
"T2=796//N\n",
"T1=1592//N\n",
"//b=T1/14.5//mm\n",
"printf('the widht is,%f mm\n',T1/14.5)\n",
"printf('the widht is,say 112mm\n')\n",
"b=112//mm\n",
"T=(P*60)/(2*%pi*N)*1000//N-mm\n",
"//((T*16)/(%pi*t))(1/3)=12.4*d^3\n",
"printf('the dia of shaft is,%f mm\n',(T/12.4)^(1/3))\n",
"printf('the dia of shaft is,say d=35mm\n')\n",
"d=35//mm\n",
"printf('width of pulley is B\n',112+13)\n",
"t1=D*1000/300 + 2//mm\n",
"printf('the thickness of pulley is,%f mm\n',t1)\n",
"//let b1 minor axis,a1 major axis\n",
"//a1=2*b1\n",
"M=2*T1/n*1000//N-mm\n",
"//Z=(%pi/32)*b1*a1^2=(%pi)/8*b1^3=0.393*b1^3\n",
"//fb=M/Z\n",
"b1=(M/(0.393*fb))^(1/3)//mm\n",
"printf('the minor and moajor axis is,%f mm\n,%f mm',b1,2*b1)\n",
"\n",
""
   ]
   }
],
"metadata": {
		  "kernelspec": {
		   "display_name": "Scilab",
		   "language": "scilab",
		   "name": "scilab"
		  },
		  "language_info": {
		   "file_extension": ".sce",
		   "help_links": [
			{
			 "text": "MetaKernel Magics",
			 "url": "https://github.com/calysto/metakernel/blob/master/metakernel/magics/README.md"
			}
		   ],
		   "mimetype": "text/x-octave",
		   "name": "scilab",
		   "version": "0.7.1"
		  }
		 },
		 "nbformat": 4,
		 "nbformat_minor": 0
}
