{
"cells": [
 {
		   "cell_type": "markdown",
	   "metadata": {},
	   "source": [
       "# Chapter 8: Ch8"
	   ]
	},
{
		   "cell_type": "markdown",
		   "metadata": {},
		   "source": [
			"## Example 8.1: Machine_design.sce"
		   ]
		  },
  {
"cell_type": "code",
	   "execution_count": null,
	   "metadata": {
	    "collapsed": true
	   },
	   "outputs": [],
"source": [
"clc\n",
"//solution\n",
"//given\n",
"di=200//mm\n",
"ri=100//mm\n",
"t=50//mm\n",
"p=5//N/mm^2\n",
"ro=ri+t//mm\n",
"//f=[p*(ri)^2]*[1+ro^2/x^2]*[1/(ro^2-ri^2)]\n",
"//x is radius at which stress is found out\n",
"//f=4*[1+(ro^2/(x^2))]//N/mm^2//tangential stress at distance x\n",
"f1=4*[1+(150^2/(100^2))]//N/mm^2\n",
"f2=4*[1+(150^2/(110^2))]//N/mm^2\n",
"f3=4*[1+(150^2/(120^2))]//N/mm^2\n",
"f4=4*[1+(150^2/(130^2))]//N/mm^2\n",
"f5=4*[1+(150^2/(140^2))]//N/mm^2\n",
"f6=4*[1+(150^2/(150^2))]//N/mm^2\n",
"//f=4*[1-(ro^2/(x^2))]//radial stress at distance x\n",
"r1=4*[1-(150^2/(100^2))]//N/mm^2\n",
"r2=4*[1-(150^2/(110^2))]//N/mm^2\n",
"r3=4*[1-(150^2/(120^2))]//N/mm^2\n",
"r4=4*[1-(150^2/(130^2))]//N/mm^2\n",
"r5=4*[1-(150^2/(140^2))]//N/mm^2\n",
"r6=4*[1-(150^2/(150^2))]//N/mm^2\n",
"printf('the tangential stress at distance x=100mm is,%f N/mm^2\n',f1)\n",
"printf('the tangential stress at distance x=110mm is,%f N/mm^2\n',f2)\n",
"printf('the tangential stress at distance x=120mm is,%f N/mm^2\n',f3)\n",
"printf('the tangential stress at distance x=130mm is,%f N/mm^2\n',f4)\n",
"printf('the tangential stress at distance x=140mm is,%f N/mm^2\n',f5)\n",
"printf('the tangential stress at distance x=150mm is,%f N/mm^2\n',f6)\n",
"printf('the radial stress at distance x=100mm is,%f N/mm^2\n ',r1)\n",
"printf('the radial stress at distance x=110mm is,%f N/mm^2\n ',r2)\n",
"printf('the radial stress at distance x=120mm is,%f N/mm^2\n ',r3)\n",
"printf('the radial stress at distance x=130mm is,%f N/mm^2\n ',r4)\n",
"printf('the radial stress at distance x=140mm is,%f N/mm^2\n ',r5)\n",
"printf('the radial stress at distance x=150mm is,%f N/mm^2\n ',r6)"
   ]
   }
,
{
		   "cell_type": "markdown",
		   "metadata": {},
		   "source": [
			"## Example 8.2: Machine_design.sce"
		   ]
		  },
  {
"cell_type": "code",
	   "execution_count": null,
	   "metadata": {
	    "collapsed": true
	   },
	   "outputs": [],
"source": [
"//solution\n",
"//given\n",
"Q=40//m^3/min\n",
"p=1.4//N/mm^2\n",
"v=1800//m/min\n",
"f=40//N/mm^2\n",
"D=1.13*sqrt(40/1800)//m\n",
"t=(p*D)/(2*f)+0.003//m\n",
"printf('the inside diameter is,%f m\n ',D)\n",
"printf('the wall thickness is,%f m',t)"
   ]
   }
,
{
		   "cell_type": "markdown",
		   "metadata": {},
		   "source": [
			"## Example 8.3: Machine_design.sce"
		   ]
		  },
  {
"cell_type": "code",
	   "execution_count": null,
	   "metadata": {
	    "collapsed": true
	   },
	   "outputs": [],
"source": [
"clc\n",
"//solution\n",
"//given\n",
"D=250//mm\n",
"p=0.7//N/mm^2\n",
"//ref table 8.1,foa cast iron ft=14//N/mm^2\n",
"ft=14//N/mm^2\n",
"//table 8.2,C=9 mm//\n",
"C=9//mm\n",
"pi=3.14\n",
"t=(p*D)/(2*ft)+C//mm\n",
"d=0.75*t + 10//mm//nominal dia of bolts\n",
"n=0.0275*D+1.6//mm//numbr of bolts\n",
"tf=1.5*t+3//mm//thickness of flanges\n",
"B=2.3*d//mm//width of flange\n",
"Do=D+2*t+2*B//mm//outside dia of flange\n",
"Dp=D+2*t+2*d+12//mm\n",
"Pc=pi*Dp/n//mm\n",
"printf('the thickness of pipe is,%f mm\n',t)\n",
"printf('the nominal diameter of bolts is,%f mm\n',d)\n",
"printf('the number of bolts is,%f \n',n)\n",
"printf('the thickness of flanges is,%f mm\n',tf)\n",
"printf('the width of flange is,%f mm\n',B)\n",
"printf('the outside dia of flange is,%f mm\n',Do)\n",
"printf('the pitch circle diameter is,%f mm\n',Dp)\n",
"printf('the circumferencial pitch is,%f mm',Pc)"
   ]
   }
,
{
		   "cell_type": "markdown",
		   "metadata": {},
		   "source": [
			"## Example 8.4: Machine_design.sce"
		   ]
		  },
  {
"cell_type": "code",
	   "execution_count": null,
	   "metadata": {
	    "collapsed": true
	   },
	   "outputs": [],
"source": [
"clc\n",
"//solution\n",
"//given\n",
"//refer fig 8.12\n",
"D=200//mm\n",
"p=0.35//N/mm^2\n",
"n=8\n",
"d=16//mm\n",
"Dp=290//mm\n",
"tf=20//mm\n",
"//using table ft=14//N/mm^2 ,table 8.2 gives C=9mm\n",
"C=9//mm\n",
"ft=14//N/mm^2\n",
"t=(p*D/(2*ft))+C//mm\n",
"d1=d+2//mm//dia of bolts\n",
"D1=Dp-d1//mm\n",
"pi=3.14\n",
"F=(pi/4)*[D1]^2*p//N//force acting to separate flanges\n",
"x=90//mm\n",
"y=[Dp/2]-[D/2+t]//mm\n",
"//let fb be working stress\n",
"M=F*y/n//N-mm\n",
"//Mr=fb*Z=(1/6)*x*(tf)^2=6000*fb \n",
"//M=6000*fb\n",
"fb=M/6000//N/mm^2\n",
"printf('the working stress is ,%f N/mm^2',fb)"
   ]
   }
,
{
		   "cell_type": "markdown",
		   "metadata": {},
		   "source": [
			"## Example 8.5: Machine_design.sce"
		   ]
		  },
  {
"cell_type": "code",
	   "execution_count": null,
	   "metadata": {
	    "collapsed": true
	   },
	   "outputs": [],
"source": [
"clc\n",
"//solution\n",
"//given\n",
"D=50//mm\n",
"R=25//mm\n",
"p=7//N/mm^2\n",
"pi=3.14\n",
"ft=20//N/mm^2\n",
"fb=60//N/mm^2\n",
"//t=R*[sqrt[(ft+p)/(ft-p)]-1]//mm//thickneess of pipe\n",
"t=R*{sqrt[27/13]-1}//mm\n",
"w=10//mm//width of packing\n",
"D1=D+(2*w)//mm\n",
"F=(pi/4)*(D1)^2*p//N\n",
"Fb=F/2//force on bolts\n",
"//let dc be diameter of bolts\n",
"//Fb=(pi/4)*(dc)^2*fb\n",
"dc=sqrt(13471.5/47.2)//mm\n",
"d=dc/0.84//mm\n",
"Do=D+(2*t)+(4.6*d)//mm//outer diameter of flange\n",
"Dp=Do-(3*t+20)//mm//pitch dia of bolts\n",
"b=89//mm\n",
"e=33//mm\n",
"Mxx=Fb*e//N-mm\n",
"//Z=(1/6)*b*(tf)^2\n",
"//Mxx=ft*14.83*tf^2\n",
"tf=sqrt(444560/296.6)//mm\n",
"printf('the thickness of pipe is,%f mm\n',t)\n",
"printf('the nominal dia is,%f mm\n',d)\n",
"printf('the outer diameter of flange is,%f mm\n',Do)\n",
"printf('the thickness of flange is,%f mm',tf)"
   ]
   }
],
"metadata": {
		  "kernelspec": {
		   "display_name": "Scilab",
		   "language": "scilab",
		   "name": "scilab"
		  },
		  "language_info": {
		   "file_extension": ".sce",
		   "help_links": [
			{
			 "text": "MetaKernel Magics",
			 "url": "https://github.com/calysto/metakernel/blob/master/metakernel/magics/README.md"
			}
		   ],
		   "mimetype": "text/x-octave",
		   "name": "scilab",
		   "version": "0.7.1"
		  }
		 },
		 "nbformat": 4,
		 "nbformat_minor": 0
}
