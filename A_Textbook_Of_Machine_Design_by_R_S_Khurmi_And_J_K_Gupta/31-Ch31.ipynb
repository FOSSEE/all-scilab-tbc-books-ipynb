{
"cells": [
 {
		   "cell_type": "markdown",
	   "metadata": {},
	   "source": [
       "# Chapter 31: Ch31"
	   ]
	},
{
		   "cell_type": "markdown",
		   "metadata": {},
		   "source": [
			"## Example 31.1: Machine_design.sce"
		   ]
		  },
  {
"cell_type": "code",
	   "execution_count": null,
	   "metadata": {
	    "collapsed": true
	   },
	   "outputs": [],
"source": [
"//find\n",
"clc\n",
"//solution\n",
"//given\n",
"n=3\n",
"m=6\n",
"Dw=50//mm\n",
"Tg=30\n",
"q=(%pi/180)*14.5\n",
"u=0.05\n",
"//tan(y)=m*n/Dw\n",
"y=(%pi/180)*19.8 //rad\n",
"printf('lead angle is,%f deg\n',y)\n",
"vr=Tg/n\n",
"printf('velocity ratio is,%f \n',vr)\n",
"Dg=m*Tg\n",
"x=(Dw+Dg)/2\n",
"printf('centre diat is,%f mm\n',x)\n",
"eff=tan(y)*(cos(q)-u*tan(y))/(cos(q)*tan(y)+u)\n",
"printf('effi is,%f \n',eff)"
   ]
   }
,
{
		   "cell_type": "markdown",
		   "metadata": {},
		   "source": [
			"## Example 31.2: Machine_design.sce"
		   ]
		  },
  {
"cell_type": "code",
	   "execution_count": null,
	   "metadata": {
	    "collapsed": true
	   },
	   "outputs": [],
"source": [
"//find\n",
"clc\n",
"//solution\n",
"//given\n",
"P=15000//W\n",
"Nw=2000//rpm\n",
"Ng=75//rpm\n",
"n=3\n",
"Dw=65//mm\n",
"Tg=90\n",
"m=6//mm\n",
"q=(%pi/180)*20\n",
"u=0.1\n",
"T=P*60000/(2*%pi*Nw)//N-mm\n",
"Wt=T/(Dw/2)//N\n",
"printf('tangential force acting is,%f N\n',Wt)\n",
"//let y be lead angle\n",
"//tan(y)=m*n/Dw\n",
"y=(%pi/180)*15.5 //rad\n",
"Wa=Wt/tan(y)\n",
"Wr=Wa*tan(q)\n",
"printf('axial force and separating force acting is%f N\n,%f N\n',Wa,Wr)\n",
"eff=tan(y)*(cos(q)-u*tan(y))/(cos(q)*tan(y)+u)\n",
"printf('effi is,%f \n',eff)"
   ]
   }
,
{
		   "cell_type": "markdown",
		   "metadata": {},
		   "source": [
			"## Example 31.3: Machine_design.sce"
		   ]
		  },
  {
"cell_type": "code",
	   "execution_count": null,
	   "metadata": {
	    "collapsed": true
	   },
	   "outputs": [],
"source": [
"//find\n",
"clc\n",
"//solution\n",
"//given\n",
"q=(%pi/180)*20\n",
"P=10000//W\n",
"NW=1400//rpm\n",
"vr=12\n",
"x=225//mm\n",
"//1/(tan(y))^3=vr\n",
"y=(%pi/180)*23.6\n",
"printf('lead angle is ,%f  rad\n',y)\n",
"//let x/ln=u\n",
"u=(1/2/%pi)*(1/sin(y)+vr/(cos(y)))\n",
"ln=x/u\n",
"//printf('normal lead is,%f mm\n',ln)\n",
"l=ln/cos(y)\n",
"//printf('axial lead is,%f mm\n',l)\n",
"n=4\n",
"Tw=n\n",
"//pa=l/4//axial pitch\n",
"m=8//assume\n",
"pa=%pi*m\n",
"printf('axial pitch is,%f mm\n',pa)\n",
"l1=pa*n\n",
"printf('axial lead is,%f mm\n',l1)\n",
"ln1=l1*cos(y)\n",
"printf('normal lead is,%f mm\n',ln1)\n",
"x1=(ln1/2/%pi)*(1/sin(y)+vr/(cos(y)))\n",
"printf('cenetre diatance is,%f mm\n',x1)\n",
"Dw=l1/(%pi*tan(y))//mm\n",
"printf('pitch circle dia is,%f mm\n',Dw)\n",
"Lw1=pa*(4.5 + 0.02 *Tw)//using table 31.3\n",
"//this length is to be inc by 25 to 30 mm for feed marks,therefore\n",
"Lw=Lw1+25//mm\n",
"printf('length of threaded portion is,%f mm\n',Lw)\n",
"h=0.623*pa\n",
"printf('depth of tooth is,%f mm\n',h)\n",
"a=0.286*pa\n",
"printf('addendum is,%f mm\n',a)\n",
"Dow=Dw+2*a\n",
"printf('outside dia of worm is,%f mm\n',Dow)\n",
"Tg=n*vr\n",
"Dg=m*Tg\n",
"printf('pitc circle dia of worm gear si,%f mm\n',Dg)\n",
"Dog=Dg+0.8903*pa\n",
"printf('outside dia of worm gear is,%f mm\n',Dog)\n",
"Dt=Dg +0.572*pa\n",
"printf('throat dia is,%f mm\n',Dt)\n",
"b=2.15*pa + 5\n",
"printf('face width is,%f mm\n',b)\n",
"NG=NW/vr\n",
"T=P*60/(2*%pi*NG)//N-m\n",
"WT=2*T*1000/Dg//N\n",
"v=%pi*0.384*Ng/60//m/s\n",
"Cv=6/(6+v)\n",
"y1=0.154-(0.912/Tg)\n",
"fo=84\n",
"//Wt=fo*Cv*b*%pi*m*y1=84*0.72*b*m*0.135\n",
"Wt=84*0.72*59*%pi*m*0.135\n",
"printf('tangtial load actingi is %f N\n',Wt)\n",
"printf('since it is more than load acting on gear ,so desing is safe\n')\n",
"WD=Wt/Cv\n",
"printf('dynamic load is,%f N\n',WD)\n",
"printf('since WD>Wt,design is safe\n')\n",
"WS=168*b*%pi*m*y1\n",
"printf('static loac is ,%f N\n',WS)\n",
"printf('since WS>Wt,design is safe\n')\n",
"K=0.55\n",
"WW=Dg*b*K'\n",
"printf('wear laod is,%f N \n',WW)\n",
"printf('since WW>Wt,design is safe\n')\n",
"rv=%pi*Dw*NW/cos(y)/1000\n",
"u2=0.025+rv/18000\n",
"//tan(q2)=u2\n",
"q2=(%pi/180)*2.548\n",
"eff2=tan(y)/(tan(q2+y))\n",
"Qg=1.25*P*(1-eff2)\n",
"Aw=(%pi/4)*Dw^2//mm^2\n",
"Ag=(%pi/4)*Dg^2\n",
"A=Aw+Ag//mm^2\n",
"//Qd=A*(t2-t1)*378\n",
"Qd=Qg\n",
"//t2-t1=G\n",
"G=Qg/45.4\n",
"printf('temp diff is,%f degree C\n',G)\n",
""
   ]
   }
,
{
		   "cell_type": "markdown",
		   "metadata": {},
		   "source": [
			"## Example 31.4: Machine_design.sce"
		   ]
		  },
  {
"cell_type": "code",
	   "execution_count": null,
	   "metadata": {
	    "collapsed": true
	   },
	   "outputs": [],
"source": [
"//find\n",
"clc\n",
"//solution\n",
"//given\n",
"P=1100//W\n",
"vr=27\n",
"Nw=1440//rpm\n",
"q=(%pi/180)*20\n",
"x=100//mm\n",
"//Dw=(x)^(0.875)/(1.416)//\n",
"printf('pitch circle dia is,%f mm\n',(x)^(0.875)/(1.416))\n",
"printf('pitch cirlce dia is,say 40mm\n')\n",
"Dw=40//mm\n",
"Dg=2*x-Dw//mm\n",
"Tg=2*27//27 is transmission ratio,,from table 31.2\n",
"pa=%pi*Dg/Tg//mm\n",
"pc=pa\n",
"m=pc/%pi//mm//module\n",
"DG=pc*Tg/%pi\n",
"printf('actual pitch is%f mm\n',DG)\n",
"DW=2*x-DG\n",
"printf('actual dia is,%f mm\n',DW)\n",
"b=0.73*DW\n",
"printf('face width is,%f mm\n',b)\n",
"Ng=Nw/vr//rpm\n",
"v=%pi*Dg*Ng/60//m/s'\n",
"Cv=6/(6+v)\n",
"y=0.154-(0.912/Tg)\n",
"fo=84\n",
"Wt=fo*Cv*b*%pi*m*y//N\n",
"P1=Wt*v\n",
"printf('power tran due to tangential load is,%f W\n',P1)\n",
"printf('since power tran is more then given power,hence design is safe\n')\n",
"WD=Wt/Cv//N\n",
"P2=WD*v\n",
"printf('powr due to dynamic load is,%f W\n',P2)\n",
"printf('since power tran is more then given power,hence design is safe\n')\n",
"fe=168\n",
"Ws=fe*b*%pi*m*y//N\n",
"P3=Ws*v\n",
"printf('powr due to static load is,%f W\n',P3)\n",
"P4=3650*(x)^(1.7)/(vr+ 5)\n",
"printf('power due to heat des is,%f W',P4)\n",
"printf('since power tran is more then given power,hence design is safe\n')"
   ]
   }
],
"metadata": {
		  "kernelspec": {
		   "display_name": "Scilab",
		   "language": "scilab",
		   "name": "scilab"
		  },
		  "language_info": {
		   "file_extension": ".sce",
		   "help_links": [
			{
			 "text": "MetaKernel Magics",
			 "url": "https://github.com/calysto/metakernel/blob/master/metakernel/magics/README.md"
			}
		   ],
		   "mimetype": "text/x-octave",
		   "name": "scilab",
		   "version": "0.7.1"
		  }
		 },
		 "nbformat": 4,
		 "nbformat_minor": 0
}
