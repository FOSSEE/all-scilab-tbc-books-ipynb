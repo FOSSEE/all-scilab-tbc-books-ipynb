{
"cells": [
 {
		   "cell_type": "markdown",
	   "metadata": {},
	   "source": [
       "# Chapter 9: Ch9"
	   ]
	},
{
		   "cell_type": "markdown",
		   "metadata": {},
		   "source": [
			"## Example 24.5: Machine_design.sce"
		   ]
		  },
  {
"cell_type": "code",
	   "execution_count": null,
	   "metadata": {
	    "collapsed": true
	   },
	   "outputs": [],
"source": [
"clc\n",
"//solution\n",
"//given\n",
"P=15000//W\n",
"N=900//rpm\n",
"n=4\n",
"R=0.15//m\n",
"u=0.25\n",
"//let m be the mass\n",
"w=2*%pi*N/60//rad/s\n",
"w1=(3/4)*w//rad/s\n",
"r=0.12//m\n",
"//Pc=m*w^2*r=1066*m//N\n",
"//Ps=m*w1^2*r=600m//N\n",
"T=P*60/(2*%pi*N)//N-m\n",
"//T=u*(Pc-Ps)*R*n=70m\n",
"m=T/70//kg\n",
"printf('mass of shoes is,%f kg\n',m)\n",
"a=%pi/3\n",
"l=R*a*1000//mm\n",
"//A=l*n=157*b//mm^2\n",
"//F=A*p=15.7*b//N\n",
"//15.7*b=Pc-Ps=466m\n",
"b=466*m/(15.7)//mm\n",
"printf('face width is,%f mm\n',b)"
   ]
   }
,
{
		   "cell_type": "markdown",
		   "metadata": {},
		   "source": [
			"## Example 9.10: Machine_design.sce"
		   ]
		  },
  {
"cell_type": "code",
	   "execution_count": null,
	   "metadata": {
	    "collapsed": true
	   },
	   "outputs": [],
"source": [
"clc\n",
"//soltuion\n",
"//given\n",
"P=2.5//N/mm^2\n",
"D=1600//mm\n",
"ft=75//N/mm^2\n",
"T=60//N/mm^2\n",
"fc=125//N/mm^2\n",
"//design of longitudinal joint\n",
"t=(P*D)/(2*ft)+1//mm\n",
"d=6*sqrt(t)//m\n",
"pi=3.14\n",
"//choose standard avlue fromtable 9.3\n",
"//let p be pitch\n",
"//Pt=(p-d)*t*ft//N//tearing resistance of plate\n",
"//Pt=(p-34.5)*2100//N\n",
"Ps=4*1.875*(pi/4)*d^2*T+(pi/4)*d^2*T//N//shearing resistance of rivet//N//shearing resistance of rivet\n",
"//Ps=Pt\n",
"//2100*(p-34.5)=Ps\n",
"//p=Ps/(2100)+34.5//mm\n",
"//pmax=C*t+41.28=220//mm\n",
"//since p&gt;pmax,therefore\n",
"p=220//mm\n",
"p'=220/2//mm\n",
"d1=0.2*p + 1.15*d//mm/diatnce between outtr and row and next row\n",
"d2=0.165*p+0.67*d//mm//distance ebtween inner row for zigzag riveting\n",
"t1=0.75*t//mm//thickness of wide strap\n",
"t2=0.625*t//mm//thickness of narrow strap\n",
"m=1.5*d//mm//margin\n",
"Pt=(p-d)*t*ft//N\n",
"Pc=5*d*t*fc//N//crushing resistance of rivet\n",
"P=p*t*ft//N//strength of the unriveted\n",
"//joint may also fail due to combine teARING AND shearing reistance\n",
"Pts=(p-2*d)*t*ft+(pi/4)*d^2*T//N\n",
"//eff=(least of Pt,Ps,Pts)/P\n",
"eff=Pts/P//least is Ps\n",
"//desing for circumferential joint\n",
"//let n be number of rivets\n",
"//shearign resistance of revets=total shearing load acting on circumferential joint\n",
"//n*pi*d^2*T/4=pi*D^2*P/4\n",
"//n=D^2*P/(d^2*T)//89.6 say 90\n",
"n=90\n",
"n1=90/2//number of rivets per row\n",
"//p1=pi(D+t)/n'//\n",
"//p1=113.7,say 140mm standard value'\n",
"p1=140//mm\n",
"effj=(p1-d)/(p1)\n",
"d3=0.33*p1+0.67*d//dis btw rows of rivets for zigzag\n",
"m1=1.5*d\n",
"printf('calcultion for longitudinal joint')\n",
"printf('the eff is,%f\n',eff)\n",
"printf('the pitch is,%f mm\n',p)\n",
"printf('the thickness of wide strap is,%f mm\n',t1)\n",
"printf('the thickness of narrow strap is,%f mm\n',t2)\n",
"printf('the diameter of rivets is,%f mm',d)\n",
"printf('the margine s,%f mm\n',m)\n",
"printf('the distance btw outer and next row is,%f mm\n',d1)\n",
"printf('the distance btw inner rows is,%f mm\n',d2)\n",
"printf('calculation for circumferencial joint\n')\n",
"printf('the num of rivets is,%f\n',n)\n",
"printf('the number of rivets per rwo for cercumferencial joint is,%f\n',n1)\n",
"printf('the distance btw rows of rivets for zigzag riveting is,%f mm\n',d3)\n",
"printf('the margin is,%f mm',m1)"
   ]
   }
,
{
		   "cell_type": "markdown",
		   "metadata": {},
		   "source": [
			"## Example 9.11: Machine_design.sce"
		   ]
		  },
  {
"cell_type": "code",
	   "execution_count": null,
	   "metadata": {
	    "collapsed": true
	   },
	   "outputs": [],
"source": [
"//solution\n",
"//given\n",
"b=200//mm\n",
"t=12.5//mm\n",
"ft=80//N/mm^2\n",
"T=65//N/mm^2\n",
"fc=160//N/mm^2\n",
"pi=3.14\n",
"printf('the value of d is,%f mm\n',6*sqrt(t))\n",
"//standard value of d=21.5mm\n",
"d=21.5//mm\n",
"//let n be number of rivets\n",
"Pt=(b-d)*t*ft//N\n",
"Ps=1.75*(pi/4)*d^2*T//N\n",
"Pc=d*t*fc//N\n",
"n=Pt/Ps\n",
"t1=0.75*t//mm\n",
"Pt1=(b-d)*t*ft//N\n",
"Pt2=(b-2*d)*t*ft+Ps//N\n",
"Pt3=(b-2*d)*t*ft+(3*Ps)//N\n",
"Ps5=5*Ps//N//for 5 rivets\n",
"Pc5=5*Pc//N//for 5 rivets\n",
"P=b*t*ft//N\n",
"printf('the value of forces is,%f N\n,%f N\n,%f N\n,%f N\n,%f N\n',Pt1,Pt2,Pt3,Ps5,Pc5)\n",
"//eff=least(Pt1.Pt2,Pt3,Ps5,Pc5)/P\n",
"eff=Pt1/P//since Pt1 is least\n",
"p=3*d +5//mm//pitch\n",
"m=1.5*d//mm\n",
"d1=2.5*d//mm//dis btw rows of rivets\n",
"printf('the diameter is,%f mm\n',d)\n",
"printf('the nuber of rivets is,%f\n',n)\n",
"printf('the thickness of strap is,%f mm\n',t1)\n",
"printf('the eff is,%f\n',eff)\n",
"printf('the pitch is,%f mm\n',p)\n",
"printf('the marginl pitch is,%f mm\n',m)\n",
"printf('the dis btw row is,%f mm',d1)"
   ]
   }
,
{
		   "cell_type": "markdown",
		   "metadata": {},
		   "source": [
			"## Example 9.12: Machine_design.sce"
		   ]
		  },
  {
"cell_type": "code",
	   "execution_count": null,
	   "metadata": {
	    "collapsed": true
	   },
	   "outputs": [],
"source": [
"clc\n",
"//solution\n",
"//given\n",
"b=350//mm\n",
"t=20//mm\n",
"ft=90//N/mm^2\n",
"T=60//N/mm^2\n",
"fc=150//N/mm^2\n",
"printf('the value of d is,%f mm\n',6*sqrt(t))\n",
"//d=26.8//mm\n",
"//standard value is d=29mm using table 9.7\n",
"d=29//mm\n",
"Pt=(b-d)*t*ft//N\n",
"Ps=1.75*(pi/4)*d^2*T//N\n",
"Pc=d*t*fc//N\n",
"n=Pt/Ps\n",
"t1=0.75*t//mm\n",
"Pt1=(b-d)*t*ft//N\n",
"Pt2=(b-2*d)*t*ft+Ps//N\n",
"Pt3=(b-3*d)*t*ft+(3*Ps)//N\n",
"Pt4=(b-3*d)*t*ft+(6*Ps)//N\n",
"Ps9=9*Ps//N//for 9 rivets\n",
"Pc9=9*Pc//N//for 9 rivets\n",
"P=b*t*ft//N\n",
"printf('the value of forces is,%f N\n,%f N\n,%f N\n,%f N\n,%f N\n,%f N\n',Pt1,Pt2,Pt3,Pt4,Ps9,Pc9)\n",
"//eff=least(Pt1.Pt2,Pt3,Pt4,Ps9,Pc9)/P\n",
"eff=Pt1/P//since Pt1 is least\n",
"p=3*d +5//mm//pitch\n",
"m=1.5*d//mm\n",
"d1=2.5*d//mm//dis btw rows of rivets\n",
"printf('the diameter is,%f mm\n',d)\n",
"printf('the nuber of rivets is,%f\n',n)\n",
"printf('the thickness of strap is,%f mm\n',t1)\n",
"printf('the eff is,%f\n',eff)\n",
"printf('the pitch is,%f mm\n',p)\n",
"printf('the marginl pitch is,%f mm\n',m)\n",
"printf('the dis btw row is,%f mm',d1)"
   ]
   }
,
{
		   "cell_type": "markdown",
		   "metadata": {},
		   "source": [
			"## Example 9.13: Machine_design.sce"
		   ]
		  },
  {
"cell_type": "code",
	   "execution_count": null,
	   "metadata": {
	    "collapsed": true
	   },
	   "outputs": [],
"source": [
"clc\n",
"//solution\n",
"//given\n",
"b=350//mm\n",
"t=20//mm\n",
"ft=90//N/mm^2\n",
"T=60//N/mm^2\n",
"fc=150//N/mm^2\n",
"printf('the value of d is,%f mm\n',6*sqrt(t))\n",
"//d=26.8//mm\n",
"//standard value is d=29mm using table 9.7\n",
"d=29//mm\n",
"Pt=(b-d)*t*ft//N\n",
"Ps=1.75*(pi/4)*d^2*T//N\n",
"Pc=d*t*fc//N\n",
"n=Pt/Ps\n",
"t1=0.75*t//mm\n",
"Pt1=(b-d)*t*ft//N\n",
"Pt2=(b-2*d)*t*ft+Ps//N\n",
"Pt3=(b-3*d)*t*ft+(3*Ps)//N\n",
"Pt4=(b-3*d)*t*ft+(6*Ps)//N\n",
"Ps9=9*Ps//N//for 9 rivets\n",
"Pc9=9*Pc//N//for 9 rivets\n",
"P=b*t*ft//N\n",
"printf('the value of forces is,%f N\n,%f N\n,%f N\n,%f N\n,%f N\n,%f N\n',Pt1,Pt2,Pt3,Pt4,Ps9,Pc9)\n",
"//eff=least(Pt1.Pt2,Pt3,Pt4,Ps9,Pc9)/P\n",
"eff=Pt1/P//since Pt1 is least\n",
"p=3*d +5//mm//pitch\n",
"m=1.5*d//mm\n",
"d1=2.5*d//mm//dis btw rows of rivets\n",
"printf('the diameter is,%f mm\n',d)\n",
"printf('the nuber of rivets is,%f\n',n)\n",
"printf('the thickness of strap is,%f mm\n',t1)\n",
"printf('the eff is,%f\n',eff)\n",
"printf('the pitch is,%f mm\n',p)\n",
"printf('the marginl pitch is,%f mm\n',m)\n",
"printf('the dis btw row is,%f mm',d1)"
   ]
   }
,
{
		   "cell_type": "markdown",
		   "metadata": {},
		   "source": [
			"## Example 9.14: Machine_design.sce"
		   ]
		  },
  {
"cell_type": "code",
	   "execution_count": null,
	   "metadata": {
	    "collapsed": true
	   },
	   "outputs": [],
"source": [
"clc\n",
"//refer fig 9.24,9.25\n",
"//solution\n",
"//given\n",
"t=25//mm\n",
"P=50000//N\n",
"e=400//mm\n",
"n=7\n",
"T=65//N/mm^2\n",
"fc=120//N/mm^2\n",
"//let xb and yb be center of gravity\n",
"//xb=(x1+x2+x3+x4+x5+x6+x7)/7\n",
"xb=(100+200+200+200)/7//mm\n",
"//yb=(y1+y2+y3+y4+y5+y6+y7)/7\n",
"yb=(200+200+200+100+100)/7//mm\n",
"Ps=P/n\n",
"T1=P*e//turning moment due to P//N-mm\n",
"//l1=l3\n",
"l1=sqrt(100^2+(200-yb)^2)//mm\n",
"l3=sqrt(100^2+(200-yb)^2)//mm\n",
"l2=200-yb//mm\n",
"//l4=l7\n",
"l4=sqrt(100^2+(yb-100)^2)//mm\n",
"l7=sqrt(100^2+(yb-100)^2)//mm\n",
"//l5=l6\n",
"l5=sqrt(100^2+yb^2)//mm\n",
"l6=sqrt(100^2+yb^2)//mm\n",
"//eqauting the moments equal to each other \n",
"//P*e=(F1/l1)*[l1^2+l2^2+l3^2+l4^2+l5^2+l6^2+l7^2]\n",
"F1=(P*e*l1)/(l1^2+l2^2+l3^2+l4^2+l5^2+l6^2+l7^2)//N\n",
"F2=F1*l2/l1//N\n",
"F3=F1*l3/l1//N\n",
"F4=F1*l4/l1//N\n",
"F5=F1*l5/l1//N\n",
"F6=F1*l6/l1//N\n",
"F7=F1*l7/l1//N\n",
"//cos(q1)=100/l3=0.76=a\n",
"//cos(q4)=100/l4=0.99=b\n",
"//cos(q5)=100/l5=0.658=c\n",
"a=0.76\n",
"b=0.99\n",
"c=0.658\n",
"R3=sqrt(Ps^2+F3^2+2*F3*Ps*a)\n",
"R4=sqrt(Ps^2+F4^2+2*F4*Ps*b)\n",
"R5=sqrt(Ps^2+F5^2+2*F5*Ps*c)\n",
"printf('the value R3,R4,R5 are respctively,%f N\n,%f N\n,%f N\n',R3,R4,R5)\n",
"//let d be diameter \n",
"pi=3.14\n",
"//from above we see that max lod is R5,therefore R5=P\n",
"//R5=(pi/4)*d^2*T\n",
"d=sqrt(R5*4/(pi*T))//mm\n",
"Lc=R5/(d*t)//max crushing load\n",
"printf('the  cordinates of centre of gravity are,%f mm\n,%f mm \n',xb,yb)\n",
"printf('the direct load is,%f N\n',Ps)\n",
"printf('the turning moment is,%f N-mm\n',T1)\n",
"printf('the values of Li respectively is,%f mm\n,%f mm\n,%f mm\n,%f mm\n,%f mm\n,%f mm\n,%f mm\n',l1,l2,l3,l4,l5,l6,l7)\n",
"printf('the shear loads(Forces F) acting are,%f mm\n,%f mm\n,%f mm\n,%f mm\n,%f mm\n,%f mm\n,%f mm\n',F1,F2,F3,F4,F5,F6,F7)\n",
"printf('the crushing stress is,%f N/mm^2\n ',Lc)\n",
"printf('the diameter is ,%f mm\n',d)\n",
"printf('since crushing load calculted is less then 120 N/mm^2,therefore desing is safe ')"
   ]
   }
,
{
		   "cell_type": "markdown",
		   "metadata": {},
		   "source": [
			"## Example 9.15: Machine_design.sce"
		   ]
		  },
  {
"cell_type": "code",
	   "execution_count": null,
	   "metadata": {
	    "collapsed": true
	   },
	   "outputs": [],
"source": [
"clc\n",
"//refer fig 9.24,9.25\n",
"//solution\n",
"//given\n",
"t=25//mm\n",
"P=50000//N\n",
"e=400//mm\n",
"n=7\n",
"T=65//N/mm^2\n",
"fc=120//N/mm^2\n",
"//let xb and yb be center of gravity\n",
"//xb=(x1+x2+x3+x4+x5+x6+x7)/7\n",
"xb=(100+200+200+200)/7//mm\n",
"//yb=(y1+y2+y3+y4+y5+y6+y7)/7\n",
"yb=(200+200+200+100+100)/7//mm\n",
"Ps=P/n\n",
"T1=P*e//turning moment due to P//N-mm\n",
"//l1=l3\n",
"l1=sqrt(100^2+(200-yb)^2)//mm\n",
"l3=sqrt(100^2+(200-yb)^2)//mm\n",
"l2=200-yb//mm\n",
"//l4=l7\n",
"l4=sqrt(100^2+(yb-100)^2)//mm\n",
"l7=sqrt(100^2+(yb-100)^2)//mm\n",
"//l5=l6\n",
"l5=sqrt(100^2+yb^2)//mm\n",
"l6=sqrt(100^2+yb^2)//mm\n",
"//eqauting the moments equal to each other \n",
"//P*e=(F1/l1)*[l1^2+l2^2+l3^2+l4^2+l5^2+l6^2+l7^2]\n",
"F1=(P*e*l1)/(l1^2+l2^2+l3^2+l4^2+l5^2+l6^2+l7^2)//N\n",
"F2=F1*l2/l1//N\n",
"F3=F1*l3/l1//N\n",
"F4=F1*l4/l1//N\n",
"F5=F1*l5/l1//N\n",
"F6=F1*l6/l1//N\n",
"F7=F1*l7/l1//N\n",
"//cos(q1)=100/l3=0.76=a\n",
"//cos(q4)=100/l4=0.99=b\n",
"//cos(q5)=100/l5=0.658=c\n",
"a=0.76\n",
"b=0.99\n",
"c=0.658\n",
"R3=sqrt(Ps^2+F3^2+2*F3*Ps*a)\n",
"R4=sqrt(Ps^2+F4^2+2*F4*Ps*b)\n",
"R5=sqrt(Ps^2+F5^2+2*F5*Ps*c)\n",
"printf('the value R3,R4,R5 are respctively,%f N\n,%f N\n,%f N\n',R3,R4,R5)\n",
"//let d be diameter \n",
"pi=3.14\n",
"//from above we see that max lod is R5,therefore R5=P\n",
"//R5=(pi/4)*d^2*T\n",
"d=sqrt(R5*4/(pi*T))//mm\n",
"Lc=R5/(d*t)//max crushing load\n",
"printf('the  cordinates of centre of gravity are,%f mm\n,%f mm \n',xb,yb)\n",
"printf('the direct load is,%f N\n',Ps)\n",
"printf('the turning moment is,%f N-mm\n',T1)\n",
"printf('the values of Li respectively is,%f mm\n,%f mm\n,%f mm\n,%f mm\n,%f mm\n,%f mm\n,%f mm\n',l1,l2,l3,l4,l5,l6,l7)\n",
"printf('the shear loads(Forces F) acting are,%f mm\n,%f mm\n,%f mm\n,%f mm\n,%f mm\n,%f mm\n,%f mm\n',F1,F2,F3,F4,F5,F6,F7)\n",
"printf('the crushing stress is,%f N/mm^2\n ',Lc)\n",
"printf('the diameter is ,%f mm\n',d)\n",
"printf('since crushing load calculted is less then 120 N/mm^2,therefore desing is safe ')"
   ]
   }
,
{
		   "cell_type": "markdown",
		   "metadata": {},
		   "source": [
			"## Example 9.16: Machine_design.sce"
		   ]
		  },
  {
"cell_type": "code",
	   "execution_count": null,
	   "metadata": {
	    "collapsed": true
	   },
	   "outputs": [],
"source": [
"clc\n",
"//solution\n",
"//given\n",
"//refer fig 9.29 and 9.30\n",
"T=100//N/mm^2\n",
"n=4\n",
"d=20//mm\n",
"//Ps=P/4=0.25*P//N\n",
"e=100//mm\n",
"//T1=P*e//turning moment\n",
"//la=ld=200=100//mm\n",
"//lb=lc=100//mm\n",
"//eqauting the moments equal to each other \n",
"//P*e=(Fa/la)*[la^2+lb^2+lc^2+ld^2]\n",
"//P*e=(Fa/la)*[2*300^2+2*100^2]\n",
"//Fa=P*100*3/2000//N\n",
"//Fa=0.15*P//N\n",
"//Fb=Fa*lb/la=0.05*P//N\n",
"//Fc=Fa*lc/la=0.05*P//N\n",
"//Fd=Fa*ld/la=0.15*P//N\n",
"//Ra=Ps-Fa=0.1*P\n",
"//Rb=Ps-Fb=0.20*P\n",
"//Rc=Ps+Fc=0.30*p\n",
"//Rd=Ps+Fd=0.40*P//N\n",
"//max load is Rd\n",
"//therfore\n",
"pi=3.14\n",
"//Rd=(pi/4)*T*d^2\n",
"//0.40*P=(pi/4)*T*d^2\n",
"P=(pi/4)*T*d^2/0.40\n",
"printf('the value of force P is,%f N',P)"
   ]
   }
,
{
		   "cell_type": "markdown",
		   "metadata": {},
		   "source": [
			"## Example 9.17: Machine_design.sce"
		   ]
		  },
  {
"cell_type": "code",
	   "execution_count": null,
	   "metadata": {
	    "collapsed": true
	   },
	   "outputs": [],
"source": [
"clc\n",
"//solution\n",
"//given\n",
"n=6\n",
"P=60000//N\n",
"e=200//mm\n",
"T=150//N/mm^2\n",
"Ps=P/n\n",
"//l1=l3=l4=l6\n",
"l1=sqrt(75^2+50^2)//mm\n",
"l3=sqrt(75^2+50^2)//mm\n",
"l4=sqrt(75^2+50^2)//mm\n",
"l6=sqrt(75^2+50^2)//mm\n",
"l2=50//mm\n",
"l5=50//mm\n",
"//eqauting the moments equal to each other \n",
"//P*e=(F1/l1)*[l1^2+l2^2+l3^2+l4^2+l5^2+l6^2]\n",
"//P*e=(F1/l1)*[4*l1^2+2*l2^2]\n",
"F1=(P*e*l1)/(4*l1^2+2*l2^2)//N\n",
"F2=F1*l2/l1//N\n",
"F3=F1*l3/l1//N\n",
"F4=F1*l4/l1//N\n",
"F5=F1*l5/l1//N\n",
"F6=F1*l6/l1//N\n",
"//cos(q1)=50/l1=0.555=a\n",
"a=0.555\n",
"R3=sqrt(Ps^2+F3^2+2*F3*Ps*a)\n",
"R2=Ps+F2//N\n",
"printf('the value of forces is,%f N\n,%f N\n',R2,R3)\n",
"//R3&gt;R2\n",
"pi=3.14\n",
"P=(pi/4)*d^2*T\n",
"//R3=P\n",
"d=sqrt(R3/117.8)//mm\n",
"printf('the value of diameter is,%f mm\n',d)\n",
"printf('the standard diameter of is 19.5 mm ')"
   ]
   }
,
{
		   "cell_type": "markdown",
		   "metadata": {},
		   "source": [
			"## Example 9.18: Machine_design.sce"
		   ]
		  },
  {
"cell_type": "code",
	   "execution_count": null,
	   "metadata": {
	    "collapsed": true
	   },
	   "outputs": [],
"source": [
"clc\n",
"//solution\n",
"//given'\n",
"n=4\n",
"Ab=60//mm\n",
"Cd=60//mm\n",
"Bc=60//mm\n",
"P=100000//N\n",
"Ef=150//mm\n",
"q=30//deg\n",
"Ty=240//N/mm^2\n",
"Fs=1.5\n",
"Fb=125//N/mm^2\n",
"b=240//mm\n",
"//let d be diameter of rivet\n",
"Ps=P/n//N\n",
"e=Ef*sin(q)//mm\n",
"la=60+30//mm\n",
"ld=90//mm\n",
"//la=ld\n",
"//lb=lc\n",
"lb=30//mm\n",
"lc=30//mm\n",
"//eqauting the moments equal to each other \n",
"//P*e=(Fa/la)*[la^2+lb^2+lc^2+ld^2]\n",
"//10000*75=(Fa/la)*[2*90^2+2*30^2]\n",
"Fa=7500*1000*la/(2*90^2+2*30^2)//N\n",
"Fb=Fa*lb/la//N\n",
"Fc=Fa*lc/la//N\n",
"Fd=Fa*ld/la//N\n",
"a=-sqrt(3)/2//deg\n",
"b=-sqrt(3)/2//deg\n",
"c=sqrt(3)/2\n",
"d=sqrt(3)/2\n",
"Ra=sqrt(Ps^2+ Fa^2+ 2*Fa*Ps*a)\n",
"Rb=sqrt(Ps^2+ Fb^2+ 2*Fb*Ps*b)\n",
"Rc=sqrt(Ps^2+ Fc^2+ 2*Fc*Ps*c)\n",
"Rd=sqrt(Ps^2+ Fd^2+ 2*Fd*Ps*d)\n",
"printf('the value of Ps is,%f N\n ',Ps)\n",
"printf('the value fo forces  rae,%f N\n,%f n\n,%f n\n,%f N\n',Fa,Fb,Fc,Fd)\n",
"printf('the value of Ra,Rb,Rc and Rd are,%f N\n,%f N\n,%f N\n,%f N\n',Ra,Rb,Rc,Rd)\n",
"//since greatest is Rd,therfore Rd=P\n",
"pi=3.14\n",
"//P=(pi/4)*d^2*Ty/Fs//N\n",
"d1=sqrt(Rd/125.7)\n",
"printf('the diametr of rivet is %f mm\n',d1)\n",
"printf('choosing th standard value od d as 23.5 mm\n')"
   ]
   }
,
{
		   "cell_type": "markdown",
		   "metadata": {},
		   "source": [
			"## Example 9.1: Machine_design.sce"
		   ]
		  },
  {
"cell_type": "code",
	   "execution_count": null,
	   "metadata": {
	    "collapsed": true
	   },
	   "outputs": [],
"source": [
"clc\n",
"//solution\n",
"//given\n",
"t=15//mm\n",
"d=25//mm\n",
"p=75//mm\n",
"ftu=400//N/mm^2\n",
"tu=320//N/mm^2\n",
"fcu=640//N/mm^2\n",
"pi=3.14\n",
"n=2\n",
"FS=4//factor of safety\n",
"//min foce per pitch which will rupture the joint\n",
"Ptu=(p-d)*t*ftu//N//ultimate teraing reisistance\n",
"Psu=n*(pi/4)*d^2^tu//N//ultimate shear stress\n",
"Pcu=n*d*t*fcu//N//ultimate crushing stress\n",
"//actual stress produced in plates and rivets\n",
"Ac=Ptu/4//N\n",
"//we know\n",
"//Ac=(p-d)*t*fta\n",
"fta=Ac/((p-d)*t)//N/mm^2\n",
"Ta=Ac*4/(n*pi*d^2)//N/mm^2\n",
"fca=Ac/(n*d*t)//N/mm^2\n",
"printf('the min force required is,%f N\n',Ptu)\n",
"printf('the actual tearing stress acting is,%f N/mm^2\n',fta)\n",
"printf('the actual shering stress acting is,%f N/mm^2\n',Ta)\n",
"printf('thr crushing resistance stress is ,%f N/mm^2',fca)"
   ]
   }
,
{
		   "cell_type": "markdown",
		   "metadata": {},
		   "source": [
			"## Example 9.2: Machine_design.sce"
		   ]
		  },
  {
"cell_type": "code",
	   "execution_count": null,
	   "metadata": {
	    "collapsed": true
	   },
	   "outputs": [],
"source": [
"clc\n",
"//solution\n",
"//given\n",
"t=6//mm\n",
"d=20//mm\n",
"ft=120//N/mm^2\n",
"T=90//N/mm^2\n",
"fc=180//N/mm^2\n",
"p=50//mm\n",
"pi=3.14\n",
"Pt=(p-d)*t*ft//N//tearing resistance of plate\n",
"Ps=(pi/4)*d^2*T//N//shearing resistance of rivet\n",
"Pc=d*t*fc//N//crushing resistance of rivet\n",
"P=p*t*ft//N//strength of the unriveted\n",
"//eff=(least of Pt,Ps,Pc)/P\n",
"eff=Pt/P//least is Pt\n",
"p1=65//mm\n",
"Pt1=(p1-d)*t*ft//N\n",
"Ps1=(2*pi/4)*d^2*T//N\n",
"Pc1=2*d*t*fc//N\n",
"P2=p1*t*ft//N\n",
"printf('the value of forces are,%f N\n,%f N\n,%f N\n',Pt1,Ps1,Pc1)\n",
"//eff1=least of Pt1,Ps1,Pc1/P2\n",
"eff1=Pt1/P2//least is Pt1\n",
"printf('the efficiency is first case is,%f\n',eff)\n",
"printf('the eff is second case is,%f',eff1)"
   ]
   }
,
{
		   "cell_type": "markdown",
		   "metadata": {},
		   "source": [
			"## Example 9.3: Machine_design.sce"
		   ]
		  },
  {
"cell_type": "code",
	   "execution_count": null,
	   "metadata": {
	    "collapsed": true
	   },
	   "outputs": [],
"source": [
"clc\n",
"//solution\n",
"//given\n",
"t=10//mm\n",
"d=25//mm\n",
"p=100//mm\n",
"ft=120//N/mm^2\n",
"T=100//N/mm^2\n",
"fc=150//N/mm^2\n",
"pi=3.14\n",
"Pt=(p-d)*t*ft//N//tearing resistance of plate\n",
"Ps=(2*pi/4)*d^2*T//N//shearing resistance of rivet\n",
"Pc=2*d*t*fc//N//crushing resistance of rivet\n",
"P=p*t*ft//N//strength of the unriveted\n",
"//eff=(least of Pt,Ps,Pc)/P\n",
"eff=Pc/P//least is Pc\n",
"printf('the eff is,%f',eff)"
   ]
   }
,
{
		   "cell_type": "markdown",
		   "metadata": {},
		   "source": [
			"## Example 9.4: Machine_design.sce"
		   ]
		  },
  {
"cell_type": "code",
	   "execution_count": null,
	   "metadata": {
	    "collapsed": true
	   },
	   "outputs": [],
"source": [
"clc\n",
"//solution\n",
"//given\n",
"t=13//mm\n",
"ft=80//N/mm^2\n",
"T=60//N/mm^2\n",
"fc=120//N/mm^2\n",
"pi=3.14\n",
"d=6*sqrt(t)//mm//dia of rivet\n",
"//use standard value from table 9.3\n",
"//let p be the picth of rivets\n",
"//Pt=(p-d)*t*ft=(p-23)*1040//N//tearing resistance of plate\n",
"Ps=2*(pi/4)*d^2*T//N//shearing resistance of rivet\n",
"//p-23=Ps/1040\n",
"p=23+(Ps/1040)//mm\n",
"//check the limits,if p&lt;=pmax..then it is safe design\n",
"//pmax=C*t+41.28//mm=75.28mm which is more then p\n",
"pb=0.33*p+ 0.67*d//distance btw rivets\n",
"m=1.58*d//margin\n",
"Pt=(p-d)*t*ft//N//tearing resistance of plate\n",
"Ps=(2*pi/4)*d^2*T//N//shearing resistance of rivet\n",
"Pc=2*d*t*fc//N//crushing resistance of rivet\n",
"P=p*t*ft//N//strength of the unriveted\n",
"//eff=(least of Pt,Ps,Pc)/P\n",
"printf('the value of forces are,%f N\n,%f N\n,%f N\n',Pt,Ps,Pc)\n",
"eff=Ps/P//least is Ps\n",
"printf('the eff is,%f',eff)"
   ]
   }
,
{
		   "cell_type": "markdown",
		   "metadata": {},
		   "source": [
			"## Example 9.5: Machine_design.sce"
		   ]
		  },
  {
"cell_type": "code",
	   "execution_count": null,
	   "metadata": {
	    "collapsed": true
	   },
	   "outputs": [],
"source": [
"clc\n",
"//solution\n",
"//given\n",
"t=7//mm\n",
"pi=3.14\n",
"ft=90//N/mm^2\n",
"T=60//N/mm^2\n",
"fc=120//N/mm^2\n",
"//let d be dia,since t&lt;=8mm therefore d will be obtainned by equating shearing resistance to crushing\n",
"//Ps=Pc\n",
"//Ps=3*(pi/4)*d^2*T//N//shearing resistance of rivet\n",
"//Pc=3*d*t*fc//N//crushing resistance of rivet\n",
"//Ps=Pc\n",
"//141.4*d^2=2520*d\n",
"d=2520/141.4//mm\n",
"//let p is pitch\n",
"Ps=141.4*d^2//N\n",
"//Pt=(p-d)*t*ft//N//tearing resistance of plate\n",
"//Ps=Pt\n",
"//630*(p-19)=51045\n",
"//p=(51045/630)+19//mm\n",
"//pmax=C*t+41.28//mm=66mm,since pmax<p..therefore p='pmax=66mm' pb='0.33*p+0.67*d//distance' btw='' the='' rivets='' pt='(p-d)*t*ft' ps='141.4*d^2//N' pc='3*d*t*fc//N' printf('the='' pitch='' is,%f='' mm\n',p)='' distance='' mm',pb)<='' div=''></p..therefore>"
   ]
   }
,
{
		   "cell_type": "markdown",
		   "metadata": {},
		   "source": [
			"## Example 9.6: Machine_design.sce"
		   ]
		  },
  {
"cell_type": "code",
	   "execution_count": null,
	   "metadata": {
	    "collapsed": true
	   },
	   "outputs": [],
"source": [
"clc\n",
"//solution\n",
"//given\n",
"t=10//mm\n",
"ft=80//N/mm^2\n",
"T=60//N/mm^2\n",
"pi=3.14\n",
"//d=6*sqrt(t)//mm\n",
"//choose standard value of d from table 9.3\n",
"d=19//mm\n",
"//let p is pitch of rivets\n",
"Ps=1*1.875*(pi/4)*d^2*T//N//shearing resistance of rivet\n",
"//Pt=(p-d)*t*ft=(p-19)*800//N//tearing resistance of plate\n",
"//Ps=Pt\n",
"p=19+(31900/800)//mm\n",
"//pmax=C*t+41.28=58.78mm whihc is equal to p\n",
"t1=0.625*t//mm\n",
"Pt=(p-d)*t*ft//=(p-19)*800//N\n",
"P=p*t*ft//N//strength of the unriveted\n",
"printf('the value of forces is,%f N\n,%f N\n',Pt,Ps)\n",
"//eff=(least of Pt,Ps)/P\n",
"eff=Ps/P//least is Ps\n",
"printf('the eff is,%f\n',eff)\n",
"printf('the pitch is,%f mm\n',p)\n",
"printf('the thickness of cover plate is,%f mm\n',t1)\n",
"printf('the diameter of rivets is,%f mm',d)"
   ]
   }
,
{
		   "cell_type": "markdown",
		   "metadata": {},
		   "source": [
			"## Example 9.7: Machine_design.sce"
		   ]
		  },
  {
"cell_type": "code",
	   "execution_count": null,
	   "metadata": {
	    "collapsed": true
	   },
	   "outputs": [],
"source": [
"clc\n",
"//solution\n",
"//given\n",
"t=10//mm\n",
"ft=80//N/mm^2\n",
"T=60//N/mm^2\n",
"pi=3.14\n",
"//d=6*sqrt(t)//mm\n",
"//choose standard value of d from table 9.3\n",
"d=19//mm\n",
"//let p is pitch of rivets\n",
"Ps=1*1.875*(pi/4)*d^2*T//N//shearing resistance of rivet\n",
"//Pt=(p-d)*t*ft=(p-19)*800//N//tearing resistance of plate\n",
"//Ps=Pt\n",
"p=19+(31900/800)//mm\n",
"//pmax=C*t+41.28=58.78mm whihc is equal to p\n",
"t1=0.625*t//mm\n",
"Pt=(p-d)*t*ft//=(p-19)*800//N\n",
"P=p*t*ft//N//strength of the unriveted\n",
"printf('the value of forces is,%f N\n,%f N\n',Pt,Ps)\n",
"//eff=(least of Pt,Ps)/P\n",
"eff=Ps/P//least is Ps\n",
"printf('the eff is,%f\n',eff)\n",
"printf('the pitch is,%f mm\n',p)\n",
"printf('the thickness of cover plate is,%f mm\n',t1)\n",
"printf('the diameter of rivets is,%f mm',d)"
   ]
   }
,
{
		   "cell_type": "markdown",
		   "metadata": {},
		   "source": [
			"## Example 9.8: Machine_design.sce"
		   ]
		  },
  {
"cell_type": "code",
	   "execution_count": null,
	   "metadata": {
	    "collapsed": true
	   },
	   "outputs": [],
"source": [
"clc\n",
"//solution\n",
"//given\n",
"t=10//mm\n",
"ft=80//N/mm^2\n",
"T=60//N/mm^2\n",
"pi=3.14\n",
"//d=6*sqrt(t)//mm\n",
"//choose standard value of d from table 9.3\n",
"d=19//mm\n",
"//let p is pitch of rivets\n",
"Ps=1*1.875*(pi/4)*d^2*T//N//shearing resistance of rivet\n",
"//Pt=(p-d)*t*ft=(p-19)*800//N//tearing resistance of plate\n",
"//Ps=Pt\n",
"p=19+(31900/800)//mm\n",
"//pmax=C*t+41.28=58.78mm whihc is equal to p\n",
"t1=0.625*t//mm\n",
"Pt=(p-d)*t*ft//=(p-19)*800//N\n",
"P=p*t*ft//N//strength of the unriveted\n",
"printf('the value of forces is,%f N\n,%f N\n',Pt,Ps)\n",
"//eff=(least of Pt,Ps)/P\n",
"eff=Ps/P//least is Ps\n",
"printf('the eff is,%f\n',eff)\n",
"printf('the pitch is,%f mm\n',p)\n",
"printf('the thickness of cover plate is,%f mm\n',t1)\n",
"printf('the diameter of rivets is,%f mm',d)"
   ]
   }
,
{
		   "cell_type": "markdown",
		   "metadata": {},
		   "source": [
			"## Example 9.9: Machine_design.sce"
		   ]
		  },
  {
"cell_type": "code",
	   "execution_count": null,
	   "metadata": {
	    "collapsed": true
	   },
	   "outputs": [],
"source": [
"clc\n",
"//soltuion\n",
"//given\n",
"D=1250//mm\n",
"P=2.5//N/mm^2\n",
"ftu=420//N/mm^2\n",
"fcu=650//N/mm^2\n",
"Tu=300//N/mm^2\n",
"eff=0.8\n",
"Fs=5//factor of safety\n",
"pi=3.14\n",
"ft=ftu/Fs\n",
"fc=fcu/Fs\n",
"T=Tu/Fs\n",
"t=P*D/(2*ft*eff)//mm//thickness of plate\n",
"d=6*sqrt(t)//mm//DIA\n",
"//Pt=(p-d)*t*ft=(p-31.5)*2100//N//tearing resistance of plate\n",
"Ps=4*1.875*(pi/4)*d^2*T+(pi/4)*d^2*T//=8.5*(pi/4)*d^2*T//N//shearing resistance of rivet//N//shearing resistance of rivet\n",
"//Pt=Ps\n",
"//p-31.5=(397500/2100)\n",
"//p=31.5+(397500/2100)//mm\n",
"//pmax=C*t+41.28//mm=196mm\n",
"//since p&gt;pmax,therefore\n",
"//p=pmax\n",
"p=196//mm\n",
"p'=196/2//mm\n",
"d1=0.2*p+1.15*d//mm//diatnce between outtr and row and next row\n",
"d2=0.165*p+0.67*d//mm//distance ebtween inner row for zigzag riveting\n",
"t1=0.75*t//mm//thickness of wide strap\n",
"t2=0.625*t//mm//thickness of narrow strap\n",
"m=1.5*d//mm//margin\n",
"Pt=(p-d)*t*ft//(p-31.5)*2100//N\n",
"Pc=5*d*t*fc//N//crushing resistance of rivet\n",
"P=p*t*ft//N//strength of the unriveted\n",
"//joint may also fail due to combine teARING AND shearing reistance\n",
"Pts=(p-2*d)*t*ft+(pi/4)*d^2*T//N\n",
"printf('the value of forces calculted are,%f N\n,%f N\n,%f N\n',Pt,Pc,Pts)\n",
"//eff=(least of Pt,Pc,Pts)/P\n",
"eff=Pts/P//least is Ps\n",
"printf('the eff is,%f\n',eff)\n",
"printf('the pitch is,%f mm\n',p)\n",
"printf('the thickness of wide strap is,%f mm\n',t1)\n",
"printf('the thickness of narrow strap is,%f mm\n',t2)\n",
"printf('the diameter of rivets is,%f mm',d)\n",
"printf('the margine s,%f mm\n',m)\n",
"printf('the distance btw outer and next row is,%f mm\n',d1)\n",
"printf('the distance btw inner rows is,%f mm\n',d2)"
   ]
   }
],
"metadata": {
		  "kernelspec": {
		   "display_name": "Scilab",
		   "language": "scilab",
		   "name": "scilab"
		  },
		  "language_info": {
		   "file_extension": ".sce",
		   "help_links": [
			{
			 "text": "MetaKernel Magics",
			 "url": "https://github.com/calysto/metakernel/blob/master/metakernel/magics/README.md"
			}
		   ],
		   "mimetype": "text/x-octave",
		   "name": "scilab",
		   "version": "0.7.1"
		  }
		 },
		 "nbformat": 4,
		 "nbformat_minor": 0
}
