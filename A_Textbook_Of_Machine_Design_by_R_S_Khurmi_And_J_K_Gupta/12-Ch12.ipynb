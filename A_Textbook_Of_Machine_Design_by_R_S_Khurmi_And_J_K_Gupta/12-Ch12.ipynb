{
"cells": [
 {
		   "cell_type": "markdown",
	   "metadata": {},
	   "source": [
       "# Chapter 12: Ch12"
	   ]
	},
{
		   "cell_type": "markdown",
		   "metadata": {},
		   "source": [
			"## Example 12.1: Machine_design.sce"
		   ]
		  },
  {
"cell_type": "code",
	   "execution_count": null,
	   "metadata": {
	    "collapsed": true
	   },
	   "outputs": [],
"source": [
"//desing cotter joint\n",
"clc\n",
"//solution\n",
"//given\n",
"P=30*10^3//N\n",
"ft=50//N/mm^2\n",
"t=35//N/mm^2\n",
"fc=90//N/mm^2//crushing stress\n",
"//let d be diameter of rods\n",
"pi=3.14\n",
"//P=A*ft\n",
"//P=(p1/4)*d^2*ft\n",
"d=sqrt((P*4)/(pi*ft))\n",
"printf('the dia nof cotter jont is,%f mm\n',d)\n",
"//let d2 be dia of spigot and t11 be thickness\n",
"//t11=d2/4\n",
"//P=[{(pi/4)*d2^2}-(d2*t)]*ft=26.8*d2^2\n",
"d2=sqrt(P/26.8)//mm\n",
"t11=d2/4//mm\n",
"//let fc1 be induced crushing stress\n",
"fc1=P/(d2*t11)//N/mm^2\n",
"printf('the induced crushing stress is,%f N/mm^2\n ',fc1)\n",
"printf('since induced stress is greater then 90 N/mm^2,therefore d2 an t are not safe limits,let us find d2 and t by substituitn fc1=90\n')\n",
"//let d2=d21 and t=t1\n",
"//P=d21*t1*fc\n",
"//P=22.5*d2^2\n",
"d21=sqrt(P/22.5)//mm\n",
"t1=d21/4//mm\n",
"printf('the safe values od d2 and t are ,%f mm\n,%f mm\n',d21,t1)\n",
"//let b be width of cotter\n",
"//P=2*b*t1*t=(2*9.12*35)*b\n",
"b=P/(2*9.12*35)//mm\n",
"printf('the width of cotter is,%f mm\n ',b)\n",
"//let d4 be dia of socket collar\n",
"//P=(d4-d2)*t1*fc\n",
"d4=d21+(P/(t1*fc))//mm\n",
"printf('the diametr of socket collar is,%f mm\n',d4)\n",
"//let c be the thickness of socket collar\n",
"//P=2*(d4-d2)*c*t\n",
"c=P/(2*(d4-d21)*t)//mm\n",
"printf('the thicknes of socket collar is,%f mm\n',c)\n",
"//let a be distance from end of slot to end of the rod\n",
"//P=2*a*d21*t\n",
"a=P/(2*d21*t)//mm\n",
"printf('distance from end of slot to end of the rod is,%f mm\n',a)\n",
"\n",
"//let d3 be dia of spigot collar\n",
"//P=(pi/4)*[d3^2-d21^2]*fc\n",
"//d3^2=d21^2 + (P*4)/(90*pi)\n",
"d3=sqrt(d21^2 + (P*4)/(90*pi))//mm\n",
"printf('dia of spigot collar is,%f mm\n',d3)\n",
"//let T1 be thickness of spigot collar\n",
"//P=pi*d21*T1*t\n",
"T1=P/(pi*d21*t)//\n",
"printf('thickness of spigot collar is,%f mm\n',T1)\n",
"printf('let thickness of spigot collar be T1=8mm=T12')\n",
"//let l be lengt of cotter\n",
"T12=8//mm\n",
"printf('the thicness of spigot colar is,%f mm\n',T12)\n",
"l=4*d//mm\n",
"e=1.2*d//mm\n",
"printf('the length of cotter and e is,%f mm\n,%f mm\n',l,e)"
   ]
   }
,
{
		   "cell_type": "markdown",
		   "metadata": {},
		   "source": [
			"## Example 12.2: Machine_design.sce"
		   ]
		  },
  {
"cell_type": "code",
	   "execution_count": null,
	   "metadata": {
	    "collapsed": true
	   },
	   "outputs": [],
"source": [
"clc\n",
"//solution\n",
"//given\n",
"P=60*10^3//N\n",
"ft=60//N/mm^2\n",
"t=70//N/mm^2\n",
"fc=125//N/mm^2\n",
"pi=3.14\n",
"//let d be diameter of rods\n",
"//P=A*ft\n",
"//P=(p1/4)*d^2*ft\n",
"printf('the dia of cotter jont is,%f mm\n',sqrt((P*4)/(pi*ft)))\n",
"printf('the standard dia of cotter jont is d=26mm\n')\n",
"d=36//mm\n",
"//let d2 be dia of spigot and t11 be thickness\n",
"//t11=d2/4\n",
"//P=[{(pi/4)*d2^2}-(d2*t)]*ft=32.13*d2^2\n",
"//d2=sqrt(P/32.13)//mm\n",
"//t11=d2/4//mm\n",
"printf('the dia d2 is,%f mm\n',sqrt(P/32.13))//mm)\n",
"printf('the dia d2 is 44mm\n')\n",
"d2=44//mm\n",
"printf('the thickness is ,%f mm\n',d2/4)\n",
"printf('the thckness is,11mm\n')\n",
"t11=11//mm\n",
"//let fc1 be induced crushing stress\n",
"//fc1=P/(d2*t11)//N/mm^2\n",
"printf('the value of d2 is,%f mm\n',d2)\n",
"printf('the induced crushing stress is,%f N/mm^2\n ',P/(d2*t11))\n",
"printf('the induced crushing stress is say 124 N/mm^2 whihc is less then 125,hence d2 and t11 is correct\n')\n",
"//let b be width of cotter\n",
"//P=2*b*t11*t=(2*11*70)*b\n",
"//b=P/(2*11*70)//mm\n",
"printf('the width of cotter is,%f mm\n ',P/(2*11*70))\n",
"printf('the width of cotter is say 40mm\n')\n",
"//let a be distance from end of slot to end of the rod\n",
"//P=2*a*d21*t\n",
"//a=P/(2*d2*t)//mm\n",
"printf('distance from end of slot to end of the rod is,%f mm\n',P/(2*d2*t))\n",
"printf('distance from end of slot to end of the rod is say 10mm')\n",
"//let c be distance of rod end from its end to cottre hole\n",
"//P=2*(d1-d2)*c*t=2240*c\n",
"c=P/(2240)//mm\n",
"printf('istance of rod end from its end to cottre hole is,%f mm',c)"
   ]
   }
,
{
		   "cell_type": "markdown",
		   "metadata": {},
		   "source": [
			"## Example 12.3: Machine_design.sce"
		   ]
		  },
  {
"cell_type": "code",
	   "execution_count": null,
	   "metadata": {
	    "collapsed": true
	   },
	   "outputs": [],
"source": [
"//solution\n",
"//given\n",
"P=50*10^3//N\n",
"d=75//mm\n",
"ft=25//N/mm^2\n",
"t=20//N/mm^2\n",
"//let B1 be the width of strap\n",
"//B1=d\n",
"B1=75//mm\n",
"//t11=B1/4//mm\n",
"printf('the thickness is,%f mm\n',B1/4)\n",
"printf('the thickness can be taken as 20mm\n ')\n",
"t11=20//mm\n",
"//let t1 be thickness of strap at thnner side\n",
"//P=2*B1*t1*ft//N\n",
"//t1=P/(2*B1*ft)//mm\n",
"printf('the thickness of strap at thinner side is,%f mm\n ',P/(2*B1*ft))\n",
"printf('the thickness can be takn as 15 mm\n')\n",
"t1=15//mm\n",
"//let t3 be thickness of strap at cotter\n",
"//2*t3*(B1-t)=2*t1*B1\n",
"//t3=(2*t1*B1)/(2*(B1-t))//mm\n",
"printf('thickness of strap at cotter is,%f mm\n',(2*t1*B1)/(2*(B1-t)))\n",
"printf('thickness of strap at cotter  say 21mm\n')\n",
"t3=21//mm\n",
"//let B be total width of gib and cotter\n",
"//P=2*B*t11*t\n",
"//B=P/(2*t11*t)//mm\n",
"printf('the total width of gib and cotter is,%f mm\n ',P/(2*t11*t))\n",
"printf('the total width of gib and cotter is say 65mm')"
   ]
   }
,
{
		   "cell_type": "markdown",
		   "metadata": {},
		   "source": [
			"## Example 12.4: Machine_design.sce"
		   ]
		  },
  {
"cell_type": "code",
	   "execution_count": null,
	   "metadata": {
	    "collapsed": true
	   },
	   "outputs": [],
"source": [
"clc\n",
"//solution\n",
"//given\n",
"P=35*10^3//N\n",
"ft=20//N/mm^2\n",
"t=15//N/mm^2\n",
"fc=50//N/mm^2\n",
"//let x be side of square rod\n",
"//P=x^2*ft//N\n",
"//x=sqrt(P/ft)//mm\n",
"printf('the side of square is,%f mm\n',sqrt(P/ft))\n",
"printf('the side of square is,say x=42mm\n')\n",
"//B1=x=42mm\n",
"x=42//mm\n",
"B1=42//mm//width of strap\n",
"//let t1 be thickness\n",
"//t1=B1/4//mm\n",
"printf('the width of strap is ,%f mm\n',B1)\n",
"printf('the thickness of cottar is,%f mm\n',B1/4)\n",
"printf('the thickness of cottar is,say 12mm\n')\n",
"t1=12//mm\n",
"//let B be width of gib and cotter\n",
"//P=2*B*t*t1=360*B\n",
"//B=P/360//mm\n",
"printf('the width of gib and cotter is,%f mm ',P/360)\n",
"printf('The width of gib and cotter is ,say100mm\n')\n",
"B=100//mm\n",
"b1=0.55*B//mm//width of gib\n",
"b=0.45*B//mm//width of cotter\n",
"printf('the width of cotter and gib is,%f mm\n,%f mm\n respctively',b,b1) \n",
"//let t2 be thickness of strap\n",
"//P=2*((x*t2)-(t2*t1))*ft=1200*t2\n",
"//t2=P/1200//mm\n",
"printf('the thickness of strap is,%f mm\n',P/1200)\n",
"printf('the thickness of strap is,Say 30mm\n')\n",
"t2=30//mm\n",
"//P=2*t2*t*fc1=720*fc1\n",
"fc1=P/720//N/mm^2\n",
"printf('the induced crushing stress is,%f N/mm^2\n ',fc1)\n",
"printf('since induced stress is less then  safe limits\n')\n",
"//let l1 be length of rod\n",
"//P=2*l1*x*t\n",
"l1=P/(2*x*t)//mm\n",
"printf('the value of be length of rod is,%f mm\n',l1)\n",
"//let l2 be length of rod in double shear\n",
"//P=2*2*l2*t2*t=1800*l2\n",
"l2=P/1800//mm\n",
"printf('the length of rod in double shear is,%f mm\n',l2)"
   ]
   }
,
{
		   "cell_type": "markdown",
		   "metadata": {},
		   "source": [
			"## Example 12.5: Machine_design.sce"
		   ]
		  },
  {
"cell_type": "code",
	   "execution_count": null,
	   "metadata": {
	    "collapsed": true
	   },
	   "outputs": [],
"source": [
"clc\n",
"//solution\n",
"//given\n",
"P=50*10^3//N\n",
"ft=80//N/mm^2\n",
"t=50//N/mm^2\n",
"fc=100//N/mm^2\n",
"pi=3.14\n",
"//P=(pi/4)*d^2*ft=62.84*d^2\n",
"//d=sqrt(P/62.84)//mm\n",
"printf('the diameter of bolt is,%f mm\n',sqrt(P/62.84))\n",
"printf('the diameter of bolt is,say 30mm\n')\n",
"d=30//mm\n",
"//let d1 be dia of enlarged end of bolt\n",
"//t1 be thickness of cotter\n",
"//t1=d1/4\n",
"//P=[((pi/4)*d1^2)-(d1*t1)]*ft\n",
"//P=42.84*d1^2\n",
"//d1=sqrt(P/42.84)//mm\n",
"printf('the dia of enlarged end of bolt is,%f mm\n ',sqrt(P/42.84))\n",
"printf('the dia of enlarged end of bolt is,say 36mm\n')\n",
"d1=36//mm\n",
"t1=d1/4//mm\n",
"printf('the thickness is,%f mm\n',t1)\n",
"//let b width of cotter\n",
"//P=2*b*t1*t==900*b\n",
"b=P/(900)//mm\n",
"printf('the width of cotter is,%f mm\n',b)"
   ]
   }
,
{
		   "cell_type": "markdown",
		   "metadata": {},
		   "source": [
			"## Example 12.6: Machine_design.sce"
		   ]
		  },
  {
"cell_type": "code",
	   "execution_count": null,
	   "metadata": {
	    "collapsed": true
	   },
	   "outputs": [],
"source": [
"clc\n",
"//solution\n",
"//given\n",
"P=150*10^3//N\n",
"ft=75//N/mm^2\n",
"t=60//N/mm^2\n",
"fc=150//N/mm^2\n",
"pi=3.14\n",
"//let d be dia of rod\n",
"//P=(pi/4)*d^2*ft=59*d^2\n",
"//d=sqrt(P/59)//mm\n",
"printf('the diameter of bolt is,%f mm\n',sqrt(P/59))\n",
"printf('the diameter of bolt is,say 52mm\n')\n",
"d=52//mm\n",
"//d1=d=52//mm//dia of knuckle pin\n",
"d1=52//mm\n",
"d2=2*d//mm//dia of outer eye\n",
"d3=1.5*d//mm//dia of knucle pin head and collar\n",
"T=1.25*d//mm//thickness of single eye\n",
"T1=0.75*d//thickness of fork\n",
"T2=0.5*d//thickness of pin head\n",
"//let t1 be shear stress acting\n",
"//P=(pi/4)*2*d1^2*t1//\n",
"t1=(P*4)/(2*pi*d1^2)//N//mm^2\n",
"printf('the double shear acting is,%f N/mm^2\n',t1)\n",
"printf('since the doblue shear acting is 35.3 which is less then  60,hence desing is safe\n')\n",
"//let ft1 be failur stress\n",
"//P=(d2-d1)*T*ft1\n",
"ft1=P/((d2-d1)*T)//N/mm^2\n",
"printf('the failure stress in tension acting is,%f N/mm^2\n',ft1)\n",
"printf('since the failure stress in tension acting is 44.3 whihc is less then75,hence design is safe\n')\n",
"//let t2 be shear stress in shearing\n",
"//P=(d2-d1)*T*t2\n",
"t2=P/((d2-d1)*T)//N/mm^2\n",
"printf('the shear stress in shearing acting is,%f N/mm^2\n',t2)\n",
"printf('since the shear stress in shearing acting is 44.3 whihc is less then 60,hence design is safe\n')\n",
"//let fc1 be tension in crushing\n",
"//P=d1*T*fc1//N\n",
"fc1=P/(d1*T)//\n",
"printf('the tension in crushing is,%f N/mm^2\n',fc1)\n",
"//let ft2 forked end tension\n",
"//P=(d2-d1)*2*T1*ft2\n",
"ft2=P/((d2-d1)*2*T1)//\n",
"printf('forked end tension si,%f N/mm^2\n',ft2)\n",
"//let t3 be forked end shear\n",
"//P=(d2-d1)*T*t3*2\n",
"t3=P/((d2-d1)*T*2)//N/mm^2\n",
"printf('forked end shear is,%f N/mm^2\n',t3)\n",
"//let fc2 be stress forked end crushing\n",
"fc2=P/(d1*T*2)//N/mm^2\n",
"printf('the stress firked end crushing is,%f N/mm^2',fc2)"
   ]
   }
,
{
		   "cell_type": "markdown",
		   "metadata": {},
		   "source": [
			"## Example 12.7: Machine_design.sce"
		   ]
		  },
  {
"cell_type": "code",
	   "execution_count": null,
	   "metadata": {
	    "collapsed": true
	   },
	   "outputs": [],
"source": [
"clc\n",
"//solution\n",
"//given\n",
"P=150*10^3//N\n",
"ft=75//N/mm^2\n",
"t=60//N/mm^2\n",
"fc=150//N/mm^2\n",
"pi=3.14\n",
"//let d be dia of rod\n",
"//P=(pi/4)*d^2*ft=59*d^2\n",
"//d=sqrt(P/59)//mm\n",
"printf('the diameter of bolt is,%f mm\n',sqrt(P/59))\n",
"printf('the diameter of bolt is,say 52mm\n')\n",
"d=52//mm\n",
"//d1=d=52//mm//dia of knuckle pin\n",
"d1=52//mm\n",
"d2=2*d//mm//dia of outer eye\n",
"d3=1.5*d//mm//dia of knucle pin head and collar\n",
"T=1.25*d//mm//thickness of single eye\n",
"T1=0.75*d//thickness of fork\n",
"T2=0.5*d//thickness of pin head\n",
"//let t1 be shear stress acting\n",
"//P=(pi/4)*2*d1^2*t1//\n",
"t1=(P*4)/(2*pi*d1^2)//N//mm^2\n",
"printf('the double shear acting is,%f N/mm^2\n',t1)\n",
"printf('since the doblue shear acting is 35.3 which is less then  60,hence desing is safe\n')\n",
"//let ft1 be failur stress\n",
"//P=(d2-d1)*T*ft1\n",
"ft1=P/((d2-d1)*T)//N/mm^2\n",
"printf('the failure stress in tension acting is,%f N/mm^2\n',ft1)\n",
"printf('since the failure stress in tension acting is 44.3 whihc is less then75,hence design is safe\n')\n",
"//let t2 be shear stress in shearing\n",
"//P=(d2-d1)*T*t2\n",
"t2=P/((d2-d1)*T)//N/mm^2\n",
"printf('the shear stress in shearing acting is,%f N/mm^2\n',t2)\n",
"printf('since the shear stress in shearing acting is 44.3 whihc is less then 60,hence design is safe\n')\n",
"//let fc1 be tension in crushing\n",
"//P=d1*T*fc1//N\n",
"fc1=P/(d1*T)//\n",
"printf('the tension in crushing is,%f N/mm^2\n',fc1)\n",
"//let ft2 forked end tension\n",
"//P=(d2-d1)*2*T1*ft2\n",
"ft2=P/((d2-d1)*2*T1)//\n",
"printf('forked end tension si,%f N/mm^2\n',ft2)\n",
"//let t3 be forked end shear\n",
"//P=(d2-d1)*T*t3*2\n",
"t3=P/((d2-d1)*T*2)//N/mm^2\n",
"printf('forked end shear is,%f N/mm^2\n',t3)\n",
"//let fc2 be stress forked end crushing\n",
"fc2=P/(d1*T*2)//N/mm^2\n",
"printf('the stress firked end crushing is,%f N/mm^2',fc2)"
   ]
   }
,
{
		   "cell_type": "markdown",
		   "metadata": {},
		   "source": [
			"## Example 12.8: Machine_design.sce"
		   ]
		  },
  {
"cell_type": "code",
	   "execution_count": null,
	   "metadata": {
	    "collapsed": true
	   },
	   "outputs": [],
"source": [
"clc\n",
"//solution\n",
"//given\n",
"P=70*10^3//N\n",
"ftur=420//N/mm^2//for rod//ultimate point stress\n",
"ftup=510//N/mm^2//for pin\n",
"tu=396//N/mm^2\n",
"Fs=6\n",
"ftr=ftur/Fs//N/mm^2//yeild\n",
"t=tu/Fs//N/mm^2\n",
"pi=3.14\n",
"//let d be dia of rod\n",
"//P=(pi/4)*d^2*ftr=55*d^2\n",
"//d=sqrt(P/55)//mm\n",
"printf('the diameter of bolt is,%f mm\n',sqrt(P/55))\n",
"printf('the diameter of bolt is,say 36mm\n')\n",
"d=36//mm\n",
"//d1=d=36//mm//dia of knuckle pin\n",
"d1=36//mm\n",
"d2=2*d//mm//dia of outer eye\n",
"d3=1.5*d//mm//dia of knucle pin head and collar\n",
"T=1.25*d//mm//thickness of single eye\n",
"T1=0.75*d//thickness of fork\n",
"////let t1 be double shear stress acting\n",
"//P=(pi/4)*2*d1^2*t1//\n",
"t1=(P*4)/(2*pi*d1^2)//N//mm^2\n",
"printf('the double shear acting is,%f N/mm^2\n',t1)\n",
"//let ft1 be failur stress\n",
"//P=(d2-d1)*T*ft1\n",
"ft1=P/((d2-d1)*T)//N/mm^2\n",
"printf('the failure stress in tension acting is,%f N/mm^2\n',ft1)\n",
"//let ft2 forked end tension\n",
"//P=(d2-d1)*2*T1*ft2\n",
"ft2=P/((d2-d1)*2*T1)//\n",
"printf('forked end tension si,%f N/mm^2\n',ft2)"
   ]
   }
,
{
		   "cell_type": "markdown",
		   "metadata": {},
		   "source": [
			"## Example 12.9: Machine_design.sce"
		   ]
		  },
  {
"cell_type": "code",
	   "execution_count": null,
	   "metadata": {
	    "collapsed": true
	   },
	   "outputs": [],
"source": [
"clc\n",
"//solution\n",
"//given\n",
"P=50*10^3//N\n",
"ft=75//N/mm^2\n",
"t=37.5//N/mm^2\n",
"pi=3.14\n",
"Pd=1.3*P//N//load for threaded section\n",
"//let d be dia and dc be core dia\n",
"//Pd=(pi/4)*dc^2*ft \n",
"//dc=sqrt((4*Pd)/(pi*ft))//mm\n",
"printf('the core dia is,%f mm\n',sqrt((4*Pd)/(pi*ft)))\n",
"printf('the standard core dai using table 11.1 is 34.093mm\n')\n",
"dc=34.093//mm\n",
"//corrresponding dia d =39\n",
"d=39//mm\n",
"printf('the dia of rod is,%f mm\n',d)\n",
"//let l be length of coupler nut\n",
"//Pd=pi*dc*l*t\n",
"//l=P/(pi*dc*t)//mm\n",
"printf('the length of coupler nut is,%f mm\n',P/(pi*dc*t))\n",
"x1=d//mm\n",
"x2=1.25*d//mm\n",
"printf('the upper and lower limit of lkength are,%f mm\n,%f mm\n',x1,x2)\n",
"printf('taking l=x1=d into calculation\n')\n",
"l=d//mm\n",
"n=1/4//mm\n",
"//Pd=(pi/4)*[d^2-dc^2]*n*l*fc=2750*fc\n",
"fc=(Pd/[(pi/4)*[d^2-dc^2]*n*l])\n",
"printf('the crushing load is,%f N/mm^2\n',fc)\n",
"//let D be outer dia\n",
"//P=(pi/4)*(D^2-d^2)*ft\n",
"D=[{(P*4)/(pi*ft)}+d^2]^0.5//mm\n",
"printf('the outer dai is,%f mm\n',D)\n",
"//let D1 and D2 be outer and inner dia of coupler\n",
"D1=d+6//mm\n",
"D2=[{(P*4)/(pi*ft)}+D1^2]^0.5//mm\n",
"printf('the outer and inner dia are,%f mm\n,%f mm\n',D1,D2)\n",
"//let L be length of coupler\n",
"L=6*d//mm\n",
"printf('the length of coupler is,%f mm\n',L)\n",
"T1=0.75*d//mm\n",
"printf('the thickness of coupler is,%f mm\n ',t1)\n",
"T2=0.5*d//mm\n",
"printf('the thickness of coupler nut is,%f mm\n',T2)"
   ]
   }
],
"metadata": {
		  "kernelspec": {
		   "display_name": "Scilab",
		   "language": "scilab",
		   "name": "scilab"
		  },
		  "language_info": {
		   "file_extension": ".sce",
		   "help_links": [
			{
			 "text": "MetaKernel Magics",
			 "url": "https://github.com/calysto/metakernel/blob/master/metakernel/magics/README.md"
			}
		   ],
		   "mimetype": "text/x-octave",
		   "name": "scilab",
		   "version": "0.7.1"
		  }
		 },
		 "nbformat": 4,
		 "nbformat_minor": 0
}
