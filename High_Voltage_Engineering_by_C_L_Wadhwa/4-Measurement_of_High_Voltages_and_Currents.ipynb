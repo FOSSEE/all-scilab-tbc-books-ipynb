{
"cells": [
 {
		   "cell_type": "markdown",
	   "metadata": {},
	   "source": [
       "# Chapter 4: Measurement of High Voltages and Currents"
	   ]
	},
{
		   "cell_type": "markdown",
		   "metadata": {},
		   "source": [
			"## Example 4.1: Example_1.sce"
		   ]
		  },
  {
"cell_type": "code",
	   "execution_count": null,
	   "metadata": {
	    "collapsed": true
	   },
	   "outputs": [],
"source": [
"//Chapter 4,Example 4.1 Page 144\n",
"clc\n",
"clear\n",
"//Determine the voltge when S=2 cm \n",
"S = 0.2 // cm\n",
"Vb = 24.22*S+6.08*sqrt(S)\n",
"printf (' Vb when S = 2 cm is %f kV \n ',Vb)\n",
"//Determine the voltge when S=1.5 cm \n",
"S = 1.5 // cm\n",
"Vb = 24.22*S+6.08*sqrt(S)\n",
"printf (' Vb when S = 1.5 is %f kV \n ',Vb)\n",
"b = 75\n",
"t = 35\n",
"D = (3.92*b)/(273+t)\n",
"printf (' Air density correction factor= %f \n ',D)\n",
"//Answer may vary due to round off error"
   ]
   }
,
{
		   "cell_type": "markdown",
		   "metadata": {},
		   "source": [
			"## Example 4.2: Example_2.sce"
		   ]
		  },
  {
"cell_type": "code",
	   "execution_count": null,
	   "metadata": {
	    "collapsed": true
	   },
	   "outputs": [],
"source": [
"//Chapter 4,Example 4.2 Page 145\n",
"clc\n",
"clear\n",
"// Determine the potential difference\n",
"AP = 8^2/4 // Area of plate\n",
"d = 4 // mm\n",
"FA = 0.2*9.8*10^-3 // Force of attraction\n",
"V = sqrt(FA*2*36*16*10^-6/(10^-9*16*10^-4))\n",
"printf (' Area of plate =  %f π sq.cm \n ',AP)\n",
"printf (' V = %f V \n ',V)\n",
"//Answers may vary due to round off error"
   ]
   }
,
{
		   "cell_type": "markdown",
		   "metadata": {},
		   "source": [
			"## Example 4.3: Example_3.sce"
		   ]
		  },
  {
"cell_type": "code",
	   "execution_count": null,
	   "metadata": {
	    "collapsed": true
	   },
	   "outputs": [],
"source": [
"//Chapter 4,Example 4.3 Page 145\n",
"clc\n",
"clear\n",
"d = 1 //mm\n",
"V = 10^3 // V\n",
"F = 5*10^-3 // pull between the plates in N\n",
"E = 1/(36) // epselon\n",
"A = 10^2/4 // Area of the plate \n",
"d1 = sqrt((1/(2*F))*E*10^-9*V^2*A*10^-4) // calculation done in the text is wrong\n",
"d21 = 1/(d1*10^4)\n",
"d22 = 1/(d1*10^4+d)\n",
"C = (V*E*10^-9*A*10^-4)*(d21-d22)\n",
"printf (' d = %f mm \n ',d1*10^4)\n",
"printf (' charge in capacitance = %f pF \n ',C*10^12)\n",
"//Answers may vary due to round off error"
   ]
   }
,
{
		   "cell_type": "markdown",
		   "metadata": {},
		   "source": [
			"## Example 4.4: Example_4.sce"
		   ]
		  },
  {
"cell_type": "code",
	   "execution_count": null,
	   "metadata": {
	    "collapsed": true
	   },
	   "outputs": [],
"source": [
"//Chapter 4,Example 4.4 Page 145\n",
"clc\n",
"clear\n",
"Imin = 2*10^-6 // A\n",
"Imax = 35*10^-6 // A\n",
"V = 15*10^4 // V\n",
"w = 2*%pi*1500/60\n",
"Cm = sqrt(2)*Imin/(V*w) \n",
"Ipeak = 2*250/15\n",
"printf (' Cm = %f pF \n ',Cm*10^13)\n",
"printf (' At 250 kV, the current indicated will be = %f μA \n ',Ipeak)\n",
"//Answers vary due to round off error"
   ]
   }
,
{
		   "cell_type": "markdown",
		   "metadata": {},
		   "source": [
			"## Example 4.5: Example_5.sce"
		   ]
		  },
  {
"cell_type": "code",
	   "execution_count": null,
	   "metadata": {
	    "collapsed": true
	   },
	   "outputs": [],
"source": [
"//Chapter 4,Example 4.5 Page 146\n",
"clc\n",
"clear\n",
"V1 = 150*10^3 // V\n",
"PD = 1200 // potential divider ratio\n",
"I = 10^-6 // A\n",
"t = 8 // sec\n",
"V = V1/PD\n",
"R = V/I\n",
"C = t*10^6/R\n",
"printf (' V = %f V \n ',V)\n",
"printf (' R = %f M Ω \n ',R*10^-6)\n",
"printf (' C = %f μF \n ',C)\n",
"// Answers provided in the textbook are wrong"
   ]
   }
,
{
		   "cell_type": "markdown",
		   "metadata": {},
		   "source": [
			"## Example 4.6: Example_6.sce"
		   ]
		  },
  {
"cell_type": "code",
	   "execution_count": null,
	   "metadata": {
	    "collapsed": true
	   },
	   "outputs": [],
"source": [
"//Chapter 4,Example 4.6 Page 146\n",
"clc\n",
"clear\n",
"i = 8*10^3 // i(t)\n",
"V0 = 8 // V0(t)\n",
"I = 8*10^3 // A\n",
"rcI = 10^10 // rate of change of current in A/sec\n",
"R = 8*10^3 // ohm\n",
"RCbyM = i/V0 // R*C/M\n",
"t = I/rcI // 1/4 of cycle\n",
"T = t*4 \n",
"f = 1/T\n",
"CR = 5/f\n",
"M = CR/RCbyM\n",
"C = CR/R\n",
"printf (' Time for 1/4 cycle = %e sec \n ',t)\n",
"printf (' Full time = %e sec \n ',T)\n",
"printf (' f = %e Hz \n ',f)\n",
"printf (' M = %e H \n ',M)\n",
"printf (' C = %e F \n ',C)\n",
"printf (' R = %e Ω \n ',R)\n",
"// Answers may vary due to round off error"
   ]
   }
],
"metadata": {
		  "kernelspec": {
		   "display_name": "Scilab",
		   "language": "scilab",
		   "name": "scilab"
		  },
		  "language_info": {
		   "file_extension": ".sce",
		   "help_links": [
			{
			 "text": "MetaKernel Magics",
			 "url": "https://github.com/calysto/metakernel/blob/master/metakernel/magics/README.md"
			}
		   ],
		   "mimetype": "text/x-octave",
		   "name": "scilab",
		   "version": "0.7.1"
		  }
		 },
		 "nbformat": 4,
		 "nbformat_minor": 0
}
