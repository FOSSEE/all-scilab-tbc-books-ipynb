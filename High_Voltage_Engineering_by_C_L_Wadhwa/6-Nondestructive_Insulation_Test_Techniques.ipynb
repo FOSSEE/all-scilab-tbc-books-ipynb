{
"cells": [
 {
		   "cell_type": "markdown",
	   "metadata": {},
	   "source": [
       "# Chapter 6: Nondestructive Insulation Test Techniques"
	   ]
	},
{
		   "cell_type": "markdown",
		   "metadata": {},
		   "source": [
			"## Example 6.1: Example_1.sce"
		   ]
		  },
  {
"cell_type": "code",
	   "execution_count": null,
	   "metadata": {
	    "collapsed": true
	   },
	   "outputs": [],
"source": [
"//Chapter 6,Example 6.1 Page 198\n",
"clc\n",
"clear\n",
"Cs = 106 // micro F\n",
"C2 = 0.35 // micro F\n",
"R2 = 318 // ohms\n",
"R1 = 130 // ohms\n",
"w = 314\n",
"Rs = R1*(C2/Cs)\n",
"Cs1 = Cs*(R2/R1)\n",
"tang = w*Cs1*10^-6*Rs\n",
"cosp = tang\n",
"printf (' Rs = %f ohm \n ',Rs)\n",
"printf (' Cs = %f μF \n ',Cs1)\n",
"printf (' tan δ s = %f \n ',tang)\n",
"printf (' cos φ = %f \n ',cosp)\n",
" \n",
"//Answers may vary due to round off error"
   ]
   }
,
{
		   "cell_type": "markdown",
		   "metadata": {},
		   "source": [
			"## Example 6.2: Example_2.sce"
		   ]
		  },
  {
"cell_type": "code",
	   "execution_count": null,
	   "metadata": {
	    "collapsed": true
	   },
	   "outputs": [],
"source": [
"//Chapter 6,Example 6.2 Page 199\n",
"clc\n",
"clear\n",
"Cs = 106 // micro F\n",
"C2 = 0.35 // micro F\n",
"R2 = 318 // ohms\n",
"R1 = 130 // ohms\n",
"w = 314\n",
"Cp = Cs*(R2/R1)\n",
"Rp = R1/(w^2*C2*Cs*10^-12*R2^2)\n",
"tang = 1/(w*Rp*Cp*10^-6)\n",
"printf (' Rp = %f ohm \n ',Rp)\n",
"printf (' Cp = %f μF \n ',Cp)\n",
"printf (' tan δ = %f \n ',tang)\n",
"//Answers may vary due to round off error"
   ]
   }
,
{
		   "cell_type": "markdown",
		   "metadata": {},
		   "source": [
			"## Example 6.3: Example_3.sce"
		   ]
		  },
  {
"cell_type": "code",
	   "execution_count": null,
	   "metadata": {
	    "collapsed": true
	   },
	   "outputs": [],
"source": [
"//Chapter 6,Example 6.3 Page 199\n",
"clc\n",
"clear\n",
"Cs = 500*10^-12 // F\n",
"R1 = 800 // ohm\n",
"R2 = 180 // ohm\n",
"C2 = 0.15 // micro F\n",
"w = 314\n",
"V = 33*10^3\n",
"Cp = Cs*(R2/R1)\n",
"Rp = R1/(w^2*C2*Cs*10^-6*R2^2)\n",
"tang = 1/(w*Rp*Cp)\n",
"pl = V^2/Rp\n",
"printf (' Rp = %e ohm \n ',Rp)\n",
"printf (' Cp = %e F \n ',Cp)\n",
"printf (' tan δ = %f \n ',tang)\n",
"printf (' Power loss = %f watts \n ',pl)\n",
"//Answer may vary due to round off error"
   ]
   }
,
{
		   "cell_type": "markdown",
		   "metadata": {},
		   "source": [
			"## Example 6.4: Example_4.sce"
		   ]
		  },
  {
"cell_type": "code",
	   "execution_count": null,
	   "metadata": {
	    "collapsed": true
	   },
	   "outputs": [],
"source": [
"//Chapter 6,Example 6.4 Page 200\n",
"clc\n",
"clear\n",
"t = 60\n",
"C = 600*10^-12\n",
"V = 250\n",
"v = 92\n",
"R = t/(C*log(V/v))\n",
"printf (' R = %e ohm \n ',R)"
   ]
   }
,
{
		   "cell_type": "markdown",
		   "metadata": {},
		   "source": [
			"## Example 6.5: Example_5.sce"
		   ]
		  },
  {
"cell_type": "code",
	   "execution_count": null,
	   "metadata": {
	    "collapsed": true
	   },
	   "outputs": [],
"source": [
"//Chapter 6,Example 6.5 Page 200\n",
"clc\n",
"clear\n",
"Ca = 50 // pF\n",
"C = 190 // pF\n",
"loss = 0.0085 // loss angle of electrodes\n",
"Er = C/Ca\n",
"tang = 0.0085\n",
"Er1 = Er*tang\n",
"E0 = 8.854*10^-1\n",
"E1 = E0*Er\n",
"jE1 = E0*Er1\n",
"printf (' The dielectric constant = %f \n ',Er)\n",
"printf (' tan δ = %f \n ',tang)\n",
"printf (' E = (%f - j %f ) * 10^-11 F/m \n ',E1,jE1)\n",
"//Answer may vary due to round off"
   ]
   }
,
{
		   "cell_type": "markdown",
		   "metadata": {},
		   "source": [
			"## Example 6.6: Example_6.sce"
		   ]
		  },
  {
"cell_type": "code",
	   "execution_count": null,
	   "metadata": {
	    "collapsed": true
	   },
	   "outputs": [],
"source": [
"//Chapter 6,Example 6.6 Page 201\n",
"clc\n",
"clear\n",
"w = 314\n",
"E0 = 8.854*10^-12\n",
"Er = 3.8\n",
"tang = 0.0085\n",
"E = 40*10^5\n",
"sigE = w*E0*Er*tang*E^2\n",
"printf (' σE^2 = %f Watts/m^3\n ',sigE)\n",
"//Answers may vary due to round off "
   ]
   }
,
{
		   "cell_type": "markdown",
		   "metadata": {},
		   "source": [
			"## Example 6.7: Example_7.sce"
		   ]
		  },
  {
"cell_type": "code",
	   "execution_count": null,
	   "metadata": {
	    "collapsed": true
	   },
	   "outputs": [],
"source": [
"//Chapter 6,Example 6.7 Page 201\n",
"clc\n",
"clear\n",
"//Refer Fig Ex. 6.7\n",
"Er = 3.8\n",
"v = 21 // KV/cm\n",
"ind = v/Er // internal discharge in kV/cm\n",
"V = (ind*0.9)+(v*0.1)\n",
"printf (' Internal discharge = %f kV/cm\n ',ind)\n",
"printf (' V = %f kV rms\n ',V)\n",
"//Answer may vary due to round off error"
   ]
   }
],
"metadata": {
		  "kernelspec": {
		   "display_name": "Scilab",
		   "language": "scilab",
		   "name": "scilab"
		  },
		  "language_info": {
		   "file_extension": ".sce",
		   "help_links": [
			{
			 "text": "MetaKernel Magics",
			 "url": "https://github.com/calysto/metakernel/blob/master/metakernel/magics/README.md"
			}
		   ],
		   "mimetype": "text/x-octave",
		   "name": "scilab",
		   "version": "0.7.1"
		  }
		 },
		 "nbformat": 4,
		 "nbformat_minor": 0
}
