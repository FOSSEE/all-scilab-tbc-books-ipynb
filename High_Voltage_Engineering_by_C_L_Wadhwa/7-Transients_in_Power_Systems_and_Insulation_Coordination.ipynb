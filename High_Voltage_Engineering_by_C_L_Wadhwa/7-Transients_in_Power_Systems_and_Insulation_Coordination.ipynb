{
"cells": [
 {
		   "cell_type": "markdown",
	   "metadata": {},
	   "source": [
       "# Chapter 7: Transients in Power Systems and Insulation Coordination"
	   ]
	},
{
		   "cell_type": "markdown",
		   "metadata": {},
		   "source": [
			"## Example 7.1: Example_1.sce"
		   ]
		  },
  {
"cell_type": "code",
	   "execution_count": null,
	   "metadata": {
	    "collapsed": true
	   },
	   "outputs": [],
"source": [
"//Chapter 7,Example 7.1 Page 221\n",
"clc\n",
"clear\n",
"//(i)The natural impedence of the line\n",
"d = 100\n",
"r = 0.75\n",
"E0 = 10^-9/36 //Epselon \n",
"L = 2*10^-7*log(d/r) // inductance per unit length\n",
"C = 2*E0/log(d/r) // capacitance per phase per unit length\n",
"NI = sqrt(L/C) // nautral impedence\n",
"printf ('(i) The natural impedence of the line \n')\n",
"printf (' The natural impedance = %f ohms \n\n',NI)\n",
"//(ii) the line current\n",
"V = 11000 // V\n",
"R = 1000\n",
"Z2= 1000 \n",
"Z1 = 294\n",
"I = V/(sqrt(3)*NI) // the line current\n",
"printf ('(ii) The line current \n')\n",
"printf (' The line current = %f amps \n\n',I)\n",
"//(iii) the rate of power consumption\n",
"E1 = 2*V*R/(sqrt(3)*(Z1+Z2)) \n",
"P = 3*E1^2*1000/R\n",
"printf ('(iii) The rate of power consumption \n')\n",
"printf (' The rate of power consumption = %f kW \n',P*10^-6)\n",
"E2 = ((Z2-Z1)/(Z2+Z1))*(11/sqrt(3))\n",
"Er = 3*(E2^2)*1000/Z1\n",
"printf (' The rate of reflected energy = %f kW \n\n',Er)\n",
"//(iv) the rate of reflected energy\n",
"printf ('(iv) The rate of reflected energy \n')\n",
"printf (' In order that the incident wave when reaches the terminating resistance, \n does not suffer reflection, the terminating resistance should be equal to \n the surge impedance of the line, i.e.%f ohms \n\n',NI)\n",
"//(v) The amount of reflected and transmitted power\n",
"printf ('(v) The amount of reflected and transmitted power \n')\n",
"L = 0.5*10^-8\n",
"C = 10^-12\n",
"SI = sqrt(L/C) // surge impedence of the cable\n",
"printf (' Surge impedence of the cable = %f ohm \n',SI)\n",
"ReffV = (2*SI/(Z1+SI))*(11/sqrt(3)) // refracted voltage\n",
"Rif = ((SI-Z1)/(Z1+SI))*(11/sqrt(3)) // reflected voltage\n",
"refP = 3*ReffV^2*1000/SI\n",
"rifp = 3*Rif^2*1000/Z1\n",
"printf (' Refracted powers = %f kW \n',refP) // refracted powers\n",
"printf (' Reflected powers = %f kW \n',rifp) // reflected powers\n",
" \n",
"// Answers may vary due to round off error"
   ]
   }
,
{
		   "cell_type": "markdown",
		   "metadata": {},
		   "source": [
			"## Example 7.2: Example_2.sce"
		   ]
		  },
  {
"cell_type": "code",
	   "execution_count": null,
	   "metadata": {
	    "collapsed": true
	   },
	   "outputs": [],
"source": [
"//Chapter 7,Example 7.2 Page 222\n",
"clc\n",
"clear\n",
"Lc = 0.3*10^-3 // H\n",
"Cc= 0.4*10^-6 // F\n",
"Ll = 1.5*10^-3 // H\n",
"Cl = 0.012*10^-6 //F\n",
"V = 15 // kV\n",
"Ic = sqrt(Lc/Cc) // The natural impedence of the cable\n",
"Il = sqrt(Ll/Cl) // The natural impedence of the line\n",
"E = 2*Il*V/(Ic+Il) \n",
"printf ('The natural impedence of the cable = %f ohms \n',Ic) // unit failed to be mentioned \n",
"printf (' The natural impedence of the line = %f ohms \n',Il)\n",
"printf (' E′′ = %f kV \n',E)\n",
"// Answers may vary due to round of error"
   ]
   }
,
{
		   "cell_type": "markdown",
		   "metadata": {},
		   "source": [
			"## Example 7.3: Example_3.sce"
		   ]
		  },
  {
"cell_type": "code",
	   "execution_count": null,
	   "metadata": {
	    "collapsed": true
	   },
	   "outputs": [],
"source": [
"//Chapter 7,Example 7.3 Page 223\n",
"clc\n",
"clear\n",
"E = 100\n",
"Z1 = 1/600 // 1/Z1\n",
"Z2 = 1/800 // 1/Z2\n",
"Z3 = 1/200 // 1/Z3\n",
"E11 = (2*E*Z1)/((Z1+Z2+Z3)*10^-3)\n",
"Iz2 = E11*1000*Z2\n",
"Iz3 = E11*1000*Z3\n",
"printf (' E'' = %f kV \n',E11*10^-3)\n",
"printf (' Iz2′= %f amps \n',Iz2*10^-3)\n",
"printf (' Iz3′= %f amps \n',Iz3*10^-3)\n",
"//Answers may vary due to round off error"
   ]
   }
,
{
		   "cell_type": "markdown",
		   "metadata": {},
		   "source": [
			"## Example 7.4: Example_4.sce"
		   ]
		  },
  {
"cell_type": "code",
	   "execution_count": null,
	   "metadata": {
	    "collapsed": true
	   },
	   "outputs": [],
"source": [
"//Chapter 7,Example 7.4 Page 226\n",
"clc\n",
"clear\n",
"E = 500\n",
"t = 2*10^-6\n",
"Z = 350\n",
"C = 3000\n",
"E1 = 2*E*(1-exp((-t*10^12)/(Z*C)))\n",
"printf (' E'' = %f kV \n',E1)\n",
"//Answers may vary due to round off error"
   ]
   }
,
{
		   "cell_type": "markdown",
		   "metadata": {},
		   "source": [
			"## Example 7.5: Example_5.sce"
		   ]
		  },
  {
"cell_type": "code",
	   "execution_count": null,
	   "metadata": {
	    "collapsed": true
	   },
	   "outputs": [],
"source": [
"//Chapter 7,Example 7.5 Page 226\n",
"clc\n",
"clear\n",
"E = 500\n",
"Z = 350\n",
"L = 800\n",
"E1 = E*(1-exp(-(2*Z/L)*2))\n",
"printf (' E'' = %f kV \n',E1)\n",
"//Answers may vary due to round off error"
   ]
   }
,
{
		   "cell_type": "markdown",
		   "metadata": {},
		   "source": [
			"## Example 7.6: Example_6.sce"
		   ]
		  },
  {
"cell_type": "code",
	   "execution_count": null,
	   "metadata": {
	    "collapsed": true
	   },
	   "outputs": [],
"source": [
"//Chapter 7,Example 7.6 Page 228\n",
"clc\n",
"clear\n",
"e0 = 50\n",
"x = 50\n",
"R = 6\n",
"Z = 400\n",
"v = 3*10^5\n",
"//(i)Value of the voltage wave when it has travelled through a distance of 50 km\n",
"pow = (-1/2)*(6/400)*50\n",
"e = e0*exp(pow)\n",
"//(ii)The power loss and the heat loss\n",
"PL = e^2*1000/Z // power loss\n",
"t = x/v\n",
"i0 = e0*1000/Z\n",
"HL = -x*i0*Z*(exp(-0.75)-1)/(R*v) // Heat loss\n",
"printf (' e = %f kV \n',e)\n",
"printf (' Power loss = %f kW \n',PL)\n",
"printf (' Heat loss = %f kJ \n',HL)\n",
"// Answers may vary due to round off error"
   ]
   }
,
{
		   "cell_type": "markdown",
		   "metadata": {},
		   "source": [
			"## Example 7.7: Example_7.sce"
		   ]
		  },
  {
"cell_type": "code",
	   "execution_count": null,
	   "metadata": {
	    "collapsed": true
	   },
	   "outputs": [],
"source": [
"//Chapter 7,Example 7.7 Page 213\n",
"clc\n",
"clear\n",
"//Based on equation 7.3, 7.5 and 7.7\n",
"v = 1/sqrt((4/36)*10^-9*10^-7) \n",
"printf (' v = %e meters/sec ',v)"
   ]
   }
],
"metadata": {
		  "kernelspec": {
		   "display_name": "Scilab",
		   "language": "scilab",
		   "name": "scilab"
		  },
		  "language_info": {
		   "file_extension": ".sce",
		   "help_links": [
			{
			 "text": "MetaKernel Magics",
			 "url": "https://github.com/calysto/metakernel/blob/master/metakernel/magics/README.md"
			}
		   ],
		   "mimetype": "text/x-octave",
		   "name": "scilab",
		   "version": "0.7.1"
		  }
		 },
		 "nbformat": 4,
		 "nbformat_minor": 0
}
