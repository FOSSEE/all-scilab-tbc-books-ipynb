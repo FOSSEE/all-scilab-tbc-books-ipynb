{
"cells": [
 {
		   "cell_type": "markdown",
	   "metadata": {},
	   "source": [
       "# Chapter 1: Breakdown Mechanism of Gases Liquid and Solid Materials"
	   ]
	},
{
		   "cell_type": "markdown",
		   "metadata": {},
		   "source": [
			"## Example 1.1: Example_1.sce"
		   ]
		  },
  {
"cell_type": "code",
	   "execution_count": null,
	   "metadata": {
	    "collapsed": true
	   },
	   "outputs": [],
"source": [
"//Chapter 1,Example 1.1 Page 51\n",
"clc\n",
"clear\n",
"I = 600 // micor amps\n",
"x = 0.5 // distance in cm\n",
"V = 10 // kV\n",
"I2 = 60 // micro amps\n",
"x2 = 0.1 // distance in cm \n",
"//Calculation 600 = I0*exp(0.5*alpha) and 60 = I0*exp(0.1*alpha)\n",
"alpha = log(600/60)/(0.5-0.1)\n",
"printf('Townsends first ionising coefficient = %f ionizing collisions/cm', alpha)\n",
"//Answers may vary due to round of error  "
   ]
   }
,
{
		   "cell_type": "markdown",
		   "metadata": {},
		   "source": [
			"## Example 1.2: Example_2.sce"
		   ]
		  },
  {
"cell_type": "code",
	   "execution_count": null,
	   "metadata": {
	    "collapsed": true
	   },
	   "outputs": [],
"source": [
"//Chapter 1,Example 1.2 Page 52\n",
"clc\n",
"clear\n",
"// Refering the table in example 1.2\n",
"// slope between any two points (log(I/I0)/x)\n",
"// taking the gap between 2 and 2.5 mm\n",
"I1= 1.5*10^-12\n",
"I2= 5.6*10^-12\n",
"I0 = 6*10^-14\n",
"gi1 = log(I1/I0) // gradual increase when gap is 2\n",
"gi2 = log(I2/I0) // gradual increase when gap is 2.5 //claculation in text is wrong\n",
"slope = (gi1-gi2)/0.05\n",
"printf(' Slope = %f \n', -slope) \n",
"//evaluvating ghama\n",
"e1 = exp(-slope*0.5)\n",
"e2 = exp(-slope*0.5) // -1 is ignored due to the large magnitude\n",
"ghama = (7*10^7-6*e1)/(e2*7*10^7)\n",
"printf(' Ghama for set 1= %e /cm \n ', ghama)\n",
"//Gap between the slope for set 2\n",
"alpha = log(12/8)/0.05\n",
"printf(' Alpha = %e collosions/cm \n', alpha)\n",
"e1 = exp(alpha*0.5)\n",
"e2 = exp(alpha*0.5) // -1 is ignored due to the large magnitude\n",
"ghama = (2*10^5-e1)/(e2*2*10^5)\n",
"printf(' Ghama for set 2= %e colissions/cm \n', ghama)\n",
"//Answers may vary due to round of error  "
   ]
   }
,
{
		   "cell_type": "markdown",
		   "metadata": {},
		   "source": [
			"## Example 1.3: Example_3.sce"
		   ]
		  },
  {
"cell_type": "code",
	   "execution_count": null,
	   "metadata": {
	    "collapsed": true
	   },
	   "outputs": [],
"source": [
"//Chapter 1,Example 1.3 Page 53\n",
"clc\n",
"clear\n",
"//employing equation Vb = K*d^n\n",
"//88 = K*4^n --- eq(1)  165 = K*8^n ---eq(2) \n",
"//dividing eq(2)/q(1)\n",
"Vb1 = 88\n",
"Vb2 = 165\n",
"n1 = 0.6286/0.693\n",
"K1 = Vb1/4^n1\n",
"//135 = K*6^n --- eq(1)  212 = K*10^n ---eq(2) \n",
"//dividing eq(2)/q(1) \n",
"Vb1 = 135\n",
"Vb2 = 212\n",
"n2 = 0.4513/0.5128\n",
"K2 = Vb1/6^n2\n",
"n = (n1+n2)/2\n",
"K = (K1+K2)/2\n",
"printf (' n = %f (approx.) K = %f (approx.)',n,K)\n",
"//Answer may vary due to round of error "
   ]
   }
,
{
		   "cell_type": "markdown",
		   "metadata": {},
		   "source": [
			"## Example 1.4: Example_4.sce"
		   ]
		  },
  {
"cell_type": "code",
	   "execution_count": null,
	   "metadata": {
	    "collapsed": true
	   },
	   "outputs": [],
"source": [
"//Chapter 1,Example 1.4 Page 53\n",
"// Determine (pd)min Vbmin\n",
"clc\n",
"clear\n",
"A = 12\n",
"B = 365\n",
"e = 2.718\n",
"ghama = 0.02\n",
"K = 51\n",
"pd = (e/A)*log(1+(1/ghama))\n",
"Vbmin = (B/A)*e*log(K)\n",
"printf (' (pd)min = %f Vbmin = %f Volts',pd,Vbmin)\n",
"//Answers may vary due to round of error"
   ]
   }
],
"metadata": {
		  "kernelspec": {
		   "display_name": "Scilab",
		   "language": "scilab",
		   "name": "scilab"
		  },
		  "language_info": {
		   "file_extension": ".sce",
		   "help_links": [
			{
			 "text": "MetaKernel Magics",
			 "url": "https://github.com/calysto/metakernel/blob/master/metakernel/magics/README.md"
			}
		   ],
		   "mimetype": "text/x-octave",
		   "name": "scilab",
		   "version": "0.7.1"
		  }
		 },
		 "nbformat": 4,
		 "nbformat_minor": 0
}
