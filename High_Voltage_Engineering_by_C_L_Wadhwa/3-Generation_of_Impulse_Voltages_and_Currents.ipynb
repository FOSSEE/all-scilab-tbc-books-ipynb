{
"cells": [
 {
		   "cell_type": "markdown",
	   "metadata": {},
	   "source": [
       "# Chapter 3: Generation of Impulse Voltages and Currents"
	   ]
	},
{
		   "cell_type": "markdown",
		   "metadata": {},
		   "source": [
			"## Example 3.1: Example_1.sce"
		   ]
		  },
  {
"cell_type": "code",
	   "execution_count": null,
	   "metadata": {
	    "collapsed": true
	   },
	   "outputs": [],
"source": [
"//Chapter 3,Example 3.1 Page 104\n",
"clc\n",
"clear\n",
"R1 = 75 //ohms\n",
"R2 = 2600 //ohms\n",
"C1 = 25 // nF\n",
"C2 = 2.5 //nF\n",
"alpha = (10^9/2)*(1/(R2*C1)+1/(R1*C1)+1/(R1*C2))\n",
"beeta = (1/2)*sqrt(4*alpha^2-4*10^18/(R1*R2*C1*C2)) \n",
"t1 = (1/(2*beeta))*log((alpha+beeta)/(alpha-beeta))\n",
"K = 0.7/(t1*(alpha-beeta))+1\n",
"t2 = K*t1\n",
"printf (' alpha = %e  \n ',alpha)\n",
"printf (' beta = %e \n ',beeta)\n",
"printf (' K = %f \n ',K)\n",
"printf (' t1 = %e micro sec \n ',t1*10^6)\n",
"printf (' t2 = %f micro sec \n ',t2*10^6)\n",
"//Aproximating the circuit and neglecting R2\n",
"t1 = 3*((C1*C2*10^-18)/(C1+C2*10^-9))*R1\n",
"// C1 and C2 are in  parallel and R1 and R2 in series\n",
"t2 = 0.7*(R1+R2)*(C1+C2)*10^-9\n",
"printf (' t1 = %f micro sec \n ',t1*10^9*10^6)\n",
"printf (' t2 = %f micro sec \n ',t2*10^6)\n",
"printf ('On comparison with the values obtained through exact formulate it is found that whereas wave tail time is more or less same, \n the wave front time as calculated through approximate formula is quite erroneous.')\n",
"// Answers may vary due to round off error"
   ]
   }
,
{
		   "cell_type": "markdown",
		   "metadata": {},
		   "source": [
			"## Example 3.2: Example_2.sce"
		   ]
		  },
  {
"cell_type": "code",
	   "execution_count": null,
	   "metadata": {
	    "collapsed": true
	   },
	   "outputs": [],
"source": [
"//Chapter 3,Example 3.2 Page 106\n",
"clc\n",
"clear\n",
"t1 = 1.2*10^-6\n",
"C1 = (0.3/12)*10^3\n",
"C2 = 0.4\n",
"R1 = (C1+C2)*t1/(3*(C1*C2*10^-9))\n",
"t2 = 50*10^-6\n",
"R1R2 = t2/(0.7*(C1+C2)*10^-9)// (R1+R2)\n",
"R2 = R1R2-R1\n",
"printf (' R1 = %f ohm \n ',R1)\n",
"printf (' R2 = %f ohm \n ',R2)\n",
"// Alternative method\n",
"ab = 0.7*10^-6/(t2-t1) // alpha-beta\n",
"ghama = C1/C2 // large value therefore\n",
"R2 = 10^3/(C1*ab) // mentioned wrong in the text\n",
"// alpha = beta and based on the eq: t1 = (2/(2*alpha))log((2*alpha)/(alpha-beta)) \n",
"alpha = 2.43\n",
"beeta = 2.415656\n",
"R1 = (10^3/C1)*((1/(alpha+beeta))+(62.5/(alpha+beeta)))\n",
"V0 = 125*12\n",
"Vmax = V0/(2*R1*C2*10^-3*beeta)\n",
"printf (' ghama = %f (large value)\n ',ghama)\n",
"printf (' R2 = %f ohm \n Since alpha aprox. equla to beta ',R2)\n",
"printf (' \n R1 = %f ohm \n ',R1)\n",
"printf (' Vmax = %f kV \n ',Vmax)\n",
"//Answers vary due to round of error"
   ]
   }
,
{
		   "cell_type": "markdown",
		   "metadata": {},
		   "source": [
			"## Example 3.3: Example_3.sce"
		   ]
		  },
  {
"cell_type": "code",
	   "execution_count": null,
	   "metadata": {
	    "collapsed": true
	   },
	   "outputs": [],
"source": [
"//Chapter 3,Example 3.3 Page 107\n",
"clc\n",
"clear\n",
"R = 1\n",
"C = 15*10^-6\n",
"L = 2*10^-3\n",
"V = 125 // kV\n",
"v = R/2*sqrt(C/L)\n",
"pow = -v*asin(sqrt(1-v^2))/sqrt(1-v^2)\n",
"e = exp(pow)\n",
"Imax = 2*V*v*e\n",
"t1 = sqrt(L*C)*asin(sqrt(1-v^2))/sqrt(1-v^2)\n",
"// based on trila and error t2=1275 micro sec\n",
"t2 = 1275 // micro sec\n",
"RHS = 0.5286*sin(t2/173.2)\n",
"printf (' Imax = %f KA \n ',Imax)\n",
"printf (' t1 = %f micro sec \n ',t1*10^6)\n",
"printf (' t2 = %f micro sec \n ',t2)\n",
"printf (' RHS = %f \n ',RHS)\n",
"printf ('Therefore, time to 50 percent value is 1275 μ sec')"
   ]
   }
],
"metadata": {
		  "kernelspec": {
		   "display_name": "Scilab",
		   "language": "scilab",
		   "name": "scilab"
		  },
		  "language_info": {
		   "file_extension": ".sce",
		   "help_links": [
			{
			 "text": "MetaKernel Magics",
			 "url": "https://github.com/calysto/metakernel/blob/master/metakernel/magics/README.md"
			}
		   ],
		   "mimetype": "text/x-octave",
		   "name": "scilab",
		   "version": "0.7.1"
		  }
		 },
		 "nbformat": 4,
		 "nbformat_minor": 0
}
