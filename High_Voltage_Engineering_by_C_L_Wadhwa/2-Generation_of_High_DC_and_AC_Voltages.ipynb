{
"cells": [
 {
		   "cell_type": "markdown",
	   "metadata": {},
	   "source": [
       "# Chapter 2: Generation of High DC and AC Voltages"
	   ]
	},
{
		   "cell_type": "markdown",
		   "metadata": {},
		   "source": [
			"## Example 2.1: Example_1.sce"
		   ]
		  },
  {
"cell_type": "code",
	   "execution_count": null,
	   "metadata": {
	    "collapsed": true
	   },
	   "outputs": [],
"source": [
"//Chapter 2,Example 2.1 Page 78 \n",
"clc\n",
"clear\n",
"//(i) Determine volatge regulation \n",
"C = 0.06 // micro farad\n",
"I = 1 //mA\n",
"f = 150 //Hz\n",
"n = 10 \n",
"V = (1/(f*C))*((2*n^3/3)+(n^2/2))\n",
"perc = (V*100)/(2*10*100)\n",
"printf (' (ia) Volatge regulation = %f kV \n ',V)\n",
"printf (' (ib) percentage volatge regulation = %f \n ',perc)\n",
"//(ii) Ripple volatge\n",
"delV = (1/(f*C))*(n*(n+1)/2)\n",
"perc = (delV*100)/(2*10*100)\n",
"printf (' (iia) The ripple votage = %f kV \n ',delV)\n",
"printf (' (iib) percentage ripple votage = %f \n ',perc)\n",
"//(iii) Optimum no. of stages\n",
"Vmax = 100\n",
"I = 10^-3\n",
"OnS = sqrt(Vmax*f*C*10^-6*10^3/I)\n",
"//(iv) Maximum output volatge\n",
"Vout = OnS*(4/3)*Vmax\n",
"printf (' (iii) Optimum no. of stages = %d  \n ',OnS)\n",
"printf (' (iv) Maximum output volatge = %d KV\n ',Vout)\n",
"// Answers may vary due to round off error"
   ]
   }
,
{
		   "cell_type": "markdown",
		   "metadata": {},
		   "source": [
			"## Example 2.2: Example_2.sce"
		   ]
		  },
  {
"cell_type": "code",
	   "execution_count": null,
	   "metadata": {
	    "collapsed": true
	   },
	   "outputs": [],
"source": [
"//Chapter 2,Example 2.2 Page 79\n",
"clc\n",
"clear\n",
"// based on the circuit Fig.Ex.2.2\n",
"V = 100 // kVA\n",
"R = (1/100)*(200^2/0.1) // Resistance of transformer\n",
"r = (5/100)*(200^2/0.1) // reactance of transformer\n",
"printf (' Resistance of transformer = %d ohm \n ',R)\n",
"printf (' Reactance of transformer = %d ohm \n ',r)\n",
"rC = 400/0.5 // Reactance of capacitor\n",
"rI = 20 // Inductive reactance\n",
"ArI = rC-rI // Additional inductive reactance\n",
"Ic = ArI*1000/314 // inductance required\n",
"TrC = 8 // total reactance in cercuit in Kohm\n",
"I = 0.5\n",
"Vsec = I*TrC // Secondary voltage\n",
"Vp = 4*(250/200) // primary voltage\n",
"printf (' Reactance of capacitor = %d K ohm \n ',rC)\n",
"printf (' Inductive reactance = %d ohm \n ',rI)\n",
"printf (' Additional inductive reactance k Ohm= %d  \n ',ArI)\n",
"printf (' Inductive required = %d H \n ',Ic)\n",
"printf (' Total reactance in cercuit = %d Kohm \n ',TrC)\n",
"printf (' Secondary voltage = %d kV \n ',Vsec)\n",
"printf (' Secondary voltage = %d volts \n ',Vp)\n",
" \n",
"// Answers may vary due to round off error"
   ]
   }
,
{
		   "cell_type": "markdown",
		   "metadata": {},
		   "source": [
			"## Example 2.3: Example_3.sce"
		   ]
		  },
  {
"cell_type": "code",
	   "execution_count": null,
	   "metadata": {
	    "collapsed": true
	   },
	   "outputs": [],
"source": [
"//Chapter 2,Example 2.3 Page 68 \n",
"// based on equation 2.18\n",
"clc\n",
"clear\n",
"E = 30*10^3 // V/cm\n",
"E0 = 8.854*10^-12 // Epselon \n",
"b = 1\n",
"v = 10\n",
"sigma = E0*E\n",
"printf (' sigma = %e C/m^2 \n ',sigma)\n",
"I = sigma*b*v\n",
"printf (' I = %e Amp',I)\n",
"//Answers may vary due to round of error"
   ]
   }
],
"metadata": {
		  "kernelspec": {
		   "display_name": "Scilab",
		   "language": "scilab",
		   "name": "scilab"
		  },
		  "language_info": {
		   "file_extension": ".sce",
		   "help_links": [
			{
			 "text": "MetaKernel Magics",
			 "url": "https://github.com/calysto/metakernel/blob/master/metakernel/magics/README.md"
			}
		   ],
		   "mimetype": "text/x-octave",
		   "name": "scilab",
		   "version": "0.7.1"
		  }
		 },
		 "nbformat": 4,
		 "nbformat_minor": 0
}
