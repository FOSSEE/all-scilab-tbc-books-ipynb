{
"cells": [
 {
		   "cell_type": "markdown",
	   "metadata": {},
	   "source": [
       "# Chapter 1: Introduction To Heat Transfer"
	   ]
	},
{
		   "cell_type": "markdown",
		   "metadata": {},
		   "source": [
			"## Example 1.10: Rate_of_heat_transfer.sce"
		   ]
		  },
  {
"cell_type": "code",
	   "execution_count": null,
	   "metadata": {
	    "collapsed": true
	   },
	   "outputs": [],
"source": [
"//Exa 1.10\n",
"clc;\n",
"clear;\n",
"close\n",
"// given data\n",
"La=3*10^-2;// in meter\n",
"Aa=1;// in m^2\n",
"ka=150;// in W/m-K\n",
"\n",
"Lb=8*10^-2;// in meter\n",
"Ab=0.5;// in m^2\n",
"kb=30;// in W/m-K\n",
"\n",
"Lc=8*10^-2;// in meter\n",
"Ac=0.5;// in m^2\n",
"kc=65;// in W/m-K\n",
"\n",
"Ld=5*10^-2;// in meter\n",
"Ad=1;// in m^2\n",
"kd=50;// in W/m-K\n",
"\n",
"T1=400;// in degree C\n",
"T2=60;// in degree C\n",
"\n",
"Ra=La/(ka*Aa);\n",
"Rb=Lb/(kb*Ab);\n",
"Rc=Lc/(kc*Ac);\n",
"Rd=Ld/(kd*Ad);\n",
"//The equivalent resistance for Rb and Rc\n",
"Re=Rb*Rc/(Rb+Rc);\n",
"//Total Resistance\n",
"sigmaR=Ra+Re+Rd;\n",
"// heat transfer rate per square meter\n",
"q=(T1-T2)/sigmaR;\n",
"disp('Heat transfer rate per square meter is : '+string(q)+' Watt');"
   ]
   }
,
{
		   "cell_type": "markdown",
		   "metadata": {},
		   "source": [
			"## Example 1.11: Temperature_drop_across_the_contact_joint.sce"
		   ]
		  },
  {
"cell_type": "code",
	   "execution_count": null,
	   "metadata": {
	    "collapsed": true
	   },
	   "outputs": [],
"source": [
"//Exa 1.11\n",
"clc;\n",
"clear;\n",
"close\n",
"// given data\n",
"k_Al=202;// in W/mK\n",
"x_Al=0.005;// in m\n",
"del_T=80;// in degree C\n",
"R_contact=0.88*10^-4;// in m^2K/W\n",
"sigmaR=x_Al/k_Al+R_contact+x_Al/k_Al;// in m^2K/W\n",
"q=del_T/sigmaR;// in W/m^2\n",
"//Temperature drop across the rough surface\n",
"del_T=q*R_contact;//in degree C\n",
"disp(del_T,'Temperature drop across the rough surface in degree C is :')"
   ]
   }
,
{
		   "cell_type": "markdown",
		   "metadata": {},
		   "source": [
			"## Example 1.12: Heat_transfer_rate.sce"
		   ]
		  },
  {
"cell_type": "code",
	   "execution_count": null,
	   "metadata": {
	    "collapsed": true
	   },
	   "outputs": [],
"source": [
"//Exa 1.12\n",
"clc;\n",
"clear;\n",
"close\n",
"// given data\n",
"T1=100;// in degree C\n",
"T2=10;// in degree C\n",
"A=3*5;//in square meter\n",
"x=40*10^-2;// thickness in m^2\n",
"k=1.6;// in W/mk\n",
"h=10;// in W/m^2k\n",
"// Total resistance in heat flow path\n",
"sigmaR=x/(k*A)+1/(h*A);\n",
"// so heat transfer rate\n",
"q=(T1-T2)/sigmaR;// in Watt\n",
"q=q*10^-3;//in kW\n",
"disp(q,'Heat transfer rate in kW is :');// \n",
"\n",
"// Note: Answer in the book is wrong"
   ]
   }
,
{
		   "cell_type": "markdown",
		   "metadata": {},
		   "source": [
			"## Example 1.13: Rate_of_heat_transfer.sce"
		   ]
		  },
  {
"cell_type": "code",
	   "execution_count": null,
	   "metadata": {
	    "collapsed": true
	   },
	   "outputs": [],
"source": [
"//Exa 1.13\n",
"clc;\n",
"clear;\n",
"close\n",
"// given data\n",
"k='2.0+0.0005*T';// in W/m-k\n",
"A=3*5;//in square meter\n",
"\n",
"T1=150;// in degree C\n",
"T2=50;// in degree C\n",
"L=20*10^-2;// thickness in m^2\n",
"// Formula q= -k*A*dt/dx\n",
"q=-A*(integrate(k,'T',T1,T2))/(integrate('1','x',0,L));// in Watt\n",
"q=q*10^-3;//in kW\n",
"disp(q,'Rate of heat transfer in kW is : ');\n",
""
   ]
   }
,
{
		   "cell_type": "markdown",
		   "metadata": {},
		   "source": [
			"## Example 1.14: Heat_transfer_rate.sce"
		   ]
		  },
  {
"cell_type": "code",
	   "execution_count": null,
	   "metadata": {
	    "collapsed": true
	   },
	   "outputs": [],
"source": [
"//Exa 1.14\n",
"clc;\n",
"clear;\n",
"close\n",
"// given data\n",
"T1=300;//in degree C\n",
"T2=50;//in degree C\n",
"x2=2*10^-2;// thickness of boiler wall in m\n",
"tc2=58;// thermal conductivity of wall in W/mk\n",
"x3=0.5*10^-2;// thickness of outer surface of the  wall in m\n",
"tc3=116*10^-3;// thermal conductivity of outer surface of the wall in W/mk\n",
"R1=2.3*10^-3;// in k/W\n",
"R2=x2/tc2;\n",
"R3=x3/tc3;\n",
"sigmaR=R1+R2+R3;// Total Resistance\n",
"q=(T1-T2)/sigmaR;\n",
"disp(q,'Heat transfer rate per unit area in W/m^2 :')\n",
"// Note: Answer in the book is wrong"
   ]
   }
,
{
		   "cell_type": "markdown",
		   "metadata": {},
		   "source": [
			"## Example 1.15: Central_temperature.sce"
		   ]
		  },
  {
"cell_type": "code",
	   "execution_count": null,
	   "metadata": {
	    "collapsed": true
	   },
	   "outputs": [],
"source": [
"//Exa 1.15\n",
"clc;\n",
"clear;\n",
"close\n",
"// given data\n",
"Tf=80;// in degree C\n",
"I=200;// in amp\n",
"h=4000;// in W/m^2degree C\n",
"rho=70*10^-6;\n",
"L=100;// in cm\n",
"R=0.1;// in ohm\n",
"d=3;// in mm\n",
"d=d*10^-3;\n",
"As= %pi*d;\n",
"//Formula I^2*R= h*As*(Tw-Tf)\n",
"Tw= I^2*R/(h*As)+Tf;\n",
"disp(Tw,'Central temperature of the wire in °C')"
   ]
   }
,
{
		   "cell_type": "markdown",
		   "metadata": {},
		   "source": [
			"## Example 1.16: Equilibrium_temperature.sce"
		   ]
		  },
  {
"cell_type": "code",
	   "execution_count": null,
	   "metadata": {
	    "collapsed": true
	   },
	   "outputs": [],
"source": [
"//Exa 1.16\n",
"clc;\n",
"clear;\n",
"close\n",
"// given data\n",
"E=500;//Absorb solar energy in W/m^2\n",
"epsilon= 0.9;\n",
"T_s= 280;// in K\n",
"T_infinite=300;// in K\n",
"h_c=20;// in W/m^2degree C\n",
"T_sky=280;// in K\n",
"sigma=5.67*10^-8;\n",
"// Formula E= h_c*(T_p-T_infinite)+epsilon*sigma*(T_P^4-T_s^4)\n",
"// On simplication T_P= 340.6-0.255*T-p^4\n",
"T_p= 315.5;// in K\n",
"disp(T_p,'Equilibrium Temperature of the plate in K')"
   ]
   }
,
{
		   "cell_type": "markdown",
		   "metadata": {},
		   "source": [
			"## Example 1.1: Rate_of_heat_transfer.sce"
		   ]
		  },
  {
"cell_type": "code",
	   "execution_count": null,
	   "metadata": {
	    "collapsed": true
	   },
	   "outputs": [],
"source": [
"//Exa 1.1\n",
"clc;\n",
"clear;\n",
"close\n",
"// given data\n",
"t1=38;// in degree C\n",
"t2=21;// in degree C\n",
"k=0.19;// unit less\n",
"x=4;//in cm\n",
"x=x*10^-2;// in meter\n",
"// Formula q=k*A*(t1-t2)/x;\n",
"q_by_A=k*(t1-t2)/x;\n",
"disp('The rate of heat transfer is : '+string(q_by_A)+' W/m^2');"
   ]
   }
,
{
		   "cell_type": "markdown",
		   "metadata": {},
		   "source": [
			"## Example 1.2: Area_of_wall_perpendicular_to_heat_flow.sce"
		   ]
		  },
  {
"cell_type": "code",
	   "execution_count": null,
	   "metadata": {
	    "collapsed": true
	   },
	   "outputs": [],
"source": [
"//Exa 1.2\n",
"clc;\n",
"clear;\n",
"close\n",
"// given data\n",
"t_i=120;// in degree C\n",
"t_o=40;// in degree C\n",
"K=0.04;// unit less\n",
"x=0.06;//in m\n",
"Q=50;// in W\n",
"disp('Assuming steady state heat transfer in the wall.');\n",
"// Rate of heat transfer across the wall = Rate of electrical energy dissipation in the furnance\n",
"// Formula Q= K*A*(t_i-t_o)/x;\n",
"A=Q*x/(K*(t_i-t_o));\n",
"disp(A,'Area of wall in square meter is : ')"
   ]
   }
,
{
		   "cell_type": "markdown",
		   "metadata": {},
		   "source": [
			"## Example 1.3: Rate_of_heat_loss.sce"
		   ]
		  },
  {
"cell_type": "code",
	   "execution_count": null,
	   "metadata": {
	    "collapsed": true
	   },
	   "outputs": [],
"source": [
"//Exa 1.3\n",
"clc;\n",
"clear;\n",
"close\n",
"// given data\n",
"t_f=30;// in degree C\n",
"t_s=400;// in degree C\n",
"d=0.04;//in m\n",
"h=20;// in W/m^2K\n",
"l=1;//in meter\n",
"A=%pi*d*l;\n",
"q=h*A*(t_s-t_f);// in W\n",
"\n",
"disp(q,'Rate of heat loss in watt is : ')"
   ]
   }
,
{
		   "cell_type": "markdown",
		   "metadata": {},
		   "source": [
			"## Example 1.4: Electric_power_supplied_to_coil.sce"
		   ]
		  },
  {
"cell_type": "code",
	   "execution_count": null,
	   "metadata": {
	    "collapsed": true
	   },
	   "outputs": [],
"source": [
"//Exa 1.4\n",
"clc;\n",
"clear;\n",
"close\n",
"// given data\n",
"t_s=100;// in degree C\n",
"t_w=80;// in degree C\n",
"d=2*10^-3;//in m\n",
"h=3000;// in W/m^2 degree C\n",
"L=100;//in mm\n",
"L=L*10^-3;// in meter\n",
"A=%pi*d*L;\n",
"// Heat loss by convection = Electric power supplied\n",
"// Formula h*A*(t_s-t_w) = Q\n",
"Q= h*A*(t_s-t_w);\n",
"disp(Q,'Electric power supplied in watt is : ')"
   ]
   }
,
{
		   "cell_type": "markdown",
		   "metadata": {},
		   "source": [
			"## Example 1.5: Inside_Plate_temperature.sce"
		   ]
		  },
  {
"cell_type": "code",
	   "execution_count": null,
	   "metadata": {
	    "collapsed": true
	   },
	   "outputs": [],
"source": [
"//Exa 1.5\n",
"clc;\n",
"clear;\n",
"close\n",
"// given data\n",
"A=0.6*0.9;// in square meter\n",
"x=.025;// in meter\n",
"\n",
"t_s=310;// in degree C\n",
"t_f=15;// in degree C\n",
"h=22;// in W/m^2 degree C\n",
"K=45;// in W/m degree C\n",
"Q_rad=250;// in W\n",
"// Heat transfer through the plate = Convection heat loss + radiation heat loss\n",
"// Formula Q_cond = Q_conv + Q_rad\n",
"// -K*A*dt/dx = h*A*(t_s-t_f)+ Fg12*sigmaA(Ts^4-Ta64)\n",
"t_i=x*(h*A*(t_s-t_f)+Q_rad)/(K*A)+t_s;\n",
"disp(t_i,' The inside plate temperature in degree C is :');"
   ]
   }
,
{
		   "cell_type": "markdown",
		   "metadata": {},
		   "source": [
			"## Example 1.6: Total_heat_loss_by_the_pipe.sce"
		   ]
		  },
  {
"cell_type": "code",
	   "execution_count": null,
	   "metadata": {
	    "collapsed": true
	   },
	   "outputs": [],
"source": [
"//Exa 1.6\n",
"clc;\n",
"clear;\n",
"close\n",
"// given data\n",
"T1=50;// in degree C\n",
"T1=T1+273;// in K\n",
"T2=20;// in degree C\n",
"T2=T2+273;// in K\n",
"d=5*10^-2;//in m\n",
"h=6.5;// in W/m^2K\n",
"l=1;//in meter\n",
"epsilon=0.8;\n",
"sigma=5.67*10^-8;\n",
"A=%pi*d*l;// in Square meter\n",
"q_conv = h*A*(T1-T2);// in W/m\n",
"disp(q_conv,'The heat loss by convection in W/m')\n",
"// formula q= sigma*A*F_g12*(T1^4-T2^4) = sigma*A*epsilon*(T1^4-T2^4)    (since A1<<A2, so F_g12=epsilon)\n",
"q_rad = sigma*A*epsilon*(T1^4-T2^4);// in W/m\n",
"disp(q_rad,' Heat loss by radiation in W/m')\n",
"q_total= q_conv+q_rad;\n",
"disp(q_total,'Total heat loss in W/m is :')\n",
"\n",
"\n",
""
   ]
   }
,
{
		   "cell_type": "markdown",
		   "metadata": {},
		   "source": [
			"## Example 1.7: Rate_of_heat_transfer.sce"
		   ]
		  },
  {
"cell_type": "code",
	   "execution_count": null,
	   "metadata": {
	    "collapsed": true
	   },
	   "outputs": [],
"source": [
"//Exa 1.7\n",
"clc;\n",
"clear;\n",
"close\n",
"// given data\n",
"T1=1350;// in degree C\n",
"T2=50;// in degree C\n",
"L=25*10^-2;//in meter\n",
"// Formula q= -k*A*dT/dx\n",
"// or q/A= -k*dT/dx\n",
"// let q/A = q_by_A\n",
"q_by_A=(integrate('-0.838*(1+0.0007*T)','T',T1,T2))/(integrate('1','x',0,L));\n",
"disp(q_by_A,'Heat transfer rate per square meter through  the cylinder in watt is : ');\n",
"\n",
"// Note : Answer in the book is wrong\n",
""
   ]
   }
,
{
		   "cell_type": "markdown",
		   "metadata": {},
		   "source": [
			"## Example 1.9: Steady_state_heat_transfer.sce"
		   ]
		  },
  {
"cell_type": "code",
	   "execution_count": null,
	   "metadata": {
	    "collapsed": true
	   },
	   "outputs": [],
"source": [
"//Exa 1.9\n",
"clc;\n",
"clear;\n",
"close\n",
"// given data\n",
"K_A=0.5;// in W/m degree C\n",
"K_B=0.8;// in W/m degree C\n",
"Ti_A=600;// inside temp. of slab A in degree C\n",
"To_B=100;// outside temp. of slab B in degree C\n",
"t_A=4*10^-2;// thickness of slab A\n",
"t_B=6*10^-2;// thickness of slab B\n",
"// Heat transfer rate per square meter through the slab A\n",
"// q/A = +K_A * ( Ti_A - T) / t_A         (1)\n",
"// Heat transfer rate through slab B\n",
"// q/A = +K_B * ( T - To_B) / t_B        (2)\n",
"// Equating Eqns (1) and (2)\n",
"// K_A*(Ti_A - T)/t_A  =  K_B*(T - To_B)/t_B\n",
" T=t_A*t_B/(K_A*t_B+K_B*t_A)*(K_A*Ti_A/t_A + K_B*To_B/t_B);\n",
"disp('T, intermediate temperature of slab A and B is : '+string(T)+' degree C');\n",
"//Putting the value of T in Eq(1), we get\n",
"q_by_A= K_A*( Ti_A - T) / t_A;\n",
"disp('Steady state heat transfer rate per square meter is : '+string(q_by_A)+' W/m^2')\n",
"//Note : Answer in the book is wrong"
   ]
   }
],
"metadata": {
		  "kernelspec": {
		   "display_name": "Scilab",
		   "language": "scilab",
		   "name": "scilab"
		  },
		  "language_info": {
		   "file_extension": ".sce",
		   "help_links": [
			{
			 "text": "MetaKernel Magics",
			 "url": "https://github.com/calysto/metakernel/blob/master/metakernel/magics/README.md"
			}
		   ],
		   "mimetype": "text/x-octave",
		   "name": "scilab",
		   "version": "0.7.1"
		  }
		 },
		 "nbformat": 4,
		 "nbformat_minor": 0
}
