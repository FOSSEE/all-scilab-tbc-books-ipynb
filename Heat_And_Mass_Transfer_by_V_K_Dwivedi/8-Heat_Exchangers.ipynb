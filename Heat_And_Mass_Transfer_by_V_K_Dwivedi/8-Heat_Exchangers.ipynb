{
"cells": [
 {
		   "cell_type": "markdown",
	   "metadata": {},
	   "source": [
       "# Chapter 8: Heat Exchangers"
	   ]
	},
{
		   "cell_type": "markdown",
		   "metadata": {},
		   "source": [
			"## Example 8.10: Exit_temperature_of_water.sce"
		   ]
		  },
  {
"cell_type": "code",
	   "execution_count": null,
	   "metadata": {
	    "collapsed": true
	   },
	   "outputs": [],
"source": [
"//Exa 8.10\n",
"clc;\n",
"clear;\n",
"close;\n",
"format('v',13)\n",
"//given data\n",
"Cpc=4.18*10^3;//  in J/kg degree C\n",
"Mc=1;// in kg/s\n",
"Mh=2.4;// in kg/s\n",
"Cph=2050; // in J/kg degree C\n",
"t_hi=100;// in degree C\n",
"t_ci=20;// in degree C\n",
"C_c=Mc*Cpc;// in W/degree C\n",
"C_h=Mh*Cph;// in W/degree C\n",
"U=300;// in W/m^2 degree C\n",
"A=10;// in m^2\n",
"C_min=C_c;\n",
"C_max=C_h;\n",
"N= A*U/C_min;\n",
"C=C_min/C_max;\n",
"// Effectiveness for counter flow heat exchanger\n",
"epsilon= (1-%e^(-N*(1-C)))/(1-C*%e^(-N*(1-C)));\n",
"// Total heat transfer\n",
"q=epsilon*C_min*(t_hi-t_ci);// in watt\n",
"disp(q*10^-3,'Total heat transfer in kW');\n",
"t_co=t_ci+epsilon*C*(t_hi-t_ci);\n",
"disp(t_co,'Exit temperature of water in degree C');"
   ]
   }
,
{
		   "cell_type": "markdown",
		   "metadata": {},
		   "source": [
			"## Example 8.11: Exit_temperature.sce"
		   ]
		  },
  {
"cell_type": "code",
	   "execution_count": null,
	   "metadata": {
	    "collapsed": true
	   },
	   "outputs": [],
"source": [
"//Exa 8.11\n",
"clc;\n",
"clear;\n",
"close;\n",
"format('v',13)\n",
"//given data\n",
"t_hi=135;// in degree C\n",
"t_ci=20;// in degree C\n",
"t_ho=65;// in degree C\n",
"t_co=50;// in degree C\n",
"// Energy balance  Mh*Cph*(t_hi-t_ho) = Mc*Cpc*(t_co-t_ci)\n",
"// C =C_min/C_max = Mh*Cph/( Mc*Cpc)\n",
"C= (t_co-t_ci)/(t_hi-t_ho);\n",
"epsilon=(t_hi-t_ho)/(t_hi-t_ci);\n",
"// Also epsilon = epsilon_parallel = (1-exp(-NTU*(1+C)))/(1+C)\n",
"NTU= -log(1-epsilon*(1+C))/(1+C);\n",
"// if the existing heat exchanger is to be used as counter flow mode, its NTU will not change, i.e.\n",
"epsilon_c= (1-exp(-NTU*(1-C)))/((1-C*exp(-NTU*(1-C))));\n",
"// Exit temperature\n",
"// (i) Hot fluid\n",
"t_ho=t_hi-epsilon_c*(t_hi-t_ci);// in degree C\n",
"disp(t_ho,'Exit temperature for hot fluid in degree C')\n",
"\n",
"//(ii) Cold fluid\n",
"t_co= t_ci+epsilon_c*C*(t_hi-t_ci);\n",
"disp(t_co,'Exit temperature for cold fluid in degree C')\n",
"\n",
"// (iii) // If the parallel flow heat exchanger is too long, then body fluid will have common outlet temperature (t)\n",
"// From MCp_h*(t_hi-t) = MCp_c*(t-t_ci)\n",
"\n",
"t=(C*t_hi+t_ci)/(1+C);\n",
"disp(t,'The minimum temperature to which the oil may be cooled by increasing the tube length with parallel flow operation, in degree C ')"
   ]
   }
,
{
		   "cell_type": "markdown",
		   "metadata": {},
		   "source": [
			"## Example 8.12: Exit_temperature.sce"
		   ]
		  },
  {
"cell_type": "code",
	   "execution_count": null,
	   "metadata": {
	    "collapsed": true
	   },
	   "outputs": [],
"source": [
"//Exa 8.12\n",
"clc;\n",
"clear;\n",
"close;\n",
"format('v',13)\n",
"//given data\n",
"t_hi=78;// in degree C\n",
"t_ci=23;// in degree C\n",
"t_ho=65;// in degree C\n",
"t_co=36;// in degree C\n",
"// Energy balance  Mh*Cph*(t_hi-t_ho) = Mc*Cpc*(t_co-t_ci)\n",
"// C =C_min/C_max = Mh*Cph/( Mc*Cpc)\n",
"C= (t_co-t_ci)/(t_hi-t_ho);\n",
"epsilon=(t_hi-t_ho)/(t_hi-t_ci);\n",
"// Formula epsilon = (1-exp(-N*(1+C)))/(1+C)\n",
"N= -log(1-epsilon*(1+C))/(1+C);\n",
"// When flow rates of both fluids are doubled , the deat capacity ratio will not change, i.e.\n",
"// C=1\n",
"//  MCp_new =2* MCp_old\n",
"// N=U*A/C_min=N/2\n",
"N=N/2;\n",
"epsilon=(1-exp(-N*(1+C)))/(1+C);\n",
"// exit temperature\n",
"t_ho=t_hi-epsilon*(t_hi-t_ci);// in degree C\n",
"t_co= t_ci+epsilon*(t_hi-t_ci);\n",
"disp('Exit temperature  in degree C : '+string(t_ho)+' and '+string(t_co));\n",
"\n",
"// Note: Answer in the book is wrong due to put wrong value of t_ci in second last line"
   ]
   }
,
{
		   "cell_type": "markdown",
		   "metadata": {},
		   "source": [
			"## Example 8.13: Outlet_temperature.sce"
		   ]
		  },
  {
"cell_type": "code",
	   "execution_count": null,
	   "metadata": {
	    "collapsed": true
	   },
	   "outputs": [],
"source": [
"//Exa 8.13\n",
"clc;\n",
"clear;\n",
"close;\n",
"format('v',13)\n",
"//given data\n",
"t_hi=125;// in degree C\n",
"t_ci=22;// in degree C\n",
"Mh=21;// in kg/s\n",
"Mc=5;// in kg/s\n",
"C_ph=2100;// in J/kg K\n",
"C_pc=4100;// in J/kg K\n",
"Ch=Mh*C_ph;// in Js/kg\n",
"Cc=Mc*C_pc;// in Js/kg\n",
"C_min=Cc;// in Js/kg\n",
"C_max=Ch;// in Js/kg\n",
"U=325;// in W/m^2 K\n",
"d=2.2*10^-2;// in m\n",
"l=5;// in m\n",
"total_tube=195;// number of total tubes\n",
"A=%pi*d*l*total_tube\n",
"NTU=U*A/C_min;\n",
"C=C_min/C_max;\n",
"epsilon = (1-exp(-NTU*(1-C)))/(1-C*exp(-NTU*(1-C)));\n",
"t_co= t_ci+epsilon*(t_hi-t_ci);\n",
"t_ho= t_hi-epsilon*Cc/Ch*(t_hi-t_ci);\n",
"disp('Exit temperature  in degree C : '+string(t_co)+' and '+string(t_ho));\n",
"\n",
"// Total heat transfer\n",
"q=epsilon*C_min*(t_hi-t_ci);\n",
"disp(q*10^-3,'Total heat transfer in kW')"
   ]
   }
,
{
		   "cell_type": "markdown",
		   "metadata": {},
		   "source": [
			"## Example 8.14: Total_heat_transfer_and_outlet_temperature.sce"
		   ]
		  },
  {
"cell_type": "code",
	   "execution_count": null,
	   "metadata": {
	    "collapsed": true
	   },
	   "outputs": [],
"source": [
"//Exa 8.14\n",
"clc;\n",
"clear;\n",
"close;\n",
"format('v',13)\n",
"//given data\n",
"t_hi=94;// in degree C\n",
"t_ci=15;// in degree C\n",
"Mw=0.36;// in kg/s\n",
"Mo=0.153;// in kg/s\n",
"C_po=2*10^3;// in J/kg K\n",
"C_pw=4.186*10^3;// in J/kg K\n",
"U=10.75*10^2;// in W/m^2 K\n",
"A=1;// in m^2\n",
"Ch=Mo*C_po;// in kW/K\n",
"Cc=Mw*C_pw;// in kW/K\n",
"C_min=Ch;// in W/K\n",
"C_max=Cc;// in W/K\n",
"C=C_min/C_max;\n",
"NTU=U*A/C_min;\n",
"// Effectiveness\n",
"N=NTU;\n",
"epsilon = (1-exp(-N*(1-C)))/(1-C*exp(-N*(1-C)));\n",
"mCp_min=C_min;\n",
"q_max= mCp_min*(t_hi-t_ci);// in W\n",
"q_actual= epsilon*q_max;// in W\n",
"disp(q_actual,'Total heat transfer in watt')\n",
"// Outlet temp. of water\n",
"t_co= q_actual/Cc+t_ci;// in degree C\n",
"disp(t_co,'Outlet temperature of water in degree C')\n",
"// Outlet temp. of oil\n",
"t_ho=t_hi-q_actual/Ch;//in degree C\n",
"disp(t_ho,'Outlet temperature of oil in degree C')\n",
"\n",
"\n",
"//Note: Evaluation of Cc and Ch in the book is wrong so the Answer in the book is wrong\n",
"\n",
"\n",
"\n",
"\n",
"\n",
"\n",
""
   ]
   }
,
{
		   "cell_type": "markdown",
		   "metadata": {},
		   "source": [
			"## Example 8.15: Surface_area_of_heat_exchanger.sce"
		   ]
		  },
  {
"cell_type": "code",
	   "execution_count": null,
	   "metadata": {
	    "collapsed": true
	   },
	   "outputs": [],
"source": [
"//Exa 8.15\n",
"clc;\n",
"clear;\n",
"close;\n",
"//given data\n",
"U=1800;// in W/m^2 degree C\n",
"h_fg=2200*10^3;// in J/kg\n",
"t_ci=20;// in degree C\n",
"t_co=90;// in degree C\n",
"del_t1=120-20;// in degree C\n",
"del_t2=120-90;// in degree C\n",
"del_tm=(del_t1-del_t2)/log(del_t1/del_t2);// in degree C\n",
"Mc=1000/3600;// in kg/s\n",
"Cc=4180;// in kg/s\n",
"// Rate of heat transfer\n",
"q=Mc*Cc*(t_co-t_ci);// in watt\n",
"// Formula q=U*A*del_tm\n",
"A=q/(U*del_tm);\n",
"disp(A,'Surface area in square meter');\n",
"//Rate of condensation of steam\n",
"ms=q/h_fg;// in kg/sec\n",
"disp(ms,'Rate of condensation of steam in kg/sec');\n",
""
   ]
   }
,
{
		   "cell_type": "markdown",
		   "metadata": {},
		   "source": [
			"## Example 8.16: Heat_exchanger_area.sce"
		   ]
		  },
  {
"cell_type": "code",
	   "execution_count": null,
	   "metadata": {
	    "collapsed": true
	   },
	   "outputs": [],
"source": [
"//Exa 8.16\n",
"clc;\n",
"clear;\n",
"close;\n",
"//given data\n",
"Mh=10000/3600;// in kg/sec\n",
"Mc=8000/3600;// in kg/sec\n",
"Cph=2095;// in J/kg K\n",
"Cpc=4180;// in J/kg K\n",
"t_hi=80;// in degree C\n",
"t_ci=25;// in degree C\n",
"t_ho=50;// in degree C\n",
"U=300;// in W/m^2 K\n",
"// Energy balance Mh*Cph*(t_hi-t_ho) = Mc*Cpc*(t_co-t_ci)\n",
"t_co= Mh*Cph*(t_hi-t_ho)/(Mc*Cpc)+t_ci;// in degree C\n",
"del_t1=t_hi-t_co;//in degree C\n",
"del_t2=t_ho-t_ci;//in degree C\n",
"del_tm= (del_t1-del_t2)/log(del_t1/del_t2);\n",
"q=Mh*Cph*(t_hi-t_ho);\n",
"//Formula q=U*A*del_tm\n",
"A=q/(U*del_tm);// in m^2\n",
"disp(A,'Surface area of heat exchange in square meter')"
   ]
   }
,
{
		   "cell_type": "markdown",
		   "metadata": {},
		   "source": [
			"## Example 8.17: Overall_heat_transfer_coefficient.sce"
		   ]
		  },
  {
"cell_type": "code",
	   "execution_count": null,
	   "metadata": {
	    "collapsed": true
	   },
	   "outputs": [],
"source": [
"//Exa 8.17\n",
"clc;\n",
"clear;\n",
"close;\n",
"//given data\n",
"ho=5000;// in W/m^2 degree C\n",
"rho=988.1;// in kg/m^3\n",
"K=0.6474;\n",
"D=555*10^-9;// in m^2/s\n",
"Pr=3.54;\n",
"n=100;\n",
"d_i=2.5*10^-2;// in m\n",
"ri=d_i/2;\n",
"d_o=2.9*10^-2;// in m\n",
"ro=d_o/2;\n",
"Cp=4174;// in J/kg degree C\n",
"Mc=8.333;// in kg/s\n",
"Mw=Mc;\n",
"t_c1=30;// in degree C\n",
"t_c2=70;// in degree C\n",
"t_n1=100;// in degree C\n",
"t_n2=t_n1;// in degree C\n",
"R_fi=0.0002;// in m^2 degree C/W (In the book, there is miss print in this line,they took here R_fi = .002)\n",
"// Heat gain by water\n",
"Q=Mc*Cp*(t_c2-t_c1);\n",
"// Also Q= U*A*del_tm\n",
"del_t1=t_n1-t_c1;//in degree C\n",
"del_t2=t_n2-t_c2;//in degree C\n",
"del_tm= (del_t1-del_t2)/log(del_t1/del_t2); \n",
"// Mw= 1/4*%pi*d_i^2*V*rho*N, here\n",
"N=n;\n",
"V=4*Mw/(%pi*d_i^2*rho*N);\n",
"// Formula Re=V*d_i/v, here\n",
"v=D;\n",
"Re=V*d_i/v;\n",
"// Formula Nu= hi*d_i/K = 0.023*Re^0.8*Pr^0.33\n",
"hi= 0.023*Re^0.8*Pr^0.33*K/d_i;\n",
"// Formula 1/Vi= 1/hi + R_fi + ri/ro*1/ho\n",
"Vi= 1/(1/hi + R_fi + ri/ro*1/ho);// in W/m^2 degree C\n",
"//Formula Q = Vi*(N*%pi*d_i*L)*del_tm\n",
"L= Q/(Vi*(N*%pi*d_i)*del_tm);\n",
"disp(L,'Length of the tube bundle in m');\n",
"\n",
"\n",
"\n",
"\n",
"\n",
"\n",
""
   ]
   }
,
{
		   "cell_type": "markdown",
		   "metadata": {},
		   "source": [
			"## Example 8.1: Surface_area_of_heat_exchanger.sce"
		   ]
		  },
  {
"cell_type": "code",
	   "execution_count": null,
	   "metadata": {
	    "collapsed": true
	   },
	   "outputs": [],
"source": [
"//Exa 8.1\n",
"clc;\n",
"clear;\n",
"close;\n",
"//given data\n",
"t_hi=80;// in degree C\n",
"t_ci=30;// in degree C\n",
"t_ho=40;// in degree C\n",
"Mh=0.278;// in kg/s\n",
"Mc=0.278;// in kg/s\n",
"Cph=2.09; // in kJ/kg degree C\n",
"Cpc=4.18;//  in kJ/kg degree C\n",
"U=24;// in W/m^2 degree C\n",
"// Energy balance Mh*Cph*(t_hi-t_ho) = Mc*Cpc*(t_co-t_ci)\n",
"t_co= Mh*Cph*(t_hi-t_ho)/(Mc*Cpc)+t_ci;// in degree C\n",
"del_t1=t_hi-t_co;//in degree C\n",
"del_t2=t_ho-t_ci;//in degree C\n",
"del_tm= (del_t1-del_t2)/log(del_t1/del_t2);\n",
"Cph=Cph*10^3;// in J/kg degree C\n",
"q=Mh*Cph*(t_hi-t_ho);\n",
"//Formula q=U*A*del_tm\n",
"A=q/(U*del_tm);// in m^2\n",
"disp(A,'Surface area of heat exchange in square meter')"
   ]
   }
,
{
		   "cell_type": "markdown",
		   "metadata": {},
		   "source": [
			"## Example 8.2: Length_of_heat_exchanger.sce"
		   ]
		  },
  {
"cell_type": "code",
	   "execution_count": null,
	   "metadata": {
	    "collapsed": true
	   },
	   "outputs": [],
"source": [
"//Exa 8.2\n",
"clc;\n",
"clear;\n",
"close;\n",
"//given data\n",
"t_hi=160;// in degree C\n",
"t_ci=25;// in degree C\n",
"t_ho=60;// in degree C\n",
"Mh=2;// in kg/s\n",
"Mc=2;// in kg/s\n",
"Cph=2.035; // in kJ/kg degree C\n",
"Cpc=4.187;//  in kJ/kg degree C\n",
"U=250;// in W/m^2 K\n",
"d=0.5;// in m\n",
"// Energy balance Mh*Cph*(t_hi-t_ho) = Mc*Cpc*(t_co-t_ci)\n",
"t_co= Mh*Cph*(t_hi-t_ho)/(Mc*Cpc)+t_ci;// in degree C\n",
"del_t1=t_hi-t_co;//in degree C\n",
"del_t2=t_ho-t_ci;//in degree C\n",
"del_tm= (del_t1-del_t2)/log(del_t1/del_t2);\n",
"\n",
"\n",
"Cph=Cph*10^3;// in J/kg degree C\n",
"q=Mh*Cph*(t_hi-t_ho);\n",
"\n",
"//Formula q=U*%pi*d*l*del_tm\n",
"l=q/(U*%pi*d*del_tm);\n",
"disp(l,'Length of the heat exchanger in meter')"
   ]
   }
,
{
		   "cell_type": "markdown",
		   "metadata": {},
		   "source": [
			"## Example 8.3: Area_of_heat_exchanger_tube.sce"
		   ]
		  },
  {
"cell_type": "code",
	   "execution_count": null,
	   "metadata": {
	    "collapsed": true
	   },
	   "outputs": [],
"source": [
"//Exa 8.3\n",
"clc;\n",
"clear;\n",
"close;\n",
"//given data\n",
"t_hi=110;// in degree C\n",
"t_ci=35;// in degree C\n",
"t_co=75;// in degree C\n",
"Mh=2.5;// in kg/s\n",
"Mc=1;// in kg/s\n",
"Cph=1.9; // in kJ/kg K\n",
"Cpc=4.18;//  in kJ/kg K\n",
"U=300;// in W/m^2 K\n",
"\n",
"// Energy balance Mc*Cpc*(t_co-t_ci) = Mh*Cph*(t_hi-t_ho)\n",
"t_ho=t_hi- Mc*Cpc*(t_co-t_ci)/(Mh*Cph);// in degree C\n",
"del_t1=t_hi-t_co;//in degree C\n",
"del_t2=t_ho-t_ci;//in degree C\n",
"del_tm= (del_t1-del_t2)/log(del_t1/del_t2);\n",
"Cph=Cph*10^3;// in J/kg degree C\n",
"q=Mh*Cph*(t_hi-t_ho);\n",
"//Formula q=U*A*del_tm\n",
"A=q/(U*del_tm);\n",
"disp(A,'Area of the heat exchanger in square meter')"
   ]
   }
,
{
		   "cell_type": "markdown",
		   "metadata": {},
		   "source": [
			"## Example 8.4: The_overall_heat_transfer.sce"
		   ]
		  },
  {
"cell_type": "code",
	   "execution_count": null,
	   "metadata": {
	    "collapsed": true
	   },
	   "outputs": [],
"source": [
"//Exa 8.4\n",
"clc;\n",
"clear;\n",
"close;\n",
"//given data\n",
"Fi=0.00014;// in m^2 degree C/W\n",
"hi=2000;// in W/m^2degree C\n",
"Fo=0.00015;// in m^2 degree C/W\n",
"ho=1000;// in W/m^2degree C\n",
"di=3*10^-2;// in m\n",
"do=4*10^-2;//in m\n",
"ro=do/2;\n",
"ri=di/2;\n",
"k=53;// in W/m degree C\n",
"Uo=1/(do/di*1/hi+ do/(2*k)*log(ro/ri) + 1/ho + do*Fi/di + Fo);\n",
"disp(Uo,'The overall heat transfer coefficient in W/m^2 degree C')\n",
""
   ]
   }
,
{
		   "cell_type": "markdown",
		   "metadata": {},
		   "source": [
			"## Example 8.5: Heat_transfer_rate.sce"
		   ]
		  },
  {
"cell_type": "code",
	   "execution_count": null,
	   "metadata": {
	    "collapsed": true
	   },
	   "outputs": [],
"source": [
"//Exa 8.5\n",
"clc;\n",
"clear;\n",
"close;\n",
"//given data\n",
"V=0.15;// in m/s\n",
"di=2.5*10^-2;// in m\n",
"\n",
"delta=0.364*10^-6;// in m^2/s\n",
"k=0.668;// in W/m degree C\n",
"Pr=2.22;\n",
"\n",
"Re=V*di/delta;\n",
"// Formula Nu= hi*di/k = 0.023*Re^0.8*Pr^0.3\n",
"hi=0.023*Re^0.8*Pr^0.3*k/di;// in W/m^2 degree C\n",
"\n",
"// Now, Reynold number for flow of air across the tube\n",
"delta=18.22*10^-6;// in m^2/s\n",
"k=0.0281;// in W/m degree C\n",
"Pr=0.703;\n",
"d=2.5*10^-2;// in m\n",
"u=10;// in m/s\n",
"Re=u*d/delta;\n",
"Re=floor(Re);\n",
"//The Nusselt number for this case\n",
"Nu=[0.04*Re^0.5+ 0.006*Re^(2/3)]*Pr^0.4\n",
"// Formula Nu= ho*do/k\n",
"do=di;\n",
"ho=Nu*k/do;// in W/m^2 degree C\n",
"disp(ho,'Heat transfer coefficient in W/m^2 degree C');\n",
"U=1/(1/hi+1/ho);\n",
"disp(U,'The overall heat transfer coefficient neglecting the wall resistance in W/m^2 degree C');\n",
"l=1;// in m\n",
"Ti=90;// in degree C\n",
"To=10;// in degree C\n",
"q=U*%pi*d*l*(Ti-To);\n",
"disp(q,'Heat loss per meter length of the tube in W/m')\n",
"\n",
"// Note: Answer in the book is wrong\n",
"\n",
"\n",
"\n",
"\n",
"\n",
""
   ]
   }
,
{
		   "cell_type": "markdown",
		   "metadata": {},
		   "source": [
			"## Example 8.6: Type_of_heat_exchanger_required.sce"
		   ]
		  },
  {
"cell_type": "code",
	   "execution_count": null,
	   "metadata": {
	    "collapsed": true
	   },
	   "outputs": [],
"source": [
"//Exa 8.6\n",
"clc;\n",
"clear;\n",
"close;\n",
"//given data\n",
"t_hi=83;// in degree C\n",
"t_ho=45;// in degree C\n",
"t_ci=25;// in degree C\n",
"Mh=5;// in kg/min\n",
"Mc=9;// in kg/min\n",
"Cph=4.18; // in kJ/kg K\n",
"Cpc=2.85;//  in kJ/kg K\n",
"// Energy balance Mh*Cph*(t_hi-t_ho) = Mc*Cpc*(t_co-t_ci) \n",
"t_co= Mh*Cph*(t_hi-t_ho)/(Mc*Cpc)+t_ci;// in degree C\n",
"disp(t_co,'t_co in degree C');\n",
"if(t_co>t_ho)\n",
"    \n",
"   disp('since t_co > t_ho, hence counter flow arrangment will be suitable')\n",
"end"
   ]
   }
,
{
		   "cell_type": "markdown",
		   "metadata": {},
		   "source": [
			"## Example 8.7: Heat_transfer_area.sce"
		   ]
		  },
  {
"cell_type": "code",
	   "execution_count": null,
	   "metadata": {
	    "collapsed": true
	   },
	   "outputs": [],
"source": [
"//Exa 8.7\n",
"clc;\n",
"clear;\n",
"close;\n",
"//given data\n",
"// (a) For parallel flow arrangment\n",
"del_t1=60-10;// in degree C\n",
"del_t2=40-30;// in degree C\n",
"del_tm=(del_t1-del_t2)/log(del_t1/del_t2);// in degree C\n",
"q=100*10^3;// in W\n",
"U=75;// in W/m^2 degree C\n",
"// Formula q=U*A*del_tm;\n",
"A=q/(U*del_tm);\n",
"disp(A,'Area for paraller flow arrangment in square meter');\n",
"// (b) For counter flow heat exchange\n",
"del_t1=60-30;// in degree C\n",
"del_t2=40-10;// in degree C\n",
"// In this case\n",
"del_tm=(del_t1+del_t2)/2;// in degree C\n",
"A=q/(U*del_tm);\n",
"disp(A,'Area For counter flow heat exchange in square meter');\n",
"disp('In counter flow arrangment less area is required for the above purpose')"
   ]
   }
,
{
		   "cell_type": "markdown",
		   "metadata": {},
		   "source": [
			"## Example 8.8: Rate_of_heat_condensation.sce"
		   ]
		  },
  {
"cell_type": "code",
	   "execution_count": null,
	   "metadata": {
	    "collapsed": true
	   },
	   "outputs": [],
"source": [
"//Exa 8.8\n",
"clc;\n",
"clear;\n",
"close;\n",
"//given data\n",
"Cp=4180;// in J/kg degree C\n",
"miu=0.86*10^-3;// in kg/m-s\n",
"Pr=60;\n",
"k=0.60;// in W/m degree C\n",
"h_fg=2372400;// in W\n",
"ho=6000;// in W/m^2 degree C\n",
"di=2*10^-2;// in m\n",
"d_o=3*10^-2;// in m\n",
"t_co=35;// in degree C\n",
"t_ci=15;// in degree C\n",
"\n",
"M=0.9;\n",
"Re=4*M/(%pi*di*miu);\n",
"// since Re > 2300, hence flow inside tube is a turbulent flow.\n",
"// Hence  Nu= hi*di/k = 0.023*Re^0.8*Pr^0.4\n",
"hi= 0.023*Re^0.8*Pr^0.4*k/di;\n",
"Uo= 1/(1/10213.6*(d_o/di)+1/ho);\n",
"del_t1=50-15;// in degree C\n",
"del_t2=50-35;// in degree C\n",
"del_tm=(del_t1-del_t2)/log(del_t1/del_t2);// in degree C\n",
"// Formula q= Uo*%pi*d_i*L*del_tm = M*Cp*(t_co-t_ci)\n",
"L= M*Cp*(t_co-t_ci)/(Uo*%pi*d_o*del_tm);\n",
"disp(L,'Length of tube in meter')\n",
"q=M*Cp*(t_co-t_ci);// in watt\n",
"m=q/h_fg;\n",
"disp(m,'Rate of condensation in kg/sec')"
   ]
   }
,
{
		   "cell_type": "markdown",
		   "metadata": {},
		   "source": [
			"## Example 8.9: Heat_transfer_area.sce"
		   ]
		  },
  {
"cell_type": "code",
	   "execution_count": null,
	   "metadata": {
	    "collapsed": true
	   },
	   "outputs": [],
"source": [
"//Exa 8.9\n",
"clc;\n",
"clear;\n",
"close;\n",
"//given data\n",
"Cph=3850; // in J/kg degree C\n",
"t_hi=100;// in degree C\n",
"t_ci=20;// in degree C\n",
"t_ho=50;// in degree C\n",
"Mh=8;// in kg/s\n",
"Mc=10;// in kg/s\n",
"Cpc=4.18*10^3;//  in J/kg degree C\n",
"U=400;// in W/m^2 degree C\n",
"// Energy balance Mh*Cph*(t_hi-t_ho) = Mc*Cpc*(t_co-t_ci)\n",
"t_co= Mh*Cph*(t_hi-t_ho)/(Mc*Cpc)+t_ci;// in degree C\n",
"// Heat load\n",
"q=Mh*Cph*(t_hi-t_ho);// in W\n",
"\n",
"// (a) Parallel flow\n",
"del_t1=90;// in degree C\n",
"del_t2=3.16;// in degree C\n",
"del_tm= (del_t1-del_t2)/log(del_t1/del_t2);\n",
"A=q/(U*del_tm);\n",
"disp(A,'Surface area for parallel flow in meter square');\n",
"\n",
"// (b) Counter flow heat exchanger\n",
"del_t1=53.16;// in degree C\n",
"del_t2=40;// in degree C\n",
"del_tm_counter= (del_t1-del_t2)/log(del_t1/del_t2);\n",
"A=q/(U*del_tm_counter);\n",
"disp(A,'Surface area for counter flow heat exchanger in meter square');\n",
"\n",
"//(c) One shell pass and two tube pass.\n",
"//here\n",
"t1=10;// in degree C\n",
"t2=46.84;// in degree C\n",
"T1=100;// in degree C\n",
"T2=50;// in degree C\n",
"P=(t2-t1)/(T1-t1);\n",
"R=(T1-T2)/(t2-t1);\n",
"F=0.88;\n",
"del_tm=F*del_tm_counter;// in degree C\n",
"A=q/(U*del_tm);\n",
"disp(A,'Surface area for one shell pass and two tube pass in meter square');\n",
"\n",
"// (d) For cross flow, correction factor \n",
"F=0.9;\n",
"del_tm=F*del_tm_counter;\n",
"A=q/(U*del_tm);\n",
"disp(A,'Surface area for cross flow in meter square');"
   ]
   }
],
"metadata": {
		  "kernelspec": {
		   "display_name": "Scilab",
		   "language": "scilab",
		   "name": "scilab"
		  },
		  "language_info": {
		   "file_extension": ".sce",
		   "help_links": [
			{
			 "text": "MetaKernel Magics",
			 "url": "https://github.com/calysto/metakernel/blob/master/metakernel/magics/README.md"
			}
		   ],
		   "mimetype": "text/x-octave",
		   "name": "scilab",
		   "version": "0.7.1"
		  }
		 },
		 "nbformat": 4,
		 "nbformat_minor": 0
}
