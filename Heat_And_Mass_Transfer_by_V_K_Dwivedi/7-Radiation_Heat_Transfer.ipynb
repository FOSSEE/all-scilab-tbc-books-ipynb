{
"cells": [
 {
		   "cell_type": "markdown",
	   "metadata": {},
	   "source": [
       "# Chapter 7: Radiation Heat Transfer"
	   ]
	},
{
		   "cell_type": "markdown",
		   "metadata": {},
		   "source": [
			"## Example 7.10: Shape_factor_of_a_cylinderical_cavity.sce"
		   ]
		  },
  {
"cell_type": "code",
	   "execution_count": null,
	   "metadata": {
	    "collapsed": true
	   },
	   "outputs": [],
"source": [
"//Exa 7.10\n",
"clc;\n",
"clear;\n",
"close;\n",
"//given data\n",
"D=150*10^-3;// in m\n",
"H=400*10^-3;// in m\n",
"T1=500;// in K\n",
"epsilon=0.7;\n",
"// Formula F11=(4*H)/(4*H+D)\n",
"F11=(4*H)/(4*H+D);\n",
"sigma=5.67*10^-8;\n",
"A1=%pi*D*H;\n",
"q=sigma*A1*epsilon*T1^4*[(1-F11)/(1-F11*(1-epsilon))];\n",
"disp(q,'Heat Heat loss for cavity in W');\n",
"\n",
"//Note: There is some difference between Code answer and book answer because value of F11 is wrong in the book"
   ]
   }
,
{
		   "cell_type": "markdown",
		   "metadata": {},
		   "source": [
			"## Example 7.11: Net_heat_transfer_rate_and_rate_of_evaporation_of_liquid_oxygen.sce"
		   ]
		  },
  {
"cell_type": "code",
	   "execution_count": null,
	   "metadata": {
	    "collapsed": true
	   },
	   "outputs": [],
"source": [
"//Exa 7.11\n",
"clc;\n",
"clear;\n",
"close;\n",
"//given data\n",
"epsilon1=.04;\n",
"epsilon2=epsilon1;\n",
"T1=-153+273;// in K\n",
"T2=27+273;// in K\n",
"h_fg=209;// in kJ/kg\n",
"h_fg=h_fg*10^3;// in J/kg\n",
"d1=20*10^-2;// in m\n",
"d2=30*10^-2;// in m\n",
"A1=d1^2;// in square meter\n",
"A2=d2^2;// in square meter\n",
"A=4*%pi*(d2-d1)^2;\n",
"Fg12=1/((1/epsilon1+(1/epsilon2-1)*A1/A2));\n",
"sigma=5.67*10^-8;    \n",
"q12=sigma*A*Fg12*(T1^4-T2^4);// in W\n",
"disp(q12,'Net radiant heat transfer rate in watt')\n",
"disp('Negative sign indicates that heat flows into the sphere')\n",
"q12=-q12;\n",
"m=q12*60/h_fg;\n",
"disp(m,'Rate of evaporation per minutes in kg/min')"
   ]
   }
,
{
		   "cell_type": "markdown",
		   "metadata": {},
		   "source": [
			"## Example 7.12: Radiation_heat_transfer.sce"
		   ]
		  },
  {
"cell_type": "code",
	   "execution_count": null,
	   "metadata": {
	    "collapsed": true
	   },
	   "outputs": [],
"source": [
"//Exa 7.12\n",
"clc;\n",
"clear;\n",
"close;\n",
"//given data\n",
"T1=500;// in K\n",
"T2=300;// in K\n",
"sigma=5.67*10^-8;\n",
"A=2;// surface area of each plate in m^2\n",
"//(a) If the plates are perfectly black\n",
"F12=1;\n",
"q12=sigma*A*F12*(T1^4-T2^4);\n",
"disp(q12,'Radiation heat transfer between two black parellel plates in watt');\n",
"\n",
"//(b) If the plates are gray surface\n",
"//in this case\n",
"F12=1;\n",
"//A1=A2, so\n",
"A1byA2=1\n",
"epsilon1=.4;\n",
"epsilon2=epsilon1;\n",
"//Fg12=1/(1/epsilon1+(1/epsilon2-1)*A1byA2);\n",
"Fg12=1/((1-epsilon1)/epsilon1 + 1/F12 + [(1-epsilon2)/epsilon2]*A1byA2);\n",
"q12=sigma*A*Fg12*(T1^4-T2^4);// in W\n",
"disp(q12,'Heat transfer rate in watt')"
   ]
   }
,
{
		   "cell_type": "markdown",
		   "metadata": {},
		   "source": [
			"## Example 7.13: Steady_state_temperature.sce"
		   ]
		  },
  {
"cell_type": "code",
	   "execution_count": null,
	   "metadata": {
	    "collapsed": true
	   },
	   "outputs": [],
"source": [
"//Exa 7.13\n",
"clc;\n",
"clear;\n",
"close;\n",
"format('v',6)\n",
"//given data\n",
"T1=800;// in K\n",
"T3=200;// in K\n",
"sigma=5.67*10^-8;\n",
"d1=20*10^-2;// in m\n",
"d2=30*10^-2;// in m\n",
"d3=40*10^-2;// in m\n",
"A1=4*%pi*(d1/2)^2;// in m^2\n",
"A2=4*%pi*(d2/2)^2;// in m^2\n",
"A3=4*%pi*(d3/2)^2;// in m^2\n",
"epsilon1=0.2;\n",
"epsilon2=epsilon1\n",
"epsilon3=epsilon1\n",
"Fg12=1/(1/epsilon1+(1/epsilon2-1)*A1/A2);\n",
"Fg23=1/(1/epsilon2+(1/epsilon3-1)*A2/A3);\n",
"// Under steady state condition \n",
"// q12 = q23\n",
"// A1*Fg12*sigma*(T1^4-T2^4) = A2*Fg23*sigma*(T2^4-T3^4)\n",
"T2 = ((A2*Fg23*T3^4/(A1*Fg12)+T1^4)/(A2*Fg23/(A1*Fg12) + 1))^(1/4)\n",
"disp(T2,'Steady state temperature of the intermediate sphere in K');"
   ]
   }
,
{
		   "cell_type": "markdown",
		   "metadata": {},
		   "source": [
			"## Example 7.14: Rate_of_absorption_and_emission.sce"
		   ]
		  },
  {
"cell_type": "code",
	   "execution_count": null,
	   "metadata": {
	    "collapsed": true
	   },
	   "outputs": [],
"source": [
"//Exa 7.14\n",
"clc;\n",
"clear;\n",
"close;\n",
"format('v',9);\n",
"//given data\n",
"T1=400;// in K\n",
"T2=500;// in K\n",
"T3=1200;// in K\n",
"alpha1=0.70;\n",
"alpha2=0.6;\n",
"alpha3=0.4;\n",
"// First part\n",
"disp('Radiation falling on the body is emitted by the furnace wall at 1200 K ')\n",
"disp('The absorptivity of the body for this radiation is 0.4.')\n",
"sigma=5.67*10^-8;\n",
"qa=alpha3*sigma*T3^4;\n",
"disp(qa,'The rate of energy absorption in W/m^2');\n",
"\n",
"// Second part\n",
"disp('The emissivity of surface equals its absoptivity at 127 degree')\n",
"qa=alpha1*sigma*T1^4;\n",
"disp(qa,'The rate of emission of radiation energy in W/m^2');\n",
"\n",
"\n",
"// Note : Answer of the first part in the book is wrong"
   ]
   }
,
{
		   "cell_type": "markdown",
		   "metadata": {},
		   "source": [
			"## Example 7.15: Radient_Heat_transfer.sce"
		   ]
		  },
  {
"cell_type": "code",
	   "execution_count": null,
	   "metadata": {
	    "collapsed": true
	   },
	   "outputs": [],
"source": [
"//Exa 7.15\n",
"clc;\n",
"clear;\n",
"close;\n",
"format('v',9)\n",
"//given data\n",
"d1=100;// in mm\n",
"d1=d1*10^-3;// in m\n",
"d2=100+10*2;// in mm\n",
"d2=d2*10^-3;// in m\n",
"l=1;// in m\n",
"A1byA2=d1^2/d2^2;\n",
"A1=%pi*d1*l;// in m^2\n",
"sigma=5.67*10^-8;\n",
"T1=120+273;// in K\n",
"T2=35+273;// in K\n",
"epsilon1=.8;\n",
"epsilon2=.1;\n",
"Fg12=1/(1/epsilon1+(1/epsilon2-1)*A1byA2);\n",
"// Radiant heat transfer from the tube\n",
"q=A1*Fg12*sigma*(T1^4-T2^4)\n",
"disp(q,' Radiant heat transfer from the tube in W/m');\n",
"\n",
"\n",
"//Note: Answer in the book is wrong"
   ]
   }
,
{
		   "cell_type": "markdown",
		   "metadata": {},
		   "source": [
			"## Example 7.1: Monochromatic_emissive_power_and_Maximum_emissive_power.sce"
		   ]
		  },
  {
"cell_type": "code",
	   "execution_count": null,
	   "metadata": {
	    "collapsed": true
	   },
	   "outputs": [],
"source": [
"//Exa 7.1\n",
"clc;\n",
"clear;\n",
"close;\n",
"//given data\n",
"lamda=2*10^-6;// in m\n",
"C1=0.374*10^-15;\n",
"T=2000+273;// in K'\n",
"C2=1.4388*10^-2;\n",
"\n",
"//(a)\n",
"// Formula Eb_lamda= (C1*lamda^-5)/[exp(C2/(lamda*T))-1]\n",
"Eb_lamda= (C1*lamda^-5)/[exp(C2/(lamda*T))-1];\n",
"disp(Eb_lamda,'Monochromatic emissive power at 2 micro wavelength in W/m^2 is :');\n",
"\n",
"//(b)\n",
"// Formula lamda_max * T =2898 // in micro m K\n",
"lamda_max= 2898/T;// in micro m\n",
"disp(lamda_max,'Wave-length at which the emission is maximum in micro m');\n",
"\n",
"//(c)\n",
"Elamdab_max=1.285*10^-5*T^5;// in W/m^2-m\n",
"disp(Elamdab_max,'Maximum emissive power in W/m^2-m : ');\n",
"\n",
"//(d)\n",
"sigma=5.67*10^-8;\n",
"E=sigma*T^4;\n",
"disp(E,'Total emissive power in W/m^2 :');\n",
"\n",
"//Note: Answer of  part (a) in the book is wrong\n",
"\n",
""
   ]
   }
,
{
		   "cell_type": "markdown",
		   "metadata": {},
		   "source": [
			"## Example 7.2: Heat_transfer_by_radiation_and_natural_convection.sce"
		   ]
		  },
  {
"cell_type": "code",
	   "execution_count": null,
	   "metadata": {
	    "collapsed": true
	   },
	   "outputs": [],
"source": [
"//Exa 7.2\n",
"clc;\n",
"clear;\n",
"close;\n",
"//given data\n",
"lamda=2*10^-6;// in m\n",
"C1=0.374*10^-15;\n",
"T=2000+273;// in K'\n",
"C2=1.4388*10^-2;\n",
"\n",
"epsilon=0.3;\n",
"sigma=5.67*10^-8;\n",
"T1=300;// in K\n",
"T2=200;// in K\n",
"del_T=T1-T2;\n",
"h=12;// in W/m^2 degree C\n",
"d=4*10^-2;// diameter in m\n",
"l=1;// in m\n",
"A=%pi*d*l;\n",
"// Heat transfer rate by radiation,\n",
"q_r= epsilon*sigma*A*(T1^4-T2^4);// in W\n",
"// Heat transfer rate by convection,\n",
"q_c=h*A*del_T;// in W\n",
"// Total heat transfer,\n",
"q=q_r+q_c;\n",
"// Formula q=U*A*del_T\n",
"U=q/(A*del_T);// Overall heat tranfer coefficient\n",
"disp(U,'Overall heat tranfer coefficient in W/m^2 degree C');\n",
"\n",
"//Note: Value of q_c is wrong in the book, so the answer in the book is wrong"
   ]
   }
,
{
		   "cell_type": "markdown",
		   "metadata": {},
		   "source": [
			"## Example 7.3: Heat_transfer_rate.sce"
		   ]
		  },
  {
"cell_type": "code",
	   "execution_count": null,
	   "metadata": {
	    "collapsed": true
	   },
	   "outputs": [],
"source": [
"//Exa 7.3\n",
"clc;\n",
"clear;\n",
"close;\n",
"//given data\n",
"epsilon=0.5;\n",
"T1=1200;// in K\n",
"T2=300;// in K\n",
"//(a) Heat transfer rate between the two plates is \n",
"// Formula Fg12=1/((1/epsilon1+(1/epsilon2-1)*A1/A2))\n",
"epsilon1=epsilon;\n",
"epsilon2=epsilon;\n",
"A1byA2=1;\n",
"Fg12=1/(1/epsilon1+(1/epsilon2-1)*A1byA2);\n",
"// Formula q12= sigma*A*Fg12*(T1^4-T2^4)  \n",
"sigma=5.67*10^-8;\n",
"q12byA=sigma*Fg12*(T1^4-T2^4);// in W/m^2\n",
"disp(q12byA,'Heat transfer rate between the two plates in W/m^2')\n",
"\n",
"//(b)\n",
"epsilon3=.05;\n",
"Fg13=1/(1/epsilon1+(1/epsilon3-1)*A1byA2);\n",
"Fg32=1/(1/epsilon3+(1/epsilon2-1)*A1byA2);\n",
"// q13=q32\n",
"// sigma*A*Fg13*(T1^4-T3^4) = sigma*A*Fg32*(T3^4-T2^4)  \n",
"T3= ((T1^4+T2^4)/2)^(1/4);\n",
"T3=floor(T3);\n",
"q13byA=sigma*Fg13*(T1^4-T3^4);// in W/m^2\n",
"disp(q13byA,'Heat transfer rate if a radiation shield with an emissivity of 0.05 on both sides is placed between the two plates in W/m^2')"
   ]
   }
,
{
		   "cell_type": "markdown",
		   "metadata": {},
		   "source": [
			"## Example 7.4: Energy_emitted_by_a_grey_surface.sce"
		   ]
		  },
  {
"cell_type": "code",
	   "execution_count": null,
	   "metadata": {
	    "collapsed": true
	   },
	   "outputs": [],
"source": [
"//Exa 7.4 \n",
"clc;\n",
"clear;\n",
"close;\n",
"//given data\n",
"format('v',9);\n",
"T1=800+273;// in K\n",
"A= 5*6;// in square meter\n",
"epsilon=0.45;\n",
"sigma=5.67*10^-8;\n",
"q=epsilon*sigma*A*T1^4;//in watt\n",
"disp(q,'Energy emitted by a grey surface in watt : ');"
   ]
   }
,
{
		   "cell_type": "markdown",
		   "metadata": {},
		   "source": [
			"## Example 7.5_1: Absorbed_Transmitted_and_emitted_energy.sce"
		   ]
		  },
  {
"cell_type": "code",
	   "execution_count": null,
	   "metadata": {
	    "collapsed": true
	   },
	   "outputs": [],
"source": [
"//Exa 7.4\n",
"clc;\n",
"clear;\n",
"close;\n",
"//given data\n",
"A=5;// in m^2\n",
"intensity=660;// in W/m^2\n",
"\n",
"disp('alpha= 2*rho   or    rho=alpha/2')\n",
"disp('alpha= 3*toh   or    toh=alpha/3')\n",
"disp('as alpha + rho + toh =1')\n",
"disp('then alpha+alpha/2+alpha/3 = 1')\n",
"disp('alpha = 6/11')\n",
"disp('rho = 6/22')\n",
"disp('toh = 6/33')\n",
"alpha=6/11;\n",
"rho=6/22;\n",
"toh=6/33;\n",
"energy_absorbed= intensity*alpha*A;// in watt\n",
"disp(energy_absorbed, 'Energy absorbed in watt : ')\n",
"energy_transmitted=intensity*rho*A;//in watt\n",
"disp(energy_transmitted,'Energy transmitted in watt :')\n",
"energy_emitted= intensity*toh*A;// in watt\n",
"disp(energy_emitted,'Energy emitted in watt: ')\n",
""
   ]
   }
,
{
		   "cell_type": "markdown",
		   "metadata": {},
		   "source": [
			"## Example 7.5_2: Net_heat_exchange_between_the_two_surface.sce"
		   ]
		  },
  {
"cell_type": "code",
	   "execution_count": null,
	   "metadata": {
	    "collapsed": true
	   },
	   "outputs": [],
"source": [
"//Exa 7.5\n",
"clc;\n",
"clear;\n",
"close;\n",
"//given data\n",
"T1=200+273;// in K\n",
"T2=100+273;// in K\n",
"A= 1*2;// in square meter\n",
"sigma=5.67*10^-8;\n",
"x_D= 1/4;\n",
"y_D= 1/2;\n",
"Fg12= 0.033;\n",
"q12= Fg12*sigma*A*(T1^4-T2^4);// in watt\n",
"disp(q12,'The net heat exchange between two surfaces in watt')"
   ]
   }
,
{
		   "cell_type": "markdown",
		   "metadata": {},
		   "source": [
			"## Example 7.6: heat_loss_and_net_heat_transfer_between_pipe_and_duct.sce"
		   ]
		  },
  {
"cell_type": "code",
	   "execution_count": null,
	   "metadata": {
	    "collapsed": true
	   },
	   "outputs": [],
"source": [
"//Exa 7.6\n",
"clc;\n",
"clear;\n",
"close;\n",
"//given data\n",
"d=20*10^-2;//diameter of pipe in m\n",
"l=1;// length of pipe in m\n",
"s=30*10^-2;// side of duct in m\n",
"A1=%pi*d*l;// area of pipe in m^2\n",
"A2=4*s*s;// area of duct in m^2\n",
"epsilon1=0.8;\n",
"epsilon2=0.9;\n",
"T1=200+273;// in K\n",
"T2=20+273;// in K\n",
"// Formula Fg12=1/((1/epsilon1+(1/epsilon2-1)*A1/A2))\n",
"Fg12=1/((1/epsilon1+(1/epsilon2-1)*A1/A2));\n",
"// Heat transfer rate between pipe and duct\n",
"sigma=5.67*10^-8;\n",
"q12=sigma*Fg12*A1*(T1^4-T2^4);// in W\n",
"disp(q12,'Heat transfer rate between pipe and duct in W');\n",
"\n",
"//Note: Answer in the book is wrong"
   ]
   }
],
"metadata": {
		  "kernelspec": {
		   "display_name": "Scilab",
		   "language": "scilab",
		   "name": "scilab"
		  },
		  "language_info": {
		   "file_extension": ".sce",
		   "help_links": [
			{
			 "text": "MetaKernel Magics",
			 "url": "https://github.com/calysto/metakernel/blob/master/metakernel/magics/README.md"
			}
		   ],
		   "mimetype": "text/x-octave",
		   "name": "scilab",
		   "version": "0.7.1"
		  }
		 },
		 "nbformat": 4,
		 "nbformat_minor": 0
}
