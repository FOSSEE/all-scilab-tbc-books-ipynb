{
"cells": [
 {
		   "cell_type": "markdown",
	   "metadata": {},
	   "source": [
       "# Chapter 9: Condensation and Boiling"
	   ]
	},
{
		   "cell_type": "markdown",
		   "metadata": {},
		   "source": [
			"## Example 9.1: Rate_of_heat_transfer.sce"
		   ]
		  },
  {
"cell_type": "code",
	   "execution_count": null,
	   "metadata": {
	    "collapsed": true
	   },
	   "outputs": [],
"source": [
"//Exa 9.1\n",
"clc;\n",
"clear;\n",
"close;\n",
"format('v',9)\n",
"//given data\n",
"h_fg=2256*10^3;// in J/kg\n",
"rho=970;// in kg/m^3\n",
"rho_v=0.596;// in kg/m^3\n",
"k=0.66;// in W/mK\n",
"miu=3.7*10^-4;// in kg/m-s\n",
"T_sat=100;// in degree C\n",
"T_s=40;// in degree C\n",
"L=1.5;// in m\n",
"d=0.09;// in m\n",
"g=9.81;\n",
"// heat transfer coefficient\n",
"//h_bar = 1.13*[ rho*g*(rho-rho_v)*h_fg*k^3/(miu*L*(T_sat-T_s))]^(1/4);// in W/m^2k\n",
"h_bar= 1.13*[     rho*g*(rho-rho_v)*h_fg*k^3/(  miu*L*(T_sat-T_s)          )         ]^(1/4);\n",
"// heat transfer rate\n",
"q=h_bar*%pi*d*L*(T_sat-T_s);// in watt\n",
"disp(q*10^-3,'Heat transfer rate in kW')\n",
"//rate of condensation\n",
"m=q/h_fg;// in kg/s\n",
"disp(m,'Rate of condenstion in kg/s')"
   ]
   }
,
{
		   "cell_type": "markdown",
		   "metadata": {},
		   "source": [
			"## Example 9.2: Condensation_rate.sce"
		   ]
		  },
  {
"cell_type": "code",
	   "execution_count": null,
	   "metadata": {
	    "collapsed": true
	   },
	   "outputs": [],
"source": [
"//Exa 9.2\n",
"clc;\n",
"clear;\n",
"close;\n",
"format('v',9)\n",
"//given data\n",
"h_fg=2310*10^3;// in J/kg\n",
"rho=980;// in kg/m^3\n",
"k=0.67;// in W/mK\n",
"Cp=4.18;\n",
"delta=.41*10^-6;// in m^2/s\n",
"miu=rho*delta;\n",
"T_sat=70;// in degree C\n",
"T_s=55;// in degree C\n",
"L=1;// in m\n",
"d=0.03;// in m\n",
"g=9.81;\n",
"N=5;\n",
"// (a) for Horizontal tube\n",
"h_bar = 0.725*[ rho^2*g*h_fg*k^3/(N*miu*d*(T_sat-T_s))]^(1/4);// in W/m^2k\n",
"// heat transfer rate\n",
"q=h_bar*%pi*d*L*N^2*(T_sat-T_s);// in watt\n",
"disp(q*10^-3,'Heat transfer rate for horizontal tube in kW')\n",
"//rate of condensation\n",
"m=q/h_fg;// in kg/s\n",
"disp(m,'Rate of condenstion in kg/s');\n",
"\n",
"// (b) For Vertical tube\n",
"h_bar = 1.13*[ rho^2*g*h_fg*k^3/(miu*L*(T_sat-T_s))]^(1/4);// in W/m^2k\n",
"// heat transfer rate\n",
"q=h_bar*%pi*d*L*N^2*(T_sat-T_s);// in watt\n",
"disp(q*10^-3,'Heat transfer rate for vertical tube in kW')\n",
"//rate of condensation\n",
"m=q/h_fg;// in kg/s\n",
"disp(m,'Rate of condenstion in kg/s');\n",
""
   ]
   }
,
{
		   "cell_type": "markdown",
		   "metadata": {},
		   "source": [
			"## Example 9.3: Length_of_tube_and_total_heat_transfer_rate.sce"
		   ]
		  },
  {
"cell_type": "code",
	   "execution_count": null,
	   "metadata": {
	    "collapsed": true
	   },
	   "outputs": [],
"source": [
"//Exa 9.3\n",
"clc;\n",
"clear;\n",
"close;\n",
"format('v',9)\n",
"//given data\n",
"h_fg=2392*10^3;// in J/kg\n",
"rho=993;// in kg/m^3\n",
"k=0.63;// in W/mK\n",
"miu=728*10^-6;// in kJ/m-s\n",
"N=10;\n",
"T_sat=45.7;// in degree C\n",
"T_s=25;// in degree C\n",
"d=4*10^-3;// in m\n",
"g=9.81;\n",
"h_bar = 0.725*[ rho^2*g*h_fg*k^3/(N*miu*d*(T_sat-T_s))]^(1/4);// in W/m^2k\n",
"m=300/(60*60);\n",
"// Formula m=q/h_fg\n",
"q=m*h_fg;\n",
"disp(q*10^-3,'Heat transfer rate in kW')\n",
"// Formula q=h_bar*%pi*d*L*N^2*(T_sat-T_s)\n",
"L=q/(h_bar*%pi*d*N^2*(T_sat-T_s));\n",
"disp(L,'Length of tube in m');\n",
"\n",
"// Note: Answer in the book is wrong"
   ]
   }
,
{
		   "cell_type": "markdown",
		   "metadata": {},
		   "source": [
			"## Example 9.4: Film_thickness.sce"
		   ]
		  },
  {
"cell_type": "code",
	   "execution_count": null,
	   "metadata": {
	    "collapsed": true
	   },
	   "outputs": [],
"source": [
"//Exa 9.4\n",
"clc;\n",
"clear;\n",
"close;\n",
"format('v',9)\n",
"//given data\n",
"h_fg=2400*10^3;// in J/kg\n",
"rho=993;// in kg/m^3\n",
"rho_v=0.0563;// in kg/m^3\n",
"t_mf=(40+30)/2;// in degree C\n",
"k=0.625;// in W/mK\n",
"miu=728*10^-6;// in kJ/m-s\n",
"x=0.25;\n",
"T_sat=40;// in degree C\n",
"T_s=30;// in degree C\n",
"g=9.81;\n",
"\n",
"// (a) Thickness of condensate film\n",
"delta=[  4*k*(T_sat-T_s)*miu*x/(rho*(rho-rho_v)*g*h_fg)     ]^(1/4);// in meter\n",
"disp(delta*10^3,'Thickness of condensate film in mm');\n",
"\n",
"//(b) Local value of heat transfer coefficient\n",
"hx=k/delta;// in W/m^2\n",
"L=0.5;// in m\n",
"hm=4/3*(L/x)^(1/4)*hx;\n",
"disp(hm,'Average heat transfer coefficient in W/m^2');\n",
"// The heat transfer rate\n",
"A=0.5*0.5;// in m^2\n",
"q=hm*A*(T_sat-T_s);// in watt\n",
"disp(q*10^-3,'The heat transfer rate in kW')\n",
"\n",
"// (c) \n",
"theta=45;// in degree\n",
"h_vertical=hm;\n",
"h_inclined=h_vertical*(sind(theta))^(1/4);\n",
"disp(h_inclined,'Average heat transfer coefficient when plate is inclined at 45 degree in W/m^2K');"
   ]
   }
,
{
		   "cell_type": "markdown",
		   "metadata": {},
		   "source": [
			"## Example 9.5: Heat_transfer_rate.sce"
		   ]
		  },
  {
"cell_type": "code",
	   "execution_count": null,
	   "metadata": {
	    "collapsed": true
	   },
	   "outputs": [],
"source": [
"//Exa 9.5\n",
"clc;\n",
"clear;\n",
"close;\n",
"format('v',9)\n",
"//given correlataion\n",
"//h_A=5.56*(det_T)^3\n",
"//h_P=h_A*(rho/rho_a)^0.4\n",
"disp('When temperature excess is 25 degree C at atmospheric pressure')\n",
"del_T=25;// in degree C\n",
"h_A=5.56*(del_T)^3;// in W/m^2K\n",
"disp(h_A*10^-3,'The heat transfer coefficient in kW/m^2K');\n",
"// and at 20 bar\n",
"rho=20;\n",
"rho_a=1;\n",
"h_P=h_A*(rho/rho_a)^0.4;// in W/m^2\n",
"disp(h_P*10^-3,'Value of h_P in kW/m^2')"
   ]
   }
],
"metadata": {
		  "kernelspec": {
		   "display_name": "Scilab",
		   "language": "scilab",
		   "name": "scilab"
		  },
		  "language_info": {
		   "file_extension": ".sce",
		   "help_links": [
			{
			 "text": "MetaKernel Magics",
			 "url": "https://github.com/calysto/metakernel/blob/master/metakernel/magics/README.md"
			}
		   ],
		   "mimetype": "text/x-octave",
		   "name": "scilab",
		   "version": "0.7.1"
		  }
		 },
		 "nbformat": 4,
		 "nbformat_minor": 0
}
