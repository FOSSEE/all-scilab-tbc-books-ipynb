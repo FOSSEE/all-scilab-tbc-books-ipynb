{
"cells": [
 {
		   "cell_type": "markdown",
	   "metadata": {},
	   "source": [
       "# Chapter 5: Forced Convection Heat Transfer"
	   ]
	},
{
		   "cell_type": "markdown",
		   "metadata": {},
		   "source": [
			"## Example 5.10: Heat_transfer_rate_from_the_cylinder.sce"
		   ]
		  },
  {
"cell_type": "code",
	   "execution_count": null,
	   "metadata": {
	    "collapsed": true
	   },
	   "outputs": [],
"source": [
"//Exa 5.10\n",
"clc;\n",
"clear;\n",
"close;\n",
"//given data\n",
"d=0.058;// in m\n",
"t_infinite=30;// in degree C\n",
"t_s=155;// in degree C\n",
"V=52;// in m/s\n",
"T_f=(t_s+t_infinite)/2;// in degree C\n",
"T_f=T_f+273;// in K\n",
"// Fluid properties at 92.5 degree C and 1 atm\n",
"miu= 2.145*10^-5;// in kg/ms\n",
"Pr=0.696;\n",
"P=1.0132*10^5;\n",
"R=287;\n",
"k=0.0312;// in W/mK\n",
"rho=P/(R*T_f);// in kg/m^3\n",
"Re=rho*V*d/miu;\n",
"C=0.0266;\n",
"n=0.805;\n",
"// Nu = h*d/k = C*(Re)^n*Pr^(1/3)\n",
"h=C*(Re)^n*Pr^(1/3)*k/d;// in W/m^2K\n",
"//So, heat transfer rate per unit length from cylinder\n",
"q_by_L= h*(%pi*d)*(t_s-t_infinite);// in W/m\n",
"disp(q_by_L,'Heat transfer rate per unit length from cylinder in W/m');\n",
"\n",
"\n",
"// Note: Calculation of q_by_L in the book is wrong , so the answer in the book is wrong"
   ]
   }
,
{
		   "cell_type": "markdown",
		   "metadata": {},
		   "source": [
			"## Example 5.11: Heat_loss_by_the_sphere.sce"
		   ]
		  },
  {
"cell_type": "code",
	   "execution_count": null,
	   "metadata": {
	    "collapsed": true
	   },
	   "outputs": [],
"source": [
"//Exa 5.11\n",
"clc;\n",
"clear;\n",
"close;\n",
"//given data\n",
"delta=15.68*10^-6;// in m^2/s\n",
"t_infinite=25+273;// in K\n",
"t_s=80+273;// in K\n",
"t_infinite=25+273;// in K\n",
"k=0.02625;// in W/m degree C\n",
"Pr=0.708;\n",
"miu_infinite=1.846*10^-5;//in kg/ms\n",
"miu_s= 2.076*10^-5;// in kg/ms\n",
"d=10*10^-3;// in m\n",
"V=5;// in m/s\n",
"A=4*%pi*(d/2)^2;\n",
"Re=V*d/delta;\n",
"Nu= 2+ (0.4*Re^(1/2)+0.06*Re^(2/3))*Pr^0.4*(miu_infinite/miu_s)^(1/4);\n",
"// Nu = h*d/k\n",
"h=Nu*k/d;// in W/m^2K\n",
"// heat transfer rate\n",
"q=h*A*(t_s-t_infinite);// in watt\n",
"disp(q,'Heat transfer rate in watt')"
   ]
   }
,
{
		   "cell_type": "markdown",
		   "metadata": {},
		   "source": [
			"## Example 5.12: Heat_transfer_coefficient.sce"
		   ]
		  },
  {
"cell_type": "code",
	   "execution_count": null,
	   "metadata": {
	    "collapsed": true
	   },
	   "outputs": [],
"source": [
"//Exa 5.12\n",
"clc;\n",
"clear;\n",
"close;\n",
"//given data\n",
"Cp=4179;// in J/kg-K\n",
"rho= 997;// in kg/m^3\n",
"V=2;// in m/s\n",
"miu= 855*10^-6;// in Ns/m^2\n",
"Pr=5.83;\n",
"k=0.613;\n",
"Do=6;//outer dia in cm\n",
"Di=4;//inner dia in cm\n",
"// de= 4*A/P = 4*%pi/4*(Do^2-Di^2)/(%pi*(Do+Di))\n",
"// or\n",
"de= Do-Di;// in cm\n",
"de=de*10^-2;// in m\n",
"Re= rho*V*de/miu;\n",
"// Since Re > 2300, hence flow is turbulent. Hence using Dittus Boelter equation\n",
"// Nu= 0.023*Re^0.8*Pr^0.4 =h*de/k\n",
"h= 0.023*Re^0.8*Pr^0.4*k/de;// in W/m^2K\n",
"disp(floor(h),'Heat transfer coefficient in W/m^2K');"
   ]
   }
,
{
		   "cell_type": "markdown",
		   "metadata": {},
		   "source": [
			"## Example 5.13: Heat_transfer_rate.sce"
		   ]
		  },
  {
"cell_type": "code",
	   "execution_count": null,
	   "metadata": {
	    "collapsed": true
	   },
	   "outputs": [],
"source": [
"//Exa 5.13\n",
"clc;\n",
"clear;\n",
"close;\n",
"//given data\n",
"Cp=0.138;// in KJ/kg-K\n",
"m=8.33;// in kg/sec\n",
"Pr=0.0238;\n",
"k=8.7;// in W/mk\n",
"d=1.5*10^-2;// in m\n",
"miu=1.5*10^-3;// in kg/ms\n",
"\n",
"Re=4*m/(%pi*miu*d);\n",
"Pe=Re*Pr;\n",
"// Nu = h*d/k = 7+0.025*Pe^0.8\n",
"h= (7+0.025*Pe^0.8)*k/d;// in W/m^2 degree C\n",
"disp(h,'Heat transfer coefficient in W/m^2 degree C');\n",
""
   ]
   }
,
{
		   "cell_type": "markdown",
		   "metadata": {},
		   "source": [
			"## Example 5.14: Heat_transfer_rate.sce"
		   ]
		  },
  {
"cell_type": "code",
	   "execution_count": null,
	   "metadata": {
	    "collapsed": true
	   },
	   "outputs": [],
"source": [
"//Exa 5.14\n",
"clc;\n",
"clear;\n",
"close;\n",
"//given data\n",
"rho=887;// in kg/m^3\n",
"Pr=0.026;\n",
"k=25.6;// in W/mk\n",
"d=2.5*10^-2;// in m\n",
"miu=0.58*10^-3;// in kg/ms\n",
"V=3;// in m/s\n",
"\n",
"Re=rho*V*d/(miu);\n",
"Pe=Re*Pr;\n",
"Nu = 4.8+0.015*Pe^0.85*Pr^0.08\n",
"h= Nu*k/d;// in W/m^2 degree C\n",
"disp(h,'Heat transfer coefficient in W/m^2 degree C');\n",
"\n",
"//Note: There is some difference in coding and book answer because they did not take aqurate calculation"
   ]
   }
,
{
		   "cell_type": "markdown",
		   "metadata": {},
		   "source": [
			"## Example 5.15: Initial_rate_of_heat_loss.sce"
		   ]
		  },
  {
"cell_type": "code",
	   "execution_count": null,
	   "metadata": {
	    "collapsed": true
	   },
	   "outputs": [],
"source": [
"//Exa 5.15\n",
"clc;\n",
"clear;\n",
"close;\n",
"//given data\n",
"delta=38.1*10^-6;// in m^2/s\n",
"Pr=501;\n",
"Prs=98;\n",
"K=0.138;// in W/mk\n",
"T_infinite=353;// in K\n",
"T_s=423;// in K\n",
"V=2;// in m/s\n",
"d=12.5*2*10^-3;// in m\n",
"Re=V*d/delta;\n",
"n=0.36// for Pr >= 10\n",
"C=0.26;// for Re between 10^3 and 2*10^5\n",
"m=0.6;// for Re between 10^3 and 2*10^5\n",
"Nu= C*Re^m*Pr^n*(Pr/Prs)^(1/4);\n",
"h= Nu*K/d;// in W/m^2 degree C\n",
"A=%pi*25*10^-3;\n",
"del_t=T_s-T_infinite;\n",
"// Formula q=h*A*del_t\n",
"q_by_L = h*A*del_t;\n",
"disp(q_by_L,'Initial rate of heat loss per meter length of cylinder');\n",
"\n",
"// Note: calculation in the book is wrong  so answer in the book is wrong"
   ]
   }
,
{
		   "cell_type": "markdown",
		   "metadata": {},
		   "source": [
			"## Example 5.1: Boundary_layer_thickness.sce"
		   ]
		  },
  {
"cell_type": "code",
	   "execution_count": null,
	   "metadata": {
	    "collapsed": true
	   },
	   "outputs": [],
"source": [
"//Exa 5.1\n",
"clc;\n",
"clear;\n",
"close;\n",
"//given data\n",
"format('v',9)\n",
"rho=1.14;// in kg/m^3\n",
"k=2.73*10^-2;// in W/mK\n",
"Cp=1.005;// in kg/kgK\n",
"v= 16*10^-6;// in m^2/s\n",
"Pr=0.67;\n",
"// Other data given in the problem are\n",
"V=2;// in m/s\n",
"w=20*10^-2;// in m\n",
"t_infinite= 10;// in degree C\n",
"t_s=65;// in degree C\n",
"x=0.25;// in m from leading edge\n",
"// Re= rho*Vx/miu = V*x/v\n",
"Re= V*x/v;\n",
"//Since Re<5*10^5 , hence the flow is a laminar flow\n",
"//(a) Boundary layer thickness\n",
"delta= 5*x/(sqrt(Re));// in m\n",
"delta=delta*10^2;// in cm\n",
"disp(delta,'Boundary layer thickness in cm')\n",
"\n",
"//(b) Thermal boundary layer thickness\n",
"delta_t= delta/Pr^(1/3);// in cm\n",
"disp(delta_t,'Thermal boundary layer thickness in ch')\n",
"\n",
"//(c) Local friction coefficient\n",
"Cfx= 0.664/sqrt(Re);\n",
"disp(Cfx,'Local friction coefficient');\n",
"Cf=2*Cfx;\n",
"disp(Cf,'Average friction coefficient');\n",
"\n",
"//(d) Total drag force\n",
"A=.25*.2;// in m^2\n",
"toh_o=Cf*(rho*V^2/2);\n",
"F=toh_o*A;\n",
"disp(F,'Total drag force in N');\n",
"\n",
"//(e) \n",
"// Formula Nux= hx*x/k = 0.332*Re^(1/2)*Pr^(1/3)\n",
"hx= 0.332*k/x*Re^(1/2)*Pr^(1/3);// in W/m^2K\n",
"disp(hx,'Local heat transfer coefficient in W/m^2K')\n",
"h=2*hx;\n",
"disp(h,'Average heat transfer coefficient in W/m^2K')\n",
"//(f)\n",
"q=h*A*(t_s-t_infinite);\n",
"disp(q,'Rate of heat transfer in W/m^2K');\n",
"\n",
"//Note: In the book, they calculated wrong value of Re so all the answer in the book is wrong\n",
"\n",
"\n",
"\n",
"\n",
"\n",
"\n",
"\n",
"\n",
"\n",
"\n",
"\n",
"\n",
"\n",
""
   ]
   }
,
{
		   "cell_type": "markdown",
		   "metadata": {},
		   "source": [
			"## Example 5.2: Rate_of_heat_transfer_and_length_of_plate.sce"
		   ]
		  },
  {
"cell_type": "code",
	   "execution_count": null,
	   "metadata": {
	    "collapsed": true
	   },
	   "outputs": [],
"source": [
"//Exa 5.2\n",
"clc;\n",
"clear;\n",
"close;\n",
"//given data\n",
"format('v',9)\n",
"rho=998;// in kg/m^3\n",
"k=.648;// in W/mK\n",
"v= 0.556*10^-6;// in m^2/s\n",
"Pr=3.54;\n",
"V=2;// in m/s\n",
"t_infinite= 10;// in degree C\n",
"t_s=90;// in degree C\n",
"Re=5*10^5;\n",
"A=1*1;// in m^2\n",
"// Re= rho*Vx/miu = V*x/v\n",
"x=Re*v/V;// in m\n",
"disp(x,'Length of the plate in m')\n",
"\n",
"\n",
"// Nu = h*x/k =Pr^(1/3)*(0.037*Re^0.8-872)\n",
"x=1;\n",
"Re= V*x/v;\n",
"h= Pr^(1/3)*(0.037*Re^0.8-873)*k/x;// in W/m^2\n",
"q=h*A*(t_s-t_infinite);\n",
"disp(q*10^-3,'Heat transfer from entire plate in kW')\n",
""
   ]
   }
,
{
		   "cell_type": "markdown",
		   "metadata": {},
		   "source": [
			"## Example 5.3: Heat_transfer_rate.sce"
		   ]
		  },
  {
"cell_type": "code",
	   "execution_count": null,
	   "metadata": {
	    "collapsed": true
	   },
	   "outputs": [],
"source": [
"//Exa 5.3\n",
"clc;\n",
"clear;\n",
"close;\n",
"//given data\n",
"\n",
"rho=1.06;// in kg/m^3\n",
"K=.0289;\n",
"v= 18.97*10^-6;// in m^2/s\n",
"Pr=0.696;\n",
"V=2.2;// in m/s\n",
"L=0.9;// in m\n",
"B=0.45;// in m\n",
"t_infinite= 30;// in degree C\n",
"t_s=90;// in degree C\n",
"//(a) For first half of the plate\n",
"x=L/2;// in m\n",
"Re=V*x/v;\n",
"// Nu = h*x/K = 0.664*Re^(1/2)*Pr^(1/3)\n",
"h= 0.664*Re^(1/2)*Pr^(1/3)*K/x;// in W/m^2 degree C\n",
"A=x*B;\n",
"Q1=h*A*(t_s-t_infinite);// in watt\n",
"disp(Q1,'Heat transfer rate from first half of the plate in watt');\n",
"\n",
"//(b) Heat transfer from entire plate\n",
"x=L;// in m\n",
"Re=V*x/v;\n",
"// Nu = h*x/K = 0.664*Re^(1/2)*Pr^(1/3)\n",
"h= 0.664*Re^(1/2)*Pr^(1/3)*K/x;// in W/m^2 degree C\n",
"A=L*B;\n",
"Q2=h*A*(t_s-t_infinite);// in watt\n",
"disp(Q2,'Heat transfer rate from entire plate in watt');\n",
"\n",
"//(c) From next half of the plate\n",
"Q3= Q2-Q1;\n",
"disp(Q3,'Heat transfer rate from next half of the plate')\n",
"\n",
"\n",
"\n",
""
   ]
   }
,
{
		   "cell_type": "markdown",
		   "metadata": {},
		   "source": [
			"## Example 5.4: Length_of_tube.sce"
		   ]
		  },
  {
"cell_type": "code",
	   "execution_count": null,
	   "metadata": {
	    "collapsed": true
	   },
	   "outputs": [],
"source": [
"//Exa 5.4\n",
"clc;\n",
"clear;\n",
"close;\n",
"//given data\n",
"rho=985;// in kg/m^3\n",
"k=.654;// in W/mK\n",
"Cp=4.18;// in kgJ/kgK\n",
"Cp=Cp*10^3;// in J/kgK\n",
"v= 0.517*10^-6;// in m^2/s\n",
"Pr=3.26;\n",
"V=1.2;// in m/s\n",
"t_s=85;// in degree C\n",
"t_i=40;// in degree C\n",
"t_o=70;// in degree C\n",
"Ax=15*35;// in mm\n",
"P=15+35;\n",
"de=4*Ax/(2*P);// in mm\n",
"de=de*10^-3;// in m\n",
"Re=V*de/v;\n",
"// Formula Nu= h*de/k = 0.023Re^0.8*Pr^0.4\n",
"h=0.023*Re^0.8*Pr^0.4*k/de;// in W/m^2K\n",
"m=%pi*de^2*V*rho/4;\n",
"d=de;\n",
"L=m*Cp*log((t_s-t_i)/(t_s-t_o))/(%pi*d*h);\n",
"disp(L,'The length of tube in meter')"
   ]
   }
,
{
		   "cell_type": "markdown",
		   "metadata": {},
		   "source": [
			"## Example 5.5: Average_heat_transfer_coefficient.sce"
		   ]
		  },
  {
"cell_type": "code",
	   "execution_count": null,
	   "metadata": {
	    "collapsed": true
	   },
	   "outputs": [],
"source": [
"//Exa 5.5\n",
"clc;\n",
"clear;\n",
"close;\n",
"//given data\n",
"k=.026;// in W/mK\n",
"v= 16.8*10^-6;// in m^2/s\n",
"miu=2*10^-5;// in kg/ms\n",
"Pr=0.708;\n",
"V=15;// in m/s\n",
"x=2;// in m\n",
"A=2*1;// in m^2\n",
"Re=V*x/v;\n",
"del_t=40-10;// in degree C\n",
"// since Re > 3 *10^5, hence turbulent flow at x=2 m length of laminar flow region is x_L then\n",
"Re_1=3*10^5;\n",
"// Re_1 = 3*10^5 = V*x_L/v\n",
"x_L= Re_1*v/V;\n",
"\n",
"// Part (a)\n",
"//Nu= h*x_L/k = 0.664*Re_1^(1/2)*Pr^(1/3);\n",
"h= 0.664*Re_1^(1/2)*Pr^(1/3)*k/x_L;// in W/m^2\n",
"disp(h,'The average heat transfer coefficient over the laminar boundary layer in W/m^2 ');\n",
"\n",
"// Part(b)\n",
"//Nu= h*x/k = (0.037*Re^0.8-872)*Pr^(1/3);\n",
"h= (0.037*Re^0.8-872)*Pr^(1/3)*k/x;// in W/m^2\n",
"disp(h,'The average heat transfer coefficient over entire plate in W/m^2 ');\n",
"\n",
"// Part (c)\n",
"q=h*A*del_t;\n",
"disp(q,'Total heat transfer rate in watt');\n",
"\n",
"// Note: Calculation of the part(a) in this book is wrong, so answer of the part(a) in the book is wrong"
   ]
   }
,
{
		   "cell_type": "markdown",
		   "metadata": {},
		   "source": [
			"## Example 5.6: Heat_transfer_coefficient_and_friction_factor.sce"
		   ]
		  },
  {
"cell_type": "code",
	   "execution_count": null,
	   "metadata": {
	    "collapsed": true
	   },
	   "outputs": [],
"source": [
"//Exa 5.6\n",
"clc;\n",
"clear;\n",
"close;\n",
"//given data\n",
"rho=997;// in kg/m^3\n",
"k=0.608;// in W/mK\n",
"Cp= 4180;// in J/kg K\n",
"miu=910*10^-6;// in Ns/m^2\n",
"d=30*10^-3;// in m\n",
"m=0.02;// in kg/s\n",
"t_o=30;// in degree C\n",
"t_i=20;// in degree C\n",
"Re= 4*m/(%pi*d*miu);\n",
"q_desh=12*10^3;// in W/m^2\n",
"// since Re < 2300, flow is laminar one\n",
"\n",
"// Part(a)\n",
"// Nu = h*d/k = 4.36\n",
"h=4.36*k/d;\n",
"disp(h,'Heat transfer coefficient in W/m^2K');\n",
"\n",
"// Part (b)\n",
"L=m*Cp*(t_o-t_i)/(q_desh*%pi*d);\n",
"disp(L,'Length of pipe in meter');\n",
"\n",
"// Part(c)\n",
"// q_desh= h*(t_infinite-t_o)\n",
"t_infinite = q_desh/h+t_o;\n",
"disp(t_infinite,'The inner tube surface temperature at the outlet in degree C');\n",
"\n",
"// Part(d)\n",
"f=64/Re;\n",
"disp(f,'Friction Factor ');\n",
"\n",
"// Part(e)\n",
"V=4*m/(%pi*d^2*rho);// in m/s  ( because m= rho*V*A , m= rho*V*%pi*d^2/4 )\n",
"del_P= f*L*rho*V^2/(d*2);// in N/m^2\n",
"disp(del_P,'The pressure drop in the pipe in N/m^2');\n",
"\n",
"// Note: In part(b) value of L is miss printed actual value is .739 m\n",
"\n",
"\n",
"\n",
"\n",
""
   ]
   }
,
{
		   "cell_type": "markdown",
		   "metadata": {},
		   "source": [
			"## Example 5.7: Average_heat_transfer_coefficient_and_tube_length.sce"
		   ]
		  },
  {
"cell_type": "code",
	   "execution_count": null,
	   "metadata": {
	    "collapsed": true
	   },
	   "outputs": [],
"source": [
"//Exa 5.7\n",
"clc;\n",
"clear;\n",
"close;\n",
"//given data\n",
"rho=977.3;// in kg/m^3\n",
"kf=0.665;// in W/mK\n",
"Cp= 4186;// in J/kg K\n",
"miu=4.01*10^-4;// in kg/m-s\n",
"Pr=2.524;\n",
"d=0.02;// in m\n",
"m=0.5;// in kg/s\n",
"t_o=70;// in degree C\n",
"t_i=20;// in degree C\n",
"t_s=100;// in degree C\n",
"Re= 4*m/(%pi*d*miu);\n",
"\n",
"// Since Re > 2300, flow is turbulent flow. Then Nusselt Number\n",
"// Nu = h*d/k = 0.023*Re^0.8*Pr^0.4\n",
"h=0.023*Re^0.8*Pr^0.4*kf/d;// in W/m^2\n",
"disp(h,'Average heat transfer coefficient in W/m^2');\n",
"L=m*Cp*log((t_s-t_i)/(t_s-t_o))/(%pi*d*h);// in meter\n",
"disp(L,'Length of tube in meter');\n",
"\n",
"\n",
"// Note: Calculation of Re is wrong so the answer in the book is wrong"
   ]
   }
,
{
		   "cell_type": "markdown",
		   "metadata": {},
		   "source": [
			"## Example 5.8: Reynold_number_heat_transfer_coefficient_and_pipe_length.sce"
		   ]
		  },
  {
"cell_type": "code",
	   "execution_count": null,
	   "metadata": {
	    "collapsed": true
	   },
	   "outputs": [],
"source": [
"//Exa 5.8\n",
"clc;\n",
"clear;\n",
"close;\n",
"//given data\n",
"rho=977;// in kg/m^3\n",
"k=0.608;// in W/mK\n",
"Cp= 4180;// in J/kg K\n",
"miu=910*10^-6;// in poise\n",
"d=0.02;// in m\n",
"m=0.02;// in kg/s\n",
"t_o=40;// in degree C\n",
"t_i=10;// in degree C\n",
"q_desh= 20*10^3;// in W/m^2\n",
"\n",
"// Part (a)\n",
"Re= 4*m/(%pi*d*miu);\n",
"disp(Re,'Reynold number is :')\n",
"\n",
"// Part(b)\n",
"// Nu = h*d/k = 4.364\n",
"h=4.364*k/d;\n",
"disp(h,'Heat transfer coefficient in W/m^2K');\n",
"\n",
"// Part (c)\n",
"// q= q_desh*A = m*Cp*(t_o-t_i)\n",
"// q_desh *( %pi*d*l) = m*Cp*(t_o-t_i)\n",
"l=m*Cp*(t_o-t_i)/(q_desh*%pi*d);\n",
"disp(l,'Length of pipe in meter');"
   ]
   }
,
{
		   "cell_type": "markdown",
		   "metadata": {},
		   "source": [
			"## Example 5.9: Tube_length.sce"
		   ]
		  },
  {
"cell_type": "code",
	   "execution_count": null,
	   "metadata": {
	    "collapsed": true
	   },
	   "outputs": [],
"source": [
"//Exa 5.9\n",
"clc;\n",
"clear;\n",
"close;\n",
"//given data\n",
"rho=7.7*10^3;// in kg/m^3\n",
"k=12;// in W/mK\n",
"Cp= 130;// in J/kg degree C\n",
"Pr=0.011;\n",
"delta=8*10^-8;// in m^2/s\n",
"\n",
"\n",
"d=0.06;// in m\n",
"m=4;// in kg/s\n",
"t_i=200;// in degree C\n",
"del_t=25;// in degree C\n",
"miu=rho*delta;\n",
"Re= 4*m/(%pi*d*miu);\n",
"// From correlation  Nu =h*d/k = 4.82+0.0185*Pe^0.827\n",
"Pe=Re*Pr;\n",
"h=(4.82+0.0185*Pe^0.827)*k/d;// in W/m^2K\n",
"// Length of tube required by doing every balance\n",
"//  m*Cp*del_t = h*A*(t_s-t_b) = h*(%pi*d*l)*(t_s-t_b)   // its given (t_s-t_b) = 40 degree C\n",
"l= m*Cp*del_t/(h*(%pi*d)*40);// in meter\n",
"disp(l,'Length of tube in meter');"
   ]
   }
],
"metadata": {
		  "kernelspec": {
		   "display_name": "Scilab",
		   "language": "scilab",
		   "name": "scilab"
		  },
		  "language_info": {
		   "file_extension": ".sce",
		   "help_links": [
			{
			 "text": "MetaKernel Magics",
			 "url": "https://github.com/calysto/metakernel/blob/master/metakernel/magics/README.md"
			}
		   ],
		   "mimetype": "text/x-octave",
		   "name": "scilab",
		   "version": "0.7.1"
		  }
		 },
		 "nbformat": 4,
		 "nbformat_minor": 0
}
