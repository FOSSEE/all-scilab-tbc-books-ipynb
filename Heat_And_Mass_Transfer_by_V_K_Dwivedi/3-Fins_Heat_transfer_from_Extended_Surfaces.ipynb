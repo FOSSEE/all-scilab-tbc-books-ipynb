{
"cells": [
 {
		   "cell_type": "markdown",
	   "metadata": {},
	   "source": [
       "# Chapter 3: Fins Heat transfer from Extended Surfaces"
	   ]
	},
{
		   "cell_type": "markdown",
		   "metadata": {},
		   "source": [
			"## Example 3.10: Measurement_error.sce"
		   ]
		  },
  {
"cell_type": "code",
	   "execution_count": null,
	   "metadata": {
	    "collapsed": true
	   },
	   "outputs": [],
"source": [
"//Exa 3.10\n",
"clc;\n",
"clear;\n",
"close;\n",
"//given data\n",
"L=0.12;// in meter\n",
"t=.15*10^-2;// thickness in m\n",
"K=55.5;// in W/mK\n",
"h=23.5;// in W/mK\n",
"T_L=357;// in K\n",
"T_0=313;// in K\n",
"\n",
"// Formula m=sqrt(h*rho/(K*A)) and rho=%pi*d and A=%pi*d*t, putting value of rho and A\n",
"m=sqrt(h/(K*t));\n",
"mL=m*L;\n",
"mL=floor(mL);\n",
"// Formula (T_L-T_infinite)/(T_0-T_infinite)= 1/cosh(m*L)\n",
"T_infinite=(T_L-T_0/cosh(mL))/(1-1/cosh(mL));\n",
"T_infinite=ceil(T_infinite);\n",
"measurement_error=T_infinite-T_L;\n",
"disp('Measurement Error is : '+string(measurement_error)+' K')\n",
"\n",
"// Note: In the book, Unit of answer is wrong"
   ]
   }
,
{
		   "cell_type": "markdown",
		   "metadata": {},
		   "source": [
			"## Example 3.11: Measurement_error_percent.sce"
		   ]
		  },
  {
"cell_type": "code",
	   "execution_count": null,
	   "metadata": {
	    "collapsed": true
	   },
	   "outputs": [],
"source": [
"//Exa 3.11\n",
"clc;\n",
"clear;\n",
"close;\n",
"//given data\n",
"k=20;// in W/mK\n",
"T_L=150;// in degree C\n",
"T_0=70;// in degree C\n",
"L=12*10^-2;// in meter\n",
"h=80;// in W/m^2K\n",
"t=3*10^-3;// in m\n",
"// Formula m=sqrt(h*rho/(K*A)) and rho=%pi*d and A=%pi*d*t, putting value of rho and A\n",
"m=sqrt(h/(k*t));\n",
"// Formula (T_L-T_infinite)/(T_0-T_infinite)= 1/cosh(m*L)\n",
"T_infinite=(T_L-T_0/cosh(m*L))/(1-1/cosh(m*L));\n",
"PercentageError=(T_infinite-T_L)*100/T_infinite;\n",
"disp('Percentage Error is : '+string(PercentageError)+' %');"
   ]
   }
,
{
		   "cell_type": "markdown",
		   "metadata": {},
		   "source": [
			"## Example 3.12: Minimum_length_of_pocket.sce"
		   ]
		  },
  {
"cell_type": "code",
	   "execution_count": null,
	   "metadata": {
	    "collapsed": true
	   },
	   "outputs": [],
"source": [
"//Exa 3.12\n",
"clc;\n",
"clear;\n",
"close;\n",
"//given data\n",
"k=30;// in W/mK\n",
"h=100;// in W/m^2K\n",
"T_infinite=300;// in degree C\n",
"d=2*10^-2;// in m\n",
"t=1*10^-3;// in m\n",
"err=1;// in % of applied temperature difference\n",
"// Formula m=sqrt(h*rho/(K*A)) and rho=%pi*d and A=%pi*d*t, putting value of rho and A\n",
"m=sqrt(h/(k*t));\n",
"\n",
"// From (T_L-T_infinite)/(T_0-T_infinite)= 1/100 = 1/cosh(m*L)\n",
"L=acosh(100)/m;// in meter\n",
"L=L*10^3;// in mm\n",
"disp('Minimum length os pocket is : '+string(L)+' mm');"
   ]
   }
,
{
		   "cell_type": "markdown",
		   "metadata": {},
		   "source": [
			"## Example 3.13: Length_of_shaft.sce"
		   ]
		  },
  {
"cell_type": "code",
	   "execution_count": null,
	   "metadata": {
	    "collapsed": true
	   },
	   "outputs": [],
"source": [
"//Exa 3.13\n",
"clc;\n",
"clear;\n",
"close;\n",
"//given data\n",
"k=32;// in W/m^2 degree C\n",
"h=14.8;// in W/m^2 degree C\n",
"t_o=480;// in degree C\n",
"t_i=55;// in degree C\n",
"t_a=20;// in degree C\n",
"d=2.5*10^-2;// in m\n",
"rho=%pi*d;// in m\n",
"Ac=%pi*d^2/4;// in m^2\n",
"m=sqrt(h*rho/(k*Ac));\n",
"disp('In this case, the shaft heat from the pump towards motor');\n",
"disp('The temperature distribution considering the shaft as a fin insulated at the tip is given by')\n",
"disp('Q/Q_o= (t-t_a)/(t_o-t_a) = cosh(m(L-x))/cosh(m*L)')\n",
"// From (t-t_a)/(t_o-t_a) = cosh(m(L-x))/cosh(m*L)\n",
"L=acosh((t_o-t_a)/(t_i-t_a))/m;  // at x=L,t=t_i\n",
"disp('Length of shaft specified between the motor and the pump is : '+string(L)+' meter');"
   ]
   }
,
{
		   "cell_type": "markdown",
		   "metadata": {},
		   "source": [
			"## Example 3.1: Temperature_distribution_equation_and_heat_loss.sce"
		   ]
		  },
  {
"cell_type": "code",
	   "execution_count": null,
	   "metadata": {
	    "collapsed": true
	   },
	   "outputs": [],
"source": [
"//Exa 3.1\n",
"clc;\n",
"clear;\n",
"close\n",
"// given data\n",
"format('v',5);\n",
"d=20;// in mm\n",
"d=d*10^-3;//in m\n",
"h=5;// in W/m^2K\n",
"T_0=100;// in degree C\n",
"T_infinite=20;// in degree C\n",
"K=15;// in W/m-K\n",
"//(i)Temperature distribution equation\n",
"disp('(i) Temperature distribution equation');\n",
"disp('theta/theta_0= (T-T_infinite)/(T_0-T_infinite) = %e^-m*x ')\n",
"rho=%pi*d;// in m\n",
"A=%pi*d^2/4;//in square meter\n",
"m=sqrt(h*rho/(K*A));\n",
"disp('m = '+string(m));\n",
"disp('Temperature distribution equation is ')\n",
"disp('theta/theta_0= (T-T_infinite)/(T_0-T_infinite) = %e^-'+string(m)+'*x');\n",
"\n",
"//(ii)Heat loss from the rod\n",
"t_0=100;// in degree C\n",
"t_infinite=20;// in degree C\n",
"q=sqrt(K*A*h*rho)*(t_0-t_infinite);\n",
"disp('(ii) Heat loss from the road is : '+string(q)+' watt');\n",
"\n",
"\n",
"\n",
" "
   ]
   }
,
{
		   "cell_type": "markdown",
		   "metadata": {},
		   "source": [
			"## Example 3.2: Thermal_conductivity_of_the_rod_material.sce"
		   ]
		  },
  {
"cell_type": "code",
	   "execution_count": null,
	   "metadata": {
	    "collapsed": true
	   },
	   "outputs": [],
"source": [
"//Exa 3.2\n",
"clc;\n",
"clear;\n",
"close\n",
"// given data\n",
"format('v',13);\n",
"d=3;// in cm\n",
"d=d*10^-2;//in m\n",
"h=20;// in W/m^2K\n",
"T1=140;// in degree C\n",
"T2=100;// in degree C\n",
"L=15*10^-2;// in meter\n",
"T_infinite=30;// in degree C\n",
"// Let at\n",
"x=0;T_0=T1;\n",
"x=15;//in cm\n",
"x=x*10^-2;// in m\n",
"T=100;// in degree C\n",
"rho=%pi*d;\n",
"A=%pi*d^2/4;\n",
"// Formula (T-T_infinite)/(T_0-T_infinite) = %e^-m*x\n",
"m=log((T_0-T_infinite)/(T-T_infinite))/x;\n",
"// Formula m=sqrt(h*rho/(k*A))\n",
"k=h*rho/(m^2*A);\n",
"disp(k,'Thermal conductivity of the rod material in W/m-k is ')"
   ]
   }
,
{
		   "cell_type": "markdown",
		   "metadata": {},
		   "source": [
			"## Example 3.3: Fin_efficiency.sce"
		   ]
		  },
  {
"cell_type": "code",
	   "execution_count": null,
	   "metadata": {
	    "collapsed": true
	   },
	   "outputs": [],
"source": [
"//Exa 3.3\n",
"clc;\n",
"clear;\n",
"close;\n",
"//given data\n",
"format('v',9);\n",
"t=1;// in mm\n",
"t=t*10^-3;// in meter\n",
"L= 10;// in mm\n",
"L= L*10^-3;// in meter\n",
"k= 380;// W/mK\n",
"To= 230;// in °C\n",
"T_inf= 30;// in °C\n",
"h= 40;// in W/m^2K\n",
"B= 1;// in meter\n",
"Ac= B*t;// in m^2\n",
"rho= 2*(B+t);\n",
"m= sqrt(h*rho/(k*Ac));\n",
"// Part(a)\n",
"nita= tanh(m*L)/(m*L)*100;// fin efficiency in %\n",
"disp(nita,'Fin efficiency in %');\n",
"\n",
"// Part(b)\n",
"N=1000/9+1;// number of fin\n",
"Af= N*rho*L;// in square meter\n",
"A1= 1;// plate area in m^2\n",
"A2= N*1*1*10^-3;// Area where fins are attached in square meter\n",
"Au= A1-A2;// in square meter\n",
"q_T= N*sqrt(h*rho*k*Ac)*(To-T_inf)*tanh(m*L)+Au*h*(To-T_inf);// in W/m^2\n",
"disp(q_T*10^-3,'Total heat transfer per square meter of plane wall surface in kW/m^2')\n",
"\n",
"// Part(c)\n",
"A=1*1;// in m^2\n",
"q= h*A*(To-T_inf);// in W/m^2\n",
"disp(q*10^-3,'Heat transfer if there were no fins attached in kW/m^2')\n",
"\n",
"// Note : Answer of part(b) in the book is wrong\n",
"\n",
"\n",
"\n",
""
   ]
   }
,
{
		   "cell_type": "markdown",
		   "metadata": {},
		   "source": [
			"## Example 3.4: Heat_loss_by_the_fi.sce"
		   ]
		  },
  {
"cell_type": "code",
	   "execution_count": null,
	   "metadata": {
	    "collapsed": true
	   },
	   "outputs": [],
"source": [
"//Exa 3.4\n",
"clc;\n",
"clear;\n",
"close;\n",
"//given data\n",
"format('v',9);\n",
"w=5*10^-2;// in meter\n",
"L=1;// in meter\n",
"t=2.5*10^-2;// in meter\n",
"h=47;// in W/m^2K\n",
"k=16.3;// in W/mK (for 18.8 steel)\n",
"T_0=100;// in degree C\n",
"T_infinite=20;// in degree C\n",
"Ac=w*t;// in square meter\n",
"rho=2*(w+t);\n",
"m=sqrt(h*rho/(k*Ac));\n",
"q_fin=k*Ac*m*(T_0-T_infinite)*[(tanh(m*L)+h/(k*m)  )/(1+h/(m*k)*tanh(m*L))];\n",
"disp('The heat lost by the fin of one meter length is : '+string(q_fin)+' W');"
   ]
   }
,
{
		   "cell_type": "markdown",
		   "metadata": {},
		   "source": [
			"## Example 3.5: Rate_of_heat_transfer.sce"
		   ]
		  },
  {
"cell_type": "code",
	   "execution_count": null,
	   "metadata": {
	    "collapsed": true
	   },
	   "outputs": [],
"source": [
"//Exa 3.5\n",
"clc;\n",
"clear;\n",
"close;\n",
"//given data\n",
"format('v',13)\n",
"w=1;// in meter\n",
"L=2.5*10^-2;// in meter\n",
"t=0.8*10^-3;// in meter\n",
"l=1;// in meter\n",
"T_0=150;// in degree C\n",
"T_infinite=40;// in degree C\n",
"h=20;// in W/m^2K\n",
"k=65;// in W/mK (for 18.8 steel)\n",
"Ac=w*t;\n",
"d=5*10^-2;// Cylinder dia in meter\n",
"rho=2*(w+t);\n",
"rho=floor(rho);\n",
"\n",
"m=sqrt(h*rho/(k*Ac));\n",
"mL=m*L;\n",
"// heat transfer rate from 12 fins\n",
"q_fin=12*k*Ac*m*(T_0-T_infinite)*[(tanh(m*L)+h/(k*m)  )/(1+h/(m*k)*tanh(m*L))];\n",
"disp('Heat transfer rate from 12 fins si : '+string(q_fin)+' watt');\n",
"Au=%pi*d*l-12*w*t;\n",
"qu=h*Au*(T_0-T_infinite);\n",
"disp('Now heat transfer from unfinned surface area is : '+string(qu)+' watt');\n",
"q=q_fin+qu;\n",
"disp('Total head transfer rate from the cylinder is : '+string(q)+' watt');\n",
"\n",
"\n",
""
   ]
   }
,
{
		   "cell_type": "markdown",
		   "metadata": {},
		   "source": [
			"## Example 3.6: Temperature_at_the_centre_of_the_rod_and_heat_transfer_by_the_rod.sce"
		   ]
		  },
  {
"cell_type": "code",
	   "execution_count": null,
	   "metadata": {
	    "collapsed": true
	   },
	   "outputs": [],
"source": [
"//Exa 3.6\n",
"clc;\n",
"clear;\n",
"close;\n",
"//given data\n",
"format('v',5)\n",
"T_0=100;// in degree C\n",
"T_infinite=30;// in degree C\n",
"T_L=100;// in degree C\n",
"d=6*10^-3;// copper rod dia in meter\n",
"L=50*10^-2;// developed length in meter\n",
"Ac=%pi*d^2/4;// in square meter\n",
"rho=%pi*d;// in meter\n",
"h=30;// in W/m^2K\n",
"k=330;// in W/mK \n",
"m=sqrt(h*rho/(k*Ac));\n",
"//(i) Temperature distribution equation for the fin\n",
"// (T-T_infinite)/(T_0-T_infinite)=([(T_L-T_infinite)/(T_0-T_infinite)]*sinh(m*x)+sinh(m*(L-x)))/sinh(m*L)\n",
"//Temperature at\n",
"x=0.25;// in m\n",
"T= ([(T_L-T_infinite)/(T_0-T_infinite)]*sinh(m*x)+sinh(m*(L-x)))/sinh(m*L)*(T_0-T_infinite)+T_infinite;\n",
"disp('(i) Temperature at the centre of the rod is : '+string(T)+' degree C');\n",
"disp('(ii) Heat transfer rate from the fin- This is equivalent to two fins of length 25 cm long with insulated tip')\n",
"L=25*10^-2;// in meter\n",
"q=2*sqrt(h*rho*k*Ac)*(T_0-T_infinite)*tanh(m*L);\n",
"disp('Heat transfer by the rod is : '+string(q)+' watt');\n",
""
   ]
   }
,
{
		   "cell_type": "markdown",
		   "metadata": {},
		   "source": [
			"## Example 3.7: EX3_7.sce"
		   ]
		  },
  {
"cell_type": "code",
	   "execution_count": null,
	   "metadata": {
	    "collapsed": true
	   },
	   "outputs": [],
"source": [
"//Exa 3.7\n",
"clc;\n",
"clear;\n",
"close;\n",
"//given data\n",
"T_0=100;// in degree C\n",
"T_infinite=25;// in degree C\n",
"d=5*10^-2;// in meter\n",
"L=15*10^-2;// in meter\n",
"h=8;// in W/m^2K\n",
"k=20;// in W/mK \n",
"rho=%pi*d;// in meter\n",
"Ac=%pi*d^2/4;// in square meter\n",
"m=sqrt(h*rho/(k*Ac));\n",
"\n",
"//(i) Temperature distribution in the rod\n",
" disp('(i) Temperature distribution in the rod')\n",
" disp(' (T-T_infinite)/(T_0-T_infinite)= (cosh(m*(L-x))+ h/(k*m)*sinh(m(L-x)))/(cosh(m*L)+h/(k*m)*sinh(m*L))')\n",
"\n",
"//(ii) Temperature at free end i.e. at \n",
"x=L;\n",
"// Formula  (T_L-T_infinite)/(T_0-T_infinite)= 1/(cosh(m*L)+h/(k*m)*sinh(m*L) )\n",
"T_L=(1/(cosh(m*L)+h/(k*m)*sinh(m*L) ))*(T_0-T_infinite)+T_infinite;\n",
"disp('(ii) Temperature at free end is : '+string(T_L)+' degree C');\n",
"\n",
"//(iii) Heat flow out the source means heat transfer from the fin\n",
"q_f=sqrt(h*rho*k*Ac)*(T_0-T_infinite)*[(h/(k*m)+tanh(m*L))/(1+h*tanh(m*L)/(k*m))];\n",
"disp('(iii) Heat flow out the source : '+string(q_f)+' watt');\n",
"\n",
"// (iv) Heat flow rate at free end\n",
"q_L=h*Ac*(T_L-T_infinite);\n",
"disp('(iv) Heat flow rate at free end is : '+string(q_L)+' watt');"
   ]
   }
,
{
		   "cell_type": "markdown",
		   "metadata": {},
		   "source": [
			"## Example 3.8: Rate_of_heat_transfer.sce"
		   ]
		  },
  {
"cell_type": "code",
	   "execution_count": null,
	   "metadata": {
	    "collapsed": true
	   },
	   "outputs": [],
"source": [
"//Exa 3.8\n",
"clc;\n",
"clear;\n",
"close;\n",
"//given data\n",
"T_0=150;// in degree C\n",
"T_infinite=40;// in degree C\n",
"w=1;// in m\n",
"t=0.75*10^-3;// in m\n",
"d=5*10^-2;// in meter\n",
"L=25*10^-3;// in meter\n",
"k=75;// in W/mK \n",
"h=23.3;// in W/m^2K\n",
"N=12;// numbers of fins\n",
"Ac=w*t;//in square meter\n",
"rho=2*(w+t);// in meter\n",
"delta=Ac/rho;\n",
"L_c=L+delta;\n",
"ML_c=L_c*sqrt(h*rho/(k*Ac))\n",
"q_fin= N*sqrt(h*rho*k*Ac)*(T_0-T_infinite)*tanh(ML_c);\n",
"q_fin=floor(q_fin);\n",
"A_0=%pi*d*w-12*Ac\n",
"q_unfin= h*A_0*(T_0-T_infinite);\n",
"q_total=q_fin+q_unfin;\n",
"disp('Rate of heat transfer is : '+string(q_total)+' watt');"
   ]
   }
,
{
		   "cell_type": "markdown",
		   "metadata": {},
		   "source": [
			"## Example 3.9: EX3_9.sce"
		   ]
		  },
  {
"cell_type": "code",
	   "execution_count": null,
	   "metadata": {
	    "collapsed": true
	   },
	   "outputs": [],
"source": [
"//Exa 3.9\n",
"clc;\n",
"clear;\n",
"close;\n",
"disp('Temperature distribution equation for fin with insulated end is ');\n",
"disp('(T-T_infinite)/(T_0-T_infinite)= cosh(m*(L-x))/cosh(m*L)');\n",
"\n",
"//given data\n",
"L=0.06;// in meter\n",
"A=4.64*10^-4;// in m^2\n",
"rho=0.12;// in m\n",
"h=442;// in W/m^2\n",
"T_0=773;// in K\n",
"T_infinite=1143;// in K\n",
"K=23.2;// in W/mK\n",
"m=sqrt(h*rho/(K*A));\n",
"q=sqrt(h*rho*K*A)*(T_0-T_infinite)*tanh(m*L);\n",
"disp('Heat transfer rate is : '+string(q)+' watt');\n",
"\n",
"// Note: Answer in the book is wrong"
   ]
   }
],
"metadata": {
		  "kernelspec": {
		   "display_name": "Scilab",
		   "language": "scilab",
		   "name": "scilab"
		  },
		  "language_info": {
		   "file_extension": ".sce",
		   "help_links": [
			{
			 "text": "MetaKernel Magics",
			 "url": "https://github.com/calysto/metakernel/blob/master/metakernel/magics/README.md"
			}
		   ],
		   "mimetype": "text/x-octave",
		   "name": "scilab",
		   "version": "0.7.1"
		  }
		 },
		 "nbformat": 4,
		 "nbformat_minor": 0
}
