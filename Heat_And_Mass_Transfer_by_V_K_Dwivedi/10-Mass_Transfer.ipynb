{
"cells": [
 {
		   "cell_type": "markdown",
	   "metadata": {},
	   "source": [
       "# Chapter 10: Mass Transfer"
	   ]
	},
{
		   "cell_type": "markdown",
		   "metadata": {},
		   "source": [
			"## Example 10.1: Molar_concentration_and_molar_and_mass_diffusion.sce"
		   ]
		  },
  {
"cell_type": "code",
	   "execution_count": null,
	   "metadata": {
	    "collapsed": true
	   },
	   "outputs": [],
"source": [
"//Exa 10.1\n",
"clc;\n",
"clear;\n",
"close;\n",
"//given data\n",
"format('v',13);\n",
"P1=4;// in bar\n",
"P2=2;// in bar\n",
"T=25;// in degree C\n",
"Dhp=9*10^-8;// in m^2/s\n",
"S=3*10^-3;// in kg mole/m^3 bar\n",
"del_x=0.5*10^-3;// thickness in m\n",
"//(a) The molar concentration of a gas in terms of solubility\n",
"CH1=S*P1;// in kg mole/m^3\n",
"CH2=S*P2;// in kg mole/m^3\n",
"//(b) Molar diffusion flux of hydrogen through plastic memberence is given by Fick's law of diffision\n",
"//N_H= N_h/A = Dhp*(CH1-CH2)/del_x;\n",
"N_H= Dhp*(CH1-CH2)/del_x;// in kg mole/s-m^2\n",
"disp(N_H,'Molar diffusion flux of hydrogen through the membrane in kg mole/s-m^2');\n",
"//Mass_d_Flux= N_H*Molecular_Weight \n",
"Molecular_Weight=2;\n",
"Mass_d_Flux= N_H*Molecular_Weight \n",
"disp(Mass_d_Flux,'Molar diffusion flux in kg/s-m^2');"
   ]
   }
,
{
		   "cell_type": "markdown",
		   "metadata": {},
		   "source": [
			"## Example 10.2: Diffusion_coefficient_of_hydrogen.sce"
		   ]
		  },
  {
"cell_type": "code",
	   "execution_count": null,
	   "metadata": {
	    "collapsed": true
	   },
	   "outputs": [],
"source": [
"//Exa 10.2\n",
"clc;\n",
"clear;\n",
"close;\n",
"//given data\n",
"format('v',13);\n",
"T=25;// in degree C\n",
"T=T+273;// in K\n",
"P=1;\n",
"V1=12;//Molecular volume of H2 in cm^3/gm mole\n",
"V2=30;//Molecular volume of Air in cm^3/gm mole\n",
"M1=2;// Molecular weight of H2\n",
"M2=29;// Molecular weight of Air\n",
"//The diffusion coefficient for gases in terms of molecular volumes may be express as\n",
"D_AB= .0043*T^(3/2)/(P*(V1^(1/3)+V2^(1/3)))*(1/M1+1/M2)^(1/2);\n",
"disp(D_AB,'The diffusion coefficient for gases in terms of molecular volumes in cm^2/sec');"
   ]
   }
,
{
		   "cell_type": "markdown",
		   "metadata": {},
		   "source": [
			"## Example 10.3: Diffusion_coefficient_of_NH3.sce"
		   ]
		  },
  {
"cell_type": "code",
	   "execution_count": null,
	   "metadata": {
	    "collapsed": true
	   },
	   "outputs": [],
"source": [
"//Exa 10.3\n",
"clc;\n",
"clear;\n",
"close;\n",
"//given data\n",
"format('v',13);\n",
"T=300;// temp of gas mixture in K\n",
"D_HN2=18*10^-6;// in m^2/s at 300 K, 1 bar\n",
"T1=300;// in K\n",
"D_HO2=16*10^-6;// in m^2/s at 273 K, 1 bar\n",
"T2=273;// in K\n",
"O_2=0.2;\n",
"N_2=0.7;\n",
"H_2=0.1;\n",
"//The diffusivity at the mixture temperature and pressure are calculated as \n",
"// D1/D2 = (T1/T2)^(3/2)*(P2/P1)\n",
"D_HO2= (T/T2)^(3/2)*1/4*D_HO2;\n",
"D_HN2= (T/T1)^(3/2)*1/4*D_HN2;\n",
"//The composition of oxygen and nitrogen on a H2 free basis is \n",
"x_O= O_2/(1-H_2);\n",
"x_N= N_2/(1-H_2);\n",
"\n",
"// The effective diffusivity for the gas mixture at given temperature and pressure is\n",
" D= 1/(x_O/D_HO2+x_N/D_HN2);// in m^2/s\n",
" disp(D,'Effective diffusivity in m^2/s')\n",
"\n",
""
   ]
   }
,
{
		   "cell_type": "markdown",
		   "metadata": {},
		   "source": [
			"## Example 10.4: Mass_flow_rate.sce"
		   ]
		  },
  {
"cell_type": "code",
	   "execution_count": null,
	   "metadata": {
	    "collapsed": true
	   },
	   "outputs": [],
"source": [
"//Exa 10.4\n",
"clc;\n",
"clear;\n",
"close;\n",
"//given data\n",
"format('v',9);\n",
"d=3;// in mm\n",
"d=d*10^-3;// in meter\n",
"T=25;// in °C\n",
"T=T+273;// in K\n",
"D= 0.4*10^-4;// in m^2/s\n",
"R= 8314;\n",
"P_A1=1;// in atm\n",
"P_A1=P_A1*10^5;// in w/m^2\n",
"P_A2=0;\n",
"C_A2=0;\n",
"x2= 15;// in meter\n",
"x1= 0;\n",
"A= %pi/4*d^2;\n",
"M_A= D*A/(R*T)*(P_A1-P_A2)/(x2-x1);// in kg mole/sec\n",
"N_B= M_A;\n",
"M_B= M_A*29;// in kg/sec\n",
"disp(N_B,'Value of N_B in kg mole/sec') \n",
"disp(M_B,'Value of M_B in kg /sec') "
   ]
   }
,
{
		   "cell_type": "markdown",
		   "metadata": {},
		   "source": [
			"## Example 10.5: Diffusion_flux_rate.sce"
		   ]
		  },
  {
"cell_type": "code",
	   "execution_count": null,
	   "metadata": {
	    "collapsed": true
	   },
	   "outputs": [],
"source": [
"//Exa 10.5\n",
"clc;\n",
"clear;\n",
"close;\n",
"//given data\n",
"format('v',13);\n",
"P=3;// in atm\n",
"P=P*10^5;// in N/m^2\n",
"r1=10;// in mm\n",
"r1=r1*10^-3;// in m\n",
"r2=20;// in mm\n",
"r2=r2*10^-3;// in m\n",
"R=4160;// in J/kg-K\n",
"T=303;// in K\n",
"D=3*10^-8;// in m^2/s\n",
"S=3*0.05; // Solubility of hydrogen at a pressure of 3 atm in m^3/m^3 of rubber tubing\n",
"del_x=r2-r1;// in m\n",
"L=1;// in m\n",
"Am=2*%pi*L*del_x/log(r2/r1);\n",
"//Formula P*V= m*R*T\n",
"V=S;\n",
"m=P*V/(R*T);// in kg/m^3 of rubber tubing at the inner surface of the pipe\n",
"C_A1=m;\n",
"C_A2=0;\n",
"//Diffusion flux through the cylinder is given\n",
"M=D*(C_A1-C_A2)*Am/del_x;\n",
"disp(M,'Diffusion flux through the cylinder in kg/sm')"
   ]
   }
,
{
		   "cell_type": "markdown",
		   "metadata": {},
		   "source": [
			"## Example 10.6: Loss_of_H2_by_diffusion.sce"
		   ]
		  },
  {
"cell_type": "code",
	   "execution_count": null,
	   "metadata": {
	    "collapsed": true
	   },
	   "outputs": [],
"source": [
"//Exa 10.6\n",
"clc;\n",
"clear;\n",
"close;\n",
"//given data\n",
"format('v',15);\n",
"R=4160;// in J/kg-K\n",
"M=2;\n",
"D_AB=1.944*10^-8;// in m^2/s\n",
"R_H2=R/M;\n",
"S=2*0.0532; // Solubility of hydrogen at a pressure of 2 atm in cm^3/cm^3 of pipe\n",
"P=2;// in atm\n",
"P=P*1.03*10^5;// N/m^2\n",
"T=25;// in degree C\n",
"T=T+273;// in K\n",
"r1=2.5;// in mm\n",
"r1=r1*10^-3;// in m\n",
"r2=5;// in mm\n",
"r2=r2*10^-3;// in m\n",
"del_x=r2-r1;// in m\n",
"L=1;// in m\n",
"//Formula P*V= m*R*T\n",
"V=S;\n",
"m=P*V/(R*T);// in kg/m^3 of pipe\n",
"// So, Concentration of H2 at inner surface of the pipe\n",
"C_A1=0.0176;// in kg/m^3\n",
"// The resistance of diffusion of H2 away from the outer surface is negligible i.e.\n",
"C_A2=0;\n",
"Am=2*%pi*L*del_x/log(r2/r1);\n",
"// Loss of H2 by diffusion \n",
"M_A= D_AB*(C_A1-C_A2)*Am/del_x;\n",
"disp(M_A,'Loss of H2 by diffusion in kg/s');\n",
"\n",
"\n",
"//Note: In the book , they put wrong value of C_A1 to calculate M_A, so the answer in the book is wrong\n",
"\n",
"\n",
"\n",
"\n",
"\n",
"\n",
"\n",
"\n",
""
   ]
   }
,
{
		   "cell_type": "markdown",
		   "metadata": {},
		   "source": [
			"## Example 10.7: Time_taken_to_evaporate.sce"
		   ]
		  },
  {
"cell_type": "code",
	   "execution_count": null,
	   "metadata": {
	    "collapsed": true
	   },
	   "outputs": [],
"source": [
"//Exa 10.7\n",
"clc;\n",
"clear;\n",
"close;\n",
"//given data\n",
"format('v',15);\n",
"Px1= 0.14;// in bar\n",
"Px2= 0;\n",
"P=1.013;// in bar\n",
"Py1=P-Px1; // in bar\n",
"Py2=P-Px2; // in bar\n",
"D=8.5*10^-6;// in m^2/s\n",
"d=5;// diameter in meter\n",
"L=1;// in mm\n",
"L=L*10^-3;//in meter\n",
"M=78;// molecular weight\n",
"Am_x= 1/4*%pi*d^2*M;\n",
"R=8314;\n",
"del_x=3;// thickness in mm\n",
"del_x=del_x*10^-3;// in m\n",
"T=20;// in degree C\n",
"T=T+273;// in K\n",
"P=P*10^5;// in N/m^2\n",
"m_x= D*Am_x*P*log(Py2/Py1)/(R*T*del_x);\n",
"// The mass of the benzene to be evaporated\n",
"mass= 1/4*%pi*d^2*L;\n",
"density=880;// in kg/m^3\n",
"m_b= mass*density;\n",
"toh=m_b/m_x;// in sec\n",
"disp(toh,'Time taken for the entire organic compound to evaporate in seconds')\n",
"\n",
"\n",
"// Note: Answer in the book is wrong\n",
"\n",
"\n",
""
   ]
   }
,
{
		   "cell_type": "markdown",
		   "metadata": {},
		   "source": [
			"## Example 10.8: Diffusion_Flux_rate_of_air.sce"
		   ]
		  },
  {
"cell_type": "code",
	   "execution_count": null,
	   "metadata": {
	    "collapsed": true
	   },
	   "outputs": [],
"source": [
"//Exa 10.8\n",
"clc;\n",
"clear;\n",
"close;\n",
"//given data\n",
"format('v',8);\n",
"A=0.5;// in m^2\n",
"Pi=2.2;// in bar\n",
"Pi=Pi*10^5;// in N/m^2\n",
"Pf=2.18;// in bar\n",
"Pf=Pf*10^5;// in N/m^2\n",
"\n",
"T=300;// in K\n",
"S=0.072;// in m^3\n",
"V=0.028;// in m^3\n",
"L=10;// in mm\n",
"L=L*10^-3;// in meter\n",
"R=287;\n",
"// Diffusivity of air in rubber D\n",
"// Initial mass of air in the tube\n",
"mi= Pi*V/(R*T);// in kg\n",
"//final mass of air in the tube\n",
"mf= Pf*V/(R*T);// in kg\n",
"// Mass of air escaped\n",
" ma = mi-mf;//in kg\n",
"// Formula Na = ma/A = mass of air escaped / Time elapsed * area\n",
"A=6*24*3600*0.5;\n",
"Na = ma/A;//in kg/sm^2\n",
"// Solubility of air should be calculated at mean temperature\n",
"S_meanTemperature=(2.2+2.18)/2;// in bar\n",
"//Solubility of air at the mean inside Pressure is \n",
"S=S*S_meanTemperature;// in m^3/m^3 of rubber\n",
"disp('The air which escapes to atmosphere will be 1 bar and its solubility will remain at 0.72 m^3 of air per m^3 of rubber');\n",
"V1=S;\n",
"V2=0.072;\n",
"T1=T;\n",
"T2=T;\n",
"P1=2.19*10^5;// in N/m^2\n",
"P2=1*10^5;// in N/m^2\n",
"// The corresponding mass concentration at the inner and outer surface of the tube, from gas equation are calculated as\n",
"Ca1= P1*V1/(R*T1);// in kg/m^3\n",
"Ca2= P2*V2/(R*T2);// in kg/m^3\n",
"// The diffusion flux rate of air through the rubber is given by\n",
"// Na = ma/A = D*(Ca1-Ca2)/del_x, here\n",
"del_x=L;\n",
"D=Na*del_x/(Ca1-Ca2);\n",
"disp(D,'Diffusivity of air in rubber in m^2/s');"
   ]
   }
],
"metadata": {
		  "kernelspec": {
		   "display_name": "Scilab",
		   "language": "scilab",
		   "name": "scilab"
		  },
		  "language_info": {
		   "file_extension": ".sce",
		   "help_links": [
			{
			 "text": "MetaKernel Magics",
			 "url": "https://github.com/calysto/metakernel/blob/master/metakernel/magics/README.md"
			}
		   ],
		   "mimetype": "text/x-octave",
		   "name": "scilab",
		   "version": "0.7.1"
		  }
		 },
		 "nbformat": 4,
		 "nbformat_minor": 0
}
