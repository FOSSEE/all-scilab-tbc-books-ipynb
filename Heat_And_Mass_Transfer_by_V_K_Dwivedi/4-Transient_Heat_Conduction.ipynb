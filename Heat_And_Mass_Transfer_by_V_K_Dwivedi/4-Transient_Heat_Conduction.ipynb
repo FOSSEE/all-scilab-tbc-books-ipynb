{
"cells": [
 {
		   "cell_type": "markdown",
	   "metadata": {},
	   "source": [
       "# Chapter 4: Transient Heat Conduction"
	   ]
	},
{
		   "cell_type": "markdown",
		   "metadata": {},
		   "source": [
			"## Example 4.10: Heat_leaving_and_entering_the_slap.sce"
		   ]
		  },
  {
"cell_type": "code",
	   "execution_count": null,
	   "metadata": {
	    "collapsed": true
	   },
	   "outputs": [],
"source": [
"//Exa 4.10\n",
"clc;\n",
"clear;\n",
"close;\n",
"//given data\n",
"L=40*10^-2;// in m\n",
"k=1.5;// in W/mK\n",
"A=4;// in square meter\n",
"alpha=1.65*10^-3;// in m^2/h\n",
"//T = 50-40*x+10*x^2+20*x^3-15*x^4 , so\n",
"// dtBYdx= -40+20*x+60*x^2-60*x^3\n",
"// d2tBYdx2 = 20+120*x-180*x^2\n",
"\n",
"// Part (a) Heat entering the slab\n",
"//q1= -k*A*dtBYdx , at\n",
"x=0;\n",
"qi= -k*A*(-40+20*x+60*x^2-60*x^3);// in w\n",
"disp(qi,'Heat entering the slab in watt')\n",
"// Heat leaving the slab\n",
"//ql= -k*A*dtBYdx , at\n",
"x=L;\n",
"ql= -k*A*(-40+20*x+60*x^2-60*x^3);// in w\n",
"disp(ql,'Heat leaving the slab in watt')\n",
"\n",
"// Part (b) Rate of heat storage\n",
"RateOfHeatStorage = qi-ql;// in watt\n",
"disp(RateOfHeatStorage,'Rate of heat storage in watt');\n",
"\n",
"// Part (c) Rate of temperature change\n",
"// d2tBYdx2 = 1/alpha*dtBYdtoh\n",
"// dtBYdtoh= alpha*d2tBYdx2, at\n",
"x=0;\n",
"dtBYdtoh = alpha*(20+120*x-180*x^2);// in degree C/h\n",
"disp(dtBYdtoh,'The rate of temperature change at entering the slab in degree C/h')\n",
"// dtBYdtoh= alpha*d2tBYdx2, at\n",
"x=L\n",
"dtBYdtoh = alpha*(20+120*x-180*x^2);// in degree C/h\n",
"disp(dtBYdtoh,'The rate of temperature change at leaving the slab in degree C/h')\n",
"\n",
"// Part (d) for the rate of heating or cooling to be maximum\n",
"// dBYdx of dtBYdtoh = 0\n",
"// dBYdx of (alpha*d2tBYdx2) =0\n",
"// d3tBYdx3 = 0\n",
"x=120/360;// in meter\n",
"disp(x,'The point where rate of heating or cooling is maximum in meter')"
   ]
   }
,
{
		   "cell_type": "markdown",
		   "metadata": {},
		   "source": [
			"## Example 4.11: Time_required_for_cooling_process.sce"
		   ]
		  },
  {
"cell_type": "code",
	   "execution_count": null,
	   "metadata": {
	    "collapsed": true
	   },
	   "outputs": [],
"source": [
"//Exa 4.11\n",
"clc;\n",
"clear;\n",
"close;\n",
"//given data\n",
"k=40;// in W/m degree C\n",
"d =12*10^-3;// in meter\n",
"t=127;// in degree C\n",
"t_i=877;// in degree C\n",
"t_infinite=52;// in degree C\n",
"h= 20;// in W/m^2 degree C\n",
"rho=7800;// in W/m^2K\n",
"C=600;// in J/kg K\n",
"r=d/2;// in meter\n",
"//l_s = V/A = r/3\n",
"l_s =  r/3;\n",
"Bi= h*l_s/k;\n",
"// since Bi < 0.1 , hence lumped heat capacity analysis can be applied\n",
"// (t-t_infinite)/(t_i-t_infinite)  =  %e^(-h*A*toh /(rho*V*C)) = %e^(-h*toh/(rho*l_s*C)) = %e^(-h*toh/(rho*C*l_s))\n",
"toh = -log((t-t_infinite)/(t_i-t_infinite))*rho*C*l_s/h;// in sec\n",
"disp('Time required for cooling process : '+string(toh)+' seconds or '+string(toh/60)+' minutes')"
   ]
   }
,
{
		   "cell_type": "markdown",
		   "metadata": {},
		   "source": [
			"## Example 4.12: Time_to_keep_furnace.sce"
		   ]
		  },
  {
"cell_type": "code",
	   "execution_count": null,
	   "metadata": {
	    "collapsed": true
	   },
	   "outputs": [],
"source": [
"//Exa 4.12\n",
"clc;\n",
"clear;\n",
"close;\n",
"//given data\n",
"D=10*10^-2;// in m\n",
"b=D/2;\n",
"h= 100;// in W/m^2 degree C\n",
"T_o=418;// in degree C\n",
"T_i=30;// in degree C\n",
"T_infinite=1000;// in degree C\n",
"\n",
"disp(' (A) For copper cylinder ');\n",
"k=350;// in W/mK\n",
"alpha=114*10^-7;// in m^2/s\n",
"Bi= h*b/k;\n",
"theta_0_t = (T_o-T_infinite)/(T_i-T_infinite);\n",
"Fo=18.8;\n",
"// Formula Fo= alpha*t/b^2\n",
"t=Fo*b^2/alpha;\n",
"disp('Time required to reach for the cylinder centreline temperature 418 degree C : '+string(t)+' seconds or '+string(t/3600)+' hours')\n",
"\n",
"// (2) Temperature at the radius of 4 cm\n",
"theta_0_t = 0.985;\n",
"// Formula theta_0_t = (T-T_infinite)/(T_o-T_infinite)\n",
"T= theta_0_t*(T_o-T_infinite)+T_infinite;// in degree C\n",
"disp(T,'Temperature at the radius of 4 cm ') \n",
"disp('It has very less temperature gradients over 4 cm radius')\n",
"\n",
"disp(' (B) For asbestos cylinder ');\n",
"k=0.11;// in W/mK\n",
"alpha=0.28*10^-7;// in m^2/s\n",
"Bi= h*b/k;\n",
"theta_0_t = (T_o-T_infinite)/(T_i-T_infinite);\n",
"Fo=0.21;\n",
"// Formula Fo= alpha*t/b^2\n",
"t=Fo*b^2/alpha;\n",
"disp('Time required to reach for the cylinder centreline temperature 418 degree C : '+string(t)+' seconds or '+string(t/3600)+' hours')\n",
"\n",
"// (2) Temperature at the radius of 4 cm\n",
"theta_x_t = 0.286;\n",
"// Formula theta_x_t = (T-T_infinite)/(T_o-T_infinite)\n",
"T= theta_x_t*(T_o-T_infinite)+T_infinite;// in degree C\n",
"disp(T,'Temperature at the radius of 4 cm ') \n",
"disp('It has large temperature gradients')"
   ]
   }
,
{
		   "cell_type": "markdown",
		   "metadata": {},
		   "source": [
			"## Example 4.13: Centre_temperature.sce"
		   ]
		  },
  {
"cell_type": "code",
	   "execution_count": null,
	   "metadata": {
	    "collapsed": true
	   },
	   "outputs": [],
"source": [
"//Exa 4.13\n",
"clc;\n",
"clear;\n",
"close;\n",
"//given data\n",
"D=5*10^-2;// in m\n",
"b=D/2;\n",
"h= 500;// in W/m^2 degree C\n",
"k=60;// in W/m^2K\n",
"rho=7850;// in kg/m^3\n",
"C=460;// in J/kg\n",
"alpha=1.6*10^-5;// in m^2/s\n",
"T_i=225;// in degree C\n",
"T_infinite=25;// in degree C\n",
"t=2;// in minute\n",
"\n",
"// Part(i)\n",
"Bi= h*b/k;\n",
"Fo= alpha*t/b^2;\n",
"theta_0_t = 0.18;\n",
"// Formula theta_0_t = (T_o-T_infinite)/(T_i-T_infinite)\n",
"T_o= theta_0_t*(T_i-T_infinite)+T_infinite;// in degree C\n",
"disp(T_o,'Centreline Temperature of the sphere after 2 minutes of exposure in degree C ') ;\n",
"\n",
"// Part(2)\n",
"depth= 10*10^-3;// in meter\n",
"r=b-depth;// in meter\n",
"rBYb=r/b;\n",
"theta_x_t = 0.95;\n",
"// Formula theta_x_t = (T-T_infinite)/(T_o-T_infinite)\n",
"T= theta_x_t*(T_o-T_infinite)+T_infinite;// in degree C\n",
"disp(T,'The Temperature at the depth of 1 cm from the surface after 2 minutes in degree C ') ;\n",
"\n",
"// Part (3)\n",
"BiSquareFo= Bi^2*Fo;\n",
"QbyQo= 0.8;// in kJ\n",
"A=4/3*%pi*b^3;\n",
"Qo= rho*A*C*(T_i-T_infinite);// in J\n",
"Qo=Qo*10^-3;// in kJ\n",
"// The heat transffered during 2 minute, \n",
"Q= Qo*QbyQo;// in kJ\n",
"disp(Q,'The heat transffered during 2 minutes in kJ')\n",
"\n",
"\n",
"\n",
"\n",
"\n",
"\n",
"\n",
"\n",
"\n",
"\n",
"\n",
"\n",
"\n",
"\n",
"\n",
"\n",
"\n",
""
   ]
   }
,
{
		   "cell_type": "markdown",
		   "metadata": {},
		   "source": [
			"## Example 4.1: Rate_of_change_of_energy_storage_in_the_wall.sce"
		   ]
		  },
  {
"cell_type": "code",
	   "execution_count": null,
	   "metadata": {
	    "collapsed": true
	   },
	   "outputs": [],
"source": [
"//Exa 4.1\n",
"clc;\n",
"clear;\n",
"close;\n",
"//given data\n",
"format('v',9)\n",
"L=1;// in m\n",
"rho=1600;// in kg/m^3\n",
"k=40;// in w/mK\n",
"Cp=4*10^3;// in J/kgK\n",
"a=900;// in  degree C\n",
"b=-300;// in  degree C/m\n",
"c=-50;// in  degree C/m^2\n",
"Qg=1*10^3;// in kW/m^2\n",
"A=10;// area in m^2\n",
"//t=a+b*x+c*x^2 at any instant, so\n",
"// dtBYdx= b+2*c*x\n",
"// d2tBYdx2 = 2*c, then\n",
"\n",
"// Part(a)\n",
"//q1= -k*A*dtBYdx , at\n",
"x=0;\n",
"q1= -k*A*(b+2*c*x);// in w\n",
"//q2= -k*A*dtBYdx , at\n",
"x=L;\n",
"q2= -k*A*(b+2*c*x);// in w\n",
"E_stored= (q1-q2)+Qg*A*L;// in watt\n",
"disp(E_stored,'The rate of change of energy storage in watt')\n",
"\n",
"// Part(b)\n",
"alpha= k/(rho*Cp);// in m^2s\n",
"d2tBYdx2 = 2*c;\n",
"dtBYdtoh= alpha*(d2tBYdx2+Qg/k );// in degree C/sec\n",
"disp(dtBYdtoh,'Rate of change of temperature in degree C/sec');\n",
"disp('Since dt by dx is independent of x. Hence time rate of charge of temperature throughout wall will remain same.')\n",
"\n",
"\n",
"\n",
""
   ]
   }
,
{
		   "cell_type": "markdown",
		   "metadata": {},
		   "source": [
			"## Example 4.2: EX4_2.sce"
		   ]
		  },
  {
"cell_type": "code",
	   "execution_count": null,
	   "metadata": {
	    "collapsed": true
	   },
	   "outputs": [],
"source": [
"//Exa 4.2\n",
"clc;\n",
"clear;\n",
"close;\n",
"//given data\n",
"k=40;// in W/mK\n",
"rho=7800;// in kg/m^3\n",
"C=450;// in J/kgK\n",
"d=20*10^-3;// in m\n",
"r=d/2;\n",
"t_i=400;// in degree C\n",
"t=85;// in degree C\n",
"t_infinite=25;// in degree C\n",
"h=80;// in W/m^2K\n",
"//l_s=V/A = (4/3*%pi*r^3)/(4*%pi*r^2) = r/3\n",
"l_s=r/3;// in m\n",
"Bi= h*l_s/k;\n",
"// since Biot number is less than 0.1, hence lumped heat capacity system analysis can be applied\n",
"\n",
"// Part(a)\n",
"// Formula (t-t_infinite)/(t_i-t_infinite)= %e^(-h*A*toh/(rho*V*C)) = %e^(-h*toh/(rho*l_s*C))\n",
"toh= -log((t-t_infinite)/(t_i-t_infinite))*(rho*l_s*C)/h;// in sec\n",
"disp(toh,'The time require to cool the sphere in sec');\n",
"\n",
"// Part(b)\n",
"// dtBYdtoh = h*A*(t_i-t_infinite)/(rho*V*C) = h*(t_i-t_infinite)/(rho*l_s*C)\n",
"dtBYdtoh = h*(t_i-t_infinite)/(rho*l_s*C);// in degree C/sec\n",
"disp(dtBYdtoh,'Initial rate of cooling in degree C/sec');\n",
"\n",
"// Part(c)\n",
"A=4*%pi*r^2;\n",
"toh=60;\n",
"q_in= h*A*(t_i-t_infinite)*%e^(-h*toh/(rho*l_s*C));// in watt\n",
"disp(q_in,'Instantaneous heat transfer rate in watt');\n",
"\n",
"// Part(d) Total energy transferred during first one minute\n",
"V=4/3*%pi*r^3;\n",
"TotalEnergy = rho*C*V*(t_i-t_infinite)*(1-%e^(-h*toh/(rho*C*l_s)));\n",
"disp(TotalEnergy,'Total energy transferred during first one minute in watt')\n",
"\n",
"// Note: Answer of first and last part in the book is wrong"
   ]
   }
,
{
		   "cell_type": "markdown",
		   "metadata": {},
		   "source": [
			"## Example 4.3: Time_constant_and_temp_attained_by_junction.sce"
		   ]
		  },
  {
"cell_type": "code",
	   "execution_count": null,
	   "metadata": {
	    "collapsed": true
	   },
	   "outputs": [],
"source": [
"//Exa 4.3\n",
"clc;\n",
"clear;\n",
"close;\n",
"//given data\n",
"k=40;// in W/mK\n",
"rho=8200;// in kg/m^3\n",
"C=400;// in J/kgK\n",
"D=6*10^-3;// in m\n",
"R=D/2;\n",
"t_i=30;// in degree C\n",
"t_infinite1=400;// for 10 sec in degree C\n",
"t_infinite2=20;// for 10 sec in degree C\n",
"h=50;// in W/m^2K\n",
"\n",
"// Part(a)\n",
"//l_s= V/A = R/3\n",
"l_s= R/3;// in m\n",
"//toh= rho*V*C/(h*A) = rho*C*l_s/h\n",
"toh= rho*C*l_s/h;// in sec\n",
"disp(toh,'Time constance in sec')\n",
"\n",
"// Part (b)\n",
"Bi= h*l_s/k;\n",
"// since Bi < 0.1 , hence lumped heat capacity analysis is valid. Now , temperature attained by junction in 10 seconds when exposed to hot air at 400 degree C\n",
"toh=10;// in sec\n",
"// (t-t_infinite1)/(t_i-t_infinite1)= %e^(-h*A*toh/(rho*V*C)) = %e^(-h*toh/(rho*l_s*C))\n",
"t= %e^(-h*toh/(rho*l_s*C))*(t_i-t_infinite1)+t_infinite1;// in degree C\n",
"\n",
"disp('The junction is taken out from hot air stream and placed in stream of still air 20 degree C. The initial temperature in this case will be '+string(t)+' .')\n",
"t_i=t;\n",
"toh=20;// in sec\n",
"t= %e^(-h*toh/(rho*l_s*C))*(t_i-t_infinite2)+t_infinite2;// in degree C\n",
"disp(t,'The temperature attained by junction in degree C');\n",
"\n",
"// Note: In the last, calculation to find the value of t is wrong so Answer in the book is wrong\n",
"\n",
"\n",
"\n",
"\n",
"\n",
""
   ]
   }
,
{
		   "cell_type": "markdown",
		   "metadata": {},
		   "source": [
			"## Example 4.4: Time_constant_and_time_required_to_the_temp_change.sce"
		   ]
		  },
  {
"cell_type": "code",
	   "execution_count": null,
	   "metadata": {
	    "collapsed": true
	   },
	   "outputs": [],
"source": [
"//Exa 4.4\n",
"clc;\n",
"clear;\n",
"close;\n",
"//given data\n",
"k=8;// in W/mK\n",
"alpha=4*10^-6;// in m^2/s\n",
"h=50;// in W/m^2K\n",
"D=6*10^-3;// in m\n",
"R=D/2;\n",
"T=0.5;// where T = (t-t_infinite)/(t_i-t_infinite)\n",
"//l_s= V/A = R/3\n",
"l_s= R/2;// in m\n",
"Bi= h*l_s/k;\n",
"// since Bi < 0.1 , hence lumped heat capacity analysis can be applied\n",
"// toh= rho*V*C/(h*A) = rho*C*l_s/h = k*l_s/(h*alpha)\n",
"toh=  k*l_s/(h*alpha);// in seconds\n",
"disp(toh,'time constant in seconds');\n",
"// It is given that (t-t_infinite)/(t_i-t_infinite) = 0.5 =  %e^(-h*A*c /(rho*V*C)) = %e^(-h*c/(rho*l_s*C)) = %e^(-h*alpha*c/(l_s))\n",
"// or (t-t_infinite)/(t_i-t_infinite) = %e^(-h*alpha*c/(l_s);\n",
"c= -log(T)*l_s/(h*alpha);// in sec\n",
"disp(c,'The time required to temperature change to reach half of its initial value in seconds');\n",
""
   ]
   }
,
{
		   "cell_type": "markdown",
		   "metadata": {},
		   "source": [
			"## Example 4.5: Rate_of_heat_energy_stored.sce"
		   ]
		  },
  {
"cell_type": "code",
	   "execution_count": null,
	   "metadata": {
	    "collapsed": true
	   },
	   "outputs": [],
"source": [
"//Exa 4.5\n",
"clc;\n",
"clear;\n",
"close;\n",
"//given data\n",
"//t=450-500*x+100*x^2+150*x^3 at any instant, so\n",
"// dtBYdx= -500+200*x+450*x^2\n",
"\n",
"L=0.5;// thickness of the wall in meter\n",
"k=10;// in W/mK\n",
"// Rate of heating entering in the wall per unit area, at\n",
"x=0;\n",
"//q1= -k*dtBYdx\n",
"q1= -k*(-500+200*x+450*x^2);// in W/m^2\n",
"// Rate of heat going out of the wall per unit area , at\n",
"x=L;\n",
"q2= -k*(-500+200*x+450*x^2);// in W/m^2\n",
"E=q1-q2;// in W/m^2\n",
"disp(E,'Heat energy stored per unit area in W/m^2')"
   ]
   }
,
{
		   "cell_type": "markdown",
		   "metadata": {},
		   "source": [
			"## Example 4.6: Time_constant_and_time_required_for_the_plate_to_reach_the_temp_of_40_deg_C.sce"
		   ]
		  },
  {
"cell_type": "code",
	   "execution_count": null,
	   "metadata": {
	    "collapsed": true
	   },
	   "outputs": [],
"source": [
"//Exa 4.6\n",
"clc;\n",
"clear;\n",
"close;\n",
"//given data\n",
"k=385;// in W/mK\n",
"h=100;// in W/m^2K\n",
"delta =2*10^-3;// thickness of plate in meter\n",
"A=25*25;// area of plate in square meter\n",
"rho=8800;// kg/m^3\n",
"C=400;// J/kg-K\n",
"// l_s= V/A= L*B*delta/(2*L*B) = delta/2\n",
"l_s= delta/2;// in meter\n",
"Bi= h*l_s/k;\n",
"// since Bi < 0.1 , hence lumped heat capacity analysis can be applied\n",
"\n",
"// Part(i)\n",
"// toh= rho*V*C/(h*A) = rho*C*l_s/h\n",
"toh= rho*C*l_s/h;// in second\n",
"disp(toh,'Time constant in seconds');\n",
"\n",
"// Part(ii)\n",
"t_i=400;// in degree C\n",
"t=40;// in degree C\n",
"t_infinite=25;// in degree C\n",
"// (t-t_infinite)/(t_i-t_infinite) =  %e^(-h*A*toh /(rho*V*C)) = %e^(-h*toh/(rho*l_s*C)) \n",
"toh= -log((t-t_infinite)/(t_i-t_infinite))*rho*C*l_s/h;// in sec\n",
"disp(toh,'The time required for the plate to reach the temperature of 40 degree C in seconds');\n",
""
   ]
   }
,
{
		   "cell_type": "markdown",
		   "metadata": {},
		   "source": [
			"## Example 4.7: Time_required_to_cool_plate_to_80_deg_C_and_in_air.sce"
		   ]
		  },
  {
"cell_type": "code",
	   "execution_count": null,
	   "metadata": {
	    "collapsed": true
	   },
	   "outputs": [],
"source": [
"//Exa 4.7\n",
"clc;\n",
"clear;\n",
"close;\n",
"//given data\n",
"k=380;// in W/mK\n",
"delta =6*10^-2;// thickness of plate in meter\n",
"rho=8800;// kg/m^3\n",
"C=400;// J/kg-K\n",
"// l_s= V/A = delta/2\n",
"l_s= delta/2;// in meter\n",
"t=80;// in degree C\n",
"t_i=200;// in degree C\n",
"t_inf=30;// in degree C\n",
"hw= 75;// in W/m^2K\n",
"ha= 10;// in W/m^2K\n",
"\n",
"// Part(i)\n",
"// ha*A*(t-t_inf_a)+ hw*A*(t-t_inf_w) = -rho*V*C*dtBYdtho, since t_ini_a = t_inf_w = t_inf = 30 degree C\n",
"// (ha+hw)*A*(t-t_inf)= -rho*V*C*dtBYdtho\n",
"// (ha+hw)/(rho*C*V)*A*dtoh = -dt/(t-t_inf)\n",
"// integrate('(ha+hw)/(rho*V*C)*A','toh',0,toh) = integrate('1/(t-t_inf)','t',t_i,t)\n",
"toh= -rho*l_s*C/(ha+hw)*log((t-t_inf)/(t_i-t_inf));\n",
"disp('Time required to cool plate to 80 degree C is : '+string(toh)+' seconds = '+string(toh/60)+' minutes');\n",
"\n",
"// Part (ii)\n",
"t= -rho*l_s*C/(2*ha)*log((t-t_inf)/(t_i-t_inf));\n",
"disp('Time required to cool plate in only air is : '+string(t)+' seconds = '+string(t/60)+' minutes');\n",
""
   ]
   }
,
{
		   "cell_type": "markdown",
		   "metadata": {},
		   "source": [
			"## Example 4.8: Maximum_speed_of_ingot_passing_through_the_furnace.sce"
		   ]
		  },
  {
"cell_type": "code",
	   "execution_count": null,
	   "metadata": {
	    "collapsed": true
	   },
	   "outputs": [],
"source": [
"//Exa 4.8\n",
"clc;\n",
"clear;\n",
"close;\n",
"//given data\n",
"k=45;// in W/m degree C\n",
"d =0.1;// in meter\n",
"l =0.30;// in meter\n",
"t=800;// in degree C\n",
"t_i=100;// in degree C\n",
"t_infinite=1200;// in degree C\n",
"h= 120;// in W/m^2 degree C\n",
"alpha=1.2*10^-5;// in meter\n",
"rhoC= k/alpha;\n",
"V=%pi/4*d^2*l;// in m^3\n",
"A= %pi*d*l + 2*%pi/4*d^2;// in m^2\n",
"// l_s= V/A = (%pi/4*d^2*l)/(%pi*d*l + 2*%pi/4*d^2) = d*l/(4*l+2*d^2)\n",
"l_s = d*l/(4*l+2*d^2);\n",
"Bi= h*l_s/k;\n",
"// since Bi < 0.1 , hence lumped heat capacity analysis can be applied\n",
"// (t-t_infinite)/(t_i-t_infinite)  =  %e^(-h*A*toh /(rho*V*C)) = %e^(-h*toh/(rho*l_s*C)) = %e^(-h*toh/(rhoC*l_s))\n",
"toh = -log((t-t_infinite)/(t_i-t_infinite))*rhoC*l_s/h;// in sec\n",
"\n",
"// So, the velocity of ingot passing through the furnace\n",
"FurnaceLength = 8*100;// in cm\n",
"time = toh;\n",
"Velocity = FurnaceLength/time;// in cm/sec\n",
"disp(Velocity,'Maximum speed in cm/sec')"
   ]
   }
,
{
		   "cell_type": "markdown",
		   "metadata": {},
		   "source": [
			"## Example 4.9: Junction_diamete_and_time_required_for_the_thermocouple_junction.sce"
		   ]
		  },
  {
"cell_type": "code",
	   "execution_count": null,
	   "metadata": {
	    "collapsed": true
	   },
	   "outputs": [],
"source": [
"//Exa 4.9\n",
"clc;\n",
"clear;\n",
"close;\n",
"//given data\n",
"rho=8500;// in kg/m^3\n",
"C=400;// J/kgK\n",
"toh=1;// in sec\n",
"h= 400;// in W/m^2 degree C\n",
"t=198;// in degree C\n",
"t_i=25;// in degree C\n",
"t_infinite=200;// in degree C\n",
"\n",
"// Part (1)\n",
"// toh =rho*V*C/(h*A) = rho*C*l_s/h\n",
"l_s= toh*h/(rho*C);\n",
"// l_s = V/A = r/3 \n",
"r=3*l_s;// in m\n",
"r=r*10^3;// in mm\n",
"d=2*r;// in m\n",
"disp(d,'Junction diameter needed for the thermocouple in mili miter');\n",
"\n",
"// Part(ii)\n",
"// toh= -rho*V*C/(h*A)*log((t-t_infinite)/(t_i-t_infinite))  \n",
"toh = -toh*log((t-t_infinite)/(t_i-t_infinite));\n",
"disp(toh,'Time required for the thermocouple junction to reach 198 degree C in seconds');"
   ]
   }
],
"metadata": {
		  "kernelspec": {
		   "display_name": "Scilab",
		   "language": "scilab",
		   "name": "scilab"
		  },
		  "language_info": {
		   "file_extension": ".sce",
		   "help_links": [
			{
			 "text": "MetaKernel Magics",
			 "url": "https://github.com/calysto/metakernel/blob/master/metakernel/magics/README.md"
			}
		   ],
		   "mimetype": "text/x-octave",
		   "name": "scilab",
		   "version": "0.7.1"
		  }
		 },
		 "nbformat": 4,
		 "nbformat_minor": 0
}
