{
"cells": [
 {
		   "cell_type": "markdown",
	   "metadata": {},
	   "source": [
       "# Chapter 2: Economics Of Generation"
	   ]
	},
{
		   "cell_type": "markdown",
		   "metadata": {},
		   "source": [
			"## Example 2.1: To_Determine_the_Demand_and_Supply_Parameters_for_15_bulbs.sce"
		   ]
		  },
  {
"cell_type": "code",
	   "execution_count": null,
	   "metadata": {
	    "collapsed": true
	   },
	   "outputs": [],
"source": [
"//To Determine the Demand and Supply Parameters for 15 bulbs\n",
"//Page 73\n",
"clc;\n",
"clear;\n",
"W=60; //Wattage of the bulb\n",
"N=15; //No. of bulbs\n",
"CL=W*N; //Connected Load;\n",
"Wih=2*(10^3); //Wattage of immersion heater\n",
"Wh=2*(10^3); //Wattage of heater\n",
"\n",
"//Usage of Bulbs at different time periods\n",
"N1=5;\n",
"N2=10;\n",
"N3=6\n",
"\n",
"//Time periods for bulbs\n",
"T1=2; //6pm - 8pm\n",
"T2=2; //8pm - 10pm\n",
"T3=2; //10pm - 12pm\n",
"//Time Periods for heaters\n",
"T4=4; //1pm - 5pm\n",
"T5=3; //8pm - 11pm\n",
"\n",
"//CASE 1\n",
"MD1=W*N2; //Maximum Demand\n",
"DF=MD1*100/CL; //Demand Factor\n",
"EC1=(N1*W*T1)+(N2*W*T2)+(N3*W*T3); //Energy Consumed\n",
"DLF1=EC1*100/(24*MD1); //Daily Load Factor\n",
"\n",
"//CASE 2\n",
"MD2=(W*N2)+Wh; //From 8pm - 10pm\n",
"EC2=(T4*Wih)+(T5*Wh)+EC1; //Energy Consumed\n",
"DLF2=EC2*100/(24*MD2); //Daily Load Factor\n",
"\n",
"printf('i)a) Connected Load is %g W\nb) The Maximum Demand is %g W\nc) The Demand Factor is %g percent\nd) The Daily Load Factor is %g percent\n',CL,MD1,DF,DLF1)\n",
"printf('ii) The Improved Daily Load Factor is %g percent\n',DLF2)"
   ]
   }
,
{
		   "cell_type": "markdown",
		   "metadata": {},
		   "source": [
			"## Example 2.2: To_determine_the_Demand_and_supply_parameter_of_four_consumers.sce"
		   ]
		  },
  {
"cell_type": "code",
	   "execution_count": null,
	   "metadata": {
	    "collapsed": true
	   },
	   "outputs": [],
"source": [
"//To determine the Demand and supply parameter of four consumers\n",
"//Page 74\n",
"clc;\n",
"clear;\n",
"\n",
"//Maximum Demands of various users\n",
"MD1=2*(10^3); //9pm\n",
"MD2=2*(10^3); //12 noon\n",
"MD3=8*(10^3); //5pm\n",
"MD4=4*(10^3); //8pm\n",
"MDT=MD1+MD2+MD3+MD4; //Sum of all Maximum Demands\n",
"\n",
"//Demands of various users\n",
"D1=1.6*(10^3); //8pm\n",
"D2=1*(10^3); //8pm\n",
"D3=5*(10^3); //8pm\n",
"\n",
"//The Number after the Alphabets represents the Consumer\n",
"\n",
"//Maximum Demand of the System arises at 8.00 PM\n",
"MDS = D1+D2+D3+MD4;\n",
"\n",
"TDF=MDT/MDS; //Diversity Factor\n",
"//Given Values\n",
"//Average Loads\n",
"AL2=500;\n",
"AL4=1000;\n",
"//Load Factors\n",
"LF1=15/100;\n",
"LF3=25/100;\n",
"//Calculated Values\n",
"//Average Loads\n",
"AL1=LF1*MD1;\n",
"AL3=LF3*MD3;\n",
"//Load Factors\n",
"LF2=AL2*100/MD2;\n",
"LF4=AL4*100/MD4;\n",
"\n",
"ALS=AL1+AL2+AL3+AL4;  //Combined Average Loads\n",
"LFS=ALS*100/MDS; //Combined Load Factor\n",
"\n",
"printf('i) The Diversity Factor is %g\n',TDF)\n",
"printf('ii) The Average load and Load factor of:\n')\n",
"printf(' Consumer 1 : %g W and %g percent\n',AL1,LF1*100)\n",
"printf(' Consumer 2 : %g W and %g percent\n',AL2,LF2)\n",
"printf(' Consumer 3 : %g W and %g percent\n',AL3,LF3*100)\n",
"printf(' Consumer 4 : %g W and %g percent\n',AL4,LF4)\n",
"printf('iii) The Combined Load Factor and The Combined Average Load is %g percent and %g W respectively\n',LFS,ALS )"
   ]
   }
,
{
		   "cell_type": "markdown",
		   "metadata": {},
		   "source": [
			"## Example 2.3: To_Determine_the_Yearly_Cost_of_the_substation.sce"
		   ]
		  },
  {
"cell_type": "code",
	   "execution_count": null,
	   "metadata": {
	    "collapsed": true
	   },
	   "outputs": [],
"source": [
"//To Determine the Yearly Cost of the substation\n",
"//Page 75\n",
"clc;\n",
"clear;\n",
"Teff=95/100; //Transmission Efficiency\n",
"Deff=85/100; //Distribution Efficiency\n",
"DFT=1.2; //Diversity Factor For Transmission\n",
"DFD=1.3; //Diversity Factor For Distribution\n",
"MDGS=100*(10^6); //Maximum Demand of Generating Station\n",
"ALF=40/100; //Annual Load Factor\n",
"ACCT=2.5*(10^6); //Annual Capital Charge for Transmission\n",
"ACCD=2*(10^6); //Annual Capital Charge for Distribution\n",
"GCC=100; //Generating Cost per KW demand\n",
"GCCU=5/100; // Per Unit Cost\n",
"//Fixed Charges from Supply to Substation Annually\n",
"GFC=GCC*MDGS/1000; //Generating\n",
"TFC=ACCT; //Transmission\n",
"TotFCS=GFC+TFC  //Total\n",
"//Fixed Charges for supply upto Consumer Annually\n",
"DFC=ACCD; //Distribution\n",
"TotFCC=TotFCS+DFC; //Total\n",
"\n",
"AMDS= DFT*MDGS/1000; //Aggregate of Maximum Demand at Supply\n",
"AMDC= DFD*AMDS; //Aggregate of Maximum Demand for Consumers\n",
"\n",
"FCS=TotFCS/AMDS; //Fixed Charges Per KW at substation\n",
"CES=GCCU/Teff; //Cost of energy at the substation\n",
"\n",
"FCC=TotFCC/AMDC; //Fixed Charges per KW at the consumer premises\n",
"CEC=CES/Deff; //Cost of Energy at the consumer premises\n",
"\n",
"printf('The Yealy Cost per KW demand and the cost per KWhr at:\n')\n",
"printf('a) The substation is %g rupees per KW and %g paise per KWhr\n',FCS,CES*100)\n",
"printf('b) The consumer premises is %g rupees per KW and %g paise per KWhr\n',FCC,CEC*100)"
   ]
   }
,
{
		   "cell_type": "markdown",
		   "metadata": {},
		   "source": [
			"## Example 2.4: To_determine_the_Load_factor_and_suitable_units_for_24_hr_operation_of_the_plant.sce"
		   ]
		  },
  {
"cell_type": "code",
	   "execution_count": null,
	   "metadata": {
	    "collapsed": true
	   },
	   "outputs": [],
"source": [
"//To determine the Load factor and suitable units for 24 hr operation of the plant\n",
"//Page 78\n",
"clc;\n",
"clear;\n",
"\n",
"//Demands at Various Time Periods starting from 12PM to 12PM\n",
"D1=500*(10^3); \n",
"D2=800*(10^3);\n",
"D3=2000*(10^3);\n",
"D4=1000*(10^3);\n",
"D5=2500*(10^3);\n",
"D6=2000*(10^3);\n",
"D7=1500*(10^3);\n",
"D8=1000*(10^3);\n",
"\n",
"MD=D5; //Maximum Demand\n",
"//Time Periods of demands ststing from 12PM\n",
"T1=5;\n",
"T2=5;\n",
"T3=2;\n",
"T4=2;\n",
"T5=3;\n",
"T6=3;\n",
"T7=2;\n",
"T8=2;\n",
"\n",
"//Total Energy Demand in 24hrs\n",
"TED=(T1*D1)+(T2*D2)+(T3*D3)+(D4*T4)+(T5*D5)+(D6*T6)+(D7*T7)+(T8*D8);\n",
"\n",
"LF=TED*100/(24*MD);\n",
"\n",
"printf('Since Maximum Demand is 2500 kW, 2 units 0f 1000W and one unit of 500W is required. Also for continuity of supply, A reserve of 1000W unit is required.\n')\n",
"\n",
"C1000=3*1000*(10^3); //1000 unit \n",
"C500=1*500*(10^3); //500 Unit\n",
"\n",
"TCP=C1000+C500; //Total capacity of the plant\n",
"PCF=TED*100/(24*TCP); //Plant Capacity Factor\n",
"\n",
"//Operating Schedule, Units operated can be seen in the textbook\n",
"G1=500*(10^3);  \n",
"G2=1000*(10^3);\n",
"G3=2000*(10^3);\n",
"G4=1000*(10^3);\n",
"G5=2500*(10^3);\n",
"G6=2000*(10^3);\n",
"G7=1500*(10^3);\n",
"G8=1000*(10^3);\n",
"\n",
"TEG=(T1*G1)+(T2*G2)+(T3*G3)+(G4*T4)+(T5*G5)+(G6*T6)+(G7*T7)+(T8*G8);//Total Energy Generated\n",
"PUF=TED*100/(TEG); //Plant Use Factor\n",
"\n",
"printf('a) The Reserve Capacity is a 1000kW Unit and Load Factor is %g percent\n',LF)\n",
"printf('b) The Plant Capacity Factor is %g percent\n',PCF)\n",
"printf('c) The Plant Use Factor is %g percent\n',PUF)"
   ]
   }
,
{
		   "cell_type": "markdown",
		   "metadata": {},
		   "source": [
			"## Example 2.5: To_determine_the_Plant_use_factore_of_each_unit.sce"
		   ]
		  },
  {
"cell_type": "code",
	   "execution_count": null,
	   "metadata": {
	    "collapsed": true
	   },
	   "outputs": [],
"source": [
"//To determine the Plant use factore of each unit\n",
"//Page 80\n",
"clc;\n",
"clear;\n",
"\n",
"MDS=25*(10^6); //Maximum Demand on the System\n",
"U1=15*(10^6); //Load Supplied By Unit 1\n",
"U2=12.5*(10^6); //Load Supplied By Unit 2\n",
"//Running Time Factor of the Unit\n",
"T1=1;\n",
"T2=40/100;\n",
"\n",
"//Energy generated by each unit\n",
"E1=1*(10^8);\n",
"E2=1*(10^7);\n",
"Et=E1+E2; //Total Energy\n",
"\n",
"//Maximum Demands on Each Units\n",
"MD1=U1;\n",
"MD2=MDS-U1;\n",
"\n",
"//Annual Load Factor for the Units\n",
"ALF1=E1*1000*100/(MD1*8760);\n",
"ALF2=E2*1000*100/(MD2*8760);\n",
"\n",
"LF2=E2*1000*100/(MD2*0.4*8760); //Load Factor for the it is loaded\n",
"\n",
"//Since Unit runs all through the year without any reserve, Load Factor ,Plant Use Factor and Plant Capacity Factor are the same\n",
"PUF1=ALF1; //Plant Use Factor\n",
"PCF1=ALF1; // Plant Capacity Factor\n",
"\n",
"PCF2=E2*1000*100/(U2*8760); //Plant Capacity Factor for Unit 2\n",
"PUF2=E2*1000*100/(U2*0.4*8760);//Plant Use Factor for Unit 2\n",
"\n",
"LFP=Et*100*1000/(MDS*8760); //Annual Load Factor of the Complete Plant\n",
"\n",
"printf('The Load Factor, Plant Capacity Factor, Plant Use Factor of:\n')\n",
"printf('Unit 1 : %g percent, %g percent, %g percent\n',ALF1,PCF1,PUF1)\n",
"printf('Unit 2 : %g percent, %g percent, %g percent\n',ALF2,PCF2,PUF2)\n",
"printf('The Annual Load Factor of the Entire Plant is %g percent',LFP)"
   ]
   }
,
{
		   "cell_type": "markdown",
		   "metadata": {},
		   "source": [
			"## Example 2.6: To_determine_the_Overall_cost_per_kWhr.sce"
		   ]
		  },
  {
"cell_type": "code",
	   "execution_count": null,
	   "metadata": {
	    "collapsed": true
	   },
	   "outputs": [],
"source": [
"//To determine the Overall cost per kWhr\n",
"//Page 82\n",
"clc;\n",
"clear;\n",
"\n",
"// C1 =(100,000 rupees + 100 rupees/kW + 6 paise /kWhr) //Base Load Station\n",
"// C2 =(80,000 rupees + 60 rupees/kW + 8 paise /kWhr) //Peak Load Station\n",
"\n",
"MaxD=15*(10^6);\n",
"MinD=5*(10^6);\n",
"\n",
"deff('a=BLS(b,c)','a=100000+(b*100)+((6/100)*c)'); //Function to Find Annual Cost of Base Load Station.\n",
"\n",
"\n",
"deff('a=PLS(b,c)','a=80000+(b*60)+((8/100)*c)'); //Function to Find Annual Cost of Peak Load Station.\n",
"\n",
"//Also from the Annual Cost characteristics of the base load and peak load station we find co-efficients which are helpful in computing the number of hours a peak load station must work for minimum cost\n",
"\n",
"a1=100;\n",
"a2=60;\n",
"b1=6/100;\n",
"b2=8/100;\n",
"\n",
"Tpeak=(a1-a2)/(b2-b1); //Number of hours the peak plant should operate\n",
"//From the straight line annual load duration curve, Maximum Demand at Peak Load Station can be calculated\n",
"MDP=Tpeak*(MaxD-MinD)/8760;\n",
"\n",
"TotEG=(MaxD+MinD)*8760/(2*1000); //Total Energy Generated\n",
"EGP=MDP*Tpeak/(2*1000); //Energy Generated by Peak Load\n",
"EGB=TotEG-EGP; //Energy Generated by Base Load\n",
"\n",
"MDB=MaxD-MDP; //Maximum Demand at the Base Load\n",
"\n",
"//Total Annual Cost of Base Load and Peak Load Stations Respectively\n",
"C1=BLS((MDB/1000),EGB);\n",
"C2=PLS((MDP/1000),EGP);\n",
"\n",
"TotC=C1+C2; //Total Cost of both the plants\n",
"CE=TotC*100/TotEG; //Cost of energy in paise per kWhr\n",
"\n",
"printf('The Operating Scedule of Peak Load Station for Minimum Annual Cost is %g hours\n',Tpeak)\n",
"printf(' The Overall Cost per kWhr is %g paise \n',CE)"
   ]
   }
,
{
		   "cell_type": "markdown",
		   "metadata": {},
		   "source": [
			"## Example 2.7: To_determine_the_amount_saved_to_replace_the_equipment.sce"
		   ]
		  },
  {
"cell_type": "code",
	   "execution_count": null,
	   "metadata": {
	    "collapsed": true
	   },
	   "outputs": [],
"source": [
"//To determine the amount saved to replace the equipment\n",
"//Page 90\n",
"clc;\n",
"clear;\n",
"\n",
"Pc=80000; //Plant Cost\n",
"UL= 15; //Useful Life of the Plant\n",
"SVE=5000; //Salvage Value of the Equipment\n",
"r=5/100; //Compound Interest Rate\n",
"\n",
"A1=(Pc-SVE)/UL; //Annual Amount to be saved using straight line method\n",
"A2=(Pc-SVE)*r*100/(100*(((1+r)^UL)-1))// Annual Amount to be saaved using Sink Fund Method\n",
"\n",
"printf('i) The Amount to be Saved Annually according to straight line method is %g Rupees\n',A1)\n",
"printf('ii) The Amount to be Saved Annually according to sink fund method is %g Rupees\n',A2)"
   ]
   }
,
{
		   "cell_type": "markdown",
		   "metadata": {},
		   "source": [
			"## Example 2.8: To_Obatin_a_two_part_tariff_for_the_consumers.sce"
		   ]
		  },
  {
"cell_type": "code",
	   "execution_count": null,
	   "metadata": {
	    "collapsed": true
	   },
	   "outputs": [],
"source": [
"//To Obatin a two part tariff for the consumers\n",
"//Page 90\n",
"clc;\n",
"clear;\n",
"\n",
"EG=390*(10^6); //Energy Generated in kWhr\n",
"MD=130*(10^6); //Maximum Demand of the Supply\n",
"SCeff=90/100; //The Amount of energy transferred from Substation to Consumer\n",
"//Total Cost for Each Division\n",
"Fuel=5*(10^6);\n",
"Gen=2.4*(10^6);\n",
"Trans=5*(10^6);\n",
"Dist=3.4*(10^6);\n",
"Tot=Fuel+Gen+Trans+Dist; //Total Cost\n",
"\n",
"deff('x=Runcost(y,z)','x=(y*z/100)') //Function to Find out the Running Costs\n",
"//Running Costs\n",
"Fuelr=Runcost(90,Fuel);\n",
"Genr=Runcost(10,Gen);\n",
"Transr=Runcost(5,Trans);\n",
"Distr=Runcost(7,Dist);\n",
"Totr=Fuelr+Genr+Transr+Distr; //Total Cost\n",
"\n",
"FixCost=Tot-Totr;// Fixed Cost\n",
"FixChar=FixCost*1000/MD; //Fixed Charges per KW\n",
"EnChar=Totr*100/(EG*SCeff); //Energy Charges in Paise for Consumer\n",
"OverCost=Tot*100/(EG*SCeff); //Overall Energy Charges\n",
"\n",
"LF=40/100; //Load Factor Raised to 40%\n",
"EG1=LF*MD*8760/1000;  //Energy Generated for Different Load Factor\n",
"Totr1=Totr*(EG1/EG); //Cost of Energy Generated\n",
"Tot1=FixCost+Totr1; //Total Cost for the New Load Factor\n",
"OverCost1=Tot1*100/(EG1*SCeff); //Overall Energy Charges\n",
"\n",
"Saving=(OverCost-OverCost1)*100/OverCost; //Percentage Saving in the Overall Cost per kWhr\n",
"\n",
"printf('The Fixed Charges is %g rupees per kW\n',FixChar)\n",
"printf(' The Energy Charges for the Consumer is %g paise per kWhr\n',EnChar)\n",
"printf(' IF the Load Factor is raised to 40percent of the Same Maximum Demand, then the percentage saving in the overall costs is %g percent\n',Saving)"
   ]
   }
,
{
		   "cell_type": "markdown",
		   "metadata": {},
		   "source": [
			"## Example 2.9: To_determine_the_most_economic_power_factor.sce"
		   ]
		  },
  {
"cell_type": "code",
	   "execution_count": null,
	   "metadata": {
	    "collapsed": true
	   },
	   "outputs": [],
"source": [
"//To determine the most economic power factor\n",
"//Page 91\n",
"clc;\n",
"clear;\n",
"\n",
"P=200*(10^3); //Maximum Demand\n",
"pf=0.707; //Power Factor Lagging\n",
"\n",
"a=100; //Tariff per kVA per year\n",
"\n",
"b=200; //Power factor improvement cost Per kVA.\n",
"r=20; //Interest Depriciation, maintenance and cost of losses amount to  20% of capital cost per year\n",
"\n",
"// Economic PF = sqrt(1-((b1/a)^2))\n",
"\n",
"b1=r*b/100;// b' term accrding to the equation above\n",
"\n",
"pfeco=sqrt(1-((b1/a)^2)); //Economic Power Factor\n",
"\n",
"printf('The Economic Power Factor is %g \n',pfeco)\n",
""
   ]
   }
],
"metadata": {
		  "kernelspec": {
		   "display_name": "Scilab",
		   "language": "scilab",
		   "name": "scilab"
		  },
		  "language_info": {
		   "file_extension": ".sce",
		   "help_links": [
			{
			 "text": "MetaKernel Magics",
			 "url": "https://github.com/calysto/metakernel/blob/master/metakernel/magics/README.md"
			}
		   ],
		   "mimetype": "text/x-octave",
		   "name": "scilab",
		   "version": "0.7.1"
		  }
		 },
		 "nbformat": 4,
		 "nbformat_minor": 0
}
