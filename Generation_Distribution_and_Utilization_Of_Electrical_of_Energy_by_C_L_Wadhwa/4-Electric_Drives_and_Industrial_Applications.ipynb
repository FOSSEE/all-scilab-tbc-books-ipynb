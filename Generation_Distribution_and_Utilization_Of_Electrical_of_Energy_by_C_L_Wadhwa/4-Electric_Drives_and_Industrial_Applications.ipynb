{
"cells": [
 {
		   "cell_type": "markdown",
	   "metadata": {},
	   "source": [
       "# Chapter 4: Electric Drives and Industrial Applications"
	   ]
	},
{
		   "cell_type": "markdown",
		   "metadata": {},
		   "source": [
			"## Example 4.10: To_time_taken_and_the_number_of_revolutions_made_before_the_motor_is_stopped.sce"
		   ]
		  },
  {
"cell_type": "code",
	   "execution_count": null,
	   "metadata": {
	    "collapsed": true
	   },
	   "outputs": [],
"source": [
"//To time taken and the number of revolutions made before the motor is stopped\n",
"//Page 223\n",
"clc;\n",
"clear;\n",
"P=50*735.5; //Power Rating\n",
"V=400; //Rated Voltage\n",
"N=750; //Rated Speed\n",
"w=N*%pi*2/60; //Angular Frequency\n",
"I=20; //Moment Inertia\n",
"pf=0.95; //Full Load power factor\n",
"eff=90/100; //Overall Efficiency\n",
"Rb=2; //Braking Resistor\n",
"\n",
"Tm=P/w; //Full Load Torque\n",
"Ifl=P/(sqrt(3)*V*eff*pf); //Full Load Current\n",
"Ilb=V/(sqrt(3)*Rb); //The Line Current at the start of braking\n",
"Te=Tm*Ilb/Ifl; //Torque for electric braking\n",
"\n",
"Tb=Te+Tm; //Total Braking torque\n",
"\n",
"K=Te/w; //Motor constant\n",
"B=Tb/I; //Retardation\n",
"\n",
"ts=integrate('I/(Tm+(K*x))','x',0,w); //Time Taken for the motor to stop\n",
"\n",
"NoR=(1/(2*%pi*K))*integrate('((Tm+(K*w))*exp(-1*K*t/I))-Tm','t',0,ts); //Number of Revolutions\n",
"\n",
"//Note The Value of time in the textbook is wrong, Calculation error\n",
"\n",
"printf('The Time Taken for the Motor to stop is %g seconds\n',ts)\n",
"printf('The Number of revolutions undergone before it stops is %g revolutions which is approx %g revolutions\n',NoR,round(NoR))"
   ]
   }
,
{
		   "cell_type": "markdown",
		   "metadata": {},
		   "source": [
			"## Example 4.11: To_Determine_the_30_mins_rating_of_motor.sce"
		   ]
		  },
  {
"cell_type": "code",
	   "execution_count": null,
	   "metadata": {
	    "collapsed": true
	   },
	   "outputs": [],
"source": [
"//To Determine the 30 mins rating of motor\n",
"//Page 229\n",
"clc;\n",
"clear;\n",
"Pr=100; //Power Rating in horse power\n",
"Tc=90*3600; //Time Constant\n",
"Tr=30*3600; //Time to determine the rating\n",
"theta=50; //Temperature Rise\n",
"theta1=50; //Temperature rise for the new case\n",
"\n",
"P=poly(0,'P'); //Power rating for 30min variable value\n",
"\n",
"//Loss Corresponding to 30 mins\n",
"\n",
"P30=(P/Pr)^2; // Times the Power loss corresponding to the 100 hp motor\n",
"\n",
"theta2=theta*P30; //Final Temperature rise if run  continuously\n",
"\n",
"X=theta1-(theta2*(1-exp(-1*Tr/Tc))); //Polynominal to find the 30min rating\n",
"\n",
"P=roots(X); //Numerical Value\n",
"//We Consider the Positive Real Value of the root\n",
"\n",
"P=P(1); //Power Rating of the 1/2 Hr\n",
"\n",
"printf('The 1/2 Hr Power Rating is %g hp\n',P)\n",
"\n",
""
   ]
   }
,
{
		   "cell_type": "markdown",
		   "metadata": {},
		   "source": [
			"## Example 4.12: To_Determine_the_Continous_Rating_of_the_Motor_for_Suitable_Conditions.sce"
		   ]
		  },
  {
"cell_type": "code",
	   "execution_count": null,
	   "metadata": {
	    "collapsed": true
	   },
	   "outputs": [],
"source": [
"//To Determine the Continous Rating of the Motor for Suitable Conditions\n",
"//Page 229\n",
"clc;\n",
"clear;\n",
"T=120; //Total Time\n",
"t1=0; //Power Rise to 1050\n",
"t2=15; //Constant Power of 600\n",
"t3=85; //Regenerative Breaking at 200\n",
"t4=95; //Motor At Rest\n",
"t5=120; //End\n",
"//Note Power Rating are in Horse Power\n",
"HP1=1050; //First Rise\n",
"T1=(t2-t1); //Time for Rise of the Horse Power\n",
"HP2=600; //Constant Power\n",
"T2=(t3-t2); //Time For which the power is constant\n",
"HP3=200; //Braking Initial Point\n",
"T3=(t4-t3); //Time Period of Breaking\n",
"\n",
"//Different Intergration\n",
"I1=integrate('((HP1/T1)*t)^2','t',t1,t2);\n",
"I2=integrate('(HP2^2)','t',t2,t3);\n",
"I3=integrate('((HP3/T3)*t)^2','t',0,T3);\n",
"\n",
"HPrms=sqrt((I1+I2+I3)/120);\n",
"\n",
"HPav=(((HP1*T1/2)+(HP2*T2)+(HP3*T3/2))/T);\n",
"\n",
"printf('i) The H.P Rating according to the RMS Value of loading is %g hp\n',HPrms)\n",
"printf('ii) The H.P Rating according to the Average Value of Loading is %g hp\n',HPav)"
   ]
   }
,
{
		   "cell_type": "markdown",
		   "metadata": {},
		   "source": [
			"## Example 4.13: To_estimate_the_final_temperature_of_the_machine_and_its_time_constant.sce"
		   ]
		  },
  {
"cell_type": "code",
	   "execution_count": null,
	   "metadata": {
	    "collapsed": true
	   },
	   "outputs": [],
"source": [
"//To estimate the final temperature of the machine and its time constant\n",
"//Page 230\n",
"clc;\n",
"clear;\n",
"\n",
"Eff=90/100; //Efficiency\n",
"P=15*735.5; //Power Rating in W\n",
"D=75*(10^-2); //Cylinder Diameter\n",
"L=120*(10^-2); //Length of the Cylinder\n",
"OSHD=12; //Outer Surface Heat Dissipation\n",
"A=%pi*L*D; //Curved Surface Area\n",
"M=450; //Motor Weight\n",
"SH=700; //Specific Heat\n",
"\n",
"HTC=M*SH/(A*OSHD*3600); //The Heating Time Constant\n",
"Loss=(P/Eff)-P; //Loss in Motor\n",
"\n",
"FT=Loss/(A*OSHD); //Final  Temperature\n",
"OSHD2=20; //Semi Closed Cooling Capacity\n",
"LossSC=FT*A*OSHD2; //Loss in Semi Closed System\n",
"\n",
"L2=poly(0,'L2'); //Variable Load Value\n",
"X=(L2/(L2+LossSC)-Eff); //Polynomial to Calculate L2\n",
"L2=roots(X(2)); //Numerical Value of The Load\n",
"\n",
"printf('The Final Temperature of the Machine and its Heating Time Constant is %g degree Celsius and %g Hrs respectively \n',FT,HTC)\n",
"printf('The Load which could be delivered is %g W\n',L2)"
   ]
   }
,
{
		   "cell_type": "markdown",
		   "metadata": {},
		   "source": [
			"## Example 4.14: To_Determine_the_Moment_of_intertia_for_a_slip_of_8_percent.sce"
		   ]
		  },
  {
"cell_type": "code",
	   "execution_count": null,
	   "metadata": {
	    "collapsed": true
	   },
	   "outputs": [],
"source": [
"//To Determine the Moment of intertia for a slip of 8 percent\n",
"//Page 233\n",
"clc;\n",
"clear;\n",
"Tl=900; //load Torque\n",
"To=0;\n",
"s=8/100; //Slip\n",
"t=15;//time period for which the load torque was applied\n",
"Tm=675;// Limited motor Torque\n",
"N=600; //No Load Speed\n",
"Wo=2*%pi*N/60; //Angular Frequency\n",
"K=s/Tm; //Motor Constant\n",
"I=(t/(Wo*K*log((Tl-To)/(Tl-Tm)))); //Moment of Inertia\n",
"\n",
"printf('The Moment of inertia of the flywheel is %g Kg m^2\n',I)\n",
"//Please Note the Calculation Mistake in the book. (Power of e)"
   ]
   }
,
{
		   "cell_type": "markdown",
		   "metadata": {},
		   "source": [
			"## Example 4.15: To_determine_the_Moment_of_intertia_of_the_flywheel.sce"
		   ]
		  },
  {
"cell_type": "code",
	   "execution_count": null,
	   "metadata": {
	    "collapsed": true
	   },
	   "outputs": [],
"source": [
"//To determine the Moment of intertia of the flywheel\n",
"//Page 234\n",
"clc;\n",
"clear;\n",
"Pi=100*(10^3); //Power Rating\n",
"P=6; //Poles of the Machine\n",
"N=950; //Rated Speed\n",
"Wo=2*%pi*N/60; //Angular Frequency\n",
"Ta=3000; //Additional Torque\n",
"Tmin=600; //Constant Load Torque\n",
"Tm=Pi*60/(2*%pi*N); //Rated Torque\n",
"Tmax=2*Tm; //Maximum Torque\n",
"Tl=Tmin+Ta; //Total Torque\n",
"tp=15; //Time for which the additional torque is applied\n",
"//Assuming Slip Characteristic to Be a Straight line\n",
"s=0.05;\n",
"K=s/Tm; //Motor Load Constant\n",
"\n",
"I=tp/(Wo*K*log((Tl-Tmin)/(Tl-Tmax))); //Moment Of intertia\n",
"\n",
"Tm1=1500; //Trasistion Torque\n",
"\n",
"t=I*Wo*K*log((Tmax-Tmin)/(Tm1-Tmin)); //Time Taken to become 1500 Nm\n",
"\n",
"printf('a) The Moment of intertia of the flywheel for Maximum Torque to be twice the rated torque is %g Nm\n',I)\n",
"printf('b) The Time Taken after the removal of additional load before the motor torque becomes 1500 Nm is %g seconds\n',t)"
   ]
   }
,
{
		   "cell_type": "markdown",
		   "metadata": {},
		   "source": [
			"## Example 4.16: To_determine_the_speed_and_torque_of_a_single_phase_full_converter.sce"
		   ]
		  },
  {
"cell_type": "code",
	   "execution_count": null,
	   "metadata": {
	    "collapsed": true
	   },
	   "outputs": [],
"source": [
"//To determine the speed and torque of a single phase full converter\n",
"//Page 241\n",
"clc;\n",
"clear;\n",
"P=5*735.5; //Power Rating\n",
"Vr=220; //Rated Voltage\n",
"N=1500; //Rated Speed\n",
"\n",
"Ra=0.25; //Armature Resistance\n",
"Ia=20; //Rated Armature Current\n",
"Vs=250; //Supply Voltage\n",
"Kaphi=0.0278; //Motor Voltage Constant\n",
"a=30; //Firing Angle\n",
"\n",
"Va=2*sqrt(2)*Vs*cosd(a)/%pi; //Armature Voltage\n",
"Eb=Va-(Ia*Ra); //Back EMF\n",
"w=Eb/(Kaphi*60); //Angular Frequency in Radians per second\n",
"Ta=Kaphi*Ia*60; //Torque\n",
"\n",
"printf('The Speed and Torque of the Single Phase Full Converter are %g rad/s and %g Nm respectively\n',w,Ta)\n",
""
   ]
   }
,
{
		   "cell_type": "markdown",
		   "metadata": {},
		   "source": [
			"## Example 4.17: To_Determine_the_motor_current_and_torque_for_a_particular_firing_angle.sce"
		   ]
		  },
  {
"cell_type": "code",
	   "execution_count": null,
	   "metadata": {
	    "collapsed": true
	   },
	   "outputs": [],
"source": [
"//To Determine the motor current and torque for a particular firing angle\n",
"//Page 242\n",
"clc;\n",
"clear;\n",
"P=15*735.5; //Power Rating of the Motor\n",
"Raw=0.2; //Combined Armature and Field winding resistance\n",
"N=1000; //Speed\n",
"K=0.03; //Motor Constant\n",
"a=30; //Firing Angle\n",
"E=250; //Supply Voltage\n",
"\n",
"//Semi Converter\n",
"w=2*%pi*N/60; //Angular Frequency\n",
"Vas=sqrt(2)*E*(1+cosd(a))/%pi;\n",
"Ias=Vas/(Raw+(K*w)); //Armature Current\n",
"Tas=K*(Ias^2); //Motor Torque\n",
"\n",
"//FullConverter\n",
"Vaf=2*sqrt(2)*E*cosd(a)/%pi;\n",
"Iaf=Vaf/(Raw+(K*w)); //Armature Current\n",
"Taf=K*(Iaf^2); //Motor Torque\n",
"\n",
"//Accurate Caclculation, Rounding Off not done.\n",
"printf('The Motor Current And Motor Torque for:\n')\n",
"printf('i) Semi Converter : %g A and %g Nm\n',Ias,Tas)\n",
"printf('ii) Full Converter : %g A and %g Nm\n',Iaf,Taf)"
   ]
   }
,
{
		   "cell_type": "markdown",
		   "metadata": {},
		   "source": [
			"## Example 4.18: To_determine_the_pulse_width_for_a_particular_average_value_of_back_EMF.sce"
		   ]
		  },
  {
"cell_type": "code",
	   "execution_count": null,
	   "metadata": {
	    "collapsed": true
	   },
	   "outputs": [],
"source": [
"//To determine the pulse width for a particular average value of back EMF\n",
"//Page 244\n",
"clc;\n",
"clear;\n",
"E=220;//DC Supply\n",
"Raw=0.2; //Combined Armature and Field Winding Resistance\n",
"Ia=25;//Average Current\n",
"f=200;//Chopper Frequency\n",
"Eb=100; //Average Value of Back EMF\n",
"\n",
"Eav=(Ia*Raw)+Eb; //Average Load Voltage\n",
"Ton=Eav*1000/(E*f); // Pulse Width in m sec\n",
"\n",
"printf('The Pulse Width for the 100V back EMF is %g m seconds\n',Ton)"
   ]
   }
,
{
		   "cell_type": "markdown",
		   "metadata": {},
		   "source": [
			"## Example 4.19: To_determine_the_range_of_speed_control_and_duty_cycle.sce"
		   ]
		  },
  {
"cell_type": "code",
	   "execution_count": null,
	   "metadata": {
	    "collapsed": true
	   },
	   "outputs": [],
"source": [
"//To determine the range of speed control and duty cycle\n",
"//Page\n",
"clc;\n",
"clear;\n",
"E=220; //DC supply voltage\n",
"Ra=0.2;\n",
"Kaphi=0.08; // Motor Constant\n",
"Ia=25; //Average Current\n",
"Eav=Ia*Ra; //Voltage Drop\n",
"\n",
"//Eav = lamda * E;\n",
"//For Maximum Speed, lamba =1\n",
"\n",
"lamda=Eav/E;\n",
"\n",
"lamda1=1; //Maximum Speed;\n",
"Eb= (E*lamda1)-(Ia*Ra); //Back EMF\n",
"\n",
"Speed = Eb/Kaphi; // Maximum Speed\n",
"\n",
"printf('i) The Range of speed control is 0<N<%g \n',Speed)\n",
"printf('ii) The Range of duty cycle is %g<lamda<%g\n',lamda,lamda1)"
   ]
   }
,
{
		   "cell_type": "markdown",
		   "metadata": {},
		   "source": [
			"## Example 4.1: To_Determine_Motor_Parameters_of_Series_Motor_rated_at_220V.sce"
		   ]
		  },
  {
"cell_type": "code",
	   "execution_count": null,
	   "metadata": {
	    "collapsed": true
	   },
	   "outputs": [],
"source": [
"//To Determine Motor Parameters of Series Motor rated at 220V\n",
"//Page 201\n",
"clc;\n",
"clear;\n",
"V=220; //Rated Voltage\n",
"N=1000; //Rated Speed\n",
"Ish=20; //Current without Armature being shunted\n",
"Ra=0.15; //Armature Resistance\n",
"Rf=0.2; //Field Resistance\n",
"Eb=V-(Ish*(Ra+Rf)); //Back EMF\n",
"K=Eb/(Ish*N); //Motor Constant\n",
"Rsh=20; //Shunt Resistance\n",
"\n",
"//After Armature is shunted\n",
"x=poly(0,'x'); //Field Current Variable Value\n",
"Ia=(Ish^2)/x; //Armature Current //Since Torque is assumed constant\n",
"I20=(V-(x*Rf))/Rsh; //Current Through the Shunt resistance\n",
"\n",
"X=Ia+I20-x; //Polynomial to find field Current\n",
"x=roots(X(2)); //Numerical Value of Field Current\n",
"\n",
"//Conditon to find the Positive Root\n",
"if(abs(x(1))+x(1)==0)\n",
"    x=x(2);\n",
"else\n",
"    x=x(1);\n",
"end\n",
"\n",
"Ia=(Ish^2)/x; //Armature when shunted\n",
"Ebsh=V-(Ia*Ra)-(x*Rf); //Back Emf when shunted\n",
"Nsh=Ebsh/(K*x); //Speed when armature is shunted\n",
"\n",
"//When Load is not there, Ia = 0\n",
"If=V/(Rsh+Rf); //Field Current at No Load\n",
"Ebnl=V-(If*Rf); //Back Emf at No Load\n",
"Nnl=Ebnl/(K*If); //Speed at No Load\n",
"\n",
"Rex=5; //External Resistance\n",
"//At Starting when Eb = 0\n",
"Is=V/(Rex+Rf+(Ra*Rsh/(Ra+Rsh))); //Supply Current\n",
"Ifs=Is; //Field Current\n",
"Ias=Ifs*Rsh/(Rsh+Ra); //Armature Current At the Start\n",
"\n",
"//Torque is directly proportional to square of Current\n",
"T20 = (Ish^2);  //Torque at shunted condition\n",
"Tas= Ias*Ifs; //Torque at start\n",
"\n",
"RT=Tas/T20; //Ratio of Torques\n",
"\n",
"printf('a) The Speed of the Motor if the Load Torque is remains constant and the magnetic circuit is assumed unsaturated is %g RPM\n',Nsh)\n",
"printf('b) The No Load Speed of the Motor is %g RPM\n',Nnl)\n",
"printf('c) The Starting Torque represented in terms of torque corresponding 20A (without armature shunted) is %g times\n',RT)"
   ]
   }
,
{
		   "cell_type": "markdown",
		   "metadata": {},
		   "source": [
			"## Example 4.2: To_Determine_the_resistance_to_be_inserted_for_various_cases.sce"
		   ]
		  },
  {
"cell_type": "code",
	   "execution_count": null,
	   "metadata": {
	    "collapsed": true
	   },
	   "outputs": [],
"source": [
"//To Determine the resistance to be inserted for various cases\n",
"//Page 203\n",
"clc;\n",
"clear;\n",
"\n",
"N1=1500; //Rated Speed\n",
"N2=1200; //Reduced Speed\n",
"rs=N2/N1; //Ratio of final speed to original speed\n",
"eff=80/100; //Efficiency\n",
"Pr=10*(10^3); //Power Rating\n",
"V=250; //Voltage supply\n",
"Il=Pr/(V*eff); //Full Load Current\n",
"Rf=110; //Field Resistance\n",
"Ra=0.25; //Armature Resistance\n",
"If=V/Rf; //Field Current\n",
"Ia1=Il-If; //Load Current\n",
"Eb=V-(Ia1*Ra); //Back EMF\n",
"Eb1200=Eb*rs; //Back EMF for 1200 rpm\n",
"\n",
"deff('x=Res(y)','x=((V-Eb1200)/y)') //Function to calculate the Resistance of various cases\n",
"//Torque directly proportional to current\n",
"Ia2=(rs)*Ia1; // Torque directly propostional to speed\n",
"Ia3=(rs^2)*Ia1; //Torque directly proportional to square of the speed\n",
"\n",
"//Resistances for Various Cases\n",
"R1=Res(Ia1)-Ra;\n",
"R2=Res(Ia2)-Ra;\n",
"R3=Res(Ia3)-Ra;\n",
"\n",
"deff('x=Pow(y)','x=((V-Eb1200)/y)*(y^2)/1000') //Function to Find Power Loss\n",
"//Power Lost in kW for various cases\n",
"P1=Pow(Ia1);\n",
"P2=Pow(Ia2);\n",
"P3=Pow(Ia3);\n",
"\n",
"printf('The External Resistances to be connected and the power loss for\n')\n",
"printf('a) The Load Torque is independent of the speed : %g ohm and %g kW respectively\n',R1,P1)\n",
"printf('b) The Load Torque is directly proportional to the speed : %g ohm and %g kW respectively\n',R2,P2)\n",
"printf('c) The Load Torque is directly proportional to square of the speed : %g ohm and %g kW respectively\n',R3,P3)"
   ]
   }
,
{
		   "cell_type": "markdown",
		   "metadata": {},
		   "source": [
			"## Example 4.3: To_determine_the_speed_for_which_the_torque_is_maximum.sce"
		   ]
		  },
  {
"cell_type": "code",
	   "execution_count": null,
	   "metadata": {
	    "collapsed": true
	   },
	   "outputs": [],
"source": [
"//To determine the speed for which the torque is maximum\n",
"//Page 204\n",
"clc;\n",
"clear;\n",
"\n",
"//In The Figure, The author has taken the resistance in series with the motor as 0.2 ohm, but in the figure it is given as 1 ohm\n",
"\n",
"//This Doesn't Affect the calculation of the speed but it does affect the Maximum Torque\n",
"\n",
"//So if we consider 1 ohm we get 0.8333 instead of 2.5\n",
"\n",
"//The Equation for the Torque is found out to be 2.5*K2*(V^2)*(1.1-K1*w)/((76.1-(50*K1*w)))\n",
"\n",
"w=poly(0,'w'); //Variable Value of w;\n",
"\n",
"//Lets assume the value of 2.5*K2*(V^2) = 1 and K1 = 1 to particularly to calculate the co-effcients\n",
"\n",
"T=2.5*(1.1-w)/((76.1-(50*w))^2); //Torque\n",
"\n",
"//Maximum Torque is derivative of the above equation\n",
"X=derivat(T); //Polynomial to find the value co - effcient of w;\n",
"w=roots(X(2));\n",
"w=w(2); //We Choose value less than 1 to suit the differenciation process\n",
"\n",
"Tmax=2.5*(1.1-w)/((76.1-(50*w))^2); //Maximum Torque Co-Efficient\n",
"\n",
"printf('The Speed at which the torque is Maximum is (%g/K1) rad/sec\n',w)\n",
"printf('The Maximum Torque is (K2*(V^2)*%g*10^-4) Nm\n',(Tmax/(10^-4)))"
   ]
   }
,
{
		   "cell_type": "markdown",
		   "metadata": {},
		   "source": [
			"## Example 4.4: To_Determine_the_slip_at_maximum_torque_and_at_full_load.sce"
		   ]
		  },
  {
"cell_type": "code",
	   "execution_count": null,
	   "metadata": {
	    "collapsed": true
	   },
	   "outputs": [],
"source": [
"//To Determine the slip at maximum torque and at full load\n",
"//Page 205\n",
"clc;\n",
"clear;\n",
"\n",
"Tl=1; //Assume that the Full Load torque is unity\n",
"Tst=125*Tl/100; //Starting Torque\n",
"Tmax=275*Tl/100; //Maximum Torque\n",
"si=1; //At the Start\n",
"RT=Tst/Tmax; //Ratio of Starting Torque and Maximum Torque\n",
"//R1 is negligible, elminating the terms with R1 and hence formulating the starting torque and Maximum Torque we get\n",
"\n",
"// Tst/Tmax = 2*sTmax*s/((sTmax^2)+(s^2))\n",
"//Where sTmax is the Slip at Maximum Torque and s is the slip at the start\n",
"\n",
"sTmx=poly(0,'sTmx'); //Variable Value of slip at Maximum Torque\n",
"\n",
"X=RT-(2*sTmx*si/((sTmx^2)+(si^2))); //Polynomial to find sTmax\n",
"\n",
"sTmx=roots(X(2));\n",
"\n",
"//Condition to find the value of sTmax less than 1\n",
"if(floor(sTmx(1))==0)\n",
"    sTmx=sTmx(1);\n",
"else\n",
"    sTmx=sTmx(2);\n",
"end\n",
"\n",
"s=poly(0,'s'); //Variable value of slip for Starting torque at full load\n",
"\n",
"Y=(Tl/Tmax)-(2*sTmx*s/((sTmx^2)+(s^2))); //Polynomial to find s\n",
"\n",
"s=roots(Y(2)); //Numerical Value of s\n",
"//Condition to find the value of s less than 1\n",
"if(floor(s(1))==0)\n",
"    s=s(1);\n",
"else\n",
"    s=s(2);\n",
"end\n",
"\n",
"printf('i) The Slip at Maximum Torque is %g\n',sTmx)\n",
"printf('ii) The Slip at Full Load is %g\n',s)"
   ]
   }
,
{
		   "cell_type": "markdown",
		   "metadata": {},
		   "source": [
			"## Example 4.5: To_Determine_the_Maximum_Torque_as_ratio_of_nominal_value_of_voltage.sce"
		   ]
		  },
  {
"cell_type": "code",
	   "execution_count": null,
	   "metadata": {
	    "collapsed": true
	   },
	   "outputs": [],
"source": [
"//To Determine the Maximum Torque as ratio of nominal value of voltage\n",
"//Page 205\n",
"clc;\n",
"clear;\n",
"\n",
"//Resistances and Reactance for Nomrmal Value of Volttage and Frequency\n",
"w=50; //Frequency of supply\n",
"V=1; //Assumed Voltage\n",
"R1=0.05;\n",
"R2=0.05;\n",
"x1=0.3;\n",
"x2=0.3;\n",
"\n",
"//Resistance and reactance at half voltage and half frequency\n",
"wh=50/2; //Frequency of supply\n",
"Vh=1/2; //Assumed Voltage\n",
"R1h=0.05;\n",
"R2h=0.05;\n",
"x1h=0.3/2;\n",
"x2h=0.3/2;\n",
"\n",
"//Function to Determine the Maximum Torque\n",
"deff('x=Max(a,b,c,d,e)','x=(3*(a^2))/(2*b*(c+(sqrt((c^2)+((d+e)^2)))))')\n",
"//Function to Determine to the Starting Torque\n",
"deff('x=Start(a,b,c,d,e,f)','x=(3*(a^2)*f)/(b*(((c+f)^2)+((d+e)^2)))')\n",
"//Maximum Torques and Starting Torques at\n",
"//Normal Voltage And Frequency\n",
"Tm=Max(V,w,R1,x1,x2);\n",
"Tst=Start(V,w,R1,x1,x2,R2);\n",
"//Half Voltage and Half Frequency\n",
"Tmh=Max(Vh,wh,R1h,x1h,x2h);\n",
"Tsth=Start(Vh,wh,R1h,x1h,x2h,R2h);\n",
"\n",
"//Ratio of torques as fraction of its normal value\n",
"R1=Tmh/Tm; \n",
"R2=Tsth/Tst;\n",
"\n",
"printf('i)The Maximum Torque at the reduced value of supply as a fraction of its normal value is %g\n',R1)\n",
"printf('ii)The Starting Torque at the reduced value of supply as a fraction of its normal value is %g\n',R2)"
   ]
   }
,
{
		   "cell_type": "markdown",
		   "metadata": {},
		   "source": [
			"## Example 4.6: To_Determine_the_starting_torque_and_starting_current_for_various_starters.sce"
		   ]
		  },
  {
"cell_type": "code",
	   "execution_count": null,
	   "metadata": {
	    "collapsed": true
	   },
	   "outputs": [],
"source": [
"//To Determine the starting torque and starting current for various starters\n",
"//Page 206\n",
"clc;\n",
"clear;\n",
"V=400;//Rated Voltage //Phase Voltage //Delta Connected\n",
"Pr=50*735.5; //Rated Power\n",
"N=750; //Rated Speed\n",
"s=4.5/100; //Full load Slip\n",
"Il=50; //Full Load Current\n",
"Z=2.5; //Impedance per phase\n",
"w=2*%pi*N/60; //Angular Frequency\n",
"Tl=Pr/w; //Full Load Torque\n",
"Ist=V/Z; //Starting Current\n",
"Isl=sqrt(3)*Ist; //Line Current\n",
"\n",
"\n",
"//DOL Starter\n",
"Tstd=((Isl/Il)^2)*s*Tl; //Starting Torque\n",
"\n",
"//Star - Delta Starter\n",
"Tsts=Tl*((1/sqrt(3))^2); //Starting Torque\n",
"\n",
"//Autotransformer\n",
"tap=70/100; //Tapping \n",
"Tsta=(tap^2)*Tl; //Starting Torque\n",
"\n",
"printf('The Starting Current for all the three starter are the same that is %g A\n',Isl)\n",
"printf('The Starting torque for:\n')\n",
"printf('i) D.O.L Starter : %g Nm\n',Tstd)\n",
"printf('ii) Star -Delta Starter : %g Nm\n',Tsts)\n",
"printf('ii) Auto Transformer with 70 percent tapping : %g Nm\n',Tsta)"
   ]
   }
,
{
		   "cell_type": "markdown",
		   "metadata": {},
		   "source": [
			"## Example 4.7: To_Detemine_Minimum_Starting_Current_drawn_from_the_supply.sce"
		   ]
		  },
  {
"cell_type": "code",
	   "execution_count": null,
	   "metadata": {
	    "collapsed": true
	   },
	   "outputs": [],
"source": [
"//To Detemine Minimum Starting Current drawn from the supply\n",
"//Page 207\n",
"clc;\n",
"clear;\n",
"\n",
"TR=0.5; //Torque Ratio, Tst:Tl\n",
"V=400; //Supply Voltage\n",
"Pr=30*735; //Power Rating \n",
"N=500; //Rated Speed\n",
"eff=0.85; //Efficieny\n",
"pf=0.88; //Power Factor\n",
"Is=150; //Short Circuit Current\n",
"s=5/100; //Full load Slip\n",
"pfs=0.25; //Power Factor of the Short Cicuit Current\n",
"Il=Pr/(sqrt(3)*V*eff*pf); //Full Load Current\n",
"\n",
"//Case 1\n",
"x=poly(0,'x'); //Tapping Percent\n",
"X=TR-(((Is/Il)^2)*(x^2)*s); //Polynomial to determine the 'x'\n",
"x=roots(X)\n",
"x=x(1); //Taking the Postive Root\n",
"Ist1=Is*x*x; //Starting Current numerical Value\n",
"\n",
"//Case 2\n",
"Ist2=sqrt((TR*(Il^2)/s)); //Starting Current for Full Voltage\n",
"\n",
"Z1=V/(sqrt(3)*Ist2); //impedance for the starting current at full voltage\n",
"Z2=(V/(sqrt(3)*Is))*exp((%i*%pi*acosd(pfs))/180); //Phasor form of the Impedance of for the short cicuit current\n",
"\n",
"R=sqrt((Z1^2)-(imag(Z2)^2));\n",
"Rs=R-real(Z2); //Resistance to be connected the stator circuit\n",
"\n",
"printf('i) The Tapping of the Transformer is %g percent and the starting Current is %g A\n',(x*100),Ist1)\n",
"printf('ii) The Starting Current is %g A and the Resistance to be added to the stator circuit is %g ohm\n',Ist2,Rs)\n",
""
   ]
   }
,
{
		   "cell_type": "markdown",
		   "metadata": {},
		   "source": [
			"## Example 4.8: EX4_8.sce"
		   ]
		  },
  {
"cell_type": "code",
	   "execution_count": null,
	   "metadata": {
	    "collapsed": true
	   },
	   "outputs": [],
"source": [
"//To Determine the value of resistor connected in series to run the fan at a particular speed\n",
"//Page 208\n",
"clc;\n",
"clear;\n",
"Pf=100*(10^3); //Power rating of the fan\n",
"f=50; //Supply Frequency\n",
"V=400; //Supply Line Voltage\n",
"V1=V/sqrt(3); //Phase Voltage\n",
"SR=1.4; //Ratio of stator to rotor turns\n",
"Rr=0.03; //Rotor Resistance per phase\n",
"R2=SR*SR*Rr; //Rotor Resistance referred to the stator\n",
"N=240; //Rated Speed\n",
"w=2*%pi*N/60; //Angular Frequency\n",
"P=24; //number of poles\n",
"Ns=120*f/P; //Synchronous Speed\n",
"ws=2*%pi*Ns/60; //Synchronous angular Frequency\n",
"s=(Ns-N)/Ns; //Slip\n",
"T=Pf/w; //Full Load Torque\n",
"x2=poly(0,'x2'); //Reactance of Rotor referred to stator, Variable Value\n",
"\n",
"X=T-(3*(V1^2)*R2/(ws*s*(((R2/s)^2)+(x2^2)))); //Polynomial Expression to find X2\n",
"X2=roots(X(2)); //Numerical Value of Rotor Resistance\n",
"X2=X2(1);\n",
"N1=180; //Speed of the fan\n",
"s1=(Ns-N1)/Ns; //Slip\n",
"T1=T*((N1/N)^2); //Torque\n",
"R21=poly(0,'R21'); //Variable Value\n",
"Y=T1-(3*(V1^2)*R21/(ws*s1*(((R21/s1)^2)+(X2^2)))); //Polynomial Expression to find R21\n",
"R21=roots(Y(2)); //Numerical Value\n",
"\n",
"//R21 = 0.7545054 and 0.0100813\n",
"//We have to choose the value of R21 such that it is greater than R2\n",
"\n",
"R21=R21(1); \n",
"Rex=(R21-R2)/(SR*SR); //External Resistance\n",
"\n",
"printf('The Value of Resistance to be connected in series so that teh fan runs at 180 rpm is %g ohm\n',Rex)"
   ]
   }
,
{
		   "cell_type": "markdown",
		   "metadata": {},
		   "source": [
			"## Example 4.9: To_Determine_the_time_taken_to_start_the_motor.sce"
		   ]
		  },
  {
"cell_type": "code",
	   "execution_count": null,
	   "metadata": {
	    "collapsed": true
	   },
	   "outputs": [],
"source": [
"//To Determine the time taken to start the motor\n",
"//Page 222\n",
"clc;\n",
"clear;\n",
"HP=746; //According to the TextBook\n",
"P=150*HP; //Power Rating\n",
"Lim=1.5; //Limited Current Factor\n",
"Eshp=5000; //energy stored per hp\n",
"N=750; //Rated Speed\n",
"w=N*2*%pi/60; //Angular Frequency\n",
"Es=Eshp*P/HP; //Total Energy Stored\n",
"Tfl=P/w; //Full Load Torque;\n",
"Ts=Tfl*Lim; //Starting Torque\n",
"Ta=Ts-Tfl; //Torque Available for acceleration\n",
"I=2*Es/(w^2); //Moment of Inertia\n",
"\n",
"a=Ta/I; //Angular Accleration\n",
"\n",
"//Intergrating wrt angular frequency\n",
"t=integrate('1/a','x',0,w); //Time Taken to start //Angular Acceleration is constant\n",
"\n",
"printf('The time taken to start the motor if the load torque is equal to full load torque\n during the starting period and the current is limited to 1.5 times the full load current is %g seconds\n',t)\n",
"\n",
""
   ]
   }
],
"metadata": {
		  "kernelspec": {
		   "display_name": "Scilab",
		   "language": "scilab",
		   "name": "scilab"
		  },
		  "language_info": {
		   "file_extension": ".sce",
		   "help_links": [
			{
			 "text": "MetaKernel Magics",
			 "url": "https://github.com/calysto/metakernel/blob/master/metakernel/magics/README.md"
			}
		   ],
		   "mimetype": "text/x-octave",
		   "name": "scilab",
		   "version": "0.7.1"
		  }
		 },
		 "nbformat": 4,
		 "nbformat_minor": 0
}
