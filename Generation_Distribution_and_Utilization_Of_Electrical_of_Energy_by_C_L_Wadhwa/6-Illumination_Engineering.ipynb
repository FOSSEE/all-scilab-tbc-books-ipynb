{
"cells": [
 {
		   "cell_type": "markdown",
	   "metadata": {},
	   "source": [
       "# Chapter 6: Illumination Engineering"
	   ]
	},
{
		   "cell_type": "markdown",
		   "metadata": {},
		   "source": [
			"## Example 6.10: To_determine_the_illumination_on_the_ground.sce"
		   ]
		  },
  {
"cell_type": "code",
	   "execution_count": null,
	   "metadata": {
	    "collapsed": true
	   },
	   "outputs": [],
"source": [
"//To determine the illumination on the ground\n",
"//Page 344\n",
"clc;\n",
"clear;\n",
"\n",
"CP=300;                 //Uniform luminous intensity of a lamp\n",
"Vd=6;                   //Vertical distance from the ground to the lamp\n",
"Hd=6;                   //Horizontal distance from the ground to the lamp\n",
"D=sqrt((Vd^2)+(Hd^2));  //Distance from the lamp to point 6 metres away from the vertical line\n",
"theta=atand(Hd/Vd);     //Angle made between D and Vd.\n",
"\n",
"// Illumination\n",
"Ec=CP/(Vd^2);           //Vertically beneath the lamp\n",
"E6=CP*cosd(theta)/(D^2);//^=6 metres away from the centre\n",
"\n",
"printf('The illumination on the ground :\n')\n",
"printf('a)Vertically beneath the lamp : %g lux.\n',Ec)\n",
"printf('b)6 metres away from condition a) : %g lux.\n',E6)"
   ]
   }
,
{
		   "cell_type": "markdown",
		   "metadata": {},
		   "source": [
			"## Example 6.11: Determine_the_output_voltage.sce"
		   ]
		  },
  {
"cell_type": "code",
	   "execution_count": null,
	   "metadata": {
	    "collapsed": true
	   },
	   "outputs": [],
"source": [
"//Determine the output voltage\n",
"//Page 344\n",
"clc;\n",
"clear;\n",
"\n",
"Area=(5.08*3.75)*(10^-4);       //Area projected by the cathode\n",
"Is=12*(10^-6);                  //Sensitivity\n",
"Rl=1.5*(10^6);                  // Load of operation\n",
"\n",
"//Function to calculate the output voltage for each case\n",
"deff('y=volt(a,b)','y=Area*a*Is*Rl/(b^2)');\n",
"\n",
"//Case 1\n",
"CP=60;                          //Lamp intensity\n",
"D=1.8;                          //Vertical distance of the lamp from the cell\n",
"V1=volt(CP,D);\n",
"//Case 2\n",
"CP=6;                           //Lamp intensity\n",
"D=0.5;                          //Vertical distance of the lamp from the cell\n",
"V2=volt(CP,D);\n",
"//Case 3\n",
"W=100;                          //Wattage of the lamp\n",
"eff=20;                         //eficacy of the lamp\n",
"CP=W*eff/(4*%pi);               //Lamp intensity\n",
"D=2;                            //Vertical distance of the lamp from the cell\n",
"V3=volt(CP,D);\n",
"\n",
"printf('The voltage output of the cells are :\n')\n",
"printf('a) 60 CP lamp at 1.8m : %g V\n',V1)\n",
"printf('b) 6 CP lamp at 0.5m : %g V\n',V2)\n",
"printf('c) A 100W lamp having a efficacy of 20 lumens/watt at 2m : %g V\n',V3)\n",
"\n",
""
   ]
   }
,
{
		   "cell_type": "markdown",
		   "metadata": {},
		   "source": [
			"## Example 6.1: To_determine_the_value_of_resistance_to_be_connected_in_the_motor_circuit.sce"
		   ]
		  },
  {
"cell_type": "code",
	   "execution_count": null,
	   "metadata": {
	    "collapsed": true
	   },
	   "outputs": [],
"source": [
"// To determine the distance of a 25 cp lamp for various illumination\n",
"//Page 327\n",
"clc;\n",
"clear;\n",
"\n",
"//Candle power of the lamp\n",
"I=25;\n",
"\n",
"// Various illumination levels\n",
"E1=5;       //Case1\n",
"E2=15;      //Case2\n",
"E3=8;       //Case3\n",
"\n",
"// According to the law of illumination  E = I/(r^2);\n",
"// Using the above equation we find the distances for the above three illuminations\n",
"\n",
"r1= sqrt(I/E1);\n",
"r2= sqrt(I/E2);\n",
"r3= sqrt(I/E3);\n",
"\n",
"printf('a) The distance for %g flux illumination from the normally placed screen is %g m \n',E1,r1)\n",
"printf('b) The distance for %g flux illumination from the normally placed screen is %g m \n',E2,r2)\n",
"printf('c) The distance for %g f.c illumination from the normally placed screen is %g ft \n',E3,r3)\n",
"\n",
"\n",
""
   ]
   }
,
{
		   "cell_type": "markdown",
		   "metadata": {},
		   "source": [
			"## Example 6.2: To_determine_the_total_radiation_sent_vertically_downward_from_a_lamp_of_1500_cp.sce"
		   ]
		  },
  {
"cell_type": "code",
	   "execution_count": null,
	   "metadata": {
	    "collapsed": true
	   },
	   "outputs": [],
"source": [
"//To determine the total radiation sent vertically downward from a lamp of 1500 cp\n",
"//Page 327\n",
"clc;\n",
"clear;\n",
"\n",
"//Candle power of the lamp\n",
"P=1500;\n",
"\n",
"//Since the flux required corresponds to the one that lies in a plane passing through the lamp vertically downwards the angle is given by\n",
"Angle= %pi; // Angle in radians\n",
"\n",
"Flux=P*Angle;\n",
"\n",
"printf('The total radiation sent vertically downward is %g lumens \n',Flux)\n",
""
   ]
   }
,
{
		   "cell_type": "markdown",
		   "metadata": {},
		   "source": [
			"## Example 6.3: To_calculate_Spherical_Candle_Power_and_intensity_of_illumination.sce"
		   ]
		  },
  {
"cell_type": "code",
	   "execution_count": null,
	   "metadata": {
	    "collapsed": true
	   },
	   "outputs": [],
"source": [
"//To calculate Spherical Candle Power and intensity of illumination\n",
"//Page 327\n",
"clc;\n",
"clear;\n",
"\n",
"Tf= 1500;                                   //Total flux\n",
"D=3                                         //Distance from the source\n",
"CP=200;                                     //Candle power of the Uniform Source\n",
"E=CP/(D^2);                                 //Maximum Illumination Intensity\n",
"deff('y=IntIllumi(x)','y=E*sind(x)');       //Function to determine the intensity of iluumination for various conditions\n",
"\n",
"\n",
"MSCP=Tf/(4*%pi);                            //The Mean spherical candle power\n",
"\n",
"//Various Angles at which the rays falls on the surface\n",
"t1=90;\n",
"t2=60;\n",
"t3=0;\n",
"\n",
"//Illumination Intensities at various angles\n",
"E1=IntIllumi(t1);\n",
"E2=IntIllumi(t2);\n",
"E3=IntIllumi(t3);\n",
"\n",
"printf('a)The Mean Spherical Candle Power is %g c.p\n',MSCP)\n",
"printf('b The illumination intensities for the following cases are: \n')\n",
"printf('i)   Normal : %g lux\n',E1)\n",
"printf('ii)  Inclined at 60 degrees : %g lux\n',E2)\n",
"printf('iii) Parallel : %g lux\n',E3)\n",
""
   ]
   }
,
{
		   "cell_type": "markdown",
		   "metadata": {},
		   "source": [
			"## Example 6.4: To_determine_average_illumination_and_illumination_at_various_points_on_the_area.sce"
		   ]
		  },
  {
"cell_type": "code",
	   "execution_count": null,
	   "metadata": {
	    "collapsed": true
	   },
	   "outputs": [],
"source": [
"//To determine average illumination and illumination at various points on the area\n",
"//Page 328\n",
"clc;\n",
"clear;\n",
"\n",
"CP=200;                 //Candle power of the lamp\n",
"D=4;                    //Vertical Distance from the centre of the area to the lamp\n",
"R=5/2;                  //Radius of the given area\n",
"De=sqrt((D^2)+((R)^2));   //Distance from the edge of the area\n",
"Reff=80/100;            //Reflector Efficiency\n",
"\n",
"Ec= CP/(D^2);           //Illumination at the centre of the area\n",
"theta= acosd(D/De);     //Angle made between perpendicular and edge distances\n",
"w=2*%pi*(1-cosd(theta));//Solid angle subtended by the area\n",
"\n",
"//Assuming uniform intensity in all directions\n",
"\n",
"//Illumination at the edge is\n",
"Eue=(CP/(De^2))*cosd(theta);\n",
"//Flux is given by Iw\n",
"flux=CP*w;\n",
"//Average illumination\n",
"Euavg= flux/(%pi*(R^2));\n",
"//Average illumination with reflector efficiency\n",
"Euavgr= Euavg*Reff;\n",
"\n",
"//When candle power is only vertically downwards\n",
"Eve=Eue*cosd(theta);    //Illumination at the edge of the area\n",
"\n",
"//Total flux equation for non uniform intensity is derived and given by 2*pi*I*(sec(theta)-1)\n",
"fluxn=2*%pi*CP*(secd(theta)-1);\n",
"//Average illumination\n",
"Enuavg= fluxn/(%pi*(R^2));\n",
"//Average illumination with reflector efficiency\n",
"Enuavgr= Enuavg*Reff;\n",
"\n",
"printf('The illumination at the \n')\n",
"printf('i) Centre of area = %g lux\n',Ec)\n",
"printf('ii)Periphery of the area \n')\n",
"printf('a) Uniform illumination = %g lux\n',Eue)\n",
"printf('b) Candle power is vertically downward = %g lux\n',Eve)\n",
"printf('iii) Average illumination and Average illumination with reflector efficiency\n')\n",
"printf('a) Uniform intensity = %g lux and %g lux respectively.\n',Euavg,Euavgr)\n",
"printf('b) Non Uniform intensity = %g lux and %g lux respectively.\n',Enuavg,Enuavgr)\n",
""
   ]
   }
,
{
		   "cell_type": "markdown",
		   "metadata": {},
		   "source": [
			"## Example 6.6: To_determine_illumination_at_a_point_when_a_mirror_is_used.sce"
		   ]
		  },
  {
"cell_type": "code",
	   "execution_count": null,
	   "metadata": {
	    "collapsed": true
	   },
	   "outputs": [],
"source": [
"//To determine illumination at a point when a mirror is used\n",
"//Page 330\n",
"clc;\n",
"clear;\n",
"\n",
"CP=500;                  //Candle power of the lamp\n",
"Vd=5;                    //Vertical distance from the point to the source\n",
"Hd=5;                    //Horizontal distance fron the point to the source\n",
"D=sqrt((Vd^2)+(Hd^2));   //Distance between the source and the point\n",
"Md=2;                    //Distance of the source from the mirror\n",
"theta=atand(Hd/Vd);      //Angle made between the source to point and the horizontal\n",
"\n",
"//Lets consider the mirror reflection\n",
"R=80/100;                //Reflected rays ratio\n",
"Vdm=Vd+(2*Md)            //Vertical Distance from the point to the source reflection\n",
"Hdm=Hd;                  //Horizontal distance from the point to the source reflection\n",
"Dm=sqrt((Vdm^2)+(Hdm^2));//Distance between the source reflection and the point\n",
"thetam=atand(Hdm/Vdm);   //Angle made between the source reflection to point and the horizontal\n",
"\n",
"//Illumination at A due to source\n",
"Es=(CP/(D^2))*cosd(theta);\n",
"\n",
"//Illumination at A due to source refelction\n",
"Er=(R*CP/(Dm^2))*cosd(thetam);\n",
"\n",
"//Total Illumination at point A\n",
"E=Er+Es;\n",
"\n",
"printf('The total illumination at point A is %g lux.\n',E)"
   ]
   }
,
{
		   "cell_type": "markdown",
		   "metadata": {},
		   "source": [
			"## Example 6.7: To_determine_the_illumination_over_a_disc.sce"
		   ]
		  },
  {
"cell_type": "code",
	   "execution_count": null,
	   "metadata": {
	    "collapsed": true
	   },
	   "outputs": [],
"source": [
"//To determine the illumination over a disc\n",
"//Page 330\n",
"clc;\n",
"clear;\n",
"\n",
"MSCP=300;                         //Uniform intensity of the lamp or Mean Spherical candle power\n",
"Vd=6;                             //Vertical distance of the lamp from the disc\n",
"R=6/2;                            //Radius of the disc\n",
"Reff=60/100;                      //Reflector efficiency\n",
"D=sqrt((Vd^2)+(R^2));             //Distance from the source to the edge of the disc\n",
"theta=atand(R/Vd);                //Angle made between D and Vd\n",
"\n",
"Ecwr=MSCP/(Vd^2);                 //Illumination at the centre without reflector\n",
"Eewr=(MSCP/(D^2))*cosd(theta);    //Illumination at the edge without reflector\n",
"\n",
"//Illumination at the centre is equal to the illumination at the egde with a reflector\n",
"Eer=MSCP*Reff*(4*%pi/(%pi*(R^2)));\n",
"Ecr=Eer;\n",
"\n",
"w=2*%pi*(1-cosd(theta));          //Solid angle made by the surface\n",
"flux=MSCP*w;                      //Total flux produced by the source\n",
"Eavg=flux/(%pi*(R^2));            //Average illumination\n",
"\n",
"printf('The illumination at:\n')\n",
"printf('a) At the centre:\n')\n",
"printf('i) With reflector : %g lux\n',Ecr)\n",
"printf('ii)Without reflector : %g lux\n',Ecwr)\n",
"printf('b) At the edge of the surface:\n')\n",
"printf('i) With reflector : %g lux\n',Eer)\n",
"printf('ii)Without reflector : %g lux\n',Eewr)\n",
"printf('c) Average illumination over the disc without the reflector : %g lux\n',Eavg)\n",
""
   ]
   }
,
{
		   "cell_type": "markdown",
		   "metadata": {},
		   "source": [
			"## Example 6.8: To_estimate_the_number_rating_and_disposition_of_the_lamps.sce"
		   ]
		  },
  {
"cell_type": "code",
	   "execution_count": null,
	   "metadata": {
	    "collapsed": true
	   },
	   "outputs": [],
"source": [
"//To estimate the number rating and disposition of the lamps\n",
"//Page 338\n",
"clc;\n",
"clear;\n",
"\n",
"E=32;                   //Illumination required for the working plane\n",
"A=80*15;                //Area of the work bench\n",
"UF=0.5;                 //Utilization Factor\n",
"MF=0.8;                 //Maintenance Factor\n",
"SHR=1.5;                //Maximum permissible value of spacing to height ratio\n",
"h=4.5;                  //Required height for the lamps to be hung above the work bench\n",
"Leff=14;                //Lamp efficacy\n",
"Tlumen=E*A;             //Total lumens required\n",
"Llumen=Tlumen/(UF*MF);  //Lamp lumens required\n",
"l=(A/15);               //Length of the workspace\n",
"\n",
"Nc=ceil(l/(1.5*4.5));    //Minimum number of lamps in a single row (Number of columns)\n",
"\n",
"W=200;                  //Assumed wattage of the bulb\n",
"\n",
"NoL=Llumen/(W*Leff);    //Number of bulbs required, Calculated value\n",
"\n",
"Nr=ceil(NoL/12);        //Number of rows calculated for the required criteria\n",
"\n",
"N=Nc*Nr;                //Number of lamps necessary.\n",
"\n",
"Sp=l/Nc;                //Length wise spacing between the lamps\n",
"printf('Assuming 200W bulbs, in a rectangular workspace of 80m*15m, we require %g bulbs arranged in %g rows and %g columns having a spacing of %gm between them.\n',N,Nr,Nc,Sp)\n",
"\n",
"\n",
"\n",
"\n",
""
   ]
   }
,
{
		   "cell_type": "markdown",
		   "metadata": {},
		   "source": [
			"## Example 6.9: To_determine_the_number_of_lamps_required.sce"
		   ]
		  },
  {
"cell_type": "code",
	   "execution_count": null,
	   "metadata": {
	    "collapsed": true
	   },
	   "outputs": [],
"source": [
"//To determine the number of lamps required\n",
"//Page 344\n",
"clc;\n",
"clear;\n",
"\n",
"A=30*20;                //Area of the building\n",
"B=25;                   //Brightness in lumen/sq. metre\n",
"CoR=0.25;               //Co - efficient of reflection \n",
"Lwatt=500;              //Lamp Wattage\n",
"Ll=8000;                //Lamp lumens output\n",
"E=B/CoR;                //Illumination required\n",
"BF=0.6;                 //Beam factor\n",
"WF=1.2;                 //Waste light factor\n",
"MF=0.75;                //Mainteanance factor\n",
"\n",
"Tlumen= E*A*WF/MF;      //Total lumens required\n",
"\n",
"Llumen=Ll*BF;           //Lumens provided by one lamp\n",
"\n",
"NoL=Tlumen/Llumen;      //Number of lamps\n",
"\n",
"printf('The number of lamps required are %g.\n',round(NoL))"
   ]
   }
],
"metadata": {
		  "kernelspec": {
		   "display_name": "Scilab",
		   "language": "scilab",
		   "name": "scilab"
		  },
		  "language_info": {
		   "file_extension": ".sce",
		   "help_links": [
			{
			 "text": "MetaKernel Magics",
			 "url": "https://github.com/calysto/metakernel/blob/master/metakernel/magics/README.md"
			}
		   ],
		   "mimetype": "text/x-octave",
		   "name": "scilab",
		   "version": "0.7.1"
		  }
		 },
		 "nbformat": 4,
		 "nbformat_minor": 0
}
