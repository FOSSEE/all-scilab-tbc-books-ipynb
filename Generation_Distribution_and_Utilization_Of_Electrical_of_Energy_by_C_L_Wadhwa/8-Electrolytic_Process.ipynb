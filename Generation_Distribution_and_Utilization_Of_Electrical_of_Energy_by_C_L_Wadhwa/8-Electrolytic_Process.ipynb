{
"cells": [
 {
		   "cell_type": "markdown",
	   "metadata": {},
	   "source": [
       "# Chapter 8: Electrolytic Process"
	   ]
	},
{
		   "cell_type": "markdown",
		   "metadata": {},
		   "source": [
			"## Example 8.1: To_determine_the_quantity_of_current.sce"
		   ]
		  },
  {
"cell_type": "code",
	   "execution_count": null,
	   "metadata": {
	    "collapsed": true
	   },
	   "outputs": [],
"source": [
"//To determine the quantity of current\n",
"//Page 450\n",
"clc;\n",
"clear;\n",
"\n",
"//Parameters of the Copper Plating\n",
"TSA=0.3716; //Total Surface Area \n",
"t=0.0254*(10^-3); //Thickness of the plating\n",
"density=8.883*(10^3); //Density of Copper\n",
"\n",
"W=TSA*t*density*1000; //Weight of copper deposited in gms\n",
"ECEcu=0.329; //Electrochemical Equivalent of copper in gm per coulomb\n",
"C=W*1000/ECEcu; //Quantity of Current required.\n",
"\n",
"F=96500; //One Farad Charge\n",
"\n",
"Q=C/F; //Quantity of Current in Faradays\n",
"\n",
"printf('The Quantity of Current Required is %g F',Q)"
   ]
   }
,
{
		   "cell_type": "markdown",
		   "metadata": {},
		   "source": [
			"## Example 8.2: To_detemine_the_Electrochemical_Equivalent_of_Silver.sce"
		   ]
		  },
  {
"cell_type": "code",
	   "execution_count": null,
	   "metadata": {
	    "collapsed": true
	   },
	   "outputs": [],
"source": [
"//To detemine the Electrochemical Equivalent of Silver\n",
"//Page 456\n",
"clc;\n",
"clear;\n",
"\n",
"I=20; //Current Passed\n",
"W=26.84; //amount of silver deposited in gms\n",
"t=20*60; //Time Period in seconds\n",
"\n",
"TC=I*t; //Total Charge in the given time period\n",
"\n",
"ECEAg=W*1000/TC; //Electrochemical Equivalent of Silver\n",
"\n",
"printf('The Electrochemical Equivalent of Silver is %g mg/C\n',ECEAg)"
   ]
   }
,
{
		   "cell_type": "markdown",
		   "metadata": {},
		   "source": [
			"## Example 8.3: To_Determine_the_Annual_output_of_copper.sce"
		   ]
		  },
  {
"cell_type": "code",
	   "execution_count": null,
	   "metadata": {
	    "collapsed": true
	   },
	   "outputs": [],
"source": [
"//To Determine the Annual output of copper\n",
"//Page 456\n",
"clc;\n",
"clear;\n",
"I=2000; //Current Passed\n",
"NW=52; //Number of weeks in a Year\n",
"T=100*3600; //Number of seconds per week\n",
"TC=NW*T*I; //Total Charge supplied all over the year.\n",
"ECu=31.8; //Equivalent Weight of Copper in grams\n",
"F=96500; //One Farad of Charge\n",
"\n",
"// 1 F of charge gives 31.8 gms of copper\n",
"\n",
"W=(TC/F)*ECu/(1000*1000); //Weight of copper in tonnes\n",
"\n",
"printf('The Annual Output of Copper is %g Tonnes\n',W)"
   ]
   }
,
{
		   "cell_type": "markdown",
		   "metadata": {},
		   "source": [
			"## Example 8.4: EX8_4.sce"
		   ]
		  },
  {
"cell_type": "code",
	   "execution_count": null,
	   "metadata": {
	    "collapsed": true
	   },
	   "outputs": [],
"source": [
"//To Calculate the Energy usedd in producing chemical action developed in an electrolytic cell\n",
"//Page 456\n",
"clc;\n",
"clear;\n",
"\n",
"T=15/60; //Time Period of Operation in Hours\n",
"I=100; //Current in Amperes\n",
"V=15; //Potential Difference\n",
"R=0.05; //Resistance of Solution\n",
"\n",
"NetEP=V-(I*R); //Net Electrode Potential\n",
"\n",
"//Energy Equation, E = VIt.\n",
"Energy=NetEP*I*T/1000; // Energy in KiloWatts\n",
"printf('The Energy used in producing the chemical action developed in an electrolytic Cell for 15 mins is %g kWhr\n',Energy)"
   ]
   }
,
{
		   "cell_type": "markdown",
		   "metadata": {},
		   "source": [
			"## Example 8.5: To_determine_the_weights_of_Nickel_and_Silver_Deposited.sce"
		   ]
		  },
  {
"cell_type": "code",
	   "execution_count": null,
	   "metadata": {
	    "collapsed": true
	   },
	   "outputs": [],
"source": [
"//To determine the weights of Nickel and Silver Deposited\n",
"//Page 456\n",
"clc;\n",
"clear;\n",
"\n",
"F=96500; //One Farad of Charge\n",
"//Equivalent Weights of the Following metals\n",
"EWAg= 108; //silver\n",
"EWNi= 58.6/2; //Nickel\n",
"\n",
"I=20; //Current Passed\n",
"T=1*60*60; //Time for which the current is passed\n",
"TC=T*I; //Total Charge produced\n",
"\n",
"//One Equivalent of Metal requires 1 F of charge\n",
"\n",
"Q=TC/F; // Total Charge in Farad\n",
"\n",
"//Amount of metal deposited\n",
"WAg=Q*EWAg; //Silver\n",
"WNi=Q*EWNi; //Nickel\n",
"\n",
"printf('The Weight of Nickel And Silver deposited by 20A for an hour is %g gm and %g gm respectively.\n',WNi,WAg)"
   ]
   }
],
"metadata": {
		  "kernelspec": {
		   "display_name": "Scilab",
		   "language": "scilab",
		   "name": "scilab"
		  },
		  "language_info": {
		   "file_extension": ".sce",
		   "help_links": [
			{
			 "text": "MetaKernel Magics",
			 "url": "https://github.com/calysto/metakernel/blob/master/metakernel/magics/README.md"
			}
		   ],
		   "mimetype": "text/x-octave",
		   "name": "scilab",
		   "version": "0.7.1"
		  }
		 },
		 "nbformat": 4,
		 "nbformat_minor": 0
}
