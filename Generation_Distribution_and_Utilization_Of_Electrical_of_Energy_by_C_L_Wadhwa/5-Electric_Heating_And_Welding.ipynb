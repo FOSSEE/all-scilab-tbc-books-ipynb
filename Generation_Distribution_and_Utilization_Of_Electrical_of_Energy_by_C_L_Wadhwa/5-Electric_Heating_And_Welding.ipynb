{
"cells": [
 {
		   "cell_type": "markdown",
	   "metadata": {},
	   "source": [
       "# Chapter 5: Electric Heating And Welding"
	   ]
	},
{
		   "cell_type": "markdown",
		   "metadata": {},
		   "source": [
			"## Example 5.1: To_determine_the_size_and_length_of_the_wire.sce"
		   ]
		  },
  {
"cell_type": "code",
	   "execution_count": null,
	   "metadata": {
	    "collapsed": true
	   },
	   "outputs": [],
"source": [
"//To determine the size and length of the wire\n",
"//Page 282\n",
"clc;\n",
"clear;\n",
"\n",
"r=poly(0,'r'); //Variable Value of radius\n",
"A=%pi*(r^2); //Area of cross section of the wire\n",
"V=220; //Supply Voltage\n",
"P=20*(10^3); //Power input\n",
"//Temperatures\n",
"T1=1127; //Wire\n",
"T2=427; //Charge\n",
"\n",
"R=(V^2)/P; //Resistance of the wire\n",
"e=0.9; //emissivity constant\n",
"K=0.6; //Radiation Effciency\n",
"\n",
"p=1.09*(10^-6); //Resistivity\n",
"\n",
"l=R*A/p; //Length in term of 'r'\n",
"\n",
"H=5.72*e*K*((((T1+273)/100)^4)-(((T2+273)/100)^4)); //Heat dissipated per sq.m of the surface\n",
"CSA=%pi*2*r*l; //Curved surface area\n",
"\n",
"CSAn=P/H; //Numerical Value of Curved suraface area\n",
"\n",
"X=CSA-CSAn; //Polynomial to find 'r'\n",
"\n",
"disp(X);\n",
"printf('The real roots of the above equation gives the value of the radius\n')\n",
"r=roots(X); //Numerical Value of radius\n",
"disp(r);\n",
"printf('Choosing the real roots from the list above\n')\n",
"r=r(3);\n",
"l=CSAn/(2*%pi*r); //Numerical Value of length\n",
"\n",
"//For charge temperature to be cold\n",
"Ti=25; //Cold Temperature\n",
"T=poly(0,'T'); //Variable value of the element temperature\n",
"Hi=5.72*e*K*((((T+273)/100)^4)-(((Ti+273)/100)^4)); //Heat dissipated per sq.m of the surface\n",
"CSA=%pi*2*r*l; //Curved surface area\n",
"Y=Hi-H; //polynomial to find the temperature of the element\n",
"\n",
"//Roots of T must be real\n",
"T=roots(Y); //Numerical Value\n",
"disp(Y);\n",
"printf('The real roots of the above equation gives the value of the element temperature\n')\n",
"disp(T);\n",
"printf('Choosing the real roots from the list above\n')\n",
"T=T(4); \n",
"\n",
"printf('\n\nThe length and radius of the wire element are %g m and %g mm respectively\n',l,(r*1000))\n",
"printf('The Temperature of the element when the charge is cold is %g degree celsius\n',T)"
   ]
   }
,
{
		   "cell_type": "markdown",
		   "metadata": {},
		   "source": [
			"## Example 5.2: EX5_2.sce"
		   ]
		  },
  {
"cell_type": "code",
	   "execution_count": null,
	   "metadata": {
	    "collapsed": true
	   },
	   "outputs": [],
"source": [
"//To determine the various temperature by changing the connection of the resistance elements\n",
"//Page 284\n",
"clc;\n",
"clear;\n",
"\n",
"//Note that the value in kelvin of the first case in the textbook is wrong\n",
"\n",
"//P is directly proportion to V^2 and H is directly propostional to KT^4\n",
"//Different Temperatures for different configurations\n",
"T1=1125; //Temperature in First Case\n",
"T2=poly(0,'T2');\n",
"T3=poly(0,'T3');\n",
"T4=poly(0,'T4');\n",
"\n",
"//Multiplying Factors to the square of voltages\n",
"V1=1; //Line to Line Voltage;\n",
"V2=V1/2; //when connected in series first and then delta\n",
"V3=V1/(2*sqrt(3)); //when connected in series and then in star \n",
"V4=V1/(sqrt(3)); //When connected in parallel and in star\n",
"\n",
"//To find the power loss in each case\n",
"deff('x=pow(y)','x=(y^2)');\n",
"P1=pow(V1);\n",
"P2=pow(V2);\n",
"P3=pow(V3);\n",
"P4=pow(V4);\n",
"\n",
"//To find the heat dissipated from each case\n",
"deff('x=heatdiss(y)','x=(y^4)');\n",
"H1=heatdiss(T1+273);\n",
"H2=heatdiss(T2+273);\n",
"H3=heatdiss(T3+273);\n",
"H4=heatdiss(T4+273);\n",
"\n",
"//Polynomials to find the temperature in degree celsius\n",
"deff('x=temp(y,z)','x=(P1/y)-(H1/z)');\n",
"X2=temp(P2,H2);\n",
"X3=temp(P3,H3);\n",
"X4=temp(P4,H4);\n",
"\n",
"//Temperature Numerical Value\n",
"T2=roots(X2(2));\n",
"T3=roots(X3(2));\n",
"T4=roots(X4(2));\n",
"\n",
"//Only to consider Real Roots\n",
"T2=T2(4);\n",
"T3=T3(4);\n",
"T4=T4(4);\n",
"\n",
"printf('The Temperature for the following configurations are:\n')\n",
"printf('Two Groups connected in series first and then in delta : %g degree Celsius\n',T2)\n",
"\n",
"printf('Two Groups connected in series first and then in star : %g degree Celsius\n',T3)\n",
"\n",
"printf('Two Groups connected in parallel first and then in star : %g degree Celsius\n',T4)"
   ]
   }
,
{
		   "cell_type": "markdown",
		   "metadata": {},
		   "source": [
			"## Example 5.3: To_Determine_the_average_KW_input_to_the_furnace.sce"
		   ]
		  },
  {
"cell_type": "code",
	   "execution_count": null,
	   "metadata": {
	    "collapsed": true
	   },
	   "outputs": [],
"source": [
"//To Determine the average KW input to the furnace\n",
"//Page 288\n",
"clc;\n",
"clear;\n",
"M=10*(10^3); //Mass of Steel Melted\n",
"t=2*3600; //Time Taken to Melt the steel\n",
"eff=50/100; //Overall Efficiency\n",
"I=9000; //Current Input\n",
"R=0.003; //Resistance\n",
"X=0.005; //Reactance\n",
"SH=0.12; //Specific Heat\n",
"LHF=8.89*(10^3); //Latent Heat of Fusion\n",
"Tm=1371; //Melting Point\n",
"Ti=20; //Room Temperature\n",
"\n",
"Hm=M*LHF; //Heat Required for melting\n",
"Hr=M*SH*(Tm-Ti)*1000; //Heat Required to raise the temperature\n",
"Ht=Hm+Hr; //Total Amount of heat required\n",
"\n",
"E=Ht*4.2/(3600); //Energy in Whr\n",
"P=E*3600/t; //Power\n",
"\n",
"Pa=P/eff; //Actual Power Input to the Furnace\n",
"\n",
"Vt=Pa/(3*I); //V Cos theta\n",
"//The Above voltage is the sum of arc drop and drop in resistance load\n",
"\n",
"Va=Vt-(I*R); //Arc Drop\n",
"Vx=I*X; //Reactance Drop\n",
"Vs=sqrt((Vt^2)+(Vx^2)); //Supply Voltage\n",
"S=3*Vs*I/1000; //KVA input\n",
"\n",
"printf('The Average kW input to the furnance is %g kW\n',Pa/1000)\n",
"printf(' The Arc Voltage is %g V\n',Va)\n",
"printf(' The kVA input is %g kVA\n',S)\n",
"\n",
"//Accurate Answers, No rounding off."
   ]
   }
,
{
		   "cell_type": "markdown",
		   "metadata": {},
		   "source": [
			"## Example 5.4: To_determine_the_effciency_of_a_high_frequency_induction_furnance.sce"
		   ]
		  },
  {
"cell_type": "code",
	   "execution_count": null,
	   "metadata": {
	    "collapsed": true
	   },
	   "outputs": [],
"source": [
"//To determine the effciency of a high frequency induction furnance\n",
"//Page 294\n",
"clc;\n",
"clear;\n",
"t=10*60; //Time Taken to rise temperature in seconds\n",
"M=1.815; //Mass of aluminium melted\n",
"Pi=5*(10^3); //Power Input\n",
"Ti=15; //Initial Temperature\n",
"Tm=660; //Melting Point of Al\n",
"SHAl=0.212; //Specific heat of Al\n",
"LHFAl=76.8*(10^3); //Laten Heat of fusin in Cal/Kg\n",
"\n",
"Hm=M*LHFAl; //Heat required to melt Al\n",
"Htr=SHAl*M*1000*(Tm-Ti); //Heat required to raise the temperature\n",
"HTot=Hm+Htr; //Total Heat Required\n",
"\n",
"HToth=HTot*3600/t; //Heat required per hour\n",
"\n",
"Po=HToth*4.2/3600; //Power Output\n",
"\n",
"eff=Po*100/Pi; //Efficiency\n",
"\n",
"printf('The Effciency of the High Frequency Induction Furnace is %g percent\n',eff)"
   ]
   }
,
{
		   "cell_type": "markdown",
		   "metadata": {},
		   "source": [
			"## Example 5.5: To_Determine_the_equivalent_resistance_of_the_charge_and_current.sce"
		   ]
		  },
  {
"cell_type": "code",
	   "execution_count": null,
	   "metadata": {
	    "collapsed": true
	   },
	   "outputs": [],
"source": [
"//To Determine the equivalent resistance of the charge and current\n",
"//Page 294\n",
"clc;\n",
"clear;\n",
"\n",
"f=960; //Frequency\n",
"N1=20; //Primary Turns\n",
"N2=1; //Secondary is Single Turn\n",
"Pi=325*(10^3); //Power Input\n",
"Di=45; //Internal Diameter\n",
"l=50; //Depth of the charge\n",
"\n",
"//Assumptions\n",
"p=200*(10^-6); //Resistivity\n",
"M=1; //For Molten Steel\n",
"\n",
"t=(1/(2*%pi))*sqrt(p*(10^9)/(M*f)); //Depth of penentration of the current\n",
"A=t*l; //Effective Area\n",
"Dm=Di+t; //Mean Diameter\n",
"Dmcf=%pi*Dm; //Mean Length of current flow\n",
"Rc=p*Dmcf/A; //Resistance of the Cylinder\n",
"\n",
"Is=sqrt(Pi/Rc); //Current flowing through secondary\n",
"Ip=Is*N2/N1; //Primary Current\n",
"\n",
"printf('The Equivalent Resistance of the cylinder is %g * 10^-6 ohm\n',Rc/(10^-6))\n",
"printf('The Required Current in the primary is %g A\n',Ip)"
   ]
   }
,
{
		   "cell_type": "markdown",
		   "metadata": {},
		   "source": [
			"## Example 5.6: To_Detemine_power_absorbed_and_the_power_factor.sce"
		   ]
		  },
  {
"cell_type": "code",
	   "execution_count": null,
	   "metadata": {
	    "collapsed": true
	   },
	   "outputs": [],
"source": [
"//To Detemine power absorbed and the power factor\n",
"//Page 295\n",
"clc;\n",
"clear;\n",
"Vs=15; //Secondary Voltage\n",
"P=500*(10^3) // Power Taken\n",
"pfs=0.6; //Power Factor\n",
"\n",
"Is=P/(Vs*pfs); //Secondary Current\n",
"\n",
"//Taking Current as Reference voltage will be\n",
"t=acosd(pfs); //Power Factor Angle\n",
"Vsp=Vs*(exp(%i*(t/180)*%pi)); //Phasor Secondary Voltage\n",
"R=Vsp/Is; //Impedance\n",
"\n",
"//if the resistance is doubled, The Total impedance doubles, Considering Vs as reference\n",
"R2=real(R)+R;\n",
"I2=Vs/R2; //New Current\n",
"pfn=cosd(atand(imag(I2)/real(I2))); //power factor of new current\n",
"Pab=Vs*abs(I2)*pfn/1000; //Power Absorbed\n",
"\n",
"printf('The Power Factor and The Absorbed power are %g lagging and %g kW respectively.\n',pfn,Pab)"
   ]
   }
,
{
		   "cell_type": "markdown",
		   "metadata": {},
		   "source": [
			"## Example 5.7: To_determine_the_Voltage_Required_and_Current_Drawn.sce"
		   ]
		  },
  {
"cell_type": "code",
	   "execution_count": null,
	   "metadata": {
	    "collapsed": true
	   },
	   "outputs": [],
"source": [
"//To determine the Voltage Required and Current Drawn\n",
"//Page 299\n",
"clc;\n",
"clear;\n",
"t=2*(10^-2); //Thickness\n",
"A=150*(10^-4); //Area of the slab\n",
"Er=4; //Relative Permittivity\n",
"pf=0.04; //Power Factor\n",
"f=30*(10^6); //Frequency of supply\n",
"w=2*%pi*f; //Angular Frequency\n",
"P=200; //Power Required\n",
"Eo=8.854*(10^-12); //Permittivity of free space\n",
"\n",
"C=Er*Eo*A/t; //Capacitance\n",
"Xc=1/(C*w); //Capacitative Reactance\n",
"phi=acosd(pf); //power factor angle\n",
"R=tand(phi)*Xc; //Resistance\n",
"V=sqrt(P*R); //Voltage\n",
"I1=V/R; //Current\n",
"Ic=V/Xc; //Curent through the Capacitor\n",
"It=sqrt((I1^2)+(Ic^2)); //Total Current\n",
"\n",
"Vn=600; //Limited Voltage\n",
"Rn=(Vn^2)/P; //New Resistance\n",
"wn=tand(phi)/(C*Rn); //New Angular Frequency\n",
"fn=wn/(2*%pi); //New Frequnency\n",
"\n",
"printf('The Current And Voltage are %g A and %g V respectively\n',It,V)\n",
"printf('For the New Voltage the frequency is %g MHz\n',(fn/(10^6)))"
   ]
   }
,
{
		   "cell_type": "markdown",
		   "metadata": {},
		   "source": [
			"## Example 5.8: To_estimate_the_voltage_and_Current_during_heating.sce"
		   ]
		  },
  {
"cell_type": "code",
	   "execution_count": null,
	   "metadata": {
	    "collapsed": true
	   },
	   "outputs": [],
"source": [
"//To estimate the voltage and Current during heating\n",
"//Page 300\n",
"clc;\n",
"clear;\n",
"l=30; //Length\n",
"b=15;//Breadth\n",
"t=2; //Thickness\n",
"t1=20; //Initial Temperature\n",
"t2=180; //Final Temperature\n",
"T=10*60; //Time Period in Seconds\n",
"f=40*(10^6); //Frequency of supply\n",
"w=2*%pi*f; //Angular Frequency\n",
"SH=0.35; //Specific Heat Of Wood\n",
"Er=5; //Relative Permitivity\n",
"Eo=8.854*(10^-12); // Permitivity of free space\n",
"pf=0.05; //Power Factor\n",
"Eff=90/100; //Efficiency\n",
"p=0.55;//Density\n",
"A=l*b; //Area of the wooden board\n",
"W=(A*t)*p/1000; //Weight of wood in kilograms\n",
"H=W*SH*(t2-t1); //Heat required to raise temperature\n",
"E=H*4.2/3600; //Energy in  kWhr\n",
"P=E*3600/T; //In kilowatts\n",
"AP=P*1000/Eff; //Actual Power\n",
"C=Eo*Er*A*(10^-2)/t; //Capacitance\n",
"phi=acosd(pf); //Power Factor Angle\n",
"del=(90-phi)*%pi/180;//In Radian\n",
"V=sqrt(AP/(w*C*del)); //Voltage\n",
"I=V*w*C; //Current\n",
"\n",
"printf('The Voltage and Current are %g V and %g A respectively\n',V,I)"
   ]
   }
],
"metadata": {
		  "kernelspec": {
		   "display_name": "Scilab",
		   "language": "scilab",
		   "name": "scilab"
		  },
		  "language_info": {
		   "file_extension": ".sce",
		   "help_links": [
			{
			 "text": "MetaKernel Magics",
			 "url": "https://github.com/calysto/metakernel/blob/master/metakernel/magics/README.md"
			}
		   ],
		   "mimetype": "text/x-octave",
		   "name": "scilab",
		   "version": "0.7.1"
		  }
		 },
		 "nbformat": 4,
		 "nbformat_minor": 0
}
