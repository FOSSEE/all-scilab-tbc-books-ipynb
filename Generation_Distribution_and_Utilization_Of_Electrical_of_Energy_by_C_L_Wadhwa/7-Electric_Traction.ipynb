{
"cells": [
 {
		   "cell_type": "markdown",
	   "metadata": {},
	   "source": [
       "# Chapter 7: Electric Traction"
	   ]
	},
{
		   "cell_type": "markdown",
		   "metadata": {},
		   "source": [
			"## Example 7.10: To_determine_the_speed_torque_curve_for_the_series_motor.sce"
		   ]
		  },
  {
"cell_type": "code",
	   "execution_count": null,
	   "metadata": {
	    "collapsed": true
	   },
	   "outputs": [],
"source": [
"//To determine the speed torque curve for the series motor\n",
"//Page 381\n",
"clc;\n",
"clear;\n",
"I=[50,100,150,200,250,300]; //Field Current\n",
"Eb1=[230,360,440,500,530,580]; //Armature Volts\n",
"Ra=0.07; //Armature Winding Resistance\n",
"Rf=0.05; //Field Resistance\n",
"Rt=Rf+Ra; //Total Resistance\n",
"P=4; //Poles of the machine\n",
"N1=600; //Series Motor Speed\n",
"Vc=600; //Constant Operating Voltage\n",
"\n",
"// Note that the Suffix 1 and 2 have given according the question; 1 stands for the case where the magnetisation curve has been given and 2 stands for the case where we have to find the speed torque curve\n",
"\n",
"Eb2=Vc-(I.*(Rt));\n",
"N2=N1.*Eb2./Eb1; //Speed\n",
"\n",
"T=9.55.*Eb2.*I./N2; //Torque\n",
"\n",
"printf('The Tabulated Speeds for 600V are:\n')\n",
"disp(N2)\n",
"printf('\nAnd their corresponding torques are:\n')\n",
"disp(T)\n",
"\n",
"plot(T,N2)\n",
"xlabel('Torque')\n",
"ylabel('Speed')"
   ]
   }
,
{
		   "cell_type": "markdown",
		   "metadata": {},
		   "source": [
			"## Example 7.11: To_determine_the_horse_power_delivered_by_the_locomotive.sce"
		   ]
		  },
  {
"cell_type": "code",
	   "execution_count": null,
	   "metadata": {
	    "collapsed": true
	   },
	   "outputs": [],
"source": [
"//To determine the horse power delivered by the locomotive\n",
"//Page 388\n",
"clc;\n",
"clear;\n",
"\n",
"Ftl=35000; //Tractive Effort on a level surface\n",
"Ftg=55000; //Tractive Effort on a gradient\n",
"V=50; //Speed of the train\n",
"HP=735.5; //One Horse Power\n",
"Pl=Ftl*V*1000/(3600*HP); //Power Output(in HP) of the Locomotive on the level track\n",
"\n",
"//CASE 1:\n",
"//D.C Series Motor, Power is directly proportional to the root of the Trative Effort \n",
"HP1=Pl*sqrt(Ftg/Ftl);\n",
"\n",
"//CASE 2:\n",
"//3 Phase Induction Motor, Power is directly proportional to the Trative Effort\n",
"HP2=Pl*(Ftg/Ftl);\n",
"\n",
"printf('The Horse Power delivered by the locmotive when the motors used are:\n')\n",
"printf('i) D.C Series Motor is %g H.P \n',HP1)\n",
"printf('ii) 3 Phase Induction Motor is %g H.P \n',HP2)\n",
"//Note the Calculation Mistake in TextBook for case 2"
   ]
   }
,
{
		   "cell_type": "markdown",
		   "metadata": {},
		   "source": [
			"## Example 7.12: To_Determine_the_tractive_effort_shared_by_the_two_locomotives.sce"
		   ]
		  },
  {
"cell_type": "code",
	   "execution_count": null,
	   "metadata": {
	    "collapsed": true
	   },
	   "outputs": [],
"source": [
"//To Determine the tractive effort shared by the two locomotives\n",
"//Page 388\n",
"clc;\n",
"clear;\n",
"\n",
"Da=1.27; //Loco A wheel diameter\n",
"Db=1.244; //Loco B wheel diameter\n",
"S=5; //Slip of both the Locomotives in Case 1\n",
"Sa=S; //Slip of Loco A in Case 2\n",
"Sb=4; //Slip of Loco B in Case 2\n",
"Ftta=11325; //Total Tractive Effort in Case 1\n",
"Fttb=1309; //Total Tractive Effort in Case 2\n",
"Ft=5227; //Full Load Tractive Effort of Loco\n",
"\n",
"x=poly(0,'x'); //Variable for Tractive Effort Exerted by Loco A\n",
"\n",
"//Slips are same\n",
"//For 11325 kg\n",
"//% Speed\n",
"NA=100-(S*x/Ft);\n",
"NB=100-(S*(Ftta-x)/Ft);\n",
"Rna=NB/NA; //Speed Ratio\n",
"\n",
"Y1=Rna-(Da/Db); //Polynomial to find out 'x'\n",
"x=roots(Y1(2)); //Numerical Value of Tractive Effort shared by A\n",
"\n",
"//Tractive Efforts Shared by A Loco and B Loco\n",
"FtAas=x;\n",
"FtBas=Ftta-x;\n",
"\n",
"//For 1309 kg\n",
"//% Speed\n",
"x=poly(0,'x'); //Variable for Tractive Effort Exerted by Loco A\n",
"NA=100-(S*x/Ft);\n",
"NB=100-(S*(Fttb-x)/Ft);\n",
"Rn1=NB/NA; //Speed Ratio\n",
"\n",
"Y2=Rn1-(Da/Db); //Polynomial to find out 'x'\n",
"x=roots(Y2(2)); //Numerical Value of Tractive Effort shared by A\n",
"\n",
"//Tractive Efforts Shared by A Loco and B Loco\n",
"FtAbs=x;\n",
"FtBbs=Fttb-x;\n",
"\n",
"//Different Slips\n",
"//For 11325 kg\n",
"//% Speed\n",
"x=poly(0,'x'); //Variable for Tractive Effort Exerted by Loco A\n",
"NA=100-(Sa*x/Ft);\n",
"NB=100-(Sb*(Ftta-x)/Ft);\n",
"Rna=NB/NA; //Speed Ratio\n",
"\n",
"Y3=Rna-(Da/Db); //Polynomial to find out 'x'\n",
"x=roots(Y3(2)); //Numerical Value of Tractive Effort shared by A\n",
"\n",
"//Tractive Efforts Shared by A Loco and B Loco\n",
"FtAad=x;\n",
"FtBad=Ftta-x;\n",
"\n",
"//For 1309 kg\n",
"//% Speed\n",
"x=poly(0,'x'); //Variable for Tractive Effort Exerted by Loco A\n",
"NA=100-(Sa*x/Ft);\n",
"NB=100-(Sb*(Fttb-x)/Ft);\n",
"Rn2=NB/NA; //Speed Ratio\n",
"\n",
"Y4=Rn2-(Da/Db); //Polynomial to find out 'x'\n",
"x=roots(Y4(2)); //Numerical Value of Tractive Effort shared by A\n",
"\n",
"//Tractive Efforts Shared by A Loco and B Loco\n",
"FtAbd=x;\n",
"FtBbd=Fttb-x;\n",
"\n",
"printf('The Tractive Effort shared A and B for:\n \n')\n",
"printf('i) Slips are %g percent for both the Locomotives for a Tractive effort of:\n',S)\n",
"printf('a) %g kg : %g kg by A and %g kg by B respectively\n',Ftta,FtAas,FtBas)\n",
"printf('b) %g kg : %g kg by A and %g kg by B respectively\n\n',Fttb,FtAbs,FtBbs)\n",
"printf('i) Slips are %g percent for A and %g percent for B for a Tractive effort of:\n',Sa,Sb)\n",
"printf('a) %g kg : %g kg by A and %g kg by B respectively\n',Ftta,FtAad,FtBad)\n",
"printf('b) %g kg : %g kg by A and %g kg by B respectively\n\n',Fttb,FtAbd,FtBbd)\n",
"\n",
"//Please Note there is caluculation mistake calculation in the TextBook for the First Case"
   ]
   }
,
{
		   "cell_type": "markdown",
		   "metadata": {},
		   "source": [
			"## Example 7.13: To_determine_the_traction_control_of_2_motors_rated_at_1500V.sce"
		   ]
		  },
  {
"cell_type": "code",
	   "execution_count": null,
	   "metadata": {
	    "collapsed": true
	   },
	   "outputs": [],
"source": [
"//To determine the traction control of 2 motors rated at 1500V\n",
"//Page 396\n",
"clc;\n",
"clear;\n",
"\n",
"NoM=2; //Number of motors\n",
"V=1500; //Rated Voltage\n",
"I=500; //Starting Current\n",
"R=0.15; //Armature Resistance\n",
"r=50; //Specific Resistance\n",
"W=120;\n",
"We=140;\n",
"Ft=38000; // Tractive Effort Per motor\n",
"\n",
"Vs=40; //Speed at the end of starting period\n",
"//Note the question is asked for 50 Kmph, But the answer is calculated for 40Kmph\n",
"//Therefore it is calculated for 40 Kmph\n",
"//By Changing the value of Vs to 50 Kmph, The Specific Parameters can also be obtained\n",
"\n",
"a=poly(0,'a'); //Accleration Variable\n",
"\n",
"X=(2*Ft)-((277.8*We*a)+(W*r)); //Polynomial To find 'a'\n",
"\n",
"a=roots(X); //To find the Numerical Value of the Acceleration\n",
"\n",
"t=Vs/a; //Starting Time\n",
"\n",
"Vd=I*R; //Resistance drop per motor\n",
"\n",
"ts=t*(V-(2*Vd))/(2*(V-Vd)); //Starting Series Time Period\n",
"tp=t-ts; //Starting Parallel Time Period\n",
"\n",
"Vt=a*ts; //Speed at Transition\n",
"//Loss can be found out by the computing the area under the of the given figure in the text book for different period\n",
"//In series, the Voltage reduces, Hence 675;\n",
"Rhel=((((V/2)-Vd)*I*ts)+((V/2)*I*tp))/(2*3600*1000); //Loss per motor in kWhr\n",
"Rhe=NoM*Rhel; //Total Rheostatic Loss\n",
"\n",
"printf('i) The Duration of starting period is %g seconds\n',t)\n",
"printf('ii)The Speed of Train at Transition is %g Kmph\n',Vt)\n",
"printf('iii) The Rheostatic Loss is %g kWhr\n',Rhe)"
   ]
   }
,
{
		   "cell_type": "markdown",
		   "metadata": {},
		   "source": [
			"## Example 7.14: To_determine_the_speed_of_motors_when_connected_in_series.sce"
		   ]
		  },
  {
"cell_type": "code",
	   "execution_count": null,
	   "metadata": {
	    "collapsed": true
	   },
	   "outputs": [],
"source": [
"//To determine the speed of motors when connected in series\n",
"//Page 397\n",
"clc;\n",
"clear;\n",
"V=650; //Rating of motor and Supply Voltage when connected in parallel\n",
"IR=10*650/100; //Armature Drop\n",
"N1p=1000; //Speed of the first motor in parallel operation\n",
"D1=88; //Motor 1 wheels diameter\n",
"D2=86; //Motor 2 wheels diameter\n",
"\n",
"//Current Remains Constant during the start\n",
"\n",
"r=D1/D2; //Ratio of the first motor wheel diameter to the second motor wheel diameter\n",
"\n",
"//N1/N2 = 1/r\n",
"\n",
"V1=((V-IR)/(1+(r)))+((IR)/(1+(1/r))); //Voltage of Motor 1 in series operation\n",
"V2=V-V1; //Voltage of Motor 2 in series operation\n",
"\n",
"N1=N1p*(V1-IR)/(V-IR); //Speed of motor 1 in series configuration\n",
"N2=N1*r; //Speed of motor 2 in series configuration\n",
"\n",
"printf('The Speed of Motor 1 in series Configuration is %g rpm\n',N1 )\n",
"printf('The Speed of Motor 2 in series Configuration is %g rpm\n',N2)"
   ]
   }
,
{
		   "cell_type": "markdown",
		   "metadata": {},
		   "source": [
			"## Example 7.15: To_determine_the_characteristics_gear_ratio_and_wheels_are_replaced.sce"
		   ]
		  },
  {
"cell_type": "code",
	   "execution_count": null,
	   "metadata": {
	    "collapsed": true
	   },
	   "outputs": [],
"source": [
"//To determine the characteristics gear ratio and wheels are replaced\n",
"//Page 397\n",
"clc;\n",
"clear;\n",
"\n",
"D1=86; //Diameter of wheels in Case 1\n",
"Y1=71/21; //Gear Ratio in Case 1\n",
"D2=88; // Diameter of wheels in Case 2\n",
"Y2=74/19; //Gear Ratio in case 2\n",
"I=[50,100,150,200,250,300]; //Current\n",
"L1=[80,50,45,40,36,32]; //Speed in Kmph\n",
"Ft1=[2000,6000,12000,16000,18000,22000]; //Tractive Effort\n",
"\n",
"// V = pi*D*N*60/(100*100*Y)\n",
"//According to the above equation, V is directly proportional to D*N/Y\n",
"\n",
"//Angular Frequency And Torque remains the same irrespective of the gear ratio or change in diameter\n",
"\n",
"//Hence the V is directly proportional to D/Y\n",
"\n",
"//V id directly proportional to N\n",
"// N directly proportional to Linear speed\n",
"//Hence relating the above terms\n",
"//We get linear speed directly proportional to D/Y\n",
"\n",
"L2=L1.*D2*Y1/(D1*Y2); //Linear Speed in Case two\n",
"\n",
"//Similarly T = Ft * D/(200)\n",
"//Dividing by Y ; (T/Y) = Ft*D/(200*Y)\n",
"//Taking two cases where we find Torque per gear ratio of one case\n",
"// And multiply the Torque to Gear ratio to the other gear ratio to get Torque\n",
"// From this process we T1*Y2/Y1 =T2\n",
"// We Get Ft is directly proportional to Y/D\n",
"\n",
"Ft2=Ft1.*D1*Y2/(D2*Y1); //Tractive Effort in Second Case\n",
"\n",
"printf('The New Characteristics are\n Current in Amperes\n')\n",
"disp(I)\n",
"printf('\nSpeed in Kmph\n')\n",
"disp(L2)\n",
"printf('\nTractive Effort in N\n')\n",
"disp(Ft2)"
   ]
   }
,
{
		   "cell_type": "markdown",
		   "metadata": {},
		   "source": [
			"## Example 7.16: To_Determine_the_Resistance_of_the_Various_Steps_in_a_Series_Motor.sce"
		   ]
		  },
  {
"cell_type": "code",
	   "execution_count": null,
	   "metadata": {
	    "collapsed": true
	   },
	   "outputs": [],
"source": [
"//To Determine the Resistance of the Various Steps in a Series Motor\n",
"//Page 398\n",
"clc;\n",
"clear;\n",
"P=20*735.5; //Power Rating\n",
"V=500; //Rated Voltage\n",
"Eff=80/100; //Efficiency\n",
"Raw=1; //Resistance of Armature and Windings\n",
"Iflux=10/100; //Increase in Flux\n",
"\n",
"I=P/(V*Eff); //Maximum Current\n",
"\n",
"//VAriation in Current\n",
"Imin=1.5*I;\n",
"Imax=2*I;\n",
"Rs=[]; //Total Resistance after each step\n",
"Rg=[]; //Step Resistance\n",
"FluxRatio=1+(Iflux); //Flux raises by 10% for every step\n",
"\n",
"//Condition to make sure Imax doesnt go less than the Rated Value and also to find the number of steps and Step Resistances\n",
"for i= 1:1000\n",
"                Is=V/Raw;\n",
"    M=Imax-Is;\n",
"    if((abs(M)+M)==0)\n",
"        c=i; //Number of steps + 1\n",
"        R=poly(0,'R'); //Variable Resitance\n",
"    X=((V-(Imax*Raw))/(V-(Imin*R)))-FluxRatio; //Polynomial To Find The Next Resistance\n",
"    Rs(i)=roots(X(2)); //Total Next Resistance\n",
"    Rg(i)=Rs(i)-Raw; //Resistance of the ith Step\n",
"    Raw=Rs(i);\n",
"    else\n",
"        break;\n",
"    end\n",
"end\n",
"\n",
"S=c-1; //Number Of steps\n",
"printf('\nThe Number of steps is %g\n\n\n',S)\n",
"for j=1:S\n",
"    printf('The Resistance of ''%g'' step is %g ohm\n',j,Rg(j))\n",
"end\n",
""
   ]
   }
,
{
		   "cell_type": "markdown",
		   "metadata": {},
		   "source": [
			"## Example 7.17: To_detemine_the_characteristics_for_tapping_of_30_percent_of_the_turns.sce"
		   ]
		  },
  {
"cell_type": "code",
	   "execution_count": null,
	   "metadata": {
	    "collapsed": true
	   },
	   "outputs": [],
"source": [
"//To detemine the characteristics for tapping of 30 percent of the turns\n",
"//Page 400\n",
"clc;\n",
"clear;\n",
"I=[50,100,150,200,250]; //Current\n",
"N1=[73.5,48,41,37,35]; //Speed\n",
"Ft1=[131,457,810,1163,1525]; //Tractive Effort in Kg\n",
"Fl=70/100; //Effective Tapping of the Turns (30% reduction)\n",
"\n",
"//Consider flux corresponding to 250A as 100%, that is for 35 Kmph\n",
"\n",
"Flux=(35*100)./N1; //Flux Percent for Current Value\n",
"\n",
"//Reduction by 30% of turns is same as reducing the Ampere Turns by 30% which is same as reducing the Current by 30%\n",
"\n",
"RI=Fl.*I; //Reduced Current\n",
"RFlux=[32,57,74,83,90]; //Reduced flux determined From the Graph of %Flux and Current in the TextBook\n",
"\n",
"N2=(N1.*Flux)./RFlux; //Speed for the new case\n",
"\n",
"//Tractive Effort is directly proportional to the product of flux and current\n",
"\n",
"Ft2=RFlux.*Ft1./Flux; //Tractive Effort of the Second Case\n",
"\n",
"printf('The Current in Amperes:\n')\n",
"disp(I)\n",
"printf('\nThe Speed in Kmph\n')\n",
"disp(N2)\n",
"printf('\nThe Tractive Effort in Kg\n')\n",
"disp(Ft2)"
   ]
   }
,
{
		   "cell_type": "markdown",
		   "metadata": {},
		   "source": [
			"## Example 7.18: To_determine_the_power_fed_into_the_supply_system.sce"
		   ]
		  },
  {
"cell_type": "code",
	   "execution_count": null,
	   "metadata": {
	    "collapsed": true
	   },
	   "outputs": [],
"source": [
"//To determine the power fed into the supply system\n",
"//Page 410\n",
"clc;\n",
"clear;\n",
"W=200;\n",
"RI=10/100; //Rotational Intertia\n",
"Eff=75/100; //Effeciency of Conversion\n",
"G=2;\n",
"V1=60;\n",
"V2=20;\n",
"D=4000; //Distance covered during the speed change in m\n",
"r=40;\n",
"We=(1+RI)*W;\n",
"\n",
"Ftb=W*((98.1*G)-r); //Tractive Effort during Retardation\n",
"\n",
"KE=0.01072*(We/W)*200*((V1^2)-(V2^2))/1000; //K.E(in kWhr) Available due to change in speed\n",
"\n",
"EquiEE=Ftb*D/(3600*1000); //Equivalent Electrical Energy\n",
"\n",
"TE=KE+EquiEE; //Total Energy Regenarated\n",
"\n",
"ERS=Eff*TE; //Energy Returned to the Supply\n",
"\n",
"B=((V1^2)-(V2^2))/(2*D*3600); //Retardation\n",
"Tb=V1-V2/B; //time taken during retardation\n",
"\n",
"PRS=ERS*3600/Tb; //Power Returned due to Retardation\n",
"\n",
"//If there is no change in speed, Net Reactive force is Tractive Effort due to retardation\n",
"\n",
"Vm=V1; //Maximum Speed \n",
"\n",
"//Power that Can be fed into the system\n",
"PFS=0.278*Ftb*Vm/1000; //In Kilowatts\n",
"\n",
"APFS=Eff*PFS; //Actual Power Fed Back into the supply system\n",
"\n",
"printf('The Power Fed Back into the supply system is %g kW\n',APFS)"
   ]
   }
,
{
		   "cell_type": "markdown",
		   "metadata": {},
		   "source": [
			"## Example 7.19: To_determine_the_value_of_resistance_to_be_connected_in_the_motor_circuit.sce"
		   ]
		  },
  {
"cell_type": "code",
	   "execution_count": null,
	   "metadata": {
	    "collapsed": true
	   },
	   "outputs": [],
"source": [
"//To determine the value of resistance to be connected in the motor circuit\n",
"//Page 411\n",
"clc;\n",
"clear;\n",
"\n",
"N1=600; //Intial Speed\n",
"E1=[252,522,750,900,951]; // Voltages At 600 RPM\n",
"Ia=[20,40,60,80,100]; // Field Current\n",
"N2=400; //Changed Speed\n",
"E2=E1.*(N2/N1); // Voltages at 400 RPM\n",
"T=350;\n",
"Raw = 0.05; //Armature and Winding Resistance\n",
"printf('Field Current in A:\n')\n",
"disp(Ia)\n",
"printf('\nThe Respective Voltages at 400 rpm (V):\n')\n",
"disp(E2)\n",
"\n",
"P=E2.*Ia; //To find the value of E and Ia for the Required Speed\n",
"\n",
"PI=2*%pi*N2*T/60; //Power Input\n",
"\n",
"//To find the Portion of the Curve EIa vs Ia , under the currrent limits where our Power Input is located\n",
"for i = 1:5\n",
"    X=P(i)-PI; //Difference of Powers\n",
"    if(abs(X)+X==0)\n",
"        continue;\n",
"    else\n",
"        L=i-1; //Lower Limit\n",
"        H=i; // Upper limit\n",
"        break\n",
"    end\n",
"end\n",
"\n",
"Ip=Ia(H)-Ia(L); //To find the Current Period\n",
"Im=Ia(L); //Starting Value of Current in the Particular Portion of the Curve\n",
"\n",
"I=Im+(((PI-P(L))/(P(H)-P(L)))*Ip); //Current Required for 400 rpm\n",
"R=PI/(I^2); //Total Resistance required in the circuit\n",
"Re=R-Raw; //External Resistance\n",
"\n",
"printf('\n\nThe External Circuit that needs to connected in the motor circuit to limit the speed to 400 rpm is %g Ohm\n',Re)"
   ]
   }
,
{
		   "cell_type": "markdown",
		   "metadata": {},
		   "source": [
			"## Example 7.1: To_determine_the_Acceleration_and_Coasting_Period.sce"
		   ]
		  },
  {
"cell_type": "code",
	   "execution_count": null,
	   "metadata": {
	    "collapsed": true
	   },
	   "outputs": [],
"source": [
"//To determine the Acceleration and Coasting Period\n",
"//Page 362\n",
"clc;\n",
"clear;\n",
"D=1.92\n",
"Ts=20; //Duration of stops\n",
"Vsch=40;\n",
"V1=60.8;\n",
"//Retardation\n",
"B=3.2;\n",
"Bc=0.16;\n",
"\n",
"SchTime=D*3600/Vsch; // Schedule time in seconds\n",
"\n",
"T=SchTime-Ts; //Time of Travel\n",
"\n",
"a=poly(0,'a'); // Acceleration Unknown Value\n",
"\n",
"V2=(V1-Bc*(T-(V1/a)))/(1-(Bc/B)); // From the Speed Time Curve\n",
"\n",
"X=((V1+V2)*T-(V1*V2*((1/B)+(1/a))))-(7200*D); //Polynomial Equation to find a\n",
"\n",
"disp(X(2))\n",
"printf('\nThe Above Equation is Equated to zero to get a\n\n\n')\n",
"a=roots(X(2)); //Roots of the Characteristic Equation\n",
"//To Determine the positive roots\n",
"Y=abs(a)+a;\n",
"if(Y(1)==0)\n",
"    a=a(2);\n",
"else\n",
"    a=a(1);\n",
"end\n",
"\n",
"Ta=V1/a; //Duration of acceleration\n",
"V2=(V1-Bc*(T-(V1/a)))/(1-(Bc/B)); // From the Speed Time Curve\n",
"Tcs=(V1-V2)/Bc; //Coasting Time Period\n",
"\n",
"printf('The Acceleration of the Train is %g Kmphps\n',a)\n",
"printf(' The Coasting Period is %g seconds\n',Tcs)"
   ]
   }
,
{
		   "cell_type": "markdown",
		   "metadata": {},
		   "source": [
			"## Example 7.2: To_determine_the_duration_of_acceleration_and_others.sce"
		   ]
		  },
  {
"cell_type": "code",
	   "execution_count": null,
	   "metadata": {
	    "collapsed": true
	   },
	   "outputs": [],
"source": [
"//To determine the duration of acceleration and others\n",
"//Page 363\n",
"clc;\n",
"clear;\n",
"\n",
"D=1.6;\n",
"Vav=40;\n",
"Bc=0.16;\n",
"B=3.2;\n",
"a=2; //Acceleration\n",
"\n",
"T=D*3600/Vav; //Time of travel\n",
"\n",
"V1=poly(0,'V1'); //Variable Value\n",
"\n",
"V2=(V1-Bc*(T-(V1/a)))/(1-(Bc/B)); // From the Speed Time Curve\n",
"X=((V1+V2)*T-(V1*V2*((1/B)+(1/a))))-(7200*D); //Polynomial Equation to find V1\n",
"V1=roots(X); //Numerical Values for V1\n",
"disp(X);\n",
"printf('\nThe Roots of the above eqaution are\n');\n",
"disp(V1)\n",
"\n",
"V1=V1(2); //Train Considered have speed close to this value\n",
"V2=(V1-Bc*(T-(V1/a)))/(1-(Bc/B)); // From the Speed Time Curve\n",
"\n",
"Ta=V1/a; //Acceleration Time\n",
"Tc=(V1-V2)/Bc; //Coasting Time\n",
"Tb=V2/B; //Braking time\n",
"//Distance are calculated according to the area under their respective curves\n",
"Da=(Ta*V1/2)/3600; //Distance during acceleration\n",
"Dc=(((V1-V2)*Tc/2)+(V2*Tc))/3600; //Distance during coasting\n",
"Db=(Tb*V2/2)/3600; //Distance during braking\n",
"\n",
"printf('\n\nThe Time periods and the distance covered for:\n')\n",
"printf('Acceleration : %g seconds and %g km\n',Ta,Da)\n",
"printf('Coasting : %g seconds and %g km\n',Tc,Dc)\n",
"printf('Braking : %g seconds and %g km\n',Tb,Db)"
   ]
   }
,
{
		   "cell_type": "markdown",
		   "metadata": {},
		   "source": [
			"## Example 7.3: To_determine_the_acceleration_required_to_run_the_service.sce"
		   ]
		  },
  {
"cell_type": "code",
	   "execution_count": null,
	   "metadata": {
	    "collapsed": true
	   },
	   "outputs": [],
"source": [
"//To determine the acceleration required to run the service\n",
"//Page 364\n",
"clc;\n",
"clear;\n",
"\n",
"D=1;\n",
"Ts=20; //Stopping Time\n",
"B=3;\n",
"Vsh=30;\n",
"ShT=D*3600/Vsh; //Schedule time\n",
"T=ShT-Ts; //Actual Run Time\n",
"Vav=D*3600/T; //Average Speed\n",
"Vm=1.25*Vav;\n",
"a=poly(0,'a'); //Acceleration Variable\n",
"\n",
"X=((2*Vm*T)-((Vm^2)*((1/a)+(1/B))))-(7200*D); //Polynomial Equation to find 'a'\n",
"\n",
"disp(X(2));\n",
"printf('\n The above equation is equated to zero to find the Acceleration\n\n')\n",
"\n",
"a=roots(X(2)); //Numerical Value of the Acceleration\n",
"\n",
"printf('The Accleration required to run the service is %g Kmphps\n',a)"
   ]
   }
,
{
		   "cell_type": "markdown",
		   "metadata": {},
		   "source": [
			"## Example 7.4: To_determine_the_time_taken_by_the_train_to_attain_a_particular_speed.sce"
		   ]
		  },
  {
"cell_type": "code",
	   "execution_count": null,
	   "metadata": {
	    "collapsed": true
	   },
	   "outputs": [],
"source": [
"//To determine the time taken by the train to attain a particular speed\n",
"//Page 366\n",
"clc;\n",
"clear;\n",
"M=200; //Mass of train\n",
"g=9.81; //Acceleration due to gravity\n",
"W=M*g;\n",
"RI=10/100; //Rotational Inertia\n",
"We=W*(1+RI);\n",
"motor=4; //Number of Motors\n",
"Tm=5000; //Torque per motor\n",
"T=Tm*motor;\n",
"V=40; //Speed to be Attained\n",
"N=0.9; //Gear Efficiency\n",
"Y=3.6/1; //Gear Ratio\n",
"R=91.5*(10^-2)/2;\n",
"Ft=N*T*Y/R;\n",
"r=40;\n",
"G=(1/200)*100; //Gradient in Percentage\n",
"a=poly(0,'a'); //Acceleration\n",
"\n",
"X=((28.3*We*a)+(10*W*G)+(M*r))-Ft; //Polynomial Equation to find acceleration\n",
"\n",
"a=roots(X); //Numerical Value of Acceleration\n",
"Time=V/a; //Time Taken to attain the required the necessary speed\n",
"\n",
"printf('The Time Taken by the Train to attain 40 Kmphs is %g seconds\n',Time)"
   ]
   }
,
{
		   "cell_type": "markdown",
		   "metadata": {},
		   "source": [
			"## Example 7.5: To_determine_the_Factors_affeting_the_mechanics_of_the_Train.sce"
		   ]
		  },
  {
"cell_type": "code",
	   "execution_count": null,
	   "metadata": {
	    "collapsed": true
	   },
	   "outputs": [],
"source": [
"//To determine the Factors affeting the mechanics of the Train\n",
"//Page 373\n",
"clc;\n",
"clear;\n",
"D=1.92\n",
"Ts=20; //Duration of stops\n",
"Vsch=40;\n",
"V1=60.8;\n",
"//Retardation\n",
"B=3.2;\n",
"Bc=0.16;\n",
"SchTime=D*3600/Vsch; // Schedule time in seconds\n",
"T=SchTime-Ts; //Time of Travel\n",
"a=poly(0,'a'); // Acceleration Unknown Value\n",
"V2=(V1-Bc*(T-(V1/a)))/(1-(Bc/B)); // From the Speed Time Curve\n",
"X=((V1+V2)*T-(V1*V2*((1/B)+(1/a))))-(7200*D); //Polynomial Equation to find a\n",
"a=roots(X(2)); //Roots of the Characteristic Equation\n",
"//To Determine the positive roots\n",
"Y=abs(a)+a;\n",
"if(Y(1)==0)\n",
"    a=a(2);\n",
"else\n",
"    a=a(1);\n",
"end\n",
"Ta=V1/a; //Duration of acceleration\n",
"V2=(V1-Bc*(T-(V1/a)))/(1-(Bc/B)); // From the Speed Time Curve\n",
"Tc=(V1-V2)/Bc; //Coasting Time\n",
"Tb=V2/B; //Braking time\n",
"//Distance are calculated according to the area under their respective curves\n",
"Da=(Ta*V1/2)/3600; //Distance during acceleration\n",
"Dc=(((V1-V2)*Tc/2)+(V2*Tc))/3600; //Distance during coasting\n",
"Db=(Tb*V2/2)/3600; //Distance during braking\n",
"\n",
"r=4.53*9.81; //Train Resistance in N per tonne\n",
"M=200; //Mass of Train\n",
"AWF=1.1; //Accelerating Weight Factor\n",
"SEOA=0.010726*(V1^2)*(AWF)/D; //Specific Energy Output during acceleration\n",
"SEOAr=0.2778*r*Da/D; //Specific Energy Output during acceleration against train resistance\n",
"SEO=SEOA+SEOAr; //Specific Energy for the run\n",
"SEOB=0.010726*(V2^2)*(AWF)/D; //Specific Energy Output during braking\n",
"SEOC=SEOA-SEOB; //energy utilized during coasting\n",
"rc=SEOC*D/(0.2778*Dc)//Mean Train Resistance during coasting\n",
"\n",
"printf('\ni)The Specific Energy Output for the Run is %g Whr/Tonne-km\n',SEO)\n",
"printf('ii) The Energy Dissipated by the brakes is %g Whr/Tonne-km\n',SEOB)\n",
"printf('iii)The Energy Utilized during coasting is %g Whr/Tonne-km\n',SEOC)\n",
"printf('iv) The Mean Train Resistance during coasting is %g N/tonne\n',rc)"
   ]
   }
,
{
		   "cell_type": "markdown",
		   "metadata": {},
		   "source": [
			"## Example 7.6: To_determine_the_Specific_Energy_Output_Runs_for_Both_the_Cases.sce"
		   ]
		  },
  {
"cell_type": "code",
	   "execution_count": null,
	   "metadata": {
	    "collapsed": true
	   },
	   "outputs": [],
"source": [
"//To determine the Specific Energy Output Runs for Both the Cases\n",
"//Page 374\n",
"clc;\n",
"clear;\n",
"G=(1/80)*100;\n",
"W=210;\n",
"We=1.1*W;\n",
"Vm=poly(0,'Vm'); //Variable Value of The Max Velocity \n",
"D=1.6; //Distance between Stations\n",
"Ftg=10*W*G; //Tractive Effort due to Gradient\n",
"Fta=13050; //Total Tractive Effort for Acceleration\n",
"Ftb=20445; //Total Tractive Effort for Retardation\n",
"ron=5.43; //Train Resistance when power on\n",
"rc=6.525; //Train Resistance when coasting\n",
"//Level Track\n",
"al=2;\n",
"Bl=3.2;\n",
"\n",
"//Up Gradient\n",
"Vavu=40; //Average Speed\n",
"Tu=D*3600/Vavu; //Total Time Taken \n",
"au=(Fta-Ftg)/(28.3*We); //Acceleration\n",
"Bu=(Ftb+Ftg)/(28.3*We); //Retardation\n",
"Xu=((2*Vm*Tu)-((Vm^2)*((1/au)+(1/Bu))))-(7200*D); //Polynomial Equation to Find Vm\n",
"Vmu=roots(Xu); //Numerical Value of Vm\n",
"Zu=Vmu(1)-Vmu(2); //To detemine which root to take\n",
"if(abs(Zu)+Zu==0)\n",
"    Vmu=Vmu(1);\n",
"else\n",
"    Vmu=Vmu(2);\n",
"end\n",
"Tua=Vmu/au; //Accelerating Period\n",
"Tub=Vmu/Bu; //Braking Period\n",
"Tucs=Tu-Tua-Tub; //Constant Speed Duration\n",
"Dua=Vmu*Tua/(2*3600); //Distance Travelled During Accleration in km\n",
"Dub=Vmu*Tub/(2*3600); //Distance Travelled During Braking in km\n",
"Duon=D-Dub; //Distance run with power on\n",
"SEOua=0.010726*(Vmu^2)*(We/W)/D; //Specific Energy Output during Acceleration\n",
"SEOug=27.25*G*Duon/D; //Specific Energy Output for Gradient\n",
"SEOur=0.2778*ron*9.81*Duon/D; //Specific Energy Output for resitance\n",
"TSEOu=SEOua+SEOug+SEOur; //Total Specific Output\n",
"\n",
"//Down Gradient\n",
"Vavd=44; //Average Speed\n",
"Td=D*3600/Vavd; //Total Time Taken \n",
"ad=(Fta+Ftg)/(28.3*We); //Acceleration\n",
"Bd=(Ftb-Ftg)/(28.3*We); //Retardation\n",
"Xd=((2*Vm*Td)-((Vm^2)*((1/ad)+(1/Bd))))-(7200*D); //Polynomial Equation to Find Vm\n",
"Vmd=roots(Xd); //Numerical Value of Vm\n",
"Zd=Vmd(1)-Vmd(2); //To detemine which root to take\n",
"if(abs(Zd)+Zd==0)\n",
"    Vmd=Vmd(1);\n",
"else\n",
"    Vmd=Vmd(2);\n",
"end\n",
"Tda=Vmd/ad; //Accelerating Period\n",
"Tdb=Vmd/Bd; //Braking Period\n",
"Tdcs=Td-Tda-Tdb; //Constant Speed Duration\n",
"Dda=Vmd*Tda/(2*3600); //Distance Travelled During Accleration in km\n",
"Ddb=Vmd*Tdb/(2*3600); //Distance Travelled During Braking in km\n",
"Ddon=D-Ddb; //Distance run with power on\n",
"SEOda=0.010726*(Vmd^2)*(We/W)/D; //Specific Energy Output during Acceleration\n",
"//Net Force Acting Downward due to gradient and resistance\n",
"Fnet=W*((10*G)-rc);\n",
"//Since Fnet is Postive, To run the train at constant speed brakes will have to applied therefore they cannot supply electric energy\n",
"TSEOd=SEOda; //Total Sepcific Enegy Consumption\n",
"\n",
"printf('The Total Specific Energy:\n')\n",
"printf('Up Gradient : %g Whr/Tonne km\n',TSEOu)\n",
"printf('Down Gradient : %g Whr/Tonne km\n',TSEOd)"
   ]
   }
,
{
		   "cell_type": "markdown",
		   "metadata": {},
		   "source": [
			"## Example 7.7: To_determine_the_specific_energy_consumption.sce"
		   ]
		  },
  {
"cell_type": "code",
	   "execution_count": null,
	   "metadata": {
	    "collapsed": true
	   },
	   "outputs": [],
"source": [
"//To determine the specific energy consumption\n",
"//Page 376\n",
"clc;\n",
"clear;\n",
"W=400;\n",
"G=1;\n",
"a=1.5; //Acceleration\n",
"Ta=30; //Acceleration Time\n",
"Tf=36; //Free running Period\n",
"Tc=25; //Coasting Period\n",
"B=2.6;\n",
"r=45;\n",
"RI=10/100; //Rotational Inertia Effect\n",
"Eff=75/100; // Overall Efficieny\n",
"g=9.81; //Accleration due to gravity\n",
"\n",
"Vm=Ta*a;\n",
"We=W*(1+RI);\n",
"\n",
"//Distance Covered is equal to the area under the speed time curve\n",
"Da=Vm*Ta/(2*3600); //Acceleration\n",
"Df=Vm*Tf/3600; //Free Run\n",
"\n",
"Ftf=W*(r+(10*g*G)); //Tractive effort during free run period\n",
"\n",
"Fta=We*277.8; //Tractive effort due to acceleration\n",
"\n",
"//During Coasting, The Accelrating force is equal to Tractive effort during free run\n",
"//Retardation due to coasting is \n",
"Bc=Ftf/Fta;\n",
"\n",
"V2=Vm-(Bc*Tc); //Speed of train after the coasting period\n",
"Tb=V2/B; // Braking period\n",
"\n",
"Dc=((((Vm-V2)*Tc)/2)+(V2*Tc))/3600; //Distance covered during coasting\n",
"Db=V2*Tb/(2*3600); //Distance covered during braking\n",
"\n",
"D=Da+Df+Dc+Db; //Total Distance\n",
"\n",
"D1=Da+Df; //Distance for which the energy is being spent\n",
"\n",
"SEO=(0.010726*(Vm^2)*We/(W*D))+(27.25*G*D1/D)+(0.2778*r*D1/D); //Specific Energy Output\n",
"//Note the Calculated Specific Energy Output during accleration is wrong.\n",
"\n",
"SEOa=SEO/Eff; //Actual Specific Energy Output with 75% efficieny\n",
"\n",
"printf('The Specific Energy Consumption is %g Whr/Tonne Km\n',SEOa)\n",
""
   ]
   }
,
{
		   "cell_type": "markdown",
		   "metadata": {},
		   "source": [
			"## Example 7.8: To_determine_the_weight_of_the_locomotive.sce"
		   ]
		  },
  {
"cell_type": "code",
	   "execution_count": null,
	   "metadata": {
	    "collapsed": true
	   },
	   "outputs": [],
"source": [
"//To determine the weight of the locomotive\n",
"//Page 378\n",
"clc;\n",
"clear;\n",
"Wg=300; //Weight of the train to be hauled\n",
"RI=10/100; //Rotation inertia\n",
"Ma=20/100; //Co-Efficient of adhesion\n",
"Wa=20; //Permissible Weight of axle load\n",
"r=45;\n",
"G=2;\n",
"a=1;  //Acceleration\n",
"Wl=poly(0,'Wl'); //Variable  Weight of locmotive\n",
"W=Wg+Wl; //Total Weight of the train\n",
"We=W*(1+RI);\n",
"Ft=((277.8*a*We/W)+(98.1*G)+r)*W;\n",
"\n",
"Fmax=(9.81*1000*Ma*Wl);\n",
"\n",
"X=Ft-Fmax; //Polynomial Equation to find Wl\n",
"\n",
"Wl=roots(X(2)); //Numerical Value of the Weight of the locomotive\n",
"\n",
"NoA=Wl/Wa; //Number of axles\n",
"\n",
"printf('The weight of the locomotive and the number of axles is %g tonnes and %g axles respectively\n',Wl,ceil(NoA))"
   ]
   }
,
{
		   "cell_type": "markdown",
		   "metadata": {},
		   "source": [
			"## Example 7.9: To_deduce_the_speed_current_characteristic_of_the_motor.sce"
		   ]
		  },
  {
"cell_type": "code",
	   "execution_count": null,
	   "metadata": {
	    "collapsed": true
	   },
	   "outputs": [],
"source": [
"//To deduce the speed current characteristic of the motor\n",
"//Page 380\n",
"clc;\n",
"clear;\n",
"Ia=[10,20,30,40,50,60,70]; //Current\n",
"T=[45,130,230,350,470,610,765]; //Torque\n",
"V=440; //operating voltage\n",
"r=0.5; //Armature Circuit Resistance\n",
"\n",
"N=9.55*(V-(Ia*r))./(T./Ia); //Speed\n",
"\n",
"printf('For the Given Current:\n')\n",
"disp(Ia);\n",
"printf('\nThe Speeds tabulated are:\n')\n",
"disp(N);\n",
""
   ]
   }
],
"metadata": {
		  "kernelspec": {
		   "display_name": "Scilab",
		   "language": "scilab",
		   "name": "scilab"
		  },
		  "language_info": {
		   "file_extension": ".sce",
		   "help_links": [
			{
			 "text": "MetaKernel Magics",
			 "url": "https://github.com/calysto/metakernel/blob/master/metakernel/magics/README.md"
			}
		   ],
		   "mimetype": "text/x-octave",
		   "name": "scilab",
		   "version": "0.7.1"
		  }
		 },
		 "nbformat": 4,
		 "nbformat_minor": 0
}
