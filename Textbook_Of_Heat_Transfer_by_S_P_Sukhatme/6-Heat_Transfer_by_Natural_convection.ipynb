{
"cells": [
 {
		   "cell_type": "markdown",
	   "metadata": {},
	   "source": [
       "# Chapter 6: Heat Transfer by Natural convection"
	   ]
	},
{
		   "cell_type": "markdown",
		   "metadata": {},
		   "source": [
			"## Example 6.1: Average_nusselt_number.sce"
		   ]
		  },
  {
"cell_type": "code",
	   "execution_count": null,
	   "metadata": {
	    "collapsed": true
	   },
	   "outputs": [],
"source": [
"clear;\n",
"clc;\n",
"\n",
"// A Textbook on HEAT TRANSFER by S P SUKHATME\n",
"// Chapter 6\n",
"// Heat Transfer by Natural Convection\n",
"\n",
"\n",
"// Example 6.1\n",
"// Page 258\n",
"printf('Example 6.1, Page 258 \n \n');\n",
"\n",
"H = 0.5 ; // [m]\n",
"T_h = 100; // [degree C]\n",
"T_l = 40; // [degree C]\n",
"\n",
"v = 20.02*10^-6 ; // [m/s]\n",
"Pr = 0.694; \n",
"k = 0.0297; // [W/m K]\n",
"\n",
"T = (T_h+T_l)/2 + 273 ; // [K]\n",
"printf('Mean film temperature = %f K \n',T);\n",
"B = 1/T;\n",
"\n",
"Gr = 9.81*B*((T_h-T_l)*H^3)/(v^2);\n",
"Ra = Gr*Pr;\n",
"\n",
"// (a)\n",
"// Exact analysis - Equation 6.2.17\n",
"disp('(a)');\n",
"printf('Exact analysis\n');\n",
"Nu_a = 0.64*(Gr^(1/4))*(Pr^0.5)*((0.861+Pr)^(-1/4));\n",
"printf('Nu_L = %f \n',Nu_a);\n",
"\n",
"// (b)\n",
"// Integral method - Equation 6.2.29\n",
"disp('(b)');\n",
"printf('Integral method \n');\n",
"Nu_b = 0.68*(Gr^(1/4))*(Pr^0.5)*((0.952+Pr)^(-1/4));\n",
"printf('Nu_L = %f \n',Nu_b);\n",
"\n",
"// (c)\n",
"// McAdams correlation - Equation 6.2.30\n",
"disp('(c)');\n",
"printf('McAdams correlation \n');\n",
"Nu_c = 0.59*(Ra)^(1/4);\n",
"printf('Nu_L = %f \n',Nu_c);\n",
"\n",
"// (d)\n",
"// Churchill and Chu correlation - Equation 6.2.31\n",
"disp('(d)')\n",
"printf('Churchill and Chu correlation\n');\n",
"Nu_d = 0.68 + 0.670*(Ra^(1/4))/[1+(0.492/Pr)^(9/16)]^(4/9);\n",
"printf('Nu_L = %f \n',Nu_d);"
   ]
   }
,
{
		   "cell_type": "markdown",
		   "metadata": {},
		   "source": [
			"## Example 6.2: Reduce_the_equatio.sce"
		   ]
		  },
  {
"cell_type": "code",
	   "execution_count": null,
	   "metadata": {
	    "collapsed": true
	   },
	   "outputs": [],
"source": [
"clear;\n",
"clc;\n",
"\n",
"// A Textbook on HEAT TRANSFER by S P SUKHATME\n",
"// Chapter 6\n",
"// Heat Transfer by Natural Convection\n",
"\n",
"\n",
"// Example 6.2\n",
"// Page 259\n",
"printf('Example 6.2, Page 259 \n \n');\n",
"\n",
"Tm = 150 ; // [degree C]\n",
"// From table A.2\n",
"v = 28.95*10^-6 ; // [m^2/s]\n",
"Pr = 0.683;\n",
"k = 0.0357 ; // [W/m K]\n",
"\n",
"B = 1/(273+Tm); // [K^-1]\n",
"\n",
"// from eqn 6.2.30\n",
"printf('Equation 6.2.30 \n h = k/L*0.59*[9.81*B*(Tw-Tinf)*(L^3)*0.683/(v^2)]^(1/4)\n')\n",
"// h = k/L*0.59*[9.81*B*(Tw-Tinf)*(L^3)*0.683/(v^2)]^(1/4);\n",
"// simplifying we get\n",
"// h = 1.38*[(Tw-Tinf)/L]^(1/4)\n",
"printf('Reduces to h = 1.38*[(Tw-Tinf)/L]^(1/4) \n')\n",
"\n",
"\n",
"// From eqn 6.2.33\n",
"// h*L/k = 0.10*[9.81*B*(Tw-Tinf)*(L^3)*0.683/(v^2)]^(1/3);\n",
"printf('Equation 6.2.33 \n h*L/k = 0.10*[9.81*B*(Tw-Tinf)*(L^3)*0.683/(v^2)]^(1/3) \n');\n",
"// simplifying\n",
"// h = 0.95*(Tw-Tinf)^1/3\n",
"printf('Reduces to h = 0.95*(Tw-Tinf)^1/3 \n');\n",
"\n",
"printf('where h is expressed in W/m^2 K, (Tw-Tinf) in C and L in metres \n');\n",
"\n",
"\n",
"\n",
"\n",
""
   ]
   }
,
{
		   "cell_type": "markdown",
		   "metadata": {},
		   "source": [
			"## Example 6.3: Time_for_cooling_of_plate.sce"
		   ]
		  },
  {
"cell_type": "code",
	   "execution_count": null,
	   "metadata": {
	    "collapsed": true
	   },
	   "outputs": [],
"source": [
"clear;\n",
"clc;\n",
"\n",
"// A Textbook on HEAT TRANSFER by S P SUKHATME\n",
"// Chapter 6\n",
"// Heat Transfer by Natural Convection\n",
"\n",
"\n",
"// Example 6.3\n",
"// Page 260\n",
"printf('Example 6.3, Page 260 \n \n');\n",
"\n",
"s = 0.2 ; // [m]\n",
"d = 0.005 ; // [m]\n",
"rho = 7900 ; // [kg/m^3]\n",
"Cp = 460 ; // [J/kg K]\n",
"\n",
"T_air = 20 ; // [C]\n",
"// For 430 C to 330 C\n",
"T_avg = 380 ; // [C]\n",
"Tm = (T_avg + T_air)/2 ; // [C]\n",
"\n",
"\n",
"v = 34.85*10^-6 ; // [m^2/s]\n",
"Pr = 0.680 ;\n",
"k = 0.0393 ; // [W/m K]\n",
"\n",
"Re = 9.81*1/(273+Tm)*(T_avg-T_air)*(s^3)/(v^2)*Pr;\n",
"\n",
"// From eqn 6.2.31\n",
"Nu = 0.68 + 0.670*(Re^(1/4))/[1+(0.492/Pr)^(4/9)]^(4/9);\n",
"\n",
"h = Nu*k/s; // [W/m^2 K]\n",
"t1 = rho*s*s*d*Cp/((s^2)*2*h)*log((430-T_air)/(330-T_air)); // [s]\n",
"printf('Time required for the plate to cool from 430 C to 330 C is %f s\n',t1);\n",
"\n",
"// for 330 to 230\n",
"h2 = 7.348 ; // [W/m^2 K]\n",
"t2 = rho*s*s*d*Cp/((s^2)*2*h2)*log((330-T_air)/(230-T_air)); // [s]\n",
"printf('Time required for the plate to cool from 330 C to 230 C is %f s\n',t2);\n",
"\n",
"// for 230 to 130\n",
"h3 = 6.780; // [W/m^2 K]\n",
"t3 = rho*s*s*d*Cp/((s^2)*2*h3)*log((230-T_air)/(130-T_air)); // [s]\n",
"printf('Time required for the plate to cool from 230 C to 130 C is %f s\n',t3);\n",
"\n",
"// Total time\n",
"\n",
"time = t1+t2+t3;\n",
"minute = time/60;\n",
"printf('Hence, time required for the plate to cool from 430 C to 130 C \n = %f s\n = %f min',time,minute);"
   ]
   }
,
{
		   "cell_type": "markdown",
		   "metadata": {},
		   "source": [
			"## Example 6.4: True_air_temperature.sce"
		   ]
		  },
  {
"cell_type": "code",
	   "execution_count": null,
	   "metadata": {
	    "collapsed": true
	   },
	   "outputs": [],
"source": [
"clear;\n",
"clc;\n",
"\n",
"// A Textbook on HEAT TRANSFER by S P SUKHATME\n",
"// Chapter 6\n",
"// Heat Transfer by Natural Convection\n",
"\n",
"\n",
"// Example 6.4\n",
"// Page 264\n",
"printf('Example 6.4, Page 264 \n \n');\n",
"\n",
"D = 0.006 ; // [m]\n",
"e = 0.1 ;\n",
"Ti = 800 ; // [C]\n",
"Ta = 1000 ; // [C]\n",
"// Rate at which heat gained = net radiant heat, gives h*(Ta-800) = 1306.0 ; // [W/m^2]\n",
"\n",
"// Using trial and error method\n",
"// Trial 1\n",
"printf('Trial 1 \n');\n",
"// Let Ta = 1000 degree C\n",
"printf('Let Ta = 10000 C \n');\n",
"\n",
"Tm = (Ta+Ti)/2;\n",
"// From table A.2\n",
"v = 155.1*10^-6 ; // [m^2/s]\n",
"k = 0.0763 ; // [W/m K]\n",
"Pr = 0.717 ;\n",
"\n",
"Gr = 9.81*1/1173*(200*D^3)/(v^2);\n",
"Ra = Gr*Pr ;\n",
"\n",
"// From eqn 6.3.2\n",
"Nu = 0.36 + 0.518*(Ra^(1/4))/[1+(0.559/Pr)^(9/16)]^(4/9);\n",
"h = Nu*k/D;\n",
"x = h*(Ta-Ti); // [W/m^2]\n",
"printf('Value of h(Ta-800) = %f W/m^2, which is much larger than the required value of 1306 W/m^2 \n',x);\n",
"\n",
"// Trial 2\n",
"printf('\nTrial 2 \n');\n",
"// Let Ta = 900\n",
"printf('Let Ta = 900 C \n');\n",
"Ra2 = 6.42 ;\n",
"Nu2 = 0.9841 ;\n",
"h2 = 12.15 ;\n",
"x2 = h2*(900-800);\n",
"printf('Value of h(Ta-800) = %f W/m^2, which is a little less than the required value of 1306 W/m^2 \n',x2);\n",
"\n",
"// Trial 3\n",
"printf('\nTrial 3 \n');\n",
"// Let Ta = 910 \n",
"printf('Let Ta = 910 C \n');\n",
"Ra3 = 6.93 ;\n",
"Nu3 = 0.9963 ;\n",
"h3 = 12.33 ;\n",
"x3 = h3*(910-800);\n",
"printf('Value of h(Ta-800) = %f W/m^2 \nThis value is little more than the required value of 1306 W/m^2 \n',x3);\n",
"// Interpolation\n",
"T = 900 + (910-900)*(1306-x2)/(x3-x2);\n",
"printf('\nThe correct value of Ta obtained by interpolation is %f C',T);"
   ]
   }
,
{
		   "cell_type": "markdown",
		   "metadata": {},
		   "source": [
			"## Example 6.5: Rate_of_heat_flow_by_natural_convection.sce"
		   ]
		  },
  {
"cell_type": "code",
	   "execution_count": null,
	   "metadata": {
	    "collapsed": true
	   },
	   "outputs": [],
"source": [
"clear;\n",
"clc;\n",
"\n",
"// A Textbook on HEAT TRANSFER by S P SUKHATME\n",
"// Chapter 6\n",
"// Heat Transfer by Natural Convection\n",
"\n",
"\n",
"// Example 6.5\n",
"// Page 269\n",
"printf('Example 6.5, Page 269 \n \n');\n",
"\n",
"T_p = 75 ; // Temperature of absorber plate , degree C\n",
"T_c = 55 ; // Temperature of glass cover , degree C\n",
"L = 0.025 ; // [m]\n",
"\n",
"H = 2 ; // [m]\n",
"Y = 70 ; // degree\n",
"\n",
"a = 19/180*%pi ; // [Radians]\n",
"\n",
"r = H/L ;\n",
"\n",
"T_avg = (T_p+T_c)/2+273 ; // [K]\n",
"// Properties at 65 degree C\n",
"k = 0.0294 ; // [W/m K]\n",
"v = 19.50*10^-6 ; // [m^2/s]\n",
"Pr = 0.695 ;\n",
"\n",
"Ra = 9.81*(1/T_avg)*(T_p-T_c)*(L^3)/(v^2)*Pr*cos(a);\n",
"\n",
"// From eqn 6.4.3\n",
"Nu = 0.229*(Ra)^0.252;\n",
"\n",
"h = Nu*k/L ; // [W/m^2 K]\n",
"\n",
"Rate = h*2*1*(T_p-T_c); // [W]\n",
"\n",
"printf('Heat transfer rate = %f W',Rate);\n",
""
   ]
   }
,
{
		   "cell_type": "markdown",
		   "metadata": {},
		   "source": [
			"## Example 6.6: Average_Heat_transfer_coeffficient.sce"
		   ]
		  },
  {
"cell_type": "code",
	   "execution_count": null,
	   "metadata": {
	    "collapsed": true
	   },
	   "outputs": [],
"source": [
"clear;\n",
"clc;\n",
"\n",
"// A Textbook on HEAT TRANSFER by S P SUKHATME\n",
"// Chapter 6\n",
"// Heat Transfer by Natural Convection\n",
"\n",
"\n",
"// Example 6.6\n",
"// Page 270\n",
"printf('Example 6.6, Page 270 \n \n');\n",
"\n",
"T_air = 30 ; // [C]\n",
"D = 0.04 ; // [m]\n",
"T_s = 70 ; // surface temperature, [C]\n",
"V = 0.3 ; // [m/s]\n",
"\n",
"Tm = (T_air + T_s)/2 ; // [C]\n",
"// Properties at Tm\n",
"v = 17.95*10^-6 ; // [m^2/s]\n",
"Pr = 0.698 ;\n",
"k = 0.0283 ; // [W/m K]\n",
"\n",
"Gr = 9.81*1/323*(T_s-T_air)*(D^3)/v^2;\n",
"Re = V*D/v ; \n",
"X = Gr/Re^2 ; \n",
"printf('Since Gr/Re^2 = %f is > 0.2, we have a combined convection situation. \n\n',X);\n",
"\n",
"// From Eqn 5.9.8\n",
"Nu_forced = 0.3 + 0.62*(Re^0.5)*(Pr^(1/3))/[[1+(0.4/Pr)^(2/3)]^(1/4)]*[1+(Re/282000)^(5/8)]^(4/5);\n",
"\n",
"// Substituting in Eqn 6.5.1\n",
"Nu = Nu_forced*[1+6.275*(X)^(7/4)]^(1/7);\n",
"h = Nu*(k/D);\n",
"printf('The Average heat transfer coefficient = %f W/m^2 K',h);"
   ]
   }
],
"metadata": {
		  "kernelspec": {
		   "display_name": "Scilab",
		   "language": "scilab",
		   "name": "scilab"
		  },
		  "language_info": {
		   "file_extension": ".sce",
		   "help_links": [
			{
			 "text": "MetaKernel Magics",
			 "url": "https://github.com/calysto/metakernel/blob/master/metakernel/magics/README.md"
			}
		   ],
		   "mimetype": "text/x-octave",
		   "name": "scilab",
		   "version": "0.7.1"
		  }
		 },
		 "nbformat": 4,
		 "nbformat_minor": 0
}
