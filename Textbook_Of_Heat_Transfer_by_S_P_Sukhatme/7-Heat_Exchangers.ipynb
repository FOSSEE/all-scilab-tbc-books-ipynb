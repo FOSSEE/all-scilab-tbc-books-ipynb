{
"cells": [
 {
		   "cell_type": "markdown",
	   "metadata": {},
	   "source": [
       "# Chapter 7: Heat Exchangers"
	   ]
	},
{
		   "cell_type": "markdown",
		   "metadata": {},
		   "source": [
			"## Example 7.1: Heat_transfer_coeffficient.sce"
		   ]
		  },
  {
"cell_type": "code",
	   "execution_count": null,
	   "metadata": {
	    "collapsed": true
	   },
	   "outputs": [],
"source": [
"clear;\n",
"clc;\n",
"\n",
"// A Textbook on HEAT TRANSFER by S P SUKHATME\n",
"// Chapter 7\n",
"// Heat Exchangers\n",
"\n",
"\n",
"// Example 7.1\n",
"// Page 285\n",
"printf('Example 7.1, Page 285 \n \n');\n",
"\n",
"h = 2000 ; // [W/m^2 K]\n",
"// From Table 7.1\n",
"U_f = 0.0001 ; // fouling factor, m^2K/W\n",
"h_f = 1/[1/h+U_f];\n",
"printf('Heat transfer coefficient including the effect of foulung = %f W/m^2 K \n',h_f);\n",
"\n",
"p = (h-h_f)/h*100;\n",
"printf('Percentage reduction = %f  \n',p);"
   ]
   }
,
{
		   "cell_type": "markdown",
		   "metadata": {},
		   "source": [
			"## Example 7.2: Area_of_heat_exchanger.sce"
		   ]
		  },
  {
"cell_type": "code",
	   "execution_count": null,
	   "metadata": {
	    "collapsed": true
	   },
	   "outputs": [],
"source": [
"clear;\n",
"clc;\n",
"\n",
"// A Textbook on HEAT TRANSFER by S P SUKHATME\n",
"// Chapter 7\n",
"// Heat Exchangers\n",
"\n",
"\n",
"// Example 7.2\n",
"// Page 294\n",
"printf('Example 7.2, Page 294 \n \n');\n",
"\n",
"m = 1000 ; // [kg/h]\n",
"Thi = 50 ; // [C]\n",
"The = 40 ; // [C]\n",
"Tci = 35 ; // [C]\n",
"Tce = 40 ; // [C]\n",
"U = 1000 ; // OHTC, W/m^2 K\n",
"\n",
"// Using Eqn 7.5.25\n",
"q = m/3600*4174*(Thi-The) ; // [W]\n",
"\n",
"delta_T = ((Thi-Tce)-(The-Tci))/log((Thi-Tce)/(The-Tci)); // [C]\n",
"printf('delta T = %f \n\n',delta_T);\n",
"\n",
"// T1 = Th and T2 = Tc\n",
"R = (Thi-The)/(Tce-Tci) ;\n",
"S = (Tce-Tci)/(Thi-Tci) ;\n",
"// From fig 7.15,\n",
"F =0.91 ;\n",
"\n",
"printf('Taking T1 = Th and T2 = Tc \n')\n",
"printf('R = %f, S = %f \n',R,S);\n",
"printf('Hence, F = %f \n \n',F);\n",
"\n",
"// Alternatively, taking T1 = Tc and T2 = Th\n",
"R = (Tci-Tce)/(The-Thi);\n",
"S = (The-Thi)/(Tci-Thi);\n",
"\n",
"// Again from fig 7.15,\n",
"F =0.91 ;\n",
"\n",
"printf('Taking T1 = Tc and T2 = Th \n')\n",
"printf('R = %f, S = %f \n',R,S);\n",
"printf('Hence, F = %f \n',F);\n",
"\n",
"A = q/(U*F*delta_T);\n",
"printf('\nArea = %f m^2',A);"
   ]
   }
,
{
		   "cell_type": "markdown",
		   "metadata": {},
		   "source": [
			"## Example 7.3: Mean_temperature_difference.sce"
		   ]
		  },
  {
"cell_type": "code",
	   "execution_count": null,
	   "metadata": {
	    "collapsed": true
	   },
	   "outputs": [],
"source": [
"clear;\n",
"clc;\n",
"\n",
"// A Textbook on HEAT TRANSFER by S P SUKHATME\n",
"// Chapter 7\n",
"// Heat Exchangers\n",
"\n",
"\n",
"// Example 7.3\n",
"// Page 295\n",
"printf('Example 7.3, Page 295 \n \n');\n",
"\n",
"// Because of change of phase , Thi = The\n",
"Thi = 100 ; // [C], Saturated steam\n",
"The = 100 ; // [C], Condensed steam\n",
"Tci = 30 ; // [C], Cooling water inlet\n",
"Tce = 70 ; // [C], cooling water outlet\n",
"\n",
"R = (Thi-The)/(Tce-Tci) ;\n",
"S = (Tce-Tci)/(Thi-Tci) ;\n",
"\n",
"// From fig 7.16\n",
"F = 1;\n",
"\n",
"// For counter flow arrangement\n",
"Tm_counter = ((Thi-Tce)-(The-Tci))/log((Thi-Tce)/(The-Tci)); // [C]\n",
"// Therefore\n",
"Tm = F*Tm_counter ;\n",
"printf('Mean Temperaature Difference = %f C',Tm)"
   ]
   }
,
{
		   "cell_type": "markdown",
		   "metadata": {},
		   "source": [
			"## Example 7.4_a: Area_of_heat_exchanger.sce"
		   ]
		  },
  {
"cell_type": "code",
	   "execution_count": null,
	   "metadata": {
	    "collapsed": true
	   },
	   "outputs": [],
"source": [
"clear;\n",
"clc;\n",
"\n",
"// A Textbook on HEAT TRANSFER by S P SUKHATME\n",
"// Chapter 7\n",
"// Heat Exchangers\n",
"\n",
"\n",
"// Example 7.4(a)\n",
"// Page 302\n",
"printf('Example 7.4(a), Page 302 \n \n');\n",
"\n",
"// (a)\n",
"printf('(a) \n');\n",
"// Using Mean Temperature Difference approach\n",
"m_hot = 10 ; // [kg/min]\n",
"m_cold = 25 ; // [kg/min]\n",
"hh = 1600 ; // [W/m^2 K], Heat transfer coefficient on hot side\n",
"hc = 1600 ; // [W/m^2 K], Heat transfer coefficient on cold side\n",
"\n",
"Thi = 70 ; // [C]\n",
"Tci = 25 ; // [C]\n",
"The = 50 ; // [C]\n",
"\n",
"// Heat Transfer Rate, q\n",
"q = m_hot/60*4179*(Thi-The); // [W]\n",
"\n",
"// Heat gained by cold water = heat lost by the hot water\n",
"Tce = 25 + q*1/(m_cold/60*4174); // [C]\n",
"\n",
"// Using equation 7.5.13\n",
"Tm = ((Thi-Tci)-(The-Tce))/log((Thi-Tci)/(The-Tce)); // [C]\n",
"printf('Mean Temperature Difference = %f C \n',Tm);\n",
"\n",
"U = 1/(1/hh + 1/hc); // [W/m^2 K]\n",
"A = q/(U*Tm); // Area, [m^2]\n",
"printf('Area of Heat Exchanger = %f m^2 \n',A);"
   ]
   }
,
{
		   "cell_type": "markdown",
		   "metadata": {},
		   "source": [
			"## Example 7.4_b: Exit_temperature_of_hot_and_cold_streams.sce"
		   ]
		  },
  {
"cell_type": "code",
	   "execution_count": null,
	   "metadata": {
	    "collapsed": true
	   },
	   "outputs": [],
"source": [
"clear;\n",
"clc;\n",
"\n",
"// A Textbook on HEAT TRANSFER by S P SUKHATME\n",
"// Chapter 7\n",
"// Heat Exchangers\n",
"\n",
"\n",
"// Example 7.4(b)\n",
"// Page 302\n",
"printf('Example 7.4(b), Page 302 \n \n');\n",
"\n",
"// Using Mean Temperature Difference approach\n",
"m_hot = 10 ; // [kg/min]\n",
"m_cold = 25 ; // [kg/min]\n",
"hh = 1600 ; // [W/m^2 K], Heat transfer coefficient on hot side\n",
"hc = 1600 ; // [W/m^2 K], Heat transfer coefficient on cold side\n",
"\n",
"Thi = 70 ; // [C]\n",
"Tci = 25 ; // [C]\n",
"The = 50 ; // [C]\n",
"\n",
"// Heat Transfer Rate, q\n",
"q = m_hot/60*4179*(Thi-The); // [W]\n",
"\n",
"// Heat gained by cold water = heat lost by the hot water\n",
"Tce = 25 + q*1/(m_cold/60*4174); // [C]\n",
"\n",
"// Using equation 7.5.13\n",
"Tm = ((Thi-Tci)-(The-Tce))/log((Thi-Tci)/(The-Tce)); // [C]\n",
"U = 1/(1/hh + 1/hc); // [W/m^2 K]\n",
"A = q/(U*Tm); // Area, [m^2]\n",
"\n",
"m_hot = 20 ; // [kg/min]\n",
"// Flow rate on hot side i.e. 'hh' is doubled\n",
"hh = 1600*2^0.8 ; // [W/m^2 K]\n",
"U = 1/(1/hh + 1/hc); // [W/m^2 K]\n",
"m_hC_ph =  m_hot/60*4179 ; // [W/K]\n",
"m_cC_pc = m_cold/60*4174 ; // [W/K]\n",
"// Therefore\n",
"C = m_hC_ph/m_cC_pc ;\n",
"NTU = U*A/m_hC_ph ;\n",
"printf('NTU = %f \n',NTU);\n",
"\n",
"// From equation 7.6.8\n",
"e = [1 - exp(-(1+C)*NTU)]/(1+C) ;\n",
"\n",
"// Therefore (Thi - The)/(Thi - Tci) = e , we get\n",
"The = Thi - e*(Thi - Tci); // [C]\n",
"\n",
"// Equating the heat lost by water to heat gained by cold water , we get\n",
"Tce = Tci + [m_hC_ph*(Thi-The)]/m_cC_pc;\n",
"printf('Exit temperature of cold and hot stream are %f C and %f C respectively.',Tce,The);\n",
""
   ]
   }
,
{
		   "cell_type": "markdown",
		   "metadata": {},
		   "source": [
			"## Example 7.5: Exit_Temperature.sce"
		   ]
		  },
  {
"cell_type": "code",
	   "execution_count": null,
	   "metadata": {
	    "collapsed": true
	   },
	   "outputs": [],
"source": [
"clear;\n",
"clc;\n",
"\n",
"// A Textbook on HEAT TRANSFER by S P SUKHATME\n",
"// Chapter 7\n",
"// Heat Exchangers\n",
"\n",
"\n",
"// Example 7.5\n",
"// Page 304\n",
"printf('Example 7.5, Page 304 \n \n');\n",
"\n",
"mc = 2000 ; // [kg/h]\n",
"Tce = 40 ; // [C]\n",
"Tci = 15 ; // [C]\n",
"Thi = 80 ; // [C]\n",
"U = 50 ; // OHTC, [W/m^2 K]\n",
"A = 10 ; // Area, [m^2]\n",
"\n",
"// Using effective NTU method\n",
"// Assuming m_c*C_pc = (m*C_p)s\n",
"NTU = U*A/(mc*1005/3600);\n",
"e = (Tce-Tci)/(Thi-Tci);\n",
"// From fig 7.23, no value of C is found corresponding to the above values, hence assumption was wrong.\n",
"// So, m_h*C_ph must be equal to (m*C_p)s, proceeding by trail and error method\n",
"\n",
"\n",
"printf('m_h(kg/h      NTU      C        e        T_he(C)       T_he(C) (Heat Balance)');\n",
" \n",
"mh = rand(1:5);\n",
"NTU = rand(1:5);\n",
"The = rand(1:5);\n",
"The2 = rand(1:5);\n",
"\n",
"mh(1) = 200\n",
"NTU(1) = U*A/(mh(1)*1.161);\n",
"//Corresponding Values of C and e from fig 7.23\n",
"C = .416;\n",
"e = .78;\n",
"//From Equation 7.6.2 Page 297\n",
"The(1) = Thi - e*(Thi-Tci)\n",
"//From Heat Balance\n",
"The2(1) = Thi -  mc*1005/3600*(Tce-Tci)/(mh(1)*1.161);\n",
"printf('\n\n   %i     %.3f      %.3f      %.3f      %.2f       %.2f',mh(1),NTU(1),C,e,The(1),The2(1));\n",
"\n",
"mh(2) = 250\n",
"NTU(2) = U*A/(mh(2)*1.161);\n",
"//Corresponding Values of C and e from fig 7.23\n",
"C = .520;\n",
"e = .69;\n",
"//From Equation 7.6.2 Page 297\n",
"The(2) = Thi - e*(Thi-Tci)\n",
"//From Heat Balance\n",
"The2(2) = Thi -  mc*1005/3600*(Tce-Tci)/(mh(2)*1.161);\n",
"printf('\n\n   %i     %.3f      %.3f      %.3f      %.2f       %.2f',mh(2),NTU(2),C,e,The(2),The2(2));\n",
"\n",
"mh(3) = 300\n",
"NTU(3) = U*A/(mh(3)*1.161);\n",
"//Corresponding Values of C and e from fig 7.23\n",
"C = .624;\n",
"e = .625;\n",
"//From Equation 7.6.2 Page 297\n",
"The(3) = Thi - e*(Thi-Tci)\n",
"//From Heat Balance\n",
"The2(3) = Thi -  mc*1005/3600*(Tce-Tci)/(mh(3)*1.161);\n",
"printf('\n\n   %i     %.3f      %.3f      %.3f      %.2f       %.2f',mh(3),NTU(3),C,e,The(3),The2(3));\n",
"\n",
"mh(4) = 350\n",
"NTU(4) = U*A/(mh(4)*1.161);\n",
"//Corresponding Values of C and e from fig 7.23\n",
"C = .728;\n",
"e = .57;\n",
"//From Equation 7.6.2 Page 297\n",
"The(4) = Thi - e*(Thi-Tci)\n",
"//From Heat Balance\n",
"The2(4) = Thi -  mc*1005/3600*(Tce-Tci)/(mh(4)*1.161);\n",
"printf('\n\n   %i     %.3f      %.3f      %.3f      %.2f       %.2f',mh(4),NTU(4),C,e,The(4),The2(4));\n",
"\n",
"mh(5) = 400\n",
"NTU(5) = U*A/(mh(5)*1.161);\n",
"//Corresponding Values of C and e from fig 7.23\n",
"C = .832;\n",
"e = .51;\n",
"//From Equation 7.6.2 Page 297\n",
"The(5) = Thi - e*(Thi-Tci)\n",
"//From Heat Balance\n",
"The2(5) = Thi -  mc*1005/3600*(Tce-Tci)/(mh(5)*1.161);\n",
"printf('\n\n   %i     %.3f      %.3f      %.3f      %.2f       %.2f',mh(5),NTU(5),C,e,The(5),The2(5));\n",
"\n",
"clf();\n",
"plot(mh,The,mh,The2,[295 295 200],[0 39.2 39.2])\n",
"xtitle('The vs mh','mh (kg/hr)','The (C)');\n",
"printf('\n\n From the plot, value of mh = 295 kg/hr and correspondingly The = 39.2 C')"
   ]
   }
],
"metadata": {
		  "kernelspec": {
		   "display_name": "Scilab",
		   "language": "scilab",
		   "name": "scilab"
		  },
		  "language_info": {
		   "file_extension": ".sce",
		   "help_links": [
			{
			 "text": "MetaKernel Magics",
			 "url": "https://github.com/calysto/metakernel/blob/master/metakernel/magics/README.md"
			}
		   ],
		   "mimetype": "text/x-octave",
		   "name": "scilab",
		   "version": "0.7.1"
		  }
		 },
		 "nbformat": 4,
		 "nbformat_minor": 0
}
