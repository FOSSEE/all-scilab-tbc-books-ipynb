{
"cells": [
 {
		   "cell_type": "markdown",
	   "metadata": {},
	   "source": [
       "# Chapter 1: Introduction"
	   ]
	},
{
		   "cell_type": "markdown",
		   "metadata": {},
		   "source": [
			"## Example 1.1: Viscosity_in_SI_system.sce"
		   ]
		  },
  {
"cell_type": "code",
	   "execution_count": null,
	   "metadata": {
	    "collapsed": true
	   },
	   "outputs": [],
"source": [
"clear;\n",
"clc;\n",
"// A Textbook on HEAT TRANSFER by S P SUKHATME\n",
"// Chapter 1\n",
"// Introduction\n",
"\n",
"\n",
"// Example 1.1 \n",
"// Page 5\n",
"// Given that the viscosity of water at 100 degree Celsius is 28.8 * 10^-6 kgf s/m^2 in MKS system , express this value in SI system.\n",
"printf('Example 1.1, Page 5 \n \n')\n",
"\n",
"// Solution:\n",
"\n",
"//at 100 degree Celsius\n",
"v1=28.8 * 10^-6; // [kgf s/m^2] \n",
"v2=28.8 * 10^-6 * 9.8; // [N s/m^2]\n",
"printf('Viscosity of water at 100 degree celsius in the SI system is %e N.s/m^-2 (or kg/m s)',v2)"
   ]
   }
,
{
		   "cell_type": "markdown",
		   "metadata": {},
		   "source": [
			"## Example 1.2: Useful_heat_gain_and_thermal_efficiency.sce"
		   ]
		  },
  {
"cell_type": "code",
	   "execution_count": null,
	   "metadata": {
	    "collapsed": true
	   },
	   "outputs": [],
"source": [
"clear;\n",
"clc;\n",
"// Textbook of Heat Transfer(4th Edition)) , S P Sukhatme\n",
"// Chapter 1 - Introduction\n",
"\n",
"//Example 1.2\n",
"// Page 14\n",
"printf('Example 1.2, Page 14 \n \n')\n",
"//Solution:\n",
"i=950; // radiation flux [W/m^2]\n",
"A=1.5; // area [m^2]\n",
"T_i=61; // inlet temperature\n",
"T_o=69; // outlet temperature\n",
"mdot=1.5; // [kg/min] , mass flow rate\n",
"Mdot=1.5/60; // [kg/sec]\n",
"Q_conductn=50; //[W]\n",
"t=0.95; // transmissivity\n",
"a=0.97;// absoptivity\n",
"// from appendix table A.1 at 65 degree C\n",
"C_p= 4183 ; // [J/kg K]\n",
"// Using Equation 1.4.15 , assuming that the flow through the tubes is steady and one dimensional.\n",
"// in this case (dW/dt)_shaft = 0\n",
"// assuming (dW/dt)_shear is negligible\n",
"// eqn(1.4.15) reduces to\n",
"q=Mdot*C_p*(T_o-T_i);\n",
"\n",
"// let 'n' be thermal efficiency\n",
"n=q/(i*A);\n",
"n_percent=n*100;\n",
"\n",
"\n",
"// equation 1.4.13 yields dQ/dt = 0\n",
"Q_re_radiated=(i*A*t*a)-Q_conductn-q; // [W]\n",
"\n",
"\n",
"printf('Useful heat gain rate is %f W \n',q);\n",
"printf('Thermal efficiency is %e i.e. %f per cent \n',n,n_percent);\n",
"printf('The rate at which energy is lost by re-radiation and convection is %f W',Q_re_radiated)"
   ]
   }
,
{
		   "cell_type": "markdown",
		   "metadata": {},
		   "source": [
			"## Example 1.3: Exit_velocity_and_Temperature.sce"
		   ]
		  },
  {
"cell_type": "code",
	   "execution_count": null,
	   "metadata": {
	    "collapsed": true
	   },
	   "outputs": [],
"source": [
"clear;\n",
"clc;\n",
"// A Textbook on HEAT TRANSFER by S P SUKHATME\n",
"// Chapter 1\n",
"// Introduction\n",
"\n",
"\n",
"//Example 1.3\n",
"// Page 16\n",
"printf('Example 1.3, Page 16\n\n');\n",
"\n",
"//Solution:\n",
"// Given\n",
"v_i=10; // [m/s]\n",
"q=1000; // [W]\n",
"d_i=0.04; // [m]\n",
"d_o=0.06; // [m]\n",
"\n",
"// From appendix table A.2\n",
"rho1=0.946; // [kg/m^3] at 100 degree C\n",
"C_p=1009; // [J/kg K]\n",
"\n",
"mdot=rho1*(%pi/4)*(d_i^2)*v_i; // [kg/s]\n",
"\n",
"\n",
"// In this case (dW/dt)_shaft=0 and (z_o - z_i)=0\n",
"// From eqn 1.4.15 , q=mdot*(h_o-h_i)\n",
"// Let dh = (h_o-h_i)\n",
"dh=q/mdot; // [J/kg]\n",
"// Let T_o be the outlet temperature\n",
"T_o=dh/C_p+100;\n",
"\n",
"rho2=0.773; // [kg/m^3] at T_o = 183.4 degree C\n",
"// From eqn 1.4.6\n",
"v_o=mdot/(rho2*(%pi/4)*(d_o)^2); // [m/s]\n",
"\n",
"dKE_kg=(v_o^2-v_i^2)/2; // [J/kg]\n",
"\n",
"\n",
"printf('Exit Temperature is %f degree C \n',T_o);\n",
"printf('Exit velocity is %f m/s \n',v_o);\n",
"printf('Change in Kinetic Energy per kg = %f J/kg',dKE_kg);"
   ]
   }
],
"metadata": {
		  "kernelspec": {
		   "display_name": "Scilab",
		   "language": "scilab",
		   "name": "scilab"
		  },
		  "language_info": {
		   "file_extension": ".sce",
		   "help_links": [
			{
			 "text": "MetaKernel Magics",
			 "url": "https://github.com/calysto/metakernel/blob/master/metakernel/magics/README.md"
			}
		   ],
		   "mimetype": "text/x-octave",
		   "name": "scilab",
		   "version": "0.7.1"
		  }
		 },
		 "nbformat": 4,
		 "nbformat_minor": 0
}
