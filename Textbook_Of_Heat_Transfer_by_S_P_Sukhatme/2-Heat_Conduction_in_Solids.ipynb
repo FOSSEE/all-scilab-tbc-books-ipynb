{
"cells": [
 {
		   "cell_type": "markdown",
	   "metadata": {},
	   "source": [
       "# Chapter 2: Heat Conduction in Solids"
	   ]
	},
{
		   "cell_type": "markdown",
		   "metadata": {},
		   "source": [
			"## Example 2.10_i: Heat_transfer_coefficient_at_the_centre.sce"
		   ]
		  },
  {
"cell_type": "code",
	   "execution_count": null,
	   "metadata": {
	    "collapsed": true
	   },
	   "outputs": [],
"source": [
"clear;\n",
"clc;\n",
"\n",
"// A Textbook on HEAT TRANSFER by S P SUKHATME\n",
"// Chapter 2\n",
"// Heat Conduction in Solids\n",
"\n",
"// Example 2.10(i)\n",
"// Page 58\n",
"printf('Example 2.10(i), Page 58 \n\n')\n",
"\n",
"// Centre of the slab\n",
"// Given data\n",
"b = 0.005 ; // [m]\n",
"t = 5*60; // time, [sec]\n",
"Th = 200 ; // [C]\n",
"Tw = 20 ; // [C]\n",
"h = 150 ; // [W/m^2 K]\n",
"rho = 2200 ; //[kg/m^3]\n",
"Cp = 1050 ; // [J/kg K]\n",
"k = 0.4 ; // [W/m K]\n",
"// Using charts in fig 2.18 and 2.19 and eqn 2.7.19 and 2.7.20\n",
"\n",
"theta = Th - Tw;\n",
"Biot_no = h*b/k;\n",
"a = k/(rho*Cp); // alpha\n",
"Fourier_no = a*t/b^2;\n",
"\n",
"// From fig 2.18, ratio = theta_x_b0/theta_o \n",
"ratio_b0 = 0.12;\n",
"// From fig 2.18, ratio = theta_x_b1/theta_o \n",
"ratio_b1 = 0.48;\n",
"\n",
"// Therefore\n",
"theta_x_b0 = theta*ratio_b0; // [C]\n",
"T_x_b0 = theta_x_b0 + Tw ; // [C]\n",
"theta_x_b1 = theta*ratio_b1; // [C]\n",
"T_x_b1 = theta_x_b1 + Tw ; // [C]\n",
"\n",
"// From Table 2.2 for Bi = 1.875\n",
"lambda_1_b = 1.0498;\n",
"x = 2*sin(lambda_1_b)/[lambda_1_b+(sin(lambda_1_b))*(cos(lambda_1_b))];\n",
"\n",
"// From eqn 2.7.20\n",
"theta_x_b0 = theta*x*(exp((-lambda_1_b^2)*Fourier_no));\n",
"T_x_b0 = theta_x_b0 + Tw;\n",
"printf('Temperature at b=0 is %f degree C\n',T_x_b0);\n",
""
   ]
   }
,
{
		   "cell_type": "markdown",
		   "metadata": {},
		   "source": [
			"## Example 2.10_ii: heat_transfer_coefficient_at_the_surface.sce"
		   ]
		  },
  {
"cell_type": "code",
	   "execution_count": null,
	   "metadata": {
	    "collapsed": true
	   },
	   "outputs": [],
"source": [
"clear;\n",
"clc;\n",
"\n",
"// A Textbook on HEAT TRANSFER by S P SUKHATME\n",
"// Chapter 2\n",
"// Heat Conduction in Solids\n",
"\n",
"// Example 2.10(ii)\n",
"// Page 58\n",
"printf('Example 2.10(ii), Page 58 \n\n')\n",
"\n",
"// (ii) Surface of the slab\n",
"\n",
"b = 0.005 ; // [m]\n",
"t = 5*60; // time, [sec]\n",
"Th = 200 ; // [C]\n",
"Tw = 20 ; // [C]\n",
"h = 150 ; // [W/m^2 K]\n",
"rho = 2200 ; //[kg/m^3]\n",
"Cp = 1050 ; // [J/kg K]\n",
"k = 0.4 ; // [W/m K]\n",
"// Using charts in fig 2.18 and 2.19 and eqn 2.7.19 and 2.7.20\n",
"theta = Th - Tw;\n",
"Biot_no = h*b/k;\n",
"a = k/(rho*Cp); // alpha\n",
"Fourier_no = a*t/b^2;\n",
"\n",
"// From fig 2.18, ratio = theta_x_b0/theta_o \n",
"ratio_b0 = 0.12;\n",
"// From fig 2.18, ratio = theta_x_b1/theta_o \n",
"ratio_b1 = 0.48;\n",
"\n",
"// Therefore\n",
"theta_x_b0 = theta*ratio_b0; // [C]\n",
"T_x_b0 = theta_x_b0 + Tw ; // [C]\n",
"theta_x_b1 = theta*ratio_b1; // [C]\n",
"T_x_b1 = theta_x_b1 + Tw ; // [C]\n",
"\n",
"// From Table 2.2 for Bi = 1.875\n",
"lambda_1_b = 1.0498;\n",
"x = 2*sin(lambda_1_b)/[lambda_1_b+(sin(lambda_1_b))*(cos(lambda_1_b))];\n",
"\n",
"// From 2.7.19\n",
"theta_x_b1 = theta_x_b0*(cos(lambda_1_b*1));\n",
"T_x_b1 = theta_x_b1 + Tw;\n",
"printf('Temperature at b=1 is %f degree C\n',T_x_b1);"
   ]
   }
,
{
		   "cell_type": "markdown",
		   "metadata": {},
		   "source": [
			"## Example 2.11_a: Time_taken_by_the_centre_of_ball.sce"
		   ]
		  },
  {
"cell_type": "code",
	   "execution_count": null,
	   "metadata": {
	    "collapsed": true
	   },
	   "outputs": [],
"source": [
"clear;\n",
"clc;\n",
"\n",
"// A Textbook on HEAT TRANSFER by S P SUKHATME\n",
"// Chapter 2\n",
"// Heat Conduction in Solids\n",
"\n",
"// Example 2.11(a)\n",
"// Page 65\n",
"printf('Example 2.11(a), Page 65 \n\n')\n",
"\n",
"D = 0.05 ; // [m]\n",
"To = 450 ; // [degree C]\n",
"Tf = 90 ; // [degree C]\n",
"T = 150 ; // [degree c]\n",
"h = 115 ; // [W/m^2 K]\n",
"rho = 8000 ; // [kg/m^3]\n",
"Cp = 0.42*1000 ; // [J/kg K]\n",
"k = 46 ; // [W/m K]\n",
"R = D/2;\n",
"\n",
"// (a)\n",
"// From eqn 2.7.3 for a sphere\n",
"t1 = rho*Cp*R/(3*h)*log((To-Tf)/(T-Tf)); // [sec]\n",
"t1_min = t1/60 ; // [min]\n",
"printf('Time taken by the centre of the ball to reach 150 degree C if internal gradients are neglected is %f seconds i.e. %f minutes \n',t1,t1_min);"
   ]
   }
,
{
		   "cell_type": "markdown",
		   "metadata": {},
		   "source": [
			"## Example 2.11_b: time_taken_by_the_centre_of_ball_to_reach_temperature.sce"
		   ]
		  },
  {
"cell_type": "code",
	   "execution_count": null,
	   "metadata": {
	    "collapsed": true
	   },
	   "outputs": [],
"source": [
"clear;\n",
"clc;\n",
"\n",
"// A Textbook on HEAT TRANSFER by S P SUKHATME\n",
"// Chapter 2\n",
"// Heat Conduction in Solids\n",
"\n",
"// Example 2.11(b)\n",
"// Page 65\n",
"printf('Example 2.11(b), Page 65 \n\n')\n",
"\n",
"D = 0.05 ; // [m]\n",
"To = 450 ; // [degree C]\n",
"Tf = 90 ; // [degree C]\n",
"T = 150 ; // [degree c]\n",
"h = 115 ; // [W/m^2 K]\n",
"rho = 8000 ; // [kg/m^3]\n",
"Cp = 0.42*1000 ; // [J/kg K]\n",
"k = 46 ; // [W/m K]\n",
"R = D/2;\n",
"\n",
"// (b)\n",
"// let ratio = theta_R_0/theta_o\n",
"ratio = (T-Tf)/(To - Tf);\n",
"Bi = h*R/k;\n",
"// From Table 2.5\n",
"lambda_1_R = 0.430;\n",
"x = 2*[sin(lambda_1_R) - lambda_1_R*cos(lambda_1_R)]/[lambda_1_R - sin(lambda_1_R)*cos(lambda_1_R)];\n",
"\n",
"// Substituting in equattion 2.7.29, we have an equation in variable y(=at/R^2) \n",
"// Solving\n",
"function[eqn] = parameter(y)   \n",
"eqn = ratio - x*exp(-(lambda_1_R^2)*(y));\n",
"funcprot(0);\n",
"endfunction\n",
"\n",
"y = 5; // (initial guess, assumed value for fsolve function)\n",
"Y = fsolve(y,parameter);\n",
"\n",
"a = k/(Cp*rho); // alpha\n",
"t2 = Y*(R^2)/(a); // [sec]\n",
"t2_min = t2/60; // [min]\n",
"printf('Time taken by the centre of the ball to reach 150 degree C if internal temperature gradients are not neglected is %f seconds i.e. %f minutes',t2,t2_min);"
   ]
   }
,
{
		   "cell_type": "markdown",
		   "metadata": {},
		   "source": [
			"## Example 2.12: Temperature_at_the_centre_of_the_brick.sce"
		   ]
		  },
  {
"cell_type": "code",
	   "execution_count": null,
	   "metadata": {
	    "collapsed": true
	   },
	   "outputs": [],
"source": [
"clear ;\n",
"clc;\n",
"\n",
"// A Textbook on HEAT TRANSFER by S P SUKHATME\n",
"// Chapter 2\n",
"// Heat Conduction in Solids\n",
"\n",
"// Example 2.12\n",
"// Page 67\n",
"printf('Example 2.12, Page 67 \n\n')\n",
"\n",
"a = 0.12 ; // [m]\n",
"\n",
"T = 400 ; // [C]\n",
"To = 25 ; //[C]\n",
"t = 100/60 ; // [hour]\n",
"h = 10 ; // [W/m^2 K]\n",
"k = 1.0 ; // [W/m K]\n",
"alpha = 3.33*10^-3 ; // [m^2/h]\n",
"// using fig 2.18 and eqn 2.7.20\n",
"\n",
"x1 = h*a/k ;\n",
"x2 = k/(h*a);\n",
"x3 = alpha*t/a^2;\n",
"\n",
"// Let ratio_x = theta/theta_o for x direction, from fig 2.18\n",
"ratio_x = 0.82 ;\n",
"\n",
"// Similarly, for y direction\n",
"ratio_y = 0.41;\n",
"\n",
"// Similarly, for z direction\n",
"ratio_z = 0.30;\n",
"\n",
"// Therefore\n",
"total_ratio = ratio_x*ratio_y*ratio_z ;\n",
"\n",
"T_centre = To + total_ratio*(T-To) ; // [degree C]\n",
"printf('Temperature at the centre of the brick = %f degree C \n\n',T_centre);\n",
"\n",
"// Alternatively\n",
"printf('Alternatively, obtaining Biot number and values of lambda_1_b and using eqn 2.7.20, we get \n')\n",
"\n",
"ratio_x = 1.1310*exp(-(0.9036^2)*0.385);\n",
"ratio_y = 1.0701*exp(-(0.6533^2)*2.220);\n",
"ratio_z = 1.0580*exp(-(0.5932^2)*3.469);\n",
"ratio = ratio_x*ratio_y*ratio_z;\n",
"\n",
"T_centre = To + total_ratio*(T-To) ; // [degree C]\n",
"printf('Temperature at the centre of the brick = %f degree C \n',T_centre);"
   ]
   }
,
{
		   "cell_type": "markdown",
		   "metadata": {},
		   "source": [
			"## Example 2.13_a: Temperature_at_the_copper_fin_tip.sce"
		   ]
		  },
  {
"cell_type": "code",
	   "execution_count": null,
	   "metadata": {
	    "collapsed": true
	   },
	   "outputs": [],
"source": [
"clear;\n",
"clc;\n",
"\n",
"// A Textbook on HEAT TRANSFER by S P SUKHATME\n",
"// Chapter 2\n",
"// Heat Conduction in Solids\n",
"\n",
"// Example 2.13(a)\n",
"// Page 73\n",
"printf('Example 2.13(a), Page 73 \n\n')\n",
"\n",
"D = 0.003 ; // [m]\n",
"L = 0.03 ; // [m]\n",
"h = 10 ; // [W/m^2]\n",
"Tf = 20 ; // [C]\n",
"T1 = 120 ; // [C]\n",
"\n",
"// (a) Copper fin\n",
"k = 350 ; // [W/m K]\n",
"\n",
"// For a circular cross section\n",
"m = [4*h/(k*D)]^(1/2);\n",
"mL = m*0.03 ;\n",
"// T at x = L\n",
"T = Tf + (T1-Tf)/cosh(m*L);\n",
"printf('mL = %f \n',mL);\n",
"printf('Temperature at the tip of fin made of copper is %f degree C \n',T);"
   ]
   }
,
{
		   "cell_type": "markdown",
		   "metadata": {},
		   "source": [
			"## Example 2.13_b: Temperature_at_the_steel_fin_tip.sce"
		   ]
		  },
  {
"cell_type": "code",
	   "execution_count": null,
	   "metadata": {
	    "collapsed": true
	   },
	   "outputs": [],
"source": [
"clear;\n",
"clc;\n",
"\n",
"// A Textbook on HEAT TRANSFER by S P SUKHATME\n",
"// Chapter 2\n",
"// Heat Conduction in Solids\n",
"\n",
"// Example 2.13(b)\n",
"// Page 73\n",
"printf('Example 2.13(b), Page 73 \n\n')\n",
"\n",
"D = 0.003 ; // [m]\n",
"L = 0.03 ; // [m]\n",
"h = 10 ; // [W/m^2]\n",
"Tf = 20 ; // [C]\n",
"T1 = 120 ; // [C]\n",
"\n",
"\n",
"// (b) Stainless steel fin\n",
"k = 15 ; // [W/m K]\n",
"\n",
"// For a circular cross section\n",
"m = [4*h/(k*D)]^(1/2);\n",
"mL = m*0.03 ;\n",
"// T at x = L\n",
"T = Tf + (T1-Tf)/cosh(m*L);\n",
"printf('mL = %f \n',mL);\n",
"printf('Temperature at the tip of fin made of steel is %f degree C \n',T);"
   ]
   }
,
{
		   "cell_type": "markdown",
		   "metadata": {},
		   "source": [
			"## Example 2.13_c: Temperature_at_the_teflon_fin_tip.sce"
		   ]
		  },
  {
"cell_type": "code",
	   "execution_count": null,
	   "metadata": {
	    "collapsed": true
	   },
	   "outputs": [],
"source": [
"clear;\n",
"clc;\n",
"\n",
"// A Textbook on HEAT TRANSFER by S P SUKHATME\n",
"// Chapter 2\n",
"// Heat Conduction in Solids\n",
"\n",
"// Example 2.13(c)\n",
"// Page 73\n",
"printf('Example 2.13(c), Page 73 \n\n')\n",
"\n",
"D = 0.003 ; // [m]\n",
"L = 0.03 ; // [m]\n",
"h = 10 ; // [W/m^2]\n",
"Tf = 20 ; // [C]\n",
"T1 = 120 ; // [C]\n",
"\n",
"// (c) Teflon fin\n",
"k = 0.35 ; // [W/m K]\n",
"\n",
"// For a circular cross section\n",
"m = [4*h/(k*D)]^(1/2);\n",
"mL = m*0.03 ;\n",
"// T at x = L\n",
"T = Tf + (T1-Tf)/cosh(m*L);\n",
"printf('mL = %f \n',mL);\n",
"printf('Temperature at the tip of fin made of teflon is %f degree C \n',T);"
   ]
   }
,
{
		   "cell_type": "markdown",
		   "metadata": {},
		   "source": [
			"## Example 2.14: Heat_loss_rate.sce"
		   ]
		  },
  {
"cell_type": "code",
	   "execution_count": null,
	   "metadata": {
	    "collapsed": true
	   },
	   "outputs": [],
"source": [
"clear;\n",
"clc;\n",
"\n",
"// A Textbook on HEAT TRANSFER by S P SUKHATME\n",
"// Chapter 2\n",
"// Heat Conduction in Solids\n",
"\n",
"// Example 2.14\n",
"// Page 74\n",
"printf('Example 2.14, Page 74 \n\n')\n",
"\n",
"L = 0.02 ; // [m]\n",
"t = 0.002 ; // [m]\n",
"b = 0.2 ; // [m]\n",
"theta1 = 200 ; // [C]\n",
"h = 15 ; // [W/m^2 K]\n",
"k = 45 ; // [W/m K]\n",
"\n",
"Bi = h*(t/2)/k ;\n",
"\n",
"// We have\n",
"P = 2*(b+t); // [m]\n",
"A = b*t ; // [m^2]\n",
"// Therefore\n",
"mL = ([(h*P)/(A*k)]^(1/2))*L;\n",
"\n",
"// From equation 2.8.6, fin effectiveness n\n",
"n = tanh(mL)/mL;\n",
"printf('Fin Effectiveness = %f \n',n);\n",
"\n",
"q_loss = n*h*40.4*2*10^-4*200; // [W]\n",
"printf('Heat loss rate from fin surface = %f W',q_loss);"
   ]
   }
,
{
		   "cell_type": "markdown",
		   "metadata": {},
		   "source": [
			"## Example 2.15: Decrease_in_thermal_resistance.sce"
		   ]
		  },
  {
"cell_type": "code",
	   "execution_count": null,
	   "metadata": {
	    "collapsed": true
	   },
	   "outputs": [],
"source": [
"clear;\n",
"clc;\n",
"\n",
"// A Textbook on HEAT TRANSFER by S P SUKHATME\n",
"// Chapter 2\n",
"// Heat Conduction in Solids\n",
"\n",
"// Example 2.1\n",
"// Page 74\n",
"printf('Example 2.15, Page 74 \n\n')\n",
"\n",
"\n",
"// Find Decrease in thermal Resistance\n",
"// Find Increase in heat transfer rate\n",
"\n",
"h = 15 ;        //[W/m^2.K]\n",
"k = 300;        //[W/m.K]\n",
"T = 200;         //[C]\n",
"Tsurr = 30;      //[C]\n",
"d = .01;        //[m]\n",
"L = .1;          //[m]\n",
"A = .5*.5        //[m^2]\n",
"n = 100          //Number of Pins\n",
"\n",
"Bi = h*d/2/k;        //Biot Number\n",
"//Value of Biot Number is much less than .1\n",
"//Thus using equation 2.8.6\n",
"mL = (h*4/k/d)^.5*L;\n",
"zi = tanh(mL)/mL;\n",
"Res1 = 1/h/A;        // Thermal resistance without fins, [K/W]\n",
"Res2 = 1/(h*(A - n*%pi/4*d^2 + zi*(n*%pi*d*L)));// Thermal resistance with fins,[K/W]  \n",
"\n",
"delRes = Res1-Res2;                         //[K/W]\n",
"// Increase in heat transfer rate\n",
"q = (T-Tsurr)/Res2 - (T-Tsurr)/Res1;        //[W]\n",
"\n",
"printf('\n\n Decrease in thermal resistane at surface %.4f K/W.\n Increase in heat transfer rate %.1f W',delRes,q)\n",
"//END"
   ]
   }
,
{
		   "cell_type": "markdown",
		   "metadata": {},
		   "source": [
			"## Example 2.16: Overall_heat_transfer_coefficient.sce"
		   ]
		  },
  {
"cell_type": "code",
	   "execution_count": null,
	   "metadata": {
	    "collapsed": true
	   },
	   "outputs": [],
"source": [
"clear;\n",
"clc;\n",
"\n",
"// A Textbook on HEAT TRANSFER by S P SUKHATME\n",
"// Chapter 2\n",
"// Heat Conduction in Solids\n",
"\n",
"// Example 2.16\n",
"// Page 75\n",
"printf('Example 2.16, Page 75 \n\n')\n",
"\n",
"//Theoretical Problem\n",
"\n",
"printf('\n\n This is a Theoretical Problem, does not involve any mathematical computation.');\n",
"//END"
   ]
   }
,
{
		   "cell_type": "markdown",
		   "metadata": {},
		   "source": [
			"## Example 2.1: Heat_flow_rate.sce"
		   ]
		  },
  {
"cell_type": "code",
	   "execution_count": null,
	   "metadata": {
	    "collapsed": true
	   },
	   "outputs": [],
"source": [
"clear;\n",
"clc;\n",
"\n",
"// A Textbook on HEAT TRANSFER by S P SUKHATME\n",
"// Chapter 2\n",
"// Heat Conduction in Solids\n",
"\n",
"// Example 2.1\n",
"// Page 27\n",
"printf('Example 2.1, Page 27 \n\n')\n",
"\n",
"d_i=0.02; // [m] inner radius    \n",
"d_o=0.04; // [m] outer radius\n",
"r_i=d_i/2; // [m] inner radius\n",
"r_o=d_o/2; // [m] outer radius\n",
"k=0.58; // [w/m K] thermal conductivity of tube material\n",
"t_i=70; //[degree C]\n",
"t_o=100; // [degree C]\n",
"l=1; // [m] per unit length\n",
"// using equation 2.1.5\n",
"q=l*2*(%pi)*k*(t_i-t_o)/log(r_o/r_i);\n",
"printf('Heat flow per unit length is %f W/m',q);"
   ]
   }
,
{
		   "cell_type": "markdown",
		   "metadata": {},
		   "source": [
			"## Example 2.2: Heat_flow_rate.sce"
		   ]
		  },
  {
"cell_type": "code",
	   "execution_count": null,
	   "metadata": {
	    "collapsed": true
	   },
	   "outputs": [],
"source": [
"clear;\n",
"clc;\n",
"\n",
"// A Textbook on HEAT TRANSFER by S P SUKHATME\n",
"// Chapter 2\n",
"// Heat Conduction in Solids\n",
"\n",
"// Example 2.2\n",
"// Page 31\n",
"printf('Example 2.2, Page 31 \n\n')\n",
"\n",
"d_i=0.02; // [m] inner radius    \n",
"d_o=0.04; // [m] outer radius\n",
"r_i=d_i/2; // [m] inner radius\n",
"r_o=d_o/2; // [m] outer radius\n",
"k=0.58; // [w/m K] thermal conductivity of tube material\n",
"t_i=70; //[degree C]\n",
"t_o=100; // [degree C]\n",
"l=1; // [m] per unit length\n",
"\n",
"// thermal resistance of tube per unit length\n",
"R_th_tube=(log(r_o/r_i))/(2*%pi*k*l); // [K/W]\n",
"\n",
"//from table 1.3 , heat transfer co-efficient for condensing steam may be taken as\n",
"h=5000; // [W/m^2 K]\n",
"// thermal resistance of condensing steam per unit length\n",
"R_th_cond=1/(%pi*d_o*l*h);\n",
"\n",
"// since R_th_tube is much less than R_th_cond , we can assume outer surface to be at 100 degree C\n",
"//hence heat flow rate per unit meter is\n",
"q=l*2*(%pi)*k*(t_i-100)/log(r_o/r_i);\n",
"\n",
"printf('Thermal resistance of tube per unit length is %f K/W\n',R_th_tube);\n",
"printf('Thermal resistance of condensing steam per unit length is %f K/W\n',R_th_cond);\n",
"printf('Heat flow per unit length is %f W/m',q);"
   ]
   }
,
{
		   "cell_type": "markdown",
		   "metadata": {},
		   "source": [
			"## Example 2.3: Engineers_decision.sce"
		   ]
		  },
  {
"cell_type": "code",
	   "execution_count": null,
	   "metadata": {
	    "collapsed": true
	   },
	   "outputs": [],
"source": [
"clear;\n",
"clc;\n",
"\n",
"// A Textbook on HEAT TRANSFER by S P SUKHATME\n",
"// Chapter 2\n",
"// Heat Conduction in Solids\n",
"\n",
"// Example 2.3\n",
"// Page 31\n",
"printf('Example 2.3, Page 31 \n\n')\n",
"\n",
"h_w=140; // heat transfer coefficient on water side, [W/m^2 K]\n",
"h_o=150; // heat transfer coefficient on oil side, [W/m^2 K]\n",
"k=30; // thermal conductivity [W/m K]\n",
"r_o=0.01; // inner diameter of GI pipe on inside\n",
"r_i=0.008; // outer diameter GI pipe on inside\n",
"l=1; // [m] , per unit length\n",
"\n",
"// Thermal resistance of inner GI pipe\n",
"R_inner_GI=log((r_o/r_i))/(2*%pi*k*l);\n",
"\n",
"\n",
"// Thermal resistance on the oil side per unit length\n",
"R_oilside=1/(h_o*%pi*2*r_i*l);\n",
"\n",
"\n",
"// Thermal resistance on cold water side per unit length\n",
"R_waterside=1/(h_w*%pi*2*r_o*l);\n",
"\n",
"\n",
"// we see thermal resistance of inner GI pipe contributes less than 0.5 percent to the total resistance\n",
"\n",
"\n",
"printf('Thermal resistance of inner GI pipe = %f K/W \n',R_inner_GI);\n",
"printf('Thermal resistance on the oil side per unit length = %f K/W \n',R_oilside);\n",
"printf('Thermal resistance on cold water side per unit length = %f K/W \n',R_waterside);\n",
"printf('So, Engineer in-charge has made a bad decision');"
   ]
   }
,
{
		   "cell_type": "markdown",
		   "metadata": {},
		   "source": [
			"## Example 2.4: Thickness_of_insulation.sci"
		   ]
		  },
  {
"cell_type": "code",
	   "execution_count": null,
	   "metadata": {
	    "collapsed": true
	   },
	   "outputs": [],
"source": [
"clear all;\n",
"clc;\n",
"\n",
"// A Textbook on HEAT TRANSFER by S P SUKHATME\n",
"// Chapter 2\n",
"// Heat Conduction in Solids\n",
"\n",
"// Example 2.4\n",
"// Page 32\n",
"printf('Example 2.4, Page 32 \n\n')\n",
"\n",
"Ti = 300;          //Internal temp of hot gas in degree Celsius\n",
"OD = 0.1;          //Outer diameter of long metal pipe in meters\n",
"ID = 0.04;         //Internal diamtere of long metal pipe in meters\n",
"ki = 0.052;        //thermal conductivity of mineral wood in W/mK\n",
"To = 50;           //Outer surface temperature in degree celsius\n",
"hi = 29;           //heat transfer coefficient in the inner side in W/m^2 K\n",
"ho = 12;           //heat transfer coefficient in the outer pipe W/m^2 K\n",
"\n",
"//Determination of thickness of insulation\n",
"function[f] = thickness(r)\n",
"    f = r*(10.344 + 271.15*log(r*(0.05)^-1))-11.75\n",
"    funcprot(0);\n",
"endfunction\n",
"r = 0.082;\n",
"while 1\n",
"    rnew = r - thickness(r)/diff(thickness(r));\n",
"    if rnew == r then\n",
"        r3 = rnew;\n",
"        break;\n",
"    end\n",
"    r = rnew;\n",
"end\n",
"t = r3 - OD/2;\n",
"printf('\n Thickness of insulation = %f cm',t*100);\n",
"//Heat loss per unit length\n",
"q = 600*(22/7)*r3;\n",
"printf('\n Heat loss per unit length = %.1f W/m',q);"
   ]
   }
,
{
		   "cell_type": "markdown",
		   "metadata": {},
		   "source": [
			"## Example 2.5: Heat_loss_rate.sce"
		   ]
		  },
  {
"cell_type": "code",
	   "execution_count": null,
	   "metadata": {
	    "collapsed": true
	   },
	   "outputs": [],
"source": [
"clear;\n",
"clc;\n",
"\n",
"// A Textbook on HEAT TRANSFER by S P SUKHATME\n",
"// Chapter 2\n",
"// Heat Conduction in Solids\n",
"\n",
"// Example 2.5\n",
"// Page 34\n",
"printf('Example 2.5, Page 34 \n\n')\n",
"\n",
"Ti = 90;                            //Temp on inner side in degree celsius\n",
"To = 30;                            //Temp on outer side in degree celsius\n",
"hi = 500;                           //heat transfer coeffcient in W/m^2 K\n",
"ho = 10;                            //heat transfer coeffcient in W/m^2 K\n",
"ID = 0.016;                         //Internal diameter in meters\n",
"t = [0 0.5 1 2 3 4 5];             //Insulation thickness in cm\n",
"OD = 0.02;                        //Outer diameter in meters\n",
"r3 = OD/2 + t/100;                //radius after insulation in meters\n",
"\n",
"i=1;\n",
"printf('\n Insulation thickness(cm)       r3(m)    heat loss rate per meter(W/m)');\n",
"while i<=7\n",
"    ql(i) = [2*(%pi)*(ID/2)*(Ti-To)]/[(1/hi)+(0.008/0.2)*log(r3(i)/0.01) + (0.008/r3(i))*(1/ho)];\n",
"printf('\n     %.1f                         %.3f             %.1f',t(i),r3(i),ql(i));\n",
"    i = i+1;\n",
"end\n",
"plot(t,ql);\n",
"xtitle('','Insulation thickness(cm)','Heat loss rate per unit length,W/m');\n",
"printf('\n The maxima in the curve is at r_3 = 0.02 m');"
   ]
   }
,
{
		   "cell_type": "markdown",
		   "metadata": {},
		   "source": [
			"## Example 2.6: Critical_radius.sce"
		   ]
		  },
  {
"cell_type": "code",
	   "execution_count": null,
	   "metadata": {
	    "collapsed": true
	   },
	   "outputs": [],
"source": [
"clear;\n",
"clc;\n",
"\n",
"// A Textbook on HEAT TRANSFER by S P SUKHATME\n",
"// Chapter 2\n",
"// Heat Conduction in Solids\n",
"\n",
"// Example 2.6\n",
"// Page 36\n",
"printf('Example 2.6, Page 34 \n\n')\n",
"\n",
"h_natural = 10;//heat transfer coefficient for natural convection in W/m^2 K\n",
"h_forced = 50; //heat transfer coefficient for forced convection in W/m^2 K\n",
"//for asbestos\n",
"k1 = 0.2;      //thermal conductivity in W/m K\n",
"//for mineral wool\n",
"k2 = 0.05;     //thermal conductivity in W/m K\n",
"printf('\n critical radius of insulation in cm');\n",
"printf('\n                          h = 10                  h = 50');\n",
"printf('\n Asbestos                   %.1f                      %.1f',k1*100/h_natural,k1*100/h_forced);\n",
"printf('\n Mineral wool               %.1f                      %.1f',k2*100/h_natural,k2*100/h_forced);"
   ]
   }
,
{
		   "cell_type": "markdown",
		   "metadata": {},
		   "source": [
			"## Example 2.7: Maximum_temperature.sce"
		   ]
		  },
  {
"cell_type": "code",
	   "execution_count": null,
	   "metadata": {
	    "collapsed": true
	   },
	   "outputs": [],
"source": [
"clear;\n",
"clc;\n",
"\n",
"// A Textbook on HEAT TRANSFER by S P SUKHATME\n",
"// Chapter 2\n",
"// Heat Conduction in Solids\n",
"\n",
"// Example 2.7\n",
"// Page 43\n",
"printf('Example 2.7, Page 43 \n\n')\n",
"\n",
"H = 5 ; // Height, [m]\n",
"L = 10 ; // Length, [m]\n",
"t = 1 ; // thickness, [m]\n",
"b = t/2;\n",
"k = 1.05 ; // [W/m K]\n",
"q = 58 ; // [W/m^3]\n",
"T = 35 ; // [C]\n",
"h = 11.6 ; // Heat transfer coefficient, [W/m^2 K]\n",
"// Substituting the values in equation 2.5.6\n",
"T_max = T + q*b*(b/(2*k)+1/h);\n",
"printf('Maximum Temperature = %f degree C',T_max);"
   ]
   }
,
{
		   "cell_type": "markdown",
		   "metadata": {},
		   "source": [
			"## Example 2.8: Steady_state_temperature.sce"
		   ]
		  },
  {
"cell_type": "code",
	   "execution_count": null,
	   "metadata": {
	    "collapsed": true
	   },
	   "outputs": [],
"source": [
"clear;\n",
"clc;\n",
"\n",
"// A Textbook on HEAT TRANSFER by S P SUKHATME\n",
"// Chapter 2\n",
"// Heat Conduction in Solids\n",
"\n",
"// Example 2.8\n",
"// Page 47\n",
"printf('Example 2.8, Page 47 \n\n')\n",
"\n",
"// The bar will have two dimensional variation in temperature\n",
"// the differential equation is subject to boundary conditions\n",
"x1 = 0; // [cm]\n",
"Tx1 = 30; // [C]\n",
"x2 = 5; // [cm]\n",
"Tx2 = 30; // [C]\n",
"y1 = 0; // [cm]\n",
"Ty1 = 30; // [C]\n",
"y2 = 10; // [cm]\n",
"Ty2 = 130; // [C]\n",
"// substituting theta = T-30 and using eqn 2.6.11\n",
"// putting x = 2.5cm and y = 5cm in infinite summation series\n",
"\n",
"\n",
"n = 1;\n",
"x1 = (1-cos(%pi*n))/(sinh(2*%pi*n))*sin(n^%pi/2)*sinh(n*%pi);\n",
"\n",
"n = 3;\n",
"x3 = (1-cos(%pi*n))/(sinh(2*%pi*n))*sin(n^%pi/2)*sinh(n*%pi);\n",
"\n",
"n = 5;\n",
"x5 = (1-cos(%pi*n))/(sinh(2*%pi*n))*sin(n^%pi/2)*sinh(n*%pi);\n",
"\n",
"x = x1+x3+x5;\n",
"\n",
"T = x*100+30;\n",
"printf('Steady state temperature = %f C',T);\n",
""
   ]
   }
,
{
		   "cell_type": "markdown",
		   "metadata": {},
		   "source": [
			"## Example 2.9: Time_taken_by_the_rod_to_heat_up.sci"
		   ]
		  },
  {
"cell_type": "code",
	   "execution_count": null,
	   "metadata": {
	    "collapsed": true
	   },
	   "outputs": [],
"source": [
"clear all;\n",
"clc;\n",
"\n",
"// A Textbook on HEAT TRANSFER by S P SUKHATME\n",
"// Chapter 2\n",
"// Heat Conduction in Solids\n",
"\n",
"// Example 2.9\n",
"// Page 51\n",
"printf('Example 2.9, Page 51 \n\n')\n",
"\n",
"k = 330;             //thermal conductivity in W/m K\n",
"a = 95*10^(-6);      //thermal expansion coefficient\n",
"R = 0.01;            //radius in meters\n",
"To = 77;            //temperature in kelvins\n",
"Tf = 273+50;        //temperature in kelvins\n",
"theta1 = To - Tf;\n",
"T = 273+10;         //temperature in kelvins\n",
"theta = T - Tf;\n",
"h = 20;             //heat transfer coefficient in W/m^2 K\n",
"printf('\n Theta1 = %d K',theta1);\n",
"printf('\n Theta = %d K ',theta);\n",
"printf('\n v/A = %.3f m',R/2);\n",
"printf('\n k/a = %.4f*10^(6) J/m^3 K',(k/a)*10^(-6));\n",
"\n",
"time = (k/a)*(R/2)/h*log(theta1/theta);\n",
"\n",
"printf('\n Time taken by the rod to heat up = %.1f secs',time); \n",
"Bi = h*R/k;\n",
"printf('\n Biot number Bi = %.2f*10^(-4) ',Bi*10^4);\n",
"printf('\n Since Biot number is much less than 0.1,therefore assumption  that internal temperature gradients are negligible is a good one');\n",
"\n",
"\n",
"\n",
"\n",
"\n",
"\n",
""
   ]
   }
],
"metadata": {
		  "kernelspec": {
		   "display_name": "Scilab",
		   "language": "scilab",
		   "name": "scilab"
		  },
		  "language_info": {
		   "file_extension": ".sce",
		   "help_links": [
			{
			 "text": "MetaKernel Magics",
			 "url": "https://github.com/calysto/metakernel/blob/master/metakernel/magics/README.md"
			}
		   ],
		   "mimetype": "text/x-octave",
		   "name": "scilab",
		   "version": "0.7.1"
		  }
		 },
		 "nbformat": 4,
		 "nbformat_minor": 0
}
