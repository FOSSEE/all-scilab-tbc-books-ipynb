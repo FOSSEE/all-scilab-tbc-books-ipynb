{
"cells": [
 {
		   "cell_type": "markdown",
	   "metadata": {},
	   "source": [
       "# Chapter 9: Mass Transfer"
	   ]
	},
{
		   "cell_type": "markdown",
		   "metadata": {},
		   "source": [
			"## Example 9.1: Composition_on_molar_basis.sce"
		   ]
		  },
  {
"cell_type": "code",
	   "execution_count": null,
	   "metadata": {
	    "collapsed": true
	   },
	   "outputs": [],
"source": [
"clear;\n",
"clc;\n",
"\n",
"// A Textbook on HEAT TRANSFER by S P SUKHATME\n",
"// Chapter 9\n",
"// Mass Transfer\n",
"\n",
"\n",
"// Example 9.1\n",
"// Page 349\n",
"printf('Example 9.1, Page 349 \n \n');\n",
"\n",
"w_a = 0.76 ;\n",
"w_b = 0.24 ;\n",
"m_a = 28 ; // [kg/kg mole]\n",
"m_b = 32 ; // [kg/kg mole]\n",
"\n",
"x_a = (w_a/m_a)/(w_a/m_a+w_b/m_b);\n",
"x_b = (w_b/m_b)/(w_a/m_a+w_b/m_b);\n",
"printf('The molar fractions are given by \n');\n",
"printf('x_a = %f\n',x_a);\n",
"printf('x_b = %f',x_b);"
   ]
   }
,
{
		   "cell_type": "markdown",
		   "metadata": {},
		   "source": [
			"## Example 9.2: Diffusion_coefficient_of_napthalene.sce"
		   ]
		  },
  {
"cell_type": "code",
	   "execution_count": null,
	   "metadata": {
	    "collapsed": true
	   },
	   "outputs": [],
"source": [
"clear;\n",
"clc;\n",
"\n",
"// A Textbook on HEAT TRANSFER by S P SUKHATME\n",
"// Chapter 9\n",
"// Mass Transfer\n",
"\n",
"\n",
"// Example 9.2\n",
"// Page 350\n",
"printf('Example 9.2, Page 350 \n \n');\n",
"\n",
"// From Table 9.1 at 1 atm and 25 C\n",
"Dab = 0.62*10^-5 ; // [m^2/s]\n",
"// Therefore at 2 atm and 50 C\n",
"Dab2 = Dab*(1/2)*(323/298)^1.5 ;\n",
"printf('Dab at 2 atm & 50 C = %e m^2/s',Dab2);"
   ]
   }
,
{
		   "cell_type": "markdown",
		   "metadata": {},
		   "source": [
			"## Example 9.3_a: Rate_of_hydrogen_diffusion.sce"
		   ]
		  },
  {
"cell_type": "code",
	   "execution_count": null,
	   "metadata": {
	    "collapsed": true
	   },
	   "outputs": [],
"source": [
"clear;\n",
"clc;\n",
"\n",
"// A Textbook on HEAT TRANSFER by S P SUKHATME\n",
"// Chapter 9\n",
"// Mass Transfer\n",
"\n",
"\n",
"// Example 9.3(a)\n",
"// Page 352\n",
"printf('Example 9.3(a), Page 352 \n \n');\n",
"\n",
"t = 0.04 ; // [m]\n",
"A = 2 ; // [m^2]\n",
"rho1 = 0.10 ;\n",
"rho2 = 0.01 ;\n",
"D_400 = 1.6*10^-11 ; // at 400K [m^2/s]\n",
"\n",
"// Mass Diffusion in solid solution, assuming Ficks law is valid & steady state and one dimensional diffusion\n",
"\n",
"// Subtituting the values in eqn 9.3.3 , At 400 K\n",
"\n",
"m_400 = A*D_400*(rho1-rho2)/t; // [kg/s]\n",
"printf('Rate of diffusion of Hydrogen at 400 K = %e kg/s \n',m_400);"
   ]
   }
,
{
		   "cell_type": "markdown",
		   "metadata": {},
		   "source": [
			"## Example 9.3_b: Rate_of_hydrogen_diffusion.sce"
		   ]
		  },
  {
"cell_type": "code",
	   "execution_count": null,
	   "metadata": {
	    "collapsed": true
	   },
	   "outputs": [],
"source": [
"clear;\n",
"clc;\n",
"\n",
"// A Textbook on HEAT TRANSFER by S P SUKHATME\n",
"// Chapter 9\n",
"// Mass Transfer\n",
"\n",
"\n",
"// Example 9.3(b)\n",
"// Page 352\n",
"printf('Example 9.3(b), Page 352 \n \n');\n",
"\n",
"t = 0.04 ; // [m]\n",
"A = 2 ; // [m^2]\n",
"rho1 = 0.10 ;\n",
"rho2 = 0.01 ;\n",
"D_1200 = 3.5*10^-8 ; // at 1200k [m^2/s]\n",
"\n",
"// Mass Diffusion in solid solution, assuming Ficks law is valid & steady state and one dimensional diffusion\n",
"\n",
"// At 1200 K\n",
"// From eqn 9.3.3\n",
"\n",
"m_1200 = A*D_1200*(rho1-rho2)/t ;\n",
"printf('(b) Rate of diffusion of Hydrogen at 1200 K = %e kg/s \n',m_1200);\n",
""
   ]
   }
,
{
		   "cell_type": "markdown",
		   "metadata": {},
		   "source": [
			"## Example 9.4_a: Rate_of_loss_of_ammonia.sce"
		   ]
		  },
  {
"cell_type": "code",
	   "execution_count": null,
	   "metadata": {
	    "collapsed": true
	   },
	   "outputs": [],
"source": [
"clear;\n",
"clc;\n",
"\n",
"// A Textbook on HEAT TRANSFER by S P SUKHATME\n",
"// Chapter 9\n",
"// Mass Transfer\n",
"\n",
"\n",
"// Example 9.4(a)\n",
"// Page 356\n",
"printf('Example 9.4(a), Page 356 \n \n');\n",
"\n",
"L = 1 ; // [m]\n",
"D = 0.005 ; // [m]\n",
"Pa1 = 1 ; // [atm]\n",
"Pa2 = 0 ; \n",
"R = 8314 ;\n",
"T = 298 ; // [K]\n",
"\n",
"// Assuming Equimolal counter diffusion\n",
"// From Table 9.1\n",
"Dab = 2.80*10^-5 ; // [m^2/s]\n",
"// Substituing in eqn 9.4.12\n",
"Na = -[Dab/(R*T)*(Pa2-Pa1)*(1.014*10^5)/L]*(%pi*(D/2)^2);\n",
"R_NH3 = Na*17 ; // [kg/s]\n",
"\n",
"printf('Na = -Nb = %e (kg mole)/m^2 s\n',Na);\n",
"printf('Rate at which ammonia is lost through the tube = %e kg/s \n',R_NH3);"
   ]
   }
,
{
		   "cell_type": "markdown",
		   "metadata": {},
		   "source": [
			"## Example 9.4_b: Rate_at_which_air_enters_the_tank.sce"
		   ]
		  },
  {
"cell_type": "code",
	   "execution_count": null,
	   "metadata": {
	    "collapsed": true
	   },
	   "outputs": [],
"source": [
"clear;\n",
"clc;\n",
"\n",
"// A Textbook on HEAT TRANSFER by S P SUKHATME\n",
"// Chapter 9\n",
"// Mass Transfer\n",
"\n",
"\n",
"// Example 9.4(b)\n",
"// Page 356\n",
"printf('Example 9.4(b), Page 356 \n \n');\n",
"\n",
"L = 1 ; // [m]\n",
"D = 0.005 ; // [m]\n",
"Pa1 = 1 ; // [atm]\n",
"Pa2 = 0 ; \n",
"R = 8314 ;\n",
"T = 298 ; // [K]\n",
"\n",
"// Since the tank is large and the pressure and temperature at the two ends of the same tube are same, we are assuming Equimolal counter diffusion\n",
"// From Table 9.1\n",
"Dab = 2.80*10^-5 ; // [m^2/s]\n",
"// Substituing in eqn 9.4.12\n",
"Na = -[Dab/(R*T)*(Pa2-Pa1)*(1.014*10^5)/L]*(%pi*(D/2)^2);\n",
"\n",
"// Since equimolal counter diffusion is taking place\n",
"Nb = - Na ;\n",
"// therefore rate at which air enters the tank\n",
"R_air = abs(Nb)*29 ; // [kg/s]\n",
"\n",
"printf('Rate at which air enters the tank = %e kg/s',R_air);"
   ]
   }
,
{
		   "cell_type": "markdown",
		   "metadata": {},
		   "source": [
			"## Example 9.5: Rate_of_evaporatio.sce"
		   ]
		  },
  {
"cell_type": "code",
	   "execution_count": null,
	   "metadata": {
	    "collapsed": true
	   },
	   "outputs": [],
"source": [
"clear;\n",
"clc;\n",
"\n",
"// A Textbook on HEAT TRANSFER by S P SUKHATME\n",
"// Chapter 9\n",
"// Mass Transfer\n",
"\n",
"\n",
"// Example 9.5\n",
"// Page 359\n",
"printf('Example 9.5, Page 359 \n \n');\n",
"\n",
"// Evaporation of water, one dimensional\n",
"T_w = 20+273 ; // [K]\n",
"D = 0.04 ; // [m]\n",
"h = 0.20 ; // [m]\n",
"h_w = 0.03 ; // [m]\n",
"\n",
"P = 1.014*10^5; // [Pa]\n",
"R = 8314 ; // [J/kg mole K]\n",
"P_sat = 0.02339 ; // [bar]\n",
"x_a1 = P_sat/1.014 ; // mole fraction at liq-vap interface\n",
"x_a2 = 0 ; // mole fraction at open top\n",
"c = P/(R*T_w);\n",
"// From Table 9.2\n",
"Dab = 2.422*10^-5 ; // [m^2/s]\n",
"\n",
"// Substituting above values in eqn 9.4.18\n",
"flux = 0.041626*Dab/0.17*log((1-0)/(1-x_a1)); // [kg mole/m^2 s]\n",
"rate = flux*18*(%pi/4)*(D^2);\n",
"\n",
"printf('Rate of evaporation of water = %e kg/s',rate);"
   ]
   }
,
{
		   "cell_type": "markdown",
		   "metadata": {},
		   "source": [
			"## Example 9.6: Rate_of_evaporatio.sce"
		   ]
		  },
  {
"cell_type": "code",
	   "execution_count": null,
	   "metadata": {
	    "collapsed": true
	   },
	   "outputs": [],
"source": [
"clear;\n",
"clc;\n",
"\n",
"// A Textbook on HEAT TRANSFER by S P SUKHATME\n",
"// Chapter 9\n",
"// Mass Transfer\n",
"\n",
"\n",
"// Example 9.6\n",
"// Page 364\n",
"printf('Example 9.6, Page 364 \n \n');\n",
"\n",
"l = 1; // length, [m]\n",
"w = 0.25; // width, [m]\n",
"T = 293 ; // Temperature, [K]\n",
"rho_infinity = 0; // [kg/m^3]\n",
"R = 8314; // [J/ kg K]\n",
"\n",
"// From Table A.2\n",
"v = 15.06*10^-6; // [m^2/s]\n",
"// From Table 9.2\n",
"Dab = 2.4224*10^-5; // [m^2/s]\n",
"Re = 2.5/v;\n",
"Sc = v/Dab;\n",
"// Since Re > 3*10^5, we may assume laminar boundary layer\n",
"Sh = 0.664*Sc^(1/3)*Re^(1/2); // Sherwood number\n",
"h = Sh*Dab;\n",
"\n",
"p_aw = 2339; // Saturation pressure of water at 20 degree C. [N/m^2]\n",
"rho_aw = p_aw/(R/18*T); // [kg/m^3]\n",
"rho_a_inf = 0 ; // since air in the free stream is dry\n",
"m_h = h*(2*l*w)*(rho_aw-rho_infinity);\n",
"printf('Rate of evaporation from plate = %e kg/s',m_h);"
   ]
   }
,
{
		   "cell_type": "markdown",
		   "metadata": {},
		   "source": [
			"## Example 9.7_a: Mass_transfer_coefficient_Colburn_anology.sce"
		   ]
		  },
  {
"cell_type": "code",
	   "execution_count": null,
	   "metadata": {
	    "collapsed": true
	   },
	   "outputs": [],
"source": [
"clear;\n",
"clc;\n",
"\n",
"// A Textbook on HEAT TRANSFER by S P SUKHATME\n",
"// Chapter 9\n",
"// Mass Transfer\n",
"\n",
"\n",
"// Example 9.7(a)\n",
"// Page 366\n",
"printf('Example 9.7(a), Page 366 \n \n');\n",
"\n",
"D = 0.04 ; // [m]\n",
"V = 1.9 ; // [m/s]\n",
"\n",
"// (a) Colburn anology and Gnielinski equation\n",
"// Properties of air at 27 degree C\n",
"v = 15.718*10^-6 ; // [m^2/s]\n",
"rho = 1.177 ; // [kg/m^3]\n",
"Pr = 0.7015 ;\n",
"Cp = 1005 ; // [J/kg K]\n",
"k = 0.02646 ; // [W/m K]\n",
"// From Table 9.2\n",
"Dab = 2.54 * 10^-5 ; // [m^2/s]\n",
"Sc = v/Dab ;\n",
"Re = V*D/v;\n",
"// The flow is turbulent and eqn 9.6.5 may be applied\n",
"// let r = h/h_m \n",
"r = rho*Cp*((Sc/Pr)^(2/3));\n",
"// From Blasius equation 4.6.4a\n",
"f = 0.079*Re^(-0.25);\n",
"// Substituting this value into Gnielinski equation 5.3.2\n",
"Nu = [(f/2)*(Re-1000)*Pr]/[1+12.7*((f/2)^(1/2))*((Pr^(2/3))-1)];\n",
"h = Nu*k/D;\n",
"h_m = h/r; // [m/s]\n",
"\n",
"printf('h_m using Colburn anology and Gnielinski equation = %f \n',h_m);"
   ]
   }
,
{
		   "cell_type": "markdown",
		   "metadata": {},
		   "source": [
			"## Example 9.7_b: Mass_transfer_coefficient_Gnielinski_equation.sce"
		   ]
		  },
  {
"cell_type": "code",
	   "execution_count": null,
	   "metadata": {
	    "collapsed": true
	   },
	   "outputs": [],
"source": [
"clear;\n",
"clc;\n",
"\n",
"// A Textbook on HEAT TRANSFER by S P SUKHATME\n",
"// Chapter 9\n",
"// Mass Transfer\n",
"\n",
"\n",
"// Example 9.7(b)\n",
"// Page 366\n",
"printf('Example 9.7(b), Page 366 \n \n');\n",
"\n",
"D = 0.04 ; // [m]\n",
"V = 1.9 ; // [m/s]\n",
"\n",
"// (b) mess transfer correlation equivalent to the Gleilinski equation\n",
"\n",
"// Properties of air at 27 degree C\n",
"v = 15.718*10^-6 ; // [m^2/s]\n",
"rho = 1.177 ; // [kg/m^3]\n",
"Pr = 0.7015 ;\n",
"Cp = 1005 ; // [J/kg K]\n",
"k = 0.02646 ; // [W/m K]\n",
"// From Table 9.2\n",
"Dab = 2.54 * 10^-5 ; // [m^2/s]\n",
"Sc = v/Dab ;\n",
"Re = V*D/v;\n",
"\n",
"// From Blasius equation 4.6.4a\n",
"f = 0.079*Re^(-0.25);\n",
"\n",
"// Substituting in eqn 9.6.7\n",
"Sh_D = [(f/2)*(Re-1000)*Sc]/[1+12.7*((f/2))*((Sc^(2/3))-1)];\n",
"h_m1 = Sh_D*Dab/D;\n",
"\n",
"printf('(b) h_m = %f \n',h_m1);"
   ]
   }
,
{
		   "cell_type": "markdown",
		   "metadata": {},
		   "source": [
			"## Example 9.7_c: To_show_mass_flux_of_water_vapour_is_small.sce"
		   ]
		  },
  {
"cell_type": "code",
	   "execution_count": null,
	   "metadata": {
	    "collapsed": true
	   },
	   "outputs": [],
"source": [
"clear;\n",
"clc;\n",
"\n",
"// A Textbook on HEAT TRANSFER by S P SUKHATME\n",
"// Chapter 9\n",
"// Mass Transfer\n",
"\n",
"\n",
"// Example 9.7(c)\n",
"// Page 366\n",
"printf('Example 9.7(c), Page 366 \n \n');\n",
"\n",
"D = 0.04 ; // [m]\n",
"V = 1.9 ; // [m/s]\n",
"\n",
"// (c) To show that mass flux of water is very small compared to the mass flux of air flowing in the pipe\n",
"// Properties of air at 27 degree C\n",
"v = 15.718*10^-6 ; // [m^2/s]\n",
"rho = 1.177 ; // [kg/m^3]\n",
"Pr = 0.7015 ;\n",
"Cp = 1005 ; // [J/kg K]\n",
"k = 0.02646 ; // [W/m K]\n",
"// From Table 9.2\n",
"Dab = 2.54 * 10^-5 ; // [m^2/s]\n",
"Sc = v/Dab ;\n",
"Re = V*D/v;\n",
"// The flow is turbulent and eqn 9.6.5 may be applied\n",
"// let r = h/h_m \n",
"r = rho*Cp*((Sc/Pr)^(2/3));\n",
"// From Blasius equation 4.6.4a\n",
"f = 0.079*Re^(-0.25);\n",
"\n",
"// From steam table\n",
"rho_aw = 1/38.77 ; // [kg/m^3]\n",
"// let X = (m_a/A)_max\n",
"X = f*rho_aw; // [kg/m^2 s]\n",
"\n",
"// let Y = mass flux of air in pipe = (m/A)\n",
"Y = rho*V ; // [kg/m^2 s]\n",
"ratio = X/Y ;\n",
"percent = ratio*100;\n",
"\n",
"printf('(c) (m_a/A)_max/(m_a/A) = %f percent Thus, mass flux of water is very small compared to the mass flux of air flowing in the pipe. ',percent );"
   ]
   }
,
{
		   "cell_type": "markdown",
		   "metadata": {},
		   "source": [
			"## Example 9.8: Mass_fractio.sce"
		   ]
		  },
  {
"cell_type": "code",
	   "execution_count": null,
	   "metadata": {
	    "collapsed": true
	   },
	   "outputs": [],
"source": [
"clear;\n",
"clc;\n",
"\n",
"// A Textbook on HEAT TRANSFER by S P SUKHATME\n",
"// Chapter 9\n",
"// Mass Transfer\n",
"\n",
"\n",
"// Example 9.8\n",
"// Page 369\n",
"printf('Example 9.8, Page 369 \n \n');\n",
"\n",
"V = 0.5 ; // [m/s]\n",
"T_h = 30 ; // [C]\n",
"T_c = 26 ; // [C]\n",
"Tm = (T_h+T_c)/2;\n",
"// From table A.2\n",
"rho = 1.173 ; // [kg/m^3]\n",
"Cp = 1005 ; // [J/kg K]\n",
"k = 0.02654 ; // [W/m K]\n",
"\n",
"alpha = k/(rho*Cp); // [m^2/s]\n",
"\n",
"// From Table 9.2 at 301 K\n",
"Dab = 2.5584*10^-5 ; // [m^2/s]\n",
"lambda = 2439.2*10^3 ; // [J/kg]\n",
"\n",
"// Substituting in equation 9.7.5\n",
"// let difference = rho_aw-rho_a infinity\n",
"difference = rho*Cp*((alpha/Dab)^(2/3))*(T_h-T_c)/lambda;\n",
"\n",
"// From steam table\n",
"Psat = 3363;\n",
"rho_aw = Psat/(8314/18*299);\n",
"rho_inf = rho_aw - difference;\n",
"x = rho_inf/rho; // mole fraction of water vapour in air stream\n",
"\n",
"PP = rho_inf*8314/18*303; // Partial pressure of water vapour in air stream\n",
"// From steam table partial pressure of water vapour at 30 C\n",
"PP_30 = 4246 ; // [N/m^2]\n",
"\n",
"rel_H = PP/PP_30;\n",
"percent = rel_H*100;\n",
"\n",
"printf('Relative humidity = %f i.e. %f percent ',rel_H,percent);"
   ]
   }
],
"metadata": {
		  "kernelspec": {
		   "display_name": "Scilab",
		   "language": "scilab",
		   "name": "scilab"
		  },
		  "language_info": {
		   "file_extension": ".sce",
		   "help_links": [
			{
			 "text": "MetaKernel Magics",
			 "url": "https://github.com/calysto/metakernel/blob/master/metakernel/magics/README.md"
			}
		   ],
		   "mimetype": "text/x-octave",
		   "name": "scilab",
		   "version": "0.7.1"
		  }
		 },
		 "nbformat": 4,
		 "nbformat_minor": 0
}
