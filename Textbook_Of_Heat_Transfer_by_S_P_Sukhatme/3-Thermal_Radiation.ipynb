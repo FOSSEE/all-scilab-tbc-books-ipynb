{
"cells": [
 {
		   "cell_type": "markdown",
	   "metadata": {},
	   "source": [
       "# Chapter 3: Thermal Radiation"
	   ]
	},
{
		   "cell_type": "markdown",
		   "metadata": {},
		   "source": [
			"## Example 3.10: Net_radiative_heat_transfer.sce"
		   ]
		  },
  {
"cell_type": "code",
	   "execution_count": null,
	   "metadata": {
	    "collapsed": true
	   },
	   "outputs": [],
"source": [
"clear;\n",
"clc;\n",
"\n",
"// A Textbook on HEAT TRANSFER by S P SUKHATME\n",
"// Chapter 3\n",
"// Thermal Radiation\n",
"\n",
"// Example 3.10\n",
"// Page 138\n",
"printf('Example 3.10, Page 138 \n\n')\n",
"\n",
"sigma = 5.670*10^-8 ;\n",
"T1 = 473 ; // [K]\n",
"T2 = 373 ; // [K]\n",
"A1 = 1*2 ; // area, [m^2]\n",
"X = 0.25;\n",
"Y = 0.5 ;\n",
"// From eqn 3.7.4\n",
"F12 = (2/(%pi*X*Y))*[log((((1+X^2)*(1+Y^2))/(1+X^2+Y^2))^(1/2)) + Y*((1+X^2)^(1/2))*atan(Y/((1+X^2)^(1/2))) + X*((1+Y^2)^(1/2))*atan(X/((1+Y^2)^(1/2))) - Y*atan(Y) - X*atan(X) ];\n",
"\n",
"\n",
"q1 = sigma*A1*(T1^4-T2^4)*[(1-F12^2)/(2-2*F12)];\n",
"\n",
"printf('Net radiative heat transfer from the surface = %f W \n',q1);"
   ]
   }
,
{
		   "cell_type": "markdown",
		   "metadata": {},
		   "source": [
			"## Example 3.11: steady_state_heat_flux.sci"
		   ]
		  },
  {
"cell_type": "code",
	   "execution_count": null,
	   "metadata": {
	    "collapsed": true
	   },
	   "outputs": [],
"source": [
"clear all;\n",
"clc;\n",
"\n",
"// A Textbook on HEAT TRANSFER by S P SUKHATME\n",
"// Chapter 3\n",
"// Thermal Radiation\n",
"\n",
"// Example 3.11\n",
"// Page 141\n",
"printf('Example 3.11, Page 141 \n\n')\n",
"\n",
"// All modes of heat transfer are involved\n",
"// let steady state heat flux flowing through the composite slab be (q/a)\n",
"h1 = 20;     //[W/m^2 K]\n",
"w1 = 0.2;    //[m]\n",
"k1 = 1;      //[W/m K]\n",
"e1 = 0.5;    //emmisivity at surfce 1\n",
"e2 = 0.4;    //emmisivity at surfce 2\n",
"w2 = 0.3;    //[m]\n",
"k2 = 0.5;    //[W/m K]\n",
"h2 = 10;     //[W/m^2 K]\n",
"T1 = 473;    //[Kelvin]\n",
"T2 = 273+40; //[Kelvin]\n",
"stefan_cnst = 5.67e-08;   //[W/m^2 K^4]\n",
"\n",
"// For resistances 1 and 2\n",
"function[f]=temperature(T)\n",
"    f(1) = (T1-T(1))/(1/h1 + w1/k1) - (T(2) - T2)/(w2/k2 + 1/h2);\n",
"    f(2) = stefan_cnst*(T(1)^4 - T(2)^4)/(1/e1 + 1/e2 -1) - (T(2) - T2)/(w2/k2 + 1/h2);\n",
"    funcprot(0);\n",
"endfunction\n",
"\n",
"T = [10 10]; // assumed initial values for fsolve function\n",
"y = fsolve(T,temperature);\n",
"\n",
"printf('\n Steady state heat flux q/A = %.1f W/m^2',(T1-y(1))/(1/h1 + w1/k1));\n",
"\n",
"\n",
"\n",
""
   ]
   }
,
{
		   "cell_type": "markdown",
		   "metadata": {},
		   "source": [
			"## Example 3.12: Rate_of_heat_loss.sce"
		   ]
		  },
  {
"cell_type": "code",
	   "execution_count": null,
	   "metadata": {
	    "collapsed": true
	   },
	   "outputs": [],
"source": [
"clear;\n",
"clc;\n",
"\n",
"// A Textbook on HEAT TRANSFER by S P SUKHATME\n",
"// Chapter 3\n",
"// Thermal Radiation\n",
"\n",
"// Example 3.12\n",
"// Page 145\n",
"printf('Example 3.12, Page 145 \n\n')\n",
"\n",
"D = 0.02 ; // [m]\n",
"T1 = 1000+273 ; // [K]\n",
"T2 = 27+273 ; // [K]\n",
"s = 5.670*10^-8 ; // stefans constant\n",
"// Assuming the opening is closed by an imaginary surface at temperature T1\n",
"// Using equation 3.10.3 , we get\n",
"q = s*1*%pi*((D/2)^2)*(T1^4-T2^4); // [W]\n",
"\n",
"printf('Rate at which heat is lost by radiation = %f W',q);"
   ]
   }
,
{
		   "cell_type": "markdown",
		   "metadata": {},
		   "source": [
			"## Example 3.13: Rate_of_nitrogen_evaporation.sce"
		   ]
		  },
  {
"cell_type": "code",
	   "execution_count": null,
	   "metadata": {
	    "collapsed": true
	   },
	   "outputs": [],
"source": [
"clear;\n",
"clc;\n",
"\n",
"// A Textbook on HEAT TRANSFER by S P SUKHATME\n",
"// Chapter 3\n",
"// Thermal Radiation\n",
"\n",
"// Example 3.13\n",
"// Page 146\n",
"printf('Example 3.13, Page 146 \n\n')\n",
"\n",
"D = 0.32 ; // [m]\n",
"D_s = 0.36 ; // [m]\n",
"e = 0.02 ; // emissivity\n",
"l = 201 ; // [kJ/kg]\n",
"rho = 800 ; // [kg/m^3]\n",
"s = 5.670*10^-8 ;\n",
"\n",
"T2 = 303 ; // [K]\n",
"T1 = 77 ; // [K]\n",
"\n",
"// From equation 3.10.1\n",
"q1 = s*4*%pi*((D/2)^2)*(T1^4-T2^4)/[1/e+((D/D_s)^2)*(1/e-1)]; // [W]\n",
"\n",
"evap = abs(q1)*3600*24/(l*1000); // [kg/day]\n",
"mass = 4/3*%pi*((D/2)^3)*rho;\n",
"boiloff = evap/mass*100 ; // percent\n",
"\n",
"T_drop = (abs(q1))/(4*%pi*((D/2)^2))*(1/100); // [C]\n",
"\n",
"printf('Rate at which nitrogen evaporates = %f kg/day \n',evap)\n",
"printf('Boil-off rate = %f percent \n',boiloff);\n",
"printf('Temperature drop between liquid Nitrogen and inner surface = %f C',T_drop);"
   ]
   }
,
{
		   "cell_type": "markdown",
		   "metadata": {},
		   "source": [
			"## Example 3.14: Rate_of_energy_loss_from_satellite.sce"
		   ]
		  },
  {
"cell_type": "code",
	   "execution_count": null,
	   "metadata": {
	    "collapsed": true
	   },
	   "outputs": [],
"source": [
"clear;\n",
"clc;\n",
"\n",
"// A Textbook on HEAT TRANSFER by S P SUKHATME\n",
"// Chapter 3\n",
"// Thermal Radiation\n",
"\n",
"// Example 3.14\n",
"// Page 147\n",
"printf('Example 3.14, Page 147 \n\n')\n",
"\n",
"D = 1 ; // [m]\n",
"r = 6250 ; // [km]\n",
"D_surf = 300 ; // [km]\n",
"s = 5.670*10^-8;\n",
"e = 0.3 ;\n",
"Tc = -18+273 ; // [K]\n",
"T_surf = 27+273 ; // [K]\n",
"\n",
"// Rate of emissino of radiant energy from the two faces of satellite disc\n",
"r_emission = 2*e*%pi*((D/2)^2)*s*Tc^4; // [W]\n",
"\n",
"// A2*F21 = A1*F12\n",
"sina = (r/(r+D_surf));\n",
"F12 = sina^2;\n",
"\n",
"// Rate at which the satellite receives and absorbs energy coming from earth\n",
"r_receive = e*s*(%pi*((D/2)^2))*F12*T_surf^4; // [W]\n",
"\n",
"r_loss = r_emission - r_receive; // [W]\n",
"\n",
"printf('Net Rate at which energy is leaving the satellite = %f W',r_loss);\n",
""
   ]
   }
,
{
		   "cell_type": "markdown",
		   "metadata": {},
		   "source": [
			"## Example 3.15: Net_radiative_heat_transfer.sce"
		   ]
		  },
  {
"cell_type": "code",
	   "execution_count": null,
	   "metadata": {
	    "collapsed": true
	   },
	   "outputs": [],
"source": [
"clear;\n",
"clc;\n",
"\n",
"// A Textbook on HEAT TRANSFER by S P SUKHATME\n",
"// Chapter 3\n",
"// Thermal Radiation\n",
"\n",
"// Example 3.15\n",
"// Page 151\n",
"printf('Example 3.15, Page 151 \n\n')\n",
"\n",
"// From example 3.10\n",
"F12 = 0.0363;\n",
"F11 = 0;\n",
"F13 = 1-F11-F12;\n",
"// Similarly\n",
"F21 = 0.0363;\n",
"F22 = 0;\n",
"F23 = 0.9637;\n",
"\n",
"// Now, F31 = A1/A3*F13\n",
"F31 = 2/24*F13;\n",
"// Therefore\n",
"F32 = F31;\n",
"F33 = 1-F31-F32;\n",
"\n",
"// Substituting into equation 3.11.6, 3.11.7, 3.11.8, we have f(1),f(2),f(3)\n",
"\n",
"function[f]=flux(B)\n",
"    f(1)= B(1) - 0.4*0.0363*B(2) - 0.4*0.9637*B(3) - 0.6*(473^4)*(5.670*10^-8);\n",
"    f(2)= -0.4*0.0363*B(1) + B(2) - 0.4*0.9637*B(3) - 0.6*(5.670*10^-8)*(373^4);\n",
"    f(3)= 0.0803*B(1) + 0.0803*B(2) - 0.1606*B(3);\n",
"    funcprot(0);\n",
"endfunction\n",
"\n",
"B = [0 0 0];\n",
"y = fsolve(B,flux);\n",
"printf('\n B1 = %.1f W/m^2',y(1));\n",
"printf('\n B2 = %.1f W/m^2',y(2));\n",
"printf('\n B3 = %.1f W/m^2 \n',y(3));\n",
"\n",
"// Therefore\n",
"H1 = 0.0363*y(2) + 0.9637*y(3) ; // [W/m^2]\n",
"// and\n",
"q1 = 2*(y(1) - H1) ; // [W]\n",
"\n",
"printf('Net radiative heat transfer = %f W',q1);"
   ]
   }
,
{
		   "cell_type": "markdown",
		   "metadata": {},
		   "source": [
			"## Example 3.1: Monochromatic_emissive_power.sce"
		   ]
		  },
  {
"cell_type": "code",
	   "execution_count": null,
	   "metadata": {
	    "collapsed": true
	   },
	   "outputs": [],
"source": [
"clear;\n",
"clc;\n",
"\n",
"// A Textbook on HEAT TRANSFER by S P SUKHATME\n",
"// Chapter 3\n",
"// Thermal Radiation\n",
"\n",
"// Example 3.1\n",
"// Page 114\n",
"printf('Example 3.1, Page 114 \n\n');\n",
"\n",
"T = 5779 ; // [Temperature,in Kelvin]\n",
"// From Wein's law, eqn 3.2.8\n",
"lambda_m = 0.00290/T ; // [m]\n",
"// Substituting this value in plank's law, we get\n",
"e = 2*(%pi)*0.596*(10^-16)/(((0.5018*10^-6)^5)*(exp(0.014387/0.00290)-1)) ; //[W/m^2 m]\n",
"\n",
"e_bl_max= e / 10^6 ;\n",
"\n",
"printf('Value of emissivity on sun surface is %f W/m^2 um \n',e_bl_max); //[W/m^2 um]\n",
"\n",
"e_earth = e_bl_max*((0.695*10^6)/(1.496*10^8))^2 ;\n",
"\n",
"printf('The value of emmissivity on earths surface is %f W/m^2 um', e_earth)"
   ]
   }
,
{
		   "cell_type": "markdown",
		   "metadata": {},
		   "source": [
			"## Example 3.2: Heat_flux.sce"
		   ]
		  },
  {
"cell_type": "code",
	   "execution_count": null,
	   "metadata": {
	    "collapsed": true
	   },
	   "outputs": [],
"source": [
"clear;\n",
"clc;\n",
"\n",
"// A Textbook on HEAT TRANSFER by S P SUKHATME\n",
"// Chapter 3\n",
"// Thermal Radiation\n",
"\n",
"// Example 3.2\n",
"// Page 115\n",
"printf('Example 3.2, Page 115 \n\n')\n",
"\n",
"//Heat emission\n",
"Stefan_constt = 5.67*10^(-8);    //(W/m^2.K^4)\n",
"T = 1500;                          //temperature is in kelvins\n",
"eb = (Stefan_constt)*(T^(4));          //energy radiated by blackbody\n",
"//emission in 0.3um to 1um\n",
"e = 0.9;                       //emissivity\n",
"lamda1 = 1;                    //wavelength is in um\n",
"lamda2 = 0.3;                  //wavelength is in um\n",
"D0_1=0.5*(0.01972+0.00779);     //From table 3.1 page- 114\n",
"D0_2=0;                        //From table 3.1 page- 114\n",
"q = e*(D0_1-D0_2)*Stefan_constt*T^(4);//in W/m^2\n",
"printf('\n wavelength*temp = %d um K',1*1500);\n",
"printf('\n wavelength*temp at 0.3um = %d um K',0.3*1500);\n",
"printf('\n\n Required heat flux, q = %d W/m^2',q);\n",
"\n",
"\n",
"\n",
"\n",
"\n",
"\n",
"\n",
"\n",
"\n",
"\n",
"\n",
"\n",
"\n",
"\n",
"\n",
"\n",
"\n",
""
   ]
   }
,
{
		   "cell_type": "markdown",
		   "metadata": {},
		   "source": [
			"## Example 3.3: Absorbed_radiant_flux_and_absorptivity_and_reflectivity.sce"
		   ]
		  },
  {
"cell_type": "code",
	   "execution_count": null,
	   "metadata": {
	    "collapsed": true
	   },
	   "outputs": [],
"source": [
"clear;\n",
"clc;\n",
"\n",
"// A Textbook on HEAT TRANSFER by S P SUKHATME\n",
"// Chapter 3\n",
"// Thermal Radiation\n",
"\n",
"// Example 3.3\n",
"// Page 119\n",
"printf('Example 3.3, Page 119 \n\n')\n",
"\n",
"\n",
"a0_2=1; //absorptivity\n",
"a2_4=1; //absorptivity\n",
"a4_6=0.5; //absorptivity\n",
"a6_8=0.5; //absorptivity\n",
"a8_=0; //absorptivity\n",
"H0_2=0; //Irradiation in W/m^2 um\n",
"H2_4=750; //Irradiation in W/m^2 um\n",
"H4_6=750; //Irradiation in W/m^2 um\n",
"H6_8=750; //Irradiation in W/m^2 um\n",
"H8_=750; //Irradiation in W/m^2 um\n",
"Absorbed_radiant_flux=1*0*(2-0)+1*750*(4-2)+0.5*750*(8-4)+0;\n",
"H = 750*(8-2);      //Incident flux\n",
"a = Absorbed_radiant_flux/H;\n",
"p = 1-a;          //Since the surface is opaque\n",
"printf('\n Absorbed radiant flux = %d W/m^2',Absorbed_radiant_flux);\n",
"printf('\n Incident flux = %d W/m^2',H);\n",
"printf('\n Absorptivity = %.3f',a);\n",
"printf('\n Since the surface is opaque reflectivity = %.3f',p);"
   ]
   }
,
{
		   "cell_type": "markdown",
		   "metadata": {},
		   "source": [
			"## Example 3.4_a: Total_intensity_in_normal_direction.sce"
		   ]
		  },
  {
"cell_type": "code",
	   "execution_count": null,
	   "metadata": {
	    "collapsed": true
	   },
	   "outputs": [],
"source": [
"clear;\n",
"clc;\n",
"\n",
"// A Textbook on HEAT TRANSFER by S P SUKHATME\n",
"// Chapter 3\n",
"// Thermal Radiation\n",
"\n",
"// Example 3.4(a)\n",
"// Page 123\n",
"printf('Example 3.4(a), Page 123 \n\n')\n",
"\n",
"\n",
"e = 0.08; //emissivity\n",
"T = 800; //temperature, [K]\n",
"\n",
"Stefan_constt = 5.67*10^(-8);    //[W/m^2.K^4]\n",
"// From Stefan Boltzmann law, equation 3.2.10\n",
"q = e*Stefan_constt*T^4;         //[W/m^2]\n",
"printf('\n Energy emitted = %.1f W/m^2',q);\n",
"\n",
"// (a)\n",
"// Therefore\n",
"in = (q/(%pi));\n",
"printf('\n Energy emitted normal to the surface = %.1f W/m^2 sr',in);"
   ]
   }
,
{
		   "cell_type": "markdown",
		   "metadata": {},
		   "source": [
			"## Example 3.4_b: Ratio_of_radiant_flux_to_the_emissive_power.sce"
		   ]
		  },
  {
"cell_type": "code",
	   "execution_count": null,
	   "metadata": {
	    "collapsed": true
	   },
	   "outputs": [],
"source": [
"clear;\n",
"clc;\n",
"\n",
"// A Textbook on HEAT TRANSFER by S P SUKHATME\n",
"// Chapter 3\n",
"// Thermal Radiation\n",
"\n",
"// Example 3.4(b)\n",
"// Page 123\n",
"printf('Example 3.4(b), Page 123 \n\n')\n",
"\n",
"\n",
"e = 0.08; //emissivity\n",
"T = 800; //temperature, [K]\n",
"\n",
"Stefan_constt = 5.67*10^(-8);    //[W/m^2.K^4]\n",
"// From Stefan Boltzmann law, equation 3.2.10\n",
"q = e*Stefan_constt*T^4;         //[W/m^2]\n",
"in = (q/(%pi));\n",
"\n",
"// (b)\n",
"// Radiant flux emitted in the cone 0 <= pzi <= 50 degree, 0 <= theta <= 2*pi\n",
"q_cone=2*(%pi)*in*(-cos(100*(%pi/180))+cos(0))/4;\n",
"\n",
"printf('\n Radiant flux emitted in the cone =%.1f W/m^2',q_cone);\n",
"\n",
"Ratio = q_cone/q;\n",
"printf('\n Ratio = %.3f',Ratio);\n",
""
   ]
   }
,
{
		   "cell_type": "markdown",
		   "metadata": {},
		   "source": [
			"## Example 3.5: Rate_of_incident_radiation.sce"
		   ]
		  },
  {
"cell_type": "code",
	   "execution_count": null,
	   "metadata": {
	    "collapsed": true
	   },
	   "outputs": [],
"source": [
"clear;\n",
"clc;\n",
"\n",
"// A Textbook on HEAT TRANSFER by S P SUKHATME\n",
"// Chapter 3\n",
"// Thermal Radiation\n",
"\n",
"// Example 3.5\n",
"// Page 124\n",
"printf('Example 3.5, Page 124 \n\n')\n",
"\n",
"l1 = 0.5 ; // wavelength, [um]\n",
"l2 = 1.5 ; // wavelength, [um]\n",
"l3 = 2.5 ; // wavelength, [um]\n",
"l4 = 3.5 ; // wavelength, [um]\n",
"H1 = 2500 ; // [W/m^2 um]\n",
"H2 = 4000 ; // [W/m^2 um]\n",
"H3 = 2500 ; // [W/m^2 um]\n",
"\n",
"// Since the irridiation is diffuse, the spectral intensity is given by eqn 3.4.14 and 3.4.8\n",
"// Integrating i_lambda over the directions of the specified solid angle and using fig 3.12\n",
"\n",
"\n",
"flux = 3/4*[H1*(l2-l1)+H2*(l3-l2)+H3*(l4-l3)];\n",
"printf('Rate at which radiation is incident on the surface = %f W/m^2',flux);"
   ]
   }
,
{
		   "cell_type": "markdown",
		   "metadata": {},
		   "source": [
			"## Example 3.6: Shape_factor_F12.sce"
		   ]
		  },
  {
"cell_type": "code",
	   "execution_count": null,
	   "metadata": {
	    "collapsed": true
	   },
	   "outputs": [],
"source": [
"clear;\n",
"clc;\n",
"\n",
"// A Textbook on HEAT TRANSFER by S P SUKHATME\n",
"// Chapter 3\n",
"// Thermal Radiation\n",
"\n",
"// Example 3.6\n",
"// Page 132\n",
"printf('Example 3.6, Page 132 \n\n')\n",
"\n",
"// This is a theoretical problem with no numerical data\n",
"printf('This is a theoretical problem with no numerical data \n');\n",
"\n",
"// Considering an elementary ring dA2 of width dr at an arbitary radius r, we have\n",
"// r = h*tanB1\n",
"// dA2 = 2*%pi*r*dr\n",
"// dA2 = 2*%pi*(h^2)*tan(B1)*sec^2(B1)*dB1\n",
"// B2 = B1, since surfaces ate parallel, and\n",
"// L = h/cos(B1)\n",
"// Substituting in eqn 3.6.7\n",
"// F12 = sin^2(a)\n",
"\n",
"\n",
"printf('Considering an elementary ring dA2 of width dr at an arbitary radius r, we have \n');\n",
"printf('r = h*tanB1 \n');\n",
"printf('dA2 = 2*pi*r*dr \n');\n",
"printf('dA2 = 2*pi*(h^2)*tan(B1)*sec^2(B1)*dB1 \n');\n",
"printf('B2 = B1, since surfaces ate parallel, and \n');\n",
"printf('L = h/cos(B1) \n');\n",
"printf('Substituting in eqn 3.6.7 \n');\n",
"printf('F12 = sin^2(a) \n');\n",
""
   ]
   }
,
{
		   "cell_type": "markdown",
		   "metadata": {},
		   "source": [
			"## Example 3.7: Shape_factor.sce"
		   ]
		  },
  {
"cell_type": "code",
	   "execution_count": null,
	   "metadata": {
	    "collapsed": true
	   },
	   "outputs": [],
"source": [
"clear;\n",
"clc;\n",
"\n",
"// A Textbook on HEAT TRANSFER by S P SUKHATME\n",
"// Chapter 3\n",
"// Thermal Radiation\n",
"\n",
"// Example 3.7\n",
"// Page 134\n",
"printf('Example 3.7, Page 134 \n\n')\n",
"\n",
"// This is a theoretical problem with no numerical data\n",
"printf('This is a theoretical problem with no numerical data \n');\n",
"\n",
"\n",
"// Considering an elementary circular ring on the surface of the sphere's surface at any arbitary anglr B,\n",
"// we have B1 = B, B2 = 0, L = R and dA_2 = 2*%pi*(R^2)*(sin(B))dB\n",
"// Therefore, from equation 3.6.7\n",
"// F12 = sin^2(a)\n",
"\n",
"printf('Considering an elementary circular ring on the surface of the sphere surface at any arbitary anglr B \n');\n",
"printf('we have B1 = B, B2 = 0, L = R and dA_2 = 2*pi*(R^2)*(sin(B))dB \n');\n",
"printf('Therefore, from equation 3.6.7 \n');\n",
"printf('F12 = sin^2(a)');"
   ]
   }
,
{
		   "cell_type": "markdown",
		   "metadata": {},
		   "source": [
			"## Example 3.8: Shape_factor_F12.sce"
		   ]
		  },
  {
"cell_type": "code",
	   "execution_count": null,
	   "metadata": {
	    "collapsed": true
	   },
	   "outputs": [],
"source": [
"clear;\n",
"clc;\n",
"\n",
"// A Textbook on HEAT TRANSFER by S P SUKHATME\n",
"// Chapter 3\n",
"// Thermal Radiation\n",
"\n",
"// Example 3.8\n",
"// Page 135\n",
"printf('Example 3.8, Page 135 \n\n')\n",
"\n",
"// From eqn 3.7.5 or fig 3.19\n",
"F65 = 0.22;\n",
"F64 = 0.16;\n",
"F35 = 0.32;\n",
"F34 = 0.27;\n",
"A1 = 3; // [m^2]\n",
"A3 = 3; // [m^2]\n",
"A6 = 6; // [m^2]\n",
"\n",
"// Using additive and reciprocal relations\n",
"// We have F12 = F16 - F13\n",
"\n",
"F61 = F65 - F64 ;\n",
"F31 = F35 - F34 ;\n",
"\n",
"F16 = A6/A1*F61 ;\n",
"F13 = A3/A1*F31 ;\n",
"\n",
"F12 = F16 - F13;\n",
"\n",
"printf('F_1-2 = %f',F12);\n",
""
   ]
   }
,
{
		   "cell_type": "markdown",
		   "metadata": {},
		   "source": [
			"## Example 3.9: Shape_factor.sce"
		   ]
		  },
  {
"cell_type": "code",
	   "execution_count": null,
	   "metadata": {
	    "collapsed": true
	   },
	   "outputs": [],
"source": [
"clear;\n",
"clc;\n",
"\n",
"// A Textbook on HEAT TRANSFER by S P SUKHATME\n",
"// Chapter 3\n",
"// Thermal Radiation\n",
"\n",
"// Example 3.9\n",
"// Page 136\n",
"printf('Example 3.9, Page 136 \n\n')\n",
"\n",
"// This is a theoretical problem, does not involve any numerical computation\n",
"printf('This is a theoretical problem, does not involve any numerical computation \n');\n",
"// Denoting area of conical surface by A1\n",
"// Considering an imaginary flat surface A2 closing the conical cavity\n",
"\n",
"F22 = 0 ; // Flat surface\n",
"\n",
"// from eqn 3.7.2 , we have F11 + F12 = 1 and F22 + F21 = 1\n",
"F21 = 1 - F22 ;\n",
"\n",
"// F12 = A2/A1*F21 ;\n",
"// F11 = 1 - F12 ;\n",
"// F11 = 1 - sin(a)"
   ]
   }
],
"metadata": {
		  "kernelspec": {
		   "display_name": "Scilab",
		   "language": "scilab",
		   "name": "scilab"
		  },
		  "language_info": {
		   "file_extension": ".sce",
		   "help_links": [
			{
			 "text": "MetaKernel Magics",
			 "url": "https://github.com/calysto/metakernel/blob/master/metakernel/magics/README.md"
			}
		   ],
		   "mimetype": "text/x-octave",
		   "name": "scilab",
		   "version": "0.7.1"
		  }
		 },
		 "nbformat": 4,
		 "nbformat_minor": 0
}
