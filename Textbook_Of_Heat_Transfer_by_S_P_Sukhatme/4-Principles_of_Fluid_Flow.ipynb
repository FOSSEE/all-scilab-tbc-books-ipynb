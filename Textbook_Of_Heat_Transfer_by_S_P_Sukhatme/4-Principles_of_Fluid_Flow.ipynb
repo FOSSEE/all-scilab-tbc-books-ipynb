{
"cells": [
 {
		   "cell_type": "markdown",
	   "metadata": {},
	   "source": [
       "# Chapter 4: Principles of Fluid Flow"
	   ]
	},
{
		   "cell_type": "markdown",
		   "metadata": {},
		   "source": [
			"## Example 4.1: Pressure_drop_in_smooth_pipe.sce"
		   ]
		  },
  {
"cell_type": "code",
	   "execution_count": null,
	   "metadata": {
	    "collapsed": true
	   },
	   "outputs": [],
"source": [
"clear;\n",
"clc;\n",
"\n",
"// A Textbook on HEAT TRANSFER by S P SUKHATME\n",
"// Chapter 4\n",
"// Principles of Fluid Flow\n",
"\n",
"// Example 4.1\n",
"// Page 172\n",
"printf('Example 4.1, Page 172 \n\n');\n",
"\n",
"L = 3 ; // Length, [m] \n",
"D = 0.01 ; // ID, [m]\n",
"V = 0.2 ; // Average Velocity, [m/s]\n",
"\n",
"// From Table A.1 at 10 degree C\n",
"rho=999.7 ; // [kg/m^3]\n",
"v=1.306 * 10^-6 ; // [m^2/s]\n",
"\n",
"Re_D=0.2*0.01/(1.306*10^-6) ;\n",
"\n",
"// this value is less than the transition Reynolds  number 2300.\n",
"// Hence flow is laminar. From eqn 4.4.19\n",
"f = 16/Re_D;\n",
"\n",
"// from eqn 4.4.17\n",
"delta_p = 4*f*(L/D)*(rho*V^2)/2;\n",
"\n",
"// since flow is laminar\n",
"V_max = 2*V;\n",
"\n",
"printf('Pressure drop is %f Pa \n',delta_p);\n",
"printf(' Maximum velocity is %f m/s',V_max);"
   ]
   }
,
{
		   "cell_type": "markdown",
		   "metadata": {},
		   "source": [
			"## Example 4.2_a: Pressure_drop_and_maximum_velocity_calculation.sce"
		   ]
		  },
  {
"cell_type": "code",
	   "execution_count": null,
	   "metadata": {
	    "collapsed": true
	   },
	   "outputs": [],
"source": [
"clear;\n",
"clc;\n",
"\n",
"// A Textbook on HEAT TRANSFER by S P SUKHATME\n",
"// Chapter 4\n",
"// Principles of Fluid Flow\n",
"\n",
"// Example 4.2(a)\n",
"// Page 180\n",
"printf('Example 4.2(a), Page 180 \n\n')\n",
"\n",
"L = 3 ; //[m]\n",
"D = 0.01 ; //[m]\n",
"V = 0.2 ; //[m/s]\n",
"\n",
"// (a)\n",
"printf('(a) If the temperature of water is increased to 80 degree C \n');\n",
"\n",
"\n",
"// Properties of water at 80 degree C\n",
"rho = 971.8 ; // [kg/m^3]\n",
"v = 0.365 * 10^-6 ; // [m^2/s]\n",
"\n",
"Re_D = D*V/v;\n",
"\n",
"// flow is turbilent, so from eqn 4.6.4a\n",
"\n",
"f=0.079*(Re_D)^(-0.25);\n",
"delta_p = (4*f*L*rho*V^2)/(D*2); // [Pa]\n",
"printf('Pressure drop is %f Pa \n',delta_p);\n",
"\n",
"// from eqn 4.4.16\n",
"\n",
"// x = (T_w/p)^0.5 = ((f/2)^0.5)*V ;\n",
"x = ((f/2)^0.5)*V ;\n",
"y_plus = 0.005*x/(0.365*10^-6);\n",
"\n",
"// from eqn 4.6.1c & 4.6.2\n",
"\n",
"V_max = x*(2.5* log(y_plus) + 5.5) ; // [m/s]\n",
"ratio = V_max/V;\n",
"printf('V_max = %f m/s \n',V_max);\n",
"printf('V_max/V_bar = %f \n\n',ratio);"
   ]
   }
,
{
		   "cell_type": "markdown",
		   "metadata": {},
		   "source": [
			"## Example 4.2_b: Pressure_drop_and_maximum_velocity_calculation.sce"
		   ]
		  },
  {
"cell_type": "code",
	   "execution_count": null,
	   "metadata": {
	    "collapsed": true
	   },
	   "outputs": [],
"source": [
"clear;\n",
"clc;\n",
"\n",
"// A Textbook on HEAT TRANSFER by S P SUKHATME\n",
"// Chapter 4\n",
"// Principles of Fluid Flow\n",
"\n",
"// Example 4.2(b)\n",
"// Page 180\n",
"printf('Example 4.2(b), Page 180 \n\n')\n",
"\n",
"L = 3 ; //[m]\n",
"D = 0.01 ; //[m]\n",
"V = 0.2 ; //[m/s]\n",
"\n",
"// (b)\n",
"\n",
"V1=0.7;\n",
"v1 = 1.306 * 10^-6 ; // [m^2/s]\n",
"\n",
"printf('(b) If the velocity is increased to 0.7 \n');\n",
"// if velocity of water is 0.7 m/s\n",
"V1=0.7; // [m/s]\n",
"Re_D1=V1*D/(1.306*10^-6);\n",
"printf('Reynolds no is %f \n',Re_D1);\n",
"\n",
"// flow is again turbulent\n",
"f1 = 0.079*(Re_D1)^(-0.25);\n",
"\n",
"delta_p1 = (4*f1*L*999.7*0.7^2)/(0.01*2); // [Pa]\n",
"printf('Pressure drop is %f Pa \n',delta_p1);\n",
"\n",
"// x1 = (T_w/p)^0.5 = ((f1/2)^0.5)*V ;\n",
"x1 = ((f1/2)^0.5)*V1 ;\n",
"\n",
"y1_plus = 0.005*x1/(v1);\n",
"printf('y+ at centre line = %f \n',y1_plus);\n",
"\n",
"V_max1 = x1*(2.5* log(y1_plus) + 5.5) ; // [m/s]\n",
"printf('V_max is %f m/s \n',V_max1);\n",
"\n",
"ratio1 = V_max1/V1;\n",
"printf('Vmax/Vbar = %f ',ratio1);"
   ]
   }
,
{
		   "cell_type": "markdown",
		   "metadata": {},
		   "source": [
			"## Example 4.3: Pressure_drop_and_power_needed.sce"
		   ]
		  },
  {
"cell_type": "code",
	   "execution_count": null,
	   "metadata": {
	    "collapsed": true
	   },
	   "outputs": [],
"source": [
"clear;\n",
"clc;\n",
"\n",
"// A Textbook on HEAT TRANSFER by S P SUKHATME\n",
"// Chapter 4\n",
"// Principles of Fluid Flow\n",
"\n",
"// Example 4.3\n",
"// Page 181\n",
"printf('Example 4.3, Page 181 \n\n')\n",
"P = 80 * 10^3 ; // [Pa]\n",
"L = 10 ; // [m]\n",
"V_bar = 1.9 ; // [m/s]\n",
"l = 0.25 ; // [m]\n",
"b = 0.15 ; // [m]\n",
"\n",
"// Fully developed flow\n",
"\n",
"// From Table A.2, for air at ! atm pressure and 25 degree C\n",
"rho = 1.185 ; // [kg/m^3]\n",
"mew = 18.35 * 10^-6 ; // [kg/m s]\n",
"\n",
"// At 80 kPa and 25 degree C\n",
"rho1 = rho*(80/101.3) ; // [kg/m^3]\n",
"\n",
"// For given duct r=(b/a)\n",
"r = b/l;\n",
"\n",
"D_e = (4*l/2*b/2)/(l/2 + b/2); // [m]\n",
"\n",
"// From eqn 4.6.7\n",
"\n",
"D_l = [2/3 + 11/24*0.6*(2-0.6)]*D_e ; // [m]\n",
"\n",
"// Reynolds no based on D_l\n",
"\n",
"Re = rho1*D_l*V_bar/mew;\n",
"printf('Reynolds no = %f \n',Re);\n",
"\n",
"f = 0.079*(Re^-0.25) ;\n",
"printf('f = %f \n',f);\n",
"\n",
"// From eqn 4.4.17\n",
"\n",
"delta_P = 4*f*(L/D_l)*(rho1*(V_bar^2)/2);\n",
"printf('Pressure drop = %f Pa \n',delta_P);\n",
"\n",
"power = delta_P*(V_bar*l*b)\n",
"printf('Power required = %f W',power);"
   ]
   }
,
{
		   "cell_type": "markdown",
		   "metadata": {},
		   "source": [
			"## Example 4.4: Thickness_of_velocity_boundary_layer.sce"
		   ]
		  },
  {
"cell_type": "code",
	   "execution_count": null,
	   "metadata": {
	    "collapsed": true
	   },
	   "outputs": [],
"source": [
"clear;\n",
"clc;\n",
"\n",
"// A Textbook on HEAT TRANSFER by S P SUKHATME\n",
"// Chapter 4\n",
"// Principles of Fluid Flow\n",
"\n",
"// Example 4.4\n",
"// Page 189\n",
"printf('Example 4.4, Page 189 \n\n')\n",
"\n",
"l = 2 ; // [m]\n",
"b = 1 ; // [m]\n",
"V = 1 ; // [m/s]\n",
"\n",
"// From table A.2\n",
"\n",
"rho = 1.060 ; // [kg/m^3]\n",
"v = 18.97 * 10^-6 ; // [m^2/s]\n",
"\n",
"// At x = 1.5m\n",
"x = 1.5 ; // [m]\n",
"Re = V*x/v; // Reynolds number\n",
"\n",
"// From eqn 4.8.12\n",
"\n",
"d = 5*x/(Re^(1/2))*1000 ; // [mm]\n",
"printf('Thickness of Boundary layer at x = 1.5 is %f mm \n',d)\n",
"\n",
"Re_l = V*l/v;\n",
"\n",
"// From eqn 4.8.19 and 4.8.16\n",
"\n",
"c_f = 1.328*Re_l^-(1/2); // drag coefficient\n",
"printf('Drag Coefficient c_f = %f \n',c_f);\n",
"\n",
"F_d = 0.00409*(1/2)*rho*(2*l*b)*1^2;\n",
"printf('Drag Force F_D = %f N',F_d);"
   ]
   }
,
{
		   "cell_type": "markdown",
		   "metadata": {},
		   "source": [
			"## Example 4.5: Drag_coefficient_and_drag_force.sce"
		   ]
		  },
  {
"cell_type": "code",
	   "execution_count": null,
	   "metadata": {
	    "collapsed": true
	   },
	   "outputs": [],
"source": [
"clear;\n",
"clc;\n",
"\n",
"// A Textbook on HEAT TRANSFER by S P SUKHATME\n",
"// Chapter 4\n",
"// Principles of Fluid Flow\n",
"\n",
"// Example 4.5\n",
"// Page 195\n",
"printf('Example 4.5, Page 195 \n\n');\n",
"\n",
"l = 2 ; // [m]\n",
"v = 4 ; // [m/s]\n",
"\n",
"// From Table A.2\n",
"\n",
"mew = 18.1*10^-6; // [N s/m^2]\n",
"rho = 1.205*1.5; // [kg/m^3]\n",
"\n",
"Re_l = rho*v*l/mew;\n",
"// Boundary layer is partly laminar and partly turbulent, we shall use eqn 4.10.4\n",
"Cf = 0.074*(7.989*10^5)^(-0.2) - 1050/Re_l ;\n",
"printf('Drag coefficieent is %f \n',Cf)\n",
"\n",
"D_f= Cf*1/2*rho*l*v^2;\n",
"printf('Drag force per meter width = %f N \n',D_f);\n",
"\n",
"//from eqn 4.10.1\n",
"\n",
"x = 3*10^5 * (18.1*10^-6)/(1.808*4);\n",
"printf('Value of x_c is %f m',x);"
   ]
   }
],
"metadata": {
		  "kernelspec": {
		   "display_name": "Scilab",
		   "language": "scilab",
		   "name": "scilab"
		  },
		  "language_info": {
		   "file_extension": ".sce",
		   "help_links": [
			{
			 "text": "MetaKernel Magics",
			 "url": "https://github.com/calysto/metakernel/blob/master/metakernel/magics/README.md"
			}
		   ],
		   "mimetype": "text/x-octave",
		   "name": "scilab",
		   "version": "0.7.1"
		  }
		 },
		 "nbformat": 4,
		 "nbformat_minor": 0
}
