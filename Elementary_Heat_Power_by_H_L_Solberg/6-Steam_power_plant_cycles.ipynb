{
"cells": [
 {
		   "cell_type": "markdown",
	   "metadata": {},
	   "source": [
       "# Chapter 6: Steam power plant cycles"
	   ]
	},
{
		   "cell_type": "markdown",
		   "metadata": {},
		   "source": [
			"## Example 6.1: Example_1.sce"
		   ]
		  },
  {
"cell_type": "code",
	   "execution_count": null,
	   "metadata": {
	    "collapsed": true
	   },
	   "outputs": [],
"source": [
"clc\n",
"clear\n",
"//Initialization of variables\n",
"P1=200 //psia\n",
"T1=600 //F\n",
"P2=2 //psia\n",
"J=778\n",
"//calculations\n",
"disp('from mollier charts,')\n",
"h1=1322 //Btu/lb\n",
"h2=974 //Btu/lb\n",
"vf2=0.01623 //cu ft per lb\n",
"hf2=94 //Btu/lb\n",
"t2=126 //F\n",
"Wtj=h1-h2\n",
"Qout=h2-hf2\n",
"Wp=(P1-P2)*vf2\n",
"Wpj=Wp/J\n",
"h3=hf2+Wpj\n",
"Qin=h1-h3\n",
"etat=((h1-h2)-Wpj)/(h1-(hf2+Wpj))\n",
"eta=((h1-h2))/(h1-(hf2))\n",
"//results\n",
"printf('Efficiency of rankine cycle = %.1f percent',etat*100)\n",
"printf('\n Efficiency of rankine cycle neglecting boiler feed pump = %.1f percent',eta*100)"
   ]
   }
,
{
		   "cell_type": "markdown",
		   "metadata": {},
		   "source": [
			"## Example 6.2: Example_2.sce"
		   ]
		  },
  {
"cell_type": "code",
	   "execution_count": null,
	   "metadata": {
	    "collapsed": true
	   },
	   "outputs": [],
"source": [
"clc\n",
"clear\n",
"//Initialization of variables\n",
"B=70 //F\n",
"P1=140 //psia\n",
"x=0.986\n",
"P2=14.7 //psia\n",
"ms=2000 //lb/hr\n",
"Ihp=80\n",
"//calculations\n",
"disp('From mollier charts,')\n",
"hc=38 //Btu/lb\n",
"hf=324.82 //Btu/lb\n",
"hfg=868.2 //Btu/lb\n",
"h1=hf+x*hfg\n",
"Qin=ms*(h1-hc)\n",
"eta=Ihp*2545*100/(Qin)\n",
"Qw=Ihp*2545\n",
"Qr=Qin-Qw\n",
"per=Qr/Qin *100\n",
"//results\n",
"printf('Heat input to the boiler = %d Btu/hr',Qin)\n",
"printf('\n Cycle efficiency = %.1f percent',eta)\n",
"printf('\n Heat rejected to waste = %d Btu/hr or %.1f percent of Qin',Qr,per)\n",
"disp('The answer is a bit different due to rounding off error in textbook')"
   ]
   }
,
{
		   "cell_type": "markdown",
		   "metadata": {},
		   "source": [
			"## Example 6.3: Example_3.sce"
		   ]
		  },
  {
"cell_type": "code",
	   "execution_count": null,
	   "metadata": {
	    "collapsed": true
	   },
	   "outputs": [],
"source": [
"clc\n",
"clear\n",
"//Initialization of variables\n",
"B=70 //F\n",
"P1=140 //psia\n",
"x=0.986\n",
"P2=14.7 //psia\n",
"ms=2000 //lb/hr\n",
"Ihp=80\n",
"//calculations\n",
"disp('From mollier charts,')\n",
"hc=180 //Btu/lb\n",
"hf=324.82 //Btu/lb\n",
"hfg=868.2 //Btu/lb\n",
"h1=hf+x*hfg\n",
"Qin=ms*(h1-hc)\n",
"eta=Ihp*2545*100/(Qin)\n",
"Qw=Ihp*2545\n",
"Qr=Qin-Qw\n",
"per=Qr/Qin *100\n",
"//results\n",
"printf('Heat input to the boiler = %d Btu/hr',Qin)\n",
"printf('\n Cycle efficiency = %.2f percent',eta)\n",
"printf('\n Heat rejected to waste = %d Btu/hr or %.2f percent of Qin',Qr,per)\n",
"disp('The answer is a bit different due to rounding off error in textbook')"
   ]
   }
,
{
		   "cell_type": "markdown",
		   "metadata": {},
		   "source": [
			"## Example 6.4: Example_4.sce"
		   ]
		  },
  {
"cell_type": "code",
	   "execution_count": null,
	   "metadata": {
	    "collapsed": true
	   },
	   "outputs": [],
"source": [
"clc\n",
"clear\n",
"//Initialization of variables\n",
"m=1.24 //lb\n",
"HV=11300 //Btu/lb\n",
"//calculations\n",
"HR=m*HV\n",
"eff=3413/HR\n",
"//results\n",
"printf('Plant heat rate = %d Btu/kw hr',HR)\n",
"printf('\n Overall efficiency = %.1f percent',eff*100)"
   ]
   }
],
"metadata": {
		  "kernelspec": {
		   "display_name": "Scilab",
		   "language": "scilab",
		   "name": "scilab"
		  },
		  "language_info": {
		   "file_extension": ".sce",
		   "help_links": [
			{
			 "text": "MetaKernel Magics",
			 "url": "https://github.com/calysto/metakernel/blob/master/metakernel/magics/README.md"
			}
		   ],
		   "mimetype": "text/x-octave",
		   "name": "scilab",
		   "version": "0.7.1"
		  }
		 },
		 "nbformat": 4,
		 "nbformat_minor": 0
}
