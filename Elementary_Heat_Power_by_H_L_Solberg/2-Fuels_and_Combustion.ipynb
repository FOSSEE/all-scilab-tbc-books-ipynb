{
"cells": [
 {
		   "cell_type": "markdown",
	   "metadata": {},
	   "source": [
       "# Chapter 2: Fuels and Combustion"
	   ]
	},
{
		   "cell_type": "markdown",
		   "metadata": {},
		   "source": [
			"## Example 2.10: Example_10.sce"
		   ]
		  },
  {
"cell_type": "code",
	   "execution_count": null,
	   "metadata": {
	    "collapsed": true
	   },
	   "outputs": [],
"source": [
"clc\n",
"clear\n",
"//Initialization of variables\n",
"Gf=11.57 //lb per lb of fuel\n",
"H=4.4/100\n",
"M=13.5/100\n",
"mr=700\n",
"mf=10000\n",
"mc=1 //lb\n",
"//calculations\n",
"pro=M+9*H\n",
"mrf=mr/mf\n",
"Aa=Gf+pro+mrf-mc\n",
"At=8.83\n",
"ea=(Aa-At)/At *100\n",
"//results\n",
"printf('Excess air = %.1f percent',ea)\n",
""
   ]
   }
,
{
		   "cell_type": "markdown",
		   "metadata": {},
		   "source": [
			"## Example 2.11_a: Example_11.sce"
		   ]
		  },
  {
"cell_type": "code",
	   "execution_count": null,
	   "metadata": {
	    "collapsed": true
	   },
	   "outputs": [],
"source": [
"clear\n",
"//Initialization of variables\n",
"Gf=11.57 //lb per lb of fuel\n",
"tg=500 //F\n",
"ta=70 //F\n",
"//calculations\n",
"Q1=0.24*Gf*(tg-ta)\n",
"//results\n",
"printf('Heat loss = %d Btu per lb of fuel',Q1)"
   ]
   }
,
{
		   "cell_type": "markdown",
		   "metadata": {},
		   "source": [
			"## Example 2.11_b: Example_12.sce"
		   ]
		  },
  {
"cell_type": "code",
	   "execution_count": null,
	   "metadata": {
	    "collapsed": true
	   },
	   "outputs": [],
"source": [
"clc\n",
"clear\n",
"//Initialization of variables\n",
"Co=0.1\n",
"Co2=14.1\n",
"Cb=0.646\n",
"//calculations\n",
"Q2=Co/(Co+Co2) *Cb*10160\n",
"//results\n",
"printf('Heat loss = %d Btu per lb of fuel',Q2)\n",
""
   ]
   }
,
{
		   "cell_type": "markdown",
		   "metadata": {},
		   "source": [
			"## Example 2.11c: Example_13.sce"
		   ]
		  },
  {
"cell_type": "code",
	   "execution_count": null,
	   "metadata": {
	    "collapsed": true
	   },
	   "outputs": [],
"source": [
"clc\n",
"clear\n",
"//Initialization of variables\n",
"mf=10000 //lb \n",
"mr=700 //lb\n",
"Cr=0.2\n",
"//calculations\n",
"Q3=mr*Cr/mf *14600\n",
"//results\n",
"printf('Heat loss = %d Btu per lb of fuel',Q3)\n",
""
   ]
   }
,
{
		   "cell_type": "markdown",
		   "metadata": {},
		   "source": [
			"## Example 2.11d: Example_14.sce"
		   ]
		  },
  {
"cell_type": "code",
	   "execution_count": null,
	   "metadata": {
	    "collapsed": true
	   },
	   "outputs": [],
"source": [
"clc\n",
"clear\n",
"//Initialization of variables\n",
"M=0.135\n",
"tg=500 //F\n",
"ta=70 //F\n",
"//calculations\n",
"Q4=M*(1089+0.46*tg-ta)\n",
"//results\n",
"printf('Heat loss = %.1f Btu per lb of fuel',Q4)"
   ]
   }
,
{
		   "cell_type": "markdown",
		   "metadata": {},
		   "source": [
			"## Example 2.11e: Example_15.sce"
		   ]
		  },
  {
"cell_type": "code",
	   "execution_count": null,
	   "metadata": {
	    "collapsed": true
	   },
	   "outputs": [],
"source": [
"clc\n",
"clear\n",
"//Initialization of variables\n",
"Per=0.044 //percentage\n",
"tg=500 //F\n",
"ta=70 //F\n",
"//calculations\n",
"Q5=9*Per*(1089+0.46*tg-ta)\n",
"//results\n",
"printf('Heat loss = %.1f Btu per lb of fuel',Q5)"
   ]
   }
,
{
		   "cell_type": "markdown",
		   "metadata": {},
		   "source": [
			"## Example 2.1: Example_1.sce"
		   ]
		  },
  {
"cell_type": "code",
	   "execution_count": null,
	   "metadata": {
	    "collapsed": true
	   },
	   "outputs": [],
"source": [
"clc\n",
"clear\n",
"//Initialization of variables\n",
"x1=0.135\n",
"x2=0.056\n",
"veca=[32.5 48.4 5.6 13.5]\n",
"B1=11788\n",
"//calculations\n",
"vecb=veca/(1-x1)\n",
"vecc=veca/(1-x1-x2)\n",
"B2=B1/(1-x1)\n",
"B3=B1/(1-x1-x2)\n",
"vecb(4)=0\n",
"vecc(3)=0\n",
"vecc(4)=0\n",
"//results\n",
"printf('In Moisture free case, ')\n",
"format('v',6);vecb\n",
"disp(vecb)\n",
"printf('In Moisture and Ash free case, ')\n",
"format('v',6);vecc\n",
"disp(vecc)\n",
"printf('Energy in Moisture free case  = %d Btu per lb',B2)\n",
"printf('\n Energy in Moisture and ash free case  = %d Btu per lb',B3)"
   ]
   }
,
{
		   "cell_type": "markdown",
		   "metadata": {},
		   "source": [
			"## Example 2.2: Example_2.sce"
		   ]
		  },
  {
"cell_type": "code",
	   "execution_count": null,
	   "metadata": {
	    "collapsed": true
	   },
	   "outputs": [],
"source": [
"clc\n",
"clear\n",
"//Initialization of variables\n",
"y1=13.5\n",
"x1=0.135\n",
"x2=0.056\n",
"veca=[66 1.5 1.1 5.6 5.9 19.9]\n",
"//calculations\n",
"vecb=[veca y1]\n",
"vecb(5) = vecb(5) - 1/9*y1\n",
"vecb(6) = vecb(6) - 8/9*y1\n",
"vecc=vecb/(1-x1)\n",
"vecd=vecb/(1-x1-x2)\n",
"vecd(4)=0\n",
"vecd(7)=0\n",
"vecc(7)=0\n",
"s1=sum(vecc)\n",
"s2=sum(vecd)\n",
"//results\n",
"printf('With moisture as a separate item, ')\n",
"format ('v',6);vecb\n",
"disp(vecb)\n",
"printf('In Moisture free case, ')\n",
"format('v',4);vecc\n",
"disp(vecc)\n",
"printf('In Moisture and Ash free case, ')\n",
"format('v',5);vecd\n",
"disp(vecd)\n",
"printf('Total Mositure free content = %.1f percent',s1)\n",
"printf('\n Total Mositure and ash free content = %.1f percent',s2)"
   ]
   }
,
{
		   "cell_type": "markdown",
		   "metadata": {},
		   "source": [
			"## Example 2.3: Example_3.sce"
		   ]
		  },
  {
"cell_type": "code",
	   "execution_count": null,
	   "metadata": {
	    "collapsed": true
	   },
	   "outputs": [],
"source": [
"clc\n",
"clear\n",
"//Initialization of variables\n",
"H=5.9\n",
"O=19.9\n",
"H2=4.4\n",
"O2=7.9\n",
"//calculations\n",
"Ha1=H-O/8\n",
"Ha2=H2-O2/8\n",
"//results\n",
"printf('Available hydrogen in case 1 = %.1f percent by weight',Ha1)\n",
"printf('\n Available hydrogen in case 1 = %.1f percent by weight',Ha2)"
   ]
   }
,
{
		   "cell_type": "markdown",
		   "metadata": {},
		   "source": [
			"## Example 2.4: Example_4.sce"
		   ]
		  },
  {
"cell_type": "code",
	   "execution_count": null,
	   "metadata": {
	    "collapsed": true
	   },
	   "outputs": [],
"source": [
"clc\n",
"clear\n",
"//Initialization of variables\n",
"H1=0.059\n",
"O1=0.199\n",
"H2=0.044\n",
"O2=0.079\n",
"C=0.66\n",
"S=0.011\n",
"//calculations\n",
"Qh1= 14600*C+62000*(H1-O1/8)+4050*S\n",
"Qh2=14600*C+62000*(H2-O2/8)+4050*S\n",
"//results\n",
"printf('Heating value in case 1 = %d Btu/lb ',Qh1)\n",
"printf('\n Heating value in case 2 = %d Btu/lb ',Qh2)"
   ]
   }
,
{
		   "cell_type": "markdown",
		   "metadata": {},
		   "source": [
			"## Example 2.5: Example_5.sce"
		   ]
		  },
  {
"cell_type": "code",
	   "execution_count": null,
	   "metadata": {
	    "collapsed": true
	   },
	   "outputs": [],
"source": [
"clc\n",
"clear\n",
"//Initialization of variables\n",
"H1=0.059\n",
"O1=0.199\n",
"C=0.66\n",
"S=0.011\n",
"//calculations\n",
"Qh1= 11.52*C+34.56*(H1-O1/8)+4.32*S\n",
"//results\n",
"printf('Theoretical air required = %.2f lb of air per lb of coal ',Qh1)"
   ]
   }
,
{
		   "cell_type": "markdown",
		   "metadata": {},
		   "source": [
			"## Example 2.6: Example_6.sce"
		   ]
		  },
  {
"cell_type": "code",
	   "execution_count": null,
	   "metadata": {
	    "collapsed": true
	   },
	   "outputs": [],
"source": [
"clc\n",
"clear\n",
"//Initialization of variables\n",
"mf=10000 //lb\n",
"mr=700 //lb\n",
"Cr=0.20\n",
"Cco2=14.1\n",
"Co2=5.1\n",
"Cco=0.1\n",
"Cf=0.66\n",
"//calculations\n",
"Cn2=100-(Cco2+Co2+Cco)\n",
"Ci=mf*Cf\n",
"Ca=mr*Cr\n",
"Cb=(Ci-Ca)/mf\n",
"Cb2=((mf*Cf)-mr*Cr)/(mf)\n",
"veca=[Cco2 Co2 Cco Cn2]\n",
"vecb=veca\n",
"vecb(1)=vecb(1) *44\n",
"vecb(2)=vecb(2) *32\n",
"vecb(3)=vecb(3) *28\n",
"vecb(4)=vecb(4) *28\n",
"sumvec=sum(vecb)\n",
"Lbc=Cco2*12 + Cco*12\n",
"Gc=sumvec/Lbc\n",
"Gf=Gc*Cb\n",
"//results\n",
"printf('Carbon in the dry products combustion = %.3f lb per lb of fuel',Cb)\n",
"printf('\n In case 2, Carbon in the dry products combustion = %.3f lb per lb of fuel',Cb2)\n",
"printf('\n Dry gaseous products of combstion per lb of coal = %.2f lb ',Gf)"
   ]
   }
,
{
		   "cell_type": "markdown",
		   "metadata": {},
		   "source": [
			"## Example 2.7: Example_7.sce"
		   ]
		  },
  {
"cell_type": "code",
	   "execution_count": null,
	   "metadata": {
	    "collapsed": true
	   },
	   "outputs": [],
"source": [
"clc\n",
"clear\n",
"//Initialization of variables\n",
"mf=10000 //lb\n",
"mr=700 //lb\n",
"Cr=0.20\n",
"Cco2=14.1\n",
"Co2=5.1\n",
"Cco=0.1\n",
"Cf=0.66\n",
"//calculations\n",
"Cn2=100-(Cco2+Co2+Cco)\n",
"Ci=mf*Cf\n",
"Ca=mr*Cr\n",
"Cb=(Ci-Ca)/mf\n",
"Cb2=((mf*Cf)-mr*Cr)/(mf)\n",
"veca=[Cco2 Co2 Cco Cn2]\n",
"vecb=veca\n",
"vecb(1)=vecb(1) *44\n",
"vecb(2)=vecb(2) *32\n",
"vecb(3)=vecb(3) *28\n",
"vecb(4)=vecb(4) *28\n",
"Cbb1=Cb*Cco*12/(Cco2*12 + Cco*12)\n",
"Cbb2= Cb*(veca(3) /(veca(3) + veca(1)))\n",
"//results\n",
"printf('In case 1, Carbon burned per lb of fuel = %.5f lb per lb of fuel',Cbb1)\n",
"printf('\n In case 2, Carbon burned per lb of fuel = %.5f lb per lb of fuel',Cbb2)"
   ]
   }
,
{
		   "cell_type": "markdown",
		   "metadata": {},
		   "source": [
			"## Example 2.8: Example_8.sce"
		   ]
		  },
  {
"cell_type": "code",
	   "execution_count": null,
	   "metadata": {
	    "collapsed": true
	   },
	   "outputs": [],
"source": [
"clc\n",
"clear\n",
"//Initialization of variables\n",
"H=4.4/100\n",
"M=13.5/100\n",
"H2=0.059\n",
"//calculations\n",
"pro=M+9*H\n",
"pro2=9*H2\n",
"//results\n",
"printf('In case 1, watervapor present in products = %.3f lb',pro)\n",
"printf('\n In case 2, watervapor present in products = %.3f lb',pro2)"
   ]
   }
,
{
		   "cell_type": "markdown",
		   "metadata": {},
		   "source": [
			"## Example 2.9: Example_9.sce"
		   ]
		  },
  {
"cell_type": "code",
	   "execution_count": null,
	   "metadata": {
	    "collapsed": true
	   },
	   "outputs": [],
"source": [
"clc\n",
"clear\n",
"//Initialization of variables\n",
"Gf=11.57 //lb per lb of fuel\n",
"H=4.4/100\n",
"M=13.5/100\n",
"mr=700\n",
"mf=10000\n",
"mc=1 //lb\n",
"//calculations\n",
"pro=M+9*H\n",
"mrf=mr/mf\n",
"Aa=Gf+pro+mrf-mc\n",
"//results\n",
"printf('Actual air supplied = %.2f lb of air supplied per lb of fuel',Aa)"
   ]
   }
],
"metadata": {
		  "kernelspec": {
		   "display_name": "Scilab",
		   "language": "scilab",
		   "name": "scilab"
		  },
		  "language_info": {
		   "file_extension": ".sce",
		   "help_links": [
			{
			 "text": "MetaKernel Magics",
			 "url": "https://github.com/calysto/metakernel/blob/master/metakernel/magics/README.md"
			}
		   ],
		   "mimetype": "text/x-octave",
		   "name": "scilab",
		   "version": "0.7.1"
		  }
		 },
		 "nbformat": 4,
		 "nbformat_minor": 0
}
