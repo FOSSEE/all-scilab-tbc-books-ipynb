{
"cells": [
 {
		   "cell_type": "markdown",
	   "metadata": {},
	   "source": [
       "# Chapter 13: Mechanical Refrigeration"
	   ]
	},
{
		   "cell_type": "markdown",
		   "metadata": {},
		   "source": [
			"## Example 13.1: Example_1.sce"
		   ]
		  },
  {
"cell_type": "code",
	   "execution_count": null,
	   "metadata": {
	    "collapsed": true
	   },
	   "outputs": [],
"source": [
"clc\n",
"clear\n",
"//Initialization of variables\n",
"\n",
"disp('From mollier diagram from ammonia, values are found')\n",
"disp('part a')\n",
"h1=65 //Btu/lb\n",
"printf('enthalpy in case a = %d Btu/lb',h1)\n",
"h2=99 //Btu/lb\n",
"v2=0.93 //ft^3/lb\n",
"printf('\n In case 2, enthalpy and specific volume are %d Btu/lb and %.2f ft^3/lb respectively',h2,v2)\n",
"h3=583 //Btu/lb\n",
"v3=8.8 //ft^3/lb\n",
"s3=1.275\n",
"printf('\n In case 3, enthalpy, specific volume and entropy are %d Btu/lb, %.2f ft^3/lb and %.3f respectively',h3,v3,s3)\n",
"h4=720 //Btu/lb\n",
"v4=10.4 //ft^3/lb\n",
"s4=1.50\n",
"printf('\n In case 4, enthalpy, specific volume and entropy are %d Btu/lb, %.2f ft^3/lb and %.3f respectively',h4,v4,s4)"
   ]
   }
,
{
		   "cell_type": "markdown",
		   "metadata": {},
		   "source": [
			"## Example 13.2: Example_2.sce"
		   ]
		  },
  {
"cell_type": "code",
	   "execution_count": null,
	   "metadata": {
	    "collapsed": true
	   },
	   "outputs": [],
"source": [
"clc\n",
"clear\n",
"//Initialization of variables\n",
"mr=3 //lb\n",
"mj=5 //lb\n",
"t2=67 //F\n",
"t1=60 //lb\n",
"ihp=7.25\n",
"//calculations\n",
"disp('From mollier charts,')\n",
"h4=709 //Btu/b\n",
"h3=618 //Btu/lb\n",
"energyin=ihp*2545/60\n",
"energyout=mr*(h4-h3) + mj*(t2-t1)\n",
"//results\n",
"printf('Energy in = %.1f Btu/min',energyin)\n",
"printf('\n Energy out = %.1f Btu/min',energyout)"
   ]
   }
,
{
		   "cell_type": "markdown",
		   "metadata": {},
		   "source": [
			"## Example 13.3: Example_3.sce"
		   ]
		  },
  {
"cell_type": "code",
	   "execution_count": null,
	   "metadata": {
	    "collapsed": true
	   },
	   "outputs": [],
"source": [
"clc\n",
"clear\n",
"//Initialization of variables\n",
"mr=3 //lb\n",
"hp=10 //hp\n",
"//calculations\n",
"h3=618 //Btu/lb\n",
"h1=131 //Btu/lb\n",
"Qe=mr*(h3-h1)\n",
"work=hp*2545/60\n",
"cop=Qe/work\n",
"//results\n",
"printf('Coefficient of performance = %.2f',cop)"
   ]
   }
],
"metadata": {
		  "kernelspec": {
		   "display_name": "Scilab",
		   "language": "scilab",
		   "name": "scilab"
		  },
		  "language_info": {
		   "file_extension": ".sce",
		   "help_links": [
			{
			 "text": "MetaKernel Magics",
			 "url": "https://github.com/calysto/metakernel/blob/master/metakernel/magics/README.md"
			}
		   ],
		   "mimetype": "text/x-octave",
		   "name": "scilab",
		   "version": "0.7.1"
		  }
		 },
		 "nbformat": 4,
		 "nbformat_minor": 0
}
