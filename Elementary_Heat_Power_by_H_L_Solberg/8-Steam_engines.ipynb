{
"cells": [
 {
		   "cell_type": "markdown",
	   "metadata": {},
	   "source": [
       "# Chapter 8: Steam engines"
	   ]
	},
{
		   "cell_type": "markdown",
		   "metadata": {},
		   "source": [
			"## Example 8.1: Example_1.sce"
		   ]
		  },
  {
"cell_type": "code",
	   "execution_count": null,
	   "metadata": {
	    "collapsed": true
	   },
	   "outputs": [],
"source": [
"clc\n",
"clear\n",
"//Initialization of variables\n",
"area1=2.7\n",
"len=3.4\n",
"scale=60\n",
"area2=2.75\n",
"dia=12 //ft\n",
"d2=2.5 //ft\n",
"L=15/12 //ft\n",
"n=250 //rpm\n",
"F=600 //lb\n",
"r=3 //ft\n",
"//calculations\n",
"Ah=dia^2 *%pi/4\n",
"Ac=(dia^2 -d2^2)*%pi/4\n",
"Pih=area1/len *scale\n",
"Pic=area2/len *scale\n",
"Hihp=Pih*L*Ah*n/33000\n",
"Cihp=Pic*L*Ac*n/33000\n",
"Tihp=Hihp+Cihp\n",
"Bhp=2*%pi*r*F*n/33000\n",
"Fhp=Tihp-Bhp\n",
"eff=Bhp/Tihp *100\n",
"//results\n",
"printf('Ihp = %.1f ihp',Tihp)\n",
"printf('\n Bhp = %.1f bhp',Bhp)\n",
"printf('\n Fhp = %.1f fhp',Fhp)\n",
"printf('\n Efficiency = %.1f percent',eff)\n",
"disp('The answer is a bit different due to rounding off error in the textbook.')"
   ]
   }
,
{
		   "cell_type": "markdown",
		   "metadata": {},
		   "source": [
			"## Example 8.2: Example_2.sce"
		   ]
		  },
  {
"cell_type": "code",
	   "execution_count": null,
	   "metadata": {
	    "collapsed": true
	   },
	   "outputs": [],
"source": [
"clc\n",
"clear\n",
"//Initialization of variables\n",
"Ihp=101.1\n",
"Bhp=85.7\n",
"md=3000 //lb/hr\n",
"h1=1172 //Btu/hr\n",
"h2=180 //Btu/hr\n",
"h3=1025 //Btu/hr\n",
"//calculations\n",
"eta1=Ihp*2545/(md*(h1-h2)) *100\n",
"eta2=Bhp*2545/(md*(h1-h2)) *100\n",
"etat=(h1-h3)/(h1-h2) *100\n",
"engeff=eta1/etat *100\n",
"rate1= md/Ihp\n",
"rate2=md/Bhp\n",
"h22=h1-2545/rate1\n",
"//results\n",
"printf('Actual thermal efficiency based upon Ihp = %.2f lb per ihp hr',eta1)\n",
"printf('\n Actual thermal efficiency based upon Bhp = %.2f lb per ihp hr',eta2)\n",
"printf('\n Ideal thermal efficiency = %.2f percent ',etat)\n",
"printf('\n Engine efficiency = %.1f percent',engeff)\n",
"printf('\n Steam rate = %.2f lb per ihp hr',rate1)\n",
"printf('\n Steam rate = %.2f lb per bhp hr',rate2)\n",
"printf('\n Enthalpy of exhaust steam = %d Btu/lb of steam',h22)"
   ]
   }
],
"metadata": {
		  "kernelspec": {
		   "display_name": "Scilab",
		   "language": "scilab",
		   "name": "scilab"
		  },
		  "language_info": {
		   "file_extension": ".sce",
		   "help_links": [
			{
			 "text": "MetaKernel Magics",
			 "url": "https://github.com/calysto/metakernel/blob/master/metakernel/magics/README.md"
			}
		   ],
		   "mimetype": "text/x-octave",
		   "name": "scilab",
		   "version": "0.7.1"
		  }
		 },
		 "nbformat": 4,
		 "nbformat_minor": 0
}
