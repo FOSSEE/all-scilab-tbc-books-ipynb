{
"cells": [
 {
		   "cell_type": "markdown",
	   "metadata": {},
	   "source": [
       "# Chapter 10: Drafts fans blowers and compressors"
	   ]
	},
{
		   "cell_type": "markdown",
		   "metadata": {},
		   "source": [
			"## Example 10.1: Example_1.sce"
		   ]
		  },
  {
"cell_type": "code",
	   "execution_count": null,
	   "metadata": {
	    "collapsed": true
	   },
	   "outputs": [],
"source": [
"clc\n",
"clear\n",
"//Initialization of variables\n",
"hb=29 //in of Hg\n",
"sg=0.491\n",
"Ra=53.3\n",
"Ta=460+40 //R\n",
"Tg=540+460 //R\n",
"H=300 //ft\n",
"gam=62.4 //lb/cu ft\n",
"//calculations\n",
"pb=hb*sg*144\n",
"rhoa=pb/(Ra*Ta)\n",
"rhog=pb/(Ra*Tg)\n",
"dp=H*(rhoa-rhog)\n",
"D=dp/(gam)\n",
"//results\n",
"printf('Theoretical draft = %.1f psf',dp)\n",
"printf('\n Draft = %.2f ft H2O',D)"
   ]
   }
,
{
		   "cell_type": "markdown",
		   "metadata": {},
		   "source": [
			"## Example 10.2: Example_2.sce"
		   ]
		  },
  {
"cell_type": "code",
	   "execution_count": null,
	   "metadata": {
	    "collapsed": true
	   },
	   "outputs": [],
"source": [
"clc\n",
"clear\n",
"//Initialization of variables\n",
"md=15 //lb per lb of coal\n",
"x=0.1\n",
"mss=1 //basis\n",
"rea=29 //in of Hg\n",
"sg=0.491\n",
"R=53.3\n",
"T=540+460 //R\n",
"V=25 //fps\n",
"gam=0.038 //lb/ft^3\n",
"//calculations\n",
"m=mss-mss*x+md\n",
"ms=m\n",
"rhog=rea*0.491*144/(R*T)\n",
"A=ms/(gam*V)\n",
"//results\n",
"printf('stack area = %.1f sq ft',A)"
   ]
   }
,
{
		   "cell_type": "markdown",
		   "metadata": {},
		   "source": [
			"## Example 10.3: Example_3.sce"
		   ]
		  },
  {
"cell_type": "code",
	   "execution_count": null,
	   "metadata": {
	    "collapsed": true
	   },
	   "outputs": [],
"source": [
"clc\n",
"clear\n",
"//Initialization of variables\n",
"p=144*29*0.491 //psf\n",
"R=53.3\n",
"T=70+460 //R\n",
"gamw=62.4 //lb/ft^3\n",
"gama=0.073 //lb/ft^3\n",
"hw=3/12 //ft\n",
"hw2=3.5/12 //ft\n",
"hv=32.2 //ft/s^2\n",
"ms=9 //lb\n",
"g=32.2 //ft/s^2\n",
"//calculations\n",
"rhoa=p/(R*T)\n",
"hs=hw*gamw/gama\n",
"ht=hw2*gamw/gama\n",
"hv=ht-hs\n",
"V=sqrt(2*g*hv)\n",
"msv=ms*V*60\n",
"mm=msv*gama\n",
"airhp= ht*mm/33000\n",
"//results\n",
"printf('Velocity head = %d ft of air',hv)\n",
"printf('\n velocity of air in the duct = %.1f fps',V)\n",
"printf('\n volume = %d cu ft per min',msv)\n",
"printf('\n Mass flow rate = %d lb/min',mm)\n",
"printf('\n Air hp = %.1f hp',airhp)\n",
"disp('The answers in the textbook are a bit different due to rounding off error in the textbook. Please use a calculator')"
   ]
   }
,
{
		   "cell_type": "markdown",
		   "metadata": {},
		   "source": [
			"## Example 10.4: Example_4.sce"
		   ]
		  },
  {
"cell_type": "code",
	   "execution_count": null,
	   "metadata": {
	    "collapsed": true
	   },
	   "outputs": [],
"source": [
"clc\n",
"clear\n",
"//Initialization of variables\n",
"A2=9 //sq ft\n",
"p2=3/12 *62.4 //psf\n",
"p1=-1/12 *62.4 //psf\n",
"ms=20000 //cfm\n",
"A1=16 //sq ft\n",
"gam=0.075 //lb/ft^3\n",
"g=32.2 //ft/s^2\n",
"inp=17 //hp\n",
"//calculations\n",
"V2=ms/60 *1/A2\n",
"V1=ms/60 *1/A1\n",
"ht=(p2-p1)/gam +(V2^2 -V1^2)/(2*g)\n",
"airhp=ht*ms*gam/33000\n",
"eta=airhp/inp *100\n",
"//results\n",
"printf('Total head = %.1f ft of air',ht)\n",
"printf('\n Air hp = %.1f hp',airhp)\n",
"printf('\n Effifciency = %.1f percent',eta)"
   ]
   }
,
{
		   "cell_type": "markdown",
		   "metadata": {},
		   "source": [
			"## Example 10.5: Example_5.sce"
		   ]
		  },
  {
"cell_type": "code",
	   "execution_count": null,
	   "metadata": {
	    "collapsed": true
	   },
	   "outputs": [],
"source": [
"clc\n",
"clear\n",
"//Initialization of variables\n",
"n1=400 //rpm\n",
"mv1=10000 //lb\n",
"mv2=15000 //lb\n",
"h1=2 //in of water\n",
"hp1=4 //hp\n",
"//calculations\n",
"n2=mv2/mv1 *n1\n",
"h2=h1*(n2/n1)^2\n",
"hp2=hp1 *(n2/n1)^3\n",
"//results\n",
"printf('The speed = %d rpm',n2)\n",
"printf('\n The pressure = %.1f in of water',h2)\n",
"printf('\n Power = %.1f hp',hp2)"
   ]
   }
,
{
		   "cell_type": "markdown",
		   "metadata": {},
		   "source": [
			"## Example 10.6: Example_6.sce"
		   ]
		  },
  {
"cell_type": "code",
	   "execution_count": null,
	   "metadata": {
	    "collapsed": true
	   },
	   "outputs": [],
"source": [
"clc\n",
"clear\n",
"//Initialization of variables\n",
"m=100000 //lb/hr\n",
"p1=1 //psia\n",
"x=0.8\n",
"p2=14.7 //psia\n",
"t2=300 //F\n",
"//calculations\n",
"disp('from table A3 and A2')\n",
"h2=1192.8 //Btu/lb\n",
"hf=69.7 //Btu/lb\n",
"hfg=1036.3 //Btu/lb\n",
"h1=hf+x*hfg\n",
"W=h2-h1\n",
"power=m*W\n",
"hp=power/2545\n",
"//results\n",
"printf('Power required = %d hp',hp)"
   ]
   }
,
{
		   "cell_type": "markdown",
		   "metadata": {},
		   "source": [
			"## Example 10.7: Example_7.sce"
		   ]
		  },
  {
"cell_type": "code",
	   "execution_count": null,
	   "metadata": {
	    "collapsed": true
	   },
	   "outputs": [],
"source": [
"clc\n",
"clear\n",
"//Initialization of variables\n",
"p1=14.7 //psia\n",
"t1=60 //F\n",
"p2=60 //psia\n",
"t2=440 //F\n",
"m=10 //lb/sec\n",
"//calculations\n",
"disp('From mollier charts,')\n",
"h2=216.3 //Btu/lb\n",
"h1=124.3 //Btu/lb\n",
"W21=h2-h1\n",
"power=W21*m\n",
"hp=power*3600/2545\n",
"cp=0.237\n",
"W212=cp*(t2-t1)\n",
"power2=W212*m\n",
"hp2=power2*3600/2545\n",
"//results\n",
"printf('Power required = %d hp',hp)\n",
"printf('\n Power required = %d hp',hp2)\n",
"printf('\n Work done = %.1f Btu/lb',W212)"
   ]
   }
],
"metadata": {
		  "kernelspec": {
		   "display_name": "Scilab",
		   "language": "scilab",
		   "name": "scilab"
		  },
		  "language_info": {
		   "file_extension": ".sce",
		   "help_links": [
			{
			 "text": "MetaKernel Magics",
			 "url": "https://github.com/calysto/metakernel/blob/master/metakernel/magics/README.md"
			}
		   ],
		   "mimetype": "text/x-octave",
		   "name": "scilab",
		   "version": "0.7.1"
		  }
		 },
		 "nbformat": 4,
		 "nbformat_minor": 0
}
