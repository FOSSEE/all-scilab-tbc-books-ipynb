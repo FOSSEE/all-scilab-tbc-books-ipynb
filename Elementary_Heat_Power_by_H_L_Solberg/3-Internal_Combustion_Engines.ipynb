{
"cells": [
 {
		   "cell_type": "markdown",
	   "metadata": {},
	   "source": [
       "# Chapter 3: Internal Combustion Engines"
	   ]
	},
{
		   "cell_type": "markdown",
		   "metadata": {},
		   "source": [
			"## Example 3.10: Example_10.sce"
		   ]
		  },
  {
"cell_type": "code",
	   "execution_count": null,
	   "metadata": {
	    "collapsed": true
	   },
	   "outputs": [],
"source": [
"clc\n",
"clear\n",
"//Initialization of variables\n",
"bore=3 //in\n",
"str=4 //in\n",
"rpm=3000 //rpm\n",
"air=110 //cu ft per min\n",
"//calculations\n",
"pdv=bore*bore*%pi*str*2*bore/4\n",
"pde=pdv*rpm /2\n",
"req=air*1728\n",
"eff=req/pde *100\n",
"//results\n",
"printf('Volumetric efficiency = %.1f percent',eff)"
   ]
   }
,
{
		   "cell_type": "markdown",
		   "metadata": {},
		   "source": [
			"## Example 3.11: Example_11.sce"
		   ]
		  },
  {
"cell_type": "code",
	   "execution_count": null,
	   "metadata": {
	    "collapsed": true
	   },
	   "outputs": [],
"source": [
"clc\n",
"clear\n",
"//Initialization of variables\n",
"x1=11.5\n",
"x2=4.1\n",
"x3=0.4\n",
"x4=2.3\n",
"x5=0.2\n",
"x6=81.5\n",
"yc=0.842\n",
"yh=0.158\n",
"basis=1\n",
"bhp=100\n",
"burn=8.9 //gal/hr\n",
"sg=0.731\n",
"Qh=20750 //Btu/lbm\n",
"rate=66 //gpm\n",
"ex=1100 //F\n",
"air=70 //F\n",
"cp=0.254\n",
"h2=4330\n",
"h4=62000\n",
"h5=23700\n",
"//calculations\n",
"c1=x1*44\n",
"c2=x2*28\n",
"c3=x3*32\n",
"c4=x4*2\n",
"c5=x5*16\n",
"c6=x6*28\n",
"summ=c1+c2+c3+c4+c5+c6\n",
"carbon=x1*12 + x2*12+x5*12\n",
"hydrogen=x4*2+x5*4\n",
"lbdrygas=summ/carbon *yc\n",
"lbfuel=carbon/yc\n",
"lbH=lbfuel*yh\n",
"lbH2=lbH-hydrogen\n",
"lb3=lbH2*9\n",
"lbwater=lb3/lbfuel\n",
"lbair=lbdrygas+lbwater-basis\n",
"bsfc=burn*sg*8.33/bhp\n",
"fuelmin=bsfc*bhp/60\n",
"energy=2545/bsfc\n",
"per1=energy/Qh\n",
"Ec=rate*8.33*10\n",
"Eclb=Ec/fuelmin\n",
"per2=Eclb/Qh\n",
"dryloss=(ex-air)*cp*lbdrygas\n",
"per3=dryloss/Qh\n",
"hv2=h2*c2/lbfuel\n",
"hv4=h4*c4/lbfuel\n",
"hv5=h5*c5/lbfuel\n",
"hv=hv2+hv4+hv5\n",
"per4=hv/Qh\n",
"eh2=lbwater*(1066+0.5*ex-air)\n",
"per5=eh2/Qh\n",
"rad=1017 \n",
"per6=rad/Qh\n",
"//results\n",
"printf('Air supplied per lb of fuel = %.1f lb air per lb fuel',lbair)\n",
"printf('\n Percentage of energy supplied utilized in Btu = %.2f percent',per1*100)\n",
"printf('\n Percentage of energy absorbed by coolant = %.2f percent',per2*100)\n",
"printf('\n Energy lost in sensible heat = %.2f percent',per3*100)\n",
"printf('\n Energy supplied in combustiles in exhaust = %.2f percent',per4*100)\n",
"printf('\n Energy supplied in water formed by combustion = %.2f percent',per5*100)\n",
"printf('\n Energy supplied unaccounted for = %.2f percent',per6*100)"
   ]
   }
,
{
		   "cell_type": "markdown",
		   "metadata": {},
		   "source": [
			"## Example 3.1: Example_1.sce"
		   ]
		  },
  {
"cell_type": "code",
	   "execution_count": null,
	   "metadata": {
	    "collapsed": true
	   },
	   "outputs": [],
"source": [
"clc\n",
"clear\n",
"//Initialization of variables\n",
"re=6\n",
"k=1.4\n",
"//calculations\n",
"nt=1-1/re^(k-1)\n",
"ntt=nt*100\n",
"//results\n",
"printf('Thermal efficiency = %.1f percent',ntt)"
   ]
   }
,
{
		   "cell_type": "markdown",
		   "metadata": {},
		   "source": [
			"## Example 3.2: Example_2.sce"
		   ]
		  },
  {
"cell_type": "code",
	   "execution_count": null,
	   "metadata": {
	    "collapsed": true
	   },
	   "outputs": [],
"source": [
"clc\n",
"clear\n",
"//Initialization of variables\n",
"d=3.25 //in\n",
"str=4 //in\n",
"v=6 //cu in\n",
"//calculations\n",
"Dp=d^2 *%pi*str/4\n",
"r=(Dp+v)/v\n",
"//results\n",
"printf('Compression ratio = %.2f',r)"
   ]
   }
,
{
		   "cell_type": "markdown",
		   "metadata": {},
		   "source": [
			"## Example 3.3: Example_3.sce"
		   ]
		  },
  {
"cell_type": "code",
	   "execution_count": null,
	   "metadata": {
	    "collapsed": true
	   },
	   "outputs": [],
"source": [
"clc\n",
"clear\n",
"//Initialization of variables\n",
"per=20\n",
"Dp=100\n",
"//calculations\n",
"r=Dp/per +1\n",
"//results\n",
"printf('Compression ratio = %d ',r)"
   ]
   }
,
{
		   "cell_type": "markdown",
		   "metadata": {},
		   "source": [
			"## Example 3.4: Example_4.sce"
		   ]
		  },
  {
"cell_type": "code",
	   "execution_count": null,
	   "metadata": {
	    "collapsed": true
	   },
	   "outputs": [],
"source": [
"clc\n",
"clear\n",
"//Initialization of variables\n",
"r=16\n",
"rc=4\n",
"k=1.4\n",
"//calculations\n",
"etat=1-1/r^(k-1) *((rc^k -1)/(k*(rc-1)))\n",
"eta=etat*100\n",
"//results\n",
"printf('Thermal efficiency = %.1f percent',eta)\n",
"disp('The answer is a bit different due to rounding off error in the textbook')"
   ]
   }
,
{
		   "cell_type": "markdown",
		   "metadata": {},
		   "source": [
			"## Example 3.5: Example_5.sce"
		   ]
		  },
  {
"cell_type": "code",
	   "execution_count": null,
	   "metadata": {
	    "collapsed": true
	   },
	   "outputs": [],
"source": [
"clc\n",
"clear\n",
"//Initialization of variables\n",
"F=200 //lb\n",
"area=1.65 //sq. in\n",
"len=3.5 //in\n",
"//calculations\n",
"ord=area/len\n",
"mep=ord*F\n",
"//results\n",
"printf('MEP of an engine = %.1f psi',mep)"
   ]
   }
,
{
		   "cell_type": "markdown",
		   "metadata": {},
		   "source": [
			"## Example 3.6: Example_6.sce"
		   ]
		  },
  {
"cell_type": "code",
	   "execution_count": null,
	   "metadata": {
	    "collapsed": true
	   },
	   "outputs": [],
"source": [
"clc\n",
"clear\n",
"//Initialization of variables\n",
"Pi=90 //psi\n",
"L=5/12 //ft\n",
"r=5 //in\n",
"x=1.5 //ft\n",
"rpm=1500 //rpm\n",
"//calculations\n",
"A=%pi*x*x\n",
"N=rpm*4/2\n",
"Ihp=Pi*L*A*N/33000\n",
"//results\n",
"printf('IHP of cylinder = %d',Ihp)"
   ]
   }
,
{
		   "cell_type": "markdown",
		   "metadata": {},
		   "source": [
			"## Example 3.7: Example_7.sce"
		   ]
		  },
  {
"cell_type": "code",
	   "execution_count": null,
	   "metadata": {
	    "collapsed": true
	   },
	   "outputs": [],
"source": [
"clc\n",
"clear\n",
"//Initialization of variables\n",
"r=4 //ft\n",
"n=300 //rpm\n",
"F=60 //lb\n",
"//calculations\n",
"Bhp=2*%pi*r*F*n/33000\n",
"//results\n",
"printf('Bhp of the engine = %.1f',Bhp)"
   ]
   }
,
{
		   "cell_type": "markdown",
		   "metadata": {},
		   "source": [
			"## Example 3.8: Example_8.sce"
		   ]
		  },
  {
"cell_type": "code",
	   "execution_count": null,
	   "metadata": {
	    "collapsed": true
	   },
	   "outputs": [],
"source": [
"clc\n",
"clear\n",
"//Initialization of variables\n",
"C=1/4000\n",
"F=125 //lb\n",
"n=3500 //rpm\n",
"//calculations\n",
"Bhp=F*n*C\n",
"//results\n",
"printf('Bhp developed by the engine = %.1f',Bhp)"
   ]
   }
,
{
		   "cell_type": "markdown",
		   "metadata": {},
		   "source": [
			"## Example 3.9: Example_9.sce"
		   ]
		  },
  {
"cell_type": "code",
	   "execution_count": null,
	   "metadata": {
	    "collapsed": true
	   },
	   "outputs": [],
"source": [
"clc\n",
"clear\n",
"//Initialization of variables\n",
"r=1.75 //ft\n",
"F1=72 //lb\n",
"F2=24 //lb\n",
"n=500 //rpm\n",
"m=1.8 //lb\n",
"mi=15 //min\n",
"Qh=20000 //Btu/lb\n",
"//calculations\n",
"Bhp=2*%pi*r*F1*n/33000\n",
"Fhp=2*%pi*r*F2*n/33000\n",
"Ihp=Bhp+Fhp\n",
"Fc=m*60/mi\n",
"Bsfc=Fc/Bhp\n",
"Isfc=Fc/Ihp\n",
"etam=Bhp/Ihp *100\n",
"etabt=Bhp*2545/(Fc*Qh)\n",
"etait=Ihp*2545/(Fc*Qh)\n",
"//results\n",
"printf('Thermal efficiency = %d percent',etam)\n",
"printf('\n Brake thermal effficiency = %.1f percent',etabt*100)\n",
"printf('\n Indicated thermal effficiency = %.1f percent',etait*100)"
   ]
   }
],
"metadata": {
		  "kernelspec": {
		   "display_name": "Scilab",
		   "language": "scilab",
		   "name": "scilab"
		  },
		  "language_info": {
		   "file_extension": ".sce",
		   "help_links": [
			{
			 "text": "MetaKernel Magics",
			 "url": "https://github.com/calysto/metakernel/blob/master/metakernel/magics/README.md"
			}
		   ],
		   "mimetype": "text/x-octave",
		   "name": "scilab",
		   "version": "0.7.1"
		  }
		 },
		 "nbformat": 4,
		 "nbformat_minor": 0
}
