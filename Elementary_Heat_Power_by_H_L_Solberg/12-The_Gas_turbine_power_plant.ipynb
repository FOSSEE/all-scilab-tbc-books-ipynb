{
"cells": [
 {
		   "cell_type": "markdown",
	   "metadata": {},
	   "source": [
       "# Chapter 12: The Gas turbine power plant"
	   ]
	},
{
		   "cell_type": "markdown",
		   "metadata": {},
		   "source": [
			"## Example 12.1: Example_1.sce"
		   ]
		  },
  {
"cell_type": "code",
	   "execution_count": null,
	   "metadata": {
	    "collapsed": true
	   },
	   "outputs": [],
"source": [
"clc\n",
"clear\n",
"//Initialization of variables\n",
"T1=80 //F\n",
"T2=460 //F\n",
"T3=1300 //F\n",
"T4=780 //F\n",
"//calculations\n",
"disp('from mollier charts,')\n",
"h1=129.1 //Btu/lb\n",
"h2 = 221.2 //Btu/lb\n",
"h3= 438.8 //Btu/lb\n",
"h4 = 301.5 //Btu/lb\n",
"wcom=h2-h1\n",
"wcob=h3-h2\n",
"wtur=h3-h4\n",
"eta=(wtur-wcom)/wcob *100\n",
"//results\n",
"printf('\n work done by compressor = %.1f btu input as work per lb of air compressed',wcom)\n",
"printf('\n Heat supplied in the combustor = %.1f Btu supplied per lb of air ',wcob)\n",
"printf('\n work done in the turbine = %.1f Btu output as work per lb of air',wtur)\n",
"printf('\n Cycle efficiency = %.1f percent',eta)"
   ]
   }
,
{
		   "cell_type": "markdown",
		   "metadata": {},
		   "source": [
			"## Example 12.2: Example_2.sce"
		   ]
		  },
  {
"cell_type": "code",
	   "execution_count": null,
	   "metadata": {
	    "collapsed": true
	   },
	   "outputs": [],
"source": [
"clc\n",
"clear\n",
"//Initialization of variables\n",
"T1=80 //F\n",
"T2=460 //F\n",
"T=700 //F\n",
"T3=1300 //F\n",
"T4=780 //F\n",
"//calculations\n",
"disp('from mollier charts,')\n",
"h1=129.1 //Btu/lb\n",
"h2 = 221.2 //Btu/lb\n",
"h3= 438.8 //Btu/lb\n",
"h4 = 301.5 //Btu/lb\n",
"wcom=h2-h1\n",
"wcob=h3-h2\n",
"wtur=h3-h4\n",
"output=-wcom+wtur\n",
"h=281.1 //Btu/lb\n",
"Q=h3-h\n",
"eff=output/Q *100\n",
"//results\n",
"printf('\n Heat supplied in the combustor = %.1f Btu supplied per lb of air ',Q)\n",
"printf('\n Cycle efficiency = %.1f percent',eff)"
   ]
   }
],
"metadata": {
		  "kernelspec": {
		   "display_name": "Scilab",
		   "language": "scilab",
		   "name": "scilab"
		  },
		  "language_info": {
		   "file_extension": ".sce",
		   "help_links": [
			{
			 "text": "MetaKernel Magics",
			 "url": "https://github.com/calysto/metakernel/blob/master/metakernel/magics/README.md"
			}
		   ],
		   "mimetype": "text/x-octave",
		   "name": "scilab",
		   "version": "0.7.1"
		  }
		 },
		 "nbformat": 4,
		 "nbformat_minor": 0
}
