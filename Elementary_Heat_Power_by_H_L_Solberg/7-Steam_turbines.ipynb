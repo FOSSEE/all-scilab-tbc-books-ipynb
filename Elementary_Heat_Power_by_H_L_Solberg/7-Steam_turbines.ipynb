{
"cells": [
 {
		   "cell_type": "markdown",
	   "metadata": {},
	   "source": [
       "# Chapter 7: Steam turbines"
	   ]
	},
{
		   "cell_type": "markdown",
		   "metadata": {},
		   "source": [
			"## Example 7.10: Example_10.sce"
		   ]
		  },
  {
"cell_type": "code",
	   "execution_count": null,
	   "metadata": {
	    "collapsed": true
	   },
	   "outputs": [],
"source": [
"clc\n",
"clear\n",
"//Initialization of variables\n",
"P=200 //psia\n",
"T=540 //F\n",
"pow=1000 //kw\n",
"ms=16000 //lb/hr\n",
"//calculations\n",
"disp('From mollier charts,')\n",
"h1=1290 //Btu/hr\n",
"h2=940 //Btu/hr\n",
"dh=h1-h2\n",
"hf2=83 //Btu/lb\n",
"etat=(h1-h2)/(h1-hf2)\n",
"act=pow*3413/(ms*(h1-hf2))\n",
"etae=act/etat\n",
"//results\n",
"printf('Ideal thermal efficiency = %.1f percent',etat*100)\n",
"printf('\n Actual thermal efficiency = %.1f percent',act*100)\n",
"printf('\n Engine efficiency = %.1f percent',etae*100)"
   ]
   }
,
{
		   "cell_type": "markdown",
		   "metadata": {},
		   "source": [
			"## Example 7.1: Example_1.sce"
		   ]
		  },
  {
"cell_type": "code",
	   "execution_count": null,
	   "metadata": {
	    "collapsed": true
	   },
	   "outputs": [],
"source": [
"clc\n",
"clear\n",
"//Initialization of variables\n",
"P1=200 //psia\n",
"T1=500 //psia\n",
"m=1 //lb /s\n",
"P4=140 //psia\n",
"P11=1 //psia\n",
"x=0.808\n",
"//calculations\n",
"disp('From mollier charts,')\n",
"h1=1268.9 //Btu/lb\n",
"h4=1234.7 //Btu/lb\n",
"V4=223.8*sqrt(h1-h4)\n",
"v4=3.584 //cu ft/lb\n",
"A4=m*v4/V4\n",
"h11=907.4 //Btu/lb\n",
"V11=223.8*sqrt(h1-h11)\n",
"vf=0.01614 //cu ft/lb\n",
"vg=333.6 //cu ft/lb\n",
"vfg=vg-vf\n",
"v11=x*vg\n",
"A11=m*v11/V11\n",
"//results\n",
"printf('Area of nozzle = %.5f sq ft',A4)\n",
"printf('\n Area of nozzle = %.4f sq ft',A11)"
   ]
   }
,
{
		   "cell_type": "markdown",
		   "metadata": {},
		   "source": [
			"## Example 7.4: Example_4.sce"
		   ]
		  },
  {
"cell_type": "code",
	   "execution_count": null,
	   "metadata": {
	    "collapsed": true
	   },
	   "outputs": [],
"source": [
"clc\n",
"clear\n",
"//Initialization of variables\n",
"P1=200 //psia\n",
"T1=500 //F\n",
"P2=1 //psia\n",
"alpha=20 //degrees\n",
"n=3600\n",
"g=32.2 //ft/s^2\n",
"//calculations\n",
"disp('From mollier charts,')\n",
"V1=4240 //fps\n",
"Vb=V1*cosd(alpha) /2\n",
"R=Vb*60/(n*2*%pi)\n",
"work=1/32.2 *(V1*cosd(alpha))*Vb\n",
"eff=work/(V1^2 /(2*g)) *100\n",
"//results\n",
"printf('Blade velocity = %d fps',Vb)\n",
"printf('\n Blade radius = %.1f ft',R)\n",
"printf('\n Work done = %d ft-lb per lb of steam',work)\n",
"printf('\n Blade efficiency = %.1f percent',eff)\n",
"disp('The answers are a bit different due to rounding off error in textbook.')"
   ]
   }
,
{
		   "cell_type": "markdown",
		   "metadata": {},
		   "source": [
			"## Example 7.5: Example_5.sce"
		   ]
		  },
  {
"cell_type": "code",
	   "execution_count": null,
	   "metadata": {
	    "collapsed": true
	   },
	   "outputs": [],
"source": [
"clc\n",
"clear\n",
"//Initialization of variables\n",
"P1=200 //psia\n",
"T1=500 //F\n",
"P2=1 //psia\n",
"alpha=20 //degrees\n",
"n=3600\n",
"g=32.2 //ft/s^2\n",
"Vb=1200 //fps\n",
"//calculations\n",
"disp('From mollier charts,')\n",
"V1=4240 //fps\n",
"V1x=3980 //fps\n",
"V2x=-1580 //fps\n",
"work=1/32.2 *(V1x - V2x)*Vb\n",
"eff=work/(V1^2 /(2*g)) *100\n",
"//results\n",
"printf('\n Work done = %d ft-lb per lb of steam',work)\n",
"printf('\n Blade efficiency = %.1f percent',eff)\n",
"disp('The answers are a bit different due to rounding off error in textbook.')"
   ]
   }
,
{
		   "cell_type": "markdown",
		   "metadata": {},
		   "source": [
			"## Example 7.6: Example_6.sce"
		   ]
		  },
  {
"cell_type": "code",
	   "execution_count": null,
	   "metadata": {
	    "collapsed": true
	   },
	   "outputs": [],
"source": [
"clc\n",
"clear\n",
"//Initialization of variables\n",
"P1=200 //psia\n",
"T1=500 //F\n",
"P2=1 //psia\n",
"alpha=20 //degrees\n",
"n=3600\n",
"g=32.2 //ft/s^2\n",
"//calculations\n",
"disp('From mollier charts,')\n",
"V1=2450 //fps\n",
"Vb=V1*cosd(alpha) /2\n",
"R=Vb*60/(n*2*%pi)\n",
"work=1/32.2 *(V1*cosd(alpha))*Vb\n",
"w3=3*work\n",
"//results\n",
"printf('Blade velocity = %d fps',Vb)\n",
"printf('\n Blade radius = %.2f ft',R)\n",
"printf('\n Work done = %d ft-lb per lb of steam',w3)\n",
"disp('The answers are a bit different due to rounding off error in textbook.')"
   ]
   }
,
{
		   "cell_type": "markdown",
		   "metadata": {},
		   "source": [
			"## Example 7.7: Example_7.sce"
		   ]
		  },
  {
"cell_type": "code",
	   "execution_count": null,
	   "metadata": {
	    "collapsed": true
	   },
	   "outputs": [],
"source": [
"clc\n",
"clear\n",
"//Initialization of variables\n",
"P1=200 //psia\n",
"T1=500 //F\n",
"P2=1 //psia\n",
"alpha=20 //degrees\n",
"n=3600\n",
"g=32.2 //ft/s^2\n",
"stage=2\n",
"//calculations\n",
"disp('From mollier charts,')\n",
"V1=4240 //fps\n",
"Vb=V1*cosd(alpha) /(2*stage)\n",
"R=Vb*60/(n*2*%pi)\n",
"V1x=3980 //fps\n",
"V2x=-1990 //fps\n",
"work1=1/g *(V1x-V2x)*Vb\n",
"work2=1/g *(-V2x)*Vb\n",
"wt=work1+work2\n",
"//results\n",
"printf('Blade velocity = %d fps',Vb)\n",
"printf('\n Blade radius = %.2f ft',R)\n",
"printf('\n Total Work done = %d ft-lb per lb of steam',wt)\n",
"disp('The answers are a bit different due to rounding off error in textbook.')"
   ]
   }
,
{
		   "cell_type": "markdown",
		   "metadata": {},
		   "source": [
			"## Example 7.8: Example_8.sce"
		   ]
		  },
  {
"cell_type": "code",
	   "execution_count": null,
	   "metadata": {
	    "collapsed": true
	   },
	   "outputs": [],
"source": [
"clc\n",
"clear\n",
"//Initialization of variables\n",
"alpha=20 //degrees\n",
"n=3600\n",
"g=32.2 //ft/s^2\n",
"V1=500 //fps\n",
"//calculations\n",
"Vb=V1*cosd(alpha)\n",
"V1x=Vb\n",
"work=1/32.2 *(V1x)*Vb\n",
"//results\n",
"printf('Blade velocity = %d fps',Vb)\n",
"printf('\n Work done = %d ft-lb per lb of steam',work)\n",
"disp('The answers are a bit different due to rounding off error in textbook.')\n",
""
   ]
   }
,
{
		   "cell_type": "markdown",
		   "metadata": {},
		   "source": [
			"## Example 7.9: Example_9.sce"
		   ]
		  },
  {
"cell_type": "code",
	   "execution_count": null,
	   "metadata": {
	    "collapsed": true
	   },
	   "outputs": [],
"source": [
"clc\n",
"clear\n",
"//Initialization of variables\n",
"pow=1000 //kw\n",
"ms=16000 //lb/hr\n",
"P=200 //psia\n",
"T=540 //F\n",
"//calculations\n",
"disp('From mollier charts,')\n",
"h1=1290 //Btu/hr\n",
"h2=940 //Btu/hr\n",
"dh=h1-h2\n",
"rate=3413/dh\n",
"act=ms/pow\n",
"//results\n",
"printf('Ideal steam rate = %.2f lb per kw hr',rate)\n",
"printf('\n Actual steam rate = %d lb per kw hr',act)"
   ]
   }
],
"metadata": {
		  "kernelspec": {
		   "display_name": "Scilab",
		   "language": "scilab",
		   "name": "scilab"
		  },
		  "language_info": {
		   "file_extension": ".sce",
		   "help_links": [
			{
			 "text": "MetaKernel Magics",
			 "url": "https://github.com/calysto/metakernel/blob/master/metakernel/magics/README.md"
			}
		   ],
		   "mimetype": "text/x-octave",
		   "name": "scilab",
		   "version": "0.7.1"
		  }
		 },
		 "nbformat": 4,
		 "nbformat_minor": 0
}
