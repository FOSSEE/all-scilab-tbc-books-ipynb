{
"cells": [
 {
		   "cell_type": "markdown",
	   "metadata": {},
	   "source": [
       "# Chapter 11: Feed water heaters and condensers"
	   ]
	},
{
		   "cell_type": "markdown",
		   "metadata": {},
		   "source": [
			"## Example 11.1: Example_1.sce"
		   ]
		  },
  {
"cell_type": "code",
	   "execution_count": null,
	   "metadata": {
	    "collapsed": true
	   },
	   "outputs": [],
"source": [
"clc\n",
"clear\n",
"//Initialization of variables\n",
"m1=1000 //lb/hr\n",
"m2=5000 //lb/hr\n",
"m3=3000 //lb/hr\n",
"//calculations\n",
"disp('From mollier charts,')\n",
"h5=196.16 //Btu/lb\n",
"h1=38.04 //Btu/lb\n",
"h2=67.97 //Btu/lb\n",
"h3=117.89 //Btu/lb\n",
"h4=1156.3 //Btu/lb\n",
"m4=(m1*h1+m2*h2+m3*h3-(m1+m2+m3)*h5)/(h5-h4)\n",
"//results\n",
"printf('Pounds of steam entering the heater = %d lb/hr',m4)"
   ]
   }
,
{
		   "cell_type": "markdown",
		   "metadata": {},
		   "source": [
			"## Example 11.2: Example_2.sce"
		   ]
		  },
  {
"cell_type": "code",
	   "execution_count": null,
	   "metadata": {
	    "collapsed": true
	   },
	   "outputs": [],
"source": [
"clc\n",
"clear\n",
"//Initialization of variables\n",
"P1=100 //psia\n",
"T1=400 //F\n",
"T2=70 //F\n",
"//calculations\n",
"disp('From mollier charts,')\n",
"h1=1227.6 //Btu/lb\n",
"h2=298.4 //Btu/lb\n",
"h3=279.9 //Btu/lb\n",
"h4=38.04 //Btu/lb\n",
"m1=(h3-h4)/(h1-h2)\n",
"//results\n",
"printf('Mass of steam required = %.2f lb steam per lb water',m1)"
   ]
   }
,
{
		   "cell_type": "markdown",
		   "metadata": {},
		   "source": [
			"## Example 11.3: Example_3.sce"
		   ]
		  },
  {
"cell_type": "code",
	   "execution_count": null,
	   "metadata": {
	    "collapsed": true
	   },
	   "outputs": [],
"source": [
"clc\n",
"clear\n",
"//Initialization of variables\n",
"h0=1260 //Btu/lb\n",
"msr=15 //lb\n",
"m4=15 //lb per hr per kw\n",
"t2=80 //F\n",
"t3=60 //F\n",
"//calculations\n",
"h1=h0-3413/msr\n",
"disp('from mollier charts,')\n",
"h4=58 //Btu/lb\n",
"dt=t2-t3\n",
"m3=m4*(h1-h4)/dt\n",
"//results\n",
"printf('enthalpy of steam entering the condenser = %d Btu/lb',h1)\n",
"printf('\n mass of cooling water = %d lb per hr per kw',m3)"
   ]
   }
,
{
		   "cell_type": "markdown",
		   "metadata": {},
		   "source": [
			"## Example 11.4: Example_4.sce"
		   ]
		  },
  {
"cell_type": "code",
	   "execution_count": null,
	   "metadata": {
	    "collapsed": true
	   },
	   "outputs": [],
"source": [
"clc\n",
"clear\n",
"//Initialization of variables\n",
"m4=8*1000000 //lb per hr\n",
"dt=12 //F\n",
"//calculations\n",
"disp('from mollier charts,')\n",
"dh4=950 //Btu/lb\n",
"m3=m4*(dh4)/dt\n",
"//results\n",
"printf('\n mass of cooling water = %.3e lb per hr',m3)"
   ]
   }
],
"metadata": {
		  "kernelspec": {
		   "display_name": "Scilab",
		   "language": "scilab",
		   "name": "scilab"
		  },
		  "language_info": {
		   "file_extension": ".sce",
		   "help_links": [
			{
			 "text": "MetaKernel Magics",
			 "url": "https://github.com/calysto/metakernel/blob/master/metakernel/magics/README.md"
			}
		   ],
		   "mimetype": "text/x-octave",
		   "name": "scilab",
		   "version": "0.7.1"
		  }
		 },
		 "nbformat": 4,
		 "nbformat_minor": 0
}
