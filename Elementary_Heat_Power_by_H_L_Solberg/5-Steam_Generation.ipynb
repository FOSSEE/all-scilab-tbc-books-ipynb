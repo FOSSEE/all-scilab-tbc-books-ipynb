{
"cells": [
 {
		   "cell_type": "markdown",
	   "metadata": {},
	   "source": [
       "# Chapter 5: Steam Generation"
	   ]
	},
{
		   "cell_type": "markdown",
		   "metadata": {},
		   "source": [
			"## Example 5.10: Example_10.sce"
		   ]
		  },
  {
"cell_type": "code",
	   "execution_count": null,
	   "metadata": {
	    "collapsed": true
	   },
	   "outputs": [],
"source": [
"clc\n",
"clear\n",
"//Initialization of variables\n",
"m=150000 //lb\n",
"P1=1000 //psia\n",
"Ts=900 //F\n",
"Tf=200 //F\n",
"//calculations\n",
"disp('From mollier charts,')\n",
"h2=1448.2 //Btu/lb\n",
"hf=167.99 //Btu/lb\n",
"correc=2.2 //Btu/lb\n",
"hc=hf+correc\n",
"Q=m*(h2-hc)\n",
"//results\n",
"printf('Heat absorption = %d Btu/hr',Q)\n",
"disp('The answer is a bit different due to rounding off error in textbook')"
   ]
   }
,
{
		   "cell_type": "markdown",
		   "metadata": {},
		   "source": [
			"## Example 5.11: Example_11.sce"
		   ]
		  },
  {
"cell_type": "code",
	   "execution_count": null,
	   "metadata": {
	    "collapsed": true
	   },
	   "outputs": [],
"source": [
"clc\n",
"clear\n",
"//Initialization of variables\n",
"m=150000 //lb\n",
"P1=1000 //psia\n",
"Ts=900 //F\n",
"Tf=200 //F\n",
"//calculations\n",
"disp('From mollier charts,')\n",
"h2=1448.2 //Btu/lb\n",
"hf=167.99 //Btu/lb\n",
"correc=2.2 //Btu/lb\n",
"hc=hf+correc\n",
"Q=m*(h2-hc)\n",
"output=Q/1000\n",
"//results\n",
"printf('Output of the steam generating unit = %d kB/hr',output)"
   ]
   }
,
{
		   "cell_type": "markdown",
		   "metadata": {},
		   "source": [
			"## Example 5.12: Example_12.sce"
		   ]
		  },
  {
"cell_type": "code",
	   "execution_count": null,
	   "metadata": {
	    "collapsed": true
	   },
	   "outputs": [],
"source": [
"clc\n",
"clear\n",
"//Initialization of variables\n",
"m=150000 //lb\n",
"P1=1000 //psia\n",
"Ts=900 //F\n",
"Tf=200 //F\n",
"m2=21000 //lb\n",
"HV=12000 //Btu/lb\n",
"//calculations\n",
"disp('From mollier charts,')\n",
"h2=1448.2 //Btu/lb\n",
"hf=167.99 //Btu/lb\n",
"correc=2.2 //Btu/lb\n",
"hc=hf+correc\n",
"Q=m*(h2-hc)\n",
"output=Q\n",
"inpu=m2*HV\n",
"eta=output/inpu\n",
"//results\n",
"printf('Efficiency of the steam generating unit = %.1f percent',eta*100)"
   ]
   }
,
{
		   "cell_type": "markdown",
		   "metadata": {},
		   "source": [
			"## Example 5.13: Example_13.sce"
		   ]
		  },
  {
"cell_type": "code",
	   "execution_count": null,
	   "metadata": {
	    "collapsed": true
	   },
	   "outputs": [],
"source": [
"clc\n",
"clear\n",
"//Initialization of variables\n",
"hv=11780 //Btu/lb\n",
"steam=55000 //lb/hr\n",
"coal=6480 //lb\n",
"x1=0.66\n",
"x2=0.044\n",
"x3=0.079\n",
"x4=0.015\n",
"x5=0.11\n",
"z1=14.5\n",
"z2=0.2\n",
"z3=4.4\n",
"z4=80.9\n",
"xash=0.076\n",
"xmois=0.115\n",
"yc=0.21\n",
"refuse=622 //lb/hr\n",
"cp=0.24\n",
"tg=400 //F\n",
"ta=70 //F\n",
"Qco=10160 //Btu/lb\n",
"Qc=14600 //Btu/lb\n",
"//calculations\n",
"disp('From steam tables,')\n",
"hf=269.6 //Btu/lbm\n",
"hfg=1.5 //Btu/lbm\n",
"h1=hf+hfg\n",
"h2=1196.5\n",
"Qb=h2-h1\n",
"h3=1407.7 //Btu/lbm\n",
"Qs=h3-h2\n",
"h4=h3-h1\n",
"out=steam*h4/1000\n",
"eff=steam*h4/(coal*hv)\n",
"//Energy balance\n",
"Ci=coal*x1\n",
"Cr=refuse*yc\n",
"Cb=(Ci-Cr)/coal\n",
"lbt= z1*44+z2*28+z3*32+z4*28\n",
"lbC=z1*12+z2*12\n",
"dry=lbt/lbC *Cb\n",
"loss1=dry*cp*(tg-ta)\n",
"loss2=z2*12/(lbC) *Cb*Qco\n",
"loss3=Cr*Qc/coal\n",
"loss4=xmois*(1089+0.46*tg-ta)\n",
"loss5=x2*9*(1089+0.46*tg-ta)\n",
"loss6=steam*h4/coal\n",
"//results\n",
"printf('Heat absorbed in the boiler = %.2f Btu per lb of steam generated',Qb)\n",
"printf('\n Heat absorbed in the superheater = %.2f Btu/lb of steam',Qs)\n",
"printf('\n Heat absorbed in steam generating = %.2f Btu/lb of steam generated',h4)\n",
"printf('\n Output of steam generating unit = %d kB',out)\n",
"printf('\n Efficiency of steam generating unit = %.1f percent',eff*100)\n",
"printf('\n Carbon burned to CO and CO2 = %.2f lb of C per lb of fuel',Cb)\n",
"printf('\n Dry products of combustion = %.2f lb per lb of fuel',dry)\n",
"printf('\n Loss due to sensible heat in dry gaseous products of combustion = %d Btu/lb of fuel',loss1)\n",
"printf('\n Loss due to CO in dry products of combustion = %.1f Btu/lb of fuel',loss2)\n",
"printf('\n Loss due to C in refuse = %.1f Btu/lb of fuel',loss3)\n",
"printf('\n Loss due to evaporating moisture in fuel = %.1f Btu/lb of fuel',loss4)\n",
"printf('\n Loss due to water vapor formed from H = %.1f Btu/lb of fuel',loss5)\n",
"printf('\n Energy absorbed in generating steam = %d Btu/lb of fuel',loss6)\n",
"disp('The answers are a bit different due to rounding off error in the textbook')"
   ]
   }
,
{
		   "cell_type": "markdown",
		   "metadata": {},
		   "source": [
			"## Example 5.1: Example_1.sce"
		   ]
		  },
  {
"cell_type": "code",
	   "execution_count": null,
	   "metadata": {
	    "collapsed": true
	   },
	   "outputs": [],
"source": [
"clc\n",
"clear\n",
"//Initialization of variables\n",
"x=0.98\n",
"vg=26.80\n",
"vf=0.01672\n",
"//calculations\n",
"vx=x*vg+(1-x)*vf\n",
"//results\n",
"printf('Specific volume of wet steam = %.6f cu ft per lb',vx)"
   ]
   }
,
{
		   "cell_type": "markdown",
		   "metadata": {},
		   "source": [
			"## Example 5.2: Example_2.sce"
		   ]
		  },
  {
"cell_type": "code",
	   "execution_count": null,
	   "metadata": {
	    "collapsed": true
	   },
	   "outputs": [],
"source": [
"clc\n",
"clear\n",
"//Initialization of variables\n",
"hf=167.99 //Btu/lb\n",
"hg=4.5 //Btu/lb\n",
"//calculations\n",
"hc=hf+hg\n",
"//results\n",
"printf('Enthalpy of water = %.1f Btu/lb',hc)"
   ]
   }
,
{
		   "cell_type": "markdown",
		   "metadata": {},
		   "source": [
			"## Example 5.3: Example_3.sce"
		   ]
		  },
  {
"cell_type": "code",
	   "execution_count": null,
	   "metadata": {
	    "collapsed": true
	   },
	   "outputs": [],
"source": [
"clc\n",
"clear\n",
"//Initialization of variables\n",
"x=0.97\n",
"hg=1187.2 //Btu/lb\n",
"hf=298.40 //Btu/lb\n",
"hfg=888.8 //Btu/lb\n",
"//calculations\n",
"hx1=x*hg+(1-x)*hf\n",
"hx2=hf+x*hfg\n",
"hx3=hg-(1-x)*hfg\n",
"//results\n",
"printf('\n In case 1, enthalpy = %.1f Btu/lb',hx1)\n",
"printf('\n In case 2, enthalpy = %.1f Btu/lb',hx2)\n",
"printf('\n In case 3, enthalpy = %.1f Btu/lb',hx3)"
   ]
   }
,
{
		   "cell_type": "markdown",
		   "metadata": {},
		   "source": [
			"## Example 5.4: Example_4.sce"
		   ]
		  },
  {
"cell_type": "code",
	   "execution_count": null,
	   "metadata": {
	    "collapsed": true
	   },
	   "outputs": [],
"source": [
"clc\n",
"clear\n",
"//Initialization of variables\n",
"h1=1172 //Btu/lb\n",
"hf1=355.36 //Btu/lb\n",
"hfg1=843 //Btu/lb\n",
"//calculations\n",
"h2=h1\n",
"x1= (h2-hf1)/hfg1\n",
"//results\n",
"printf('Quality of steam = %.1f percent',x1*100)"
   ]
   }
,
{
		   "cell_type": "markdown",
		   "metadata": {},
		   "source": [
			"## Example 5.5: Example_5.sce"
		   ]
		  },
  {
"cell_type": "code",
	   "execution_count": null,
	   "metadata": {
	    "collapsed": true
	   },
	   "outputs": [],
"source": [
"clc\n",
"clear\n",
"//Initialization of variables\n",
"P=200 //psia\n",
"x=0.95\n",
"m=1//lb\n",
"//calculations\n",
"disp('From mollier chart,')\n",
"hx=1156 //Btu/lb\n",
"sx=1.495 //Btu/lb F\n",
"//results\n",
"printf('Enthalpy = %d Btu/lb',hx)\n",
"printf('\n entropy = %.3f Btu/lb F',sx)"
   ]
   }
,
{
		   "cell_type": "markdown",
		   "metadata": {},
		   "source": [
			"## Example 5.6: Example_6.sce"
		   ]
		  },
  {
"cell_type": "code",
	   "execution_count": null,
	   "metadata": {
	    "collapsed": true
	   },
	   "outputs": [],
"source": [
"clc\n",
"clear\n",
"//Initialization of variables\n",
"P=200 //psia\n",
"T=600 //F\n",
"m=1 //lb\n",
"//calculations\n",
"disp('From mollier chart,')\n",
"hx=1322 //Btu/lb\n",
"sx=1.676 //Btu/lb F\n",
"//results\n",
"printf('Enthalpy = %d Btu/lb',hx)\n",
"printf('\n entropy = %.3f Btu/lb F',sx)"
   ]
   }
,
{
		   "cell_type": "markdown",
		   "metadata": {},
		   "source": [
			"## Example 5.7: Example_7.sce"
		   ]
		  },
  {
"cell_type": "code",
	   "execution_count": null,
	   "metadata": {
	    "collapsed": true
	   },
	   "outputs": [],
"source": [
"clc\n",
"clear\n",
"//Initialization of variables\n",
"P=200 //psia\n",
"T=260 //F\n",
"//calculations\n",
"disp('From mollier chart,')\n",
"hx=1174 //Btu/lb\n",
"x1=2.8\n",
"y1=100-x1\n",
"//results\n",
"printf('Quality = %.1f percent',y1)"
   ]
   }
,
{
		   "cell_type": "markdown",
		   "metadata": {},
		   "source": [
			"## Example 5.8: Example_8.sce"
		   ]
		  },
  {
"cell_type": "code",
	   "execution_count": null,
	   "metadata": {
	    "collapsed": true
	   },
	   "outputs": [],
"source": [
"clc\n",
"clear\n",
"//Initialization of variables\n",
"P=200 //psia\n",
"T=500 //F\n",
"//calculations\n",
"disp('From mollier chart,')\n",
"hi=1269 //Btu/lb\n",
"hf=1063 //Btu/lb\n",
"dh=hi-hf\n",
"y1=91\n",
"//results\n",
"printf('Quality = %.1f percent',y1)\n",
"printf('\n Change in enthalpy = %d Btu/lb',dh)"
   ]
   }
,
{
		   "cell_type": "markdown",
		   "metadata": {},
		   "source": [
			"## Example 5.9: Example_9.sce"
		   ]
		  },
  {
"cell_type": "code",
	   "execution_count": null,
	   "metadata": {
	    "collapsed": true
	   },
	   "outputs": [],
"source": [
"clc\n",
"clear\n",
"//Initialization of variables\n",
"P=200 //psia\n",
"Ts=260 //F\n",
"Tf=220 //F\n",
"m=10000 //lb\n",
"Pc=20 //psia\n",
"//calculations\n",
"disp('From mollier charts,')\n",
"hf=188 //Btu/lb\n",
"h2=1172 //Btu/lb\n",
"Q=m*(h2-hf)\n",
"//results\n",
"printf('Heat absorption = %d Btu/hr',Q)"
   ]
   }
],
"metadata": {
		  "kernelspec": {
		   "display_name": "Scilab",
		   "language": "scilab",
		   "name": "scilab"
		  },
		  "language_info": {
		   "file_extension": ".sce",
		   "help_links": [
			{
			 "text": "MetaKernel Magics",
			 "url": "https://github.com/calysto/metakernel/blob/master/metakernel/magics/README.md"
			}
		   ],
		   "mimetype": "text/x-octave",
		   "name": "scilab",
		   "version": "0.7.1"
		  }
		 },
		 "nbformat": 4,
		 "nbformat_minor": 0
}
