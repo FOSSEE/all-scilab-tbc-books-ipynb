{
"cells": [
 {
		   "cell_type": "markdown",
	   "metadata": {},
	   "source": [
       "# Chapter 1: Matter and energy"
	   ]
	},
{
		   "cell_type": "markdown",
		   "metadata": {},
		   "source": [
			"## Example 1.10: Example_10.sce"
		   ]
		  },
  {
"cell_type": "code",
	   "execution_count": null,
	   "metadata": {
	    "collapsed": true
	   },
	   "outputs": [],
"source": [
"clc\n",
"clear\n",
"//Initialization of variables\n",
"g=32.2 //ft/s^2\n",
"p1=100 //psia\n",
"p2=25 //psia\n",
"v2=2 //cu ft\n",
"//calculations\n",
"W=p1*144*v2 - p2*144*v2\n",
"//results\n",
"printf('Work done = %d ft-lb',W)"
   ]
   }
,
{
		   "cell_type": "markdown",
		   "metadata": {},
		   "source": [
			"## Example 1.11: Example_11.sce"
		   ]
		  },
  {
"cell_type": "code",
	   "execution_count": null,
	   "metadata": {
	    "collapsed": true
	   },
	   "outputs": [],
"source": [
"clc\n",
"clear\n",
"//Initialization of variables\n",
"g=32.2 //ft/s^2\n",
"n=100 //rpm\n",
"p1=100 //psia\n",
"p2=25 //psia\n",
"v2=2 //cu ft\n",
"//calculations\n",
"W=p1*144*v2 - p2*144*v2\n",
"Hp=W*n/33000\n",
"//results\n",
"printf('Horsepower developed = %.1f hp',Hp)"
   ]
   }
,
{
		   "cell_type": "markdown",
		   "metadata": {},
		   "source": [
			"## Example 1.12: Example_12.sce"
		   ]
		  },
  {
"cell_type": "code",
	   "execution_count": null,
	   "metadata": {
	    "collapsed": true
	   },
	   "outputs": [],
"source": [
"clc\n",
"clear\n",
"//Initialization of variables\n",
"P=50 //hp\n",
"m=30 //lb\n",
"E=19000 //Btu/lb\n",
"//calculations\n",
"eta= P*2545/(m*E) *100\n",
"//results\n",
"printf('Efficiency = %.1f percent',eta)"
   ]
   }
,
{
		   "cell_type": "markdown",
		   "metadata": {},
		   "source": [
			"## Example 1.1: Example_1.sce"
		   ]
		  },
  {
"cell_type": "code",
	   "execution_count": null,
	   "metadata": {
	    "collapsed": true
	   },
	   "outputs": [],
"source": [
"clc\n",
"clear\n",
"//Initialization of variables\n",
"g=32.2 //ft/s^2\n",
"m=500 //lb\n",
"rate=10 //ft/s^2\n",
"//calculations\n",
"F1=m/g *rate\n",
"ms=m/g\n",
"F2=ms*rate\n",
"//results\n",
"printf('Force in case 1 = %.1f lbf',F1)\n",
"printf('\n Force in case 2 = %.1f lbf',F2)"
   ]
   }
,
{
		   "cell_type": "markdown",
		   "metadata": {},
		   "source": [
			"## Example 1.2: Example_2.sce"
		   ]
		  },
  {
"cell_type": "code",
	   "execution_count": null,
	   "metadata": {
	    "collapsed": true
	   },
	   "outputs": [],
"source": [
"clc\n",
"clear\n",
"//Initialization of variables\n",
"g=32.2 //ft/s^2\n",
"g2=32.0 //ft/s^2\n",
"rate=10 //ft/s^2\n",
"w1=500 //lbf\n",
"//calculations\n",
"fd1=w1*g2/g\n",
"F=fd1/g2 *rate\n",
"ms=w1/g\n",
"F2=ms*rate\n",
"//results\n",
"printf('Net weight of body in case 1 = %.1f lbf',F)\n",
"printf('\n Force in case 2 = %.1f lbf',F2)"
   ]
   }
,
{
		   "cell_type": "markdown",
		   "metadata": {},
		   "source": [
			"## Example 1.3: Example_3.sce"
		   ]
		  },
  {
"cell_type": "code",
	   "execution_count": null,
	   "metadata": {
	    "collapsed": true
	   },
	   "outputs": [],
"source": [
"clc\n",
"clear\n",
"//Initialization of variables\n",
"g=32.174 //ft/s^2\n",
"m=500 //lbm\n",
"rate=10 //ft/s^2\n",
"//calculations\n",
"F=1/g *m*rate\n",
"//results\n",
"printf('Force required = %.1f lbf',F)"
   ]
   }
,
{
		   "cell_type": "markdown",
		   "metadata": {},
		   "source": [
			"## Example 1.4: Example_4.sce"
		   ]
		  },
  {
"cell_type": "code",
	   "execution_count": null,
	   "metadata": {
	    "collapsed": true
	   },
	   "outputs": [],
"source": [
"clc\n",
"clear\n",
"//Initialization of variables\n",
"g1=32.174 //ft/s^2\n",
"gc=g1\n",
"g2=30 //ft/s^2\n",
"m=100 //lbm\n",
"//calculations\n",
"w1=g1/gc *m\n",
"w2=g2/gc *m\n",
"//results\n",
"printf('Weight in case 1 = %d lbf',w1)\n",
"printf('\n Weight in case 2 = %.1f lbf',w2)"
   ]
   }
,
{
		   "cell_type": "markdown",
		   "metadata": {},
		   "source": [
			"## Example 1.5: Example_5.sce"
		   ]
		  },
  {
"cell_type": "code",
	   "execution_count": null,
	   "metadata": {
	    "collapsed": true
	   },
	   "outputs": [],
"source": [
"clc\n",
"clear\n",
"//Initialization of variables\n",
"ge=32.174 //ft/s^2\n",
"gm=5.47 //ft/s^2\n",
"we=50 //lbm\n",
"//calculations\n",
"wm=we*gm/ge\n",
"//results\n",
"printf('In case a, it will weigh the same, weight  = %d lbm',we)\n",
"printf('\n In case b, weight = %.1f lbf',wm)"
   ]
   }
,
{
		   "cell_type": "markdown",
		   "metadata": {},
		   "source": [
			"## Example 1.6: Example_6.sce"
		   ]
		  },
  {
"cell_type": "code",
	   "execution_count": null,
	   "metadata": {
	    "collapsed": true
	   },
	   "outputs": [],
"source": [
"clc\n",
"clear\n",
"//Initialization of variables\n",
"g=32.2 //ft/s^2\n",
"p1=100 //psig\n",
"p2=29.0 //in of Hg\n",
"//calculations\n",
"BP=p2*0.491\n",
"AP=BP+p1\n",
"//results\n",
"printf('Absolute pressure = %.2f psia',AP)"
   ]
   }
,
{
		   "cell_type": "markdown",
		   "metadata": {},
		   "source": [
			"## Example 1.7: Example_7.sce"
		   ]
		  },
  {
"cell_type": "code",
	   "execution_count": null,
	   "metadata": {
	    "collapsed": true
	   },
	   "outputs": [],
"source": [
"clc\n",
"clear\n",
"//Initialization of variables\n",
"g=32.2 //ft/s^2\n",
"Pb=29.5 //in of Hg\n",
"Pv=10 //in of Hg\n",
"//calculations\n",
"AP=(Pb-Pv)*0.491\n",
"//results\n",
"printf('Absoulte pressure = %.2f psia',AP)"
   ]
   }
,
{
		   "cell_type": "markdown",
		   "metadata": {},
		   "source": [
			"## Example 1.8: Example_8.sce"
		   ]
		  },
  {
"cell_type": "code",
	   "execution_count": null,
	   "metadata": {
	    "collapsed": true
	   },
	   "outputs": [],
"source": [
"clc\n",
"clear\n",
"//Initialization of variables\n",
"g=32.2 //ft/s^2\n",
"v1=1 //cu ft\n",
"p1=100 //psia\n",
"//calculations\n",
"v2=2*v1\n",
"W=144*p1*(v2-v1)\n",
"//results\n",
"printf('Work done = %d ft-lb',W)"
   ]
   }
,
{
		   "cell_type": "markdown",
		   "metadata": {},
		   "source": [
			"## Example 1.9: Example_9.sce"
		   ]
		  },
  {
"cell_type": "code",
	   "execution_count": null,
	   "metadata": {
	    "collapsed": true
	   },
	   "outputs": [],
"source": [
"clc\n",
"clear\n",
"//Initialization of variables\n",
"g=32.2 //ft/s^2\n",
"v1=1 //cu ft\n",
"p1= 100 //psia\n",
"p2=50 //psia\n",
"v2=3 //cu ft\n",
"//calculations\n",
"pa=(p1+p2)/2\n",
"W=pa*(v2-v1)*144\n",
"//results\n",
"printf('Work done = %d ft-lb',W)"
   ]
   }
],
"metadata": {
		  "kernelspec": {
		   "display_name": "Scilab",
		   "language": "scilab",
		   "name": "scilab"
		  },
		  "language_info": {
		   "file_extension": ".sce",
		   "help_links": [
			{
			 "text": "MetaKernel Magics",
			 "url": "https://github.com/calysto/metakernel/blob/master/metakernel/magics/README.md"
			}
		   ],
		   "mimetype": "text/x-octave",
		   "name": "scilab",
		   "version": "0.7.1"
		  }
		 },
		 "nbformat": 4,
		 "nbformat_minor": 0
}
