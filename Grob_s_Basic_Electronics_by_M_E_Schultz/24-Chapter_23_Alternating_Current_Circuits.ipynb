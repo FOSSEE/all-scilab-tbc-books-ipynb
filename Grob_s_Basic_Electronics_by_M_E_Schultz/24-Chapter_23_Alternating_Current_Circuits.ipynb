{
"cells": [
 {
		   "cell_type": "markdown",
	   "metadata": {},
	   "source": [
       "# Chapter 24: Chapter 23 Alternating Current Circuits"
	   ]
	},
{
		   "cell_type": "markdown",
		   "metadata": {},
		   "source": [
			"## Example 23.1: Example_158.sce"
		   ]
		  },
  {
"cell_type": "code",
	   "execution_count": null,
	   "metadata": {
	    "collapsed": true
	   },
	   "outputs": [],
"source": [
"// Grob's Basic Electronics 11e\n",
"// Chapter No. 23\n",
"// Example No. 23_1\n",
"clc; clear;\n",
"// A 27-Ohms R is in series with 54 Ohms of Xl and 27 Ohms of Xc. The applied voltage Vt is 50 mV. Calculate ZT, I, and Theta z.\n",
"\n",
"// Given data\n",
"\n",
"R = 27;         // Resistance=27 Ohms\n",
"Xl = 54;        // Inductive reactance=54 Ohms\n",
"Vt = 50*10^-3;  // Applied voltage=100 Volts\n",
"Xc = 27;        // Capacitive reactance=27 Ohms\n",
"\n",
"nXl = Xl-Xc;    // Net Inductive reactance\n",
"R1 = R*R;\n",
"nXl1 = nXl*nXl;\n",
"\n",
"Zt = sqrt(R1+nXl1);\n",
"disp (Zt,'Total Impedence Zt in Ohms')\n",
"\n",
"I = (Vt/Zt);\n",
"disp (I, 'Current I in Ampers')\n",
"disp ('i.e 1.31 mAmps')\n",
"\n",
"Oz = atand(Xc/R);\n",
"disp (Oz, 'Theta z in Degree')"
   ]
   }
,
{
		   "cell_type": "markdown",
		   "metadata": {},
		   "source": [
			"## Example 23.2: Example_159.sce"
		   ]
		  },
  {
"cell_type": "code",
	   "execution_count": null,
	   "metadata": {
	    "collapsed": true
	   },
	   "outputs": [],
"source": [
"// Grob's Basic Electronics 11e\n",
"// Chapter No. 23\n",
"// Example No. 23_2\n",
"clc; clear;\n",
"// The following branch currents are supplied from a 50-mV source: Ir=1.8 mA; Il=2.8 mA; Ic=1 mA. Calculate It, Zeq, and Theta I.\n",
"\n",
"// Given data\n",
"\n",
"Va = 50*10^-3;      // Applied voltage=50m Volts\n",
"Ir = 1.8*10^-3;     // Ir=1.8 mAmps\n",
"Il = 2.8*10^-3;     // Ir=2.8 mAmps\n",
"Ic = 1*10^-3;       // Ic=1 mAmps\n",
"\n",
"nI = Il-Ic;         // net current\n",
"Ir1 = Ir*Ir;\n",
"nI1 = nI*nI;\n",
"\n",
"It = sqrt(Ir1+nI1);\n",
"disp (It,'The Total Current It in Amps')\n",
"disp ('i.e 2.55 mAmps')\n",
"\n",
"Zeq = Va/It;\n",
"disp (Zeq,'The Equivqlent Impedence Zeq in Ohms')\n",
"disp ('Appox 19.61 Ohms')\n",
"\n",
"Oz = atand(-(nI/Ir));\n",
"disp (Oz, 'Theta z in Degree');"
   ]
   }
],
"metadata": {
		  "kernelspec": {
		   "display_name": "Scilab",
		   "language": "scilab",
		   "name": "scilab"
		  },
		  "language_info": {
		   "file_extension": ".sce",
		   "help_links": [
			{
			 "text": "MetaKernel Magics",
			 "url": "https://github.com/calysto/metakernel/blob/master/metakernel/magics/README.md"
			}
		   ],
		   "mimetype": "text/x-octave",
		   "name": "scilab",
		   "version": "0.7.1"
		  }
		 },
		 "nbformat": 4,
		 "nbformat_minor": 0
}
