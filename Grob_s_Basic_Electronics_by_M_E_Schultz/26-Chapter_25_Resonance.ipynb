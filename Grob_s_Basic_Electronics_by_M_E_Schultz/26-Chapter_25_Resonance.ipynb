{
"cells": [
 {
		   "cell_type": "markdown",
	   "metadata": {},
	   "source": [
       "# Chapter 26: Chapter 25 Resonance"
	   ]
	},
{
		   "cell_type": "markdown",
		   "metadata": {},
		   "source": [
			"## Example 25.10: Example_169.sce"
		   ]
		  },
  {
"cell_type": "code",
	   "execution_count": null,
	   "metadata": {
	    "collapsed": true
	   },
	   "outputs": [],
"source": [
"// Grob's Basic Electronics 11e\n",
"// Chapter No. 25\n",
"// Example No. 25_10\n",
"clc; clear;\n",
"// An LC circuit resonant at 6000 kHz has a Q of 100. Find the total bandwidth delta f and the edge frequencies f1 and f2.\n",
"\n",
"// Given data\n",
"\n",
"fr = 6000*10^3;         // Resonant frequency=6000 kHertz\n",
"Q = 100;                // Magnification factor=100\n",
"\n",
"Bw = fr/Q;\n",
"disp (Bw,'The Bandwidth BW or Delta f in Hertz')\n",
"disp ('i.e 60 kHz')\n",
"\n",
"f1 = fr-Bw/2;\n",
"disp (f1,'The Edge Frequency f1 in Hertz')\n",
"disp ('i.e 5970 kHz')\n",
"\n",
"f2 = fr+Bw/2;\n",
"disp (f2,'The Edge Frequency f2 in Hertz')\n",
"disp ('i.e 6030 kHz')"
   ]
   }
,
{
		   "cell_type": "markdown",
		   "metadata": {},
		   "source": [
			"## Example 25.1: Example_160.sce"
		   ]
		  },
  {
"cell_type": "code",
	   "execution_count": null,
	   "metadata": {
	    "collapsed": true
	   },
	   "outputs": [],
"source": [
"// Grob's Basic Electronics 11e\n",
"// Chapter No. 25\n",
"// Example No. 25_1\n",
"clc; clear;\n",
"// Calculate the resonant frequency for an 8-H inductance and a 20-uF capacitance.\n",
"\n",
"// Given data\n",
"\n",
"L = 8;              // L=8 Henry\n",
"C = 20*10^-6;       // C=20 uFarad\n",
"\n",
"fr = 1/(2*%pi*sqrt(L*C));\n",
"disp (fr,'The resonant frequency in Hertz')\n",
"disp ('Appox 12.6 Hertz')"
   ]
   }
,
{
		   "cell_type": "markdown",
		   "metadata": {},
		   "source": [
			"## Example 25.2: Example_161.sce"
		   ]
		  },
  {
"cell_type": "code",
	   "execution_count": null,
	   "metadata": {
	    "collapsed": true
	   },
	   "outputs": [],
"source": [
"// Grob's Basic Electronics 11e\n",
"// Chapter No. 25\n",
"// Example No. 25_2\n",
"clc; clear;\n",
"// Calculate the resonant frequency for a 2-uH inductance and a 3-pF capacitance.\n",
"\n",
"// Given data\n",
"\n",
"L = 2*10^-6;       // Inductor=2 uHenry\n",
"C = 3*10^-12;      // Capacitor=3 pFarad\n",
"pi = 3.14;\n",
"\n",
"fr = 1/(2*pi*sqrt(L*C));\n",
"disp (fr,'The resonant frequency in Hertz')\n",
"disp ('i.e 65 MHz')"
   ]
   }
,
{
		   "cell_type": "markdown",
		   "metadata": {},
		   "source": [
			"## Example 25.3: Example_162.sce"
		   ]
		  },
  {
"cell_type": "code",
	   "execution_count": null,
	   "metadata": {
	    "collapsed": true
	   },
	   "outputs": [],
"source": [
"// Grob's Basic Electronics 11e\n",
"// Chapter No. 25\n",
"// Example No. 25_3\n",
"clc; clear;\n",
"// What value of C resonates with a 239-uH L at 1000 kHz?\n",
"\n",
"// Given data\n",
"\n",
"L = 239*10^-6;      // Inductor=239 uHenry\n",
"fr = 1000*10^3;     // Resonant frequency=1000 kHertz\n",
"\n",
"A = %pi*%pi;          // pi square\n",
"B = fr*fr;          // Resonant frequency square\n",
"\n",
"C = 1/(4*A*B*L);\n",
"disp (C,'The value of Capacitor in Farads')\n",
"disp ('i.e 106 pF')"
   ]
   }
,
{
		   "cell_type": "markdown",
		   "metadata": {},
		   "source": [
			"## Example 25.4: Example_163.sce"
		   ]
		  },
  {
"cell_type": "code",
	   "execution_count": null,
	   "metadata": {
	    "collapsed": true
	   },
	   "outputs": [],
"source": [
"// Grob's Basic Electronics 11e\n",
"// Chapter No. 25\n",
"// Example No. 25_4\n",
"clc; clear;\n",
"// What value of L resonates with a 106-pF C at 1000 kHz, equal to 1 MHz?\n",
"\n",
"// Given data\n",
"\n",
"C = 106*10^-12;     // Capacitor=106 pFarad\n",
"fr = 1*10^6;        // Resonant frequency=1 MHertz\n",
"\n",
"A = %pi*%pi;          // pi square\n",
"B = fr*fr;          // Resonant frequency square\n",
"\n",
"C = 1/(4*A*B*C);\n",
"disp (C,'The value of Inductor in Henry')\n",
"disp ('i.e 239 uF')"
   ]
   }
,
{
		   "cell_type": "markdown",
		   "metadata": {},
		   "source": [
			"## Example 25.5: Example_164.sce"
		   ]
		  },
  {
"cell_type": "code",
	   "execution_count": null,
	   "metadata": {
	    "collapsed": true
	   },
	   "outputs": [],
"source": [
"// Grob's Basic Electronics 11e\n",
"// Chapter No. 25\n",
"// Example No. 25_5\n",
"clc;clear;\n",
"// A series circuit resonant at 0.4 MHz develops 100 mV across a 250-uH L with a 2-mV input. Calculate Q .\n",
"\n",
"// Given data\n",
"\n",
"Vo = 100*10^-3;     // Output voltage=100 mVolts\n",
"Vi = 2*10^-3;       // Input voltage=2 mVolts\n",
"L = 250*10^-6;      // Inductor=250 uHenry\n",
"f = 0.4*10^6;       // Frequency=0.4 MHertz\n",
"\n",
"Q = Vo/Vi;\n",
"disp (Q,'The Magnification factor Q is')"
   ]
   }
,
{
		   "cell_type": "markdown",
		   "metadata": {},
		   "source": [
			"## Example 25.6: Example_165.sce"
		   ]
		  },
  {
"cell_type": "code",
	   "execution_count": null,
	   "metadata": {
	    "collapsed": true
	   },
	   "outputs": [],
"source": [
"// Grob's Basic Electronics 11e\n",
"// Chapter No. 25\n",
"// Example No. 25_6\n",
"clc; clear;\n",
"// What is the ac resistance of the coil in A series circuit resonant at 0.4 MHz develops 100 mV across a 250-uH L with a 2-mV input.\n",
"\n",
"// Given data\n",
"\n",
"Vo = 100*10^-3;     // Output voltage=100 mVolts\n",
"Vi = 2*10^-3;       // Input voltage=2 mVolts\n",
"L = 250*10^-6;      // Inductor=250 uHenry\n",
"f = 0.4*10^6;       // Frequency=0.4 MHertz\n",
"pi = 3.14;\n",
"\n",
"Q = Vo/Vi;\n",
"Xl = 2*pi*f*L;\n",
"\n",
"rs = Xl/Q;\n",
"disp (rs,'The Ac Resistance of Coil in Ohms')"
   ]
   }
,
{
		   "cell_type": "markdown",
		   "metadata": {},
		   "source": [
			"## Example 25.7: Example_166.sce"
		   ]
		  },
  {
"cell_type": "code",
	   "execution_count": null,
	   "metadata": {
	    "collapsed": true
	   },
	   "outputs": [],
"source": [
"// Grob's Basic Electronics 11e\n",
"// Chapter No. 25\n",
"// Example No. 25_7\n",
"clc; clear;\n",
"// In Fig. 25–9, assume that with a 4-mVac input signal for VT, the voltage across R1 is 2 mV when R1 is 225-kOhms. Determine Zeq and Q.\n",
"\n",
"// Given data\n",
"\n",
"vin = 4*10^-3;      // Input AC signal=4 mVac\n",
"R1 = 225*10^3;      // Resistance1=225 kOhms\n",
"vR1 = 2*10^-3;      // Voltage across Resistor1=2 mVac\n",
"xl = 1.5*10^3;      // Inductive Reactance=1.5 kOhms\n",
"\n",
"disp ('Because they divide Vt equally')\n",
"\n",
"Zeq = R1;\n",
"disp (Zeq,'The Equivalent Impedence in Ohms')\n",
"disp ('i.e 225 kOhms')\n",
"\n",
"Q = Zeq/xl;\n",
"disp (Q,'The Q is')"
   ]
   }
,
{
		   "cell_type": "markdown",
		   "metadata": {},
		   "source": [
			"## Example 25.8: Example_167.sce"
		   ]
		  },
  {
"cell_type": "code",
	   "execution_count": null,
	   "metadata": {
	    "collapsed": true
	   },
	   "outputs": [],
"source": [
"// Grob's Basic Electronics 11e\n",
"// Chapter No. 25\n",
"// Example No. 25_8\n",
"clc; clear;\n",
"// A parallel LC circuit tuned to 200 kHz with a 350-uH L has a measured ZEQ of 17,600. Calculate Q.\n",
"\n",
"// Given data\n",
"\n",
"L = 350*10^-6;      // Inductor=350 uHenry\n",
"f = 200*10^3;       // Frequency=200 kHertz\n",
"Zeq = 17600;        // Equivalent Impedence=17600 Ohms\n",
"\n",
"Xl = 2*%pi*f*L;\n",
"\n",
"Q = Zeq/Xl;\n",
"disp (Q,'The Magnification factor Q is')"
   ]
   }
,
{
		   "cell_type": "markdown",
		   "metadata": {},
		   "source": [
			"## Example 25.9: Example_168.sce"
		   ]
		  },
  {
"cell_type": "code",
	   "execution_count": null,
	   "metadata": {
	    "collapsed": true
	   },
	   "outputs": [],
"source": [
"// Grob's Basic Electronics 11e\n",
"// Chapter No. 25\n",
"// Example No. 25_9\n",
"clc; clear;\n",
"// An LC circuit resonant at 2000 kHz has a Q of 100. Find the total bandwidth delta f and the edge frequencies f1 and f2.\n",
"\n",
"// Given data\n",
"\n",
"fr = 2000*10^3;         // Resonant frequency=2000 kHertz\n",
"Q = 100;                // Magnification factor=100\n",
"\n",
"Bw = fr/Q;\n",
"disp (Bw,'The Bandwidth BW or Delta f in Hertz')\n",
"disp ('i.e 20 kHz')\n",
"\n",
"f1 = fr-Bw/2;\n",
"disp (f1,'The Edge Frequency f1 in Hertz')\n",
"disp ('i.e 1990 kHz')\n",
"\n",
"f2 = fr+Bw/2;\n",
"disp (f2,'The Edge Frequency f2 in Hertz')\n",
"disp ('i.e 2010 kHz')"
   ]
   }
],
"metadata": {
		  "kernelspec": {
		   "display_name": "Scilab",
		   "language": "scilab",
		   "name": "scilab"
		  },
		  "language_info": {
		   "file_extension": ".sce",
		   "help_links": [
			{
			 "text": "MetaKernel Magics",
			 "url": "https://github.com/calysto/metakernel/blob/master/metakernel/magics/README.md"
			}
		   ],
		   "mimetype": "text/x-octave",
		   "name": "scilab",
		   "version": "0.7.1"
		  }
		 },
		 "nbformat": 4,
		 "nbformat_minor": 0
}
