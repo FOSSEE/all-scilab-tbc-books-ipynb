{
"cells": [
 {
		   "cell_type": "markdown",
	   "metadata": {},
	   "source": [
       "# Chapter 2: Chapter 01 Electricity"
	   ]
	},
{
		   "cell_type": "markdown",
		   "metadata": {},
		   "source": [
			"## Example 1.1: Example_18.sce"
		   ]
		  },
  {
"cell_type": "code",
	   "execution_count": null,
	   "metadata": {
	    "collapsed": true
	   },
	   "outputs": [],
"source": [
"// Grob's Basic Electronics 11e\n",
"// Chapter No. 01\n",
"// Example No. 1_1\n",
"clc; clear;\n",
"// A neutral dielectric has added to it 1.25*10^18 electrons. What is its charge in coulombs?\n",
"\n",
"// Given data\n",
"\n",
"ec = 1.25*10^18;        // Electron charge=1.25*10^18 electrons\n",
"\n",
"disp ('This number of electrons is double the charge of 1 C.')\n",
"disp ('Therefore, -Q = 2 Columbs')"
   ]
   }
,
{
		   "cell_type": "markdown",
		   "metadata": {},
		   "source": [
			"## Example 1.2: Example_19.sce"
		   ]
		  },
  {
"cell_type": "code",
	   "execution_count": null,
	   "metadata": {
	    "collapsed": true
	   },
	   "outputs": [],
"source": [
"// Grob's Basic Electronics 11e\n",
"// Chapter No. 01\n",
"// Example No. 1_2\n",
"clc; clear;\n",
"// A dielectric has a positive charge of 12.5*10^18 protons. What is its charge in coulombs?\n",
"\n",
"// Given data\n",
"\n",
"ec = 12.5*10^18;        // Electron charge=12.5*10^18 electrons\n",
"\n",
"disp ('This number of electrons is double the charge of 1 C and posotive.')\n",
"disp ('Therefore, +Q = 2 Columbs')"
   ]
   }
,
{
		   "cell_type": "markdown",
		   "metadata": {},
		   "source": [
			"## Example 1.3: Example_20.sce"
		   ]
		  },
  {
"cell_type": "code",
	   "execution_count": null,
	   "metadata": {
	    "collapsed": true
	   },
	   "outputs": [],
"source": [
"// Grob's Basic Electronics 11e\n",
"// Chapter No. 01\n",
"// Example No. 1_3\n",
"clc; clear;\n",
"// A dielectric with +Q of 2 C has 12.5*10^18 electrons added. What is its charge then?\n",
"\n",
"// Given data\n",
"\n",
"ec = 12.5*10^18;        // Electron charge=12.5*10^18 electrons\n",
"\n",
"disp ('The 2-C of negative charge added by the electron cancles the 2-C of positive charge, making the dielectric neutral.')\n",
"disp ('Therefore, Q = 0')"
   ]
   }
,
{
		   "cell_type": "markdown",
		   "metadata": {},
		   "source": [
			"## Example 1.4: Example_21.sce"
		   ]
		  },
  {
"cell_type": "code",
	   "execution_count": null,
	   "metadata": {
	    "collapsed": true
	   },
	   "outputs": [],
"source": [
"// Grob's Basic Electronics 11e\n",
"// Chapter No. 01\n",
"// Example No. 1_4\n",
"clc; clear;\n",
"// A neutral dielectric has 12.5*10^18 electrons removed. What is its charge?\n",
"\n",
"// Given data\n",
"\n",
"ec = 12.5*10^18;        // Electron charge=12.5*10^18 electrons\n",
"\n",
"disp ('The 2-C of electron charge removed allows an excess of 12.5*10^18 protons. Since the proton and electron have exactly the same amount of charge,')\n",
"disp ('now the dielectric has a positive charge of +Q = 2 Columbs.')"
   ]
   }
,
{
		   "cell_type": "markdown",
		   "metadata": {},
		   "source": [
			"## Example 1.5: Example_22.sce"
		   ]
		  },
  {
"cell_type": "code",
	   "execution_count": null,
	   "metadata": {
	    "collapsed": true
	   },
	   "outputs": [],
"source": [
"// Grob's Basic Electronics 11e\n",
"// Chapter No. 01\n",
"// Example No. 1_5\n",
"clc; clear;\n",
"// What is the output voltage of a battery that expends 3.6 J of energy in moving 0.5C of charge?\n",
"\n",
"// Given data\n",
"\n",
"W = 3.6;        // Work=3.6 Jouls\n",
"Q = 0.5;        // Charge=0.5 Columb\n",
"\n",
"V = W/Q;\n",
"disp (V,'The Output Voltage of a Battery in Volts')"
   ]
   }
,
{
		   "cell_type": "markdown",
		   "metadata": {},
		   "source": [
			"## Example 1.6: Example_23.sce"
		   ]
		  },
  {
"cell_type": "code",
	   "execution_count": null,
	   "metadata": {
	    "collapsed": true
	   },
	   "outputs": [],
"source": [
"// Grob's Basic Electronics 11e\n",
"// Chapter No. 01\n",
"// Example No. 1_6\n",
"clc; clear;\n",
"//The charge of 12 C moves past a given point every second. How much is the intensity of charge flow?\n",
"\n",
"// Given data\n",
"\n",
"Q = 12;        // Charge=12 Columb\n",
"T = 1;          // Time=1 Sec i.e every second\n",
"\n",
"I = Q/T;\n",
"disp (I,'The Intensity of Charge Flow in Amps')"
   ]
   }
,
{
		   "cell_type": "markdown",
		   "metadata": {},
		   "source": [
			"## Example 1.7: Example_24.sce"
		   ]
		  },
  {
"cell_type": "code",
	   "execution_count": null,
	   "metadata": {
	    "collapsed": true
	   },
	   "outputs": [],
"source": [
"// Grob's Basic Electronics 11e\n",
"// Chapter No. 01\n",
"// Example No. 1_7\n",
"clc; clear;\n",
"// The charge of 5 C moves past a given point in 1 s. How much is the current?\n",
"\n",
"// Given data\n",
"\n",
"Q = 5;        // Charge=5 Columb\n",
"T = 1;          // Time=1 Sec\n",
"\n",
"I = Q/T;\n",
"disp (I,'The Current in Amps')"
   ]
   }
,
{
		   "cell_type": "markdown",
		   "metadata": {},
		   "source": [
			"## Example 1.8: Example_25.sce"
		   ]
		  },
  {
"cell_type": "code",
	   "execution_count": null,
	   "metadata": {
	    "collapsed": true
	   },
	   "outputs": [],
"source": [
"// Grob's Basic Electronics 11e\n",
"// Chapter No. 01\n",
"// Example No. 1_8\n",
"clc; clear;\n",
"// Calculate the resistance for the following conductance values: (a) 0.05 S (b) 0.1 S\n",
"\n",
"// Given data\n",
"\n",
"G1 = 0.05;      // G1=0.05 Siemins\n",
"G2 = 0.1;      // G1=0.1 Siemins\n",
"\n",
"R1 = 1/G1;\n",
"disp (R1,'The Resistance for Conductance value 0.05 S in Ohms')\n",
"\n",
"R2 = 1/G2;\n",
"disp (R2,'The Resistance for Conductance value 0.1 S in Ohms')"
   ]
   }
,
{
		   "cell_type": "markdown",
		   "metadata": {},
		   "source": [
			"## Example 1.9: Example_26.sce"
		   ]
		  },
  {
"cell_type": "code",
	   "execution_count": null,
	   "metadata": {
	    "collapsed": true
	   },
	   "outputs": [],
"source": [
"// Grob's Basic Electronics 11e\n",
"// Chapter No. 01\n",
"// Example No. 1_9\n",
"clc; clear;\n",
"//Calculate the conductance for the following resistance values: (a) 1 kOhms (b)5 kOhms\n",
"\n",
"// Given data\n",
"\n",
"R1 = 1*10^3;      // R1=1k Ohms\n",
"R2 = 5*10^3;       // R2=5k Ohms\n",
"\n",
"G1 = 1/R1;\n",
"disp (G1,'The Conductance for Resistance value 1 kOhms in Siemens')\n",
"disp ('OR 1 mS')\n",
"\n",
"G2 = 1/R2;\n",
"disp (G2,'The Conductance for Resistance value 5 kOhms in Siemens')\n",
"disp ('OR 200 uS')"
   ]
   }
],
"metadata": {
		  "kernelspec": {
		   "display_name": "Scilab",
		   "language": "scilab",
		   "name": "scilab"
		  },
		  "language_info": {
		   "file_extension": ".sce",
		   "help_links": [
			{
			 "text": "MetaKernel Magics",
			 "url": "https://github.com/calysto/metakernel/blob/master/metakernel/magics/README.md"
			}
		   ],
		   "mimetype": "text/x-octave",
		   "name": "scilab",
		   "version": "0.7.1"
		  }
		 },
		 "nbformat": 4,
		 "nbformat_minor": 0
}
