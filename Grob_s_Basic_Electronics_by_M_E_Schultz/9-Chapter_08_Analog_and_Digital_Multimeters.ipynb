{
"cells": [
 {
		   "cell_type": "markdown",
	   "metadata": {},
	   "source": [
       "# Chapter 9: Chapter 08 Analog and Digital Multimeters"
	   ]
	},
{
		   "cell_type": "markdown",
		   "metadata": {},
		   "source": [
			"## Example 8.1: Example_66.sce"
		   ]
		  },
  {
"cell_type": "code",
	   "execution_count": null,
	   "metadata": {
	    "collapsed": true
	   },
	   "outputs": [],
"source": [
"// Grob's Basic Electronics 11e\n",
"// Chapter No. 08\n",
"// Example No. 8_1\n",
"clc; clear;\n",
"// A shunt extends the range of a 50-uA meter movement to 1 mA. How much is the current through the shunt at full-scale deflection?\n",
"\n",
"// Given data\n",
"\n",
"It = 1*10^-3;       // Total Current=1 mAmps\n",
"Im = 50*10^-6;      // Current (cause of meter movement)=50 uAmps\n",
"\n",
"Is = It-Im;\n",
"disp (Is,'The Current through Shunt at Full Scale Deflection in Amps')\n",
"disp ('i.e 950 uAmps')"
   ]
   }
,
{
		   "cell_type": "markdown",
		   "metadata": {},
		   "source": [
			"## Example 8.2: Example_67.sce"
		   ]
		  },
  {
"cell_type": "code",
	   "execution_count": null,
	   "metadata": {
	    "collapsed": true
	   },
	   "outputs": [],
"source": [
"// Grob's Basic Electronics 11e\n",
"// Chapter No. 08\n",
"// Example No. 8_2\n",
"clc; clear;\n",
"// A 50 uA meter movement has an Rm of 1000 Ohms. What Rs is needed to extend the range to 500 uA?\n",
"\n",
"// Given data\n",
"\n",
"It = 500*10^-6;     // Total Current=500u Amps\n",
"Im = 50*10^-6;      // Current (cause of meter movement)=50 uAmps\n",
"rm = 1000;          // Resistance of moving coil=1000 Ohms\n",
"\n",
"Is = It-Im;\n",
"Vm = Im*rm;\n",
"\n",
"Rs = Vm/Is;\n",
"disp (Rs,'The Shunt Resistance Rs needed to extend the range to 500 uA in Ohms')"
   ]
   }
],
"metadata": {
		  "kernelspec": {
		   "display_name": "Scilab",
		   "language": "scilab",
		   "name": "scilab"
		  },
		  "language_info": {
		   "file_extension": ".sce",
		   "help_links": [
			{
			 "text": "MetaKernel Magics",
			 "url": "https://github.com/calysto/metakernel/blob/master/metakernel/magics/README.md"
			}
		   ],
		   "mimetype": "text/x-octave",
		   "name": "scilab",
		   "version": "0.7.1"
		  }
		 },
		 "nbformat": 4,
		 "nbformat_minor": 0
}
