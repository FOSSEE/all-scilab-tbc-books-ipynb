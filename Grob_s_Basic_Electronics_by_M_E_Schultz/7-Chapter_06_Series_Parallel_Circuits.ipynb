{
"cells": [
 {
		   "cell_type": "markdown",
	   "metadata": {},
	   "source": [
       "# Chapter 7: Chapter 06 Series Parallel Circuits"
	   ]
	},
{
		   "cell_type": "markdown",
		   "metadata": {},
		   "source": [
			"## Example 6.1: Example_61.sce"
		   ]
		  },
  {
"cell_type": "code",
	   "execution_count": null,
	   "metadata": {
	    "collapsed": true
	   },
	   "outputs": [],
"source": [
"// Grob's Basic Electronics 11e\n",
"// Chapter No. 06\n",
"// Example No. 6_1\n",
"clc; clear;\n",
"// The Current in M1 reads 0 A with the standard resistor RS adjusted to 5642 Ohms. What is the value of the unknown resistor Rx?\n",
"\n",
"// Given data\n",
"\n",
"Rs = 5642;          // Standard Resistor=5642 Ohms\n",
"R1 = 1*10^3;        // Resistor 1=1k Ohms\n",
"R2 = 10*10^3;       // Resistor 2=10k Ohms\n",
"\n",
"Rx = Rs*(R1/R2);\n",
"disp (Rx,'The Unknown Resistance Rx in Ohms')"
   ]
   }
,
{
		   "cell_type": "markdown",
		   "metadata": {},
		   "source": [
			"## Example 6.2: Example_62.sce"
		   ]
		  },
  {
"cell_type": "code",
	   "execution_count": null,
	   "metadata": {
	    "collapsed": true
	   },
	   "outputs": [],
"source": [
"// Grob's Basic Electronics 11e\n",
"// Chapter No. 06\n",
"// Example No. 6_2\n",
"clc; clear;\n",
"// what is the maximum unknown resistance Rx that can be measured for the ratio arm values shown?\n",
"\n",
"// Given data\n",
"\n",
"Rsmax = 9999;      // Standard Resistor(max)=9999 Ohms\n",
"R1 = 1*10^3;       // Resistor 1=1k Ohms\n",
"R2 = 10*10^3;       // Resistor 2=10k Ohms\n",
"\n",
"Rxmax = Rsmax*(R1/R2);\n",
"disp (Rxmax,'The Unknown Resistance Rx(max) in Ohms')"
   ]
   }
,
{
		   "cell_type": "markdown",
		   "metadata": {},
		   "source": [
			"## Example 6.3: Example_63.sce"
		   ]
		  },
  {
"cell_type": "code",
	   "execution_count": null,
	   "metadata": {
	    "collapsed": true
	   },
	   "outputs": [],
"source": [
"// Grob's Basic Electronics 11e\n",
"// Chapter No. 06\n",
"// Example No. 6_3\n",
"clc; clear;\n",
"// Assume that the series-parallel circuit in Fig. 6–15a has failed. A technician troubleshooting the circuit has measured the following voltages: V1 = 10.8 V; VAB = 9 V; V4 = 16.2 V. These voltage readings are shown in Fig. 6–15b. Based on the voltmeter readings shown, which component is defective and what type of defect does it have?\n",
"\n",
"// Given data\n",
"\n",
"V1 = 10.8;      // Voltage at R1=10.8 Volts\n",
"Vab = 9;        // Voltage at point (AB)=9 Volts\n",
"V4 = 16.2;      // Voltage at R4=16.2 Volts\n",
"R1 = 120;       // Resistor 1=120 Ohms\n",
"\n",
"disp ('If we consider the resistance between points A and B as a single resistance, the circuit can be analyzed as if it were a simple series circuit. Notice that V1 and V4 have decreased from their normal values of 12-V and 18-V, respectively, whereas the voltage VAB across R2 and R3 has increased from 6-V to 9-V.')\n",
"disp ('Since the voltages V1 and V4 have decreased and the voltage VAB has increased, the defective component must be either R2 or R3 across points A and B.')\n",
"\n",
"It = V1/R1;\n",
"Rab = Vab/It;\n",
"disp (Rab,'The Resistance R(AB) in Ohms')\n",
"\n",
"disp ('Notice that the value of RAB is the same as that of R2. This means, of course, that R3 must be open.')\n",
"disp ('Another approach to finding which resistor is open would be to open the switch S1 and measure the resistance across points A and B. This measurement would show that the resistance RAB equals 100 Ohms, again indicating that the resistor R3 must be open.')"
   ]
   }
,
{
		   "cell_type": "markdown",
		   "metadata": {},
		   "source": [
			"## Example 6.4: Example_64.sce"
		   ]
		  },
  {
"cell_type": "code",
	   "execution_count": null,
	   "metadata": {
	    "collapsed": true
	   },
	   "outputs": [],
"source": [
"// Grob's Basic Electronics 11e\n",
"// Chapter No. 06\n",
"// Example No. 6_4\n",
"clc; clear;\n",
"// Assume that the series-parallel circuit in Fig. 6–15a has failed. A technician troubleshooting the circuit has measured the following voltages: V1 = 14.4 V; VAB = 0 V; V4 = 21.6 V. These voltage readings are shown in Fig. 6–15c. Based on the voltmeter readings shown, which component is defective and what type of defect does it have?\n",
"\n",
"// Given data\n",
"\n",
"V1 = 14.4;      // Voltage at R1=14.4 Volts\n",
"Vab = 0;        // Voltage at point (AB)=0 Volts\n",
"V4 = 21.6;      // Voltage at R4=21.6 Volts\n",
"R1 = 120;       // Resistor 1=120 Ohms\n",
"\n",
"disp ('Since the voltages V1 and V4 have both increased, and the voltage VAB has decreased, the defective component must be either R2 or R3 across points A and B. Because the voltage VAB is 0 V, either R2 or R3 must be shorted.')\n",
"disp ('But how can we find out which resistor is shorted? One way would be to measure the currents I2 and I3. The shorted component is the one with all the current.')\n",
"disp ('Another way to find out which resistor is shorted would be to open the switch S1 and measure the resistance across points A and B. Disconnect one lead of either R2 or R3 from point A while observing the ohmmeter. If removing the top lead of R3 from point A still shows a reading of 0 Ohms, then you know that R2 must be shorted. Similarly, if removing the top lead of R2 from point A (with R3 still connected at point A) still produces a reading of 0 Ohms, then you know that R3 is shorted.')"
   ]
   }
],
"metadata": {
		  "kernelspec": {
		   "display_name": "Scilab",
		   "language": "scilab",
		   "name": "scilab"
		  },
		  "language_info": {
		   "file_extension": ".sce",
		   "help_links": [
			{
			 "text": "MetaKernel Magics",
			 "url": "https://github.com/calysto/metakernel/blob/master/metakernel/magics/README.md"
			}
		   ],
		   "mimetype": "text/x-octave",
		   "name": "scilab",
		   "version": "0.7.1"
		  }
		 },
		 "nbformat": 4,
		 "nbformat_minor": 0
}
