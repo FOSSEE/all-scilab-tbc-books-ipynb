{
"cells": [
 {
		   "cell_type": "markdown",
	   "metadata": {},
	   "source": [
       "# Chapter 10: Chapter 09 Kirchhoffs Laws"
	   ]
	},
{
		   "cell_type": "markdown",
		   "metadata": {},
		   "source": [
			"## Example 9.1: Example_68.sce"
		   ]
		  },
  {
"cell_type": "code",
	   "execution_count": null,
	   "metadata": {
	    "collapsed": true
	   },
	   "outputs": [],
"source": [
"// Grob's Basic Electronics 11e\n",
"// Chapter No. 09\n",
"// Example No. 9_1\n",
"clc; clear;\n",
"// Apply Kirchhoff’s current law to solve for the unknown current, I3.\n",
"\n",
"// Given data\n",
"\n",
"I1 = 2.5;     // Branch 1 Current=2.5 Amps\n",
"I2 = 8;       // Branch 2 Current=8 Amps\n",
"I4 = 6;       // Branch 3 Current=6 Amps\n",
"I5 = 9;       // Branch 4 Current=9 Amps\n",
"\n",
"// I1+I2+I3-I4-I5 = 0 Sum of all currents at node is ZERO\n",
"// I1+I2+I3 = I4+I5 Total Incomming Current = Total Outgoing Current\n",
"\n",
"I3 = I4+I5-I1-I2;\n",
"disp (I3,'The Branch 3 Current I3 in Amps')"
   ]
   }
,
{
		   "cell_type": "markdown",
		   "metadata": {},
		   "source": [
			"## Example 9.2: Example_69.sce"
		   ]
		  },
  {
"cell_type": "code",
	   "execution_count": null,
	   "metadata": {
	    "collapsed": true
	   },
	   "outputs": [],
"source": [
"// Grob's Basic Electronics 11e\n",
"// Chapter No. 09\n",
"// Example No. 9_2\n",
"clc; clear;\n",
"// Apply Kirchhoff’s voltage law to solve for the voltages V(AG) & V(BG).\n",
"\n",
"// Given data\n",
"\n",
"V1 = 18;        // Source Voltage 1=18 Volts\n",
"V2 = 18;        // Source Voltage 2=18 Volts\n",
"R1 = 120;       // Resistor 10=120 Ohms\n",
"R2 = 100;       // Resistor 2=100 Ohms\n",
"R3 = 180;       // Resistor 3=180 Ohms\n",
"\n",
"Vt = V1+V2;\n",
"Rt = R1+R2+R3;\n",
"\n",
"I = Vt/Rt;\n",
"\n",
"VR1 = I*R1;\n",
"VR2 = I*R2;\n",
"VR3 = I*R3;\n",
"\n",
"// V1+V2-VR1-VR2-VR3=0 Sum of all Voltages in loop is ZERO\n",
"// V1+V2 = VR1+VR2+VR3 Total Applied Voltage = Total Dropped Voltage in Resistors\n",
"\n",
"Vt = VR1+VR2+VR3;\n",
"\n",
"VAG = VR2+VR3-V2;\n",
"disp (VAG,'The Voltage V(AG) in Volts')\n",
"\n",
"VBG = V1-VR1-VR2;\n",
"disp (VBG,'The Voltage V(BG) in Volts')\n",
""
   ]
   }
],
"metadata": {
		  "kernelspec": {
		   "display_name": "Scilab",
		   "language": "scilab",
		   "name": "scilab"
		  },
		  "language_info": {
		   "file_extension": ".sce",
		   "help_links": [
			{
			 "text": "MetaKernel Magics",
			 "url": "https://github.com/calysto/metakernel/blob/master/metakernel/magics/README.md"
			}
		   ],
		   "mimetype": "text/x-octave",
		   "name": "scilab",
		   "version": "0.7.1"
		  }
		 },
		 "nbformat": 4,
		 "nbformat_minor": 0
}
