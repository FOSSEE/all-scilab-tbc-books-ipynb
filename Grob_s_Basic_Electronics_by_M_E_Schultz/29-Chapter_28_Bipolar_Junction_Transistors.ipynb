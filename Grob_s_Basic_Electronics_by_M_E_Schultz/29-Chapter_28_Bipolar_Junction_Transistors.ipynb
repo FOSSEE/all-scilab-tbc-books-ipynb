{
"cells": [
 {
		   "cell_type": "markdown",
	   "metadata": {},
	   "source": [
       "# Chapter 29: Chapter 28 Bipolar Junction Transistors"
	   ]
	},
{
		   "cell_type": "markdown",
		   "metadata": {},
		   "source": [
			"## Example 28.10: Example_201.sce"
		   ]
		  },
  {
"cell_type": "code",
	   "execution_count": null,
	   "metadata": {
	    "collapsed": true
	   },
	   "outputs": [],
"source": [
"// Grob's Basic Electronics 11e\n",
"// Chapter No. 28\n",
"// Example No. 28_10\n",
"clc; clear;\n",
"// The transistor has a power rating of 0.5 W. If Vce is 20 V, calculate the maximum allowable collector current, Ic, that can exist without exceeding the transistor’s power rating.\n",
"\n",
"// Given data\n",
"\n",
"Pdmax = 0.5;        // Power dissipation(max)=0.5 Watts\n",
"Vce = 20;           // Voltage (collector to emitter)=20 Volts\n",
"\n",
"Ic = Pdmax/Vce;\n",
"disp (Ic,'The Maximum Allowable Collector Current Ic(max) in Amps')\n",
"disp ('i.e 25 mAmps')"
   ]
   }
,
{
		   "cell_type": "markdown",
		   "metadata": {},
		   "source": [
			"## Example 28.11: Example_202.sce"
		   ]
		  },
  {
"cell_type": "code",
	   "execution_count": null,
	   "metadata": {
	    "collapsed": true
	   },
	   "outputs": [],
"source": [
"// Grob's Basic Electronics 11e\n",
"// Chapter No. 28\n",
"// Example No. 28_11\n",
"clc; clear;\n",
"// Assume that a transistor has a power rating Pd(max) of 350 mW at an ambient temperature Ta of 25°C. The derating factor is 2.8 mW/°C. Calculate the power rating at 50°C.\n",
"\n",
"// Given data\n",
"\n",
"f = 2.8*10^-3;      // Derating factor=2.8 mW/°C\n",
"Pd = 350*10^-3;     // Power dissipation(max)=350 mWatts\n",
"Ta = 25;            // Ambient Temperature=25°C\n",
"Tp = 50;            // Power rating at 50°C\n",
"\n",
"delT = Tp-Ta;       // Difference between max and min temp\n",
"\n",
"delPd = delT*f;\n",
"\n",
"Prat = Pd-delPd;\n",
"disp (Prat,'The Power Rating at 50°C in Watts')\n",
"disp ('i.e 280 mWatts')"
   ]
   }
,
{
		   "cell_type": "markdown",
		   "metadata": {},
		   "source": [
			"## Example 28.12: Example_203.sce"
		   ]
		  },
  {
"cell_type": "code",
	   "execution_count": null,
	   "metadata": {
	    "collapsed": true
	   },
	   "outputs": [],
"source": [
"// Grob's Basic Electronics 11e\n",
"// Chapter No. 28\n",
"// Example No. 28_12\n",
"clc; clear;\n",
"// Solve for Ib, Ic, Vce. Also, Construct a dc load line showing the valuse of Ic(sat), Vce(off), Icq, Vceq.\n",
"// Given data\n",
"Vcc = 12;               // Supply voltage=12 Volts\n",
"Vbe = 0.7;              // Base-Emitter Voltage=0.7 Volts\n",
"Rb = 390*10^3;          // Base Resistor=390K Ohms\n",
"Rc = 1.5*10^3;          // Collector Resistor=1.5K Ohms\n",
"B = 150;                // Beta(dc)=150\n",
"Ib = (Vcc-Vbe)/Rb;\n",
"disp (Ib,'The Base Current in Amps.')\n",
"disp ('Appox 28.97 mAmps')\n",
"Icq = B*Ib;\n",
"disp (Icq,'The Collector Current in Amps');\n",
"disp ('Appox 4.35 mAmps')\n",
"Vceq = Vcc-(Icq*Rc);\n",
"disp (Vceq, 'The Voltage Collector-Emitter in Volts')\n",
"// For DC load line\n",
"Icsat = (Vcc/Rc);\n",
"Vceoff = Vcc;\n",
"Vce1=[Vceoff Vceq 0]\n",
"Ic1=[0 Icq Icsat]\n",
"//To plot DC load line\n",
"printf('Q(%f,%f)\n',Vceq,Icq)\n",
"plot2d(Vce1, Ic1)\n",
"plot(Vceq,Icq,'.r')\n",
"plot(0,Icq,'.r')\n",
"plot(Vceq,0,'.r')\n",
"plot(0,Icsat,'.b')\n",
"plot(Vceoff,0,'.b')\n",
"xlabel('Vce in volt')\n",
"ylabel('Ic in Ampere')\n",
"xtitle('DC Load-line for Base-Biased Transistor Circuit')"
   ]
   }
,
{
		   "cell_type": "markdown",
		   "metadata": {},
		   "source": [
			"## Example 28.13: Example_204.sce"
		   ]
		  },
  {
"cell_type": "code",
	   "execution_count": null,
	   "metadata": {
	    "collapsed": true
	   },
	   "outputs": [],
"source": [
"// Grob's Basic Electronics 11e\n",
"// Chapter No. 28\n",
"// Example No. 28_13\n",
"clc; clear;\n",
"// Solve for Vb, Ve, Ic, Vc, and Vce. Also, calculate Ic(sat) and Vce(off). Finally, construct a dc load line showing the values of Ic(sat), Vce(off), Icq, and Vceq.\n",
"\n",
"// Given data\n",
"\n",
"R1 = 33*10^3;       // Resistor 1=33 kOhms\n",
"R2 = 5.6*10^3;      // Resistor 2=5.6 kOhms\n",
"Rc = 1.5*10^3;      // Collector resistance=1.5 kOhms\n",
"Re = 390;           // Emitter resistance=390 Ohms\n",
"Bdc = 200;          // Beta(dc)= 200\n",
"Vcc = 18;           // Supply voltage = 18 Volts\n",
"Vbe = 0.7;          // Base-Emmiter Voltage=0.7 Volts\n",
"\n",
"Vb = Vcc*(R2/(R1+R2));\n",
"disp (Vb,'The Base Voltage in Volts')\n",
"\n",
"Ve = Vb-Vbe;\n",
"disp (Ve,'The Emmiter Voltage in Volts')\n",
"\n",
"Ie = Ve/Re;         // Emitter current\n",
"\n",
"Ic = Ie;\n",
"\n",
"Vc = Vcc-(Ic*Rc);\n",
"disp (Vc,'The Collector Voltage in Volts')\n",
"disp ('Appox 10.65 Volts')\n",
"\n",
"Vce = Vcc-(Ic*(Rc+Re));\n",
"disp (Vce,'The Collector-Emitter Voltage in Volts')\n",
"disp ('Appox 8.74 Volts')\n",
"\n",
"Icsat = Vcc/(Rc+Re);\n",
"disp (Icsat,'The Current Ic(sat) in Amps')\n",
"disp ('i.e 9.52 mAmps')\n",
"\n",
"Vceoff = Vcc;\n",
"disp (Vceoff,'The Voltage Vce(off) in Volts')\n",
"\n",
"Icq = Ic\n",
"Vceq = Vce\n",
"\n",
"Vce1=[Vcc Vceq 0]\n",
"Ic1=[0 Icq Icsat]\n",
"\n",
"//To plot DC load line\n",
"\n",
"printf('Q(%f,%f)\n',Vceq,Icq)\n",
"plot2d(Vce1, Ic1)\n",
"plot(Vceq,Icq,'.r')\n",
"plot(0,Icq,'.r')\n",
"plot(Vceq,0,'.r')\n",
"plot(0,Icsat,'.b')\n",
"plot(Vceoff,0,'.b')\n",
"xlabel('Vce in Volt')\n",
"ylabel('Ic in mAmps')\n",
"xtitle('DC Load-line for Voltage Divider-Biased Transistor Circuit')"
   ]
   }
,
{
		   "cell_type": "markdown",
		   "metadata": {},
		   "source": [
			"## Example 28.14: Example_205.sce"
		   ]
		  },
  {
"cell_type": "code",
	   "execution_count": null,
	   "metadata": {
	    "collapsed": true
	   },
	   "outputs": [],
"source": [
"// Grob's Basic Electronics 11e\n",
"// Chapter No. 28\n",
"// Example No. 28_14\n",
"clc; clear;\n",
"// For the pnp transistor, solve for Vb, Ve, Ic, Vc, and Vce.\n",
"\n",
"// Given data\n",
"\n",
"R1 = 33*10^3;     // Resistor1=33 kOhms\n",
"R2 = 6.2*10^3;    // Resistor2=6.2 kOhms\n",
"Rc = 2*10^3;      // Collector resistance=2 kOhms\n",
"Re = 500;         // Emitter resistance=500 Ohms\n",
"Vcc = 12;         // Supply voltage=12 Volts\n",
"Vbe = 0.7;        // Base-Emmiter Voltage=0.7 Volts\n",
"\n",
"\n",
"Vb = -Vcc*(R2/(R1+R2));\n",
"disp (Vb,'The Base Voltage in Volts')\n",
"disp ('Appox -1.9 Volts')\n",
"\n",
"Ve = Vb-(-Vbe);\n",
"disp (Ve,'The Emitter Voltage in Volts')\n",
"disp ('Appox -1.2 Volts')\n",
"\n",
"Ic = -(Ve/Re);     // Ic =~ Ie\n",
"disp (Ic,'The Collector Current in Amps')\n",
"disp ('Appox 2.4 mAmps')\n",
"\n",
"Vc = -Vcc+(Ic*Rc)\n",
"disp (Vc,'The Collector Voltage in Volts')\n",
"\n",
"Vce = -Vcc+(Ic*(Rc+Re));\n",
"disp (Vce,'The Collector-Emitter Voltage in Volts');"
   ]
   }
,
{
		   "cell_type": "markdown",
		   "metadata": {},
		   "source": [
			"## Example 28.15: Example_206.sce"
		   ]
		  },
  {
"cell_type": "code",
	   "execution_count": null,
	   "metadata": {
	    "collapsed": true
	   },
	   "outputs": [],
"source": [
"// Grob's Basic Electronics 11e\n",
"// Chapter No. 28\n",
"// Example No. 28_15\n",
"clc;clear;\n",
"// Calculate Ie and Vc\n",
"\n",
"// Given data\n",
"\n",
"Vee = 6;        // Supply voltage at emitter=6 Volts\n",
"Vcc = 15;       // Supply voltage at collector=15 Volts\n",
"Vbe = 0.7;      // Base-Emmiter Voltage=0.7 Volts\n",
"Rc = 1.5*10^3;  // Collector resistance=1.5 kOhms\n",
"Re = 1*10^3;    // Emitter resistance=1 kOhms\n",
"\n",
"Ie = (Vee-Vbe)/Re;\n",
"disp (Ie,'The Emitter current in Amps')\n",
"disp ('i.e 5.3 mAmps')\n",
"\n",
"Ic = Ie;        // Ic =~ Ie\n",
"\n",
"Vc = Vcc-Ic*Rc;\n",
"disp (Vc,'The Collector voltage in Volts')"
   ]
   }
,
{
		   "cell_type": "markdown",
		   "metadata": {},
		   "source": [
			"## Example 28.1: Example_192.sce"
		   ]
		  },
  {
"cell_type": "code",
	   "execution_count": null,
	   "metadata": {
	    "collapsed": true
	   },
	   "outputs": [],
"source": [
"// Grob's Basic Electronics 11e\n",
"// Chapter No. 28\n",
"// Example No. 28_1\n",
"clc; clear;\n",
"// A transistor has the following currents: Ib is 20 mA and Ic is 4.98 A. Calculate Ie.\n",
"\n",
"// Given data\n",
"\n",
"Ib = 20*10^-3;      // Base current=20 mAmps\n",
"Ic = 4.98;          // Collector current=4.98 Amps\n",
"\n",
"Ie = Ic+Ib;\n",
"disp (Ie,'The Emitter Current Ie in Amps')"
   ]
   }
,
{
		   "cell_type": "markdown",
		   "metadata": {},
		   "source": [
			"## Example 28.2: Example_193.sce"
		   ]
		  },
  {
"cell_type": "code",
	   "execution_count": null,
	   "metadata": {
	    "collapsed": true
	   },
	   "outputs": [],
"source": [
"// Grob's Basic Electronics 11e\n",
"// Chapter No. 28\n",
"// Example No. 28_2\n",
"clc; clear;\n",
"// A transistor has the following currents: Ie is 100 mA, Ib is 1.96 mA. Calculate Ic.\n",
"\n",
"// Given data\n",
"\n",
"Ie = 100*10^-3;      // Emitter current=100 mAmps\n",
"Ib = 1.96*10^-3;     // Base current=4.98 Amps\n",
"\n",
"Ic = Ie-Ib;\n",
"disp (Ic,'The Collector Current Ic in Amps')\n",
"disp ('i.e 98.04 mAmps')"
   ]
   }
,
{
		   "cell_type": "markdown",
		   "metadata": {},
		   "source": [
			"## Example 28.3: Example_194.sce"
		   ]
		  },
  {
"cell_type": "code",
	   "execution_count": null,
	   "metadata": {
	    "collapsed": true
	   },
	   "outputs": [],
"source": [
"// Grob's Basic Electronics 11e\n",
"// Chapter No. 28\n",
"// Example No. 28_3\n",
"clc; clear;\n",
"// A transistor has the following currents: Ie is 50 mA, Ic is 49 mA. Calculate Ib.\n",
"\n",
"// Given data\n",
"\n",
"Ie = 50*10^-3;      // Emitter current=50 mAmps\n",
"Ic = 49*10^-3;      // Collector current=20 mAmps\n",
"\n",
"Ib = Ie-Ic;\n",
"disp (Ib,'The Base Current Ib in Amps')\n",
"disp ('i.e 1 mAmps')"
   ]
   }
,
{
		   "cell_type": "markdown",
		   "metadata": {},
		   "source": [
			"## Example 28.4: Example_195.sce"
		   ]
		  },
  {
"cell_type": "code",
	   "execution_count": null,
	   "metadata": {
	    "collapsed": true
	   },
	   "outputs": [],
"source": [
"// Grob's Basic Electronics 11e\n",
"// Chapter No. 28\n",
"// Example No. 28_4\n",
"clc; clear;\n",
"// A transistor has the following currents: Ie is 15 mA, Ib is 60 uA. Calculate Alpha(dc).\n",
"\n",
"// Given data\n",
"\n",
"Ie = 15*10^-3;      // Emitter current=15 mAmps\n",
"Ib = 60*10^-6;      // Base current=60 uAmps\n",
"\n",
"Ic = Ie-Ib;\n",
"\n",
"Adc = Ic/Ie;\n",
"disp (Adc,'The Value of Alpha(dc) is')"
   ]
   }
,
{
		   "cell_type": "markdown",
		   "metadata": {},
		   "source": [
			"## Example 28.5: Example_196.sce"
		   ]
		  },
  {
"cell_type": "code",
	   "execution_count": null,
	   "metadata": {
	    "collapsed": true
	   },
	   "outputs": [],
"source": [
"// Grob's Basic Electronics 11e\n",
"// Chapter No. 28\n",
"// Example No. 28_5\n",
"clc; clear;\n",
"// A transistor has the following currents: Ic is 10 mA and Ib is 50 uA. Calculate Beta(dc).\n",
"\n",
"// Given data\n",
"\n",
"Ic = 10*10^-3;      // Collector current=10 mAmps\n",
"Ib = 50*10^-6;      // Base current=50 uAmps\n",
"\n",
"Bdc = Ic/Ib;\n",
"disp (Bdc,'The Value of Beta(dc) is')"
   ]
   }
,
{
		   "cell_type": "markdown",
		   "metadata": {},
		   "source": [
			"## Example 28.6: Example_197.sce"
		   ]
		  },
  {
"cell_type": "code",
	   "execution_count": null,
	   "metadata": {
	    "collapsed": true
	   },
	   "outputs": [],
"source": [
"// Grob's Basic Electronics 11e\n",
"// Chapter No. 28\n",
"// Example No. 28_6\n",
"clc; clear;\n",
"// A transistor has Beta(dc) of 150 and Ib of 75 uAmps. Calculate Ic.\n",
"\n",
"// Given data\n",
"\n",
"Bdc = 150;          // Beta(dc)=150\n",
"Ib = 75*10^-6;      // Base current=75 uAmps\n",
"\n",
"Ic = Bdc*Ib;\n",
"disp (Ic,'The Collector Current Ic in Amps')\n",
"disp ('i.e 11.25 mAmps')"
   ]
   }
,
{
		   "cell_type": "markdown",
		   "metadata": {},
		   "source": [
			"## Example 28.7: Example_198.sce"
		   ]
		  },
  {
"cell_type": "code",
	   "execution_count": null,
	   "metadata": {
	    "collapsed": true
	   },
	   "outputs": [],
"source": [
"// Grob's Basic Electronics 11e\n",
"// Chapter No. 28\n",
"// Example No. 28_7\n",
"clc; clear;\n",
"// A transistor has Beta(dc) of 100. Calculate Alpha(dc).\n",
"\n",
"// Given data\n",
"\n",
"Bdc = 100;  // Beta(dc)=100\n",
"\n",
"Adc = Bdc/(1+Bdc);\n",
"disp (Adc,'The Value of Alpha(dc) is')"
   ]
   }
,
{
		   "cell_type": "markdown",
		   "metadata": {},
		   "source": [
			"## Example 28.8: Example_199.sce"
		   ]
		  },
  {
"cell_type": "code",
	   "execution_count": null,
	   "metadata": {
	    "collapsed": true
	   },
	   "outputs": [],
"source": [
"// Grob's Basic Electronics 11e\n",
"// Chapter No. 28\n",
"// Example No. 28_8\n",
"clc; clear;\n",
"// A transistor has Alpha(dc) of 0.995. Calculate Beta(dc).\n",
"\n",
"// Given data\n",
"\n",
"Adc = 0.995;  // Alpha(dc)=100\n",
"\n",
"Bdc = Adc/(1-Adc);\n",
"disp (Bdc,'The Value of Beta(dc) is')"
   ]
   }
,
{
		   "cell_type": "markdown",
		   "metadata": {},
		   "source": [
			"## Example 28.9: Example_200.sce"
		   ]
		  },
  {
"cell_type": "code",
	   "execution_count": null,
	   "metadata": {
	    "collapsed": true
	   },
	   "outputs": [],
"source": [
"// Grob's Basic Electronics 11e\n",
"// Chapter No. 28\n",
"// Example No. 28_9\n",
"clc; clear;\n",
"// Calculate Pd if Vcc is 10 V and Ib is 50 uAmps. Assume Beta(dc) is 100.\n",
"\n",
"// Given data\n",
"\n",
"Bdc = 100;          // Beta(dc)=100\n",
"Ib = 50*10^-6;      // Base current=50 uAmps\n",
"Vcc = 10;           // Supply voltage=10 Volts\n",
"\n",
"Vce = Vcc\n",
"\n",
"Ic = Bdc*Ib;\n",
"\n",
"Pd = Vce*Ic;\n",
"disp (Pd,'The Power Dissipation in Watts')\n",
"disp ('i.e 50 mWatts')"
   ]
   }
],
"metadata": {
		  "kernelspec": {
		   "display_name": "Scilab",
		   "language": "scilab",
		   "name": "scilab"
		  },
		  "language_info": {
		   "file_extension": ".sce",
		   "help_links": [
			{
			 "text": "MetaKernel Magics",
			 "url": "https://github.com/calysto/metakernel/blob/master/metakernel/magics/README.md"
			}
		   ],
		   "mimetype": "text/x-octave",
		   "name": "scilab",
		   "version": "0.7.1"
		  }
		 },
		 "nbformat": 4,
		 "nbformat_minor": 0
}
