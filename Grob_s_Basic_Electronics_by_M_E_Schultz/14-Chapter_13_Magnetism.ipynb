{
"cells": [
 {
		   "cell_type": "markdown",
	   "metadata": {},
	   "source": [
       "# Chapter 14: Chapter 13 Magnetism"
	   ]
	},
{
		   "cell_type": "markdown",
		   "metadata": {},
		   "source": [
			"## Example 13.1: Example_77.sce"
		   ]
		  },
  {
"cell_type": "code",
	   "execution_count": null,
	   "metadata": {
	    "collapsed": true
	   },
	   "outputs": [],
"source": [
"// Grob's Basic Electronics 11e\n",
"// Chapter No. 13\n",
"// Example No. 13_1\n",
"clc; clear;\n",
"// Make the following conversions: (a) 25,000 Mx to Wb; (b) 0.005 Wb to Mx.\n",
"\n",
"// Given data\n",
"\n",
"A = 25000;          // A=25000 Maxwell\n",
"B = 0.005;          // B=0.005 Wabers\n",
"C = 1*10^8;         // Conversion Factor\n",
"\n",
"Wb = A*(1/C);\n",
"disp (Wb,'The 25000 Maxwell in Wabers is')\n",
"disp ('i.e 250*10^-6 Wb or 250 uWb')\n",
"\n",
"Mx = B*C;\n",
"disp (Mx,'The 0.005 Wabers in Maxwell is')\n",
"disp ('i.e 5.0*10^5 Mx')"
   ]
   }
,
{
		   "cell_type": "markdown",
		   "metadata": {},
		   "source": [
			"## Example 13.2: Example_78.sce"
		   ]
		  },
  {
"cell_type": "code",
	   "execution_count": null,
	   "metadata": {
	    "collapsed": true
	   },
	   "outputs": [],
"source": [
"// Grob's Basic Electronics 11e\n",
"// Chapter No. 13\n",
"// Example No. 13_2\n",
"clc; clear;\n",
"// With a flux of 10,000 Mx through a perpendicular area of 5 sqcm, what is the flux density in gauss?\n",
"\n",
"// Given data\n",
"\n",
"A = 5;      // Area=5 sqcm\n",
"flux = 10000; // Total Flux=10000 Mx\n",
"\n",
"B = flux/A;\n",
"disp (B,'The Flux Density in Guass (G)')"
   ]
   }
,
{
		   "cell_type": "markdown",
		   "metadata": {},
		   "source": [
			"## Example 13.3: Example_79.sce"
		   ]
		  },
  {
"cell_type": "code",
	   "execution_count": null,
	   "metadata": {
	    "collapsed": true
	   },
	   "outputs": [],
"source": [
"// Grob's Basic Electronics 11e\n",
"// Chapter No. 13\n",
"// Example No. 13_3\n",
"clc; clear;\n",
"// With a flux of 400 uWb through an area of 0.0005 sqm, what is the flux density B in tesla units?\n",
"\n",
"// Given data\n",
"\n",
"A = 0.0005;          // Area=0.0005 sqm\n",
"flux = 400*10^-6;    // Total Flux=400 uWb\n",
"\n",
"B = flux/A;\n",
"disp (B,'The Flux Density in Tesla (T)')"
   ]
   }
,
{
		   "cell_type": "markdown",
		   "metadata": {},
		   "source": [
			"## Example 13.4: Example_80.sce"
		   ]
		  },
  {
"cell_type": "code",
	   "execution_count": null,
	   "metadata": {
	    "collapsed": true
	   },
	   "outputs": [],
"source": [
"// Grob's Basic Electronics 11e\n",
"// Chapter No. 13\n",
"// Example No. 13_4\n",
"clc; clear;\n",
"// Make the following conversions: (a) 0.003 T to G; (b) 15,000 G to T.\n",
"\n",
"// Given data\n",
"\n",
"A = 0.003;          // A=0.003 Tesla\n",
"B = 15000;          // B=15000 Guass\n",
"C = 1*10^4;         // Conversion Factor\n",
"\n",
"G = A*C;\n",
"disp (G,'The 0.003 Tesla in Guass is')\n",
"\n",
"T = B*(1/C);\n",
"disp (T,'The 15,000 Guass in Tesla is')"
   ]
   }
],
"metadata": {
		  "kernelspec": {
		   "display_name": "Scilab",
		   "language": "scilab",
		   "name": "scilab"
		  },
		  "language_info": {
		   "file_extension": ".sce",
		   "help_links": [
			{
			 "text": "MetaKernel Magics",
			 "url": "https://github.com/calysto/metakernel/blob/master/metakernel/magics/README.md"
			}
		   ],
		   "mimetype": "text/x-octave",
		   "name": "scilab",
		   "version": "0.7.1"
		  }
		 },
		 "nbformat": 4,
		 "nbformat_minor": 0
}
