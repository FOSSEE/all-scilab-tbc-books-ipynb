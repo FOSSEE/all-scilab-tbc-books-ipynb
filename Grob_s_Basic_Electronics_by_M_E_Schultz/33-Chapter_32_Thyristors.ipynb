{
"cells": [
 {
		   "cell_type": "markdown",
	   "metadata": {},
	   "source": [
       "# Chapter 33: Chapter 32 Thyristors"
	   ]
	},
{
		   "cell_type": "markdown",
		   "metadata": {},
		   "source": [
			"## Example 32.1: Example_234.sce"
		   ]
		  },
  {
"cell_type": "code",
	   "execution_count": null,
	   "metadata": {
	    "collapsed": true
	   },
	   "outputs": [],
"source": [
"// Grob's Basic Electronics 11e\n",
"// Chapter No. 32\n",
"// Example No. 32_1\n",
"clear; clc;\n",
"// Calculate the frequency of the emmiter voltage waveform. Assume n=0.6\n",
"\n",
"// Given data\n",
"\n",
"Rt = 220*10^3;      // Resistor Rt=220k Ohms\n",
"Ct = 0.1*10^-6;     // Capacitor Ct=0.1u Farad\n",
"n = 0.6;            // Constant\n",
"\n",
"A = 1/(1-n);\n",
"T = Rt*Ct*log(A);\n",
"\n",
"f = 1/T;\n",
"disp (f,'The Frequency of the Emmiter Voltage Waveform in Hertz')"
   ]
   }
],
"metadata": {
		  "kernelspec": {
		   "display_name": "Scilab",
		   "language": "scilab",
		   "name": "scilab"
		  },
		  "language_info": {
		   "file_extension": ".sce",
		   "help_links": [
			{
			 "text": "MetaKernel Magics",
			 "url": "https://github.com/calysto/metakernel/blob/master/metakernel/magics/README.md"
			}
		   ],
		   "mimetype": "text/x-octave",
		   "name": "scilab",
		   "version": "0.7.1"
		  }
		 },
		 "nbformat": 4,
		 "nbformat_minor": 0
}
