{
"cells": [
 {
		   "cell_type": "markdown",
	   "metadata": {},
	   "source": [
       "# Chapter 6: Chapter 05 Parallel Circuits"
	   ]
	},
{
		   "cell_type": "markdown",
		   "metadata": {},
		   "source": [
			"## Example 5.1: Example_53.sce"
		   ]
		  },
  {
"cell_type": "code",
	   "execution_count": null,
	   "metadata": {
	    "collapsed": true
	   },
	   "outputs": [],
"source": [
"// Grob's Basic Electronics 11e\n",
"// Chapter No. 05\n",
"// Example No. 5_1\n",
"clc; clear;\n",
"// Solve for branch currents I1 and I2.\n",
"\n",
"R1 = 1*10^3;    // Resistor 1=1*10^3 Ohms\n",
"R2 = 600;       // Resistor 2=600 Ohms\n",
"Va = 15;        // Applied Voltage=15 Volts\n",
"\n",
"I1 = Va/R1;\n",
"disp (I1,'The Current Resistor R1 in Amps')\n",
"disp ('i.e 15 mAmps')\n",
"\n",
"I2 = Va/R2;\n",
"disp (I2,'The Current Resistor R2 in Amps')\n",
"disp ('i.e 25 mAmps')"
   ]
   }
,
{
		   "cell_type": "markdown",
		   "metadata": {},
		   "source": [
			"## Example 5.2: Example_54.sce"
		   ]
		  },
  {
"cell_type": "code",
	   "execution_count": null,
	   "metadata": {
	    "collapsed": true
	   },
	   "outputs": [],
"source": [
"// Grob's Basic Electronics 11e\n",
"// Chapter No. 05\n",
"// Example No. 5_2\n",
"clc; clear;\n",
"// An R1 of 20 Ohms, an R2 of 40 Ohms, and an R3 of 60 Ohms are connected in parallel across the 120-V power line. Using Kirchhoff’s current law, determine the total current It.\n",
"\n",
"// Given data\n",
"\n",
"R1 = 20;      // Resistor 1=20 Ohms\n",
"R2 = 40;      // Resistor 2=40 Ohms\n",
"R3 = 60;      // Resistor 3=60 Ohms\n",
"Va = 120;     // Applied Voltage=120 Volts\n",
"\n",
"I1 = Va/R1;\n",
"I2 = Va/R2;\n",
"I3 = Va/R3;\n",
"\n",
"It = I1+I2+I3\n",
"disp (It,'The Total Current in the Mainline in Amps')"
   ]
   }
,
{
		   "cell_type": "markdown",
		   "metadata": {},
		   "source": [
			"## Example 5.3: Example_55.sce"
		   ]
		  },
  {
"cell_type": "code",
	   "execution_count": null,
	   "metadata": {
	    "collapsed": true
	   },
	   "outputs": [],
"source": [
"// Grob's Basic Electronics 11e\n",
"// Chapter No. 05\n",
"// Example No. 5_3\n",
"clc; clear;\n",
"// Two branches R1 and R2 across the 120-V power line draw a total line current It of 15 A. The R1 branch takes 10 A. How much is the current I2 in the R2 branch?\n",
"\n",
"// Given data\n",
"\n",
"I1 = 10;        // Current in R1 branch=10 Amps\n",
"It = 15;        // Total Current=15 Amps\n",
"\n",
"I2 = It-I1;\n",
"disp (I2,'The Current in R2 branch in Amps')"
   ]
   }
,
{
		   "cell_type": "markdown",
		   "metadata": {},
		   "source": [
			"## Example 5.4: Example_56.sce"
		   ]
		  },
  {
"cell_type": "code",
	   "execution_count": null,
	   "metadata": {
	    "collapsed": true
	   },
	   "outputs": [],
"source": [
"// Grob's Basic Electronics 11e\n",
"// Chapter No. 05\n",
"// Example No. 5_4\n",
"clc; clear;\n",
"// Three parallel branch currents are 0.1 A, 500 mA, and 800 A. Using Kirchhoff’s current law, calculate It.\n",
"\n",
"\n",
"// Given data\n",
"\n",
"I1 = 0.1;              // Branch Current 1=0.1 Amps\n",
"I2 = 0.5;              // Branch Current 2=500m Amps\n",
"I3 = 800*10^-6;        // Branch Current 3=800u Amps\n",
"\n",
"It = I1+I2+I3;\n",
"disp (It,'The Total Current in Amps')\n",
"disp ('i.e 600.8 mAmps')"
   ]
   }
,
{
		   "cell_type": "markdown",
		   "metadata": {},
		   "source": [
			"## Example 5.5: Example_57.sce"
		   ]
		  },
  {
"cell_type": "code",
	   "execution_count": null,
	   "metadata": {
	    "collapsed": true
	   },
	   "outputs": [],
"source": [
"// Grob's Basic Electronics 11e\n",
"// Chapter No. 05\n",
"// Example No. 5_5\n",
"clc; clear;\n",
"// Two branches, each with a 5-A current, are connected across a 90-V source. How much is the equivalent resistance Req?\n",
"\n",
"// Given data\n",
"\n",
"I1 = 5;      // Branch Current 1=5 Amps\n",
"I2 = 5;      // Branch Current 2=5 Amps\n",
"Va = 90;     // Applied Voltage=90 Volts\n",
"\n",
"It = I1+I2;\n",
"Req = Va/It;\n",
"disp (Req,'The Equivalent Resistance Req in Ohms')"
   ]
   }
,
{
		   "cell_type": "markdown",
		   "metadata": {},
		   "source": [
			"## Example 5.6: Example_58.sce"
		   ]
		  },
  {
"cell_type": "code",
	   "execution_count": null,
	   "metadata": {
	    "collapsed": true
	   },
	   "outputs": [],
"source": [
"// Grob's Basic Electronics 11e\n",
"// Chapter No. 05\n",
"// Example No. 5_6\n",
"clc; clear;\n",
"// What Rx in parallel with 40 Ohms will provide an Req of 24 Ohms?\n",
"\n",
"// Given data\n",
"\n",
"R = 40;         // Resistance=40 Ohms\n",
"Req = 24;       // Equivqlent Resistance=24 Ohms\n",
"\n",
"Rx = (R*Req)/(R-Req);\n",
"disp (Rx,'The Value of Rx in Ohms')"
   ]
   }
,
{
		   "cell_type": "markdown",
		   "metadata": {},
		   "source": [
			"## Example 5.7: Example_59.sce"
		   ]
		  },
  {
"cell_type": "code",
	   "execution_count": null,
	   "metadata": {
	    "collapsed": true
	   },
	   "outputs": [],
"source": [
"// Grob's Basic Electronics 11e\n",
"// Chapter No. 05\n",
"// Example No. 5_7\n",
"clc; clear;\n",
"// What R in parallel with 50 kOhms will provide an Req of 25 kOhms\n",
"\n",
"// Given data\n",
"\n",
"R1 = 50*10^3;         // R1=50k Ohms\n",
"Req = 25*10^3;       // Req=25k Ohms\n",
"\n",
"R = (R1*Req)/(R1-Req);\n",
"disp (R,'The value of R in Ohms')\n",
"disp ('i.e 50 kOhms')"
   ]
   }
,
{
		   "cell_type": "markdown",
		   "metadata": {},
		   "source": [
			"## Example 5.8: Example_60.sce"
		   ]
		  },
  {
"cell_type": "code",
	   "execution_count": null,
	   "metadata": {
	    "collapsed": true
	   },
	   "outputs": [],
"source": [
"// Grob's Basic Electronics 11e\n",
"// Chapter No. 05\n",
"// Example No. 5_8\n",
"clc; clear;\n",
"// In Fig. 5–18a, suppose that the ammeter M1 reads 16-A instead of 20-A as it should. What could be wrong with the circuit?\n",
"\n",
"disp ('Notice that the current I3 is supposed to be 4-A. If R3 is open, this explains why M1 reads a current that is 4-A less than its normal value. To confi rm that R3 is open; open S1 and disconnect the top lead of R3 from point E. Next place an ammeter between the top of R3 and point E. Now, close S1. If I3 measures 0-A, you know that R3 is open. If I3 measures 4-A, you know that one of the other branches is drawing less current than it should. In this case, the next step would be to measure each of the remaining branch currents to find the defective component.')"
   ]
   }
],
"metadata": {
		  "kernelspec": {
		   "display_name": "Scilab",
		   "language": "scilab",
		   "name": "scilab"
		  },
		  "language_info": {
		   "file_extension": ".sce",
		   "help_links": [
			{
			 "text": "MetaKernel Magics",
			 "url": "https://github.com/calysto/metakernel/blob/master/metakernel/magics/README.md"
			}
		   ],
		   "mimetype": "text/x-octave",
		   "name": "scilab",
		   "version": "0.7.1"
		  }
		 },
		 "nbformat": 4,
		 "nbformat_minor": 0
}
