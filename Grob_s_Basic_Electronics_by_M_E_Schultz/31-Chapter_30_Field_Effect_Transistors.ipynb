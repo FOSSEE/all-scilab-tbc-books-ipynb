{
"cells": [
 {
		   "cell_type": "markdown",
	   "metadata": {},
	   "source": [
       "# Chapter 31: Chapter 30 Field Effect Transistors"
	   ]
	},
{
		   "cell_type": "markdown",
		   "metadata": {},
		   "source": [
			"## Example 30.10: Example_226.sce"
		   ]
		  },
  {
"cell_type": "code",
	   "execution_count": null,
	   "metadata": {
	    "collapsed": true
	   },
	   "outputs": [],
"source": [
"// Grob's Basic Electronics 11e\n",
"// Chapter No. 30\n",
"// Example No. 30_10\n",
"clear; clc;\n",
"// Calculate the value of Rd to provide an Id(on) of 10m Amps.\n",
"\n",
"// Given Data\n",
"\n",
"Vdd = 15;           // Suppy Voltage(Drain)=15 Volts\n",
"Vgson = 10;         // Voltage Gate-Source(on)=10 Volts\n",
"Idon = 10*10^-3;    // Drain Current(on)=10m Amps\n",
"\n",
"Rd = (Vdd-Vgson)/Idon;\n",
"disp (Rd,'The Drain Resistance in Ohms');\n",
"\n",
"disp('A 470 Ohms resistor would provide the proper biasing voltage at the  gate')"
   ]
   }
,
{
		   "cell_type": "markdown",
		   "metadata": {},
		   "source": [
			"## Example 30.1: Example_217.sce"
		   ]
		  },
  {
"cell_type": "code",
	   "execution_count": null,
	   "metadata": {
	    "collapsed": true
	   },
	   "outputs": [],
"source": [
"// Grob's Basic Electronics 11e\n",
"// Chapter No. 30\n",
"// Example No. 30_1\n",
"clear; clc;\n",
"// Determine Id for each value of Vgs (a) 0V; (b) -0.5V; (c) -1V (d) -2V (e) -3V\n",
"\n",
"// Given Data\n",
"\n",
"Vgs1 = 0;           // Voltage Gate-Source 1=0 Volts\n",
"Vgs2 = -0.5;        // Voltage Gate-Source 2=-0.5 Volts\n",
"Vgs3 = -1;          // Voltage Gate-Source 3=-1 Volts\n",
"Vgs4 = -2;          // Voltage Gate-Source 4=-2 Volts\n",
"Vgs5 = -3;          // Voltage Gate-Source 5=-3 Volts\n",
"Vgsoff = -4;        // Voltage Gate-Source(off)=-4 Volts\n",
"Idss = 10*10^-3     // Idss = 10m Amps\n",
"\n",
"a = (1-(Vgs1/Vgsoff))\n",
"b = (1-(Vgs2/Vgsoff))\n",
"c = (1-(Vgs3/Vgsoff))\n",
"d = (1-(Vgs4/Vgsoff))\n",
"e = (1-(Vgs5/Vgsoff))\n",
"\n",
"// Vgs = 0 Volts\n",
"\n",
"Id1 = Idss*a*a\n",
"disp (Id1,'The Value of Id for Vgs = 0 Volts in Amps')\n",
"disp ('i.e 10 mAmps')\n",
"\n",
"// Vgs = -0.5 Volts\n",
"\n",
"Id2 = Idss*b*b\n",
"disp (Id2,'The Value of Id for Vgs = -0.5 Volts in Amps')\n",
"disp ('i.e 7.65 mAmps')\n",
"\n",
"// Vgs = -1 Volts\n",
"\n",
"Id3 = Idss*c*c\n",
"disp (Id3,'The Value of Id for Vgs = -1 Volts in Amps')\n",
"disp ('i.e 5.62 mAmps')\n",
"\n",
"// Vgs = -2 Volts\n",
"\n",
"Id4 = Idss*d*d\n",
"disp (Id4,'The Value of Id for Vgs = -2 Volts in  Amps')\n",
"disp ('i.e 2.5 mAmps')\n",
"\n",
"// Vgs = -3 Volts\n",
"\n",
"Id5 = Idss*e*e\n",
"disp (Id5,'The Value of Id for Vgs = -3 Volts in Amps')\n",
"disp ('i.e 0.625 mAmps')"
   ]
   }
,
{
		   "cell_type": "markdown",
		   "metadata": {},
		   "source": [
			"## Example 30.2: Example_218.sce"
		   ]
		  },
  {
"cell_type": "code",
	   "execution_count": null,
	   "metadata": {
	    "collapsed": true
	   },
	   "outputs": [],
"source": [
"// Grob's Basic Electronics 11e\n",
"// Chapter No. 30\n",
"// Example No. 30_2\n",
"clear; clc;\n",
"// Find the minimim and maximum value of Id and Vds if Vgs=-1.5 Volts\n",
"\n",
"// Given Data\n",
"\n",
"Idssmin = 2*10^-3;      // Idss(min)=2m Amp\n",
"Idssmax = 20*10^-3;     // Idss(max)=20m Amp\n",
"Vgs = -1.5;             // Voltage Gate-Source=-1.5V\n",
"Vgsoffmin = -2;         // Voltage Gate-Source(off)(min)=-2 Volts\n",
"Vgsoffmax = -8;         // Voltage Gate-Source(off)(max)=-8 Volts\n",
"Vdd = 20;               // Supply Voltage(Drain)=20 Volts\n",
"Rd = 1*10^3;            // Drain Resistance=1k Ohms\n",
"\n",
"a = 1-(Vgs/Vgsoffmin);\n",
"b = 1-(Vgs/Vgsoffmax);\n",
"\n",
"// Calculation using Minimum Values\n",
"\n",
"Id1 = Idssmin*a*a;\n",
"disp (Id1,'The Value of Id in Amps using Minimum Values')\n",
"disp ('i.e 125 uAmps')\n",
"\n",
"Vds1 = Vdd-Id1*Rd;\n",
"disp (Vds1,'The Value of Vds in Volts using Minimum Values')\n",
"\n",
"// Calculation using Maximum Values\n",
"\n",
"Id2 = Idssmax*b*b;\n",
"disp (Id2,'The Value of Id in Amps using Maximum Values')\n",
"disp ('i.e 13.2 mAmps')\n",
"\n",
"Vds2 = Vdd-Id2*Rd;\n",
"disp (Vds2,'The Value of Vds in Volts using Maximun Values')\n",
"\n",
"Vp = -Vgsoffmax;\n",
"\n",
"Vdsp = Vp+Vgs;\n",
"disp (Vdsp,'The Value of Vds(p) in Volts using Maximun Values')"
   ]
   }
,
{
		   "cell_type": "markdown",
		   "metadata": {},
		   "source": [
			"## Example 30.3: Example_219.sce"
		   ]
		  },
  {
"cell_type": "code",
	   "execution_count": null,
	   "metadata": {
	    "collapsed": true
	   },
	   "outputs": [],
"source": [
"// Grob's Basic Electronics 11e\n",
"// Chapter No. 30\n",
"// Example No. 30_3\n",
"clear; clc;\n",
"// Calculate the value of Vd\n",
"\n",
"// Given Data\n",
"\n",
"Vs = 1;         // Voltage at Resistor Rs=1 Volts\n",
"Rs = 200;       // Source Resistor=200 Ohms\n",
"Vdd = 10;       // Supply Voltage(Drain)=10 Volts\n",
"Rd = 1*10^3;    // Drain Resistor=1k Ohms\n",
"\n",
"Is=Vs/Rs;\n",
"\n",
"Id = Is;\n",
"\n",
"Vd = Vdd-Id*Rd;\n",
"disp (Vd,'The Drain Voltage Vd in Volts')"
   ]
   }
,
{
		   "cell_type": "markdown",
		   "metadata": {},
		   "source": [
			"## Example 30.4: Example_220.sce"
		   ]
		  },
  {
"cell_type": "code",
	   "execution_count": null,
	   "metadata": {
	    "collapsed": true
	   },
	   "outputs": [],
"source": [
"// Grob's Basic Electronics 11e\n",
"// Chapter No. 30\n",
"// Example No. 30_4\n",
"clear; clc;\n",
"// Calculate Vg, Vs, Id, Vd.\n",
"\n",
"// Given Data\n",
"\n",
"R1 = 390*10^3;      // Resistor 1=390k Ohms\n",
"R2 = 100*10^3;      // Resistor 2=100k Ohms\n",
"Rd = 1*10^3;        // Drain Resistor=1k Ohms\n",
"Vdd = 15;           // Supply Voltage(Drain)=15 Volts\n",
"Vgs = -1;           // Voltage Gate-Source=-1 Volts\n",
"Rs = 800;           // Source Resistor=800 Ohms\n",
"\n",
"Vg = (R2/(R1+R2))*Vdd;\n",
"disp (Vg,'The Value of Vg in Volts')\n",
"disp ('i.e 3 Volts')\n",
"\n",
"Vs = Vg-Vgs;\n",
"disp (Vs,'The Value of Vs in Volts')\n",
"disp ('i.e 4 Volts')\n",
"\n",
"Id = Vs/Rs;\n",
"disp (Id,'The Value of Id in Amps.')\n",
"disp ('i.e 5 mAmps')\n",
"\n",
"Vd = Vdd-Id*Rd\n",
"disp (Vd,'The Value of Vd in Volts')\n",
"disp ('Appox 10 Volts')"
   ]
   }
,
{
		   "cell_type": "markdown",
		   "metadata": {},
		   "source": [
			"## Example 30.5: Example_221.sce"
		   ]
		  },
  {
"cell_type": "code",
	   "execution_count": null,
	   "metadata": {
	    "collapsed": true
	   },
	   "outputs": [],
"source": [
"// Grob's Basic Electronics 11e\n",
"// Chapter No. 30\n",
"// Example No. 30_5\n",
"clc; clear;\n",
"// Calculate the value Drain Current Id and Drain Voltage Vd.\n",
"\n",
"// Given Data\n",
"\n",
"Vdd = 15;           // Supply Voltage(Drain)=15 Volts\n",
"Vbe = 0.7;          // Voltage Base-Emitter=0.7 Volts\n",
"Re = 2.2*10^3;      // Emitter Resistor=2.2 kOhms\n",
"Rd = 1*10^3;        // Drain Resistor=1 kOhms\n",
"Vee = 15;           // Supply Voltage(Emitter)=15 Volts\n",
"\n",
"\n",
"Ic = (Vee-Vbe)/Re;\n",
"\n",
"Id = Ic;\n",
"disp (Id,'The Drain Current Id in Amps')\n",
"disp ('i.e 6.5 mAmps')\n",
"\n",
"Vd = Vdd-Id*Rd;\n",
"disp (Vd,'The Drain Voltage Vd in Voltage')"
   ]
   }
,
{
		   "cell_type": "markdown",
		   "metadata": {},
		   "source": [
			"## Example 30.6: Example_222.sce"
		   ]
		  },
  {
"cell_type": "code",
	   "execution_count": null,
	   "metadata": {
	    "collapsed": true
	   },
	   "outputs": [],
"source": [
"// Grob's Basic Electronics 11e\n",
"// Chapter No. 30\n",
"// Example No. 30_6\n",
"clear; clc;\n",
"// Calculate the Voltage Gain Av and Output Voltage Vo\n",
"\n",
"// Given Data\n",
"\n",
"Rd = 1.5*10^3;      // Drain Resistor=1.5 kOhms\n",
"Rl = 10*10^3;       // Load Resistor=10 kOhms\n",
"Idss = 10*10^-3;    // Idss=10 mAmps\n",
"Vgs = -1;           // Voltage Gate-Source=-1 Volts\n",
"Vgsoff = -4;        // Voltage Gate-Source(off)=-4 Volts\n",
"Vin = 0.2;          // Input Voltage=0.2 Volts(p-p)\n",
"\n",
"gmo = 2*Idss/(-Vgsoff);\n",
"\n",
"gm = gmo*(1-(Vgs/Vgsoff));\n",
"\n",
"rl = (Rd*Rl)/(Rd+Rl);\n",
"\n",
"Av = gm*rl;\n",
"disp (Av,'The Voltage Gain Av is')\n",
"disp ('Appox 4.875')\n",
"\n",
"Vo = Av*Vin\n",
"disp (Vo,'The Output Voltage Vo in Volts(p-p)')\n",
"disp ('Appox 0.975 Volts(p-p)')"
   ]
   }
,
{
		   "cell_type": "markdown",
		   "metadata": {},
		   "source": [
			"## Example 30.7: Example_223.sce"
		   ]
		  },
  {
"cell_type": "code",
	   "execution_count": null,
	   "metadata": {
	    "collapsed": true
	   },
	   "outputs": [],
"source": [
"// Grob's Basic Electronics 11e\n",
"// Chapter No. 30\n",
"// Example No. 30_7\n",
"clc; clear;\n",
"// Calculate Av, Vo & Zo.\n",
"\n",
"// Given Data\n",
"\n",
"Rs = 240;           // Source Resistor=240 Ohms\n",
"Rl = 1.8*10^3;      // Load Resistor=1.8 kOhms\n",
"Vgsoff = -8;        // Voltage Gate-Source(off)=-8 Volts\n",
"Vgs = -2;           // Voltage Gate-Source=-2 Volts\n",
"Idss = 15*10^-3     // Idss=15 mAmps.\n",
"Vin = 1;            // Input Voltage=1 Volts(p-p)\n",
"\n",
"rl = ((Rs*Rl)/(Rs+Rl));\n",
"gmo = 2*Idss/-Vgsoff;\n",
"gm = gmo*(1-(Vgs/Vgsoff));\n",
"\n",
"Av = gm*rl/(1+gm*rl);\n",
"disp (Av,'The Voltage Gain Av is')\n",
"\n",
"Vo = Av*Vin;\n",
"disp (Vo,'The Output Voltage Vo in Volts(p-p)')\n",
"\n",
"A = (1/gm);\n",
"Zo = ((Rs*A)/(Rs+A));\n",
"disp (Zo,'The Output Impedence Zo in Ohms')\n",
"disp ('Appox 143.5 Ohms')"
   ]
   }
,
{
		   "cell_type": "markdown",
		   "metadata": {},
		   "source": [
			"## Example 30.8: Example_224.sce"
		   ]
		  },
  {
"cell_type": "code",
	   "execution_count": null,
	   "metadata": {
	    "collapsed": true
	   },
	   "outputs": [],
"source": [
"// Grob's Basic Electronics 11e\n",
"// Chapter No. 30\n",
"// Example No. 30_8\n",
"clear; clc;\n",
"//Calculate Av, Vo, Zin.\n",
"\n",
"// Given Data\n",
"\n",
"Rd = 1.2*10^3;      // Drain Resistor=1.2 kOhms\n",
"Rl = 15*10^3;       // Load Resistor=15 kOhms\n",
"gm = 3.75*10^-3;    // Transconductance=3.75 mSiemens\n",
"Vin = 10*10^-3;     // Input Voltage=10 mVpp\n",
"Rs = 200;           // Source Resistor=200 Ohms\n",
"\n",
"rl = ((Rd*Rl)/(Rd+Rl));\n",
"\n",
"Av = gm*rl;\n",
"disp (Av, 'The Voltage Gain Av is')\n",
"\n",
"Vo = Av*Vin;\n",
"disp (Vo, 'The Output Voltage in Volts(p-p)')\n",
"disp ('Appox 41.6 mVolts(p-p)')\n",
"\n",
"A = (1/gm);\n",
"\n",
"Zi = ((Rs*A)/(Rs+A));\n",
"disp (Zi,'The Output Impedence Zi in Ohms')\n",
"disp ('Appox 114 Ohms')"
   ]
   }
,
{
		   "cell_type": "markdown",
		   "metadata": {},
		   "source": [
			"## Example 30.9: Example_225.sce"
		   ]
		  },
  {
"cell_type": "code",
	   "execution_count": null,
	   "metadata": {
	    "collapsed": true
	   },
	   "outputs": [],
"source": [
"// Grob's Basic Electronics 11e\n",
"// Chapter No. 30\n",
"// Example No. 30_9\n",
"clear; clc;\n",
"//Determine Id for each value of Vgs (a) 2V; (b) -2V; (c) 0V\n",
"\n",
"// Given Data\n",
"Vgs1 = 2;           // Voltage Gate-Source 1=2 Volts\n",
"Vgs2 = -2;          // Voltage Gate-Source 2=-2 Volts\n",
"Vgs3 = 0;           // Voltage Gate-Source 3=0 Volts\n",
"Vgsoff = -4;        // Voltage Gate-Source(off)=-4 Volts\n",
"Idss = 10*10^-3;    // Idss = 10m Amps\n",
"\n",
"a = (1-(Vgs1/Vgsoff));\n",
"b = (1-(Vgs2/Vgsoff));\n",
"c = (1-(Vgs3/Vgsoff));\n",
"\n",
"// Vgs = 2 Volts\n",
"\n",
"Id1 = Idss*a*a;\n",
"disp (Id1,'The Value of Id for Vgs = 2 Volts in Amps')\n",
"disp ('i.e 22.5 mAmps')\n",
"\n",
"// Vgs = -2 Volts\n",
"\n",
"Id2 = Idss*b*b;\n",
"disp (Id2,'The Value of Id for Vgs = -2 Volts in Amps')\n",
"disp ('i.e 2.5 mAmps')\n",
"\n",
"// Vgs = 0 Volts\n",
"\n",
"Id3 = Idss*c*c;\n",
"disp (Id3,'The Value of Id for Vgs = 0 Volts in Amps')\n",
"disp ('i.e 10 mAmps')"
   ]
   }
],
"metadata": {
		  "kernelspec": {
		   "display_name": "Scilab",
		   "language": "scilab",
		   "name": "scilab"
		  },
		  "language_info": {
		   "file_extension": ".sce",
		   "help_links": [
			{
			 "text": "MetaKernel Magics",
			 "url": "https://github.com/calysto/metakernel/blob/master/metakernel/magics/README.md"
			}
		   ],
		   "mimetype": "text/x-octave",
		   "name": "scilab",
		   "version": "0.7.1"
		  }
		 },
		 "nbformat": 4,
		 "nbformat_minor": 0
}
