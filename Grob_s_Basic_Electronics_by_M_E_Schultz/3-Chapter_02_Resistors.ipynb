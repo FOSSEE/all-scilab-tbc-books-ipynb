{
"cells": [
 {
		   "cell_type": "markdown",
	   "metadata": {},
	   "source": [
       "# Chapter 3: Chapter 02 Resistors"
	   ]
	},
{
		   "cell_type": "markdown",
		   "metadata": {},
		   "source": [
			"## Example 2.1: Example_27.sce"
		   ]
		  },
  {
"cell_type": "code",
	   "execution_count": null,
	   "metadata": {
	    "collapsed": true
	   },
	   "outputs": [],
"source": [
"// Grob's Basic Electronics 11e\n",
"// Chapter No. 02\n",
"// Example No. 2_1\n",
"clc; clear;\n",
"// What is the resistance indicated by the five-band color code in Fig. 2–10? Also, what ohmic range is permissible for the specified tolerance?\n",
"\n",
"disp ('The first stripe is orange for the number 3, the second stripe is blue for the number 6, and the third stripe is green for the number 5. Therefore, the first three digits of the resistance are 3, 6, and 5, respectively. The fourth stripe, which is the multiplier, is black, which means add no zeros. The fifth stripe, which indicates the resistor tolerance, is green for +-0.5%.')\n",
"\n",
"disp ('Therefore R = 365 Ohms +-0.5%. The permissible ohmic range is calculated as 365*0.005 = +-1.825 Ohms, or 363.175 to 366.825 Ohms.')"
   ]
   }
,
{
		   "cell_type": "markdown",
		   "metadata": {},
		   "source": [
			"## Example 2.2: Example_28.sce"
		   ]
		  },
  {
"cell_type": "code",
	   "execution_count": null,
	   "metadata": {
	    "collapsed": true
	   },
	   "outputs": [],
"source": [
"// Grob's Basic Electronics 11e\n",
"// Chapter No. 02\n",
"// Example No. 2_2\n",
"clc; clear;\n",
"// Determine the resistance of the chip resistor in Fig. 2–13.\n",
"\n",
"disp('The first two digits are 5 and 6, giving 56 as the first two numbers in the resistance value. The third digit, 2, is the multiplier, which means add 2 zeros to 56 for,')\n",
"\n",
"disp ('Resistance of 5600 Ohms or 5.6 kOhms.')"
   ]
   }
],
"metadata": {
		  "kernelspec": {
		   "display_name": "Scilab",
		   "language": "scilab",
		   "name": "scilab"
		  },
		  "language_info": {
		   "file_extension": ".sce",
		   "help_links": [
			{
			 "text": "MetaKernel Magics",
			 "url": "https://github.com/calysto/metakernel/blob/master/metakernel/magics/README.md"
			}
		   ],
		   "mimetype": "text/x-octave",
		   "name": "scilab",
		   "version": "0.7.1"
		  }
		 },
		 "nbformat": 4,
		 "nbformat_minor": 0
}
