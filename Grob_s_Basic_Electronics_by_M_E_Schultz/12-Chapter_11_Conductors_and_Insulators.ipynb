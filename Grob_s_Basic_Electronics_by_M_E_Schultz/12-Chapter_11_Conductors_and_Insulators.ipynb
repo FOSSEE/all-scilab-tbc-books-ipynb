{
"cells": [
 {
		   "cell_type": "markdown",
	   "metadata": {},
	   "source": [
       "# Chapter 12: Chapter 11 Conductors and Insulators"
	   ]
	},
{
		   "cell_type": "markdown",
		   "metadata": {},
		   "source": [
			"## Example 11.1: Example_70.sce"
		   ]
		  },
  {
"cell_type": "code",
	   "execution_count": null,
	   "metadata": {
	    "collapsed": true
	   },
	   "outputs": [],
"source": [
"// Grob's Basic Electronics 11e\n",
"// Chapter No. 11\n",
"// Example No. 11_1\n",
"clc; clear;\n",
"// What is the area in circular mils of a wire with a diameter of 0.005 in.?\n",
"\n",
"// Given data\n",
"\n",
"Din = 0.005;        // Diameter in Inches=0.005 in.\n",
"Dmil = 5;           // Diameter in Mils=5 mil.\n",
"\n",
"// 0.005 in. = 5 mil\n",
"// Therefore: Din == Dmil\n",
"\n",
"A = Dmil*Dmil;\n",
"disp (A,'The Circular Area in cmils')"
   ]
   }
,
{
		   "cell_type": "markdown",
		   "metadata": {},
		   "source": [
			"## Example 11.2: Example_71.sce"
		   ]
		  },
  {
"cell_type": "code",
	   "execution_count": null,
	   "metadata": {
	    "collapsed": true
	   },
	   "outputs": [],
"source": [
"// Grob's Basic Electronics 11e\n",
"// Chapter No. 11\n",
"// Example No. 11_2\n",
"clc; clear;\n",
"// A stranded wire is made up of 16 individual strands of No. 27 gage wire. What is its equivalent gage size in solid wire?\n",
"\n",
"// Given data\n",
"\n",
"N = 16;         // No. of strands=16\n",
"A27 = 201.5     // Circular area of No. 27 Guage wire=201.5 cmils\n",
"\n",
"A = N*A27;\n",
"disp (A,'The Total Area in cmils')\n",
"\n",
"disp ('The Circular Area of 3224 cmils corresponds very closely to the cmil area of No. 15 gage wire. Therefore, 16 strands of No. 27 gage wire is roughly equivalent to No. 15 gage solid wire.')"
   ]
   }
,
{
		   "cell_type": "markdown",
		   "metadata": {},
		   "source": [
			"## Example 11.3: Example_72.sce"
		   ]
		  },
  {
"cell_type": "code",
	   "execution_count": null,
	   "metadata": {
	    "collapsed": true
	   },
	   "outputs": [],
"source": [
"// Grob's Basic Electronics 11e\n",
"// Chapter No. 11\n",
"// Example No. 11_3\n",
"clc; clear;\n",
"// How much is the resistance of 100 ft of No. 20 gage copper wire?\n",
"\n",
"// Given data\n",
"\n",
"roh = 10.4;         // roh or specific resistance=10.4 (for Copper)\n",
"l = 100;            // Lenght=100 feet\n",
"A = 1022;           // Area of No. 20 Gage=1022 cmil\n",
"\n",
"R = roh*(l/A);\n",
"disp (R,'The Resistance of 100 ft of No. 20 gage Copper Wire in Ohms')\n",
"disp ('i.e 1.02 Ohms')"
   ]
   }
,
{
		   "cell_type": "markdown",
		   "metadata": {},
		   "source": [
			"## Example 11.4: Example_73.sce"
		   ]
		  },
  {
"cell_type": "code",
	   "execution_count": null,
	   "metadata": {
	    "collapsed": true
	   },
	   "outputs": [],
"source": [
"// Grob's Basic Electronics 11e\n",
"// Chapter No. 11\n",
"// Example No. 11_4\n",
"clc; clear;\n",
"// How much is the resistance of 100 ft of No. 23 gage copper wire?\n",
"\n",
"// Given data\n",
"\n",
"roh = 10.4;         // roh or specific resistance=10.4 (for Copper)\n",
"l = 100;            // Lenght=100 feet\n",
"A = 509.5;           // Area of No. 23 Gage=509.5 cmil\n",
"\n",
"R = roh*(l/A);\n",
"disp (R,'The Resistance of 100 ft of No. 20 gage Copper Wire in Ohms')"
   ]
   }
,
{
		   "cell_type": "markdown",
		   "metadata": {},
		   "source": [
			"## Example 11.5: Example_74.sce"
		   ]
		  },
  {
"cell_type": "code",
	   "execution_count": null,
	   "metadata": {
	    "collapsed": true
	   },
	   "outputs": [],
"source": [
"// Grob's Basic Electronics 11e\n",
"// Chapter No. 11\n",
"// Example No. 11_5\n",
"clc; clear;\n",
"// How much is the resistance of a slab of germanium 0.2 cm long with a crosssectional area of 1 sqcm?\n",
"\n",
"// Given data\n",
"\n",
"roh = 55;         // roh or specific resistance=55 (for Germanium)\n",
"l = 0.2*10^-2;    // Lenght=100 feet\n",
"A = 1*10^-2;      // Area=1 sqcm\n",
"\n",
"R = roh*(l/A);\n",
"disp (R,'The Resistance of a Slab of Germanium in Ohms')"
   ]
   }
,
{
		   "cell_type": "markdown",
		   "metadata": {},
		   "source": [
			"## Example 11.6: Example_75.sce"
		   ]
		  },
  {
"cell_type": "code",
	   "execution_count": null,
	   "metadata": {
	    "collapsed": true
	   },
	   "outputs": [],
"source": [
"// Grob's Basic Electronics 11e\n",
"// Chapter No. 11\n",
"// Example No. 11_6\n",
"clc; clear;\n",
"// A tungsten wire has a 14-Ohms R at 20°C. Calculate its resistance at 120°C.\n",
"\n",
"// Given data\n",
"\n",
"Tmax = 120;         // Temp(max)=120 degree Centigrates\n",
"Tmin = 20;          // Temp(min)=20 degree Centigrates\n",
"Ro = 14;            // Wire Resistance=14 Ohms\n",
"alpha = 0.005;      // Aplha=0.005 (for Tungsten)\n",
"\n",
"delta = Tmax-Tmin;\n",
"\n",
"Rt = Ro+Ro*(alpha*delta);\n",
"disp (Rt,'The Resistance at 120°C in Ohms')"
   ]
   }
],
"metadata": {
		  "kernelspec": {
		   "display_name": "Scilab",
		   "language": "scilab",
		   "name": "scilab"
		  },
		  "language_info": {
		   "file_extension": ".sce",
		   "help_links": [
			{
			 "text": "MetaKernel Magics",
			 "url": "https://github.com/calysto/metakernel/blob/master/metakernel/magics/README.md"
			}
		   ],
		   "mimetype": "text/x-octave",
		   "name": "scilab",
		   "version": "0.7.1"
		  }
		 },
		 "nbformat": 4,
		 "nbformat_minor": 0
}
