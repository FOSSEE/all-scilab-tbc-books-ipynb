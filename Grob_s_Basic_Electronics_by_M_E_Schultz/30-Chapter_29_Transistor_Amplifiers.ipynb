{
"cells": [
 {
		   "cell_type": "markdown",
	   "metadata": {},
	   "source": [
       "# Chapter 30: Chapter 29 Transistor Amplifiers"
	   ]
	},
{
		   "cell_type": "markdown",
		   "metadata": {},
		   "source": [
			"## Example 29.10: Example_216.sce"
		   ]
		  },
  {
"cell_type": "code",
	   "execution_count": null,
	   "metadata": {
	    "collapsed": true
	   },
	   "outputs": [],
"source": [
"// Grob's Basic Electronics 11e\n",
"// Chapter No. 29\n",
"// Example No. 29_10\n",
"clc; clear;\n",
"// Calculate the ac output voltage, vout.\n",
"\n",
"// Given data\n",
"\n",
"Rc = 1.2*10^3;      // Collector resistance=1.2 kOhms\n",
"Re = 2.2*10^3;      // Emitter resistance=2.2 kOhms\n",
"Rl = 3.3*10^3;      // Load resistance=3.3 kOhms\n",
"Rg = 600;           // Generator Resistance=600 Ohms\n",
"Vcc = 12;           // +ve Supply Voltage=15 Volts\n",
"Vee = 12;           // -ve Supply Voltage=9 Volts\n",
"Vbe = 0.7;          // Voltage Base-Emitter=0.7 Volts\n",
"vin = 1;            // Input Voltage=1 Volts(p-p)\n",
"\n",
"Ie = (Vee-Vbe)/Re;\n",
"\n",
"a = 25*10^-3;\n",
"re = a/Ie;\n",
"\n",
"b = Rc*Rl;\n",
"c = Rc+Rl;\n",
"rl = b/c;\n",
"\n",
"Av = rl/re;\n",
"\n",
"d = Re*re\n",
"e = Re+re\n",
"Zin = d/e;\n",
"\n",
"ve = vin*(Zin/(Zin+Rg));\n",
"\n",
"vout = Av*ve;\n",
"disp(vout,'The AC output voltage in Volts(p-p)')\n",
"\n",
"\n",
""
   ]
   }
,
{
		   "cell_type": "markdown",
		   "metadata": {},
		   "source": [
			"## Example 29.1: Example_207.sce"
		   ]
		  },
  {
"cell_type": "code",
	   "execution_count": null,
	   "metadata": {
	    "collapsed": true
	   },
	   "outputs": [],
"source": [
"// Grob's Basic Electronics 11e\n",
"// Chapter No. 29\n",
"// Example No. 29_1\n",
"clc; clear;\n",
"// For the diode circuit, calculate the ac resistance, rac, for the following values of R: (a) 10 kOhms, (b) 5 kOhms, and (c) 1 kOhms. Use the second approximation of a diode.\n",
"\n",
"// Given data\n",
"\n",
"R1 = 10*10^3;     // Resistance 1=10 kOhms\n",
"R2 = 5*10^3;      // Resistance 2=5 kOhms\n",
"R3 = 1*10^3;      // Resistance 3=1 kOhms\n",
"Vdc = 10;         // DC supply=10 Volts\n",
"V = 0.7;          // Starting voltage of diode=0.7 Volts\n",
"A = 25*10^-3;     // Constant\n",
"\n",
"// For R=10 kOhms\n",
"\n",
"Id1 = (Vdc-V)/R1;\n",
"\n",
"rac1 = A/Id1;\n",
"disp (rac1,'The Ac Resistance with R=10 kOhms in Ohms')\n",
"\n",
"// For R=5 kOhms\n",
"\n",
"Id2 = (Vdc-V)/R2;\n",
"\n",
"rac2 = A/Id2;\n",
"disp (rac2,'The Ac Resistance with R=5 kOhms in Ohms')\n",
"\n",
"// For R=1 kOhms\n",
"\n",
"Id3 = (Vdc-V)/R3;\n",
"\n",
"rac3 = A/Id3;\n",
"disp (rac3,'The Ac Resistance with R=1 kOhms in Ohms')\n",
"disp ('Appox 2.69 Ohms')\n",
"\n",
""
   ]
   }
,
{
		   "cell_type": "markdown",
		   "metadata": {},
		   "source": [
			"## Example 29.2: Example_208.sce"
		   ]
		  },
  {
"cell_type": "code",
	   "execution_count": null,
	   "metadata": {
	    "collapsed": true
	   },
	   "outputs": [],
"source": [
"// Grob's Basic Electronics 11e\n",
"// Chapter No. 29\n",
"// Example No. 29_2\n",
"clc;clear;\n",
"//A common-emitter amplifier circuit has an input of 25 mVp-p and an output of 5 Vp-p. Calculate Av.\n",
"\n",
"// Given data\n",
"\n",
"Vin = 25*10^-3;     // Input voltage=25 mVolts(p-p)\n",
"Vo = 5;             // Output voltage=5 Volts(p-p).\n",
"\n",
"Av = Vo/Vin;\n",
"disp (Av,'The Voltage Gain Av is')"
   ]
   }
,
{
		   "cell_type": "markdown",
		   "metadata": {},
		   "source": [
			"## Example 29.3: Example_209.sce"
		   ]
		  },
  {
"cell_type": "code",
	   "execution_count": null,
	   "metadata": {
	    "collapsed": true
	   },
	   "outputs": [],
"source": [
"// Grob's Basic Electronics 11e\n",
"// Chapter No. 29\n",
"// Example No. 29_3\n",
"clc; clear;\n",
"// assume Av still equals 300. If vin is 5 mVp-p, calculate Vout.\n",
"\n",
"// Given data\n",
"\n",
"Vin = 5*10^-3;     // Input voltage=5 mVolts(p-p)\n",
"Av = 300;          // Voltage gain=300\n",
"\n",
"Vo = Av*Vin;\n",
"disp (Vo,'The Output Voltage in Volts(p-p)')"
   ]
   }
,
{
		   "cell_type": "markdown",
		   "metadata": {},
		   "source": [
			"## Example 29.4: Example_210.sce"
		   ]
		  },
  {
"cell_type": "code",
	   "execution_count": null,
	   "metadata": {
	    "collapsed": true
	   },
	   "outputs": [],
"source": [
"// Grob's Basic Electronics 11e\n",
"// Chapter No. 29\n",
"// Example No. 29_4\n",
"clc; clear;\n",
"// Assume that re varies from 3.33 Ohms to 6.67 Ohms as the temperature of the transistor changes. Calculate the variation in the voltage gain, Av.\n",
"\n",
"// Given data\n",
"\n",
"rl = 600;       // Load resistance=600 Ohms\n",
"re = 6.67;      // Internal emitter resistance=6.67 Ohms\n",
"\n",
"Av = rl/re;\n",
"disp (Av,'The Voltage Gain Av is')\n",
"disp ('Appox 90')"
   ]
   }
,
{
		   "cell_type": "markdown",
		   "metadata": {},
		   "source": [
			"## Example 29.5: Example_211.sce"
		   ]
		  },
  {
"cell_type": "code",
	   "execution_count": null,
	   "metadata": {
	    "collapsed": true
	   },
	   "outputs": [],
"source": [
"// Grob's Basic Electronics 11e\n",
"// Chapter No. 29\n",
"// Example No. 29_5\n",
"clc; clear;\n",
"// Assume that r'e varies from 3.33 Ohms to 6.67 Ohms. Calculate the minimum and maximum values for Av.\n",
"\n",
"// Given data\n",
"\n",
"rl = 600;     // Load resistance=600 Ohms\n",
"re1 = 3.33;   // Internal emitter resistance=3.33 Ohms\n",
"re2 = 6.67;   // Internal emitter resistance=6.67 Ohms\n",
"rE = 60;      // Emitter resistance=60 Ohms\n",
"\n",
"Av1 = rl/(re1+rE);\n",
"disp (Av1,'The Voltage Gain Av(max) when r`e=3.33 Ohms is')\n",
"\n",
"Av2 = rl/(re2+rE);\n",
"disp (Av2,'The Voltage Gain Av(min) when r`e=6.67 Ohms is')\n",
"disp ('Appox 9')\n",
"\n",
""
   ]
   }
,
{
		   "cell_type": "markdown",
		   "metadata": {},
		   "source": [
			"## Example 29.6: Example_212.sce"
		   ]
		  },
  {
"cell_type": "code",
	   "execution_count": null,
	   "metadata": {
	    "collapsed": true
	   },
	   "outputs": [],
"source": [
"// Grob's Basic Electronics 11e\n",
"// Chapter No. 29\n",
"// Example No. 29_6\n",
"clc; clear;\n",
"// Find the exact value of Av. Also, find  Vout.\n",
"\n",
"// Given data\n",
"\n",
"rl = 909;       // Load resistance=909 Ohms\n",
"re = 3.35;      // Internal emitter resistance=3.35 Ohms\n",
"Vin = 1;        // Input voltage=1 Volts(p-p)\n",
"\n",
"Av = rl/(re+rl);\n",
"disp (Av,'The Voltage Gain Av is')\n",
"\n",
"Vo = Av*Vin;\n",
"disp (Vo,'The Output Voltage in Volts(p-p)')\n",
"disp ('i.e 996 mVolts(p-p)')"
   ]
   }
,
{
		   "cell_type": "markdown",
		   "metadata": {},
		   "source": [
			"## Example 29.7: Example_213.sce"
		   ]
		  },
  {
"cell_type": "code",
	   "execution_count": null,
	   "metadata": {
	    "collapsed": true
	   },
	   "outputs": [],
"source": [
"// Grob's Basic Electronics 11e\n",
"// Chapter No. 29\n",
"// Example No. 29_7\n",
"clc; clear;\n",
"// Calculate Zin.\n",
"\n",
"// Given data\n",
"\n",
"rl = 909;           // Load resistance=909 Ohms\n",
"re = 3.35;          // Internal emitter resistance=3.35 Ohms\n",
"B = 100;            // Beta=100\n",
"R1 = 4.7*10^3;      // Resistance1=4.7 kOhms\n",
"R2 = 5.6*10^3;      // Resistance2=5.6 kOhms\n",
"\n",
"Zibase = B*(re+rl);\n",
"A = (R1*R2)/(R1+R2);\n",
"\n",
"Zin = (Zibase*A)/(A+Zibase);\n",
"disp (Zin,'The Input impedence in Ohms')\n",
"disp ('i.e 2.48 kOhms')"
   ]
   }
,
{
		   "cell_type": "markdown",
		   "metadata": {},
		   "source": [
			"## Example 29.8: Example_214.sce"
		   ]
		  },
  {
"cell_type": "code",
	   "execution_count": null,
	   "metadata": {
	    "collapsed": true
	   },
	   "outputs": [],
"source": [
"// Grob's Basic Electronics 11e\n",
"// Chapter No. 29\n",
"// Example No. 29_8\n",
"clc; clear;\n",
"// Calculate the following quantities: Vb, Ve, Ic, Vc, Vce, r'e, Zin(base), Zin, Av, vb, and vout. Also, plot the dc load line.\n",
"\n",
"// Given data\n",
"\n",
"R1 = 22*10^3;   // Resistance1=22 kOhms\n",
"R2 = 18*10^3;   // Resistance2=18 kOhms\n",
"Rg = 600;       // Generator resistance=600 Ohms\n",
"Re = 1.5*10^3;  // Emitter resistance=1.5 kOhms\n",
"Rl = 1*10^3;    // Load resistance=1 kOhms\n",
"Vcc = 20;       // Supply Voltage=20 Volts\n",
"Vbe = 0.7;      // Voltage Base-Emitter=0.7 Volts\n",
"B = 200;        // Beta=200\n",
"vin = 5;        // Input Voltage=5 Volts(p-p)\n",
"\n",
"// Calculate the DC quantities first:\n",
"\n",
"Vb = Vcc*(R2/(R1+R2));\n",
"disp (Vb,'The Base Voltage in Volts')\n",
"\n",
"Ve = Vb-Vbe;\n",
"disp (Ve,'The Emitter Voltage in Volts')\n",
"\n",
"Ie = Ve/Re;\n",
"Ic = Ie;        // Ic =~ Ie\n",
"disp (Ic,'The Collector current in Amps')\n",
"disp ('i.e 5.53 mAmps')\n",
"\n",
"Vc = Vcc;       // Since the collector is tied directly to Vcc\n",
"disp (Vc,'The Collector Voltage in Volts')\n",
"\n",
"Vce = Vcc-Ve;\n",
"disp (Vce,'The Collector-Emmiter Voltage in Volts')\n",
"\n",
"Icsat = Vcc/Re;\n",
"\n",
"Vceoff = Vcc;\n",
"\n",
"// Now, calculate AC quantities:\n",
"\n",
"a = 25*10^-3;\n",
"\n",
"re = a/Ie;\n",
"disp (re,'The AC emmiter resistance in Ohms')\n",
"disp ('Appox 4.52 Ohms')\n",
"\n",
"b = Re*Rl;\n",
"c = Re+Rl;\n",
"rl = b/c;\n",
"\n",
"Av = rl/(rl+re);\n",
"disp (Av,'The Voltage gain is')\n",
"\n",
"Zinbase = B*(re+rl);\n",
"disp (Zinbase,'The Input Base Impedence in Ohms')\n",
"disp ('i.e 120.9 kOhms')\n",
"\n",
"d = 1/Zinbase;\n",
"e = 1/R1;\n",
"f = 1/R2;\n",
"\n",
"Zin = (d+e+f)^-1\n",
"disp(Zin,'The Input Impedence in Ohms')\n",
"disp ('i.e 9.15 kOhms')\n",
"\n",
"vb = vin*(Zin/(Zin+Rg));\n",
"disp (vb,'The AC base voltage in Volts(p-p)')\n",
"\n",
"vout = Av*vb;\n",
"disp(vout,'The AC output voltage in Volts(p-p)')\n",
"\n",
"Icq = Ic\n",
"Vceq = Vce\n",
"\n",
"Vce1=[Vcc Vceq 0]\n",
"Ic1=[0 Icq Icsat]\n",
"\n",
"//To plot DC load line\n",
"\n",
"printf('Q(%f,%f)\n',Vceq,Icq)\n",
"plot2d(Vce1, Ic1)\n",
"plot(Vceq,Icq,'.r')\n",
"plot(0,Icq,'.r')\n",
"plot(Vceq,0,'.r')\n",
"plot(0,Icsat,'.b')\n",
"plot(Vceoff,0,'.b')\n",
"xlabel('Vce in Volt')\n",
"ylabel('Ic in mAmps')\n",
"xtitle('DC Load-line for Emitter Follower Circuit')"
   ]
   }
,
{
		   "cell_type": "markdown",
		   "metadata": {},
		   "source": [
			"## Example 29.9: Example_215.sce"
		   ]
		  },
  {
"cell_type": "code",
	   "execution_count": null,
	   "metadata": {
	    "collapsed": true
	   },
	   "outputs": [],
"source": [
"// Grob's Basic Electronics 11e\n",
"// Chapter No. 29\n",
"// Example No. 29_9\n",
"clc; clear;\n",
"// Calculate the following: Ie, Vcb, r'e, Av, vout and zin.\n",
"\n",
"// Given data\n",
"\n",
"Rc = 1.5*10^3;      // Collector resistance=1.5 kOhms\n",
"Re = 1.8*10^3;      // Emitter resistance=1.8 kOhms\n",
"Rl = 1.5*10^3;      // Load resistance=1.5 kOhms\n",
"Vcc = 15;           // +ve Supply Voltage=15 Volts\n",
"Vee = 9;            // -ve Supply Voltage=9 Volts\n",
"Vbe = 0.7;          // Voltage Base-Emitter=0.7 Volts\n",
"vin = 25*10^-3;     // Input Voltage=25 mVolts(p-p)\n",
"\n",
"\n",
"Ie = (Vee-Vbe)/Re;\n",
"disp (Ie,'The Emmiter current in Amps')\n",
"disp ('i.e 4.61 mApms')\n",
"\n",
"Ic = Ie;        // Ic =~ Ie\n",
"\n",
"Vcb = Vcc-(Ic*Rc);\n",
"disp (Vcb,'The Collector-Base Voltage in Volts')\n",
"disp ('Appox 8.09 Volts')\n",
"\n",
"a = 25*10^-3;\n",
"\n",
"re = a/Ie;\n",
"disp (re,'The AC emmiter resistance in Ohms')\n",
"\n",
"b = Rc*Rl;\n",
"c = Rc+Rl;\n",
"\n",
"rl = b/c;\n",
"\n",
"Av = rl/re;\n",
"disp (Av,'The Voltage gain is')\n",
"\n",
"vout = Av*vin;\n",
"disp(vout,'The AC output voltage in Volts(p-p)')\n",
"disp ('Appox 3.46 Volts(p-p)')\n",
"\n",
"d = Re*re\n",
"e = Re+re\n",
"\n",
"Zin = d/e;\n",
"disp (Zin,'The Input Impedence in Ohms')"
   ]
   }
],
"metadata": {
		  "kernelspec": {
		   "display_name": "Scilab",
		   "language": "scilab",
		   "name": "scilab"
		  },
		  "language_info": {
		   "file_extension": ".sce",
		   "help_links": [
			{
			 "text": "MetaKernel Magics",
			 "url": "https://github.com/calysto/metakernel/blob/master/metakernel/magics/README.md"
			}
		   ],
		   "mimetype": "text/x-octave",
		   "name": "scilab",
		   "version": "0.7.1"
		  }
		 },
		 "nbformat": 4,
		 "nbformat_minor": 0
}
