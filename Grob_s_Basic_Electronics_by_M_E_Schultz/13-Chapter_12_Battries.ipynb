{
"cells": [
 {
		   "cell_type": "markdown",
	   "metadata": {},
	   "source": [
       "# Chapter 13: Chapter 12 Battries"
	   ]
	},
{
		   "cell_type": "markdown",
		   "metadata": {},
		   "source": [
			"## Example 12.1: Example_76.sce"
		   ]
		  },
  {
"cell_type": "code",
	   "execution_count": null,
	   "metadata": {
	    "collapsed": true
	   },
	   "outputs": [],
"source": [
"// Grob's Basic Electronics 11e\n",
"// Chapter No. 12\n",
"// Example No. 12_1\n",
"clc; clear;\n",
"// Calculate ri if the output of a generator drops from 100 V with zero load current to 80 V when Il is 2 A.\n",
"\n",
"// Given data\n",
"\n",
"Vo0 = 100;      // Vo at zero load current=100 Volts\n",
"Vo1 = 80;       // Vo at 2 A load current=80 Volts\n",
"Il = 2;         // Load current=2 Amps\n",
"\n",
"Ri = (Vo0-Vo1)/Il;\n",
"disp (Ri,'The Resistance ri in Ohms')"
   ]
   }
],
"metadata": {
		  "kernelspec": {
		   "display_name": "Scilab",
		   "language": "scilab",
		   "name": "scilab"
		  },
		  "language_info": {
		   "file_extension": ".sce",
		   "help_links": [
			{
			 "text": "MetaKernel Magics",
			 "url": "https://github.com/calysto/metakernel/blob/master/metakernel/magics/README.md"
			}
		   ],
		   "mimetype": "text/x-octave",
		   "name": "scilab",
		   "version": "0.7.1"
		  }
		 },
		 "nbformat": 4,
		 "nbformat_minor": 0
}
