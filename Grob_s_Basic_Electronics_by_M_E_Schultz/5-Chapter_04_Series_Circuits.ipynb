{
"cells": [
 {
		   "cell_type": "markdown",
	   "metadata": {},
	   "source": [
       "# Chapter 5: Chapter 04 Series Circuits"
	   ]
	},
{
		   "cell_type": "markdown",
		   "metadata": {},
		   "source": [
			"## Example 4.1: Example_46.sce"
		   ]
		  },
  {
"cell_type": "code",
	   "execution_count": null,
	   "metadata": {
	    "collapsed": true
	   },
	   "outputs": [],
"source": [
"// Grob's Basic Electronics 11e\n",
"// Chapter No. 04\n",
"// Example No. 4_1\n",
"clc; clear;\n",
"// Two resistances R1 and R2 of 5 Ohms each and R3 of 10 Ohms are in series. How much is Rt?\n",
"\n",
"// Given data\n",
"\n",
"R1 = 5;     // Resistor 1=5 Ohms\n",
"R2 = 5;     // Resistor 2=5 Ohms\n",
"R3 = 10;    // Resistor 3=10 Ohms\n",
"\n",
"Rt = R1+R2+R3;\n",
"disp (Rt,'The Combined Series Resistance in Ohms')"
   ]
   }
,
{
		   "cell_type": "markdown",
		   "metadata": {},
		   "source": [
			"## Example 4.2: Example_47.sce"
		   ]
		  },
  {
"cell_type": "code",
	   "execution_count": null,
	   "metadata": {
	    "collapsed": true
	   },
	   "outputs": [],
"source": [
"// Grob's Basic Electronics 11e\n",
"// Chapter No. 04\n",
"// Example No. 4_2\n",
"clc; clear;\n",
"//With 80 V applied across the series string, how much is the current in R3?\n",
"\n",
"// Given data\n",
"\n",
"Rt = 20;     // Total Resistance=20 Ohms\n",
"Vt = 80;     // Applied Voltage=80 Volts\n",
"\n",
"I = Vt/Rt;\n",
"disp (I,'The Current in Resistor R3 connected in Series in Amps')"
   ]
   }
,
{
		   "cell_type": "markdown",
		   "metadata": {},
		   "source": [
			"## Example 4.3: Example_48.sce"
		   ]
		  },
  {
"cell_type": "code",
	   "execution_count": null,
	   "metadata": {
	    "collapsed": true
	   },
	   "outputs": [],
"source": [
"// Grob's Basic Electronics 11e\n",
"// Chapter No. 04\n",
"// Example No. 4_3\n",
"clc; clear;\n",
"// Solve for Rt, I and the individual resistor voltage drops at R1, R2, R3.\n",
"\n",
"// Given data\n",
"\n",
"R1 = 10;     // Resistor 1=10 Ohms\n",
"R2 = 20;     // Resistor 2=20 Ohms\n",
"R3 = 30;     // Resistor 3=30 Ohms\n",
"Vt = 12;     // Applied Voltage=12 Volts\n",
"\n",
"Rt = R1+R2+R3;\n",
"disp (Rt,'The combined series resistance in Ohms')\n",
"\n",
"I = Vt/Rt;\n",
"disp (I,'The current in Amps')\n",
"disp ('i.e 200 mA')\n",
"\n",
"V1 = I*R1\n",
"disp (V1,'The Voltage Drop of Resistor R1 in Volts')\n",
"\n",
"V2 = I*R2\n",
"disp (V2,'The Voltage Drop of Resistor R2 in Volts')\n",
"\n",
"V3 = I*R3\n",
"disp (V3,'The Voltage Drop of Resistor R3 in Volts')\n",
"\n",
""
   ]
   }
,
{
		   "cell_type": "markdown",
		   "metadata": {},
		   "source": [
			"## Example 4.4: Example_49.sce"
		   ]
		  },
  {
"cell_type": "code",
	   "execution_count": null,
	   "metadata": {
	    "collapsed": true
	   },
	   "outputs": [],
"source": [
"// Grob's Basic Electronics 11e\n",
"// Chapter No. 04\n",
"// Example No. 4_4\n",
"clc; clear;\n",
"// A voltage source produces an IR drop of 40 V across a 20 Ohms R1, 60 V across a 30 Ohms R2, and 180 V across a 90 Ohms R3, all in series. According to Kirchhoff’s voltage law, how much is the applied voltage Vt ?\n",
"\n",
"// Given data\n",
"\n",
"V1 = 40;     // Voltage drop at R1=40 Volts\n",
"V2 = 60;     // Voltage drop at R2=60 Volts\n",
"V3 = 180;    // Voltage drop at R3=180 Volts\n",
"\n",
"Vt = V1+V2+V3;\n",
"disp (Vt,'The Applied Voltage Vt in Volts')"
   ]
   }
,
{
		   "cell_type": "markdown",
		   "metadata": {},
		   "source": [
			"## Example 4.5: Example_50.sce"
		   ]
		  },
  {
"cell_type": "code",
	   "execution_count": null,
	   "metadata": {
	    "collapsed": true
	   },
	   "outputs": [],
"source": [
"// Grob's Basic Electronics 11e\n",
"// Chapter No. 04\n",
"// Example No. 4_5\n",
"clc; clear;\n",
"// An applied Vt of 120 V produces IR drops across two series resistors R 1 and R 2 If the voltage drop across R1 is 40 V, how much is the voltage drop across R2?\n",
"\n",
"// Given data\n",
"\n",
"V1 = 40;     // Voltage drop at R1=40 Volts\n",
"Vt = 120;    // Applied Voltage=120 Volts\n",
"\n",
"V2 = Vt-V1;\n",
"disp (V2,'The Voltage Drop across Resistor R2 in Volts')"
   ]
   }
,
{
		   "cell_type": "markdown",
		   "metadata": {},
		   "source": [
			"## Example 4.6: Example_51.sce"
		   ]
		  },
  {
"cell_type": "code",
	   "execution_count": null,
	   "metadata": {
	    "collapsed": true
	   },
	   "outputs": [],
"source": [
"// Grob's Basic Electronics 11e\n",
"// Chapter No. 04\n",
"// Example No. 4_6\n",
"clc; clear;\n",
"// Assume that the series circuit in Fig. 4–20 has failed. A technician troubleshooting the circuit used a voltmeter to record the following resistor voltage drops. V1=0 V; V2=0 V; V3=24 V; V4=0 V. Based on these voltmeter readings, which component is defective and what type of defect is it? (Assume that only one component is defective.)\n",
"\n",
"// Given data\n",
"\n",
"R1 = 150;     // Resistor 1=150 Ohms\n",
"R2 = 120;     // Resistor 2=120 Ohms\n",
"R3 = 180;     // Resistor 3=180 Ohms\n",
"R4 = 150;     // Resistor 4=150 Ohms\n",
"Vt = 24;      // Applied Voltage=24 Volts\n",
"\n",
"Rt = R1+R2+R3+R4;\n",
"\n",
"I = Vt/Rt;\n",
"\n",
"V1 = I*R1\n",
"disp (V1,'The Voltage Drop of Resistor R1 in Volts')\n",
"\n",
"V2 = I*R2\n",
"disp (V2,'The Voltage Drop of Resistor R2 in Volts')\n",
"\n",
"V3 = I*R3\n",
"disp (V3,'The Voltage Drop of Resistor R3 in Volts')\n",
"\n",
"V4 = I*R4\n",
"disp (V4,'The Voltage Drop of Resistor R4 in Volts')\n",
"\n",
"disp ('The Resistor R3 is defective since it is open circuit and drops all the voltage arround it')"
   ]
   }
,
{
		   "cell_type": "markdown",
		   "metadata": {},
		   "source": [
			"## Example 4.7: Example_52.sce"
		   ]
		  },
  {
"cell_type": "code",
	   "execution_count": null,
	   "metadata": {
	    "collapsed": true
	   },
	   "outputs": [],
"source": [
"// Grob's Basic Electronics 11e\n",
"// Chapter No. 04\n",
"// Example No. 4_7\n",
"clc; clear;\n",
"// Assume that the series circuit has failed. A technician troubleshooting the circuit used a voltmeter to record the following resistor voltage drops: V1  8 V;V2  6.4 V;V3  9.6 V;V4  0 V. Based on the voltmeter readings, which component is defective and what type of defect is it? (Assume that only one component is defective.)\n",
"\n",
"// Given data\n",
"\n",
"R1 = 150;     // Resistor 1=150 Ohms\n",
"R2 = 120;     // Resistor 2=120 Ohms\n",
"R3 = 180;     // Resistor 3=180 Ohms\n",
"R4 = 150;     // Resistor 4=150 Ohms\n",
"Vt = 24;      // Applied Voltage=24 Volts\n",
"\n",
"disp ('Calculated from the Circuit')\n",
"\n",
"Rt = R1+R2+R3+R4;\n",
"\n",
"I = Vt/Rt;\n",
"\n",
"V1 = I*R1\n",
"disp (V1,'The Voltage Drop of Resistor R1 in Volts')\n",
"\n",
"V2 = I*R2\n",
"disp (V2,'The Voltage Drop of Resistor R2 in Volts')\n",
"\n",
"V3 = I*R3\n",
"disp (V3,'The Voltage Drop of Resistor R3 in Volts')\n",
"\n",
"V4 = I*R4\n",
"disp (V4,'The Voltage Drop of Resistor R4 in Volts')\n",
"\n",
"disp ('The normal values for V1 , V2 , V3 , and V4 are 6 V, 4.8 V, 7.2 V, and 6 V, respectively. Comparing the calculated values with those measured reveals that V1 , V2 , and V3 have increased from their normal values. This indicates that the current has increased, which is why we have a larger voltage drop across these resistors. The measured value of 0 V for V4 shows a signifi cant drop from its normal value of 6 V. The only way this resistor can have 0 V, when all other resistors show an increase in voltage, is if R4 is shorted. Then V4=I*R4=I*0(Ohms)=0 V.')"
   ]
   }
],
"metadata": {
		  "kernelspec": {
		   "display_name": "Scilab",
		   "language": "scilab",
		   "name": "scilab"
		  },
		  "language_info": {
		   "file_extension": ".sce",
		   "help_links": [
			{
			 "text": "MetaKernel Magics",
			 "url": "https://github.com/calysto/metakernel/blob/master/metakernel/magics/README.md"
			}
		   ],
		   "mimetype": "text/x-octave",
		   "name": "scilab",
		   "version": "0.7.1"
		  }
		 },
		 "nbformat": 4,
		 "nbformat_minor": 0
}
