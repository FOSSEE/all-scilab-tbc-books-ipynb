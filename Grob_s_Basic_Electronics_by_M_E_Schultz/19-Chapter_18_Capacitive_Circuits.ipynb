{
"cells": [
 {
		   "cell_type": "markdown",
	   "metadata": {},
	   "source": [
       "# Chapter 19: Chapter 18 Capacitive Circuits"
	   ]
	},
{
		   "cell_type": "markdown",
		   "metadata": {},
		   "source": [
			"## Example 18.1: Example_114.sce"
		   ]
		  },
  {
"cell_type": "code",
	   "execution_count": null,
	   "metadata": {
	    "collapsed": true
	   },
	   "outputs": [],
"source": [
"// Grob's Basic Electronics 11e\n",
"// Chapter No. 18\n",
"// Example No. 18_1\n",
"clear; clc;\n",
"// If a R=30ohms and Xc=40ohms are in series with 100V applied, find the following: Zt, I, Vr, Vc and Theta z. What is the phase angle between Vc and Vr with respect to I? Prove that the sum of the series voltage drop equals the applied voltage Vt\n",
"\n",
"// Given data\n",
"\n",
"R = 30;     // Resistance=30 Ohms\n",
"Xc = 40;    // Capacitive Reactance=40 Ohms\n",
"Vt = 100;   // Applied Voltage=100 Volts\n",
"\n",
"R1 = R*R;\n",
"Xc1 = Xc*Xc;\n",
"\n",
"Zt = sqrt(R1+Xc1);\n",
"disp (Zt,'Zt in Ohms');\n",
"\n",
"I = (Vt/Zt);\n",
"disp (I, 'I in Ampers');\n",
"\n",
"Vr = I*R;\n",
"disp (Vr, 'Voltage Across Resistor in Volts');\n",
"\n",
"Vc = I*Xc;\n",
"disp (Vc, 'Voltage Across Capacitive Reactance in Volts');\n",
"\n",
"Oz = atand(-(Xc/R))\n",
"disp (Oz, 'Theta z is');\n",
"\n",
"//Prove that the sum of the series voltage drop equals the applied voltage Vt\n",
"\n",
"Vt = sqrt((Vr*Vr)+(Vc*Vc));\n",
"disp (Vt, 'Sum of Voltage Drop is Equal to Applied Voltage of 100V in Volts');"
   ]
   }
,
{
		   "cell_type": "markdown",
		   "metadata": {},
		   "source": [
			"## Example 18.2: Example_115.sce"
		   ]
		  },
  {
"cell_type": "code",
	   "execution_count": null,
	   "metadata": {
	    "collapsed": true
	   },
	   "outputs": [],
"source": [
"// Grob's Basic Electronics 11e\n",
"// Chapter No. 18\n",
"// Example No. 18_2\n",
"clc; clear;\n",
"// A 30-mA Ir is in parallel with another branch current of 40 mA for Ic. The applied voltage Va is 72 V. Calculate It, Zeq and Theta I.\n",
"\n",
"// Given data\n",
"\n",
"Ir = 30*10^-3;  // Current Ir=30 mA\n",
"Ic = 40*10^-3;  // Current Ic=40 mA\n",
"Va = 72;        // Applied Voltage=72 Volts\n",
"\n",
"A = Ir*Ir;\n",
"B = Ic*Ic;\n",
"\n",
"It = sqrt(A+B);\n",
"disp (It,'The Total Current in Amps')\n",
"disp ('i.e 50 mAmps')\n",
"\n",
"Zeq = Va/It;\n",
"disp (Zeq,'The Equivqlent Impedence in Ohms')\n",
"disp ('i.e 1.44 kOhms')\n",
"\n",
"Oi = atand (Ic/Ir);\n",
"disp (Oi,'The Value of Theta I in degrees')"
   ]
   }
],
"metadata": {
		  "kernelspec": {
		   "display_name": "Scilab",
		   "language": "scilab",
		   "name": "scilab"
		  },
		  "language_info": {
		   "file_extension": ".sce",
		   "help_links": [
			{
			 "text": "MetaKernel Magics",
			 "url": "https://github.com/calysto/metakernel/blob/master/metakernel/magics/README.md"
			}
		   ],
		   "mimetype": "text/x-octave",
		   "name": "scilab",
		   "version": "0.7.1"
		  }
		 },
		 "nbformat": 4,
		 "nbformat_minor": 0
}
