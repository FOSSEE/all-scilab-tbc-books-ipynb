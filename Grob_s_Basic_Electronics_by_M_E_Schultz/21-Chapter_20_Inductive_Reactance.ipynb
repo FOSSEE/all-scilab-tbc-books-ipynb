{
"cells": [
 {
		   "cell_type": "markdown",
	   "metadata": {},
	   "source": [
       "# Chapter 21: Chapter 20 Inductive Reactance"
	   ]
	},
{
		   "cell_type": "markdown",
		   "metadata": {},
		   "source": [
			"## Example 20.1: Example_137.sce"
		   ]
		  },
  {
"cell_type": "code",
	   "execution_count": null,
	   "metadata": {
	    "collapsed": true
	   },
	   "outputs": [],
"source": [
"// Grob's Basic Electronics 11e\n",
"// Chapter No. 20\n",
"// Example No. 20_1\n",
"clc; clear;\n",
"// How much is Xl of a 6-mH L at 41.67 kHz?\n",
"\n",
"// Given data\n",
"\n",
"f = 41.67*10^3;     // Frequency=41.67 kHz\n",
"L = 6*10^-3;        // Inductor=6 mH\n",
"\n",
"Xl = 2*%pi*f*L;\n",
"disp (Xl,'The Inductive Reactance in Ohms')"
   ]
   }
,
{
		   "cell_type": "markdown",
		   "metadata": {},
		   "source": [
			"## Example 20.2: Example_138.sce"
		   ]
		  },
  {
"cell_type": "code",
	   "execution_count": null,
	   "metadata": {
	    "collapsed": true
	   },
	   "outputs": [],
"source": [
"// Grob's Basic Electronics 11e\n",
"// Chapter No. 20\n",
"// Example No. 20_2\n",
"clc; clear;\n",
"// Calculate the Xl of (a) a 10-H L at 60 Hz and (b) a 5-H L at 60 Hz.\n",
"\n",
"// Given  data\n",
"\n",
"f = 60;     // Frequency=60 Hz\n",
"L1 = 10;    // Inductor 1=10 H\n",
"L2 = 5;     // Inductor 2=5 H\n",
"pi = 3.14\n",
"\n",
"Xl1 = 2*pi*f*L1;\n",
"disp (Xl1,'The Inductive Reactance in Ohms')\n",
"\n",
"Xl2 = 2*pi*f*L2;\n",
"disp (Xl2,'The Inductive Reactance in Ohms')"
   ]
   }
,
{
		   "cell_type": "markdown",
		   "metadata": {},
		   "source": [
			"## Example 20.3: Example_139.sce"
		   ]
		  },
  {
"cell_type": "code",
	   "execution_count": null,
	   "metadata": {
	    "collapsed": true
	   },
	   "outputs": [],
"source": [
"// Grob's Basic Electronics 11e\n",
"// Chapter No. 20\n",
"// Example No. 20_3\n",
"clc; clear;\n",
"// Calculate the Xl of a 250-uH coil at (a) 1 MHz and (b) 10 MHz.\n",
"\n",
"// Given data\n",
"\n",
"f1 = 1*10^6;    // Frequency1=1 MHz\n",
"f2 = 10*10^6;   // Frequency2=10 MHz\n",
"L = 250*10^-6;  // Inductor=250 uH\n",
"pi = 3.14;\n",
"\n",
"// For 1 Mhz\n",
"\n",
"Xl1 = 2*pi*f1*L;\n",
"disp (Xl1,'The Inductive Reactance in Ohms')\n",
"\n",
"// For 10 Mhz\n",
"\n",
"Xl2 = 2*pi*f2*L;\n",
"disp (Xl2,'The Inductive Reactance in Ohms')"
   ]
   }
,
{
		   "cell_type": "markdown",
		   "metadata": {},
		   "source": [
			"## Example 20.4: Example_140.sce"
		   ]
		  },
  {
"cell_type": "code",
	   "execution_count": null,
	   "metadata": {
	    "collapsed": true
	   },
	   "outputs": [],
"source": [
"// Grob's Basic Electronics 11e\n",
"// Chapter No. 20\n",
"// Example No. 20_4\n",
"clc; clear;\n",
"// A coil with negligible resistance has 62.8 V across it with 0.01 A of current. How much is Xl?\n",
"\n",
"// Given data\n",
"\n",
"Vl = 62.8;      // Voltage across coil=62.8 Volts\n",
"Il = 0.01;      // Current in coil=0.01 Amps\n",
"\n",
"Xl = Vl/Il;\n",
"disp (Xl,'The Inductive Reactance in Ohms')"
   ]
   }
,
{
		   "cell_type": "markdown",
		   "metadata": {},
		   "source": [
			"## Example 20.5: Example_141.sce"
		   ]
		  },
  {
"cell_type": "code",
	   "execution_count": null,
	   "metadata": {
	    "collapsed": true
	   },
	   "outputs": [],
"source": [
"// Grob's Basic Electronics 11e\n",
"// Chapter No. 20\n",
"// Example No. 20_5\n",
"clc; clear;\n",
"// Calculate L of the coil when the frequency is 1000 Hz.\n",
"\n",
"// Given data\n",
"\n",
"Xl = 6280;      // Inductive reactance=6280 Ohms\n",
"f = 1000;       // Frequency=1000 Hz\n",
"pi = 3.14;\n",
"\n",
"L = Xl/(2*pi*f);\n",
"disp (L,'The value of Inductor in Henry')"
   ]
   }
,
{
		   "cell_type": "markdown",
		   "metadata": {},
		   "source": [
			"## Example 20.6: Example_142.sce"
		   ]
		  },
  {
"cell_type": "code",
	   "execution_count": null,
	   "metadata": {
	    "collapsed": true
	   },
	   "outputs": [],
"source": [
"// Grob's Basic Electronics 11e\n",
"// Chapter No. 20\n",
"// Example No. 20_6\n",
"clc; clear;\n",
"// Calculate L of a coil that has 15,700 Ohms of Xl at 12 MHz.\n",
"\n",
"// Given data\n",
"\n",
"Xl = 15700;    // Inductive reactance=15700 Ohms\n",
"f = 12*10^6;   // Frequency=12 MHz\n",
"pi = 3.14;\n",
"\n",
"L = Xl/(2*pi*f);\n",
"disp (L,'The value of Inductor in Henry')\n",
"disp ('i.e Appox 208.8*10^-6 OR 208.8 uH')"
   ]
   }
,
{
		   "cell_type": "markdown",
		   "metadata": {},
		   "source": [
			"## Example 20.7: Example_143.sce"
		   ]
		  },
  {
"cell_type": "code",
	   "execution_count": null,
	   "metadata": {
	    "collapsed": true
	   },
	   "outputs": [],
"source": [
"// Grob's Basic Electronics 11e\n",
"// Chapter No. 20\n",
"// Example No. 20_7\n",
"clc; clear;\n",
"// At what frequency will an inductance of 1 H have a reactance of 1000 ?\n",
"\n",
"// Given data\n",
"\n",
"Xl = 1000;    // Inductive reactance=1000 Ohms\n",
"L = 1;        // Inductor=1 H\n",
"\n",
"f = Xl/(2*%pi*L);\n",
"disp (f,'The Frequency in Hertz')"
   ]
   }
],
"metadata": {
		  "kernelspec": {
		   "display_name": "Scilab",
		   "language": "scilab",
		   "name": "scilab"
		  },
		  "language_info": {
		   "file_extension": ".sce",
		   "help_links": [
			{
			 "text": "MetaKernel Magics",
			 "url": "https://github.com/calysto/metakernel/blob/master/metakernel/magics/README.md"
			}
		   ],
		   "mimetype": "text/x-octave",
		   "name": "scilab",
		   "version": "0.7.1"
		  }
		 },
		 "nbformat": 4,
		 "nbformat_minor": 0
}
