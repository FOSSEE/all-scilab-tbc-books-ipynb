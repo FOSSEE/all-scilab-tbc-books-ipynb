{
"cells": [
 {
		   "cell_type": "markdown",
	   "metadata": {},
	   "source": [
       "# Chapter 8: Chapter 07 Voltage and Current Dividers"
	   ]
	},
{
		   "cell_type": "markdown",
		   "metadata": {},
		   "source": [
			"## Example 7.1: Example_65.sce"
		   ]
		  },
  {
"cell_type": "code",
	   "execution_count": null,
	   "metadata": {
	    "collapsed": true
	   },
	   "outputs": [],
"source": [
"// Grob's Basic Electronics 11e\n",
"// Chapter No. 07\n",
"// Example No. 7_1\n",
"clc; clear;\n",
"// Three 50 Ohms resistors R1, R2 and R3 are in series across an applied voltage of 180 V. How much is the IR voltage drop across each resistor?\n",
"\n",
"// Given data\n",
"\n",
"R1 = 50*10^3;       // Resistor 1=50k Ohms\n",
"R2 = 50*10^3;       // Resistor 2=50k Ohms\n",
"R3 = 50*10^3;       // Resistor 3=50k Ohms\n",
"Vt = 180;           // Applied Voltage=180 Volts\n",
"\n",
"R = R1              // R = R1 = R2 = R3\n",
"Rt = R1+R2+R3;\n",
"V = Vt*(R/Rt);\n",
"disp (V,'The Voltage Drop across each Resistor in Volts')"
   ]
   }
],
"metadata": {
		  "kernelspec": {
		   "display_name": "Scilab",
		   "language": "scilab",
		   "name": "scilab"
		  },
		  "language_info": {
		   "file_extension": ".sce",
		   "help_links": [
			{
			 "text": "MetaKernel Magics",
			 "url": "https://github.com/calysto/metakernel/blob/master/metakernel/magics/README.md"
			}
		   ],
		   "mimetype": "text/x-octave",
		   "name": "scilab",
		   "version": "0.7.1"
		  }
		 },
		 "nbformat": 4,
		 "nbformat_minor": 0
}
