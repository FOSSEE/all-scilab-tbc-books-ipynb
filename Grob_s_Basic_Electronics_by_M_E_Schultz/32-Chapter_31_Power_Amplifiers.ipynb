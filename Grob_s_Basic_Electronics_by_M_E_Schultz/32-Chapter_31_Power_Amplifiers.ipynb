{
"cells": [
 {
		   "cell_type": "markdown",
	   "metadata": {},
	   "source": [
       "# Chapter 32: Chapter 31 Power Amplifiers"
	   ]
	},
{
		   "cell_type": "markdown",
		   "metadata": {},
		   "source": [
			"## Example 31.1: Example_227.sce"
		   ]
		  },
  {
"cell_type": "code",
	   "execution_count": null,
	   "metadata": {
	    "collapsed": true
	   },
	   "outputs": [],
"source": [
"// Grob's Basic Electronics 11e\n",
"// Chapter No. 31\n",
"// Example No. 31_1\n",
"clear; clc;\n",
"// Calculate the following dc quantities Icq, Vceq, Pd, Ic(sat) and Vce(off). Also draw the dc load line\n",
"\n",
"// Given Data\n",
"\n",
"R1 = 18*10^3;       // Resistor 1=18k Ohms\n",
"R2 = 2.7*10^3;      // Resistor 2=2.7k Ohms\n",
"Vcc = 20;           // Supply Voltage(Collector)=20 Volts\n",
"Vbe = 0.7;          // Voltage Base-Emitter=0.7 Volts\n",
"Re = 240;           // Emitter Resistor=240 Ohms\n",
"Rc = 1*10^3;        // Collector Resistor=1k Ohms\n",
"\n",
"Vb = Vcc*(R2/(R1+R2));\n",
"\n",
"Ve = Vb-Vbe;\n",
"\n",
"//Ie = Ic;\n",
"\n",
"Icq = Ve/Re;\n",
"disp (Icq,'The value of Icq in Amps')\n",
"disp ('i.e Appox 7.91 mAmps')\n",
"\n",
"Vceq = Vcc-Icq*(Rc+Re);\n",
"disp (Vceq,'The value of Vceq in Volts')\n",
"disp ('Appox 10.19 Volts')\n",
"\n",
"Pd = Vceq*Icq;\n",
"disp (Pd,'The Power Dissipation in Watts')\n",
"disp ('i.e 80.6 mWatts')\n",
"\n",
"Icsat = Vcc/(Rc+Re);\n",
"disp (Icsat,'The value of Ic(sat) in Amps')\n",
"disp ('i.e 16.1 mAmps')\n",
"\n",
"Vceoff = Vcc;\n",
"disp (Vceoff,'The value of Vce(off) in Volts')\n",
"\n",
"// For DC load line\n",
"\n",
"Vce1=[Vceoff Vceq 0]\n",
"Ic1=[0 Icq Icsat]\n",
"\n",
"//To plot DC load line\n",
"\n",
"printf('Q(%f,%f)\n',Vceq,Icq)\n",
"plot2d(Vce1, Ic1)\n",
"plot(Vceq,Icq,'.r')\n",
"plot(0,Icq,'.r')\n",
"plot(Vceq,0,'.r')\n",
"plot(0,Icsat,'.b')\n",
"plot(Vceoff,0,'.b')\n",
"xlabel('Vce in volt')\n",
"ylabel('Ic in Ampere')\n",
"xtitle('DC Load-line for Common-Emitter Class A Amplifier Circuit')\n",
""
   ]
   }
,
{
		   "cell_type": "markdown",
		   "metadata": {},
		   "source": [
			"## Example 31.2: Example_228.sce"
		   ]
		  },
  {
"cell_type": "code",
	   "execution_count": null,
	   "metadata": {
	    "collapsed": true
	   },
	   "outputs": [],
"source": [
"// Grob's Basic Electronics 11e\n",
"// Chapter No. 31\n",
"// Example No. 31_2\n",
"clc; clear;\n",
"// Claculate the following AC quantities Av, Vout, Pl, Pcc and percent efficiency. Also calculate the endpoints of ac loadline\n",
"\n",
"// Given data\n",
"\n",
"Icq = 7.91*10^-3;       // Collector Currect(Q-point)=7.91 mAmps\n",
"Rl = 1.5*10^3;          // Load Resistor=1.5 kOhms\n",
"Rc = 1*10^3;            // Collector Resistor=1 kOhms\n",
"Vin = 25*10^-3;         // Input Voltage=25 mVolts(p-p)\n",
"R1 = 18*10^3;           // Resistor 1=18 kOhms\n",
"R2 = 2.7*10^3;          // Resistor 2=2.7 kOhms\n",
"Vcc = 20;               // Supply Voltage(Collector)=20 Volts\n",
"Vceq = 10.19;           // Voltage Colector-Emitter(Q-point)=10.19 Volts\n",
"\n",
"rc = (25*10^-3)/Icq;\n",
"rl = (Rc*Rl)/(Rc+Rl)\n",
"\n",
"Av = rl/rc;\n",
"disp (Av,'The Voltage Gain Av is')\n",
"disp ('Appox 190')\n",
"\n",
"Vout = Av*Vin;\n",
"disp (Vout,'The Output Voltage in Volts')\n",
"disp ('Appox 4.75 Volts')\n",
"\n",
"Pl = (Vout*Vout)/(8*Rl);\n",
"disp (Pl,'The Load Power in Watts')\n",
"disp ('i.e Appox 1.88 mWatts')\n",
"\n",
"Ivd = Vcc/(R1+R2);\n",
"// Ic = Icq\n",
"Icc = Ivd+Icq;\n",
"\n",
"Pcc = Vcc*Icc;\n",
"disp (Pcc,'The Dc Input Power in Watts')\n",
"disp ('i.e Appox 177.4 mWatts')\n",
"\n",
"efficiency = ((Pl/Pcc)*100);\n",
"disp (efficiency,'The Efficiency in % is')\n",
"disp ('Appox 1%')\n",
"\n",
"// Endpoints of AC load line\n",
"\n",
"icsat = Icq+(Vceq/rl);\n",
"disp (icsat,'The Y-axis Value of AC Load-line is ic(sat) in Amps')\n",
"disp ('i.e 24.89 mAmps')\n",
"\n",
"vceoff = Vceq+Icq*rl;\n",
"disp (vceoff,'The X-axis value of AC Load-line is vce(off) in Volts')\n",
"\n",
"// For AC load line\n",
"\n",
"Vce1=[vceoff Vceq 0]\n",
"Ic1=[0 Icq icsat]\n",
"\n",
"//To plot AC load line\n",
"\n",
"printf('Q(%f,%f)\n',Vceq,Icq)\n",
"plot2d(Vce1, Ic1)\n",
"plot(Vceq,Icq,'.r')\n",
"plot(0,Icq,'.r')\n",
"plot(Vceq,0,'.r')\n",
"plot(0,icsat,'.b')\n",
"plot(vceoff,0,'.b')\n",
"xlabel('Vce in volt')\n",
"ylabel('Ic in Ampere')\n",
"xtitle('AC Load-line for Common-Emitter Class A Amplifier Circuit')"
   ]
   }
,
{
		   "cell_type": "markdown",
		   "metadata": {},
		   "source": [
			"## Example 31.3: Example_229.sce"
		   ]
		  },
  {
"cell_type": "code",
	   "execution_count": null,
	   "metadata": {
	    "collapsed": true
	   },
	   "outputs": [],
"source": [
"// Grob's Basic Electronics 11e\n",
"// Chapter No. 31\n",
"// Example No. 31_3\n",
"clear; clc;\n",
"//Calculate the following quantities: Pl, Pcc, Pdmax & percent efficiency\n",
"\n",
"// Given data\n",
"\n",
"Vin = 20;       // Input Voltage=20 Volts(p-p)\n",
"Vopp = 20;      // Output Voltage(p-p)=20 Volts(p-p)\n",
"Vcc = 24;       // Supply Voltage(Collector)=24 Volts\n",
"Vop = 10;       // Output Voltage(peak)=10 Volts\n",
"Rl = 8;         // Load Resistor=8 Ohms\n",
"\n",
"Vopp1 = Vopp*Vopp;\n",
"Pl = (Vopp1/(8*Rl));\n",
"disp (Pl,'The Load Power in Watts');\n",
"\n",
"Icc = ((Vop/Rl)*0.318);\n",
"\n",
"Pcc = Vcc*Icc\n",
"disp (Pcc,'The DC Input Power in Watts');\n",
"\n",
"eff = ((Pl/Pcc)*100);\n",
"disp (eff,'The Efficiency in % is');\n",
"\n",
"Pd = (Vcc*Vcc)/(40*Rl);\n",
"disp (Pd,'The Maximum Power Dissipation in Watts');"
   ]
   }
,
{
		   "cell_type": "markdown",
		   "metadata": {},
		   "source": [
			"## Example 31.4: Example_230.sce"
		   ]
		  },
  {
"cell_type": "code",
	   "execution_count": null,
	   "metadata": {
	    "collapsed": true
	   },
	   "outputs": [],
"source": [
"// Grob's Basic Electronics 11e\n",
"// Chapter No. 31\n",
"// Example No. 31_4\n",
"clear; clc;\n",
"// Calculate the following quantities Pl, Pcc & percent efficiency\n",
"\n",
"// Given data\n",
"\n",
"Rl = 8;             // Load Resistor=8 Ohms\n",
"Vopp = 50;          // Output Voltage(p-p)=50 Volts(p-p)\n",
"Vcc = 30;           // Supply Voltage(Collector)=30 Volts\n",
"Vopk = Vopp/2;      // Output Voltage(peak)\n",
"\n",
"Pl = (Vopp*Vopp)/(8*Rl);\n",
"disp (Pl,'The Load Power in Watts');\n",
"\n",
"Pcc = Vcc*0.636*(Vopk/Rl);\n",
"disp (Pcc,'The DC Input Power in Watts')\n",
"\n",
"efficiency = ((Pl/Pcc)*100);\n",
"disp (efficiency,'The Efficiency in % is');"
   ]
   }
,
{
		   "cell_type": "markdown",
		   "metadata": {},
		   "source": [
			"## Example 31.5: Example_231.sce"
		   ]
		  },
  {
"cell_type": "code",
	   "execution_count": null,
	   "metadata": {
	    "collapsed": true
	   },
	   "outputs": [],
"source": [
"// Grob's Basic Electronics 11e\n",
"// Chapter No. 31\n",
"// Example No. 31_5\n",
"clear; clc;\n",
"// Calculate the fr of LC tank circuit and dc bias voltage at base\n",
"\n",
"// Given data\n",
"\n",
"L = 100*10^-6;      // Inductor=100 uHenry\n",
"C = 63.325*10^-12;  // Capacitor=63.325 pFarad\n",
"Vin = 1.5;          // Input Voltage(peak)=1.5 Volts\n",
"Vbe = 0.7;          // Voltage Base-Emitter=0.7 Volts\n",
"\n",
"A = sqrt(L*C);\n",
"fr = 1/(2*3.14*A);\n",
"disp (fr,'The Resonant Frequency in Hertz')\n",
"disp ('i.e 2 MHz')\n",
"\n",
"Vdc = (Vin-Vbe);\n",
"disp (Vdc,'The DC Bias Voltage at Base in Volts')"
   ]
   }
,
{
		   "cell_type": "markdown",
		   "metadata": {},
		   "source": [
			"## Example 31.6: Example_232.sce"
		   ]
		  },
  {
"cell_type": "code",
	   "execution_count": null,
	   "metadata": {
	    "collapsed": true
	   },
	   "outputs": [],
"source": [
"// Grob's Basic Electronics 11e\n",
"// Chapter No. 31\n",
"// Example No. 31_6\n",
"clc; clear;\n",
"// Calculate the minimum base reisitance Rb, necessary to provide clamping action\n",
"\n",
"// Given data\n",
"\n",
"C = 0.01*10^-6;     // Capacitor=0.01 uFarad\n",
"fr = 2*10^6;        // Resonant Frequency=2 MHertz\n",
"\n",
"fin = fr\n",
"T = 1/fin\n",
"\n",
"Rb = 10*T/C\n",
"disp (Rb,'The Minimum Base Reisitance Rb to Provide Clamping Action in Ohms')"
   ]
   }
,
{
		   "cell_type": "markdown",
		   "metadata": {},
		   "source": [
			"## Example 31.7: Example_233.sce"
		   ]
		  },
  {
"cell_type": "code",
	   "execution_count": null,
	   "metadata": {
	    "collapsed": true
	   },
	   "outputs": [],
"source": [
"// Grob's Basic Electronics 11e\n",
"// Chapter No. 31\n",
"// Example No. 31_7\n",
"clc; clear;\n",
"// Calculate the Bandwidth\n",
"\n",
"// Given data\n",
"\n",
"L = 100*10^-6;      // Inductor=100 uHenry\n",
"fr = 2*10^6;        // Resonant Frequency=2 MHertz\n",
"ri = 12.56;         // Resistance of Coil=12.56 Ohms\n",
"Rp = 100*10^3;      // Rp=100 kOhms\n",
"\n",
"Xl = 2*3.14*fr*L;\n",
"Qcoil = Xl/ri;\n",
"Ztank = Qcoil*Xl;\n",
"\n",
"A = Ztank;\n",
"B = Rp;\n",
"C = (A*B)/(A+B);\n",
"Qckt = C/Xl;\n",
"\n",
"BW = fr/Qckt;\n",
"disp (BW,'The Bandwidth in Hertz')\n",
"disp ('i.e Appox 45 kHz')"
   ]
   }
],
"metadata": {
		  "kernelspec": {
		   "display_name": "Scilab",
		   "language": "scilab",
		   "name": "scilab"
		  },
		  "language_info": {
		   "file_extension": ".sce",
		   "help_links": [
			{
			 "text": "MetaKernel Magics",
			 "url": "https://github.com/calysto/metakernel/blob/master/metakernel/magics/README.md"
			}
		   ],
		   "mimetype": "text/x-octave",
		   "name": "scilab",
		   "version": "0.7.1"
		  }
		 },
		 "nbformat": 4,
		 "nbformat_minor": 0
}
