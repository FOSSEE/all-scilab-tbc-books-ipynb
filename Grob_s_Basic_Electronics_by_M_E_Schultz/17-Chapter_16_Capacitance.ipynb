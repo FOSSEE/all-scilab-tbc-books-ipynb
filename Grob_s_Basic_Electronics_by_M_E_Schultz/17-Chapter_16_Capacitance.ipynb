{
"cells": [
 {
		   "cell_type": "markdown",
	   "metadata": {},
	   "source": [
       "# Chapter 17: Chapter 16 Capacitance"
	   ]
	},
{
		   "cell_type": "markdown",
		   "metadata": {},
		   "source": [
			"## Example 16.10: Example_104.sce"
		   ]
		  },
  {
"cell_type": "code",
	   "execution_count": null,
	   "metadata": {
	    "collapsed": true
	   },
	   "outputs": [],
"source": [
"// Grob's Basic Electronics 11e\n",
"// Chapter No. 16\n",
"// Example No. 16_10\n",
"clc; clear;\n",
"// For the tantalum capacitor shown in Fig. 16–21, determine the capacitance C in both pF and uF units. Also, determine the voltage rating and tolerance.\n",
"\n",
"disp ('Moving from top to bottom, the first two color bands are yellow and violet, which represent the digits 4 and 7, respectively. The third color band is blue, indicating a multiplier of 1,000,000. Therefore the capacitance C is 47*1,000,000 = 47,000,000 pF, or 47 uF. The blue color at the left indicates a voltage rating of 35 V. And, finally, the silver dot at the very top indicates a tolerance of +-10%.')"
   ]
   }
,
{
		   "cell_type": "markdown",
		   "metadata": {},
		   "source": [
			"## Example 16.11: Example_105.sce"
		   ]
		  },
  {
"cell_type": "code",
	   "execution_count": null,
	   "metadata": {
	    "collapsed": true
	   },
	   "outputs": [],
"source": [
"// Grob's Basic Electronics 11e\n",
"// Chapter No. 16\n",
"// Example No. 16_11\n",
"clc; clear;\n",
"// The high-voltage circuit for a color picture tube can have 30 kV across 500 pF of C . Calculate the stored energy.\n",
"\n",
"// Given data\n",
"\n",
"V = 30*10^3;         // Voltage=30 kVolts\n",
"C = 500*10^-12;      // Cap=500 pFarad\n",
"\n",
"E = 0.5*C*V*V\n",
"disp (E,'The Energy Stored in Joules')"
   ]
   }
,
{
		   "cell_type": "markdown",
		   "metadata": {},
		   "source": [
			"## Example 16.12: Example_106.sce"
		   ]
		  },
  {
"cell_type": "code",
	   "execution_count": null,
	   "metadata": {
	    "collapsed": true
	   },
	   "outputs": [],
"source": [
"// Grob's Basic Electronics 11e\n",
"// Chapter No. 16\n",
"// Example No. 16_12\n",
"clc; clear;\n",
"//Suppose a film capacitor, coded 393J, is being measured using the meter shown in Fig. 16–25. If the meter reads 37.6 on the 200-nF range, (a) What is the capacitance value in picofarad units? (b) Is the measured capacitance value within its specified tolerance?\n",
"\n",
"disp ('The capacitor code, 393J, corresponds to a capacitance value of 39,000 pF +-5%.')\n",
"disp ('(a) A reading of 37.6 on the 200-nF range corresponds to a capacitance of 37.6 nF. To convert 37.6 nF to picofarad units, move the decimal point three places to the right. This gives an answer of 37,600 pF.')\n",
"disp ('(b) The acceptable capacitance range is calculated as follows: 39,000 pF * 0.05 = +-1950 pF. Therefore, the measured value of capacitance can range anywhere from 37,050 pF to 40,950 pF and still be considered within tolerance.')\n",
"\n",
"disp('Note that in nanofarad units, this corresponds to a range of 37.05 to 40.95 nF. Since the measured value of 37.6 nF falls within this range, the measured capacitance value is within tolerance.')"
   ]
   }
,
{
		   "cell_type": "markdown",
		   "metadata": {},
		   "source": [
			"## Example 16.1: Example_95.sce"
		   ]
		  },
  {
"cell_type": "code",
	   "execution_count": null,
	   "metadata": {
	    "collapsed": true
	   },
	   "outputs": [],
"source": [
"// Grob's Basic Electronics 11e\n",
"// Chapter No. 16\n",
"// Example No. 16_1\n",
"clc; clear;\n",
"// How much charge is stored in a 2 uF capacitor connected across a 50-V supply?\n",
"\n",
"// Given data\n",
"\n",
"V = 50;         // Voltage=50 Volts\n",
"C = 2*10^-6;    // Capacitor=2 uFarad\n",
"\n",
"Q = C*V;\n",
"disp (Q,'The Charge Stored in Columb')\n",
"disp ('i.e 100*10^-6 Columbs')"
   ]
   }
,
{
		   "cell_type": "markdown",
		   "metadata": {},
		   "source": [
			"## Example 16.2: Example_96.sce"
		   ]
		  },
  {
"cell_type": "code",
	   "execution_count": null,
	   "metadata": {
	    "collapsed": true
	   },
	   "outputs": [],
"source": [
"// Grob's Basic Electronics 11e\n",
"// Chapter No. 16\n",
"// Example No. 16_2\n",
"clc; clear;\n",
"// How much charge is stored in a 40 uF capacitor connected across a 50-V supply?\n",
"\n",
"// Given data\n",
"\n",
"V = 50;         // Voltage=50 Volts\n",
"C = 40*10^-6;   // Capacitor=2 uFarad\n",
"\n",
"Q = C*V;\n",
"disp (Q,'The Charge Stored in Columb')\n",
"disp ('i.e 2000*10^-6 Columbs')"
   ]
   }
,
{
		   "cell_type": "markdown",
		   "metadata": {},
		   "source": [
			"## Example 16.3: Example_97.sce"
		   ]
		  },
  {
"cell_type": "code",
	   "execution_count": null,
	   "metadata": {
	    "collapsed": true
	   },
	   "outputs": [],
"source": [
"// Grob's Basic Electronics 11e\n",
"// Chapter No. 16\n",
"// Example No. 16_3\n",
"clc; clear;\n",
"// A constant current of 2 uA charges a capacitor for 20 s. How much charge is stored? Remember I=Q/t or Q=I*t.\n",
"\n",
"// Given data\n",
"\n",
"I = 2*10^-6;        // Current=2 uAmps\n",
"t = 20;             // Time=20 Sec\n",
"\n",
"Q = I*t\n",
"disp (Q,'The Charge Stored in Columb')\n",
"disp ('i.e 40*10^-6 Columbs OR 40 uColumb')"
   ]
   }
,
{
		   "cell_type": "markdown",
		   "metadata": {},
		   "source": [
			"## Example 16.4: Example_98.sce"
		   ]
		  },
  {
"cell_type": "code",
	   "execution_count": null,
	   "metadata": {
	    "collapsed": true
	   },
	   "outputs": [],
"source": [
"// Grob's Basic Electronics 11e\n",
"// Chapter No. 16\n",
"// Example No. 16_4\n",
"clc; clear;\n",
"// The voltage across the charged capacitor is 20 V. Calculate C.\n",
"\n",
"//Given data\n",
"\n",
"V = 20;         // Voltage=20 Volts\n",
"Q = 40*10^-6;   // Charge=40 uColumb\n",
"\n",
"C = Q/V\n",
"disp (C,'The Capacitance in Farad')\n",
"disp ('i.e 2 uF')"
   ]
   }
,
{
		   "cell_type": "markdown",
		   "metadata": {},
		   "source": [
			"## Example 16.5: Example_99.sce"
		   ]
		  },
  {
"cell_type": "code",
	   "execution_count": null,
	   "metadata": {
	    "collapsed": true
	   },
	   "outputs": [],
"source": [
"// Grob's Basic Electronics 11e\n",
"// Chapter No. 16\n",
"// Example No. 16_5\n",
"clc; clear;\n",
"// A constant current of 5 mA charges a 10 uF capacitor for 1 s. How much is the voltage across the capacitor?\n",
"\n",
"// Given data\n",
"\n",
"I = 5*10^-3;       // Current=5 mAmps\n",
"t = 1;             // Time=1 Sec\n",
"C = 10*10^-6;      // Cap=10 uFarad\n",
"\n",
"Q = I*t;\n",
"\n",
"V = Q/C;\n",
"disp (V,'The Voltage across Capacitor in Volts')"
   ]
   }
,
{
		   "cell_type": "markdown",
		   "metadata": {},
		   "source": [
			"## Example 16.6: Example_100.sce"
		   ]
		  },
  {
"cell_type": "code",
	   "execution_count": null,
	   "metadata": {
	    "collapsed": true
	   },
	   "outputs": [],
"source": [
"// Grob's Basic Electronics 11e\n",
"// Chapter No. 16\n",
"// Example No. 16_6\n",
"clc; clear;\n",
"// Calculate C for two plates, each with an area 2 sqm, separated by 1 cm with a dielectric of air.\n",
"\n",
"// Given data\n",
"\n",
"c = 8.85*10^-12;    // Constant=8.85 p\n",
"A = 2;              // Area=2 sqm\n",
"d = 1*10^-2;        // Distance=1 cm\n",
"K = 1               // Permeability=1\n",
"\n",
"C = K*c*(A/d);\n",
"disp (C,'The Capacitance in Farad')\n",
"disp ('i.e 1700*10^-12 F OR 1770 pF')"
   ]
   }
,
{
		   "cell_type": "markdown",
		   "metadata": {},
		   "source": [
			"## Example 16.7: Example_101.sce"
		   ]
		  },
  {
"cell_type": "code",
	   "execution_count": null,
	   "metadata": {
	    "collapsed": true
	   },
	   "outputs": [],
"source": [
"// Grob's Basic Electronics 11e\n",
"// Chapter No. 16\n",
"// Example No. 16_7\n",
"clc; clear;\n",
"// Determine the value of cpacitance for the film capacitors in Fig. 16-12a and b\n",
"\n",
"disp ('In Fig. 16–12a , the first two numbers are 5 and 6, respectively, for 56 as the first two digits in the numerical value of the capacitance. The third number, 3, indicates a multiplier of 1000, or 56*1000 = 56,000 pF. The letter J indicates a capacitor tolerance of +-5%.')\n",
"disp ('In Fig. 16–12b , the first two numbers are 4 and 7, respectively, for 47 as the first two digits in the numerical value of the capacitance. The third number, 9, indicates a fractional multiplier of 0.1, or 47*0.1 = 4.7 pF. The letter C indicates a capacitor tolerance of +-0.25 pF.')"
   ]
   }
,
{
		   "cell_type": "markdown",
		   "metadata": {},
		   "source": [
			"## Example 16.8: Example_102.sce"
		   ]
		  },
  {
"cell_type": "code",
	   "execution_count": null,
	   "metadata": {
	    "collapsed": true
	   },
	   "outputs": [],
"source": [
"// Grob's Basic Electronics 11e\n",
"// Chapter No. 16\n",
"// Example No. 16_8\n",
"clc; clear;\n",
"// In Fig. 16–14, determine (a) the capacitance value and tolerance; (b) the temperature-range identification information.\n",
"\n",
"disp ('(a) Since the capacitance is expressed as a decimal fraction, its value is in microfarads. In this case, C = 0.047 uF. The letter Z, to the right of 0.047, indicates a capacitor tolerance of +80%, -20%. Notice that the actual capacitance value can be as much as 80% above its coded value but only 20% below its coded value.')\n",
"\n",
"disp ('(b) The alphanumeric code, Z5V, printed below the capacitance value, provides additional capacitor information. The letter Z and number 5 indicate the low and high temperatures of +10°C and +85°C, respectively. The letter V indicates that the maximum capacitance change over the specified temperature range (10°C to 85°C) is +22%, +82%. For temperature changes less than the range indicated, the percent change in capacitance will be less than that indicated.')"
   ]
   }
,
{
		   "cell_type": "markdown",
		   "metadata": {},
		   "source": [
			"## Example 16.9: Example_103.sce"
		   ]
		  },
  {
"cell_type": "code",
	   "execution_count": null,
	   "metadata": {
	    "collapsed": true
	   },
	   "outputs": [],
"source": [
"// Grob's Basic Electronics 11e\n",
"// Chapter No. 16\n",
"// Example No. 16_9\n",
"clc; clear;\n",
"// Determine the capacitance and tolerance for the capacitor in Fig. 16–15.\n",
"\n",
"disp ('The dots in the top row are read from left to right in the direction of the arrow. In the bottom row, they are read in the reverse order from right to left. The first dot at the left in the top row is black, indicating a mica capacitor. The next two color dots are blue and red, for 62 as the first two digits in the numerical value of the capacitance. The next dot, at the far right in the bottom row, is red, indicating a multiplier of 100. Therefore, C = 62*100 = 6200 pF. The next dot is gold, indicating a capacitor tolerance of +-5%.')"
   ]
   }
],
"metadata": {
		  "kernelspec": {
		   "display_name": "Scilab",
		   "language": "scilab",
		   "name": "scilab"
		  },
		  "language_info": {
		   "file_extension": ".sce",
		   "help_links": [
			{
			 "text": "MetaKernel Magics",
			 "url": "https://github.com/calysto/metakernel/blob/master/metakernel/magics/README.md"
			}
		   ],
		   "mimetype": "text/x-octave",
		   "name": "scilab",
		   "version": "0.7.1"
		  }
		 },
		 "nbformat": 4,
		 "nbformat_minor": 0
}
