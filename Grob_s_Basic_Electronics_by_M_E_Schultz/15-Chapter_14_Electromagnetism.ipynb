{
"cells": [
 {
		   "cell_type": "markdown",
	   "metadata": {},
	   "source": [
       "# Chapter 15: Chapter 14 Electromagnetism"
	   ]
	},
{
		   "cell_type": "markdown",
		   "metadata": {},
		   "source": [
			"## Example 14.1: Example_81.sce"
		   ]
		  },
  {
"cell_type": "code",
	   "execution_count": null,
	   "metadata": {
	    "collapsed": true
	   },
	   "outputs": [],
"source": [
"// Grob's Basic Electronics 11e\n",
"// Chapter No. 14\n",
"// Example No. 14_1\n",
"clc; clear;\n",
"// Calculate the ampere-turns of mmf for a coil with 2000 turns and a 5-mA current.\n",
"\n",
"// Given data\n",
"\n",
"I = 5*10^-3;        // Current=5 mAmps\n",
"N = 2000;           // No. of Turns=2000\n",
"\n",
"mmf = I*N;\n",
"disp (mmf,'The Amps-Turn (A.t) of Magneto-Motive Force (mmf) in A.t')"
   ]
   }
,
{
		   "cell_type": "markdown",
		   "metadata": {},
		   "source": [
			"## Example 14.2: Example_82.sce"
		   ]
		  },
  {
"cell_type": "code",
	   "execution_count": null,
	   "metadata": {
	    "collapsed": true
	   },
	   "outputs": [],
"source": [
"// Grob's Basic Electronics 11e\n",
"// Chapter No. 14\n",
"// Example No. 14_2\n",
"clc; clear;\n",
"// A coil with 4 A is to provide a magnetizing force of 600 A t. How many turns are necessary?\n",
"\n",
"// Given data\n",
"\n",
"I = 4;        // Current=4 Amps\n",
"mmf = 600;    // Magnetizing Force=600 A.t\n",
"\n",
"N = mmf/I;\n",
"disp (N,'The Turns necessary are')"
   ]
   }
,
{
		   "cell_type": "markdown",
		   "metadata": {},
		   "source": [
			"## Example 14.3: Example_83.sce"
		   ]
		  },
  {
"cell_type": "code",
	   "execution_count": null,
	   "metadata": {
	    "collapsed": true
	   },
	   "outputs": [],
"source": [
"// Grob's Basic Electronics 11e\n",
"// Chapter No. 14\n",
"// Example No. 14_3\n",
"clc; clear;\n",
"// A coil with 400 turns must provide 800 A t of magnetizing force. How much current is necessary?\n",
"\n",
"// Given data\n",
"\n",
"mmf = 800;    // Magnetizing Force=800 A.t\n",
"N = 400;      // No. of Turns=400\n",
"\n",
"I = mmf/N;\n",
"disp (I,'The Current necessary in Amps')"
   ]
   }
,
{
		   "cell_type": "markdown",
		   "metadata": {},
		   "source": [
			"## Example 14.4: Example_84.sce"
		   ]
		  },
  {
"cell_type": "code",
	   "execution_count": null,
	   "metadata": {
	    "collapsed": true
	   },
	   "outputs": [],
"source": [
"// Grob's Basic Electronics 11e\n",
"// Chapter No. 14\n",
"// Example No. 14_4\n",
"clc; clear;\n",
"// The wire in a solenoid of 250 turns has a resistance of 3 Ohms. (a)How much is the current when the coil is connected to a 6-V battery? (b) Calculate the ampereturns of mmf.\n",
"\n",
"// Given data\n",
"\n",
"V = 6;             // Voltage=6 Volts\n",
"R = 3;             // Resistance=3 Ohms\n",
"N = 250;           // No. of Turns=250\n",
"\n",
"I = V/R;\n",
"disp (I,'The Current necessary when a wire is connected to 6-V Battery in Amps')\n",
"\n",
"mmf = I*N;\n",
"disp (mmf,'The Amps-Turn (A.t) of Magneto-Motive Force (mmf) in A.t')"
   ]
   }
,
{
		   "cell_type": "markdown",
		   "metadata": {},
		   "source": [
			"## Example 14.5: Example_85.sce"
		   ]
		  },
  {
"cell_type": "code",
	   "execution_count": null,
	   "metadata": {
	    "collapsed": true
	   },
	   "outputs": [],
"source": [
"// Grob's Basic Electronics 11e\n",
"// Chapter No. 14\n",
"// Example No. 14_5\n",
"clc; clear;\n",
"// A magnetic material has a ur of 500. Calculate the absolute u as B/H (a) in CGS units and (b) in SI units.\n",
"\n",
"// Given data\n",
"\n",
"ur = 500;         // ur=500\n",
"uoa = 1;          // uo for CGS Units=1\n",
"uob = 1.26*10^-6; // uo for SI Units=1.26 u\n",
"\n",
"ua = ur*uoa;\n",
"disp (ua,'The Absolute u as B/H in CGS in (G/Oe)')\n",
"\n",
"ub = ur*uob;\n",
"disp (ub,'The Absolute u as B/H in SI in (T/(A.t/m))')\n",
"disp ('i.e 630*10^-6 T/(A.t/m)')"
   ]
   }
,
{
		   "cell_type": "markdown",
		   "metadata": {},
		   "source": [
			"## Example 14.6: Example_86.sce"
		   ]
		  },
  {
"cell_type": "code",
	   "execution_count": null,
	   "metadata": {
	    "collapsed": true
	   },
	   "outputs": [],
"source": [
"// Grob's Basic Electronics 11e\n",
"// Chapter No. 14\n",
"// Example No. 14_6\n",
"clc; clear;\n",
"// u = 630*10^-6 in SI units, calculate the flux density B that will be produced by the field intensity H equal to 1000 A.t/m.\n",
"\n",
"// Given data\n",
"\n",
"u = 630*10^-6;      // u=630 micro T/(A.t/m)\n",
"H = 1000;           // H=1000 A.t/m\n",
"\n",
"B = u*H;\n",
"disp (B,'The Flux density in Tesla')"
   ]
   }
],
"metadata": {
		  "kernelspec": {
		   "display_name": "Scilab",
		   "language": "scilab",
		   "name": "scilab"
		  },
		  "language_info": {
		   "file_extension": ".sce",
		   "help_links": [
			{
			 "text": "MetaKernel Magics",
			 "url": "https://github.com/calysto/metakernel/blob/master/metakernel/magics/README.md"
			}
		   ],
		   "mimetype": "text/x-octave",
		   "name": "scilab",
		   "version": "0.7.1"
		  }
		 },
		 "nbformat": 4,
		 "nbformat_minor": 0
}
