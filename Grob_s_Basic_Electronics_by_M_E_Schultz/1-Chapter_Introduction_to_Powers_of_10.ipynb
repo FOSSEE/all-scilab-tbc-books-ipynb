{
"cells": [
 {
		   "cell_type": "markdown",
	   "metadata": {},
	   "source": [
       "# Chapter 1: Chapter Introduction to Powers of 10"
	   ]
	},
{
		   "cell_type": "markdown",
		   "metadata": {},
		   "source": [
			"## Example 0.10: Example_10.sce"
		   ]
		  },
  {
"cell_type": "code",
	   "execution_count": null,
	   "metadata": {
	    "collapsed": true
	   },
	   "outputs": [],
"source": [
"// Grob's Basic Electronics 11e\n",
"// Chapter No. I\n",
"// Example No. I_10\n",
"clc; clear;\n",
"// Substract 250*10^3 and 1.5*10^6. Express the final answer in scientific notation.\n",
"\n",
"// Given data\n",
"\n",
"A = 1.5*10^6;       // Variable 1\n",
"B = 250*10^3;       // Variable 2\n",
"\n",
"C = A-B;\n",
"disp (C,'The substraction of 250*10^3 and 1.5*10^6 is')\n",
"disp ('i.e 1.25*10^6')"
   ]
   }
,
{
		   "cell_type": "markdown",
		   "metadata": {},
		   "source": [
			"## Example 0.11: Example_11.sce"
		   ]
		  },
  {
"cell_type": "code",
	   "execution_count": null,
	   "metadata": {
	    "collapsed": true
	   },
	   "outputs": [],
"source": [
"// Grob's Basic Electronics 11e\n",
"// Chapter No. I\n",
"// Example No. I_11\n",
"clc; clear;\n",
"// Multiply 3*10^6 by 150*10^2. Express the final answer in scientific notation.\n",
"\n",
"// Given data\n",
"\n",
"A = 3*10^6;         // Variable 1\n",
"B = 150*10^2;       // Variable 2\n",
"\n",
"C = A*B;\n",
"disp (C,'The multiplication of 3*10^6 by 150*10^2 is')\n",
"disp ('i.e 4.5*10^10')"
   ]
   }
,
{
		   "cell_type": "markdown",
		   "metadata": {},
		   "source": [
			"## Example 0.12: Example_12.sce"
		   ]
		  },
  {
"cell_type": "code",
	   "execution_count": null,
	   "metadata": {
	    "collapsed": true
	   },
	   "outputs": [],
"source": [
"// Grob's Basic Electronics 11e\n",
"// Chapter No. I\n",
"// Example No. I_12\n",
"clc; clear;\n",
"// Divide 5.0*10^7 by 2.0*10^4. Express the final answer in scientific notation.\n",
"\n",
"// Given data\n",
"\n",
"A = 5.0*10^7;       // Variable 1\n",
"B = 2.0*10^4;       // Variable 2\n",
"\n",
"C = A/B;\n",
"disp (C,'The division of 5.0*10^7 by 2.0*10^4 is')\n",
"disp ('i.e 2.5*10^3')"
   ]
   }
,
{
		   "cell_type": "markdown",
		   "metadata": {},
		   "source": [
			"## Example 0.13: Example_13.sce"
		   ]
		  },
  {
"cell_type": "code",
	   "execution_count": null,
	   "metadata": {
	    "collapsed": true
	   },
	   "outputs": [],
"source": [
"// Grob's Basic Electronics 11e\n",
"// Chapter No. I\n",
"// Example No. I_13\n",
"clc; clear;\n",
"// Find the reciprocals for the following powers of 10: (a) 10^5 (b) 10^-3.\n",
"\n",
"// Given data\n",
"\n",
"A = 10^5;       // Variable 1\n",
"B = 10^-3;      // Variable 2\n",
"\n",
"C = 1/A;\n",
"disp (C,'The reciprocal of 10^5 is')\n",
"disp ('i.e 10^-5')\n",
"\n",
"D = 1/B;\n",
"disp (D,'The reciprocal of 10-3 is')\n",
"disp ('i.e 10^3')"
   ]
   }
,
{
		   "cell_type": "markdown",
		   "metadata": {},
		   "source": [
			"## Example 0.14: Example_14.sce"
		   ]
		  },
  {
"cell_type": "code",
	   "execution_count": null,
	   "metadata": {
	    "collapsed": true
	   },
	   "outputs": [],
"source": [
"// Grob's Basic Electronics 11e\n",
"// Chapter No. I\n",
"// Example No. I_14\n",
"clc; clear;\n",
"// Square 3.0*10^4. Express the answer in scientific notation.\n",
"\n",
"// Given data\n",
"\n",
"A = 3.0*10^4;       // Variable 1\n",
"\n",
"B = A*A;\n",
"disp (B,'The square of 3.0*10^4 is')\n",
"disp ('i.e 9.0*10^8')"
   ]
   }
,
{
		   "cell_type": "markdown",
		   "metadata": {},
		   "source": [
			"## Example 0.15: Example_15.sce"
		   ]
		  },
  {
"cell_type": "code",
	   "execution_count": null,
	   "metadata": {
	    "collapsed": true
	   },
	   "outputs": [],
"source": [
"// Grob's Basic Electronics 11e\n",
"// Chapter No. I\n",
"// Example No. I_15\n",
"clc; clear;\n",
"// Find the squareroot of 4*10^6. Express the answer in scientific notation.\n",
"\n",
"// Given data\n",
"\n",
"A = 4*10^6;       // Variable 1\n",
"\n",
"B = sqrt(A);\n",
"disp (B,'The squareroot of 4*10^6 is')\n",
"disp ('i.e 2*10^3')"
   ]
   }
,
{
		   "cell_type": "markdown",
		   "metadata": {},
		   "source": [
			"## Example 0.16: Example_16.sce"
		   ]
		  },
  {
"cell_type": "code",
	   "execution_count": null,
	   "metadata": {
	    "collapsed": true
	   },
	   "outputs": [],
"source": [
"// Grob's Basic Electronics 11e\n",
"// Chapter No. I\n",
"// Example No. I_16\n",
"clc; clear;\n",
"// Find the squareroot of 90*10^5. Express the answer in scientific notation.\n",
"\n",
"// Given data\n",
"\n",
"A = 90*10^5;       // Variable 1\n",
"\n",
"B = sqrt(A);\n",
"disp (B,'The squareroot of 90*10^5 is')\n",
"disp ('i.e 3.0*10^3')"
   ]
   }
,
{
		   "cell_type": "markdown",
		   "metadata": {},
		   "source": [
			"## Example 0.17: Example_17.sce"
		   ]
		  },
  {
"cell_type": "code",
	   "execution_count": null,
	   "metadata": {
	    "collapsed": true
	   },
	   "outputs": [],
"source": [
"// Grob's Basic Electronics 11e\n",
"// Chapter No. I\n",
"// Example No. I_17\n",
"clc; clear;\n",
"// Show the keystrokes for multiplying 40*10^-3 by 5*10^6.\n",
"\n",
"// Given data\n",
"\n",
"A = 40*10^-3;       // Variable 1\n",
"B = 5*10^6;         // Variable 2\n",
"\n",
"C = A*B;\n",
"disp (C,'The multiplication of 40*10^-3 by 5*10^6 is')\n",
"disp ('i.e 200.000*10^03 OR 200E03')"
   ]
   }
,
{
		   "cell_type": "markdown",
		   "metadata": {},
		   "source": [
			"## Example 0.1: Example_1.sce"
		   ]
		  },
  {
"cell_type": "code",
	   "execution_count": null,
	   "metadata": {
	    "collapsed": true
	   },
	   "outputs": [],
"source": [
"// Grob's Basic Electronics 11e\n",
"// Chapter No. I\n",
"// Example No. I_1\n",
"clc; clear;\n",
"// Express the following numbers in scientifi c notation:(a) 3900 (b) 0.0000056.\n",
"\n",
"disp ('To express 3900 in scientific notation, write the number as a number between 1 and 10, which is 3.9 in this case, times a power of 10.')\n",
"disp ('Therefore 3900 = 3.9*10^3 in scientific')\n",
"\n",
"disp ('To express 0.0000056 in scientific notation, write the number as a number between 1 and 10, which is 5.6 in this case, times a power of 10.')\n",
"disp ('Therefore 0.0000056 = 5.6*10^-6 in scientific')"
   ]
   }
,
{
		   "cell_type": "markdown",
		   "metadata": {},
		   "source": [
			"## Example 0.2: Example_2.sce"
		   ]
		  },
  {
"cell_type": "code",
	   "execution_count": null,
	   "metadata": {
	    "collapsed": true
	   },
	   "outputs": [],
"source": [
"// Grob's Basic Electronics 11e\n",
"// Chapter No. I\n",
"// Example No. I_2\n",
"clc; clear;\n",
"// Express the following numbers in scientific notation: (a) 235,000 (b) 364,000,000 (c) 0.000756 (d) 0.00000000000016.\n",
"\n",
"disp ('To express 235,000 in scientific notation, write the number as a number between 1 and 10, which is 2.35 in this case, times a power of 10.')\n",
"disp ('Therefore 235,000 = 2.35*10^5 in scientific')\n",
"\n",
"disp ('To express 364,000,000 in scientific notation, write the number as a number between 1 and 10, which is 3.64 in this case, times a power of 10.')\n",
"disp ('Therefore 364,000,000 = 3.64*10^8 in scientific')\n",
"\n",
"disp ('To express 0.000756 in scientific notation, write the number as a number between 1 and 10, which is 7.56 in this case, times a power of 10.')\n",
"disp ('Therefore 0.000756 = 7.56*10^-4 in scientific')\n",
"\n",
"disp ('To express 0.00000000000016 in scientific notation, write the number as a number between 1 and 10, which is 1.6 in this case, times a power of 10.')\n",
"disp ('Therefore 0.00000000000016 = 1.6*10^-13 in scientific')"
   ]
   }
,
{
		   "cell_type": "markdown",
		   "metadata": {},
		   "source": [
			"## Example 0.3: Example_3.sce"
		   ]
		  },
  {
"cell_type": "code",
	   "execution_count": null,
	   "metadata": {
	    "collapsed": true
	   },
	   "outputs": [],
"source": [
"// Grob's Basic Electronics 11e\n",
"// Chapter No. I\n",
"// Example No. I_3\n",
"clc; clear;\n",
"// Convert the following numbers written in scientific notation into decimal notation: (a) 4.75*10^2 (b) 6.8*10^-5.\n",
"\n",
"disp ('To convert 4.75*10^2 into decimal notation, the decimal point must be shifted 2 places to the right.')\n",
"disp ('Therefore 4.75*10^2 = 475 in decimal')\n",
"\n",
"disp ('To convert 6.8*10^-5 into decimal notation, the decimal point must be shifted 5 places to the left.')\n",
"disp ('Therefore 6.8*10^-5 = 0.000068 in decimal')"
   ]
   }
,
{
		   "cell_type": "markdown",
		   "metadata": {},
		   "source": [
			"## Example 0.4: Example_4.sce"
		   ]
		  },
  {
"cell_type": "code",
	   "execution_count": null,
	   "metadata": {
	    "collapsed": true
	   },
	   "outputs": [],
"source": [
"// Grob's Basic Electronics 11e\n",
"// Chapter No. I\n",
"// Example No. I_4\n",
"clc; clear;\n",
"// Express the following numbers in engineering notation: (a) 27,000 (b) 0.00047.\n",
"\n",
"disp ('To express the number 27,000 in engineering notation, it must be written as a number between 1 and 1000 times a power of 10 which is a multiple of 3.')\n",
"disp ('Therefore 27000 = 27*10^3 in engineering')\n",
"\n",
"disp ('To express the number 0.00047 in engineering notation, it must be written as a number between 1 and 1000 times a power of 10 which is a multiple of 3.')\n",
"disp ('Therefore 0.00047 = 470*10^-6 in engineering')"
   ]
   }
,
{
		   "cell_type": "markdown",
		   "metadata": {},
		   "source": [
			"## Example 0.5: Example_5.sce"
		   ]
		  },
  {
"cell_type": "code",
	   "execution_count": null,
	   "metadata": {
	    "collapsed": true
	   },
	   "outputs": [],
"source": [
"// Grob's Basic Electronics 11e\n",
"// Chapter No. I\n",
"// Example No. I_5\n",
"clc; clear;\n",
"// Express the resistance of 1,000,000-Ohms using the appropriate metric prefix from Table I–2.\n",
"\n",
"disp ('First, express 1,000,000-Ohms in engineering notation: 1,000,000-Ohms = 1.0*10^6-Ohms')\n",
"disp ('Next, replace 10^6 with its corresponding metric prefix. i.e mega (M)')\n",
"disp ('Therefore 1,000,000-Ohms = 1.0*10^6-Ohms = 1-MOhms')"
   ]
   }
,
{
		   "cell_type": "markdown",
		   "metadata": {},
		   "source": [
			"## Example 0.6: Example_6.sce"
		   ]
		  },
  {
"cell_type": "code",
	   "execution_count": null,
	   "metadata": {
	    "collapsed": true
	   },
	   "outputs": [],
"source": [
"// Grob's Basic Electronics 11e\n",
"// Chapter No. I\n",
"// Example No. I_6\n",
"clc; clear;\n",
"// Express the voltage value of 0.015-V using the appropriate metric prefix from Table I–2.\n",
"\n",
"disp ('First, express 0.015-V in engineering notation: 0.015-V = 0.015-V')\n",
"disp ('Next, replace 10^-3 with its corresponding metric prefix. i.e milli (m)')\n",
"disp ('Therefore 0.015-V = 0.015-V = 15-mV')"
   ]
   }
,
{
		   "cell_type": "markdown",
		   "metadata": {},
		   "source": [
			"## Example 0.7: Example_7.sce"
		   ]
		  },
  {
"cell_type": "code",
	   "execution_count": null,
	   "metadata": {
	    "collapsed": true
	   },
	   "outputs": [],
"source": [
"// Grob's Basic Electronics 11e\n",
"// Chapter No. I\n",
"// Example No. I_7\n",
"clc; clear;\n",
"// Express the power value of 250-W using the appropriate metric prefix from Table I–2.\n",
"\n",
"disp ('In this case, it is not necessary to use any of the metric prefixes listed in Table I–2. The reason is that 250-W cannot be expressed as a number between 1 and 1000 times a power of 10 which is a multiple of 3.')\n",
"disp ('250 W cannot be expressed in engineering notation. The closest we can come is 0.25*10^3-W, which is not representative of engineering notation. Although 10^3 can be replaced with the metric prefix kilo (k)')\n",
"disp ('It is usually preferable to express the power as 250-W and not as 0.25-kW.')"
   ]
   }
,
{
		   "cell_type": "markdown",
		   "metadata": {},
		   "source": [
			"## Example 0.8: Example_8.sce"
		   ]
		  },
  {
"cell_type": "code",
	   "execution_count": null,
	   "metadata": {
	    "collapsed": true
	   },
	   "outputs": [],
"source": [
"// Grob's Basic Electronics 11e\n",
"// Chapter No. I\n",
"// Example No. I_8\n",
"clc; clear;\n",
"// Make the following conversions: (a) convert 25 mA to uA (b) convert 2700 kOhms to MOhms.\n",
"\n",
"disp ('To convert 25 mA to uA, recall that the metric prefix milli (m) corresponds to 10^3 and that metric prefix micro (u) corresponds to 10^6. Since 10^6 is less than 10^3 by a factor of 1000 (10^3), the numerical part of the expression must be increased by a factor of 1000 (10^3).') \n",
"disp ('Therefore, 25 mA = 25*10^-3 A = 25,000*10^-6 A = 25,000 uA.')\n",
"\n",
"disp ('To convert 2700 kOhms to MOhms, recall that the metric prefix kilo (k) corresponds to 10^3 and that the metric prefix mega (M) corresponds to 10^6. Since 10^6 is larger than 10^3 by a factor of 1000 (10^3), the numerical part of the expression must be decreased by a factor of 1000 (10^3).')\n",
"disp ('2700 kOhms = 2700*10^3 Ohms = 2.7*10^6 Ohms = 2.7 MOhms.')"
   ]
   }
,
{
		   "cell_type": "markdown",
		   "metadata": {},
		   "source": [
			"## Example 0.9: Example_9.sce"
		   ]
		  },
  {
"cell_type": "code",
	   "execution_count": null,
	   "metadata": {
	    "collapsed": true
	   },
	   "outputs": [],
"source": [
"// Grob's Basic Electronics 11e\n",
"// Chapter No. I\n",
"// Example No. I_9\n",
"clc; clear;\n",
"// Add 170*10^3 and 23*10^4. Express the final answer in scientific notation.\n",
"\n",
"// Given data\n",
"\n",
"A = 170*10^3;       // Variable 1\n",
"B = 23*10^4;        // Variable 2\n",
"\n",
"C = A+B;\n",
"disp (C,'The addition of 170*10^3 and 23*10^4 is')\n",
"disp ('i.e 4.0*10^5')"
   ]
   }
],
"metadata": {
		  "kernelspec": {
		   "display_name": "Scilab",
		   "language": "scilab",
		   "name": "scilab"
		  },
		  "language_info": {
		   "file_extension": ".sce",
		   "help_links": [
			{
			 "text": "MetaKernel Magics",
			 "url": "https://github.com/calysto/metakernel/blob/master/metakernel/magics/README.md"
			}
		   ],
		   "mimetype": "text/x-octave",
		   "name": "scilab",
		   "version": "0.7.1"
		  }
		 },
		 "nbformat": 4,
		 "nbformat_minor": 0
}
