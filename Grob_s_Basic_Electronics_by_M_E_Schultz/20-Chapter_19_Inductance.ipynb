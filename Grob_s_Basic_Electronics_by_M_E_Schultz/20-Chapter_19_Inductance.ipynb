{
"cells": [
 {
		   "cell_type": "markdown",
	   "metadata": {},
	   "source": [
       "# Chapter 20: Chapter 19 Inductance"
	   ]
	},
{
		   "cell_type": "markdown",
		   "metadata": {},
		   "source": [
			"## Example 19.10: Example_125.sce"
		   ]
		  },
  {
"cell_type": "code",
	   "execution_count": null,
	   "metadata": {
	    "collapsed": true
	   },
	   "outputs": [],
"source": [
"// Grob's Basic Electronics 11e\n",
"// Chapter No. 19\n",
"// Example No. 19_10\n",
"clc; clear;\n",
"// If the two coils had a mutual inductance LM of 40 mH, how much would k be?\n",
"\n",
"// Given data\n",
"\n",
"L1 = 400*10^-3; // Coil Inductance 1=400 mH\n",
"L2 = 400*10^-3; // Coil Inductance 2=400 mH\n",
"Lm = 40*10^-3;  // Mutual inductance=40 mH\n",
"\n",
"lt = sqrt(L1*L2);\n",
"\n",
"k = Lm/lt;\n",
"disp (k,'The Coupling Coefficient k is')"
   ]
   }
,
{
		   "cell_type": "markdown",
		   "metadata": {},
		   "source": [
			"## Example 19.11: Example_126.sce"
		   ]
		  },
  {
"cell_type": "code",
	   "execution_count": null,
	   "metadata": {
	    "collapsed": true
	   },
	   "outputs": [],
"source": [
"// Grob's Basic Electronics 11e\n",
"// Chapter No. 19\n",
"// Example No. 19_11\n",
"clc; clear;\n",
"// A power transformer has 100 turns for Np and 600 turns for Ns. What is the turns ratio? How much is the secondary voltage Vs if the primary voltage Vp is 120 V?\n",
"\n",
"// Given data\n",
"\n",
"np = 100;       // Turns in primary coil=100\n",
"ns = 600;       // Turns in secondary coil=600\n",
"vp = 120;       // Primary voltage=120 Volts\n",
"\n",
"Tr = np/ns;\n",
"disp (Tr,'The Turns Ratio is')\n",
"disp ('OR 1:6')\n",
"\n",
"vs = vp*(ns/np);\n",
"disp (vs,'The Secondary Voltage in Volts')"
   ]
   }
,
{
		   "cell_type": "markdown",
		   "metadata": {},
		   "source": [
			"## Example 19.12: Example_127.sce"
		   ]
		  },
  {
"cell_type": "code",
	   "execution_count": null,
	   "metadata": {
	    "collapsed": true
	   },
	   "outputs": [],
"source": [
"// Grob's Basic Electronics 11e\n",
"// Chapter No. 19\n",
"// Example No. 19_12\n",
"clc; clear;\n",
"// A power transformer has 100 turns for Np and 5 turns for Ns. What is the turns ratio? How much is the secondary voltage Vs with a primary voltage of 120 V?\n",
"\n",
"// Given data\n",
"\n",
"np = 100;       // Turns in primary coil=100\n",
"ns = 5;         // Turns in secondary coil=5\n",
"vp = 120;       // Primary voltage=120 Volts\n",
"\n",
"Tr = np/ns;\n",
"disp (Tr,'The Turns Ratio 20:1 or')\n",
"\n",
"vs = vp*(ns/np);\n",
"disp (vs,'The Secondary Voltage in Volts')"
   ]
   }
,
{
		   "cell_type": "markdown",
		   "metadata": {},
		   "source": [
			"## Example 19.13: Example_128.sce"
		   ]
		  },
  {
"cell_type": "code",
	   "execution_count": null,
	   "metadata": {
	    "collapsed": true
	   },
	   "outputs": [],
"source": [
"// Grob's Basic Electronics 11e\n",
"// Chapter No. 19\n",
"// Example No. 19_13\n",
"clc; clear;\n",
"// A transformer with a 1:6 turns ratio has 720 V across 7200 Ohms in the secondary. (a) How much is Is? (b) Calculate the value of Ip.\n",
"\n",
"// Given data\n",
"\n",
"vs = 720;       // Secondary voltage=720 Volts\n",
"Rl = 7200;      // Secondary load=7200 Ohms\n",
"tr = 1/6;       // Turns ratio=1:6\n",
"\n",
"Is = vs/Rl;\n",
"disp (Is,'The Secondary Current in Amps')\n",
"\n",
"Ip = Is/tr;\n",
"disp (Ip,'The Primary Current in Amps')"
   ]
   }
,
{
		   "cell_type": "markdown",
		   "metadata": {},
		   "source": [
			"## Example 19.14: Example_129.sce"
		   ]
		  },
  {
"cell_type": "code",
	   "execution_count": null,
	   "metadata": {
	    "collapsed": true
	   },
	   "outputs": [],
"source": [
"// Grob's Basic Electronics 11e\n",
"// Chapter No. 19\n",
"// Example No. 19_14\n",
"clc; clear;\n",
"// A transformer with a 20:1 voltage step-down ratio has 6 V across 0.6  in the secondary. (a) How much is Is? (b) How much is Ip?\n",
"\n",
"// Given data\n",
"\n",
"vs = 6;         // Secondary voltage=6 Volts\n",
"Rl = 0.6;       // Secondary load=0.6 Ohms\n",
"tr = 20/1;      // Turns ratio=20:1\n",
"\n",
"Is = vs/Rl;\n",
"disp (Is,'The Secondary Current in Amps')\n",
"\n",
"Ip = Is/tr;\n",
"disp (Ip,'The Primary Current in Amps')\n",
""
   ]
   }
,
{
		   "cell_type": "markdown",
		   "metadata": {},
		   "source": [
			"## Example 19.15: Example_130.sce"
		   ]
		  },
  {
"cell_type": "code",
	   "execution_count": null,
	   "metadata": {
	    "collapsed": true
	   },
	   "outputs": [],
"source": [
"// Grob's Basic Electronics 11e\n",
"// Chapter No. 19\n",
"// Example No. 19_15\n",
"clc; clear;\n",
"// Calculate the primary current I P if the secondary current Is equals its rated value of 2 A.\n",
"\n",
"// Given data\n",
"\n",
"vs = 25.2;      // Secondary voltage=25.2 Volts\n",
"vp = 120;       // Primary voltage=120 Volts\n",
"Is = 2;         // Secondary current=2 Amps\n",
"\n",
"Ip = Is*(vs/vp);\n",
"disp (Ip,'The Primary current in Amps')\n",
"disp ('OR 420 mAmps')"
   ]
   }
,
{
		   "cell_type": "markdown",
		   "metadata": {},
		   "source": [
			"## Example 19.16: Example_131.sce"
		   ]
		  },
  {
"cell_type": "code",
	   "execution_count": null,
	   "metadata": {
	    "collapsed": true
	   },
	   "outputs": [],
"source": [
"// Grob's Basic Electronics 11e\n",
"// Chapter No. 19\n",
"// Example No. 19_16\n",
"clc; clear;\n",
"// Determine the Primary Impedence Zo\n",
"\n",
"// Method 1\n",
"// Given data\n",
"\n",
"Vp = 32;    // Primary Voltage = 32 Volts\n",
"Rl = 8;     // Load Resistance = 8 Ohms\n",
"TR = 4;     // Turns Ratio Np/Ns = 4/1\n",
"\n",
"Vs = Vp/TR;\n",
"\n",
"Is = Vs/Rl;\n",
"\n",
"Ip = ((Vs/Vp)*Is);\n",
"\n",
"Zp = Vp/Ip;\n",
"disp (Zp,'Primary Impedence in Ohms by Method 1');\n",
"\n",
"// Method 2\n",
"\n",
"Zp = TR*TR*Rl;\n",
"disp (Zp,'Primary Impedence in Ohms by Method 2');"
   ]
   }
,
{
		   "cell_type": "markdown",
		   "metadata": {},
		   "source": [
			"## Example 19.17: Example_132.sce"
		   ]
		  },
  {
"cell_type": "code",
	   "execution_count": null,
	   "metadata": {
	    "collapsed": true
	   },
	   "outputs": [],
"source": [
"// Grob's Basic Electronics 11e\n",
"// Chapter No. 19\n",
"// Example No. 19_17\n",
"clc; clear;\n",
"// Calculate the turns ratio Np/Ns that will produce a reflected primary impedance Zp of (a) 75 Ohms; (b) 600 Ohms.\n",
"\n",
"// Given data\n",
"\n",
"Zs = 300;   // Secondary impedence=300 Ohms\n",
"Zp1 = 75;   // Primary impedence=75 Ohms\n",
"Zp2 = 600;  // Primary impedence=600 Ohms\n",
"\n",
"tra = sqrt (Zp1/Zs);\n",
"disp (tra,'The Turns ratio Np/Ns is')\n",
"disp ('OR 1/2')\n",
"\n",
"trb = sqrt (Zp2/Zs);\n",
"disp (trb,'The Turns ratio Np/Ns is 1.414/1 or')"
   ]
   }
,
{
		   "cell_type": "markdown",
		   "metadata": {},
		   "source": [
			"## Example 19.18: Example_133.sce"
		   ]
		  },
  {
"cell_type": "code",
	   "execution_count": null,
	   "metadata": {
	    "collapsed": true
	   },
	   "outputs": [],
"source": [
"// Grob's Basic Electronics 11e\n",
"// Chapter No. 19\n",
"// Example No. 19_18\n",
"clc; clear;\n",
"// Inductance L1 is 5 mH and L2 is 10 mH. How much is Lt?\n",
"\n",
"// Given data\n",
"\n",
"l1 = 5*10^-3;   // Inductor 1=5 mH\n",
"l2 = 10*10^-3;  // Inductor 2=10 mH\n",
"\n",
"Lt = l1+l2;\n",
"disp (Lt,'The Total Inductance in Henry')\n",
"disp ('i.e 15 mH')"
   ]
   }
,
{
		   "cell_type": "markdown",
		   "metadata": {},
		   "source": [
			"## Example 19.19: Example_134.sce"
		   ]
		  },
  {
"cell_type": "code",
	   "execution_count": null,
	   "metadata": {
	    "collapsed": true
	   },
	   "outputs": [],
"source": [
"// Grob's Basic Electronics 11e\n",
"// Chapter No. 19\n",
"// Example No. 19_19\n",
"clc; clear;\n",
"// Inductances L1 and L2 are each 8 mH. How much is Leq?\n",
"\n",
"// Given data\n",
"\n",
"l1 = 8*10^-3;   // Inductor 1=8 mH\n",
"l2 = 8*10^-3;   // Inductor 2=8 mH\n",
"\n",
"a = 1/l1;\n",
"b = 1/l2;\n",
"\n",
"Leq = 1/(a+b);\n",
"disp(Leq,'The Equivalent Inductance in Henry')\n",
"disp ('i.e 4 mH')"
   ]
   }
,
{
		   "cell_type": "markdown",
		   "metadata": {},
		   "source": [
			"## Example 19.1: Example_116.sce"
		   ]
		  },
  {
"cell_type": "code",
	   "execution_count": null,
	   "metadata": {
	    "collapsed": true
	   },
	   "outputs": [],
"source": [
"// Grob's Basic Electronics 11e\n",
"// Chapter No. 19\n",
"// Example No. 19_1\n",
"clc; clear;\n",
"// The current in an inductor changes from 12 to 16 A in 1s. How much is the di/dt rate of current change in amperes per second?\n",
"\n",
"// Given data\n",
"\n",
"di = 4;     // Differential current=16-12=4 Amps\n",
"dt = 1;     // Differential time=1 sec\n",
"\n",
"A = di/dt;\n",
"disp (A,'The di/dt Rate of Current change in A/s')"
   ]
   }
,
{
		   "cell_type": "markdown",
		   "metadata": {},
		   "source": [
			"## Example 19.20: Example_135.sce"
		   ]
		  },
  {
"cell_type": "code",
	   "execution_count": null,
	   "metadata": {
	    "collapsed": true
	   },
	   "outputs": [],
"source": [
"// Grob's Basic Electronics 11e\n",
"// Chapter No. 19\n",
"// Example No. 19_20\n",
"clc; clear;\n",
"// Two series coils, each with an L of 250 uH, have a total inductance of 550 uH connected series-aiding and 450 uH series-opposing. (a) How much is the mutual inductance Lm between the two coils? (b) How much is the coupling coefficient k?\n",
"\n",
"// Given data\n",
"\n",
"l1 = 250*10^-6;     // Coil Inductance 1=250 uH\n",
"l2 = 250*10^-6;     // Coil Inductance 2=250 uH\n",
"Lts = 550*10^-6;    // Inductance series-aiding=550 uH\n",
"Lto = 450*10^-6;    // Inductance series-opposing=450 uH\n",
"\n",
"Lm = (Lts-Lto)/4\n",
"disp (Lm,'The Mutual Inductance in Henry')\n",
"disp ('i.e 25 uH')\n",
"\n",
"lt = sqrt(l1*l2);\n",
"\n",
"k = Lm/lt;\n",
"disp (k,'The Coupling coefficient k is')"
   ]
   }
,
{
		   "cell_type": "markdown",
		   "metadata": {},
		   "source": [
			"## Example 19.21: Example_136.sce"
		   ]
		  },
  {
"cell_type": "code",
	   "execution_count": null,
	   "metadata": {
	    "collapsed": true
	   },
	   "outputs": [],
"source": [
"// Grob's Basic Electronics 11e\n",
"// Chapter No. 19\n",
"// Example No. 19_21\n",
"clc; clear;\n",
"// A current of 1.2 A flows in a coil with an inductance of 0.4 H. How much energy is stored in the magnetic field?\n",
"\n",
"// Given data\n",
"\n",
"l1 = 0.4;     // Coil Inductance 1=0.4 H\n",
"I = 1.2;      // Current=1.2 Amps\n",
"\n",
"E = (l1*I*I)/2;\n",
"disp (E,'The Energy Stored in the Magnetic Field in Joules')"
   ]
   }
,
{
		   "cell_type": "markdown",
		   "metadata": {},
		   "source": [
			"## Example 19.2: Example_117.sce"
		   ]
		  },
  {
"cell_type": "code",
	   "execution_count": null,
	   "metadata": {
	    "collapsed": true
	   },
	   "outputs": [],
"source": [
"// Grob's Basic Electronics 11e\n",
"// Chapter No. 19\n",
"// Example No. 19_2\n",
"clc; clear;\n",
"// The current in an inductor changes by 50 mA in 2 us. How much is the di/dt rate of current change in amperes per second?\n",
"\n",
"// Given data\n",
"\n",
"di = 50*10^-3;    // Differential current=50 mAmps\n",
"dt = 2*10^-6;     // Differential time=2 usec\n",
"\n",
"A = di/dt;\n",
"disp (A,'The di/dt Rate of Current change in A/s')"
   ]
   }
,
{
		   "cell_type": "markdown",
		   "metadata": {},
		   "source": [
			"## Example 19.3: Example_118.sce"
		   ]
		  },
  {
"cell_type": "code",
	   "execution_count": null,
	   "metadata": {
	    "collapsed": true
	   },
	   "outputs": [],
"source": [
"// Grob's Basic Electronics 11e\n",
"// Chapter No. 19\n",
"// Example No. 19_3\n",
"clc; clear;\n",
"// How much is the inductance of a coil that induces 40 V when its current changes at the rate of 4 A/s?\n",
"\n",
"// Given data\n",
"\n",
"Vl = 40;    // Induced voltage=40 Volts\n",
"R = 4       // Current changing rate=di/dt=4 A/s\n",
"\n",
"L = Vl/R;\n",
"disp (L,'The Value of Inductance in Henry')"
   ]
   }
,
{
		   "cell_type": "markdown",
		   "metadata": {},
		   "source": [
			"## Example 19.4: Example_119.sce"
		   ]
		  },
  {
"cell_type": "code",
	   "execution_count": null,
	   "metadata": {
	    "collapsed": true
	   },
	   "outputs": [],
"source": [
"// Grob's Basic Electronics 11e\n",
"// Chapter No. 19\n",
"// Example No. 19_4\n",
"clc; clear;\n",
"// How much is the inductance of a coil that induces 1000 V when its current changes at the rate of 50 mA in 2us?\n",
"\n",
"// Given data\n",
"\n",
"Vl = 1000;      // Induced voltage=1000 Volts\n",
"di = 50*10^-3;  // differential current=50 mAmps\n",
"dt = 2*10^-6;   // differential time=2 usec\n",
"\n",
"A = di/dt;\n",
"\n",
"L = Vl/A;\n",
"disp (L,'The Value of Inductance in Henry')\n",
"disp ('OR 40 mH')"
   ]
   }
,
{
		   "cell_type": "markdown",
		   "metadata": {},
		   "source": [
			"## Example 19.5: Example_120.sce"
		   ]
		  },
  {
"cell_type": "code",
	   "execution_count": null,
	   "metadata": {
	    "collapsed": true
	   },
	   "outputs": [],
"source": [
"// Grob's Basic Electronics 11e\n",
"// Chapter No. 19\n",
"// Example No. 19_5\n",
"clc; clear;\n",
"// How much is the self-induced voltage across a 4-H inductance produced by a current change of 12 A/s?\n",
"\n",
"// Given data\n",
"\n",
"L = 4;    // Inductor=4 H\n",
"R = 12;   // current change=di/dt=12 A/s\n",
"\n",
"Vl = L*R;\n",
"disp (Vl,'The Value of Self-Induced Voltage in Volts')"
   ]
   }
,
{
		   "cell_type": "markdown",
		   "metadata": {},
		   "source": [
			"## Example 19.6: Example_121.sce"
		   ]
		  },
  {
"cell_type": "code",
	   "execution_count": null,
	   "metadata": {
	    "collapsed": true
	   },
	   "outputs": [],
"source": [
"// Grob's Basic Electronics 11e\n",
"// Chapter No. 19\n",
"// Example No. 19_6\n",
"clc; clear;\n",
"// The current through a 200-mH L changes from 0 to 100 mA in 2 us. How much is Vl ?\n",
"\n",
"// Given data\n",
"\n",
"L = 200*10^-3;      // Inductor=200 mH\n",
"di = 100*10^-3;     // differential current=100 mAmps\n",
"dt = 2*10^-6;       // differectial time=2 usec\n",
"\n",
"A = di/dt;\n",
"\n",
"Vl = L*A;\n",
"disp (Vl,'The Value of Self-Induced Voltage in Volts')\n",
"disp ('OR 10 kVolts')"
   ]
   }
,
{
		   "cell_type": "markdown",
		   "metadata": {},
		   "source": [
			"## Example 19.7: Example_122.sce"
		   ]
		  },
  {
"cell_type": "code",
	   "execution_count": null,
	   "metadata": {
	    "collapsed": true
	   },
	   "outputs": [],
"source": [
"// Grob's Basic Electronics 11e\n",
"// Chapter No. 19\n",
"// Example No. 19_7\n",
"clc; clear;\n",
"// A coil L1 produces 80 uWb of magnetic flux. Of this total flux, 60 uWb arelinked with L2. How much is k between L1 and L2?\n",
"\n",
"// Given data\n",
"\n",
"lf1 = 80*10^-6; // Magnetic flux of coil L1=80 uWb\n",
"lf2 = 60*10^-6; // Magnetic flux of coil L2=60 uWb\n",
"\n",
"k = lf2/lf1;\n",
"disp (k,'The Coefficient of Coupling k between Coil L1 and Coil L2 is')"
   ]
   }
,
{
		   "cell_type": "markdown",
		   "metadata": {},
		   "source": [
			"## Example 19.8: Example_123.sce"
		   ]
		  },
  {
"cell_type": "code",
	   "execution_count": null,
	   "metadata": {
	    "collapsed": true
	   },
	   "outputs": [],
"source": [
"// Grob's Basic Electronics 11e\n",
"// Chapter No. 19\n",
"// Example No. 19_8\n",
"clc; clear;\n",
"// A 10-H inductance L1 on an iron core produces 4 Wb of magnetic flux. Another coil L2 is on the same core. How much is k between L1 and L2?\n",
"\n",
"// Given data\n",
"\n",
"lf1 = 4; // Magnetic flux of coil L1=4 Wb\n",
"lf2 = 4; // Magnetic flux of coil L2=4 Wb\n",
"\n",
"k = lf2/lf1;\n",
"disp (k,'The Coefficient of Coupling k between Coil L1 and Coil L2 is')"
   ]
   }
,
{
		   "cell_type": "markdown",
		   "metadata": {},
		   "source": [
			"## Example 19.9: Example_124.sce"
		   ]
		  },
  {
"cell_type": "code",
	   "execution_count": null,
	   "metadata": {
	    "collapsed": true
	   },
	   "outputs": [],
"source": [
"// Grob's Basic Electronics 11e\n",
"// Chapter No. 19\n",
"// Example No. 19_9\n",
"clc; clear;\n",
"// Two 400-mH coils L1 and L2 have a coefficient of coupling k equal to 0.2. Calculate Lm.\n",
"\n",
"// Given data\n",
"\n",
"L1 = 400*10^-3; // L1=400 mH\n",
"L2 = 400*10^-3; // L2=400 mH\n",
"k = 0.2;        // Coupling coefficient=0.2\n",
"\n",
"Lm = k*sqrt(L1*L2);\n",
"disp (Lm,'The mutual inductance in Henry')\n",
"disp ('i.e 80*10^-3 H OR 80 mH')"
   ]
   }
],
"metadata": {
		  "kernelspec": {
		   "display_name": "Scilab",
		   "language": "scilab",
		   "name": "scilab"
		  },
		  "language_info": {
		   "file_extension": ".sce",
		   "help_links": [
			{
			 "text": "MetaKernel Magics",
			 "url": "https://github.com/calysto/metakernel/blob/master/metakernel/magics/README.md"
			}
		   ],
		   "mimetype": "text/x-octave",
		   "name": "scilab",
		   "version": "0.7.1"
		  }
		 },
		 "nbformat": 4,
		 "nbformat_minor": 0
}
