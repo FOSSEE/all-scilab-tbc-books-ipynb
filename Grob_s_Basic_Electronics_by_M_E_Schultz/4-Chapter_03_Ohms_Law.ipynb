{
"cells": [
 {
		   "cell_type": "markdown",
	   "metadata": {},
	   "source": [
       "# Chapter 4: Chapter 03 Ohms Law"
	   ]
	},
{
		   "cell_type": "markdown",
		   "metadata": {},
		   "source": [
			"## Example 3.10: Example_38.sce"
		   ]
		  },
  {
"cell_type": "code",
	   "execution_count": null,
	   "metadata": {
	    "collapsed": true
	   },
	   "outputs": [],
"source": [
"// Grob's Basic Electronics 11e\n",
"// Chapter No. 03\n",
"// Example No. 3_10\n",
"clear; clc;\n",
"// Asuming that the cost of electricity is 6 cent per kWh, how much will it cost to light a 100-W lightbulb for 30 days?\n",
"\n",
"h = 24*30;    // Total hours = 24 hrs * 30 days\n",
"\n",
"kWh = 0.1*h;    // 100W=0.1kW\n",
"\n",
"Cost = kWh*0.06;    // 6 cent = $0.06\n",
"\n",
"disp (Cost,'Cost in $')"
   ]
   }
,
{
		   "cell_type": "markdown",
		   "metadata": {},
		   "source": [
			"## Example 3.11: Example_39.sce"
		   ]
		  },
  {
"cell_type": "code",
	   "execution_count": null,
	   "metadata": {
	    "collapsed": true
	   },
	   "outputs": [],
"source": [
"// Grob's Basic Electronics 11e\n",
"// Chapter No. 03\n",
"// Example No. 3_11\n",
"clc; clear;\n",
"// Calculate the power in a circuit where the source of 100 V produces 2 A in a 50 Ohms Resistor.\n",
"\n",
"// Given data\n",
"\n",
"I = 2;          // Current=2 Amps\n",
"R = 50;         // Resistance=50 Ohms\n",
"V = 100;        // Voltage Source=100 Volts\n",
"\n",
"P = I*I*R;\n",
"disp (P,'The Power in Watts')"
   ]
   }
,
{
		   "cell_type": "markdown",
		   "metadata": {},
		   "source": [
			"## Example 3.12: Example_40.sce"
		   ]
		  },
  {
"cell_type": "code",
	   "execution_count": null,
	   "metadata": {
	    "collapsed": true
	   },
	   "outputs": [],
"source": [
"// Grob's Basic Electronics 11e\n",
"// Chapter No. 03\n",
"// Example No. 3_12\n",
"clc; clear;\n",
"// Calculate the power in a circuit where the source of 100 V produces 4 A in a 25 Ohms Resistor.\n",
"\n",
"// Given data\n",
"\n",
"I = 4;          // Current=4 Amps\n",
"R = 25;         // Resistance=25 Ohms\n",
"V = 100;        // Voltage Source=100 Volts\n",
"\n",
"P = I*I*R;\n",
"disp (P,'The Power in Watts')"
   ]
   }
,
{
		   "cell_type": "markdown",
		   "metadata": {},
		   "source": [
			"## Example 3.13: Example_41.sce"
		   ]
		  },
  {
"cell_type": "code",
	   "execution_count": null,
	   "metadata": {
	    "collapsed": true
	   },
	   "outputs": [],
"source": [
"// Grob's Basic Electronics 11e\n",
"// Chapter No. 03\n",
"// Example No. 3_13\n",
"clc; clear;\n",
"// How much current is needed for a 600-W, 120-V toaster?\n",
"\n",
"// Given data\n",
"\n",
"V = 120;        // Applied Voltage=120 Volts\n",
"P = 600;        // Power of toaster=600 Watts\n",
"\n",
"I = P/V;\n",
"disp (I,'The Current I in Amps')"
   ]
   }
,
{
		   "cell_type": "markdown",
		   "metadata": {},
		   "source": [
			"## Example 3.14: Example_42.sce"
		   ]
		  },
  {
"cell_type": "code",
	   "execution_count": null,
	   "metadata": {
	    "collapsed": true
	   },
	   "outputs": [],
"source": [
"// Grob's Basic Electronics 11e\n",
"// Chapter No. 03\n",
"// Example No. 3_14\n",
"clc; clear;\n",
"// How much is the resistance of a 600-W, 120-V toaster?\n",
"\n",
"// Given data\n",
"\n",
"V = 120;        // Applied Voltage=120 Volts\n",
"P = 600;        // Power of toaster=600 Watts\n",
"\n",
"R = (V*V)/P;\n",
"disp (R,'The Resistance in Ohms')\n",
""
   ]
   }
,
{
		   "cell_type": "markdown",
		   "metadata": {},
		   "source": [
			"## Example 3.15: Example_43.sce"
		   ]
		  },
  {
"cell_type": "code",
	   "execution_count": null,
	   "metadata": {
	    "collapsed": true
	   },
	   "outputs": [],
"source": [
"// Grob's Basic Electronics 11e\n",
"// Chapter No. 03\n",
"// Example No. 3_15\n",
"clc; clear;\n",
"// How much current is needed for a 24 Ohms Resistor that dissipates 600 W?\n",
"\n",
"// Given data\n",
"\n",
"R = 24;         // Resistance=24 Ohms\n",
"P = 600;        // Power=600 Watts\n",
"\n",
"I = sqrt(P/R);\n",
"disp (I,'The Current I in Amps')"
   ]
   }
,
{
		   "cell_type": "markdown",
		   "metadata": {},
		   "source": [
			"## Example 3.16: Example_44.sce"
		   ]
		  },
  {
"cell_type": "code",
	   "execution_count": null,
	   "metadata": {
	    "collapsed": true
	   },
	   "outputs": [],
"source": [
"// Grob's Basic Electronics 11e\n",
"// Chapter No. 03\n",
"// Example No. 3_16\n",
"clc; clear;\n",
"// Determine the required resistance and appropriate wattage rating of a resistor to meet the following requirements: The resistor must have a 30-V IR drop when its current is 20 mA. The resistors available have the following wattage ratings: 1⁄8, 1⁄4, 1⁄2, 1, and 2 W.\n",
"\n",
"// Given data\n",
"\n",
"I = 20*10^-3;   // Current=20m Amps\n",
"V = 30;         // Voltage Drop=30 Volts\n",
"\n",
"R = V/I;\n",
"disp (R,'The Resistor value in Ohms')\n",
"disp ('i.e 1.5 kOhms')\n",
"\n",
"P = I*I*R;\n",
"disp (P,'The Power in Watts')\n",
"disp ('OR 600 mW')"
   ]
   }
,
{
		   "cell_type": "markdown",
		   "metadata": {},
		   "source": [
			"## Example 3.17: Example_45.sce"
		   ]
		  },
  {
"cell_type": "code",
	   "execution_count": null,
	   "metadata": {
	    "collapsed": true
	   },
	   "outputs": [],
"source": [
"// Grob's Basic Electronics 11e\n",
"// Chapter No. 03\n",
"// Example No. 3_17\n",
"clc; clear;\n",
"//Determine the required resistance and appropriate wattage rating of a carbonfilm resistor to meet the following requirements: The resistor must have a 225-V IR drop when its current is 150 uA. The resistors available have the following wattage ratings: 1⁄8, 1⁄4, 1⁄2, 1, and 2 W.\n",
"\n",
"// Given data\n",
"\n",
"I = 150*10^-6;   // Current=150 uAmps\n",
"V = 225;         // Voltage Drop=225 Volts\n",
"\n",
"R = V/I;\n",
"disp (R,'The Resistor value in Ohms')\n",
"disp ('i.e 1.5 MOhms')\n",
"\n",
"P = I*I*R;\n",
"disp (P,'The Power in Watts')\n",
"disp ('i.e 33.75 mW')"
   ]
   }
,
{
		   "cell_type": "markdown",
		   "metadata": {},
		   "source": [
			"## Example 3.1: Example_29.sce"
		   ]
		  },
  {
"cell_type": "code",
	   "execution_count": null,
	   "metadata": {
	    "collapsed": true
	   },
	   "outputs": [],
"source": [
"// Grob's Basic Electronics 11e\n",
"// Chapter No. 03\n",
"// Example No. 3_1\n",
"clc; clear;\n",
"// A heater with the resistance of 8 Ohms is connected across the 120-V power line. How much is current I?\n",
"\n",
"// Given data\n",
"\n",
"V = 120;        // Voltage of Power line=120 Volts\n",
"R = 8;          // Heater Resistance=8 Ohms\n",
"\n",
"I = V/R;\n",
"disp (I,'The Current I in Amps')"
   ]
   }
,
{
		   "cell_type": "markdown",
		   "metadata": {},
		   "source": [
			"## Example 3.2: Example_30.sce"
		   ]
		  },
  {
"cell_type": "code",
	   "execution_count": null,
	   "metadata": {
	    "collapsed": true
	   },
	   "outputs": [],
"source": [
"// Grob's Basic Electronics 11e\n",
"// Chapter No. 03\n",
"// Example No. 3_2\n",
"clc; clear;\n",
"// A small lightbulb with a resistance of 2400 Ohms is connected across the 120-V power line. How much is current I?\n",
"\n",
"// Given data\n",
"\n",
"V = 120;        // Voltage of Power line=120 Volts\n",
"R = 2400;       // Lightbulb Resistance=2400 Ohms\n",
"\n",
"I = V/R;\n",
"disp (I,'The Current I in Amps')"
   ]
   }
,
{
		   "cell_type": "markdown",
		   "metadata": {},
		   "source": [
			"## Example 3.3: Example_31.sce"
		   ]
		  },
  {
"cell_type": "code",
	   "execution_count": null,
	   "metadata": {
	    "collapsed": true
	   },
	   "outputs": [],
"source": [
"// Grob's Basic Electronics 11e\n",
"// Chapter No. 03\n",
"// Example No. 3_3\n",
"clc; clear;\n",
"// If a 12-Ohms resistor is carrying a current of 2.5 A, how much is its voltage?\n",
"\n",
"// Given data\n",
"\n",
"I = 2.5;        // Current=2.5 Amps\n",
"R = 12;         // Resistance=12 Ohms\n",
"\n",
"V = I*R;\n",
"disp (V,'The Voltage in Volts')"
   ]
   }
,
{
		   "cell_type": "markdown",
		   "metadata": {},
		   "source": [
			"## Example 3.4: Example_32.sce"
		   ]
		  },
  {
"cell_type": "code",
	   "execution_count": null,
	   "metadata": {
	    "collapsed": true
	   },
	   "outputs": [],
"source": [
"// Grob's Basic Electronics 11e\n",
"// Chapter No. 03\n",
"// Example No. 3_4\n",
"clc; clear;\n",
"// How much is the resistance of a lightbulb if it draws 0.16 A from a 12-V battery?\n",
"\n",
"// Given data\n",
"\n",
"V = 12;          // Voltage of Battery=12 Volts\n",
"I = 0.16;        // Current drawn form Battery=0.16 Amps\n",
"\n",
"R = V/I\n",
"disp (R,'The Resistance in Ohms')"
   ]
   }
,
{
		   "cell_type": "markdown",
		   "metadata": {},
		   "source": [
			"## Example 3.5: Example_33.sce"
		   ]
		  },
  {
"cell_type": "code",
	   "execution_count": null,
	   "metadata": {
	    "collapsed": true
	   },
	   "outputs": [],
"source": [
"// Grob's Basic Electronics 11e\n",
"// Chapter No. 03\n",
"// Example No. 3_5\n",
"clc; clear;\n",
"// The I of 8 mA flows through a 5-kOhms Resistor. How much is the IR voltage?\n",
"\n",
"// Given data\n",
"\n",
"I = 8*10^-3;        // Current flowing through Resistor=8m Amps\n",
"R = 5*10^3;         // Resistance=5k Ohms\n",
"\n",
"V = I*R;\n",
"disp (V,'The Voltage in Volts')"
   ]
   }
,
{
		   "cell_type": "markdown",
		   "metadata": {},
		   "source": [
			"## Example 3.6: Example_34.sce"
		   ]
		  },
  {
"cell_type": "code",
	   "execution_count": null,
	   "metadata": {
	    "collapsed": true
	   },
	   "outputs": [],
"source": [
"// Grob's Basic Electronics 11e\n",
"// Chapter No. 03\n",
"// Example No. 3_6\n",
"clc; clear;\n",
"// How much current is produced by 60 V across 12 kOhms?\n",
"\n",
"// Given data\n",
"\n",
"V = 60;        // Voltage=60 Volts\n",
"R = 12*10^3;   // Resistance=12k Ohms\n",
"\n",
"I = V/R;\n",
"disp (I,'The Current I in Amps')\n",
"disp ('i.e 5 mAmps')"
   ]
   }
,
{
		   "cell_type": "markdown",
		   "metadata": {},
		   "source": [
			"## Example 3.7: Example_35.sce"
		   ]
		  },
  {
"cell_type": "code",
	   "execution_count": null,
	   "metadata": {
	    "collapsed": true
	   },
	   "outputs": [],
"source": [
"// Grob's Basic Electronics 11e\n",
"// Chapter No. 03\n",
"// Example No. 3_7\n",
"clc; clear;\n",
"// A toaster takes 10 A from the 120-V power line. How much power is used?\n",
"\n",
"// Given data\n",
"\n",
"V = 120;        // Voltage of Power line=120 Volts\n",
"I = 10;         // Current drawn from Powerline=10 Amps\n",
"\n",
"P = V*I;\n",
"disp (P,'The Power used in Watts')\n",
"disp ('OR 1.2 kW')"
   ]
   }
,
{
		   "cell_type": "markdown",
		   "metadata": {},
		   "source": [
			"## Example 3.8: Example_36.sce"
		   ]
		  },
  {
"cell_type": "code",
	   "execution_count": null,
	   "metadata": {
	    "collapsed": true
	   },
	   "outputs": [],
"source": [
"// Grob's Basic Electronics 11e\n",
"// Chapter No. 03\n",
"// Example No. 3_8\n",
"clc; clear;\n",
"// How much current flows in the filament of a 300-W bulb connected to the 120-V power line?\n",
"\n",
"// Given Data\n",
"\n",
"V = 120;        // Voltage of Power line=120 Volts\n",
"P = 300;        // Power of Bulb=300 Watts\n",
"\n",
"I = P/V;\n",
"disp (I,'The Current I in Amps')"
   ]
   }
,
{
		   "cell_type": "markdown",
		   "metadata": {},
		   "source": [
			"## Example 3.9: Example_37.sce"
		   ]
		  },
  {
"cell_type": "code",
	   "execution_count": null,
	   "metadata": {
	    "collapsed": true
	   },
	   "outputs": [],
"source": [
"// Grob's Basic Electronics 11e\n",
"// Chapter No. 03\n",
"// Example No. 3_9\n",
"clc; clear;\n",
"// How much current flows in the filament of a 60-W bulb connected to the 120-V power line?\n",
"\n",
"// Given Data\n",
"\n",
"V = 120;        // Voltage of Power line=120 Volts\n",
"P = 60;         // Power of Bulb=60 Watts\n",
"\n",
"I = P/V;\n",
"disp (I,'The Current I in Amps')\n",
"disp ('OR 500 mA')"
   ]
   }
],
"metadata": {
		  "kernelspec": {
		   "display_name": "Scilab",
		   "language": "scilab",
		   "name": "scilab"
		  },
		  "language_info": {
		   "file_extension": ".sce",
		   "help_links": [
			{
			 "text": "MetaKernel Magics",
			 "url": "https://github.com/calysto/metakernel/blob/master/metakernel/magics/README.md"
			}
		   ],
		   "mimetype": "text/x-octave",
		   "name": "scilab",
		   "version": "0.7.1"
		  }
		 },
		 "nbformat": 4,
		 "nbformat_minor": 0
}
