{
"cells": [
 {
		   "cell_type": "markdown",
	   "metadata": {},
	   "source": [
       "# Chapter 27: Chapter 26 Filters"
	   ]
	},
{
		   "cell_type": "markdown",
		   "metadata": {},
		   "source": [
			"## Example 26.1: Example_170.sce"
		   ]
		  },
  {
"cell_type": "code",
	   "execution_count": null,
	   "metadata": {
	    "collapsed": true
	   },
	   "outputs": [],
"source": [
"// Grob's Basic Electronics 11e\n",
"// Chapter No. 26\n",
"// Example No. 26_1\n",
"clc; clear;\n",
"// Calculate (a)the cutoff frequency fc; (b)Vout at fc; (c)Theta at fc (Assume Vin = 10 Vpp for all frequencies)\n",
"\n",
"// Given data\n",
"\n",
"R = 10*10^3;        // Resistor=10 kOhms\n",
"C = 0.01*10^-6;     // Capacitor=0.01 uFarad\n",
"Vin = 10;           // Input Voltage=10Vpp\n",
"pi = 3.14\n",
"\n",
"// To calculate fc\n",
"\n",
"fc = 1/(2*pi*R*C);\n",
"disp (fc,'The Cutoff Frequency in Hertz')\n",
"disp ('i.e 1.592 kHz')\n",
"\n",
"// To calculate Vout at fc\n",
"\n",
"Xc = 1/(2*pi*fc*C);\n",
"\n",
"Zt = sqrt((R*R)+(Xc*Xc));\n",
"\n",
"Vout = Vin*(Xc/Zt);\n",
"disp (Vout,'The Output Voltage in Vpp' );\n",
"\n",
"// To calculate Theta\n",
"\n",
"Theta = atand(-(R/Xc));\n",
"disp (Theta,'The Phase angle (Theta z) in Degree');"
   ]
   }
,
{
		   "cell_type": "markdown",
		   "metadata": {},
		   "source": [
			"## Example 26.2: Example_171.sce"
		   ]
		  },
  {
"cell_type": "code",
	   "execution_count": null,
	   "metadata": {
	    "collapsed": true
	   },
	   "outputs": [],
"source": [
"// Grob's Basic Electronics 11e\n",
"// Chapter No. 26\n",
"// Example No. 26_2\n",
"clc; clear;\n",
"// Calculate (a)the cutoff frequency fc; (b)Vout at 1 kHz; (c)Theta at 1 kHz (Assume Vin = 10 Vpp for all frequencies)\n",
"\n",
"// Given data\n",
"\n",
"R = 1*10^3;         // Resistor=1 kOhms\n",
"L = 50*10^-3        // Inductor=50 mHenry\n",
"Vin = 10;           // Input Voltage=10Vpp\n",
"f = 1*10^3;         // Frequency=1 kHz\n",
"// To calculate fc\n",
"\n",
"fc = R/(2*%pi*L);\n",
"disp (fc,'The Cutoff Frequency in Hertz')\n",
"disp ('i.e 3.183 kHz')\n",
"\n",
"// To calculate Vout at fc\n",
"\n",
"Xl = 2*%pi*f*L;\n",
"\n",
"Zt = sqrt((R*R)+(Xl*Xl));\n",
"\n",
"Vout = Vin*(R/Zt);\n",
"disp (Vout,'The Output Voltage in Vpp');\n",
"disp ('Appox 9.52 Volts(p-p)')\n",
"\n",
"// To calculate Theta\n",
"\n",
"Theta = atand(-(Xl/R));\n",
"disp (Theta,'The Phase angle (Theta z) in Degree');"
   ]
   }
,
{
		   "cell_type": "markdown",
		   "metadata": {},
		   "source": [
			"## Example 26.3: Example_172.sce"
		   ]
		  },
  {
"cell_type": "code",
	   "execution_count": null,
	   "metadata": {
	    "collapsed": true
	   },
	   "outputs": [],
"source": [
"// Grob's Basic Electronics 11e\n",
"// Chapter No. 26\n",
"// Example No. 26_3\n",
"clc; clear;\n",
"// Calculate the cutoff frequency for (a) the RC high-pass filter; (b) the RL high-pass filter\n",
"\n",
"// Given data\n",
"\n",
"R = 1.5*10^3;       // Resistor=1.5 kOhms\n",
"L = 100*10^-3       // Inductor=100 mHenry\n",
"C = 0.01*10^-6;     // Capacitor=0.01 uFarad\n",
"\n",
"// To calculate fc for RC high-pass filter\n",
"\n",
"fc = 1/(2*%pi*R*C);\n",
"disp (fc,'The Cutoff Frequency for RC High-Pass Filter in Hertz')\n",
"disp ('i.e 10.61 kHz')\n",
"\n",
"// To calculate fc for RL high-pass filter\n",
"\n",
"fc1 = R/(2*%pi*L);\n",
"disp (fc1,'The Cutoff Frequency for RL High-Pass Filter in Hertz')\n",
"disp ('Appox 2.39 kHz')"
   ]
   }
,
{
		   "cell_type": "markdown",
		   "metadata": {},
		   "source": [
			"## Example 26.4: Example_173.sce"
		   ]
		  },
  {
"cell_type": "code",
	   "execution_count": null,
	   "metadata": {
	    "collapsed": true
	   },
	   "outputs": [],
"source": [
"// Grob's Basic Electronics 11e\n",
"// Chapter No. 26\n",
"// Example No. 26_4\n",
"clc; clear;\n",
"// Calculate the cutoff frequencies fc1 and fc2.\n",
"\n",
"//Given data\n",
"\n",
"R1 = 1*10^3;        // Resistor 1=1 kOhms\n",
"C1 = 1*10^-6;       // Capacitor 1=1 uFarad\n",
"R2 = 100*10^3;      // Resistor 2=100 kOhms\n",
"C2 = 0.001*10^-6;   // Capacitor 2=0.001 uFarad\n",
"\n",
"// To calculate fc1 for RC high-pass filter\n",
"\n",
"fc1 = 1/(2*%pi*R1*C1);\n",
"disp (fc1,'The Cutoff Frequency for RC High-Pass filter in Hertz');\n",
"disp ('i.e 159 Hz')\n",
"\n",
"// To calculate fc2 for RC high-pass filter\n",
"\n",
"fc2 = 1/(2*%pi*R2*C2);\n",
"disp (fc2,'The Cutoff Frequency for RC High-Pass filter in Hertz');\n",
"disp ('i.e 1.59 kHz')"
   ]
   }
,
{
		   "cell_type": "markdown",
		   "metadata": {},
		   "source": [
			"## Example 26.5: Example_174.sce"
		   ]
		  },
  {
"cell_type": "code",
	   "execution_count": null,
	   "metadata": {
	    "collapsed": true
	   },
	   "outputs": [],
"source": [
"// Grob's Basic Electronics 11e\n",
"// Chapter No. 26\n",
"// Example No. 26_5\n",
"clc; clear;\n",
"// Calculate the notch frequency fn if R1 is 1 kOhms and C1 is 0.01 uF. Also, calculate the required values for 2R1 and 2C1 in the low-pass filter.\n",
"\n",
"// Given data\n",
"\n",
"R1 = 1*10^3;        // Resistor 1=1 kOhms\n",
"C1 = 0.01*10^-6;    // Capacitor 1=0.01 uFarad\n",
"pi = 3.14;\n",
"\n",
"// To calculate Notch frequency fn for RC low-pass filter\n",
"\n",
"fn = 1/(4*pi*R1*C1);\n",
"disp (fn,'The Notch Frequency for RC Low-Pass filter in Hertz');\n",
"disp ('i.e 7.96 kHz')\n",
"\n",
"A = 2*R1;\n",
"disp (A,'The Required Value of 2R1 in Ohms')\n",
"disp ('i.e 2 kOhms')\n",
"\n",
"B = 2*C1;\n",
"disp (B,'The Required Value of 2C1 in Ohms')\n",
"disp ('0.02 uF')"
   ]
   }
,
{
		   "cell_type": "markdown",
		   "metadata": {},
		   "source": [
			"## Example 26.6: Example_175.sce"
		   ]
		  },
  {
"cell_type": "code",
	   "execution_count": null,
	   "metadata": {
	    "collapsed": true
	   },
	   "outputs": [],
"source": [
"// Grob's Basic Electronics 11e\n",
"// Chapter No. 26\n",
"// Example No. 26_6\n",
"clc; clear;\n",
"// A certain amplifier has an input power of 1 W and an output power of 100 W.Calculate the dB power gain of the amplifier.\n",
"\n",
"// Given data\n",
"\n",
"Pi = 1;     // Input power=1 Watts\n",
"Po = 100;   // Output power=100 Watts\n",
"\n",
"N = 10*log10(Po/Pi);\n",
"disp (N,'The Power Gain of Amplifier in dB')"
   ]
   }
,
{
		   "cell_type": "markdown",
		   "metadata": {},
		   "source": [
			"## Example 26.7: Example_176.sce"
		   ]
		  },
  {
"cell_type": "code",
	   "execution_count": null,
	   "metadata": {
	    "collapsed": true
	   },
	   "outputs": [],
"source": [
"// Grob's Basic Electronics 11e\n",
"// Chapter No. 26\n",
"// Example No. 26_7\n",
"clc; clear;\n",
"// The input power to a filter is 100 mW, and the output power is 5 mW. Calculate the attenuation, in decibels, offered by the filter.\n",
"\n",
"// Given data\n",
"\n",
"Pi = 100*10^-3;    // Input power=1 Watts\n",
"Po = 5*10^-3;      // Output power=100 Watts\n",
"\n",
"N = 10*log10(Po/Pi);\n",
"disp (N,'The Attenuation offered by the Filter in dB')"
   ]
   }
,
{
		   "cell_type": "markdown",
		   "metadata": {},
		   "source": [
			"## Example 26.8: Example_177.sce"
		   ]
		  },
  {
"cell_type": "code",
	   "execution_count": null,
	   "metadata": {
	    "collapsed": true
	   },
	   "outputs": [],
"source": [
"// Grob's Basic Electronics 11e\n",
"// Chapter No. 26\n",
"// Example No. 26_8\n",
"clc; clear;\n",
"// Calculate the attenuation, in decibels, at the following frequencies: (a) 0 Hz; (b) 1.592 kHz; (c) 15.92 kHz. (Assume that Vin is 10 V p-p at all frequencies.)\n",
"\n",
"// Given data\n",
"\n",
"f1 = 0;                 // Frequency 1=0 Hz\n",
"f2 = 1.592*10^3;        // Frequency 2=1.592 kHz (cutoff frequency)\n",
"f3 = 15.92*10^3;        // Frequency 3=15.92 kHz\n",
"Vi = 10;                // Voltage input=10 Volts(p-p)\n",
"R = 10*10^3;            // Resistor 1=10 kOhms\n",
"C = 0.01*10^-6;         // Capacitor 1=0.01 uFarad \n",
"pi = 3.14;\n",
"\n",
"Vo1 = Vi;\n",
"Vo2 = 0.707*Vi;\n",
"\n",
"// At 0 Hz\n",
"\n",
"N1 = 20*log10(Vo1/Vi);\n",
"disp (N1,'The Attenuation at 0 Hz in dB')\n",
"\n",
"//At 1.592 kHz (cutoff frequency)\n",
"\n",
"N2 = 20*log10(Vo2/Vi);\n",
"disp (N2,'The Attenuation at 1.592 kHz in dB')\n",
"\n",
"// At 15.92 kHz\n",
"\n",
"Xc = 1/(2*%pi*f3*C);\n",
"\n",
"A = R*R;\n",
"B = Xc*Xc;\n",
"\n",
"Zt = sqrt (A+B);\n",
"\n",
"N3 = 20*log10(Xc/Zt);\n",
"disp (N3,'The Attenuation at 15.92 kHz in dB')"
   ]
   }
,
{
		   "cell_type": "markdown",
		   "metadata": {},
		   "source": [
			"## Example 26.9: Example_178.sce"
		   ]
		  },
  {
"cell_type": "code",
	   "execution_count": null,
	   "metadata": {
	    "collapsed": true
	   },
	   "outputs": [],
"source": [
"// Grob's Basic Electronics 11e\n",
"// Chapter No. 26\n",
"// Example No. 26_9\n",
"clc; clear;\n",
"// From the graph in Fig. 26–23b, what is the attenuation in decibels at (a) 100 Hz; (b) 10 kHz; (c) 50 kHz?\n",
"\n",
"disp ('At F = 100 Hz, N(dB) = 0 dB, as indicated by point A on the graph.')\n",
"disp ('At F = 10 kHz, N(dB) = -16 dB, as indicated by point B on the graph.')\n",
"disp ('At F = 50 kHz, N(dB) = -30 dB, as indicated by point C on the graph.')"
   ]
   }
],
"metadata": {
		  "kernelspec": {
		   "display_name": "Scilab",
		   "language": "scilab",
		   "name": "scilab"
		  },
		  "language_info": {
		   "file_extension": ".sce",
		   "help_links": [
			{
			 "text": "MetaKernel Magics",
			 "url": "https://github.com/calysto/metakernel/blob/master/metakernel/magics/README.md"
			}
		   ],
		   "mimetype": "text/x-octave",
		   "name": "scilab",
		   "version": "0.7.1"
		  }
		 },
		 "nbformat": 4,
		 "nbformat_minor": 0
}
