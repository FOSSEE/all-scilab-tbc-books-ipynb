{
"cells": [
 {
		   "cell_type": "markdown",
	   "metadata": {},
	   "source": [
       "# Chapter 34: Chapter 33 Operational Amplifiers"
	   ]
	},
{
		   "cell_type": "markdown",
		   "metadata": {},
		   "source": [
			"## Example 33.10: Example_244.sce"
		   ]
		  },
  {
"cell_type": "code",
	   "execution_count": null,
	   "metadata": {
	    "collapsed": true
	   },
	   "outputs": [],
"source": [
"// Grob's Basic Electronics 11e\n",
"// Chapter No. 33\n",
"// Example No. 33_10\n",
"clc; clear;\n",
"// Assume Rin is 2 MOhms, Avol is 100,000, and Zout(OL) is 75 Ohms. Calculate Zin(CL) and Zout(CL)\n",
"\n",
"// Given data\n",
"\n",
"Avol = 100000;  // Open loop voltage gain=100,000\n",
"Ri = 2*10^6;    // Input resistance=2 MOhms\n",
"B = 1;          // Beta=1\n",
"Zool = 75;      // Output impedence (open-loop)=75 Ohms\n",
"\n",
"Zicl = Ri*(1+Avol*B);\n",
"disp (Zicl,'The Input impedence closed-loop in Ohms')\n",
"disp ('i.e 200 GOhms')\n",
"\n",
"A = Avol*B;\n",
"\n",
"Zocl = Zool/(1+A);\n",
"disp (Zocl,'The Closed loop Output Impedence in Ohms')\n",
""
   ]
   }
,
{
		   "cell_type": "markdown",
		   "metadata": {},
		   "source": [
			"## Example 33.11: Example_245.sce"
		   ]
		  },
  {
"cell_type": "code",
	   "execution_count": null,
	   "metadata": {
	    "collapsed": true
	   },
	   "outputs": [],
"source": [
"// Grob's Basic Electronics 11e\n",
"// Chapter No. 33\n",
"// Example No. 33_11\n",
"clc; clear;\n",
"// Calculate the closed-loop voltage gain, Acl, and the dc voltage at the op-amp output terminal.\n",
"\n",
"// Given data\n",
"\n",
"V = 15;         // Voltage at +ve terminal of op-amp=15 Volts\n",
"Rf = 10*10^3;   // Feedback resistance=10 kOhms\n",
"Ri = 1*10^3;    // Input resistance=1 kOhms\n",
"R1 = 10*10^3;   // Resistance1=10 kOhms\n",
"R2 = 10*10^3;   // Rsistance2=10 kOhms\n",
"\n",
"Acl = -(Rf/Ri);\n",
"disp (Acl,'The Closed-Loop Voltage Gain Acl is')\n",
"\n",
"Vo = V*(R2/(R1+R2));\n",
"disp (Vo,'The Output Voltage in Volts')"
   ]
   }
,
{
		   "cell_type": "markdown",
		   "metadata": {},
		   "source": [
			"## Example 33.12: Example_246.sce"
		   ]
		  },
  {
"cell_type": "code",
	   "execution_count": null,
	   "metadata": {
	    "collapsed": true
	   },
	   "outputs": [],
"source": [
"// Grob's Basic Electronics 11e\n",
"// Chapter No. 33\n",
"// Example No. 33_12\n",
"clc; clear;\n",
"// Calculate the output voltage, Vout.\n",
"\n",
"// Given data\n",
"\n",
"V1 = 1;     // Input voltage1=1 Volts\n",
"V2 = -5;    // Input voltage2=-5 Volts\n",
"V3 = 3;     // Input voltage3=3 Volts\n",
"\n",
"Vo = -(V1+V2+V3);\n",
"disp (Vo,'The Output Voltage in Volts')"
   ]
   }
,
{
		   "cell_type": "markdown",
		   "metadata": {},
		   "source": [
			"## Example 33.13: Example_247.sce"
		   ]
		  },
  {
"cell_type": "code",
	   "execution_count": null,
	   "metadata": {
	    "collapsed": true
	   },
	   "outputs": [],
"source": [
"// Grob's Basic Electronics 11e\n",
"// Chapter No. 33\n",
"// Example No. 33_13\n",
"clc; clear;\n",
"// Calculate the output voltage, Vout.\n",
"\n",
"// Given data\n",
"\n",
"V1 = 0.5;       // Input voltage1=0.5 Volts\n",
"V2 = -2;        // Input voltage2=-2 Volts\n",
"Rf = 10*10^3;   // Feedback resistance=10 kOhms\n",
"R1 = 1*10^3;    // Resistance1=1 kOhms\n",
"R2 = 2.5*10^3;  // Rsistance2=2.5 kOhms\n",
"\n",
"A = Rf/R1;\n",
"B = Rf/R2;\n",
"\n",
"Vo = -(A*V1+B*V2);\n",
"disp (Vo,'The Output Voltage in Volts')"
   ]
   }
,
{
		   "cell_type": "markdown",
		   "metadata": {},
		   "source": [
			"## Example 33.14: Example_248.sce"
		   ]
		  },
  {
"cell_type": "code",
	   "execution_count": null,
	   "metadata": {
	    "collapsed": true
	   },
	   "outputs": [],
"source": [
"// Grob's Basic Electronics 11e\n",
"// Chapter No. 33\n",
"// Example No. 33_14\n",
"clc; clear;\n",
"// Calculate the output voltage, Vout, if (a) Vx is 1 Vdc and Vy is -0.25 Vdc, (b) -Vx is 0.5 Vdc and Vy is 0.5 Vdc, (c) Vx is 0.3 V and Vy is 0.3 V.\n",
"\n",
"// Given data\n",
"\n",
"Rf = 10*10^3;   // Feedback resistance=10 kOhms\n",
"R1 = 1*10^3;    // Resistance1=1 kOhms\n",
"Vx1 = 1;        // Input voltage Vx1 at -ve terminal of op-amp=1 Volts\n",
"Vy1 = -0.25;    // Input voltage Vy1 at +ve terminal of op-amp=-0.25 Volts\n",
"Vx2 = -0.5;     // Input voltage Vx2 at -ve terminal of op-amp=-0.5 Volts\n",
"Vy2 = 0.5;    // Input voltage Vy2 at +ve terminal of op-amp=0.5 Volts\n",
"Vx3 = 0.3;        // Input voltage Vx3 at -ve terminal of op-amp=0.3 Volts\n",
"Vy3 = 0.3;    // Input voltage Vy3 at +ve terminal of op-amp=0.3 Volts\n",
"\n",
"A = -Rf/R1;\n",
"\n",
"//  Case A\n",
"\n",
"Voa = A*(Vx1-Vy1);\n",
"disp(Voa,'The Output Voltage of Case A in Volts')\n",
"\n",
"//  Case B\n",
"\n",
"Voa = A*(Vx2-Vy2);\n",
"disp(Voa,'The Output Voltage of Case B in Volts')\n",
"\n",
"//  Case C\n",
"\n",
"Voa = A*(Vx3-Vy3);\n",
"disp(Voa,'The Output Voltage of Case C in Volts')"
   ]
   }
,
{
		   "cell_type": "markdown",
		   "metadata": {},
		   "source": [
			"## Example 33.15: Example_249.sce"
		   ]
		  },
  {
"cell_type": "code",
	   "execution_count": null,
	   "metadata": {
	    "collapsed": true
	   },
	   "outputs": [],
"source": [
"// Grob's Basic Electronics 11e\n",
"// Chapter No. 33\n",
"// Example No. 33_15\n",
"clc; clear;\n",
"// Assume that Rd increases to 7.5 k due to an increase in the ambient temperature. Calculate the output of the differential amplifier. Note: Rb is 5 kOhms.\n",
"\n",
"// Given data\n",
"\n",
"Vi = 5;         // Voltage input=5 Volts(dc)\n",
"Rf = 10*10^3;   // Feedback resistance=10 kOhms\n",
"R1 = 1*10^3;    // Resistance1=1 kOhms\n",
"Ra = 5*10^3;    // Resistance A at wein bridge=5 kOhms\n",
"Rb = 10*10^3;   // Resistance B at wein bridge=10 kOhms\n",
"Rc = 5*10^3;    // Resistance C at wein bridge=5 kOhms\n",
"Rd = 7.5*10^3;  // Resistance D at wein bridge=7.5 kOhms\n",
"\n",
"Vx = Vi*(Ra/Rb);\n",
"Vy = Vi*(Rd/(Rd+Rc));\n",
"A = -Rf/R1\n",
"\n",
"Vo = A*(Vx-Vy);\n",
"disp (Vo,'The Output of Differential Amplifier in Volts')"
   ]
   }
,
{
		   "cell_type": "markdown",
		   "metadata": {},
		   "source": [
			"## Example 33.16: Example_250.sce"
		   ]
		  },
  {
"cell_type": "code",
	   "execution_count": null,
	   "metadata": {
	    "collapsed": true
	   },
	   "outputs": [],
"source": [
"// Grob's Basic Electronics 11e\n",
"// Chapter No. 33\n",
"// Example No. 33_16\n",
"clc; clear;\n",
"// Calculate the cutoff frequency, fc.\n",
"\n",
"// Given data\n",
"\n",
"Rf = 10*10^3;       // Feedback resistance=10 kOhms\n",
"Cf = 0.01*10^-6;    // Feedback capacitance=0.01 uFarad\n",
"\n",
"fc = 1/(2*%pi*Rf*Cf);\n",
"disp (fc,'The Cutoff Frequency in Hertz')\n",
"disp ('i.e 1.591 kHz')"
   ]
   }
,
{
		   "cell_type": "markdown",
		   "metadata": {},
		   "source": [
			"## Example 33.17: Example_251.sce"
		   ]
		  },
  {
"cell_type": "code",
	   "execution_count": null,
	   "metadata": {
	    "collapsed": true
	   },
	   "outputs": [],
"source": [
"// Grob's Basic Electronics 11e\n",
"// Chapter No. 33\n",
"// Example No. 33_17\n",
"clear; clc;\n",
"// Calculate the Voltage gain, Acl at (a)0 Hz and (b) 1 MHz\n",
"\n",
"// Given data\n",
"\n",
"f1 = 1*10^6;        // Frequency=1 MHertz\n",
"Rf = 10*10^3;       // Feedback resistance=10 kOhms\n",
"R1 = 1*10^3;        // Resistance1=1 kOhms\n",
"Cf = 0.01*10^-6;    // Feedback capacitance=0.01 uFarad\n",
"pi = 3.14;\n",
"\n",
"// At 0 Hz, Xcf = infinity ohms, So, Zf=Rf \n",
"\n",
"Acl = -Rf/R1;\n",
"disp (Acl,'The Closed-Loop Voltage Gain at 0 Hz is');\n",
"\n",
"// At 1 MHz\n",
"\n",
"Xcf = 1/(2*pi*f1*Cf);\n",
"\n",
"A = (Rf*Rf);\n",
"B = (Xcf*Xcf);\n",
"\n",
"Zf = ((Xcf*Rf)/sqrt(A+B));\n",
"\n",
"Acl1 = -Zf/R1;\n",
"disp (Acl1,'The Closed-Loop Voltage Gain at 1 MHz is');"
   ]
   }
,
{
		   "cell_type": "markdown",
		   "metadata": {},
		   "source": [
			"## Example 33.18: Example_252.sce"
		   ]
		  },
  {
"cell_type": "code",
	   "execution_count": null,
	   "metadata": {
	    "collapsed": true
	   },
	   "outputs": [],
"source": [
"// Grob's Basic Electronics 11e\n",
"// Chapter No. 33\n",
"// Example No. 33_18\n",
"clear; clc;\n",
"// Calculate the dB voltage gain, at (a)0 Hz and (b) 1.591 kHz\n",
"\n",
"// Given data\n",
"\n",
"f1 = 1.591*10^3;    // Frequency=1.591 kHertz\n",
"Rf = 10*10^3;       // Feedback resistance=10 kOhms\n",
"Ri = 1*10^3;        // Input resistance=1 kOhms\n",
"Cf = 0.01*10^-6;    // Feedback capacitance=0.01 uFarad\n",
"\n",
"// At 0 Hz, Xcf = infinity ohms, So, Zf=Rf \n",
"\n",
"A = Rf/Ri\n",
"\n",
"Acl = 20*log10(A);\n",
"disp (Acl,'The Voltage Gain at 0 Hz in dB');\n",
"\n",
"// At 1.591 kHz\n",
"\n",
"Xcf = 1/(2*%pi*f1*Cf);\n",
"B = (Rf*Rf);\n",
"C = (Xcf*Xcf);\n",
"Zf = (Xcf*Rf/sqrt(B+C));\n",
"D = Zf/Ri;\n",
"\n",
"Acl1 = 20*log10(D);\n",
"disp (Acl1,'The Voltage Gain at 1.591 kHz in dB')\n",
"disp ('Appox 17dB')"
   ]
   }
,
{
		   "cell_type": "markdown",
		   "metadata": {},
		   "source": [
			"## Example 33.19: Example_253.sce"
		   ]
		  },
  {
"cell_type": "code",
	   "execution_count": null,
	   "metadata": {
	    "collapsed": true
	   },
	   "outputs": [],
"source": [
"// Grob's Basic Electronics 11e\n",
"// Chapter No. 33\n",
"// Example No. 33_19\n",
"clc; clear;\n",
"// Calculate the cutoff frequency, fc.\n",
"\n",
"// Given data\n",
"\n",
"Ri = 1*10^3;       // Input resistance=10 kOhms\n",
"Ci = 0.1*10^-6;    // Input capacitance=0.01 uFarad\n",
"\n",
"fc = 1/(2*%pi*Ri*Ci);\n",
"disp (fc,'The Cutoff Frequency in Hertz')\n",
"disp ('i.e 1.591 kHz')"
   ]
   }
,
{
		   "cell_type": "markdown",
		   "metadata": {},
		   "source": [
			"## Example 33.1: Example_235.sce"
		   ]
		  },
  {
"cell_type": "code",
	   "execution_count": null,
	   "metadata": {
	    "collapsed": true
	   },
	   "outputs": [],
"source": [
"// Grob's Basic Electronics 11e\n",
"// Chapter No. 33\n",
"// Example No. 33_1\n",
"clc; clear;\n",
"// Calculate the differential voltage gain, Ad, and the ac output voltage, Vout.\n",
"\n",
"// Given data\n",
"\n",
"Vin = 10*10^-3;    // Input voltage=10 mVolts(p-p)\n",
"Rc = 10*10^3;      // Collector resistance=10 kOhms\n",
"Ie = 715*10^-6;    // Emitter current=715 uAmps\n",
"\n",
"re = (25*10^-3)/Ie;\n",
"\n",
"Ad = Rc/(2*re);\n",
"disp (Ad,'The Differential Voltage Gain is')\n",
"disp ('i.e 142.86 ~= 143')\n",
"\n",
"Av = Ad\n",
"\n",
"Vo = Av*Vin;\n",
"disp (Vo,'The Ac Output Voltage in Volts(p-p)')"
   ]
   }
,
{
		   "cell_type": "markdown",
		   "metadata": {},
		   "source": [
			"## Example 33.20: Example_254.sce"
		   ]
		  },
  {
"cell_type": "code",
	   "execution_count": null,
	   "metadata": {
	    "collapsed": true
	   },
	   "outputs": [],
"source": [
"// Grob's Basic Electronics 11e\n",
"// Chapter No. 33\n",
"// Example No. 33_20\n",
"clc; clear;\n",
"// Vin is 5 V, R is 1 kOhms, and Rl is 100 Ohms. Calculate the output current, Iout.\n",
"\n",
"// Given data\n",
"\n",
"Vin = 5;        // Input votage=5 Volts\n",
"Ri = 1*10^3;    // Input resistance=1 kOhms\n",
"Rl = 100;       // Load resistance=100 Ohms\n",
"\n",
"Io = Vin/Ri;\n",
"disp (Io,'The Output Current in Amps')\n",
"disp ('i.e 5 mAmps')"
   ]
   }
,
{
		   "cell_type": "markdown",
		   "metadata": {},
		   "source": [
			"## Example 33.21: Example_255.sce"
		   ]
		  },
  {
"cell_type": "code",
	   "execution_count": null,
	   "metadata": {
	    "collapsed": true
	   },
	   "outputs": [],
"source": [
"// Grob's Basic Electronics 11e\n",
"// Chapter No. 33\n",
"// Example No. 33_21\n",
"clc; clear;\n",
"// Iin is 1.5 mA, R is 1 kOhms, and Rl is 10 kOhms. Calculate Vout.\n",
"\n",
"// Given data\n",
"\n",
"Iin = 1.5*10^-3;    // Input votage=5 Volts\n",
"Ri = 1*10^3;        // Input resistance=1 kOhms\n",
"Rl = 100;           // Load resistance=100 Ohms\n",
"\n",
"Vo = Iin*Ri;\n",
"disp (Vo,'The Output Voltage in Volts')"
   ]
   }
,
{
		   "cell_type": "markdown",
		   "metadata": {},
		   "source": [
			"## Example 33.22: Example_256.sce"
		   ]
		  },
  {
"cell_type": "code",
	   "execution_count": null,
	   "metadata": {
	    "collapsed": true
	   },
	   "outputs": [],
"source": [
"// Grob's Basic Electronics 11e\n",
"// Chapter No. 33\n",
"// Example No. 33_22\n",
"clc; clear;\n",
"// R1 is 1 kOhms and R2 is 100 kOhms. Calculate UTP, LTP, and VH.\n",
"\n",
"// Given data\n",
"\n",
"R1 = 1*10^3;        // Resistance1=1 kOhms\n",
"R2 = 100*10^3;      // Resistance2=100 kOhms\n",
"Vcc = 15;           // Applied votage=15 Volts\n",
"Vsat = 13;          // Assume Saturation voltage=13 Volts\n",
"\n",
"Beta = R1/(R1+R2);\n",
"\n",
"Utp = Beta*Vsat;\n",
"disp(Utp,'The Upper Trigger Point in Volts')\n",
"disp ('i.e 128.7 mVolts')\n",
"\n",
"Ltp = -Beta*Vsat;\n",
"disp(Ltp,'The Lower Trigger Point in Volts')\n",
"disp ('i.e -128.7 mVolts')\n",
"\n",
"Vh = Utp-Ltp;\n",
"disp (Vh,'The Hysterisis Voltage in Volts')\n",
"disp ('i.e 257.4 mVolts')"
   ]
   }
,
{
		   "cell_type": "markdown",
		   "metadata": {},
		   "source": [
			"## Example 33.23: Example_257.sce"
		   ]
		  },
  {
"cell_type": "code",
	   "execution_count": null,
	   "metadata": {
	    "collapsed": true
	   },
	   "outputs": [],
"source": [
"// Grob's Basic Electronics 11e\n",
"// Chapter No. 33\n",
"// Example No. 33_23\n",
"clc; clear;\n",
"// Rl is 1 kOhms and the frequency of the input voltage equals 100 Hz. Calculate the minimum value of C required.\n",
"\n",
"// Given data\n",
"\n",
"f = 100;        // Applied frequency=100 Hertz\n",
"Rl = 1*10^3;    // Load resistance=1 kOhms\n",
"\n",
"T = 1/f;\n",
"\n",
"C = (10*T)/Rl;\n",
"disp (C,'The Minimum value of required Capacitor in Farads')\n",
"disp ('i.e 100 uFarad')"
   ]
   }
,
{
		   "cell_type": "markdown",
		   "metadata": {},
		   "source": [
			"## Example 33.2: Example_236.sce"
		   ]
		  },
  {
"cell_type": "code",
	   "execution_count": null,
	   "metadata": {
	    "collapsed": true
	   },
	   "outputs": [],
"source": [
"// Grob's Basic Electronics 11e\n",
"// Chapter No. 33\n",
"// Example No. 33_2\n",
"clc; clear;\n",
"// calculate the common-mode voltage gain, ACM, and the CMRR (dB).\n",
"\n",
"// Given data\n",
"\n",
"Rc = 10*10^3;     // Collector resistance=10 kOhms\n",
"Re = 10*10^3;     // Emitter resistance=10 kOhms\n",
"Ad = 142.86;      // Differential gain=142.86\n",
"\n",
"Acm = Rc/(2*Re);\n",
"disp (Acm,'The Common-Mode Voltage Gain Acm is')\n",
"\n",
"CMRR = 20*log10(Ad/Acm);\n",
"disp (CMRR,'The Commom-Mode Rejection Ratio in dB')"
   ]
   }
,
{
		   "cell_type": "markdown",
		   "metadata": {},
		   "source": [
			"## Example 33.3: Example_237.sce"
		   ]
		  },
  {
"cell_type": "code",
	   "execution_count": null,
	   "metadata": {
	    "collapsed": true
	   },
	   "outputs": [],
"source": [
"// Grob's Basic Electronics 11e\n",
"// Chapter No. 33\n",
"// Example No. 33_3\n",
"clc; clear;\n",
"// Calculate fmax for an op amp that has an Sr of 5 V/us and a peak output voltage of 10 V.\n",
"\n",
"// Given data\n",
"\n",
"Vpk = 10;       // Peak output voltage=10 Volts\n",
"Sr = 5/10^-6;   // Slew rate=5 V/us\n",
"pi = 3.14;      // JI=3.14\n",
"\n",
"fo = Sr/(2*pi*Vpk);\n",
"disp (fo,'The Output Frequency in Hertz')\n",
"disp ('i.e 79.6 kHz')"
   ]
   }
,
{
		   "cell_type": "markdown",
		   "metadata": {},
		   "source": [
			"## Example 33.4: Example_238.sce"
		   ]
		  },
  {
"cell_type": "code",
	   "execution_count": null,
	   "metadata": {
	    "collapsed": true
	   },
	   "outputs": [],
"source": [
"// Grob's Basic Electronics 11e\n",
"// Chapter No. 33\n",
"// Example No. 33_4\n",
"clc; clear;\n",
"// calculate the closed-loop voltage gain, Acl, and the output voltage, Vout.\n",
"\n",
"// Given data\n",
"\n",
"Vin = 1;        // Input voltage=1 Volts(p-p)\n",
"Rf = 10*10^3;   // Feedback resistance=10 kOhms\n",
"Ri = 1*10^3;    // Input resistance=1 kOhms\n",
"\n",
"Acl = -(Rf/Ri);\n",
"disp (Acl,'The Closed-Loop Voltage Gain Acl is')\n",
"\n",
"Vo = -Vin*Acl;\n",
"disp (Vo,'The Output Voltage in Volts(p-p)')\n",
"disp ('The -ve sign indicates that input and output voltages are 180° out-of-phase')"
   ]
   }
,
{
		   "cell_type": "markdown",
		   "metadata": {},
		   "source": [
			"## Example 33.5: Example_239.sce"
		   ]
		  },
  {
"cell_type": "code",
	   "execution_count": null,
	   "metadata": {
	    "collapsed": true
	   },
	   "outputs": [],
"source": [
"// Grob's Basic Electronics 11e\n",
"// Chapter No. 33\n",
"// Example No. 33_5\n",
"clc; clear;\n",
"// If Avol equals 100,000, calculate the value of Vid.\n",
"\n",
"// Given data\n",
"\n",
"Avol = 100000;  // Open loop voltage gain=100,000\n",
"Vo = 10;        // Output voltage=10 Volts(p-p)\n",
"\n",
"Vid = Vo/Avol;\n",
"disp (Vid,'The Differential Input Voltage in Volts(p-p)')\n",
"disp ('i.e 100 uVolts(p-p)')"
   ]
   }
,
{
		   "cell_type": "markdown",
		   "metadata": {},
		   "source": [
			"## Example 33.6: Example_240.sce"
		   ]
		  },
  {
"cell_type": "code",
	   "execution_count": null,
	   "metadata": {
	    "collapsed": true
	   },
	   "outputs": [],
"source": [
"// Grob's Basic Electronics 11e\n",
"// Chapter No. 33\n",
"// Example No. 33_6\n",
"clc;clear;\n",
"// calculate Zin and Zout(CL). Assume AVOL is 100,000 and Zout(OL) is 75 Ohms.\n",
"\n",
"// Given data\n",
"\n",
"Avol = 100000;  // Open loop voltage gain=100,000\n",
"Rf = 10*10^3;   // Feedback resistance=10 kOhms\n",
"Ri = 1*10^3;    // Input resistance=1 kOhms\n",
"Zool = 75;      // Output impedence (open-loop)=75 Ohms\n",
"\n",
"Zi = Ri;\n",
"disp (Zi,'The Input Impedence in Ohms')\n",
"disp ('i.e 1 kOhms')\n",
"\n",
"Beta = Ri/(Ri+Rf);\n",
"\n",
"A = Avol*Beta;\n",
"\n",
"Zocl = Zool/(1+A);\n",
"disp (Zocl,'The Closed Loop Output Impedence in Ohms')"
   ]
   }
,
{
		   "cell_type": "markdown",
		   "metadata": {},
		   "source": [
			"## Example 33.7: Example_241.sce"
		   ]
		  },
  {
"cell_type": "code",
	   "execution_count": null,
	   "metadata": {
	    "collapsed": true
	   },
	   "outputs": [],
"source": [
"// Grob's Basic Electronics 11e\n",
"// Chapter No. 33\n",
"// Example No. 33_7\n",
"clc; clear;\n",
"// Calculate the 5-V power bandwidth.\n",
"\n",
"// Given data\n",
"\n",
"Vo = 10;            // Output voltage=10 Volts(p-p)\n",
"Sr = 0.5/10^-6;     // Slew rate=0.5 V/us\n",
"\n",
"Vpk = Vo/2;\n",
"\n",
"fo = Sr/(2*%pi*Vpk);\n",
"disp (fo,'The Output Frequency in Hertz')\n",
"disp ('i.e 15.915 kHz')"
   ]
   }
,
{
		   "cell_type": "markdown",
		   "metadata": {},
		   "source": [
			"## Example 33.8: Example_242.sce"
		   ]
		  },
  {
"cell_type": "code",
	   "execution_count": null,
	   "metadata": {
	    "collapsed": true
	   },
	   "outputs": [],
"source": [
"// Grob's Basic Electronics 11e\n",
"// Chapter No. 33\n",
"// Example No. 33_8\n",
"clc; clear;\n",
"// Calculate the closed-loop voltage gain, Acl, and the output voltage, Vout.\n",
"\n",
"// Given data\n",
"\n",
"Vin = 1;        // Input voltage=1 Volts(p-p)\n",
"Rf = 10*10^3;   // Feedback resistance=10 kOhms\n",
"Ri = 1*10^3;    // Input resistance=1 kOhms\n",
"\n",
"Acl = 1+(Rf/Ri);\n",
"disp (Acl,'The Closed-Loop Voltage Gain Acl is')\n",
"\n",
"Vo = Vin*Acl;\n",
"disp (Vo,'The Output Voltage in Volts(p-p)')"
   ]
   }
,
{
		   "cell_type": "markdown",
		   "metadata": {},
		   "source": [
			"## Example 33.9: Example_243.sce"
		   ]
		  },
  {
"cell_type": "code",
	   "execution_count": null,
	   "metadata": {
	    "collapsed": true
	   },
	   "outputs": [],
"source": [
"// Grob's Basic Electronics 11e\n",
"// Chapter No. 33\n",
"// Example No. 33_9\n",
"clc; clear;\n",
"// Calculate Zin(CL) and Zout(CL). Assume Rin is 2 MOhms, Avol is 100,000, and Zout(OL) is 75 Ohms.\n",
"\n",
"// Given data\n",
"\n",
"Avol = 100000;  // Open loop voltage gain=100,000\n",
"Ri = 2*10^6;    // Input resistance=2 MOhms\n",
"B = 0.0909;     // Beta=0.0909\n",
"Zool = 75;      // Output impedence (open-loop)=75 Ohms\n",
"\n",
"Zicl = Ri*(1+Avol*B);\n",
"disp (Zicl,'The Input Impedence Closed-Loop in Ohms')\n",
"disp ('i.e 18 GOhms')\n",
"\n",
"A = Avol*B;\n",
"\n",
"Zocl = Zool/(1+A);\n",
"disp (Zocl,'The Closed-Loop Output Impedence in Ohms')"
   ]
   }
],
"metadata": {
		  "kernelspec": {
		   "display_name": "Scilab",
		   "language": "scilab",
		   "name": "scilab"
		  },
		  "language_info": {
		   "file_extension": ".sce",
		   "help_links": [
			{
			 "text": "MetaKernel Magics",
			 "url": "https://github.com/calysto/metakernel/blob/master/metakernel/magics/README.md"
			}
		   ],
		   "mimetype": "text/x-octave",
		   "name": "scilab",
		   "version": "0.7.1"
		  }
		 },
		 "nbformat": 4,
		 "nbformat_minor": 0
}
