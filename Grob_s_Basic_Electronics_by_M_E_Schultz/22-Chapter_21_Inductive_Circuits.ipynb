{
"cells": [
 {
		   "cell_type": "markdown",
	   "metadata": {},
	   "source": [
       "# Chapter 22: Chapter 21 Inductive Circuits"
	   ]
	},
{
		   "cell_type": "markdown",
		   "metadata": {},
		   "source": [
			"## Example 21.1: Example_144.sce"
		   ]
		  },
  {
"cell_type": "code",
	   "execution_count": null,
	   "metadata": {
	    "collapsed": true
	   },
	   "outputs": [],
"source": [
"// Grob's Basic Electronics 11e\n",
"// Chapter No. 21\n",
"// Example No. 21_1\n",
"clc; clear\n",
"// If a R=30 ohms and Xl=40 ohms are in series with 100V applied, find the following: Zt, I, Vr, Vl and Theta z. What is the phase angle between Vl and Vr with respect to I? Prove that the sum of the series voltage drop equals the applied voltage Vt\n",
"\n",
"// Given data\n",
"\n",
"R = 30;     // Resistance=30 Ohms\n",
"Xl = 40;    // Inductive reactance=40 Ohms\n",
"Vt = 100;   // Applied voltage=100 Volts\n",
"\n",
"\n",
"R1 = R*R;\n",
"Xl1 = Xl*Xl;\n",
"\n",
"Zt = sqrt(R1+Xl1);\n",
"disp (Zt,'Zt in ohms');\n",
"\n",
"I = (Vt/Zt);\n",
"disp (I, 'I in Ampers');\n",
"\n",
"Vr = I*R;\n",
"disp (Vr, 'Vr in Volts');\n",
"\n",
"Vl = I*Xl;\n",
"disp (Vl, 'Vl in Volts');\n",
"\n",
"Oz = atand(Xl/R);\n",
"disp (Oz, 'Theta z in degree');\n",
"\n",
"//Prove that the sum of the series voltage drop equals the applied voltage Vt\n",
"\n",
"Vt = sqrt((Vr*Vr)+(Vl*Vl));\n",
"disp (Vt, 'Sum of Voltage Drop is Equal to Applied Voltage 100V');"
   ]
   }
,
{
		   "cell_type": "markdown",
		   "metadata": {},
		   "source": [
			"## Example 21.2: Example_145.sce"
		   ]
		  },
  {
"cell_type": "code",
	   "execution_count": null,
	   "metadata": {
	    "collapsed": true
	   },
	   "outputs": [],
"source": [
"// Grob's Basic Electronics 11e\n",
"// Chapter No. 21\n",
"// Example No. 21_2\n",
"clc; clear;\n",
"// What is the total Z of a 600-Ohms R in parallel with a 300 Ohms Xl? Assume 600 V for the applied voltage.\n",
"\n",
"// Given data\n",
"\n",
"R = 600;    // Resistance=600 Ohms\n",
"Xl = 300;   // Inductive reactance=300 Ohms\n",
"V = 600;    // Applied voltage=600 Volts\n",
"\n",
"Ir = V/R;\n",
"Il = V/Xl;\n",
"A = Ir*Ir;\n",
"B = Il*Il;\n",
"It = sqrt(A+B);\n",
"\n",
"Zeq = V/It;\n",
"disp(Zeq,'The Total Impedence in Ohms')"
   ]
   }
,
{
		   "cell_type": "markdown",
		   "metadata": {},
		   "source": [
			"## Example 21.3: Example_146.sce"
		   ]
		  },
  {
"cell_type": "code",
	   "execution_count": null,
	   "metadata": {
	    "collapsed": true
	   },
	   "outputs": [],
"source": [
"// Grob's Basic Electronics 11e\n",
"// Chapter No. 21\n",
"// Example No. 21_3\n",
"clc; clear;\n",
"// An air-core coil has an Xl of 700 Ohms and an Re of 2 Ohms. Calculate the value of Q for this coil.\n",
"\n",
"// Given data\n",
"\n",
"Xl = 700;   // Inductive reactance=700 Ohms\n",
"Re = 2;     // AC effective resistance=2 Ohms\n",
"\n",
"Q = Xl/Re;\n",
"disp (Q,'The Q of Coil is')"
   ]
   }
,
{
		   "cell_type": "markdown",
		   "metadata": {},
		   "source": [
			"## Example 21.4: Example_147.sce"
		   ]
		  },
  {
"cell_type": "code",
	   "execution_count": null,
	   "metadata": {
	    "collapsed": true
	   },
	   "outputs": [],
"source": [
"// Grob's Basic Electronics 11e\n",
"// Chapter No. 21\n",
"// Example No. 21_4\n",
"clc; clear;\n",
"// A 200 uH coil has a Q of 40 at 0.5 MHz. Find Re.\n",
"\n",
"// Given data\n",
"\n",
"L = 200*10^-6;  // L of coil=200 uHenry\n",
"Q = 40;         // Q=40\n",
"f = 0.5*10^6;   // Frequency=0.5 MHz\n",
"pi = 3.14;\n",
"\n",
"Xl = 2*pi*L*f;\n",
"\n",
"Re = Xl/Q;\n",
"disp (Re,'The AC Effective Resistance in Ohms')"
   ]
   }
],
"metadata": {
		  "kernelspec": {
		   "display_name": "Scilab",
		   "language": "scilab",
		   "name": "scilab"
		  },
		  "language_info": {
		   "file_extension": ".sce",
		   "help_links": [
			{
			 "text": "MetaKernel Magics",
			 "url": "https://github.com/calysto/metakernel/blob/master/metakernel/magics/README.md"
			}
		   ],
		   "mimetype": "text/x-octave",
		   "name": "scilab",
		   "version": "0.7.1"
		  }
		 },
		 "nbformat": 4,
		 "nbformat_minor": 0
}
