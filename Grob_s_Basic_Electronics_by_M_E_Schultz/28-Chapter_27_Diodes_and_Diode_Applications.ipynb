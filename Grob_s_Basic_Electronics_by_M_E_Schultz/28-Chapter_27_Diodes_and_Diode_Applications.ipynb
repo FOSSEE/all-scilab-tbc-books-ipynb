{
"cells": [
 {
		   "cell_type": "markdown",
	   "metadata": {},
	   "source": [
       "# Chapter 28: Chapter 27 Diodes and Diode Applications"
	   ]
	},
{
		   "cell_type": "markdown",
		   "metadata": {},
		   "source": [
			"## Example 27.10: Example_188.sce"
		   ]
		  },
  {
"cell_type": "code",
	   "execution_count": null,
	   "metadata": {
	    "collapsed": true
	   },
	   "outputs": [],
"source": [
"// Grob's Basic Electronics 11e\n",
"// Chapter No. 27\n",
"// Example No. 27_10\n",
"clc; clear;\n",
"// Calculate the maximum rated zener current for a 1 W, 10 V zener.\n",
"\n",
"// Given data\n",
"\n",
"Pzm = 1;        // Power rating of zener= 1 Watts\n",
"Vz = 10;        // Voltage rating of zener= 10 Volts\n",
"\n",
"Izm = Pzm/Vz;\n",
"disp (Izm,'The Maximum Rated Current of Zener in Amps')\n",
"disp ('i.e 100 mAmps')"
   ]
   }
,
{
		   "cell_type": "markdown",
		   "metadata": {},
		   "source": [
			"## Example 27.11: Example_189.sce"
		   ]
		  },
  {
"cell_type": "code",
	   "execution_count": null,
	   "metadata": {
	    "collapsed": true
	   },
	   "outputs": [],
"source": [
"// Grob's Basic Electronics 11e\n",
"// Chapter No. 27\n",
"// Example No. 27_11\n",
"clc; clear;\n",
"// If Vz=10 V, calculate Iz.\n",
"\n",
"// Given data\n",
"\n",
"Vin = 25;       // Input voltage=25 Volts\n",
"Vz = 10;        // Zener voltage=10 Volts\n",
"Rs = 1*10^3;    // Source Resistance=1 kOhms\n",
"\n",
"Iz = (Vin-Vz)/Rs;\n",
"disp (Iz,'The Zener Current in Amps')\n",
"disp ('i.e 15 mAmps')"
   ]
   }
,
{
		   "cell_type": "markdown",
		   "metadata": {},
		   "source": [
			"## Example 27.12: Example_190.sce"
		   ]
		  },
  {
"cell_type": "code",
	   "execution_count": null,
	   "metadata": {
	    "collapsed": true
	   },
	   "outputs": [],
"source": [
"// Grob's Basic Electronics 11e\n",
"// Chapter No. 27\n",
"// Example No. 27_12\n",
"clc; clear;\n",
"// If R L increases to 250 Ohms, calculate the following: Is, Il, Iz, and Pz.\n",
"\n",
"// Given data\n",
"\n",
"Vin = 25;       // Input voltage=25 Volts\n",
"Vz = 7.5;        // Zener voltage=7.5 Volts\n",
"Rl = 250;    // Load Resistance=250 Ohms\n",
"Is = 75*10^-3;  // Source current=75 mAmps\n",
"\n",
"disp (Is,'The Source Current in Amps')\n",
"disp ('i.e 75 mAmps')\n",
"\n",
"Il = Vz/Rl;\n",
"disp (Il,'The Load Current in Amps')\n",
"disp ('i.e 30 mAmps')\n",
"\n",
"Iz = Is-Il;\n",
"disp (Iz,'The Zener Current in Amps')\n",
"disp ('i.e 45 mAmps')\n",
"\n",
"Pz = Vz*Iz;\n",
"disp (Pz,'The Power Dissipation of Zener in Watts')\n",
"disp ('i.e 337.5 mWatts')"
   ]
   }
,
{
		   "cell_type": "markdown",
		   "metadata": {},
		   "source": [
			"## Example 27.13: Example_191.sce"
		   ]
		  },
  {
"cell_type": "code",
	   "execution_count": null,
	   "metadata": {
	    "collapsed": true
	   },
	   "outputs": [],
"source": [
"// Grob's Basic Electronics 11e\n",
"// Chapter No. 27\n",
"// Example No. 27_13\n",
"clc; clear;\n",
"// Calculate Is, Il and Iz for (a)Rl=200 ohms; (b)Rl=500 ohms.\n",
"\n",
"// Given data\n",
"\n",
"Vin = 16;       // Vin=16 Volts given\n",
"Vz = 10;        // Vz=10 Volts given\n",
"Rs = 100;       // Source Resistance = 100 ohms given\n",
"Rla = 200;      // Load Resistance A = 200 ohms given\n",
"Rlb = 500;      //Load Resistance B = 500 ohms given\n",
"\n",
"// For Rl 200 ohms\n",
"\n",
"Is = (Vin-Vz)/Rs;\n",
"disp (Is,'The Source Current in Amps.')\n",
"disp ('i.e 60 mAmps')\n",
"\n",
"Ila = Vz/Rla;\n",
"disp (Ila,'The Load Current for 200 ohms Load in Amps.')\n",
"disp ('i.e 50 mAmps')\n",
"\n",
"Iza = Is-Ila\n",
"disp (Iza,'The Zener Current for 200 ohms Load in Amps.')\n",
"disp ('i.e 10 mAmps')\n",
"\n",
"// For Rl 500 ohms\n",
"\n",
"Ilb = Vz/Rlb;\n",
"disp (Ilb,'The Load Current for 500 ohms Load in Amps.')\n",
"disp ('i.e 20 mAmps')\n",
"\n",
"Izb = Is-Ilb\n",
"disp (Izb,'The Zener Current for 500 ohms load in Amps.')\n",
"disp ('i.e 40 mAmps')"
   ]
   }
,
{
		   "cell_type": "markdown",
		   "metadata": {},
		   "source": [
			"## Example 27.1: Example_179.sce"
		   ]
		  },
  {
"cell_type": "code",
	   "execution_count": null,
	   "metadata": {
	    "collapsed": true
	   },
	   "outputs": [],
"source": [
"// Grob's Basic Electronics 11e\n",
"// Chapter No. 27\n",
"// Example No. 27_1\n",
"clc; clear;\n",
"// For the diode curve, calculate the dc resistance, RF, at points A and B.\n",
"\n",
"// Given data\n",
"\n",
"Vf1 = 0.65;         // Forward votage 1=0.65 Volts\n",
"If1 = 11*10^-3      // Forward current 1=11 mAmps\n",
"Vf2 = 0.7;          // Forward votage 2=0.7 Volts\n",
"If2 = 22.5*10^-3    // Forward current 2=22.5 mAmps\n",
"\n",
"Rf1 = Vf1/If1;\n",
"disp (Rf1,'The Forward Resistance at Point A in Ohms')\n",
"disp ('Appox 59.1 Ohms')\n",
"\n",
"Rf2 = Vf2/If2;\n",
"disp (Rf2,'The Forward Resistance at Point B in Ohms')"
   ]
   }
,
{
		   "cell_type": "markdown",
		   "metadata": {},
		   "source": [
			"## Example 27.2: Example_180.sce"
		   ]
		  },
  {
"cell_type": "code",
	   "execution_count": null,
	   "metadata": {
	    "collapsed": true
	   },
	   "outputs": [],
"source": [
"// Grob's Basic Electronics 11e\n",
"// Chapter No. 27\n",
"// Example No. 27_2\n",
"clc; clear;\n",
"// A silicon diode has a forward voltage drop of 1.1 V for a forward diode current, If, of 1 A. Calculate the bulk resistance, Rb.\n",
"\n",
"// Given data\n",
"\n",
"Vf1 = 1.1;  // Forward votage 1=1.1 Volts\n",
"If1 = 1     // Forward current 1=1 Amps\n",
"Vf2 = 0.7;  // Fwd. vltg. 2=0.7 Volts (min working vltg of diode is 0.7 V)\n",
"If2 = 0     // Forward current=0 Amps\n",
"\n",
"delV = Vf1-Vf2;     // diff. between max. min. Voltages\n",
"delI = If1-If2;     // diff. between max. min. Currents\n",
"\n",
"Rb = delV/delI;\n",
"disp (Rb,'The Bulk Resistance in Ohms')"
   ]
   }
,
{
		   "cell_type": "markdown",
		   "metadata": {},
		   "source": [
			"## Example 27.3: Example_181.sce"
		   ]
		  },
  {
"cell_type": "code",
	   "execution_count": null,
	   "metadata": {
	    "collapsed": true
	   },
	   "outputs": [],
"source": [
"// Grob's Basic Electronics 11e\n",
"// Chapter No. 27\n",
"// Example No. 27_3\n",
"clc; clear;\n",
"// Solve for the load voltage and current using the first, second, and third diode approximations.\n",
"\n",
"// Given data\n",
"\n",
"Rl = 100;       // Load resistance=100 Ohms\n",
"Rb = 2.5;       // Resistance=2.5 Ohms\n",
"Vin = 10;       // Input voltage=10 Volts\n",
"Vb = 0.7;       // Voltage=0.7 Volts\n",
"\n",
"\n",
"// Using first approximation\n",
"\n",
"Vl1 = Vin\n",
"disp (Vl1,'The Load Voltage of First Approximation in Volts(dc)')\n",
"\n",
"Il1 = Vl1/Rl;\n",
"disp (Il1,'The Load Current of First Approximation in Amps')\n",
"disp ('i.e 100 mAmps')\n",
"\n",
"// Using second approximation\n",
"\n",
"Vl2 = Vin-Vb\n",
"disp (Vl2,'The Load Voltage of Second Approximation in Volts')\n",
"\n",
"Il2 = Vl2/Rl;\n",
"disp (Il2,'The Load Current of Second Approximation in Amps')\n",
"disp ('i.e 93 mAmps')\n",
"\n",
"// Using third approximation\n",
"\n",
"Il3 = (Vin-Vb)/(Rl+Rb);\n",
"disp (Il3,'The Load Current of Third Approximation in Amps')\n",
"disp ('i.e 90.73 mAmps')\n",
"\n",
"Vl3 = Il3*Rl;\n",
"disp (Vl3,'The Load Voltage of Third Approximation in Volts')"
   ]
   }
,
{
		   "cell_type": "markdown",
		   "metadata": {},
		   "source": [
			"## Example 27.4: Example_182.sce"
		   ]
		  },
  {
"cell_type": "code",
	   "execution_count": null,
	   "metadata": {
	    "collapsed": true
	   },
	   "outputs": [],
"source": [
"// Grob's Basic Electronics 11e\n",
"// Chapter No. 27\n",
"// Example No. 27_4\n",
"clc; clear;\n",
"// If the turns ratio Np:Ns is 3:1, calculate the following: Vs, Vdc, Il, Idiode, PIV for D1, and fout.\n",
"\n",
"// Given data\n",
"\n",
"Vp = 120;       // Primary voltage=120 Vac\n",
"A = 3/1;        // Turns ratio Np:Ns=3:1\n",
"B = 1/3;        // Turns ratio Ns:Np=1:3\n",
"Rl = 100;       // Load resistance=100 Ohms\n",
"fi = 60;        // Input frequency=60\n",
"\n",
"Vs = B*Vp;\n",
"disp (Vs,'The Secondary Voltage in Volts(ac)')\n",
"\n",
"Vspk = (Vs*1.414);\n",
"\n",
"C = Vspk-0.7;\n",
"\n",
"Vdc = 0.318*C;\n",
"disp (Vdc,'The DC Voltage in Volts')\n",
"\n",
"Il = Vdc/Rl;\n",
"disp (Il,'The Load Current in Amps');\n",
"\n",
"Idiode = Il;\n",
"disp (Idiode,'The DC Diode Current in Amps')\n",
"\n",
"PIV = Vspk;\n",
"disp (PIV,'The PIV for Diode-1 in Volts')\n",
"\n",
"fo =fi;\n",
"disp (fo,'The Output Frequency in Hertz')"
   ]
   }
,
{
		   "cell_type": "markdown",
		   "metadata": {},
		   "source": [
			"## Example 27.5: Example_183.sce"
		   ]
		  },
  {
"cell_type": "code",
	   "execution_count": null,
	   "metadata": {
	    "collapsed": true
	   },
	   "outputs": [],
"source": [
"// Grob's Basic Electronics 11e\n",
"// Chapter No. 27\n",
"// Example No. 27_5\n",
"clc; clear;\n",
"// If the turns ratio Np:Ns is 3:1, calculate the following: Vdc, Il, Idiode, PIV for D1, and fout.\n",
"\n",
"// Given data\n",
"\n",
"Vp = 120;       // Primary voltage=120 Vac\n",
"A = 3/1;        // Turns ratio Np:Ns = 3:1\n",
"B = 1/3;        // Turns ratio Ns:Np = 1:3\n",
"Rl = 100;       // Load resistance=100 Ohms\n",
"\n",
"Vs = B*Vp;\n",
"Vspk = 1.414*(Vs/2);\n",
"Vopk = Vspk-0.7;\n",
"\n",
"Vdc = 0.636*Vopk;\n",
"disp (Vdc,'The DC Voltage in Volts')\n",
"\n",
"Il = Vdc/Rl;\n",
"disp (Il,'The Load Current in Amps')\n",
"disp ('i.e 175.4 mAmps')\n",
"\n",
"Idiode = Il/2;\n",
"disp (Idiode,'The DC Diode Current in Amps')\n",
"disp ('i.e 87.7 mAmps')\n",
"\n",
"C = (Vspk*2)-0.7;\n",
"\n",
"PIV = C;\n",
"disp (PIV,'The PIV for Diode-1 in Volts')\n",
"\n",
"f =120;\n",
"disp (f,'The Output Frequency in Hertz')"
   ]
   }
,
{
		   "cell_type": "markdown",
		   "metadata": {},
		   "source": [
			"## Example 27.6: Example_184.sce"
		   ]
		  },
  {
"cell_type": "code",
	   "execution_count": null,
	   "metadata": {
	    "collapsed": true
	   },
	   "outputs": [],
"source": [
"// Grob's Basic Electronics 11e\n",
"// Chapter No. 27\n",
"// Example No. 27_6\n",
"clc; clear;\n",
"// If the turns ratio Np:Ns is 3:1, calculate the following: Vdc, Il, Idiode, PIV for each diode, and fout.\n",
"\n",
"// Given data\n",
"\n",
"Vp = 120;       // Primary voltage=120 Vac\n",
"A = 3/1;        // Turns ratio Np:Ns = 3:1\n",
"B = 1/3;        // Turns ratio Ns:Np = 1:3\n",
"Rl = 100;       // Load resistance=100 Ohms\n",
"\n",
"Vs = B*Vp;\n",
"Vspk = 1.414*(Vs);\n",
"Vopk = Vspk-1.4;\n",
"\n",
"Vdc = 0.636*Vopk;\n",
"disp (Vdc,'The DC Voltage in Volts')\n",
"\n",
"Il = Vdc/Rl;\n",
"disp (Il,'The Load Current in Amps')\n",
"disp ('i.e 350.8 mAmps')\n",
"\n",
"Idiode = Il/2;\n",
"disp (Idiode,'The DC Diode Current in Amps')\n",
"disp ('i.e 175.4 mAmps')\n",
"\n",
"C = Vspk-0.7;\n",
"\n",
"PIV = C;\n",
"disp (PIV,'The PIV for each Diode in Volts')\n",
"\n",
"f =120;\n",
"disp (f,'The Output Frequency in Hertz')"
   ]
   }
,
{
		   "cell_type": "markdown",
		   "metadata": {},
		   "source": [
			"## Example 27.7: Example_185.sce"
		   ]
		  },
  {
"cell_type": "code",
	   "execution_count": null,
	   "metadata": {
	    "collapsed": true
	   },
	   "outputs": [],
"source": [
"// Grob's Basic Electronics 11e\n",
"// Chapter No. 27\n",
"// Example No. 27_7\n",
"clc; clear;\n",
"// Assume the transformer turns ratio Np:Ns = 4:1 in Fig. 27–21 a and 2:1 in Fig. 27–22a. Compare Vripple and Vdc if C = 500 uF and Rl = 250.\n",
"    \n",
"// Given data\n",
"\n",
"A1 = 4/1;           // Turns ratio Np:Ns=4:1\n",
"B1 = 1/4;           // Turns ratio Ns:Np=1:4\n",
"A2 = 2/1;           // Turns ratio Np:Ns=2:1\n",
"B2 = 1/2;           // Turns ratio Ns:Np=1:2\n",
"Vp = 120;           // Primary voltage=120 Vac\n",
"Vb = 0.7;           // \n",
"t1 = 16.67*10^-3;   // Charging Time of Capacitor of Turns ratio Np:Ns=4:1=16.67 mSec\n",
"t2 = 8.33*10^-3;    // Charging Time of Capacitor of Turns ratio Np:Ns=4:1=8.33 mSec\n",
"Rl = 250;           // Load resistance=250 Ohms\n",
"C = 500*10^-6;      // Capacitor=500 uFarad\n",
"\n",
"// Calculations for Turns Ratio Np:Ns=4:1\n",
"\n",
"Vs1 = B1*Vp;\n",
"Vspk1 = Vs1*1.414;\n",
"Vopk1 = Vspk1 - Vb;\n",
"D = -t1/(Rl*C);\n",
"\n",
"Vrp1 = Vopk1*(1-(%e^D));\n",
"disp (Vrp1,'The Ripple Voltage for Turns Ratio Np:Ns=4:1 in Volts(p-p)')\n",
"disp ('Appox 5.21 Volts(p-p)')\n",
"\n",
"Vdc1 = Vopk1-(Vrp1/2);\n",
"disp (Vdc1,'The DC Voltage for Turns Ratio Np:Ns=4:1 in Volts')\n",
"disp ('Appox 39.12 Volts')\n",
"\n",
"// Calculations for Turns Ratio Np:Ns = 2:1\n",
"\n",
"Vs2 = B2*Vp;\n",
"V2 = Vs2/2;\n",
"V2pk2 = V2*1.414\n",
"Vopk2 = V2pk2 - Vb;\n",
"E = -t2/(Rl*C);\n",
"\n",
"Vrp2 = Vopk2*(1-(%e^E));\n",
"disp (Vrp2,'The Ripple Voltage for Turns Ratio Np:Ns=2:1 in Volts(p-p)')\n",
"disp ('Appox 2.69 Volts(p-p)')\n",
"\n",
"Vdc2 = Vopk2-(Vrp2/2);\n",
"disp (Vdc2,'The DC Voltage for Turns Ratio Np:Ns=2:1 in Volts')\n",
"disp ('Appox 40.38 Volts')"
   ]
   }
,
{
		   "cell_type": "markdown",
		   "metadata": {},
		   "source": [
			"## Example 27.8: Example_186.sce"
		   ]
		  },
  {
"cell_type": "code",
	   "execution_count": null,
	   "metadata": {
	    "collapsed": true
	   },
	   "outputs": [],
"source": [
"// Grob's Basic Electronics 11e\n",
"// Chapter No. 27\n",
"// Example No. 27_8\n",
"clc; clear;\n",
"//  Calculate the LED current.\n",
"\n",
"// Given data\n",
"\n",
"Vin = 24;       // Input voltage=24 Volts\n",
"Vled = 2;       // Voltage drop at LED=2 Volts\n",
"Rs = 2.2*10^3;  // Source Resistance=2.2 kOhms\n",
"\n",
"Iled = (Vin-Vled)/Rs;\n",
"disp (Iled,'The LED Current in Amps')\n",
"disp ('i.e 10 mAmps')"
   ]
   }
,
{
		   "cell_type": "markdown",
		   "metadata": {},
		   "source": [
			"## Example 27.9: Example_187.sce"
		   ]
		  },
  {
"cell_type": "code",
	   "execution_count": null,
	   "metadata": {
	    "collapsed": true
	   },
	   "outputs": [],
"source": [
"// Grob's Basic Electronics 11e\n",
"// Chapter No. 27\n",
"// Example No. 27_9\n",
"clc; clear;\n",
"// Calculate the resistance Rs, required to provide an LED current of 25 mA.\n",
"\n",
"// Given data\n",
"\n",
"Vin = 24;           // Input voltage=24 Volts\n",
"Vled = 2;           // Voltage drop at LED=2 Volts\n",
"Iled = 25*10^-3;    // LED Current=25 mAmps\n",
"\n",
"Rs = (Vin-Vled)/Iled;\n",
"disp (Rs,'The Resistance Rs, Required to Provide an LED Current of 25 mA in Ohms')"
   ]
   }
],
"metadata": {
		  "kernelspec": {
		   "display_name": "Scilab",
		   "language": "scilab",
		   "name": "scilab"
		  },
		  "language_info": {
		   "file_extension": ".sce",
		   "help_links": [
			{
			 "text": "MetaKernel Magics",
			 "url": "https://github.com/calysto/metakernel/blob/master/metakernel/magics/README.md"
			}
		   ],
		   "mimetype": "text/x-octave",
		   "name": "scilab",
		   "version": "0.7.1"
		  }
		 },
		 "nbformat": 4,
		 "nbformat_minor": 0
}
