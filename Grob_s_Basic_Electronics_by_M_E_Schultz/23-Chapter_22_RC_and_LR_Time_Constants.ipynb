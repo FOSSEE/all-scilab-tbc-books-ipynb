{
"cells": [
 {
		   "cell_type": "markdown",
	   "metadata": {},
	   "source": [
       "# Chapter 23: Chapter 22 RC and LR Time Constants"
	   ]
	},
{
		   "cell_type": "markdown",
		   "metadata": {},
		   "source": [
			"## Example 22.10: Example_157.sce"
		   ]
		  },
  {
"cell_type": "code",
	   "execution_count": null,
	   "metadata": {
	    "collapsed": true
	   },
	   "outputs": [],
"source": [
"// Grob's Basic Electronics 11e\n",
"// Chapter No. 22\n",
"// Example No. 22_10\n",
"clc; clear;\n",
"// An RC circuit has an R of 10 k Ohms and a C of 0.05 uF. The applied voltage for charging is 36 V. (a) Calculate the time constant. (b) How long will it take C to charge to 24 V?\n",
"\n",
"C = 0.05*10^-6;     // Capacitor=0.05 uFarad\n",
"R = 10*10^3;        // Resistor=10 kOhms\n",
"V = 36;             // Applied voltage=36 Volts\n",
"v = 12;             // Voltage drops from 36 to 12 Volts\n",
"A = 2.3;            // Specific factor\n",
"\n",
"T = C*R;\n",
"disp (T,'The Time Constant in Seconds')\n",
"disp ('i.e 0.5*10^-3 Sec OR 0.5 mSec')\n",
"\n",
"t = A*T*log10(V/v);\n",
"disp (t,'Time required to charge Capacitor upto 24 Volts in Seconds')\n",
"disp ('i.e appox 0.549*10^-3 Sec OR 0.549 mSec')"
   ]
   }
,
{
		   "cell_type": "markdown",
		   "metadata": {},
		   "source": [
			"## Example 22.1: Example_148.sce"
		   ]
		  },
  {
"cell_type": "code",
	   "execution_count": null,
	   "metadata": {
	    "collapsed": true
	   },
	   "outputs": [],
"source": [
"// Grob's Basic Electronics 11e\n",
"// Chapter No. 22\n",
"// Example No. 22_1\n",
"clc; clear;\n",
"// What is the time constant of a 20-H coil having 100 Ohms of series resistance?\n",
"\n",
"// Given data\n",
"\n",
"L = 20;     // Inductor=20 Henry\n",
"R = 100;    // Resistor=100 Ohms\n",
"\n",
"T = L/R;\n",
"disp (T,'The Time Constant in Seconds')"
   ]
   }
,
{
		   "cell_type": "markdown",
		   "metadata": {},
		   "source": [
			"## Example 22.2: Example_149.sce"
		   ]
		  },
  {
"cell_type": "code",
	   "execution_count": null,
	   "metadata": {
	    "collapsed": true
	   },
	   "outputs": [],
"source": [
"// Grob's Basic Electronics 11e\n",
"// Chapter No. 22\n",
"// Example No. 22_2\n",
"clc; clear;\n",
"// An applied dc voltage of 10 V will produce a steady-state current of 100 mA in the 100-Ohms coil. How much is the current after 0.2 s? After 1 s?\n",
"\n",
"// Given data\n",
"\n",
"L = 20;         // Inductor=20 Henry\n",
"R = 100;        // Resistor=100 Ohms\n",
"I = 100*10^-3;  // Steady-state current=100 mAmps\n",
"\n",
"disp ('Since 0.2 sec is one time constant, I is 63% of 100 mA')\n",
"I1 = 0.63*I;\n",
"disp (I1,'The current at 0.2 sec time constant')\n",
"\n",
"disp ('After 1 sec the current reaches its steady state value of 100 mAmps ')"
   ]
   }
,
{
		   "cell_type": "markdown",
		   "metadata": {},
		   "source": [
			"## Example 22.3: Example_150.sce"
		   ]
		  },
  {
"cell_type": "code",
	   "execution_count": null,
	   "metadata": {
	    "collapsed": true
	   },
	   "outputs": [],
"source": [
"// Grob's Basic Electronics 11e\n",
"// Chapter No. 22\n",
"// Example No. 22_3\n",
"clc; clear;\n",
"// If a 1-M Ohms R is added in series with the coil, how much will the time constant be for the higher resistance RL circuit?\n",
"\n",
"// Given data\n",
"\n",
"L = 20;        // Inductor=20 Henry\n",
"R = 1*10^6;    // Resistor=1 MOhms\n",
"\n",
"T = L/R;\n",
"disp (T,'The Time Constant in Seconds')\n",
"disp ('i.e 20 us')"
   ]
   }
,
{
		   "cell_type": "markdown",
		   "metadata": {},
		   "source": [
			"## Example 22.4: Example_151.sce"
		   ]
		  },
  {
"cell_type": "code",
	   "execution_count": null,
	   "metadata": {
	    "collapsed": true
	   },
	   "outputs": [],
"source": [
"// Grob's Basic Electronics 11e\n",
"// Chapter No. 22\n",
"// Example No. 22_4\n",
"clc; clear;\n",
"// What is the time constant of a 0.01-uF capacitor in series with a 1-M Ohmsresistance?\n",
"\n",
"// Given data\n",
"\n",
"C = 0.01*10^-6;     // Capacitor=0.01 uFarad\n",
"R = 1*10^6;         // Resistor=1 MOhms\n",
"\n",
"T = C*R;\n",
"disp (T,'The Time Constant in Seconds')"
   ]
   }
,
{
		   "cell_type": "markdown",
		   "metadata": {},
		   "source": [
			"## Example 22.5: Example_152.sce"
		   ]
		  },
  {
"cell_type": "code",
	   "execution_count": null,
	   "metadata": {
	    "collapsed": true
	   },
	   "outputs": [],
"source": [
"// Grob's Basic Electronics 11e\n",
"// Chapter No. 22\n",
"// Example No. 22_5\n",
"clc; clear;\n",
"// With a dc voltage of 300 V applied, how much is the voltage across C in Example 22–4 after 0.01 s of charging? After 0.05 s? After 2 hours? After 2 days?\n",
"\n",
"// Given data\n",
"\n",
"C = 0.01*10^-6;     // Capacitor=0.01 uFarad\n",
"R = 1*10^6;         // Resistor=1 MOhms\n",
"V = 300;            // Applied DC=300 Volts\n",
"\n",
"T = C*R;\n",
"disp (T,'The Time Constant in Seconds')\n",
"\n",
"disp ('Since 0.01 sec is one time constant, the voltage across C then is 63% of 300 V,')\n",
"\n",
"T1 = 0.63*V;\n",
"disp (T1,'The Capacitor voltage at 0.01 Sec in Volts')\n",
"\n",
"T2 = V\n",
"disp (V,'After 5 time constants or 0.05 Sec Capacitor voltage in volts ')\n",
"\n",
"disp ('After 2 hours or 2 days the C will be still charged to 300 V if the supply is still connected')"
   ]
   }
,
{
		   "cell_type": "markdown",
		   "metadata": {},
		   "source": [
			"## Example 22.6: Example_153.sce"
		   ]
		  },
  {
"cell_type": "code",
	   "execution_count": null,
	   "metadata": {
	    "collapsed": true
	   },
	   "outputs": [],
"source": [
"// Grob's Basic Electronics 11e\n",
"// Chapter No. 22\n",
"// Example No. 22_6\n",
"clc; clear;\n",
"// If the capacitor is allowed to charge to 300 V and then discharged, how much is the capacitor voltage 0.01 s after the start of discharge? The series resistance is the same on discharge as on charge.\n",
"\n",
"// Given data\n",
"\n",
"C = 0.01*10^-6;     // Capacitor=0.01 uFarad\n",
"R = 1*10^6;         // Resistor=1 MOhms\n",
"V = 300;            // Applied DC=300 Volts\n",
"\n",
"disp ('In one time constant, C discharges to 37% of its initial voltage')\n",
"\n",
"V1 = 0.37*V;\n",
"disp (V1,'The Capacitor voltage after 0.01 sec start of discharge in volts')"
   ]
   }
,
{
		   "cell_type": "markdown",
		   "metadata": {},
		   "source": [
			"## Example 22.7: Example_154.sce"
		   ]
		  },
  {
"cell_type": "code",
	   "execution_count": null,
	   "metadata": {
	    "collapsed": true
	   },
	   "outputs": [],
"source": [
"// Grob's Basic Electronics 11e\n",
"// Chapter No. 22\n",
"// Example No. 22_7\n",
"clc; clear;\n",
"// Assume the capacitor is discharging after being charged to 200 V. How much will the voltage across C be 0.01 s after the beginning of discharge? The series resistance is the same on discharge as on charge.\n",
"\n",
"// Given data\n",
"\n",
"C = 0.01*10^-6;     // Capacitor=0.01 uFarad\n",
"R = 1*10^6;         // Resistor=1 MOhms\n",
"V = 200;            // Capacitor voltage=200 Volts\n",
"\n",
"disp ('In one time constant, C discharges to 37% of its initial voltage')\n",
"\n",
"V1 = 0.37*V;\n",
"disp (V1,'The Capacitor voltage after 0.01 sec start of discharge in volts')"
   ]
   }
,
{
		   "cell_type": "markdown",
		   "metadata": {},
		   "source": [
			"## Example 22.8: Example_155.sce"
		   ]
		  },
  {
"cell_type": "code",
	   "execution_count": null,
	   "metadata": {
	    "collapsed": true
	   },
	   "outputs": [],
"source": [
"// Grob's Basic Electronics 11e\n",
"// Chapter No. 22\n",
"// Example No. 22_8\n",
"clc; clear;\n",
"// If a 1-M Ohms resistance is added in series with the capacitor 0.01-uF and resistor 1-M Ohms in, how much will the time constant be?\n",
"\n",
"// Given data\n",
"\n",
"C = 0.01*10^-6;     // Capacitor=0.01 uFarad\n",
"R = 2*10^6;         // Resistor= 2 MOhms \n",
"\n",
"T = C*R;\n",
"disp (T,'The Time Constant in Seconds')"
   ]
   }
,
{
		   "cell_type": "markdown",
		   "metadata": {},
		   "source": [
			"## Example 22.9: Example_156.sce"
		   ]
		  },
  {
"cell_type": "code",
	   "execution_count": null,
	   "metadata": {
	    "collapsed": true
	   },
	   "outputs": [],
"source": [
"// Grob's Basic Electronics 11e\n",
"// Chapter No. 22\n",
"// Example No. 22_9\n",
"clc; clear;\n",
"// An RC circuit has a time constant of 3 s. The capacitor is charged to 40 V. Then C is discharged. After 6 s of discharge, how much is Vr?\n",
"\n",
"// Given data\n",
"\n",
"RC = 3;     // RC time constant=3 Sec\n",
"t = 6;      // Discharge time=6 Sec\n",
"Vc = 40;    // Capacitor voltage=40 Volts\n",
"\n",
"A = t/RC;   // constant factor\n",
"B = log10(Vc);\n",
"\n",
"Vr = 10^(B-(A*0.434));\n",
"disp (Vr,'The Value of Vr in Volts')"
   ]
   }
],
"metadata": {
		  "kernelspec": {
		   "display_name": "Scilab",
		   "language": "scilab",
		   "name": "scilab"
		  },
		  "language_info": {
		   "file_extension": ".sce",
		   "help_links": [
			{
			 "text": "MetaKernel Magics",
			 "url": "https://github.com/calysto/metakernel/blob/master/metakernel/magics/README.md"
			}
		   ],
		   "mimetype": "text/x-octave",
		   "name": "scilab",
		   "version": "0.7.1"
		  }
		 },
		 "nbformat": 4,
		 "nbformat_minor": 0
}
