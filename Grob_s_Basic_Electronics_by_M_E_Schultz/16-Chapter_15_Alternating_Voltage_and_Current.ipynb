{
"cells": [
 {
		   "cell_type": "markdown",
	   "metadata": {},
	   "source": [
       "# Chapter 16: Chapter 15 Alternating Voltage and Current"
	   ]
	},
{
		   "cell_type": "markdown",
		   "metadata": {},
		   "source": [
			"## Example 15.1: Example_87.sce"
		   ]
		  },
  {
"cell_type": "code",
	   "execution_count": null,
	   "metadata": {
	    "collapsed": true
	   },
	   "outputs": [],
"source": [
"// Grob's Basic Electronics 11e\n",
"// Chapter No. 15\n",
"// Example No. 15_1\n",
"clc; clear;\n",
"// A sine wave of voltage varies from zero to a maximum of 100 V. How much is the voltage at the instant of 30° of the cycle? 45°? 90°? 270°?\n",
"\n",
"// Given data\n",
"\n",
"Vm = 100;       // Vm=100 Volts\n",
"t1 = 30;        // Theta 1=30°.\n",
"t2 = 45;        // Theta 2=45°.\n",
"t3 = 90;        // Theta 3=90°.\n",
"t4 = 270;       // Theta 4=270°.\n",
"\n",
"v1 = Vm*sind(t1);\n",
"disp (v1,'The Voltage at 30° in Volts')\n",
"\n",
"v2 = Vm*sind(t2);\n",
"disp (v2,'The Voltage at 45° in Volts')\n",
"\n",
"v3 = Vm*sind(t3);\n",
"disp (v3,'The Voltage at 90° in Volts')\n",
"\n",
"v4 = Vm*sind(t4);\n",
"disp (v4,'The Voltage at 270° in Volts')"
   ]
   }
,
{
		   "cell_type": "markdown",
		   "metadata": {},
		   "source": [
			"## Example 15.2: Example_88.sce"
		   ]
		  },
  {
"cell_type": "code",
	   "execution_count": null,
	   "metadata": {
	    "collapsed": true
	   },
	   "outputs": [],
"source": [
"// Grob's Basic Electronics 11e\n",
"// Chapter No. 15\n",
"// Example No. 15_2\n",
"clc; clear;\n",
"// An alternating current varies through one complete cycle in 1 ⁄ 1000 s. Calculate the period and frequency.\n",
"\n",
"// Given data\n",
"\n",
"tc = 1/1000;        // One Complete Cycle=1 ⁄ 1000 sec.\n",
"\n",
"T = tc;\n",
"disp (T,'The Time period in Seconds')\n",
"disp ('i.e 1/1000 sec')\n",
"\n",
"f = 1/tc;\n",
"disp (f,'The Frequency in Hertz')\n",
"disp ('OR 1 kHz')"
   ]
   }
,
{
		   "cell_type": "markdown",
		   "metadata": {},
		   "source": [
			"## Example 15.3: Example_89.sce"
		   ]
		  },
  {
"cell_type": "code",
	   "execution_count": null,
	   "metadata": {
	    "collapsed": true
	   },
	   "outputs": [],
"source": [
"// Grob's Basic Electronics 11e\n",
"// Chapter No. 15\n",
"// Example No. 15_3\n",
"clc; clear;\n",
"// Calculate the period for the two frequencies of 1 MHz and 2 MHz.Calculate the period for the two frequencies of 1 MHz and 2 MHz.\n",
"\n",
"// Given data\n",
"\n",
"f1 = 1*10^6;        // Freq=1 MHz\n",
"f2 = 2*10^6;        // Freq=2 MHz\n",
"\n",
"t1 = 1/f1;\n",
"disp (t1,'The Time period in Seconds of 1 MHz freq.')\n",
"disp ('i.e 1*10^-6 sec = 1 usec')\n",
"\n",
"t2 = 1/f2;\n",
"disp (t2,'The Time period in Seconds of 2 MHz freq.')\n",
"disp ('i.e 0.5*10^-6 sec = 0.5 usec')"
   ]
   }
,
{
		   "cell_type": "markdown",
		   "metadata": {},
		   "source": [
			"## Example 15.4: Example_90.sce"
		   ]
		  },
  {
"cell_type": "code",
	   "execution_count": null,
	   "metadata": {
	    "collapsed": true
	   },
	   "outputs": [],
"source": [
"// Grob's Basic Electronics 11e\n",
"// Chapter No. 15\n",
"// Example No. 15_4\n",
"clc; clear;\n",
"// Calculate lamda for a radio wave witf f of 30 GHz.\n",
"\n",
"// Given data\n",
"\n",
"c = 3*10^10;     // Speed of light=3*10^10 cm/s\n",
"f = 30*10^9;        // Freq=30 GHz\n",
"\n",
"l = c/f;\n",
"disp (l,'The Lamda or Wavelenght in cm')"
   ]
   }
,
{
		   "cell_type": "markdown",
		   "metadata": {},
		   "source": [
			"## Example 15.5: Example_91.sce"
		   ]
		  },
  {
"cell_type": "code",
	   "execution_count": null,
	   "metadata": {
	    "collapsed": true
	   },
	   "outputs": [],
"source": [
"// Grob's Basic Electronics 11e\n",
"// Chapter No. 15\n",
"// Example No. 15_5\n",
"clc; clear;\n",
"// The length of a TV antenna is lamda/2 for radio waves with f of 60 MHz. What is the antenna length in centimeters and feet?\n",
"\n",
"// Given data\n",
"\n",
"c = 3*10^10;     // Speed of light=3*10^10 cm/s\n",
"f = 60*10^6;     // Freq=60 MHz\n",
"in = 2.54;       // 2.54 cm = 1 in\n",
"ft = 12;         // 12 in = 1 ft\n",
"\n",
"l1 = c/f;\n",
"l = l1/2;\n",
"disp (l,'The Height in cm')\n",
"\n",
"li = l/in\n",
"lf = li/ft;\n",
"disp (lf,'The Height in feet')\n",
""
   ]
   }
,
{
		   "cell_type": "markdown",
		   "metadata": {},
		   "source": [
			"## Example 15.6: Example_92.sce"
		   ]
		  },
  {
"cell_type": "code",
	   "execution_count": null,
	   "metadata": {
	    "collapsed": true
	   },
	   "outputs": [],
"source": [
"// Grob's Basic Electronics 11e\n",
"// Chapter No. 15\n",
"// Example No. 15_6\n",
"clc; clear;\n",
"// For the 6-m band used in amateur radio, what is the corresponding frequency?\n",
"\n",
"// Given data\n",
"\n",
"v = 3*10^10;     // Speed of light=3*10^10 cm/s\n",
"l = 6*10^2;      // lamda=6 meter\n",
"\n",
"f = v/l\n",
"disp (f,'The Frequency in Hertz')\n",
"disp ('i.e 50*10^6 Hz OR 50 MHz')"
   ]
   }
,
{
		   "cell_type": "markdown",
		   "metadata": {},
		   "source": [
			"## Example 15.7: Example_93.sce"
		   ]
		  },
  {
"cell_type": "code",
	   "execution_count": null,
	   "metadata": {
	    "collapsed": true
	   },
	   "outputs": [],
"source": [
"// Grob's Basic Electronics 11e\n",
"// Chapter No. 15\n",
"// Example No. 15_7\n",
"clc;clear;\n",
"// What is the wavelength of the sound waves produced by a loudspeaker at a frequency of 100 Hz?\n",
"\n",
"// Given data\n",
"\n",
"c = 1130;   // Speed of light=1130 ft/s\n",
"f = 100;    // Freq=100 Hz\n",
"\n",
"l = c/f;\n",
"disp (l,'The Lamda or Wavelenght in ft')"
   ]
   }
,
{
		   "cell_type": "markdown",
		   "metadata": {},
		   "source": [
			"## Example 15.8: Example_94.sce"
		   ]
		  },
  {
"cell_type": "code",
	   "execution_count": null,
	   "metadata": {
	    "collapsed": true
	   },
	   "outputs": [],
"source": [
"// Grob's Basic Electronics 11e\n",
"// Chapter No. 15\n",
"// Example No. 15_8\n",
"clc; clear;\n",
"// For ultrasonic waves at a frequency of 34.44 kHz, calculate the wavelength in feet and in centimeters.\n",
"\n",
"// Given data\n",
"\n",
"c = 1130;   // Speed of light=1130 ft/s\n",
"f = 34.44*10^3;    // Freq=100 Hz\n",
"in = 2.54;       // 2.54 cm = 1 in\n",
"ft = 12;         // 12 in = 1 ft\n",
"\n",
"l = c/f;\n",
"disp (l,'The Lamda or Wavelenght in ft')\n",
"\n",
"a = l*ft;\n",
"\n",
"l1 = a*in;\n",
"disp (l1,'The Lamda or Wavelenght in cm')\n",
"disp ('appox 1 cm')"
   ]
   }
],
"metadata": {
		  "kernelspec": {
		   "display_name": "Scilab",
		   "language": "scilab",
		   "name": "scilab"
		  },
		  "language_info": {
		   "file_extension": ".sce",
		   "help_links": [
			{
			 "text": "MetaKernel Magics",
			 "url": "https://github.com/calysto/metakernel/blob/master/metakernel/magics/README.md"
			}
		   ],
		   "mimetype": "text/x-octave",
		   "name": "scilab",
		   "version": "0.7.1"
		  }
		 },
		 "nbformat": 4,
		 "nbformat_minor": 0
}
