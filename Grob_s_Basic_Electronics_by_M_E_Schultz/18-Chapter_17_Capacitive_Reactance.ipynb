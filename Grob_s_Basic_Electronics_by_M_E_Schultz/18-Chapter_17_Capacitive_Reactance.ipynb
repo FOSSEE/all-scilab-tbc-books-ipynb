{
"cells": [
 {
		   "cell_type": "markdown",
	   "metadata": {},
	   "source": [
       "# Chapter 18: Chapter 17 Capacitive Reactance"
	   ]
	},
{
		   "cell_type": "markdown",
		   "metadata": {},
		   "source": [
			"## Example 17.1: Example_107.sce"
		   ]
		  },
  {
"cell_type": "code",
	   "execution_count": null,
	   "metadata": {
	    "collapsed": true
	   },
	   "outputs": [],
"source": [
"// Grob's Basic Electronics 11e\n",
"// Chapter No. 17\n",
"// Example No. 17_1\n",
"clc; clear;\n",
"// How much is Xc for (a) 0.1 uF of C at 1400 Hz? (b) 1 uF of C at the same frequency?\n",
"\n",
"// Given data\n",
"\n",
"f = 1400;           // Frequency=1400 Hz\n",
"C1 = 0.1*10^-6;     // Cap1=0.1 uF\n",
"C2 = 1*10^-6;       // Cap2=1 uF\n",
"\n",
"Xc1 = 1/(2*%pi*f*C1);\n",
"disp (Xc1,'The Capacitive Reactance in Ohms')\n",
"disp ('appox 1140 Ohms')\n",
"\n",
"Xc2 = 1/(2*%pi*f*C2);\n",
"disp (Xc2,'The Capacitive Reactance in Ohms')\n",
"disp ('appox 114 Ohms')"
   ]
   }
,
{
		   "cell_type": "markdown",
		   "metadata": {},
		   "source": [
			"## Example 17.2: Example_108.sce"
		   ]
		  },
  {
"cell_type": "code",
	   "execution_count": null,
	   "metadata": {
	    "collapsed": true
	   },
	   "outputs": [],
"source": [
"// Grob's Basic Electronics 11e\n",
"// Chapter No. 17\n",
"// Example No. 17_2\n",
"clc; clear;\n",
"//How much is the Xc of a 47-pF value of C at (a) 1 MHz? (b) 10 MHz?\n",
"\n",
"// Given data\n",
"\n",
"f1 = 1*10^6;   // Frequency1=1 MHz\n",
"f2 = 10*10^6;  // Frequency2=10 MHz\n",
"C = 47*10^-12; // Cap=47 pF\n",
"\n",
"// For 1 MHz\n",
"\n",
"Xc1 = 1/(2*%pi*f1*C);\n",
"disp (Xc1,'The Capacitive Reactance in Ohms')\n",
"disp ('appox 3388 Ohms')\n",
"\n",
"// For 10 MHz\n",
"\n",
"Xc2 = 1/(2*%pi*f2*C);\n",
"disp (Xc2,'The Capacitive Reactance in Ohms')"
   ]
   }
,
{
		   "cell_type": "markdown",
		   "metadata": {},
		   "source": [
			"## Example 17.3: Example_109.sce"
		   ]
		  },
  {
"cell_type": "code",
	   "execution_count": null,
	   "metadata": {
	    "collapsed": true
	   },
	   "outputs": [],
"source": [
"// Grob's Basic Electronics 11e\n",
"// Chapter No. 17\n",
"// Example No. 17_3\n",
"clc; clear;\n",
"// What C is needed for Xc of 100 Ohms at 3.4 MHz?\n",
"\n",
"// Given data\n",
"\n",
"f = 3.4*10^6;   // Frequency=3.4 MHz\n",
"Xc = 100; // Capacitive Reactance=100 Ohms\n",
"\n",
"C = 1/(2*%pi*f*Xc);\n",
"disp (C,'The Capacitance in Farads')\n",
"disp ('appox 468 pF')"
   ]
   }
,
{
		   "cell_type": "markdown",
		   "metadata": {},
		   "source": [
			"## Example 17.4: Example_110.sce"
		   ]
		  },
  {
"cell_type": "code",
	   "execution_count": null,
	   "metadata": {
	    "collapsed": true
	   },
	   "outputs": [],
"source": [
"// Grob's Basic Electronics 11e\n",
"// Chapter No. 17\n",
"// Example No. 17_4\n",
"clc; clear;\n",
"// At what frequency will a 10 uF capacitor have Xc equal to 100 Ohms?\n",
"\n",
"// Given data\n",
"\n",
"Xc = 100; // Capacitive Reactance=100 Ohms\n",
"C = 10*10^-6; // Cap=10 uF\n",
"\n",
"f = 1/(2*%pi*C*Xc);\n",
"disp (f,'The Frequency in Hertz')\n",
"disp ('appox 159 Hz')"
   ]
   }
,
{
		   "cell_type": "markdown",
		   "metadata": {},
		   "source": [
			"## Example 17.5: Example_111.sce"
		   ]
		  },
  {
"cell_type": "code",
	   "execution_count": null,
	   "metadata": {
	    "collapsed": true
	   },
	   "outputs": [],
"source": [
"// Grob's Basic Electronics 11e\n",
"// Chapter No. 17\n",
"// Example No. 17_5\n",
"clc; clear;\n",
"// Calculate the instantaneous value of charging current ic produced by a 6 uF C when its potential difference is increased by 50 V in 1 s.\n",
"\n",
"// Given data\n",
"\n",
"C = 6*10^-6;    // Cap=6 uF\n",
"dv = 50;        // differential voltage increased by 50 Volts\n",
"dt = 1;         // differectial time is 1 sec\n",
"\n",
"ic = C*(dv/dt);\n",
"disp (ic,'The Instantaneous Value of Charging Current ic produced in Amps')\n",
"disp ('i.e 300 uAmps')"
   ]
   }
,
{
		   "cell_type": "markdown",
		   "metadata": {},
		   "source": [
			"## Example 17.6: Example_112.sce"
		   ]
		  },
  {
"cell_type": "code",
	   "execution_count": null,
	   "metadata": {
	    "collapsed": true
	   },
	   "outputs": [],
"source": [
"// Grob's Basic Electronics 11e\n",
"// Chapter No. 17\n",
"// Example No. 17_6\n",
"clc; clear;\n",
"// Calculate the instantaneous value of charging current ic produced by a 6 uF C when its potential difference is decreased by 50 V in 1 s.\n",
"\n",
"// Given data\n",
"\n",
"C = 6*10^-6;    // Cap=6 uF\n",
"dv = -50;        // differential voltage decreased by 50 Volts\n",
"dt = 1;         // differectial time is 1 sec\n",
"\n",
"ic = C*(dv/dt);\n",
"disp (ic,'The Instantaneous Value of Discharging Current ic produced in Amps')\n",
"disp ('i.e -300 uAmps')"
   ]
   }
,
{
		   "cell_type": "markdown",
		   "metadata": {},
		   "source": [
			"## Example 17.7: Example_113.sce"
		   ]
		  },
  {
"cell_type": "code",
	   "execution_count": null,
	   "metadata": {
	    "collapsed": true
	   },
	   "outputs": [],
"source": [
"// Grob's Basic Electronics 11e\n",
"// Chapter No. 17\n",
"// Example No. 17_7\n",
"clc; clear;\n",
"// Calculate ic produced by a 250-pF capacitor for a change of 50 V in 1 us.\n",
"\n",
"// Given data\n",
"\n",
"C = 250*10^-12;    // Cap=250 pF\n",
"dv = 50;           // differential voltage increased by 50 Volts\n",
"dt = 1*10^-6;      // differectial time is 1 usec\n",
"\n",
"ic = C*(dv/dt);\n",
"disp (ic,'The Instantaneous Value of ic produced in Amps')\n",
"disp ('12500 uAmps or 12.5 mAmps')"
   ]
   }
],
"metadata": {
		  "kernelspec": {
		   "display_name": "Scilab",
		   "language": "scilab",
		   "name": "scilab"
		  },
		  "language_info": {
		   "file_extension": ".sce",
		   "help_links": [
			{
			 "text": "MetaKernel Magics",
			 "url": "https://github.com/calysto/metakernel/blob/master/metakernel/magics/README.md"
			}
		   ],
		   "mimetype": "text/x-octave",
		   "name": "scilab",
		   "version": "0.7.1"
		  }
		 },
		 "nbformat": 4,
		 "nbformat_minor": 0
}
