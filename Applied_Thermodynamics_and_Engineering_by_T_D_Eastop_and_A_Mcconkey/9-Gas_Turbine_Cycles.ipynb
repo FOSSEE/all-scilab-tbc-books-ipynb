{
"cells": [
 {
		   "cell_type": "markdown",
	   "metadata": {},
	   "source": [
       "# Chapter 9: Gas Turbine Cycles"
	   ]
	},
{
		   "cell_type": "markdown",
		   "metadata": {},
		   "source": [
			"## Example 9.1: 1.sce"
		   ]
		  },
  {
"cell_type": "code",
	   "execution_count": null,
	   "metadata": {
	    "collapsed": true
	   },
	   "outputs": [],
"source": [
"clc;\n",
"T1=288;\n",
"p2!p1=10;\n",
"y=1.4;\n",
"T2s=T1*[(p2!p1)^{(y-1)/y}];\n",
"\n",
"nc=0.82;\n",
"T2=(T2s-T1)/nc+T1;\n",
"\n",
"T3=973;\n",
"y2=1.333;\n",
"T4s=T3/[(p2!p1)^{(y2-1)/y2}]\n",
"\n",
"nt=0.85;\n",
"T4=T3-(T3-T4s)*nt\n",
"\n",
"cp=1.005;\n",
"cp2=1.11;\n",
"Wi=cp*(T2-T1);\n",
"Wo=cp2*(T3-T4);\n",
"\n",
"N=(Wo-Wi);\n",
"P=(N*15)\n",
"disp('W',P,'powar output is');"
   ]
   }
,
{
		   "cell_type": "markdown",
		   "metadata": {},
		   "source": [
			"## Example 9.2: 2.sce"
		   ]
		  },
  {
"cell_type": "code",
	   "execution_count": null,
	   "metadata": {
	    "collapsed": true
	   },
	   "outputs": [],
"source": [
"clc;\n",
"\n",
"T1=288;\n",
"p2!p1=10;\n",
"y=1.4;\n",
"T2s=T1*[(p2!p1)^{(y-1)/y}];\n",
"\n",
"nc=0.82;\n",
"T2=(T2s-T1)/nc+T1;\n",
"\n",
"T3=973;\n",
"y2=1.333;\n",
"T4s=T3/[(p2!p1)^{(y2-1)/y2}]\n",
"\n",
"nt=0.85;\n",
"T4=T3-(T3-T4s)*nt\n",
"\n",
"cp=1.005;\n",
"cp2=1.11;\n",
"Wi=cp*(T2-T1);\n",
"Wo=cp2*(T3-T4);\n",
"\n",
"N=(Wo-Wi);\n",
"\n",
"Q=cp2*(T3-T2);\n",
"Ceff=N/Q\n",
"disp('$',Ceff*100,'cycle efficiency is:');\n",
"\n",
"Wratio=N/Wo;\n",
"disp(Wratio*100,'Work ratio is:');"
   ]
   }
,
{
		   "cell_type": "markdown",
		   "metadata": {},
		   "source": [
			"## Example 9.3: 3.sce"
		   ]
		  },
  {
"cell_type": "code",
	   "execution_count": null,
	   "metadata": {
	    "collapsed": true
	   },
	   "outputs": [],
"source": [
"clc;\n",
"p2!p1=8;\n",
"T1=290;\n",
"y=1.4;\n",
"T2s=T1*({p2!p1}^[(y-1)/y]);\n",
"nc=0.8;\n",
"T2=[(T2s-T1)/nc]+T1;\n",
"\n",
"cps=1.005;\n",
"T3=923;\n",
"Wi=cps*(T2-T1);\n",
"Wo=Wi;\n",
"cps2=1.15;\n",
"T4=T3-[Wo/cps2]\n",
"\n",
"nt=0.85;\n",
"T4s=T3-[(T3-T4)/nt];\n",
"\n",
"p3=8*1.01;\n",
"y2=1.333;\n",
"p4=p3/[(T3/T4s)^{y2/(y2-1)}];\n",
"disp('bar',p4,'pressure at entry of the LP.');\n",
"disp('K',T4,'temperature at the entry of LP.');\n",
"\n",
"p4!p5=p2!p1*(p4/p3);\n",
"T5s=T4/[(p4!p5)^{(y2-1)/y2}];\n",
"\n",
"nT=0.83;\n",
"T5=T4-[nT*(T4-T5s)]\n",
"WoLP=cps2*(T4-T5);\n",
"\n",
"N=WoLP*1;\n",
"Wr=WoLP/(WoLP+Wo);\n",
"disp('kW',Wr,'Work ratio is :');\n",
"\n",
"Q=cps2*(T3-T2);\n",
"disp('kJ/kg',Q,'Heat supplied is:');\n",
"\n",
"Ceff=N/Q;\n",
"disp('%',Ceff*100,'cycle efficiency is:');\n",
""
   ]
   }
,
{
		   "cell_type": "markdown",
		   "metadata": {},
		   "source": [
			"## Example 9.4: 4.sce"
		   ]
		  },
  {
"cell_type": "code",
	   "execution_count": null,
	   "metadata": {
	    "collapsed": true
	   },
	   "outputs": [],
"source": [
"clc;\n",
"y=1.4;\n",
"p2!p1=3;\n",
"T1=288;\n",
"T2s=T1*[(p2!p1)^({y-1}/y)];\n",
"\n",
"nc=0.8;\n",
"T2=T1+[T2s-T1]/nc\n",
"\n",
"cps=1.005;\n",
"Wi=cps*(T2-T1);\n",
"Wo=2*(Wi)/0.98;\n",
"\n",
"T6=923;\n",
"cps2=1.15;\n",
"T7=T6-Wo/cps2\n",
"nT=0.85;\n",
"T7s=T6-[(T6-T7)/nT]\n",
"y2=1.333;\n",
"p8!p9=[p2!p1^2]/[(T6/T7s)^{y2/(y2-1)}];\n",
"\n",
"T8=T6;\n",
"T9s=T8/[(p8!p9)^({y2-1}/y2)];\n",
"\n",
"T9=T8-nT*(T8-T9s)\n",
"N=cps2*(T8-T9)*0.98;\n",
"\n",
"Tr=0.75;\n",
"T4=420.5;\n",
"T5=T4+Tr*(T9-T4)\n",
"\n",
"Q=cps2*([T6-T5]+[T8-T7]);\n",
"Ceff=N/Q;\n",
"disp(Ceff,'cycle efficiency is:');\n",
"\n",
"//part II\n",
"GWo=Wo+N/0.98;\n",
"Wr=N/GWo;\n",
"disp(Wr,'work ratio is:')\n",
"\n",
"//part III\n",
"m=5000/N;\n",
"disp('kg/s',m,'rate of flow of air is:')"
   ]
   }
,
{
		   "cell_type": "markdown",
		   "metadata": {},
		   "source": [
			"## Example 9.5: 5.sce"
		   ]
		  },
  {
"cell_type": "code",
	   "execution_count": null,
	   "metadata": {
	    "collapsed": true
	   },
	   "outputs": [],
"source": [
"clc;\n",
"T1=288;\n",
"T2s=T1*[3^0.286];\n",
"T2=420.5\n",
"T4=T2;\n",
"p6=8.14;\n",
"p6!p7=4.19;\n",
"p7=p6/(p6!p7);\n",
"p8=(p7-0.2)\n",
"p1=1.01\n",
"p10=p1\n",
"p9=0.05+p10\n",
"y2=1.333;\n",
"T8=923;\n",
"T9s=T8/[(p8/p9)^({y2-1}/y2)];\n",
"T9=T8-[(T8-T9s)*0.85];\n",
"cps2=1.15;\n",
"N=cps2*(T8-T9);\n",
"T5=728.8;\n",
"T6=T8;\n",
"T7=686.5;\n",
"Q=cps2*(T6-T5+T8-T7)\n",
"disp('kJ/kg',Q,'Heat supplied is')\n",
"\n",
"Ceff=105.2/Q;\n",
"disp('%',Ceff*100,'cycle efficiency is')\n",
"GW=(105.2/0.98)+277;\n",
"\n",
"Wr=105.2/GW\n",
"disp(Wr,'work ratio is:')"
   ]
   }
],
"metadata": {
		  "kernelspec": {
		   "display_name": "Scilab",
		   "language": "scilab",
		   "name": "scilab"
		  },
		  "language_info": {
		   "file_extension": ".sce",
		   "help_links": [
			{
			 "text": "MetaKernel Magics",
			 "url": "https://github.com/calysto/metakernel/blob/master/metakernel/magics/README.md"
			}
		   ],
		   "mimetype": "text/x-octave",
		   "name": "scilab",
		   "version": "0.7.1"
		  }
		 },
		 "nbformat": 4,
		 "nbformat_minor": 0
}
