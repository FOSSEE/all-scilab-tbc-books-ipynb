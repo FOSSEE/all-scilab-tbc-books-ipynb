{
"cells": [
 {
		   "cell_type": "markdown",
	   "metadata": {},
	   "source": [
       "# Chapter 10: Nozzle and Jet Propulsion"
	   ]
	},
{
		   "cell_type": "markdown",
		   "metadata": {},
		   "source": [
			"## Example 10.1: 1.sce"
		   ]
		  },
  {
"cell_type": "code",
	   "execution_count": null,
	   "metadata": {
	    "collapsed": true
	   },
	   "outputs": [],
"source": [
"clc;\n",
"y=1.4;\n",
"p1=8.6;\n",
"pc=p1*[(2/(y+1))^{y/(y-1)}];\n",
"\n",
"T1=190+273;\n",
"Tc=T1*[2/(y+1)];\n",
"R=287;\n",
"vc=R*Tc/(10^5*pc);\n",
"Cc=(y*R*Tc)^0.5;\n",
"\n",
"m=4.5;\n",
"A=m*vc/Cc;\n",
"disp('mm^3',A*10^6,'Area of troat is:');\n",
"\n",
"p2=1.03;\n",
"T1=463;\n",
"T2=T1/([p1/[p2]]^([y-1]/y));\n",
"\n",
"v2=R*T2/(10^5*p2);\n",
"cp=1.005\n",
"C2=[2*cp*10^3*(T1-T2)]^0.5;\n",
"A2=m*v2/C2\n",
"disp('mm^3',A2*10^6,'Exit area is:');"
   ]
   }
,
{
		   "cell_type": "markdown",
		   "metadata": {},
		   "source": [
			"## Example 10.2: 2.sce"
		   ]
		  },
  {
"cell_type": "code",
	   "execution_count": null,
	   "metadata": {
	    "collapsed": true
	   },
	   "outputs": [],
"source": [
"clc;\n",
"R_=8314.5;\n",
"R=R_/4;\n",
"cp=10^3*5.19;\n",
"y=1/[1-(R/cp)];\n",
"p1=6.9;\n",
"pc=([2/(y+1)]^[y/(y-1)])*p1;\n",
"\n",
"T1=93+273;\n",
"p2=3.6;\n",
"T2=T1/[(p1/p2)^([y-1]/y)];\n",
"\n",
"C2=[2*cp*(T1-T2)]^0.5;\n",
"v2=R*T2/(10^5*p2);\n",
"\n",
"A2=1;\n",
"m=A2*C2/v2;\n",
"disp('kg/s',m,'mass flow per square meter of exit area:');\n",
"\n",
"//partII\n",
"m_=30;\n",
"R=R_/m_;\n",
"cp=1880;\n",
"y=1/[1-(R/cp)]\n",
"\n",
"p2=3.93;\n",
"T2=337;\n",
"pc=p1*[2/(y+1)]^[(y/(y-1))];\n",
"Tc=T1*[2/(y+1)];\n",
"Cc=[y*R*Tc]^0.5;\n",
"v2=R*T2/(10^5*p2);\n",
"\n",
"m=A2*Cc/v2\n",
"disp('kg/s',m,'mass flow per square meter of exit area is:');"
   ]
   }
,
{
		   "cell_type": "markdown",
		   "metadata": {},
		   "source": [
			"## Example 10.3: 3.sce"
		   ]
		  },
  {
"cell_type": "code",
	   "execution_count": null,
	   "metadata": {
	    "collapsed": true
	   },
	   "outputs": [],
"source": [
"clc;\n",
"p1=3.5;\n",
"y=1.333;\n",
"pc=p1*[2/(y+1)]^[(y/(y-1))];\n",
"\n",
"T1=425+273;\n",
"Tc=T1*[2/(y+1)];\n",
"T2=Tc;\n",
"cp=1.11*10^3;\n",
"Cc=[2*cp*(T1-T2)]^0.5;\n",
"C2=Cc;\n",
"R=cp*(y-1)/y;\n",
"vc=R*Tc/10^5/pc;\n",
"\n",
"m=18/.99;\n",
"Ac=m*vc/Cc\n",
"disp('m^2',Ac,'throat area is:');\n",
"T1=698;\n",
"p1=3.5;\n",
"p2=0.97;\n",
"T2s=T1/[(p1/p2)^{(y-1)/y}];\n",
"Neff=0.94;\n",
"T2=T1-Neff*(T1-T2s);\n",
"v2=R*T2/10^5/p2;\n",
"C2=(2*cp*(T1-T2))^0.5;\n",
"m2=18;\n",
"A2=m2*v2/C2;\n",
"disp('m^2',A2,'exit area is :');"
   ]
   }
,
{
		   "cell_type": "markdown",
		   "metadata": {},
		   "source": [
			"## Example 10.4: 4.sce"
		   ]
		  },
  {
"cell_type": "code",
	   "execution_count": null,
	   "metadata": {
	    "collapsed": true
	   },
	   "outputs": [],
"source": [
"clc;\n",
"y=1.135;\n",
"p1=10;\n",
"pc=p1*[2/(y+1)]^[(y/(y-1))];\n",
"h1=2778;\n",
"hc=2675;\n",
"xc=0.962;\n",
"vg=0.328;\n",
"vc=xc*vg;\n",
"Cc=(2*[h1-hc]*10^3)^0.5;\n",
"A_m=vc/Cc*10^6;\n",
"disp(A_m);"
   ]
   }
,
{
		   "cell_type": "markdown",
		   "metadata": {},
		   "source": [
			"## Example 10.5: 5.sce"
		   ]
		  },
  {
"cell_type": "code",
	   "execution_count": null,
	   "metadata": {
	    "collapsed": true
	   },
	   "outputs": [],
"source": [
"clc;\n",
"h1=2846;\n",
"h2=2682;\n",
"x2=0.98;\n",
"vg=0.6057;\n",
"v2=x2*vg;\n",
"C2=[2*(h1-h2)*10^3]^0.5;\n",
"m=0.1;\n",
"A2=m*v2*10^6/C2;\n",
"disp('mm^2',A2,'Exit area is:');\n",
"\n",
"//part II\n",
"p1=7;\n",
"p2=3;\n",
"k=1.3;\n",
"v1=0.3001;\n",
"vr=v1*[(p1/p2)^(1/k)];\n",
"y=1.3;\n",
"Cr=[2*(y*10^5)/(y-1)*{(p1*v1)-(p2*vr)}]^0.5;\n",
"A2=m*vr*10^6/Cr;\n",
"disp('mm^2',A2,'Exit area in supersaurated case is:')"
   ]
   }
,
{
		   "cell_type": "markdown",
		   "metadata": {},
		   "source": [
			"## Example 10.6: 6.sce"
		   ]
		  },
  {
"cell_type": "code",
	   "execution_count": null,
	   "metadata": {
	    "collapsed": true
	   },
	   "outputs": [],
"source": [
"clc;\n",
"KE=1/2*(800*1000/3600)^2/1000;\n",
"\n",
"T0=-50+273;\n",
"cp=1.005;\n",
"T0_=T0+[24.7/cp];\n",
"\n",
"Ieff=0.9;\n",
"T0_s=Ieff*(T0_-T0)+T0;\n",
"\n",
"y=1.4;\n",
"pa=0.24;\n",
"p0_=[(T0_s/T0)^[y/(y-1)]]*pa;\n",
"p0_2!p0_=10;\n",
"T0_2s=T0_*[p0_2!p0_^([y-1]/y)];\n",
"\n",
"T0_2=T0_+(T0_2s-T0_)/Ieff;\n",
"\n",
"p0_2=10*p0_;\n",
"p0_3=p0_2-(0.14);\n",
"\n",
"T0_3=820+273;\n",
"meff=0.98;\n",
"cp2=1.15;\n",
"T0_4=T0_3-[cp*(T0_2-T0_)/(cp2*meff)];\n",
"T0_4s=T0_3-[cp*(T0_2-T0_)/(cp2*meff)]/0.92;\n",
"y2=1.333;\n",
"p0_4=3.24/[(T0_3/T0_4s)^{(y2/(y2-1))}]\n",
"\n",
"pc=p0_4*([2/(y2+1)]^{y2/(y2-1)});\n",
"T0_5=[2/(y2+1)]*T0_4;\n",
"T0_5s=T0_4-{(T0_4-T0_5)/0.92};\n",
"\n",
"p5=p0_4/[(T0_4/T0_5s)^(y2/{y2-1})];\n",
"\n",
"R=cp2*(y2-1)/y2;\n",
"v5=R*T0_5*1000/10^5/p5;\n",
"\n",
"T5=741.3//K\n",
"Cj=(y2*R*1000*T5)^0.5;\n",
"\n",
"A=0.08;\n",
"m=A*Cj/v5;\n",
"Cg=222.2;\n",
"mt=m*(Cj-Cg)\n",
"pt=(p5-pa)*A*10^5;\n",
"Tt=pt+mt;\n",
"\n",
"Q=m*cp2*(T0_3-T0_2)\n",
"\n",
"C=43300;\n",
"\n",
"mf=Q/meff/C;\n",
"\n",
"SFC=mf*10^3/6453\n",
"disp('kg/kNs',SFC,'specific fuel consumption is')"
   ]
   }
,
{
		   "cell_type": "markdown",
		   "metadata": {},
		   "source": [
			"## Example 10.7: 7.sce"
		   ]
		  },
  {
"cell_type": "code",
	   "execution_count": null,
	   "metadata": {
	    "collapsed": true
	   },
	   "outputs": [],
"source": [
"clc;\n",
"v=650*10^3/3600;\n",
"KE=(1/2*v^2);\n",
"T0=-18+273;\n",
"cp=1.005;\n",
"Ieff=0.9;\n",
"T01=KE/10^3/cp+T0;\n",
"T01s=T0+Ieff*(T01-T0)\n",
"\n",
"p02!p01=9;\n",
"y=1.4;\n",
"T02s=T01*(p02!p01)^[(y-1)/y];\n",
"\n",
"Ieff2=0.89;\n",
"T02=T01+(T02s-T01)/Ieff2\n",
"\n",
"W=cp*(T02-T01);\n",
"p01!p0=1.215;\n",
"p03!p4=p02!p01*p01!p0;\n",
"T03=1123;\n",
"y2=1.333;\n",
"T4=T03/[(p03!p4)^{(y2-1)/y2}];\n",
"C4=180.5;\n",
"cps=1.15*10^3;\n",
"T04=T4+C4^2/(2*cps);\n",
"Ieff3=0.93;\n",
"Wo=cps*(T03-T04)*Ieff3/1000\n",
"Ieff4=0.98;\n",
"NW=(Wo-W)*Ieff4;\n",
"Q=cps*(T03-T02)/1000\n",
"Teff=NW/Q\n",
"disp('%',Teff*100,'Thermal efficiency');"
   ]
   }
],
"metadata": {
		  "kernelspec": {
		   "display_name": "Scilab",
		   "language": "scilab",
		   "name": "scilab"
		  },
		  "language_info": {
		   "file_extension": ".sce",
		   "help_links": [
			{
			 "text": "MetaKernel Magics",
			 "url": "https://github.com/calysto/metakernel/blob/master/metakernel/magics/README.md"
			}
		   ],
		   "mimetype": "text/x-octave",
		   "name": "scilab",
		   "version": "0.7.1"
		  }
		 },
		 "nbformat": 4,
		 "nbformat_minor": 0
}
