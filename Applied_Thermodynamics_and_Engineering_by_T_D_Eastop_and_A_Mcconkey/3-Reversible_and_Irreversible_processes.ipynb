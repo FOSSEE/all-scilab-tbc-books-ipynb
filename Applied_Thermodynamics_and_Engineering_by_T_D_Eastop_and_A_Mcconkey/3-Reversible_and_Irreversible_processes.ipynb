{
"cells": [
 {
		   "cell_type": "markdown",
	   "metadata": {},
	   "source": [
       "# Chapter 3: Reversible and Irreversible processes"
	   ]
	},
{
		   "cell_type": "markdown",
		   "metadata": {},
		   "source": [
			"## Example 3.10: 10.sce"
		   ]
		  },
  {
"cell_type": "code",
	   "execution_count": null,
	   "metadata": {
	    "collapsed": true
	   },
	   "outputs": [],
"source": [
"clc;\n",
"h3=2716.4;//kJ/kg\n",
"hf2=640;\n",
"h_fg2=2109;\n",
"x2=(h3-hf2)/(h_fg2);\n",
"\n",
"flow_rate=9;\n",
"m_w2=(1-x2)*(flow_rate);\n",
"mass_water=0.5;\n",
"m_w1=m_w2+mass_water\n",
"\n",
"flow_rate_dry=mass_water+flow_rate-m_w1;\n",
"x1=flow_rate_dry/(mass_water+flow_rate);\n",
"disp('fraction is:');\n",
"disp(x1)"
   ]
   }
,
{
		   "cell_type": "markdown",
		   "metadata": {},
		   "source": [
			"## Example 3.11: 11.sce"
		   ]
		  },
  {
"cell_type": "code",
	   "execution_count": null,
	   "metadata": {
	    "collapsed": true
	   },
	   "outputs": [],
"source": [
"\n",
"clc;\n",
"x=0.9;\n",
"uf=511;\n",
"ug=2531;\n",
"u=uf*(1-x)+(ug*x);\n",
"V=10;\n",
"vg=0.8461;\n",
"v=x*vg;\n",
"m=V/v;\n",
"h=2944;\n",
"u2=2640;\n",
"v2=0.3522;\n",
"m2=V/v2;\n",
"Q=m2*u2-m*u-h*(m2-m);\n",
"disp('heat rejected is;');\n",
"disp('kJ',-Q)\n",
"//Answers vary more than than +/-5 :\n",
"//Answers in the textbook is wrong"
   ]
   }
,
{
		   "cell_type": "markdown",
		   "metadata": {},
		   "source": [
			"## Example 3.1: 1.sce"
		   ]
		  },
  {
"cell_type": "code",
	   "execution_count": null,
	   "metadata": {
	    "collapsed": true
	   },
	   "outputs": [],
"source": [
"clc\n",
"//at 2bar\n",
"h1=2707;//kJ/kg\n",
"hg=h1;\n",
"m1=0.05;//kg\n",
"v=0.0658;//m^3\n",
"v2=v/m1;//m^3/kg\n",
"h2=3072;//kJ/kg\n",
"p=2*10^5;\n",
"v1=0.8856\n",
"\n",
"Q=m1*(h2-h1);\n",
"disp('heat suppleid is:');\n",
"disp('kJ',Q);\n",
"\n",
"W=-p*(v2-v1);\n",
"disp('work done is:');\n",
"disp('N m/kg',W);\n",
"\n",
"//part (ii)\n",
"p2=p;\n",
"R=0.287;\n",
"T2=p2*v/(m1*R*1000);\n",
"cp=1.005;\n",
"T1=130+273;\n",
"Q=m1*cp*(T2-T1);\n",
"disp('heat supplie in part (ii)');\n",
"disp('kJ',Q);\n",
"\n",
"W=-R*(T2-T1)*m1;\n",
"disp('work done by the mass of gas presint:');\n",
"disp('kJ',W);"
   ]
   }
,
{
		   "cell_type": "markdown",
		   "metadata": {},
		   "source": [
			"## Example 3.12: 12.sce"
		   ]
		  },
  {
"cell_type": "code",
	   "execution_count": null,
	   "metadata": {
	    "collapsed": true
	   },
	   "outputs": [],
"source": [
"clc;\n",
"p=15;//bar\n",
"V=6;//m^3;\n",
"R=0.287;\n",
"T=313.5;\n",
"y=1.4\n",
"\n",
"m=p*V/(R*T);\n",
"\n",
"p2=12;//bar\n",
"T2=T/[(p/p2)^((y-1)/y)];\n",
"m2=p2*V*10^5/(R*T2*10^3);\n",
"\n",
"disp('mass of air left');\n",
"disp('kg',m2)"
   ]
   }
,
{
		   "cell_type": "markdown",
		   "metadata": {},
		   "source": [
			"## Example 3.2: 2.sce"
		   ]
		  },
  {
"cell_type": "code",
	   "execution_count": null,
	   "metadata": {
	    "collapsed": true
	   },
	   "outputs": [],
"source": [
"clc;\n",
"x=0.9;\n",
"uf=696;\n",
"ug=2573;\n",
"u1=(1-x)*uf+x*ug;\n",
"//similarly\n",
"u2=2602.8;\n",
"\n",
"disp('chang of internal energy is:');\n",
"disp('kJ/kg',u2-u1);\n",
"\n",
"hf=697;\n",
"h_fg=2067;\n",
"h1=hf+x*h_fg;\n",
"h2=2803;//kJ/kg\n",
"disp('change in enthalpy:');\n",
"disp('kJ/kg',h2-h1);\n",
"\n",
"Q=547;\n",
"W=(u2-u1)-Q;\n",
"disp('Work done is:');\n",
"disp('kJ/kg',W)"
   ]
   }
,
{
		   "cell_type": "markdown",
		   "metadata": {},
		   "source": [
			"## Example 3.3: 3.sce"
		   ]
		  },
  {
"cell_type": "code",
	   "execution_count": null,
	   "metadata": {
	    "collapsed": true
	   },
	   "outputs": [],
"source": [
"clc;\n",
"R_=8.3145;\n",
"m_=28;\n",
"R=R_/m_;\n",
"T=273+20;\n",
"p2=4.2;//bar\n",
"p1=1.01;//bar\n",
"W=R*T*log(p2/p1);\n",
"disp('work input:');\n",
"disp('kJ/kg',W);\n",
"\n",
"disp('heat rejected:');\n",
"disp('kJ/kg',W);//Q+W=0"
   ]
   }
,
{
		   "cell_type": "markdown",
		   "metadata": {},
		   "source": [
			"## Example 3.4: 3.sce"
		   ]
		  },
  {
"cell_type": "code",
	   "execution_count": null,
	   "metadata": {
	    "collapsed": true
	   },
	   "outputs": [],
"source": [
"clc;\n",
"h1=3017;//kJ/kg\n",
"v1=0.02453;//m^3/kg\n",
"p1=100;//bar\n",
"u1=h1-p1*v1*10^5/1000;\n",
"ug=2602;//kJ/kg\n",
"u2=ug;\n",
"W=u2-u1;\n",
"disp('work done by system is :');\n",
"disp('kJ/kg',-W)"
   ]
   }
,
{
		   "cell_type": "markdown",
		   "metadata": {},
		   "source": [
			"## Example 3.5: 5.sce"
		   ]
		  },
  {
"cell_type": "code",
	   "execution_count": null,
	   "metadata": {
	    "collapsed": true
	   },
	   "outputs": [],
"source": [
"clc;\n",
"T1=295;//C\n",
"p1=1.02;//bar\n",
"p2=6.8;//bar\n",
"y=1.4;\n",
"v1=0.015;//m^3\n",
"cv=0.718;\n",
"R=0.287\n",
"\n",
"T2=T1*(p2/p1)^((y-1)/y);\n",
"disp('final temperature is:');\n",
"disp('k',T2);\n",
"\n",
"v2=v1*{(p1/p2)^(1/y)};\n",
"disp('final volume is:');\n",
"disp('m^3',v2);\n",
"\n",
"w=cv*(T2-T1);\n",
"m=p1*v1*10^5/(10^3*R*T1);\n",
"W=w*m;\n",
"disp('total work done is:');\n",
"disp('kJ',W)"
   ]
   }
,
{
		   "cell_type": "markdown",
		   "metadata": {},
		   "source": [
			"## Example 3.6: 6.sce"
		   ]
		  },
  {
"cell_type": "code",
	   "execution_count": null,
	   "metadata": {
	    "collapsed": true
	   },
	   "outputs": [],
"source": [
"clc;\n",
"p1=1;//bar\n",
"p2=10;//bar\n",
"n=1.1;\n",
"v1=0.16;//m^3\n",
"\n",
"v2=v1*(p1/p2)^(1/n);\n",
"\n",
"W=(p2*v2-p1*v1)*10^5/[10^3*(n-1)];\n",
"disp('work done by the refrigerant is:');\n",
"disp('kJ',W);\n",
"\n",
"hg1=174.2;\n",
"u1=hg1-(p1*10^5*v1/10^3);\n",
"\n",
"hg2=203.8;//kJ/kg\n",
"vg2=0.018;//m^3\n",
"v=0.02;//m^3\n",
"h=224;//kJ/kg\n",
"h2=hg2+(v2-vg2)*(h-hg2)/(v-vg2);\n",
"u2=h2-(p2*10^5*v2/10^3)\n",
"\n",
"Q=-W+(u2-u1);\n",
"disp('heat transferred is:');\n",
"disp('kJ/kg',Q)"
   ]
   }
,
{
		   "cell_type": "markdown",
		   "metadata": {},
		   "source": [
			"## Example 3.7: 7.sce"
		   ]
		  },
  {
"cell_type": "code",
	   "execution_count": null,
	   "metadata": {
	    "collapsed": true
	   },
	   "outputs": [],
"source": [
"clc;\n",
"T1=300;//K\n",
"p2=6.6;//bar\n",
"p1=1.1;//bar\n",
"n=1.3;\n",
"T2=T1*[(p2/p1)^((n-1)/n)];\n",
"\n",
"R_=8.3145;\n",
"m_=30;\n",
"R=R_/m_;\n",
"\n",
"cp=2.10;\n",
"cv=cp-R;\n",
"y=cp/cv;\n",
"W=R*(T2-T1)/(n-1);\n",
"Q=(n-y)/(y-1)\n",
"disp('heat supplied is:');\n",
"disp('kJ/kg',Q);\n",
"\n",
"m_=40;\n",
"R=R_/m_;\n",
"cp=0.520;//kJ/kg\n",
"cv=cp-R;\n",
"y=cp/cv;\n",
"W=R*(T1-T2)/(n-1);\n",
"Q=[(n-y)/(y-1)]*W\n",
"disp('heat rejected is:')\n",
"disp('kJ/kg',Q)"
   ]
   }
,
{
		   "cell_type": "markdown",
		   "metadata": {},
		   "source": [
			"## Example 3.8: 8.sce"
		   ]
		  },
  {
"cell_type": "code",
	   "execution_count": null,
	   "metadata": {
	    "collapsed": true
	   },
	   "outputs": [],
"source": [
"clc;\n",
"p1=7;//bar\n",
"p2=1;//bar\n",
"y=1.333;\n",
"T1=923;//K\n",
"T2=T1/[(p1/p2)^((y-1)/y)]\n",
"\n",
"cp=1.11;\n",
"c2=45;\n",
"c1=9;\n",
"W=cp*(T2-T1)+[(c2^2-c1^2)/(2*10^3)];\n",
"disp('powar output is');\n",
"disp('kW',-W)"
   ]
   }
,
{
		   "cell_type": "markdown",
		   "metadata": {},
		   "source": [
			"## Example 3.9: 9.sce"
		   ]
		  },
  {
"cell_type": "code",
	   "execution_count": null,
	   "metadata": {
	    "collapsed": true
	   },
	   "outputs": [],
"source": [
"clc;\n",
"V1=1;//m^3\n",
"VA=1;//m^3\n",
"VB=1;//m^3\n",
"V2=VA+VB;\n",
"p1=20;//BAR\n",
"p2=p1*(V1/V2);\n",
"disp('final pressure is:');\n",
"disp('bar',p2);"
   ]
   }
],
"metadata": {
		  "kernelspec": {
		   "display_name": "Scilab",
		   "language": "scilab",
		   "name": "scilab"
		  },
		  "language_info": {
		   "file_extension": ".sce",
		   "help_links": [
			{
			 "text": "MetaKernel Magics",
			 "url": "https://github.com/calysto/metakernel/blob/master/metakernel/magics/README.md"
			}
		   ],
		   "mimetype": "text/x-octave",
		   "name": "scilab",
		   "version": "0.7.1"
		  }
		 },
		 "nbformat": 4,
		 "nbformat_minor": 0
}
