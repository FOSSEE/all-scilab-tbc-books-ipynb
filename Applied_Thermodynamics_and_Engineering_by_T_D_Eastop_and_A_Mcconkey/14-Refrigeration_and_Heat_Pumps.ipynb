{
"cells": [
 {
		   "cell_type": "markdown",
	   "metadata": {},
	   "source": [
       "# Chapter 14: Refrigeration and Heat Pumps"
	   ]
	},
{
		   "cell_type": "markdown",
		   "metadata": {},
		   "source": [
			"## Example 14.1: 1.sce"
		   ]
		  },
  {
"cell_type": "code",
	   "execution_count": null,
	   "metadata": {
	    "collapsed": true
	   },
	   "outputs": [],
"source": [
"clc;\n",
"T1=-30+273;//K\n",
"T2=32+273;//K\n",
"\n",
"COP=T1/(T2-T1);\n",
"\n",
"eff=0.75;\n",
"acctual_COP=eff*(COP);\n",
"\n",
"Q=5;//kW\n",
"W=Q/acctual_COP;\n",
"\n",
"disp('required powar input is:');\n",
"disp('kW',W);"
   ]
   }
,
{
		   "cell_type": "markdown",
		   "metadata": {},
		   "source": [
			"## Example 14.6: 6.sce"
		   ]
		  },
  {
"cell_type": "code",
	   "execution_count": null,
	   "metadata": {
	    "collapsed": true
	   },
	   "outputs": [],
"source": [
"clc;\n",
"h1=301;//K\n",
"h2=330;//K\n",
"h4=145.5;//K\n",
"\n",
"COP=(h1-h4)/(h2-h1);\n",
"disp('COP is:');\n",
"disp(COP)"
   ]
   }
,
{
		   "cell_type": "markdown",
		   "metadata": {},
		   "source": [
			"## Example 14.8: 8.sce"
		   ]
		  },
  {
"cell_type": "code",
	   "execution_count": null,
	   "metadata": {
	    "collapsed": true
	   },
	   "outputs": [],
"source": [
"clc;\n",
"h3=162.93;\n",
"hf1=120.06;\n",
"hg1=303.38;\n",
"hfg1=hg1-hf1;\n",
"x=(h3-hf1)/hfg1;\n",
"disp('the amount of vapour bled off at the flash chamber:');\n",
"disp(x);\n",
"\n",
"//part II\n",
"s1=1.7155;//kJ/kg K\n",
"s2=s1;\n",
"s3=1.7071;\n",
"s4=1.7463;\n",
"h2=hg1+[(s1-s3)/(s4-s3)]*(314.86-hg1);\n",
"h3={(1-x)*h2}+x*hg1;\n",
"\n",
"disp(h3,'h3=')\n",
"disp('hence vapour at inlet to the second stage compressor is still superheated')\n",
"\n",
"//part III\n",
"h1=291.77;\n",
"h4=120.06;\n",
"Refrigerating=(1-x)*(h1-h4);\n",
"disp('refrigerating effect is:');\n",
"disp('kJ/kg',Refrigerating);\n",
"\n",
"//part IV\n",
"h5=305.26;//kJ/kg\n",
"s5=s3+[(h3-hg1)/(h2-hg1)]*(s1-s3);\n",
"\n",
"h6=319.54+[(s5-1.7028)/(1.7440-1.7028)]*(332.87-319.54);\n",
"\n",
"W=(1-x)*(h2-h1)+(h6-h5);\n",
"disp('kJ/kg',W,'Work done per unit mass of refrigerant in the condenser is:');\n",
"\n",
"//part V\n",
"Q=131.53;//W\n",
"COP=Q/W;\n",
"h2=319.54+[(s1-1.7028)/(1.7440-1.7028)]*(332.87-319.54);\n",
"\n",
"h4=162.93;\n",
"W=(h2-h1);\n",
"Q=(h1-h4);\n",
"\n",
"disp('coefficient of performance is:');\n",
"disp(COP);"
   ]
   }
],
"metadata": {
		  "kernelspec": {
		   "display_name": "Scilab",
		   "language": "scilab",
		   "name": "scilab"
		  },
		  "language_info": {
		   "file_extension": ".sce",
		   "help_links": [
			{
			 "text": "MetaKernel Magics",
			 "url": "https://github.com/calysto/metakernel/blob/master/metakernel/magics/README.md"
			}
		   ],
		   "mimetype": "text/x-octave",
		   "name": "scilab",
		   "version": "0.7.1"
		  }
		 },
		 "nbformat": 4,
		 "nbformat_minor": 0
}
