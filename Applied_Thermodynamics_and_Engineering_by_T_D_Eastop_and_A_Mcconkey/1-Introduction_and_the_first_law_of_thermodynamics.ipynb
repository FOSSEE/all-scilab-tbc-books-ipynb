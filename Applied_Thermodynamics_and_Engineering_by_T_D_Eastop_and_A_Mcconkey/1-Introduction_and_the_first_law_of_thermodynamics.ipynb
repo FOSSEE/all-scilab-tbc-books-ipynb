{
"cells": [
 {
		   "cell_type": "markdown",
	   "metadata": {},
	   "source": [
       "# Chapter 1: Introduction and the first law of thermodynamics"
	   ]
	},
{
		   "cell_type": "markdown",
		   "metadata": {},
		   "source": [
			"## Example 1.1: chapter_1_example_1.sce"
		   ]
		  },
  {
"cell_type": "code",
	   "execution_count": null,
	   "metadata": {
	    "collapsed": true
	   },
	   "outputs": [],
"source": [
"\n",
"clc;\n",
"p=3;//bar\n",
"v=0.18;//m^2/kg\n",
"p2=0.6;//bar\n",
"\n",
"c=p*v^2;\n",
"\n",
"v2=(c/p2)^0.5;\n",
"\n",
"W=-c*(10^5)*[(1/v)-(1/v2)];\n",
"disp('Work done by the fluid is:');\n",
"disp('N m/kg',-W);\n",
"//Answers vary more than than +/-5 :\n",
"//Answers in the textbook is wrong"
   ]
   }
,
{
		   "cell_type": "markdown",
		   "metadata": {},
		   "source": [
			"## Example 1.2: chapter_1_example_2.sce"
		   ]
		  },
  {
"cell_type": "code",
	   "execution_count": null,
	   "metadata": {
	    "collapsed": true
	   },
	   "outputs": [],
"source": [
"clc;\n",
"p1=20;//bar\n",
"v1=0.05;//m^3\n",
"v2=0.1;//m^3\n",
"p2=p1*[(v1/v2)^2];//bar\n",
"\n",
"W_12=-10^5*p1*(v1^2)*((1/v1)-(1/v2));\n",
"\n",
"W_23=10^5*p2*(v2-v1);\n",
"\n",
"//work done from 3-1 is zero as the piston is locked in position.\n",
"\n",
"disp('The net work done by the fluid is:');\n",
"W=-(W_12+W_23)\n",
"disp('N m',W)"
   ]
   }
,
{
		   "cell_type": "markdown",
		   "metadata": {},
		   "source": [
			"## Example 1.3: chapter_1_example_3.sce"
		   ]
		  },
  {
"cell_type": "code",
	   "execution_count": null,
	   "metadata": {
	    "collapsed": true
	   },
	   "outputs": [],
"source": [
"clc;\n",
"\n",
"heat_supplied=2800;//kJ/kg\n",
"heat_rejected=2100;//kJ/kg\n",
"sigma_dQ=heat_supplied-heat_rejected;\n",
"\n",
"work_done=1000;\n",
"work_reqr=5;\n",
"sigma_dW=work_reqr-work_done;\n",
"\n",
"m=-sigma_dW/sigma_dQ\n",
"disp('steam mass flow rate required is:');\n",
"disp('kg/s',m)"
   ]
   }
,
{
		   "cell_type": "markdown",
		   "metadata": {},
		   "source": [
			"## Example 1.4: chapter_1_example_4.sce"
		   ]
		  },
  {
"cell_type": "code",
	   "execution_count": null,
	   "metadata": {
	    "collapsed": true
	   },
	   "outputs": [],
"source": [
"clc;\n",
"Q=-45;//kJ/kg\n",
"W=90;//kJ/kg\n",
"\n",
"u2_u1=Q+W;\n",
"disp('gain in internal energy is:');\n",
"disp('kJ/kg',u2_u1);"
   ]
   }
,
{
		   "cell_type": "markdown",
		   "metadata": {},
		   "source": [
			"## Example 1.5: chapter_1_example_5.sce"
		   ]
		  },
  {
"cell_type": "code",
	   "execution_count": null,
	   "metadata": {
	    "collapsed": true
	   },
	   "outputs": [],
"source": [
"clc;\n",
"W=-100;//kJ/kg\n",
"u2=200;//kJ/kg\n",
"u1=420;//kJ/kg\n",
"\n",
"Q=u2-u1-W;\n",
"disp('heat rejected by the air is:');\n",
"disp('kJ/kg',-Q);"
   ]
   }
,
{
		   "cell_type": "markdown",
		   "metadata": {},
		   "source": [
			"## Example 1.6: chapter_1_example_6.sce"
		   ]
		  },
  {
"cell_type": "code",
	   "execution_count": null,
	   "metadata": {
	    "collapsed": true
	   },
	   "outputs": [],
"source": [
"clc;\n",
"c1=60;//m/s\n",
"W=-14000;//kW\n",
"m=17;//kg/s\n",
"h1=1200;//kJ/kg\n",
"h2=360;//kJ/kg\n",
"\n",
"KE_I=c1^2/2000;//kJ/kg\n",
"KE_O=(2.5^2)*KE_I;\n",
"//c2=2.5*c1;\n",
"\n",
"Q=m*{[h2+(KE_I/1000)]-[h1+(KE_O/1000)]}-W;\n",
"disp('Heat rejected:');\n",
"disp('kW',-Q);\n",
"\n",
"v=0.5;//m^2\n",
"A=m*v/c1;\n",
"disp('inlet area is');\n",
"disp('m^2',A)"
   ]
   }
,
{
		   "cell_type": "markdown",
		   "metadata": {},
		   "source": [
			"## Example 1.7: chapter_1_example_7.sce"
		   ]
		  },
  {
"cell_type": "code",
	   "execution_count": null,
	   "metadata": {
	    "collapsed": true
	   },
	   "outputs": [],
"source": [
"clc;\n",
"c1=6;//m/s\n",
"c2=4.5;//m^2\n",
"p1=10^5;//bar\n",
"p2=6.9*10^5;//bar\n",
"v1=0.85;//m^3/kg\n",
"v2=0.16;//m^3/kg\n",
"u2_u1=88;//kJ/kg\n",
"m=0.4;//kg/s\n",
"Q=-59;//kW\n",
"\n",
"KI=c1^2/2000;\n",
"KO=c2^2/2000;\n",
"\n",
"W=m*{(u2_u1)+(p2*v2-p1*v1)+(KO-KI)}-Q;\n",
"disp('powar input required is:');\n",
"disp('kW',W/1000);\n",
"\n",
"A1=m*(v1/c1);\n",
"disp('inlet pipe cross section area is:');\n",
"disp('m^2',A1);\n",
"\n",
"A2=m*(v2/c2);\n",
"disp('outlet pipe cross section area is:');\n",
"disp('m^2',A2);"
   ]
   }
],
"metadata": {
		  "kernelspec": {
		   "display_name": "Scilab",
		   "language": "scilab",
		   "name": "scilab"
		  },
		  "language_info": {
		   "file_extension": ".sce",
		   "help_links": [
			{
			 "text": "MetaKernel Magics",
			 "url": "https://github.com/calysto/metakernel/blob/master/metakernel/magics/README.md"
			}
		   ],
		   "mimetype": "text/x-octave",
		   "name": "scilab",
		   "version": "0.7.1"
		  }
		 },
		 "nbformat": 4,
		 "nbformat_minor": 0
}
