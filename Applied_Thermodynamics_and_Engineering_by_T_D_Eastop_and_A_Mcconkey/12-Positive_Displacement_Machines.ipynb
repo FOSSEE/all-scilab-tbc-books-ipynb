{
"cells": [
 {
		   "cell_type": "markdown",
	   "metadata": {},
	   "source": [
       "# Chapter 12: Positive Displacement Machines"
	   ]
	},
{
		   "cell_type": "markdown",
		   "metadata": {},
		   "source": [
			"## Example 12.10: 10.sce"
		   ]
		  },
  {
"cell_type": "code",
	   "execution_count": null,
	   "metadata": {
	    "collapsed": true
	   },
	   "outputs": [],
"source": [
"clc;\n",
"//part I\n",
"p1=6.3;//bar\n",
"V1!V2=0.55/1.05;\n",
"n=1.3;\n",
"p2=p1*[(V1!V2)^n];\n",
"\n",
"T1=297;\n",
"T2=T1*[(V1!V2)^[n-1]];\n",
"disp('Temperature after expansion is:');\n",
"disp('C',T2-273);\n",
"\n",
"\n",
"//part II\n",
"p4=1.013;//bar\n",
"V4!V5=0.1/0.05;\n",
"p5=p4*[(V4!V5)^n];\n",
"\n",
"A=%pi*(63.5)^2;\n",
"sweptV=A*114/(4*10^9);\n",
"\n",
"V1_V6=0.5;\n",
"V1=0.55;\n",
"V2=1.05;\n",
"p=1.013;\n",
"p3=p;\n",
"V3_V4=0.95\n",
"V5=0.05;\n",
"V4=0.1;\n",
"W_op=[10^5*0.361*10^-3]*[p1*(V1_V6)+[(p1*V1-p2*V2)/0.3]-p*V3_V4-[(p5*V5)-p*V4]/0.3]\n",
"disp('powar developed is:');\n",
"P=W_op*300/(60*010^3);\n",
"disp(P);\n",
"\n",
"//part III\n",
"y=1.4;\n",
"T3=T2*(p3/p2)^((y-1)/y)\n",
"\n",
"T4=T3\n",
"R=287\n",
"m4=p4*V4*[10^5*0.361*10^-3]/(R*T4);\n",
"m1=p1*V1*[10^5*0.361*10^-3]/(R*T1);\n",
"ind_mass=(m1-m4);\n",
"rate=ind_mass*300;\n",
"disp('mass flow rate of air supplied is;');\n",
"disp('kg/min',rate)"
   ]
   }
,
{
		   "cell_type": "markdown",
		   "metadata": {},
		   "source": [
			"## Example 12.4: 4.sce"
		   ]
		  },
  {
"cell_type": "code",
	   "execution_count": null,
	   "metadata": {
	    "collapsed": true
	   },
	   "outputs": [],
"source": [
"clc;\n",
"Va_Vd=14/(300*2);\n",
"p2=7;\n",
"p1=1.013;\n",
"n=1.3;\n",
"Vs=Va_Vd/[(1.05)-(0.05*[(p2/p1)^(1/n)])];\n",
"disp('swept volume of compressor is:');\n",
"disp('m^3',Vs);\n",
"\n",
"T1=288;//K\n",
"T2=T1*[(p2/p1)^([n-1]/n)];\n",
"disp('delivery temperature is:');\n",
"disp('K',T2);\n",
"\n",
"V=14/60;\n",
"P=[n/(n-1)]*{[p1*V*10^5]/(10^3)}*{[(p2/p1)^[(n-1)/n]]-1};\n",
"disp('indicated power is:');\n",
"disp('kW',P)"
   ]
   }
,
{
		   "cell_type": "markdown",
		   "metadata": {},
		   "source": [
			"## Example 12.7: 7.sce"
		   ]
		  },
  {
"cell_type": "code",
	   "execution_count": null,
	   "metadata": {
	    "collapsed": true
	   },
	   "outputs": [],
"source": [
"clc;\n",
"p=1.013;//bar\n",
"V=2.83;//m^3\n",
"R=0.287;\n",
"T=288;//K\n",
"\n",
"m_deliv=p*V*10^5/(T*R*10^3);\n",
"\n",
"n=1.3;\n",
"z=3;\n",
"p2=70;//bar\n",
"p1=0.98;//bar\n",
"m=m_deliv/60;\n",
"\n",
"T_P=z*[n/(n-1)]*m*R*T*{[(p2/p1)^[(n-1)/(3*n)]]-1};\n",
"disp('kW',T_P,'Total indicated powar is:');"
   ]
   }
],
"metadata": {
		  "kernelspec": {
		   "display_name": "Scilab",
		   "language": "scilab",
		   "name": "scilab"
		  },
		  "language_info": {
		   "file_extension": ".sce",
		   "help_links": [
			{
			 "text": "MetaKernel Magics",
			 "url": "https://github.com/calysto/metakernel/blob/master/metakernel/magics/README.md"
			}
		   ],
		   "mimetype": "text/x-octave",
		   "name": "scilab",
		   "version": "0.7.1"
		  }
		 },
		 "nbformat": 4,
		 "nbformat_minor": 0
}
