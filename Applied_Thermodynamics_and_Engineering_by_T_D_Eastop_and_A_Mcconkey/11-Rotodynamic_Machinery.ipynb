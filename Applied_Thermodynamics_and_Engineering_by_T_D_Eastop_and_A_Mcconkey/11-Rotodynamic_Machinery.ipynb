{
"cells": [
 {
		   "cell_type": "markdown",
	   "metadata": {},
	   "source": [
       "# Chapter 11: Rotodynamic Machinery"
	   ]
	},
{
		   "cell_type": "markdown",
		   "metadata": {},
		   "source": [
			"## Example 11.10: 10.sce"
		   ]
		  },
  {
"cell_type": "code",
	   "execution_count": null,
	   "metadata": {
	    "collapsed": true
	   },
	   "outputs": [],
"source": [
"clc;\n",
"T=20+273;\n",
"y=1.4;\n",
"Ti=T*4^([y-1]/y)\n",
"ir=Ti-T;\n",
"actual_r=ir/0.8;\n",
"cp=1.005;\n",
"P=cp*actual_r;\n",
"Cai=150;\n",
"Cbi=15000*%pi*250/(60*10^3);\n",
"Cwi=Cai*sin(25*%pi/180);\n",
"Cbe=15000*%pi*590/(60*10^3);\n",
"Cwe=Cbe;\n",
"P=178.9*10^3;\n",
"C_we=(P+Cbi*Cwi)/(Cbe);\n",
"Sf=C_we/Cwe;\n",
"disp(Sf,'Slip factor is:');"
   ]
   }
,
{
		   "cell_type": "markdown",
		   "metadata": {},
		   "source": [
			"## Example 11.1: 1.sce"
		   ]
		  },
  {
"cell_type": "code",
	   "execution_count": null,
	   "metadata": {
	    "collapsed": true
	   },
	   "outputs": [],
"source": [
"clc;\n",
"Cai=900;\n",
"Cb=300;\n",
"alpha=20*%pi/180;\n",
"Cri=(Cai^2+Cb^2-2*Cb*Cai*cos(alpha))^0.5;\n",
"b=asin(Cai*sin(alpha)/Cri);\n",
"Beta=180*b/%pi\n",
"disp('the blade inlet angle is:');\n",
"disp('degree',Beta)\n",
"\n",
"//part II\n",
"k=0.7;\n",
"Cre=k*Cri\n",
"AD=Cri*cos(b);\n",
"AE=Cre*cos(b);\n",
"\n",
"Cw=AD+AE;\n",
"disp('driving force on wheel is:');\n",
"m=1;\n",
"Df=m*Cw\n",
"disp('N per kg/s',Df);\n",
"\n",
"\n",
"//part III\n",
"Cfi=Cri*sin(b);\n",
"Cfe=Cre*sin(b);\n",
"Cf=Cfi-Cfe;\n",
"At=m*Cf;\n",
"disp('axial thrust is:');\n",
"disp('N per kg/s',At)\n",
"\n",
"//part IV\n",
"Dp=Cb*Cw;\n",
"disp('diagram power per unit mass flow rate:');\n",
"disp('kW',Dp/1000);\n",
"\n",
"//part V\n",
"De=Cb*Cw/(Cai^2);\n",
"disp('Diagram efficiency is');\n",
"disp('%',De*100);"
   ]
   }
,
{
		   "cell_type": "markdown",
		   "metadata": {},
		   "source": [
			"## Example 11.2: 2.sce"
		   ]
		  },
  {
"cell_type": "code",
	   "execution_count": null,
	   "metadata": {
	    "collapsed": true
	   },
	   "outputs": [],
"source": [
"clc;\n",
"k=0.9;\n",
"Cri1=486;//m/s\n",
"Cri2=187.5;//m/s\n",
"Caei=327;//m/s\n",
"Cre1=k*Cri1;\n",
"Cre2=k*Cri2;\n",
"Cai2=k*Caei;\n",
"//from velocity diagram;\n",
"disp('inlet blade angle firls row of moving blades');\n",
"Bi1=20;\n",
"disp('degree',Bi1)\n",
"\n",
"disp('inlet blade angle fixed blades');\n",
"alpha=20;\n",
"disp('degree',alpha)\n",
"\n",
"disp('inlet blade angle second row of moving blades');\n",
"Bi2=34.5;\n",
"disp('degree',Bi2);\n",
"\n",
"//part II\n",
"m=1;\n",
"Cw1=874;\n",
"Cw2=292.5;\n",
"disp('N',m*Cw1,'driving force on first row:');\n",
"disp('N',m*Cw2,'driving force on second row:');\n",
"\n",
"Cfi1=167;\n",
"Cfe1=135;\n",
"Cfi2=106;\n",
"Cfe2=97;\n",
"At1=m*(Cfi1-Cfe1);\n",
"At2=m*(Cfi2-Cfe2);\n",
"disp('N per kg/s',(At1+At2),'Total axial thrust:');\n",
"\n",
"//part III\n",
"T_df=Cw1+Cw2\n",
"disp('N per kg/s',T_df,'total driving force');\n",
"bv=120\n",
"P=T_df*bv/10^3;\n",
"Cai1=600;\n",
"E=m*Cai1^2/(2*10^3);\n",
"De=P/E;\n",
"disp('%',De*100,'diagramefficiency is');\n",
"\n",
"//partIV\n",
"alpha_i=16*%pi/180;\n",
"M=cos(alpha_i)^2;\n",
"disp('%',M*100,'Maximum diagram efficienty is:');"
   ]
   }
,
{
		   "cell_type": "markdown",
		   "metadata": {},
		   "source": [
			"## Example 11.3: 3.sce"
		   ]
		  },
  {
"cell_type": "code",
	   "execution_count": null,
	   "metadata": {
	    "collapsed": true
	   },
	   "outputs": [],
"source": [
"clc;\n",
"Cai=600;\n",
"alpha_i=16*%pi/180;\n",
"l=25/1000;\n",
"m=5;\n",
"vi=0.375;\n",
"n=m*vi/(Cai*sin(alpha_i)*l);\n",
"disp('m',n,'length of nozzle arc is:');\n",
"\n",
"//part II\n",
"p=0.025;\n",
"Beta_1=18*%pi/180;\n",
"Cre=437;\n",
"t=0.0005;\n",
"l1=m*vi*p/n/(p*sin(Beta_1)-t)/Cre;\n",
"bhm=l1;\n",
"\n",
"Beta_2=21*%pi/180;\n",
"Crf=294;\n",
"lf=m*vi*p/[n*(p*sin(Beta_2)-t)*Crf];\n",
"bhf=lf\n",
"\n",
"Beta_3=35*%pi/180;\n",
"Crf2=169;\n",
"l2=m*vi*p/n/(p*sin(Beta_3)-t)/Crf2;\n",
"\n",
"disp('Blade height at exit of first row, fixed and second row is respectively');\n",
"disp('mm',l2*1000,'mm',bhf*1000,'mm',bhm*1000);"
   ]
   }
,
{
		   "cell_type": "markdown",
		   "metadata": {},
		   "source": [
			"## Example 11.4: 4.sce"
		   ]
		  },
  {
"cell_type": "code",
	   "execution_count": null,
	   "metadata": {
	    "collapsed": true
	   },
	   "outputs": [],
"source": [
"clc;\n",
"Cai=90;\n",
"alpha=20*%pi/180;\n",
"Cf=Cai*sin(alpha)\n",
"\n",
"Cb=4*Cf/3;\n",
"\n",
"v=0.6686;//m^3/kg\n",
"m=9000/3600;\n",
"A=m*v/Cf\n",
"h=0.04;\n",
"r=A/(2*%pi*h)\n",
"N=Cb/(A/h)\n",
"disp('rev/s',N,'Wheel speed is:')\n",
"\n",
"//partII\n",
"Cw=2*Cai*cos(alpha)-Cb;\n",
"DP=m*Cb*Cw;\n",
"disp('kW',DP/1000,'diagram powar is:');\n",
"\n",
"//part III\n",
"R=Cb*Cw\n",
"Cri=[(Cai^2)+(Cb^2)-(2*Cai*Cb*cos(alpha))]^0.5\n",
"Ei=Cai^2-(Cri^2/2)\n",
"DE=R/Ei\n",
"disp('%',DE*100,'diagram efficiency is:');\n",
"\n",
"//part IV\n",
"Ed=(Cai^2-Cri^2)/2;\n",
"Td=2*Ed;\n",
"disp('kJ/kg',Td/1000,'total enthalpy drop per stage:')"
   ]
   }
,
{
		   "cell_type": "markdown",
		   "metadata": {},
		   "source": [
			"## Example 11.5: 5.sce"
		   ]
		  },
  {
"cell_type": "code",
	   "execution_count": null,
	   "metadata": {
	    "collapsed": true
	   },
	   "outputs": [],
"source": [
"clc;\n",
"Cw=115;//m/s\n",
"Cb=200;//m/s\n",
"wf=0.86;\n",
"P=(Cw*Cb*wf)/1000;\n",
"CP=12*P;\n",
"T=20+273;\n",
"y=1.4;\n",
"ET=T*6^[(y-1)/y];\n",
"cp=1.005;\n",
"sp=cp*(ET-T);\n",
"Ce=sp/CP;\n",
"disp('%',Ce*100,'compressor isintropic efficiency is:');"
   ]
   }
],
"metadata": {
		  "kernelspec": {
		   "display_name": "Scilab",
		   "language": "scilab",
		   "name": "scilab"
		  },
		  "language_info": {
		   "file_extension": ".sce",
		   "help_links": [
			{
			 "text": "MetaKernel Magics",
			 "url": "https://github.com/calysto/metakernel/blob/master/metakernel/magics/README.md"
			}
		   ],
		   "mimetype": "text/x-octave",
		   "name": "scilab",
		   "version": "0.7.1"
		  }
		 },
		 "nbformat": 4,
		 "nbformat_minor": 0
}
