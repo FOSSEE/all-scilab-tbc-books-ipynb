{
"cells": [
 {
		   "cell_type": "markdown",
	   "metadata": {},
	   "source": [
       "# Chapter 5: The Heat Engine Cycle"
	   ]
	},
{
		   "cell_type": "markdown",
		   "metadata": {},
		   "source": [
			"## Example 5.1: 1.sce"
		   ]
		  },
  {
"cell_type": "code",
	   "execution_count": null,
	   "metadata": {
	    "collapsed": true
	   },
	   "outputs": [],
"source": [
"clc;\n",
"T2=10+273;//K\n",
"T1=2000+273;//K\n",
"eta=1-T2/T1;\n",
"disp('highest possible efficiency is:');\n",
"disp('%',eta*100)"
   ]
   }
,
{
		   "cell_type": "markdown",
		   "metadata": {},
		   "source": [
			"## Example 5.2: 2.sce"
		   ]
		  },
  {
"cell_type": "code",
	   "execution_count": null,
	   "metadata": {
	    "collapsed": true
	   },
	   "outputs": [],
"source": [
"clc;\n",
"T2=15+273;\n",
"T1=800+273;\n",
"eta=1-(T2/T1);\n",
"p4=210;//bar\n",
"p2=1;//bar\n",
"R=0.218;\n",
"sA_s4=R*log(p4/p2);\n",
"\n",
"cp=1.005;\n",
"sA_s2=cp*log(T1/T2);\n",
"\n",
"output=(T1-T2)*(sA_s4-sA_s2);\n",
"\n",
"W41=T1*(sA_s4-sA_s2);\n",
"cv=0.718;\n",
"W21=cv*(T1-T2);\n",
"\n",
"gross=W41+W21;\n",
"disp(W41)\n",
"work=output/gross;\n",
"disp('work ratio is');\n",
"disp(work)"
   ]
   }
,
{
		   "cell_type": "markdown",
		   "metadata": {},
		   "source": [
			"## Example 5.3: 3.sce"
		   ]
		  },
  {
"cell_type": "code",
	   "execution_count": null,
	   "metadata": {
	    "collapsed": true
	   },
	   "outputs": [],
"source": [
"clc;\n",
"p1=1.02;//nar\n",
"p2=6.12;//bar\n",
"y=1.4\n",
"eta=1-[(p1/p2)^[(y-1)/y]]\n",
"\n",
"T1=288;//K\n",
"T2=[(p1/p2)^[-(y-1)/y]]*T1;\n",
"T3=800+273;//K\n",
"T4=T3*[(p1/p2)^[(y-1)/y]];\n",
"\n",
"cp=1.005;\n",
"net_output=cp*(T3-T4)-cp*(T2-T1);\n",
"gross_output=cp*(T3-T4);\n",
"\n",
"W=net_output/gross_output\n",
"disp('Work ratio is:');\n",
"disp(W)"
   ]
   }
,
{
		   "cell_type": "markdown",
		   "metadata": {},
		   "source": [
			"## Example 5.4: 4.sce"
		   ]
		  },
  {
"cell_type": "code",
	   "execution_count": null,
	   "metadata": {
	    "collapsed": true
	   },
	   "outputs": [],
"source": [
"clc;\n",
"bore=5;//cm\n",
"stroke=7.5;//cm\n",
"V=(%pi/4)*5^2*7.5\n",
"V0=21.3;\n",
"tV=V+V0;\n",
"\n",
"rv=tV/V0;\n",
"\n",
"y=1.4;\n",
"eta=1-[rv^(1-y)];\n",
"disp('efficiency is:');\n",
"disp('%',eta*100)"
   ]
   }
,
{
		   "cell_type": "markdown",
		   "metadata": {},
		   "source": [
			"## Example 5.5: 5.sce"
		   ]
		  },
  {
"cell_type": "code",
	   "execution_count": null,
	   "metadata": {
	    "collapsed": true
	   },
	   "outputs": [],
"source": [
"clc;\n",
"T1=15+273;//K\n",
"T3=1100;//K\n",
"rv=12;\n",
"y=1.4;\n",
"\n",
"T2=T1*rv^(y-1);\n",
"T3=1373;\n",
"T2=778;\n",
"T4=T3/[[rv*(T2/T3)]^(y-1)];\n",
"\n",
"cp=1.005;\n",
"Q1=cp*(T3-T2);\n",
"cv=0.718;\n",
"Q=cv*(T4-T1);\n",
"eta=(Q1-Q)/Q1;\n",
"disp('efficiency is: ');\n",
"disp('%',eta*100)"
   ]
   }
,
{
		   "cell_type": "markdown",
		   "metadata": {},
		   "source": [
			"## Example 5.6: 6.sce"
		   ]
		  },
  {
"cell_type": "code",
	   "execution_count": null,
	   "metadata": {
	    "collapsed": true
	   },
	   "outputs": [],
"source": [
"clc;\n",
"v1!v2=18;\n",
"y=1.4;\n",
"T1=293;//K\n",
"T2=v1!v2^(y-1)*T1;\n",
"\n",
"p3=69;//bar\n",
"p1=1.01;//bar\n",
"p2=v1!v2^y*p1\n",
"T3=p3*T2/p2\n",
"\n",
"cv=0.718;\n",
"cp=1.005;\n",
"T4=cv*(T3-T2)/cp+T3;\n",
"\n",
"v5!v4=v1!v2*(T3/T4);\n",
"T5=T4/[(v5!v4)^(y-1)];\n",
"Q1=2*cv*(T3-T2);\n",
"\n",
"eta=(Q1-[cv*(T5-T1)])/Q1\n",
"disp('efficiency is')\n",
"disp('%',eta)"
   ]
   }
,
{
		   "cell_type": "markdown",
		   "metadata": {},
		   "source": [
			"## Example 5.7: 7.sce"
		   ]
		  },
  {
"cell_type": "code",
	   "execution_count": null,
	   "metadata": {
	    "collapsed": true
	   },
	   "outputs": [],
"source": [
"clc;\n",
"eta=0.682;\n",
"Q=260;//kJ/kg\n",
"W=-eta*Q;\n",
"R=287;\n",
"T1=293;\n",
"p1=1.01\n",
"v1_v2=(17/18)*(R*T1)/(p1*10^5);\n",
"pm=-W*10^3/(v1_v2*10^5);\n",
"disp('mean effective pressure is:');\n",
"disp('bar',pm)"
   ]
   }
],
"metadata": {
		  "kernelspec": {
		   "display_name": "Scilab",
		   "language": "scilab",
		   "name": "scilab"
		  },
		  "language_info": {
		   "file_extension": ".sce",
		   "help_links": [
			{
			 "text": "MetaKernel Magics",
			 "url": "https://github.com/calysto/metakernel/blob/master/metakernel/magics/README.md"
			}
		   ],
		   "mimetype": "text/x-octave",
		   "name": "scilab",
		   "version": "0.7.1"
		  }
		 },
		 "nbformat": 4,
		 "nbformat_minor": 0
}
