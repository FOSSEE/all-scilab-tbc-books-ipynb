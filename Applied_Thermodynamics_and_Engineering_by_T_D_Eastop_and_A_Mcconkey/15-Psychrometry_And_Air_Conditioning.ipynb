{
"cells": [
 {
		   "cell_type": "markdown",
	   "metadata": {},
	   "source": [
       "# Chapter 15: Psychrometry And Air Conditioning"
	   ]
	},
{
		   "cell_type": "markdown",
		   "metadata": {},
		   "source": [
			"## Example 15.5: 5.sce"
		   ]
		  },
  {
"cell_type": "code",
	   "execution_count": null,
	   "metadata": {
	    "collapsed": true
	   },
	   "outputs": [],
"source": [
"clc;\n",
"sensible_heat=18000;//W\n",
"latent_heat=3600;//W\n",
"total_heat=sensible_heat+latent_heat;\n",
"w4=0.0089;\n",
"w1=0.0075;\n",
"wA=w4-(w4-w1)/0.8;\n",
"\n",
"h1=33.9;//kJ/kg\n",
"h2=40.2;//kJ/kg\n",
"\n",
"mn1=total_heat/(h2-h1);\n",
"mass_flow_rate=mn1*(1+w1);\n",
"disp('mass flow rate of supply air is:');\n",
"disp('kg/s',mass_flow_rate/1000);\n",
"\n",
"//part II\n",
"humidity=0.00745;\n",
"h4=46.2;//kJ/kg\n",
"h5=31.1;//kJ/kg\n",
"cooling_load=mn1*(h4-h5);\n",
"disp('cooling load on washer is:');\n",
"disp('kW',cooling_load/1000);\n",
"\n",
"//part III\n",
"h6=33.9;//kJ/kg\n",
"heat_load=mn1*(h6-h5);\n",
"disp('heating load is:');\n",
"disp('kw',heat_load/1000)"
   ]
   }
],
"metadata": {
		  "kernelspec": {
		   "display_name": "Scilab",
		   "language": "scilab",
		   "name": "scilab"
		  },
		  "language_info": {
		   "file_extension": ".sce",
		   "help_links": [
			{
			 "text": "MetaKernel Magics",
			 "url": "https://github.com/calysto/metakernel/blob/master/metakernel/magics/README.md"
			}
		   ],
		   "mimetype": "text/x-octave",
		   "name": "scilab",
		   "version": "0.7.1"
		  }
		 },
		 "nbformat": 4,
		 "nbformat_minor": 0
}
