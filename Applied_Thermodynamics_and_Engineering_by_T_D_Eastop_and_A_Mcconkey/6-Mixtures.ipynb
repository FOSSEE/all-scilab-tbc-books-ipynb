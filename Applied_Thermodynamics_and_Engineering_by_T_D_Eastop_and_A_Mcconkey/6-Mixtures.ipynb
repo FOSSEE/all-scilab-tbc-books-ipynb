{
"cells": [
 {
		   "cell_type": "markdown",
	   "metadata": {},
	   "source": [
       "# Chapter 6: Mixtures"
	   ]
	},
{
		   "cell_type": "markdown",
		   "metadata": {},
		   "source": [
			"## Example 6.10: 10.sce"
		   ]
		  },
  {
"cell_type": "code",
	   "execution_count": null,
	   "metadata": {
	    "collapsed": true
	   },
	   "outputs": [],
"source": [
"clc;\n",
"pO=7;//bar\n",
"VO=1.5;//m^3\n",
"R_=8.3145;\n",
"TO=313;//K\n",
"nO=pO*VO*10^5/(R_*TO*10^3);\n",
"\n",
"pC=1;//bar\n",
"VC=3;//m^3\n",
"TC=288;//K\n",
"nC=pC*VC*10^5/(R_*TC*10^3);\n",
"\n",
"cvO=21.07;\n",
"cvC=20.86;\n",
"U1=nO*cvO*TO+nC*cvC*TC;\n",
"U2_T=nO*cvO+nC*cvC;\n",
"\n",
"T=U1/U2_T;\n",
"\n",
"p=(nO+nC)*R_*T*10^3/(VO+VC)/10^5;\n",
"disp('final temperature and pressure of mixture is:');\n",
"disp('bar',p,'K',T)\n",
"\n",
"//part(II)\n",
"VA=4.5;//m^3\n",
"SA_S1_O=nO*R_*log(VA/VO);\n",
"SA_S2_O=nO*cvO*log(TO/T);\n",
"q1=SA_S1_O-SA_S2_O;\n",
"\n",
"SA_S1_C=nC*R_*log(VA/VC);\n",
"SA_S2_C=nC*cvC*log(TC/T);\n",
"q2=SA_S1_C-SA_S2_C;\n",
"\n",
"disp('change in entropy is:');\n",
"disp('kJ/k',q1+q2);"
   ]
   }
,
{
		   "cell_type": "markdown",
		   "metadata": {},
		   "source": [
			"## Example 6.11: 11.sce"
		   ]
		  },
  {
"cell_type": "code",
	   "execution_count": null,
	   "metadata": {
	    "collapsed": true
	   },
	   "outputs": [],
"source": [
"clc;\n",
"V=0.3;//m^3\n",
"vg=4.133;//m^3/kg\n",
"m=V/vg;\n",
"disp('mass of water injected:');\n",
"disp('kg',m)\n",
"\n",
"//part B\n",
"pa=0.7;//bar\n",
"pg=0.3855;//bar\n",
"v=0.001026;\n",
"ms=(V-[pa*v])/[vg-v];\n",
"\n",
"mw=pa-ms;\n",
"V_d=ms*vg\n",
"pa2=pa*V/V_d;\n",
"disp('total pressure is:');\n",
"disp('bar',pa2+pg);"
   ]
   }
,
{
		   "cell_type": "markdown",
		   "metadata": {},
		   "source": [
			"## Example 6.1: 1.sce"
		   ]
		  },
  {
"cell_type": "code",
	   "execution_count": null,
	   "metadata": {
	    "collapsed": true
	   },
	   "outputs": [],
"source": [
"clc;\n",
"M_O=23.3/100;//kg\n",
"M_N=76.7/100;//kg\n",
"M_C=45/100;//kg\n",
"R=8.3145;\n",
"T=288;//K\n",
"V=0.4;//m^3\n",
"\n",
"m_o=32;\n",
"m_n=28;\n",
"pO=M_O*R*T*10^3/(m_o*V*10^5);\n",
"pN=M_N*R*T*10^3/(m_n*V*10^5);\n",
"m_c=28;\n",
"pC=M_C*R*T*10^3/(m_c*V*10^5);\n",
"p=pO+pN+pC;\n",
"\n",
"disp('bar',pO,'partial pressure of Oxygen is:')\n",
"disp('bar',pN,'partial pressure of Nitrogen is:')\n",
"disp('bar',pC,'partial pressure of Carbon monoxide is:')\n",
"disp('bar',p,'total pressure is:')"
   ]
   }
,
{
		   "cell_type": "markdown",
		   "metadata": {},
		   "source": [
			"## Example 6.12: 12.sce"
		   ]
		  },
  {
"cell_type": "code",
	   "execution_count": null,
	   "metadata": {
	    "collapsed": true
	   },
	   "outputs": [],
"source": [
"clc;\n",
"ni!n=0.15;\n",
"p=1.4;//bar\n",
"x=ni!n*p;\n",
"//saturation temperature corresponding to 0.21 bar is 61.15 C\n",
"t=61.15;//C\n",
"disp('Temperature required is:');\n",
"disp('C',t)"
   ]
   }
,
{
		   "cell_type": "markdown",
		   "metadata": {},
		   "source": [
			"## Example 6.13: 13.sce"
		   ]
		  },
  {
"cell_type": "code",
	   "execution_count": null,
	   "metadata": {
	    "collapsed": true
	   },
	   "outputs": [],
"source": [
"clc;\n",
"ma=0.3/1000;//kg\n",
"Ra=0.287;\n",
"T=311;//K\n",
"V=21.63//m^3\n",
"\n",
"p=ma*Ra*T*10^3/(V*10^5);\n",
"\n",
"T2=36+273;//K\n",
"p2=0.0594;//bar\n",
"vg=23.97;//m^3/kg\n",
"pt=0.6624;//bar\n",
"pa=pt-p2;\n",
"mf=20000*0.3/1000;\n",
"\n",
"Vr=mf*Ra*T2*10^3/(pa*10^5);\n",
"\n",
"ms=Vr/vg\n",
"\n",
"T3=300;//K\n",
"P3=0.0306;\n",
"v=mf*(Ra)*T3*10^3/(P3*10^5)\n",
"\n",
"vg1=38.81;\n",
"steam=v/vg1;\n",
"disp('steam removed is:');\n",
"disp('kg/H',steam)"
   ]
   }
,
{
		   "cell_type": "markdown",
		   "metadata": {},
		   "source": [
			"## Example 6.14: 14.sce"
		   ]
		  },
  {
"cell_type": "code",
	   "execution_count": null,
	   "metadata": {
	    "collapsed": true
	   },
	   "outputs": [],
"source": [
"clc;\n",
"capacity_ac=778;//m^3/h\n",
"capacity=168.9;//m^3/h\n",
"\n",
"red=(capacity_ac-capacity)*100/capacity_ac\n",
"disp('percentage reduction in air pump is:');\n",
"disp('%',red);\n",
"\n",
"ms2=4.35;//kg/h\n",
"ms1=20000;//kg/h\n",
"ma1=6;//kg/h\n",
"ma2=ma1;\n",
"mc=20000;//apprx\n",
"\n",
"hs2=2550.3;\n",
"hc=150.7;\n",
"hs1=2570.1;\n",
"\n",
"cp=1.005;\n",
"T1=38;\n",
"T2=27;\n",
"ha1_ha2=cp*(T1-T2);\n",
"\n",
"Q=ms2*hs2+{ma1*ha1_ha2}+mc*hc-ms1*hs1;\n",
"\n",
"//mass of cooling water required\n",
"disp('mass of cooling water required');\n",
"t=5.5\n",
"M=-Q/(t*4.182);\n",
"disp('kg/h',M)"
   ]
   }
,
{
		   "cell_type": "markdown",
		   "metadata": {},
		   "source": [
			"## Example 6.2: 2.sce"
		   ]
		  },
  {
"cell_type": "code",
	   "execution_count": null,
	   "metadata": {
	    "collapsed": true
	   },
	   "outputs": [],
"source": [
"clc;\n",
"R=8.3145;\n",
"m_o=31.999;\n",
"m_n=28.013;\n",
"m_a=39.948;\n",
"m_c=44.010;\n",
"\n",
"R_O=R/m_o;\n",
"R_N=R/m_n;\n",
"R_A=R/m_a;\n",
"R_C=R/m_c;\n",
"\n",
"miO=0.2314;\n",
"miN=0.7553;\n",
"miA=0.0128;\n",
"miC=0.0005;\n",
"\n",
"R_=(miO*R_O)+(miN*R_N)+(miA*R_A)+(miC*R_C);\n",
"\n",
"m_=R/R_\n",
"disp('specific gas constant of air is:')\n",
"disp(R_)\n",
"disp('molar mass of gas is:');\n",
"disp(m_)"
   ]
   }
,
{
		   "cell_type": "markdown",
		   "metadata": {},
		   "source": [
			"## Example 6.3: 3.sce"
		   ]
		  },
  {
"cell_type": "code",
	   "execution_count": null,
	   "metadata": {
	    "collapsed": true
	   },
	   "outputs": [],
"source": [
"clc;\n",
"miO=0.2314;//kg/kmole\n",
"miN=0.7553;//kg/kmole\n",
"miA=0.0128;//kg/kmole\n",
"miC=0.0005;//kg/kmole\n",
"\n",
"m_O=31.999;//kg/kmole\n",
"m_N=28.013;//kg/kmole\n",
"m_A=39.948;//kg/kmole\n",
"m_C=44.010;//kg/kmole\n",
"\n",
"niO=miO/m_O;//kmole\n",
"niN=miN/m_N;//kmole\n",
"niA=miA/m_A;//kmole\n",
"niC=miC/m_C;//kmole\n",
"\n",
"n=niO+niN+niA+niC;//kmole\n",
"\n",
"V_O=niO*100/n;\n",
"V_N=niN*100/n;\n",
"V_A=niA*100/n;\n",
"V_C=niC*100/n;\n",
"\n",
"p=1;\n",
"piO=V_O*p/100;\n",
"piN=V_N*p/100;\n",
"piA=V_A*p/100;\n",
"piC=V_C*p/100;\n",
"\n",
"disp('analysis of volume of Oxygen, Nitrogen, Argon and Carbon dioxide respectively are');\n",
"disp(V_C,V_A,V_N,V_O);\n",
"\n",
"disp('partial pressure of Oxygen, Nitrogen, Argon and Carbon dioxide respectively are');\n",
"disp(piC,piA,piN,piO);"
   ]
   }
,
{
		   "cell_type": "markdown",
		   "metadata": {},
		   "source": [
			"## Example 6.4: 4.sce"
		   ]
		  },
  {
"cell_type": "code",
	   "execution_count": null,
	   "metadata": {
	    "collapsed": true
	   },
	   "outputs": [],
"source": [
"clc;\n",
"VO=0.21;\n",
"VN=0.79;\n",
"n=3.5;\n",
"\n",
"nO=VO*n;\n",
"nN=VN*n\n",
"nC=1;\n",
"\n",
"m_O=32;\n",
"m_N=28;\n",
"m_C=44;\n",
"\n",
"mO=m_O*nO;\n",
"mN=m_N*nN;\n",
"mC=m_C*nC;\n",
"\n",
"m=mO+mN+mC;\n",
"disp('total mass is:');\n",
"disp('kg',m);\n",
"\n",
"//percentage of carbon is\n",
"mc=12;\n",
"P=mc*100/m;\n",
"disp('percentage of carbon is:');\n",
"disp('%',P)\n",
"\n",
"\n",
"n=nO+nN+nC;\n",
"m_=[nO*m_O/n]+[nN*m_N/n]+[nC*m_C/n]\n",
"\n",
"R_=8.3145;\n",
"R=R_/m_;\n",
"disp('specific gas constant for the mix is:');\n",
"disp('kJ/kg K',R);\n",
"\n",
"T=288;//K\n",
"p=1;//bar\n",
"v=R*T*10^3/(p*10^5);\n",
"disp('specific volume of the mix at 1 bar and 15 C is');\n",
"disp('m^3/kg',v)"
   ]
   }
,
{
		   "cell_type": "markdown",
		   "metadata": {},
		   "source": [
			"## Example 6.5: 5.sce"
		   ]
		  },
  {
"cell_type": "code",
	   "execution_count": null,
	   "metadata": {
	    "collapsed": true
	   },
	   "outputs": [],
"source": [
"clc;\n",
"nH=0.5;//kmole\n",
"m_O=32;\n",
"VH!VO=2;\n",
"x=m_O*nH/VH!VO;\n",
"disp('mass of oxygen required is:');\n",
"disp('kg',x)\n",
"nO=x/m_O;\n",
"n=nH+nO;\n",
"R_=8.3145;\n",
"T=288;//K\n",
"p=1;//bar\n",
"V=n*R_*T*10^3/(p*10^5);\n",
"disp('Volume of container is:');\n",
"disp('m^3',V);"
   ]
   }
,
{
		   "cell_type": "markdown",
		   "metadata": {},
		   "source": [
			"## Example 6.6: 6.sce"
		   ]
		  },
  {
"cell_type": "code",
	   "execution_count": null,
	   "metadata": {
	    "collapsed": true
	   },
	   "outputs": [],
"source": [
"clc;\n",
"m_H=2;\n",
"m_CO=28;\n",
"xH=0.8;\n",
"xCO=0.2;\n",
"\n",
"m_=xH*m_H+xCO*m_CO;\n",
"\n",
"x=(xH-0.5)*9;\n",
"disp('mass of mixture removed is:');\n",
"disp('kg',x)\n",
"\n",
"y=28/7.2*x;\n",
"disp('mass of CO added');\n",
"disp('kg',y)"
   ]
   }
,
{
		   "cell_type": "markdown",
		   "metadata": {},
		   "source": [
			"## Example 6.7: 7.sce"
		   ]
		  },
  {
"cell_type": "code",
	   "execution_count": null,
	   "metadata": {
	    "collapsed": true
	   },
	   "outputs": [],
"source": [
"clc;\n",
"nC=0.120;//kmol\n",
"nO=0.115;//kmol\n",
"nN=0.765;//kmol\n",
"\n",
"m_C=44;//kg/kmol\n",
"m_O=32;//kg/kmol\n",
"m_N=28;//kg/kmol\n",
"\n",
"miC=m_C*nC;//kg\n",
"miO=m_O*nO;//kg\n",
"miN=m_N*nN;//kg\n",
"\n",
"m=miC+miO+miN;\n",
"\n",
"cpC=1.271;//kJ/kgK\n",
"cpO=1.110;//kJ/kgK\n",
"cpN=1.196;//kJ/kgK\n",
"\n",
"cp=cpC*(miC/m)+cpO*(miO/m)+cpN*(miN/m);\n",
"\n",
"R_=8.3145;//kJ/kg K\n",
"\n",
"R=(miC/m)*(R_/m_C)+(miO/m)*(R_/m_O)+(miN/m)*(R_/m_N);\n",
"\n",
"cv=cp-R;\n",
"\n",
"T1=1000+273;\n",
"v1!v2=1/7;\n",
"n=1.25;\n",
"T2=T1*(v1!v2)^(n-1);\n",
"\n",
"W=R*(T2-T1)/(n-1);\n",
"disp('Work done by th gas mixture is:');\n",
"disp('kJ/kg',-W,R,T2);\n",
"\n",
"disp('heat supplied is:');\n",
"Q=[cv*(T2-T1)]-W;\n",
"disp('kJ/kg',Q);"
   ]
   }
,
{
		   "cell_type": "markdown",
		   "metadata": {},
		   "source": [
			"## Example 6.8: 8.sce"
		   ]
		  },
  {
"cell_type": "code",
	   "execution_count": null,
	   "metadata": {
	    "collapsed": true
	   },
	   "outputs": [],
"source": [
"clc;\n",
"R=0.274;\n",
"T1=1000+273;\n",
"v1!v2=1/7;\n",
"n=1.25;\n",
"T2=T1*(v1!v2)^(n-1);\n",
"sA_s1=R*log(1/v1!v2);\n",
"\n",
"cv=0.925;\n",
"sA_s2=cv*log(T1/T2);\n",
"disp('change of entropy of mixture is:');\n",
"disp('kJ/kg K',sA_s1-sA_s2);"
   ]
   }
,
{
		   "cell_type": "markdown",
		   "metadata": {},
		   "source": [
			"## Example 6.9: 9.sce"
		   ]
		  },
  {
"cell_type": "code",
	   "execution_count": null,
	   "metadata": {
	    "collapsed": true
	   },
	   "outputs": [],
"source": [
"clc;\n",
"cp_CO=29.27;//kJ/kmol K\n",
"cp_H=28.89;//kJ/kmol K\n",
"cp_CH4=35.80;//kJ/kmol K\n",
"cp_CO2=37.22;//kJ/kmol K\n",
"cp_N=29.14;//kJ/kmol K\n",
"\n",
"niCO=0.29;\n",
"niH=0.12;\n",
"niCH4=0.03;\n",
"niCO2=0.04;\n",
"niN=0.52;\n",
"\n",
"cp_=cp_CO*niCO+cp_H*niH+cp_CH4*niCH4+cp_CO2*niCO2+cp_N*niN;\n",
"\n",
"R_=8.3145;\n",
"cv_=cp_-R_;\n",
"\n",
"m_CO=28;\n",
"m_H=2;\n",
"m_CH4=16;\n",
"m_CO2=44;\n",
"m_N=28;\n",
"\n",
"m_=niCO*m_CO+niH*m_H+niCH4*m_CH4+niCO2*m_CO2+niN*m_N;\n",
"\n",
"cp=cp_/m_;\n",
"cv=cv_/m_;\n",
"\n",
"disp('the values of cp_,cv_,cp and cv respectively are:');\n",
"disp('kJ/kg K',cv,'kJ/kg K',cp,'kJ/kg K',cv_,'kJ/kg K',cp_)"
   ]
   }
],
"metadata": {
		  "kernelspec": {
		   "display_name": "Scilab",
		   "language": "scilab",
		   "name": "scilab"
		  },
		  "language_info": {
		   "file_extension": ".sce",
		   "help_links": [
			{
			 "text": "MetaKernel Magics",
			 "url": "https://github.com/calysto/metakernel/blob/master/metakernel/magics/README.md"
			}
		   ],
		   "mimetype": "text/x-octave",
		   "name": "scilab",
		   "version": "0.7.1"
		  }
		 },
		 "nbformat": 4,
		 "nbformat_minor": 0
}
