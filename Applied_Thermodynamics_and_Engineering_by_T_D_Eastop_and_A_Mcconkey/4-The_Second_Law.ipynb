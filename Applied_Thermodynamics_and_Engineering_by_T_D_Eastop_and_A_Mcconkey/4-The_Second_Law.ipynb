{
"cells": [
 {
		   "cell_type": "markdown",
	   "metadata": {},
	   "source": [
       "# Chapter 4: The Second Law"
	   ]
	},
{
		   "cell_type": "markdown",
		   "metadata": {},
		   "source": [
			"## Example 4.10: 10.sce"
		   ]
		  },
  {
"cell_type": "code",
	   "execution_count": null,
	   "metadata": {
	    "collapsed": true
	   },
	   "outputs": [],
"source": [
"clc;\n",
"x1=0.96;\n",
"sf1=1.992;\n",
"sfg1=4.717;\n",
"s1=sf1+x1*sfg1;\n",
"\n",
"hf1=697;\n",
"hfg1=2067;\n",
"h1=hf1+x1*hfg1;\n",
"h2=h1;\n",
"\n",
"hf2=584;\n",
"hfg2=2148;\n",
"x2=(h2-hf2)/hfg2;\n",
"\n",
"sf2=1.727;\n",
"sfg2=5.214;\n",
"s2=sf2+x2*sfg2;\n",
"\n",
"disp('increasi in entropy is:');\n",
"disp('kJ/kg K',s2-s1)"
   ]
   }
,
{
		   "cell_type": "markdown",
		   "metadata": {},
		   "source": [
			"## Example 4.11: 11.sce"
		   ]
		  },
  {
"cell_type": "code",
	   "execution_count": null,
	   "metadata": {
	    "collapsed": true
	   },
	   "outputs": [],
"source": [
"clc;\n",
"R=0.287;\n",
"ch_ent=R*log(2);//V2=2*V1\n",
"disp('increase in entropy is:');\n",
"disp('kJ/kg K',ch_ent);"
   ]
   }
,
{
		   "cell_type": "markdown",
		   "metadata": {},
		   "source": [
			"## Example 4.1: 1.sce"
		   ]
		  },
  {
"cell_type": "code",
	   "execution_count": null,
	   "metadata": {
	    "collapsed": true
	   },
	   "outputs": [],
"source": [
"clc;\n",
"s1=6.5;\n",
"sf1=1.992;\n",
"sfg1=4.717;\n",
"x=(s1-sf1)/sfg1;\n",
"\n",
"hf1=697;//kJ/kg\n",
"hfg1=2067;//kJ/kg\n",
"h1=hf1+x*hfg1;\n",
"\n",
"h2=2995;//kJ/kg\n",
"Q=h2-h1;\n",
"\n",
"disp('heat supplied:');\n",
"disp('kJ/kg',Q)"
   ]
   }
,
{
		   "cell_type": "markdown",
		   "metadata": {},
		   "source": [
			"## Example 4.12: 12.sce"
		   ]
		  },
  {
"cell_type": "code",
	   "execution_count": null,
	   "metadata": {
	    "collapsed": true
	   },
	   "outputs": [],
"source": [
"clc;\n",
"T1=703;//K\n",
"p1=6.8;//bar\n",
"p2=1.013;//bar\n",
"gama=1.4;\n",
"T2=T1/[(p1/p2)^([gama-1]/gama)];\n",
"\n",
"//from graph:\n",
"T2s=423;//K\n",
"cp=1.005;\n",
"inc_ent=cp*log(T2/T2s);\n",
"disp('increasi in entropy is:');\n",
"disp('kJ/kg K',-inc_ent)"
   ]
   }
,
{
		   "cell_type": "markdown",
		   "metadata": {},
		   "source": [
			"## Example 4.13: 13.sce"
		   ]
		  },
  {
"cell_type": "code",
	   "execution_count": null,
	   "metadata": {
	    "collapsed": true
	   },
	   "outputs": [],
"source": [
"clc;\n",
"h1=3248;//kJ/kg\n",
"h2=2965;//kJ/kg\n",
"h2s=2753+[(7.126-6.929)/(7.172-6.929)]*(2862-2753);\n",
"\n",
"eff=(h1-h2)/(h1-h2s);\n",
"disp('isentropic efficiency is:');\n",
"disp('%',eff*100);\n",
"\n",
"s1=7.126;//kJ/kg K\n",
"s2=7.379;//kJ/kg K\n",
"T0=288;//K\n",
"loss=h1-h2+T0*(s2-s1);\n",
"disp('loss of energy is:');\n",
"disp('kJ/kg K',loss);\n",
"\n",
"e=(h1-h2)/loss;\n",
"disp('effectiveness is:');\n",
"disp('%',e*100);"
   ]
   }
,
{
		   "cell_type": "markdown",
		   "metadata": {},
		   "source": [
			"## Example 4.14: 14.sce"
		   ]
		  },
  {
"cell_type": "code",
	   "execution_count": null,
	   "metadata": {
	    "collapsed": true
	   },
	   "outputs": [],
"source": [
"clc;\n",
"T2=90;//K\n",
"T3=40;//K\n",
"T1=15;//K\n",
"y=(T3-T1)/(T2-T3);\n",
"\n",
"cp=1.005;\n",
"h3=40;\n",
"h1=15;\n",
"h2=90;\n",
"T0=288;//K\n",
"T3=313;//K\n",
"T1=288;//K\n",
"T2=363;//K\n",
"s3_s1=cp*log(T3/T1);\n",
"inc=cp*(h3-h1)-T0*s3_s1;\n",
"\n",
"s2_s3=cp*log(T2/T3)\n",
"loss=0.5*[cp*(h2-h3)-T0*(s2_s3)]\n",
"e=inc/loss;\n",
"disp('effectiveness is:');\n",
"disp('%',e*100);//ans diff due to differance in value of logarithmic values"
   ]
   }
,
{
		   "cell_type": "markdown",
		   "metadata": {},
		   "source": [
			"## Example 4.15: 15.sce"
		   ]
		  },
  {
"cell_type": "code",
	   "execution_count": null,
	   "metadata": {
	    "collapsed": true
	   },
	   "outputs": [],
"source": [
"clc;\n",
"cp=6.3;\n",
"h2=70;\n",
"h1=15;\n",
"T0=283;//K\n",
"T1=343;//K\n",
"T2=288;//K\n",
"T3=1400+273;//K\n",
"s2_s1=cp*log(T1/T2);\n",
"b2_b1=cp*(h2-h1)-T0*(s2_s1);\n",
"\n",
"loss=cp*(h2-h1)*(1-T0/T3)\n",
"eff=b2_b1/loss\n",
"disp('effectiveness is:')\n",
"disp('%',eff*100)"
   ]
   }
,
{
		   "cell_type": "markdown",
		   "metadata": {},
		   "source": [
			"## Example 4.2: 2.sce"
		   ]
		  },
  {
"cell_type": "code",
	   "execution_count": null,
	   "metadata": {
	    "collapsed": true
	   },
	   "outputs": [],
"source": [
"clc;\n",
"v=0.025;//m^3\n",
"s=0.02994;//m^3/kg\n",
"m=v/s;\n",
"\n",
"h1=2990;//\n",
"p1=s/10^3;\n",
"v1=80*10^5;\n",
"u1=h1-p1*v1;\n",
"\n",
"v2=s;\n",
"vg1=0.03944;\n",
"x1=v2/vg1;\n",
"\n",
"uf2=1149;\n",
"ug2=2597;\n",
"u2=(1-x1)*uf2+x1*ug2;\n",
"\n",
"Q=m*(u2-u1);\n",
"disp('kJ',-Q,'rejected heat:')"
   ]
   }
,
{
		   "cell_type": "markdown",
		   "metadata": {},
		   "source": [
			"## Example 4.3: 3.sce"
		   ]
		  },
  {
"cell_type": "code",
	   "execution_count": null,
	   "metadata": {
	    "collapsed": true
	   },
	   "outputs": [],
"source": [
"clc;\n",
"p=1.05;//bar\n",
"V=0.02;//m^3\n",
"R=0.287;//m^3\n",
"T=15+273;//K\n",
"m=p*V*10^5/(R*T*10^3);\n",
"\n",
"p2=4.2;//bar\n",
"T2=p2*T/p;\n",
"\n",
"cv=0.714;\n",
"Q=m*cv*(T2-T);\n",
"Q_12=Q;\n",
"\n",
"cp=1.005;\n",
"T3=288;//K\n",
"Q_23=m*cp*(T3-T2);\n",
"\n",
"Q=Q_12+Q_23;\n",
"disp('heat rejected is:');\n",
"disp('kJ',-Q);\n",
"\n",
"ch_entro=m*cp*log(T2/T3)-m*cv*log(T2/T3);\n",
"disp('decrease in entropy of air is:');\n",
"disp('kJ/K',ch_entro)"
   ]
   }
,
{
		   "cell_type": "markdown",
		   "metadata": {},
		   "source": [
			"## Example 4.4: 4.sce"
		   ]
		  },
  {
"cell_type": "code",
	   "execution_count": null,
	   "metadata": {
	    "collapsed": true
	   },
	   "outputs": [],
"source": [
"clc;\n",
"s1=5.615;//kJ/kg K\n",
"t1=311;//C\n",
"t2=300;//C\n",
"t3=350;//C\n",
"s2=7.124+(t1-t2)/(t3-t2)*(7.301-7.124);\n",
"\n",
"T=t1+273;//K\n",
"Q=T*(s2-s1);\n",
"disp('heat supplied is:');\n",
"disp('kJ/kg',Q)\n",
"\n",
"u1=2545;//kJ/kg\n",
"u2=2794+(t1-t2)/(t3-t2)*(2875-2794);\n",
"\n",
"W=(u2-u1)-Q\n",
"disp('work done by the steam is:');\n",
"disp('kJ/kg',-W)"
   ]
   }
,
{
		   "cell_type": "markdown",
		   "metadata": {},
		   "source": [
			"## Example 4.5: 5.sce"
		   ]
		  },
  {
"cell_type": "code",
	   "execution_count": null,
	   "metadata": {
	    "collapsed": true
	   },
	   "outputs": [],
"source": [
"clc;\n",
"R_=8314.5;\n",
"m_=28;\n",
"R=R_/m_\n",
"p1=1.05;//bar\n",
"p2=4.2;//bar\n",
"s2=R*log(p1)/1000;\n",
"s1=R*log(p2)/1000;\n",
"disp('change of entropy is:');\n",
"disp('kJ/kg K',s2-s1);\n",
"\n",
"T=15+273;\n",
"V=0.03;\n",
"m=p1*V*10^5/(R*T);\n",
"S1=m*s1;\n",
"S2=m*s2;\n",
"Q=T*(S1-S2);\n",
"disp('heat rejected is:');\n",
"disp('kJ/kg',Q);\n",
"\n",
"W=-Q;\n",
"disp('work done is:');\n",
"disp('kJ',W)"
   ]
   }
,
{
		   "cell_type": "markdown",
		   "metadata": {},
		   "source": [
			"## Example 4.6: 6.sce"
		   ]
		  },
  {
"cell_type": "code",
	   "execution_count": null,
	   "metadata": {
	    "collapsed": true
	   },
	   "outputs": [],
"source": [
"clc;\n",
"s1=6.091;//kJ/kg K\n",
"s2=s1;\n",
"sf=2.138;//kJ/kg K\n",
"sfg2=4.448;\n",
"x2=(s2-sf)/sfg2;\n",
"\n",
"uf=762;\n",
"ug=2584;\n",
"u2=(1-x2)*uf+x2*ug;\n",
"\n",
"h1=3017;\n",
"p1=100;//bar\n",
"v1=0.02453;//m^3\n",
"u1=h1-p1*v1*10^5/10^3;\n",
"\n",
"W=u2-u1;\n",
"disp('Work done is;')\n",
"disp('kJ',-W)"
   ]
   }
,
{
		   "cell_type": "markdown",
		   "metadata": {},
		   "source": [
			"## Example 4.7: 7.sce"
		   ]
		  },
  {
"cell_type": "code",
	   "execution_count": null,
	   "metadata": {
	    "collapsed": true
	   },
	   "outputs": [],
"source": [
"clc;\n",
"s1=1.7189;\n",
"v1=0.0978;//m^3\n",
"p1=2.01;//bar\n",
"p2=10;//bar\n",
"lamda=1.1;\n",
"\n",
"v2=v1*(p1/p2)^(1/lamda);\n",
"\n",
"s_1=1.7564;//kJ/kg K\n",
"s_2=1.7847;//kJ/kg K\n",
"v_1=0.0228;//m^3\n",
"v_2=0.0222;//m^3\n",
"v_3=0.0233;//m^3\n",
"s2=s_1+[(v_1-v_2)/(v_3-v_2)]*(s_2-s_1)\n",
"disp('increase in entropy');\n",
"disp('kJ/kg K',s2-s1)"
   ]
   }
,
{
		   "cell_type": "markdown",
		   "metadata": {},
		   "source": [
			"## Example 4.8: 8.sce"
		   ]
		  },
  {
"cell_type": "code",
	   "execution_count": null,
	   "metadata": {
	    "collapsed": true
	   },
	   "outputs": [],
"source": [
"clc;\n",
"p1=6.3;//bar\n",
"p2=1.05;//bar\n",
"n=1.3;\n",
"T1=823;//K\n",
"T2=T1/([p1/p2]^([n-1]/n))\n",
"R=0.287;\n",
"sA_s1=R*log(p1/p2);//sA_s1=sA-s1\n",
"cp=1.005;\n",
"sA_s2=cp*log(T1/T2);\n",
"\n",
"disp('increase in entropy is:');\n",
"disp('kJ/kg',sA_s1-sA_s2)"
   ]
   }
,
{
		   "cell_type": "markdown",
		   "metadata": {},
		   "source": [
			"## Example 4.9: 9.sce"
		   ]
		  },
  {
"cell_type": "code",
	   "execution_count": null,
	   "metadata": {
	    "collapsed": true
	   },
	   "outputs": [],
"source": [
"clc;\n",
"R_=8314.5;\n",
"m_=44;\n",
"R=R_/m_;\n",
"\n",
"p2=8.3;//bar\n",
"V2=0.004;//m^3\n",
"m=0.05;\n",
"T2=p2*V2*10^5/(m*R);\n",
"\n",
"p2=8.3;//bar\n",
"pA=1;//bar\n",
"sA_s2=(R/1000)*log(p2/pA);\n",
"\n",
"cp=0.88;\n",
"T2=351;//K\n",
"T1=288;//K\n",
"sA_s1=cp*log(T2/T1);\n",
"\n",
"dec_ent=m*(sA_s2-sA_s1);\n",
"disp('decrease in entropy is:');\n",
"disp('kJ/K',dec_ent)"
   ]
   }
],
"metadata": {
		  "kernelspec": {
		   "display_name": "Scilab",
		   "language": "scilab",
		   "name": "scilab"
		  },
		  "language_info": {
		   "file_extension": ".sce",
		   "help_links": [
			{
			 "text": "MetaKernel Magics",
			 "url": "https://github.com/calysto/metakernel/blob/master/metakernel/magics/README.md"
			}
		   ],
		   "mimetype": "text/x-octave",
		   "name": "scilab",
		   "version": "0.7.1"
		  }
		 },
		 "nbformat": 4,
		 "nbformat_minor": 0
}
