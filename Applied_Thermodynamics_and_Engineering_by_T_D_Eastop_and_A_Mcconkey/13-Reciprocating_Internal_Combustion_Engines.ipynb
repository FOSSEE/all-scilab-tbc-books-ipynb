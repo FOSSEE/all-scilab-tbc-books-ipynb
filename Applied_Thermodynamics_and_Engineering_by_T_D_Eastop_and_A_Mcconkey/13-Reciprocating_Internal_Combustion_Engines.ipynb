{
"cells": [
 {
		   "cell_type": "markdown",
	   "metadata": {},
	   "source": [
       "# Chapter 13: Reciprocating Internal Combustion Engines"
	   ]
	},
{
		   "cell_type": "markdown",
		   "metadata": {},
		   "source": [
			"## Example 13.1: 1.sce"
		   ]
		  },
  {
"cell_type": "code",
	   "execution_count": null,
	   "metadata": {
	    "collapsed": true
	   },
	   "outputs": [],
"source": [
"clc;\n",
"W=155;\n",
"R=0.356;\n",
"T=W*R;\n",
"disp('N m',T,'Torque is:')\n",
"\n",
"N=2800/60;\n",
"bp=2*%pi*N*T/1000;\n",
"A=%pi*0.057^2;\n",
"L=0.09/4;\n",
"n=4;\n",
"bmep=bp*2*10^3/(A*L*N*n*10^5)\n",
"disp('bar',bmep,'bmep is:')\n",
"\n",
"spc_grv=0.735;\n",
"fc=6.74\n",
"m=(fc/3600)*spc_grv\n",
"Q=44200;\n",
"disp(m)\n",
"eff_BT=bp/(m*Q)\n",
"disp('%',eff_BT*100,'brake thermal efficiency is:');\n",
"\n",
"sfc=m/(bp)*3600;\n",
"disp('specific fuel consumption is');\n",
"disp('kg/kW h',sfc);"
   ]
   }
,
{
		   "cell_type": "markdown",
		   "metadata": {},
		   "source": [
			"## Example 13.2: 2.sce"
		   ]
		  },
  {
"cell_type": "code",
	   "execution_count": null,
	   "metadata": {
	    "collapsed": true
	   },
	   "outputs": [],
"source": [
"clc;\n",
"spc_grv=0.735;\n",
"fc=6.74\n",
"m=(fc/3600)*spc_grv;\n",
"AMflow=14.5*m;\n",
"R=287;\n",
"T=288;//K\n",
"p=1.013;//bar\n",
"V_drawn=AMflow*R*T/(p*10^5)\n",
"\n",
"N=2800/60;\n",
"A=%pi*0.057^2;\n",
"L=0.09/4;\n",
"n=4;\n",
"sweptV=A*L*N*n/2;//m^3/min\n",
"\n",
"eff=V_drawn/sweptV;\n",
"disp('eff is:')\n",
"disp('%',eff*100)"
   ]
   }
,
{
		   "cell_type": "markdown",
		   "metadata": {},
		   "source": [
			"## Example 13.3: 3.sce"
		   ]
		  },
  {
"cell_type": "code",
	   "execution_count": null,
	   "metadata": {
	    "collapsed": true
	   },
	   "outputs": [],
"source": [
"clc;\n",
"R=0.287\n",
"capct=0.003;//m^3\n",
"sweptV=3500/2*capct;\n",
"ind_V=0.8*sweptV;\n",
"p=1.013;\n",
"blow_p=1.7*p;\n",
"T=288;//K\n",
"y=1.4;\n",
"T_comp=T*1.7^[(y-1)/y];\n",
"blow_T=T+[T_comp-T]/0.75;\n",
"\n",
"eq_V=sweptV*blow_p*T/(p*blow_T);\n",
"inc_ind_V=eq_V-ind_V;\n",
"\n",
"inc_ip=[(blow_p-p)*10^5*sweptV]/(10^3*60);\n",
"Total=40.2+inc_ip;\n",
"\n",
"inc_bp=0.8*Total;\n",
"\n",
"mass_delv=blow_p*10^5*sweptV/(60*R*blow_T);\n",
"cp=1.005;\n",
"m=0.149;\n",
"W=m*cp*(blow_T-T);\n",
"P=W/0.8;\n",
"Net=inc_bp-P;\n",
"\n",
"disp('kW',Net,'Net increase in bp')"
   ]
   }
],
"metadata": {
		  "kernelspec": {
		   "display_name": "Scilab",
		   "language": "scilab",
		   "name": "scilab"
		  },
		  "language_info": {
		   "file_extension": ".sce",
		   "help_links": [
			{
			 "text": "MetaKernel Magics",
			 "url": "https://github.com/calysto/metakernel/blob/master/metakernel/magics/README.md"
			}
		   ],
		   "mimetype": "text/x-octave",
		   "name": "scilab",
		   "version": "0.7.1"
		  }
		 },
		 "nbformat": 4,
		 "nbformat_minor": 0
}
