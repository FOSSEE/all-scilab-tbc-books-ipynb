{
"cells": [
 {
		   "cell_type": "markdown",
	   "metadata": {},
	   "source": [
       "# Chapter 16: Heat Transfer"
	   ]
	},
{
		   "cell_type": "markdown",
		   "metadata": {},
		   "source": [
			"## Example 16.1: 1.sce"
		   ]
		  },
  {
"cell_type": "code",
	   "execution_count": null,
	   "metadata": {
	    "collapsed": true
	   },
	   "outputs": [],
"source": [
"clc;\n",
"lambda=10^3*0.52;\n",
"x=250;\n",
"t1=40;\n",
"t2=20;\n",
"q=lambda*(t1-t2)/x;\n",
"disp('rate of heat transfer per unit area:');\n",
"disp('W/m^2',q);"
   ]
   }
,
{
		   "cell_type": "markdown",
		   "metadata": {},
		   "source": [
			"## Example 16.12: 12.sce"
		   ]
		  },
  {
"cell_type": "code",
	   "execution_count": null,
	   "metadata": {
	    "collapsed": true
	   },
	   "outputs": [],
"source": [
"clc;\n",
"delta_p=0.0002;//bar\n",
"d=25;\n",
"rho=7600;//assumed to run program\n",
"c=1.13;\n",
"C=24;\n",
"tou=delta_p*10^5*d/(4*10^3);\n",
"f=tou/(rho*C^2/2);\n",
"alpha=0.125*rho*c*C/(rho*C^2);\n",
"disp('heat transfer coefficient is:');;\n",
"disp('kW/m^2 K',alpha);"
   ]
   }
,
{
		   "cell_type": "markdown",
		   "metadata": {},
		   "source": [
			"## Example 16.15: 15.sce"
		   ]
		  },
  {
"cell_type": "code",
	   "execution_count": null,
	   "metadata": {
	    "collapsed": true
	   },
	   "outputs": [],
"source": [
"clc;\n",
"delta_t=277-17;\n",
"d=0.15;\n",
"alpha=1.32*(delta_t/d)^0.25;\n",
"disp('heat transfer coefficient=');\n",
"disp('W/m^2 K',alpha);"
   ]
   }
,
{
		   "cell_type": "markdown",
		   "metadata": {},
		   "source": [
			"## Example 16.16: 16.sce"
		   ]
		  },
  {
"cell_type": "code",
	   "execution_count": null,
	   "metadata": {
	    "collapsed": true
	   },
	   "outputs": [],
"source": [
"clc;\n",
"Beta=1/303;\n",
"g=9.81;\n",
"l=1;\n",
"delta_t=327-30;\n",
"v=(5.128*10^-5);\n",
"Gr=Beta*g*l^3*delta_t/v^2\n",
"\n",
"alpha=1.31*delta_t^0.33333\n",
"A=1;//m^2\n",
"delta_t=627-27;\n",
"Q=alpha*A*delta_t\n",
"disp('rate of heat loss:');\n",
"disp('kW',Q/1000);"
   ]
   }
,
{
		   "cell_type": "markdown",
		   "metadata": {},
		   "source": [
			"## Example 16.18: 18.sce"
		   ]
		  },
  {
"cell_type": "code",
	   "execution_count": null,
	   "metadata": {
	    "collapsed": true
	   },
	   "outputs": [],
"source": [
"clc;\n",
"m=3;\n",
"rho=500;\n",
"v=m/rho;\n",
"\n",
"l=4;//m\n",
"r=0.01;\n",
"A=%pi*r^2;\n",
"n=v*l/A;\n",
"disp('number of tumes is:');\n",
"disp(n)\n",
"\n",
"alpha0=260;\n",
"A0=12.7;\n",
"alphai=580;\n",
"Ai=10;\n",
"U=1/[1/alpha0+A0/(alphai*Ai)];\n",
"N=U*%pi*(A0/1000)*l*n/(3*1.5*1000);\n",
"R=3*1.5/(40*1.04);\n",
"\n",
"eta=[1-%e^(-N*(1-R))]/[1-R*%e^(-N*(1-R))]\n",
"disp(eta,'eta is:');\n",
"\n",
"t2=400;\n",
"t1=100;\n",
"tL=eta*(t2-t1)+t1\n",
"disp('exit temperature is :');\n",
"disp(tL);"
   ]
   }
,
{
		   "cell_type": "markdown",
		   "metadata": {},
		   "source": [
			"## Example 16.21: 21.sce"
		   ]
		  },
  {
"cell_type": "code",
	   "execution_count": null,
	   "metadata": {
	    "collapsed": true
	   },
	   "outputs": [],
"source": [
"clc;\n",
"eta=0.4;\n",
"sigma=5.67;\n",
"T1=13.73;\n",
"T2=3.13;\n",
"q=eta*sigma*(T1^4-T2^4);\n",
"disp('heat loss by radiation is:');\n",
"disp('kW',q/1000);\n",
"\n",
"eta2=0.9;\n",
"q1=eta*sigma*T1^4;\n",
"q2=eta2*sigma*T2^4\n",
"q_=q1-q2;\n",
"disp('grey body assumptions overstimates by:');\n",
"pct=(q-q_)/q_\n",
"disp('%',pct*100)"
   ]
   }
,
{
		   "cell_type": "markdown",
		   "metadata": {},
		   "source": [
			"## Example 16.2: 2.sce"
		   ]
		  },
  {
"cell_type": "code",
	   "execution_count": null,
	   "metadata": {
	    "collapsed": true
	   },
	   "outputs": [],
"source": [
"clc;\n",
"alpha_a=2800;\n",
"lambda=10^3*50;\n",
"x=10;\n",
"alpha_b=11;\n",
"U=1/[1/alpha_a+x/lambda+1/alpha_b];\n",
"\n",
"tA=90;\n",
"tB=15;\n",
"q=(tA-tB)*U;\n",
"disp('rate of heat lost per sq m of surface')\n",
"disp('kW',q)\n",
"\n",
"//part b\n",
"t2=q/alpha_b+tB;\n",
"disp('temperature of outsede surface:');\n",
"disp('C',t2)"
   ]
   }
,
{
		   "cell_type": "markdown",
		   "metadata": {},
		   "source": [
			"## Example 16.25: 25.sce"
		   ]
		  },
  {
"cell_type": "code",
	   "execution_count": null,
	   "metadata": {
	    "collapsed": true
	   },
	   "outputs": [],
"source": [
"clc;\n",
"eta=0.8;\n",
"F1_2=5.67*10^-8;\n",
"T1=533;//K\n",
"T2=293;//K\n",
"alpha=eta*F1_2*(T1^2+T2^2)*(T1+T2);\n",
"\n",
"A=%pi*0.6*0.9;\n",
"Q1=alpha*A*(T1-T2);\n",
"\n",
"alpha=8.8;\n",
"A=5;\n",
"Q2=alpha*A*(T1-T2);\n",
"\n",
"Q=Q1+Q2;\n",
"disp('total heat loss is:');\n",
"disp('kW',Q/1000)"
   ]
   }
,
{
		   "cell_type": "markdown",
		   "metadata": {},
		   "source": [
			"## Example 16.7: 7.sce"
		   ]
		  },
  {
"cell_type": "code",
	   "execution_count": null,
	   "metadata": {
	    "collapsed": true
	   },
	   "outputs": [],
"source": [
"clc;\n",
"alpha=88.8;\n",
"L=0.05;\n",
"lambda=40;\n",
"Bi=alpha*L/lambda;\n",
"//p1L*[cos(p1L)/sin(p1L)]=1-Bi;\n",
"//from trial and error;\n",
"p1L=0.57;\n",
"\n",
"tou=20*60;\n",
"rho=7600;\n",
"c=0.5*10^3;\n",
"R=0.05;\n",
"F0=lambda*tou/(rho*c*R^2);\n",
"\n",
"tF=20;\n",
"ti=500;\n",
"a=(sin(p1L)-p1L*cos(p1L))*(2*%e^[-(p1L)^2*F0])/(p1L-sin(p1L)*cos(p1L));\n",
"tc=tF+a*(ti-tF);\n",
"disp('temperature of center is:')\n",
"disp('C',tc)\n",
"\n",
"//part b\n",
"tc=tF+[%e^(-3*Bi*F0)]*(ti-tF)\n",
"disp('temperature of center by newtonian cooling is:')\n",
"disp('C',tc)"
   ]
   }
],
"metadata": {
		  "kernelspec": {
		   "display_name": "Scilab",
		   "language": "scilab",
		   "name": "scilab"
		  },
		  "language_info": {
		   "file_extension": ".sce",
		   "help_links": [
			{
			 "text": "MetaKernel Magics",
			 "url": "https://github.com/calysto/metakernel/blob/master/metakernel/magics/README.md"
			}
		   ],
		   "mimetype": "text/x-octave",
		   "name": "scilab",
		   "version": "0.7.1"
		  }
		 },
		 "nbformat": 4,
		 "nbformat_minor": 0
}
