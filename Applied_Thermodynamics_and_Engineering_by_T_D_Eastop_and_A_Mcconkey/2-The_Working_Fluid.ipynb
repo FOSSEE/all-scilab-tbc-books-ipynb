{
"cells": [
 {
		   "cell_type": "markdown",
	   "metadata": {},
	   "source": [
       "# Chapter 2: The Working Fluid"
	   ]
	},
{
		   "cell_type": "markdown",
		   "metadata": {},
		   "source": [
			"## Example 2.10: 10.sce"
		   ]
		  },
  {
"cell_type": "code",
	   "execution_count": null,
	   "metadata": {
	    "collapsed": true
	   },
	   "outputs": [],
"source": [
"clc;\n",
"cp=0.846;//kJ/kg K\n",
"cv=0.657;//kJ/kg K\n",
"\n",
"R=(cp-cv)*1000;\n",
"disp('the gas constant is:');\n",
"disp('N m/kg K',R);\n",
"\n",
"R_=8314.5\n",
"m=R_/R;\n",
"disp('molar mass of the gas:');\n",
"disp('kg/k mole',m);"
   ]
   }
,
{
		   "cell_type": "markdown",
		   "metadata": {},
		   "source": [
			"## Example 2.11: 11.sce"
		   ]
		  },
  {
"cell_type": "code",
	   "execution_count": null,
	   "metadata": {
	    "collapsed": true
	   },
	   "outputs": [],
"source": [
"clc;\n",
"R_=8314.5;\n",
"m_=26;//kg/k mole\n",
"y=1.26;\n",
"\n",
"R=R_/m_;\n",
"cv=R/[(y-1)*1000];\n",
"cp=y*cv;\n",
"\n",
"T1=315+273;//K\n",
"p2=1.5;//bar\n",
"p1=3;//bar\n",
"T2=T1*p2/p1;\n",
"\n",
"Q=cv*(T2-T1);\n",
"disp('heat rejected in part a:');\n",
"disp('kJ/kg',-Q);\n",
"\n",
"T2=20;//K\n",
"T1=280;//K\n",
"m_=1;\n",
"Q=m_*cp*(T2-T1);\n",
"disp('heat rejected in part b');\n",
"disp('kW',-Q);"
   ]
   }
,
{
		   "cell_type": "markdown",
		   "metadata": {},
		   "source": [
			"## Example 2.1: 1.sce"
		   ]
		  },
  {
"cell_type": "code",
	   "execution_count": null,
	   "metadata": {
	    "collapsed": true
	   },
	   "outputs": [],
"source": [
"clc;\n",
"\n",
"x=0.9;\n",
"vg=0.1104;\n",
"v=x*vg;\n",
"disp('specific volume is:');\n",
"disp('m^3/kg',v)\n",
"\n",
"hf=885;\n",
"h_fg=1912;\n",
"h=hf+x*h_fg;\n",
"disp('specific enthalpy is:');\n",
"disp('kJ/kg',h);\n",
"\n",
"uf=883;\n",
"ug=2598;\n",
"u=(1-x)*uf+x*ug;\n",
"disp('specific internal energy is:');\n",
"disp('kJ/kg',u);"
   ]
   }
,
{
		   "cell_type": "markdown",
		   "metadata": {},
		   "source": [
			"## Example 2.2: 2.sce"
		   ]
		  },
  {
"cell_type": "code",
	   "execution_count": null,
	   "metadata": {
	    "collapsed": true
	   },
	   "outputs": [],
"source": [
"clc;\n",
"\n",
"p=7;//bar\n",
"h=2600;//kJ/kg\n",
"hf=697;//kJ/kg\n",
"h_fg=2067;//kJ/kg\n",
"x=(h-hf)/h_fg;\n",
"disp('dryness fraction is:');\n",
"disp(x);\n",
"\n",
"vg=0.2728;\n",
"v=x*vg;\n",
"disp('specific volume is:');\n",
"disp('m^3/kg',v);\n",
"\n",
"uf=696;\n",
"ug=2573;\n",
"u=(1-x)*uf+x*ug;\n",
"disp('specific internal energy is:');\n",
"disp('kJ/kg',u)"
   ]
   }
,
{
		   "cell_type": "markdown",
		   "metadata": {},
		   "source": [
			"## Example 2.3: 3.sce"
		   ]
		  },
  {
"cell_type": "code",
	   "execution_count": null,
	   "metadata": {
	    "collapsed": true
	   },
	   "outputs": [],
"source": [
"clc;\n",
"\n",
"//at 110 bar, vg=0.01598m^3/kg which is less than the actual specific volume of 0.0196m^3/kg\n",
"//hence it is superheated\n",
"\n",
"v=0.0196;//m^3/kg\n",
"p=110;//bar\n",
"//from tables\n",
"h=2889;//kJ/kg\n",
"t=350;//C\n",
"disp('temperature is:');\n",
"disp('C',t);\n",
"u=h-(p*10^5)*(v/1000);\n",
"disp('enthalpy is:');\n",
"disp('kJ/kg',u);\n",
"disp('specific internal energy is:');\n",
"disp('kJ/kg',u);"
   ]
   }
,
{
		   "cell_type": "markdown",
		   "metadata": {},
		   "source": [
			"## Example 2.4: 4.sce"
		   ]
		  },
  {
"cell_type": "code",
	   "execution_count": null,
	   "metadata": {
	    "collapsed": true
	   },
	   "outputs": [],
"source": [
"clc;\n",
"\n",
"p=150;//bar\n",
"h=3309;//kJ/kg\n",
"\n",
"//from tables\n",
"hg=2611;//kJ/kg\n",
"//hence the steam is superheated.\n",
"\n",
"//from table\n",
"t=500;//C\n",
"v=0.02078;//m^3/kg\n",
"disp('temperature is:');\n",
"disp('C',t);\n",
"disp('specific volume is:');\n",
"disp('m^3/kg',v);\n",
"\n",
"u=h-(p*10^5)*(v/1000);\n",
"disp('specific internal energy is:')\n",
"disp('kJ/kg',u)"
   ]
   }
,
{
		   "cell_type": "markdown",
		   "metadata": {},
		   "source": [
			"## Example 2.5: 5.sce"
		   ]
		  },
  {
"cell_type": "code",
	   "execution_count": null,
	   "metadata": {
	    "collapsed": true
	   },
	   "outputs": [],
"source": [
"clc;\n",
"\n",
"//from tables;\n",
"v_a=0.1115;//m^3/kg\n",
"p_b=20;//bar\n",
"v_d=0.4743;//m^3/kg\n",
"\n",
"hf=763;//kJ/kg\n",
"h=2650;//kJ/kg\n",
"h_fg=2015;//kJ/kg\n",
"x=(h-hf)/h_fg;\n",
"vg=0.1944;//m^3/kg\n",
"v_c=x*vg;\n",
"\n",
"clf();\n",
"x=linspace(0.05,0.5,1000);\n",
"y=(0.09957*20)*((x)^(-1));\n",
"plot2d(x,y,style=1);\n",
"\n",
"y=20;\n",
"plot(x,y)\n",
"\n",
"y=10;\n",
"plot(x,y);\n",
"\n",
"y=(0.4743*6)*((x)^(-1));\n",
"plot2d(x,y,style=4);\n",
"\n",
"y=(0.1115*20)*((x)^(-1));\n",
"plot2d(x,y,style=2);\n",
"\n",
"y=6;\n",
"plot2d(x,y,style=4)"
   ]
   }
,
{
		   "cell_type": "markdown",
		   "metadata": {},
		   "source": [
			"## Example 2.6: 6.sce"
		   ]
		  },
  {
"cell_type": "code",
	   "execution_count": null,
	   "metadata": {
	    "collapsed": true
	   },
	   "outputs": [],
"source": [
"clc;\n",
"//from tables;\n",
"\n",
"\n",
"v_a=0.1115;//m^3/kg\n",
"u_a=2681;//kJ/kg\n",
"//steami s super heated\n",
"disp('internal energy of part a is:');\n",
"disp('kJ/kg',u_a);\n",
"\n",
"p_b=20;//bar\n",
"u_b=2600;//kJ/kg\n",
"disp('internal energy of part b is:');\n",
"disp('kJ/kg',u_b);\n",
"\n",
"v_d=0.4743;//m^3/kg\n",
"u_d=2881;//kJ/kg\n",
"disp('internal energy of part d is:');\n",
"disp('kJ/kg',u_d);\n",
"\n",
"hf=763;//kJ/kg\n",
"h=2650;//kJ/kg\n",
"h_fg=2015;//kJ/kg\n",
"x=(h-hf)/h_fg;\n",
"ul=762;//kJ/kg\n",
"ug=2584;//kJ/kg\n",
"u=(1-x)*ul+x*ug;\n",
"disp('internal energy of part c is:');\n",
"disp('kJ/kg',u);"
   ]
   }
,
{
		   "cell_type": "markdown",
		   "metadata": {},
		   "source": [
			"## Example 2.7: 7.sce"
		   ]
		  },
  {
"cell_type": "code",
	   "execution_count": null,
	   "metadata": {
	    "collapsed": true
	   },
	   "outputs": [],
"source": [
"clc;\n",
"\n",
"//for part (i)\n",
"hf=89.8;//kJ/kg\n",
"x=0.95;\n",
"h_fg=(1420-89.8);//kJ/kg\n",
"hi=hf+x*h_fg;//kJ/kg\n",
"disp('enthalpy of part (i)');\n",
"disp('kJ/kg',hi);\n",
"\n",
"//for part (ii)\n",
"//ammonia heated by (60-20) K\n",
"x=40/50;\n",
"hf=1462.6;//kJ/kg\n",
"h_fg=(1597.2-1462.6);//kJ/kg\n",
"hii=hf+x*h_fg;\n",
"disp('enthalpy of part (ii)');\n",
"disp('kJ/kg',hii);"
   ]
   }
,
{
		   "cell_type": "markdown",
		   "metadata": {},
		   "source": [
			"## Example 2.8: 8.sce"
		   ]
		  },
  {
"cell_type": "code",
	   "execution_count": null,
	   "metadata": {
	    "collapsed": true
	   },
	   "outputs": [],
"source": [
"clc;\n",
"v1=0.2*10^5;//m^3\n",
"p1=1.013;//bar\n",
"T1=15+273;//C\n",
"w=0.2;//kg\n",
"m=28;//kg/k mole\n",
"R_=8314.5;//N m/K\n",
"\n",
"R=R_/m;\n",
"m1=p1*v1/(R*T1);\n",
"\n",
"m2=0.20+.237;\n",
"//T2=T1 &  v2=v1\n",
"p2=m2*R*T1/v1\n",
"disp('the new pressure is:');\n",
"disp('bar',p2)"
   ]
   }
,
{
		   "cell_type": "markdown",
		   "metadata": {},
		   "source": [
			"## Example 2.9: 9.sce"
		   ]
		  },
  {
"cell_type": "code",
	   "execution_count": null,
	   "metadata": {
	    "collapsed": true
	   },
	   "outputs": [],
"source": [
"clc;\n",
"p1=7*10^5;//bar\n",
"V1=0.003;//m^3/kg\n",
"m=0.01;\n",
"T1=131+273;//K\n",
"R_=8314.5;\n",
"\n",
"R=p1*V1/(m*T1);\n",
"\n",
"m_=R_/R;\n",
"disp('tha molar mass of tha gas is:');\n",
"disp('kg/k mole',m_);\n",
"\n",
"p2=1*10^5;//bar\n",
"V2=0.02;//m^3\n",
"m=0.01;\n",
"R=520;\n",
"T2=p2*V2/(m*R);\n",
"disp('final temperature is:');\n",
"disp('C',T2-273);"
   ]
   }
],
"metadata": {
		  "kernelspec": {
		   "display_name": "Scilab",
		   "language": "scilab",
		   "name": "scilab"
		  },
		  "language_info": {
		   "file_extension": ".sce",
		   "help_links": [
			{
			 "text": "MetaKernel Magics",
			 "url": "https://github.com/calysto/metakernel/blob/master/metakernel/magics/README.md"
			}
		   ],
		   "mimetype": "text/x-octave",
		   "name": "scilab",
		   "version": "0.7.1"
		  }
		 },
		 "nbformat": 4,
		 "nbformat_minor": 0
}
