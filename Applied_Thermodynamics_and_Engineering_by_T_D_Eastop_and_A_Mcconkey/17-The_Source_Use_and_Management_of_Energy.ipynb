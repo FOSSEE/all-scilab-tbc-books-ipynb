{
"cells": [
 {
		   "cell_type": "markdown",
	   "metadata": {},
	   "source": [
       "# Chapter 17: The Source Use and Management of Energy"
	   ]
	},
{
		   "cell_type": "markdown",
		   "metadata": {},
		   "source": [
			"## Example 17.1: 1.sce"
		   ]
		  },
  {
"cell_type": "code",
	   "execution_count": null,
	   "metadata": {
	    "collapsed": true
	   },
	   "outputs": [],
"source": [
"clc;\n",
"T1=15+273;//K\n",
"p2!p1=8;\n",
"y1=1.4;\n",
"T2s=T1*([p2!p1]^[(y1-1)/y1]);\n",
"\n",
"T2=T1+(T2s-T1)/0.8;\n",
"\n",
"T3=800+273;//K\n",
"p3!p4=p2!p1\n",
"y2=1.333;\n",
"T4s=T3/[(p3!p4)^([y2-1]/y2)];\n",
"\n",
"T4=T3-0.82*(T3-T4s)\n",
"\n",
"cv=1.11;\n",
"cp=1.005;\n",
"W=[cv*(T3-T4)-cp*(T2-T1)];\n",
"\n",
"heat_supp=cv*(T3-T2);\n",
"\n",
"cycle_eff=W/heat_supp;\n",
"disp('cycle efficiency is :')\n",
"disp('%',cycle_eff*100);//end of part I\n",
"\n",
"//part II\n",
"h1=3248;//kJ/kg\n",
"h3=138;//kJ/kg\n",
"h4=h3;\n",
"h2s=2173;//kJ/kg\n",
"W=0.8*(h1-h2s);\n",
"\n",
"steam_heat_supp=h1-h3;\n",
"steam_cycle_eff=W/steam_heat_supp;\n",
"disp('steam cycle efficiency is:');\n",
"disp(steam_cycle_eff*100)"
   ]
   }
,
{
		   "cell_type": "markdown",
		   "metadata": {},
		   "source": [
			"## Example 17.4: 4.sce"
		   ]
		  },
  {
"cell_type": "code",
	   "execution_count": null,
	   "metadata": {
	    "collapsed": true
	   },
	   "outputs": [],
"source": [
"clc;\n",
"boiler_eff=71;//%\n",
"slope=20;//GJ/D daly\n",
"space_heat=boiler_eff/100*slope;\n",
"base_load_zero=10000;//GJ/month\n",
"base_load=boiler_eff/100*base_load_zero;\n",
"consume=1000;//GJ\n",
"base_load_new=base_load+consume;\n",
"\n",
"new_eff=75;//%\n",
"new_base_load=base_load_new*100/new_eff;\n",
"new_space_heat=space_heat/new_eff*100;\n",
"\n",
"//part I\n",
"disp(new_space_heat)\n",
"annual_consum=12*new_base_load+2527*new_space_heat;\n",
"disp('annual consumption is:')\n",
"disp('GJ/annum',annual_consum);\n",
"\n",
"//part II\n",
"max_consum=new_base_load+(379*new_space_heat);\n",
"disp('fuel consumption in january is:')\n",
"disp('GJ/month',max_consum);\n",
"\n",
"//part III\n",
"enrgy_consume=12*base_load_new/boiler_eff*100;\n",
"original_space_heat=2527*20;\n",
"saving=enrgy_consume+original_space_heat-annual_consum;\n",
"disp('enegy saving is:');\n",
"disp('GJ/annum',saving);"
   ]
   }
],
"metadata": {
		  "kernelspec": {
		   "display_name": "Scilab",
		   "language": "scilab",
		   "name": "scilab"
		  },
		  "language_info": {
		   "file_extension": ".sce",
		   "help_links": [
			{
			 "text": "MetaKernel Magics",
			 "url": "https://github.com/calysto/metakernel/blob/master/metakernel/magics/README.md"
			}
		   ],
		   "mimetype": "text/x-octave",
		   "name": "scilab",
		   "version": "0.7.1"
		  }
		 },
		 "nbformat": 4,
		 "nbformat_minor": 0
}
