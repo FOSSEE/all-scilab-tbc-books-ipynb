{
"cells": [
 {
		   "cell_type": "markdown",
	   "metadata": {},
	   "source": [
       "# Chapter 8: Steam Cycles"
	   ]
	},
{
		   "cell_type": "markdown",
		   "metadata": {},
		   "source": [
			"## Example 8.1: 1.sce"
		   ]
		  },
  {
"cell_type": "code",
	   "execution_count": null,
	   "metadata": {
	    "collapsed": true
	   },
	   "outputs": [],
"source": [
"clc;\n",
"T1=526.2;\n",
"T2=299.7;\n",
"nC=(T1-T2)/T1;\n",
"disp(nC,'carnot cycle efficiency is:')\n",
"Q=1698;\n",
"W=nC*Q;\n",
"\n",
"h1=2800;\n",
"s1=6.049;\n",
"s2=s1;\n",
"sf2=0.391;\n",
"sfg2=8.13;\n",
"x2=(s2-sf2)/sfg2;\n",
"\n",
"hf2=112;\n",
"hfg2=2438;\n",
"h2=hf2+(x2*hfg2);\n",
"\n",
"W12=h1-h2;\n",
"\n",
"Wr=W/W12;\n",
"disp(Wr,'work ratio is:')\n",
"ssc=1/W;\n",
"disp('kg/k W h',ssc,'ssc is:');\n",
"\n",
"//part III\n",
"disp('')\n",
"h3=112;\n",
"vf=0.001\n",
"p4=42;\n",
"p3=0.035;\n",
"\n",
"PW=vf*(p4-p3)*(10^5/10^3);\n",
"nR=[{(h1-h2)-(PW)}/{(h1-h3)-(PW)}]\n",
"disp(nR,'rankine cycle efficiency is:');\n",
"\n",
"Wr=(W12-PW)/(W12)\n",
"disp(Wr,'Work ratio is');\n",
"\n",
"ssc=1/(W12-PW)\n",
"disp('kg/k W h',ssc,'Work ratio is:');\n",
"\n",
"//partIII\n",
"disp('');\n",
"W12_=0.8*W12;\n",
"Ceff=[(h1-h2)-PW]/[(h1-h3)-PW];\n",
"disp(Ceff,'rankine cycle of isentropic efficiency is:')\n",
"\n",
"Wr=[W12_-PW]/W12_\n",
"disp(Wr,'Work ratio is:');\n",
"\n",
"ssc=1/[(h1-h2)-PW]\n",
"disp('kg/kW s',ssc,'ssc is:')"
   ]
   }
,
{
		   "cell_type": "markdown",
		   "metadata": {},
		   "source": [
			"## Example 8.2: 2.sce"
		   ]
		  },
  {
"cell_type": "code",
	   "execution_count": null,
	   "metadata": {
	    "collapsed": true
	   },
	   "outputs": [],
"source": [
"clc;\n",
"h1=3442.6;\n",
"s1=7.066;\n",
"s2=s1;\n",
"sf2=0.391;\n",
"sfg2=8.13;\n",
"x2=(s2-sf2)/sfg2\n",
"\n",
"hf2=112;\n",
"hfg2=2438;\n",
"h2=hf2+x2*hfg2;\n",
"\n",
"h3=112;\n",
"W12_=h1-h2;\n",
"\n",
"Q=h1-h3;\n",
"\n",
"Ceff=(h1-h2)/(h1-h3);\n",
"disp(Ceff,'cycle efficiency is:');\n",
"\n",
"ssc=1/(h1-h2);\n",
"disp('kg/kW h',ssc,'specific steam consumption is:');\n",
"\n",
"disp('cycle efficiency has increased due to superheating and the improvement in specific steam consumption is even more marked:')"
   ]
   }
,
{
		   "cell_type": "markdown",
		   "metadata": {},
		   "source": [
			"## Example 8.3: 3.sce"
		   ]
		  },
  {
"cell_type": "code",
	   "execution_count": null,
	   "metadata": {
	    "collapsed": true
	   },
	   "outputs": [],
"source": [
"clc;\n",
"h1=3442.6;\n",
"h2=2713;\n",
"h6=3487;\n",
"h7=2535;\n",
"h3=112;\n",
"\n",
"TW=(h1-h2)+(h6-h7);\n",
"\n",
"Q=(h1-h3)+(h6-h2);\n",
"\n",
"Ceff=TW/Q;\n",
"disp(Ceff,'cycle efficiency is:');\n",
"\n",
"ssc=1/TW;\n",
"disp('kg/kW h',ssc,'specific steam consuption is:')"
   ]
   }
,
{
		   "cell_type": "markdown",
		   "metadata": {},
		   "source": [
			"## Example 8.4: 4.sce"
		   ]
		  },
  {
"cell_type": "code",
	   "execution_count": null,
	   "metadata": {
	    "collapsed": true
	   },
	   "outputs": [],
"source": [
"clc;\n",
"t1=253.2;\n",
"t2=26.7;\n",
"t6=(t1+t2)/2;\n",
"\n",
"h7=584;\n",
"h3=112;\n",
"s1=6.049;\n",
"s6=s1;\n",
"s2=s1;\n",
"\n",
"x6=(s1-1.727)/5.214;\n",
"x2=(s1-0.391)/8.130;\n",
"\n",
"hf6=584;\n",
"hfg6=2148;\n",
"h6=hf6+x6*hfg6;\n",
"\n",
"hf2=112;\n",
"hfg2=2438;\n",
"h2=hf2+x2*hfg2;\n",
"\n",
"y=(h7-h3)/(h6-h3);\n",
"\n",
"h1=2800;\n",
"Q=(h1-h7);\n",
"\n",
"Tot=(h1-h6)+[(1-y)*(h6-h2)];\n",
"\n",
"Ceff=Tot/Q;\n",
"disp('%',Ceff*100,'cycle efficiency is:');\n",
"\n",
"ssc=1/Tot\n",
"disp('kg/kJ',ssc,'ssc is:')"
   ]
   }
],
"metadata": {
		  "kernelspec": {
		   "display_name": "Scilab",
		   "language": "scilab",
		   "name": "scilab"
		  },
		  "language_info": {
		   "file_extension": ".sce",
		   "help_links": [
			{
			 "text": "MetaKernel Magics",
			 "url": "https://github.com/calysto/metakernel/blob/master/metakernel/magics/README.md"
			}
		   ],
		   "mimetype": "text/x-octave",
		   "name": "scilab",
		   "version": "0.7.1"
		  }
		 },
		 "nbformat": 4,
		 "nbformat_minor": 0
}
