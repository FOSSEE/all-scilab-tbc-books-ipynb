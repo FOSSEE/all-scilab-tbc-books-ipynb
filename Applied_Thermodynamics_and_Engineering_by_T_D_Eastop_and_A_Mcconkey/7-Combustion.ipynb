{
"cells": [
 {
		   "cell_type": "markdown",
	   "metadata": {},
	   "source": [
       "# Chapter 7: Combustion"
	   ]
	},
{
		   "cell_type": "markdown",
		   "metadata": {},
		   "source": [
			"## Example 7.10: 10.sce"
		   ]
		  },
  {
"cell_type": "code",
	   "execution_count": null,
	   "metadata": {
	    "collapsed": true
	   },
	   "outputs": [],
"source": [
"clc;\n",
"b=0.228;\n",
"a=1-b;\n",
"c=[1+(2*0.455)-b-2*a]/2\n",
"\n",
"n2=a+b+c+1.709;\n",
"\n",
"p1=8.28;\n",
"T2=555;\n",
"\n",
"n1=1+0.455+1.709;\n",
"T1=2968;\n",
"p2=p1*(n2/n1)*(T1/T2);\n",
"p=1;\n",
"\n",
"K=a/b*[n2*p/(c*p2)]^0.5;\n",
"disp(log(K),'log(K) is:');\n",
"disp('2968','from tables it is proved that temperatur is:')"
   ]
   }
,
{
		   "cell_type": "markdown",
		   "metadata": {},
		   "source": [
			"## Example 7.1: 1.sce"
		   ]
		  },
  {
"cell_type": "code",
	   "execution_count": null,
	   "metadata": {
	    "collapsed": true
	   },
	   "outputs": [],
"source": [
"clc;\n",
"m_C=12;\n",
"m_O2=32;\n",
"x_C=0.9;\n",
"O_req_CO2=x_C*([m_O2*1]/[m_C*1]);\n",
"CO2_prod=x_C*([m_C*1]+[m_O2*1])/[m_C*1];\n",
"//HYDROGEN\n",
"m_H2=2;\n",
"x_H=0.03;\n",
"\n",
"O_req_H2O=x_H*[m_O2/2/2];\n",
"steam_prod=x_H*{0.5*[(m_H2)+(m_O2)/2]};\n",
"//SULPHUR\n",
"m_S=32;\n",
"x_S=0.005;\n",
"O_req_SO2=x_S*(m_O2/32);\n",
"SO2_prod=2*x_S;\n",
"\n",
"O_req=O_req_CO2+O_req_H2O+O_req_SO2;\n",
"%O=23.3;\n",
"A=O_req*100/%O;\n",
"disp('A/F ratio is:');\n",
"disp(A);\n",
"\n",
"//part (ii)\n",
"actual_A=A*(1+0.2);\n",
"%N=076.7;\n",
"m_N2=28;\n",
"N_supp=actual_A*%N/100;\n",
"O_supp=actual_A*%O/100;\n",
"x_N=0.01;\n",
"N2=N_supp+x_N;\n",
"O2=O_supp-O_req;\n",
"disp('actual A/F ratio is');\n",
"disp(actual_A);\n",
"\n",
"m_CO2=m_C+m_O2;\n",
"m_H2O=m_H2+0.5*m_O2;\n",
"m_SO2=m_S+m_O2;\n",
"\n",
"ni_CO2=CO2_prod/m_CO2;\n",
"ni_H2O=steam_prod/m_H2O;\n",
"ni_SO2=SO2_prod/m_SO2;\n",
"ni_O2=O2/m_O2;\n",
"ni_N2=N2/m_N2;\n",
"\n",
"n_wet=ni_CO2+ni_H2O+ni_SO2+ni_O2+ni_N2;\n",
"n_dry=ni_CO2+ni_SO2+ni_O2+ni_N2;\n",
"disp(O_supp)\n",
"CO2_wet=ni_CO2/n_wet;\n",
"H2O_wet=ni_H2O/n_wet;\n",
"SO2_wet=ni_SO2/n_wet;\n",
"O2_wet=ni_O2/n_wet;\n",
"N2_wet=ni_N2/n_wet;\n",
"\n",
"disp('wet analysis of CO2,H2O,SO2,O2,N2');\n",
"disp(N2_wet*100,O2_wet*100,SO2_wet*100,H2O_wet*100,CO2_wet*100);"
   ]
   }
,
{
		   "cell_type": "markdown",
		   "metadata": {},
		   "source": [
			"## Example 7.12: 12.sce"
		   ]
		  },
  {
"cell_type": "code",
	   "execution_count": null,
	   "metadata": {
	    "collapsed": true
	   },
	   "outputs": [],
"source": [
"clc;\n",
"mH2O=3*18;\n",
"q=2441.8;\n",
"h0=-3301397+(mH2O*q)\n",
"disp(h0,'Δh0 for H2O in the vapour phase:')"
   ]
   }
,
{
		   "cell_type": "markdown",
		   "metadata": {},
		   "source": [
			"## Example 7.13: 13.sce"
		   ]
		  },
  {
"cell_type": "code",
	   "execution_count": null,
	   "metadata": {
	    "collapsed": true
	   },
	   "outputs": [],
"source": [
"clc;\n",
"h0=3169540\n",
"nR=1+7.5;\n",
"nP=6+3;\n",
"R=8.3145;\n",
"T=298;\n",
"U0=-(h0)-{(nP-nR)*R*T};\n",
"c=(6*12)+(6*1);\n",
"u0=U0/c\n",
"disp(u0,'specific internal energy of reaction for the combustion of benzene vapour is:')"
   ]
   }
,
{
		   "cell_type": "markdown",
		   "metadata": {},
		   "source": [
			"## Example 7.14: 14.sce"
		   ]
		  },
  {
"cell_type": "code",
	   "execution_count": null,
	   "metadata": {
	    "collapsed": true
	   },
	   "outputs": [],
"source": [
"clc;\n",
"H0=282990;\n",
"HRo=(1*1018)+(0.5*1036);\n",
"HRr=(1*86115)+(0.5*90144);\n",
"HPo=1*1368;\n",
"HPr=1*140440;\n",
"\n",
"HT=H0+(HRr-HRo)-(HPr-HPo);\n",
"disp(HT,'Δh at 2800 K is:')"
   ]
   }
,
{
		   "cell_type": "markdown",
		   "metadata": {},
		   "source": [
			"## Example 7.15: 15.sce"
		   ]
		  },
  {
"cell_type": "code",
	   "execution_count": null,
	   "metadata": {
	    "collapsed": true
	   },
	   "outputs": [],
"source": [
"clc;\n",
"a=0.909;\n",
"b=0.091;\n",
"nR=1+0.5;\n",
"nP=1;\n",
"H0=-282990;\n",
"R=8.3145;\n",
"T0=298;\n",
"\n",
"U0=H0-(nP-nR)*R*T0;\n",
"\n",
"UR0=-7844;\n",
"UR1=9487;\n",
"UP0=-6716;\n",
"UP2=(a*281751)-(UR0-UR1)+UP0\n",
"\n",
"UP2_=(a*138720)+(b*74391)+(1.709*73555);\n",
"\n",
"disp('which compares with the actual,hence actual temperature of the products is slightly greater than 3200',UP2_,'and UP2 at T=3200',UP2,'actual UP2 is')"
   ]
   }
,
{
		   "cell_type": "markdown",
		   "metadata": {},
		   "source": [
			"## Example 7.16: 16.sce"
		   ]
		  },
  {
"cell_type": "code",
	   "execution_count": null,
	   "metadata": {
	    "collapsed": true
	   },
	   "outputs": [],
"source": [
"clc;\n",
"a=0.8;\n",
"T2=3000;\n",
"n2!p2=212.08/T2;\n",
"K=a/(1-a)*[n2!p2/(0.455-0.5*a)]^0.5;\n",
"disp('by sucha a method the value of T2 is found to be 2949 to the nerest degree')"
   ]
   }
,
{
		   "cell_type": "markdown",
		   "metadata": {},
		   "source": [
			"## Example 7.17: 17.sce"
		   ]
		  },
  {
"cell_type": "code",
	   "execution_count": null,
	   "metadata": {
	    "collapsed": true
	   },
	   "outputs": [],
"source": [
"clc;\n",
"hR=-281102;\n",
"hP=2*-393520+3*-241830;\n",
"h=-hR+hP\n",
"disp(h,'molar enthalpY is')"
   ]
   }
,
{
		   "cell_type": "markdown",
		   "metadata": {},
		   "source": [
			"## Example 7.18: 18.sce"
		   ]
		  },
  {
"cell_type": "code",
	   "execution_count": null,
	   "metadata": {
	    "collapsed": true
	   },
	   "outputs": [],
"source": [
"clc;\n",
"mw1=2*0.965*18;\n",
"mw2=3*0.005*18;\n",
"mw=mw1+mw2;\n",
"\n",
"R=8314.5\n",
"T=288;\n",
"p=1.013*10^5;\n",
"v=R*T/p\n",
"\n",
"mc=mw/v;\n",
"\n",
"hfg=2441.8;\n",
"Qgt=38700;\n",
"Qn=Qgt-mc*hfg;\n",
"\n",
"hs=3421;\n",
"hf=419.1;\n",
"Q=hs-hf;\n",
"s_o=31.6;\n",
"f_c=2.85;\n",
"nB=Q*s_o/(f_c*Qn);\n",
"\n",
"disp(nB*100,'boiler efficiency is:');\n",
"\n",
"g_o=25000;\n",
"n=g_o/(f_c*Qn)\n",
"disp(n*100,'overall thermal efficiency is:')"
   ]
   }
,
{
		   "cell_type": "markdown",
		   "metadata": {},
		   "source": [
			"## Example 7.19: 19.sce"
		   ]
		  },
  {
"cell_type": "code",
	   "execution_count": null,
	   "metadata": {
	    "collapsed": true
	   },
	   "outputs": [],
"source": [
"clc;\n",
"n=5;\n",
"t0=25.740\n",
"tn=27.880\n",
"v=-[(t0-25.730)/5];\n",
"v1=(tn-27.870)/5;\n",
"t=25.735;\n",
"t1=27.875;\n",
"Et=110.9880;\n",
"\n",
"corc=-5*v1+[(v1-v)/(t1-t)]*[Et+26.81-5*t];\n",
"temp_rise=tn-t0;\n",
"c_temp_rise=temp_rise+corc;\n",
"\n",
"q=c_temp_rise*2500*4.187*10^-3;\n",
"Q=q/(.825*10^-3);\n",
"disp('kJ/kg',Q,'calorific value of fuel is:');"
   ]
   }
,
{
		   "cell_type": "markdown",
		   "metadata": {},
		   "source": [
			"## Example 7.20: 20.sce"
		   ]
		  },
  {
"cell_type": "code",
	   "execution_count": null,
	   "metadata": {
	    "collapsed": true
	   },
	   "outputs": [],
"source": [
"clc;\n",
"mc=0.144*9;\n",
"Qgt=46900;\n",
"ufg=2304.4;\n",
"\n",
"Qn=Qgt-mc*ufg;\n",
"disp('kJ/kg',Qn,'NCV is:')"
   ]
   }
,
{
		   "cell_type": "markdown",
		   "metadata": {},
		   "source": [
			"## Example 7.21: 21.sce"
		   ]
		  },
  {
"cell_type": "code",
	   "execution_count": null,
	   "metadata": {
	    "collapsed": true
	   },
	   "outputs": [],
"source": [
"clc;\n",
"m_EtOH=46;\n",
"aof=1/m_EtOH;\n",
"m_a=28.96;\n",
"AF=8.957;\n",
"aoa=AF/m_a;\n",
"\n",
"Total=aof+aoa;\n",
"\n",
"R=8314.5;\n",
"T=288;\n",
"p=1.013*10^5;\n",
"V=Total*R*T/p;\n",
"\n",
"NCVf=27.8;\n",
"NCVm=NCVf/V;\n",
"\n",
"disp('MJ/m^3',NCVm,'calorific value of the combustion mixture is:');"
   ]
   }
,
{
		   "cell_type": "markdown",
		   "metadata": {},
		   "source": [
			"## Example 7.22: 22.sce"
		   ]
		  },
  {
"cell_type": "code",
	   "execution_count": null,
	   "metadata": {
	    "collapsed": true
	   },
	   "outputs": [],
"source": [
"clc;\n",
"m_EtOH=46;\n",
"aof=1/m_EtOH;\n",
"m_a=28.96;\n",
"AF=8.957;\n",
"aoa=AF/m_a;\n",
"\n",
"Total=aof+aoa;\n",
"p0=aof/Total;\n",
"\n",
"//from table\n",
"t1=20;\n",
"t2=30;\n",
"p1=0.0584;\n",
"p2=0.1049;\n",
"\n",
"t=t1+[(p0-p1)/(p2-p1)]*(t2-t1);\n",
"disp('C',t,'minimum temperature of the mix is:');"
   ]
   }
,
{
		   "cell_type": "markdown",
		   "metadata": {},
		   "source": [
			"## Example 7.2: 2.sce"
		   ]
		  },
  {
"cell_type": "code",
	   "execution_count": null,
	   "metadata": {
	    "collapsed": true
	   },
	   "outputs": [],
"source": [
"clc;\n",
"//part I\n",
"%H2=0.494;\n",
"%CO=0.18;\n",
"%CH4=0.2;\n",
"%C4H4=0.02;\n",
"%O2=0.004;\n",
"%N2=0.062;\n",
"%CO2=0.04;\n",
"\n",
"O_H2=%H2/2;\n",
"O_CO=%CO/2;\n",
"O_CH4=%CH4*2;\n",
"O_C4H4=%C4H4*6;\n",
"O_O2=-%O2*1;\n",
"\n",
"C_CO=%CO;\n",
"C_CH4=%CH4;\n",
"C_C4H8=4*%C4H4;\n",
"C_CO2=%CO2;\n",
"\n",
"H_H2=%H2;\n",
"H_CH4=2*%CH4;\n",
"H_C4H8=4*%C4H4;\n",
"\n",
"O_Tot=O_C4H4+O_CH4+O_CO+O_H2+O_O2;\n",
"C_Tot=C_CO+C_CH4+C_C4H8+C_CO2;\n",
"H_Tot=H_H2+H_CH4+H_C4H8;\n",
"\n",
"AF=O_Tot/0.21;\n",
"disp(AF,'stoichiometric A/F ratio is:')\n",
"\n",
"//partII\n",
"\n",
"actual_AF=AF+0.2*AF;\n",
"Ass_N2=0.79*actual_AF;\n",
"Exs_O2=(0.21*actual_AF)-O_Tot;\n",
"N2_Tot=Ass_N2+%N2;\n",
"\n",
"Tot_wet=H_Tot+C_Tot+Exs_O2+N2_Tot;\n",
"Tot_dry=C_Tot+Exs_O2+N2_Tot;\n",
"\n",
"C_dry=(C_Tot)/Tot_dry*100;\n",
"O_dry=(Exs_O2)/Tot_dry*100;\n",
"N_dry=(N2_Tot)/Tot_dry*100;\n",
"\n",
"C_wet=(C_Tot)/Tot_wet*100;\n",
"O_wet=(Exs_O2)/Tot_wet*100;\n",
"N_wet=(N2_Tot)/Tot_wet*100;\n",
"H_wet=(H_Tot)/Tot_wet*100;\n",
"\n",
"disp('Analysis by volume of the wet product of CO2,H2O,O2,N2 respectively is:');\n",
"disp(N_wet,O_wet,H_wet,C_wet)\n",
"\n",
"disp('Analysis by volume of the dry product of CO2,O2,N2 respectively is:');\n",
"disp(N_dry,O_dry,C_dry)"
   ]
   }
,
{
		   "cell_type": "markdown",
		   "metadata": {},
		   "source": [
			"## Example 7.3: 3.sce"
		   ]
		  },
  {
"cell_type": "code",
	   "execution_count": null,
	   "metadata": {
	    "collapsed": true
	   },
	   "outputs": [],
"source": [
"clc;\n",
"m_C2H6O=46;\n",
"m_O2=3*32;\n",
"O2_req=m_O2/m_C2H6O;\n",
"s_AF=O2_req/0.233;\n",
"disp(s_AF,'stoichiometric A/F ratio is:')\n",
"\n",
"//part II\n",
"disp('')\n",
"AF=s_AF/0.9;\n",
"disp(AF,'actual A/F ratio is:')\n",
"mC=2;\n",
"mH=3;\n",
"mO=0.333;\n",
"mN=12.540;\n",
"Tas=mC+mO+mH+mN;\n",
"disp(mN/Tas*100,mO/Tas*100,mH/Tas*100,mC/Tas*100,'wet analysis of CO2,H2O,O2,N2');\n",
"\n",
"Tad=mC+mO+mN;\n",
"disp(mN/Tas*100,mO/Tas*100,mC/Tas*100,'dry analysis of CO2,O2,N2');\n",
"\n",
"//part III\n",
"disp('')\n",
"a_AF=s_AF/1.2;\n",
"disp(a_AF,'actual A/F ratio is:')\n",
"\n",
"mCO2=1;\n",
"mCO=1;\n",
"mH2=3;\n",
"mN2=9.405;\n",
"taw=mCO2+mCO+mH2+mN2;\n",
"\n",
"disp(mN2/taw*100,mH2/taw*100,mCO/taw*100,mCO2/taw*100,'wet analysis of CO2,H2O,O2,N2');\n",
"\n",
"tad=mCO2+mCO+mN2;\n",
"disp(mN2/tad*100,mCO/tad*100,mCO2/tad*100,'dry analysis of CO2,H2O,O2,N2');"
   ]
   }
,
{
		   "cell_type": "markdown",
		   "metadata": {},
		   "source": [
			"## Example 7.4: 4.sce"
		   ]
		  },
  {
"cell_type": "code",
	   "execution_count": null,
	   "metadata": {
	    "collapsed": true
	   },
	   "outputs": [],
"source": [
"clc;\n",
"mC=1;\n",
"mO=3;\n",
"mN=(3*79/21);\n",
"Tar=mC+mO+mN;\n",
"\n",
"p1=1.013*10^5;\n",
"R=8.3145*10^3;\n",
"T=338;\n",
"V=Tar*R*T/p1;\n",
"\n",
"Vr=V/[(2*12)+6+16];\n",
"disp(Vr,'Volume of reactants per kilogram of fuel:');\n",
"\n",
"//part II\n",
"mCO2=2;\n",
"mH2O=3;\n",
"mN2=(3*79/21);\n",
"Tap=mCO2+mH2O+mN2;\n",
"\n",
"T=393;\n",
"p=10^5;\n",
"\n",
"V=Tap*R*T/p1;\n",
"Vr=V/[(2*12)+6+16];\n",
"\n",
"disp(Vr,'Volume of products per kg of fuel is:');"
   ]
   }
,
{
		   "cell_type": "markdown",
		   "metadata": {},
		   "source": [
			"## Example 7.5: 5.sce"
		   ]
		  },
  {
"cell_type": "code",
	   "execution_count": null,
	   "metadata": {
	    "collapsed": true
	   },
	   "outputs": [],
"source": [
"clc;\n",
"mCO2=2;\n",
"mH2O=3;\n",
"mN2=(3*79/21);\n",
"m_C2H6O=46;\n",
"Tadp=mCO2+mN2;\n",
"Tap=mCO2+mN2+mH2O;\n",
"\n",
"nl=0.01704;\n",
"n=1;\n",
"\n",
"n1=nl*Tadp/(1-nl)\n",
"m=[(mH2O-n1)*18/m_C2H6O]\n",
"disp(m)"
   ]
   }
,
{
		   "cell_type": "markdown",
		   "metadata": {},
		   "source": [
			"## Example 7.6: 6.sce"
		   ]
		  },
  {
"cell_type": "code",
	   "execution_count": null,
	   "metadata": {
	    "collapsed": true
	   },
	   "outputs": [],
"source": [
"clc;\n",
"a=0.8/12;\n",
"b=0.12/2;\n",
"x=a+b/2;\n",
"\n",
"s_AF=32*x/0.233;\n",
"disp(s_AF,'stoichiometric A/F ratio is:');\n",
"\n",
"Twp=a+b+3.76*x;\n",
"C=a/Twp*100;\n",
"H=b/Twp*100;\n",
"N=.365/Twp*100;\n",
"\n",
"disp(N,H,C,'wet analysis of C,H, and N respectively is:')"
   ]
   }
,
{
		   "cell_type": "markdown",
		   "metadata": {},
		   "source": [
			"## Example 7.7: 7.sce"
		   ]
		  },
  {
"cell_type": "code",
	   "execution_count": null,
	   "metadata": {
	    "collapsed": true
	   },
	   "outputs": [],
"source": [
"clc;\n",
"a=1;\n",
"c={6.31-2-(2*1.95)}/2\n",
"d=0.03+(0.79*30)\n",
"tds=a+c+d;\n",
"\n",
"C=a/tds*100\n",
"O=c/tds*100\n",
"N=d/tds*100\n",
"\n",
"disp(N,O,C,'analysis by volume is:');"
   ]
   }
,
{
		   "cell_type": "markdown",
		   "metadata": {},
		   "source": [
			"## Example 7.8: 8.sce"
		   ]
		  },
  {
"cell_type": "code",
	   "execution_count": null,
	   "metadata": {
	    "collapsed": true
	   },
	   "outputs": [],
"source": [
"clc;\n",
"B=0.9/12/0.15;\n",
"b=0.1/2;\n",
"A=15.14;\n",
"a=0.02\n",
"AF=A;\n",
"disp(AF,'A/F ratio is:');\n",
"\n",
"%C=.15;\n",
"%O=.20;\n",
"%N=.65;\n",
"twp=B*%C+B*%O+B*%N+b;\n",
"\n",
"C=B*%C/twp*100;\n",
"O=B*%O/twp*100;\n",
"N=B*%N/twp*100;\n",
"H=b/twp*100;\n",
"\n",
"disp(H,N,O,C,'wet volumetric analysis is as follows:');"
   ]
   }
,
{
		   "cell_type": "markdown",
		   "metadata": {},
		   "source": [
			"## Example 7.9: 9.sce"
		   ]
		  },
  {
"cell_type": "code",
	   "execution_count": null,
	   "metadata": {
	    "collapsed": true
	   },
	   "outputs": [],
"source": [
"clc;\n",
"x=0.8805;\n",
"B=3.41*(1-x);\n",
"A=27.927*B;\n",
"AF=A;\n",
"disp(AF,'A/F ratio is:');"
   ]
   }
],
"metadata": {
		  "kernelspec": {
		   "display_name": "Scilab",
		   "language": "scilab",
		   "name": "scilab"
		  },
		  "language_info": {
		   "file_extension": ".sce",
		   "help_links": [
			{
			 "text": "MetaKernel Magics",
			 "url": "https://github.com/calysto/metakernel/blob/master/metakernel/magics/README.md"
			}
		   ],
		   "mimetype": "text/x-octave",
		   "name": "scilab",
		   "version": "0.7.1"
		  }
		 },
		 "nbformat": 4,
		 "nbformat_minor": 0
}
