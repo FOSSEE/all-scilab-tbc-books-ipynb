{
"cells": [
 {
		   "cell_type": "markdown",
	   "metadata": {},
	   "source": [
       "# Chapter 9: Optoelectronic Modulators"
	   ]
	},
{
		   "cell_type": "markdown",
		   "metadata": {},
		   "source": [
			"## Example 9.1: thickness.sce"
		   ]
		  },
  {
"cell_type": "code",
	   "execution_count": null,
	   "metadata": {
	    "collapsed": true
	   },
	   "outputs": [],
"source": [
"//Example 9.1: The thickness\n",
"clc;\n",
"clear;\n",
"close;\n",
"format('v',7)\n",
"//given data :\n",
"lamda=589.3*10^-9;// in m\n",
"ne=1.553;\n",
"no=1.544;\n",
"x=(lamda/(4*(ne-no)))*10^3;\n",
"disp(x,'The thickness of the a quarter wave plate,x(mm) = ')"
   ]
   }
,
{
		   "cell_type": "markdown",
		   "metadata": {},
		   "source": [
			"## Example 9.2: thickness.sce"
		   ]
		  },
  {
"cell_type": "code",
	   "execution_count": null,
	   "metadata": {
	    "collapsed": true
	   },
	   "outputs": [],
"source": [
"//Example 9.2: The thickness\n",
"clc;\n",
"clear;\n",
"close;\n",
"//given data :\n",
"format('v',7)\n",
"lamda=589.3*10^-9;// in m\n",
"ne=1.486;\n",
"no=1.658;\n",
"x=(lamda/(2*(no-ne)))*10^3;\n",
"disp(x,'The thickness of the a quarter wave plate,x(mm) = ')"
   ]
   }
,
{
		   "cell_type": "markdown",
		   "metadata": {},
		   "source": [
			"## Example 9.3: change_in_refrative_index_and_vpi.sce"
		   ]
		  },
  {
"cell_type": "code",
	   "execution_count": null,
	   "metadata": {
	    "collapsed": true
	   },
	   "outputs": [],
"source": [
"//Example 9.3:change in refractive index ,net phase shiftand Vpi\n",
"clc;\n",
"clear;\n",
"close;\n",
"format('v',6)\n",
"v=5;//kV\n",
"l=1;//cm\n",
"ez=(v*10^3)/(l*10^-2);//in V/m\n",
"no=1.51;//\n",
"r63=10.5*10^-12;//m/V\n",
"dn=((1/2)*no^3*r63*ez);//\n",
"h=550;//nm\n",
"dfi=((2*%pi*dn*l*10^-2)/(h*10^-9));//\n",
"fi=2*dfi;//\n",
"vpi=((h*10^-9)/(2*no^3*r63))*10^-3;//kV\n",
"disp(dfi,'change in refrative index is')\n",
"disp(fi,'net phase shift is')\n",
"format('v',4)\n",
"disp(vpi,'Vpi in kV is')\n",
"//refractive index and phase shift is in the form of pi in the textbook"
   ]
   }
,
{
		   "cell_type": "markdown",
		   "metadata": {},
		   "source": [
			"## Example 9.4: phase_difference_additional_phase_difference_and_Vpi.sce"
		   ]
		  },
  {
"cell_type": "code",
	   "execution_count": null,
	   "metadata": {
	    "collapsed": true
	   },
	   "outputs": [],
"source": [
"//Example 9.4:phase difference,additional phase difference and Vpi\n",
"clc;\n",
"clear;\n",
"close;\n",
"format('v',7)\n",
"disp('part (a)')\n",
"h=550;//nm\n",
"l=3;//cm\n",
"no=1.51;//\n",
"ne=1.47;//\n",
"dfi=((2*%pi*l*10^-2*(no-ne))/(h*10^-9));//\n",
"disp(dfi,'phase differnce is')\n",
"//phase difference is in the form of pi in the textbook\n",
"disp('part (b)')\n",
"no=1.51;//\n",
"r63=26.4*10^-12;//m/V\n",
"V=200;//\n",
"d=0.25;//cm\n",
"dfi=((%pi*r63*no^3*(V)*(l*10^-2))/(h*10^-9*d*10^-2));//\n",
"disp(dfi,'additional phase differnce is')\n",
"//additional phase difference is in the form of pi in the textbook\n",
"disp('part (c)')\n",
"r63=26.4*10^-12;//m/V\n",
"format('v',5)\n",
"V=200;//\n",
"d=0.25;//cm\n",
"dfi=((%pi*r63*no^3*(V)*(l*10^-2))/(h*10^-9*d*10^-2));//\n",
"vpi=((h*10^-9)/(no^3*r63))*(d/l);//V\n",
"disp(vpi,'Vpi in V is')"
   ]
   }
,
{
		   "cell_type": "markdown",
		   "metadata": {},
		   "source": [
			"## Example 9.5: angle_and_relative_intensity.sce"
		   ]
		  },
  {
"cell_type": "code",
	   "execution_count": null,
	   "metadata": {
	    "collapsed": true
	   },
	   "outputs": [],
"source": [
"//Example 9.5: angle and relative intensity\n",
"clc;\n",
"clear;\n",
"close;\n",
"//given data :\n",
"disp('part (a)')\n",
"format('v',5)\n",
"m=1;\n",
"l=633*10^-9;// in m\n",
"f=5*10^6;// in Hz\n",
"v=1500;//in m/s\n",
"n=1.33;// for water\n",
"A=v/f;\n",
"theta=asind((l/(n*A)));\n",
"disp(theta,'angle (degree) =  ')\n",
"disp('part (b)')\n",
"format('v',6)\n",
"del_n=10^-5;\n",
"L=1*10^-2;// in m\n",
"lamda=633*10^-9;// in m\n",
"eta=(%pi^2*del_n^2*L^2)/lamda^2;\n",
"disp(eta,'The relative intensity = ')"
   ]
   }
],
"metadata": {
		  "kernelspec": {
		   "display_name": "Scilab",
		   "language": "scilab",
		   "name": "scilab"
		  },
		  "language_info": {
		   "file_extension": ".sce",
		   "help_links": [
			{
			 "text": "MetaKernel Magics",
			 "url": "https://github.com/calysto/metakernel/blob/master/metakernel/magics/README.md"
			}
		   ],
		   "mimetype": "text/x-octave",
		   "name": "scilab",
		   "version": "0.7.1"
		  }
		 },
		 "nbformat": 4,
		 "nbformat_minor": 0
}
