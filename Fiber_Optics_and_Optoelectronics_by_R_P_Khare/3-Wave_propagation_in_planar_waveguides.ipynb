{
"cells": [
 {
		   "cell_type": "markdown",
	   "metadata": {},
	   "source": [
       "# Chapter 3: Wave propagation in planar waveguides"
	   ]
	},
{
		   "cell_type": "markdown",
		   "metadata": {},
		   "source": [
			"## Example 3.1: range_of_propagation_constants_and_maximum_number_of_modes.sce"
		   ]
		  },
  {
"cell_type": "code",
	   "execution_count": null,
	   "metadata": {
	    "collapsed": true
	   },
	   "outputs": [],
"source": [
"//Example 3.1 // range of propagation constants and maximum no. of modes\n",
"clc;\n",
"clear;\n",
"close;\n",
"format('v',9)\n",
"n1=1.5;//core refractive index\n",
"n2=1.49;//cladding refrative index\n",
"t=9.83;//thickness of guided layer in micro meter\n",
"h=0.85;//wavelength in µm\n",
"b1=((2*%pi*n1)/(h*10^-6));//phase propagation constant in m^-1\n",
"b2=((2*%pi*n2)/(h*10^-6));//phase propagation constant in m^-1\n",
"m=((4*t)/h)*(sqrt(n1^2-n2^2));//number of modes\n",
"disp('range of propagation constant is '+string(b1)+' to '+string(b2)+' in m^-1')\n",
"disp(round(m/2),'number of modes are')"
   ]
   }
,
{
		   "cell_type": "markdown",
		   "metadata": {},
		   "source": [
			"## Example 3.2: thickness.sce"
		   ]
		  },
  {
"cell_type": "code",
	   "execution_count": null,
	   "metadata": {
	    "collapsed": true
	   },
	   "outputs": [],
"source": [
"//Example 3.2 // thickness\n",
"clc;\n",
"clear;\n",
"close;\n",
"format('v',6)\n",
"n1=3.6;//core refractive index\n",
"n2=3.56;//cladding refrative index\n",
"h=0.85;//wavelength in µm\n",
"a=((h/(2*sqrt(n1^2-n2^2))));//thickness in µm\n",
"disp('thicknes of the slab should not be greater than '+string(a)+' µm')"
   ]
   }
,
{
		   "cell_type": "markdown",
		   "metadata": {},
		   "source": [
			"## Example 3.3: number_of_TE_modes_and_propagation_parameters.sce"
		   ]
		  },
  {
"cell_type": "code",
	   "execution_count": null,
	   "metadata": {
	    "collapsed": true
	   },
	   "outputs": [],
"source": [
"//Example 3.3 // no. of modes\n",
"clc;\n",
"clear;\n",
"close;\n",
"format('v',10)\n",
"disp('part (a)')\n",
"n1=1.5;//core refractive index\n",
"n2=1.48;//cladding refrative index\n",
"t=10.11;//thickness of guided layer in micro meter\n",
"h=1.55;//wavelength in µm\n",
"b1=((2*%pi*n1)/(h*10^-6));//phase propagation constant in m^-1\n",
"b2=((2*%pi*n2)/(h*10^-6));//phase propagation constant in m^-1\n",
"m=((2*%pi*t)/h)*(sqrt(n1^2-n2^2));//number of modes\n",
"disp(round(m/2),'number of modes are')\n",
"disp('part (b)')\n",
"n1=1.5;//core refractive index\n",
"n2=1.48;//cladding refrative index\n",
"t1=10.11;//thickness of guided layer in micro meter\n",
"t=t1/2;\n",
"h=1.55;//wavelength in µm\n",
"b1=((2*%pi*n1)/(h*10^-6));//phase propagation constant in m^-1\n",
"b2=((2*%pi*n2)/(h*10^-6));//phase propagation constant in m^-1\n",
"mo=(((2*%pi*t1)/h)*(sqrt(n1^2-n2^2)))/2;//number of modes\n",
"uma0=1.30644;// for m=0 from the curve\n",
"uma1=2.59574;// for m=1 from the curve\n",
"uma2=3.83747;// for m=2 from the curve\n",
"uma3=4.9063;// for m=3 from the curve\n",
"wma0=4.8263;// for m=0 from the curve\n",
"wma1=4.27342;// for m=1 from the curve\n",
"wma2=3.20529;// for m=2 from the curve\n",
"wma3=0.963466;// for m=3 from the curve\n",
"um0=uma0/(t*10^-6);//in m^-1\n",
"um1=uma1/(t*10^-6);//in m^-1\n",
"um2=uma2/(t*10^-6);//in m^-1\n",
"um3=uma3/(t*10^-6);//in m^-1\n",
"wm0=wma0/(t*10^-6);//in m^-1\n",
"wm1=wma1/(t*10^-6);//in m^-1\n",
"wm2=wma2/(t*10^-6);//in m^-1\n",
"wm3=wma3/(t*10^-6);//in m^-1\n",
"bm0=((wm0*t*10^-6)/mo)^2;//for m=0 \n",
"bm1=((wm1*t*10^-6)/mo)^2;//for m=1\n",
"bm2=((wm2*t*10^-6)/mo)^2;//for m=2 \n",
"bm3=((wm3*t*10^-6)/mo)^2;//for m=3\n",
"m0=sqrt((bm0*(b1^2-b2^2))+b2^2);//for m=0 in m^-1\n",
"m1=sqrt((bm1*(b1^2-b2^2))+b2^2);//for m=1 in m^-1\n",
"m2=sqrt((bm2*(b1^2-b2^2))+b2^2);//for m=2 in m^-1\n",
"m3=sqrt((bm3*(b1^2-b2^2))+b2^2);//for m=3 in m^-1\n",
"params = [' ' 'm' 'um[m^-1]' 'wm[m^-1]' 'bm'  ];\n",
"m = ['0' '1' '2' '3']';\n",
"um = ['um0' 'um1' 'um2' 'um3']';\n",
"wm  = string([22.41 11.77 33.41 4.24]');\n",
"bm = string([26 19 22 17]');\n",
"params = ['m' 'um[m^-1]' 'wm[m^-1]' 'bm' 'ßm[m^-1]' ];\n",
"city=string([0 1 2 3]');\n",
"towns = string([um0 um1 um2 um3]');\n",
"country = string([wm0 wm1 wm2 wm3]');\n",
" pop  = string([bm0 bm1 bm2 bm3]');\n",
" temp = string([m0 m1 m2 m3]');\n",
" table = [params; [ city towns country pop temp ]]\n",
" disp(table ,'constants are :')"
   ]
   }
,
{
		   "cell_type": "markdown",
		   "metadata": {},
		   "source": [
			"## Example 3.4: G_factor.sce"
		   ]
		  },
  {
"cell_type": "code",
	   "execution_count": null,
	   "metadata": {
	    "collapsed": true
	   },
	   "outputs": [],
"source": [
"//Example 3.4 //G factor\n",
"clc;\n",
"clear;\n",
"close;\n",
"format('v',10)\n",
"d=0.793;//in micro meter\n",
"v=%pi/2;//point of intersection\n",
"ua=0.934;//\n",
"wa=1.262;//\n",
"Y=(wa*(1+(sind(ua))*(cosd(ua))/ua));//\n",
"G=(1+((cosd(ua))^2)/Y)^(-1);//\n",
"disp(G,'G factor is')\n",
"//answer is wrong in the textbook"
   ]
   }
],
"metadata": {
		  "kernelspec": {
		   "display_name": "Scilab",
		   "language": "scilab",
		   "name": "scilab"
		  },
		  "language_info": {
		   "file_extension": ".sce",
		   "help_links": [
			{
			 "text": "MetaKernel Magics",
			 "url": "https://github.com/calysto/metakernel/blob/master/metakernel/magics/README.md"
			}
		   ],
		   "mimetype": "text/x-octave",
		   "name": "scilab",
		   "version": "0.7.1"
		  }
		 },
		 "nbformat": 4,
		 "nbformat_minor": 0
}
