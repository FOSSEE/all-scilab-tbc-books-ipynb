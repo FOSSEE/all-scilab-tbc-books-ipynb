{
"cells": [
 {
		   "cell_type": "markdown",
	   "metadata": {},
	   "source": [
       "# Chapter 12: Fiber optic communication system"
	   ]
	},
{
		   "cell_type": "markdown",
		   "metadata": {},
		   "source": [
			"## Example 12.1: maximum_possible_link_length_and_total_rise_time.sce"
		   ]
		  },
  {
"cell_type": "code",
	   "execution_count": null,
	   "metadata": {
	    "collapsed": true
	   },
	   "outputs": [],
"source": [
"//Example 12.1: link length and reise time\n",
"clc;\n",
"clear;\n",
"close;\n",
"af=2.5;//dB/km\n",
"ac=0.5;//dB/splice\n",
"nc=1;//\n",
"lc=1;//dB\n",
"ncc=2;//\n",
"plx=-10;//dBm\n",
"prx=-42;//dBm\n",
"Ms=6;//dB\n",
"L=((plx-prx-Ms-(lc*ncc))/(af+ac));//\n",
"TTX=12;//NS\n",
"TRX=11;//NS\n",
"NS1=3;//NS/KM\n",
"NS2=1;//NS/KM\n",
"tmat=(NS1*L);//ns\n",
"tint=(NS2*L);//ns\n",
"tsys=sqrt((TTX^2+tmat^2+tint^2+TRX^2));//ns\n",
"disp(L,'maximum possible link length in km is')\n",
"disp(round(tsys),'total rise time of the system in ns is')"
   ]
   }
,
{
		   "cell_type": "markdown",
		   "metadata": {},
		   "source": [
			"## Example 12.2: link_length_and_bandwidth.sce"
		   ]
		  },
  {
"cell_type": "code",
	   "execution_count": null,
	   "metadata": {
	    "collapsed": true
	   },
	   "outputs": [],
"source": [
"//Example 12.2: link length and bandwidth\n",
"clc;\n",
"clear;\n",
"close;\n",
"format('v',4)\n",
"disp('part (a)')\n",
"af=3;//dB/km\n",
"ac=0.5;//dB/splice\n",
"nc=1;//\n",
"lc=1;//dB\n",
"ncc=1.5;//\n",
"plx=0;//dBm\n",
"prx=-25;//dBm\n",
"Ms=7;//dB\n",
"L=((plx-prx-Ms-(lc*ncc))/(af+ac));//\n",
"TTX=12;//NS\n",
"TRX=11;//NS\n",
"NS1=3;//NS/KM\n",
"NS2=1;//NS/KM\n",
"tmat=(NS1*L);//ns\n",
"tint=(NS2*L);//ns\n",
"tsys=sqrt((TTX^2+tmat^2+tint^2+TRX^2));//ns\n",
"disp(L,'maximum possible link length in km is')\n",
"format('v',3)\n",
"disp('part (b)')\n",
"af=3;//dB/km\n",
"ac=0.5;//dB/splice\n",
"nc=1;//\n",
"lc=1;//dB\n",
"ncc=1.5;//\n",
"plx=-0;//dBm\n",
"prx=-25;//dBm\n",
"Ms=7;//dB\n",
"L=((plx-prx-Ms-(lc*ncc))/(af+ac));//\n",
"TTX=1;//NS\n",
"TRX=5;//NS\n",
"NS1=9;//NS/KM\n",
"NS2=2;//NS/KM\n",
"tf=((NS1*L)^2+(NS2*L)^2);//\n",
"tsys=sqrt((TTX^2+tf+TRX^2));//ns\n",
"df=0.35/(tsys*10^-3);//\n",
"disp(round(df),'system bandwidth in MHz iz')"
   ]
   }
,
{
		   "cell_type": "markdown",
		   "metadata": {},
		   "source": [
			"## Example 12.3: number_of_subscribers.sce"
		   ]
		  },
  {
"cell_type": "code",
	   "execution_count": null,
	   "metadata": {
	    "collapsed": true
	   },
	   "outputs": [],
"source": [
"//Example 12.3;no. of subscribers\n",
"clc;\n",
"clear;\n",
"close;\n",
"pt=1;//mW\n",
"pn=-40;//dBm\n",
"pn1=10^(pn/10);//\n",
"c=0.05;//\n",
"d=0.11;//\n",
"x=((pn1)/(pt*c));//\n",
"y=((log10(x))/(log10((1-d)*(1-c))));//\n",
"n=y+1;//\n",
"disp(round(n),'no. of subscribers are')"
   ]
   }
,
{
		   "cell_type": "markdown",
		   "metadata": {},
		   "source": [
			"## Example 12.4: total_power.sce"
		   ]
		  },
  {
"cell_type": "code",
	   "execution_count": null,
	   "metadata": {
	    "collapsed": true
	   },
	   "outputs": [],
"source": [
"//Example 12.4: Total power\n",
"clc;\n",
"clear;\n",
"close;\n",
"//given data :\n",
"L_eff=20;// in km\n",
"del_lamdaC=125;// in nm\n",
"gR=6*10^-14;// m/W\n",
"A_eff=55*10^-12;// in m^2;\n",
"del_lamdaS=0.8;// in nm\n",
"N=32;// number of channels\n",
"F=0.1;//  constant\n",
"P_tot=(4*F*del_lamdaC*A_eff)/(gR*del_lamdaS*L_eff*(N-1));\n",
"disp(P_tot,'Total power,P_tot(mW) = ')"
   ]
   }
,
{
		   "cell_type": "markdown",
		   "metadata": {},
		   "source": [
			"## Example 12.5: SBS_threshold_power.sce"
		   ]
		  },
  {
"cell_type": "code",
	   "execution_count": null,
	   "metadata": {
	    "collapsed": true
	   },
	   "outputs": [],
"source": [
"//Example 12.5: SBS threshold power\n",
"clc;\n",
"clear;\n",
"close;\n",
"//given data :\n",
"gb=4*10^-11;// in m/W\n",
"A_eff=55*10^-12;// in m^2\n",
"L_eff=20;// in km\n",
"lamda_p=1.55;// micro-m\n",
"n=1.46;// constant\n",
"Va=5960;// for the silica fiber in m-s^-1\n",
"Vb=(2*n*Va)/lamda_p;\n",
"del_v=100*10^6;// in Hz\n",
"del_Vb=20*10^6;// in Hz\n",
"b1=1;\n",
"b2=2;\n",
"P_th=((21*b1*A_eff)/(gb*L_eff))*(1+(del_v/del_Vb))\n",
"P_th1=((21*b2*A_eff)/(gb*L_eff))*(1+(del_v/del_Vb))\n",
"disp(P_th,'SBS threshold power for the worst case in mW')\n",
"disp(P_th1,'SBS threshold power for the best possible case in mW')"
   ]
   }
],
"metadata": {
		  "kernelspec": {
		   "display_name": "Scilab",
		   "language": "scilab",
		   "name": "scilab"
		  },
		  "language_info": {
		   "file_extension": ".sce",
		   "help_links": [
			{
			 "text": "MetaKernel Magics",
			 "url": "https://github.com/calysto/metakernel/blob/master/metakernel/magics/README.md"
			}
		   ],
		   "mimetype": "text/x-octave",
		   "name": "scilab",
		   "version": "0.7.1"
		  }
		 },
		 "nbformat": 4,
		 "nbformat_minor": 0
}
