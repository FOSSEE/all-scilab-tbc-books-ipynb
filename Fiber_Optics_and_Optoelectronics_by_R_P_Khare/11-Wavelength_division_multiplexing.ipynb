{
"cells": [
 {
		   "cell_type": "markdown",
	   "metadata": {},
	   "source": [
       "# Chapter 11: Wavelength division multiplexing"
	   ]
	},
{
		   "cell_type": "markdown",
		   "metadata": {},
		   "source": [
			"## Example 11.1: interaction_length.sce"
		   ]
		  },
  {
"cell_type": "code",
	   "execution_count": null,
	   "metadata": {
	    "collapsed": true
	   },
	   "outputs": [],
"source": [
"//Example 11.1:interaction length \n",
"clc;\n",
"clear;\n",
"close;\n",
"format('v',6)\n",
"po=1;//assume\n",
"p1=po/2;//\n",
"p2=p1;//\n",
"kl=asin(sqrt(p1));//in degree\n",
"disp(kl,'interaction length is')\n",
"//answer is in the form of pi in the textbook"
   ]
   }
,
{
		   "cell_type": "markdown",
		   "metadata": {},
		   "source": [
			"## Example 11.2: position_of_the_output_ports.sce"
		   ]
		  },
  {
"cell_type": "code",
	   "execution_count": null,
	   "metadata": {
	    "collapsed": true
	   },
	   "outputs": [],
"source": [
"//Example 11.2:position \n",
"clc;\n",
"clear;\n",
"close;\n",
"a=8.2;//in micro meter\n",
"n1=1.45;//\n",
"n2=1.446;//\n",
"h1=1.31;//in micro meter\n",
"h2=1.55;///in micro meter\n",
"v1=((2*%pi*a*sqrt(n1^2-n2^2))/h1);//\n",
"v2=((2*%pi*a*sqrt(n1^2-n2^2))/h2);//\n",
"db=2.439;//\n",
"del=5.5096*10^-3;//\n",
"k1=1.0483;//mm^-1;//\n",
"k2=1.2839///m^-1\n",
"l1=((%pi)/(4*k1));//in mm\n",
"l2=((%pi)/(4*k2));//in mm\n",
"disp('output port positioned at '+string(l2)+' mm with respect to the input port will gather signals at h1=1310nm')\n",
"disp('output port positioned at '+string(l1)+' mm with respect to the input port will gather signals at h1=1550nm')"
   ]
   }
,
{
		   "cell_type": "markdown",
		   "metadata": {},
		   "source": [
			"## Example 11.4: order.sce"
		   ]
		  },
  {
"cell_type": "code",
	   "execution_count": null,
	   "metadata": {
	    "collapsed": true
	   },
	   "outputs": [],
"source": [
"//Example 11.4: ARRAYED GUIDE\n",
"clc;\n",
"clear;\n",
"close;\n",
"//given data :\n",
"c=3*10^8;\n",
"lamda_c=1.55*10^-6;// in m\n",
"vc=c/lamda_c;\n",
"n=16;// number of channel\n",
"f=100*10^9;// in Hz\n",
"delV_FSR=n*f;\n",
"m=round(vc/delV_FSR);\n",
"disp(m,'required order of the arrayed waveguide, = ')"
   ]
   }
],
"metadata": {
		  "kernelspec": {
		   "display_name": "Scilab",
		   "language": "scilab",
		   "name": "scilab"
		  },
		  "language_info": {
		   "file_extension": ".sce",
		   "help_links": [
			{
			 "text": "MetaKernel Magics",
			 "url": "https://github.com/calysto/metakernel/blob/master/metakernel/magics/README.md"
			}
		   ],
		   "mimetype": "text/x-octave",
		   "name": "scilab",
		   "version": "0.7.1"
		  }
		 },
		 "nbformat": 4,
		 "nbformat_minor": 0
}
