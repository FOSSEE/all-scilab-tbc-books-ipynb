{
"cells": [
 {
		   "cell_type": "markdown",
	   "metadata": {},
	   "source": [
       "# Chapter 6: Optical fiber cables and connections"
	   ]
	},
{
		   "cell_type": "markdown",
		   "metadata": {},
		   "source": [
			"## Example 6.1: refrative_index.sce"
		   ]
		  },
  {
"cell_type": "code",
	   "execution_count": null,
	   "metadata": {
	    "collapsed": true
	   },
	   "outputs": [],
"source": [
"// Example 6.1:refractive index\n",
"clc;\n",
"clear;\n",
"close;\n",
"format('v',5)\n",
"l=0.47;//in db\n",
"nf=10^((l/-10));//\n",
"x=poly(0,'x');\n",
"p=1+-2.22*x+x^2;//\n",
"y=roots(p);//\n",
"disp(y(1,1),'refractive index is')"
   ]
   }
,
{
		   "cell_type": "markdown",
		   "metadata": {},
		   "source": [
			"## Example 6.2: loss.sce"
		   ]
		  },
  {
"cell_type": "code",
	   "execution_count": null,
	   "metadata": {
	    "collapsed": true
	   },
	   "outputs": [],
"source": [
"// Example 6.2:loss\n",
"clc;\n",
"clear;\n",
"close;\n",
"disp('part (a)')\n",
"format('v',5)\n",
"dya=0.1;//\n",
"n1=1.50;//refrative index\n",
"na=1;//\n",
"k1=n1/n1;//\n",
"k2=1;//\n",
"nf=((16*(n1)^2)/((n1+1)^4));//\n",
"nlat=(2/(3.14))*(acos(dya/2)-(dya/2)*(1-(dya/2)^2)^(1/2));//\n",
"nt=nf*nlat;//\n",
"lt=(-10*log10(nt));//in dB\n",
"disp(lt,'insertion loss at the joint in dB is')\n",
"disp('part (b)')\n",
"format('v',6)\n",
"dya=0.1;//\n",
"n1=1.50;//refrative index\n",
"na=1;//\n",
"k1=n1/n1;//\n",
"k2=1;//\n",
"nf=((16*(n1)^2)/((n1+1)^4));//\n",
"nlat=(2/(%pi))*(acos(dya/2)-(dya/2)*(1-(dya/2)^2)^(1/2));//\n",
"nt=k2*nlat;//\n",
"lt=(-10*log10(nt));//in dB\n",
"disp(lt,'insertion loss at the joint in dB is')"
   ]
   }
,
{
		   "cell_type": "markdown",
		   "metadata": {},
		   "source": [
			"## Example 6.3: insertion_loss_at_joint.sce"
		   ]
		  },
  {
"cell_type": "code",
	   "execution_count": null,
	   "metadata": {
	    "collapsed": true
	   },
	   "outputs": [],
"source": [
"// Example 6.3:loss\n",
"clc;\n",
"clear;\n",
"close;\n",
"format('v',5)\n",
"d=100;//micro meter\n",
"dx=0;//\n",
"dy=3;//in micro mete\n",
"dth=3;//in degree\n",
"dthr=dth*(%pi/180);//\n",
"dya=0.02;//\n",
"n1=1.48;//refrative index\n",
"na=1;//\n",
"k1=n1/n1;//\n",
"k2=1;//\n",
"nf=((16*(n1)^2)/((n1+1)^4));//\n",
"nlat=(2/(%pi))*(acos(dy/100)-(dy/100)*(1-(dy/100)^2)^(1/2));//\n",
"NA=n1*(sqrt(2*dya));//\n",
"nang=((1-(na*dthr)/(%pi*NA)));//\n",
"nt=nf*nlat*nang;//\n",
"lt=(-10*log10(nt));//in dB\n",
"disp(lt,'total loss in dB is')"
   ]
   }
,
{
		   "cell_type": "markdown",
		   "metadata": {},
		   "source": [
			"## Example 6.4: insertion_loss_at_joint.sce"
		   ]
		  },
  {
"cell_type": "code",
	   "execution_count": null,
	   "metadata": {
	    "collapsed": true
	   },
	   "outputs": [],
"source": [
"// Example 6.4:loss\n",
"clc;\n",
"clear;\n",
"close;\n",
"format('v',8)\n",
"d1=80;//micro meter\n",
"na1=0.25;//\n",
"alpha1=2;//\n",
"d2=60;//in micro meter\n",
"na2=0.21;//\n",
"alpha2=1.9;//\n",
"ncd=(d2/d1)^2;//\n",
"nna=(na2/na1)^2;//\n",
"nalpha=((1+(2/alpha1))/(1+((2/alpha2))));//\n",
"nt=ncd*nna*nalpha;//\n",
"lt=(-10*log10(nt));//in dB\n",
"disp(lt,'total loss in dB is')"
   ]
   }
,
{
		   "cell_type": "markdown",
		   "metadata": {},
		   "source": [
			"## Example 6.5: insertion_loss_at_joint_in_the_forward_and_backward_direction.sce"
		   ]
		  },
  {
"cell_type": "code",
	   "execution_count": null,
	   "metadata": {
	    "collapsed": true
	   },
	   "outputs": [],
"source": [
"// Example 6.5:loss\n",
"clc;\n",
"clear;\n",
"close;\n",
"format('v',5)\n",
"d1=60;//micro meter\n",
"na1=0.25;//\n",
"alpha1=2.1;//\n",
"d2=50;//in micro meter\n",
"na2=0.20;//\n",
"alpha2=1.9;//\n",
"ncd=(d2/d1)^2;//\n",
"nna=(na2/na1)^2;//\n",
"nalpha1=1;//\n",
"nalpha=((1+(2/alpha1))/(1+((2/alpha2))));//\n",
"ncd1=1;//\n",
"nna1=1;//\n",
"nt=ncd*nna*nalpha1;//\n",
"ltf=(-10*log10(nt));//in dB\n",
"nt1=ncd1*nna1*nalpha;//\n",
"ltb=(-10*log10(nt1));//in dB\n",
"disp(ltf,'total loss forward direction in dB is')\n",
"format('v',6)\n",
"disp(ltb,'total loss backward direction in dB is')"
   ]
   }
],
"metadata": {
		  "kernelspec": {
		   "display_name": "Scilab",
		   "language": "scilab",
		   "name": "scilab"
		  },
		  "language_info": {
		   "file_extension": ".sce",
		   "help_links": [
			{
			 "text": "MetaKernel Magics",
			 "url": "https://github.com/calysto/metakernel/blob/master/metakernel/magics/README.md"
			}
		   ],
		   "mimetype": "text/x-octave",
		   "name": "scilab",
		   "version": "0.7.1"
		  }
		 },
		 "nbformat": 4,
		 "nbformat_minor": 0
}
