{
"cells": [
 {
		   "cell_type": "markdown",
	   "metadata": {},
	   "source": [
       "# Chapter 14: Laser based systems"
	   ]
	},
{
		   "cell_type": "markdown",
		   "metadata": {},
		   "source": [
			"## Example 14.1: energy_and_threshold_electrical_energy.sce"
		   ]
		  },
  {
"cell_type": "code",
	   "execution_count": null,
	   "metadata": {
	    "collapsed": true
	   },
	   "outputs": [],
"source": [
"//Example 14.1: energy and threshold electrical energy\n",
"clc;\n",
"clear;\n",
"close;\n",
"format('v',4)\n",
"disp('part (a)')\n",
"no=1.9*10^19;//cm^-3;//\n",
"hc=6.6*10^-34;//\n",
"v=5.45*10^14;//Hz\n",
"av=2;//\n",
"nv=1;//\n",
"n2=no/2;//\n",
"eng=((n2*hc*v)/(av*nv));// J cm^-2\n",
"disp(eng,'energy in J cm^-2 is')\n",
"format('v',5)\n",
"disp('part (b)')\n",
"oe=0.50;//\n",
"mr=0.15;//\n",
"lr=0.20;//\n",
"teng=eng/(oe*mr*lr);//\n",
"disp(teng,'threshold energy in J cm^-2 is')\n",
"//electrical energy is calculated wrong in the textbook"
   ]
   }
,
{
		   "cell_type": "markdown",
		   "metadata": {},
		   "source": [
			"## Example 14.3: maximum_power_emerging.sce"
		   ]
		  },
  {
"cell_type": "code",
	   "execution_count": null,
	   "metadata": {
	    "collapsed": true
	   },
	   "outputs": [],
"source": [
"//Example 14.3: output power\n",
"clc;\n",
"clear;\n",
"close;\n",
"h=0.6943*10^-6;//\n",
"lm=10;//in cm\n",
"r1=1.0;//\n",
"r2=0.8;//\n",
"t1=0.98;//\n",
"as=1;//cm^2;//\n",
"Ls=2;//cm\n",
"gth=((1/(2*lm))*log((1/(r1*r2*(t1)^8))))+(as*Ls)/lm;//\n",
"sg=1.5*10^-20;//\n",
"ndth=gth/sg;//cm^-3;//\n",
"nth=ndth*as*lm;//atoms\n",
"ni=5*nth;//atoms\n",
"ng=1.78;//\n",
"ns=2.7;//\n",
"lair=2;//\n",
"c=3*10^10;//\n",
"trt=((2*ng*lm)/c)+((2*ns*Ls)/c)+((2*lair)/c);//seconds\n",
"npmax=((ni-nth)/2)-(nth/2)*log(ni/nth);//photons\n",
"L=14;//cm\n",
"at=((as*Ls)/L)+((1/(2*L))*log(1/(r1*t1^8)));//\n",
"aext=((1/(2*L))*log(1/r2));//\n",
"tp=((trt)/(1-(r1*r2*t1^8*exp(-2*as*Ls))));//seconds\n",
"hc=6.6*10^-34;//\n",
"pmax=((aext/at)*hc*c*npmax)/(h*tp);//in watts\n",
"disp(pmax*10^-6,'maximum power in MW is')\n",
"//answer is wrong in the textbook"
   ]
   }
,
{
		   "cell_type": "markdown",
		   "metadata": {},
		   "source": [
			"## Example 14.4: pulse_width_and_spatial_length.sce"
		   ]
		  },
  {
"cell_type": "code",
	   "execution_count": null,
	   "metadata": {
	    "collapsed": true
	   },
	   "outputs": [],
"source": [
"//Example 14.4: pulse width and spatial length \n",
"clc;\n",
"clear;\n",
"close;\n",
"format('v',5)\n",
"disp('part (a)')\n",
"//given data :\n",
"del_v=1.5*10^9;// in Hz\n",
"tau_p=1/del_v;\n",
"C=3*10^8;// constant\n",
"disp(tau_p*10^9,'pulse width,del_v(ns) = ')\n",
"Lp=C*tau_p;\n",
"disp(Lp*10^2,'spatial length,Lp(cm) = ')\n",
"//spatial length is calculated wrong in the textbook\n",
"format('v',5)\n",
"disp('part (b)')\n",
"del_v=6*10^10;// in Hz\n",
"tau_p=1/del_v;\n",
"C=3*10^8;// constant\n",
"disp(tau_p*10^12,'pulse width,del_v(ps) = ')\n",
"Lp=C*tau_p*10^3;\n",
"disp(Lp,'spatial length,Lp(mm) = ')"
   ]
   }
,
{
		   "cell_type": "markdown",
		   "metadata": {},
		   "source": [
			"## Example 14.5: time_difference.sce"
		   ]
		  },
  {
"cell_type": "code",
	   "execution_count": null,
	   "metadata": {
	    "collapsed": true
	   },
	   "outputs": [],
"source": [
"//Example 14.5: time difference\n",
"clc;\n",
"clear;\n",
"close;\n",
"format('v',5)\n",
"n=1.33;//\n",
"x=2;//\n",
"l=50;//m\n",
"c=3*10^8;//m/s\n",
"dt=((n*x*l)/c);//s\n",
"disp(dt*10^6,'time difference is,(micro-seconds)=')"
   ]
   }
],
"metadata": {
		  "kernelspec": {
		   "display_name": "Scilab",
		   "language": "scilab",
		   "name": "scilab"
		  },
		  "language_info": {
		   "file_extension": ".sce",
		   "help_links": [
			{
			 "text": "MetaKernel Magics",
			 "url": "https://github.com/calysto/metakernel/blob/master/metakernel/magics/README.md"
			}
		   ],
		   "mimetype": "text/x-octave",
		   "name": "scilab",
		   "version": "0.7.1"
		  }
		 },
		 "nbformat": 4,
		 "nbformat_minor": 0
}
