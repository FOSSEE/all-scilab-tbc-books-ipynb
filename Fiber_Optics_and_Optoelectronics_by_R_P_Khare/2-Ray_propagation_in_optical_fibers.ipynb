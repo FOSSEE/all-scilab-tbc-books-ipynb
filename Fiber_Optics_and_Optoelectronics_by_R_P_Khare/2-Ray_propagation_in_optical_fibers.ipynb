{
"cells": [
 {
		   "cell_type": "markdown",
	   "metadata": {},
	   "source": [
       "# Chapter 2: Ray propagation in optical fibers"
	   ]
	},
{
		   "cell_type": "markdown",
		   "metadata": {},
		   "source": [
			"## Example 2.1: NA_angles_and_pulse_broadning.sce"
		   ]
		  },
  {
"cell_type": "code",
	   "execution_count": null,
	   "metadata": {
	    "collapsed": true
	   },
	   "outputs": [],
"source": [
"//Example 2.1 // NA ,angles and pulse broadning\n",
"clc;\n",
"clear;\n",
"close;\n",
"format('v',9 )\n",
"disp('part (a)')\n",
"n1=1.5;//core refrative index\n",
"n2=1.48;//claddin refractive index\n",
"a=100/2;//radius in micro meter\n",
"na=1;//air refrative index\n",
"NA=sqrt(n1^2-n2^2);//numerical aperture\n",
"disp(NA,'numerical aperture is')\n",
"disp('part (b)')\n",
"am=(asind(NA));//\n",
"tm=asind(NA/n1);//\n",
"tc=asind(n2/n1);//\n",
"disp(am,'angle in degree is (αm)')\n",
"disp(tm,'angle in degree is (Om)')\n",
"disp(tc,'angle in degree is(Φc)')\n",
"disp('part (c)')\n",
"c=3*10^8;//speed of light in m/s\n",
"dtl=((n1/n2)*(n1-n2)/c);//pulse broadning per unit length\n",
"disp(dtl,'pulse broadning per unit length in sm^-1')"
   ]
   }
,
{
		   "cell_type": "markdown",
		   "metadata": {},
		   "source": [
			"## Example 2.2: number_of_reflections.sce"
		   ]
		  },
  {
"cell_type": "code",
	   "execution_count": null,
	   "metadata": {
	    "collapsed": true
	   },
	   "outputs": [],
"source": [
"//Example 2.2 // minimum and maximum number of reflections\n",
"clc;\n",
"clear;\n",
"close;\n",
"format('v',5)\n",
"n1=1.5;//core refrative index\n",
"n2=1.48;//claddin refractive index\n",
"a=100/2;//radius in micro meter\n",
"na=1;//air refrative index\n",
"NA=sqrt(n1^2-n2^2);//numerical aperture\n",
"am=(asind(NA));//\n",
"tm=asind(NA/n1);//\n",
"tc=asind(n2/n1);//\n",
"L=((a*10^-6)/(tand(tm)));//length in meter\n",
"x=(1/(2*L));//maximum number of reflections per meter\n",
"disp('all other rays will suffer reflections between these two extremes of '+string(0)+' and '+string(x)+' m^-1')\n",
"//answer is wrong in the textbook"
   ]
   }
,
{
		   "cell_type": "markdown",
		   "metadata": {},
		   "source": [
			"## Example 2.3: pulse_broadning.sce"
		   ]
		  },
  {
"cell_type": "code",
	   "execution_count": null,
	   "metadata": {
	    "collapsed": true
	   },
	   "outputs": [],
"source": [
"//Example 2.3 // pulse broadning\n",
"clc;\n",
"clear;\n",
"close;\n",
"format('v',6)\n",
"h=0.85;//WAVELENGTH IN MICRO METER\n",
"y=0.035;//spectral width\n",
"c=0.021;//constant\n",
"cl=3;//speed of light in m/s\n",
"dtl=(y/cl)*c;//\n",
"disp(dtl*10^4,'pulse broadning  in ns km^-1')"
   ]
   }
,
{
		   "cell_type": "markdown",
		   "metadata": {},
		   "source": [
			"## Example 2.4: pulse_broadning.sce"
		   ]
		  },
  {
"cell_type": "code",
	   "execution_count": null,
	   "metadata": {
	    "collapsed": true
	   },
	   "outputs": [],
"source": [
"//Example 2.4 // pulse broadning\n",
"clc;\n",
"clear;\n",
"close;\n",
"format('v',6)\n",
"disp('part (a)')\n",
"h=850;//WAVELENGTH IN NANO METER\n",
"l=80;//fiber length in Km\n",
"dh=30;//in Nano Meter\n",
"m1=105.5;//material dispersion for h=850nm in ps/nm-Km\n",
"m2=2.8;//material dispersion for h=1300nm in ps/nm-Km\n",
"t=m1*l*dh*10^-3;//material dispersion in ns when h=850nm\n",
"disp(t,'material dispersion in ns when h=850nm')\n",
"disp('part (b)')\n",
"h=1300;//WAVELENGTH IN NANO METER\n",
"l=80;//fiber length in Km\n",
"dh=30;//in Nano Meter\n",
"m1=105.5;//material dispersion for h=850nm in ps/nm-Km\n",
"m2=2.8;//material dispersion for h=1300nm in ps/nm-Km\n",
"t=m2*l*dh*10^-3;//material dispersion in ns when h=850nm\n",
"disp(t,'material dispersion in ns when h=1300nm')"
   ]
   }
,
{
		   "cell_type": "markdown",
		   "metadata": {},
		   "source": [
			"## Example 2.5: pulse_broadning.sce"
		   ]
		  },
  {
"cell_type": "code",
	   "execution_count": null,
	   "metadata": {
	    "collapsed": true
	   },
	   "outputs": [],
"source": [
"//Example 2.5; pulse broadning\n",
"clc;\n",
"clear;\n",
"close;\n",
"format('v',6)\n",
"disp('part (a)')\n",
"h=850;//WAVELENGTH IN NANO METER\n",
"l=80;//fiber length in Km\n",
"dh=2;//in Nano Meter\n",
"m1=105.5;//material dispersion for h=850nm in ps/nm-Km\n",
"m2=2.8;//material dispersion for h=1300nm in ps/nm-Km\n",
"t=m1*l*dh*10^-3;//material dispersion in ns when h=850nm\n",
"disp(t,'material dispersion in ns when h=850nm')\n",
"disp('part (b)')\n",
"h=1300;//WAVELENGTH IN NANO METER\n",
"l=80;//fiber length in Km\n",
"dh=2;//in Nano Meter\n",
"m1=105.5;//material dispersion for h=850nm in ps/nm-Km\n",
"m2=2.8;//material dispersion for h=1300nm in ps/nm-Km\n",
"t=m2*l*dh*10^-3;//material dispersion in ns when h=850nm\n",
"disp(t,'material dispersion in ns when h=1300nm')"
   ]
   }
],
"metadata": {
		  "kernelspec": {
		   "display_name": "Scilab",
		   "language": "scilab",
		   "name": "scilab"
		  },
		  "language_info": {
		   "file_extension": ".sce",
		   "help_links": [
			{
			 "text": "MetaKernel Magics",
			 "url": "https://github.com/calysto/metakernel/blob/master/metakernel/magics/README.md"
			}
		   ],
		   "mimetype": "text/x-octave",
		   "name": "scilab",
		   "version": "0.7.1"
		  }
		 },
		 "nbformat": 4,
		 "nbformat_minor": 0
}
