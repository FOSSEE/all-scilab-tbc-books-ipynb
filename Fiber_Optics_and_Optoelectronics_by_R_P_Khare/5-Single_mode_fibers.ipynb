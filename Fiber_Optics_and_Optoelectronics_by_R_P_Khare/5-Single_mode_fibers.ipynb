{
"cells": [
 {
		   "cell_type": "markdown",
	   "metadata": {},
	   "source": [
       "# Chapter 5: Single mode fibers"
	   ]
	},
{
		   "cell_type": "markdown",
		   "metadata": {},
		   "source": [
			"## Example 5.1: w_and_wp.sce"
		   ]
		  },
  {
"cell_type": "code",
	   "execution_count": null,
	   "metadata": {
	    "collapsed": true
	   },
	   "outputs": [],
"source": [
"// Example 5.1:w and wp\n",
"clc;\n",
"clear;\n",
"close;\n",
"format('v',7)\n",
"n=1.46;//core refractive index\n",
"d=0.003;//differnce in core-cladding refrative index\n",
"a=4;//core radius in micro meter\n",
"h1=1.30;// inmicro meter\n",
"h2=1.55;//in micro meter\n",
"v1=((2*%pi*(a*10^-6))*n*sqrt(2*(d)))/(h1*10^-6);//normalised frequency parameter\n",
"v2=((2*%pi*(a*10^-6))*n*sqrt(2*(d)))/(h2*10^-6);//normalised frequency parameter\n",
"w1=(a*10^-6)*(0.65+((1.619)/(v1)^(3/2))+(2.879/(v1)^6));//in meter\n",
"wp1=w1-(a*10^-6)*(0.016+((1.567)/(v1)^7));//in micro meter\n",
"w2=(a*10^-6)*(0.65+((1.619)/(v2)^(3/2))+(2.879/(v2)^6));//in meter\n",
"wp2=w2-(a*10^-6)*(0.016+((1.567)/(v2)^7));//in micro meter\n",
"disp(' w is '+string(w1*10^6)+' and wp is '+string(wp1*10^6)+' in micro meter when wavelength is 1.30 micro meter')\n",
"disp(' w is '+string(w2*10^6)+' and wp is '+string(wp2*10^6)+' in micro meter when wavelength is 1.55 micro meter')"
   ]
   }
,
{
		   "cell_type": "markdown",
		   "metadata": {},
		   "source": [
			"## Example 5.2: difference_between_propogation_constant_and_modal_birefringence.sce"
		   ]
		  },
  {
"cell_type": "code",
	   "execution_count": null,
	   "metadata": {
	    "collapsed": true
	   },
	   "outputs": [],
"source": [
"// Example 5.2;//difference between propogation constant and modal birefringence\n",
"clc;\n",
"clear;\n",
"close;\n",
"format('v',6)\n",
"disp('part (a)')\n",
"bl=10;//beat length in cm\n",
"h=1;//in micro meter\n",
"db=((2*%pi)/(bl*10^-2));//in m^-1\n",
"disp(db,'difference between propogation constant in m^-1')\n",
"disp('part (b)')\n",
"format('v',8)\n",
"mb=db*((h*10^-6)/(2*%pi));//modal birefringence\n",
"disp(mb,'modal birefringence is')\n",
"//answer is approximately equal to the answer in the book"
   ]
   }
,
{
		   "cell_type": "markdown",
		   "metadata": {},
		   "source": [
			"## Example 5.3: waveguide_dispersion_parameter.sce"
		   ]
		  },
  {
"cell_type": "code",
	   "execution_count": null,
	   "metadata": {
	    "collapsed": true
	   },
	   "outputs": [],
"source": [
"// Example 5.3:waveguide dispersion factor\n",
"clc;\n",
"clear;\n",
"close;\n",
"format('v',6)\n",
"n=1.45;//core refractive index\n",
"d=0.003;//differnce in core-cladding refrative index\n",
"n2=1.45*(1-d);//cladding refractive index\n",
"d1=8.2;//core diameter in micro meter\n",
"a=d1/2;//core radius in micro meter\n",
"h1=1.30;// inmicro meter\n",
"h2=1.55;//in micro meter\n",
"v1=(2*%pi*a*n*sqrt(2*d))/h1;//normalised frequency parameter\n",
"v2=((2*%pi*(a))*n*sqrt(2*(d)))/(h2);//normalised frequency parameter\n",
"v1dv=0.080+0.549*(2.834-v1)^2;//\n",
"v2dv=0.080+0.549*(2.834-v2)^2;//\n",
"c=3*10^8;// in m/s\n",
"dw1=-((n2*d*v1dv)/(c*h1))*10^12;//waveguide dispersion factor in ps nm^-1 km^-1\n",
"dw2=-((n2*d*v2dv)/(c*h2))*10^12;//waveguide dispersion factor in ps nm^-1 km^-1\n",
"disp(' waveguide dispersion factor is '+string(dw1)+'  in ps nm^-1 km^-1 at wavelength 1.3 micro meter')\n",
"disp(' waveguide dispersion factor is '+string(dw2)+'  in ps nm^-1 km^-1 at wavelength 1.55 micro meter')"
   ]
   }
,
{
		   "cell_type": "markdown",
		   "metadata": {},
		   "source": [
			"## Example 5.4: diameter_of_core_and_total_dispersion.sce"
		   ]
		  },
  {
"cell_type": "code",
	   "execution_count": null,
	   "metadata": {
	    "collapsed": true
	   },
	   "outputs": [],
"source": [
"// Example 5.4:diameter of the core\n",
"clc;\n",
"clear;\n",
"close;\n",
"format('v',4)\n",
"c=3*10^8;//in m/s\n",
"dm=6;//material dispersion in ps nm^-1 km^-1\n",
"h=1.55;//in micro meter\n",
"n1=1.45;//core refrative index\n",
"d=0.005;//differnce\n",
"n2=n1*(1-d);//cladding refrative index\n",
"x=((-dm/(((-n2*d)/(c*h))*10^12))-0.080)/0.549;//\n",
"v=-(sqrt(x)-2.834);//\n",
"d=((v*h)/(%pi*n1*sqrt(2*d)));//diameter in micro meter\n",
"disp(d,'diameter of the core in micro meter')"
   ]
   }
,
{
		   "cell_type": "markdown",
		   "metadata": {},
		   "source": [
			"## Example 5.5: splice_loss.sce"
		   ]
		  },
  {
"cell_type": "code",
	   "execution_count": null,
	   "metadata": {
	    "collapsed": true
	   },
	   "outputs": [],
"source": [
"// Example 5.5:splice loss\n",
"clc;\n",
"clear;\n",
"close;\n",
"format('v',5)\n",
"h1=1.30;//in micro meter\n",
"wp1=4.6155;//in micro meter\n",
"h2=1.55;//in micro meter\n",
"wp2=5.355;//in micro meter\n",
"sl1=4.34*(1/wp1)^2;//splice loss in dB\n",
"sl2=4.34*(1/wp2)^2;//splice loss in dB\n",
"disp(sl1,'splice loss in dB when wavelength is 1.30 micro meter')\n",
"disp(sl2,'splice loss in dB when wavelength is 1.55 micro meter')"
   ]
   }
],
"metadata": {
		  "kernelspec": {
		   "display_name": "Scilab",
		   "language": "scilab",
		   "name": "scilab"
		  },
		  "language_info": {
		   "file_extension": ".sce",
		   "help_links": [
			{
			 "text": "MetaKernel Magics",
			 "url": "https://github.com/calysto/metakernel/blob/master/metakernel/magics/README.md"
			}
		   ],
		   "mimetype": "text/x-octave",
		   "name": "scilab",
		   "version": "0.7.1"
		  }
		 },
		 "nbformat": 4,
		 "nbformat_minor": 0
}
