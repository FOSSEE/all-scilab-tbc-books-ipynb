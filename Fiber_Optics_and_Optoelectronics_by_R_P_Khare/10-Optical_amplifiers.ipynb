{
"cells": [
 {
		   "cell_type": "markdown",
	   "metadata": {},
	   "source": [
       "# Chapter 10: Optical amplifiers"
	   ]
	},
{
		   "cell_type": "markdown",
		   "metadata": {},
		   "source": [
			"## Example 10.1: refractive_index_and_spectral_bandwidth.sce"
		   ]
		  },
  {
"cell_type": "code",
	   "execution_count": null,
	   "metadata": {
	    "collapsed": true
	   },
	   "outputs": [],
"source": [
"//Example 10.1;refractive index and bandwidth\n",
"clc;\n",
"clear;\n",
"close;\n",
"//given data :\n",
"format('v',5)\n",
"lamda=1.55*10^-6;// in m\n",
"del_lamda=1*10^-9;// in m\n",
"L=320*10^-6;// in m\n",
"n=(lamda)^2/(2*del_lamda*L);\n",
"Gs=10^(5/10);// 5 dB is equivalent to 3.16\n",
"R1=30/100;\n",
"R2=R1;\n",
"c=3*10^8;// in m/s\n",
"del_v=(c/(%pi*n*L))*asin((1-(Gs*sqrt(R1*R2)))/(sqrt(4*Gs*sqrt(R1*R2))));\n",
"disp(n,'refrative index is')\n",
"format('v',6)\n",
"disp(del_v*10^-9,'spectral bandwidth in GHz is')\n",
"//bandwidth is calculated wrong in the textbook"
   ]
   }
,
{
		   "cell_type": "markdown",
		   "metadata": {},
		   "source": [
			"## Example 10.2: small_signal_gain_and_maximum_possible_achievable_gain.sce"
		   ]
		  },
  {
"cell_type": "code",
	   "execution_count": null,
	   "metadata": {
	    "collapsed": true
	   },
	   "outputs": [],
"source": [
"//Example 10.2;small-signal gain of EDFA and maximum pssible achievable gain\n",
"clc;\n",
"clear;\n",
"close;\n",
"ts=0.80;//\n",
"sa=4.6444*10^-25;//in m^2\n",
"n12=6*10^24;//m^-3\n",
"se=4.644*10^-25;//m^2\n",
"n21=0.70;//\n",
"l=7;//in meter\n",
"x=((sa*n12*l*(((se/sa)+1)*n21-1)));//\n",
"G=ts*exp(x);//\n",
"Gdb=10*log10(G);//\n",
"Gmax=exp(se*n12*l);//\n",
"Gmaxdb=10*log10(Gmax);//\n",
"disp(Gdb,'small signal gain of EDFA in dB is')\n",
"disp(Gmaxdb,'maximum possible achievable gain in dB is')"
   ]
   }
,
{
		   "cell_type": "markdown",
		   "metadata": {},
		   "source": [
			"## Example 10.3: output_signal_power_and_overall_gain.sce"
		   ]
		  },
  {
"cell_type": "code",
	   "execution_count": null,
	   "metadata": {
	    "collapsed": true
	   },
	   "outputs": [],
"source": [
"//Example 10.3;output signal power and overall gain\n",
"clc;\n",
"clear;\n",
"close;\n",
"format('v',6)\n",
"disp('part (a)')\n",
"psin=1*10^-6;//in watts\n",
"ppin=1;//in watts\n",
"gr=5*10^-14;//mW^-1\n",
"ap1=60*10^-12;//m^2\n",
"l=2000;//meter\n",
"asdb=0.15;//dB/km\n",
"as=3.39*10^-5;//m^-1\n",
"apdb=0.20;//db/km\n",
"ap=4.50*10^-5;//m^-1\n",
"z=(1-exp(-ap*l))/ap;//\n",
"y=(gr/ap1);//\n",
"y1=z*y;//\n",
"y2=y1-(as*l);//\n",
"psl=psin*exp(y2);//\n",
"disp(psl*10^6,'output signal power for forward pumping in micro Watt is')\n",
"format('v',5)\n",
"disp('part (b)')\n",
"y1=z*y;//\n",
"y2=y1-(as*l);//\n",
"psl=psin*exp(y2);//\n",
"gfra=psl/(psin);//\n",
"Gdb=10*log10(gfra);//\n",
"disp(Gdb,'overall gain in dB is')"
   ]
   }
],
"metadata": {
		  "kernelspec": {
		   "display_name": "Scilab",
		   "language": "scilab",
		   "name": "scilab"
		  },
		  "language_info": {
		   "file_extension": ".sce",
		   "help_links": [
			{
			 "text": "MetaKernel Magics",
			 "url": "https://github.com/calysto/metakernel/blob/master/metakernel/magics/README.md"
			}
		   ],
		   "mimetype": "text/x-octave",
		   "name": "scilab",
		   "version": "0.7.1"
		  }
		 },
		 "nbformat": 4,
		 "nbformat_minor": 0
}
