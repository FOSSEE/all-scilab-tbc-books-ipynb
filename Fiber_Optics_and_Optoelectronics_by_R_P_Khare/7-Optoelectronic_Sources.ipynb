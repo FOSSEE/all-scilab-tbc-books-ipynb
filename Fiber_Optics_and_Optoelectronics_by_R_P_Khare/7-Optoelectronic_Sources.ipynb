{
"cells": [
 {
		   "cell_type": "markdown",
	   "metadata": {},
	   "source": [
       "# Chapter 7: Optoelectronic Sources"
	   ]
	},
{
		   "cell_type": "markdown",
		   "metadata": {},
		   "source": [
			"## Example 7.1: intrinsic_carrier_density.sce"
		   ]
		  },
  {
"cell_type": "code",
	   "execution_count": null,
	   "metadata": {
	    "collapsed": true
	   },
	   "outputs": [],
"source": [
"//Example 7.1: Intrinsic carrier\n",
"clc;\n",
"clear;\n",
"close;\n",
"//given data :\n",
"format('v',9)\n",
"m=9.11*10^-31;// in kg\n",
"k=1.38*10^-23;// in JK^-1\n",
"h=6.626*10^-34;// in Js\n",
"ev=1.6*10^-19;// in J\n",
"T=300;// in K\n",
"me=0.07*m;// in kg\n",
"mh=0.56*m;// in kg\n",
"Eg=1.43*ev;// in J\n",
"ni=2*((2*%pi*k*T)/h^2)^(3/2)*(me*mh)^(3/4)*exp(-Eg/(2*k*T));\n",
"disp(ni,'Intrinsic carrier concentration ,ni(m^-3) = ')"
   ]
   }
,
{
		   "cell_type": "markdown",
		   "metadata": {},
		   "source": [
			"## Example 7.2: diffusion_potential.sce"
		   ]
		  },
  {
"cell_type": "code",
	   "execution_count": null,
	   "metadata": {
	    "collapsed": true
	   },
	   "outputs": [],
"source": [
"//Example 7.2: Diffusion potential\n",
"clc;\n",
"clear;\n",
"close;\n",
"format('v',6)\n",
"//given data :\n",
"Na=5*10^23;// in m^-3\n",
"Nd=5*10^21;// in m^-3\n",
"T=300;// in K\n",
"e=1.6*10^-19;// in J\n",
"k=1.38*10^-23;// in JK^-1\n",
"V=(k*T)/e;\n",
"ni=2.2*10^12;// in m^-3\n",
"Vd=V*log((Na*Nd)/ni^2);\n",
"disp(Vd,'Diffusion potential,Vd(V) = ')"
   ]
   }
,
{
		   "cell_type": "markdown",
		   "metadata": {},
		   "source": [
			"## Example 7.3: injection_efficiency.sce"
		   ]
		  },
  {
"cell_type": "code",
	   "execution_count": null,
	   "metadata": {
	    "collapsed": true
	   },
	   "outputs": [],
"source": [
"//Example 7.3: Injection efficiency\n",
"clc;\n",
"clear;\n",
"close;\n",
"format('v',7)\n",
"//given data :\n",
"Na=10^23;// in m^-3\n",
"Nd=10^21;// in m^-3\n",
"T=300;// in K\n",
"e=1.6*10^-19;// in J\n",
"k=1.38*10^-23;// in JK^-1\n",
"mue=0.85;// in m^2V^-1s^-1\n",
"muh=0.04;// in m^2V^-1s^-1\n",
"De=(mue*k*T)/e;// in m^2s^-1\n",
"Dh=(muh*k*T)/e;// in m^2s^-1\n",
"Le=1;\n",
"Lh=Le;\n",
"eta_inj=1/(1+((De/Dh)*(Lh/Le)*(Nd/Na)));\n",
"disp(eta_inj,'Injection efficiency,eta_inj = ')"
   ]
   }
,
{
		   "cell_type": "markdown",
		   "metadata": {},
		   "source": [
			"## Example 7.4: internal_and_quantum_efficiency.sce"
		   ]
		  },
  {
"cell_type": "code",
	   "execution_count": null,
	   "metadata": {
	    "collapsed": true
	   },
	   "outputs": [],
"source": [
"//Example 7.4: Internal and quantum efficiency\n",
"clc;\n",
"clear;\n",
"close;\n",
"//given data :\n",
"format('v',4)\n",
"disp('part (a)')\n",
"tau_rr=1;\n",
"tau_nr=tau_rr;\n",
"eta_int=1/(1+(tau_rr/tau_nr));\n",
"disp(eta_int,'Internal quantum efficiency = ')\n",
"disp('part (b)')\n",
"format('v',7)\n",
"ns=3.7;\n",
"na=1.5;\n",
"as=0;\n",
"eta_ext=eta_int*(1-as)*((2*na^3)/(ns*(ns+na)^2));\n",
"disp(eta_ext,'External quantum efficiency = ')"
   ]
   }
,
{
		   "cell_type": "markdown",
		   "metadata": {},
		   "source": [
			"## Example 7.5: number_of_longitudinal_modes.sce"
		   ]
		  },
  {
"cell_type": "code",
	   "execution_count": null,
	   "metadata": {
	    "collapsed": true
	   },
	   "outputs": [],
"source": [
"//Example 7.5: The number of longitudinal modes excited\n",
"clc;\n",
"clear;\n",
"close;\n",
"format('e',10)\n",
"//given data :\n",
"lamda=632.8*10^-9;// in m\n",
"n=1;\n",
"L=20*10^-2;// in m\n",
"del_lamda=((lamda)^2/(2*n*L))*10^9;\n",
"disp(del_lamda,'The number of longitudinal modes excited,(nm) = ')"
   ]
   }
,
{
		   "cell_type": "markdown",
		   "metadata": {},
		   "source": [
			"## Example 7.6: The_reduction_and_Differential_quantum_efficiency.sce"
		   ]
		  },
  {
"cell_type": "code",
	   "execution_count": null,
	   "metadata": {
	    "collapsed": true
	   },
	   "outputs": [],
"source": [
"//Example 7.6: The reduction and Differential quantum efficiency\n",
"clc;\n",
"clear;\n",
"close;\n",
"//given data :\n",
"format('v',5)\n",
"disp('part (a)')\n",
"alfa_eff=1.5;// in mm^-1\n",
"gama=0.8;\n",
"L=0.5;// in mm\n",
"R1=0.35;\n",
"R2=R1;\n",
"R2a=1.0;\n",
"g_th1=(1/gama)*(alfa_eff+(1/(2*L))*log(1/(R1*R2)));\n",
"g_th2=(1/gama)*(alfa_eff+(1/(2*L))*log(1/(R1*R2a)));\n",
"del_gth=g_th1-g_th2;\n",
"disp(del_gth,'The reduction in threshold gain ,(mm^-1) = ')\n",
"disp('part (b)')\n",
"eta_D=(gama*(g_th2-alfa_eff))/(g_th2);\n",
"disp(eta_D,'Differential quantum efficiency =  ')"
   ]
   }
,
{
		   "cell_type": "markdown",
		   "metadata": {},
		   "source": [
			"## Example 7.7: Internal_and_external_power_efficiency.sce"
		   ]
		  },
  {
"cell_type": "code",
	   "execution_count": null,
	   "metadata": {
	    "collapsed": true
	   },
	   "outputs": [],
"source": [
"//Example 7.7: Internal and external power efficiency\n",
"clc;\n",
"clear;\n",
"close;\n",
"//given data :\n",
"disp('part (a)')\n",
"as=0;//\n",
"ns=3.7;// assuming that the example 7.4\n",
"eta_int=0.50;// internal efficiency\n",
"V=1.5;// in V\n",
"I=120*10^-3;// in A\n",
"IBYe=120*10^-3;// \n",
"Eph=1.43;// in eV\n",
"eta_int=0.50;// internal efficiency\n",
"fi_int=eta_int*IBYe*Eph;\n",
"t_power=I*V;\n",
"P_int=fi_int/t_power;\n",
"disp(P_int,'The internal power efficiency = ')\n",
"disp('part (b)')\n",
"format('v',6)\n",
"eta_ext=eta_int*(1-as)*2/(ns*(ns+1)^2);\n",
"fi_ext=eta_ext*IBYe*Eph;\n",
"t_power=I*V;\n",
"P_ext=fi_ext/t_power;\n",
"disp(P_ext,'The external power efficiency = ')\n",
"disp('part (c)')\n",
"format('e',9)\n",
"V=1.5;// in V\n",
"I=120*10^-3;// in A\n",
"IBYe=120*10^-3;// \n",
"Eph=1.43;// in eV\n",
"n1=1.5;\n",
"n2=1.48;\n",
"na=n1;\n",
"eta_ext=0.0337;\n",
"eta_T=eta_ext*((n1^2-n2^2)/na^2);\n",
"fi_T=eta_T*IBYe*Eph;\n",
"t_power=I*V;\n",
"sfpc=fi_T/t_power;\n",
"O_loss=-10*log10(sfpc);\n",
"disp(sfpc,'The overall source fiber power coupling efficiency  = ')\n",
"format('v',5)\n",
"disp(O_loss,'The optical loss,(dB) = ')"
   ]
   }
],
"metadata": {
		  "kernelspec": {
		   "display_name": "Scilab",
		   "language": "scilab",
		   "name": "scilab"
		  },
		  "language_info": {
		   "file_extension": ".sce",
		   "help_links": [
			{
			 "text": "MetaKernel Magics",
			 "url": "https://github.com/calysto/metakernel/blob/master/metakernel/magics/README.md"
			}
		   ],
		   "mimetype": "text/x-octave",
		   "name": "scilab",
		   "version": "0.7.1"
		  }
		 },
		 "nbformat": 4,
		 "nbformat_minor": 0
}
