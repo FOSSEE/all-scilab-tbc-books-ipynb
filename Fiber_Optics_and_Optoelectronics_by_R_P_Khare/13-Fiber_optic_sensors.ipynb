{
"cells": [
 {
		   "cell_type": "markdown",
	   "metadata": {},
	   "source": [
       "# Chapter 13: Fiber optic sensors"
	   ]
	},
{
		   "cell_type": "markdown",
		   "metadata": {},
		   "source": [
			"## Example 13.1: plot_the_graph.sce"
		   ]
		  },
  {
"cell_type": "code",
	   "execution_count": null,
	   "metadata": {
	    "collapsed": true
	   },
	   "outputs": [],
"source": [
"//Example 13.1: plot\n",
"clc;\n",
"clear;\n",
"close;\n",
"lod=[0;20;40;60;80;100;160];//in micro meter\n",
"slong=[1.0;0.95;0.92;0.89;0.86;0.83;0.80];//\n",
"lad=[0;10;20;30;40;50;60;70;80;90;100];//in micro meter\n",
"slat=[0;0.1;0.2;0.3;0.4;0.5;0.6;0.7;0.8;0.9;1.0];//\n",
"add=[0;1;2;3;4;5;6;7;8;9;10];//\n",
"sang=[0;0.5;0.6;0.7;0.8;0.9;1.0;1.1;.12];//\n",
"t=0:20:200;\n",
"s1=1.0:-0.03:0.7;//\n",
"subplot(131)\n",
"plot(t,s1);//\n",
"xtitle('Variation of Slong as a function of Δ x (with Δy=0 and Δθ=0) ')\n",
"xlabel('Longitudinal displacement Δ x (micro meter)')\n",
"ylabel('Slong (normalised)')\n",
"t1=0:10:100;\n",
"s2=1:-0.1:0;//\n",
"subplot(132)\n",
"plot(t1,s2);//\n",
"xtitle('Variation of Slat as a function of Δ y (with Δx=0 and Δθ=0) ')\n",
"xlabel('Lateral displacement Δ y (micro meter)')\n",
"ylabel('Slat (normalised)')\n",
"t2=0:1:10;\n",
"s3=1.0:-0.03:0.7;//\n",
"subplot(133)\n",
"plot(t2,s3);//\n",
"xtitle('Variation of Sang as a function of Δ θ (with Δx=0 and Δy=0) ')\n",
"xlabel('Angular displacement Δ θ (deg)')\n",
"ylabel('Sang (normalised)')"
   ]
   }
,
{
		   "cell_type": "markdown",
		   "metadata": {},
		   "source": [
			"## Example 13.2: phase_change_per_unit_length.sce"
		   ]
		  },
  {
"cell_type": "code",
	   "execution_count": null,
	   "metadata": {
	    "collapsed": true
	   },
	   "outputs": [],
"source": [
"//Example 13.2: phase change\n",
"clc;\n",
"clear;\n",
"close;\n",
"format('v',6)\n",
"//given data :\n",
"n=1.45;// index of core\n",
"a=10^-5;// in C^-1\n",
"b=5.1*10^-7;// in C^-1\n",
"lamda=.633*10^-6;// in m\n",
"// formula:- (1/L)*(del_fi/del_T)=((2*PI)/lamda)[(n/L)*(del_L/del_T)+(del_n/del_T)]\n",
"//let we assume a=del_n/del_T, b=(1/L)*(del_L/del_T), c=(1/L)*(del_fi/del_T)\n",
"c=((2*%pi)/lamda)*((n*b)+a);\n",
"disp(c,'phase change,(rad/m°C) = ')"
   ]
   }
,
{
		   "cell_type": "markdown",
		   "metadata": {},
		   "source": [
			"## Example 13.3: phase_shift.sce"
		   ]
		  },
  {
"cell_type": "code",
	   "execution_count": null,
	   "metadata": {
	    "collapsed": true
	   },
	   "outputs": [],
"source": [
"//Example 13.3: phase shift\n",
"clc;\n",
"clear;\n",
"close;\n",
"//given data :\n",
"format('e',9)\n",
"L=500;// in m\n",
"D=0.1;//in m\n",
"ohm=7.3*10^-5;// in rad s^-1\n",
"lamda=0.85*10^-6;// in m\n",
"c=3*10^8;// in m/s\n",
"del_fi=(2*%pi*L*D*ohm)/(c*lamda);\n",
"disp(del_fi,'phase shift,del_fi(rad) = ')"
   ]
   }
],
"metadata": {
		  "kernelspec": {
		   "display_name": "Scilab",
		   "language": "scilab",
		   "name": "scilab"
		  },
		  "language_info": {
		   "file_extension": ".sce",
		   "help_links": [
			{
			 "text": "MetaKernel Magics",
			 "url": "https://github.com/calysto/metakernel/blob/master/metakernel/magics/README.md"
			}
		   ],
		   "mimetype": "text/x-octave",
		   "name": "scilab",
		   "version": "0.7.1"
		  }
		 },
		 "nbformat": 4,
		 "nbformat_minor": 0
}
