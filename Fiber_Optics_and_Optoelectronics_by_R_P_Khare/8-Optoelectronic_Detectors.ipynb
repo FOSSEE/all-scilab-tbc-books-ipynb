{
"cells": [
 {
		   "cell_type": "markdown",
	   "metadata": {},
	   "source": [
       "# Chapter 8: Optoelectronic Detectors"
	   ]
	},
{
		   "cell_type": "markdown",
		   "metadata": {},
		   "source": [
			"## Example 8.1: wavelength_and_optical_power_and.sce"
		   ]
		  },
  {
"cell_type": "code",
	   "execution_count": null,
	   "metadata": {
	    "collapsed": true
	   },
	   "outputs": [],
"source": [
"//Example 8.1: The photon energy and optical power\n",
"clc;\n",
"clear;\n",
"close;\n",
"//given data :\n",
"format('v',5)\n",
"disp('part (a)')\n",
"h=6.626*10^-34;// in Js\n",
"c=3*10^8;// in ms^-1\n",
"E=1.52*10^-19;// in J\n",
"lamda=((h*c)/E)*10^6;\n",
"disp(lamda,'The photon energy,(micro-m) = ')\n",
"disp('part (b)')\n",
"e=1.6*10^-19;// in J\n",
"Ip=3*10^6;// in A\n",
"E=1.52*10^-19;// in J\n",
"eta=70/100;\n",
"R=(eta*e)/E;\n",
"P_in=(Ip/R)*10^-6;\n",
"disp(P_in,'The optical power,(micro W)')"
   ]
   }
,
{
		   "cell_type": "markdown",
		   "metadata": {},
		   "source": [
			"## Example 8.2: quantum_efficiency_maximum_possible_band_gap_energy_and_photocurrent.sce"
		   ]
		  },
  {
"cell_type": "code",
	   "execution_count": null,
	   "metadata": {
	    "collapsed": true
	   },
	   "outputs": [],
"source": [
"//Example 8.2: The quantum efficiency,Maximum possible band gap energy and mean output\n",
"clc;\n",
"clear;\n",
"close;\n",
"//given data :\n",
"disp('part (a)')\n",
"format('v',5)\n",
"e=1;// electron\n",
"p=2;// photon\n",
"eta=(e/p)*100;\n",
"disp(eta,'The quantum efficiency,eta(%) = ')\n",
"disp('part (b)')\n",
"h=6.626*10^-34;//in Js\n",
"c=3*10^8;// in m s^-1\n",
"lamda_c=0.85*10^-6;// in m\n",
"Eg=((h*c)/lamda_c)/1.6*10^19;\n",
"disp(Eg,'Maximum possible band gap energy,Eg(eV) = ')\n",
"disp('part (c)')\n",
"e=1;// electron\n",
"p=2;// photon\n",
"eta=(e/p);\n",
"e=1.6*10^-19;// in J\n",
"h=6.626*10^-34;//in Js\n",
"c=3*10^8;// in m s^-1\n",
"lamda_c=0.85*10^-6;// in m\n",
"Eg=((h*c)/lamda_c);\n",
"P_in=10*10^-6;// in W\n",
"Ip=((eta*e*P_in)/Eg)*10^6;\n",
"disp(Ip,'The mean output,Ip(micro A) = ')"
   ]
   }
,
{
		   "cell_type": "markdown",
		   "metadata": {},
		   "source": [
			"## Example 8.3: quantum_efficiency_and_responsivity.sce"
		   ]
		  },
  {
"cell_type": "code",
	   "execution_count": null,
	   "metadata": {
	    "collapsed": true
	   },
	   "outputs": [],
"source": [
"//Example 8.3: The quantum efficiency and The responsivity of the diode\n",
"clc;\n",
"clear;\n",
"close;\n",
"//given data :\n",
"format('v',5)\n",
"disp('part (a)')\n",
"e=2*10^10;// in s^-1\n",
"p=5*10^10;// in s^-1\n",
"eta=e/p;\n",
"disp(eta,'The quantum efficiency  = ')\n",
"disp('part (b)')\n",
"e=2*10^10;// in s^-1\n",
"p=5*10^10;// in s^-1\n",
"eta=e/p;\n",
"e=1.6*10^-19;// in J\n",
"h=6.626*10^-34;//in Js\n",
"c=3*10^8;// in m s^-1\n",
"lamda=0.90*10^-6;// in m\n",
"R=(eta*e*lamda)/(h*c);\n",
"disp(R,'The responsivity of the diode,R(AW^-1) = ')"
   ]
   }
,
{
		   "cell_type": "markdown",
		   "metadata": {},
		   "source": [
			"## Example 8.4: multiplication_factor.sce"
		   ]
		  },
  {
"cell_type": "code",
	   "execution_count": null,
	   "metadata": {
	    "collapsed": true
	   },
	   "outputs": [],
"source": [
"//Example 8.4: The multiplication\n",
"clc;\n",
"clear;\n",
"close;\n",
"format('v',5)\n",
"//given data :\n",
"eta=40/100;//\n",
"e=1.6*10^-19;// in J\n",
"h=6.626*10^-34;//in Js\n",
"c=3*10^8;// in m s^-1\n",
"lamda=1.3*10^-6;// in m\n",
"P_in=0.3*10^-6;// in W\n",
"I=6*10^-6;// in A\n",
"M=(I*h*c)/(P_in*eta*e*lamda);\n",
"disp(M,'The multiplication factor,M = ')"
   ]
   }
,
{
		   "cell_type": "markdown",
		   "metadata": {},
		   "source": [
			"## Example 8.5: incident_rate_of_photon.sce"
		   ]
		  },
  {
"cell_type": "code",
	   "execution_count": null,
	   "metadata": {
	    "collapsed": true
	   },
	   "outputs": [],
"source": [
"//Example 8.5: Photon rate\n",
"clc;\n",
"clear;\n",
"close;\n",
"//given data :\n",
"format('v',9)\n",
"e=1.6*10^-19;// in J\n",
"M=800;\n",
"eta=90/100;// quantum efficiency\n",
"I=2*10^-9;// in A\n",
"P_rate=I/(e*eta*M);\n",
"disp(P_rate,'Photon incident rate(s^-1) = ')"
   ]
   }
,
{
		   "cell_type": "markdown",
		   "metadata": {},
		   "source": [
			"## Example 8.6: gain_and_photocurrent.sce"
		   ]
		  },
  {
"cell_type": "code",
	   "execution_count": null,
	   "metadata": {
	    "collapsed": true
	   },
	   "outputs": [],
"source": [
"//Example 8.6: Gain and The output photocurrent\n",
"clc;\n",
"clear;\n",
"close;\n",
"//given data :\n",
"format('v',6)\n",
"disp('part (a)')\n",
"tf=6*10^-12;// in s\n",
"del_f=450*10^6;// in Hz\n",
"G=1/(2*%pi*tf*del_f);\n",
"disp(G,'the gain = ')\n",
"disp('part (b)')\n",
"format('e',10)\n",
"tf=6*10^-12;// in s\n",
"del_f=450*10^6;// in Hz\n",
"G=1/(2*%pi*tf*del_f);\n",
"eta=75/100;\n",
"P_in=5*10^-6;// in W\n",
"e=1.6*10^-19;// in J\n",
"lamda=1.3*10^-6;\n",
"h=6.626*10^-34;//in Js\n",
"c=3*10^8;// in m s^-1\n",
"I=(G*eta*P_in*e*lamda)/(h*c);\n",
"disp(I,'The output photo-current,I(A)')"
   ]
   }
,
{
		   "cell_type": "markdown",
		   "metadata": {},
		   "source": [
			"## Example 8.7: EX8_7.sce"
		   ]
		  },
  {
"cell_type": "code",
	   "execution_count": null,
	   "metadata": {
	    "collapsed": true
	   },
	   "outputs": [],
"source": [
"//Example 8.7: rms value of shot noise ,dark noise and thermal noise current and S/N ratio\n",
"clc;\n",
"clear;\n",
"close;\n",
"format('v',6)\n",
"disp('part (a)')\n",
"n=0.7;//efficiency\n",
"e=1.6*10^-19;//charge\n",
"h=1.3;//in micro meter\n",
"hc=6.626*10^-34;//plack constant\n",
"c=3*10^8;//m/s\n",
"pin=500;//nW\n",
"Ip=((n*e*h*10^-6*pin*10^-9)/(hc*c));//in amperes\n",
"df=25;//Mhz\n",
"f1=1;//\n",
"is2=(2*e*Ip*df*10^6*f1);//\n",
"is=sqrt(is2);//in amperes\n",
"Id=5*10^-9;//amperes\n",
"id2=(2*e*Id*df*10^6);//\n",
"id=sqrt(id2);//in amperes\n",
"k=1.38*10^-23;//\n",
"t=300;//in kelvin\n",
"rl=1000;//ohms\n",
"it2=((4*k*t*df*10^6)/rl);//\n",
"it=sqrt(it2);//in amperes\n",
"disp(is*10^9,'rms value of shot noise current is,(nA)=')\n",
"disp(id*10^9,'rms value of dark current is,(nA)=')\n",
"disp(it*10^9,'rms value of thermal noise current is,(nA)=')\n",
"format('v',4)\n",
"disp('part (b)')\n",
"n=0.7;//efficiency\n",
"e=1.6*10^-19;//charge\n",
"h=1.3;//in micro meter\n",
"hc=6.626*10^-34;//plack constant\n",
"c=3*10^8;//m/s\n",
"pin=500;//nW\n",
"Ip=((n*e*h*10^-6*pin*10^-9)/(hc*c));//in amperes\n",
"df=25;//Mhz\n",
"f1=1;//\n",
"is2=(2*e*Ip*df*10^6*f1);//\n",
"is=sqrt(is2);//in amperes\n",
"Id=5*10^-9;//amperes\n",
"id2=(2*e*Id*df*10^6);//\n",
"id=sqrt(id2);//in amperes\n",
"k=1.38*10^-23;//\n",
"t=300;//in kelvin\n",
"rl=1000;//ohms\n",
"it2=((4*k*t*df*10^6)/rl);//\n",
"it=sqrt(it2);//in amperes\n",
"itt2=is2+id2+it2;//in A^2\n",
"ip2=Ip^2;//\n",
"sn=ip2/itt2;//\n",
"disp(sn,'S/N ratio is')\n",
"//S/N ratio is calculated wrong in the textbook"
   ]
   }
],
"metadata": {
		  "kernelspec": {
		   "display_name": "Scilab",
		   "language": "scilab",
		   "name": "scilab"
		  },
		  "language_info": {
		   "file_extension": ".sce",
		   "help_links": [
			{
			 "text": "MetaKernel Magics",
			 "url": "https://github.com/calysto/metakernel/blob/master/metakernel/magics/README.md"
			}
		   ],
		   "mimetype": "text/x-octave",
		   "name": "scilab",
		   "version": "0.7.1"
		  }
		 },
		 "nbformat": 4,
		 "nbformat_minor": 0
}
