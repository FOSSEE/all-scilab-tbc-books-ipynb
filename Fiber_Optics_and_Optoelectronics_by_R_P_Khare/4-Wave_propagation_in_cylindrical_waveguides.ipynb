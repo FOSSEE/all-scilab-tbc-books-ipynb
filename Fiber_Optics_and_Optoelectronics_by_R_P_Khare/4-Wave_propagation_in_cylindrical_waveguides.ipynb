{
"cells": [
 {
		   "cell_type": "markdown",
	   "metadata": {},
	   "source": [
       "# Chapter 4: Wave propagation in cylindrical waveguides"
	   ]
	},
{
		   "cell_type": "markdown",
		   "metadata": {},
		   "source": [
			"## Example 4.1: normalised_frequency_propagation_constants_and_phase_velocity.sce"
		   ]
		  },
  {
"cell_type": "code",
	   "execution_count": null,
	   "metadata": {
	    "collapsed": true
	   },
	   "outputs": [],
"source": [
"//Example 4.1;//normalised frequency,propagation constants and phase velocity\n",
"clc;\n",
"clear;\n",
"close;\n",
"format('v',5)\n",
"disp('part (a)')\n",
"n1=1.46;//core refrative index\n",
"di=7.2;//core diameter \n",
"n=1.46;//core refrative index\n",
"d=1;//relative differnce\n",
"h=1.55 ;// in micro meter\n",
"v=((2*%pi*(di*10^-6)/2)*n*sqrt(2*(d/100)))/(h*10^-6);//normalised frequency parameter\n",
"disp(v,'normalised frequency parameter is')\n",
"disp('part (b)')\n",
"format('e',11)\n",
"b1=(2*%pi*n1)/(h*10^-6);// in m^-1\n",
"n2=n1-(d/100);//cladding refrative index\n",
"b2=(2*%pi*n2)/(h*10^-6);// in m^-1\n",
"bo1=0.82;//\n",
"b11=0.18;//\n",
"B01=(b2^2+(bo1*(b1^2-b2^2)))^(1/2);//\n",
"B11=(b2^2+(b11*(b1^2-b2^2)))^(1/2);//\n",
"disp('propogation constants are Bo1 '+string(B01)+' and B11 '+string(B11)+' ')\n",
"//propogation constants are  calculated wrong in the text bOOK\n",
"disp('part (c)')\n",
"format('e',9)\n",
"c=3*10^8;// in ms^-1\n",
"vp1=(2*%pi*c)/(h*10^-6*B01);//IN MS^-1\n",
"vp2=(2*%pi*c)/(h*10^-6*B11);//IN MS^-1\n",
"disp('phase velocity are (Vp)01  '+string(vp1)+' ms^-1 and (Vp)11 '+string(vp2)+' ms^-1 ')"
   ]
   }
,
{
		   "cell_type": "markdown",
		   "metadata": {},
		   "source": [
			"## Example 4.2: frational_power_propagation.sce"
		   ]
		  },
  {
"cell_type": "code",
	   "execution_count": null,
	   "metadata": {
	    "collapsed": true
	   },
	   "outputs": [],
"source": [
"//Example 4.2;//frational power\n",
"clc;\n",
"clear;\n",
"close;\n",
"format('v',4)\n",
"p01=0.11;//from the graph\n",
"p11=0.347;//from the graph\n",
"disp(p01*100,'power for LP01 mode is (%) ')\n",
"disp(p11*100,'power for LP11 mode is (%)' )"
   ]
   }
,
{
		   "cell_type": "markdown",
		   "metadata": {},
		   "source": [
			"## Example 4.3: normalised_frequency_parameters_and_number_of_modes.sce"
		   ]
		  },
  {
"cell_type": "code",
	   "execution_count": null,
	   "metadata": {
	    "collapsed": true
	   },
	   "outputs": [],
"source": [
"// Example 4.3:Number of the modes\n",
"clc;\n",
"clear;\n",
"close;\n",
"format('v',6)\n",
"h= 0.85;// Wavelenght in micrometers\n",
"a= 50;// Core radius in micrometers\n",
"NA=0.17;//\n",
"v1=(2*%pi*a*NA)/h;\n",
"m2= round((v1^2)/2);\n",
"disp(m2,'Number of modes')"
   ]
   }
,
{
		   "cell_type": "markdown",
		   "metadata": {},
		   "source": [
			"## Example 4.4: diameter.sce"
		   ]
		  },
  {
"cell_type": "code",
	   "execution_count": null,
	   "metadata": {
	    "collapsed": true
	   },
	   "outputs": [],
"source": [
"// Example 4.4:core diameter\n",
"clc;\n",
"clear;\n",
"close;\n",
"format('v',4)\n",
"d=0.02;//difference\n",
"n1=1.5;//core refrative index\n",
"m=1000;// number of modes\n",
"h= 1.3;// Wavelenght in micrometers\n",
"a=((h/(%pi*n1))*(m/d)^(1/2));//core diamter in micro meter\n",
"disp(a,'core diameter in micro meter')"
   ]
   }
,
{
		   "cell_type": "markdown",
		   "metadata": {},
		   "source": [
			"## Example 4.5: wavelength_and_diameter.sce"
		   ]
		  },
  {
"cell_type": "code",
	   "execution_count": null,
	   "metadata": {
	    "collapsed": true
	   },
	   "outputs": [],
"source": [
"// Example 4.5:core diameter\n",
"clc;\n",
"clear;\n",
"close;\n",
"format('v',5)\n",
"d=0.02;//difference\n",
"a1=75;//in micro meter\n",
"n1=1.45;//core refrative index\n",
"m=700;// number of modes\n",
"v=sqrt(4*m);//\n",
"h=((2*%pi*(a1/2)*n1*sqrt(2*(d/100)))/v);//in micro meter\n",
"vc=2.405*sqrt(2);//for single mode fiber\n",
"a=((vc*h)/(%pi*n1*sqrt(2*(d/100))));//core diamter in micro meter\n",
"disp(a,'maximum core diameter in micro meter')"
   ]
   }
],
"metadata": {
		  "kernelspec": {
		   "display_name": "Scilab",
		   "language": "scilab",
		   "name": "scilab"
		  },
		  "language_info": {
		   "file_extension": ".sce",
		   "help_links": [
			{
			 "text": "MetaKernel Magics",
			 "url": "https://github.com/calysto/metakernel/blob/master/metakernel/magics/README.md"
			}
		   ],
		   "mimetype": "text/x-octave",
		   "name": "scilab",
		   "version": "0.7.1"
		  }
		 },
		 "nbformat": 4,
		 "nbformat_minor": 0
}
