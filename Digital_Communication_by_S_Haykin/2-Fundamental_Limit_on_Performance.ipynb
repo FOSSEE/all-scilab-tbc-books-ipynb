{
"cells": [
 {
		   "cell_type": "markdown",
	   "metadata": {},
	   "source": [
       "# Chapter 2: Fundamental Limit on Performance"
	   ]
	},
{
		   "cell_type": "markdown",
		   "metadata": {},
		   "source": [
			"## Example 2.1: Entropy_of_Binary_Memoryless_source.sce"
		   ]
		  },
  {
"cell_type": "code",
	   "execution_count": null,
	   "metadata": {
	    "collapsed": true
	   },
	   "outputs": [],
"source": [
"//clear//\n",
"//Caption:Entropy of Binary Memoryless source\n",
"//Example 2.1: Entropy of Binary Memoryless Source\n",
"//page 18\n",
"clear;\n",
"close;\n",
"clc;\n",
"Po = 0:0.01:1;\n",
"H_Po = zeros(1,length(Po));\n",
"for i = 2:length(Po)-1\n",
"  H_Po(i) = -Po(i)*log2(Po(i))-(1-Po(i))*log2(1-Po(i));\n",
"end\n",
"//plot\n",
"plot2d(Po,H_Po)\n",
"xlabel('Symbol Probability, Po')\n",
"ylabel('H(Po)')\n",
"title('Entropy function H(Po)')\n",
"plot2d3('gnn',0.5,1)"
   ]
   }
,
{
		   "cell_type": "markdown",
		   "metadata": {},
		   "source": [
			"## Example 2.2: Second_order_Extension_of_Discrete_Memoryless_Source.sce"
		   ]
		  },
  {
"cell_type": "code",
	   "execution_count": null,
	   "metadata": {
	    "collapsed": true
	   },
	   "outputs": [],
"source": [
"//clear//\n",
"//caption:Second order Extension of Discrete Memoryless Source\n",
"//Example 2.2:Entropy of Discrete Memoryless source\n",
"//page 19\n",
"clear;\n",
"clc;\n",
"P0 = 1/4; //probability of source alphabet S0\n",
"P1 = 1/4; //probability of source alphabet S1\n",
"P2 = 1/2; //probability of source alphabet S2\n",
"H_Ruo = P0*log2(1/P0)+P1*log2(1/P1)+P2*log2(1/P2);\n",
"disp('Entropy of Discrete Memoryless Source')\n",
"disp('bits',H_Ruo)\n",
"//Second order Extension of discrete Memoryless source\n",
"P_sigma = [P0*P0,P0*P1,P0*P2,P1*P0,P1*P1,P1*P2,P2*P0,P2*P1,P2*P2];\n",
"disp('Table 2.1 Alphabet Particulars of Second-order Extension of a Discrete Memoryless Source')\n",
"disp('_________________________________________________________________________________')\n",
"disp('Sequence of Symbols of ruo2:')\n",
"disp('  S0*S0     S0*S1     S0*S2     S1*S0     S1*S1    S1*S2    S2*S0     S2*S1  S2*S2')\n",
"disp(P_sigma,'Probability p(sigma), i =0,1.....8')\n",
"disp('_________________________________________________________________________________')\n",
"disp('   ')\n",
"H_Ruo_Square =0;\n",
"for i = 1:length(P_sigma)\n",
"  H_Ruo_Square = H_Ruo_Square+P_sigma(i)*log2(1/P_sigma(i));\n",
"end\n",
"disp('bits', H_Ruo_Square,'H(Ruo_Square)=')\n",
"disp('H(Ruo_Square) = 2*H(Ruo)')"
   ]
   }
,
{
		   "cell_type": "markdown",
		   "metadata": {},
		   "source": [
			"## Example 2.3: Entropy.sce"
		   ]
		  },
  {
"cell_type": "code",
	   "execution_count": null,
	   "metadata": {
	    "collapsed": true
	   },
	   "outputs": [],
"source": [
"//clear//\n",
"//Caption:Entropy, Average length, Variance of Huffman Encoding \n",
"//Example 2.3: Huffman Encoding: Calculation of\n",
"// (a)Average code-word length 'L'\n",
"//(b)Entropy 'H'\n",
"clear;\n",
"clc;\n",
"P0 = 0.4; //probability of codeword '00'\n",
"L0 = 2;   //length of codeword S0\n",
"P1 = 0.2; //probability of codeword '10'\n",
"L1 = 2;   //length of codeword S1\n",
"P2 = 0.2; //probility of codeword '11'\n",
"L2 = 2;   //length of codeword S2\n",
"P3 = 0.1; //probility of codeword '010'\n",
"L3 = 3;   //length of codeword S3\n",
"P4 =0.1; //probility of codeword '011'\n",
"L4 = 3;   //length of codeword S4\n",
"L = P0*L0+P1*L1+P2*L2+P3*L3+P4*L4;\n",
"H_Ruo = P0*log2(1/P0)+P1*log2(1/P1)+P2*log2(1/P2)+P3*log2(1/P3)+P4*log2(1/P4);\n",
"disp('bits',L,'Average code-word Length L')\n",
"disp('bits',H_Ruo,'Entropy of Huffman coding result H')\n",
"disp('percent',((L-H_Ruo)/H_Ruo)*100,'Average code-word length L exceeds the entropy H(Ruo) by only')\n",
"sigma_1 = P0*(L0-L)^2+P1*(L1-L)^2+P2*(L2-L)^2+P3*(L3-L)^2+P4*(L4-L)^2;\n",
"disp(sigma_1,'Varinace of Huffman code')"
   ]
   }
,
{
		   "cell_type": "markdown",
		   "metadata": {},
		   "source": [
			"## Example 2.4: Entropy.sce"
		   ]
		  },
  {
"cell_type": "code",
	   "execution_count": null,
	   "metadata": {
	    "collapsed": true
	   },
	   "outputs": [],
"source": [
"//clear//\n",
"//Caption:Entropy, Average length, Variance of Huffman Encoding \n",
"//Example2.4: Illustrating nonuniquess of the Huffman Encoding\n",
"// Calculation of (a)Average code-word length 'L' (b)Entropy 'H'\n",
"clear;\n",
"clc;\n",
"P0 = 0.4; //probability of codeword '1'\n",
"L0 = 1;   //length of codeword S0\n",
"P1 = 0.2; //probability of codeword '01'\n",
"L1 = 2;   //length of codeword S1\n",
"P2 = 0.2; //probility of codeword '000'\n",
"L2 = 3;   //length of codeword S2\n",
"P3 = 0.1; //probility of codeword '0010'\n",
"L3 = 4;   //length of codeword S3\n",
"P4 =0.1; //probility of codeword '0011'\n",
"L4 = 4;   //length of codeword S4\n",
"L = P0*L0+P1*L1+P2*L2+P3*L3+P4*L4;\n",
"H_Ruo = P0*log2(1/P0)+P1*log2(1/P1)+P2*log2(1/P2)+P3*log2(1/P3)+P4*log2(1/P4);\n",
"disp('bits',L,'Average code-word Length L')\n",
"disp('bits',H_Ruo,'Entropy of Huffman coding result H')\n",
"sigma_2 = P0*(L0-L)^2+P1*(L1-L)^2+P2*(L2-L)^2+P3*(L3-L)^2+P4*(L4-L)^2;\n",
"disp(sigma_2,'Varinace of Huffman code')"
   ]
   }
,
{
		   "cell_type": "markdown",
		   "metadata": {},
		   "source": [
			"## Example 2.5: Binary_Symmetric_Channe.sce"
		   ]
		  },
  {
"cell_type": "code",
	   "execution_count": null,
	   "metadata": {
	    "collapsed": true
	   },
	   "outputs": [],
"source": [
"//clear//\n",
"//Caption:Binary Symmetric Channel\n",
"//Example2.5: Binary Symmetric Channel\n",
"clear;\n",
"clc;\n",
"close;\n",
"p = 0.4; //probability of correct reception\n",
"pe = 1-p;//probility of error reception (i.e)transition probility\n",
"disp(p,'probility of 0 receiving if a 0 is sent = probility of 1 receiving if a 1 is sent=')\n",
"disp('Transition probility')\n",
"disp(pe,'probility of 0 receiving if a 1 is sent = probility of 1 receiving if a 0 is sent=')"
   ]
   }
,
{
		   "cell_type": "markdown",
		   "metadata": {},
		   "source": [
			"## Example 2.6: Channel_Capacity_of_a_Binary_Symmetric_Channel.sce"
		   ]
		  },
  {
"cell_type": "code",
	   "execution_count": null,
	   "metadata": {
	    "collapsed": true
	   },
	   "outputs": [],
"source": [
"//clear//\n",
"//Caption:Channel Capacity of a Binary Symmetric Channel\n",
"//Example2.6:Channel Capacity of Binary Symmetri Channel\n",
"clear;\n",
"close;\n",
"clc;\n",
"p = 0:0.01:0.5;\n",
"for i =1:length(p)\n",
"  if(i~=1)\n",
"    C(i) = 1+p(i)*log2(p(i))+(1-p(i))*log2((1-p(i)));\n",
"  elseif(i==1)\n",
"    C(i) =1;\n",
"  elseif(i==length(p))\n",
"    C(i)=0;\n",
"  end\n",
"end\n",
"plot2d(p,C,5)\n",
"xlabel('Transition Probility, p')\n",
"ylabel('Channel Capacity, C')\n",
"title('Figure 2.10 Variation of channel capacity of a binary symmetric channel with transition probility p')"
   ]
   }
,
{
		   "cell_type": "markdown",
		   "metadata": {},
		   "source": [
			"## Example 2.7: Significance_of_the_Channel_Coding_theorem.sce"
		   ]
		  },
  {
"cell_type": "code",
	   "execution_count": null,
	   "metadata": {
	    "collapsed": true
	   },
	   "outputs": [],
"source": [
"//clear//\n",
"//Caption:Significance of the Channel Coding theorem\n",
"//Example2.7: Significance of the channel coding theorem\n",
"//Average Probility of Error of Repetition Code\n",
"clear;\n",
"clc;\n",
"close;\n",
"p =10^-2;\n",
"pe_1 =p; //Average Probility of error for code rate r = 1\n",
"pe_3 = 3*p^2*(1-p)+p^3;//probility of error for code rate r =1/3\n",
"pe_5 = 10*p^3*(1-p)^2+5*p^4*(1-p)+p^5;//error for code rate r =1/5\n",
"pe_7 = ((7*6*5)/(1*2*3))*p^4*(1-p)^3+(42/2)*p^5*(1-p)^2+7*p^6*(1-p)+p^7;//error for code rate r =1/7\n",
"r = [1,1/3,1/5,1/7];\n",
"pe = [pe_1,pe_3,pe_5,pe_7];\n",
"a=gca();\n",
"a.data_bounds=[0,0;1,0.01];\n",
"plot2d(r,pe,5)\n",
"xlabel('Code rate, r')\n",
"ylabel('Average Probability of error, Pe')\n",
"title('Figure 2.12 Illustrating significance of the channel coding theorem')\n",
"legend('Repetition codes')\n",
"xgrid(1)\n",
"disp('Table 2.3 Average Probility of Error for Repetition Code')\n",
"disp('_______________________________________________________________')\n",
"disp(r,'Code Rate, r =1/n',pe,'Average Probility of Error, Pe')\n",
"disp('_______________________________________________________________')"
   ]
   }
],
"metadata": {
		  "kernelspec": {
		   "display_name": "Scilab",
		   "language": "scilab",
		   "name": "scilab"
		  },
		  "language_info": {
		   "file_extension": ".sce",
		   "help_links": [
			{
			 "text": "MetaKernel Magics",
			 "url": "https://github.com/calysto/metakernel/blob/master/metakernel/magics/README.md"
			}
		   ],
		   "mimetype": "text/x-octave",
		   "name": "scilab",
		   "version": "0.7.1"
		  }
		 },
		 "nbformat": 4,
		 "nbformat_minor": 0
}
