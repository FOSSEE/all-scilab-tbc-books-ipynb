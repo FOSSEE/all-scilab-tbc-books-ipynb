{
"cells": [
 {
		   "cell_type": "markdown",
	   "metadata": {},
	   "source": [
       "# Chapter 4: Sampling Process"
	   ]
	},
{
		   "cell_type": "markdown",
		   "metadata": {},
		   "source": [
			"## Example 4.1: Bound_on_Aliasing_error_for_Time_shifted_sinc_pulse.sce"
		   ]
		  },
  {
"cell_type": "code",
	   "execution_count": null,
	   "metadata": {
	    "collapsed": true
	   },
	   "outputs": [],
"source": [
"//clear//\n",
"//Caption:Bound on Aliasing error for Time-shifted sinc pulse\n",
"//Example4.1:Maximum bound on aliasing error for sinc pulse\n",
"clc;\n",
"close;\n",
"t = -1.5:0.01:2.5;\n",
"g = 2*sinc_new(2*t-1);\n",
"disp(max(g),'Aliasing error cannot exceed max|g(t)|')\n",
"f = -1:0.01:1;\n",
"G = [0,0,0,0,ones(1,length(f)),0,0,0,0];\n",
"f1 = -1.04:0.01:1.04;\n",
"subplot(2,1,1)\n",
"a=gca();\n",
"a.data_bounds =[-3,-1;2,2];\n",
"a.x_location = 'origin'\n",
"a.y_location = 'origin'\n",
"plot2d(t,g)\n",
"xlabel('                                      t')\n",
"ylabel('                                      g(t)')\n",
"title('Figure 4.8 (a) Sinc pulse g(t)')\n",
"subplot(2,1,2)\n",
"a=gca();\n",
"a.data_bounds =[-2,0;2,2];\n",
"a.x_location = 'origin'\n",
"a.y_location = 'origin'\n",
"plot2d2(f1,G)\n",
"xlabel('                                      f')\n",
"ylabel('                                      G(f)')\n",
"title('Figure 4.8 (b) Amplitude spectrum |G(f)|')"
   ]
   }
,
{
		   "cell_type": "markdown",
		   "metadata": {},
		   "source": [
			"## Example 4.3: Equalizer_to_compensate_Aperture_effect.sce"
		   ]
		  },
  {
"cell_type": "code",
	   "execution_count": null,
	   "metadata": {
	    "collapsed": true
	   },
	   "outputs": [],
"source": [
"//clear//\n",
"//Caption:Equalizer to compensate Aperture effect\n",
"//Example4.3:Equalizer to Compensate for aperture effect\n",
"clc;\n",
"close;\n",
"T_Ts = 0.01:0.01:0.6;\n",
"//E = 1/(sinc_new(0.5*T_Ts));\n",
"E(1) =1;\n",
"for i = 2:length(T_Ts)\n",
"  E(i) = ((%pi/2)*T_Ts(i))/(sin((%pi/2)*T_Ts(i)));\n",
"end\n",
"a =gca();\n",
"a.data_bounds = [0,0.8;0.8,1.2];\n",
"plot2d(T_Ts,E,5)\n",
"xlabel('Duty cycle T/Ts')\n",
"ylabel('1/sinc(0.5(T/Ts))')\n",
"title('Figure 4.16 Normalized equalization (to compensate for aperture effect) plotted versus T/Ts')"
   ]
   }
],
"metadata": {
		  "kernelspec": {
		   "display_name": "Scilab",
		   "language": "scilab",
		   "name": "scilab"
		  },
		  "language_info": {
		   "file_extension": ".sce",
		   "help_links": [
			{
			 "text": "MetaKernel Magics",
			 "url": "https://github.com/calysto/metakernel/blob/master/metakernel/magics/README.md"
			}
		   ],
		   "mimetype": "text/x-octave",
		   "name": "scilab",
		   "version": "0.7.1"
		  }
		 },
		 "nbformat": 4,
		 "nbformat_minor": 0
}
