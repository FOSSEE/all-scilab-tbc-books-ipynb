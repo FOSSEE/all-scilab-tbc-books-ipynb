{
"cells": [
 {
		   "cell_type": "markdown",
	   "metadata": {},
	   "source": [
       "# Chapter 7: Digital Modulation Techniques"
	   ]
	},
{
		   "cell_type": "markdown",
		   "metadata": {},
		   "source": [
			"## Example 7.01: Waveforms_of_Different_Digital_Modulation_techniques.sce"
		   ]
		  },
  {
"cell_type": "code",
	   "execution_count": null,
	   "metadata": {
	    "collapsed": true
	   },
	   "outputs": [],
"source": [
"//clear//\n",
"//Caption:Waveforms of Different Digital Modulation techniques\n",
"//Figure7.1\n",
"//Digital Modulation Techniques\n",
"//To Plot the ASK, FSK and PSk Waveforms\n",
"clear;\n",
"clc;\n",
"close;\n",
"f = input('Enter the Analog Carrier Frequency in Hz');\n",
"t = 0:1/512:1;\n",
"x = sin(2*%pi*f*t);\n",
"I = input('Enter the digital binary data');\n",
"//Generation of ASK Waveform\n",
"Xask = [];\n",
"for n = 1:length(I)\n",
"  if((I(n)==1)&(n==1))\n",
"    Xask = [x,Xask];\n",
"  elseif((I(n)==0)&(n==1))\n",
"    Xask = [zeros(1,length(x)),Xask];\n",
"  elseif((I(n)==1)&(n~=1))\n",
"    Xask = [Xask,x]; \n",
"  elseif((I(n)==0)&(n~=1))  \n",
"    Xask = [Xask,zeros(1,length(x))];\n",
"  end\n",
"end\n",
"//Generation of FSK Waveform\n",
"Xfsk = [];\n",
"x1 = sin(2*%pi*f*t);\n",
"x2 = sin(2*%pi*(2*f)*t);\n",
"for n = 1:length(I)\n",
"  if (I(n)==1)\n",
"      Xfsk = [Xfsk,x2];\n",
"  elseif (I(n)~=1)\n",
"    Xfsk = [Xfsk,x1];\n",
"  end\n",
"end\n",
"//Generation of PSK Waveform\n",
"Xpsk = [];\n",
"x1 = sin(2*%pi*f*t);\n",
"x2 = -sin(2*%pi*f*t);\n",
"for n = 1:length(I)\n",
"  if (I(n)==1)\n",
"      Xpsk = [Xpsk,x1];\n",
"  elseif (I(n)~=1)\n",
"    Xpsk = [Xpsk,x2];\n",
"  end\n",
"end\n",
"figure\n",
"plot(t,x)\n",
"xtitle('Analog Carrier Signal for Digital Modulation')\n",
"xgrid\n",
"figure\n",
"plot(Xask)\n",
"xtitle('Amplitude Shift Keying')\n",
"xgrid\n",
"figure\n",
"plot(Xfsk)\n",
"xtitle('Frequency Shift Keying')\n",
"xgrid\n",
"figure\n",
"plot(Xpsk)\n",
"xtitle('Phase Shift Keying')\n",
"xgrid\n",
"//Example\n",
"//Enter the Analog Carrier Frequency 2\n",
"//Enter the digital binary data[0,1,1,0,1,0,0,1]"
   ]
   }
,
{
		   "cell_type": "markdown",
		   "metadata": {},
		   "source": [
			"## Example 7.02: Signal_Space_diagram_for_coherent_BPSK.sce"
		   ]
		  },
  {
"cell_type": "code",
	   "execution_count": null,
	   "metadata": {
	    "collapsed": true
	   },
	   "outputs": [],
"source": [
"//clear//\n",
"//Caption:Signal Space diagram for coherent BPSK\n",
"//Figure7.2 Signal Space Diagram for coherent BPSK system\n",
"clear\n",
"clc;\n",
"close;\n",
"M =2;\n",
"i = 1:M;\n",
"y = cos(2*%pi+(i-1)*%pi);\n",
"annot = dec2bin([length(y)-1:-1:0],log2(M));\n",
"disp(y,'coordinates of message points')\n",
"disp(annot,'Message points')\n",
"figure;\n",
"a =gca();\n",
"a.data_bounds = [-2,-2;2,2];\n",
"a.x_location = 'origin';\n",
"a.y_location = 'origin';\n",
"plot2d(real(y(1)),imag(y(1)),-9)\n",
"plot2d(real(y(2)),imag(y(2)),-5)\n",
"xlabel('                                                                      In-Phase');\n",
"ylabel('                                                                      Quadrature');\n",
"title('Constellation for BPSK')\n",
"legend(['message point 1 (binary 1)';'message point 2 (binary 0)'],5)"
   ]
   }
,
{
		   "cell_type": "markdown",
		   "metadata": {},
		   "source": [
			"## Example 7.06: Bandwidth_efficiency_of_M_ary_PSK_signals.sce"
		   ]
		  },
  {
"cell_type": "code",
	   "execution_count": null,
	   "metadata": {
	    "collapsed": true
	   },
	   "outputs": [],
"source": [
"//clear//\n",
"//Caption:Bandwidth efficiency of M-ary PSK signals\n",
"//Table7.6: Bandwidth Efficiency of M-ary PSK signals\n",
"clear;\n",
"clc;\n",
"close;\n",
"M = [2,4,8,16,32,64];//M-ary\n",
"Ruo = log2(M)./2; //Bandwidth efficiency in bits/s/Hz\n",
"disp('Table 7.7 Bandwidth Efficiency of M-ary PSK signals')\n",
"disp('______________________________________________________')\n",
"disp(M,'M')\n",
"disp('______________________________________________________')\n",
"disp(Ruo,'r in bits/s/Hz')\n",
"disp('______________________________________________________')"
   ]
   }
,
{
		   "cell_type": "markdown",
		   "metadata": {},
		   "source": [
			"## Example 7.12_7_2: Signal_space_diagram_for_MSK_diagram.sce"
		   ]
		  },
  {
"cell_type": "code",
	   "execution_count": null,
	   "metadata": {
	    "collapsed": true
	   },
	   "outputs": [],
"source": [
"//clear//\n",
"//Caption:Signal space diagram for MSK diagram\n",
"//Figure7.12 Signal Space Diagram for coherent MSK system\n",
"//Table 7.2 signal space characterization of MSK\n",
"clear\n",
"clc;\n",
"close;\n",
"M =2;\n",
"teta_0 = [0,%pi];\n",
"teta_tb = [%pi/2,-%pi/2];\n",
"for i = 1:M\n",
"  s1(i) = cos(teta_0(i));\n",
"  s2(i) = -sin(teta_tb(i));\n",
"end\n",
"y = [s1(1),s2(1);s1(2),s2(1);s1(2),s2(2);s1(1),s2(2)];\n",
"disp(y,'coordinates of message points')\n",
"figure;\n",
"a =gca();\n",
"a.data_bounds = [-2,-2;2,2];\n",
"a.x_location = 'origin';\n",
"a.y_location = 'origin';\n",
"plot2d(y(1,1),y(1,2),-2)\n",
"plot2d(y(2,1),y(2,2),-4)\n",
"plot2d(y(3,1),y(3,2),-6)\n",
"plot2d(y(4,1),y(4,2),-9)\n",
"xlabel('                                                                      In-Phase');\n",
"ylabel('                                                                    Quadrature');\n",
"title('Constellation for MSK')\n",
"legend(['message point 1 (0, %pi/2)';'message point 2 (%pi, %pi/2)';'message point 3  (%pi,  - %pi/2)';'message point 4(0, - %pi/2)'],5)"
   ]
   }
,
{
		   "cell_type": "markdown",
		   "metadata": {},
		   "source": [
			"## Example 7.1: Waveforms_of_Different_Digital_Modulation_techniques.sce"
		   ]
		  },
  {
"cell_type": "code",
	   "execution_count": null,
	   "metadata": {
	    "collapsed": true
	   },
	   "outputs": [],
"source": [
"//clear//\n",
"//Caption:Waveforms of Different Digital Modulation techniques\n",
"//Example7.1 Signal Space Diagram for coherent QPSK system\n",
"clear;\n",
"clc;\n",
"close;\n",
"M =4;\n",
"i = 1:M;\n",
"t = 0:0.001:1;\n",
"for i = 1:M\n",
"  s1(i,:) = cos(2*%pi*2*t)*cos((2*i-1)*%pi/4);\n",
"  s2(i,:) = -sin(2*%pi*2*t)*sin((2*i-1)*%pi/4);\n",
"end\n",
"S1 =[];\n",
"S2 = [];\n",
"S = [];\n",
"Input_Sequence =[0,1,1,0,1,0,0,0];\n",
"m = [3,1,1,2];\n",
"for i =1:length(m)\n",
"  S1 = [S1 s1(m(i),:)];\n",
"  S2 = [S2 s2(m(i),:)];\n",
"end\n",
"S = S1+S2;\n",
"figure\n",
"subplot(3,1,1)\n",
"a =gca();\n",
"a.x_location = 'origin';\n",
"plot(S1)\n",
"title('Binary PSK wave of Odd-numbered bits of input sequence') \n",
"subplot(3,1,2)\n",
"a =gca();\n",
"a.x_location = 'origin';\n",
"plot(S2)\n",
"title('Binary PSK wave of Even-numbered bits of input sequence') \n",
"subplot(3,1,3)\n",
"a =gca();\n",
"a.x_location = 'origin';\n",
"plot(S)\n",
"title('QPSK waveform') \n",
"//-sin((2*i-1)*%pi/4)*%i;\n",
"//annot = dec2bin([0:length(y)-1],log2(M));\n",
"//disp(y,'coordinates of message points')\n",
"//disp(annot,'dibits value')\n",
"//figure;\n",
"//a =gca();\n",
"//a.data_bounds = [-1,-1;1,1];\n",
"//a.x_location = 'origin';\n",
"//a.y_location = 'origin';\n",
"//plot2d(real(y(1)),imag(y(1)),-2)\n",
"//plot2d(real(y(2)),imag(y(2)),-4)\n",
"//plot2d(real(y(3)),imag(y(3)),-5)\n",
"//plot2d(real(y(4)),imag(y(4)),-9)\n",
"//xlabel('                                             In-Phase');\n",
"//ylabel('                                             Quadrature');\n",
"//title('Constellation for QPSK')\n",
"//legend(['message point 1 (dibit 10)';'message point 2 (dibit 00)';'message point 3 (dibit 01)';'message point 4 (dibit 11)'],5)"
   ]
   }
,
{
		   "cell_type": "markdown",
		   "metadata": {},
		   "source": [
			"## Example 7.29: Power_Spectra_of_BPSK_and_BFSK_signals.sce"
		   ]
		  },
  {
"cell_type": "code",
	   "execution_count": null,
	   "metadata": {
	    "collapsed": true
	   },
	   "outputs": [],
"source": [
"//clear//\n",
"//Caption:Power Spectra of BPSK and BFSK signals\n",
"//Figure7.29:Comparison of Power Spectral Densities of BPSK\n",
"//and BFSK\n",
"clc;\n",
"rb = input('Enter the bit rate=');\n",
"Eb = input('Enter the energy of the bit=');\n",
"f = 0:1/100:8/rb;\n",
"Tb = 1/rb;  //Bit duration\n",
"for i= 1:length(f)\n",
"   if(f(i)==(1/(2*Tb)))\n",
"     SB_FSK(i)=Eb/(2*Tb); \n",
"   else\n",
"     SB_FSK(i) = (8*Eb*(cos(%pi*f(i)*Tb)^2))/((%pi^2)*(((4*(Tb^2)*(f(i)^2))-1)^2));\n",
"   end\n",
"     SB_PSK(i)=2*Eb*(sinc_new(f(i)*Tb)^2);\n",
"end\n",
"a=gca();\n",
"plot(f*Tb,SB_FSK/(2*Eb))\n",
"plot(f*Tb,SB_PSK/(2*Eb))\n",
"poly1= a.children(1).children(1);\n",
"poly1.foreground = 6;\n",
"xlabel('Normalized Frequency ---->')\n",
"ylabel('Normalized Power Spectral Density--->')\n",
"title('PSK Vs FSK Power Spectra Comparison')\n",
"legend(['Frequency Shift Keying','Phase Shift Keying'])\n",
"xgrid(1) \n",
"//Result\n",
"//Enter the bit rate in bits per second:2\n",
"//Enter the Energy of bit:1"
   ]
   }
,
{
		   "cell_type": "markdown",
		   "metadata": {},
		   "source": [
			"## Example 7.2: Signal_Space_diagram_for_coherent_BPSK.sce"
		   ]
		  },
  {
"cell_type": "code",
	   "execution_count": null,
	   "metadata": {
	    "collapsed": true
	   },
	   "outputs": [],
"source": [
"//clear//\n",
"//Caption:Signal Space diagram for coherent BPSK\n",
"//Example7.2: Sequence and Waveforms for MSK signal\n",
"//Table 7.2 signal space characterization of MSK\n",
"clear\n",
"clc;\n",
"close;\n",
"M =2;\n",
"Tb =1;\n",
"t1 = -Tb:0.01:Tb;\n",
"t2 = 0:0.01:2*Tb;\n",
"phi1 = cos(2*%pi*t1).* cos((%pi/(2*Tb))*t1);\n",
"phi2 = sin(2*%pi*t2).*sin((%pi/(2*Tb))*t2);\n",
"teta_0 = [0,%pi];\n",
"teta_tb = [%pi/2,-%pi/2];\n",
"S1 = [];\n",
"S2 = [];\n",
"for i = 1:M\n",
"  s1(i) = cos(teta_0(i));\n",
"  s2(i) = -sin(teta_tb(i));\n",
"  S1 = [S1 s1(i)*phi1];\n",
"  S2 = [S2 s2(1)*phi2];\n",
"end\n",
"for i = M:-1:1\n",
"  S1 = [S1 s1(i)*phi1];\n",
"  S2 = [S2 s2(2)*phi2];\n",
"end\n",
"Input_Sequence =[1,1,0,1,0,0,0];\n",
"S = [];\n",
"t = 0:0.01:1;\n",
"S = [S cos(0)*cos(2*%pi*t)-sin(%pi/2)*sin(2*%pi*t)];\n",
"S = [S cos(0)*cos(2*%pi*t)-sin(%pi/2)*sin(2*%pi*t)];\n",
"S = [S cos(%pi)*cos(2*%pi*t)-sin(%pi/2)*sin(2*%pi*t)];\n",
"S = [S cos(%pi)*cos(2*%pi*t)-sin(-%pi/2)*sin(2*%pi*t)];\n",
"S = [S cos(0)*cos(2*%pi*t)-sin(-%pi/2)*sin(2*%pi*t)];\n",
"S = [S cos(0)*cos(2*%pi*t)-sin(-%pi/2)*sin(2*%pi*t)];\n",
"S = [S cos(0)*cos(2*%pi*t)-sin(-%pi/2)*sin(2*%pi*t)];\n",
"y = [s1(1),s2(1);s1(2),s2(1);s1(2),s2(2);s1(1),s2(2)];\n",
"disp(y,'coordinates of message points')\n",
"figure\n",
"subplot(3,1,1)\n",
"a = gca();\n",
"a.x_location = 'origin';\n",
"plot(S1)\n",
"title('Scaled time function s1*phi1(t)')\n",
"subplot(3,1,2)\n",
"a =gca();\n",
"a.x_location = 'origin';\n",
"plot(S2)\n",
"title('Scaled time function s2*phi2(t)')\n",
"subplot(3,1,3)\n",
"a =gca();\n",
"a.x_location = 'origin';\n",
"plot(S)\n",
"title('Obtained by adding s1*phi1(t)+s2*phi2(t) on a bit-by-bit basis')"
   ]
   }
,
{
		   "cell_type": "markdown",
		   "metadata": {},
		   "source": [
			"## Example 7.30: Power_Spectra_of_QPSK_and_MSK_signals.sce"
		   ]
		  },
  {
"cell_type": "code",
	   "execution_count": null,
	   "metadata": {
	    "collapsed": true
	   },
	   "outputs": [],
"source": [
"//clear//\n",
"//Caption:Power Spectra of QPSK and MSK signals\n",
"//Figure7.30:Comparison of QPSK and MSK Power Spectrums\n",
"//clear;\n",
"//close;\n",
"//clc;\n",
"rb = input('Enter the bit rate in bits per second:');\n",
"Eb = input('Enter the Energy of bit:');\n",
"f = 0:1/(100*rb):(4/rb);\n",
"Tb = 1/rb; //bit duration in seconds\n",
"for i = 1:length(f)\n",
"  if(f(i)==0.5)\n",
"    SB_MSK(i) = 4*Eb*f(i);\n",
"  else\n",
"    SB_MSK(i) = (32*Eb/(%pi^2))*(cos(2*%pi*Tb*f(i))/((4*Tb*f(i))^2-1))^2;\n",
"  end\n",
"    SB_QPSK(i)= 4*Eb*sinc_new((2*Tb*f(i)))^2;\n",
"end\n",
"a = gca();\n",
"plot(f*Tb,SB_MSK/(4*Eb));\n",
"plot(f*Tb,SB_QPSK/(4*Eb));\n",
"poly1= a.children(1).children(1);\n",
"poly1.foreground = 3;\n",
"xlabel('Normalized Frequency ---->')\n",
"ylabel('Normalized Power Spectral Density--->')\n",
"title('QPSK Vs MSK Power Spectra Comparison')\n",
"legend(['Minimum Shift Keying','QPSK'])\n",
"xgrid(1)\n",
"//Result\n",
"//Enter the bit rate in bits per second:2\n",
"//Enter the Energy of bit:1"
   ]
   }
,
{
		   "cell_type": "markdown",
		   "metadata": {},
		   "source": [
			"## Example 7.31: Power_spectra_of_M_ary_PSK_signals.sce"
		   ]
		  },
  {
"cell_type": "code",
	   "execution_count": null,
	   "metadata": {
	    "collapsed": true
	   },
	   "outputs": [],
"source": [
"//clear//\n",
"//Caption:Power spectra of M-ary PSK signals \n",
"//Figure7.31 Comparison of Power Spectral Densities of M-ary PSK signals\n",
"rb = input('Enter the bit rate=');\n",
"Eb = input('Enter the energy of the bit=');\n",
"f = 0:1/100:rb;\n",
"Tb = 1/rb;  //Bit duration\n",
"M = [2,4,8];\n",
"for j = 1:length(M)\n",
"  for i= 1:length(f)\n",
"    SB_PSK(j,i)=2*Eb*(sinc_new(f(i)*Tb*log2(M(j)))^2)*log2(M(j));\n",
"  end\n",
"end\n",
"a=gca();\n",
"plot2d(f*Tb,SB_PSK(1,:)/(2*Eb))\n",
"plot2d(f*Tb,SB_PSK(2,:)/(2*Eb),2)\n",
"plot2d(f*Tb,SB_PSK(3,:)/(2*Eb),5)\n",
"xlabel('Normalized Frequency ---->')\n",
"ylabel('Normalized Power Spectral Density--->')\n",
"title('Power Spectra of M-ary signals for M =2,4,8')\n",
"legend(['M=2','M=4','M=8'])\n",
"xgrid(1) \n",
"//Result\n",
"//Enter the bit rate in bits per second:2\n",
"//Enter the Energy of bit:1"
   ]
   }
,
{
		   "cell_type": "markdown",
		   "metadata": {},
		   "source": [
			"## Example 7.3: Illustrating_the_generation_of_DPSK_signal.sce"
		   ]
		  },
  {
"cell_type": "code",
	   "execution_count": null,
	   "metadata": {
	    "collapsed": true
	   },
	   "outputs": [],
"source": [
"//clear//\n",
"//Caption:Illustrating the generation of DPSK signal\n",
"//Table7.3 Generation of Differential Phase shift keying signal\n",
"clc;\n",
"bk = [1,0,0,1,0,0,1,1];//input digital sequence\n",
"for i = 1:length(bk)\n",
"  if(bk(i)==1)\n",
"    bk_not(i) =~1;\n",
"  else\n",
"    bk_not(i)= 1;\n",
"  end\n",
"end\n",
"dk_1(1) = 1&bk(1);  //initial value of differential encoded sequence\n",
"dk_1_not(1)=0&bk_not(1);\n",
"dk(1) = xor(dk_1(1),dk_1_not(1))//first bit of dpsk encoder\n",
"for i=2:length(bk)\n",
"  dk_1(i) = dk(i-1);\n",
"  dk_1_not(i) = ~dk(i-1);\n",
"  dk(i) = xor((dk_1(i)&bk(i)),(dk_1_not(i)&bk_not(i)));\n",
"end\n",
"for i =1:length(dk)\n",
"  if(dk(i)==1)\n",
"    dk_radians(i)=0;\n",
"  elseif(dk(i)==0)\n",
"    dk_radians(i)=%pi;\n",
"  end\n",
"end\n",
"disp('Table 7.3 Illustrating the Generation of DPSK Signal')\n",
"disp('_____________________________________________________')\n",
"disp(bk,'(bk)')\n",
"bk_not = bk_not';\n",
"disp(bk_not,'(bk_not)')\n",
"dk = dk';\n",
"disp(dk,'Differentially encoded sequence (dk)')\n",
"dk_radians = dk_radians';\n",
"disp(dk_radians,'Transmitted phase in radians')\n",
"disp('_____________________________________________________')"
   ]
   }
,
{
		   "cell_type": "markdown",
		   "metadata": {},
		   "source": [
			"## Example 7.41: Matched_Filter_output_of_rectangular_pulse.sce"
		   ]
		  },
  {
"cell_type": "code",
	   "execution_count": null,
	   "metadata": {
	    "collapsed": true
	   },
	   "outputs": [],
"source": [
"//clear//\n",
"//Caption:Matched Filter output of rectangular pulse\n",
"//Figure7.41\n",
"//Matched Filter Output\n",
"clear;\n",
"clc;\n",
"T =4;\n",
"a =2;\n",
"t = 0:T;\n",
"g = 2*ones(1,T+1);\n",
"h  =abs(convol(g,g));\n",
"for i = 1:length(h)\n",
"  if(h(i)<0.01)\n",
"    h(i) =0;\n",
"  end\n",
"end\n",
"h = h-T;\n",
"t1 = 0:length(h)-1;\n",
"figure\n",
"a =gca();\n",
"a.data_bounds = [0,0;6,4];\n",
"plot2d(t,g,5)\n",
"xlabel('t--->')\n",
"ylabel('g(t)---->')\n",
"title('Rectangular pulse duration T = 4, a =2')\n",
"figure\n",
"plot2d(t1,h,6)\n",
"xlabel('t--->')\n",
"ylabel('Matched Filter output')\n",
"title('Output of filter matched to rectangular pulse g(t)')"
   ]
   }
,
{
		   "cell_type": "markdown",
		   "metadata": {},
		   "source": [
			"## Example 7.4_7_20: Comparison_of_error_probability.sce"
		   ]
		  },
  {
"cell_type": "code",
	   "execution_count": null,
	   "metadata": {
	    "collapsed": true
	   },
	   "outputs": [],
"source": [
"//clear//\n",
"//Caption:Comparison of error probability of different data transmission schemes\n",
"//Table7.4:Figure 7.20\n",
"//Comparison of Symbol Error Probability\n",
"//of Different Digital Transmission System\n",
"clear;\n",
"close;\n",
"clc;\n",
"//Eb =  Energy of the bit  No = Noise Spectral Density\n",
"Eb_No =[18,0.3162278];\n",
"x = Eb_No(2):1/100:Eb_No(1);\n",
"x_dB = 10*log10(x);\n",
"for i = 1:length(x)\n",
"  //Error Probability of Coherent BPSK \n",
"  Pe_BPSK(i) = (1/2)*erfc(sqrt(x(i)));\n",
"  //Error Probability of Coherent BFSK\n",
"  Pe_BFSK(i) = (1/2)*erfc(sqrt(x(i)/2));\n",
"  //Error Probability Non-Coherent PSK = DPSK \n",
"  Pe_DPSK(i) = (1/2)*exp(-x(i));\n",
"  //Error Probability Non-Coherent FSK\n",
"  Pe_NFSK(i) = (1/2)*exp(-(x(i)/2));\n",
"  //Error Probability of QPSK & MSK\n",
"  Pe_QPSK_MSK(i) = erfc(sqrt(x(i)))-((1/4)*(erfc(sqrt(x(i)))^2));\n",
"end\n",
"a = gca();\n",
"a.data_bounds=[-5,0;12.5,0.5]; \n",
"plot2d(x_dB,Pe_BPSK)\n",
"plot2d(x_dB,Pe_BFSK)\n",
"poly1= a.children(1).children(1);\n",
"poly1.foreground = 3;\n",
"plot2d(x_dB,Pe_DPSK)\n",
"poly1= a.children(1).children(1);\n",
"poly1.foreground = 4;\n",
"plot2d(x_dB,Pe_NFSK)\n",
"poly1= a.children(1).children(1);\n",
"poly1.foreground = 6;\n",
"plot2d(x_dB,Pe_QPSK_MSK)\n",
"poly1= a.children(1).children(1);\n",
"poly1.foreground = 7;\n",
"xlabel('Eb/No in dB ---->')\n",
"ylabel('Probability of Error Pe--->')\n",
"title('Comparison of Noise Performance of different PSK & FSK Scheme')\n",
"legend(['BPSK','BFSK','DPSK','Non-Coherent FSK','QPSK & MSK'])\n",
"xgrid(1)"
   ]
   }
,
{
		   "cell_type": "markdown",
		   "metadata": {},
		   "source": [
			"## Example 7.4: Signal_Space_diagram_for_coherent_BFSK.sce"
		   ]
		  },
  {
"cell_type": "code",
	   "execution_count": null,
	   "metadata": {
	    "collapsed": true
	   },
	   "outputs": [],
"source": [
"//clear//\n",
"//Caption:Signal Space diagram for coherent BFSK\n",
"//Figure7.4 Signal Space Diagram for coherent BFSK system\n",
"clear\n",
"clc;\n",
"close;\n",
"M =2;\n",
"y = [1,0;0,1];\n",
"annot = dec2bin([M-1:-1:0],log2(M));\n",
"disp(y,'coordinates of message points')\n",
"disp(annot,'Message points')\n",
"figure;\n",
"a =gca();\n",
"a.data_bounds = [-2,-2;2,2];\n",
"a.x_location = 'origin';\n",
"a.y_location = 'origin';\n",
"plot2d(y(1,1),y(1,2),-9)\n",
"plot2d(y(2,1),y(2,2),-5)\n",
"xlabel('                                                                      In-Phase');\n",
"ylabel('                                                                    Quadrature');\n",
"title('Constellation for BFSK')\n",
"legend(['message point 1 (binary 1)';'message point 2 (binary 0)'],5)"
   ]
   }
,
{
		   "cell_type": "markdown",
		   "metadata": {},
		   "source": [
			"## Example 7.6: Signal_space_diagram_for_coherent_QPSK_waveform.sce"
		   ]
		  },
  {
"cell_type": "code",
	   "execution_count": null,
	   "metadata": {
	    "collapsed": true
	   },
	   "outputs": [],
"source": [
"//clear//\n",
"//Caption:Signal space diagram for coherent QPSK waveform\n",
"//Figure7.6 Signal Space Diagram for coherent QPSK system\n",
"clear\n",
"clc;\n",
"close;\n",
"M =4;\n",
"i = 1:M;\n",
"y = cos((2*i-1)*%pi/4)-sin((2*i-1)*%pi/4)*%i;\n",
"annot = dec2bin([0:M-1],log2(M));\n",
"disp(y,'coordinates of message points')\n",
"disp(annot,'dibits value')\n",
"figure;\n",
"a =gca();\n",
"a.data_bounds = [-1,-1;1,1];\n",
"a.x_location = 'origin';\n",
"a.y_location = 'origin';\n",
"plot2d(real(y(1)),imag(y(1)),-2)\n",
"plot2d(real(y(2)),imag(y(2)),-4)\n",
"plot2d(real(y(3)),imag(y(3)),-5)\n",
"plot2d(real(y(4)),imag(y(4)),-9)\n",
"xlabel('                                             In-Phase');\n",
"ylabel('                                             Quadrature');\n",
"title('Constellation for QPSK')\n",
"legend(['message point 1 (dibit 10)';'message point 2 (dibit 00)';'message point 3 (dibit 01)';'message point 4 (dibit 11)'],5)"
   ]
   }
,
{
		   "cell_type": "markdown",
		   "metadata": {},
		   "source": [
			"## Example 7.7: Bandwidth_efficiency_of_M_ary_FSK_signals.sce"
		   ]
		  },
  {
"cell_type": "code",
	   "execution_count": null,
	   "metadata": {
	    "collapsed": true
	   },
	   "outputs": [],
"source": [
"//clear//\n",
"//Caption:Bandwidth efficiency of M-ary FSK signals\n",
"//Table7.7: Bandwidth Efficiency of M-ary FSK\n",
"clear;\n",
"clc;\n",
"close;\n",
"M = [2,4,8,16,32,64];//M-ary\n",
"Ruo = 2*log2(M)./M; //Bandwidth efficiency in bits/s/Hz\n",
"//M = M';\n",
"//Ruo = Ruo';\n",
"disp('Table 7.7 Bandwidth Efficiency of M-ary FSK signals')\n",
"disp('______________________________________________________')\n",
"disp(M,'M')\n",
"disp('______________________________________________________')\n",
"disp(Ruo,'r in bits/s/Hz')\n",
"disp('______________________________________________________')"
   ]
   }
],
"metadata": {
		  "kernelspec": {
		   "display_name": "Scilab",
		   "language": "scilab",
		   "name": "scilab"
		  },
		  "language_info": {
		   "file_extension": ".sce",
		   "help_links": [
			{
			 "text": "MetaKernel Magics",
			 "url": "https://github.com/calysto/metakernel/blob/master/metakernel/magics/README.md"
			}
		   ],
		   "mimetype": "text/x-octave",
		   "name": "scilab",
		   "version": "0.7.1"
		  }
		 },
		 "nbformat": 4,
		 "nbformat_minor": 0
}
