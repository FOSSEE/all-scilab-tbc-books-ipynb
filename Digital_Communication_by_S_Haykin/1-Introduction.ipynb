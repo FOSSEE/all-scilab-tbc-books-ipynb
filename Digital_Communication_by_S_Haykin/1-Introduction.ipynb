{
"cells": [
 {
		   "cell_type": "markdown",
	   "metadata": {},
	   "source": [
       "# Chapter 1: Introduction"
	   ]
	},
{
		   "cell_type": "markdown",
		   "metadata": {},
		   "source": [
			"## Example 1.2: Digital_Representation_of_Analog_signal.sce"
		   ]
		  },
  {
"cell_type": "code",
	   "execution_count": null,
	   "metadata": {
	    "collapsed": true
	   },
	   "outputs": [],
"source": [
"//clear//\n",
"//Caption:Digital Representation of Analog signal\n",
"//Figure 1.2: Analog to Digital Conversion\n",
"clear;\n",
"close;\n",
"clc;\n",
"t = -1:0.01:1;\n",
"x = 2*sin((%pi/2)*t);\n",
"dig_data = [0,1,0,0,0,0,1,0,0,0,0,0,0,0,1,1,0,1,0,1]\n",
"//\n",
"figure\n",
"a=gca();\n",
"a.x_location ='origin';\n",
"a.y_location ='origin';\n",
"a.data_bounds =[-2,-3;2,3]\n",
"plot(t,x)\n",
"plot2d3('gnn',0.5,sqrt(2),-9)\n",
"plot2d3('gnn',-0.5,-sqrt(2),-9)\n",
"plot2d3('gnn',1,2,-9)\n",
"plot2d3('gnn',-1,-2,-9)\n",
"xlabel('                                                         Time')\n",
"ylabel('                                                      Voltage')\n",
"title('Analog Waveform')\n",
"//\n",
"figure\n",
"a = gca();\n",
"a.data_bounds = [0,0;21,5];\n",
"plot2d2([1:length(dig_data)],dig_data,5)\n",
"title('Digital Representation')"
   ]
   }
],
"metadata": {
		  "kernelspec": {
		   "display_name": "Scilab",
		   "language": "scilab",
		   "name": "scilab"
		  },
		  "language_info": {
		   "file_extension": ".sce",
		   "help_links": [
			{
			 "text": "MetaKernel Magics",
			 "url": "https://github.com/calysto/metakernel/blob/master/metakernel/magics/README.md"
			}
		   ],
		   "mimetype": "text/x-octave",
		   "name": "scilab",
		   "version": "0.7.1"
		  }
		 },
		 "nbformat": 4,
		 "nbformat_minor": 0
}
