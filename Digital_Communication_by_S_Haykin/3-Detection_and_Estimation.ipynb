{
"cells": [
 {
		   "cell_type": "markdown",
	   "metadata": {},
	   "source": [
       "# Chapter 3: Detection and Estimation"
	   ]
	},
{
		   "cell_type": "markdown",
		   "metadata": {},
		   "source": [
			"## Example 3.1: Orthonormal_basis_for_given_set_of_signals.sce"
		   ]
		  },
  {
"cell_type": "code",
	   "execution_count": null,
	   "metadata": {
	    "collapsed": true
	   },
	   "outputs": [],
"source": [
"//clear//\n",
"//Caption:Orthonormal basis for given set of signals\n",
"//Example3.1:Finding orthonormal basis for the given signals\n",
"//using Gram-Schmidt orthogonalization procedure\n",
"clear;\n",
"close;\n",
"clc;\n",
"T = 1;\n",
"t1 = 0:0.01:T/3;\n",
"t2 = 0:0.01:2*T/3;\n",
"t3 = T/3:0.01:T;\n",
"t4 = 0:0.01:T;\n",
"s1t = [0,ones(1,length(t1)-2),0];\n",
"s2t = [0,ones(1,length(t2)-2),0];\n",
"s3t = [0,ones(1,length(t3)-2),0];\n",
"s4t = [0,ones(1,length(t4)-2),0];\n",
"t5 = 0:0.01:T/3;\n",
"phi1t =  sqrt(3/T)*[0,ones(1,length(t5)-2),0];\n",
"t6 =T/3:0.01:2*T/3;\n",
"phi2t = sqrt(3/T)*[0,ones(1,length(t6)-2),0];\n",
"t7 = 2*T/3:0.01:T;\n",
"phi3t = sqrt(3/T)*[0,ones(1,length(t7)-2),0];\n",
"//\n",
"figure\n",
"title('Figure3.4(a) Set of signals to be orthonormalized')\n",
"subplot(4,1,1)\n",
"a =gca();\n",
"a.data_bounds = [0,0;2,2];\n",
"plot2d2(t1,s1t,5)\n",
"xlabel('t')\n",
"ylabel('s1(t)')\n",
"subplot(4,1,2)\n",
"a =gca();\n",
"a.data_bounds = [0,0;2,2];\n",
"plot2d2(t2,s2t,5)\n",
"xlabel('t')\n",
"ylabel('s2(t)')\n",
"subplot(4,1,3)\n",
"a =gca();\n",
"a.data_bounds = [0,0;2,2];\n",
"plot2d2(t3,s3t,5)\n",
"xlabel('t')\n",
"ylabel('s3(t)')\n",
"subplot(4,1,4)\n",
"a =gca();\n",
"a.data_bounds = [0,0;2,2];\n",
"plot2d2(t4,s4t,5)\n",
"xlabel('t')\n",
"ylabel('s4(t)')\n",
"//\n",
"figure\n",
"title('Figure3.4(b) The resulting set of orthonormal functions')\n",
"subplot(3,1,1)\n",
"a =gca();\n",
"a.data_bounds = [0,0;2,4];\n",
"plot2d2(t5,phi1t,5)\n",
"xlabel('t')\n",
"ylabel('phi1(t)')\n",
"subplot(3,1,2)\n",
"a =gca();\n",
"a.data_bounds = [0,0;2,4];\n",
"plot2d2(t6,phi2t,5)\n",
"xlabel('t')\n",
"ylabel('phi2(t)')\n",
"subplot(3,1,3)\n",
"a =gca();\n",
"a.data_bounds = [0,0;2,4];\n",
"plot2d2(t7,phi3t,5)\n",
"xlabel('t')\n",
"ylabel('phi3(t)')"
   ]
   }
,
{
		   "cell_type": "markdown",
		   "metadata": {},
		   "source": [
			"## Example 3.29: Implementation_of_LMS_ADAPTIVE_FILTER.sce"
		   ]
		  },
  {
"cell_type": "code",
	   "execution_count": null,
	   "metadata": {
	    "collapsed": true
	   },
	   "outputs": [],
"source": [
"//clear//\n",
"//Implementation of LMS ADAPTIVE FILTER\n",
"//For noise cancellation application\n",
"clear;\n",
"clc;\n",
"close;\n",
"order = 18;\n",
"t =0:0.01:1;\n",
"x = sin(2*%pi*5*t);\n",
"noise =rand(1,length(x));\n",
"x_n = x+noise;\n",
"ref_noise = noise*rand(10);\n",
"w = zeros(order,1);\n",
"mu = 0.01*(sum(x.^2)/length(x));\n",
"N = length(x);\n",
"for k =1:1010\n",
"  for i = 1:N-order-1\n",
"    buffer = ref_noise(i:i+order-1);\n",
"    desired(i) = x_n(i)-buffer*w;\n",
"    w = w+(buffer*mu*desired(i))';\n",
"  end\n",
"end\n",
"subplot(4,1,1)\n",
"plot2d(t,x)\n",
"title('Orignal Input Signal')\n",
"subplot(4,1,2)\n",
"plot2d(t,noise,2)\n",
"title('random noise')\n",
"subplot(4,1,3)\n",
"plot2d(t,x_n,5)\n",
"title('Signal+noise')\n",
"subplot(4,1,4)\n",
"plot(desired)\n",
"title('noise removed signal')"
   ]
   }
,
{
		   "cell_type": "markdown",
		   "metadata": {},
		   "source": [
			"## Example 3.2: M_ARY_Signaling.sce"
		   ]
		  },
  {
"cell_type": "code",
	   "execution_count": null,
	   "metadata": {
	    "collapsed": true
	   },
	   "outputs": [],
"source": [
"//clear//\n",
"//Caption:M-ARY Signaling\n",
"//Example3.2:M-ARY SIGNALING\n",
"//Signal constellation and Representation of dibits\n",
"clear;\n",
"close;\n",
"clc;\n",
"a =1;  //amplitude =1\n",
"T =1; //Symbol duration in seconds\n",
"//Four  message points\n",
"Si1 = [(-3/2)*a*sqrt(T),(-1/2)*a*sqrt(T),(3/2)*a*sqrt(T),(1/2)*a*sqrt(T)];\n",
"a =gca();\n",
"a.data_bounds = [-2,-0.5;2,0.5]\n",
"plot2d(Si1,[0,0,0,0],-10)\n",
"xlabel('phi1(t)')\n",
"title('Figure 3.8 (a) Signal constellation')\n",
"xgrid(1)\n",
"disp('Figure 3.8 (b).Representation of transmitted dibits')\n",
"disp('Loc. of meg.point| (-3/2)asqrt(T)|(-1/2)asqrt(T)|(3/2)asqrt(T)|(1/2)asqrt(T)')\n",
"disp('________________________________________________________________________________')\n",
"disp('Transmitted dibit|         00    |      01      |   11        |   10')\n",
"disp('')\n",
"disp('')\n",
"disp('Figure 3.8 (c). Decision intervals for received dibits')\n",
"disp('Received dibit     |     00          |      01       |   11          |   10')\n",
"disp('________________________________________________________________________________')\n",
"disp('Interval on phi1(t)| x1 < -a.sqrt(T) |-a.sqrt(T)<x1<0| 0<x1<a.sqrt(T) | a.sqrt(T)<x1')\n",
" "
   ]
   }
,
{
		   "cell_type": "markdown",
		   "metadata": {},
		   "source": [
			"## Example 3.3: Matched_Filter_output_for_RF_pulse.sce"
		   ]
		  },
  {
"cell_type": "code",
	   "execution_count": null,
	   "metadata": {
	    "collapsed": true
	   },
	   "outputs": [],
"source": [
"//clear//\n",
"//Caption:Matched Filter output for RF pulse\n",
"//Example3.3: MATCHED FILTER FOR RF PULSE\n",
"clear;\n",
"close;\n",
"clc;\n",
"fc =4; //carrier frequency in Hz\n",
"T =1;\n",
"t1 = 0:0.01:T;\n",
"phit = sqrt(2/T)*cos(2*%pi*fc*t1);\n",
"hopt = phit;\n",
"phiot = convol(phit,hopt);\n",
"phiot = phiot/max(phiot);\n",
"t2 = 0:0.01:2*T;\n",
"subplot(2,1,1)\n",
"a =gca();\n",
"a.x_location = 'origin';\n",
"a.y_location = 'origin';\n",
"a.data_bounds = [0,-1;1,1];\n",
"plot2d(t1,phit);\n",
"xlabel('                                                          t')\n",
"ylabel('                                                     phi(t)')\n",
"title('Figure 3.13 (a) RF pulse input')\n",
"subplot(2,1,2)\n",
"a =gca();\n",
"a.x_location = 'origin';\n",
"a.y_location = 'origin';\n",
"a.data_bounds = [0,-1;1,1];\n",
"plot2d(t2,phiot);\n",
"xlabel('                                                          t')\n",
"ylabel('                                                    phi0(t)')\n",
"title('Figure 3.13 (b) Matched Filter output')"
   ]
   }
,
{
		   "cell_type": "markdown",
		   "metadata": {},
		   "source": [
			"## Example 3.4: Matched_Filter_output_for_Noise_like_signal.sce"
		   ]
		  },
  {
"cell_type": "code",
	   "execution_count": null,
	   "metadata": {
	    "collapsed": true
	   },
	   "outputs": [],
"source": [
"//clear//\n",
"//Caption:Matched Filter output for Noise-like signal\n",
"//Example3.4: Matched Filter output for noise like input\n",
"clear;\n",
"close;\n",
"clc;\n",
"phit =0.1*rand(1,10,'uniform');\n",
"hopt = phit;\n",
"phi0t = convol(phit,hopt);\n",
"phi0t = phi0t/max(phi0t);\n",
"subplot(2,1,1)\n",
"a =gca();\n",
"a.x_location = 'origin';\n",
"a.y_location = 'origin';\n",
"a.data_bounds = [0,-1;1,1];\n",
"plot2d([1:length(phit)],phit);\n",
"xlabel('                                                          t')\n",
"ylabel('                                                     phi(t)')\n",
"title('Figure 3.16 (a) Noise Like input signal')\n",
"subplot(2,1,2)\n",
"a =gca();\n",
"a.x_location = 'origin';\n",
"a.y_location = 'origin';\n",
"a.data_bounds = [0,-1;1,1];\n",
"plot2d([1:length(phi0t)],phi0t);\n",
"xlabel('                                                          t')\n",
"ylabel('                                                    phi0(t)')\n",
"title('Figure 3.16 (b) Matched Filter output')"
   ]
   }
,
{
		   "cell_type": "markdown",
		   "metadata": {},
		   "source": [
			"## Example 3.6: Linear_Predictor_of_Order_one.sce"
		   ]
		  },
  {
"cell_type": "code",
	   "execution_count": null,
	   "metadata": {
	    "collapsed": true
	   },
	   "outputs": [],
"source": [
"//clear//\n",
"//Caption:Linear Predictor of Order one\n",
"//Example3.6: LINEAR PREDICTION: Predictor of Order One\n",
"clear;\n",
"close;\n",
"clc;\n",
"Rxx = [0.6 1 0.6];\n",
"h01 = Rxx(3)/Rxx(2);  //Rxx(2) = Rxx(0), Rxx(3) = Rxx(1)\n",
"sigma_E = Rxx(2) - h01*Rxx(3);\n",
"sigma_X = Rxx(2);\n",
"disp(sigma_E,'Predictor-error variance')\n",
"disp(sigma_X,'Predictor input variance')\n",
"if(sigma_X > sigma_E)\n",
"  disp('The predictor-error variance is less than the variance of the predictor input') \n",
"end"
   ]
   }
],
"metadata": {
		  "kernelspec": {
		   "display_name": "Scilab",
		   "language": "scilab",
		   "name": "scilab"
		  },
		  "language_info": {
		   "file_extension": ".sce",
		   "help_links": [
			{
			 "text": "MetaKernel Magics",
			 "url": "https://github.com/calysto/metakernel/blob/master/metakernel/magics/README.md"
			}
		   ],
		   "mimetype": "text/x-octave",
		   "name": "scilab",
		   "version": "0.7.1"
		  }
		 },
		 "nbformat": 4,
		 "nbformat_minor": 0
}
