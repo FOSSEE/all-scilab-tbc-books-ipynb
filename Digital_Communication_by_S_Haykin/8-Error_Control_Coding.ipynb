{
"cells": [
 {
		   "cell_type": "markdown",
	   "metadata": {},
	   "source": [
       "# Chapter 8: Error Control Coding"
	   ]
	},
{
		   "cell_type": "markdown",
		   "metadata": {},
		   "source": [
			"## Example 8.11: ano_metric_for_binary_symmetric_channel.sce"
		   ]
		  },
  {
"cell_type": "code",
	   "execution_count": null,
	   "metadata": {
	    "collapsed": true
	   },
	   "outputs": [],
"source": [
"//clear//\n",
"//Caption:Fano metric for �binary symmetric channel using convolutional code\n",
"//Example8.11: Convolutional code for binary symmetric channel\n",
"clc;\n",
"r = 1/2; //code rate\n",
"n =2; //number of bits\n",
"pe = 0.04; //transition probility \n",
"p = 1-pe;// probability of correct reception\n",
"gama_1 = 2*log2(p)+2*(1-r); //branch metric for correct reception\n",
"gamma_2 = log2(pe*p)+1; //branch metric for any one correct recption\n",
"gamma_3 = 2*log2(pe)+1; //branch metric for no correct reception\n",
"disp(gama_1,'branch metric for correct reception')\n",
"disp(gamma_2,'branch metric for any one correct recption')\n",
"disp(gamma_3,'branch metric for no correct reception')\n",
"//branch metric for correct reception   \n",
"//     0.8822126  \n",
"//  branch metric for any one correct recption   \n",
"//   - 3.7027499  \n",
"//  branch metric for no correct reception   \n",
"//   - 8.2877124  "
   ]
   }
,
{
		   "cell_type": "markdown",
		   "metadata": {},
		   "source": [
			"## Example 8.1: Repetition_Codes.sce"
		   ]
		  },
  {
"cell_type": "code",
	   "execution_count": null,
	   "metadata": {
	    "collapsed": true
	   },
	   "outputs": [],
"source": [
"//clear//\n",
"//Caption:Repetition Codes\n",
"//Example8.1:Repetition Codes\n",
"clear;\n",
"clc;\n",
"n =5; //block of identical 'n' bits\n",
"k =1; //one bit\n",
"m = 1;// bit value = 1\n",
"I = eye(n-k,n-k);//Identity matrix\n",
"P = ones(1,n-k);//coefficient matrix\n",
"H = [I P'];//parity-check matrix\n",
"G = [P 1];//generator matrix \n",
"x = m.*G; //code word\n",
"disp(G,'generator matrix');\n",
"disp(H,'parity-check matrix');\n",
"disp(x,'code word for binary one input');"
   ]
   }
,
{
		   "cell_type": "markdown",
		   "metadata": {},
		   "source": [
			"## Example 8.2: Hamming_Codes.sce"
		   ]
		  },
  {
"cell_type": "code",
	   "execution_count": null,
	   "metadata": {
	    "collapsed": true
	   },
	   "outputs": [],
"source": [
"//clear//\n",
"//Caption:Hamming Codes\n",
"//Example8.2:Hamming codes\n",
"clear;\n",
"clc;\n",
"k = 4; //message bits length\n",
"n = 7; //block length\n",
"m = n-k;//Number of parity bits\n",
"I = eye(k,k); //identity matrix\n",
"disp(I,'identity matrix Ik')\n",
"P =[1,1,0;0,1,1;1,1,1;1,0,1];//coefficient matrix\n",
"disp(P,'coefficient matrix P')\n",
"G = [P I]; //generator matrix\n",
"disp(G,'generator matrix G')\n",
"H = [eye(k-1,k-1) P'];//parity check matrix\n",
"disp(H,'parity chechk matrix H')\n",
"//message bits\n",
"m = [0,0,0,0;0,0,0,1;0,0,1,0;0,0,1,1;0,1,0,0;0,1,0,1;0,1,1,0;0,1,1,1;1,0,0,0;1,0,0,1;1,0,1,0;1,0,1,1;1,1,0,0;1,1,0,1;1,1,1,0;1,1,1,1];\n",
"//\n",
"C = m*G;\n",
"C = modulo(C,2);\n",
"disp(C,'Code words of (7,4) Hamming code')"
   ]
   }
,
{
		   "cell_type": "markdown",
		   "metadata": {},
		   "source": [
			"## Example 8.3: Hamming_Codes_Revisited.sce"
		   ]
		  },
  {
"cell_type": "code",
	   "execution_count": null,
	   "metadata": {
	    "collapsed": true
	   },
	   "outputs": [],
"source": [
"//clear//\n",
"//Caption:Hamming Codes Revisited\n",
"//Example8.3:(7,4) Hamming Code Revisited\n",
"//message sequence = [1,0,0,1]\n",
"//D = poly(0,D);\n",
"clc;\n",
"D = poly(0,'D');\n",
"g = 1+D+0+D^3; //generator polynomial\n",
"m = (D^3)*(1+0+0+D^3); //message sequence\n",
"[r,q] = pdiv(m,g);\n",
"p = coeff(r);\n",
"disp(r,'remainder in polynomial form')\n",
"disp(p,'Parity bits are:')\n",
"G = [g;g*D;g*D^2;g*D^3];\n",
"G = coeff(G);\n",
"disp(G,'G')\n",
"G(3,:) = G(3,:)+G(1,:);\n",
"G(3,:) = modulo(G(3,:),2);\n",
"G(4,:) = G(1,:)+G(2,:)+G(4,:);\n",
"G(4,:) = modulo(G(4,:),2);\n",
"disp(G,'Generator Matrix G =')\n",
"h = 1+D^-1+D^-2+D^-4;\n",
"H_D = [D^4*h;D^5*h;D^6*h];\n",
"H_num =numer(H_D);\n",
"H = coeff(H_num);\n",
"H(1,:) =H(1,:)+H(3,:);\n",
"H(1,:) = modulo(H(1,:),2);\n",
"disp(H,'Partiy Check matrix H =')"
   ]
   }
,
{
		   "cell_type": "markdown",
		   "metadata": {},
		   "source": [
			"## Example 8.4: Encoder_for_the_7.sce"
		   ]
		  },
  {
"cell_type": "code",
	   "execution_count": null,
	   "metadata": {
	    "collapsed": true
	   },
	   "outputs": [],
"source": [
"//clear//\n",
"//Caption:Encoder for the (7,4) Cyclic Hamming Code\n",
"//Example8.4:Encoder for the (7,4) Cyclic hamming code\n",
"//message sequence = [1,0,0,1]\n",
"//D = poly(0,D);\n",
"D = poly(0,'D');\n",
"g = 1+D+0+D^3; //generator polynomial\n",
"m = (D^3)*(1+0+0+D^3); //message sequence\n",
"[r,q] = pdiv(m,g);\n",
"p = coeff(r);\n",
"disp(r,'remainder in polynomial form')\n",
"disp(p,'Parity bits are:')\n",
"disp('Table 8.3 Contents of the Shift Register in the Encoder of fig8.7 for Message Sequence(1001)')\n",
"disp('__________________________________________________________________________________________')\n",
"disp('Shift            Input            Register Contents')\n",
"disp('__________________________________________________________________________________________')\n",
"disp('1                  1              1 1 0')\n",
"disp('2                  0              0 1 1')\n",
"disp('3                  0              1 1 1')\n",
"disp('4                  1              0 1 1')\n",
"disp('____________________________________________________________________________________________')     "
   ]
   }
,
{
		   "cell_type": "markdown",
		   "metadata": {},
		   "source": [
			"## Example 8.5: syndrome_calculator_for_the_7.sce"
		   ]
		  },
  {
"cell_type": "code",
	   "execution_count": null,
	   "metadata": {
	    "collapsed": true
	   },
	   "outputs": [],
"source": [
"//clear//\n",
"//Caption:Syndrome calculator for the(7,4) Cyclic Hamming Code\n",
"//Example8.5: Syndrome calculator\n",
"//message sequence = [0,1,1,1,0,0,1]\n",
"clc;\n",
"D = poly(0,'D');\n",
"g = 1+D+0+D^3; //generator polynomial\n",
"C1 = 0+D+D^2+D^3+0+0+D^6;//error free codeword\n",
"C2 = 0+D+D^2+0+0+0+D^6;//middle bit is error\n",
"[r1,q1] = pdiv(C1,g);\n",
"S1 = coeff(r1);\n",
"S1 = modulo(S1,2);\n",
"disp(r1,'remainder in polynomial form')\n",
"disp(S1,'Syndrome bits for error free codeword are:')\n",
"[r2,q2] = pdiv(C2,g);\n",
"S2 = coeff(r2);\n",
"S2 = modulo(S2,2);\n",
"disp(r2,'remainder in polynomial form for errored codeword')\n",
"disp(S2,'Syndrome bits for errored  codeword are:')"
   ]
   }
,
{
		   "cell_type": "markdown",
		   "metadata": {},
		   "source": [
			"## Example 8.6: Reed_Solomon_Codes.sce"
		   ]
		  },
  {
"cell_type": "code",
	   "execution_count": null,
	   "metadata": {
	    "collapsed": true
	   },
	   "outputs": [],
"source": [
"//clear//\n",
"//Caption:Reed-Solomon Codes\n",
"//Example8.6: Reed-Solomon Codes\n",
"//Single-error-correcting RS code with a 2-bit byte\n",
"clc;\n",
"m =2; //m-bit symbol\n",
"k = 1^2; //number of message bits\n",
"t =1; //single bit error correction\n",
"n = 2^m-1; //code word length in 2-bit byte\n",
"p = n-k; //parity bits length in  2-bit byte\n",
"r = k/n; //code rate\n",
"disp(n,'n')\n",
"disp(p,'n-k')\n",
"disp(r,'Code rate:r = k/n =')\n",
"disp(2*t,'It can correct any error upto =')"
   ]
   }
,
{
		   "cell_type": "markdown",
		   "metadata": {},
		   "source": [
			"## Example 8.7: Convolutional_Encoding_Time_domain_approach.sce"
		   ]
		  },
  {
"cell_type": "code",
	   "execution_count": null,
	   "metadata": {
	    "collapsed": true
	   },
	   "outputs": [],
"source": [
"//clear//\n",
"//Caption:Convolutional Encoding - Time domain approach\n",
"//Example8.7:Convolutional Code Generation\n",
"//Time Domain Approach\n",
"close;\n",
"clc;\n",
"g1 = input('Enter the input Top Adder Sequence:=')\n",
"g2 = input('Enter the input Bottom Adder Sequence:=')\n",
"m = input('Enter the message sequence:=')\n",
"x1 = round(convol(g1,m));\n",
"x2 = round(convol(g2,m));\n",
"x1 = modulo(x1,2);\n",
"x2 = modulo(x2,2);\n",
"N = length(x1);\n",
"for i =1:length(x1)\n",
"  x(i,:) =[x1(N-i+1),x2(N-i+1)];\n",
"end\n",
"x = string(x)\n",
"disp(x)\n",
"//Result\n",
"//Enter the input Top Adder Sequence:=[1,1,1]\n",
"//Enter the input Bottom Adder Sequence:=[1,0,1]\n",
"//Enter the message sequence:=[1,1,0,0,1]\n",
"//x =\n",
"//!1  1  !\n",
"//!      !\n",
"//!1  0  !\n",
"//!      !\n",
"//!1  1  !\n",
"//!      !\n",
"//!1  1  !\n",
"//!      !\n",
"//!0  1  !\n",
"//!      !\n",
"//!0  1  !\n",
"//!      !\n",
"//!1  1  !"
   ]
   }
,
{
		   "cell_type": "markdown",
		   "metadata": {},
		   "source": [
			"## Example 8.8: Convolutional_Encoding.sce"
		   ]
		  },
  {
"cell_type": "code",
	   "execution_count": null,
	   "metadata": {
	    "collapsed": true
	   },
	   "outputs": [],
"source": [
"//clear//\n",
"//Caption:Convolutional Encoding � Transform domain approach\n",
"//Example8.8:Convolutional code - Transform domain approach\n",
"clc;\n",
"D = poly(0,'D');\n",
"g1D = 1+D+D^2; //generator polynomial 1\n",
"g2D = 1+D^2; //generator polynomial 2\n",
"mD = 1+0+0+D^3+D^4; //message sequence polynomial representation\n",
"x1D = g1D*mD; //top output polynomial\n",
"x2D = g2D*mD; //bottom output polynomial\n",
"x1 = coeff(x1D);\n",
"x2 = coeff(x2D);\n",
"disp(modulo(x1,2),'top output sequence')\n",
"disp(modulo(x2,2),'bottom output sequence')\n",
"//Result\n",
"//top output sequence   \n",
"//    1.    1.    1.    1.    0.    0.    1.  \n",
"// \n",
"// bottom output sequence   \n",
"//    1.    0.    1.    1.    1.    1.    1. "
   ]
   }
],
"metadata": {
		  "kernelspec": {
		   "display_name": "Scilab",
		   "language": "scilab",
		   "name": "scilab"
		  },
		  "language_info": {
		   "file_extension": ".sce",
		   "help_links": [
			{
			 "text": "MetaKernel Magics",
			 "url": "https://github.com/calysto/metakernel/blob/master/metakernel/magics/README.md"
			}
		   ],
		   "mimetype": "text/x-octave",
		   "name": "scilab",
		   "version": "0.7.1"
		  }
		 },
		 "nbformat": 4,
		 "nbformat_minor": 0
}
