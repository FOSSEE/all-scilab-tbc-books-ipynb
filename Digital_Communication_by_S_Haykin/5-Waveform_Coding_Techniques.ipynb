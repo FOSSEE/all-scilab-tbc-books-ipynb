{
"cells": [
 {
		   "cell_type": "markdown",
	   "metadata": {},
	   "source": [
       "# Chapter 5: Waveform Coding Techniques"
	   ]
	},
{
		   "cell_type": "markdown",
		   "metadata": {},
		   "source": [
			"## Example 05.13: A_law_companding.sce"
		   ]
		  },
  {
"cell_type": "code",
	   "execution_count": null,
	   "metadata": {
	    "collapsed": true
	   },
	   "outputs": [],
"source": [
"//clear//\n",
"//Caption:A-law companding\n",
"//Figure5.13(b)A-law companding, Nonlinear Quantization\n",
"//Plotting A-law characteristics for different \n",
"//Values of A\n",
"clc;\n",
"x = 0:0.01:1; //Normalized input\n",
"A = [1,2,87.56];//different values of A\n",
"for i = 1:length(A)\n",
"  [Cx(i,:),Xmax(i)] =  Alaw(x,A(i));\n",
"end\n",
"plot2d(x/Xmax(1),Cx(1,:),2)\n",
"plot2d(x/Xmax(2),Cx(2,:),4)\n",
"plot2d(x/Xmax(3),Cx(3,:),6)\n",
"xtitle('Compression Law: A-Law companding','Normalized Input |x|','Normalized Output |c(x)|');\n",
"legend(['A =1'],['A=2'],['A=87.56'])"
   ]
   }
,
{
		   "cell_type": "markdown",
		   "metadata": {},
		   "source": [
			"## Example 5.13: u_Law_companding.sce"
		   ]
		  },
  {
"cell_type": "code",
	   "execution_count": null,
	   "metadata": {
	    "collapsed": true
	   },
	   "outputs": [],
"source": [
"//clear//\n",
"//Caption:u-Law companding\n",
"//Figure5.13(a)Mulaw companding Nonlinear Quantization\n",
"//Plotting mulaw characteristics for different \n",
"//Values of mu\n",
"clc;\n",
"x = 0:0.01:1; //Normalized input\n",
"mu = [0,5,255];//different values of mu\n",
"for i = 1:length(mu)\n",
"  [Cx(i,:),Xmax(i)] =  mulaw(x,mu(i));\n",
"end\n",
"plot2d(x/Xmax(1),Cx(1,:),2)\n",
"plot2d(x/Xmax(2),Cx(2,:),4)\n",
"plot2d(x/Xmax(3),Cx(3,:),6)\n",
"xtitle('Compression Law: u-Law companding','Normalized Input |x|','Normalized Output |c(x)|');\n",
"legend(['u =0'],['u=5'],['u=255'])"
   ]
   }
,
{
		   "cell_type": "markdown",
		   "metadata": {},
		   "source": [
			"## Example 5.1: Average_Transmitted_Power_for_PCM.sce"
		   ]
		  },
  {
"cell_type": "code",
	   "execution_count": null,
	   "metadata": {
	    "collapsed": true
	   },
	   "outputs": [],
"source": [
"//clear//\n",
"//Caption:Average Transmitted Power for PCM\n",
"//Example5.1:Average Transmitted Power of PCM\n",
"//Page 187\n",
"clear;\n",
"clc;\n",
"sigma_N = input('Enter the noise variance');\n",
"k = input('Enter the separation constant for on-off signaling');\n",
"M = input('Enter the number of discrete amplitude levels for NRZ polar');\n",
"disp('The average transmitted power is:')\n",
"P = (k^2)*(sigma_N)*((M^2)-1)/12;\n",
"disp(P)\n",
"//Result\n",
"//Enter the noise variance 10^-6\n",
"//Enter the separation constant for on-off signaling 7\n",
"//Enter the number of discrete amplitude levels for NRZ polar 2\n",
"// The average transmitted power is: 0.0000122 "
   ]
   }
,
{
		   "cell_type": "markdown",
		   "metadata": {},
		   "source": [
			"## Example 5.2: Comparison_of_M_ary_PCM_with_ideal_system.sce"
		   ]
		  },
  {
"cell_type": "code",
	   "execution_count": null,
	   "metadata": {
	    "collapsed": true
	   },
	   "outputs": [],
"source": [
"//clear//\n",
"//Caption:Comparison of M-ary PCM with ideal system (Channel Capacity Theorem)\n",
"//Example5.2:Comparison of M-ary PCM system\n",
"//Channel Capacity theorem\n",
"clear;\n",
"close;\n",
"clc;\n",
"P_NoB_dB = [-20:30];//Input signal-to-noise ratio P/NoB, decibels\n",
"P_NoB = 10^(P_NoB_dB/10);\n",
"k =7; // for M-ary PCM system;\n",
"Rb_B = log2(1+(12/k^2)*P_NoB);//bandwidth efficiency in bits/sec/Hz\n",
"C_B = log2(1+P_NoB);//ideal system according to Shannon's channel capacity theorem\n",
"//plot\n",
"a =gca();\n",
"a.data_bounds = [-30,0;40,10];\n",
"plot2d(P_NoB_dB,C_B,5)\n",
"plot2d(P_NoB_dB,Rb_B,5)\n",
"poly1= a.children(1).children(1);\n",
"poly1.thickness =2;\n",
"poly1.line_style = 4;\n",
"xlabel('Input signal-to-noise ratio P/NoB, decibels')\n",
"ylabel('Bandwidth efficiency, Rb/B, bits per second per hertz')\n",
"title('Figure 5.9 Comparison of M-ary PCM with the ideal ssytem')\n",
"legend(['Ideal System','PCM'])\n",
""
   ]
   }
,
{
		   "cell_type": "markdown",
		   "metadata": {},
		   "source": [
			"## Example 5.3: Signal_to_Quantization_Noise_Ratio_of_PCM.sce"
		   ]
		  },
  {
"cell_type": "code",
	   "execution_count": null,
	   "metadata": {
	    "collapsed": true
	   },
	   "outputs": [],
"source": [
"//clear//\n",
"//Caption:Signal-to-Quantization Noise Ratio of PCM\n",
"//Example5.3:Signal-to-Quantization noise ratio\n",
"//Channel Bandwidth B\n",
"clear;\n",
"clc;\n",
"n = input('Enter no. of bits used to encode:')\n",
"W = input('Enter the message signal banwidth in Hz:')\n",
"B = n*W;\n",
"disp(B,'Channel width in Hz:')\n",
"SNRo = 6*n - 7.2;\n",
"disp(SNRo,'Output Signal to noise ratio in dB:')\n",
"//Result 1 if  n = 8 bits\n",
"//Enter no. of bits used to encode: 8\n",
"//Enter the message signal banwidth in Hz: 4000\n",
"//Channel width in Hz:  32000.  \n",
"//Output Signal to noise ratio in dB: 40.8  \n",
"///////////////////////////////////////////////\n",
"//Result 2 if n = 9 bits\n",
"//Enter no. of bits used to encode:9\n",
"//Enter the message signal banwidth in Hz:4000\n",
"//Channel width in Hz: 36000.  \n",
"//Output Signal to noise ratio in dB: 46.8  \n",
"//////////////////////////////////////////////\n",
"//Conclusion: comparing result 1 with result 2 if number of bits increased by 1\n",
"//corresponding output signal to noise in PCM increased by 6 dB."
   ]
   }
,
{
		   "cell_type": "markdown",
		   "metadata": {},
		   "source": [
			"## Example 5.5: Delta_Modulation_to_avoid_slope_overload_distortion.sce"
		   ]
		  },
  {
"cell_type": "code",
	   "execution_count": null,
	   "metadata": {
	    "collapsed": true
	   },
	   "outputs": [],
"source": [
"//clear//\n",
"//Example 5:Delta Modulation - to avoid slope overload distortion\n",
"//maximum output signal-to-noise ratio for sinusoidal modulation\n",
"//page 207\n",
"clear;\n",
"clc;\n",
"a0 = input('Enter the amplitude of sinusoidal signal:');\n",
"f0 = input('Enter the frequency of sinusoidal signal in Hz:');\n",
"fs = input('Enter the sampling frequency in samples per seconds:');\n",
"Ts = 1/fs;//Sampling interval\n",
"delta = 2*%pi*f0*a0*Ts;//Step size to avoid slope overload\n",
"Pmax = (a0^2)/2;//maximum permissible output power\n",
"sigma_Q = (delta^2)/3;//Quantization error or noise variance\n",
"W = f0;//Maximum message bandwidth\n",
"N = W*Ts*sigma_Q; //Average output noise power\n",
"SNRo = Pmax/N; // Maximum output signal-to-noise ratio\n",
"SNRo_dB = 10*log10(SNRo);\n",
"disp(SNRo_dB,'Maximum output signal-to-nosie in dB for Delta Modualtion:')\n",
"//Result 1 for fs = 8000 Hertz\n",
"//Enter the amplitude of sinusoidal signal:1\n",
"//Enter the frequency of sinusoidal signal in Hz:4000\n",
"//Enter the sampling frequency in samples per seconds:8000\n",
"//Maximum output signal-to-nosie in dB for Delta Modualtion:-5.1717849 \n",
"//////////////////////////////////////////////////////////////////////\n",
"//Result 2 for fs = 16000 Hertz\n",
"//Enter the amplitude of sinusoidal signal:1\n",
"//Enter the frequency of sinusoidal signal in Hz:4000\n",
"//Enter the sampling frequency in samples per seconds:16000\n",
"//Maximum output signal-to-nosie in dB for Delta Modualtion:3.859115 \n",
"///////////////////////////////////////////////////////////////////////\n",
"//Conclusion: comparing result 1 with result 2, if the sampling frequency\n",
"//is doubled the signal to noise increased by 9 dB "
   ]
   }
],
"metadata": {
		  "kernelspec": {
		   "display_name": "Scilab",
		   "language": "scilab",
		   "name": "scilab"
		  },
		  "language_info": {
		   "file_extension": ".sce",
		   "help_links": [
			{
			 "text": "MetaKernel Magics",
			 "url": "https://github.com/calysto/metakernel/blob/master/metakernel/magics/README.md"
			}
		   ],
		   "mimetype": "text/x-octave",
		   "name": "scilab",
		   "version": "0.7.1"
		  }
		 },
		 "nbformat": 4,
		 "nbformat_minor": 0
}
