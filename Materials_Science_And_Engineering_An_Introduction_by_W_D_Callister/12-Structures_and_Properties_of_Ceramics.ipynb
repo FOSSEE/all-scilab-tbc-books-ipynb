{
"cells": [
 {
		   "cell_type": "markdown",
	   "metadata": {},
	   "source": [
       "# Chapter 12: Structures and Properties of Ceramics"
	   ]
	},
{
		   "cell_type": "markdown",
		   "metadata": {},
		   "source": [
			"## Example 12.1: Computation_of_Minimum_Cation_to_Anion_Radius_Ratio.sce"
		   ]
		  },
  {
"cell_type": "code",
	   "execution_count": null,
	   "metadata": {
	    "collapsed": true
	   },
	   "outputs": [],
"source": [
"//Computation of Minimum Caion-to-Anion Radius Ratio forCo-ordination No. of 3\n",
"\n",
"clear;\n",
"clc;\n",
"\n",
"printf('\tExample 12.1\n');\n",
"\n",
"printf('\nFor equilateral triangle after joining centres of the atoms \nAngle = 30\n');\n",
"\n",
"a=30;\n",
"\n",
"ratio=(1-cos(30*%pi/180))/cos(30*%pi/180);\n",
"\n",
"printf('\nCation to anion raio is : %.3f\n',ratio);\n",
"\n",
"//End"
   ]
   }
,
{
		   "cell_type": "markdown",
		   "metadata": {},
		   "source": [
			"## Example 12.2: Ceramic_Crystal_Structure_Predictio.sce"
		   ]
		  },
  {
"cell_type": "code",
	   "execution_count": null,
	   "metadata": {
	    "collapsed": true
	   },
	   "outputs": [],
"source": [
"//Ceramic Crystal structure prediction\n",
"\n",
"clear;\n",
"clc;\n",
"\n",
"printf('\tExample 12.2\n');\n",
"\n",
"r_Fe=0.077;  // in nm Radius of iron cation Fe++\n",
"\n",
"r_O=0.140;  //in nm  Radius of Oxygen anion O--\n",
"\n",
"ratio=r_Fe/r_O;\n",
"\n",
"printf('\nRatio is : %0.3f',ratio);\n",
"\n",
"if ratio>0.414 & ratio<0.732 then\n",
"    printf('\nCo-ordinaton no. is 6');\n",
"    printf('\nStructure is Rock Salt type\n');\n",
"end"
   ]
   }
,
{
		   "cell_type": "markdown",
		   "metadata": {},
		   "source": [
			"## Example 12.3: Theoretical_Density_Calculation.sce"
		   ]
		  },
  {
"cell_type": "code",
	   "execution_count": null,
	   "metadata": {
	    "collapsed": true
	   },
	   "outputs": [],
"source": [
"//Theoretical Density Determination for NaCl\n",
"\n",
"clear;\n",
"clc;\n",
"\n",
"printf('\tExample12.3\n');\n",
"\n",
"A_Na=22.99;  // in g/mol\n",
"A_Cl=35.45;  //in g/mol\n",
"\n",
"r_Na=0.102*10^-7;  //in cm Radius of Na+ ion\n",
"r_Cl=0.181*10^-7;  //in cm Radius of Cl- ion\n",
"\n",
"a=2*(r_Na+r_Cl);\n",
"V=a^3;\n",
"\n",
"n=4;  //For FCC, no. of atoms are 4 per crystal\n",
"\n",
"Na=6.023*10^23;  //Avogadro number\n",
"\n",
"density=n*(A_Na+A_Cl)/(V*Na);\n",
"\n",
"printf('\nDensity is : %0.2f g/cm^3\n',density);\n",
"\n",
"//End"
   ]
   }
,
{
		   "cell_type": "markdown",
		   "metadata": {},
		   "source": [
			"## Example 12.4: Computation_of_the_Number_of_Schottky_Defects.sce"
		   ]
		  },
  {
"cell_type": "code",
	   "execution_count": null,
	   "metadata": {
	    "collapsed": true
	   },
	   "outputs": [],
"source": [
"//Computation of the No. of Schottky Defects in KCl\n",
"\n",
"clear;\n",
"clc;\n",
"\n",
"printf('\tExample 12.4\n');\n",
"\n",
"Na=6.023*10^23;  //Avogadro number\n",
"density=1.955;  //in g/cm^3\n",
"\n",
"A_K=39.1;  //in g/mol\n",
"A_Cl=35.45;  //in g/mol\n",
"\n",
"N=Na*density*10^6/(A_K+A_Cl);\n",
"\n",
"printf('\nNo. of lattice points are : %0.2f * 10 ^ 28 /m^3\n',N/10^28);\n",
"\n",
"Qs=2.6;  // in eV\n",
"k=8.62*10^-5;  // in eV/K  Boltzmann Constant\n",
"T=500+273;  // in K\n",
"\n",
"Ns=N*%e^(-Qs/(2*k*T));\n",
"\n",
"printf('\nSchottky Defects are : %0.2f * 10 ^ 19 /m^3\n',Ns/10^19);\n",
"\n",
"//End"
   ]
   }
,
{
		   "cell_type": "markdown",
		   "metadata": {},
		   "source": [
			"## Example 12.5: Determination_of_Possible_Point_Defect_Types.sce"
		   ]
		  },
  {
"cell_type": "code",
	   "execution_count": null,
	   "metadata": {
	    "collapsed": true
	   },
	   "outputs": [],
"source": [
"//Determination of Possible Point Defect Types\n",
"\n",
"clear;\n",
"clc;\n",
"\n",
"printf('\tExample 12.5\n');\n",
"\n",
"disp('Replacement of Na+ by a Ca++ ion introduces one extra positive charge');\n",
"\n",
"disp('Removal of a positive charge is accomplished by the formation of one Na+ vacancy');\n",
"\n",
"disp('Alternatively, a Cl- interstitial will supply an additional negative charge, negating the effect of each Ca++ ion.');\n",
"\n",
"disp('The formation of this defect is highly unlikely.');\n",
"\n",
"//End"
   ]
   }
],
"metadata": {
		  "kernelspec": {
		   "display_name": "Scilab",
		   "language": "scilab",
		   "name": "scilab"
		  },
		  "language_info": {
		   "file_extension": ".sce",
		   "help_links": [
			{
			 "text": "MetaKernel Magics",
			 "url": "https://github.com/calysto/metakernel/blob/master/metakernel/magics/README.md"
			}
		   ],
		   "mimetype": "text/x-octave",
		   "name": "scilab",
		   "version": "0.7.1"
		  }
		 },
		 "nbformat": 4,
		 "nbformat_minor": 0
}
