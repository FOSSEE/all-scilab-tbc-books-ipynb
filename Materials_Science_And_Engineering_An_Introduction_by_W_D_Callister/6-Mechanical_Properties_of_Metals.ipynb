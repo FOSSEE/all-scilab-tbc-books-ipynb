{
"cells": [
 {
		   "cell_type": "markdown",
	   "metadata": {},
	   "source": [
       "# Chapter 6: Mechanical Properties of Metals"
	   ]
	},
{
		   "cell_type": "markdown",
		   "metadata": {},
		   "source": [
			"## Example 6.1: Elongation_Computation.sce"
		   ]
		  },
  {
"cell_type": "code",
	   "execution_count": null,
	   "metadata": {
	    "collapsed": true
	   },
	   "outputs": [],
"source": [
"//Elongation (Elastic) Computation\n",
"\n",
"clear;\n",
"clc;\n",
"\n",
"printf('\tExample 6.1\n');\n",
"\n",
"E=110*10^3;  //Young's modulus of Copper in MPa\n",
"sigma=276;   //Applied stress in MPa\n",
"lo=305;     //Original length in mm\n",
"\n",
"//Deformation\n",
"dl=sigma*lo/E;\n",
"\n",
"printf('\nElongation obtained is %.2f mm \n',dl);\n",
"\n",
"//End"
   ]
   }
,
{
		   "cell_type": "markdown",
		   "metadata": {},
		   "source": [
			"## Example 6.2: Computation_of_Load_to_Produce_Specified_Diameter_Change.sce"
		   ]
		  },
  {
"cell_type": "code",
	   "execution_count": null,
	   "metadata": {
	    "collapsed": true
	   },
	   "outputs": [],
"source": [
"//Computation of Load to Produce Specified Diameter Change\n",
"\n",
"clear;\n",
"clc;\n",
"\n",
"printf('\tExample 6.2\n');\n",
"\n",
"del_d=-2.5*10^-3;  //Deformation in dia  in mm\n",
"d0=10;             //Initial dia  in mm\n",
"\n",
"v=0.34;           //Poisson ratio for brass\n",
"\n",
"ex=del_d/d0;\n",
"printf('\nStrain in x-direction is %f',ex);\n",
"\n",
"ez=-ex/v;\n",
"printf('\nStrain in z-direction is %f',ez);\n",
"\n",
"E=97*10^3;        //Modulus of elasticity in MPa\n",
"sigma=ez*E;\n",
"F=sigma*%pi*(d0^2)/4;\n",
"\n",
"printf('\nApplied force is %d N',F);\n",
"\n",
"//End"
   ]
   }
,
{
		   "cell_type": "markdown",
		   "metadata": {},
		   "source": [
			"## Example 6.3_a: Modulus_of_elasticity.sce"
		   ]
		  },
  {
"cell_type": "code",
	   "execution_count": null,
	   "metadata": {
	    "collapsed": true
	   },
	   "outputs": [],
"source": [
"clear;\n",
"clc;\n",
"\n",
"printf('\tExample 6.3\n');\n",
"\n",
"//From draph in the question\n",
"//stress and strain can be obtained\n",
"\n",
"si2=150;           // in MPa\n",
"si1=0;\n",
"e2=0.0016;\n",
"e1=0;\n",
"d0=12.8*10^-3;    //Initial Diameter in m\n",
"\n",
"printf('\n\tPart A');\n",
"//Young's Modulus = stress/strain\n",
"E=(si2-si1)/(e2-e1);\n",
"printf('\nModulus of elasticity is %.2f GPa',E/10^3);\n",
"\n",
"//End"
   ]
   }
,
{
		   "cell_type": "markdown",
		   "metadata": {},
		   "source": [
			"## Example 6.3_c: Maximum_load.sce"
		   ]
		  },
  {
"cell_type": "code",
	   "execution_count": null,
	   "metadata": {
	    "collapsed": true
	   },
	   "outputs": [],
"source": [
"clear;\n",
"clc;\n",
"\n",
"printf('\tExample 6.3\n');\n",
"\n",
"//From draph in the question\n",
"//stress and strain can be obtained\n",
"\n",
"si2=150;           // in MPa\n",
"si1=0;\n",
"e2=0.0016;\n",
"e1=0;\n",
"d0=12.8*10^-3;    //Initial Diameter in m\n",
"\n",
"printf('\n\tPart C');\n",
"A0=%pi*d0^2/4;\n",
"sig=450*10^6;     //tensile strength in MPa\n",
"\n",
"F=sig*A0;\n",
"printf('\nMaximum load sustained is %d N\n',F);\n",
"\n",
"//End"
   ]
   }
,
{
		   "cell_type": "markdown",
		   "metadata": {},
		   "source": [
			"## Example 6.3_d: Change_in_length.sce"
		   ]
		  },
  {
"cell_type": "code",
	   "execution_count": null,
	   "metadata": {
	    "collapsed": true
	   },
	   "outputs": [],
"source": [
"clear;\n",
"clc;\n",
"\n",
"printf('\tExample 6.3\n');\n",
"\n",
"//From draph in the question\n",
"//stress and strain can be obtained\n",
"\n",
"printf('\n\tPart D');\n",
"\n",
"//From stress-strain curve\n",
"//Strain corresponding to stress of 345 MPa is 0.06\n",
"\n",
"l0=250;     //Initial lengt in mm\n",
"e=0.06;     //strain\n",
"\n",
"dl=e*l0;\n",
"printf('\nChange in length is %d mm',dl);\n",
"\n",
"\n",
"//End"
   ]
   }
,
{
		   "cell_type": "markdown",
		   "metadata": {},
		   "source": [
			"## Example 6.4_a: Ductility_Computations.sce"
		   ]
		  },
  {
"cell_type": "code",
	   "execution_count": null,
	   "metadata": {
	    "collapsed": true
	   },
	   "outputs": [],
"source": [
"//Ductility\n",
"\n",
"clear;\n",
"clc;\n",
"\n",
"printf('\tExample 6.4\n');\n",
"\n",
"di=12.8;     //Initial dia in mm\n",
"df=10.7;     //Final dia  in mm\n",
"\n",
"printf('\n\tPart A');\n",
"\n",
"//Ductility in terms of Reduction Area \n",
"RA = ((di^2-df^2)/di^2)*100;\n",
"printf('\npercent reduction in area is %d %%\n',RA);\n",
"\n",
"//End"
   ]
   }
,
{
		   "cell_type": "markdown",
		   "metadata": {},
		   "source": [
			"## Example 6.4_b: True_Stress_At_Fracture_Computations.sce"
		   ]
		  },
  {
"cell_type": "code",
	   "execution_count": null,
	   "metadata": {
	    "collapsed": true
	   },
	   "outputs": [],
"source": [
"//True-Stress-At-Fracture Computations\n",
"\n",
"clear;\n",
"clc;\n",
"\n",
"printf('\tExample 6.4\n');\n",
"\n",
"di=12.8;     //Initial dia in mm\n",
"df=10.7;     //Final dia  in mm\n",
"\n",
"printf('\n\tPart B');\n",
"Ao=%pi*di^2*10^-6/4;\n",
"sig=460*10^6;    //Tensile strength\n",
"\n",
"F=sig*Ao;\n",
"printf('\nF = %d N',F);\n",
"\n",
"Af=%pi*df^2/4;\n",
"sig_t=F/Af;\n",
"printf('\nTrue stress is %d MPa',sig_t);\n",
"\n",
"//End"
   ]
   }
,
{
		   "cell_type": "markdown",
		   "metadata": {},
		   "source": [
			"## Example 6.5: Calculation_of_Strain_Hardening_Exponent.sce"
		   ]
		  },
  {
"cell_type": "code",
	   "execution_count": null,
	   "metadata": {
	    "collapsed": true
	   },
	   "outputs": [],
"source": [
"//Calculation of Strain-Hardening Exponent\n",
"\n",
"clear;\n",
"clc;\n",
"\n",
"printf('\tExample 6.5\n');\n",
"\n",
"sig_t=415;       //True stress in MPa\n",
"et=0.1;          //True strain\n",
"K=1035;         // In MPa\n",
"\n",
"n=log(sig_t/K)/log(et);\n",
"\n",
"printf('\nStrain - hardening coefficient is %.2f',n);\n",
"\n",
"//End"
   ]
   }
,
{
		   "cell_type": "markdown",
		   "metadata": {},
		   "source": [
			"## Example 6.6_a: Average_Computations.sce"
		   ]
		  },
  {
"cell_type": "code",
	   "execution_count": null,
	   "metadata": {
	    "collapsed": true
	   },
	   "outputs": [],
"source": [
"//Average Computations\n",
"\n",
"clear;\n",
"clc;\n",
"\n",
"printf('\tExample 6.6a\n');\n",
"\n",
"//First and Last point are arbitary to plot the required 4 points\n",
"n=[0 1 2 3 4 5];\n",
"TS=[510 520 512 515 522 525];\n",
"\n",
"plot(n,TS,'+');\n",
"xtitle('Tensile strength data','Sample no.','Tensile strength');\n",
"\n",
"//Mean Tensile strength\n",
"i=2;\n",
"TSmean=0;\n",
"\n",
"for i=2:5\n",
"    TSmean=TSmean+(TS(i)/4);\n",
"end\n",
"printf('\nMean tensile strength is %d MPa\n',TSmean);\n",
"\n",
"//End"
   ]
   }
,
{
		   "cell_type": "markdown",
		   "metadata": {},
		   "source": [
			"## Example 6.6_b: Standard_Deviation_Computations.sce"
		   ]
		  },
  {
"cell_type": "code",
	   "execution_count": null,
	   "metadata": {
	    "collapsed": true
	   },
	   "outputs": [],
"source": [
"//Standard Deviation Computations\n",
"\n",
"clear;\n",
"clc;\n",
"\n",
"printf('\tExample 6.6b\n');\n",
"\n",
"//First and Last point are arbitary to plot the required 4 points\n",
"n=[0 1 2 3 4 5];\n",
"TS=[510 520 512 515 522 525];\n",
"\n",
"i=2;\n",
"TSmean=0;\n",
"\n",
"for i=2:5\n",
"    TSmean=TSmean+(TS(i)/4);\n",
"end\n",
"\n",
"//Standard Deviation\n",
"j=0;\n",
"std=0;\n",
"\n",
"for i=2:5\n",
"    std=std+((TS(i)-TSmean)^2/(4-1));\n",
"end\n",
"\n",
"printf('\nStandard deviation is %.1f MPa\n',sqrt(std));\n",
"\n",
"//End"
   ]
   }
,
{
		   "cell_type": "markdown",
		   "metadata": {},
		   "source": [
			"## Example 6.7: Specification_of_Support_Post_Diameter.sce"
		   ]
		  },
  {
"cell_type": "code",
	   "execution_count": null,
	   "metadata": {
	    "collapsed": true
	   },
	   "outputs": [],
"source": [
"//Specification of Support Post Diameter\n",
"\n",
"clear;\n",
"clc;\n",
"\n",
"printf('\tDesign Example 6.1\n');\n",
"\n",
"sig_y=310;      //Minimum yield strength in MPa\n",
"N=5;           // Conservative factor of safety\n",
"\n",
"F=220000/2;    //Two rods must support half of the total force\n",
"\n",
"sig_w=sig_y/N;\n",
"d=2*sqrt(F/(%pi*sig_w));\n",
"\n",
"printf('\nDiameter of each of the two rods is %.1f mm\n',d);\n",
"\n",
"//End"
   ]
   }
],
"metadata": {
		  "kernelspec": {
		   "display_name": "Scilab",
		   "language": "scilab",
		   "name": "scilab"
		  },
		  "language_info": {
		   "file_extension": ".sce",
		   "help_links": [
			{
			 "text": "MetaKernel Magics",
			 "url": "https://github.com/calysto/metakernel/blob/master/metakernel/magics/README.md"
			}
		   ],
		   "mimetype": "text/x-octave",
		   "name": "scilab",
		   "version": "0.7.1"
		  }
		 },
		 "nbformat": 4,
		 "nbformat_minor": 0
}
