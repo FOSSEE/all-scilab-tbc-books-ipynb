{
"cells": [
 {
		   "cell_type": "markdown",
	   "metadata": {},
	   "source": [
       "# Chapter 16: Composites"
	   ]
	},
{
		   "cell_type": "markdown",
		   "metadata": {},
		   "source": [
			"## Example 16.1_a: Modulus_of_elasticity.sce"
		   ]
		  },
  {
"cell_type": "code",
	   "execution_count": null,
	   "metadata": {
	    "collapsed": true
	   },
	   "outputs": [],
"source": [
"clear;\n",
"clc;\n",
"\n",
"x=poly([0],'x');\n",
"printf('\tExample 16.1\n');\n",
"\n",
"printf('\n\tPart A');\n",
"E_gf=69;  // in GPa  Elasticity of glass fibre\n",
"mf_gf=0.4;  //Vol % of glass fibre\n",
"E_pr=3.4;  // in GPa  Elasticity of poyester resin\n",
"mf_pr=0.6;  //Vol % of polyester resin\n",
"\n",
"E_cl=(E_pr*mf_pr)+(E_gf*mf_gf);\n",
"printf('\nModulus of elasticity of composite is : %f GPa\n',E_cl);\n",
"\n",
"//End"
   ]
   }
,
{
		   "cell_type": "markdown",
		   "metadata": {},
		   "source": [
			"## Example 16.1_b: Magnitude_of_the_load.sce"
		   ]
		  },
  {
"cell_type": "code",
	   "execution_count": null,
	   "metadata": {
	    "collapsed": true
	   },
	   "outputs": [],
"source": [
"clear;\n",
"clc;\n",
"\n",
"x=poly([0],'x');\n",
"printf('\tExample 16.1\n');\n",
"\n",
"E_gf=69;  // in GPa  Elasticity of glass fibre\n",
"mf_gf=0.4;  //Vol % of glass fibre\n",
"E_pr=3.4;  // in GPa  Elasticity of poyester resin\n",
"mf_pr=0.6;  //Vol % of polyester resin\n",
"\n",
"printf('\n\tPart B');\n",
"Ac=250;  //mm^2\n",
"sigma=50;  //MPa\n",
"f=(E_gf*mf_gf)/(E_pr*mf_pr);\n",
"Fc=Ac*sigma;  //N\n",
"Fm=roots(f*x+x-Fc);  //N\n",
"printf('\nFm is : %f N\n',Fm);\n",
"\n",
"Ff=Fc-Fm;\n",
"printf('\nLoad carried by each of fiber and matrix phase is : %f N\n',Ff);\n",
"\n",
"//End"
   ]
   }
,
{
		   "cell_type": "markdown",
		   "metadata": {},
		   "source": [
			"## Example 16.1_c: Strain_determination.sce"
		   ]
		  },
  {
"cell_type": "code",
	   "execution_count": null,
	   "metadata": {
	    "collapsed": true
	   },
	   "outputs": [],
"source": [
"clear;\n",
"clc;\n",
"\n",
"x=poly([0],'x');\n",
"printf('\tExample 16.1\n');\n",
"\n",
"E_gf=69;  // in GPa  Elasticity of glass fibre\n",
"mf_gf=0.4;  //Vol % of glass fibre\n",
"E_pr=3.4;  // in GPa  Elasticity of poyester resin\n",
"mf_pr=0.6;  //Vol % of polyester resin\n",
"\n",
"Ac=250;  //mm^2\n",
"sigma=50;  //MPa\n",
"f=(E_gf*mf_gf)/(E_pr*mf_pr);\n",
"Fc=Ac*sigma;  //N\n",
"Fm=roots(f*x+x-Fc);  //N\n",
"\n",
"Ff=Fc-Fm;\n",
"\n",
"printf('\n\tPart C');\n",
"Am=mf_pr*Ac;\n",
"Af=mf_gf*Ac;\n",
"sigma_m=Fm/Am;\n",
"sigma_f=Ff/Af;\n",
"\n",
"e_m=sigma_m/E_pr;  //Strain for matrix phase\n",
"e_f=sigma_f/E_gf; //Strain for fiber phase\n",
"\n",
"printf('\nStrain for matrix phase is : %f\n',e_m);\n",
"printf('\nStrain for fiber phase is : %f\n',e_f);\n",
"\n",
"//End"
   ]
   }
,
{
		   "cell_type": "markdown",
		   "metadata": {},
		   "source": [
			"## Example 16.2: Elastic_Modulus_Determination.sce"
		   ]
		  },
  {
"cell_type": "code",
	   "execution_count": null,
	   "metadata": {
	    "collapsed": true
	   },
	   "outputs": [],
"source": [
"//Elastic Modulus Determination for a Glass Fiber-Reinforced Composite—Transverse Direction\n",
"\n",
"clear;\n",
"clc;\n",
"\n",
"printf('\tExample 16.2\n');\n",
"E_gf=69;  // in GPa  Elasticity of glass fibre\n",
"mf_gf=0.4;  //Vol % of glass fibre\n",
"E_pr=3.4;  // in GPa  Elasticity of poyester resin\n",
"mf_pr=0.6;  //Vol % of polyester resin\n",
"\n",
"E_ct=E_pr*E_gf/((E_pr*mf_gf)+(E_gf*mf_pr));  //GPa\n",
"\n",
"printf('\nIn transverse direction, modulus of elaticity is : %f GPa\n',E_ct);\n",
"\n",
"//End"
   ]
   }
],
"metadata": {
		  "kernelspec": {
		   "display_name": "Scilab",
		   "language": "scilab",
		   "name": "scilab"
		  },
		  "language_info": {
		   "file_extension": ".sce",
		   "help_links": [
			{
			 "text": "MetaKernel Magics",
			 "url": "https://github.com/calysto/metakernel/blob/master/metakernel/magics/README.md"
			}
		   ],
		   "mimetype": "text/x-octave",
		   "name": "scilab",
		   "version": "0.7.1"
		  }
		 },
		 "nbformat": 4,
		 "nbformat_minor": 0
}
