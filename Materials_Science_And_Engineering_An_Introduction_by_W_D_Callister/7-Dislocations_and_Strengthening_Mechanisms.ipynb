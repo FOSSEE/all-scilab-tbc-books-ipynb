{
"cells": [
 {
		   "cell_type": "markdown",
	   "metadata": {},
	   "source": [
       "# Chapter 7: Dislocations and Strengthening Mechanisms"
	   ]
	},
{
		   "cell_type": "markdown",
		   "metadata": {},
		   "source": [
			"## Example 7.1_a: Resolved_Shear_Stress.sce"
		   ]
		  },
  {
"cell_type": "code",
	   "execution_count": null,
	   "metadata": {
	    "collapsed": true
	   },
	   "outputs": [],
"source": [
"//Resolved Shear Stress Computations\n",
"\n",
"clear;\n",
"clc;\n",
"\n",
"printf('\tExample 7.1\n');\n",
"\n",
"x=[1 1 0];    //Indices of Plane\n",
"y=[0 1 0];    //direction of applied tensile stress\n",
"z=[-1 1 1];   //Direction of shear stress\n",
"\n",
"function[angle]=dotproduct(a,b)\n",
"    num=(a(1)*b(1))+(a(2)*b(2))+(a(3)*b(3));\n",
"    den=sqrt((a(1)^2+a(2)^2+a(3)^2)*(b(1)^2+b(2)^2+b(3)^2));\n",
"    angle=acos(num/den);\n",
"    funcprot(0)\n",
"endfunction\n",
"\n",
"phi=dotproduct(x,y);\n",
"lambda=dotproduct(y,z);\n",
"\n",
"printf('\nAngles phi is %.1f degree and lambda is %.1f degree\n',phi*180/%pi,lambda*180/%pi);\n",
"\n",
"\n",
"//When a tensile stress of 52 MPa (7500 psi) is applied\n",
"printf('\n\tPart A\n');\n",
"sigma=52;  //in MPa\n",
"tr=sigma*cos(phi)*cos(lambda);\n",
"printf('Resolved shear stress is %.1f MPa\n',tr);\n",
"\n",
"//End"
   ]
   }
,
{
		   "cell_type": "markdown",
		   "metadata": {},
		   "source": [
			"## Example 7.1_b: Stress_to_Initiate_Yielding_Computations.sce"
		   ]
		  },
  {
"cell_type": "code",
	   "execution_count": null,
	   "metadata": {
	    "collapsed": true
	   },
	   "outputs": [],
"source": [
"//Stress-to-Initiate-Yielding Computations\n",
"\n",
"clear;\n",
"clc;\n",
"\n",
"printf('\tExample 7.1\n');\n",
"\n",
"x=[1 1 0];    //Indices of Plane\n",
"y=[0 1 0];    //direction of applied tensile stress\n",
"z=[-1 1 1];   //Direction of shear stress\n",
"\n",
"function[angle]=dotproduct(a,b)\n",
"    num=(a(1)*b(1))+(a(2)*b(2))+(a(3)*b(3));\n",
"    den=sqrt((a(1)^2+a(2)^2+a(3)^2)*(b(1)^2+b(2)^2+b(3)^2));\n",
"    angle=acos(num/den);\n",
"    funcprot(0)\n",
"endfunction\n",
"\n",
"phi=dotproduct(x,y);\n",
"lambda=dotproduct(y,z);\n",
"\n",
"printf('\nAngles phi is %.1f degree and lambda is %.1f degree\n',phi*180/%pi,lambda*180/%pi);\n",
"\n",
"//If slip occurs on a (110) plane and in a [-1 1 1]direction, and the critical resolved shear stress is 30 MPa\n",
"printf('\n\tPart B')\n",
"\n",
"trc=30;  //in MPa Critical resolved shear stress\n",
"\n",
"sy=trc/(cos(phi)*cos(lambda));\n",
"printf('\nYield strength is %.1f MPa\n',sy);\n",
"\n",
"//End"
   ]
   }
,
{
		   "cell_type": "markdown",
		   "metadata": {},
		   "source": [
			"## Example 7.2: Tensile_Strength_and_Ductility_Determinations.sce"
		   ]
		  },
  {
"cell_type": "code",
	   "execution_count": null,
	   "metadata": {
	    "collapsed": true
	   },
	   "outputs": [],
"source": [
"//Tensile Strength and Ductility Determinations for Cold-Worked Copper\n",
"\n",
"clear;\n",
"clc;\n",
"\n",
"printf('\t Example 7.2\n');\n",
"\n",
"df=12.2;  //Final dia in mm\n",
"di=15.2;  //Initial dia in mm\n",
"\n",
"CW = ((di^2-df^2)/di^2)*100;\n",
"\n",
"printf('\nCold work is %.1f %%\n',CW);\n",
"\n",
"ts=340;  //in Mpa  tensile strength\n",
"duc=7;   //in %  Ductility\n",
"printf('\nFrom graph of Fig. 7.19b in book');\n",
"printf('\nTensile strength is %d MPa',ts);\n",
"printf('\nDuctility is %d %% EL\n',duc);\n",
"\n",
"//End"
   ]
   }
,
{
		   "cell_type": "markdown",
		   "metadata": {},
		   "source": [
			"## Example 7.3: Description_of_Diameter_Reduction_Procedure.sce"
		   ]
		  },
  {
"cell_type": "code",
	   "execution_count": null,
	   "metadata": {
	    "collapsed": true
	   },
	   "outputs": [],
"source": [
"//Description of Diameter Reduction Procedure\n",
"\n",
"clear;\n",
"clc;\n",
"\n",
"printf('\tDesign Example 7.1\n');\n",
"\n",
"di=6.4;  //Initial dia in mm\n",
"df=5.1;  //Final dia in mm\n",
"\n",
"//Cold Work Computation\n",
"CW = ((di^2-df^2)/di^2)*100;\n",
"\n",
"printf('\nCold work is %.1f %%\n',CW);\n",
"\n",
"//From Figures 7.19a and 7.19c, \n",
"//A yield strength of 410 MPa \n",
"//And a ductility of 8% EL are attained from this deformation\n",
"\n",
"printf('\nBut required ductility and yield strength is not matched at this cold work');\n",
"printf('\nHence required Cold work is 21.5 %%');\n",
"\n",
"//x=poly([0],'x');\n",
"dmid = sqrt(df^2/(1-0.215));\n",
"\n",
"printf('\nHence first draw to %.1fmm and then to %.1fmm\n',dmid,df);\n",
"\n",
"//End"
   ]
   }
],
"metadata": {
		  "kernelspec": {
		   "display_name": "Scilab",
		   "language": "scilab",
		   "name": "scilab"
		  },
		  "language_info": {
		   "file_extension": ".sce",
		   "help_links": [
			{
			 "text": "MetaKernel Magics",
			 "url": "https://github.com/calysto/metakernel/blob/master/metakernel/magics/README.md"
			}
		   ],
		   "mimetype": "text/x-octave",
		   "name": "scilab",
		   "version": "0.7.1"
		  }
		 },
		 "nbformat": 4,
		 "nbformat_minor": 0
}
