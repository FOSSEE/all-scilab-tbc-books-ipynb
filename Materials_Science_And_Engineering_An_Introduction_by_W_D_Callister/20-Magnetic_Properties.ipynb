{
"cells": [
 {
		   "cell_type": "markdown",
	   "metadata": {},
	   "source": [
       "# Chapter 20: Magnetic Properties"
	   ]
	},
{
		   "cell_type": "markdown",
		   "metadata": {},
		   "source": [
			"## Example 20.1_a: Saturation_Magnetization.sce"
		   ]
		  },
  {
"cell_type": "code",
	   "execution_count": null,
	   "metadata": {
	    "collapsed": true
	   },
	   "outputs": [],
"source": [
"//Example 20.1 Calculation of saturation magnetisation and flux density for Nickel\n",
"\n",
"clear;\n",
"clc;\n",
"\n",
"printf('Example 20.1\n');\n",
"\n",
"b_m=9.27*10^-24; //ampere*m^2  (Bohr Magneton)\n",
"\n",
"Na=6.023*10^23;  //atoms/mol  (Avogadro's No.)\n",
"\n",
"d=8.9*10^6;  //g/m^3   (density)\n",
"\n",
"uo=4*%pi*10^-7;  //Permitivity of free space\n",
"\n",
"A=58.71;  //g/mol  (Atomic weigth of Nickel)\n",
"\n",
"N=d*Na/A;  //No. of atoms per cubic meter\n",
"\n",
"// M is saturation magnetisation\n",
"M=0.6*b_m*N;  //0.6= Bohr Magneton/atom\n",
"\n",
"printf('\nSaturation Magnetisation is : %d Ampere/m',M);\n",
"\n",
"\n",
"\n",
"// End"
   ]
   }
,
{
		   "cell_type": "markdown",
		   "metadata": {},
		   "source": [
			"## Example 20.1_b: Flux_Density_Computations_for_Nickel.sce"
		   ]
		  },
  {
"cell_type": "code",
	   "execution_count": null,
	   "metadata": {
	    "collapsed": true
	   },
	   "outputs": [],
"source": [
"//Example 20.1 Calculation of saturation magnetisation and flux density for Nickel\n",
"\n",
"clear;\n",
"clc;\n",
"\n",
"printf('Example 20.1\n');\n",
"\n",
"b_m=9.27*10^-24; //ampere*m^2  (Bohr Magneton)\n",
"\n",
"Na=6.023*10^23;  //atoms/mol  (Avogadro's No.)\n",
"\n",
"d=8.9*10^6;  //g/m^3   (density)\n",
"\n",
"uo=4*%pi*10^-7;  //Permitivity of free space\n",
"\n",
"A=58.71;  //g/mol  (Atomic weigth of Nickel)\n",
"\n",
"N=d*Na/A;  //No. of atoms per cubic meter\n",
"\n",
"// M is saturation magnetisation\n",
"M=0.6*b_m*N;  //0.6= Bohr Magneton/atom\n",
"\n",
"\n",
"//B = Saturation Flux Density\n",
"B=uo*M;\n",
"\n",
"printf('\nSaturation Flux Density is : %f Tesla\n',B);\n",
"\n",
"// End"
   ]
   }
,
{
		   "cell_type": "markdown",
		   "metadata": {},
		   "source": [
			"## Example 20.2: Saturation_Magnetization_Determination.sce"
		   ]
		  },
  {
"cell_type": "code",
	   "execution_count": null,
	   "metadata": {
	    "collapsed": true
	   },
	   "outputs": [],
"source": [
"//Example 20.2 Calculation of saturation magnetisation of Fe3O4\n",
"\n",
"clear;\n",
"clc;\n",
"\n",
"printf('Example 20.2\n');\n",
"\n",
"a=0.839*10^-9; //a is edge length in m\n",
"\n",
"b_m=9.27*10^-24; //ampere*m^2  (Bohr Magneton)\n",
"\n",
"nb=8*4;    //8 is no. of Fe++ ions per unit cell\n",
"           //4 is Bohr magnetons per Fe++ ion\n",
"\n",
"M=nb*b_m/a^3;  //M is Saturation magnetisation\n",
"\n",
"printf('\nSaturation Magnetisation is : %f Ampere/m\n',M);\n",
"\n",
"//End"
   ]
   }
,
{
		   "cell_type": "markdown",
		   "metadata": {},
		   "source": [
			"## Example 20.3: Design_of_a_Mixed_Ferrite_Magnetic_Material.sce"
		   ]
		  },
  {
"cell_type": "code",
	   "execution_count": null,
	   "metadata": {
	    "collapsed": true
	   },
	   "outputs": [],
"source": [
"//Design Example 20.1: Designing a cubic mixed-ferrite magnetic material\n",
"\n",
"clear;\n",
"clc;\n",
"\n",
"printf(' Design Example 20.1\n');\n",
"\n",
"x=poly([0],'x');  // Defining X\n",
"\n",
"Ms_Fe=5.25*10^5;  //Required saturation Magnetisation\n",
"\n",
"b_m=9.27*10^-24; //ampere*m^2  (Bohr Magneton)\n",
"\n",
"a=0.839*10^-9; //a is edge length in m\n",
"\n",
"M=5*10^5;  //From previous question result\n",
"\n",
"nb=Ms_Fe*a^3/b_m;\n",
"\n",
"// 'x' represent fraction of Mn++ that have substituted Fe++\n",
"\n",
"n=roots(8*[5*x+4*(1-x)]-nb);  //5 is Bohr magnetons per Fe++ ion\n",
"                              //4 is Bohr magnetons per Mn++ ion\n",
"\n",
"printf('\nReplacing %f percent of Fe++ with Mn++ would produce the required saturation magnetisation\n',n*100);\n",
"\n",
"//End"
   ]
   }
],
"metadata": {
		  "kernelspec": {
		   "display_name": "Scilab",
		   "language": "scilab",
		   "name": "scilab"
		  },
		  "language_info": {
		   "file_extension": ".sce",
		   "help_links": [
			{
			 "text": "MetaKernel Magics",
			 "url": "https://github.com/calysto/metakernel/blob/master/metakernel/magics/README.md"
			}
		   ],
		   "mimetype": "text/x-octave",
		   "name": "scilab",
		   "version": "0.7.1"
		  }
		 },
		 "nbformat": 4,
		 "nbformat_minor": 0
}
