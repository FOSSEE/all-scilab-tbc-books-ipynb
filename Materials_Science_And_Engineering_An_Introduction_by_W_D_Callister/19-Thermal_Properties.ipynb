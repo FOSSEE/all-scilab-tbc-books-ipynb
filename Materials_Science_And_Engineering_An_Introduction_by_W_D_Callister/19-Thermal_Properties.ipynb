{
"cells": [
 {
		   "cell_type": "markdown",
	   "metadata": {},
	   "source": [
       "# Chapter 19: Thermal Properties"
	   ]
	},
{
		   "cell_type": "markdown",
		   "metadata": {},
		   "source": [
			"## Example 19.1: Thermal_Stress_Created_Upon_Heating.sce"
		   ]
		  },
  {
"cell_type": "code",
	   "execution_count": null,
	   "metadata": {
	    "collapsed": true
	   },
	   "outputs": [],
"source": [
"// Calculation of maximum temperature\n",
"\n",
"clear;\n",
"clc;\n",
"\n",
"printf('\t Example 19.1\n');\n",
"\n",
"To=20;  // Room Temperature (degree celsius)\n",
"\n",
"sigma=-172;  //Mpa  Compressive stress\n",
"\n",
"E=100*10^3;  //Mpa Young's modulus\n",
"\n",
"a=20*10^-6;  //Celsius^-1  Coefficient of thermal expansion\n",
"\n",
"Tf=To-(sigma/(E*a));\n",
"\n",
"printf('\nFinal Temperature is : %d C\n',Tf);\n",
"\n",
"//End"
   ]
   }
,
{
		   "cell_type": "markdown",
		   "metadata": {},
		   "source": [
			"## Example 19.2: Final_temperature_Calculation.sce"
		   ]
		  },
  {
"cell_type": "code",
	   "execution_count": null,
	   "metadata": {
	    "collapsed": true
	   },
	   "outputs": [],
"source": [
"//Final temperature Calculation\n",
"\n",
"clear;\n",
"clc;\n",
"\n",
"printf('\tExample 19.2\n');\n",
"\n",
"m=10;               //mass in lbm\n",
"dQ= 65;             //Heat supplied in Btu\n",
"To=77;              //Initial temp in F\n",
"\n",
"Cp=375*2.39*10^-4;  //in Btu/lbm - F\n",
"\n",
"dT=dQ/(m*Cp);\n",
"\n",
"Tf=To+dT;\n",
"\n",
"printf('\nFinal temp is %.1f F\n',Tf);\n",
"\n",
"//End"
   ]
   }
,
{
		   "cell_type": "markdown",
		   "metadata": {},
		   "source": [
			"## Example 19.3: Computation_of_specific_heats_for_Al_and_Fe.sce"
		   ]
		  },
  {
"cell_type": "code",
	   "execution_count": null,
	   "metadata": {
	    "collapsed": true
	   },
	   "outputs": [],
"source": [
"//Computation of specific heats for Al and Fe\n",
"\n",
"clear;\n",
"clc;\n",
"\n",
"printf('\tExample 19.3\n');\n",
"\n",
"Cp_Al=900;             //In J/kg-K\n",
"Cp_Fe=448;             //In j/kg-K\n",
"\n",
"beta_Al=1.77D-11;\n",
"beta_Fe=2.65D-12;\n",
"\n",
"T=273;\n",
"\n",
"alphal_Al=23.6D-6;\n",
"alphal_Fe=11.8D-6;\n",
"\n",
"alphav_Al=3*alphal_Al;\n",
"alphav_Fe=3*alphal_Fe;\n",
"\n",
"den_Al=2.71D3;           //in kg/m^3\n",
"den_Fe=7.87D3;           //in kg/m^3\n",
"\n",
"vo_Al=1/den_Al;\n",
"vo_Fe=1/den_Fe;\n",
"\n",
"Cv_Al=Cp_Al-(alphav_Al^2*vo_Al*T/beta_Al);\n",
"Cv_Fe=Cp_Fe-(alphav_Fe^2*vo_Fe*T/beta_Fe);\n",
"\n",
"printf('\nCv (Al) = %d J/kg-K',Cv_Al);\n",
"printf('\nCv (Fe) = %d T/kg-K\n',Cv_Fe);\n",
"\n",
"//End"
   ]
   }
],
"metadata": {
		  "kernelspec": {
		   "display_name": "Scilab",
		   "language": "scilab",
		   "name": "scilab"
		  },
		  "language_info": {
		   "file_extension": ".sce",
		   "help_links": [
			{
			 "text": "MetaKernel Magics",
			 "url": "https://github.com/calysto/metakernel/blob/master/metakernel/magics/README.md"
			}
		   ],
		   "mimetype": "text/x-octave",
		   "name": "scilab",
		   "version": "0.7.1"
		  }
		 },
		 "nbformat": 4,
		 "nbformat_minor": 0
}
