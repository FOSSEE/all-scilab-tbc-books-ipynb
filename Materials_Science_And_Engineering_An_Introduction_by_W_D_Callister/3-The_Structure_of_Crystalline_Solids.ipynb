{
"cells": [
 {
		   "cell_type": "markdown",
	   "metadata": {},
	   "source": [
       "# Chapter 3: The Structure of Crystalline Solids"
	   ]
	},
{
		   "cell_type": "markdown",
		   "metadata": {},
		   "source": [
			"## Example 3.11: Determination_of_Miller_Bravais_Indices.sce"
		   ]
		  },
  {
"cell_type": "code",
	   "execution_count": null,
	   "metadata": {
	    "collapsed": true
	   },
	   "outputs": [],
"source": [
"//Determination of Miller–Bravais Indices for a Plane Within a Hexagonal Unit Cell\n",
"\n",
"clear;\n",
"clc;\n",
"\n",
"printf('\tExample 3.11\n');\n",
"\n",
"//This plane intersects the a1 axis at a distance a from the origin of the a1-a2-a3-z coordinate axes system.\n",
"\n",
"//Furthermore, its intersections withthe a2 and z axes are -a and c.\n",
"\n",
"//Therefore, in terms of the lattice parameters, these intersections are 1, -1 and 1.\n",
"\n",
"h=1;\n",
"k=-1;\n",
"l=1;\n",
"i=-(h+k);\n",
"\n",
"x=[h k i l];\n",
"disp(x,'The indices of plane are');\n",
"\n",
"//End"
   ]
   }
,
{
		   "cell_type": "markdown",
		   "metadata": {},
		   "source": [
			"## Example 3.12_a: Interplanar_Spacing.sce"
		   ]
		  },
  {
"cell_type": "code",
	   "execution_count": null,
	   "metadata": {
	    "collapsed": true
	   },
	   "outputs": [],
"source": [
"//Interplanar Spacing\n",
"\n",
"clear;\n",
"clc;\n",
"\n",
"printf('\tExample 3.12\n');\n",
"\n",
"a=0.2866;           //Lattice parameter in nm\n",
"h=2;\n",
"k=2;\n",
"l=0;\n",
"\n",
"printf('\n\tPart A');\n",
"d_hkl=a/(sqrt(h^2+k^2+l^2));\n",
"printf('\nInterplanar spacing is %.4f nm\n',d_hkl);\n",
"\n",
"//End"
   ]
   }
,
{
		   "cell_type": "markdown",
		   "metadata": {},
		   "source": [
			"## Example 3.12_b: Diffraction_Angle_Computations.sce"
		   ]
		  },
  {
"cell_type": "code",
	   "execution_count": null,
	   "metadata": {
	    "collapsed": true
	   },
	   "outputs": [],
"source": [
"//Diffraction Angle Computations\n",
"\n",
"clear;\n",
"clc;\n",
"\n",
"printf('\tExample 3.12\n');\n",
"\n",
"a=0.2866;           //Lattice parameter in nm\n",
"h=2;\n",
"k=2;\n",
"l=0;\n",
"\n",
"d_hkl=a/(sqrt(h^2+k^2+l^2));\n",
"\n",
"printf('\n\tPart B');\n",
"lambda=0.1790;     //Wavelength in nm\n",
"n=1;\n",
"\n",
"theta=asind(n*lambda/(2*d_hkl));\n",
"printf('\nDiffraction angle is %.2f degree\n',2*theta);\n",
"\n",
"//End"
   ]
   }
,
{
		   "cell_type": "markdown",
		   "metadata": {},
		   "source": [
			"## Example 3.1: Determination_of_FCC_Unit_Cell_Volume.sce"
		   ]
		  },
  {
"cell_type": "code",
	   "execution_count": null,
	   "metadata": {
	    "collapsed": true
	   },
	   "outputs": [],
"source": [
"//Determination of FCC Unit Cell Volume\n",
"\n",
"clear;\n",
"clc;\n",
"\n",
"printf('\tExample 3.1\n');\n",
"\n",
"//For FCC a=2*R*sqrt(2)\n",
"R=poly([0],'R');\n",
"\n",
"//Edge Length\n",
"a=2*R*sqrt(2);\n",
"\n",
"//Volume determination\n",
"V=a^3;\n",
"\n",
"disp(V,'Volume is');\n",
"\n",
"//End"
   ]
   }
,
{
		   "cell_type": "markdown",
		   "metadata": {},
		   "source": [
			"## Example 3.2: Computation_of_the_Atomic_Packing_Factor_for_FCC.sce"
		   ]
		  },
  {
"cell_type": "code",
	   "execution_count": null,
	   "metadata": {
	    "collapsed": true
	   },
	   "outputs": [],
"source": [
"//Computation of the Atomic Packing Factor for FCC\n",
"\n",
"clear;\n",
"clc;\n",
"\n",
"printf('\tExample 3.2\n');\n",
"\n",
"//for FCC no. of atoms are 4\n",
"n=4;\n",
"\n",
"//For FCC a=2*R*sqrt(2)\n",
"R=poly([0],'R');\n",
"\n",
"//Edge Length\n",
"a=2*R*sqrt(2);\n",
"\n",
"//Volume determination of cube\n",
"Vc=a^3;\n",
"\n",
"//Volume of sphere\n",
"Vs=n*4*%pi*R^3/3;\n",
"\n",
"//Atomic packing Fraction\n",
"APF=Vs/Vc;\n",
"\n",
"disp(APF,'Atomic packing fraction is');\n",
"\n",
"//End"
   ]
   }
,
{
		   "cell_type": "markdown",
		   "metadata": {},
		   "source": [
			"## Example 3.3: Theoretical_Density_Computation_for_Copper.sce"
		   ]
		  },
  {
"cell_type": "code",
	   "execution_count": null,
	   "metadata": {
	    "collapsed": true
	   },
	   "outputs": [],
"source": [
"//Theoretical Density Computation for Copper\n",
"\n",
"clear;\n",
"clc;\n",
"\n",
"printf('\tExample 3.3\n');\n",
"\n",
"R=1.28D-08;        //Atomic radius in cm\n",
"A_Cu=63.5;         //Atomic wt of copper\n",
"n=4;               //For FCC\n",
"\n",
"Na=6.023D23;       //Avogadro no.\n",
"\n",
"a=2*R*sqrt(2);\n",
"Vc=a^3;\n",
"\n",
"den=n*A_Cu/(Vc*Na);\n",
"\n",
"printf('\nDensity is %.2f g/cm^3\n',den);\n",
"\n",
"//End"
   ]
   }
,
{
		   "cell_type": "markdown",
		   "metadata": {},
		   "source": [
			"## Example 3.5: Specification_of_Point_Coordinates.sce"
		   ]
		  },
  {
"cell_type": "code",
	   "execution_count": null,
	   "metadata": {
	    "collapsed": true
	   },
	   "outputs": [],
"source": [
"//Specification of Point Coordinates\n",
"\n",
"clear;\n",
"clc;\n",
"\n",
"printf('\tExample 3.5\n');\n",
"\n",
"disp('Point coordinates for given positions of BCC cell are');\n",
"\n",
"A=['Point_no','x_axis','y_axis','z_axis','Coordinates';\n",
"'  1','0','0','0','000';\n",
"'  2','1','0','0','100';\n",
"'  3','1','1','0','110';\n",
"'  4','0','1','0','010';\n",
"'  5','1/2','1/2','1/2','1/2 1/2 1/2';\n",
"'  6','0','0','1','001';\n",
"'  7','1','0','1','101';\n",
"'  8','1','1','1','111';\n",
"'  9','0','1','1','011'];\n",
"\n",
"disp(A);\n",
"\n",
"//End"
   ]
   }
,
{
		   "cell_type": "markdown",
		   "metadata": {},
		   "source": [
			"## Example 3.6: Determination_of_Directional_Indices.sce"
		   ]
		  },
  {
"cell_type": "code",
	   "execution_count": null,
	   "metadata": {
	    "collapsed": true
	   },
	   "outputs": [],
"source": [
"//Determination of Directional Indices\n",
"\n",
"clear;\n",
"clc;\n",
"\n",
"printf('\tExample 3.6\n');\n",
"\n",
"printf('\nThe procedure is summarised as :\n');\n",
"\n",
"A=['    ','x','y','z';\n",
"'Projections','a/2','b','0c';\n",
"'In terms of a,b,c','1/2','1','0';\n",
"'Reduction','1','2','0'];\n",
"\n",
"disp(A);\n",
"\n",
"printf('\nEnclosure      [1 2 0]\n');\n",
"\n",
"//End"
   ]
   }
,
{
		   "cell_type": "markdown",
		   "metadata": {},
		   "source": [
			"## Example 3.8: Determination_of_Directional_Indices_for_a_Hexagonal_Unit_Cell.sce"
		   ]
		  },
  {
"cell_type": "code",
	   "execution_count": null,
	   "metadata": {
	    "collapsed": true
	   },
	   "outputs": [],
"source": [
"//Determination of Directional Indices for a Hexagonal Unit Cell\n",
"\n",
"clear;\n",
"clc;\n",
"\n",
"printf('\tExample 3.8\n');\n",
"\n",
"//From the construction shown in the book\n",
"du=1;\n",
"dv=1;\n",
"dw=1;\n",
"\n",
"//The above indices are for parallelopiped\n",
"//To convert it for hexagonal system\n",
"u=(2*du-dv)/3;\n",
"v=(2*dv-du)/3;\n",
"t=-(u+v);\n",
"w=dw;\n",
"\n",
"x=[u v t w]*3;\n",
"disp(x,'The indices for the given directions are');\n",
"\n",
"//End"
   ]
   }
,
{
		   "cell_type": "markdown",
		   "metadata": {},
		   "source": [
			"## Example 3.9: Determination_of_Planar_Indices.sce"
		   ]
		  },
  {
"cell_type": "code",
	   "execution_count": null,
	   "metadata": {
	    "collapsed": true
	   },
	   "outputs": [],
"source": [
"//Determination of Planar (Miller) Indices\n",
"\n",
"clear;\n",
"clc;\n",
"\n",
"printf('\tExample 3.9\n');\n",
"\n",
"x=[0 -1 2];\n",
"\n",
"disp(x,'The intercept for the given plane is');\n",
"\n",
"//End"
   ]
   }
],
"metadata": {
		  "kernelspec": {
		   "display_name": "Scilab",
		   "language": "scilab",
		   "name": "scilab"
		  },
		  "language_info": {
		   "file_extension": ".sce",
		   "help_links": [
			{
			 "text": "MetaKernel Magics",
			 "url": "https://github.com/calysto/metakernel/blob/master/metakernel/magics/README.md"
			}
		   ],
		   "mimetype": "text/x-octave",
		   "name": "scilab",
		   "version": "0.7.1"
		  }
		 },
		 "nbformat": 4,
		 "nbformat_minor": 0
}
