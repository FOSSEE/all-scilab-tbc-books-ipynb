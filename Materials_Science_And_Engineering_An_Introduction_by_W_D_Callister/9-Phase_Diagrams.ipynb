{
"cells": [
 {
		   "cell_type": "markdown",
	   "metadata": {},
	   "source": [
       "# Chapter 9: Phase Diagrams"
	   ]
	},
{
		   "cell_type": "markdown",
		   "metadata": {},
		   "source": [
			"## Example 9.1: Lever_Rule_Derivatio.sce"
		   ]
		  },
  {
"cell_type": "code",
	   "execution_count": null,
	   "metadata": {
	    "collapsed": true
	   },
	   "outputs": [],
"source": [
"//Lever Rule derivation\n",
"\n",
"clear;\n",
"clc;\n",
"\n",
"printf('\tExample 9.1\n');\n",
"\n",
"disp('Since only 2 phases are present');\n",
"disp('W_alpha + W_L = 1');\n",
"disp('W_alpha*C_alpha + W_L*C_L = C0');\n",
"disp('hence');\n",
"\n",
"disp('W_L = (C_alpha-C0)/(C_alpha-C_L)');\n",
"disp('W_alpha = (C0-C_L)/(C_alpha-C_L)');\n",
"\n",
"\n",
"//End"
   ]
   }
,
{
		   "cell_type": "markdown",
		   "metadata": {},
		   "source": [
			"## Example 9.2: Determination_of_Phases_Present.sce"
		   ]
		  },
  {
"cell_type": "code",
	   "execution_count": null,
	   "metadata": {
	    "collapsed": true
	   },
	   "outputs": [],
"source": [
"//Determination of Phases Present and Computation of Phase Compositions\n",
"\n",
"clear;\n",
"clc;\n",
"\n",
"printf('\tExample 9.2\n');\n",
"\n",
"printf('\nfor given composition and temp. of 150 C');\n",
"printf('\ni) both alpha and beta phase coexist\n');\n",
"\n",
"disp('ii) Constructing the tie line');\n",
"printf('10 wt%% Sn - 90 wt%% Pb for C_alpha');\n",
"printf('\n98 wt%% Sn - 2 wt%% Pb for C_beta');\n",
"\n",
"//End"
   ]
   }
,
{
		   "cell_type": "markdown",
		   "metadata": {},
		   "source": [
			"## Example 9.3_a: Relative_Phase_Amount_Determinations.sce"
		   ]
		  },
  {
"cell_type": "code",
	   "execution_count": null,
	   "metadata": {
	    "collapsed": true
	   },
	   "outputs": [],
"source": [
"//Determination of Phases Present\n",
"\n",
"clear;\n",
"clc;\n",
"\n",
"printf('\tExample 9.3\n');\n",
"\n",
"printf('\n\tPart A');\n",
"C1=40;  // Overall alloy composition\n",
"Cb=98;\n",
"Ca=10;\n",
"\n",
"Wa=(Cb-C1)/(Cb-Ca);\n",
"Wb=(C1-Ca)/(Cb-Ca);\n",
"\n",
"printf('\nMass fractions for alpha and beta phases are : %.2f and %.2f respectively\n',Wa,Wb);\n",
"\n",
"//End"
   ]
   }
,
{
		   "cell_type": "markdown",
		   "metadata": {},
		   "source": [
			"## Example 9.3_b: Mass_and_Volume_Fractions.sce"
		   ]
		  },
  {
"cell_type": "code",
	   "execution_count": null,
	   "metadata": {
	    "collapsed": true
	   },
	   "outputs": [],
"source": [
"//Computation of Phase Compositions\n",
"\n",
"clear;\n",
"clc;\n",
"\n",
"printf('\tExample 9.3\n');\n",
"\n",
"C1=40;  // Overall alloy composition\n",
"Cb=98;\n",
"Ca=10;\n",
"\n",
"Wa=(Cb-C1)/(Cb-Ca);\n",
"Wb=(C1-Ca)/(Cb-Ca);\n",
"\n",
"printf('\n\tPart B');\n",
"d_Sn=7.24; // in g/cm^3  density of tin\n",
"d_Pb=11.23;  // in g/cm^3  density of lead\n",
"\n",
"Ca_Sn=10;\n",
"Ca_Pb=90;\n",
"\n",
"Cb_Sn=98;\n",
"Cb_Pb=2;\n",
"\n",
"d_a=100/((Ca_Sn/d_Sn)+(Ca_Pb/d_Pb));\n",
"d_b=100/((Cb_Sn/d_Sn)+(Cb_Pb/d_Pb));\n",
"\n",
"printf('\nDensity of alpha phase is : %.2f g/cm^3',d_a);\n",
"printf('\nDensity of beta phase is : %.2f g/cm^3',d_b);\n",
"\n",
"Va=Wa/(d_a*((Wa/d_a)+(Wb/d_b)));\n",
"Vb=Wb/(d_b*((Wa/d_a)+(Wb/d_b)));\n",
"\n",
"printf('\n\nVolume fraction of alpha phase : %.2f',Va);\n",
"printf('\nVolume fraction of beta phase : %.2f',Vb);\n",
"\n",
"//End"
   ]
   }
,
{
		   "cell_type": "markdown",
		   "metadata": {},
		   "source": [
			"## Example 9.4_a: fractions_of_total_ferrite_and_cementite_phases.sce"
		   ]
		  },
  {
"cell_type": "code",
	   "execution_count": null,
	   "metadata": {
	    "collapsed": true
	   },
	   "outputs": [],
"source": [
"//Determining ferrite and cementite phase\n",
"\n",
"clear;\n",
"clc;\n",
"\n",
"printf('\t Example 9.4\n');\n",
"\n",
"printf('\n\tPart A');\n",
"C0=0.35;\n",
"Ca=0.022;\n",
"C_Fe3C=6.7;\n",
"\n",
"Wa=(C_Fe3C-C0)/(C_Fe3C-Ca);\n",
"W_Fe3C=(C0-Ca)/(C_Fe3C-Ca);\n",
"\n",
"printf('\nMass fraction of total ferritic phase  : %.2f',Wa);\n",
"printf('\nMass fraction of Fe3C : %.2f\n',W_Fe3C);\n",
"\n",
"//End"
   ]
   }
,
{
		   "cell_type": "markdown",
		   "metadata": {},
		   "source": [
			"## Example 9.4_b: Fractions_of_the_proeutectoid_ferrite_and_pearlite.sce"
		   ]
		  },
  {
"cell_type": "code",
	   "execution_count": null,
	   "metadata": {
	    "collapsed": true
	   },
	   "outputs": [],
"source": [
"//Determining proeutectoid ferrite and pearlite\n",
"\n",
"clear;\n",
"clc;\n",
"\n",
"printf('\t Example 9.4\n');\n",
"\n",
"C0=0.35;\n",
"Ca=0.022;\n",
"C_Fe3C=6.7;\n",
"\n",
"printf('\n\tPart B');\n",
"C_p=0.76;\n",
"\n",
"Wp=(C0-Ca)/(C_p-Ca);\n",
"W_a=(C_p-C0)/(C_p-Ca);\n",
"\n",
"printf('\nMass fraction of Pearlite : %.2f',Wp);\n",
"printf('\nMass fraction of proeutectoid ferrite : %.2f\n',W_a);\n",
"\n",
"//End"
   ]
   }
,
{
		   "cell_type": "markdown",
		   "metadata": {},
		   "source": [
			"## Example 9.4_c: Fraction_of_eutectoid_ferrite.sce"
		   ]
		  },
  {
"cell_type": "code",
	   "execution_count": null,
	   "metadata": {
	    "collapsed": true
	   },
	   "outputs": [],
"source": [
"//Determining eutectoid ferrite\n",
"\n",
"clear;\n",
"clc;\n",
"\n",
"printf('\t Example 9.4\n');\n",
"\n",
"C0=0.35;\n",
"Ca=0.022;\n",
"C_Fe3C=6.7;\n",
"\n",
"C_p=0.76;\n",
"\n",
"Wp=(C0-Ca)/(C_p-Ca);\n",
"W_a=(C_p-C0)/(C_p-Ca);\n",
"\n",
"Wa=(C_Fe3C-C0)/(C_Fe3C-Ca);\n",
"printf('\n\tPart C');\n",
"\n",
"Wae=Wa-W_a;\n",
"printf('\nMass fraction of eutectoid ferrite : %.3f\n',Wae);\n",
"\n",
"//End"
   ]
   }
],
"metadata": {
		  "kernelspec": {
		   "display_name": "Scilab",
		   "language": "scilab",
		   "name": "scilab"
		  },
		  "language_info": {
		   "file_extension": ".sce",
		   "help_links": [
			{
			 "text": "MetaKernel Magics",
			 "url": "https://github.com/calysto/metakernel/blob/master/metakernel/magics/README.md"
			}
		   ],
		   "mimetype": "text/x-octave",
		   "name": "scilab",
		   "version": "0.7.1"
		  }
		 },
		 "nbformat": 4,
		 "nbformat_minor": 0
}
