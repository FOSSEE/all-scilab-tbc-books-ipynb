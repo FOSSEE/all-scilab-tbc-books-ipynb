{
"cells": [
 {
		   "cell_type": "markdown",
	   "metadata": {},
	   "source": [
       "# Chapter 17: Corrosion and Degradation of Materials"
	   ]
	},
{
		   "cell_type": "markdown",
		   "metadata": {},
		   "source": [
			"## Example 17.1: Determination_of_Electrochemical_Cell_Characteristics.sce"
		   ]
		  },
  {
"cell_type": "code",
	   "execution_count": null,
	   "metadata": {
	    "collapsed": true
	   },
	   "outputs": [],
"source": [
"//Determination of Electrochemical Cell Characteristics\n",
"\n",
"clear;\n",
"clc;\n",
"\n",
"printf('\tExample 17.1\n');\n",
"\n",
"V_Cd=-0.403;  //Half Cell Potential of Cd++|Cd\n",
"V_Ni=-0.250;  //Half Cell Potential of Ni++|Ni\n",
"dV=V_Ni-V_Cd;\n",
"printf('\nStandard Cell potential is : %f V\n',dV);\n",
"\n",
"C_Ni=10^-3;\n",
"C_Cd=0.5;\n",
"n=2;  //Net electron exchange in Redox reaction\n",
"V=-dV-(0.0592*log10(C_Ni/C_Cd)/n);\n",
"printf('\nNet EMF is : %f V\n',V);\n",
"printf('\nHence\n');\n",
"\n",
"if V<0 then \n",
"    printf('\nNi is reduced & Cd is oxidised\n');\n",
"else\n",
"    printf('\nCd is reduced & Ni is oxidised\n');\n",
"end\n",
"\n",
"//End"
   ]
   }
,
{
		   "cell_type": "markdown",
		   "metadata": {},
		   "source": [
			"## Example 17.2_a: Rate_of_Oxidation_Computation.sce"
		   ]
		  },
  {
"cell_type": "code",
	   "execution_count": null,
	   "metadata": {
	    "collapsed": true
	   },
	   "outputs": [],
"source": [
"//Rate of Oxidation Computation\n",
"\n",
"clear;\n",
"clc;\n",
"\n",
"printf('\tExample 17.2a\n');\n",
"\n",
"//Activation polarisation data\n",
"VH_H2=0;\n",
"VZn_Zn2=-0.763;\n",
"iZn=10^-7;\n",
"iH2=10^-10;\n",
"beta_Zn=0.09;\n",
"beta_H2=-0.08;\n",
"\n",
"//Part i\n",
"ic=10^[(VH_H2-VZn_Zn2-(beta_H2*log10(iH2))+(beta_Zn*log10(iZn)))/(beta_Zn-beta_H2)];\n",
"\n",
"disp(ic,'ic is ');\n",
"\n",
"n=2;              //Exchange of 2 electrons\n",
"F=96500;          //Faradays constant\n",
"\n",
"r=ic/(n*F);\n",
"printf('\ni) Rate of oxiadation is %.1f * 10^-10 mol/cm^2-s\n',r/10^-10);\n",
"\n",
"\n",
"//End"
   ]
   }
,
{
		   "cell_type": "markdown",
		   "metadata": {},
		   "source": [
			"## Example 17.2_b: Corrosion_potential_determination.sce"
		   ]
		  },
  {
"cell_type": "code",
	   "execution_count": null,
	   "metadata": {
	    "collapsed": true
	   },
	   "outputs": [],
"source": [
"clear;\n",
"clc;\n",
"\n",
"printf('\tExample 17.2b\n');\n",
"\n",
"//Activation polarisation data\n",
"VH_H2=0;\n",
"VZn_Zn2=-0.763;\n",
"iZn=10^-7;\n",
"iH2=10^-10;\n",
"beta_Zn=0.09;\n",
"beta_H2=-0.08;\n",
"\n",
"ic=10^[(VH_H2-VZn_Zn2-(beta_H2*log10(iH2))+(beta_Zn*log10(iZn)))/(beta_Zn-beta_H2)];\n",
"\n",
"//Part ii\n",
"Vc=VH_H2+(beta_H2*log10(ic/iH2));\n",
"printf('\nii) Corrosion potential is %.3f V\n',Vc);\n",
"\n",
"//End"
   ]
   }
,
{
		   "cell_type": "markdown",
		   "metadata": {},
		   "source": [
			"## Example 17.3: Temperature_Computatio.sce"
		   ]
		  },
  {
"cell_type": "code",
	   "execution_count": null,
	   "metadata": {
	    "collapsed": true
	   },
	   "outputs": [],
"source": [
"//Temperature Computation\n",
"\n",
"clear;\n",
"clc;\n",
"\n",
"printf('\tExample 17.3\n');\n",
"\n",
"dV=0.568;                 //Potential diff. b/w 2 electrodes\n",
"V_Pb=-0.126;\n",
"V_Zn=-0.763;\n",
"\n",
"C_Zn=0.01;\n",
"C_Pb=0.0001;\n",
"\n",
"R=8.31;                //Gas constt\n",
"F=96500;               //Faraday's constt\n",
"n=2;                   //electron exchange\n",
"\n",
"T=-n*F*(dV-(V_Pb-V_Zn))/(R*log(C_Zn/C_Pb));\n",
"\n",
"printf('\nFinal temp is %.1f K\n',T);\n",
"\n",
"//End"
   ]
   }
],
"metadata": {
		  "kernelspec": {
		   "display_name": "Scilab",
		   "language": "scilab",
		   "name": "scilab"
		  },
		  "language_info": {
		   "file_extension": ".sce",
		   "help_links": [
			{
			 "text": "MetaKernel Magics",
			 "url": "https://github.com/calysto/metakernel/blob/master/metakernel/magics/README.md"
			}
		   ],
		   "mimetype": "text/x-octave",
		   "name": "scilab",
		   "version": "0.7.1"
		  }
		 },
		 "nbformat": 4,
		 "nbformat_minor": 0
}
