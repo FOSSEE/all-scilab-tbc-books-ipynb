{
"cells": [
 {
		   "cell_type": "markdown",
	   "metadata": {},
	   "source": [
       "# Chapter 10: Phase Transformations in Metals"
	   ]
	},
{
		   "cell_type": "markdown",
		   "metadata": {},
		   "source": [
			"## Example 10.1_a: Computation_of_Critical_Nucleus_Radius.sce"
		   ]
		  },
  {
"cell_type": "code",
	   "execution_count": null,
	   "metadata": {
	    "collapsed": true
	   },
	   "outputs": [],
"source": [
"//Computation of Critical Nuclear Radius\n",
"\n",
"clear;\n",
"clc;\n",
"\n",
"printf('\tExample 10.1\n');\n",
"\n",
"printf('\n\tPart A');\n",
"Hf=-1.16*10^9;  // in J/m^3  latent heat of fusion\n",
"Y=0.132;  // in J/m^2  Surface energy\n",
"Tm=1064+273;  // in K  Melting point of gold\n",
"T=1064+273-230;  // in K  230 is supercooling value\n",
"\n",
"r=-2*Y*Tm/(Hf*(Tm-T));\n",
"\n",
"printf('\nCritical Radius is : %.2f nm\n',r/10^-9);\n",
"\n",
"G=16*%pi*Y^3*Tm^2/(3*Hf^2*(Tm-T)^2);\n",
"\n",
"printf('\nActivation free energy is : %.2e J\n',G);\n",
"\n",
"//end"
   ]
   }
,
{
		   "cell_type": "markdown",
		   "metadata": {},
		   "source": [
			"## Example 10.1_b: Activation_Free_Energy_Compputation.sce"
		   ]
		  },
  {
"cell_type": "code",
	   "execution_count": null,
	   "metadata": {
	    "collapsed": true
	   },
	   "outputs": [],
"source": [
"//Activation Free Energy\n",
"\n",
"clear;\n",
"clc;\n",
"\n",
"printf('\tExample 10.1\n');\n",
"\n",
"Hf=-1.16*10^9;  // in J/m^3  latent heat of fusion\n",
"Y=0.132;  // in J/m^2  Surface energy\n",
"Tm=1064+273;  // in K  Melting point of gold\n",
"T=1064+273-230;  // in K  230 is supercooling value\n",
"r=-2*Y*Tm/(Hf*(Tm-T));\n",
"\n",
"printf('\n\tPart B');\n",
"a=0.413*10^-9;  // in m  Unit Cell edge length\n",
"\n",
"//unit cells per paticle\n",
"u_c=4*%pi*r^3/(3*a^3);\n",
"\n",
"printf('\nUnit cells per paricle are : %d',u_c);\n",
"printf('\nIn FCC there are 4 atoms per unit cell.\n');\n",
"\n",
"printf('\nTotal no. of atoms per critical nucleus are : %d\n',int(u_c)*4);\n",
"\n",
"//End"
   ]
   }
,
{
		   "cell_type": "markdown",
		   "metadata": {},
		   "source": [
			"## Example 10.2: Determination_the_rate_of_recrystallization.sce"
		   ]
		  },
  {
"cell_type": "code",
	   "execution_count": null,
	   "metadata": {
	    "collapsed": true
	   },
	   "outputs": [],
"source": [
"//Determination the rate of recrystallization\n",
"\n",
"clear;\n",
"clc;\n",
"\n",
"printf('\tExample 10.2\n');\n",
"n=5;\n",
"y=0.3;\n",
"t=100;          //in min\n",
"\n",
"\n",
"k=-log(1-y)/t^n;\n",
"\n",
"thalf=(-log(1-0.5)/k)^(1/n);\n",
"\n",
"rate=1/thalf;\n",
"\n",
"printf('\nRate is %.2e (min)^-1\n',rate);\n",
"\n",
"//End"
   ]
   }
],
"metadata": {
		  "kernelspec": {
		   "display_name": "Scilab",
		   "language": "scilab",
		   "name": "scilab"
		  },
		  "language_info": {
		   "file_extension": ".sce",
		   "help_links": [
			{
			 "text": "MetaKernel Magics",
			 "url": "https://github.com/calysto/metakernel/blob/master/metakernel/magics/README.md"
			}
		   ],
		   "mimetype": "text/x-octave",
		   "name": "scilab",
		   "version": "0.7.1"
		  }
		 },
		 "nbformat": 4,
		 "nbformat_minor": 0
}
