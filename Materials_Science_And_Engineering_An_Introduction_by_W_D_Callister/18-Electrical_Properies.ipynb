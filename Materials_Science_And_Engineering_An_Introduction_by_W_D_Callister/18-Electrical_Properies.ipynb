{
"cells": [
 {
		   "cell_type": "markdown",
	   "metadata": {},
	   "source": [
       "# Chapter 18: Electrical Properies"
	   ]
	},
{
		   "cell_type": "markdown",
		   "metadata": {},
		   "source": [
			"## Example 18.1: Computation_of_the_Room_Temperature_Intrinsic_Carrier_Concentration.sce"
		   ]
		  },
  {
"cell_type": "code",
	   "execution_count": null,
	   "metadata": {
	    "collapsed": true
	   },
	   "outputs": [],
"source": [
"//Computation of the Room-Temperature Intrinsic Carrier Concentration for Gallium Arsenide\n",
"\n",
"clear;\n",
"clc;\n",
"\n",
"printf('\t Example 18.1\n');\n",
"\n",
"sigma=10^-6;  // (Ohm-m)^-1  Electrical Conductivity\n",
"\n",
"e=1.6*10^-19;  //Coulomb Charge on electron\n",
"\n",
"m_e=0.85; //m^2/V-s  Mobility of electron\n",
"\n",
"m_h=0.04; //m^2/V-s  Mobility of holes\n",
"\n",
"//ni is Intrinsic carrier concentration\n",
"ni=sigma/(e*(m_e+m_h));\n",
"\n",
"printf('\n Intrinsic Carrier Concentration is: %f m^-3\n',ni);\n",
"\n",
"//End"
   ]
   }
,
{
		   "cell_type": "markdown",
		   "metadata": {},
		   "source": [
			"## Example 18.2: Electrical_Conductivity_Determination_for_Intrinsic_Silicon.sce"
		   ]
		  },
  {
"cell_type": "code",
	   "execution_count": null,
	   "metadata": {
	    "collapsed": true
	   },
	   "outputs": [],
"source": [
"//Electrical Conductivity Determination for Intrinsic Silicon at 150°C\n",
"\n",
"clear;\n",
"clc;\n",
"\n",
"printf('\t Example 18.2\n');\n",
"\n",
"e=1.6*10^-19;  //Coulomb Charge on electron\n",
"\n",
"ni=4*10^19; //For Si at 423 K   (m^-3)\n",
"\n",
"//Values of m_e and m_h are deduced from graphs at page No.689\n",
"\n",
"m_e=0.06;  //m^2/V-s  Mobility of electron\n",
"\n",
"m_h=0.022;  ////m^2/V-s  Mobility of holes\n",
"\n",
"//sigma is electrical conductivity\n",
"sigma=ni*e*(m_e+m_h);\n",
"\n",
"printf('\nElectrical Conductivity is : %f (Ohm-m)^-1\n',sigma);\n",
"\n",
"//End"
   ]
   }
,
{
		   "cell_type": "markdown",
		   "metadata": {},
		   "source": [
			"## Example 18.3_b: Room_Temperature_for_Extrinsic_Silicon.sce"
		   ]
		  },
  {
"cell_type": "code",
	   "execution_count": null,
	   "metadata": {
	    "collapsed": true
	   },
	   "outputs": [],
"source": [
"//Room-Temperature for Extrinsic Silicon\n",
"\n",
"clear;\n",
"clc;\n",
"\n",
"printf('\tExample 18.3\n');\n",
"printf('\n\tPart B\n ');\n",
"\n",
"n=10^23; //m^-3  Carrier Concentration\n",
"\n",
"e=1.6*10^-19;  //Coulomb  Charge on electron\n",
"\n",
"//From graph 18.18 m_e is calculated corresponding to n=10^23\n",
"\n",
"m_e=0.07;  //m^2/V-s  Mobility of electron\n",
"\n",
"//For extrinsic n-type, the formula used is:\n",
"\n",
"sigma=n*e*m_e;\n",
"\n",
"printf('\nConductivity at n=10^23 is : %d (Ohm-m)^-1\n',sigma);\n",
"\n",
"\n",
"//End"
   ]
   }
,
{
		   "cell_type": "markdown",
		   "metadata": {},
		   "source": [
			"## Example 18.3_c: Elevated_Temperature_Electrical_Conductivity_Calculations.sce"
		   ]
		  },
  {
"cell_type": "code",
	   "execution_count": null,
	   "metadata": {
	    "collapsed": true
	   },
	   "outputs": [],
"source": [
"//Elevated-Temperature Electrical Conductivity Calculations for Extrinsic Silicon\n",
"\n",
"clear;\n",
"clc;\n",
"\n",
"printf('\tExample 18.3\n');\n",
"\n",
"n=10^23; //m^-3  Carrier Concentration\n",
"\n",
"e=1.6*10^-19;  //Coulomb  Charge on electron\n",
"\n",
"printf('\n\tPart C\n');\n",
"\n",
"//From graph 18.19a m_e2 is calculated corresponding to 373 K\n",
"\n",
"m_e2=0.04;  //m^2/V-s  Mobility of electron\n",
"\n",
"sigma2=n*e*m_e2;\n",
"\n",
"printf('\nConductivity at T=373 K becomes : %d (Ohm-m)^-1\n',sigma2);\n",
"\n",
"//End"
   ]
   }
,
{
		   "cell_type": "markdown",
		   "metadata": {},
		   "source": [
			"## Example 18.4: Hall_Voltage_Computatio.sce"
		   ]
		  },
  {
"cell_type": "code",
	   "execution_count": null,
	   "metadata": {
	    "collapsed": true
	   },
	   "outputs": [],
"source": [
"//Hall Voltage Computation\n",
"\n",
"clear;\n",
"clc;\n",
"\n",
"printf('\tExample 18.4\n');\n",
"\n",
"sigma=3.8*10^7;  //(Ohm-m)^-1  Electrical Conductivity\n",
"\n",
"m_e=0.0012;  //m^2/V-s  Mobility of electron\n",
"\n",
"Rh=-m_e/sigma;  //Hall coefficient\n",
"\n",
"printf('\nHall coefficient is : %f * 10^-11 V-m/A-Tesla\n',Rh/10^-11);\n",
"\n",
"Ix=25;  //Ampere(A) Current\n",
"\n",
"d=15*10^-3; //m Thickness\n",
"\n",
"Bz=0.6;  //Tesla  Magnetic field\n",
"\n",
"Vh=Rh*Ix*Bz/d;\n",
"\n",
"printf('\nHall Voltage is : %f * 10^-8 V\n',Vh/10^-8);\n",
"\n",
"//End"
   ]
   }
,
{
		   "cell_type": "markdown",
		   "metadata": {},
		   "source": [
			"## Example 18.6: Acceptor_Impurity_Doping_in_Silicon.sce"
		   ]
		  },
  {
"cell_type": "code",
	   "execution_count": null,
	   "metadata": {
	    "collapsed": true
	   },
	   "outputs": [],
"source": [
"//Acceptor Impurity Doping in Silicon\n",
"\n",
"clear;\n",
"clc;\n",
"\n",
"printf('\tDesign Example 18.1\n');\n",
"\n",
"e=1.6D-19;                 //Charge on electron in Coulomb\n",
"p=[10^22 10^21 8D21];      //Conc. of holes     m^-3\n",
"uh=[0.04 0.045 0.04];      //Mobility of holes\n",
"\n",
"for i=1:3\n",
"    sigma(i)=p(i)*e*uh(i);\n",
"end\n",
"\n",
"disp('(Ohm-m)^-1',sigma(3),'conductivity is','m^2/V-s',uh(3),'m^-3',p(3),'For hole conc and mobility');\n",
"\n",
"Na=6.023D23;              //Avogadro no.\n",
"den_Si=2.33D6;            //Density of silicon in g/m^3\n",
"A_Si=28.09;               //Atomic weight of silicon\n",
"\n",
"N_Si=Na*den_Si/A_Si;\n",
"\n",
"\n",
"Ca=p(3)/(p(3)+N_Si)*100;\n",
"\n",
"printf('\nThus, Silicon material must contain %.1f * 10^-5 %% B,Al,Ga or In\n',Ca/10^-5);\n",
"\n",
"//End"
   ]
   }
],
"metadata": {
		  "kernelspec": {
		   "display_name": "Scilab",
		   "language": "scilab",
		   "name": "scilab"
		  },
		  "language_info": {
		   "file_extension": ".sce",
		   "help_links": [
			{
			 "text": "MetaKernel Magics",
			 "url": "https://github.com/calysto/metakernel/blob/master/metakernel/magics/README.md"
			}
		   ],
		   "mimetype": "text/x-octave",
		   "name": "scilab",
		   "version": "0.7.1"
		  }
		 },
		 "nbformat": 4,
		 "nbformat_minor": 0
}
