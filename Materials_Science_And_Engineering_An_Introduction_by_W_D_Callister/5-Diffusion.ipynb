{
"cells": [
 {
		   "cell_type": "markdown",
	   "metadata": {},
	   "source": [
       "# Chapter 5: Diffusion"
	   ]
	},
{
		   "cell_type": "markdown",
		   "metadata": {},
		   "source": [
			"## Example 5.1: Diffusion_Flux_Computation.sce"
		   ]
		  },
  {
"cell_type": "code",
	   "execution_count": null,
	   "metadata": {
	    "collapsed": true
	   },
	   "outputs": [],
"source": [
"//Diffusion Flux Computation\n",
"\n",
"clear;\n",
"clc;\n",
"\n",
"printf('\tExample 5.1\n');\n",
"\n",
"Ca=1.2;       //Concentration at A in  kg/m^3\n",
"Cb=0.8;       //Concentration at B in  kg/m^3\n",
"\n",
"xa=5*10^-3;   //Position 1 in m\n",
"xb=10*10^-3;  //Position 2 in m\n",
"\n",
"D=3*10^-11;   //Diffusion coefficient in m^2/s\n",
"\n",
"J=-D*(Ca-Cb)/(xa-xb);\n",
"printf('\nDiffusion flux is %.1f * 10^-9 kg/m^2-s',J/10^-9);\n",
"\n",
"//End"
   ]
   }
,
{
		   "cell_type": "markdown",
		   "metadata": {},
		   "source": [
			"## Example 5.2: Nonsteady_State_Diffusion_Time_Computation.sce"
		   ]
		  },
  {
"cell_type": "code",
	   "execution_count": null,
	   "metadata": {
	    "collapsed": true
	   },
	   "outputs": [],
"source": [
"//Nonsteady-State Diffusion Time Computation I\n",
"\n",
"clear;\n",
"clc;\n",
"\n",
"printf('\tExample 5.2\n');\n",
"\n",
"Co=0.25;        //Initial Conc. in wt%\n",
"Cs=1.2;         //Surface conc. in wt%\n",
"Cx=0.8;         //Conc. at any x  in wt%\n",
"\n",
"x=5*10^-4;     //Position in m\n",
"D=1.6*10^-11;  //Diffusion coeff in m^2/s\n",
"\n",
"C=1-((Cx-Co)/(Cs-Co));\n",
"z=erfinv(C);\n",
"\n",
"//But C=erf(x/2sqrt(Dt))\n",
"t=x^2/(4*D*z^2);\n",
"\n",
"printf('\nTime required is %d s or %.1f h\n',t,t/3600);\n",
"\n",
"//End"
   ]
   }
,
{
		   "cell_type": "markdown",
		   "metadata": {},
		   "source": [
			"## Example 5.3: Nonsteady_State_Diffusion_Time_Computation_II.sce"
		   ]
		  },
  {
"cell_type": "code",
	   "execution_count": null,
	   "metadata": {
	    "collapsed": true
	   },
	   "outputs": [],
"source": [
"//Nonsteady-State Diffusion Time Computation II\n",
"\n",
"clear;\n",
"clc;\n",
"\n",
"printf('\tExample 5.3\n');\n",
"\n",
"D500=4.8*10^-14;     //Diffusion coefficient at 500 C\n",
"\n",
"D600=5.3*10^-13;     //Diffusion coefficient at 600 C\n",
"t600=10;             //Time in hours to diffuse\n",
"\n",
"t500=D600*t600/D500;\n",
"\n",
"printf('\nTime to diffuse at 500 C is %.1f h\n',t500);\n",
"\n",
"//End"
   ]
   }
,
{
		   "cell_type": "markdown",
		   "metadata": {},
		   "source": [
			"## Example 5.4: Diffusion_Coefficient_Determination.sce"
		   ]
		  },
  {
"cell_type": "code",
	   "execution_count": null,
	   "metadata": {
	    "collapsed": true
	   },
	   "outputs": [],
"source": [
"//Diffusion Coefficient Determination\n",
"\n",
"clear;\n",
"clc;\n",
"\n",
"printf('\tExample 5.4\n');\n",
"\n",
"T=550+273;            //in K\n",
"D0=1.2*10^-4;  //Temperature independent preexponential in m^2/s\n",
"Qd=131000;            //Activation energy in J/mol-K\n",
"R=8.31;               //Universal Gas constt\n",
"\n",
"D=D0*exp(-Qd/(R*T));\n",
"\n",
"printf('\nDiffusion coefficient is %.1f * 10^-13 m^2/s\n',D/10^-13);\n",
"\n",
"//End"
   ]
   }
,
{
		   "cell_type": "markdown",
		   "metadata": {},
		   "source": [
			"## Example 5.5: Diffusion_Coefficient_Activation_Energy.sce"
		   ]
		  },
  {
"cell_type": "code",
	   "execution_count": null,
	   "metadata": {
	    "collapsed": true
	   },
	   "outputs": [],
"source": [
"//Diffusion Coefficient Activation Energy and Preexponential Calculations\n",
"\n",
"clear;\n",
"clc;\n",
"\n",
"printf('\tExample 5.5\n');\n",
"\n",
"//From graph log D ad 1/T are deducted\n",
"inv_T1=0.8*10^-3;          //Reciprocal of temp.  in K^-1\n",
"inv_T2=1.1*10^-3;          //Reciprocal of temp.  in K^-1\n",
"logD1=-12.4;\n",
"logD2=-15.45;\n",
"\n",
"R=8.31;                   //Gas law Constant in J/mol-K\n",
"\n",
"Qd=-2.3*R*(logD1-logD2)/(inv_T1-inv_T2);\n",
"printf('\nActivation energy is %d kJ/mol',Qd/1000);\n",
"\n",
"//For calculating Peexponential factor\n",
"D0=10^(logD2+(Qd*inv_T2/(2.3*R)));\n",
"printf('\nPreexponential factor D0 is %.1f * 10^-5 m^2/s\n',D0/10^-5);\n",
"\n",
"//End"
   ]
   }
,
{
		   "cell_type": "markdown",
		   "metadata": {},
		   "source": [
			"## Example 5.6: Diffusion_Temperature_Time_Heat_Treatment_Specification.sce"
		   ]
		  },
  {
"cell_type": "code",
	   "execution_count": null,
	   "metadata": {
	    "collapsed": true
	   },
	   "outputs": [],
"source": [
"//Diffusion Temperature–Time Heat Treatment Specification\n",
"\n",
"clear;\n",
"clc;\n",
"\n",
"printf('\tDesign Example 5.1\n');\n",
"\n",
"C0=0.2;           //Initial concentration in wt%\n",
"Cs=1;             //Surface conc in wt%\n",
"Cx=0.6;           //Conc at any position X in wt%\n",
"x=7.5*10^-4;      //Position in m\n",
"D0=2.3*10^-5;     //Preexponential factor in m^2/s\n",
"R=8.31;           //Gas law constant in J/mol-K\n",
"Qd=148000;        //Activation energy in J/mol\n",
"\n",
"C=1-((Cx-C0)/(Cs-C0));\n",
"z=erfinv(C);\n",
"Dt=(x/(2*z))^2;\n",
"\n",
"//Dt=D0*exp(-Qd/RT)*t = value of variable Dt\n",
"D=Dt/D0;\n",
"\n",
"T=[900 950 1000 1050];\n",
"for i=1:4\n",
"    t(i)=D/exp(-Qd/(R*(T(i)+273)))/3600;\n",
"end\n",
"\n",
"printf('\nTemperature(in Celsius) is\n');\n",
"disp(T);\n",
"printf('\nTime is (in hours)\n');\n",
"disp(t);\n",
"\n",
"//End"
   ]
   }
],
"metadata": {
		  "kernelspec": {
		   "display_name": "Scilab",
		   "language": "scilab",
		   "name": "scilab"
		  },
		  "language_info": {
		   "file_extension": ".sce",
		   "help_links": [
			{
			 "text": "MetaKernel Magics",
			 "url": "https://github.com/calysto/metakernel/blob/master/metakernel/magics/README.md"
			}
		   ],
		   "mimetype": "text/x-octave",
		   "name": "scilab",
		   "version": "0.7.1"
		  }
		 },
		 "nbformat": 4,
		 "nbformat_minor": 0
}
