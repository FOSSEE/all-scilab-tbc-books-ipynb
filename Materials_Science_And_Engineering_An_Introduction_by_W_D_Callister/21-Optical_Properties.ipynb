{
"cells": [
 {
		   "cell_type": "markdown",
	   "metadata": {},
	   "source": [
       "# Chapter 21: Optical Properties"
	   ]
	},
{
		   "cell_type": "markdown",
		   "metadata": {},
		   "source": [
			"## Example 21.1: Computation_of_the_Absorption_Coefficient_for_Glass.sce"
		   ]
		  },
  {
"cell_type": "code",
	   "execution_count": null,
	   "metadata": {
	    "collapsed": true
	   },
	   "outputs": [],
"source": [
"//Example 20.1 Calculation of absorption coefficient\n",
"\n",
"clear;\n",
"clc;\n",
"\n",
"printf('\tExample 21.1\n');\n",
"\n",
"// x is thickness of glass(mm)\n",
"x=200;\n",
"\n",
"//It is intensity of non-absorbed radiation\n",
"//Io is intensity of non-relected radiation\n",
"\n",
"f=0.98;  //f=It/Io\n",
"\n",
"//b is absorption coefficient\n",
"\n",
"b=-log(f)/x;\n",
"\n",
"printf('\nAbsorption coefficient is %f mm^-1\n',b);\n",
"\n",
"//End"
   ]
   }
,
{
		   "cell_type": "markdown",
		   "metadata": {},
		   "source": [
			"## Example 21.2: Velocity_of_light_in_diamond.sce"
		   ]
		  },
  {
"cell_type": "code",
	   "execution_count": null,
	   "metadata": {
	    "collapsed": true
	   },
	   "outputs": [],
"source": [
"//Velocity of light in diamond\n",
"\n",
"clear;\n",
"clc;\n",
"\n",
"printf('\tExample 21.2\n');\n",
"\n",
"er=5.5;                   //Relative permitivity\n",
"xm=-2.17D-5;              //Magnetic Suseptibility\n",
"\n",
"eo=8.85D-12;              //Permitivity in free space\n",
"uo=4*%pi*10^-7;           //Permeability\n",
"\n",
"e=er*eo;\n",
"u=uo*(1+xm);\n",
"\n",
"v=1/sqrt(u*e);\n",
"\n",
"printf('\nVelocity in diamond is %.2e m/s\n',v);\n",
"\n",
"//End"
   ]
   }
,
{
		   "cell_type": "markdown",
		   "metadata": {},
		   "source": [
			"## Example 21.3: Suitable_material_required.sce"
		   ]
		  },
  {
"cell_type": "code",
	   "execution_count": null,
	   "metadata": {
	    "collapsed": true
	   },
	   "outputs": [],
"source": [
"//Suitable material required\n",
"\n",
"clear;\n",
"clc;\n",
"\n",
"printf('\tExample 21.3\n');\n",
"\n",
"R=0.05;\n",
"n=poly([0],'x');\n",
"\n",
"//R = (ns-1/ns+1)^2 leading to the equation\n",
"//    0.95ns^2-2.1ns+0.95 = 0\n",
"//HencE\n",
"\n",
"ns=roots((0.95*n^2)-(2.1*n)+0.95);\n",
"\n",
"disp(ns,'The values of ns are: ');\n",
"printf('Thus, soda-lime glass, Pyrex glass, and polyprop would be suitable for this application.');\n",
"\n",
"//End"
   ]
   }
],
"metadata": {
		  "kernelspec": {
		   "display_name": "Scilab",
		   "language": "scilab",
		   "name": "scilab"
		  },
		  "language_info": {
		   "file_extension": ".sce",
		   "help_links": [
			{
			 "text": "MetaKernel Magics",
			 "url": "https://github.com/calysto/metakernel/blob/master/metakernel/magics/README.md"
			}
		   ],
		   "mimetype": "text/x-octave",
		   "name": "scilab",
		   "version": "0.7.1"
		  }
		 },
		 "nbformat": 4,
		 "nbformat_minor": 0
}
