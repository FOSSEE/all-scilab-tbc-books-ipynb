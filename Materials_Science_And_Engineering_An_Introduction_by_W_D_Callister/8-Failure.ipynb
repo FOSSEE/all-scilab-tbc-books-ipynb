{
"cells": [
 {
		   "cell_type": "markdown",
	   "metadata": {},
	   "source": [
       "# Chapter 8: Failure"
	   ]
	},
{
		   "cell_type": "markdown",
		   "metadata": {},
		   "source": [
			"## Example 8.1: Maximum_Flaw_Length_Computation.sce"
		   ]
		  },
  {
"cell_type": "code",
	   "execution_count": null,
	   "metadata": {
	    "collapsed": true
	   },
	   "outputs": [],
"source": [
"//Maximum Flaw Length Computation\n",
"\n",
"clear;\n",
"clc;\n",
"\n",
"printf('\tExample 8.1\n');\n",
"\n",
"sigma=40*10^6; // in Pa  Tensile stress\n",
"E=69*10^9;  //Modulus of elaticity  in pa\n",
"Ys=0.3;  //Specific surface energy  in N/m^2\n",
"\n",
"//Maximum length of a surface flaw\n",
"a=2*E*Ys/(%pi*sigma^2);\n",
"\n",
"printf('\nMaximum lemgth of a surface falw without fracture : %.4f mm\n',a/10^-3);\n",
"\n",
"//End"
   ]
   }
,
{
		   "cell_type": "markdown",
		   "metadata": {},
		   "source": [
			"## Example 8.2: Rupture_Lifetime_Predictio.sce"
		   ]
		  },
  {
"cell_type": "code",
	   "execution_count": null,
	   "metadata": {
	    "collapsed": true
	   },
	   "outputs": [],
"source": [
"//Rupture Lifetime Prediction\n",
"\n",
"clear;\n",
"clc;\n",
"\n",
"printf('\tDesign Example 8.2\n');\n",
"\n",
"T=800+273;  // Temperature in K\n",
"\n",
"//stress is 140 MPa\n",
"//From Graph of Fig. 8.32 Larson-Miller Parameter is deduced\n",
"L_M=24*10^3;\n",
"\n",
"t=10^((L_M/T)-20);\n",
"\n",
"printf('\nTime to rupture is : %d hours\n',t);\n",
"\n",
"//End"
   ]
   }
,
{
		   "cell_type": "markdown",
		   "metadata": {},
		   "source": [
			"## Example 8.3: Estimating_theoretical_fracture_strength.sce"
		   ]
		  },
  {
"cell_type": "code",
	   "execution_count": null,
	   "metadata": {
	    "collapsed": true
	   },
	   "outputs": [],
"source": [
"//Estimating theoretical fracture strength\n",
"\n",
"clear;\n",
"clc;\n",
"\n",
"printf('\tExample 8.3\n');\n",
"\n",
"a=0.5;            //Crack length in mm\n",
"ro=5D-3;          //Crack tip radius of curvature in mm\n",
"sig=1035;         //Applied stress in MPa\n",
"\n",
"sigm=2*sig*sqrt(a/ro);\n",
"\n",
"printf('\nFracture strength is %.2e MPa\n',sigm);\n",
"\n",
"//End"
   ]
   }
,
{
		   "cell_type": "markdown",
		   "metadata": {},
		   "source": [
			"## Example 8.4: Computation_of_critical_shear_stress.sce"
		   ]
		  },
  {
"cell_type": "code",
	   "execution_count": null,
	   "metadata": {
	    "collapsed": true
	   },
	   "outputs": [],
"source": [
"//Computation of critical shear stress\n",
"\n",
"clear;\n",
"clc;\n",
"\n",
"printf('\tExample 8.4\n');\n",
"\n",
"E=393D9;             //Young's modulus for Al\n",
"gam=0.9;             //surface energy in J/m^2\n",
"a=4D-4;              //Crack length in m\n",
"\n",
"sigc=sqrt(2*E*gam/(%pi*a/2));\n",
"\n",
"printf('\nCritical shear stress is %.2e N/m^2\n',sigc);\n",
"\n",
"//End"
   ]
   }
,
{
		   "cell_type": "markdown",
		   "metadata": {},
		   "source": [
			"## Example 8.5: Determining_maximum_allowable_surface_crack_length.sce"
		   ]
		  },
  {
"cell_type": "code",
	   "execution_count": null,
	   "metadata": {
	    "collapsed": true
	   },
	   "outputs": [],
"source": [
"//Determining maximum allowable surface crack length\n",
"\n",
"clear;\n",
"clc;\n",
"\n",
"printf('\tExample 8.5\n');\n",
"\n",
"E=225D9;                //Young's modulus\n",
"gam=1;                  //surface energy in N/m\n",
"sigc=13.5D6;            //Critical shear stress in N/m^2\n",
"\n",
"a=2*E*gam/(%pi*sigc^2);\n",
"\n",
"printf('\nMaximum allowable crack length is %.1e m\n',a);\n",
"\n",
"//End"
   ]
   }
],
"metadata": {
		  "kernelspec": {
		   "display_name": "Scilab",
		   "language": "scilab",
		   "name": "scilab"
		  },
		  "language_info": {
		   "file_extension": ".sce",
		   "help_links": [
			{
			 "text": "MetaKernel Magics",
			 "url": "https://github.com/calysto/metakernel/blob/master/metakernel/magics/README.md"
			}
		   ],
		   "mimetype": "text/x-octave",
		   "name": "scilab",
		   "version": "0.7.1"
		  }
		 },
		 "nbformat": 4,
		 "nbformat_minor": 0
}
