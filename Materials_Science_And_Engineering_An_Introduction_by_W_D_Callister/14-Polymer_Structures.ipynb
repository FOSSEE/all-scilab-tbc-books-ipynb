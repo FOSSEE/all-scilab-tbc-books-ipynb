{
"cells": [
 {
		   "cell_type": "markdown",
	   "metadata": {},
	   "source": [
       "# Chapter 14: Polymer Structures"
	   ]
	},
{
		   "cell_type": "markdown",
		   "metadata": {},
		   "source": [
			"## Example 14.2_a: Computations_of_the_Density.sce"
		   ]
		  },
  {
"cell_type": "code",
	   "execution_count": null,
	   "metadata": {
	    "collapsed": true
	   },
	   "outputs": [],
"source": [
"//Computations of the Density\n",
"\n",
"clear;\n",
"clc;\n",
"\n",
"printf('\tExample 14.2\n');\n",
"\n",
"printf('\n\tPart A');\n",
"Ac=12.01;  //in g/mol  Molecular weight of Carbon\n",
"Ah=1.008;  //in g/mol  molecular weight of hydrogen\n",
"a=7.41*10^-8;  //in cm\n",
"b=4.94*10^-8;  //in cm\n",
"c=2.55*10^-8;  //in cm\n",
"Na=6.023*10^23;\n",
"\n",
"Vc=a*b*c;\n",
"n=2;\n",
"A=(2*Ac)+(4*Ah);\n",
"\n",
"density_c=n*A/(Vc*Na);\n",
"\n",
"printf('\nDensity is : %f g/cm^3\n',density_c);\n",
"\n",
"//End"
   ]
   }
,
{
		   "cell_type": "markdown",
		   "metadata": {},
		   "source": [
			"## Example 14.2_b: Computation_of_Percent_Crystallinity.sce"
		   ]
		  },
  {
"cell_type": "code",
	   "execution_count": null,
	   "metadata": {
	    "collapsed": true
	   },
	   "outputs": [],
"source": [
"//Percent Crystallinity of Polyethylene\n",
"\n",
"clear;\n",
"clc;\n",
"\n",
"printf('\tExample 14.2\n');\n",
"\n",
"printf('\n\tPart B');\n",
"density_a=0.870;  // in g/cm^3\n",
"density_s=0.925;  // in g/cm^3\n",
"\n",
"Ac=12.01;  //in g/mol  Molecular weight of Carbon\n",
"Ah=1.008;  //in g/mol  molecular weight of hydrogen\n",
"a=7.41*10^-8;  //in cm\n",
"b=4.94*10^-8;  //in cm\n",
"c=2.55*10^-8;  //in cm\n",
"Na=6.023*10^23;\n",
"\n",
"Vc=a*b*c;\n",
"n=2;\n",
"A=(2*Ac)+(4*Ah);\n",
"\n",
"density_c=n*A/(Vc*Na);\n",
"\n",
"pc=density_c*(density_s-density_a)*100/(density_s*(density_c-density_a));\n",
"\n",
"printf('\npercentage crystallinity is : %.1f %%\n',pc);\n",
"\n",
"//End"
   ]
   }
,
{
		   "cell_type": "markdown",
		   "metadata": {},
		   "source": [
			"## Example 14.3_a: Computations_of_Diffusion_Flux_of_Carbon_Dioxide.sce"
		   ]
		  },
  {
"cell_type": "code",
	   "execution_count": null,
	   "metadata": {
	    "collapsed": true
	   },
	   "outputs": [],
"source": [
"//Computations of Diffusion Flux of Carbon dioxide through Plasic Beverage Container\n",
"\n",
"clear;\n",
"clc;\n",
"\n",
"function[A]= approx(V,n)\n",
"    A= round(V*10^n)/10^n;\n",
"    funcprot(0)\n",
"endfunction\n",
"\n",
"printf('\tExample 14.3\n');\n",
"\n",
"printf('\n\tPart A');\n",
"P1=400000; // in Pa  Pressure inside the bottle\n",
"P2=400;  // in Pa  Pressure outside the bottle\n",
"Pm=0.23*10^-13;  //Solubility Coefficient\n",
"dx=0.05;  // in cm Thickness of wall\n",
"\n",
"J=approx(-Pm*(P2-P1)/dx,8);\n",
"printf('\nDiffusion flux is : %.2f * 10 ^ -6 ',J/10^-6);\n",
"printf('cm^3 STP/cm^2-s\n');\n",
"\n",
"//End"
   ]
   }
,
{
		   "cell_type": "markdown",
		   "metadata": {},
		   "source": [
			"## Example 14.3_b: Computation_of_Beverage_Shelf_Life.sce"
		   ]
		  },
  {
"cell_type": "code",
	   "execution_count": null,
	   "metadata": {
	    "collapsed": true
	   },
	   "outputs": [],
"source": [
"//Beverage Shell Life\n",
"\n",
"clear;\n",
"clc;\n",
"\n",
"function[A]= approx(V,n)\n",
"    A= round(V*10^n)/10^n;\n",
"    funcprot(0)\n",
"endfunction\n",
"\n",
"printf('\tExample 14.3\n');\n",
"\n",
"P1=400000; // in Pa  Pressure inside the bottle\n",
"P2=400;  // in Pa  Pressure outside the bottle\n",
"Pm=0.23*10^-13;  //Solubility Coefficient\n",
"dx=0.05;  // in cm Thickness of wall\n",
"\n",
"J=approx(-Pm*(P2-P1)/dx,8);\n",
"\n",
"printf('\n\tPart B');\n",
"A=500;  //surface area of bottle in cm^2\n",
"V_lose=750;  //cm^3 STP\n",
"\n",
"V=J*A;\n",
"t=V_lose/V;\n",
"time=t/(3600*24);\n",
"\n",
"printf('\nTime to escape is : %.2e sec or %d days\n',t,time);\n",
"\n",
"//End"
   ]
   }
],
"metadata": {
		  "kernelspec": {
		   "display_name": "Scilab",
		   "language": "scilab",
		   "name": "scilab"
		  },
		  "language_info": {
		   "file_extension": ".sce",
		   "help_links": [
			{
			 "text": "MetaKernel Magics",
			 "url": "https://github.com/calysto/metakernel/blob/master/metakernel/magics/README.md"
			}
		   ],
		   "mimetype": "text/x-octave",
		   "name": "scilab",
		   "version": "0.7.1"
		  }
		 },
		 "nbformat": 4,
		 "nbformat_minor": 0
}
