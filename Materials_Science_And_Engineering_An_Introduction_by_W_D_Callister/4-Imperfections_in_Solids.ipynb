{
"cells": [
 {
		   "cell_type": "markdown",
	   "metadata": {},
	   "source": [
       "# Chapter 4: Imperfections in Solids"
	   ]
	},
{
		   "cell_type": "markdown",
		   "metadata": {},
		   "source": [
			"## Example 4.1: Number_of_Vacancies_Computation.sce"
		   ]
		  },
  {
"cell_type": "code",
	   "execution_count": null,
	   "metadata": {
	    "collapsed": true
	   },
	   "outputs": [],
"source": [
"//Number of Vacancies Computation at a Specified temperature\n",
"\n",
"clear;\n",
"clc;\n",
"\n",
"printf('\tExample 4.1\n');\n",
"\n",
"Na=6.023*10^23;      //Avogadro No.\n",
"den=8.4D+06;         //Density of Copper\n",
"A=63.5;              //Atomic weight of Copper\n",
"\n",
"//No. of atomic site per cubic meter\n",
"N=Na*den/A;\n",
"\n",
"//No. of vacancies at 1000 C\n",
"Qv=0.9;             //Activation energy in eV\n",
"k=8.62*10^-5;       //Boltzmann Constatnt in eV/K\n",
"T=1000+273;         //Temperature in K\n",
"\n",
"Nv=N*exp(-Qv/(k*T));\n",
"printf('\nNo.of vacancies are %.1f * 10^25 /m^3',Nv/10^25);\n",
"\n",
"//End"
   ]
   }
,
{
		   "cell_type": "markdown",
		   "metadata": {},
		   "source": [
			"## Example 4.3: Composition_Conversion_From_Weight_Percent_to_Atom_Percent.sce"
		   ]
		  },
  {
"cell_type": "code",
	   "execution_count": null,
	   "metadata": {
	    "collapsed": true
	   },
	   "outputs": [],
"source": [
"//Composition Conversion- From weight percent to Atom percent\n",
"\n",
"clear;\n",
"clc;\n",
"\n",
"printf('\t Example 4.3\n');\n",
"\n",
"//Conversion to Atom percent\n",
"function[C]=conc(C1,C2,A1,A2)\n",
"    C=C1*A2*100/((C1*A2)+(C2*A1));\n",
"    funcprot(0)\n",
"endfunction\n",
"\n",
"\n",
"C_Al=97;       //Aluminium wt%\n",
"C_Cu=3;        //Copper wt%\n",
"A_Al=26.98;    //Atomic wt of Aluminium\n",
"A_Cu=63.55;    //Atomic wt of Copper\n",
"\n",
"CAl=conc(C_Al,C_Cu,A_Al,A_Cu);\n",
"CCu=conc(C_Cu,C_Al,A_Cu,A_Al);\n",
"\n",
"printf('\nAtomic %% of Al is %.1f %%',CAl);\n",
"printf('\nAtomic %% of Cu is %.1f %%\n',CCu);\n",
"\n",
"//End"
   ]
   }
,
{
		   "cell_type": "markdown",
		   "metadata": {},
		   "source": [
			"## Example 4.4_a: Computations_of_ASTM_Grain_Size_Number.sce"
		   ]
		  },
  {
"cell_type": "code",
	   "execution_count": null,
	   "metadata": {
	    "collapsed": true
	   },
	   "outputs": [],
"source": [
"//Computations of ASTM Grain Size Number\n",
"\n",
"clear;\n",
"clc;\n",
"\n",
"printf('\tExample 4.4\n');\n",
"\n",
"printf('\n\tPart A');\n",
"\n",
"N=45;           //No. of grains per square inch\n",
"\n",
"//Dterminin grain size no.  N=2^(n-1)\n",
"n=(log(N)/log(2))+1;\n",
"printf('\nGrain size no. is %.1f\n',n);\n",
"\n",
"//End"
   ]
   }
,
{
		   "cell_type": "markdown",
		   "metadata": {},
		   "source": [
			"## Example 4.4_b: Number_of_Grains_Per_Unit_Area.sce"
		   ]
		  },
  {
"cell_type": "code",
	   "execution_count": null,
	   "metadata": {
	    "collapsed": true
	   },
	   "outputs": [],
"source": [
"//Number of Grains Per Unit Area\n",
"\n",
"clear;\n",
"clc;\n",
"\n",
"printf('\tExample 4.4\n');\n",
"\n",
"printf('\n\tPart B');\n",
"N=45;           //No. of grains per square inch\n",
"n=(log(N)/log(2))+1;\n",
"M=85;\n",
"\n",
"Nm=(100/M)^2*2^(n-1);\n",
"printf('\nAt magnification of 85x\n');\n",
"printf('No. of grains per inch square are %.1f\n',Nm);\n",
"\n",
"//End"
   ]
   }
],
"metadata": {
		  "kernelspec": {
		   "display_name": "Scilab",
		   "language": "scilab",
		   "name": "scilab"
		  },
		  "language_info": {
		   "file_extension": ".sce",
		   "help_links": [
			{
			 "text": "MetaKernel Magics",
			 "url": "https://github.com/calysto/metakernel/blob/master/metakernel/magics/README.md"
			}
		   ],
		   "mimetype": "text/x-octave",
		   "name": "scilab",
		   "version": "0.7.1"
		  }
		 },
		 "nbformat": 4,
		 "nbformat_minor": 0
}
