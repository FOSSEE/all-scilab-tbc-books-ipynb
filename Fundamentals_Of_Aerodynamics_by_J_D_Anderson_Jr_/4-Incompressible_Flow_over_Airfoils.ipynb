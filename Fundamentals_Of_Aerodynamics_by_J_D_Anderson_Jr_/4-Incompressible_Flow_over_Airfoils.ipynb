{
"cells": [
 {
		   "cell_type": "markdown",
	   "metadata": {},
	   "source": [
       "# Chapter 4: Incompressible Flow over Airfoils"
	   ]
	},
{
		   "cell_type": "markdown",
		   "metadata": {},
		   "source": [
			"## Example 4.10: Calculation_of_net_skin_friction_drag_coefficient_for_NACA_2412_airfoil.sce"
		   ]
		  },
  {
"cell_type": "code",
	   "execution_count": null,
	   "metadata": {
	    "collapsed": true
	   },
	   "outputs": [],
"source": [
"//All the quantities are expressed in SI units\n",
"\n",
"c = 1.5;                //airfoil chord length\n",
"Rex_cr = 1e6;           //critical Reynold's number\n",
"Re_c = 3.1e6;           //Reynold's number at the trailing edge\n",
"\n",
"//the point of transition is given by\n",
"x1 = Rex_cr/Re_c*c;\n",
"\n",
"//the various skin friction coefficients are given as\n",
"Cf1_laminar = 1.328/sqrt(Rex_cr);                //this is a mistake in the book in calulation of this quantity thus the answer in book is wrong\n",
"Cfc_turbulent = 0.074/(Re_c^0.2);\n",
"Cf1_turbulent = 0.074/(Rex_cr^0.2);\n",
"\n",
"//thus the total skin friction coefficient is given by\n",
"Cf = x1/c*Cf1_laminar + Cfc_turbulent - x1/c*Cf1_turbulent;\n",
"\n",
"//taking both sides of plate into account\n",
"Net_Cf = 2*Cf;\n",
"\n",
"printf('\nRESULTS\n--------\nThe net skin friction coefficient is\n        Net Cf = %1.5f',Net_Cf)"
   ]
   }
,
{
		   "cell_type": "markdown",
		   "metadata": {},
		   "source": [
			"## Example 4.1: Calculation_of_angle_of_attack_and_drag_per_unit_span_of_a_NACA_2412_airfoil.sce"
		   ]
		  },
  {
"cell_type": "code",
	   "execution_count": null,
	   "metadata": {
	    "collapsed": true
	   },
	   "outputs": [],
"source": [
"//All the quantities are expressed in SI units\n",
"\n",
"c = 0.64;                                //chord length of the airfoil\n",
"V_inf = 70;                              //freestream velocity\n",
"L_dash = 1254;                           //lift per unit span L'\n",
"rho_inf = 1.23;                          //density of air\n",
"mu_inf = 1.789e-5;                       //freestream coefficient of viscosity\n",
"q_inf = 1/2*rho_inf*V_inf*V_inf;         //freestream dynamic pressure\n",
"\n",
"//thus the lift coefficient can be calculated as\n",
"c_l = L_dash/q_inf/c;\n",
"\n",
"//for this value of C_l, from fig. 4.10\n",
"alpha = 4;\n",
"\n",
"//the Reynold's number is given as\n",
"Re = rho_inf*V_inf*c/mu_inf;\n",
"\n",
"//for the above Re and alpha values, from fig. 4.11\n",
"c_d = 0.0068;\n",
"\n",
"//thus the drag per unit span can be calculated as\n",
"D_dash = q_inf*c*c_d;\n",
"\n",
"printf('\nRESULTS\n--------\n\nc_l = %1.2f , for this c_l value, from fig. 4.10we get\nalpha = %1.0f\n------------\n\nRe = %1.2f x 10^6, for this value of Re, from fig. 4.11 we get\nc_d = %1.4f\nD'' = %2.1f N/m\n',c_l,alpha,Re/1000000,c_d,D_dash)"
   ]
   }
,
{
		   "cell_type": "markdown",
		   "metadata": {},
		   "source": [
			"## Example 4.2: EX4_2.sce"
		   ]
		  },
  {
"cell_type": "code",
	   "execution_count": null,
	   "metadata": {
	    "collapsed": true
	   },
	   "outputs": [],
"source": [
"//All the quantities are expressed in SI units\n",
"\n",
"c = 0.64;                                //chord length of the airfoil\n",
"V_inf = 70;                              //freestream velocity\n",
"rho_inf = 1.23;                          //density of air\n",
"q_inf = 1/2*rho_inf*V_inf*V_inf;         //freestream dynamic pressure\n",
"c_m_ac = -0.05                           //moment coefficient about the aerodynamic center as seen from fig. 4.11\n",
"\n",
"//thus moment per unit span about the aerodynamic center is given as\n",
"M_dash = q_inf*c*c*c_m_ac;\n",
"\n",
"printf('\nRESULTS\n--------\nThe Moment per unit span about the aerodynamic center is is\n              M'' = %2.1f Nm\n',M_dash)"
   ]
   }
,
{
		   "cell_type": "markdown",
		   "metadata": {},
		   "source": [
			"## Example 4.3: EX4_3.sce"
		   ]
		  },
  {
"cell_type": "code",
	   "execution_count": null,
	   "metadata": {
	    "collapsed": true
	   },
	   "outputs": [],
"source": [
"//All the quantities are expressed in SI units\n",
"\n",
"alpha = [0 4 8 12];\n",
"c_l = [0.25 0.65 1.08 1.44];\n",
"c_d = [0.0065 0.0070 0.0112 0.017];\n",
"\n",
"for i = 1:4\n",
"    L_by_D(i) = c_l(i)/c_d(i);\n",
"end\n",
"\n",
"temp = [alpha' c_l' c_d' L_by_D];\n",
"printf('\nRESULTS\n--------\n  alpha     Cl      Cd         Cl/Cd')\n",
"disp(temp)"
   ]
   }
,
{
		   "cell_type": "markdown",
		   "metadata": {},
		   "source": [
			"## Example 4.4: EX4_4.sce"
		   ]
		  },
  {
"cell_type": "code",
	   "execution_count": null,
	   "metadata": {
	    "collapsed": true
	   },
	   "outputs": [],
"source": [
"//All the quantities are expressed in SI units\n",
"\n",
"alpha = 5*%pi/180;            //angle of attack in radians\n",
"\n",
"//from eq.(4.33)according to the thin plate theory, the lift coefficient is given by\n",
"c_l = 2*%pi*alpha;\n",
"\n",
"//from eq.(4.39) the coefficient of moment about the leading edge is given by\n",
"c_m_le = -c_l/4;\n",
"\n",
"//from eq.(4.41)\n",
"c_m_qc = 0;\n",
"\n",
"//thus the coefficient of moment about the trailing can be calculated as\n",
"c_m_te = 3/4*c_l;\n",
"\n",
"printf('\nRESULTS\n--------\n(a)\n  Cl = %1.4f\n(b)\n  Cm_le = %1.3f\n(c)\n  Cm_c/4 = %1.0f\n(d)\n  Cm_te = %1.3f\n',c_l,c_m_le,c_m_qc,c_m_te)"
   ]
   }
,
{
		   "cell_type": "markdown",
		   "metadata": {},
		   "source": [
			"## Example 4.5: EX4_5.sce"
		   ]
		  },
  {
"cell_type": "code",
	   "execution_count": null,
	   "metadata": {
	    "collapsed": true
	   },
	   "outputs": [],
"source": [
"//all the quantities are expressed in SI units\n",
"\n",
"//(a)\n",
"//the slope function in terms of theta is given as\n",
"function temp = dz_by_dx(theta)\n",
"    if (theta>=0) & (theta<=0.9335) then\n",
"        temp = 0.684 - 2.3736*cos(theta)+1.995*(cos(theta)^2);\n",
"    elseif (theta<=%pi) & (theta>0.9335) then\n",
"        temp = -0.02208;\n",
"    else\n",
"        temp = 0;\n",
"    end\n",
"endfunction\n",
"\n",
"//the integration function fot alpha,L=0 is thus given as\n",
"function temp = integ1(theta)\n",
"    temp = dz_by_dx(theta)*(cos(theta)-1);\n",
"endfunction\n",
"\n",
"//from eq.(4.61)\n",
"alpha_L0 = -1/%pi*intg(0,%pi,integ1);\n",
"\n",
"//(b)\n",
"alpha = 4*%pi/180;\n",
"\n",
"//from eq.(4.60)\n",
"c_l = 2*%pi*(alpha-alpha_L0);\n",
"\n",
"//(c)\n",
"//the integration function for A1 is given by\n",
"function temp = integ2(theta)\n",
"    temp = dz_by_dx(theta)*cos(theta);\n",
"endfunction\n",
"\n",
"//thus\n",
"A1 = 2/%pi*intg(0,%pi,integ2);\n",
"\n",
"//the integration function for A2 is given by\n",
"function temp = integ3(theta)\n",
"    temp = dz_by_dx(theta)*cos(2*theta);\n",
"endfunction\n",
"\n",
"//thus\n",
"A2 = 2/%pi*intg(0,%pi,integ3);\n",
"\n",
"//from eq.(4.64), the moment coefficient about the quarter chord (c/4) is given as\n",
"c_m_qc = %pi/4*(A2-A1);\n",
"\n",
"//(d)\n",
"//from eq.(4.66)\n",
"x_cp_by_c = 1/4*(1+%pi/c_l*(A1-A2));\n",
"\n",
"printf('\nRESULTS\n-------\n(a)\n        alpha_L=0 = %1.2f degrees\n(b)\n        cl = %1.3f\n(c)\n        cm,c/4 = %1.4f\n(d)\n        x_cp/c = %1.3f',alpha_L0*180/%pi,c_l,c_m_qc,x_cp_by_c)"
   ]
   }
,
{
		   "cell_type": "markdown",
		   "metadata": {},
		   "source": [
			"## Example 4.6: Calculation_of_location_of_aerodynamic_center_for_a_NACA_23012_airfoil.sce"
		   ]
		  },
  {
"cell_type": "code",
	   "execution_count": null,
	   "metadata": {
	    "collapsed": true
	   },
	   "outputs": [],
"source": [
"//All the quantities are expressed in SI units\n",
"\n",
"alpha1 = 4;\n",
"alpha2 = -1.1;\n",
"alpha3 = -4;\n",
"cl_1 = 0.55;                //cl at alpha1\n",
"cl_2 = 0;                   //cl at alpha2\n",
"c_m_qc1 = -0.005;           //c_m_qc at alpha1\n",
"c_m_qc3 = -0.0125;          //c_m_qc at alpha3\n",
"\n",
"//the lift slope is given by\n",
"a0 = (cl_1 - cl_2)/(alpha1-alpha2);\n",
"\n",
"//the slope of moment coefficient curve is given by\n",
"m0 = (c_m_qc1 - c_m_qc3)/(alpha1-alpha3);\n",
"\n",
"//from eq.4.71\n",
"x_ac = -m0/a0 + 0.25;\n",
"\n",
"printf('\nRESULTS\n--------\nThe location of the aerodynamic center is\n            x_ac = %1.3f\n',x_ac)"
   ]
   }
,
{
		   "cell_type": "markdown",
		   "metadata": {},
		   "source": [
			"## Example 4.7: EX4_7.sce"
		   ]
		  },
  {
"cell_type": "code",
	   "execution_count": null,
	   "metadata": {
	    "collapsed": true
	   },
	   "outputs": [],
"source": [
"//All the quantities are expressed in SI units\n",
"\n",
"c = 1.5;            //airfoil chord\n",
"Re_c = 3.1e6;       //Reynolds number at trailing edge\n",
"\n",
"//from eq.(4.84), the laminar boundary layer thickness at trailing edge is given by\n",
"delta = 5*c/sqrt(Re_c);\n",
"\n",
"//from eq(4.86)\n",
"Cf = 1.328/sqrt(Re_c);\n",
"\n",
"//the net Cf for both surfaces is given by\n",
"Net_Cf = 2*Cf;\n",
"\n",
"printf('\nRESULTS\n--------\n(a)\n   delta = %1.5f m\n---------\n(b)\n   Cf = %1.2f x 10^-4\n   Net Cf = %1.4f',delta,Cf*10000,Net_Cf)"
   ]
   }
,
{
		   "cell_type": "markdown",
		   "metadata": {},
		   "source": [
			"## Example 4.8: EX4_8.sce"
		   ]
		  },
  {
"cell_type": "code",
	   "execution_count": null,
	   "metadata": {
	    "collapsed": true
	   },
	   "outputs": [],
"source": [
"//All the quantities are expressed in SI units\n",
"\n",
"c = 1.5;            //airfoil chord\n",
"Re_c = 3.1e6;       //Reynolds number at trailing edge\n",
"\n",
"//from eq.(4.87), the turbulent boundary layer thickness at trailing edge is given by\n",
"delta = 0.37*c/(Re_c^0.2);\n",
"\n",
"//from eq(4.86)\n",
"Cf = 0.074/(Re_c^0.2);\n",
"\n",
"//the net Cf for both surfaces is given by\n",
"Net_Cf = 2*Cf;\n",
"\n",
"printf('\nRESULTS\n--------\n(a)\n   delta = %1.4f m\n---------\n(b)\n   Cf = %1.5f\n   Net Cf = %1.5f',delta,Cf,Net_Cf)"
   ]
   }
,
{
		   "cell_type": "markdown",
		   "metadata": {},
		   "source": [
			"## Example 4.9: Calculation_of_net_skin_friction_drag_coefficient_for_NACA_2412_airfoil.sce"
		   ]
		  },
  {
"cell_type": "code",
	   "execution_count": null,
	   "metadata": {
	    "collapsed": true
	   },
	   "outputs": [],
"source": [
"//All the quantities are expressed in SI units\n",
"\n",
"c = 1.5;                //airfoil chord length\n",
"Rex_cr = 5e5;           //critical Reynold's number\n",
"Re_c = 3.1e6;           //Reynold's number at the trailing edge\n",
"\n",
"//the point of transition is given by\n",
"x1 = Rex_cr/Re_c*c;\n",
"\n",
"//the various skin friction coefficients are given as\n",
"Cf1_laminar = 1.328/sqrt(Rex_cr);\n",
"Cfc_turbulent = 0.074/(Re_c^0.2);\n",
"Cf1_turbulent = 0.074/(Rex_cr^0.2);\n",
"\n",
"//thus the total skin friction coefficient is given by\n",
"Cf = x1/c*Cf1_laminar + Cfc_turbulent - x1/c*Cf1_turbulent;\n",
"\n",
"//taking both sides of plate into account\n",
"Net_Cf = 2*Cf;\n",
"\n",
"printf('\nRESULTS\n--------\nThe net skin friction coefficient is\n        Net Cf = %1.4f',Net_Cf)"
   ]
   }
],
"metadata": {
		  "kernelspec": {
		   "display_name": "Scilab",
		   "language": "scilab",
		   "name": "scilab"
		  },
		  "language_info": {
		   "file_extension": ".sce",
		   "help_links": [
			{
			 "text": "MetaKernel Magics",
			 "url": "https://github.com/calysto/metakernel/blob/master/metakernel/magics/README.md"
			}
		   ],
		   "mimetype": "text/x-octave",
		   "name": "scilab",
		   "version": "0.7.1"
		  }
		 },
		 "nbformat": 4,
		 "nbformat_minor": 0
}
