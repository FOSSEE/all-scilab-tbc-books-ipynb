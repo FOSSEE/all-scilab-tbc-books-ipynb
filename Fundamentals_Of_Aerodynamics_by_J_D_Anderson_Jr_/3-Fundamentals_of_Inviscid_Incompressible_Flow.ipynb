{
"cells": [
 {
		   "cell_type": "markdown",
	   "metadata": {},
	   "source": [
       "# Chapter 3: Fundamentals of Inviscid Incompressible Flow"
	   ]
	},
{
		   "cell_type": "markdown",
		   "metadata": {},
		   "source": [
			"## Example 3.10: EX3_10.sce"
		   ]
		  },
  {
"cell_type": "code",
	   "execution_count": null,
	   "metadata": {
	    "collapsed": true
	   },
	   "outputs": [],
"source": [
"//all the quantities are expressed in SI units\n",
"\n",
"V1 =114.2;                 //velocity of airplane at 4km altitude\n",
"rho = 0.81935;             //density of air at 4km altitude\n",
"q1 = 1/2*rho*(V1^2)        //dynamic pressure experienced by the aircraft at 4km altitude\n",
"rho_sl = 1.23;             //density of air at sea level\n",
"\n",
"//according to the question\n",
"q_sl = q1;                 //sealevel dynamic pressure\n",
"\n",
"//thus the equivallent air speed at sea level is given by\n",
"Ve = sqrt(2*q_sl/rho_sl);\n",
"\n",
"printf('\nRESULTS\n--------\nThe equivallent airspeed of the airplane is\n              Ve = %2.1f m/s',Ve)"
   ]
   }
,
{
		   "cell_type": "markdown",
		   "metadata": {},
		   "source": [
			"## Example 3.11: Calculation_of_pressure_coefficient_on_a_point_on_an_airfoil.sce"
		   ]
		  },
  {
"cell_type": "code",
	   "execution_count": null,
	   "metadata": {
	    "collapsed": true
	   },
	   "outputs": [],
"source": [
"//all the quantities are expressed in SI units\n",
"\n",
"V_inf = 45.72;        //freestream velocity\n",
"V = 68.58;            //velocity at the given point\n",
"\n",
"//the coeeficient of pressure at the given point is given as\n",
"Cp = 1 - (V/V_inf)^2;\n",
"\n",
"printf('\nRESULTS\n--------\nThe coefficient of pressure at the given point is\n              Cp = %1.2f',Cp)"
   ]
   }
,
{
		   "cell_type": "markdown",
		   "metadata": {},
		   "source": [
			"## Example 3.12_a: EX3_12_a.sce"
		   ]
		  },
  {
"cell_type": "code",
	   "execution_count": null,
	   "metadata": {
	    "collapsed": true
	   },
	   "outputs": [],
"source": [
"//all the quantities are expressed in SI units\n",
"\n",
"Cp = -5.3;            //peak negative pressure coefficient\n",
"V_inf = 24.38;        //freestream velocity\n",
"\n",
"//the velocity at the given point can be calculated as\n",
"V = sqrt(V_inf^2*(1-Cp));\n",
"\n",
"printf('\nRESULTS\n--------\nThe velocity at the given point is\n              V = %2.1f m/s',V)"
   ]
   }
,
{
		   "cell_type": "markdown",
		   "metadata": {},
		   "source": [
			"## Example 3.12_b: EX3_12_b.sce"
		   ]
		  },
  {
"cell_type": "code",
	   "execution_count": null,
	   "metadata": {
	    "collapsed": true
	   },
	   "outputs": [],
"source": [
"//all the quantities are expressed in SI units\n",
"\n",
"Cp = -5.3;            //peak negative pressure coefficient\n",
"V_inf = 91.44;        //freestream velocity\n",
"\n",
"//the velocity at the given point can be calculated as\n",
"V = sqrt(V_inf^2*(1-Cp));\n",
"\n",
"printf('\nRESULTS\n--------\nThe velocity at the given point is\n              V = %3.1f m/s',V)"
   ]
   }
,
{
		   "cell_type": "markdown",
		   "metadata": {},
		   "source": [
			"## Example 3.13: EX3_13.sce"
		   ]
		  },
  {
"cell_type": "code",
	   "execution_count": null,
	   "metadata": {
	    "collapsed": true
	   },
	   "outputs": [],
"source": [
"//all the quantities are expressed in SI units\n",
"\n",
"//When p = p_inf, Cp = 0, thus\n",
"//1-4*(sin(theta)^2) = 0\n",
"//thus theta can be given as\n",
"\n",
"theta = [asind(1/2) 180-asind(1/2) 180-asind(-1/2) 360+asind(-1/2)];            //sine inverse of 1/2 and -1/2 where theta varies from 0 to 360 degrees\n",
"\n",
"printf('\nRESULTS\n--------\nThe angular locations where surface pressure equals freestream pressure are\n              theta = %2.0f, %2.0f, %2.0f, %2.0f degrees',theta(1),theta(2),theta(3),theta(4))"
   ]
   }
,
{
		   "cell_type": "markdown",
		   "metadata": {},
		   "source": [
			"## Example 3.14: EX3_14.sce"
		   ]
		  },
  {
"cell_type": "code",
	   "execution_count": null,
	   "metadata": {
	    "collapsed": true
	   },
	   "outputs": [],
"source": [
"//All the quantities are expressed in SI units\n",
"\n",
"Cl = 5;                              //lift coefficient of the cylinder\n",
"V_by_Vinf = -2 - Cl/2/%pi;            //ratio of maximum to freestream velocity\n",
"\n",
"//thus the pressure coefficient can be calculated as\n",
"Cp = 1 - (V_by_Vinf^2);\n",
"\n",
"printf('\nRESULTS\n--------\nThe peak negative pressure coefficient is\n              Cp = %1.2f',Cp)"
   ]
   }
,
{
		   "cell_type": "markdown",
		   "metadata": {},
		   "source": [
			"## Example 3.15: EX3_15.sce"
		   ]
		  },
  {
"cell_type": "code",
	   "execution_count": null,
	   "metadata": {
	    "collapsed": true
	   },
	   "outputs": [],
"source": [
"//All the quantities are expressed in SI units\n",
"\n",
"theta = [180-asind(-5/4/%pi) 360+asind(-5/4/%pi)];        //location of the stagnation points\n",
"\n",
"printf('\nRESULTS\n--------\nThe angular location of the stagnation points are\n              theta = %3.1f, %3.1f degrees',theta(1),theta(2))\n",
"\n",
"function temp = Cp(thet)\n",
"    temp = 0.367 -3.183*sind(thet) - 4*(sind(thet)^2);    //Cp written as a function of theta\n",
"endfunction\n",
"\n",
"printf('\nRESULTS\n--------\nThe value of Cp on top of the cylinder is\n              Cp = %1.2f',Cp(90))\n",
"\n",
"[k] = roots([-4 -3.183 0.367]);\n",
"\n",
"theta_2 = 180/%pi*[%pi-asin(k(1)) 2*%pi+asin(k(1)) asin(k(2)) %pi-asin(k(2))];\n",
"\n",
"printf('\nRESULTS\n--------\nThe angular location of points on the cylinder where p = p_inf is\n              theta = %3.1f, %3.2f, %1.2f, %3.1f',theta_2(1),theta_2(2),theta_2(3),theta_2(4))\n",
"\n",
"printf('\nRESULTS\n--------\nThe value of Cp at the bottom of the cylinder is\n              Cp = %1.2f',Cp(270))"
   ]
   }
,
{
		   "cell_type": "markdown",
		   "metadata": {},
		   "source": [
			"## Example 3.16: Calculation_of_lift_per_unit_span_of_the_cylinder.sce"
		   ]
		  },
  {
"cell_type": "code",
	   "execution_count": null,
	   "metadata": {
	    "collapsed": true
	   },
	   "outputs": [],
"source": [
"//All the quantities are expressed in SI units\n",
"\n",
"rho_inf = 0.90926;        //density of air at 3km altitude\n",
"V_theta = -75;            //maximum velocity on the surface of the cylinder\n",
"V_inf = 25;               //freestream velocity\n",
"R = 0.25;                 //radius of the cylinder\n",
"\n",
"//thus the circulation can be calculated as\n",
"tow = -2*%pi*R*(V_theta+2*V_inf);\n",
"\n",
"//and the lift per unit span is given as\n",
"L = rho_inf*V_inf*tow;\n",
"\n",
"printf('\nRESULTS\n--------\nThe Lift per unit span for the given cylinder is\n              L'' = %3.1f N',L)"
   ]
   }
,
{
		   "cell_type": "markdown",
		   "metadata": {},
		   "source": [
			"## Example 3.1: Calculation_of_velocity_on_a_point_on_the_airfoil.sce"
		   ]
		  },
  {
"cell_type": "code",
	   "execution_count": null,
	   "metadata": {
	    "collapsed": true
	   },
	   "outputs": [],
"source": [
"//All the quantities are expressed in SI units\n",
"\n",
"rho_inf = 1.23;    //freestream density of air at sea level\n",
"p_inf = 101000;    //freestream static pressure\n",
"v_inf = 50;        //freestream velocity\n",
"p = 90000;         //pressure at given point\n",
"\n",
"//The velocity at the given point can be expressed as\n",
"v = sqrt((2*(p_inf-p)/rho_inf) + (v_inf^2));\n",
"\n",
"printf('\nRESULTS\n--------\nThe velocity at the given point is\n              V = %3.1f m/s\n',v)"
   ]
   }
,
{
		   "cell_type": "markdown",
		   "metadata": {},
		   "source": [
			"## Example 3.2: Calculation_of_pressure_on_a_point_on_the_airfoil.sce"
		   ]
		  },
  {
"cell_type": "code",
	   "execution_count": null,
	   "metadata": {
	    "collapsed": true
	   },
	   "outputs": [],
"source": [
"//All the quantities are expressed in SI units\n",
"\n",
"rho = 1.225;       //freestream density of air along the streamline\n",
"p_1 = 101314.1;    //pressure at point 1\n",
"v_1 = 3.05;        //velocity at point 1\n",
"v_2 = 57.91;       //velocity at point 2\n",
"\n",
"//The pressure at point 2 on the given streamline can be given as\n",
"p_2 = p_1 + 1/2*rho*((v_1^2) - (v_2^2));\n",
"\n",
"printf('\nRESULTS\n--------\nThe pressure at point 2 is\n              p2 = %5.2f Pa\n',p_2)"
   ]
   }
,
{
		   "cell_type": "markdown",
		   "metadata": {},
		   "source": [
			"## Example 3.3: EX3_3.sce"
		   ]
		  },
  {
"cell_type": "code",
	   "execution_count": null,
	   "metadata": {
	    "collapsed": true
	   },
	   "outputs": [],
"source": [
"//All the quantities are expressed in SI units\n",
"\n",
"rho = 1.225;       //freestream density of air along the streamline\n",
"delta_p = 335.16;   //pressure difference between inlet and throat\n",
"ratio = 0.8;       //throat-to-inlet area ratio\n",
"\n",
"//The velocity at the inlet can be given as\n",
"v_1 = sqrt(2*delta_p/rho/(((1/ratio)^2)-1));\n",
"\n",
"printf('\nRESULTS\n--------\nThe value of velocity at the inlet is\n              V1 = %3.1f m/s\n',v_1)"
   ]
   }
,
{
		   "cell_type": "markdown",
		   "metadata": {},
		   "source": [
			"## Example 3.4: Calculation_of_height_difference_in_a_U_tube_mercury_manometer.sce"
		   ]
		  },
  {
"cell_type": "code",
	   "execution_count": null,
	   "metadata": {
	    "collapsed": true
	   },
	   "outputs": [],
"source": [
"//All the quantities are expressed in SI units\n",
"\n",
"rho = 1.23;           //freestream density of air along the streamline\n",
"v = 50;               //operating velocity inside wind tunnel\n",
"rho_hg = 13600;       //density of mercury\n",
"ratio = 12;           //contraction ratio of the nozzle\n",
"g = 9.8;              //acceleration due to gravity\n",
"w = rho_hg*g;         //weight per unit volume of mercury\n",
"\n",
"//The pressure difference delta_p between the inlet and the test section is given as\n",
"delta_p = 1/2*rho*v*v*(1-(1/ratio^2));\n",
"\n",
"//Thus the height difference in a U-tube mercury manometer would be\n",
"delta_h = delta_p/w;\n",
"\n",
"printf('\nRESULTS\n--------\nThe height difference in a U-tube mercury manometer is\n              delta_h = %1.5f m\n',delta_h)"
   ]
   }
,
{
		   "cell_type": "markdown",
		   "metadata": {},
		   "source": [
			"## Example 3.5: EX3_5.sce"
		   ]
		  },
  {
"cell_type": "code",
	   "execution_count": null,
	   "metadata": {
	    "collapsed": true
	   },
	   "outputs": [],
"source": [
"//all the quantities are expressed in SI units\n",
"\n",
"ratio = 12;        //contraction ratio of wind tunnel nozzle\n",
"Cl_max = 1.3;      //maximum lift coefficient of the model\n",
"S = 0.56;          //wing planform area of the model\n",
"L_max = 4448.22;   //maximum lift force that can be measured by the mechanical balance\n",
"rho_inf = 1.225;   //free-stream density of air\n",
"\n",
"//the maximum allowable freestream velocity can be given as\n",
"V_inf = sqrt(2*L_max/rho_inf/S/Cl_max);\n",
"\n",
"//thus the maximum allowable pressure difference is given by\n",
"delta_p = 1/2*rho_inf*(V_inf^2)*(1-(ratio^-2));\n",
"\n",
"printf('\nRESULTS\n--------\nThe maximum allowable pressure difference between the wind tunnel setling chamber and the test section is\n              delta_p = %4.2f Pa',delta_p)"
   ]
   }
,
{
		   "cell_type": "markdown",
		   "metadata": {},
		   "source": [
			"## Example 3.6_a: Calculation_of_reservoir_pressure_in_a_nozzle.sce"
		   ]
		  },
  {
"cell_type": "code",
	   "execution_count": null,
	   "metadata": {
	    "collapsed": true
	   },
	   "outputs": [],
"source": [
"//all the quantities are expressed in SI units\n",
"\n",
"V2 = 100*1609/3600;        //test section flow velocity converted from miles per hour to meters per second\n",
"p_atm = 101000;            //atmospheric pressure\n",
"p2 = p_atm;                //pressure of the test section which is vented to atmosphere\n",
"rho = 1.23;                //air density at sea level\n",
"ratio = 10;                //contraction ratio of the nozzle\n",
"\n",
"//the pressure difference in the wind tunnel can be calculated as\n",
"delta_p = rho/2*(V2^2)*(1-(1/ratio^2));\n",
"\n",
"//thus the reservoir pressure can be given as\n",
"p1 = p2 + delta_p;\n",
"\n",
"p1_atm = p1/p_atm;         //reservoir pressure expressed in units of atm\n",
"\n",
"printf('\nRESULTS\n--------\nThe reservoir pressure is\n              p1 = %1.2f atm',p1_atm)"
   ]
   }
,
{
		   "cell_type": "markdown",
		   "metadata": {},
		   "source": [
			"## Example 3.6_b: Calculation_of_increment_in_the_reservoir_pressure.sce"
		   ]
		  },
  {
"cell_type": "code",
	   "execution_count": null,
	   "metadata": {
	    "collapsed": true
	   },
	   "outputs": [],
"source": [
"//all the quantities are expressed in SI units\n",
"\n",
"V2 = 89.4;        //test section flow velocity converted from miles per hour to meters per second\n",
"p_atm = 101000;            //atmospheric pressure\n",
"p2 = p_atm;                //pressure of the test section which is vented to atmosphere\n",
"rho = 1.23;                //air density at sea level\n",
"ratio = 10;                //contraction ratio of the nozzle\n",
"\n",
"//the pressure difference in the wind tunnel can be calculated as\n",
"delta_p = rho/2*(V2^2)*(1-(1/ratio^2));\n",
"\n",
"//thus the reservoir pressure can be given as\n",
"p1 = p2 + delta_p;\n",
"\n",
"p1_atm = p1/p_atm;         //reservoir pressure expressed in units of atm\n",
"\n",
"printf('\nRESULTS\n--------\nThe new reservoir pressure is\n              p1 = %1.3f atm',p1_atm)"
   ]
   }
,
{
		   "cell_type": "markdown",
		   "metadata": {},
		   "source": [
			"## Example 3.7: Calculation_of_airplane_velocity_from_pitot_tube_measurement.sce"
		   ]
		  },
  {
"cell_type": "code",
	   "execution_count": null,
	   "metadata": {
	    "collapsed": true
	   },
	   "outputs": [],
"source": [
"//all the quantities are expressed in SI units\n",
"\n",
"p0 = 104857.2;             //total pressure as measured by the pitot tube\n",
"p1 = 101314.1;             //standard sea level pressure\n",
"rho = 1.225;               //density of air at sea level\n",
"\n",
"//thus the velocity of the airplane can be given as\n",
"V1 = sqrt(2*(p0-p1)/rho);\n",
"\n",
"printf('\nRESULTS\n--------\nThe velocity of the airplane is\n              V1 = %2.2f atm',V1)"
   ]
   }
,
{
		   "cell_type": "markdown",
		   "metadata": {},
		   "source": [
			"## Example 3.8: Calculation_of_pressure_measured_by_the_pitot_tube_for_a_given_velocity.sce"
		   ]
		  },
  {
"cell_type": "code",
	   "execution_count": null,
	   "metadata": {
	    "collapsed": true
	   },
	   "outputs": [],
"source": [
"//all the quantities are expressed in SI units\n",
"\n",
"V_inf = 100.1;                //freestream velocity\n",
"p_inf = 101314.1;             //standard sea level pressure\n",
"rho_inf = 1.225;              //density of air at sea level\n",
"\n",
"//the dynamic pressure can be calculated as\n",
"q_inf = 1/2*rho_inf*(V_inf^2);\n",
"\n",
"//thus the total pressure is given as\n",
"p0 = p_inf + q_inf;\n",
"\n",
"printf('\nRESULTS\n--------\nThe total pressure measured by pitot tube is\n              p0 = %6.2f Pa',p0)"
   ]
   }
,
{
		   "cell_type": "markdown",
		   "metadata": {},
		   "source": [
			"## Example 3.9: Calculation_of_airplane_velocity_from_pitot_tube_measurement.sce"
		   ]
		  },
  {
"cell_type": "code",
	   "execution_count": null,
	   "metadata": {
	    "collapsed": true
	   },
	   "outputs": [],
"source": [
"//all the quantities are expressed in SI units\n",
"\n",
"p0 = 6.7e4;                //total pressure as measured by the pitot tube\n",
"p1 = 6.166e4;              //ambient pressure at 4km altitude\n",
"rho = 0.81935;             //density of air at 4km altitude\n",
"\n",
"//thus the velocity of the airplane can be given as\n",
"V1 = sqrt(2*(p0-p1)/rho);\n",
"\n",
"printf('\nRESULTS\n--------\nThe velocity of the airplane is\n              V1 = %3.1f m/s = %3.0f mph',V1,V1/0.447)"
   ]
   }
],
"metadata": {
		  "kernelspec": {
		   "display_name": "Scilab",
		   "language": "scilab",
		   "name": "scilab"
		  },
		  "language_info": {
		   "file_extension": ".sce",
		   "help_links": [
			{
			 "text": "MetaKernel Magics",
			 "url": "https://github.com/calysto/metakernel/blob/master/metakernel/magics/README.md"
			}
		   ],
		   "mimetype": "text/x-octave",
		   "name": "scilab",
		   "version": "0.7.1"
		  }
		 },
		 "nbformat": 4,
		 "nbformat_minor": 0
}
