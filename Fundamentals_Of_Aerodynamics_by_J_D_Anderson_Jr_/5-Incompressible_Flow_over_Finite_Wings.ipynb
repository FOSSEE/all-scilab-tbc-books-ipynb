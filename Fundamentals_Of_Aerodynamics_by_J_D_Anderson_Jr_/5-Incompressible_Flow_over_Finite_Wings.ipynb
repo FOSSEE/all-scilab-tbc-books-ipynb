{
"cells": [
 {
		   "cell_type": "markdown",
	   "metadata": {},
	   "source": [
       "# Chapter 5: Incompressible Flow over Finite Wings"
	   ]
	},
{
		   "cell_type": "markdown",
		   "metadata": {},
		   "source": [
			"## Example 5.1: Calculation_of_lift_and_induced_drag_coefficients_for_a_finite_wing.sce"
		   ]
		  },
  {
"cell_type": "code",
	   "execution_count": null,
	   "metadata": {
	    "collapsed": true
	   },
	   "outputs": [],
"source": [
"//All the quantities are expressed in SI units\n",
"\n",
"AR = 8;                //Aspect ratio of the wing\n",
"alpha = 5*%pi/180;             //Angle of attack experienced by the wing\n",
"a0 = 2*%pi             //airfoil lift curve slope\n",
"alpha_L0 = 0;          //zero lift angle of attack is zero since airfoil is symmetric\n",
"\n",
"//from fig. 5.20, for AR = 8 and taper ratio of 0.8\n",
"delta = 0.055;\n",
"tow = delta;           //given assumption\n",
"\n",
"//thus the lift curve slope for wing is given by\n",
"a = a0/(1+(a0/%pi/AR/(1+tow)));\n",
"\n",
"//thus C_l can be calculated as\n",
"C_l = a*alpha;\n",
"\n",
"//from eq.(5.61)\n",
"C_Di = C_l^2/%pi/AR*(1+delta);\n",
"\n",
"printf('\nRESULTS\n--------\n        Cl = %1.4f\n\n        CD,i = %1.5f',C_l,C_Di)"
   ]
   }
,
{
		   "cell_type": "markdown",
		   "metadata": {},
		   "source": [
			"## Example 5.2: Calculation_of_induced_drag_coefficient_for_a_finite_wing.sce"
		   ]
		  },
  {
"cell_type": "code",
	   "execution_count": null,
	   "metadata": {
	    "collapsed": true
	   },
	   "outputs": [],
"source": [
"//All the quantities are expressed in SI units\n",
"\n",
"CDi1 = 0.01;                        //induced drag coefficient for first wing\n",
"delta = 0.055;                      //induced drag factor for both wings\n",
"tow = delta;\n",
"alpha_L0 = -2*%pi/180;              //zero lift angle of attack\n",
"alpha = 3.4*%pi/180;                //angle of attack\n",
"AR1 = 6;                            //Aspect ratio of the first wing\n",
"AR2 = 10;                           //Aspect ratio of the second wing\n",
"\n",
"//from eq.(5.61), lift coefficient can be calculated as\n",
"C_l1 = sqrt(%pi*AR1*CDi1/(1+delta));\n",
"\n",
"//the lift slope for the first wing can be calculated as\n",
"a1 = C_l1/(alpha-alpha_L0);\n",
"\n",
"//the airfoil lift coefficient can be given as\n",
"a0 = a1/(1-(a1/%pi/AR1*(1+tow)));\n",
"\n",
"//thus the list coefficient for the second wing which has the same airfoil is given by\n",
"a2 = a0/(1+(a0/%pi/AR2*(1+tow)));\n",
"C_l2 = a2*(alpha-alpha_L0);\n",
"CDi2 = C_l2^2/%pi/AR2*(1+delta);\n",
"\n",
"printf('\nRESULTS\n--------\nThe induced drag coefficient of the second wing is\n        CD,i = %1.4f',CDi2)"
   ]
   }
,
{
		   "cell_type": "markdown",
		   "metadata": {},
		   "source": [
			"## Example 5.3: Calculation_of_angle_of_attack_of_an_airplane_at_cruising_conditions.sce"
		   ]
		  },
  {
"cell_type": "code",
	   "execution_count": null,
	   "metadata": {
	    "collapsed": true
	   },
	   "outputs": [],
"source": [
"//all the quantities are expressed in SI units\n",
"\n",
"a0 = 0.1*180/%pi;                    //airfoil lift curve slope\n",
"AR = 7.96;                   //Wing aspect ratio\n",
"alpha_L0 = -2*%pi/180;               //zero lift angle of attack\n",
"tow = 0.04;                  //lift efficiency factor\n",
"C_l = 0.21;                  //lift coefficient of the wing\n",
"\n",
"//the lift curve slope of the wing is given by\n",
"a = a0/(1+(a0/%pi/AR/(1+tow)));\n",
"\n",
"//thus angle of attack can be calculated as\n",
"alpha = C_l/a + alpha_L0;\n",
"\n",
"printf('\nRESULTS\n--------\n        alpha = %1.1f degrees\n',alpha*180/%pi)"
   ]
   }
,
{
		   "cell_type": "markdown",
		   "metadata": {},
		   "source": [
			"## Example 5.4: EX5_4.sce"
		   ]
		  },
  {
"cell_type": "code",
	   "execution_count": null,
	   "metadata": {
	    "collapsed": true
	   },
	   "outputs": [],
"source": [
"//All the qunatities are expressed in SI units\n",
"\n",
"alpha_L0 = -1*%pi/180;                 //zero lift angle of attack\n",
"alpha1 = 7*%pi/180;                    //reference angle of attack\n",
"C_l1 = 0.9;                            //wing lift coefficient at alpha1\n",
"alpha2 = 4*%pi/180;\n",
"AR = 7.61;                             //aspect ratio of the wing\n",
"taper = 0.45;                          //taper ratio of the wing\n",
"delta = 0.01;                          //delta as calculated from fig. 5.20\n",
"tow = delta;\n",
"\n",
"//the lift curve slope of the wing/airfoil can be calculated as\n",
"a0 = C_l1/(alpha1-alpha_L0);\n",
"\n",
"e = 1/(1+delta);\n",
"\n",
"//from eq. (5.70)\n",
"a = a0/(1+(a0/%pi/AR/(1+tow)));\n",
"\n",
"//lift coefficient at alpha2 is given as\n",
"C_l2 = a*(alpha2 - alpha_L0);\n",
"\n",
"//from eq.(5.42), the induced angle of attack can be calculated as\n",
"alpha_i = C_l2/%pi/AR;\n",
"\n",
"//which gives the effective angle of attack as\n",
"alpha_eff = alpha2 - alpha_i;\n",
"\n",
"//Thus the airfoil lift coefficient is given as\n",
"c_l = a0*(alpha_eff-alpha_L0);\n",
"\n",
"c_d = 0.0065;                         //section drag coefficient for calculated c_l as seen from fig. 5.2b\n",
"\n",
"//Thus the wing drag coefficient can be calculated as\n",
"C_D = c_d + ((C_l2^2)/%pi/e/AR);\n",
"\n",
"printf('\nRESULTS\n--------\nThe drag coefficient of the wing is\n        C_D = %1.4f\n',C_D)"
   ]
   }
],
"metadata": {
		  "kernelspec": {
		   "display_name": "Scilab",
		   "language": "scilab",
		   "name": "scilab"
		  },
		  "language_info": {
		   "file_extension": ".sce",
		   "help_links": [
			{
			 "text": "MetaKernel Magics",
			 "url": "https://github.com/calysto/metakernel/blob/master/metakernel/magics/README.md"
			}
		   ],
		   "mimetype": "text/x-octave",
		   "name": "scilab",
		   "version": "0.7.1"
		  }
		 },
		 "nbformat": 4,
		 "nbformat_minor": 0
}
