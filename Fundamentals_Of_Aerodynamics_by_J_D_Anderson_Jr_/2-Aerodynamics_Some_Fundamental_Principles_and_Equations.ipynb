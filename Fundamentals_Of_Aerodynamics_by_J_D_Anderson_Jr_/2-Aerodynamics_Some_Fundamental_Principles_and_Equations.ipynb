{
"cells": [
 {
		   "cell_type": "markdown",
	   "metadata": {},
	   "source": [
       "# Chapter 2: Aerodynamics Some Fundamental Principles and Equations"
	   ]
	},
{
		   "cell_type": "markdown",
		   "metadata": {},
		   "source": [
			"## Example 2.1: EX2_1.sce"
		   ]
		  },
  {
"cell_type": "code",
	   "execution_count": null,
	   "metadata": {
	    "collapsed": true
	   },
	   "outputs": [],
"source": [
"//All the quantities are in SI units\n",
"v_inf = 240; //freestream velocity\n",
"l = 1;       //wavelength of the wall\n",
"h = 0.01;    //amplitude of the wall\n",
"M_inf = 0.7; //freestream mach number\n",
"b = sqrt(1-(M_inf^2));\n",
"x = l/4;\n",
"y = l;\n",
"\n",
"function temp = u(x,y)\n",
"temp = v_inf*(1 + (h/b*2*%pi/l*cos(2*%pi*x/l)*exp(-2*%pi*b*y/l)));\n",
"endfunction\n",
"\n",
"function temp = v(x,y)\n",
"temp = -v_inf*h*2*%pi/l*sin(2*%pi*x/l)*exp(-2*%pi*b*y/l);\n",
"endfunction\n",
"\n",
"d = 1e-10;\n",
"\n",
"du = derivative(u,x,d);\n",
"\n",
"dv = derivative(v,y,d);\n",
"\n",
"grad_V = du + dv;\n",
"\n",
"test = (b-(1/b))*v_inf*h*((2*%pi/l)^2)*exp(-2*%pi*b);\n",
"\n",
"printf('\nRESULT\n-------\nThe time rate of change of the volume of the fluid element per unit volume is: %1.4f s-1\n', grad_V)"
   ]
   }
],
"metadata": {
		  "kernelspec": {
		   "display_name": "Scilab",
		   "language": "scilab",
		   "name": "scilab"
		  },
		  "language_info": {
		   "file_extension": ".sce",
		   "help_links": [
			{
			 "text": "MetaKernel Magics",
			 "url": "https://github.com/calysto/metakernel/blob/master/metakernel/magics/README.md"
			}
		   ],
		   "mimetype": "text/x-octave",
		   "name": "scilab",
		   "version": "0.7.1"
		  }
		 },
		 "nbformat": 4,
		 "nbformat_minor": 0
}
