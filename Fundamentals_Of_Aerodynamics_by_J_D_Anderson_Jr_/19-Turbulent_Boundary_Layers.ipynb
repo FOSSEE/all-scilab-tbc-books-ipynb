{
"cells": [
 {
		   "cell_type": "markdown",
	   "metadata": {},
	   "source": [
       "# Chapter 19: Turbulent Boundary Layers"
	   ]
	},
{
		   "cell_type": "markdown",
		   "metadata": {},
		   "source": [
			"## Example 19.1: EX19_1.sce"
		   ]
		  },
  {
"cell_type": "code",
	   "execution_count": null,
	   "metadata": {
	    "collapsed": true
	   },
	   "outputs": [],
"source": [
"//All the quantities are expressed in SI units\n",
"\n",
"//(a)\n",
"Re_c = 1.36e7;                    //as obtained from ex. 18.1a\n",
"rho_inf = 1.22;                   //freestream air denstiy\n",
"S = 40;                           //plate planform area\n",
"\n",
"//hence, from eq.(19.2)\n",
"Cf = 0.074/Re_c^0.2;\n",
"\n",
"V_inf = 100;\n",
"\n",
"//hence, for one side of the plate\n",
"D_f = 1/2*rho_inf*V_inf^2*S*Cf;\n",
"\n",
"//the total drag on both the surfaces is\n",
"D = 2*D_f;\n",
"\n",
"printf('\nRESULTS\n---------\nThe total frictional drag is:\n(a)\n        D = %4.0f N\n',D)\n",
"\n",
"//(b)\n",
"Re_c = 1.36e8;                    //as obtained from ex. 18.1b\n",
"\n",
"//hence, from fig 19.1 we have\n",
"Cf = 1.34e-3;\n",
"\n",
"V_inf = 1000;\n",
"\n",
"//hence, for one side of the plate\n",
"D_f = 1/2*rho_inf*V_inf^2*S*Cf;\n",
"\n",
"//the total drag on both the surfaces is\n",
"D = 2*D_f;\n",
"\n",
"printf('\n(b)\n        D = %5.0f N\n',D)"
   ]
   }
,
{
		   "cell_type": "markdown",
		   "metadata": {},
		   "source": [
			"## Example 19.2: EX19_2.sce"
		   ]
		  },
  {
"cell_type": "code",
	   "execution_count": null,
	   "metadata": {
	    "collapsed": true
	   },
	   "outputs": [],
"source": [
"//All the quantities are expressed in SI units\n",
"\n",
"//from ex 18.2\n",
"Re_c_star = 3.754e7;                //Reynolds number at the trailing edge of the plate\n",
"rho_star = 0.574;\n",
"ue = 1000;                          //velocity of the upper plate\n",
"S = 40;                             //plate planform area\n",
"\n",
"//from eq.(19.3) we have\n",
"Cf_star = 0.074/Re_c_star^0.2;\n",
"\n",
"//hence, for one side of the plate\n",
"D_f = 1/2*rho_star*ue^2*S*Cf_star;\n",
"\n",
"//the total drag on both the surfaces is\n",
"D = 2*D_f;\n",
"\n",
"printf('\nRESULTS\n---------\nThe total frictional drag is:\n        D = %5.0f N\n',D)"
   ]
   }
,
{
		   "cell_type": "markdown",
		   "metadata": {},
		   "source": [
			"## Example 19.3: EX19_3.sce"
		   ]
		  },
  {
"cell_type": "code",
	   "execution_count": null,
	   "metadata": {
	    "collapsed": true
	   },
	   "outputs": [],
"source": [
"//All the quantities are expressed in SI units\n",
"\n",
"Me = 2.94;                          //mach number of the flow over the upper plate\n",
"ue = 1000;\n",
"Te = 288;                           //temperature of the upper plate\n",
"ue = 1000;                          //velocity of the upper plate\n",
"S = 40;                             //plate planform area\n",
"Pr = 0.71;                          //Prandlt number of air at standard condition\n",
"gam = 1.4;                          //ratio of specific heats\n",
"\n",
"//the recovery factor is given as\n",
"r = Pr^(1/3);\n",
"\n",
"//for M = 2.94\n",
"T_aw = Te*(1+r*(2.74-1));\n",
"T_w = T_aw;                          //since the flat plate has an adiabatic wall\n",
"\n",
"//from the Meador-Smart equation\n",
"T_star = Te*(0.5*(1+T_w/Te) + 0.16*r*(gam-1)/2*Me^2);\n",
"\n",
"//from the equation of state\n",
"rho_star = p_star/R/T_star;\n",
"\n",
"//from eq.(15.3)\n",
"mue_star = mue0*(T_star/T0)^1.5*(T0+110)/(T_star+110);\n",
"\n",
"//thus\n",
"Re_c_star = rho_star*ue*c/mue_star;\n",
"\n",
"//from eq.(18.22)\n",
"Cf_star = 0.02667/Re_c_star^0.139;\n",
"\n",
"//hence, the frictional drag on one surface of the plate is\n",
"D_f = 1/2*rho_star*ue^2*S*Cf_star;\n",
"\n",
"//thus, the total frictional drag is given by\n",
"D = 2*D_f;\n",
"\n",
"printf('\nRESULTS\n---------\nThe total frictional drag is:\n        D = %5.0f N\n',D)"
   ]
   }
],
"metadata": {
		  "kernelspec": {
		   "display_name": "Scilab",
		   "language": "scilab",
		   "name": "scilab"
		  },
		  "language_info": {
		   "file_extension": ".sce",
		   "help_links": [
			{
			 "text": "MetaKernel Magics",
			 "url": "https://github.com/calysto/metakernel/blob/master/metakernel/magics/README.md"
			}
		   ],
		   "mimetype": "text/x-octave",
		   "name": "scilab",
		   "version": "0.7.1"
		  }
		 },
		 "nbformat": 4,
		 "nbformat_minor": 0
}
