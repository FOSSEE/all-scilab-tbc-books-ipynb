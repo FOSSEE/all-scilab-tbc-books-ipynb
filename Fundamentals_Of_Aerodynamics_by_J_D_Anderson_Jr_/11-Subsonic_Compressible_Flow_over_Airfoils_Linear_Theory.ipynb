{
"cells": [
 {
		   "cell_type": "markdown",
	   "metadata": {},
	   "source": [
       "# Chapter 11: Subsonic Compressible Flow over Airfoils Linear Theory"
	   ]
	},
{
		   "cell_type": "markdown",
		   "metadata": {},
		   "source": [
			"## Example 11.1: EX11_1.sce"
		   ]
		  },
  {
"cell_type": "code",
	   "execution_count": null,
	   "metadata": {
	    "collapsed": true
	   },
	   "outputs": [],
"source": [
"//All the quantities are expressed in SI units\n",
"\n",
"Cp_incompressible = -0.3;                    //Cp for incompressible flow\n",
"M = 0.6;                                     //Mach number\n",
"\n",
"//Thus from eq.(11.52)\n",
"Cp_compressible = Cp_incompressible/sqrt(1-M^2);\n",
"\n",
"printf('\nRESULTS\n---------\n(a)\The Cp after compressibility corrections is:\n        Cp = %1.3f\n',Cp_compressible)"
   ]
   }
,
{
		   "cell_type": "markdown",
		   "metadata": {},
		   "source": [
			"## Example 11.2: EX11_2.sce"
		   ]
		  },
  {
"cell_type": "code",
	   "execution_count": null,
	   "metadata": {
	    "collapsed": true
	   },
	   "outputs": [],
"source": [
"//All the quantities are expressed in SI units\n",
"\n",
"cl_incompressible = 2*%pi;                    //lift curve slope\n",
"M_inf = 0.7;                                  //Mach number\n",
"\n",
"//from eq.(11.52)\n",
"cl_compressible = cl_incompressible/sqrt(1-M_inf^2);        //compressible lift curve slope\n",
"\n",
"printf('\nRESULTS\n---------\n(a)\The cl after compressibility corrections is:\n        cl = %1.1falpha\n',cl_compressible)"
   ]
   }
],
"metadata": {
		  "kernelspec": {
		   "display_name": "Scilab",
		   "language": "scilab",
		   "name": "scilab"
		  },
		  "language_info": {
		   "file_extension": ".sce",
		   "help_links": [
			{
			 "text": "MetaKernel Magics",
			 "url": "https://github.com/calysto/metakernel/blob/master/metakernel/magics/README.md"
			}
		   ],
		   "mimetype": "text/x-octave",
		   "name": "scilab",
		   "version": "0.7.1"
		  }
		 },
		 "nbformat": 4,
		 "nbformat_minor": 0
}
