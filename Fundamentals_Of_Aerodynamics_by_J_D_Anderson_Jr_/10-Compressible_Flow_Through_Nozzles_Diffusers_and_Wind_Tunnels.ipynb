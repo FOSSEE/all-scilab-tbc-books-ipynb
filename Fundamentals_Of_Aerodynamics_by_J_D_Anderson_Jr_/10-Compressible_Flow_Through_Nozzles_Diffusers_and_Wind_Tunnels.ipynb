{
"cells": [
 {
		   "cell_type": "markdown",
	   "metadata": {},
	   "source": [
       "# Chapter 10: Compressible Flow Through Nozzles Diffusers and Wind Tunnels"
	   ]
	},
{
		   "cell_type": "markdown",
		   "metadata": {},
		   "source": [
			"## Example 10.1: Calculation_of_mach_number_pressure_and_temperature_at_the_nozzle_exit.sce"
		   ]
		  },
  {
"cell_type": "code",
	   "execution_count": null,
	   "metadata": {
	    "collapsed": true
	   },
	   "outputs": [],
"source": [
"//All the quantities are expressed in Si units\n",
"\n",
"area_ratio = 10.25;                        //exit to throat area ratio\n",
"p0 = 5;                                    //reservoir pressure in atm\n",
"T0 = 333.3;                                //reservoir temperature\n",
"\n",
"//from appendix A, for an area ratio of 10.25\n",
"Me = 3.95;                                 //exit mach number\n",
"pe = 0.007*p0;                             //exit pressure\n",
"Te = 0.2427*T0;                            //exit temperature\n",
"\n",
"printf('\nRESULTS\n---------\n        Me = %1.2f\n        pe = %1.3f atm\n        Te = %2.1f K',Me,pe,Te)"
   ]
   }
,
{
		   "cell_type": "markdown",
		   "metadata": {},
		   "source": [
			"## Example 10.2: EX10_2.sce"
		   ]
		  },
  {
"cell_type": "code",
	   "execution_count": null,
	   "metadata": {
	    "collapsed": true
	   },
	   "outputs": [],
"source": [
"//All the quantities are expressed in Si units\n",
"\n",
"area_ratio = 2;                            //exit to throat area ratio\n",
"p0 = 1;                                    //reservoir pressure in atm\n",
"T0 = 288;                                  //reservoir temperature\n",
"\n",
"//(a)\n",
"//since M = 1 at the throat\n",
"Mt = 1;\n",
"pt = 0.528*p0;                             //pressure at throat\n",
"Tt = 0.833*T0;                             //temperature at throat\n",
"\n",
"//from appendix A for supersonic flow, for an area ratio of 2\n",
"Me = 2.2;                                  //exit mach number\n",
"pe = 1/10.69*p0;                           //exit pressure\n",
"Te = 1/1.968*T0;                           //exit temperature\n",
"\n",
"printf('\nRESULTS\n---------\nAt throat:\n        Mt = %1.1f\n        pt = %1.3f atm\n        Tt = %3.0f K\n\nFor supersonic exit:\n        Me = %1.1f\n        pe = %1.4f atm\n        Te = %3.0f K\n',Mt,pt,Tt,Me,pe,Te)\n",
"\n",
"//(b)\n",
"//from appendix A for subonic flow, for an area ratio of 2\n",
"Me = 0.3;                                  //exit mach number\n",
"pe = 1/1.064*p0;                           //exit pressure\n",
"Te = 1/1.018*T0;                           //exit temperature\n",
"\n",
"printf('\nFor subrsonic exit:\n        Me = %1.1f\n        pe = %1.2f atm\n        Te = %3.1f K',Me,pe,Te)"
   ]
   }
,
{
		   "cell_type": "markdown",
		   "metadata": {},
		   "source": [
			"## Example 10.3: EX10_3.sce"
		   ]
		  },
  {
"cell_type": "code",
	   "execution_count": null,
	   "metadata": {
	    "collapsed": true
	   },
	   "outputs": [],
"source": [
"//All the quantities are expressed in Si units\n",
"\n",
"area_ratio = 2;                            //exit to throat area ratio\n",
"p0 = 1;                                    //reservoir pressure in atm\n",
"T0 = 288;                                  //reservoir temperature\n",
"pe = 0.973;                                //exit pressure in atm\n",
"\n",
"p_ratio = p0/pe;                           //ratio of reservoir to exit pressure\n",
"\n",
"//from appendix A for subsonic flow, for an pressure ratio of 1.028\n",
"Me = 0.2;                                  //exit mach number\n",
"area_ratio_exit_to_star = 2.964;           //A_exit/A_star\n",
"\n",
"//thus\n",
"area_ratio_throat_to_star = area_ratio_exit_to_star/area_ratio;           //A_exit/A_star\n",
"\n",
"//from appendix A for subsonic flow, for an area ratio of 1.482\n",
"Mt = 0.44;                                 //throat mach number\n",
"\n",
"printf('\nRESULTS\n---------\n        Me = %1.1f\n        Mt = %1.2f\n',Me,Mt)"
   ]
   }
,
{
		   "cell_type": "markdown",
		   "metadata": {},
		   "source": [
			"## Example 10.4: Calculation_of_thrust_for_the_given_rocket_engine_and_the_nozzle_exit_area.sce"
		   ]
		  },
  {
"cell_type": "code",
	   "execution_count": null,
	   "metadata": {
	    "collapsed": true
	   },
	   "outputs": [],
"source": [
"//All the quantities are expressed in SI units\n",
"\n",
"p0 = 30*101000;                            //reservoir pressure\n",
"T0 = 3500;                                 //reservoir temperature\n",
"R = 520;                                   //specific gas constant\n",
"gam = 1.22;                                //ratio of specific heats\n",
"A_star = 0.4;                              //rocket nozzle throat area\n",
"pe = 5529;                                 //rocket nozzle exit pressure equal to ambient pressure at 20 km altitude\n",
"\n",
"//(a)\n",
"//the density of air in the reservoir can be calculated as\n",
"rho0 = p0/R/T0;\n",
"\n",
"//from eq.(8.46)\n",
"rho_star = rho0*(2/(gam+1))^(1/(gam-1));\n",
"\n",
"//from eq.(8.44)\n",
"T_star = T0*2/(gam+1);\n",
"a_star = sqrt(gam*R*T_star);\n",
"u_star = a_star;\n",
"m_dot = rho_star*u_star*A_star;\n",
"\n",
"//rearranging eq.(8.42)\n",
"Me = sqrt(2/(gam-1)*(((p0/pe)^((gam-1)/gam)) - 1));\n",
"Te = T0/(1+(gam-1)/2*Me*Me);\n",
"ae = sqrt(gam*R*Te);\n",
"ue = Me*ae;\n",
"\n",
"//thus the thrust can be calculated as\n",
"T = m_dot*ue;\n",
"T_lb = T*0.2247;\n",
"\n",
"//(b)\n",
"//rearranging eq.(10.32)\n",
"Ae = A_star/Me*((2/(gam+1)*(1+(gam-1)/2*Me*Me))^((gam+1)/(gam-1)/2));\n",
"\n",
"printf('\nRESULTS\n---------\n(a)The thrust of the rocket is:\n        T = %1.2f x 10^6 N = %6.0f lb\n\n(b)\nThe nozzle exit area is:\n        Ae = %2.1f m2\n',T/1e6,T_lb,Ae)"
   ]
   }
,
{
		   "cell_type": "markdown",
		   "metadata": {},
		   "source": [
			"## Example 10.5: Calculation_of_mass_flow_through_the_rocket_engine_used_in_the_previous_example.sce"
		   ]
		  },
  {
"cell_type": "code",
	   "execution_count": null,
	   "metadata": {
	    "collapsed": true
	   },
	   "outputs": [],
"source": [
"//All the quantities are expressed in SI units\n",
"\n",
"p0 = 30*101000;                            //reservoir pressure\n",
"T0 = 3500;                                 //reservoir temperature\n",
"R = 520;                                   //specific gas constant\n",
"gam = 1.22;                                //ratio of specific heats\n",
"A_star = 0.4;                              //rocket nozzle throat area\n",
"\n",
"//the mass flow rate using the closed form analytical expression\n",
"//from problem 10.5 can be given as\n",
"m_dot = p0*A_star*sqrt(gam/R/T0*((2/(gam+1))^((gam+1)/(gam-1))));\n",
"\n",
"printf('\nRESULTS\n---------\nThe mass flow rate is:\n        m_dot = %3.1f kg/s\n',m_dot)"
   ]
   }
,
{
		   "cell_type": "markdown",
		   "metadata": {},
		   "source": [
			"## Example 10.6: EX10_6.sce"
		   ]
		  },
  {
"cell_type": "code",
	   "execution_count": null,
	   "metadata": {
	    "collapsed": true
	   },
	   "outputs": [],
"source": [
"//All the quantities are expressed in SI units\n",
"\n",
"M = 2;                        //Mach number\n",
"\n",
"//for this value M, for a normal shock, from Appendix B\n",
"p0_ratio = 0.7209;\n",
"\n",
"//thus\n",
"area_ratio = 1/p0_ratio;\n",
"\n",
"printf('\nRESULTS\n---------\nThe diffuser throat to nozzle throat area ratio is:\n        At,2/At,1 = %1.3f',area_ratio)"
   ]
   }
],
"metadata": {
		  "kernelspec": {
		   "display_name": "Scilab",
		   "language": "scilab",
		   "name": "scilab"
		  },
		  "language_info": {
		   "file_extension": ".sce",
		   "help_links": [
			{
			 "text": "MetaKernel Magics",
			 "url": "https://github.com/calysto/metakernel/blob/master/metakernel/magics/README.md"
			}
		   ],
		   "mimetype": "text/x-octave",
		   "name": "scilab",
		   "version": "0.7.1"
		  }
		 },
		 "nbformat": 4,
		 "nbformat_minor": 0
}
