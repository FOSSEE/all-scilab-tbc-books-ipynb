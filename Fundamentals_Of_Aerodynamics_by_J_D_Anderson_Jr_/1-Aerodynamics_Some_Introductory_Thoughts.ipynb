{
"cells": [
 {
		   "cell_type": "markdown",
	   "metadata": {},
	   "source": [
       "# Chapter 1: Aerodynamics Some Introductory Thoughts"
	   ]
	},
{
		   "cell_type": "markdown",
		   "metadata": {},
		   "source": [
			"## Example 1.1: Calculation_of_drag_coefficient_over_a_wedge.sce"
		   ]
		  },
  {
"cell_type": "code",
	   "execution_count": null,
	   "metadata": {
	    "collapsed": true
	   },
	   "outputs": [],
"source": [
"//All the quantities are in SI units\n",
"M_inf = 2; //freestream mach number\n",
"p_inf = 101000; //freestream static pressure\n",
"rho_inf = 1.23; //freestream density\n",
"T_inf = 288; //freestream temperature\n",
"R = 287; //gas constant of air\n",
"a = 5; //angle of wedge in degrees\n",
"p_upper = 131000; //pressure on upper surface\n",
"p_lower = p_upper; //pressure on lower surface is equal to upper surface\n",
"c = 2; //chord length of the wedge\n",
"c_tw = 431; //shear drag constant\n",
"\n",
"//SOLVING BY FIRST METHOD\n",
"//According to equation 1.8, the drag is given by D = I1 + I2 + I3 + I4\n",
"//Where the integrals I1, I2, I3 and I4 are given as\n",
"\n",
"I1 = (-p_upper*sind(-a)*c/cosd(a))+(-p_inf*sind(90)*c*tand(a)); //pressure drag on upper surface\n",
"I2 = (p_lower*sind(a)*c/cosd(a))+(p_inf*sind(-90)*c*tand(a));  //pressure drag on lower surface\n",
"I3 = c_tw*cosd(-a)/0.8*((c/cosd(a))^0.8);                  //skin friction drag on upper surface\n",
"I4 = c_tw*cosd(-a)/0.8*((c/cosd(a))^0.8);                  //skin friction drag on lower surface\n",
"\n",
"D = I1 + I2 + I3 + I4; //Total Drag\n",
"\n",
"a_inf = sqrt(1.4*R*T_inf); //freestream velocity of sound\n",
"v_inf = M_inf*a_inf; //freestream velocity\n",
"q_inf = 1/2*rho_inf*(v_inf^2); //freestream dynamic pressure\n",
"S = c*1; //reference area of the wedge\n",
"\n",
"c_d1 = D/q_inf/S; //Drag Coefficient by first method\n",
"\n",
"printf('\nRESULT\n-------\nThe Drag coefficient by first method is: %1.3f\n', c_d1)\n",
"\n",
"//SOLVING BY SECOND METHOD\n",
"C_p_upper = (p_upper-p_inf)/q_inf; //pressure coefficient for upper surface\n",
"C_p_lower = (p_lower-p_inf)/q_inf; //pressure coefficient for lower surface\n",
"\n",
"c_d2 = (1/c*2*((C_p_upper*tand(a))-(C_p_lower*tand(-a)))) + (2*c_tw/q_inf/cosd(a)*(2^0.8)/0.8/c);\n",
"\n",
"printf('\nThe Drag coefficient by second method is: %1.3f\n\n', c_d2)"
   ]
   }
,
{
		   "cell_type": "markdown",
		   "metadata": {},
		   "source": [
			"## Example 1.3: Calculation_of_center_of_pressure_for_a_NACA_4412_airfoil.sce"
		   ]
		  },
  {
"cell_type": "code",
	   "execution_count": null,
	   "metadata": {
	    "collapsed": true
	   },
	   "outputs": [],
"source": [
"//All the quantities are expressed in SI units\n",
"\n",
"alpha = 4; //angle of attack in degrees\n",
"c_l = 0.85; //lift coefficient\n",
"c_m_c4 = -0.09; //coefficient of moment about the quarter chord\n",
"x_cp = 1/4 - (c_m_c4/c_l); //the location centre of pressure with respect to chord\n",
"\n",
"printf('\n\nRESULTS\n--------\nXcp/C = %1.3f\n\n',x_cp)"
   ]
   }
,
{
		   "cell_type": "markdown",
		   "metadata": {},
		   "source": [
			"## Example 1.5: Calculation_of_parametres_for_wind_tunnel_testing.sce"
		   ]
		  },
  {
"cell_type": "code",
	   "execution_count": null,
	   "metadata": {
	    "collapsed": true
	   },
	   "outputs": [],
"source": [
"V1 = 550; //velocity of Boeing 747 in mi/h\n",
"h1 = 38000; //altitude of Boeing 747 in ft\n",
"P1 = 432.6; //Freestream pressure in lb/sq.ft\n",
"T1 = 390; //ambient temperature in R\n",
"T2 = 430; //ambient temperature in the wind tunnel in R\n",
"c = 50; //scaling factor\n",
"\n",
"//Calculations\n",
"//By equating the Mach numbers we get\n",
"V2 = V1*sqrt(T2/T1); //Velocity required in the wind tunnel\n",
"//By equating the Reynold's numbers we get\n",
"P2 = c*T2/T1*P1; //Pressure required in the wind tunnel\n",
"P2_atm = P2/2116; //Pressure expressed in atm\n",
"printf('\nRESULTS\n-------\nThe velocity required in the wind tunnel is: %3.1f mi/h\n\n',V2)\n",
"printf('The pressure required in the wind tunnel is: %5.0f lb/sq.ft or %2.2f atm\n\n',P2,P2_atm)"
   ]
   }
,
{
		   "cell_type": "markdown",
		   "metadata": {},
		   "source": [
			"## Example 1.6: Calculation_of_cruise_lift_coefficient_and_lift_to_drag_ratio_of_a_Cesna_560.sce"
		   ]
		  },
  {
"cell_type": "code",
	   "execution_count": null,
	   "metadata": {
	    "collapsed": true
	   },
	   "outputs": [],
"source": [
"v_inf_mph = 492; //freestream velocity in miles per hour\n",
"rho = 0.00079656; //aimbient air density in slugs per cubic feet\n",
"W = 15000; //weight of the airplane in lbs\n",
"S = 342.6; //wing planform area in sq.ft\n",
"C_d = 0.015; //Drag coefficient\n",
"\n",
"//Calculations\n",
"v_inf_fps = v_inf_mph*(88/60); //freestream velocity in feet per second\n",
"\n",
"C_l = 2*W/rho/(v_inf_fps^2)/S; //lift coefficient\n",
"\n",
"//The Lift by Drag ratio is calculated as\n",
"L_by_D = C_l/C_d;\n",
"\n",
"printf('\nRESULTS\n--------\nThe lift to drag ratio L/D is equal to: %2.0f\n',L_by_D)"
   ]
   }
,
{
		   "cell_type": "markdown",
		   "metadata": {},
		   "source": [
			"## Example 1.7: Calculation_of_maximum_lift_coefficient_for_Cesna_560.sce"
		   ]
		  },
  {
"cell_type": "code",
	   "execution_count": null,
	   "metadata": {
	    "collapsed": true
	   },
	   "outputs": [],
"source": [
"v_stall_mph = 100; //stalling speed in miles per hour\n",
"rho = 0.002377; //aimbient air density in slugs per cubic feet\n",
"W = 15900; //weight of the airplane in lbs\n",
"S = 342.6; //wing planform area in sq.ft\n",
"\n",
"//Calculations\n",
"v_stall_fps = v_stall_mph*(88/60); //converting stalling speed in feet per second\n",
"\n",
"//The maximum lift coefficient C_l_max is given by the relation\n",
"C_l_max = 2*W/rho/(v_stall_fps^2)/S;\n",
"\n",
"printf('\nRESULTS\n--------\nThe maximum value of lift coefficient is\n              Cl_max = %1.3f\n',C_l_max)"
   ]
   }
,
{
		   "cell_type": "markdown",
		   "metadata": {},
		   "source": [
			"## Example 1.8_a: calculation_of_upward_acceleration_of_a_hot_air_balloon.sce"
		   ]
		  },
  {
"cell_type": "code",
	   "execution_count": null,
	   "metadata": {
	    "collapsed": true
	   },
	   "outputs": [],
"source": [
"d = 30; //inflated diameter of ballon in feet\n",
"W = 800; //weight of the balloon in lb\n",
"g = 32.2; //acceleration due to gravity\n",
"//part (a)\n",
"rho_0 = 0.002377; //density at zero altitude\n",
"\n",
"//Assuming the balloon to be spherical, the Volume can be given as\n",
"V = 4/3*%pi*((d/2)^3);\n",
"\n",
"//The Buoyancry force is given as\n",
"B = g*rho_0*V;\n",
"\n",
"//The net upward force F is given as\n",
"F = B - W;\n",
"\n",
"m = W/g; //Mass of the balloon\n",
"\n",
"//Thus the upward acceleration of the ballon can be related to F as\n",
"a = F/m;\n",
"\n",
"printf('\nRESULTS\n---------\nThe initial upward acceleration is:\n          a = %2.1f ft/s2',a)"
   ]
   }
,
{
		   "cell_type": "markdown",
		   "metadata": {},
		   "source": [
			"## Example 1.8_b: Calculation_of_maximum_altitude_for_the_hot_air_balloon.sce"
		   ]
		  },
  {
"cell_type": "code",
	   "execution_count": null,
	   "metadata": {
	    "collapsed": true
	   },
	   "outputs": [],
"source": [
"d = 30; //inflated diameter of ballon in feet\n",
"W = 800; //weight of the balloon in lb\n",
"g = 32.2; //acceleration due to gravity\n",
"rho_0 = 0.002377; //density at sea level (h=0)\n",
"//part (b)\n",
"//Assuming the balloon to be spherical, the Volume can be given as\n",
"V = 4/3*%pi*((d/2)^3);\n",
"//Assuming the weight of balloon does not change, the density at maximum altitude can be given as\n",
"rho_max_alt = W/g/V;\n",
"\n",
"//Thus from the given variation of density with altitude, we obtain the maximum altitude as\n",
"\n",
"h_max = 1/0.000007*(1-((rho_max_alt/rho_0)^(1/4.21)))\n",
"\n",
"printf('\nRESULTS\n---------\nThe maximum altitude that can be reached is:\n          h = %4.0f ft',h_max)"
   ]
   }
],
"metadata": {
		  "kernelspec": {
		   "display_name": "Scilab",
		   "language": "scilab",
		   "name": "scilab"
		  },
		  "language_info": {
		   "file_extension": ".sce",
		   "help_links": [
			{
			 "text": "MetaKernel Magics",
			 "url": "https://github.com/calysto/metakernel/blob/master/metakernel/magics/README.md"
			}
		   ],
		   "mimetype": "text/x-octave",
		   "name": "scilab",
		   "version": "0.7.1"
		  }
		 },
		 "nbformat": 4,
		 "nbformat_minor": 0
}
