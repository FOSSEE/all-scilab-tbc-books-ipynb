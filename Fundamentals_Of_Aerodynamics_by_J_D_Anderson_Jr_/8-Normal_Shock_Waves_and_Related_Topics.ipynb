{
"cells": [
 {
		   "cell_type": "markdown",
	   "metadata": {},
	   "source": [
       "# Chapter 8: Normal Shock Waves and Related Topics"
	   ]
	},
{
		   "cell_type": "markdown",
		   "metadata": {},
		   "source": [
			"## Example 8.10: EX8_10.sce"
		   ]
		  },
  {
"cell_type": "code",
	   "execution_count": null,
	   "metadata": {
	    "collapsed": true
	   },
	   "outputs": [],
"source": [
"//All the quantities are expressed in SI units\n",
"\n",
"M_inf = 2;                     //freestream mach number\n",
"p_inf = 2.65e4;                //freestream pressure\n",
"T_inf = 223.3;                 //freestream temperature\n",
"\n",
"//from Appendix A, for M = 2\n",
"p0_inf = 7.824*p_inf;          //freestream total pressure\n",
"T0_inf = 1.8*T_inf;            //freestream total temperature\n",
"\n",
"//from Appendix B, for M = 2\n",
"p0_1 = 0.7209*p0_inf;          //total pressure downstream of the shock\n",
"T0_1 = T0_inf;                 //total temperature accross the shock is conserved\n",
"\n",
"//since the flow downstream of the shock is isentropic\n",
"p0_2 = p0_1;\n",
"T0_2 = T0_1;\n",
"\n",
"//from Appendix A, for M = 0.2 at point 2\n",
"p2 = p0_2/1.028;\n",
"T2 = T0_2/1.008;\n",
"\n",
"p2_atm = p2/102000;\n",
"\n",
"printf('\nRESULTS\n---------\nThe pressure at point 2 is:\n        p2 = %1.2f atm\n',p2_atm)"
   ]
   }
,
{
		   "cell_type": "markdown",
		   "metadata": {},
		   "source": [
			"## Example 8.11: EX8_11.sce"
		   ]
		  },
  {
"cell_type": "code",
	   "execution_count": null,
	   "metadata": {
	    "collapsed": true
	   },
	   "outputs": [],
"source": [
"//All the quantities are expressed in SI units\n",
"\n",
"M_inf = 10;                    //freestream mach number\n",
"p_inf = 2.65e4;                //freestream pressure\n",
"T_inf = 223.3;                 //freestream temperature\n",
"\n",
"//from Appendix A, for M = 2\n",
"p0_inf = 0.4244e5*p_inf;       //freestream total pressure\n",
"T0_inf = 21*T_inf;             //freestream total temperature\n",
"\n",
"//from Appendix B, for M = 2\n",
"p0_1 = 0.003045*p0_inf;        //total pressure downstream of shock\n",
"T0_1 = T0_inf;                 //total temperature downstream of shock is conserved\n",
"\n",
"//since the flow downstream of the shock is isentropic\n",
"p0_2 = p0_1;\n",
"T0_2 = T0_1;\n",
"\n",
"//from Appendix A, for M = 0.2 at point 2\n",
"p2 = p0_2/1.028;\n",
"T2 = T0_2/1.008;\n",
"\n",
"p2_atm = p2/102000;\n",
"\n",
"\n",
"printf('\nRESULTS\n---------\nThe pressure at point 2 is:\n        p2 = %2.1f atm\n',p2_atm)"
   ]
   }
,
{
		   "cell_type": "markdown",
		   "metadata": {},
		   "source": [
			"## Example 8.13: EX8_13.sce"
		   ]
		  },
  {
"cell_type": "code",
	   "execution_count": null,
	   "metadata": {
	    "collapsed": true
	   },
	   "outputs": [],
"source": [
"//All the quantities are expressed in SI units\n",
"\n",
"p1 = 4.66e4;                                //ambient pressure\n",
"M = 8;                                      //mach number\n",
"\n",
"//from Appendix B, for M = 8\n",
"p0_2 = 82.87*p1;                            //total pressure downstream of the shock\n",
"\n",
"//since the flow is isentropic downstream of the shock, total pressure is conserved\n",
"ps_atm = p0_2/101300;                       //pressure at the stagnation point\n",
"\n",
"printf('\nRESULTS\n---------\nThe pressure at the nose is:\n        p_s = %2.1f atm\n',ps_atm)"
   ]
   }
,
{
		   "cell_type": "markdown",
		   "metadata": {},
		   "source": [
			"## Example 8.14: Calculation_of_velocity_of_a_Lockheed_SR71_Blackbird_at_given_flight_conditions.sce"
		   ]
		  },
  {
"cell_type": "code",
	   "execution_count": null,
	   "metadata": {
	    "collapsed": true
	   },
	   "outputs": [],
"source": [
"//All the quantities are expressedin SI units\n",
"\n",
"p1 = 2527.3;                    //ambient pressure at the altitude of 25 km\n",
"T1 = 216.66;                    //ambient temperature at the altitude of 25 km\n",
"p0_1 = 38800;                   //total pressure\n",
"gam = 1.4;                      //ratio of specific heats\n",
"R = 287;                        //universal gas constant\n",
"pressure_ratio = p0_1/p1;       //ratio of total to static pressure\n",
"\n",
"//for this value of pressure ratio, mach number is\n",
"M1 = 3.4;\n",
"\n",
"//the speed of sound is given by\n",
"a1 = sqrt(gam*R*T1)\n",
"\n",
"//thus the velocity can be calculated as\n",
"V1 = M1*a1;\n",
"\n",
"printf('\nRESULTS\n---------\nThe Velocity of the airplane is:\n        V1 = %4.0f m/s\n',V1)"
   ]
   }
,
{
		   "cell_type": "markdown",
		   "metadata": {},
		   "source": [
			"## Example 8.1: Calculation_of_Mach_number_at_different_flying_altitudes.sce"
		   ]
		  },
  {
"cell_type": "code",
	   "execution_count": null,
	   "metadata": {
	    "collapsed": true
	   },
	   "outputs": [],
"source": [
"//All the quantities are expressed in SI units\n",
"\n",
"R = 287;\n",
"gam = 1.4;\n",
"V_inf = 250;\n",
"\n",
"//(a)\n",
"//At sea level\n",
"T_inf = 288;\n",
"\n",
"//the velocity of sound is given by\n",
"a_inf = sqrt(gam*R*T_inf);\n",
"\n",
"//thus the mach number can be calculated as\n",
"M_inf = V_inf/a_inf;\n",
"\n",
"printf('\n(a)\nThe Mach number at sea level is:\n        M_inf = %1.3f\n',M_inf)\n",
"\n",
"//similarly for (b) and (c)\n",
"//(b)\n",
"//at 5km\n",
"T_inf = 255.7;\n",
"\n",
"a_inf = sqrt(gam*R*T_inf);\n",
"\n",
"M_inf = V_inf/a_inf;\n",
"\n",
"printf('\n(b)\nThe Mach number at 5 km is:\n        M_inf = %1.2f\n',M_inf)\n",
"\n",
"//(c)\n",
"//at 10km\n",
"T_inf = 223.3;\n",
"\n",
"a_inf = sqrt(gam*R*T_inf);\n",
"\n",
"M_inf = V_inf/a_inf;\n",
"\n",
"printf('\n(c)\nThe Mach number at 10 km is:\n        M_inf = %1.3f\n',M_inf)"
   ]
   }
,
{
		   "cell_type": "markdown",
		   "metadata": {},
		   "source": [
			"## Example 8.2: Calculation_of_Mach_number_at_a_given_point.sce"
		   ]
		  },
  {
"cell_type": "code",
	   "execution_count": null,
	   "metadata": {
	    "collapsed": true
	   },
	   "outputs": [],
"source": [
"//All the quantities are expressed in SI units\n",
"\n",
"T = 320;            //static temperature\n",
"V = 1000;           //velocity\n",
"gam = 1.4;          //ratio of specific heats\n",
"R = 287;            //universal gas constant\n",
"\n",
"//the speed of sound is given by\n",
"a = sqrt(gam*R*T);\n",
"\n",
"//the mach number can be calculated as\n",
"M = V/a;\n",
"\n",
"printf('\nRESULTS\n---------\nThe Mach number is:\n        M = %1.2f\n',M)"
   ]
   }
,
{
		   "cell_type": "markdown",
		   "metadata": {},
		   "source": [
			"## Example 8.3: EX8_3.sce"
		   ]
		  },
  {
"cell_type": "code",
	   "execution_count": null,
	   "metadata": {
	    "collapsed": true
	   },
	   "outputs": [],
"source": [
"//All the quantities are expressed in SI units\n",
"\n",
"gam = 1.4;                    //ratio of specific heats\n",
"\n",
"//(a)\n",
"M = 2;                        //Mach number\n",
"\n",
"//the ratio of kinetic energy to internal energy is given by\n",
"ratio = gam*(gam-1)*M*M/2;\n",
"\n",
"printf('\n(a)\nThe ratio of kinetic energy to internal energy is:\n\n                        %1.2f\n',ratio)\n",
"\n",
"//similarly for (b)\n",
"//(b)\n",
"M = 20;\n",
"\n",
"ratio = gam*(gam-1)*M*M/2;\n",
"\n",
"printf('\n(b)\nThe ratio of kinetic energy to internal energy is:\n\n                        %3.0f\n',ratio)"
   ]
   }
,
{
		   "cell_type": "markdown",
		   "metadata": {},
		   "source": [
			"## Example 8.4: Calculation_of_total_temperature_and_total_pressure_at_a_point_in_the_flow.sce"
		   ]
		  },
  {
"cell_type": "code",
	   "execution_count": null,
	   "metadata": {
	    "collapsed": true
	   },
	   "outputs": [],
"source": [
"//All the quantities are expressed in SI units\n",
"\n",
"M = 2.79;        //Mach number\n",
"T = 320;         //static temperature from ex. 7.3\n",
"p = 1;           //static pressure in atm\n",
"gam = 1.4;\n",
"\n",
"//from eq. (8.40)\n",
"T0 = T*(1+((gam-1)/2*M*M));\n",
"\n",
"//from eq. (8.42)\n",
"p0 = p*((1+((gam-1)/2*M*M))^(gam/(gam-1)));\n",
"\n",
"printf('\nRESULTS\n---------\nThe total temperature and pressure are:\n        T0 = %3.0f K\n        P0 = %2.1f atm\n',T0,p0)"
   ]
   }
,
{
		   "cell_type": "markdown",
		   "metadata": {},
		   "source": [
			"## Example 8.5: EX8_5.sce"
		   ]
		  },
  {
"cell_type": "code",
	   "execution_count": null,
	   "metadata": {
	    "collapsed": true
	   },
	   "outputs": [],
"source": [
"//All the quantities are expressed in SI units\n",
"\n",
"M = 3.5;        //Mach number\n",
"T = 180;         //static temperature from ex. 7.3\n",
"p = 0.3;           //static pressure in atm\n",
"gam = 1.4;\n",
"R = 287;\n",
"\n",
"//from eq. (8.40)\n",
"T0 = T*(1+((gam-1)/2*M*M));\n",
"\n",
"//from eq. (8.42)\n",
"p0 = p*((1+((gam-1)/2*M*M))^(gam/(gam-1)));\n",
"\n",
"a = sqrt(gam*R*T);\n",
"V = a*M;\n",
"\n",
"//the values at local sonic point are given by\n",
"T_star = T0*2/(gam+1);\n",
"a_star = sqrt(gam*R*T_star);\n",
"M_star = V/a_star;\n",
"\n",
"printf('\nRESULTS\n---------\n        T0 = %3.0f K\n        P0 = %2.1f atm\n        T* = %3.1f k\n        a* = %3.0f m/s\n        M* = %1.2f',T0,p0,T_star,a_star,M_star)"
   ]
   }
,
{
		   "cell_type": "markdown",
		   "metadata": {},
		   "source": [
			"## Example 8.6: Calculation_of_local_mach_number_at_the_given_point_on_the_airfoil.sce"
		   ]
		  },
  {
"cell_type": "code",
	   "execution_count": null,
	   "metadata": {
	    "collapsed": true
	   },
	   "outputs": [],
"source": [
"//All the quantities are expressed in SI units\n",
"\n",
"p_inf = 1;\n",
"p1 = 0.7545;\n",
"M_inf = 0.6;\n",
"gam = 1.4;\n",
"\n",
"//from eq. (8.42)\n",
"p0_inf = p_inf*((1+((gam-1)/2*M_inf*M_inf))^(gam/(gam-1)));\n",
"\n",
"p0_1 = p0_inf;\n",
"\n",
"//from eq. (8.42)\n",
"ratio = p0_1/p1;\n",
"\n",
"//from appendix A, for this ratio, the Mach number is\n",
"M1 = 0.9;\n",
"\n",
"printf('\nRESULTS\n---------\nThe mach number at the given point is:\n        M1 = %1.1f\n',M1)"
   ]
   }
,
{
		   "cell_type": "markdown",
		   "metadata": {},
		   "source": [
			"## Example 8.7: Calculation_of_velocity_on_a_point_on_the_airfoil_for_compressible_flow.sce"
		   ]
		  },
  {
"cell_type": "code",
	   "execution_count": null,
	   "metadata": {
	    "collapsed": true
	   },
	   "outputs": [],
"source": [
"//All the quantities are expressed in SI units\n",
"\n",
"T_inf = 288;                                        //freestream temperature\n",
"p_inf = 1;                                          //freestream pressure\n",
"p1 = 0.7545;                                        //pressure at point 1\n",
"M = 0.9;                                            //mach number at point 1\n",
"gam = 1.4;                                          //ratio of specific heats\n",
"\n",
"//for isentropic flow, from eq. (7.32)\n",
"T1 = T_inf*((p1/p_inf)^((gam-1)/gam));\n",
"\n",
"//the speed of sound at that point is thus\n",
"a1 = sqrt(gam*R*T1);\n",
"\n",
"//thus, the velocity can be given as\n",
"V1 = M*a1;\n",
"\n",
"printf('\nRESULTS\n---------\nThe velocity at the given point is:\n        V1 = %3.0f m/s\n',V1)"
   ]
   }
,
{
		   "cell_type": "markdown",
		   "metadata": {},
		   "source": [
			"## Example 8.8: Calculation_of_velocity_temperature_and_pressure_downstream_of_a_shock.sce"
		   ]
		  },
  {
"cell_type": "code",
	   "execution_count": null,
	   "metadata": {
	    "collapsed": true
	   },
	   "outputs": [],
"source": [
"//All the quantities are expressed in SI units\n",
"\n",
"u1 = 680;                            //velocity upstream of shock\n",
"T1 = 288;                            //temperature upstream of shock\n",
"p1 = 1;                              //pressure upstream of shock\n",
"gam = 1.4;                           //ratio of specific heats\n",
"R = 287;                             //universal gas constant\n",
"\n",
"//the speed of sound is given by\n",
"a1 = sqrt(gam*R*T1)\n",
"\n",
"//thus the mach number is\n",
"M1 = 2;\n",
"\n",
"//from Appendix B, for M = 2, the relations between pressure and temperature are given by\n",
"pressure_ratio = 4.5;                //ratio of pressure accross shock\n",
"temperature_ratio = 1.687;           //ratio of temperature accross shock\n",
"M2 = 0.5774;                         //mach number downstream of shock\n",
"\n",
"//thus the values downstream of the shock can be calculated as\n",
"p2 = pressure_ratio*p1;\n",
"T2 = temperature_ratio*T1;\n",
"a2 = sqrt(gam*R*T2);\n",
"u2 = M2*a2;\n",
"\n",
"printf('\nRESULTS\n---------\n        p2 = %1.1f atm\n        T2 = %3.0f K\n        u2 = %3.0f m/s',p2,T2,u2)"
   ]
   }
,
{
		   "cell_type": "markdown",
		   "metadata": {},
		   "source": [
			"## Example 8.9: EX8_9.sce"
		   ]
		  },
  {
"cell_type": "code",
	   "execution_count": null,
	   "metadata": {
	    "collapsed": true
	   },
	   "outputs": [],
"source": [
"//All the quantities are expressed in SI units\n",
"\n",
"p1 = 1;                                            //ambient pressure upstream of shock\n",
"\n",
"\n",
"//(a)\n",
"//for M = 2;\n",
"p0_1 = 7.824*p1;                                   //total pressure upstream of shock\n",
"pressure_ratio = 0.7209;                           //ratio of total pressure accross the shock\n",
"p0_2 = pressure_ratio*p0_1;                        //total pressure downstream of shock\n",
"\n",
"//thus the total loss of pressure is given by\n",
"pressure_loss = p0_1 - p0_2;\n",
"\n",
"printf('\nRESULTS\n---------\nThe total pressure loss is:\n(a)        P0_loss = %1.3f atm\n',pressure_loss)\n",
"\n",
"//similarly\n",
"//(b)\n",
"//for M = 4;\n",
"p0_1 = 151.8*p1;\n",
"pressure_ratio = 0.1388;\n",
"p0_2 = pressure_ratio*p0_1;\n",
"\n",
"//thus the total loss of pressure is given by\n",
"pressure_loss = p0_1 - p0_2;\n",
"\n",
"printf('\n(b)        P0_loss = %3.1f atm\n',pressure_loss)"
   ]
   }
],
"metadata": {
		  "kernelspec": {
		   "display_name": "Scilab",
		   "language": "scilab",
		   "name": "scilab"
		  },
		  "language_info": {
		   "file_extension": ".sce",
		   "help_links": [
			{
			 "text": "MetaKernel Magics",
			 "url": "https://github.com/calysto/metakernel/blob/master/metakernel/magics/README.md"
			}
		   ],
		   "mimetype": "text/x-octave",
		   "name": "scilab",
		   "version": "0.7.1"
		  }
		 },
		 "nbformat": 4,
		 "nbformat_minor": 0
}
