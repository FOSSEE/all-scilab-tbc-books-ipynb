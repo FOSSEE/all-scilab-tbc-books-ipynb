{
"cells": [
 {
		   "cell_type": "markdown",
	   "metadata": {},
	   "source": [
       "# Chapter 9: Oblique Shock and Expansion Waves"
	   ]
	},
{
		   "cell_type": "markdown",
		   "metadata": {},
		   "source": [
			"## Example 9.10: EX9_10.sce"
		   ]
		  },
  {
"cell_type": "code",
	   "execution_count": null,
	   "metadata": {
	    "collapsed": true
	   },
	   "outputs": [],
"source": [
"//All the quantities are expressed in SI units\n",
"\n",
"M1 = 10;                        //upstream mach number\n",
"theta = 15*%pi/180;              //deflection angle\n",
"p1 = 1;                          //ambient pressure in atm\n",
"\n",
"//from fig 9.9, for M1 = 10 and theta = 15 we have\n",
"b = 20*%pi/180;\n",
"Mn_1 = M1*sin(b);\n",
"\n",
"//from Appendix B, for Mn,1 = 3.42\n",
"Mn_2 = 0.4552;\n",
"M2 = Mn_2/sin(b-theta);\n",
"p2 = 13.32*p1;\n",
"\n",
"//from Appendix A, for M1 = 10\n",
"p0_2 = 0.2322*42440*p1;\n",
"\n",
"printf('\nRESULTS\n---------\n        M2 = %1.2f\n        p2 = %2.2f atm\n        p0,2 = %1.2f x 10^3 atm\n',M2,p2,p0_2/1e3)"
   ]
   }
,
{
		   "cell_type": "markdown",
		   "metadata": {},
		   "source": [
			"## Example 9.11: EX9_11.sce"
		   ]
		  },
  {
"cell_type": "code",
	   "execution_count": null,
	   "metadata": {
	    "collapsed": true
	   },
	   "outputs": [],
"source": [
"//All the quantities are expressed in SI units\n",
"\n",
"M1 = 3;                        //upstream mach number\n",
"theta = 5*%pi/180;             //deflection angle\n",
"alpha = theta;                 //angle of attack\n",
"gam = 1.4;\n",
"\n",
"//from appendix C, for M1 = 3 we have\n",
"v1 = 49.76*%pi/180;\n",
"\n",
"//from eq.(9.43)\n",
"v2 = v1 + theta;\n",
"\n",
"//for this value of v2, from appendix C\n",
"M2 = 3.27;\n",
"\n",
"//from Appendix A for M1 = 3 and M2 = 3.27, we have\n",
"p_ratio1 = 36.73/55;\n",
"\n",
"//from fig. 9.9, for M1 = 3 and theta = 5\n",
"b = 23.1*%pi/180;\n",
"Mn_1 = M1*sin(b);\n",
"\n",
"//from Appendix B\n",
"p_ratio2 = 1.458;\n",
"\n",
"//thus\n",
"c_l = 2/gam/(M1^2)*(p_ratio2-p_ratio1)*cos(alpha);\n",
"\n",
"c_d = 2/gam/(M1^2)*(p_ratio2-p_ratio1)*sin(alpha);\n",
"\n",
"printf('\nRESULTS\n---------\nThe lift and drag coefficients are given by:\n        cl = %1.3f\n        cd = %1.3f\n',c_l,c_d)"
   ]
   }
,
{
		   "cell_type": "markdown",
		   "metadata": {},
		   "source": [
			"## Example 9.1: EX9_1.sce"
		   ]
		  },
  {
"cell_type": "code",
	   "execution_count": null,
	   "metadata": {
	    "collapsed": true
	   },
	   "outputs": [],
"source": [
"//All the quantities are expressed in SI units\n",
"\n",
"M = 2;                    //mach number\n",
"h = 16000;                   //altitude of the plane\n",
"\n",
"//the mach angle can be calculated from eq.(9.1) as\n",
"mue = asin(1/M);          //mach angle\n",
"\n",
"d = h/tan(mue);\n",
"\n",
"printf('\nRESULTS\n---------\nThe plane is ahead of the bystander by a distance of:\n        d = %2.1f km\n',d/1000)"
   ]
   }
,
{
		   "cell_type": "markdown",
		   "metadata": {},
		   "source": [
			"## Example 9.2: EX9_2.sce"
		   ]
		  },
  {
"cell_type": "code",
	   "execution_count": null,
	   "metadata": {
	    "collapsed": true
	   },
	   "outputs": [],
"source": [
"//All the quantities are expressed in SI units\n",
"\n",
"M1 = 2;                               //mach number\n",
"p1 = 1;                                //ambient pressure\n",
"T1 = 288;                              //ambient temperature\n",
"theta = 20*%pi/180;                   //flow deflection\n",
"\n",
"//from figure 9.9, for M = 2, theta = 20\n",
"b = 53.4*%pi/180;                     //beta\n",
"Mn_1 = M1*sin(b);                     //upstream mach number normal to shock\n",
"\n",
"//for this value of Mn,1 = 1.60, from Appendix B we have\n",
"Mn_2 = 0.6684;                        //downstream mach number normal to shock\n",
"M2 = Mn_2/sin(b-theta);               //mach number downstream of shock\n",
"p2 = 2.82*p1;\n",
"T2 = 1.388*T1;\n",
"\n",
"//for M = 2, from appendix A we have\n",
"p0_2 = 0.8952*7.824*p1;\n",
"T0_1 = 1.8*T1;\n",
"T0_2 = T0_1;\n",
"\n",
"printf('\nRESULTS\n---------\n        M2 = %1.2f\n        p2 = %1.2f atm\n        T2 = %3.1f K\n        p0,2 = %1.2f atm\n        T0,2 = %3.1f K',M2,p2,T2,p0_2,T0_2)"
   ]
   }
,
{
		   "cell_type": "markdown",
		   "metadata": {},
		   "source": [
			"## Example 9.3: EX9_3.sce"
		   ]
		  },
  {
"cell_type": "code",
	   "execution_count": null,
	   "metadata": {
	    "collapsed": true
	   },
	   "outputs": [],
"source": [
"//All the quantities are expressed in SI units\n",
"\n",
"b = 30*%pi/180;                        //oblique shock wave angle\n",
"M1 = 2.4;                              //upstream mach number\n",
"\n",
"//from figure 9.9, for these value of M and beta, we have\n",
"theta = 6.5*%pi/180;\n",
"\n",
"Mn_1 = M1*sin(b);                      //upstream mach number normal to shock\n",
"\n",
"//from Appendix B\n",
"pressure_ratio = 1.513;\n",
"temperature_ratio = 1.128;\n",
"Mn_2 = 0.8422;\n",
"\n",
"M2 = Mn_2/sin(b-theta);\n",
"\n",
"printf('\nRESULTS\n---------\n        theta = %1.1f degrees\n        p2/p1 = %1.3f\n        T2/T1 = %1.3f\n        M2 = %1.2f\n',theta*180/%pi,pressure_ratio,temperature_ratio,M2)"
   ]
   }
,
{
		   "cell_type": "markdown",
		   "metadata": {},
		   "source": [
			"## Example 9.4: Calculation_of_mach_number_upstream_of_an_oblique_shock.sce"
		   ]
		  },
  {
"cell_type": "code",
	   "execution_count": null,
	   "metadata": {
	    "collapsed": true
	   },
	   "outputs": [],
"source": [
"//All the quantities are expressed in SI units\n",
"\n",
"b = 35*%pi/180;                    //oblique shock wave angle\n",
"pressure_ratio = 3;                //upstream and downstream pressure ratio\n",
"\n",
"//from appendix B\n",
"Mn_1 = 1.64;\n",
"M1 = Mn_1/sin(b);\n",
"\n",
"printf('\nRESULTS\n---------\nThe upstream mach number is:\n        M = %1.2f\n',M1)"
   ]
   }
,
{
		   "cell_type": "markdown",
		   "metadata": {},
		   "source": [
			"## Example 9.5: Calculation_of_the_final_total_pressure_values_for_the_two_given_cases.sce"
		   ]
		  },
  {
"cell_type": "code",
	   "execution_count": null,
	   "metadata": {
	    "collapsed": true
	   },
	   "outputs": [],
"source": [
"//All the quantities are expressed in SI units\n",
"\n",
"M1 = 3;\n",
"b = 40*%pi/180;\n",
"\n",
"//for case 1, for M = 3, from Appendix B, we have\n",
"p0_ratio_case1 = 0.3283;\n",
"\n",
"//for case 2\n",
"Mn_1 = M1*sin(b);\n",
"\n",
"//from Appendix B\n",
"p0_ratio1 = 0.7535;\n",
"Mn_2 = 0.588;\n",
"\n",
"//from fig. 9.9, for M1 = 3 and beta = 40, we have\n",
"theta = 22*%pi/180;\n",
"M2 = Mn_2/sin(b-theta);\n",
"\n",
"//from appendix B for M = 1.9; we have\n",
"p0_ratio2 = 0.7674;\n",
"p0_ratio_case2 = p0_ratio1*p0_ratio2;\n",
"\n",
"ratio = p0_ratio_case2/p0_ratio_case1;\n",
"\n",
"printf('\nRESULTS\n---------\n        Ans = %1.2f\n',ratio)"
   ]
   }
,
{
		   "cell_type": "markdown",
		   "metadata": {},
		   "source": [
			"## Example 9.6: Calculation_of_the_drag_coefficient_of_a_wedge_in_a_hypersonic_flow.sce"
		   ]
		  },
  {
"cell_type": "code",
	   "execution_count": null,
	   "metadata": {
	    "collapsed": true
	   },
	   "outputs": [],
"source": [
"//All the quantities are expressed in SI units\n",
"\n",
"M1 = 5;\n",
"theta = 15*%pi/180;\n",
"gam = 1.4;\n",
"\n",
"//for these values of M and theta, from fig. 9.9\n",
"b = 24.2*%pi/180;\n",
"Mn_1 = M1*sin(b);\n",
"\n",
"//from Appendix B, for Mn,1 = 2.05, we have\n",
"p_ratio = 4.736;\n",
"\n",
"//hence\n",
"c_d = 4*tan(theta)/gam/(M1^2)*(p_ratio-1);\n",
"\n",
"printf('\nRESULTS\n---------\nThe drag coefficient is given by:\n        cd = %1.3f\n',c_d)"
   ]
   }
,
{
		   "cell_type": "markdown",
		   "metadata": {},
		   "source": [
			"## Example 9.7: EX9_7.sce"
		   ]
		  },
  {
"cell_type": "code",
	   "execution_count": null,
	   "metadata": {
	    "collapsed": true
	   },
	   "outputs": [],
"source": [
"//All the quantities are expressed in SI units\n",
"\n",
"M1 = 3.5;\n",
"theta1 = 10*%pi/180;\n",
"gam = 1.4;\n",
"p1 = 101300;\n",
"T1 = 288;\n",
"\n",
"//for these values of M and theta, from fig. 9.9\n",
"b1 = 24*%pi/180;\n",
"Mn_1 = M1*sin(b);\n",
"\n",
"//from Appendix B, for Mn,1 = 2.05, we have\n",
"Mn_2 = 0.7157;\n",
"p_ratio1 = 2.32;\n",
"T_ratio1 = 1.294;\n",
"M2 = Mn_2/sin(b1-theta1);\n",
"\n",
"//now\n",
"theta2 = 10*%pi/180;\n",
"\n",
"//from fig. 9.9\n",
"b2 = 27.3*%pi/180;\n",
"phi = b2 - theta2;\n",
"\n",
"//from Appendix B\n",
"p_ratio2 = 1.991;\n",
"T_ratio2 = 1.229;\n",
"Mn_3 = 0.7572;\n",
"M3 = Mn_3/sin(b2-theta2);\n",
"\n",
"//thus\n",
"p3 = p_ratio1*p_ratio2*p1;\n",
"T3 = T_ratio1*T_ratio2*T1;\n",
"\n",
"printf('\nRESULTS\n---------\n        p3 = %1.2f x 10^5 N/m2\n        T3 = %3.0f K\n',p3/1e5,T3)"
   ]
   }
,
{
		   "cell_type": "markdown",
		   "metadata": {},
		   "source": [
			"## Example 9.8: EX9_8.sce"
		   ]
		  },
  {
"cell_type": "code",
	   "execution_count": null,
	   "metadata": {
	    "collapsed": true
	   },
	   "outputs": [],
"source": [
"//All the quantities are expressed in SI units\n",
"\n",
"M1 = 1.5;                        //upstream mach number\n",
"theta = 15*%pi/180;              //deflection angle\n",
"p1 = 1;                          //ambient pressure in atm\n",
"T1 = 288;                        //ambient temperature\n",
"\n",
"//from appendix C, for M1 = 1.5 we have\n",
"v1 = 11.91*%pi/180;\n",
"\n",
"//from eq.(9.43)\n",
"v2 = v1 + theta;\n",
"\n",
"//for this value of v2, from appendix C\n",
"M2 = 2;\n",
"\n",
"//from Appendix A for M1 = 1.5 and M2 = 2.0, we have\n",
"p2 = 1/7.824*1*3.671*p1;\n",
"T2 = 1/1.8*1*1.45*T1;\n",
"p0_1 = 3.671*p1;\n",
"p0_2 = p0_1;\n",
"T0_1 = 1.45*T1;\n",
"T0_2 = T0_1;\n",
"\n",
"//from fig. 9.25, we have\n",
"fml = 41.81;                    //Angle of forward Mach line\n",
"rml = 30 - 15;                  //Angle of rear Mach line\n",
"\n",
"printf('\nRESULTS\n---------\n        p2 = %1.3f atm\n        T2 = %3.0f K\n        p0,2 = %1.3f atm\n        T0,2 = %3.1f K\n        Angle of forward Mach line = %2.2f degrees\n        Angle of rear Mach line = %2.0f degrees',p2,T2,p0_2,T0_2,fml,rml)"
   ]
   }
,
{
		   "cell_type": "markdown",
		   "metadata": {},
		   "source": [
			"## Example 9.9: Calculation_of_mach_number_and_pressure_behind_a_compression_wave.sce"
		   ]
		  },
  {
"cell_type": "code",
	   "execution_count": null,
	   "metadata": {
	    "collapsed": true
	   },
	   "outputs": [],
"source": [
"//All the quantities are expressed in SI units\n",
"\n",
"M1 = 10;                        //upstream mach number\n",
"theta = 15*%pi/180;              //deflection angle\n",
"p1 = 1;                          //ambient pressure in atm\n",
"\n",
"//from appendix C, for M1 = 10 we have\n",
"v1 = 102.3*%pi/180;\n",
"\n",
"//in region 2\n",
"v2 = v1 - theta;\n",
"\n",
"//for this value of v2, from appendix C\n",
"M2 = 6.4;\n",
"\n",
"//from Appendix A for M1 = 10 and M2 = 6.4, we have\n",
"p2 = 1/(2355)*1*42440*p1;\n",
"\n",
"printf('\nRESULTS\n---------\n        M2 = %1.1f\n        p2 = %2.2f atm\n',M2,p2)"
   ]
   }
],
"metadata": {
		  "kernelspec": {
		   "display_name": "Scilab",
		   "language": "scilab",
		   "name": "scilab"
		  },
		  "language_info": {
		   "file_extension": ".sce",
		   "help_links": [
			{
			 "text": "MetaKernel Magics",
			 "url": "https://github.com/calysto/metakernel/blob/master/metakernel/magics/README.md"
			}
		   ],
		   "mimetype": "text/x-octave",
		   "name": "scilab",
		   "version": "0.7.1"
		  }
		 },
		 "nbformat": 4,
		 "nbformat_minor": 0
}
