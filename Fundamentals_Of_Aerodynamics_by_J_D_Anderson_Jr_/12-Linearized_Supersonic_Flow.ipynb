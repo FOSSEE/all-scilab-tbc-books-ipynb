{
"cells": [
 {
		   "cell_type": "markdown",
	   "metadata": {},
	   "source": [
       "# Chapter 12: Linearized Supersonic Flow"
	   ]
	},
{
		   "cell_type": "markdown",
		   "metadata": {},
		   "source": [
			"## Example 12.1: EX12_1.sce"
		   ]
		  },
  {
"cell_type": "code",
	   "execution_count": null,
	   "metadata": {
	    "collapsed": true
	   },
	   "outputs": [],
"source": [
"//All the quantities are expressed in SI units\n",
"\n",
"alpha = 5*%pi/180;                    //angle of attack\n",
"M_inf = 3;                            //freestream mach number\n",
"\n",
"//from eq.(12.23)\n",
"c_l = 4*alpha/sqrt(M_inf^2 - 1);\n",
"\n",
"//from eq.(12.24)\n",
"c_d = 4*alpha^2/sqrt(M_inf^2 - 1);\n",
"\n",
"printf('\nRESULTS\n---------\nThe cl and cd according to the linearized theory are:\n        cl = %1.3f\n        cd = %1.3f\n',c_l,c_d)"
   ]
   }
,
{
		   "cell_type": "markdown",
		   "metadata": {},
		   "source": [
			"## Example 12.2: Calculation_of_angle_of_attack_of_a_Lockheed_F104_wing_in_a_supersonic_flow.sce"
		   ]
		  },
  {
"cell_type": "code",
	   "execution_count": null,
	   "metadata": {
	    "collapsed": true
	   },
	   "outputs": [],
"source": [
"//All the quantities are expressed in SI units\n",
"\n",
"M_inf = 2;                       //freestream mach number\n",
"rho_inf = 0.3648;                //freestream density at 11 km altitude\n",
"T_inf = 216.78;                  //freestream temperature at 11 km altitude\n",
"gam = 1.4;                       //ratio of specific heats\n",
"R = 287;                         //specific gas constant\n",
"m = 9400;                        //mass of the aircraft\n",
"g = 9.8;                         //acceleratio due to gravity\n",
"W = m*g;                         //weight of the aircraft\n",
"S = 18.21;                       //wing planform area\n",
"\n",
"//thus\n",
"a_inf = sqrt(gam*R*T_inf);\n",
"V_inf = M_inf*a_inf;\n",
"q_inf = 1/2*rho_inf*V_inf^2;\n",
"\n",
"//thus the aircraft lift coefficient is given as\n",
"C_l = W/q_inf/S;\n",
"\n",
"alpha = 180/%pi*C_l/4*sqrt(M_inf^2 - 1);\n",
"\n",
"printf('\nRESULTS\n---------\nThe angle of attack of the wing is:\n        alpha = %1.2f degrees\n',alpha)"
   ]
   }
,
{
		   "cell_type": "markdown",
		   "metadata": {},
		   "source": [
			"## Example 12.3: EX12_3.sce"
		   ]
		  },
  {
"cell_type": "code",
	   "execution_count": null,
	   "metadata": {
	    "collapsed": true
	   },
	   "outputs": [],
"source": [
"//All the quantities are expressed in SI units\n",
"//All the quantities are expressed in SI units\n",
"\n",
"//(a)\n",
"M_inf = 2;                       //freestream mach number\n",
"rho_inf = 0.3648;                //freestream density at 11 km altitude\n",
"T_inf = 216.78;                  //freestream temperature at 11 km altitude\n",
"gam = 1.4;                       //ratio of specific heats\n",
"R = 287;                         //specific gas constant\n",
"m = 9400;                        //mass of the aircraft\n",
"g = 9.8;                         //acceleratio due to gravity\n",
"W = m*g;                         //weight of the aircraft\n",
"S = 18.21;                       //wing planform area\n",
"c = 2.2;                         //chord length of the airfoil\n",
"alpha = 0.035;                   //angle of attack as calculated in ex. 12.2\n",
"T0 = 288.16;                     //ambient temperature at sea level\n",
"mue0 = 1.7894e-5;                //reference viscosity at sea level\n",
"\n",
"//thus\n",
"a_inf = sqrt(gam*R*T_inf);\n",
"V_inf = M_inf*a_inf;\n",
"\n",
"//according to eq.(15.3), the viscosity at the given temperature is\n",
"mue_inf = mue0*(T_inf/T0)^1.5*(T0+110)/(T_inf+110);\n",
"\n",
"//thus the Reynolds number can be given by\n",
"Re = rho_inf*V_inf*c/mue_inf;\n",
"\n",
"//from fig.(19.1), for these values of Re and M, the skin friction coefficient is\n",
"Cf = 2.15e-3;\n",
"\n",
"//thus, considering both sides of the flat plate\n",
"net_Cf = 2*Cf;\n",
"\n",
"//(b)\n",
"c_d = 4*alpha^2/sqrt(M_inf^2 - 1);\n",
"\n",
"printf('\nRESULTS\n---------\n(a)\n        Net Cf = %1.1f x 10^-3\n(b)\n        cd = %1.2f x 10^-3\n',net_Cf*1e3,c_d*1e3)"
   ]
   }
],
"metadata": {
		  "kernelspec": {
		   "display_name": "Scilab",
		   "language": "scilab",
		   "name": "scilab"
		  },
		  "language_info": {
		   "file_extension": ".sce",
		   "help_links": [
			{
			 "text": "MetaKernel Magics",
			 "url": "https://github.com/calysto/metakernel/blob/master/metakernel/magics/README.md"
			}
		   ],
		   "mimetype": "text/x-octave",
		   "name": "scilab",
		   "version": "0.7.1"
		  }
		 },
		 "nbformat": 4,
		 "nbformat_minor": 0
}
