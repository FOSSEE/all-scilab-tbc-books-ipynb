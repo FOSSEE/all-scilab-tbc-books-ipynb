{
"cells": [
 {
		   "cell_type": "markdown",
	   "metadata": {},
	   "source": [
       "# Chapter 7: Compressible Flow Some Preliminary Aspects"
	   ]
	},
{
		   "cell_type": "markdown",
		   "metadata": {},
		   "source": [
			"## Example 7.1: Calculation_of_internal_energy_and_enthalpy_of_air_in_a_room.sce"
		   ]
		  },
  {
"cell_type": "code",
	   "execution_count": null,
	   "metadata": {
	    "collapsed": true
	   },
	   "outputs": [],
"source": [
"//All the quantities are expressed in SI units\n",
"\n",
"l = 5;                //dimensions of the room\n",
"b = 7;\n",
"h = 3.3;\n",
"V = l*b*h;            //volume of the room\n",
"p = 101000;           //ambient pressure\n",
"T = 273 + 25;         //ambient temperature\n",
"R = 287;              //gas constant\n",
"gam = 1.4;            //ratio of specific heats\n",
"cv = R/(gam-1);\n",
"cp = gam*R/(gam-1);\n",
"\n",
"//the density can by calculaled by the ideal gas law\n",
"rho = p/R/T;\n",
"\n",
"//thus the mass is given by\n",
"M = rho*V;\n",
"\n",
"//from eq.(7.6a), the internal energy per unit mass is\n",
"e = cv*T;\n",
"\n",
"//thus internal energy in the room is\n",
"E = e*M;\n",
"\n",
"//from eq.(7.6b), the enthalpy per unit mass is given by\n",
"h = cp*T;\n",
"\n",
"//Thus the enthalpy in the room is\n",
"H = M*h;\n",
"\n",
"printf('\nRESULTS\n--------\nThe internal energy in the room is:\n        E = %1.2f x 10^7 J\n\nThe Enthalpy in the room is:\n        H = %1.2f x 10^7 J\n',E/10^7,H/10^7 )"
   ]
   }
,
{
		   "cell_type": "markdown",
		   "metadata": {},
		   "source": [
			"## Example 7.2: Calculation_of_temperature_at_a_point_on_the_Boeing_747_wing.sce"
		   ]
		  },
  {
"cell_type": "code",
	   "execution_count": null,
	   "metadata": {
	    "collapsed": true
	   },
	   "outputs": [],
"source": [
"//All the quantities are expressed in SI units\n",
"\n",
"p_inf = 22790.9;            //ambient pressure at 36000 ft\n",
"T_inf = 217.2;              //ambient temperature at 36000 ft\n",
"p = 19152;                  //pressure at the given point\n",
"gam = 1.4;\n",
"\n",
"//thus the temperature at the given point can be calculated by eq.(7.32) as\n",
"T = T_inf*((p/p_inf)^((gam-1)/gam));\n",
"\n",
"printf('\nRESULTS\n--------\nThe temperature at the given point is:\n        T = %3.1f K\n',T)"
   ]
   }
,
{
		   "cell_type": "markdown",
		   "metadata": {},
		   "source": [
			"## Example 7.3: Calculation_of_total_temperature_and_total_pressure_at_a_point_in_the_flow.sce"
		   ]
		  },
  {
"cell_type": "code",
	   "execution_count": null,
	   "metadata": {
	    "collapsed": true
	   },
	   "outputs": [],
"source": [
"//All the quantities are expressed in SI units\n",
"\n",
"p =101000;                //static pressure\n",
"T = 320;                  //static temperature\n",
"v = 1000;                 //velocity\n",
"gam = 1.4;                //ratio of specific heats\n",
"R = 287;                  //universal gas constant\n",
"cp = gam*R/(gam-1);       //specific heat at constant pressure\n",
"\n",
"//from eq.(7.54), the total temperature is given by\n",
"T0 = T + (v^2)/2/cp;\n",
"\n",
"//from eq.(7.32),the total pressure is given by\n",
"p0 = p*((T0/T)^(gam/(gam-1)));\n",
"\n",
"p0_atm = p0/101000;\n",
"\n",
"\n",
"printf('\nRESULTS\n--------\nThe total temperature and pressure are given by:\n        T0 = %3.1f K\n\n        P0 = %2.1f atm\n',T0,p0_atm)"
   ]
   }
],
"metadata": {
		  "kernelspec": {
		   "display_name": "Scilab",
		   "language": "scilab",
		   "name": "scilab"
		  },
		  "language_info": {
		   "file_extension": ".sce",
		   "help_links": [
			{
			 "text": "MetaKernel Magics",
			 "url": "https://github.com/calysto/metakernel/blob/master/metakernel/magics/README.md"
			}
		   ],
		   "mimetype": "text/x-octave",
		   "name": "scilab",
		   "version": "0.7.1"
		  }
		 },
		 "nbformat": 4,
		 "nbformat_minor": 0
}
