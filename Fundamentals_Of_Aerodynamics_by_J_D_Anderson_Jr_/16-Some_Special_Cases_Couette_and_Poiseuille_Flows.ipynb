{
"cells": [
 {
		   "cell_type": "markdown",
	   "metadata": {},
	   "source": [
       "# Chapter 16: Some Special Cases Couette and Poiseuille Flows"
	   ]
	},
{
		   "cell_type": "markdown",
		   "metadata": {},
		   "source": [
			"## Example 16.1: EX16_1.sce"
		   ]
		  },
  {
"cell_type": "code",
	   "execution_count": null,
	   "metadata": {
	    "collapsed": true
	   },
	   "outputs": [],
"source": [
"//All the quantities are expressed in SI units\n",
"\n",
"mue = 1.7894e-5;                    //coefficient of viscosity\n",
"ue = 60.96;                         //velocity of upper plate\n",
"D = 2.54e-4;                        //distance between the 2 plates\n",
"T_w = 288.3;                        //temperature of the plates\n",
"Pr = 0.71;                          //Prandlt number\n",
"cp = 1004.5;                        //specific heat at constant pressure\n",
"\n",
"//(a)\n",
"//from eq.(16.6)\n",
"u = ue/2;\n",
"\n",
"//(b)\n",
"//from eq.(16.9)\n",
"tow_w = mue*ue/D;\n",
"\n",
"//(c)\n",
"//from eq.(16.34)\n",
"T = T_w + Pr*ue^2/8/cp;\n",
"\n",
"//(d)\n",
"//from eq.(16.35)\n",
"q_w_dot = mue/2*ue^2/D;\n",
"\n",
"//(e)\n",
"//from eq.(16.40)\n",
"T_aw = T_w + Pr/cp*ue^2/2;\n",
"\n",
"printf('\nRESULTS\n---------\n(a)\n        u = %2.2f m/s\n(b)\n        tow_w = %1.1f N/m2\n(c)\n        T = %3.1f K\n(d)\n        q_w_dot = %3.1f Nm-1s-1\n(e)\n        Taw = %3.1f K',u,tow_w,T,q_w_dot,T_aw)"
   ]
   }
,
{
		   "cell_type": "markdown",
		   "metadata": {},
		   "source": [
			"## Example 16.2: Calculation_of_the_heat_transfer_to_either_plate_for_the_given_geometry.sce"
		   ]
		  },
  {
"cell_type": "code",
	   "execution_count": null,
	   "metadata": {
	    "collapsed": true
	   },
	   "outputs": [],
"source": [
"//All the quantities are expressed in SI units\n",
"\n",
"mue = 1.7894e-5;                    //coefficient of viscosity\n",
"Me = 3;                             //mach number of upper plate\n",
"D = 2.54e-4;                        //distance between the 2 plates\n",
"pe = 101000;                        //ambient pressure\n",
"Te = 288;                           //temperature of the plates\n",
"Tw = Te;\n",
"gam = 1.4;                          //ratio of specific heats\n",
"R = 287;                            //specific gas constant\n",
"Pr = 0.71;                          //Prandlt number\n",
"cp = 1004.5;                        //specific heat at constant pressure\n",
"tow_w = 72;                         //shear stress on the lower wall\n",
"\n",
"//the velocity of the upper plate is given by\n",
"ue = Me*sqrt(gam*R*Te);\n",
"\n",
"//the density at both plates is\n",
"rho_e = pe/R/Te;\n",
"\n",
"//the coefficient of skin friction is given by\n",
"cf = 2*tow_w/rho_e/ue^2;\n",
"\n",
"//from eq.(16.92)\n",
"C_H = cf/2/Pr;\n",
"\n",
"//from eq.(16.82)\n",
"h_aw = cp*Te + Pr*ue^2/2;\n",
"\n",
"h_w = cp*Tw;\n",
"\n",
"q_w_dot = rho_e*ue*(h_aw-h_w)*C_H;\n",
"\n",
"printf('\nRESULTS\n---------\nThe heat transfer is given by:\n        q_w_dot = %1.2f x 10^4 W/m2\n',q_w_dot/1e4)"
   ]
   }
],
"metadata": {
		  "kernelspec": {
		   "display_name": "Scilab",
		   "language": "scilab",
		   "name": "scilab"
		  },
		  "language_info": {
		   "file_extension": ".sce",
		   "help_links": [
			{
			 "text": "MetaKernel Magics",
			 "url": "https://github.com/calysto/metakernel/blob/master/metakernel/magics/README.md"
			}
		   ],
		   "mimetype": "text/x-octave",
		   "name": "scilab",
		   "version": "0.7.1"
		  }
		 },
		 "nbformat": 4,
		 "nbformat_minor": 0
}
