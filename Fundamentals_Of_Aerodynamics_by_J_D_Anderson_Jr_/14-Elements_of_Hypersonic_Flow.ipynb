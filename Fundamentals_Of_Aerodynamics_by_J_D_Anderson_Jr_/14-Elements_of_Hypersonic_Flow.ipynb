{
"cells": [
 {
		   "cell_type": "markdown",
	   "metadata": {},
	   "source": [
       "# Chapter 14: Elements of Hypersonic Flow"
	   ]
	},
{
		   "cell_type": "markdown",
		   "metadata": {},
		   "source": [
			"## Example 14.1: EX14_1.sce"
		   ]
		  },
  {
"cell_type": "code",
	   "execution_count": null,
	   "metadata": {
	    "collapsed": true
	   },
	   "outputs": [],
"source": [
"//All the quantities are expressed in SI units\n",
"\n",
"M1 = 8;                    //mach number\n",
"alpha = 15*%pi/180;        //anlge of attack\n",
"theta= alpha;\n",
"gam = 1.4;\n",
"\n",
"//(a)\n",
"//for M = 8\n",
"v1 = 95.62*%pi/180;\n",
"v2 = v1 + theta;\n",
"\n",
"//from Appendix C\n",
"M2 = 14.32;\n",
"\n",
"//from Appendix A, for M1 = 8 and M2 = 14.32\n",
"p_ratio = 0.9763e4/0.4808e6;\n",
"\n",
"//from eq.(11.22)\n",
"Cp2 = 2/gam/M1^2*(p_ratio - 1);\n",
"\n",
"//for M1 = 8 and theta = 15\n",
"b = 21*%pi/180;\n",
"Mn_1 = M1*sin(b);\n",
"\n",
"//for this value of Mn,1, from appendix B\n",
"p_ratio2 = 9.443;\n",
"\n",
"//thus\n",
"Cp3 = 2/gam/M1^2*(p_ratio2 - 1);\n",
"\n",
"c_n = Cp3 - Cp2;\n",
"\n",
"c_l = c_n*cos(alpha);\n",
"\n",
"c_d = c_n*sin(alpha);\n",
"\n",
"L_by_D = c_l/c_d;\n",
"\n",
"printf('\nRESULTS\n---------\n(a) The exact results from the shock-expansion theory are:\n        Cp2 = %1.4f\n        Cp3 = %1.4f\n        cl = %1.4f\n        cd = %1.4f\n        L/D = %1.2f\n',Cp2,Cp3,c_l,c_d,L_by_D)\n",
"\n",
"//(b)\n",
"//from Newtonian theory, by eq.(14.9)\n",
"Cp3 = 2*sin(alpha)^2;\n",
"Cp2 = 0;\n",
"c_l = (Cp3 - Cp2)*cos(alpha);\n",
"c_d = (Cp3 - Cp2)*sin(alpha);\n",
"L_by_D = c_l/c_d;\n",
"\n",
"printf('\n(b) The results from Newtonian theory are:\n        Cp2 = %1.4f\n        Cp3 = %1.4f\n        cl = %1.4f\n        cd = %1.4f\n        L/D = %1.2f\n',Cp2,Cp3,c_l,c_d,L_by_D)"
   ]
   }
],
"metadata": {
		  "kernelspec": {
		   "display_name": "Scilab",
		   "language": "scilab",
		   "name": "scilab"
		  },
		  "language_info": {
		   "file_extension": ".sce",
		   "help_links": [
			{
			 "text": "MetaKernel Magics",
			 "url": "https://github.com/calysto/metakernel/blob/master/metakernel/magics/README.md"
			}
		   ],
		   "mimetype": "text/x-octave",
		   "name": "scilab",
		   "version": "0.7.1"
		  }
		 },
		 "nbformat": 4,
		 "nbformat_minor": 0
}
