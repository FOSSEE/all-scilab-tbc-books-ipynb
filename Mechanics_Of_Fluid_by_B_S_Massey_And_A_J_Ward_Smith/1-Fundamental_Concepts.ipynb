{
"cells": [
 {
		   "cell_type": "markdown",
	   "metadata": {},
	   "source": [
       "# Chapter 1: Fundamental Concepts"
	   ]
	},
{
		   "cell_type": "markdown",
		   "metadata": {},
		   "source": [
			"## Example 1.1: 1.sce"
		   ]
		  },
  {
"cell_type": "code",
	   "execution_count": null,
	   "metadata": {
	    "collapsed": true
	   },
	   "outputs": [],
"source": [
"clc\n",
"p=2*10^5; // Pa\n",
"T=300; // K\n",
"R=287; // J/(kg.K)\n",
"V=3; // m^3\n",
"\n",
"rho=p/(R*T);\n",
"disp('(a) The density of air = ')\n",
"disp(rho)\n",
"disp('kg/m^3')\n",
"\n",
"m=rho*V;\n",
"disp('(b) Its mass =')\n",
"disp(m)\n",
"disp('m^3')"
   ]
   }
,
{
		   "cell_type": "markdown",
		   "metadata": {},
		   "source": [
			"## Example 1.2: 2.sce"
		   ]
		  },
  {
"cell_type": "code",
	   "execution_count": null,
	   "metadata": {
	    "collapsed": true
	   },
	   "outputs": [],
"source": [
"clc\n",
"M_C=12;\n",
"M_N=14;\n",
"M_O=16;\n",
"R=8314; // J/(kg.K)\n",
"\n",
"M_CO=M_C+M_O;\n",
"R_CO=R/M_CO;\n",
"\n",
"M_CO2=M_C+2*M_O;\n",
"R_CO2=R/M_CO2;\n",
"\n",
"M_NO=M_N+M_O;\n",
"R_NO=R/M_NO;\n",
"\n",
"M_N2O=2*M_N+M_O;\n",
"R_N2O=R/M_N2O;\n",
"\n",
"disp('Gas constant for CO = ')\n",
"disp(R_CO)\n",
"disp('J/(kg.K)')\n",
"\n",
"disp('Gas constant for CO2 = ')\n",
"disp(R_CO2)\n",
"disp('J/(kg.K)')\n",
"\n",
"disp('Gas constant for NO = ')\n",
"disp(R_NO)\n",
"disp('J/(kg.K)')\n",
"\n",
"disp('Gas constant for N2O = ')\n",
"disp(R_N2O)\n",
"disp('J/(kg.K)')"
   ]
   }
,
{
		   "cell_type": "markdown",
		   "metadata": {},
		   "source": [
			"## Example 1.3: 3.sce"
		   ]
		  },
  {
"cell_type": "code",
	   "execution_count": null,
	   "metadata": {
	    "collapsed": true
	   },
	   "outputs": [],
"source": [
"clc\n",
"d=0.004; // m\n",
"rho=1000; // kg/m^3\n",
"v=3; // m/s\n",
"meu=10^(-3); // khm(m.s)\n",
"\n",
"Re=rho*v*d/meu; \n",
"disp('Reynolds number =')\n",
"disp(Re)\n",
"disp('The Reynolds number is well in excess of 4000, so the flow is turbulent.')"
   ]
   }
],
"metadata": {
		  "kernelspec": {
		   "display_name": "Scilab",
		   "language": "scilab",
		   "name": "scilab"
		  },
		  "language_info": {
		   "file_extension": ".sce",
		   "help_links": [
			{
			 "text": "MetaKernel Magics",
			 "url": "https://github.com/calysto/metakernel/blob/master/metakernel/magics/README.md"
			}
		   ],
		   "mimetype": "text/x-octave",
		   "name": "scilab",
		   "version": "0.7.1"
		  }
		 },
		 "nbformat": 4,
		 "nbformat_minor": 0
}
