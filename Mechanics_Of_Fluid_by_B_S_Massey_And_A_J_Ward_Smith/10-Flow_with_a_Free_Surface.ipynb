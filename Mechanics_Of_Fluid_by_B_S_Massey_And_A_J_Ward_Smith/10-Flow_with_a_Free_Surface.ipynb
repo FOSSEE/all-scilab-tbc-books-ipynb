{
"cells": [
 {
		   "cell_type": "markdown",
	   "metadata": {},
	   "source": [
       "# Chapter 10: Flow with a Free Surface"
	   ]
	},
{
		   "cell_type": "markdown",
		   "metadata": {},
		   "source": [
			"## Example 10.1: 1.sce"
		   ]
		  },
  {
"cell_type": "code",
	   "execution_count": null,
	   "metadata": {
	    "collapsed": true
	   },
	   "outputs": [],
"source": [
"clc\n",
"\n",
"Q=400; // m^3/s\n",
"b2=20; // m\n",
"g=9.81; // m/s^2\n",
"b1=25; // m\n",
"\n",
"h2=(Q/b2/sqrt(g))^(2/3);\n",
"// Since energy is conserved\n",
"// h1 + u1^2/2g = h2 +u2^2/2g = h2 + h2/2 = 3h2/2\n",
"\n",
"// h1 + 1/2*g*(Q/(b1h1))^2 = 3*h2/2;\n",
"\n",
"// h1^3-5.16*h1^2+13.05 = 0;\n",
"\n",
"// By solving this cubic equation\n",
"\n",
"h1=4.52; // m\n",
"\n",
"disp('(a) The depth of the water under the brigde =')\n",
"disp(h2)\n",
"disp('m')\n",
"\n",
"disp('(b) the depth of water upstream =')\n",
"disp(h1)\n",
"disp('m')"
   ]
   }
,
{
		   "cell_type": "markdown",
		   "metadata": {},
		   "source": [
			"## Example 10.2: 2.sce"
		   ]
		  },
  {
"cell_type": "code",
	   "execution_count": null,
	   "metadata": {
	    "collapsed": true
	   },
	   "outputs": [],
"source": [
"clc\n",
"\n",
"w=0.04; // thickness of block in m\n",
"d=0.07; // depth of liquid in m\n",
"b=0.4; // m\n",
"g=9.81; // m/s^2\n",
"\n",
"H=d-w; \n",
"\n",
"Q=1.705*b*H^(3/2);\n",
"\n",
"u1=Q/d/b;\n",
"h=u1^2/(2*g);\n",
"\n",
"H1=H+h;\n",
"\n",
"Q1=1.705*b*H1^(3/2);\n",
"\n",
"disp('Rate of flow = ')\n",
"disp(Q1)\n",
"disp('m^3/s')"
   ]
   }
,
{
		   "cell_type": "markdown",
		   "metadata": {},
		   "source": [
			"## Example 10.3: 3.sce"
		   ]
		  },
  {
"cell_type": "code",
	   "execution_count": null,
	   "metadata": {
	    "collapsed": true
	   },
	   "outputs": [],
"source": [
"clc\n",
"\n",
"h1=0.45; // m\n",
"g=9.81; // m/s^2\n",
"b1=0.8; // m\n",
"h2=0.35; // m\n",
"b2=0.3; // m\n",
"disp('(a) the flow rate')\n",
"Q=sqrt((h1-h2)*2*g/((1/(h1*b1)^2)-(1/(h2*b2)^2)));\n",
"disp('(a) Flow rate =')\n",
"disp(Q)\n",
"disp('m^3/s')\n",
"\n",
"disp('(b) the Froude number at the throat')\n",
"Fr2=Q/(sqrt(g)*b2*h2^(3/2));\n",
"disp('The Froude number at the throat =')\n",
"disp(Fr2)\n",
"\n",
"disp('(c) the depth of water at the throat')\n",
"\n",
"// (h1/h2)^(3) + 1/2*(b2/b1)^2 = 3/2*(h1/h2)^2\n",
"\n",
"// The solution for the above eqn is as follows\n",
"// (h1/h2) = 0.5 + cos(2arcsin(b2/b1)/3)\n",
"\n",
"// h1/h2=1.467\n",
"\n",
"h2_new=h1/1.467;\n",
"disp('Depth of water at the throat =')\n",
"disp(h2_new)\n",
"disp('m')\n",
"\n",
"disp('(d)the new flow rate')\n",
"Q=sqrt(g)*b2*h2_new^(3/2);\n",
"disp('New flow rate =')\n",
"disp(Q)\n",
"disp('m^3/s')"
   ]
   }
,
{
		   "cell_type": "markdown",
		   "metadata": {},
		   "source": [
			"## Example 10.4: 4.sce"
		   ]
		  },
  {
"cell_type": "code",
	   "execution_count": null,
	   "metadata": {
	    "collapsed": true
	   },
	   "outputs": [],
"source": [
"clc\n",
"\n",
"Q=8.75; // m^3/s\n",
"w=5; // m\n",
"n=0.0015; \n",
"s=1/5000;\n",
"\n",
"// Q/(w*h0) = u = m^(2/3)*i^(1/2)/n = 1/0.015*(w*h0/(w+2*h0))^(2/3)*sqrt(s);\n",
"// Solution by trial gives h0\n",
"h0=1.8; // m\n",
"\n",
"q=1.75;\n",
"g=9.81;\n",
"hc=(q^2/g)^(1/3); // critical depth\n",
"\n",
"disp('Depth =')\n",
"disp(h0)\n",
"disp('m')"
   ]
   }
,
{
		   "cell_type": "markdown",
		   "metadata": {},
		   "source": [
			"## Example 10.5: 5.sce"
		   ]
		  },
  {
"cell_type": "code",
	   "execution_count": null,
	   "metadata": {
	    "collapsed": true
	   },
	   "outputs": [],
"source": [
"clc\n",
"\n",
"g=9.81; // m/s^2\n",
"T=5; // s\n",
"h=4; // m\n",
"\n",
"// lambda=g*T^2/(2*%pi)*tanh(2*%pi*h/lambda1);\n",
"// by trial method , we get \n",
"lambda1=28.04;\n",
"\n",
"lambda=g*T^2/(2*%pi)*tanh(2*%pi*h/lambda1);\n",
"disp('Wavelength =')\n",
"disp(lambda)\n",
"disp('m')"
   ]
   }
,
{
		   "cell_type": "markdown",
		   "metadata": {},
		   "source": [
			"## Example 10.6: 6.sce"
		   ]
		  },
  {
"cell_type": "code",
	   "execution_count": null,
	   "metadata": {
	    "collapsed": true
	   },
	   "outputs": [],
"source": [
"clc\n",
"\n",
"g=9.81; // m/s^2\n",
"T=12; // s\n",
"\n",
"c=g*T/(2*%pi);\n",
"\n",
"lambda=c*T;\n",
"\n",
"disp('Phase velocity =')\n",
"disp(c)\n",
"disp('m/s')\n",
"\n",
"disp('Wavelength =')\n",
"disp(lambda)\n",
"disp('m')"
   ]
   }
,
{
		   "cell_type": "markdown",
		   "metadata": {},
		   "source": [
			"## Example 10.7: 7.sce"
		   ]
		  },
  {
"cell_type": "code",
	   "execution_count": null,
	   "metadata": {
	    "collapsed": true
	   },
	   "outputs": [],
"source": [
"clc\n",
"\n",
"c=18.74; // m/s\n",
"lambda=225; // m\n",
"\n",
"disp('(a)Estimate the time elapsed since the waves were generated in a storm occurring 800 km out to sea. ')\n",
"\n",
"x=800*10^3; // m\n",
"cg=c/2;\n",
"\n",
"t=x/cg;\n",
"\n",
"disp('time elapsed =')\n",
"disp(t/3600)\n",
"disp('hours')\n",
"\n",
"disp('(b)Estimate the depth at which the waves begin to be significantly influenced by the sea bed as they approach the shore.')\n",
"\n",
"h1=lambda/2;\n",
"\n",
"h2=lambda/(2*%pi)*atanh(0.99);\n",
"\n",
"printf('The answers show that h lies in the range between about %f m and %f m', h2,h1)"
   ]
   }
],
"metadata": {
		  "kernelspec": {
		   "display_name": "Scilab",
		   "language": "scilab",
		   "name": "scilab"
		  },
		  "language_info": {
		   "file_extension": ".sce",
		   "help_links": [
			{
			 "text": "MetaKernel Magics",
			 "url": "https://github.com/calysto/metakernel/blob/master/metakernel/magics/README.md"
			}
		   ],
		   "mimetype": "text/x-octave",
		   "name": "scilab",
		   "version": "0.7.1"
		  }
		 },
		 "nbformat": 4,
		 "nbformat_minor": 0
}
