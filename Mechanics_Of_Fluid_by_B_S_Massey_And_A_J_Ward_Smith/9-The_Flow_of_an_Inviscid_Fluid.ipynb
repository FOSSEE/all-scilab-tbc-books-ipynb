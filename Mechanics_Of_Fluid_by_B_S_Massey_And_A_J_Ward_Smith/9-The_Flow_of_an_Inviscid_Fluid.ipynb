{
"cells": [
 {
		   "cell_type": "markdown",
	   "metadata": {},
	   "source": [
       "# Chapter 9: The Flow of an Inviscid Fluid"
	   ]
	},
{
		   "cell_type": "markdown",
		   "metadata": {},
		   "source": [
			"## Example 9.2: 2.sce"
		   ]
		  },
  {
"cell_type": "code",
	   "execution_count": null,
	   "metadata": {
	    "collapsed": true
	   },
	   "outputs": [],
"source": [
"clc\n",
"\n",
"// p_a-p_b=-1/2*rho*C^2*(1/R_A^2-1/R_B^2)\n",
"\n",
"rho_w=1000; // kg/m^3\n",
"g=9.81; // m/s^2\n",
"h=0.0115; // m\n",
"rho=1.22; // kg/m^3\n",
"R_A=0.4; // m\n",
"R_B=0.2; // m\n",
"\n",
"C=sqrt(rho_w*g*h*2/(rho*(1/R_B^2-1/R_A^2)));\n",
"\n",
"m=rho*C*R_B*integrate('1/R','R', R_B, R_A);\n",
"\n",
"disp('Mass flow rate =')\n",
"disp(m)\n",
"disp('kg/s')"
   ]
   }
,
{
		   "cell_type": "markdown",
		   "metadata": {},
		   "source": [
			"## Example 9.3: 3.sce"
		   ]
		  },
  {
"cell_type": "code",
	   "execution_count": null,
	   "metadata": {
	    "collapsed": true
	   },
	   "outputs": [],
"source": [
"clc\n",
"\n",
"// p=1/2*rho*w^2*R^2 + C\n",
"\n",
"\n",
"// At z=0\n",
"rho=900; // kg/m^3\n",
"g=9.81; // m/s^2\n",
"h=0.6; // m\n",
"\n",
"C=rho*g*h;\n",
"\n",
"// p = -rho*K^2/(2*R^2)+D\n",
"// From this we get, D = 9*w^2 + C\n",
"\n",
"// At z = 0\n",
"// p = D - rho*K^2/2/R^2;\n",
"p_max=150000; // Pa\n",
"\n",
"// From the above equation we obtain,\n",
"w=135.6; // rad/s\n",
"\n",
"disp('The maximum speed at which the paddles may rotate about their vertical axis =')\n",
"disp(w)\n",
"disp('rad/s')"
   ]
   }
,
{
		   "cell_type": "markdown",
		   "metadata": {},
		   "source": [
			"## Example 9.4: 4.sce"
		   ]
		  },
  {
"cell_type": "code",
	   "execution_count": null,
	   "metadata": {
	    "collapsed": true
	   },
	   "outputs": [],
"source": [
"clc\n",
"\n",
"U=40; // m/s\n",
"h=0.01; // m\n",
"\n",
"m=2*U*h;\n",
"disp('(a) the strength of the line source =')\n",
"disp(m)\n",
"disp('m^2/s')\n",
"\n",
"s = m/(2*%pi*U);\n",
"disp('(b) the distance s the line source is located behind the leading edge of the step =')\n",
"disp(s*1000)\n",
"disp('mm')\n",
"\n",
"x=0; // m\n",
"y=0.005; // m\n",
"\n",
"u=U + m/(2*%pi)*(x/(x^2+y^2));\n",
"v=m/(2*%pi)*(y/(x^2+y^2));\n",
"disp('Horizontal component =')\n",
"disp(u)\n",
"disp('m/s')\n",
"\n",
"disp('Vertical Component =')\n",
"disp(v)\n",
"disp('m/s')"
   ]
   }
,
{
		   "cell_type": "markdown",
		   "metadata": {},
		   "source": [
			"## Example 9.5: 5.sce"
		   ]
		  },
  {
"cell_type": "code",
	   "execution_count": null,
	   "metadata": {
	    "collapsed": true
	   },
	   "outputs": [],
"source": [
"clc\n",
"\n",
"b=0.0375; // m\n",
"t=0.0625; // m\n",
"U=5; // m/s\n",
"\n",
"m=2*%pi*U*t/atan(2*b*t/(t^2-b^2));\n",
"\n",
"L=2*b*(1+m/(%pi*U*b))^(1/2);\n",
"\n",
"disp('L =')\n",
"disp(L)\n",
"disp('m')"
   ]
   }
,
{
		   "cell_type": "markdown",
		   "metadata": {},
		   "source": [
			"## Example 9.7: 7.sce"
		   ]
		  },
  {
"cell_type": "code",
	   "execution_count": null,
	   "metadata": {
	    "collapsed": true
	   },
	   "outputs": [],
"source": [
"clc\n",
"\n",
"l1=10; // m\n",
"r1=2; // m\n",
"C_D1=0.0588;\n",
"theta1=6.5; // degrees\n",
"\n",
"AR1=l1/r1; // Aspect ratio\n",
"\n",
"C_L=0.914;\n",
"\n",
"C_D2=C_L^2/(%pi*AR1);\n",
"theta2=atand(C_L/(%pi*AR1))\n",
"\n",
"C_D3=C_D1-C_D2;\n",
"theta3=theta1-theta2;\n",
"\n",
"AR2=8;\n",
"\n",
"C_Di=C_L^2/(%pi*AR2);\n",
"C_D=C_Di+C_D3;\n",
"\n",
"theta4=atand(C_L/(%pi*AR2));\n",
"theta=theta4+theta3;\n",
"\n",
"disp('Lift coefficient =')\n",
"disp(C_L)\n",
"\n",
"disp('Drag coefficient =')\n",
"disp(C_D)\n",
"\n",
"disp('Effective angle of attack =')\n",
"disp(theta)\n",
"disp('degrees')"
   ]
   }
],
"metadata": {
		  "kernelspec": {
		   "display_name": "Scilab",
		   "language": "scilab",
		   "name": "scilab"
		  },
		  "language_info": {
		   "file_extension": ".sce",
		   "help_links": [
			{
			 "text": "MetaKernel Magics",
			 "url": "https://github.com/calysto/metakernel/blob/master/metakernel/magics/README.md"
			}
		   ],
		   "mimetype": "text/x-octave",
		   "name": "scilab",
		   "version": "0.7.1"
		  }
		 },
		 "nbformat": 4,
		 "nbformat_minor": 0
}
