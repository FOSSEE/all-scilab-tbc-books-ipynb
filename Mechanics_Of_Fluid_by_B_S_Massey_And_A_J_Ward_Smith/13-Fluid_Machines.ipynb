{
"cells": [
 {
		   "cell_type": "markdown",
	   "metadata": {},
	   "source": [
       "# Chapter 13: Fluid Machines"
	   ]
	},
{
		   "cell_type": "markdown",
		   "metadata": {},
		   "source": [
			"## Example 13.1: 1.sce"
		   ]
		  },
  {
"cell_type": "code",
	   "execution_count": null,
	   "metadata": {
	    "collapsed": true
	   },
	   "outputs": [],
"source": [
"clc\n",
"\n",
"// Maximum hydraulic efficiency occurs for minimum pressure loss, that is, when\n",
"\n",
"// dp1/dQ=2.38Q-1.43=0\n",
"\n",
"Q_opt=1.43/2.38;\n",
"\n",
"p1_min=1.19*Q_opt^2-1.43*Q_opt+0.47; // MPa\n",
"\n",
"rho=1000; // kg/m^3\n",
"g=9.81; // m/s^2\n",
"w=69.1; // rad/s\n",
"P=200*10^3; // W\n",
"Ohm_P=0.565; // rad\n",
"d=0.5; // m\n",
"h=0.06; // m\n",
"\n",
"p1=p1_min*10^6/(rho*g); // mH2O, coversion of units\n",
"\n",
"H=(w*P^(1/2)/(rho^(1/2)*Ohm_P))^(4/5)/g;\n",
"\n",
"Hydraulic_efficiency=(H-p1)/H;\n",
"disp('Hydraulic Efficiency =')\n",
"disp(Hydraulic_efficiency)\n",
"\n",
"Overall_efficiency=P/(Q_opt*rho*g*H);\n",
"disp('Overall Efficiency =')\n",
"disp(Overall_efficiency)\n",
"\n",
"H_Euler=H-p1;\n",
"\n",
"u1=w*0.25;\n",
"v_w1=g*H_Euler/u1;\n",
"A=%pi*d*h*0.95; \n",
"v_r=Q_opt/A;\n",
"\n",
"alpha1=atand(v_r/v_w1);\n",
"disp('Outlet angles of the guide vanes =')\n",
"disp(alpha1)\n",
"disp('degrees')\n",
"\n",
"beta1=atand(v_r/(v_w1-u1));\n",
"disp('Rotor blade angle at inlet =')\n",
"disp(beta1)\n",
"disp('degrees')\n",
"u2=w*0.325/2;\n",
"beta2=atand(v_r/u2);\n",
"disp('Rotor blade angle at outlet =')\n",
"disp(beta2)\n",
"disp('degrees')"
   ]
   }
,
{
		   "cell_type": "markdown",
		   "metadata": {},
		   "source": [
			"## Example 13.2: 2.sce"
		   ]
		  },
  {
"cell_type": "code",
	   "execution_count": null,
	   "metadata": {
	    "collapsed": true
	   },
	   "outputs": [],
"source": [
"clc\n",
"\n",
"w=6.25;\n",
"D=0.75; // m\n",
"gv_angle=15; // guide vane angle in degrees\n",
"g=9.81; // m/s^2\n",
"H=27.5; // m\n",
"A1=0.2; // m^2\n",
"rho=1000; // kg/m^3\n",
"p_atm=101.3*10^3;\n",
"p_min=35*10^3;\n",
"\n",
"u1=%pi*w*D;\n",
"v1=u1*sind(105)/sind(60);\n",
"v_r1=v1*sind(gv_angle);\n",
"v_w1=v1*cosd(gv_angle);\n",
"v_w2=0;\n",
"\n",
"n_hydraulic=u1*v_w1/g/H;\n",
"\n",
"n_overall=0.97*n_hydraulic;\n",
"disp('Overall efficiency =')\n",
"disp(n_overall)\n",
"\n",
"Q=A1*v_r1;\n",
"\n",
"P=n_overall*Q*rho*g*H;\n",
"Ohm_P=w*2*%pi/(g*H)^(5/4)*(P/rho)^(1/2);\n",
"\n",
"// sigma > 0.119*(0.5)^(1.84) = 0.0331\n",
"\n",
"sigma=0.0331;\n",
"\n",
"//((p_atm-p_min)/(rho*g)-z0)/H > 0.0331\n",
"\n",
"z0=((p_atm-p_min)/(rho*g))-sigma*H;\n",
"disp('Limiting value for the height of the draft tube above =')\n",
"disp(z0)\n",
"disp('m')"
   ]
   }
,
{
		   "cell_type": "markdown",
		   "metadata": {},
		   "source": [
			"## Example 13.3: 3.sce"
		   ]
		  },
  {
"cell_type": "code",
	   "execution_count": null,
	   "metadata": {
	    "collapsed": true
	   },
	   "outputs": [],
"source": [
"clc\n",
"\n",
"// Static head upstream = -11 mm H2O = -11*1000/1.2 mm air = -9.167 m air\n",
"\n",
"h=9.167; // m air\n",
"g=9.81; // m/s^2\n",
"d1=0.75; // m, tip diameters\n",
"d2=0.4; // m, hub diameters\n",
"d3=0.075; // m, diameter above atmospheric pressure\n",
"d4=0.011; // m, diameter below atmospheric pressure\n",
"P=6500; // W\n",
"w=25;\n",
"rho=1000; // kg/m^3\n",
"\n",
"v=sqrt(2*g*h); // Velocity upstream\n",
"Q=%pi/4*d1^2*v; // Volume flow rate\n",
"\n",
"H=d3+d4; // Total head rise across fans\n",
"p=rho*g*H;\n",
"\n",
"n_fan=Q*p/P;\n",
"disp('Total efficiency =')\n",
"disp(n_fan)\n",
"\n",
"p_ideal=p/n_fan;\n",
"u=%pi*w*(d1+d2)/2;\n",
"\n",
"v_w2_A=p_ideal/(2*1.2*u);\n",
"\n",
"v1=Q/(%pi/4*(d1^2-d2^2  ));\n",
"\n",
"beta1_A=atand(v1/u);\n",
"\n",
"beta2_A=atand(v1/(u-v_w2_A));\n",
"\n",
"beta1_B=atand(v1/(u+v_w2_A));\n",
"\n",
"beta2_B=atand(v1/u);\n",
"\n",
"printf('Inlet angles for resp. fans %f & %f \n\n', beta1_A, beta1_B)\n",
"\n",
"printf('Outlet angles for resp. fans %f & %f', beta2_A, beta2_B)"
   ]
   }
,
{
		   "cell_type": "markdown",
		   "metadata": {},
		   "source": [
			"## Example 13.5: 5.sce"
		   ]
		  },
  {
"cell_type": "code",
	   "execution_count": null,
	   "metadata": {
	    "collapsed": true
	   },
	   "outputs": [],
"source": [
"clc\n",
"\n",
"Q=0.04; // m^3/s\n",
"d=0.15; // m\n",
"h=28; // m\n",
"f=0.006;\n",
"l=38; // m\n",
"g=9.81;\n",
"fre=50; // Hz\n",
"n_manometer = 0.75; \n",
"theta=30; // degrees\n",
"\n",
"v=Q/(%pi/4*d^2);\n",
"h1=(3+4*f*l/d)*v^2/2/g; // Total head loss through pipes and valves\n",
"\n",
"h_m=h+h1; // Manometric head\n",
"\n",
"// w=2*%pi*50/n; where n = number of pairs of poles.\n",
"// Ohm_s=w*Q^(1/2)/(g*H)^(3/4) = 0.876/n rad\n",
"\n",
"// If n = 2, Ohm_s = 0.438 rad, which suggests pump 1 or 2, and ω = 157 rad/s. Outlet flow area = %pi*D*D/10\n",
"\n",
"// v_r2=0.04/(%pi*D^2/10)\n",
"// u2= ω*D/2 = 78.54 D\n",
"\n",
"// v_w2= g*h_m/(n_manometer*u2) = 5.06/D; // m^2/s\n",
"\n",
"// tan(theta) = v_r2/(u2-v_w2)\n",
"\n",
"// Solving above equation, we get\n",
"// 78.54*D^3 - 5.06*D - 0.2205 = 0;\n",
"\n",
"// Solving above cubic equation we get\n",
"\n",
"D = 0.272; // m\n",
"disp('D = ')\n",
"disp(D)\n",
"disp('m')\n",
"disp('That is near enough. So we choose pump 1')"
   ]
   }
,
{
		   "cell_type": "markdown",
		   "metadata": {},
		   "source": [
			"## Example 13.6: 6.sce"
		   ]
		  },
  {
"cell_type": "code",
	   "execution_count": null,
	   "metadata": {
	    "collapsed": true
	   },
	   "outputs": [],
"source": [
"clc\n",
"\n",
"f=0.0085;\n",
"l=21.1; // m\n",
"d=0.09; // m\n",
"g=9.81; // m/s^2\n",
"rho=1000; // kg/m^3\n",
"\n",
"// h1=hf=(4*f*l/d)*(16*Q^2/(2*%pi^2*d^4*g)) = (100*Q)^2\n",
"\n",
"disp('(a)The head loss due to pipe friction in terms of flow rate Q is given as')\n",
"disp('(100*Q)^2')\n",
"\n",
"// For Pump\n",
"Q=[0:0.006:0.042 0.052];\n",
"H=[15 16 16.5 16.5 15.5 13.5 10.5 7 0]\n",
"plot(Q,H,'r')\n",
"xlabel('Q(m^3/s)')\n",
"ylabel('H(m)')\n",
"\n",
"// For Pipe System\n",
"\n",
"// H1 = 11.5 + (100*Q)^2;\n",
"\n",
"Q=[0:0.01:0.06];\n",
"plot(Q,(11.5+10000*Q^2),'b')\n",
"\n",
"legend('pipe system', 'pump')\n",
"\n",
"// From the plot of the pump and pipe characteristics, the intersection is at \n",
"\n",
"H=16; // m\n",
"Q=0.021; // m^3/s\n",
"n=0.74;\n",
"\n",
"P=rho*g*H*Q/n;\n",
"\n",
"disp('(b)Power required =')\n",
"disp(P)\n",
"disp('W')"
   ]
   }
,
{
		   "cell_type": "markdown",
		   "metadata": {},
		   "source": [
			"## Example 13.7: 7.sce"
		   ]
		  },
  {
"cell_type": "code",
	   "execution_count": null,
	   "metadata": {
	    "collapsed": true
	   },
	   "outputs": [],
"source": [
"clc\n",
"\n",
"H=16.5; // m\n",
"Q=0.015; // m^3/s\n",
"n=0.63;\n",
"H_s=11.5;\n",
"rho=1000; // kg/m^3\n",
"g=9.81; // m/s^2\n",
"\n",
"h_f=(100*Q)^2; // frictional head loss\n",
"\n",
"h_valve = H - H_s - h_f;\n",
"\n",
"P=rho*g*H*Q/n;\n",
"disp('(i) the power consumption of the pump =')\n",
"disp(P/1000)\n",
"disp('kW')\n",
"\n",
"disp('(ii) The power dissipated in the pump =')\n",
"P_d=P*(1-n)/1000;\n",
"disp(P_d)\n",
"disp('kW')\n",
"\n",
"disp('(iii) The power lost by pipe friction =')\n",
"P_f=rho*g*h_f*Q;\n",
"disp(P_f/1000)\n",
"disp('kW')\n",
"\n",
"disp('(iv) The power lost in the valve =')\n",
"P_valve=rho*g*h_valve*Q;\n",
"disp(P_valve/1000)\n",
"disp('kW')\n",
"\n",
"P_s=rho*g*H_s*Q;\n",
"\n",
"n_overall = P_s/P*100;\n",
"\n",
"disp('(b) Overall efficiency of the installation =')\n",
"disp(n_overall)\n",
"disp('%')"
   ]
   }
],
"metadata": {
		  "kernelspec": {
		   "display_name": "Scilab",
		   "language": "scilab",
		   "name": "scilab"
		  },
		  "language_info": {
		   "file_extension": ".sce",
		   "help_links": [
			{
			 "text": "MetaKernel Magics",
			 "url": "https://github.com/calysto/metakernel/blob/master/metakernel/magics/README.md"
			}
		   ],
		   "mimetype": "text/x-octave",
		   "name": "scilab",
		   "version": "0.7.1"
		  }
		 },
		 "nbformat": 4,
		 "nbformat_minor": 0
}
