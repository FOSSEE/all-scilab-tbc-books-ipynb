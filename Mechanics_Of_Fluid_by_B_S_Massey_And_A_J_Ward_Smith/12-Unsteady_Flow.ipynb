{
"cells": [
 {
		   "cell_type": "markdown",
	   "metadata": {},
	   "source": [
       "# Chapter 12: Unsteady Flow"
	   ]
	},
{
		   "cell_type": "markdown",
		   "metadata": {},
		   "source": [
			"## Example 12.1: 1.sce"
		   ]
		  },
  {
"cell_type": "code",
	   "execution_count": null,
	   "metadata": {
	    "collapsed": true
	   },
	   "outputs": [],
"source": [
"clc\n",
"\n",
"Q=0.05; // m^3/s\n",
"d=0.15; // m^2\n",
"h=8; // m\n",
"g=9.81; // m/s^2\n",
"l=90; // m\n",
"f=0.007;\n",
"\n",
"u1=Q/(%pi/4*d^2);\n",
"\n",
"t=-integrate('1/((h*g/l)+(2*f/d)*u^2)', 'u', u1, 0);\n",
"disp('Time for which flow into the tank continues after the power failure = ')\n",
"disp(t)\n",
"disp('s')"
   ]
   }
,
{
		   "cell_type": "markdown",
		   "metadata": {},
		   "source": [
			"## Example 12.4: 4.sce"
		   ]
		  },
  {
"cell_type": "code",
	   "execution_count": null,
	   "metadata": {
	    "collapsed": true
	   },
	   "outputs": [],
"source": [
"clc\n",
"\n",
"disp('(b) Estimate the height of tank required')\n",
"\n",
"f=0.006;\n",
"l=1400; // m\n",
"g=9.81; // m/s^2\n",
"d1=0.75; // m\n",
"d2=3; // m\n",
"Q=1.2; // m^3/s\n",
"a=20; // m\n",
"\n",
"K=4*f*l/(2*g*d1);\n",
"\n",
"// 2*K*Y = l*a/(g*A) = 8.919 s^2\n",
"\n",
"// Y=2*K*Y/2*K\n",
"\n",
"Y=8.919/(2*K);\n",
"// When t=0\n",
"\n",
"u0=Q/(%pi/4*d1^2);\n",
"\n",
"y0=K*u0^2;\n",
"\n",
"C=-Y/K/exp(y0/Y);\n",
"\n",
"// To determine the height of the surge tank, we consider the condition y = y_max when u = 0. \n",
"\n",
"// 0 = 1/K*(y_max+Y) + C*exp(y_max/Y)\n",
"\n",
"// From the above eqn we get\n",
"\n",
"y_max=-Y;\n",
"\n",
"H=a-y_max;\n",
"disp('The minimum height of the surge tank =')\n",
"disp(H)\n",
"disp('m')\n",
"\n",
"disp('The actual design height should exceed the minimum required, say 23 m')"
   ]
   }
],
"metadata": {
		  "kernelspec": {
		   "display_name": "Scilab",
		   "language": "scilab",
		   "name": "scilab"
		  },
		  "language_info": {
		   "file_extension": ".sce",
		   "help_links": [
			{
			 "text": "MetaKernel Magics",
			 "url": "https://github.com/calysto/metakernel/blob/master/metakernel/magics/README.md"
			}
		   ],
		   "mimetype": "text/x-octave",
		   "name": "scilab",
		   "version": "0.7.1"
		  }
		 },
		 "nbformat": 4,
		 "nbformat_minor": 0
}
