{
"cells": [
 {
		   "cell_type": "markdown",
	   "metadata": {},
	   "source": [
       "# Chapter 2: Fluid Statics"
	   ]
	},
{
		   "cell_type": "markdown",
		   "metadata": {},
		   "source": [
			"## Example 2.1: 1.sce"
		   ]
		  },
  {
"cell_type": "code",
	   "execution_count": null,
	   "metadata": {
	    "collapsed": true
	   },
	   "outputs": [],
"source": [
"clc\n",
"d=1.5; // m\n",
"m=1.2; // kg\n",
"rate=0.0065; // K/m\n",
"R=287; // J/(kg.K)\n",
"T_0=288.15; // K\n",
"p_0=101*10^3; // Pa\n",
"g=9.81; // m/s^2\n",
"\n",
"rho=m/(%pi*d^3/6);\n",
"rho_0=p_0/R/T_0;\n",
"\n",
"// log(rho/rho_0)=(g/R*rate - 1)*log((T_0-rate*z)/T_0)\n",
"\n",
"z=1/rate*(T_0-T_0*exp(log(rho/rho_0)/(g/R/rate-1)));\n",
"\n",
"disp('The height above sea level to which the ballon will rise = ')\n",
"disp(z)\n",
"disp('m')\n",
"\n",
"printf('The height above sea level to which the ballon will rise = %f m', z)"
   ]
   }
,
{
		   "cell_type": "markdown",
		   "metadata": {},
		   "source": [
			"## Example 2.2: 2.sce"
		   ]
		  },
  {
"cell_type": "code",
	   "execution_count": null,
	   "metadata": {
	    "collapsed": true
	   },
	   "outputs": [],
"source": [
"clc\n",
"d=2; // m\n",
"a=1; // radius in m\n",
"rho=880; // density of oil in kg/m^3\n",
"g=9.81; // m/s^2\n",
"rho_w=1000; // density of water in kg/m^3\n",
"\n",
"C_0=4*a/3/%pi; // centroid of the upper semicircle\n",
"h1=a-C_0; // distance of the centroid from the top\n",
"\n",
"P1=rho*g*h1; // Pressure of the oil at this point\n",
"F1=P1*%pi*a^2/2; // Force exerted by the oil on the upper half of the wall\n",
"\n",
"cp1=a^4*(%pi/8-8/(9*%pi)); // (AK^2)_C\n",
"\n",
"cp2=cp1/(%pi*a^2/2*h1); // Centre of Pressure below the centroid\n",
"\n",
"cp0=cp2+h1; // Centre of Pressure below the top\n",
"\n",
"P_w=(rho*g*a)+(rho_w*g*C_0);\n",
"F_w=P_w*%pi*a^2/2;\n",
"\n",
"h2=C_0+rho/rho_w;\n",
"cp2_w=cp1/(%pi*a^2/2*h2);\n",
"cp0_w=a+C_0+cp2_w; // below the top of cylinder\n",
"\n",
"F_total=F1+F_w;\n",
"\n",
"// F1*cp0 + F_w*cp0_w = F_total*x\n",
"\n",
"x=(F1*cp0 + F_w*cp0_w)/F_total;\n",
"\n",
"disp('Total force =')\n",
"disp(F_total)\n",
"disp('N')\n",
"\n",
"disp('Distance of line of action of total force from top of cylinder =')\n",
"disp(x)\n",
"disp('m')"
   ]
   }
,
{
		   "cell_type": "markdown",
		   "metadata": {},
		   "source": [
			"## Example 2.3: 3.sce"
		   ]
		  },
  {
"cell_type": "code",
	   "execution_count": null,
	   "metadata": {
	    "collapsed": true
	   },
	   "outputs": [],
"source": [
"clc\n",
"\n",
"rho=1000; // kg/m^3\n",
"g=9.81; // m/s^2\n",
"r=4; // m\n",
"h=2; // m\n",
"l=5; // m\n",
"theta=%pi/6;\n",
"\n",
"A=h*l;\n",
"\n",
"F_h=rho*g*h*A; // Horizontal force\n",
"\n",
"C0=(2^2/(12*2))+2; // distance of line of action below the free surface\n",
"\n",
"AB=4-4*cos(theta);\n",
"\n",
"F_v=rho*g*l*(AB*1+%pi*r^2*theta/(2*%pi)-1/2*h*r*cos(theta));\n",
"BC=0.237; // m\n",
"\n",
"F_net=sqrt(F_h^2+F_v^2);\n",
"\n",
"phi=atand(F_v/F_h);\n",
"\n",
"disp('Net force =')\n",
"disp(F_net)\n",
"disp('N')\n",
"\n",
"disp('Angle between net force and horizontal =')\n",
"disp(phi)\n",
"disp('degrees')"
   ]
   }
,
{
		   "cell_type": "markdown",
		   "metadata": {},
		   "source": [
			"## Example 2.4: 4.sce"
		   ]
		  },
  {
"cell_type": "code",
	   "execution_count": null,
	   "metadata": {
	    "collapsed": true
	   },
	   "outputs": [],
"source": [
"clc\n",
"\n",
"m=10; // kg\n",
"M=80; // kg\n",
"H=1.5; // m\n",
"rho=1026; // kg/m^3\n",
"g=9.81; // m/s^2\n",
"d=1; // m\n",
"\n",
"// m*H + M*H/2 =(M+m)(OG)\n",
"\n",
"OG=(m*H + M*H/2)/(M+m);\n",
"\n",
"// For vertical equilibrium, buoyancy = weight\n",
"h=(M+m)/(rho*%pi/4*d^2);\n",
"\n",
"BM=(%pi*d^4/64)/(%pi*d^2*h/4);\n",
"OB=h/2;\n",
"\n",
"GM=OB+BM-OG;\n",
"\n",
"disp('GM =')\n",
"disp(GM)\n",
"disp('m')\n",
"\n",
"disp('Since this is negative (i.e. M is below G) buoy is unstable.')"
   ]
   }
,
{
		   "cell_type": "markdown",
		   "metadata": {},
		   "source": [
			"## Example 2.5: 5.sce"
		   ]
		  },
  {
"cell_type": "code",
	   "execution_count": null,
	   "metadata": {
	    "collapsed": true
	   },
	   "outputs": [],
"source": [
"clc\n",
"m=10; // kg\n",
"M=80; // kg\n",
"OG=0.8333; // m\n",
"rho=1026; // kg/m^3\n",
"g=9.81; // m/s^2\n",
"d=1; // m\n",
"W=(m+M)*g;\n",
"\n",
"// W(OG) = (W + F)(OB + BM) = rho*g*%pi/4*d^2*h1*(h1/2+d^2/(16*h1))\n",
"\n",
"h1=sqrt(2*(W*OG/(rho*g*%pi/4*d^2) - d^2/16));\n",
"\n",
"F=rho*g*%pi/4*d^2*h1 - W;\n",
"\n",
"disp('Least vertical downward force =')\n",
"disp(F)\n",
"disp('N')\n",
"\n",
"disp('Depth of immersion =')\n",
"disp(h1)\n",
"disp('m')"
   ]
   }
,
{
		   "cell_type": "markdown",
		   "metadata": {},
		   "source": [
			"## Example 2.6: 6.sce"
		   ]
		  },
  {
"cell_type": "code",
	   "execution_count": null,
	   "metadata": {
	    "collapsed": true
	   },
	   "outputs": [],
"source": [
"clc\n",
"\n",
"a=5; // m/s^2\n",
"s=0.5; // m\n",
"phi=atand(1/4); // degrees\n",
"g=9.81; // m/s^2\n",
"rho=880; // kg/m^3\n",
"\n",
"a_x=a*cosd(phi); // Horizontal component of acceleration\n",
"a_z=a*sind(phi); // Vertical component of acceleration\n",
"\n",
"theta=atand(a_x/(a_z+g)); // b=tan(theta)\n",
"\n",
"d=(tand(phi)+tand(theta))/(1-tand(phi)*tand(theta));\n",
"\n",
"c=s*d;\n",
"\n",
"V=s*(s^2-s*c/2);\n",
"\n",
"disp('(a) Volume left in the tank =')\n",
"disp(V*1000)\n",
"disp('L')\n",
"\n",
"P=rho*g*s*cosd(phi);\n",
"disp('(b)Pressure at the lowest corners of the tank =')\n",
"disp(P)\n",
"disp('Pa')"
   ]
   }
],
"metadata": {
		  "kernelspec": {
		   "display_name": "Scilab",
		   "language": "scilab",
		   "name": "scilab"
		  },
		  "language_info": {
		   "file_extension": ".sce",
		   "help_links": [
			{
			 "text": "MetaKernel Magics",
			 "url": "https://github.com/calysto/metakernel/blob/master/metakernel/magics/README.md"
			}
		   ],
		   "mimetype": "text/x-octave",
		   "name": "scilab",
		   "version": "0.7.1"
		  }
		 },
		 "nbformat": 4,
		 "nbformat_minor": 0
}
