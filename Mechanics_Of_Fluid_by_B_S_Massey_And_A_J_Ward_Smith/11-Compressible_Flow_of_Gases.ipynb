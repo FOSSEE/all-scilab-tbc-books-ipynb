{
"cells": [
 {
		   "cell_type": "markdown",
	   "metadata": {},
	   "source": [
       "# Chapter 11: Compressible Flow of Gases"
	   ]
	},
{
		   "cell_type": "markdown",
		   "metadata": {},
		   "source": [
			"## Example 11.1: 1.sce"
		   ]
		  },
  {
"cell_type": "code",
	   "execution_count": null,
	   "metadata": {
	    "collapsed": true
	   },
	   "outputs": [],
"source": [
"clc\n",
"\n",
"disp('(a) the density at plane 1')\n",
"\n",
"p1=1.5*10^5; // N/m^2\n",
"R=287; // J/kg.K\n",
"T1=271; // K\n",
"\n",
"rho1=p1/R/T1; \n",
"disp('Density at plane 1 =')\n",
"disp(rho1)\n",
"disp('kg/m^3')\n",
"\n",
"disp('(b) the stagnation temperature')\n",
"\n",
"u1=270; // m/s\n",
"cp=1005; // J/Kg.K\n",
"\n",
"T0=T1+u1^2/(2*cp);\n",
"disp('The stagnation temperature =')\n",
"disp(T0)\n",
"disp('K')\n",
"\n",
"disp('(c) the temperature and density at plane 2')\n",
"\n",
"u2=320; // m/s\n",
"p2=1.2*10^5; // N/m^2\n",
"\n",
"T2=T0-u2^2/(2*cp);\n",
"disp('Temperature = ')\n",
"disp(T2)\n",
"disp('K')\n",
"\n",
"rho2=p2/(R*T2);\n",
"disp('density =')\n",
"disp(rho2)\n",
"disp('kg/m^3')"
   ]
   }
,
{
		   "cell_type": "markdown",
		   "metadata": {},
		   "source": [
			"## Example 11.2: 2.sce"
		   ]
		  },
  {
"cell_type": "code",
	   "execution_count": null,
	   "metadata": {
	    "collapsed": true
	   },
	   "outputs": [],
"source": [
"clc\n",
"\n",
"disp('(a) the angle through which the airstream is deflected')\n",
"\n",
"y=1.4;\n",
"R=287; // J/kg.K\n",
"T1=238; // K\n",
"u1=773; // m/s\n",
"beta1=38; // degrees\n",
"cp=1005; // J/kg.K\n",
"\n",
"a1=sqrt(y*R*T1);\n",
"M1=u1/a1;\n",
"\n",
"beta2=atand(tand(beta1)*((2+(y-1)*M1^2*(sind(beta1))^2)/((y+1)*M1^2*(sind(beta1))^2)));\n",
"\n",
"deflection_angle=beta1-beta2;\n",
"disp('Deflection angle =')\n",
"disp(deflection_angle)\n",
"disp('degrees')\n",
"\n",
"disp('(b) the final Mach number')\n",
"\n",
"u2=u1*cosd(beta1)/cosd(beta2);\n",
"\n",
"T2=T1+1/(2*cp)*(u1^2-u2^2);\n",
"a2=sqrt(y*R*T2);\n",
"\n",
"M2=u2/a2;\n",
"\n",
"disp('Final Mach number =')\n",
"disp(M2)\n",
"\n",
"disp('(c) the pressure ratio across the wave.')\n",
"ratio=T2/T1*(tand(beta1)/tand(beta2));\n",
"disp('Pressure ratio =')\n",
"disp(ratio)"
   ]
   }
,
{
		   "cell_type": "markdown",
		   "metadata": {},
		   "source": [
			"## Example 11.3: 3.sce"
		   ]
		  },
  {
"cell_type": "code",
	   "execution_count": null,
	   "metadata": {
	    "collapsed": true
	   },
	   "outputs": [],
"source": [
"clc\n",
"\n",
"M1=1.8;\n",
"theta1=20.73; // degrees\n",
"theta2=30.73; // degrees\n",
"M2=2.162;\n",
"p1=50; // kPa\n",
"y=1.4;\n",
"\n",
"p2=p1*((1+(y-1)/2*M1^2)/(1+(y-1)/2*M2^2))^(y/(y-1));\n",
"\n",
"disp('Pressure after the bend =')\n",
"disp(p2)\n",
"disp('kPa')"
   ]
   }
,
{
		   "cell_type": "markdown",
		   "metadata": {},
		   "source": [
			"## Example 11.4: 4.sce"
		   ]
		  },
  {
"cell_type": "code",
	   "execution_count": null,
	   "metadata": {
	    "collapsed": true
	   },
	   "outputs": [],
"source": [
"clc\n",
"\n",
"p=28*10^3; // N/m^2\n",
"y=1.4;\n",
"M1=2.4;\n",
"M2=1;\n",
"T0=291; // K\n",
"R=287; // J/kg.K\n",
"\n",
"disp('(a) the pressures in the reservoir and at the nozzle throat')\n",
"\n",
"p0=p*(1+(y-1)/2*M1^2)^(y/(y-1));\n",
"pc=p0*(1+(y-1)/2*M2^2)^(-y/(y-1));\n",
"\n",
"disp('Pressure in the reservoir =')\n",
"disp(p0)\n",
"disp('N/m^2')\n",
"\n",
"disp('Pressure at the nozzle throat =')\n",
"disp(pc)\n",
"disp('N/m^2')\n",
"\n",
"disp('(b) the temperature and velocity of the air at the exit.')\n",
"\n",
"T=T0*(1+(y-1)/2*M1^2)^(-1);\n",
"\n",
"disp('Temperature =')\n",
"disp(T)\n",
"disp('K')\n",
"\n",
"a=sqrt(y*R*T)\n",
"\n",
"u=M1*a;\n",
"\n",
"disp('Velocity =')\n",
"disp(u)\n",
"disp('m/s')"
   ]
   }
,
{
		   "cell_type": "markdown",
		   "metadata": {},
		   "source": [
			"## Example 11.5: 5.sce"
		   ]
		  },
  {
"cell_type": "code",
	   "execution_count": null,
	   "metadata": {
	    "collapsed": true
	   },
	   "outputs": [],
"source": [
"clc\n",
"\n",
"M_He=1.8;\n",
"y_He=5/3;\n",
"y_air=1.4;\n",
"p2=30; // kPa\n",
"\n",
"// (A/At)=(1+(y-1)/2*M^2)^((y+1)/(y-1))/M^2*(2/(y+1))^((y+1)/(y-1))\n",
"\n",
"//    = (1+1/3*1.8^2)^(4)/1.8^(2)*(3/4)^(4) = 1.828 for helium\n",
"\n",
"//    = (1+0.2*M^2)^6/M^2*1/1.2^6    for air\n",
"// Hence by trial \n",
"\n",
"M1=1.715;\n",
"disp('Mach number before the shock =')\n",
"disp(M1)\n",
"\n",
"p1=p2/((2*y_air*M1^2-(y_air-1))/(y_air+1));\n",
"\n",
"p0_1=p1*(1+(y_air-1)/2*M1^2)^(y_air/(y_air-1));\n",
"\n",
"disp('Stagnation Pressure =')\n",
"disp(p0_1)\n",
"disp('kPa')"
   ]
   }
,
{
		   "cell_type": "markdown",
		   "metadata": {},
		   "source": [
			"## Example 11.6: 6.sce"
		   ]
		  },
  {
"cell_type": "code",
	   "execution_count": null,
	   "metadata": {
	    "collapsed": true
	   },
	   "outputs": [],
"source": [
"clc\n",
"\n",
"p0=510; // kPa\n",
"pA=500; // kPa\n",
"pB=280; // kPa\n",
"d=0.02; // m\n",
"l_max=12; // m\n",
"\n",
"disp('(a) the value of the friction factor for the pipe')\n",
"\n",
"// At A, pA/p0 = 500/510 = 0.980. From the Isentropic Flow Tables (Appendix 3), M_A = 0.17.\n",
"// From the Fanno Flow Tables (Appendix 3)for M_A = 0.17 and γ = 1.4, pc/pA = 0.1556 and (fl_maxP/A)_A = 21.37\n",
"\n",
"pC=pA*0.1556;\n",
"\n",
"// From the Fanno Tables at pc/pB = 0.278,M_B = 0.302 and (fl_maxP/A)B = 5.21.\n",
"// For a circular pipe P/A=4/d\n",
"M_B=0.302;\n",
"f=(21.37-5.21)/l_max/4*d;\n",
"\n",
"disp('friction factor =')\n",
"disp(f)\n",
"\n",
"disp('(b) the overall length of the pipe, L, if the flow exhausts to atmosphere')\n",
"\n",
"p=100; // kPa\n",
"\n",
"// At exit, pc/p = 77.8/100 = 0.778. From the Fanno Tables, (fl_maxP/A) = 0.07\n",
"L=l_max*(21.37-0.07)/(21.37-5.21);\n",
"\n",
"disp('Overall Length =')\n",
"disp(L)\n",
"disp('m')\n",
"\n",
"disp('(c) the mass flow rate if the reservoir temperature is 294 K.')\n",
"T0=294; // K\n",
"R=287; // J/kg.K\n",
"y=1.4;\n",
"M=0.302;\n",
"\n",
"m=%pi/4*d^2*pB*10^3*M_B*(y*(1+(y-1)*M^2/2)/R/T0)^(1/2);\n",
"disp('mass flow rate =')\n",
"disp(m)\n",
"disp('kg/s')"
   ]
   }
,
{
		   "cell_type": "markdown",
		   "metadata": {},
		   "source": [
			"## Example 11.7: 7.sce"
		   ]
		  },
  {
"cell_type": "code",
	   "execution_count": null,
	   "metadata": {
	    "collapsed": true
	   },
	   "outputs": [],
"source": [
"clc\n",
"\n",
"p1=8*10^5; // N/m^2\n",
"p2=5*10^5; // N/m^2\n",
"f=0.006;\n",
"l=145; // m\n",
"m=0.32; // kg/s\n",
"R=287; // J/kg.K\n",
"T=288; // K\n",
"y=1.4;\n",
"\n",
"d=(4*f*l*m^2*R*T/(%pi/4)^2/(p1^2-p2^2))^(1/5);\n",
"disp('(a) Diameter of pipe =')\n",
"disp(d)\n",
"disp('m')\n",
"\n",
"rho=p1/R/T;\n",
"A=%pi/4*d^2;\n",
"u=m/rho/A;\n",
"\n",
"a=sqrt(y*R*T);\n",
"\n",
"M1=u/a;\n",
"M2=p1/p2*M1;\n",
"\n",
"disp('(b) Entry and Exit Mach number =')\n",
"\n",
"disp('Entry Mach number =')\n",
"disp(M1)\n",
"\n",
"disp('Exit Mach number =')\n",
"disp(M2)\n",
"\n",
"disp('(c) Determine the pressure halfway along the pipe.')\n",
"px=sqrt((p1^2+p2^2)/2);\n",
"disp('Pressure =')\n",
"disp(px)\n",
"disp('N/m^2')"
   ]
   }
],
"metadata": {
		  "kernelspec": {
		   "display_name": "Scilab",
		   "language": "scilab",
		   "name": "scilab"
		  },
		  "language_info": {
		   "file_extension": ".sce",
		   "help_links": [
			{
			 "text": "MetaKernel Magics",
			 "url": "https://github.com/calysto/metakernel/blob/master/metakernel/magics/README.md"
			}
		   ],
		   "mimetype": "text/x-octave",
		   "name": "scilab",
		   "version": "0.7.1"
		  }
		 },
		 "nbformat": 4,
		 "nbformat_minor": 0
}
