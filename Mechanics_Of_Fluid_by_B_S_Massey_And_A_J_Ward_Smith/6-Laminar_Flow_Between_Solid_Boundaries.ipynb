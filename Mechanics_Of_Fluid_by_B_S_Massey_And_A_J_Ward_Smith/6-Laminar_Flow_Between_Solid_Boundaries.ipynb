{
"cells": [
 {
		   "cell_type": "markdown",
	   "metadata": {},
	   "source": [
       "# Chapter 6: Laminar Flow Between Solid Boundaries"
	   ]
	},
{
		   "cell_type": "markdown",
		   "metadata": {},
		   "source": [
			"## Example 6.1: 1.sce"
		   ]
		  },
  {
"cell_type": "code",
	   "execution_count": null,
	   "metadata": {
	    "collapsed": true
	   },
	   "outputs": [],
"source": [
"clc\n",
"\n",
"RD=0.83;\n",
"rho_w=1000; // density of water in kg/m^3\n",
"v=2.3; // m/s\n",
"d=0.012; // m\n",
"u=0.08; // dynamic viscocity in kg/m/s\n",
"\n",
"rho_oil=RD*rho_w;\n",
"\n",
"Re=rho_oil*v*d/u;\n",
"disp('(a) Reynolds number =')\n",
"disp(Re)\n",
"\n",
"v_max=2*v;\n",
"disp('(b)Maximum velocity =')\n",
"disp(v_max)\n",
"disp('m/s')\n",
"\n",
"Q=%pi/4*d^2*v;\n",
"disp('(c)Volumetric flow rate =')\n",
"disp(Q)\n",
"disp('m^3/s')\n",
"\n",
"p=-128*Q*u/%pi/d^4;\n",
"disp('Pressure gradient along the pipe = ')\n",
"disp(p)\n",
"disp('Pa/m')"
   ]
   }
,
{
		   "cell_type": "markdown",
		   "metadata": {},
		   "source": [
			"## Example 6.2: 2.sce"
		   ]
		  },
  {
"cell_type": "code",
	   "execution_count": null,
	   "metadata": {
	    "collapsed": true
	   },
	   "outputs": [],
"source": [
"clc\n",
"c=0.001; // m\n",
"p1=15*10^3; // Pa\n",
"u=0.6; // kg/m/s\n",
"R=6; // ratio of R2/R1\n",
"\n",
"Q=%pi*c^3*p1/(6*u*log(R));\n",
"disp('(b)Rate at which oil must be supplied =')\n",
"disp(Q)\n",
"disp('m^3/s')"
   ]
   }
,
{
		   "cell_type": "markdown",
		   "metadata": {},
		   "source": [
			"## Example 6.3: 3.sce"
		   ]
		  },
  {
"cell_type": "code",
	   "execution_count": null,
	   "metadata": {
	    "collapsed": true
	   },
	   "outputs": [],
"source": [
"clc\n",
"\n",
"F=6*10^3; // Pa\n",
"b=0.12; // m\n",
"\n",
"f=F*b;\n",
"\n",
"disp('(a) The load the pad will support =')\n",
"disp(f)\n",
"disp('N/m')\n",
"\n",
"dp=12*10^3; // N/m^2\n",
"dx=0.12; // m\n",
"c=0.00018; // m\n",
"u=0.5; // kg/m/s\n",
"V=5; // m/s\n",
"\n",
"q=(dp/dx)*c^3/12/u + V*c/2;\n",
"disp('(b) The rate at which oil must be supplied =')\n",
"disp(q)\n",
"disp('m^2/s')"
   ]
   }
,
{
		   "cell_type": "markdown",
		   "metadata": {},
		   "source": [
			"## Example 6.4: 4.sce"
		   ]
		  },
  {
"cell_type": "code",
	   "execution_count": null,
	   "metadata": {
	    "collapsed": true
	   },
	   "outputs": [],
"source": [
"clc\n",
"\n",
"d_p=0.05; // diameter of piston in m\n",
"d_c=0.0504; // diameter of cylinder in m\n",
"SG=0.87;\n",
"rho_w=1000; // kg/m^3\n",
"v=10^-4; // m^2/s\n",
"dp=1.4*10^6; // Pa\n",
"l=0.13; // m\n",
"\n",
"c=(d_c-d_p)/2; // clearance\n",
"\n",
"u=SG*rho_w*v; // Dynamice viscocity\n",
"\n",
"Vp=dp*c^3/(6*u*l*(d_p/2+c));\n",
"disp('Velocity of the dashpot =')\n",
"disp(Vp)\n",
"disp('m/s')"
   ]
   }
,
{
		   "cell_type": "markdown",
		   "metadata": {},
		   "source": [
			"## Example 6.5: 5.sce"
		   ]
		  },
  {
"cell_type": "code",
	   "execution_count": null,
	   "metadata": {
	    "collapsed": true
	   },
	   "outputs": [],
"source": [
"clc\n",
"\n",
"disp('(a)the dynamic and kinematic viscosities of the oil')\n",
"\n",
"d=0.00475; // m\n",
"g=9.81; // m/s^2\n",
"rho_s=1151; // kg/m^3\n",
"rho=880; // kg/m^3\n",
"u=0.006; // m/s\n",
"\n",
"F=%pi/6*d^3*g*(rho_s-rho);\n",
"\n",
"rat_d=0.25; // ratio of d/D\n",
"rat_F=1.8; // ratio of F/Fo\n",
"\n",
"dynamic=F/(1.8*3*%pi*u*d);\n",
"\n",
"kinematic=dynamic/rho;\n",
"\n",
"disp('Dynamic viscosity = ')\n",
"disp(dynamic)\n",
"disp('kg/m/s')\n",
"\n",
"disp('Kinematic viscosity =')\n",
"disp(kinematic)\n",
"disp('m^2/s')\n",
"\n",
"disp('(b) Reynolds number of sphere =')\n",
"\n",
"Re=rho*u*d/dynamic;\n",
"disp('Reynolds number =')\n",
"disp(Re)"
   ]
   }
,
{
		   "cell_type": "markdown",
		   "metadata": {},
		   "source": [
			"## Example 6.6: 6.sce"
		   ]
		  },
  {
"cell_type": "code",
	   "execution_count": null,
	   "metadata": {
	    "collapsed": true
	   },
	   "outputs": [],
"source": [
"clc\n",
"\n",
"D=0.120; // m\n",
"h=0.08; // m\n",
"c=0.001; // m\n",
"t=0.01875; // m\n",
"rev=65; // revolutions per min\n",
"T=4*10^-3; // N.m\n",
"\n",
"K1=%pi*h/4/c;\n",
"K2=%pi/32/t;\n",
"\n",
"u=T/(rev*2*%pi/60)/(K1*D^3+K2*D^4);\n",
"disp('viscosity of the liquid =')\n",
"disp(u)\n",
"disp('Pa.s')"
   ]
   }
,
{
		   "cell_type": "markdown",
		   "metadata": {},
		   "source": [
			"## Example 6.7: 7.sce"
		   ]
		  },
  {
"cell_type": "code",
	   "execution_count": null,
	   "metadata": {
	    "collapsed": true
	   },
	   "outputs": [],
"source": [
"clc\n",
"\n",
"V=10; // m/s\n",
"h1=0.0005; // m\n",
"h2=0.00025; // m\n",
"L=0.1; // m\n",
"b=0.1; // m\n",
"RD=0.87;\n",
"u=2*10^-4; // m^2/s\n",
"rho_w=1000; // kg/m^3\n",
"\n",
"H=h1/h2;\n",
"\n",
"Q=V/2*(1+H^2)/(1+H^3)*b*h1;\n",
"disp('(b) Volumetric flow rate of oil =')\n",
"disp(Q)\n",
"disp('m^3/s')\n",
"\n",
"F=V/2*(1-(1+H^2)/(1+H^3))*12*RD*rho_w*u/h1^2*L^2/4*b;\n",
"disp('The load supported by the bearing =')\n",
"disp(F)\n",
"disp('N')"
   ]
   }
],
"metadata": {
		  "kernelspec": {
		   "display_name": "Scilab",
		   "language": "scilab",
		   "name": "scilab"
		  },
		  "language_info": {
		   "file_extension": ".sce",
		   "help_links": [
			{
			 "text": "MetaKernel Magics",
			 "url": "https://github.com/calysto/metakernel/blob/master/metakernel/magics/README.md"
			}
		   ],
		   "mimetype": "text/x-octave",
		   "name": "scilab",
		   "version": "0.7.1"
		  }
		 },
		 "nbformat": 4,
		 "nbformat_minor": 0
}
