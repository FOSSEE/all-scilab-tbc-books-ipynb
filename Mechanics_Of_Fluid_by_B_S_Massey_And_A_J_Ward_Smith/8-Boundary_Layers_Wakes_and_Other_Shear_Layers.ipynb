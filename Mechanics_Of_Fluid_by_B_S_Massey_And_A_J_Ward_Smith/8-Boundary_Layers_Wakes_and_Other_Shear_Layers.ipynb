{
"cells": [
 {
		   "cell_type": "markdown",
	   "metadata": {},
	   "source": [
       "# Chapter 8: Boundary Layers Wakes and Other Shear Layers"
	   ]
	},
{
		   "cell_type": "markdown",
		   "metadata": {},
		   "source": [
			"## Example 8.1: 1.sce"
		   ]
		  },
  {
"cell_type": "code",
	   "execution_count": null,
	   "metadata": {
	    "collapsed": true
	   },
	   "outputs": [],
"source": [
"clc\n",
"\n",
"delta=0.6; // mm\n",
"\n",
"delta1=delta/3;\n",
"\n",
"theta=2/15*delta;\n",
"\n",
"disp('Displacement thickness =')\n",
"disp(delta1)\n",
"disp('mm')\n",
"\n",
"disp('Momentum thickness =')\n",
"disp(theta)\n",
"disp('mm')"
   ]
   }
,
{
		   "cell_type": "markdown",
		   "metadata": {},
		   "source": [
			"## Example 8.3: 3.sce"
		   ]
		  },
  {
"cell_type": "code",
	   "execution_count": null,
	   "metadata": {
	    "collapsed": true
	   },
	   "outputs": [],
"source": [
"clc\n",
"\n",
"disp('(a) To determine the values of a1 & a2')\n",
"\n",
"// To determine the values of a1 & a2 following conditions must be satisfied\n",
"\n",
"// Condition I - When n=0, u/um=0\n",
"// Condition II - When n=1, u/um=a1+a2=1\n",
"// Condition III - When n=1, d(u/um)/dn = a1+2a2=0\n",
"\n",
"// By  satisfying these conditions, we have\n",
"// a1+a2=1;\n",
"// a1+2a2=0;\n",
"\n",
"A=[1,1;1,2];\n",
"B=[1;0];\n",
"X=inv(A)*B;\n",
"\n",
"a1=X(1);\n",
"a2=X(2);\n",
"\n",
"disp('a1=')\n",
"disp(a1)\n",
"disp('a2=')\n",
"disp(a2)\n",
"\n",
"disp('(b)Evaluate the constants A and B')\n",
"\n",
"// A = integrate('(1-f(n))*f(n)','n',0,1)\n",
"\n",
"A=integrate('(1-(2*n-n^2))*(2*n-n^2)','n',0,1)\n",
"disp('A =')\n",
"disp(A)\n",
"\n",
"// B = differentiation of (2*n-n^2) at n=0, we get \n",
"B=2;\n",
"\n",
"disp('B =')\n",
"disp(B)\n",
""
   ]
   }
,
{
		   "cell_type": "markdown",
		   "metadata": {},
		   "source": [
			"## Example 8.4: 4.sce"
		   ]
		  },
  {
"cell_type": "code",
	   "execution_count": null,
	   "metadata": {
	    "collapsed": true
	   },
	   "outputs": [],
"source": [
"clc\n",
"\n",
"v=1.5*10^(-5); // m^2/s\n",
"Re_t=5*10^5;\n",
"x_t=1.2; // m\n",
"rho=1.21; // kg/m^3\n",
"\n",
"u_m=v*Re_t/x_t;\n",
"\n",
"disp('(a) the velocity of the airstream =')\n",
"disp(u_m)\n",
"disp('m/s')\n",
"\n",
"theta=0.646*x_t/sqrt(Re_t);\n",
"\n",
"F=rho*u_m^2*theta;\n",
"\n",
"D_F=2*F*x_t;\n",
"\n",
"disp('(b) the frictional drag of the plate, D_F =')\n",
"disp(D_F)\n",
"disp('N')"
   ]
   }
,
{
		   "cell_type": "markdown",
		   "metadata": {},
		   "source": [
			"## Example 8.5: 5.sce"
		   ]
		  },
  {
"cell_type": "code",
	   "execution_count": null,
	   "metadata": {
	    "collapsed": true
	   },
	   "outputs": [],
"source": [
"clc\n",
"\n",
"u_m = 50; // m/s or 180 km/h\n",
"v=1.5*10^(-5); // m^2/s\n",
"l=100; // m\n",
"rho=1.2; // kg/m^3\n",
"b=8.3; // m\n",
"\n",
"delta = 0.37*(v/u_m)^(1/5)*l^(4/5);\n",
"\n",
"disp('(a) the boundary layer thickness at the rear of the train =')\n",
"disp(delta)\n",
"disp('m')\n",
"\n",
"Re_l = u_m*l/v;\n",
"C_F=0.074*(Re_l)^(-1/5);\n",
"F=0.037*rho*u_m^2*l*Re_l^(-1/5);\n",
"\n",
"D_F = F*b;\n",
"\n",
"disp('(b) the frictional drag acting on the train, D_F =')\n",
"disp(D_F)\n",
"disp('N')\n",
"\n",
"P=D_F*u_m;\n",
"disp('(c) the power required to overcome the frictional drag =')\n",
"disp(P/1000)\n",
"disp('kW')"
   ]
   }
,
{
		   "cell_type": "markdown",
		   "metadata": {},
		   "source": [
			"## Example 8.6: 6.sce"
		   ]
		  },
  {
"cell_type": "code",
	   "execution_count": null,
	   "metadata": {
	    "collapsed": true
	   },
	   "outputs": [],
"source": [
"clc\n",
"\n",
"Re_t=5*10^5;\n",
"Re_l=5*10^6;\n",
"\n",
"r1=Re_t/Re_l; // r1=x_t/l\n",
"r2=1-36.9*(1/Re_t)^(3/8); // r2=x_0/x_t\n",
"\n",
"r=r1*r2; // r=x_0/l;\n",
"\n",
"disp('(a) the proportion of the plate occupied by the laminar boundary layer =')\n",
"disp(r*100)\n",
"disp('%')\n",
"\n",
"C_F = 0.074/Re_l^(1/5)*(1-r)^(4/5);\n",
"disp('(b) the skin friction coefficient CF evaluated at the trailing edge =')\n",
"disp(C_F)"
   ]
   }
],
"metadata": {
		  "kernelspec": {
		   "display_name": "Scilab",
		   "language": "scilab",
		   "name": "scilab"
		  },
		  "language_info": {
		   "file_extension": ".sce",
		   "help_links": [
			{
			 "text": "MetaKernel Magics",
			 "url": "https://github.com/calysto/metakernel/blob/master/metakernel/magics/README.md"
			}
		   ],
		   "mimetype": "text/x-octave",
		   "name": "scilab",
		   "version": "0.7.1"
		  }
		 },
		 "nbformat": 4,
		 "nbformat_minor": 0
}
