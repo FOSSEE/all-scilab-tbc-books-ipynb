{
"cells": [
 {
		   "cell_type": "markdown",
	   "metadata": {},
	   "source": [
       "# Chapter 5: Physical Similarity ans Dimensional Analysis"
	   ]
	},
{
		   "cell_type": "markdown",
		   "metadata": {},
		   "source": [
			"## Example 5.3: 3.sce"
		   ]
		  },
  {
"cell_type": "code",
	   "execution_count": null,
	   "metadata": {
	    "collapsed": true
	   },
	   "outputs": [],
"source": [
"clc\n",
"\n",
"u_p=10; // m/s\n",
"scale=1/25;  // l_m/l_p\n",
"L=125; // m\n",
"meu=1.235*10^(-6); // m^2/s\n",
"meu_p=1.188*10^(-6); // m^2/s\n",
"rho_p=1025; // kg/m^3\n",
"rho_m=1000; // kg/m^3\n",
"A=3500; // wetted surface in m^2\n",
"\n",
"u_m=u_p*sqrt(scale);\n",
"\n",
"d=L*scale;\n",
"Re=d*u_m/meu; // Reynolds no.\n",
"C_F=0.075/(log10(Re)-2)^2; // Skin friction coefficient\n",
"\n",
"res_skin=rho_m/2*u_m^2*(A*scale^2)*C_F;\n",
"\n",
"res_tot=54.2; // N\n",
"\n",
"F_resid_m=res_tot-res_skin;\n",
"\n",
"F_resid_p=F_resid_m*rho_p/rho_m/scale^3;\n",
"\n",
"Re_p=u_p*L/meu_p;\n",
"\n",
"C_F_p=0.075/(log10(Re_p)-2)^2+0.0004;\n",
"C_F_pnew=1.45*C_F_p;\n",
"\n",
"res_friction=rho_p/2*u_p^2*A*C_F_pnew;\n",
"\n",
"Resistance=F_resid_p+res_friction;\n",
"disp('The total resistance of the prototype =')\n",
"disp(Resistance)\n",
"disp('N')"
   ]
   }
,
{
		   "cell_type": "markdown",
		   "metadata": {},
		   "source": [
			"## Example 5.4: 4.sce"
		   ]
		  },
  {
"cell_type": "code",
	   "execution_count": null,
	   "metadata": {
	    "collapsed": true
	   },
	   "outputs": [],
"source": [
"clc\n",
"\n",
"A=0.88; // ratio of A2 and A1\n",
"C_D=0.85; // ratio of C_D2 to C_D1\n",
"P=1.20; // ratio of P2 to P1\n",
"V1=11; // m/s\n",
"\n",
"V2=V1*(P/A/C_D)^(1/3);\n",
"disp('Maximum speed of the redesigned torpedo =')\n",
"disp(V2)\n",
"disp('m/s')"
   ]
   }
],
"metadata": {
		  "kernelspec": {
		   "display_name": "Scilab",
		   "language": "scilab",
		   "name": "scilab"
		  },
		  "language_info": {
		   "file_extension": ".sce",
		   "help_links": [
			{
			 "text": "MetaKernel Magics",
			 "url": "https://github.com/calysto/metakernel/blob/master/metakernel/magics/README.md"
			}
		   ],
		   "mimetype": "text/x-octave",
		   "name": "scilab",
		   "version": "0.7.1"
		  }
		 },
		 "nbformat": 4,
		 "nbformat_minor": 0
}
