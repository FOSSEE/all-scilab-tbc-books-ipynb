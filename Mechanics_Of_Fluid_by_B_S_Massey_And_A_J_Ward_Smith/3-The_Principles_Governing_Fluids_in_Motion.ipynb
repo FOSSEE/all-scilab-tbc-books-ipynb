{
"cells": [
 {
		   "cell_type": "markdown",
	   "metadata": {},
	   "source": [
       "# Chapter 3: The Principles Governing Fluids in Motion"
	   ]
	},
{
		   "cell_type": "markdown",
		   "metadata": {},
		   "source": [
			"## Example 3.2: 2.sce"
		   ]
		  },
  {
"cell_type": "code",
	   "execution_count": null,
	   "metadata": {
	    "collapsed": true
	   },
	   "outputs": [],
"source": [
"clc\n",
"\n",
"u_A=1.35; // m/s\n",
"d_A=0.225; // m\n",
"d_B=0.150; // m\n",
"d_C=0.150; // m\n",
"d=5.6; //m\n",
"friction=2.5; // kW\n",
"power_req=12.7; // kW\n",
"\n",
"rho=1000; // kg/m^3\n",
"rho_m=13560; // kg/m^3\n",
"\n",
"g=9.81; // m/s^2\n",
"\n",
"pC=35000; // Pa\n",
"pA=rho_m*g*(-d_B);\n",
"\n",
"Area_A=%pi*d_A^2/4;\n",
"Area_B=%pi*d_B^2/4;\n",
"Area_C=%pi*d_C^2/4;\n",
"\n",
"u_B=u_A*(Area_A/Area_B);\n",
"u_C=u_A*(Area_A/Area_C);\n",
"\n",
"// Energy_added_by_pump/time = (Mass/time)*((pC-pA)/rho+(u_C^2-u_A^2)/2+g*(zC-zA))\n",
"\n",
"Energy_added = Area_A*u_A*(pC-pA+rho/2*(u_C^2-u_A^2)+rho*g*d)/1000+friction;\n",
"\n",
"Efficiency=Energy_added/power_req*100;\n",
"\n",
"disp('Overall efficiency of the pump =')\n",
"disp(Efficiency)\n",
"disp('%')"
   ]
   }
,
{
		   "cell_type": "markdown",
		   "metadata": {},
		   "source": [
			"## Example 3.3: 3.sce"
		   ]
		  },
  {
"cell_type": "code",
	   "execution_count": null,
	   "metadata": {
	    "collapsed": true
	   },
	   "outputs": [],
"source": [
"clc\n",
"\n",
"d_jet = 0.0086; // m\n",
"d_orifice = 0.011; // m\n",
"x = 2; // m\n",
"y = 0.6; // m\n",
"h = 1.75; // m\n",
"g = 9.81; // m/s^2\n",
"\n",
"A2 = %pi/4*d_orifice^2;\n",
"\n",
"Cc = (d_jet/d_orifice)^2; // Coefficient of Contraction\n",
"\n",
"Cv = x/2/sqrt(y*h); // Coefficient of velocity\n",
"\n",
"Cd = Cv*Cc; // Coefficient of Discharge\n",
"\n",
"Q = Cd*A2*sqrt(2*g*h);\n",
"\n",
"disp('Rate of discharge = ')\n",
"disp(Q)\n",
"disp('m^3/s')"
   ]
   }
,
{
		   "cell_type": "markdown",
		   "metadata": {},
		   "source": [
			"## Example 3.4: 4.sce"
		   ]
		  },
  {
"cell_type": "code",
	   "execution_count": null,
	   "metadata": {
	    "collapsed": true
	   },
	   "outputs": [],
"source": [
"clc\n",
"\n",
"Cd=0.97;\n",
"d1=0.28; // m\n",
"d2=0.14; // m\n",
"\n",
"g=9.81; // m/s^2\n",
"d=0.05; // difference in mercury level in metre\n",
"rho=1000; // kg/m^3\n",
"rho_m=13600; // kg/m^3\n",
"\n",
"A1=%pi/4*d1^2;\n",
"A2=%pi/4*d2^2;\n",
"\n",
"p_diff=(rho_m-rho)*g*d;\n",
"h=p_diff/rho/g;\n",
"\n",
"Q=Cd*A1*((2*g*h)/((A1/A2)^2-1))^(1/2);\n",
"\n",
"disp('Flow rate = ')\n",
"disp(Q)\n",
"disp('m^3/s')"
   ]
   }
,
{
		   "cell_type": "markdown",
		   "metadata": {},
		   "source": [
			"## Example 3.5: 5.sce"
		   ]
		  },
  {
"cell_type": "code",
	   "execution_count": null,
	   "metadata": {
	    "collapsed": true
	   },
	   "outputs": [],
"source": [
"clc\n",
"\n",
"Cd=0.62;\n",
"g=9.81; // m/s^2\n",
"d=0.1; // m\n",
"d0=0.06; // m\n",
"d1=0.12; // m\n",
"\n",
"rho=1000; // kg/m^3\n",
"rho_m=13600; // kg/m^3\n",
"rho_f=0.86*10^3; //kg/m^3\n",
"\n",
"A0=%pi/4*d0^2;\n",
"A1=%pi/4*d1^2;\n",
"\n",
"p_diff=(rho_m-rho_f)*g*d;\n",
"\n",
"h=p_diff/rho_f/g;\n",
"\n",
"Q=Cd*A0*((2*g*h)/(1-(A0/A1)^2))^(1/2);\n",
"\n",
"m=rho_f*Q;\n",
"\n",
"disp('Mass flow rate = ')\n",
"disp(m)\n",
"disp('kg/s')"
   ]
   }
,
{
		   "cell_type": "markdown",
		   "metadata": {},
		   "source": [
			"## Example 3.6: 6.sce"
		   ]
		  },
  {
"cell_type": "code",
	   "execution_count": null,
	   "metadata": {
	    "collapsed": true
	   },
	   "outputs": [],
"source": [
"clc\n",
"\n",
"Cd=0.61;\n",
"g=9.81; // m/s^2\n",
"b=0.6; // m\n",
"H=0.155; // mQ\n",
"A=0.26; // m^2\n",
"u1=0.254; // m/s\n",
"\n",
"Q=2/3*Cd*sqrt(2*g*b*(H)^3/2);\n",
"\n",
"velo=Q/A;\n",
"\n",
"H1=H+u1^2/(2*g);\n",
"\n",
"Q1=2/3*Cd*sqrt(2*g*b*(H1)^3/2);\n",
"\n",
"disp('Discharge =')\n",
"disp(Q1)\n",
"disp('m^3/s')"
   ]
   }
],
"metadata": {
		  "kernelspec": {
		   "display_name": "Scilab",
		   "language": "scilab",
		   "name": "scilab"
		  },
		  "language_info": {
		   "file_extension": ".sce",
		   "help_links": [
			{
			 "text": "MetaKernel Magics",
			 "url": "https://github.com/calysto/metakernel/blob/master/metakernel/magics/README.md"
			}
		   ],
		   "mimetype": "text/x-octave",
		   "name": "scilab",
		   "version": "0.7.1"
		  }
		 },
		 "nbformat": 4,
		 "nbformat_minor": 0
}
