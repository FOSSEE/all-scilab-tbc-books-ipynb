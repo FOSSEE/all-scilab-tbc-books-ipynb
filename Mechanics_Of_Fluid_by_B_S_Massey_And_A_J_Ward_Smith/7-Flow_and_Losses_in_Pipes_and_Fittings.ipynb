{
"cells": [
 {
		   "cell_type": "markdown",
	   "metadata": {},
	   "source": [
       "# Chapter 7: Flow and Losses in Pipes and Fittings"
	   ]
	},
{
		   "cell_type": "markdown",
		   "metadata": {},
		   "source": [
			"## Example 7.1: 1.sce"
		   ]
		  },
  {
"cell_type": "code",
	   "execution_count": null,
	   "metadata": {
	    "collapsed": true
	   },
	   "outputs": [],
"source": [
"clc\n",
"\n",
"Q=50*10^-3; // m^3/s\n",
"d=0.15; // m\n",
"l=300; // m\n",
"v=1.14*10^-6; // m^2/s\n",
"g=9.81; // m/s^2\n",
"\n",
"// For galvanised steel\n",
"k=0.00015; // m\n",
"t=0.001; // ratio of k to d ; (k/d)\n",
"f=0.00515;\n",
"\n",
"A1=%pi/4*d^2;\n",
"\n",
"u=Q/A1; \n",
"Re=u*d/v;\n",
"\n",
"h_f=4*f*l*u^2/d/(2*g);\n",
"disp('Head lost to friction =')\n",
"disp(h_f)\n",
"disp('m')"
   ]
   }
,
{
		   "cell_type": "markdown",
		   "metadata": {},
		   "source": [
			"## Example 7.2: 2.sce"
		   ]
		  },
  {
"cell_type": "code",
	   "execution_count": null,
	   "metadata": {
	    "collapsed": true
	   },
	   "outputs": [],
"source": [
"clc\n",
"\n",
"k=0.00025; // m\n",
"d=0.1; // m\n",
"l=120; // m\n",
"h_f=5; // m\n",
"g=9.81; // m/s^2\n",
"v=10^-5; // m^2/s\n",
"\n",
"f=0.0079042;\n",
"\n",
"u=sqrt(h_f*d*(2*g)/(4*f*l));\n",
"Re=u*d/v;\n",
"\n",
"Q=u*%pi/4*d^2;\n",
"disp('Rate =')\n",
"disp(Q)\n",
"disp('m^3/s')"
   ]
   }
,
{
		   "cell_type": "markdown",
		   "metadata": {},
		   "source": [
			"## Example 7.3: 3.sce"
		   ]
		  },
  {
"cell_type": "code",
	   "execution_count": null,
	   "metadata": {
	    "collapsed": true
	   },
	   "outputs": [],
"source": [
"clc\n",
"\n",
"h_f=9; // m\n",
"l=180; // m\n",
"Q=85*10^-3; // m^3/s\n",
"f=0.00475; \n",
"k=0.00015; // m\n",
"v=1.14*10^-6; // m^2/s\n",
"g=9.81; // m/s^2\n",
"\n",
"d=(4*f*l*Q^2/h_f/(%pi/4)^2/(2*g))^(1/5);\n",
"Re=(Q/(%pi*d^2/4))*d/v;\n",
"\n",
"disp('The size of galvanized steel pipe = ')\n",
"disp(d)\n",
"disp('m')"
   ]
   }
,
{
		   "cell_type": "markdown",
		   "metadata": {},
		   "source": [
			"## Example 7.4: 4.sce"
		   ]
		  },
  {
"cell_type": "code",
	   "execution_count": null,
	   "metadata": {
	    "collapsed": true
	   },
	   "outputs": [],
"source": [
"clc\n",
"\n",
"// D1=(5*b1/3/a)^(1/8)\n",
"// D2=(5*b1/3/a)^(1/8)\n",
"\n",
"// But b2=2.5*b1\n",
"// Therefore D2=(2.5)^(1/8)*D1\n",
"\n",
"D1=600; // mm\n",
"\n",
"D2=(2.5)^(1/8)*D1;\n",
"\n",
"disp('Revised estimate of the optimum pipe diameter =')\n",
"disp(D2)\n",
"disp('mm')"
   ]
   }
,
{
		   "cell_type": "markdown",
		   "metadata": {},
		   "source": [
			"## Example 7.5: 5.sce"
		   ]
		  },
  {
"cell_type": "code",
	   "execution_count": null,
	   "metadata": {
	    "collapsed": true
	   },
	   "outputs": [],
"source": [
"clc\n",
"\n",
"disp('(a) Feed is at the end of the main')\n",
"Q0=4.5*10^-3; // m^3/s\n",
"d=0.1; // m\n",
"l=4.5*10^3; // m\n",
"g=9.81; // m/s^2\n",
"f=0.006; \n",
"rho=1000; // kg/m^3\n",
"\n",
"u0=Q0/(%pi/4*d^2);\n",
"h_f=4*f*u0^2*l/3/(d*2*g);\n",
"\n",
"dp=h_f*rho*g;\n",
"disp('Pressure difference =')\n",
"disp(dp)\n",
"disp('N/m^2')\n",
"\n",
"disp('(b) Feed is at the centre of the main')\n",
"\n",
"Q0_b=Q0/2;\n",
"u0_b=u0/2;\n",
"l_b=l/2;\n",
"\n",
"dp_b=(u0_b/u0)^2*(l_b/l)*dp;\n",
"disp('Pressure difference =')\n",
"disp(dp_b)\n",
"disp('N/m^2')"
   ]
   }
,
{
		   "cell_type": "markdown",
		   "metadata": {},
		   "source": [
			"## Example 7.6: 6.sce"
		   ]
		  },
  {
"cell_type": "code",
	   "execution_count": null,
	   "metadata": {
	    "collapsed": true
	   },
	   "outputs": [],
"source": [
"clc\n",
"\n",
"d1=3; // m\n",
"d2=2; // m\n",
"f=0.007;\n",
"l=75; // m\n",
"d=0.05; // m\n",
"g=9.81; // m/s^2\n",
"h1=1.8; // m\n",
"\n",
"A1=%pi/4*d1^2;\n",
"A2=%pi/4*d2^2;\n",
"\n",
"// dh/dt=dz1/dr*(1+A1/A2)\n",
"// Q=-A1*dz1/dt = -4/13*A1*dh/dt\n",
"\n",
"// u=(Q/2)^2/(%pi/4*d^2)\n",
"// h=(4*f*l/d + 1.5)*u^2/2g = 1.438*10^5*Q^2\n",
"\n",
"// t=integrate('-1/(1+A1/A2)*A1*(1.438*10^5/h)^(1/2)','h',h1,H)\n",
"\n",
"// By integrating, we get\n",
"H=(h1^(1/2)-(900/2/824.7))^2;\n",
"h=h1-H;\n",
"dz1=1/(1+A1/A2)*h;\n",
"\n",
"disp('The change in the level in larger tank =')\n",
"disp(dz1)\n",
"disp('m')"
   ]
   }
],
"metadata": {
		  "kernelspec": {
		   "display_name": "Scilab",
		   "language": "scilab",
		   "name": "scilab"
		  },
		  "language_info": {
		   "file_extension": ".sce",
		   "help_links": [
			{
			 "text": "MetaKernel Magics",
			 "url": "https://github.com/calysto/metakernel/blob/master/metakernel/magics/README.md"
			}
		   ],
		   "mimetype": "text/x-octave",
		   "name": "scilab",
		   "version": "0.7.1"
		  }
		 },
		 "nbformat": 4,
		 "nbformat_minor": 0
}
