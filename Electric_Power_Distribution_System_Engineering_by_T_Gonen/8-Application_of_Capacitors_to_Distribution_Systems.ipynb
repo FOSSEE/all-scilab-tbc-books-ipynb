{
"cells": [
 {
		   "cell_type": "markdown",
	   "metadata": {},
	   "source": [
       "# Chapter 8: Application of Capacitors to Distribution Systems"
	   ]
	},
{
		   "cell_type": "markdown",
		   "metadata": {},
		   "source": [
			"## Example 8.1: To_Determine_the_Capacitor_Size_to_improve_the_power_factor_to_a_700kVA_Load.sce"
		   ]
		  },
  {
"cell_type": "code",
	   "execution_count": null,
	   "metadata": {
	    "collapsed": true
	   },
	   "outputs": [],
"source": [
"//To Determine the Capacitor Size to improve the power factor to a 700kVA Load\n",
"//Page 390\n",
"clc;\n",
"clear;\n",
"\n",
"SL=700; //Load in kVA\n",
"pf1=65/100; //Power Factor\n",
"PL=SL*pf1; //Real Power\n",
"//From the Table of Power Factor Correction\n",
"CR=0.74; //Co-relation factor\n",
"CS=PL*CR; //Capacitor Size\n",
"\n",
"CSr=360; //Next Higher Standard Capacitor Size\n",
"\n",
"CRn=CSr/PL; //New Co-Relation Factor\n",
"\n",
"//From the table by linear interpolation\n",
"pfr=93; //In Percentage\n",
"pfn=pfr+(172/320);\n",
"\n",
"printf('\a) The Correction Factor is %g\n',CR)\n",
"printf('b) The Capacitor Size Required is %g kVAr\n',CS)\n",
"printf('c) Resulting power factor if the next higher standard capacitor size is used is %g percent\n',pfn)\n",
" "
   ]
   }
,
{
		   "cell_type": "markdown",
		   "metadata": {},
		   "source": [
			"## Example 8.2: EX8_2.sce"
		   ]
		  },
  {
"cell_type": "code",
	   "execution_count": null,
	   "metadata": {
	    "collapsed": true
	   },
	   "outputs": [],
"source": [
"//To determine the Capacitor bank required to correct power factor of induction motor\n",
"//Page 393\n",
"clc;\n",
"clear;\n",
"\n",
"Vll=4.16; //Line to Line Voltage in kV\n",
"Pr=(500*0.7457); //Rating of motor in kW\n",
"pf1=0.75; //Initial Power Factor\n",
"pfn=0.9; //Improved Power Factor\n",
"eff=0.88; //Efficiency\n",
"P=Pr/eff; //Input Power of Induction Motor\n",
"Q1=P*tand(acosd(pf1)); //Reactive Power\n",
"Q2=P*tand(acosd(pfn)); //REactive power of motor after power factor improvement\n",
"f=60; //Frequency of supply\n",
"w=2*%pi*f; //Angular Frequency\n",
"Qc=Q1-Q2; //Reactive Power of Capacitor\n",
"Il=Qc/(sqrt(3)*Vll);\n",
"\n",
"//Capacitor Connectd in Delta\n",
"Ic1=Il/(sqrt(3));\n",
"Xc1=Vll*1000/Ic1; //Reactance of each capacitor\n",
"C1=(10^6)/(w*Xc1); //Capacitance in Micro Farad\n",
"\n",
"//Capacitor Connected in Wye\n",
"Ic2=Il;\n",
"Xc2=Vll*1000/(sqrt(3)*Ic2); //Reactance of each capacitor\n",
"C2=(10^6)/(w*Xc2); //Capacitance in Micro Farad\n",
"\n",
"printf('\na) Rating of Capacitor Bank is %g kVAr\n',Qc)\n",
"printf('b) The Value of Capacitance if there are connected in delta is %g micro F\n',C1)\n",
"printf('c) The Value of Capacitance if there are connected in wye is %g micro F\n',C2)"
   ]
   }
,
{
		   "cell_type": "markdown",
		   "metadata": {},
		   "source": [
			"## Example 8.3: To_determine_the_power_factors_of_a_2point4_kV_phase_circuit_feeder.sce"
		   ]
		  },
  {
"cell_type": "code",
	   "execution_count": null,
	   "metadata": {
	    "collapsed": true
	   },
	   "outputs": [],
"source": [
"//To determine the power factors of a 2.4 kV phase circuit feeder\n",
"//Page 396\n",
"clc;\n",
"clear;\n",
"\n",
"V=2.4; //Voltage in kV\n",
"I=200; //Load Current\n",
"P=360; //Real Load in kW\n",
"S1=V*I; //Total Load in kVA\n",
"pf1=P/S1; //Power Factor\n",
"Q1=S1*sind(acosd(pf1)); //Reactive Load\n",
"\n",
"Qc=300; //Capacitor Size\n",
"\n",
"Q2=Q1-Qc; //The New Reactive Load\n",
"pf2=P/sqrt((P^2)+((Q1-Qc)^2)); //Improved Power Factor\n",
"\n",
"printf('\na) The Uncorrected power factor and reactive load is %g and %g kVAr\n',pf1,Q1)\n",
"printf('b) The New Corrected factor after the introduction of capacitor unit is %g\n',pf2)"
   ]
   }
,
{
		   "cell_type": "markdown",
		   "metadata": {},
		   "source": [
			"## Example 8.4: To_determine_the_necessity_of_additional_capacitors.sce"
		   ]
		  },
  {
"cell_type": "code",
	   "execution_count": null,
	   "metadata": {
	    "collapsed": true
	   },
	   "outputs": [],
"source": [
"//To determine the necessity of additional capacitors\n",
"//Page 398\n",
"clc;\n",
"clear;\n",
"\n",
"S1=7800; //Peak Load in kVA\n",
"T=3*2000; //Total Rating of the Transformer\n",
"pf1=0.89; //Load Power Factor\n",
"TC=120/100; //Thermal Capability\n",
"Qc=1000; //Size of capacitor\n",
"\n",
"P=S1*pf1; //Real Load\n",
"Q1=S1*sind(acosd(pf1)); //Reactive Load\n",
"\n",
"Q2=Q1-Qc; //The New Reactive Load\n",
"pf2=P/sqrt((P^2)+((Q1-Qc)^2)); //Improved Power Factor\n",
"\n",
"S2=P/pf2; //Corrected Apprarent power\n",
"\n",
"ST=T*TC; //Transformer Capabilty\n",
"\n",
"pf3=P/ST; //New Corrected Power factor required\n",
"\n",
"Q2new=P*tand(acosd(pf3)); //Required Reactive Power\n",
"Qcadd=Q2-Q2new; //Additional Rating of the Capacitor\n",
"\n",
"printf('\na) Since the Apparent Power(%g kVAr) is more than Transformer Capability (%g kVAr), \nHence Additional Capacitors are required\n',S2,ST)\n",
"printf('b) The Rating of the Addtional capacitor is %g kVAr\n',Qcadd)"
   ]
   }
,
{
		   "cell_type": "markdown",
		   "metadata": {},
		   "source": [
			"## Example 8.5: To_Determine_the_savings_in_kilowatt_losses.sce"
		   ]
		  },
  {
"cell_type": "code",
	   "execution_count": null,
	   "metadata": {
	    "collapsed": true
	   },
	   "outputs": [],
"source": [
"//To Determine the savings in kilowatt losses\n",
"//Page 411\n",
"clc;\n",
"clear;\n",
"\n",
"// 1 is Total Loss Reduction due to Capacitors\n",
"// 2 is Additional Loss Reduction due to Capacitor\n",
"// 3 is Total Demand Reduction due to capacitor\n",
"// 4 is Total required capacitor additions\n",
"\n",
"C90=[495165,85771,22506007,9810141]; //Characteristics at 90% Power Factor\n",
"C98=[491738,75343,21172616,4213297]; //Characteristics at 98% Power Factor\n",
"\n",
"//Responsibility Factors\n",
"RF90=1;\n",
"RF98=0.9;\n",
"\n",
"SLF=0.17; //System Loss Factor\n",
"FCR=0.2; //Fixed Charge Rate\n",
"DC=250; //Demand Cost\n",
"ACC=4.75; //Average Capacitor Cost\n",
"EC=0.045; //Energy Cost\n",
"Cd=C90-C98; //Difference in Characteristics\n",
"\n",
"TAS=Cd(1)+Cd(2); //Total Additional Kilowatt Savings\n",
"\n",
"ASDR1=Cd(1)*RF90*DC*FCR;\n",
"ASDR2=Cd(2)*RF98*DC*FCR;\n",
"TASDR=ASDR1+ASDR2; //Total Annual Savings due to demand\n",
"x=27; // Cost for Per kVA of the capacity\n",
"TASTC=Cd(3)*FCR*x; //Annual Savings due to Transmission Capacity\n",
"TASEL=TAS*SLF*EC*8760; //Savings due to energy loss reduction\n",
"TACAC=Cd(4)*FCR*ACC; //Annual Cost of Additional Capacitors\n",
"Savings=TASEL+TASDR+TASTC; //Total Savings\n",
"\n",
"printf('\na) The Resulting additional savings in kilowatt losses due to power factor improvement at the substation buses is %g kW\n',Cd(1))\n",
"printf('b) The Resulting assitional savings in kilowatt  losses due to the power factor improvement for feeders is %g kW\n',Cd(2))\n",
"printf('c) The Additional Kilowatt Savings is %g kW\n',TAS)\n",
"printf('d) The Additional savings in the system kilovoltampere capacity is %g kVA\n',Cd(3))\n",
"printf('e) The Additional Capacitors required are %g kVAr\n',Cd(4))\n",
"printf('f) The Annual Savings in demand reduction due to capacitors applied to distribution substation buses is approximately is %g dollars/year\n',TASDR)\n",
"printf('g) The Annual Savings due to the additional released transmission capacity is %g dollars/year\n',TASTC)\n",
"printf('h) The Total Anuual Savings due to the energy loss reduction is %g dollars/year\n',TASEL)\n",
"printf('i) The Total Annual Cost of the additional capacitors is %g dollars/year\n',TACAC)\n",
"printf('j) The Total Annual Savings is %g dollars/year\n',Savings)\n",
"printf('k) No, Since the total net annual savings is not zero\n')\n",
""
   ]
   }
],
"metadata": {
		  "kernelspec": {
		   "display_name": "Scilab",
		   "language": "scilab",
		   "name": "scilab"
		  },
		  "language_info": {
		   "file_extension": ".sce",
		   "help_links": [
			{
			 "text": "MetaKernel Magics",
			 "url": "https://github.com/calysto/metakernel/blob/master/metakernel/magics/README.md"
			}
		   ],
		   "mimetype": "text/x-octave",
		   "name": "scilab",
		   "version": "0.7.1"
		  }
		 },
		 "nbformat": 4,
		 "nbformat_minor": 0
}
