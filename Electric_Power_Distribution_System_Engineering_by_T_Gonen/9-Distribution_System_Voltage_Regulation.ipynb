{
"cells": [
 {
		   "cell_type": "markdown",
	   "metadata": {},
	   "source": [
       "# Chapter 9: Distribution System Voltage Regulation"
	   ]
	},
{
		   "cell_type": "markdown",
		   "metadata": {},
		   "source": [
			"## Example 9.10: To_Determine_the_proper_3_phase_capacitor_bank.sce"
		   ]
		  },
  {
"cell_type": "code",
	   "execution_count": null,
	   "metadata": {
	    "collapsed": true
	   },
	   "outputs": [],
"source": [
"//To Determine the proper 3 phase capacitor bank\n",
"//Page 488\n",
"clc;\n",
"clear;\n",
"\n",
"V=12.8; //Voltage in kV\n",
"xl=0.8; //Reactance per unit length\n",
"l=3; //Distance of the line\n",
"Xl=xl*l; //Effective Reactance of the the Line\n",
"pf=0.8; //Initial Power Factor\n",
"pfn=0.88; //New Improved Power Factor\n",
"Qcu=150; //Capacity of each unit available\n",
"XT=1.6384; //Reactance of the transformer\n",
"\n",
"S3phi=5000*exp(%i*%pi*acosd(pf)/180); //Presently existing Load\n",
"\n",
"//For New Load Real part of the Load doesn't Change\n",
"\n",
"QLnew=real(S3phi)*tand(acosd(pfn)); //The Required VAr\n",
"\n",
"S3phinew =sqrt((real(S3phi)^2)+(QLnew^2)); //New Apparent Power\n",
"\n",
"Qc=imag(S3phi)-QLnew; //Minimum Size of capacitor bank;\n",
"\n",
"N=ceil(Qc/Qcu); //Number of Units Required\n",
"Qcn=N*Qcu; //Required VAr\n",
"\n",
"XL=Xl+XT; //Total Reactance\n",
"\n",
"VRpu=Qcn*XL/(1000*(V^2)); //Voltage Rise Per unit\n",
"\n",
"printf('\nThe The Voltage Rise found out is %g pu V, which is greater than the voltage rise criterion.\nHence %g Capacitor units of %g kVAr must be installed\n',VRpu,N,Qcu)"
   ]
   }
,
{
		   "cell_type": "markdown",
		   "metadata": {},
		   "source": [
			"## Example 9.11: To_Determine_the_Voltage_dip_due_to_10hp_single_phase_motor.sce"
		   ]
		  },
  {
"cell_type": "code",
	   "execution_count": null,
	   "metadata": {
	    "collapsed": true
	   },
	   "outputs": [],
"source": [
"//To Determine the Voltage dip due to 10hp single phase motor\n",
"//Page 493\n",
"clc;\n",
"clear;\n",
"\n",
"Skva=6.3*(10^3); //Starting kVA per HP of the Motor\n",
"HPmotor=10; //Power Rating\n",
"Vll=7.2*(10^3); //Line Voltage\n",
"I3phi=1438; //Fault Current\n",
"\n",
"Sstart=Skva*HPmotor; //Starting kVA\n",
"\n",
"VDIP=120*Sstart/(I3phi*Vll); //Voltage Dip\n",
"\n",
"printf('\na) The Voltage dip due to the motor start is %g V\n',VDIP)\n",
"printf('b) From the Permissible voltage flicker limit curve, The Voltage dip of 0.73 V\nwith a frequency of 15 times per hour is in the satisfactory flicker zone\n and therefore is not objectionable to the immediate customers\n')"
   ]
   }
,
{
		   "cell_type": "markdown",
		   "metadata": {},
		   "source": [
			"## Example 9.12: To_determine_the_voltage_dip_due_to_the_motor_start_for_a_100_hp_3Phase_Motor.sce"
		   ]
		  },
  {
"cell_type": "code",
	   "execution_count": null,
	   "metadata": {
	    "collapsed": true
	   },
	   "outputs": [],
"source": [
"//To determine the voltage dip due to the motor start for a 100 hp 3Phase Motor\n",
"//Page 495\n",
"clc;\n",
"clear;\n",
"\n",
"Skva=5.6*(10^3); //Starting kVA per HP of the Motor\n",
"HPmotor=100; //Power Rating\n",
"Vll=12.47*(10^3); //Line Voltage\n",
"I3phi=1765; //Fault Current\n",
"\n",
"Sstart=Skva*HPmotor; //Starting kVA\n",
"\n",
"VDIP=69.36*Sstart/(I3phi*Vll); //Voltage Dip\n",
"\n",
"printf('\na) The Voltage dip due to the motor start is %g V\n',VDIP)\n",
"printf('b) From the Permissible voltage flicker limit curve, The Voltage dip of 1.72 V\nwith a frequency of three times per hour is in the satisfactory flicker zone\n and therefore is not objectionable to the immediate customers\n')"
   ]
   }
,
{
		   "cell_type": "markdown",
		   "metadata": {},
		   "source": [
			"## Example 9.1: To_Determine_the_parameters_of_the_system_regulation.sce"
		   ]
		  },
  {
"cell_type": "code",
	   "execution_count": null,
	   "metadata": {
	    "collapsed": true
	   },
	   "outputs": [],
"source": [
"//To Determine the parameters of the system regulation\n",
"//Page 468\n",
"clc;\n",
"clear;\n",
"\n",
"//Base Value\n",
"S3phib=15; //in MVA\n",
"Vllst=69; //in kV\n",
"Vllp=13.2; //in kV\n",
"Vrrb=120;\n",
"\n",
"Ztpu=%i*0.08; //Transformer impedance per unit length\n",
"VSTpuop=1.05*exp(%i*0); //Per Unit Maximum Subtransmission Voltage Off Peak\n",
"VSTpup=1.00*exp(%i*0); //Per Unit Maximum Subtransmission Voltage Peak\n",
"pftop=0.95; //Off Peak kilovoltageamperage power factor\n",
"Sop=0.25; //Off Peak kilovoltageamperage\n",
"pftp=0.85; //Off Peak kilovoltageamperage power factor\n",
"Sp=1.0; //Off Peak kilovoltageamperage\n",
"Regpu=5/(8*100); //Regulated percent volts for 32 steps\n",
"K=3.88*(10^-6); //Drop Constant\n",
"S=4000; // Peak Load in kVA\n",
"l=10; //Length of the feeder\n",
"//Case A\n",
"Rset=0;\n",
"Xset=0;\n",
"Vpmax=1.0417;\n",
"BW=0.0083;\n",
"VRRpu=(Vpmax-BW); //Setting of VRR\n",
"VRR=(Vpmax-BW)*Vrrb;\n",
"//Case B\n",
"IPpuop=(Sop/VSTpuop)*exp(%i*acosd(pftop)*%pi/180); //No Load Primary Current at substation Off Peak\n",
"VPpuop =VSTpuop-(IPpuop*Ztpu); //Highest Allowable Primary Voltage Off Peak\n",
"IPpup=(Sp/VSTpup)*exp(-1*%i*acosd(pftp)*%pi/180); //No Load Primary Current at substation Peak\n",
"VPpup =VSTpup-(IPpup*Ztpu); //Highest Allowable Primary Voltage  Peak\n",
"\n",
"Step1=(abs(VPpuop)-VRRpu)/Regpu; //Off Peak Number Steps\n",
"//To find the positive step value\n",
"Step2=-1*(abs(VPpup)-VRRpu)/Regpu; // Peak Number Steps\n",
"\n",
"\n",
"//Case C\n",
"//At Peak Load Primary Voltages\n",
"MaxVpp=1.075; //Max\n",
"MinVpp=1.000; //Min\n",
"\n",
"TVDpu=K*S*l/2; //Total Voltage Drop\n",
"MinVPpu=VRRpu-TVDpu;\n",
"\n",
"//At Annual Peak Load Primary Voltages\n",
"APMaxVPpu=MaxVpp-BW; //Max\n",
"APMinVPpu=MinVpp+BW; //Min\n",
"\n",
"//At no load Load Primary Voltages\n",
"NLMaxVPpu=Vpmax-BW; //Max\n",
"NLMinVPpu=APMinVPpu; //Min\n",
"\n",
"printf('\na)The Setting of the VRR for the highest allowable primary voltage is %g V\n',VRR)\n",
"printf('b) The Maximum Number of Steps of buck and boost for:\n')\n",
"printf('Off Peak : %g steps\n',ceil(Step1))\n",
"printf('Peak : %g steps\n',ceil(Step2))\n",
"printf('c) At Annual Load, Significant Values on Voltage Curve\n')\n",
"printf('The Total Voltage Drop is %g pu V\n',TVDpu)\n",
"printf('The Minimum Feeder Voltage at the end of the feeder is %g\n',MinVPpu)\n",
"printf('The Minimum and Maximum Primary Voltages at Peak Load is %g pu V and %g pu V\n',APMaxVPpu,APMinVPpu)\n",
"printf('The Minimum and Maximum Primary Voltages at Peak Load is %g pu V and %g pu V\n',NLMaxVPpu,NLMinVPpu)\n",
"\n",
""
   ]
   }
,
{
		   "cell_type": "markdown",
		   "metadata": {},
		   "source": [
			"## Example 9.2: To_Determine_the_distance_at_which_the_regulator_must_be_located.sce"
		   ]
		  },
  {
"cell_type": "code",
	   "execution_count": null,
	   "metadata": {
	    "collapsed": true
	   },
	   "outputs": [],
"source": [
"//To Determine the distance at which the regulator must be located\n",
"//Page 472\n",
"clc;\n",
"clear;\n",
"\n",
"//Terms from previous example\n",
"TVDpu=0.0776; //Total Voltage Drop\n",
"VRRpu=1.035; //Setting Voltage of Regulator\n",
"l=10;//Length of the Feeder\n",
"\n",
"//Primary voltages for various cases\n",
"VPpua=1.01;\n",
"VPpub=1.00;\n",
"\n",
"s1=poly(0,'s1'); //Variable Value of Regulator length\n",
"//Function to find the equation for the regulator distance\n",
"deff('x=dist(y)','x=(s1*(2-(s1/l))/l)-((VRRpu-y)/TVDpu)') \n",
"\n",
"//Different Cases\n",
"Xa=dist(VPpua);\n",
"Xb=dist(VPpub);\n",
"\n",
"s1a=roots(Xa);\n",
"if((abs(l-s1a(1))+(l-s1a(1)))==0)\n",
"    s1a=s1a(2);\n",
"else\n",
"    s1a=s1a(1);\n",
"end\n",
"\n",
"s1b=roots(Xb);\n",
"if((abs(l-s1b(1))+(l-s1b(1)))==0)\n",
"    s1b=s1b(2);\n",
"else\n",
"    s1b=s1b(1);\n",
"end\n",
"\n",
"printf('\na) The Regulator must be placed at %g miles from the start of the feeder\n',s1a)\n",
"printf('b) The Regulator must be placed at %g miles from the start of the feeder\n',s1b)\n",
"printf('c) The Advantage of a over b is that it can compensate for future growth\n')"
   ]
   }
,
{
		   "cell_type": "markdown",
		   "metadata": {},
		   "source": [
			"## Example 9.3: To_Determine_the_Necessary_minimum_kilovoltampere_size_of_the_regulator.sce"
		   ]
		  },
  {
"cell_type": "code",
	   "execution_count": null,
	   "metadata": {
	    "collapsed": true
	   },
	   "outputs": [],
"source": [
"//To Determine the Necessary minimum kilovoltampere size of the regulator\n",
"//Page 473\n",
"clc;\n",
"clear;\n",
"\n",
"l=10; //Length of the feeder\n",
"S3phi=4000; //Annual Peak Load in kVA\n",
"VPpu=1.01; //Primary Feeder Voltage\n",
"s1=1.75; // Distance of the Regulator\n",
"Rmax=10/100; //Regulation Percent\n",
"\n",
"S=S3phi*(1-(s1/l)); //Uniformly Distributed three phase load\n",
"Sph=S/3; //Single Phase Load\n",
"\n",
"Sreg=Rmax*Sph; //Regulated Size\n",
"\n",
"printf('\nThe Calculated Circuit Kilovoltampere Size is %g kVA, \nAnd The corresponding Minimum kilovoltampere size of the regulator size can be found as 114.3 kVA\n',Sreg)"
   ]
   }
,
{
		   "cell_type": "markdown",
		   "metadata": {},
		   "source": [
			"## Example 9.4: To_specify_the_best_settings_for_regulation.sce"
		   ]
		  },
  {
"cell_type": "code",
	   "execution_count": null,
	   "metadata": {
	    "collapsed": true
	   },
	   "outputs": [],
"source": [
"//To specify the best settings for regulation\n",
"//Page 474\n",
"clc;\n",
"clear;\n",
"\n",
"s1=1.75; //As Found in Example 2\n",
"VRRpu=1.035; //As R and X are zero, the Settings turn out to produce this\n",
"\n",
"//Parameters of Distribution\n",
"K=3.88*(10^-6);\n",
"S=3300;\n",
"l=10; //length of the line\n",
"\n",
"VDpu=K*S*(l-s1)/2; //Per unit voltage drop\n",
"\n",
"VP=VRRpu-VDpu; //Primary Feeder Voltage\n",
"\n",
"//We Obtain VDs = K*(S3-((S3*s)/l))s+K(S*s/l)s/2;\n",
"//We take various values of s and carry out the computation and hence form the table 9-4 given given in the result file\n",
"\n",
"//We Obtain from the voltage drop value for any give point s between the substation and the regulator  station as\n",
"//VDs=I(r.cos(theta)+ del sin(theta))s*(1-(s/(2*l)))\n",
"\n",
"//We finally Get VDs = 3.88 * (10^-6) * (3300-(3300s/8.25))s+3.88*(10^-6)*(3300s/8.25)*s/2\n",
"\n",
"//Again for different values of s we get the table 9-5\n",
"\n",
"printf('a)The Best Settings for LDC''s R and X, and for the VRR\n')\n",
"printf('The best settings for LDC of the regulator are when settings for both R and X are zero and VRRpu = %g pu V\n',VRRpu)\n",
"printf('b)The Voltage Drop occuring in the feeder portion between the regulating point and the end of the feeder is %g pu V\n',VDpu)\n",
"printf('The Result Files give the Profiles and relevant information about the solution\n')"
   ]
   }
,
{
		   "cell_type": "markdown",
		   "metadata": {},
		   "source": [
			"## Example 9.5: To_determine_the_setting_of_the_regulator_so_that_the_voltage_criteria_is_met.sce"
		   ]
		  },
  {
"cell_type": "code",
	   "execution_count": null,
	   "metadata": {
	    "collapsed": true
	   },
	   "outputs": [],
"source": [
"//To determine the setting of the regulator so that the voltage criteria is met\n",
"//Page 478\n",
"clc;\n",
"clear;\n",
"l=10; //Length of the feeder\n",
"s1=1.75;\n",
"ra=0.386;\n",
"xa=0.4809;\n",
"xd=0.1802;\n",
"xL=xa+xd;\n",
"Vb=120;\n",
"pf=0.85; //Power Factor\n",
"S=1100; //Load in kVA\n",
"Vln=7.62; //line to neutral voltage in kV\n",
"Reff=ra*(l-s1)/2;\n",
"Xeff=xL*(l-s1)/2;\n",
"\n",
"//Primary Ratings\n",
"CTp=150; //Current Tranformer\n",
"PTn=63.5; //POtential Transformer\n",
"\n",
"//R Value of the dial\n",
"Rset=(CTp/PTn)*Reff;\n",
"Rsetpu=Rset/Vb;\n",
"\n",
"//X value of the dial\n",
"Xset=(CTp/PTn)*Xeff;\n",
"Xsetpu=Xset/Vb;\n",
"\n",
"VRP=1.0138; //Assumption Made on the Regulating Point\n",
"//Output Voltage of the Regulator\n",
"Vreg=VRP+((S/Vln)*((Rset*pf)+(Xset*sind(acosd(pf))))/(CTp*Vb)); \n",
"\n",
"\n",
"printf('\na) The Regulating Voltage is %g pu V\n',Vreg)\n",
"printf('As per Table 9-6; the primary voltage criteria are met by using the R and X settings\n')\n",
"printf('b) The Voltage Profiles are given in the result file attached\n')"
   ]
   }
,
{
		   "cell_type": "markdown",
		   "metadata": {},
		   "source": [
			"## Example 9.6: To_determine_the_number_of_steps_of_buck_and_boost_the_regulators_will_achieve.sce"
		   ]
		  },
  {
"cell_type": "code",
	   "execution_count": null,
	   "metadata": {
	    "collapsed": true
	   },
	   "outputs": [],
"source": [
"//To determine the number of steps of buck and boost the regulators will achieve\n",
"//Page 480\n",
"clc;\n",
"clear;\n",
"\n",
"//From Problems 4 and 5 the co-effcients are obtained\n",
"VRRpu=1.035;\n",
"Vreg4=1.0337;\n",
"Vreg5=1.0666;\n",
"VRP4=1.0337;\n",
"VRP5=1.0138;\n",
"Vmin=1.010; //For s= 1.75\n",
"\n",
"//Steps\n",
"Buck4=(VRRpu-VRP4)/(0.00625);\n",
"Buck5=(VRRpu-VRP5)/(0.00625);\n",
"Boost4=(Vreg4-Vmin)/(0.00625);\n",
"Boost5=(Vreg5-Vmin)/(0.00625);\n",
"\n",
"printf('\na) The Number of steps of buck and number is steps of boost in example 9-4 is %g and %g respectively\n',Buck4,Boost4)\n",
"printf('\nb) The Number of steps of buck and number is steps of boost in example 9-5 is %g and %g respectively\n',Buck5,Boost5)"
   ]
   }
,
{
		   "cell_type": "markdown",
		   "metadata": {},
		   "source": [
			"## Example 9.8: To_Determine_the_necessary_settings_of_Regulators.sce"
		   ]
		  },
  {
"cell_type": "code",
	   "execution_count": null,
	   "metadata": {
	    "collapsed": true
	   },
	   "outputs": [],
"source": [
"//To Determine the necessary settings of Regulators\n",
"//Page 482\n",
"clc;\n",
"clear;\n",
"\n",
"l=3;//Length of the line\n",
"Vlc=2450; //Regulated Voltage\n",
"Vcp=12800; //Primary of customer transformer\n",
"//Base Values\n",
"Vlbp=2400; //Primary Bus Voltage of Customer's Bus(Low Voltage)\n",
"Vlbs=4160;//Secondary Bus Voltage of Customer's Bus\n",
"Sb=5000; //Power in kVA\n",
"r=0.3; //Line Resistance per mile\n",
"x=0.8; //Line Reactance per mile\n",
"Vhbp=7390;//Primary Bus Voltage of High Voltage Bus\n",
"Vhbs=12800;//Secondary Bus Voltage of High Voltage Bus\n",
"PTn=63.5; //Potential Transformer Turns Ratio\n",
"CTp=250;//Current Transformer Turns Ratio\n",
"VRP=Vlc/Vlbp;//Voltage at RP \n",
"Vll=Vhbs/1000; //Line Voltage\n",
"VBsec=Vcp/(sqrt(3)*PTn); //Secondary Reading of the Customer Transformer\n",
"\n",
"VRRset=VRP*VBsec; //Setting of the voltage-setting dial of VRR\n",
"\n",
"Zb=(Vll^2)*1000/Sb; //Applicable Impedance Base\n",
"Ztpu=0.05*%i;//Transformer Impedance per unit\n",
"Zt=Ztpu*Zb;//Transformer Impedance\n",
"\n",
"//Effective Resistances and Reactances\n",
"Reff=(r*l)+real(Zt);\n",
"Xeff=(x*l)+imag(Zt);\n",
"\n",
"Rset=CTp*Reff/PTn; //X Dial Setting of LDCs\n",
"Xset=CTp*Xeff/PTn; //X Dial Setting of LDCs\n",
"\n",
"printf('\na) The Necessary Setting of the voltage-setting dial of the VRR of each single phase regulator in use is %g V\n',VRRset)\n",
"printf('b) R and X dial settings of LDS is %g ohm and %g ohm respectively\n',Rset,Xset)"
   ]
   }
,
{
		   "cell_type": "markdown",
		   "metadata": {},
		   "source": [
			"## Example 9.9: To_Determine_the_Design_Parameters_of_a_Distributed_System.sce"
		   ]
		  },
  {
"cell_type": "code",
	   "execution_count": null,
	   "metadata": {
	    "collapsed": true
	   },
	   "outputs": [],
"source": [
"//To Determine the Design Parameters of a Distributed System\n",
"//Page 484\n",
"clc;\n",
"clear;\n",
"\n",
"VPpu=1.035; //Primary Feeder Voltage per unit\n",
"TVDpu=0.0776; //Total Voltage Drop of Feeder\n",
"Vll=13.2; //Line Voltage in kV\n",
"Vlpuqsw=1;//New Voltage at the End of the Feeder due to Qsw at annual peak load\n",
"XL=0.661; //Inductive Reactance per mile\n",
"Pl=3400; //Real Power\n",
"Ql=2100; //Reactive Power\n",
"l=10; //Length of the Feeder in Miles\n",
"Lf=0.4; //Load Factor\n",
"CR=0.27; //Total Capacitor Compensation Ratio For the Above Load Factor\n",
"QNSW=CR*Ql; //Required Size of the Nonswitched capacitor bank\n",
"s=2*l/3; //Loacation of Nonswitched capacitor bank for Optimum Result\n",
"VRpu=QNSW*(2*XL*l/3)/(1000*(Vll^2)); //Per Unit Voltage Rise\n",
"VDspu=TVDpu*s*(2-(s/l))/l; //Voltage drop for the uniformaly distributed load\n",
"\n",
"VSpu=VPpu-VDspu;//Feeder Voltage at 2l/3 distance\n",
"\n",
"nVSpu=VSpu+VRpu; //New Voltage Rise when there is a fixed capacitor bank\n",
"\n",
"Vlpu=VPpu-TVDpu; //When No Capcacitor bank is there, the voltage at the end of the feeder\n",
"\n",
"nVlpu=Vlpu+VRpu; //When Capcacitor bank is there, the voltage at the end of the feeder\n",
"VRpuqsw=Vlpuqsw-nVlpu; //Required Voltage Rise\n",
"\n",
"Q3phisw=1000*(Vll^2)*VRpuqsw/(XL*l); //Required Size of the Capacitor Bank\n",
"\n",
"//Let us assume the 15 single phase standard 50 kVAr Capacitor Units = 750 kVAr\n",
"\n",
"SQ3phisw=750; //Selected Capacitor Bank\n",
"\n",
"RVRlpu=VRpuqsw*SQ3phisw/Q3phisw; //Resultant Voltage Rises at distance l\n",
"RVRspu=RVRlpu*s/l; //Resultant Voltage Rises at distance s\n",
"\n",
"//At Peak Load when both the Non-Switched and Switched Capacitor Banks are on\n",
"\n",
"PVspu=nVSpu+RVRspu; //Voltage at s\n",
"PVlpu=nVlpu+RVRlpu; //Voltage at l\n",
"\n",
"printf('\na) The NSW Capacitor Rating is %g kVAr, Which means 2 100kVAr Capacitor Banks per phase\n',QNSW)\n",
"printf('\nb) Voltage Rise per unit is %g pu V\n',VRpu)\n",
"printf('i) When the No Capacitor Bank is Installed \n')\n",
"printf('Voltage at %g miles is %g pu V\n',s,VSpu)\n",
"printf('Voltage at %g miles is %g pu V\n',l,Vlpu)\n",
"printf('ii) When the Fixed Capacitor Bank is Installed \n')\n",
"printf('Voltage at %g miles is %g pu V\n',s,nVSpu)\n",
"printf('Voltage at %g miles is %g pu V\n',l,nVlpu)\n",
"printf('\nc) At Annual Peak Load, The Size of Capacitor Bank Required is %g\n',Q3phisw)\n",
"printf('The Voltage Rise at the Annual Load for the Required Capacitor Bank is %g pu V\n',VRpuqsw)\n",
"\n",
"//Note That The Calculations are highly accurate, Rounding of Terms hasn't be emplyed"
   ]
   }
],
"metadata": {
		  "kernelspec": {
		   "display_name": "Scilab",
		   "language": "scilab",
		   "name": "scilab"
		  },
		  "language_info": {
		   "file_extension": ".sce",
		   "help_links": [
			{
			 "text": "MetaKernel Magics",
			 "url": "https://github.com/calysto/metakernel/blob/master/metakernel/magics/README.md"
			}
		   ],
		   "mimetype": "text/x-octave",
		   "name": "scilab",
		   "version": "0.7.1"
		  }
		 },
		 "nbformat": 4,
		 "nbformat_minor": 0
}
