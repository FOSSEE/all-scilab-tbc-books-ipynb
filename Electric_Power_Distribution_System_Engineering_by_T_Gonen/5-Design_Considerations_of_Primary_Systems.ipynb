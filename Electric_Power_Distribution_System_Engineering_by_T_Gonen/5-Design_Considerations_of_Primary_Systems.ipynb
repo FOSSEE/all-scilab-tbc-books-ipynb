{
"cells": [
 {
		   "cell_type": "markdown",
	   "metadata": {},
	   "source": [
       "# Chapter 5: Design Considerations of Primary Systems"
	   ]
	},
{
		   "cell_type": "markdown",
		   "metadata": {},
		   "source": [
			"## Example 5.1: To_determine_the_circuit_parameters_of_a_radial_express_feeder.sce"
		   ]
		  },
  {
"cell_type": "code",
	   "execution_count": null,
	   "metadata": {
	    "collapsed": true
	   },
	   "outputs": [],
"source": [
"//To determine the circuit parameters of a radial express feeder\n",
"//Page 254\n",
"clc;\n",
"clear;\n",
"\n",
"Z=0.1+(0.1*%i); //Feeder Impedance per unit\n",
"R=real(Z); //Resistance\n",
"X=imag(Z); //Reactance\n",
"Vs=1; //Sending End Voltage\n",
"Pr=1; //Constant Power Load\n",
"pfr=0.8; //Power Factor at recieving end\n",
"tr=acosd(pfr); //Power FActor angle\n",
"deff('x=angle(y)','x=atand(imag(y)/real(y))') //Function to Determine the Angle of a phasor\n",
"\n",
"K=(Vs^2)-(2*Pr*(R+(X*tand(tr))));\n",
"\n",
"Vr=sqrt((K/2)*(1+sqrt(1-((2*abs(Z)*Pr/(K*pfr))^2)))); //Recieving End Voltage\n",
"C=Pr*(X-(R*tand(tr)))/((Vr^2)+(Pr*(R+(X*tand(tr)))));\n",
"\n",
"del=atand(C);\n",
"\n",
"Ir=(Pr/(abs(Vr)*pfr))*exp(-1*%pi*%i*tr/180) //Recieving End Current\n",
"Is=Ir; //Sending End Current\n",
"Tir=angle(Ir);\n",
"\n",
"Vr1=Vs-(Z*Ir);\n",
"\n",
"printf('\na) Vr is %g/_%g pu, del is %g degrees, Ir = Is = %g/_%g pu\n',abs(Vr),angle(Vr),del,abs(Ir),Tir)\n",
"printf('b) Vr is %g/_%g pu, which is almost equal to the previous case.\n',Vr1,angle(Vr1))"
   ]
   }
,
{
		   "cell_type": "markdown",
		   "metadata": {},
		   "source": [
			"## Example 5.2: To_determine_the_percent_voltage_drops.sce"
		   ]
		  },
  {
"cell_type": "code",
	   "execution_count": null,
	   "metadata": {
	    "collapsed": true
	   },
	   "outputs": [],
"source": [
"//To determine the percent voltage drops\n",
"//Page 259\n",
"clc;\n",
"clear;\n",
"\n",
"Sl=518; //Total Load on Lateral\n",
"Sm=1036; //Total Load on Main\n",
"Vll=4.16; //Line to Line voltage\n",
"\n",
"//Currents in the respective current\n",
"Ilateral=Sl/(sqrt(3)*Vll);\n",
"Imain=Sm/(sqrt(3)*Vll);\n",
"\n",
"C=5280; //Length Constant\n",
"Ll=5760/C; //Lateral Length\n",
"Lm=3300/C; //Main Length\n",
"\n",
"//Constant for the cables\n",
"Kl=0.015;\n",
"Km=0.01;\n",
"\n",
"//Voltage Drop Percents for 3 phase\n",
"VDlateral3=Ll*Kl*Sl/2;\n",
"VDmain3=Lm*Km*Sm;\n",
"TVD3=VDmain3+VDlateral3;\n",
"//Voltage Drop Percents for 1 phase according to Morrisoncfor laterals\n",
"VDlateral1=VDlateral3*4;\n",
"VDmain1=VDmain3;\n",
"TVD1=VDlateral1+VDmain1;\n",
"\n",
"\n",
"//CASE B\n",
"//To meet the maximum primary voltage drop criterion of 4.00 percent\n",
"//Conductors with ampacities of 480A and 270A for Main and laterals\n",
"\n",
"//Constants from the table\n",
"Klb=0.006;\n",
"Kmb=0.003;\n",
"\n",
"//Voltage Drop Percents\n",
"VDlateralb=Ll*Klb*Sl/2;\n",
"VDmainb=Lm*Kmb*Sm;\n",
"TVDb=VDmainb+VDlateralb;\n",
"\n",
"printf('\na) The percent voltage drops at :\n')\n",
"printf('i) 3Phase\n')\n",
"printf('Lateral End is %g percent\n',VDlateral3)\n",
"printf('Main End is %g percent\n',VDmain3)\n",
"printf('ii) 1Phase\n')\n",
"printf('Lateral End is %g percent\n',VDlateral1)\n",
"printf('Main End is %g percent\n',VDmain1)\n",
"printf('\nb) Conductors with Ampacities of 480A and 270A are used to find the Percent voltage drop of the Main and Lateral as %g percent and %g percent respectively\n',VDmainb,VDlateralb)\n",
"printf('The Above Drops meet the required criterion of 4 percent voltage drop\n')"
   ]
   }
,
{
		   "cell_type": "markdown",
		   "metadata": {},
		   "source": [
			"## Example 5.3: To_find_voltge_drop_percents_for_a_self_supporting_aerial_messenger_cable.sce"
		   ]
		  },
  {
"cell_type": "code",
	   "execution_count": null,
	   "metadata": {
	    "collapsed": true
	   },
	   "outputs": [],
"source": [
"//To find voltge drop percents for a self supporting aerial messenger cable\n",
"//Page 263\n",
"clc;\n",
"clear;\n",
"\n",
"//Terms taken from Example two\n",
"Il=72; \n",
"Im=144; \n",
"C=5280; //Length Constant\n",
"Ll=5760/C; //Lateral Length\n",
"Lm=3300/C; //Main Length\n",
"\n",
"//From Tables\n",
"//Lateral\n",
"rl=4.13; //Resistance per mile\n",
"xLl=0.258; //Reactance per mile\n",
"//Main\n",
"rm=1.29; //Resistance per mile\n",
"xLm=0.211;//Reactance per mile\n",
"pf=0.9; //Power Factor\n",
"\n",
"Vb=2400; //Base Voltage\n",
"//Voltage Drops\n",
"VDlateral=Il*((rl*pf)+(xLl*sind(acosd(pf))))*Ll/2; \n",
"VDmain=Im*((rm*pf)+(xLm*sind(acosd(pf))))*Lm;\n",
"\n",
"//Percent Voltage Drop\n",
"perVDlateral=VDlateral*100/Vb;\n",
"perVDmain=VDmain*100/Vb;\n",
"\n",
"TVD=perVDlateral+perVDmain; //Total Percent Voltage drop\n",
"\n",
"//Case B\n",
"//Conductors With Ampacities of 268A and 174A for Main and Laterals\n",
"//From Tables\n",
"//Lateral\n",
"rlb=1.03; //Resistance per mile\n",
"xLlb=0.207; //Reactance per mile\n",
"//Main\n",
"rmb=0.518; //Resistance per mile\n",
"xLmb=0.191;//Reactance per mile\n",
"\n",
"Vb=2400; //Base Voltage\n",
"//Voltage Drops\n",
"VDlateralb=Il*((rlb*pf)+(xLlb*sind(acosd(pf))))*Ll/2; \n",
"VDmainb=Im*((rmb*pf)+(xLmb*sind(acosd(pf))))*Lm;\n",
"\n",
"//Percent Voltage Drop\n",
"perVDlateralb=VDlateralb*100/Vb;\n",
"perVDmainb=VDmainb*100/Vb;\n",
"\n",
"TVDb=perVDlateralb+perVDmainb; //Total Percent Voltage drop\n",
"\n",
"printf('\na) The percent voltage drops at :\n')\n",
"printf('Lateral End is %g percent\n',perVDlateral)\n",
"printf('Main End is %g percent\n',perVDmain)\n",
"\n",
"printf('\nb) Conductors with Ampacities of 278A and 174A are used to find the Percent voltage drop of the Main and Lateral as %g percent and %g percent respectively\n',perVDmainb,perVDlateralb)\n",
"printf('The Above Drops meet the required criterion of 4 percent voltage drop\n')"
   ]
   }
,
{
		   "cell_type": "markdown",
		   "metadata": {},
		   "source": [
			"## Example 5.4: EX5_4.sce"
		   ]
		  },
  {
"cell_type": "code",
	   "execution_count": null,
	   "metadata": {
	    "collapsed": true
	   },
	   "outputs": [],
"source": [
"//To determine the percent voltage drops using nomnial operating voltage as base voltage\n",
"//Page 265\n",
"clc;\n",
"clear;\n",
"\n",
"Sl=518; //Total Load on Lateral\n",
"Sm=5180; //Total Load on Main\n",
"Vll=12.47; //Line to Line voltage\n",
"\n",
"//Currents in the respective current\n",
"Ilateral=Sl/(sqrt(3)*Vll);\n",
"Imain=Sm/(sqrt(3)*Vll);\n",
"\n",
"C=5280; //Length Constant\n",
"Ll=5760/C; //Lateral Length\n",
"Lm=3300/C; //Main Length\n",
"\n",
"//Constant for the cables\n",
"Km=0.0008;\n",
"Kl=0.00175;\n",
"\n",
"//Voltage Drop Percents for 3 phase\n",
"VDlateral=Ll*Kl*Sl/2;\n",
"\n",
"//Due to peculiarity of this new problem, one half of the main has to considered as express feeder and the other connected to a uniformly distributed load of 5180kVA\n",
"VDmain=Lm*Km*Sm*3/4;\n",
"TVD=VDmain+VDlateral;\n",
"\n",
"//Since the inductive reactance of the line is\n",
"Cd=12; //Constant to find the distance in terms of feet\n",
"\n",
"//Diameters of the Conductors\n",
"Dmi=37;\n",
"Dmn=53;\n",
"\n",
"//Drops per mile\n",
"xdi=0.1213*log(Dmi/Cd);\n",
"xdn=0.1213*log(Dmn/Cd);\n",
"\n",
"Dxd=xdn-xdi; //Difference in Drops\n",
"\n",
"printf('\na) The percent voltage drops at :\n')\n",
"printf('Lateral End is %g percent\n',VDlateral)\n",
"printf('Main End is %g percent\n',VDmain)\n",
"\n",
"printf('\nb) The Above Drops meet the required criterion of 4 percent voltage drop\n')\n",
"printf('\nc) The Difference in Voltage drop is %g ohm/mile, which is a smaller VD valuue that it really is.\n',Dxd)"
   ]
   }
,
{
		   "cell_type": "markdown",
		   "metadata": {},
		   "source": [
			"## Example 5.5: To_find_the_percent_voltage_drop_at_the_ends_of_the_most_remote_laterals.sce"
		   ]
		  },
  {
"cell_type": "code",
	   "execution_count": null,
	   "metadata": {
	    "collapsed": true
	   },
	   "outputs": [],
"source": [
"//To find the percent voltage drop at the ends of the most remote laterals\n",
"//Page 268\n",
"clc;\n",
"clear;\n",
"\n",
"Vb=7200; //Base Voltage in V\n",
"pf=0.9; //Power Factor\n",
"Sm=10360; //Load on Main Feeder in kVA\n",
"Vll=12.47; //Line to Line voltage in kV\n",
"Imain=Sm/(sqrt(3)*Vll); //Current in Main Feeder\n",
"\n",
"//Note Suffix l means lateral and m means main\n",
"\n",
"Vph=7.2; //Phase Voltage in kV\n",
"Sl=2*518; //Load on Lateral Feeder in kVA\n",
"Ilateral=Sl/Vph; //Current in Laterals\n",
"\n",
"//Length of the Feeder\n",
"//Length Constant\n",
"Cm=5280; //Main\n",
"Cl=1000; //Lateral\n",
"Ll=5760/Cl; //Lateral Length\n",
"Lm=3300/Cm; //Main Length\n",
"\n",
"//Constants for the particular cables from the tables\n",
"rl=0.331;\n",
"xLl=0.0300;\n",
"rm=0.342;\n",
"xam=0.458;\n",
"xdm=0.1802;\n",
"xLm=xam+xdm;\n",
"\n",
"//Voltage Drops for Normal Condition\n",
"VDmainn=(Imain/2)*((rm*pf)+(xLm*sind(acosd(pf))))*Lm/2;\n",
"VDlateraln=(Ilateral/2)*((rl*pf)+(xLl*sind(acosd(pf))))*Ll/2;\n",
"\n",
"perVDmainn=VDmainn*100/Vb;\n",
"perVDlateraln=VDlateraln*100/Vb;\n",
"\n",
"TVDn=perVDmainn+perVDlateraln;\n",
"\n",
"//Voltage Drops for Worst Conditions\n",
"VDmainw=(Imain)*((rm*pf)+(xLm*sind(acosd(pf))))*Lm/2;\n",
"VDlateralw=(Ilateral)*((rl*pf)+(xLl*sind(acosd(pf))))*Ll;\n",
"\n",
"perVDmainw=VDmainw*100/Vb;\n",
"perVDlateralw=VDlateralw*100/Vb;\n",
"\n",
"TVDw=perVDmainw+perVDlateralw;\n",
"\n",
"printf('\na)From Table A5, 300-kcmilACSR conductors, with 500A Ampacity is used for main\nand AWG #2 XLPE Al URD cable with 168A Ampacity\n')\n",
"printf('b) The Total Voltage Drop in Percent for Normal Operation is %g percent\n',TVDn)\n",
"printf('c) The Total Voltage Drop in Percent for Worst Condition is %g percent\n',TVDw)\n",
"printf('d) The Voltage drop is met for Normal operation and NOT for emergency operation\n')"
   ]
   }
],
"metadata": {
		  "kernelspec": {
		   "display_name": "Scilab",
		   "language": "scilab",
		   "name": "scilab"
		  },
		  "language_info": {
		   "file_extension": ".sce",
		   "help_links": [
			{
			 "text": "MetaKernel Magics",
			 "url": "https://github.com/calysto/metakernel/blob/master/metakernel/magics/README.md"
			}
		   ],
		   "mimetype": "text/x-octave",
		   "name": "scilab",
		   "version": "0.7.1"
		  }
		 },
		 "nbformat": 4,
		 "nbformat_minor": 0
}
