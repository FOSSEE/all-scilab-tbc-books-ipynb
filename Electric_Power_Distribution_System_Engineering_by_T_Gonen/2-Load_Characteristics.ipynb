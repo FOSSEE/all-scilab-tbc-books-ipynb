{
"cells": [
 {
		   "cell_type": "markdown",
	   "metadata": {},
	   "source": [
       "# Chapter 2: Load Characteristics"
	   ]
	},
{
		   "cell_type": "markdown",
		   "metadata": {},
		   "source": [
			"## Example 2.10: To_calculate_thirty_min_annual_maximum_demand.sce"
		   ]
		  },
  {
"cell_type": "code",
	   "execution_count": null,
	   "metadata": {
	    "collapsed": true
	   },
	   "outputs": [],
"source": [
"//To calculate thirty min annual maximum demand\n",
"//Page 59\n",
"clc;\n",
"clear;\n",
"\n",
"Fd=1.15;\n",
"Pi=[1800,2000,2200]; //Demands of various feeders in kW (Real Power)\n",
"PF=[0.95,0.85,0.90]; //Power factor of the respective feeders\n",
"Dg=sum(Pi)/Fd;\n",
"P=Dg;\n",
"theta=acosd(PF);\n",
"\n",
"Q=sum(Pi*(tand(theta))')/Fd;\n",
"S=sqrt((P^2)+(Q^2));\n",
"LD=sum(Pi)-Dg;\n",
"\n",
"//Transformer sizes\n",
"Tp=[2500,3750,5000,7500];\n",
"Ts=[3125,4687,6250,9375]; \n",
"\n",
"Ol=1.25; //Maximum overload condition\n",
"Eol=Ts*Ol; //Overload voltages of the transformer\n",
"Ed=abs(Eol-S); // Difference between the overload values of the transformers and the P value of the system\n",
"\n",
"[A,k]=gsort(Ed); // To sort the differences and choose the best match\n",
"\n",
"T=[Tp(k(4)),Ts(k(4))]; //Suitable transformer\n",
"\n",
"g=poly(0,'g');\n",
"X=(1+g)-nthroot(2,10); //To find out the fans on rating\n",
"R=roots(X);\n",
"g=R*100;\n",
"\n",
"n=poly(0,'n');\n",
"Sn=9375; // Rating of the to be installed transformer\n",
"// Equation (1+g)^n * S = Sn\n",
"// a=(1+g)\n",
"// b=Sn/S\n",
"\n",
"a=1+R;\n",
"b=Sn/S;\n",
"n=log(b)/log(a);\n",
"\n",
"printf('a) The 30 mins annual maximum deman on the substation transformer are %g kW and %g kVA respectively\n',P,S)\n",
"printf(' b) The load diversity is %g kW\n',LD)\n",
"printf(' c) Suitable transformer size for 25 percent short time over loads is %g/%g kVA\n',T(1),T(2))\n",
"printf(' d) Fans on rating is %g percent and it will loaded for %g more year if a 7599/9375 kVA transformer is installed\n',g,ceil(n))"
   ]
   }
,
{
		   "cell_type": "markdown",
		   "metadata": {},
		   "source": [
			"## Example 2.11: To_determine_the_Thirty_min_maximum_diversified.sce"
		   ]
		  },
  {
"cell_type": "code",
	   "execution_count": null,
	   "metadata": {
	    "collapsed": true
	   },
	   "outputs": [],
"source": [
"//To determine the Thirty min maximum diversified\n",
"//Page 62\n",
"clc;\n",
"clear;\n",
"\n",
"printf('NOTE\n\n')\n",
"printf('The figure 1 attached along with this code is the Maximum diversified 30- min demand characteristics of various residential loads;\n  A = Clothes dryer; D = range; E = lighting and miscellaneous appliances; J = refrigerator\n (Only the loads required for this problem have been mentioned)\n \n')\n",
"\n",
"Ndt=50; //Number of distribution transformers\n",
"Nr=900; //Number of residences\n",
"\n",
"//When the loads are six.\n",
"PavMax6=[1.6,0.8,0.066,0.61]; //Average Maximum diversified demands (in kW) per house for dryer, range, refrigerator, for lighting and misc aapliances respectively according to the figure 1 attached with code. \n",
"\n",
"Mddt= sum(6*PavMax6); //30 min maximum diversified demand on the distribution transformer\n",
"\n",
"//When the loads are 900.\n",
"PavMax900=[1.2,0.53,0.044,0.52]; ////Average Maximum diversified demands (in kW) per house for dryer, range, refreigerato, for lighting and misc aapliances respectively according to the figure 1 attached with code.\n",
"\n",
"Mdf=sum(Nr*PavMax900); //30 min maximum diversified demand on the feeder\n",
"\n",
"//From the figure 2 attached to this code\n",
"Hdd4=[0.38,0.24,0.9,0.32]; //Hourly variation factor at time 4 PM for dryer, range, refrigerator, lighting and misc appliances\n",
"Hdd5=[0.30,0.80,0.9,0.70]; //Hourly variation factor at time 5 PM for dryer, range, refrigerator, lighting and misc appliances\n",
"Hdd6=[0.22,1.0,0.9,0.92]; //Hourly variation factor at time 6 PM for dryer, range, refrigerator, lighting and misc appliances\n",
"\n",
"Thdd4=(6*PavMax6)*Hdd4'; //Gives the total hourly diversified demand in kW at time 4 PM\n",
"Thdd5=(6*PavMax6)*Hdd5'; //Gives the total hourly diversified demand in kW at time 5 PM\n",
"Thdd6=(6*PavMax6)*Hdd6'; //Gives the total hourly diversified demand in kW at time 6 PM\n",
"\n",
"printf(' a) The 30 min maximum diversified demand on the distribution transformer = %g kW\n',Mddt)\n",
"printf(' b) The 30 min maximum diversified demand on the distribution transformer = %g kW\n',Mdf)\n",
"printf(' c) The total hourly diversified demands at:\n')\n",
"printf(' i) 4.00 PM = %g kW\n',Thdd4)\n",
"printf(' ii) 5.00 PM = %g kW\n',Thdd5)\n",
"printf(' iii) 6.00 PM = %g kW\n',Thdd6)"
   ]
   }
,
{
		   "cell_type": "markdown",
		   "metadata": {},
		   "source": [
			"## Example 2.12: To_find_monthly_load_factor_Rating_of_distribution_transformer_monthly_bill.sce"
		   ]
		  },
  {
"cell_type": "code",
	   "execution_count": null,
	   "metadata": {
	    "collapsed": true
	   },
	   "outputs": [],
"source": [
"//To find monthly load factor Rating of distribution transformer monthly bill\n",
"//Page 72\n",
"clc;\n",
"clear;\n",
"\n",
"T=730; //Average monthly time in hrs\n",
"Pla=22; //Peak Load for consumer A in kW\n",
"Plb=39; //Peak load for consumer B in kW\n",
"MEC=[0.025,0.02,0.015]; //Monthly Energy charges in cents/kWh according to the units consumed\n",
"Uc=[1000,3000,3000]; //Units consumption according to the Energy charges\n",
"MDC=2; //Monthly demand charge in dollars/kW\n",
"\n",
"Pa=7000; //Units served to Consumer A in kWh\n",
"Pb=7000; //Units served to Consumer B in kWh\n",
"\n",
"//Power factors\n",
"Pfa=0.9; // Lag\n",
"Pfb=0.76; //Lag\n",
"\n",
"//Monthly Load factors\n",
"Flda=Pa/(Pla*T);\n",
"Fldb=Pb/(Plb*T);\n",
"\n",
"//Continous kilovoltamperes for each distribution transformer\n",
"Sa=Pla/Pfa;\n",
"Sb=Plb/Pfb;\n",
"\n",
"//Ratings of the distribution transformers needed\n",
"Ta=round(Sa/5)*5;\n",
"Tb=round(Sb/5)*5;\n",
"\n",
"//Billing Charges\n",
"//For Consumer A\n",
"Mbda=Pla*(0.85/Pfa); // Monthly billing demand\n",
"Mdca=Mbda*MDC; //Monthly demand charge\n",
"//Since the units served are 7000 it can be split according to the rates  as 1000, 3000, 3000 excess units.\n",
"Uca=Uc; //Units consumption by A\n",
"Meca=MEC*Uca'; //Monthly energy charge\n",
"Tmba=Meca+Mdca; //Total monthly bill\n",
" \n",
"//For Consumer B\n",
"Mbdb=Plb*(0.85/Pfb); // Monthly billing demand\n",
"Mdcb=Mbdb*MDC; //Monthly demand charge\n",
"//Since the units served are 7000 it can be split according to the rates  as 1000, 3000, 3000 excess units.\n",
"Ucb=Uc; //Units consumption by B\n",
"Mecb=MEC*Ucb'; //Monthly energy charge\n",
"Tmbb=Mecb+Mdcb; //Total monthly bill\n",
"\n",
"//To find the capacitor size\n",
"Q1=Pb*tand(acosd(Pfb)); //For original power factor\n",
"Q2=Pb*tand(acosd(0.85)); //For new power factor\n",
"\n",
"dQ=(Q1-Q2)/T; //Capacitor size\n",
"\n",
"//For new power factor\n",
"//For Consumer B\n",
"Mbdbn=Plb*(1); // Monthly billing demand\n",
"Mdcbn=Mbdbn*MDC; //Monthly demand charge\n",
"//Since the units served are 7000 it can be split according to the rates  as 1000, 3000, 3000 excess units.\n",
"Ucbn=Uc; //Units consumption by B\n",
"Mecbn=MEC*Ucbn'; //Monthly energy charge\n",
"Tmbbn=Mecbn+Mdcbn; //Total monthly bill\n",
"\n",
"Saving=abs(Tmbbn-Tmbb); //Saving due to capacitor installation\n",
"Ci=30; // Cost of capacitor in dollar per kVAr\n",
"Cc=Ci*dQ; //The cost of the installed capacitor\n",
"PP=Cc/Saving; //Payback Period\n",
"PPr=90/Saving; //Realistic Payback period\n",
"\n",
"printf('a) Monthly load factor for :\n')\n",
"printf(' i) Consumer A = %g\n',Flda)\n",
"printf(' ii) Consumer B =%g\n',Fldb)\n",
"printf(' b) Rating of the each of the distribution transformer:\n')\n",
"printf(' i) A = %g kVA\n',Ta)\n",
"printf(' ii) B = %g kVA\n',Tb)\n",
"printf(' c) Monthly bil for:\n')\n",
"printf(' i) Consumer A = $%g\n',Tmba) \n",
"printf(' ii) Consumer B = $%g\n',Tmbb)\n",
"printf(' d) The capacitor size required is %g kVAr\n',dQ)\n",
"printf(' e) Payback period:\n')\n",
"printf(' i) Calculated : %g months\n',ceil(PP))\n",
"printf(' ii) Realistic as capacitor size available is 3 kVAr : %g months\n',ceil(PPr))\n",
"\n",
"\n",
"\n",
"\n",
""
   ]
   }
,
{
		   "cell_type": "markdown",
		   "metadata": {},
		   "source": [
			"## Example 2.13: To_determine_the_instantaneous_demands_and_the_average_demand.sce"
		   ]
		  },
  {
"cell_type": "code",
	   "execution_count": null,
	   "metadata": {
	    "collapsed": true
	   },
	   "outputs": [],
"source": [
"//To determine the instantaneous demands and the average demand\n",
"//Page 84\n",
" clc;\n",
" clear;\n",
" \n",
" Kh=7.2; //Meter constant\n",
" Kr1=32; //Revolutions of the disk in the first reading\n",
" Kr2=27; //Revolutions of the disk in the second reading\n",
" T1=59; //Time interval for revolutions of disks for the first reading\n",
" T2=40; //Time interval for revolutions of disks for the second reading\n",
" \n",
" // Self contained watthour meter; D = (3.6*Kr*Kh)/T\n",
" \n",
" deff('y=Id(a,b)','y=((3.6*Kh*a)/b)'); //Function to calculate the instaneous demand\n",
" \n",
" D1=Id(Kr1,T1);\n",
" D2=Id(Kr2,T2);\n",
" Dav=(D1+D2)/2;\n",
" \n",
" printf('The instantenous demands are %g kW and %g kW for reading 1 and 2 and the average demand is %g kW\n',D1,D2,Dav)"
   ]
   }
,
{
		   "cell_type": "markdown",
		   "metadata": {},
		   "source": [
			"## Example 2.14: To_determine_instantaneous_demands_and_average_demand_for_transformer_type.sce"
		   ]
		  },
  {
"cell_type": "code",
	   "execution_count": null,
	   "metadata": {
	    "collapsed": true
	   },
	   "outputs": [],
"source": [
"//To determine instantaneous demands and average demand for transformer type\n",
"//Page 84\n",
"clc;\n",
"clear;\n",
"\n",
"//For a transformer type watthour meter; D = (3.6*Kr*Kh*CTR*PTR)/T\n",
"CTR=200;\n",
"PTR=1;\n",
"Kh=1.8;\n",
" Kr1=32; //Revolutions of the disk in the first reading\n",
" Kr2=27; //Revolutions of the disk in the second reading\n",
" T1=59; //Time interval for revolutions of disks for the first reading\n",
" T2=40; //Time interval for revolutions of disks for the second reading\n",
" deff('y=Id(a,b)','y=((3.6*Kh*a*CTR*PTR)/b)'); //Function to calculate the instaneous demand\n",
" \n",
" D1=Id(Kr1,T1);\n",
" D2=Id(Kr2,T2);\n",
" Dav=(D1+D2)/2;\n",
" \n",
" printf('The instantenous demands are %g kW and %g kW for reading 1 and 2 and the average demand is %g kW\n',D1,D2,Dav)"
   ]
   }
,
{
		   "cell_type": "markdown",
		   "metadata": {},
		   "source": [
			"## Example 2.15: To_determine_watt_VAr_and_VA_demands.sce"
		   ]
		  },
  {
"cell_type": "code",
	   "execution_count": null,
	   "metadata": {
	    "collapsed": true
	   },
	   "outputs": [],
"source": [
"//To determine watt VAr and VA demands\n",
"//Page 85\n",
"clc;\n",
"clear;\n",
"\n",
"Kh=1.2;\n",
"CTR=80;\n",
"PTR=20;\n",
"//Revolutions of the disk in a watthour meter for 1 and 2 readings respectively\n",
"Kr1=20;\n",
"Kr2=30;\n",
"//Revolutions of the disk in a VArhour meter for 1 and 2 readings respectively\n",
"Kr3=10;\n",
"Kr4=20\n",
"//Time interval for revoltion of disks in watthour meter for 1 and 2 readings respectively\n",
"T1=50;\n",
"T2=60;\n",
"//Time interval for revoltion of disks in VArhour meter for 1 and 2 readings respectively\n",
"T3=50;\n",
"T4=60;\n",
"\n",
"deff('y=Id(a,b)','y=((3.6*Kh*a*CTR*PTR)/b)'); //Function to calculate the instaneous demand\n",
"\n",
"//Instantaneous kilowatt demands for readings 1 and 2\n",
"D1=Id(Kr1,T1);\n",
"D2=Id(Kr2,T2);\n",
"\n",
"//Instantaneous kilovar deamnds for readings 1 and 2\n",
"D3=Id(Kr3,T3);\n",
"D4=Id(Kr4,T4);\n",
"\n",
"Davp=(D1+D2)/2; //Average kilowatt demand\n",
"Davq=(D3+D4)/2; //Average kilovar demand\n",
"\n",
"Dav=sqrt((Davp^2)+(Davq^2)); //Average kilovoltampere demand\n",
"\n",
"printf('a) The instantaneous kilowatt hour demands for readings 1 and 2 are %g kW and %g kW respectively\n',D1,D2)\n",
"printf(' b) The average kilowatt demand is %g kW\n',Davp)\n",
"printf(' c) The instantaneous kilovar hour demands for readings 1 and 2 are %g kVAr and %g kVAr respectively\n',D3,D4)\n",
"printf(' d) The average kilovar demand is %g kVAr\n',Davq)\n",
"printf(' e) The average kilovoltampere demand is %g kVA\n',Dav)"
   ]
   }
,
{
		   "cell_type": "markdown",
		   "metadata": {},
		   "source": [
			"## Example 2.1: To_find_the_load_curve.sce"
		   ]
		  },
  {
"cell_type": "code",
	   "execution_count": null,
	   "metadata": {
	    "collapsed": true
	   },
	   "outputs": [],
"source": [
"//To find the load curve\n",
"//Page 39\n",
"clc;\n",
"clear;\n",
"\n",
"t=[0:1:24];\n",
"SL=[100,100,100,100,100,100,100,100,0,0,0,0,0,0,0,0,0,0,100,100,100,100,100,100,100];\n",
"R=[200,200,200,200,200,200,200,300,400,500,500,500,500,500,500,500,500,600,700,800,1000,1000,800,600,300];\n",
"C=[200,200,200,200,200,200,200,200,300,500,1000,1000,1000,1000,1200,1200,1200,1200,800,400,400,400,200,200,200];\n",
"Tl=SL+R+C;\n",
"\n",
"//To display the Load bar curve diagram\n",
"bar(t,Tl,0.5,'red')\n",
"title('Example 2.1','fontsize',3)\n",
"xlabel('Time in hrs','fontsize',2)\n",
"ylabel('Load in kW','fontsize',2)"
   ]
   }
,
{
		   "cell_type": "markdown",
		   "metadata": {},
		   "source": [
			"## Example 2.2: To_determine_the_annual_power_loss.sce"
		   ]
		  },
  {
"cell_type": "code",
	   "execution_count": null,
	   "metadata": {
	    "collapsed": true
	   },
	   "outputs": [],
"source": [
"//To determine the annual power loss\n",
"//Page 46\n",
"clc;\n",
"clear;\n",
"\n",
"Fls=0.15;\n",
"Ppl=80*(10^3); //Power Loss at peak load.\n",
"\n",
"Avgpl=Fls*Ppl; //Average Power Loss\n",
"TAELCu=Avgpl*8760; //Total annual energy loss\n",
"\n",
"printf('a) The average annual power loss = %g kW\n',(Avgpl/1000))\n",
"printf(' b) The total annual energy loss due to the copper losses of the feeder circuits = %g kWh\n',(TAELCu/1000))"
   ]
   }
,
{
		   "cell_type": "markdown",
		   "metadata": {},
		   "source": [
			"## Example 2.3: To_determine_the_diversified_demand.sce"
		   ]
		  },
  {
"cell_type": "code",
	   "execution_count": null,
	   "metadata": {
	    "collapsed": true
	   },
	   "outputs": [],
"source": [
"//To determine the diversified demand\n",
"//Page 47\n",
"clc;\n",
"clear;\n",
"\n",
"TCDi=[9,9,9,9,9,9]; //Load for each house all in kilowatt\n",
"DFi=0.65; //Demand factor\n",
"Fd=1.1; //Diversity factor\n",
"\n",
"Dg=sum(TCDi)*DFi/Fd;\n",
"\n",
"printf('The diversified demand of the group on the distribution transformer is %g kW\n',Dg)"
   ]
   }
,
{
		   "cell_type": "markdown",
		   "metadata": {},
		   "source": [
			"## Example 2.4: To_determine_copper_losses_of_the_feeder.sce"
		   ]
		  },
  {
"cell_type": "code",
	   "execution_count": null,
	   "metadata": {
	    "collapsed": true
	   },
	   "outputs": [],
"source": [
"//To determine copper losses of the feeder\n",
"//Page 48\n",
"clc;\n",
"clear;\n",
"\n",
"SP=3000*(10^3); //System peak in kVA per phase\n",
"Cl=0.5/100; //Percentage of copper loss\n",
"I2R= Cl*SP; //Copper loss of the feeder per phase\n",
"I2R3=3*I2R; //Copper losses of the feeder per 3 phase\n",
"\n",
"printf('a) The copper loss of the feeder per phase = %g kW\n',(I2R/1000))\n",
"printf(' b) The total coper losses of the feeder per three phase = %g kW\n',(I2R3/1000))"
   ]
   }
,
{
		   "cell_type": "markdown",
		   "metadata": {},
		   "source": [
			"## Example 2.5: To_determine_the_diversity_load_diversity_and_coincidence_factor.sce"
		   ]
		  },
  {
"cell_type": "code",
	   "execution_count": null,
	   "metadata": {
	    "collapsed": true
	   },
	   "outputs": [],
"source": [
"//To determine the diversity load diversity and coincidence factor\n",
"//Page 48\n",
"clc;\n",
"clear;\n",
"\n",
"Pi=2000*(10^3); //Peak for industrial load\n",
"Pr=2000*(10^3); //Peak for residential load\n",
"Dg=3000*(10^3); //System peak load as specified in the diagram\n",
"P=[Pi,Pr]; //System peaks for various loads \n",
"\n",
"Fd= sum(P)/Dg; //Diversity factor\n",
"LD= sum(P)-Dg; //Load diversity factor\n",
"Fc=1/Fd; // Coincidence factor\n",
"\n",
"printf('a) The diversity factor of the load is %g\n',Fd)\n",
"printf(' b) The load diversity of the load is %g kW\n',(LD/1000))\n",
"printf(' c) The coincidence factor of the load is %g\n',Fc)\n",
""
   ]
   }
,
{
		   "cell_type": "markdown",
		   "metadata": {},
		   "source": [
			"## Example 2.6: To_determine_the_class_distribution_factors.sce"
		   ]
		  },
  {
"cell_type": "code",
	   "execution_count": null,
	   "metadata": {
	    "collapsed": true
	   },
	   "outputs": [],
"source": [
"//To determine the class distribution factors\n",
"//Page 50\n",
"//Refer diagram of the first example of this chapter\n",
"clc;\n",
"clear;\n",
"\n",
"Ps=100; //Peak load for street lighting in kW\n",
"Pr=1000; //Peak load for Residential in kW\n",
"Pc=1200; //Peak Commercial load in kW\n",
"P=[Ps,Pr,Pc] //Peaks of various loads\n",
"\n",
"Ls5=0; //Street lighting load at 5.00 PM in kW\n",
"Lr5=600; //Residential load at 5.00 PM in kW\n",
"Lc5=1200; //Commercial Load at 5.00 PM in kW\n",
"\n",
"Cstreet=Ls5/Ps;\n",
"Cresidential=Lr5/Pr;\n",
"Ccommercial=Lc5/Pc;\n",
"C=[Cstreet,Cresidential,Ccommercial]; //Class distribution for various factors\n",
"\n",
"Fd=(sum(P))/(sum(P*C'));\n",
"Dg=(sum(P*C'));\n",
"Fc=1/Fd;\n",
"\n",
"printf('a) The class distribution factors factor of:\n')\n",
"printf(' i) Street lighting = %g\n ii) Residential = %g\n iii) Commercial =%g\n',C(1),C(2),C(3))\n",
"printf(' b) The diversity factor for the primary feeder = %g\n',Fd)\n",
"printf(' c) The diversified maximum demand of the load group = %g kW\n',Dg) \n",
"printf(' d) The coincidence factor of the load group = %g\n',Fc)\n",
""
   ]
   }
,
{
		   "cell_type": "markdown",
		   "metadata": {},
		   "source": [
			"## Example 2.7: To_determine_the_annual_average_power_demand.sce"
		   ]
		  },
  {
"cell_type": "code",
	   "execution_count": null,
	   "metadata": {
	    "collapsed": true
	   },
	   "outputs": [],
"source": [
"//To determine the annual average power demand\n",
"//Page 55\n",
"clc;\n",
"clear;\n",
"\n",
"printf('Assuming a monthly load curve as shown in the figure attached to this code\n')\n",
"\n",
"TAE=10^7; // Total annual energy in kW\n",
"APL=3500; //Annual peak load in kW\n",
"Pav= TAE/8760; //Annual average power demand\n",
"Fld= Pav/APL; //Annual load factor\n",
"\n",
"printf('a) The annual power demand is %g kW\n',Pav)\n",
"printf('b) The annual load factor is %g\n',Fld)\n",
"printf('The unsold energy, as shown in the figure is a measure of capacity and investment cost. Ideally it should be kept at a minimum\n')"
   ]
   }
,
{
		   "cell_type": "markdown",
		   "metadata": {},
		   "source": [
			"## Example 2.8: To_determine_the_annual_load_factor_on_the_substation.sce"
		   ]
		  },
  {
"cell_type": "code",
	   "execution_count": null,
	   "metadata": {
	    "collapsed": true
	   },
	   "outputs": [],
"source": [
"//To determine the annual load factor on the substation\n",
"//Page 57\n",
"clc;\n",
"clear;\n",
"\n",
"printf('Assuming a monthly load curve as shown in the figure attached to this code\n')\n",
"\n",
"Nl=100; //100% percent load to be supplied\n",
"TAE=10^7; // Total annual energy in kW\n",
"APL=3500; //Annual peak load in kW\n",
"Pav= TAE/8760; //Annual average power demand\n",
"Fld= (Pav+Nl)/(APL+Nl); //Annual load factor\n",
"Cr=3;//Capacity cost\n",
"Er=0.03;//Energy cost\n",
"ACC=Nl*12*Cr; //Additional capacity cost per kWh\n",
"AEC=Nl*8760*Er; //Additional energy cost per kWh\n",
"TAC=ACC+AEC; //Total annual cost\n",
"\n",
"\n",
"printf('a) The new annual load factor on the substation is %g\n',Fld)\n",
"printf('b) The total annual additional costs to NL&NP to serve this load is $%g\n',TAC)"
   ]
   }
,
{
		   "cell_type": "markdown",
		   "metadata": {},
		   "source": [
			"## Example 2.9: To_detemine_the_annual_loss_factor.sce"
		   ]
		  },
  {
"cell_type": "code",
	   "execution_count": null,
	   "metadata": {
	    "collapsed": true
	   },
	   "outputs": [],
"source": [
"//To detemine the annual loss factor\n",
"//Page 58\n",
"clc;\n",
"clear;\n",
"\n",
"TAE=5.61*(10^6); //Total annual energy in kW\n",
"APL=2000; //Annual peak load in kW\n",
"Lc=0.03; //Cost of energy per kWh in dollars\n",
"Plp=100; //Power at peak load in kW\n",
"\n",
"Fld=TAE/(APL*8760); \n",
"Fls= (0.3*Fld)+(0.7*(Fld^2));\n",
"AvgEL=Fls*Plp; //Average energy loss\n",
"AEL=AvgEL*8760; //Annual energy loss\n",
"Tlc=AEL*Lc; //Cost of total annual copper loss\n",
"\n",
"printf('a) The annual loss factor is %g\n',Fls)\n",
"printf(' b) The annual copper loss energy is %g kWh and the cost of total annual copper loss is $%g\n',AEL,Tlc)\n",
""
   ]
   }
],
"metadata": {
		  "kernelspec": {
		   "display_name": "Scilab",
		   "language": "scilab",
		   "name": "scilab"
		  },
		  "language_info": {
		   "file_extension": ".sce",
		   "help_links": [
			{
			 "text": "MetaKernel Magics",
			 "url": "https://github.com/calysto/metakernel/blob/master/metakernel/magics/README.md"
			}
		   ],
		   "mimetype": "text/x-octave",
		   "name": "scilab",
		   "version": "0.7.1"
		  }
		 },
		 "nbformat": 4,
		 "nbformat_minor": 0
}
