{
"cells": [
 {
		   "cell_type": "markdown",
	   "metadata": {},
	   "source": [
       "# Chapter 6: Design Considerations of Secondary Systems"
	   ]
	},
{
		   "cell_type": "markdown",
		   "metadata": {},
		   "source": [
			"## Example 6.1: To_Compute_the_Economical_Sizes_of_the_Transformer_and_its_Equipment.sce"
		   ]
		  },
  {
"cell_type": "code",
	   "execution_count": null,
	   "metadata": {
	    "collapsed": true
	   },
	   "outputs": [],
"source": [
"//To Compute the Economical Sizes of the Transformer and its Equipment\n",
"//Page 296\n",
"clc;\n",
"clear;\n",
"\n",
"NC=24; //Number Of Customers Per Block\n",
"\n",
"//We get the Total Annual Cost from the releveant equations as\n",
"// TAC = 239.32 + (3.1805*ST) + (3492/ST) + (28170/ST^2) + (0.405*ASL) + (17018/ASL) + (1.134*ASD) + (8273/ASD)\n",
"\n",
"//We know split the above equation into 3 different parts according to factors ST,ASD,ASL\n",
"\n",
"//Variable Values of the Factors\n",
"ST=poly(0,'ST');\n",
"ASD=poly(0,'ASD');\n",
"ASL=poly(0,'ASL');\n",
"\n",
"//Functions to Find the TAC corresponding to the Respective Factors\n",
"\n",
"deff('x=TransSize(y)','x=239.52 + (3.1805*y) + (3492/y) + (28170/(y^2))')\n",
"deff('x=SDwire(y)','x=(1.134*y)+(8273/y)')\n",
"deff('x=SLwire(y)','x=(0.405*y)+(17018/y)')\n",
"\n",
"//Total Annual Costs of the respective Factors\n",
"TACST = TransSize(ST);\n",
"TACASD = SDwire(ASD);\n",
"TACASL = SLwire(ASL);\n",
"\n",
"//Partially Differentiating wrt ASD we get\n",
"Y1=derivat(TACASD);\n",
"X1=roots(Y1(2));\n",
"ASD=X1(1);  //Calculated Value\n",
"ASDstd = 105.500;\n",
"ASDstd1 = 133.1;\n",
"\n",
"//Partially Differentiating wrt ASL we get\n",
"Y2=derivat(TACASL);\n",
"X2=roots(Y2(2));\n",
"ASL=X2(1); //Calculated Value\n",
"ASLstd = 211.600; \n",
"ASLstd1 = 250;\n",
"\n",
"//Partially Differentiating wrt ST we get\n",
"Y3=derivat(TACST);\n",
"X3=roots(Y3(2));\n",
"ST=round(X3(1));  //Calculated Value\n",
"STstd = 50;\n",
"\n",
"//Total Annual Cost of the Calculated parameters\n",
"TAC=TransSize(ST)+SDwire(ASD)+SLwire(ASL);\n",
"//Calculation Mistake in The Text Book\n",
" \n",
"//Total Annual Cost of the First Higher Standard Parameters\n",
"TACstd=TransSize(STstd)+SDwire(ASDstd)+SLwire(ASLstd);\n",
"//Total Annual Cost of the Second Higher Standard Parameters\n",
"TACstd1=TransSize(STstd)+SDwire(ASDstd1)+SLwire(ASLstd1);\n",
"\n",
"//Total Fixed Charges per Year\n",
"TACFC=((75+(2.178*STstd))+(5.4+(0.405*ASLstd))+(15.12+(1.134*ASD))+(144));\n",
"//Total Operating Charges per Year\n",
"TACOC=((0.0225*STstd)+(0.98*STstd)+(28170/(STstd^2))+(3492/STstd)+(17018/ASLstd)+(8273/ASDstd));\n",
"\n",
"//Values Might Vary from those in the text due to high precision\n",
"\n",
"//Fixed Charges Per Customer Per Month\n",
"FC=TACFC/(NC*12);\n",
"\n",
"//Variable Costs Per Customer per month\n",
"VOC=TACOC/(NC*12);\n",
"\n",
"printf('\na) The Most Economical SD Size is %g kmil and the nearest larger standard AWG wire size is %g kmil\n',ASD,ASDstd)\n",
"printf('b) The Most Economical SL Size is %g kmil and the nearest larger standard AWG wire size is %g kmil\n',ASL,ASLstd)\n",
"printf('c) The Most Economical Distribution Transformer Size is %g kmil and the nearest larger standard transformer size is %g kVA\n',ST,STstd)\n",
"printf('d) The Total Annual Cost Per Block for the theoretically most economical sizes of equipment is %g dollars\n',TAC)\n",
"printf('e) The Total Annual Cost Per Block for the nearest larger standard comercial sizes of equipment is %g dollars\n',TACstd)\n",
"printf('f) The Total Annual Cost Per Block for the nearest larger transformer size and for the second larger sizes of ASD and ASL is %g dollars\n',TACstd1)\n",
"printf('g) Fixed Charges per Customer per Month is %g dollars\n',FC)\n",
"printf('h) The Variable Operating Costs Per Customer Per Month is %g dollars\n',VOC)"
   ]
   }
,
{
		   "cell_type": "markdown",
		   "metadata": {},
		   "source": [
			"## Example 6.2: To_determine_the_coeffcient_matrix_for_a_unbalanced_load.sce"
		   ]
		  },
  {
"cell_type": "code",
	   "execution_count": null,
	   "metadata": {
	    "collapsed": true
	   },
	   "outputs": [],
"source": [
"//To determine the co-effcient matrix for a unbalanced load\n",
"//Page 304\n",
"clc;\n",
"clear;\n",
"\n",
"Dab=12;\n",
"Dan=12;\n",
"Dbn=24;\n",
"Daa=12*0.01577;\n",
"Dbb=Daa;\n",
"Dnn=Daa;\n",
"\n",
"deff('x=Coeff(y,z)','x=(2*(10^-7))*log(y/z)') //function to find the elements of the co-efficient matrix\n",
"\n",
"//Part A of the question cannot be found using Scilab, Hence from the equation obtained in part A we can numerically compute the Co- Efficient Matrix\n",
"\n",
"CM=[Coeff(Dan,Daa),Coeff(Dan,Dab);Coeff(Dbn,Dab),Coeff(Dbn,Dbb);Coeff(Dnn,Dan),Coeff(Dnn,Dbn)];\n",
"\n",
"printf('\n Part A cannot be resulted by this code, hence from the equations obtained in Part A\n Co-Efficient Matrix is Obtained as\n')\n",
"disp(CM.*(10^7))\n",
"printf('\n * (10^-7) Wb*T/m\n')"
   ]
   }
,
{
		   "cell_type": "markdown",
		   "metadata": {},
		   "source": [
			"## Example 6.4: To_determine_the_circuit_parameters_of_an_unbalanced_load.sce"
		   ]
		  },
  {
"cell_type": "code",
	   "execution_count": null,
	   "metadata": {
	    "collapsed": true
	   },
	   "outputs": [],
"source": [
"//To determine the circuit parameters of an unbalanced load\n",
"//Page 308\n",
"clc;\n",
"clear;\n",
"//Primary Voltage\n",
"V1=7272*(%i*%pi*0/180);\n",
"\n",
"//Secondary Voltages\n",
"Ea=120*(%i*%pi*0/180);\n",
"Eb=120*(%i*%pi*0/180);\n",
"\n",
"//Impedances\n",
"Za=0.8+(%i*0.6);\n",
"Zb=0.8+(%i*0.6);\n",
"\n",
"n=60; //Turns Ratio\n",
"\n",
"deff('x=angle(y)','x=atand(imag(y)/real(y))') //To Determine the Angle\n",
" \n",
"//Substituting the values we get the following equations\n",
"//121.2 = Ia*(0.8857 + j0.6846) + Ib*(0.03279 + j0.03899)\n",
"//121.2 = Ia*(-0.03279 - j0.03899) + Ib*(-0.88574 + j0.50267)\n",
"\n",
"//For Convenience We segregate them as\n",
"Z1=(0.8857+(%i*0.6846));\n",
"Z2=(0.03279+(%i*.03899))\n",
"Z3=(-0.03279-(%i*.03899))\n",
"Z4=(-0.88574+(%i*.50267))\n",
"\n",
"Z=[Z1,Z2;Z3,Z4]; //Impedance matrix\n",
"V=[121.2;121.2]; //Voltage Matrix\n",
"I=inv(Z)*V; //Current Matrix\n",
"\n",
"//Secondary Currents\n",
"Ia=I(1);\n",
"Ib=I(2);\n",
"\n",
"In=-Ia-Ib; //Secondary neutral Currents\n",
"\n",
"//Secondary Voltages\n",
"Va=Za*Ia;\n",
"Vb=-1*Zb*Ib;\n",
"\n",
"//Secondary Voltage Resultant\n",
"Vab=Va+Vb;\n",
"\n",
"printf('\na) The Secondary Currents are:\n')\n",
"printf('Ia = %g/_%g A\n',abs(Ia),angle(Ia))\n",
"printf('Ib = %g/_%g A\n',abs(Ib),180+angle(Ib))\n",
"printf('b) The Secondary Neutral Current = %g/_%g A\n',abs(In),angle(In))\n",
"printf('c) The Secondary Voltages are:\n')\n",
"printf('Va = %g/_%g V\n',abs(Va),angle(Va))\n",
"printf('Vb = %g/_%g V\n',abs(Vb),angle(Vb))\n",
"printf('d) The Resultant Secondary Voltage Vab is %g/_%g V\n',abs(Vab),angle(Vab))\n",
"\n",
"//In the TextBook Note That Zb has been taken wrong in the calculattion of Vb"
   ]
   }
,
{
		   "cell_type": "markdown",
		   "metadata": {},
		   "source": [
			"## Example 6.5: To_find_the_pu_voltages_and_tolerable_and_favourable_voltages.sce"
		   ]
		  },
  {
"cell_type": "code",
	   "execution_count": null,
	   "metadata": {
	    "collapsed": true
	   },
	   "outputs": [],
"source": [
"//To find the pu voltages and tolerable and favourable voltages\n",
"//Page 310\n",
"clc;\n",
"clear;\n",
"\n",
"N=19; //Number Transformers\n",
"St=500; //Load on each transformer in kVA\n",
"L=5096+(%i*3158); //Load\n",
"Vlf=114; //Favourable Voltage\n",
"Vlt=111; //Tolerable Volatage\n",
"Vb=125; //Base Voltage\n",
"\n",
"//Per Unit Tolerable and favourable voltages\n",
"puVlf=Vlf/Vb;\n",
"puVlt=Vlt/Vb;\n",
"\n",
"ZM=0.181+(%i*0.115); //The Positive Sequence Impedance\n",
"ZTi=0.0086+(%i*0.0492); //Transformer Impedance for 500kVA\n",
"ZT=2*ZTi; //Transformer Impedance for 1000kVA\n",
"\n",
"AAF=N*St/abs(L); //Actual Application Factor\n",
"\n",
"printf('\na) The Lowest favourable Voltage is %g pu and The Lowest tolerable voltage is %g pu\n',puVlf,puVlt)\n",
"printf('b) There Are No buses in Table 6-5, for the first contingency outage which satisfy the necessary condition\n')\n",
"printf('c) For Second Contingency Outage\n')\n",
"printf('1) Less than Favourable Voltage are B,C,J,K,R and S\n')\n",
"printf('2) Less than Tolerable Voltage are B,C,J,K.\n')\n",
"printf('d) ZM/ZT = %g and (1/2)*ZM/ZT = %g respectively.\n',(abs(ZM)/abs(ZT)),(1/2)*(abs(ZM)/abs(ZT)))\n",
"printf('The Actual Application Factor is %g\n',AAF)\n",
"printf('Therefore the Design of this network is sufficient\n')"
   ]
   }
],
"metadata": {
		  "kernelspec": {
		   "display_name": "Scilab",
		   "language": "scilab",
		   "name": "scilab"
		  },
		  "language_info": {
		   "file_extension": ".sce",
		   "help_links": [
			{
			 "text": "MetaKernel Magics",
			 "url": "https://github.com/calysto/metakernel/blob/master/metakernel/magics/README.md"
			}
		   ],
		   "mimetype": "text/x-octave",
		   "name": "scilab",
		   "version": "0.7.1"
		  }
		 },
		 "nbformat": 4,
		 "nbformat_minor": 0
}
