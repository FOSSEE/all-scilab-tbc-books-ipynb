{
"cells": [
 {
		   "cell_type": "markdown",
	   "metadata": {},
	   "source": [
       "# Chapter 4: Design of Subtransmission Lines and Distribution Substations"
	   ]
	},
{
		   "cell_type": "markdown",
		   "metadata": {},
		   "source": [
			"## Example 4.10: To_find_the_substation_spacing_and_load_on_transformers.sce"
		   ]
		  },
  {
"cell_type": "code",
	   "execution_count": null,
	   "metadata": {
	    "collapsed": true
	   },
	   "outputs": [],
"source": [
"//To find the substation spacing and load on transformers\n",
"//Page 217\n",
"clc;\n",
"clear;\n",
"\n",
"D=500; //Load Density in kVA per sq.miles\n",
"Vl=12.47; //Line Voltage in kV\n",
"N=2; //Feeders per substation\n",
"//From Table A-5 Appendix A it Current Ampacity can be found\n",
"\n",
"Imax=340;\n",
"\n",
"S2=sqrt(3)*Vl*Imax; //Load Per Feeder\n",
"\n",
"l2=sqrt(S2/D); //Length of the feeder\n",
"S=2*l2; //Substation Spacing\n",
"TS2=S2*N; //Total Load on substation\n",
"\n",
"printf('\nThe Parts a,b and c of thhis question cannot be coded\n')\n",
"printf('d) The substation size and spacing is %g kVA and %g miles\n',TS2,S)\n",
"\n",
""
   ]
   }
,
{
		   "cell_type": "markdown",
		   "metadata": {},
		   "source": [
			"## Example 4.11: To_Compare_the_method_of_service_area_coverage_with_four_feeders.sce"
		   ]
		  },
  {
"cell_type": "code",
	   "execution_count": null,
	   "metadata": {
	    "collapsed": true
	   },
	   "outputs": [],
"source": [
"//To Compare the method of service area coverage with four feeders\n",
"//Page 221\n",
"clc;\n",
"clear;\n",
"\n",
"Ts=1; //Assumed Load on station\n",
"K=1; //Assumption Constant\n",
"K2=K;\n",
"K4=K;\n",
"D=1;//Assumption Load Density\n",
"//Number of feeders\n",
"N2=2;\n",
"N4=4;\n",
"S2=Ts/N2; //Load per feeder //Two feeders\n",
"S4=Ts/N4; //Load per feeder //4 feeders\n",
"l=poly(0,'l'); //Variable Value of length\n",
"L2eff=1*l/3;\n",
"L4eff=2*l/3;\n",
"\n",
"deff('x=VD(y)','x=D*(l^2)*K*y') //Function to find VD\n",
"\n",
"VD2=VD(L2eff);\n",
"VD4=VD(L4eff);\n",
"RVD=VD2/VD4;\n",
"X=l-RVD;\n",
"RVD=1/roots(X(2)); //To find the ratio of (l2^3)/(l4^3)\n",
"\n",
"Rl=nthroot(RVD,3); //Ratio of length of feeder for 2 feeders two by length of feeder for 4 feeders\n",
"\n",
"//A is directly proportional to l^2\n",
"RA=(Rl^2);\n",
"\n",
"//TSn is directly proportional to n and l^2\n",
"RTS=(N2/N4)*(Rl^2);\n",
"\n",
"printf('\na) Ratio of substation spacings = 2l2/2l4 = %g\n',Rl)\n",
"printf('b) Ratio of areas covered per feeder main = A2/A4 = %g\n',RA)\n",
"printf('c) Ratio of substation loads = TS2/TS4 = %g\n',RTS)"
   ]
   }
,
{
		   "cell_type": "markdown",
		   "metadata": {},
		   "source": [
			"## Example 4.1: To_determine_the_constant_K_for_16kV_feeder.sce"
		   ]
		  },
  {
"cell_type": "code",
	   "execution_count": null,
	   "metadata": {
	    "collapsed": true
	   },
	   "outputs": [],
"source": [
"//To determine the constant K for 16kV feeder\n",
"//Page 201\n",
"clc;\n",
"clear;\n",
"\n",
"//Conductor Pararmeters\n",
"r=1.503;\n",
"xa=0.609;\n",
"xd=0.1366;\n",
"pf=0.9;\n",
"Vb=2400;\n",
"Vr=Vb;\n",
"x=xa+xd;\n",
"Kc=0.01; //From the Curve\n",
"\n",
"K=((r*pf)+(x+sind(acosd(pf))))*(1000/3)*100/(Vr*Vb); // In Percent\n",
"\n",
"printf('\na) The Value of Constant K is %g percent VDpu per kVA mile\n',K)\n",
"printf('b) From the precalculated per cent voltage drop Curve, It is found that the K is \n%g percent VDpu per kVA mile which is same as the answer obtained in part a\n',Kc)"
   ]
   }
,
{
		   "cell_type": "markdown",
		   "metadata": {},
		   "source": [
			"## Example 4.2: To_Calculate_the_percent_voltage_drop_in_the_main_for_a_lumped_load.sce"
		   ]
		  },
  {
"cell_type": "code",
	   "execution_count": null,
	   "metadata": {
	    "collapsed": true
	   },
	   "outputs": [],
"source": [
"//To Calculate the percent voltage drop in the main for a lumped load\n",
"//Page 202\n",
"clc;\n",
"clear;\n",
"\n",
"K=0.01; //Percentage Value\n",
"Sn=500; //Load in kVA\n",
"pf=0.9; //Lagging\n",
"s=1; //Length of the feeder\n",
"VD=s*K*Sn; //Voltage drop in percent\n",
"\n",
"printf('The Percent Voltage drop in the Main is %g percent\n',VD)"
   ]
   }
,
{
		   "cell_type": "markdown",
		   "metadata": {},
		   "source": [
			"## Example 4.3: To_Calculate_percent_voltage_drop_in_the_main_for_a_uniformly_distributed_load.sce"
		   ]
		  },
  {
"cell_type": "code",
	   "execution_count": null,
	   "metadata": {
	    "collapsed": true
	   },
	   "outputs": [],
"source": [
"//To Calculate percent voltage drop in the main for a uniformly distributed load\n",
"//Page 203\n",
"clc;\n",
"clear;\n",
"\n",
"K=0.01; //Percentage Value\n",
"Sn=500; //Load in kVA\n",
"pf=0.9; //Lagging\n",
"l=1; //Total Length of the feeder\n",
"s=l/2; //effective Length of the feeder\n",
"VD=s*K*Sn; //Voltage drop in percent\n",
"\n",
"printf('The Percent Voltage drop in the Main is %g percent\n',VD)"
   ]
   }
,
{
		   "cell_type": "markdown",
		   "metadata": {},
		   "source": [
			"## Example 4.4: To_Calculate_percent_voltage_drop_in_the_main_for_a_uniformly_increasing_load.sce"
		   ]
		  },
  {
"cell_type": "code",
	   "execution_count": null,
	   "metadata": {
	    "collapsed": true
	   },
	   "outputs": [],
"source": [
"//To Calculate percent voltage drop in the main for a uniformly increasing load\n",
"//Page 203\n",
"clc;\n",
"clear;\n",
"\n",
"K=0.01; //Percentage Value\n",
"Sn=500; //Load in kVA\n",
"pf=0.9; //Lagging\n",
"l=1; //Total Length of the feeder\n",
"s=l*2/3; //effective Length of the feeder\n",
"VD=s*K*Sn; //Voltage drop in percent\n",
"\n",
"printf('The Percent Voltage drop in the Main is %g percent\n',VD)"
   ]
   }
,
{
		   "cell_type": "markdown",
		   "metadata": {},
		   "source": [
			"## Example 4.5: To_Compare_the_results_the_percent_voltage_drop_ratio_for_different_loading.sce"
		   ]
		  },
  {
"cell_type": "code",
	   "execution_count": null,
	   "metadata": {
	    "collapsed": true
	   },
	   "outputs": [],
"source": [
"//To Compare the results the percent voltage drop ratio for different loading\n",
"//Page 204\n",
"clc;\n",
"clear;\n",
"\n",
"//Voltage Drops in Percentage\n",
"VDlumped=5; \n",
"VDuniform=2.5;\n",
"VDincreasing=3.333;\n",
"\n",
"//Ratio of the percent voltage drops\n",
"Rlu=VDlumped/VDuniform;\n",
"Rli=VDlumped/VDincreasing;\n",
"Riu=VDincreasing/VDuniform;\n",
"\n",
"printf('\na) Percent VDlumped = %g Percent VDuniform\n',Rlu)\n",
"printf('b) Percent VDlumped = %g Percent VDincreasing\n',Rli)\n",
"printf('c) Percent VDincreasing = %g Percent VDuniform\n',Riu)"
   ]
   }
,
{
		   "cell_type": "markdown",
		   "metadata": {},
		   "source": [
			"## Example 4.6: To_determine_the_substation_parameters_for_various_Load_densities.sce"
		   ]
		  },
  {
"cell_type": "code",
	   "execution_count": null,
	   "metadata": {
	    "collapsed": true
	   },
	   "outputs": [],
"source": [
"//To determine the substation parameters for various Load densities\n",
"//Page 208\n",
"clc;\n",
"clear;\n",
"\n",
"D=[500,500,2000,2000,10000,10000,2000,2000]; //Load Densities in kVA/sq.miles\n",
"TAn=[6,6,3,3,1,1,15,15]; //Substation Area in sq.miles\n",
"VD=[3,6,3,6,3,6,3,6]; //Maximum Total Primary Feeder Voltage drops in percentage\n",
"Vll=[4.16,4.16,4.16,4.16,4.16,4.16,13.2,13.2]; //Base Feeder Voltage in kV\n",
"\n",
"TSn=D.*TAn; //Susbstation Load\n",
"//From the Graphs of feeders vs load desity in the textbook; The Number of feeders are found to be\n",
"\n",
"n=[4,2,5,3,5,4,6,5]; //No of feeders\n",
"\n",
"//Also from the graph, The characteristic or the feeder is determined\n",
"//1-5, 7 are VDL feeders\n",
"//6 and 8 are TL feeders\n",
"\n",
"Sn=TSn./n; //Load Per Feeder\n",
"//To Determine the Load Current\n",
"Il=Sn./(sqrt(3).*Vll); \n",
"\n",
"printf('\na)')\n",
"printf('\nThe Substation Size is\n')\n",
"disp(TSn)\n",
"printf('\nThe Number of Feeders from the Curve is\n')\n",
"disp(n)\n",
"printf('\nAlso From the Curve, 1,2,3,4,5,7 cases are VDL but 6 and 8 case are TL\n')\n",
"printf('\na)')\n",
"printf('\nThe Load Current for 6th Case is %g A, which is less than the ampacities of the main but \nmore than that of the lateral, Hence it is thermally limited but not the main feeder\n',Il(6))\n",
"printf('\nThe Load Current for 8th Case is %g A, which is less than the ampacities of the main but \nmore than that of the lateral, Hence it is thermally limited but not the main feeder\n',Il(8))"
   ]
   }
,
{
		   "cell_type": "markdown",
		   "metadata": {},
		   "source": [
			"## Example 4.7: To_Find_feeder_properties_of_TL_and_VDL.sce"
		   ]
		  },
  {
"cell_type": "code",
	   "execution_count": null,
	   "metadata": {
	    "collapsed": true
	   },
	   "outputs": [],
"source": [
"//To Find feeder properties of TL and VDL\n",
"//Page 211\n",
"clc;\n",
"clear;\n",
"\n",
"D=1000; //Load Density in kVA per sq miles\n",
"Vll=4.16; //Line to Lien voltage in kV\n",
"//From The Tables and Curves from the Theory\n",
"K=0.007;\n",
"//For TL\n",
"TLImax=230; //Maximum Feeder Current\n",
"TLSn=sqrt(3)*Vll*TLImax; //Maximum Load Per Feeder\n",
"TLn=4; //No of Feeders\n",
"TLTSn=TLn*TLSn; //Substation Load\n",
"TLl4=sqrt(TLSn/D); //Feeder Length\n",
"TLS=2*TLl4; //Total Spacing\n",
"\n",
"TLVDn=2*K*D*(TLl4^3)/3; //TotalVoltageDrop in the main\n",
"\n",
"//For VDL\n",
"VDLVDn=3; //Percent Voltage Drop\n",
"VDLl4=nthroot((3*VDLVDn/(2*K*D)),3); //Feeder Length\n",
"VDLS=2*VDLl4; //Station size\n",
"VDLSn=D*(VDLl4^2); //Maximum Load Per Feeder\n",
"VDLn=TLn; //Number Of Feeders\n",
"VDLTSn=VDLn*VDLSn; //Susbtation Load\n",
"VDLImax=VDLSn/(sqrt(3)*Vll); //Ampere Rating of the Main\n",
"R=VDLImax/TLImax; //Ampere Loading\n",
"\n",
"printf('\na) For Thermally Limited \n')\n",
"printf('i) The Substation Size = %g kVA\n',TLTSn)\n",
"printf('ii) Substation Spacing = %g miles\n',TLS)\n",
"printf('iii) Maximum Load Per Feeder = %g kVA\n',TLSn)\n",
"printf('iv) The Voltage Drop is %g percent\n',TLVDn)\n",
"\n",
"printf('\nb) For Voltage Drop Limited \n')\n",
"printf('i) The Substation Size = %g kVA\n',VDLTSn)\n",
"printf('ii) Substation Spacing = %g miles\n',VDLS)\n",
"printf('iii) Maximum Load Per Feeder = %g kVA\n',VDLSn)\n",
"printf('iv) Ampere Loading of the Main is %g pu\n',R)\n",
"\n",
"//Note The Approximation to 750 kVA"
   ]
   }
,
{
		   "cell_type": "markdown",
		   "metadata": {},
		   "source": [
			"## Example 4.8: To_determine_the_better_susbstation_site.sce"
		   ]
		  },
  {
"cell_type": "code",
	   "execution_count": null,
	   "metadata": {
	    "collapsed": true
	   },
	   "outputs": [],
"source": [
"//To determine the better susbstation site\n",
"//Page 213\n",
"clc;\n",
"clear;\n",
"DivF=1.2; //Diversity Factor\n",
"DemF=0.6; //Demand Factor\n",
"CL=2000; //Connected Load Density in kVA per sq.miles\n",
"\n",
"DD=DemF*CL/DivF; //Diversified Demand\n",
"A=4; //Area of the Substation\n",
"\n",
"TSn=DD*A; //Peak Loads of A and B\n",
"Sm=TSn; //Peak Loads\n",
"\n",
"//Constants for different conductors\n",
"Km=0.0004;\n",
"Kl=0.00095;\n",
"//Number of Laterals\n",
"Na=16; //Site A \n",
"Nb=32; //Site B\n",
"\n",
"//Length of the Main\n",
"La=2;\n",
"Lb=3;\n",
"//length of laterals\n",
"Lla=2;\n",
"Llb=1;\n",
"//Length of expres Load\n",
"Le=1;\n",
"Leffb=Le+((Lb-Le)/2); //Effective Length of the feeder in site B\n",
"//Voltage drops\n",
"VDa=(La*Km*Sm/2)+(Lla*Kl*Sm/(Na*2));\n",
"VDb=(Leffb*Km*Sm)+(Llb*Kl*Sm/(Nb*2));\n",
"\n",
"printf('\nThe Voltage drop in Site A is %g percent\n',VDa)\n",
"printf('The Voltage drop in Site B is %g percent\n',VDb)\n",
"printf('Comparing the results we find Site A suitable due to its less percent voltage drop\n')\n",
"VDb=(La*Km*Sm/2)+(Lla*Kl*Sm/Na);"
   ]
   }
],
"metadata": {
		  "kernelspec": {
		   "display_name": "Scilab",
		   "language": "scilab",
		   "name": "scilab"
		  },
		  "language_info": {
		   "file_extension": ".sce",
		   "help_links": [
			{
			 "text": "MetaKernel Magics",
			 "url": "https://github.com/calysto/metakernel/blob/master/metakernel/magics/README.md"
			}
		   ],
		   "mimetype": "text/x-octave",
		   "name": "scilab",
		   "version": "0.7.1"
		  }
		 },
		 "nbformat": 4,
		 "nbformat_minor": 0
}
