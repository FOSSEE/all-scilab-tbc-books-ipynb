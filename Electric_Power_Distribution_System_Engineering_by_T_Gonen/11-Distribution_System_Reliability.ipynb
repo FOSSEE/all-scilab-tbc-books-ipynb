{
"cells": [
 {
		   "cell_type": "markdown",
	   "metadata": {},
	   "source": [
       "# Chapter 11: Distribution System Reliability"
	   ]
	},
{
		   "cell_type": "markdown",
		   "metadata": {},
		   "source": [
			"## Example 11.1: To_Determine_the_Approximate_value_of_the_component_reliability.sce"
		   ]
		  },
  {
"cell_type": "code",
	   "execution_count": null,
	   "metadata": {
	    "collapsed": true
	   },
	   "outputs": [],
"source": [
"//To Determine the Approximate value of the component reliability\n",
"//Page 598\n",
"clc;\n",
"clear;\n",
"Rsys=0.99 //Minimum Acceptable System Reliabilty\n",
"n=15; //Number of identical Components\n",
"q=(1-Rsys)/n; //Probability of component failure\n",
"Ri=1-q; //Approximate value of the component reliability\n",
"\n",
"printf('The Approximate Value of The component reliability is %g\n',Ri)"
   ]
   }
,
{
		   "cell_type": "markdown",
		   "metadata": {},
		   "source": [
			"## Example 11.2: To_Determine_the_fault_components_of_the_system.sce"
		   ]
		  },
  {
"cell_type": "code",
	   "execution_count": null,
	   "metadata": {
	    "collapsed": true
	   },
	   "outputs": [],
"source": [
"//To Determine the fault components of the system\n",
"//Page 606\n",
"clc;\n",
"clear;\n",
"L=4; //Total Length of the cable\n",
"Lov=3;//Length of Overhead Cable\n",
"Lu=L-Lov; //Length of Underground Cable\n",
"Nct=2; //Number of circuit terminations\n",
"T=10; //No of years for which the record is shown\n",
"\n",
"Fov=2; // Faults Per Mile of the Over Head Cable\n",
"Fu=1; //Faults Per Mile of The Underground cable\n",
"\n",
"Ct=0.3/100// Cable Termination Fault Rate\n",
"\n",
"//Repair Time\n",
"Tov=3; //Over Head\n",
"Tu=28; //Underground\n",
"Tct=3; //Cable Termination\n",
"\n",
"lamdaFDR= (Lov*Fov/T)+(Lu*Fu/T)+(2*Ct); //Total Annual Fault Rate\n",
"\n",
"rFDR=((Tov*Lov*Fov/T)+(Tu*Lu*Fu/T)+(2*Ct*Tct))/lamdaFDR; //Annual Fault Restoration Time\n",
"\n",
"mFDR=8760-rFDR; //Annual Mean Time of Failure\n",
"\n",
"UFDR=rFDR*100/(rFDR+mFDR); //Unavailability of Feeder\n",
"AFDR=100-UFDR; //Availability of Feeder\n",
"\n",
"printf('a) The Total Annual Fault Rate is %g faults per year\n',lamdaFDR)\n",
"printf('b) The Annual Fault Restoration Time is %g hours per fault per year\n',rFDR)\n",
"printf('c) Unavailability of the feeder is %g percent\n',UFDR)\n",
"printf('d) Availability of the feeder is %g percent\n',AFDR)"
   ]
   }
,
{
		   "cell_type": "markdown",
		   "metadata": {},
		   "source": [
			"## Example 11.3: To_Determine_the_Annual_Fault_properties_for_A_B_C_Customers.sce"
		   ]
		  },
  {
"cell_type": "code",
	   "execution_count": null,
	   "metadata": {
	    "collapsed": true
	   },
	   "outputs": [],
"source": [
"//To Determine the Annual Fault properties for A B C Customers\n",
"//Page 608\n",
"clc;\n",
"clear;\n",
"\n",
"//Annual average Fault rates\n",
"Fm=0.08;\n",
"Fl=0.2;\n",
"\n",
"\n",
"//Average Repair Times\n",
"Rm=3.5; //Main\n",
"Rl=1.5; //Lateral\n",
"Rs=0.75;//Manual Sections\n",
"\n",
"// Distances of the Lateral Feeders of A,B, and C respectively\n",
"Lla=2;\n",
"Llb=1.5;\n",
"Llc=1.5;\n",
"\n",
"// Distances of the Main Feeders of A,B, and C respectively\n",
"Lma=1;\n",
"Lmb=1;\n",
"Lmc=1;\n",
"\n",
"TFm=(Lma*Fm)+(Lmc*Fm)+(Lmb*Fm); //Annual Fault of the Main Sections\n",
"\n",
"deff('x=SusInt(y)','x=TFm+(Fl*y)') //Function to find the Total Annual Sustained Interruption rates\n",
"\n",
"//Sustained Interruption Rates for A,B and C\n",
"IrA=SusInt(Lla);\n",
"IrB=SusInt(Llb);\n",
"IrC=SusInt(Llc);\n",
"\n",
"//Annual Repair time for A,B and C\n",
"rA=((Lma*Fm*Rm)+(Lmb*Fm*Rs)+(Lmc*Fm*Rs)+(Lla*Fl*Rl))/IrA;\n",
"rB=((Lma*Fm*Rm)+(Lmb*Fm*Rm)+(Lmc*Fm*Rs)+(Llb*Fl*Rl))/IrB;\n",
"rC=((Lma*Fm*Rm)+(Lmb*Fm*Rm)+(Lmc*Fm*Rm)+(Llc*Fl*Rl))/IrC;\n",
"\n",
"printf('\ni) The Annual Sustained Interruption Rates for:\n')\n",
"printf('Customer A : %g faults per year\n',IrA)\n",
"printf('Customer B : %g faults per year\n',IrB)\n",
"printf('Customer C : %g faults per year\n',IrC)\n",
"printf('\nii) The Average Annual Repair Time (Restoration Time) for:\n')\n",
"printf('Customer A : %g hours per fault per year\n',rA)\n",
"printf('Customer A : %g hours per fault per year\n',rB)\n",
"printf('Customer A : %g hours per fault per year\n',rC)"
   ]
   }
,
{
		   "cell_type": "markdown",
		   "metadata": {},
		   "source": [
			"## Example 11.4: To_Determine_the_Equivalent_System_Reliability_of_Each_configuration.sce"
		   ]
		  },
  {
"cell_type": "code",
	   "execution_count": null,
	   "metadata": {
	    "collapsed": true
	   },
	   "outputs": [],
"source": [
"//To Determine the Equivalent System Reliability of Each configuration\n",
"//Page 612\n",
"clc;\n",
"clear;\n",
"\n",
"Ri=0.85;\n",
"\n",
"deff('x=relp(y,z)','x=1-((1-(Ri^y))^z)')//Equal Parallel Combination\n",
"\n",
"deff('x=rels(y,z)','x=(1-((1-Ri)^y))^z') //Equal Series Combination\n",
"\n",
"//Case 1: 4 elements in series\n",
"\n",
"Req1= rels(1,4);\n",
"\n",
"//Case 2: Two Comination of 4 elements in series, parallel to each other\n",
"\n",
"Req2=relp(4,2);\n",
"\n",
"//Case 3 : ((two elements in series)//(two elements in series))in series with ((two elements in series)//(two elements in series))\n",
"\n",
"//Two Segments\n",
"R1=relp(2,2);\n",
"R2=relp(2,2);\n",
"Req3=R1*R2;\n",
"\n",
"//Case 4 : (two elements in parallel)in series with ((three elements in series)//(three elements in series))\n",
"\n",
"//Two Segments\n",
"R1=relp(1,2);\n",
"R2=relp(3,2);\n",
"Req4=R1*R2;\n",
"\n",
"//Case 5, 4 groups of (2 elements in parallel) connected in series to each other\n",
"Req5=rels(2,4);\n",
"\n",
"printf('The Equivalent System reliability for:\n')\n",
"printf('a) Configuration A : %g\n',Req1)\n",
"printf('b) Configuration B : %g\n',Req2)\n",
"printf('c) Configuration C : %g\n',Req3)\n",
"printf('d) Configuration D : %g\n',Req4)\n",
"printf('e) Configuration E : %g\n',Req5)"
   ]
   }
,
{
		   "cell_type": "markdown",
		   "metadata": {},
		   "source": [
			"## Example 11.5: To_Design_the_system_to_meet_the_given_Equivalent_System_Reliability.sce"
		   ]
		  },
  {
"cell_type": "code",
	   "execution_count": null,
	   "metadata": {
	    "collapsed": true
	   },
	   "outputs": [],
"source": [
"//To Design the system to meet the given Equivalent System Reliability\n",
"//Page 614\n",
"clc;\n",
"clear;\n",
"\n",
"//Individual System Reliabilities\n",
"Ra=0.8;\n",
"Rb=0.95;\n",
"Rc=0.99;\n",
"Rd=0.90;\n",
"Re=0.65;\n",
"\n",
"//When All Are Connected in Series\n",
"\n",
"Req=Ra*Rb*Rc*Rd*Re; //Equivalent System Reliability\n",
"\n",
"Rr=0.8; //Required\n",
"\n",
"Rae=Rr/(Rb*Rc*Rd);\n",
"\n",
"//Since Connecting the elements in parallel will increase their reliability\n",
"deff('x=rel(Ri,y,)','x=(1-((1-Ri)^y))') //Equal Only Parallel Combination\n",
"\n",
"//Since Connecting the elements in parallel will increase their reliability\n",
"//Conditions to Find The Number of Elements to be used\n",
"for i= 1:10\n",
"    L=i; //Number of Time Element A is used\n",
"    R1=rel(Ra,i);\n",
"    X=R1-Rae;\n",
"    if(abs(X)+X==0)\n",
"        continue;\n",
"    else\n",
"        break;\n",
"    end\n",
"end\n",
"\n",
"for i= 1:10\n",
"    M=i;//Number of Time Element E is used\n",
"    R2=rel(Re,i);\n",
"    X=R2-Rae;\n",
"    if(abs(X)+X==0)\n",
"        continue;\n",
"    else\n",
"        break;\n",
"    end\n",
"end\n",
"\n",
"printf('a) The Equivalent system Reliability is %g\n',Req)\n",
"printf('b) One Each of B,C and D all connected in series are connected in series\nwith the series combination of X(Comination of %g elements of A, All Connected in Parallel)\nand Y(Comination of %g elements of E, All Connected in Parallel) to achieve \n%g Equivalent System Realibility\n',L,M,Rr)"
   ]
   }
,
{
		   "cell_type": "markdown",
		   "metadata": {},
		   "source": [
			"## Example 11.6: To_Find_The_Probability_on_the_reliability_of_transformers.sce"
		   ]
		  },
  {
"cell_type": "code",
	   "execution_count": null,
	   "metadata": {
	    "collapsed": true
	   },
	   "outputs": [],
"source": [
"//To Find The Probability on the reliability of transformers\n",
"//Page 614\n",
"clc;\n",
"clear;\n",
"\n",
"//Reliabilities of The Three Transformers\n",
"Pa=0.9;\n",
"Pb=0.95;\n",
"Pc=0.99;\n",
"\n",
"//Faliures of Three Transformers\n",
"Qa=1-Pa;\n",
"Qb=1-Pb;\n",
"Qc=1-Pc;\n",
"\n",
"//Probability of NO Transformer Failing\n",
"Pnf=Pa*Pb*Pc;\n",
"\n",
"PfA=Qa*Pb*Pc//Probability of Transformer A Failing\n",
"PfB=Pa*Qb*Pc//Probability of Transformer B Failing\n",
"PfC=Pa*Pb*Qc//Probability of Transformer C Failing\n",
"\n",
"PfAB=Qa*Qb*Pc//Probability of Transformer A and B Failing\n",
"PfBC=Pa*Qb*Qc//Probability of Transformer B and C Failing\n",
"PfCA=Qa*Pb*Qc//Probability of Transformer C and A Failing\n",
"\n",
"Pf=Qa*Qb*Qc; //Probability of All Transformers failing\n",
"\n",
"printf('\na) Probability of No Transformer Failing is %g\n',Pnf)\n",
"printf('\nb)\n')\n",
"printf('Probability of Transformer A Failing is %g\n',PfA)\n",
"printf('Probability of Transformer B Failing is %g\n',PfB)\n",
"printf('Probability of Transformer C Failing is %g\n',PfC)\n",
"printf('\nc)\n')\n",
"printf('Probability of Transformers A and B Failing is %g\n',PfAB)\n",
"printf('Probability of Transformers B and C Failing is %g\n',PfBC)\n",
"printf('Probability of Transformers C and A Failing is %g\n',PfCA)\n",
"printf('\nd) Probability of All Three Transformers Failing is %g\n',Pf)"
   ]
   }
,
{
		   "cell_type": "markdown",
		   "metadata": {},
		   "source": [
			"## Example 11.7: To_Determine_Probabilities_Using_Markovian_Principle.sce"
		   ]
		  },
  {
"cell_type": "code",
	   "execution_count": null,
	   "metadata": {
	    "collapsed": true
	   },
	   "outputs": [],
"source": [
"//To Determine Probabilities Using Markovian Principle\n",
"//Page 619\n",
"clc;\n",
"clear;\n",
"\n",
"//Conditional Probabilites Present Future\n",
"Pdd=2/100; //Down Down\n",
"Pud=5/100; //Up Down\n",
"Pdu=1-Pdd; //Down up\n",
"Puu=1-Pud; //Up Up\n",
"\n",
"P=[Pdd,Pdu;Pud,Puu]; //Transition Matrix\n",
"\n",
"printf('\na) The Conditional Probabilites for\n')\n",
"printf('Transformers Down in Present and Down in Future is %g\n',Pdd)\n",
"printf('Transformers Down in Present and Up in Future is %g\n',Pdd)\n",
"printf('Transformers Up in Present and Down in Future is %g\n',Pdd)\n",
"printf('Transformers Up in Present and Up in Future is %g\n',Pdd)\n",
"printf('\nb) The Transition Matrix is\n')\n",
"disp(P)\n",
"printf('\nc) The Transition Diagram can be viewed with the result file attached to this code\n')"
   ]
   }
,
{
		   "cell_type": "markdown",
		   "metadata": {},
		   "source": [
			"## Example 11.8: To_Determine_the_Conditional_Outage_Probabilites.sce"
		   ]
		  },
  {
"cell_type": "code",
	   "execution_count": null,
	   "metadata": {
	    "collapsed": true
	   },
	   "outputs": [],
"source": [
"//To Determine the Conditional Outage Probabilites\n",
"//Page 620\n",
"clc;\n",
"clear;\n",
"\n",
"//Conditional Outage Probabilites From The Table Given\n",
"P11=40/100;\n",
"P12=30/100;\n",
"P13=30/100;\n",
"P21=20/100;\n",
"P22=50/100;\n",
"P23=30/100;\n",
"P31=25/100;\n",
"P32=25/100;\n",
"P33=50/100;\n",
"\n",
"//Transition Matrix\n",
"P=[P11,P12,P13;P21,P22,P23;P31,P32,P33];\n",
"\n",
"printf('\na) The Conditional Outage Probabilites for:\n')\n",
"printf('Presently Outaged Feeder is 1, Next Outaged Feeder is 1 is %g\n',P11)\n",
"printf('Presently Outaged Feeder is 1, Next Outaged Feeder is 2 is %g\n',P12)\n",
"printf('Presently Outaged Feeder is 1, Next Outaged Feeder is 3 is %g\n',P13)\n",
"printf('Presently Outaged Feeder is 2, Next Outaged Feeder is 1 is %g\n',P21)\n",
"printf('Presently Outaged Feeder is 2, Next Outaged Feeder is 2 is %g\n',P22)\n",
"printf('Presently Outaged Feeder is 2, Next Outaged Feeder is 3 is %g\n',P23)\n",
"printf('Presently Outaged Feeder is 3, Next Outaged Feeder is 1 is %g\n',P31)\n",
"printf('Presently Outaged Feeder is 3, Next Outaged Feeder is 2 is %g\n',P32)\n",
"printf('Presently Outaged Feeder is 3, Next Outaged Feeder is 3 is %g\n',P33)\n",
"printf('\nb) Transition Matrix is\n')\n",
"disp(P)\n",
"printf('\nc) The Transition figure is displayed in the result file attached to this code\n')"
   ]
   }
,
{
		   "cell_type": "markdown",
		   "metadata": {},
		   "source": [
			"## Example 11.9: To_Determine_the_vector_of_state_probabilities_at_a_specific_time.sce"
		   ]
		  },
  {
"cell_type": "code",
	   "execution_count": null,
	   "metadata": {
	    "collapsed": true
	   },
	   "outputs": [],
"source": [
"//To Determine the vector of state probabilities at a specific time\n",
"//Page 624\n",
"clc;\n",
"clear;\n",
"\n",
"P=[0.6,0.4;0.3,0.7]; //One Step Transition Matrix\n",
"\n",
"Po=[0.8,0.2]; //Initial State Probability Vector\n",
"\n",
"//Funtion to determine the Vector of State Probability\n",
"deff('x=VSP(y)','x=(Po*(P^y))') \n",
"\n",
"P1=VSP(1); //Vector of State Probability at Time t1\n",
"P4=VSP(4); //Vector of State Probability at Time t4\n",
"P8=VSP(8); //Vector of State Probability at Time t8\n",
"\n",
"printf('\na) The Vector of State Probability at time t1 is\n')\n",
"disp(P1)\n",
"printf('\na) The Vector of State Probability at time t4 is\n')\n",
"disp(P4)\n",
"printf('\na) The Vector of State Probability at time t8 is\n')\n",
"disp(P8)"
   ]
   }
],
"metadata": {
		  "kernelspec": {
		   "display_name": "Scilab",
		   "language": "scilab",
		   "name": "scilab"
		  },
		  "language_info": {
		   "file_extension": ".sce",
		   "help_links": [
			{
			 "text": "MetaKernel Magics",
			 "url": "https://github.com/calysto/metakernel/blob/master/metakernel/magics/README.md"
			}
		   ],
		   "mimetype": "text/x-octave",
		   "name": "scilab",
		   "version": "0.7.1"
		  }
		 },
		 "nbformat": 4,
		 "nbformat_minor": 0
}
