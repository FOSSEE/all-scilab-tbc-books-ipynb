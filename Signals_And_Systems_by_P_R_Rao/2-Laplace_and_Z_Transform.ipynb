{
"cells": [
 {
		   "cell_type": "markdown",
	   "metadata": {},
	   "source": [
       "# Chapter 2: Laplace and Z Transform"
	   ]
	},
{
		   "cell_type": "markdown",
		   "metadata": {},
		   "source": [
			"## Example 2.10: Laplace_Transform.sce"
		   ]
		  },
  {
"cell_type": "code",
	   "execution_count": null,
	   "metadata": {
	    "collapsed": true
	   },
	   "outputs": [],
"source": [
"//Scilab Code for Example 2.10 of Signals and systems by\n",
"//P.Ramakrishna Rao\n",
"//The value of X(s) is found by solving the differential equation\n",
"clear;\n",
"clc;\n",
"syms t s;\n",
"s= %s;\n",
"X=pfss((s^2+8*s+6)/((s+2)*(s+3)*s));\n",
"X(1)=1/s;\n",
"f1=ilaplace(X(1))\n",
"f2=ilaplace(X(2))\n",
"f3=ilaplace(X(3))\n",
"fz=f1+f2+f3;\n",
"disp(fz*'u(t)','c) x(t)=');"
   ]
   }
,
{
		   "cell_type": "markdown",
		   "metadata": {},
		   "source": [
			"## Example 2.15: Laplace_Transform.sce"
		   ]
		  },
  {
"cell_type": "code",
	   "execution_count": null,
	   "metadata": {
	    "collapsed": true
	   },
	   "outputs": [],
"source": [
"//Scilab Code for Example 2.15 of Signals and systems by\n",
"//P.Ramakrishna Rao\n",
"clear;\n",
"clc;\n",
"syms t y;\n",
"s=%s;\n",
"y=laplace(5*exp(-3*t),t,s);\n",
"disp(y,'X(s)=');\n",
"disp('Re(s)>-3');\n",
"y=5/(s+3);\n",
"plzr(y);\n",
""
   ]
   }
,
{
		   "cell_type": "markdown",
		   "metadata": {},
		   "source": [
			"## Example 2.16: Laplace_Transform.sce"
		   ]
		  },
  {
"cell_type": "code",
	   "execution_count": null,
	   "metadata": {
	    "collapsed": true
	   },
	   "outputs": [],
"source": [
"//Scilab Code for Example 2.16 of Signals and systems by\n",
"//P.Ramakrishna Rao\n",
"clear;\n",
"clc;\n",
"syms t y;\n",
"s=%s;\n",
"y=laplace(2*exp(-2*t)+3*exp(-3*t),t,s);\n",
"disp(y,'X(s)=');\n",
"y=(2/(s+2))+(3/(s+3));\n",
"plzr(y);"
   ]
   }
,
{
		   "cell_type": "markdown",
		   "metadata": {},
		   "source": [
			"## Example 2.17: Laplace_Transform.sce"
		   ]
		  },
  {
"cell_type": "code",
	   "execution_count": null,
	   "metadata": {
	    "collapsed": true
	   },
	   "outputs": [],
"source": [
"//Scilab Code for Example 2.17 of Signals and systems by\n",
"//P.Ramakrishna Rao\n",
"clear;\n",
"clc;\n",
"syms t y;\n",
"s=%s;\n",
"y=laplace(-2*exp(2*t)-3*exp(3*t),t,s);\n",
"disp(y,'X(s)=');\n",
"disp('Re(s)<2');\n",
"y=(-2/(s-2))+(-3/(s-3));\n",
"plzr(y);"
   ]
   }
,
{
		   "cell_type": "markdown",
		   "metadata": {},
		   "source": [
			"## Example 2.19: Laplace_Transform.sce"
		   ]
		  },
  {
"cell_type": "code",
	   "execution_count": null,
	   "metadata": {
	    "collapsed": true
	   },
	   "outputs": [],
"source": [
"//Scilab Code for Example 2.19 of Signals and systems by\n",
"//P.Ramakrishna Rao\n",
"clear;\n",
"clc;\n",
"syms t y;\n",
"s=%s;\n",
"y=laplace(exp(-t)-exp(2*t),t,s);\n",
"disp(y,'X(s)=');\n",
"y=(1/(s+1))-(1/(s-2));\n",
"plzr(y);"
   ]
   }
,
{
		   "cell_type": "markdown",
		   "metadata": {},
		   "source": [
			"## Example 2.1: Laplace_Transform.sce"
		   ]
		  },
  {
"cell_type": "code",
	   "execution_count": null,
	   "metadata": {
	    "collapsed": true
	   },
	   "outputs": [],
"source": [
"//Scilab Code for Example 2.1 of Signals and systems by\n",
"//P.Ramakrishna Rao\n",
"//Laplace Transform\n",
"clear;\n",
"clc;\n",
"syms t s X\n",
"X=laplace(exp(-3*t)*cos(2*%pi*100*t),t,s)\n",
"disp('On Simplification')\n",
"//After Simplifying the above equation\n",
"X=(s+3)/((s+3)^2 + (200*%pi)^2);\n",
"disp('Re(s)>-3',X,'X(s)');\n",
"//Re(s)>-3"
   ]
   }
,
{
		   "cell_type": "markdown",
		   "metadata": {},
		   "source": [
			"## Example 2.21: Unilateral_Z_Transform.sce"
		   ]
		  },
  {
"cell_type": "code",
	   "execution_count": null,
	   "metadata": {
	    "collapsed": true
	   },
	   "outputs": [],
"source": [
"//Scilab Code for Example 2.21 of Signals and systems by\n",
"//P.Ramakrishna Rao\n",
"//Z- transform of a^n u(n) \n",
"clear;\n",
"clc ;\n",
"close ;\n",
"syms a n z;\n",
"x1 =1/2;\n",
"x2=1/3;\n",
"X1= symsum (x1*(z^(-n)),n ,0, %inf );\n",
"X2= symsum (x2*(z^(-n)),n ,0, %inf );\n",
"X=X1+X2;\n",
"//Display the result\n",
"disp (X,'Z-transform of u(n) is:');\n",
"disp('ROC is the Region |z|> 1/2');"
   ]
   }
,
{
		   "cell_type": "markdown",
		   "metadata": {},
		   "source": [
			"## Example 2.29: Z_Transform.sce"
		   ]
		  },
  {
"cell_type": "code",
	   "execution_count": null,
	   "metadata": {
	    "collapsed": true
	   },
	   "outputs": [],
"source": [
"//Scilab Code for Example 2.29 of Signals and systems by\n",
"//P.Ramakrishna Rao\n",
"//Z- transform of a^n u(n) \n",
"clear;\n",
"clc ;\n",
"close ;\n",
"syms a n z;\n",
"x =1;\n",
"X= symsum (x*(z^(-n)),n ,0, %inf );\n",
"//Display the result\n",
"disp (X,'Z-transform of u(n) is:');\n",
"disp('ROC is the Region |z|> 1')\n",
""
   ]
   }
,
{
		   "cell_type": "markdown",
		   "metadata": {},
		   "source": [
			"## Example 2.2: Inverse_Laplace.sce"
		   ]
		  },
  {
"cell_type": "code",
	   "execution_count": null,
	   "metadata": {
	    "collapsed": true
	   },
	   "outputs": [],
"source": [
"//Scilab Code for Example 2.2 of Signals and systems by\n",
"//P.Ramakrishna Rao\n",
"//Inverse Laplace Transform\n",
"clc;\n",
"clear;\n",
"syms t s\n",
"X=(s+2)/(s^2+8*s+25)\n",
"f4=ilaplace(X);\n",
"disp(f4*'u(t)','x(t)=');\n",
"//t>=0"
   ]
   }
,
{
		   "cell_type": "markdown",
		   "metadata": {},
		   "source": [
			"## Example 2.37: Inverse_Z_Transform.sce"
		   ]
		  },
  {
"cell_type": "code",
	   "execution_count": null,
	   "metadata": {
	    "collapsed": true
	   },
	   "outputs": [],
"source": [
"//Scilab Code for Example 2.37 of Signals and systems by\n",
"//P.Ramakrishna Rao\n",
"//Inverse Z Transform:ROC 1<|z|<2\n",
"clear;\n",
"clc;\n",
"z = %z;\n",
"syms n z1;\n",
"//To find out Inverse z transform z must be linear z = z1\n",
"X  =(z*(z^2-z+1))/((z-0.5)*(z-2)*(z-1))\n",
"X1 = denom(X);\n",
"zp = roots(X1);\n",
"X1 = (z1*(z1^2-z1+1))/((z1-0.5)*(z1-2)*(z1-1))\n",
"F1 = X1*(z1^(n-1))*(z1-zp(1))\n",
"F2 = X1*(z1^(n-1))*(z1-zp(2))\n",
"F3 = X1*(z1^(n-1))*(z1-zp(3))\n",
"h1 = limit(F1,z1,zp(1));\n",
"disp(h1*'u(-n-1)','h1[n]=')\n",
"h2 = limit(F2,z1,zp(2));\n",
"disp((h2)*'u(n)','h2[n]=')\n",
"h3 = limit(F3,z1,zp(3));\n",
"disp((h3)*'u(n)','h3[n]=')\n",
"disp((h3)*'u(n)'+(h2)*'u(n)'-(h1)*'u(-n-1)','h[n]=')\n",
"////Result\n",
"//  h[n]=1* 0.5 ^n *u(n) - 2*u(n) - 2* 2^n *u(- n - 1) "
   ]
   }
,
{
		   "cell_type": "markdown",
		   "metadata": {},
		   "source": [
			"## Example 2.38_a: Inverse_Z_Transform.sce"
		   ]
		  },
  {
"cell_type": "code",
	   "execution_count": null,
	   "metadata": {
	    "collapsed": true
	   },
	   "outputs": [],
"source": [
"//Scilab Code for Example 2.38(i) of Signals and systems by\n",
"//P.Ramakrishna Rao\n",
"//Inverse Z Transform:ROC |z|>2\n",
"clear;\n",
"clc;\n",
"z = %z;\n",
"syms n z1;\n",
"//To find out Inverse z transform z must be linear z = z1\n",
"X  =z^2/(z^2+3*z+2);\n",
"X1 = denom(X);\n",
"zp = roots(X1)\n",
"X1 = z1^2/(z1^2+3*z1+2);\n",
"F1 = X1*(z1^(n-1))*(z1-zp(1));\n",
"F2 = X1*(z1^(n-1))*(z1-zp(2));\n",
"h1 = limit(F1,z1,zp(1));\n",
"disp(h1*'u(n)','h1[n]=')\n",
"h2 = limit(F2,z1,zp(2));\n",
"disp((h2)*'u(n)','h2[n]=');\n",
"disp((h1)*'u(n)'+(h2)*'u(n)','h[n]=');\n",
"////Result\n",
"//  h[n]= (2(- 2)^n+1 - (- 1)^n)*u(n)"
   ]
   }
,
{
		   "cell_type": "markdown",
		   "metadata": {},
		   "source": [
			"## Example 2.38_b: Inverse_Z_Transform.sce"
		   ]
		  },
  {
"cell_type": "code",
	   "execution_count": null,
	   "metadata": {
	    "collapsed": true
	   },
	   "outputs": [],
"source": [
"//Scilab Code for Example 2.38(ii) of Signals and systems by\n",
"//P.Ramakrishna Rao\n",
"//Inverse Z Transform:ROC |z|>2\n",
"clear;\n",
"clc;\n",
"z = %z;\n",
"syms n z1;\n",
"//To find out Inverse z transform z must be linear z = z1\n",
"X  =(z+1)/(z^2+5*z+4)\n",
"X1 = denom(X);\n",
"zp = roots(X1)\n",
"X1 = 1/(z1+4);\n",
"F1 = X1*(z1^(n))*(z1-zp(1));\n",
"h1 = limit(F1,z1,zp(1))\n",
"disp(-(h1)*'u(-n-1)','h[n]=');\n",
"////Result\n",
"//  h[n]= (- (- 4)^n)*u(-n-1)"
   ]
   }
,
{
		   "cell_type": "markdown",
		   "metadata": {},
		   "source": [
			"## Example 2.39: Inverse_Z_Transform.sce"
		   ]
		  },
  {
"cell_type": "code",
	   "execution_count": null,
	   "metadata": {
	    "collapsed": true
	   },
	   "outputs": [],
"source": [
"//Scilab Code for Example 2.39 of Signals and systems by\n",
"//P.Ramakrishna Rao\n",
"//Inverse Z Transform:ROC |z|>2\n",
"clear;\n",
"clc;\n",
"z = %z;\n",
"syms n z1;\n",
"//To find out Inverse z transform z must be linear z = z1\n",
"X  =2/(z^-1+2);\n",
"X1 = denom(X);\n",
"zp = roots(X1)\n",
"X1 =z1/(z1+0.5);\n",
"F1 = X1*(z1^(n-1))*(z1-zp(1));\n",
"h1 = limit(F1,z1,zp(1))\n",
"disp(-(h1)*'u(-n-1)','h[n]=');\n",
"////Result\n",
"//  h[n]= (- (- 0.5)^n)*u(-n-1)"
   ]
   }
,
{
		   "cell_type": "markdown",
		   "metadata": {},
		   "source": [
			"## Example 2.3: Initial_Value_Theorem.sce"
		   ]
		  },
  {
"cell_type": "code",
	   "execution_count": null,
	   "metadata": {
	    "collapsed": true
	   },
	   "outputs": [],
"source": [
"//Scilab Code for Example 2.3 of Signals and systems by\n",
"//P.Ramakrishna Rao\n",
"clear;\n",
"clc;\n",
"syms s0;\n",
"s=%s;\n",
"I=(s+8)/(s^2+6*s+13)\n",
"i=pfss(s*I)\n",
"disp(i(1),'sF(s)(1)=')\n",
"disp(i(2),'sF(s)(2)=')\n",
"I1=(2*s0-13)/(s0^2+6*s0+13);\n",
"I2=1;\n",
"Io1=limit(I1,s0,10^8);\n",
"Io2=limit(I2,s0,10^8);\n",
"Ix=2-((25*s0+26)/(s0^2+6*s0+13));\n",
"f0=(Io1)+(Io2);\n",
"f0_dash=limit(Ix,s0,10^8);\n",
"disp(f0,'INITIAL VALUE OF f(t) i.e. f(0)=');\n",
"disp(abs(f0_dash),'INITIAL VALUE OF f(t) i.e. f''(0)=');"
   ]
   }
,
{
		   "cell_type": "markdown",
		   "metadata": {},
		   "source": [
			"## Example 2.40: Inverse_Z_Transform.sce"
		   ]
		  },
  {
"cell_type": "code",
	   "execution_count": null,
	   "metadata": {
	    "collapsed": true
	   },
	   "outputs": [],
"source": [
"//Scilab Code for Example 2.40 of Signals and systems by\n",
"//P.Ramakrishna Rao\n",
"//Inverse Z Transform:ROC |z|>2\n",
"clear;\n",
"clc;\n",
"z = %z;\n",
"syms n z1;\n",
"//To find out Inverse z transform z must be linear z = z1\n",
"X  =z^2/((z-0.5)*(z-1));\n",
"X1 = denom(X);\n",
"zp = roots(X1)\n",
"X1 = z1^2/((z1-0.5)*(z1-1));\n",
"F1 = X1*(z1^(n-1))*(z1-zp(1));\n",
"F2 = X1*(z1^(n-1))*(z1-zp(2));\n",
"h1 = limit(F1,z1,zp(1));\n",
"disp(h1*'u(n)','h1[n]=')\n",
"h2 = limit(F2,z1,zp(2));\n",
"disp((h2)*'u(n)','h2[n]=');\n",
"disp(-(h1)*'u(-n-1)'-(h2)*'u(-n-1)','h[n]=');\n",
"////Result\n",
"//  h[n]= ((0.5)^n - 2)*u(-n-1)"
   ]
   }
,
{
		   "cell_type": "markdown",
		   "metadata": {},
		   "source": [
			"## Example 2.4: Laplace_Transform.sce"
		   ]
		  },
  {
"cell_type": "code",
	   "execution_count": null,
	   "metadata": {
	    "collapsed": true
	   },
	   "outputs": [],
"source": [
"//Scilab Code for Example 2.4 of Signals and systems by\n",
"//P.Ramakrishna Rao\n",
"clear;\n",
"clc;\n",
"//Time shifted laplace Transform\n",
"syms t y s a0;\n",
"y=laplace('t*exp(-s*a0)',t,s);\n",
"disp('Re(s)>0',y,'X(s)');"
   ]
   }
,
{
		   "cell_type": "markdown",
		   "metadata": {},
		   "source": [
			"## Example 2.6: Circuit_Current.sce"
		   ]
		  },
  {
"cell_type": "code",
	   "execution_count": null,
	   "metadata": {
	    "collapsed": true
	   },
	   "outputs": [],
"source": [
"//Scilab Code for Example 2.6 of Signals and systems by\n",
"//P.Ramakrishna Raoclear;\n",
"clc;\n",
"clear;\n",
"syms s X x t R C V Vo;\n",
"//After solving for I(s)\n",
"//I(s)=(V-Vo)/R . 1/(s+1/RC)\n",
"X=(V-Vo)/((s+1/(R*C))*R);\n",
"disp(X,'I(s)=');\n",
"x=ilaplace(X);\n",
"disp(x,'i(t)=');"
   ]
   }
,
{
		   "cell_type": "markdown",
		   "metadata": {},
		   "source": [
			"## Example 2.7: Inverse_Laplace_Transform.sce"
		   ]
		  },
  {
"cell_type": "code",
	   "execution_count": null,
	   "metadata": {
	    "collapsed": true
	   },
	   "outputs": [],
"source": [
"//Scilab Code for Example 2.7 of Signals and systems by\n",
"//P.Ramakrishna Rao\n",
"//Unilateral Laplace Transform using partial fraction\n",
"clear;\n",
"clc;\n",
"syms t s;\n",
"s= %s;\n",
"a1=pfss((s+3)/(s^2+3*s+2))\n",
"f1=ilaplace(a1(1))\n",
"f2=ilaplace(a1(2))\n",
"fy=f1+f2\n",
"disp(fy*'u(t)','i) f(t)=')\n",
"a2=pfss((2*s-1)/(s^2+2*s+1))\n",
"a2(1)=2/(s+1)\n",
"a2(2)=-3/(s+1)^2\n",
"f1=ilaplace(a2(1))\n",
"f2=ilaplace(a2(2))\n",
"fz=f1+f2\n",
"disp(fz*'u(t)','ii) f(t)=')"
   ]
   }
,
{
		   "cell_type": "markdown",
		   "metadata": {},
		   "source": [
			"## Example 2.8: Inverse_Laplace_Transform.sce"
		   ]
		  },
  {
"cell_type": "code",
	   "execution_count": null,
	   "metadata": {
	    "collapsed": true
	   },
	   "outputs": [],
"source": [
"//Scilab Code for Example 2.8 of Signals and systems by\n",
"//P.Ramakrishna Rao\n",
"//Unilateral Laplace Transform\n",
"clear;\n",
"clc;\n",
"syms t s\n",
"s=%s;\n",
"a=ilaplace(1/(s^3+s^2))\n",
"b=a-3;\n",
"disp(a*'u(t)'+b*'u(t-3)','x(t)=')"
   ]
   }
,
{
		   "cell_type": "markdown",
		   "metadata": {},
		   "source": [
			"## Example 2.9: Circuit_Current.sce"
		   ]
		  },
  {
"cell_type": "code",
	   "execution_count": null,
	   "metadata": {
	    "collapsed": true
	   },
	   "outputs": [],
"source": [
"//Scilab Code for Example 2.2 of Signals and systems by\n",
"//P.Ramakrishna Rao\n",
"clear;\n",
"clc;\n",
"syms s X;\n",
"//After solving for I(s)\n",
"//I(s)=2/(s+1)\n",
"X=2/(s+1)\n",
"x=ilaplace(X);\n",
"disp(x,'i(t)=')"
   ]
   }
],
"metadata": {
		  "kernelspec": {
		   "display_name": "Scilab",
		   "language": "scilab",
		   "name": "scilab"
		  },
		  "language_info": {
		   "file_extension": ".sce",
		   "help_links": [
			{
			 "text": "MetaKernel Magics",
			 "url": "https://github.com/calysto/metakernel/blob/master/metakernel/magics/README.md"
			}
		   ],
		   "mimetype": "text/x-octave",
		   "name": "scilab",
		   "version": "0.7.1"
		  }
		 },
		 "nbformat": 4,
		 "nbformat_minor": 0
}
