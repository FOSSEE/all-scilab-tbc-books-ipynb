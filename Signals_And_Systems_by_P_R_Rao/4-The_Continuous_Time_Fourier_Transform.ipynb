{
"cells": [
 {
		   "cell_type": "markdown",
	   "metadata": {},
	   "source": [
       "# Chapter 4: The Continuous Time Fourier Transform"
	   ]
	},
{
		   "cell_type": "markdown",
		   "metadata": {},
		   "source": [
			"## Example 4.11: Fourier_Transform.sce"
		   ]
		  },
  {
"cell_type": "code",
	   "execution_count": null,
	   "metadata": {
	    "collapsed": true
	   },
	   "outputs": [],
"source": [
"//Scilab Code for Example 4.11 of Signals and systems by\n",
"//P.Ramakrishna Rao\n",
"//Find system function and output of the system\n",
"clear;\n",
"clc;\n",
"syms a t;\n",
"for n=1:10;\n",
"h=t^(n-1)*%e^(-a*t);\n",
"H=laplace(h,t,'jw');\n",
"disp(H,'SYSTEM FUNCTION X(f)=',h,'For x(t)=');\n",
"end"
   ]
   }
,
{
		   "cell_type": "markdown",
		   "metadata": {},
		   "source": [
			"## Example 4.14: Fourier_Transform.sce"
		   ]
		  },
  {
"cell_type": "code",
	   "execution_count": null,
	   "metadata": {
	    "collapsed": true
	   },
	   "outputs": [],
"source": [
"//Scilab Code for Example 4.14 of Signals and systems by\n",
"//P.Ramakrishna Rao\n",
"clear;\n",
"clc;\n",
"close;\n",
"a=.5;\n",
"A=1/(sqrt(2)*%pi);\n",
"t=-10:0.1:10;\n",
"x=A*exp(-a*t.*t);\n",
"disp('Guassian pulse signal x(t)=(1/sqrt(2)*%pi)*exp(-a*t^2)');\n",
"disp('X(w)=integral(exp(-a*t^2)*exp(-%i*w*t)) w.r.t  dt');\n",
"disp('d(X(w))/dw=-%i*w/(2*a)*integral(exp(-a*t^2)*exp(-%i*w*t))');\n",
"disp('d(X(w))/dw=-w*X(w)/2a');\n",
"disp('solving this we get X(w)=A*exp(-w^2/4a)')\n",
"disp('A=sqrt(%pi/a)');\n",
"d=gca()\n",
"plot(t,x);\n",
"poly1=d.children.children;\n",
"poly1.thickness=3;\n",
"poly1.foreground=2;\n",
"xtitle('x(t)','t')\n",
"A=1;\n",
"f=t;\n",
"Xf=A*exp(-2*%pi^2*f^2);\n",
"figure(1);\n",
"d=gca()\n",
"plot(f,Xf);\n",
"poly1=d.children.children;\n",
"poly1.thickness=3;\n",
"poly1.foreground=2;\n",
"xtitle('X(f)','f')"
   ]
   }
,
{
		   "cell_type": "markdown",
		   "metadata": {},
		   "source": [
			"## Example 4.17: Fourier_Transform.sce"
		   ]
		  },
  {
"cell_type": "code",
	   "execution_count": null,
	   "metadata": {
	    "collapsed": true
	   },
	   "outputs": [],
"source": [
"//Scilab Code for Example 4.17 of Signals and systems by\n",
"//P.Ramakrishna Rao\n",
"clear;\n",
"clc;\n",
"//Fourier Transform of x(t)\n",
"n=1;\n",
"for t=-10:0.1:10;\n",
"    x(1,n)=1/(1+t^2);\n",
"    n=n+1;\n",
"end\n",
"a = gca ();\n",
"a.y_location ='origin';\n",
"a.x_location ='origin';\n",
"t=-10:0.1:10;\n",
"plot(t,x);\n",
"xlabel ( 'Time in Second' );\n",
"title ('x(t)');\n",
"disp('By Duality Theorem Fourier Transform of x(t) is:');\n",
"disp('%pi*exp(-|w|)');\n",
"n=1;\n",
"for w=-10:0.1:10;\n",
"    X(1,n)=%pi*exp(-abs(w));\n",
"    n=n+1;\n",
"end\n",
"figure(1);\n",
"a = gca ();\n",
"a.y_location ='origin';\n",
"a.x_location ='origin';\n",
"w=-10:0.1:10;\n",
"plot(w,X);\n",
"xlabel ( 'Frequency in Radians/Second' );\n",
"title ('X(w)');"
   ]
   }
,
{
		   "cell_type": "markdown",
		   "metadata": {},
		   "source": [
			"## Example 4.1: Magnitude_and_Phase_Spectra.sce"
		   ]
		  },
  {
"cell_type": "code",
	   "execution_count": null,
	   "metadata": {
	    "collapsed": true
	   },
	   "outputs": [],
"source": [
"//Scilab Code for Example 4.1 of Signals and systems by\n",
"//P.Ramakrishna Rao\n",
"//Plotting Magnitude and Phase spectrum\n",
"clc;\n",
"clear;\n",
"A=8;\n",
"Dt=0.005;\n",
"T1=4;\n",
"t=-T1/2:Dt:T1/2;\n",
"q=length(t)\n",
"for i=-(q/2)+1:q/2\n",
"    if i>-q/4 & i<q/4 then\n",
"    xt(i+(q/2))=A;\n",
"    else xt(i+(q/2))=0;\n",
"        end\n",
"end\n",
"Wmax = 2*%pi*1;        //Analog Frequency = 1Hz\n",
"K = 4;\n",
"k = 0:(K/1000):K;\n",
"W = k*Wmax/K;\n",
"xt = xt';\n",
"XW = xt* exp(-sqrt(-1)*t'*W) * Dt;\n",
"XW_Mag = real(XW);\n",
"W = [-mtlb_fliplr(W), W(2:1001)]; // Omega from -Wmax to Wmax\n",
"XW_Mag = [mtlb_fliplr(XW_Mag), XW_Mag(2:1001)];\n",
"[ XW_Phase ,db] = phasemag (XW);\n",
"XW_Phase =[-mtlb_fliplr(XW_Phase),XW_Phase(2:1001)];\n",
"// Plotting the Function\n",
"subplot(2,1,1);\n",
"a=gca();\n",
"a.data_bounds=[-4,0;4,2];\n",
"a.y_location='origin';\n",
"plot(t,xt);\n",
"xlabel('t in sec.');\n",
"title('Continous Time Signal x(t)');\n",
"// Plotting Magnitude Reponse of CTS\n",
"subplot(2,1,2);\n",
"a=gca();\n",
"a.y_location='origin';\n",
"plot(W/(2*%pi),XW_Mag);\n",
"xlabel('Frequency in Hz');\n",
"title('Continuous time Fourier Transform X(jW)');\n",
"// Plotting Phase Reponse of CTS\n",
"figure(1);\n",
"a = gca ();\n",
"a.y_location = 'origin';\n",
"a.x_location = 'origin';\n",
"plot (W/(2*%pi),-XW_Phase *%pi /180) ;\n",
"xlabel ( ' Frequency in Hz' );\n",
"ylabel ( '<X(jW) ' )\n",
"title ( ' Phase Response (CTFT) in Radians ' )"
   ]
   }
,
{
		   "cell_type": "markdown",
		   "metadata": {},
		   "source": [
			"## Example 4.2: Magnitude_and_Phase_Spectra.sce"
		   ]
		  },
  {
"cell_type": "code",
	   "execution_count": null,
	   "metadata": {
	    "collapsed": true
	   },
	   "outputs": [],
"source": [
"//Scilab Code for Example 4.2 of Signals and systems by\n",
"//P.Ramakrishna Rao\n",
"//Continuous Time Fourier Transform of a\n",
"//Continuous Time Signal x(t)= exp(-A*t)u(t), t>0\n",
"clear;\n",
"clc;\n",
"close;\n",
"// Analog Signal\n",
"A =1;    //Amplitude\n",
"T=1;\n",
"Dt = 0.005;\n",
"t = 0:Dt:10;\n",
"xt = A*exp(-t/T);\n",
"// Continuous-time Fourier Transform\n",
"Wmax = 2*%pi*1;        //Analog Frequency = 1Hz\n",
"K = 4;\n",
"k = 0:(K/1000):K;\n",
"W = k*Wmax/K;\n",
"XW = xt* exp(-sqrt(-1)*t'*W) * Dt;\n",
"XW_Mag = abs(XW);\n",
"W = [-mtlb_fliplr(W), W(2:1001)]; // Omega from -Wmax to Wmax\n",
"XW_Mag = [mtlb_fliplr(XW_Mag), XW_Mag(2:1001)];\n",
"[XW_Phase,db] = phasemag(XW);\n",
"XW_Phase = [-mtlb_fliplr(XW_Phase),XW_Phase(2:1001)];\n",
"//Plotting Continuous Time Signal\n",
"a = gca();\n",
"a.y_location = 'origin';\n",
"plot(t,xt);\n",
"xlabel('t in sec.');\n",
"ylabel('x(t)')\n",
"title('Continuous Time Signal')\n",
"figure\n",
"//Plotting Magnitude Response of CTS\n",
"subplot(2,1,1);\n",
"a = gca();\n",
"a.y_location = 'origin';\n",
"plot(W,XW_Mag);\n",
"xlabel('Frequency in Radians/Seconds---> W');\n",
"ylabel('abs(X(jW))')\n",
"title('Magnitude Response (CTFT)')\n",
"//Plotting Phase Reponse of CTS\n",
"subplot(2,1,2);\n",
"a = gca();\n",
"a.y_location = 'origin';\n",
"a.x_location = 'origin';\n",
"plot(W,XW_Phase*%pi/180);\n",
"xlabel('                         Frequency in Radians/Seconds---> W');\n",
"ylabel('                                                <X(jW)')\n",
"title('Phase Response(CTFT) in Radians')"
   ]
   }
,
{
		   "cell_type": "markdown",
		   "metadata": {},
		   "source": [
			"## Example 4.3: Magnitude_and_Phase_Spectra.sce"
		   ]
		  },
  {
"cell_type": "code",
	   "execution_count": null,
	   "metadata": {
	    "collapsed": true
	   },
	   "outputs": [],
"source": [
"//Scilab Code for Example 4.3 of Signals and systems by\n",
"//P.Ramakrishna Rao\n",
"//x(t)=A*cos w0*t*gate(t/T)\n",
"//T=1/2*fo\n",
"//fo=0.5 Hz\n",
"clear;\n",
"clc;\n",
"//Fourier Transform\n",
"A=1;\n",
"T=0.5;\n",
"fo=1/(2*T);\n",
"Wo=2*%pi*fo;\n",
"for f=-20:1:20;\n",
"X(f+21)=A*integrate('cos(Wo*t)*cos(2*%pi*f*t)','t',-0.25,0.25);\n",
"end\n",
"disp(X,'X(0)-->X(20)');\n",
"t=-0.25:0.01:0.25;\n",
"q=cos(Wo*t);\n",
"a = gca ();\n",
"a.y_location ='origin';\n",
"a.x_location ='origin';\n",
"plot(t,q);\n",
"xlabel ( 'Time in Seconds' );\n",
"title ('Signal x(t)');\n",
"figure(1);\n",
"a = gca ();\n",
"a.y_location ='origin';\n",
"a.x_location ='origin';\n",
"f=-20:1:20;\n",
"plot (f, X);\n",
"xlabel ( 'Frequency in Hz ' );\n",
"title ('Continuous Time Fourier Transform X(jW)');"
   ]
   }
,
{
		   "cell_type": "markdown",
		   "metadata": {},
		   "source": [
			"## Example 4.4: Energy_at_output.sce"
		   ]
		  },
  {
"cell_type": "code",
	   "execution_count": null,
	   "metadata": {
	    "collapsed": true
	   },
	   "outputs": [],
"source": [
"//Scilab Code for Example 4.4 of Signals and systems by\n",
"//P.Ramakrishna Rao\n",
"clear;\n",
"clc;\n",
"//X(f)=A*T/1+j*2*pi*f*T\n",
"syms f w;\n",
"A=1;\n",
"T=1;\n",
"X=(A^2*T^2)/(1+4*%pi^2*f^2*T^2)\n",
"disp('Putting f = tan @');\n",
"disp('Total Energy:');\n",
"Ex=integrate('(A^2*T)/(2*%pi)','w',-%pi/2,%pi/2)\n",
"disp('Energy Contained in the Output Signal');\n",
"Ey=integrate('(A^2*T)/(2*%pi)','w',-%pi/4,%pi/4)\n",
"e=Ey*100/Ex;\n",
"disp(e,'Percentage Energy Contained in the Output:');"
   ]
   }
,
{
		   "cell_type": "markdown",
		   "metadata": {},
		   "source": [
			"## Example 4.5: Fourier_Transform.sce"
		   ]
		  },
  {
"cell_type": "code",
	   "execution_count": null,
	   "metadata": {
	    "collapsed": true
	   },
	   "outputs": [],
"source": [
"//Scilab Code for Example 4.5 of Signals and systems by\n",
"//P.Ramakrishna Rao\n",
"//x(t)=cos pi*t, |t|>0.5, zero otherwise\n",
"clear;\n",
"clc;\n",
"//Fourier Transform\n",
"for f=-20:1:20;\n",
"X(f+21)=integrate('cos(%pi*t)*cos(2*%pi*f*t)','t',-0.5,0.5);\n",
"end\n",
"disp(X,'X(0)-->X(20)');\n",
"t=-0.5:0.01:0.5;\n",
"q=cos(%pi*t);\n",
"a = gca ();\n",
"a.y_location ='origin';\n",
"a.x_location ='origin';\n",
"plot(t,q);\n",
"xlabel ( 'Time in Seconds' );\n",
"title ('Signal x(t)');\n",
"figure(1);\n",
"a = gca ();\n",
"a.y_location ='origin';\n",
"a.x_location ='origin';\n",
"f=-20:1:20;\n",
"plot (f, X);\n",
"xlabel ( 'Frequency in Hz ' );\n",
"title ('Continuous Time Fourier Transform X(jW)');"
   ]
   }
,
{
		   "cell_type": "markdown",
		   "metadata": {},
		   "source": [
			"## Example 4.6: Convolution.sce"
		   ]
		  },
  {
"cell_type": "code",
	   "execution_count": null,
	   "metadata": {
	    "collapsed": true
	   },
	   "outputs": [],
"source": [
"//Scilab Code for Example 4.6 of Signals and systems by\n",
"//P.Ramakrishna Rao\n",
"clear;\n",
"clc;\n",
"close;\n",
"disp('X(w)=1/(a+jw)^2=1/(a+jw)*1/(a+jw) ');\n",
"disp('exp(-a*t)*u(t) <--> 1/(a+jw) ');\n",
"disp('therefore x(t)=convolution(2*sinc(2*t),(sinc t)^2');\n",
"a=2;\n",
"n=1;\n",
"for t=-10:0.1:10\n",
"y1(1,n)=(sinc(t))^2;\n",
"y2(1,n)=2*sinc(2*t);\n",
"n=n+1;\n",
"z=conv(y1,y2);\n",
"end\n",
"t=-20:0.1:20;\n",
"a=gca();\n",
"a.y_location ='origin';\n",
"a.x_location ='origin';\n",
"plot(t,z);\n",
"title('Convolution of x(t) and y(t)')"
   ]
   }
,
{
		   "cell_type": "markdown",
		   "metadata": {},
		   "source": [
			"## Example 4.7: Energy_in_Signal.sce"
		   ]
		  },
  {
"cell_type": "code",
	   "execution_count": null,
	   "metadata": {
	    "collapsed": true
	   },
	   "outputs": [],
"source": [
"//Scilab Code for Example 4.7 of Signals and systems by\n",
"//P.Ramakrishna Rao\n",
"clear;\n",
"clc;\n",
"syms t;\n",
"A=2;\n",
"//x(t)=20*sinc(10*t);\n",
"disp('Total Energy of the signal:');\n",
"q=integrate('A^2','w',-5,5);\n",
"disp(q,'Ex');"
   ]
   }
],
"metadata": {
		  "kernelspec": {
		   "display_name": "Scilab",
		   "language": "scilab",
		   "name": "scilab"
		  },
		  "language_info": {
		   "file_extension": ".sce",
		   "help_links": [
			{
			 "text": "MetaKernel Magics",
			 "url": "https://github.com/calysto/metakernel/blob/master/metakernel/magics/README.md"
			}
		   ],
		   "mimetype": "text/x-octave",
		   "name": "scilab",
		   "version": "0.7.1"
		  }
		 },
		 "nbformat": 4,
		 "nbformat_minor": 0
}
