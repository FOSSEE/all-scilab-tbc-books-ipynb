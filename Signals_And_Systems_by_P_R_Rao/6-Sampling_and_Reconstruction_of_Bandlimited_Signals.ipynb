{
"cells": [
 {
		   "cell_type": "markdown",
	   "metadata": {},
	   "source": [
       "# Chapter 6: Sampling and Reconstruction of Bandlimited Signals"
	   ]
	},
{
		   "cell_type": "markdown",
		   "metadata": {},
		   "source": [
			"## Example 6.1: Sampling_and_Reconstruction.sce"
		   ]
		  },
  {
"cell_type": "code",
	   "execution_count": null,
	   "metadata": {
	    "collapsed": true
	   },
	   "outputs": [],
"source": [
"//Scilab Code for Example 6.1 of Signals and systems by\n",
"//P.Ramakrishna Rao\n",
"//Sampling of signal\n",
"clc;\n",
"clear f n X X_delta w;\n",
"fs=200;\n",
"for f=-200:200\n",
"    X(f+201)=5*[delta(f-75)+delta(f+75)];\n",
"end\n",
"figure(1);\n",
"f=-200:200;\n",
"plot2d3(f,X,-2);\n",
"title('X(f)');\n",
"xlabel('--->  f');\n",
"w=1;\n",
"n=-1;\n",
"    for f=-275:275\n",
"    X_delta1(f+276)=fs*5*[delta(f-n*fs-75)+delta(f-n*fs+75)];\n",
"    end\n",
"n=n+1;\n",
"    for f=-275:275\n",
"    X_delta2(f+276)=fs*5*[delta(f-n*fs-75)+delta(f-n*fs+75)];\n",
"end\n",
"n=n+1;\n",
"    for f=-275:275\n",
"    X_delta3(f+276)=fs*5*[delta(f-n*fs-75)+delta(f-n*fs+75)];\n",
"end\n",
"X_delta=X_delta1+X_delta2+X_delta3;\n",
"figure(2);\n",
"f=-275:275;\n",
"plot2d3(f,X_delta,-2);\n",
"title('X_delta(f) at fs=200');\n",
"xlabel('--->  f');"
   ]
   }
,
{
		   "cell_type": "markdown",
		   "metadata": {},
		   "source": [
			"## Example 6.2: Sampling_and_Reconstruction.sce"
		   ]
		  },
  {
"cell_type": "code",
	   "execution_count": null,
	   "metadata": {
	    "collapsed": true
	   },
	   "outputs": [],
"source": [
"//Scilab Code for Example 6.2 of Signals and systems by\n",
"//P.Ramakrishna Rao\n",
"//Sampling of signal and aliasing due to low Sampling frequency\n",
"clc;\n",
"clear f n X X_delta X_delta1 X_delta2 X_delta3 w;\n",
"fs=100;\n",
"for f=-200:200\n",
"    X(f+201)=5*[delta(f-75)+delta(f+75)];\n",
"end\n",
"figure(1);\n",
"f=-200:200;\n",
"plot2d3(f,X,-2);\n",
"title('X(f)');\n",
"xlabel('--->  f');\n",
"w=1;\n",
"n=-2;\n",
"    for f=-175:175\n",
"    X_delta1(f+176)=fs*5*[delta(f-n*fs-75)+delta(f-n*fs+75)];\n",
"    end\n",
"n=n+1;\n",
"    for f=-175:175\n",
"    X_delta2(f+176)=fs*5*[delta(f-n*fs-75)+delta(f-n*fs+75)];\n",
"end\n",
"n=n+1;\n",
"    for f=-175:175\n",
"    X_delta3(f+176)=fs*5*[delta(f-n*fs-75)+delta(f-n*fs+75)];\n",
"end\n",
"n=n+1;\n",
"    for f=-175:175\n",
"    X_delta4(f+176)=fs*5*[delta(f-n*fs-75)+delta(f-n*fs+75)];\n",
"end\n",
"n=n+1;\n",
"    for f=-175:175\n",
"    X_delta5(f+176)=fs*5*[delta(f-n*fs-75)+delta(f-n*fs+75)];\n",
"end\n",
"X_delta=X_delta1+X_delta2+X_delta3+X_delta4+X_delta5;\n",
"figure(2);\n",
"f=-175:175;\n",
"\n",
"plot2d3(f,X_delta,-2);\n",
"title('X_delta(f) at fs=100');\n",
"xlabel('--->  f');\n",
"//The Presence of the 25 HZ component in the spectrum of x_delta(t)\n",
"//Due to effect of Aliasing"
   ]
   }
,
{
		   "cell_type": "markdown",
		   "metadata": {},
		   "source": [
			"## Example 6.3: Minimum_Number_of_samples.sce"
		   ]
		  },
  {
"cell_type": "code",
	   "execution_count": null,
	   "metadata": {
	    "collapsed": true
	   },
	   "outputs": [],
"source": [
"//Scilab Code for Example 6.3 of Signals and systems by\n",
"//P.Ramakrishna Rao\n",
"//Minimum no. of samples required\n",
"clc;\n",
"clear;\n",
"syms t;\n",
"x=10*cos(6*%pi*t)+4*sin(8*%pi*t);\n",
"disp(x,'x(t)');\n",
"disp('Maximum Frequency component present: 4 Hz');\n",
"fs=2*4;\n",
"disp(fs,'Minimum Sampling Frequency to avoid distortion is:');"
   ]
   }
,
{
		   "cell_type": "markdown",
		   "metadata": {},
		   "source": [
			"## Example 6.4: Minimum_Sampling_Frequency.sce"
		   ]
		  },
  {
"cell_type": "code",
	   "execution_count": null,
	   "metadata": {
	    "collapsed": true
	   },
	   "outputs": [],
"source": [
"//Scilab Code for Example 6.4 of Signals and systems by\n",
"//P.Ramakrishna Rao\n",
"//Sampling Frequency\n",
"clc;\n",
"clear;\n",
"//x(t)=100*(sinc(100*t))^2;\n",
"fo=100;\n",
"fs=2*fo;\n",
"disp(fs,'Minimum Sampling Frequency to avoid distortion is:');"
   ]
   }
,
{
		   "cell_type": "markdown",
		   "metadata": {},
		   "source": [
			"## Example 6.5: LPF_output.sce"
		   ]
		  },
  {
"cell_type": "code",
	   "execution_count": null,
	   "metadata": {
	    "collapsed": true
	   },
	   "outputs": [],
"source": [
"//Scilab Code for Example 6.5 of Signals and systems by\n",
"//P.Ramakrishna Rao//Output of LPF\n",
"clc;\n",
"clear;\n",
"\n",
"for f=-100:100\n",
"    X(f+101)=delta(f+100)+delta(f-100)+3*[delta(f+90)+delta(f-90)];\n",
"end\n",
"f=-100:100;\n",
"a=gca();\n",
"a.x_location='origin';\n",
"a.y_location='origin';\n",
"plot2d3(f,X,-2);\n",
"title('Spectrum of x(t)');\n",
"xlabel('-->  f');\n",
"fs=150;\n",
"n=-1;f-n*fs\n",
"    for f=-275:275\n",
"    X_delta1(f+276)=delta(f-n*fs+100)+delta(f-n*fs-100)+3*[delta(f-n*fs+90)+delta(f-n*fs-90)];\n",
"    end\n",
"n=n+1;\n",
"    for f=-275:275\n",
"    X_delta2(f+276)=delta(f-n*fs+100)+delta(f-n*fs-100)+3*[delta(f-n*fs+90)+delta(f-n*fs-90)];\n",
"end\n",
"n=n+1;\n",
"    for f=-275:275\n",
"    X_delta3(f+276)=delta(f-n*fs+100)+delta(f-n*fs-100)+3*[delta(f-n*fs+90)+delta(f-n*fs-90)];\n",
"end\n",
"X_delta=X_delta1+X_delta2+X_delta3;\n",
"figure(2);\n",
"f=-275:275;\n",
"plot2d3(f,X_delta,-2);\n",
"title('X_delta(f) at fs=150');\n",
"xlabel('--->  f');"
   ]
   }
,
{
		   "cell_type": "markdown",
		   "metadata": {},
		   "source": [
			"## Example 6.6: Sampling_Frequency.sce"
		   ]
		  },
  {
"cell_type": "code",
	   "execution_count": null,
	   "metadata": {
	    "collapsed": true
	   },
	   "outputs": [],
"source": [
"//Scilab Code for Example 6.6 of Signals and systems by\n",
"//P.Ramakrishna Rao\n",
"//Sampling Frequency / Nyquist Rate\n",
"clc;\n",
"clear;\n",
"syms t;\n",
"x=12*cos(800*%pi*t)*cos((1800*%pi*t))^2;\n",
"disp(x,'x(t)');\n",
"disp('Maximum Frequency component present: 2200 Hz');\n",
"fs=2*2200;\n",
"disp(fs,'Minimum Sampling Frequency to avoid distortion is(Hz):');"
   ]
   }
,
{
		   "cell_type": "markdown",
		   "metadata": {},
		   "source": [
			"## Example 6.8: Minimum_Sampling_Frequency.sce"
		   ]
		  },
  {
"cell_type": "code",
	   "execution_count": null,
	   "metadata": {
	    "collapsed": true
	   },
	   "outputs": [],
"source": [
"//Scilab Code for Example 6.8 of Signals and systems by\n",
"//P.Ramakrishna Rao\n",
"//Sampling Frequency of BPS\n",
"clc;\n",
"clear;\n",
"disp('Maximum Frequency component present: 25 kHz');\n",
"fs=2*25000;\n",
"disp(fs,'Minimum Sampling Frequency to avoid distortion is:(Hz)');"
   ]
   }
],
"metadata": {
		  "kernelspec": {
		   "display_name": "Scilab",
		   "language": "scilab",
		   "name": "scilab"
		  },
		  "language_info": {
		   "file_extension": ".sce",
		   "help_links": [
			{
			 "text": "MetaKernel Magics",
			 "url": "https://github.com/calysto/metakernel/blob/master/metakernel/magics/README.md"
			}
		   ],
		   "mimetype": "text/x-octave",
		   "name": "scilab",
		   "version": "0.7.1"
		  }
		 },
		 "nbformat": 4,
		 "nbformat_minor": 0
}
