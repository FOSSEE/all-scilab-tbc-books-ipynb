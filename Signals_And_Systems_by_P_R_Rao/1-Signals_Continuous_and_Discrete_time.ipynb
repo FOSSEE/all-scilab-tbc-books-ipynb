{
"cells": [
 {
		   "cell_type": "markdown",
	   "metadata": {},
	   "source": [
       "# Chapter 1: Signals Continuous and Discrete time"
	   ]
	},
{
		   "cell_type": "markdown",
		   "metadata": {},
		   "source": [
			"## Example 1.11: Waveforms.sce"
		   ]
		  },
  {
"cell_type": "code",
	   "execution_count": null,
	   "metadata": {
	    "collapsed": true
	   },
	   "outputs": [],
"source": [
"//Scilab Code for Example 1.11 of Signals and systems by\n",
"//P.Ramakrishna Rao\n",
"//displaying plots for the given signals\n",
"clear;\n",
"clc;\n",
"for t=-3:1:3\n",
"y(t+4)=abs(t+3)*u(t+3)-abs(t+1)*u(t+1)-abs(t-1)*u(t-1)+abs(t-3)*u(t-3);\n",
"end\n",
"t=-3:1:3;\n",
"//for the main given signal\n",
"a=gca();\n",
"a.x_location='origin';\n",
"a.y_location='origin';\n",
"plot(t,y);\n",
"title('Main Signal)');\n",
"dy=0*y;\n",
"for i=1:6\n",
"dy(i)=(y(i+1)-y(i))/1;\n",
"end\n",
"//for the derivative of the given signal\n",
"figure(1);\n",
"a=gca();\n",
"a.x_location='origin';\n",
"a.y_location='origin';\n",
"plot2d2(t,dy);\n",
"title('Derivative of Signal');\n",
"dy2=0*dy;\n",
"dy2(1)=dy(1)-0;\n",
"for i=1:6\n",
"dy2(i+1)=(dy(i+1)-dy(i))/1;\n",
"end\n",
"//for the impulse response representation or second derivative\n",
"figure(2);\n",
"a=gca();\n",
"a.x_location='origin';\n",
"a.y_location='origin';\n",
"plot2d3(t,dy2,-5);\n",
"title('Impulse response representation');"
   ]
   }
,
{
		   "cell_type": "markdown",
		   "metadata": {},
		   "source": [
			"## Example 1.12: Time_Scaling.sce"
		   ]
		  },
  {
"cell_type": "code",
	   "execution_count": null,
	   "metadata": {
	    "collapsed": true
	   },
	   "outputs": [],
"source": [
"//Scilab Code for Example 1.12 of Signals and systems by\n",
"//P.Ramakrishna Rao\n",
"clc;\n",
"clear;\n",
"x=-2:1:3;\n",
"y=[-1.5,2,2,1,-1.5,2.5];\n",
"//Plot of x(n)\n",
"plot2d3(x,y,5);\n",
"xtitle ( 'Time Scaling x(n)');\n",
"a = gca(); // get the current axes\n",
"a.x_location = 'origin';\n",
"a.y_location = 'origin';\n",
"x=-2:1:3;\n",
"y=[0,-1.5,2,-1.5,0,0];\n",
"figure(1);\n",
"//Plot of x(2n)\n",
"plot2d3(x,y,5);\n",
"a = gca(); // get the current axes\n",
"a.x_location = 'origin';\n",
"a.y_location = 'origin';\n",
"xtitle ( 'Time Scaling x(2n)' );\n",
""
   ]
   }
,
{
		   "cell_type": "markdown",
		   "metadata": {},
		   "source": [
			"## Example 1.13: Plot_at_a_particular_sampling_frequency.sce"
		   ]
		  },
  {
"cell_type": "code",
	   "execution_count": null,
	   "metadata": {
	    "collapsed": true
	   },
	   "outputs": [],
"source": [
"//Scilab Code for Example 1.13 of Signals and systems by\n",
"//P.Ramakrishna Rao\n",
"clc;\n",
"clear;\n",
"//Discrete-time sequence plot\n",
"clc\n",
"A=10;\n",
"t=0:1/1000:1;\n",
"x=A*sin(2*%pi*100*t);\n",
"q=plot2d3(t,x);\n",
"disp('displaying a function plot on discrete time scale that has a sampling frequency of 1000 samples ps');"
   ]
   }
,
{
		   "cell_type": "markdown",
		   "metadata": {},
		   "source": [
			"## Example 1.1: Finding_Fundamental_Period.sce"
		   ]
		  },
  {
"cell_type": "code",
	   "execution_count": null,
	   "metadata": {
	    "collapsed": true
	   },
	   "outputs": [],
"source": [
"//Scilab Code for Example 1.1 of Signals and systems by\n",
"//P.Ramakrishna Rao\n",
"//Determine whether the given signal is periodic or not\n",
"//x(t)=10*(cos(10*pi*t))^2\n",
"clc;\n",
"clear;\n",
"syms t;\n",
"x=10*(cos(10*%pi*t))^2;\n",
"disp(x,'x(t)');\n",
"t=0:0.01:1;\n",
"x=10*(cos(10*%pi*t))^2;\n",
"t=0:0.01:1;\n",
"plot(t,x,'r')\n",
"title('x(t)');\n",
"xlabel('Time in seconds');\n",
"disp('the signal is plotted and it shows it is periodic');"
   ]
   }
,
{
		   "cell_type": "markdown",
		   "metadata": {},
		   "source": [
			"## Example 1.3_a: Periodicity.sce"
		   ]
		  },
  {
"cell_type": "code",
	   "execution_count": null,
	   "metadata": {
	    "collapsed": true
	   },
	   "outputs": [],
"source": [
"//Scilab Code for Example 1.3(a) of Signals and systems by\n",
"//P.Ramakrishna Rao\n",
"//Determine whether the given signal is periodic or not\n",
"//x(t)=3*cos(0.4*pi*t)+2*sin(0.66*t)\n",
"clc;\n",
"clear;\n",
"syms t;\n",
"x=3*cos(0.4*%pi*t)+2*sin(0.66*t);\n",
"disp(x,'x(t)');\n",
"t=0:1/50:50;\n",
"x=3*cos(0.4*%pi*t)+2*sin(0.66*t);\n",
"t=0:1/50:50;\n",
"plot(t,x);\n",
"title('x(t)');\n",
"xlabel('Time in seconds');\n",
"disp('plotted the signal and shown that it is not periodic and is increasing');"
   ]
   }
,
{
		   "cell_type": "markdown",
		   "metadata": {},
		   "source": [
			"## Example 1.3_b: Periodicity_and_fundamental_period.sce"
		   ]
		  },
  {
"cell_type": "code",
	   "execution_count": null,
	   "metadata": {
	    "collapsed": true
	   },
	   "outputs": [],
"source": [
"//Scilab Code for Example 1.3(b) of Signals and systems by\n",
"//P.Ramakrishna Rao\n",
"//Determine whether the given signal is periodic or not\n",
"//x(t)=5*cos((4/3)*t)+3*sin(t)\n",
"clc;\n",
"clear;\n",
"syms t;\n",
"x=5*cos((4/3)*t)+3*sin(t);\n",
"disp(x,'x(t)');\n",
"t=0:1/80:80;\n",
"x=5*cos((4/3)*t)+3*sin(t);\n",
"t=0:1/80:80;\n",
"plot(t,x);\n",
"title('x(t)');\n",
"xlabel('Time in seconds');\n",
"disp('plotted the signal and shown that it is periodic with a period of LCM of 2pi and (2pi/(4/3)');"
   ]
   }
,
{
		   "cell_type": "markdown",
		   "metadata": {},
		   "source": [
			"## Example 1.4: Fundamental_Period.sce"
		   ]
		  },
  {
"cell_type": "code",
	   "execution_count": null,
	   "metadata": {
	    "collapsed": true
	   },
	   "outputs": [],
"source": [
"//Scilab Code for Example 1.4 of Signals and systems by\n",
"//P.Ramakrishna Rao\n",
"//Determine whether the given signal is periodic or not\n",
"//x(t)=cos(7*t)+sin(4*t)\n",
"clc;\n",
"clear;\n",
"syms t;\n",
"x=sin(4*t)+cos(7*t);\n",
"disp(x,'x(t)');\n",
"t=0:1/12:12\n",
"x=sin(4*t)+cos(7*t);\n",
"t=0:1/12:12;\n",
"plot(t,x);\n",
"title('x(t)');\n",
"xlabel('Time in seconds');\n",
"disp('plotted the signal and shown that it is periodic with period of 2pi');\n",
""
   ]
   }
,
{
		   "cell_type": "markdown",
		   "metadata": {},
		   "source": [
			"## Example 1.5: Fundamental_Period.sce"
		   ]
		  },
  {
"cell_type": "code",
	   "execution_count": null,
	   "metadata": {
	    "collapsed": true
	   },
	   "outputs": [],
"source": [
"//Scilab Code for Example 1.5 of Signals and systems by\n",
"//P.Ramakrishna Rao\n",
"//Determine whether the given signal is periodic or not\n",
"//x(t)=cos(t)+sin(sqrt(2)*t)\n",
"clc;\n",
"clear;\n",
"syms t;\n",
"x=cos(t)+sin(sqrt(2)*t);\n",
"disp(x,'x(t)');\n",
"for t=0:1:100;\n",
"x(t+1)=cos(t)+sin(sqrt(2)*t);\n",
"end\n",
"t=0:1:100;\n",
"plot(t,x);\n",
"title('x(t)');\n",
"xlabel('Time in seconds');\n",
"disp('plotted the signal and shown that it is not periodic');"
   ]
   }
,
{
		   "cell_type": "markdown",
		   "metadata": {},
		   "source": [
			"## Example 1.6: Fundamental_Period.sce"
		   ]
		  },
  {
"cell_type": "code",
	   "execution_count": null,
	   "metadata": {
	    "collapsed": true
	   },
	   "outputs": [],
"source": [
"//Scilab Code for Example 1.6(i) of Signals and systems by\n",
"//P.Ramakrishna Rao\n",
"//Determine whether the given signal is periodic or not\n",
"clc;\n",
"clear;\n",
"\n",
"n=0:1:10;\n",
"x(n+1)=2*sin(0.8*%pi*n);\n",
"a=gca();\n",
"a.x_location='origin';\n",
"a.y_location='origin';\n",
"n=0:1:10;\n",
"plot2d3(n,x,9);\n",
"title('x(n)');\n",
"disp('ploting the signal and showing that it is periodic with period of 5');"
   ]
   }
,
{
		   "cell_type": "markdown",
		   "metadata": {},
		   "source": [
			"## Example 1.7: Even_and_odd_Components.sce"
		   ]
		  },
  {
"cell_type": "code",
	   "execution_count": null,
	   "metadata": {
	    "collapsed": true
	   },
	   "outputs": [],
"source": [
"//Scilab Code for Example 1.7 of Signals and systems by\n",
"//P.Ramakrishna Rao\n",
"clear;\n",
"clc;\n",
"n=1;\n",
"for t=-10:0.1:10;\n",
"    //Function for Even signal\n",
"    y1(n)=0.5*(exp(-t)*u(t)+exp(t)*u(-t));\n",
"    n=n+1;\n",
"end\n",
"a=gca();\n",
"a.x_location='origin';\n",
"a.y_location='origin';\n",
"t=-10:0.1:10;\n",
"//Plot of Even Signal\n",
"plot(t,y1);\n",
"title('y1(t)');\n",
"xlabel('Time in seconds');\n",
"n=1;\n",
"for t=-1:0.01:1;\n",
"    //Function for Odd signal\n",
"    y2(n)=0.5*(exp(-t)*u(t)-exp(t)*u(-t));\n",
"    n=n+1;\n",
"end\n",
"figure(1);\n",
"a=gca();\n",
"a.x_location='origin';\n",
"a.y_location='origin';\n",
"t=-1:0.01:1;\n",
"//Plot of Odd Signal\n",
"plot(t,y2)\n",
"disp('plotted the signal both in even and odd forms');\n",
"title('y2(t)');\n",
"xlabel('Time in seconds');"
   ]
   }
],
"metadata": {
		  "kernelspec": {
		   "display_name": "Scilab",
		   "language": "scilab",
		   "name": "scilab"
		  },
		  "language_info": {
		   "file_extension": ".sce",
		   "help_links": [
			{
			 "text": "MetaKernel Magics",
			 "url": "https://github.com/calysto/metakernel/blob/master/metakernel/magics/README.md"
			}
		   ],
		   "mimetype": "text/x-octave",
		   "name": "scilab",
		   "version": "0.7.1"
		  }
		 },
		 "nbformat": 4,
		 "nbformat_minor": 0
}
