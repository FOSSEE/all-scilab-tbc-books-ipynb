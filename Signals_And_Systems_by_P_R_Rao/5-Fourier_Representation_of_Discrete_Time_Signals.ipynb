{
"cells": [
 {
		   "cell_type": "markdown",
	   "metadata": {},
	   "source": [
       "# Chapter 5: Fourier Representation of Discrete Time Signals"
	   ]
	},
{
		   "cell_type": "markdown",
		   "metadata": {},
		   "source": [
			"## Example 5.11: Inverse_Fourier.sce"
		   ]
		  },
  {
"cell_type": "code",
	   "execution_count": null,
	   "metadata": {
	    "collapsed": true
	   },
	   "outputs": [],
"source": [
"//Scilab Code for Example 5.11 of Signals and systems by\n",
"//P.Ramakrishna Rao\n",
"clear;\n",
"clc;\n",
"wc=1;\n",
"y=1;\n",
"for n=-%pi:%pi/80:%pi\n",
"    if n<-wc | n>wc then\n",
"        X(1,y)=1;\n",
"        y=y+1;\n",
"    else X(1,y)=0;\n",
"        y=y+1;\n",
"    end\n",
"end\n",
"n=-%pi:%pi/80:%pi;\n",
"a = gca ();\n",
"a.y_location ='origin';\n",
"a.x_location ='origin';\n",
"plot(n,X);\n",
"xlabel ( 'Frequency in Radians/Seconds' );\n",
"title ('X(e^jw))    at    Wc=1');\n",
"A=1/%pi;\n",
"for k=-10:10\n",
"    x(k+11)=A*integrate('cos(w*k)','w',wc,%pi);\n",
"end\n",
"figure(1);\n",
"k=-10:10;\n",
"a = gca ();\n",
"a.y_location ='origin';\n",
"a.x_location ='origin';\n",
"plot2d3(k,x);\n",
"xlabel ( 'Time in Seconds' );\n",
"title ('x(n)    at    Wc=1');"
   ]
   }
,
{
		   "cell_type": "markdown",
		   "metadata": {},
		   "source": [
			"## Example 5.13: Circular_Convolution.sce"
		   ]
		  },
  {
"cell_type": "code",
	   "execution_count": null,
	   "metadata": {
	    "collapsed": true
	   },
	   "outputs": [],
"source": [
"//Scilab Code for Example 5.13 of Signals and systems by\n",
"//P.Ramakrishna Rao\n",
"//Circular Convolution\n",
"clear;\n",
"//First Causal sequence\n",
"x=[1,4,3,2;2,1,4,3;3,2,1,4;4,3,2,1]\n",
"//Second Sequence\n",
"y=[4;3;2;1]\n",
"//Conolution\n",
"z=x*y;\n",
"disp(z,'Convolution Of x & y is:')"
   ]
   }
,
{
		   "cell_type": "markdown",
		   "metadata": {},
		   "source": [
			"## Example 5.14: Circular_Convolution.sce"
		   ]
		  },
  {
"cell_type": "code",
	   "execution_count": null,
	   "metadata": {
	    "collapsed": true
	   },
	   "outputs": [],
"source": [
"//Scilab Code for Example 5.14 of Signals and systems by\n",
"//P.Ramakrishna Rao\n",
"//Circular Convolution\n",
"clear;\n",
"clc;\n",
"close;\n",
"//First Causal sequence\n",
"x=[1,1,1,1;1,-%i,-1,%i;1,-1,1,-1;1,%i,-1,-%i]\n",
"y1=[1;2;3;4];\n",
"y2=[4;3;2;1];\n",
"X=x*y1;\n",
"disp(X,'Vector X(0)-->X(3)')\n",
"Y=x*y2;\n",
"disp(Y,'Vector Y(0)-->Y(3)')\n",
"for n=1:4;\n",
"    Z(n,1)=X(n,1)*Y(n,1);\n",
"end\n",
"q=4*x^-1;\n",
"disp(q,'IDFT matrix ');\n",
"z=0.25*q*Z;\n",
"disp(z,'IDFT of Vector Z(0)-->Z(3)')"
   ]
   }
,
{
		   "cell_type": "markdown",
		   "metadata": {},
		   "source": [
			"## Example 5.16: DTFT.sce"
		   ]
		  },
  {
"cell_type": "code",
	   "execution_count": null,
	   "metadata": {
	    "collapsed": true
	   },
	   "outputs": [],
"source": [
"//Scilab Code for Example 5.16 of Signals and systems by\n",
"//P.Ramakrishna Rao\n",
"clc;\n",
"clear;\n",
"q=0;\n",
"x=[1,2,3,4];\n",
"w=0;\n",
"n=0:3;\n",
"z=(exp(-%i*w*n));\n",
"for n=0:3\n",
"    X(n+1)=z(n+1)*x(n+1);\n",
"    q=X(n+1)+q;\n",
"end\n",
"disp(q,'X(0)->zeroth DFT coefficient');\n",
"q=0;\n",
"w=%pi/2;\n",
"n=0:3;\n",
"z=(exp(-%i*w*n));\n",
"for n=0:3\n",
"    X(n+1)=z(n+1)*x(n+1);\n",
"    q=X(n+1)+q;\n",
"end\n",
"disp(q,'X(1)->first DFT coefficient');\n",
"q=0;\n",
"w=%pi;\n",
"n=0:3;\n",
"z=(exp(-%i*w*n));\n",
"for n=0:3\n",
"    X(n+1)=z(n+1)*x(n+1);\n",
"    q=X(n+1)+q;\n",
"end\n",
"disp(ceil(q),'X(2)->second DFT coefficient');\n",
"q=0;\n",
"w=3*%pi/2;\n",
"n=0:3;\n",
"z=(exp(-%i*w*n));\n",
"for n=0:3\n",
"    X(n+1)=z(n+1)*x(n+1);\n",
"    q=X(n+1)+q;\n",
"end\n",
"disp(q,'X(3)->third DFT coefficient');"
   ]
   }
,
{
		   "cell_type": "markdown",
		   "metadata": {},
		   "source": [
			"## Example 5.18: DFT_coefficients.sce"
		   ]
		  },
  {
"cell_type": "code",
	   "execution_count": null,
	   "metadata": {
	    "collapsed": true
	   },
	   "outputs": [],
"source": [
"//Scilab Code for Example 5.18 of Signals and systems by\n",
"//P.Ramakrishna Rao\n",
"//Given signal x(n)\n",
"clear;\n",
"clc;\n",
"x=[1,2,3,4];\n",
"X=fft(x);\n",
"disp(X,'FFT of given signal is:X(0)-->X(3)')"
   ]
   }
,
{
		   "cell_type": "markdown",
		   "metadata": {},
		   "source": [
			"## Example 5.1: DTFT.sce"
		   ]
		  },
  {
"cell_type": "code",
	   "execution_count": null,
	   "metadata": {
	    "collapsed": true
	   },
	   "outputs": [],
"source": [
"//Scilab Code for Example 5.1 of Signals and systems by\n",
"//P.Ramakrishna Rao\n",
"//Discrete Time Fourier Transform of\n",
"//x[n]= (a^abs(n))  0<a<1\n",
"clear;\n",
"clc;\n",
"close;\n",
"// DTS Signal\n",
"a = 0.5;     //0<a<1\n",
"max_limit = 10;\n",
"n = -max_limit+1:max_limit-1;\n",
"x = a^abs(n);\n",
"// Discrete-time Fourier Transform\n",
"Wmax = 2*%pi;      \n",
"K = 4;\n",
"k = 0:(K/1000):K;\n",
"W = k*Wmax/K;\n",
"XW = x* exp(-sqrt(-1)*n'*W);\n",
"XW_Mag = real(XW);\n",
"W = [-mtlb_fliplr(W), W(2:1001)]; // Omega from -Wmax to Wmax\n",
"XW_Mag = [mtlb_fliplr(XW_Mag), XW_Mag(2:1001)];\n",
"a = gca();\n",
"a.y_location ='origin';\n",
"a.x_location ='origin';  \n",
"plot2d3('gnn',n,x);\n",
"xtitle('Discrete Time Sequence x[n] for a>0')\n",
"figure(1);\n",
"a = gca();\n",
"a.y_location ='origin';\n",
"a.x_location ='origin';\n",
"plot2d(W,XW_Mag);\n",
"title('Discrete Time Fourier Transform X(exp(jW))')"
   ]
   }
,
{
		   "cell_type": "markdown",
		   "metadata": {},
		   "source": [
			"## Example 5.2: DTFT_and_Spectra.sce"
		   ]
		  },
  {
"cell_type": "code",
	   "execution_count": null,
	   "metadata": {
	    "collapsed": true
	   },
	   "outputs": [],
"source": [
"//Scilab Code for Example 5.2of Signals and systems by\n",
"//P.Ramakrishna Rao\n",
"//Discrete Time Fourier Transform of\n",
"//x[n]= 1 , 0=<n<=3\n",
"clear;\n",
"clc;\n",
"close;\n",
"// DTS Signal\n",
"N1 = 3;\n",
"n = 0:N1;\n",
"x = ones(1,length(n));\n",
"// Discrete-time Fourier Transform\n",
"Wmax = 2*%pi;       \n",
"K = 4;\n",
"k = 0:(K/1000):K;\n",
"W = k*Wmax/K;\n",
"XW = x* exp(-sqrt(-1)*n'*W);\n",
"XW_Mag = real(XW);\n",
"[XW_Phase,db] = phasemag(XW);\n",
"W = [-mtlb_fliplr(W), W(2:1001)]; // Omega from -Wmax to Wmax\n",
"XW_Mag = [mtlb_fliplr(XW_Mag), XW_Mag(2:1001)];\n",
"XW_Phase = [-mtlb_fliplr(XW_Phase),XW_Phase(2:1001)];\n",
"a = gca();\n",
"a.y_location ='origin';\n",
"a.x_location ='origin';\n",
"plot2d3('gnn',n,x);\n",
"xtitle('Discrete Time Sequence x[n]')\n",
"figure(1);\n",
"a = gca();\n",
"a.y_location ='origin';\n",
"a.x_location ='origin';\n",
"plot2d(W,abs(XW_Mag));\n",
"title('Discrete Time Fourier Transform X(exp(jW))')\n",
"figure(2);\n",
"a = gca();\n",
"a.y_location ='origin';\n",
"a.x_location ='origin';\n",
"plot2d(W,XW_Phase);\n",
"title('Phase Response <(X(jW))')"
   ]
   }
,
{
		   "cell_type": "markdown",
		   "metadata": {},
		   "source": [
			"## Example 5.3: Inverse_Fourier.sce"
		   ]
		  },
  {
"cell_type": "code",
	   "execution_count": null,
	   "metadata": {
	    "collapsed": true
	   },
	   "outputs": [],
"source": [
"//Scilab Code for Example 5.3 of Signals and systems by\n",
"//P.Ramakrishna Rao\n",
"clear;\n",
"clc;\n",
"//Inverse Fourier Transform\n",
"w=-20:20;\n",
"X=4*(cos(w))^2;\n",
"a = gca();\n",
"a.y_location ='origin';\n",
"a.x_location ='origin';\n",
"plot(w,X);\n",
"title('X(e^jw)');\n",
"xlabel('Frequency in Radians/sec');\n",
"figure(1);\n",
"n=-50:50;\n",
"x=2*sinc(n)+sinc(n+2)+sinc(n-2);\n",
"a = gca ();\n",
"a.y_location ='origin';\n",
"a.x_location ='origin';\n",
"plot2d3(n,x);\n",
"title('x(n)');\n",
"xlabel('Time in sec');"
   ]
   }
,
{
		   "cell_type": "markdown",
		   "metadata": {},
		   "source": [
			"## Example 5.4: Inverse_Fourier.sce"
		   ]
		  },
  {
"cell_type": "code",
	   "execution_count": null,
	   "metadata": {
	    "collapsed": true
	   },
	   "outputs": [],
"source": [
"//Scilab Code for Example 5.4 of Signals and systems by\n",
"//P.Ramakrishna Rao\n",
"//Discrete Time Fourier Transform of \n",
"// X(e^j*w)=2*%pi*delta(w)\n",
"clear;\n",
"clc;\n",
"close;\n",
"N = 1;\n",
"N1 = -3*N:3*N;\n",
"xn = [zeros(1,N-1),1];\n",
"x = [1 xn xn xn xn xn xn];\n",
"ak = 1/N;\n",
"XW = 2*%pi*ak*ones(1,2*N);\n",
"Wo = 2*%pi/N;\n",
"n  = -N:N-1;\n",
"W = Wo*n;\n",
"a = gca();\n",
"a.y_location ='middle';\n",
"a.x_location ='origin';\n",
"plot2d3('gnn',W,XW,2);\n",
"poly1 = a.children(1).children(1);\n",
"poly1.thickness = 3;\n",
"xlabel('W');\n",
"title('DTFT of Periodic Impulse Train')\n",
"figure(1);\n",
"a = gca();\n",
"a.y_location ='origin';\n",
"a.x_location ='origin';\n",
"plot2d3('gnn',N1,x,2);\n",
"poly1 = a.children(1).children(1);\n",
"poly1.thickness = 3; \n",
"xlabel('n');\n",
"title('Periodic Impulse Train x(n)')"
   ]
   }
,
{
		   "cell_type": "markdown",
		   "metadata": {},
		   "source": [
			"## Example 5.5: Fourier_series.sce"
		   ]
		  },
  {
"cell_type": "code",
	   "execution_count": null,
	   "metadata": {
	    "collapsed": true
	   },
	   "outputs": [],
"source": [
"//Scilab Code for Example 5.5 of Signals and systems by\n",
"//P.Ramakrishna Rao\n",
"clear;\n",
"clc;\n",
"x=[1,2,3,2,1];\n",
"q=0;\n",
"for n=1:5\n",
"    q=x(n)+q;\n",
"end\n",
"disp(q,'(a) X(e^j*0)');\n",
"q=0;\n",
"for n=-2:2\n",
"    q=((-1)^n)*x(n+3)+q;\n",
"end\n",
"disp(q,'(c) X(e^j*pi)');\n",
"disp('(d) X(e^j*pi)=2*pi*x(0)');\n",
"disp(2*%pi*x(3));\n",
"q=0;\n",
"for n=-2:2\n",
"    q=(x(n+3))^2+q;\n",
"end\n",
"disp(q*2*%pi,'(e) |X(e^j*w)|^2');"
   ]
   }
,
{
		   "cell_type": "markdown",
		   "metadata": {},
		   "source": [
			"## Example 5.9_i: DTFT.sce"
		   ]
		  },
  {
"cell_type": "code",
	   "execution_count": null,
	   "metadata": {
	    "collapsed": true
	   },
	   "outputs": [],
"source": [
"//Scilab Code for Example 5.9(i) of Signals and systems by\n",
"//P.Ramakrishna Rao\n",
"clc;\n",
"clear;\n",
"q=0;\n",
"a1=0.5\n",
"a2=-0.5;\n",
"n=1:101;\n",
"x1=a1^n;\n",
"x2=a2^n;\n",
"w=2;\n",
"n=0:100;\n",
"z=(exp(-%i*w*n));\n",
"for n=0:33;\n",
"    X(n+1)=z(n+1)*x1(3*n+1);\n",
"    q=X(n+1)+q;\n",
"end\n",
"disp(q,'Y1(e^2j) at a=0.5');\n",
"for n=0:33;\n",
"    X(n+1)=z(n+1)*x2(3*n+1);\n",
"    q=X(n+1)+q;\n",
"end\n",
"disp(q,'Y1(e^2j) at a=-0.5');"
   ]
   }
,
{
		   "cell_type": "markdown",
		   "metadata": {},
		   "source": [
			"## Example 5.9_ii: DTFT.sce"
		   ]
		  },
  {
"cell_type": "code",
	   "execution_count": null,
	   "metadata": {
	    "collapsed": true
	   },
	   "outputs": [],
"source": [
"//Scilab Code for Example 5.9(ii) of Signals and systems by\n",
"//P.Ramakrishna Rao\n",
"clc;\n",
"clear;\n",
"q=0;\n",
"a1=0.5\n",
"a2=-0.5;\n",
"n=1:101;\n",
"x1=a1^n;\n",
"x2=a2^n;\n",
"w=2;\n",
"n=0:100;\n",
"z=(exp(-%i*w*n));\n",
"for n=0:33;\n",
"    X(n+1)=z(n+1)*x1(n+1);\n",
"    q=X(n+1)+q;\n",
"end\n",
"disp(q,'Y2(e^2j) at a=0.5');\n",
"for n=0:33;\n",
"    X(n+1)=z(n+1)*x2(n+1);\n",
"    q=X(n+1)+q;\n",
"end\n",
"disp(q,'Y2(e^2j) at a=-0.5');"
   ]
   }
,
{
		   "cell_type": "markdown",
		   "metadata": {},
		   "source": [
			"## Example 5.9_iii: DTFT.sce"
		   ]
		  },
  {
"cell_type": "code",
	   "execution_count": null,
	   "metadata": {
	    "collapsed": true
	   },
	   "outputs": [],
"source": [
"//Scilab Code for Example 5.9(iii) of Signals and systems by\n",
"//P.Ramakrishna Rao\n",
"clc;\n",
"clear;\n",
"q=0;\n",
"a1=0.5\n",
"a2=-0.5;\n",
"n=1:101;\n",
"x1=a1^n;\n",
"x2=a2^n;\n",
"w=2;\n",
"n=0:100;\n",
"z=(exp(-%i*w*n));\n",
"for n=0:33;\n",
"    X(n+1)=z(n+1)*x1(n+1)*cos(0.4*%pi*n);\n",
"    q=X(n+1)+q;\n",
"end\n",
"disp(q,'Y3(e^2j) at a=0.5');\n",
"for n=0:33;\n",
"    X(n+1)=z(n+1)*x2(n+1)*cos(0.4*%pi*n);\n",
"    q=X(n+1)+q;\n",
"end\n",
"disp(q,'Y3(e^2j) at a=-0.5');"
   ]
   }
],
"metadata": {
		  "kernelspec": {
		   "display_name": "Scilab",
		   "language": "scilab",
		   "name": "scilab"
		  },
		  "language_info": {
		   "file_extension": ".sce",
		   "help_links": [
			{
			 "text": "MetaKernel Magics",
			 "url": "https://github.com/calysto/metakernel/blob/master/metakernel/magics/README.md"
			}
		   ],
		   "mimetype": "text/x-octave",
		   "name": "scilab",
		   "version": "0.7.1"
		  }
		 },
		 "nbformat": 4,
		 "nbformat_minor": 0
}
