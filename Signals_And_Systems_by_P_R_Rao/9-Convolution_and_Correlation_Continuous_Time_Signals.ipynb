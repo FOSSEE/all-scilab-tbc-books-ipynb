{
"cells": [
 {
		   "cell_type": "markdown",
	   "metadata": {},
	   "source": [
       "# Chapter 9: Convolution and Correlation Continuous Time Signals"
	   ]
	},
{
		   "cell_type": "markdown",
		   "metadata": {},
		   "source": [
			"## Example 9.10: Autocorrelation_Function.sce"
		   ]
		  },
  {
"cell_type": "code",
	   "execution_count": null,
	   "metadata": {
	    "collapsed": true
	   },
	   "outputs": [],
"source": [
"//Scilab Code for Example 9.10 of Signals and systems by\n",
"//P.Ramakrishna Rao\n",
"//Maximum Value of Auto-Correlation Function\n",
"clc;\n",
"clear;\n",
"disp('Maximum Value of ACF=Rxx(0)');\n",
"x=200*integrate('exp(-2*t)','t',0,1000);\n",
"disp(x,'Energy in x(t)=');"
   ]
   }
,
{
		   "cell_type": "markdown",
		   "metadata": {},
		   "source": [
			"## Example 9.11: PSD.sce"
		   ]
		  },
  {
"cell_type": "code",
	   "execution_count": null,
	   "metadata": {
	    "collapsed": true
	   },
	   "outputs": [],
"source": [
"//Scilab Code for Example 9.11 of Signals and systems by\n",
"//P.Ramakrishna Rao\n",
"//Power Spectral Density \n",
"clear;\n",
"clc;\n",
"clear f n;\n",
"fo=2;\n",
"n=1;\n",
"RC=1/(2*%pi*10^3);\n",
"w=4*%pi*10^3\n",
"H=1/(1+%i*w*RC);\n",
"disp(H,'H(f)');\n",
"X=(abs(H))^2;\n",
"for f=-5:5\n",
"    Pxx(n)=25*[delta(f-fo)+delta(f+fo)];\n",
"    Pyy(n)=X*Pxx(n);\n",
"    n=n+1;\n",
"end\n",
"disp(Pxx,'Pxx=');\n",
"disp(Pyy,'Pyy=');\n",
"f=-5:5;\n",
"plot2d3(f,Pyy,-2);\n",
"title('Power Spectral Density');\n",
"ylabel('Pyy(f)');\n",
"xlabel('f in Hz');"
   ]
   }
,
{
		   "cell_type": "markdown",
		   "metadata": {},
		   "source": [
			"## Example 9.1: Convolution.sce"
		   ]
		  },
  {
"cell_type": "code",
	   "execution_count": null,
	   "metadata": {
	    "collapsed": true
	   },
	   "outputs": [],
"source": [
"//Scilab Code for Example 9.1 of Signals and systems by\n",
"//P.Ramakrishna Rao\n",
"//Convolution of two signals\n",
"clc;\n",
"n=1;\n",
"for t=-10:0.1:10\n",
"    x(n)=5*cos(t);\n",
"    y(n)=2*exp(-abs(t));\n",
"    n=n+1;\n",
"end\n",
"z=conv(x,y);\n",
"t2=-20:0.1:20;\n",
"plot2d(t2,z);\n",
"title('Output signal');\n",
"xlabel('Time t-->');"
   ]
   }
,
{
		   "cell_type": "markdown",
		   "metadata": {},
		   "source": [
			"## Example 9.3: Convolution.sce"
		   ]
		  },
  {
"cell_type": "code",
	   "execution_count": null,
	   "metadata": {
	    "collapsed": true
	   },
	   "outputs": [],
"source": [
"//Scilab Code for Example 9.3 of Signals and systems by\n",
"//P.Ramakrishna Rao\n",
"//Convolution of two signals\n",
"clc;\n",
"clear;\n",
"n=1;\n",
"for t=-5:0.1:5\n",
"    x(n)=-2*u(t-0.5)+2*u(t-1.5);\n",
"    y(n)=(t+1)*u(t+1)-(t+1)*u(t-2);\n",
"    n=n+1;\n",
"end\n",
"z=conv(x,y);\n",
"t=-5:0.1:5;\n",
"plot2d2(t,x,5);\n",
"title('x(t)');\n",
"figure(1);\n",
"t=-5:0.1:5;\n",
"plot2d(t,y,2);\n",
"title('y(t)');\n",
"figure(2);\n",
"t=-10:0.1:10;\n",
"plot2d(t,z,6);\n",
"title('Convolution');"
   ]
   }
,
{
		   "cell_type": "markdown",
		   "metadata": {},
		   "source": [
			"## Example 9.4: Autocorrelatio.sce"
		   ]
		  },
  {
"cell_type": "code",
	   "execution_count": null,
	   "metadata": {
	    "collapsed": true
	   },
	   "outputs": [],
"source": [
"//Scilab Code for Example 9.4 of Signals and systems by\n",
"//P.Ramakrishna Rao\n",
"clc;\n",
"clear;\n",
"T=1;\n",
"n=1;\n",
"for t=-T/2:0.01:T/2;\n",
"    x(n)=10*cos(%pi*t/T);\n",
"    n=n+1;\n",
"end\n",
"t=-T/2:0.01:T/2;\n",
"plot(t,x);\n",
"title('x(t)');\n",
"disp('Rxx(0)=Energy of signal');\n",
"Rxx=integrate('50*(1+cos(2*%pi*t/T))','t',-T/2,T/2);\n",
"disp(Rxx,'Rxx(0)=');"
   ]
   }
,
{
		   "cell_type": "markdown",
		   "metadata": {},
		   "source": [
			"## Example 9.5: Autocorrelatio.sce"
		   ]
		  },
  {
"cell_type": "code",
	   "execution_count": null,
	   "metadata": {
	    "collapsed": true
	   },
	   "outputs": [],
"source": [
"//Scilab Code for Example 9.5 of Signals and systems by\n",
"//P.Ramakrishna Rao\n",
"clc;\n",
"clear;\n",
"clear z x y t T;\n",
"n=1;\n",
"for t=-10:0.01:10;\n",
"    x(n)=exp(-t)*u(t);\n",
"    n=n+1;\n",
"end\n",
"t=-10:0.01:10;\n",
"plot(t,x);\n",
"title('x(t)');\n",
"n=1;\n",
"for T=-10:0.1:0;\n",
"    z(n)=integrate('exp(-t)*exp(T-t)','t',0,1000);\n",
"    n=n+1;\n",
"end\n",
"n=1;\n",
"for T=0.1:0.1:10;\n",
"    z(n+101)=integrate('exp(-t)*exp(T-t)','t',T,1000);\n",
"    n=n+1;\n",
"end\n",
"figure(1);\n",
"T=-10:0.1:10;\n",
"plot(T,z);\n",
"title('Rxx(T)');\n",
"xlabel('t in seconds');"
   ]
   }
,
{
		   "cell_type": "markdown",
		   "metadata": {},
		   "source": [
			"## Example 9.6: Autocorrelatio.sce"
		   ]
		  },
  {
"cell_type": "code",
	   "execution_count": null,
	   "metadata": {
	    "collapsed": true
	   },
	   "outputs": [],
"source": [
"//Scilab Code for Example 9.6 of Signals and systems by\n",
"//P.Ramakrishna Rao\n",
"clc;\n",
"clear;\n",
"clear z x y t T;\n",
"A=1;\n",
"n=1;\n",
"wo=2*%pi;\n",
"theta=%pi/2;\n",
"for t=-5:0.01:5;\n",
"    x(n)=A*cos(wo*t+theta);\n",
"    n=n+1;\n",
"end\n",
"t=-5:0.01:5;\n",
"plot(t,x);\n",
"title('x(t)');\n",
"n=1;\n",
"for T=-5:0.1:5;\n",
"    z(n)=(A^2/2)*cos(wo*T);\n",
"    n=n+1;\n",
"end\n",
"figure(1);\n",
"T=-5:0.1:5;\n",
"plot(T,z);\n",
"title('Rxx(T)');\n",
"xlabel('t in seconds')"
   ]
   }
,
{
		   "cell_type": "markdown",
		   "metadata": {},
		   "source": [
			"## Example 9.7: Autocorrelatio.sce"
		   ]
		  },
  {
"cell_type": "code",
	   "execution_count": null,
	   "metadata": {
	    "collapsed": true
	   },
	   "outputs": [],
"source": [
"//Scilab Code for Example 9.7 of Signals and systems by\n",
"//P.Ramakrishna Rao\n",
"clc;\n",
"clear;\n",
"clear z x y t T A;\n",
"A=4;\n",
"T0=2;\n",
"n=1;\n",
"for T=0:0.1:T0;\n",
"    if T<T0/2 then\n",
"        x(n)=A;\n",
"    else x(n)=0;\n",
"        end\n",
"    n=n+1;\n",
"end\n",
"T=0:0.1:T0;\n",
"plot2d2(T,x,6);\n",
"title('x(t))');\n",
"xlabel('t in seconds');\n",
"n=1;\n",
"for T=0:0.1:T0;\n",
"    z(n)=(1/T0)*integrate('A^2','t',T,T0/2);\n",
"    n=n+1;\n",
"end\n",
"T=0:0.1:T0;\n",
"figure(1);\n",
"plot(T,z);\n",
"title('Rxx(T)');\n",
"xlabel('T in seconds');"
   ]
   }
],
"metadata": {
		  "kernelspec": {
		   "display_name": "Scilab",
		   "language": "scilab",
		   "name": "scilab"
		  },
		  "language_info": {
		   "file_extension": ".sce",
		   "help_links": [
			{
			 "text": "MetaKernel Magics",
			 "url": "https://github.com/calysto/metakernel/blob/master/metakernel/magics/README.md"
			}
		   ],
		   "mimetype": "text/x-octave",
		   "name": "scilab",
		   "version": "0.7.1"
		  }
		 },
		 "nbformat": 4,
		 "nbformat_minor": 0
}
