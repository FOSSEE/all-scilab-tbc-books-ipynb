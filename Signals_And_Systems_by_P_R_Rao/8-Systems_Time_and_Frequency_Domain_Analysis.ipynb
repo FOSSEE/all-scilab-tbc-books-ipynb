{
"cells": [
 {
		   "cell_type": "markdown",
	   "metadata": {},
	   "source": [
       "# Chapter 8: Systems Time and Frequency Domain Analysis"
	   ]
	},
{
		   "cell_type": "markdown",
		   "metadata": {},
		   "source": [
			"## Example 8.10: Realization_Structure.sce"
		   ]
		  },
  {
"cell_type": "code",
	   "execution_count": null,
	   "metadata": {
	    "collapsed": true
	   },
	   "outputs": [],
"source": [
"//Scilab Code for Example 8.10 of Signals and systems by\n",
"//P.Ramakrishna Rao\n",
"clear;\n",
"clc;\n",
"syms s1;\n",
"s=%s;\n",
"H=poly(0,'s');\n",
"H=s^3/(s^3+6*s^2++11*s+6);\n",
"H1=denom(H);\n",
"a=roots(H1);\n",
"H2=5*(s1^3/(s1-a(1)))*(s1/(s1-a(2)))*(s1/(s1-a(3)));\n",
"disp(H2,'(ii) Cascade Form: H(s)');\n",
"h1=s1^3*(s1-a(1))/((s1+1)*(s1+2)*(s1+3));\n",
"h2=s1^3*(s1-a(2))/((s1+1)*(s1+2)*(s1+3));\n",
"h3=s1^3*(s1-a(3))/((s1+1)*(s1+2)*(s1+3));\n",
"A = limit(h1,s1,a(1))/(s-a(1));\n",
"B = limit(h2,s1,a(2))/(s-a(2));\n",
"C = limit(h3,s1,a(3))/(s-a(3));\n",
"Z=5*(1+A+B+C);\n",
"disp(Z,'(iii)Parallel Form Realization: H(s)');"
   ]
   }
,
{
		   "cell_type": "markdown",
		   "metadata": {},
		   "source": [
			"## Example 8.12: Transfer_function_Realization.sce"
		   ]
		  },
  {
"cell_type": "code",
	   "execution_count": null,
	   "metadata": {
	    "collapsed": true
	   },
	   "outputs": [],
"source": [
"//Scilab Code for Example 8.12 of Signals and systems by\n",
"//P.Ramakrishna Rao\n",
"//Second Order LSI system\n",
"z = %z;\n",
"s = %s;\n",
"X=z^-1/(0.7*z^-2-3.7*z^-1+3);\n",
"[A]=pfss(z^-1/(0.7*z^-2-3.7*z^-1+3))\n",
"x1 = horner(A(1),z)\n",
"x2 = horner(A(2),z)\n",
"q=denom(X);\n",
"a=roots(q)\n",
"H=[x1 x2 z/3];\n",
"disp(H,'(a) H(z)=');\n",
"clear z;\n",
"syms z n;\n",
"F1 = ((1/6)*(z/(z-1))*z^(n-1)*(z-a(1)))\n",
"F2 = ((0.7/54)*(z/(z-0.233333))*z^(n-1)*(z-a(2)))\n",
"w1=limit(F1,z,a(1))\n",
"w2=limit(F2,z,a(2))\n",
"w=w1+w2;\n",
"disp(w,'(b) h(n))=');\n",
"z=%z;\n",
"x11=z*x1/3\n",
"x12=z*x2/3\n",
"disp(x11,'(c) Parallel realization: H1(z)');\n",
"disp(x12,' H2(z)')"
   ]
   }
,
{
		   "cell_type": "markdown",
		   "metadata": {},
		   "source": [
			"## Example 8.13: Parallel_form_realizatio.sce"
		   ]
		  },
  {
"cell_type": "code",
	   "execution_count": null,
	   "metadata": {
	    "collapsed": true
	   },
	   "outputs": [],
"source": [
"//Scilab Code for Example 8.13 of Signals and systems by\n",
"//P.Ramakrishna Rao\n",
"clear;\n",
"clc;\n",
"syms z1;\n",
"z=%z;\n",
"H=poly(0,'z');\n",
"H=z*(z+0.5)*(z+0.25)/((z-0.5)*(z-0.25)*(z-0.125));\n",
"H1=denom(H);\n",
"a=roots(H1)\n",
"h1=(z1+0.5)*(z1+0.25)/((z1-0.5)*(z1-0.25)*(z1-0.125))*(z1-a(1));\n",
"h2=(z1+0.5)*(z1+0.25)/((z1-0.5)*(z1-0.25)*(z1-0.125))*(z1-a(2));\n",
"h3=(z1+0.5)*(z1+0.25)/((z1-0.5)*(z1-0.25)*(z1-0.125))*(z1-a(3));\n",
"A=z*limit(h1,z1,a(1))/(z-a(1));\n",
"B=z*limit(h2,z1,a(2))/(z-a(2));\n",
"C=z*limit(h3,z1,a(3))/(z-a(3));\n",
"Z=A+B+C;\n",
"disp(Z,'Parallel Form Realisation:  H(z)');"
   ]
   }
,
{
		   "cell_type": "markdown",
		   "metadata": {},
		   "source": [
			"## Example 8.1: Magnitude_and_Phase_Responses.sce"
		   ]
		  },
  {
"cell_type": "code",
	   "execution_count": null,
	   "metadata": {
	    "collapsed": true
	   },
	   "outputs": [],
"source": [
"//Scilab Code for Example 8.1 of Signals and systems by\n",
"//P.Ramakrishna Rao\n",
"//First Order causal LTI system\n",
"clear;\n",
"clc;\n",
"syms s t;\n",
"Y=1/(s+6);\n",
"h=exp(-6*t);\n",
"H=laplace(h,t,'jw');\n",
"disp(H,'H(w)=');\n",
"n=1;\n",
"for w=-5*2*%pi:0.01:5*2*%pi\n",
"    Hmag(n)=1/sqrt(36+w^2)\n",
"    Hphs(n)=-atan(w/6);\n",
"    n=n+1;\n",
"end\n",
"w=-5*2*%pi:0.01:5*2*%pi;\n",
"plot(w,Hmag);\n",
"title('Impulse Response');\n",
"ylabel('Amplitude');\n",
"xlabel('time in seconds');\n",
"figure(1);\n",
"w=-5*2*%pi:0.01:5*2*%pi;\n",
"plot(w,Hphs);\n",
"title('Phase Response');\n",
"ylabel('theta(w)');\n",
"xlabel('w in radians/second');"
   ]
   }
,
{
		   "cell_type": "markdown",
		   "metadata": {},
		   "source": [
			"## Example 8.2: Transfer_Function_of_system.sce"
		   ]
		  },
  {
"cell_type": "code",
	   "execution_count": null,
	   "metadata": {
	    "collapsed": true
	   },
	   "outputs": [],
"source": [
"//Scilab Code for Example 8.2 of Signals and systems by\n",
"//P.Ramakrishna Rao\n",
"//Second order system\n",
"clear;\n",
"clc;\n",
"syms t;\n",
"L=1;\n",
"R=1.2;\n",
"C=10^-6;\n",
"Rcr=2*sqrt(L/C);\n",
"eta=R/Rcr;\n",
"disp(eta,'Damping Ratio=',Rcr,'Critical Resistance (ohm)','(i)');\n",
"Wn=1/sqrt(L*C);\n",
"disp(Wn,'Undamped Natural Frequency(Hz)','(ii)');\n",
"n=1;\n",
"h=(1250*sin(800*t))*exp(-600*t);\n",
"H=laplace(h,t,'jW');\n",
"for t=0:0.1:2;\n",
"    h(n)=(1250*sin(800*t))*exp(-600*t);//Impulse Response\n",
"    n=n+1;\n",
"end\n",
"t=0:0.1:2;\n",
"plot(t,h);\n",
"title('Impulse Response');\n",
"ylabel('Amplitude');\n",
"xlabel('time in seconds');\n",
"disp(H,'(iv)Transfer Function(H(jw)):');\n",
"\n",
"\n",
""
   ]
   }
,
{
		   "cell_type": "markdown",
		   "metadata": {},
		   "source": [
			"## Example 8.3: Magnitude_and_Phase_Responses.sce"
		   ]
		  },
  {
"cell_type": "code",
	   "execution_count": null,
	   "metadata": {
	    "collapsed": true
	   },
	   "outputs": [],
"source": [
"//Scilab Code for Example 8.3 of Signals and systems by\n",
"//P.Ramakrishna Rao\n",
"clear;\n",
"clc;\n",
"syms n w;\n",
"h=(0.3)^n;\n",
"disp(h,'The impulse response of the system is:');\n",
"H=1/(1-(0.3*exp(-%i*w)));\n",
"disp(H,'The Transfer function of the system is:');\n",
"n=1;\n",
"for w=-%pi:0.1:%pi\n",
"    Hmag(n)=1/sqrt(1.09-(0.6*cos(w)));\n",
"    Hphs(n)=-atan(0.3*sin(w)/(1-0.3*cos(w)));\n",
"    n=n+1;\n",
"end\n",
"w=-%pi:0.1:%pi;\n",
"c = gca();\n",
"c.y_location = 'origin';\n",
"c.x_location = 'origin';\n",
"c.thickness=2;\n",
"plot(w,Hmag);\n",
"title('Magnitude Sketch');\n",
"ylabel('Amplitude');\n",
"xlabel('W in radians');\n",
"figure(1);\n",
"w=-%pi:0.1:%pi;\n",
"c = gca();\n",
"c.y_location = 'origin';\n",
"c.x_location = 'origin';\n",
"c.thickness=2;\n",
"plot(w,Hphs);\n",
"title('Phase Response');\n",
"ylabel('theta(w)');\n",
"xlabel('W in radians')"
   ]
   }
,
{
		   "cell_type": "markdown",
		   "metadata": {},
		   "source": [
			"## Example 8.4: system_response.sce"
		   ]
		  },
  {
"cell_type": "code",
	   "execution_count": null,
	   "metadata": {
	    "collapsed": true
	   },
	   "outputs": [],
"source": [
"//Scilab Code for Example 8.4 of Signals and systems by\n",
"//P.Ramakrishna Rao\n",
"//Second Order System\n",
"clear;\n",
"clc;\n",
"z = %z;\n",
"syms n z1;\n",
"X  =(z-1)/((z+(1/2))*(z-(1/5)))\n",
"disp(X,'(i) System Function is:');\n",
"X1 = denom(X);\n",
"zp = roots(X1);\n",
"X1 = (z1-1)/((z1+(1/2))*(z1-(1/5)));\n",
"F1 = X1*(z1^(n-1))*(z1-zp(1))\n",
"F2 = X1*(z1^(n-1))*(z1-zp(2))\n",
"h1 = limit(F1,z1,zp(1))\n",
"h2 = limit(F2,z1,zp(2))\n",
"h = h1+h2;\n",
"disp('(iv) Unit sample response sequence:')\n",
"disp(h*'u(n)','h[n]=');\n",
"for n=0:10;\n",
"    w(n+1)=(- 5.714*(0.2)^n- 4.285*(- 0.5^n));\n",
"end\n",
"n=0:10;\n",
"plot(n,w);\n",
"title('(iii)    Unit Sample Response Sequence');\n",
"disp('where z=e^jw ',X,'(i) Transfer Function is:');"
   ]
   }
,
{
		   "cell_type": "markdown",
		   "metadata": {},
		   "source": [
			"## Example 8.5: System_function.sce"
		   ]
		  },
  {
"cell_type": "code",
	   "execution_count": null,
	   "metadata": {
	    "collapsed": true
	   },
	   "outputs": [],
"source": [
"//Scilab Code for Example 8.5 of Signals and systems by\n",
"//P.Ramakrishna Rao\n",
"//Second Order System\n",
"clear;\n",
"clc;\n",
"z = %z;\n",
"syms n z1;\n",
"X  =z^2/(z-0.5)^2\n",
"disp(X,'(i) System Function is:');\n",
"X1 = denom(X);\n",
"zp = roots(X1);\n",
"X1 = z1^2/(z1-0.5)^2;\n",
"F1 = X1*(z1^(n-1))*(z1-0.5)^2;\n",
"h1 = limit(F1,z1,zp(1));\n",
"h = h1;\n",
"disp('(iii) Unit step response sequence:')\n",
"disp(h*'u(n)','h[n]=');\n",
"for n=0:20;\n",
"    w1(n+1)=1-(0.5)^n;\n",
"end\n",
"n=0:20;\n",
"plot(n,w1);\n",
"title('(ii)    Unit Sample Response Sequence');\n",
"disp('where z=e^jw ',X,'(iv) Transfer Function (H(e^jw))is:');"
   ]
   }
,
{
		   "cell_type": "markdown",
		   "metadata": {},
		   "source": [
			"## Example 8.8: Transfer_function.sce"
		   ]
		  },
  {
"cell_type": "code",
	   "execution_count": null,
	   "metadata": {
	    "collapsed": true
	   },
	   "outputs": [],
"source": [
"//Scilab Code for Example 8.8 of Signals and systems by\n",
"//P.Ramakrishna Rao\n",
"clear;\n",
"clc;\n",
"syms R L C s I;\n",
"X=I*(R+1/(C*s));\n",
"Y=R*I;\n",
"Z=Y/X;\n",
"disp(Z,'(a)  RC High pass Filter: H(s)');\n",
"X=I*(L*s+1/(C*s));\n",
"Y=I/(C*s);\n",
"Z=Y/X;\n",
"disp(Z,'(b)  LC Low pass Filter: H(s)');"
   ]
   }
,
{
		   "cell_type": "markdown",
		   "metadata": {},
		   "source": [
			"## Example 8.9: Transfer_function_by_block_diagram_reduction.sce"
		   ]
		  },
  {
"cell_type": "code",
	   "execution_count": null,
	   "metadata": {
	    "collapsed": true
	   },
	   "outputs": [],
"source": [
"//Scilab Code for Example 8.9 of Signals and systems by\n",
"//P.Ramakrishna Rao\n",
"clear;\n",
"clc;\n",
"syms G1 G2 G3 G4 H1 H2 s;\n",
"G1=s/(s+5);\n",
"G2=10/(s+10);\n",
"H1=s;\n",
"H2=1/s;\n",
"disp('(i) Shifting the take off point');\n",
"H1=H1/G2;\n",
"disp('(ii) Solving second Feedback Loop ');\n",
"G3=H1-1;\n",
"disp('(iii) Solving first Feedback Loop ');\n",
"G4=G2/(1+G2*H2);\n",
"Z=G1*G3*G4;\n",
"disp(Z,'(iv) The Transfer Function is:');"
   ]
   }
],
"metadata": {
		  "kernelspec": {
		   "display_name": "Scilab",
		   "language": "scilab",
		   "name": "scilab"
		  },
		  "language_info": {
		   "file_extension": ".sce",
		   "help_links": [
			{
			 "text": "MetaKernel Magics",
			 "url": "https://github.com/calysto/metakernel/blob/master/metakernel/magics/README.md"
			}
		   ],
		   "mimetype": "text/x-octave",
		   "name": "scilab",
		   "version": "0.7.1"
		  }
		 },
		 "nbformat": 4,
		 "nbformat_minor": 0
}
