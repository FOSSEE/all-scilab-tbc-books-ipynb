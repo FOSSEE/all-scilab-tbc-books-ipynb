{
"cells": [
 {
		   "cell_type": "markdown",
	   "metadata": {},
	   "source": [
       "# Chapter 11: Hilbert Transform Continuous and Discrete"
	   ]
	},
{
		   "cell_type": "markdown",
		   "metadata": {},
		   "source": [
			"## Example 11.1: Hilbert_Transform.sce"
		   ]
		  },
  {
"cell_type": "code",
	   "execution_count": null,
	   "metadata": {
	    "collapsed": true
	   },
	   "outputs": [],
"source": [
"//Scilab Code for Example 11.1 of Signals and systems by\n",
"//P.Ramakrishna Rao\n",
"//Hilbert Transform\n",
"clc;\n",
"clear;\n",
"n=1;\n",
"for t=-1:0.01:1\n",
"    xr(n)=sin(2*%pi*t);\n",
"    n=n+1;\n",
"end\n",
"//Computing Hilbertb Transform\n",
"x=hilbert(xr);\n",
"t=-1:0.01:1;\n",
"plot(t,xr);\n",
"title('Given Signal x(t)');\n",
"xlabel('time t-->');\n",
"figure(1);\n",
"t=-1:0.1:1;\n",
"plot(t,imag(x));\n",
"title('Hilbert Transform');\n",
"xlabel('time t-->');"
   ]
   }
,
{
		   "cell_type": "markdown",
		   "metadata": {},
		   "source": [
			"## Example 11.2: Hilbert_Transform.sce"
		   ]
		  },
  {
"cell_type": "code",
	   "execution_count": null,
	   "metadata": {
	    "collapsed": true
	   },
	   "outputs": [],
"source": [
"//Scilab Code for Example 11.2 of Signals and systems by\n",
"//P.Ramakrishna Rao\n",
"//Hilbert Transform\n",
"clc;\n",
"clear;\n",
"n=1;\n",
"for t=-1:0.01:1\n",
"    xr(n)=cos(2*%pi*t);\n",
"    n=n+1;\n",
"end\n",
"//Computing Hilbertb Transform\n",
"x=hilbert(xr);\n",
"t=-1:0.01:1;\n",
"plot(t,xr);\n",
"title('Given Signal x(t)');\n",
"xlabel('time t-->');\n",
"figure(1);\n",
"t=-1:0.01:1;\n",
"plot(t,imag(x));\n",
"title('Hilbert Transform');\n",
"xlabel('time t-->');"
   ]
   }
,
{
		   "cell_type": "markdown",
		   "metadata": {},
		   "source": [
			"## Example 11.3: Hilbert_Transform.sce"
		   ]
		  },
  {
"cell_type": "code",
	   "execution_count": null,
	   "metadata": {
	    "collapsed": true
	   },
	   "outputs": [],
"source": [
"//Scilab Code for Example 11.3 of Signals and systems by\n",
"//P.Ramakrishna Rao\n",
"//Hilbert Transform\n",
"clc;\n",
"clear xr n t x1 x2;\n",
"clear;\n",
"n=1;\n",
"for t=-1:0.01:1\n",
"    xr(n)=exp(%i*2*%pi*t);\n",
"    n=n+1;\n",
"end\n",
"//Computing Hilbertb Transform\n",
"x1=hilbert(real(xr));\n",
"x2=hilbert(imag(xr));\n",
"x=x1+x2;\n",
"t=-1:0.01:1;\n",
"plot(t,xr);\n",
"title('Given Signal x(t)');\n",
"xlabel('time t-->');\n",
"figure(1);\n",
"t=-1:0.01:1;\n",
"plot(t,imag(x));\n",
"title('Hilbert Transform');\n",
"xlabel('time t-->');"
   ]
   }
,
{
		   "cell_type": "markdown",
		   "metadata": {},
		   "source": [
			"## Example 11.6: Hilbert_Transform.sce"
		   ]
		  },
  {
"cell_type": "code",
	   "execution_count": null,
	   "metadata": {
	    "collapsed": true
	   },
	   "outputs": [],
"source": [
"//Scilab Code for Example 11.6 of Signals and systems by\n",
"//P.Ramakrishna Rao\n",
"//Hilbert Transform\n",
"clc;\n",
"clear A T t x;\n",
"T=2;\n",
"A=1;\n",
"n=1;\n",
"for t=-10:0.01:10;\n",
"    if t>-T/2 & t<T/2 then\n",
"        x(n)=A;\n",
"        n=n+1;\n",
"    else x(n)=0;\n",
"        n=n+1;\n",
"    end\n",
"end\n",
"t=-10:0.01:10;\n",
"//Signal x(t)\n",
"plot(t,x);\n",
"title('Given Signal x(t)');\n",
"xlabel('time t-->');\n",
"//Computing Hilbert Transform\n",
"xr=hilbert(x);\n",
"xr_imag=imag(xr);\n",
"figure(1);\n",
"t=-10:0.01:10;\n",
"plot(t,xr_imag);\n",
"title('Hilbert transform and associated signal');\n",
"xlabel('time t-->');"
   ]
   }
],
"metadata": {
		  "kernelspec": {
		   "display_name": "Scilab",
		   "language": "scilab",
		   "name": "scilab"
		  },
		  "language_info": {
		   "file_extension": ".sce",
		   "help_links": [
			{
			 "text": "MetaKernel Magics",
			 "url": "https://github.com/calysto/metakernel/blob/master/metakernel/magics/README.md"
			}
		   ],
		   "mimetype": "text/x-octave",
		   "name": "scilab",
		   "version": "0.7.1"
		  }
		 },
		 "nbformat": 4,
		 "nbformat_minor": 0
}
