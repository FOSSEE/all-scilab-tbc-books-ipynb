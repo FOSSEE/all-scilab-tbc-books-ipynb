{
"cells": [
 {
		   "cell_type": "markdown",
	   "metadata": {},
	   "source": [
       "# Chapter 10: Discrete Time Convolution and Correlation"
	   ]
	},
{
		   "cell_type": "markdown",
		   "metadata": {},
		   "source": [
			"## Example 10.11: System_response.sce"
		   ]
		  },
  {
"cell_type": "code",
	   "execution_count": null,
	   "metadata": {
	    "collapsed": true
	   },
	   "outputs": [],
"source": [
"//Scilab Code for Example 10.11 of Signals and systems by\n",
"//P.Ramakrishna Rao\n",
"//System Identification\n",
"//Cross Correlation\n",
"clear;\n",
"clc;\n",
"clear x n a y h z;\n",
"x=[1,1,1,1,0,0];\n",
"y=[1,3,6,10,12,12,10,6,3,1];\n",
"h(1)=y(1)/x(1);\n",
"for n=2:7\n",
"    for k=1:n-1\n",
"        z(k)=(h(k)*x(n-k));\n",
"    h(n)=(y(n)-sum(z));\n",
"    end\n",
"end\n",
"disp(h,'h(n)');\n",
"n=1:7;\n",
"a=gca();\n",
"a.x_location='origin';\n",
"a.y_location='origin';\n",
"plot2d3(n,h,-4);\n",
"title('System Response  h(n)');"
   ]
   }
,
{
		   "cell_type": "markdown",
		   "metadata": {},
		   "source": [
			"## Example 10.1: Cross_Correlatio.sce"
		   ]
		  },
  {
"cell_type": "code",
	   "execution_count": null,
	   "metadata": {
	    "collapsed": true
	   },
	   "outputs": [],
"source": [
"//Scilab Code for Example 10.1 of Signals and systems by\n",
"//P.Ramakrishna Rao\n",
"//Cross Correlation\n",
"clear;\n",
"clc;\n",
"x=[2,-1,1,0,2];\n",
"y=[0,1,0,-1,2];\n",
"//computation of cross correlation sequence;\n",
"n1 = max(size(y))-1;\n",
"n2 = max(size(x))-1;\n",
"r = xcorr(x,y,n1);\n",
"n=-4:4;\n",
"a=gca();\n",
"a.x_location='origin';\n",
"a.y_location='origin';\n",
"plot2d3(n,r,-9);\n",
"title('Cross-Correlation seguence output');"
   ]
   }
,
{
		   "cell_type": "markdown",
		   "metadata": {},
		   "source": [
			"## Example 10.2: Cross_Correlation_Sequence.sce"
		   ]
		  },
  {
"cell_type": "code",
	   "execution_count": null,
	   "metadata": {
	    "collapsed": true
	   },
	   "outputs": [],
"source": [
"//Scilab Code for Example 10.2 of Signals and systems by\n",
"//P.Ramakrishna Rao\n",
"//Cross Correlation\n",
"clear;\n",
"clc;\n",
"x=[4,-2,2,0,4];\n",
"y=[0,3,0,-3,6];\n",
"//computation of cross correlation sequence;\n",
"n1 = max(size(y))-1;\n",
"n2 = max(size(x))-1;\n",
"r = xcorr(x,y,n1);\n",
"n=-4:4;\n",
"a=gca();\n",
"a.x_location='origin';\n",
"a.y_location='origin';\n",
"plot2d3(n,r,-9);\n",
"title('rxy_cross-correlation');"
   ]
   }
,
{
		   "cell_type": "markdown",
		   "metadata": {},
		   "source": [
			"## Example 10.4: Auto_Correlatio.sce"
		   ]
		  },
  {
"cell_type": "code",
	   "execution_count": null,
	   "metadata": {
	    "collapsed": true
	   },
	   "outputs": [],
"source": [
"//Scilab Code for Example 10.4 of Signals and systems by\n",
"//P.Ramakrishna Rao\n",
"//Auto Correlation\n",
"clear;\n",
"clc;\n",
"x=[-1,1,-1];\n",
"//computation of auto correlation sequence;\n",
"r = xcorr(x);\n",
"n=-2:2;\n",
"a=gca();\n",
"a.x_location='origin';\n",
"a.y_location='origin';\n",
"plot2d3(n,r,-9);\n",
"title('rxx_auto-correlation');"
   ]
   }
,
{
		   "cell_type": "markdown",
		   "metadata": {},
		   "source": [
			"## Example 10.5: Auto_Correlatio.sce"
		   ]
		  },
  {
"cell_type": "code",
	   "execution_count": null,
	   "metadata": {
	    "collapsed": true
	   },
	   "outputs": [],
"source": [
"//Scilab Code for Example 10.5 of Signals and systems by\n",
"//P.Ramakrishna Rao\n",
"//Auto Correlation\n",
"clear;\n",
"clc;\n",
"clear x n a;\n",
"k=1;\n",
"a=0.8;\n",
"for n=-30:30;\n",
"    x(k)=a^(-n)*u(-n);\n",
"    k=k+1;\n",
"end\n",
"length(x)\n",
"//computation of auto correlation sequence;\n",
"r = xcorr(x);\n",
"n=-60:60;\n",
"a=gca();\n",
"a.x_location='origin';\n",
"a.y_location='origin';\n",
"plot2d3(n,r,-4);\n",
"title('rxx_auto-correlation');"
   ]
   }
,
{
		   "cell_type": "markdown",
		   "metadata": {},
		   "source": [
			"## Example 10.8: Auto_Correlatio.sce"
		   ]
		  },
  {
"cell_type": "code",
	   "execution_count": null,
	   "metadata": {
	    "collapsed": true
	   },
	   "outputs": [],
"source": [
"//Scilab Code for Example 10.8 of Signals and systems by\n",
"//P.Ramakrishna Rao\n",
"//Auto Correlation\n",
"clear;\n",
"clc;\n",
"clear x n a;\n",
"k=1;\n",
"a=0.8;\n",
"for n=-30:30;\n",
"    x(k)=a^(n)*u(n);\n",
"    k=k+1;\n",
"end\n",
"length(x)\n",
"//computation of auto correlation sequence;\n",
"r = xcorr(x);\n",
"n=-60:60;\n",
"a=gca();\n",
"a.x_location='origin';\n",
"a.y_location='origin';\n",
"plot2d3(n,r,-4);\n",
"title('rxx_auto-correlation');"
   ]
   }
],
"metadata": {
		  "kernelspec": {
		   "display_name": "Scilab",
		   "language": "scilab",
		   "name": "scilab"
		  },
		  "language_info": {
		   "file_extension": ".sce",
		   "help_links": [
			{
			 "text": "MetaKernel Magics",
			 "url": "https://github.com/calysto/metakernel/blob/master/metakernel/magics/README.md"
			}
		   ],
		   "mimetype": "text/x-octave",
		   "name": "scilab",
		   "version": "0.7.1"
		  }
		 },
		 "nbformat": 4,
		 "nbformat_minor": 0
}
