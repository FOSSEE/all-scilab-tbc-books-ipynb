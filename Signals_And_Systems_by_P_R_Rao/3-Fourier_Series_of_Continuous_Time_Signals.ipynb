{
"cells": [
 {
		   "cell_type": "markdown",
	   "metadata": {},
	   "source": [
       "# Chapter 3: Fourier Series of Continuous Time Signals"
	   ]
	},
{
		   "cell_type": "markdown",
		   "metadata": {},
		   "source": [
			"## Example 3.13: Complex_Fourier_Exponential_Series.sce"
		   ]
		  },
  {
"cell_type": "code",
	   "execution_count": null,
	   "metadata": {
	    "collapsed": true
	   },
	   "outputs": [],
"source": [
"//Scilab Code for Example 3.13 of Signals and systems by\n",
"//P.Ramakrishna Rao\n",
"//Complex Exponential Fourier Expansion\n",
"//A=3.14 or pi\n",
"clear;\n",
"close;\n",
"clc;\n",
"T0=4;\n",
"t=-5.99:0.01:6;\n",
"t_temp=0.01:0.01:T0/2;\n",
"s=length(t)/length(t_temp);\n",
"x=[];\n",
"for i=1:s\n",
"    if modulo(i,2)==1  then\n",
"        x=[x -ones(1,length(t_temp))*%pi];\n",
"    else\n",
"        x=[x ones(1,length(t_temp))*%pi];\n",
"    end\n",
"end\n",
"figure(1);\n",
"title('Signal');\n",
"ylabel('x(t)');\n",
"xlabel('t');\n",
"plot(t,x,'r')\n",
"w0=%pi/2;\n",
"for k=-10:10\n",
"    cc(k+11,:)=exp(-%i*k*w0*t);\n",
"    ck(k+11)=x*cc(k+11,:)'/length(t);\n",
"    if abs(ck(k+11))<0.01 then\n",
"    ck(k+11)=0;\n",
"    else if real(ck(k+11))<0.1  then\n",
"    ck(k+11)=%i*imag(ck(k+11));\n",
"    end\n",
"    end\n",
"    if k==0 then\n",
"        c0=ck(k+11);\n",
"    end\n",
"end \n",
"q=abs(ck);\n",
"figure(2);\n",
"title('Magnitude Spectrum');\n",
"ylabel('|cn|');\n",
"xlabel('fo');\n",
"f=-10:1:10;\n",
"plot2d3(f,q)"
   ]
   }
,
{
		   "cell_type": "markdown",
		   "metadata": {},
		   "source": [
			"## Example 3.14: Complex_Fourier_Exponential_Series.sce"
		   ]
		  },
  {
"cell_type": "code",
	   "execution_count": null,
	   "metadata": {
	    "collapsed": true
	   },
	   "outputs": [],
"source": [
"//Scilab Code for Example 3.14 of Signals and systems by\n",
"//P.Ramakrishna Rao\n",
"//CTFS coefficients of a periodic signal \n",
"//x(wt) = Asin wt, 0<wt<pi, and 0, pi<|t|<2*pi\n",
"clear;\n",
"clc;\n",
"A=6;\n",
"T =2*%pi;\n",
"T1 = T/2;\n",
"t = 0:0.01:T1;\n",
"Wo = 2*%pi/T;\n",
"xt =A*sin(Wo*t);\n",
"for k =0:6\n",
"  C(k+1,:) = exp(-sqrt(-1)*Wo*t.*k);\n",
"  c(k+1) = xt*C(k+1,:)'/length(t);\n",
"  if(abs(c(k+1))<=0.01) \n",
"    c(k+1)=0;\n",
"  end\n",
"end\n",
"c =c';\n",
"c_conj = real(c(:))-sqrt(-1)*imag(c(:));\n",
"ck = [c_conj($:-1:1)',c(2:$)];\n",
"k = 0:6;\n",
"k = [-k($:-1:1),k(2:$)];\n",
"figure(1);\n",
"c = gca();\n",
"c.y_location = 'origin';\n",
"c.x_location = 'origin';\n",
"//c.data_bounds=[-2,0;2,2];\n",
"plot2d(t,xt,5)\n",
"poly1 = c.children(1).children(1);\n",
"poly1.thickness = 3; \n",
"title('x(t)')\n",
"xlabel('t')\n",
"figure(2);\n",
"c = gca();\n",
"c.y_location = 'origin';\n",
"c.x_location = 'origin';\n",
"plot2d3('gnn',k,abs(ck),9)\n",
"poly1 = c.children(1).children(1);\n",
"poly1.thickness = 3; \n",
"title('|ck|')\n",
"xlabel('k')"
   ]
   }
,
{
		   "cell_type": "markdown",
		   "metadata": {},
		   "source": [
			"## Example 3.16: Complex_Fourier_Exponential_Series.sce"
		   ]
		  },
  {
"cell_type": "code",
	   "execution_count": null,
	   "metadata": {
	    "collapsed": true
	   },
	   "outputs": [],
"source": [
"//Scilab Code for Example 3.16 of Signals and systems by\n",
"//P.Ramakrishna Rao\n",
"//A=%pi or 3.14\n",
"clear;\n",
"clc;\n",
"//Trignometric Fourier Coefficients\n",
"for n=0:5\n",
"a(n+1)=integrate('t*cos(2*%pi*n*t)','t',0,1);\n",
"end\n",
"for n=0:5\n",
"b(n+1)=integrate('t*sin(2*%pi*n*t)','t',0,1);\n",
"end\n",
"disp(%pi*a(1),'an(a0)')\n",
"disp('an(a1-->a5)')\n",
"for n=1:5\n",
"disp(2*a(n+1)*%pi)\n",
"end\n",
"disp('bn(b1-->b5)')\n",
"for n=1:5\n",
"disp(2*%pi*b(n+1))\n",
"end\n",
"//CTFS coefficients of a periodic signal \n",
"//x(t) =t\n",
"t = 0:0.01:1;\n",
"xt =2*%pi*t;\n",
"//\n",
"for k =0:6\n",
"  C(k+1,:) = exp(-sqrt(-1)*2*%pi*t*k);\n",
"  c(k+1) = xt*C(k+1,:)'/length(t);\n",
"  if(abs(c(k+1))<=0.01) \n",
"    c(k+1)=0;\n",
"  end\n",
"end\n",
"c =c';\n",
"c_conj = real(c(:))-sqrt(-1)*imag(c(:));\n",
"ck = [c_conj($:-1:1)',c(2:$)];\n",
"k = 0:6;\n",
"k = [-k($:-1:1),k(2:$)];\n",
"c = gca();\n",
"c.y_location = 'origin';\n",
"c.x_location = 'origin';\n",
"plot2d3('gnn',k,abs(ck))\n",
"poly1 = c.children(1).children(1);\n",
"poly1.thickness = 3; \n",
"title('|ck|')\n",
"xlabel('k')"
   ]
   }
,
{
		   "cell_type": "markdown",
		   "metadata": {},
		   "source": [
			"## Example 3.17: Complex_Fourier_Exponential_Series.sce"
		   ]
		  },
  {
"cell_type": "code",
	   "execution_count": null,
	   "metadata": {
	    "collapsed": true
	   },
	   "outputs": [],
"source": [
"//Scilab Code for Example 3.17 of Signals and systems by\n",
"//P.Ramakrishna Rao\n",
"//CTFS coefficients of a periodic signal \n",
"//x(wt) = Asin wt, 0<wt<pi\n",
"clear;\n",
"close;\n",
"clc;\n",
"A=3.14;\n",
"T =%pi;\n",
"T1 = T/2;\n",
"t = 0:0.01:T1;\n",
"Wo = 2*%pi/T;\n",
"xt =A*sin(Wo*t);\n",
"//\n",
"for k =0:6\n",
"  C(k+1,:) = exp(-sqrt(-1)*Wo*t.*k);\n",
"  c(k+1) = xt*C(k+1,:)'/length(t);\n",
"  if(abs(c(k+1))<=0.01) \n",
"    c(k+1)=0;\n",
"  end\n",
"end\n",
"c =c';\n",
"c_conj = real(c(:))-sqrt(-1)*imag(c(:));\n",
"ck = [c_conj($:-1:1)',c(2:$)];\n",
"k = 0:6;\n",
"k = [-k($:-1:1),k(2:$)];\n",
"c = gca();\n",
"c.y_location = 'origin';\n",
"c.x_location = 'origin';\n",
"//c.data_bounds=[-2,0;2,2];\n",
"plot2d(t,xt,5)\n",
"poly1 = c.children(1).children(1);\n",
"poly1.thickness = 3; \n",
"title('x(t)')\n",
"xlabel('t')\n",
"figure(1);\n",
"c = gca();\n",
"c.y_location = 'origin';\n",
"c.x_location = 'origin';\n",
"plot2d3('gnn',k,abs(ck))\n",
"poly1 = c.children(1).children(1);\n",
"poly1.thickness = 3; \n",
"title('|ck|')\n",
"xlabel('k')"
   ]
   }
,
{
		   "cell_type": "markdown",
		   "metadata": {},
		   "source": [
			"## Example 3.18: Trignometric_Series.sce"
		   ]
		  },
  {
"cell_type": "code",
	   "execution_count": null,
	   "metadata": {
	    "collapsed": true
	   },
	   "outputs": [],
"source": [
"//Scilab Code for Example 3.18 of Signals and systems by\n",
"//P.Ramakrishna Rao\n",
"//A=%pi or 3.14\n",
"clear;\n",
"clc;\n",
"//Trignometric Fourier Coefficients\n",
"a(1)=integrate('sin(w)','w',0,%pi);\n",
"for n=1:8\n",
"a(2*n+1)=integrate('sin(w+2*n*w)','w',0,%pi)+integrate('sin(w-2*w*n)','w',0,%pi);\n",
"end\n",
"for n=0:8\n",
"b(n+1)=0;\n",
"end\n",
"disp(abs(a(1)),'an(a0)');\n",
"disp('an(a1-->a8)');\n",
"n=1:8;\n",
"disp(2*a(n+1));\n",
"disp('bn(b1-->b8)');\n",
"n=1:8;\n",
"disp(b(n));"
   ]
   }
],
"metadata": {
		  "kernelspec": {
		   "display_name": "Scilab",
		   "language": "scilab",
		   "name": "scilab"
		  },
		  "language_info": {
		   "file_extension": ".sce",
		   "help_links": [
			{
			 "text": "MetaKernel Magics",
			 "url": "https://github.com/calysto/metakernel/blob/master/metakernel/magics/README.md"
			}
		   ],
		   "mimetype": "text/x-octave",
		   "name": "scilab",
		   "version": "0.7.1"
		  }
		 },
		 "nbformat": 4,
		 "nbformat_minor": 0
}
