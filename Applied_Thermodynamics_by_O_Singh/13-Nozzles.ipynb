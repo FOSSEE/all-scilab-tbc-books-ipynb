{
"cells": [
 {
		   "cell_type": "markdown",
	   "metadata": {},
	   "source": [
       "# Chapter 13: Nozzles"
	   ]
	},
{
		   "cell_type": "markdown",
		   "metadata": {},
		   "source": [
			"## Example 13.01: Dryness_fraction.sce"
		   ]
		  },
  {
"cell_type": "code",
	   "execution_count": null,
	   "metadata": {
	    "collapsed": true
	   },
	   "outputs": [],
"source": [
"//pathname=get_absolute_file_path('13.01.sce')\n",
"//filename=pathname+filesep()+'13.01-data.sci'\n",
"//exec(filename)\n",
"//Pressure of dry steam(in bar):\n",
"p1=10\n",
"//Velocity of steam entering(in m/s):\n",
"C1=100\n",
"//Velocity of steam leaving the nozzle(in m/s):\n",
"C2=300\n",
"//Pressure of steam at exit(in bar):\n",
"p2=5\n",
"//Mass flow rate(in kg/s):\n",
"m=16\n",
"//Heat loss to surroundings(in kJ/kg):\n",
"q=10\n",
"//From steam tables:\n",
"h1=2778.1 //kJ/kg\n",
"hf=640.23 //kJ/kg\n",
"hfg=2108.5 //kJ/kg\n",
"//Heat drop in the nozzle(in kJ/kg):\n",
"dh=(q*10^3+(C1^2-C2^2)/2)/1000\n",
"//Total heat drop(in kJ/s):\n",
"dQ=-dh*m\n",
"//Enthalpy at state 2(in kJ/kg):\n",
"h2=h1+dh\n",
"//Dryness fraction at state 2:\n",
"x2=(h2-hf)/hfg\n",
"printf('\nRESULT\n')\n",
"printf('\nHeat drop in the nozzle = %f kJ/kg',-dh)\n",
"printf('\nTotal heat drop = %f kJ/s',dQ)\n",
"printf('\nDryness fraction at exit = %f',x2)"
   ]
   }
,
{
		   "cell_type": "markdown",
		   "metadata": {},
		   "source": [
			"## Example 13.02: Mass_flow_rate.sce"
		   ]
		  },
  {
"cell_type": "code",
	   "execution_count": null,
	   "metadata": {
	    "collapsed": true
	   },
	   "outputs": [],
"source": [
"//pathname=get_absolute_file_path('13.02.sce')\n",
"//filename=pathname+filesep()+'13.02-data.sci'\n",
"//exec(filename)\n",
"//Steam entering at pressure(in bar):\n",
"p1=10\n",
"//Pressure at which steam leaves(in bar):\n",
"p2=6\n",
"//Cross-section area of exit of nozzle(in cm^2):\n",
"A2=20\n",
"//From steam tables:\n",
"h1=3478.5 //kJ/kg\n",
"s1=7.7622 //kJ/kg.K\n",
"s2=s1\n",
"T2=418.45 //C(by interpolation)\n",
"h2=3309.51 //kJ/kg\n",
"v2=0.5281 //m^3/kg\n",
"//Velocity at exit(in m/s):\n",
"C2=sqrt(2*(h1-h2)*10^3)\n",
"//Mass flow rate(in kg/s):\n",
"m=A2*10^(-4)*C2/v2\n",
"printf('\nRESULT\n')\n",
"printf('\nMass flow rate= %f kg/s',m)"
   ]
   }
,
{
		   "cell_type": "markdown",
		   "metadata": {},
		   "source": [
			"## Example 13.03: Coefficient_of_velocity.sce"
		   ]
		  },
  {
"cell_type": "code",
	   "execution_count": null,
	   "metadata": {
	    "collapsed": true
	   },
	   "outputs": [],
"source": [
"//pathname=get_absolute_file_path('13.03.sce')\n",
"//filename=pathname+filesep()+'13.03-data.sci'\n",
"//exec(filename)\n",
"//Pressure of steam entering(in bar):\n",
"p1=12\n",
"//Pressure at exit(in bar):\n",
"p2=6\n",
"//Mass flow rate(in kg/s):\n",
"m1=5\n",
"m2=m1\n",
"m3=m1\n",
"//Exit velocity(in m/s):\n",
"C3a=500\n",
"//From steam tables:\n",
"h1=3045.8 //kJ/kg\n",
"h2=2900.05 //kJ/kg\n",
"s2=7.0317 //kJ/kg.K\n",
"s1=s2\n",
"s3=s2\n",
"v2=0.3466 //m^3/kg\n",
"h3=2882.55 //kJ/kg\n",
"v3=0.3647 //m^3/kg\n",
"//For superheated steam:\n",
"n=1.3\n",
"//Pressue at state 2(in bar):\n",
"p2=p1*(2/(n+1))^(n/(n-1))\n",
"//Velocity at throat(in m/s):\n",
"C2=sqrt(2*(h1-h2)*10^3)\n",
"//Cross-sectional area at throat(in m^2):\n",
"A2=m2*v2/C2\n",
"//Ideal velocity at exit(in m/s):\n",
"C3=sqrt(2*(h1-h3)*10^3)\n",
"//Cross-sectional area at exit(in m^2):    \n",
"A3=m3*v3/C3a\n",
"//Coefficient of velocity:\n",
"r=C3a/C3\n",
"printf('\nRESULT\n')\n",
"printf('\nCross-sectional area at throat = %f m^2',A2)\n",
"printf('\nCross-sectional area at exit = %f m^2',A3)\n",
"printf('\nCoefficient of velocity = %f',r)"
   ]
   }
,
{
		   "cell_type": "markdown",
		   "metadata": {},
		   "source": [
			"## Example 13.04: Area_at_exit.sce"
		   ]
		  },
  {
"cell_type": "code",
	   "execution_count": null,
	   "metadata": {
	    "collapsed": true
	   },
	   "outputs": [],
"source": [
"//pathname=get_absolute_file_path('13.04.sce')\n",
"//filename=pathname+filesep()+'13.04-data.sci'\n",
"//exec(filename)\n",
"//Pressure of steam entering(in bar):\n",
"p1=16\n",
"//Pressure at exit(in bar):\n",
"p3=5\n",
"//Mass flow rate(in kg/s):\n",
"m1=1\n",
"m2=m1\n",
"m3=m1\n",
"//From steam tables:\n",
"//For case 1:\n",
"h1=3034.8 //kJ/kg\n",
"s1=6.8844 //kJ/kg.K\n",
"v1=0.15862 //m^3/kg\n",
"n=1.3\n",
"h2=2891.39 //kJ/kg\n",
"h3=2777 //kJ/kg\n",
"v2=0.2559 //m^3/kg\n",
"v3=0.3882 //m^3/kg\n",
"//For case 2:\n",
"h2a=2905.73 //kJ/kg\n",
"v2a=0.2598 //m^3/kg\n",
"v3a=0.40023 //m^3/kg\n",
"//Pressure at the throat of nozzle(in bar):\n",
"p2=p1*(2/(n+1))^(n/(n-1))\n",
"//Heat drop up to throat section(in kJ/kg):\n",
"q12=h1-h2\n",
"//Velocity at throat(in m/s):\n",
"C2=sqrt(2*(h1-h2)*10^3)\n",
"//Heat drop from exit(in kJ/kg):\n",
"q23=h2-h3\n",
"//Velocity at exit(in m/s):\n",
"C3=sqrt(2*(h2-h3)*10^3+C2^2)\n",
"//Throat area(in m^2):\n",
"A2=m2*v2/C2\n",
"//Exit area(in m^2):\n",
"A3=m3*v3/C3\n",
"printf('\nRESULT\n')\n",
"printf('\nFor frictionless expansion')\n",
"printf('\nThroat area = %f cm^2',A2*(10^4))\n",
"printf('\nExit area = %f cm^2',A3*(10^4))\n",
"//Considering expansion to have 10% friction loss:\n",
"q12a=0.9*q12\n",
"//Actual velocity at throat(in m/s):\n",
"C2a=sqrt(2*q12a*10^3)\n",
"//Actual throat area(in m^2):\n",
"A2a=m2*v2a/C2a\n",
"//Actual drop at the exit of the nozzle(in kJ/kg):\n",
"q23a=0.9*q23\n",
"//Actual enthalpy at state 3(in kJ/kg):\n",
"h3a=h2a-q23a\n",
"//Actual velocity at exit(in m/s):\n",
"C3a=sqrt(2*q23a*10^3+C2a^2)\n",
"//Actual area at exit(in m^2):\n",
"A3a=m3*v3a/C3a\n",
"printf('\n\nConsidering friction')\n",
"printf('\nThroat area = %f cm^2',A2a*(10^4))\n",
"printf('\nExit area = %f cm^2',A3a*(10^4))"
   ]
   }
,
{
		   "cell_type": "markdown",
		   "metadata": {},
		   "source": [
			"## Example 13.05: Area_at_exit.sce"
		   ]
		  },
  {
"cell_type": "code",
	   "execution_count": null,
	   "metadata": {
	    "collapsed": true
	   },
	   "outputs": [],
"source": [
"//pathname=get_absolute_file_path('13.05.sce')\n",
"//filename=pathname+filesep()+'13.05-data.sci'\n",
"//exec(filename)\n",
"//Power of turbine(in MW):\n",
"P=1\n",
"//Pressure of steam entering(in bar):\n",
"p1=20\n",
"//Steam consumption rate(in kg/kW.h):\n",
"m=8\n",
"//Pressure at which steam leaves(in bar):\n",
"p3=0.2\n",
"//Throat diameter(in m):\n",
"d=0.01\n",
"//From Mollier diagram:\n",
"q12=142 //kJ/kg\n",
"v2=0.20 //m^3/kg\n",
"q13=807 //kJ/kg\n",
"v3=7.2 //m^3/kg\n",
"//Velocity at throat(in m/s):\n",
"C2=sqrt(2*q12*10^3)\n",
"//Mass flow rate:\n",
"m2=%pi*d^2/4*C2/v2\n",
"m3=m2\n",
"//Number of nozzles:\n",
"n=10^3*m/(3600*m2)\n",
"//Useful heat drop:\n",
"q13a=0.90*q13\n",
"//Velocity at exit(in m/s):\n",
"C3=sqrt(2*10^3*q13a)\n",
"//Area at exit(in m^2):\n",
"A3=m3*v3/C3\n",
"printf('\nRESULT\n')\n",
"printf('\nNumber of nozzles required = %d',n+1)\n",
"printf('\nArea at exit = %f cm^2',A3*10^4)"
   ]
   }
,
{
		   "cell_type": "markdown",
		   "metadata": {},
		   "source": [
			"## Example 13.06: Velocity_at_throat_and_cone_angle.sce"
		   ]
		  },
  {
"cell_type": "code",
	   "execution_count": null,
	   "metadata": {
	    "collapsed": true
	   },
	   "outputs": [],
"source": [
"//pathname=get_absolute_file_path('13.06.sce')\n",
"//filename=pathname+filesep()+'13.06-data.sci'\n",
"//exec(filename)\n",
"//Pressure at which steam is supplied(in MPa):\n",
"p1=0.7\n",
"//Length of diverging nozzle(in m):\n",
"l=0.06\n",
"//Throat diameter(in mm):\n",
"d=0.005\n",
"//Pressure at which steam leaves the nozzle(in MPa):\n",
"p3=0.1\n",
"//From Mollier diagram:\n",
"q12=138 //kJ/kg\n",
"v2=0.58 //m^3/kg\n",
"T=203 //C\n",
"q23=247 //kJ/kg\n",
"q23a=209.95 //kJ/kg\n",
"v3a=1.7 //m^3/kg\n",
"//Velocity at throat(in m/s):\n",
"C2=sqrt(2*q12*10^3)\n",
"//Mass flow rate(in kg/s):\n",
"m1=%pi*d^2/4*C2/v2\n",
"m2=m1\n",
"m3=m1\n",
"//Total heat drop(in kJ/kg):\n",
"q=q12+q23a\n",
"//Velocity at exit(in m/s):\n",
"C3=sqrt(2*10^3*q)\n",
"//Area at exit(in m^2):\n",
"A3=m3*v3a/C3\n",
"//Diameter at exit(in mm):\n",
"d1=(sqrt(A3*4/%pi))*10^3\n",
"a=atan((d1-d*10^3)/(2*60))*180/%pi\n",
"printf('\nRESULT\n')\n",
"printf('\nWith no losses, temperature at throat = %d C',T)\n",
"printf('\nVelocity at throat = %f m/s',C2)\n",
"printf('\nWith losses, cone angle = %f',2*a)"
   ]
   }
,
{
		   "cell_type": "markdown",
		   "metadata": {},
		   "source": [
			"## Example 13.07: Length_and_radial_height_of_nozzle.sce"
		   ]
		  },
  {
"cell_type": "code",
	   "execution_count": null,
	   "metadata": {
	    "collapsed": true
	   },
	   "outputs": [],
"source": [
"//pathname=get_absolute_file_path('13.07.sce')\n",
"//filename=pathname+filesep()+'13.07-data.sci'\n",
"//exec(filename)\n",
"//Power of the turbine(in hp):\n",
"P=5000\n",
"//Steam required(in kg of steam/hp-hr):\n",
"m=P*6/3600\n",
"//Efficiency of nozzle:\n",
"n=0.90\n",
"//Nozzle angle:\n",
"a=12\n",
"//Pitch(in cm):\n",
"p=5\n",
"//Thickness(in cm):\n",
"t=0.3\n",
"//From steam tables:\n",
"h1=2794 //kJ/kg\n",
"s1=6.4218 //kJ/kg.K\n",
"s2=s1\n",
"x2=0.9478\n",
"h2=2662.2 //kJ/kg\n",
"x2a=0.9542\n",
"v2a=0.2294 //m^3/kg\n",
"//Change in enthalpy(in kJ/kg):\n",
"h12=h1-h2\n",
"//Actual change(in kJ/kg):\n",
"h12a=n*h12\n",
"//Velocity at inlet(in m/s):\n",
"C2=sqrt(2*h12a*10^3)\n",
"//Area at exit of nozzle(in cm^2):\n",
"A2=m*v2a/C2*10^4\n",
"//Approximate length of the nozzle(in cm):\n",
"l=60*%pi/3\n",
"//Number of nozzles:\n",
"n=int(l/p)+1\n",
"//Correct length of nozzle arc:\n",
"l1=n*p\n",
"//Radial height of nozzle(in cm):\n",
"h=A2/((p*sin(a*%pi/180)-t)*n)\n",
"printf('\nRESULT\n')\n",
"printf('\nLength of nozzle = %d cm',l1)\n",
"printf('\nRadial height of nozzle = %f cm',h)"
   ]
   }
,
{
		   "cell_type": "markdown",
		   "metadata": {},
		   "source": [
			"## Example 13.08: Exit_velocity.sce"
		   ]
		  },
  {
"cell_type": "code",
	   "execution_count": null,
	   "metadata": {
	    "collapsed": true
	   },
	   "outputs": [],
"source": [
"//pathname=get_absolute_file_path('13.08.sce')\n",
"//filename=pathname+filesep()+'13.08-data.sci'\n",
"//exec(filename)\n",
"//Pressure at which steam enters(in bar):\n",
"p1=13\n",
"//Pressure at which steam leaves(in bar):\n",
"p2=6\n",
"//Temperature of steam entering(in K):\n",
"T1=150+273\n",
"//Adibatic insex of compression:\n",
"r=1.4\n",
"//Final temperature of steam(in K):\n",
"T2=T1*(p2/p1)^((r-1)/r)\n",
"//Exit velocity(in m/s):\n",
"C2=sqrt(2*1.005*(T1-T2))\n",
"printf('\nRESULT\n')\n",
"printf('\nExit velocity = %f m/s',C2)"
   ]
   }
,
{
		   "cell_type": "markdown",
		   "metadata": {},
		   "source": [
			"## Example 13.09: Nozzle_efficiency.sce"
		   ]
		  },
  {
"cell_type": "code",
	   "execution_count": null,
	   "metadata": {
	    "collapsed": true
	   },
	   "outputs": [],
"source": [
"//pathname=get_absolute_file_path('13.09.sce')\n",
"//filename=pathname+filesep()+'13.09-data.sci'\n",
"//exec(filename)\n",
"//Force on the plate(in N):\n",
"F=350\n",
"//Initial pressure(in bar):\n",
"p1=8\n",
"//Final pressure(in bar):\n",
"p3=1\n",
"//Throat cross-sectional area(in m^2):\n",
"A2=5*10^(-4)\n",
"//From steam tables:\n",
"h1=2769.1 //kJ/kg\n",
"s1=6.6628 //kJ/kg.K\n",
"s2=s1\n",
"s3=s1\n",
"x2=0.9717\n",
"h2=2685.17 //kJ/kg\n",
"v2=0.3932 //m^3/kg\n",
"x3=0.8238\n",
"h3=2277.6 //kJ/kg\n",
"//Enthalpy change(in kJ/kg):\n",
"h12=h1-h2\n",
"//Velocity at throat(in m/s):\n",
"C2=sqrt(2*h12*10^3)\n",
"//Discharge at throat(in kg/s):\n",
"m=A2*C2/v2\n",
"//Actual exit velocity(in m/s):\n",
"C3a=F/m\n",
"//Theoretical enthalpy drop(in kJ/kg):\n",
"h23=h2-h3\n",
"//Nozzle efficiency:\n",
"n=C3a^2/(2*h23*10^3)\n",
"printf('\nRESULT\n')\n",
"printf('\nDischarge at throat = %f kg/s',m)\n",
"printf('\nNozzle efficiency = %f percent',n*100)"
   ]
   }
,
{
		   "cell_type": "markdown",
		   "metadata": {},
		   "source": [
			"## Example 13.10: Degree_of_supersaturaion_and_amount_of_undercooling.sce"
		   ]
		  },
  {
"cell_type": "code",
	   "execution_count": null,
	   "metadata": {
	    "collapsed": true
	   },
	   "outputs": [],
"source": [
"//pathname=get_absolute_file_path('13.10.sce')\n",
"//filename=pathname+filesep()+'13.10-data.sci'\n",
"//exec(filename)\n",
"//Mass flow rate(in kg/s):\n",
"m=5/60\n",
"//Pressure at which steam is discharged(in bar):\n",
"p3=1\n",
"//Initial pressure(in bar):\n",
"p1=10\n",
"//Initial temperature(in K)\n",
"T1=200+273\n",
"//Adiabatic index of compression:\n",
"n=1.3\n",
"//From steam tables:\n",
"h1=2827.9 //kJ/kg\n",
"s1=6.6940 //kJ/kg.K\n",
"v1=0.2060 //m^3/kg\n",
"h2a=2711.23 //kJ/kg\n",
"s2a=6.6749 //kJ/kg.K\n",
"s3=s2a\n",
"h3=2420.08 //kJ/kg\n",
"v3=1.5025 //m^3/kg\n",
"psat=3.44 //bar (at T=138.18 C)\n",
"Tsat=155.12 //C (at p=5.45 bar)\n",
"//Pressure at throat(in bar):\n",
"p2=p1*(2/(n+1))^(n/(n-1))\n",
"//Velocity at exit(in m/s):\n",
"C3=sqrt(2*(h1-h3)*10^3)\n",
"//Exit area(in m^2):\n",
"A3=m*v3/C3\n",
"//Diameter of nozzle at exit(in m):\n",
"d=sqrt(A3*4/%pi)\n",
"//Temperature at throat(in K):\n",
"T2=T1*(p2/p1)^((n-1)/n)\n",
"//Degree of supersaturation:\n",
"d1=p2/psat\n",
"//Amount of undercooling(in C):\n",
"u=Tsat-(T2-273)\n",
"printf('\nRESULT\n')\n",
"printf('\nDegree of supersaturation = %f',d1)\n",
"printf('\nAmount of undercooling = %f C',u)"
   ]
   }
,
{
		   "cell_type": "markdown",
		   "metadata": {},
		   "source": [
			"## Example 13.11: Degree_of_undercooling.sce"
		   ]
		  },
  {
"cell_type": "code",
	   "execution_count": null,
	   "metadata": {
	    "collapsed": true
	   },
	   "outputs": [],
"source": [
"//pathname=get_absolute_file_path('13.11.sce')\n",
"//filename=pathname+filesep()+'13.11-data.sci'\n",
"//exec(filename)\n",
"//Initial pressure(in bar):\n",
"p1=4\n",
"//Initial temperature(in K):\n",
"T1=180+273\n",
"//Final pressure(in bar):\n",
"p2=1.5\n",
"//Index of compression:\n",
"n=1.3\n",
"//Efficiency due to heat loss:\n",
"nn=0.95\n",
"//Specific heat(in kJ/kg.K):\n",
"C=2.174\n",
"//From steam tables:\n",
"v1=0.5088 //m^3/kg\n",
"Tsat=111.37+273 //K (at p=1.5 bar)\n",
"//Enthalpy at state 1(in kJ/kg):\n",
"h1=p1*v1*10^2+2614\n",
"//Specific volume at state 2(in m^3/kg):\n",
"v2=v1*(p1/p2)^(1/n)\n",
"//Enthalpy at state 2(in kJ/kg):\n",
"h2=p2*v2*10^2+2614\n",
"//Actual heat drop(in kJ/kg):\n",
"dh=nn*(h1-h2)\n",
"printf('\nRESULT\n')\n",
"printf('\nActual heat drop = %f kJ/kg',dh)\n",
"//Temperature at state 2(in K):\n",
"T2=T1*(p2/p1)^((n-1)/n)\n",
"//Temperature rise due to supersaturation:\n",
"dT=(1-nn)*(h1-h2)/C\n",
"//Actual temperature at state 2(in K):\n",
"T2a=T2+dT\n",
"//Amount of undercooling(in C):\n",
"u=Tsat-T2a\n",
"printf('\nAmount of undercooling = %f C',u)"
   ]
   }
,
{
		   "cell_type": "markdown",
		   "metadata": {},
		   "source": [
			"## Example 13.12: Percentage_increase_in_discharge.sce"
		   ]
		  },
  {
"cell_type": "code",
	   "execution_count": null,
	   "metadata": {
	    "collapsed": true
	   },
	   "outputs": [],
"source": [
"//pathname=get_absolute_file_path('13.12.sce')\n",
"//filename=pathname+filesep()+'13.12-data.sci'\n",
"//exec(filename)\n",
"//Initial pressure(in bar):\n",
"p1=14\n",
"//Initial temperature(in K):\n",
"T1=400+273\n",
"//Number of nozzles:\n",
"N=16\n",
"//Final pressure(in bar):\n",
"p2=10\n",
"//Discharge(in kg/s):\n",
"m=5\n",
"//Nozzle efficiency:\n",
"nn=0.90\n",
"//Inlet velocity(in m/s):\n",
"C1=100\n",
"//Insex of compression:\n",
"n=1.3\n",
"//From steam tables:\n",
"h1=3257.5 //kJ/kg\n",
"s1=7.3026 //kJ/kg.K\n",
"T2=350.46 //C\n",
"h2=3158.7 //kJ/kg\n",
"v2=0.2827 //m^3/kg\n",
"//Actual enthalpy change(inn kJ/kg):\n",
"h12=(h1-h2)*nn\n",
"//Velocity at exit(in m/s):\n",
"C2=sqrt(2*h12*10^3)\n",
"//Cross-sectional area at exit(in cm^2):\n",
"A2=m*v2/(C2*N)*10^4\n",
"//Modified velocity at nozzle exit(in m/s):\n",
"C2a=sqrt(2*h12*10^3+C1^2)\n",
"//Discharge with modified velocity(in kg/s):\n",
"//ma=A2*C2a*N/v2*10^(-4)\n",
"ma=16*2.13*433.41*10^(-4)/0.2827\n",
"//% increase in discharge:\n",
"p=(ma-m)/m*100\n",
"printf('\nRESULT\n')\n",
"printf('\nCross-sectional area at exit of nozzle = %f cm^2',A2)\n",
"printf('\nPercentage increase in discharge = %f percent',p)"
   ]
   }
,
{
		   "cell_type": "markdown",
		   "metadata": {},
		   "source": [
			"## Example 13.13: Entropy_change.sce"
		   ]
		  },
  {
"cell_type": "code",
	   "execution_count": null,
	   "metadata": {
	    "collapsed": true
	   },
	   "outputs": [],
"source": [
"//pathname=get_absolute_file_path('13.13.sce')\n",
"//filename=pathname+filesep()+'13.13-data.sci'\n",
"//exec(filename)\n",
"//Initial pressure(in bar):\n",
"p1=20\n",
"//Final pressure(in bar):\n",
"p3=5\n",
"n=1.3\n",
"//From steam tables:\n",
"T1=212.42+273 //K\n",
"Tsat=186.43+273 //K (at 11.6 bar)\n",
"psat=5.452 //bar (at 155.14 C)\n",
"h1=2799.5 //kJ/kg\n",
"v1=0.009963 //m^3/kg\n",
"s1=6.3409 //kJ/kg.K\n",
"s2aa=s1\n",
"h2aa=2693.98 //kJ/kg\n",
"s2a=6.5484 //kJ/kg.K\n",
"s3a=s2a\n",
"h3a=2632.76 //kJ/kg\n",
"s3=s1\n",
"h3=2544.21 //kJ/kg\n",
"//Pressure at throat(in bar):\n",
"p2=p1*0.58\n",
"//Temperature at state 2(in K):\n",
"T2=T1*(p2/p1)^((n-1)/n)\n",
"//Degree of supersaturation:\n",
"d=p2/psat\n",
"//Degree of undercooling:\n",
"d1=Tsat-T2\n",
"printf('\nRESULT\n')\n",
"printf('\nDegree of supersaturation = %f',d)\n",
"printf('\nDegree of undercooling = %f',d1)\n",
"//Isentropic enthalpy drop:\n",
"h12=(n/(n-1))*p1*10^2*v1*(1-(T2/T1))\n",
"//Enthalpy at state 2(in kJ/kg):\n",
"h2=h1-h12\n",
"//Heat drop with no saturation(in kJ/kg):\n",
"h12aa=h1-h2aa\n",
"//Loss of available heat drop(in kJ/kg):\n",
"L=h12aa-h12\n",
"//Increase in entropy(in kJ/kg.K):\n",
"s12a=L/Tsat\n",
"//Loss due to undercooling(in kJ/kg):\n",
"L1=h3a-h3\n",
"//Percentage loss:\n",
"p=L1/(h1-h3)*100\n",
"printf('\n\nEntropy change = %f kJ/kg.K',s12a)\n",
"printf('\nLoss due to undercooling = %f kJ/kg',L1)\n",
"printf('\nPercentage loss = %f percent',p)"
   ]
   }
,
{
		   "cell_type": "markdown",
		   "metadata": {},
		   "source": [
			"## Example 13.14: Temperature_of_water_coming_out_of_injector.sce"
		   ]
		  },
  {
"cell_type": "code",
	   "execution_count": null,
	   "metadata": {
	    "collapsed": true
	   },
	   "outputs": [],
"source": [
"//pathname=get_absolute_file_path('13.14.sce')\n",
"//filename=pathname+filesep()+'13.14-data.sci'\n",
"//exec(filename)\n",
"//Mass flow rate(in kg/s):\n",
"m1=150/60\n",
"//Height of water level from the axis of injector(in m):\n",
"H=5\n",
"//Pressuer at which steam is injected(in bar):\n",
"p4=20\n",
"//Water level in boiler from the injector(in m):\n",
"Z4=0.8\n",
"//Dryness fraction at state 1:\n",
"x1=0.95\n",
"//Velocity in delivery pipe(in m/s):\n",
"C4=20\n",
"//Atmospheric pressure(in bar):\n",
"p3=1.013\n",
"//Density(in kg/m^3):\n",
"d=10^3\n",
"//Acceleration due to gravity(in m/s^2):\n",
"g=9.81\n",
"//Specific heat of steam(in kJ/kg.K):\n",
"Cps=3.18\n",
"//Specific heat of water(in kJ/kg.K):\n",
"Cpw=4.18\n",
"//From steam tables:\n",
"T1=212.42 //C \n",
"Tw=25 //C\n",
"p2=0.7*p4\n",
"h1=2704.95 //kJ/kg\n",
"hfg1=1890.7 //kJ/kg\n",
"s1=6.1462 //kJ/kg.K\n",
"s2=s1\n",
"x2=0.923\n",
"h2=2639.10 //kJ/kg\n",
"v2=0.13 //m^3/kg\n",
"//Velocity of steam at throat(in m/s):\n",
"C2=sqrt(2*(h1-h2)*10^3)\n",
"//Velocity at state 3(in m/s):\n",
"C3=sqrt(2*(g*Z4+p4*10^5/d+C4^2/2-p3*10^5/d))\n",
"//Mass of water pumped per kg of steam(in kg):\n",
"m=(C2-C3)/(sqrt(2*g*H)+C3)\n",
"printf('\nRESULT\n')\n",
"printf('\nMass of water pumped per kg of steam = %f kg',m)\n",
"//Mass of mixture passing through state 3(in kg/s):\n",
"m3=m1+m1/m\n",
"//Area of throat of mixing nozzle(in cm^2):\n",
"A3=m3/(d*C3)*10^4\n",
"//Diameter of throat of the mixing nozzle(in cm):\n",
"d3=sqrt(A3*4/%pi)\n",
"printf('\nDiameter of throat of the mixing nozzle = %f cm',d3)\n",
"//Mass of steam required for given flow rate(in kg/s):\n",
"ms=m1/m\n",
"//Area at state 2(in cm^2):\n",
"A2=ms*v2/C2*10^4\n",
"//Diameter of throat of steam nozzle(in cm):\n",
"d2=sqrt(A2*4/%pi)\n",
"printf('\nDiameter of throat of steam nozzle = %f cm',d2)\n",
"//Temperature of water coming out of the injector(in C):\n",
"T3=(x1*hfg1+Cps*T1+m*Cpw*Tw)/(m*Cpw+Cps)\n",
"printf('\nTemperature of water coming out of the injector = %f C',T3)"
   ]
   }
,
{
		   "cell_type": "markdown",
		   "metadata": {},
		   "source": [
			"## Example 13.15: Mass_flow_rate.sce"
		   ]
		  },
  {
"cell_type": "code",
	   "execution_count": null,
	   "metadata": {
	    "collapsed": true
	   },
	   "outputs": [],
"source": [
"//pathname=get_absolute_file_path('13.15.sce')\n",
"//filename=pathname+filesep()+'13.15-data.sci'\n",
"//exec(filename)\n",
"//Pressure at which steam is generated(in bar):\n",
"p4=20\n",
"//Pressure at inlet(in bar):\n",
"p1=1.5\n",
"//Dryness fraction:\n",
"x1=0.9\n",
"//Mass of water taken from feed water tank(in kg/hr):\n",
"M=5000\n",
"//Density(in kg/m^3):\n",
"d=10^3\n",
"//From steam tables:\n",
"h1=2470.96 //kJ/kg\n",
"s1=6.6443 //kJ/kg.K\n",
"s2=s1\n",
"x2=0.88\n",
"h2=2396.72 //kJ/kg\n",
"v2=1.7302 //m^3/kg\n",
"//Steam velocity(in m/s):\n",
"C2=sqrt(2*(h1-h2)*10^3)\n",
"//Velocity at 3(in m/s):\n",
"C3=sqrt(1.2*p4*2*10^5/d)\n",
"//Mass entrained per kg of steam:\n",
"m=C2/C3-1\n",
"//Mass of steam supplied per second(in kg/s):\n",
"ms=M/(3600*m)\n",
"//Area of steam nozzle(in cm^2):\n",
"A2=ms*v2/C2*10^4\n",
"//Total discharge from injector(in kg/s):\n",
"D=M/3600+ms\n",
"//Area of discharge orifice(in cm^2):\n",
"A=D/(C3*d)*10^4\n",
"printf('\nRESULT\n')\n",
"printf('\nMass of water pumped per kg of steam = %f kg water/kg of steam',m)\n",
"printf('\nArea of steam nozzle = %f cm^2',A2)\n",
"printf('\nArea of discharge orifice = %f cm^2',A)"
   ]
   }
],
"metadata": {
		  "kernelspec": {
		   "display_name": "Scilab",
		   "language": "scilab",
		   "name": "scilab"
		  },
		  "language_info": {
		   "file_extension": ".sce",
		   "help_links": [
			{
			 "text": "MetaKernel Magics",
			 "url": "https://github.com/calysto/metakernel/blob/master/metakernel/magics/README.md"
			}
		   ],
		   "mimetype": "text/x-octave",
		   "name": "scilab",
		   "version": "0.7.1"
		  }
		 },
		 "nbformat": 4,
		 "nbformat_minor": 0
}
