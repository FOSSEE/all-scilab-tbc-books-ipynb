{
"cells": [
 {
		   "cell_type": "markdown",
	   "metadata": {},
	   "source": [
       "# Chapter 11: Boilers and boiler calculations"
	   ]
	},
{
		   "cell_type": "markdown",
		   "metadata": {},
		   "source": [
			"## Example 11.01: To_determine_temperature_of_burnt_gases.sce"
		   ]
		  },
  {
"cell_type": "code",
	   "execution_count": null,
	   "metadata": {
	    "collapsed": true
	   },
	   "outputs": [],
"source": [
"//pathname=get_absolute_file_path('11.01.sce')\n",
"//filename=pathname+filesep()+'11.01-data.sci'\n",
"//exec(filename)\n",
"//Height of chimney(in m):\n",
"H=30\n",
"//Ambient air temperature(in K):\n",
"Ta=27+273\n",
"//Mass per kg of fuel required for complete combustion(in kg):\n",
"m=20\n",
"//Height in the water column(in mm):\n",
"hw=12\n",
"//Temperature of burnt gases(in K):\n",
"Tg=(Ta*353*H)/(353*H-hw*Ta)*(m)/(m+1)\n",
"printf('\n RESULT \n')\n",
"printf('\nTemperature of the burnt gases = %f K',Tg)"
   ]
   }
,
{
		   "cell_type": "markdown",
		   "metadata": {},
		   "source": [
			"## Example 11.02: To_determine_height_of_the_chimney.sce"
		   ]
		  },
  {
"cell_type": "code",
	   "execution_count": null,
	   "metadata": {
	    "collapsed": true
	   },
	   "outputs": [],
"source": [
"//pathname=get_absolute_file_path('11.02.sce')\n",
"//filename=pathname+filesep()+'11.02-data.sci'\n",
"//exec(filename)\n",
"//Mass per kg of fuel required for complete combustion(in kg):\n",
"m=18\n",
"//Height in the water column(in mm):\n",
"hw=20\n",
"//Ambient air temperature(in K):\n",
"Ta=27+273\n",
"//Temperature of burnt gases(in K):\n",
"Tg=300+273\n",
"//Height of chimney(in m):\n",
"H=hw/(353*(1/Ta-(m+1)/(m*Tg)))\n",
"printf('\n RESULT \n')\n",
"printf('\nHeight of chimney = %f m',H)"
   ]
   }
,
{
		   "cell_type": "markdown",
		   "metadata": {},
		   "source": [
			"## Example 11.03: To_determine_the_air_supplied_and_draught.sce"
		   ]
		  },
  {
"cell_type": "code",
	   "execution_count": null,
	   "metadata": {
	    "collapsed": true
	   },
	   "outputs": [],
"source": [
"//pathname=get_absolute_file_path('11.03.sce')\n",
"//filename=pathname+filesep()+'11.03-data.sci'\n",
"//exec(filename)\n",
"//Height of chimney(in m):\n",
"H=20\n",
"//Temperature of burnt gases(in K):\n",
"Tg=380+273\n",
"//Ambient air temperature(in K):\n",
"Ta=27+273\n",
"//Air supplied(in kg air per fuel):\n",
"m=2*Ta/(Tg-2*Ta)\n",
"printf('\n RESULT \n')\n",
"printf('\nAir supplied = %f kg/kg of fuel',m)\n",
"//Draught in water column(in mm):\n",
"hw=353*H*(1/Ta-(m+1)/(m*Tg))\n",
"printf('\nDraught = %f mm of water',hw)"
   ]
   }
,
{
		   "cell_type": "markdown",
		   "metadata": {},
		   "source": [
			"## Example 11.04: To_determine_the_draught_and_chimney_efficiency.sce"
		   ]
		  },
  {
"cell_type": "code",
	   "execution_count": null,
	   "metadata": {
	    "collapsed": true
	   },
	   "outputs": [],
"source": [
"//pathname=get_absolute_file_path('11.04.sce')\n",
"//filename=pathname+filesep()+'11.04-data.sci'\n",
"//exec(filename)\n",
"//Height of chimney(in m):\n",
"H=60\n",
"//Ambient air temperature(in K):\n",
"Ta=17+273\n",
"//Temperature of burnt gases(in K):\n",
"Tg=300+273\n",
"//Temperature of the artificial burnt gases(in K):\n",
"Tga=150+273\n",
"//Mass per kg of fuel required for complete combustion(in kg):\n",
"m=19\n",
"//Specific heat of hot gases(in kJ/kg.K):\n",
"Cpg=1.0032\n",
"//Calorific value of burnt fuel(in kJ/kg):\n",
"c=32604\n",
"//Draught (in mm of water column):\n",
"hw=353*H*(1/Ta-(m+1)/(m*Tg))\n",
"//Chimney efficiency:\n",
"n=9.81*H*(m/(m+1)*Tg/Ta-1)/(Cpg*(Tg-Tga)*10^3)*100\n",
"//Extra heat carried away by flue gases(in kJ):\n",
"Q=(m+1)*Cpg*(Tg-Tga)\n",
"printf('\n RESULT \n')\n",
"printf('\nDraught = %f mm of water',hw)\n",
"printf('\nChimney efficiency = %f percent',n)\n",
"printf('\nExtra heat carried away by flue gases per kg of fuel burnt = %f kJ',Q)"
   ]
   }
,
{
		   "cell_type": "markdown",
		   "metadata": {},
		   "source": [
			"## Example 11.05: To_determine_the_draught_and_chimney_efficiency.sce"
		   ]
		  },
  {
"cell_type": "code",
	   "execution_count": null,
	   "metadata": {
	    "collapsed": true
	   },
	   "outputs": [],
"source": [
"//pathname=get_absolute_file_path('11.05.sce')\n",
"//filename=pathname+filesep()+'11.05-data.sci'\n",
"//exec(filename)\n",
"//Height of chimney(in m):\n",
"H=80\n",
"//Ambient air temperature(in K):\n",
"Ta=27+273\n",
"//Mass per kg of fuel required for complete combustion(in kg):\n",
"m=20\n",
"//Temperature of the artificial burnt gases(in K):\n",
"Tga=110+273\n",
"//Specific heat of hot gases(in kJ/kg.K):\n",
"Cpg=1.0032\n",
"//Temperature of burnt gases(in K):\n",
"Tg=Ta*2*(m+1)/m\n",
"//Draught in water column(in mm):\n",
"hw=353*H*(1/Ta-(m+1)/(m*Tg))\n",
"//Chimney efficiency:\n",
"n=9.81*H*(m/(m+1)*Tg/Ta-1)/(Cpg*(Tg-Tga)*10^3)*100\n",
"printf('\n RESULT \n')\n",
"printf('\nHot gas temperature in chimney = %d K',Tg)\n",
"printf('\nNatural draught = %f mm of water',hw)\n",
"printf('\nChimney efficiency = %f percent',n)"
   ]
   }
,
{
		   "cell_type": "markdown",
		   "metadata": {},
		   "source": [
			"## Example 11.06: To_determine_height_and_diamter_of_the_chimney.sce"
		   ]
		  },
  {
"cell_type": "code",
	   "execution_count": null,
	   "metadata": {
	    "collapsed": true
	   },
	   "outputs": [],
"source": [
"//pathname=get_absolute_file_path('11.06.sce')\n",
"//filename=pathname+filesep()+'11.06-data.sci'\n",
"//exec(filename)\n",
"//Rate at which coal is burnt(in kg/hr):\n",
"R=2.5*10^3\n",
"//Mass per kg of fuel required for complete combustion(in kg):\n",
"m=20\n",
"//Temperature of burnt gases(in K):\n",
"Tg=327+273\n",
"//Ambient air temperature(in K):\n",
"Ta=27+273\n",
"//Pressure head(in mm):\n",
"h=7+6+3+2\n",
"//Ratio of actual natural draught to theoretical draught:\n",
"na=0.90\n",
"//Acceleration due to gravity(in m/s^2):\n",
"g=9.81\n",
"//Actual natural draught(in mm of water):\n",
"hw=h/na\n",
"//Height of chimney(in m):\n",
"H=hw/(353*(1/Ta-(m+1)/(m*Tg)))\n",
"//Density of hot gases(in kg/m^3):\n",
"dg=353/Tg*(m+1)/m\n",
"//Height of hot gases column(in m):\n",
"hg=H*((m+1)/m*Tg/Ta-1)\n",
"//Mass flow rate of hot gases(in kg/s):\n",
"Mg=R*hw/3600\n",
"//Velocity of got gases(in m/s):\n",
"C=sqrt(2*g*hg)\n",
"//Diameter of chimney(in m):\n",
"D=sqrt((4*Mg)/(%pi*C*dg))\n",
"printf('\n RESULT \n')\n",
"printf('\nDiameter of chimney = %f m',D)"
   ]
   }
,
{
		   "cell_type": "markdown",
		   "metadata": {},
		   "source": [
			"## Example 11.07: To_determine_power_of_the_fan.sce"
		   ]
		  },
  {
"cell_type": "code",
	   "execution_count": null,
	   "metadata": {
	    "collapsed": true
	   },
	   "outputs": [],
"source": [
"//pathname=get_absolute_file_path('11.07.sce')\n",
"//filename=pathname+filesep()+'11.07-data.sci'\n",
"//exec(filename)\n",
"//Draught in water column(in mm):\n",
"hw=50\n",
"//Temperature of burnt gases(in K):\n",
"T=300+273\n",
"//Rate at which coal is burnt(in kg/s):\n",
"M=2000/3600\n",
"//Mass per kg of fuel required for complete combustion(in kg):\n",
"m=19\n",
"//Ambient air temperature(in K):\n",
"T1=27+273\n",
"//Zero temperature(in K):\n",
"T0=273\n",
"//Mechanical efficiency:\n",
"n=0.90\n",
"//Pressure applied by the draught water(in N/m^2):\n",
"P=hw*9.81\n",
"//Density of hot gases(in kg/m^3):\n",
"d=1.293\n",
"//Power required in FD fan(kW):\n",
"PFD=P*m*M*T1/(d*T0*n*1000)\n",
"//Power required in 1D fan(kW):\n",
"P1D=P*m*M*T/(d*T0*n*1000)\n",
"printf('\n RESULT \n')\n",
"printf('\nPower for FD fan = %f kW',PFD)\n",
"printf('\nPower for 1D fan = %f kW',P1D)"
   ]
   }
,
{
		   "cell_type": "markdown",
		   "metadata": {},
		   "source": [
			"## Example 11.08: To_determine_the_ratio_of_power_required.sce"
		   ]
		  },
  {
"cell_type": "code",
	   "execution_count": null,
	   "metadata": {
	    "collapsed": true
	   },
	   "outputs": [],
"source": [
"//pathname=get_absolute_file_path('11.08.sce')\n",
"//filename=pathname+filesep()+'11.08-data.sci'\n",
"//exec(filename)\n",
"//Specific heat of hot gases(in kJ/kg.K):\n",
"Cpg=1.0032\n",
"//Temperature of burnt gases(in K):\n",
"Tg=177+273\n",
"//Ambient air temperature(in K):\n",
"Ta=27+273\n",
"//Natural draught temperature(in K):\n",
"Tn=327+273\n",
"//Mass per kg of fuel required for natural draught(in kg):\n",
"mn=25\n",
"//Mass per kg of fuel required for artificial draught(in kg):\n",
"ma=20\n",
"//Ratio of brake power for induced draught to forced draught:\n",
"r=Tg/Ta\n",
"//Heat carried by hot flue gases in artificial draught(in per kg of fuel burnt):\n",
"Qgad=(ma+1)*Cpg*(Tg-Ta)\n",
"//Heat carried by hot flue gases in natural draught(in per kg of fuel burnt):\n",
"Qgnd=(mn+1)*Cpg*(Tn-Ta)\n",
"//Ratio of heat carried away:\n",
"rh=Qgad/Qgnd\n",
"printf('\n RESULT \n')\n",
"printf('\nRatio of power required = %f',r)\n",
"printf('\nRatio of heat carried away = %f',rh)"
   ]
   }
,
{
		   "cell_type": "markdown",
		   "metadata": {},
		   "source": [
			"## Example 11.09: To_determine_amount_of_evaporation.sce"
		   ]
		  },
  {
"cell_type": "code",
	   "execution_count": null,
	   "metadata": {
	    "collapsed": true
	   },
	   "outputs": [],
"source": [
"//pathname=get_absolute_file_path('11.09.sce')\n",
"//filename=pathname+filesep()+'11.09-data.sci'\n",
"//exec(filename)\n",
"//Feed water supply temperature(in K):\n",
"T=27+273\n",
"//Mean steam generation pressure(in bar):\n",
"P=10\n",
"//Dryness fravtion of steam generated:\n",
"x=0.95\n",
"//Feed water supplied(in kg/hr):\n",
"Q=2500\n",
"//Coal burnt(in kg/hr):\n",
"Q1=275\n",
"//Difference in mass of water after trial:\n",
"d=300\n",
"//From steam tables:\n",
"hf=762.81 //kJ/kg\n",
"hg=2778.1 //kJ/kg\n",
"hfg=2015.29 //kJ/kg\n",
"//Enthalpy of steam generated(in kJ/kg):\n",
"h=hf+x*hfg\n",
"//Mass of water evaporator per hour(in kg/hr):\n",
"mw=Q+d\n",
"//Actual evaporation(in per kg of coal):\n",
"Ae=mw/Q1\n",
"//Equivalent evaporation(in kg per kg of coal):\n",
"Ee=Ae*h/2257\n",
"printf('\n RESULT \n')\n",
"printf('\nActual evaporation = %f kg per kg of coal',Ae)\n",
"printf('\nEquivalent evaporation = %f kg per kg of coal',Ee)"
   ]
   }
,
{
		   "cell_type": "markdown",
		   "metadata": {},
		   "source": [
			"## Example 11.10: To_determine_amount_of_evaporation.sce"
		   ]
		  },
  {
"cell_type": "code",
	   "execution_count": null,
	   "metadata": {
	    "collapsed": true
	   },
	   "outputs": [],
"source": [
"//pathname=get_absolute_file_path('11.10.sce')\n",
"//filename=pathname+filesep()+'11.10-data.sci'\n",
"//exec(filename)\n",
"//Average pressure of the steam(in bar):\n",
"p=10\n",
"//Weight of water consumed(in ton):\n",
"Ww=15\n",
"//Weight of coal produced(in ton):\n",
"Wc=1.5\n",
"//Percentage coal that caan be burnt:\n",
"n=1-0.03-0.04\n",
"//Composition of moisture in coal:\n",
"nm=0.03\n",
"//Temperature of feed water(in C):\n",
"Tf=35\n",
"//From steam tables:\n",
"hg=2778.1 //kJ/kg\n",
"//Enthalpy of steam generated(in kJ/kg):\n",
"h=hg-4.18*Tf\n",
"//Steam generated per kg of coal(in kg):\n",
"m=Ww/Wc\n",
"//Boiler efficiency:\n",
"nb=m*h/(30.1*10^3)*100\n",
"//Equivalent evaporation per kg of dry coal(in kg:\n",
"Ee=m*h/(2257*(1-nm))\n",
"//Equivalent evaporation per kg of combustible present in coal(in kg):\n",
"Eea=Ee*(1-nm)/n\n",
"printf('\n RESULT \n')\n",
"printf('\nBoiler efficiency = %f percent',nb)\n",
"printf('\nEquivalent evaporation per kg of dry coal = %f kg',Ee)\n",
"printf('\nEquivalent evaporation per kg of combustible present in coal = %f kg',Eea)"
   ]
   }
,
{
		   "cell_type": "markdown",
		   "metadata": {},
		   "source": [
			"## Example 11.11: To_determine_boiler_efficiency.sce"
		   ]
		  },
  {
"cell_type": "code",
	   "execution_count": null,
	   "metadata": {
	    "collapsed": true
	   },
	   "outputs": [],
"source": [
"//pathname=get_absolute_file_path('11.11.sce')\n",
"//filename=pathname+filesep()+'11.11-data.sci'\n",
"//exec(filename)\n",
"//Time of trial(in hrs):\n",
"t=24\n",
"//Pressure at which steam is generated(in bar):\n",
"p=16\n",
"//Coal consumed(in kg):\n",
"c=10000\n",
"//Rate of steam generation(in kg/hr):\n",
"r=2500\n",
"//Feed water temperature(in C):\n",
"Tf=27\n",
"//Total heating surface area(in m^2):\n",
"hsa=3000\n",
"//Total grate area(in m^2):\n",
"ga=4\n",
"//Calorific value of coal(in kJ/kg):\n",
"C=28000\n",
"//From steam tables:\n",
"hg=2794 //kJ/kg\n",
"//Latent heat at 100 C:\n",
"L=2257\n",
"//Coal  burnt per hour(in kg/hr):\n",
"m=c/t\n",
"//Coal burnt per m^2 of grate per hour:\n",
"mg=m/ga\n",
"//Rate of steam generated per kg of coal(in kg steam/kg coal):\n",
"r1=r/m\n",
"//Heat added to steam per kg of coal(in kJ):\n",
"Q=r1*(hg-4.18*Tf)\n",
"//Equivalent evaporation from and at 100 C per kg of coal(in kg):\n",
"Ee=Q/L\n",
"//Equivalent evaporation from and at 100 C per m^2 of total surface per hour(in kg):\n",
"Eepm=Ee*m/hsa\n",
"//Boiler efficiency:\n",
"n=Ee*L/C*100\n",
"printf('\n RESULT \n')\n",
"printf('\nMass of coal burnt per m^2 of grate per hour = %f kg',mg)\n",
"printf('\nEquivalent evaporation from and at 100 C per kg of coal = %f kg',Ee)\n",
"printf('\nEquivalent evaporation from and at 100 C per m^2 of total surface per hour = %f',Eepm)\n",
"printf('\nBoiler efficiency = %f percent',n)"
   ]
   }
,
{
		   "cell_type": "markdown",
		   "metadata": {},
		   "source": [
			"## Example 11.12: Boiler_efficiency.sce"
		   ]
		  },
  {
"cell_type": "code",
	   "execution_count": null,
	   "metadata": {
	    "collapsed": true
	   },
	   "outputs": [],
"source": [
"//pathname=get_absolute_file_path('11.12.sce')\n",
"//filename=pathname+filesep()+'11.12-data.sci'\n",
"//exec(filename)\n",
"//Pressure at which steam is generated(in bar):\n",
"p=30\n",
"//Temperature of steam(in C):\n",
"Ts=300\n",
"//Rate at which feed water enters(in kg/s):\n",
"r=11\n",
"//Temperature at which feed water enters the economiser(in C):\n",
"T1=100\n",
"//Mass of fuel used(in kg):\n",
"m=5000\n",
"//Calorific value of fuel(in kJ/kg.K):\n",
"C=35000\n",
"//Temperature of feed water(in C):\n",
"T=27\n",
"//From steam tables:\n",
"hg=2993.5\n",
"//Latent heat at 100 C:\n",
"L=2257\n",
"//Mass of steam genrated per kg of fuel(in kg/kg fuel):\n",
"ms=r*3600/m\n",
"//Heat added per kg of fuel(in kJ):\n",
"Q=hg-4.18*T\n",
"//Equivalent evaporation from and at 100 C per kg of coal(in kg):\n",
"Ee=ms*Q/L\n",
"//Boiler efficiency:\n",
"n=Ee*L/C*100\n",
"//Heat utilised in economiser per kg of fuel(in kJ):\n",
"Q1=ms*4.18*(T1-T)\n",
"//Percentage of energy utilised in economiser:\n",
"P=Q1/C*100\n",
"printf('\n RESULT \n')\n",
"printf('\nEquivalent evaporation per kg of fuel = %f kg',Ee)\n",
"printf('\nBoiler efficiency = %f percent',n)\n",
"printf('\nPercentage of energy utilised in economiser = %f percent',P)"
   ]
   }
,
{
		   "cell_type": "markdown",
		   "metadata": {},
		   "source": [
			"## Example 11.13: Boiler_efficiency.sce"
		   ]
		  },
  {
"cell_type": "code",
	   "execution_count": null,
	   "metadata": {
	    "collapsed": true
	   },
	   "outputs": [],
"source": [
"//pathname=get_absolute_file_path('11.13.sce')\n",
"//filename=pathname+filesep()+'11.13-data.sci'\n",
"//exec(filename)\n",
"//Mass of steam genrated per kg of fuel:\n",
"m=8\n",
"//Temperature of steam(in C):\n",
"Ts=400\n",
"//Pressure of feed water(in bar):\n",
"p=30\n",
"//Temperature of feed water(in C):\n",
"T=40\n",
"//Temperature at which feed water leaves the economiser(in C):\n",
"T1=150\n",
"//Dryness fraction:\n",
"x=0.98\n",
"//Calorific value(in kJ/kg.K):\n",
"C=29000\n",
"//From steam tables:\n",
"//Enthalpy of steam generated(in kJ/kg):\n",
"h=3230.9\n",
"hf=1008.42 //kJ/kg\n",
"hfg=1795.78 //kJ/kg\n",
"//Heat to be added(in kJ):\n",
"Q=h-4.18*T\n",
"//Boiler efficiency:\n",
"n=m*Q/C*100\n",
"//Heat added in economiser per kg of steam generated(in kJ/kg):\n",
"Q1=4.18*(T1-T)\n",
"//Percentage fraction of heat in economiser:\n",
"r1=Q1/Q*100\n",
"//Heat added in evaporator per kg of steam generated(in kJ/kg):\n",
"Q2=(hf+x*hfg)-4.18*T1\n",
"//Percentage fraction of heat in economiser:\n",
"r2=Q2/Q*100\n",
"//Heat added in super heater per kg of steam generated by difference(in kJ/kg):\n",
"Q3=Q-Q1-Q2\n",
"//Percentage fraction of heat in economiser:\n",
"r3=Q3/Q*100\n",
"printf('\n RESULT \n')\n",
"printf('\nBoiler efficiency = %f percent',n)\n",
"printf('\nPercentage fraction of heat in economiser = %f percent',r1)\n",
"printf('\nPercentage fraction of heat in evaporator = %f percent',r2)\n",
"printf('\nPercentage fraction of heat in superheater = %f percent',r3)"
   ]
   }
,
{
		   "cell_type": "markdown",
		   "metadata": {},
		   "source": [
			"## Example 11.14: Air_leakage.sce"
		   ]
		  },
  {
"cell_type": "code",
	   "execution_count": null,
	   "metadata": {
	    "collapsed": true
	   },
	   "outputs": [],
"source": [
"//pathname=get_absolute_file_path('11.14.sce')\n",
"//filename=pathname+filesep()+'11.14-data.sci'\n",
"//exec(filename)\n",
"//Temperature at which feed water enters and leaves the economiser(in C):\n",
"T1=20\n",
"T2=125\n",
"//Rate at which feed water leaves the economiser(in kg/s):\n",
"r=3\n",
"//Temperature of flue gases at inlet and outlet of economiser(in C):\n",
"T3=425\n",
"T4=300\n",
"//Rate at which coal is supplied(in kg/min):\n",
"r1=18\n",
"//% of C in coal:\n",
"nc=0.80\n",
"//Specific heat of flue gases(in kJ/kg.K):\n",
"Cpg=1.05\n",
"//Atmospheric temperature(in C):\n",
"Ta=15\n",
"//From table:\n",
"//Mass of dry flue gases at inlet and exit of economiser(in kg):\n",
"m1=23.65\n",
"m2=24.78\n",
"//Air leakage in economiser per kg of coal:\n",
"A=m2-m1\n",
"//Heat entering economiser with flue gases and leakage(in kJ):\n",
"Q1=m1*Cpg*T3+A*Cpg*Ta\n",
"//Heat entering economiser with flue gases and leakage(in kJ):\n",
"Q2=m2*Cpg*T4\n",
"//Heat lost in economiser per kg of coal(in kJ):\n",
"Q=Q1-Q2\n",
"//Heat picked up by feed water in economiser per kg of coal(in kJ):\n",
"Q3=(r*60/r1)*4.18*(T2-T1)\n",
"printf('\n RESULT \n')\n",
"printf('\nHeat released by the flue gases = %f kJ per kg of coal',Q)\n",
"printf('\nAir leakage = %f kg per kg of coal',A)\n",
"printf('\nHeat gained by feed water = %d kJ per kg of coal',Q3)"
   ]
   }
,
{
		   "cell_type": "markdown",
		   "metadata": {},
		   "source": [
			"## Example 11.15: Boiler_efficiency.sce"
		   ]
		  },
  {
"cell_type": "code",
	   "execution_count": null,
	   "metadata": {
	    "collapsed": true
	   },
	   "outputs": [],
"source": [
"//pathname=get_absolute_file_path('11.15.sce')\n",
"//filename=pathname+filesep()+'11.15-data.sci'\n",
"//exec(filename)\n",
"//Atmospheric air temperature: 15C\n",
"//Steam generation: 40 bar, 400C\n",
"//Steam generated per kg of coal = 8 kg\n",
"//Feed water temperature at inlet to economiser = 27C\n",
"//Feed water temperature at exit of economiser = 137C\n",
"//Moisture in coal burnt = 1.5%\n",
"//Flue gas temperature entering air heater =300C\n",
"//Flue gas temperature leaving air heater and entering chimney = 150C\n",
"//Temperature of air entering boiler furnace = 120C\n",
"//Dry coal composition by mass = 84% C, 4% H2, 7% O2 and remainder ash\n",
"//Dry flue gas composition by volume = 12.5% CO2, 7.5% O2, 80% N2\n",
"//Datum temperature = 15C\n",
"//Calorific value of coal = 32600 kJ/kg\n",
"//For air and dry flue gas, cp =1.0032 kJ/kg K\n",
"//Partial pressure of vapour in flue gas = 0.075 bar\n",
"//Specific pressure of vapour = 2.0064 kJ/kg K\n",
"//Mass of dry flue gas per kg of coal:\n",
"md=0.84/0.0495\n",
"//H2O produced during the combustion(in kg):\n",
"mh=0.04*9\n",
"//Amount of air supplied for combustion of one kg of dry coal(in kg):\n",
"ma=16.97-(1-0.05-0.36)\n",
"//Moisture per kg of dry coal(in kg):\n",
"m=0.015/(1-0.015)\n",
"//Total moisture per kg of coal(in kg):\n",
"mt=mh+m\n",
"//Steam generated per kg of dry coal(in kg steam):\n",
"ms=8/(1-0.015)\n",
"//Boiler efficiency:\n",
"n=25178.01/32600*100\n",
"//Efficiency of heat exchange in air heater:\n",
"na=1725.4/2897.67*100\n",
"printf('\n RESULT \n')\n",
"printf('\nBoiler efficiency = %f percent',n)\n",
"printf('\nEfficiency of heat exchange in air heater = %f percent',na)"
   ]
   }
,
{
		   "cell_type": "markdown",
		   "metadata": {},
		   "source": [
			"## Example 11.17: Saving_of_coal.sce"
		   ]
		  },
  {
"cell_type": "code",
	   "execution_count": null,
	   "metadata": {
	    "collapsed": true
	   },
	   "outputs": [],
"source": [
"//pathname=get_absolute_file_path('11.17.sce')\n",
"//filename=pathname+filesep()+'11.17-data.sci'\n",
"//exec(filename)\n",
"//Pressure at which steam is generated(in bar):\n",
"p=20\n",
"//Temperature at which steam is generated(in C):\n",
"Ts=300\n",
"//Temperature of feed water supplied to the boiler(in C):\n",
"T1=50\n",
"//Calorific value of fuel(in kJ/kg):\n",
"C=30000\n",
"//Rate at which coal is used(in kg/hr):\n",
"r=600\n",
"//Rate at which steam is generated(in kg/hr):\n",
"r1=5000\n",
"//Temperature of the boiler unit(in C):\n",
"T=100\n",
"//Latent heat(in kJ/kg.K):\n",
"L=2257 \n",
"//Steam generation per unit coal burnt per hour:\n",
"ms=r1/r\n",
"//Final enthalpy of the steam(in kJ/kg):\n",
"hfi=3023.5 \n",
"//Enthalpy of feed water(in kJ/kg):\n",
"hfw=209.33\n",
"//Overall efficiency of boiler:\n",
"no=ms*(hfi-hfw)/C*100\n",
"//Equivalent evaporation of boiler unit(in kg steam per kg of coal):\n",
"Ee=ms*(hfi-hfw)/L\n",
"//Equivalent evaporation of boiler unit at 100 C(in kg/hr):\n",
"Eea=Ee*r\n",
"//After fitting economiser the enthalp of feed water(in kJ/kg):\n",
"hfw1=313.93\n",
"//Modified overall efficiency of boiler unit:\n",
"nom=no+5\n",
"//Coal consumption(in kg/hr):\n",
"mc=(hfi-hfw1)*r1*100/(C*nom)\n",
"//Saving of coal(in kg/hr):\n",
"s=r-mc\n",
"printf('\n RESULT \n')\n",
"printf('\nSaving of coal = %f kg/hr',s)"
   ]
   }
,
{
		   "cell_type": "markdown",
		   "metadata": {},
		   "source": [
			"## Example 11.18: Temperature_of_flue_gases.sce"
		   ]
		  },
  {
"cell_type": "code",
	   "execution_count": null,
	   "metadata": {
	    "collapsed": true
	   },
	   "outputs": [],
"source": [
"//pathname=get_absolute_file_path('11.18.sce')\n",
"//filename=pathname+filesep()+'11.18-data.sci'\n",
"//exec(filename)\n",
"//Rate at which steam is generated(in kg/hr):\n",
"r=5000\n",
"//Pressure of steam(in bar):\n",
"p=20\n",
"//Dryness fraction:\n",
"x=0.98\n",
"//Temperature of feed water(in C):\n",
"T=60\n",
"//Rate at which coal is supplied(in kg/hr):\n",
"r1=600\n",
"//Rate at which air is supplied(in kg per kg coal):\n",
"r2=16\n",
"//Cslorific value of coal(in kJ/kg):\n",
"C=30000\n",
"//Temperature of boiler room(in C):\n",
"Tr=20\n",
"//Fraction of heat losr with flue gases:\n",
"nl=0.86\n",
"//Specific heat of flue gases(in kJ/kg.K):\n",
"Cpg=1.005\n",
"//From steam tables:\n",
"hf=908.79 //kJ/kg\n",
"hfg=1890.7 //kJ/kg\n",
"//Mass of steam genrated per kg of coal:\n",
"ms=r/r1\n",
"//Enthalpy of final steam produced(in kJ/kg):\n",
"hfi=hf+x*hfg\n",
"//Enthalpy of feed water(in kJ/kg):\n",
"hfw=251.13\n",
"//Heat used for steam generation(in kJ per kg of coal):\n",
"Q=ms*(hfi-hfw)\n",
"//Heat lost per kg of coal:\n",
"Ql=C-Q\n",
"//Heat lost with flue gases(in kJ per kg of coal):\n",
"Qlf=nl*Ql\n",
"//Temperature of flue gases(in C):\n",
"Tgas=Tr+Qlf/((r2+1)*Cpg)\n",
"printf('\n RESULT \n')\n",
"printf('\nTemperature of flue gases = %f C',Tgas)"
   ]
   }
,
{
		   "cell_type": "markdown",
		   "metadata": {},
		   "source": [
			"## Example 11.19: FD_fan_power.sce"
		   ]
		  },
  {
"cell_type": "code",
	   "execution_count": null,
	   "metadata": {
	    "collapsed": true
	   },
	   "outputs": [],
"source": [
"//pathname=get_absolute_file_path('11.19.sce')\n",
"//filename=pathname+filesep()+'11.19-data.sci'\n",
"//exec(filename)\n",
"//Ambient temperature(in K):\n",
"Ta=20+273\n",
"//Velocity(in m/s):\n",
"V=20\n",
"//Draught lost through grate(in mm of water column):\n",
"hw1=30\n",
"//Mechanical efficiency:\n",
"nm=0.80\n",
"//Rate at which coal is burnt(in kg/hr):\n",
"mf=1000\n",
"//Rate at which air is supplied(in kg/hr):\n",
"ma=16\n",
"//Ambient pressure(in bar):\n",
"pa=1.01325\n",
"//Density of air(in kg/m^3):\n",
"d=1.29\n",
"//Acceleration due to gravity(in m/s^2):\n",
"g=9.81\n",
"//Zero temperature(in K):\n",
"T0=273\n",
"//Pressure equivalent to velocity head(in N/m^2):\n",
"P1=d*V^2/2\n",
"P=P1/g //mm of water column\n",
"//Total draught loss(in mm of water column):\n",
"hw=hw1+P\n",
"//Pressure required(in N/m^2):\n",
"p=hw*g\n",
"//F.D. fan power requirement(in W):\n",
"PFD=p*mf*ma*Ta/(d*T0*nm*3600)\n",
"printf('\n RESULT \n')\n",
"printf('\nF.D. fan power = %f W',PFD)"
   ]
   }
,
{
		   "cell_type": "markdown",
		   "metadata": {},
		   "source": [
			"## Example 11.20: EXtra_heat_carried_in_natural_draught.sce"
		   ]
		  },
  {
"cell_type": "code",
	   "execution_count": null,
	   "metadata": {
	    "collapsed": true
	   },
	   "outputs": [],
"source": [
"//pathname=get_absolute_file_path('11.20.sce')\n",
"//filename=pathname+filesep()+'11.20-data.sci'\n",
"//exec(filename)\n",
"//Height of chimney(in m):\n",
"H=45\n",
"//Temperature of burnt gases(in K):\n",
"Tg=630\n",
"//Air requirement(in kg air per kg of fuel burnt):\n",
"m=15\n",
"//Ambient air temperature(in K):\n",
"Ta=300\n",
"//Minimum temperatre of artificial draught(in K):\n",
"Tga=150+273\n",
"//Specific heat of flue gases(in kJ/kg.K):\n",
"Cpg=1.005\n",
"//Calorific value of fuel(in kJ/kg):\n",
"C=30000\n",
"//Draught (in mm of water column):\n",
"hw=353*H*(1/Ta-(m+1)/(m*Tg))\n",
"//Draught (in metres of hot gas column):\n",
"hg=H*(m/(m+1)*Tg/Ta-1)\n",
"//Temperature of chimney for maximum discharge(in K):\n",
"Tgmax=Ta*2*(m+1)/m\n",
"//Chimney efficiency:\n",
"n=9.81*H*(m/(m+1)*Tg/Ta-1)/(Cpg*(Tg-Tga)*10^3)*100\n",
"//Extra heat carried away by flue gases(in kJ):\n",
"Q=(m+1)*Cpg*(Tg-Tga)\n",
"//Percentage heat spent in natural draught:\n",
"nn=Q/C*100\n",
"printf('\n RESULT \n')\n",
"printf('\nDraught = %f mm of water',hw)\n",
"printf('\nDraught = %f metres of hotgas column',hg)\n",
"printf('\nTemperature of chimney gases for maximum discharge = %d K',Tgmax)\n",
"printf('\nChimney efficiency = %f percent',n)\n",
"printf('\nExtra heat carried away by flue gases per kg of fuel burnt = %f kJ',Q)\n",
"printf('\nPercentage heat carried away in natural draught = %f percent',nn)"
   ]
   }
,
{
		   "cell_type": "markdown",
		   "metadata": {},
		   "source": [
			"## Example 11.21: Height_of_chimney.sce"
		   ]
		  },
  {
"cell_type": "code",
	   "execution_count": null,
	   "metadata": {
	    "collapsed": true
	   },
	   "outputs": [],
"source": [
"//pathname=get_absolute_file_path('11.21.sce')\n",
"//filename=pathname+filesep()+'11.21-data.sci'\n",
"//exec(filename)\n",
"//Ambient air temperature(in K):\n",
"Ta=27+273\n",
"//Temperature of burnt gases(in K):\n",
"Tg=630\n",
"//Air consumed at rate(in kg air per kg of coal):\n",
"m=15\n",
"//Ratio of actual draught to thereotical draught:\n",
"r=0.60\n",
"//Actual draught:\n",
"hw1=14\n",
"//Theoretical draught:\n",
"hw=hw1/r\n",
"//Height of chimney(in m):\n",
"H=hw/(353*(1/Ta-(m+1)/(m*Tg)))\n",
"printf('\n RESULT \n')\n",
"printf('\nHeight of chimney = %f m',H)"
   ]
   }
,
{
		   "cell_type": "markdown",
		   "metadata": {},
		   "source": [
			"## Example 11.22: Power_consumption_of_induced_draught.sce"
		   ]
		  },
  {
"cell_type": "code",
	   "execution_count": null,
	   "metadata": {
	    "collapsed": true
	   },
	   "outputs": [],
"source": [
"//pathname=get_absolute_file_path('11.22.sce')\n",
"//filename=pathname+filesep()+'11.22-data.sci'\n",
"//exec(filename)\n",
"//Static draught(in mm of water column):\n",
"hw1=100\n",
"//Amount of discharge(in m^3/s):\n",
"mf=30\n",
"//Area of outlet section(in m^2):\n",
"a=1.8\n",
"//Ambient temperature(in K):\n",
"Ta=300\n",
"//Density(in kg/m^3):\n",
"d=1.293\n",
"//Fan efficiency:\n",
"nm=0.85\n",
"//Flue gas temperature(in K):\n",
"Tf=150+273\n",
"//Zero temperature(in K):\n",
"T0=273\n",
"//Velocity of air(in m/s):\n",
"V=mf/a\n",
"//Pressure created due to the gases(in mm of water):\n",
"p=d*V^2/(2*9.81)\n",
"//Total draught(in mm of water column):\n",
"hw=hw1+p\n",
"//Power of motor of forced draught fan(in kW):\n",
"PFD=hw*9.81*mf*Ta/(T0*nm*10^3)\n",
"//Power consumption of induced draught fan(in kW):\n",
"PID=PFD*Tf/Ta\n",
"printf('\nRESULTS\n')\n",
"printf('\nPower consumption of ID fan = %f kW',PID)"
   ]
   }
,
{
		   "cell_type": "markdown",
		   "metadata": {},
		   "source": [
			"## Example 11.23: Energy_consumed_in_superheater.sce"
		   ]
		  },
  {
"cell_type": "code",
	   "execution_count": null,
	   "metadata": {
	    "collapsed": true
	   },
	   "outputs": [],
"source": [
"//pathname=get_absolute_file_path('11.23.sce')\n",
"//filename=pathname+filesep()+'11.23-data.sci'\n",
"//exec(filename)\n",
"//Temperature at which feed water enters and leaves economiser(in C):\n",
"T1=30\n",
"T2=110\n",
"//Pressure at which steam is generated(in bar):\n",
"p=20\n",
"//Dryness fraction:\n",
"x=0.98\n",
"//Temperature to which it is superheated(in C):\n",
"T=300\n",
"//Calorific value of coal(in kJ/kg.K):\n",
"C=30500\n",
"//Steam generation rate(in kg/kg of coal):\n",
"r=10\n",
"//Specific heat of feed water(in kJ/kg.K):\n",
"Cpfw=4.18\n",
"//Specific heat of superheated steam(in kJ/kg.K):\n",
"Cps=2.093\n",
"//From steam tables:\n",
"h4=3023.5 //kJ/kg\n",
"hf=908.79 //kJ/kg\n",
"hfg=1890.7 //kJ/kg\n",
"h1=125.79 //kJ/kg\n",
"//Enthalpy at state 3(in kJ/kg):\n",
"h3=hf+x*hfg\n",
"//Total heat supplied(in kJ/kg):\n",
"Q=h4-h1\n",
"//Heat consumed in the economiser(in kJ/kg of coal):\n",
"Q1=Cpfw*(T2-T1)*8\n",
"//Heat consumed in the boiler(in kJ/kg coal):\n",
"Q2=(h3-Cpfw*T2)*8\n",
"//Heat consumed in the superheater(in kJ/kg steam):\n",
"Q3=(h4-h3)*8\n",
"//Fraction of energy consumed in economiser:\n",
"r1=Q1/C*100\n",
"//Fraction of energy consumed in boiler:\n",
"r2=Q2/C*100\n",
"//Fraction of energy consumed in superheater:\n",
"r3=Q3/C*100\n",
"printf('\nRESULTS\n')\n",
"printf('\nFraction of energy consumed in economiser = %f percent',r1)\n",
"printf('\nFraction of energy consumed in boiler = %f percent',r2)\n",
"printf('\nFraction of energy consumed in superheater = %f percent',r3)"
   ]
   }
],
"metadata": {
		  "kernelspec": {
		   "display_name": "Scilab",
		   "language": "scilab",
		   "name": "scilab"
		  },
		  "language_info": {
		   "file_extension": ".sce",
		   "help_links": [
			{
			 "text": "MetaKernel Magics",
			 "url": "https://github.com/calysto/metakernel/blob/master/metakernel/magics/README.md"
			}
		   ],
		   "mimetype": "text/x-octave",
		   "name": "scilab",
		   "version": "0.7.1"
		  }
		 },
		 "nbformat": 4,
		 "nbformat_minor": 0
}
