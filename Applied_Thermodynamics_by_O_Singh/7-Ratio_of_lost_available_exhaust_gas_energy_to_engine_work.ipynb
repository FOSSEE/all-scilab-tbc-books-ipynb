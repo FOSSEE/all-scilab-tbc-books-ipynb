{
"cells": [
 {
		   "cell_type": "markdown",
	   "metadata": {},
	   "source": [
       "# Chapter 7: Ratio of lost available exhaust gas energy to engine work"
	   ]
	},
{
		   "cell_type": "markdown",
		   "metadata": {},
		   "source": [
			"## Example 7.01: To_determine_the_maximum_possible_work.sce"
		   ]
		  },
  {
"cell_type": "code",
	   "execution_count": null,
	   "metadata": {
	    "collapsed": true
	   },
	   "outputs": [],
"source": [
"//pathname=get_absolute_file_path('7.01.sce')\n",
"//filename=pathname+filesep()+'7.01-data.sci'\n",
"//exec(filename)\n",
"//Pressure of entering steam(in MPa):\n",
"p1=1.6\n",
"//Temperature of entering steam(in K):\n",
"T1=300+273\n",
"//Pressure of leaving steam(in MPa):\n",
"p2=0.1\n",
"//Temperature of leaving steam(in K):\n",
"T2=150+273\n",
"//Velocity of the leaving steam(in m/s):\n",
"c2=150\n",
"//Surrounding temperature(in K):\n",
"T0=15+273\n",
"//Mass flow rate(in kg/s):\n",
"m=2.5\n",
"//From steam tables:\n",
"h1=3034.8 //kJ/kg\n",
"s1=6.8844 //kJ/kg.K\n",
"h2=2776.4 //kJ/kg\n",
"s2=7.6134 //kJ/kg.K\n",
"//Maxiimum work possible(in kW):\n",
"Wmax=(h1-h2)-T0*(s1-s2)-(c2^2)/2*10^(-3)\n",
"printf('\nRESULT')\n",
"printf('\nMaximum work possible = %f kW',m*Wmax)"
   ]
   }
,
{
		   "cell_type": "markdown",
		   "metadata": {},
		   "source": [
			"## Example 7.02: To_determine_the_availability_in_the_tanks.sce"
		   ]
		  },
  {
"cell_type": "code",
	   "execution_count": null,
	   "metadata": {
	    "collapsed": true
	   },
	   "outputs": [],
"source": [
"//pathname=get_absolute_file_path('7.02.sce')\n",
"//filename=pathname+filesep()+'7.02-data.sci'\n",
"//exec(filename)\n",
"//For tank A:\n",
"//Pressure of air(in bar):\n",
"pa=1\n",
"//Mass of air(in kg):\n",
"m=1\n",
"//Value of Cv(in kJ/kg.K):\n",
"Cv=0.717\n",
"//Temperature(in K):\n",
"T=50+273\n",
"//Gas costant(in kJ/kg.K):\n",
"R=0.287\n",
"//Atmospheric pressure(in bar):\n",
"p0=1\n",
"//Atmosphere temperature(in K):\n",
"T0=15+273\n",
"//Value of Cp(in kJ/kg.K):\n",
"Cp=1.004\n",
"//For tank B\n",
"//Pressure(in bar):\n",
"pb=3\n",
"//Availability of air in tank A(in kJ):\n",
"AA=m*(Cv*(T-T0)+R*(p0/pa*T-T0)-T0*Cp*log(T/T0)+T0*R*log(pa/p0))\n",
"//Availability of air in tank B(in kJ):\n",
"AB=m*(Cv*(T-T0)+R*(p0/pb*T-T0)-T0*Cp*log(T/T0)+T0*R*log(pb/p0))\n",
"printf('\nRESULT')\n",
"printf('\nAvailabiltiy of air in tank A = %f kJ',AA)\n",
"printf('\nAvailability of air in tank B = %f kJ',AB)"
   ]
   }
,
{
		   "cell_type": "markdown",
		   "metadata": {},
		   "source": [
			"## Example 7.03: To_determine_the_power_output.sce"
		   ]
		  },
  {
"cell_type": "code",
	   "execution_count": null,
	   "metadata": {
	    "collapsed": true
	   },
	   "outputs": [],
"source": [
"//pathname=get_absolute_file_path('7.03.sce')\n",
"//filename=pathname+filesep()+'7.03-data.sci'\n",
"//exec(filename)\n",
"//Mass of steam(in kg):\n",
"m=15\n",
"//Entering steam:\n",
"//Pressure(in bar):\n",
"p1=10\n",
"//Temperature(in K):\n",
"T1=300+273\n",
"//Leaving steam:\n",
"//Pressure(in bar):\n",
"p2=0.05\n",
"//Dryness fraction:\n",
"x=0.95\n",
"//Velocity(in m/s):\n",
"v2=160\n",
"//Atmosheric pressure(in bar):\n",
"p0=1\n",
"//Atmospheric temperature(in K):\n",
"T0=15+273\n",
"//From steam tables:\n",
"h1=3051.2 //kJ/kg\n",
"s1=7.1229 //kJ/kg.K\n",
"sf=0.4764 //kJ/kg.K\n",
"sfg=7.9187 //kJ/kg.K\n",
"hf=137.82 //kJ/kg\n",
"hfg=2423.7 //kJ/kg\n",
"h0=62.99 //kJ/kg\n",
"s0=0.2245 //kJ/kg.K\n",
"//Enthalpy at exit of turbine(in kJ/kg):\n",
"h2=hf+x*hfg\n",
"//Entropy at exit of turbine(in kJ/kg.K):\n",
"s2=sf+x*sfg\n",
"//Work output(in kJ/kg):\n",
"W=(h1-h2)-v2^2/2*10^(-3)\n",
"//Power output(in kW):\n",
"pW=m*W\n",
"printf('\nRESULT')\n",
"printf('\nPower output = %f kW',pW)\n",
"//Maximum work given end states(in kW):\n",
"Wmax=(h1-T0*s1)-(h2+v2^2/2*10^(-3)-T0*s2)\n",
"printf('\nRESULT')\n",
"printf('\n\nMaximum power output = %f kW',m*Wmax)\n",
"//Maximum wor kavailable from exhaust steam(in kJ/kg):\n",
"Ae=(h2-h0)+v2^2/2*10^(-3)-T0*(s2-s0)\n",
"//Maximum power that could be obtained from exhaust steam(in kW):\n",
"Wme=m*Ae\n",
"printf('\n\nMaximum power from exhaust steam = %f kW',Wme)"
   ]
   }
,
{
		   "cell_type": "markdown",
		   "metadata": {},
		   "source": [
			"## Example 7.04: To_determine_the_availability.sce"
		   ]
		  },
  {
"cell_type": "code",
	   "execution_count": null,
	   "metadata": {
	    "collapsed": true
	   },
	   "outputs": [],
"source": [
"//pathname=get_absolute_file_path('7.04.sce')\n",
"//filename=pathname+filesep()+'7.04-data.sci'\n",
"//exec(filename)\n",
"//Mass of steam(in kg):\n",
"m=5\n",
"//Initial elevation(in m):\n",
"z1=10\n",
"//Initial velocity(in m/s):\n",
"V1=25\n",
"//Final elevation(in m):\n",
"z2=2\n",
"//Final velocity(in m/s):\n",
"V2=10\n",
"//Dead state of water\n",
"u0=104.86 //kJ/kg\n",
"v0=1.0029*10^(-3) //m3/kg\n",
"s0=0.3673 //kJ/kg·K\n",
"p0=100 //kPa\n",
"T0=25+273 //K\n",
"//Initial state\n",
"u1 = 2550 //kJ/kg\n",
"v1 = 0.5089 //m3/kg\n",
"s1 = 6.93 //kJ/kg·K\n",
"//Final state\n",
"u2=83.94 //kJ/kg\n",
"v2=1.0018*10^(-3) //m3/kg\n",
"s2=0.2966 //kJ/kg·K\n",
"//Acceleration due to gravity(in m/s^2):\n",
"g=9.81\n",
"//Availability at initial state(in kJ):\n",
"A1=m*((u1-u0)*10^3+p0*10^3*(v1-v0)-T0*(s1-s0)*10^3+V1^2/2+g*z1)\n",
"//Availability at final state(in kJ):\n",
"A2=m*((u2-u0)*10^3+p0*10^3*(v2-v0)-T0*(s2-s0)*10^3+V2^2/2+g*z2)\n",
"//Change in availability(in kJ):\n",
"dA=A2-A1\n",
"printf('\nRESULT')\n",
"printf('\nAvailability decreases by %f kJ',-dA/10^3)"
   ]
   }
,
{
		   "cell_type": "markdown",
		   "metadata": {},
		   "source": [
			"## Example 7.06: To_determine_ratio_of_lost_available_exhaust_gas_energy_to_engine_work.sce"
		   ]
		  },
  {
"cell_type": "code",
	   "execution_count": null,
	   "metadata": {
	    "collapsed": true
	   },
	   "outputs": [],
"source": [
"//pathname=get_absolute_file_path('7.06.sce')\n",
"//filename=pathname+filesep()+'7.06-data.sci'\n",
"//exec(filename)\n",
"//Temperature of IC engine(in K):\n",
"T1=800+273\n",
"//Work per kg of gas in engine(in kJ/kg):\n",
"W=1050\n",
"//Cp of gas(in kJ/kg.K):\n",
"Cp=1.1\n",
"//Temperature of the surroundings(in K):\n",
"T0=30+273\n",
"//Change in entropy of system(in kJ/kg.K):\n",
"dSsys=W/T1\n",
"//Change in entropy of surroundings(in kJ/kg.K):\n",
"dSsurr=-Cp*(T1-T0)/T0\n",
"//Loss of available energy(in kJ/kg):\n",
"L=-T0*(dSsys+dSsurr)\n",
"//Ratio of lost available exhaust energy to engine work:\n",
"r=L/W\n",
"printf('\nRESULT')\n",
"printf('\nRatio of available exhaust energy to engine work= %f/1',r) "
   ]
   }
,
{
		   "cell_type": "markdown",
		   "metadata": {},
		   "source": [
			"## Example 7.07: To_determine_the_availability.sce"
		   ]
		  },
  {
"cell_type": "code",
	   "execution_count": null,
	   "metadata": {
	    "collapsed": true
	   },
	   "outputs": [],
"source": [
"//pathname=get_absolute_file_path('7.07.sce')\n",
"//filename=pathname+filesep()+'7.07-data.sci'\n",
"//exec(filename)\n",
"//Mass of water(in kg):\n",
"m=10\n",
"//Initial temperature(in K):\n",
"T1=150+273\n",
"//Initial velocity(in m/s):\n",
"V1=25\n",
"//Initial elevation(in m):\n",
"z1=10\n",
"//Final temperature(in K):\n",
"T2=20+273\n",
"//Final velocity(in m/s):\n",
"V2=10\n",
"//Final elevation(in m):\n",
"z2=3\n",
"//Pressure of environment(in MPa):\n",
"p0=0.1\n",
"//Temperature of environment(in K):\n",
"T0=25+273\n",
"//Acceleration due to gravity(in m/s^2):\n",
"g=9.8\n",
"//From steam tables:\n",
"//Dead state of water\n",
"u0=104.88 //kJ/kg\n",
"v0=1.003*10^(-3) //m3/kg\n",
"s0=0.3674 //kJ/kg·K\n",
"u1=2559.5 //kJ/kg\n",
"v1=0.3928 //m3/kg\n",
"s1=6.8379 //kJ/kg·K\n",
"u2=83.95 //kJ/kg\n",
"v2=0.001002 //m3/kg\n",
"s2=0.2966 //kJ/kg·K\n",
"//Availability at initial state(in kJ):\n",
"A1=m*((u1-u0)*10^3+p0*10^3*(v1-v0)-T0*(s1-s0)*10^3+V1^2/2+g*z1)\n",
"//Availability at final state(in kJ):\n",
"A2=m*((u2-u0)*10^3+p0*10^3*(v2-v0)-T0*(s2-s0)*10^3+V2^2/2+g*z2)\n",
"//Change in availability(in kJ):\n",
"dA=A2-A1\n",
"printf('\nRESULT')\n",
"printf('\nInitial availabilty = %f kJ',A1/10^3)\n",
"printf('\nFinal availabilty = %f kJ',A2/10^3)\n",
"printf('\nAvailability decreases by %f kJ',-dA/10^3)"
   ]
   }
,
{
		   "cell_type": "markdown",
		   "metadata": {},
		   "source": [
			"## Example 7.08: To_determine_the_irresversibilty.sce"
		   ]
		  },
  {
"cell_type": "code",
	   "execution_count": null,
	   "metadata": {
	    "collapsed": true
	   },
	   "outputs": [],
"source": [
"//pathname=get_absolute_file_path('7.08.sce')\n",
"//filename=pathname+filesep()+'7.08-data.sci'\n",
"//exec(filename)\n",
"//Mass flow rate(in kg/s):\n",
"m=5\n",
"//At inlet to turbine,\n",
"p1=5 //MPa\n",
"T1=500+273.15 //ºK\n",
"h1=3433.8 //kJ/kg\n",
"s1=6.9759 //kJ/kg.K\n",
"//At exit from turbine.\n",
"p2=0.2 //MPa\n",
"T2=140+273.15 //ºK\n",
"h2=2748 //kJ/kg\n",
"s2=7.228 //kJ/kg·K\n",
"//At dead state,\n",
"p0=101.3 //kPa\n",
"T0=25+273.15 //ºK\n",
"h0=104.96 //kJ/kg\n",
"s0=0.3673 //kJ/kg · K\n",
"//Heat loss(in kJ/s):\n",
"Q=600\n",
"//Availablity of steam at inlet(in kJ):\n",
"A1=m*((h1-h0)-T0*(s1-s0))\n",
"printf('\nRESULT')\n",
"printf('\nAvailability of steam at inlet = %f kJ',A1)\n",
"//Turbine output(in kW):\n",
"W=m*(h1-h2)-Q\n",
"printf('\n\nTurbine output = %f kW',W)\n",
"//Maximum output(in kW):\n",
"Wmax=m*((h1-h2)-T0*(s1-s2))\n",
"printf('\n\nMaximum output = %f kW',Wmax)\n",
"//Irreversibilty(in kW):\n",
"I=Wmax-W\n",
"printf('\n\nIrreversibility = %f kW',I)"
   ]
   }
,
{
		   "cell_type": "markdown",
		   "metadata": {},
		   "source": [
			"## Example 7.11: To_determine_loss_of_available_energy.sce"
		   ]
		  },
  {
"cell_type": "code",
	   "execution_count": null,
	   "metadata": {
	    "collapsed": true
	   },
	   "outputs": [],
"source": [
"//pathname=get_absolute_file_path('7.11.sce')\n",
"//filename=pathname+filesep()+'7.11-data.sci'\n",
"//exec(filename)\n",
"//Heat removed(in kJ):\n",
"Q=500\n",
"//Temperature of the heat reservoir(in K):\n",
"T1=835\n",
"//Temperature of the system(in K):\n",
"T2=720\n",
"//Temperature of surroundings(in K):\n",
"T0=280\n",
"//Availability for heat reservoir(in kJ/kg.K):\n",
"A1=T0*Q/T1\n",
"//Availability for system(in kJ/kg.K):\n",
"A2=T0*Q/T2\n",
"//Net loss of available energy(in kJ/kg.K):\n",
"Anet=A1-A2\n",
"printf('\nRESULT')\n",
"printf('\nLoss of available energy = %f kJ/kg.K',-Anet) "
   ]
   }
,
{
		   "cell_type": "markdown",
		   "metadata": {},
		   "source": [
			"## Example 7.12: To_determine_the_maximum_possible_work.sce"
		   ]
		  },
  {
"cell_type": "code",
	   "execution_count": null,
	   "metadata": {
	    "collapsed": true
	   },
	   "outputs": [],
"source": [
"//pathname=get_absolute_file_path('7.12.sce')\n",
"//filename=pathname+filesep()+'7.12-data.sci'\n",
"//exec(filename)\n",
"//Enthalpy at entrance(in kJ/kg):\n",
"h1=4142\n",
"//Enthalpy at exit(in kJ/kg):\n",
"h2=2585\n",
"//Availability of steam at entrance(in kJ/kg):\n",
"A1=1787\n",
"//Availability of steam at exit(in kJ):\n",
"A2=140\n",
"//Maximum work possible(in kJ/kg):\n",
"Wmax=A1-A2\n",
"//Actual work from turbine(in kJ/kg):\n",
"Wact=h1-h2\n",
"printf('\nRESULT')\n",
"printf('\nActual work = %d kJ/kg',Wact)\n",
"printf('\nMaximum possible work = %d kJ/kg',Wmax)"
   ]
   }
,
{
		   "cell_type": "markdown",
		   "metadata": {},
		   "source": [
			"## Example 7.13: To_determine_second_law_efficiency.sce"
		   ]
		  },
  {
"cell_type": "code",
	   "execution_count": null,
	   "metadata": {
	    "collapsed": true
	   },
	   "outputs": [],
"source": [
"//pathname=get_absolute_file_path('7.13.sce')\n",
"//filename=pathname+filesep()+'7.13-data.sci'\n",
"//exec(filename)\n",
"//Minimum temperature(in K):\n",
"Tmin=20+273\n",
"//Maximum temperature(in K):\n",
"Tmax=500+273\n",
"//Efficiency of heat engine:\n",
"n=0.25\n",
"//Reversible engine efficiency:\n",
"nrev=1-Tmin/Tmax\n",
"//Second law efficiency:\n",
"n2=n/nrev\n",
"printf('\nRESULT')\n",
"printf('\nSecond law efficiency = %f percent',n2*100)"
   ]
   }
,
{
		   "cell_type": "markdown",
		   "metadata": {},
		   "source": [
			"## Example 7.14: To_determine_loss_of_available_energy.sce"
		   ]
		  },
  {
"cell_type": "code",
	   "execution_count": null,
	   "metadata": {
	    "collapsed": true
	   },
	   "outputs": [],
"source": [
"//pathname=get_absolute_file_path('7.14.sce')\n",
"//filename=pathname+filesep()+'7.14-data.sci'\n",
"//exec(filename)\n",
"//Volume of compartment A(in m^3):\n",
"Va=6\n",
"//Volume of compartment B(in m^3):\n",
"Vb=4\n",
"//Pressure in compartment A(in bar):\n",
"p1=6\n",
"//Temperature in compartment A(in K):\n",
"T1=600\n",
"//Atmosheric pressure(in bar):\n",
"p0=1\n",
"//Atmosheric temperature(in K):\n",
"T0=300\n",
"//Adiabatic index of compression:\n",
"r=1.4\n",
"//Gas constant(in J/kg.K):\n",
"R=0.287\n",
"//Value of Cv(in kJ/kg.K):\n",
"Cv=0.718\n",
"//Final volume(in m^3):\n",
"V2=Va+Vb\n",
"//Final temperature(in K):\n",
"T2=T1*(Va/V2)^(r-1)\n",
"//Mass of air(in kg):\n",
"m=p1*10^5*Va/(R*10^3*T1)\n",
"//Change in entropy of control system(in kJ/kg.K):\n",
"dSs=m*(Cv*log(T2/T1)+R*log(V2/Va))\n",
"//Loss of available energy or irreversibilty(in kJ):\n",
"I=T0*dSs\n",
"printf('\nRESULT')\n",
"printf('\nLoss of available energy = %f kJ',-I)"
   ]
   }
,
{
		   "cell_type": "markdown",
		   "metadata": {},
		   "source": [
			"## Example 7.16: To_determine_the_availability_and_change_in_irreversibility.sce"
		   ]
		  },
  {
"cell_type": "code",
	   "execution_count": null,
	   "metadata": {
	    "collapsed": true
	   },
	   "outputs": [],
"source": [
"//pathname=get_absolute_file_path('7.16.sce')\n",
"//filename=pathname+filesep()+'7.16-data.sci'\n",
"//exec(filename)\n",
"//Minimum temperature(in K):\n",
"Tmin=30+273\n",
"//Maximum temperature(in K):\n",
"Tmax=700+273\n",
"//Temperature of surroundings(in K):\n",
"T0=17+273\n",
"//Rate at which engine receives heat(in kJ/min):\n",
"Q1=2*10^4\n",
"//Measured output of the engine(in kW):\n",
"Wu=0.13*10^3\n",
"//Efficiency:\n",
"nrev=1-Tmin/Tmax\n",
"//Availability or reversible work(in kJ/s):\n",
"Wrev=nrev*Q1/60\n",
"//Rate of irreversibility(in kJ/s):\n",
"I=Wrev-Wu\n",
"//Second law efficiency:\n",
"n2=Wu/Wrev\n",
"printf('\nRESULT')\n",
"printf('\nAvailability = %f kJ/min',Wrev*60)\n",
"printf('\nRate of irreversibility = %f kW',I)\n",
"printf('\nSecond law efficiency = %f percent',n2*100)"
   ]
   }
,
{
		   "cell_type": "markdown",
		   "metadata": {},
		   "source": [
			"## Example 7.17: To_determine_loss_of_available_energy.sce"
		   ]
		  },
  {
"cell_type": "code",
	   "execution_count": null,
	   "metadata": {
	    "collapsed": true
	   },
	   "outputs": [],
"source": [
"//pathname=get_absolute_file_path('7.17.sce')\n",
"//filename=pathname+filesep()+'7.17-data.sci'\n",
"//exec(filename)\n",
"//Initially:\n",
"//Pressure(in bar):\n",
"p1=1.5\n",
"//Temperature(in K):\n",
"T1=60+273\n",
"//Finally:\n",
"//Pressure(in bar):\n",
"p2=2.5\n",
"//Temperature of the reservoir(in K):\n",
"Tres=400+273\n",
"//Temperature of surroundings(in K):\n",
"T0=27+273\n",
"//Cp of air(in kJ/kg.K):\n",
"Cp=1.005\n",
"//Final temperature(in K):\n",
"T2=T1*p2/p1\n",
"//Heat addition to air in the tank(in kJ/kg):\n",
"Q=Cp*(T2-T1)\n",
"//Change in entropy of the system(in kJ/kg.K):\n",
"dSs=Q/T1\n",
"//Change in entropy of environment(in kJ/kg.K):\n",
"dSe=-Q/Tres\n",
"//Total change in entropy(in kJ/kg.K):\n",
"dS=dSs+dSe\n",
"//Loss of available energy(in kJ/kg):\n",
"L=T0*dS\n",
"printf('\nRESULT')\n",
"printf('\nLoss of available energy = %f kJ/kg.K',L)"
   ]
   }
,
{
		   "cell_type": "markdown",
		   "metadata": {},
		   "source": [
			"## Example 7.19: To_calculate_enthalpy_of_vaporisation.sce"
		   ]
		  },
  {
"cell_type": "code",
	   "execution_count": null,
	   "metadata": {
	    "collapsed": true
	   },
	   "outputs": [],
"source": [
"//pathname=get_absolute_file_path('7.19.sce')\n",
"//filename=pathname+filesep()+'7.19-data.sci'\n",
"//exec(filename)\n",
"//From steam tables:\n",
"vg=0.12736\n",
"vf=0.001157\n",
"p205=1.7230\n",
"p195=1.3978\n",
"T=200+273\n",
"hfga=1940.7\n",
"//Value of vfg(in m^3/kg):\n",
"vfg=vg-vf\n",
"//Value of dp/dT(in MPa/K):\n",
"r=(p205-p195)/(205-195)\n",
"//By Clapeyron equation(in kJ/kg):\n",
"hfg=T*vfg*r*10^3\n",
"printf('\nRESULT')\n",
"printf('\nCalculated enthalpy of vaporization = %f kJ/kg',hfg)\n",
"printf('\nEnthalpy of vaporization from steam table = %f kJ/kg',hfga)"
   ]
   }
,
{
		   "cell_type": "markdown",
		   "metadata": {},
		   "source": [
			"## Example 7.20: To_determine_enthalpy.sce"
		   ]
		  },
  {
"cell_type": "code",
	   "execution_count": null,
	   "metadata": {
	    "collapsed": true
	   },
	   "outputs": [],
"source": [
"//pathname=get_absolute_file_path('7.20.sce')\n",
"//filename=pathname+filesep()+'7.20-data.sci'\n",
"//exec(filename)\n",
"//From steam tables:\n",
"//Saturated vapor pressure:\n",
"p5=260.96 //kPa\n",
"p15=182.60 //kPa\n",
"vg10=0.07665 // m^3/kg\n",
"vf10=0.00070 //m^3/kg\n",
"R=0.06876 //kJ/kg.K\n",
"hfg10=156.3 //kJ/kg\n",
"T=-5+273\n",
"T1=-15+273\n",
"T2=-5+273\n",
"//By Clapeyron equation:\n",
"//Value of hfg:\n",
"hfg=T*(vg10-vf10)*(p5-p15)/(15-5)\n",
"//By Clapeyron-Clausius equation:\n",
"hfg1=log(p5/p15)*R*(T1*T2)/((T2-T1))\n",
"//Deviation:\n",
"d=(hfg1-hfg)/hfg*100\n",
"printf('\nRESULT')\n",
"printf('\nhfg by Clapeyron equation = %f kJ/kg',hfg)\n",
"printf('\nhfg by Clapeyron-Clausius equation = %f kJ/kg',hfg1)\n",
"printf('\nPercentage deviation in hfg value by Clapeyron-Clausius equation compared to the value from Clapeyron equation = %f percent',d)"
   ]
   }
,
{
		   "cell_type": "markdown",
		   "metadata": {},
		   "source": [
			"## Example 7.21: To_determine_isothermal_compressibility.sce"
		   ]
		  },
  {
"cell_type": "code",
	   "execution_count": null,
	   "metadata": {
	    "collapsed": true
	   },
	   "outputs": [],
"source": [
"//pathname=get_absolute_file_path('7.21.sce')\n",
"//filename=pathname+filesep()+'7.21-data.sci'\n",
"//exec(filename)\n",
"//From steam tables:\n",
"v350=0.9534\n",
"v250=0.7964\n",
"v300=0.8753\n",
"v350kPa=0.76505\n",
"v250kPa=1.09575\n",
"//Volume expansivity(in 1/K):\n",
"ve=(v350-v250)/(v300*(350-250))\n",
"//Isothermal compressibility(in 1/kPa):\n",
"ic=-(v350kPa-v250kPa)/(v300*(350-250))\n",
"printf('\nRESULT')\n",
"printf('\nVolume expansivity = %f K^(–1)',ve)\n",
"printf('\nIsothermal compressibility = %f kPa^(-1)',ic)    "
   ]
   }
,
{
		   "cell_type": "markdown",
		   "metadata": {},
		   "source": [
			"## Example 7.22: To_determine_the_irresversibilty.sce"
		   ]
		  },
  {
"cell_type": "code",
	   "execution_count": null,
	   "metadata": {
	    "collapsed": true
	   },
	   "outputs": [],
"source": [
"//pathname=get_absolute_file_path('7.22.sce')\n",
"//filename=pathname+filesep()+'7.22-data.sci'\n",
"//exec(filename)\n",
"//Volume of tank(in m^3):\n",
"V=0.5\n",
"//Atmospheric pressure(in bar):\n",
"p0=1\n",
"//Atmospheric temperature(in K):\n",
"T0=25+273\n",
"//Cp of gas(in kJ/kg.K):\n",
"Cp=1.005\n",
"//Cv of gas(in kJ/kg.K):\n",
"Cv=0.718\n",
"//Initial temperature(in K):\n",
"Ti=T0\n",
"//Inside final temperature(in K):\n",
"Tf=Cp/Cv*Ti\n",
"//Change in entropy(in kJ/kg.K):\n",
"dSgen=Cp*log(Tf/Ti)\n",
"//Irreversibility(in kJ/kg):\n",
"I=T0*dSgen\n",
"printf('\nRESULT')\n",
"printf('\nInside final temperature = %f K',Tf)\n",
"printf('\nChange in entropy = %f kJ/kg.K',dSgen)\n",
"printf('\nIrreversibility = %f kJ/kg',I)"
   ]
   }
,
{
		   "cell_type": "markdown",
		   "metadata": {},
		   "source": [
			"## Example 7.23: To_determine_the_maximum_work.sce"
		   ]
		  },
  {
"cell_type": "code",
	   "execution_count": null,
	   "metadata": {
	    "collapsed": true
	   },
	   "outputs": [],
"source": [
"//pathname=get_absolute_file_path('7.23.sce')\n",
"//filename=pathname+filesep()+'7.23-data.sci'\n",
"//exec(filename)\n",
"//Mass of water(in kg):\n",
"m=75\n",
"//Temperature of hot water(in K):\n",
"T1=400+273\n",
"//Final temperature(in K):\n",
"T2=300\n",
"//Temperature of the environment(in K):\n",
"T0=27+273\n",
"//Specific heat of water(in kJ/kg.K):\n",
"Cp=4.18\n",
"//Maximum work(in kJ):\n",
"Wmax=m*Cp*(T1-T2-T0*log(T1/T2))\n",
"printf('\nRESULT')\n",
"printf('\nMaximum work = %f kJ',Wmax)"
   ]
   }
,
{
		   "cell_type": "markdown",
		   "metadata": {},
		   "source": [
			"## Example 7.24: To_determine_the_irresversibilty.sce"
		   ]
		  },
  {
"cell_type": "code",
	   "execution_count": null,
	   "metadata": {
	    "collapsed": true
	   },
	   "outputs": [],
"source": [
"//pathname=get_absolute_file_path('7.24.sce')\n",
"//filename=pathname+filesep()+'7.24-data.sci'\n",
"//exec(filename)\n",
"//Pressure at which steam enters(in bar):\n",
"p1=50\n",
"//Temperature at which steam enters(in K):\n",
"T1=600+273\n",
"//Velocity at which steam enters(in m/s):\n",
"c1=150\n",
"//Pressure at which steam leaves(in bar):\n",
"p2=0.1\n",
"//Velocity at which steam leaves(in m/s):\n",
"c2=50\n",
"//Work delivered(in kJ/kg):\n",
"W=1000\n",
"//Dead state temperature(in K):\n",
"T0=25+273\n",
"//From steam tables:\n",
"h1=3666.5 //kJ/kg\n",
"s1=7.2589 //kJ/kg.K\n",
"h2=2584.7 //kJ/kg\n",
"s2=8.1502 //kJ/kg.K\n",
"//Inlet stream availability(in kJ/kg):\n",
"A1=h1+c1^2/2*10^(-3)-T0*s1\n",
"//Exit stream availability(in kJ/kg):\n",
"A2=h2+c2^2/2*10^(-3)-T0*s2\n",
"//Reversible work(in kJ/kg):\n",
"Wrev=A1-A2\n",
"//Irreversibility(in kJ/kg):\n",
"I=Wrev-W\n",
"printf('\nRESULT')\n",
"printf('\nInlet stream availability = %f kJ/kg',A1)\n",
"printf('\nExit stream availability = %f kJ/kg',A2)\n",
"printf('\nIrreversibility = %f kJ/kg',I)"
   ]
   }
],
"metadata": {
		  "kernelspec": {
		   "display_name": "Scilab",
		   "language": "scilab",
		   "name": "scilab"
		  },
		  "language_info": {
		   "file_extension": ".sce",
		   "help_links": [
			{
			 "text": "MetaKernel Magics",
			 "url": "https://github.com/calysto/metakernel/blob/master/metakernel/magics/README.md"
			}
		   ],
		   "mimetype": "text/x-octave",
		   "name": "scilab",
		   "version": "0.7.1"
		  }
		 },
		 "nbformat": 4,
		 "nbformat_minor": 0
}
