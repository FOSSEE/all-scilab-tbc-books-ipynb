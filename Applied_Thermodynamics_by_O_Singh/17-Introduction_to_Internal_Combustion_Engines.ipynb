{
"cells": [
 {
		   "cell_type": "markdown",
	   "metadata": {},
	   "source": [
       "# Chapter 17: Introduction to Internal Combustion Engines"
	   ]
	},
{
		   "cell_type": "markdown",
		   "metadata": {},
		   "source": [
			"## Example 17.01: Indicated_power_and_mechanical_efficiency.sce"
		   ]
		  },
  {
"cell_type": "code",
	   "execution_count": null,
	   "metadata": {
	    "collapsed": true
	   },
	   "outputs": [],
"source": [
"//pathname=get_absolute_file_path('17.01.sce')\n",
"//filename=pathname+filesep()+'17.01-data.sci'\n",
"//exec(filename)\n",
"//L/D ratio:\n",
"r1=1.2\n",
"//Cylinder diameter(in m):\n",
"D=0.12\n",
"//Area of indicated diagram(in m^2):\n",
"A=30*10^(-4)\n",
"//Spring constant(in kN/m^2):\n",
"k=20*10^3\n",
"//Rpm of engine:\n",
"N=2000\n",
"//Percentage power lost:\n",
"r=0.10\n",
"//Stroke length(in m):\n",
"L=r1*D\n",
"//Length of indicator diagram(in m):\n",
"l=L/2\n",
"//Mep(in N/m^2):\n",
"mep=A*k*10^3/l\n",
"//Cross-sectional area of piston(in m^2):\n",
"A2=%pi*D^2/4\n",
"//Total indicated power for 4 cylinders(in W):\n",
"IP=4*mep*A2*L*N/(2*60)\n",
"//Fricitional loss(in W):\n",
"FP=r*IP\n",
"//Brake power available(in W):\n",
"BP=IP-FP\n",
"//Mechanical efficiency:\n",
"nm=BP/IP*100\n",
"printf('\n RESULT \n')\n",
"printf('\nIndicated power = %f W',IP)\n",
"printf('\nMechanical efficiency = %f percent',nm)"
   ]
   }
,
{
		   "cell_type": "markdown",
		   "metadata": {},
		   "source": [
			"## Example 17.02: Power_required_to_drive.sce"
		   ]
		  },
  {
"cell_type": "code",
	   "execution_count": null,
	   "metadata": {
	    "collapsed": true
	   },
	   "outputs": [],
"source": [
"//pathname=get_absolute_file_path('17.02.sce')\n",
"//filename=pathname+filesep()+'17.02-data.sci'\n",
"//exec(filename)\n",
"//Indicator diagram area & length(in m^2 & m):\n",
"A=40*10^(-4)\n",
"l=0.08\n",
"//Bore(in m):\n",
"D=0.15\n",
"//Stroke(in m):\n",
"L=0.20\n",
"//Rpm of motor:\n",
"N=100\n",
"//Spring constant(in Pa/m):\n",
"k=1.5*10^8\n",
"//Mep(in Pa):\n",
"mep=A*k/l\n",
"//Indicated power(in kW):\n",
"IP=(%pi*D^2/4*L*mep*N/60*2)/10^3\n",
"printf('\n RESULT \n')\n",
"printf('\nPower required to drive =%f kW',IP)"
   ]
   }
,
{
		   "cell_type": "markdown",
		   "metadata": {},
		   "source": [
			"## Example 17.03: Indicated_power.sce"
		   ]
		  },
  {
"cell_type": "code",
	   "execution_count": null,
	   "metadata": {
	    "collapsed": true
	   },
	   "outputs": [],
"source": [
"//pathname=get_absolute_file_path('17.03.sce')\n",
"//filename=pathname+filesep()+'17.03-data.sci'\n",
"//exec(filename)\n",
"//Mechanical efficiency:\n",
"nm=0.90\n",
"//Rating(in kW):\n",
"BP=38\n",
"//Indicated power(in kW):\n",
"IP=BP/nm\n",
"//Fricitional loss(in kW):\n",
"FP=IP-BP\n",
"//Brake power at quater load(in kW):\n",
"BP1=0.25*BP\n",
"//Mechanical efficiency:\n",
"nm1=BP1/(BP1+FP)*100\n",
"printf('\n RESULT \n')\n",
"printf('\nIndicated power = %f W',IP)\n",
"printf('\nFricitonal power loss = %f kw',FP)\n",
"printf('\nMechanical efficiency = %f percent',nm1)"
   ]
   }
,
{
		   "cell_type": "markdown",
		   "metadata": {},
		   "source": [
			"## Example 17.04: Brake_power_and_fuel_consumption.sce"
		   ]
		  },
  {
"cell_type": "code",
	   "execution_count": null,
	   "metadata": {
	    "collapsed": true
	   },
	   "outputs": [],
"source": [
"//pathname=get_absolute_file_path('17.04.sce')\n",
"//filename=pathname+filesep()+'17.04-data.sci'\n",
"//exec(filename)\n",
"//Specific fuel consumption(in kg/kW.h):\n",
"m1=0.25\n",
"//Brake mean effective pressure(in kPa):\n",
"pbmep=1.5*10^3\n",
"//Speed of engine(in rpm):\n",
"N=100\n",
"//Bore of cylinder(in m):\n",
"D=0.85\n",
"//Stroke(in m):\n",
"L=2.20\n",
"//Calorific value of diesel(in kJ/kg):\n",
"C=43*10^3\n",
"//Brake power of engine(in kW):\n",
"BP=pbmep*L*(%pi*D^2/4)*N/60\n",
"printf('\n RESULT \n')\n",
"printf('\nBrake power = %f MW',BP/100)\n",
"//Fuel consumption(in kg/hr):\n",
"m=m1*BP\n",
"//Heat from fuel(in kJ/s):\n",
"q=m*C/3600\n",
"//Brake thermal efficiency:\n",
"nb=BP/q*100\n",
"printf('\nFuel consumption rate = %f kg/hr',m)\n",
"printf('\nBrake thermal efficiency = %f percent',nb) "
   ]
   }
,
{
		   "cell_type": "markdown",
		   "metadata": {},
		   "source": [
			"## Example 17.05: Volumetric_efficiency.sce"
		   ]
		  },
  {
"cell_type": "code",
	   "execution_count": null,
	   "metadata": {
	    "collapsed": true
	   },
	   "outputs": [],
"source": [
"//pathname=get_absolute_file_path('17.05.sce')\n",
"//filename=pathname+filesep()+'17.05-data.sci'\n",
"//exec(filename)\n",
"//Effective pressure(in kPa):\n",
"pb=6*10^2\n",
"//Speed:\n",
"N=600\n",
"//Specific fuel consumption(in kg/kW.h)\n",
"m1=0.25\n",
"//BOre(in m):\n",
"D=0.20\n",
"//Stroke length(in m):\n",
"L=0.30\n",
"//Air fuel ratio:\n",
"r=26\n",
"//Calorific value(in kJ/kg):\n",
"C=43*10^3\n",
"//Gas constant(in kJ/kg.K):\n",
"R=0.287\n",
"//Ambient conditions:\n",
"p=1*10^2 //kPa\n",
"T=300 //K\n",
"//Brake thermal efficiency:\n",
"nb=3600/(m1*C)*100\n",
"printf('\n RESULT \n')\n",
"printf('\nBrake thermal efficiency = %f percent',nb)\n",
"//Brake power(in kW):\n",
"BP=4*pb*L*(%pi*D^2/4)*N/60\n",
"printf('\nBrake power = %f kW',BP)\n",
"//Air consumption rate(in kg/min):\n",
"ma=m1*BP*r/60\n",
"//Volume(in m^3/min):\n",
"Va=ma*R*T/p\n",
"//Swept volume(in m^3):\n",
"Vs=%pi*(0.3)^2*0.4/4\n",
"//Volumetric efficiency:\n",
"nv=Va/(Vs*N/2*4)*100\n",
"printf('\nVolumetric efficiency = %f percent',nv)"
   ]
   }
,
{
		   "cell_type": "markdown",
		   "metadata": {},
		   "source": [
			"## Example 17.06: Brake_power_required.sce"
		   ]
		  },
  {
"cell_type": "code",
	   "execution_count": null,
	   "metadata": {
	    "collapsed": true
	   },
	   "outputs": [],
"source": [
"//pathname=get_absolute_file_path('17.06.sce')\n",
"//filename=pathname+filesep()+'17.06-data.sci'\n",
"//exec(filename)\n",
"//Volumetric efficiency\n",
"n=0.7\n",
"//Air fuel ratio:\n",
"r=19\n",
"//Speed(in rpm):\n",
"N=3000\n",
"//Fuel consumption rate(in litres/hr):\n",
"m=5\n",
"//Specific gravity:\n",
"sg=0.7\n",
"//Piston speed(in m/min):\n",
"s=500\n",
"//Mep(in kPa):\n",
"p=6*10^2\n",
"//Gas constant(in kJ/kg.K):\n",
"R=0.287\n",
"//Mechanical efficiency:\n",
"nm=0.8\n",
"//Stroke length(in m):\n",
"L=s/(2*N)\n",
"//Air requirement(in kg/min):\n",
"ma=r*m*sg/60\n",
"//Volume of air sucked(in m^3/min):\n",
"Va=ma*R*288/(1.013*10^2)\n",
"//Bore diameter(in m):\n",
"D=sqrt(Va*4/(%pi*L*N*2*n))\n",
"//Indicated power(in kW):\n",
"IP=p*L*(%pi*D^2/4*N*2)/60\n",
"//Brake power(in kW):\n",
"BP=IP*nm\n",
"printf('\n RESULT \n')\n",
"printf('\nBrake power = %f W',BP)"
   ]
   }
,
{
		   "cell_type": "markdown",
		   "metadata": {},
		   "source": [
			"## Example 17.07: Brake_power_and_indicated_power.sce"
		   ]
		  },
  {
"cell_type": "code",
	   "execution_count": null,
	   "metadata": {
	    "collapsed": true
	   },
	   "outputs": [],
"source": [
"//pathname=get_absolute_file_path('17.07.sce')\n",
"//filename=pathname+filesep()+'17.07-data.sci'\n",
"//exec(filename)\n",
"//Friction power(in kW):\n",
"FP=5\n",
"//Rpm:\n",
"N=3000\n",
"//Bore(in m):\n",
"D=0.20\n",
"//Stroke(in m):\n",
"L=0.30\n",
"//Fuel supplied at rate(in kg/min):\n",
"m=0.15\n",
"//Load(in kg):\n",
"F=20\n",
"//Radius(in m):\n",
"r=0.5\n",
"//Calorific value of fuel(in kJ/kg):\n",
"C=43000\n",
"//Acceleration due to gravity(in m/s^2):\n",
"g=9.81\n",
"//Brake power(in kW):\n",
"BP=2*%pi*N*(F*g*r*10^(-3))/60\n",
"//Indicated power(in kW):\n",
"IP=BP+FP\n",
"//Mechanical efficiency:\n",
"nm=BP/IP\n",
"//BSFC(in kg/kW.hr):\n",
"BSFC=m*60/BP\n",
"//Brake thermal efficiency:\n",
"nbth=3600/(BSFC*C)*100\n",
"//Indicated thermal efficiency:\n",
"nith=nbth/nm\n",
"//Indicated mep(in kPa):\n",
"Pimep=IP/(L*(%pi*D^2/4)*N/60)\n",
"//Brake mep(in kPa):\n",
"Pbmep=Pimep*nm\n",
"printf('\n RESULT \n')\n",
"printf('\nBrake power = %f W',BP)\n",
"printf('\nIndicated power = %f kW',IP)\n",
"printf('\nMechanical efficiency = %f percent',nm*100)\n",
"printf('\nBrake thermal efficiency = %f percent',nbth)\n",
"printf('\nIndicated thermal efficiency = %f percent',nith)\n",
"printf('\nBrake mean effective pressure = %f kPa',Pbmep)\n",
"printf('\nIndicated mean effective pressure = %f kPa',Pimep)"
   ]
   }
,
{
		   "cell_type": "markdown",
		   "metadata": {},
		   "source": [
			"## Example 17.08: Indicated_power_and_volumetric_efficiency.sce"
		   ]
		  },
  {
"cell_type": "code",
	   "execution_count": null,
	   "metadata": {
	    "collapsed": true
	   },
	   "outputs": [],
"source": [
"//pathname=get_absolute_file_path('17.08.sce')\n",
"//filename=pathname+filesep()+'17.08-data.sci'\n",
"//exec(filename)\n",
"//Speed(in rpm):\n",
"N=300\n",
"//Brake power(in kW):\n",
"BP=250\n",
"//Bore diameter(in m):\n",
"D=0.30\n",
"//Stroke length(in m):\n",
"L=0.25\n",
"//Fuel consumption rate(in kg/min):\n",
"m=1\n",
"//Air fuel ratio:\n",
"r=10\n",
"//Calorific value of fuel(in kJ/kg):\n",
"C=43000\n",
"//Indicated mep(in kPa):\n",
"Pimep=0.8*10^3\n",
"//Gas constant(in kJ/kg.K):\n",
"R=0.287\n",
"//Indicated power(in kW):\n",
"IP=Pimep*L*(%pi*D^2/4)*N*4/60\n",
"//Mechanical efficiency:\n",
"nm=BP/IP\n",
"//BSFC(in kg/kW.hr):\n",
"BSFC=m*60/BP\n",
"//Brake thermal efficiency:\n",
"nbth=3600/(BSFC*C)*100\n",
"//Swept volume(in m^3):\n",
"Vs=%pi*D^2*L/4\n",
"//Mass of air(in kg):\n",
"ma=(1.013*10^2*Vs)/(R*300)\n",
"//Volumetric efficiency:\n",
"nv=m*r/(ma*4*N/2)*100\n",
"printf('\n RESULT \n')\n",
"printf('\nIndicated power = %f kW',IP)\n",
"printf('\nMechanical efficiency = %f percent',nm*100)\n",
"printf('\nBrake thermal efficiency = %f percent',nbth)\n",
"printf('\nVolumetric efficiency = %f percent',nv)"
   ]
   }
,
{
		   "cell_type": "markdown",
		   "metadata": {},
		   "source": [
			"## Example 17.09: Brake_power_and_indicated_power.sce"
		   ]
		  },
  {
"cell_type": "code",
	   "execution_count": null,
	   "metadata": {
	    "collapsed": true
	   },
	   "outputs": [],
"source": [
"//pathname=get_absolute_file_path('17.09.sce')\n",
"//filename=pathname+filesep()+'17.09-data.sci'\n",
"//exec(filename)\n",
"//Indicator constant(in kN/m^2):\n",
"k=25\n",
"//Rpm:\n",
"N=300\n",
"//Swept volume(in m^3):\n",
"Vs=1.5*10^(-2)\n",
"//Load(in kg):\n",
"F=60\n",
"//Radius(in m):\n",
"r=0.5\n",
"//Calorific value of fuel(in kJ/kg):\n",
"C=43000\n",
"//Acceleration due to gravity(in m/s^2):\n",
"g=9.81\n",
"//Fuel supplied at rate(in kg/min):\n",
"m=0.12\n",
"//Indicatedmep(in kPa):\n",
"Pimep=10*k\n",
"//Indicated power(in kW):\n",
"IP=Pimep*Vs*N/(2*60)\n",
"//Brake power(in kW):\n",
"BP=2*%pi*N/(2*60)*(F*g*r)*10^(-3)\n",
"//Mechanical efficiency:\n",
"nm=BP/IP\n",
"printf('\n RESULT \n')\n",
"printf('\nBrake power = %f W',BP)\n",
"printf('\nIndicated power = %f kW',IP)\n",
"printf('\nMechanical efficiency = %f percent',nm*100)"
   ]
   }
,
{
		   "cell_type": "markdown",
		   "metadata": {},
		   "source": [
			"## Example 17.10: Indicated_thermal_efficiency.sce"
		   ]
		  },
  {
"cell_type": "code",
	   "execution_count": null,
	   "metadata": {
	    "collapsed": true
	   },
	   "outputs": [],
"source": [
"//pathname=get_absolute_file_path('17.10.sce')\n",
"//filename=pathname+filesep()+'17.10-data.sci'\n",
"//exec(filename)\n",
"//Speed of engine(in rpm):\n",
"N=1500\n",
"//Brake torque(in Nm):\n",
"T=300\n",
"//Fuel consumed(in kg):\n",
"m=4\n",
"//Cooling water circulated(in kg/min):\n",
"m1=15\n",
"//Calorific value of fuel(in kJ/kg):\n",
"C=42000\n",
"//Mechanical efficiency:\n",
"nm=0.90\n",
"//Brake power(in kW):\n",
"BP=2*%pi*N*T/(60*10^3)\n",
"printf('\n RESULT \n')\n",
"printf('\nBrake power = %f W',BP)\n",
"//BSFC(in kg/kW.hr):\n",
"BSFC=m*60/(m1*BP)\n",
"printf('\nBrake specific fuel consumption = %f kg/kW.hr',BSFC)\n",
"//Indicated power(in kW):\n",
"IP=BP/nm\n",
"//Indicated thermal efficiency:\n",
"nith=IP/(m*C/(m1*60))*100\n",
"printf('\nIndicated thermal efficiency = %f percent',nith)"
   ]
   }
],
"metadata": {
		  "kernelspec": {
		   "display_name": "Scilab",
		   "language": "scilab",
		   "name": "scilab"
		  },
		  "language_info": {
		   "file_extension": ".sce",
		   "help_links": [
			{
			 "text": "MetaKernel Magics",
			 "url": "https://github.com/calysto/metakernel/blob/master/metakernel/magics/README.md"
			}
		   ],
		   "mimetype": "text/x-octave",
		   "name": "scilab",
		   "version": "0.7.1"
		  }
		 },
		 "nbformat": 4,
		 "nbformat_minor": 0
}
