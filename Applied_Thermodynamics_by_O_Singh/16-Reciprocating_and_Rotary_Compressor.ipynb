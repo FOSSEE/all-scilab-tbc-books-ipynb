{
"cells": [
 {
		   "cell_type": "markdown",
	   "metadata": {},
	   "source": [
       "# Chapter 16: Reciprocating and Rotary Compressor"
	   ]
	},
{
		   "cell_type": "markdown",
		   "metadata": {},
		   "source": [
			"## Example 16.01: Isothermal_efficiency.sce"
		   ]
		  },
  {
"cell_type": "code",
	   "execution_count": null,
	   "metadata": {
	    "collapsed": true
	   },
	   "outputs": [],
"source": [
"//pathname=get_absolute_file_path('16.01.sce')\n",
"//filename=pathname+filesep()+'16.01-data.sci'\n",
"//exec(filename)\n",
"//Bore diameter(in m):\n",
"d=0.24\n",
"//Stroke length(in m):\n",
"l=0.36\n",
"//Compression ratio:\n",
"r=6\n",
"//Speed(in rpm):\n",
"N=120\n",
"//Index of polytropic process:\n",
"n=1.3\n",
"//Index for adiabatic process:\n",
"n1=1.4\n",
"//Pressure at state 1(in kPa):\n",
"p1=1*10^2\n",
"//Stroke volume(in m^3):\n",
"V=%pi*d^2*l/4\n",
"//Volume of air compressed per minute(in m^3/min):\n",
"v=V*N\n",
"//Mep in isothermal process(in kPa):\n",
"mepiso=p1*log(r)\n",
"//Mep in polytropic process(in kPa):\n",
"meppoly=(n/(n-1))*p1*((r)^((n-1)/n)-1)\n",
"//Mep in adiabatic process(in kPa):\n",
"mepadi=(n1/(n1-1))*p1*((r)^((n1-1)/n1)-1)\n",
"//HP for isothermal process:\n",
"HPiso=mepiso*v/(0.7457*60)\n",
"//HP for isothermal process:\n",
"HPpoly=meppoly*v/(0.7457*60)\n",
"//HP for isothermal process:\n",
"HPadi=mepadi*v/(0.7457*60)\n",
"//Isothermal efficiency for polytropic process:\n",
"npoly=HPiso/HPpoly*100\n",
"//Isothermal efficiency for adiabatic process:\n",
"nadi=HPiso/HPadi*100\n",
"printf('\n RESULT \n')\n",
"printf('\nMep : %f kPa for isothermal, %f kPa for polytropic process',mepiso,meppoly)\n",
"printf('\nHP required : %f HP for isothermal, %f HP for polytropic',HPiso,HPpoly)\n",
"printf('\nIsothermal efficiency : %f percent for polytropic process, %f percent for adiabatic process',npoly,nadi)"
   ]
   }
,
{
		   "cell_type": "markdown",
		   "metadata": {},
		   "source": [
			"## Example 16.02: Rating_of_drive.sce"
		   ]
		  },
  {
"cell_type": "code",
	   "execution_count": null,
	   "metadata": {
	    "collapsed": true
	   },
	   "outputs": [],
"source": [
"//pathname=get_absolute_file_path('16.02.sce')\n",
"//filename=pathname+filesep()+'16.02-data.sci'\n",
"//exec(filename)\n",
"//Pressure of air entering(in kPa):\n",
"p1=1*10^2\n",
"//Index of compression:\n",
"n=1.2\n",
"//Delivery pressure(in kPa):\n",
"p2=12*10^2\n",
"//Speed(in rpm):\n",
"N=240\n",
"//Initial temperature(in K):\n",
"T1=20+273\n",
"//L/D ratio:\n",
"r1=1.8\n",
"//Mechanical efficiency:\n",
"nm=0.88\n",
"V1=1 //m^3\n",
"//Gas constant(in kJ/kg.K):\n",
"R=0.287\n",
"//Mass of air delivered per minute:\n",
"m=p1*V1/(R*T1)\n",
"//Temperature at the end of compression(in K)\n",
"T2=T1*(p2/p1)^((n-1)/n)\n",
"//Work required during compression process(in kJ/min):\n",
"W=(n/(n-1))*m*R*(T2-T1)\n",
"//Capacity of drive required to run compressor(in hp):\n",
"C=W/nm\n",
"//Isothermal work required for same compression(in kJ/min):\n",
"Wiso=m*R*T1*log(p2/p1)\n",
"//Isothermal efficiency:\n",
"niso=Wiso/W*100\n",
"//Volume of aur entering per cycle:\n",
"v=1/N\n",
"//Bore diameter(in cm):\n",
"D=(v*4/(%pi*r1))^(1/3)*100\n",
"//Stroke length(in cm):\n",
"L=r1*D\n",
"printf('\n RESULT \n')\n",
"printf('\nIsothermal efficiency = %f percent',niso)\n",
"printf('\nCylinder dimension, D = %f cm',D)\n",
"printf('\n                    L = %f cm',L)\n",
"printf('\nRating of drive = %f hp',C)"
   ]
   }
,
{
		   "cell_type": "markdown",
		   "metadata": {},
		   "source": [
			"## Example 16.03: Isothermal_efficiency.sce"
		   ]
		  },
  {
"cell_type": "code",
	   "execution_count": null,
	   "metadata": {
	    "collapsed": true
	   },
	   "outputs": [],
"source": [
"//pathname=get_absolute_file_path('16.03.sce')\n",
"//filename=pathname+filesep()+'16.03-data.sci'\n",
"//exec(filename)\n",
"//Compression ratio:\n",
"r=7\n",
"//L/D ratio:\n",
"r1=1.2\n",
"//Speed(in rpm):\n",
"N=240\n",
"//Pressure(in bar):\n",
"p1=0.97\n",
"p2=r*p1\n",
"//Temperature(in K):\n",
"T1=35+273\n",
"//Volume(in m^3):\n",
"V=20\n",
"V3=0.05\n",
"V1=1.05\n",
"//Gas constant(in kJ/kg.K):\n",
"R=0.287\n",
"//Index of compression:\n",
"n=1.25\n",
"//Mass of air delivered(in kg/min):\n",
"m=10^2*V/(R*300)\n",
"//Temperature at state 2(in K):\n",
"T2=T1*r^((n-1)/n)\n",
"//Volume at state 4(in m^3):\n",
"V4=V3*r^(1/n)\n",
"//Volumetric efficiency:\n",
"nv=p1*300/T1*(V1-V4)*100\n",
"printf('\n RESULT \n')\n",
"printf('\nVolumetric efficiency = %f percent',nv)\n",
"//Swept volume(in m^3/cycle):\n",
"Vs=V/(4*N)\n",
"//Bore(in m):\n",
"D=(Vs*4/(%pi*r1))^(1/3)\n",
"//Stroke(in m):\n",
"L=r1*D\n",
"printf('\nBore = %f cm',D*100)\n",
"printf('\nStroke = %f cm',L*100)\n",
"//Work required in reciprocating compressor(in hp):\n",
"W=n/(n-1)*m*R*(T2-T1)/(60*0.7457)\n",
"//Work done in isothermal process(in hp):\n",
"Wiso=m*R*T1*log(r)/(60*0.7457)\n",
"//Isothermal efficiency:\n",
"ni=Wiso/W*100\n",
"printf('\nIsothermal efficiency = %f percent',ni)"
   ]
   }
,
{
		   "cell_type": "markdown",
		   "metadata": {},
		   "source": [
			"## Example 16.04: Volumetric_efficiency.sce"
		   ]
		  },
  {
"cell_type": "code",
	   "execution_count": null,
	   "metadata": {
	    "collapsed": true
	   },
	   "outputs": [],
"source": [
"pathname=get_absolute_file_path('16.04.sce')\n",
"filename=pathname+filesep()+'16.04-data.sci'\n",
"exec(filename)\n",
"//Volume corresponding to suction condition(in m^3/min):\n",
"V1=pa*T1*Va/(p1*Ta)\n",
"//Compression work(in hp):\n",
"W=n/(n-1)*p1*10^2*V1*((p2/p1)^((n-1)/n)-1)/(60*0.7457)\n",
"//Power input required(in hp):\n",
"W1=W/nm\n",
"printf('\n RESULT \n')\n",
"printf('\nPower input = %f hp',W1)\n",
"//Volumetric efficiency:\n",
"nv=p1*Ta/(pa*T1)*(1+C-C*(p2/p1)^(1/n))\n",
"//Stroke volume per cycle(in m^3/cycle):\n",
"Vs=Va/(2*N)\n",
"//Actual stroke volume(in m^3/cycle):\n",
"Vsa=Vs/nv\n",
"//Bore(in m):\n",
"D=(Vsa*4/(%pi*r1))^(1/3)\n",
"//Stroke(in m):\n",
"L=r1*D\n",
"printf('\nBore = %f cm',D*100)\n",
"printf('\nStroke = %f cm',L*100)\n",
"printf('\nVolumetric efficiency = %f percent',nv*100)"
   ]
   }
,
{
		   "cell_type": "markdown",
		   "metadata": {},
		   "source": [
			"## Example 16.05: Percentage_excess_work.sce"
		   ]
		  },
  {
"cell_type": "code",
	   "execution_count": null,
	   "metadata": {
	    "collapsed": true
	   },
	   "outputs": [],
"source": [
"//pathname=get_absolute_file_path('16.05.sce')\n",
"//filename=pathname+filesep()+'16.05-data.sci'\n",
"//exec(filename)\n",
"//Atmospheric pressure(in kPa):\n",
"p=10^2\n",
"p1=1\n",
"p3=8\n",
"//Temperature(in K):\n",
"Ta=300\n",
"T1=Ta\n",
"T2a=273+30\n",
"Va=4\n",
"V1=Va\n",
"//Gas constant(in kJ/kg.K):\n",
"R=0.287\n",
"//Index of compression:\n",
"n=1.2\n",
"//Mass of air compressed(in kg/min):\n",
"m=p*Va/(R*Ta)\n",
"//Work input(in hp):\n",
"Wi=n/(n-1)*p1*10^2*Va*((p3/p1)^((n-1)/n)-1)/(60*0.7457)\n",
"//Optimum intercooling pressure(in bar):\n",
"p2=sqrt(p1*p3)\n",
"//Work input for 2nd stage compression(in hp):\n",
"Wii=2*n/(n-1)*p1*10^2*Va*((p3/p1)^((n-1)/(2*n))-1)/(60*0.7457)\n",
"Wii=20.29\n",
"//Volume of air inlet of HP cylinder(in  m^3/min):\n",
"V2a=p1*V1/T1*T2a/p2\n",
"//Work required(in hp):\n",
"W2=n/(n-1)*p1*10^2*V1*((p2/p1)^((n-1)/n)-1)/(60*0.7457)+n/(n-1)*p2*10^2*V2a*((p3/p2)^((n-1)/n)-1)/(60*0.7457)\n",
"W2=20.42\n",
"//Percentage saving in work:\n",
"ps=(Wi-Wii)/Wi*100\n",
"printf('\n RESULT \n')\n",
"printf('\nPercentage saving in work = %f percent',ps)\n",
"//% excess work to be done:\n",
"pe=(W2-Wii)/W2*100\n",
"printf('\nPercentage excess work to be done = %f percent',pe)"
   ]
   }
,
{
		   "cell_type": "markdown",
		   "metadata": {},
		   "source": [
			"## Example 16.06: Work_input.sce"
		   ]
		  },
  {
"cell_type": "code",
	   "execution_count": null,
	   "metadata": {
	    "collapsed": true
	   },
	   "outputs": [],
"source": [
"//pathname=get_absolute_file_path('16.06.sce')\n",
"//filename=pathname+filesep()+'16.06-data.sci'\n",
"//exec(filename)\n",
"//Rate at which air is delivered(in m^3/min):\n",
"m=2\n",
"//Initial pressure(in bar):\n",
"p1=1\n",
"T1=300 //K\n",
"p=150 //bar\n",
"//Polytropic index of compression:\n",
"n=1.25\n",
"p2=3.5\n",
"p3=12.25\n",
"p4=42.87\n",
"//Gas constant(in kJ/kg.K):\n",
"R=0.287\n",
"printf('\n RESULT \n')\n",
"printf('\nIntermediate pressure: %f bar, %f bar, %f bar',p2,p3,p4)\n",
"//Temperature at the end of fourth stage(in K):\n",
"T=T1*(p2/p1)^((n-1)/n)\n",
"//Mass of air(in kg):\n",
"m=p*10^2*2/(R*T)\n",
"//Work required(in kW):\n",
"W=n/(n-1)*m*R*T1*((p2/p1)^((n-1)/n)-1)*4/(60*0.7457)\n",
"printf('\nWork input = %f hp',W)"
   ]
   }
,
{
		   "cell_type": "markdown",
		   "metadata": {},
		   "source": [
			"## Example 16.07: Work_output.sce"
		   ]
		  },
  {
"cell_type": "code",
	   "execution_count": null,
	   "metadata": {
	    "collapsed": true
	   },
	   "outputs": [],
"source": [
"//pathname=get_absolute_file_path('16.07.sce')\n",
"//filename=pathname+filesep()+'16.07-data.sci'\n",
"//exec(filename)\n",
"//Pressures(in bar):\n",
"p1=1\n",
"p2=4\n",
"p3=16\n",
"//Index of compression:\n",
"n=1.3\n",
"//Gas constant(in kJ/kg.K):\n",
"R=0.287\n",
"//Temperature(in K):\n",
"T1=17+273\n",
"//Volumetric efficiency:\n",
"nv=0.90\n",
"//Bore diameters(in m):\n",
"Dhp=0.06\n",
"Dlp=0.12\n",
"//Work required(in kJ/kg):\n",
"W=n/(n-1)*R*T1*((p2/p1)^((n-1)/n)+(p3/p2)^((n-1)/n)-2)\n",
"printf('\n RESULT \n')\n",
"printf('\nWork = %f kJ/kg',W)"
   ]
   }
,
{
		   "cell_type": "markdown",
		   "metadata": {},
		   "source": [
			"## Example 16.08: Isothermal_efficiency.sce"
		   ]
		  },
  {
"cell_type": "code",
	   "execution_count": null,
	   "metadata": {
	    "collapsed": true
	   },
	   "outputs": [],
"source": [
"//pathname=get_absolute_file_path('16.08.sce')\n",
"//filename=pathname+filesep()+'16.08-data.sci'\n",
"//exec(filename)\n",
"//Speed(in rpm):\n",
"N=200\n",
"//Mass flow rate(in kg/min):\n",
"m=4\n",
"//Pressure(in bar):\n",
"p1=1\n",
"p6=25\n",
"//Temperatures(in K):\n",
"T1=17+273\n",
"T5=T1\n",
"//Clearance volumes:\n",
"Clp=0.04\n",
"Chp=0.05\n",
"//Index of compression:\n",
"n=1.25\n",
"//Gas constant(in kJ/kg.K):\n",
"R=0.287\n",
"//Specific heat(in kJ/kg.K):\n",
"Cp=1.0032\n",
"//Pressure ratio:\n",
"r=sqrt(p6/p1)\n",
"//Temperature at state 2(in K):\n",
"T2=T1*r^((n-1)/n)\n",
"//Temperature at state 6(in K):\n",
"T6=T5*r^((n-1)/n)\n",
"//Actual compression work requirement(in kJ/min):\n",
"W=2*n/(n-1)*m*R*T1*(r^((n-1)/n)-1)\n",
"//Work required if process is isothermal(in kJ/min):\n",
"Wi=m*R*T1*log(p6/p1)\n",
"//Isothermal efficiency:\n",
"ni=Wi/W\n",
"//Free air delivered(in m^3/min):\n",
"Vf=m*R*T1/(p1*10^2)\n",
"//Heat transferred in HP & LP cylinder(in kJ/min):\n",
"Q=W/2-m*Cp*(T2-T1)\n",
"//Volumetric efficiency of HP cylinder:\n",
"nvhp=1+Chp-Chp*r^(1/n)\n",
"//Volumetric efficiency of LP cylinder:\n",
"nvlp=1+Clp-Clp*r^(1/n)\n",
"//Stroke volume of HP cylinder(in m^3):\n",
"Vshp=Vf/(r*N*nvhp)\n",
"//Clearance volume Of HP cylinder(in m^3):\n",
"Vchp=Chp*Vshp\n",
"//Total HP cylinder volume(in m^3):\n",
"Vthp=Vshp+Vchp\n",
"//Stroke volume of LP cylinder(in m^3):\n",
"Vslp=Vf/(N*nvlp)\n",
"//Clearance volume of LP cylinder(in m^3):\n",
"Vclp=Clp*Vslp\n",
"//Total LP cylinder volume(in m^3):\n",
"Vtlp=Vslp+Vclp\n",
"printf('\n RESULT \n')\n",
"printf('\nPower required = %f hp',W/(60*0.7457))\n",
"printf('\nIsothermal efficiency = %f percent',ni*100)\n",
"printf('\nFree air delivered = %f m^3/min',Vf)\n",
"printf('\nHeat transferred in HP & LP cylinder = %f kJ/min',Q)\n",
"printf('\nHP cylinder volume = %f m^3',Vthp)\n",
"printf('\nLP cylinder volume = %f m^3',Vtlp)"
   ]
   }
,
{
		   "cell_type": "markdown",
		   "metadata": {},
		   "source": [
			"## Example 16.09: Heat_rejected_in_intercooler.sce"
		   ]
		  },
  {
"cell_type": "code",
	   "execution_count": null,
	   "metadata": {
	    "collapsed": true
	   },
	   "outputs": [],
"source": [
"//pathname=get_absolute_file_path('16.09.sce')\n",
"//filename=pathname+filesep()+'16.09-data.sci'\n",
"//exec(filename)\n",
"//Speed(in rpm):\n",
"N=200\n",
"//Index of compression:\n",
"n=1.2\n",
"//Gas constant(in kJ/kg.K):\n",
"R=0.287\n",
"//Specific heat(in kJ/kg.K):\n",
"Cp=1.0032\n",
"//Bore(in m):\n",
"D=0.30\n",
"//Stroke(in m):\n",
"L=0.40\n",
"//Clearance volume:\n",
"C=0.05\n",
"//Pressure(in bar):\n",
"p1=1\n",
"p5=2.9\n",
"p6=9\n",
"//Temperatures(in K):\n",
"T1=25+273\n",
"T5=T1\n",
"//Optimum intercooling pressure(in bar):\n",
"p2=sqrt(p6/p1)\n",
"//Volume of LP cylinder(in m^3/min):\n",
"Vlp=%pi*D^2/4*L*N*2\n",
"//Volumetric efficiency:\n",
"nvlp=1+C-C*(p2/p1)^(1/n)\n",
"//Volume of air inhaled in LP stage(in m^3/min):\n",
"V1=Vlp*nvlp\n",
"//Mass of air per minute(in kg/min):\n",
"m=p1*10^2*V1/(R*T1)\n",
"//Temperature after compression(in K):\n",
"T2=T1*(p2/p1)^((n-1)/n)\n",
"//Volume of air going into HP cylinder(in m^3/min):\n",
"V5=m*R*T5/(p5*10^2)\n",
"nvhp=nvlp\n",
"//Volume of HP cylinder(in m^3/min):\n",
"Vhp=V5/nvhp\n",
"//Diameter of bore(in m):\n",
"Dhp=sqrt(Vhp*4/(%pi*L*2*N))\n",
"//Heat rejected in intercooler(in kJ/min):\n",
"Q=m*Cp*(T2-T5)\n",
"//Temperature at state 6(in K):\n",
"T6=T5*(p6/p5)^((n-1)/n)\n",
"//Work input required for HP stage(in kJ/min):\n",
"Whp=n/(n-1)*m*R*(T6-T5)/(60*0.7457)\n",
"printf('\n RESULT \n')\n",
"printf('\nHeat rejected in intercooler = %f kJ/min',Q)\n",
"printf('\nBore of HP cylinder = %f cm',Dhp*100)\n",
"printf('\nHorse power required to drive HP stage = %f hp',Whp)"
   ]
   }
,
{
		   "cell_type": "markdown",
		   "metadata": {},
		   "source": [
			"## Example 16.10: Free_air_delivery.sce"
		   ]
		  },
  {
"cell_type": "code",
	   "execution_count": null,
	   "metadata": {
	    "collapsed": true
	   },
	   "outputs": [],
"source": [
"//pathname=get_absolute_file_path('16.10.sce')\n",
"//filename=pathname+filesep()+'16.10-data.sci'\n",
"//exec(filename)\n",
"//Barometer reading(in cm):\n",
"h=75.6\n",
"//Density of mercury(in kg/cm^3):\n",
"d=0.013591\n",
"//Diameter of orifice(in m):\n",
"d1=15*10^(-3)\n",
"//Coefficient of discharge:\n",
"r1=0.65\n",
"//Acceleration due to gravity(in m/s^2):\n",
"g=9.81\n",
"//Atmospheric temperature(in K):\n",
"T=25+273\n",
"//Manometer reading(in cm):\n",
"h1=13\n",
"//Cross-sectional area of orifice(in m^2):\n",
"A=%pi*d1^2/4\n",
"//Atmospheric pressure(in kPa):\n",
"p=h*d*g*10\n",
"//Specific volume at atmospheric conditions(in m^3/kg):\n",
"v=(R*T)/p\n",
"//Density of air(in kg/m^3):\n",
"da=1/v\n",
"//Pressure difference across orifice(in kPa):\n",
"pd=h1*d*g*10\n",
"//Height of air column(in m):\n",
"ha=pd*10^3/(da*g)\n",
"//Free air delivery(in m^3/min):\n",
"f=r1*A*sqrt(2*g*ha)*60\n",
"printf('\n RESULT \n')\n",
"printf('\nFree air delivery = %f m^3/min',f)"
   ]
   }
,
{
		   "cell_type": "markdown",
		   "metadata": {},
		   "source": [
			"## Example 16.11: Shaft_output.sce"
		   ]
		  },
  {
"cell_type": "code",
	   "execution_count": null,
	   "metadata": {
	    "collapsed": true
	   },
	   "outputs": [],
"source": [
"//pathname=get_absolute_file_path('16.11.sce')\n",
"//filename=pathname+filesep()+'16.11-data.sci'\n",
"//exec(filename)\n",
"//Bore(in m):\n",
"D=0.10\n",
"//Stroke(in m):\n",
"L=0.08\n",
"//Speed(in rpm):\n",
"N=500\n",
"//Acceleration due to gravity(in m/s^2):\n",
"g=9.81\n",
"//Atmospheric temperature(in K):\n",
"T=27+273\n",
"//Radius of arm of spring balance(in m):\n",
"r=0.30\n",
"//Mechanical efficiency:\n",
"nm=0.90\n",
"//Free air delivery(in m^3/min):\n",
"f=15/60\n",
"//Volume of cylinder(in m^3):\n",
"V=%pi*D^2*L/4\n",
"//Volumetric efficiency:\n",
"nv=f/(V*N)*100\n",
"printf('\n RESULT \n')\n",
"printf('\nVolumetric efficiency = %f percent',nv)\n",
"//Shaft output(in hp):\n",
"W=2*%pi*N*100*g*r*10^(-3)/(60*0.7457)\n",
"//Shaft output per m^3 of free air per min:\n",
"W1=W/f\n",
"printf('\nShaft output per m^3 of free air = %f hp per m^3 of free air per minute',W1)"
   ]
   }
,
{
		   "cell_type": "markdown",
		   "metadata": {},
		   "source": [
			"## Example 16.12: Number_of_stages.sce"
		   ]
		  },
  {
"cell_type": "code",
	   "execution_count": null,
	   "metadata": {
	    "collapsed": true
	   },
	   "outputs": [],
"source": [
"//pathname=get_absolute_file_path('16.12.sce')\n",
"//filename=pathname+filesep()+'16.12-data.sci'\n",
"//exec(filename)\n",
"//Pressures(in bar):\n",
"p2=180\n",
"p1=1\n",
"//Temperatures(in K):\n",
"T1=300\n",
"T2=273+150\n",
"//Index of polytropic compression:\n",
"n=1.25\n",
"//Number of stages:\n",
"i=(n-1)/n*log(p2/p1)/log(T2/T1)\n",
"printf('\n RESULT \n')\n",
"printf('\nNumber of stages = %d',i)"
   ]
   }
,
{
		   "cell_type": "markdown",
		   "metadata": {},
		   "source": [
			"## Example 16.13: Work_done.sce"
		   ]
		  },
  {
"cell_type": "code",
	   "execution_count": null,
	   "metadata": {
	    "collapsed": true
	   },
	   "outputs": [],
"source": [
"//pathname=get_absolute_file_path('16.13.sce')\n",
"//filename=pathname+filesep()+'16.13-data.sci'\n",
"//exec(filename)\n",
"//Pressures(in bar):\n",
"p1=1\n",
"p10=20\n",
"//Temperatures(in K):\n",
"T1=300\n",
"T5=T1\n",
"T9=T1\n",
"//Clearance:\n",
"C=0.04\n",
"//Bore(in m):\n",
"D=0.30\n",
"//Stroke(in m):\n",
"L=0.20\n",
"//Index of compression:\n",
"n=1.25\n",
"//Gas constant(in kJ/kg.K):\n",
"R=0.287\n",
"//Pressure at stage 2(in bar):\n",
"p2=p1*(20)^(1/3)\n",
"p6=p10/(20^(1/3))\n",
"//Volumetric efficiency of LP stage:\n",
"nvlp=1+C-C*(p2/p1)^(1/n)\n",
"//LP swept volume(in m^3):\n",
"Vs=%pi*D^2/4*L\n",
"//Effective swept volume(in m^3):\n",
"Vsa=nvlp*Vs\n",
"//Temperature of air delivered(in K):\n",
"T10=T9*(p10/p6)^((n-1)/n)\n",
"//Volume of air delivered(in m^3):\n",
"Vd=p1/p10*Vsa*T10/T1\n",
"//Total work done(in kJ/kg of air):\n",
"W=3*(n/(n-1))*R*T1*((p2/p1)^((n-1)/n)-1)\n",
"printf('\n RESULT \n')\n",
"printf('\nIntermediate pressure = %f bar, %f bar',p2,p6)\n",
"printf('\nEffective swept volume of LP cylinder = %f m^3',Vsa)\n",
"printf('\nTemperature of air delivered = %f K',T10)\n",
"printf('\nVolume of air delivered = %f m^3',Vd)\n",
"printf('\nWork done = %f kJ/kg of air',W)"
   ]
   }
,
{
		   "cell_type": "markdown",
		   "metadata": {},
		   "source": [
			"## Example 16.14: Total_work_required.sce"
		   ]
		  },
  {
"cell_type": "code",
	   "execution_count": null,
	   "metadata": {
	    "collapsed": true
	   },
	   "outputs": [],
"source": [
"//pathname=get_absolute_file_path('16.14.sce')\n",
"//filename=pathname+filesep()+'16.14-data.sci'\n",
"//exec(filename)\n",
"//Pressures(in bar):\n",
"p1=1\n",
"p2=6\n",
"p6=30\n",
"p5=p2\n",
"//Temperatures(in K):\n",
"T6=273+150\n",
"T5=273+35\n",
"T1=300\n",
"//Clearance volumes:\n",
"Clp=0.05\n",
"Chp=0.07\n",
"//Mass flow rate(in kg/s):\n",
"m=2\n",
"//Gas constant(in kJ/kg.K):\n",
"R=0.287\n",
"//Specific heat(in kJ/kg.K):\n",
"Cp=1.0032\n",
"Cv=0.72\n",
"//Adiabatic index of compression:\n",
"r=1.4\n",
"//Index of compression:\n",
"n=1/(1-log(T6/T5)/log(p6/p5))\n",
"//Volumetric efficiency of LP cylinder:\n",
"nvlp=1+Clp-Clp*(p2/p1)^(1/n)\n",
"//Volumetric efficiency of HP cylinder:\n",
"nvhp=1+Chp-Chp*(p6/p5)^(1/n)\n",
"//Swept volume of LP cylinder(in m^3/min):\n",
"Vslp=m*R*T1*60/(p1*10^2*nvlp)\n",
"printf('\n RESULT \n')\n",
"printf('\nSwept volume of LP cylinder = %f m^3/min',Vslp)\n",
"//Swept volume of HP cylinder(in m^3/min):\n",
"Vshp=m*R*T5*60/(p2*10^2*nvhp)\n",
"printf('\nSwept volume of HP cylinder = %f m^3/min',Vshp)\n",
"//Temperature at state 2(in K):\n",
"T2=T1*(p2/p1)^((n-1)/n)\n",
"//Cooling required in intercooler(in kW):\n",
"Q=m*Cp*(T2-T5)\n",
"printf('\nHeat picked up in the intercooler = %f kW',Q)\n",
"//Work input required(in kW):\n",
"W=n/(n-1)*m*R*((T1*((p2/p1)^((n-1)/n)-1))+(T5*((p6/p5)^((n-1)/n)-1)))\n",
"printf('\nTotal work required = %f kW',W)\n",
"//Heat transferred in LP cylinder(in kW):\n",
"Qlp=m*(r-n)/(n-1)*Cv*(T2-T1)\n",
"printf('\nAmount of cooling required in LP cylinder = %f kW',Qlp)\n",
"//Heat transferred in HP cylinder(in kW):\n",
"Qhp=m*(r-n)/(n-1)*Cv*(T6-T5)\n",
"printf('\nAmount of cooling required in HP cylinder = %f kW',Qhp)"
   ]
   }
,
{
		   "cell_type": "markdown",
		   "metadata": {},
		   "source": [
			"## Example 16.15: Isentropic_efficiency.sce"
		   ]
		  },
  {
"cell_type": "code",
	   "execution_count": null,
	   "metadata": {
	    "collapsed": true
	   },
	   "outputs": [],
"source": [
"//pathname=get_absolute_file_path('16.15.sce')\n",
"//filename=pathname+filesep()+'16.15-data.sci'\n",
"//exec(filename)\n",
"//Pressures(in bar):\n",
"p2=2\n",
"p1=1\n",
"//Volume(in m^3):\n",
"V1=0.5\n",
"//Adiabatic index of compression:\n",
"r=1.4\n",
"//IP required(in kW):\n",
"Wr=(p2-p1)*10^2*V1\n",
"//IP when isentropic compression occurs(in kW):\n",
"Wi=r/(r-1)*p1*10^2*V1*((p2/p1)^((r-1)/r)-1)\n",
"//Isentropic efficiency:\n",
"ni=Wi/Wr*100\n",
"printf('\n RESULT \n')\n",
"printf('\nIndicated power of roots blower = %f hp',Wr/0.7457)\n",
"printf('\nIsentropic efficiency = %f percent',ni)"
   ]
   }
,
{
		   "cell_type": "markdown",
		   "metadata": {},
		   "source": [
			"## Example 16.16: Indicated_power_required_and_isentropic_efficiency.sce"
		   ]
		  },
  {
"cell_type": "code",
	   "execution_count": null,
	   "metadata": {
	    "collapsed": true
	   },
	   "outputs": [],
"source": [
"//pathname=get_absolute_file_path('16.16.sce')\n",
"//filename=pathname+filesep()+'16.16-data.sci'\n",
"//exec(filename)\n",
"//Volume flow rate(in m^3/kg):\n",
"V1=0.6\n",
"//Pressures(in bar):\n",
"p1=1\n",
"p2a=2.3\n",
"r=1.4\n",
"//Ratio of V1/V2:\n",
"r1=0.7//\n",
"//Pressure at state 2(in bar):\n",
"p2=p1*(1/r1)^r\n",
"//IP required for vaned compressor(in hp):\n",
"Wv=(r/(r-1)*p1*10^2*V1*((p2/p1)^((r-1)/r)-1)+(p2a-p2)*10^2*V1*r1)/0.7457\n",
"//Power requirement when compression occurs isentropically(in hp):\n",
"Wi=(r/(r-1)*p1*10^2*V1*((p2a/p1)^((r-1)/r)-1))/0.7457\n",
"//Isentropic efficiency:\n",
"ni=Wi/Wv*100\n",
"printf('\n RESULT \n')\n",
"printf('\nIndicated power required = %f hp',Wv)\n",
"printf('\nIsentropic efficiency = %f percent',ni)"
   ]
   }
,
{
		   "cell_type": "markdown",
		   "metadata": {},
		   "source": [
			"## Example 16.17: Brake_power_required.sce"
		   ]
		  },
  {
"cell_type": "code",
	   "execution_count": null,
	   "metadata": {
	    "collapsed": true
	   },
	   "outputs": [],
"source": [
"//pathname=get_absolute_file_path('16.17.sce')\n",
"//filename=pathname+filesep()+'16.17-data.sci'\n",
"//exec(filename)\n",
"//Temperature(in K):\n",
"T0=300\n",
"//Velocity(in m/s):\n",
"V1=50\n",
"//Mass flow rate(in kg/min):\n",
"m=18\n",
"//Specifc heat(in kJ/kg.K):\n",
"Cp=1.0032\n",
"//Mechanical efficiency:\n",
"nm=0.90\n",
"//Isentropic efficiency:\n",
"ni=0.75\n",
"//Pressure ratio:\n",
"r1=4\n",
"//Adiabatic index of compression:\n",
"r=1.4\n",
"//Stagnation temperature(in K):\n",
"T1=T0+V1^2/(2*Cp*10^3)\n",
"T2a=T1*r1^((r-1)/r)\n",
"T2=(T2a-T1)/ni+T1\n",
"printf('\n RESULT \n')\n",
"printf('\nTotal head temperature at exit = %f K',T2)\n",
"//Brake power required(in hp):\n",
"BP=m*Cp*(T2-T1)/(60*nm*0.7457)\n",
"printf('\nBrake power required = %f hp',BP)"
   ]
   }
,
{
		   "cell_type": "markdown",
		   "metadata": {},
		   "source": [
			"## Example 16.18: Volumetric_efficiency_and_heat_rejected.sce"
		   ]
		  },
  {
"cell_type": "code",
	   "execution_count": null,
	   "metadata": {
	    "collapsed": true
	   },
	   "outputs": [],
"source": [
"//pathname=get_absolute_file_path('16.18.sce')\n",
"//filename=pathname+filesep()+'16.18-data.sci'\n",
"//exec(filename)\n",
"//Piston displacement per revolution(in m^3/rev):\n",
"V=0.015\n",
"//Speed(in rpm):\n",
"N=500\n",
"//Clearance:\n",
"C=0.05\n",
"//Pressures(in bar):\n",
"p2=6\n",
"p1=1\n",
"//Index of compression:\n",
"n=1.3\n",
"//Gas constant(in kJ/kg.K):\n",
"R=0.287\n",
"//Temperature(in K):\n",
"T1=20+273\n",
"//Adiabatic index of compression:\n",
"r=1.4\n",
"//Value of Cv(in kJ/kg.K):\n",
"Cv=0.718\n",
"//Volumetric efficiency:\n",
"nv=1+C-C*(p2/p1)^(1/n)\n",
"printf('\n RESULT \n')\n",
"printf('\nVolumetric efficiency = %f percent',nv*100)\n",
"//Swept volume(in m^3/min):\n",
"Vs=V*2*N\n",
"//Actual air inhaled(in m^3/min):\n",
"V1=Vs*0.85\n",
"//Mass of air entering(in kg/min):\n",
"m=p1*10^2*V1/(R*T1)\n",
"//Power required(in kJ/min):\n",
"P=n/(n-1)*p1*10^2*V1*((p2/p1)^((n-1)/n)-1)\n",
"printf('\nPower required = %f kJ/min',P)\n",
"//Temperature at state 2(in K):\n",
"T2=298*(p2/p1)^((n-1)/n)\n",
"//Heat transferred during compression(in kJ/min):\n",
"Q=m*Cv*(r-n)/(n-1)*(T2-T1)\n",
"printf('\nHeat rejected during compression = %f kJ/min',Q) "
   ]
   }
],
"metadata": {
		  "kernelspec": {
		   "display_name": "Scilab",
		   "language": "scilab",
		   "name": "scilab"
		  },
		  "language_info": {
		   "file_extension": ".sce",
		   "help_links": [
			{
			 "text": "MetaKernel Magics",
			 "url": "https://github.com/calysto/metakernel/blob/master/metakernel/magics/README.md"
			}
		   ],
		   "mimetype": "text/x-octave",
		   "name": "scilab",
		   "version": "0.7.1"
		  }
		 },
		 "nbformat": 4,
		 "nbformat_minor": 0
}
