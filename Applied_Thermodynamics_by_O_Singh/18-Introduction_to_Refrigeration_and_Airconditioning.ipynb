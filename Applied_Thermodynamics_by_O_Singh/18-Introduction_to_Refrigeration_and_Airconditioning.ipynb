{
"cells": [
 {
		   "cell_type": "markdown",
	   "metadata": {},
	   "source": [
       "# Chapter 18: Introduction to Refrigeration and Airconditioning"
	   ]
	},
{
		   "cell_type": "markdown",
		   "metadata": {},
		   "source": [
			"## Example 18.01: Work_input.sce"
		   ]
		  },
  {
"cell_type": "code",
	   "execution_count": null,
	   "metadata": {
	    "collapsed": true
	   },
	   "outputs": [],
"source": [
"//pathname=get_absolute_file_path('18.01.sce')\n",
"//filename=pathname+filesep()+'18.01-data.sci'\n",
"//exec(filename)\n",
"//Heat extracted by carnot cycle(in kJ/min):\n",
"Q1=500\n",
"//Temperature of refrigerated space(in K):\n",
"T1=-16+273\n",
"//Atmospheric temperature(in K):\n",
"T2=27+273\n",
"//Heat rejected(in kJ/min):\n",
"Q2=Q1*(T2/T1)\n",
"//Work input required(in kJ/min):\n",
"W=Q2-Q1\n",
"printf('\n RESULT \n')\n",
"printf('\nWork input = %f kJ/min',W)"
   ]
   }
,
{
		   "cell_type": "markdown",
		   "metadata": {},
		   "source": [
			"## Example 18.02: HP_required.sce"
		   ]
		  },
  {
"cell_type": "code",
	   "execution_count": null,
	   "metadata": {
	    "collapsed": true
	   },
	   "outputs": [],
"source": [
"//pathname=get_absolute_file_path('18.02.sce')\n",
"//filename=pathname+filesep()+'18.02-data.sci'\n",
"//exec(filename)\n",
"//Operating temperature(in K):\n",
"T1=-5+273\n",
"T2=27+273\n",
"//Specific heats(in kJ/kg.K):\n",
"Cpw=4.18\n",
"//Latent heat(in kJ/kg):\n",
"L=335\n",
"//Capacity(in tons):\n",
"C=800\n",
"//Heat extraction rate(in kJ/s):\n",
"q=C*3.5\n",
"//Heat to be removed per kg of water(in kJ/kg):\n",
"q1=Cpw*(27-0)+L\n",
"//Ice formation rate(in kg/s):\n",
"m=q/q1\n",
"printf('\n RESULT \n')\n",
"printf('\nMass rate of ice formation = %f kg/s',m)\n",
"//COP:\n",
"COP=(T1/(T2-T1))\n",
"//Work done(in hp):\n",
"W=q/COP/0.7457\n",
"printf('\nHP required = %f hp',W)"
   ]
   }
,
{
		   "cell_type": "markdown",
		   "metadata": {},
		   "source": [
			"## Example 18.03: Temperature_of_surroundings.sce"
		   ]
		  },
  {
"cell_type": "code",
	   "execution_count": null,
	   "metadata": {
	    "collapsed": true
	   },
	   "outputs": [],
"source": [
"//pathname=get_absolute_file_path('18.03.sce')\n",
"//filename=pathname+filesep()+'18.03-data.sci'\n",
"//exec(filename)\n",
"//Work done(in hp):\n",
"W=3\n",
"//Temperature to be maintained(in K):\n",
"T1=-27+273\n",
"//COP:\n",
"COP=1*3.5/(W*0.7457)\n",
"printf('\n RESULT \n')\n",
"printf('\nCOP = %f',COP)\n",
"//Temperature of surroundings(in K):\n",
"T2=T1+T1/COP\n",
"printf('\nTemperature of surroundings = %f K',T2)"
   ]
   }
,
{
		   "cell_type": "markdown",
		   "metadata": {},
		   "source": [
			"## Example 18.04: Refrigeration_capacity_and_COP.sce"
		   ]
		  },
  {
"cell_type": "code",
	   "execution_count": null,
	   "metadata": {
	    "collapsed": true
	   },
	   "outputs": [],
"source": [
"//pathname=get_absolute_file_path('18.04.sce')\n",
"//filename=pathname+filesep()+'18.04-data.sci'\n",
"//exec(filename)\n",
"//Pressure ratio:\n",
"r1=8\n",
"//Operating temperatures(in K)\n",
"T1=-30+273\n",
"T3=27+273\n",
"//Isentropic efficiency of compression:\n",
"nic=0.85\n",
"//Isentropic efficiency of expansion:\n",
"nie=0.90\n",
"//Specific heat(in kJ/kg):\n",
"Cp=1.005\n",
"//Adiabatic index of compression:\n",
"r=1.4\n",
"//Air flow rate(in kg/s):\n",
"m=1\n",
"//Temperature at state 2'(in K):\n",
"T2a=T1*(r1)^((r-1)/r)\n",
"//Temperature at state 2(in K):\n",
"T2=(T2a-T1)/nic+T1\n",
"//Temperature at state 4'(in K):\n",
"T4a=T3*(1/r1)^((r-1)/r)\n",
"//Temperature at state 2'(in K):\n",
"T4=T3-(T3-T4a)*nie\n",
"//Work during compression(in kJ/s):\n",
"Wc=Cp*(T2-T1)\n",
"//Work during expansion(in kJ/s):\n",
"Wt=Cp*(T3-T4)\n",
"//Refrigeration effect(in kJ/s):\n",
"Qref=Cp*(T1-T4)\n",
"//Net work required(in kJ/s):\n",
"W=Wc-Wt\n",
"//COP:\n",
"COP=Qref/W\n",
"printf('\n RESULT \n')\n",
"printf('\nRefrigeration capacity = %f kJ/s',Qref)\n",
"printf('\nCOP = %f',COP)"
   ]
   }
,
{
		   "cell_type": "markdown",
		   "metadata": {},
		   "source": [
			"## Example 18.05: COP.sce"
		   ]
		  },
  {
"cell_type": "code",
	   "execution_count": null,
	   "metadata": {
	    "collapsed": true
	   },
	   "outputs": [],
"source": [
"//pathname=get_absolute_file_path('18.05.sce')\n",
"//filename=pathname+filesep()+'18.05-data.sci'\n",
"//exec(filename)\n",
"//Operating temperatures(in K)\n",
"T1=7+273\n",
"T3=27+273\n",
"//Pressures(in bar):\n",
"p1=1\n",
"p2=5\n",
"//Adiabatic index of compression:\n",
"r=1.4\n",
"//Specific heat(in kJ/kg):\n",
"Cp=1.005\n",
"//Temperature at state 2(in K):\n",
"T2=T1*(p2/p1)^((r-1)/r)\n",
"//Temperature at state 4(in K):\n",
"T4=T3/((p2/p1)^((r-1)/r))\n",
"//Heat rejected in process 2-3(in kJ/kg):\n",
"Q23=Cp*(T2-T3)\n",
"//Heat picked during process 4-1(in kJ/kg):\n",
"Q41=Cp*(T1-T4)\n",
"//Net work(in kJ/kg):\n",
"W=Q23-Q41\n",
"//COP:\n",
"COP=Q41/W\n",
"printf('\n RESULT \n')\n",
"printf('\nCOP = %f',COP)"
   ]
   }
,
{
		   "cell_type": "markdown",
		   "metadata": {},
		   "source": [
			"## Example 18.06: Refrigeration_capacity_and_COP.sce"
		   ]
		  },
  {
"cell_type": "code",
	   "execution_count": null,
	   "metadata": {
	    "collapsed": true
	   },
	   "outputs": [],
"source": [
"//pathname=get_absolute_file_path('18.06.sce')\n",
"//filename=pathname+filesep()+'18.06-data.sci'\n",
"//exec(filename)\n",
"//Pressure(in bar):\n",
"p1=1\n",
"p2=5.5\n",
"//Operating temperatures(in K):\n",
"T1=-10+273\n",
"T3=27+273\n",
"//Air flow rate(in kg/s):\n",
"m=0.8\n",
"//Specific heat(in kJ/kg):\n",
"Cp=1.005\n",
"//Adiabatic index of compression:\n",
"r=1.4\n",
"//Gas constant(in kJ/kg.K):\n",
"R=0.287\n",
"//Temperature at state 2(in K):\n",
"T2=T1*(p2/p1)^((r-1)/r)\n",
"//Temperature at state 4(in K):\n",
"T4=T3/((p2/p1)^((r-1)/r))\n",
"//Refrigeration capacity(in kJ/s):\n",
"C=m*Cp*(T1-T4)\n",
"printf('\n RESULT \n')\n",
"printf('\nRefrigeration capacity = %f kJ/s',C)\n",
"//Work required to run the comoressor(in kJ/s):\n",
"Wc=m*r/(r-1)*R*(T2-T1)\n",
"printf('\nHP required to run compressor = %f hp',Wc/0.7457)\n",
"//Net work input(in kJ/s):\n",
"W=m*Cp*((T2-T3)-(T1-T4))\n",
"//COP:\n",
"COP=C/W\n",
"printf('\nCOP = %f',COP)"
   ]
   }
,
{
		   "cell_type": "markdown",
		   "metadata": {},
		   "source": [
			"## Example 18.07: Mass_flow_rate_and_COP.sce"
		   ]
		  },
  {
"cell_type": "code",
	   "execution_count": null,
	   "metadata": {
	    "collapsed": true
	   },
	   "outputs": [],
"source": [
"//pathname=get_absolute_file_path('18.07.sce')\n",
"//filename=pathname+filesep()+'18.07-data.sci'\n",
"//exec(filename)\n",
"//Pressure(in bar):\n",
"p1=1.2\n",
"p6=p1\n",
"p3=4\n",
"p3=p2\n",
"p4=1\n",
"p7=0.9\n",
"//Temperatures(in K):\n",
"T1=288\n",
"T6=T1\n",
"T5=25+273\n",
"T3=323\n",
"T8=30+273\n",
"n=1.45\n",
"n1=1.3\n",
"//Temperature at state 2(in K):\n",
"T2=T1*(p2/p1)^((n-1)/n)\n",
"T2=418.47\n",
"//Temperature at state 4(in K):\n",
"T4=T3*(p4/p3)^((n1-1)/n1)\n",
"T4=234.57\n",
"//Refrigeration effect(in kg/s):\n",
"m=10*3.5/(Cp*(T5-T4))\n",
"printf('\n RESULT \n')\n",
"printf('\nAir mass flow rate in cabin = %f kg/s',m)\n",
"//Temperature at state 7(in K):\n",
"T7=T6*(p7/p6)^((n1-1)/n1)\n",
"//Ram air mass flow rate(in kg/s):\n",
"rm=m*(T2-T3)/(T8-T7)+m\n",
"printf('\nRam air mass flow rate = %f kg/s',rm)\n",
"//Work input to the compressor(in kJ/s):\n",
"W=m*Cp*(T2-T1)\n",
"//COP:\n",
"COP=10*3.5/W\n",
"printf('\nCOP = %f',COP)"
   ]
   }
,
{
		   "cell_type": "markdown",
		   "metadata": {},
		   "source": [
			"## Example 18.08: COP_and_HP_required.sce"
		   ]
		  },
  {
"cell_type": "code",
	   "execution_count": null,
	   "metadata": {
	    "collapsed": true
	   },
	   "outputs": [],
"source": [
"//pathname=get_absolute_file_path('18.08.sce')\n",
"//filename=pathname+filesep()+'18.08-data.sci'\n",
"//exec(filename)\n",
"//Pressures(in bar):\n",
"p0=0.9\n",
"p1=1\n",
"p2=4\n",
"p3=p2\n",
"p4=p3\n",
"p5=1.03\n",
"//Temperatures(in K):\n",
"T6=298\n",
"T0=276\n",
"//Specific heat(in kJ/kg):\n",
"Cp=1.005\n",
"//Adiabatic index of compression:\n",
"r=1.4\n",
"//Refrigeration capacity:\n",
"C=15\n",
"//Isentropic efficiency for compressor:\n",
"nic=0.9\n",
"//Isentropic efficiency for turbine:\n",
"nit=0.8\n",
"//Temperature at state 1(in K):\n",
"T1=T0*(p1/p0)^((r-1)/r)\n",
"//Temperature at state 2'(in K):\n",
"T2a=T1*(p2/p1)^((r-1)/r)\n",
"//Temperature at state 2(in K):\n",
"T2=T1+(T2a-T1)/nic\n",
"//Temperature at state 3(in K):\n",
"T3=0.34*T2\n",
"//Temperature at state 4(in K):\n",
"T4=T3-10\n",
"//Temperature at state 5'(in K):\n",
"T5a=T4*(p5/p4)^((r-1)/r)\n",
"//Temperature at state 5(in K):\n",
"T5=T4-(T4-T5a)*nit\n",
"//Mass flow rate(in kg/s):\n",
"m=C*3.5/(Cp*(T6-T5))\n",
"//Work input(in kJ/s):\n",
"W=m*Cp*(T2-T1)\n",
"//COP:\n",
"COP=C*3.5/W\n",
"printf('\n RESULT \n')\n",
"printf('\nCOP = %f',COP)\n",
"printf('\nHP required = %f hp',W/0.7457)"
   ]
   }
,
{
		   "cell_type": "markdown",
		   "metadata": {},
		   "source": [
			"## Example 18.09: COP.sce"
		   ]
		  },
  {
"cell_type": "code",
	   "execution_count": null,
	   "metadata": {
	    "collapsed": true
	   },
	   "outputs": [],
"source": [
"//pathname=get_absolute_file_path('18.09.sce')\n",
"//filename=pathname+filesep()+'18.09-data.sci'\n",
"//exec(filename)\n",
"//Operating temperatures(in K):\n",
"T1=-15+273\n",
"T2=25+273\n",
"h2=1317.95 //kJ/kg\n",
"s2=4.4809 //kJ/kg.K\n",
"h3=99.94 //kJ/kg\n",
"s3=0.3386 //kJ/kg.K\n",
"h9=-54.51 //kJ/kg\n",
"s9=-0.2132 //kJ/kg.K\n",
"h4=h3\n",
"s8=s3\n",
"s4=0.3855 //kJ/kg.K\n",
"s1=s2\n",
"//Refrigeration effect(in kJ/kg):\n",
"C=T1*(s1-s4)\n",
"//Work done(in kJ/kg):\n",
"W=h3-h9-T1*(s3-s9)+(T2-T1)*(s1-s8)\n",
"//COP:\n",
"COP=C/W\n",
"printf('\n RESULT \n')\n",
"printf('\nCOP = %f',COP)"
   ]
   }
,
{
		   "cell_type": "markdown",
		   "metadata": {},
		   "source": [
			"## Example 18.10: COP_and_piston_displacement.sce"
		   ]
		  },
  {
"cell_type": "code",
	   "execution_count": null,
	   "metadata": {
	    "collapsed": true
	   },
	   "outputs": [],
"source": [
"//pathname=get_absolute_file_path('18.10.sce')\n",
"//filename=pathname+filesep()+'18.10-data.sci'\n",
"//exec(filename)\n",
"//Operating temperature(in K):\n",
"T1=-20+273\n",
"T3=40+273\n",
"//Pressures(in bar):\n",
"p2=9.61\n",
"p1=1.51\n",
"n=1.13\n",
"//Speed(in rpm):\n",
"N=1200\n",
"h1=178.61 //kJ/kg\n",
"h3=73.53 //kJ/kg\n",
"h4=h3\n",
"s1=0.7082 //kJ/kg.K\n",
"s2=s1\n",
"sg=0.682 //kJ/kg.K\n",
"Cpg=0.747 //kJ/kg.K\n",
"hg=203.05 //kJ/kg\n",
"vg=0.1088 //m^3/kg\n",
"m1=2.86 //ton\n",
"//Clearance volume:\n",
"C=0.02\n",
"//Temperature of state 2(in K):\n",
"T2=T3*(%e)^((s1-sg)/Cpg)\n",
"//Enthalpy after compression(in kJ/kg):\n",
"h2=hg+Cpg*(T2-T3)\n",
"//Compression work(in kJ/kg):\n",
"Wc=h2-h1\n",
"//Refrigeration effect(in kJ/kg):\n",
"r=h1-h4\n",
"//Mass flow rate(in kg/s):\n",
"m=m1*3.5/r\n",
"//COP:\n",
"COP=r/Wc\n",
"//Volumetric efficiency:\n",
"nv=1+C-C*(p2/p1)^(1/n)\n",
"//Piston displacement(in m^3):\n",
"V=m*60*vg/(nv*N)\n",
"printf('\n RESULT \n')\n",
"printf('\nCOP = %f',COP)\n",
"printf('\nPiston displacement = %f cm^3',V*10^6)"
   ]
   }
,
{
		   "cell_type": "markdown",
		   "metadata": {},
		   "source": [
			"## Example 18.11: Mass_flow_rate_and_COP.sce"
		   ]
		  },
  {
"cell_type": "code",
	   "execution_count": null,
	   "metadata": {
	    "collapsed": true
	   },
	   "outputs": [],
"source": [
"//pathname=get_absolute_file_path('18.11.sce')\n",
"//filename=pathname+filesep()+'18.11-data.sci'\n",
"//exec(filename)\n",
"//From steam tables:\n",
"h1=322.28 //kJ/kg\n",
"h2=342.32 //kJ/kg\n",
"s2=1.1937 //kJ/kg.K\n",
"s1=s2\n",
"x1=0.961\n",
"h1=312.08 //kJ/kg\n",
"h3=144.11 //kJ/kg\n",
"h4=115.22 //kJ/kg\n",
"h5=h4\n",
"//Refrigeration effect(in kW):\n",
"m1=2\n",
"//Refrigeration effect(in kJ/kg):\n",
"r=h1-h5\n",
"//Refrigerant flow rate(in kg/s):\n",
"m=m1/r\n",
"//Compressor work(in kJ/kg):\n",
"Wc=h2-h1\n",
"//COP:\n",
"COP=r/Wc\n",
"printf('\n RESULT \n')\n",
"printf('\nCOP = %f',COP)\n",
"printf('\nMass flow rate = %f kg/s',m)"
   ]
   }
,
{
		   "cell_type": "markdown",
		   "metadata": {},
		   "source": [
			"## Example 18.12: Partial_pressure_of_vapour_and_relative_humidity.sce"
		   ]
		  },
  {
"cell_type": "code",
	   "execution_count": null,
	   "metadata": {
	    "collapsed": true
	   },
	   "outputs": [],
"source": [
"//pathname=get_absolute_file_path('18.12.sce')\n",
"//filename=pathname+filesep()+'18.12-data.sci'\n",
"//exec(filename)\n",
"//Specific humidity(in gm/kg):\n",
"w=0.016\n",
"//Saturated partial pressure of vapour(in bar):\n",
"pvsat=0.03098\n",
"//Partial pressure of vapour(in bar):\n",
"pv=w/0.622*1.013/(1+w/0.622)\n",
"//Relative humidity:\n",
"r=pv/pvsat*100\n",
"printf('\n RESULT \n')\n",
"printf('\nPartial pressure of vapour = %f',pv)\n",
"printf('\nRelative humidity = %f percent',r)"
   ]
   }
,
{
		   "cell_type": "markdown",
		   "metadata": {},
		   "source": [
			"## Example 18.13: Enthalpy_of_mixture.sce"
		   ]
		  },
  {
"cell_type": "code",
	   "execution_count": null,
	   "metadata": {
	    "collapsed": true
	   },
	   "outputs": [],
"source": [
"//pathname=get_absolute_file_path('18.13.sce')\n",
"//filename=pathname+filesep()+'18.13-data.sci'\n",
"//exec(filename)\n",
"//Relavite humidity;\n",
"r=0.6\n",
"//Saturation pressure(in bar):\n",
"pvsat=0.0425\n",
"//Gas constant(in kJ/kg.K):\n",
"R=0.287\n",
"//Surrounding temperature(in K):\n",
"Ta=303\n",
"hg=2504.1 //kJ/kg\n",
"//Specific heat(in kJ/kg.K):\n",
"Cp=1.005\n",
"//Partial pressure of air(in bar):\n",
"pa=1.013-r*pvsat\n",
"printf('\n RESULT \n')\n",
"printf('\nPartial pressure of air = %f bar',pa)\n",
"//Humidity ratio:\n",
"w=0.622*(pv/(1.013-pv))\n",
"printf('\nHumidity ratio = %f jg/kg of dry air',w)\n",
"//Dew point temperature(in C):\n",
"T=21.4 //from steam table\n",
"printf('\nDew point temperature = 21.4 C')\n",
"//Density of mixture(in kg/m^3):\n",
"d=1.013*10^2*(1+w)/(R*Ta)\n",
"printf('\nDensity = %f kg/m^3',d)\n",
"//Enthalpy of mixture(in kJ/kg of dry air):\n",
"h=Cp*30+w*(hg+1.860*(30-T))\n",
"printf('\nEnthalpy of mixture = %f kJ/kg of air',h)"
   ]
   }
,
{
		   "cell_type": "markdown",
		   "metadata": {},
		   "source": [
			"## Example 18.14: Mass_of_water_added_and_heat_transferred.sce"
		   ]
		  },
  {
"cell_type": "code",
	   "execution_count": null,
	   "metadata": {
	    "collapsed": true
	   },
	   "outputs": [],
"source": [
"//pathname=get_absolute_file_path('18.14.sce')\n",
"//filename=pathname+filesep()+'18.14-data.sci'\n",
"//exec(filename)\n",
"//Relavite humidity;\n",
"r=0.80\n",
"//From pyschometric chart:\n",
"w1=0.0086 //kg/kg of air \n",
"w2=0.01 //kg/kg of air\n",
"h1=37 //kJ/kg\n",
"h2=50 //kJ/kg\n",
"v2=0.854 //m^3/kg\n",
"//Mass of water added between states 1 and 2:\n",
"m=w2-w1\n",
"//Mass flow rate:\n",
"ma=r/v2\n",
"//Total mass of water added(in kg/s):\n",
"m1=m*ma\n",
"//Heat transferred(in kJ/s):\n",
"q=ma*(h2-h1)\n",
"printf('\n RESULT \n')\n",
"printf('\nMass of water added = %f kg/s',m1)\n",
"printf('\nHeat transferred = %f kJ/s',q)"
   ]
   }
,
{
		   "cell_type": "markdown",
		   "metadata": {},
		   "source": [
			"## Example 18.15: Specific_humidity_of_mixture.sce"
		   ]
		  },
  {
"cell_type": "code",
	   "execution_count": null,
	   "metadata": {
	    "collapsed": true
	   },
	   "outputs": [],
"source": [
"//pathname=get_absolute_file_path('18.15.sce')\n",
"//filename=pathname+filesep()+'18.15-data.sci'\n",
"//exec(filename)\n",
"//Mass flow rate(in kg/s):\n",
"m1=3\n",
"m2=2\n",
"//Specific heat(in kJ/kg.K):\n",
"Cp=1.005\n",
"//Specofoc heat of stream(in kJ/kg.K):\n",
"Cps=1.86\n",
"//Relative humidity:\n",
"r1=0.30\n",
"r2=0.85\n",
"//From psychometric chart:\n",
"pvsat1=0.04246 //bar\n",
"pvsat2=0.005628\n",
"hg1=2520.7 //kJ/kg\n",
"hg2=2559.9 //kJ/kg\n",
"T1=30 //C\n",
"Tdp1=10.5\n",
"T2=35 \n",
"Tdp2=32\n",
"//Partial pressure of vapour at 1(in bar):\n",
"pv1=pvsat1*r1\n",
"//Specific humidity:\n",
"w1=0.622*pv1/(1.013-pv1)\n",
"//Enthalpy at state 1(in kJ/kg):\n",
"h1=Cp*T1+w1*(hg1-Cps*(T1-Tdp1))\n",
"//Partial pressure at state 2(in bar):\n",
"pv2=pvsat2*r2\n",
"//Specific humidity:\n",
"w2=0.622*pv2/(1.013-pv2)\n",
"//Enthalpy at state 1(in kJ/kg):\n",
"h1=Cp*T2+w2*(hg2-Cps*(T2-Tdp2))\n",
"//Enthalpy of mixture(in kJ/kg):\n",
"hmix=1/(m1+m2)*(h1*m1/(1+w1)+h2*m2/(1+w2))\n",
"//Mass of vapour:\n",
"mmix=1/(m1+m2)*(w1*m1/(1+w1)+w2*m2/(1+w2))\n",
"//Specific humidity of mixture:\n",
"wmix=mmix/(1-mmix)\n",
"//Partial pressure of water vapour(in bar):\n",
"pv=1.013*wmix/0.622/(1+w/0.622)\n",
"printf('\n RESULT \n')\n",
"printf('\nSpecific humidity of mixture = %f kg/kg of dry air',wmix)\n",
"printf('\nPartial pressure of water vapour in mixture = %f bar',pv)"
   ]
   }
,
{
		   "cell_type": "markdown",
		   "metadata": {},
		   "source": [
			"## Example 18.16: Heat_added.sce"
		   ]
		  },
  {
"cell_type": "code",
	   "execution_count": null,
	   "metadata": {
	    "collapsed": true
	   },
	   "outputs": [],
"source": [
"//pathname=get_absolute_file_path('18.16.sce')\n",
"//filename=pathname+filesep()+'18.16-data.sci'\n",
"//exec(filename)\n",
"//Rate at which air enters(in m^3/s):\n",
"r=3\n",
"//From steam tables:\n",
"h1=36.4 //kJ/kg\n",
"h2=52 //kJ/kg\n",
"v1=0.825 //m^3/kg\n",
"//Mass of air(in kg/s):\n",
"m=3/v1\n",
"//Amount of heat added(in kJ/s):\n",
"q=m*(h2-h1)\n",
"printf('\n RESULT \n')\n",
"printf('\nHeat added = %f kJ/s',q)"
   ]
   }
],
"metadata": {
		  "kernelspec": {
		   "display_name": "Scilab",
		   "language": "scilab",
		   "name": "scilab"
		  },
		  "language_info": {
		   "file_extension": ".sce",
		   "help_links": [
			{
			 "text": "MetaKernel Magics",
			 "url": "https://github.com/calysto/metakernel/blob/master/metakernel/magics/README.md"
			}
		   ],
		   "mimetype": "text/x-octave",
		   "name": "scilab",
		   "version": "0.7.1"
		  }
		 },
		 "nbformat": 4,
		 "nbformat_minor": 0
}
