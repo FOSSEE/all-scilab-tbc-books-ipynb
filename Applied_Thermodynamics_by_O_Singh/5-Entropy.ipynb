{
"cells": [
 {
		   "cell_type": "markdown",
	   "metadata": {},
	   "source": [
       "# Chapter 5: Entropy"
	   ]
	},
{
		   "cell_type": "markdown",
		   "metadata": {},
		   "source": [
			"## Example 5.01: To_determine_the_change_in_entropy.sce"
		   ]
		  },
  {
"cell_type": "code",
	   "execution_count": null,
	   "metadata": {
	    "collapsed": true
	   },
	   "outputs": [],
"source": [
"//pathname=get_absolute_file_path('5.01.sce')\n",
"//filename=pathname+filesep()+'5.01-data.sci'\n",
"//exec(filename)\n",
"//Initial pressure(in bar):\n",
"p1=5\n",
"//Initial temperature(in K):\n",
"T1=300\n",
"//Final pressure(in bar):\n",
"p2=2\n",
"//Cp for air(in kJ/kg.K):\n",
"Cp=1.004\n",
"//Gas constant for air(in kJ/kg.K):\n",
"R=0.287\n",
"//As it is a throttling process:\n",
"T2=T1\n",
"//Change in entropy(in kJ/kg.K):\n",
"dS=Cp*log(T2/T1)-R*log(p2/p1)\n",
"printf('\nRESULT\n')\n",
"printf('\nChange in entropy = %f kJ/kg.K',dS)"
   ]
   }
,
{
		   "cell_type": "markdown",
		   "metadata": {},
		   "source": [
			"## Example 5.02: To_determine_the_change_in_entropy.sce"
		   ]
		  },
  {
"cell_type": "code",
	   "execution_count": null,
	   "metadata": {
	    "collapsed": true
	   },
	   "outputs": [],
"source": [
"//pathname=get_absolute_file_path('5.02.sce')\n",
"//filename=pathname+filesep()+'5.02-data.sci'\n",
"//exec(filename)\n",
"//Mass of water(in kg):\n",
"m=5\n",
"//Atmospheric temperature(in K):\n",
"T1=27+273.15\n",
"//Temperature of evaporation(in K):\n",
"T2=100+273.15\n",
"//Temperature at which steam is generated(in K):\n",
"T3=400+273\n",
"//Specific heat of water(in kJ/kg.K):\n",
"Cp=4.2\n",
"//Heat of vaporisation(in kJ/kg):\n",
"q2=2260\n",
"//For steam, Cp is given by:\n",
"//Cps=R(3.5+1.2*T+0.14*T^2)\n",
"//Heat added for increasing water temperature from 27ºC to 100ºC(in kJ):\n",
"Q1=m*Cp*(T2-T1)\n",
"//Entropy change during water temperature rise(in kJ/K):\n",
"dS1=Q1/T1\n",
"//Heat of vaporization(in kJ):\n",
"Q2=m*q2\n",
"//Entropy change during water to steam change(in kJ/K):\n",
"dS2=Q2/T2\n",
"//Entropy change during steam temperature rise(in kJ/K):\n",
"dS3=m*10^(-3)*(1.617*log(T3/T2)+0.5544*(T3-T2)+0.065*(T3^2-T2^2)/2)\n",
"//Total entropy change(in kJ/K):\n",
"dS=dS1+dS2+dS3\n",
"printf('\nRESULT\n')\n",
"printf('\nTotal change in entropy of universe = %f kJ/K',dS)"
   ]
   }
,
{
		   "cell_type": "markdown",
		   "metadata": {},
		   "source": [
			"## Example 5.03: To_determine_the_change_in_entropy.sce"
		   ]
		  },
  {
"cell_type": "code",
	   "execution_count": null,
	   "metadata": {
	    "collapsed": true
	   },
	   "outputs": [],
"source": [
"//pathname=get_absolute_file_path('5.03.sce')\n",
"//filename=pathname+filesep()+'5.03-data.sci'\n",
"//exec(filename)\n",
"//Initial pressure(in kPa):\n",
"p1=125\n",
"//Final pressure(in kPa):\n",
"p2=375\n",
"//Intial temperature(in K):\n",
"T1=27+273\n",
"//Gas constant for oxygen(in kJ/kg.K):\n",
"R=8.314/32\n",
"//Change in entropy(in kJ/kg.K):\n",
"dS=-R*log(p2/p1)\n",
"printf('\nRESULT\n')\n",
"printf('\nChange in entropy = %f kJ/kg.K',dS)"
   ]
   }
,
{
		   "cell_type": "markdown",
		   "metadata": {},
		   "source": [
			"## Example 5.04: To_determine_the_entropy_change_in_universe.sce"
		   ]
		  },
  {
"cell_type": "code",
	   "execution_count": null,
	   "metadata": {
	    "collapsed": true
	   },
	   "outputs": [],
"source": [
"//pathname=get_absolute_file_path('5.04.sce')\n",
"//filename=pathname+filesep()+'5.04-data.sci'\n",
"//exec(filename)\n",
"//Mass of the block(in kg):\n",
"m=1\n",
"//Temperature of the block(in K):\n",
"T1=150+273.15\n",
"//Temperature of the sea(in K):\n",
"T2=25+273.15\n",
"//Heat capacity of copper(in kJ/kg.K):\n",
"C=0.393\n",
"//Change in entropy of block(in kJ/K):\n",
"dSb=m*C*log(T2/T1)\n",
"//Heat lost by the block will be equal to heat gained by the water\n",
"//Heat lost by water(in kJ):\n",
"Q=m*C*(T1-T2)\n",
"//Change in entropy of water(in kJ/K):\n",
"dSw=Q/T2\n",
"//Entropy change of universe(in kJ/K):\n",
"dSu=dSb+dSw\n",
"printf('\nRESULT\n')\n",
"printf('\nChange in entropy of universe = %f J/K',dSu*10^3)"
   ]
   }
,
{
		   "cell_type": "markdown",
		   "metadata": {},
		   "source": [
			"## Example 5.05: To_determine_the_entropy_change_in_universe.sce"
		   ]
		  },
  {
"cell_type": "code",
	   "execution_count": null,
	   "metadata": {
	    "collapsed": true
	   },
	   "outputs": [],
"source": [
"//pathname=get_absolute_file_path('5.05.sce')\n",
"//filename=pathname+filesep()+'5.05-data.sci'\n",
"//exec(filename)\n",
"//Mass of the block(in kg):\n",
"m=1\n",
"//Temperature of the block(in K):\n",
"T=27+273\n",
"//Height(in m):\n",
"h=200\n",
"//Heat capacity for copper(in kJ/kg.K):\n",
"s=0.393\n",
"//Acceleration due to gravity(in m/s^2):\n",
"g=9.81 \n",
"//Change in potential energy(in J):\n",
"PE=m*g*h\n",
"//In this case:\n",
"Q=PE\n",
"//Change in entropy of universe(in J/kg.K):\n",
"dSu=Q/T\n",
"printf('\nRESULT\n')\n",
"printf('\nChange in entropy of universe = %f J/kg.K',dSu)"
   ]
   }
,
{
		   "cell_type": "markdown",
		   "metadata": {},
		   "source": [
			"## Example 5.06: To_determine_the_entropy_change_in_universe.sce"
		   ]
		  },
  {
"cell_type": "code",
	   "execution_count": null,
	   "metadata": {
	    "collapsed": true
	   },
	   "outputs": [],
"source": [
"//pathname=get_absolute_file_path('5.06.sce')\n",
"//filename=pathname+filesep()+'5.06-data.sci'\n",
"//exec(filename)\n",
"//Block 1:\n",
"//Mass(in kg):\n",
"m1=1\n",
"//Temperature(in K):\n",
"T1=150+273\n",
"//Specific heat(in kJ/kg.K):\n",
"C1=0.393\n",
"//Block 2:\n",
"//Mass(in kg):\n",
"m2=0.5\n",
"//Temperature(in K):\n",
"T2=0+273\n",
"//Specific heat(in kJ/kg.K):\n",
"C2=0.381\n",
"//Final temperature(in K):\n",
"Tf=(m1*C1*T1+m2*C2*T2)/(m1*C1+m2*C2)\n",
"//Entropy change in block 1(in kJ/K):\n",
"dS1=m1*C1*log(Tf/T1)\n",
"//Entropy change in block 2(in kJ/K):\n",
"dS2=m2*C2*log(Tf/T2)\n",
"//Total entropy change(in kJ/K):\n",
"dS=dS1+dS2\n",
"printf('\nRESULT\n')\n",
"printf('\nChange in entropy of universe = %f J/K',dS)"
   ]
   }
,
{
		   "cell_type": "markdown",
		   "metadata": {},
		   "source": [
			"## Example 5.08: To_determine_the_work_lost.sce"
		   ]
		  },
  {
"cell_type": "code",
	   "execution_count": null,
	   "metadata": {
	    "collapsed": true
	   },
	   "outputs": [],
"source": [
"//pathname=get_absolute_file_path('5.08.sce')\n",
"//filename=pathname+filesep()+'5.08-data.sci'\n",
"//exec(filename)\n",
"//Maximum temperature(in K):\n",
"T1=1800\n",
"//Minimum temperature(in K):\n",
"T2=300\n",
"//Rate at which heat is added(in MW):\n",
"Q1=5\n",
"//Work output(in MW):\n",
"W=2\n",
"//Heat rejected(in MW):\n",
"Q2=Q1-W\n",
"//Entropy generated(in MW/K):\n",
"dSg=(-Q1/T1+Q2/T2)\n",
"//Work lost(in MW):\n",
"w=T2*dSg\n",
"printf('\nRESULT\n')\n",
"printf('\nWork lost = %f MW',w)"
   ]
   }
,
{
		   "cell_type": "markdown",
		   "metadata": {},
		   "source": [
			"## Example 5.09: To_determine_the_maximum_work_done.sce"
		   ]
		  },
  {
"cell_type": "code",
	   "execution_count": null,
	   "metadata": {
	    "collapsed": true
	   },
	   "outputs": [],
"source": [
"//pathname=get_absolute_file_path('5.09.sce')\n",
"//filename=pathname+filesep()+'5.09-data.sci'\n",
"//exec(filename)\n",
"//Temperature of the system(in K):\n",
"T1=500\n",
"//Temperature of the reservoir(in K):\n",
"T2=300\n",
"//Heat capacity of the system(in J/K):\n",
"//C=0.05*T^2+0.10*T+0.085\n",
"//Maximum heat(in J):\n",
"Q1=-(0.05*(T2^3-T1^3)/3+0.10*(T2^2-T1^2)/2+0.085*(T2-T1))\n",
"//Entropy change of the system(in J/K):\n",
"dSs=0.05*(T2^2-T1^2)/2+0.10*(T2-T1)+0.085*log(T2/T1)\n",
"//Maximum work available(in kJ):\n",
"W=(Q1/T2+dSs)*T2\n",
"printf('\nRESULT\n')\n",
"printf('\nMaximum work = %f kJ',W/(10^3))"
   ]
   }
,
{
		   "cell_type": "markdown",
		   "metadata": {},
		   "source": [
			"## Example 5.10: To_determine_the_change_in_entropy_and_enthalpy.sce"
		   ]
		  },
  {
"cell_type": "code",
	   "execution_count": null,
	   "metadata": {
	    "collapsed": true
	   },
	   "outputs": [],
"source": [
"//pathname=get_absolute_file_path('5.10.sce')\n",
"//filename=pathname+filesep()+'5.10-data.sci'\n",
"//exec(filename)\n",
"//Initial pressure(in kPa):\n",
"p1=3000\n",
"//Initial volume(in m^3):\n",
"v1=0.05\n",
"//Final volume(in m^3):\n",
"v2=0.3\n",
"//Value of n:\n",
"n=1.4\n",
"//Final pressure(in MPa):\n",
"p2=p1*((v1/v2)^n)\n",
"//Entropy change:\n",
"dS=0\n",
"//Change in enthalpy(in kJ):\n",
"dH=((p1*(v1^n))^(1/n))*(p1^((n-1)/n)-p2^((n-1)/n))/((n-1)/n)\n",
"printf('\nRESULT\n')\n",
"printf('\nEnthalpy change = %f kJ',dH)\n",
"printf('\nEntropy change = %d',dS)"
   ]
   }
,
{
		   "cell_type": "markdown",
		   "metadata": {},
		   "source": [
			"## Example 5.11: To_determine_the_entropy_change_in_universe.sce"
		   ]
		  },
  {
"cell_type": "code",
	   "execution_count": null,
	   "metadata": {
	    "collapsed": true
	   },
	   "outputs": [],
"source": [
"//pathname=get_absolute_file_path('5.11.sce')\n",
"//filename=pathname+filesep()+'5.11-data.sci'\n",
"//exec(filename)\n",
"//Mass of air(in kg):\n",
"m=2\n",
"//Initial volume(in m^3):\n",
"v1=1\n",
"//Final volume(in m^3):\n",
"v2=10\n",
"//Gas const(in J/kg.K):\n",
"R=287\n",
"//Change in entropy of air(in J/K):\n",
"dSa=m*R*log(v2/v1)\n",
"//During free expansion, entropy change of surroundings(in J/K):\n",
"dSs=0\n",
"//Entropy change of universe(in J/K):\n",
"dSu=dSa+dSs\n",
"printf('\nRESULT\n')\n",
"printf('\nEntropy change of air = %f J/K',dSa)\n",
"printf('\nEntropy change of surroundings = %d J/K',dSs)\n",
"printf('\nEntropy change of universe = %f J/K',dSu)"
   ]
   }
,
{
		   "cell_type": "markdown",
		   "metadata": {},
		   "source": [
			"## Example 5.12: To_determine_the_change_in_entropy.sce"
		   ]
		  },
  {
"cell_type": "code",
	   "execution_count": null,
	   "metadata": {
	    "collapsed": true
	   },
	   "outputs": [],
"source": [
"//pathname=get_absolute_file_path('5.12.sce')\n",
"//filename=pathname+filesep()+'5.12-data.sci'\n",
"//exec(filename)\n",
"//Mass of air(in kg):\n",
"m=0.5\n",
"//Initial pressure(in Pa):\n",
"p1=1.013*10^5\n",
"//Final pressure(in Pa):\n",
"p2=0.8*10^6\n",
"//Initial temperature(in K):\n",
"T1=800\n",
"//Index of compression:\n",
"n=1.2\n",
"//Adiabatic index of compression:\n",
"r=1.4\n",
"//Value of Cv(in kJ/kg.K):\n",
"Cv=0.71\n",
"//Final temperature(in K):\n",
"T2=T1*((p2/p1)^((n-1)/n))\n",
"//Total entropy change(in J/K):\n",
"dS=m*Cv*((n-r)/(n-1))*log(T2/T1)\n",
"printf('\nRESULT\n')\n",
"printf('\nEntropy change = %f J/K',dS)"
   ]
   }
,
{
		   "cell_type": "markdown",
		   "metadata": {},
		   "source": [
			"## Example 5.15: To_determine_the_direction_of_flow.sce"
		   ]
		  },
  {
"cell_type": "code",
	   "execution_count": null,
	   "metadata": {
	    "collapsed": true
	   },
	   "outputs": [],
"source": [
"//pathname=get_absolute_file_path('5.15.sce')\n",
"//filename=pathname+filesep()+'5.15-data.sci'\n",
"//exec(filename)\n",
"//Pressure at point 1(in MPa):\n",
"p1=0.5\n",
"//Temperature at point 1(in K):\n",
"T1=400\n",
"//Pressure at point 2(in MPa):\n",
"p2=0.3\n",
"//Temperature at point 2(in K):\n",
"T2=350\n",
"//Gas constant(in kJ/kg.K):\n",
"R=0.287\n",
"//Value of Cp(in kJ/kg.K):\n",
"Cp=1.004\n",
"//Entropy change(in kJ/kg.K):\n",
"ds=Cp*log(T1/T2)-R*log(p1/p2)\n",
"printf('\nRESULT\n')\n",
"printf('\nChange in entropy = %f kJ/kg.K',ds)\n",
"//As the calculated change is positive, s2>s1\n",
"printf('\nHence flow occurs from 1 to 2 i.e. from 0.5 MPa, 400 K to 0.3 MPa & 350 K')"
   ]
   }
,
{
		   "cell_type": "markdown",
		   "metadata": {},
		   "source": [
			"## Example 5.17: To_determine_the_work_done_and_thermal_efficiency.sce"
		   ]
		  },
  {
"cell_type": "code",
	   "execution_count": null,
	   "metadata": {
	    "collapsed": true
	   },
	   "outputs": [],
"source": [
"//pathname=get_absolute_file_path('5.17.sce')\n",
"//filename=pathname+filesep()+'5.17-data.sci'\n",
"//exec(filename)\n",
"//Heat added in process 1-2(in kJ):\n",
"Q12=1000\n",
"//Heat added in process 3-4(in kJ):\n",
"Q34=800\n",
"//Temperature at point 1(in K):\n",
"T1=500\n",
"//Temperature at point 3(in K):\n",
"T3=400\n",
"//Temperature at point 5(in K):\n",
"T5=300\n",
"//Total heat added(in kJ):\n",
"Qt=Q12+Q34\n",
"//Entropy change from state 1-2(in kJ/K):\n",
"S12=Q12/T1\n",
"//Entropy change from state 3-4(in kJ/K):\n",
"S34=Q34/T3\n",
"//Entropy change from state 5-6(in kJ/K):\n",
"S56=S12+S34\n",
"//Heat rejected in process 5-6(in kJ):\n",
"Q56=T5*S56\n",
"//Net work done(in kJ):\n",
"W=Q12+Q34-Q56\n",
"//Thermal efficiency of the cycle:\n",
"n=W/Qt\n",
"printf('\nRESULT\n')\n",
"printf('\nWork done = %d kJ',W)\n",
"printf('\nThermal efficiency = %f percent',n*100)"
   ]
   }
,
{
		   "cell_type": "markdown",
		   "metadata": {},
		   "source": [
			"## Example 5.18: To_determine_the_heat_supplied.sce"
		   ]
		  },
  {
"cell_type": "code",
	   "execution_count": null,
	   "metadata": {
	    "collapsed": true
	   },
	   "outputs": [],
"source": [
"//pathname=get_absolute_file_path('5.18.sce')\n",
"//filename=pathname+filesep()+'5.18-data.sci'\n",
"//exec(filename)\n",
"//Temperature of the reservoirs(in K):\n",
"T1=800\n",
"T2=700\n",
"T3=600\n",
"//Temperature of the sink(in K):\n",
"T4=320\n",
"//Total heat rejected to the heat sink(in kJ/s):\n",
"Q2=10\n",
"//Work done(in kW):\n",
"W=20\n",
"//Total heat added(in kJ/s):\n",
"Q1=Q2+W\n",
"//Heat from reservoir 2(in kJ/s):\n",
"Q12=(Q2/T4-Q1/T3)/(0.7/T1+1/T2-1.7/T3)\n",
"//Heat from reservoir 1(in kJ/s):\n",
"Q11=0.7*Q12\n",
"//Heat from reservoir 3(in kJ/s):\n",
"Q13=Q1-1.7*Q12\n",
"printf('\nRESULT\n')\n",
"printf('\nHeat supplied by reservoir at 800 K = %f kJ/s',Q11)\n",
"printf('\nHeat supplied by reservoir at 700 K = %f kJ/s',Q12)\n",
"printf('\nHeat supplied by reservoir at 600 K = %f kJ/s',Q13)"
   ]
   }
,
{
		   "cell_type": "markdown",
		   "metadata": {},
		   "source": [
			"## Example 5.19: To_check_if_process_is_reversible_or_not.sce"
		   ]
		  },
  {
"cell_type": "code",
	   "execution_count": null,
	   "metadata": {
	    "collapsed": true
	   },
	   "outputs": [],
"source": [
"//pathname=get_absolute_file_path('5.19.sce')\n",
"//filename=pathname+filesep()+'5.19-data.sci'\n",
"//exec(filename)\n",
"//Volume of the chamber(in m^3):\n",
"v1=0.04\n",
"//Initial pressure(in bar):\n",
"p1=10\n",
"//Initial temperature(in K):\n",
"T1=25+273\n",
"//Gas constant(in  kJ/kg.K):\n",
"R=0.287\n",
"//Value of Cv(in kJ/kg.K):\n",
"Cv=0.71\n",
"//Final temperature(in K):\n",
"T2=T1\n",
"//Final volume(in m^3):\n",
"v2=2*v1\n",
"//Final pressure(in bar):\n",
"p2=p1*v1/v2\n",
"//Initial mass(in kg):\n",
"m=p1*10^2*v1/(R*T1)\n",
"//Change in entropy(in kJ/K):\n",
"dS=m*R/log(v2/v1)+m*Cv*log(T2/T1)\n",
"printf('\nRESULT\n')\n",
"printf('\nEntropy change = %f kJ/K',dS)\n",
"//Entropy change is non zero but ∫dQ/T is zero, hence:\n",
"printf('\nAs dS>∫dQ/T, process is irreversible')"
   ]
   }
,
{
		   "cell_type": "markdown",
		   "metadata": {},
		   "source": [
			"## Example 5.20: To_determine_the_entropy_produced.sce"
		   ]
		  },
  {
"cell_type": "code",
	   "execution_count": null,
	   "metadata": {
	    "collapsed": true
	   },
	   "outputs": [],
"source": [
"//pathname=get_absolute_file_path('5.20.sce')\n",
"//filename=pathname+filesep()+'5.20-data.sci'\n",
"//exec(filename)\n",
"//Mass in tank A(in kg):\n",
"ma=0.6\n",
"//Mass in tank B(in kg):\n",
"mb=1\n",
"//Temperature in tank A(in K):\n",
"Ta=90+273\n",
"//Temperature in tank B(in K):\n",
"Tb=45+273\n",
"//Pressure in tank A(in bar):\n",
"pa=1\n",
"//Pressure in tank B(in bar):\n",
"pb=2\n",
"//Gas constant(in kJ/kg.K):\n",
"R=0.287\n",
"//Value of Cp(in kJ/kg.K):\n",
"Cp=1.005\n",
"//Final temperature(in K):\n",
"Tf=(ma*Ta+mb*Tb)/(ma+mb)\n",
"//Volume of tank A(in m^3):\n",
"va=ma*R*Ta/pa\n",
"//Volume of tank B(in m^3):\n",
"vb=mb*R*Tb/pb\n",
"//Final pressure(in kPa):\n",
"pf=(ma+mb)*R*Tf/(va+vb)\n",
"//Entropy change(in kJ/K):\n",
"dS=ma*(Cp*log(Tf/Ta)-R*log(pf/pa))+mb*(Cp*log(Tf/Tb)-R*log(pf/pb))\n",
"printf('\nRESULT\n')\n",
"printf('\nEntropy produced = %f kJ/K',dS)"
   ]
   }
,
{
		   "cell_type": "markdown",
		   "metadata": {},
		   "source": [
			"## Example 5.21: To_determine_the_change_in_entropy.sce"
		   ]
		  },
  {
"cell_type": "code",
	   "execution_count": null,
	   "metadata": {
	    "collapsed": true
	   },
	   "outputs": [],
"source": [
"//pathname=get_absolute_file_path('5.21.sce')\n",
"//filename=pathname+filesep()+'5.21-data.sci'\n",
"//exec(filename)\n",
"//Volume of the tanks(in m^3):\n",
"va=4\n",
"vb=4\n",
"vc=4\n",
"//Pressure in tank A(in bar):\n",
"pa=6\n",
"//Temperature in tank A(in K):\n",
"Ta=90+273\n",
"//Pressure in tank B(in bar):\n",
"pb=3\n",
"//Temperature in tank B(in K):\n",
"Tb=300+273\n",
"//Pressure in tank C(in bar):\n",
"pc=12\n",
"//Temperature in tank C(in K):\n",
"Tc=50+273\n",
"//Gas constant for air(in kJ/kg.K):\n",
"Ra=0.287\n",
"//Gas constant for nitrogen(in kJ/kg.K):\n",
"Rn=0.297\n",
"//Adiabatic index of compression for air:\n",
"ra=1.4\n",
"//Adiabatic index of compression for nitrogen:\n",
"rn=1.4\n",
"//Value of Cp(in kJ/kg.K):\n",
"Cp=1.005\n",
"//Value of Cv(in kJ/kg.K):\n",
"Cv=0.718\n",
"//Part (i)\n",
"//Mass in tank A(in kg):\n",
"ma=pa*10^2*va/(Ra*Ta)\n",
"//Mass in tank A(in kg):\n",
"mb=pb*10^2*vb/(Ra*Tb)\n",
"//Final temperature(in K):\n",
"Td=(ma*Ta+mb*Tb)/(ma+mb)\n",
"//Final pressure(in bar):\n",
"pd=Ra*Td*(ma+mb)/((va+vb)*10^2)\n",
"//Entropy change(in kJ/K):\n",
"dS1=ma*Cp*log(Td/Ta)-ma*Ra*log(pd/pa)+mb*Cp*log(Td/Tb)-mb*Ra*log(pd/pb)\n",
"printf('\nRESULT\n')\n",
"printf('\nEntropy change in case 1 = %f kJ/K',dS1)\n",
"//Part (ii)\n",
"//Mass in tank C(in kg):\n",
"mc=pc*10^2*vc/(Rn*Tc)\n",
"//Mass in tank D(in kg):\n",
"md=ma+mb\n",
"//Value of Cv for nitrogen(in kJ/kg.K):\n",
"Cvn=Rn/(rn-1)\n",
"//Value of Cp for nitrogen(in kJ/kg.K):\n",
"Cpn=rn*Cvn\n",
"//Total mass(in kg):\n",
"mf=md+mc\n",
"//Final Cv(in kJ/kg.K):\n",
"CvF=(md*Cv+mc*Cvn)/mf\n",
"//Final gas constant(in kJ/kg.K):\n",
"RF=(md*Ra+mc*Rn)/mf\n",
"//Final temperature(in K):\n",
"TF=(md*Cv*Td+mc*Cvn*Tc)/(mf*CvF)\n",
"//Final volume(in m^3):\n",
"VF=va+vb+vc\n",
"//Final pressure(in kPa):\n",
"pF=mf*RF*TF/VF\n",
"//Change in entropy(in kJ/K):\n",
"dS2=md*(Cp*log(TF/Td)-Ra*log(pF/(pd*10^2)))+mc*(Cpn*log(TF/Tc)-Rn*log(pF/(pc*10^2)))\n",
"printf('\nEntropy change in case 2 = %f kJ/K',dS2)"
   ]
   }
],
"metadata": {
		  "kernelspec": {
		   "display_name": "Scilab",
		   "language": "scilab",
		   "name": "scilab"
		  },
		  "language_info": {
		   "file_extension": ".sce",
		   "help_links": [
			{
			 "text": "MetaKernel Magics",
			 "url": "https://github.com/calysto/metakernel/blob/master/metakernel/magics/README.md"
			}
		   ],
		   "mimetype": "text/x-octave",
		   "name": "scilab",
		   "version": "0.7.1"
		  }
		 },
		 "nbformat": 4,
		 "nbformat_minor": 0
}
