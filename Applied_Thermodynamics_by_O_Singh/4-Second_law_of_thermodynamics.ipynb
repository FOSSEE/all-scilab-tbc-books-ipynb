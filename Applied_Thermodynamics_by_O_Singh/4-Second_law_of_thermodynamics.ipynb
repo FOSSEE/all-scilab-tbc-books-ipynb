{
"cells": [
 {
		   "cell_type": "markdown",
	   "metadata": {},
	   "source": [
       "# Chapter 4: Second law of thermodynamics"
	   ]
	},
{
		   "cell_type": "markdown",
		   "metadata": {},
		   "source": [
			"## Example 4.02: To_determine_heat_to_be_supplied.sce"
		   ]
		  },
  {
"cell_type": "code",
	   "execution_count": null,
	   "metadata": {
	    "collapsed": true
	   },
	   "outputs": [],
"source": [
"//pathname=get_absolute_file_path('4.02.sce')\n",
"//filename=pathname+filesep()+'4.02-data.sci'\n",
"//exec(filename)\n",
"//Highest temperature(in K):\n",
"T1=400+273\n",
"//Lowest temperature(in K):\n",
"T2=15+273\n",
"//Work produced(in kJ):\n",
"w=200\n",
"//Ratio of Q1 to Q2 is same as T1 to T2\n",
"//Heat to be supplied(in kJ):\n",
"Q1=w/(1-T2/T1)\n",
"printf('\nRESULTS\n')\n",
"printf('\nHeat to be supplied = %f kJ',Q1)"
   ]
   }
,
{
		   "cell_type": "markdown",
		   "metadata": {},
		   "source": [
			"## Example 4.03: To_determine_the_power_required.sce"
		   ]
		  },
  {
"cell_type": "code",
	   "execution_count": null,
	   "metadata": {
	    "collapsed": true
	   },
	   "outputs": [],
"source": [
"//pathname=get_absolute_file_path('4.03.sce')\n",
"//filename=pathname+filesep()+'4.03-data.sci'\n",
"//exec(filename)\n",
"//Upper temperature(in K):\n",
"T1=42+273\n",
"//Lower temperature(in K):\n",
"T2=4+273\n",
"//Rate at which heat is extracted(in kJ/s):\n",
"Q2=2\n",
"//Heat to be supplied(in kJ/s):\n",
"Q1=T1/T2*Q2\n",
"//Power required(in kW):\n",
"P=Q1-Q2\n",
"printf('\nRESULTS\n')\n",
"printf('\nPower required for driving the refrigerator = %f kW',P)"
   ]
   }
,
{
		   "cell_type": "markdown",
		   "metadata": {},
		   "source": [
			"## Example 4.04: To_determine_the_heat_transferred.sce"
		   ]
		  },
  {
"cell_type": "code",
	   "execution_count": null,
	   "metadata": {
	    "collapsed": true
	   },
	   "outputs": [],
"source": [
"//pathname=get_absolute_file_path('4.04.sce')\n",
"//filename=pathname+filesep()+'4.04-data.sci'\n",
"//exec(filename)\n",
"//Source temperature(in K):\n",
"T1=827+273\n",
"//Sink temperature(in K):\n",
"T2=27+273\n",
"//Temperature in the refrigerator(in K):\n",
"T3=-13+273\n",
"//Heat input(in kJ):\n",
"Q1=2000\n",
"//Net work available(in kJ):\n",
"W=300\n",
"//Rate at which heat is extracted(in kJ):\n",
"Q2=Q1*T2/T1\n",
"//Work in the engine(in kJ):\n",
"We=Q1-Q2\n",
"//Work in the refrigerator(in kJ):\n",
"Wr=We-W\n",
"//Heat transferred to the refrigerant(in kJ):\n",
"Q3=Wr/(T2/T3-1)\n",
"//Heat transferred to reservoir by refrigerant(in kJ):\n",
"Q4=Q3+Wr\n",
"//Total heat transferred to low temperature reservoir(in kJ):\n",
"Wt=Q2+Q4\n",
"printf('\nRESULTS\n')\n",
"printf('\nHeat transferred to refrigerant = %f kJ',Q3)\n",
"printf('\nTotal heat transferred to low temperature reservoir = %f kJ',Wt)"
   ]
   }
,
{
		   "cell_type": "markdown",
		   "metadata": {},
		   "source": [
			"## Example 4.05: To_determine_the_minimum_power_required.sce"
		   ]
		  },
  {
"cell_type": "code",
	   "execution_count": null,
	   "metadata": {
	    "collapsed": true
	   },
	   "outputs": [],
"source": [
"//pathname=get_absolute_file_path('4.05.sce')\n",
"//filename=pathname+filesep()+'4.05-data.sci'\n",
"//exec(filename)\n",
"//Temperature inside the house(in K):\n",
"T1=25+273.15\n",
"//Temperature outside the house(in K):\n",
"T2=-1+273.15\n",
"//Heating load(in MJ/h):\n",
"Q1=125\n",
"//COP:\n",
"COP=1/(1-T2/T1)\n",
"//Minimum power required(in MJ/h):\n",
"W=Q1/COP\n",
"printf('\nRESULTS\n')\n",
"printf('\nMinimum power required = %f kW',W/(3600/10^3))"
   ]
   }
,
{
		   "cell_type": "markdown",
		   "metadata": {},
		   "source": [
			"## Example 4.06: To_determine_the_power_required.sce"
		   ]
		  },
  {
"cell_type": "code",
	   "execution_count": null,
	   "metadata": {
	    "collapsed": true
	   },
	   "outputs": [],
"source": [
"//pathname=get_absolute_file_path('4.06.sce')\n",
"//filename=pathname+filesep()+'4.06-data.sci'\n",
"//exec(filename)\n",
"//Inside temperature(in K):\n",
"T1=-15+273\n",
"//Atmospheric temperature(in K):\n",
"T2=35+273\n",
"//Heat to be extracted (in kW):\n",
"Q2=140.8\n",
"//Carnot COP of plant:\n",
"COP1=1/(T2/T1-1)\n",
"//Actual COP:\n",
"COP=COP1/4\n",
"//Power required(in kW):\n",
"W=Q2/COP\n",
"printf('\nRESULTS\n')\n",
"printf('\nPower required = %f kW',W)"
   ]
   }
,
{
		   "cell_type": "markdown",
		   "metadata": {},
		   "source": [
			"## Example 4.07: To_determine_the_efficiency.sce"
		   ]
		  },
  {
"cell_type": "code",
	   "execution_count": null,
	   "metadata": {
	    "collapsed": true
	   },
	   "outputs": [],
"source": [
"//pathname=get_absolute_file_path('4.07.sce')\n",
"//filename=pathname+filesep()+'4.07-data.sci'\n",
"//exec(filename)\n",
"//Maximum temperature(in K):\n",
"T1=1150+273\n",
"//Minimum temperature(in K):\n",
"T2=27+273\n",
"//Efficiency:\n",
"n=1-(T2/T1)\n",
"printf('\nRESULTS\n')\n",
"printf('\nEfficiency = %f percent ',n*100)"
   ]
   }
,
{
		   "cell_type": "markdown",
		   "metadata": {},
		   "source": [
			"## Example 4.08: To_determine_the_power_required.sce"
		   ]
		  },
  {
"cell_type": "code",
	   "execution_count": null,
	   "metadata": {
	    "collapsed": true
	   },
	   "outputs": [],
"source": [
"//pathname=get_absolute_file_path('4.08.sce')\n",
"//filename=pathname+filesep()+'4.08-data.sci'\n",
"//exec(filename)\n",
"//Maximum temperature(in K):\n",
"T1=27+273\n",
"//Minimum temperature(in K):\n",
"T2=-8+273\n",
"//Leakage(in kJ/s):\n",
"Q=7.5/60\n",
"//Power required(in kW):\n",
"W=(T1-T2)*Q/T2\n",
"printf('\nRESULTS\n')\n",
"printf('\nPower required = %f kW',W)"
   ]
   }
,
{
		   "cell_type": "markdown",
		   "metadata": {},
		   "source": [
			"## Example 4.10: To_determine_the_efficiency_of_the_engine_and_COP_of_refrigerator.sce"
		   ]
		  },
  {
"cell_type": "code",
	   "execution_count": null,
	   "metadata": {
	    "collapsed": true
	   },
	   "outputs": [],
"source": [
"//pathname=get_absolute_file_path('4.10.sce')\n",
"//filename=pathname+filesep()+'4.10-data.sci'\n",
"//exec(filename)\n",
"//Temperature at which heat is receieved (in K):\n",
"T1=800\n",
"//Temperature maintained by the carnot engine(in K):\n",
"T2=280\n",
"//Temperature at which heat is rejected(in K):\n",
"T=2*T1*T2/(T1+T2)\n",
"//Efficiency:\n",
"n=(T1-T)/T1\n",
"//COP of refrigerator:\n",
"COP=T2/(T-T2)\n",
"printf('\nRESULTS\n')\n",
"printf('\nEfficiency = %f',n)\n",
"printf('\nC.O.P of refrigerator = %f',COP)"
   ]
   }
,
{
		   "cell_type": "markdown",
		   "metadata": {},
		   "source": [
			"## Example 4.11: To_determine_the_maximum_and_minimum_temperature_in_the_cycle.sce"
		   ]
		  },
  {
"cell_type": "code",
	   "execution_count": null,
	   "metadata": {
	    "collapsed": true
	   },
	   "outputs": [],
"source": [
"//pathname=get_absolute_file_path('4.11.sce')\n",
"//filename=pathname+filesep()+'4.11-data.sci'\n",
"//exec(filename)\n",
"//Efficiency of carnot cycle:\n",
"n=0.5\n",
"//Mass of air(in kg):\n",
"m=0.5\n",
"//Initial pressure(in Pa):\n",
"p2=7*10^5\n",
"//Initial volume(in m^3):\n",
"v2=0.12\n",
"//Heat transferred during the process 2-3(in kJ):\n",
"Q23=40\n",
"//Specific heat at const pressure(in kJ/kg):\n",
"Cp=1.008\n",
"//Specific heat at const volume(in kJ/kg):\n",
"Cv=0.721\n",
"//Gas constant for air:\n",
"Ra=287\n",
"//Maximum temperature of the cycle(in K):\n",
"T2=p2*v2/(m*Ra)\n",
"//Minimum temperature(in K):\n",
"T1=T2/2\n",
"//Volume at state 3(in m^3):\n",
"v3=v2*(%e^(Q23/(m*Ra*10^(-3)*T2)))\n",
"//Compression factor:\n",
"r=Cp/Cv\n",
"//Pressure at point 1(in Pa):\n",
"p1=p2/((T2/T1)^(r/(r-1)))\n",
"//Volume at point 1(in m^3):\n",
"v1=m*Ra*T1/p1\n",
"//Temperature at state 3(in K):\n",
"T3=T2\n",
"//Temperature at state 4(in K):\n",
"T4=T1\n",
"//During process 1-2, work done(in kJ):\n",
"W12=-m*Cv*(T2-T1)\n",
"//Heat transfer in process 1-2(in kJ):\n",
"Q12=0\n",
"//Work done in process 2-3(in kJ):\n",
"W23=Q23\n",
"//During process 3-4, work done(in kJ):\n",
"W34=-m*Cv*(T4-T3)\n",
"//Heat transfer in process 3-4(in kJ):\n",
"Q34=0\n",
"//During process 4-1, work done(in kJ):\n",
"W41=-W23\n",
"//Heat transfer in process 4-1(in kJ):\n",
"Q41=-Q23\n",
"printf('\nRESULTS\n')\n",
"printf('\nProcess    Heat transfer    Work interaction')\n",
"printf('\n  1-2            %d            %f',Q12,W12)\n",
"printf('\n  2-3            %d            %d',Q23,W23)\n",
"printf('\n  3-4            %d            %f',Q34,W34)\n",
"printf('\n  4-1           %d            %d',Q41,W41)\n",
"printf('\n\n\n Maximum temperature of the cycle = %f kJ',T2)\n",
"printf('\n Minimum temperature of the cycle = %f kJ',T1)\n",
"printf('\n Volume at the end of the expansion = %f m^3',v3)"
   ]
   }
,
{
		   "cell_type": "markdown",
		   "metadata": {},
		   "source": [
			"## Example 4.12: To_determine_the_heat_transferred.sce"
		   ]
		  },
  {
"cell_type": "code",
	   "execution_count": null,
	   "metadata": {
	    "collapsed": true
	   },
	   "outputs": [],
"source": [
"//pathname=get_absolute_file_path('4.12.sce')\n",
"//filename=pathname+filesep()+'4.12-data.sci'\n",
"//exec(filename)\n",
"//Heat drawn from 400 K reservoir(in kJ):\n",
"Q1=5000\n",
"//Work output(in kJ):\n",
"W=840\n",
"//Value of heat from heat engine(in kJ):\n",
"Q2=3*(Q1/2-W)\n",
"//Value of heat to heat engine(in kJ):\n",
"Q3=Q1-W-Q2\n",
"printf('\nRESULTS\n')\n",
"printf('\nQ2 = %d kJ from heat engine',Q2)\n",
"printf('\nQ3 = %d kJ to heat engine',-Q3)"
   ]
   }
,
{
		   "cell_type": "markdown",
		   "metadata": {},
		   "source": [
			"## Example 4.13: To_determine_the_energy_taken_from_the_reservoir.sce"
		   ]
		  },
  {
"cell_type": "code",
	   "execution_count": null,
	   "metadata": {
	    "collapsed": true
	   },
	   "outputs": [],
"source": [
"//pathname=get_absolute_file_path('4.13.sce')\n",
"//filename=pathname+filesep()+'4.13-data.sci'\n",
"//exec(filename)\n",
"//Temperature of the reservoir(in K):\n",
"T3=3+273\n",
"//Lower temperature limit(in K):\n",
"T1=77+273\n",
"//Higher temperature limit(in K):\n",
"T2=1077+273\n",
"//Energy supplied to the reservoir(in kJ/s):\n",
"E=100\n",
"//Efficiency:\n",
"n=1-T1/T2\n",
"//Energy taken from the reservoir Q1 can be found by solving the simultaneous equations\n",
"//n=1-Q2/Q1\n",
"//We get Q2=0.2593*Q1\n",
"//COP for heat pump = Q4/(Q4-Q3) = T1/(T1-T3)\n",
"//We get Q4=1.27*Q3\n",
"//It is given that Q2+Q4=E\n",
"//Solving all the equations, we get:\n",
"Q1=26.71 \n",
"printf('\nRESULT\n')\n",
"printf('\nEnergy taken from reservoir at 1077 degree celcius = %f kJ',Q1)"
   ]
   }
,
{
		   "cell_type": "markdown",
		   "metadata": {},
		   "source": [
			"## Example 4.14: To_determine_temperature_of_the_sink.sce"
		   ]
		  },
  {
"cell_type": "code",
	   "execution_count": null,
	   "metadata": {
	    "collapsed": true
	   },
	   "outputs": [],
"source": [
"//pathname=get_absolute_file_path('4.14.sce')\n",
"//filename=pathname+filesep()+'4.14-data.sci'\n",
"//exec(filename)\n",
"//Heat supplied(in kJ/s):\n",
"Qs=2000\n",
"//Temperature of source(in K):\n",
"Tso=1500\n",
"//Temperature at which heat is rejected(in K):\n",
"Tr=15+273\n",
"//Total heat received(in kJ/s):\n",
"Qt=3000\n",
"//Heat rejected(in kJ/s):\n",
"Qr=Qt-Qs\n",
"//Temperature of the sink(in K):\n",
"Ts=Qt/(Qs/Tso+Qr/Tr)\n",
"printf('\nRESULT\n')\n",
"printf('\nTemperature of the sink = %f K',Ts)"
   ]
   }
,
{
		   "cell_type": "markdown",
		   "metadata": {},
		   "source": [
			"## Example 4.15: EX4_15.sce"
		   ]
		  },
  {
"cell_type": "code",
	   "execution_count": null,
	   "metadata": {
	    "collapsed": true
	   },
	   "outputs": [],
"source": [
"//pathname=get_absolute_file_path('4.15.sce')\n",
"//filename=pathname+filesep()+'4.15-data.sci'\n",
"//exec(filename)\n",
"//Maximum temperature(in K):\n",
"T1=500+273\n",
"//Minimum temperature(in K):\n",
"T2=200+273\n",
"//Temperature of the body(in K):\n",
"T3=450+273\n",
"//Efficiency:\n",
"n=1-T2/T1\n",
"//Ratio of W to Q1:\n",
"r1=n\n",
"//COP of pump:\n",
"COP=T3/(T3-T2)\n",
"//Ratio of Q3 to W:\n",
"r2=COP*2/3\n",
"//Ratio of Q3 to Q1:\n",
"r3=r1*r2\n",
"printf('\nRESULT\n')\n",
"printf('\nRatio of heat rejected to body at 450ºC to the heat supplied by the reservoir = %f',r3)"
   ]
   }
,
{
		   "cell_type": "markdown",
		   "metadata": {},
		   "source": [
			"## Example 4.18: To_determine_the_heat_received_from_the_highest_temperature_reservoir.sce"
		   ]
		  },
  {
"cell_type": "code",
	   "execution_count": null,
	   "metadata": {
	    "collapsed": true
	   },
	   "outputs": [],
"source": [
"//pathname=get_absolute_file_path('4.18.sce')\n",
"//filename=pathname+filesep()+'4.18-data.sci'\n",
"//exec(filename)\n",
"//Maximum temperature(in K):\n",
"T1=800+273\n",
"//Minimum temperature(in K):\n",
"T2=50+273\n",
"//Temperature of the 3rd reservoir(in K):\n",
"T3=50+273\n",
"//Temperature of the 4th reservoir(in K):\n",
"T4=10+273\n",
"//Heat picked up by Carnot cycle(in kW):\n",
"Q3=15\n",
"//Energy required to run a machine(in kW):\n",
"E=25\n",
"//Efficiency:\n",
"n=1-T2/T1\n",
"//From the relation of COP:\n",
"Q4=Q3*T3/T4\n",
"//Work by heat pump(in kW):\n",
"Whp=Q4-Q3\n",
"//Work in the heat engine(in kW):\n",
"Whe=Whp+E\n",
"//Heat from source at 1173 K(in kW):\n",
"Q1=Whe/n\n",
"//Heat rejected to the reservoir from engine 1(in kW):\n",
"Q2=Q1-Whe\n",
"//Total heat rejected to the reservoir(in kW):\n",
"Qt=Q2+Q4\n",
"printf('\nRESULT\n')\n",
"printf('\nHeat rejected to the reservoir = %f kW',Qt)\n",
"printf('\nHeat received from the highest temperature reservoir = %f kW',Q1)"
   ]
   }
,
{
		   "cell_type": "markdown",
		   "metadata": {},
		   "source": [
			"## Example 4.19: To_determine_the_change_in_enthalpy_and_Work_done.sce"
		   ]
		  },
  {
"cell_type": "code",
	   "execution_count": null,
	   "metadata": {
	    "collapsed": true
	   },
	   "outputs": [],
"source": [
"//pathname=get_absolute_file_path('4.19.sce')\n",
"//filename=pathname+filesep()+'4.19-data.sci'\n",
"//exec(filename)\n",
"//Volume of 1st tank(in m^3):\n",
"v1=1.8\n",
"//Volume of 2nd tank(in m^3):\n",
"v2=3.6\n",
"//Initial pressure(in bar):\n",
"p1=12\n",
"//Initial temperature(in K):\n",
"T1=40+273\n",
"//Gas constant for argon(in kJ/kg.K):\n",
"R=0.208\n",
"//By gas law for final and initial state:\n",
"pf=p1*v1/(v1+v2)\n",
"printf('\nRESULT\n')\n",
"printf('\nFinal pressure = %d bar',pf)\n",
"//As there is no heat transfer, change in internal energy is 0:\n",
"Tf=T1\n",
"dH=0\n",
"W=0\n",
"printf('\nChange in enthalpy = %d',dH)\n",
"printf('\nWork done =%d',W)"
   ]
   }
],
"metadata": {
		  "kernelspec": {
		   "display_name": "Scilab",
		   "language": "scilab",
		   "name": "scilab"
		  },
		  "language_info": {
		   "file_extension": ".sce",
		   "help_links": [
			{
			 "text": "MetaKernel Magics",
			 "url": "https://github.com/calysto/metakernel/blob/master/metakernel/magics/README.md"
			}
		   ],
		   "mimetype": "text/x-octave",
		   "name": "scilab",
		   "version": "0.7.1"
		  }
		 },
		 "nbformat": 4,
		 "nbformat_minor": 0
}
