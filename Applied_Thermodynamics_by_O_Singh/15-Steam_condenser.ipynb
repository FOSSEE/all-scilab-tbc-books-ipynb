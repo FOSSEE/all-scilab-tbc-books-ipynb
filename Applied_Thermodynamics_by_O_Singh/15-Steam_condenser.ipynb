{
"cells": [
 {
		   "cell_type": "markdown",
	   "metadata": {},
	   "source": [
       "# Chapter 15: Steam condenser"
	   ]
	},
{
		   "cell_type": "markdown",
		   "metadata": {},
		   "source": [
			"## Example 15.01: Mass_flow_rate_and_vacuum_efficiency.sce"
		   ]
		  },
  {
"cell_type": "code",
	   "execution_count": null,
	   "metadata": {
	    "collapsed": true
	   },
	   "outputs": [],
"source": [
"//pathname=get_absolute_file_path('15.01.sce')\n",
"//filename=pathname+filesep()+'15.01-data.sci'\n",
"//exec(filename)\n",
"//Height of mercury column in condenser(in mm of Hg):\n",
"h=71\n",
"//Density of mercury(in kg/cm^3):\n",
"d=0.0135951\n",
"//Acceleration due to gravity(in m/s^2):\n",
"g=9.81\n",
"//Rate at which cooling water is circulated(in kg/min):\n",
"mw=800\n",
"//Condensate available at(in kg/min):\n",
"ms=25\n",
"//Gas constant(in kJ/kg.K):\n",
"R=0.287\n",
"//Specific heat of water(in kJ/kg.K):\n",
"Cpw=4.18\n",
"//From steam tables:\n",
"ps=5.62 //kPa\n",
"hf=146.68 //kJ/kg\n",
"hfg=2418.6 //kJ/kg\n",
"//Absolute pressure in the condenser(in kPa):\n",
"pt=(76-h)*10^(-2)*d*10^6*9.81*10^(-3)\n",
"//Partial pressure of air(in kPa):\n",
"pa=pt-ps\n",
"//Mass of air per m^3 of condenser volume:\n",
"ma=pa/((273+35)*R)\n",
"//Enthalpy of steam(in kJ/kg):\n",
"hs=mw/ms*Cpw*(25-15)+Cpw*30\n",
"//Dryness fraction of the steam entering:\n",
"x=(hs-hf)/hfg\n",
"//Vacuum efficiency:\n",
"n=h*d*10^4*g/(76*d*10^4*g-ps*10^3)*100\n",
"printf('\nRESULT\n')\n",
"printf('\nMass of air of condenser volume = %f kg/m^3',ma)\n",
"printf('\nDryness fraction of steam entering = %f',x)\n",
"printf('\nVacuum efficiency = %f percent',n)"
   ]
   }
,
{
		   "cell_type": "markdown",
		   "metadata": {},
		   "source": [
			"## Example 15.02: Mass_of_water_vapour_accompanying_steam.sce"
		   ]
		  },
  {
"cell_type": "code",
	   "execution_count": null,
	   "metadata": {
	    "collapsed": true
	   },
	   "outputs": [],
"source": [
"//pathname=get_absolute_file_path('15.02.sce')\n",
"//filename=pathname+filesep()+'15.02-data.sci'\n",
"//exec(filename)\n",
"//Height of mercury column in condenser(in mm of Hg):\n",
"h=70\n",
"//Density of mercury(in kg/cm^3):\n",
"d=0.0135951\n",
"//Acceleration due to gravity(in m/s^2):\n",
"g=9.81\n",
"//Leakage of air in condenser:\n",
"r=2500\n",
"//Gas constant(in kJ/kg.K):\n",
"R=0.287\n",
"//From steam tables:\n",
"ps=4.246 //kPa\n",
"vg=32.89 //m^3/kg\n",
"//Absolute pressure in the condenser(in kPa):\n",
"pt=(76-h)*10^(-2)*d*10^6*9.81*10^(-3)\n",
"//Partial pressure of air(in kPa):\n",
"pa=pt-ps\n",
"//Mass of air accoumpanying per kg of steam due to leakage(in kg):\n",
"m=1/r\n",
"//Volume of air per kg of steam(in m^3/kg):\n",
"v=m*R*(273+30)/pa\n",
"printf('\nRESULT\n')\n",
"printf('\nCapacity of air pump = %f m^3 per kg steam',v)\n",
"//Mass of water vapour accompanying air:\n",
"m1=v/vg\n",
"printf('\nMass of water vapour accompanying air = %f kg/kg of steam',m1)"
   ]
   }
,
{
		   "cell_type": "markdown",
		   "metadata": {},
		   "source": [
			"## Example 15.03: Mass_of_uncondensed_steam.sce"
		   ]
		  },
  {
"cell_type": "code",
	   "execution_count": null,
	   "metadata": {
	    "collapsed": true
	   },
	   "outputs": [],
"source": [
"//pathname=get_absolute_file_path('15.03.sce')\n",
"//filename=pathname+filesep()+'15.03-data.sci'\n",
"//exec(filename)\n",
"//Height in mercury column in condenser(in cm):\n",
"h=67\n",
"//Absolute pressure in the condenser(in kPa):\n",
"pt=10.67\n",
"//Partial pressure of steam(in kPa):\n",
"ps=7.384\n",
"//Mass flow rate of steam(in kg/min):\n",
"ms=50\n",
"//Mass flow rate of water(in kg/min):\n",
"mw=1000\n",
"//Specific heat of water(in kJ/kg.K):\n",
"Cpw=4.18\n",
"//Gas constant(in kJ/kg.K):\n",
"R=0.287\n",
"//Density of mercury(in kg/cm^3):\n",
"d=0.0135951\n",
"//Acceleration due to gravity(in m/s^2):\n",
"g=9.81\n",
"//From steam tables:\n",
"hf=167.57 //kJ/kg\n",
"hfg=2406.7 //kJ/kg\n",
"vg=19.52 //m^3/kg\n",
"//Corrected vacuum(in cm):\n",
"cv=76-(75-h)\n",
"printf('\nRESULT\n')\n",
"printf('\nCorrected vacuum = %d cm of Hg',cv)\n",
"//Partial pressure of air(in kPa):\n",
"pa=pt-ps\n",
"//VAcuum efficiency:\n",
"n=h*d*10^4*g/(75*d*10^4*g-ps*10^3)*100\n",
"printf('\nVacuum efficiency = %f percent',n)\n",
"//Undercooling of condensate(in C):\n",
"u=40-35\n",
"printf('\nUndercooling = %d C',u)\n",
"//Condenser efficiency:\n",
"n1=(25-10)/(46.9-10)*100\n",
"//Enthalpy of steam(in kJ/kg):\n",
"h=mw/ms*Cpw*(25-10)+Cpw*40\n",
"//Dryness fraction:\n",
"x=(h-hf)/hfg\n",
"printf('\nDryness fraction of steam entering = %f',x)\n",
"//Mass of air per m^3 of condenser volume(in kg/m^3):\n",
"m=pa/(R*(273+40))\n",
"//Mass of air in 1kg of uncondensate steam(in kg):\n",
"m1=pa*vg/(R*(273+40))\n",
"printf('\nMass of air/m^3 of condenser volume = %f kg/m^3',m)\n",
"printf('\nMass of air in per kg of uncondensate steam = %f kg',m1)"
   ]
   }
,
{
		   "cell_type": "markdown",
		   "metadata": {},
		   "source": [
			"## Example 15.04: Mass_of_water_vapour_extracted_with_air.sce"
		   ]
		  },
  {
"cell_type": "code",
	   "execution_count": null,
	   "metadata": {
	    "collapsed": true
	   },
	   "outputs": [],
"source": [
"//pathname=get_absolute_file_path('15.04.sce')\n",
"//filename=pathname+filesep()+'15.04-data.sci'\n",
"//exec(filename)\n",
"//Height in mercury column in condenser(in cm):\n",
"h=69\n",
"//Inlet temperature(in C):\n",
"T1=30\n",
"//Leakage(in kg/hr):\n",
"L=60\n",
"//Density of mercury(in kg/cm^3):\n",
"d=0.0135951\n",
"//Acceleration due to gravity(in m/s^2):\n",
"g=9.81\n",
"//Gas constant(in kJ/kg.K):\n",
"R=0.287\n",
"//Rpm of engine:\n",
"n=240\n",
"//L/D ratio:\n",
"r=1.5\n",
"//From steam tables:\n",
"ps=4.246 //kPa\n",
"vg=32.89 //m^3/kg\n",
"//Absolute pressure at inlet to air pump(in kPa):\n",
"pt=(76-h)*d*10^4*g\n",
"//Partial pressure of air(in kPa):\n",
"pa=5.09\n",
"//Volume of 60 kg air(in m^3/hr):\n",
"V=L*R*(273+T1)/pa\n",
"printf('\nRESULT\n')\n",
"printf('\nCapacity of air pump = %f m^3/hr',V)\n",
"//Bore diameter(in cm):\n",
"D=((V*4)/(%pi*r*n*60))^(1/3)*100\n",
"//Stroke length(in cm):\n",
"l=D*r\n",
"//Mass of water vapour extracted with air(in kg/hr):\n",
"m=V/vg\n",
"printf('\nBore = %f cm',D)\n",
"printf('\nStroke = %f cm',l)\n",
"printf('\nMass of water vapour extracted with air = %f kg/hr',m)"
   ]
   }
,
{
		   "cell_type": "markdown",
		   "metadata": {},
		   "source": [
			"## Example 15.05: Water_circulation_rate.sce"
		   ]
		  },
  {
"cell_type": "code",
	   "execution_count": null,
	   "metadata": {
	    "collapsed": true
	   },
	   "outputs": [],
"source": [
"//pathname=get_absolute_file_path('15.05.sce')\n",
"//filename=pathname+filesep()+'15.05-data.sci'\n",
"//exec(filename)\n",
"//Height in mercury column in condenser(in cm):\n",
"h=70\n",
"//Inlet temperature(in K):\n",
"T=30+273\n",
"//Leakage(in kg/kg of steam):\n",
"m=5*10^(-4)\n",
"//Density of mercury(in kg/cm^3):\n",
"d=0.0135951\n",
"//Acceleration due to gravity(in m/s^2):\n",
"g=9.81\n",
"//Gas constant(in kJ/kg.K):\n",
"R=0.287\n",
"//Specific heat of water(in kJ/kg.K):\n",
"Cpw=4.18\n",
"//Increase in temperature of cooling water(in K):\n",
"dT=15\n",
"//Dryness fraction:\n",
"x=0.90\n",
"//From steam tables:\n",
"hf=125.79 //kJ/kg\n",
"hfg=2430.5 //kJ/kg\n",
"vg=32.89 //m^3/kg\n",
"ps=4.246 //kPa\n",
"//Absolute pressure in condenser(in kPa):\n",
"pt=(77-h)*d*10^4*g\n",
"//Partial pressure of air(in kPa):\n",
"pa=5.094\n",
"//Volume of air extracted per minute(in m^3/min):\n",
"V=m*10^3*R*T/pa\n",
"//Mass of steam extracted in maixture(in kg/min):\n",
"ms=V/vg\n",
"//Mass handled by air extraction pump(in kg/min):\n",
"mt=m*10^3+ms\n",
"printf('\nRESULT\n')\n",
"printf('\nMass handled by air pump = %f kg/min',mt)\n",
"//Enthalpy of steam entering(in kJ/kg):\n",
"h=hf+x*hfg\n",
"//Water circulation rate(in kg/min):\n",
"mw=1000*(h-Cpw*T)/(Cpw*dT)\n",
"printf('\nWater circulation rate = %f kg/min',mw)"
   ]
   }
,
{
		   "cell_type": "markdown",
		   "metadata": {},
		   "source": [
			"## Example 15.06: Heat_required.sce"
		   ]
		  },
  {
"cell_type": "code",
	   "execution_count": null,
	   "metadata": {
	    "collapsed": true
	   },
	   "outputs": [],
"source": [
"//pathname=get_absolute_file_path('15.06.sce')\n",
"//filename=pathname+filesep()+'15.06-data.sci'\n",
"//exec(filename)\n",
"//Height in mercury column in condenser(in cm):\n",
"h=70\n",
"//Inlet temperature(in K):\n",
"T=30+273\n",
"//Dryness fraction:\n",
"x=0.85\n",
"//Rate at which steam enters(in kg/min):\n",
"m=300\n",
"//Velocity of water flow:\n",
"v=50\n",
"//Pressure head(in m):\n",
"ph=5\n",
"//Density of mercury(in kg/cm^3):\n",
"d=0.0135951\n",
"//Acceleration due to gravity(in m/s^2):\n",
"g=9.81\n",
"//Gas constant(in kJ/kg.K):\n",
"R=0.287\n",
"//Specific heat of water(in kJ/kg.K):\n",
"Cpw=4.18\n",
"//From steam tables:\n",
"ps=4.246 //kPa\n",
"mw=7415 //kg/min\n",
"//Absolute pressure in condenser(in kPa):\n",
"pt=(76-h)*d*10^4*g\n",
"//Partial pressure of air(in kPa):\n",
"pa=pt-ps\n",
"//Volume flow of water(in m^3/min):\n",
"V=mw/1000\n",
"//Flow surface area required(in m^2):\n",
"a=V/v\n",
"printf('\nRESULT\n')\n",
"printf('\nFlow surface area required = %f m^2',a)\n",
"//Cooling surface area required(in m^2):\n",
"A=24.79\n",
"printf('\nCooling surface area required = %f m^2',A)\n",
"//Velocity head present(in m):\n",
"vh=1/2*(v/60)^2/g\n",
"//Total head required(in m):\n",
"th=ph+vh\n",
"printf('\nHead required = %f m',th)"
   ]
   }
,
{
		   "cell_type": "markdown",
		   "metadata": {},
		   "source": [
			"## Example 15.07: Capacity_of_air_pump.sce"
		   ]
		  },
  {
"cell_type": "code",
	   "execution_count": null,
	   "metadata": {
	    "collapsed": true
	   },
	   "outputs": [],
"source": [
"//pathname=get_absolute_file_path('15.07.sce')\n",
"//filename=pathname+filesep()+'15.07-data.sci'\n",
"//exec(filename)\n",
"//Mass of steam entering(in kg/min):\n",
"m1=350\n",
"//Volume of water required(in m^3 per kg steam):\n",
"v=0.02\n",
"//Amount of air mass going into condenser:\n",
"r=0.05/100\n",
"//Volume of air dissolved in the water injected:\n",
"r1=5/100 \n",
"//Height in mercury column in condenser(in cm):\n",
"h=68\n",
"//Inlet temperature(in K):\n",
"T=20+273\n",
"//Atmospheric pressure(in kPa):\n",
"p=101.3\n",
"//Density of mercury(in kg/cm^3):\n",
"d=0.0135951\n",
"//Acceleration due to gravity(in m/s^2):\n",
"g=9.81\n",
"//Gas constant(in kJ/kg.K):\n",
"R=0.287\n",
"//Specific heat of water(in kJ/kg.K):\n",
"Cpw=4.18\n",
"//Volumetric efficiency:\n",
"n=0.90\n",
"//From steam tables:\n",
"ps=4.246 //kPa\n",
"vf=0.001004 //m^3/kg\n",
"//Absolute pressure in condenser(in kPa):\n",
"pt=(76-h)*d*10^4*g*10^(-3)\n",
"//Partial pressure of air(in kPa):\n",
"pa=pt-ps\n",
"//Volume of cooling water required per minute(in m^3/min):\n",
"V1=m1*v\n",
"//Mass of air going into condenser(in kg/min):\n",
"m2=m1*r\n",
"//Volume of air entering per minute with cooling water(in m^3/min):\n",
"V=V1*r1\n",
"//Mass of air with cooling water(in kg):\n",
"m=p*V/(R*T)\n",
"//Total mass of air inside condenser(in kg):\n",
"mt=m+m2\n",
"//Volume of air corresponding:\n",
"V2=mt*R*(273+30)/pa\n",
"//Volume of steam condensed(in m^3/min):\n",
"V3=m1*vf\n",
"//Total volume(in m^3/min):\n",
"Vt=V3+V2+V1\n",
"//Actual capacity of air pump(in m^3/min):\n",
"C=Vt/n\n",
"printf('\nRESULT\n')\n",
"printf('\nCapacity of air pump = %f m^3/min',C)"
   ]
   }
,
{
		   "cell_type": "markdown",
		   "metadata": {},
		   "source": [
			"## Example 15.08: Mass_of_air_entering.sce"
		   ]
		  },
  {
"cell_type": "code",
	   "execution_count": null,
	   "metadata": {
	    "collapsed": true
	   },
	   "outputs": [],
"source": [
"//pathname=get_absolute_file_path('15.08.sce')\n",
"//filename=pathname+filesep()+'15.08-data.sci'\n",
"//exec(filename)\n",
"//Height in mercury column in condenser(in cm):\n",
"H=65\n",
"//Rate at which steam enters(in kg/min):\n",
"ms=20\n",
"//Mass of cooling water per kg of steam:\n",
"m=12\n",
"//Height in mercury column in air pump(in cm):\n",
"H1=66\n",
"//Atmospheric pressure(in kPa):\n",
"p=101.3\n",
"//Density of mercury(in kg/cm^3):\n",
"d=0.0135951\n",
"//Acceleration due to gravity(in m/s^2):\n",
"g=9.81\n",
"//Gas constant(in kJ/kg.K):\n",
"R=0.287\n",
"//Specific heat of water(in kJ/kg.K):\n",
"Cpw=4.18\n",
"//From steam tables:\n",
"ps=7.384 //kPa\n",
"ps1=5.628 //kPa\n",
"hf=167.57 //kJ/kg\n",
"hfg=2406.7 //kJ/kg\n",
"//Absolute pressure in condenser(in kPa):\n",
"pt=(76-H)*d*10^4*g*10^(-3)\n",
"//Partial pressure of air(in kPa):\n",
"pa=pt-ps\n",
"//Cooling water required(in kg/min):\n",
"mw=m*ms\n",
"//Enthalpy of steam entering:\n",
"h=((ms+mw)*Cpw*40-mw*Cpw*20)/ms\n",
"//Dryness fraction of steam entering:\n",
"x=(h-hf)/hfg\n",
"printf('\nRESULT\n')\n",
"printf('\nDryness fraction of steam entering = %f',x)\n",
"//Absolute partial pressure at suction in air pump(in kPa): \n",
"pt1=(76-H1)*d*10^4*g*10^(-3)\n",
"//Partial pressure of air(in kPa):\n",
"pa1=pt1-ps1\n",
"//Volume of mixture(in m^3):\n",
"V=2\n",
"//Mass of air entering(in kg/min):\n",
"m1=pa1*V/(R*(273+35))\n",
"//Head(in m):\n",
"H2=(p-pt)/(g*d*10^3)\n",
"printf('\nMass of air entering = %f kg/min',m1)\n",
"printf('\nHead = %f m',H2)"
   ]
   }
,
{
		   "cell_type": "markdown",
		   "metadata": {},
		   "source": [
			"## Example 15.09: Volume_of_air_and_mixture_handled.sce"
		   ]
		  },
  {
"cell_type": "code",
	   "execution_count": null,
	   "metadata": {
	    "collapsed": true
	   },
	   "outputs": [],
"source": [
"//pathname=get_absolute_file_path('15.09.sce')\n",
"//filename=pathname+filesep()+'15.09-data.sci'\n",
"//exec(filename)\n",
"//Leakage(in kg/min):\n",
"m=3\n",
"//Acceleration due to gravity(in m/s^2):\n",
"g=9.81\n",
"//Gas constant(in kJ/kg.K):\n",
"R=0.287\n",
"//From steam tables:\n",
"ps=5.628 //kPa\n",
"ps1=5.075 //kPa\n",
"ps2=5.352 //kPa\n",
"//Absolute pressure in condenser(in kPa):\n",
"pt=ps\n",
"//Partial pressure of air(in kPa):\n",
"pa1=pt-ps1\n",
"//Volume of air handled by air pump(in m^3/hr):\n",
"V1=m*R*(273+33)/pa1\n",
"//Partial pressure of air(in kPa):\n",
"pa2=pt-ps2\n",
"//Volume of mixture handled(in m^3/hr):\n",
"V2=m*R*(273+34)/pa2\n",
"printf('\nRESULT\n')\n",
"printf('\nVolume of air handled = %f m^3/hr',V1)\n",
"printf('\nVolume of mixture handled = %f m^3/hr',V2)"
   ]
   }
,
{
		   "cell_type": "markdown",
		   "metadata": {},
		   "source": [
			"## Example 15.10: Degree_of_undercooling.sce"
		   ]
		  },
  {
"cell_type": "code",
	   "execution_count": null,
	   "metadata": {
	    "collapsed": true
	   },
	   "outputs": [],
"source": [
"//pathname=get_absolute_file_path('15.10.sce')\n",
"//filename=pathname+filesep()+'15.10-data.sci'\n",
"//exec(filename)\n",
"//Height in mercury column at inlet in condenser(in cm):\n",
"H1=72\n",
"//Height in mercury column at outlet in condenser(in cm):\n",
"H2=73\n",
"//Dryness fraction:\n",
"x=0.92\n",
"//Density of mercury(in kg/cm^3):\n",
"d=0.0135951\n",
"//Acceleration due to gravity(in m/s^2):\n",
"g=9.81\n",
"//Gas constant(in kJ/kg.K):\n",
"R=0.287\n",
"//Specific heat of water(in kJ/kg.K):\n",
"Cpw=4.18\n",
"//From steam tables:\n",
"hf=141.97 //kJ/kg\n",
"hfg=2421.33 //kJ/kg\n",
"Tsat1=33.87 //C\n",
"Tsat2=28.96 //C\n",
"//Inlet pressure in condenser(in kPa):\n",
"p1=(76-H1)*d*10^4*g*10^(-3)\n",
"//Outlet pressure in the condenser(in kPa):\n",
"p2=(76-H2)*d*10^4*g*10^(-3)\n",
"//Undercooling(in C):\n",
"u=Tsat1-Tsat2\n",
"//Enthalpy of steam entering(in kJ/kg):\n",
"h=hf+x*hfg\n",
"//Cooling water requirement(in kg/kg steam):\n",
"m=(h-Cpw*Tsat2)/(Cpw*13.87)\n",
"printf('\nRESULT\n')\n",
"printf('\nUndercooling = %f C',u)\n",
"printf('\nCooling water requirement = %f kg/kg steam',m)"
   ]
   }
],
"metadata": {
		  "kernelspec": {
		   "display_name": "Scilab",
		   "language": "scilab",
		   "name": "scilab"
		  },
		  "language_info": {
		   "file_extension": ".sce",
		   "help_links": [
			{
			 "text": "MetaKernel Magics",
			 "url": "https://github.com/calysto/metakernel/blob/master/metakernel/magics/README.md"
			}
		   ],
		   "mimetype": "text/x-octave",
		   "name": "scilab",
		   "version": "0.7.1"
		  }
		 },
		 "nbformat": 4,
		 "nbformat_minor": 0
}
