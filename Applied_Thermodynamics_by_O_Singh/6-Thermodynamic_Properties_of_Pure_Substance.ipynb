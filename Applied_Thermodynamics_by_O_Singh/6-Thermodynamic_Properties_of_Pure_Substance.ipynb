{
"cells": [
 {
		   "cell_type": "markdown",
	   "metadata": {},
	   "source": [
       "# Chapter 6: Thermodynamic Properties of Pure Substance"
	   ]
	},
{
		   "cell_type": "markdown",
		   "metadata": {},
		   "source": [
			"## Example 6.02: To_determine_the_dryness_fraction.sce"
		   ]
		  },
  {
"cell_type": "code",
	   "execution_count": null,
	   "metadata": {
	    "collapsed": true
	   },
	   "outputs": [],
"source": [
"//pathname=get_absolute_file_path('6.02.sce')\n",
"//filename=pathname+filesep()+'6.02-data.sci'\n",
"//exec(filename)\n",
"//Pressure at which steam is entering(in MPa):\n",
"p1=10\n",
"//Pressure at which steam is coming out(in MPa):\n",
"p2=0.05\n",
"//Temperature of the steam(in°C):\n",
"T=100\n",
"//From steam tables:\n",
"//Enthalpy of superheated steam at 0.05 MPa and 100°C(in kJ/kg):\n",
"h2=2682.5\n",
"hf10=1407.56\n",
"hfg10=1317.1\n",
"//Due to throttling:\n",
"h1=h2\n",
"//Dryness fraction:\n",
"x1=(h1-hf10)/hfg10\n",
"printf('\nRESULT\n')\n",
"printf('\nDryness fraction = %f',x1)"
   ]
   }
,
{
		   "cell_type": "markdown",
		   "metadata": {},
		   "source": [
			"## Example 6.03: To_determine_the_internal_energy.sce"
		   ]
		  },
  {
"cell_type": "code",
	   "execution_count": null,
	   "metadata": {
	    "collapsed": true
	   },
	   "outputs": [],
"source": [
"//pathname=get_absolute_file_path('6.03.sce')\n",
"//filename=pathname+filesep()+'6.03-data.sci'\n",
"//exec(filename)\n",
"//Pressure(in MPa):\n",
"p=12\n",
"//Specific volume(in m^3/kg):\n",
"v=0.017\n",
"//Enthaply(in kJ/kg):\n",
"h=2848\n",
"//Internal energy(in kJ/kg):\n",
"u=h-p*10^3*v\n",
"printf('\nRESULT\n')\n",
"printf('\nInternal energy = %d kJ/kg',u)"
   ]
   }
,
{
		   "cell_type": "markdown",
		   "metadata": {},
		   "source": [
			"## Example 6.04: To_find_out_the_entropy_of_steam.sce"
		   ]
		  },
  {
"cell_type": "code",
	   "execution_count": null,
	   "metadata": {
	    "collapsed": true
	   },
	   "outputs": [],
"source": [
"//pathname=get_absolute_file_path('6.04.sce')\n",
"//filename=pathname+filesep()+'6.04-data.sci'\n",
"//exec(filename)\n",
"//Mass of steam(in kg):\n",
"m=5\n",
"//Pressure(in MPa):\n",
"p=2\n",
"//Temperature of superheated steam(in K):\n",
"Tss=300+273.15\n",
"//Specific heat of super heated steam(in kJ/kg.K):\n",
"Cps=2.1\n",
"//Specific heat of water(in kJ/kg.K):\n",
"Cpw=4.18\n",
"//From steam tables:\n",
"hfg=1890.7\n",
"//Saturation temperature(in K):\n",
"Tsat=212.42+273.15\n",
"//Entropy of unit mass of superheated steam with reference to absolute zero(in kJ/kg.K):\n",
"s=Cpw*log(Tsat/273.15)+hfg/Tsat+Cps*log(Tss/Tsat)\n",
"//Entropy of 5 kg of steam(in kJ/K):\n",
"S=m*s\n",
"printf('\nRESULT\n')\n",
"printf('\nEntropy of steam = %f kJ/K',S)"
   ]
   }
,
{
		   "cell_type": "markdown",
		   "metadata": {},
		   "source": [
			"## Example 6.05: To_find_out_the_boiling_point.sce"
		   ]
		  },
  {
"cell_type": "code",
	   "execution_count": null,
	   "metadata": {
	    "collapsed": true
	   },
	   "outputs": [],
"source": [
"//pathname=get_absolute_file_path('6.05.sce')\n",
"//filename=pathname+filesep()+'6.05-data.sci'\n",
"//exec(filename)\n",
"//Boiling point(in°C):\n",
"Tb=110\n",
"//From steam table:\n",
"//Pressure at which it boils(in kPa): \n",
"p= 143.27\n",
"//Boiling point at this depth = Tsat at 138.365\n",
"//From steam table this temperature(in °C): \n",
"Tsat= 108.866\n",
"//Pressure at 50 cm depth(in kPa):\n",
"p1=p-9.81*0.50\n",
"printf('\nRESULT\n')\n",
"printf('\nBoiling point = %f °C',Tsat)"
   ]
   }
,
{
		   "cell_type": "markdown",
		   "metadata": {},
		   "source": [
			"## Example 6.06: To_determine_mass_and_volume_of_water.sce"
		   ]
		  },
  {
"cell_type": "code",
	   "execution_count": null,
	   "metadata": {
	    "collapsed": true
	   },
	   "outputs": [],
"source": [
"//pathname=get_absolute_file_path('6.06.sce')\n",
"//filename=pathname+filesep()+'6.06-data.sci'\n",
"//exec(filename)\n",
"//Temperature of the water vapor mixture(in °C):\n",
"T=100\n",
"//Volume of the rigid vessel(in m^3):\n",
"V=0.5\n",
"//From steam tables:\n",
"//Specific volume at state 2(in m^3/kg):\n",
"v2=0.003155\n",
"vf=0.001044\n",
"vg=1.6729\n",
"//Specific volume at state 1(in m^3/kg):\n",
"v1=v2\n",
"//Dryness fraction:\n",
"x1=(v1-vf)/vg\n",
"//Total mass of fluid(in kg):\n",
"m=V/v2\n",
"//Volume of water(in m^3):\n",
"v=m*vf\n",
"printf('\nRESULT\n')\n",
"printf('\nMass of water = %f kg',m)\n",
"printf('\nVolume of water = %f m^3',v)"
   ]
   }
,
{
		   "cell_type": "markdown",
		   "metadata": {},
		   "source": [
			"## Example 6.07: To_determine_the_slope.sce"
		   ]
		  },
  {
"cell_type": "code",
	   "execution_count": null,
	   "metadata": {
	    "collapsed": true
	   },
	   "outputs": [],
"source": [
"//pathname=get_absolute_file_path('6.07.sce')\n",
"//filename=pathname+filesep()+'6.07-data.sci'\n",
"//exec(filename)\n",
"//Pressure(in MPa):\n",
"p=2\n",
"//Temperature(in K):\n",
"T=500+273.15\n",
"//Slope of isobar:(dh/ds)at constant pressure=T:\n",
"s=T\n",
"printf('\nRESULT\n')\n",
"printf('\nSlope = %f',s)"
   ]
   }
,
{
		   "cell_type": "markdown",
		   "metadata": {},
		   "source": [
			"## Example 6.08: To_determine_enthalpy_entropy_and_specific_volume.sce"
		   ]
		  },
  {
"cell_type": "code",
	   "execution_count": null,
	   "metadata": {
	    "collapsed": true
	   },
	   "outputs": [],
"source": [
"//pathname=get_absolute_file_path('6.08.sce')\n",
"//filename=pathname+filesep()+'6.08-data.sci'\n",
"//exec(filename)\n",
"//Dryness fraction:\n",
"x=0.10\n",
"//Pressure(in MPa):\n",
"p=0.15\n",
"//From steam tables:(at 0.15 MPa):\n",
"hf = 467.11 \n",
"hg = 2693.6\n",
"vf = 0.001053\n",
"vg = 1.1593\n",
"sf = 1.4336\n",
"sg = 7.2233 \n",
"//Enthalpy(in kJ/kg):\n",
"h=hf+x*(hg-hf)\n",
"//Specific volume(in m^3/kg):\n",
"v=vf+x*(vg-vf)\n",
"//Entropy(in kJ/kg.K):\n",
"s=sf+x*(sg-sf)\n",
"printf('\nRESULT\n')\n",
"printf('\nEnthalpy = %f kJ/kg',h)\n",
"printf('\nSpecific volume = %f m^3/kg',v)\n",
"printf('\nEntropy = %f kJ/kg.K',s)"
   ]
   }
,
{
		   "cell_type": "markdown",
		   "metadata": {},
		   "source": [
			"## Example 6.09: To_determine_amount_of_heat_added.sce"
		   ]
		  },
  {
"cell_type": "code",
	   "execution_count": null,
	   "metadata": {
	    "collapsed": true
	   },
	   "outputs": [],
"source": [
"//pathname=get_absolute_file_path('6.09.sce')\n",
"//filename=pathname+filesep()+'6.09-data.sci'\n",
"//exec(filename)\n",
"//Initial State:\n",
"//Pressure(in MPa):\n",
"p1=1\n",
"//Volume(in m^3):\n",
"V1=0.05\n",
"//Dryness fraction:\n",
"x1=0.80\n",
"//Final state:\n",
"//Pressure(in MPa):\n",
"p2=1\n",
"//Volume(in m^3):\n",
"V2=0.2\n",
"//From steam table:(at state 1):\n",
"vf = 0.001127 //(m3/kg)\n",
"vg = 0.19444 //(m3/kg)\n",
"uf = 761.68 //(kJ/kg)\n",
"ufg = 1822 //(kJ/kg)\n",
"//Work done(in kJ):\n",
"W=p1*10^3*(V2-V1)\n",
"//Specific volume at state 1(in m^3/kg):\n",
"v1=vf+x1*(vg-vf)\n",
"//Mass of system(in kg):\n",
"m=V1/v1\n",
"//Specific volume at state 2(in m^3/kg):\n",
"v2=V2/m\n",
"//Temperature at final state(in °C):\n",
"Tf=1077.61\n",
"//Internal energy at final state(at 1077.61 °C):\n",
"u2=4209.6\n",
"//Internal energy at initial state(in kJ/kg):\n",
"u1=uf+x1*ufg\n",
"//Heat added(in kJ):\n",
"Q=m*(u2-u1)+W\n",
"printf('\nRESULT\n')\n",
"printf('\nHeat added = %f kJ',Q)"
   ]
   }
,
{
		   "cell_type": "markdown",
		   "metadata": {},
		   "source": [
			"## Example 6.10: To_determine_pressure_and_temperature_at_condensation.sce"
		   ]
		  },
  {
"cell_type": "code",
	   "execution_count": null,
	   "metadata": {
	    "collapsed": true
	   },
	   "outputs": [],
"source": [
"//pathname=get_absolute_file_path('6.10.sce')\n",
"//filename=pathname+filesep()+'6.10-data.sci'\n",
"//exec(filename)\n",
"//Presure of the steam(in kPa):\n",
"p1=800\n",
"//Temperature(in °C)\n",
"T=200\n",
"//From steam tables:\n",
"//Saturation temp(in °C):\n",
"Tsat=170.43\n",
"//Specific volume(in m^3/kg):\n",
"v1=0.2404 \n",
"v2=0.2404\n",
"//Final temperature(in °C):\n",
"T2=170.46\n",
"//Final pressure(in kPa):\n",
"p2=800.96\n",
"printf('\nRESULT\n')\n",
"printf('\nPressure =%f kPa',p2)\n",
"printf('\nTemperature = %f °C',T2)"
   ]
   }
,
{
		   "cell_type": "markdown",
		   "metadata": {},
		   "source": [
			"## Example 6.11: To_determine_enthalpy_change.sce"
		   ]
		  },
  {
"cell_type": "code",
	   "execution_count": null,
	   "metadata": {
	    "collapsed": true
	   },
	   "outputs": [],
"source": [
"//pathname=get_absolute_file_path('6.11.sce')\n",
"//filename=pathname+filesep()+'6.11-data.sci'\n",
"//exec(filename)\n",
"//Temperature of water(in °C):\n",
"T=30\n",
"//Pressure(in kPa):\n",
"p=200\n",
"//From steam tables:\n",
"//Corresponding pressure at 30°C(in kPa):\n",
"p1=4.25\n",
"//Specific volume(in m^3):\n",
"v1=0.001004\n",
"//Enthalpy change(in kJ/kg):\n",
"dh=v1*(p-p1)\n",
"printf('\nRESULT\n')\n",
"printf('\nEnthalpy change = %f kJ/kg',dh)"
   ]
   }
,
{
		   "cell_type": "markdown",
		   "metadata": {},
		   "source": [
			"## Example 6.12: To_determine_the_mass_and_quality_of_steam.sce"
		   ]
		  },
  {
"cell_type": "code",
	   "execution_count": null,
	   "metadata": {
	    "collapsed": true
	   },
	   "outputs": [],
"source": [
"//pathname=get_absolute_file_path('6.12.sce')\n",
"//filename=pathname+filesep()+'6.12-data.sci'\n",
"//exec(filename)\n",
"//Volume occupied by water(in m^3):\n",
"V1=3/5*2\n",
"//Volume occupied by steam(in m^3):\n",
"V2=2/5*2\n",
"//From steam table\n",
"vf = 0.001091 //(m^3/kg) \n",
"vg = 0.3928 //(m^3/kg)\n",
"//Mass of water(in kg):\n",
"mf=V1/vf\n",
"//Mass of steam(in kg):\n",
"mg=V2/vg\n",
"//Total mass(in kg):\n",
"mt=mf+mg\n",
"//Dryness fraction:\n",
"x=mg/mt\n",
"printf('\nRESULT\n')\n",
"printf('\nMass = %f kg',mt)\n",
"printf('\nQuality = %f',x)"
   ]
   }
,
{
		   "cell_type": "markdown",
		   "metadata": {},
		   "source": [
			"## Example 6.13: To_determine_the_turbine_output.sce"
		   ]
		  },
  {
"cell_type": "code",
	   "execution_count": null,
	   "metadata": {
	    "collapsed": true
	   },
	   "outputs": [],
"source": [
"//pathname=get_absolute_file_path('6.13.sce')\n",
"//filename=pathname+filesep()+'6.13-data.sci'\n",
"//exec(filename)\n",
"//Pressure of the steam(in MPa):\n",
"p=4\n",
"//Temperature of steam entering(in °C):\n",
"T1=300\n",
"//Temperature of steam at turbine exit(in °C):\n",
"T2=50\n",
"//From steam tables:\n",
"h1=2886.2 //kJ/kg\n",
"s1=6.2285 //kJ/kg.K\n",
"hf = 209.33 //kJ/kg\n",
"sf = 0.7038 //kJ/kg.K\n",
"hfg = 2382.7 //kJ/kg\n",
"sfg = 7.3725 //kJ/kg.K\n",
"//Let:\n",
"s2=s1\n",
"//Dryness fraction:\n",
"x2=(s2-sf)/sfg\n",
"//Enthalpy at state 2(in kJ/kg):\n",
"h2=hf+x2*hfg\n",
"//Turbine work(in kJ/kg):\n",
"W=h1-h2\n",
"printf('\nRESULT\n')\n",
"printf('\nTurbine output = %f kJ/kg',W)"
   ]
   }
,
{
		   "cell_type": "markdown",
		   "metadata": {},
		   "source": [
			"## Example 6.14: To_determine_the_mass_and_quality_of_steam.sce"
		   ]
		  },
  {
"cell_type": "code",
	   "execution_count": null,
	   "metadata": {
	    "collapsed": true
	   },
	   "outputs": [],
"source": [
"//pathname=get_absolute_file_path('6.14.sce')\n",
"//filename=pathname+filesep()+'6.14-data.sci'\n",
"//exec(filename)\n",
"//Mass of steam(in kg):\n",
"m1=100\n",
"//Initial pressure(in kPa):\n",
"p1=100\n",
"//Final pressure(in kPa):\n",
"p2=1000\n",
"//Dryness fraction:\n",
"x1=0.5\n",
"//Pressure of dry saturated steam(in kPa):\n",
"p3=2000\n",
"//From steam tables:\n",
"hf100kPa = 417.46 //kJ/kg\n",
"uf100kPa = 417.36 //kJ/kg\n",
"vf100kPa = 0.001043 //m^3/kg\n",
"hfg100kPa = 2258 //kJ/kg\n",
"ufg100kPa = 2088.7 //kJ/kg\n",
"vg100kPa = 1.6940 //m^3/kg\n",
"vg2000kPa = 0.09963 //m^3/kg\n",
"ug2000kPa = 2600.3 //kJ/kg\n",
"hg2000kPa = 2799.5 //kJ/kg\n",
"hf1000kPa = 762.81 //kJ/kg,\n",
"hfg1000kPa = 2015.3 //kJ/kg \n",
"vf1000kPa = 0.001127 //m3/kg\n",
"vg1000kPa = 0.19444 //m3/kg\n",
"//Initial specific volume(in m^3/kg):\n",
"v1=vf100kPa+x1*(vg100kPa-vf100kPa)\n",
"//Enthalpy at 1(in kJ/kg):\n",
"h1=hf100kPa+x1*hfg100kPa\n",
"//Volume of vessel(in m^3):\n",
"V=m1*x1*v1\n",
"//Internal energy in the beginning(in kJ):\n",
"U1=m*(uf100kPa+x1*ufg100kPa)\n",
"//Final specific volume(in m^3/kg):\n",
"v2=vg2000kPa*v1/(vg2000kPa+v1)\n",
"//Final dryness fraction:\n",
"x2=(v2-vf1000kPa)/(vg1000kPa-vf1000kPa)\n",
"//Final enthalpy(in kJ/kg):\n",
"h2=hf1000kPa+x2*hfg1000kPa\n",
"//Mass of dry steam at 2000kPa(in kg):\n",
"m=m1*(h1-h2)/(h2-hg2000kPa)\n",
"printf('\nRESULT\n')\n",
"printf('\nMass of dry steam at 2000 kPa to be added = %f kg',m)\n",
"printf('\nQuality of final mixture = %f',x2)"
   ]
   }
,
{
		   "cell_type": "markdown",
		   "metadata": {},
		   "source": [
			"## Example 6.15: To_determine_the_dryness_fraction_of_the_steam_entering.sce"
		   ]
		  },
  {
"cell_type": "code",
	   "execution_count": null,
	   "metadata": {
	    "collapsed": true
	   },
	   "outputs": [],
"source": [
"//pathname=get_absolute_file_path('6.15.sce')\n",
"//filename=pathname+filesep()+'6.15-data.sci'\n",
"//exec(filename)\n",
"//Recorded condenser vacuum:\n",
"r= 71.5 //cm of Mercury\n",
"//Barometer reading: \n",
"br= 76.8 //cm of Mercury\n",
"//Temperature of condensation:\n",
"Tc= 35 //°C\n",
"//Temperature of hot well:\n",
"Thw= 27.6 //°C\n",
"//Mass of condensate per hour:\n",
"mc= 1930 //kg\n",
"//Mass of cooling water per hour:\n",
"mcw= 62000 //kg\n",
"//Inlet temperature \n",
"Ti= 8.51 //°C\n",
"//Outlet temperature:\n",
"To= 26.24 //°C\n",
"//From steam tables:\n",
"hf = 146.68 //kJ/kg\n",
"hfg = 2418.6 //kJ/kg\n",
"//Condensor pressure(in kPa):\n",
"pc=(br-r)/73.55*101.325\n",
"//Partial pressure of steam corresponding to 35°C from steam table(in kPa):\n",
"ps= 5.628 \n",
"//Dryness fraction:\n",
"x=(mcw*(To-Ti)*4.18-mc*hf+mc*4.18*To)/(mc*hfg)\n",
"printf('\nRESULT\n')\n",
"printf('\nDryness fraction of the steam entering = %f',x)"
   ]
   }
,
{
		   "cell_type": "markdown",
		   "metadata": {},
		   "source": [
			"## Example 6.16: To_determine_the_work_done.sce"
		   ]
		  },
  {
"cell_type": "code",
	   "execution_count": null,
	   "metadata": {
	    "collapsed": true
	   },
	   "outputs": [],
"source": [
"//pathname=get_absolute_file_path('6.16.sce')\n",
"//filename=pathname+filesep()+'6.16-data.sci'\n",
"//exec(filename)\n",
"//Diameter of the vessel(in m):\n",
"D=0.2\n",
"//Depth(in m):\n",
"d=0.02\n",
"//Temperature(in °C):\n",
"T=150\n",
"//Force applied(in kN):\n",
"F=10\n",
"//Heat supplied(in kJ):\n",
"Q=600\n",
"//From steam tables:\n",
"hf=612.1\n",
"hfg=2128.7\n",
"vg=0.4435\n",
"h2=1582.8\n",
"//Pressure at which process is taking place(in kPa):\n",
"p=F/(%pi*D^2)*4+101.3\n",
"//Volume of water contained(in m^3):\n",
"V1=%pi*D^2*d/4\n",
"//Mass of water(in kg):\n",
"m=V1*1000\n",
"//Dryness fraction:\n",
"x=(Q-hf*m+4.18*T*m)/(hfg*m)\n",
"//Internal energy of water initially(in kJ):\n",
"U1=m*4.18*T-p*V1\n",
"//Final volume(in m^3):\n",
"V2=m*x*vg\n",
"//Internal energy at state 2(in kJ):\n",
"U2=m*h2-p*V2\n",
"//Change in internal energy(in kJ):\n",
"dU=U2-U1\n",
"//Work done(in kJ):\n",
"W=p*(V2-V1)\n",
"printf('\nRESULT\n')\n",
"printf('\nDryness fraction of the steam produced = %f',x)\n",
"printf('\nChange in internal energy = %f kJ',dU)\n",
"printf('\nWork done = %f kJ',W)"
   ]
   }
,
{
		   "cell_type": "markdown",
		   "metadata": {},
		   "source": [
			"## Example 6.17: To_determine_the_dryness_fraction.sce"
		   ]
		  },
  {
"cell_type": "code",
	   "execution_count": null,
	   "metadata": {
	    "collapsed": true
	   },
	   "outputs": [],
"source": [
"//pathname=get_absolute_file_path('6.17.sce')\n",
"//filename=pathname+filesep()+'6.17-data.sci'\n",
"//exec(filename)\n",
"//Mass of steam passed(in kg):\n",
"ms=40\n",
"//Mass of water passed(in kg):\n",
"mw=2.2\n",
"//Initial pressure of steam(in MPa):\n",
"p1=1.47\n",
"//Temperature after throttling(in °C):\n",
"T=120\n",
"//Pressure after throttling(in kPa):\n",
"p2=107.88\n",
"//Specific heat of superheated steam(in kJ/kg.K):\n",
"s=2.09\n",
"//From steam tables:\n",
"hf=840.513\n",
"hfg=1951.02\n",
"h1=2673.95\n",
"//Degree of superheat(in °C):\n",
"ds=T-101.8\n",
"//Enthalpy of superheated steam(in kJ/kg):\n",
"h2=h1+ds*s\n",
"//Dryness fraction after throttling:\n",
"x2=(h2-hf)/hfg\n",
"//Dryness fraction before throttling:\n",
"x1=(ms-mw)/ms\n",
"//Overall dryness fraction:\n",
"x=x1*x2\n",
"printf('\nRESULT\n')\n",
"printf('\nDryness fraction = %f',x)"
   ]
   }
,
{
		   "cell_type": "markdown",
		   "metadata": {},
		   "source": [
			"## Example 6.18: To_determine_the_amount_of_heat_added_and_initial_quality.sce"
		   ]
		  },
  {
"cell_type": "code",
	   "execution_count": null,
	   "metadata": {
	    "collapsed": true
	   },
	   "outputs": [],
"source": [
"//pathname=get_absolute_file_path('6.18.sce')\n",
"//filename=pathname+filesep()+'6.18-data.sci'\n",
"//exec(filename)\n",
"//Initial volume in part A(in m^3):\n",
"Va=0.4\n",
"//Pressure(in bar):\n",
"pa=10\n",
"//Initial volume in part B(in m^3):\n",
"V=0.4\n",
"//Pressure in part B(in bar):\n",
"p1=10\n",
"//Final pressure in part B(in bar):\n",
"p2=15\n",
"//From steam tables:\n",
"hf=762.83\n",
"hfg=2015.3\n",
"h2=2792.2\n",
"//Heat added(in kJ):\n",
"Q=V*(p2-p1)*10^2\n",
"//Dryness fraction:\n",
"x1=(h2-Q-hf)/hfg\n",
"printf('\nRESULT\n')\n",
"printf('\nHeat added = %d kJ',Q)\n",
"printf('\nInitial quality = %f',x1)"
   ]
   }
,
{
		   "cell_type": "markdown",
		   "metadata": {},
		   "source": [
			"## Example 6.19: To_determine_heat_and_work_transfer.sce"
		   ]
		  },
  {
"cell_type": "code",
	   "execution_count": null,
	   "metadata": {
	    "collapsed": true
	   },
	   "outputs": [],
"source": [
"//pathname=get_absolute_file_path('6.19.sce')\n",
"//filename=pathname+filesep()+'6.19-data.sci'\n",
"//exec(filename)\n",
"//Mass of wet steam(in kg):\n",
"m=3\n",
"//Initial pressure(in bar):\n",
"p1=1.4\n",
"//Initial volume(in m^3):\n",
"V1=2.25\n",
"//Final temperature of steam(in °C):\n",
"T=400\n",
"//At 400°C,volume of steam(in m^3):\n",
"V2=4.65\n",
"//From steam tables:\n",
"vg=1.2455\n",
"hf=457.99\n",
"hfg=2232.3\n",
"h2=3276.6\n",
"uf=457.84\n",
"ufg=2059.34\n",
"u2=2966.7\n",
"//Specific volume of wer steam in cylinder(in m^3/kg):\n",
"v1=V1/m\n",
"//Dryness fraction of initial steam:\n",
"x1=v1/vg\n",
"//Initial enthalpy of wet steam(in kJ/kg):\n",
"h1=hf+x1*hfg\n",
"//At 400°C specific volume of steam(in m^3/kg):\n",
"v2=V2/m\n",
"//Actual pressure(from steam table)(in MPa):\n",
"p2=0.20\n",
"//Saturation temp at this pressure = 120.23°C\n",
"//Finally the degree of superheat(in °C):\n",
"ds=T-120.23\n",
"//Heat added during the process(in kJ):\n",
"Q=m*(h2-h1)\n",
"//Internal energy of initial wet steam(in kJ/kg):\n",
"u1=uf+x1*ufg\n",
"//Change in internal energy(in kJ):\n",
"dU=m*(u2-u1)\n",
"//Work done(in kJ):\n",
"W=Q-dU\n",
"printf('\nRESULT\n')\n",
"printf('\nHeat transfer = %f kJ',Q)\n",
"printf('\nWork transfer = %f kJ',W)"
   ]
   }
,
{
		   "cell_type": "markdown",
		   "metadata": {},
		   "source": [
			"## Example 6.20: To_determine_the_percentage_of_vessel_initial_occupied_by_steam.sce"
		   ]
		  },
  {
"cell_type": "code",
	   "execution_count": null,
	   "metadata": {
	    "collapsed": true
	   },
	   "outputs": [],
"source": [
"//pathname=get_absolute_file_path('6.20.sce')\n",
"//filename=pathname+filesep()+'6.20-data.sci'\n",
"//exec(filename)\n",
"//Pressure of the steam(in bar):\n",
"p1=10\n",
"//Temperature(in °C):\n",
"T=500\n",
"//Final pressure(in bar):\n",
"p2=1\n",
"//From steam tables:\n",
"h10bar500 = 3478.5 //kJ/kg\n",
"s10bar500 = 7.7622 //kJ/kg.K\n",
"v10bar500 = 0.3541 //m^3/kg\n",
"h1bar400 = 3278.2 //kJ/kg\n",
"h1bar500 = 3488.1 //kJ/kg\n",
"v1bar500 = 3.565 //m^3/kg\n",
"v1bar400 = 3.103 //m^3/kg\n",
"s1bar500 = 8.8342 //kJ/kg.K\n",
"s1bar400 = 8.5435 //kJ/kg.K\n",
"h2=h10bar500\n",
"//Final temperature(in °C):\n",
"T2=(h2-h1bar400)*(T-400)/(h1bar500-h1bar400)+400\n",
"//Final entropy(in kJ/kg.K):\n",
"s2=s1bar400+(s1bar500-s1bar400)/(T-400)*(T2-400)\n",
"//Change in entropy(in kJ/kg.K):\n",
"ds=s2-s10bar500\n",
"//Final specific volume(in m^3/kg):\n",
"v2=v1bar400+(v1bar500-v1bar400)/(T-400)*(T2-400)\n",
"//Percentage volume occupied by steam:\n",
"p=v10bar500/v2*100\n",
"printf('\nRESULT\n')\n",
"printf('\nFinal temperature = %f kJ',T2)\n",
"printf('\nChange in entropy = %f kJ',ds)\n",
"printf('\nPercentage of vessel volume initially occupied by steam = %f percent',p)"
   ]
   }
,
{
		   "cell_type": "markdown",
		   "metadata": {},
		   "source": [
			"## Example 6.21: To_determine_the_irresversibilty.sce"
		   ]
		  },
  {
"cell_type": "code",
	   "execution_count": null,
	   "metadata": {
	    "collapsed": true
	   },
	   "outputs": [],
"source": [
"//pathname=get_absolute_file_path('6.21.sce')\n",
"//filename=pathname+filesep()+'6.21-data.sci'\n",
"//exec(filename)\n",
"//Steam entering:\n",
"//Pressure(in MPa):\n",
"p1=2.5\n",
"//Temperature(in °C):\n",
"T1=350\n",
"//Steam rejected:\n",
"//Pressure(in kPa):\n",
"p2=20\n",
"//Dryness fraction:\n",
"x2=0.92\n",
"//Pressure of one quater of intial steam(in kPa):\n",
"p3=30\n",
"//Temperature(in °K):\n",
"T0=30+273\n",
"m1=1\n",
"m2=0.25\n",
"m3=0.75\n",
"//Heat lost during expansion(in kJ):\n",
"Q=-10\n",
"//From steam tables:\n",
"h1=3126.3 //kJ/kg\n",
"s1=6.8403 //kJ/kg.K\n",
"h2=2878.6 //kJ/kg\n",
"s2=8.5309 //kJ/kg.K\n",
"h3 = 2421.04 //kJ/kg\n",
"s3 = 7.3425 //kJ/kg.K\n",
"hf = 251.40 //kJ/kg\n",
"hg = 2609.7 //kJ/kg\n",
"sf = 0.8320 //kJ/kg.K\n",
"sfg = 7.0766 //kJ/kg.K\n",
"h0=125.79 \n",
"s0=0.4369\n",
"//Availability of steam entering turbine(in kJ/kg):\n",
"A1=(h1-h0)-T0*(s1-s0)\n",
"//Availability of steam leaving turbine at state 2(in kJ/kg):\n",
"A2=(h2-h0)-T0*(s2-s0)\n",
"//Availability of steam leaving turbine at state 3(in kJ/kg):\n",
"A3=(h3-h0)-T0*(s3-s0)\n",
"//Maximum work per kg of steam entering turbine(in kJ/kg):\n",
"Wmax=m1*A1-m2*A2-m3*A3\n",
"//Irreversibilty(in kJ/s):\n",
"I=T0*(m2*s2+m3*s3-m1*s1)-Q\n",
"printf('\nRESULT\n')\n",
"printf('\nMaximum work = %f kJ/kg',Wmax)\n",
"printf('\nIrreversibility = %f kJ/s',I)"
   ]
   }
,
{
		   "cell_type": "markdown",
		   "metadata": {},
		   "source": [
			"## Example 6.22: To_determine_the_change_in_availability.sce"
		   ]
		  },
  {
"cell_type": "code",
	   "execution_count": null,
	   "metadata": {
	    "collapsed": true
	   },
	   "outputs": [],
"source": [
"//pathname=get_absolute_file_path('6.22.sce')\n",
"//filename=pathname+filesep()+'6.22-data.sci'\n",
"//exec(filename)\n",
"//Initial pressure(in MPa):\n",
"p1=6\n",
"//Final pressure(in MPa):\n",
"p2=5\n",
"//Initial temperature(in °C):\n",
"T1=400\n",
"//Atmospheric pressure(in kPa):\n",
"patm=100\n",
"//Atmospheric temperature(in °K):\n",
"Ta=20+273\n",
"//From steam tables:\n",
"h1=3177.2 //kJ/kg\n",
"s1=6.5408 //kJ/kg.K\n",
"h2=h1\n",
"T2=392.7 //°C(by interpolation)\n",
"s2=6.6172 //kJ/kg.K(//By interpolation Entropy)\n",
"h0=83.96 //kJ/kg\n",
"s0 = 0.2966 //kJ/kg\n",
"//Availability at state 1(in kJ/kg):\n",
"A1=(h1-h0)-Ta*(s1-s0)\n",
"//Availability at state 2(in kJ/kg):\n",
"A2=(h2-h0)-Ta*(s2-s0)\n",
"//Change in availibilty(in kJ/kg):\n",
"dA=A2-A1\n",
"printf('\nRESULTS\n')\n",
"printf('\nChange in availability = %f kJ/kg decrease',-dA)"
   ]
   }
,
{
		   "cell_type": "markdown",
		   "metadata": {},
		   "source": [
			"## Example 6.23: To_determine_the_amount_of_exergy_destruction.sce"
		   ]
		  },
  {
"cell_type": "code",
	   "execution_count": null,
	   "metadata": {
	    "collapsed": true
	   },
	   "outputs": [],
"source": [
"//pathname=get_absolute_file_path('6.23.sce')\n",
"//filename=pathname+filesep()+'6.23-data.sci'\n",
"//exec(filename)\n",
"//Temperature of the hot water entering(in °C):\n",
"TH1= 95\n",
"//Temperature of the hot water at exit(in °C): \n",
"TH2= 50\n",
"//Mass flow rate(in kg/s):\n",
"mH = 0.8 \n",
"//Temperature of cooling water entering(in °K):\n",
"TC1= 15+273\n",
"//Temperature of cooling water at exit(in °K):\n",
"TC2= 45+273\n",
"//Temperature of dead state(in K):\n",
"T0=25+273\n",
"//From steam tables:\n",
"h0=104.89  //kJ/kg\n",
"s0=0.3674  //kJ/kg.K\n",
"hH1=397.96 //kJ/kg\n",
"sH1=1.2500 //kJ/kg.K\n",
"hH2=209.33 //kJ/kg.K\n",
"sH2=0.7038 //kJ/kg.K\n",
"hC2=188.45 //kJ/kg.K\n",
"sC2=0.6387 //kJ/kg.K\n",
"hC1=62.99 //kJ/kg.K\n",
"sC1=0.2245 //kJ/kg.K\n",
"//Mass flow rate of cooling water(in kg/s):\n",
"mC=mH*(TH1-TH2)/(TC2-TC1)\n",
"//Exergy entering through hot water stream(in kJ/s):\n",
"AH1=mH*((hH1-h0)-T0*(sH1-s0))\n",
"//Rate of exergy increase in cold stream(in kJ/s):\n",
"dAc=mC*((hC2-hC1)-T0*(sC2-sC1))\n",
"//Second law efficiency:\n",
"n=dAc/AH1*100\n",
"//Rate of exergy loss in hot stream(in kJ/s):\n",
"dAh=mH*((hH1-hH2)-T0*(sH1-sH2))\n",
"//Exergy destruction(in kJ/s):\n",
"dA=dAh-dAc\n",
"printf('\nRESULT\n')\n",
"printf('\nSecond law efficincy = %f percent',n)\n",
"printf('\nExergy destruction = %f kJ/s',dA)"
   ]
   }
],
"metadata": {
		  "kernelspec": {
		   "display_name": "Scilab",
		   "language": "scilab",
		   "name": "scilab"
		  },
		  "language_info": {
		   "file_extension": ".sce",
		   "help_links": [
			{
			 "text": "MetaKernel Magics",
			 "url": "https://github.com/calysto/metakernel/blob/master/metakernel/magics/README.md"
			}
		   ],
		   "mimetype": "text/x-octave",
		   "name": "scilab",
		   "version": "0.7.1"
		  }
		 },
		 "nbformat": 4,
		 "nbformat_minor": 0
}
