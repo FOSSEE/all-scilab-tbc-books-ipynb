{
"cells": [
 {
		   "cell_type": "markdown",
	   "metadata": {},
	   "source": [
       "# Chapter 7: Field Effect Transistors"
	   ]
	},
{
		   "cell_type": "markdown",
		   "metadata": {},
		   "source": [
			"## Example 7.10: Determine_Drain_current.sce"
		   ]
		  },
  {
"cell_type": "code",
	   "execution_count": null,
	   "metadata": {
	    "collapsed": true
	   },
	   "outputs": [],
"source": [
"//Exa 7.10\n",
"clc;\n",
"clear;\n",
"close;\n",
"//given data :\n",
"ID_on=5;//in mA\n",
"VGS=6;//in Volt\n",
"VGS_on=8;//in Volt\n",
"VGST=4;//in Volt\n",
"K=ID_on/(VGS_on-VGST)^2;//in mA/V^2\n",
"ID=K*(VGS-VGST)^2;//in mA\n",
"disp(ID,'When VGS=6V the drain current in mA : ');"
   ]
   }
,
{
		   "cell_type": "markdown",
		   "metadata": {},
		   "source": [
			"## Example 7.1: Determine_resistance_between_gate_and_source.sce"
		   ]
		  },
  {
"cell_type": "code",
	   "execution_count": null,
	   "metadata": {
	    "collapsed": true
	   },
	   "outputs": [],
"source": [
"//Exa 7.1\n",
"clc;\n",
"clear;\n",
"close;\n",
"//given data :\n",
"VGS=10;//in Volt\n",
"IG=0.001;//in uA\n",
"IG=IG*10^-6;//in A\n",
"RGS=VGS/IG;//in ohm\n",
"disp(RGS/10^6,'Resistance between gate and source in Mohm ; ');"
   ]
   }
,
{
		   "cell_type": "markdown",
		   "metadata": {},
		   "source": [
			"## Example 7.2: Calculate_AC_drain_resistance.sce"
		   ]
		  },
  {
"cell_type": "code",
	   "execution_count": null,
	   "metadata": {
	    "collapsed": true
	   },
	   "outputs": [],
"source": [
"//Exa 7.2\n",
"clc;\n",
"clear;\n",
"close;\n",
"//given data :\n",
"delVDS=1.5;//in Volt\n",
"delID=120;//in uA\n",
"delID=120*10^-6;//in A\n",
"rd=delVDS/delID;//in Ohm\n",
"disp(rd*10^-3,'AC drain resistance of JFET in Kohm : ');"
   ]
   }
,
{
		   "cell_type": "markdown",
		   "metadata": {},
		   "source": [
			"## Example 7.3: Determine_Transconductance.sce"
		   ]
		  },
  {
"cell_type": "code",
	   "execution_count": null,
	   "metadata": {
	    "collapsed": true
	   },
	   "outputs": [],
"source": [
"//Exa 7.3\n",
"clc;\n",
"clear;\n",
"close;\n",
"//given data :\n",
"VP=-4.5;//in Volt\n",
"IDSS=10;//in mA\n",
"IDS=2.5;//in mA\n",
"disp('From shockleys equation, drain source current, IDS=IDSS*(1-VGS/VP)^2 ');\n",
"VGS=VP*(1-sqrt(IDS/IDSS));//in Volt\n",
"gm=(-2*IDSS/VP)*(1-VGS/VP);//in mA/Volt\n",
"disp(gm,'Transconductance in mA/Volt : ');"
   ]
   }
,
{
		   "cell_type": "markdown",
		   "metadata": {},
		   "source": [
			"## Example 7.4: Calculate_VGS.sce"
		   ]
		  },
  {
"cell_type": "code",
	   "execution_count": null,
	   "metadata": {
	    "collapsed": true
	   },
	   "outputs": [],
"source": [
"//Exa 7.4\n",
"clc;\n",
"clear;\n",
"close;\n",
"//given data :\n",
"gm=10;//in mS\n",
"IDSS=10;//in uA\n",
"IDSS=IDSS-10^-6;//in Ampere\n",
"disp('VGS(OFF) : VGS=VP');\n",
"disp('gm=gmo=-2*IDSS/VP=-2*IDSS/VGS(OFF)');\n",
"VGS_OFF=-2*IDSS/gm\n",
"disp(round(VGS_OFF),'VGS(OFF) in mV :');"
   ]
   }
,
{
		   "cell_type": "markdown",
		   "metadata": {},
		   "source": [
			"## Example 7.5: Determine_minimum_value_of_VDS.sce"
		   ]
		  },
  {
"cell_type": "code",
	   "execution_count": null,
	   "metadata": {
	    "collapsed": true
	   },
	   "outputs": [],
"source": [
"//Exa 7.5\n",
"clc;\n",
"clear;\n",
"close;\n",
"//given data :\n",
"VP=-4;//in Volt\n",
"IDSS=10;//in mA\n",
"IDSS=IDSS*10^-3;//in Ampere\n",
"VGS=-2;//in Volt\n",
"ID=IDSS*(1-VGS/VP)^2;//in mA\n",
"disp(ID*1000,'Drain current in mA : ');\n",
"disp('The minimum value of VDS for pinch-OFF region is equal to VP. Thus the minimum value of VDS : ');\n",
"disp(VP,'VDS(min) in volt : ');"
   ]
   }
,
{
		   "cell_type": "markdown",
		   "metadata": {},
		   "source": [
			"## Example 7.6: Findd_values_of_ID_gmo_and_gm.sce"
		   ]
		  },
  {
"cell_type": "code",
	   "execution_count": null,
	   "metadata": {
	    "collapsed": true
	   },
	   "outputs": [],
"source": [
"//Exa 7.6\n",
"clc;\n",
"clear;\n",
"close;\n",
"//given data :\n",
"VP=-3;//in Volt\n",
"IDSS=8.7;//in mA\n",
"IDSS=IDSS*10^-3;//in mA\n",
"VGS=-1;//in Volt\n",
"ID=IDSS*(1-VGS/VP)^2;//in Ampere\n",
"disp(ID*1000,'ID in mA : ')\n",
"gmo=-2*IDSS/VP;//in mS\n",
"disp(gmo*1000,'gmo in mS : ');\n",
"gm=gmo*(1-VGS/VP);//in mS\n",
"disp(gm*1000,'gm in mS : ');"
   ]
   }
,
{
		   "cell_type": "markdown",
		   "metadata": {},
		   "source": [
			"## Example 7.7: Findd_values_of_ID_and_gm.sce"
		   ]
		  },
  {
"cell_type": "code",
	   "execution_count": null,
	   "metadata": {
	    "collapsed": true
	   },
	   "outputs": [],
"source": [
"//Exa 7.7\n",
"clc;\n",
"clear;\n",
"close;\n",
"//given data :\n",
"VP=-3;//in Volt\n",
"IDSS=8.4;//in mA\n",
"VGS=-1.5;//in Volt\n",
"ID=IDSS*(1-VGS/VP)^2;//in mA\n",
"disp(ID,'Drain current in mA : ');\n",
"gmo=-2*IDSS/VP;//in mS\n",
"gm=gmo*(1-VGS/VP);//in mS\n",
"disp(gm,'gm in mS : ');"
   ]
   }
,
{
		   "cell_type": "markdown",
		   "metadata": {},
		   "source": [
			"## Example 7.8: Find_value_of_VGS_and_gm.sce"
		   ]
		  },
  {
"cell_type": "code",
	   "execution_count": null,
	   "metadata": {
	    "collapsed": true
	   },
	   "outputs": [],
"source": [
"//Exa 7.8\n",
"clc;\n",
"clear;\n",
"close;\n",
"//given data :\n",
"VP=-4.5;//in Volt\n",
"IDSS=9;//in mA\n",
"IDSS=IDSS*10^-3;//in Ampere\n",
"IDS=3;//in mA\n",
"IDS=IDS*10^-3;//in Ampere\n",
"VGS=VP*(1-sqrt(IDS/IDSS));//in Volt\n",
"disp(VGS,'IDS = 3 mA when VGS(in Volt) is :  ');\n",
"gm=(-2*IDSS/VP)*(1-VGS/VP);//in mS\n",
"disp(gm*1000,'IDS = 3 mA when gm(in mS) is :  ');"
   ]
   }
,
{
		   "cell_type": "markdown",
		   "metadata": {},
		   "source": [
			"## Example 7.9: Sketch_the_transfer_Characteristics.sce"
		   ]
		  },
  {
"cell_type": "code",
	   "execution_count": null,
	   "metadata": {
	    "collapsed": true
	   },
	   "outputs": [],
"source": [
"//Exa 7.9\n",
"clc;\n",
"clear;\n",
"close;\n",
"//given data :\n",
"VP=-4;//in Volt\n",
"IDSS=10;//in mA\n",
"VGS=[0 1 -1 -2 -4];\n",
"ID=zeros(1,5);\n",
"for i=1:5\n",
"    ID(i)=IDSS*(1-VGS(i)/VP)^2;//in mA    \n",
"end\n",
"plot2d(VGS,ID);"
   ]
   }
],
"metadata": {
		  "kernelspec": {
		   "display_name": "Scilab",
		   "language": "scilab",
		   "name": "scilab"
		  },
		  "language_info": {
		   "file_extension": ".sce",
		   "help_links": [
			{
			 "text": "MetaKernel Magics",
			 "url": "https://github.com/calysto/metakernel/blob/master/metakernel/magics/README.md"
			}
		   ],
		   "mimetype": "text/x-octave",
		   "name": "scilab",
		   "version": "0.7.1"
		  }
		 },
		 "nbformat": 4,
		 "nbformat_minor": 0
}
