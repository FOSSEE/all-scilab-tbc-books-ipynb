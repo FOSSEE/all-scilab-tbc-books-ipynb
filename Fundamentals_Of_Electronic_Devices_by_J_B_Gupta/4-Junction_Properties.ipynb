{
"cells": [
 {
		   "cell_type": "markdown",
	   "metadata": {},
	   "source": [
       "# Chapter 4: Junction Properties"
	   ]
	},
{
		   "cell_type": "markdown",
		   "metadata": {},
		   "source": [
			"## Example 4.10: Determine_voltage_VA_in_the_circuit.sce"
		   ]
		  },
  {
"cell_type": "code",
	   "execution_count": null,
	   "metadata": {
	    "collapsed": true
	   },
	   "outputs": [],
"source": [
"//Exa4.10\n",
"clc;\n",
"clear;\n",
"close;\n",
"//In given circuit :\n",
"V=15;//in volts\n",
"Vo=0.7;//in Volts\n",
"R=7;//in Kohm\n",
"I=(V-2*Vo)/R\n",
"disp('Since diode is silicon one, and the barrier potential for Si diode is 0.7 volt, Vo = 0.7 volts ');\n",
"disp('This barrier potential acts in opposite direction to the applied voltage. The diode forward resistance is being assumed to be zero.');\n",
"I=(V-2*Vo)/R;//in mAmpere\n",
"disp('Barrier potential of Si diode, Vo = 0.7 Volts');\n",
"disp('Potential VA = Voltage drop across 7 Kohm resistor');\n",
"VA=I*R;//in Volts\n",
"disp(VA,'Voltagee VA in volts : ');"
   ]
   }
,
{
		   "cell_type": "markdown",
		   "metadata": {},
		   "source": [
			"## Example 4.12: Determine_temperature_coefficients.sce"
		   ]
		  },
  {
"cell_type": "code",
	   "execution_count": null,
	   "metadata": {
	    "collapsed": true
	   },
	   "outputs": [],
"source": [
"//Exa4.12\n",
"clc;\n",
"clear;\n",
"close;\n",
"//given data\n",
"Vz=5;//in volts\n",
"to=25;//in degree centigrade\n",
"t=100;//in degree centigrade\n",
"Vdrop=4.8;//in Volts\n",
"delVz=Vdrop-Vz;//in Volts\n",
"delt=t-to;//in degree centigrade\n",
"TempCoeff=delVz*100/(Vz*delt);\n",
"disp(TempCoeff,'Temperature coefficient f zener diode in %  : ');"
   ]
   }
,
{
		   "cell_type": "markdown",
		   "metadata": {},
		   "source": [
			"## Example 4.13: Find_output_voltage_and_current_through_Zener_diode.sce"
		   ]
		  },
  {
"cell_type": "code",
	   "execution_count": null,
	   "metadata": {
	    "collapsed": true
	   },
	   "outputs": [],
"source": [
"//Exa4.13\n",
"clc;\n",
"clear;\n",
"close;\n",
"//given data\n",
"Vz=8;//in volts\n",
"VS=12;//in volts\n",
"Vout=8;//in volts\n",
"RL=10;//in Kohm\n",
"Rs=5;//in Kohm\n",
"//part (a)\n",
"disp('Output voltage will be equal to Vz i.e '+string(Vz)+' Volts');\n",
"//part (b)\n",
"Vrs=VS-Vout;//in volts\n",
"disp(Vrs,'Voltage across Rs in volts : ');\n",
"IL=Vout/RL;//in mAmpere\n",
"Is=(VS-Vout)/Rs;//in mAmpere\n",
"Iz=Is-IL;//in mAmpere\n",
"disp(Iz,'Current through zener diode in mA : ');"
   ]
   }
,
{
		   "cell_type": "markdown",
		   "metadata": {},
		   "source": [
			"## Example 4.14: Find_maximum_and_minimum_values_of_zener_diode_current.sce"
		   ]
		  },
  {
"cell_type": "code",
	   "execution_count": null,
	   "metadata": {
	    "collapsed": true
	   },
	   "outputs": [],
"source": [
"//Exa4.14\n",
"clc;\n",
"clear;\n",
"close;\n",
"//given data\n",
"Vz=50;//in volts\n",
"VSmax=120;//in volts\n",
"VSmin=80;//in volts\n",
"RL=10;//in Kohm\n",
"Rs=5;//in Kohm\n",
"Vout=Vz;//in Volts\n",
"disp('Output voltage will be equal to Vz i.e '+string(Vz)+' Volts');\n",
"IL=Vout/RL;//in mAmpere\n",
"disp('The zener current will be maximum when input voltage is maximum i.e. 120V.');\n",
"ISmax=(VSmax-Vout)/Rs;//in mAmpere\n",
"Izmax=ISmax-IL;//in mA\n",
"disp(Izmax,'Maximum zener diode current in mA : ');\n",
"disp('The zener current will be minimum when input voltage is minimum i.e. 80V.');\n",
"Ismin=(VSmin-Vout)/Rs;//in mAmpere\n",
"Izmin=Ismin-IL;//in mA\n",
"disp(Izmin,'Minimum zener diode current in mA : ');"
   ]
   }
,
{
		   "cell_type": "markdown",
		   "metadata": {},
		   "source": [
			"## Example 4.15: Design_a_regulator.sce"
		   ]
		  },
  {
"cell_type": "code",
	   "execution_count": null,
	   "metadata": {
	    "collapsed": true
	   },
	   "outputs": [],
"source": [
"//Exa4.15\n",
"clc;\n",
"clear;\n",
"close;\n",
"//given data\n",
"Vz=15;//in volts\n",
"Izk=6;//in mA\n",
"Vout=15;//in Volts\n",
"Vs=20;//in Volts\n",
"ILmin=10;//in mA\n",
"ILmax=20;//in mA\n",
"disp('the zener current will be minimum i.e. Izk = 6mA when load current is maximum i.e. ILmax = 20mA');\n",
"RS=(Vs-Vout)/(Izk+ILmax);//in ohm\n",
"disp('when the load current will decrease and become 10 mA, the zener current will increase and become 6+10 i.e. 16 mA. Thus the current through series resistance Rs will remain unchanged at 6+20 i.e. 26 mA. Thus voltage drop in series resistance Rs will remain constant. Consequently, the output voltage will also remain constant. ');"
   ]
   }
,
{
		   "cell_type": "markdown",
		   "metadata": {},
		   "source": [
			"## Example 4.16: Determine_VL_IZ_and_PZ.sce"
		   ]
		  },
  {
"cell_type": "code",
	   "execution_count": null,
	   "metadata": {
	    "collapsed": true
	   },
	   "outputs": [],
"source": [
"//Exa4.16\n",
"clc;\n",
"clear;\n",
"close;\n",
"//given data\n",
"Vs=16;//in volts\n",
"RL=1.2;//in Kohm\n",
"Rs=1;//in Kohm\n",
"//If zener open circuited\n",
"VL=Vs*RL/(Rs+RL);//in Volts\n",
"disp(VL,'When zener open circuited Voltage across load in volts : ');\n",
"disp('Since voltage across load VL is less than breakdown voltage of zener diode i.e. VL < Vz. The zener diode will not conduct and VL = 8.73 Volt');\n",
"Iz=0;//in mA\n",
"disp(Iz,'Zener current in mA : ');\n",
"Pz=VL*Iz;//in watts\n",
"disp(Pz,'Power in watts : ');"
   ]
   }
,
{
		   "cell_type": "markdown",
		   "metadata": {},
		   "source": [
			"## Example 4.17: Comment_on_operation_of_circuit.sce"
		   ]
		  },
  {
"cell_type": "code",
	   "execution_count": null,
	   "metadata": {
	    "collapsed": true
	   },
	   "outputs": [],
"source": [
"//Exa4.17\n",
"clc;\n",
"clear;\n",
"close;\n",
"//given data\n",
"Vin=20;//in volts\n",
"Rs=220;//in Kohm\n",
"Vz=10;//in volts\n",
"// part (i) RL=50;//in Kohm\n",
"disp('For RL=50ohm :');\n",
"RL=50;//in Kohm\n",
"VL=Vin*RL/(RL+Rs)\n",
"disp('Since voltage across load, VL is less than breakdown voltage of zener diode. Zener will not conduct.')\n",
"IR=Vin/(Rs+RL);//in mA\n",
"IL=IR;//in mA\n",
"IZ=0;//in mA\n",
"disp(VL,'VL in volt : ');\n",
"disp(IL*1000,'IL in mA :');\n",
"disp(IZ,'Iz in mA: ');\n",
"disp(IR*1000,'IR in mA :');\n",
"\n",
"// part (ii) RL=200;//in Kohm\n",
"disp('For RL=200ohm : ')\n",
"RL=200;//in Kohm\n",
"VL=Vin*RL/(RL+Rs)\n",
"disp('voltage across load, if zener diode is open circuited.')\n",
"IR=Vin/(Rs+RL);//in mA\n",
"IL=IR;//in mA\n",
"IZ=0;//in mA\n",
"disp(VL,'VL in volt : ');\n",
"disp(IL*1000,'IL in mA :');\n",
"disp(IZ,'Iz in mA: ');\n",
"disp(IR*1000,'IR in mA :');"
   ]
   }
,
{
		   "cell_type": "markdown",
		   "metadata": {},
		   "source": [
			"## Example 4.18: Find_voltage_drop_across_the_resistance.sce"
		   ]
		  },
  {
"cell_type": "code",
	   "execution_count": null,
	   "metadata": {
	    "collapsed": true
	   },
	   "outputs": [],
"source": [
"//Exa4.18\n",
"clc;\n",
"clear;\n",
"close;\n",
"//given data\n",
"RL=10;//in Kohm\n",
"Rs=5;//in Kohm\n",
"Vin=100;//in Volts\n",
"disp('Removing the zener diode from the circuit, We have : V = Vin*RL/(RL+Rs)');\n",
"V=Vin*RL/(RL+Rs);//in Volt\n",
"disp(V,'Voltage V in volts = ');\n",
"disp('V > Vz So zener diode is in ON stste.');\n",
"VZ=50;//in Volts\n",
"VL=VZ;//in volts\n",
"//Apply KVL\n",
"VR=100-50;//in Volts\n",
"VR=50;//in Volts\n",
"disp(VR,'Hence the voltage dropp across the 5 Kohm resistor in Volts is : ');"
   ]
   }
,
{
		   "cell_type": "markdown",
		   "metadata": {},
		   "source": [
			"## Example 4.19: Find_Ri_so_that_VL_remain_12V.sce"
		   ]
		  },
  {
"cell_type": "code",
	   "execution_count": null,
	   "metadata": {
	    "collapsed": true
	   },
	   "outputs": [],
"source": [
"//Exa4.19\n",
"clc;\n",
"clear;\n",
"close;\n",
"//given data\n",
"RL=120;//in ohm\n",
"Izmin=20;//in mA\n",
"Izmax=200;//in mA\n",
"VL=12;//in Volts\n",
"VDCmin=15;//in Volts\n",
"VDCmax=19.5;//in Volts\n",
"Vz=12;//in Volts\n",
"IL=VL/RL;//in Ampere\n",
"IL=IL*1000;//in mAmpere\n",
"//For VDCmin = 15 volts\n",
"VSmin=VDCmin-Vz;//in Volts\n",
"//For VDCmax = 19.5 volts\n",
"VSmax=VDCmax-Vz;//in Volts\n",
"ISmin=Izmin+IL;//in mA\n",
"Ri=VSmin/ISmin;//in Kohm\n",
"Ri=Ri*10^3;//in ohm\n",
"disp(Ri,'The resistance Ri in ohm : ');"
   ]
   }
,
{
		   "cell_type": "markdown",
		   "metadata": {},
		   "source": [
			"## Example 4.20: Determine_range_of_RL_and_IL.sce"
		   ]
		  },
  {
"cell_type": "code",
	   "execution_count": null,
	   "metadata": {
	    "collapsed": true
	   },
	   "outputs": [],
"source": [
"//Exa4.20\n",
"clc;\n",
"clear;\n",
"close;\n",
"//given data\n",
"VRL=10;//in Volts\n",
"Vi=50;//in Volts\n",
"R=1;//in Kohm\n",
"Vz=10;//in Volts\n",
"VL=Vz;//in Volts\n",
"Izm=32;//in mA\n",
"IR=(Vi-VL)/R;//in mA\n",
"disp('Load current IL will be maximum when Iz = 0 ');\n",
"Izmin=0;//in mA\n",
"ILmax=IR-Izmin;//in mA\n",
"disp(ILmax,'Maximum load current in mA : ');\n",
"RLmin=VL/ILmax;//in Ohm\n",
"disp('Load current IL will be minimum when Iz = maximum i.e. 32 mA ');\n",
"Izmax=32;//in mA\n",
"ILmin=IR-Izmax;//in mA\n",
"disp(ILmin,'Minimum load current in mA : ');\n",
"VL=Vz;//in Volts\n",
"RLmax=VL/ILmin;//in Ohm\n",
"disp('Hence range of RL and IL are as follows :');\n",
"disp('Range of RL in Kohm : From '+string(RLmin)+' to '+string(RLmax));\n",
"disp('Range of IL in mA : From '+string(ILmin)+' to '+string(ILmax));"
   ]
   }
,
{
		   "cell_type": "markdown",
		   "metadata": {},
		   "source": [
			"## Example 4.2: Calculate_electron_and_hole_concentration_at_thermal_equilibrium.sce"
		   ]
		  },
  {
"cell_type": "code",
	   "execution_count": null,
	   "metadata": {
	    "collapsed": true
	   },
	   "outputs": [],
"source": [
"//Exa4.2\n",
"clc;\n",
"clear;\n",
"close;\n",
"//given data\n",
"T=300;//in Kelvin\n",
"ND=10^16;//in cm^-3\n",
"NA=0;//in cm^-3\n",
"ni=1.5*10^10;//in cm^-3\n",
"no=ND/2+sqrt((ND/2)^2+ni^2);//in cm^-3\n",
"po=ni^2/no;//in cm^-3\n",
"disp(no,'Majority carrier electron concentration in cm^-3 : ');\n",
"disp(po,'Minority carrier hole concentration in cm^-3 : ');"
   ]
   }
,
{
		   "cell_type": "markdown",
		   "metadata": {},
		   "source": [
			"## Example 4.3: Calculate_electron_and_hole_concentration_at_thermal_equilibrium.sce"
		   ]
		  },
  {
"cell_type": "code",
	   "execution_count": null,
	   "metadata": {
	    "collapsed": true
	   },
	   "outputs": [],
"source": [
"//Exa4.3\n",
"clc;\n",
"clear;\n",
"close;\n",
"//given data\n",
"T=300;//in Kelvin\n",
"ND=3*10^15;//in cm^-3\n",
"NA=10^16;//in cm^-3\n",
"ni=1.6*10^10;//in cm^-3\n",
"po=(NA-ND)/2+sqrt(((NA-ND)/2)^2+ni^2);//in cm^-3\n",
"no=ni^2/po;//in cm^-3\n",
"disp(po,'Majority carrier hole concentration in cm^-3 : ');\n",
"disp(no,'Minority carrier electron concentration in cm^-3 : ');"
   ]
   }
,
{
		   "cell_type": "markdown",
		   "metadata": {},
		   "source": [
			"## Example 4.4: determine_built_in_potential_barrier.sce"
		   ]
		  },
  {
"cell_type": "code",
	   "execution_count": null,
	   "metadata": {
	    "collapsed": true
	   },
	   "outputs": [],
"source": [
"//Exa4.4\n",
"clc;\n",
"clear;\n",
"close;\n",
"//given data\n",
"T=300;//in Kelvin\n",
"ND=10^15;//in cm^-3\n",
"NA=10^18;//in cm^-3\n",
"ni=1.5*10^10;//in cm^-3\n",
"VT=T/11600;//in Volts\n",
"Vbi=VT*log(NA*ND/ni^2);//in Volts\n",
"disp(Vbi,'Built in potential barrier in volts : ');"
   ]
   }
,
{
		   "cell_type": "markdown",
		   "metadata": {},
		   "source": [
			"## Example 4.5: Obtain_value_of_contact_potential.sce"
		   ]
		  },
  {
"cell_type": "code",
	   "execution_count": null,
	   "metadata": {
	    "collapsed": true
	   },
	   "outputs": [],
"source": [
"//Exa4.5\n",
"clc;\n",
"clear;\n",
"close;\n",
"//given data\n",
"T=300;//in Kelvin\n",
"ND=10^21;//in m^-3\n",
"NA=10^21;//in m^-3\n",
"ni=1.5*10^16;//in m^-3\n",
"VT=T/11600;//in Volts\n",
"Vo=VT*log(NA*ND/ni^2);//in Volts\n",
"disp(Vo,'Contact p;otential in volts : ');"
   ]
   }
,
{
		   "cell_type": "markdown",
		   "metadata": {},
		   "source": [
			"## Example 4.6: Determine_space_charge_width_and_electric_field.sce"
		   ]
		  },
  {
"cell_type": "code",
	   "execution_count": null,
	   "metadata": {
	    "collapsed": true
	   },
	   "outputs": [],
"source": [
"//Exa4.6\n",
"clc;\n",
"clear;\n",
"close;\n",
"//given data\n",
"T=300;//in Kelvin\n",
"ND=10^15;//in cm^-3\n",
"NA=10^16;//in cm^-3\n",
"ni=1.5*10^10;//in cm^-3\n",
"VT=T/11600;//in Volts\n",
"e=1.6*10^-19;//in Coulamb\n",
"epsilon=11.7*8.854*10^-14;//constant\n",
"Vbi=VT*log(NA*ND/ni^2);//in Volts\n",
"SCW=sqrt((2*epsilon*Vbi/e)*(NA+ND)/(NA*ND));//in cm\n",
"SCW=SCW*10^4;//in uMeter\n",
"disp(SCW,'Space charge width in uMeters : ');\n",
"xn=0.864;//in uM\n",
"xp=0.086;//in uM\n",
"Emax=-e*ND*xn/epsilon;//in V/cm\n",
"disp(Emax,'At metallurgical junction, i.e for x=0 the electric field is peak i.e. Emax in volts : ');\n",
"//Note : Ans in the book is wrong"
   ]
   }
,
{
		   "cell_type": "markdown",
		   "metadata": {},
		   "source": [
			"## Example 4.7: Obtain_value_of_contact_potential.sce"
		   ]
		  },
  {
"cell_type": "code",
	   "execution_count": null,
	   "metadata": {
	    "collapsed": true
	   },
	   "outputs": [],
"source": [
"//Exa4.7\n",
"clc;\n",
"clear;\n",
"close;\n",
"//given data\n",
"T=300;//in Kelvin\n",
"ND=10^21;//in m^-3\n",
"NA=10^21;//in m^-3\n",
"ni=1.5*10^16;//in m^-3\n",
"VT=T/11600;//in Volts\n",
"Vo=VT*log(NA*ND/ni^2);//in Volts\n",
"disp(Vo,'Contact potential in volts : ');"
   ]
   }
,
{
		   "cell_type": "markdown",
		   "metadata": {},
		   "source": [
			"## Example 4.8: Calculate_height_of_potential_barrier.sce"
		   ]
		  },
  {
"cell_type": "code",
	   "execution_count": null,
	   "metadata": {
	    "collapsed": true
	   },
	   "outputs": [],
"source": [
"//Exa4.8\n",
"clc;\n",
"clear;\n",
"close;\n",
"//given data\n",
"T=300;//in Kelvin\n",
"ND=8*10^14;//in cm^-3\n",
"NA=8*10^14;//in cm^-3\n",
"ni=2*10^13;//in cm^-3\n",
"k=8.61*10^-5;//in eV/K\n",
"Vo=k*T*log(NA*ND/ni^2);//in Volts\n",
"disp(Vo,'Contact potential in volts : ');"
   ]
   }
,
{
		   "cell_type": "markdown",
		   "metadata": {},
		   "source": [
			"## Example 4.9: Find_current_in_the_circuit.sce"
		   ]
		  },
  {
"cell_type": "code",
	   "execution_count": null,
	   "metadata": {
	    "collapsed": true
	   },
	   "outputs": [],
"source": [
"//Exa4.9\n",
"clc;\n",
"clear;\n",
"close;\n",
"//In given circuit :\n",
"V=5;//in volts\n",
"Vo=0.7;//in Volts\n",
"R=100;//in Kohm\n",
"disp('Since diode is silicon one, and the barrier potential for Si diode is 0.7 volt, Vo = 0.7 volts ');\n",
"disp('This barrier potential acts in opposite direction to the applied voltage. The diode forward resistance is being assumed to be zero.');\n",
"I=(V-Vo)/R;//in Ampere\n",
"disp(I*1000,'Current flowing through the circuit in Amperes :')"
   ]
   }
],
"metadata": {
		  "kernelspec": {
		   "display_name": "Scilab",
		   "language": "scilab",
		   "name": "scilab"
		  },
		  "language_info": {
		   "file_extension": ".sce",
		   "help_links": [
			{
			 "text": "MetaKernel Magics",
			 "url": "https://github.com/calysto/metakernel/blob/master/metakernel/magics/README.md"
			}
		   ],
		   "mimetype": "text/x-octave",
		   "name": "scilab",
		   "version": "0.7.1"
		  }
		 },
		 "nbformat": 4,
		 "nbformat_minor": 0
}
