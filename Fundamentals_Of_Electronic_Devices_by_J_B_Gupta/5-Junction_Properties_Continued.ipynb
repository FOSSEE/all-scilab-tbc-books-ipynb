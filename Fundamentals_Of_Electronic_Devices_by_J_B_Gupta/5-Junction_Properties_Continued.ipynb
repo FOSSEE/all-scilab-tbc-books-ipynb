{
"cells": [
 {
		   "cell_type": "markdown",
	   "metadata": {},
	   "source": [
       "# Chapter 5: Junction Properties Continued"
	   ]
	},
{
		   "cell_type": "markdown",
		   "metadata": {},
		   "source": [
			"## Example 5.1: Estimate_junction_width.sce"
		   ]
		  },
  {
"cell_type": "code",
	   "execution_count": null,
	   "metadata": {
	    "collapsed": true
	   },
	   "outputs": [],
"source": [
"//Exa 5.1\n",
"clc;\n",
"clear;\n",
"close;\n",
"//given data\n",
"ND=10^17;//in atoms/cm^3\n",
"NA=0.5*10^16;//in atoms/cm^3\n",
"Vo=0.7;//in Volts\n",
"V=-10;//in Volts\n",
"ND=ND*10^6;//in atoms/m^3\n",
"NA=NA*10^6;//in atoms/m^3\n",
"epsilon=8.85*10^-11;//in F/m\n",
"e=1.6*10^-19;//coulamb\n",
"//part (i)\n",
"disp('When no external voltage is applied i.e. V=0');\n",
"disp('VB = 0.7 volts');\n",
"VB=0.7;//in Volts\n",
"W=sqrt(2*epsilon*VB*(1/NA+1/ND)/e);//in m\n",
"disp(W,'When no external voltage is applied, Junction width in meter : ');\n",
"//part (ii)\n",
"disp('When external voltage of -10 volt is applied');\n",
"disp('VB = Vo-V volts');\n",
"VB=Vo-V;//in Volts\n",
"W=sqrt(2*epsilon*VB*(1/NA+1/ND)/e);//in m\n",
"disp(W,'When external voltage of -10 Volt is applied, Junction width in meter : ');"
   ]
   }
,
{
		   "cell_type": "markdown",
		   "metadata": {},
		   "source": [
			"## Example 5.3: Find_new_position_of_fermi_level.sce"
		   ]
		  },
  {
"cell_type": "code",
	   "execution_count": null,
	   "metadata": {
	    "collapsed": true
	   },
	   "outputs": [],
"source": [
"//Exa 5.3\n",
"clc;\n",
"clear;\n",
"close;\n",
"//given data\n",
"Ecf=0.3;//in Volts\n",
"T=27+273;//in Kelvin\n",
"delT=55;//in degree centigrade\n",
"//formula : Ecf=Ec-Ef=K*T*log(nc/ND)\n",
"//let K*log(nc/ND)=y\n",
"//Ecf=Ec-Ef=T*y\n",
"y=Ecf/T;//assumed\n",
"Tnew=273+55;//in Kelvin\n",
"EcfNEW=y*Tnew;//in Volts\n",
"disp(EcfNEW,'New position of fermi level is(eV) : ');"
   ]
   }
,
{
		   "cell_type": "markdown",
		   "metadata": {},
		   "source": [
			"## Example 5.4: Calculate_height_of_potential_barrier.sce"
		   ]
		  },
  {
"cell_type": "code",
	   "execution_count": null,
	   "metadata": {
	    "collapsed": true
	   },
	   "outputs": [],
"source": [
"//Exa 5.4\n",
"clc;\n",
"clear;\n",
"close;\n",
"//given data\n",
"ND=8*10^14;//in cm^-3\n",
"NA=8*10^14;//in cm^-3\n",
"ni=2*10^13;//in cm^-3\n",
"T=300;//in Kelvin\n",
"k=8.61*10^-5;//in eV/K\n",
"e=1.6*10^-19;//coulamb\n",
"Vo=k*T*log(ND*NA/ni^2);//in Volts\n",
"disp(Vo,'Potential barrier in volts : ');"
   ]
   }
,
{
		   "cell_type": "markdown",
		   "metadata": {},
		   "source": [
			"## Example 5.5: Find_electron_and_hole_concentration.sce"
		   ]
		  },
  {
"cell_type": "code",
	   "execution_count": null,
	   "metadata": {
	    "collapsed": true
	   },
	   "outputs": [],
"source": [
"//Exa 5.5\n",
"clc;\n",
"clear;\n",
"close;\n",
"//given data\n",
"ND=2*10^16;//in cm^-3\n",
"NA=5*10^15;//in cm^-3\n",
"Ao=4.83*10^21;//constant\n",
"T=300;//in Kelvin\n",
"EG=1.1;//in eV\n",
"kT=0.026;//in eV\n",
"ni=Ao*T^(3/2)*exp(-EG/(2*kT));//in m^-3\n",
"ni=ni*10^-6;//in cm^-3\n",
"p=(ni^2)/ND;//in cm^-3\n",
"n=(ni^2)/NA;//in cm^-3\n",
"disp(p,'Hole concentration in cm^-3 : ');\n",
"disp(n,'electron concentration in cm^-3 : ');\n",
"disp('Since elctron concentration is mote than hole concentration, the given Si is of N-type.');\n",
"//Note : Ans in the book is wrong. Mistake in value putting. "
   ]
   }
,
{
		   "cell_type": "markdown",
		   "metadata": {},
		   "source": [
			"## Example 5.6: Determine_junction_capacitance.sce"
		   ]
		  },
  {
"cell_type": "code",
	   "execution_count": null,
	   "metadata": {
	    "collapsed": true
	   },
	   "outputs": [],
"source": [
"//Exa 5.6\n",
"clc;\n",
"clear;\n",
"close;\n",
"//given data\n",
"CTzero=50;//in pF\n",
"VR=8;//in Volt\n",
"VK=0.7;//in Volt\n",
"n=1/3;//for Si\n",
"CT=CTzero/((1+VR/VK)^n);//in pF\n",
"disp(CT,'Junction capacitance in pF : ');"
   ]
   }
],
"metadata": {
		  "kernelspec": {
		   "display_name": "Scilab",
		   "language": "scilab",
		   "name": "scilab"
		  },
		  "language_info": {
		   "file_extension": ".sce",
		   "help_links": [
			{
			 "text": "MetaKernel Magics",
			 "url": "https://github.com/calysto/metakernel/blob/master/metakernel/magics/README.md"
			}
		   ],
		   "mimetype": "text/x-octave",
		   "name": "scilab",
		   "version": "0.7.1"
		  }
		 },
		 "nbformat": 4,
		 "nbformat_minor": 0
}
