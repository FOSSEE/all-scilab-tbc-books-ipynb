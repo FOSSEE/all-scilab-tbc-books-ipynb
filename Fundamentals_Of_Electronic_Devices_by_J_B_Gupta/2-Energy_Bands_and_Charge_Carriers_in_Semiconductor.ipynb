{
"cells": [
 {
		   "cell_type": "markdown",
	   "metadata": {},
	   "source": [
       "# Chapter 2: Energy Bands and Charge Carriers in Semiconductor"
	   ]
	},
{
		   "cell_type": "markdown",
		   "metadata": {},
		   "source": [
			"## Example 2.10: Find_conductivity_of_Si.sce"
		   ]
		  },
  {
"cell_type": "code",
	   "execution_count": null,
	   "metadata": {
	    "collapsed": true
	   },
	   "outputs": [],
"source": [
"//Exa 2.10\n",
"clc;\n",
"clear;\n",
"close;\n",
"//given data\n",
"ni=1.5*10^10;//in cm^-3\n",
"e=1.6*10^-19;//in coulamb\n",
"MUh=450;//in cm^2/V-s\n",
"MUe=1300;//in cm^2/V-s\n",
"SIGMAi=ni*e*(MUe+MUh);//in (ohm-cm)^-1\n",
"disp(SIGMAi,'Conductivity of silicon(intrinsic) in (ohm-cm)^-1 ');\n",
"Na=10^18;//in cm^-1\n",
"SIGMAp=e*Na*MUh;//in (ohm-cm)^-1\n",
"disp(SIGMAp,'Conductivity of resulting P-type si semiconductor in (ohm-cm)^-1 : ');"
   ]
   }
,
{
		   "cell_type": "markdown",
		   "metadata": {},
		   "source": [
			"## Example 2.11: Find_conductivity_of_intrinsic_Ge.sce"
		   ]
		  },
  {
"cell_type": "code",
	   "execution_count": null,
	   "metadata": {
	    "collapsed": true
	   },
	   "outputs": [],
"source": [
"//Exa 2.11\n",
"clc;\n",
"clear;\n",
"close;\n",
"//given data\n",
"ni=2.5*10^13;//in cm^-3\n",
"e=1.6*10^-19;//in coulamb\n",
"MUh=1800;//in cm^2/V-s\n",
"MUe=3800;//in cm^2/V-s\n",
"SIGMAi=ni*e*(MUe+MUh);//in (ohm-cm)^-1\n",
"GeAtoms=4.41*10^22;//in cm^-1\n",
"DonorImpurity=1/10^7;//in per Ge Atom\n",
"Nd=4.41*10^22*DonorImpurity;//in cm^-1\n",
"n=Nd;//in cm^-1\n",
"p=ni^2/Nd;//in cm^-3\n",
"SIGMAn=e*Nd*MUe;//in (ohm-cm)^-1\n",
"disp(SIGMAi,'Conductivity of Ge(intrinsic) in (ohm-cm)^-1 ');\n",
"disp(SIGMAn,'Conductivity of resulting N-type Ge semiconductor in (ohm-cm)^-1 : ');"
   ]
   }
,
{
		   "cell_type": "markdown",
		   "metadata": {},
		   "source": [
			"## Example 2.12: Find_drift_velocity_of_electron_and_hole_Conductivity_and_current.sce"
		   ]
		  },
  {
"cell_type": "code",
	   "execution_count": null,
	   "metadata": {
	    "collapsed": true
	   },
	   "outputs": [],
"source": [
"//Exa 2.12\n",
"clc;\n",
"clear;\n",
"close;\n",
"//given data\n",
"e=1.6*10^-19;//in coulamb\n",
"MUh=0.18;//in m^2/V-s\n",
"MUe=0.38;//in m^2/V-s\n",
"V=10;//in Volts\n",
"l=25;//in mm\n",
"w=4;//in mm\n",
"t=1.5;//in mm\n",
"E=V/(l*10^-3);//in\n",
"//part (i)\n",
"ve=MUe*E;//in m/s\n",
"vh=MUh*E;//in m/s\n",
"disp(ve,'Drift velocity for electrons in m/s : ');\n",
"disp(vh,'Drift velocity for holes in m/s : ');\n",
"\n",
"ni=2.5*10^19;//in m^-3\n",
"//part (ii)\n",
"SIGMAi=ni*e*(MUe+MUh);//in (ohm-m)^-1\n",
"disp(SIGMAi,'Conductivity of Ge(intrinsic) in (ohm-m)^-1 ');\n",
"//part (iii)\n",
"I=SIGMAi*E*w*10^-3*t*10^-3;//in Ampere\n",
"disp(I*10^3,'Total current in mili ampere : ');"
   ]
   }
,
{
		   "cell_type": "markdown",
		   "metadata": {},
		   "source": [
			"## Example 2.13: Find_diffusion_coefficient_of_electron_and_hole.sce"
		   ]
		  },
  {
"cell_type": "code",
	   "execution_count": null,
	   "metadata": {
	    "collapsed": true
	   },
	   "outputs": [],
"source": [
"//Exa 2.13\n",
"clc;\n",
"clear;\n",
"close;\n",
"//given data\n",
"e=1.6*10^-19;//in coulamb\n",
"T=300;//in Kelvin\n",
"MUh=1700;//in cm^2/V-s\n",
"MUe=3600;//in cm^2/V-s\n",
"k=1.38*10^-23;//in J/K\n",
"De=MUe*k*T/e;//in cm^2/s\n",
"Dh=MUh*k*T/e;//in cm^2/s\n",
"disp(De,'Diffusion constant of electron(in cm^2/s) : ');\n",
"disp(Dh,'Diffusion constant of hole(in cm^2/s) : ');"
   ]
   }
,
{
		   "cell_type": "markdown",
		   "metadata": {},
		   "source": [
			"## Example 2.14: Find_mobility_and_density_of_charge_carriers.sce"
		   ]
		  },
  {
"cell_type": "code",
	   "execution_count": null,
	   "metadata": {
	    "collapsed": true
	   },
	   "outputs": [],
"source": [
"//Exa 2.14\n",
"clc;\n",
"clear;\n",
"close;\n",
"//given data\n",
"e=1.6*10^-19;//in coulamb\n",
"resistivity=9*10^-3;//in ohm-m\n",
"RH=3.6*10^-4;//in m^3-coulamb^-1\n",
"SIGMA=1/resistivity;//in (ohm-m)^-1\n",
"rho=1/RH;//in cooulamb/m^3\n",
"n=rho/e;//in m^-3\n",
"disp(n,'Density of charge carriers in m^-3 : ');\n",
"MU=SIGMA*RH;//in m^2/V-s\n",
"disp(MU,'Mobility in m^2/V-s : ');"
   ]
   }
,
{
		   "cell_type": "markdown",
		   "metadata": {},
		   "source": [
			"## Example 2.15: Determine_current_density.sce"
		   ]
		  },
  {
"cell_type": "code",
	   "execution_count": null,
	   "metadata": {
	    "collapsed": true
	   },
	   "outputs": [],
"source": [
"//Exa 2.15\n",
"clc;\n",
"clear;\n",
"close;\n",
"//given data\n",
"e=1.6*10^-19;//in coulamb\n",
"E=100;//in V/m\n",
"RH=0.0145;//in m^3-coulamb^-1\n",
"MUn=0.36;//in m^2/V-s\n",
"J=MUn*E/RH;//in A/m^2\n",
"disp(J,'Current density in A/m^2 : ');"
   ]
   }
,
{
		   "cell_type": "markdown",
		   "metadata": {},
		   "source": [
			"## Example 2.16: Calculate_Hall_coefficients.sce"
		   ]
		  },
  {
"cell_type": "code",
	   "execution_count": null,
	   "metadata": {
	    "collapsed": true
	   },
	   "outputs": [],
"source": [
"//Exa 2.16\n",
"clc;\n",
"clear;\n",
"close;\n",
"//given data\n",
"e=1.6*10^-19;//in coulamb\n",
"n=2.05*10^22;//in m^-3\n",
"RH=1/(n*e);//in m^3-coulamb^-1\n",
"disp(RH,'Hall coefficient in m^3-coulamb^-1 : ');"
   ]
   }
,
{
		   "cell_type": "markdown",
		   "metadata": {},
		   "source": [
			"## Example 2.17: Find_magnitude_of_hall_voltage.sce"
		   ]
		  },
  {
"cell_type": "code",
	   "execution_count": null,
	   "metadata": {
	    "collapsed": true
	   },
	   "outputs": [],
"source": [
"//Exa 2.17\n",
"clc;\n",
"clear;\n",
"close;\n",
"//given data\n",
"e=1.6*10^-19;//in coulamb\n",
"ND=10^17;//in cm^-3\n",
"Bz=0.1;//in Wb/m^2\n",
"w=4;//in mm\n",
"d=4;//in mm\n",
"Ex=5;//in V/cm\n",
"MUe=3800;//in cm^2/V-s\n",
"v=MUe*Ex;//in cm/s\n",
"v=v*10^-2;//in m/s\n",
"VH=Bz*v*d;//in mV\n",
"disp(VH,'Magnitude of hall voltage in mV : ');"
   ]
   }
,
{
		   "cell_type": "markdown",
		   "metadata": {},
		   "source": [
			"## Example 2.18: Determine_mobility_of_holes.sce"
		   ]
		  },
  {
"cell_type": "code",
	   "execution_count": null,
	   "metadata": {
	    "collapsed": true
	   },
	   "outputs": [],
"source": [
"//Exa 2.18\n",
"clc;\n",
"clear;\n",
"close;\n",
"//given data\n",
"e=1.6*10^-19;//in coulamb\n",
"w=3;//in mm\n",
"d=3;//in mm\n",
"rho=200;//in Kohm-cm\n",
"rho=rho*10^3*10^-2;//in ohm-m\n",
"VH=50;//in mV\n",
"VH=VH*10^-3;//in Volts\n",
"I=10;//in uA\n",
"I=I*10^-6;//in Ampere\n",
"Bz=0.1;//in Wb/m^2\n",
"RH=VH*w*10^-3/(Bz*I)\n",
"MUh=RH/rho;//in m^2/V-s\n",
"disp(MUh,'Mobility of holes in p-type Si bar in m^2/V-s : ');"
   ]
   }
,
{
		   "cell_type": "markdown",
		   "metadata": {},
		   "source": [
			"## Example 2.19: Determine_Hall_Voltage.sce"
		   ]
		  },
  {
"cell_type": "code",
	   "execution_count": null,
	   "metadata": {
	    "collapsed": true
	   },
	   "outputs": [],
"source": [
"//Exa 2.19\n",
"clc;\n",
"clear;\n",
"close;\n",
"//given data\n",
"e=1.6*10^-19;//in coulamb\n",
"ND=10^21;//in m^-3\n",
"Bz=0.2;//in T\n",
"d=4;//in mm\n",
"d=d*10^-3;//in meter\n",
"J=600;//in A/m^2\n",
"n=ND;//in m^-3\n",
"//formula : VH*w/(B*I)=1/(n*e)\n",
"VH=Bz*J*d/(n*e);//in V\n",
"disp(VH*10^3,'Magnitude of hall voltage in mV : ');"
   ]
   }
,
{
		   "cell_type": "markdown",
		   "metadata": {},
		   "source": [
			"## Example 2.1: Calculate_the_velocity_of_electron_at_fermi_level.sce"
		   ]
		  },
  {
"cell_type": "code",
	   "execution_count": null,
	   "metadata": {
	    "collapsed": true
	   },
	   "outputs": [],
"source": [
"//Exa 2.1\n",
"clc;\n",
"clear;\n",
"close;\n",
"//given data\n",
"E=2.1;//in eV\n",
"E=E*1.602*10^-19;//in Joule\n",
"m=9.107*10^-31;//in Kg\n",
"//Formula : E= (m*v^2)/2\n",
"v=sqrt(2*E/m);//in m/s\n",
"disp(v,'Velocity of electron at fermi level in m/s : ');"
   ]
   }
,
{
		   "cell_type": "markdown",
		   "metadata": {},
		   "source": [
			"## Example 2.20: Calculate_Hall_angle.sce"
		   ]
		  },
  {
"cell_type": "code",
	   "execution_count": null,
	   "metadata": {
	    "collapsed": true
	   },
	   "outputs": [],
"source": [
"//Exa 2.20\n",
"clc;\n",
"clear;\n",
"close;\n",
"//given data\n",
"e=1.6*10^-19;//in coulamb\n",
"rho=0.00912;//in ohm-m\n",
"B=0.48;//in Wb/m^2\n",
"RH=3.55*10^-4;//in m^3-coulamb^-1\n",
"SIGMA=1/rho;//in (ohm=m)^-1\n",
"THETAh=atand(SIGMA*B*RH);//in Degree\n",
"disp(THETAh,'Hall angle in degree : ');"
   ]
   }
,
{
		   "cell_type": "markdown",
		   "metadata": {},
		   "source": [
			"## Example 2.2: Determine_Drift_Velocity_of_Electrons.sce"
		   ]
		  },
  {
"cell_type": "code",
	   "execution_count": null,
	   "metadata": {
	    "collapsed": true
	   },
	   "outputs": [],
"source": [
"//Exa 2.2\n",
"clc;\n",
"clear;\n",
"close;\n",
"//given data\n",
"J=2.4;//in A/mm^2\n",
"J=J*10^6;//in A/m^2\n",
"n=5*10^28;//electrons/m^3\n",
"e=1.6*10^-19;//constant\n",
"//Formula : J=e*n*v\n",
"v=J/(e*n);//in m/s\n",
"disp(v*10^3,'Velocity of electron at fermi level in mm/s : ');"
   ]
   }
,
{
		   "cell_type": "markdown",
		   "metadata": {},
		   "source": [
			"## Example 2.3: Calculate_magnitude_of_currrent.sce"
		   ]
		  },
  {
"cell_type": "code",
	   "execution_count": null,
	   "metadata": {
	    "collapsed": true
	   },
	   "outputs": [],
"source": [
"//Exa 2.3\n",
"clc;\n",
"clear;\n",
"close;\n",
"//given data\n",
"n=10^24;//electrons/m^3\n",
"e=1.6*10^-19;//constant\n",
"v=1.5*10^-2;//in m/s\n",
"A=1;//in cm^2\n",
"A=1*10^-4;//in m^2\n",
"I=e*n*v*A;//in Ampere\n",
"disp(I,'Magnitude of current in Ampere : ');"
   ]
   }
,
{
		   "cell_type": "markdown",
		   "metadata": {},
		   "source": [
			"## Example 2.4: Find_electron_and_hole_densities.sce"
		   ]
		  },
  {
"cell_type": "code",
	   "execution_count": null,
	   "metadata": {
	    "collapsed": true
	   },
	   "outputs": [],
"source": [
"//Exa 2.4\n",
"clc;\n",
"clear;\n",
"close;\n",
"//given data\n",
"ni=2.5*10^13;//in atoms/cm^3\n",
"rho=0.039;//in ohm-cm\n",
"SIGMAn=1/rho;//in (ohm-cm)^-1\n",
"e=1.6*10^-19;//constant\n",
"MUe=3600;//in cm^2/V-s\n",
"//formula : SIGMAn=n*e*MUe=Nd*e*MUe\n",
"Nd=SIGMAn/(e*MUe);//in atoms/cm^3\n",
"n=Nd;//in atoms/cm^3\n",
"p=ni^2/n;//in atoms/cm^3\n",
"disp(n,'Electron density in atoms/cm^3 : ');\n",
"disp(p,'Hole density in atoms/cm^3 : ');"
   ]
   }
,
{
		   "cell_type": "markdown",
		   "metadata": {},
		   "source": [
			"## Example 2.5: Calculate_concentrations_in_semiconductor.sce"
		   ]
		  },
  {
"cell_type": "code",
	   "execution_count": null,
	   "metadata": {
	    "collapsed": true
	   },
	   "outputs": [],
"source": [
"//Exa 2.5\n",
"clc;\n",
"clear;\n",
"close;\n",
"//given data\n",
"DonorImpurity=1/10^6;;//impurity per atom\n",
"SiAtomCon=5*10^22;//in cm^-3\n",
"ni=1.45*10^10;//in cm^-3\n",
"MUe=1300;//in cm^2/V-s\n",
"e=1.6*10^-19;//constant\n",
"//part (i)\n",
"Nd=SiAtomCon*DonorImpurity;//in cm^-3\n",
"disp(Nd,'Donor atom concentration in cm^-3 : ');\n",
"//part (ii)\n",
"n=Nd;//in cm^-3\n",
"disp(n,'Mobile electron concentration in cm^-3: ');\n",
"//part (iii)\n",
"p=ni^2/Nd;//in cm^-3\n",
"disp(p,'Hole concentration in cm^-3 : ');\n",
"//part (iv)\n",
"SIGMA=n*e*MUe;//in (ohm-cm)^-1\n",
"disp(SIGMA,'Conductivity of doped silicon sample in (ohm-cm)^-1 : ');\n",
"//part (v)\n",
"rho=1/SIGMA;//in ohm-cm\n",
"l=0.5;//in cm\n",
"A=(50*10^-4)^2;//in cm^2\n",
"R=rho*l/A;//in ohm\n",
"disp(rho,'Resistivity in ohm-cm : ');\n",
"disp(R,'Resistance in ohm : ')"
   ]
   }
,
{
		   "cell_type": "markdown",
		   "metadata": {},
		   "source": [
			"## Example 2.6: Find_ratio_of_electron_to_hole_concentration.sce"
		   ]
		  },
  {
"cell_type": "code",
	   "execution_count": null,
	   "metadata": {
	    "collapsed": true
	   },
	   "outputs": [],
"source": [
"//Exa 2.6\n",
"clc;\n",
"clear;\n",
"close;\n",
"//given data\n",
"ni=1.4*10^18;//in atoms/m^3\n",
"Nd=1.4*10^24;//in atoms/m^3\n",
"n=Nd;//in atoms/m^3\n",
"p=ni^2/n;//in atoms/m^3\n",
"ratio=n/p;//unitless\n",
"disp(p,'Concentration of holes in per m^3 : ');\n",
"disp(ratio,'Ratio of electron to hole concentration : ');"
   ]
   }
,
{
		   "cell_type": "markdown",
		   "metadata": {},
		   "source": [
			"## Example 2.7: Calculate_relaxation_time_resistivity_and_velocity_of_electron.sce"
		   ]
		  },
  {
"cell_type": "code",
	   "execution_count": null,
	   "metadata": {
	    "collapsed": true
	   },
	   "outputs": [],
"source": [
"//Exa 2.7\n",
"clc;\n",
"clear;\n",
"close;\n",
"//given data\n",
"Ef=5.5;//in eV\n",
"MUe=7.04*10^-3;//in m^2/V-s\n",
"n=5.8*10^28;//in m^-3\n",
"e=1.6*10^-19;//constant\n",
"m=9.1*10^-31;//in Kg\n",
"//part (i)\n",
"tau=MUe*m/e;//in sec\n",
"disp(tau,'Relaxation time in sec : ');\n",
"rho=1/(n*e*MUe);//in ohm-m\n",
"disp(rho,'Resistivity of conductor in ohm-m : ')\n",
"vF=sqrt(2*Ef*1.6*10^-19/m);\n",
"disp(vF,'velocity of electron with fermi energy in m/s : ');"
   ]
   }
,
{
		   "cell_type": "markdown",
		   "metadata": {},
		   "source": [
			"## Example 2.8: Find_conductivity_and_resistivity.sce"
		   ]
		  },
  {
"cell_type": "code",
	   "execution_count": null,
	   "metadata": {
	    "collapsed": true
	   },
	   "outputs": [],
"source": [
"//Exa 2.8\n",
"clc;\n",
"clear;\n",
"close;\n",
"//given data\n",
"ni=2.5*10^13;//in cm^-3\n",
"e=1.6*10^-19;//in coulamb\n",
"MUh=1800;//in cm^2/V-s\n",
"MUe=3800;//in cm^2/V-s\n",
"SIGMAi=ni*e*(MUe+MUh);//in (ohm-cm)^-1\n",
"RHOi=1/SIGMAi;//in ohm-cm\n",
"disp(SIGMAi,'Intrinsic conductivity in (ohm-cm)^-1 : ');\n",
"disp(RHOi,'Intrinsic resistivity in ohm-cm : ');"
   ]
   }
,
{
		   "cell_type": "markdown",
		   "metadata": {},
		   "source": [
			"## Example 2.9: Calculate_density_of_electron.sce"
		   ]
		  },
  {
"cell_type": "code",
	   "execution_count": null,
	   "metadata": {
	    "collapsed": true
	   },
	   "outputs": [],
"source": [
"//Exa 2.9\n",
"clc;\n",
"clear;\n",
"close;\n",
"//given data\n",
"SIGMAi=2.12766;//in S/m\n",
"RHOi=0.47;//in ohm-m\n",
"MUh=0.19;//in m^2/V-s\n",
"MUe=0.39;//in m^2/V-s\n",
"e=1.6*10^-19;//in coulamb\n",
"//Formula : SIGMAi=ni*e*(MUe+MUh)\n",
"ni=SIGMAi/(e*(MUe+MUh));//in m^-3\n",
"E=10^4;//in V/m\n",
"vn=MUe*E;//in m/s\n",
"vh=MUh*E;//in m/s\n",
"disp(ni,'Density of electron in intrinsic material in m^-3 : ');\n",
"disp(vn,'Drift velocity for electrons in m/s : ');\n",
"disp(vh,'Drift velocity for holes in m/s : ');"
   ]
   }
],
"metadata": {
		  "kernelspec": {
		   "display_name": "Scilab",
		   "language": "scilab",
		   "name": "scilab"
		  },
		  "language_info": {
		   "file_extension": ".sce",
		   "help_links": [
			{
			 "text": "MetaKernel Magics",
			 "url": "https://github.com/calysto/metakernel/blob/master/metakernel/magics/README.md"
			}
		   ],
		   "mimetype": "text/x-octave",
		   "name": "scilab",
		   "version": "0.7.1"
		  }
		 },
		 "nbformat": 4,
		 "nbformat_minor": 0
}
