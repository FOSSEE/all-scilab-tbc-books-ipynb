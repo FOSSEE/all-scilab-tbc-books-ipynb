{
"cells": [
 {
		   "cell_type": "markdown",
	   "metadata": {},
	   "source": [
       "# Chapter 8: Photonic Devices"
	   ]
	},
{
		   "cell_type": "markdown",
		   "metadata": {},
		   "source": [
			"## Example 8.1: Determine_steady_state_photo_current_density.sce"
		   ]
		  },
  {
"cell_type": "code",
	   "execution_count": null,
	   "metadata": {
	    "collapsed": true
	   },
	   "outputs": [],
"source": [
"//Exa 8.1\n",
"clc;\n",
"clear;\n",
"close;\n",
"//given data :\n",
"NA=10^22;//in atoms/m^3\n",
"ND=10^22;//in atoms/m^3\n",
"De=25*10^-4;//in m^2/s\n",
"Dh=10^-3;//in m^2/s\n",
"TAUeo=500;//in ns\n",
"TAUho=100;//in ns\n",
"ni=1.5*10^16;//in atoms/m^3\n",
"VR=-10;//in Volt\n",
"epsilon=11.6*8.854*10^-12;//in F/m\n",
"e=1.6*10^-19;//in Coulamb\n",
"VT=26;//in mV\n",
"GL=10^27;//in m^-3 s^-1\n",
"\n",
"Le=sqrt(De*TAUeo*10^-9);//in um\n",
"Le=Le*10^6;//in um\n",
"Lh=sqrt(Dh*TAUho*10^-9);//in um\n",
"Lh=Lh*10^6;//in um\n",
"Vbi=VT*10^-3*log(NA*ND/ni^2);//in Volt\n",
"Vo=Vbi;//in Volt\n",
"VB=Vo-VR;//in Volt\n",
"W=sqrt((2*epsilon*VB/e)*(1/NA+1/ND));//in um\n",
"W=W*10^6;//in um\n",
"JL=e*(W+Le+Lh)*10^-6*GL;//in A/cm^2\n",
"disp(JL/10^4,'Steady state photocurrent density in A/cm^2 : ');"
   ]
   }
,
{
		   "cell_type": "markdown",
		   "metadata": {},
		   "source": [
			"## Example 8.2: Determine_photo_current_density.sce"
		   ]
		  },
  {
"cell_type": "code",
	   "execution_count": null,
	   "metadata": {
	    "collapsed": true
	   },
	   "outputs": [],
"source": [
"//Exa 8.2\n",
"clc;\n",
"clear;\n",
"close;\n",
"//given data :\n",
"W=25;//in um\n",
"PhotonFlux=10^21;//in m^2s^-1\n",
"alfa=10^5;//in m^-1\n",
"e=1.6*10^-19;//in Coulambs\n",
"GL1=alfa*PhotonFlux;//in m^-3s^-1\n",
"GL2=alfa*PhotonFlux*exp(-alfa*W*10^-6);//in m^-3s^-1\n",
"JL=e*PhotonFlux*(1-exp(-alfa*W*10^-6));//in mA/cm^2\n",
"disp(JL/10,'Steady state photocurrent density in mA/cm^2 : ');"
   ]
   }
,
{
		   "cell_type": "markdown",
		   "metadata": {},
		   "source": [
			"## Example 8.3: Determine_open_circuit_voltage.sce"
		   ]
		  },
  {
"cell_type": "code",
	   "execution_count": null,
	   "metadata": {
	    "collapsed": true
	   },
	   "outputs": [],
"source": [
"//Exa 8.3\n",
"clc;\n",
"clear;\n",
"close;\n",
"//given data :\n",
"NA=7.5*10^24;//in atoms/m^3\n",
"ND=1.5*10^22;//in atoms/m^3\n",
"De=25*10^-4;//in m^2/s\n",
"Dh=10^-3;//in m^2/s\n",
"TAUeo=500;//in ns\n",
"TAUho=100;//in ns\n",
"ni=1.5*10^16;//in atoms/m^3\n",
"VR=-10;//in Volt\n",
"epsilon=11.6*8.854*10^-12;//in F/m\n",
"e=1.6*10^-19;//in Coulamb\n",
"VT=26;//in mV\n",
"GL=10^27;//in m^-3 s^-1\n",
"\n",
"Le=sqrt(De*TAUeo*10^-9);//in um\n",
"Le=Le*10^6;//in um\n",
"Lh=sqrt(Dh*TAUho*10^-9);//in um\n",
"Lh=Lh*10^6;//in um\n",
"JS=e*(ni^2)*(De/(Le*10^-6*NA)+De/(Lh*10^-6*ND));//in A/cm^2\n",
"JL=12.5;//in mA/cm^2\n",
"VOC=VT*log(1+JL/JS);//in Volt\n",
"disp(VOC,'Open circuit voltage in Volt : ');\n",
"//Note : Answer in the book is wrong."
   ]
   }
,
{
		   "cell_type": "markdown",
		   "metadata": {},
		   "source": [
			"## Example 8.4: Determine_approximate_no_of_solar_cell_required.sce"
		   ]
		  },
  {
"cell_type": "code",
	   "execution_count": null,
	   "metadata": {
	    "collapsed": true
	   },
	   "outputs": [],
"source": [
"//Exa 8.4\n",
"clc;\n",
"clear;\n",
"close;\n",
"//given data :\n",
"\n",
"disp('Each cell supplies 50 mA at 0.45V. Allowing for the voltage drop across the rectifier and series resistor, a maximum output voltage of approximately 28V is required. Thus,  ');\n",
"disp('n = Vout/Vcell');\n",
"Vout=28;//in Volts\n",
"Vcell=0.45;//in Volt\n",
"n=Vout/Vcell;//Unitless\n",
"disp(n,'No. of series connected- cells = ');\n",
"disp('the charge taken from the batteries over a period of 24 hour is 24*0.5 =  12 Ah. thus, the charge delivered by the solar cells must be 12 ampere Hours');\n",
"disp('Since the solar cells are illuminated only 12 hours a day, the necessary charging current from the solar cell is 12Ah/12h i.e. 1 A');\n",
"Iout=1;//in A\n",
"Icell=50;//in mA\n",
"m=Iout/(Icell*10^-3);//unitless\n",
"disp(m,'Hence total no. of group of cells in parallel, m ');\n",
"disp(round(m*n),'The total no. of cells required : ');\n",
"//Note : Answer in the book is wrong."
   ]
   }
],
"metadata": {
		  "kernelspec": {
		   "display_name": "Scilab",
		   "language": "scilab",
		   "name": "scilab"
		  },
		  "language_info": {
		   "file_extension": ".sce",
		   "help_links": [
			{
			 "text": "MetaKernel Magics",
			 "url": "https://github.com/calysto/metakernel/blob/master/metakernel/magics/README.md"
			}
		   ],
		   "mimetype": "text/x-octave",
		   "name": "scilab",
		   "version": "0.7.1"
		  }
		 },
		 "nbformat": 4,
		 "nbformat_minor": 0
}
