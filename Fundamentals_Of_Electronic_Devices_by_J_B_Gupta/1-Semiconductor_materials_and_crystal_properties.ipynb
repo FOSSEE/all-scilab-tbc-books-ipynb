{
"cells": [
 {
		   "cell_type": "markdown",
	   "metadata": {},
	   "source": [
       "# Chapter 1: Semiconductor materials and crystal properties"
	   ]
	},
{
		   "cell_type": "markdown",
		   "metadata": {},
		   "source": [
			"## Example 1.3: Calculate_Density_of_Copper_Crystal.sce"
		   ]
		  },
  {
"cell_type": "code",
	   "execution_count": null,
	   "metadata": {
	    "collapsed": true
	   },
	   "outputs": [],
"source": [
"//Exa 1.3\n",
"clc;\n",
"clear;\n",
"close;\n",
"//given data\n",
"r=1.278;//in Angstrum\n",
"AtomicWeight=63.5;//constant\n",
"AvogadroNo=6.023*10^23;//constant\n",
"//For FCC structure a=4*r/sqrt(2)\n",
"a=4*r*10^-10/sqrt(2);//in meter\n",
"V=a^3;//in meter^3\n",
"//mass of one atom = m\n",
"m=AtomicWeight/AvogadroNo;//in gm\n",
"m=m/1000;//in Kg\n",
"n=4;// no. of atoms per unit cell for FCC structure\n",
"rho=m*n/V;//in Kg/m^3\n",
"disp(rho,'Density of crystal in Kg/m^3: ');"
   ]
   }
,
{
		   "cell_type": "markdown",
		   "metadata": {},
		   "source": [
			"## Example 1.4: Obtain_volume_density_of_Si_atoms.sce"
		   ]
		  },
  {
"cell_type": "code",
	   "execution_count": null,
	   "metadata": {
	    "collapsed": true
	   },
	   "outputs": [],
"source": [
"//Exa 1.4\n",
"clc;\n",
"clear;\n",
"close;\n",
"//given data\n",
"n=4;// no. of atoms per unit cell of silicon\n",
"AtomicWeight=28;//constant\n",
"AvogadroNo=6.021*10^23;//constant\n",
"m=AtomicWeight/AvogadroNo;//in gm\n",
"m=m/1000;//in Kg\n",
"a=5.3;//lattice constant in Angstrum\n",
"a=a*10^-10;//in meter\n",
"V=a^3;//in meter^3\n",
"rho=m*n/V;//in Kg/m^3\n",
"disp(rho,'Density of silicon crystal in Kg/m^3: ');"
   ]
   }
,
{
		   "cell_type": "markdown",
		   "metadata": {},
		   "source": [
			"## Example 1.5: Calculate_surface_density_of_atoms.sce"
		   ]
		  },
  {
"cell_type": "code",
	   "execution_count": null,
	   "metadata": {
	    "collapsed": true
	   },
	   "outputs": [],
"source": [
"//Exa 1.5\n",
"clc;\n",
"clear;\n",
"close;\n",
"//given data\n",
"a=4.75;//lattice constant in Angstrum\n",
"a=a*10^-10;//in meter\n",
"disp('Surface density in FCC on (111)Plane : dp = 2.31/a^2');\n",
"dp=2.31/a^2;//in atom/m^2\n",
"dp=dp/10^6;//in atom/mm^2\n",
"disp(dp,'Surface density in FCC on (111)Plane in atoms/mm^2: ');"
   ]
   }
,
{
		   "cell_type": "markdown",
		   "metadata": {},
		   "source": [
			"## Example 1.6: Determine_Interplanar_Distance.sce"
		   ]
		  },
  {
"cell_type": "code",
	   "execution_count": null,
	   "metadata": {
	    "collapsed": true
	   },
	   "outputs": [],
"source": [
"//Exa 1.6\n",
"clc;\n",
"clear;\n",
"close;\n",
"//given data\n",
"lambda=1.539;//in Angstrum\n",
"theta=22.5;//in degree\n",
"n=1;//order unitless\n",
"d=n*lambda/(2*sin(theta*%pi/180));//in Angstrum\n",
"disp(d,'Interpolar distance in Angstrum : ')"
   ]
   }
,
{
		   "cell_type": "markdown",
		   "metadata": {},
		   "source": [
			"## Example 1.7: Determine_Wavelength_of_X_rays.sce"
		   ]
		  },
  {
"cell_type": "code",
	   "execution_count": null,
	   "metadata": {
	    "collapsed": true
	   },
	   "outputs": [],
"source": [
"//Exa 1.7\n",
"clc;\n",
"clear;\n",
"close;\n",
"//given data\n",
"\n",
"theta=16.8/2;//in degree\n",
"n=2;//order unitless\n",
"d=0.4;//in nm\n",
"lambda=(2*d*sin(theta*%pi/180))/n;//in Angstrum\n",
"disp(lambda,'wavelength of X-rays in Angstrum : ');\n",
"//Note: Ans in the book is not correct"
   ]
   }
],
"metadata": {
		  "kernelspec": {
		   "display_name": "Scilab",
		   "language": "scilab",
		   "name": "scilab"
		  },
		  "language_info": {
		   "file_extension": ".sce",
		   "help_links": [
			{
			 "text": "MetaKernel Magics",
			 "url": "https://github.com/calysto/metakernel/blob/master/metakernel/magics/README.md"
			}
		   ],
		   "mimetype": "text/x-octave",
		   "name": "scilab",
		   "version": "0.7.1"
		  }
		 },
		 "nbformat": 4,
		 "nbformat_minor": 0
}
