{
"cells": [
 {
		   "cell_type": "markdown",
	   "metadata": {},
	   "source": [
       "# Chapter 3: Excess Carriers in Semiconductors"
	   ]
	},
{
		   "cell_type": "markdown",
		   "metadata": {},
		   "source": [
			"## Example 3.2: Find_minimum_Energy.sce"
		   ]
		  },
  {
"cell_type": "code",
	   "execution_count": null,
	   "metadata": {
	    "collapsed": true
	   },
	   "outputs": [],
"source": [
"//Exa 3.2\n",
"clc;\n",
"clear;\n",
"close;\n",
"//given data\n",
"lambda=6000;//in Angstrum\n",
"h=6.6*10^(-34);//Planks constant\n",
"c=3*10^8;//speed of light in m/s\n",
"e=1.602*10^(-19);//Constant\n",
"phi=c*h/(e*lambda*10^(-10));\n",
"disp(phi,'Minimum required energy in eV is :');\n",
"//Note : Ans in the book is n ot correct"
   ]
   }
,
{
		   "cell_type": "markdown",
		   "metadata": {},
		   "source": [
			"## Example 3.3: Calculate_work_function.sce"
		   ]
		  },
  {
"cell_type": "code",
	   "execution_count": null,
	   "metadata": {
	    "collapsed": true
	   },
	   "outputs": [],
"source": [
"//Exa 3.3\n",
"clc;\n",
"clear;\n",
"close;\n",
"//given data\n",
"Emax=2.5;//maximum energy of emitted electrons in eV \n",
"lambda=2537;//in Angstrum\n",
"EeV=12400/lambda;//in eV\n",
"disp(EeV,'The eV equivalent of the energy of incident photon : ');\n",
"phi=EeV-Emax;//in eV\n",
"disp(phi,'Work function of the cathode material is ');"
   ]
   }
,
{
		   "cell_type": "markdown",
		   "metadata": {},
		   "source": [
			"## Example 3.4: Determine_power_absorbed_and_rate_of_excess_thermal_energy.sce"
		   ]
		  },
  {
"cell_type": "code",
	   "execution_count": null,
	   "metadata": {
	    "collapsed": true
	   },
	   "outputs": [],
"source": [
"//Exa 3.4\n",
"clc;\n",
"clear;\n",
"close;\n",
"//given data\n",
"t=0.46*10^-6;//in meters\n",
"hf=2;//in ev\n",
"Pin=10;//in mW\n",
"alpha=50000;// in per cm\n",
"e=1.6*10^-19;//constant\n",
"Io=10^-2;//in mW\n",
"It=Io*e^(-alpha*t);//in mW\n",
"//Part (i)\n",
"disp('Thus power absorbed = 10-1 = 9 mW or 0.009 J/s');\n",
"disp((2-1.43)/2,'The fraction of each photon energy unit which is converted into heat');\n",
"//Part (ii)\n",
"disp(((2-1.43)/2)*0.009,'Energy converted into heat in J/s:');\n",
"//Part (iii)\n",
"disp(0.009/(e*2),'Number of photons per second given off from recombination events :');"
   ]
   }
,
{
		   "cell_type": "markdown",
		   "metadata": {},
		   "source": [
			"## Example 3.5: Determine_electron_transit_time_and_photoconductor_gain.sce"
		   ]
		  },
  {
"cell_type": "code",
	   "execution_count": null,
	   "metadata": {
	    "collapsed": true
	   },
	   "outputs": [],
"source": [
"//Exa 3.5\n",
"clc;\n",
"clear;\n",
"close;\n",
"//given data\n",
"L=100;//in uM\n",
"A=10&-7;//in cm^2\n",
"th=10^-6;//in sec\n",
"V=12;//in Volts\n",
"ue=0.13;//in m^2/V-s\n",
"uh=0.05;//in m^2/V-s\n",
"E=V/(L*10^-6);//in V/m\n",
"tn=(L*10^-6)/(ue*E);\n",
"disp(tn,'Electron transit time in sec is ');\n",
"Gain=(1+uh/ue)*(th/tn);\n",
"disp(Gain,'Photoconductor gain is ');"
   ]
   }
,
{
		   "cell_type": "markdown",
		   "metadata": {},
		   "source": [
			"## Example 3.6: Determine_current_through_diode.sce"
		   ]
		  },
  {
"cell_type": "code",
	   "execution_count": null,
	   "metadata": {
	    "collapsed": true
	   },
	   "outputs": [],
"source": [
"//Exa 3.6\n",
"clc;\n",
"clear;\n",
"close;\n",
"//given datex\n",
"Io=0.15;//in uA\n",
"V=0.12;//in mVolt\n",
"Vt=26;//in mVolt\n",
"I=Io*10^-6*(exp(V/(Vt*10^-3))-1);//in A\n",
"disp(I*10^6,'Current flowing through diode in uA is ');"
   ]
   }
,
{
		   "cell_type": "markdown",
		   "metadata": {},
		   "source": [
			"## Example 3.7: Find_forward_voltage.sce"
		   ]
		  },
  {
"cell_type": "code",
	   "execution_count": null,
	   "metadata": {
	    "collapsed": true
	   },
	   "outputs": [],
"source": [
"//Exa 3.7\n",
"clc;\n",
"clear;\n",
"close;\n",
"//given data\n",
"Io=2.5;//in uA\n",
"I=10;//in mA\n",
"Vt=26;//in mVolt\n",
"n=2;//for silicon\n",
"V=n*Vt*10^-3*log((I*10^-3)/(Io*10^-6))\n",
"disp(V,'Forward voltage in volts is ');"
   ]
   }
,
{
		   "cell_type": "markdown",
		   "metadata": {},
		   "source": [
			"## Example 3.8: Find_reverse_saturation_current_density.sce"
		   ]
		  },
  {
"cell_type": "code",
	   "execution_count": null,
	   "metadata": {
	    "collapsed": true
	   },
	   "outputs": [],
"source": [
"//Exa 3.8\n",
"clc;\n",
"clear;\n",
"close;\n",
"//given data\n",
"ND=10^21;//in m^-3\n",
"NA=10^22;//in m^-3\n",
"De=3.4*10^-3;//in m^2-s^-1\n",
"Dh=1.2*10^-3;//in m^2-s^-1\n",
"Le=7.1*10^-4;//in meters\n",
"Lh=3.5*10^-4;//in meters\n",
"ni=1.6*10^16;//in m^-3\n",
"e=1.602*10^-19;//constant\n",
"IoA=e*ni^2*(Dh/(Lh*ND)+De/(Le*NA));\n",
"disp(IoA*10^6,'Reverse saturation current density in uA/m2 is ')"
   ]
   }
],
"metadata": {
		  "kernelspec": {
		   "display_name": "Scilab",
		   "language": "scilab",
		   "name": "scilab"
		  },
		  "language_info": {
		   "file_extension": ".sce",
		   "help_links": [
			{
			 "text": "MetaKernel Magics",
			 "url": "https://github.com/calysto/metakernel/blob/master/metakernel/magics/README.md"
			}
		   ],
		   "mimetype": "text/x-octave",
		   "name": "scilab",
		   "version": "0.7.1"
		  }
		 },
		 "nbformat": 4,
		 "nbformat_minor": 0
}
