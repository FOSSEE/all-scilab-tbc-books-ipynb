{
"cells": [
 {
		   "cell_type": "markdown",
	   "metadata": {},
	   "source": [
       "# Chapter 6: Bipolar Junction Transistors"
	   ]
	},
{
		   "cell_type": "markdown",
		   "metadata": {},
		   "source": [
			"## Example 6.10: Determine_collector_emitter_voltage_and_base_current.sce"
		   ]
		  },
  {
"cell_type": "code",
	   "execution_count": null,
	   "metadata": {
	    "collapsed": true
	   },
	   "outputs": [],
"source": [
"//Exa 6.10\n",
"clc;\n",
"clear;\n",
"close;\n",
"//given data\n",
"VCC=10;//in volt\n",
"RL=800;//in ohm\n",
"VL=0.8;//in volt\n",
"alfa=0.96;//unitless\n",
"//VR=IC*RL\n",
"VCE=VCC-VL;//in Volt\n",
"disp(VCE,'Collector-emitter Voltage in volts : ');\n",
"IC=VL*1000/RL;//in mA\n",
"Beta=alfa/(1-alfa);//unitless\n",
"IB=IC/Beta;//in mA\n",
"disp(IB*1000,'Base current in uA : ');"
   ]
   }
,
{
		   "cell_type": "markdown",
		   "metadata": {},
		   "source": [
			"## Example 6.11: Determine_collector_current.sce"
		   ]
		  },
  {
"cell_type": "code",
	   "execution_count": null,
	   "metadata": {
	    "collapsed": true
	   },
	   "outputs": [],
"source": [
"//Exa 6.11\n",
"clc;\n",
"clear;\n",
"close;\n",
"//given data\n",
"alfao=0.98;//unitless\n",
"ICO=10;//in uA\n",
"ICO=ICO*10^-3;//in mA\n",
"IB=0.22;//in mA\n",
"IC=(alfao*IB+ICO)/(1-alfao);//in mA\n",
"disp(IC,'Collector current in mA : ');"
   ]
   }
,
{
		   "cell_type": "markdown",
		   "metadata": {},
		   "source": [
			"## Example 6.12: Calculate_dynamic_input_resistance.sce"
		   ]
		  },
  {
"cell_type": "code",
	   "execution_count": null,
	   "metadata": {
	    "collapsed": true
	   },
	   "outputs": [],
"source": [
"//Exa 6.12\n",
"clc;\n",
"clear;\n",
"close;\n",
"//given data\n",
"delVEB=250;//in mVolts\n",
"delIE=1;//in mA\n",
"rin=delVEB/delIE;//in ohm\n",
"disp(rin,'Dynamic input resistance in ohm : ');"
   ]
   }
,
{
		   "cell_type": "markdown",
		   "metadata": {},
		   "source": [
			"## Example 6.13: Calculate_dynamic_output_resistance.sce"
		   ]
		  },
  {
"cell_type": "code",
	   "execution_count": null,
	   "metadata": {
	    "collapsed": true
	   },
	   "outputs": [],
"source": [
"//Exa 6.13\n",
"clc;\n",
"clear;\n",
"close;\n",
"//given data\n",
"delVCE=10-5;//in Volts\n",
"delIC=5.8-5;//in mA\n",
"rin=delVCE/delIC;//in Kohm\n",
"disp(rin,'Dynamic output resistance in Kohm : ');"
   ]
   }
,
{
		   "cell_type": "markdown",
		   "metadata": {},
		   "source": [
			"## Example 6.14: Determine_operating_point.sce"
		   ]
		  },
  {
"cell_type": "code",
	   "execution_count": null,
	   "metadata": {
	    "collapsed": true
	   },
	   "outputs": [],
"source": [
"//Exa 6.14\n",
"clc;\n",
"clear;\n",
"close;\n",
"//given data\n",
"VCC=10;//in volt\n",
"RC=8;//in Kohm\n",
"Beta=40;//unitless\n",
"IB=15;//in uA\n",
"IB=IB*10^-3;//in mA\n",
"// For VCE = 0 Volts\n",
"IC=VCC/RC;//in mA\n",
"disp(IC,'VCE=0V and IC in mA = ');\n",
"disp('This gives a point on loasd line.');\n",
"//For IC=0 VCE=VCC=10V :\n",
"disp('For IC=0, VCE=VCC=10V :')\n",
"disp('This gives another point on load line.');\n",
"IC=Beta*IB;//in mA\n",
"VCE=VCC-IC*RC;//in Volts\n",
"disp('Operating point Q is ('+string(VCE)+'V,'+string(IC)+'mA)');"
   ]
   }
,
{
		   "cell_type": "markdown",
		   "metadata": {},
		   "source": [
			"## Example 6.15: Find_VCE_at_cut_off_point.sce"
		   ]
		  },
  {
"cell_type": "code",
	   "execution_count": null,
	   "metadata": {
	    "collapsed": true
	   },
	   "outputs": [],
"source": [
"//Exa 6.15\n",
"clc;\n",
"clear;\n",
"close;\n",
"//given data :\n",
"VCC=20;//in Volt\n",
"RC=3.3*10^3;//in ohm\n",
"disp('Applying Kirchoffs Voltage Law : ');\n",
"disp('VCC=IC*RC+VCE');\n",
"disp('For cut-off point, IC=0');\n",
"disp('Therefore, VCC=VCE');\n",
"VCE=VCC;//in volt\n",
"disp(VCE,'VCE at cut-off point : ');\n",
"disp('For Saturation point, VCE = 0');\n",
"VCE=0;//in volts\n",
"IC=VCC/RC;//in A\n",
"disp(IC,'IC at saturation point in mA ; ');\n",
"disp('Therefore Load line coordinates are given as : ');\n",
"disp('('+string(20)+'V,'+string(0)+'mA)');\n",
"disp('('+string(VCE)+'V,'+string(IC*1000)+'mA)');"
   ]
   }
,
{
		   "cell_type": "markdown",
		   "metadata": {},
		   "source": [
			"## Example 6.16: Determine_VC_and_VB.sce"
		   ]
		  },
  {
"cell_type": "code",
	   "execution_count": null,
	   "metadata": {
	    "collapsed": true
	   },
	   "outputs": [],
"source": [
"//Exa 6.16\n",
"clc;\n",
"clear;\n",
"close;\n",
"//given data :\n",
"Beta=45;//Unitless\n",
"VBE=0.7;//in Volt\n",
"VCC=0;//in Volt\n",
"RB=10^5;//in ohm\n",
"RC=1.2*10^3;//in ohm\n",
"VEE=-9;//in Volt\n",
"disp('Applying Kirchoffs Voltage Law in input loop we have : ');\n",
"disp('IB*RB+VBE+VEE=0');\n",
"IB=-(VBE+VEE)/RB;//in mA\n",
"IC=Beta*IB;//in mA\n",
"VC=VCC-IC*RC;//in Volts\n",
"VB=VBE+VEE;//in Volts\n",
"disp(VC,'VC in volts : ');\n",
"disp(VB,'VB in volts : ');"
   ]
   }
,
{
		   "cell_type": "markdown",
		   "metadata": {},
		   "source": [
			"## Example 6.17: Find_IB_and_IC.sce"
		   ]
		  },
  {
"cell_type": "code",
	   "execution_count": null,
	   "metadata": {
	    "collapsed": true
	   },
	   "outputs": [],
"source": [
"//Exa 6.17\n",
"clc;\n",
"clear;\n",
"close;\n",
"//given data :\n",
"Beta=100;//Unitless\n",
"hfe=Beta;//Unitless\n",
"VBB=5;//in Volt\n",
"VBE=0.8;//in Volt\n",
"RB=50*10^3;//in ohm\n",
"RE=2*10^3;//in ohm\n",
"VCE=0.2;//in Volt\n",
"disp('Applying Kirchoffs Voltage Law in input loop we have : ');\n",
"disp('VBB=IB*RB+VBE+IE*RE=IB*RB+VBE+(1+Beta)*IB*RE');\n",
"disp('IB=(VBB-VBE)/(RB+(1+Beta)*RE)');\n",
"IB=(VBB-VBE)/(RB+(1+Beta)*RE);//in A\n",
"disp(IB*1000,'IB in mA : ');\n",
"disp('Applying Kirchoffs Voltage Law in output loop we have : ');\n",
"disp('10-IC(3*10^3)-VCE-IE(2*10^3)=0');\n",
"IC=(10-0.2)/(5*10^3);//in A\n",
"disp(IC*1000,'IC in mA : ');\n",
"disp(Beta*IB,'Beta*Ib in mA = ');\n",
"disp(IC,'IC = ');\n",
"disp('IC > Beta*IB. Hence the transistor is in saturation with the values of IB = 0.0166 mA and IC = 1.96 mA.')"
   ]
   }
,
{
		   "cell_type": "markdown",
		   "metadata": {},
		   "source": [
			"## Example 6.1: Determine_emitter_current.sce"
		   ]
		  },
  {
"cell_type": "code",
	   "execution_count": null,
	   "metadata": {
	    "collapsed": true
	   },
	   "outputs": [],
"source": [
"//Exa 6.1\n",
"clc;\n",
"clear;\n",
"close;\n",
"//given data\n",
"IC=20;//in mA\n",
"Beta=50;//Unitless\n",
"IB=IC/Beta;//in mA\n",
"IE=IC+IB;//in mA\n",
"disp(IE,'Emitter current in mA : ');"
   ]
   }
,
{
		   "cell_type": "markdown",
		   "metadata": {},
		   "source": [
			"## Example 6.2: Determine_emitter_current_amplification_factor_and_gain_factor.sce"
		   ]
		  },
  {
"cell_type": "code",
	   "execution_count": null,
	   "metadata": {
	    "collapsed": true
	   },
	   "outputs": [],
"source": [
"//Exa 6.2\n",
"clc;\n",
"clear;\n",
"close;\n",
"//given data\n",
"IC=0.98;//in mA\n",
"IB=20;//in uA\n",
"IB=IB*10^-3;//in mA\n",
"//part (i)\n",
"IE=IB+IC;//in mA\n",
"disp(IE,'Emitter current in mA :');\n",
"//part (ii)\n",
"alfa=IC/IE;//unitless\n",
"disp(alfa,'Current amplification factor : ');\n",
"//part (iii)\n",
"Beta=IC/IB;//unitless\n",
"disp(Beta,'Current gain factor : ');"
   ]
   }
,
{
		   "cell_type": "markdown",
		   "metadata": {},
		   "source": [
			"## Example 6.3: Determine_emitter_current_and_collector_current.sce"
		   ]
		  },
  {
"cell_type": "code",
	   "execution_count": null,
	   "metadata": {
	    "collapsed": true
	   },
	   "outputs": [],
"source": [
"//Exa 6.3\n",
"clc;\n",
"clear;\n",
"close;\n",
"//given data\n",
"alfaDC=0.98;//unitless\n",
"ICBO=4;//in uA\n",
"ICBO=ICBO*10^-3;//in mA\n",
"IB=50;//in uA\n",
"IB=IB*10^-3;//in mA\n",
"//Formula : IC=alfaDC*(IB+IC)+ICBO\n",
"IC=alfaDC*IB/(1-alfaDC)+ICBO/(1-alfaDC);//in mA\n",
"IE=IC+IB;//in mA\n",
"disp(IE,'Emitter current in mA : ');\n",
"disp(IC,'Collector current in mA : ');"
   ]
   }
,
{
		   "cell_type": "markdown",
		   "metadata": {},
		   "source": [
			"## Example 6.4: Determine_collector_current.sce"
		   ]
		  },
  {
"cell_type": "code",
	   "execution_count": null,
	   "metadata": {
	    "collapsed": true
	   },
	   "outputs": [],
"source": [
"//Exa 6.4\n",
"clc;\n",
"clear;\n",
"close;\n",
"//given data\n",
"IB=10;//in uA\n",
"IB=IB*10^-3;//in mA\n",
"Beta=99;//Unitless\n",
"ICO=1;//in uA\n",
"ICO=ICO*10^-3;//in mA\n",
"//Formula : IC=alfa*(IB+IC)+ICO\n",
"IC=Beta*IB+(1+Beta)*ICO;//in mA\n",
"disp(IC,'Collector current in mA : ');"
   ]
   }
,
{
		   "cell_type": "markdown",
		   "metadata": {},
		   "source": [
			"## Example 6.5: Calculate_dynamic_input_resistance.sce"
		   ]
		  },
  {
"cell_type": "code",
	   "execution_count": null,
	   "metadata": {
	    "collapsed": true
	   },
	   "outputs": [],
"source": [
"//Exa 6.5\n",
"clc;\n",
"clear;\n",
"close;\n",
"//given data\n",
"delVEB=200;//in Volts\n",
"delIE=5;//in mA\n",
"rin=delVEB/delIE;//in ohm\n",
"disp(rin,'Dynamic input resistance in ohm : ');"
   ]
   }
,
{
		   "cell_type": "markdown",
		   "metadata": {},
		   "source": [
			"## Example 6.6: Determine_base_and_collector_current.sce"
		   ]
		  },
  {
"cell_type": "code",
	   "execution_count": null,
	   "metadata": {
	    "collapsed": true
	   },
	   "outputs": [],
"source": [
"//Exa 6.6\n",
"clc;\n",
"clear;\n",
"close;\n",
"//given data\n",
"alfao=0.98;//unitless\n",
"ICO=10;//in uA\n",
"ICO=ICO*10^-3;//in mA\n",
"IE=2;//in mA\n",
"IC=alfao*IE+ICO;//in mA\n",
"IB=IE-IC;//in mA\n",
"disp(IC,'Collector current in mA : ');\n",
"disp(IB*1000,'Base current in uA : ');"
   ]
   }
,
{
		   "cell_type": "markdown",
		   "metadata": {},
		   "source": [
			"## Example 6.7: Determine_current_gain_and_base_current.sce"
		   ]
		  },
  {
"cell_type": "code",
	   "execution_count": null,
	   "metadata": {
	    "collapsed": true
	   },
	   "outputs": [],
"source": [
"//Exa 6.7\n",
"clc;\n",
"clear;\n",
"close;\n",
"//given data\n",
"ICBO=12.5;//in uA\n",
"ICBO=ICBO*10^-3;//in mA\n",
"IE=2;//in mA\n",
"IC=1.97;//in mA\n",
"alfa=(IC-ICBO)/IE;//unitless\n",
"IB=IE-IC;//in mA\n",
"disp(alfa,'Current gain : ');\n",
"disp(IB,'Base current in mA : ');"
   ]
   }
,
{
		   "cell_type": "markdown",
		   "metadata": {},
		   "source": [
			"## Example 6.8: Determine_base_current.sce"
		   ]
		  },
  {
"cell_type": "code",
	   "execution_count": null,
	   "metadata": {
	    "collapsed": true
	   },
	   "outputs": [],
"source": [
"//Exa 6.8\n",
"clc;\n",
"clear;\n",
"close;\n",
"//given data\n",
"RL=4;//in Kohm\n",
"VL=3;//in volt\n",
"alfa=0.96;//unitless\n",
"IC=VL/RL;//in mA\n",
"IE=IC/alfa;//in mA\n",
"IB=IE-IC;//in mA\n",
"disp(IB,'Base current in mA : ');"
   ]
   }
,
{
		   "cell_type": "markdown",
		   "metadata": {},
		   "source": [
			"## Example 6.9: Determine_base_current.sce"
		   ]
		  },
  {
"cell_type": "code",
	   "execution_count": null,
	   "metadata": {
	    "collapsed": true
	   },
	   "outputs": [],
"source": [
"//Exa 6.9\n",
"clc;\n",
"clear;\n",
"close;\n",
"//given data\n",
"RL=1;//in Kohm\n",
"VL=1.2;//in volt\n",
"Beta=60;//unitless\n",
"IC=VL/RL;//in mA\n",
"IB=IC/Beta;//in mA\n",
"disp(IB*1000,'Base current in uA : ');"
   ]
   }
],
"metadata": {
		  "kernelspec": {
		   "display_name": "Scilab",
		   "language": "scilab",
		   "name": "scilab"
		  },
		  "language_info": {
		   "file_extension": ".sce",
		   "help_links": [
			{
			 "text": "MetaKernel Magics",
			 "url": "https://github.com/calysto/metakernel/blob/master/metakernel/magics/README.md"
			}
		   ],
		   "mimetype": "text/x-octave",
		   "name": "scilab",
		   "version": "0.7.1"
		  }
		 },
		 "nbformat": 4,
		 "nbformat_minor": 0
}
