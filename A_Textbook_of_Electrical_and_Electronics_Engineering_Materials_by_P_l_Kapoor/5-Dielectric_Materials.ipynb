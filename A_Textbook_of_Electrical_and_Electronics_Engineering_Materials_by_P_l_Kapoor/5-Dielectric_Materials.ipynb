{
"cells": [
 {
		   "cell_type": "markdown",
	   "metadata": {},
	   "source": [
       "# Chapter 5: Dielectric Materials"
	   ]
	},
{
		   "cell_type": "markdown",
		   "metadata": {},
		   "source": [
			"## Example 5.1: Charge_and_capacitance.sce"
		   ]
		  },
  {
"cell_type": "code",
	   "execution_count": null,
	   "metadata": {
	    "collapsed": true
	   },
	   "outputs": [],
"source": [
"//Finding charge and capacitance\n",
"//Example 5.1(pg 193)\n",
"clc\n",
"clear\n",
"t=0.25//time in sec\n",
"I=0.22//Current in A\n",
"V=220//voltage in V\n",
"Q=I*t//charge given to condenser\n",
"C=Q/V//capacitance of condenser\n",
"C1=C*(10^6)\n",
"printf('Charge given to condenser is %3.3f Coulombs \n',Q)\n",
"printf('Capacitance of condenser is %3.4f F',C)\n",
"printf('or %3.0f microF',C1)\n",
"\n",
""
   ]
   }
,
{
		   "cell_type": "markdown",
		   "metadata": {},
		   "source": [
			"## Example 5.2: Charge_and_potential_gradient.sce"
		   ]
		  },
  {
"cell_type": "code",
	   "execution_count": null,
	   "metadata": {
	    "collapsed": true
	   },
	   "outputs": [],
"source": [
"//Finding charge and potential gradient\n",
"//Example 5.2(pg 193)\n",
"clc\n",
"clear\n",
"C=0.0002*(10^-6)//capacitance in F\n",
"V=20000//P.D across condenser in V\n",
"t=2//thickness in mm\n",
"Q=C*V//charge on each plate in coulomb\n",
"g=(V/t)*(1/1000)// potential gradient in kV/mm\n",
"printf('Charge given to condenser is %e Coulombs \n',Q)\n",
"printf('Potential gradient of condenser is %3.0f kV/mm',g)"
   ]
   }
,
{
		   "cell_type": "markdown",
		   "metadata": {},
		   "source": [
			"## Example 5.3: Charge_and_energy.sce"
		   ]
		  },
  {
"cell_type": "code",
	   "execution_count": null,
	   "metadata": {
	    "collapsed": true
	   },
	   "outputs": [],
"source": [
"//Finding charge and energy\n",
"//Example 5.3(pg 194)\n",
"clc\n",
"clear\n",
"//Before immersion of oil\n",
"C=0.005*(10^-6)\n",
"V=500\n",
"q=C*V\n",
"E=(1/2)*(C*V*V)\n",
"printf('Charge of condenser is %e coulomb \n',q)\n",
"printf('Energy stored in condenser before immersion of oil is %e Joules \n',E)\n",
"\n",
"//After immersion of oil\n",
"K=2.5\n",
"q1=q// since no loss of charge\n",
"C1=K*C//capacity of condenser\n",
"E1=(q1^2)/(2*C1)// energy stored in condenser\n",
"printf('Energy stored in condenser after immersion of oil is %e Joules',E1)"
   ]
   }
,
{
		   "cell_type": "markdown",
		   "metadata": {},
		   "source": [
			"## Example 5.4: K_and_flux_density.sce"
		   ]
		  },
  {
"cell_type": "code",
	   "execution_count": null,
	   "metadata": {
	    "collapsed": true
	   },
	   "outputs": [],
"source": [
"//dielectric constant and flux density\n",
"//Example 5.4(pg 194)\n",
"clc\n",
"clear\n",
"A=0.02//surface area of plate in m^2\n",
"d=0.001//distance between plates in m\n",
"C=4.5*(10^-10)//capacitance in F\n",
"V=15000//voltage in volts\n",
"K0=8.854*(10^-12)\n",
"K=(C*d)/(K0*A)\n",
"q=C*V// charge on condenser in coulombs\n",
"D=q/A//Electric flux density in Coulomb/m^2\n",
"printf('Thus dielectric constant is %3.2f \n',K)\n",
"printf('Thus Electric flux density is %e Coulombs/m^2',D)"
   ]
   }
,
{
		   "cell_type": "markdown",
		   "metadata": {},
		   "source": [
			"## Example 5.5: Finding_capacitance.sce"
		   ]
		  },
  {
"cell_type": "code",
	   "execution_count": null,
	   "metadata": {
	    "collapsed": true
	   },
	   "outputs": [],
"source": [
"//Finding capacitance\n",
"//Example 5.5(pg 195)\n",
"clc\n",
"clear\n",
"A=0.2//surface area of plate in m^2\n",
"t=2.5*(10^-5)//thickness of dielectric in m\n",
"K0=8.854*(10^-12)//permittivity of air  in F/m\n",
"K=5//relative permittivity of dielectric\n",
"C=(K*K0*A*(10^6))/t//capacitance of condenser in microF\n",
"printf('Thus the Capacitance of condenser is %3.3f microF',C)"
   ]
   }
],
"metadata": {
		  "kernelspec": {
		   "display_name": "Scilab",
		   "language": "scilab",
		   "name": "scilab"
		  },
		  "language_info": {
		   "file_extension": ".sce",
		   "help_links": [
			{
			 "text": "MetaKernel Magics",
			 "url": "https://github.com/calysto/metakernel/blob/master/metakernel/magics/README.md"
			}
		   ],
		   "mimetype": "text/x-octave",
		   "name": "scilab",
		   "version": "0.7.1"
		  }
		 },
		 "nbformat": 4,
		 "nbformat_minor": 0
}
