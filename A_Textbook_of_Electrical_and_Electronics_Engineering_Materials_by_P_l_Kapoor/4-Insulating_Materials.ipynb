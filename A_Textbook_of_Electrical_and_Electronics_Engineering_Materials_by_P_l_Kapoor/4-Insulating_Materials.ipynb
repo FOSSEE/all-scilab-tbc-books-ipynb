{
"cells": [
 {
		   "cell_type": "markdown",
	   "metadata": {},
	   "source": [
       "# Chapter 4: Insulating Materials"
	   ]
	},
{
		   "cell_type": "markdown",
		   "metadata": {},
		   "source": [
			"## Example 4.1: Finding_capacitance.sce"
		   ]
		  },
  {
"cell_type": "code",
	   "execution_count": null,
	   "metadata": {
	    "collapsed": true
	   },
	   "outputs": [],
"source": [
"//Finding capacitance\n",
"//Example 4.1(pg 110)\n",
"clc\n",
"clear\n",
"// Let C1 and C2 be unknown capacities\n",
"//C1+C2=0.16\n",
"//(C1*C2)/(C1 + C2)=0.03\n",
"// from the above 2 equations we get the following polynomial\n",
"s=poly(0,'s');\n",
"p=s^2 -0.16*s +0.0048\n",
"[c1]=roots(p)\n",
"c2=0.16-c1\n",
"printf('Thus the capacitance of condensers is  %3.2f microF \n ',c1)"
   ]
   }
,
{
		   "cell_type": "markdown",
		   "metadata": {},
		   "source": [
			"## Example 4.2: Finding_capacitance.sce"
		   ]
		  },
  {
"cell_type": "code",
	   "execution_count": null,
	   "metadata": {
	    "collapsed": true
	   },
	   "outputs": [],
"source": [
"//Finding capacitance\n",
"//Example 4.2(pg 110)\n",
"clc\n",
"clear\n",
"n=9;\n",
"Ko=8.854*10^-12;\n",
"K=5;\n",
"A=12*10^-4;\n",
"d=2*10^-4;\n",
"\n",
"C=(n-1)*Ko*K*A/d\n",
"printf('Thus the capacitance is %e F',C);\n",
"//The Answer in the Textbook has a calculation error, hence it doesn't match the answer here."
   ]
   }
,
{
		   "cell_type": "markdown",
		   "metadata": {},
		   "source": [
			"## Example 4.3: Finding_heat.sce"
		   ]
		  },
  {
"cell_type": "code",
	   "execution_count": null,
	   "metadata": {
	    "collapsed": true
	   },
	   "outputs": [],
"source": [
"//Finding heat\n",
"//Example 4.3(pg 110)\n",
"clc\n",
"clear\n",
"C=10^-6\n",
"V=10000\n",
"//here C is capacitance and V voltage\n",
"E=1/2*C*V^2\n",
"//E is the energy stored in the capacitor\n",
"// when the capacitor is discharged all this energy is dissipated as heat in the wire\n",
"H=E/4.2\n",
"//H is heat produced in calories since 4.2 Joules=1 calorie\n",
"printf('Thus the heat produced is %3.4f calories',H)"
   ]
   }
,
{
		   "cell_type": "markdown",
		   "metadata": {},
		   "source": [
			"## Example 4.4: Finding_flux_density.sce"
		   ]
		  },
  {
"cell_type": "code",
	   "execution_count": null,
	   "metadata": {
	    "collapsed": true
	   },
	   "outputs": [],
"source": [
"//Finding electric flux density\n",
"//Example 4.4(pg 111)\n",
"clc\n",
"clear\n",
"\n",
"A=0.02;//surface area of plates in meter square\n",
"d=0.001;//distance between the plates in meter\n",
"C=4.5*10^-10;//capacitance of the capacitor in farad\n",
"//for paralel plate condenser C=KoKA/d\n",
"Ko=8.854*10^-12;\n",
"//dielectric constant K is given by\n",
"K=(C*d)/(Ko*A)\n",
"V=15000;//volatage in volts\n",
"Q=C*V// charge on condenser in columb\n",
"D=Q/A// electric flux density in columb per meter square\n",
"printf('Thus the electric flux density is %e C/(m^2)',D)"
   ]
   }
,
{
		   "cell_type": "markdown",
		   "metadata": {},
		   "source": [
			"## Example 4.5: Finding_relative_permeability.sce"
		   ]
		  },
  {
"cell_type": "code",
	   "execution_count": null,
	   "metadata": {
	    "collapsed": true
	   },
	   "outputs": [],
"source": [
"//Finding relative permittivity\n",
"//Example 4.5(pg 111)\n",
"clc\n",
"clear\n",
"//before inserting the second sheet\n",
"d=0.003;//distacne between plates in m^2\n",
"K1=6;// relative permittivity of air\n",
"Ko=8.854*10^-12;\n",
"// capacitance C1=Ko*K1*A/d in Farad\n",
"//after inserting the second sheet\n",
"d1=0.003;//thickness of first sheet in meter\n",
"d2=0.005;//thickness of second sheet in meter\n",
"//K2 is unknown\n",
"//C2=Ko*A/(d1/K1 + d2/K2)\n",
"// but given that C2=(1/3)*C1\n",
"//from equations 1,2,3\n",
"K2= (d2*K1)/(3*d-d1)\n",
"// since Ko*A/(d1/K1 + d2/K2)=Ko*K1*A/3*d\n",
"printf('Thus K2 is %3.4f',K2)"
   ]
   }
,
{
		   "cell_type": "markdown",
		   "metadata": {},
		   "source": [
			"## Example 4.6: Finding_force.sce"
		   ]
		  },
  {
"cell_type": "code",
	   "execution_count": null,
	   "metadata": {
	    "collapsed": true
	   },
	   "outputs": [],
"source": [
"//Finding force\n",
"//Example 4.6(pg 113)\n",
"clc\n",
"clear\n",
"q1=1;// in coulomb\n",
"q2=1;// in coulomb\n",
"Eo=8.854*10^-12;// in Farad per meter\n",
"Er=1;\n",
"d=1// in meter\n",
"pi=3.14;\n",
"// F is the force between 2 charges in NEWTONS\n",
"F=(q1*q2)/(4*pi*Eo*Er*d^2)\n",
"\n",
"printf('Thus the force between 2 charges is %e',F)"
   ]
   }
,
{
		   "cell_type": "markdown",
		   "metadata": {},
		   "source": [
			"## Example 4.7: Finding_charge.sce"
		   ]
		  },
  {
"cell_type": "code",
	   "execution_count": null,
	   "metadata": {
	    "collapsed": true
	   },
	   "outputs": [],
"source": [
"//Finding charge\n",
"//Example 4.7(pg 114)\n",
"clc\n",
"clear\n",
"//q1=q2=q\n",
"pi=3.14;\n",
"d=0.2;// in meters\n",
"K=9*10^9;// here K=1/4*pi*Eo*Er constant\n",
"F=9.81*10^-1;// in newtons or 10^-1 kgm\n",
"q=sqrt((F*(d^2))/K)\n",
"printf('Thus charge is %e in coulomb',q)"
   ]
   }
],
"metadata": {
		  "kernelspec": {
		   "display_name": "Scilab",
		   "language": "scilab",
		   "name": "scilab"
		  },
		  "language_info": {
		   "file_extension": ".sce",
		   "help_links": [
			{
			 "text": "MetaKernel Magics",
			 "url": "https://github.com/calysto/metakernel/blob/master/metakernel/magics/README.md"
			}
		   ],
		   "mimetype": "text/x-octave",
		   "name": "scilab",
		   "version": "0.7.1"
		  }
		 },
		 "nbformat": 4,
		 "nbformat_minor": 0
}
