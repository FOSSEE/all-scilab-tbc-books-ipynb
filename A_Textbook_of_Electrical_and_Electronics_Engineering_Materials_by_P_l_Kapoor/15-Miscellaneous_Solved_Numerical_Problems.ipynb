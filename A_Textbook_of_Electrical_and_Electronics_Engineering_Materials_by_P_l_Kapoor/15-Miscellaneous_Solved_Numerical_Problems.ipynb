{
"cells": [
 {
		   "cell_type": "markdown",
	   "metadata": {},
	   "source": [
       "# Chapter 15: Miscellaneous Solved Numerical Problems"
	   ]
	},
{
		   "cell_type": "markdown",
		   "metadata": {},
		   "source": [
			"## Example 15.10: Finding_resistance.sce"
		   ]
		  },
  {
"cell_type": "code",
	   "execution_count": null,
	   "metadata": {
	    "collapsed": true
	   },
	   "outputs": [],
"source": [
"//Finding resistance\n",
"//Example 15.10(pg 398)\n",
"clc\n",
"clear\n",
"rho=1.7*(10^-6)//resistivity of copper in ohm-cm\n",
"l=5//length in metres\n",
"t=0.005//thickness in m\n",
"D=0.08//external diameter in m\n",
"d=D-(2*t)//internal diameter in m\n",
"a=%pi*(D^2-d^2)/4//cross section area in cm^2\n",
"R=rho*l/a//resistance of copper tube in ohm\n",
"R1=R/(10^-4)//resistance in micro-ohm\n",
"printf('Thus the resistance of copper tube is %3.2f micro-ohm',R1)"
   ]
   }
,
{
		   "cell_type": "markdown",
		   "metadata": {},
		   "source": [
			"## Example 15.11: Conductivity_and_conductance.sce"
		   ]
		  },
  {
"cell_type": "code",
	   "execution_count": null,
	   "metadata": {
	    "collapsed": true
	   },
	   "outputs": [],
"source": [
"//Conductivity and conductance\n",
"//Example 15.11(pg 399)\n",
"clc\n",
"clear\n",
"rho=1.7*(10^-8)//resistivity in ohm-m\n",
"K=1/rho//conductivity in mho/m\n",
"a=0.125*(10^-4)//cross sectional area of cable in m^2\n",
"l=2000//length of cable in meters\n",
"G=K*a/l//conductance\n",
"printf('Thus conductivity of cable is %e mho/metres \n',K)\n",
"printf('and conductance of cable is %3f mho',G)"
   ]
   }
,
{
		   "cell_type": "markdown",
		   "metadata": {},
		   "source": [
			"## Example 15.12: Finding_resistivity.sce"
		   ]
		  },
  {
"cell_type": "code",
	   "execution_count": null,
	   "metadata": {
	    "collapsed": true
	   },
	   "outputs": [],
"source": [
"//Finding resistivity\n",
"//Example 15.12(pg 399)\n",
"clc\n",
"clear\n",
"V=0.05//volume in m^3\n",
"l=300//length in m\n",
"R=0.0306//resistance of conductor in ohm\n",
"rho=R*V/(l^2)//resistivity of conducting material\n",
"printf('Thus resistivity of conducting material is %e ohm-m',rho)"
   ]
   }
,
{
		   "cell_type": "markdown",
		   "metadata": {},
		   "source": [
			"## Example 15.13: Finding_resistivity.sce"
		   ]
		  },
  {
"cell_type": "code",
	   "execution_count": null,
	   "metadata": {
	    "collapsed": true
	   },
	   "outputs": [],
"source": [
"//Finding resistivity\n",
"//Example 15.12(pg 399)\n",
"clc\n",
"clear\n",
"rho=0.67*(10^-6)//resistivity in ohm-inch\n",
"m=39.4//1meter = 39.4inch\n",
"m2=1525//1 meter2=1525 square inch\n",
"rhoc=rho*m/m2//resistivity of copper in ohm/m^3\n",
"rho1=rhoc/(10^-6)\n",
"printf('Thus resistivity of copper is %e ohm/m^3',rhoc)\n",
"printf('/n which is equal to %2.4f micro-ohm/m^3',rho1)"
   ]
   }
,
{
		   "cell_type": "markdown",
		   "metadata": {},
		   "source": [
			"## Example 15.14: Finding_resistance.sce"
		   ]
		  },
  {
"cell_type": "code",
	   "execution_count": null,
	   "metadata": {
	    "collapsed": true
	   },
	   "outputs": [],
"source": [
"//Finding resistance\n",
"//Example 15.14(pg. 400)\n",
"clc\n",
"clear\n",
"R1=0.12//old conductor resistance in ohm\n",
"d1=15//diameter of old conductor in cm\n",
"d2=0.4*d1//diameter of new conductor in cm\n",
"a1=%pi*(d1^2)/4//area of cross section of old conductor\n",
"a2=%pi*(d2^2)/4//area of cross section of new conductor\n",
"//R=rho*l/a=rho*V/a^2\n",
"//Henec R is proportional to 1/a^2\n",
"R2=R1*((a1/a2)^2)//resistance of new conductor\n",
"printf('Thus resistance of new conductor is %2.4f ohm',R2)"
   ]
   }
,
{
		   "cell_type": "markdown",
		   "metadata": {},
		   "source": [
			"## Example 15.15: Finding_resistance.sce"
		   ]
		  },
  {
"cell_type": "code",
	   "execution_count": null,
	   "metadata": {
	    "collapsed": true
	   },
	   "outputs": [],
"source": [
"//Finding resistance\n",
"//Example 15.15(pg. 401)\n",
"clc\n",
"clear\n",
"lab=10//la=10*lb ratio of length of A to length of B.\n",
"Aab=1/2//Aa=1/2*Ab ratio of area of A to area of B\n",
"RHOab=1/2//RHOa=2*RHOb ratio of resistivity of A to resistivity of B\n",
"Ra=2//resistance of A in ohm\n",
"Rb=(Ra*Aab)/(lab*RHOab)//resistance of B in ohm\n",
"//Since Ra=RHOa*la/Aa and Rb=RHOb*lb/Ab so from ratio of two we get Rb\n",
"printf('Thus resistance of resistor B is %2.2f ohm',Rb)"
   ]
   }
,
{
		   "cell_type": "markdown",
		   "metadata": {},
		   "source": [
			"## Example 15.16: Finding_resistance.sce"
		   ]
		  },
  {
"cell_type": "code",
	   "execution_count": null,
	   "metadata": {
	    "collapsed": true
	   },
	   "outputs": [],
"source": [
"//Finding resistance\n",
"//Example 15.16(pg. 402)\n",
"clc\n",
"clear\n",
"RHOo=10.3*(10^-6)//resistivity of platinum wire at 0 degree in ohm-cm\n",
"d=0.0074//diameter of platinum wire\n",
"a=%pi*(d^2)/4//area of cross section of platinum wire in sq cm\n",
"Ro=4//resistance of wire in ohm\n",
"l=Ro*a/RHOo//length of wire in cm\n",
"alphao=0.0038\n",
"t=100//temp in degree C\n",
"R100=Ro*(1+(alphao*t))\n",
"printf('Thus length of wire required is %3.2f cms\n',l)\n",
"printf('and Resistance of wire at 100 degreeC is %2.2f ohms',R100)"
   ]
   }
,
{
		   "cell_type": "markdown",
		   "metadata": {},
		   "source": [
			"## Example 15.17: Finding_resistance.sce"
		   ]
		  },
  {
"cell_type": "code",
	   "execution_count": null,
	   "metadata": {
	    "collapsed": true
	   },
	   "outputs": [],
"source": [
"//Finding resistance\n",
"//Example 15.17(pg. 403)\n",
"clc\n",
"clear\n",
"Ra=1//resistance of A in ohm\n",
"lab=20//ratio of length of A to length of B\n",
"Aab=1/3//ratio of area of A to area of B\n",
"//resistivity is same for both wires\n",
"Rb=Ra*(Aab/lab)//resistance of wire B in ohm\n",
"//since Ra=rho*la/Aa and Rb=rho*lb/Ab so from ratio of both we get Rb\n",
"printf('Thus resistance of wire B is %2.4f omhs',Rb)"
   ]
   }
,
{
		   "cell_type": "markdown",
		   "metadata": {},
		   "source": [
			"## Example 15.19: Finding_potential_difference.sce"
		   ]
		  },
  {
"cell_type": "code",
	   "execution_count": null,
	   "metadata": {
	    "collapsed": true
	   },
	   "outputs": [],
"source": [
"//Finding potential difference\n",
"//Example 15.19(pg. 405)\n",
"clc\n",
"clear\n",
"I1=2/(2+3)//current across 2V battery in circuit EBD in A\n",
"Vbe=3*I1//voltage dropp across BE in V\n",
"I2=4/(5+3)//current across 4V battery in circuit AFC in A\n",
"Vaf=3*I2//voltage dropp across AF in V\n",
"V=Vbe+4-Vaf//sum of potential drops starting from E and ending at F\n",
"//V is the P.D. between E and F\n",
"printf('Thus the P.D. between E and F is %2.1f Volts',V)"
   ]
   }
,
{
		   "cell_type": "markdown",
		   "metadata": {},
		   "source": [
			"## Example 15.1: Voltage_and_energy_loss.sce"
		   ]
		  },
  {
"cell_type": "code",
	   "execution_count": null,
	   "metadata": {
	    "collapsed": true
	   },
	   "outputs": [],
"source": [
"//consumer voltage and energy loss\n",
"//Example 15.1(pg 392)\n",
"clc\n",
"clear\n",
"R=0.2//total resistance of cable in ohms\n",
"I=200//current in A\n",
"t=100//time in hours\n",
"V=240//voltage in volts\n",
"c=0.8//cost of electrical energy in Rs per unit\n",
"V1=I*R//voltage drop in the cable\n",
"//(i)consumer voltage\n",
"Vc=V-V1\n",
"//(ii)Power loss in the cable\n",
"P=I*I*R//in watts\n",
"E=P*t/1000//energy loss in kWh\n",
"C=E*c//cost of energy loss in Rs.\n",
"printf('(i)Consumer voltage is %3.1f Volts \n',Vc)\n",
"printf('(ii)cost of energy loss is Rs %3.2f ',C)"
   ]
   }
,
{
		   "cell_type": "markdown",
		   "metadata": {},
		   "source": [
			"## Example 15.20: Finding_current.sce"
		   ]
		  },
  {
"cell_type": "code",
	   "execution_count": null,
	   "metadata": {
	    "collapsed": true
	   },
	   "outputs": [],
"source": [
"//Finding current\n",
"//Example 15.20(pg. 405)\n",
"clc\n",
"clear\n",
"//Let current in XA=I, in XY=I1, in AY=I-40, in YB=I-40+I1-60, in BX=I+I1-150.\n",
"//By Kirchhoff's second law, in circuit XAYA I-I1=20\n",
"// and in circuit XAYBX 25I+15I1=1950\n",
"I1=(1950-500)/(15+25)//in Amperes\n",
"printf('Thus the current in branch XY is I1=%2.2f Amps',I1)"
   ]
   }
,
{
		   "cell_type": "markdown",
		   "metadata": {},
		   "source": [
			"## Example 15.21: Finding_loss.sce"
		   ]
		  },
  {
"cell_type": "code",
	   "execution_count": null,
	   "metadata": {
	    "collapsed": true
	   },
	   "outputs": [],
"source": [
"//Finding loss\n",
"//Example 15.21(pg. 407)\n",
"clc\n",
"clear\n",
"A=30//area of hysteresis material in cm^2\n",
"s1=0.4//scale is 1cm=0.4Wb/m^2\n",
"s2=400// and 1cm=400AT/m\n",
"V=1.2*(10^-3)\n",
"f=50//frequency in Hz\n",
"H=A*s1*s2//hysteresis loss/m^3/cycle in joules\n",
"Hp=H*V*f//hysteresis power loss in Watts\n",
"printf('Thus hysteresis power loss is %3.2f Watts',Hp)"
   ]
   }
,
{
		   "cell_type": "markdown",
		   "metadata": {},
		   "source": [
			"## Example 15.22: Finding_energy_loss.sce"
		   ]
		  },
  {
"cell_type": "code",
	   "execution_count": null,
	   "metadata": {
	    "collapsed": true
	   },
	   "outputs": [],
"source": [
"//Finding energy loss\n",
"//Example 15.22(pg. 407)\n",
"clc\n",
"clear\n",
"d=7500//density of iron in kg/m^3\n",
"w=12//weight of iron in kgm\n",
"V=w/d//volume of iron in m^3\n",
"f=25//frequency in Hz\n",
"N=3600*f//number of cycle per hour\n",
"A=300//area in joules/m^3\n",
"E=A*V*N//Total energy loss per hour in joules\n",
"printf('Thus total energy loss per hour is %5.2f Joules',E)"
   ]
   }
,
{
		   "cell_type": "markdown",
		   "metadata": {},
		   "source": [
			"## Example 15.23: Finding_inductance_and_energy.sce"
		   ]
		  },
  {
"cell_type": "code",
	   "execution_count": null,
	   "metadata": {
	    "collapsed": true
	   },
	   "outputs": [],
"source": [
"//Finding inductance and energy\n",
"//Example 15.23(pg. 407)\n",
"clc\n",
"clear\n",
"l=0.5//length of coil in meters\n",
"d=0.1//diameter of coil\n",
"N=1500//no of turns of coil\n",
"a=%pi*(d^2)/4//cross sectional area of coil in m^2\n",
"Ur=1//relative permeability\n",
"Uo=4*%pi*(10^-7)//permeability\n",
"I=8//current in A\n",
"L=((N^2)*a*Uo*Ur)/l//self inductance of coil in H\n",
"E=(1/2)*L*(I^2)//Energy stored in Joules\n",
"printf('Thus Self Inductance of coil is %2.3f H\n',L)\n",
"printf('and Energy stored is %1.2f Joules',E)"
   ]
   }
,
{
		   "cell_type": "markdown",
		   "metadata": {},
		   "source": [
			"## Example 15.24: Flux_and_field_strength.sce"
		   ]
		  },
  {
"cell_type": "code",
	   "execution_count": null,
	   "metadata": {
	    "collapsed": true
	   },
	   "outputs": [],
"source": [
"//Finding flux and field strength\n",
"//Example 15.24(pg. 408)\n",
"clc\n",
"clear\n",
"N=600//number of turns on the coil\n",
"I=2//current passing through solenoid in A\n",
"l=0.6//length of solenoid in meter\n",
"H=N*I/l//magnetic field at the centre in AT/m\n",
"Ur=1//relative permeability\n",
"Uo=4*%pi*(10^-7)//permeability\n",
"d=0.025//diameter in meters\n",
"a=%pi*(d^2)/4//cross sectional area of coil in m^2\n",
"phi=Uo*Ur*H*a//flux in Wb\n",
"printf('Thus Magenetic field at centre is %3.2f AT/m',H)\n",
"printf('\n and Flux is %e Wb',phi)"
   ]
   }
,
{
		   "cell_type": "markdown",
		   "metadata": {},
		   "source": [
			"## Example 15.25: Finding_AmpereTurns.sce"
		   ]
		  },
  {
"cell_type": "code",
	   "execution_count": null,
	   "metadata": {
	    "collapsed": true
	   },
	   "outputs": [],
"source": [
"//Finding Ampere-Turns\n",
"//Example 15.25(pg. 408)\n",
"clc\n",
"clear\n",
"Ur=1//relative permeability\n",
"B=1.257//flux density in Wb/m^2\n",
"Uo=4*%pi*(10^-7)//permeability\n",
"H=B/(Uo*Ur)//magnetising force in AT/m\n",
"l=0.004//length of air gap in meter\n",
"AT=H*l//AT required for the air gap\n",
"printf('Thus AT required for the air gap is %3.1f ',AT)"
   ]
   }
,
{
		   "cell_type": "markdown",
		   "metadata": {},
		   "source": [
			"## Example 15.26: Finding_flux.sce"
		   ]
		  },
  {
"cell_type": "code",
	   "execution_count": null,
	   "metadata": {
	    "collapsed": true
	   },
	   "outputs": [],
"source": [
"//Finding flux\n",
"//Example 15.26(pg. 409)\n",
"clc\n",
"clear\n",
"D=0.3//diameter of anchor ring in m\n",
"l=%pi*D//length of iron ring in m\n",
"N=400//number of turns on the iron ring\n",
"a=0.0012//area of cross section of iron path in m^2\n",
"Ur=1000//relative permeability\n",
"Uo=4*%pi*(10^-7)//permeability\n",
"I=2//current in A\n",
"phi=(N*I)/(l/(Uo*Ur*a))//flux through iron path in WB\n",
"phi1=phi/(10^-3)//flux in mWb\n",
"printf('Thus flux through iron path is %2.2f mWb',phi1)"
   ]
   }
,
{
		   "cell_type": "markdown",
		   "metadata": {},
		   "source": [
			"## Example 15.27: Finding_magnetising_current.sce"
		   ]
		  },
  {
"cell_type": "code",
	   "execution_count": null,
	   "metadata": {
	    "collapsed": true
	   },
	   "outputs": [],
"source": [
"//Finding magnetising current\n",
"//Example 15.27(pg. 409)\n",
"clc\n",
"clear\n",
"a=0.01//crosssectional area of ring in m^2\n",
"Uo=4*(%pi)*(10^-7)//absolute permeability\n",
"lf=1.25//leakage factor\n",
"Ur=400//permeability\n",
"N=175//no of turns\n",
"phig=0.8*(10^-3)//flux through air gap in Wb\n",
"Bg=phig/a//Flux density in air gap in Wb/m^2\n",
"Hg=Bg/Uo//magnetising force in air gap in AT/m\n",
"Lg=0.004//length of air gap in m\n",
"ATg=Hg*Lg//AT required for air gap in AT\n",
"phii=phig*lf//flux through iron path in Wb\n",
"Bi=phii/a//Flux density in iron path in Wb/m^2\n",
"Hi=Bi/(Uo*Ur)//magnetising force in iron path in AT/m\n",
"Li=1.5//length of iron path in m\n",
"ATi=Hi*Li//At required for iron path in AT\n",
"AT=ATi+ATg//total AT required \n",
"I=ATg/N//Magnetising current required in A\n",
"printf('Thus the magnetising current required is %2.2f Amps',I)"
   ]
   }
,
{
		   "cell_type": "markdown",
		   "metadata": {},
		   "source": [
			"## Example 15.28: Finding_charge_and_capacity.sce"
		   ]
		  },
  {
"cell_type": "code",
	   "execution_count": null,
	   "metadata": {
	    "collapsed": true
	   },
	   "outputs": [],
"source": [
"//Finding charge and capacity\n",
"//Example 15.28(pg. 411)\n",
"clc\n",
"clear\n",
"SI=0.2//steady current in A\n",
"t=0.2//time in sec\n",
"Q=SI*t//charge given to condenser in Coulomb\n",
"V=220//PD across condenser in Volts\n",
"C=Q/V//Capacitance of condenser in F\n",
"C1=C*(10^6)//Capacitance in mircoF\n",
"printf('Thus the Charge of condenser is %2.2f Coulomb\n',Q)\n",
"printf('And the Capacitance of condenser is %3.2f microF',C1)"
   ]
   }
,
{
		   "cell_type": "markdown",
		   "metadata": {},
		   "source": [
			"## Example 15.29: Finding_heat.sce"
		   ]
		  },
  {
"cell_type": "code",
	   "execution_count": null,
	   "metadata": {
	    "collapsed": true
	   },
	   "outputs": [],
"source": [
"//Finding heat\n",
"//Example 15.29(pg. 411)\n",
"clc\n",
"clear\n",
"C=2*(10^-6)//capacitance of condenser in F\n",
"V=10000//PD across condenser in Volts\n",
"E=(1/2)*C*(V^2)//energy stored in condenser in Joules\n",
"H=E/4.2//heat produced in the wire in calories\n",
"printf('Thus heat produced in the wire is %2.2f calories',H)"
   ]
   }
,
{
		   "cell_type": "markdown",
		   "metadata": {},
		   "source": [
			"## Example 15.2: Resistance_and_BOT_units.sce"
		   ]
		  },
  {
"cell_type": "code",
	   "execution_count": null,
	   "metadata": {
	    "collapsed": true
	   },
	   "outputs": [],
"source": [
"//Resistance and BOT units\n",
"//Example 15.2(pg 393)\n",
"clc\n",
"clear\n",
"Vi=220//voltage in volts supplied by dynamo\n",
"Vo=200//voltage in volts required for lighting\n",
"I=40//current in Amperes\n",
"Pi=Vi*I//power output of dynamo\n",
"Po=Vo*I//power consumed for lighting\n",
"L=Pi-Po//line losses\n",
"R=L/(I^2)//resistance of lines since line losses=I^2*R\n",
"t=10//time in hrs\n",
"N=(Po*t)/1000//no of units of consumed in B.O.T units\n",
"Nw=(L*t)/1000//No of units wasted in B.O.T units\n",
"printf('(i)Resistance of lines is  %3.1f Ohms \n',R)\n",
"printf('(ii)No. of B.O.T units consumed in 10hrs is %3.2f B.O.T units\n',N)\n",
"printf('(iii)No. of B.O.T units wasted in 10hrs is %3.2f B.O.T units\n',Nw)"
   ]
   }
,
{
		   "cell_type": "markdown",
		   "metadata": {},
		   "source": [
			"## Example 15.30: Finding_K_and_flux_density.sce"
		   ]
		  },
  {
"cell_type": "code",
	   "execution_count": null,
	   "metadata": {
	    "collapsed": true
	   },
	   "outputs": [],
"source": [
"//Finding K and flux density\n",
"//Example 15.30(pg. 411)\n",
"clc\n",
"clear\n",
"V=15*(10^3)//potential difference applied in V\n",
"A=0.02//surface area of plate in m^2\n",
"d=0.001//distance between plates in m\n",
"C=4.5*(10^-10)//Capacitance of capacitor in F\n",
"Ko=8.854*(10^-12)//constant\n",
"K=(C*d)/(Ko*A)//dielectric constant\n",
"q=C*V//charge on condenser in C\n",
"D=q/A//Electric flux density in C/m^2\n",
"printf('Thus the Charge of condenser is %e Coulomb\n',q)\n",
"printf('And the electric flux density of condenser is %e microF',D)"
   ]
   }
,
{
		   "cell_type": "markdown",
		   "metadata": {},
		   "source": [
			"## Example 15.31: Finding_resistance.sce"
		   ]
		  },
  {
"cell_type": "code",
	   "execution_count": null,
	   "metadata": {
	    "collapsed": true
	   },
	   "outputs": [],
"source": [
"//Finding resistance\n",
"//Example 15.31(pg. 412)\n",
"clc\n",
"clear\n",
"m=0.6//mass of water in kgm\n",
"S=4200//specific heat of water\n",
"T1=100//temperature in degreeC\n",
"T2=10//temperature in degreeC\n",
"t=5*60//time in sec\n",
"V=230//Supply voltage in Volts\n",
"H=m*S*(T1-T2)//Heat required to raise the temp of water from 0 to 100 degree. in J\n",
"e=0.78//efficiency of kettle\n",
"Ei=H/e//Energy input in Joules\n",
"Ei1=Ei/(100*3600)//Energy input in kWh\n",
"W=Ei/t//Rating of kettle in watts\n",
"R=(V*V)/W//Resistance of heating element in ohms\n",
"printf('Thus Resistance of heating element is %2.1f ohms',R)"
   ]
   }
,
{
		   "cell_type": "markdown",
		   "metadata": {},
		   "source": [
			"## Example 15.32: Finding_time.sce"
		   ]
		  },
  {
"cell_type": "code",
	   "execution_count": null,
	   "metadata": {
	    "collapsed": true
	   },
	   "outputs": [],
"source": [
"//Finding time\n",
"//Example 15.32(pg. 413)\n",
"clc\n",
"clear\n",
"m1=120//mass of water to be heated in kg\n",
"m2=20//mass of copper tank in kg\n",
"S1=1//specific heat of water\n",
"S2=0.095//specific heat of copper\n",
"T1=10//temp in degreeC\n",
"T2=60//temp in degreeC\n",
"H=(m1*S1*(T2-T1))+(m2*S2*(T2-T1))//heat required to raise the temp of water  and tank in kcal\n",
"H1=H*4200//heat required in Joules\n",
"e=0.8//thermal efficiency\n",
"E=H1/e//Energy input in joules\n",
"E1=E/(1000*3600)//energy input in kWh\n",
"r=3//rating of heater in kW\n",
"t=E1/r//time taken in hours\n",
"printf('Thus the time taken to raise the temp is %2.3f hours',t)"
   ]
   }
,
{
		   "cell_type": "markdown",
		   "metadata": {},
		   "source": [
			"## Example 15.33: Finding_frequency.sce"
		   ]
		  },
  {
"cell_type": "code",
	   "execution_count": null,
	   "metadata": {
	    "collapsed": true
	   },
	   "outputs": [],
"source": [
"//Finding frequency\n",
"//Example 15.33(pg. 414)\n",
"clc\n",
"clear\n",
"rho=5*(10^-5)//specific resistance for steel in ohm-cm\n",
"U=1//relative permeability\n",
"d=0.15//depth of penetration in cm\n",
"f=(rho*(10^9))/(U*d*d*4*(%pi^2))//frequency required in cycles per sec\n",
"f1=f/1000//frquency in k.cycles/sec\n",
"printf('Thus the frequency required is %3.3f k.cycles/sec',f1)"
   ]
   }
,
{
		   "cell_type": "markdown",
		   "metadata": {},
		   "source": [
			"## Example 15.34: Current_Voltage_and_power.sce"
		   ]
		  },
  {
"cell_type": "code",
	   "execution_count": null,
	   "metadata": {
	    "collapsed": true
	   },
	   "outputs": [],
"source": [
"//Finding current,voltage and power\n",
"//Example 15.34(pg. 414)\n",
"clc\n",
"clear\n",
"v=50*20*2//Volume of board to be heated in cm^3\n",
"Mw=0.56//weight of wood in gm/cm^3\n",
"m=Mw*v/1000//mass of wood in kgm\n",
"S=0.35//specific heat of wood\n",
"t=15/60//time in hrs\n",
"f=30*(10^6)//frequency in cycles/sec\n",
"t2=150,t1=30//temp in degreeC\n",
"H=m*S*(t2-t1)//heat required to raise the temp in kcal\n",
"Hw=H*1000/860//heat required in kW\n",
"P=Hw/t//power required in Watts\n",
"e=0.5//efficiency of dielectric heating process\n",
"Pi=P/e//power input required in Watts\n",
"Ko=8.854*(10^-12)//absolute permittivity\n",
"K=5//relative permittivity\n",
"A=0.5*0.2//area in m\n",
"i=0.02\n",
"C=Ko*K*A/i//capacitance of parallel plate capacitor in F\n",
"Xc=1/(2*%pi*f*C)//capacitive reactance in ohms\n",
"cosx=0.05\n",
"tanx=19.97\n",
"R=Xc*tanx//resistance\n",
"V=sqrt(Pi*R)//voltage in volts\n",
"Ic=V/Xc//current through the board in Amps\n",
"printf('Thus the power required is %2.1f Watts\n',Pi)\n",
"printf('And Voltage across the board is %3.2f volts\n',V)\n",
"printf('And the current through the board is %2.3f Amps',Ic)"
   ]
   }
,
{
		   "cell_type": "markdown",
		   "metadata": {},
		   "source": [
			"## Example 15.35: Finding_efficiency.sce"
		   ]
		  },
  {
"cell_type": "code",
	   "execution_count": null,
	   "metadata": {
	    "collapsed": true
	   },
	   "outputs": [],
"source": [
"//Finding efficiency\n",
"//Example 15.35(pg. 416)\n",
"clc\n",
"clear\n",
"m=2//quantity of aluminium to be melted in kg\n",
"t1=15,t2=660//temp in degreeC\n",
"S=0.212//specific heat of aluminium\n",
"L=78.8//latent heat of aluminium in kcal/kg\n",
"H=(m*S*(t2-t1))+(m*L)//total heat required to melt Al in kcal\n",
"i=5//input to furnace in kW\n",
"E=i*(1000*10*60)//Energy input to furnace in watt-sec\n",
"E1=E/4180//energy input in kcal\n",
"e=H*100/E1//efficiency of furnace\n",
"printf('Thus the efficiency of furnace is %2.3f percent',e)"
   ]
   }
,
{
		   "cell_type": "markdown",
		   "metadata": {},
		   "source": [
			"## Example 15.36: Finding_cost.sce"
		   ]
		  },
  {
"cell_type": "code",
	   "execution_count": null,
	   "metadata": {
	    "collapsed": true
	   },
	   "outputs": [],
"source": [
"//Finding cost\n",
"//Example 15.36(pg. 417)\n",
"clc\n",
"clear\n",
"O=5*735.5//output of motor in W\n",
"e=0.85//efficiency of motor\n",
"c=2//cost of energy per unit in Rs\n",
"I=O/e//input of motor in Watts\n",
"t=4//time in hrs\n",
"E=I*t/1000//energy consumed in kWh\n",
"C=c*E//cost of using the motor in Rs\n",
"printf('Thus the cost of using the motor is %2.3f Rs',C)"
   ]
   }
,
{
		   "cell_type": "markdown",
		   "metadata": {},
		   "source": [
			"## Example 15.37: Finding_no_of_electrons.sce"
		   ]
		  },
  {
"cell_type": "code",
	   "execution_count": null,
	   "metadata": {
	    "collapsed": true
	   },
	   "outputs": [],
"source": [
"//Finding no of electrons\n",
"//Example 15.37(pg. 417)\n",
"clc\n",
"clear\n",
"I=2.5*(10^-3)//current in Amp\n",
"t=30*(10^-3)//time in sec\n",
"Q=I*t//charge passing through the person in Coulumbs\n",
"e=1.602*(10^-19)//charge of 1 electron in C\n",
"N=Q/e//no of electrons passing through the person \n",
"printf('Thus the no of electrons passing through the person is %e electrons',N)"
   ]
   }
,
{
		   "cell_type": "markdown",
		   "metadata": {},
		   "source": [
			"## Example 15.38: Finding_resistance.sce"
		   ]
		  },
  {
"cell_type": "code",
	   "execution_count": null,
	   "metadata": {
	    "collapsed": true
	   },
	   "outputs": [],
"source": [
"//Finding resistance\n",
"//Example 15.38(pg. 417)\n",
"clc\n",
"clear\n",
"//(a)Finding resistance between 2 ends\n",
"l=1//length in m\n",
"a=2.5*(10^-2)*0.05*(10^-2)//area of cross section in m^2\n",
"rho=1.724*(10^-8)//specific resistance of copper in ohm-m\n",
"R=rho*l/a//resistance of the strip in ohm\n",
"//(b) Finding resistance between 2 faces\n",
"l1=0.05*(10^-2)//length in m\n",
"a1=2.5*(10^-2)*1//area of cross section in m^2\n",
"R1=rho*l1/a1//resistance in ohm\n",
"printf('Thus the resistance of the strip is %e ohms\n ',R)\n",
"printf('And the resistance between the faces is %e ohms',R1)"
   ]
   }
,
{
		   "cell_type": "markdown",
		   "metadata": {},
		   "source": [
			"## Example 15.39: Resistance_and_cost.sce"
		   ]
		  },
  {
"cell_type": "code",
	   "execution_count": null,
	   "metadata": {
	    "collapsed": true
	   },
	   "outputs": [],
"source": [
"//Finding resistance and cost\n",
"//Example 15.39(pg. 418)\n",
"clc\n",
"clear\n",
"m=2//weight of water to be heated in kg\n",
"t2=98,t1=15//temp in degreeC\n",
"s=1//specific heat of water\n",
"V=200//voltage in volts\n",
"H=m*s*(t2-t1)//energy required to raise the temp of water in kcal\n",
"H1=H*4200//energy in Watt-sec or Joules\n",
"e=0.85//efficiency of kettle\n",
"E=H1/e//energy input required in watt-sec\n",
"E1=E/(1000*3600)//energy input in kWh\n",
"c=35//cost per unit in paise\n",
"C=c*E1//ocst of energy used in paise\n",
"t=10/60//time in hrs\n",
"W=E1*1000/t//wattage of kettle in watts\n",
"R=V*V/W//resistance of heating element in ohms\n",
"printf('Thus the resistance of heating element is %2.0f ohms\n',R)\n",
"printf('And the cost of energy used is %2.0f paisa',C)"
   ]
   }
,
{
		   "cell_type": "markdown",
		   "metadata": {},
		   "source": [
			"## Example 15.3: Finding_current.sce"
		   ]
		  },
  {
"cell_type": "code",
	   "execution_count": null,
	   "metadata": {
	    "collapsed": true
	   },
	   "outputs": [],
"source": [
"//Finding current\n",
"//Example 15.3(pg 393)\n",
"clc\n",
"clear\n",
"M=250000//weight of water lifted per hr in kg\n",
"h=50//height in metres\n",
"g=9.81//gravitational const.\n",
"WD=M*h*g//work done by pump per hr in watt-sec\n",
"P=WD/3600//Power output of pump per sec in watts\n",
"V=500//supply voltage in volts\n",
"Ep=0.8//efficiency of pump\n",
"Em=0.9//efficiency of motor\n",
"E=Em*Ep//overall efficiency\n",
"I=P/(V*E)//current in amperes\n",
"printf('Current drawn by the motor is %3.2f Amperes',I)"
   ]
   }
,
{
		   "cell_type": "markdown",
		   "metadata": {},
		   "source": [
			"## Example 15.40: Finding_current.sce"
		   ]
		  },
  {
"cell_type": "code",
	   "execution_count": null,
	   "metadata": {
	    "collapsed": true
	   },
	   "outputs": [],
"source": [
"//Finding current\n",
"//Example 15.40(pg. 418)\n",
"clc\n",
"clear\n",
"phi=70000/(10^8)//flux to be set up in Wb since 10^8lines =1Wb\n",
"d=0.03//diameter in m\n",
"a=%pi*d*d/4//area of cross section in m^2\n",
"B=phi/a//flux density in Wb/m^2\n",
"Lg=0.002//length of air gap in m\n",
"Ls=(%pi*0.2)-Lg//length of steel path\n",
"Uo=4*%pi*(10^-7)//absolute permitivity\n",
"Ur=800//relative permitivity of steel\n",
"Hg=B/Uo\n",
"Hs=B/(Uo*Ur)\n",
"AT=(Hg*Lg)+(Hs*Ls)//total ampere turns required \n",
"N=500// no of turns\n",
"I=AT/N//exciting current in amps\n",
"printf('Thus the value of exciting current is %2.3f A',I)"
   ]
   }
,
{
		   "cell_type": "markdown",
		   "metadata": {},
		   "source": [
			"## Example 15.4: Finding_torque.sce"
		   ]
		  },
  {
"cell_type": "code",
	   "execution_count": null,
	   "metadata": {
	    "collapsed": true
	   },
	   "outputs": [],
"source": [
"//Finding torque\n",
"//Example 15.4(pg 394)\n",
"clc\n",
"clear\n",
"P=10//Power developed by motor in H.P\n",
"N=600//Speed of motor in rpm\n",
"//1HP=735.5Nw-m/sec=75kgm/sec\n",
"a=75\n",
"b=735.5\n",
"//Torque in kg-m\n",
"Tkgm=(P*a*60)/(2*%pi*N)//since P=2*pi*NT/60\n",
"//Torque in Nw-m\n",
"TNwm=(P*b*60)/(2*%pi*N)//since P=2*pi*NT/60\n",
"printf('(i)Torque in kg.meter is %3.2f kg-m \n',Tkgm)\n",
"printf('(ii)Torque in Newton.meter is %3.2f Nw-m',TNwm)"
   ]
   }
,
{
		   "cell_type": "markdown",
		   "metadata": {},
		   "source": [
			"## Example 15.5: Finding_mass_and_energy.sce"
		   ]
		  },
  {
"cell_type": "code",
	   "execution_count": null,
	   "metadata": {
	    "collapsed": true
	   },
	   "outputs": [],
"source": [
"//finding mass and energy\n",
"//Example 15.5(pg 395)\n",
"clc\n",
"clear\n",
"P=25//Output of diesel engine in kW\n",
"s=12500//calorific value of fuel oil in k-cal/kgm\n",
"e=0.35//overall efficiency of diesel set\n",
"P1=P/e//input energy required in 1 hour in kWh\n",
"P2=P1*860//input energy in kcal\n",
"m=P2/s//mass of oil needed per hr in kgm\n",
"w=1000//weight of 1 ton of oil in kgm\n",
"Eg=(P*w)/m//Energy generated by 1ton of oil in kWh\n",
"printf('(i)Mass of oil required per hr is %3.3f kgm \n',m)\n",
"printf('(ii)Eletrical energy generated per ton of fuel is %4.1f Kwh',Eg)"
   ]
   }
],
"metadata": {
		  "kernelspec": {
		   "display_name": "Scilab",
		   "language": "scilab",
		   "name": "scilab"
		  },
		  "language_info": {
		   "file_extension": ".sce",
		   "help_links": [
			{
			 "text": "MetaKernel Magics",
			 "url": "https://github.com/calysto/metakernel/blob/master/metakernel/magics/README.md"
			}
		   ],
		   "mimetype": "text/x-octave",
		   "name": "scilab",
		   "version": "0.7.1"
		  }
		 },
		 "nbformat": 4,
		 "nbformat_minor": 0
}
