{
"cells": [
 {
		   "cell_type": "markdown",
	   "metadata": {},
	   "source": [
       "# Chapter 2: Conducting Materials"
	   ]
	},
{
		   "cell_type": "markdown",
		   "metadata": {},
		   "source": [
			"## Example 2.10: Resistance_and_temperature.sce"
		   ]
		  },
  {
"cell_type": "code",
	   "execution_count": null,
	   "metadata": {
	    "collapsed": true
	   },
	   "outputs": [],
"source": [
"//Finding resistance and temperature\n",
"//Example 2.10(pg. 25)\n",
"clc\n",
"clear\n",
"R15=50,RT=58// resistance in ohms\n",
"t=15// te mp in degree C\n",
"k0=0.00425// temp coefficient at 0 degree C\n",
"R0=R15/[1+(k0*t)]// resistance at 0 degree C in ohms\n",
"T=[(RT/R0)-1]/k0// temp in degree C\n",
"\n",
"printf('The value of Resistance at 0 degree C is %3.1f ohms \n',R0)\n",
"printf('The value of Temperature at 58 ohm resistance is %3.4f degree C',T)"
   ]
   }
,
{
		   "cell_type": "markdown",
		   "metadata": {},
		   "source": [
			"## Example 2.11: Finding_temperature_coefficient.sce"
		   ]
		  },
  {
"cell_type": "code",
	   "execution_count": null,
	   "metadata": {
	    "collapsed": true
	   },
	   "outputs": [],
"source": [
"//Finding temperature coefficient\n",
"//Example 2.11(pg. 25)\n",
"clc\n",
"clear\n",
"R25=50,R70=57.2// resistance in ohms\n",
"t=25,T=70// temp in degree C\n",
"//since Rt=R0(1+(k0*t))\n",
"k0=(R70-R25)/[(R25*T)-(R70*t)]\n",
"printf('The temp coefficient at 0 degree C is %3.3f',k0 )"
   ]
   }
,
{
		   "cell_type": "markdown",
		   "metadata": {},
		   "source": [
			"## Example 2.12: Resistance_and_Conductivity.sce"
		   ]
		  },
  {
"cell_type": "code",
	   "execution_count": null,
	   "metadata": {
	    "collapsed": true
	   },
	   "outputs": [],
"source": [
"//Finding resistance and conductivity\n",
"//Example 2.12(pg. 26)\n",
"clc\n",
"clear\n",
"R0=15.5// resistance in ohms\n",
"t=16//in degree C\n",
"k0=0.00428//temp coefficient\n",
"R16=R0*[1+(k0*t)]\n",
"G=(R0/R16)*100// since conductance=reciprocal of resistance\n",
"printf('The value of Resistance at 16 degree C is %3.4f ohms \n',R16)\n",
"printf('The value of percentage conductivity at 16 degree C is %3.2f percent',G)"
   ]
   }
,
{
		   "cell_type": "markdown",
		   "metadata": {},
		   "source": [
			"## Example 2.13: Finding_temperature.sce"
		   ]
		  },
  {
"cell_type": "code",
	   "execution_count": null,
	   "metadata": {
	    "collapsed": true
	   },
	   "outputs": [],
"source": [
"//finding temperature\n",
"//Example 2.13(pg. 26)\n",
"clc\n",
"clear\n",
"RT=144,R20=10// in ohms\n",
"t=20// in degree C\n",
"k20=5*(10^-3)//temp coefficient at 20 degree C\n",
"T={[(RT/R20)-1]/k20}+t\n",
"printf('The value of temp required for tungsten bulb is %4.2f degree C',T)"
   ]
   }
,
{
		   "cell_type": "markdown",
		   "metadata": {},
		   "source": [
			"## Example 2.14: Finding_temperature.sce"
		   ]
		  },
  {
"cell_type": "code",
	   "execution_count": null,
	   "metadata": {
	    "collapsed": true
	   },
	   "outputs": [],
"source": [
"//Finding temperature\n",
"//Example 2.14(pg. 27)\n",
"clc\n",
"clear\n",
"V15=250,Vt=250//voltage in volts\n",
"I15=5,It=4//current in amperes\n",
"T=15//temp in degree C\n",
"R15=V15/I15//resistance in ohms at 15 degreeC\n",
"printf('Resistance at 15 degree C is %3.1f ohms \n',R15)\n",
"Rt=Vt/It//resistance at t degreeC\n",
"printf('Resistance at t degree C is %3.1f ohms \n',Rt)\n",
"k0=0.0038\n",
"R0=R15/[1+(k0*T)]\n",
"printf('Resistance at 0 degree C is %3.2f ohms \n',R0)\n",
"t=[(Rt/R0)-1]/k0\n",
"printf('Temperature t is %3.2f degree C',t)"
   ]
   }
,
{
		   "cell_type": "markdown",
		   "metadata": {},
		   "source": [
			"## Example 2.15: Finding_resistance.sce"
		   ]
		  },
  {
"cell_type": "code",
	   "execution_count": null,
	   "metadata": {
	    "collapsed": true
	   },
	   "outputs": [],
"source": [
"//Finding resistance\n",
"//Example 2.15(pg. 28)\n",
"clc\n",
"clear\n",
"n=100//no of slots\n",
"c=12//conductors per slot\n",
"Lm=300// mean length of turn in cm\n",
"a=1.5*0.2//cross section of each conductor in cm^2\n",
"s=1.72*(10^-6)//specific resistance of copper at 20 degreeC\n",
"p=4// poles\n",
"t=20,T=75//temp in degreeC\n",
"k0=0.00427//temp coefficient of resistivity for copper\n",
"L=n*c*Lm//total length of conductors\n",
"Ls=L/p//length of conductors in each parallel path\n",
"s0=s*(1-(k0*t))\n",
"printf('Thus specific resistance at 0 degree C is %e ohm-cm \n',s0)\n",
"RT=(s0*Ls)/a\n",
"printf('Thus resistance at working temp of 75 degree C is %3.4f ohm',RT)"
   ]
   }
,
{
		   "cell_type": "markdown",
		   "metadata": {},
		   "source": [
			"## Example 2.16: Finding_resistance.sce"
		   ]
		  },
  {
"cell_type": "code",
	   "execution_count": null,
	   "metadata": {
	    "collapsed": true
	   },
	   "outputs": [],
"source": [
"//Finding resistance\n",
"//Example 2.16(pg. 28)\n",
"clc\n",
"clear\n",
"a=15//cross section area in cm^2\n",
"l=100000//length in cm\n",
"p0=7.6*(10^-6)//specific resistance at 0 degree C in ohm-cm\n",
"k0=0.005//temp coefficient at 0 degree C\n",
"t=50//temp in degree C\n",
"p50=p0*[1+(t*k0)]//resistivity at 50 degree C\n",
"R50=p50*(l/a)\n",
"printf('Thus resistance at 50 degree C is %3.5f ohms \n',R50)"
   ]
   }
,
{
		   "cell_type": "markdown",
		   "metadata": {},
		   "source": [
			"## Example 2.17: Finding_fusing_current.sce"
		   ]
		  },
  {
"cell_type": "code",
	   "execution_count": null,
	   "metadata": {
	    "collapsed": true
	   },
	   "outputs": [],
"source": [
"//Finding fusing current\n",
"//Example 2.17(pg. 29)\n",
"clc\n",
"clear\n",
"I2=27.5//current of No.25 wire in Amperes\n",
"d=1/2//since I1/I2=1/2\n",
"I1=I2*(d^(3/2))\n",
"printf('Thus fusing current of No.33 wire is %3.3f amperes \n',I1)"
   ]
   }
,
{
		   "cell_type": "markdown",
		   "metadata": {},
		   "source": [
			"## Example 2.18: Finding_ratios.sce"
		   ]
		  },
  {
"cell_type": "code",
	   "execution_count": null,
	   "metadata": {
	    "collapsed": true
	   },
	   "outputs": [],
"source": [
"//Finding ratios\n",
"//Example 2.18(pg. 30)\n",
"clc\n",
"clear\n",
"sAl=2.85*(10^-6),sCu=1.7*(10^-6)//specific resistance in ohm-cm\n",
"gAl=2.71,gCu=8.89//specific gravity \n",
"cAl=5000,cCu=10000//cost per tonne\n",
"//P=V^2/R, power is same for both so resistance must also be same\n",
"//so R=(p*l)/(pi*d^2)=(p*l)/(pi*d'^2)\n",
"Kd=sqrt(sAl/sCu)//Kd=d/d'\n",
"printf('Thus the ratio of diameters is %3.3f \n',Kd)\n",
"Km=(Kd^2)*(gAl/gCu)\n",
"printf('Thus the ratio of weights is %3.4f \n',Km)\n",
"Kc=Km*(cAl/cCu)\n",
"printf('Thus the ratio of costs is %3.4f',Kc)"
   ]
   }
,
{
		   "cell_type": "markdown",
		   "metadata": {},
		   "source": [
			"## Example 2.19: Finding_resistance.sce"
		   ]
		  },
  {
"cell_type": "code",
	   "execution_count": null,
	   "metadata": {
	    "collapsed": true
	   },
	   "outputs": [],
"source": [
"//Finding resistance\n",
"//Example 2.19(pg. 33)\n",
"clc\n",
"clear\n",
"R1=18.6//resistacne in ohms\n",
"Kl=5//since l2=5*l1\n",
"Ka=3// since a2=3*a1\n",
"R2=R1*Kl/Ka\n",
"// resistivity is same because wires are of same material\n",
"printf('Thus the resistance of another conductor is %3.1f ohms',R2)"
   ]
   }
,
{
		   "cell_type": "markdown",
		   "metadata": {},
		   "source": [
			"## Example 2.1: Finding_resistance.sce"
		   ]
		  },
  {
"cell_type": "code",
	   "execution_count": null,
	   "metadata": {
	    "collapsed": true
	   },
	   "outputs": [],
"source": [
"//Finding resistance\n",
"//Example 2.1(pg. 21)\n",
"clc\n",
"clear\n",
"l=300//in meters\n",
"a=25*(10^-6)//in meter square\n",
"d15=2.7//density at 15 degree C in ohm-meter\n",
"R15=d15*(l/a)\n",
"printf('The value of Resistance at 15 degree C is %3.2f.ohms \n',R15)\n",
"k0=0.004//temp coefficient in ohm/degree C at 0 degree C\n",
"t=15,T=50//in degree C\n",
"k15=k0/(1+(k0*t))\n",
"R50=R15*(1+k15*(T-t))\n",
"printf('The value of Resistance at 50 degree C is %3.2f.ohms',R50)\n",
""
   ]
   }
,
{
		   "cell_type": "markdown",
		   "metadata": {},
		   "source": [
			"## Example 2.20: Finding_heat_efficiency.sce"
		   ]
		  },
  {
"cell_type": "code",
	   "execution_count": null,
	   "metadata": {
	    "collapsed": true
	   },
	   "outputs": [],
"source": [
"//Finding heat efficiency\n",
"//Example 2.20(pg. 57)\n",
"clc\n",
"clear\n",
"m=1//mass in kg\n",
"S=4200//specific heat of water\n",
"T2=100,T1=15// temp in degree C\n",
"H=m*S*(T2-T1)//heat utilised in J\n",
"printf('Heat utilised is %6.2f Joules \n',H)\n",
"W=500//wattage rating of kettle in volts\n",
"t=15*60// time in sec\n",
"Hd=W*t//heat developed in J\n",
"printf('Heat developed is %6.2f Joules \n',Hd)\n",
"He=(H/Hd)*100//Heat efficiency\n",
"printf('Thus heat efficiency is %3.2f percent',He)"
   ]
   }
,
{
		   "cell_type": "markdown",
		   "metadata": {},
		   "source": [
			"## Example 2.21: Finding_time.sce"
		   ]
		  },
  {
"cell_type": "code",
	   "execution_count": null,
	   "metadata": {
	    "collapsed": true
	   },
	   "outputs": [],
"source": [
"//Finding time\n",
"//Example 2.21(pg. 58)\n",
"clc\n",
"clear\n",
"m=3.6//mass in kg\n",
"S=4200//specific heat of water\n",
"T2=95,T1=15// temp in degree C\n",
"H=m*S*(T2-T1)//heat utilised in J\n",
"printf('Heat utilised is %7.2f Joules \n',H)\n",
"e=0.84//efficiency of kettle\n",
"Ei=H/e//Energy input in J\n",
"printf('Energy input is %8.2f Joules \n',Ei)\n",
"W=1000//rating of kettle in watts\n",
"t=(Ei/W)/60//time taken in min\n",
"printf('Thus time taken is %2.1f min \n',t)"
   ]
   }
,
{
		   "cell_type": "markdown",
		   "metadata": {},
		   "source": [
			"## Example 2.2: Finding_resistance.sce"
		   ]
		  },
  {
"cell_type": "code",
	   "execution_count": null,
	   "metadata": {
	    "collapsed": true
	   },
	   "outputs": [],
"source": [
"//Finding resistance\n",
"//Example 2.2(pg. 21)\n",
"clc\n",
"clear\n",
"R20=400// in ohms\n",
"k0=0.0038\n",
"t=20,T=80//degree C\n",
"k1=k0/(1+(k0*t))\n",
"R80=R20*{1+k1*(T-t)}\n",
"printf('The value of Resistance at 80 degree C is %3.4f ohms',R80)"
   ]
   }
,
{
		   "cell_type": "markdown",
		   "metadata": {},
		   "source": [
			"## Example 2.3: Finding_temperature.sce"
		   ]
		  },
  {
"cell_type": "code",
	   "execution_count": null,
	   "metadata": {
	    "collapsed": true
	   },
	   "outputs": [],
"source": [
"//Finding temperature\n",
"//Example 2.3(pg. 22)\n",
"clc\n",
"clear\n",
"t=15//degree C\n",
"R15=250,RT=300//ohms\n",
"k0=0.0038//ohm/degree C\n",
"k1=k0/(1+(k0*t))\n",
"T=[{(RT/R15)-1}/k1]+t//since RT=R15{1+k1*(T-t)}\n",
"printf('The value of Temperature at 300 ohm resistance is %3.1f degree C',T)"
   ]
   }
,
{
		   "cell_type": "markdown",
		   "metadata": {},
		   "source": [
			"## Example 2.4: Finding_length.sce"
		   ]
		  },
  {
"cell_type": "code",
	   "execution_count": null,
	   "metadata": {
	    "collapsed": true
	   },
	   "outputs": [],
"source": [
"//Finding length\n",
"//Example 2.4(pg. 22)\n",
"clc\n",
"clear\n",
"//Part (a)\n",
"d=0.4*(10^-3)//diameter in meter\n",
"a=%pi*(d^2)/4//area in meter square\n",
"p1=100*(10^-8)//resistivity of nichrome in ohm-meter\n",
"R=40//resistance in ohms\n",
"l1=R*a/p1\n",
"printf('Thus the length of heater element with nichrome wire is %2.1f meter \n',l1)\n",
"\n",
"//Part(b)\n",
"d=0.4*(10^-3)//diameter in meter\n",
"a=12.6*(10^-8)//area in meter square\n",
"p2=1.72*(10^-8)//resistance of copper wire in ohm-meter\n",
"R=40//resistance in ohms\n",
"l2=R*a/p2\n",
"printf('Thus the length of heater element with copper wire is %2.1f meter',l2)\n",
""
   ]
   }
,
{
		   "cell_type": "markdown",
		   "metadata": {},
		   "source": [
			"## Example 2.5: Finding_resistance.sce"
		   ]
		  },
  {
"cell_type": "code",
	   "execution_count": null,
	   "metadata": {
	    "collapsed": true
	   },
	   "outputs": [],
"source": [
"//Finding resistance\n",
"//Example 2.5(pg. 23)\n",
"clc\n",
"clear\n",
"R0=80//in ohms\n",
"t=40// in degree C\n",
"k0=0.0043\n",
"R40=R0*(1+(k0*t))\n",
"printf('The value of Resistance at 40 degree C is %3.2f ohms',R40)"
   ]
   }
,
{
		   "cell_type": "markdown",
		   "metadata": {},
		   "source": [
			"## Example 2.6: Finding_temperature_coefficient.sce"
		   ]
		  },
  {
"cell_type": "code",
	   "execution_count": null,
	   "metadata": {
	    "collapsed": true
	   },
	   "outputs": [],
"source": [
"//Finding temperature coefficient\n",
"//Example 2.6(pg. 23)\n",
"clc\n",
"clear\n",
"R80=50,R28=40// resistance in ohms\n",
"t=28,T=80// temp in degrees\n",
"k28=[(R80/R28)-1]/(T-t)//since RT=Rt{1+k*(T-t)}\n",
"printf('The value of Temperature coefficient  at 28 degree C is %3.4f ohms per degree C \n',k28)\n",
"k0=k28/(1-k28*t)// since k28=k0/(1+k0*t)\n",
"printf('The value of Temperature coefficient  at 0 degree C is %3.4f ohms per degree C',k0)"
   ]
   }
,
{
		   "cell_type": "markdown",
		   "metadata": {},
		   "source": [
			"## Example 2.7: Finding_resistance.sce"
		   ]
		  },
  {
"cell_type": "code",
	   "execution_count": null,
	   "metadata": {
	    "collapsed": true
	   },
	   "outputs": [],
"source": [
"//Finding resistance\n",
"//Example 2.7(pg. 24)\n",
"clc\n",
"clear\n",
"l=1000// length in meters\n",
"d=0.09/100// diameter in meters\n",
"p=1.724*(10^-8)// specific resistance in ohm meter\n",
"a=%pi*(d^2)/4// area in meter square\n",
"R=p*l/a//resistance in ohms\n",
"printf('The value of Resistance is %3.2f ohms',R)"
   ]
   }
,
{
		   "cell_type": "markdown",
		   "metadata": {},
		   "source": [
			"## Example 2.8: Finding_resistance.sce"
		   ]
		  },
  {
"cell_type": "code",
	   "execution_count": null,
	   "metadata": {
	    "collapsed": true
	   },
	   "outputs": [],
"source": [
"//Finding resistance\n",
"//Example 2.8(pg. 24)\n",
"clc\n",
"clear\n",
"R20=50// resistance in ohms\n",
"T=60,t=20// temp in degree C\n",
"k0=0.00427//temp coefficient at zero degreeC\n",
"R0=R20/{1+(k0*t)}\n",
"printf('The value of Resistance at 0 degree C is %3.2f ohms \n',R0)\n",
"R60=R0*{1+(k0*T)}\n",
"printf('The value of Resistance at 60 degree C is %3.2f ohms',R60)"
   ]
   }
,
{
		   "cell_type": "markdown",
		   "metadata": {},
		   "source": [
			"## Example 2.9: Resistance_and_temp_coeff.sce"
		   ]
		  },
  {
"cell_type": "code",
	   "execution_count": null,
	   "metadata": {
	    "collapsed": true
	   },
	   "outputs": [],
"source": [
"//Finding resistivity and temp coefficient\n",
"//Example 2.9(pg. 24)\n",
"clc\n",
"clear\n",
"k20=1/254.5// temperature coefficient at 20 degreeC\n",
"p0=1.6*(10^-6)// resistivity at 0 degree C in ohm-cm\n",
"t=20,T=50//temp in degree C\n",
"k0=k20/(1-(t*k20))//temperature coefficient at 0 degreeC\n",
"p50=p0*[1+(T*k0)]// resistivity at 50 degree C in ohm-cm\n",
"k50=1/[T+(1/k0)]//temperature coefficient at 50 degreeC\n",
"printf('Thus the temperature coefficient at 50 degree C is %3.4f \n',k0)\n",
"printf('Thus the resistivity at 50 degree C is %e in ohm-cm',p50)"
   ]
   }
],
"metadata": {
		  "kernelspec": {
		   "display_name": "Scilab",
		   "language": "scilab",
		   "name": "scilab"
		  },
		  "language_info": {
		   "file_extension": ".sce",
		   "help_links": [
			{
			 "text": "MetaKernel Magics",
			 "url": "https://github.com/calysto/metakernel/blob/master/metakernel/magics/README.md"
			}
		   ],
		   "mimetype": "text/x-octave",
		   "name": "scilab",
		   "version": "0.7.1"
		  }
		 },
		 "nbformat": 4,
		 "nbformat_minor": 0
}
