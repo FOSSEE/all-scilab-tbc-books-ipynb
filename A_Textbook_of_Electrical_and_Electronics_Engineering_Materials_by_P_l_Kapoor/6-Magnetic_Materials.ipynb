{
"cells": [
 {
		   "cell_type": "markdown",
	   "metadata": {},
	   "source": [
       "# Chapter 6: Magnetic Materials"
	   ]
	},
{
		   "cell_type": "markdown",
		   "metadata": {},
		   "source": [
			"## Example 6.1: Finding_current.sce"
		   ]
		  },
  {
"cell_type": "code",
	   "execution_count": null,
	   "metadata": {
	    "collapsed": true
	   },
	   "outputs": [],
"source": [
"//Finding current\n",
"//Example 6.1(pg 212)\n",
"clc\n",
"clear\n",
"f=0.01//flux in Wb\n",
"l=1//mean circumference in m\n",
"N=1000//tunrs\n",
"Ur=1000//relative permeability\n",
"Uo=4*%pi*(10^-7)//permeability of free space in H/m\n",
"a=0.001// cross section area in m^2\n",
"I=(f*l)/(N*Uo*Ur*a)// current in Amp. since f=A*T/(l/Uo*Ur*a)\n",
"printf('Thus Current required is %3.3f Amp',I)"
   ]
   }
,
{
		   "cell_type": "markdown",
		   "metadata": {},
		   "source": [
			"## Example 6.2: Finding_relative_permeability.sce"
		   ]
		  },
  {
"cell_type": "code",
	   "execution_count": null,
	   "metadata": {
	    "collapsed": true
	   },
	   "outputs": [],
"source": [
"//relative permeability\n",
"//Example 6.2(pg 212)\n",
"clc\n",
"clear\n",
"f=1.2*(10^-3)//flux in Wb\n",
"l=1.4//mean circumference in m\n",
"N=500//tunrs\n",
"Uo=4*%pi*(10^-7)//permeability of free space in H/m\n",
"a=0.0012// cross section area in m^2\n",
"I=2//current in Amp\n",
"Ur=(f*l)/(N*I*Uo*a)//relative permeability\n",
"printf('Thus the relative permeability of iron is %3.2f ',Ur)"
   ]
   }
,
{
		   "cell_type": "markdown",
		   "metadata": {},
		   "source": [
			"## Example 6.3: Field_intensity_and_permeability.sce"
		   ]
		  },
  {
"cell_type": "code",
	   "execution_count": null,
	   "metadata": {
	    "collapsed": true
	   },
	   "outputs": [],
"source": [
"//Flux density, field intensity and permeability\n",
"//Example 6.3(pg 213)\n",
"clc\n",
"clear\n",
"l=0.4//mean circumference in m\n",
"N=200//tunrs\n",
"Uo=4*%pi*(10^-7)//permeability of free space in H/m\n",
"a=5*(10^-4)// cross section area in m^2\n",
"I=6.4//current in Amp\n",
"f=0.8*(10^-3)//flux in Wb\n",
"fd=f/a//flux density in Wb/m^2\n",
"fi=I*N/l//Field intensity in AT/m\n",
"Ur=(f*l)/(N*I*Uo*a)//relative permeability\n",
"printf('(i) The Flux density is %3.2f Wb/m^2 \n',fd)\n",
"printf('(ii) The Field intensity is %3.2f AT/m \n',fi)\n",
"printf('(iii) The Relative permeability of steel is %3.2f ',Ur)\n",
"//The answer to part(iii) has a calculation error in the textbook, hence it doesn't match the answer here."
   ]
   }
,
{
		   "cell_type": "markdown",
		   "metadata": {},
		   "source": [
			"## Example 6.4: Finding_loss.sce"
		   ]
		  },
  {
"cell_type": "code",
	   "execution_count": null,
	   "metadata": {
	    "collapsed": true
	   },
	   "outputs": [],
"source": [
"//Finding loss\n",
"//Example 6.4(pg 214)\n",
"clc\n",
"clear\n",
"Hl=250//Hysteresis loss per m^3 in J/cycle\n",
"V=1/150//Volume of specimen in m^3\n",
"N=50//No of cycles/sec\n",
"E=Hl*V*N//Energy loss per sec in J\n",
"Eh=(E*3600)/1000//Energy loss per hour in kWh\n",
"printf('Thus Energy loss per hour is %3.2f kWh',Eh)"
   ]
   }
,
{
		   "cell_type": "markdown",
		   "metadata": {},
		   "source": [
			"## Example 6.5: Finding_loss_and_frequency.sce"
		   ]
		  },
  {
"cell_type": "code",
	   "execution_count": null,
	   "metadata": {
	    "collapsed": true
	   },
	   "outputs": [],
"source": [
"//Finding loss and frequency\n",
"//Example 6.5(pg 214)\n",
"clc\n",
"clear\n",
"P=4//no of poles\n",
"N=1600// Speed in rpm\n",
"f=P*N/120//Frequency of magnetic reversal\n",
"V=5400//volume\n",
"d=7.5//density\n",
"m=(V*d)/1000//Mass of armature in kg\n",
"L=1.76//Loss in W/kg\n",
"Cl=L*m//Core loss in Watts\n",
"printf('Thus Frequency of magnetic reversal is %3.2f c/s',f)\n",
"printf('\n and Core loss is %3.2f Watts',Cl)"
   ]
   }
,
{
		   "cell_type": "markdown",
		   "metadata": {},
		   "source": [
			"## Example 6.6: Finding_core_loss.sce"
		   ]
		  },
  {
"cell_type": "code",
	   "execution_count": null,
	   "metadata": {
	    "collapsed": true
	   },
	   "outputs": [],
"source": [
"//Finding core loss\n",
"//Example 6.6(pg 214)\n",
"clc\n",
"clear\n",
"v=76300//volume in c.c\n",
"P=8// no of poles\n",
"N=375//rpm\n",
"f=P*N/120//freqency in c/s\n",
"Bmax=12000//max. flux density in lines/cm^2\n",
"n=0.002//(assumed)\n",
"d=7.8//densityin gm/c.c\n",
"l=1.7//loss in watts per kg\n",
"Hl=n*v*f*(Bmax^1.6)*(10^-7)//Hysteresis loss in Watts\n",
"Al=v*d*l/1000//Additional loss under particular running conditions\n",
"Tl=Hl+Al//total core loss\n",
"printf('Thus the total core loss is %4.0f Watts',Tl)"
   ]
   }
,
{
		   "cell_type": "markdown",
		   "metadata": {},
		   "source": [
			"## Example 6.7: Finding_energy_loss.sce"
		   ]
		  },
  {
"cell_type": "code",
	   "execution_count": null,
	   "metadata": {
	    "collapsed": true
	   },
	   "outputs": [],
"source": [
"//Finding energy loss\n",
"//Example 6.7(pg 215)\n",
"clc\n",
"clear\n",
"m=12000//mass in gm\n",
"d=7.5//density of iron in gm/c.c\n",
"Hl=3000//Hysteresis loss per cc in ergs/cycle\n",
"N=50//No of cycles per sec\n",
"v=m/d//volume of specimen\n",
"E=v*Hl*N//Energy loss per cc in ergs\n",
"Eh=E/(10^10)//Energy loss per hour in kWh\n",
"printf('Thus the Loss in energy is %3.3f kWh',Eh)"
   ]
   }
,
{
		   "cell_type": "markdown",
		   "metadata": {},
		   "source": [
			"## Example 6.8: Finding_losses.sce"
		   ]
		  },
  {
"cell_type": "code",
	   "execution_count": null,
	   "metadata": {
	    "collapsed": true
	   },
	   "outputs": [],
"source": [
"//Finding losses\n",
"//Example 6.8(pg 215)\n",
"clc\n",
"clear\n",
"m=10//mass in kg\n",
"T1=20//total loss in watts\n",
"f1=50//frequency in c/s\n",
"T2=35//total loss in watts\n",
"f2=75//frequency in c/s\n",
"//both have same peak flux density\n",
"//total loss=hysteresis loss+ Eddy current loss\n",
"//all quantities except frequency are constant\n",
"//so Total loss=Af+Bf^2\n",
"//let c1 and c2 be constants such that total loss=c1*f + c2*f^2\n",
"c2=[T2-(T1*f2/f1)]/(f2^2-f1*f2)\n",
"c1=(T1-c2*f1^2)/f1\n",
"k=c1/c2//hysteresis loss/eddy current loss\n",
"H50=T1*k/101//hysteresis loss at 50 c/s\n",
"E50=T1-H50//eddy current loss at 50 c/s\n",
"printf('Thus hysteresis loss at 50 c/s is %3.1f Watts \n',H50)\n",
"printf('And Eddy current loss at 50c/s is %3.1f Watts',E50)"
   ]
   }
],
"metadata": {
		  "kernelspec": {
		   "display_name": "Scilab",
		   "language": "scilab",
		   "name": "scilab"
		  },
		  "language_info": {
		   "file_extension": ".sce",
		   "help_links": [
			{
			 "text": "MetaKernel Magics",
			 "url": "https://github.com/calysto/metakernel/blob/master/metakernel/magics/README.md"
			}
		   ],
		   "mimetype": "text/x-octave",
		   "name": "scilab",
		   "version": "0.7.1"
		  }
		 },
		 "nbformat": 4,
		 "nbformat_minor": 0
}
