{
"cells": [
 {
		   "cell_type": "markdown",
	   "metadata": {},
	   "source": [
       "# Chapter 6: COMBUSTION CHARTS"
	   ]
	},
{
		   "cell_type": "markdown",
		   "metadata": {},
		   "source": [
			"## Example 6.1: EFFICIENCY.sce"
		   ]
		  },
  {
"cell_type": "code",
	   "execution_count": null,
	   "metadata": {
	    "collapsed": true
	   },
	   "outputs": [],
"source": [
"clc\n",
"clear\n",
"//Input data\n",
"r=7.5//Compression ratio\n",
"//Data from combustion chart\n",
"p=[1,15.1,26.95,1.95]//Pressure of air fuel mixture in kg/cm^2\n",
"T=[60,460,1150,435]//Temperature of air fuel mixture in K\n",
"V=[16.98,2.264,2.264,16.98]//Volume in m^3/kg\n",
"U=[17,78.8,212,80]//Internal energy in kcal/kg\n",
"S=[0.07,0.07,0.22,0.22]//Entropy in kcal/kg.degree C\n",
"g=1.4//Ratio of specific heats\n",
"\n",
"//Calculations\n",
"n=(((U(3)-U(4))-(U(2)-U(1)))/(U(3)-U(2)))*100//Thermal efficiency in percent\n",
"na=(1-(1/r)^(g-1))*100//Air standard efficiency in percent\n",
"\n",
"//Output\n",
"printf('Thermal efficiency is %3.1f percent \n Air standard efficiency is %3.1f percent',n,na)"
   ]
   }
,
{
		   "cell_type": "markdown",
		   "metadata": {},
		   "source": [
			"## Example 6.2: EFFICIENCY.sce"
		   ]
		  },
  {
"cell_type": "code",
	   "execution_count": null,
	   "metadata": {
	    "collapsed": true
	   },
	   "outputs": [],
"source": [
"clc\n",
"clear\n",
"//Input data\n",
"//Data from combustion chart\n",
"p=[1,33,33,1]//Pressure of air fuel mixture in kg/cm^2\n",
"T=[65,600,1450,725]//Temperature of air fuel mixture in K\n",
"V=[16,1.23,3.45,16]//Volume in m^3/kg\n",
"U=[11.8,110,295,140]//Internal energy in kcal/kg\n",
"H=[22.7,150,395,225]//Enthalpy in kcal/kg\n",
"S=[0.068,0.068,0.264,0.264]//Entropy in kcal/kg.degree C\n",
"\n",
"//Calculations\n",
"r=(V(1)/V(2))//Compression ratio\n",
"q=(H(3)-H(2))//Heat supplied in kcal/kg\n",
"qre=(U(4)-U(1))//Heat rejected in kcal/kg\n",
"nt=((q-qre)/q)*100//Thermal efficiency in percent\n",
"\n",
"//Output\n",
"printf('(a)Compression ratio is %3.0f \n (b) Heat supplied to the cycle is %3.0f kcal/kg \n (c) Heat rejected by the cycle is %3.2f kcal/kg \n (d) Thermal efficiency is %3.2f percent',r,q,qre,nt)"
   ]
   }
,
{
		   "cell_type": "markdown",
		   "metadata": {},
		   "source": [
			"## Example 6.3: EFFICIENCY.sce"
		   ]
		  },
  {
"cell_type": "code",
	   "execution_count": null,
	   "metadata": {
	    "collapsed": true
	   },
	   "outputs": [],
"source": [
"clc\n",
"clear\n",
"//Input data\n",
"//Data from combustion chart\n",
"p=[1,51.5,77.25,77.25,3.75]//Pressure of air fuel mixture in kg/cm^2\n",
"T=[16,1,1,1.5,16]//Temperature of air fuel mixture in K\n",
"V=[65,745,1400,2200,1030]//Volume in m^3/kg\n",
"U=[14.7,135,275,475,197]//Internal energy in kcal/kg\n",
"H=[21.9,85,372,625,280]//Enthalpy in kcal/kg\n",
"S=[0.068,0.068,0.19,0.32,0.32]//Entropy in kcal/kg.degree C\n",
"\n",
"//Calculations\n",
"nth=(((U(3)-U(2))+(H(4)-H(3))-(U(5)-U(1)))/((U(3)-U(2))+(H(4)-H(3))))*100//Thermal efficiency in percent\n",
"\n",
"//Output\n",
"printf('Thermal efficiency is %3.2f percent',nth)"
   ]
   }
],
"metadata": {
		  "kernelspec": {
		   "display_name": "Scilab",
		   "language": "scilab",
		   "name": "scilab"
		  },
		  "language_info": {
		   "file_extension": ".sce",
		   "help_links": [
			{
			 "text": "MetaKernel Magics",
			 "url": "https://github.com/calysto/metakernel/blob/master/metakernel/magics/README.md"
			}
		   ],
		   "mimetype": "text/x-octave",
		   "name": "scilab",
		   "version": "0.7.1"
		  }
		 },
		 "nbformat": 4,
		 "nbformat_minor": 0
}
