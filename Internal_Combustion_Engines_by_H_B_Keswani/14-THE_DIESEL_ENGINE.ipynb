{
"cells": [
 {
		   "cell_type": "markdown",
	   "metadata": {},
	   "source": [
       "# Chapter 14: THE DIESEL ENGINE"
	   ]
	},
{
		   "cell_type": "markdown",
		   "metadata": {},
		   "source": [
			"## Example 14.1: WEIGHT_OF_OIL.sce"
		   ]
		  },
  {
"cell_type": "code",
	   "execution_count": null,
	   "metadata": {
	    "collapsed": true
	   },
	   "outputs": [],
"source": [
"clc\n",
"clear\n",
"//Input data\n",
"r=14.3//Compression ratio\n",
"c=5//Fuel cutoff in percent of stroke\n",
"w=0.006//Weight of charge in kg\n",
"T4=912//Final temperature in degree C abs\n",
"q=8300//Heat in kcal\n",
"x=[0.258,0.000048]//Temperature expression is 0.258T+0.000048T^2, where T is in degree C abs\n",
"\n",
"//Calculations\n",
"v4=1//Assuming clearance volume as unity\n",
"v1=1.665//v1 from fig. 14.2 on page no. 352\n",
"T1=(T4*v1)/v4//Temperature in degree C abs\n",
"qp1=(x(1)*T1+x(2)*T1^2)//Constant pressure heat of mixture at temperature T1 in kcal/kg\n",
"qp4=(x(1)*T4+x(2)*T4^2)//Constant pressure heat of mixture at temperature T4 in kcal/kg\n",
"qre=(qp1-qp4)//Heat required by the mixture in kcal/kg\n",
"wf=(w*qre)/q//Weight of oil in kg\n",
"\n",
"//Output\n",
"printf('The weight of oil that must be injected is %3.6f kg',wf)"
   ]
   }
,
{
		   "cell_type": "markdown",
		   "metadata": {},
		   "source": [
			"## Example 14.2: RATIO_OF_MASS.sce"
		   ]
		  },
  {
"cell_type": "code",
	   "execution_count": null,
	   "metadata": {
	    "collapsed": true
	   },
	   "outputs": [],
"source": [
"clc\n",
"clear\n",
"//Input data\n",
"r=14//Compression ratio\n",
"p=1.2//Induction pipe pressure in kg/cm^2\n",
"bp=0.65//Exhaust back pressure in kg/cm^2\n",
"Tc=87+273//Charge temperature in K\n",
"Te=850+273//Exhaust temperature in K\n",
"T1=111+273//Temperature at the beginning of compression in K\n",
"g=1.2//Ratio of specific heats\n",
"\n",
"//Calculations\n",
"Cw1=((bp*10^4)/Te)//specific heat in kJ/kg.K\n",
"Cw2=((p*10^4*(r-1))/Tc)//specific heat in kJ/kg.K\n",
"T3=((g*Te*Cw1+Cw2*Tc)/(Cw1*g+Cw2))//Temperature in K\n",
"t3=T3-273//Temperature in degree C\n",
"rw=(Cw1/Cw2)//Ratio of specific heats\n",
"\n",
"//Output\n",
"printf('The ratio of the mass residuals to fresh charge is %3.4f',rw)"
   ]
   }
],
"metadata": {
		  "kernelspec": {
		   "display_name": "Scilab",
		   "language": "scilab",
		   "name": "scilab"
		  },
		  "language_info": {
		   "file_extension": ".sce",
		   "help_links": [
			{
			 "text": "MetaKernel Magics",
			 "url": "https://github.com/calysto/metakernel/blob/master/metakernel/magics/README.md"
			}
		   ],
		   "mimetype": "text/x-octave",
		   "name": "scilab",
		   "version": "0.7.1"
		  }
		 },
		 "nbformat": 4,
		 "nbformat_minor": 0
}
