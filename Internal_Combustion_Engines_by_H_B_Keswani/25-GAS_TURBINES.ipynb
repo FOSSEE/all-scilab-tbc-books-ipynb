{
"cells": [
 {
		   "cell_type": "markdown",
	   "metadata": {},
	   "source": [
       "# Chapter 25: GAS TURBINES"
	   ]
	},
{
		   "cell_type": "markdown",
		   "metadata": {},
		   "source": [
			"## Example 25.10: EFFICIENCY.sce"
		   ]
		  },
  {
"cell_type": "code",
	   "execution_count": null,
	   "metadata": {
	    "collapsed": true
	   },
	   "outputs": [],
"source": [
"clc\n",
"clear\n",
"//Input data\n",
"p1=1.02//Inlet air pressure in kg/cm^2\n",
"T1=27+273//Inlet temperature of air in K\n",
"p2=4.08//Pressure after compression in kg/cm^2\n",
"nc=80//Isentropic efficiency of compressor in percent\n",
"mf=1//Mass of fuel in kg\n",
"ma=80//Mass of air in kg\n",
"nt=85//Isentropic efficiency of the turbine in percent\n",
"CV=10000//Calorific value of fuel n kcal per kg\n",
"g=1.4//Ratio of specific heats\n",
"Cp=0.24//Specific heat at constant pressure in kJ/kg.K\n",
"\n",
"//Calculations\n",
"rp=(p2/p1)//Pressure ratio\n",
"T2=(T1*rp^((g-1)/g))//Temperature of air at the end of adiabatic compression in K\n",
"dt=(T2-T1)//Isentropic temperature rise in K\n",
"adt=(dt/(nc/100))//Actual temperature rise in K\n",
"T2i=(T1+((T2-T1)/(nc/100)))//Temperature of air at the end of actual compression in K\n",
"q=(mf/ma)*CV//Heat supplied per kg of air in kcal\n",
"T3=(q/Cp)+T2i//Temperature of gas at the inlet of the turbine in K\n",
"T4=(T3/rp^((g-1)/g))//Temperature of air at the end of adiabatic expansion in K\n",
"T4i=(T3-((T3-T4)*(nt/100)))//Temperature of air at the end of actual expansion in K\n",
"Wt=(Cp*(T3-T4i)*((ma+mf)/ma))//Workdone in turbine in kcal/kg of air\n",
"Wc=(Cp*(T2i-T1))//Workdone in compressor in kcal/kg of air\n",
"N=(Wt-Wc)//Net workdone in kcal/kg of air\n",
"nt=(N/q)*100//Thermal efficiency in percent\n",
"\n",
"//Output\n",
"printf('(a) The net work output of installation is %3.2f kcal/kg of air \n (b) Overall efficiency of the plant is %3.1f percent',N,nt)"
   ]
   }
,
{
		   "cell_type": "markdown",
		   "metadata": {},
		   "source": [
			"## Example 25.11: EFFICIENCY.sce"
		   ]
		  },
  {
"cell_type": "code",
	   "execution_count": null,
	   "metadata": {
	    "collapsed": true
	   },
	   "outputs": [],
"source": [
"clc\n",
"clear\n",
"//Input data\n",
"rp=5//Pressure ratio\n",
"T3=580+273//Temperature of gas at the inlet of the turbine in K\n",
"p1=1.03//Inlet air pressure in kg/cm^2\n",
"T1=15+273//Inlet temperature of air in K\n",
"nc=80//Isentropic efficiency of compressor in percent\n",
"no=18//Overall efficiency of the plant in percent\n",
"Cpa=0.239//Specific heat of air at constant pressure in kJ/kg.K\n",
"Cpg=0.261//Specific heat of gas at constant pressure in kJ/kg.K\n",
"R=29.27//haracteristic gas constant in kg.m/kg.K\n",
"g=1.4//Ratio of specific heats for air\n",
"g1=1.355//Ratio of specific heats for gas\n",
"\n",
"//Calculations\n",
"T2=(T1*rp^((g-1)/g))//Temperature of air at the end of adiabatic compression in K\n",
"T2i=(T1+((T2-T1)/(nc/100)))//Temperature of air at the end of actual compression in K\n",
"q=(Cpg*(T3-T2i))//Heat supplied in kcal/kg of air\n",
"Wc=(Cpa*(T2i-T1))//Workdone in compressor in kcal/kg of air\n",
"Wt=((no/100)*q)+Wc//Turbine work output in kcal/kg of air\n",
"T4i=(T3-(Wt/Cpg))//Temperature of air at the end of actual expansion in K\n",
"T4=(T3/rp^((g1-1)/g1))//Temperature of air at the end of adiabatic expansion in K\n",
"nt=((T3-T4i)/(T3-T4))*100//Isentropic efficiency of turbine in percent\n",
"\n",
"//Output\n",
"printf('Isentropic efficiency of turbine is %3.1f percent',nt)"
   ]
   }
,
{
		   "cell_type": "markdown",
		   "metadata": {},
		   "source": [
			"## Example 25.12: FLOW_OF_AIR.sce"
		   ]
		  },
  {
"cell_type": "code",
	   "execution_count": null,
	   "metadata": {
	    "collapsed": true
	   },
	   "outputs": [],
"source": [
"clc\n",
"clear\n",
"//Input data\n",
"p1=1.03//Inlet air pressure in kg/cm^2\n",
"T1=15+273//Inlet temperature of air in K\n",
"rp=5//Pressure ratio\n",
"nc=85//Isentropic efficiency of the compressor in percent\n",
"T3=540+273//Temperature of the gas entering the turbine in K\n",
"nt=80//Isentropic efficiency of the turbine in percent\n",
"NHP=2000//Net horse power in H.P\n",
"fp=0.1//Fall of pressure through the combustion system in kg/cm^2\n",
"g=1.4//Ratio of specific heats for both air and gas\n",
"Cp=0.25//Specific heat at constant pressure in kJ/kg.K for both air and gas\n",
"\n",
"//Calculations\n",
"T2i=(T1*rp^((g-1)/g))//Temperature of air at the end of adiabatic compression in K\n",
"dt=(T2i-T1)//Isentropic temperature rise in K\n",
"adt=(dt/(nc/100))//Actual temperature rise in K\n",
"Wc=(Cp*adt)//Workdone in compressor in kcal/kg of air\n",
"e=((rp*p1-fp)/p1)//Expansion ratio\n",
"T4i=(T3/e^((g-1)/g))//Temperature of air at the end of adiabatic expansion in K\n",
"dt1=(T3-T4i)//Isentropic temperature rise in K\n",
"adt1=(dt1/(nt/100))//Actual temperature rise in K\n",
"Wt=(Cp*adt1)//Workdone in turbine in kcal/kg of air\n",
"N=(Wt-Wc)//Net workdone in kcal/kg of air\n",
"w=(NHP*75)/(427*9.8)//Flow rate in kg of air per sec\n",
"\n",
"//Output\n",
"printf('Flow rate is %3.2f kg of air per sec',w)"
   ]
   }
,
{
		   "cell_type": "markdown",
		   "metadata": {},
		   "source": [
			"## Example 25.13: POWER_OTPUT.sce"
		   ]
		  },
  {
"cell_type": "code",
	   "execution_count": null,
	   "metadata": {
	    "collapsed": true
	   },
	   "outputs": [],
"source": [
"clc\n",
"clear\n",
"//Input data\n",
"nc=75//Isentropic efficiency of the compressor in percent\n",
"nt=85//Isentropic efficiency of the turbine in percent\n",
"nm=98//Mechanical efficiency in percent\n",
"rp=6//Pressure ratio\n",
"T3=727+273//Temperature of the gas entering the turbine in K\n",
"p1=1//Inlet air pressure in kg/cm^2\n",
"T1=15.5+273//Inlet temperature of air in K\n",
"m=2.2//Mass flow rate in kg/sec\n",
"Cpa=0.24//Specific heat of air at constant pressure in kJ/kg.K\n",
"Cpg=0.276//Specific heat of gas at constant pressure in kJ/kg.K\n",
"g=1.4//Ratio of specific heats for air\n",
"g1=1.33//Ratio of specific heats for gas\n",
"\n",
"//Calculations\n",
"T2=(T1*rp^((g-1)/g))//Temperature of air at the end of adiabatic compression in K\n",
"T2i=(T1+((T2-T1)/(nc/100)))//Temperature of air at the end of actual compression in K\n",
"T4=(T3/rp^((g1-1)/g1))//Temperature of air at the end of adiabatic compression in K\n",
"T4i=(T3-((T3-T4)*(nt/100)))//Temperature of air at the end of actual compression in K\n",
"Wt=(Cpg*(T3-T4i))//Workdone in turbine in kcal/kg of air\n",
"Wc=(Cpa*(T2i-T1))//Workdone in compressor in kcal/kg of air\n",
"N=(Wt-Wc)//Net workdone in kcal/kg of air\n",
"P=(N*m*427)/(75*(nm/100))//Power output of the plant in H.P\n",
"\n",
"//Output\n",
"printf('Power output of the plant is %3.0f H.P',P)"
   ]
   }
,
{
		   "cell_type": "markdown",
		   "metadata": {},
		   "source": [
			"## Example 25.14: EFFICIENCY.sce"
		   ]
		  },
  {
"cell_type": "code",
	   "execution_count": null,
	   "metadata": {
	    "collapsed": true
	   },
	   "outputs": [],
"source": [
"clc\n",
"clear\n",
"//Input data\n",
"T1=15+273//Inlet temperature of air in K\n",
"rp=4//Pressure ratio\n",
"T4=560+273//Maximum temperature of the cycle in K\n",
"nc=83//Isentropic efficiency of the compressor in percent\n",
"nt=86//Isentropic efficiency of the turbine in percent\n",
"x=75//Heat exchanger making use of heat available in percent\n",
"g=1.4//Ratio of specific heats\n",
"\n",
"//Calculations\n",
"T5i=(T4*(1/rp)^((g-1)/g))//Temperature in K\n",
"dt=(T4-T5i)//Isometric temperature drop through turbine in degree C\n",
"ta=((nt/100)*dt)//Actual temperature drop in degree C\n",
"T5=(T4-ta)//Temperature in K\n",
"T2i=(T1*rp^((g-1)/g))//Temperature in K\n",
"tc=(T2i-T1)//Temperature change in degree C\n",
"T2=(tc/(nc/100))+T1//Temperature in K\n",
"q=(T5-T2)//Available heat in exchanger in kcal per kg *Cp\n",
"T3=((q*(x/100))+T2)//Temperature in K\n",
"//Without heat exchanger\n",
"qw=(T4-T2)//Heat supplied *Cp in kcal/kg\n",
"tw=(T4-T5)//Turbine work *Cp in kcal/kg\n",
"cw=(T2-T1)//Compressor work *Cp in kcal/kg\n",
"nw=(tw-cw)//Net workdone *Cp in kcal/kg\n",
"no=(nw/qw)*100//Overall efficiency in percent\n",
"//With heat exchanger\n",
"qs=(T4-T3)//Heat supplied *Cp in kcal/kg\n",
"no1=(nw/qs)*100//Overall efficiency in percent\n",
"\n",
"//Output\n",
"printf('The overall efficiency \n (a) without heat exchanger is %3.1f percent \n (b) with heat exchanger making use of %i percent of heat available is %3.1f percent',no,x,no1)"
   ]
   }
,
{
		   "cell_type": "markdown",
		   "metadata": {},
		   "source": [
			"## Example 25.15: PRESSURE.sce"
		   ]
		  },
  {
"cell_type": "code",
	   "execution_count": null,
	   "metadata": {
	    "collapsed": true
	   },
	   "outputs": [],
"source": [
"clc\n",
"clear\n",
"//Input data\n",
"p1=1//Initial pressure in kg/cm^2\n",
"T1=15+273//Initial temperature in K\n",
"p2=5.5//Pressure after compression in kg/cm^2\n",
"T3=750+273//Temperature at the entrance of turbine in K\n",
"v=225//Speed in m/s\n",
"x=70//Percentage\n",
"in=75//Isentropic efficiency of compressor in percent\n",
"Cp=0.24//Specific heat at constant pressure in kJ/kg.K\n",
"g=1.4//Ratio of specific heats\n",
"\n",
"//Calculations\n",
"T2=(T1*(p2/p1)^((g-1)/g))//Temperature in K\n",
"at=(T2-T1)/(in/100)//Actual temperature rise in the compressor in K\n",
"T2i=(T1+at)//Temperature in K\n",
"T4=(T3/(p2/p1)^((g-1)/g))//Temperature in K\n",
"to=(Cp*(T3-T4))//Theoritical turbine output in kcal/kg of air\n",
"ci=(Cp*(T2i-T1))//Actual compressor input in kcal/kg of air\n",
"ke=(v^2/(2*9.81*427))//Kinetic energy in gas leaving the exhaust annulus in kcal/kg\n",
"dT34=(ci+ke)/((x/100)*Cp)//Change in temperature in K\n",
"r=1/(1-(dT34/T3))^(g/(g-1))//Ratio of pressures\n",
"p4=(r/p2)//Pressure in kg/cm^2\n",
"\n",
"//Output\n",
"printf('The pressure of the gases in the turbine exhaust annulus is %3.1f kg/cm^2',p4)"
   ]
   }
,
{
		   "cell_type": "markdown",
		   "metadata": {},
		   "source": [
			"## Example 25.16: EFFICIENCY.sce"
		   ]
		  },
  {
"cell_type": "code",
	   "execution_count": null,
	   "metadata": {
	    "collapsed": true
	   },
	   "outputs": [],
"source": [
"clc\n",
"clear\n",
"//Input data\n",
"p=[1,5]//Pressures in atm\n",
"T1=288//Temperature in K\n",
"T3=650+273//Temperature in K\n",
"er=0.85//Efficiency ratio\n",
"x=0.72//Effectiveness of heat exchanger\n",
"Cp=0.24//Specific heat at constant pressure in kJ/kg.K\n",
"g=1.4//Ratio of specific heats\n",
"\n",
"//Calculations\n",
"T2=(T1*(p(2)/p(1))^((g-1)/g))//Temperature in K\n",
"T2i=(T1+((T2-T1)/er))//Temperature in K\n",
"T4=(T3/(p(2)/p(1))^((g-1)/g))//Temperature in K\n",
"T4i=(T3-(er*(T3-T4)))//Temperature in K\n",
"Tc=((x*(T4i-T2i))+T2i)//Temperature in K\n",
"W=((Cp*((T3-T4i)-(T2i-T1))))//Workdone in kcal/kg\n",
"q=(Cp*(T3-Tc))//Heat supplied in kcal/kg\n",
"n=(W/q)*100//Efficiency in percent\n",
"\n",
"//Output\n",
"printf('The heat efficiency of the plant is %3.1f percent',n)"
   ]
   }
,
{
		   "cell_type": "markdown",
		   "metadata": {},
		   "source": [
			"## Example 25.17: EFFICIENCY.sce"
		   ]
		  },
  {
"cell_type": "code",
	   "execution_count": null,
	   "metadata": {
	    "collapsed": true
	   },
	   "outputs": [],
"source": [
"clc\n",
"clear\n",
"//Input data\n",
"T1=15+273//Inlet temperature of air in K\n",
"p1=1.03//Inlet pressure of air in kg/cm^2\n",
"rp=5//Pressure ratio\n",
"T3=815+273//Temperature of air entering the turbine in K\n",
"nc=0.83//Adiabatic efficiency of the compressor\n",
"nt=0.92//Internal engine efficiency of the turbine\n",
"nr=0.65//Effectiveness of regenerator\n",
"p2=2.45//Pressure in kg/cm^2 \n",
"T6=T1//Temperature in K\n",
"T9=T3//Temperature in K\n",
"Cp=0.24//Specific heat at constant pressure in kJ/kg.K\n",
"g=1.4//Ratio of specific heat\n",
"\n",
"//Calculations\n",
"T2=(T1*rp^((g-1)/g))//Temperature in K\n",
"T4=(T3/rp^((g-1)/g))//Temperature in K\n",
"Wt=(Cp*(T3-T4))//Isentropic work done in the turbine in kcal/kg of air\n",
"Wc=(Cp*(T2-T1))//Isentropic work done in the compressor in kcal/kg of air\n",
"Wr=(Wt/Wc)//Work ratio\n",
"qa=(Cp*(T3-T2))//Heat added in kcal/kg of air\n",
"nth=((Wt-Wc)/qa)*100//Thermal efficiency in percent\n",
"T2i=(T1+((T2-T1)/nc))//Temperature in K\n",
"T4i=(T3-(nt*(T3-T4)))//Temperature in K\n",
"Wti=(Cp*(T3-T4i))//work done in the turbine in kcal/kg of air\n",
"Wci=(Cp*(T2i-T1))//work done in the compressor in kcal/kg of air\n",
"Wri=(Wti/Wci)//Work ratio\n",
"qai=(Cp*(T3-T2i))//Heat added in kcal/kg of air\n",
"nthi=((Wti-Wci)/qai)*100//Thermal efficiency in percent\n",
"T2ii=(T2i+((T4i-T2i)*nr))//Temperature in K\n",
"qaii=(Cp*(T3-T2ii))//Heat added in kcal/kg of air\n",
"nthii=((Wti-Wci)/qaii)*100//Thermal efficiency in percent\n",
"T5=(T1*(p2/p1)^((g-1)/g))//Temperature in K\n",
"T5i=(T1+((T5-T1)/nc))//Temperature in K\n",
"T7=(T1*((rp*p1)/p2)^((g-1)/g))//Temperature in K\n",
"T7i=(T6+((T7-T6)/nc))//Temperature in K\n",
"T7ii=(T7i+((T4i-T7i)*nr))//Temperature in K\n",
"Wcomp=(Cp*((T5i-T1)+(T7i-T6)))//Compressor work in kcal/kg of air\n",
"Wratio=(Wti/Wcomp)//Work ratio\n",
"qaa=(Cp*(T3-T7ii))//Heat added in kcal/kg of air\n",
"nthe=((Wti-Wcomp)/qaa)*100//Thermal efficiency in percent\n",
"T8=(T3*(p2/(rp*p1))^((g-1)/g))//Temperature in K\n",
"T8i=(T3-((T3-T8)*nt))//Temperature in K\n",
"T10=(T9/(p2/p1)^((g-1)/g))//Temperature in K\n",
"T10i=(T9-((T9-T10)*nt))//Temperature in K\n",
"T2iii=(T2i+((T10i-T2i)*nr))//Temperature in K\n",
"Wturb=(Cp*((T3-T8i)+(T3-T10i)))//Compressor work in kcal/kg of air\n",
"Wratioi=(Wturb/Wci)//Work ratio\n",
"qaai=(Cp*((T3-T2iii)+(T9-T8i)))//Heat added in kcal/kg of air\n",
"nthei=((Wturb-Wci)/qaai)*100//Thermal efficiency in percent\n",
"T7iii=(T7i+((T10i-T7i)*nr))//Temperature in K\n",
"Wratioii=(Wturb/Wcomp)//Work ratio\n",
"qaaii=(Cp*((T3-T7iii)+(T9-T8i)))//Heat added in kcal/kg of air\n",
"ntheii=((Wturb-Wcomp)/qaaii)*100//Thermal efficiency in percent\n",
"\n",
"//Output\n",
"printf('Condition     Work ratio     Thermal efficiency(in percent)\n   (a)           %3.3f                %3.1f\n   (b)           %3.2f                 %3.1f\n   (c)           %3.2f                 %3.1f\n   (d)           %3.2f                 %3.1f\n   (e)           %3.3f                %3.1f\n   (f)           %3.3f                %3.1f',Wr,nth,Wri,nthi,Wri,nthii,Wratio,nthe,Wratioi,nthei,Wratioii,ntheii)   "
   ]
   }
,
{
		   "cell_type": "markdown",
		   "metadata": {},
		   "source": [
			"## Example 25.18: EFFICIENCY.sce"
		   ]
		  },
  {
"cell_type": "code",
	   "execution_count": null,
	   "metadata": {
	    "collapsed": true
	   },
	   "outputs": [],
"source": [
"clc\n",
"clear\n",
"//Input data\n",
"p=[1,9]//Pressures in ata\n",
"T=[25+273,1250+273]//Minimum and maximum temperatures in K\n",
"n=0.83//Compressor and turbine efficiencies\n",
"Cp=0.24//Specific heat at constant pressure in kJ/kg.K\n",
"g=1.4//Ratio of specific heats\n",
"x=0.65//Cycle with 65% regeneration\n",
"\n",
"//Calculations\n",
"//(a)Without regeneration\n",
"ip=sqrt(p(1)*p(2))//Intermediate pressure in ata\n",
"T2=(T(1)*(ip/p(1))^((g-1)/g))//Temperature in K\n",
"T3=(T(1)+((T2-T(1))/n))//Temperature in K\n",
"T4=T(1)//Temperature in K\n",
"T5=T2//Temperature in K\n",
"T6=T3//Temperature in K\n",
"T7=T(2)//Temperature in K\n",
"T8=T7/(ip/p(1))^((g-1)/g)//Temperature in K\n",
"T9=(T7-((T7-T8)*n))//Temperature in K\n",
"T10=T7//Temperature in K\n",
"T11=T8//Temperature in K\n",
"T12=T9//Temperature in K\n",
"Wc=(2*Cp*(T3-T(1)))//Work of compression in kcal/kg of air\n",
"We=(2*Cp*(T7-T8))//Work of expansion in kcal/kg of air\n",
"NW=(We-Wc)//Net output in kcal/kg of air\n",
"qi=(Cp*((T7-T6)+(T10-T9)))//Heat input in kcal/kg of air\n",
"nth=(NW/qi)*100//Thermal efficiency in percent\n",
"\n",
"//(b)Cycle efficiency with 65% regeneration\n",
"Tg=(T6+(x*(T12-T6)))//Temperature in K\n",
"q=(Cp*((T7-Tg)+(T10-T9)))//Heat input in kcal/kg of air\n",
"nthi=(NW/q)*100//Thermal efficiency in percent\n",
"\n",
"//(c)Cycle efficiency with ideal regeneration\n",
"Eg=T12//Temperature in K\n",
"qa=(2*Cp*(T7-Eg))//Heat added in kcal/kg of air\n",
"nthii=(NW/qa)*100//Thermal efficiency in percent\n",
"\n",
"//Output\n",
"printf('(a)Cycle efficiency without regeneration is %3.1f percent \n (b)Cycle efficiency with 65 percent regeneration is %3.1f percent \n (c)Cycle efficiency with ideal regeneration is %3.0f percent',nth,nthi,nthii)"
   ]
   }
,
{
		   "cell_type": "markdown",
		   "metadata": {},
		   "source": [
			"## Example 25.19: EFFICIENCY.sce"
		   ]
		  },
  {
"cell_type": "code",
	   "execution_count": null,
	   "metadata": {
	    "collapsed": true
	   },
	   "outputs": [],
"source": [
"clc\n",
"clear\n",
"//Input data\n",
"p1=1//Inlet pressure of compressor in atm\n",
"T1=27+273//Inle temperature of compressor in K\n",
"ic=0.8//Isentropic efficiency of compressor\n",
"ma=20.5//Mass flow rate of air in kg/sec\n",
"T3=650+273//Inlet temperatures of both turbines in K\n",
"p2=5//Inlet pressure of turbine in atm\n",
"it=0.92//Internal engine efficiency for both the turbines\n",
"CV=10000//Calorific value in kcal/kg\n",
"Cpa=0.24//Specific heat at constant pressure of air in kJ/kg.K\n",
"ga=1.4//Ratio of specific heats for air\n",
"Cpg=0.276//Specific heat at constant pressure of gas in kJ/kg.K\n",
"gs=1.33//Ratio of specific heats for gas\n",
"\n",
"//Calculations\n",
"T2=(T1*(p2/p1)^((ga-1)/ga))//Temperature in K\n",
"T2i=(T1+((T2-T1)/ic))//Temperature in K\n",
"T4=(T3/(p2/p1)^((gs-1)/gs))//Temperature in K\n",
"T4i=(T3-((T3-T4)*it))//Temperature in K\n",
"Wc=(Cpa*(T2i-T1))//Work of compression in kcal/kg of air\n",
"We=(Cpg*(T3-T4i))//Work of expansion in kcal/kg of air\n",
"mx=(Wc/We)//Gas required per kg of air compressed in kg\n",
"F=((Cpa*T2i)-(Cpg*T3))/(Cpg*T3-CV)//Amount of fuel supplied per kg of air in kg\n",
"Wg=1+F//Weight of gases per kg of air in kg\n",
"Wt=(Wg-mx)//Gases supplied to turbine in kg\n",
"Ot=((Wt*ma*427*We)/75)//Output of turbine in H.P\n",
"nth=((Wt*We)/(CV*F))*100//Thermal efficiency in percent\n",
"\n",
"//Output\n",
"printf('Output is %3.0f H.P \n Thermal efficiency is %3.2f percent',Ot,nth)"
   ]
   }
,
{
		   "cell_type": "markdown",
		   "metadata": {},
		   "source": [
			"## Example 25.20: HP.sce"
		   ]
		  },
  {
"cell_type": "code",
	   "execution_count": null,
	   "metadata": {
	    "collapsed": true
	   },
	   "outputs": [],
"source": [
"clc\n",
"clear\n",
"//Input data\n",
"q=2250//Heat supplied per sec in kcal\n",
"//Input data from Fig. 25.34 from page no. 652\n",
"T1=200//Temperature in K\n",
"T2=100//Temperature in K\n",
"T3=625//Temperature in K\n",
"T4=550//Temperature in K\n",
"Cp=0.24//Specific heat at constant pressure in kJ/kg.K\n",
"g=1.4//Ratio of specific heats\n",
"\n",
"//Calculations\n",
"Wc=(2*Cp*(T1-T2))//Work of compression in kcal/kg of air\n",
"We=(2*Cp*(T3-T4))//Work of expansion in kcal/kg of air\n",
"NW=(Wc-We)//Net output in kcal/kg of air\n",
"qi=(2*Cp*(T3-T4))//Heat input in kcal/kg of air\n",
"nth=(NW/qi)*100//Thermal efficiency in percent\n",
"rf=(q/qi)//Rate of flow of working substance in kg/sec\n",
"O=(NW*rf*427)/75//Total output in H.P\n",
"\n",
"//Output\n",
"printf('Output is %3.0f H.P \n Thermal efficiency is %3.1f percent',O,nth)"
   ]
   }
,
{
		   "cell_type": "markdown",
		   "metadata": {},
		   "source": [
			"## Example 25.22: EFFICIENCY.sce"
		   ]
		  },
  {
"cell_type": "code",
	   "execution_count": null,
	   "metadata": {
	    "collapsed": true
	   },
	   "outputs": [],
"source": [
"clc\n",
"clear\n",
"//Input data\n",
"p=[5,20]//Pressure limits in atm\n",
"T3=650+273//Temperature in K\n",
"T1=60+273//Temperature in K\n",
"T2=T1//Temperature in K\n",
"Cp=0.24//Specific heat at constant pressure in kJ/kg.K\n",
"g=1.4//Ratio of specific heats\n",
"R=29.27//Characteristic gas constant in kg.m/kg.K\n",
"J=427//Mechanical equivalent of heat in kg.m/kcal\n",
"\n",
"//Calculations\n",
"T4=T3/(p(2)/p(1))^((g-1)/g)//Temperature in K\n",
"Wc=((R*T1)/J)*log(p(2)/p(1))//Compression work in kcal/kg\n",
"qs=(Cp*(T3-T2))//Heat supplied at constant pressure in kcal/kg\n",
"qre=(Cp*(T4-T1))//Heat ejected during process 4-1 in kcal/kg\n",
"nth=((qs-Wc-qre)/(qs-qre))*100//Thermal efficiency in percent\n",
"nc=((T3-T1)/T3)*100//Carnot efficiency in percent\n",
"r=(nth/nc)*100//Ratio of air standard efficiency to carnot efficiency in percent\n",
"\n",
"//Output\n",
"printf('(a) air standard efficiency of the cycle is %3.1f percent \n (b) carnot efficiency is %3.0f percent \n (c) Ratio of air standard efficiency to carnot efficiency is %3.1f percent',nth,nc,r)"
   ]
   }
,
{
		   "cell_type": "markdown",
		   "metadata": {},
		   "source": [
			"## Example 25.2: OVERALL_EFFICIENCY.sce"
		   ]
		  },
  {
"cell_type": "code",
	   "execution_count": null,
	   "metadata": {
	    "collapsed": true
	   },
	   "outputs": [],
"source": [
"clc\n",
"clear\n",
"//Input data\n",
"p=4//Pressure ratio\n",
"T3=1000//Turbine inlet temperature in K\n",
"T1=15+273//Inlet temperature in K\n",
"p1=1//Inlet pressure in kg/cm^2\n",
"m=11//Mass flow rate of air in kg/s\n",
"Cp=0.24//Specific heat at constant pressure in kJ/kg.K\n",
"R=29.27//haracteristic gas constant in kg.m/kg.K\n",
"g=1.4//Ratio of specific heats\n",
"\n",
"//Calculations\n",
"Pc=(m*R*T1*(p^((g-1)/g)-1))/75//Power consumed by the compressor in H.P\n",
"Pt=(m*R*T3*(1-(1/p)^((g-1)/g)))/75//Power consumed by the turbine in H.P\n",
"N=(Pt-Pc)//Net output of the plant in H.P. In textbook answer is given wrong\n",
"T2=(T1*(p)^((g-1)/g))//Temperature at the end of compression in K\n",
"q=(Cp*(T3-T2))//Heat supplied in kcal/kg of air\n",
"n=(((N*4500)/427)/(q*m*60))*100//Overall efficiency of the plant in percent\n",
"\n",
"//Output\n",
"printf('Horse power developed is %3.0f H.P \n The overall efficiency of the plant is %3.2f percent',N,n)"
   ]
   }
,
{
		   "cell_type": "markdown",
		   "metadata": {},
		   "source": [
			"## Example 25.3: EFFICIENCY.sce"
		   ]
		  },
  {
"cell_type": "code",
	   "execution_count": null,
	   "metadata": {
	    "collapsed": true
	   },
	   "outputs": [],
"source": [
"clc\n",
"clear\n",
"//Input data\n",
"T1=15+273//Temperature of air entering the compressor in K\n",
"rp=5//Pressure ratio\n",
"T3=700+273//Temperature of air after heating in K\n",
"g=1.4//Ratio of specific heats\n",
"Cp=0.24//Specific heat at constant pressure in kJ/kg.K\n",
"\n",
"//Calculations\n",
"T2=(T1*rp^((g-1)/g))//Temperature of air after compression in K\n",
"T4=(T3/rp^((g-1)/g))//Temperature of air after expansion in K\n",
"Wc=(Cp*(T2-T1))//Workdone in the compressor in kcal/kg of air\n",
"Wt=(Cp*(T3-T4))//Workdone in the turbine in kcal/kg of air\n",
"N=(Wt-Wc)//Net workdone in kcal/kg of air\n",
"SHP=(N*427)/75//Shaft horse power in H.P per kg of air/sec\n",
"q=(Cp*(T3-T2))//Heat supplied in kcal/kg of air\n",
"n=(N/q)*100//Overall efficiency in percent\n",
"\n",
"//Output\n",
"printf('Efficiency of plant is %3.1f percent \n The shaft horse-power per kg of air per second is %3.0f H.P',n,SHP)"
   ]
   }
,
{
		   "cell_type": "markdown",
		   "metadata": {},
		   "source": [
			"## Example 25.4: NET_OUTPUT.sce"
		   ]
		  },
  {
"cell_type": "code",
	   "execution_count": null,
	   "metadata": {
	    "collapsed": true
	   },
	   "outputs": [],
"source": [
"clc\n",
"clear\n",
"//Input data\n",
"g=1.4//Ratio of specific heats\n",
"Cp=0.24//Specific heat at constant pressure in kJ/kg.K\n",
"m=20.5//Air flow rate in kg/sec\n",
"p=[5.85,1.03,1.03,5.85]//Inlet and outlet pressure of turbine and compressor respectively in kg/cm^2\n",
"T=[20+273,250+273,600+273,360+273]//Inlet and outlet temperatures of turbine and compressor respectively in degree C. In textbook instead of 360 degree C, 375 degree C is given\n",
"\n",
"//Calculations\n",
"T2=(T(1)*(p(4)/p(3))^((g-1)/g))//Temperature at the outlet of compressor in ideal cycle in K\n",
"T4=(T(3)/(p(1)/p(2))^((g-1)/g))//Temperature at the outlet of turbine in ideal cycle in K \n",
"ic=((T2-T(1))/(T(2)-T(1)))*100//Isentropic efficiency of compressor in percent\n",
"it=((T(3)-T(4))/(T(3)-T4))*100//Isentropic efficiency of turbine in percent\n",
"Wc=(Cp*(T(2)-T(1)))//Workdone in compressor in kcal/kg of air\n",
"Wt=(Cp*(T(3)-T(4)))//Workdone in turbine in kcal/kg of air\n",
"N=(Wt-Wc)//Net workdone in kcal/kg of air\n",
"P=(N*427*m)/75//Power output in H.P\n",
"\n",
"//Output\n",
"printf('The net output is %3.0f H.P',P)"
   ]
   }
,
{
		   "cell_type": "markdown",
		   "metadata": {},
		   "source": [
			"## Example 25.5: TEMPERATURE.sce"
		   ]
		  },
  {
"cell_type": "code",
	   "execution_count": null,
	   "metadata": {
	    "collapsed": true
	   },
	   "outputs": [],
"source": [
"clc\n",
"clear\n",
"//Input data\n",
"rp=5//Pressure ratio\n",
"T1=15+273//Inlet temperature in K\n",
"nc=80//Adiabatic efficiency of the compressor in percent\n",
"n=1.4//Adiabatic index\n",
"\n",
"//Calculations\n",
"T2=(T1*rp^((n-1)/n))//Temperature at the outlet of compressor in ideal cycle in K. The textbook answer is wrong. Instead of 456 K, it is given as 452K\n",
"T2i=(((nc/100)*T1)+T2-T1)/(nc/100)//Temperature at the outlet of the compressor in the actual cycle in K\n",
"\n",
"//Output\n",
"printf('The temperature at the end of compression is %3.0f K',T2i)"
   ]
   }
,
{
		   "cell_type": "markdown",
		   "metadata": {},
		   "source": [
			"## Example 25.6: HP_DEVELOPED.sce"
		   ]
		  },
  {
"cell_type": "code",
	   "execution_count": null,
	   "metadata": {
	    "collapsed": true
	   },
	   "outputs": [],
"source": [
"clc\n",
"clear\n",
"//Input data\n",
"p1=5.62//Pressure of gas entering the turbine in kg/cm^2\n",
"T1=1000+273//Temperature of gas entering the turbine in K\n",
"p2=1.124//Pressure of gas leaving the turbine in kg/cm^2. In textbook it is given as 1.24 instead of 1.124\n",
"n1=0.8//Isotropic efficiency of the turbine in ratio\n",
"n=1.36//Adiabatic index\n",
"Cp=0.25//Specific heat at constant pressure in kJ/kg.K\n",
"\n",
"//Calculations\n",
"T2=(T1/(p1/p2)^((n-1)/n))//Temperature at the end of adiabatic expansion in K\n",
"dt=(T1-T2)//Isentropic temperature drop in K\n",
"adt=(n1*dt)//Actual temperature drop in K\n",
"T2i=(T1-adt)//Temperature at the end of actual expansion in K\n",
"W=(Cp*(T1-T2i))//Workdone per kg of gas in kcal\n",
"q=(W*427)/4500//H.P developed per kg of gas per minute \n",
"t2i=(T2i-273)//Exhaust gas temperature in degree C\n",
"\n",
"//Output\n",
"printf('(1) H.P developed per kg of gas per min is %3.2f \n (2) Exhaust gas temperature is %3.1f degree C',q,t2i)"
   ]
   }
,
{
		   "cell_type": "markdown",
		   "metadata": {},
		   "source": [
			"## Example 25.7: THERMAL_EFFICIENCY.sce"
		   ]
		  },
  {
"cell_type": "code",
	   "execution_count": null,
	   "metadata": {
	    "collapsed": true
	   },
	   "outputs": [],
"source": [
"clc\n",
"clear\n",
"//Input data\n",
"pt1=[1,15+273]//Pressure and temperature at the inlet of compressor in kg/cm^2 and K respectively\n",
"pt3=[4,650+273]//Pressure and temperature at the inlet of turbine in kg/cm^2 and K respectively\n",
"n=[85,80]//Isentropic efficiencies of turbine and compressor respectively in percent\n",
"g=1.4//Ratio of specific heats\n",
"Cp=0.24//Specific heat at constant pressure in kJ/kg.K\n",
"\n",
"//Calculations\n",
"T2=(pt1(2)*(pt3(1)/pt1(1))^((g-1)/g))//Temperature at the end of adiabatic compression in K\n",
"T2i=(pt1(2)+((T2-pt1(2))/(n(2)/100)))//Temperature at the end of actual compression in K\n",
"T4=(pt3(2)/(pt3(1)/pt1(1))^((g-1)/g))//Temperature at the end of adiabatic expansion in K\n",
"T4i=(pt3(2)-((pt3(2)-T4)*(n(1)/100)))//Temperature at the end of actual expansion in K\n",
"Wt=(Cp*(pt3(2)-T4i))//Workdone in turbine in kcal/kg of air\n",
"Wc=(Cp*(T2i-pt1(2)))//Workdone in compressor in kcal/kg of air\n",
"N=(Wt-Wc)//Net workdone in kcal/kg of air\n",
"q=(Cp*(pt3(2)-T2i))//Heat supplied in kcal/kg of air\n",
"nt=(N/q)*100//Thermal efficiency in percent\n",
"\n",
"//Output\n",
"printf('Thermal efficiency of the cycle is %3.2f percent',nt)"
   ]
   }
,
{
		   "cell_type": "markdown",
		   "metadata": {},
		   "source": [
			"## Example 25.8: FLOW_RATE.sce"
		   ]
		  },
  {
"cell_type": "code",
	   "execution_count": null,
	   "metadata": {
	    "collapsed": true
	   },
	   "outputs": [],
"source": [
"clc\n",
"clear\n",
"//Input data\n",
"p1=1.03//Inlet air pressure in kg/cm^2\n",
"T1=15.5+273//Inlet temperature of air in K\n",
"rp=5//Compression ratio\n",
"nc=85//Isentropic efficiency of the compressor in percent\n",
"T3=540+273//Temperature of the gas entering the turbine in K\n",
"p3=1.03//Pressure of gas entering the turbine in kg/cm^2\n",
"nt=80//Isentropic efficiency of the turbine in percent\n",
"O=2500//Net output in H.P\n",
"fp=0.07//Fall of pressure through the combustion chamber in kg/cm^2\n",
"g=1.4//Ratio of specific heats for both air and gas\n",
"Cp=0.24//Specific heat at constant pressure in kJ/kg.K for both air and gas\n",
"\n",
"//Calculations\n",
"T2=(T1*rp^((g-1)/g))//Temperature of air at the end of adiabatic compression in K\n",
"T2i=(T1+((T2-T1)/(nc/100)))//Temperature of air at the end of actual compression in K\n",
"T4=(T3/((rp*p3-fp)/p3)^((g-1)/g))//Temperature of air at the end of adiabatic compression in K\n",
"T4i=(T3-((T3-T4)*(nt/100)))//Temperature of air at the end of actual compression in K\n",
"Wt=(Cp*(T3-T4i))//Workdone in turbine in kcal/kg of air\n",
"Wc=(Cp*(T2i-T1))//Workdone in compressor in kcal/kg of air\n",
"N=(Wt-Wc)//Net workdone in kcal/kg of air\n",
"Fl=(O*4500)/(427*N*60)//Flow rate for 2500 H.P in kg/sec\n",
"\n",
"//Output\n",
"printf('Flow rate of air is %3.1f kg/sec for a net output of %i H.P',Fl,O)"
   ]
   }
,
{
		   "cell_type": "markdown",
		   "metadata": {},
		   "source": [
			"## Example 25.9: FLOW_RATE.sce"
		   ]
		  },
  {
"cell_type": "code",
	   "execution_count": null,
	   "metadata": {
	    "collapsed": true
	   },
	   "outputs": [],
"source": [
"clc\n",
"clear\n",
"//Input data\n",
"p1=1//Inlet air pressure in kg/cm^2\n",
"T1=16+273//Inlet temperature of air in K\n",
"rp=3.5//Pressure ratio\n",
"nc=85//Isentropic efficiency of the compressor in percent\n",
"T3=500+273//Temperature of the gas entering the turbine in K\n",
"nt=80//Isentropic efficiency of the turbine in percent\n",
"mc=4//Mass of air entering the compressor in tonnes/hour\n",
"g=1.4//Ratio of specific heats\n",
"Cp=0.24//Specific heat at constant pressure in kJ/kg.K\n",
"\n",
"//Calculations\n",
"T2=(T1*rp^((g-1)/g))//Temperature of air at the end of adiabatic compression in K\n",
"dt=(T2-T1)//Isentropic temperature rise in K\n",
"adt=(dt/(nc/100))//Actual temperature rise in K\n",
"T2i=(T1+((T2-T1)/(nc/100)))//Temperature of air at the end of actual compression in K\n",
"T4=(T3/rp^((g-1)/g))//Temperature of air at the end of adiabatic compression in K\n",
"T4i=(T3-((T3-T4)*(nt/100)))//Temperature of air at the end of actual compression in K\n",
"Wt=(Cp*(T3-T4i))//Workdone in turbine in kcal/kg of air\n",
"Wc=(Cp*(T2i-T1))//Workdone in compressor in kcal/kg of air\n",
"N=(Wt-Wc)//Net workdone in kcal/kg of air\n",
"q=(Cp*(T3-T2i))//Heat supplied in kcal/kg of air\n",
"NHP=(N*427*mc*1000)/(60*4500)//Net Horse Power available in H.P\n",
"nt=(N/q)*100//Thermal efficiency in percent\n",
"\n",
"//Output\n",
"printf('(i) The net Horse power available from this unit is %3.1f H.P \n (ii) The thermal efficiency of the plant is %3.2f percent',NHP,nt)"
   ]
   }
],
"metadata": {
		  "kernelspec": {
		   "display_name": "Scilab",
		   "language": "scilab",
		   "name": "scilab"
		  },
		  "language_info": {
		   "file_extension": ".sce",
		   "help_links": [
			{
			 "text": "MetaKernel Magics",
			 "url": "https://github.com/calysto/metakernel/blob/master/metakernel/magics/README.md"
			}
		   ],
		   "mimetype": "text/x-octave",
		   "name": "scilab",
		   "version": "0.7.1"
		  }
		 },
		 "nbformat": 4,
		 "nbformat_minor": 0
}
