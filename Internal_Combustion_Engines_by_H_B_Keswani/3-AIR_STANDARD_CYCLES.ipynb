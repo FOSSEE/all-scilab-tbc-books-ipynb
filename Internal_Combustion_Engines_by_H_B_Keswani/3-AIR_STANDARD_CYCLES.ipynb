{
"cells": [
 {
		   "cell_type": "markdown",
	   "metadata": {},
	   "source": [
       "# Chapter 3: AIR STANDARD CYCLES"
	   ]
	},
{
		   "cell_type": "markdown",
		   "metadata": {},
		   "source": [
			"## Example 3.10: PRESSURE_AND_HEAT.sce"
		   ]
		  },
  {
"cell_type": "code",
	   "execution_count": null,
	   "metadata": {
	    "collapsed": true
	   },
	   "outputs": [],
"source": [
"clc\n",
"clear\n",
"//Input data\n",
"p1=1//Pressure at the beginning of compression in kg/cm^2\n",
"T1=80+273//Temperature at the beginning of compression in K\n",
"r=14//Compression ratio\n",
"p4=2.7//Pressure at the end of expansion in kg/cm^2\n",
"Cp=0.24//Specific heat at constant pressure in kJ/kg.K\n",
"g=1.4//Ratio of specific heats\n",
"\n",
"//Calculations\n",
"p2=p1*r^g//Pressure at the end of compression in kg/cm^2\n",
"s=(((r*(p4/p2)^(1/g))-1)/(r-1))*100//Percentage of stroke when the fuel is cut off in percent\n",
"T2=(T1*(p2/p1))/r//Temperature at the end of compression in K\n",
"T3=(T2*r*(p4/p2)^(1/g))//Temperature at the end of adiabatic expansion in K\n",
"q=(Cp*(T3-T2))//Heat supplied in kcal/kg\n",
"\n",
"//Output\n",
"printf('(a) The maximum pressure attained during the cycle is %3.1f kg/cm^2 \n (b) The percentage of working stroke at which the heat supply to the working fluid ceases is %3.2f percent \n (c) The heat received per kg of woring substance during the cycle is %3.0f kcal/kg',p2,s,q)"
   ]
   }
,
{
		   "cell_type": "markdown",
		   "metadata": {},
		   "source": [
			"## Example 3.11: AIR_STANDARD_EFFICIENCY.sce"
		   ]
		  },
  {
"cell_type": "code",
	   "execution_count": null,
	   "metadata": {
	    "collapsed": true
	   },
	   "outputs": [],
"source": [
"clc\n",
"clear\n",
"d=0.25//Diameter of the cylinder in m\n",
"L=0.35//Stroke in m\n",
"Cv=1500//Clearance volume in c.c\n",
"s=5//cut off ratio takes place at 5 percent of stroke\n",
"a=1.4//Explosion ratio\n",
"g=1.4//Ratio of specific heats for air\n",
"\n",
"//Calculations\n",
"Vs=(3.14/4)*d^2*L//Stroke volume in m^3\n",
"r=(Vs*10^6+Cv)/Cv//Compression ratio\n",
"k=(Cv+((s/100)*Vs*10^6))/Cv//Cut off ratio\n",
"na=(1-((1/(r^(g-1)))*((a*k^g-1)/((a-1)+a*g*(k-1)))))*100//Air standard efficiency in percent\n",
"\n",
"//Output\n",
"printf('The air standard efficiency of the engine is %3.1f percent',na)"
   ]
   }
,
{
		   "cell_type": "markdown",
		   "metadata": {},
		   "source": [
			"## Example 3.12: AIR_STANDARD_EFFICIENCY.sce"
		   ]
		  },
  {
"cell_type": "code",
	   "execution_count": null,
	   "metadata": {
	    "collapsed": true
	   },
	   "outputs": [],
"source": [
"clc\n",
"clear\n",
"//Input data\n",
"d=0.2//Diameter of the cylinder in m\n",
"L=0.4//Stroke in m\n",
"r=13.5//Compression ratio\n",
"a=1.42//Explosion ratio\n",
"s=5.1//Cut off occurs at 5.1 percent of the stroke\n",
"g=1.4//Ratio of specific heats for air\n",
"\n",
"//Calculations\n",
"Vs=(3.14/4)*d^2*L*10^-6//Stroke volume in c.c\n",
"Vc=Vs/r//Clearance volume in c.c\n",
"k=(((s/100)*Vs)+Vc)/Vc//Cut off ratio\n",
"ASE=(1-((1/(r^(g-1)))*((a*k^g-1)/((a-1)+a*g*(k-1)))))*100//Air standard efficiency in percent\n",
"\n",
"//Output\n",
"printf('The air standard efficiency of the engine is %3.1f percent',ASE)\n",
""
   ]
   }
,
{
		   "cell_type": "markdown",
		   "metadata": {},
		   "source": [
			"## Example 3.13: TEMPERATURE_AND_EFFICIENCY.sce"
		   ]
		  },
  {
"cell_type": "code",
	   "execution_count": null,
	   "metadata": {
	    "collapsed": true
	   },
	   "outputs": [],
"source": [
"clc\n",
"clear\n",
"//Input data\n",
"x=[2/3,1/3]//The dual cycle atkes two-thirds of its total heat supply at constant volume and one-third at constant pressure\n",
"r=13//Compression ratio\n",
"p3=43//Maximum pressure of the cycle in kg/cm^2\n",
"p1=1//Pressure at intake in kg/cm^2\n",
"T1=15+273//Intake temperature in K\n",
"Cp=0.24//Specific heat at constant pressure in kJ/kg.K\n",
"Cv=0.17//Specific heat at constant volume in kJ/kg.K\n",
"g=1.41//Ratio of specific heats\n",
"\n",
"//Calculations\n",
"T2=T1*r^(g-1)//Temperature at the end of compression in K\n",
"p2=(p1*r^g)//Pressure at the end of compression in kg/cm^2\n",
"T3=T2*p3/p2//Temperature at the end of constant volume heat addition in K\n",
"q23=Cv*(T3-T2)//Heat added at constant volume in kcal/kg\n",
"q34=(1/2)*q23//Heat added at constant pressure in kcal/kg\n",
"T4=(q34/Cp)+T3//Temperature at the end of constant pressure heat supply in K\n",
"T5=(T4*((p1*(T4/T3))/r)^(g-1))//Temperature at the end of expansion in K\n",
"na=(1-((Cv*(T5-T1))/((Cv*(T3-T2))+(Cp*(T4-T3)))))*100//Efficiency in percent\n",
"T=[T1-273,T2-273,T3-273,T4-273,T5-273]//Temperature at the five cardinal points in degree C\n",
"\n",
"//Output\n",
"printf('(a) The temperature at the five cardinal points of the cycle are : \n point 1 is %3.0f degree C \n point 2 is %3.0f degree C \n point 3 is %3.0f degree C \n point 4 is %3.1f degree C \n point 5 is %3.0f degree C \n\n (b) The ideal thermal efficiency of the cycle is %3.1f percent',T(1),T(2),T(3),T(4),T(5),na)"
   ]
   }
,
{
		   "cell_type": "markdown",
		   "metadata": {},
		   "source": [
			"## Example 3.14: AIR_STANDARD_EFFICIENCY.sce"
		   ]
		  },
  {
"cell_type": "code",
	   "execution_count": null,
	   "metadata": {
	    "collapsed": true
	   },
	   "outputs": [],
"source": [
"clc\n",
"clear\n",
"//Input data\n",
"p1=1//Pressure at intake in kg/cm^2\n",
"T1=100+273//Intake temperature in K\n",
"r=10//Compression ratio\n",
"p3=70//Maximum pressure of the cycle in kg/cm^2\n",
"q=400//Amount of heat added in kcal/kg of air\n",
"Cp=0.24//Specific heat at constant pressure in kJ/kg.K\n",
"Cv=0.17//Specific heat at constant volume in kJ/kg.K\n",
"g=1.41//Ratio of specific heats\n",
"\n",
"//Calculations\n",
"T2=(T1*r^(g-1))//Temperature at the end of compression in K\n",
"p2=(p1*r^g)//Pressure at the end of compression in kg/cm^2\n",
"T3=T2*(p3/p2)//Temperature at the end of constant volume heat addition in K\n",
"qv=(Cv*(T3-T2))//Heat added at constant volume in kcal/kg\n",
"qp=(q-qv)//Heat added at constant pressure in kcal/kg\n",
"T4=(qp/Cp)+T3//Temperature at the end of constant pressure heat supply in K\n",
"k=(T4/T3)//Cut off ratio\n",
"T5=T4/(r/k)^(g-1)//Temperature at the end of expansion in K\n",
"qv2=Cv*(T5-T1)//Heat added at constant volume in kcal/kg\n",
"W=q-qv2//Workdone in kcal/kg of air\n",
"na=(W/q)*100//Air standard efficiency in percent\n",
"\n",
"//Output\n",
"printf('The temperature at the five cardinal points of the cycle are : \n point 1 is %3.0f K \n point 2 is %3.0f K \n point 3 is %3.0f K \n point 4 is %3.0f K \n point 5 is %3.0f K \n\n The air standard efficiency of the engine is %3.1f percent',T1,T2,T3,T4,T5,na)"
   ]
   }
,
{
		   "cell_type": "markdown",
		   "metadata": {},
		   "source": [
			"## Example 3.15: WORK_DONE_AND_EFFICIENCY.sce"
		   ]
		  },
  {
"cell_type": "code",
	   "execution_count": null,
	   "metadata": {
	    "collapsed": true
	   },
	   "outputs": [],
"source": [
"clc\n",
"clear\n",
"//Input data\n",
"r=12//Compression ratio\n",
"p1=0.955//Pressure at the start of compression in kg/cm^2\n",
"T1=85+273//Temperature at the start of compression in K\n",
"p3=55//Maximum pressure of the cycle in kg/cm^2\n",
"x=(1/30)//Constant pressure heat reception contnues for 1/30 of the stroke\n",
"Cp=0.238//Specific heat at constant pressure in kJ/kg.K\n",
"Cv=0.17//Specific heat at constant volume in kJ/kg.K\n",
"g=1.4//Ratio of specific heats\n",
"\n",
"//Calculations\n",
"T2=T1*r^(g-1)//Temperature at the end of compression in K\n",
"p2=(p1*r^g)//Pressure at the end of compression in kg/cm^2\n",
"T3=T2*(p3/p2)//Temperature at the end of constant volume heat addition in K\n",
"T4=(T3*((p1+x*(r-1))/p1))//Temperature at the end of constant pressure heat supply in K\n",
"T5=T4*((p1+x*(r-1))/r)^(g-1)//Temperature at the end of expansion in K\n",
"qs=(Cv*(T3-T2))+(Cp*(T4-T3))//Heat supplied in kcal/kg of air\n",
"qre=(Cv*(T5-T1))//Heat rejected in kcal/kg of air\n",
"W=(qs-qre)//Workdone in kcal/kg of air\n",
"an=((qs-qre)/qs)*100//Air standard efficiency in percent\n",
"\n",
"//Ouptut\n",
"printf('The wordone per kg of air is %3.2f kcal \n The ideal thermal efficiency is %3.1f percent',W,an)\n",
""
   ]
   }
,
{
		   "cell_type": "markdown",
		   "metadata": {},
		   "source": [
			"## Example 3.16: TEMPERATURE_AND_EFFICIENCY.sce"
		   ]
		  },
  {
"cell_type": "code",
	   "execution_count": null,
	   "metadata": {
	    "collapsed": true
	   },
	   "outputs": [],
"source": [
"clc\n",
"clear\n",
"//Input data\n",
"p1=1//Pressure of air intake in kg/cm^2\n",
"T1=50+273//Temperature of air intake in K\n",
"v=(1/14)//Volume compresses by it adiabatically of its original volume\n",
"x=2//During the first stage, the pressure increases at constant volume to twice the pressure of the adiabatc compression, and during the second stage the volume is increased twice the clearance volume at constant pressure\n",
"r=(1/v)//Compression ratio\n",
"Cp=0.237//Specific heat at constant pressure in kJ/kg.K\n",
"Cv=0.169//Specific heat at constant volume in kJ/kg.K\n",
"g=1.4//Ratio of specific heats for air\n",
"\n",
"//Calculations\n",
"T2=T1*r^(g-1)//Temperature at the end of compression in K\n",
"p2=(p1*r^g)//Pressure at the end of compression in kg/cm^2\n",
"p3=x*p2//Pressure at the end of the heat addition at constant volume in kg/cm^2\n",
"T3=T2*(p3/p2)//Temperature at the end of constant volume heat addition in K\n",
"T4=(T3*x)//Temperature at the end of constant pressure heat supply in K\n",
"T5=T4/(r/x)^(g-1)//Temperature at the end of expansion in K\n",
"qs=(Cv*(T3-T2))+(Cp*(T4-T3))//Heat supplied in kcal/kg of air\n",
"qre=(Cv*(T5-T1))//Heat rejected in kcal/kg of air\n",
"na=((qs-qre)/qs)*100//Air standard efficiency in percent\n",
"T=[T1-273,T2-273,T3-273,T4-273,T5-273]//Temperature at the five key points in degree C\n",
"\n",
"//Output\n",
"printf('(a) The temperature at the five key points of the cycle are : \n point 1 is %3.0f K = %3.0f degree C \n point 2 is %3.0f K = %3.0f degree C \n point 3 is %3.0f K = %3.0f degree C \n point 4 is %3.0f K = %3.0f degree C \n point 5 is %3.0f K = %3.0f degree C \n\n (b) The ideal thermal efficiency of the cycle is %3.2f percent',T1,T(1),T2,T(2),T3,T(3),T4,T(4),T5,T(5),na)\n",
""
   ]
   }
,
{
		   "cell_type": "markdown",
		   "metadata": {},
		   "source": [
			"## Example 3.18: MEAN_EFFECTIVE_PRESSURE.sce"
		   ]
		  },
  {
"cell_type": "code",
	   "execution_count": null,
	   "metadata": {
	    "collapsed": true
	   },
	   "outputs": [],
"source": [
"clc\n",
"clear\n",
"//Input data\n",
"n=6//Six cylinder engine\n",
"r=5//Compression ratio\n",
"Vc=110//Clearance volume in c.c\n",
"a=0.66//Efficiency ratio referred to the air standard cycle\n",
"N=2400//Speed in r.p.m\n",
"m=9.9//Mass of petrol in kg\n",
"CV=10600//Calorific value of fuel in kcal/kg\n",
"g=1.4//Ratio of specific heats\n",
"\n",
"//Calculations\n",
"Vs=(r*Vc-Vc)//Swept Volume in c.c\n",
"na=(1-(1/r)^(g-1))*100//Air standard efficiency in percent\n",
"nt=(na/100)*a//Thermal efficiency \n",
"IHP=(nt*CV*m*427)/(4500*60)//Indicated Horse Power in h.p\n",
"pm=(((IHP/n)*4500*100*2)/(Vs*N))//Average indicated mean effective pressure in kg/cm^2\n",
"\n",
"//Output\n",
"printf('The average indicated mean effective pressure in each cylinder is %3.3f kg/cm^2',pm)"
   ]
   }
,
{
		   "cell_type": "markdown",
		   "metadata": {},
		   "source": [
			"## Example 3.19: CYLINDER_SIZES.sce"
		   ]
		  },
  {
"cell_type": "code",
	   "execution_count": null,
	   "metadata": {
	    "collapsed": true
	   },
	   "outputs": [],
"source": [
"clc\n",
"clear\n",
"//Input data\n",
"n=4//Four cylinder engine\n",
"BHP=40//Brake horse power in h.p\n",
"N=3000//Speed in r.p.m\n",
"nm=70//Mechanical efficiency in percent\n",
"pm=13.5//Indicated mean effective pressure in kg/cm^2\n",
"//Bore is equal to stroke\n",
"\n",
"//Calculations\n",
"//case(i)\n",
"d1=((BHP*100*4500*n*2)/(n*(nm/100)*pm*N*3.14))^(1/3)//Cylinder bore or stroke length in cm\n",
"\n",
"//Case(ii)\n",
"d2=((BHP*100*4500*n)/(n*(nm/100)*pm*N*3.14))^(1/3)*10//Cylinder bore or stroke length in cm\n",
"\n",
"//Output\n",
"printf('The cylinder sizes for a bore equal to stroke of a four cylinder in case of \n (i)Four stroke engine is %3.1f cm \n (ii)Two stroke engine is %3.0f mm',d1,d2)"
   ]
   }
,
{
		   "cell_type": "markdown",
		   "metadata": {},
		   "source": [
			"## Example 3.1: AUR_STANDARD_EFFICIENCY.sce"
		   ]
		  },
  {
"cell_type": "code",
	   "execution_count": null,
	   "metadata": {
	    "collapsed": true
	   },
	   "outputs": [],
"source": [
"clc\n",
"clear\n",
"//Input data\n",
"p=[1,8]//Pressure at the beginning and end of compression in kg/m^3\n",
"g=1.4//Ratio of specific heats\n",
"\n",
"//Calculations\n",
"r=(p(2)/p(1))^(1/g)//Compression ratio\n",
"n=(1-(1/r)^(g-1))*100//Air standard efficiency in percent\n",
"\n",
"//Output\n",
"printf('Air standard efficiency of an engine working on the Otto cycle is %3.1f percent',n)"
   ]
   }
,
{
		   "cell_type": "markdown",
		   "metadata": {},
		   "source": [
			"## Example 3.20: THERMAL_EFFICIENCY.sce"
		   ]
		  },
  {
"cell_type": "code",
	   "execution_count": null,
	   "metadata": {
	    "collapsed": true
	   },
	   "outputs": [],
"source": [
"clc\n",
"clear\n",
"//Input data\n",
"T=[50+273,345+273]//Temperatures at the beginning and end of compression in K\n",
"g=1.4//ratio of specific heats \n",
"IHP=25//Indicated horse power in h.p\n",
"m=5.44//Mass of fuel consumed per hour in kg\n",
"CV=10300//Calorific value in kcal/kg\n",
"\n",
"//Calculations\n",
"na=(1-(T(1)/T(2)))*100//Air standard efficiency in percent\n",
"r=(T(2)/T(1))^(1/(g-1))//Compression ratio\n",
"qIHP=(IHP*4500)/427//Heat equivalent of I.H.P in kcal/min\n",
"q=(m*CV)/60//Heat supplied per minute in kcal/min\n",
"Ith=(qIHP/q)*100//Indicated thermal efficiency in percent\n",
"nr=(Ith/na)*100//Efficiency ratio\n",
"\n",
"//Output\n",
"printf('The air standard efficiency is %3.1f percent \n The compression ratio is %3.2f \n Indicated thermal efficiency is %3.1f percent \n Efficiency ratio is %3.1f percent',na,r,Ith,nr)"
   ]
   }
,
{
		   "cell_type": "markdown",
		   "metadata": {},
		   "source": [
			"## Example 3.21: COMPRESSION_RATIO.sce"
		   ]
		  },
  {
"cell_type": "code",
	   "execution_count": null,
	   "metadata": {
	    "collapsed": true
	   },
	   "outputs": [],
"source": [
"clc\n",
"clear\n",
"//Input data\n",
"CV=10000//Calorific value of petrol in kcal/kg\n",
"pe=[30,70]//Percentage of compression strokes in percent\n",
"p=[1.33,2.66]//Pressures in the cylinder corresponding to the compression strokes in kg/cm^2\n",
"n=1.33//Polytropic constant\n",
"rn=50//Relative efficiency in percent\n",
"g=1.4//ratio of specific heats\n",
"\n",
"//Calculations\n",
"v=(p(2)/p(1))^(1/n)//Ratio of specific volumes\n",
"r=((pe(2)/100)*v-(pe(1)/100))/((pe(2)/100)-((pe(1)/100)*v))//Compression ratio\n",
"na=(1-(1/r)^(g-1))*100//Air standard efficiency in percent\n",
"ith=(rn*na)/100//Indicated thermal efficiency in percent\n",
"q=(4500*60)/(427*(ith/100))//Heat supplied in kcal/i.h.p.hr\n",
"Sc=(q/CV)//Specific consumption in kg/i.h.p.hr\n",
"\n",
"//Output\n",
"printf('Compression ratio is %3.2f \n Specific consumption is %3.3f kg/i.h.p.hr',r,Sc)"
   ]
   }
,
{
		   "cell_type": "markdown",
		   "metadata": {},
		   "source": [
			"## Example 3.22: EFFICIENCY.sce"
		   ]
		  },
  {
"cell_type": "code",
	   "execution_count": null,
	   "metadata": {
	    "collapsed": true
	   },
	   "outputs": [],
"source": [
"clc\n",
"clear\n",
"//Input data\n",
"n=4//Four cylinder four stroke\n",
"d=7.5//Bore in cm\n",
"L=8.75//Stroke in cm\n",
"r=6//Compression ratio\n",
"n1=55//Efficiency in percent\n",
"g=1.4//ratio of specific heats\n",
"N=2400//Speed in r.p.m\n",
"pm=7//Brake mean effective pressure in kg/cm^2\n",
"m=9//Mass of fuel per hour in kg\n",
"CV=10500//Calorific Value in kcal/kg\n",
"\n",
"//Calculations\n",
"an=(1-(1/r)^(g-1))*100//Air standard efficiency in percent\n",
"In=(an*n1)/100//Indicated thermal efficiency in percent. In textbook, answer is wrong\n",
"BHP=(pm*(3.14/4)*d^2*(L/100)*(N/2)*n)//Brake horse power in kg.m/min\n",
"Bth=((BHP*60)/(427*CV*m))*100//Brake thermal efficiency in percent\n",
"nm=(Bth/In)*100//Mechanical efficiency in percent\n",
"Sc=((4500*60)/(427*(Bth/100)*CV))//Specific consumption in g/i.h.p.hr\n",
"\n",
"//Output\n",
"printf('Indicated thermal efficiency is %3.1f percent \n Brake thermal efficiency is %3.1f percent \n Mechanical efficiency is %3.1f percent \n Specific fuel consumption is %3.3f kg/i.h.p.hr',In,Bth,nm,Sc)"
   ]
   }
,
{
		   "cell_type": "markdown",
		   "metadata": {},
		   "source": [
			"## Example 3.26: PERCENTAGE_CHANGE_IN_EFFICIENCY.sce"
		   ]
		  },
  {
"cell_type": "code",
	   "execution_count": null,
	   "metadata": {
	    "collapsed": true
	   },
	   "outputs": [],
"source": [
"clc\n",
"clear\n",
"//Input data\n",
"r=7//Compression ratio\n",
"v=1//Specific heat at constant volume increases by 1 percent\n",
"g=1.4//Ratio of specific heats\n",
"\n",
"//Calculations\n",
"e=(1-(1/r^(g-1)))//Air standard efficiency\n",
"dee=-(((1-e)*(g-1)*log(r)*(v/100))/e)*100//Change in efficiency to the original efficiency\n",
"x=-(dee)//For Output purpose\n",
"\n",
"//Output\n",
"printf('Percentage change is efficiency is %3.2f percent i.e., a decrease of %3.2f percent',dee,x)"
   ]
   }
,
{
		   "cell_type": "markdown",
		   "metadata": {},
		   "source": [
			"## Example 3.2: THERMAL_EFFICIENCY.sce"
		   ]
		  },
  {
"cell_type": "code",
	   "execution_count": null,
	   "metadata": {
	    "collapsed": true
	   },
	   "outputs": [],
"source": [
"clc\n",
"clear\n",
"//Input data\n",
"D=0.25//Bore in m\n",
"L=0.45//Stroke in m\n",
"Cv=5//Clearance volume in litres\n",
"g=1.4//Ratio of specific heats\n",
"IHP=32//Indicated Horse power in h.p\n",
"m=14//Gas consumption in m^3/hr\n",
"CV=4000//Calorific value of gas in kcal/m^3\n",
"\n",
"//Calculations\n",
"Vs=(3.14/4)*D^2*L//Stroke volume in m^3\n",
"Vc=Cv/1000//Clearance volume in m^3\n",
"r=(Vs+Vc)/Vc//Compression ratio\n",
"na=(1-(1/r)^(g-1))*100//Air standard efficiency in percent\n",
"q=(m*CV)/60//Heat supplied in kcal/min\n",
"aI=(IHP*4500)/427//Heat equivalent of I.H.P in kcal/min\n",
"itn=(aI/q)*100//Indicated thermal efficiency in percent\n",
"rn=(itn/na)*100//Relative efficiency in percent\n",
"\n",
"//Output\n",
"printf('The air standard efficiency is %3.1f percent \n Indicated thermal efficiency is %3.1f percent \n Relative efficiency is %3.1f percent',na,itn,rn)\n",
" "
   ]
   }
,
{
		   "cell_type": "markdown",
		   "metadata": {},
		   "source": [
			"## Example 3.30: MAXIMUM_HORSE_POWER.sce"
		   ]
		  },
  {
"cell_type": "code",
	   "execution_count": null,
	   "metadata": {
	    "collapsed": true
	   },
	   "outputs": [],
"source": [
"clc\n",
"clear\n",
"//Input data\n",
"N=210//Speed in r.p.m\n",
"d=0.3//Diameter of the piston in m\n",
"L=0.4//Stroke in m\n",
"v=2.5//Clearance volume is 2.5% of the swept volume. But in textbook it is given wrong as 25%\n",
"CO=19.7//Percentage of CO gas\n",
"H2=28.8//Percentage of H2 gas\n",
"CO2=14.4//Percentage of CO2 gas\n",
"N2=37.1//Percentage of N2 gas\n",
"x=0.875//Total mixture at N.T.P admitted per suction stroke is 0.875 of the total volume behind the piston at the end of the stroke\n",
"tn=35//Thermal efficiency in percent\n",
"CVH2=13200//Calorific value of H2 per kg in kcal\n",
"CVC=2540//Calorific value of carbon burning from CO to CO2 in kcal/kg\n",
"de=1.293//Density of air in kg/m^3\n",
"mC=12//Molecular weight of carbon\n",
"mO2=32//Molecular weight of O2\n",
"mH2=2//Molecular weight of H2\n",
"mCO=28//Molecular weight of CO\n",
"\n",
"//Calculations\n",
"a=((100/21)*((CO2/100)+((CO/2)/100)))//Air per cu.m of gas in cu.m\n",
"Vm=(a+1)//Volume of mixture per cu.m of gas in cu.m\n",
"Vs=((3.14/4)*d^2*L)//Swept volume in cu.m\n",
"Vc=(Vs*v)/100//Clearance volume in cu.m\n",
"V=Vc+Vs//Total volume in cu.m\n",
"VC=V*x//Volume of charge admitted per stroke in cu.m\n",
"VM=VC*(N/2)//Charge volume per minute in cu.m\n",
"VG=(VM/Vm)//cu.m of gas per minute\n",
"vH2=(VG*(H2/100))//Volume of H2 per minute in cu.m\n",
"vCO=(VG*(CO/100))//Volume of CO per minute in cu.m\n",
"CVH2cum=(mH2*CVH2)/(vH2*1000)//Calorific value of H2 per cu.m in kcal\n",
"CVCO=(CVC*(2*mC)/(2*mCO))//Calorific value of CO per kg in kcal\n",
"CVCOcum=(mCO*CVCO)/(vH2*1000)//Calorific value of CO per cu.m in kcal\n",
"qH2=(16.09*CVH2cum)//Heat in charge due to H2 in kcal\n",
"qCO=(11*CVCOcum)//Heat in charge due to CO in kcal\n",
"qt=(qH2+qCO)//Heat supplied per minute in kcal\n",
"qu=(qt*(tn/100))//Heat utilised in kcal\n",
"hp=(qu*427)/4500//H.P developed\n",
"\n",
"//Output\n",
"printf('Maximum horse power that can be developed is %3.1f H.P',hp)"
   ]
   }
,
{
		   "cell_type": "markdown",
		   "metadata": {},
		   "source": [
			"## Example 3.31: AIR_FUEL_RATIO.sce"
		   ]
		  },
  {
"cell_type": "code",
	   "execution_count": null,
	   "metadata": {
	    "collapsed": true
	   },
	   "outputs": [],
"source": [
"clc\n",
"clear\n",
"//Input data\n",
"vCH4=65//Composition by volume of CH4 \n",
"vH2=2//Composition by volume of H2\n",
"vN2=2//Composition by volume of N2\n",
"vCO2=31//Composition by volume of CO2\n",
"O2=5.3//Composition of O2 in dry exhaust gases when analysed in orsat apparatus\n",
"N2=83//Composition of N2 in dry exhaust gases when analysed in orsat apparatus\n",
"CO=0.3//Composition of CO in dry exhaust gases when analysed in orsat apparatus\n",
"CO2=11.4//Composition of CO2 in dry exhaust gases when analysed in orsat apparatus\n",
"an=79//Air contains 79% by volume of nitrogen \n",
"\n",
"//Calculations\n",
"a=(100/(100-an))*(((vCH4/100)*2)+((vN2/100)*(1/2)))//Total air required for complete combustion of 1 cu.m of gas in cu.m\n",
"xCO=(CO/2)//O2 required to burn the CO in cu.m\n",
"xCO2=CO//CO2 formed in cu.m \n",
"tO2=O2-xCO//Total O2 in cu.m\n",
"tN2=N2//Total N2 in cu.m\n",
"tCO2=CO2+xCO2//Total CO2 in cu.m\n",
"T=tO2+tN2+tCO2//Total mixture in cu.m\n",
"pCO2=(tCO2*100)/T//Percentage of CO2 in percent\n",
"mm=(a*100)//Minimum air supply required for complete combustion of 100 cu.m of the gas in cu.m\n",
"an2=(an/100)*mm//N2 for this air in cu.m\n",
"tn2=(an2+vN2)//Total N2 in cu.m\n",
"v=(((vCH4+vCO2)*100)/pCO2)-(vCH4+vCO2+tn2)//Increase in air supply for reduction in percentage of CO2 in cu.m\n",
"pea=(v*100)/mm//Percentage of excess air. In textbook it is given wrong as 26.7 percent\n",
"\n",
"//Output\n",
"printf('(a) the air-fuel ratio by volume to give complete combustion is %3.3f \n (b) the percentage of excess air actually used in the test is %3.1f percent',a,pea)"
   ]
   }
,
{
		   "cell_type": "markdown",
		   "metadata": {},
		   "source": [
			"## Example 3.32: AIR_GAS_RATIO.sce"
		   ]
		  },
  {
"cell_type": "code",
	   "execution_count": null,
	   "metadata": {
	    "collapsed": true
	   },
	   "outputs": [],
"source": [
"clc\n",
"clear\n",
"//Input data\n",
"Vs=9.45//Swept volume in litres\n",
"Vc=2.32//Clearance volume in litres\n",
"m=4.25//Consumption of gas per hour in cu.m\n",
"N=165//Speed in r.p.m\n",
"bhp=5.62//Brake horse power in h.p\n",
"nm=73.4//Mechanical efficiency in percent\n",
"CV=3500//Calorific value in kcal per cubic meter\n",
"vn=0.87//Volumetric efficiency\n",
"g=1.4//Ratio of specific heats\n",
"\n",
"//Calculations\n",
"tV=(Vs+Vc)*1000//Total volume in c.c\n",
"rc=(tV/Vc)//Compression ratio\n",
"na=(1-(1/rc^(g-1)))*100//Air atandard efficiency in percent\n",
"W=(bhp*4500)/427//Workdone per minute in kcal\n",
"Iw=(W/(nm/100))//Indicated work in kcal/min\n",
"q=(m/60)*CV//Heat supplied in kcal/min\n",
"ith=(Iw/q)*100//Indicated thermal efficiency in percent\n",
"rn=(ith/na)*100//Relative efficiency in percent\n",
"Vm=(Vs*1000)*vn//Volume of mixture taken in per stroke in c.c\n",
"Vg=(m*2*10^6)/(60*N)//Volume of gas taken in per stroke in c.c\n",
"Va=(Vm-Vg)//Volume of air taken in per stroke in c.c\n",
"agr=(Va/Vg)//Air gas ratio\n",
"CVc=(CV/(agr+1))//Calorific value of charge in kcal\n",
"\n",
"//Output\n",
"printf('Ratio of air to gas used is %3.2f \n Calorific value of 1 cu.m of the mixture in the cylinder is %3.1f kcal',agr,CVc)"
   ]
   }
,
{
		   "cell_type": "markdown",
		   "metadata": {},
		   "source": [
			"## Example 3.33: FRICTION_HORSE_POWER.sce"
		   ]
		  },
  {
"cell_type": "code",
	   "execution_count": null,
	   "metadata": {
	    "collapsed": true
	   },
	   "outputs": [],
"source": [
"clc\n",
"clear\n",
"//Input data\n",
"d=18//Bore in cm\n",
"l=37.5//Stroke in cm\n",
"N=220//Speed in r.p.m\n",
"//Mean effective pressure in kg/cm^2\n",
"//Firing\n",
"pp=5.9//Positive loop\n",
"pn=0.248//Negative loop\n",
"//Missing\n",
"nn=0.432//Negative loop\n",
"bhp=8.62//Brake horse power in h.p\n",
"ex=100//Explosions per minute\n",
"vg=0.101//Gas used in cu.m per minute\n",
"\n",
"//Calculations\n",
"tc=(N/2)//The number of cycles \n",
"nw=ex//Number of working cycles \n",
"nm=(tc-nw)//Number of missing cycles\n",
"ihp=((l/100)*(3.14/4)*(d^2/4500))*((pp-pn)*(100-nn))//Net I.H.P in h.p\n",
"fhp=(ihp-bhp)//Friction horse power in h.p\n",
"W=((pp-pn)*(3.14/4)*(d^2*(l/100)))//Workdone per firing done in kg.m\n",
"Wp=(nn*(3.14/4)*d^2*(l/100))//Workdone per pumping stroke in kg.m\n",
"n=((fhp*4500)+(Wp*tc))/(W+Wp)//Number of strokes\n",
"gf=(vg/nw)//Gas per firing stroke in cu.m\n",
"gl=(n*gf)//Gas per minute at no load in cu.m\n",
"\n",
"//Output\n",
"printf('Friction horse power of the engine is %3.2f \n Gas consumption at no load is %3.3f cu.m/min',fhp,gl)"
   ]
   }
,
{
		   "cell_type": "markdown",
		   "metadata": {},
		   "source": [
			"## Example 3.3: FUEL_CONSUMPTION.sce"
		   ]
		  },
  {
"cell_type": "code",
	   "execution_count": null,
	   "metadata": {
	    "collapsed": true
	   },
	   "outputs": [],
"source": [
"clc\n",
"clear\n",
"//Input data\n",
"r=6//Compression ratio\n",
"It=0.6//Indicated thermal efficiency ratio\n",
"CV=10000//Calorific value in kcal/kg\n",
"g=1.4//Ratio of specific heats\n",
"\n",
"//Calculations\n",
"an=(1-(1/r)^(g-1))*100//Air standard efficiency in percent\n",
"In=(It*(an/100))//Indicated thermal efficiency \n",
"SFC=((4500*60)/(427*CV*In))//Specific fuel consumption in kg/I.H.P.hr\n",
"\n",
"//Output\n",
"printf('Specific fuel consumption is %3.3f kg/I.H.P. hr',SFC)"
   ]
   }
,
{
		   "cell_type": "markdown",
		   "metadata": {},
		   "source": [
			"## Example 3.4: RATIO.sce"
		   ]
		  },
  {
"cell_type": "code",
	   "execution_count": null,
	   "metadata": {
	    "collapsed": true
	   },
	   "outputs": [],
"source": [
"clc\n",
"clear\n",
"//Input data\n",
"T=[100+273,473+273]//Temperatures at the beginning and at the end of adiabatic compression in K\n",
"g=1.4//Ratio of specific heats\n",
"\n",
"//Calculations\n",
"an=(1-(T(1)/T(2)))*100//Air standard efficiency in percent \n",
"r=(T(2)/T(1))^(1/(g-1))//Compression ratio\n",
"\n",
"//Output\n",
"printf('The compression ratio is %3.2f \n Air standard efficiency is %i percent',r,an)"
   ]
   }
,
{
		   "cell_type": "markdown",
		   "metadata": {},
		   "source": [
			"## Example 3.5: AIR_STANDARD_EFFICIENCY.sce"
		   ]
		  },
  {
"cell_type": "code",
	   "execution_count": null,
	   "metadata": {
	    "collapsed": true
	   },
	   "outputs": [],
"source": [
"clc\n",
"clear\n",
"//Input data\n",
"T1=45+273//Temperature at the beginning of compression in K\n",
"p1=1//Pressure at the beginning of compression in kg/cm^2\n",
"T2=325+273//Temperature at the end of compression in K\n",
"T3=1500+273//Temperature at the end of constant volume heat addition in K\n",
"g=1.4//Ratio of specific heats\n",
"\n",
"//Calculations\n",
"r=(T2/T1)^(1/(g-1))//Compression ratio\n",
"an=(1-(1/r)^(g-1))*100//Air standard efficiency in percent\n",
"p2=(p1*r^g)//Pressure at the end of compression in kg/cm^2\n",
"p3=(p2*(T3/T2))//Pressure at the end of constant volume heat addition in kg/cm^2\n",
"p4=p3/p2//Pressure at the end of adiabatic expansion in kg/cm^2\n",
"T4=T3/r^(g-1)//Temperature at the end of adiabatic expansion in K\n",
"t4=T4-273//Temperature at the end of adiabatic expansion in degree C\n",
"\n",
"//Output\n",
"printf('The air standard efficiency is %3.1f percent \n Temperature at the end of adiabatic expansion is %i degree C \n Pressure at the end of adiabatic expansion is %3.0f kg/cm^2',an,t4,p4)"
   ]
   }
,
{
		   "cell_type": "markdown",
		   "metadata": {},
		   "source": [
			"## Example 3.6: HEAT_AND_WORK.sce"
		   ]
		  },
  {
"cell_type": "code",
	   "execution_count": null,
	   "metadata": {
	    "collapsed": true
	   },
	   "outputs": [],
"source": [
"clc\n",
"clear\n",
"//Input data\n",
"T1=40+273//Temperature at the beginning of compression in K\n",
"p1=1//Pressure at the beginning of compression in kg/cm^2\n",
"p2=15//Pressure at the end of adabatic compression in kg/cm^2\n",
"T3=2000+273//Maximum temperature during the cycle in K\n",
"Cv=0.17//Specific heat at constant volume in kJ/kg.K\n",
"g=1.4//Ratio of specific heats\n",
"\n",
"//Calculations\n",
"T2=T1*(p2/p1)^((g-1)/g)//Temperature at the end of adabatic compression in K\n",
"na=(1-(T1/T2))*100//Air standard efficiency in percent\n",
"q=(Cv*(T3-T2))//Heat added in kcal/kg of air\n",
"W=((na/100)*q)//Workdone per kg of air in kcal\n",
"W1=(4.28*W)//Workdone per kg of air in kg.m\n",
"p3=(p2*(T3/T2))//Pressure at the end of constant volume heat addition in kg/cm^2\n",
"p4=(p3*p1)/p2//Pressure at the end of adiabatic expansion in kg/cm^2\n",
"\n",
"//Output\n",
"printf('(a) The heat supplied is %3.0f kcal/kg of air \n (b) The workdone is %i kcal/kg of air \n (c) The pressure at the end of adiabatic expansion is %3.2f kg/cm^2',q,W,p4)"
   ]
   }
,
{
		   "cell_type": "markdown",
		   "metadata": {},
		   "source": [
			"## Example 3.7: AIR_STANDARD_EFFICIENCY.sce"
		   ]
		  },
  {
"cell_type": "code",
	   "execution_count": null,
	   "metadata": {
	    "collapsed": true
	   },
	   "outputs": [],
"source": [
"clc\n",
"clear\n",
"//Input data\n",
"r=16//Compression ratio\n",
"k=5//Cut off takes place at 5% of the stroke\n",
"g=1.4//Ratio of specific heats\n",
"\n",
"//Calculations\n",
"c=(((k/100)*(r-1))+1)//Cut off ratio\n",
"na=(1-((1/r^(g-1))*((c^g-1)/(g*(c-1)))))*100//Air standard efficiency in percent\n",
"\n",
"//Output\n",
"printf('The air standard efficiency is %3.1f percent',na)"
   ]
   }
,
{
		   "cell_type": "markdown",
		   "metadata": {},
		   "source": [
			"## Example 3.8: THERMAL_EFFICIENCY.sce"
		   ]
		  },
  {
"cell_type": "code",
	   "execution_count": null,
	   "metadata": {
	    "collapsed": true
	   },
	   "outputs": [],
"source": [
"clc\n",
"clear\n",
"//Input data\n",
"p1=1.05//Inlet pressure in kg/cm^2\n",
"T1=15+273//Inlet temperature in K\n",
"p2=33.4//Pressure at the end of adiabatic compression in kg/cm^2\n",
"r=5//The ratio of expansion\n",
"Cp=0.238//Specific heat at constant pressure in kJ/kg.K\n",
"Cv=0.17//Specific heat at constant volume in kJ/kg.K\n",
"g=1.4//Ratio of specific heats\n",
"\n",
"//Calculations\n",
"r1=(p2/p1)^(1/g)//Compression ratio\n",
"k=r1/r//Cutoff ratio\n",
"T2=(p2/p1)^((g-1)/g)*T1//Temperature at the end of adiabatic compression in K\n",
"T3=T2*k//Temperature at the end of constant pressure heat addition in K\n",
"T4=T3*(1/r)^(g-1)//Temperature at the end of adiabatic expansion in K\n",
"qa=(Cp*(T3-T2))//Heat added in kcal/kg of air\n",
"qre=(Cv*(T4-T1))//Heat rejected in kcal/kg of air\n",
"nt=((qa-qre)/qa)*100//Ideal thermal efficiency in percent\n",
"\n",
"//Output\n",
"printf('The ideal thermal efficiency is %3.1f percent',nt)"
   ]
   }
,
{
		   "cell_type": "markdown",
		   "metadata": {},
		   "source": [
			"## Example 3.9: TEMPERATURE_AND_EFFICIENCY.sce"
		   ]
		  },
  {
"cell_type": "code",
	   "execution_count": null,
	   "metadata": {
	    "collapsed": true
	   },
	   "outputs": [],
"source": [
"clc\n",
"clear\n",
"//Input data\n",
"p1=1//Pressure at the end of suction stroke in kg/cm^2\n",
"T1=30+273//Temperature at the end of suction stroke in kg/cm^2\n",
"T3=1500+273//Maximum temperature during the cycle in K\n",
"r=16//Compression ratio\n",
"Cp=0.24//Specific heat at constant pressure in kJ/kg.K\n",
"Cv=0.17//Specific heat at constant volume in kJ/kg.K\n",
"g=1.41//Ratio of specific heats\n",
"\n",
"//Calculations\n",
"T2=T1*r^(g-1)//Temperature at the end of adiabatic compression in K\n",
"s=(((T3/T2)-1)/(r-1))*100//Percentage of the stroke at which cut off occurs\n",
"r1=(r/(T3/T2))//Expansion ratio\n",
"T4=T3/(r1)^(g-1)//Temperature at the end of adiabatic expansion in K\n",
"qa=(Cp*(T3-T2))//Heat added in kcal/kg of air\n",
"qre=(Cv*(T4-T1))//Heat rejected in kcal/kg of air\n",
"nt=((qa-qre)/qa)*100//Air standard efficiency in percent\n",
"\n",
"//Output\n",
"printf('(a) The percentage of stroke at which cut off takes place is %3.2f percent \n (b) The temperature at the end of expansion stroke is %3.0f K \n (c) The theoretical efficiency is %3.0f percent',s,T4,nt) "
   ]
   }
],
"metadata": {
		  "kernelspec": {
		   "display_name": "Scilab",
		   "language": "scilab",
		   "name": "scilab"
		  },
		  "language_info": {
		   "file_extension": ".sce",
		   "help_links": [
			{
			 "text": "MetaKernel Magics",
			 "url": "https://github.com/calysto/metakernel/blob/master/metakernel/magics/README.md"
			}
		   ],
		   "mimetype": "text/x-octave",
		   "name": "scilab",
		   "version": "0.7.1"
		  }
		 },
		 "nbformat": 4,
		 "nbformat_minor": 0
}
