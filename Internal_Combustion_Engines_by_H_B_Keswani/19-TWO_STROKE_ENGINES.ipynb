{
"cells": [
 {
		   "cell_type": "markdown",
	   "metadata": {},
	   "source": [
       "# Chapter 19: TWO STROKE ENGINES"
	   ]
	},
{
		   "cell_type": "markdown",
		   "metadata": {},
		   "source": [
			"## Example 19.3: PROPERTIES.sce"
		   ]
		  },
  {
"cell_type": "code",
	   "execution_count": null,
	   "metadata": {
	    "collapsed": true
	   },
	   "outputs": [],
"source": [
"clc\n",
"clear\n",
"//Input data\n",
"d=11.25//Bore in cm\n",
"l=15//Stroke in cm\n",
"r=7//Compression ratio\n",
"N=1800//Speed in r.p.m\n",
"a=4.5//Air supply in kg/min\n",
"Ta=72+273//Temperature of air in K\n",
"af=14.3//Air fuel ratio\n",
"ep=1//Exhaust pressure in kg/cm^2\n",
"R=29.27//Characteristic gas constant in kg.m/kg.degree C\n",
"\n",
"//Calculations\n",
"Vc=((r/(r-1))*(3.14/4)*(d/100)^2*(l/100))//Swept volume in m^3\n",
"Wa=(Vc*N*ep*10^4)/(R*Ta)//Ideal air capacity in kg/min\n",
"sr=(a/Wa)//Scavenging ratio\n",
"sn=(1-exp(-sr))//Scavenging efficiency \n",
"nt=(sn/sr)//Trapping efficiency\n",
"\n",
"//Output\n",
"printf('(a) Ideal air capacity is %3.2f kg/min \n (b) Scavenging ratio is %3.2f \n (c) Scavenging efficiency is %3.3f \n (d) Trapping efficiency is %3.2f',Wa,sr,sn,nt)"
   ]
   }
],
"metadata": {
		  "kernelspec": {
		   "display_name": "Scilab",
		   "language": "scilab",
		   "name": "scilab"
		  },
		  "language_info": {
		   "file_extension": ".sce",
		   "help_links": [
			{
			 "text": "MetaKernel Magics",
			 "url": "https://github.com/calysto/metakernel/blob/master/metakernel/magics/README.md"
			}
		   ],
		   "mimetype": "text/x-octave",
		   "name": "scilab",
		   "version": "0.7.1"
		  }
		 },
		 "nbformat": 4,
		 "nbformat_minor": 0
}
