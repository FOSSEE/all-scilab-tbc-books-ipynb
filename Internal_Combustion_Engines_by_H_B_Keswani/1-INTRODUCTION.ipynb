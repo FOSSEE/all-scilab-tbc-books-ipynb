{
"cells": [
 {
		   "cell_type": "markdown",
	   "metadata": {},
	   "source": [
       "# Chapter 1: INTRODUCTION"
	   ]
	},
{
		   "cell_type": "markdown",
		   "metadata": {},
		   "source": [
			"## Example 1.1: MECHANICAL_EFFICIENCY.sce"
		   ]
		  },
  {
"cell_type": "code",
	   "execution_count": null,
	   "metadata": {
	    "collapsed": true
	   },
	   "outputs": [],
"source": [
"clc\n",
"clear\n",
"//Input data\n",
"BHP=51//Brake horse power in h.p\n",
"N=1000//Speed in r.p.m\n",
"FHP=17//Friction horse power in h.p\n",
"\n",
"//Calculations\n",
"IHP=(BHP+FHP)//Indicated Horse power in h.p\n",
"mn=(BHP/IHP)*100//Mechanical efficiency in percent\n",
"\n",
"//Output\n",
"printf('Mechanical efficiency of the engine is %i percent',mn)"
   ]
   }
,
{
		   "cell_type": "markdown",
		   "metadata": {},
		   "source": [
			"## Example 1.2: MECHANICAL_EFFICIENCY.sce"
		   ]
		  },
  {
"cell_type": "code",
	   "execution_count": null,
	   "metadata": {
	    "collapsed": true
	   },
	   "outputs": [],
"source": [
"clc\n",
"clear\n",
"//Data taken from Ex.No.1\n",
"BHP=51//Brake horse power in h.p\n",
"N=1000//Speed in r.p.m\n",
"FHP=17//Friction horse power in h.p\n",
"//Input data\n",
"O1=BHP/2//Half of b.h.p output in h.p\n",
"O2=10//Brake horse power in h.p\n",
"\n",
"//Calculations\n",
"//Case(i)\n",
"IHP1=(O1+FHP)//Indicated Horse power in h.p\n",
"mn1=(O1/IHP1)*100//Mechanical efficiency in percent\n",
"\n",
"//Case(ii)\n",
"IHP2=(O2+FHP)//Indicated Horse power in h.p\n",
"mn2=(O2/IHP2)*100//Mechanical efficiency in percent\n",
"\n",
"\n",
"//Output\n",
"printf('Mechanical efficiency of the engine when it delivers \n (a) Half the b.h.p output is %3.0f percent \n (b) 10 b.h.p is %3.0f percent',mn1,mn2)"
   ]
   }
,
{
		   "cell_type": "markdown",
		   "metadata": {},
		   "source": [
			"## Example 1.3: BRAKE_THERMAL_EFFICIENCY.sce"
		   ]
		  },
  {
"cell_type": "code",
	   "execution_count": null,
	   "metadata": {
	    "collapsed": true
	   },
	   "outputs": [],
"source": [
"clc\n",
"clear\n",
"//Input data\n",
"Fc=220//Fuel consumption in gm/(b.h.p*hr)\n",
"CV=10600//Calorific value in kcal/kg\n",
"\n",
"//Calculations\n",
"hf=(Fc/1000)*CV//Heat supplied in kcal/hr\n",
"O=632//Output in terms of kcal/hr\n",
"bn=(O/hf)*100//Brake thermal efficiency in percent\n",
"\n",
"//Output\n",
"printf('Brake thermal efficiency is %3.1f percent',bn)"
   ]
   }
,
{
		   "cell_type": "markdown",
		   "metadata": {},
		   "source": [
			"## Example 1.4: THERMAL_EFFICIENCY.sce"
		   ]
		  },
  {
"cell_type": "code",
	   "execution_count": null,
	   "metadata": {
	    "collapsed": true
	   },
	   "outputs": [],
"source": [
"clc\n",
"clear\n",
"//Input data\n",
"IHP=45//Indicated horse power in h.p\n",
"Fc=13//Fuel consumption in litres/hr\n",
"g=0.8//Specific gravity of oil\n",
"nm=80//Mechanical efficiency in percent\n",
"CV=10000//Calorific value of fuel in kcal/kg\n",
"\n",
"//Calculations\n",
"BHP=(IHP*nm)/100//Brake horse power in h.p\n",
"hi=(Fc*g*CV)//Heat supplied in kcal/hour\n",
"In=((IHP*4500*60)/(427*hi))*100//Indicated thermal efficiency in percent\n",
"Bn=(In*(nm/100))//Brake thermal efficiency in percent\n",
"\n",
"//Output\n",
"printf('Indicated thermal efficiency is %3.2f percent \n Brake thermal efficiency is %3.2f percent',In,Bn)"
   ]
   }
,
{
		   "cell_type": "markdown",
		   "metadata": {},
		   "source": [
			"## Example 1.5: FUEL_CONSUMPTION.sce"
		   ]
		  },
  {
"cell_type": "code",
	   "execution_count": null,
	   "metadata": {
	    "collapsed": true
	   },
	   "outputs": [],
"source": [
"clc\n",
"clear\n",
"//Input data\n",
"BHP=15//Brake horse power in h.p\n",
"In=28//Indicated thermal efficiency in percent\n",
"mn=75//Mechanical efficiency in percent\n",
"CV=10000//Calorific value of fuel in kcal/kg\n",
"\n",
"//Calculations\n",
"Bn=((In/100)*(mn/100))*100//Brake thermal efficiency in percent\n",
"I=(BHP/(Bn/100))*((4500*60)/427)//Input in kcal/hr\n",
"Fc=(I/CV)//Fuel consumption in kg/hr\n",
"\n",
"//Output\n",
"printf('Fuel consumption of the engine is %3.2f kg/hr',Fc)"
   ]
   }
],
"metadata": {
		  "kernelspec": {
		   "display_name": "Scilab",
		   "language": "scilab",
		   "name": "scilab"
		  },
		  "language_info": {
		   "file_extension": ".sce",
		   "help_links": [
			{
			 "text": "MetaKernel Magics",
			 "url": "https://github.com/calysto/metakernel/blob/master/metakernel/magics/README.md"
			}
		   ],
		   "mimetype": "text/x-octave",
		   "name": "scilab",
		   "version": "0.7.1"
		  }
		 },
		 "nbformat": 4,
		 "nbformat_minor": 0
}
