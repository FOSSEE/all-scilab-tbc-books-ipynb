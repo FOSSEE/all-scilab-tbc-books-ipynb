{
"cells": [
 {
		   "cell_type": "markdown",
	   "metadata": {},
	   "source": [
       "# Chapter 11: FOUR STROKE SPARK IGNITION ENGINE"
	   ]
	},
{
		   "cell_type": "markdown",
		   "metadata": {},
		   "source": [
			"## Example 11.1: WEIGHT.sce"
		   ]
		  },
  {
"cell_type": "code",
	   "execution_count": null,
	   "metadata": {
	    "collapsed": true
	   },
	   "outputs": [],
"source": [
"clc\n",
"clear\n",
"//Input data\n",
"d=0.0625//Diameter in m\n",
"L=0.09//Stroke in m\n",
"nv=0.75//Volumetric efficiency\n",
"p=1.03//Pressure at N.T.P in kg/cm^2\n",
"T=273//Temperature at N.T.P in K\n",
"R=29.27//Characteristic gas constant in kg.m/kg.degree C\n",
"\n",
"//Calculations\n",
"Vs=((3.14/4)*d^2*L)//Swept volume in cu.m\n",
"V=(nv*Vs)//Volume of charge at N.T.P in cu.m\n",
"w=(p*10^4*V)/(R*T)//Weight of the charge in kg/cycle\n",
"\n",
"//Output\n",
"printf('The weight of the charge is %3.6f kg/cycle',w)"
   ]
   }
,
{
		   "cell_type": "markdown",
		   "metadata": {},
		   "source": [
			"## Example 11.2: INDICATED_THERMAL_EFFICIENCY.sce"
		   ]
		  },
  {
"cell_type": "code",
	   "execution_count": null,
	   "metadata": {
	    "collapsed": true
	   },
	   "outputs": [],
"source": [
"clc\n",
"clear\n",
"//Input data\n",
"n=9//Number of cylinder\n",
"d=0.145//Bore in m\n",
"l=0.19//Stroke in m\n",
"r=5.9//Compression ratio\n",
"bhp=460//Brake horse power in B.H.P\n",
"N=2000//Speed in r.p.m\n",
"x=20//Percentage rich in mixture\n",
"CV=11200//Calorific value in kcal/kg\n",
"pC=85.3//Percentage of carbon\n",
"pH2=14.7//Percentage of Hydrogen\n",
"nv=70//Volumetric efficiency in percent\n",
"T=15+273//Temperature in K\n",
"nm=90//Mechanical efficiency in percent\n",
"wO2=23.3//Percentage of oxygen by weight in air\n",
"da=1.29//Density of air in kg/m^3\n",
"mC=12//Molecular weight of carbon\n",
"mO2=32//Molecular weight of O2\n",
"mH2=2//Molecular weight of H2\n",
"\n",
"//Calculations\n",
"hihp=((bhp/(nm/100))*(4500/427))//Heat equivalent in kcal\n",
"Vs=((3.14/4)*d^2*l*(N/2)*n)//Swept volume in c.m per min\n",
"cw=(Vs/da)//Charge weight of air per minute in kg\n",
"ma=(100/wO2)*((pC/100)*(mO2/mC)+(pH2/100)*(mO2/(2*mH2)))//Wt. of air required per kg of fuel in kg\n",
"mf=(cw/ma)//Minimum fuel inkg\n",
"ith=(hihp/(mf*(100+x)/100*CV))*100//Indicated thermal efficiciency in percent'\n",
"\n",
"//Output\n",
"printf('Indicated thermal efficiency of the engine is %3.1f percent',ith)"
   ]
   }
,
{
		   "cell_type": "markdown",
		   "metadata": {},
		   "source": [
			"## Example 11.3: PROPERTIES.sce"
		   ]
		  },
  {
"cell_type": "code",
	   "execution_count": null,
	   "metadata": {
	    "collapsed": true
	   },
	   "outputs": [],
"source": [
"clc\n",
"clear\n",
"//Input data\n",
"n=8//Number of cylinders\n",
"d=8.57//Bore in cm\n",
"l=8.25//Stroke in cm\n",
"r=7//Compression ratio\n",
"N=4000//Speed in r.p.m\n",
"la=53.35//Length of the arm in cm\n",
"t=10//Test duration in min\n",
"br=40.8//Beam reading in kg\n",
"gas=0.455//gasoline in kg. In textbook, it is given wrong as 4.55\n",
"CV=11400//Calorific value in kcal/kg\n",
"Ta=21+273//Temperature of air in K\n",
"pa=1.027//Pressure of air in kg/cm^2\n",
"wa=5.44//Rate of air in kg/min\n",
"J=427//Mechanical equivalent of heat in kg.m/kcal\n",
"R=29.27//Characteristic gas constant in kg.m/kg.K\n",
"\n",
"//Calculations\n",
"bhp=(2*3.14*N*br*la)/(4500*100)//Brake horse power in B.H.P\n",
"pb=(bhp*4500)/((n/2)*(l/100)*(3.14/4)*d^2*N)//Brake mean effective pressure in kg/cm^2\n",
"bsfc=(gas*60)/bhp//Brake specific fuel consumption in kg/b.h.p.hr\n",
"bsac=((wa*60)/bhp)//Brake specific fuel consumption in kg/b.h.p.hr\n",
"nb=((bhp*4500)/(J*gas*CV))*100//Brake thermal efficiency in percent\n",
"Vd=((3.14/4)*d^2*l)//Piston displacement in c.c/cycle\n",
"Pd=(Vd/10^6)*(N/2)*n//Piston displacement in m^3/min\n",
"Va=((wa*R*Ta)/(pa*10^4))//Volume of air used in m^3/min\n",
"nv=(Va/Pd)*100//Volumetric efficiency in percent\n",
"af=(wa/gas)//Air fel ratio\n",
"\n",
"//Output\n",
"printf('(a) the B.H.P delivered s %3.0f h.p \n (b) the b.m.e.p is %3.1f kg/cm^2 \n (c) the b.s.f.c is %3.3f kg/b.h.p.hr \n (d) the brake specific air consumption is %3.3f kg/b.h.p.hr \n (e) the brake thermal efficiency is %3.1f percent \n (f) the volumetric efficiency is %3.0f percent \n (g) the air fuel ratio is %3.2f',bhp,pb,bsfc,bsac,nb,nv,af)"
   ]
   }
,
{
		   "cell_type": "markdown",
		   "metadata": {},
		   "source": [
			"## Example 11.4: WEIGHT_OF_AIR.sce"
		   ]
		  },
  {
"cell_type": "code",
	   "execution_count": null,
	   "metadata": {
	    "collapsed": true
	   },
	   "outputs": [],
"source": [
"clc\n",
"clear\n",
"//Input data\n",
"n=4//Number of cylinders\n",
"N=2000//Speed in r.p.m\n",
"m=13.15//Mass of fuel in kg/hour\n",
"Vd=655.5//Displacement volume in c.c\n",
"da=1.2//Density of air in kg/m^3\n",
"d=12.7//Manometer depression in cm\n",
"//Qa=0.231*sqrt(ha); Qa is the flow rate in cu.m/min and ha is the pressure difference in metres\n",
"\n",
"//Calculations\n",
"Qa=(0.231*sqrt(((d*1000)/da)/100))//Flow rate in cu.m/min\n",
"Wa=(Qa*da)//Weight of air in kg/min\n",
"Va=(Qa*(2/N)*(1/n))*10^6//Volume of air drawn in per cycle per cylinder in c.c\n",
"nv=(Va/Vd)*100//Volumetric efficiency in percent\n",
"af=(Wa/(m/60))//Air fuel ratio\n",
"\n",
"//Output\n",
"printf('(a) the weight of air drawn is %3.3f kg/min \n (b) volumetric efficiency taking air into account is %3.1f percent \n (c) the air-fuel ratio is %i',Wa,nv,af)"
   ]
   }
,
{
		   "cell_type": "markdown",
		   "metadata": {},
		   "source": [
			"## Example 11.5: CLEARANCE_VOLUME.sce"
		   ]
		  },
  {
"cell_type": "code",
	   "execution_count": null,
	   "metadata": {
	    "collapsed": true
	   },
	   "outputs": [],
"source": [
"clc\n",
"clear\n",
"//Input data\n",
"d=10//Diameter in cm\n",
"l=15//Stroke in cm\n",
"r=6//Compression ratio\n",
"ihp=20//Indicated horse power in h.p\n",
"N=1000//Speed in r.p.m\n",
"n=4//Number of cylinders\n",
"nt=30//Thermal efficiency in percent\n",
"CV=10000//Calorific value in kca/kg\n",
"g=1.4//Ratio of specific heats\n",
"\n",
"//Output\n",
"Vs=((3.14/4)*d^2*l)//Swept volume in c.c\n",
"Vc=(Vs/(r-1))//Clearance volume in c.c\n",
"na=(1-(1/r)^(g-1))*100//Air standard efficiency in percent\n",
"pm=((ihp*4500)/((l/100)*(3.14/4)*(d/100)^2*(N/2)*n))//Pressure in kg/cm^2\n",
"pc=(ihp*4500*60)/(427*(nt/100)*CV)//Petrol consumption in kg/hr\n",
"\n",
"//Output\n",
"printf('Clearance volume is %3.1f c.c \n The air standard efficiency is %3.1f percent \n Petrol consumption is %3.2f kg/hr',Vc,na,pc)"
   ]
   }
,
{
		   "cell_type": "markdown",
		   "metadata": {},
		   "source": [
			"## Example 11.6: CYLINDER_PROPERTIES.sce"
		   ]
		  },
  {
"cell_type": "code",
	   "execution_count": null,
	   "metadata": {
	    "collapsed": true
	   },
	   "outputs": [],
"source": [
"clc\n",
"clear\n",
"//Input data\n",
"n=6//Number of cylinders\n",
"P=62//Power in HP\n",
"N=3000//Speed in r.p.m\n",
"nv=85//Volumetric efficiency in percent\n",
"nt=25//Thermal efficiency in percent\n",
"CV=10500//Calorific value in kcal/kg\n",
"af=15//Air fuel ratio\n",
"T=273//Standard atmosphere temperature in K\n",
"p=1.03//Standard atmosphere pressure in kg/cm^2\n",
"R=29.27//Characteristic gas constant in kg.m/kg.K\n",
"J=427//Mechanical equivalent of heat in kg.m/kcal\n",
"\n",
"//Calculations\n",
"q=(P*4500)/(J*(nt/100))//Heat supplied in kcal/min\n",
"F=(q/CV)//Fuel supplied per minute in kg\n",
"Fc=(F/N)*(2/n)//Fuel supplied per cycle per cylinder in kg\n",
"wt=(af*Fc)//Weight of air supplied per cycle in kg\n",
"d=((((wt)*R*T)/(p*10^4*(3.14/4)*(nv/100)))^(1/3))*100//Diameter in cm\n",
"\n",
"//Output\n",
"printf('Cylinder bore = stroke = %3.2f cm',d)"
   ]
   }
],
"metadata": {
		  "kernelspec": {
		   "display_name": "Scilab",
		   "language": "scilab",
		   "name": "scilab"
		  },
		  "language_info": {
		   "file_extension": ".sce",
		   "help_links": [
			{
			 "text": "MetaKernel Magics",
			 "url": "https://github.com/calysto/metakernel/blob/master/metakernel/magics/README.md"
			}
		   ],
		   "mimetype": "text/x-octave",
		   "name": "scilab",
		   "version": "0.7.1"
		  }
		 },
		 "nbformat": 4,
		 "nbformat_minor": 0
}
