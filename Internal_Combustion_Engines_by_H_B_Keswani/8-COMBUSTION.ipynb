{
"cells": [
 {
		   "cell_type": "markdown",
	   "metadata": {},
	   "source": [
       "# Chapter 8: COMBUSTION"
	   ]
	},
{
		   "cell_type": "markdown",
		   "metadata": {},
		   "source": [
			"## Example 8.10: GRAVIMETRIC_ANALYSIS.sce"
		   ]
		  },
  {
"cell_type": "code",
	   "execution_count": null,
	   "metadata": {
	    "collapsed": true
	   },
	   "outputs": [],
"source": [
"clc\n",
"clear\n",
"CO2=10.9//Volumetric analysis composition in percent\n",
"CO=1//Volumetric analysis composition in percent\n",
"O2=7.1//Volumetric analysis composition in percent\n",
"N2=81//Volumetric analysis composition in percent\n",
"mO2=32//Molecular weight of O2\n",
"mCO2=44//Molecular weight of CO2\n",
"mCO=28//Molecular weight of CO\n",
"mN2=28//Molecular weight of N2\n",
"\n",
"//Calculations\n",
"pCO2=(CO2/100)*mCO2//Proportional weight for CO2\n",
"pCO=(CO/100)*mCO//Proportional weight for CO\n",
"pO2=(O2/100)*mO2//Proportional weight for O2\n",
"pN2=(N2/100)*mN2//Proportional weight for N2\n",
"T=(pCO2+pCO+pO2+pN2)//Total proportional weight\n",
"ppCO2=(pCO2/T)*100//Weight per kg of exhaust gas for CO2\n",
"ppCO=(pCO/T)*100//Weight per kg of exhaust gas for CO\n",
"ppO2=(pO2/T)*100//Weight per kg of exhaust gas for O2\n",
"ppN2=(pN2/T)*100//Weight per kg of exhaust gas for N2\n",
"\n",
"printf('The gravimetric analysis is given by (in percent) \n CO2 -> %3.2f \n CO -> %3.2f \n O2 -> %3.2f \n N2 -> %3.2f',ppCO2,ppCO,ppO2,ppN2)"
   ]
   }
,
{
		   "cell_type": "markdown",
		   "metadata": {},
		   "source": [
			"## Example 8.11: WEIGHT_OF_AIR.sce"
		   ]
		  },
  {
"cell_type": "code",
	   "execution_count": null,
	   "metadata": {
	    "collapsed": true
	   },
	   "outputs": [],
"source": [
"clc\n",
"clear\n",
"//Input data\n",
"CO2=10//Volumetric analysis composition in percent\n",
"N2=80//Volumetric analysis composition in percent\n",
"C=80//Carbon content of the fuel in percent\n",
"mO2=32//Molecular weight of O2\n",
"mCO2=44//Molecular weight of CO2\n",
"mN2=28//Molecular weight of N2\n",
"mC=12//Molecular weight of carbon\n",
"\n",
"//Calculations\n",
"O2=100-(N2+CO2)//Volumetric analysis composition in percent\n",
"pCO2=(CO2/100)*mCO2//Proportional weight for CO2\n",
"pO2=(O2/100)*mO2//Proportional weight for O2\n",
"pN2=(N2/100)*mN2//Proportional weight for N2\n",
"T=(pCO2+pO2+pN2)//Total proportional weight\n",
"ppCO2=(pCO2/T)//Weight per kg of exhaust gas for CO2\n",
"ppO2=(pO2/T)//Weight per kg of exhaust gas for O2\n",
"ppN2=(pN2/T)//Weight per kg of exhaust gas for N2\n",
"wC=(ppCO2*(mC/mCO2))//Weight of carbon per kg of exhaust gases in kg\n",
"WC=((C/100)/wC)//Weight of exhaust gases per kg of fuel burned in kg\n",
"wa=(WC-(ppCO2+ppO2+ppN2))//Weight of air supplied per kg fuel in kg\n",
"\n",
"//Output\n",
"printf('Weight of air supplied per kg of fuel is %i kg',wa)"
   ]
   }
,
{
		   "cell_type": "markdown",
		   "metadata": {},
		   "source": [
			"## Example 8.12: AIR_SUPPLIED.sce"
		   ]
		  },
  {
"cell_type": "code",
	   "execution_count": null,
	   "metadata": {
	    "collapsed": true
	   },
	   "outputs": [],
"source": [
"clc\n",
"clear\n",
"//Input data\n",
"CO2=12//Volumetric analysis composition in percent\n",
"CO=4//Volumetric analysis composition in percent\n",
"N2=84//Volumetric analysis composition in percent\n",
"mO2=32//Molecular weight of O2\n",
"mCO2=44//Molecular weight of CO2\n",
"mCO=28//Molecular weight of CO\n",
"mN2=28//Molecular weight of N2\n",
"mC=12//Molecular weight of carbon\n",
"mH2=2//Molecular weight of H2\n",
"\n",
"//Calculations\n",
"pCO2=(CO2/100)*mCO2//Proportional weight for CO2\n",
"pCO=(CO/100)*mCO//Proportional weight for CO\n",
"pN2=(N2/100)*mN2//Proportional weight for N2\n",
"T=(pCO2+pCO+pN2)//Total proportional weight\n",
"ppCO2=(pCO2/T)//Weight per kg of exhaust gas for CO2\n",
"ppCO=(pCO/T)//Weight per kg of exhaust gas for CO\n",
"ppN2=(pN2/T)//Weight per kg of exhaust gas for N2\n",
"wC=((ppCO2*(mC/mCO2))+(ppCO*(mC/mCO)))//Weight of carbon per kg of flue gases\n",
"pC=((6*mC)/(6*mC+7*mH2))//Percentage by weight of carbon in C6H14\n",
"we=(pC/wC)//Weight of exhaust gases per kg of fuel in kg\n",
"wa=(we-(ppCO2+ppCO+ppN2))//Weight of air supplied per kg of fuel in kg\n",
"tw=((100/23)*(((mO2/mC)*pC)+((mO2/(2*mH2))*0.163)))//Theoretical amount of air required for complete combustion of C6H14 in kg\n",
"exc=(wa-tw)//Excess air supplied per kg of fuel in kg\n",
"\n",
"//Output\n",
"printf('Excess air supplied per kg of fuel is %3.1f kg(deficient)',exc)"
   ]
   }
,
{
		   "cell_type": "markdown",
		   "metadata": {},
		   "source": [
			"## Example 8.13: PERCENTAGE_COMPOSITION.sce"
		   ]
		  },
  {
"cell_type": "code",
	   "execution_count": null,
	   "metadata": {
	    "collapsed": true
	   },
	   "outputs": [],
"source": [
"clc\n",
"clear\n",
"//Input data\n",
"C=84//Gravimetric analysis composition in percent\n",
"H2=12//Gravimetric analysis composition in percent\n",
"S=1.5//Gravimetric analysis composition in percent\n",
"O2=1.5//Gravimetric analysis composition in percent\n",
"ma=20//Mass of air in kg\n",
"pC=4//Percent of carbon in the fuel which is burnt to form CO\n",
"mO2=32//Molecular weight of O2\n",
"mCO2=44//Molecular weight of CO2\n",
"mCO=28//Molecular weight of CO\n",
"mN2=28//Molecular weight of N2\n",
"mC=12//Molecular weight of carbon\n",
"mH2=2//Molecular weight of H2\n",
"mS=32//Molecular weight of S\n",
"mSO2=64//Molecular weight of SO2\n",
"\n",
"//Calculations\n",
"mm=((100/23)*((C/100)*(mO2/mC)+(H2/100)*(mO2/(2*mH2))+(S/100)*(mO2/mS)-(O2/100)))//Minimum air in kg/kg of fuel \n",
"//When 20 kg of air is supplied\n",
"xCO2=((C/100)*(mCO2/mC))//Mass of CO2 in kg\n",
"xSO2=((S/100)*(mSO2/mS))//Mass of SO2 in kg\n",
"xO2=((23/100)*(ma-mm))//Mass of O2 in kg\n",
"xN2=((77/100)*ma)//Mass of N2 in kg\n",
"nCO2=(xCO2/mCO2)//Parts by volume of CO2\n",
"nSO2=(xSO2/mSO2)//Parts by volume of SO2\n",
"nO2=(xO2/mO2)//Parts by volume of O2\n",
"nN2=(xN2/mN2)//Parts by volume of N2\n",
"T=(nCO2+nSO2+nO2+nN2)//Total parts by volume\n",
"pCO2=(nCO2/T)*100//Percentage volume of CO2\n",
"pSO2=(nSO2/T)*100//Percentage volume of SO2\n",
"pO2=(nO2/T)*100//Percentage volume of O2\n",
"pN2=(nN2/T)*100//Percentage volume of N2\n",
"//4% of available carbon is burnt to CO then per kg of fuel\n",
"yCO2=((C/100)/(1+(pC/100)))*(mCO2/mC)//Mass of CO2 in kg\n",
"yCO=(((C/100)-((C/100)/(1+(pC/100))))*(mCO/mC))//Mass of CO in kg\n",
"yO2=((C/100)*(mO2/mC))//Mass of O2 in kg\n",
"eO2=(yO2-(((C/100)/(1+(pC/100)))*(mO2/mC)+(((C/100)-((C/100)/(1+(pC/100))))*(mO2/(2*mC)))))\n",
"nnCO2=(yCO2/mCO2)//Parts by volume of CO2\n",
"nnCO=(yCO/mCO)//Parts by volume of CO\n",
"nnSO2=(xSO2/mSO2)//Parts by volume of SO2\n",
"nnO2=((xO2+eO2)/mO2)//Parts by volume of O2\n",
"nnN2=(xN2/mN2)//Parts by volume of N2\n",
"TT=(nnCO2+nnCO+nnSO2+nnO2+nnN2)//Total parts by volume\n",
"ppCO2=(nnCO2/TT)*100//Percentage volume of CO2\n",
"\n",
"//Output\n",
"printf('Minimum weight of air required for complete combustion of 1 kg of the fuel is %3.1f kg/kg of fuel \n\n Percentage composition by volume when %i kg of air is supplied (in percent) \n CO2 -> %3.1f \n SO2 -> %3.1f \n O2 -> %3.1f \n N2 -> %3.1f \n\n The percentage volume of CO2 when %i percent of the carbon in the fuel is burnt to form CO is %3.1f percent',mm,ma,pCO2,pSO2,pO2,pN2,pC,ppCO2)"
   ]
   }
,
{
		   "cell_type": "markdown",
		   "metadata": {},
		   "source": [
			"## Example 8.14: EXCESS_AIR.sce"
		   ]
		  },
  {
"cell_type": "code",
	   "execution_count": null,
	   "metadata": {
	    "collapsed": true
	   },
	   "outputs": [],
"source": [
"clc\n",
"clear\n",
"//Input data\n",
"C=85//Composition by weight in percent\n",
"H2=14//Composition by weight in percent\n",
"x=50//Percentage of excess air\n",
"Ta=[70+273,500+273]//Temperature of air entering and leaving in K\n",
"Cp=0.24//Mean specific heat of air in kJ/kg.K\n",
"qC=8080//Heat liberated in kcal/kg\n",
"qH2=34250//Heat liberated in kcal/kg\n",
"a=23//Air contains 23% by weight of O2\n",
"mO2=32//Molecular weight of O2\n",
"mCO2=44//Molecular weight of CO2\n",
"mCO=28//Molecular weight of CO\n",
"mN2=28//Molecular weight of N2\n",
"mC=12//Molecular weight of carbon\n",
"mH2=2//Molecular weight of H2\n",
"\n",
"//Calculations\n",
"mm=((100/a)*((C/100)*(mO2/mC)+(H2/100)*(mO2/(2*mH2))))//Minimum air required in kg/kg of fuel\n",
"Q1=((C/100)*qC+(H2/100)*qH2)//Heat in kcal/kg fuel\n",
"ea=((x/100)*mm)//Excess air supplied in kg/kg fuel\n",
"Q2=((mm/2)*Cp*(Ta(2)-Ta(1)))//Heat in kcal/kg fuel\n",
"\n",
"//Output\n",
"printf('(a) Minimum quantity of air necessary for the complete combustion of 1 kg of fuel is %3.2f kg/kg of fuel \n (b) Heat released per kg of fuel when the carbon is burnt to CO2 and hydrogen is burnt to H2O is %3.0f kcal/kg fuel \n (c) Heat carried away by the excess air is %3.0f kcal/kg fuel',mm,Q1,Q2)"
   ]
   }
,
{
		   "cell_type": "markdown",
		   "metadata": {},
		   "source": [
			"## Example 8.15: VOLUME_OF_GAS.sce"
		   ]
		  },
  {
"cell_type": "code",
	   "execution_count": null,
	   "metadata": {
	    "collapsed": true
	   },
	   "outputs": [],
"source": [
"clc\n",
"clear\n",
"//Input data\n",
"CO=17//Percentage composition by volume\n",
"H2=53.4//Percentage composition by volume\n",
"CH2=28.8//Percentage composition by volume\n",
"O2=0.8//Percentage composition by volume\n",
"ea=30//Percentage of excess air\n",
"v=1//Volume in m^3\n",
"\n",
"//Calculations\n",
"ta=((100/21)*((CO/100)/2+(H2/100)/2+(CH2/100)*2-(O2/100)))//Theoretical air in m^3/m^3 of gas\n",
"aa=((1+(ea/100))*ta)//Actual air in m^3/m^3 of gas\n",
"Vg=(v+aa)//Volume of gas air mixture in m^3/m^3 of gas\n",
"\n",
"//Output\n",
"printf('Total quantity of air required is %3.2f m^3/m^3 of gas \n The volume of gas air mixture is %3.2f m^3/m^3 of gas',ta,Vg)"
   ]
   }
,
{
		   "cell_type": "markdown",
		   "metadata": {},
		   "source": [
			"## Example 8.16: VOLUME_OF_AIR.sce"
		   ]
		  },
  {
"cell_type": "code",
	   "execution_count": null,
	   "metadata": {
	    "collapsed": true
	   },
	   "outputs": [],
"source": [
"clc\n",
"clear\n",
"//Input data\n",
"CH4=20//Percentage volumetric analysis\n",
"C2H4=2//Percentage volumetric analysis\n",
"H2=50//Percentage volumetric analysis\n",
"CO=16//Percentage volumetric analysis\n",
"CO2=4//Percentage volumetric analysis\n",
"O2=1.5//Percentage volumetric analysis\n",
"N2=6.5//Percentage volumetric analysis\n",
"v=6.8//Volume of air supplied in m^3 per m^3 of coal gas\n",
"\n",
"//Calculations\n",
"mmO2=((2*CH4)+(3*C2H4)+(H2/2)+(CO/2))-O2//Minimum moles of O2\n",
"mCO2=(CH4+(2*C2H4)+CO+CO2)//Moles of CO2\n",
"mH2O=((2*CH4)+(2*C2H4)+H2)//Moles of H2O\n",
"mN2=(N2+(79/21)*mmO2)//Moles of N2\n",
"ma=((100/21)*(mmO2/100))//Minimum air in m^3/m^3 of gas\n",
"ea=(v-ma)//Excess air in m^3/m^3 of gas\n",
"tm=(mCO2+mN2+ea)*2//Total moles of dry products per 100 moles of gas\n",
"pCO2=(mCO2/tm)*100//Percentage of CO2 by volume in dry flue gases\n",
"\n",
"//Output\n",
"printf('Minimum volume of air necessary for the complete combustion of 1 m^3 of coal gas is %3.2f m^3/m^3 of gas \n Percentage volume of CO2 in dry flue gases is %3.2f percent',ma,pCO2)"
   ]
   }
,
{
		   "cell_type": "markdown",
		   "metadata": {},
		   "source": [
			"## Example 8.17: VOLUMETRIC_COMPOSITION.sce"
		   ]
		  },
  {
"cell_type": "code",
	   "execution_count": null,
	   "metadata": {
	    "collapsed": true
	   },
	   "outputs": [],
"source": [
"clc\n",
"clear\n",
"//Input data\n",
"C=86//Percentage of carbon\n",
"H2=14//Percentage of Hydrogen\n",
"ea=20//Percentage of excess air\n",
"O2=23//Weight of oxygen in air in percent\n",
"mO2=32//Molecular weight of O2\n",
"mCO2=44//Molecular weight of CO2\n",
"mCO=28//Molecular weight of CO\n",
"mN2=28//Molecular weight of N2\n",
"mC=12//Molecular weight of carbon\n",
"mH2=2//Molecular weight of H2\n",
"mH2O=18//Molecular weight of H2O\n",
"\n",
"//Calculations\n",
"ma=((100/O2)*((C/100)*(mO2/mC)+(H2/100)*(mO2/(2*mH2))))//Minimum weight of air required in kg/kg petrol\n",
"//Products of combustion by weight per kg- petrol \n",
"XCO2=(C/100)*(mCO2/mC)//CO2 in kg\n",
"XH2O=(H2/100)*(mH2O/mH2)//H2O in kg\n",
"XO2=(XCO2+XH2O-1)*(ea/100)//O2 in kg\n",
"XN2=(ma*(1+(ea/100))*((100-O2)/100))//N2 in kg\n",
"XT=(XCO2+XH2O+XO2+XN2)//Total weight in kg\n",
"//Percentage analysis by weight\n",
"xCO2=(XCO2/XT)*100//CO2\n",
"xH2O=(XH2O/XT)*100//H2O\n",
"xO2=(XO2/XT)*100//O2\n",
"xN2=(XN2/XT)*100//N2\n",
"//Percentage by weight to molecular weight\n",
"xxCO2=(xCO2/mCO2)//CO2\n",
"xxH2O=(xH2O/mH2O)//H2O\n",
"xxO2=(xO2/mO2)//O2\n",
"xxN2=(xN2/mN2)//N2\n",
"xxt=(xxCO2+xxH2O+xxO2+xxN2)//Total percentage by weight to molecular weight\n",
"//Percentage by volume\n",
"pCO2=(xxCO2/xxt)*100//CO2\n",
"pH2O=(xxH2O/xxt)*100//H2O\n",
"pO2=(xxO2/xxt)*100//O2\n",
"pN2=(xxN2/xxt)*100//N2\n",
"\n",
"//Output\n",
"printf('Volumetric composition of the products of combustion (in percent) \n CO2 -> %3.1f \n H2O -> %3.1f \n O2  -> %3.2f \n N2  -> %3.2f',pCO2,pH2O,pO2,pN2)"
   ]
   }
,
{
		   "cell_type": "markdown",
		   "metadata": {},
		   "source": [
			"## Example 8.18: WEIGHT.sce"
		   ]
		  },
  {
"cell_type": "code",
	   "execution_count": null,
	   "metadata": {
	    "collapsed": true
	   },
	   "outputs": [],
"source": [
"clc\n",
"clear\n",
"//Input data\n",
"bhp=20//Brake horse in h.p\n",
"N=320//Speed in r.p.m\n",
"C=84//Percentage of carbon\n",
"H2=16//Percentage of hydrogen\n",
"CV=10800//Calorific value in kcal/kg\n",
"bth=30//Brake thermal efficiency in percent\n",
"mO2=32//Molecular weight of O2\n",
"mCO2=44//Molecular weight of CO2\n",
"mCO=28//Molecular weight of CO\n",
"mN2=28//Molecular weight of N2\n",
"mC=12//Molecular weight of carbon\n",
"mH2=2//Molecular weight of H2\n",
"mH2O=18//Molecular weight of H2O\n",
"\n",
"//Calculations\n",
"W=(bhp*4500)/427//Work done in kcal\n",
"Wc=(W*2)/N//Work done per cycle in kcal\n",
"qs=(Wc/(bth/100))//Heat supplied per cycle in kcal\n",
"wf=(qs/CV)//Weight of fuel used per cycle in kg\n",
"tO2=((C/100)*(mO2/mC)+(H2/100)*(mO2/(2*mH2)))//Total O2/kg fuel in kg\n",
"mw=(tO2/(23/100))//Minimum weight of air required in kg/kg fuel\n",
"aw=(mw*2)//Actual weight of air supplied in kg/kg fuel\n",
"wac=(aw*wf)//Wt. of air supplied/ cycle in kg. In textbook, it is given wrong as 0.1245 kg\n",
"\n",
"//Output\n",
"printf('(a) the weight of fuel used per cycle is %3.6f kg \n (b) the actual weight of air taken in per cycle is %3.4f kg',wf,wac)"
   ]
   }
,
{
		   "cell_type": "markdown",
		   "metadata": {},
		   "source": [
			"## Example 8.19: WEIGHT_OF_AIR.sce"
		   ]
		  },
  {
"cell_type": "code",
	   "execution_count": null,
	   "metadata": {
	    "collapsed": true
	   },
	   "outputs": [],
"source": [
"clc\n",
"clear\n",
"//Input data\n",
"CO2=8.85//Percentage composition by volume\n",
"CO=1.2//Percentage composition by volume\n",
"O2=6.8//Percentage composition by volume\n",
"N2=83.15//Percentage composition by volume\n",
"C=84//Percentage composition by weight\n",
"H2=14//Percentage composition by weight\n",
"aO2=2//Percentage composition by weight\n",
"mO2=32//Molecular weight of O2\n",
"mCO2=44//Molecular weight of CO2\n",
"mCO=28//Molecular weight of CO\n",
"mN2=28//Molecular weight of N2\n",
"mC=12//Molecular weight of carbon\n",
"mH2=2//Molecular weight of H2\n",
"mH2O=18//Molecular weight of H2O\n",
"\n",
"//Calculations\n",
"//O2 required per kg of fuel\n",
"xC=((C/100)*(mO2/mC))//C\n",
"xH2=((H2/100)*(mO2/(2*mH2)))//H2\n",
"xO2=-(aO2/100)//O2\n",
"ttO2=(xC+xH2-xO2)//Theoretical total oxygen required in kg/kg fuel\n",
"twa=(ttO2/(23/100))//Theoretical weight of air in kg/kg fuel\n",
"//Conversion of volumetric analysis of the flue gas into a weight analysis\n",
"//Percenatge by volume * mol. wt\n",
"xxCO2=(CO2*mCO2)//CO2\n",
"xxCO=(CO*mCO)//CO\n",
"xxO2=(O2*mO2)//O2\n",
"xxN2=(N2*mN2)//N2\n",
"xxt=(xxCO2+xxCO+xxO2+xxN2)//Total\n",
"//Percentage by weight\n",
"yCO2=(xxCO2/xxt)*100//CO2\n",
"yCO=(xxCO/xxt)*100//CO\n",
"yO2=(xxO2/xxt)*100//O2\n",
"yN2=(xxN2/xxt)*100//N2\n",
"wcd=((yCO2/100)*(mC/mCO2))+((yCO/100)*(mC/mCO))//Weight of carbon/ kg of dry flue gas in kg\n",
"wdf=((C/100)/wcd)//Wt. of dry flue gas/kg fuel in kg\n",
"wxf=(wdf*(yO2/100))//Weight of excess O2/kg fuel in kg\n",
"weO2=(wxf/(23/100))//Weight of excess air in kg/kg fuel\n",
"was=(twa+weO2)//Weight of air supplied/kg fuel in kg\n",
"\n",
"//Output\n",
"printf('Weight of air supplied per kg fuel burnt is %3.2f kg',was)"
   ]
   }
,
{
		   "cell_type": "markdown",
		   "metadata": {},
		   "source": [
			"## Example 8.1: COMPOSITION.sce"
		   ]
		  },
  {
"cell_type": "code",
	   "execution_count": null,
	   "metadata": {
	    "collapsed": true
	   },
	   "outputs": [],
"source": [
"clc\n",
"clear\n",
"//Input data\n",
"C=88.6//Composition of C in percent\n",
"H2=11.4//Composition of H2 in percent\n",
"\n",
"//Calculations\n",
"w1=(C/100)//Weight per kg of fuel of C in kg\n",
"w2=(H2/100)//Weight per kg of fuel of H2 in kg\n",
"O1=(8/3)//Oxygen required per kg of constituent for C in kg\n",
"O2=8//Oxygen required per kg of constituent for H2 in kg\n",
"O11=(w1*O1)//Oxygen required per kg of fuel for C in kg\n",
"O22=(w2*O2)//Oxygen required per kg of fuel for H2 in kg\n",
"T=(O11+O22)//Total Oxygen required per kg of fuel in kg\n",
"P1=(w1+O11)//Composition of CO2 in kg\n",
"P2=(w2+O22)//Composition of H2O in kg\n",
"w=(T*(100/23))//Weight of air required in kg per kg of fuel\n",
"\n",
"//Output\n",
"printf('The weight of air required for complete combustion of liquid fuel is %3.2f kg per kg of fuel \n \n The composition of CO2 is %3.3f kg \n The composition of H2O is %3.3f kg',w,P1,P2)"
   ]
   }
,
{
		   "cell_type": "markdown",
		   "metadata": {},
		   "source": [
			"## Example 8.2: WEIGHT_OF_AIR.sce"
		   ]
		  },
  {
"cell_type": "code",
	   "execution_count": null,
	   "metadata": {
	    "collapsed": true
	   },
	   "outputs": [],
"source": [
"clc\n",
"clear\n",
"//Input data\n",
"C=12//Molecular weight of carbon\n",
"H2=2//Molecular weght of H2\n",
"O2=32//Molecular weight of O2\n",
"\n",
"//Calculations\n",
"C7H16=(7*C+8*H2)//Molecular weight of C7H16\n",
"O2x=(11*O2)//Molecular weight of 22O2\n",
"wt=(O2x/C7H16)*(100/23.2)//Weight of air in kg per kg of fuel\n",
"//Now in actual experiment, we have\n",
"//1[C7H16] +x[O2] +...[N2] = a[CO2] +8[H2O] +a[O2] +...[N2]\n",
"//This is the new equation written in volumes. The volumes of CO2 and O2 being equal, with no CO present, and the usual assumption that all the hydrogen is burnt to H2O\n",
"//Now, if all the carbon is burnt, we must have 7 mols of CO2\n",
"x=(7+4+7)//Total number of mols from CO2,H2O and O2 terms respectively\n",
"W=((x*O2)/100)*(100/23.2)//Weight of air in kg per kg of fuel\n",
"\n",
"//Output\n",
"printf('The weight of air is %3.1f kg per kg of fuel which would just suffice for theoretically complete combustion \n The ratio of air to fuel by weight as actually supplied is %3.1f kg of air per kg of fuel',wt,W)"
   ]
   }
,
{
		   "cell_type": "markdown",
		   "metadata": {},
		   "source": [
			"## Example 8.3: AIR_AND_VOLUME.sce"
		   ]
		  },
  {
"cell_type": "code",
	   "execution_count": null,
	   "metadata": {
	    "collapsed": true
	   },
	   "outputs": [],
"source": [
"clc\n",
"clear\n",
"//Input data\n",
"H=15//Percentage of Hydrogen by volume\n",
"CO=25//Percentage of carbon monoxide by volume\n",
"CH4=4//Percentage of methane by volume\n",
"CO2=4//Percentage of carbon dioxide by volume\n",
"O2=2//Percentage of oxygen by volume. In textbook it is given wrong as 25\n",
"N2=50//Percentage of nitrogen  by volume\n",
"\n",
"//Calculations\n",
"O21=(H/100)*(1/2)//Volume of oxygen required in m^3 by 15 percent of H2\n",
"O22=(CO/100)*(1/2)//Volume of oxygen required in m^3 by 25 percent of CO\n",
"CO21=(CO/100)*1//Volume of CO2 produced in m^3 by 25 percent of CO\n",
"O23=(CH4/100)*2//Volume of oxygen required in m^3 by 4 percent of CH4\n",
"CO22=(CH4/100)*1//Volume of CO2 produced in m^3 by 4 percent of CH4\n",
"H201=(CO/100)*2//Volume of H2O produced in m^3 by 4 percent of CH4\n",
"TO2=(O21+O22+O23-(O2/100))//Total vol. of oxygen in m^3\n",
"wa=(TO2*(100/21))//Theoretical volume of air required in m^3\n",
"vN2=(wa*(79/100))//Volume of N2 present in air in m^3\n",
"TvN2=(vN2+(N2/100))//Total volume of N2 after combustion of 1 m^3 of fuel in m^3\n",
"xCO2=(CO21+CO22)//CO2 produced due to combustion of fuel in m^3\n",
"TCO2=(xCO2+(CO2/100))//Total volume of CO2 in the flue gas in m^3\n",
"\n",
"//Output\n",
"printf('The air required for complete combustion of one m^3 of the fuel is %3.3f cu.m \n The dry flue gas contains %3.3f cu.m volume of N2 and %3.2f cu.m volume of CO2',wa,TvN2,TCO2)  "
   ]
   }
,
{
		   "cell_type": "markdown",
		   "metadata": {},
		   "source": [
			"## Example 8.4: WEIGHT_OF_AIR.sce"
		   ]
		  },
  {
"cell_type": "code",
	   "execution_count": null,
	   "metadata": {
	    "collapsed": true
	   },
	   "outputs": [],
"source": [
"clc\n",
"clear\n",
"//Input data\n",
"C=88.1//Composition of C in percent\n",
"H2=10.7//Composition of H2 in percent\n",
"O2=1.2//Composition of O2 in percent\n",
"\n",
"//Calculations\n",
"w1=(C/100)//Weight per kg of fuel of C in kg\n",
"w2=(H2/100)//Weight per kg of fuel of H2 in kg\n",
"w3=(O2/100)//Weight per kg of fuel of O2 in kg\n",
"O1=(8/3)//Oxygen required per kg of constituent for C in kg\n",
"O2=8//Oxygen required per kg of constituent for H2 in kg\n",
"O11=(w1*O1)//Oxygen required per kg of fuel for C in kg\n",
"O22=(w2*O2)//Oxygen required per kg of fuel for H2 in kg\n",
"T=(O11+O22-w3)//Total Oxygen required per kg of fuel in kg\n",
"P1=(w1+O11)//Composition of CO2 in kg\n",
"P2=(w2+O22)//Composition of H2O in kg\n",
"w=(T*(100/23))//Weight of air required in kg per kg of fuel\n",
"wN2=(w*(77/100))//Weight of N2 in 'w' kg of fuel in kg\n",
"T1=(P1+P2+wN2)//Total weight of all products of combustion in kg\n",
"pCO2=(P1/T1)*100//Percentage composition of CO2 by weight\n",
"pH2O=(P2/T1)*100//Percentage composition of H2O by weight\n",
"pN2=(wN2/T1)*100//Percentage composition of N2 by weight\n",
"\n",
"//Output\n",
"printf('The weight of air required to burn one kg of the fuel is %3.1f kg \n The composition of products of combustion by weight is %3.2f percent of CO2, %3.2f percent of H2O and %3.2f percent of N2',w,pCO2,pH2O,pN2)"
   ]
   }
,
{
		   "cell_type": "markdown",
		   "metadata": {},
		   "source": [
			"## Example 8.5: MASS_OF_AIR.sce"
		   ]
		  },
  {
"cell_type": "code",
	   "execution_count": null,
	   "metadata": {
	    "collapsed": true
	   },
	   "outputs": [],
"source": [
"clc\n",
"clear\n",
"//Input data\n",
"C=85//Composition of C in percent\n",
"H2=15//Composition of H2 in percent\n",
"CV=10600//Calorific value in kcal/kg\n",
"eO2=60//Percentage of air in excess\n",
"bhp=240//Brake horse power in h.p\n",
"nth=30//Thermal efficiency in percent\n",
"O2=23//Percentage of oxygen contained in air by weight\n",
"wC=12//Molecular weight of carbon\n",
"wH2=2//Molecular weght of H2\n",
"wO2=32//Molecular weight of O2\n",
"\n",
"//Calculations\n",
"mma=(100/23)*(((C/100)*(wO2/wC))+((H2/100)*(wO2/(wH2*2))))//Minimum air in kg per kg oil\n",
"aa=((100+eO2)/100)*mma//Actual air supplied in kg per kg oil\n",
"q=((bhp*(4500/427))/(nth/100))//Heat supplied in kcal/min\n",
"mf=(q/CV)//Mass of fuel supplied in kg/min\n",
"ma=(aa*mf)//Mass of air supplied in kg/min\n",
"\n",
"//Output\n",
"printf('The weight of air is %3.2f kg/min',ma)"
   ]
   }
,
{
		   "cell_type": "markdown",
		   "metadata": {},
		   "source": [
			"## Example 8.6: VOLUMETRIC_ANALYSIS.sce"
		   ]
		  },
  {
"cell_type": "code",
	   "execution_count": null,
	   "metadata": {
	    "collapsed": true
	   },
	   "outputs": [],
"source": [
"clc\n",
"clear\n",
"//Input data\n",
"//C + O2 -> CO2\n",
"// 12 + 32 -> 44\n",
"C=12//Molecular weight of carbon\n",
"O2=32//Molecular weight of O2\n",
"CO2=44//Molecular weight of CO2\n",
"N2=28//Molecular weight of N2\n",
"\n",
"//Calculations\n",
"wair=(O2/C)*(100/23)//Air required per kg of C in kg\n",
"wN2=(O2/C)*(77/23)//N2 associated with the air in kg\n",
"pCO2=(CO2/C)/CO2//Parts by volume/k for CO2\n",
"pN2=(wN2/N2)//Parts by volume/k for N2\n",
"Tv=(pCO2+pN2)//Total parts by volume\n",
"ppCO2=(pCO2/Tv)*100//Percentage volume of CO2\n",
"ppN2=(pN2/Tv)*100//Percentage volume of N2\n",
"\n",
"//Output\n",
"printf('The volumetric analysis of the flue gas when pure carbon is burnt with a minimum quantity of air is given by \n CO2 -> %3.1f percent \n N2 -> %3.1f percent',ppCO2,ppN2)"
   ]
   }
,
{
		   "cell_type": "markdown",
		   "metadata": {},
		   "source": [
			"## Example 8.7: PERCENTAGE_COMBUSTION.sce"
		   ]
		  },
  {
"cell_type": "code",
	   "execution_count": null,
	   "metadata": {
	    "collapsed": true
	   },
	   "outputs": [],
"source": [
"clc\n",
"clear\n",
"//Input data\n",
"C=90//Percentage composition of C \n",
"H2=3.3//Percentage composition of H2\n",
"O2=3//Percentage composition of O2\n",
"N2=0.8//Percentage composition of N2\n",
"S=0.9//Percentage composition of S\n",
"Ash=2//Percentage composition of Ash\n",
"eO2=50//Percentage of excess air\n",
"mC=12//Molecular weight of carbon\n",
"mS=32//Molecular weight of sulphur\n",
"mCO2=44//Molecular weight of CO2\n",
"mO2=32//Molecular weight of O2\n",
"mSO2=64//Molecular weight of SO2\n",
"mN2=28//Molecular weight of N2\n",
"\n",
"//Calculations\n",
"w1=(C/100)//Weight per kg of fuel of C in kg\n",
"w2=(H2/100)//Weight per kg of fuel of H2 in kg\n",
"w3=(S/100)//Weight per kg of fuel of S in kg\n",
"O1=(8/3)//Oxygen required per kg of constituent for C in kg\n",
"O2=8//Oxygen required per kg of constituent for H2 in kg\n",
"O3=1//Oxygen requred per kg of constituent for S in kg\n",
"O11=(w1*O1)//Oxygen required per kg of fuel for C in kg\n",
"O22=(w2*O2)//Oxygen required per kg of fuel for H2 in kg\n",
"O33=(w3*O3)//Oxygen required per kg of fuel for S in kg\n",
"T=(O11+O22+O33-(O2/100))//Total Oxygen required per kg of fuel in kg\n",
"ma=(T*(100/23))//Minimum air required in kg\n",
"aN2=(ma*((100+eO2)/100)*(77/100))//N2 in actual air supply in kg\n",
"TN2=(aN2+(N2/100))//Total N2 in kg\n",
"wt=(ma*(eO2/100)*(23/100))//Weight of air due to excess O2 in kg\n",
"TSO2=(w3*(mSO2/mS))//Total SO2 in kg\n",
"TCO2=(w1*(mCO2/mC))//Total CO2 in kg\n",
"pCO2=(TCO2/mCO2)//Parts by volume of CO2\n",
"pSO2=(TSO2/mSO2)//Parts by volume of SO2\n",
"pO2=(wt/mO2)//Parts by volume of O2\n",
"pN2=(TN2/mN2)//Parts by volume of N2\n",
"Tv=(pCO2+pSO2+pN2+pO2)//Total parts by volume\n",
"ppCO2=(pCO2/Tv)*100//Percentage volume of CO2\n",
"ppSO2=(pSO2/Tv)*100//Percenatge volume of SO2\n",
"ppO2=(pO2/Tv)*100//Percentage volume of O2\n",
"ppN2=(pN2/Tv)*100//Percentage volume of N2\n",
"\n",
"//Output\n",
"printf('Percentage combustion of the dry flue gases by volume is \n CO2 %3.2f percent \n SO2 %3.2f percent \n O2 %3.1f percent \n N2 %3.2f percent',ppCO2,ppSO2,ppO2,ppN2)"
   ]
   }
,
{
		   "cell_type": "markdown",
		   "metadata": {},
		   "source": [
			"## Example 8.8: PARTIAL_PRESSURE.sce"
		   ]
		  },
  {
"cell_type": "code",
	   "execution_count": null,
	   "metadata": {
	    "collapsed": true
	   },
	   "outputs": [],
"source": [
"clc\n",
"clear\n",
"//Input data\n",
"C=85//Composition of C in percent\n",
"H2=12.3//Composition of H2 in percent\n",
"i=2.7//Incombustible residue composition in percent\n",
"ma=25//Mass of air supplied in kg of air per kg of fuel\n",
"pO2=23//Percentage of oxygen in gemetric analysis of air\n",
"pN2=77//Percentage of nitrogen in gemetric analysis of air\n",
"p=1.03//Total pressure of the exhaust gases in kg/cm^2\n",
"mC=12//Molecular weight of carbon\n",
"mO2=32//Molecular weight of O2\n",
"mCO2=44//Molecular weight of CO2\n",
"mH2=2//Molecular weght of H2\n",
"mH2O=18//Molecular weight of H2O\n",
"mN2=28//Molecular weight of N2\n",
"\n",
"//Calculations\n",
"xCO2=((C/100)*(mCO2/mC))//per kg of fuel, the products formed in kg\n",
"xH2O=((H2/100)*((2*mH2O)/(2*mH2)))//per kg of fuel, the products formed in kg\n",
"xO2=(((C/100)*(mO2/mC))+((H2/100)*(mO2/(2*mH2))))//Oxygen used in kg\n",
"xN2=(pN2/pO2)*xO2//Associated nitrogen in kg\n",
"mma=(xO2+xN2)//Minimum air required in kg\n",
"ea=(ma-mma)//Excess air supplied in kg\n",
"XO2=((pO2/100)*ea)//Mass of O2 in excess air in kg\n",
"XN2=((pN2/100)*ea)//Mass of N2 in excess air in kg\n",
"wCO2=xCO2/mCO2//Parts by volume for CO2\n",
"wO2=XO2/mO2//Parts by volume for O2\n",
"wN2=((XN2+xN2)/mN2)//Parts by volume for N2\n",
"wH2O=(xH2O/mH2O)//Parts by volume for H2)\n",
"Tv=(wCO2+wO2+wN2+wH2O)//Total parts by volume\n",
"ppCO2=(wCO2/Tv)*100//Percentage volume of CO2\n",
"ppO2=(wO2/Tv)*100//Percentage volume of O2\n",
"ppN2=(wN2/Tv)*100//Percentage volume of N2\n",
"ppH2O=(wH2O/Tv)*100//Percenatage volume of H2O\n",
"Tv1=(wCO2+wO2+wN2)//Total parts by volume for dry products\n",
"pp1CO2=(wCO2/Tv1)*100//Percentage volume of CO2 for dry analysis\n",
"pp1O2=(wO2/Tv1)*100//Percentage volume of O2 for dry analysis\n",
"pp1N2=(wN2/Tv1)*100//Percentage volume of N2 for dry analysis\n",
"papH2O=(ppH2O/100)*p//Partial pressure of H2O in kg/cm^2\n",
"\n",
"//Output\n",
"printf('The volumetric analysis for wet products gives (in percent) \n CO2 -> %3.1f \n O2 -> %3.1f \n N2 -> %3.1f \n H2O -> %3.1f \n\n The volumetric analysis for dry products gives (in percent) \n CO2 -> %3.1f \n O2 -> %3.1f \n N2 -> %3.1f \n\n The partial pressure of the vapour is %3.4f kg/cm^2',ppCO2,ppO2,ppN2,ppH2O,pp1CO2,pp1O2,pp1N2,papH2O) "
   ]
   }
,
{
		   "cell_type": "markdown",
		   "metadata": {},
		   "source": [
			"## Example 8.9: ANALYSIS_BY_WEIGHT.sce"
		   ]
		  },
  {
"cell_type": "code",
	   "execution_count": null,
	   "metadata": {
	    "collapsed": true
	   },
	   "outputs": [],
"source": [
"clc\n",
"clear\n",
"//Input data\n",
"CO2=15//Volumetric analysis composition in percent\n",
"CO=2.2//Volumetric analysis composition in percent\n",
"O2=1.6//Volumetric analysis composition in percent\n",
"N2=81.2//Volumetric analysis composition in percent\n",
"mO2=32//Molecular weight of O2\n",
"mCO2=44//Molecular weight of CO2\n",
"mCO=28//Molecular weight of CO2\n",
"mN2=28//Molecular weight of N2\n",
"\n",
"//Calculations\n",
"pCO2=(CO2/100)*mCO2//Proportional weight for CO2\n",
"pCO=(CO/100)*mCO//Proportional weight for CO\n",
"pO2=(O2/100)*mO2//Proportional weight for O2\n",
"pN2=(N2/100)*mN2//Proportional weight for N2\n",
"T=(pCO2+pCO+pO2+pN2)//Total proportional weight\n",
"ppCO2=(pCO2/T)*100//Weight per kg of exhaust gas for CO2\n",
"ppCO=(pCO/T)*100//Weight per kg of exhaust gas for CO\n",
"ppO2=(pO2/T)*100//Weight per kg of exhaust gas for O2\n",
"ppN2=(pN2/T)*100//Weight per kg of exhaust gas for N2\n",
"\n",
"printf('The analysis by weight is given by (in percent) \n CO2 -> %3.1f \n CO -> %3.1f \n O2 -> %3.1f \n N2 -> %3.1f',ppCO2,ppCO,ppO2,ppN2)"
   ]
   }
],
"metadata": {
		  "kernelspec": {
		   "display_name": "Scilab",
		   "language": "scilab",
		   "name": "scilab"
		  },
		  "language_info": {
		   "file_extension": ".sce",
		   "help_links": [
			{
			 "text": "MetaKernel Magics",
			 "url": "https://github.com/calysto/metakernel/blob/master/metakernel/magics/README.md"
			}
		   ],
		   "mimetype": "text/x-octave",
		   "name": "scilab",
		   "version": "0.7.1"
		  }
		 },
		 "nbformat": 4,
		 "nbformat_minor": 0
}
