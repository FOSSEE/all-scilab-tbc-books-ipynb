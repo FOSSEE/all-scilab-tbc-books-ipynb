{
"cells": [
 {
		   "cell_type": "markdown",
	   "metadata": {},
	   "source": [
       "# Chapter 4: FUEL AIR CYCLES AND REAL CYCLES"
	   ]
	},
{
		   "cell_type": "markdown",
		   "metadata": {},
		   "source": [
			"## Example 4.1: WORK_DONE.sce"
		   ]
		  },
  {
"cell_type": "code",
	   "execution_count": null,
	   "metadata": {
	    "collapsed": true
	   },
	   "outputs": [],
"source": [
"clc\n",
"clear\n",
"//Input data\n",
"d=20//Bore in cm\n",
"l=38//Stroke in cm\n",
"Vc=900//Clearance volume in c.c\n",
"p1=1//Pressure at the start of compression stroke in kg/cm^2\n",
"T1=90+273//Temperature at the start of compression stroke in K\n",
"x=0.75//Piston travelled 0.75 of the compression stroke\n",
"n=1.32//Compression curve index\n",
"wa=0.0125//Weight of air in kg\n",
"\n",
"//Calculations\n",
"Vs=(3.14/4)*d^2*l//Swept volume in c.c\n",
"V1=(Vs+Vc)//Volume in c.c\n",
"V2=(1-x)*Vs+Vc//Volume in c.c\n",
"p2=p1*(V1/V2)^n//Pressure in kg/cm^2\n",
"T2=(T1*(p2/p1)*(V2/V1))//Temperature in K\n",
"W=((p1*V1-p2*V2)/(n-1))*10^-2//Workdone in kg.m\n",
"dI=wa*0.17*(T2-T1)//Change in internal energy in kcal\n",
"q=(dI+(W/427))//Heat in kcal\n",
"\n",
"//Output\n",
"printf('When the cylinder has travelled %3.2f of the compression stroke, \n The volume is %3.0f c.c \n The pressure is %3.2f kg/cm^2 \n Temperature is %3.0f K \n\n The workdone on the gas is %3.2f kg.m \n\n Change in internal energy between the two points is %3.3f kcal',x,V2,p2,T2,W,dI)"
   ]
   }
],
"metadata": {
		  "kernelspec": {
		   "display_name": "Scilab",
		   "language": "scilab",
		   "name": "scilab"
		  },
		  "language_info": {
		   "file_extension": ".sce",
		   "help_links": [
			{
			 "text": "MetaKernel Magics",
			 "url": "https://github.com/calysto/metakernel/blob/master/metakernel/magics/README.md"
			}
		   ],
		   "mimetype": "text/x-octave",
		   "name": "scilab",
		   "version": "0.7.1"
		  }
		 },
		 "nbformat": 4,
		 "nbformat_minor": 0
}
