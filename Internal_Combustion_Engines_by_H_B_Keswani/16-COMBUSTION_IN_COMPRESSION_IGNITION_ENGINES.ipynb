{
"cells": [
 {
		   "cell_type": "markdown",
	   "metadata": {},
	   "source": [
       "# Chapter 16: COMBUSTION IN COMPRESSION IGNITION ENGINES"
	   ]
	},
{
		   "cell_type": "markdown",
		   "metadata": {},
		   "source": [
			"## Example 16.1: DELAY_TIME.sce"
		   ]
		  },
  {
"cell_type": "code",
	   "execution_count": null,
	   "metadata": {
	    "collapsed": true
	   },
	   "outputs": [],
"source": [
"clc\n",
"clear\n",
"//Input data\n",
"s=0.005//Delay in sec\n",
"d=30//Bore in cm\n",
"N=600//Speed in r.p.m\n",
"dx=[10,15,20]//Bore diameters in cm\n",
"\n",
"//Calculations\n",
"t=(s/d)*dx//Time of delay in sec. In textbook, t(2) is given wrong as 0.00025 sec instead of 0.0025 sec\n",
"\n",
"//Output\n",
"printf('The delay time for %i cm diameter bore is %3.5f sec \n The delay time for %i cm diameter bore is %3.5f sec \n The delay time for %i cm diameter bore is %3.5f sec',dx(1),t(1),dx(2),t(2),dx(3),t(3))"
   ]
   }
,
{
		   "cell_type": "markdown",
		   "metadata": {},
		   "source": [
			"## Example 16.2: PRESSURE.sce"
		   ]
		  },
  {
"cell_type": "code",
	   "execution_count": null,
	   "metadata": {
	    "collapsed": true
	   },
	   "outputs": [],
"source": [
"clc\n",
"clear\n",
"//Input data\n",
"d=[15,60]//Bore in cm\n",
"N=[1600,400]//Speed in r.p.m respectively\n",
"q=30//Injection of oil occupies 30 degrees of crank travel in each case\n",
"pc=30//Compression pressure in kg/cm^2\n",
"d=0.001//Delay time in sec\n",
"rp=5//Rapid combustion period is 5 degree of crank travel\n",
"pe=60//Compression pressure at the end of rapid compression in kg/cm^2\n",
"\n",
"//Calculations\n",
"//For small engine\n",
"It1=(60/N(1))*(q/360)//Injection time in sec\n",
"pf1=((d/It1)+(rp/pc))*100//Percent fuel\n",
"//For large engine\n",
"It2=(60/N(2))*(q/360)//Injection time in sec\n",
"pf2=((d/It2)+(rp/pc))*100//Percent fuel\n",
"pr=(pc*(pf2/pf1))//Pressure rise in kg/cm^2\n",
"mp=(pc+pr)//Maximum pressure in kg/cm^2\n",
"\n",
"//Output\n",
"printf('Pressure in the large engine is %3.1f kg/cm^2',mp)"
   ]
   }
,
{
		   "cell_type": "markdown",
		   "metadata": {},
		   "source": [
			"## Example 16.3: BRAKE_THERMAL_EFFICIENCY.sce"
		   ]
		  },
  {
"cell_type": "code",
	   "execution_count": null,
	   "metadata": {
	    "collapsed": true
	   },
	   "outputs": [],
"source": [
"clc\n",
"clear\n",
"//Input data\n",
"n=4//Number of cylinders\n",
"d=105//Bore in mm\n",
"l=127//Stroke in mm\n",
"BHP=63//Brake horse power in h.p\n",
"N=1800//Speed in r.p.m\n",
"t=15//Test time in min\n",
"mf=2.75//Mass of fuel in kg\n",
"CV=11000//Calorific value in kcal/kg\n",
"af=14.8//Air fuel ratio\n",
"v=0.805//Specific volume in m^3/kg\n",
"nv=80//Volumetric efficiency in percent\n",
"J=427//Mechanical equivalent of heat in kg.m/kcal\n",
"\n",
"//Calculations\n",
"bth=((BHP*4500)/(J*(mf/t)*CV))*100//Brake thermal efficiency in percent\n",
"Vs=((3.14/4)*(d/10)^2*(l/10))//Stroke volume in c.c\n",
"Vsw=(Vs*n*(N/2)*t)//Swept volume in c.c\n",
"Va=(Vsw*10^-6*(nv/100))//Volume of air sucked in m^3\n",
"wa=(Va/v)//Weight of air sucked in kg\n",
"wr=(af*mf)//Weight of air reqired in kg\n",
"pei=(wr/wa)*100//Percentage of air available for combustion\n",
"\n",
"//Output\n",
"printf('Brake thermal efficiency is %3.1f percent \n The percentage of air used for combustion is %i percent',bth,pei)\n",
""
   ]
   }
],
"metadata": {
		  "kernelspec": {
		   "display_name": "Scilab",
		   "language": "scilab",
		   "name": "scilab"
		  },
		  "language_info": {
		   "file_extension": ".sce",
		   "help_links": [
			{
			 "text": "MetaKernel Magics",
			 "url": "https://github.com/calysto/metakernel/blob/master/metakernel/magics/README.md"
			}
		   ],
		   "mimetype": "text/x-octave",
		   "name": "scilab",
		   "version": "0.7.1"
		  }
		 },
		 "nbformat": 4,
		 "nbformat_minor": 0
}
