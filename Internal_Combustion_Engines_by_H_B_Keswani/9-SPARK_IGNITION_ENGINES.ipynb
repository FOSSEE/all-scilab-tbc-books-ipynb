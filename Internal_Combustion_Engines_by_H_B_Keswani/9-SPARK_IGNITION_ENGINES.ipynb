{
"cells": [
 {
		   "cell_type": "markdown",
	   "metadata": {},
	   "source": [
       "# Chapter 9: SPARK IGNITION ENGINES"
	   ]
	},
{
		   "cell_type": "markdown",
		   "metadata": {},
		   "source": [
			"## Example 9.10: PETROL_CONSUMPTION.sce"
		   ]
		  },
  {
"cell_type": "code",
	   "execution_count": null,
	   "metadata": {
	    "collapsed": true
	   },
	   "outputs": [],
"source": [
"clc\n",
"clear\n",
"//Input data\n",
"x=2.8//Height above the nozzle in mm\n",
"va=58//Velocity of air in m/s\n",
"da=1.28//Density of air in kg/m^3\n",
"dp=750//Density of petrol in kg/m^3\n",
"An=1.8//Area of cross section of nozzle in mm^2\n",
"Cd=0.6//Coefficient of discharge of nozzle \n",
"Ca=0.84//Coefficient of discharge of air\n",
"\n",
"//Calculations\n",
"dpa=((va/Ca)^2*(da/(2*9.81)))//Change in pressure in kg/m^2\n",
"wf=((An*10^-6)*Cd*sqrt(2*9.81*dp*(dpa-((x/1000)*dp))))//Petrol consumption in kg/sec\n",
"\n",
"//Output\n",
"printf('Petrol consumption is %3.4f kg/sec',wf)"
   ]
   }
,
{
		   "cell_type": "markdown",
		   "metadata": {},
		   "source": [
			"## Example 9.11: AIR_FUEL_RATIO.sce"
		   ]
		  },
  {
"cell_type": "code",
	   "execution_count": null,
	   "metadata": {
	    "collapsed": true
	   },
	   "outputs": [],
"source": [
"clc\n",
"clear\n",
"//Input data\n",
"d=0.155//Diameter of orifice in mm\n",
"Cd=0.94//Coefficient of discharge\n",
"td=3.18//Throat diameter in cm\n",
"Ca=0.84//Coefficient of discharge\n",
"x=29//Venturi depression\n",
"dw=0.89//Minimum depression of water in cm\n",
"sa=1.1//Specific weight of air in kg/m^3\n",
"sg=0.72//Specific gravity of petrol\n",
"cyd=[7.75,10.75]//Cylinder dimensions in cm\n",
"fc=10.9//Fuel consumption in kg/hr\n",
"N=3200//Speed in r.p.m\n",
"n=4//Number of cylinders\n",
"\n",
"//Calculations\n",
"w=(((3.14/4)*td^2)/((3.14/4)*d^2))*(Ca/Cd)*sqrt((sa/(sg*1000))*(x/(x-dw)))//Air fuel ratio\n",
"Va=(3.14/4)*(td/100)^2*Ca*sqrt(2*9.81*sa*x*6)//Volume of air drawn/sec\n",
"vn=(Va/((3.14/4)*(cyd(1)/100)^2*(cyd(2)/100)*n*(N/(2*60))))*100//Volumetric efficiency in percent\n",
"\n",
"//Output\n",
"printf('Air fue ratio is %3.1f \n Volumetric efficiency is %3.1f percent',w,vn)"
   ]
   }
,
{
		   "cell_type": "markdown",
		   "metadata": {},
		   "source": [
			"## Example 9.12: THROAT_PRESSURE.sce"
		   ]
		  },
  {
"cell_type": "code",
	   "execution_count": null,
	   "metadata": {
	    "collapsed": true
	   },
	   "outputs": [],
"source": [
"clc\n",
"clear\n",
"//Input data\n",
"af=0.066//Air fuel ratio\n",
"p=0.83//Pressure at the venturi throat in kg/cm^2\n",
"pd=0.04//Pressure drop in kg/cm^2\n",
"va=245//Air flow at sea level in kg per hour\n",
"\n",
"//Calculations\n",
"dpa=1.03-p//Pressure at air cleaner in kg/cm^2\n",
"d=(1.03-pd-dpa)//Throat pressure when the air cleaner is fitted in kg/cm^2\n",
"naf=(af*sqrt((1.03-d)/dpa))//New air fuel ratio\n",
"\n",
"//Output\n",
"printf('(a) Throat pressure when the air cleaner is fitted is %3.2f kg/cm^2 \n (b) New air fuel ratio is %3.4f',d,naf)"
   ]
   }
,
{
		   "cell_type": "markdown",
		   "metadata": {},
		   "source": [
			"## Example 9.13: DROP_IN_PRESSURE.sce"
		   ]
		  },
  {
"cell_type": "code",
	   "execution_count": null,
	   "metadata": {
	    "collapsed": true
	   },
	   "outputs": [],
"source": [
"clc\n",
"clear\n",
"//Input data\n",
"x=3//Petrol stands 3 mm below\n",
"Ta=15.5+273//Temperature of air in K\n",
"pa=1.027//Pressure of air in kg/cm^2\n",
"R=29.27//Characteristic gas constant in kg.m/kg.K \n",
"sg=0.76//Specific gravity of fuel\n",
"fc=6.4//Consumption of fuel in kg/hour\n",
"jd=1.27//Jet diameter in mm\n",
"Cd=0.6//Nozzle discharge coefficienct\n",
"Ca=0.8//Discharge coefficient of air\n",
"af=0.066//Air fuel ratio\n",
"\n",
"//Calculations\n",
"df=(sg*1000)//Density of fuel in kg/m^3\n",
"da=(pa*10^4)/(R*Ta)//Density of air in kg/m^3\n",
"va=Ca*sqrt((2*9.81*x*df)/(da*1000))//Critical velocity of air in m/s\n",
"dpa=(((fc/(60*60))/((3.14/4)*(jd/1000)^2*Cd))^2/(2*9.81*df))+((x/1000)*df)//Drop in pressure in kg/m^3\n",
"dpaw=(dpa/1000)*100//Drop in pressure in cm of water\n",
"dj=sqrt(((fc/(3600*af))/(Ca*sqrt(2*9.81*da*dpa)))/(3.14/4))*1000//Effective throat diameter in mm\n",
"\n",
"//Output\n",
"printf('Critical air velocity is %3.2f m/sec \n Effective throat diameter of the venturi is %3.1f mm \n The drop in pressure in the venturi is %3.2f cm of water',va,dj,dpaw)"
   ]
   }
,
{
		   "cell_type": "markdown",
		   "metadata": {},
		   "source": [
			"## Example 9.14: ORIFICE_DIAMETER.sce"
		   ]
		  },
  {
"cell_type": "code",
	   "execution_count": null,
	   "metadata": {
	    "collapsed": true
	   },
	   "outputs": [],
"source": [
"clc\n",
"clear\n",
"//Input data\n",
"ma=6.11//Flow rate of air in kg/min\n",
"mf=0.408//Flow arte of petrol in kg/min\n",
"dp=768//Density of petrol in kg/m^3\n",
"Ta=15.5+273//Temperature of air in K\n",
"pa=1.027//Pressure of air in kg/cm^2\n",
"R=29.27//Characteristic gas constant in kg.m/kg.K \n",
"va=97.5//Speed of air in m/sec\n",
"Cv=0.84//Velocity coefficient\n",
"g=1.4//Ratio of specific heats \n",
"x=0.8//pressure at the venturi is 0.8 of the pressure drop at the choke\n",
"Cd=0.66//Coefficient of discharge\n",
"\n",
"//Calculations\n",
"rp=(1-((va/Cv)^2/(((2*9.81*g)/(g-1))*R*Ta)))^(g/(g-1))//Pressure ratio\n",
"p2=(pa*rp)//Pressure in kg/cm^2\n",
"T2=(Ta*rp^((g-1)/g))//Temperature in K\n",
"da=(p2/(R*T2))*10^4//Density in kg/m^3\n",
"daa=sqrt((ma/(60*va*da))/(3.14/4))*1000//Throat diameter in mm\n",
"df=sqrt((mf/(60*Cd*sqrt(2*9.81*dp*x*(pa-p2)*10^4)))/(3.14/4))*1000//Orifice diameter in mm\n",
"\n",
"//Output\n",
"printf('Throat diameter of the choke is %i mm \n The orifice diameter is %3.2f mm',daa,df)"
   ]
   }
,
{
		   "cell_type": "markdown",
		   "metadata": {},
		   "source": [
			"## Example 9.15: ORIFICE_DIAMETER.sce"
		   ]
		  },
  {
"cell_type": "code",
	   "execution_count": null,
	   "metadata": {
	    "collapsed": true
	   },
	   "outputs": [],
"source": [
"clc\n",
"clear\n",
"//Input data\n",
"ma=6.8//Mass flow rate of air in kg/min\n",
"mf=0.45//Mass flow rate of petrol in kg/min\n",
"pa=1.033//Pressure of air in kg/cm^2\n",
"Ta=20+273//Temperature of air in K\n",
"va=97.5//Velocity of air in m/s\n",
"Cv=0.8//Velocity coefficient\n",
"g=1.4//Ratio of specific heats \n",
"R=29.27//Characteristic gas constant in kg.m/kg.K \n",
"x=0.75//pressure at the venturi is 0.8 of the pressure drop at the choke\n",
"Cd=0.65//Coefficient of discharge\n",
"pw=800//Weight of petrol in kg per cu.m\n",
"\n",
"//Calculations\n",
"rp=(1-((va/Cv)^2/(((2*9.81*g)/(g-1))*R*Ta)))^(g/(g-1))//Pressure ratio\n",
"p2=(pa*rp)//Pressure in kg/cm^2\n",
"T2=(Ta*rp^((g-1)/g))//Temperature in K\n",
"da=(p2/(R*T2))*10^4//Density in kg/m^3\n",
"daa=sqrt((ma/(60*va*da))/(3.14/4))*100//Throat diameter in mm\n",
"df=sqrt((mf/(60*Cd*sqrt(2*9.81*pw*x*(pa-p2)*10^4)))/(3.14/4))//Orifice diameter in mm\n",
"\n",
"//Output\n",
"printf('Throat diameter of the choke is %3.2f cm \n The orifice diameter is %3.5f m',daa,df)"
   ]
   }
,
{
		   "cell_type": "markdown",
		   "metadata": {},
		   "source": [
			"## Example 9.16: POWER_DEVELOPED.sce"
		   ]
		  },
  {
"cell_type": "code",
	   "execution_count": null,
	   "metadata": {
	    "collapsed": true
	   },
	   "outputs": [],
"source": [
"clc\n",
"clear\n",
"//Input data\n",
"n=6//Number of cylinders\n",
"d=100//Diameter in mm\n",
"L=100//Stroke in mm\n",
"N=1500//Speed in r.p.m\n",
"ap=13.5//Air fuel ratio\n",
"Ta=80+273//Temperature of air in K\n",
"x=(7/8)//Ratio of volume drawn\n",
"nth=22//Thermal efficiency in percent\n",
"p=76//Pressure in cm of mercury\n",
"CV=9000//Calorific value of petrol in kcal/kg\n",
"l=1524//Altitude in m\n",
"dp=2.54//Drop in pressure in cm of barometric reading\n",
"lx=274//Altitude rise in m\n",
"\n",
"//Calculations\n",
"Vs=(3.14/4)*(d/10)^2*(L/10)//Swept volume in c.c\n",
"Va=(x*Vs)//Volume of air drawn in per cylinder per stroke in c.c\n",
"wa=(Va*10^-6*(N/2)*n)//Weight of air supplied to the engine per minute in kg\n",
"wf=(wa/ap)//Weight of fuel consumed per minute in kg\n",
"q=(wf*CV)//Heat supplied to the engine per minute in kcal\n",
"P=(q*(nth/100)*427)/4500//Power developed at ground level in H.P\n",
"db=(l/lx)*dp//Drop in barometric reading at an altitude of 1524 m in cm\n",
"Pd=(P/p)*(p-db)//Power developed at 1524 m altitude in H.P\n",
"\n",
"//Output\n",
"printf('Power developed at the ground level is %i H.P \n Power developed at an altitude of %i m is %i H.P',P,l,Pd)"
   ]
   }
,
{
		   "cell_type": "markdown",
		   "metadata": {},
		   "source": [
			"## Example 9.1: WEIGHT.sce"
		   ]
		  },
  {
"cell_type": "code",
	   "execution_count": null,
	   "metadata": {
	    "collapsed": true
	   },
	   "outputs": [],
"source": [
"clc\n",
"clear\n",
"//Input data\n",
"d=0.001//Diameter of the jet in m\n",
"vd=104//Venturi depression in cm of water. In textbook, it is given as 10 cm\n",
"Cd=0.65//Coefficient of discharge \n",
"g=0.76//Specific gravity of petrol\n",
"w=1000//Weight of water per one cu.m in kg\n",
"\n",
"//Calculations\n",
"pa=(vd/100)*w//Venturi depression in kg/m^2\n",
"dp=(g*w)//Density of petrol in kg/m^3\n",
"wf=(((3.14*d^2)/4)*Cd*sqrt(2*9.81*dp*pa))/10^-3//Petrol discharge in gm/sec neglecting nozzle lip\n",
"\n",
"//Output\n",
"printf('The weight of petrol discharged is %3.2f gm/sec',wf)"
   ]
   }
,
{
		   "cell_type": "markdown",
		   "metadata": {},
		   "source": [
			"## Example 9.2: AIR_FUEL_RATIO.sce"
		   ]
		  },
  {
"cell_type": "code",
	   "execution_count": null,
	   "metadata": {
	    "collapsed": true
	   },
	   "outputs": [],
"source": [
"clc\n",
"clear\n",
"//Input data\n",
"d1=0.075//Throat diameter in m\n",
"Ca=0.93//Coefficient of air flow\n",
"d2=0.005//Orifice diameter in m\n",
"Cf=0.68//Coefficient of fuel discharge\n",
"ap=1//Approach factor\n",
"dp=0.15//Pressure drop in kg/cm^2\n",
"da=1.29//Density of air in kg/m^3\n",
"df=720//Density of fuel in kg/m^3\n",
"\n",
"//Calcultions\n",
"w=(((3.14/4)*d1^2)/((3.14/4)*d2^2))*(Ca/Cf)*sqrt(da/df)//The air-fuel ratio neglecting the nozzle lip\n",
"\n",
"//Output\n",
"printf('The air-fuel ratio neglecting the nozzle lip is %3.1f',w)"
   ]
   }
,
{
		   "cell_type": "markdown",
		   "metadata": {},
		   "source": [
			"## Example 9.3: THEORETICAL_RATIO_OF_DIAMETER.sce"
		   ]
		  },
  {
"cell_type": "code",
	   "execution_count": null,
	   "metadata": {
	    "collapsed": true
	   },
	   "outputs": [],
"source": [
"clc\n",
"clear\n",
"//Input data\n",
"af=15//Air fuel ratio\n",
"dp=753//Density of petrol in kg/m^3\n",
"da=1.28//Density of air in kg/m^3\n",
"C=[0.84,0.7]//Coefficient of discharge for air and fuel respectively\n",
"\n",
"//Calculations\n",
"A=1/(af*(C(2)/C(1))*sqrt(dp/da))//Ratio of areas\n",
"d=sqrt(A)//Ratio of diamter of jet to diameter of venturi\n",
"x=(1/d)//Reverse of ratio\n",
"\n",
"//Output\n",
"printf('The ratio of diameter of jet to diameter of venturi is 1 : %3.1f',x)"
   ]
   }
,
{
		   "cell_type": "markdown",
		   "metadata": {},
		   "source": [
			"## Example 9.4: SECTION_AT_THE_THROAT.sce"
		   ]
		  },
  {
"cell_type": "code",
	   "execution_count": null,
	   "metadata": {
	    "collapsed": true
	   },
	   "outputs": [],
"source": [
"clc\n",
"clear\n",
"//Input data\n",
"D=[10,12]//Dimensions of four cylinder in 10 cm* 12 cm\n",
"n=4//Four cylinder\n",
"N=2000//Speed in r.p.m\n",
"d=0.03//Venturi throat in m\n",
"nv=70//Volumetric efficiency of the engine in percent\n",
"Ca=0.8//Coefficient of air flow\n",
"da=1.29//Density of air in kg/m^3\n",
"\n",
"//Calculations\n",
"Vs=(3.14/4)*(D(1)/100)^2*(D(2)/100)//Stroke volume of one cylinder in m^3\n",
"Va=(Vs*n*(nv/100)*(N/2))//Volume of air drawn per minute in m^3\n",
"w=(Va*da)/60//Weight of air drawn per sec\n",
"dp=((w/((3.14/4)*d^2*Ca))^2/(2*9.81*da))//Venturi depression in kg/cm^2\n",
"\n",
"//Output\n",
"printf('The venturi depression is %3.1f kg/m^2',dp)"
   ]
   }
,
{
		   "cell_type": "markdown",
		   "metadata": {},
		   "source": [
			"## Example 9.5: SIZE_OF_THE_VENTURI.sce"
		   ]
		  },
  {
"cell_type": "code",
	   "execution_count": null,
	   "metadata": {
	    "collapsed": true
	   },
	   "outputs": [],
"source": [
"clc\n",
"clear\n",
"//Input data\n",
"D=[8.25,11.5]//Dimensions of four cylinder in 8.25 cm* 11.5 cm\n",
"n=4//Four cylinder\n",
"N=3000//Speed in r.p.m\n",
"v=150//Venturi depression in cm of water\n",
"nv=80//Volumetric efficiency of the engine in percent\n",
"af=14//Air fuel ratio\n",
"Ca=0.84//Coefficient of air flow\n",
"Cf=0.7//Coefficient of fuel orifice \n",
"da=1.29//Density of air in kg/m^3\n",
"df=700//Density of fuel in kg/m^3\n",
"dw=1000//Density of water in kg/m^3\n",
"\n",
"//Calculations\n",
"Va=((3.14/4)*(D(1)/100)^2*(D(2)/100)*n*(nv/100)*(N/(2*60)))//Maximum amount of air passing through the venturi in m^3\n",
"vd=(v/100)*dw//Venturi depression in kg/m^2\n",
"va=(Ca*sqrt((2*9.81*vd)/da))//Velocity of air in m/s\n",
"d=sqrt((Va/va)*(4/3.14))//Throat diameter of venturi in m\n",
"Af=1/(af*(va/Va)*sqrt(df/da)*(Cf/Ca))//Area of orifice in m^2\n",
"df=sqrt((Af*4)/3.14)*1000//Diameter of orifice in mm\n",
"\n",
"//Output\n",
"printf('The size of venturi is %i kg/m^2 \n The diameter of fuel orifice is %3.2f mm',vd,df)"
   ]
   }
,
{
		   "cell_type": "markdown",
		   "metadata": {},
		   "source": [
			"## Example 9.6: FUEL_CONSUMPTION.sce"
		   ]
		  },
  {
"cell_type": "code",
	   "execution_count": null,
	   "metadata": {
	    "collapsed": true
	   },
	   "outputs": [],
"source": [
"clc\n",
"clear\n",
"D=[7.5,10]//Dimensions of four cylinder in 7.5 cm diameter and 10 cm stroke\n",
"n=6//Six cylinder\n",
"pC=84//Percentage of carbon in volatile fuel\n",
"pH2=16//Percentage of hydrogen in volatile fuel\n",
"dc=(38.5/1000)//Diameter of the throat of the choke tube in m\n",
"N=3000//Speed in r.p.m\n",
"nv=0.8//Volumetric efficiency in ratio\n",
"p=0.914//Pressure at the throat of the choke tube in kg/cm^2\n",
"T=15.5+273//Temperature at the throat of the choke tube in K\n",
"Ts=273//Temperature of 0 degree C in K\n",
"ps=1.027//Atmospheric pressure in kg/cm^2\n",
"Ra=29.27//Universal gas constant for air in kg.m/kg.K\n",
"Rf=9.9//Gas constant for fuel in kg.m/kg.K\n",
"pO2=23//Composition by weight of oxygen in air in percent\n",
"pN2=77//Composition by weight of nitogen in air in percent\n",
"mO2=32//Molecular weight of O2\n",
"mH2=2//Molecular weight oh H2\n",
"mC=12//Molecular weight of carbon\n",
"\n",
"//Calculations\n",
"Vm=((3.14/4)*(D(1)/100)^2*(D(2)/100)*n*(N/2)*nv)//Volume of mixture supplied per sec in m^3\n",
"qa=((100/pO2)*(((pC/100)*(mO2/mC))+((pH2/100)*(mO2/(2*mH2)))))//Quantity of air required for complete combustion of fuel in kg\n",
"vf=(Rf*Ts)/(ps*10^4)//Specific volume of volatile fuel in m^3/kg\n",
"va=(Ra*Ts)/(ps*10^4)//Specific volume of air in m^3/kg\n",
"wf=(Vm/(qa*va+vf))//Flow rate of fuel in kg/min\n",
"Fc=(wf*60)//Fuel consumption in kg/hour\n",
"da=(p*10^4)/(Ra*T)//Density of air at the throat of the choke in kg/m^3\n",
"Va=((qa*wf)/((3.14/4)*dc^2*da*60))//Speed of air at throat in m/s\n",
"\n",
"//Output\n",
"printf('(a) The fuel consumption is %3.1f kg/hr \n (b) The speed of the air through the choke is %3.1f m/s',Fc,Va)"
   ]
   }
,
{
		   "cell_type": "markdown",
		   "metadata": {},
		   "source": [
			"## Example 9.7: DIAMETER_OF_JET.sce"
		   ]
		  },
  {
"cell_type": "code",
	   "execution_count": null,
	   "metadata": {
	    "collapsed": true
	   },
	   "outputs": [],
"source": [
"clc\n",
"clear\n",
"//Input data\n",
"mf=7.5//Consumption of petrol per hour\n",
"gf=0.75//Specific gravity of fuel\n",
"Tf=25+273//Temperature of fuel in K\n",
"af=15//Air fuel ratio\n",
"dc=22//diameter of choke tube in mm\n",
"l=4//Top of the jet is 4 mm above the petrol level in the float chamber\n",
"Ca=0.82//Coefficient of discharge for air \n",
"Cf=0.7//Coefficient of discharge for fuel\n",
"R=29.27//Characteristic gas constant for air in kg.m/kg.K\n",
"p=1.03//Atmospheric pressure in kg/cm^2\n",
"\n",
"//Calculations\n",
"da=(p*10^4)/(R*Tf)//Density of air in kg/m^3 \n",
"dp=(gf*1000)//Density of petrol in kg/cm^3\n",
"dpa=((af*mf*10^6)/(60*60*3.14*Ca*(dc/2)^2))^2/(2*9.81*da)//Change in pressure in kg/m^2\n",
"df=sqrt((mf/(60*60*Cf*sqrt(2*9.81*dp*(dpa-((l/100)*dp)))))*(4/3.14))*1000//Diameter of the fuel jet in mm\n",
"\n",
"//Output\n",
"printf('Diameter of the jet of the carburettor is %3.2f mm',df) "
   ]
   }
,
{
		   "cell_type": "markdown",
		   "metadata": {},
		   "source": [
			"## Example 9.8: AIR_FUEL_RATIO.sce"
		   ]
		  },
  {
"cell_type": "code",
	   "execution_count": null,
	   "metadata": {
	    "collapsed": true
	   },
	   "outputs": [],
"source": [
"clc\n",
"clear\n",
"//Input data\n",
"td=7.5//Throat diameter in cm\n",
"Ca=0.85//Coefficient of air flow\n",
"fd=0.5//Diameter of fuel orifice in cm\n",
"Cd=0.7//Coefficient of discharge\n",
"l=5//Nozzle lip in mm\n",
"x=1//Approach factor\n",
"dpa=0.15//Pressure drop in kg/cm^2\n",
"da=1.29//Density of air in kg/m^3\n",
"dp=720//Density of fuel in kg/m^3\n",
"\n",
"//Calculations\n",
"afr1=(((3.14*td^2)/(3.14*fd^2))*(Ca/Cd)*sqrt(da/dp))//Air fuel ratio\n",
"afr2=((3.14*td^2)/(3.14*fd^2))*(Ca/Cd)*sqrt((da*dpa)/(dp*(dpa-((l/100)*(dp/10^6)))))//Air fuel ratio\n",
"\n",
"//Output\n",
"printf('The air fuel ratio \n (a) neglecting nozzle lip is %3.2f \n (b) nozzle lip is taken into account is %3.2f',afr1,afr2)"
   ]
   }
,
{
		   "cell_type": "markdown",
		   "metadata": {},
		   "source": [
			"## Example 9.9: VELOCITY.sce"
		   ]
		  },
  {
"cell_type": "code",
	   "execution_count": null,
	   "metadata": {
	    "collapsed": true
	   },
	   "outputs": [],
"source": [
"clc\n",
"clear\n",
"//Input data\n",
"td=7.5//Throat diameter in cm\n",
"Ca=0.85//Coefficient of air flow\n",
"fd=0.5//Diameter of fuel orifice in cm\n",
"Cd=0.7//Coefficient of discharge\n",
"l=5//Nozzle lip in mm\n",
"x=1//Approach factor\n",
"dpa=0.15//Pressure drop in kg/cm^2\n",
"da=1.29//Density of air in kg/m^3\n",
"dp=720//Density of fuel in kg/m^3\n",
"\n",
"//Calculations\n",
"v=sqrt(2*9.81*(l/1000)*(dp/da))//Velocity of air in m/s\n",
"\n",
"//Output\n",
"printf('Velocity of air flow is %3.1f m/s',v)"
   ]
   }
],
"metadata": {
		  "kernelspec": {
		   "display_name": "Scilab",
		   "language": "scilab",
		   "name": "scilab"
		  },
		  "language_info": {
		   "file_extension": ".sce",
		   "help_links": [
			{
			 "text": "MetaKernel Magics",
			 "url": "https://github.com/calysto/metakernel/blob/master/metakernel/magics/README.md"
			}
		   ],
		   "mimetype": "text/x-octave",
		   "name": "scilab",
		   "version": "0.7.1"
		  }
		 },
		 "nbformat": 4,
		 "nbformat_minor": 0
}
