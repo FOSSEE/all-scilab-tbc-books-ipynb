{
"cells": [
 {
		   "cell_type": "markdown",
	   "metadata": {},
	   "source": [
       "# Chapter 23: TESTING OF ENGINES"
	   ]
	},
{
		   "cell_type": "markdown",
		   "metadata": {},
		   "source": [
			"## Example 23.10: VOLUMETRIC_EFFICIENCY.sce"
		   ]
		  },
  {
"cell_type": "code",
	   "execution_count": null,
	   "metadata": {
	    "collapsed": true
	   },
	   "outputs": [],
"source": [
"clc\n",
"clear\n",
"//Input data\n",
"d=25//Bore in cm\n",
"l=50//Stroke in cm\n",
"N=240//Speed in r.p.m\n",
"n=100//Number of times fires per minute\n",
"qc=0.3//Quantity of coal gas used in cu.m per minute\n",
"h=100//Head in mm of water\n",
"bp=1.03//Barometric pressure in kg/cm^2\n",
"T=15+273//Temperature in K\n",
"ma=2.82//Mass of air used in kg per minute\n",
"R=29.45//Characteristic gas constant in kg.m/kg.K\n",
"\n",
"//Calculations\n",
"gp=(bp+(100/13.6)*(bp/76))//Gas pressure in kg/cm^2\n",
"Vc=(qc*(gp/bp)*(273/T))//Volume of coal gas at N.T.P in cu.m per minute\n",
"Vce=(Vc/n)//Volume of coal gas per explosion in cu.m at N.T.P\n",
"va=(ma*R*273)/(bp*10^4)//Volume of air taken in at N.T.P in cu.m per min\n",
"V=((va-(((N/2)-n)*Vce))/(N/2))//Volume in cu.m\n",
"tV=(V+Vce)//Total volume of charge in cu.m at N.T.P\n",
"Vs=((3.14/4)*(d^2*l)*10^-6)//Swept volume in cu.m\n",
"nv=(tV/Vs)*100//Volumetric efficiency in percent\n",
"\n",
"//Output\n",
"printf('(a) the charge of air per working cycle as measured at N.T.P is %3.5f cu.m \n (b) the volumetric efficiency is %3.1f percent',tV,nv)"
   ]
   }
,
{
		   "cell_type": "markdown",
		   "metadata": {},
		   "source": [
			"## Example 23.11: HEAT_BALANCE_SHEET.sce"
		   ]
		  },
  {
"cell_type": "code",
	   "execution_count": null,
	   "metadata": {
	    "collapsed": true
	   },
	   "outputs": [],
"source": [
"clc\n",
"clear\n",
"//Input data\n",
"d=18//Diameter in cm\n",
"l=24//Stroke in cm\n",
"t=30//Duration of trail in min\n",
"r=9000//Total number of revolutins\n",
"e=4445//Total number of explosions\n",
"mep=5.85//Mean effective pressure in kg/cm^2\n",
"Nl=40//Net load on brake wheel in kg\n",
"ed=1//Effective diameter of brake wheel in meter\n",
"tg=2.3//Total gas used at N.T.P in m^3\n",
"CV=4600//Calorific value of gas in kcal/m^3 at N.T.P\n",
"ta=36//Total air used in m^3\n",
"pa=720//Pressure of air in mm of Hg\n",
"Ta=18+273//Temperature of air in K\n",
"da=1.293//Density of air at N.T.P in kg/m^3\n",
"Te=350+273//Temperature of exhaust gases in K\n",
"Tr=18+273//Room temperature in K\n",
"Cp=0.24//Specific heat of exhaust gases in kJ/kg.K\n",
"twc=81.5//Total weight of cylinder jacket cooling water in kg\n",
"dT=33//Rise in temperature of jacket cooling water in degree C\n",
"R=29.45//Characteristic gas constant in kg.m/kg.degree C\n",
"\n",
"//Calculations\n",
"ihp=(mep*(l/100)*(3.14/4)*d^2*(e/t))/4500//Indicated horse power in h.p\n",
"bhp=(Nl*3.14*r*ed)/(4500*t)//Brake horse power in h.p\n",
"qs=(tg/t)*CV//Heat supplied at N.T.P in kcal\n",
"qbhp=(bhp*4500)/427//Heat equivalent of B.H.P in kcal/min\n",
"ql=(twc/t)*dT//Heat lost to cylinder jacket cooling water in kcal/min\n",
"VA=(ta*(273/Ta)*(pa/760))//Volume of air used at N.T.P in m^3\n",
"WA=(VA*da)/t//Weight of air used per min in kg\n",
"WG=(1.03*tg*10^4)/(R*273)//Weight of gas in kg\n",
"Wg=(WG/t)//Weight of gas per minute in kg\n",
"We=(WA+Wg)//Total weight of exhaust gases in kg\n",
"qle=(We*(Te-Tr)*Cp)//Heat lost of exhaust gases in kcal/min\n",
"qra=(qs-(qbhp+ql+qle))//Heat lost by radiation in kcal/min\n",
"nm=(bhp/ihp)*100//Mechanical efficiency in percent\n",
"ith=((ihp*4500)/(427*qs))*100//Indicated thermal efficiency in percent\n",
"\n",
"//Output\n",
"printf('         HEAT BALANCE SHEET\n          ------------------ \n\n Heat supplied per minute is %3.1f kcal/min \n\n Heat expenditure               (kcal per minute) \n 1.Heat equivalent of B.H.P is          %3.1f \n 2.Heat lost to jacket cooling water is %3.1f \n 3.Heat lost in exhaust gases is        %3.1f \n 4.Heat lost by radiation, etc., is     %3.1f \n                                      --------\n                                       %3.1f\n                                      --------',qs,qbhp,ql,qle,qra,qs)"
   ]
   }
,
{
		   "cell_type": "markdown",
		   "metadata": {},
		   "source": [
			"## Example 23.12: HEAT_BALANCE_SHEET.sce"
		   ]
		  },
  {
"cell_type": "code",
	   "execution_count": null,
	   "metadata": {
	    "collapsed": true
	   },
	   "outputs": [],
"source": [
"clc\n",
"clear\n",
"//Input data\n",
"gu=0.135//Gas used in m^3/min at N.T.P\n",
"CV=3990//Calorific value of gas in kcal/m^3 at N.T.P\n",
"dg=0.64//Density of gas in kg/m^3 at N.T.P\n",
"au=1.52//Air used in kg/min\n",
"C=0.24//Specific heat of exhaust gases in kJ/kg.K\n",
"Te=397+273//Temperature of exhaust gases in K\n",
"Tr=17+273//Room temperature in K\n",
"cw=6//Cooling water per minute in kg\n",
"rT=27.5//Rise in temperature in degree C\n",
"ihp=12.3//Indicated horse power in h.p\n",
"bhp=10.2//Brake horse power in h.p\n",
"\n",
"//Calculations\n",
"qs=(gu*CV*60)//Heat supplied in kcal/hour\n",
"qbhp=((bhp*4500*60)/427)//Heat equivalent of B.H.P in kcal/hr\n",
"ql=(cw*60*rT)//Heat lost in jacket cooling water in kcal/hr\n",
"mg=(gu*dg)//Mass of gas used per minute in kg\n",
"me=(mg+au)//Mass of exhaust gases per minute in kg\n",
"qe=(me*C*(Te-Tr)*60)//Heat carried away by exhaust gases in kcal/hour\n",
"qun=(qs-(qbhp+ql+qe))//Heat unaccounted in kcal/hour\n",
"\n",
"//Output\n",
"printf('Heat supplied is %3.0f kcal/hour \n Heat equivalent of B.H.P is %3.0f kcal/hr \n Heat lost in jacket cooling water is %3.0f kcal/hr \n Heat carried away by exhaust gases is %3.0f kcal/hour \n Heat unaccounted is %3.0f kcal/hour',qs,qbhp,ql,qe,qun)"
   ]
   }
,
{
		   "cell_type": "markdown",
		   "metadata": {},
		   "source": [
			"## Example 23.13: BRAKE_MEAN_EFFECTIVE_PRESSURE.sce"
		   ]
		  },
  {
"cell_type": "code",
	   "execution_count": null,
	   "metadata": {
	    "collapsed": true
	   },
	   "outputs": [],
"source": [
"clc\n",
"clear\n",
"//Input data\n",
"n=4//Number of cylinders\n",
"r=1//Radius in metre\n",
"N=1400//Speed in r.p.m\n",
"bl=14.5//Net brake load in kg\n",
"P=[9.8,10.1,10.3,10]//Loads on the brake in kg\n",
"d=9//Bore in cm\n",
"l=12//Stroke in cm\n",
"\n",
"//Calculations\n",
"bhp=(bl*2*3.14*r*N)/4500//Brake horse power in h.p\n",
"bhp1=(P(1)*2*3.14*r*N)/4500//Brake horse power in h.p\n",
"bhp2=(P(2)*2*3.14*r*N)/4500//Brake horse power in h.p\n",
"bhp3=(P(3)*2*3.14*r*N)/4500//Brake horse power in h.p\n",
"bhp4=(P(4)*2*3.14*r*N)/4500//Brake horse power in h.p\n",
"ihp1=bhp-bhp1//Indicated horse power in h.p\n",
"ihp2=bhp-bhp2//Indicated horse power in h.p\n",
"ihp3=bhp-bhp3//Indicated horse power in h.p\n",
"ihp4=bhp-bhp4//Indicated horse power in h.p\n",
"ihp=(ihp1+ihp2+ihp3+ihp4)//Indicated horse power in h.p\n",
"nm=(bhp/ihp)*100//Mechanical efficiency in percent\n",
"pm=((4500*bhp)/((l/100)*(3.14/4)*d^2*(N/2)))//Brake mean effective pressure in kg/cm^2\n",
"\n",
"//Output\n",
"printf('I.H.P is %3.1f h.p \n Mechanical efficiency is %3.1f percent \n Brake mean effective pressure is %3.0f kg/cm^2',ihp,nm,pm)"
   ]
   }
,
{
		   "cell_type": "markdown",
		   "metadata": {},
		   "source": [
			"## Example 23.14: HEAT_BALANCE_SHEET.sce"
		   ]
		  },
  {
"cell_type": "code",
	   "execution_count": null,
	   "metadata": {
	    "collapsed": true
	   },
	   "outputs": [],
"source": [
"clc\n",
"clear\n",
"//Input data\n",
"N=350//Speed in r.p.m\n",
"L=60//Net brake load in kg\n",
"mep=2.75//Mean effective pressure in kg/cm^2\n",
"oc=4.25//Oil consumption in kg/hour\n",
"jcw=490//Jacket cooling water in kg/hour\n",
"Tw=[20+273,45+273]//Temperature of jacket water at inlet and outlet in K\n",
"au=31.5//Air used per kg of oil in kg\n",
"Ta=20+273//Temperature of air in the test room in K\n",
"Te=390+273//Temperature of exhaust gases in K\n",
"d=22//Cylinder diameter in cm\n",
"l=28//Stroke in cm\n",
"bd=1//Effective brake diameter in m\n",
"CV=10500//Calorific value of oil in kcal/kg\n",
"pH2=15//Proportion of hydrogen in fuel oil in percent\n",
"C=0.24//Mean specific heat of dry exhaust gases\n",
"Cs=9.5//Specific heat of steam in kJ/kg.K\n",
"\n",
"//Calculations\n",
"ibp=(mep*(l/100)*(3.14/4)*d^2*N)/4500//Indicated brake power in h.p\n",
"bhp=(L*3.14*N*bd)/4500//Brake horse power in h.p\n",
"qs=(oc*CV)/60//Heat supplied per minute in kcal\n",
"qbhp=(bhp*4500)/427//Heat equivalent of B.H.P in kcal/min\n",
"pqbhp=(qbhp/qs)*100//Percenatge of  heat\n",
"ql=(jcw/60)*(Tw(2)-Tw(1))//Heat lost to cooling water in kcal/min\n",
"pql=(ql/qs)*100//Percenatge of  heat\n",
"wH2O=(9*(pH2/100)*(oc/60))//Weight of H2O produced per kg of fuel burnt in kg/min\n",
"twe=(oc*(au+1))/60//Total weight of wet exhaust gases per minute in kg\n",
"twd=(twe-wH2O)//Weight of dry exhaust gases per minute in kg\n",
"qle=(twd*C*(Te-Ta))//Heat lost to dry exhaust gases/min in kcal\n",
"pqle=(qle/qs)*100//Percenatge of  heat\n",
"qx=(100+538.9+0.5*(Te-373))//Heat in kcal/kg\n",
"qst=(wH2O*qx)//Heat to steam in kcal/min\n",
"pqst=(qst/qs)*100//Percenatge of  heat\n",
"qra=(qs-(qbhp+ql+qle+qst))//Heat lost by radiation in kcal/min\n",
"pqra=(qra/qs)*100//Percenatge of  heat\n",
"\n",
"//Output\n",
"printf('         HEAT BALANCE SHEET\n          ------------------ \n\n Heat supplied per minute is        %3.0f kcal/min  100 percent \n\n Heat expenditure              (kcal per minute)      (percent) \n 1.Heat equivalent of B.H.P is              %3.1f      %3.1f \n 2.Heat lost to cooling water is            %3.0f        %3.1f \n 3.Heat lost to dry exhaust gases is        %3.1f      %3.1f\n 4.Heat lost of steam in exhaust gases is  %3.0f         %3.1f\n 5.Heat lost by radiation, etc., is         %3.0f        %3.1f \n                                           ------------------\n        Total                               %3.0f        %3.0f \n                                           ------------------',qs,qbhp,pqbhp,ql,pql,qle,pqle,qst,pqst,qra,pqra,qs,(pqbhp+pql+pqle+pqst+pqra))"
   ]
   }
,
{
		   "cell_type": "markdown",
		   "metadata": {},
		   "source": [
			"## Example 23.15: HEAT_BALANCE_SHEET.sce"
		   ]
		  },
  {
"cell_type": "code",
	   "execution_count": null,
	   "metadata": {
	    "collapsed": true
	   },
	   "outputs": [],
"source": [
"clc\n",
"clear\n",
"//Input data\n",
"d=20//Diameter in cm\n",
"l=40//Stroke in cm\n",
"mep=5.95//Mean effective pressure in kg/cm^2\n",
"bt=41.5//Brake torque in kg.m\n",
"N=250//Speed in r.p.m\n",
"oc=4.2//Oil consumption in kg per hour\n",
"CV=11300//Calorific value of fuel in kcal/kg\n",
"jcw=4.5//Jacket cooling water in kg/min\n",
"rT=45//Rise in temperature in degree C\n",
"au=31//Air used in kg\n",
"Te=420//Temperature of exhaust gases in degree C\n",
"Tr=20//Room temperature in degree C\n",
"Cm=0.24//Mean specific heat of exhaust gases in kJ/kg.K\n",
"\n",
"//Calculations\n",
"ihp=(mep*(l/100)*(3.14/4)*d^2*(N/2))/4500//Indicated horse power in h.p\n",
"bhp=(bt*2*3.14*N)/4500//Brake horse power in h.p\n",
"q=(oc*CV)//Heat supplied in kcal/hour\n",
"qbhp=(bhp*4500*60)/427//Heat equivalent of B.H.P in kcal/hour\n",
"qfhp=((ihp-bhp)*4500*60)/427//Heat equivalent F.H.P in kcal/hour\n",
"qc=(jcw*rT*60)//Heat lost in cooling water in kcal/hour\n",
"qe=(oc*32*Cm*(Te-Tr))//Heat lost in exhaust gases in kcal/hour\n",
"hu=(q-(qbhp+qfhp+qc+qe))//Heat unaccounted in kcal/hour\n",
"\n",
"//Output\n",
"printf('Indicated horse power is %3.1f h.p \n Brake horse power is %3.2f h.p \n Heat supplied is %3.0f kcal/hour \n Heat equivalent of B.H.P is %3.0f kcal/hour \n Heat equivalent of F.H.P is %3.0f kcal/hour \n Heat lost in cooling water is %3.0f kcal/hour \n Heat lost in exhaust gases is %3.0f kcal/hour \n Heat unaccounted is %3.0f kcal/hour',ihp,bhp,q,qbhp,qfhp,qc,qe,hu)"
   ]
   }
,
{
		   "cell_type": "markdown",
		   "metadata": {},
		   "source": [
			"## Example 23.16: HEAT_BALANCE_SHEET.sce"
		   ]
		  },
  {
"cell_type": "code",
	   "execution_count": null,
	   "metadata": {
	    "collapsed": true
	   },
	   "outputs": [],
"source": [
"clc\n",
"clear\n",
"//Input data\n",
"ihp=45//Indicated horse power in h.p\n",
"bhp=37//Brake horse power in h.p\n",
"fu=8.4//Fuel used in kg/hour\n",
"CV=10000//Calorific value in kcal/kg\n",
"Tc=[15,70]//Inlet and outlet temperatures of cylinders in degree C\n",
"cj=7//Rate of flow of cylinder jacket in kg/min\n",
"Tw=[15,55]//Inlet and outlet temperatures of water in degree C\n",
"rw=12.5//Rate of water flow in kg per minute\n",
"Te=82//Final temperature of exhaust gases in degree C\n",
"Tr=17//Room temperature in degree C\n",
"af=20//Air fuel ratio\n",
"Cm=0.24//Mean specific heat of exhaust gases in kJ/kg.K\n",
"\n",
"//Calculations\n",
"q=(fu/60)*CV//Heat supplied in kcal/min\n",
"qbhp=(bhp*4500)/427//Heat equivalent of B.H.P in kcal/min\n",
"ql=(cj*(Tc(2)-Tc(1)))//Heat lost to cylinder jacket cooling water in kcal/min\n",
"qe=(rw*(Tw(2)-Tw(1)))//Heat lost by exhaust gases in kcal/min\n",
"qee=(Te-Tr)*Cm*(af+1)*fu/60//Heat of exhaust gas in kcal/min\n",
"te=(qe+qee)//Total heat lost to exhaust gases in kcal/min\n",
"hra=(q-(qbhp+ql+te))//Heat lost to radiation in kcal/min\n",
"ith=((ihp*4500)/(427*q))*100//Indicated thermal efficiency in percent\n",
"bth=((bhp*4500)/(427*q))*100//Brake thermal efficiency in percent\n",
"nm=(bhp/ihp)*100//Mechanical efficiency in percent\n",
"\n",
"//Output\n",
"printf('Heat supplied is %3.0f kcal/min \n Heat equivalent of B.H.P is %3.0f kcal/min \n Heat lost to cylinder jacket cooling water is %3.0f kcal/min \n Total heat lost to exhaust gases is %3.1f kcal/min \n Heat lost to radiation is %3.1f kcal/min \n Indicated thermal efficiency is %3.1f percent \n Brake thermal efficiency is %3.1f percent \n Mechanical efficiency is %3.1f percent',q,qbhp,ql,te,hra,ith,bth,nm)"
   ]
   }
,
{
		   "cell_type": "markdown",
		   "metadata": {},
		   "source": [
			"## Example 23.17: HEAT_LOST.sce"
		   ]
		  },
  {
"cell_type": "code",
	   "execution_count": null,
	   "metadata": {
	    "collapsed": true
	   },
	   "outputs": [],
"source": [
"clc\n",
"clear\n",
"//Input data\n",
"Vs=0.0015//Stroke volume in cu.m\n",
"rc=5.5//Volume compression ratio\n",
"p2=8//Pressure at the end of compression stroke in kg/cm^2\n",
"T2=350+273//Temperature at the end of compression stroke in K\n",
"p3=25//Pressure in kg/cm^2\n",
"x=(1/30)//Fraction of distance travelled by piston\n",
"pa=1/16//Petrol air mixture ratio\n",
"R=29.45//Characteristic gas constant in kg.m/kg degree C\n",
"CV=10000//Calorific value of fuel in kcal per kg\n",
"Cv=0.23//Specific heat in kJ/kg.K\n",
"\n",
"//Calculations\n",
"V2=(Vs*10^6)/(rc-1)//Volume in c.c\n",
"V3=(Vs*10^6)*x+V2//Volume in c.c\n",
"T3=(T2*p3*V3)/(p2*V2)//Temperature in K\n",
"W=((p3+p2)/2)*(V3-V2)//Workdone in kg.cm\n",
"mM=((p2*V2)/(T2*R*100))//Mass of mixture present in kg\n",
"dE=(mM*Cv*(T3-T2))//Change in energy in kcal\n",
"q=(dE+(W/(427*100)))//Heat in kcal\n",
"qc=(1/(1+(1/pa)))*mM*CV //Heat in kcal\n",
"ql=(qc-q)/mM//Heat lost in kcal per kg of charge\n",
"\n",
"//Output\n",
"printf('Heat lost per kg of charge during explosion is %3.0f kcal',ql)"
   ]
   }
,
{
		   "cell_type": "markdown",
		   "metadata": {},
		   "source": [
			"## Example 23.1: THERMAL_EFFICIENCY.sce"
		   ]
		  },
  {
"cell_type": "code",
	   "execution_count": null,
	   "metadata": {
	    "collapsed": true
	   },
	   "outputs": [],
"source": [
"clc\n",
"clear\n",
"//Input data\n",
"n=4//Four cylinder engine\n",
"N=1200//Speed in r.p.m\n",
"BHP1=26.3//Brake horse power in B.H.P\n",
"T=11.3//Average torque in kg\n",
"CV=10000//Calorific value of the fuel in kcal/kg\n",
"m=270//Flow rate in gm of petrol per B.H.P hour\n",
"\n",
"//Calculations\n",
"BHP2=(T*2*3.14*N)/4500//Average B.H.P on 3 cylinders \n",
"IHP=BHP1-BHP2//Average I.H.P of one cylinder\n",
"TIHP=(n*IHP)//Total I.H.P\n",
"p=((m/1000)*BHP1)/TIHP//Petrol used in kg/I.H.P hr\n",
"nth=((4500*60)/(427*p*CV))*100//Indicated Thermal efficiency in percent \n",
"\n",
"//Output\n",
"printf('Thermal efficiency is %3.1f percent',nth)"
   ]
   }
,
{
		   "cell_type": "markdown",
		   "metadata": {},
		   "source": [
			"## Example 23.2: INDICATED_HORSE_POWER.sce"
		   ]
		  },
  {
"cell_type": "code",
	   "execution_count": null,
	   "metadata": {
	    "collapsed": true
	   },
	   "outputs": [],
"source": [
"clc\n",
"clear\n",
"n=4//Four cylinder engine\n",
"d=0.1//Diameter of piston in m\n",
"l=0.15//Stroke in m\n",
"RPM=1600//Speed in r.p.m\n",
"ap=(5.76*10^-4)//Area of positive loop of indicator diagram in sq.m\n",
"an=(0.26*10^-4)//Area of negative loop of indicator diagram in sq.m\n",
"L=0.055//Length of the indicator diagram in m\n",
"k=(3.5/10^-6)//Spring constant in kg/m^2 per m\n",
"\n",
"//Calculations\n",
"NA=(ap-an)//Net area of the indicator diagram in sq.m\n",
"h=(NA/L)//Average height of diagram in m\n",
"Pm=(h*k)//Mean effective pressure in kg/m^2\n",
"IHP=(Pm*l*(3.14/4)*d^2*RPM*n)/4500//Indicated Horse Power\n",
"\n",
"//Output\n",
"printf('Indicated horse power of a four cylinder two stroke petrol engine is %3.1f',IHP)"
   ]
   }
,
{
		   "cell_type": "markdown",
		   "metadata": {},
		   "source": [
			"## Example 23.3: CALORIFIC_VALUE.sce"
		   ]
		  },
  {
"cell_type": "code",
	   "execution_count": null,
	   "metadata": {
	    "collapsed": true
	   },
	   "outputs": [],
"source": [
"clc\n",
"clear\n",
"//Input data\n",
"n=6//Number of cylinders\n",
"d=0.089//Bore in m\n",
"l=0.1016//Stroke in m\n",
"vc=3.183//Compression ratio\n",
"rn=55//Relative efficiency in percent\n",
"m=0.218//Petrol consumption in kg/hp.hr\n",
"Pm=(8.4/10^-4)//Indicated mean effective pressure in kg/m^2\n",
"N=2500//Speed in r.p.m\n",
"\n",
"//Calculations\n",
"an=(1-(1/(vc-1)))*100//Air standard efficiency in percent\n",
"nth=(rn*an)/100//Thermal efficiency in percent\n",
"CV=((4500*60)/(m*(nth/100)*427))//Calorific value in kcal/kg\n",
"IHP=((Pm*(3.14/4)*d^2*l*N*n)/(4500*2))//Indicated horse power\n",
"p=(m*IHP)//Petrol consumption in kg/hour\n",
"\n",
"//Output\n",
"printf('(1) The calorific value of petrol is %i kcal/kg \n (2) Corresponding petrol consumption is %3.1f kg/hour',CV,p)"
   ]
   }
,
{
		   "cell_type": "markdown",
		   "metadata": {},
		   "source": [
			"## Example 23.4: BHP_OF_ENGINE.sce"
		   ]
		  },
  {
"cell_type": "code",
	   "execution_count": null,
	   "metadata": {
	    "collapsed": true
	   },
	   "outputs": [],
"source": [
"clc\n",
"clear\n",
"//Input data\n",
"n=4//Number of cylinders\n",
"d=0.2//Bore in m\n",
"l=0.3//Stroke in m\n",
"N=300//Speed in r.p.m\n",
"af=5//Air to fuel ratio by volume. In textbook it is given as 4 which is wrong\n",
"nv=78//Volumetric efficiency in percent\n",
"CV=2200//Calorific value in kcal/cu.m at N.T.P\n",
"bth=23//Brake thermal efficiency in percent\n",
"\n",
"//Calculations\n",
"Vs=((3.14/4)*d^2*l)//Swept volume in cu.m\n",
"c=((nv/100)*Vs)//Total charge per stroke in cu.m\n",
"Vg=((c/af)*N)//Volume of gas used per min in cu.m at N.T.P\n",
"q=(CV*Vg)//Heat supplied in kcal/min\n",
"BHP=((bth/100)*q)/(4500/427)//Brake horse power\n",
"\n",
"//Output\n",
"printf('The volume of gas used per min is %3.3f cu.m at N.T.P \n B.H.P of engine is %3.1f',Vg,BHP)"
   ]
   }
,
{
		   "cell_type": "markdown",
		   "metadata": {},
		   "source": [
			"## Example 23.5: THERMAL_EFFICIENCY.sce"
		   ]
		  },
  {
"cell_type": "code",
	   "execution_count": null,
	   "metadata": {
	    "collapsed": true
	   },
	   "outputs": [],
"source": [
"clc\n",
"clear\n",
"//Input data\n",
"d=20//Bore in cm\n",
"l=37.5//Stroke in cm\n",
"r=6//Compression ratio\n",
"IPm=5//Indicated Mean effective pressure in kg/cm^2\n",
"ag=6//Air to gas ratio\n",
"CV=3070//Calorific value of gas in kcal/cu.m\n",
"T=75+273//Temperature in K\n",
"p=0.975//Pressure in kg/cm^2\n",
"RPM=240//Speed in r.p.m\n",
"g=1.4//Ratio of specific heats\n",
"\n",
"//Calculations\n",
"Vs=(3.14/4)*d^2*l//Stroke Volume in cu.m\n",
"Vg=(1/(r+1))*Vs//Volume of gas in cylinder in cu.m per cycle\n",
"x=(Vg*(p/1.03)*(273/T))//Volume at 'Vg' cu.m at 'p' kg/cm^2 and 'T' K are equivalent in cu.m\n",
"q=(CV*x)/10^6//Heat added in kcal per cycle\n",
"IHP=(IPm*(Vs/100)*(RPM/2))/4500//Indicated horse power\n",
"nth=((IHP*4500)/(427*q*(RPM/2)))*100//Thermal efficiency in percent\n",
"na=(1-(1/r^(g-1)))*100//Air standard efficiency in percent\n",
"rn=(nth/na)*100//Relative effeciency in percent\n",
"\n",
"//Output\n",
"printf('The thermal efficiency is %3.1f percent \n The relative efficiency is %3.1f percent \n Indicated horese power is %3.1f H.P',nth,rn,IHP)"
   ]
   }
,
{
		   "cell_type": "markdown",
		   "metadata": {},
		   "source": [
			"## Example 23.6: FUEL_CONSUMPTION.sce"
		   ]
		  },
  {
"cell_type": "code",
	   "execution_count": null,
	   "metadata": {
	    "collapsed": true
	   },
	   "outputs": [],
"source": [
"clc\n",
"clear\n",
"//Input data\n",
"n=4//Number of cylinders\n",
"d=6.25//Diametre in cm\n",
"l=9.5//Stroke in cm\n",
"t=678//Torque in kg.m\n",
"N=3000//Speed in r.p.m\n",
"Vc=60//Clearance volume in c.c\n",
"be=0.5//Brake efficiency ratio based on the air standard cycle\n",
"CV=10000//Calorific value in kcal/kg\n",
"g=1.4//Ratio of specific heats\n",
"\n",
"//Calculations\n",
"Vs=(3.14/4)*d^2*l//Stroke volume in c.c per cylinder\n",
"r=((Vs+Vc)/Vc)//Compression ratio\n",
"na=(1-(1/r^(g-1)))//Air standard efficiency\n",
"bth=(be*na)*100//Brake thermal efficiency in percent\n",
"bhp=((t/100)*2*3.14*N)/4500//B.H.P in H.P\n",
"q=(bhp*(4500/427))/(bth/100)//Heat supplied in kcal/min\n",
"F=(q*60)/CV//Fuel consumption in kg/hour\n",
"P=(bhp*4500*2*100)/(n*Vs*N)//pressure in kg/cm^2\n",
"\n",
"//Output\n",
"printf('The fuel consumption is %3.2f kg/hour \n The brake mean effective pressure is %3.2f kg/cm^2',F,P)"
   ]
   }
,
{
		   "cell_type": "markdown",
		   "metadata": {},
		   "source": [
			"## Example 23.7: PROPERTIES.sce"
		   ]
		  },
  {
"cell_type": "code",
	   "execution_count": null,
	   "metadata": {
	    "collapsed": true
	   },
	   "outputs": [],
"source": [
"clc\n",
"clear\n",
"//Input data\n",
"n=1//Number of cylinders\n",
"t=30//Trail time in min\n",
"m=5.6//Oil consumption in l\n",
"CV=9980//Calorific value of oil in kcal/kg\n",
"g=0.8//Specific gravity of oil \n",
"a=8.35//Average area of indicator diagram in sq.cm\n",
"l=8.4//Length of the indicator diagram in cm\n",
"is=5.5//Indicator spring scale\n",
"L=147.5//Brake load in kg\n",
"sp=20//Spring balance reading in kg\n",
"d=1.5//Effective brake wheel diameter in m\n",
"N=200//Speed in r.p.m\n",
"cyd=30//Cylinder diameter in cm\n",
"l1=45//Stroke in cm\n",
"mw=11//Jacket cooling water in kg/min\n",
"Tc=35+273//Temperature rise of cooling water in K\n",
"\n",
"//Calculations\n",
"mp=(a/l)*is//Mean effective pressure\n",
"ihp=((mp*(l1/100)*(3.14/4)*cyd^2*(N/2))/4500)//Indicated horse power in h.p\n",
"bhp=(L*3.14*d*N)/4500//Brake horse power in h.p\n",
"nm=(bhp/ihp)*100//Mechanical efficiency in percent\n",
"F=(m*(60/t)*g)//Fuel consumption in kg/hour\n",
"Fc=(F/bhp)//Specific fuel consumption in kg/B.H.P/hour\n",
"ith=((ihp*(4500/427))/((F/60)*CV))*100//Indicated thermal efficiency in percent\n",
"\n",
"//Output\n",
"printf('(a) I.H.P is %3.1f \n (b) B.H.P is %3.1f \n (c) Mechanical efficiency is %3.1f percent \n (d) Specific fuel consumption is %3.2f kg/B.H.P/hour \n (e) Indicated thermal efficiency is %3.1f percent',ihp,bhp,nm,Fc,ith)"
   ]
   }
,
{
		   "cell_type": "markdown",
		   "metadata": {},
		   "source": [
			"## Example 23.8: HEAT_BALANCE_SHEET.sce"
		   ]
		  },
  {
"cell_type": "code",
	   "execution_count": null,
	   "metadata": {
	    "collapsed": true
	   },
	   "outputs": [],
"source": [
"clc\n",
"clear\n",
"//Input data\n",
"d=15//Diameter in cm. In textbook it is given wrong as 39\n",
"l=45//Stroke in cm\n",
"f=9.5//Total fuel used in litres\n",
"CV=10500//Calorific value in kcal/kg\n",
"n=12624//Total no. of revolutions\n",
"imep=7.24//Gross i.m.e.p in kg/cm^2\n",
"pimep=0.34//Pumping i.m.e.p in kg/cm^2\n",
"L=150//Net load on brake in kg\n",
"db=1.78//Diameter of the brake wheel drum in m\n",
"dr=4//Diameter of rope in cm\n",
"cw=545//Cooling water circulated in litres\n",
"Tc=45//Cooling water temperature rise in degree C\n",
"g=0.8//Specific gravity of oil\n",
"\n",
"//Calculations\n",
"ihp=((imep-pimep)*(l/100)*3.14*d^2*n)/(4500*60)//I.H.P in h.p\n",
"q=(f*g*CV)/60//Heat supplied in kcal/min\n",
"bhp=(L*3.14*(db+(dr/100))*n)/(4500*60)//B.H.P in h.p\n",
"qbhp=(bhp*4500)/427//Heat equivalent of B.H.P in kcal/min\n",
"qw=(cw*Tc)/60//Heat lost to jacket cooling water in kcal/min\n",
"dq=(q-(qbhp+qw))//Heat unaccounted in kcal/min\n",
"\n",
"//Output\n",
"printf('Heat supplied is %3.0f kcal/min \n Heat equivalent of B.H.P is %3.0f kcal/min \n Heat lost to jacket cooling water is %3.0f kcal/min \n Heat unaccounted is %3.0f kcal/min',q,qbhp,qw,dq)"
   ]
   }
,
{
		   "cell_type": "markdown",
		   "metadata": {},
		   "source": [
			"## Example 23.9: HEAT_BALANCE_SHEET.sce"
		   ]
		  },
  {
"cell_type": "code",
	   "execution_count": null,
	   "metadata": {
	    "collapsed": true
	   },
	   "outputs": [],
"source": [
"clc\n",
"clear\n",
"//Input data\n",
"d=27//Diameter in cm\n",
"l=45//Stroke in cm\n",
"db=1.62//Effective diameter of the brake in m\n",
"t=(38*60+30)//Test duration in sec\n",
"CV=4650//Calorific value in kcal/m^3 at N.T.P\n",
"n=8080//Total no. of revolutions\n",
"en=3230//Total number of explosions\n",
"p=5.75//Mean effective pressure in kg/cm^2\n",
"V=7.7//Gas used in m^3\n",
"T=15+273//Atmospheric temperature in K\n",
"pg=135//pressure of gas in mm of water above atmospheric pressure\n",
"hb=750//Height of barometer in mm of Hg\n",
"L=92//Net load on brake in kg\n",
"w=183//Weigh of jacket cooling water in kg\n",
"Tc=47//Cooling water temperature rise in degree C\n",
"\n",
"//Calculations\n",
"ihp=(p*(l/100)*(3.14/4)*d^2*en)/(4500*(t/60))//I.H.P in h.p\n",
"bhp=(L*3.14*db*n)/(4500*(t/60))//B.H.P in h.p\n",
"pa=(hb+(pg/13))//Pressure of gas supplied in mm of Hg\n",
"Vg=(V*(273/T)*(pa/760))//Volume of gas used at N.T.P in m^3\n",
"q=(Vg*CV)/(t/60)//Heat supplied per minute in kcal\n",
"qbhp=(bhp*4500)/427//Heat equivalent of B.H.P in kcal/min\n",
"qc=(w/(t/60))*Tc//Heat lost to jacket cooling water in kcal/min\n",
"qra=(q-(qbhp+qc))//Heat lost to exhaust, etc in kcal/min\n",
"\n",
"//Output\n",
"printf('Heat supplied is %3.1f kcal/min \n Heat equivalent of B.H.P is %3.0f kcal/min \n Heat lost to jacket cooling water is %3.1f kcal/min \n Heat lost to exhaust radiation etc. is %3.1f kcal/min',q,qbhp,qc,qra)"
   ]
   }
],
"metadata": {
		  "kernelspec": {
		   "display_name": "Scilab",
		   "language": "scilab",
		   "name": "scilab"
		  },
		  "language_info": {
		   "file_extension": ".sce",
		   "help_links": [
			{
			 "text": "MetaKernel Magics",
			 "url": "https://github.com/calysto/metakernel/blob/master/metakernel/magics/README.md"
			}
		   ],
		   "mimetype": "text/x-octave",
		   "name": "scilab",
		   "version": "0.7.1"
		  }
		 },
		 "nbformat": 4,
		 "nbformat_minor": 0
}
