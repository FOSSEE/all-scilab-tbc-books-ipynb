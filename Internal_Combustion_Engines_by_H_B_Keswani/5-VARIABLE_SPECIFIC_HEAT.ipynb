{
"cells": [
 {
		   "cell_type": "markdown",
	   "metadata": {},
	   "source": [
       "# Chapter 5: VARIABLE SPECIFIC HEAT"
	   ]
	},
{
		   "cell_type": "markdown",
		   "metadata": {},
		   "source": [
			"## Example 5.10: PERCENTAGE_CHANGE_IN_EFFICIENCY.sce"
		   ]
		  },
  {
"cell_type": "code",
	   "execution_count": null,
	   "metadata": {
	    "collapsed": true
	   },
	   "outputs": [],
"source": [
"clc\n",
"clear\n",
"//Input data\n",
"r=20//Compression ratio\n",
"c=5//Cut off at 5%\n",
"dc=1//Specific heat at constant volume increases by 1%\n",
"Cv=0.171//pecific heat at constant volume in kJ/kg.K\n",
"R=29.3//Characteristic gas constant in mkg/kg/degree C\n",
"k=1.95//k can be obtained from relation de/e=-dcv/cv*(1-e/e)*(g-1)*((1/g)+ln(r)-(k^g*lnk)/(k^g-1))\n",
"J=427//Mechanical equivalent of heat in kg.m/kcal\n",
"\n",
"//Calculations\n",
"g=(R/(J*Cv))+1//Ratio of specific heats\n",
"e=(1-((1/g)*(1/r^(g-1))*((k^g-1)/(k-1))))//Air standard efficiency of the cycle\n",
"dee=((-(dc/100)*((1-e)/e)*(g-1)*((1/g)+log(r)-((k^g*log(k))/(k^g-1))))*100)//Change in efficiency due to 1% change in cv\n",
"\n",
"//Output\n",
"printf('Percentage change in air standard efficiency is %3.3f percent \n This indicates that there is a decrease in efficiency',dee)"
   ]
   }
,
{
		   "cell_type": "markdown",
		   "metadata": {},
		   "source": [
			"## Example 5.2: CHANGE_IN_AIR_STANDARD_EFFICIENCY.sce"
		   ]
		  },
  {
"cell_type": "code",
	   "execution_count": null,
	   "metadata": {
	    "collapsed": true
	   },
	   "outputs": [],
"source": [
"clc\n",
"clear\n",
"//Input data\n",
"r=8//Compression ratio\n",
"n=1.41//Adiabatic index of the medium\n",
"cv=0.17//Mean Specific heat at constant volume in kcal/kg/degree C\n",
"x=2//Percentage with which spcific heat at constant volume increases\n",
"R=29.3//Characteristic gas constant in mkg/kg/degree C\n",
"J=427//Mechanical equivalent of heat in kg.m/kcal\n",
"\n",
"//Calculations\n",
"e=(1-(1/r^(n-1)))//Air standard efficiency neglecting the variation in specific heat\n",
"debye=((x/100)*((1-e)/e)*(R/(J*cv))*log(r))*100//Ratio of de and e in percent\n",
"\n",
"//Output\n",
"printf('The change in air standard efficiency of the cycle is %3.3f percent',debye)"
   ]
   }
,
{
		   "cell_type": "markdown",
		   "metadata": {},
		   "source": [
			"## Example 5.3: WORK_DONE.sce"
		   ]
		  },
  {
"cell_type": "code",
	   "execution_count": null,
	   "metadata": {
	    "collapsed": true
	   },
	   "outputs": [],
"source": [
"\n",
"clc\n",
"clear\n",
"//Input data\n",
"//Cv=0.125+0.000005T where Cv is Specific heat at constant volume and T is the temperature in K\n",
"R=28.9//Characteristic gas constant in mkg/kg/degree C\n",
"T=[100+273,50+273]//Temperature in K\n",
"J=427//Mechanical equivalent of heat in kg.m/kcal\n",
"\n",
"//Calculations\n",
"function y=f(x),y=0.125+(0.00005*x),endfunction\n",
"I=J*intg(303,373,f)\n",
"\n",
"//Output\n",
"printf('The work done is %i m.kg/kg of gas',I)"
   ]
   }
,
{
		   "cell_type": "markdown",
		   "metadata": {},
		   "source": [
			"## Example 5.4: PERCENTAGE_OF_STROKE.sce"
		   ]
		  },
  {
"cell_type": "code",
	   "execution_count": null,
	   "metadata": {
	    "collapsed": true
	   },
	   "outputs": [],
"source": [
"clc\n",
"clear\n",
"//Input data\n",
"af=25//Air fuel ratio\n",
"cv=[0.17,0.00004]//Cv=0.17+0.00004T where Cv is Specific heat at constant volume and T is the temperature in K\n",
"r=14//Compression ratio\n",
"p1=1//Pressure at the beginning of compression in kg/cm^2\n",
"T1=153+273//Temperature at the beginning of compression in K\n",
"CV=10000//Heating value of fuel in kcal/kg\n",
"n=1.35//Adiabatic constant\n",
"R=29//Characteristic gas constant in mkg/kg.K\n",
"J=427//Mechanical equivalent of heat in kg.m/kcal\n",
"\n",
"//Calculations\n",
"T2=(T1*r^(n-1))//Temperature at the end of compression in K\n",
"a=(cv(2)/2)//For solving T3\n",
"b=cv(1)+(R/J)//For solving T3\n",
"c=(-T2*cv(1))-((cv(2)/2)*T2^2)-((R/J)*T2)-(CV/(af+1))//Foe solving T3\n",
"T3=(-b+sqrt(b^2-(4*a*c)))/(2*a)//Soving for T3 in K\n",
"pc=(((T3/T2)-1)/(r-1))*100//Percentage cut off\n",
"\n",
"//Output\n",
"printf('The percentage of stroke at which the constant pressure combustion stops is %i percent',pc)"
   ]
   }
,
{
		   "cell_type": "markdown",
		   "metadata": {},
		   "source": [
			"## Example 5.5: PERCENTAGE_OF_STROKE.sce"
		   ]
		  },
  {
"cell_type": "code",
	   "execution_count": null,
	   "metadata": {
	    "collapsed": true
	   },
	   "outputs": [],
"source": [
"clc\n",
"clear\n",
"//Input data\n",
"af=25//Air fuel ratio\n",
"CV=10000//Calorific value in kcal/kg\n",
"cv=[0.17,0.00004]//Cv=0.17+0.00004T where Cv is Specific heat at constant volume and T is the temperature in K\n",
"r=14//Compression ratio\n",
"T2=800+273//Temperature at the end of compression in K\n",
"R=29//Characteristic gas constant in mkg/kg/degree C\n",
"J=427//Mechanical equivalent of heat in kg.m/kcal\n",
"\n",
"//Calculations\n",
"CVm=(CV/(af+1))//Calorific value of mixture in kcal/kg\n",
"cpv=(R/J)//Difference in mean specific heats in kcal/kg mol.K\n",
"a=(cv(2)/2)//For solving T3\n",
"b=cpv+cv(1)//For solving T3\n",
"c=(-T2*(cpv+cv(1)))-((cv(2)/2)*T2^2)-CVm//Foe solving T3\n",
"T3=(-b+sqrt(b^2-(4*a*c)))/(2*a)//Soving for T3 in K\n",
"s=((T3/T2)/(r-1))*100//Percentage of the stroke\n",
"\n",
"//Output\n",
"printf('The percentage of the stroke at which the combustion will be complete is %3.2f percent',s)"
   ]
   }
,
{
		   "cell_type": "markdown",
		   "metadata": {},
		   "source": [
			"## Example 5.6: CHANGE_IN_ENTHALPY.sce"
		   ]
		  },
  {
"cell_type": "code",
	   "execution_count": null,
	   "metadata": {
	    "collapsed": true
	   },
	   "outputs": [],
"source": [
"clc\n",
"clear\n",
"//Input data\n",
"T=[500,2000]//Change in temperature in K\n",
"x=[11.515,-172,1530]//Cp=11.515-172/sqrt(T)+1530/T in kcal/kg mole.K\n",
"mO2=32//Molecular weight of oxygen\n",
"\n",
"//Calculations\n",
"function y=f(T),y=(x(1)+(x(2)/sqrt(T))+(x(3)/T)),endfunction\n",
"I=-intg(T(2),T(1),f)//Integration\n",
"dh=(I/mO2)//Change in enthalpy in kcal/kg\n",
"\n",
"//Output\n",
"printf('The change in enthalpy is %3.1f kcal/kg',dh)"
   ]
   }
,
{
		   "cell_type": "markdown",
		   "metadata": {},
		   "source": [
			"## Example 5.7: TEMPERATURE_AND_PRESSURE.sce"
		   ]
		  },
  {
"cell_type": "code",
	   "execution_count": null,
	   "metadata": {
	    "collapsed": true
	   },
	   "outputs": [],
"source": [
"clc\n",
"clear\n",
"//Input data\n",
"r=14//Compression ratio\n",
"s=5//Fuel injection stops at 5% stroke after inner head centre\n",
"pm=50//Maximum pressure in kg/cm^2\n",
"p4=1//Pressure at the end of suction stroke in kg/cm^2\n",
"T4=90+273//Temperature at the end of suction stroke in K\n",
"R=29.3//Characteristic gas constant in mkg/kg/degree C\n",
"cv=[0.171,0.00003]//Cv=0.171+0.00003T where Cv is Specific heat at constant volume and T is the temperature in K\n",
"J=427//Mechanical equivalent of heat in kg.m/kcal\n",
"\n",
"//Calculations\n",
"a=(R/J)+cv(1)//a value in kcal/kg.mole.K\n",
"g=(a+cv(2)*T4)/(cv(1)+cv(2)*T4)//Adiabatic index of compression\n",
"z=1.3//Rounding off 'z' value to one decimal.\n",
"T5=(T4*r^(z-1))//Temperature in K\n",
"p5=(p4*r^g)//Pressure in kg/cm^2\n",
"T1=T5*(pm/p5)//Tmperature in K\n",
"T2=(T1*(1+(s/100)*(r-1)))//Temperature in K\n",
"T3=(T2*((1+(s/100)*(r-1))/r)^(g-1))//Temperature in K\n",
"p3=(p4*(T3/T4))//Pressure in kg/cm^2\n",
"function y=f1(T),y=cv(1)+(cv(2)*T),endfunction\n",
"I1=intg(T5,T1,f1)\n",
"function y=f2(T),y=(a+(cv(2)*T)),endfunction\n",
"I2=intg(T1,T2,f2)//I2 answer is given wrong in the textbook\n",
"qs=(I1+I2)//Heat supplied per kg of air in kcal/kg\n",
"function y=f3(T),y=a+(cv(2)*T),endfunction\n",
"qre=intg(T4,T3,f3)//Heat required per kg of air in kcal/kg\n",
"nth=((qs-qre)/qs)*100//Thermal efficiency in percent\n",
"\n",
"//Output\n",
"printf('The tempertautes and pressures at salient points of the cycle are : \n T1 = %3.0f K  p1 = %3.1f kg/cm^2 \n T2 = %3.0f K  p2 = %3.1f kg/cm^2 \n T3 = %3.0f K  p3 = %3.1f kg/cm^2 \n T4 = %3.0f K  p4 = %3.1f kg/cm^2 \n T5 = %3.0f K  p5 = %3.1f kg/cm^2 \n\n Heat supplied per kg of air is %3.1f kcal/kg \n\n The thermal efficiency of the cycle is %3.1f percent',T1,pm,T2,pm,T3,p3,T4,p4,T5,p5,qs,nth)\n",
"//Textbook answers are given wrong"
   ]
   }
,
{
		   "cell_type": "markdown",
		   "metadata": {},
		   "source": [
			"## Example 5.8: TEMPERATURE_AND_HEAT.sce"
		   ]
		  },
  {
"cell_type": "code",
	   "execution_count": null,
	   "metadata": {
	    "collapsed": true
	   },
	   "outputs": [],
"source": [
"clc\n",
"clear\n",
"//Input data\n",
"r=14//Compression ratio\n",
"c=5//Cut off takes place at 5% of the stroke\n",
"p1=1//Pressure at the beginning of compression in kg/cm^2. In texbook, it is given wrong as 10\n",
"T1=90+273//Temperature at the beginning of compression in K\n",
"p3=50//Maximum pressure in kg/cm^2\n",
"R=29.3//Characteristic gas constant in mkg/kg/degree C\n",
"cv=[0.171,0.00003]//Cv=0.171+0.00003T where Cv is Specific heat at constant volume and T is the temperature in K\n",
"g1=1.4//Ratio of specific heats\n",
"J=427//Mechanical equivalent of heat in kg.m/kcal\n",
"\n",
"//Calculations\n",
"T2x=(T1*r^(g1-1))//Temperature in K\n",
"function y=f1(T),y=cv(1)+(cv(2)*T),endfunction\n",
"I1=intg(T1,T2x,f1)\n",
"Cv=(1/(T2x-T1))*I1//Mean value of Cv in kJ/kg.K\n",
"Cp=(Cv+(R/J))//Mean value of Cp in kJ/kg.K\n",
"g=1.35//(Cp/Cv) value and rounded off to 2 decimal places for calculation purpose. Ratio of specific heats\n",
"T2=(T1*r^(g-1))//Temperature in K\n",
"I2=intg(T1,T2,f1)\n",
"CV=(1/(T2-T1))*I2//Maen value of Cv in kJ/kg.K\n",
"CP=(Cv+(R/J))//Mean value of Cp in kJ/kg.K\n",
"g2=1.36//(Cp/Cv) value and rounded off to 2 decimal places for calculation purpose.Ratio of specific heats\n",
"T2a=(T1*r^(g2-1))//Temperature in K\n",
"p2=(p1*r*(T2a/T1))//Pressure in kg/cm^2\n",
"T3=(T2a*(p3/p2))//Temperature in K\n",
"T4=(((r-1)*(c/100))+1)*T3//Temperature in K\n",
"g3=1.3//Assuming gamma as 1.3 for process 4-5\n",
"T5=(T4/(r/(((r-1)*(c/100))+1))^(g3-1))//Temperature in K\n",
"cV=cv(1)+(cv(2)/2)*(T5+T4)//Mean value of Cv in kJ/kg.K\n",
"cP=cV+(R/J)//Mean value of Cp in kJ/kg.K\n",
"g4=(cP/cV)//Ratio of specific heats\n",
"T5a=(T4/(r/(((r-1)*(c/100))+1))^(g4-1))\n",
"I3=intg(T2a,T3,f1)\n",
"function y=f2(T),y=cv(1)+(R/J)+(cv(2)*T),endfunction\n",
"I4=intg(T3,T4,f2)//Textbook answer is wrong\n",
"q=I3+I4//Heat supplied per kg of working substance in kcal/kg\n",
"\n",
"//Output\n",
"printf('(a) Temperatures at all the points of the cycle are: \n T1 = %i K \n T2 = %3.0f K \n T3 = %3.0f K \n T4 = %3.0f K \n T5 = %i K \n\n (b) heat supplied per kg of the working substance is %3.1f kcal/kg',T1,T2a,T3,T4,T5a,q)\n",
"//Textbook answer is wrong"
   ]
   }
],
"metadata": {
		  "kernelspec": {
		   "display_name": "Scilab",
		   "language": "scilab",
		   "name": "scilab"
		  },
		  "language_info": {
		   "file_extension": ".sce",
		   "help_links": [
			{
			 "text": "MetaKernel Magics",
			 "url": "https://github.com/calysto/metakernel/blob/master/metakernel/magics/README.md"
			}
		   ],
		   "mimetype": "text/x-octave",
		   "name": "scilab",
		   "version": "0.7.1"
		  }
		 },
		 "nbformat": 4,
		 "nbformat_minor": 0
}
