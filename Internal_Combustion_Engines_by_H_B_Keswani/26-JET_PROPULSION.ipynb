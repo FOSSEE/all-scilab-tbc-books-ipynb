{
"cells": [
 {
		   "cell_type": "markdown",
	   "metadata": {},
	   "source": [
       "# Chapter 26: JET PROPULSION"
	   ]
	},
{
		   "cell_type": "markdown",
		   "metadata": {},
		   "source": [
			"## Example 26.1: PROPERTIES.sce"
		   ]
		  },
  {
"cell_type": "code",
	   "execution_count": null,
	   "metadata": {
	    "collapsed": true
	   },
	   "outputs": [],
"source": [
"clc\n",
"clear\n",
"//Input data\n",
"Ve=2700//Jet exit velocity in m/s\n",
"Vf=1350//Forward flight velocity in m/s\n",
"m=78.6//Propellant consumption in kg/s\n",
"\n",
"//Calculations\n",
"T=((m/9.81)*(Ve-Vf))//Thrust in kg\n",
"TH=((T*Vf)/75)/10^5//Thrust horse power in HP*10^5\n",
"pn=(2/(1+(Ve/Vf)))*100//Propulsive efficiency in percent\n",
"\n",
"//Output\n",
"printf('(i) Thrust is %3.0f kg \n (ii) Thrust horse power is %3.3f*10^5 H.P \n (iii) Propulsive efficiency is %3.1f percent',T,TH,pn)"
   ]
   }
,
{
		   "cell_type": "markdown",
		   "metadata": {},
		   "source": [
			"## Example 26.2: AIR_FUEL_RATIO.sce"
		   ]
		  },
  {
"cell_type": "code",
	   "execution_count": null,
	   "metadata": {
	    "collapsed": true
	   },
	   "outputs": [],
"source": [
"clc\n",
"clear\n",
"//Input data\n",
"CV=10000//Calorific value in kcal/kg\n",
"F=1.4//Fuel consumption in kg per hour per kg of thrust\n",
"T=900//Thrust in kg\n",
"Va=425//Aircraft velocity in m/s\n",
"w=19.5//Weight of air in kg/sec\n",
"\n",
"//Calculations\n",
"af=(w/((F*T)/3600))//Air fuel ratio\n",
"nv=((T*Va*3600)/(427*F*T*CV))*100//Overall efficiency in percent\n",
"\n",
"//Output\n",
"printf('Air fuel ratio is %3.1f \n Overall efficiency is %3.1f percent',af,nv)"
   ]
   }
,
{
		   "cell_type": "markdown",
		   "metadata": {},
		   "source": [
			"## Example 26.3: PROPERTIES.sce"
		   ]
		  },
  {
"cell_type": "code",
	   "execution_count": null,
	   "metadata": {
	    "collapsed": true
	   },
	   "outputs": [],
"source": [
"clc\n",
"clear\n",
"//Input data\n",
"a=11500//Altitude in m\n",
"n=123//Number of passengers\n",
"c=3//Cargo in tonnes\n",
"Va=650//Velocity of air craft in km/hour\n",
"d=640//Drag in kg\n",
"pe=50//Propulsion efficiency in percent\n",
"oe=18//Overall efficiency in percent\n",
"CV=10000//Calorific value in kcal/kg\n",
"da=0.0172//Density of air at 11500 m in kg/cm^2\n",
"\n",
"//Calculations\n",
"Vp=((Va*1000)/3600)//Velocity of aeroplane in m/s\n",
"Vr=((2/(pe/100))-1)*Vp//Velocity of working medium in m/s\n",
"nhp=((d*Vp)/(75*(pe/100)))//Net horse power in H.P\n",
"wf=((nhp*75*3600)/((oe/100)*427*CV))//Mass flow rate in kg/hr\n",
"thp=((Va*Vp)/75)//Thrust horse power in H.P\n",
"F=(wf/thp)//Fuel consumption per thrust H.P hour in kg\n",
"W=((Va*9.81)/Vr)//Air flow in kg/sec\n",
"va=(W/da)//Volume of air in cu.m/sec\n",
"aa=(va/(3*Vr))//Area of jet in m^2\n",
"d=sqrt((4*aa)/3.14)*100//Diameter of jet in cm\n",
"af=((W*3600)/wf)//Air fuel ratio\n",
"\n",
"//Output\n",
"printf('(a) Absolute velocity of the jet is %3.1f m/sec \n (b) Net horse power of the gas plant is %3.0f H.P \n (c) Fuel consumption per thrust H.P hour is %3.3f kg \n (d) Diameter of the jet is %3.1f cm \n (e) Air-fuel ratio of the engine is %3.1f',Vr,nhp,F,d,af)\n",
""
   ]
   }
,
{
		   "cell_type": "markdown",
		   "metadata": {},
		   "source": [
			"## Example 26.4: AREA.sce"
		   ]
		  },
  {
"cell_type": "code",
	   "execution_count": null,
	   "metadata": {
	    "collapsed": true
	   },
	   "outputs": [],
"source": [
"clc\n",
"clear\n",
"//Input data\n",
"p1=7//Pressure of gas before expansion in kg/cm^2\n",
"p2=5//Pressure of gas after expansion in kg/cm^2\n",
"T1=250+273//Temperature of gas before expansion in K\n",
"Cp=0.24//Specific heat at constant pressure in kJ/kg.K\n",
"Cv=0.17//Specific heat at constant volume in kJ/kg.K\n",
"nv=0.8//Nozzle efficiency\n",
"\n",
"//Calculations\n",
"R=427*(Cp-Cv)//Characteristic gas constant in kg.m/kg.K\n",
"g=(Cp/Cv)//Ratio of specific heats\n",
"V1=(R*T1)/(p1*10^4)//Volume in cu.m per kg\n",
"V2=(V1*(p1/p2)^(1/g))//Volume in cu.m per kg\n",
"Wd=(g/(g-1))*(p1*V1-p2*V2)*10^4//Work done in m.kg per kg\n",
"KE=(nv*Wd)//Kinetic energy at exit in m.kg per kg\n",
"v3=sqrt(2*9.81*nv*Wd)//Velocity in m/s\n",
"T2=(T1*(p2/p1)*(V2/V1))//Temperature in K\n",
"T3=(((1-nv)*Wd)/(427*Cp))+T2//Temperature in K\n",
"V3=(V2*(T3/T2))//Volume in cu.m per kg\n",
"qa=(V3/v3)*10^4//Discharge area unit rate of mass flow in cm^2\n",
"\n",
"//Output\n",
"printf('Area of discharge per unit rate of mass flow is %3.2f sq.cm',qa)\n",
""
   ]
   }
,
{
		   "cell_type": "markdown",
		   "metadata": {},
		   "source": [
			"## Example 26.5: POWER_AND_THRUST.sce"
		   ]
		  },
  {
"cell_type": "code",
	   "execution_count": null,
	   "metadata": {
	    "collapsed": true
	   },
	   "outputs": [],
"source": [
"clc\n",
"clear\n",
"//Input data\n",
"p=3.5//Pressure at the delivery is 3.5 times that at entrance\n",
"T=1.15//Temperature rise during compression is 1.15 times that for frictionless adiabatic compression. In textbook it is given wrong as 1.5\n",
"T3=500+273//Temperature of products of combustion in K\n",
"pa=1//Atmospheric pressure in kg/cm^2\n",
"Ta=15+273//Atmospheric temperature in K\n",
"Cp=0.24//Specific heat at constant pressure in kJ/kg.K\n",
"g=1.4//Ratio of specific heats\n",
"J=427//Mechanical equivalent of heat in kg.m/kcal\n",
"\n",
"//Calculations\n",
"p2=p*pa//Pressure in kg/cm^2\n",
"T2a=(Ta*(p2/pa)^((g-1)/g))//Temperature in K\n",
"T2=(T2a-Ta)*T+Ta//Temperature in K\n",
"wcomp=(Cp*(T2-Ta))//Work done by compressor in kcal/kg\n",
"T5=T3/(p2/pa)^((g-1)/g)//Temperature in K\n",
"dh35=(Cp*(T3-T5))//Change in enthalpy in kcal/kg\n",
"dhnozzle=(dh35-wcomp)//Change in enthalpy of nozzle in kcal/kg\n",
"v5=sqrt(2*9.81*J*dhnozzle)//Velocity at the nozzle exit in m/sec\n",
"Th=(v5/9.81)//Thrust in kg per kg of air/sec\n",
"\n",
"//Output\n",
"printf('(a) the power required to drive the compressor per kg of air per second is %3.1f kcal/kg \n (b) Static thrust developed per kg of air per second is %3.1f kg',wcomp,Th)"
   ]
   }
],
"metadata": {
		  "kernelspec": {
		   "display_name": "Scilab",
		   "language": "scilab",
		   "name": "scilab"
		  },
		  "language_info": {
		   "file_extension": ".sce",
		   "help_links": [
			{
			 "text": "MetaKernel Magics",
			 "url": "https://github.com/calysto/metakernel/blob/master/metakernel/magics/README.md"
			}
		   ],
		   "mimetype": "text/x-octave",
		   "name": "scilab",
		   "version": "0.7.1"
		  }
		 },
		 "nbformat": 4,
		 "nbformat_minor": 0
}
