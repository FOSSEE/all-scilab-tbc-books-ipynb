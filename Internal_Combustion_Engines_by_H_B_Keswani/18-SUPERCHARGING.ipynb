{
"cells": [
 {
		   "cell_type": "markdown",
	   "metadata": {},
	   "source": [
       "# Chapter 18: SUPERCHARGING"
	   ]
	},
{
		   "cell_type": "markdown",
		   "metadata": {},
		   "source": [
			"## Example 18.1: PRESSURE_AND_AIR_CONSUMPTION.sce"
		   ]
		  },
  {
"cell_type": "code",
	   "execution_count": null,
	   "metadata": {
	    "collapsed": true
	   },
	   "outputs": [],
"source": [
"clc\n",
"clear\n",
"//Input data\n",
"n=6//Number of cylinders\n",
"d=9//Bore in cm\n",
"l=10//Stroke in cm\n",
"N=2500//Speed in r.p.m\n",
"Ta=25+273//Temperature of air entering the compressor in K\n",
"q=16800//Heat rate in kcal/hour\n",
"T=60+273//Temperature of air leaving the cooler in K\n",
"p=1.6//Pressure of air leaving the cooler in kg/cm^2\n",
"t=14.5//Engine torque in kg.m\n",
"nv=75//Volumetric efficiency in percent\n",
"nm=74//Mechanical efficiency in percent\n",
"R=29.27//Characteristic gas constant in kg.m/kg.K\n",
"Cp=0.24//Specific heat at constant pressure n kcal/kg.K\n",
"\n",
"//Calculations\n",
"BHP=(2*3.14*N*t)/4500//Brake horse power in B.H.P\n",
"IHP=(BHP/(nm/100))//Indicated horse power in I.H.P\n",
"pm=((IHP*4500)/((l/100)*(3.14/4)*d^2*(N/2)*n))//Mean effective pressure in kg/cm^2\n",
"Vs=(n*(3.14/4)*(d/100)^2*(l/100)*(N/2))//Swept volume in m^3/min\n",
"Va=(Vs*(nv/100))//Aspirated Volume of air into engine in m^3/min\n",
"ma=(p*10^4*Va)/(R*T)//Aspirated mass flow into the engine in kg/min\n",
"mcdT=((BHP*4500/427)/Cp)//Product of mass flow rate and change in temperature\n",
"msdT=((q/60)/Cp)//Product of mass flow rate and change in temperature\n",
"x=(mcdT/msdT)//Ratio\n",
"T2=((Ta-(x*T)))/(1-x)//Temperature in K\n",
"mc=(msdT/(T2-T))//Air flow in kg/min\n",
"\n",
"//Output\n",
"printf('(a) the mean effective pressure is %3.2f kg/cm^2 \n (b) the air consumption is %3.3f kg/min \n (c) the air flow into the compressor is %3.2f kg/min',pm,ma,mc)"
   ]
   }
,
{
		   "cell_type": "markdown",
		   "metadata": {},
		   "source": [
			"## Example 18.2: PERCENTAGE_INCREASE_IN_IMEP.sce"
		   ]
		  },
  {
"cell_type": "code",
	   "execution_count": null,
	   "metadata": {
	    "collapsed": true
	   },
	   "outputs": [],
"source": [
"clc\n",
"clear\n",
"//Input data\n",
"IMEP=10//Indicated mean effective pressure in kg/cm^2\n",
"x=20//Mixture strength 20% richer tan chemically correct\n",
"pIMEP=0.41//Pumping Indicated mean effective pressure in kg/cm^2\n",
"p1=0.97//Charge pressure at the beginning of compression in kg/cm^2\n",
"T1=100+273//Charge temperature at the beginning of compression in K\n",
"pm=0.91//Mean pressure during the conduction stroke in kg/cm^2\n",
"bn=70//Blower adiabatic efficiency in percent\n",
"T2=50//Temperature of the charge after delivery by the blower in degree C\n",
"dp=0.07//Pressure drop in kg/cm^2\n",
"pi=1.47//Charge pressure in the cylinder during the induction stroke in kg/cm^2\n",
"Ta=15+273//Atomspheric temperature in K\n",
"pa=1.03//Atmospheric pressure in kg/cm^2\n",
"g=1.4//Ratio of specific heats\n",
"\n",
"//Calculations\n",
"T2x=((((pi/pa)^((g-1)/g)-1)/(bn/100))+1)*Ta+T2//Temperature in K\n",
"rIMEP=((pi/pa)*(T1/T2x))//Ratio of I.M.E.P\n",
"gIMEP=(rIMEP*IMEP)//Gross I.M.E.P in kg/cm^2\n",
"nsIMEP=(gIMEP+(pi-pa))//Net I.M.E.P supercharged in kg/cm^2\n",
"nuIMEP=(IMEP-pIMEP)//Net I.M.E.P unsupercharged in kg/cm^2 \n",
"iIMEP=(nsIMEP-nuIMEP)//Increase in I.M.E.P in kg/cm^2\n",
"pei=(iIMEP*100)/nuIMEP//Percentage increase\n",
"\n",
"//Output\n",
"printf('Percentage increase in the net I.M.E.P due to supercharging is %3.1f percent',pei)\n",
""
   ]
   }
,
{
		   "cell_type": "markdown",
		   "metadata": {},
		   "source": [
			"## Example 18.3: PERCENTAGE_INCREASE_IN_BHP.sce"
		   ]
		  },
  {
"cell_type": "code",
	   "execution_count": null,
	   "metadata": {
	    "collapsed": true
	   },
	   "outputs": [],
"source": [
"clc\n",
"clear\n",
"//Input data\n",
"l=4.5//Capacity in litres\n",
"P=20//Power in H.P per m^3 of free air induced per minute\n",
"N=1700//Speed in r.p.m\n",
"nv=75//Volumetric efficiency in percent\n",
"Ta=27+273//Atomspheric temperature in K\n",
"pa=1.03//Atmospheric pressure in kg/cm^2\n",
"pr=1.75//Pressure ratio\n",
"ie=70//Isentropic efficiency in percent\n",
"nm=75//Mechanical efficiency in percent\n",
"g=1.4//Ratio of specific heats\n",
"nb=80//Efficiency of blower in percent\n",
"R=29.27//Characteristic gas constant in kg.m/kg.K\n",
"Cp=0.24//Specific heat at constant pressure in kJ/kg.K\n",
"J=427//Mechanical equivalent of heat in kg.m/kcal\n",
"\n",
"//Calculations\n",
"Vs=(l/1000*(N/2))//Swept volume in m^3/min\n",
"uVs=((nm/100)*Vs)//Unsupercharged swept volume in m^3/min\n",
"dp=(pr*pa)//Blower delivery pressure in kg/cm^2\n",
"Tc=(Ta*pr^((g-1)/g))//Temperature after isentropic compression in K\n",
"dT=(Ta+(Tc-Ta)/(ie/100))//Blow delivery temperature in K\n",
"Va=(Vs*(dp*Ta)/(pa*dT))//Equivalent volume at free air condition in m^3/min\n",
"iiv=(Va-uVs)//Increase in the induced volume in m^3/min\n",
"iIHP=(P*iiv)//ncrease in I.H.P \n",
"iBHP=(iIHP*(nm/100))//Increase in B.H.P\n",
"ma=(dp*10^4*Vs)/(R*dT)//Mass of air delivered by blower in kg/min\n",
"HP=(ma*Cp*(dT-Ta)*J)/(4500*(80/100))//H.P required for blower\n",
"nibhp=(iBHP-HP)//Net increse in engine b.h.p\n",
"pei=(nibhp/(P*uVs))*100//Percentage increase\n",
"\n",
"//Output\n",
"printf('Percentage net increase in B.H.P is %3.1f percent',pei)"
   ]
   }
],
"metadata": {
		  "kernelspec": {
		   "display_name": "Scilab",
		   "language": "scilab",
		   "name": "scilab"
		  },
		  "language_info": {
		   "file_extension": ".sce",
		   "help_links": [
			{
			 "text": "MetaKernel Magics",
			 "url": "https://github.com/calysto/metakernel/blob/master/metakernel/magics/README.md"
			}
		   ],
		   "mimetype": "text/x-octave",
		   "name": "scilab",
		   "version": "0.7.1"
		  }
		 },
		 "nbformat": 4,
		 "nbformat_minor": 0
}
