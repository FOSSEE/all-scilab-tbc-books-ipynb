{
"cells": [
 {
		   "cell_type": "markdown",
	   "metadata": {},
	   "source": [
       "# Chapter 15: FUEL INJECTION"
	   ]
	},
{
		   "cell_type": "markdown",
		   "metadata": {},
		   "source": [
			"## Example 15.10: AMOUNT_OF_FUEL.sce"
		   ]
		  },
  {
"cell_type": "code",
	   "execution_count": null,
	   "metadata": {
	    "collapsed": true
	   },
	   "outputs": [],
"source": [
"clc\n",
"clear\n",
"//Input data\n",
"n=6//Number of cylinders\n",
"d=11.5//Bore in cm\n",
"l=14//Stroke in cm\n",
"af=16//Air fuel ratio\n",
"pa=1.03//Pressure of air intake in kg/cm^2\n",
"Ta=24+273//Temperature of air intake in K\n",
"nv=76.5//Volumetric efficiency in percent\n",
"R=29.27//Characteristic gas constant in kg.m/kg.K\n",
"N=1500//Speed in r.p.m\n",
"ip=125//Injection pressure in kg/cm^2\n",
"cp=40//Compression pressure in kg/cm^2\n",
"q=18.5//Fuel injection occupies 18.5 degrees of crenk travel\n",
"fsw=760//Fuel specific weight in kg/m^2\n",
"dc=0.94//Orifice discharge coefficient\n",
"\n",
"//Calculations\n",
"Vs=((3.14/4)*d^2*l)//Stroke volume in c.c\n",
"Va=(Vs*(nv/100))//Volume of air supplied in c.c\n",
"wa=((pa*10^4*Va*10^-6)/(R*Ta))//Weight of air supplied per cylinder per cycle in kg\n",
"wf=(wa/af)//Weight of fuel injected per cylinder per cycle in kg\n",
"I=((60*q)/(N*360))//Injection time per cycle in sec\n",
"F=(wf/I)//Fuel injected per cylinder per sec in kg/sec\n",
"Af=(F/(dc*sqrt(2*9.81*fsw*(ip-cp)*10^4)))//Area of orifice in sq.m\n",
"df=sqrt(Af/(3.14/4))*1000//Diameter of orifice in mm\n",
"\n",
"//Output\n",
"printf('Maximum amount of fuel injected per cylinder per sec is %3.2f kg/sec \n Diameter of orifice is %3.3f mm',F,df)"
   ]
   }
,
{
		   "cell_type": "markdown",
		   "metadata": {},
		   "source": [
			"## Example 15.1: QUANTITY_OF_FUEL.sce"
		   ]
		  },
  {
"cell_type": "code",
	   "execution_count": null,
	   "metadata": {
	    "collapsed": true
	   },
	   "outputs": [],
"source": [
"clc\n",
"clear\n",
"//Input data\n",
"n=6//Number of cylinders\n",
"p=720//Horse power in h.p\n",
"N=180//Speed in r.p.m\n",
"f=250//Fuel rate in gm per horse power hour\n",
"\n",
"//Calculations\n",
"w=(((f/1000)*p)/((N/2)*60*n))*1000//Weight of fuel per cycle in gm/cycle\n",
"\n",
"//Outptut\n",
"printf('The quantity of fuel to be injected per cylinder is %3.2f gm/cycle',w)"
   ]
   }
,
{
		   "cell_type": "markdown",
		   "metadata": {},
		   "source": [
			"## Example 15.2: QUANTITY_OF_FUEL.sce"
		   ]
		  },
  {
"cell_type": "code",
	   "execution_count": null,
	   "metadata": {
	    "collapsed": true
	   },
	   "outputs": [],
"source": [
"clc\n",
"clear\n",
"//Input data\n",
"n=4//Number of cylinders\n",
"fc=0.215//Brake specific fuel consumption in kg/B.H.P hour\n",
"BHP=400//Brake horse power in B.H.P\n",
"N=250//Speed in r.p.m\n",
"sg=0.9//Specific gravity\n",
"\n",
"//Calculations\n",
"Fc=(fc*BHP)//Fuel consumption per hour in kg/hr\n",
"Fcy=(Fc/n)//Fuel consumption per cylinder in kg/hr\n",
"Fcyc=((Fcy/(60*(N/2)))/(sg*1000))*10^6//Fuel consumption per cycle in kg. In textbook it is given wrong as 0.0287 instead of 3.185\n",
"\n",
"//Output\n",
"printf('The quantity of fuel to be injected per cycle per cylinder is %3.3f c.c',Fcyc)"
   ]
   }
,
{
		   "cell_type": "markdown",
		   "metadata": {},
		   "source": [
			"## Example 15.3: QUANTITY_OF_FUEL.sce"
		   ]
		  },
  {
"cell_type": "code",
	   "execution_count": null,
	   "metadata": {
	    "collapsed": true
	   },
	   "outputs": [],
"source": [
"clc\n",
"clear\n",
"//Input data\n",
"n=4//Number of cylinders\n",
"p=450//Brake Horse power in B.H.P\n",
"N=200//Speed in r.p.m\n",
"f=0.2//Fuel rate in kg per horse power hour\n",
"g=0.9//Specific gravity of fuel\n",
"\n",
"//Output\n",
"Fc=(p*f)//Fuel consumption per hour in kg/hr\n",
"Fcy=(Fc/n)//Fuel consumption per cylinder in kg/hr\n",
"Fcyc=(Fcy/(60*(N/2)))//Fuel consumption per cycle in kg\n",
"q=(Fcyc/(g*1000))*10^6//Quantity of fuel injected per cylinder per cycle in c.c\n",
"\n",
"//Output\n",
"printf('The quantity of fuel to be injected per cycle per cylinder is %3.3f c.c',q)"
   ]
   }
,
{
		   "cell_type": "markdown",
		   "metadata": {},
		   "source": [
			"## Example 15.4: SIZE_OF_PUMP.sce"
		   ]
		  },
  {
"cell_type": "code",
	   "execution_count": null,
	   "metadata": {
	    "collapsed": true
	   },
	   "outputs": [],
"source": [
"clc\n",
"clear\n",
"//Input data\n",
"//Data from problem 1\n",
"n=6//Number of cylinders\n",
"p=720//Horse power in h.p\n",
"N=180//Speed in r.p.m\n",
"f=250//Fuel rate in gm per horse power hour\n",
"\n",
"Vo=20//Volume of oil in the suction chamber in c.c\n",
"dp=80//Discharge pressure in kg/cm^2\n",
"voi=6//Volume of oil in the injector in c.c\n",
"g=0.9//Specific gravity of oil\n",
"b=78.8*10^-6//Coefficient of compressibility in cm^2/kg when pressure is taken as atmospheric\n",
"\n",
"//Calculations\n",
"w=(((f/1000)*p)/((N/2)*60*n))*1000//Weight of fuel per cycle in gm/cycle\n",
"Va=(w/g)//Volume of air per cycle in c.c\n",
"V1=(Vo+Va)//Initial volume in c.c\n",
"dV12=(b*V1*dp)//Change in volume in c.c\n",
"//Assuming in accordance with average practice that s=2d, nv=0.94 and full load in this pump type x=0.5\n",
"d=((voi+dV12)/((3.14/4)*2*0.94*0.5))^(1/3)//Diameter in cm\n",
"l=(2*d)//Stroke in cm\n",
"\n",
"//Output\n",
"printf('The diameter of the pump is %3.2f cm \n The total stroke is %3.2f cm',d,l)"
   ]
   }
,
{
		   "cell_type": "markdown",
		   "metadata": {},
		   "source": [
			"## Example 15.5: VELOCITY.sce"
		   ]
		  },
  {
"cell_type": "code",
	   "execution_count": null,
	   "metadata": {
	    "collapsed": true
	   },
	   "outputs": [],
"source": [
"clc\n",
"clear\n",
"//Input data\n",
"p=110//Oil pressure in kg/cm^2\n",
"pc=25//Pressure in the combustion chamber in kg/cm^2\n",
"q=0.805//Velocity coefficient. In textbook it is given wrong as 9.805\n",
"d=0.906//Specific gravity\n",
"\n",
"//Calculations\n",
"v=(37.1*q*sqrt((p-pc)/d))//Velocity in m/s\n",
"\n",
"//Output\n",
"printf('The velocity of injection is %3.0f m/s',v)"
   ]
   }
,
{
		   "cell_type": "markdown",
		   "metadata": {},
		   "source": [
			"## Example 15.6: PUMP_DISPLACEMENT.sce"
		   ]
		  },
  {
"cell_type": "code",
	   "execution_count": null,
	   "metadata": {
	    "collapsed": true
	   },
	   "outputs": [],
"source": [
"clc\n",
"clear\n",
"//Input data\n",
"Vf=6.2//Volume of fuel in c.c\n",
"l=65//Length of fuel line in cm\n",
"di=2.5//Inner diameter in mm\n",
"V=2.75//Volume of fuel in the injector valve in c.c\n",
"Vd=0.15//Volume of fuel to be delivered in c.c. In textbook it is given wrong as 0.047\n",
"p=140//Pressure in kg/cm^2\n",
"pp=1//Pump pressure in kg/cm^2\n",
"patm=1.03//Atmospheric pressure in kg/cm^2\n",
"b=78.8*10^-6//Coefficient of compressibility in cm^2/kg when pressure is taken as atmospheric\n",
"\n",
"//Calculations\n",
"V1=(Vf+(3.14/4)*(di/10)^2*l+V)//Initial volume in c.c\n",
"dV=((b*V1*(p-pp)/patm))//Change in volume in c.c\n",
"d=(dV+Vd)//Total displacement of the plunger in c.c\n",
"\n",
"//Output\n",
"printf('The total displacement of the plunger is %3.3f c.c',d)"
   ]
   }
,
{
		   "cell_type": "markdown",
		   "metadata": {},
		   "source": [
			"## Example 15.7: PUMP_DISPLACEMENT.sce"
		   ]
		  },
  {
"cell_type": "code",
	   "execution_count": null,
	   "metadata": {
	    "collapsed": true
	   },
	   "outputs": [],
"source": [
"clc\n",
"clear\n",
"//Input data\n",
"Vf=6.75//Volume of fuel in c.c\n",
"l=65//Length of fuel line in cm\n",
"di=2.5//Inner diameter in mm\n",
"V=2.45//Volume of fuel in the injector valve in c.c\n",
"Vd=0.15//Volume of fuel to be delivered in c.c. \n",
"p=150//Pressure in kg/cm^2\n",
"pp=1//Pump pressure in kg/cm^2\n",
"patm=1.03//Atmospheric pressure in kg/cm^2\n",
"b=78.8*10^-6//Coefficient of compressibility in cm^2/kg when pressure is taken as atmospheric\n",
"\n",
"//Calculations\n",
"V1=(Vf+(3.14/4)*(di/10)^2*l+V)//Initial volume in c.c\n",
"dV=((b*V1*(p-pp)/patm))//Change in volume in c.c\n",
"d=(dV+Vd)//Total displacement of the plunger in c.c\n",
"\n",
"//Output\n",
"printf('The total displacement of the plunger is %3.3f c.c',d)"
   ]
   }
,
{
		   "cell_type": "markdown",
		   "metadata": {},
		   "source": [
			"## Example 15.8: PLUNGER_STROKE.sce"
		   ]
		  },
  {
"cell_type": "code",
	   "execution_count": null,
	   "metadata": {
	    "collapsed": true
	   },
	   "outputs": [],
"source": [
"clc\n",
"clear\n",
"//Input data\n",
"Vf=6.75//Volume of fuel in c.c\n",
"l=65//Length of fuel line in cm\n",
"di=2.5//Inner diameter in mm\n",
"V=2.45//Volume of fuel in the injector valve in c.c\n",
"Vd=0.15//Volume of fuel to be delivered in c.c. \n",
"p=150//Pressure in kg/cm^2\n",
"pp=1//Pump pressure in kg/cm^2\n",
"patm=1.03//Atmospheric pressure in kg/cm^2\n",
"b=78.8*10^-6//Coefficient of compressibility in cm^2/kg when pressure is taken as atmospheric\n",
"dp=0.75//Diameter of the plunger in cm\n",
"\n",
"//Calculations\n",
"V1=(Vf+(3.14/4)*(di/10)^2*l+V)//Initial volume in c.c\n",
"dV=((b*V1*(p-pp)/patm))//Change in volume in c.c\n",
"d=(dV+Vd)//Total displacement of the plunger in c.c\n",
"s=((4/3.14)*(d/dp^2))*10//Stroke in mm\n",
"\n",
"//Output\n",
"printf('The effective plunger stroke is %3.1f mm',s)"
   ]
   }
,
{
		   "cell_type": "markdown",
		   "metadata": {},
		   "source": [
			"## Example 15.9: DIAMETER.sce"
		   ]
		  },
  {
"cell_type": "code",
	   "execution_count": null,
	   "metadata": {
	    "collapsed": true
	   },
	   "outputs": [],
"source": [
"clc\n",
"clear\n",
"//Input data\n",
"n=6//Number of cylinders\n",
"p=300//Horse power in H.P\n",
"N=1200//Speed in r.p.m\n",
"f=0.2//Fuel rate in kg per B.H.P hour\n",
"ip=200//Injection pressure in kg/cm^2\n",
"cp=40//Pressure in the combustion chamber in kg/cm^2\n",
"pic=33//Period of injection of the crank angle in degrees\n",
"g=0.83//Specific gravity of fuel. In textbook, it is given wrong as 0.89\n",
"Cd=0.9//Coefficient of discharge \n",
"\n",
"//Output\n",
"Fc=(p*f)//Fuel consumption per hour in kg/hr\n",
"Fcy=(Fc/n)//Fuel consumption per cylinder in kg/hr\n",
"Fcyc=(Fcy/(60*(N/2)))//Fuel consumption per cycle in kg\n",
"q=(Fcyc/(g*1000))*10^6//Quantity of fuel injected per cylinder per cycle in c.c\n",
"I=((pic/360)*(1/N)*60)//Injection period in sec\n",
"df=(g/1000)//Density of fuel in kg/m^3\n",
"v=sqrt(2*981*((ip-cp)/df))//Velocity of fuel through orifice in m/s\n",
"A=(q/(Cd*v*I))//Area of orifice in cm^2\n",
"d=sqrt(A/(3.14/4))*10//Diameter in mm\n",
"\n",
"//Output\n",
"printf('The diameter of the single orifice injector is %3.2f mm',d)"
   ]
   }
],
"metadata": {
		  "kernelspec": {
		   "display_name": "Scilab",
		   "language": "scilab",
		   "name": "scilab"
		  },
		  "language_info": {
		   "file_extension": ".sce",
		   "help_links": [
			{
			 "text": "MetaKernel Magics",
			 "url": "https://github.com/calysto/metakernel/blob/master/metakernel/magics/README.md"
			}
		   ],
		   "mimetype": "text/x-octave",
		   "name": "scilab",
		   "version": "0.7.1"
		  }
		 },
		 "nbformat": 4,
		 "nbformat_minor": 0
}
