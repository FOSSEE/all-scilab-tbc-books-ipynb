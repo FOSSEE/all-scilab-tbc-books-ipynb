{
"cells": [
 {
		   "cell_type": "markdown",
	   "metadata": {},
	   "source": [
       "# Chapter 13: Heat Treatment of steels and cast irons"
	   ]
	},
{
		   "cell_type": "markdown",
		   "metadata": {},
		   "source": [
			"## Example 13.1: AISI_number.sce"
		   ]
		  },
  {
"cell_type": "code",
	   "execution_count": null,
	   "metadata": {
	    "collapsed": true
	   },
	   "outputs": [],
"source": [
"clc;funcprot(0);//EXAMPLE 13.1\n",
"//page 380\n",
"// Initialisation of Variables\n",
"%Fe=6.67;......//Carbon percentage in Cementite by weight\n",
"%G=0.77;.......//Carbon percentage in eutectoid composition  in steel by weight\n",
"%A=0.0218;......//Carbon percentage in Ferrite\n",
"%Fe3C=16;....//Percentage of alpha ferrite in steel\n",
"%P=95;......//Percentage of Pearlite in Steel\n",
"//CALCULATIONS\n",
"X1=((%Fe3C/100)*(%Fe-%A))+%A;.....//Carbon content present in Steel\n",
"X2=%Fe-((%P/100)*(%Fe-%G));.....//Carbon content  present in Steel\n",
"disp(X1,'Carbon content present in Steel:')\n",
"disp(X2,'Carbon content present in Steel:')\n",
"printf('The carbon content is on the order of 1.065 to 1.086 percent, consistent with a 10110 steel')"
   ]
   }
,
{
		   "cell_type": "markdown",
		   "metadata": {},
		   "source": [
			"## Example 13.3: Heat_treating_temperatures.sce"
		   ]
		  },
  {
"cell_type": "code",
	   "execution_count": null,
	   "metadata": {
	    "collapsed": true
	   },
	   "outputs": [],
"source": [
"//page 385\n",
"clc\n",
"primary_alpha=((0.77-.5)/(0.77-0.0218))*100\n",
"pearlite=((0.5-0.0218)/(0.77-0.0218))*100\n",
"disp(primary_alpha,'primary alpha in percentage =')\n",
"disp(pearlite,'pearlite in percentage =')\n",
"//Answer difference is due to roundoff"
   ]
   }
],
"metadata": {
		  "kernelspec": {
		   "display_name": "Scilab",
		   "language": "scilab",
		   "name": "scilab"
		  },
		  "language_info": {
		   "file_extension": ".sce",
		   "help_links": [
			{
			 "text": "MetaKernel Magics",
			 "url": "https://github.com/calysto/metakernel/blob/master/metakernel/magics/README.md"
			}
		   ],
		   "mimetype": "text/x-octave",
		   "name": "scilab",
		   "version": "0.7.1"
		  }
		 },
		 "nbformat": 4,
		 "nbformat_minor": 0
}
