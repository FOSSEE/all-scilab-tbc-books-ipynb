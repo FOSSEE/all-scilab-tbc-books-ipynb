{
"cells": [
 {
		   "cell_type": "markdown",
	   "metadata": {},
	   "source": [
       "# Chapter 2: Atomic structure"
	   ]
	},
{
		   "cell_type": "markdown",
		   "metadata": {},
		   "source": [
			"## Example 2.1: Nano_particle.sce"
		   ]
		  },
  {
"cell_type": "code",
	   "execution_count": null,
	   "metadata": {
	    "collapsed": true
	   },
	   "outputs": [],
"source": [
"//Page 26\n",
"clc;funcprot(0);//EXAMPLE 2.1\n",
"// Initialisation of Variables\n",
"r=1.5*10^-7;........//Radius of a particle in cm\n",
"rho=7.8;..........//Density of iron magnetic nano- particle in cm^3\n",
"//CALCULATIONS\n",
"v=(4/3)*%pi*(r)^3;.....//Volume of each Iron magnetic nano -particle in cm^3\n",
"m=rho*v;.......//Mass of each iron nano-particle in g\n",
"disp(v,'Volume of each Iron magnetic nano -particle in  cm^3:')\n",
"disp(m,'Mass of each iron nano-particle in g:')"
   ]
   }
,
{
		   "cell_type": "markdown",
		   "metadata": {},
		   "source": [
			"## Example 2.4: Convalent_bond.sce"
		   ]
		  },
  {
"cell_type": "code",
	   "execution_count": null,
	   "metadata": {
	    "collapsed": true
	   },
	   "outputs": [],
"source": [
"//Page 37\n",
"clc;funcprot(0);//EXAMPLE 2.4\n",
"// Initialisation of Variables\n",
"Es=1.8;........//Electro negativity of Silicon from fig.2-8\n",
"Eo=3.5;........//Electro negativity of Oxygen from  fig.2-8\n",
"//CALCULATION\n",
"F=exp(-0.25*(Eo-Es)^2);........//Fraction covalent of   SiO2 \n",
"disp(F,'Fraction covalent of   SiO2 :')"
   ]
   }
],
"metadata": {
		  "kernelspec": {
		   "display_name": "Scilab",
		   "language": "scilab",
		   "name": "scilab"
		  },
		  "language_info": {
		   "file_extension": ".sce",
		   "help_links": [
			{
			 "text": "MetaKernel Magics",
			 "url": "https://github.com/calysto/metakernel/blob/master/metakernel/magics/README.md"
			}
		   ],
		   "mimetype": "text/x-octave",
		   "name": "scilab",
		   "version": "0.7.1"
		  }
		 },
		 "nbformat": 4,
		 "nbformat_minor": 0
}
