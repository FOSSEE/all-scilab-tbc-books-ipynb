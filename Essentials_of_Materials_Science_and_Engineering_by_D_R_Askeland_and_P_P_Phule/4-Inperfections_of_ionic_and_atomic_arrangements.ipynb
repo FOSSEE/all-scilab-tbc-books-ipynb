{
"cells": [
 {
		   "cell_type": "markdown",
	   "metadata": {},
	   "source": [
       "# Chapter 4: Inperfections of ionic and atomic arrangements"
	   ]
	},
{
		   "cell_type": "markdown",
		   "metadata": {},
		   "source": [
			"## Example 4.1: Effect_of_temperature.sce"
		   ]
		  },
  {
"cell_type": "code",
	   "execution_count": null,
	   "metadata": {
	    "collapsed": true
	   },
	   "outputs": [],
"source": [
"//page 87\n",
"clc;funcprot(0);//EXAMPLE 4.1\n",
"// Initialisation of Variables\n",
"Lp=0.36151;........//The lattice parameter of FCC copper in nm\n",
"T1=298;..........//Temperature of copper in K\n",
"Qv=20000;...........//Heat required to produce a mole of vacancies in copper in cal\n",
"R=1.987;.........//The gas constant in cal/mol-K\n",
"//CALCULATIONS\n",
"n=4/(Lp*10^-8)^3;..........//The number of copper atoms or lattice points per cm^3  in atoms/cm^3\n",
"nv1=n*exp(-Qv/(T1*R));.......//concentration of vacancies in copper at 25 degree celsius  in vacancies /cm^3\n",
"nv2=nv1*1000;.......//concentration of vacancies in copper atoms at T2 temperature\n",
"T2=-Qv/(R*log(nv2/n));.......//temperature at which this number of vacancies forms in copper in K\n",
"disp(round(T2-273),'Temperature at which this number of vacancies forms in copper in Degree celsius:')"
   ]
   }
,
{
		   "cell_type": "markdown",
		   "metadata": {},
		   "source": [
			"## Example 4.2: Vacancy_concentrations_in_iron.sce"
		   ]
		  },
  {
"cell_type": "code",
	   "execution_count": null,
	   "metadata": {
	    "collapsed": true
	   },
	   "outputs": [],
"source": [
"//page 88\n",
"clc;funcprot(0);//EXAMPLE 4.2\n",
"// Initialisation of Variables\n",
"n1=2;..........//No. of Atoms in BCC iron Crystal\n",
"m=55.847;..........//Atomic mass of BCC iron crystal\n",
"a0=2.866*10^-8;......//The lattice parameter of BCC iron in cm\n",
"Na=6.02*10^23;.......//Avogadro’s number in atoms/mol\n",
"rho1=7.87;........//Required density of iron BCC in g/cm^3\n",
"//CALCULATIONS\n",
"rho2=(n1*m)/(a0^3*Na);..........//The expected theoretical density of iron BCC \n",
"X=(rho1*a0^3*Na)/m;.........//Number of iron atoms and vacancies that would be present in each unit cell for the required density\n",
"n2=n1-X;..........// no. of vacacies per unit cell\n",
"V=n2/a0^3;.........//The number of vacancies per cm^3 \n",
"disp(rho2,'The expected theoretical density of iron BCC ')\n",
"disp(X,'Number of iron atoms that would be present in each unit cell for the required density:')\n",
"disp(V,'The number of vacancies per cm^3 :')"
   ]
   }
,
{
		   "cell_type": "markdown",
		   "metadata": {},
		   "source": [
			"## Example 4.3: sites_for_carbon_in_iron.sce"
		   ]
		  },
  {
"cell_type": "code",
	   "execution_count": null,
	   "metadata": {
	    "collapsed": true
	   },
	   "outputs": [],
"source": [
"//page 90\n",
"clc;funcprot(0);//EXAMPLE 4.3\n",
"// Initialisation of Variables\n",
"a01=0.2866;............//The Lattice parameter of BCC in nm\n",
"a02=0.3571;............//The Lattice parameter of FCC in nm\n",
"r=0.071;............//Radius of carbon atom in nm\n",
"ni1=12;..........//No. of interstitial sites per unit   cell for BCC\n",
"ni2=4;...........//No. of interstitial sites per unit   cell for FCC\n",
"//CALCULATIONS\n",
"Rb=(sqrt(3)*a01)/4;.......//Radius of iron atom in nm\n",
"Ri1=sqrt(0.3125*a01^2)-Rb;.......// Interstitial Radius  of iron atom in nm\n",
"Rf=(sqrt(2)*a02)/4;.........//the radius of the iron atom in nm\n",
"Ri2=(a02-(2*Rf))/2;................//the radius of the interstitial site in nm\n",
"%C1=(ni1/(ni1+2))*100;...........//The atomic percentage  of carbon contained in the BCC iron in percent\n",
"%C2=(ni2/(ni2+4))*100;...........//The atomic percentage  of carbon contained in the FCC iron in percent\n",
"disp(Rb,'Radius of iron atom in nm')\n",
"disp(Ri1,'Interstitial Radius  of iron atom in nm:')\n",
"disp(Rf,'the radius of the iron atom in nm:')\n",
"disp(Ri2,'the radius of the interstitial site in nm:')\n",
"disp(%C1,'The atomic percentage  of carbon contained  in  BCC  iron in percent:')\n",
"disp(%C2,'The atomic percentage  of carbon contained  in  FCC  iron in percent:')"
   ]
   }
,
{
		   "cell_type": "markdown",
		   "metadata": {},
		   "source": [
			"## Example 4.4: Dislocations_in_ciramic.sce"
		   ]
		  },
  {
"cell_type": "code",
	   "execution_count": null,
	   "metadata": {
	    "collapsed": true
	   },
	   "outputs": [],
"source": [
"//page 96\n",
"clc;funcprot(0);//EXAMPLE 4.4\n",
"// Initialisation of Variable\n",
"a0=0.396;.........//Lattice parameter  of magnesium     oxide\n",
"h=1;..............//Because b is a [110] direction\n",
"k=1;..............//Because b is a [110] direction\n",
"l=0;............//Because b is a [110] direction\n",
"//CALCULATIONS\n",
"b=a0/sqrt(2);..........//The length of Burgers vector  in nm\n",
"disp(b,'The length of Burgers vector  in nm:')"
   ]
   }
,
{
		   "cell_type": "markdown",
		   "metadata": {},
		   "source": [
			"## Example 4.5: Burgers_vector_calculations.sce"
		   ]
		  },
  {
"cell_type": "code",
	   "execution_count": null,
	   "metadata": {
	    "collapsed": true
	   },
	   "outputs": [],
"source": [
"//page 97\n",
"clc;funcprot(0);//EXAMPLE 4.5\n",
"// Initialisation of Variables\n",
"a01=0.36151;......//The lattice parameter of copper in nm\n",
"//CALCULATIONS\n",
"F=sqrt(2)*a01;........//Face Diagonal of copperin nm\n",
"b=(1/2)*(F);..........//The length of the Burgers vector, or the repeat distance in nm\n",
"disp(F,'Face Diagonal of copperin nm:')\n",
"disp(b,'The length of the Burgers vector in nm:')"
   ]
   }
,
{
		   "cell_type": "markdown",
		   "metadata": {},
		   "source": [
			"## Example 4.6: Slip_planes.sce"
		   ]
		  },
  {
"cell_type": "code",
	   "execution_count": null,
	   "metadata": {
	    "collapsed": true
	   },
	   "outputs": [],
"source": [
"//page 98\n",
"clc;funcprot(0);//EXAMPLE 4.6\n",
"// Initialisation of Variables\n",
"n=2;........//No. of Atoms present per cell in BCC\n",
"a0=2.866*10^-8;.....//The lattice parameter of BCC iron in cm\n",
"rho1=0.994*10^15;.......//Planar density of (112)BCC in atoms/cm^2\n",
"//CALCULATIONS\n",
"a=sqrt(2)*a0^2;.........//Area of BCC iron in cm^2\n",
"rho2=n/a;........//Planar density of (110)BCC in atoms/cm^2\n",
"d1=a0*10^-9/(sqrt(1^2+1^2+0));......//The interplanar spacings for (110)BCC in cm\n",
"d2=a0*10^-9/(sqrt(1^2+1^2+2^2));......//The interplanar spacings for (112)BCC in cm\n",
"disp(rho2,'Planar density of (110)BCC in atoms/cm^2:')\n",
"disp(d1,'The interplanar spacings for (110)BCC in cm:')\n",
"disp(d2,'The interplanar spacings for (112)BCC in cm:')"
   ]
   }
,
{
		   "cell_type": "markdown",
		   "metadata": {},
		   "source": [
			"## Example 4.9: ASTN_grain_size_number.sce"
		   ]
		  },
  {
"cell_type": "code",
	   "execution_count": null,
	   "metadata": {
	    "collapsed": true
	   },
	   "outputs": [],
"source": [
"//page 105\n",
"clc;funcprot(0);//EXAMPLE 4.10\n",
"// Initialisation of Variables\n",
"g=16;.......// No. of grains per square inch in a photomicrograph\n",
"M=250;..........//Magnification in a photomicrograph\n",
"N=(M/g)*100;........//The number of grains per square   inch\n",
"n=(log10(100)/log10(2))+1;........//the ASTM grain size number\n",
"disp(n,'the ASTM grain size number:')"
   ]
   }
],
"metadata": {
		  "kernelspec": {
		   "display_name": "Scilab",
		   "language": "scilab",
		   "name": "scilab"
		  },
		  "language_info": {
		   "file_extension": ".sce",
		   "help_links": [
			{
			 "text": "MetaKernel Magics",
			 "url": "https://github.com/calysto/metakernel/blob/master/metakernel/magics/README.md"
			}
		   ],
		   "mimetype": "text/x-octave",
		   "name": "scilab",
		   "version": "0.7.1"
		  }
		 },
		 "nbformat": 4,
		 "nbformat_minor": 0
}
