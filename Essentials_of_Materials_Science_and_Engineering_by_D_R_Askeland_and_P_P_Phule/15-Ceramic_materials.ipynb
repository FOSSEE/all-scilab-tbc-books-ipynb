{
"cells": [
 {
		   "cell_type": "markdown",
	   "metadata": {},
	   "source": [
       "# Chapter 15: Ceramic materials"
	   ]
	},
{
		   "cell_type": "markdown",
		   "metadata": {},
		   "source": [
			"## Example 15.1: silicon_carbide_ceramic.sce"
		   ]
		  },
  {
"cell_type": "code",
	   "execution_count": null,
	   "metadata": {
	    "collapsed": true
	   },
	   "outputs": [],
"source": [
"clc;funcprot(0);//EXAMPLE 15.1\n",
"//page 459\n",
"// Initialisation of Variables\n",
"rho=3.2;.............//Specific Gravity of SiC in g/cm^2\n",
"Ww=385;.............//Weight of Ceramic when dry in g\n",
"Wd=360;.............//Weight of Ceramic after Soaking in water in g\n",
"Ws=224;.............//Weight of Ceramic Suspended in    water in g\n",
"//CALCULATIONS\n",
"A=((Ww-Wd)/(Ww-Ws))*100;..........//Apparent Porosity in percent\n",
"B=(Wd)/(Ww-Ws);..........//Bulk Density of Ceramic\n",
"T=((rho-B)/rho)*100;.......//True Porosity of Ceramic  in Percent\n",
"C=T-A;..............//Closed pore percent of ceramic\n",
"F=C/T;..............//Fraction Closed Pores of Ceramic\n",
"disp(A,'Apparent Porosity in percent:')\n",
"disp(B,'Bulk Density of Ceramic:')\n",
"disp(T,'True Porosity of Ceramic  in Percent:')\n",
"disp(F,'Fraction Closed Pores of Ceramic:')"
   ]
   }
,
{
		   "cell_type": "markdown",
		   "metadata": {},
		   "source": [
			"## Example 15.2: Design_of_glass.sce"
		   ]
		  },
  {
"cell_type": "code",
	   "execution_count": null,
	   "metadata": {
	    "collapsed": true
	   },
	   "outputs": [],
"source": [
"clc;funcprot(0);//EXAMPLE 15.2\n",
"//page 462\n",
"// Initialisation of Variables\n",
"R=2.5;..........//Ratio of O to Si in SiO2\n",
"W1=69.62;........//Weight of B2O3 in g/ml\n",
"W2=60.08;........//Weight of SiO2 in g/ml\n",
"//CALCULATIONS\n",
"Fb1=(R-2)/3.5;...........//Mole Fraction of B2O3\n",
"Fb2=1-Fb1;.........//Mole fraction of SiO2\n",
"Wp=((Fb1*W1)/((Fb1*W1)+(Fb2*W2)))*100;.......//Weight Percent of B2O3\n",
"disp(Fb1,'Mole Fraction of B2O3:')\n",
"disp(Wp,'Weight Percent of B2O3:')"
   ]
   }
],
"metadata": {
		  "kernelspec": {
		   "display_name": "Scilab",
		   "language": "scilab",
		   "name": "scilab"
		  },
		  "language_info": {
		   "file_extension": ".sce",
		   "help_links": [
			{
			 "text": "MetaKernel Magics",
			 "url": "https://github.com/calysto/metakernel/blob/master/metakernel/magics/README.md"
			}
		   ],
		   "mimetype": "text/x-octave",
		   "name": "scilab",
		   "version": "0.7.1"
		  }
		 },
		 "nbformat": 4,
		 "nbformat_minor": 0
}
