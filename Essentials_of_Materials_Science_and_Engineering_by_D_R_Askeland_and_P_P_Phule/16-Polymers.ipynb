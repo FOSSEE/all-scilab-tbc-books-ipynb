{
"cells": [
 {
		   "cell_type": "markdown",
	   "metadata": {},
	   "source": [
       "# Chapter 16: Polymers"
	   ]
	},
{
		   "cell_type": "markdown",
		   "metadata": {},
		   "source": [
			"## Example 16.2: calculation_of_initiator_required.sce"
		   ]
		  },
  {
"cell_type": "code",
	   "execution_count": null,
	   "metadata": {
	    "collapsed": true
	   },
	   "outputs": [],
"source": [
"clc;funcprot(0);//EXAMPLE 16.2\n",
"//page 482\n",
"// Initialisation of Variables\n",
"W=28;...............//Molecular weight of Ethylene in g/mol\n",
"W1=200000;............//Molecular weight of Benzoyl Peroxide in g/mol\n",
"W2=1000;............//Weight of Polyethylene in gm\n",
"W3=242;.............//Molecular Weight of Benzoyl Peroxide in g/mol\n",
"//Calculations\n",
"DP=W1/W;..............// Degree of Polymerization \n",
"n=(W2*6.02*10^23)/W;..............//No. of Monomers present \n",
"M=n/DP;......................//NO. of Benzoyl Peroxide Molecules to be present\n",
"Ai=(M*W3)/6.02*10^23;............//Amount of Initiator needed in gm\n",
"disp(DP,'Degree of Polymerization :')\n",
"disp(n,'No. of Monomers present :')\n",
"disp(M,'NO. of Benzoyl Peroxide Molecules to be present:')\n",
"disp(Ai,'Amount of Initiator needed in gm:')"
   ]
   }
,
{
		   "cell_type": "markdown",
		   "metadata": {},
		   "source": [
			"## Example 16.3: polymerizatio.sce"
		   ]
		  },
  {
"cell_type": "code",
	   "execution_count": null,
	   "metadata": {
	    "collapsed": true
	   },
	   "outputs": [],
"source": [
"clc;funcprot(0);//EXAMPLE 16.3\n",
"//page 484\n",
"// Initialisation of Variables\n",
"W1=116;................//Molecular Weight of Hexamethylene Diamine in g/mol\n",
"W2=146;................//Molecular Weight of Adipic Acid in g/mol\n",
"W3=18;.................//Molecular Weight of Water in g/mol\n",
"W=1000;................//Weight of Hexamethylene Diamine in gm\n",
"//Calculations\n",
"N=W/W1;................//No. of Moles of Hexamethylene Diamine \n",
"X=N*W2;................//Weight of Adipic Acid required\n",
"Y=N*W3;................//Weight of Water in gm\n",
"N2=W+X-2*Y;.............//Amount of Nylon Produced\n",
"disp(N2,'Amount of Nylon Produced:')"
   ]
   }
,
{
		   "cell_type": "markdown",
		   "metadata": {},
		   "source": [
			"## Example 16.4: Degree_of_polymerizatio.sce"
		   ]
		  },
  {
"cell_type": "code",
	   "execution_count": null,
	   "metadata": {
	    "collapsed": true
	   },
	   "outputs": [],
"source": [
"clc;funcprot(0);//EXAMPLE 16.4\n",
"//page 486\n",
"// Initialisation of Variables\n",
"W1=116;................//Molecular Weight of Hexamethylene Diamine in g/mol\n",
"W2=146;................//Molecular Weight of Adipic Acid in g/mol\n",
"W3=18;.................//Molecular Weight of Water in g/mol\n",
"W4=120000;.............//Molecular Weight of 6,6-nylon in g/mol\n",
"//alculations\n",
"M=W1+W2-2*W3;..........//Molecular Weight of the repeated unit\n",
"DOP=W4/M;...............//Degree of Polymerization of 6,6-nylon\n",
"disp(DOP,'Degree of Polymerization of 6,6-nylon:')"
   ]
   }
,
{
		   "cell_type": "markdown",
		   "metadata": {},
		   "source": [
			"## Example 16.7: Impact_resistant_polethylene.sce"
		   ]
		  },
  {
"cell_type": "code",
	   "execution_count": null,
	   "metadata": {
	    "collapsed": true
	   },
	   "outputs": [],
"source": [
"clc;funcprot(0);//EXAMPLE 16.7\n",
"//page 499\n",
"// Initialisation of Variables\n",
"M=56;.........//Molecular Weight of Polyethylene \n",
"P=0.88;........//Measured density of PolyethyleneInitial\n",
"P1=0.915;........//Measured density of Polyethylene     Final\n",
"Pa=0.87;........//Density of Amorphous Polyethylene \n",
"//Caluculations\n",
"Pc=M/(7.42*4.95*(2.55*10^-24)*6.02*10^23);...........//Density of complete Crystalline polymer\n",
"Cp1= ((Pc/P)*((P-Pa)/(Pc-Pa)))*100;..................//Crystallinity  of Polyethylene initial\n",
"Cp2= ((Pc/P1)*((P1-Pa)/(Pc-Pa)))*100;................//Crystallinity  of Polyethylene final\n",
"disp(Pc,'Density of  Crystalline polymer:')\n",
"disp(Cp1,'Crystall. of Polyethylene initial:')\n",
"disp(Cp2,'Crystall. of Polyethylene final:')"
   ]
   }
,
{
		   "cell_type": "markdown",
		   "metadata": {},
		   "source": [
			"## Example 16.9: Design_of_initial_stress_in_polymer.sce"
		   ]
		  },
  {
"cell_type": "code",
	   "execution_count": null,
	   "metadata": {
	    "collapsed": true
	   },
	   "outputs": [],
"source": [
"clc;funcprot(0);//EXAMPLE 16.7\n",
"//page 500\n",
"//INITIALISATION OF VAREIABLES\n",
"sig1=980;...............//Initial Stress of POlyisoprene in psi\n",
"sig2=1000;.............//Fnal Stress of POlyisoprene in psi\n",
"sig3=1500;.............// Stress of POlyisoprene after one year in psi\n",
"t1=6;................//time in weeks\n",
"t2=52;.............//time in weeks\n",
"//CALCULATIONS\n",
"Rt=-t1/(log(sig1/sig2));.....//Relaxation time in weeks\n",
"sig=sig3/(%e^(-t2/Rt));........//Initial Stress to be placed in psi\n",
"disp(round(Rt),'Relaxation time in weeks:')\n",
"disp(round (sig),'Initial Stress to be placed in psi:')"
   ]
   }
],
"metadata": {
		  "kernelspec": {
		   "display_name": "Scilab",
		   "language": "scilab",
		   "name": "scilab"
		  },
		  "language_info": {
		   "file_extension": ".sce",
		   "help_links": [
			{
			 "text": "MetaKernel Magics",
			 "url": "https://github.com/calysto/metakernel/blob/master/metakernel/magics/README.md"
			}
		   ],
		   "mimetype": "text/x-octave",
		   "name": "scilab",
		   "version": "0.7.1"
		  }
		 },
		 "nbformat": 4,
		 "nbformat_minor": 0
}
