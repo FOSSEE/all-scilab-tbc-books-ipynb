{
"cells": [
 {
		   "cell_type": "markdown",
	   "metadata": {},
	   "source": [
       "# Chapter 5: Atoms and Ion movents in materials"
	   ]
	},
{
		   "cell_type": "markdown",
		   "metadata": {},
		   "source": [
			"## Example 5.2: Activation_energy.sce"
		   ]
		  },
  {
"cell_type": "code",
	   "execution_count": null,
	   "metadata": {
	    "collapsed": true
	   },
	   "outputs": [],
"source": [
"clc;funcprot(0);//EXAMPLE 5.2\n",
"//page 119\n",
"// Initialisation of Variables\n",
"R1=5*10^8;.........//The rate of moement of interstitial atoms in jumps/s 500 degree celsius\n",
"R2=8*10^10;.........//The rate of moement of interstitial atoms in jumps/s 800 degree celsius\n",
"T1=500;..........//Temperature at first jump in Degree celsius\n",
"T2=800;..........//Temperature at second jump in Degree  celsius\n",
"R=1.987;..........//Gas constant in cal/mol-K\n",
"//CALCULATIONS\n",
"Q=log(R2/R1)/(exp(1/(R*(T1+273)))-exp(1/(R*(T2+273))));.....//Activation Energy for Interstitial    Atoms in cal/mol\n",
"disp(Q,'Activation Energy for Interstitial Atoms in cal/mol:')\n",
"//answer in book is wrong"
   ]
   }
,
{
		   "cell_type": "markdown",
		   "metadata": {},
		   "source": [
			"## Example 5.3: doping.sce"
		   ]
		  },
  {
"cell_type": "code",
	   "execution_count": null,
	   "metadata": {
	    "collapsed": true
	   },
	   "outputs": [],
"source": [
"clc;funcprot(0);//EXAMPLE 5.3\n",
"//page 124\n",
"// Initialisation of Variables\n",
"X=0.1;.......//Thickness of SIlicon Wafer in cm\n",
"n=8;.......//No. of atoms in silicon per cell\n",
"ni=1;..........//No of phosphorous atoms present for every 10^7 Si atoms\n",
"ns=400;.......//No of phosphorous atoms present for every 10^7 Si atoms\n",
"ci1=(ni/10^7)*100;..........//Initial compositions in atomic percent\n",
"cs1=(ns/10^7)*100;...........//Surface compositions in atomic percent\n",
"G1=(ci1-cs1)/X;.....//concentration gradient in percent/cm\n",
"a0=1.6*10^-22;........//The lattice parameter of silicon\n",
"v=(10^7/n)*a0;......//volume of the unit cell in cm^3\n",
"ci2=ni/v;..........//The compositions in atoms/cm^3\n",
"cs2=ns/v;..........//The compositions in atoms/cm^3\n",
"G2=(ci2-cs2)/X;.....//concentration gradient in percent/cm^3.cm\n",
"disp(G1,'concentration gradient in percent/cm:')\n",
"disp(G2,'concentration gradient in percent/cm^3.cm:')"
   ]
   }
,
{
		   "cell_type": "markdown",
		   "metadata": {},
		   "source": [
			"## Example 5.4: design_of_iron_membrane.sce"
		   ]
		  },
  {
"cell_type": "code",
	   "execution_count": null,
	   "metadata": {
	    "collapsed": true
	   },
	   "outputs": [],
"source": [
"clc;funcprot(0);//EXAMPLE 5.4\n",
"//page 129\n",
"// Initialisation of Variables\n",
"N=1;..........//N0. of atoms on one side of iron bar\n",
"H=1;..........//No. of atoms onother side of iron bar\n",
"d=3;.......//Diameter of an impermeable cylinder in cm\n",
"l=10;.....//Length of an impermeable cylinder in cm\n",
"A1=50*10^18*N;..........// No. of gaseous Atoms per cm^3 on one side \n",
"A2=50*10^18*H;..........//No. of gaseous Atom per cm^3 on one  side\n",
"B1=1*10^18*N;...........//No. of gaseous atoms per cm^3 on another side\n",
"B2=1*10^18*H;..........//No. of gaseous atoms per cm^3 on another side\n",
"t=973;...........//The di¤usion coefficient of nitrogen in BCC iron at 700 degree celsius in K\n",
"Q=18300;.........//The activation energy for di¤usion of Ceramic\n",
"Do=0.0047;.......//The pre-exponential term of ceramic\n",
"R=1.987;.........//Gas constant in cal/mol.K\n",
"//CALCULATIONS\n",
"T=A1*(%pi/4)*d^2*l;....//The total number of nitrogen atoms in the container in N atoms\n",
"LN=0.01*T/3600;......//The maximum number of atoms to be lost per second in N atoms per Second\n",
"JN=LN/((%pi/4)*d^2);.........//The Flux of ceramic in Natoms per cm^2. sec.\n",
"Dn=Do*exp(-Q/(R*t));........//The di¤usion coefficient of Ceramic in cm^2/Sec\n",
"deltaX=Dn*(A1-B1)/JN;.........//minimum thickness of the membrane in cm\n",
"LH=0.90*T/3600;........//Hydrogen atom loss per sec.\n",
"JH=LH/((%pi/4)*d^2);.........//The Flux of ceramic in Hatoms per cm^2. sec.\n",
"Dh=Do*exp(-Q/(R*t));........//The di¤usion coeficient of Ceramic in cm^2/Sec\n",
"deltaX2=((1.86*10^-4)*(A2-B2))/JH;.......//Minimum thickness of  the membrane in cm\n",
"disp(deltaX,'Minimum thickness of  the membrane of Natoms in cm')\n",
"disp(deltaX2,'Minimum thickness of  the membrane of Hatoms in cm')"
   ]
   }
,
{
		   "cell_type": "markdown",
		   "metadata": {},
		   "source": [
			"## Example 5.5: diffusion_couple.sce"
		   ]
		  },
  {
"cell_type": "code",
	   "execution_count": null,
	   "metadata": {
	    "collapsed": true
	   },
	   "outputs": [],
"source": [
"clc;funcprot(0);//EXAMPLE 5.6\n",
"// Initialisation of Variables\n",
"n=2;..........//no of atoms/ cell in BCC Tungsten\n",
"a0=3.165;..........//The lattice parameter of BCC tungsten in Angstromes\n",
"W=n/(a0*10^-8)^3;.........//The number of tungsten atoms per cm^3\n",
"Cth=0.01*W;......//The number of thorium atoms per cm^3\n",
"Cg=-Cth/0.01;.......//The concentration gradient of Tungsten in atoms/cm^3.cm\n",
"Q=120000;.........//The activation energy for diffusion of Tungsten\n",
"Q2=90000;.........//The activation energy for diffusion of Tungsten\n",
"Q3=66400;.........//The activation energy for diffusion of Tungsten\n",
"Do=1.0;.......//The pre-exponential term of Tungsten\n",
"Do2=0.74;.......//The pre-exponential term of Tungsten\n",
"Do3=0.47;.......//The pre-exponential term of Tungsten\n",
"R=1.987;.........//Gas constant in cal/mol.K\n",
"t=2273;..........//The diffusion coefficient of nitrogen in BCC iron at 2000 degree celsius in K\n",
"//CALCULATIONS\n",
"D1=Do*exp(-Q/(R*t));........//The diffusion coeficient  of Tungsten in cm^2/Sec\n",
"J1=-D1*Cg;............//Volume Diffusion in Th atoms/cm^2.sec.\n",
"D2=Do2*exp(-Q2/(R*t));........//The diffusion coeficient  of Tungsten in cm^2/Sec\n",
"J2=-D2*Cg;............//Grain boundary Diffusion in Th atoms/cm^2.sec.\n",
"D3=0.47*exp(-66400/(1.987*2273));........//The diffusion coeficient  of Tungsten in cm^2/Sec\n",
"J3=-D3*Cg;............//Surfae Diffusion in Th atoms/cm^2.sec.\n",
"\n",
"disp(W,'The number of tungsten atoms per cm^3:')\n",
"disp(Cth,'The number of thorium atoms per cm^3:')\n",
"disp(Cg,'The concentration gradient of Tungsten in atoms/cm^3.cm:')\n",
"disp(D1,'The diffusion coeficient  of Tungsten in cm^2/Sec:')\n",
"disp(J1,'Volume Diffusion in Th atoms/cm^2.sec.:')\n",
"disp(D2,'The diffusion coeficient  of Tungsten in cm^2/Sec:')\n",
"disp(J2,'Grain boundry Diffusion in Th atoms/cm^2.sec.:')\n",
"disp(D3*10^7,'The Surface diffusion coeficient of Tungsten in cm^2/Sec:')\n",
"disp(J3,'Surface Diffusion in Th atoms/cm^2.sec.:')"
   ]
   }
,
{
		   "cell_type": "markdown",
		   "metadata": {},
		   "source": [
			"## Example 5.6: carburizing_treatment.sce"
		   ]
		  },
  {
"cell_type": "code",
	   "execution_count": null,
	   "metadata": {
	    "collapsed": true
	   },
	   "outputs": [],
"source": [
"//Example 5.6\n",
"//page 155\n",
"clc\n",
"T=[1173 1273 1373 1473]\n",
"//in K\n",
"//for loop t\n",
"for i=1:1:4\n",
"t(i)=0.0861/exp(-16558/T(i))\n",
"end\n",
"disp(t,'The combination temp in second is')"
   ]
   }
,
{
		   "cell_type": "markdown",
		   "metadata": {},
		   "source": [
			"## Example 5.7: Economical_heat_treatment.sce"
		   ]
		  },
  {
"cell_type": "code",
	   "execution_count": null,
	   "metadata": {
	    "collapsed": true
	   },
	   "outputs": [],
"source": [
"//Example 5.6\n",
"//page 155\n",
"clc\n",
"T=[1173 1273 1373 1473]\n",
"//in K\n",
"\n",
"\n",
"//for loop t\n",
"\n",
"for i=1:1:4\n",
"t(i)=0.0861/exp(-16558/T(i))\n",
"end\n",
"disp(t,'The combination temp in second is')"
   ]
   }
,
{
		   "cell_type": "markdown",
		   "metadata": {},
		   "source": [
			"## Example 5.8: Tensile_testing.sce"
		   ]
		  },
  {
"cell_type": "code",
	   "execution_count": null,
	   "metadata": {
	    "collapsed": true
	   },
	   "outputs": [],
"source": [
"clc;funcprot(0);//EXAMPLE 5.8\n",
"// Initialisation of Variables\n",
"H=10;.......//Required time to successfully carburize a batch of 500 steel gears\n",
"t1=1173;......//Temperature at carburizing a batch of   500 steel gears in K\n",
"t2=1273;.......//Temperature at carburizing a batch of   500 steel gears in K\n",
"Q=32900;.........//The activation energy for diffusion  of BCC steel\n",
"R=1.987;.........//Gas constant in cal/mol.K\n",
"c1=1000;......//cost per hour to operate the carburizing furnace at 900degree centigrades\n",
"c2=1500;......//Cost per hour to operate the carburizing furnace at 1000 degree centigrade\n",
"H2=(exp(-Q /(R*t1))*H*3600)/exp(-Q /(R*t2));.......// Time requried to  successfully carburize a batch of 500 steel gears at 1000 degree centigrade\n",
"Cp1=c1*H/500;.......//The cost per Part of steel rods  at 900 degree centigrade\n",
"Cv=(c2*3.299)/500;.......//The cost per Part of steel rods  at 1000 degree centigrade\n",
"disp(H2/3600,'Time requried to  successfully carburize a batch of 500 steel gears at 1000 degree centigrade:')\n",
"disp(Cp1,'The cost of carburizing per Part of steel rods  at 900 degree centigrade')\n",
"disp(Cv,'The cost of carburizing per Part of steel rods  at 1000 degree centigrade')"
   ]
   }
],
"metadata": {
		  "kernelspec": {
		   "display_name": "Scilab",
		   "language": "scilab",
		   "name": "scilab"
		  },
		  "language_info": {
		   "file_extension": ".sce",
		   "help_links": [
			{
			 "text": "MetaKernel Magics",
			 "url": "https://github.com/calysto/metakernel/blob/master/metakernel/magics/README.md"
			}
		   ],
		   "mimetype": "text/x-octave",
		   "name": "scilab",
		   "version": "0.7.1"
		  }
		 },
		 "nbformat": 4,
		 "nbformat_minor": 0
}
