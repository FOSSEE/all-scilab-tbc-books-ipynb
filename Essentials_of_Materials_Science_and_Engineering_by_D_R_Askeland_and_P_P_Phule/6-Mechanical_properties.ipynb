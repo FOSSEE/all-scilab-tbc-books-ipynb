{
"cells": [
 {
		   "cell_type": "markdown",
	   "metadata": {},
	   "source": [
       "# Chapter 6: Mechanical properties"
	   ]
	},
{
		   "cell_type": "markdown",
		   "metadata": {},
		   "source": [
			"## Example 6.1: Tensile_testing.sce"
		   ]
		  },
  {
"cell_type": "code",
	   "execution_count": null,
	   "metadata": {
	    "collapsed": true
	   },
	   "outputs": [],
"source": [
"//page 152\n",
"clc\n",
"F=1000//in lb\n",
"Ao=(%pi/4)*(0.505)^2//in^2\n",
"rho=F/Ao\n",
"delta_I=0.001//in\n",
"I_o=2//in\n",
"e=delta_I/I_o\n",
"disp(rho,'The value in psi is=')\n",
"disp(e,'The value of epselon')"
   ]
   }
,
{
		   "cell_type": "markdown",
		   "metadata": {},
		   "source": [
			"## Example 6.2: suspension_rod.sce"
		   ]
		  },
  {
"cell_type": "code",
	   "execution_count": null,
	   "metadata": {
	    "collapsed": true
	   },
	   "outputs": [],
"source": [
"clc;funcprot(0);//EXAMPLE 6.2\n",
"//page 152\n",
"// Initialisation of Variables\n",
"F=45000;.......//Force applied on an aluminum rod in lb\n",
"e=25000;.......//the maximum allowable stress on the rod in psi\n",
"l2=150;.......//the minimum length of the rod in in\n",
"e1=0.0025;......//The strain appiled on rod\n",
"sigma=16670;.........//Stress applied on rod in psi\n",
"L=0.25;........//The maximum allowable elastic deformation in in\n",
"//CALCULATIONS\n",
"Ao1=F/e;........//The required crosssectional area of the rod\n",
"d=sqrt((Ao1*4)/%pi);......//Diameter of rod in in\n",
"l1=e1*L;...........//The maximum length of the rod in in\n",
"e2=L/e1;...........//The minimum strain allowed on rod\n",
"Ao2=F/sigma;........//The minimum cross-sectional area in in^2\n",
"disp(Ao1,'The required crosssectional area of the rod in in^2:')\n",
"disp(d,'Diameter of rod in in:')\n",
"disp(l1,'The maximum length of the rod in in:')\n",
"disp(e2,'The minimum strain allowed on rod:')\n",
"disp(Ao2,'The minimum cross-sectional area in in^2:')"
   ]
   }
,
{
		   "cell_type": "markdown",
		   "metadata": {},
		   "source": [
			"## Example 6.3: Elasticity_and_strain.sce"
		   ]
		  },
  {
"cell_type": "code",
	   "execution_count": null,
	   "metadata": {
	    "collapsed": true
	   },
	   "outputs": [],
"source": [
"clc;funcprot(0);//EXAMPLE 6.3\n",
"// Initialisation of Variables\n",
"sigma1=35000;.......//Stress applied of aluminum alloy in psi from table 6-1\n",
"e1=0.0035;........//Strain applied of aluminum alloy from table 6-1\n",
"sigma2=30000;.......//Stress applied of aluminum alloy  in psi\n",
"Lo=50;.........//initial length of  aluminum alloy\n",
"//CALCULATIONS\n",
"E=sigma1/e1;........//Modulus of elasticity  of aluminum alloy\n",
"e2=sigma2/E;.......//Strain applied of aluminum alloy\n",
"L=Lo+(e2*Lo);......//The length after deformation of bar in in\n",
"disp(E,'Modulus of elasticity  of aluminum alloy from table 6-1:')\n",
"disp(L,'The length after deformation of bar in in')\n",
"disp(e2,'Strain applied of aluminum alloy:')"
   ]
   }
,
{
		   "cell_type": "markdown",
		   "metadata": {},
		   "source": [
			"## Example 6.4: Final_length.sce"
		   ]
		  },
  {
"cell_type": "code",
	   "execution_count": null,
	   "metadata": {
	    "collapsed": true
	   },
	   "outputs": [],
"source": [
"clc;funcprot(0);//EXAMPLE 6.4\n",
"// Initialisation of Variables\n",
"Lf=2.195;........//Final length after failure\n",
"d1=0.505;.......//Diameter of alluminum alloy in in\n",
"d2=0.398;......//Final diameter of alluminum alloy in in\n",
"Lo=2;..........//Initial length of alluminum alloy \n",
"//CALCULATIONS\n",
"A0=(%pi/4)*d1^2;........//Area of original of alluminum alloy\n",
"Af=(%pi/4)*d2^2;........//Area of final of alluminum   alloy\n",
"%E=((Lf-Lo)/Lo)*100;.....//Percentage of Elongation \n",
"%R=((A0-Af)/A0)*100;......//Percentage of Reduction in area\n",
"disp(%E,'Percentage of Elongation:')\n",
"disp(%R,'Percentage of Reduction in area:')\n",
"printf('The final length is less than 2.205 in because, after fracture, the elastic strain is recovered.')"
   ]
   }
,
{
		   "cell_type": "markdown",
		   "metadata": {},
		   "source": [
			"## Example 6.5: Stress_and_strain.sce"
		   ]
		  },
  {
"cell_type": "code",
	   "execution_count": null,
	   "metadata": {
	    "collapsed": true
	   },
	   "outputs": [],
"source": [
"clc;funcprot(0);//EXAMPLE 6.5\n",
"// Initialisation of Variables\n",
"F=8000;.......//Load applied for the aluminum alloy in lb\n",
"F2=7600;......//Load applied for the aluminum alloy in lb at fracture\n",
"dt1=0.505;.......//diameter of for the aluminum alloy in in\n",
"dt2=0.497;.......//The diameter at maximum load\n",
"Lt=2.120;..........//Final length at maxium load\n",
"Lot=2;.............//Initial length of alluminum alloy\n",
"Ff=7600;.........//Load applied for the aluminum alloy after fracture in lb\n",
"df=0.398;.......//The diameter at maximum load after fracture\n",
"Lf=0.205;.......//Final length at fracture\n",
"//CALCULATIONS\n",
"Es=F/((%pi/4)*dt1^2);.....//Engineering stress in psiAt the tensile or maximum load\n",
"Ts=F/((%pi/4)*dt2^2);.....//True stress in psi At the tensile or maximum load\n",
"Ee=(Lt-Lot)/Lot;........//Engineering strain At the tensile or maximum load\n",
"Te=log(Lt/Lot);........//True strain At the tensile or maximum load\n",
"Es2=F2/((%pi/4)*dt1^2);......//Engineering stress At fracture:\n",
"Ts2=F2/((%pi/4)*df^2);......//True stress At fracture:\n",
"Ee2=Lf/Lot;..........//Engineering strain At fracture:\n",
"Te2=log(((%pi/4)*dt1^2)/((%pi/4)*df^2));.......//True strain At fracture:\n",
"disp(Es,'Engineering stress in psiAt the tensile or maximum load')\n",
"disp(Ts,'True stress in psi At the tensile or maximum load')\n",
"disp(Ee,'Engineering strain At the tensile or maximum load')\n",
"disp(Te,'True strain At the tensile or maximum load')\n",
"disp(Es2,'Engineering stress At fracture:')\n",
"disp(Ts2,'True stress At fracture')\n",
"disp(Ee2,'Engineering strain At fracture:')\n",
"disp(Te2,'True strain At fracture:')"
   ]
   }
,
{
		   "cell_type": "markdown",
		   "metadata": {},
		   "source": [
			"## Example 6.6: Deflectio.sce"
		   ]
		  },
  {
"cell_type": "code",
	   "execution_count": null,
	   "metadata": {
	    "collapsed": true
	   },
	   "outputs": [],
"source": [
"clc;funcprot(0);//EXAMPLE 6.6\n",
"// Initialisation of Variables\n",
"Fs=45000;.......//The flexural strength of a composite  material in psi\n",
"Fm=18*10^6;........//The flexural modulus of composite material in psi\n",
"w=0.5;.......//wide of sample in in\n",
"h=0.375;......//Height of sample in in\n",
"l=5;..........//Length of sample in in\n",
"//CALCULATIONS\n",
"F=Fs*2*w*h^2/(3*l);......//The force required to fracture the material in lb\n",
"delta=(l^3)*F/(Fm*4*w*h^3);.......//The deflection of  the sample at fracture \n",
"disp(F,'The force required to fracture the material in  lb:')\n",
"disp(delta,'The deflection of  the sample at fracture in in')"
   ]
   }
],
"metadata": {
		  "kernelspec": {
		   "display_name": "Scilab",
		   "language": "scilab",
		   "name": "scilab"
		  },
		  "language_info": {
		   "file_extension": ".sce",
		   "help_links": [
			{
			 "text": "MetaKernel Magics",
			 "url": "https://github.com/calysto/metakernel/blob/master/metakernel/magics/README.md"
			}
		   ],
		   "mimetype": "text/x-octave",
		   "name": "scilab",
		   "version": "0.7.1"
		  }
		 },
		 "nbformat": 4,
		 "nbformat_minor": 0
}
