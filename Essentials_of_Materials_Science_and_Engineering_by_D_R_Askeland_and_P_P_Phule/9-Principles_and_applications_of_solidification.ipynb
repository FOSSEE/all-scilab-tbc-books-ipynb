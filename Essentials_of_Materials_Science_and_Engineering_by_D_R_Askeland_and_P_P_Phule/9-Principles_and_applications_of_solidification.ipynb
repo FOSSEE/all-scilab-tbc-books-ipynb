{
"cells": [
 {
		   "cell_type": "markdown",
	   "metadata": {},
	   "source": [
       "# Chapter 9: Principles and applications of solidification"
	   ]
	},
{
		   "cell_type": "markdown",
		   "metadata": {},
		   "source": [
			"## Example 9.1: Critical_radius.sce"
		   ]
		  },
  {
"cell_type": "code",
	   "execution_count": null,
	   "metadata": {
	    "collapsed": true
	   },
	   "outputs": [],
"source": [
"clc;funcprot(0);//EXAMPLE 9.1\n",
"//page 250\n",
"// Initialisation of Variables\n",
"deltaT=236;.......//Typical Undercooling for HomogeneousNucleation from the table 9-1 for cooper \n",
"Tm=1358;.......//Freezing Temperature from the table 9-1 for cooper in degree celsius\n",
"deltaH=1628;.......// Latent Heat of Fusion from the table 9-1 for cooper in J/cm^3\n",
"sigma1=177*10^-7;.....//Solid-Liquid Interfacial Energyfrom the table 9-1 for cooper in J/cm^2\n",
"a0=3.615*10^-8;......//The lattice parameter for FCC copper in cm\n",
"//CALCULATIONS\n",
"r=(2*sigma1*Tm)/(deltaH*deltaT);......//Critical Radius of copper in cm\n",
"V=a0^3;....//Volume of FCC unit cell of copper in cm^3\n",
"V2=(4/3)*%pi*r^3;....//Critical volume of FCC copper \n",
"N=V2/V;......//The number of unit cells in the critical nucleus \n",
"Nc=4*round(N);......//Since there are four atoms in each unit cell of FCC metals\n",
"disp(r*10^8,'Critical Radius of copper in cm:')\n",
"disp(V,'Volume of FCC unit cell of copper in cm^3:')\n",
"disp(V2,'Critical volume of FCC copper :')\n",
"disp(round(N),'The number of unit cells in the critical nucleus :')\n",
"disp(Nc,'Since there are four atoms in each unit cell of FCC metals:')"
   ]
   }
,
{
		   "cell_type": "markdown",
		   "metadata": {},
		   "source": [
			"## Example 9.2: Casting_for_improved_strength.sce"
		   ]
		  },
  {
"cell_type": "code",
	   "execution_count": null,
	   "metadata": {
	    "collapsed": true
	   },
	   "outputs": [],
"source": [
"clc;funcprot(0);//EXAMPLE 9.2\n",
"//page 255\n",
"// Initialisation of Variables\n",
"d=18;//Diameter of the casting in in\n",
"x=2;//Thickness  of the casting in in\n",
"B=22//Mold constant of casting\n",
"V=(%pi/4)*d^2;//Volume of the casting in in^3\n",
"A=2*(%pi/4)*d^2+%pi*d*x;//The surface area of the casting in contact with the mold\n",
"x=(0.708*A)/V\n",
"disp(x,'The thickness in inches=')"
   ]
   }
],
"metadata": {
		  "kernelspec": {
		   "display_name": "Scilab",
		   "language": "scilab",
		   "name": "scilab"
		  },
		  "language_info": {
		   "file_extension": ".sce",
		   "help_links": [
			{
			 "text": "MetaKernel Magics",
			 "url": "https://github.com/calysto/metakernel/blob/master/metakernel/magics/README.md"
			}
		   ],
		   "mimetype": "text/x-octave",
		   "name": "scilab",
		   "version": "0.7.1"
		  }
		 },
		 "nbformat": 4,
		 "nbformat_minor": 0
}
