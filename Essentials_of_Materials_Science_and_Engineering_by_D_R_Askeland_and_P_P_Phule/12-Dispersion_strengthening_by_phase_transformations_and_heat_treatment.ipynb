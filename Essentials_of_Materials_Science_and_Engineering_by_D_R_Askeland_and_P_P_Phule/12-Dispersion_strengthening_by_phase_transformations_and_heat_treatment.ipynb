{
"cells": [
 {
		   "cell_type": "markdown",
	   "metadata": {},
	   "source": [
       "# Chapter 12: Dispersion strengthening by phase transformations and heat treatment"
	   ]
	},
{
		   "cell_type": "markdown",
		   "metadata": {},
		   "source": [
			"## Example 12.10: Heat_treatment_in_dual_phase_steel.sce"
		   ]
		  },
  {
"cell_type": "code",
	   "execution_count": null,
	   "metadata": {
	    "collapsed": true
	   },
	   "outputs": [],
"source": [
"clc;funcprot(0);//EXAMPLE 12.10\n",
"//page 366\n",
"// Initialisation of Variables\n",
"%M=0.60;.......//Percentage of Carbon in Martensite at  750 degree celsius\n",
"%a=50;......//Percentage of Carbon in Austenite at 750 degree celsius\n",
"%c=0.02;......//Percentage of Carbon atoms in Steel \n",
"X=(%a/100)*(%M-%c)+%c;......//The carbon content of Steel in percentage\n",
"disp(X,'The carbon content of hypoeutectoid  Steel in percentage:')"
   ]
   }
,
{
		   "cell_type": "markdown",
		   "metadata": {},
		   "source": [
			"## Example 12.1: Activation_energy.sce"
		   ]
		  },
  {
"cell_type": "code",
	   "execution_count": null,
	   "metadata": {
	    "collapsed": true
	   },
	   "outputs": [],
"source": [
"clc;funcprot(0);//EXAMPLE 12.1\n",
"//page 347\n",
"// Initialisation of Variables\n",
"r1=0.111;......//Rate of copper in min^-1 at 135 degree celsius\n",
"r2=0.004;.......//Rate of copper in min^-1 at 88 degree celsius\n",
"T1=408;.......//Temperature in K\n",
"T2=361;.......//Temperature in K\n",
"R=1.987;......//Gas constant\n",
"Q=20693;.......//Change in Rates\n",
"slope=(log(r1)-log(r2))/((1/T1)-(1/T2));....//Slope of the straight line ploted ln(Growth rate) as a function of 1=T,\n",
"A=r1/(exp(-Q/(R*T1)));.....//Constant\n",
"disp(A,'Constant A=')\n",
"disp(slope,'Slpoe of the straight line -Q/R')"
   ]
   }
,
{
		   "cell_type": "markdown",
		   "metadata": {},
		   "source": [
			"## Example 12.3: Phases_and_composition_od_pearlite.sce"
		   ]
		  },
  {
"cell_type": "code",
	   "execution_count": null,
	   "metadata": {
	    "collapsed": true
	   },
	   "outputs": [],
"source": [
"clc;funcprot(0);//EXAMPLE 12.5\n",
"//page 357\n",
"// Initialisation of Variables\n",
"%Fe=6.67;......//Carbon percentage in Cementite\n",
"%G=0.77;.......//Carbon percentage in  peralite in composition\n",
"%A=0.0218;......//Carbon percentage in Ferrite\n",
"//CALCULATIONS\n",
"%ferrite=((%Fe-%G)/(%Fe-%A))*100;........//Amount of ferrite present in peralite\n",
"%C=((%G-%A)/(%Fe-%A))*100;.......//Amount of Cementite present in peralite\n",
"disp(%ferrite,'Amount of ferrite present in peralite:')\n",
"disp(%C,'Amount of Cementite present in peralite:')"
   ]
   }
,
{
		   "cell_type": "markdown",
		   "metadata": {},
		   "source": [
			"## Example 12.7: Phases_in_hypoeutectiod_plain_carbon_steel.sce"
		   ]
		  },
  {
"cell_type": "code",
	   "execution_count": null,
	   "metadata": {
	    "collapsed": true
	   },
	   "outputs": [],
"source": [
"clc;funcprot(0);//EXAMPLE 12.7\n",
"//page 359\n",
"// Initialisation of Variables\n",
"%A=0.0218;......//Carbon percentage in  primary alpha in percent\n",
"%Fe=6.67;......//Carbon percentage in Cementite in percent\n",
"%G=0.77;.......//Carbon percentage in eutectoid composition at 727 degree celsius\n",
"%C=0.60;...//Carbon percentage in Pearlite in percent\n",
"//CALCULATIONS\n",
"%alpha=((%Fe-%C)/(%Fe-%A))*100;.......// Composition of Phase Ferrite in alloy \n",
"%Ce=((%C-%A)/(%Fe-%A))*100;.......//Composition of Cementite in percent in alloy\n",
"%PF=((%G-%C)/(%G-%A))*100;......//Percentage of microconstituents Primary Ferrite in alloy\n",
"%P=((%C-%A)/(%G-%A))*100;.......//Percentage of microconstituents Pearlite in alloy\n",
"disp(%alpha,'Composition of Phase Ferrite in alloy :')\n",
"disp(%Ce,'Composition of Cementite in percent in alloy:')\n",
"disp(%PF,'Percentage of microconstituents Primary Ferrite in alloy:')\n",
"disp(%P,'Percentage of microconstituents Pearlite in alloy:')"
   ]
   }
,
{
		   "cell_type": "markdown",
		   "metadata": {},
		   "source": [
			"## Example 12.8: Heat_treatment.sce"
		   ]
		  },
  {
"cell_type": "code",
	   "execution_count": null,
	   "metadata": {
	    "collapsed": true
	   },
	   "outputs": [],
"source": [
"clc;funcprot(0);//EXAMPLE 12.8\n",
"//page 364\n",
"// Initialisation of Variables\n",
"d=0.001;........//Actual distence between one alpha plate to next alpha plate \n",
"S=14;..........//Spacings between between one alpha plate to next alpha plate \n",
"//CALCULATIONS\n",
"lamida=d/S;......//The interlamellar spacing between one alpha plate to next alpha plate in Pearlite Microstructure\n",
"disp(lamida,'The interlamellar spacing between one alpha plate to next alpha plate in Pearlite Microstructure:')"
   ]
   }
],
"metadata": {
		  "kernelspec": {
		   "display_name": "Scilab",
		   "language": "scilab",
		   "name": "scilab"
		  },
		  "language_info": {
		   "file_extension": ".sce",
		   "help_links": [
			{
			 "text": "MetaKernel Magics",
			 "url": "https://github.com/calysto/metakernel/blob/master/metakernel/magics/README.md"
			}
		   ],
		   "mimetype": "text/x-octave",
		   "name": "scilab",
		   "version": "0.7.1"
		  }
		 },
		 "nbformat": 4,
		 "nbformat_minor": 0
}
