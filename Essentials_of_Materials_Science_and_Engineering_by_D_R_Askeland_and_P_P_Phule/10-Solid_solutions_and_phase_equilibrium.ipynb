{
"cells": [
 {
		   "cell_type": "markdown",
	   "metadata": {},
	   "source": [
       "# Chapter 10: Solid solutions and phase equilibrium"
	   ]
	},
{
		   "cell_type": "markdown",
		   "metadata": {},
		   "source": [
			"## Example 10.6: Gibbs_rule.sce"
		   ]
		  },
  {
"cell_type": "code",
	   "execution_count": null,
	   "metadata": {
	    "collapsed": true
	   },
	   "outputs": [],
"source": [
"clc;funcprot(0)//EXAMPLE 10.6\n",
"//page 293\n",
"//INITIALISATION OF VARIABLES\n",
"c1=2;..........//NO.of independent Chemical components at 1300 celsius\n",
"p1=1;........//No.of phases at 1300 celsius\n",
"c2=2;........//NO.of independent Chemical components at 1250 celsius\n",
"p2=2;.........//No.of phases at 1250 celsius\n",
"c3=2;.........//NO.of independent Chemical components at 1200 celsius\n",
"p3=1;.......//No.of phases at 1200 celsius\n",
"//CALCULATIONS\n",
"f1=1+c1-p1;...........//Degrees of freedom of both Copper and NIckel at 1300 celsius \n",
"f2=1+c2-p2;...........//Degrees of freedom of both Copper and NIckel at 1250 celsius\n",
"f3=1+c3-p3;..........//Degrees of freedom of both Copper and NIckel at 1200 celsius\n",
"disp(f1,'Degrees of freedom of both Copper and NIckel at 1300 celsius ')\n",
"disp(f2,'Degrees of freedom of both Copper and NIckel at 1250 celsius ')\n",
"disp(f3,'Degrees of freedom of both Copper and NIckel at 1200 celsius ')"
   ]
   }
,
{
		   "cell_type": "markdown",
		   "metadata": {},
		   "source": [
			"## Example 10.8: Application_of_lever_rule.sce"
		   ]
		  },
  {
"cell_type": "code",
	   "execution_count": null,
	   "metadata": {
	    "collapsed": true
	   },
	   "outputs": [],
"source": [
"clc;funcprot(0);//EXAMPLE 10.8\n",
"//page 295\n",
"// Initialisation of Variables\n",
"%Nia=40;......//no, of grams of nickel in alloy at alla temperature\n",
"%NiL=32;......//Mass of Nickel present in Liquid\n",
"%Nialpha=45;......//Mass of NIckel present in alpha\n",
"//CALCULATIONS\n",
"x=(%Nia-%NiL)/(%Nialpha-%NiL);.....//Mass fraction of alloy in percent\n",
"disp(x,'Mass fraction of alloy in percent:')\n",
"printf('By converting 62percent alpha and 38percent Liquid are present.:')"
   ]
   }
,
{
		   "cell_type": "markdown",
		   "metadata": {},
		   "source": [
			"## Example 10.9: Alloy.sce"
		   ]
		  },
  {
"cell_type": "code",
	   "execution_count": null,
	   "metadata": {
	    "collapsed": true
	   },
	   "outputs": [],
"source": [
"clc;funcprot(0);//EXAMPLE 10.9\n",
"//page 296\n",
"// Initialisation of Variables\n",
"%NiL=37;......// percentage of NI the Liquid contains at 1270 degree celsius\n",
"%NiS=50;........//percentage of NI the Solid contains at 1270 degree celsius\n",
"%NiL2=32;........//percentage of NI the Liquidcontains at 1250 degree celsius\n",
"%NiS2=45;........//percentage of NI the Solid contains at 1250 degree celsius\n",
"%NiS3=40;........//percentage of NI the Solid contains at 1200 degree celsius\n",
"%NiL3=40;.......//percentage of NI the Liquid contains at 1300 degree celsius\n",
"//CALCULATIONS\n",
"%L=((%NiS-%NiL3)/(%NiS-%NiL))*100;......//Percentage of Liquid at 1270 degree celsius \n",
"%S=((%NiS3-%NiL)/(%NiS-%NiL))*100;.......//Percentage of Solid qt 1270 degree celsius\n",
"%L2=((%NiS2-%NiL3)/(%NiS2-%NiL2))*100;....//Percentage of Liquid at 1250 degree celsius \n",
"%S2=((%NiS3-%NiL2)/(%NiS2-%NiL2))*100;....//Percentage of Solid qt 1250 degree celsius\n",
"printf('At 1300 degree celsius only one phase so 100 percent Liquid')\n",
"disp(round(%L),'Percentage of Liquid at 1270 degree celsius :')\n",
"disp(round(%S),'Percentage of Solid qt 1270 degree celsius:')\n",
"disp(round(%L2),'Percentage of Liquid at 1250 degree celsius :')\n",
"disp(round(%S2),'Percentage of Solid at 1250 degree celsius:')\n",
"printf('At 1200 degree celsius only one phase so 100 percent Solid ')"
   ]
   }
],
"metadata": {
		  "kernelspec": {
		   "display_name": "Scilab",
		   "language": "scilab",
		   "name": "scilab"
		  },
		  "language_info": {
		   "file_extension": ".sce",
		   "help_links": [
			{
			 "text": "MetaKernel Magics",
			 "url": "https://github.com/calysto/metakernel/blob/master/metakernel/magics/README.md"
			}
		   ],
		   "mimetype": "text/x-octave",
		   "name": "scilab",
		   "version": "0.7.1"
		  }
		 },
		 "nbformat": 4,
		 "nbformat_minor": 0
}
