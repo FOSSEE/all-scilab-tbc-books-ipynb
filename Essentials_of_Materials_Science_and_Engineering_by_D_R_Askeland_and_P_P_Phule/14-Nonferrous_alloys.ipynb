{
"cells": [
 {
		   "cell_type": "markdown",
	   "metadata": {},
	   "source": [
       "# Chapter 14: Nonferrous alloys"
	   ]
	},
{
		   "cell_type": "markdown",
		   "metadata": {},
		   "source": [
			"## Example 14.1: Strength_to_weight_ratio.sce"
		   ]
		  },
  {
"cell_type": "code",
	   "execution_count": null,
	   "metadata": {
	    "collapsed": true
	   },
	   "outputs": [],
"source": [
"clc;funcprot(0);//EXAMPLE 14.1\n",
"//page 427\n",
"// Initialisation of Variables\n",
"d1=0.5;..........//Diameter of a steel Cable in in.\n",
"rhoy=70000;........//Yield Strength of Steel Cable in psi\n",
"rhoa1=36000;........//Yield Strength of Aluminum in psi\n",
"rhos=0.284;..........//Density of Steel in lb/in^3\n",
"rhoa2=0.097;.........//Density of Aluminum in lb/in^3\n",
"//CALCULATIONS\n",
"F=rhoy*((%pi/4)*(d1^2));........//Load applied on Aluminum in lb\n",
"d2=sqrt((F/rhoa1)*(4/(%pi)));.......//Diameter of Aluminum in in.\n",
"Ws=(%pi/4)*(d1^2)*12*rhos;..........//Weight of Steel  in lb/ft\n",
"Wa=(%pi/4)*(d2^2)*12*rhoa2;..........//Weight of        Aluminum in lb/ft\n",
"disp(F,'a. Load applied on Aluminum in lb:')\n",
"disp(d2,'b. Diameter of Aluminum in in.: ')\n",
"disp(Ws,'c.  Weight of Steel  in lb/ft:')\n",
"disp(Wa,'Weight of Aluminum in lb/ft:')"
   ]
   }
],
"metadata": {
		  "kernelspec": {
		   "display_name": "Scilab",
		   "language": "scilab",
		   "name": "scilab"
		  },
		  "language_info": {
		   "file_extension": ".sce",
		   "help_links": [
			{
			 "text": "MetaKernel Magics",
			 "url": "https://github.com/calysto/metakernel/blob/master/metakernel/magics/README.md"
			}
		   ],
		   "mimetype": "text/x-octave",
		   "name": "scilab",
		   "version": "0.7.1"
		  }
		 },
		 "nbformat": 4,
		 "nbformat_minor": 0
}
