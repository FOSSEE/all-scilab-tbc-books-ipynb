{
"cells": [
 {
		   "cell_type": "markdown",
	   "metadata": {},
	   "source": [
       "# Chapter 17: Composites Teamwork and synergy in materials"
	   ]
	},
{
		   "cell_type": "markdown",
		   "metadata": {},
		   "source": [
			"## Example 17.10: Design_of_composite_strut.sce"
		   ]
		  },
  {
"cell_type": "code",
	   "execution_count": null,
	   "metadata": {
	    "collapsed": true
	   },
	   "outputs": [],
"source": [
"clc;funcprot(0);//EXAMPLE 17.10\n",
"//page 554\n",
"// Initialisation of Variables\n",
"psi=500000;...............//Modulus Elasticity of Epoxyin psi\n",
"f=500;.....................//Force applied on Epoxy in pounds\n",
"q=0.10;....................//Stretchable distence in in.\n",
"rho=0.0451;..................//Density of Epoxy in lb/in^3\n",
"d=1.24;....................//Diameter of Epoxy in in\n",
"e=12000;....................//Yeild Strngth of Epoxy in psi\n",
"E2=77*10^6;................//Modulus of high Carbon Fiber in psi\n",
"Fc=0.817;..................//Volume fraction of Epoxy remaining\n",
"Fc2=0.183;..................//Min volume Faction of Epoxy \n",
"rho2=0.0686;...............//Density of high Carbon Fiber in lb/in^3\n",
"emax=q/120;................//MAX. Strain of Epoxy\n",
"E=psi*emax;................//Max Modulus of elasticity in psi\n",
"A=f/E;....................//Area of Structure in in^2\n",
"W=rho*%pi*((d/2)^2)*120;...........//Weight of Structure in ib\n",
"c=W*0.80;..........................//Cost of Structure in Dollars\n",
"Ec=e/emax;..................//Minimum Elasticity of composite in psi\n",
"A2=f/e;....................//Area of Epoxy in in^2\n",
"At=A2/Fc;................//Total Volume of Epoxy\n",
"V=At*120;................//Volume of Structure in in^3\n",
"W2=((rho2*Fc2)+(rho*Fc))*V;.............//Weight of Structure in lb\n",
"Wf=(Fc2*1.9)/((Fc2*1.9)+(Fc*1.25));...........//Weight Fraction of Carbon \n",
"Wc=Wf*W2;.....................//Weight of Carbon\n",
"We=0.746*W2;.................//Weight of Epoxy\n",
"c2=(Wc*30)+(We*0.80);.............//Cost of Each Struct.\n",
" disp(c2,'Cost of Each Struct.:')"
   ]
   }
,
{
		   "cell_type": "markdown",
		   "metadata": {},
		   "source": [
			"## Example 17.1: TD_nickel_composite.sce"
		   ]
		  },
  {
"cell_type": "code",
	   "execution_count": null,
	   "metadata": {
	    "collapsed": true
	   },
	   "outputs": [],
"source": [
"clc;funcprot(0);//EXAMPLE 17.1\n",
"//page 527\n",
"// Initialisation of Variables\n",
"per1=2;.............//Percent weight of ThO2\n",
"per2=98;..............//Percentage weight of Nickle\n",
"rho1=9.69;...........//Density of ThO2 in g/cm^3\n",
"rho2=8.9;............//Density of Nickel in g/cm^3\n",
"r=0.5*10^-5;........//Radius of ThO2 particle in cm\n",
"//calculations\n",
"f=(2/rho1)/((per1/rho1)+(per2/rho2));.........//Volume fraction of ThO2 per cm^3 of composite\n",
"v=(4/3)*(%pi)*r^3;...........//Volume of ech ThO2 sphere in cm^3\n",
"c=f/v;.................//Concentration of ThO2 particles in particles/cm^3\n",
"disp(c,'Concentration of ThO2 in particles/cm^3:')"
   ]
   }
,
{
		   "cell_type": "markdown",
		   "metadata": {},
		   "source": [
			"## Example 17.2: Comented_carbides.sce"
		   ]
		  },
  {
"cell_type": "code",
	   "execution_count": null,
	   "metadata": {
	    "collapsed": true
	   },
	   "outputs": [],
"source": [
"clc;funcprot(0);//EXAMPLE 17.2\n",
"//page 528\n",
"// Initialisation of Variables\n",
"per1=75;..............//Percent Weight of WC \n",
"per2=15;..............//Percent Weight of TiC\n",
"per3=5;...............//Percent Weight of TaC\n",
"per4=5;...............//Percent Weight of Co\n",
"rho1=15.77;...........//Density of WC in g/cm^3\n",
"rho2=4.94;............//Density of TiC in g/cm^3\n",
"rho3=14.5;............//Density of TaC in g/cm^3\n",
"rho4=8.90;............//Density of Co in g/cm^3\n",
"//Calculations\n",
"f1=(per1/rho1)/((per1/rho1)+(per2/rho2)+(per3/rho3)+(per4/rho4));.......//Volume fraction of WC \n",
"f2=(per2/rho2)/((per1/rho1)+(per2/rho2)+(per3/rho3)+(per4/rho4));.....//Volume fraction of Tic\n",
"f3=(per3/rho3)/((per1/rho1)+(per2/rho2)+(per3/rho3)+(per4/rho4));.....//Volume fraction of Tac\n",
"f4=(per4/rho4)/((per1/rho1)+(per2/rho2)+(per3/rho3)+(per4/rho4));.....//Volume fraction of Co\n",
"rho=(f1*rho1)+(f2*rho2)+(f3*rho3)+(f4*rho4);........//Density of composite in g/cm^3\n",
"disp(rho,'Density of composite in g/cm^3:')"
   ]
   }
,
{
		   "cell_type": "markdown",
		   "metadata": {},
		   "source": [
			"## Example 17.3: Silver_tungsten_composite.sce"
		   ]
		  },
  {
"cell_type": "code",
	   "execution_count": null,
	   "metadata": {
	    "collapsed": true
	   },
	   "outputs": [],
"source": [
"clc;funcprot(0);//EXAMPLE 17.3\n",
"//page 530\n",
"// Initialisation of Variables\n",
"rho1=19.3;...........//Density of pure Tungsten in g/cm^3\n",
"rho2=10.49;............//Density of pure Silver in g/cm^3\n",
"f1=0.75;..............//Volume fraction of Tungsten \n",
"f2=0.25;...........//Volume fraction of Silver and pores\n",
"//Calculations\n",
"per=((f2*rho2)/((f2*rho2)+(f1*rho1)))*100;.........//Percentage weight of silver \n",
"disp(per,'Percentage Weight of Silver:')"
   ]
   }
,
{
		   "cell_type": "markdown",
		   "metadata": {},
		   "source": [
			"## Example 17.4: Mixture.sce"
		   ]
		  },
  {
"cell_type": "code",
	   "execution_count": null,
	   "metadata": {
	    "collapsed": true
	   },
	   "outputs": [],
"source": [
"clc;funcprot(0);//EXAMPLE 17.4\n",
"//page 531\n",
"// Initialisation of Variables\n",
"rho1=0.95;...........//Density of polyethylene in g/cm^3\n",
"rho2=2.4;...........//Density of clay in g/cm^3\n",
"f1=0.65;...............//Volume fraction of Polyethylene \n",
"f2=0.35;...............//Volume fraction of Clay \n",
"f3=1.67;.............//Volume fraction of polyethylene after sacrifice\n",
"f4=1.06;.............//Volume fraction of Clay after sacrifice\n",
"pa1=650;............// No. of parts of polyethylene in 1000cm^3 composite  in cm^3\n",
"pa2=350;............// No. of parts of clay in 1000cm^3 composite  in cm^3\n",
"//Calculations\n",
"pa3=(pa1*rho1)/454;.........//No. of parts of Polyethylene in 1000cm^3 composite  in lb\n",
"pa4=(pa2*rho2)/454;.........//No. of parts of clay in 1000cm^3 composite  in lb\n",
"co1=pa3* 0.05;................//Cost of material Polyethylenein Dollars\n",
"co2=pa4* 0.05;................//Cost of materials clay in Dollars\n",
"c0=co1+co2;...................//Cost of materials in Dollars\n",
"rho3=(f1*rho1)+(f2*rho2);.........//Composite density in g/cm^3\n",
"co3=f3* 0.05;................//Cost of material polyethylene after savings in Dollars\n",
"co4=f4* 0.05;................//Cost of material clay after savings in Dollars\n",
"c1=co3+co4;.................//Cost of materials after savings in Dollars\n",
"rho4=(0.8*rho1)+(0.2*rho2);..............//Density of composite after saving in g/cm^3\n",
"disp(rho3,'Composite density in g/cm^3:')\n",
"disp(rho4,'Composite densityafter saving in g/cm^3:')\n",
""
   ]
   }
,
{
		   "cell_type": "markdown",
		   "metadata": {},
		   "source": [
			"## Example 17.7: Boron_Alumunium_composite.sce"
		   ]
		  },
  {
"cell_type": "code",
	   "execution_count": null,
	   "metadata": {
	    "collapsed": true
	   },
	   "outputs": [],
"source": [
"clc;funcprot(0);//EXAMPLE 17.7\n",
"// Initialisation of Variables\n",
"//page 536\n",
"f1=0.4;...............//Volume fraction of Fiber  \n",
"f2=0.6;...............//Volume fraction of Aluminium \n",
"rho1=2.36;...........//Density of Fibers in g/cm^3\n",
"rho2=2.70;...........//Density of Aluminium in g/cm^3\n",
"psi1=55*10^6;..............//Modulus of elasticity of Fiber in psi\n",
"psi2=10*10^6;..............//Modulus of elasticity of Aluminium in psi\n",
"ts1=400000;..............//Tensile strength of fiber in psi\n",
"ts2=5000;..............//Tensile strength of Aluminium in psi\n",
"//Calculations\n",
"rho=(f1*rho1)+(f2*rho2);........//Density of mixture in g/cm^3\n",
"Ec1=(f1*psi1)+(f2*psi2);........//Modulus of elasticity of mixture in psi\n",
"TSc=(f1*ts1)+(f2*ts2);........//Tensile Strength of mixture in psi\n",
"Ec2=1/((f1/psi1)+(f2/psi2));........//Modulus of elasticity  perpendicular to fibers in psi\n",
"disp(rho,'Density of mixture in g/cm^3:')\n",
"disp(Ec1,'Modulus of elasticity of mixture in psi:')\n",
"disp(TSc,'Tensile Strength of mixture in psi:')\n",
"disp(Ec2,'Modulus of elasticity  perpendicular to fibers in psi:')"
   ]
   }
,
{
		   "cell_type": "markdown",
		   "metadata": {},
		   "source": [
			"## Example 17.8: Nylon_glass_fiber.sce"
		   ]
		  },
  {
"cell_type": "code",
	   "execution_count": null,
	   "metadata": {
	    "collapsed": true
	   },
	   "outputs": [],
"source": [
"clc;funcprot(0);//EXAMPLE 17.8\n",
"//page 534\n",
"// Initialisation of Variables\n",
"psi1=10.5*10^6;..............//Modulus of elasticity of Glass in psi\n",
"psi2=0.4*10^6;..............//Modulus of elasticity of Nylon in psi\n",
"a1=0.3;.....................//area of glass in cm^3\n",
"a2=0.7;.....................//area of Nylon in cm^3\n",
"//Calculations\n",
"psi=psi1/psi2;..............//Fraction of elasticity\n",
"fo=a1/(a1+(a2*(1/psi)));..........//Fraction of applied force carried by Glass fiber \n",
"disp(fo,'Fraction of applied force carried by Glass fiber :')\n",
"printf('      Almost all of the load is carried by the glass fibers.')"
   ]
   }
,
{
		   "cell_type": "markdown",
		   "metadata": {},
		   "source": [
			"## Example 17.9: Design_od_composite.sce"
		   ]
		  },
  {
"cell_type": "code",
	   "execution_count": null,
	   "metadata": {
	    "collapsed": true
	   },
	   "outputs": [],
"source": [
"clc;funcprot(0);//EXAMPLE 17.9\n",
"//page 542\n",
"// Initialisation of Variables\n",
"psi=10*10^6;..............//Modulus of elasticity of 7075-T6 in psi\n",
"psi1=55*10^6;..............//Modulus of elasticity of Boron fiber in psi\n",
"psi2=11*10^6;..............//Modulus of elasticity of Typical AL-LI in psi\n",
"f1=0.6;...............//Volume fraction of Boron Fiber\n",
"f2=0.4;...............//Volume fraction of typical AL-LI\n",
"rho1=0.085;...........//Density of  Boron Fibers in lb/in*3\n",
"rho2=0.09;...........//Density of typical AL-LI in lb/in^3\n",
"//Calculations\n",
"sm1=psi/(((2.7*(2.54)^3))/454);..........//Specific Modulus of current alloy in in.\n",
"rho=(f1*rho1)+(f2*rho2);........//Density of composite in lb/in^3\n",
"Ec=(f1*psi1)+(f2*psi2);........//Modulus of elasticity of mixture in psi\n",
"sm2=Ec/rho;..........//Specific Modulus of composite in in.\n",
"disp(sm1,'Specific Modulus of current alloy in in.:')\n",
"disp(rho,'Density of composite in lb/in^3:')\n",
"disp(Ec,'Modulus of elasticity of mixture in psi:')\n",
"disp(sm2,'Specific Modulus of composite in in.:')"
   ]
   }
],
"metadata": {
		  "kernelspec": {
		   "display_name": "Scilab",
		   "language": "scilab",
		   "name": "scilab"
		  },
		  "language_info": {
		   "file_extension": ".sce",
		   "help_links": [
			{
			 "text": "MetaKernel Magics",
			 "url": "https://github.com/calysto/metakernel/blob/master/metakernel/magics/README.md"
			}
		   ],
		   "mimetype": "text/x-octave",
		   "name": "scilab",
		   "version": "0.7.1"
		  }
		 },
		 "nbformat": 4,
		 "nbformat_minor": 0
}
