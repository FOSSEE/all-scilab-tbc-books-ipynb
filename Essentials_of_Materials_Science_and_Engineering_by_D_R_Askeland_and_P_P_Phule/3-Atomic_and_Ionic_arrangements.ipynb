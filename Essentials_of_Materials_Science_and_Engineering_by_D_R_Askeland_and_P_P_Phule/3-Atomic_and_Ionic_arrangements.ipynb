{
"cells": [
 {
		   "cell_type": "markdown",
	   "metadata": {},
	   "source": [
       "# Chapter 3: Atomic and Ionic arrangements"
	   ]
	},
{
		   "cell_type": "markdown",
		   "metadata": {},
		   "source": [
			"## Example 3.11: Octahedral_sites.sce"
		   ]
		  },
  {
"cell_type": "code",
	   "execution_count": null,
	   "metadata": {
	    "collapsed": true
	   },
	   "outputs": [],
"source": [
"//page 70\n",
"clc;funcprot(0);//EXAMPLE 3.11\n",
"// Initialisation of Variables\n",
"E=12;......//No. of Edges in the octahedral sites of the unit cell\n",
"S=1/4;.......//so only 1/4 of each site belongs uniquelyto each unit cell\n",
"N=E*S+1;.....//No.of site belongs uniquely to each unit cell\n",
"disp(N,'No.of octahedral site belongs uniquely to each unit cell:')"
   ]
   }
,
{
		   "cell_type": "markdown",
		   "metadata": {},
		   "source": [
			"## Example 3.12: Density.sce"
		   ]
		  },
  {
"cell_type": "code",
	   "execution_count": null,
	   "metadata": {
	    "collapsed": true
	   },
	   "outputs": [],
"source": [
"//page 72\n",
"clc;funcprot(0);//EXAMPLE 3.12\n",
"// Initialisation of Variables\n",
"r1=0.066;.......//Radius of Mg+2 from Appendix B in nm\n",
"r2=0.132;.......//Radius of O-2 from Appendix B  in nm\n",
"Am1=24.312;.......//Atomic masses of Mg+2 in g/mol\n",
"Am2=16;.......//Atomic masses of O-2 in g/mol\n",
"Na=6.02*10^23;......//Avogadro’s number\n",
"//CALCULATIONS\n",
"a0=2*r1+2*r2;...........//Lattice constant for MgO in nm\n",
"rho=((4*Am1)+(4*16))/((a0*10^-8)*Na);.....//Density of MgO in g/cm^3\n",
"disp(a0*10^-8,'Lattice constant for MgO in cm:')\n",
"disp(rho,'Density of MgO in g/cm^3:')\n",
"//Answer given in the book is wrong"
   ]
   }
,
{
		   "cell_type": "markdown",
		   "metadata": {},
		   "source": [
			"## Example 3.13: packing_factor.sce"
		   ]
		  },
  {
"cell_type": "code",
	   "execution_count": null,
	   "metadata": {
	    "collapsed": true
	   },
	   "outputs": [],
"source": [
"//page 75\n",
"clc;funcprot(0);//EXAMPLE 3.13\n",
"// Initialisation of Variables\n",
"r=1;............//Radius of each atom in units\n",
"n=8;.........//No. of atoms present in Diamond cubic    Silicon per cell\n",
"//CALCULATIONS\n",
"v=(4/3)*%pi*r^3;..........// Volume of each atom in Diamond cubic Silicon\n",
"a0=(8*r)/sqrt(3);..........//Volume of unit cell in Diamond cubic Silicon\n",
"Pf=(n*v)/a0^3;............//Packing factor of Diamond   cubic Silicon\n",
"disp(Pf,'Packing factor of Diamond   cubic Silicon:')"
   ]
   }
,
{
		   "cell_type": "markdown",
		   "metadata": {},
		   "source": [
			"## Example 3.1: Lattice_points.sce"
		   ]
		  },
  {
"cell_type": "code",
	   "execution_count": null,
	   "metadata": {
	    "collapsed": true
	   },
	   "outputs": [],
"source": [
"//page 53\n",
"clc;funcprot(0);//EXAMPLE 3.1\n",
"// Initialisation of Variables\n",
"Cn=8;......//No. of Corners of the Cubic Crystal Systems\n",
"c=1;......//No. of centers of the Cubic Crystal Systems in BCC unit cell\n",
"F=6;.......//No. of Faces of the Cubic Crystal Systems in FCC unit cell\n",
"//CALCULATIONS \n",
"N1=Cn/8;.....//No. of latice points per unit cell in SC unit cell\n",
"N2=(Cn/8)+c*1;....//No. of latice points per unit cell  in BCC unit cells\n",
"N3=(Cn/8)+F*(1/2);....//No. of latice points per unit cell  in FCC unit cells\n",
"disp(N1,'No. of latice points per unit cell in SC unit cell:')\n",
"disp(N2,'No. of latice points per unit cell  in BCC unit cells:')\n",
"disp(N3,'No. of latice points per unit cell  in FCC unit cells:')"
   ]
   }
,
{
		   "cell_type": "markdown",
		   "metadata": {},
		   "source": [
			"## Example 3.3: Packing_factor.sce"
		   ]
		  },
  {
"cell_type": "code",
	   "execution_count": null,
	   "metadata": {
	    "collapsed": true
	   },
	   "outputs": [],
"source": [
"//page 56\n",
"clc;funcprot(0);//EXAMPLE 3.14\n",
"// Initialisation of Variables\n",
"r=1;.........// one unit of radius of each atom of FCC  cell\n",
"a0=(4*r)/sqrt(2);..........//Lattice constant for FCC   cell\n",
"v=(4*%pi*r^3)/3;.........//volume of one atom in FCC cell\n",
"Pf=(4*v)/(a0)^3;........//Packing factor in FCC cell\n",
"disp(Pf,'Packing factor in FCC cell')"
   ]
   }
,
{
		   "cell_type": "markdown",
		   "metadata": {},
		   "source": [
			"## Example 3.4: Density_of_BCC_iron.sce"
		   ]
		  },
  {
"cell_type": "code",
	   "execution_count": null,
	   "metadata": {
	    "collapsed": true
	   },
	   "outputs": [],
"source": [
"//page 57\n",
"clc;funcprot(0);//EXAMPLE 3.4\n",
"// Initialisation of Variables\n",
"a0=2.866*10^-8;..........//Lattice constant for BCC iron     cells in cm\n",
"m=55.847;..........//Atomic mass of iron in g/mol\n",
"Na=6.02*10^23;......//Avogadro’s number in atoms/mol\n",
"n=2;.........//number of atoms per cell in BCC iron\n",
"//CALCULATIONS\n",
"v=a0^3;........//Volume of unit cell for BCC iron in cm^3/cell\n",
"rho=(n*m)/(v*Na);.......//Density of BCC iron\n",
"disp(v,'Volume of unit cell for BCC iron in cm^3/cell:')\n",
"disp(rho,'Density of BCC iron in g/cm^3:')"
   ]
   }
,
{
		   "cell_type": "markdown",
		   "metadata": {},
		   "source": [
			"## Example 3.5: Volume_change_in_polymorphs.sce"
		   ]
		  },
  {
"cell_type": "code",
	   "execution_count": null,
	   "metadata": {
	    "collapsed": true
	   },
	   "outputs": [],
"source": [
"clc;funcprot(0);//EXAMPLE 3.5\n",
"// Initialisation of Variables\n",
"a=5.156;........//The lattice constants for the monoclinic unit cells in Angstroms\n",
"b=5.191;........//The lattice constants for the monoclinic unit cells in Angstroms\n",
"c=5.304;........//The lattice constants for the monoclinic unit cells in Angstroms\n",
"beeta=98.9;.......//The angle fro the monoclinic unit   cell \n",
"a2=5.094;........//The lattice constants for the tetragonal unit cells in Angstroms\n",
"c2=5.304;........//The lattice constants for the tetragonal unit cells in Angstroms\n",
"//CALCULATIONS\n",
"v2=(a2^2)*c2;........//volume of a tetragonal unit cell\n",
"v1=a*b*c*sin(beeta*%pi/180);........//volume of a monoclinic unit cell\n",
"Pv=(v1-v2)/(v1)*100;........//The percent change in  volume in percent\n",
"disp(v2,'volume of a tetragonal unit cell in A^3:')\n",
"disp(v1,'volume of a monoclinic unit cell in A^3:')\n",
"disp(Pv,'The percent change in  volume in percent:')\n",
"//valu of pv is wrong in book"
   ]
   }
,
{
		   "cell_type": "markdown",
		   "metadata": {},
		   "source": [
			"## Example 3.8: Planar_density_and_packing_fraction.sce"
		   ]
		  },
  {
"cell_type": "code",
	   "execution_count": null,
	   "metadata": {
	    "collapsed": true
	   },
	   "outputs": [],
"source": [
"//page 64\n",
"clc;funcprot(0);//EXAMPLE 3.8\n",
"// Initialisation of Variables\n",
"r=1;.......//Radius of each atom in units\n",
"l=0.334;.......//Lattice parameter of (010) in nm\n",
"//CALCULATIONS\n",
"a1=2*r;........//Area of face for (010)\n",
"a2=l^2;...........//Area of face of (010) in cm^2\n",
"pd=1/a2;........//Planar density of (010) in atoms/nm^2\n",
"pf=%pi*r^2/(a1)^2;......//Packing fraction of (010)\n",
"disp(pd*10^14,'Planar density of (010) in atoms/cm^2:')\n",
"disp(pf,'Packing fraction of (010):')"
   ]
   }
],
"metadata": {
		  "kernelspec": {
		   "display_name": "Scilab",
		   "language": "scilab",
		   "name": "scilab"
		  },
		  "language_info": {
		   "file_extension": ".sce",
		   "help_links": [
			{
			 "text": "MetaKernel Magics",
			 "url": "https://github.com/calysto/metakernel/blob/master/metakernel/magics/README.md"
			}
		   ],
		   "mimetype": "text/x-octave",
		   "name": "scilab",
		   "version": "0.7.1"
		  }
		 },
		 "nbformat": 4,
		 "nbformat_minor": 0
}
