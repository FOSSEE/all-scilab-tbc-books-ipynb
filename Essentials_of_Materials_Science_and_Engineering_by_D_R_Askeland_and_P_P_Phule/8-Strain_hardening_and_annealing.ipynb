{
"cells": [
 {
		   "cell_type": "markdown",
	   "metadata": {},
	   "source": [
       "# Chapter 8: Strain hardening and annealing"
	   ]
	},
{
		   "cell_type": "markdown",
		   "metadata": {},
		   "source": [
			"## Example 8.1: Cold_working_a_copper_plate.sce"
		   ]
		  },
  {
"cell_type": "code",
	   "execution_count": null,
	   "metadata": {
	    "collapsed": true
	   },
	   "outputs": [],
"source": [
"clc;funcprot(0);//EXAMPLE 8.1\n",
"//page 221\n",
"// Initialisation of Variables\n",
"t0=1;.......//Thickness of Copper plate in cm\n",
"tf=0.50;.....//Cold reducetion of coopper in cm in step1\n",
"tf2=0.16;.....// Further Cold reduction of cooper in cm in step2\n",
"//CALCULATIONS\n",
"%CW1=((t0-tf)/t0)*100;......//Amount of Cold work accomplished in step1\n",
"%CW2=((tf-tf2)/tf)*100;.....//Amount of Cold work accomplished in step2\n",
"%CW=((t0-tf2)/t0)*100;.......//Actual Total Cold work in percent\n",
"disp(%CW1,'Amount of Cold work accomplished in step1:') \n",
"disp(%CW2,'Amount of Cold work accomplished in step2:')\n",
"disp(%CW,'Actual Total Cold work in percent:')"
   ]
   }
,
{
		   "cell_type": "markdown",
		   "metadata": {},
		   "source": [
			"## Example 8.2: Cold_working_process.sce"
		   ]
		  },
  {
"cell_type": "code",
	   "execution_count": null,
	   "metadata": {
	    "collapsed": true
	   },
	   "outputs": [],
"source": [
"clc;funcprot(0);//EXAMPLE 8.2\n",
"//page 222\n",
"// Initialisation of Variables\n",
"tf=0.1;.......//Thickness of cooper to produce in cm\n",
"%CW1=40;.......//cold work to produce a tensile strengthof 65,000 psi\n",
"%CW2=45;.......//cold work to produce a tensile strengthof 60,000 psi\n",
"//CALCULATIONS\n",
"Tmax=(tf/(1-(%CW1/100)));.........//Maximum thicknessproduced in step1 in cm\n",
"Tmin=(tf/(1-(%CW2/100)));.........//Minimum thicknessproduced in step2 in cm\n",
"disp(Tmax,'Maximum thicknessproduced  in cm:')\n",
"disp(Tmin,'Minimum thicknessproduced  in cm:')"
   ]
   }
,
{
		   "cell_type": "markdown",
		   "metadata": {},
		   "source": [
			"## Example 8.5: Wire_drawing_process.sce"
		   ]
		  },
  {
"cell_type": "code",
	   "execution_count": null,
	   "metadata": {
	    "collapsed": true
	   },
	   "outputs": [],
"source": [
"//EXAMPLE 8.5\n",
"//page 228\n",
"clc;\n",
"// Initialisation of Variables\n",
"D0=0.40;........//Let’s assume that the starting diameter of the copper wire in in.\n",
"Df=0.20;........// Diameter of the copper wire to be produced in in.\n",
"sigma1=22000;..........//Yeidl strength at 0% cold work\n",
"//CALCULATIONS\n",
"CW=((D0^2-Df^2)/D0^2)*100;.........//The fianal Cold Work in percent\n",
"F=sigma1*(%pi/4)*D0^2;........//The draw force required to deform the initial wire in lb\n",
"sigma2=F/((%pi/4)*Df^2);.....// The stress acting on the wire after passing through the die in psi\n",
"disp(CW,'The fianal Cold Work in percent:')\n",
"disp(F,'The draw force required to deform the initial wire in lb:')\n",
"disp(sigma2,'The stress acting on the wire after passing through the die in psi:')\n",
"\n",
""
   ]
   }
,
{
		   "cell_type": "markdown",
		   "metadata": {},
		   "source": [
			"## Example 8.6: Process_to_produce_copper_strip.sce"
		   ]
		  },
  {
"cell_type": "code",
	   "execution_count": null,
	   "metadata": {
	    "collapsed": true
	   },
	   "outputs": [],
"source": [
"clc;funcprot(0);//EXAMPLE 8.6\n",
"//page 235\n",
"// Initialisation of Variables\n",
"t0=5;.......//Assming we are able to purchase only 5-cm thick stock\n",
"t02=1;......//Thickness of strip in cm\n",
"tf=0.182;......//Final thickness of strip in cm\n",
"%CW2=80;.......//cold work  of a strip in percent\n",
"M=1085;.......// The melting point of copper in degree celsius\n",
"//CALCULATIONS\n",
"%CW=((t0-tf)/t0)*100;.......//Cold work between from 5 to 0.182 cm in percent\n",
"tf2=(1-(%CW2/100))*t0;.....// Final Thickness of strip in cm\n",
"Tr=0.4*(M+273);...// Recrystallization temperature By using 0.4Tm relationship in degree celsius\n",
"%CW3=((t02-tf)/t02)*100;.....//Cold work of the strip of 1 cm thickness \n",
"disp(%CW,'Cold work between from 5 to 0.182 cm in percent:')\n",
"disp(tf2,'1. Final Thickness of strip in cm')\n",
"disp(Tr-273,'2. Recrystallization temperature By using 0.4Tm relationship in degree celsius:')\n",
"disp(%CW3,'3.  Cold work of the strip of 1 cm thickness :')"
   ]
   }
,
{
		   "cell_type": "markdown",
		   "metadata": {},
		   "source": [
			"## Example 8.7: Process_to_produce_copper_strip.sce"
		   ]
		  },
  {
"cell_type": "code",
	   "execution_count": null,
	   "metadata": {
	    "collapsed": true
	   },
	   "outputs": [],
"source": [
"clc;funcprot(0);//EXAMPLE 8.7\n",
"//page 237\n",
"// Initialisation of Variables\n",
"t0=5;.........//We are able to purchase strip of 5cm thickness in cm\n",
"tf=0.182;.....//Thickness to be produced in cm\n",
"tf2=0.167;.......//Thickness to procedure in cm\n",
"//CALCULATIONS\n",
"%HW=((t0-tf)/t0)*100;.....//Hot work for a strip from 5cm to 0.182 cm in percent\n",
"%HW2=((t0-tf2)/t0)*100;......//Hot work for a strip from 5cm to 0.167 cm in percent\n",
"disp(%HW,'Hot work for a strip from 5cm to 0.182 cm in percent:')\n",
"disp(%HW2,'Hot work for a strip from 5cm to 0.167 cm in percent')"
   ]
   }
],
"metadata": {
		  "kernelspec": {
		   "display_name": "Scilab",
		   "language": "scilab",
		   "name": "scilab"
		  },
		  "language_info": {
		   "file_extension": ".sce",
		   "help_links": [
			{
			 "text": "MetaKernel Magics",
			 "url": "https://github.com/calysto/metakernel/blob/master/metakernel/magics/README.md"
			}
		   ],
		   "mimetype": "text/x-octave",
		   "name": "scilab",
		   "version": "0.7.1"
		  }
		 },
		 "nbformat": 4,
		 "nbformat_minor": 0
}
