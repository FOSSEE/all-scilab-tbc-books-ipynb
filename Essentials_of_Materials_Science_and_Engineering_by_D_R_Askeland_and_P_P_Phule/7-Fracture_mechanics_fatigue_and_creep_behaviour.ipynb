{
"cells": [
 {
		   "cell_type": "markdown",
	   "metadata": {},
	   "source": [
       "# Chapter 7: Fracture mechanics fatigue and creep behaviour"
	   ]
	},
{
		   "cell_type": "markdown",
		   "metadata": {},
		   "source": [
			"## Example 7.11: Design_of_rotating_shaft.sce"
		   ]
		  },
  {
"cell_type": "code",
	   "execution_count": null,
	   "metadata": {
	    "collapsed": true
	   },
	   "outputs": [],
"source": [
"clc;funcprot(0);//EXAMPLE 7.11\n",
"//page 199\n",
"// Initialisation of Variables\n",
"N=5.256*10^5;......//No. of cycles that the shaft will  experience in one year\n",
"F=12500;.........//applied load  on shaft in lb\n",
"L=96;...........//Length of Kliin produced from tool steel in in.\n",
"sigma1=72000;...........//the applied stress on Shaft\n",
"f=2;............//Factor of saftey of shaft\n",
"sigma2=sigma1/f;......//the maximum allowed stress level\n",
"//CALCULATIONS\n",
"d1=(16*F*L/(sigma1*%pi))^(1/3);..........//The Diameter of Shaft in in.\n",
"d2=(16*F*L/(sigma2*%pi))^(1/3);.......//The minimum diameter required to prevent failure\n",
"disp(d1,'The Diameter of Shaft in in.:')\n",
"disp(d2,'The minimum diameter required to prevent failure in in.:')"
   ]
   }
,
{
		   "cell_type": "markdown",
		   "metadata": {},
		   "source": [
			"## Example 7.1: Design_of_a_nondestructive_test.sce"
		   ]
		  },
  {
"cell_type": "code",
	   "execution_count": null,
	   "metadata": {
	    "collapsed": true
	   },
	   "outputs": [],
"source": [
"clc;funcprot(0);//EXAMPLE 7.1\n",
"//page 181\n",
"// Initialisation of Variables\n",
"f=1.12;.......//Geometry factor for the specimen and flaw\n",
"sigma=45000;.....//Applied stress on Steel in psi\n",
"K=80000;.........//The stress intensity factor\n",
"//CALCULATIONS\n",
"a=(K/(f*sigma))^2/%pi;........//Depth of crank in in\n",
"disp(a,'Depth of crank that will propagate in the steel in in:')"
   ]
   }
,
{
		   "cell_type": "markdown",
		   "metadata": {},
		   "source": [
			"## Example 7.2: properties_of_siAion_ceramics.sce"
		   ]
		  },
  {
"cell_type": "code",
	   "execution_count": null,
	   "metadata": {
	    "collapsed": true
	   },
	   "outputs": [],
"source": [
"clc;funcprot(0);//EXAMPLE 7.2\n",
"//page 183\n",
"// Initialisation of Variables\n",
"T=60000;........//Tensile strength Of Sialon (acronym   for silicon aluminum oxynitride) in psi\n",
"sigma=500;.....//The stress at which the part unexpectedly fails in psi\n",
"a=0.01;.........//Depth of thin crack in in\n",
"//CALCULATIONS\n",
"r=a/(T/(2*sigma))^2;.....//The radius of the crack tip  in in\n",
"disp(r*2.54*10^8,'The radius of the crack tip in Angstroms')"
   ]
   }
,
{
		   "cell_type": "markdown",
		   "metadata": {},
		   "source": [
			"## Example 7.3: Design_of_ceramic_support.sce"
		   ]
		  },
  {
"cell_type": "code",
	   "execution_count": null,
	   "metadata": {
	    "collapsed": true
	   },
	   "outputs": [],
"source": [
"clc;funcprot(0);//EXAMPLE 7.3\n",
"//page 184\n",
"// Initialisation of Variables\n",
"F=40000;..........// Maximum Tensile load in lb\n",
"K=9000;........//Fracture toughness of Ceramic\n",
"w=3;.........// plate made of Sialon width  \n",
"//CALCULATIONS\n",
"A=F*sqrt(%pi)/K;......//Area of ceramic\n",
"T=A/w;........// Thickness of Ceramic\n",
"disp(T,'THickness of ceramic :')"
   ]
   }
,
{
		   "cell_type": "markdown",
		   "metadata": {},
		   "source": [
			"## Example 7.8: Strength_of_ceramic.sce"
		   ]
		  },
  {
"cell_type": "code",
	   "execution_count": null,
	   "metadata": {
	    "collapsed": true
	   },
	   "outputs": [],
"source": [
"clc;funcprot(0);//EXAMPLE 7.8\n",
"//page 193\n",
"// Initialisation of Variables\n",
"m=9;.........//Weibull modulus of an ceramic \n",
"sigma1=250;.......//The flexural strength in MPa\n",
"F1=0.4;.......//probability of failure \n",
"F2=0.1;.......//Expected the probability of failure\n",
"//CALCULATIONS\n",
"sigma2=exp(log(sigma1)-(log(log(1/(1-F1)))/m ));.....// The characteristic strength of the ceramic\n",
"sigma3=exp((log(log(1/(1-F2)))/m)+log(sigma2));........//Expected level of stress that can be supported in MPa\n",
"disp(sigma2,'The characteristic strength of the ceramic in MPa:')\n",
"disp(sigma3,'Expected level of stress that can be supported in MPa:')\n",
""
   ]
   }
,
{
		   "cell_type": "markdown",
		   "metadata": {},
		   "source": [
			"## Example 7.9: parameter_determination.sce"
		   ]
		  },
  {
"cell_type": "code",
	   "execution_count": null,
	   "metadata": {
	    "collapsed": true
	   },
	   "outputs": [],
"source": [
"//page 195\n",
"clc;funcprot(0);//EXAMPLE 7.9\n",
"// Initialisation of Variables\n",
"Ln1=0.5\n",
"Ln2=-2.0\n",
"\n",
"sigma1=52;........//the maximum allowed stress level on ceramic at one point in MP.\n",
"sigma2=23.5;.......//the maximum allowed stress level on ceramic at another point in MP.\n",
"//CALCULATIONS\n",
"m=(Ln1-Ln2)/(log(sigma1)-log(sigma2));.......//Weibull modulus of ceramic\n",
"disp(m,'Weibull modulus of ceramic:')"
   ]
   }
],
"metadata": {
		  "kernelspec": {
		   "display_name": "Scilab",
		   "language": "scilab",
		   "name": "scilab"
		  },
		  "language_info": {
		   "file_extension": ".sce",
		   "help_links": [
			{
			 "text": "MetaKernel Magics",
			 "url": "https://github.com/calysto/metakernel/blob/master/metakernel/magics/README.md"
			}
		   ],
		   "mimetype": "text/x-octave",
		   "name": "scilab",
		   "version": "0.7.1"
		  }
		 },
		 "nbformat": 4,
		 "nbformat_minor": 0
}
