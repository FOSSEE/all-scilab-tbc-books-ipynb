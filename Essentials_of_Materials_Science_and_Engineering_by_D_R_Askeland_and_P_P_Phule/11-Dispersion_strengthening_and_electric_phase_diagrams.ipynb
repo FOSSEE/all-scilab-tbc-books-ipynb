{
"cells": [
 {
		   "cell_type": "markdown",
	   "metadata": {},
	   "source": [
       "# Chapter 11: Dispersion strengthening and electric phase diagrams"
	   ]
	},
{
		   "cell_type": "markdown",
		   "metadata": {},
		   "source": [
			"## Example 11.2: Phases_in_lead.sce"
		   ]
		  },
  {
"cell_type": "code",
	   "execution_count": null,
	   "metadata": {
	    "collapsed": true
	   },
	   "outputs": [],
"source": [
"clc;funcprot(0);//EXAMPLE 11.2\n",
"//page 319\n",
"// Initialisation of Variables\n",
"%Sn=2;......//Amount of Tin Dissolved in alpha solid solution \n",
"%Sn2=10;.....//Amount of Tin Dissolved in alpha+beeta   solid solution at 0 degree celsius\n",
"m=100;........//Total mass of the Pb-Sn alloy in gm\n",
"Pbm=90;.......//Total mass of the Pb in Pb-Sn alloy in gm\n",
"//CALCULATIONS\n",
"B=((%Sn2-%Sn)/(m-%Sn))*100;.......//The amount of beeta Sn  that forms if a Pb-10% Sn alloy is cooled to 0 Degree celsius\n",
"B2=100-B;......//The amount of alpha Sn that forms if a Pb-10% Sn alloy is cooled to 0 Degree celsius\n",
"Sn1=(%Sn/100)*(B2);......//The mass of Sn in the alpha phase in g\n",
"Sn2=%Sn2-Sn1;.....//The mass of Sn in beeta phase in g\n",
"Pb1=B2-Sn1;....//The mass of Pb in the alpha phase in g\n",
"Pb2=Pbm-Pb1;.........//The mass of Pb in the beeta phase in g\n",
"disp(B,'c.Amount of beeta forms of Pb-Sn in gm:')\n",
"disp(Sn1,'d.The mass of Sn in the alpha phase in g:')\n",
"disp(Sn2,'d.The mass of Sn in beeta phase in g:')\n",
"disp(Pb1,'e.The mass of Pb in the alpha phase in g:')\n",
"disp(Pb2,'e.The mass of Pb in the beeta phase in g:')"
   ]
   }
,
{
		   "cell_type": "markdown",
		   "metadata": {},
		   "source": [
			"## Example 11.3: alloy.sce"
		   ]
		  },
  {
"cell_type": "code",
	   "execution_count": null,
	   "metadata": {
	    "collapsed": true
	   },
	   "outputs": [],
"source": [
"clc;funcprot(0);//EXAMPLE 11.3\n",
"//page 321\n",
"// Initialisation of Variables\n",
"M=200;........//Mass of alpha phase of alloy in gm\n",
"%Sn=61.9;......//Percentage of the Sn in the eutectic alloy in percent\n",
"%Pb=19;.......//Percentage of the Pb in the alpha phase in percent\n",
"%Pb2=97.5;.....//Percentage of the Sn in the beeta phase in percent\n",
"//CALCULLATIONS\n",
"W1=(%Pb2-%Sn)/(%Pb2-%Pb);.....//Weight fraction of alpha phase\n",
"W2=(%Sn-%Pb)/(%Pb2-%Pb);.......//Weight fraction of beeta phase\n",
"Ma=M*W1;......//The mass of the alpha phase in 200g in g\n",
"Mb=M-Ma;......//The amount of the beeta phase in g at  182 degree celsius\n",
"MPb1=Ma*(1-(%Pb/100));.......//Mass of Pb in the alpha phase in g\n",
"MSn1=Ma-MPb1;......//Mass of Sn in alpha phase \n",
"MPb2=Mb*(1-(%Pb2/100));.....//Mass of Pb in beeta phase\n",
"MSn2=123.8-MSn1;.....//mass of Sn in beeta Phase\n",
"disp(W1,'Weight fraction of alpha phase')\n",
"disp(W2,'Weight fraction of beeta phase')\n",
"disp(Ma,'The mass of the alpha phase in 200g in g:')\n",
"disp(Mb,'The amount of the beeta phase in g at  182 degree celsius:')\n",
"disp(MPb1,'Mass of Pb in the alpha phase in g:')\n",
"disp(MSn1,'Mass of Sn in alpha phase')\n",
"disp(MPb2,'Mass of Pb in beeta phase:')\n",
"disp(MSn2,'mass of Sn in beeta Phase:')"
   ]
   }
,
{
		   "cell_type": "markdown",
		   "metadata": {},
		   "source": [
			"## Example 11.5: Microconstituent_amount.sce"
		   ]
		  },
  {
"cell_type": "code",
	   "execution_count": null,
	   "metadata": {
	    "collapsed": true
	   },
	   "outputs": [],
"source": [
"clc;funcprot(0);//EXAMPLE 11.3\n",
"//page 325\n",
"// Initialisation of Variables\n",
"%Sn=61.9;......//Percentage of the Sn in the eutectic alloy in percent\n",
"%Pb=19;.......//Percentage of the Pb in the alpha phase in percent\n",
"%Sn2=30;....//Percentage of the Sn in the eutectic alloy in percent\n",
"//CALCULATIONS\n",
"%Pa=(%Sn-%Sn2)/(%Sn-%Pb);......//The amount of compositions of primary alpha in Pb-Sn\n",
"%L=(%Sn2-%Pb)/(%Sn-%Pb);......//The amount of composition of eutectic in Pb-Sn\n",
"disp(round(%Pa*100),'The amount of compositions of primary alpha in Pb-Sn:')\n",
"disp(round(%L*100),'The amount of composition of eutectic in Pb-Sn:')"
   ]
   }
,
{
		   "cell_type": "markdown",
		   "metadata": {},
		   "source": [
			"## Example 11.6: Wiping_solder.sce"
		   ]
		  },
  {
"cell_type": "code",
	   "execution_count": null,
	   "metadata": {
	    "collapsed": true
	   },
	   "outputs": [],
"source": [
"//Example 11.6\n",
"//page 330\n",
"clc\n",
"per_L_200=((40-18)/(55-18))*100\n",
"Per_L_210=((40-17)/(50-17))*100\n",
"disp(per_L_200,'L200 in percentage')\n",
"disp(Per_L_210,'L210 in percentage')\n",
"//answer variation is due to round off"
   ]
   }
],
"metadata": {
		  "kernelspec": {
		   "display_name": "Scilab",
		   "language": "scilab",
		   "name": "scilab"
		  },
		  "language_info": {
		   "file_extension": ".sce",
		   "help_links": [
			{
			 "text": "MetaKernel Magics",
			 "url": "https://github.com/calysto/metakernel/blob/master/metakernel/magics/README.md"
			}
		   ],
		   "mimetype": "text/x-octave",
		   "name": "scilab",
		   "version": "0.7.1"
		  }
		 },
		 "nbformat": 4,
		 "nbformat_minor": 0
}
