{
"cells": [
 {
		   "cell_type": "markdown",
	   "metadata": {},
	   "source": [
       "# Chapter 10: Feedback Amplifiers"
	   ]
	},
{
		   "cell_type": "markdown",
		   "metadata": {},
		   "source": [
			"## Example 10.10: New_value_of_input_voltage.sce"
		   ]
		  },
  {
"cell_type": "code",
	   "execution_count": null,
	   "metadata": {
	    "collapsed": true
	   },
	   "outputs": [],
"source": [
"// Exa 10.10\n",
"clc;\n",
"clear;\n",
"close;\n",
"format('v',6)\n",
"// Given data\n",
"A = 200;\n",
"Beta = 5/100;\n",
"Af =A/(1 + (A*Beta));\n",
"disp(Af,'The gain of the amplifier with negative feedback is : ')\n",
"Dn = 10;// in %\n",
"Ddesh_n = Dn/(1+(A*Beta));// in %\n",
"disp(Ddesh_n,'The distortion with negative feedback in % is : ');\n",
"\n",
"// Note: In the book, the calculation to find the gain of the amplifier with negative feedback i.e Af is wrong."
   ]
   }
,
{
		   "cell_type": "markdown",
		   "metadata": {},
		   "source": [
			"## Example 10.11: Percentage_of_feedback.sce"
		   ]
		  },
  {
"cell_type": "code",
	   "execution_count": null,
	   "metadata": {
	    "collapsed": true
	   },
	   "outputs": [],
"source": [
"// Exa 10.11\n",
"clc;\n",
"clear;\n",
"close;\n",
"format('e',8)\n",
"// Given data\n",
"Af = 10;\n",
"A = 50;\n",
"// Af =A/(1 + (A*Beta) );\n",
"Beta = ((A/Af)-1)/A*100;// in %\n",
"dAfByAf = 1/( 1+100/4 )*Af/100;\n",
"disp(dAfByAf,'The percentage of feedback is');"
   ]
   }
,
{
		   "cell_type": "markdown",
		   "metadata": {},
		   "source": [
			"## Example 10.12: Upper_and_lower_cutoff_frequency.sce"
		   ]
		  },
  {
"cell_type": "code",
	   "execution_count": null,
	   "metadata": {
	    "collapsed": true
	   },
	   "outputs": [],
"source": [
"// Exa 10.12\n",
"clc;\n",
"clear;\n",
"close;\n",
"format('v',5)\n",
"// Given data\n",
"Ao = 100;\n",
"f_L = 20;// in Hz\n",
"f_H = 40;// in kHz\n",
"f_H = f_H*10^3;// in Hz\n",
"Beta = 0.1;\n",
"Af = Ao/(1 + (Beta*Ao));\n",
"disp(Af,'The overall gain at mid frequency is');\n",
"f_Hf = f_H*(1+(Ao*Beta));// in Hz\n",
"f_Hf = f_Hf * 10^-3;// in kHz\n",
"disp(f_Hf,'The upper cutoff frequency with negative feedback in kHz is');\n",
"f_Lf = f_L/(1+(Ao*Beta));// in Hz\n",
"disp(f_Lf,'The lower cutoff frequency with negative feedback in Hz is');\n",
"\n",
"// Note: The calculated value of lower cutoff frequency with negative feedback i.e f_Lf is wrong. So the answer in the book is wrong."
   ]
   }
,
{
		   "cell_type": "markdown",
		   "metadata": {},
		   "source": [
			"## Example 10.13: Value_of_A_B_Rif_Af_and_loop_gain.sce"
		   ]
		  },
  {
"cell_type": "code",
	   "execution_count": null,
	   "metadata": {
	    "collapsed": true
	   },
	   "outputs": [],
"source": [
"// Exa 10.13\n",
"clc;\n",
"clear;\n",
"close;\n",
"format('v',6)\n",
"// Given data\n",
"R1 = 20;// in k ohm\n",
"R1 = R1 * 10^3;// in ohm\n",
"R2 = 20;// in k ohm\n",
"R2 = R2 * 10^3;// in ohm\n",
"h_ie = 2;// in k ohm\n",
"h_ie = h_ie * 10^3;// in ohm\n",
"R_L = 1;// in k ohm\n",
"R_L = R_L * 10^3;// in ohm\n",
"R_E = 100;// in ohm\n",
"h_fe = 80;\n",
"A = (-h_fe*R_L)/h_ie;\n",
"disp(A,'The value of A is');\n",
"Beta = R_E/R_L;\n",
"disp(Beta,'The value of Beta is');\n",
"Rif = h_ie + (1+h_fe)*R_E;// in ohm\n",
"Rif = Rif * 10^-3;// in k ohm\n",
"disp(Rif,'The value of R_if in k ohm is');\n",
"Af = (-h_fe*R_L)/(Rif*10^3);\n",
"disp(Af,'The value of Af is');\n",
"AB = A*Beta;\n",
"AB= real(20*log10(AB));// in dß\n",
"disp(AB,'The value of loopgain in dß is');"
   ]
   }
,
{
		   "cell_type": "markdown",
		   "metadata": {},
		   "source": [
			"## Example 10.14: Feedback_gain_and_new_band_width.sce"
		   ]
		  },
  {
"cell_type": "code",
	   "execution_count": null,
	   "metadata": {
	    "collapsed": true
	   },
	   "outputs": [],
"source": [
"// Exa 10.14\n",
"clc;\n",
"clear;\n",
"close;\n",
"format('v',5)\n",
"// Given data\n",
"A = 200;\n",
"BW = 10;// in kHz\n",
"Beta = 10/100;\n",
"Af =A/(1+(A*Beta));\n",
"disp(Af,'The gain with negative feedback is');\n",
"BWf = BW*(1+(A*Beta));// in kHz\n",
"disp(BWf,'The bandwidth with negative feedback in kHz is');"
   ]
   }
,
{
		   "cell_type": "markdown",
		   "metadata": {},
		   "source": [
			"## Example 10.1: Change_in_overall_gain_of_the_feedback_amplifier.sce"
		   ]
		  },
  {
"cell_type": "code",
	   "execution_count": null,
	   "metadata": {
	    "collapsed": true
	   },
	   "outputs": [],
"source": [
"// Exa 10.1\n",
"clc;\n",
"clear;\n",
"close;\n",
"format('v',6)\n",
"// Given data\n",
"A = 60;// in dB\n",
"A= 10^(A/20)\n",
"Beta = 0.005;\n",
"dAbyA = -12/100;\n",
"// On putting the value of A, bita and dA/A\n",
"dAfbyAf = (1/(1+A*Beta))*(dAbyA);\n",
"disp(dAfbyAf,'The change in overall gain is');"
   ]
   }
,
{
		   "cell_type": "markdown",
		   "metadata": {},
		   "source": [
			"## Example 10.2: Input_impedance.sce"
		   ]
		  },
  {
"cell_type": "code",
	   "execution_count": null,
	   "metadata": {
	    "collapsed": true
	   },
	   "outputs": [],
"source": [
"// Exa 10.2\n",
"clc;\n",
"clear;\n",
"close;\n",
"format('v',6)\n",
"// Given data\n",
"A = 1000;\n",
"Zi = 1;// in k ohm\n",
"Zi = Zi * 10^3;// in ohm\n",
"Beta = 0.01;\n",
"Zdesh_i = (1+A*Beta)*Zi;// in ohm\n",
"Zdesh_i =Zdesh_i *10^-3;// in k ohm\n",
"disp(Zdesh_i,'The input impedance of the feedback amplifier in k ohm is');"
   ]
   }
,
{
		   "cell_type": "markdown",
		   "metadata": {},
		   "source": [
			"## Example 10.3: Feedback_factor_and_percentage_change_in_overall_gain.sce"
		   ]
		  },
  {
"cell_type": "code",
	   "execution_count": null,
	   "metadata": {
	    "collapsed": true
	   },
	   "outputs": [],
"source": [
"// Exa 10.3\n",
"clc;\n",
"clear;\n",
"close;\n",
"format('v',6)\n",
"// Given data\n",
"A = 60;// in dB\n",
"A= 10^(A/20);\n",
"Zo = 12000;// in ohm\n",
"Zdesh_o = 600;// in ohm\n",
"//Zdesh_o = Zo/(1+(A*Beta));\n",
"Beta = (((Zo/Zdesh_o)-1)/A)*100;// in %\n",
"disp(Beta,'The feedback factor in % is');\n",
"Beta = Beta/100;\n",
"DAbyA = 0.1;\n",
"dAfbyAf = (1/(1 + (A*Beta)))*DAbyA*100;// in %\n",
"disp(dAfbyAf,'The percentage change in the overall gain in % is');"
   ]
   }
,
{
		   "cell_type": "markdown",
		   "metadata": {},
		   "source": [
			"## Example 10.4: Gain_of_a_negative_feedback_amplifier.sce"
		   ]
		  },
  {
"cell_type": "code",
	   "execution_count": null,
	   "metadata": {
	    "collapsed": true
	   },
	   "outputs": [],
"source": [
"// Exa 10.4\n",
"clc;\n",
"clear;\n",
"close;\n",
"format('v',5)\n",
"// Given data\n",
"A = 100;\n",
"Beta = 1/10;\n",
"Af = A/(1 + (A*Beta));\n",
"disp(Af,'The gain of negative feedback amplifier is');"
   ]
   }
,
{
		   "cell_type": "markdown",
		   "metadata": {},
		   "source": [
			"## Example 10.5: Value_of_A_and_bita.sce"
		   ]
		  },
  {
"cell_type": "code",
	   "execution_count": null,
	   "metadata": {
	    "collapsed": true
	   },
	   "outputs": [],
"source": [
"// Exa 10.5\n",
"clc;\n",
"clear;\n",
"close;\n",
"format('v',6)\n",
"// Given data\n",
"Af = 100;\n",
"Vi = 0.6;// in V\n",
"Vdesh_o = Af*Vi;// in V\n",
"Vi = 50;// in mV\n",
"Vi = Vi * 10^-3;// in V\n",
"A = Vdesh_o/Vi;\n",
"disp(A,'The value of A is');\n",
"// Af = A/( 1 +(A*Beta) );\n",
"Beta = (((A/Af)-1)/A)*100;// in %\n",
"Beta= (A-Af)/(Af*A/100);\n",
"Beta= Beta*100;// in %\n",
"disp(Beta,'The value of Beta in % is');\n",
"\n",
""
   ]
   }
,
{
		   "cell_type": "markdown",
		   "metadata": {},
		   "source": [
			"## Example 10.6: Voltage_gai.sce"
		   ]
		  },
  {
"cell_type": "code",
	   "execution_count": null,
	   "metadata": {
	    "collapsed": true
	   },
	   "outputs": [],
"source": [
"// Exa 10.6\n",
"clc;\n",
"clear;\n",
"close;\n",
"format('v',6)\n",
"// Given data\n",
"A = 1000;\n",
"Af = A - (0.40*1000);\n",
"//Af = A/( 1+(A*Beta) );\n",
"Beta = ((A/Af)-1)/A;\n",
"A_desh = 800;\n",
"A_desh_f= A_desh/( 1+(A_desh*Beta) );\n",
"disp(A_desh_f,'The voltage gain with feedback is');\n",
"// percentage reduction without feedback \n",
"P = ((A-A_desh)/A)*100;//in %\n",
"// percentage reduction with feedback \n",
"P1 = ((Af-A_desh_f)/Af)*100;// in %\n",
"disp(P1,'The percentage reduction with feedback in % is');"
   ]
   }
,
{
		   "cell_type": "markdown",
		   "metadata": {},
		   "source": [
			"## Example 10.7: Small_change_in_gain.sce"
		   ]
		  },
  {
"cell_type": "code",
	   "execution_count": null,
	   "metadata": {
	    "collapsed": true
	   },
	   "outputs": [],
"source": [
"// Exa 10.7\n",
"clc;\n",
"clear;\n",
"close;\n",
"format('v',6)\n",
"// Given data\n",
"dAbyA = 10/100;\n",
"A = 200;\n",
"Beta = 0.25;\n",
"// Af = A/(1+(A*Beta))      (i)\n",
"// differentiating w.r.to A we get, dAf = dA/((1+(Beta*A))^2)   (ii)\n",
"// From eq(i) and (ii)\n",
"dAfbyAf =  1/(1+A*Beta)*dAbyA\n",
"disp(dAfbyAf,'The small change in gain is');"
   ]
   }
,
{
		   "cell_type": "markdown",
		   "metadata": {},
		   "source": [
			"## Example 10.8: New_input_voltage.sce"
		   ]
		  },
  {
"cell_type": "code",
	   "execution_count": null,
	   "metadata": {
	    "collapsed": true
	   },
	   "outputs": [],
"source": [
"// Exa 10.8\n",
"clc;\n",
"clear;\n",
"close;\n",
"format('v',6)\n",
"// Given data\n",
"A = 100;\n",
"Beta = 1/25;\n",
"Af = A/(1 + (A*Beta));\n",
"disp(Af,'The gain with feedback is');\n",
"disp((A*Beta),'The feed back factor is');\n",
"Vi = 50;// in mV\n",
"Vo =Af*Vi*10^-3;// in V\n",
"disp(Vo,'The output voltage in V is');\n",
"V_feedback= (Beta*Vo);// feedback voltage in V\n",
"disp(V_feedback,'The feed back voltage in V is');\n",
"Vi = Vi*(1+(A*Beta));// in mV\n",
"disp(Vi,'The new input voltage in mV is');"
   ]
   }
,
{
		   "cell_type": "markdown",
		   "metadata": {},
		   "source": [
			"## Example 10.9: Small_change_in_gain.sce"
		   ]
		  },
  {
"cell_type": "code",
	   "execution_count": null,
	   "metadata": {
	    "collapsed": true
	   },
	   "outputs": [],
"source": [
"// Exa 10.9\n",
"clc;\n",
"clear;\n",
"close;\n",
"format('v',6)\n",
"// Given data\n",
"Beta = 0.25;\n",
"A = 100;\n",
"dA= 10;// in %\n",
"// Af = A/(1+(A*Beta))          (i)\n",
"//dAf = dA/((1+(Beta*A))^2) (ii)\n",
"// From eq (i) and (ii)\n",
"dAbyA = dA/A;\n",
"disp(dAbyA,'The small change in gain is');"
   ]
   }
],
"metadata": {
		  "kernelspec": {
		   "display_name": "Scilab",
		   "language": "scilab",
		   "name": "scilab"
		  },
		  "language_info": {
		   "file_extension": ".sce",
		   "help_links": [
			{
			 "text": "MetaKernel Magics",
			 "url": "https://github.com/calysto/metakernel/blob/master/metakernel/magics/README.md"
			}
		   ],
		   "mimetype": "text/x-octave",
		   "name": "scilab",
		   "version": "0.7.1"
		  }
		 },
		 "nbformat": 4,
		 "nbformat_minor": 0
}
