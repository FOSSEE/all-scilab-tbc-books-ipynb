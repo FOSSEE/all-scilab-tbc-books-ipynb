{
"cells": [
 {
		   "cell_type": "markdown",
	   "metadata": {},
	   "source": [
       "# Chapter 2: Bipolar Junction Transistors"
	   ]
	},
{
		   "cell_type": "markdown",
		   "metadata": {},
		   "source": [
			"## Example 2.10: Maximum_value_of_bita.sce"
		   ]
		  },
  {
"cell_type": "code",
	   "execution_count": null,
	   "metadata": {
	    "collapsed": true
	   },
	   "outputs": [],
"source": [
"// Exa 2.10\n",
"clc;\n",
"clear;\n",
"close;\n",
"format('v',6)\n",
"// Given data\n",
"bita = 75;\n",
"V_CC = 9;// in V\n",
"V_CEsat = 0.2;// in V\n",
"V_BEsat = 0.8;// in V\n",
"R_C = 2;// in k ohm\n",
"R_C = R_C * 10^3;// in ohm\n",
"R_E = 1;// in k ohm\n",
"R_E = R_E * 10^3;// in ohm\n",
"R_B = 50;// in k ohm\n",
"R_B = R_B * 10^3;// in ohm\n",
"I_Csat= poly(0,'I_Cs')\n",
"// Part (i) : To check the region of operation\n",
"// Applying KVL to collector circuit, we get : V_CC = (R_C*I_Cs) + V_CEsat + (I_E*R_E)        (i)\n",
" I_E = I_Csat;// in A (approximate)\n",
" // From eq(i)\n",
"I_Csat= (R_C*I_Csat) + V_CEsat + (I_E*R_E)-V_CC;// in A\n",
"I_Csat= roots(I_Csat);// in A\n",
"I_Bmin= I_Csat/bita;// in A\n",
"I_Bmin= I_Bmin*10^6;// in µA\n",
"disp('Part (i)')\n",
"disp(I_Bmin,'The minimum value of  I_B in µA is : ')\n",
"I_B= poly(0,'I_B')\n",
"I_E= (1+bita)*I_B;// in A\n",
"// Applying KVL to input circuit, we get\n",
"// V_CC = I_B*R_B+V_BEsat+I_E*R_E or\n",
"I_B= I_B*R_B+V_BEsat+I_E*R_E-V_CC;// in A\n",
"I_B= roots(I_B);// in A\n",
"I_B= round(I_B*10^6);// in µA\n",
"disp(I_B,'The value of I_B in µA is : ')\n",
"if I_B>I_Bmin then\n",
"    disp('As the value of I_B is greater than the value of I_B min')\n",
"    disp('Hence the trasistor is definitely in the saturation region')\n",
"end\n",
"I_E= (1+bita)*I_Bmin;// in µA\n",
"V_C= V_CEsat+I_E*10^-6*R_E;// in V\n",
"disp(V_C,'Part (ii) : The value of V_C in volts is : ');\n",
"bita_min= I_Csat/(I_B*10^-6);\n",
"disp(bita_min,'Part (iii) : The minimum value of bita that will change the state of transistor is : ')"
   ]
   }
,
{
		   "cell_type": "markdown",
		   "metadata": {},
		   "source": [
			"## Example 2.11: Minimum_value_of_RC_required.sce"
		   ]
		  },
  {
"cell_type": "code",
	   "execution_count": null,
	   "metadata": {
	    "collapsed": true
	   },
	   "outputs": [],
"source": [
"// Exa 2.11\n",
"clc;\n",
"clear;\n",
"close;\n",
"format('v',6)\n",
"// Given data\n",
"V_CEsat = 0.2;// in V\n",
"V_CC = 10;// in V\n",
"V_BEsat = 0.8;// in V\n",
"// Part (i) To obtain minimum value of R_C\n",
"R_B = 220;// in k ohm\n",
"R_B = R_B * 10^3;// in ohm\n",
"Beta = 100;\n",
"// Applying KVL to collector circuit, we get\n",
"// V_CC = V_CEsat + I_Esat*R_C  or              (i)\n",
"I_CsatR_C= V_CC-V_CEsat;// in V\n",
"// Applying KVL to input loop\n",
"// V_CC= V_BEsat+I_B*R_B  or                    (ii)\n",
"I_B= (V_CC-V_BEsat)/R_B;// in A\n",
"// Just at saturation I_B= I_C/Beta or\n",
"I_C= Beta*I_B;// in A\n",
"R_Cmin= I_CsatR_C/I_C;// in ohm\n",
"R_Cmin= R_Cmin*10^-3;// in k ohm\n",
"disp(R_Cmin,'The minimum value of R_C to produce saturation of Si transistor in kΩ is : ')\n",
"\n",
"// Part (ii) To obtain maximum value of R_B\n",
"R_C = 1.2;// in k ohm\n",
"R_C = R_C * 10^3;// in ohm\n",
"I_Csat= I_CsatR_C/R_C;// in A\n",
"// Just at saturation \n",
"I_B= I_Csat/Beta;// in A\n",
"// Now on substituting the new value of I_B in eq (ii)\n",
"R_Bmax= (V_CC-V_BEsat)/I_B;// in ohm\n",
"R_Bmax= R_Bmax*10^-3;// in k ohm\n",
"disp(R_Bmax,'The largest value of R_B that will saturate the transistor in kΩ is : ')"
   ]
   }
,
{
		   "cell_type": "markdown",
		   "metadata": {},
		   "source": [
			"## Example 2.12: Value_R1_and_R3.sce"
		   ]
		  },
  {
"cell_type": "code",
	   "execution_count": null,
	   "metadata": {
	    "collapsed": true
	   },
	   "outputs": [],
"source": [
"// Exa 2.12\n",
"clc;\n",
"clear;\n",
"close;\n",
"format('v',6)\n",
"// Given data\n",
"V_CE = 2.5;// in V\n",
"Beta = 100;\n",
"R2 = 10 * 10^3;// in ohm\n",
"R4 = 300;// in ohm\n",
"V_CC = 5;// in V\n",
"I_C = 1 * 10^-3;// in A\n",
"V_BE= 0.6;// in V\n",
"// Applying KVL to collector circuit, we get\n",
"// V_CC = I_C*R3 + V_CE + I_E*R4                (i)\n",
" I_B = I_C/Beta;// in A\n",
" I_E = (I_C + I_B);// in A\n",
" // On substituting the value of I_B and I_E in eq (i), we get\n",
" R3= (V_CC-V_CE-I_E*R4)/I_C;// in ohm\n",
"V_B= I_E*R4+V_BE;// in V\n",
"// But also V_B= R2/(R1+R3)*V_CC, so\n",
"R1= R2*V_CC/V_B-R2;// in ohm\n",
"R1= R1*10^-3;// in k ohm\n",
"R3= R3*10^-3;// in k ohm\n",
"disp(R1,'The value of R1 in kΩ is : ')\n",
"disp(R3,'The value of R3 in kΩ is : ')"
   ]
   }
,
{
		   "cell_type": "markdown",
		   "metadata": {},
		   "source": [
			"## Example 2.13: Value_of_RE_for_which_transistor_just_comes_out_of_saturation.sce"
		   ]
		  },
  {
"cell_type": "code",
	   "execution_count": null,
	   "metadata": {
	    "collapsed": true
	   },
	   "outputs": [],
"source": [
"// Exa 2.13\n",
"clc;\n",
"clear;\n",
"close;\n",
"format('v',6)\n",
"// Given data\n",
"V_CEsat = 0.2;// in V\n",
"R_B = 100 * 10^3;// in ohm\n",
"R_C = 2 * 10^3;// in ohm\n",
"bita = 100;\n",
"R_E = 1 * 10^3;// in ohm\n",
"V_CC = 10;//in V\n",
"V_BEsat = 0.8;// in V\n",
"V_BEactive = 0.7;// in V\n",
"V_BE= 0.7;// in V\n",
"V_BEcutin = 0.5;// in V\n",
"// Applying KVL to output circuit, we get\n",
"// V_CC = R_C*I_C + V_CEsat + R_E*I_E       (i)\n",
"I_Bmin= poly(0,'I_Bm');\n",
"I_C= bita*I_Bmin;// in A\n",
"I_E= (1+bita)*I_Bmin;// in A\n",
"// From eq(i)\n",
"I_Bmin= R_C*I_C + V_CEsat + R_E*I_E-V_CC;// in A\n",
"I_Bmin= roots(I_Bmin);// in A\n",
"I_Bmin= I_Bmin*10^6;// in µA\n",
"// Applying KVL to input circuit, we get\n",
"// V_CC = R_B*I_B + V_BEsat + R_E*I_E       (ii)\n",
"I_B= poly(0,'I_B');// in A\n",
"I_E= (1+bita)*I_B;// in A\n",
"// From eq(ii)\n",
"I_B= R_B*I_B + V_BEsat + R_E*I_E-V_CC;// in A\n",
"I_B= roots(I_B);// in A\n",
"I_B= I_B*10^6;// in µA\n",
"if I_B>I_Bmin then\n",
"    disp('As the value of I_B ('+string(I_B)+' µA) is greater than the value of I_Bmin ('+string(I_Bmin)+' µA)')\n",
"    disp('Hence the transistor is in saturation region')\n",
"end\n",
"\n",
"// Part (b) : To obtain the value of R_E\n",
"V_CE= 0.4;// in V (assumed)\n",
"// Rewrite eq(ii) as, V_CC = (R_C*I_C) + V_CE + (R_E*I_E) or \n",
"// I_B= (V_CC-V_CE)/(bita*R_C+(1+bita)*R_E)         (iii)      (as I_C= bita*I_B and I_E= (1+bita)*I_B )\n",
"// Applying KVL to input circuit, V_CC= I_B*R_B+V_BE+(1+bita)*I_B*R_E       (iv)\n",
"// On substituting the I_B from eq (iii) in eq (iv)\n",
"R_E= [(V_CC-V_BE)*bita*R_C-(V_CC-V_CE)*R_B]/[(1+bita)*(V_BE-V_CE)];// in ohm\n",
"R_E= R_E*10^-3;// in k ohm\n",
"disp(R_E,'The value of R_E in kΩ is : ')\n",
""
   ]
   }
,
{
		   "cell_type": "markdown",
		   "metadata": {},
		   "source": [
			"## Example 2.14: Vo1_and_Vo2_and_new_value_of_RC.sce"
		   ]
		  },
  {
"cell_type": "code",
	   "execution_count": null,
	   "metadata": {
	    "collapsed": true
	   },
	   "outputs": [],
"source": [
"// Exa 2.14         (Printed As Exa 2.13)\n",
"clc;\n",
"clear;\n",
"close;\n",
"format('v',6)\n",
"// Given data\n",
"Beta_dc = 100;\n",
"R_C = 0.5*10^3;// in ohm\n",
"V_BB = 0;// in V\n",
"V_BE= 0.7;// in V\n",
"R_B = 44 * 10^3;// in k ohm\n",
"R_E = 1 * 10^3;// in ohm\n",
"V_EE = -15;// in V\n",
"V_CC = 15;// in V\n",
"// Applying KVL to base circuit\n",
"// V_CC= R_B*I_B+V_BE+(1+Beta_dc)*R_E*I_B or\n",
"I_B= (V_CC-V_BE)/(R_B+(1+Beta_dc)*R_E);// in A\n",
"I_C= I_B*Beta_dc;// in A\n",
"I_E= (1+Beta_dc)*I_B;// in A\n",
"// Applying KVL to collector circuit\n",
"// V_CC = R_C*I_C + V_CE + R_E*I_E + V_EE or\n",
"V_CE= V_CC-V_EE-I_C*R_C-I_E*R_E;// in V\n",
"Vo2= I_E*R_E-V_CC;// in V\n",
"// But V_CE= V01-Vo2, so\n",
"Vo1= V_CE+Vo2;// in V\n",
"disp(Vo1,'The value of Vo1 in volts is : ')\n",
"disp(Vo2,'The value of Vo2 in volts is : ')\n",
"// Part (ii) New Value of R_C to make Vo1= 0 V\n",
"Vo1= 0;\n",
"// V_CC= I_C*R_C+Vo1-Vo2+I_E*R_E-V_EE or\n",
"R_C= (V_CC-V_EE-Vo1+Vo2-I_E*R_E)/(I_C);// in ohm\n",
"R_C= R_C*10^-3;// in k ohm\n",
"disp(R_C,'The value of R_C in kΩ is : ')\n",
"// Part (iii) New value of R_E to get Vo2= 0;\n",
"Vo2= 0;// in V\n",
"// Formula Vo2= I_E*R_E-V_CC, so\n",
"R_E= (Vo2+V_CC)/I_E;// in ohm\n",
"R_E= R_E*10^-3;// in kohm\n",
"format('v',4)\n",
"disp(R_E,'The value of R_E in kΩ is :')\n",
"\n",
"// Note : The calculated value of R_C in the book is not correct\n",
"\n",
"\n",
"\n",
"\n",
""
   ]
   }
,
{
		   "cell_type": "markdown",
		   "metadata": {},
		   "source": [
			"## Example 2.15: IC_and_IB.sce"
		   ]
		  },
  {
"cell_type": "code",
	   "execution_count": null,
	   "metadata": {
	    "collapsed": true
	   },
	   "outputs": [],
"source": [
"// Exa 2.15\n",
"clc;\n",
"clear;\n",
"close;\n",
"format('v',6)\n",
"// Given data\n",
"bita = 50;\n",
"V_CC = 25;// in V\n",
"V_BB = 10;// in V\n",
"R_C = 15 * 10^3;// in ohm\n",
"R_B = 40 * 10^3;// in ohm\n",
"R_E = 5 * 10^3;// in ohm\n",
"V_BE = 0.7;// in V\n",
"I_B= poly(0,'I_B');\n",
"I_E= (1+bita)*I_B;// in A\n",
"// Applying KVL to Base-Emitter loop,\n",
"// V_BB = I_B*R_B + V_BE + I_E*R_E\n",
"I_B=  I_B*R_B + V_BE + I_E*R_E-V_BB;\n",
"I_B= roots(I_B);// in A\n",
"I_E= (1+bita)*I_B;// in A\n",
"I_B= I_B*10^6;// in µA\n",
"disp('Part (a) : On assuming that the transistor is in the active region')\n",
"disp(I_B,'The value of I_B in µA is : ')\n",
"I_C= bita*I_B;// in µA\n",
"I_C= I_C*10^-3;// in mA\n",
"disp(I_C,'The value of I_C in mA is');\n",
"I_E = (1+bita)*I_B;// in µA\n",
"I_E = I_E * 10^-6;// in A\n",
"I_C= I_C*10^-3;// in A\n",
"I_B= I_B*10^-6;// in A\n",
"\n",
"// Part (b): To verify that the transistor is not in the active region\n",
"// Applying KVL to collector circuit, we get V_CC= I_C*R_C+V_CE+I_E*R_E or\n",
"V_CE= V_CC-I_C*R_C-I_E*R_E;// in V\n",
"if V_CE<0 then\n",
"    disp('Part (b)')\n",
"    disp('Since the value of V_CE ('+string(V_CE)+' V) is negative,')\n",
"    disp('hence the transistor is not in active region')\n",
"end\n",
"\n",
"// Part (c)\n",
"V_BEsat= 0.8;// in V\n",
"V_CEsat= 0.2;// in V\n",
"// Applying KVL to base circuit, V_BB= I_B*R_B+V_BEsat+I_C*R_E+I_B*R_E, or\n",
"// I_B*(R_B+R_E)+I_C*R_E= V_BB-V_BEsat              (i)\n",
"// Applying KVL to collector circuit, V_CC= I_C*R_C+V_CEsat+(I_C+I_B)*R_E, or\n",
"// I_B*R_E+I_C*(R_C+R_E)= V_CC-V_CEsat             (ii)   \n",
"// Solving eq(i) and (ii) by matrix method\n",
"A= [(R_B+R_E) R_E;R_E (R_C+R_E)];\n",
"B= [V_BB-V_BEsat V_CC-V_CEsat];\n",
"R= B*A^-1;\n",
"I_B= R(1);// in A\n",
"I_B= I_B*10^6;// in µA\n",
"I_C= R(2);// in A\n",
"I_C= I_C*10^3;// in mA\n",
"disp('Part (c) : On assuming that the transistor is in saturation region')\n",
"disp(I_B,'The value of I_B in µA is : ')\n",
"disp(I_C,'The value of I_C  in mA is : ')\n",
"I_Bmin= I_C/bita;// in mA\n",
"I_Bmin= I_Bmin*10^3;// in µA\n",
"if I_B>I_Bmin then\n",
"    disp('Part (d) :')\n",
"    disp('Since the value of I_B ('+string(I_B)+' µA) is greater than the value of I_Bmin ('+string(I_Bmin)+' µA)')\n",
"    disp('Hence the transistor is indeed in saturation region')\n",
"end\n",
"\n",
"// Pard (e) : R_E to bring the transistor out of saturation\n",
"Vcut= 0.5;//cut in voltage in V\n",
"I_B= poly(0,'I_B');// in A\n",
"I_C= bita*I_B;// in A\n",
"I_E= (1+bita)*I_B;// in A\n",
"// Applying KVL to input loop, V_BB= I_B*R_B+V_BE+(I_C+I_B)*R_E or\n",
"// I_B= (V_BB-V_BE)/(R_B+(1+bita)*R_E)                               (iii)\n",
"// I_C= bita*I_B =  (V_BB-V_BE)/(R_B+(1+bita)*R_E)*bita    (iv)\n",
"// V_B= V_BE+(1+bita)*I_B*R_E= V_BE+ (1+bita)*(V_BB-V_BE)/(R_B+(1+bita)*R_E)*R_E       (v)                 (on substituting eq(iii))\n",
"// V_C= V_CC-I_C*R_C= V_CC-(V_BB-V_BE)/(R_B+(1+bita)*R_E)*bita*R_C                                 (vi)                (on substituting eq(iv))\n",
"// but V_B-V_C<= Vcut and substituting the value from eq (v) and (vi), we get\n",
"R_E= [bita*R_C*(V_BB-V_BE)-R_B*(Vcut+V_CC-V_BE)]/[(1+bita)*(-V_BB+Vcut+V_CC)];// in ohm\n",
"R_E= R_E*10^-3;// in k ohm\n",
"disp('Part (e) : The value of R_E >= '+string(R_E)+' kΩ')\n",
""
   ]
   }
,
{
		   "cell_type": "markdown",
		   "metadata": {},
		   "source": [
			"## Example 2.16: Region_of_transistor_and_output_voltage.sce"
		   ]
		  },
  {
"cell_type": "code",
	   "execution_count": null,
	   "metadata": {
	    "collapsed": true
	   },
	   "outputs": [],
"source": [
"// Exa 2.16\n",
"clc;\n",
"clear;\n",
"close;\n",
"format('v',7)\n",
"// Given data\n",
"bita = 100;\n",
"V_CEsat = 0.2;// in V\n",
"V_BEsat = 0.8;// in V\n",
"R_C = 3;// in k ohm\n",
"R_C = R_C * 10^3;// in k ohm\n",
"V_CC = 10;// in V\n",
"R_B = 7;// in k ohm\n",
"R_B = R_B * 10^3;// in ohm\n",
"R_E = 500;// in ohm\n",
"V_BB = 3;// in V\n",
"V_BE= 0.7;// in V\n",
"// Part (a) : \n",
"// Applying KVL to input loop, V_BB = I_B*R_B+(I_B+I_C)*R_E+V_BEsat or I_B*(R_B+R_E)+I_C*R_E= V_BB-V_BEsat               (i)\n",
"// Applying KVL to output loop, V_CC=I_C*R_C+V_CEsat+(I_B+I_C)*R_E or I_B*R_E+I_C*(R_C+R_E)= V_CC-V_CEsat               (ii)\n",
"// Solving eq(i) and (ii)by matrix method\n",
"A= [(R_B+R_E) R_E;R_E (R_C+R_E)] ;\n",
"B= [V_BB-V_BEsat V_CC-V_CEsat];\n",
"R= B*A^-1;\n",
"I_B= R(1);// in A\n",
"I_C= R(2);// in A\n",
"I_Bmin= I_C/bita;// in A\n",
"I_B= I_B*10^3;// in mA\n",
"I_Bmin=I_Bmin*10^3;// in mA\n",
"if I_B>I_Bmin then\n",
"    disp('As the value of I_B ('+string(I_B)+' mA) is greater than the value of I_Bmin ('+string(I_Bmin)+' mA)')\n",
"    disp('Hence the transistor is in saturation region')\n",
"end\n",
"\n",
"// Pard (e) : R_E to bring the transistor out of saturation\n",
"Vcut =0.5;//cut in voltage in V\n",
"I_B= poly(0,'I_B');// in A\n",
"I_C= bita*I_B;// in A\n",
"I_E= (1+bita)*I_B;// in A\n",
"// Applying KVL to input loop, V_BB= I_B*R_B+V_BE+(I_C+I_B)*R_E or\n",
"// I_B= (V_BB-V_BE)/(R_B+(1+bita)*R_E)                               (iii)\n",
"// I_C= bita*I_B =  (V_BB-V_BE)/(R_B+(1+bita)*R_E)*bita    (iv)\n",
"// V_C= -V_CC+I_C*R_C= -V_CC+(V_BB-V_BE)/(R_B+(1+bita)*R_E)*bita*R_C                                 (v)                (on substituting eq(iv))\n",
"// V_B= V_BE-(1+bita)*I_B*R_E= V_BE- (1+bita)*(V_BB-V_BE)/(R_B+(1+bita)*R_E)*R_E       (vi)                 (on substituting eq(iii))\n",
"// but V_C-V_B<= Vcut and substituting the value from eq (v) and (vi), we get\n",
"R_E= [(V_BB-V_BE)*bita*R_C-(Vcut+V_CC+V_BE)*R_B]/[(1+bita)*(Vcut+V_CC-V_BB+2*V_BE)];// in ohm\n",
"disp(R_E,'The value of R_E in ohm is : ')"
   ]
   }
,
{
		   "cell_type": "markdown",
		   "metadata": {},
		   "source": [
			"## Example 2.17: Collector_voltage_and_minimum_value_of_hFE.sce"
		   ]
		  },
  {
"cell_type": "code",
	   "execution_count": null,
	   "metadata": {
	    "collapsed": true
	   },
	   "outputs": [],
"source": [
"// Exa 2.17\n",
"clc;\n",
"clear;\n",
"close;\n",
"format('v',6)\n",
"// Given data\n",
"V_CC = 9;// in V\n",
"R_C = 2;// in k ohm\n",
"R_C =R_C * 10^3;// in ohm\n",
"R_B = 50;// in k ohm\n",
"R_B = R_B * 10^3;//in ohm\n",
"Beta = 70;\n",
"R_E = 1;// in k ohm\n",
"R_E = R_E * 10^3;// in ohm\n",
"V_BEsat = 0.8;// in V\n",
"V_CEsat = 0.2;// in V\n",
"// Applying KVL to input loop, V_CC= I_B*R_B+V_BEsat+I_E*R_E or \n",
"I_B= (V_CC-V_BEsat)/(R_B+(1+Beta)*R_E);// in A\n",
"// Applying KVL to output loop, V_CC= I_C*R_C+V_CEsat+I_E*R_E or\n",
"I_C= (V_CC-V_CEsat-I_B*R_E)/(R_C+R_E);// in A\n",
"I_Bmin= I_C/Beta;// in A\n",
"I_B= I_B*10^6;// in µA\n",
"I_Bmin= I_Bmin*10^6;// in µA\n",
"if I_B>I_Bmin then\n",
"    disp('Part (i) :')\n",
"    disp('As the value of I_B ('+string(I_B)+' mA) is greater than the value of I_Bmin ('+string(I_Bmin)+' mA)')\n",
"    disp('Hence the transistor is in saturation region')\n",
"end\n",
"disp('Part (ii) : ')\n",
"V_C= V_CC-I_C*R_C;// in V\n",
"disp(V_C,'The collector voltage in volts is : ')\n",
"h_FE= I_C/(I_B*10^-6);\n",
"disp(h_FE,'The minimum value of h_FE that will change the state of the transistor is : ')"
   ]
   }
,
{
		   "cell_type": "markdown",
		   "metadata": {},
		   "source": [
			"## Example 2.18: Output_voltage_and_minimum_value_of_R1.sce"
		   ]
		  },
  {
"cell_type": "code",
	   "execution_count": null,
	   "metadata": {
	    "collapsed": true
	   },
	   "outputs": [],
"source": [
"// Exa 2.18\n",
"clc;\n",
"clear;\n",
"close;\n",
"format('v',6)\n",
"// Given data\n",
"V_CC= 12;// in V\n",
"bita_min= 30;\n",
"R1= 15;// in k ohm\n",
"R2= 100;// in k ohm\n",
"R_C= 2.2;// in kohm\n",
"V_BB= -12;// in V\n",
"V_BE= 0.7;// in V\n",
"// Part (i)\n",
"Vi= 12;// in V\n",
"V_BEsat= 0.8;// in V\n",
"V_CEsat= 0.2;// in V\n",
"// Applying KVL to B-E circuit, Vi= I1*R1+V_BEsat or\n",
"I1= (Vi-V_BEsat)/R1;// in mA\n",
"// Applying KVL to -12 V supply,\n",
"I2= (V_BEsat-V_BB)/R2;// in mA\n",
"// Applying KVL to input loop,\n",
"I_B= I1-I2;// in mA\n",
"// Applying KVL to output loop, V_CC= I_C*R_C+V_CEsat or\n",
"I_C= (V_CC-V_CEsat)/R_C;// in mA\n",
"I_Bmin= I_C/bita_min;// in mA\n",
"if I_B>I_Bmin then\n",
"    disp('Part (a) :')\n",
"    disp('As the value of I_B ('+string(I_B)+' mA) is greater than the value of I_Bmin ('+string(I_Bmin)+' mA)')\n",
"    disp('Hence the transistor is in saturation region')\n",
"end\n",
"Vo= V_CC-I_C*R_C;// in V\n",
"disp(Vo,'The output voltage in volts is : ')\n",
"\n",
"// Part (b)\n",
"I2= (V_CC+V_BE)/R2;// in mA\n",
"// and I1= (V_CC-V_BE)/R1;// in mA          (i)\n",
"I_B= I_Bmin;// in mA\n",
"I1= I2+I_Bmin;// in mA\n",
"// Now from eq(i)\n",
"R1= (V_CC-V_BE)/I1;// in k ohm\n",
"disp('Part (b)')\n",
"disp(R1,'The value of R1 in k ohm is : ')\n",
"\n",
"// Part (c)\n",
"I_C= 0;// in mA\n",
"Vo= V_CC-I_C*R_C;// in V\n",
"disp('Part (c) : Transistor is in cutoff')\n",
"disp(Vo,'The value of Vo in volts is : ')\n",
"\n",
"// Note: There is some difference between coding output and answer of the book. This is why because in the book the calculate value of I_C is 5.36 mA/ 30 = 0.178 mA while accurate value is 0.179 mA\n",
" \n",
"\n",
"\n",
"\n",
"\n",
""
   ]
   }
,
{
		   "cell_type": "markdown",
		   "metadata": {},
		   "source": [
			"## Example 2.1: Value_of_alphaDC_and_emitter_current.sce"
		   ]
		  },
  {
"cell_type": "code",
	   "execution_count": null,
	   "metadata": {
	    "collapsed": true
	   },
	   "outputs": [],
"source": [
"// Exa 2.1\n",
"clc;\n",
"clear;\n",
"close;\n",
"format('v',6)\n",
"// Given data\n",
"I_C = 15;// in mA\n",
"I_CbyI_E= 0.995;\n",
"I_E= I_C/I_CbyI_E;// in mA\n",
"I_B= 0.005*I_E;// in mA\n",
"I_CBO = 3;// in µA\n",
"I_CBO = I_CBO * 10^-3;// in mA\n",
"alpha_dc= I_C/I_E;\n",
"disp(alpha_dc,'The value of Alpha_dc is');\n",
"// I_C = Alpha_dc*I_E + I_CBO;\n",
"I_E = (I_C-I_CBO)/alpha_dc;// in mA\n",
"disp(I_E,'The value of I_E in mA is');"
   ]
   }
,
{
		   "cell_type": "markdown",
		   "metadata": {},
		   "source": [
			"## Example 2.2: Value_of_IC_and_IE.sce"
		   ]
		  },
  {
"cell_type": "code",
	   "execution_count": null,
	   "metadata": {
	    "collapsed": true
	   },
	   "outputs": [],
"source": [
"// Exa 2.2\n",
"clc;\n",
"clear;\n",
"close;\n",
"format('v',6)\n",
"// Given data\n",
"Alpha_dc = 0.99;\n",
"I_CBO = 10;// in µA\n",
"I_CBO = I_CBO * 10^-3;// in mA\n",
"I_E = 10;// in mA\n",
"// To calculate I_C : \n",
"I_C = (Alpha_dc*I_E) + I_CBO;// in mA\n",
"disp(I_C,'The value of I_C in mA is');\n",
"// To calculate I_B : \n",
"I_B = I_E-I_C;// in mA\n",
"I_B = I_B * 10^3;// in µA\n",
"disp(I_B,'The value of I_B in µA is');"
   ]
   }
,
{
		   "cell_type": "markdown",
		   "metadata": {},
		   "source": [
			"## Example 2.3: Base_current.sce"
		   ]
		  },
  {
"cell_type": "code",
	   "execution_count": null,
	   "metadata": {
	    "collapsed": true
	   },
	   "outputs": [],
"source": [
"// Exa 2.3\n",
"clc;\n",
"clear;\n",
"close;\n",
"format('v',4)\n",
"// Given data\n",
"Alpha_dc = 0.99;\n",
"I_C = 6;// in mA\n",
"I_CBO = 15;// in µA\n",
"I_CBO = I_CBO * 10^-3;// in mA\n",
"// I_C = Alpha_dc*I_E + I_CBO;\n",
"I_E = (I_C - I_CBO)/Alpha_dc;// in mA\n",
"I_B = I_E - I_C;// in mA\n",
"I_B = I_B * 10^3;// in µA\n",
"disp(I_B,'The value of I_B in µA is');"
   ]
   }
,
{
		   "cell_type": "markdown",
		   "metadata": {},
		   "source": [
			"## Example 2.5: Emitter_current.sce"
		   ]
		  },
  {
"cell_type": "code",
	   "execution_count": null,
	   "metadata": {
	    "collapsed": true
	   },
	   "outputs": [],
"source": [
"// Exa 2.5\n",
"clc;\n",
"clear;\n",
"close;\n",
"format('v',6)\n",
"// Given data\n",
"Alpha_dc = 0.98;\n",
"I_CBO = 12;// in µA\n",
"I_CBO = I_CBO * 10^-6;// in A\n",
"I_B = 120;// in µA\n",
"I_B = I_B * 10^-6;// in A\n",
"// Calculation of Beta_dc\n",
"Beta_dc = Alpha_dc/(1-Alpha_dc);\n",
"I_E = (1+Beta_dc)*I_B + (1+Beta_dc)*I_CBO;// in A\n",
"I_E = I_E * 10^3;// in mA\n",
"disp(I_E,'The value of I_E in mA is');"
   ]
   }
,
{
		   "cell_type": "markdown",
		   "metadata": {},
		   "source": [
			"## Example 2.6: Region_of_operation.sce"
		   ]
		  },
  {
"cell_type": "code",
	   "execution_count": null,
	   "metadata": {
	    "collapsed": true
	   },
	   "outputs": [],
"source": [
"// Exa 2.6\n",
"clc;\n",
"clear;\n",
"close;\n",
"format('v',6)\n",
"// Given data\n",
"V_BEsat = 0.8;// in V\n",
"V_BEact = 0.7;// in V\n",
"V_CEsat = 0.2;// in V\n",
"V_CC = 10;// in V\n",
"Beta = 100;\n",
"V = 5;// in V \n",
"R_B = 50* 10^3;// in ohm\n",
"R_E = 2* 10^3;// in ohm\n",
"R_C = 3* 10^3;// in ohm\n",
"//Applying KVL to input loop,  V = R_B*I_B + V_BEact + I_C*R_E and I_C = Beta*I_B;\n",
"I_B = (V-V_BEact)/(R_B+R_E*Beta);// in A\n",
"// Applying KVL to collector circuit, V_CC= I_C*R_C+V_CEsat+I_E*R_E and I_E=I_C+I_B\n",
"I_C = (V_CC-V_CEsat-I_B*R_E)/(R_C+R_E);// in A\n",
"I_Bmin = I_C/Beta;// in A\n",
"if I_B < I_Bmin then\n",
"    disp('Since the value of I_B ( '+string(I_B*10^6)+ ' µA) is less than the value of I_Bmin ( '+string(I_Bmin*10^6)+' µA), ')\n",
"    disp('So the transistor is in the active region.')\n",
"end\n",
""
   ]
   }
,
{
		   "cell_type": "markdown",
		   "metadata": {},
		   "source": [
			"## Example 2.7: Value_of_IB_IC_and_Vce.sce"
		   ]
		  },
  {
"cell_type": "code",
	   "execution_count": null,
	   "metadata": {
	    "collapsed": true
	   },
	   "outputs": [],
"source": [
"// Exa 2.7\n",
"clc;\n",
"clear;\n",
"close;\n",
"format('v',6)\n",
"// Given data\n",
"Beta = 100;\n",
"V_BEsat = 0.8;// in V\n",
"V_BEact = 0.7;// in V\n",
"V_CC = 10;// in V\n",
"V = 5;// in V\n",
"R_B = 50* 10^3;// in ohm\n",
"R_E = 2* 10^3;// in ohm\n",
"R_C = 3* 10^3;// in ohm\n",
"// As the transistor is in active region, so V = R1*I_B + V_BEact + (1+Beta)*I_B*R2;\n",
"I_B = (V-V_BEact)/(R_B+(1+Beta)*R_E);// in A\n",
"I_B = round(I_B * 10^6);// in µA\n",
"disp(I_B,'The value of I_B in µA is');\n",
"I_C = Beta*I_B*10^-6;// in A\n",
"I_C = I_C * 10^3;// in mA\n",
"disp(I_C,'The value of I_C in mA is');\n",
"// Applying KVL to collector circuit, V_CC = (I_C*R3) + V_CEact + (I_C+I_B)*R2;\n",
"V_CEact = V_CC - (I_B*10^-6*R_E) - (I_C*10^-3*(R_E+R_C));// in V\n",
"disp(V_CEact,'The value of V_CE in V is');\n",
""
   ]
   }
,
{
		   "cell_type": "markdown",
		   "metadata": {},
		   "source": [
			"## Example 2.8: Value_of_VBB.sce"
		   ]
		  },
  {
"cell_type": "code",
	   "execution_count": null,
	   "metadata": {
	    "collapsed": true
	   },
	   "outputs": [],
"source": [
"// Exa 2.8\n",
"clc;\n",
"clear;\n",
"close;\n",
"format('v',6)\n",
"// Given data\n",
"V_CEsat = 0.2;// in V\n",
"V_BEsat = 0.8;// in V\n",
"Beta = 100;\n",
"R_C = 0.5* 10^3;// in ohm\n",
"R_E = 1* 10^3;// in ohm\n",
"R_B = 44* 10^3;// in ohm\n",
"V1 = 15;// in V\n",
"V2 = 15;// in V\n",
"//Applying KVL to collector circuit,  V1+V2 - I_Csat*R_C - V_CEsat - I_E*R_E = 0;\n",
"//but I_Csat = beta*I_Bmin and I_E = (1+Beta)*I_Bmin, So\n",
"I_Bmin= (V1+V2-V_CEsat)/(Beta*R_C+R_E*(1+Beta));// in A\n",
"I_Bmin= I_Bmin*10^3;// in mA\n",
"disp(I_Bmin,'The value of I_Bmin in mA is : ')\n",
"I_Bmin= I_Bmin*10^-3;// in A\n",
"I_E = (1+Beta)*I_Bmin;// in A\n",
"// Applying KVL to base emitter circuits,  V_BB-I_Bmin*R_B-V_BEsat-(I_E*R_E)-V1=0\n",
"V_BB = (I_Bmin*R_B) + V_BEsat + (I_E*R_E) - V1;// in V\n",
"disp(V_BB,'The value of V_BB which just barely saturate the transistor in V is');"
   ]
   }
,
{
		   "cell_type": "markdown",
		   "metadata": {},
		   "source": [
			"## Example 2.9: RC_and_RE.sce"
		   ]
		  },
  {
"cell_type": "code",
	   "execution_count": null,
	   "metadata": {
	    "collapsed": true
	   },
	   "outputs": [],
"source": [
"// Exa 2.9\n",
"clc;\n",
"clear;\n",
"close;\n",
"format('v',6)\n",
"// Given data\n",
"bita = 200;\n",
"V_CEQ = 3;// in V\n",
"V_CC = 6;// in V\n",
"V_BB= -6;// in V\n",
"V_BE= 0.7;// in V\n",
"Vo = 0;// in V\n",
"R1= 90*10^3;// in ohm\n",
"R2= 90*10^3;// in ohm\n",
"// V_CC - I_CR_C - V_CEQ - I_ER_E-V_BB = 0        (i)\n",
"// Vo = V_CEQ + I_E*R_E - V_CC or \n",
"I_ER_E= Vo+V_CC-V_CEQ;// in V\n",
"// From eq(i)\n",
"I_CR_C= V_CC - I_ER_E - V_CEQ - V_BB;// in V\n",
"// Applying KVL to the input side of circuit\n",
"//V_CEQ-[(R1 || R2)*I_B]-V_BE-I_ER_E+V_CC=0 or\n",
"I_B= (V_CEQ-V_BE-I_ER_E+V_CC)/((R1*R2)/(R1+R2));// in A\n",
"I_E= (1+bita)*I_B;//in A\n",
"R_E= I_ER_E/I_E;// in ohm\n",
"I_C= bita*I_B;// in A\n",
"R_C= I_CR_C/I_C;// in ohm\n",
"disp('Part (a) : ')\n",
"disp(R_E,'The value of R_E in ohm is : ')\n",
"disp(R_C,'The value of R_C in ohm is : ')\n",
"disp('Parb (b) :')\n",
"bita= 100;\n",
"I_E= (1+bita)*I_B;//in A\n",
"I_C= bita*I_B;// in A\n",
"Vo_new= V_CEQ+I_E*R_E-V_CC;// in V\n",
"Change_in_Vo= Vo_new-Vo;// in V\n",
"disp(Change_in_Vo,'The change in Vo in volts is : ')\n",
""
   ]
   }
],
"metadata": {
		  "kernelspec": {
		   "display_name": "Scilab",
		   "language": "scilab",
		   "name": "scilab"
		  },
		  "language_info": {
		   "file_extension": ".sce",
		   "help_links": [
			{
			 "text": "MetaKernel Magics",
			 "url": "https://github.com/calysto/metakernel/blob/master/metakernel/magics/README.md"
			}
		   ],
		   "mimetype": "text/x-octave",
		   "name": "scilab",
		   "version": "0.7.1"
		  }
		 },
		 "nbformat": 4,
		 "nbformat_minor": 0
}
