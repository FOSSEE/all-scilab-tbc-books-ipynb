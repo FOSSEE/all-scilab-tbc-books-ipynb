{
"cells": [
 {
		   "cell_type": "markdown",
	   "metadata": {},
	   "source": [
       "# Chapter 8: Field Effect Transistor Amplifiers"
	   ]
	},
{
		   "cell_type": "markdown",
		   "metadata": {},
		   "source": [
			"## Example 8.1: Input_impedance.sce"
		   ]
		  },
  {
"cell_type": "code",
	   "execution_count": null,
	   "metadata": {
	    "collapsed": true
	   },
	   "outputs": [],
"source": [
"// Exa 8.1\n",
"clc;\n",
"clear;\n",
"close;\n",
"format('v',6)\n",
"// Given data\n",
"V_P = -4;// in V\n",
"r_d = 40*10^3;// in ohm\n",
"I_DSS = 10*10^-3;// in A\n",
"V_GG = 1;// in V\n",
"R_D = 1.8*10^3;// in ohm\n",
"R_G = 1*10^6;// in ohm\n",
"g_mo = 2*I_DSS/(abs(V_P));// in S\n",
"V_GSQ = -1.5;// in V\n",
"g_m = g_mo*(1-(V_GSQ/V_P));// in S\n",
"Zi = R_G;// in ohm\n",
"Zi= Zi*10^-6;// in M ohm\n",
"disp(Zi,'The input impedance in M ohm is');\n",
"Zo = (r_d*R_D)/(r_d+R_D);// in ohm\n",
"Zo = R_D;// in ohm (as r_d>10*R_D)\n",
"Zo= Zo*10^-3;// in k ohm\n",
"disp(Zo,'The output impedance in k ohm is');\n",
"//Av = Vo/Vi = -g_m*R_D;\n",
"Av = -g_m*R_D;\n",
"disp(Av,'The voltage gain is');"
   ]
   }
,
{
		   "cell_type": "markdown",
		   "metadata": {},
		   "source": [
			"## Example 8.2: Zi_Zo_and_Av.sce"
		   ]
		  },
  {
"cell_type": "code",
	   "execution_count": null,
	   "metadata": {
	    "collapsed": true
	   },
	   "outputs": [],
"source": [
"// Exa 8.2\n",
"clc;\n",
"clear;\n",
"close;\n",
"format('v',6)\n",
"// Given data\n",
"I_DSS = 6;// in mA\n",
"I_DSS = I_DSS * 10^-3;// in A\n",
"V_P = -6;// in V\n",
"Y_DS = 40;// in µS\n",
"R_D = 3.3;// in k ohm\n",
"R_D = R_D * 10^3;// in ohm\n",
"R_S = 1.1;// in k ohm\n",
"R_S = R_S * 10^3;// in ohm\n",
"R_G = 10;// in Mohm\n",
"R_G =R_G * 10^6;// in ohm\n",
"g_mo = (2*I_DSS)/(abs(V_P));// in S\n",
"I_D= poly(0,'I_D');\n",
"V_GS = -I_D*R_S;// in V\n",
"I_D=  I_D - I_DSS*((1 - (V_GS/V_P))^2);\n",
"I_D= roots(I_D)\n",
"I_D= I_D(2);// in A\n",
"V_GSQ = -I_D*R_S;// in V\n",
"g_m = g_mo*( 1-(V_GSQ/V_P) );// in S\n",
"Zi = R_G;// in ohm\n",
"Zi= Zi*10^-6;// in M ohm\n",
"disp(Zi,'The value of Zi in M ohm is');\n",
"r_d = 40;// in k ohm assumed\n",
"r_d = r_d * 10^3;// in ohm\n",
"Zo = (r_d*R_D)/(r_d+R_D);// in ohm\n",
"Zo=R_D;// in ohm (as r_d > 10 *R_D)\n",
"Zo= Zo*10^-3;// in k ohm\n",
"disp(Zo,'The value of Zo in k ohm is');\n",
"Av = abs(-g_m*R_D);\n",
"disp(Av,'The value of Av is');"
   ]
   }
,
{
		   "cell_type": "markdown",
		   "metadata": {},
		   "source": [
			"## Example 8.3: Zi_Zo_Av.sce"
		   ]
		  },
  {
"cell_type": "code",
	   "execution_count": null,
	   "metadata": {
	    "collapsed": true
	   },
	   "outputs": [],
"source": [
"// Exa 8.3\n",
"clc;\n",
"clear;\n",
"close;\n",
"format('v',6)\n",
"// Given data\n",
"V_DD = 20;// inV\n",
"I_DSS = 8;// in mA\n",
"I_DSS = I_DSS * 10^-3;// in mA\n",
"V_P = -6;// in V\n",
"R_G = 1;// in Mohm\n",
"R_G = R_G * 10^6;// in ohm\n",
"R_S = 1;// in k ohm\n",
"R_S = R_S * 10^3;// in ohm\n",
"r_d = 50;// in k ohm\n",
"r_d = r_d * 10^3;// in ohm\n",
"V_GS = -2.6;// in V\n",
"I_D = 2.6;// in mA\n",
"I_D = I_D * 10^-3;// in A\n",
"g_mo = (2*I_DSS)/(abs(V_P));// in S\n",
"g_m = g_mo*(1 - (V_GS/V_P));// in S\n",
"Zi = R_G;// in ohm\n",
"Zi= Zi*10^-6;// in M ohm\n",
"disp(Zi,'The value of Zi in M ohm is');\n",
"Zo = R_S*1/g_m/(R_S+1/g_m);\n",
"disp(Zo,'The value of Zo is');\n",
"Av = g_m*R_S/(1 + (g_m*R_S));\n",
"disp(Av,'The value of Av is');"
   ]
   }
,
{
		   "cell_type": "markdown",
		   "metadata": {},
		   "source": [
			"## Example 8.4: gm_Zi_Zo_And_Av.sce"
		   ]
		  },
  {
"cell_type": "code",
	   "execution_count": null,
	   "metadata": {
	    "collapsed": true
	   },
	   "outputs": [],
"source": [
"// Exa 8.4\n",
"clc;\n",
"clear;\n",
"close;\n",
"format('v',6)\n",
"// Given data\n",
"V_GSQ = -2.6;// in V\n",
"I_DQ = 3.8*10^-3;// in A\n",
"V_DD = 12;// in V\n",
"R_D = 1.5*10^3;// in ohm\n",
"R_S = 680;// in ohm\n",
"I_DSS = 12*10^-3;// in A\n",
"r_d = 20*10^3;// in ohm\n",
"V_P = -6;// in V\n",
"// (a) Transconductance\n",
"g_mo = (2*I_DSS)/(abs(V_P));// in S\n",
"g_m = g_mo*(1-(V_GSQ/V_P));// in mS\n",
"g_m= g_m*10^3;// in mS\n",
"disp(g_m,'The value of g_m in mS is');\n",
"// (b) Input impedance\n",
"g_m= g_m*10^-3;// in S\n",
"Zi=R_S*((r_d+R_D)/(1+g_m*r_d))/(R_S+((r_d+R_D)/(1+g_m*r_d)))\n",
"disp(Zi,'The value of Zi in ohm is');\n",
"// (c) Output impedance\n",
"Zo = (R_D*r_d)/(R_D+r_d);// in ohm\n",
"Zo= Zo*10^-3;// in k ohm\n",
"disp(Zo,'The value of Zo in k ohm is');\n",
"// Voltage gain\n",
"//Av = Vo/Vi = (R_D*(1 + (g_m*10^-3*r_d)))/(R_D+r_d);\n",
"Av = (R_D*(1 + (g_m*r_d)))/(R_D+r_d);\n",
"disp(Av,'The value of Av is');"
   ]
   }
,
{
		   "cell_type": "markdown",
		   "metadata": {},
		   "source": [
			"## Example 8.6: Input_impedance_output_impedance_and_voltage_gain.sce"
		   ]
		  },
  {
"cell_type": "code",
	   "execution_count": null,
	   "metadata": {
	    "collapsed": true
	   },
	   "outputs": [],
"source": [
"// Exa 8.6\n",
"clc;\n",
"clear;\n",
"close;\n",
"format('v',6)\n",
"// Given data\n",
"V_DD = 10;// in V\n",
"R_D = 5.1;// in  k ohm\n",
"R_D = R_D * 10^3;// in ohm\n",
"g_m = 2*10^-3;// in S\n",
"r_d = 50;// in k ohm\n",
"r_d = r_d * 10^3;// in ohm\n",
"Vi = 0;// in V\n",
"R_G = 1;// in Mohm\n",
"R_G = R_G * 10^6;// in ohm\n",
"// (i) Input impedance\n",
"Zi = R_G;// in ohm\n",
"Zi= Zi*10^-6;// in M ohm\n",
"disp(Zi,'The input impedance in Mohm is');\n",
"// (ii) Output impedance\n",
"Zo = (r_d*R_D)/(r_d+R_D);// in ohm\n",
"disp(Zo,'The output impedance in ohm is');\n",
"// (iii) Voltage gain\n",
"Av = -g_m*Zo;\n",
"disp(Av,'The voltage gain is');"
   ]
   }
,
{
		   "cell_type": "markdown",
		   "metadata": {},
		   "source": [
			"## Example 8.7: gm_rd_Zi_Zo_and_Av.sce"
		   ]
		  },
  {
"cell_type": "code",
	   "execution_count": null,
	   "metadata": {
	    "collapsed": true
	   },
	   "outputs": [],
"source": [
"// Exa 8.7\n",
"clc;\n",
"clear;\n",
"close;\n",
"format('v',6)\n",
"// Given data\n",
"V_GSQ = -2;// in V\n",
"I_DSS = 8;// in mA\n",
"I_DSS = I_DSS * 10^-3;// in A\n",
"V_P = -8;// in V\n",
"YoS = 20;// in µS\n",
"YoS = YoS * 10^-6;// in S\n",
"R_D = 5.1;// in k ohm\n",
"R_D = R_D * 10^3;// in ohm\n",
"R_G = 1;// in Mohm\n",
"R_G = R_G * 10^6;// in ohm\n",
"g_mo = (2*I_DSS)/(abs(V_P));// in S\n",
"g_m = g_mo * (1 - (V_GSQ/V_P));// in S\n",
"g_m= g_m*10^3;// in mS\n",
"disp(g_m,'The value of g_m in mS is');\n",
"g_m= g_m*10^-3;// in S\n",
"r_d = 1/YoS;// in ohm\n",
"r_d= r_d*10^-3;// in k ohm\n",
"disp(r_d,'The value of r_d in k ohm is');\n",
"r_d= r_d*10^3;// in ohm\n",
"Zi = R_G;// in ohm\n",
"Zi= Zi*10^-6;// in M ohm\n",
"disp(Zi,'The value of Zi in M ohm is');\n",
"V_GS = 0;// in V\n",
"Zo = (r_d*R_D)/(r_d+R_D);// in ohm\n",
"disp(Zo,'The value of Zo in ohm is');\n",
"Av = -g_m*Zo;\n",
"disp(Av,'The value of Av is');"
   ]
   }
,
{
		   "cell_type": "markdown",
		   "metadata": {},
		   "source": [
			"## Example 8.8: Input_impedance_output_impedance_and_voltage_gain.sce"
		   ]
		  },
  {
"cell_type": "code",
	   "execution_count": null,
	   "metadata": {
	    "collapsed": true
	   },
	   "outputs": [],
"source": [
"// Exa 8.8\n",
"clc;\n",
"clear;\n",
"close;\n",
"format('v',6)\n",
"// Given data\n",
"gm= 6000*10^-6;// in S\n",
"R1 = 2;// in M ohm\n",
"R1 = R1 * 10^6;// in ohm\n",
"R2 = 500;// in k ohm\n",
"R2 = R2 * 10^3;// in ohm\n",
"R_S= 4*10^3;// in ohm\n",
"R_L= 33*10^3;// in ohm\n",
"r_d= 50*10^3;// in ohm\n",
"Zi = (R1*R2)/(R1+R2);// in ohm\n",
"Zi= Zi*10^-3;// in k ohm\n",
"disp(Zi,'The input impedance in k ohm is');\n",
"Zo = (1/gm*R_S)/(1/gm+R_S);// in ohm\n",
"disp(Zo,'The output impedance in ohm is');\n",
"// Let Req= r_d || R_S || R_L;// in ohm\n",
"Req= r_d*R_S*R_L/(r_d*R_S+R_S*R_L+R_L*r_d);// in ohm\n",
"Av=gm*(r_d*R_S*R_L/(r_d*R_S+R_S*R_L+r_d*R_L))/(1+gm*(r_d*R_S*R_L/(r_d*R_S+R_S*R_L+r_d*R_L)))\n",
"disp(Av,'The voltage gain is : ')\n",
""
   ]
   }
,
{
		   "cell_type": "markdown",
		   "metadata": {},
		   "source": [
			"## Example 8.9: Input_and_output_impedance_and_voltage_gain.sce"
		   ]
		  },
  {
"cell_type": "code",
	   "execution_count": null,
	   "metadata": {
	    "collapsed": true
	   },
	   "outputs": [],
"source": [
"// Exa 8.9\n",
"clc;\n",
"clear;\n",
"close;\n",
"format('v',7)\n",
"// Given data\n",
"R1 = 3.3* 10^-3;// in ohm\n",
"R2 = 1.2* 10^6;// in ohm\n",
"R_D = 3.9* 10^3;// in ohm\n",
"R_S = 3.9* 10^3;// in ohm\n",
"R_L = 82* 10^3;// in ohm\n",
"g_m = 6000* 10^-6;// in S\n",
"r_d = 70* 10^3;// in ohm\n",
"Zi = (R_S*( (r_d+R_D)/(1+(g_m*r_d)) ))/(R_S+( (r_d+R_D)/(1+(g_m*r_d)) ));// in ohm\n",
"disp(Zi,'The input impedance in ohm is');\n",
"Zo = (r_d*R_D)/(r_d+R_D);// in ohm\n",
"disp(Zo,'The output impedance in ohm is');\n",
"R = (R_D*R_L)/(R_D+R_L);// in ohm\n",
"Av = (R*(1+(g_m*r_d)))/( r_d+R );\n",
"disp(Av,'The voltage gain is');"
   ]
   }
],
"metadata": {
		  "kernelspec": {
		   "display_name": "Scilab",
		   "language": "scilab",
		   "name": "scilab"
		  },
		  "language_info": {
		   "file_extension": ".sce",
		   "help_links": [
			{
			 "text": "MetaKernel Magics",
			 "url": "https://github.com/calysto/metakernel/blob/master/metakernel/magics/README.md"
			}
		   ],
		   "mimetype": "text/x-octave",
		   "name": "scilab",
		   "version": "0.7.1"
		  }
		 },
		 "nbformat": 4,
		 "nbformat_minor": 0
}
