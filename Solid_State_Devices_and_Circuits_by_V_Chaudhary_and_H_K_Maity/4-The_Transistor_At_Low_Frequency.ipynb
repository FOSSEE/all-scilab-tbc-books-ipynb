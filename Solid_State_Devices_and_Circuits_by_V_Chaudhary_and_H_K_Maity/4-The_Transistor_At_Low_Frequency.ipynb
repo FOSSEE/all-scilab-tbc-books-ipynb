{
"cells": [
 {
		   "cell_type": "markdown",
	   "metadata": {},
	   "source": [
       "# Chapter 4: The Transistor At Low Frequency"
	   ]
	},
{
		   "cell_type": "markdown",
		   "metadata": {},
		   "source": [
			"## Example 4.1: Overall_current_gain.sce"
		   ]
		  },
  {
"cell_type": "code",
	   "execution_count": null,
	   "metadata": {
	    "collapsed": true
	   },
	   "outputs": [],
"source": [
"// Exa 4.1\n",
"clc;\n",
"clear;\n",
"close;\n",
"format('v',6)\n",
"// Given data\n",
"R1 = 100*10^3;// in ohm\n",
"R2 = 10*10^3;// in ohm\n",
"h_fe = 50;\n",
"h_oe = 1/40;// in ohm\n",
"R_L = 5*10^3;// in ohm\n",
"R_S= 5*10^3;// in ohm\n",
"h_ie = 1.1*10^3;// in ohm\n",
"h_re = 2.5*10^-4;\n",
"R_B = (R1*R2/(R1+R2));// in ohm\n",
"A_I = (-h_fe)/(1 + h_oe*R_L);\n",
"disp(A_I,'The internal current gain is');\n",
"//Internal input impedance, Zi = Vbe/Ib or \n",
"Zi = (h_ie + h_re*A_I*R_L);// in ohm\n",
"Zi= Zi*10^-3;// in k ohm\n",
"disp(Zi,'The internal input impedance in k ohm is');\n",
"Zi= Zi*10^3;// in ohm\n",
"//Internal voltage gain, Av = Vce/Vbe or \n",
"Av = (A_I*R_L)/Zi;\n",
"disp(Av,'The internal voltage gain is');\n",
"Ri = floor(R_B*Zi/(R_B+Zi));// in ohm\n",
"Ri= Ri*10^-3;// in k ohm\n",
"disp(Ri,'The overall input impedance in k ohm is');\n",
"Ri= Ri*10^3;// in ohm\n",
"// V_S= I_i*R_S+v_be or\n",
"VS_by_vbe= Ri/(Ri+R_S);\n",
"Avs= Av*VS_by_vbe;\n",
"disp(Avs,'The overall voltage gain is : ')\n",
"// R_B*(I_i-I_b)= Zi*I_b or\n",
"I_bBYI_i= R_B/(R_B+Zi);\n",
"A_IS= A_I*I_bBYI_i;\n",
"disp(A_IS,'The overall current gain is : ')\n",
"Rdesh_S= R_B*R_S/(R_B+R_S);// in ohm\n",
"Rdesh_S= 3220\n",
"I_bByVce= -h_re/(h_ie+Rdesh_S);\n",
"Yo= h_oe-h_fe*h_re/(h_ie+Rdesh_S)*10^3;\n",
"Zo= 1/Yo;\n",
"disp(Zo,'The Output impedance in ohm is : ')\n",
"\n",
""
   ]
   }
,
{
		   "cell_type": "markdown",
		   "metadata": {},
		   "source": [
			"## Example 4.2: Overall_current_gain.sce"
		   ]
		  },
  {
"cell_type": "code",
	   "execution_count": null,
	   "metadata": {
	    "collapsed": true
	   },
	   "outputs": [],
"source": [
"// Exa 4.2\n",
"clc;\n",
"clear;\n",
"close;\n",
"format('v',6)\n",
"// Given data\n",
"V_CC = 15;// in V\n",
"R_L = 10;// in k ohm\n",
"Rf = 200;// in k ohm\n",
"R_S = 5;// in k ohm\n",
"Rf2 = Rf;// in k ohm\n",
"h_fe = 50;\n",
"V_S= 10*10^-3;// in V\n",
"h_oe = 1/40;// in k ohm\n",
"R_L = (R_L*Rf2)/(R_L+Rf2);// in k ohm\n",
"Ai = -h_fe/(1+h_oe*R_L);\n",
"disp(Ai,'The internal current gain is');\n",
"//Zi = Vbe/Ib = h_ie +Ai*h_re*R_L;\n",
"h_ie = 1.1;// in k ohm\n",
"h_re = 2.5*10^-4;\n",
"Zi = h_ie +Ai*h_re*R_L;// in k ohm\n",
"disp(Zi,'The internal input impedance in k ohm is');\n",
"//A_V = Vce/Vbe = (Ai*R_L)/Zi;\n",
"A_V = (Ai*R_L)/Zi;\n",
"disp(A_V,'The internal voltage gain is');\n",
"Rf1= Rf/(1-A_V)\n",
"// Rf1 = Rf/(1-A_V);// in k ohm\n",
"//Ri = Vi/Ii = Vbe/Ii = (Rf1*Zi)/(Rf1+Zi);\n",
"Ri = (Rf1*Zi)/(Rf1+Zi);// in k ohm\n",
"disp(Ri,'The overall input impedance in k ohm is');\n",
"//A_VS = Vo/V_S or \n",
"A_VS = A_V*(Ri/(R_S+Ri));\n",
"disp(A_VS,'The overall voltage gain is');\n",
"//A_IS = I_L/Ii or\n",
"A_IS = (Rf2/(Rf2+R_L))*Ai*(Rf1/(Rf1+Zi));\n",
"disp(A_IS,'The overall current gain is');\n",
"Rdesh_S= Rf1*R_S/(Rf1+R_S);// in k ohm\n",
"Yo= h_oe-h_re*h_fe/(h_ie+Rdesh_S);// in mho\n",
"Zo= 1/Yo;// in ohm\n",
"disp(Zo,'The output impedance in ohm is : ')\n",
"Zdesh_o= Rf2*Zo/(Rf2+Zo);// in ohm\n",
"disp(Zdesh_o,'The overall output impedance in ohm is : ');\n",
"Vo= V_S*abs(A_VS);// in V\n",
"Vo= Vo*10^3;// in mV\n",
"disp(Vo,'The magnitude of output voltage in mV is : ')\n",
"\n",
""
   ]
   }
,
{
		   "cell_type": "markdown",
		   "metadata": {},
		   "source": [
			"## Example 4.3: Output_impedance.sce"
		   ]
		  },
  {
"cell_type": "code",
	   "execution_count": null,
	   "metadata": {
	    "collapsed": true
	   },
	   "outputs": [],
"source": [
"// Exa 4.3\n",
"clc;\n",
"clear;\n",
"close;\n",
"format('v',6)\n",
"// Given data\n",
"h_ic = 2;// in k ohm\n",
"h_fc = -51;\n",
"h_oc = 25*10^-6;// in ohm\n",
"h_rc= 1;\n",
"V_CC = 20;// in V\n",
"R1 = 10;// in k ohm\n",
"R2 = 10;// in k ohm\n",
"R_S = 1;// in k ohm\n",
"R_E = 5;// in k ohm\n",
"R_B= 5;// in k ohm\n",
"R_L= 5;// in k ohm\n",
"// (i) Current Gain\n",
"Ai = (-h_fc)/(1+h_oc*R_E*10^3);\n",
"disp(Ai,'The current gain is');\n",
"// (ii) Input impedance\n",
"Zi = h_ic*10^3 + h_rc*Ai*R_E*10^3;// in ohm\n",
"Zi = Zi * 10^-3;// in k ohm\n",
"disp(Zi,'The input impedance in k ohm is');\n",
"// (iii) Voltage Gain\n",
"A_V = (Ai*R_L*10^3)/(Zi*10^3);\n",
"A_V = 1;// (approx)\n",
"disp(A_V,'The voltage gain is');\n",
"// (iv) Overall Input Impedance\n",
"Z_IS = (R_B*Zi)/(R_B+Zi);// in k ohm\n",
"disp(Z_IS,'The overall input impedance in k ohm is');\n",
"// (v) Overall voltage gain\n",
"A_VS = (A_V*Zi)/(Zi+R_S); \n",
"disp(A_VS,'The overall voltage gain is');\n",
"// (vi) Overall current gain\n",
"A_IS =Ai*(R_B/(R_B+Zi));\n",
"disp(A_IS,'The overall current gain is');\n",
"// (vii) Output impedance\n",
"RdasS = (R_S*R_B)/(R_S+R_B);// in k ohm\n",
"Yo = h_oc - ( (h_fc*h_rc)/(h_ic*10^3+RdasS*10^3) );// in mho \n",
"Zo = 1/Yo;// in ohm\n",
"disp(Zo,'The output impedance in ohm is');"
   ]
   }
,
{
		   "cell_type": "markdown",
		   "metadata": {},
		   "source": [
			"## Example 4.4: Overall_current_gain.sce"
		   ]
		  },
  {
"cell_type": "code",
	   "execution_count": null,
	   "metadata": {
	    "collapsed": true
	   },
	   "outputs": [],
"source": [
"// Exa 4.4\n",
"clc;\n",
"clear;\n",
"close;\n",
"format('v',6)\n",
"// Given data\n",
"h_ie = 1.1;// in k ohm\n",
"h_re = 2.5*10^-4;\n",
"h_fe = 50;\n",
"h_oe = 25*10^-6;// in A\n",
"V_CC = 15;// in V\n",
"R1 = 20;// in k ohm\n",
"R_C = 2;// in k ohm\n",
"R2 = 10;// in k ohm\n",
"R_S = 1;// in k ohm\n",
"R_E = 1;// in k ohm\n",
"// (i) Current Gain\n",
"Ai = -h_fe/(1 + h_oe*R_C*10^3);\n",
"disp(Ai,'The current gain is');\n",
"// (ii) Input impedance\n",
"Zi = (h_ie*10^3) + (h_re*Ai*R_C*10^3);//in ohm\n",
"Zi = Zi * 10^-3;// in k ohm\n",
"disp(Zi,'The input impedance in k ohm is');\n",
"// (iii) Voltage gain\n",
"A_V = (Ai*R_C)/Zi;\n",
"disp(A_V,'The voltage gain is');\n",
"// (iv) Overall input impedance\n",
"R_B = (R1*R2)/(R1+R2);// in k ohm\n",
"Z_IS = (Zi*R_B)/(Zi+R_B);// in k ohm\n",
"disp(Z_IS,'The overall input impedance in k ohm is');\n",
"// (v) Overall voltage gain\n",
"A_VS = A_V * (Z_IS/(Z_IS+R_S));\n",
"disp(A_VS,'The overall voltage gain is');\n",
"// (vi) Overall current gain\n",
"A_IS =Ai*(R_B/(R_B+Zi));\n",
"disp(A_IS,'The overall current gain is');"
   ]
   }
,
{
		   "cell_type": "markdown",
		   "metadata": {},
		   "source": [
			"## Example 4.5: Power_gai.sce"
		   ]
		  },
  {
"cell_type": "code",
	   "execution_count": null,
	   "metadata": {
	    "collapsed": true
	   },
	   "outputs": [],
"source": [
"// Exa 4.5\n",
"clc;\n",
"clear;\n",
"close;\n",
"format('v',7)\n",
"// Given data\n",
"h_ie = 1.1;// in k ohm\n",
"h_oe = 25;// in A/V\n",
"h_oe = h_oe * 10^-6;// in A/V\n",
"h_fe = 50;\n",
"h_re = 2.5*10^-4;\n",
"R_L = 1.6;// in ohm\n",
"R_S = 1;// in k ohm\n",
"V_CC = 15;// in V\n",
"// (i) Current Gain\n",
"Ai = -h_fe/(1 + (h_oe*R_L));\n",
"disp(Ai,'The current gain is');\n",
"// (ii) Input impedance\n",
"Zi = (h_ie*10^3) + (h_re*Ai*R_L);// in ohm\n",
"Zi= Zi*10^-3;// in k ohm\n",
"disp(Zi,'The input impedance in k ohm is');\n",
"Zi= Zi*10^3;// in ohm\n",
"// (iii) Voltage gain\n",
"A_V = Ai*R_L/Zi;\n",
"disp(A_V,'The voltage gain is');\n",
"// (iv) Power gain\n",
"A_P = Ai*A_V;\n",
"disp(A_P,'The power gain is');"
   ]
   }
,
{
		   "cell_type": "markdown",
		   "metadata": {},
		   "source": [
			"## Example 4.6: ICQ_VCEQ_Ai_Zi_Av_ZIS_AVS_AIS.sce"
		   ]
		  },
  {
"cell_type": "code",
	   "execution_count": null,
	   "metadata": {
	    "collapsed": true
	   },
	   "outputs": [],
"source": [
"// Exa 4.6\n",
"clc;\n",
"clear;\n",
"close;\n",
"format('v',6)\n",
"// Given data\n",
"h_fe = 150;\n",
"Beta_dc = h_fe;\n",
"h_ie = 1*10^3;// in ohm\n",
"h_re = 0;\n",
"h_oe = 0;\n",
"V_CC = 18;// in V\n",
"V_BE= 0.7;// in V\n",
"R1 = 100*10^3;// in ohm\n",
"R2 = 50*10^3;// in ohm\n",
"R_C = 1*10^3;// in ohm\n",
"R_E = 0.5*10^3;// in ohm\n",
"V_Th = (V_CC/(R1+R2))*R2;// in V\n",
"R_Th =(R1*R2)/(R1+R2);// in ohm\n",
"// V_Th - I_B*R_Th - V_BE - (1+Beta)*-I_B*R_E = 0;\n",
"I_B = (V_Th-V_BE)/( R_Th + (1+Beta_dc)*R_E);// in A\n",
"//I_C = I_CQ = Beta*I_B;\n",
"I_C = Beta_dc*I_B;// in A\n",
"I_CQ = I_C;// in A\n",
"I_CQ= I_CQ*10^3;// in mA\n",
"disp(I_CQ,'The value of I_CQ in mA is');\n",
"I_E = (1+Beta_dc)*I_B;// in mA\n",
"// V_CC - I_C*R_C - V_CE - I_E*R_E = 0;\n",
"V_CE = V_CC - (I_C*R_C) - (I_E*R_E);// in V\n",
"disp(V_CE,'The value of V_CE in V is');\n",
"R_L =R_C;// in ohm\n",
"Ai = -h_fe/(1+(h_oe*R_L));\n",
"disp(Ai,'The current gain is ');\n",
"Zi = h_ie + h_re*Ai*R_L;// in ohm\n",
"Zi= Zi*10^-3;// in k ohm\n",
"disp(Zi,'The input impedance in k ohm is');\n",
"Zi= Zi*10^3;// in ohm\n",
"A_V = Ai*(R_L/Zi);\n",
"disp(A_V,'The voltage gain is');\n",
"R_B= (R1*R2)/(R1+R2);// in ohm\n",
"Z_IS =(Zi*R_B)/(Zi+R_B);// in ohm\n",
"Z_IS= Z_IS*10^-3;// in kohm\n",
"disp(Z_IS,'The overall input impedance in k ohm is');\n",
"Z_IS= Z_IS*10^3;// in ohm\n",
"A_VS =A_V*(Z_IS/Z_IS);\n",
"disp(A_VS,'The overall voltage gain is');\n",
"A_IS =Ai * (R_B/(R_B+Zi));\n",
"disp(A_IS,'The overall current gain is');"
   ]
   }
],
"metadata": {
		  "kernelspec": {
		   "display_name": "Scilab",
		   "language": "scilab",
		   "name": "scilab"
		  },
		  "language_info": {
		   "file_extension": ".sce",
		   "help_links": [
			{
			 "text": "MetaKernel Magics",
			 "url": "https://github.com/calysto/metakernel/blob/master/metakernel/magics/README.md"
			}
		   ],
		   "mimetype": "text/x-octave",
		   "name": "scilab",
		   "version": "0.7.1"
		  }
		 },
		 "nbformat": 4,
		 "nbformat_minor": 0
}
