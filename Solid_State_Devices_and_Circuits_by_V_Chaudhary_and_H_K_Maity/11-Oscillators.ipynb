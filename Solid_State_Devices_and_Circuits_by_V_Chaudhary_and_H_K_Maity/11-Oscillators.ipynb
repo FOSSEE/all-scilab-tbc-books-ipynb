{
"cells": [
 {
		   "cell_type": "markdown",
	   "metadata": {},
	   "source": [
       "# Chapter 11: Oscillators"
	   ]
	},
{
		   "cell_type": "markdown",
		   "metadata": {},
		   "source": [
			"## Example 11.10: Parallel_resonant_frequency.sce"
		   ]
		  },
  {
"cell_type": "code",
	   "execution_count": null,
	   "metadata": {
	    "collapsed": true
	   },
	   "outputs": [],
"source": [
"// Exa 11.10\n",
"clc;\n",
"clear;\n",
"close;\n",
"format('v',6)\n",
"// Given data\n",
"Cs = 0.04;// in pF\n",
"C_M = 2;// in pF\n",
"Per = (1/2)*(Cs/C_M)*100;// in %\n",
"disp('Parallel resonant frequency is greater than series resonant frequency by '+string(Per)+' %')"
   ]
   }
,
{
		   "cell_type": "markdown",
		   "metadata": {},
		   "source": [
			"## Example 11.12: Frequency_of_oscillation_and_minimum_value_of_R.sce"
		   ]
		  },
  {
"cell_type": "code",
	   "execution_count": null,
	   "metadata": {
	    "collapsed": true
	   },
	   "outputs": [],
"source": [
"// Exa 11.12\n",
"clc;\n",
"clear;\n",
"close;\n",
"format('v',6)\n",
"// Given data\n",
"C = 0.01;// in pF\n",
"C = C * 10^-12;// in F\n",
"L = 10;// in mH\n",
"L = L * 10^-3;// in H\n",
"f_o = 1/(2*%pi*sqrt(L*C));// in Hz\n",
"f_o = f_o * 10^-6;// in MHz\n",
"disp(f_o,'The oscillation frequency in MHz is');\n",
"R1 = 100;// in k ohm\n",
"R2 = 5;// in k ohm\n",
"A = 1 + (R1/R2);\n",
"// Beta = R/10;\n",
"// loopgain = A*Beta A*R/10 >=1\n",
"R= 10/A;// in k ohm\n",
"R=round(R*10^3);// in ohm\n",
"disp('The value of R is >= '+string(R)+' ohm')"
   ]
   }
,
{
		   "cell_type": "markdown",
		   "metadata": {},
		   "source": [
			"## Example 11.1: Oscillation_frequency.sce"
		   ]
		  },
  {
"cell_type": "code",
	   "execution_count": null,
	   "metadata": {
	    "collapsed": true
	   },
	   "outputs": [],
"source": [
"// Exa 11.1\n",
"clc;\n",
"clear;\n",
"close;\n",
"format('v',6)\n",
"// Given data\n",
"w=poly(0,'w');\n",
"// For sustained oscillation,\n",
"w= 4*w*10^6-w^3;\n",
"w= roots(w);\n",
"w= w(1);// in rad/sec\n",
"f= round(w/(2*%pi));// in Hz\n",
"disp(f,'The frequency of oscillation in Hz is : ')\n",
"disp('Hence the system will oscillate')"
   ]
   }
,
{
		   "cell_type": "markdown",
		   "metadata": {},
		   "source": [
			"## Example 11.2: A_RC_phase_shift_oscillators.sce"
		   ]
		  },
  {
"cell_type": "code",
	   "execution_count": null,
	   "metadata": {
	    "collapsed": true
	   },
	   "outputs": [],
"source": [
"// Exa 11.2\n",
"clc;\n",
"clear;\n",
"close;\n",
"format('v',5)\n",
"// Given data\n",
"Av= 29;\n",
"I_Bmax = 0.5*10^-6;// in A\n",
"I1= 100*I_Bmax\n",
"Vo_sat = 0.9;// in V\n",
"V_CC = 9.0;// in V\n",
"V_EE= -9;// in V\n",
"V1= 9/Av;// in V\n",
"R1= V1/I1;// in ohm\n",
"R1= 5.6*10^3;// in ohm (standard value)\n",
"Rf= Av*R1;// in ohm\n",
"Rf= 180*10^3;// in ohm\n",
"R3= Rf;// in ohm\n",
"R=R1;// in ohm\n",
"C= 1/(2*%pi*R*sqrt(6)*1000);// in F\n",
"R= R*10^-3;// in k ohm\n",
"Rf= Rf*10^-3;// in k ohm\n",
"C= C*10^6;// in µF\n",
"disp(R,'The value of R and R1 in k ohm is : ')\n",
"disp(Rf,'The value of Rf and R3 in k ohm is : ')\n",
"disp(C,'The value of C in µF is : ')\n",
"disp(V_CC,'The value of V_CC in volts is : ')\n",
"disp(V_EE,'The value of V_EE in volts is : ')"
   ]
   }
,
{
		   "cell_type": "markdown",
		   "metadata": {},
		   "source": [
			"## Example 11.3: Value_of_R_and_C.sce"
		   ]
		  },
  {
"cell_type": "code",
	   "execution_count": null,
	   "metadata": {
	    "collapsed": true
	   },
	   "outputs": [],
"source": [
"// Exa 11.3\n",
"clc;\n",
"clear;\n",
"close;\n",
"format('v',5)\n",
"// Given data\n",
"f = 5;// in kHz\n",
"f = f * 10^3;// in Hz\n",
"miu = 55;\n",
"r_d = 5.5;// in k ohm\n",
"r_d = r_d * 10^3;// in ohm\n",
"A= 29;\n",
"// abs(A) = g_m*R_L = (g_m*r_d*R_D)/(r_d+R_D) = (miu*R_D)/(r_d+R_D);\n",
"// miu*R_D = abs(A)*(r_d+R_D);\n",
"R_D = (abs(A)*r_d)/(miu-A);// in ohm  \n",
"R_D= R_D*10^-3;// in k ohm\n",
"disp(R_D,'Minimum value of R_D in  k ohm is');\n",
"R_D= R_D*10^3;// in ohm\n",
"Alpha = sqrt(6);\n",
"// Alpha = 1/(2*%pi*f*R_C);\n",
"RC = 1/(2*%pi*f*Alpha);// in sec\n",
"RC= round(RC*10^6);// in µsec\n",
"disp(RC,'The value of RC in µsec is');\n",
"RC= RC*10^-6;// in sec\n",
"R_L = (r_d*R_D)/(r_d+R_D);// in ohm\n",
"R = 30*10^3;// in ohm\n",
"C = RC/R;// in F\n",
"C = C * 10^12;// in pF \n",
"R= R*10^-3;// in k ohm\n",
"disp(R,'The value of R in k ohm is');\n",
"disp(C,'The value of C in pF is');"
   ]
   }
,
{
		   "cell_type": "markdown",
		   "metadata": {},
		   "source": [
			"## Example 11.4: BJT_RC_phase_shift_oscillator.sce"
		   ]
		  },
  {
"cell_type": "code",
	   "execution_count": null,
	   "metadata": {
	    "collapsed": true
	   },
	   "outputs": [],
"source": [
"// Exa 11.4\n",
"clc;\n",
"clear;\n",
"close;\n",
"format('v',5)\n",
"// Given data\n",
"f= 100*10^3;// in Hz\n",
"h_fe = 100;\n",
"h_ie = 1* 10^3;// in ohm\n",
"V_CE = 5;// in V\n",
"V_BE= 0.7;// in V\n",
"I_C = 1* 10^-3;// in A\n",
"I_B= 0.01*10^-3;// in A\n",
"V_CC = 20;// in V\n",
"R_E = 1* 10^3;// in ohm\n",
"I_E = I_C;// in A\n",
"R_C = (V_CC-V_CE-(I_E*R_E))/I_C;// in ohm\n",
"R = 10*10^3;// in k ohm\n",
"k = R_C/R;\n",
"h_fe=(23+29/k+4*k);\n",
"// Formula f= 1/(2*%pi*R*C*sqrt(6+4*k))\n",
"C= 1/(2*%pi*R*f*sqrt(6+4*k));// in F\n",
"// R= R3+R1 || R2+h_ie = R3+h_ie (approx)\n",
"R3= R-h_ie;// in ohm\n",
"V_B= V_BE+I_E*R_E;// in V\n",
"R2= 10*10^3;// in ohm (assumed value)\n",
"I_R2= V_B/R2;// current in R2 in A\n",
"V_R1= V_CC-V_B;// drop across R1 in V\n",
"I_R1= I_R2+I_B;// in A\n",
"R1= V_R1/I_R1;// in ohm\n",
"R_E= R_E*10^-3;// in k ohm\n",
"R_C= R_C*10^-3;// in k ohm\n",
"R= R*10^-3;// in k ohm\n",
"R1= R1*10^-3;// in k ohm\n",
"R2= R2*10^-3;// in k ohm\n",
"R3= R3*10^-3;// in k ohm\n",
"C=C*10^12;// in pF\n",
"disp(R_E,'The value of R_E in k ohm is');\n",
"disp(R_C,'The value of R_C in k ohm is');\n",
"disp(R,'The value of R in k ohm is');\n",
"disp('The value of h_fe >= '+string(h_fe));\n",
"disp(C,'The value of C in pF is : ')\n",
"disp(R3,'The value of R3 in k ohm is : ')\n",
"disp(R2,'The value of R2 in k ohm is : ')\n",
"disp(R1,'The value of R1 in k ohm is : ')\n",
"\n",
""
   ]
   }
,
{
		   "cell_type": "markdown",
		   "metadata": {},
		   "source": [
			"## Example 11.5: Transistor_gain.sce"
		   ]
		  },
  {
"cell_type": "code",
	   "execution_count": null,
	   "metadata": {
	    "collapsed": true
	   },
	   "outputs": [],
"source": [
"// Exa 11.5\n",
"clc;\n",
"clear;\n",
"close;\n",
"format('v',6)\n",
"// Given data\n",
"f = 5;// in kHz\n",
"f = f * 10^3;// in Hz\n",
"R1 = 14;// in k ohm\n",
"R2 = 75;// in k ohm\n",
"R_C = 18;// in k ohm\n",
"R = 6;// in k ohm\n",
"h_ie = 2;// in k ohm\n",
"k = R_C/R;// in k ohm\n",
"// f = 1/( 2*%pi*RC*sqrt(6+(4*k)) );\n",
"C = 1/( 2*%pi*R*10^3*f*sqrt(6+(4*k)) );// in F\n",
"C = C * 10^9;// in nF\n",
"disp(C,'The value of capacitor in nF is');\n",
"h_fe= 23+(29/k)+(4*k);\n",
"disp('The value of h_fe >= '+string(h_fe))\n",
"disp('Thus the transistor used mush have a minimum current gain of 45')\n",
""
   ]
   }
,
{
		   "cell_type": "markdown",
		   "metadata": {},
		   "source": [
			"## Example 11.7: Component_values_of_wein_bridge.sce"
		   ]
		  },
  {
"cell_type": "code",
	   "execution_count": null,
	   "metadata": {
	    "collapsed": true
	   },
	   "outputs": [],
"source": [
"// Exa 11.7\n",
"clc;\n",
"clear;\n",
"close;\n",
"format('v',6)\n",
"// Given data\n",
"f_max = 10;// in kHz\n",
"f_max = f_max * 10^3;// in Hz\n",
"R = 100*10^3;// in k ohm\n",
"C = 1/(2*%pi*f_max*R);// in F\n",
"C= C*10^9;// in nF\n",
"disp(C,'For maximum frequency, the value of C in nF is');\n",
"f_min = 100;// in Hz\n",
"C = 1/(2*%pi*f_min*R);// in F\n",
"C= C*10^9;// in nF\n",
"disp(C,'For minimum frequency, the value of C in nF is');"
   ]
   }
,
{
		   "cell_type": "markdown",
		   "metadata": {},
		   "source": [
			"## Example 11.8: Oscillation_frequency.sce"
		   ]
		  },
  {
"cell_type": "code",
	   "execution_count": null,
	   "metadata": {
	    "collapsed": true
	   },
	   "outputs": [],
"source": [
"// Exa 11.8\n",
"clc;\n",
"clear;\n",
"close;\n",
"format('v',4)\n",
"// Given data\n",
"R4 = 220;// in k ohm\n",
"R4 = R4 * 10^3;// in ohm\n",
"R3 = R4;// in ohm\n",
"R = R4;// in ohm \n",
"C1 = 250* 10^-12;// in F\n",
"C2 = C1;// in F\n",
"C = C1;// in F\n",
"f = 1/(2*%pi*R*C);// in Hz\n",
"f= f*10^-3;// in k Hz\n",
"disp(f,'The frequency of oscillation in kHz is');"
   ]
   }
,
{
		   "cell_type": "markdown",
		   "metadata": {},
		   "source": [
			"## Example 11.9: Q_of_the_crystal.sce"
		   ]
		  },
  {
"cell_type": "code",
	   "execution_count": null,
	   "metadata": {
	    "collapsed": true
	   },
	   "outputs": [],
"source": [
"// Exa 11.9\n",
"clc;\n",
"clear;\n",
"close;\n",
"format('v',5)\n",
"// Given data\n",
"L = 0.33;\n",
"Cs = 0.65;// in pF\n",
"Cs = Cs * 10^-12;// in F\n",
"C_M = 1;// in pF\n",
"C_M = C_M * 10^-12;// in F\n",
"R = 5.5;// in k ohm\n",
"R = R * 10^3;// in ohm\n",
"f_s = 1/(2*%pi*sqrt( L*Cs ));// in Hz\n",
"f_s= f_s*10^-6;// in MHz\n",
"disp(f_s,'The series resonant frequency in MHz is');\n",
"f_s= f_s*10^6;// in Hz\n",
"Ceq = (Cs*C_M)/(Cs+C_M);// in F\n",
"f_P = 1/(2*%pi*sqrt( L*Ceq ));// in Hz\n",
"f_P= f_P*10^-6;// in MHz\n",
"disp(f_P,'The parallel resonant frequency in MHz is : ')\n",
"f_P= f_P*10^6;// in Hz\n",
"P = ((f_P-f_s)/f_s)*100;// in %\n",
"disp('The parallel resonant frequency exceds series resonant frequency by '+string(P)+' % ');\n",
"Q = (sqrt(L/Cs))/R;\n",
"disp(Q,'The Q factor of the crystal is');"
   ]
   }
],
"metadata": {
		  "kernelspec": {
		   "display_name": "Scilab",
		   "language": "scilab",
		   "name": "scilab"
		  },
		  "language_info": {
		   "file_extension": ".sce",
		   "help_links": [
			{
			 "text": "MetaKernel Magics",
			 "url": "https://github.com/calysto/metakernel/blob/master/metakernel/magics/README.md"
			}
		   ],
		   "mimetype": "text/x-octave",
		   "name": "scilab",
		   "version": "0.7.1"
		  }
		 },
		 "nbformat": 4,
		 "nbformat_minor": 0
}
