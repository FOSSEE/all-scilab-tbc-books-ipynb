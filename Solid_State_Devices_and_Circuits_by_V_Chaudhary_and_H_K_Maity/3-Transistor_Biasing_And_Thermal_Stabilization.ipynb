{
"cells": [
 {
		   "cell_type": "markdown",
	   "metadata": {},
	   "source": [
       "# Chapter 3: Transistor Biasing And Thermal Stabilization"
	   ]
	},
{
		   "cell_type": "markdown",
		   "metadata": {},
		   "source": [
			"## Example 3.10: Stability_factor.sce"
		   ]
		  },
  {
"cell_type": "code",
	   "execution_count": null,
	   "metadata": {
	    "collapsed": true
	   },
	   "outputs": [],
"source": [
"// Exa 3.10\n",
"clc;\n",
"clear;\n",
"close;\n",
"format('v',5);\n",
"// Given data\n",
"V_CC = 10;// in V\n",
"R_C = 1;// in k ohm\n",
"R_B = 100;//in k ohm\n",
"V_CE = 5;// in V\n",
"V_BE = 0.7;// in V\n",
"V_CB= V_CE-V_BE;// in V\n",
"I_B= V_CB/R_B;// in mA\n",
"// V_CC = (I_C+I_B)*R_C + V_CE = I_C*R_C + I_B*R_C + V_CE;\n",
"I_C =  (V_CC-V_CE-(I_B*R_C))/R_C;// in mA\n",
"bita= I_C/I_B;\n",
"S = (1 + bita)/( 1 + bita*( R_C/(R_B+R_C) ) );\n",
"disp(S,'The value of stability factor is');\n",
"S_fixed_bias= 1+bita;// stability factor for fixed bias circuit\n",
"disp(S_fixed_bias,'For the fixed bias circuit, the value of stability factor would have been')\n",
"disp('Thus collector to base circuit has a low value of S and hence provides better Q point stability')"
   ]
   }
,
{
		   "cell_type": "markdown",
		   "metadata": {},
		   "source": [
			"## Example 3.11: Q_point_value.sce"
		   ]
		  },
  {
"cell_type": "code",
	   "execution_count": null,
	   "metadata": {
	    "collapsed": true
	   },
	   "outputs": [],
"source": [
"// Exa 3.11\n",
"clc;\n",
"clear;\n",
"close;\n",
"format('v',5)\n",
"//Given data\n",
"Beta = 100;\n",
"V_CC = 10;// V\n",
"R1 = 9.1;// in k ohm\n",
"R_C = 1;// in k ohm\n",
"R_E = 560*10^-3;// in  k ohm\n",
"R2 = 4.7;// in k ohm\n",
"V_BE = 0.7;// in V\n",
"V_Th = (V_CC/(R1+R2))*R2;// in V\n",
"R_B = (R1*R2)/(R1+R2);// in k ohm\n",
"// V_Th - I_B*R_B - V_BE - I_E*R_E = 0 or \n",
"I_B = (V_Th-V_BE)/(R_B+((1+Beta)*R_E));// in mA\n",
"// I_C = Beta*I_B + (1+Beta)*I_CO;\n",
"I_C = Beta*I_B;// in mA (neglecting I_CO as it is very small)\n",
"// V_CC - (I_C*R_C) - V_CE - I_E*R_E = 0;\n",
"V_CE = V_CC - (I_C*R_C) - (I_C*R_E);// in V\n",
"disp('Q Point : '+string(V_CE)+' volts, '+string(I_C)+' mA')"
   ]
   }
,
{
		   "cell_type": "markdown",
		   "metadata": {},
		   "source": [
			"## Example 3.12: Quiescent_current_and_collector_emitter_voltage.sce"
		   ]
		  },
  {
"cell_type": "code",
	   "execution_count": null,
	   "metadata": {
	    "collapsed": true
	   },
	   "outputs": [],
"source": [
"// Exa 3.12\n",
"clc;\n",
"clear;\n",
"close;\n",
"format('v',6)\n",
"// Given data\n",
"V_CC = 20;// in V\n",
"bita = 50;\n",
"R_C = 2;// in k ohm\n",
"R_E = 0.1;// in k ohm\n",
"R1 = 100;// in k ohm\n",
"R2 = 5;// in k ohm\n",
"R_Th = (R1*R2)/(R1+R2);// in k ohm\n",
"R_B = R_Th;// in k ohm\n",
"V_BE = 0.7;// in V\n",
"V_Th = (V_CC*R2)/(R1+R2);// in V\n",
"// Applying KVL to the base circuit, V_Th  - I_B*R_B - V_BE - I_E*R_E = 0 or\n",
"I_B = (V_Th-V_BE)/(R_B + (R_E*(1+bita)));// in mA     (on putting I_E= (1+bita)*I_B)\n",
"I_C = bita*I_B;// in mA\n",
"I_E = (1+bita)*I_B;// in mA\n",
"V_CE = V_CC - (I_C*R_C) - (I_E*R_E);// in V\n",
"disp('Q Point : '+string(V_CE)+' volts, '+string(I_C)+' mA')"
   ]
   }
,
{
		   "cell_type": "markdown",
		   "metadata": {},
		   "source": [
			"## Example 3.13: Q_point_value.sce"
		   ]
		  },
  {
"cell_type": "code",
	   "execution_count": null,
	   "metadata": {
	    "collapsed": true
	   },
	   "outputs": [],
"source": [
"// Exa 3.13\n",
"clc;\n",
"clear;\n",
"close;\n",
"format('v',5)\n",
"// Given data\n",
"bita= 44;\n",
"V_BE = 0.2;// in V\n",
"V_CC = -4.5;// in V\n",
"R1 = 2.7;// in k ohm\n",
"R_C = 1.5;// in k ohm\n",
"R2 = 27;// in k ohm\n",
"R_E = 0.27;// in k ohm\n",
"R_Th = (R1*R2)/(R1+R2);// in k ohm\n",
"R_B = R_Th;// in k ohm\n",
"V_Th = (V_CC*R_B)/R2;// in V\n",
"I_B= poly(0,'I_B');// in mA\n",
"I_C= bita*I_B;// in mA\n",
"I_E= -(I_C+I_B);// in mA\n",
"// Applying KVL to base circuit, -V_Th - I_B*R_B - V_BE + (I_E*R_E) = 0     (i)\n",
"I_B= (V_Th - I_B*R_B + V_BE + (I_E*R_E));// in mA\n",
"I_B= roots(I_B);// in mA\n",
"I_C= bita*I_B;// in mA\n",
"I_E= -(I_C+I_B);// in mA\n",
"// Applying KVL to collector circuit, -V_CC - I_C*R_C - V_CE + I_E*R_E = 0 or \n",
"V_CE = V_CC - (I_C*R_C) + (I_E*R_E);// in V\n",
"disp('Part (a) : ')\n",
"disp('Q Point : '+string(V_CE)+' volts, '+string(I_C)+' mA')\n",
"// Calculation of R'Th or R'B (Thevenin's Resistance)\n",
"r_bb = 0.69;// in k ohm\n",
"R_deshB = ((R1*R2)/(R1+R2)) + r_bb;// in k ohm\n",
"// Calculation of Thevenin's voltage\n",
"I_B= (V_Th+V_BE)/(R_deshB+(1+bita)*R_E);// in mA\n",
"I_C= bita*I_B;// in mA\n",
"// Applying KVL to collector circuit, -V_CC - (I_C*R_C) - V_CE + I_E*R_E = 0 or\n",
"V_CE = V_CC - (I_C*R_C) + (I_E*R_E);// in V\n",
"disp('Part (b) : ')\n",
"disp('Q Point : '+string(V_CE)+' volts, '+string(I_C)+' mA')\n",
"\n",
"\n",
"\n",
"\n",
""
   ]
   }
,
{
		   "cell_type": "markdown",
		   "metadata": {},
		   "source": [
			"## Example 3.14: DC_bias_voltage_and_current.sce"
		   ]
		  },
  {
"cell_type": "code",
	   "execution_count": null,
	   "metadata": {
	    "collapsed": true
	   },
	   "outputs": [],
"source": [
"// Exa 3.14\n",
"clc;\n",
"clear;\n",
"close;\n",
"format('v',5)\n",
"// Given data\n",
"bita = 140;\n",
"V_BE = 0.7;// in V\n",
"V_CC = 22;// in V\n",
"R1 = 39;// in k ohm\n",
"R_C = 10;// in k ohm\n",
"R2 = 3.9;// in k ohm\n",
"R_E = 1.5;// in k ohm\n",
"// Calculation of Thevenin's Resistance\n",
"R_Th = (R1*R2)/(R1+R2);// in k ohm\n",
"// Calculation of Thevenin's Voltage\n",
"V_Th = (V_CC*R2)/(R1+R2);// in V\n",
"I_B= poly(0,'I_B');// in mA\n",
"I_E= (1+bita)*I_B;// in mA\n",
"// Applying KVL to input side, V_Th - I_B*R_Th - V_BE - I_E*R_E=0 or \n",
"I_B= V_Th - I_B*R_Th - V_BE - I_E*R_E;\n",
"I_B= roots(I_B);// in mA\n",
"I_C = bita*I_B;// in mA\n",
"I_E= (1+bita)*I_B;// in mA\n",
"// Applying KVL to C-E circuit, V_CC - I_C*R_C - V_CE - I_E*R_E = 0 or\n",
"V_CE = V_CC - (I_C*R_C) - ((1+bita)*I_B*R_E);// in V\n",
"I_B= I_B*10^3;// in µA\n",
"disp(I_B,'The value of I_B in µA is');\n",
"disp(I_C,'The value of I_C in mA is');\n",
"disp(V_CE,'The value of V_CE in V is');"
   ]
   }
,
{
		   "cell_type": "markdown",
		   "metadata": {},
		   "source": [
			"## Example 3.15: RE_and_stability_factor.sce"
		   ]
		  },
  {
"cell_type": "code",
	   "execution_count": null,
	   "metadata": {
	    "collapsed": true
	   },
	   "outputs": [],
"source": [
"// Exa 3.15\n",
"clc;\n",
"clear;\n",
"close;\n",
"format('v',5)\n",
"// Given data\n",
"V_CC =12;// in V\n",
"R_C = 4.3;// in k ohm\n",
"V_CE = 4;// in V\n",
"V_BE = 0.7;// in V\n",
"V_EE = 6;// in V\n",
"bita = 50;\n",
"// Applying KVL in base circuit, -V_BE - I_ER_E + V_EE = 0 or\n",
"I_ER_E = V_EE - V_BE;// in V\n",
"// Applying KVL in C-E circuit, V_CC-I_C*R_C-V_CE-I_ER_E+V_EE=0 or\n",
"I_C = (V_CC - V_CE - I_ER_E + V_EE)/R_C;// in mA\n",
"I_B = I_C/bita;// in mA\n",
"I_E = I_C+I_B;// in mA\n",
"R_E= I_ER_E/I_E;// in k ohm\n",
"disp(R_E,'The value of R_E in k ohm is : ')\n",
"del_IC= bita*(1+bita)*R_E;\n",
"del_ICO= bita*(1+bita)*R_E;\n",
"S= del_IC/del_ICO;\n",
"disp(S,'The value of stability factor, S is : ')\n",
"S_desh= bita/((1+bita)*R_E);\n",
"disp(S_desh,'The value of stability factor, S'' is : ')"
   ]
   }
,
{
		   "cell_type": "markdown",
		   "metadata": {},
		   "source": [
			"## Example 3.17: Junction_temperature.sce"
		   ]
		  },
  {
"cell_type": "code",
	   "execution_count": null,
	   "metadata": {
	    "collapsed": true
	   },
	   "outputs": [],
"source": [
"// Exa 3.17           (Miss printed as example 3.14)\n",
"clc;\n",
"clear;\n",
"close;\n",
"format('v',5)\n",
"// Given data\n",
"Tj = 150;//Junction temperature in degree C\n",
"P_Cmax = 125;// in mW\n",
"T = 25;// free-air temperature in degree C\n",
"T1 = 0;// in degree C\n",
"curve = (Tj-T)/(P_Cmax - T1);// in degreeC/mW\n",
"T_A = 25;// Ambient temperature in degree C\n",
"P_D = 75;// Collector junction dissipation in mW\n",
"theta = 1;// in degree C/mW\n",
"// Tj-T_A = theta*P_D;\n",
"Tj = T_A + (theta*P_D);// in degree C\n",
"disp(Tj,'The junction temperature in °C is');"
   ]
   }
,
{
		   "cell_type": "markdown",
		   "metadata": {},
		   "source": [
			"## Example 3.18: Thermal_resistance_and_junction_temperature.sce"
		   ]
		  },
  {
"cell_type": "code",
	   "execution_count": null,
	   "metadata": {
	    "collapsed": true
	   },
	   "outputs": [],
"source": [
"// Exa 3.18             (Miss printed as example 3.15)\n",
"clc;\n",
"clear;\n",
"close;\n",
"format('v',5)\n",
"// Given data\n",
"P_Cmax = 125;// in mW\n",
"P_D = P_Cmax;// in mW\n",
"T_A = 25;// in degree C\n",
"Tj = 150;// in degree C\n",
"// Tj-T_A = theta*P_D;\n",
"theta = (Tj-T_A)/P_D;// in degree C/mW\n",
"disp(theta,'The thermal resistance for a transistor in °C/mW is');\n",
"// For theta= 1 °C/mW\n",
"P_D = 75;// in mW\n",
"// Tj-T_A = theta*P_D;\n",
"Tj = (theta*P_D) + T_A;// in degree C\n",
"disp(Tj,'The junction temperature in °C is');"
   ]
   }
,
{
		   "cell_type": "markdown",
		   "metadata": {},
		   "source": [
			"## Example 3.1: DC_load_line.sce"
		   ]
		  },
  {
"cell_type": "code",
	   "execution_count": null,
	   "metadata": {
	    "collapsed": true
	   },
	   "outputs": [],
"source": [
"// Exa 3.1\n",
"clc;\n",
"clear;\n",
"close;\n",
"format('v',6)\n",
"// Given data\n",
"V_CC = 15;// in V\n",
"R_C = 4;// in k ohm\n",
"R_C =R_C * 10^3;// in ohm\n",
"I_C = 0;// in A\n",
"V_CE = V_CC - (I_C*R_C);// in V\n",
"V_CE = 0;// in V\n",
"// V_CE = V_CC - I_C*R_C;\n",
"I_C = V_CC/R_C;// in A\n",
"I_C = I_C * 10^3;// in mA\n",
"plot([V_CC 0],[0 I_C])\n",
"xlabel('V_CE in volts')\n",
"ylabel('I_C in mA')\n",
"title('DC load line')\n",
"disp('DC load line shown in figure')"
   ]
   }
,
{
		   "cell_type": "markdown",
		   "metadata": {},
		   "source": [
			"## Example 3.20: Biasing_component_for_fixed_bias.sce"
		   ]
		  },
  {
"cell_type": "code",
	   "execution_count": null,
	   "metadata": {
	    "collapsed": true
	   },
	   "outputs": [],
"source": [
"// Exa 3.20                 (Miss printed as example 3.17)\n",
"clc;\n",
"clear;\n",
"close;\n",
"format('v',7)\n",
"// Given data\n",
"V_E = 1;// in V\n",
"V_BE = 0.7;// in V\n",
"R_C = 1;// in k ohm\n",
"Beta = 180;\n",
"V_CC = 12;// in V\n",
"V_CEQ = 6;// in V\n",
"// Applying KVL into collector circuit, V _CC - I_C*R_C - V_CEQ = 0 or\n",
"I_C = (V_CC-V_CEQ)/R_C;// in mA\n",
"I_B = I_C/Beta;// in mA\n",
"// Applying KVL into base circuit, V_CC - I_B*R_B - V_BE = 0 or\n",
"R_B = (V_CC-V_BE)/I_B;// in k ohm\n",
"disp(R_B,'The value of R_B in k ohm is');\n",
"//Applying KVL to collector circuit, V_CC - I_C*R_C - V_CE - V_E = 0 or\n",
"I_C = (V_CC-V_CEQ-V_E)/R_C;// in mA\n",
"I_B = I_C/Beta;// in mA\n",
"I_E = I_C+I_B;// in mA\n",
"R_E = V_E/(I_E);// in k ohm\n",
"R_E= round(R_E*10^3);// in ohm\n",
"disp(R_E,'The value of R_E in ohm is');\n",
"I_R2 = 10*I_B;// in mA\n",
"V_BE= 0.6;// in V\n",
"//R2 =V_B/I_R2 = (V_E+V_BE)/I_R2;\n",
"R2 = (V_E+V_BE)/I_R2;// in k ohm \n",
"R2= R2*10^3;// in ohm\n",
"disp(R2,'The value of R2 in ohm is');\n",
"I_R1 = I_R2 + I_B;// in mA\n",
"//R1 = V_R1/I_R1 = (V_CC-V_B)/I_R1;\n",
"V_B = V_E+V_BE;// in V\n",
"R1 = (V_CC-V_B)/I_R1;// in k ohm\n",
"disp(R1,'The value of R1 in k ohm is');"
   ]
   }
,
{
		   "cell_type": "markdown",
		   "metadata": {},
		   "source": [
			"## Example 3.21: Value_of_ICQ.sce"
		   ]
		  },
  {
"cell_type": "code",
	   "execution_count": null,
	   "metadata": {
	    "collapsed": true
	   },
	   "outputs": [],
"source": [
"// Exa 3.21                 (Miss printed as example 3.18)\n",
"clc;\n",
"clear;\n",
"close;\n",
"format('v',5)\n",
"// Given data\n",
"V_BB= 6;// in V\n",
"I_CBO =0.5;// in µA\n",
"V_BE = 0.7;// in V\n",
"R_B= 50;// in k ohm\n",
"R_E= 1;// in k ohm\n",
"bita = 75;\n",
"// V_BB - I_B*R_B - V_BE - I_E*R_E = 0 or\n",
"I_B=(V_BB-V_BE)/(R_B+(1+bita)*R_E);// in mA      (on putting I_E= (1+bita)*I_B)             (i)\n",
"I_B= round(I_B*10^3);// in µA\n",
"I_C= bita*I_B;// in µA\n",
"I_C= I_C*10^-3;// in mA\n",
"I_CQ= I_C;// in mA\n",
"disp(I_CQ,'The value of I_CQ at room temperature in mA is : ')\n",
"// Part (ii)\n",
"C= 2;// temperature coefficient in mV/°C\n",
"C= 2*10^-3;// in V/°C\n",
"T2= 20;// in °C\n",
"T1= 0;// in °C\n",
"I_CBO2= I_CBO*2^((T2-T1)/10);// in µA\n",
"V_BE2= V_BE-C*T2;// in V\n",
"// Now from eq(i), for the new value of I_B\n",
"I_B=(V_BB-V_BE2)/(R_B+(1+bita)*R_E);// in mA\n",
"I_B= I_B*10^3;// in µA\n",
"I_C= bita*I_B+(1+bita)*I_CBO2;// in µA\n",
"I_C= I_C*10^-3;// in mA\n",
"I_CQ= I_C;// in mA\n",
"disp(I_CQ,'The value of I_CQ when temperature increases by 20°C in mA is : ')\n",
"\n",
"\n",
"\n",
""
   ]
   }
,
{
		   "cell_type": "markdown",
		   "metadata": {},
		   "source": [
			"## Example 3.22: Value_of_R1_R2_and_RE.sce"
		   ]
		  },
  {
"cell_type": "code",
	   "execution_count": null,
	   "metadata": {
	    "collapsed": true
	   },
	   "outputs": [],
"source": [
"// Exa 3.22                 (Miss printed as example 3.19)\n",
"clc;\n",
"clear;\n",
"close;\n",
"format('v',6)\n",
"// Given data\n",
"S = 10;\n",
"bita = 50;\n",
"h_fe = bita;\n",
"V_CC= 20;// in V\n",
"V_CE = 10;// in V\n",
"R_C = 2;// in k ohm\n",
"I_C = 4;// in mA\n",
"I_B =I_C/bita;// in mA\n",
"// Applying KVL to collector loop, V_CC -I_C*R_C - V_CE - I_E*R_E = 0 or\n",
"R_E = (V_CC -I_C*R_C - V_CE)/(I_C+I_B);// in k ohm            (on putting I_E= I_C+I_B)\n",
"R_E= round(R_E*10^3);// in ohm\n",
"disp(R_E,'The value of R_E in ohm is');\n",
"// Formula S = (1+bita)*( (1 + (R_B/R_E))/( (1+bita) + (R_B/R_E) ) ) or\n",
"R_B= (1+bita)*(1-S)*R_E/(S-1-bita);// in ohm\n",
"// But R_B= R1 || R2= R1*R2/(R1+R2) => R2/(R1+R2)= R_B/R1           (i)\n",
"// Calculation of R1 and R2 : \n",
"V_BE= 0.2;// in V\n",
"// Applying KVL to input loop, \n",
"V_R2= V_BE+(I_C+I_B)*10^-3*R_E;// in V\n",
"// But V_R2= R2*V_CC/(R1+R2) =>  R2/(R1+R2)= V_R2/V_CC          (ii)\n",
"// On comparing eq (i) and (ii)\n",
"R1= R_B*V_CC/V_R2;// in ohm\n",
"R2= R1*V_R2/(V_CC-V_R2);// in ohm\n",
"R1= R1*10^-3;// in k ohm\n",
"R2= R2*10^-3;// in k ohm\n",
"disp(R1,'The value of R1 in k ohm is : ')\n",
"disp(R2,'The value of R2 in k ohm is : ')\n",
"// Effect of Reducing S or 3 : \n",
"S=3;\n",
"// Formula S = (1+bita)*( (1 + (R_B/R_E))/( (1+bita) + (R_B/R_E) ) ) or\n",
"R_B= (1+bita)*(1-S)*R_E/(S-1-bita);// in ohm\n",
"R_B= R_B*10^-3;// in k ohm\n",
"disp(R_B,'When S<=3, the value of R_B in k ohm is : ')\n",
"disp('Thus S is reduced below 3 at the cost of reduction of it''s input impedance')"
   ]
   }
,
{
		   "cell_type": "markdown",
		   "metadata": {},
		   "source": [
			"## Example 3.2: Q_point.sce"
		   ]
		  },
  {
"cell_type": "code",
	   "execution_count": null,
	   "metadata": {
	    "collapsed": true
	   },
	   "outputs": [],
"source": [
"// Exa 3.2\n",
"clc;\n",
"clear;\n",
"close;\n",
"format('v',6)\n",
"// Given data\n",
"R_C = 5;// in k ohm\n",
"V_CC = 10;// in V\n",
"I_C = 1;// in mA\n",
"V_CE = V_CC - (I_C*R_C);// in V\n",
"disp('Part (i) When Collector load = 5 kohm');\n",
"disp('Operating point is : '+string(V_CE)+' V, '+string(I_C)+' mA')\n",
"disp('The quiescent point 5V and 1mA');\n",
"R_C = 6;// in k ohm\n",
"V_CE = V_CC - (I_C*R_C);// in V\n",
"disp('Part (ii) When Collector load = 6 kohm');\n",
"disp('Operating point is : '+string(V_CE)+' V, '+string(I_C)+' mA')"
   ]
   }
,
{
		   "cell_type": "markdown",
		   "metadata": {},
		   "source": [
			"## Example 3.3: Q_point_values.sce"
		   ]
		  },
  {
"cell_type": "code",
	   "execution_count": null,
	   "metadata": {
	    "collapsed": true
	   },
	   "outputs": [],
"source": [
"// Exa 3.3\n",
"clc;\n",
"clear;\n",
"close;\n",
"format('v',6)\n",
"// Given data\n",
"Beta = 100;\n",
"V_CC = 10;// in V\n",
"V_BE = 0.7;// in V\n",
"R_B = 150;// in k ohm\n",
"// V_CC - I_B*R_B - V_BE = 0;\n",
"I_B = (V_CC-V_BE)/R_B;// in mA\n",
"// I_C = Beta*I_B + (1+Beta)*I_CO;\n",
"I_C = Beta * I_B;// in A\n",
"// V_CC - I_C*R_C - V_CE = 0;\n",
"R_C = 1;// in k ohm\n",
"V_CE = V_CC - (I_C*R_C);// in V\n",
"disp('The operating point is : '+string(V_CE)+' V, '+string(I_C)+' mA')"
   ]
   }
,
{
		   "cell_type": "markdown",
		   "metadata": {},
		   "source": [
			"## Example 3.4: IBQ_ICQ_VCEQ_VB_VC_and_VBC.sce"
		   ]
		  },
  {
"cell_type": "code",
	   "execution_count": null,
	   "metadata": {
	    "collapsed": true
	   },
	   "outputs": [],
"source": [
"// Exa 3.4\n",
"clc;\n",
"clear;\n",
"close;\n",
"format('v',6)\n",
"// Given data\n",
"V_CC = 12;// in V\n",
"R_C = 2.2;// in k ohm\n",
"R_C = R_C * 10^3;// in ohm\n",
"R_B = 240;//in k ohm\n",
"R_B = R_B * 10^3;// in ohm\n",
"V_BE = 0.7;// in V\n",
"// V_CC - I_B*R_B - V_BE = 0;\n",
"I_BQ = (V_CC-V_BE)/R_B;// in A\n",
"I_BQ = I_BQ * 10^6;// in µA\n",
"disp(I_BQ,'The value of I_BQ in µA is');\n",
"Beta = 50;\n",
"// I_CQ = Beta*I_BQ + (1+BEta)*I_CO;\n",
"I_CQ = Beta*I_BQ*10^-6;// in A\n",
"I_CQ = I_CQ * 10^3;// in mA\n",
"disp(I_CQ,'The value of I_CQ in mA is');\n",
"// V_CC - I_CQ*R_C - V_CEQ = 0;\n",
"V_CEQ = V_CC - I_CQ*10^-3*R_C;// in V\n",
"disp(V_CEQ,'The value of V_CEQ in V is');\n",
"V_B = V_BE;// in V\n",
"disp(V_B,'The value of V_B in V is');\n",
"V_C = V_CEQ;// in V\n",
"disp(V_C,'The value of V_C in V is');\n",
"// V_CE = V_CB + V_BE;\n",
"V_CB = V_CEQ - V_BE;// in V\n",
"V_BC = -V_CB;// in V\n",
"disp(V_BC,'The value of V_BC in V is');"
   ]
   }
,
{
		   "cell_type": "markdown",
		   "metadata": {},
		   "source": [
			"## Example 3.5: Percent_change_the_Q_point_value_over_temparature_range.sce"
		   ]
		  },
  {
"cell_type": "code",
	   "execution_count": null,
	   "metadata": {
	    "collapsed": true
	   },
	   "outputs": [],
"source": [
"// Exa 3.5\n",
"clc;\n",
"clear;\n",
"close;\n",
"format('v',6)\n",
"// Given data\n",
"V_CC = 12;// in V\n",
"R_B = 100;// in k ohm\n",
"R_C = 500*10^-3;// in k ohm\n",
"Beta_dc = 100;\n",
"V_BE= 0.7;// in V\n",
"// V_CC - I_BQ*R_B - V_BE = 0;\n",
"I_BQ = (V_CC - V_BE)/R_B;// in mA\n",
"I_CQ = Beta_dc*I_BQ;// in mA\n",
"// V_CC - I_CQ*R_C - V_CEQ = 0;\n",
"V_CEQ = V_CC - (I_CQ*R_C);// in V\n",
"disp('The Q point at 30° is : '+string(V_CEQ)+' V, '+string(I_CQ)+' mA')\n",
"Beta_dc = 120;\n",
"I_CQ1 = Beta_dc*I_BQ;// in mA\n",
"V_CEQ1 = V_CC - (I_CQ1*R_C);// in V\n",
"disp('The Q point at 80° is : '+string(V_CEQ1)+' V, '+string(I_CQ1)+' mA')\n",
"PerI_CQ = ((I_CQ1-I_CQ)/I_CQ)*100;// in %\n",
"disp('The percentage change in I_CQ is : '+string(PerI_CQ )+' % (increase)');\n",
"PerV_CEQ = ((V_CEQ1-V_CEQ)/V_CEQ)*100;// in %\n",
"disp('The percentage change in V_CEQ is : '+string(abs(PerV_CEQ))+' % (decrease)');"
   ]
   }
,
{
		   "cell_type": "markdown",
		   "metadata": {},
		   "source": [
			"## Example 3.6: Stability_factor.sce"
		   ]
		  },
  {
"cell_type": "code",
	   "execution_count": null,
	   "metadata": {
	    "collapsed": true
	   },
	   "outputs": [],
"source": [
"// Exa 3.36\n",
"clc;\n",
"clear;\n",
"close;\n",
"format('v',5)\n",
"// Given data\n",
"R_B = 100;// in k ohm\n",
"R_B = R_B * 10^3;// in ohm\n",
"R_C = 1;// in k ohm\n",
"R_C = R_C * 10^3;// in ohm\n",
"V_BE = 0.3;// in V\n",
"// S = 1 + Beta and Beta = I_C/I_B;\n",
"V_CC = 12;// in V\n",
"V_CE = 6;// in V\n",
"I_C = (V_CC-V_CE)/R_C;// in A\n",
"I_C = I_C * 10^3;// in mA\n",
"I_B = (V_CC-V_BE)/R_B;// in A\n",
"I_B = I_B * 10^6;// in µA\n",
"Beta = (I_C*10^-3)/(I_B*10^-6);\n",
"S = 1 + Beta;\n",
"disp(S,'The stability factor is');\n",
""
   ]
   }
,
{
		   "cell_type": "markdown",
		   "metadata": {},
		   "source": [
			"## Example 3.7: Collector_current_VCE_and_stability_factor.sce"
		   ]
		  },
  {
"cell_type": "code",
	   "execution_count": null,
	   "metadata": {
	    "collapsed": true
	   },
	   "outputs": [],
"source": [
"// Exa 3.7\n",
"clc;\n",
"clear;\n",
"close;\n",
"format('v',6)\n",
"// Given data\n",
"V_CC = 25;// in V\n",
"R_B = 180;// in k ohm\n",
"R_C = 820*10^-3;// in k ohm\n",
"R_E = 200*10^-3;// in k ohm\n",
"bita = 80;\n",
"V_BE = 0.7;// in V\n",
"// Applying KVL to B-E loop, V_CC-I_B*R_B-V_BE-I_E*R_E=0 or \n",
"I_C= (V_CC-V_BE)/((R_B+R_E)/bita-R_E);// in A   (on putting I_B= I_C/bita and I_E= I_B+I_E)\n",
"disp(I_C,'The collector current in mA is');\n",
"V_CE = V_CC - (I_C*R_C);// in V\n",
"disp(V_CE,'The collector to emmiter voltage in V is');\n",
"S = (1 + bita)/( 1 + ( (bita*R_E)/(R_B+R_E) ) );\n",
"disp(S,'Current stability factor is');\n",
"Sdas = -bita/( R_B + R_E*(1+bita) );\n",
"disp(Sdas,'The voltage stability factor is');"
   ]
   }
,
{
		   "cell_type": "markdown",
		   "metadata": {},
		   "source": [
			"## Example 3.8: Q_point_value.sce"
		   ]
		  },
  {
"cell_type": "code",
	   "execution_count": null,
	   "metadata": {
	    "collapsed": true
	   },
	   "outputs": [],
"source": [
"// Exsa 3.8\n",
"clc;\n",
"clear;\n",
"close;\n",
"format('v',6)\n",
"// Given data\n",
"V_CC = 20;// in V\n",
"V_BE= 0.7;// in V\n",
"R_C = 4.7;//in k ohm\n",
"bita = 100;\n",
"R_B = 680;// in k ohm\n",
"I_C= poly(0,'I_C');// in mA\n",
"I_B= I_C/bita;// in  mA\n",
"// Applying KVL to C-B circuit, V_CC - (I_C+I_B)*R_C - I_B*R_B - V_BE = 0;\n",
"I_C= V_CC - (I_C+I_B)*R_C - I_B*R_B - V_BE;\n",
"I_C= roots(I_C);// in mA\n",
"I_B= I_C/bita;// in  mA\n",
"V_CEQ = V_CC - (I_C+I_B)*R_C;// in V\n",
"disp('Q point : '+string(V_CEQ)+' volts, '+string(I_C)+' mA')"
   ]
   }
,
{
		   "cell_type": "markdown",
		   "metadata": {},
		   "source": [
			"## Example 3.9: Collector_to_base_bias_circuit.sce"
		   ]
		  },
  {
"cell_type": "code",
	   "execution_count": null,
	   "metadata": {
	    "collapsed": true
	   },
	   "outputs": [],
"source": [
"// Exa 3.9\n",
"clc;\n",
"clear;\n",
"close;\n",
"format('v',6)\n",
"// Given data\n",
"V_CEQ = 5;// in V\n",
"I_CQ = 5;// in mA\n",
"V_CC = 12;// in V\n",
"bita = 120;\n",
"I_C = I_CQ;// in mA\n",
"V_BE = 0.7;// in V\n",
"I_B= I_C/bita;// in mA\n",
"// V_CC - (I_C+I_B)*R_C - V_CE = 0 or\n",
"R_C= (V_CC-V_CEQ)/(I_C+I_B);// in k ohm\n",
"// Applying KVL to base circuit, V_CC - (I_C+I_B)*R_C - I_B*R_B - V_BE = 0 or \n",
"R_B= (V_CEQ-V_BE)/I_B;// in k ohm\n",
"disp(R_C,'The value of R_C in k ohm is');\n",
"disp(R_B,'The value of R_B in k ohm is');"
   ]
   }
],
"metadata": {
		  "kernelspec": {
		   "display_name": "Scilab",
		   "language": "scilab",
		   "name": "scilab"
		  },
		  "language_info": {
		   "file_extension": ".sce",
		   "help_links": [
			{
			 "text": "MetaKernel Magics",
			 "url": "https://github.com/calysto/metakernel/blob/master/metakernel/magics/README.md"
			}
		   ],
		   "mimetype": "text/x-octave",
		   "name": "scilab",
		   "version": "0.7.1"
		  }
		 },
		 "nbformat": 4,
		 "nbformat_minor": 0
}
