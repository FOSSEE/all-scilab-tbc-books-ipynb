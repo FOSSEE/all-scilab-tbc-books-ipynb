{
"cells": [
 {
		   "cell_type": "markdown",
	   "metadata": {},
	   "source": [
       "# Chapter 6: The Field Effect Transistor And MOSFET"
	   ]
	},
{
		   "cell_type": "markdown",
		   "metadata": {},
		   "source": [
			"## Example 6.1: Transfer_curve.sce"
		   ]
		  },
  {
"cell_type": "code",
	   "execution_count": null,
	   "metadata": {
	    "collapsed": true
	   },
	   "outputs": [],
"source": [
"// Exa 6.1\n",
"clc;\n",
"clear;\n",
"close;\n",
"// Given data\n",
"I_DSS = 10;// in mA\n",
"V_P = -4;// in V\n",
"V_GS= V_P:0.1:0\n",
"I_D = I_DSS * ((1 - (V_GS/V_P))^2);// in A\n",
"plot(V_GS,I_D);\n",
"xlabel('V_GS in volts');\n",
"ylabel('I_D in mA')\n",
"title('Transfer curve')\n",
"disp('The transfer curve shown in the figure.')"
   ]
   }
,
{
		   "cell_type": "markdown",
		   "metadata": {},
		   "source": [
			"## Example 6.2: Transfer_curve.sce"
		   ]
		  },
  {
"cell_type": "code",
	   "execution_count": null,
	   "metadata": {
	    "collapsed": true
	   },
	   "outputs": [],
"source": [
"// Exa 6.2\n",
"clc;\n",
"clear;\n",
"close;\n",
"// Given data\n",
"I_DSS = 4;// in mA\n",
"V_P = 3;// in V\n",
"V_GS= 0:0.1:V_P\n",
"I_D = I_DSS * ((1 - (V_GS/V_P))^2);// in A\n",
"plot(V_GS,I_D);\n",
"xlabel('V_GS in volts');\n",
"ylabel('I_D in mA')\n",
"title('Transfer curve')\n",
"disp('The transfer curve shown in the figure.')"
   ]
   }
,
{
		   "cell_type": "markdown",
		   "metadata": {},
		   "source": [
			"## Example 6.3: Value_of_ID.sce"
		   ]
		  },
  {
"cell_type": "code",
	   "execution_count": null,
	   "metadata": {
	    "collapsed": true
	   },
	   "outputs": [],
"source": [
"// Exa 6.3\n",
"clc;\n",
"clear;\n",
"close;\n",
"format('v',5)\n",
"// Given data\n",
"I_Don = 10;// in mA\n",
"I_Don = I_Don * 10^-3;// in A\n",
"V_GS = -12;// in V\n",
"V_GSt = -3;// in V\n",
"//From I_Don = Kn*((V_GS-V_GSt)^2);\n",
"Kn = I_Don/((V_GS-V_GSt)^2);// in A/V\n",
"Kn= Kn* 10^3;// in mA/V\n",
"V_GS = -6;// in V\n",
"I_D = Kn*((V_GS-V_GSt)^2);// in mA\n",
"disp(I_D,'The drain current in mA is');"
   ]
   }
,
{
		   "cell_type": "markdown",
		   "metadata": {},
		   "source": [
			"## Example 6.4: Minimum_value_of_VDS.sce"
		   ]
		  },
  {
"cell_type": "code",
	   "execution_count": null,
	   "metadata": {
	    "collapsed": true
	   },
	   "outputs": [],
"source": [
"// Exa 6.4\n",
"clc;\n",
"clear;\n",
"close;\n",
"format('v',6)\n",
"// Given data\n",
"I_DSS = 8;// in mA\n",
"I_DSS = I_DSS * 10^-3;// in A\n",
"V_P =-5;// in V\n",
"V_GS = -2;// in V\n",
"V_DSmin = V_GS - V_P;// in V\n",
"disp(V_DSmin,'The minimum value of V_DS in V is');\n",
"I_DS = I_DSS*((1 - (V_GS/V_P))^2);// in A\n",
"I_DS = I_DS * 10^3;// in mA\n",
"disp(I_DS,'The drain current in mA is');"
   ]
   }
,
{
		   "cell_type": "markdown",
		   "metadata": {},
		   "source": [
			"## Example 6.5: VGS_and_gm.sce"
		   ]
		  },
  {
"cell_type": "code",
	   "execution_count": null,
	   "metadata": {
	    "collapsed": true
	   },
	   "outputs": [],
"source": [
"// Exa 6.5\n",
"clc;\n",
"clear;\n",
"close;\n",
"format('v',6)\n",
"// Given data\n",
"I_DSS = 1.65;// in mA\n",
"I_DSS = I_DSS * 10^-3;// in A\n",
"V_P = -2;// in V\n",
"I_D = 0.8;// in mA\n",
"I_D = I_D * 10^-3;// in A\n",
"V_DD = 24;// in V\n",
"V_GS = V_P * (1 - sqrt( I_D/I_DSS ));// in V\n",
"disp(V_GS,'The value of V_GS in V is');\n",
"g_mo = -2 * (I_DSS*10^3/V_P);// in ms\n",
"g_m = g_mo * (1 - V_GS/V_P);// in ms\n",
"disp(g_m,'The value of g_m in ms is'); "
   ]
   }
,
{
		   "cell_type": "markdown",
		   "metadata": {},
		   "source": [
			"## Example 6.6: Drain_current.sce"
		   ]
		  },
  {
"cell_type": "code",
	   "execution_count": null,
	   "metadata": {
	    "collapsed": true
	   },
	   "outputs": [],
"source": [
"// Exa 6.6\n",
"clc;\n",
"clear;\n",
"close;\n",
"format('v',6)\n",
"// Given data\n",
"Vt = 2;// in V\n",
"unCox = 20;// in µA/V^2\n",
"Kdasn = unCox;// in µA/V^2\n",
"W = 100;// in µm\n",
"L = 10;// in µm\n",
"V_GS = 3;// in V\n",
"V_DS = 0.5;// in V\n",
"V_GS = 3;// in V\n",
"Vt = 2;// in V\n",
"del_V = V_GS-Vt;// in V\n",
"i_D = Kdasn*10^-6*(W/L)*( del_V*V_DS - 1/2*(V_DS^2) );// in A\n",
"i_D = i_D * 10^6;// in µA\n",
"disp('Part (a) For V_D= 0.5 V, NOMS is operating in Triode region.')\n",
"disp(i_D,'The drain current in µA is');\n",
"V_DS = 1;// in V\n",
"i_D = (1/2)* Kdasn*10^-6*(W/L)*( del_V^2 );// in A\n",
"i_D = i_D * 10^6;// in µA\n",
"disp('Part (b) For V_D= 1 V, NOMS is operating in saturation region.')\n",
"disp(i_D,'The drain current in µA is');\n",
"V_DS = 5;// in V\n",
"i_D = (1/2)* Kdasn*10^-6*(W/L)*( del_V^2 );// in A\n",
"i_D = i_D * 10^6;// in µA\n",
"disp('Part (c) For V_D= 5 V, NOMS is operating in saturation region.')\n",
"disp(i_D,'The drain current in µA is');"
   ]
   }
,
{
		   "cell_type": "markdown",
		   "metadata": {},
		   "source": [
			"## Example 6.7: Drain_to_source_resistance.sce"
		   ]
		  },
  {
"cell_type": "code",
	   "execution_count": null,
	   "metadata": {
	    "collapsed": true
	   },
	   "outputs": [],
"source": [
"// Exa 6.7\n",
"clc;\n",
"clear;\n",
"close;\n",
"format('v',6)\n",
"// Given data\n",
"Vt = 2;// in V\n",
"i_D = 1;// in mA\n",
"i_D = i_D * 10^-3;// in A\n",
"V_GS = 3;// in V\n",
"// From i_D= 1/2*KnwByL*(V_GS-Vt)^2\n",
"KnwByL= 2*i_D/(V_GS-Vt)^2;\n",
"V_GS= 4;// in V\n",
"V_DS= 5;// in V\n",
"i_D= 1/2*KnwByL*(V_GS-Vt)^2;// in A\n",
"i_D= i_D*10^3;// in mA\n",
"disp(i_D,'The value of i_D in mA is : ')\n",
"r_DS= 1/(KnwByL*(V_GS-Vt));// in ohm\n",
"disp(r_DS,'The value of drain to source resistance in ohm is : ')"
   ]
   }
,
{
		   "cell_type": "markdown",
		   "metadata": {},
		   "source": [
			"## Example 6.8: Minimum_VDS_required.sce"
		   ]
		  },
  {
"cell_type": "code",
	   "execution_count": null,
	   "metadata": {
	    "collapsed": true
	   },
	   "outputs": [],
"source": [
"// Exa 6.8\n",
"clc;\n",
"clear;\n",
"close;\n",
"format('v',6)\n",
"// Given data\n",
"Vt = -2;// in V\n",
"KnwByL = 2*10^-3;// in A/V^2\n",
"V_GS = 1;// in V\n",
"V_DS = V_GS-Vt;// in V\n",
"disp(V_DS,'The minimum value of V_DS in V is');\n",
"i_D = 1/2*KnwByL*V_DS^2;// in A\n",
"i_D = i_D * 10^3;// in mA\n",
"disp(i_D,'The value of i_D in mA is');"
   ]
   }
],
"metadata": {
		  "kernelspec": {
		   "display_name": "Scilab",
		   "language": "scilab",
		   "name": "scilab"
		  },
		  "language_info": {
		   "file_extension": ".sce",
		   "help_links": [
			{
			 "text": "MetaKernel Magics",
			 "url": "https://github.com/calysto/metakernel/blob/master/metakernel/magics/README.md"
			}
		   ],
		   "mimetype": "text/x-octave",
		   "name": "scilab",
		   "version": "0.7.1"
		  }
		 },
		 "nbformat": 4,
		 "nbformat_minor": 0
}
