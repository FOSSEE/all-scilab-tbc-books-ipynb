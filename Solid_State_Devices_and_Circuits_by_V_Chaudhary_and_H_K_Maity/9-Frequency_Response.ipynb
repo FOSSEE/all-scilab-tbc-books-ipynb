{
"cells": [
 {
		   "cell_type": "markdown",
	   "metadata": {},
	   "source": [
       "# Chapter 9: Frequency Response"
	   ]
	},
{
		   "cell_type": "markdown",
		   "metadata": {},
		   "source": [
			"## Example 9.2: Overall_voltage_gai.sce"
		   ]
		  },
  {
"cell_type": "code",
	   "execution_count": null,
	   "metadata": {
	    "collapsed": true
	   },
	   "outputs": [],
"source": [
"// Exa 9.2\n",
"clc;\n",
"clear;\n",
"close;\n",
"format('v',5)\n",
"// Given data\n",
"bita= 100;\n",
"V_B1= 5;// in V\n",
"V_E1= 4.3;// in V\n",
"R_E1= 4.3*10^3;// in ohm\n",
"V_E2= 3.6;// in V\n",
"R_E2= 3.6*10^3;// in ohm\n",
"R_C=4*10^3;// in ohm\n",
"R_L= 4*10^3;// in ohm\n",
"R1= 100*10^3;// in ohm\n",
"R2= 100*10^3;// in ohm\n",
"gm= 40*10^-3;// in A/V\n",
"re= 25;// in W\n",
"r_pie= 2.5*10^3;// in W\n",
"f_r= 400*10^6;// in Hz\n",
"C_miu= 2*10^-12;// in F\n",
"omega_T= 2*%pi*f_r;// in radian\n",
"Rin= 38*10^3;// in ohm\n",
"R_S= 4*10^3;// in ohm\n",
"R_pie1= 80;//in ohm\n",
"Ve1ByVb1= 0.98;// in V/V\n",
"I_E1= V_E1/R_E1;// in A\n",
"I_E2= V_E2/R_E2;// in A\n",
"// We know, C_pie + C_miu= gm/ometa_T or\n",
"C_Pie= gm/omega_T-C_miu;// in F\n",
"Vb1ByVs= Rin/(Rin+R_S);// in V/V\n",
"//Ve1ByVb1= R_E1*r_pie2/(R_E1*r_pie2)/(R_E1*r_pie2/(R_E1*r_pie2)+r_e1);\n",
"VeByVb1= R_E1*r_pie/(R_E1*r_pie)/(R_E1*r_pie/(R_E1*r_pie)+R_E1);// in V/V\n",
"// The gain of the common-emitter amplifier Q2\n",
"VoByVe1= -gm*R_C*R_L/(R_C+R_L);// in V/V\n",
"// The overall gain\n",
"VoByVs= Vb1ByVs*Ve1ByVb1*VoByVe1;// in V/V\n",
"RdeshS= R1*R2*R_S/(R1*R2+R2*R_S+R_S*R1);\n",
"RdeshE1= R_E1*r_pie/(R_E1+r_pie);// in k ohm\n",
"R_miu1= R_S*Rin/(R_S+Rin)*10^-3;// in k ohm\n",
"R_pi1= (r_pie*(RdeshS+RdeshE1)/(1+gm*RdeshE1))/r_pie+(RdeshS+RdeshE1)/(1+gm*RdeshE1);\n",
"R_T=round( RdeshE1*(r_pie+RdeshS)/(bita+1)/(RdeshE1+(r_pie+RdeshS)/(bita+1)));// in ohm\n",
"disp(VoByVs,'The overall voltage gain in V/V is : ')\n",
"disp(R_miu1,'The value of R_miu1 in ohm is : ')\n",
"disp(R_pie1,'The value of R_pie1 in ohm is : ')\n",
"disp(R_T,'The value of R_T in ohm is : ')"
   ]
   }
,
{
		   "cell_type": "markdown",
		   "metadata": {},
		   "source": [
			"## Example 9.3: Value_of_k.sce"
		   ]
		  },
  {
"cell_type": "code",
	   "execution_count": null,
	   "metadata": {
	    "collapsed": true
	   },
	   "outputs": [],
"source": [
"// Exa 9.3\n",
"clc;\n",
"clear;\n",
"close;\n",
"format('v',5)\n",
"// Given data\n",
"wH= '0.9*wp1';\n",
"wp2='wp1*k';\n",
"//wH= 1/sqrt(1/wp1^1+1/(k*wp1)^2)\n",
"k= sqrt(0.9^2/(1-0.9^2));\n",
"disp(k,'The value of k is : ')\n",
""
   ]
   }
,
{
		   "cell_type": "markdown",
		   "metadata": {},
		   "source": [
			"## Example 9.4: Value_of_Cs_and_gm.sce"
		   ]
		  },
  {
"cell_type": "code",
	   "execution_count": null,
	   "metadata": {
	    "collapsed": true
	   },
	   "outputs": [],
"source": [
"// Exa 9.4\n",
"clc;\n",
"clear;\n",
"close;\n",
"// Given data\n",
"Rs = 1;// in k ohm\n",
"Rs = Rs * 10^3;// in ohm\n",
"omega_z = 10;// in rad/sec\n",
"omega_p = 100;// in rad/sec\n",
"//omega_z = 1/(Rs*Cs);\n",
"Cs = 1/(Rs*omega_z);// in F\n",
"disp(Cs*10^6,'The value of Cs in µF is');\n",
"//omega_p = (g_m + (1/Rs))/Cs;\n",
"g_m = omega_p*Cs-1/Rs;// in A/V\n",
"g_m= g_m*10^3;// in mA/V\n",
"disp(g_m,'The value of g_m in mA/V is')\n",
"\n",
"// Note: The unit of g_m in the book is wrong. It will be in mA/V not in nA/V."
   ]
   }
],
"metadata": {
		  "kernelspec": {
		   "display_name": "Scilab",
		   "language": "scilab",
		   "name": "scilab"
		  },
		  "language_info": {
		   "file_extension": ".sce",
		   "help_links": [
			{
			 "text": "MetaKernel Magics",
			 "url": "https://github.com/calysto/metakernel/blob/master/metakernel/magics/README.md"
			}
		   ],
		   "mimetype": "text/x-octave",
		   "name": "scilab",
		   "version": "0.7.1"
		  }
		 },
		 "nbformat": 4,
		 "nbformat_minor": 0
}
