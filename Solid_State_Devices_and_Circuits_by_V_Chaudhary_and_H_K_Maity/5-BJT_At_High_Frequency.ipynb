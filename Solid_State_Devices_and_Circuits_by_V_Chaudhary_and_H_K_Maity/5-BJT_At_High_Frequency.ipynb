{
"cells": [
 {
		   "cell_type": "markdown",
	   "metadata": {},
	   "source": [
       "# Chapter 5: BJT At High Frequency"
	   ]
	},
{
		   "cell_type": "markdown",
		   "metadata": {},
		   "source": [
			"## Example 5.1: Parameter_of_hybrid_phi_model.sce"
		   ]
		  },
  {
"cell_type": "code",
	   "execution_count": null,
	   "metadata": {
	    "collapsed": true
	   },
	   "outputs": [],
"source": [
"// Exa 5.1\n",
"clc;\n",
"clear;\n",
"close;\n",
"format('v',6)\n",
"// Given data\n",
"I_C = 2;// in mA\n",
"I_C =I_C * 10^-3;// in A\n",
"V_CEQ = 20;// in V\n",
"h_fe = 100;\n",
"I_BQ = 20;// in µA\n",
"I_BQ = I_BQ * 10^-6;// in A\n",
"Beta = 100;\n",
"f_T = 50;// in MHz\n",
"f_T = f_T * 10^6;// in Hz\n",
"Cob = 3;// in pF\n",
"Cob = Cob * 10^-12;// in F\n",
"h_ie = 1400;// in ohm\n",
"T = 300;// in K\n",
"// (i) Transconductance\n",
"g_m = 11600*(I_C/T);// in S\n",
"g_m=g_m*10^6;// in µS\n",
"disp(g_m,'The transconductance in µS is');\n",
"// (ii) Input resistance\n",
"g_m=g_m*10^-6;// in S\n",
"r_be = h_fe/g_m; //in ohm \n",
"disp(r_be,'The input resistance in ohm is');\n",
"// (iii) Capacitance\n",
"Cbc = Cob ;// in F\n",
"Cbe = g_m/(2*%pi*f_T)-Cbc;// in F \n",
"Cbe= round(Cbe*10^12);// in pF\n",
"disp(Cbe,'The capacitance in pF is');\n",
"// (iv) Base Spreading Resistance\n",
"r_bb = round(h_ie - r_be);// in ohm\n",
"disp(r_bb,'The base spreading resistance in ohm is');"
   ]
   }
,
{
		   "cell_type": "markdown",
		   "metadata": {},
		   "source": [
			"## Example 5.2: Parameter_of_hybrid_phi_model.sce"
		   ]
		  },
  {
"cell_type": "code",
	   "execution_count": null,
	   "metadata": {
	    "collapsed": true
	   },
	   "outputs": [],
"source": [
"// Exa 5.2\n",
"clc;\n",
"clear;\n",
"close;\n",
"format('v',6)\n",
"// Given data\n",
"I_C = 10;// in mA\n",
"I_C =I_C * 10^-3;// in A\n",
"V_CE = 10;// in V\n",
"V_T= 26*10^-3;// in V\n",
"h_ie = 500;// in ohm\n",
"h_oe = 4*10^-5;// in S\n",
"h_fe  = 100;\n",
"g_be = 1/260;\n",
"h_re = 10^-4;\n",
"f_T = 50;// in MHz\n",
"f_T = f_T * 10^6;// in Hz\n",
"T = 300;// in K\n",
"Cob =3;// in pF\n",
"Cob = Cob * 10^-12;// in F\n",
"// (i) Transconductance\n",
"g_m = I_C/V_T;// in A/V\n",
"g_m= round(g_m*10^3);// in mA/V\n",
"disp(g_m,'The Transconductance in mA/V is');\n",
"// (ii) Input resistance\n",
"g_m= g_m*10^-3;// in A/V\n",
"r_be = round(h_fe/g_m);// in ohm\n",
"disp(r_be,'The input resistance in ohm is');\n",
"// (iii) Base spreading resistance \n",
"r_bb = h_ie - r_be;// in ohm\n",
"disp(r_bb,'The base spreading resistance in ohm is');\n",
"// (iv) The feedback conductance \n",
"format('e',8)\n",
"g_bc = h_re*g_be;\n",
"disp(g_bc,'The feedback conductance is');\n",
"// (v) The output conductance \n",
"g_ce = h_oe - (1+h_fe)*g_bc\n",
"disp(g_ce,'The output conductance is : ')\n",
"// (vi) Capacitance\n",
"format('v',6)\n",
"Cbe= g_m/(2*%pi*f_T);// in F\n",
"Cbe= Cbe*10^12;// in pF\n",
"disp(Cbe,'The value of C_b''e in pF is : ')\n",
"Cc= Cob;// in F\n",
"Cc= Cc*10^12\n",
"disp(Cc,'The value of Cc in pF is : ')"
   ]
   }
,
{
		   "cell_type": "markdown",
		   "metadata": {},
		   "source": [
			"## Example 5.3: Emitter_diffusion_capacitance.sce"
		   ]
		  },
  {
"cell_type": "code",
	   "execution_count": null,
	   "metadata": {
	    "collapsed": true
	   },
	   "outputs": [],
"source": [
"// Exa 5.3\n",
"clc;\n",
"clear;\n",
"close;\n",
"format('v',5)\n",
"// Given data\n",
"W = 10^-6;// in m\n",
"I_E =2;// in mA\n",
"I_E = I_E * 10^-3;// in A\n",
"V_T = 26;// in mV\n",
"V_T = V_T * 10^-3;// in V\n",
"D_B = 47*10^-4;\n",
"//g_m = abs(I_C)/V_T = abs(I_E)/V_T;\n",
"// The emitter diffusion capacitance, Cbe = g_m*((W^2)/(2*D_B));\n",
"Cbe = I_E/V_T*W^2/(2*D_B);// F\n",
"Cbe= Cbe*10^12;// in pF\n",
"disp(Cbe,'The emitter diffusion capacitance in pF is');\n",
"Cbe= Cbe*10^-12;// in F\n",
"g_m = abs(I_E)/V_T;\n",
"// The transition frequency \n",
"f_T = g_m/(2*%pi*Cbe);// in Hz\n",
"f_T = f_T * 10^-6;// in MHz\n",
"disp(f_T,'The transition frequency in MHz is');\n",
"\n",
"// Note: The answer in the book is not accurate."
   ]
   }
,
{
		   "cell_type": "markdown",
		   "metadata": {},
		   "source": [
			"## Example 5.4: Bita_cutoff_frequency_and_gain_bandwidth_product.sce"
		   ]
		  },
  {
"cell_type": "code",
	   "execution_count": null,
	   "metadata": {
	    "collapsed": true
	   },
	   "outputs": [],
"source": [
"// Exa 5.4\n",
"clc;\n",
"clear;\n",
"close;\n",
"// Given data\n",
"I_CQ = 5;// in mA\n",
"I_CQ = I_CQ * 10^-3;// in A\n",
"V_VEQ = 10;// in V\n",
"h_ie = 600;// in ohm\n",
"h_fe = 100;\n",
"C_C = 3;// in pF\n",
"C_C = C_C * 10^-12;// in F\n",
"Ai = 10;// Ai(f)\n",
"f = 10;// in MHz\n",
"// Ai = h_fe/( sqrt( 1 + ((f/f_Beta)^2) ) );\n",
"f_Beta = f/(sqrt( ((h_fe/Ai)^2) - 1 ));// in MHz\n",
"disp(f_Beta,'The Beta cut off frequency in MHz is');\n",
"f_T = h_fe*f_Beta;// in MHz\n",
"disp(f_T,'The gain bandwidth product in MHz is');\n",
"g_m = 0.1923;\n",
"Ce = g_m/(2*%pi*f_T*10^6);// in F\n",
"disp(Ce,'The value of Ce in F is');\n",
"Cbe= Ce;// in F\n",
"disp(Cbe*10^12,'The value of C_b''e in pF is : ')\n",
"r_be = h_fe/g_m;// in ohm\n",
"disp(r_be,'The value of r_b''e in ohm is');\n",
"r_bb = h_ie - r_be;// in ohm\n",
"disp(r_bb,'The value of r_bb'' in ohm is');"
   ]
   }
,
{
		   "cell_type": "markdown",
		   "metadata": {},
		   "source": [
			"## Example 5.5: Base_width_of_Si_pnp_transistor.sce"
		   ]
		  },
  {
"cell_type": "code",
	   "execution_count": null,
	   "metadata": {
	    "collapsed": true
	   },
	   "outputs": [],
"source": [
"// Exa 5.5\n",
"clc;\n",
"clear;\n",
"close;\n",
"// Given data\n",
"f_T = 400;// in MHz\n",
"D_Beta = 13;// in cm^2/sec\n",
"//Ce = (g_m*(W^2))/(2*D_B), so\n",
"//f_T = (g_m/(2*%pi))*( (2*D_B)/(g_m*(W^2)) ) = D_B/(%pi*(W^2));\n",
"W = sqrt( D_Beta/(%pi*f_T*10^6) );// in cm\n",
"W = W * 10^4;// in µm\n",
"disp(W,'The base width of silicon transistor in µm is');"
   ]
   }
,
{
		   "cell_type": "markdown",
		   "metadata": {},
		   "source": [
			"## Example 5.6: Ce_and_fT.sce"
		   ]
		  },
  {
"cell_type": "code",
	   "execution_count": null,
	   "metadata": {
	    "collapsed": true
	   },
	   "outputs": [],
"source": [
"// Exa 5.6\n",
"clc;\n",
"clear;\n",
"close;\n",
"format('v',5)\n",
"// Given data\n",
"D_B = 47;// in cm^2/sec\n",
"I_C = 2;// in mA\n",
"I_C = I_C * 10^-3;// in A\n",
"V_CEQ = 15;// in V\n",
"W = 1;// in µm\n",
"W = W * 10^-4;// in cm\n",
"V_T = 0.026;// in V\n",
"g_m =I_C/(abs(V_T));// in ohm\n",
"Ce = (g_m*(W^2))/(2*D_B);// in F\n",
"Ce = Ce * 10^12;// in pF\n",
"disp(Ce,'The value of Ce in pF is');\n",
"f_T = g_m/(2*%pi*Ce*10^-12);// in Hz\n",
"f_T = f_T * 10^-6;// in MHz\n",
"disp(f_T,'The value of f_T in MHz is');"
   ]
   }
],
"metadata": {
		  "kernelspec": {
		   "display_name": "Scilab",
		   "language": "scilab",
		   "name": "scilab"
		  },
		  "language_info": {
		   "file_extension": ".sce",
		   "help_links": [
			{
			 "text": "MetaKernel Magics",
			 "url": "https://github.com/calysto/metakernel/blob/master/metakernel/magics/README.md"
			}
		   ],
		   "mimetype": "text/x-octave",
		   "name": "scilab",
		   "version": "0.7.1"
		  }
		 },
		 "nbformat": 4,
		 "nbformat_minor": 0
}
