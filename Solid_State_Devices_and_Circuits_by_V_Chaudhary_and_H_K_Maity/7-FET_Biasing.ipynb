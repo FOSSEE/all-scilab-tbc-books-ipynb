{
"cells": [
 {
		   "cell_type": "markdown",
	   "metadata": {},
	   "source": [
       "# Chapter 7: FET Biasing"
	   ]
	},
{
		   "cell_type": "markdown",
		   "metadata": {},
		   "source": [
			"## Example 7.10: Value_of_Vo.sce"
		   ]
		  },
  {
"cell_type": "code",
	   "execution_count": null,
	   "metadata": {
	    "collapsed": true
	   },
	   "outputs": [],
"source": [
"// Exa 7.10\n",
"clc;\n",
"clear;\n",
"close;\n",
"format('v',5)\n",
"// Given data\n",
"I_DSS = 5.6;// in mA\n",
"I_DSS = I_DSS * 10^-3;// in A\n",
"V_P = 4;// in V\n",
"Vi = 0;// in V\n",
"V_CC = 12;// in V\n",
"R_D = 10;// in  k ohm\n",
"R_D = R_D * 10^3;// in ohm\n",
"R_S= 10*10^3;// in ohm\n",
"I_D= poly(0,'I_D');\n",
"V_GS= I_D*R_D-V_CC;// in V\n",
"I_D= I_D-I_DSS*(1-V_GS/V_P)^2;// in A\n",
"I_D= roots(I_D);// in A\n",
"I_D= I_D(2);// in A\n",
"V_GS= I_D*R_D-V_CC;// in V\n",
"Vo= V_CC-I_D*R_S;// in V\n",
"I_D= I_D*10^3;// in mA\n",
"disp(I_D,'The value of I_D in mA is : ')\n",
"disp(Vo,'The value of Vo in volts is : ')\n",
"\n",
"// Note: In the book, there is calculation error to find the value of I_D this is why the value of Vo is also wrong."
   ]
   }
,
{
		   "cell_type": "markdown",
		   "metadata": {},
		   "source": [
			"## Example 7.11: Value_of_Vo.sce"
		   ]
		  },
  {
"cell_type": "code",
	   "execution_count": null,
	   "metadata": {
	    "collapsed": true
	   },
	   "outputs": [],
"source": [
"// Exa 7.11\n",
"clc;\n",
"clear;\n",
"close;\n",
"format('v',6)\n",
"// Given data\n",
"I_DSS = 5.6;// in mA\n",
"I_DSS = I_DSS * 10^-3;// in A\n",
"V_P = -4;// in V\n",
"R_S = 10;// in k ohm\n",
"R_S = R_S * 10^3;// in ohm\n",
"R_D = 4.7;// in k ohm\n",
"R_D = R_D * 10^3;// in ohm\n",
"V_CC = 12;// in V\n",
"V_DD = 22;// in V\n",
"// (a) Calculation to find the value of Vo at Vi = 0 V\n",
"Vi = 0;// in V\n",
"V_GS= poly(0,'V_GS');\n",
"I_D= (V_CC-V_GS)/R_S;// in A\n",
"V_GS= I_D-I_DSS*(1-V_GS/V_P)^2;// in A\n",
"V_GS= roots(V_GS)\n",
"V_GS= V_GS(2);// in V\n",
"I_D= (V_CC-V_GS)/R_S;// in A\n",
"Vo= Vi-V_GS;// in V\n",
"disp(Vo,'For Vi=0 V, The value of Vo in volts is ; ')\n",
"\n",
"// (a) Calculation to find the value of Vo at Vi = 10 V\n",
"Vi = 10;// in V\n",
"V_GS= poly(0,'V_GS');\n",
"I_D= (V_DD-V_GS)/R_S;// in A\n",
"V_GS= I_D-I_DSS*(1-V_GS/V_P)^2;// in A\n",
"V_GS= roots(V_GS)\n",
"V_GS= V_GS(2);// in V\n",
"I_D= (V_CC-V_GS)/R_S;// in A\n",
"Vo= Vi-V_GS;// in V\n",
"disp(Vo,'For Vi=10 V, The value of Vo in volts is ; ')\n",
"\n",
"// (a) Calculation to find the value of Vi at Vo = 10 V\n",
"Vo= 0;// in V\n",
"I_D= V_CC/R_S;// in A\n",
"V_GS= V_P*(1-sqrt(I_D/I_DSS));// in V\n",
"Vi= V_GS+Vo;// in V\n",
"disp(Vi,'For Vo=0 V, The value of Vi in volts is ; ')\n",
""
   ]
   }
,
{
		   "cell_type": "markdown",
		   "metadata": {},
		   "source": [
			"## Example 7.12: Quuiescent_value_of_IDS_VDS_and_VGS.sce"
		   ]
		  },
  {
"cell_type": "code",
	   "execution_count": null,
	   "metadata": {
	    "collapsed": true
	   },
	   "outputs": [],
"source": [
"// Exa 7.12\n",
"clc;\n",
"clear;\n",
"close;\n",
"format('v',6)\n",
"// Given data\n",
"I_DSS = 12;// in mA\n",
"V_P = 5;// in V\n",
"R_D = 3.3;// in k ohm\n",
"R_G = 1.5*10^3;// in k ohm\n",
"R_S = 1.2;// in k ohm\n",
"V_DD= 18;// in V\n",
"I_D= poly(0,'I_D');\n",
"V_GS= I_D*R_S;// in V\n",
"I_D= I_D-I_DSS*(1-V_GS/V_P)^2;\n",
"I_D= roots(I_D);\n",
"I_D= I_D(2);// in mA\n",
"V_GS= I_D*R_S;// in V\n",
"V_DS= V_DD-I_D*(R_S+R_D);// in V\n",
"disp(I_D,'The value of I_D in mA is : ')\n",
"disp(V_GS,'The value of V_GS in volts is : ');\n",
"disp(V_DS,'The value of V_DS in volts is : ')"
   ]
   }
,
{
		   "cell_type": "markdown",
		   "metadata": {},
		   "source": [
			"## Example 7.13: Value_of_rDS.sce"
		   ]
		  },
  {
"cell_type": "code",
	   "execution_count": null,
	   "metadata": {
	    "collapsed": true
	   },
	   "outputs": [],
"source": [
"// Exa 7.13\n",
"clc;\n",
"clear;\n",
"close;\n",
"format('v',6)\n",
"// Given data\n",
"Vt = -1;// in V\n",
"KnWbyL = 1*10^-3;// in A/V^2\n",
"V_DS = 0.1;// in V\n",
"V_GS = 0;// in V\n",
"I_D = ( (V_GS-Vt)*V_DS-1/2*KnWbyL );// in mA\n",
"V = 9.9;// in V\n",
"R_D = V/I_D;// in k ohm\n",
"R_D= ceil(R_D);// in k ohm\n",
"disp(R_D,'The value of R_D in k ohm is : ')\n",
"V_DS = 0.1;// in V\n",
"r_DS = V_DS/(I_D*10^-3);// in ohm\n",
"r_DS= round(r_DS*10^-3);// in k ohm\n",
"disp(r_DS,'Effective resistance between source and drain in k ohm is');"
   ]
   }
,
{
		   "cell_type": "markdown",
		   "metadata": {},
		   "source": [
			"## Example 7.14: Value_of_RS.sce"
		   ]
		  },
  {
"cell_type": "code",
	   "execution_count": null,
	   "metadata": {
	    "collapsed": true
	   },
	   "outputs": [],
"source": [
"// Exa 7.14\n",
"clc;\n",
"clear;\n",
"close;\n",
"format('v',6)\n",
"// Given data\n",
"V_DD = 5;// in V\n",
"V_SS = -5;// in V\n",
"Vt = 2;// in V\n",
"I_D = 0.4;// in mA\n",
"I_D = I_D * 10^-3;// in A\n",
"miu_nCox=20*10^-6;// in A/V^2\n",
"W = 400;// in µm\n",
"L = 10;// in µm\n",
"V_GS= poly(0,'V_GS');\n",
"V_GS=I_D-(1/2)*miu_nCox*(W/L)*( (V_GS-Vt)^2 );\n",
"V_GS= roots(V_GS)\n",
"V_GS= V_GS(1);// in V\n",
"V_S= -V_GS;// in V\n",
"R_S = (V_S-V_SS)/I_D;// in ohm\n",
"R_S = R_S * 10^-3;// in k ohm\n",
"disp(R_S,'The value of R_S in k ohm is');\n",
"V_D = 1;// in V\n",
"R_D = (V_DD-V_D)/I_D;// in ohm\n",
"R_D = R_D * 10^-3;// in k ohm\n",
"disp(R_D,'The value of R_D in k ohm is');"
   ]
   }
,
{
		   "cell_type": "markdown",
		   "metadata": {},
		   "source": [
			"## Example 7.15: Designing_of_a_circuit.sce"
		   ]
		  },
  {
"cell_type": "code",
	   "execution_count": null,
	   "metadata": {
	    "collapsed": true
	   },
	   "outputs": [],
"source": [
"// Exa 7.15\n",
"clc;\n",
"clear;\n",
"close;\n",
"format('v',6)\n",
"// Given data\n",
"I_D= 0.4*10^-3;// in A\n",
"Vt = 2;// in V\n",
"miu_nCox = 20*10^-6;// in A/V^2\n",
"L = 10;// in µm\n",
"W = 100;// in µm\n",
"V_GS= poly(0,'V_GS');\n",
"V_GS= I_D - (1/2)*miu_nCox*(W/L)*( (V_GS-Vt)^2 );\n",
"V_GS= roots(V_GS)\n",
"V_GS= V_GS(1);// in V\n",
"V_D = V_GS;// in V\n",
"disp(V_D,'The DC voltage in V is');\n",
"V_DD = 10;// in v\n",
"R = (V_DD - V_D)/I_D;// in ohm\n",
"R = R * 10^-3;// in k ohm\n",
"disp(R,'The value R in k ohm is');"
   ]
   }
,
{
		   "cell_type": "markdown",
		   "metadata": {},
		   "source": [
			"## Example 7.16: Designing_of_a_circuit.sce"
		   ]
		  },
  {
"cell_type": "code",
	   "execution_count": null,
	   "metadata": {
	    "collapsed": true
	   },
	   "outputs": [],
"source": [
"// Exa 7.16\n",
"clc;\n",
"clear;\n",
"close;\n",
"format('v',6)\n",
"// Given data\n",
"Vt =  1;// in V\n",
"KnWbyL= 10*10^-3;// in A/V^2\n",
"V_DD = 5;// in V\n",
"V_D = 0.1;// in V\n",
"I_D = Vt*( (V_DD-Vt)*V_D - 1/2*KnWbyL );// in mA \n",
"R_D = (V_DD-V_D)/(I_D*10^-3);// in ohm\n",
"R_D= R_D*10^-3;// in k ohm\n",
"disp(R_D,'The value of R_D in k ohm is : ')\n",
"V_DS = 0.1;// in V\n",
"r_DS =round(V_DS/(I_D*10^-3));// in ohm\n",
"disp(r_DS,'Effective resistance between drain and the source in ohm is');"
   ]
   }
,
{
		   "cell_type": "markdown",
		   "metadata": {},
		   "source": [
			"## Example 7.17: Designing_of_a_circuit.sce"
		   ]
		  },
  {
"cell_type": "code",
	   "execution_count": null,
	   "metadata": {
	    "collapsed": true
	   },
	   "outputs": [],
"source": [
"// Exa 7.17\n",
"clc;\n",
"clear;\n",
"close;\n",
"format('v',6)\n",
"// Given data\n",
"I_D = 0.5;// in mA\n",
"V_D = 3;// in V\n",
"Vt = -1;// in v\n",
"KnWbyL = 1;// in mA/V^2\n",
"V_DD = 5;// in V\n",
"V_D = 3;// in v\n",
"V_GS= poly(0,'V_GS');\n",
"V_GS= I_D -1/2*KnWbyL*(V_GS-Vt)^2;// in V\n",
"V_GS= roots(V_GS)// in V\n",
"V_GS= V_GS(1);// in V\n",
"R_G1 = 2;// in Mohm\n",
"R_G1 = R_G1 * 10^6;// in ohm\n",
"R_G2 = 3;// in Mohm\n",
"R_G2 = R_G2 * 10^6;// in ohm\n",
"V_GS = -2;// in V\n",
"R_D = V_D/I_D;// in k ohm\n",
"V_Dmax = V_D+abs(Vt);// in V\n",
"R_D = V_Dmax/I_D;// in k ohm\n",
"disp(R_D,'The largest value of R_D in k ohm is');"
   ]
   }
,
{
		   "cell_type": "markdown",
		   "metadata": {},
		   "source": [
			"## Example 7.1: Different_values_of_VGSQ_IDQ_and_VDS.sce"
		   ]
		  },
  {
"cell_type": "code",
	   "execution_count": null,
	   "metadata": {
	    "collapsed": true
	   },
	   "outputs": [],
"source": [
"// Exa 7.1\n",
"clc;\n",
"clear;\n",
"close;\n",
"format('v',6)\n",
"// Given data\n",
"I_DSS = 8;// in mA\n",
"I_DSS = I_DSS * 10^-3;// in A\n",
"V_P = -8;// in V\n",
"V_DD = 16;// in V\n",
"R_D = 2;// in k ohm\n",
"R_D = R_D * 10^3;// in ohm\n",
"V_GG = 2;// in V\n",
"R_G = 1;// in Mohm\n",
"R_G = R_G * 10^6;// in ohm\n",
"I_G = 0;\n",
"// To calculate V_GS\n",
"V_GS = -V_GG;// in V\n",
"disp(V_GS,'The value of V_GS in V is');\n",
"// To calculate the drain current\n",
"I_DQ =I_DSS*((1 - (V_GS/V_P))^2);// in A\n",
"I_DQ = I_DQ * 10^3;// in mA\n",
"disp(I_DQ,'The value of I_DQ in mA is');\n",
"// To calculate V_DS\n",
"// V_DD = I_D*R_D + V_DS;\n",
"V_DS = V_DD - (I_DQ*10^-3*R_D);// in V\n",
"disp(V_DS,'The value of V_DS in V is');"
   ]
   }
,
{
		   "cell_type": "markdown",
		   "metadata": {},
		   "source": [
			"## Example 7.2: VGSQ_IDQ_and_VDS.sce"
		   ]
		  },
  {
"cell_type": "code",
	   "execution_count": null,
	   "metadata": {
	    "collapsed": true
	   },
	   "outputs": [],
"source": [
"// Exa 7.2\n",
"clc;\n",
"clear;\n",
"close;\n",
"format('v',6)\n",
"// Given data\n",
"I_DSS = 10;// in mA\n",
"I_DSS = I_DSS * 10^-3;// in A\n",
"V_P = -4;// in V\n",
"V_DD= 20;// in V\n",
"R_S = 1;// in k ohm\n",
"R_S = R_S * 10^3;// in ohm\n",
"R_D = 2.7;// in k ohm\n",
"R_D = R_D * 10^3;// in ohm\n",
"I_DQ= poly(0,'I_DQ');\n",
"V_GS= -I_DQ*R_S;// in V\n",
"I_DQ= I_DQ-I_DSS*(1-V_GS/V_P)^2;// in A\n",
"I_DQ= roots(I_DQ);// in A\n",
"I_DQ= I_DQ(2);// in A\n",
"I_DQ= I_DQ*10^3;// in mA\n",
"disp(I_DQ,'The value of I_DQ in mA is : ')\n",
"I_DQ= I_DQ*10^-3;// in A\n",
"V_GSQ= -I_DQ*R_S;// in V\n",
"disp(V_GSQ,'The value of V_GSQ in volts is : ')\n",
"V_DS= V_DD-I_DQ*(R_D+R_S);// in V\n",
"disp(V_DS,'The value of V_DS in volts is : ')"
   ]
   }
,
{
		   "cell_type": "markdown",
		   "metadata": {},
		   "source": [
			"## Example 7.3: W_by_L_ratio.sce"
		   ]
		  },
  {
"cell_type": "code",
	   "execution_count": null,
	   "metadata": {
	    "collapsed": true
	   },
	   "outputs": [],
"source": [
"// Exa 7.3\n",
"clc;\n",
"clear;\n",
"close;\n",
"format('v',6)\n",
"// Given data\n",
"Kn = 20*10^-3;// in A/V^2\n",
"Vt = -1;// in V\n",
"V_DD = 5;// in V\n",
"I_D = 100;// in mA\n",
"I_D= I_D*10^-3;// in A\n",
"V_GS = 0;// in V\n",
"// I_D = (1/2)*Kdasn*(W/L)*((V_GS-Vt)^2);\n",
"WbyL = (I_D*2)/(Kn*((V_GS-Vt)^2));\n",
"disp(WbyL,'The (W/L) ratio is');\n",
"V_DS = V_GS-Vt;// in V\n",
"V_Dmin = V_DS;// in V\n",
"R_Dmax = (V_DD-V_Dmin)/I_D;// in ohm\n",
"disp('The range of R_D is : 0 to '+string(R_Dmax)+' Ω');\n",
"\n",
"//Note: The unit of R_Dmax in the book is wrong."
   ]
   }
,
{
		   "cell_type": "markdown",
		   "metadata": {},
		   "source": [
			"## Example 7.5: IDQ_and_VDSQ.sce"
		   ]
		  },
  {
"cell_type": "code",
	   "execution_count": null,
	   "metadata": {
	    "collapsed": true
	   },
	   "outputs": [],
"source": [
"// Exa 7.5\n",
"clc;\n",
"clear;\n",
"close;\n",
"format('e',8)\n",
"// Given data\n",
"I_Don = 6;// in mA\n",
"I_Don = I_Don * 10^-3;// in A\n",
"V_GSon = 8;// in V\n",
"Vt = 3;// in V\n",
"V_DD = 12;// in V\n",
"R_D= 2*10^3;// in ohm\n",
"// (i) To obtain the value of K\n",
"K = I_Don/( (V_GSon-Vt)^2 );// in A/V^2\n",
"disp(K,'The value of K in A/V^2 is');\n",
"format('v',7)\n",
"// To obtain the value of I_DQ\n",
"I_D= poly(0,'I_D');\n",
"V_GS= V_DD-I_D*R_D;// in V\n",
"I_D= I_D-K*(V_GS-Vt)^2;// in A\n",
"I_D= roots(I_D);// inA\n",
"I_D= I_D(2);// in A\n",
"I_D= I_D*10^3;// in mA\n",
"disp(I_D,'The value of I_D in mA is : ')\n",
"I_D= I_D*10^-3;// in A\n",
"// (iii) To obtain the value of V_DSQ\n",
"V_DSQ= V_DD-I_D*R_D;// in V\n",
"disp(V_DSQ,'The value of V_DSQ in volts is : ')"
   ]
   }
,
{
		   "cell_type": "markdown",
		   "metadata": {},
		   "source": [
			"## Example 7.6: IDQ_VGSQ_and_VDS.sce"
		   ]
		  },
  {
"cell_type": "code",
	   "execution_count": null,
	   "metadata": {
	    "collapsed": true
	   },
	   "outputs": [],
"source": [
"// Exa 7.6\n",
"clc;\n",
"clear;\n",
"close;\n",
"format('v',6)\n",
"// Given data\n",
"V_DD = 40;// in V\n",
"Vt = 5;// in V\n",
"R_D= 820;// in ohm\n",
"I_Don = 3;// in mA\n",
"I_Don = I_Don * 10^-3;// in A\n",
"V_GSon = 10;// in V \n",
"K = I_Don/( (V_GSon-Vt)^2 );// in A/V^2\n",
"R2 = 18;// in Mohm\n",
"R2 = R2 * 10^6;// in ohm\n",
"R1 = 22;// in Mohm\n",
"R1 = R1 * 10^6;// in ohm\n",
"R_S = 3*10^3;// in ohm\n",
"I_D= poly(0,'I_D');\n",
"V_G= R2/(R1+R2)*V_DD;\n",
"V_GS= V_G-I_D*R_D;// in V\n",
"I_D= I_D-K*(V_GS-Vt)^2;// in A\n",
"I_D= roots(I_D);// inA\n",
"I_D= I_D(2);// in A\n",
"I_D= I_D*10^3;// in mA\n",
"disp(I_D,'The value of I_D in mA is : ')\n",
"I_D= I_D*10^-3;// in A\n",
"V_GSQ= V_G-I_D*R_D;// in V\n",
"disp(V_GSQ,'The value of V_GSQ in volts is : ')\n",
"V_DSQ= V_DD-I_D*(R_D+R_S);// in V\n",
"disp(V_DSQ,'The value of V_DSQ in volts is : ')"
   ]
   }
,
{
		   "cell_type": "markdown",
		   "metadata": {},
		   "source": [
			"## Example 7.7: Value_of_RS.sce"
		   ]
		  },
  {
"cell_type": "code",
	   "execution_count": null,
	   "metadata": {
	    "collapsed": true
	   },
	   "outputs": [],
"source": [
"// Exa 7.7\n",
"clc;\n",
"clear;\n",
"close;\n",
"format('v',5)\n",
"// Given data\n",
"V_D = 12;// in V\n",
"V_GSQ = -2;// in V\n",
"V_DD = 16;// in V\n",
"R1 = 47;// in k ohm\n",
"R1 = R1 * 10^3;// in ohm\n",
"R2 = 91;// in k ohm\n",
"R2 = R2 * 10^3;// in ohm\n",
"V_G = (R1*V_DD)/(R1+R2);// in V \n",
"R_D = 1.8;// in k ohm\n",
"R_D = R_D * 10^3;// in ohm\n",
"I_D = (V_DD-V_D)/R_D;// in A\n",
"I_D = I_D * 10^3;// in mA\n",
"// V_GS = V_G - (I_D*R_S);\n",
"R_S = (V_G-V_GSQ)/(I_D*10^-3);// in ohm\n",
"R_S = R_S * 10^-3;// in k ohm\n",
"disp(R_S,'The value of R_S in k ohm is');"
   ]
   }
,
{
		   "cell_type": "markdown",
		   "metadata": {},
		   "source": [
			"## Example 7.8: VG_and_VSS.sce"
		   ]
		  },
  {
"cell_type": "code",
	   "execution_count": null,
	   "metadata": {
	    "collapsed": true
	   },
	   "outputs": [],
"source": [
"// Exa 7.8\n",
"clc;\n",
"clear;\n",
"close;\n",
"format('v',5)\n",
"// Given data\n",
"I_D = 12*10^-3;// in A\n",
"V_DS = 6;// in V\n",
"V_P = 3;// in V\n",
"R_SS= 1*10^3;// in ohm\n",
"I_DSS = 20*10^-3;// in A\n",
"V_GS= poly(0,'V_GS');\n",
"V_GS= I_D-I_DSS*(1-V_GS/V_P)^2;\n",
"V_GS= roots(V_GS);// in V\n",
"V_GS= V_GS(1);// in V\n",
"disp(V_GS,'The value of V_GS in volts is : ')\n",
"// Applying KVL on it's input section, V_G= V_GS+I_D*R_SS+V_SS or\n",
"// I_D*RSS+V_SS= V_G-V_GS   (i)\n",
"// V_DS+I_D*R_SS+V_SS= 0      (ii)\n",
"// From eq (i) and (ii)\n",
"V_G= V_GS-V_DS;// in V\n",
"disp(V_G,'The value of V_G in volts is : ')\n",
"V_SS= V_G-V_GS-I_D*R_SS;// in V\n",
"disp(V_SS,'The value of V_SS in V is : ')"
   ]
   }
,
{
		   "cell_type": "markdown",
		   "metadata": {},
		   "source": [
			"## Example 7.9: IDQ_VGSQ_VD_VS_VDS_and_VDG.sce"
		   ]
		  },
  {
"cell_type": "code",
	   "execution_count": null,
	   "metadata": {
	    "collapsed": true
	   },
	   "outputs": [],
"source": [
"// Exa 7.9\n",
"clc;\n",
"clear;\n",
"close;\n",
"format('v',6)\n",
"// Given data\n",
"I_DSS = 8;// in mA\n",
"I_DSS = I_DSS * 10^-3;// in A\n",
"V_P = -4;// in V\n",
"V_DD = 16;// in V\n",
"R2 = 270;// in k ohm\n",
"R2 = R2 * 10^3;// in ohm\n",
"R1 = 2.1;// in Mohm\n",
"R1 = R1 * 10^6;// in ohm\n",
"R_S = 1.5;// in k ohm\n",
"R_S = R_S * 10^3;// in ohm\n",
"R_D = 2.4;// in k ohm\n",
"R_D = R_D * 10^3;// in ohm\n",
"V_G = (R2*V_DD)/(R1+R2);// in V\n",
"//V_GS = V_G - (I_D*R_S);\n",
"V_GS = V_G;// in V (at I_D=0 A)\n",
"I_D = V_G/R_S;// in A (at V_GS=0 V)\n",
"I_D = I_D * 10^3;// in mA\n",
"I_DQ = 2.4;// in mA\n",
"V_GSQ = -1.8;// in V\n",
"V_D = V_DD - (I_DQ*10^-3*R_D);// in V\n",
"V_S = I_DQ*10^-3*R_S;// in V\n",
"V_DS = V_DD - (I_DQ*10^-3*(R_S+R_D));// in V\n",
"V_DG = V_D-V_G;// in V\n",
"disp(I_DQ,'The value of I_DQ in mA is');\n",
"disp(V_GSQ,'The value of V_GSQ in V is');\n",
"disp(V_D,'The value of V_D in V is');\n",
"disp(V_S,'The value of V_S in V is');\n",
"disp(V_DS,'The value of V_DS in V is');\n",
"disp(V_DG,'The value of V_DG in V is');"
   ]
   }
],
"metadata": {
		  "kernelspec": {
		   "display_name": "Scilab",
		   "language": "scilab",
		   "name": "scilab"
		  },
		  "language_info": {
		   "file_extension": ".sce",
		   "help_links": [
			{
			 "text": "MetaKernel Magics",
			 "url": "https://github.com/calysto/metakernel/blob/master/metakernel/magics/README.md"
			}
		   ],
		   "mimetype": "text/x-octave",
		   "name": "scilab",
		   "version": "0.7.1"
		  }
		 },
		 "nbformat": 4,
		 "nbformat_minor": 0
}
