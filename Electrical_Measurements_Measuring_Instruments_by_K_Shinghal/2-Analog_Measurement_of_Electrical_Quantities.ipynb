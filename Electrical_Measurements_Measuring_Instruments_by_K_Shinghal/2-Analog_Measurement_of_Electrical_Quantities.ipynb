{
"cells": [
 {
		   "cell_type": "markdown",
	   "metadata": {},
	   "source": [
       "# Chapter 2: Analog Measurement of Electrical Quantities"
	   ]
	},
{
		   "cell_type": "markdown",
		   "metadata": {},
		   "source": [
			"## Example 2.10: impedance_power_and_power_factor.sce"
		   ]
		  },
  {
"cell_type": "code",
	   "execution_count": null,
	   "metadata": {
	    "collapsed": true
	   },
	   "outputs": [],
"source": [
"//Example 2.10://load impedance and combination impedance\n",
"clc;\n",
"clear;\n",
"close;\n",
"v3=80;//volts\n",
"i=4;//amperes\n",
"zl=v3/i;//ohms\n",
"v1=140;//volts\n",
"z=v1/i;//ohms\n",
"disp(zl,'load impedance in ohm is')\n",
"disp(z,'impedance of combination in ohm is')\n",
"v2=75;//volts (it is given 72 in the textbook)\n",
"r=v2/i;//\n",
"pl=((v1^2-v2^2-v3^2)/(2*r));//watts\n",
"pr=i^2*r;//watts\n",
"disp(pl,'power absorbed by the load is,(W)=')\n",
"disp(pr,'power absorbed by the non inductive resistor is,(W)=')\n",
"pfl=((v1^2-v2^2-v3^2)/(2*v2*v3));//power factor of the load\n",
"tp=pr+pl;//total power in watts\n",
"pfc=tp/(v1*i);//power factor\n",
"format('v',5)\n",
"disp(pfl,'power factor of load is')\n",
"format('v',4)\n",
"disp(pfc,'power factor of the whole circuit is')"
   ]
   }
,
{
		   "cell_type": "markdown",
		   "metadata": {},
		   "source": [
			"## Example 2.11: wattmeter_reading.sce"
		   ]
		  },
  {
"cell_type": "code",
	   "execution_count": null,
	   "metadata": {
	    "collapsed": true
	   },
	   "outputs": [],
"source": [
"//Example 2.11://wattmeters readings\n",
"clc;\n",
"clear;\n",
"close;\n",
"pf=0.8;//\n",
"td=(sqrt(1-pf^2))/pf;//\n",
"sr=300;//kW\n",
"df=(sr/sqrt(3))*td;//\n",
"w2=(sr+df)/2;//\n",
"w1=sr-w2;//\n",
"disp(round(w1),'wattmeter (W1) reading in kW is')\n",
"disp(round(w2),'wattmeter (W2) reading in kW is')"
   ]
   }
,
{
		   "cell_type": "markdown",
		   "metadata": {},
		   "source": [
			"## Example 2.12: power_factor_and_capacitance.sce"
		   ]
		  },
  {
"cell_type": "code",
	   "execution_count": null,
	   "metadata": {
	    "collapsed": true
	   },
	   "outputs": [],
"source": [
"//Example 2.12://power factor and capacitance\n",
"clc;\n",
"clear;\n",
"close;\n",
"w1=-2000;//watts\n",
"w2=4000;//watts\n",
"ph=atand((sqrt(3)*(w2-w1))/(w2+w1));//in degree\n",
"pf=cosd(ph);//\n",
"disp(pf,'power factor of the system is')\n",
"w=w1+w2;//total power\n",
"v=400;//volts\n",
"vp=(v/sqrt(3));//phase voltage\n",
"pp=w/3;//power per phase\n",
"pi=(pp)/(vp*pf);//phase current\n",
"pim=vp/pi;//phase impedance\n",
"rip=pim*pf;//resistance each phase\n",
"rep=(sqrt(pim^2-rip^2));//reactance of each phase\n",
"pfn=0.5;//power factor\n",
"pimb=rip/pfn;//impedance per phase\n",
"repn=(sqrt(pimb^2-rip^2));//reactance per phase\n",
"cp=rep-repn;//capacitive reactance\n",
"f=50;//Hz\n",
"f=50;//Hz\n",
"c=((1/(2*%pi*f*cp)));//\n",
"disp(round(c*10^6),'capacitance is,(micro-F)=')"
   ]
   }
,
{
		   "cell_type": "markdown",
		   "metadata": {},
		   "source": [
			"## Example 2.13: power_factor.sce"
		   ]
		  },
  {
"cell_type": "code",
	   "execution_count": null,
	   "metadata": {
	    "collapsed": true
	   },
	   "outputs": [],
"source": [
"//Example 2.13://power factor and line current\n",
"clc;\n",
"clear;\n",
"close;\n",
"x=1;//\n",
"w2=2*x;//\n",
"w1=x;//\n",
"ph=atand((sqrt(3)*(w2-w1))/(w2+w1));//in degree\n",
"pf=cosd(ph);//power factor\n",
"disp(pf,'power factor is')\n",
"w=50;//kW\n",
"v=400;//volts\n",
"il=((w/(sqrt(3)*v*pf)))*10^3;//in amperes\n",
"disp(il,'line current is,(A)=')"
   ]
   }
,
{
		   "cell_type": "markdown",
		   "metadata": {},
		   "source": [
			"## Example 2.14: power_and_power_factor.sce"
		   ]
		  },
  {
"cell_type": "code",
	   "execution_count": null,
	   "metadata": {
	    "collapsed": true
	   },
	   "outputs": [],
"source": [
"//Example 2.14://total power and power factor\n",
"clc;\n",
"clear;\n",
"close;\n",
"disp('when both readings are positive')\n",
"w2=2300;//watts\n",
"w1=4600;//watts\n",
"p1=w2+w1;//\n",
"ph=atand((sqrt(3)*(w2-w1))/(w2+w1));//in degree\n",
"pf=cosd(ph);//power factor\n",
"disp(p1,'power is,(W)=')\n",
"disp(pf,'power factor (leading) is')\n",
"disp('when second readig is negative')\n",
"w21=-2300;//watts\n",
"w1=4600;//watts\n",
"p2=w21+w1;//\n",
"ph2=atand((sqrt(3)*(w21-w1))/(w21+w1));//in degree\n",
"pf1=cosd(ph2);//power factor\n",
"disp(p2,'power is,(W)=')\n",
"disp(pf1,'power factor (leading) is')"
   ]
   }
,
{
		   "cell_type": "markdown",
		   "metadata": {},
		   "source": [
			"## Example 2.15: load_current.sce"
		   ]
		  },
  {
"cell_type": "code",
	   "execution_count": null,
	   "metadata": {
	    "collapsed": true
	   },
	   "outputs": [],
"source": [
"//Example 2.15://load current\n",
"clc;\n",
"clear;\n",
"close;\n",
"rw=3550;//reading of wattmeter\n",
"rp=806;//watts\n",
"ph=atand((sqrt(3)*rp)/rw);//in degree\n",
"pf=cosd(ph);//power factor\n",
"v=440;//volts\n",
"i=((rw)/(sqrt(3)*v*pf));//amperes\n",
"disp(round(i),'load current in amperes is')"
   ]
   }
,
{
		   "cell_type": "markdown",
		   "metadata": {},
		   "source": [
			"## Example 2.16: error.sce"
		   ]
		  },
  {
"cell_type": "code",
	   "execution_count": null,
	   "metadata": {
	    "collapsed": true
	   },
	   "outputs": [],
"source": [
"//Example 2.16://error\n",
"clc;\n",
"clear;\n",
"close;\n",
"d=87;//degree\n",
"pf=0.5;//\n",
"n=(1/4)*sind(d-60);//\n",
"nc=(1/4)*pf*sind(d);//\n",
"e=((n-nc)/nc)*100;//error\n",
"disp(-e,'error (slow) in percentage is')"
   ]
   }
,
{
		   "cell_type": "markdown",
		   "metadata": {},
		   "source": [
			"## Example 2.17: error.sce"
		   ]
		  },
  {
"cell_type": "code",
	   "execution_count": null,
	   "metadata": {
	    "collapsed": true
	   },
	   "outputs": [],
"source": [
"//Example 2.17://error\n",
"clc;\n",
"clear;\n",
"close;\n",
"i=5;//amperes\n",
"t0=0;//\n",
"t1=30/60;//\n",
"x=integrate('5','t',t0,t1);//\n",
"e=0.56;//kWh\n",
"v=(e*10^3)/x;//volts\n",
"v1=220;//volts\n",
"ae=v1*i*t1*10^-3;//actual energy\n",
"e=((e-ae)/ae)*100;//error\n",
"disp(e,'error (%) is')"
   ]
   }
,
{
		   "cell_type": "markdown",
		   "metadata": {},
		   "source": [
			"## Example 2.18: time_and_limits_of_accuracy.sce"
		   ]
		  },
  {
"cell_type": "code",
	   "execution_count": null,
	   "metadata": {
	    "collapsed": true
	   },
	   "outputs": [],
"source": [
"//Example 2.18://time and error\n",
"clc;\n",
"clear;\n",
"close;\n",
"nd=500;//dvisions\n",
"cr=0.1;//dvisions can read\n",
"re=(cr/nd)*100;//reading error\n",
"ie=0.05;//inherent error\n",
"te=re+ie;//total error\n",
"tea=0.1;//total error allowable\n",
"per=tea-te;//permissible error\n",
"cr1=0.01;//seconds\n",
"ersw=cr1*100;//error in reading stop watch\n",
"cr2=0.1;//seconds\n",
"erss=cr2*100;//error in stopping and starting\n",
"ter=ersw+erss;//total error\n",
"t=per/ter;//seconds\n",
"disp(round(1/t),'time duration in seconds is')\n",
"nd1=500/10;//\n",
"er1=(cr/nd1)*100;//new reading error\n",
"ie1=((ie*nd)/nd1);//new inherent error\n",
"ter1=er1+ie1;//\n",
"la=ter1+per;//\n",
"disp(la,'limits of accuracy (%) is')"
   ]
   }
,
{
		   "cell_type": "markdown",
		   "metadata": {},
		   "source": [
			"## Example 2.19: error.sce"
		   ]
		  },
  {
"cell_type": "code",
	   "execution_count": null,
	   "metadata": {
	    "collapsed": true
	   },
	   "outputs": [],
"source": [
"//Example 2.19://error\n",
"clc;\n",
"clear;\n",
"close;\n",
"n=40;//revolutions\n",
"rc=0.12;//registration constant\n",
"err=n/rc;//energy recorded in kWh is\n",
"e2=22000;//volts\n",
"e1=110;//volts\n",
"i2=500;//amperes\n",
"i1=5;//amperes\n",
"i=5.25;//amperes\n",
"lv=110;//volts\n",
"pf=1;//\n",
"t=61;//seconds\n",
"ae=((sqrt(3)*e2*lv*i*i2*pf*t)/(e1*i1*3600))*10^-3;//kWh\n",
"e=((err-ae)/ae)*100;//\n",
"disp(-e,'error (slow) is (%)')"
   ]
   }
,
{
		   "cell_type": "markdown",
		   "metadata": {},
		   "source": [
			"## Example 2.1: power_and_error.sce"
		   ]
		  },
  {
"cell_type": "code",
	   "execution_count": null,
	   "metadata": {
	    "collapsed": true
	   },
	   "outputs": [],
"source": [
"//Example 2.1://wattmeetr reading and error\n",
"clc;\n",
"clear;\n",
"close;\n",
"disp('for Ist method')\n",
"v=50;//volts\n",
"i=20;//amperes\n",
"pf=0.8;//power factor\n",
"pl=v*i*pf;//true power\n",
"vc=(50*pf)+%i*v*sqrt(1-pf^2);//complex form \n",
"ic=i+%i*0;//\n",
"r1=0.01;//ohms\n",
"vpl=vc+(i*r1);//voltage across pressure coil\n",
"wrlc1=real(vpl)*real(ic);//\n",
"er=(wrlc1-pl)/(pl);//\n",
"disp(wrlc1,'wattmeter reading is,(W)=')\n",
"disp(er*100,'percentage error is high (%)')\n",
"disp('for 2nd method')\n",
"r2=1000;//ohms\n",
"ic1=ic+(vc/r2);//\n",
"wrlc2=real(vc)*real(ic1)+imag(vc)*imag(ic1);//\n",
"er1=(wrlc2-pl)/(pl);//\n",
"disp(wrlc2,'wattmeter reading ,(W)=')\n",
"disp(er1*100,'percentage error is high (%)')"
   ]
   }
,
{
		   "cell_type": "markdown",
		   "metadata": {},
		   "source": [
			"## Example 2.20: limit_of_error.sce"
		   ]
		  },
  {
"cell_type": "code",
	   "execution_count": null,
	   "metadata": {
	    "collapsed": true
	   },
	   "outputs": [],
"source": [
"//Example 2.20://error and limit of error\n",
"clc;\n",
"clear;\n",
"close;\n",
"format('v',5)\n",
"mc=1200;//meter constant in rev/kWh\n",
"n=40;//revolutions\n",
"err=n/mc;//energy recorded in kWh\n",
"tp=99.8;//seconds\n",
"v=240;//volts\n",
"i=5;//amperes\n",
"ae=((v*i*tp*10^-3)/3600);//actual energy in kWh\n",
"e=((err-ae)/ae)*100;//error\n",
"disp(e,'error (fast) in recording (%)')\n",
"n=500;//divisions\n",
"rn=0.1;//dvision reading accuracy\n",
"per=((rn/n)*100);//possible error\n",
"ie=0.05;//inherent error\n",
"per1=(((rn/10)/tp)*100);//possible error\n",
"her=((ie/tp)*100);//human error\n",
"tpr=per+per1+her+ie;//total possible error\n",
"li1=e-tpr;//\n",
"li2=e+tpr;//\n",
"disp('limit of error in the meter is '+string(li1)+'% or '+string(li2)+'% ')"
   ]
   }
,
{
		   "cell_type": "markdown",
		   "metadata": {},
		   "source": [
			"## Example 2.21: consumer_monthly_bill_and_power_factor.sce"
		   ]
		  },
  {
"cell_type": "code",
	   "execution_count": null,
	   "metadata": {
	    "collapsed": true
	   },
	   "outputs": [],
"source": [
"//Example 2.21://consumer monthly bill ,power factor and average cost per unit\n",
"clc;\n",
"clear;\n",
"close;\n",
"format('v',9)\n",
"kwh=125000;//\n",
"kvarh=100000;//\n",
"kvah=sqrt(kwh^2+kvarh^2);//kVAh\n",
"kw=180;//\n",
"kvar=125;//\n",
"mkva=sqrt(kw^2+kvar^2);//kVA\n",
"pkva=15;//rupees\n",
"pkvah=0.1;//reupees\n",
"tmb=pkva*mkva+pkvah*kvah;//in Rs\n",
"disp(tmb,'total monthly bill in Rs')\n",
"pf=kwh/kvah;//power factor\n",
"d=30;//days\n",
"t=24;//hours a day\n",
"lf=((kwh/(d*t))/kw);//load factor\n",
"avcp=tmb/kwh;//in paisa\n",
"disp(pf,'power factor is')\n",
"disp(lf,'load factor is')\n",
"disp(avcp*100,'average cost per unit (kWh) in paisa is')\n",
"//total monthly bill and load factor is calculated wrong in the book"
   ]
   }
,
{
		   "cell_type": "markdown",
		   "metadata": {},
		   "source": [
			"## Example 2.22: error.sce"
		   ]
		  },
  {
"cell_type": "code",
	   "execution_count": null,
	   "metadata": {
	    "collapsed": true
	   },
	   "outputs": [],
"source": [
"//Example 2.22://full load sped and error\n",
"clc;\n",
"clear;\n",
"close;\n",
"format('v',9)\n",
"v=220;//volts\n",
"i=5;//in amperes\n",
"wrv=((v*i*10^-3)/(3600));//kWh\n",
"mc=((3600*10^3)/(v*i));//rev/kWh\n",
"ec=((v*i*10^-3)/(3600));//kWh\n",
"sfl=mc*ec;//rps\n",
"n=30;//revolutions\n",
"hler=n*ec;//kWh\n",
"t=59.5;//seconds\n",
"hlf=(((i/2)*v*10^-3*t)/(3600));//kWh\n",
"e=(hler-hlf)/hlf;//\n",
"disp(mc,'number of revolution per kWh is,(revolutions/kWh)=')\n",
"disp(sfl,'full load speed r.p.s is')\n",
"disp(e*100,'error (fast) in percentage is')\n",
"//numberof revolutions is calcultaed wrong in the textbook"
   ]
   }
,
{
		   "cell_type": "markdown",
		   "metadata": {},
		   "source": [
			"## Example 2.23: resistance.sce"
		   ]
		  },
  {
"cell_type": "code",
	   "execution_count": null,
	   "metadata": {
	    "collapsed": true
	   },
	   "outputs": [],
"source": [
"//Example 2.23://shunt resistance \n",
"clc;\n",
"clear;\n",
"close;\n",
"format('v',9)\n",
"ra=1000;//armature resistance in ohms\n",
"i=10;//mA\n",
"ia=500;//micro amperes\n",
"rsh1=((ra)/((i/(ia*10^-3))-1));//in ohms\n",
"i1=75;//mA\n",
"rsh2=((ra)/((i1/(ia*10^-3))-1));//in ohms\n",
"i3=100;//mA\n",
"ia3=0.4*ia;//micro amperes\n",
"rsh3=((ra)/((i3/(ia3*10^-3))-1));//in ohms\n",
"disp(rsh1,'shunt resistance when current is 10mA in ohm is')\n",
"disp(rsh2,'shunt resistance when current is 75mA in ohm is')\n",
"disp(rsh3,'shunt resistance when current is 100mA in ohm is')"
   ]
   }
,
{
		   "cell_type": "markdown",
		   "metadata": {},
		   "source": [
			"## Example 2.24: resistance_and_power.sce"
		   ]
		  },
  {
"cell_type": "code",
	   "execution_count": null,
	   "metadata": {
	    "collapsed": true
	   },
	   "outputs": [],
"source": [
"//Example 2.24://shunt resistance and series resistance\n",
"clc;\n",
"clear;\n",
"close;\n",
"format('v',9)\n",
"i=125;//amperes\n",
"ia=25;//armature current in mA\n",
"ish=i-(ia*10^-3);//amperes\n",
"ra=3;//ohms\n",
"rsh=((ia*ra)/ish);//milli ohms\n",
"disp(rsh,'shunt resistance in milli ohm is')\n",
"pcs=ish^2*rsh*10^-3;//watts\n",
"disp(pcs,'power consumption in shunt is,(W)=')\n",
"rv=625;//volts\n",
"rs=((rv-(ra*ia*10^-3))/(ia*10^-3))*10^-3;//killo ohms\n",
"disp(rs,'series resistance in kilo ohm is')\n",
"pc=(ia*10^-3)^2*rs*10^3;//watts\n",
"disp(pc,'power consumption in the series resistance is,(W)=')"
   ]
   }
,
{
		   "cell_type": "markdown",
		   "metadata": {},
		   "source": [
			"## Example 2.25: multiplying_power.sce"
		   ]
		  },
  {
"cell_type": "code",
	   "execution_count": null,
	   "metadata": {
	    "collapsed": true
	   },
	   "outputs": [],
"source": [
"//Example 2.25://mulitplying power\n",
"clc;\n",
"clear;\n",
"close;\n",
"format('v',9)\n",
"disp('when micro meter resistance is 25 ohm')\n",
"ra=25;//ohms\n",
"rsh=5000;//ohms\n",
"r1=1250;//ohms\n",
"n=((ra+rsh)/r1);//\n",
"r2=2500;//ohms\n",
"n2=((ra+rsh)/r2);//\n",
"disp(n,'multiplying power for the shunt for a 1250 ohm is')\n",
"disp(n2,'multiplying power for the shunt for a 2500 ohm is')\n",
"disp('when micro meter resistance is 2500 ohm')\n",
"ra1=2500;//ohms\n",
"rsh=5000;//ohms\n",
"r1=1250;//ohms\n",
"n1=((ra1+rsh)/r1);//\n",
"r2=2500;//ohms\n",
"n3=((ra1+rsh)/r2);//\n",
"disp(n1,'multiplying power for the shunt for a 1250 ohm is')\n",
"disp(n3,'multiplying power for the shunt for a 2500 ohm is')"
   ]
   }
,
{
		   "cell_type": "markdown",
		   "metadata": {},
		   "source": [
			"## Example 2.26: resistance.sce"
		   ]
		  },
  {
"cell_type": "code",
	   "execution_count": null,
	   "metadata": {
	    "collapsed": true
	   },
	   "outputs": [],
"source": [
"//Example 2.26://resistance\n",
"clc;\n",
"clear;\n",
"close;\n",
"r1=185;//ohm\n",
"r2=205;//ohm\n",
"r3=215;//ohm\n",
"R31=195;//OHM\n",
"r4=200;//ohm\n",
"R=r1+r2+r3+r4+R31;//ohm\n",
"r5=1100;//ohm\n",
"R1=(R-r4)+((r5*r4)/(r5+r4));//\n",
"v1=85;//V\n",
"V=(v1*R1)/round(R1-(R-r4));//V\n",
"disp(round(V),'voltage is,(V)=')\n",
"I=round(V)/R;//A\n",
"vd4=I*r4;//V\n",
"x=0.5;//% allowable\n",
"vd41=(vd4)-(vd4*x)/100;//\n",
"rv=((vd41*(R-r4)*r4))/((V*r4)-((R*vd41)));//\n",
"disp(rv*10^-3,'resistance is ,(k-ohm)=')\n",
"//resistance is calculated wrong in the textbook"
   ]
   }
,
{
		   "cell_type": "markdown",
		   "metadata": {},
		   "source": [
			"## Example 2.27: resistance_and_sensivity.sce"
		   ]
		  },
  {
"cell_type": "code",
	   "execution_count": null,
	   "metadata": {
	    "collapsed": true
	   },
	   "outputs": [],
"source": [
"//Example 2.27: Sensitivity\n",
"clc;\n",
"clear;\n",
"close;\n",
"//given data :\n",
"I1=0.1;// in mA\n",
"R1=50;// in ohm\n",
"I2=10;// in mA\n",
"I3=10.1;// in mA\n",
"I4=I2-I1;\n",
"Rsh=I1*R1/(I3-I1);\n",
"Im1=Rsh*I4/(R1+Rsh);\n",
"S1=(I1-Im1)/(I3-I4);\n",
"disp(S1,'(a). The sensitivity of an instrument,S1 = ')\n",
"I5=10;// in mA\n",
"V=2;// in Volt\n",
"R=V/(I5*10^-3);\n",
"disp(R,'(b). The resistance,R(ohm) = ')\n",
"// formula : Im=((I3-Im)*(R-V))/R1;\n",
"Im2=(0.8*I3)-8;\n",
"Im3=(0.8*I4)-8\n",
"S2=(Im2-Im3)/(I3-I4);\n",
"S=S1/S2;\n",
"disp(S,'The relative sensitivity,S = ')"
   ]
   }
,
{
		   "cell_type": "markdown",
		   "metadata": {},
		   "source": [
			"## Example 2.28: desig.sce"
		   ]
		  },
  {
"cell_type": "code",
	   "execution_count": null,
	   "metadata": {
	    "collapsed": true
	   },
	   "outputs": [],
"source": [
"//Example 2.28: Error\n",
"clc;\n",
"clear;\n",
"close;\n",
"//given data :\n",
"La=90*10^-6;// in micro-H\n",
"Ra=0.09;// in ohm\n",
"LsbyRs=La/Ra;\n",
"I=50;// in A\n",
"Ia=5;// in A\n",
"f=50;// in Hz\n",
"w=2*%pi*f;\n",
"Rs=Ra/9;\n",
"Ls=LsbyRs*Rs*10^6;\n",
"disp(Rs,'Shunt resistance,Rs(ohm) = ')\n",
"disp(Ls,'Inductance,Ls(micro-H) = ')\n",
"Ls1=0;// shunt is non-inductive \n",
"Ia1=(Rs*I)/sqrt((Ra+Rs)^2+(w^2*La^2));\n",
"disp(Ia1,'Current,Ia1(A) = ')\n",
"Error=((Ia-Ia1)/Ia)*100;\n",
"disp(Error,'Error,(%)(low) = ')"
   ]
   }
,
{
		   "cell_type": "markdown",
		   "metadata": {},
		   "source": [
			"## Example 2.29: area_and_error.sce"
		   ]
		  },
  {
"cell_type": "code",
	   "execution_count": null,
	   "metadata": {
	    "collapsed": true
	   },
	   "outputs": [],
"source": [
"//Example 2.29 :area and percentage error\n",
"clc;\n",
"clear;\n",
"close;\n",
"//given data \n",
"v1=18;//kV\n",
"c1=60;//pF\n",
"v2=2;//\n",
"q=v2*10^3*c1*10^-12;//\n",
"cs=q/(v1*10^3);//F\n",
"d=2.5;//cm\n",
"eo=8.854*10^-12;//\n",
"a=((cs*d*10^-2)/(eo));//\n",
"disp(round(a*10^4),'area is,(cm^2)=')\n",
"c2=50;//pf\n",
"x=c1-c2;//\n",
"stf=((v2*10^3)^2*x*10^-12);//\n",
"v=sqrt(stf/(x*10^-12*2))/1000;//kV\n",
"c3=c2+(x/2);//pf\n",
"x1=c3/(cs*10^12);//\n",
"V1=(x1+1)*v//\n",
"V=10*sqrt(2);//V\n",
"er=((V-V1)/V1)*100;//\n",
"disp(er,'error is ,(%)=')"
   ]
   }
,
{
		   "cell_type": "markdown",
		   "metadata": {},
		   "source": [
			"## Example 2.2: inductance.sce"
		   ]
		  },
  {
"cell_type": "code",
	   "execution_count": null,
	   "metadata": {
	    "collapsed": true
	   },
	   "outputs": [],
"source": [
"//Example 2.2://self inductance\n",
"clc;\n",
"clear;\n",
"close;\n",
"c=20;//pF\n",
"rs=10000;//ohms\n",
"l=(c*10^-12)*rs^2;//henry\n",
"disp(l*10^3,'self inductance in mH')"
   ]
   }
,
{
		   "cell_type": "markdown",
		   "metadata": {},
		   "source": [
			"## Example 2.30: error.sce"
		   ]
		  },
  {
"cell_type": "code",
	   "execution_count": null,
	   "metadata": {
	    "collapsed": true
	   },
	   "outputs": [],
"source": [
"//Example 2.30: % Error\n",
"clc;\n",
"clear;\n",
"close;\n",
"//given data :\n",
"Ra=2;// in ohm\n",
"Rsh=0.0004;// constant\n",
"alfa=0.004;\n",
"t1=288;// in K\n",
"t2=333;// in K\n",
"I=100;// in A\n",
"Rs=50;// in ohm\n",
"theta=t2-t1;\n",
"Ra1=Ra+(alfa*Ra*theta);\n",
"N1=1+(Ra/Rsh);\n",
"Ia=I/N1;\n",
"N2=1+(Ra1/Rsh);\n",
"Ia1=I/N2;\n",
"epsilon1=(Ia1-Ia)*100/Ia;\n",
"disp(epsilon1,'The percentage error,(%) = ')\n",
"N3=1+((Ra+Rs)/Rsh);\n",
"Ia2=I*10^3/N3;\n",
"N4=1+((Ra1+Rs)/Rsh);\n",
"Ia3=I*10^3/N4;\n",
"epsilon2=(Ia3-Ia2)*100/Ia2;\n",
"disp(epsilon2,'The percentage error,(%) = ')"
   ]
   }
,
{
		   "cell_type": "markdown",
		   "metadata": {},
		   "source": [
			"## Example 2.31: resistance.sce"
		   ]
		  },
  {
"cell_type": "code",
	   "execution_count": null,
	   "metadata": {
	    "collapsed": true
	   },
	   "outputs": [],
"source": [
"//Example 2.31: Resistance and electromotive\n",
"clc;\n",
"clear;\n",
"close;\n",
"//given data :\n",
"i1=20;// in mA\n",
"i2=400;// in mA\n",
"i3=i1/i2;\n",
"K1=i1/i3;\n",
"v1=19.5;// in mV\n",
"v2=23.4;// in mV\n",
"x1=v1/K1;//\n",
"y=100;//mV\n",
"k2=y/i3;//\n",
"x2=v2/k2;//\n",
"A=[1 -x1;1 -x2];\n",
"B=[v1;v2];//\n",
"X=A\B;//\n",
"disp(X(1,1),'electromotive force is,(mV)=')\n",
"disp(X(2,1),'resistance is ,(ohm)=')"
   ]
   }
,
{
		   "cell_type": "markdown",
		   "metadata": {},
		   "source": [
			"## Example 2.32: error.sce"
		   ]
		  },
  {
"cell_type": "code",
	   "execution_count": null,
	   "metadata": {
	    "collapsed": true
	   },
	   "outputs": [],
"source": [
"//Example 2.32: error\n",
"clc;\n",
"clear;\n",
"close;\n",
"//given data :\n",
"V=20*10^3;// in V\n",
"v1=2*10^3;// in V\n",
"R=10*10^3;// in ohm\n",
"r=R*v1/V;\n",
"f=50;// in Hz\n",
"w=2*%pi*f;\n",
"C=0.60*10^-6;// in F\n",
"v=V/((R/r)*sqrt(1+((w^2*C^2*r^2*(R-r)^2)/R^2)));\n",
"Error=((v1-v)/v1)*100;\n",
"disp(Error,'Error,(%) = ')"
   ]
   }
,
{
		   "cell_type": "markdown",
		   "metadata": {},
		   "source": [
			"## Example 2.33: flux_actual_ratio_and_phase_angle.sce"
		   ]
		  },
  {
"cell_type": "code",
	   "execution_count": null,
	   "metadata": {
	    "collapsed": true
	   },
	   "outputs": [],
"source": [
"//Example 2.33: Flux, actual ratio and phase angle\n",
"clc;\n",
"clear;\n",
"close;\n",
"//given data :\n",
"I=5;// in A\n",
"r1=4;// in ohm\n",
"r2=0.2;// in ohm\n",
"Es=I*(r1+r2);\n",
"Ts=160;// in turns\n",
"F=50;// in Hz\n",
"fi=Es*10^3/(4.44*Ts*F);\n",
"disp(fi,'(i). Flux in the core,(mWb) = ')\n",
"I0=6;// in A\n",
"theta1=30;// in degree\n",
"Ie=I0*cosd(theta1);// in A\n",
"Im=I0*sind(theta1);// in A\n",
"del=0;\n",
"K=Ts+(((Ie*cosd(del))+(Im*sind(del)))/I);\n",
"disp(K,'(ii). The actual ratio,K = ')\n",
"theta=(180/%pi)*(((Im*cosd(del))-(Ie*sind(del)))/(Ts*I));\n",
"disp(theta,'(iii). The phase angle,(degree)  = ')"
   ]
   }
,
{
		   "cell_type": "markdown",
		   "metadata": {},
		   "source": [
			"## Example 2.34: error.sce"
		   ]
		  },
  {
"cell_type": "code",
	   "execution_count": null,
	   "metadata": {
	    "collapsed": true
	   },
	   "outputs": [],
"source": [
"//Example 2.34: The ratio errror and phase angle error\n",
"clc;\n",
"clear;\n",
"close;\n",
"//given data :\n",
"I=5;// in A\n",
"n=1000/5;// normal ratio\n",
"sin_alfa=0.4;\n",
"cos_alfa=sqrt(1-sin_alfa^2);\n",
"Im=1;// in A\n",
"I0=Im/cos_alfa;\n",
"Ie=I0*sin_alfa;\n",
"del=0;\n",
"K=n+(((Ie*cosd(del))+(Im*sind(del)))/I);\n",
"er=(n-K)*100/K;\n",
"disp(er,'(a). The ratio error,(%) = ')\n",
"eph=(180/%pi)*(((Im*cosd(del))-(Ie*sind(del)))/(n*I));\n",
"x=round(eph);//\n",
"y=eph-x;//\n",
"disp('(b). phase angle is '+string(x)+' degree '+string(y*60)+' minutes ')"
   ]
   }
,
{
		   "cell_type": "markdown",
		   "metadata": {},
		   "source": [
			"## Example 2.35: error.sce"
		   ]
		  },
  {
"cell_type": "code",
	   "execution_count": null,
	   "metadata": {
	    "collapsed": true
	   },
	   "outputs": [],
"source": [
"//Example 2.35: The ratio errror and phase angle error\n",
"clc;\n",
"clear;\n",
"close;\n",
"//given data :\n",
"I=5;// in A\n",
"Kn=1000/I;\n",
"n=198;// in turns\n",
"L=12.5;//in VA\n",
"Zs=L/I^2;\n",
"f=50;// assume in Hz\n",
"l=1*10^-3;// in H\n",
"Re=2*%pi*f*l;// in ohm\n",
"del=asind(Re/Zs);\n",
"Ie=10;// in A\n",
"Im=15;// in A\n",
"K=n+(((Ie*cosd(del))+(Im*sind(del)))/I);\n",
"Rerror=(Kn-K)*100/K;\n",
"disp(Rerror,'The ratio error,(%) = ')\n",
"eph=(180/%pi)*(((Im*cosd(del))-(Ie*sind(del)))/(n*I));\n",
"disp(eph,'The phase angle,(degree) = ')"
   ]
   }
,
{
		   "cell_type": "markdown",
		   "metadata": {},
		   "source": [
			"## Example 2.36: error_and_load.sce"
		   ]
		  },
  {
"cell_type": "code",
	   "execution_count": null,
	   "metadata": {
	    "collapsed": true
	   },
	   "outputs": [],
"source": [
"//Example 2.36: phase angle error load in VA\n",
"clc;\n",
"clear;\n",
"close;\n",
"//given data \n",
"v1=1000;//V\n",
"v2=100;//V\n",
"r=v1/v2;//\n",
"pf=0.4;//\n",
"sd=pf;//\n",
"csd=sqrt(1-pf^2);//\n",
"im=0.02;//A\n",
"ie=im*(pf/csd);//A\n",
"xp=65.4;//ohm\n",
"rp=97.5;//ohm\n",
"th=((ie*xp)-(im*rp))/(r*v2);//rad\n",
"thd=th*(180/%pi);//\n",
"disp('phase angle is '+string(thd*60) +'minutes')\n",
"Xp=110;//ohm\n",
"is=(r*((im*rp)-(ie*xp)))/(Xp);\n",
"va=is*v2;//VA\n",
"disp(va,'load is ,(VA)=')"
   ]
   }
,
{
		   "cell_type": "markdown",
		   "metadata": {},
		   "source": [
			"## Example 2.37: flux_and_current_ratio_error.sce"
		   ]
		  },
  {
"cell_type": "code",
	   "execution_count": null,
	   "metadata": {
	    "collapsed": true
	   },
	   "outputs": [],
"source": [
"//Example 2.37: flux and current ratio error\n",
"clc;\n",
"clear;\n",
"close;\n",
"n1=1000;//A\n",
"n2=5;//A\n",
"r=1.6;//ohm\n",
"kn=n1/n2;//\n",
"ts=kn;//\n",
"wt=1.5;//watt\n",
"es=n2*r;//v\n",
"f=50;//Hz\n",
"ph=es/(4.44*f*kn);//m Wb\n",
"ep=es/kn;//\n",
"ie=wt/ep;//A\n",
"cd1=1;//\n",
"sd=0;//\n",
"K=((kn+(ie/n2)));//\n",
"re=((kn-K)/K)*100;//\n",
"disp(ph*10^3,'flux is ,(m-Wb)=')\n",
"disp(re,'ratio error is ,(%)=')"
   ]
   }
,
{
		   "cell_type": "markdown",
		   "metadata": {},
		   "source": [
			"## Example 2.38: RCF_ratio_error_and_phase_angle_error.sce"
		   ]
		  },
  {
"cell_type": "code",
	   "execution_count": null,
	   "metadata": {
	    "collapsed": true
	   },
	   "outputs": [],
"source": [
"//Example 2.38: RCF ,ratio error and phase angle error\n",
"clc;\n",
"clear;\n",
"close;\n",
"vp=2000;//V\n",
"n=20;//\n",
"vs=vp/n;//\n",
"va1=50;//\n",
"pfl1=0.6;//lagging\n",
"is=va1/vs;//A\n",
"va2=25;//V\n",
"is2=va2/vs;//A\n",
"ie=0;//\n",
"im=0;//\n",
"cd1=0.6;//\n",
"sd1=sqrt(1-cd1^2);//\n",
"rs1=0.75;//ohm\n",
"rp1=300;//ohm\n",
"Rp1=n^2*rs1+rp1;//ohm\n",
"xs1=1.5;//ohm\n",
"xp1=600;//ohm\n",
"Xp1=n^2*xs1+xp1;//ohm\n",
"vps1=n+((is/n)*(Rp1*cd1+Xp1*sd1))/vs;//\n",
"RCF1=vps1/n;//\n",
"er1=((n-vps1)/vps1)*100;//%\n",
"per1=((is*(Xp1*cd1-Rp1*sd1))/(n^2*vs))*(180/%pi);//degree\n",
"per1a=round(per1);//\n",
"x1=per1-per1a;//\n",
"disp(RCF1,'RCF for case (a) is,=')\n",
"disp(er1,'phase error for case (a) is,(%)=')\n",
"disp('phase angle error for case (a) is  '+string(x1*60)+' minutes')\n",
"cd11=1;//\n",
"sd11=sqrt(1-cd11^2);//\n",
"vps2=n+((is/n)*(Rp1*cd11+Xp1*sd11))/vs;//\n",
"RCF2=vps2/n;//\n",
"er2=((n-vps2)/vps2)*100;//%\n",
"per2=((is*(Xp1*cd11-Rp1*sd11))/(n^2*vs))*(180/%pi);//degree\n",
"per1a1=round(per2);//\n",
"x2=per1-per1a1;//\n",
"disp(RCF2,'RCF for case (b) is,=')\n",
"disp(er2,'phase error for case (b) is,(%)=')\n",
"disp('phase angle error for case (b)is  '+string(per2*60)+' minutes')\n",
"cd12=0.6;//\n",
"sd12=-0.8;//\n",
"vps3=n+((is/n)*(Rp1*cd12+Xp1*sd12))/vs;//\n",
"RCF3=vps3/n;//\n",
"er3=((n-vps3)/vps3)*100;//%\n",
"per3=((is*(Xp1*cd12-Rp1*sd12))/(n^2*vs))*(180/%pi);//degree\n",
"per1a1=round(per2);//\n",
"x2=per1-per1a1;//\n",
"disp(RCF3,'RCF for case (c) is,=')\n",
"disp(er3,'phase error for case (c) is,(%)=')\n",
"disp('phase angle error for case (c)is  '+string(per3*60)+' minutes')\n",
"cd13=0.6;//\n",
"sd13=0.8;//\n",
"vps4=n+((is2/n)*(Rp1*cd13+Xp1*sd13))/vs;//\n",
"RCF4=vps4/n;//\n",
"er4=((n-vps4)/vps4)*100;//%\n",
"per4=((is2*(Xp1*cd13-Rp1*sd13))/(n^2*vs))*(180/%pi);//degree\n",
"per1a1=round(per2);//\n",
"x2=per1-per1a1;//\n",
"disp(RCF4,'RCF for case (d) is,=')\n",
"disp(er4,'phase error for case (d) is,(%)=')\n",
"disp('phase angle error for case (d)is  '+string(per4*60)+' minutes')\n",
"cd14=1;//\n",
"sd14=0;//\n",
"vps5=n+((is2/n)*(Rp1*cd14+Xp1*sd14))/vs;//\n",
"RCF5=vps5/n;//\n",
"er5=((n-vps5)/vps5)*100;//%\n",
"per5=((is2*(Xp1*cd14-Rp1*sd14))/(n^2*vs))*(180/%pi);//degree\n",
"per1a1=round(per2);//\n",
"x2=per1-per1a1;//\n",
"disp(RCF5,'RCF for case (e) is,=')\n",
"disp(er5,'phase error for case (e) is,(%)=')\n",
"disp('phase angle error for case (e)is  '+string(per5*60)+' minutes')\n",
"cd15=0.6;//\n",
"sd16=-0.8;//\n",
"vps6=n+((is2/n)*(Rp1*cd15+Xp1*sd16))/vs;//\n",
"RCF6=vps6/n;//\n",
"er6=((n-vps6)/vps6)*100;//%\n",
"per6=((is2*(Xp1*cd15-Rp1*sd16))/(n^2*vs))*(180/%pi);//degree\n",
"per1a1=round(per2);//\n",
"x2=per1-per1a1;//\n",
"disp(RCF6,'RCF for case (f) is,=')\n",
"disp(er6,'phase error for case (f) is,(%)=')\n",
"disp('phase angle error for case (f)is  '+string(per6*60)+' minutes')"
   ]
   }
,
{
		   "cell_type": "markdown",
		   "metadata": {},
		   "source": [
			"## Example 2.39: ratio_error_RCF_and_phase_angle.sce"
		   ]
		  },
  {
"cell_type": "code",
	   "execution_count": null,
	   "metadata": {
	    "collapsed": true
	   },
	   "outputs": [],
"source": [
"//Example 2.39: RCF ,ratio error and phase angle error\n",
"clc;\n",
"clear;\n",
"close;\n",
"vp=1000;//V\n",
"is=5;//A\n",
"n=vp/is;//\n",
"VA=25;//\n",
"vs=VA/is;//\n",
"vp=is/n;//V\n",
"wt=0.25;//W\n",
"ie=wt/vp;//A\n",
"im=15;//A\n",
"xs=1;//ohm\n",
"rs=5;//ohm\n",
"dl=atand(xs/rs);//\n",
"dlr=dl*(%pi/180);//\n",
"K=n+((ie*cosd(dl)+im*sind(dl))/is);//\n",
"re=((n-K)/K)*100;//per\n",
"RCF=K/n;//\n",
"eph=(180/%pi)*(((im*cosd(dl))-(ie*sind(dl)))/(n*is));\n",
"disp(re,'ratio error is,(%)=')\n",
"disp(RCF,'RCF is ,=')\n",
"disp(eph,'phase angle error is,(degree)=')"
   ]
   }
,
{
		   "cell_type": "markdown",
		   "metadata": {},
		   "source": [
			"## Example 2.3: percentage_error.sce"
		   ]
		  },
  {
"cell_type": "code",
	   "execution_count": null,
	   "metadata": {
	    "collapsed": true
	   },
	   "outputs": [],
"source": [
"//Example 2.3://percentage error\n",
"clc;\n",
"clear;\n",
"close;\n",
"v=100;//volts\n",
"i=10;//amperes\n",
"pf=0.45;//power factor\n",
"tp=v*i*pf;//true power in watts\n",
"f=50;//Hz\n",
"l=25;//mH\n",
"r=4000;//ohms\n",
"b=atan((2*%pi*f*l*10^-3)/r);//phase angle in radians\n",
"e=v*i*tan(b)*sqrt(1-pf^2);//\n",
"per=(e*100)/(tp);//\n",
"disp(per,'percentage error is (%)')"
   ]
   }
,
{
		   "cell_type": "markdown",
		   "metadata": {},
		   "source": [
			"## Example 2.40: true_value_of_voltage_current_and_power.sce"
		   ]
		  },
  {
"cell_type": "code",
	   "execution_count": null,
	   "metadata": {
	    "collapsed": true
	   },
	   "outputs": [],
"source": [
"//Example 2.40: true value of voltage ,current and power\n",
"clc;\n",
"clear;\n",
"close;\n",
"vs=102;//V\n",
"is=4;//A\n",
"ws=375;//W\n",
"ph=acosd(ws/(is*vs));//degree\n",
"ph1=round(ph);//\n",
"x=ph-ph1;//\n",
"y=x*60;//\n",
"angd=y+22+10;//\n",
"ang=angd/60;//\n",
"ta=ph1+ang;//\n",
"a1=2000;//\n",
"a2=100;//\n",
"nr=a1/a2;//\n",
"rcf=0.995;//\n",
"rcf1=1.005;//\n",
"avr=rcf*nr;//\n",
"pv=avr*vs;//\n",
"acr=rcf1*(a2/nr);//\n",
"pc=acr*is*is;//A\n",
"psd=pv*pc*cosd(ta)*10^-3;//\n",
"disp(pv,'true value of voltage is,(V)=')\n",
"disp(pc,'true value of current is,(A)=')\n",
"disp(psd,'true value of power is ,(kW)=')"
   ]
   }
,
{
		   "cell_type": "markdown",
		   "metadata": {},
		   "source": [
			"## Example 2.41: primary_current_and_phase_error.sce"
		   ]
		  },
  {
"cell_type": "code",
	   "execution_count": null,
	   "metadata": {
	    "collapsed": true
	   },
	   "outputs": [],
"source": [
"//Example 2.41:primary current ,phase error \n",
"clc;\n",
"clear;\n",
"close;\n",
"zs=0.433+%i*0.25;//ohm\n",
"zs1=0.15+%i*0.0;//ohm\n",
"zs2=zs+zs1;//ohm\n",
"zsa=sqrt(real(zs2)^2+imag(zs2)^2);//\n",
"zsng=atand(imag(zs2)/real(zs2));//\n",
"nt=2;//turns\n",
"l1=8;//\n",
"l2=4;//\n",
"ie=l2/nt;//\n",
"im=l1/nt;//\n",
"tnt=198;//turns\n",
"is=5;//A\n",
"K=((tnt/2)+((ie*cosd(zsng))+(im*sind(zsng)))/is);//\n",
"ip=K*is;//A\n",
"th=((im*cosd(zsng))-(ie*sind(zsng)))/((tnt/2)*is);//\n",
"disp(ip,'primary current is,(A)=')\n",
"disp(th,'phase error is,(radian)=')"
   ]
   }
,
{
		   "cell_type": "markdown",
		   "metadata": {},
		   "source": [
			"## Example 2.42: resistance.sce"
		   ]
		  },
  {
"cell_type": "code",
	   "execution_count": null,
	   "metadata": {
	    "collapsed": true
	   },
	   "outputs": [],
"source": [
"//Example 2.42: Resistance\n",
"clc;\n",
"clear;\n",
"close;\n",
"//given data :\n",
"f=50;/// in Hz\n",
"r=2000;// in ohm\n",
"L=0.5;// in H\n",
"Zm=sqrt(r^2+(2*%pi*f*L));\n",
"V=100;// in V\n",
"im=V/Zm;\n",
"Rs=(500-(im*Zm))/im;\n",
"disp(Rs,'Series resistance,Rs(ohm) = ')\n",
"//answer is wrong in the textbook"
   ]
   }
,
{
		   "cell_type": "markdown",
		   "metadata": {},
		   "source": [
			"## Example 2.43: percentage_change_in_current.sce"
		   ]
		  },
  {
"cell_type": "code",
	   "execution_count": null,
	   "metadata": {
	    "collapsed": true
	   },
	   "outputs": [],
"source": [
"//Example 2.43 :percentage change in current\n",
"clc;\n",
"clear;\n",
"close;\n",
"//given data\n",
"r=0.5;//kilo ohm\n",
"r1=1;//kilo ohm\n",
"z1=((%i*r1*r)/(r1+%i*r));//kilo-ohm\n",
"z1m=sqrt(real(z1)^2+imag(z1)^2);//kilo-ohm\n",
"z2=((%i*r1*r)/(r+%i*r1));//kilo-ohm\n",
"z2m=sqrt(real(z1)^2+imag(z1)^2);//kilo-ohm\n",
"tz=z1m+z2m;//kilo-ohm\n",
"f=50;//Hz\n",
"V=1;//V\n",
"i=V/tz;//A\n",
"v1=i*z1m*10^-3;//V\n",
"v2=i*10^-3*z2m;//V\n",
"df=f-((f*5)/100);//Hz\n",
"rc1=((r*df)/f);//k-ohm\n",
"rc2=((r1*df)/f);//k-ohm\n",
"z1n=((%i*rc1)/(r1+%i*rc1));//\n",
"z1nm=sqrt(real(z1n)^2+imag(z1n)^2);//k-ohm\n",
"z2n=((%i*rc2*r)/(r+%i*rc2));//\n",
"z2nm=sqrt(real(z1n)^2+imag(z1n)^2);//k-ohm\n",
"znw=z1nm+z2nm;//k-ohm\n",
"in=V/znw;//\n",
"disp(in,'current is ,(mA)=')"
   ]
   }
,
{
		   "cell_type": "markdown",
		   "metadata": {},
		   "source": [
			"## Example 2.44: inductance_and_frequency.sce"
		   ]
		  },
  {
"cell_type": "code",
	   "execution_count": null,
	   "metadata": {
	    "collapsed": true
	   },
	   "outputs": [],
"source": [
"//Example 2.44 :Inductance\n",
"clc;\n",
"clear;\n",
"close;\n",
"//given data\n",
"c=1;//micro-F\n",
"f1=60;//Hz\n",
"f=50;//Hz\n",
"l1=((c*10^6)/(f1^2*(2*%pi)^2));//\n",
"r1=100;//ohm\n",
"z1=r1+%i*((2*%pi*f*l1)-(1/(2*%pi*f*c*10^-6)));//ohm\n",
"c2=1.5;//micro-F\n",
"l2=((-imag(z1))+(1/(2*%pi*c2)))/100;//H\n",
"f2=(1/(2*%pi))*sqrt(1/(l2*c2*10^-6));//Hz\n",
"disp(l2,'inductance is,(H)=')\n",
"disp(f2,'frequency is ,(Hz)=')"
   ]
   }
,
{
		   "cell_type": "markdown",
		   "metadata": {},
		   "source": [
			"## Example 2.45: resistance_and_error.sce"
		   ]
		  },
  {
"cell_type": "code",
	   "execution_count": null,
	   "metadata": {
	    "collapsed": true
	   },
	   "outputs": [],
"source": [
"//Example 2.45: Resistance and % error\n",
"clc;\n",
"clear;\n",
"close;\n",
"//given data :\n",
"i1=.50;// in mA\n",
"r1=5000;// in ohm\n",
"r2=50;// in ohm\n",
"V=3;// in V\n",
"I=i1*10^-3/2;// mid scale deflection current in A\n",
"Rs=(V/I)-(r1+r2);\n",
"disp(Rs,'(i). The resistance,Rs(ohm) = ')\n",
"A=.5/100;\n",
"In=30/100;\n",
"Me=A*1000;\n",
"Fsr=In*1000;\n",
"P_error=Me*100/Fsr;\n",
"disp(P_error,'Percentage inaccuracy,(%) = ')"
   ]
   }
,
{
		   "cell_type": "markdown",
		   "metadata": {},
		   "source": [
			"## Example 2.46: inductance_and_capacitance.sce"
		   ]
		  },
  {
"cell_type": "code",
	   "execution_count": null,
	   "metadata": {
	    "collapsed": true
	   },
	   "outputs": [],
"source": [
"//Example 2.46: inductance and capacitance\n",
"clc;\n",
"clear;\n",
"close;\n",
"//given data :\n",
"c1=1.5;//micro-farad\n",
"f=50;//Hz\n",
"f1=55;//Hz\n",
"f2=45;//Hz\n",
"l1=((1/((2*%pi*f)^2)*c1*10^-6));//H\n",
"v1=1.211*0.428;//V\n",
"i1=v1/1;//mA\n",
"v2=1.211*.441;//V\n",
"i2=v2/0.95;//mA\n",
"v=0.527;//V\n",
"pec=((i1-v)/v)*100;//\n",
"pec1=((i2-v)/v)*100;//\n",
"disp(-pec,'percentage change (decrease) in coil-1 current is,(%)=')\n",
"disp(-pec1,'percentage change (decrease) in coil-2 current is,(%)=')\n",
"x1=((1/(2*%pi*f2)^2));//\n",
"x2=((314*x1)-(0.318*10^-2))/370;//\n",
"disp(x2*10^6,'capacitance is,(micro-F)=')\n",
"l2=x1/(x2);//\n",
"disp(l2,'inductance is ,(H)=')"
   ]
   }
,
{
		   "cell_type": "markdown",
		   "metadata": {},
		   "source": [
			"## Example 2.4: true_power.sce"
		   ]
		  },
  {
"cell_type": "code",
	   "execution_count": null,
	   "metadata": {
	    "collapsed": true
	   },
	   "outputs": [],
"source": [
"//Example 2.4://true power\n",
"clc;\n",
"clear;\n",
"close;\n",
"ph=45;//degree\n",
"th=90;//radians\n",
"del=-45;//radians\n",
"f=50;//Hz\n",
"l=15;//mH\n",
"r=300;//ohms\n",
"b=atan((2*%pi*f*l*10^-3)/r);//in radians\n",
"k=((cosd(ph))/(cos(b)*cosd(42)));//\n",
"nr=20;//nomianl ratio\n",
"e=-0.3;//\n",
"er=(e*nr)/100;//\n",
"ar1=nr-er;//actual ratio\n",
"nr1=100;//nomianl ratio\n",
"e1=0.9;//\n",
"er1=(e1*nr1)/100;//\n",
"ar2=nr1-er1;//actual ratio\n",
"p=450;//watts\n",
"tp=ar1*ar2*k*p;//\n",
"disp(tp*10^-3,'true power in kW is')\n",
"//answer is wrong in the textbook"
   ]
   }
,
{
		   "cell_type": "markdown",
		   "metadata": {},
		   "source": [
			"## Example 2.5: torque.sce"
		   ]
		  },
  {
"cell_type": "code",
	   "execution_count": null,
	   "metadata": {
	    "collapsed": true
	   },
	   "outputs": [],
"source": [
"//Example 2.5://torque\n",
"clc;\n",
"clear;\n",
"close;\n",
"d=2.5;//diameter in cm\n",
"n=500;//turns\n",
"b=1.1;//mWb/m^2\n",
"v=100;//volts\n",
"pf=0.7;//power factor\n",
"rp=2000;//ohms\n",
"x=((%pi*(d*10^-2)^2*n*b*10^-3*v*pf)/(4*rp));//\n",
"ang1=45;//degree\n",
"ang2=90;//degree\n",
"td1=x*sind(ang1);//\n",
"disp(td1,'torque in Nm when angle is 45 degree')\n",
"td2=x*sind(ang2);//\n",
"disp(td2,'torque in Nm when angle is 90 degree')"
   ]
   }
,
{
		   "cell_type": "markdown",
		   "metadata": {},
		   "source": [
			"## Example 2.6: resistance.sce"
		   ]
		  },
  {
"cell_type": "code",
	   "execution_count": null,
	   "metadata": {
	    "collapsed": true
	   },
	   "outputs": [],
"source": [
"//Example 2.6://resistance\n",
"clc;\n",
"clear;\n",
"close;\n",
"la=4.78;//henry\n",
"ra=298;//ohms\n",
"lb=3;//henry\n",
"rb=190;//ohms\n",
"v=200;//volts\n",
"r=((la*100*lb*100*%pi^2)-(ra*rb))/(rb+ra);//ohm\n",
"disp(r,'unknown resistance is,(ohm)=')\n",
"//answer is wrong in the textbook"
   ]
   }
,
{
		   "cell_type": "markdown",
		   "metadata": {},
		   "source": [
			"## Example 2.7: resistance.sce"
		   ]
		  },
  {
"cell_type": "code",
	   "execution_count": null,
	   "metadata": {
	    "collapsed": true
	   },
	   "outputs": [],
"source": [
"//Example 2.7://resistance\n",
"clc;\n",
"clear;\n",
"close;\n",
"i=20;//amperes\n",
"v=100;//volts\n",
"pf=1;//power factor\n",
"p=v*i*pf;//watts\n",
"rp=5500;//ohms\n",
"th=150;//angle\n",
"kd=((rp*th)/p);//constant\n",
"wd=20;//watts per degree\n",
"rp1=wd*kd;//in ohms\n",
"adr=rp1-rp;//\n",
"disp(adr,'addition resistance in ohm is')"
   ]
   }
,
{
		   "cell_type": "markdown",
		   "metadata": {},
		   "source": [
			"## Example 2.8: parameters.sce"
		   ]
		  },
  {
"cell_type": "code",
	   "execution_count": null,
	   "metadata": {
	    "collapsed": true
	   },
	   "outputs": [],
"source": [
"//Example 2.8://resistance,impedance,power,power factor ,voltage and power factor\n",
"clc;\n",
"clear;\n",
"close;\n",
"v=300;//volts\n",
"i2=2.5;//amperes\n",
"r=v/i2;//ohms\n",
"disp(r,'resistance in ohm is')\n",
"i3=4;//amperes\n",
"zl=v/i3;//ohms\n",
"disp(zl,'load impedance in ohm is')\n",
"v=300;//volts\n",
"i2=2.5;//amperes\n",
"r=v/i2;//ohms\n",
"i1=5.6;//amperes\n",
"z=v/i1;//ohms\n",
"disp(z,'impedance of combination in ohm is')\n",
"i3=4;//amperes\n",
"pl=((i1^2-i2^2-i3^2)*r)/2;//in watts\n",
"disp(pl,'power absorbed by the load in W is')\n",
"pl=((i1^2-i2^2-i3^2)*r)/2;//in watts\n",
"pfl=((i1^2-i2^2-i3^2)/(2*i2*i3));//power factor\n",
"disp(pfl,'power factor of the load is')\n",
"pr=i2^2*r;//in watts\n",
"tps=pl+pr;//in watts\n",
"disp(tps,'total power supply  is,(W)=')\n",
"tps=pl+pr;//in watts\n",
"tpf=tps/(v*i1);//power factor\n",
"disp(tpf,'total power factor is')"
   ]
   }
,
{
		   "cell_type": "markdown",
		   "metadata": {},
		   "source": [
			"## Example 2.9: wattmeter_reading.sce"
		   ]
		  },
  {
"cell_type": "code",
	   "execution_count": null,
	   "metadata": {
	    "collapsed": true
	   },
	   "outputs": [],
"source": [
"//Example 2.9://wattmeter reading\n",
"clc;\n",
"clear;\n",
"close;\n",
"v=24;//volts\n",
"r1=6;//ohms\n",
"i=v/r1;//in amperes\n",
"t=0;0.005\n",
"vm=100;//volts\n",
"t0=0;//\n",
"t1=(1/100);//\n",
"f=50;//Hz\n",
"z=2*%pi*f;//\n",
"x=integrate('sin(z*t)','t',t0,(t1/2));//\n",
"p=vm*(1/t1)*i*x;//\n",
"disp(p,'average power to be read by wattmeter is,(W)=')"
   ]
   }
],
"metadata": {
		  "kernelspec": {
		   "display_name": "Scilab",
		   "language": "scilab",
		   "name": "scilab"
		  },
		  "language_info": {
		   "file_extension": ".sce",
		   "help_links": [
			{
			 "text": "MetaKernel Magics",
			 "url": "https://github.com/calysto/metakernel/blob/master/metakernel/magics/README.md"
			}
		   ],
		   "mimetype": "text/x-octave",
		   "name": "scilab",
		   "version": "0.7.1"
		  }
		 },
		 "nbformat": 4,
		 "nbformat_minor": 0
}
