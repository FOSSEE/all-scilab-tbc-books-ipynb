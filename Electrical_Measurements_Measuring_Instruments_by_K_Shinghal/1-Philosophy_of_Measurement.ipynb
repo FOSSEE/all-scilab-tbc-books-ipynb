{
"cells": [
 {
		   "cell_type": "markdown",
	   "metadata": {},
	   "source": [
       "# Chapter 1: Philosophy of Measurement"
	   ]
	},
{
		   "cell_type": "markdown",
		   "metadata": {},
		   "source": [
			"## Example 1.10: resistance_and_error.sce"
		   ]
		  },
  {
"cell_type": "code",
	   "execution_count": null,
	   "metadata": {
	    "collapsed": true
	   },
	   "outputs": [],
"source": [
"//Example 1.10://MAGNITUDE AND LIMITING ERROR\n",
"clc;\n",
"clear;\n",
"close;\n",
"disp('parralel resistance case')\n",
"r1=40;//ohms\n",
"er1=5;//percentage error\n",
"r2=80;//ohms\n",
"er2=5;//percentage error\n",
"r3=50;//ohms\n",
"er3=5;//percentage error\n",
"rp=((r1*r2*r3)/(r1*r2+r2*r3+r3*r1));//ohms\n",
"Y=(r1*r2+r2*r3+r3*r1);//ohms\n",
"ex=er1+er2+er3;//percentage error\n",
"ey1=er1+er2;//\n",
"ey2=er2+er3;//\n",
"ey3=er3+er1;//\n",
"y=(((r1*r2*ey1)/Y)+((r2*r3*ey2)/Y)+((r3*r1*ey3)/Y));//error\n",
"mer=(y+ex)*rp;//\n",
"disp(rp,'magnitude of resistance in ohms is')\n",
"disp(mer/100,'limiting error in ohms is')\n",
"disp((y+ex),'percentage error (%)')\n",
"disp('series resistance case')\n",
"rs=r1+r2+r3;//ohms\n",
"er=(((r1/rs)*er1)+((r2/rs)*er2)+((r3/rs)*er3));//\n",
"mer1=(er/100)*rs;//ohms\n",
"disp(rs,'magnitude of resistance in ohms is')\n",
"disp(er,'percentage error (%)')\n",
"disp(mer1,'limiting error in ohms is')"
   ]
   }
,
{
		   "cell_type": "markdown",
		   "metadata": {},
		   "source": [
			"## Example 1.11: resistance_and_error.sce"
		   ]
		  },
  {
"cell_type": "code",
	   "execution_count": null,
	   "metadata": {
	    "collapsed": true
	   },
	   "outputs": [],
"source": [
"//Example 1.11://MAGNITUDE AND LIMITING ERROR\n",
"clc;\n",
"clear;\n",
"close;\n",
"r1=50;//ohms\n",
"er1=0.5;//percentage error\n",
"r2=100;//ohms\n",
"er2=0.5;//percentage error\n",
"r3=75.5;//ohms\n",
"er3=0.5;//percentage error\n",
"x=((r2/r1)*r3);//ohms\n",
"eps=er1+er2;//\n",
"erpsq=eps-er3;//when error in both (PS) and (Q) is positive\n",
"erpsq1=eps+er3;//when error in (PS) is positive and (Q) is negetive\n",
"oer1=(erpsq/100)*x;//ohms\n",
"oer2=(erpsq1/100)*x;//ohms\n",
"disp(x,'magintude in ohm is')\n",
"disp(erpsq,'percentage error when error in both (PS) and (Q) is positive (%)')\n",
"disp(oer1,'error in ohms when error in both (PS) and (Q) is positive')\n",
"disp(erpsq1,'percentage error when error in (PS) is positive and (Q) is negetive (%) ')\n",
"disp(oer2,'error in ohms when error in (PS) is positive and (Q) is negetive')"
   ]
   }
,
{
		   "cell_type": "markdown",
		   "metadata": {},
		   "source": [
			"## Example 1.1: arithmetic_mean_average_deviation_standard_deviation_and_probable_error.sce"
		   ]
		  },
  {
"cell_type": "code",
	   "execution_count": null,
	   "metadata": {
	    "collapsed": true
	   },
	   "outputs": [],
"source": [
"//Example 1.1://ARITHEMATIC MEAN,AVERAGE DEVIATION ,STANDARD DEVIATION AND PROBABLE ERROR\n",
"clc;\n",
"clear;\n",
"T=[99.7,99.8,99.9,100,100.1,100.2,100.3];//VOLTS\n",
"f=[2,8,20,40,21,6,3];//frequency of occurence\n",
"q=[T(1)*f(1),T(2)*f(2),T(3)*f(3),T(4)*f(4),T(5)*f(5),T(6)*f(6),T(7)*f(7)];//\n",
"AM=(q(1)+q(2)+q(3)+q(4)+q(5)+q(6)+q(7))/100;//arithematic mean in mm\n",
"for i= 1:7\n",
"    qb(i)= T(i)-AM;\n",
"end\n",
"Q= [qb(1),qb(2),qb(3),qb(4),qb(5),qb(6),qb(7)];//\n",
"AV=(-qb(1)*f(1)-qb(2)*f(2)-qb(3)*f(3)-qb(4)*f(4)+qb(5)*f(5)+qb(6)*f(6)+qb(7)*f(7))/100;//\n",
"SD=sqrt(((qb(1)^2*f(1))+(qb(2)^2*f(2))+(qb(3)^2*f(3))+(qb(4)^2*f(4))+(qb(5)^2*f(5))+(qb(6)^2*f(6))+(qb(7)^2*f(7)))/100);//standard deviation\n",
"r1= 0.6745*SD;//PROBABLE ERROR OF ONE READING\n",
"disp(AM,'arithmetic mean is,(V)=')\n",
"disp(AV,'average deviation is,(V)=')\n",
"disp(SD,'standard deviation is,(V)=')\n",
"disp(r1,'probable error is,(V)=')\n",
""
   ]
   }
,
{
		   "cell_type": "markdown",
		   "metadata": {},
		   "source": [
			"## Example 1.2: apparent_value_of_resistance_and_gross_error.sce"
		   ]
		  },
  {
"cell_type": "code",
	   "execution_count": null,
	   "metadata": {
	    "collapsed": true
	   },
	   "outputs": [],
"source": [
"//Example 1.2://APPRABET RESISTANCE AND PERCENTAGE GROSS ERROR\n",
"clc;\n",
"clear;\n",
"close;\n",
"disp('when current reading is 5mA')\n",
"vr=100;//voltmeter reading\n",
"ir=5;//mA\n",
"rt=vr/(ir);//in kilo ohms\n",
"disp(rt,'apparent resistance in kilo ohms is')\n",
"vm=150;//range of voltmeter\n",
"s=1;//kilo ohms per volts sensivity\n",
"rv=s*vm;//kilo ohms\n",
"rx=((rt*rv)/(rv-rt));//kilo ohms\n",
"ge=((rx-rt)/rx)*100;//percentage gross error\n",
"disp(ge,'percentage gross error is')\n",
"disp('when current reading is 50mA')\n",
"vr=100;//voltmeter reading\n",
"ir1=50;//mA\n",
"rt1=vr/(ir1);//in kilo ohms\n",
"disp(rt1,'apparent resistance in kilo ohms is')\n",
"vm=150;//range of voltmeter\n",
"s=1;//kilo ohms per volts sensivity\n",
"rv=s*vm;//kilo ohms\n",
"rx1=((rt1*rv)/(rv-rt1));//kilo ohms\n",
"ge1=((rx1-rt1)/rx1)*100;//percentage gross error\n",
"disp(ge1,'percentage gross error is')"
   ]
   }
,
{
		   "cell_type": "markdown",
		   "metadata": {},
		   "source": [
			"## Example 1.3: limiting_error.sce"
		   ]
		  },
  {
"cell_type": "code",
	   "execution_count": null,
	   "metadata": {
	    "collapsed": true
	   },
	   "outputs": [],
"source": [
"//Example 1.3://limiting error\n",
"clc;\n",
"clear;\n",
"close;\n",
"fs=1.5;//full scale in percentage\n",
"vr=500;//voltmeter reading\n",
"ea=(fs/100)*vr;//volts\n",
"le=150;//limiting error voltage\n",
"lep=((ea/le)*100);//limiting error\n",
"disp(lep,'limiting error at 150 V is ,(%)=')"
   ]
   }
,
{
		   "cell_type": "markdown",
		   "metadata": {},
		   "source": [
			"## Example 1.4: arithematic_mean_average_deviation_standard_deviation_and_varaiance.sce"
		   ]
		  },
  {
"cell_type": "code",
	   "execution_count": null,
	   "metadata": {
	    "collapsed": true
	   },
	   "outputs": [],
"source": [
"//Example 1.4://ARITHEMATIC MEAN,AVERAGE DEVIATION ,STANDARD DEVIATION AND PROBABLE ERROR\n",
"clc;\n",
"clear;\n",
"T=[99.7,99.8,100,100.2,100.3];//VOLTS\n",
"q=[T(1),T(2),T(3),T(4),T(5)];//\n",
"AM=(q(1)+q(2)+q(3)+q(4)+q(5))/5;//arithematic mean in mm\n",
"for i= 1:5\n",
"    qb(i)= T(i)-AM;\n",
"end\n",
"Q= [qb(1),qb(2),qb(3),qb(4),qb(5)];//\n",
"AV=(-qb(1)-qb(2)-qb(3)+qb(4)+qb(5))/5;//\n",
"SD=sqrt(((qb(1)^2)+(qb(2)^2)+(qb(3)^2)+(qb(4)^2)+(qb(5)^2))/5);//standard deviation\n",
"V=SD^2;//\n",
"disp(AM,'arithmetic mean is, (V)=')\n",
"disp(AV,'average deviation is, (V)=')\n",
"disp(SD,'standard deviation is, (V)=')\n",
"disp(V,'Variance is ,(V)=')"
   ]
   }
,
{
		   "cell_type": "markdown",
		   "metadata": {},
		   "source": [
			"## Example 1.5: power_and_error.sce"
		   ]
		  },
  {
"cell_type": "code",
	   "execution_count": null,
	   "metadata": {
	    "collapsed": true
	   },
	   "outputs": [],
"source": [
"//Example 1.5://error\n",
"clc;\n",
"clear;\n",
"close;\n",
"i=8.2;//in amperes\n",
"r=20;//ohms\n",
"p=i^2*r;//watts\n",
"nd=100;//divisions\n",
"ra=10;//range in amperes\n",
"rd1=ra/nd;//reading of one division\n",
"d=0.5;//divisions\n",
"per=((d*rd1)/i)*100;//possible ameter rwading error\n",
"amcr=1;//ammemeter constant error\n",
"ter=amcr+per;//total ammeter error\n",
"crr=-0.2;//construction error\n",
"ep=(((2*ter)+crr)/nd)*p;//\n",
"disp(p,'power is,(W)=')\n",
"disp(ep,'error in power is,(W)=')"
   ]
   }
,
{
		   "cell_type": "markdown",
		   "metadata": {},
		   "source": [
			"## Example 1.6: arithematic_mea.sce"
		   ]
		  },
  {
"cell_type": "code",
	   "execution_count": null,
	   "metadata": {
	    "collapsed": true
	   },
	   "outputs": [],
"source": [
"//Example 1.6://ARITHEMATIC MEAN\n",
"clc;\n",
"clear;\n",
"T=[99.7,99.8,99.9,100,100.1,100.2,100.3];//VOLTS\n",
"f=[2,8,20,40,21,6,3];//frequency of occurence\n",
"for i=1:7\n",
"    qb(i)=T(i)-T(6);\n",
"end\n",
"prdtc=[(qb(1)*f(1))+(qb(2)*f(2))+(qb(3)*f(3))+(qb(4)*f(4))+(qb(5)*f(5))+(qb(6)*f(6))+(qb(7)*f(7))]\n",
"am=T(6)+(prdtc/100);//arithemetic mean\n",
"disp(am,'arithmetic mean is,(V)=')"
   ]
   }
,
{
		   "cell_type": "markdown",
		   "metadata": {},
		   "source": [
			"## Example 1.7: limiting_error.sce"
		   ]
		  },
  {
"cell_type": "code",
	   "execution_count": null,
	   "metadata": {
	    "collapsed": true
	   },
	   "outputs": [],
"source": [
"//Example 1.7://limiting error\n",
"clc;\n",
"clear;\n",
"close;\n",
"fse=1;//full scale deflection\n",
"vr=150;//range in volts\n",
"ev=(fse/100)*vr;//voltas\n",
"v1=100;//volts\n",
"le100=((ev)/v1)*100;//in percentage\n",
"ve=100;//range in mA\n",
"ee=(fse/100)*ve;//mA\n",
"e1=55;//mA\n",
"le50=((ee/e1)*100);//in percentage\n",
"ler=le100+le50;//\n",
"disp(ler,'limiting error for power is, (%)=')"
   ]
   }
,
{
		   "cell_type": "markdown",
		   "metadata": {},
		   "source": [
			"## Example 1.8: volume_and_error_in_volume.sce"
		   ]
		  },
  {
"cell_type": "code",
	   "execution_count": null,
	   "metadata": {
	    "collapsed": true
	   },
	   "outputs": [],
"source": [
"//Example 1.8:// error\n",
"clc;\n",
"clear;\n",
"close;\n",
"fse=1;//full scale deflection\n",
"e=0.60;//meters\n",
"v=(e)^3;//volume in m^3\n",
"ev=3*fse;//error in volume\n",
"evv=(ev/100)*v;//\n",
"disp(v,'volume is,(m^3)=')\n",
"disp(ev,'percentage error in volume is,(%)=')\n",
"disp(evv,'error in volume is,(m^3)=')"
   ]
   }
,
{
		   "cell_type": "markdown",
		   "metadata": {},
		   "source": [
			"## Example 1.9: current_and_error_in_current.sce"
		   ]
		  },
  {
"cell_type": "code",
	   "execution_count": null,
	   "metadata": {
	    "collapsed": true
	   },
	   "outputs": [],
"source": [
"//Example 1.9://error\n",
"clc;\n",
"clear;\n",
"close;\n",
"v=95;//volts\n",
"r=40;//ohms\n",
"i=v/r;//amperes\n",
"err=-0.2;//error in resistance\n",
"err1=(err/r)*100;//percentage error \n",
"evv=0.95;//error in voltage\n",
"evv1=(evv/v)*100;//percentage error\n",
"x=evv1-err1;//\n",
"ei=(x/100)*i;//\n",
"disp(i,'current in the circuit is,(A)=')\n",
"disp(ei,'error in current is,(A)=')\n",
"disp(x,'percentage error in current is,(%)=')"
   ]
   }
],
"metadata": {
		  "kernelspec": {
		   "display_name": "Scilab",
		   "language": "scilab",
		   "name": "scilab"
		  },
		  "language_info": {
		   "file_extension": ".sce",
		   "help_links": [
			{
			 "text": "MetaKernel Magics",
			 "url": "https://github.com/calysto/metakernel/blob/master/metakernel/magics/README.md"
			}
		   ],
		   "mimetype": "text/x-octave",
		   "name": "scilab",
		   "version": "0.7.1"
		  }
		 },
		 "nbformat": 4,
		 "nbformat_minor": 0
}
