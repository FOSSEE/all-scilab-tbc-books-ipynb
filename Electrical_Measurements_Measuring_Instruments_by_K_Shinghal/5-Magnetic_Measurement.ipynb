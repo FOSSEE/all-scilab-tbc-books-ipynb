{
"cells": [
 {
		   "cell_type": "markdown",
	   "metadata": {},
	   "source": [
       "# Chapter 5: Magnetic Measurement"
	   ]
	},
{
		   "cell_type": "markdown",
		   "metadata": {},
		   "source": [
			"## Example 5.10: relative_permeability.sce"
		   ]
		  },
  {
"cell_type": "code",
	   "execution_count": null,
	   "metadata": {
	    "collapsed": true
	   },
	   "outputs": [],
"source": [
"//Example 5.10 //relative permeability\n",
"clc;\n",
"clear;\n",
"close;\n",
"n1=600;//turns\n",
"i=3;//A\n",
"d=30;//cm\n",
"H=(n1*i)/(%pi*d*10^-2);//\n",
"mo=4*%pi*10^-7;//\n",
"x=mo*H;//\n",
"as=6;//cm^2;//\n",
"y=as*10^-4*x;//\n",
"t1=500;//turns\n",
"z=t1*y;//\n",
"z1=2*z;//\n",
"r=250;//ohms\n",
"it=z1/r;//\n",
"k=3000;//micro-C\n",
"ur=(k*10^-6)/it;//\n",
"disp(round(ur),'relative permeability is,=')"
   ]
   }
,
{
		   "cell_type": "markdown",
		   "metadata": {},
		   "source": [
			"## Example 5.11: fluxmeter_deflectio.sce"
		   ]
		  },
  {
"cell_type": "code",
	   "execution_count": null,
	   "metadata": {
	    "collapsed": true
	   },
	   "outputs": [],
"source": [
"//Example 5.11 // Fluxmeter deflection\n",
"clc;\n",
"clear;\n",
"close;\n",
"//given data :\n",
"l=5*10^-2;// in m\n",
"N=40;// turns\n",
"B=5*10^-3;// in Wb/m^2\n",
"b=1.5*10^-2;// in m\n",
"cs=2*10^-4;// in  m^2\n",
"B1=0.05;// in Wb/m^2\n",
"fi=B1*cs;\n",
"del_fi=2*fi;\n",
"theta=(del_fi*10)/(N*B*l*b);\n",
"disp((theta*(180/%pi)),'Fluxmeter deflection,(degree) = ')"
   ]
   }
,
{
		   "cell_type": "markdown",
		   "metadata": {},
		   "source": [
			"## Example 5.12: hysteresis_and_eddy_current_loss.sce"
		   ]
		  },
  {
"cell_type": "code",
	   "execution_count": null,
	   "metadata": {
	    "collapsed": true
	   },
	   "outputs": [],
"source": [
"//Example 5.12 //hysteresis and eddy current components\n",
"clc;\n",
"clear;\n",
"close\n",
"w1=132;//W\n",
"f1=20;//Hz\n",
"x=w1/f1;//\n",
"w2=425;//W\n",
"f2=50;//Hz\n",
"y=w2/f2;//\n",
"A=[1 f1;1 f2];//\n",
"B=[x;y];//\n",
"X=A\B;//\n",
"Wh=X(1,1)*f2;//W\n",
"We=X(2,1)*f2^2;//W\n",
"disp(Wh,'hysteresis current component of the loss is,(W)=')\n",
"disp(We,'Eddy current component of the loss is,(W)=')"
   ]
   }
,
{
		   "cell_type": "markdown",
		   "metadata": {},
		   "source": [
			"## Example 5.13: hysteresis_loss.sce"
		   ]
		  },
  {
"cell_type": "code",
	   "execution_count": null,
	   "metadata": {
	    "collapsed": true
	   },
	   "outputs": [],
"source": [
"//Example 5.13 //hysteresis loss\n",
"clc;\n",
"clear;\n",
"close\n",
"Hx=125;//AT/m\n",
"ah=200;//cm^2\n",
"ba=0.15;//Wb/m^2\n",
"le=ah*Hx*ba;//J/m^3\n",
"lo=50;//loos\n",
"po=lo*le;//W/m^3\n",
"kg=8.5*10^3;//kg/m^3\n",
"lkg=po/kg;//watt\n",
"disp(lkg,'hysteresis loss is ,(W)=')"
   ]
   }
,
{
		   "cell_type": "markdown",
		   "metadata": {},
		   "source": [
			"## Example 5.14: flux_density.sce"
		   ]
		  },
  {
"cell_type": "code",
	   "execution_count": null,
	   "metadata": {
	    "collapsed": true
	   },
	   "outputs": [],
"source": [
"//Example 5.14 // flux density\n",
"clc;\n",
"clear;\n",
"close;\n",
"//given data :\n",
"R=200+50;// in ohm\n",
"k=100*10^-6;// in coulomb\n",
"theta=80;// divisions\n",
"A=55*10^-4;// in m^2\n",
"N=1500;// turns\n",
"B=(R*k*theta)/(2*A*N);\n",
"disp(B,'The flux density,B(Wb/m^2) = ')"
   ]
   }
,
{
		   "cell_type": "markdown",
		   "metadata": {},
		   "source": [
			"## Example 5.15: loss.sce"
		   ]
		  },
  {
"cell_type": "code",
	   "execution_count": null,
	   "metadata": {
	    "collapsed": true
	   },
	   "outputs": [],
"source": [
"//Example 5.15 //loss\n",
"clc;\n",
"clear;\n",
"close\n",
"f=50;//Hz\n",
"k=2.3*10^-2;//\n",
"x=1.7;//\n",
"wi=0.6;//W\n",
"bm=0.5;//Wb/m^2\n",
"kd=((wi-(k*bm^x*f))/(bm^2*f^2));//\n",
"f1=20;//Hz\n",
"bm1=1;//\n",
"wi1=((k*bm1^x*f1)+(kd*bm1^2*f1^2));//\n",
"disp(wi1,'loss is ,(W)=')"
   ]
   }
,
{
		   "cell_type": "markdown",
		   "metadata": {},
		   "source": [
			"## Example 5.16: magnetic_force_flux_density_and_relative_permeability.sce"
		   ]
		  },
  {
"cell_type": "code",
	   "execution_count": null,
	   "metadata": {
	    "collapsed": true
	   },
	   "outputs": [],
"source": [
"//Example 5.16 //MAGNETIC FORCE ,FLUX DENSITY AND RELATIVE PERMEABILITY\n",
"clc;\n",
"clear;\n",
"close\n",
"k=1;//micro-C\n",
"th=100;//turns\n",
"r=5000;//ohm\n",
"n2=350;//turns\n",
"as=10;//cm^2\n",
"b=((k*th*r*10^-6)/(2*n2*as*10^-4));//Wb/m^2\n",
"disp(b,'magnetic flux is ,(Wb/m^2)=')\n",
"n1=100;//turns\n",
"i=4;//A\n",
"l=100;//cm\n",
"H=(n1*i)/(l*10^-2);//AT/m^2\n",
"disp(H,'flux density is,(AT/m^2)=')\n",
"mo=4*%pi*10^-7;//\n",
"ur=b/(mo*H);//\n",
"disp(ur,'relative permeability is,=')"
   ]
   }
,
{
		   "cell_type": "markdown",
		   "metadata": {},
		   "source": [
			"## Example 5.17: constant.sce"
		   ]
		  },
  {
"cell_type": "code",
	   "execution_count": null,
	   "metadata": {
	    "collapsed": true
	   },
	   "outputs": [],
"source": [
"//Example 5.17 // fluxmeter\n",
"clc;\n",
"clear;\n",
"close;\n",
"//given data :\n",
"N1=800;// turns\n",
"I=5;// in A\n",
"l=1;// in m\n",
"A=5*10^-4;// in m^2\n",
"N=500;// turns\n",
"theta=25;// divisions\n",
"H=(N1*I)/l;\n",
"B=(4*%pi*10^-7*H);\n",
"fi=B*A*10^8;\n",
"K=((2*N*fi*10^-8)/(theta));\n",
"disp(K*10^-3,'Constant is,(Wb-turn/scale-div)=')"
   ]
   }
,
{
		   "cell_type": "markdown",
		   "metadata": {},
		   "source": [
			"## Example 5.1: capacity_of_capacitor.sce"
		   ]
		  },
  {
"cell_type": "code",
	   "execution_count": null,
	   "metadata": {
	    "collapsed": true
	   },
	   "outputs": [],
"source": [
"//Example 5.1: Capacity of the capacitor\n",
"clc;\n",
"clear;\n",
"close;\n",
"//given data :\n",
"Ig=0.0001;// in A\n",
"T0=3;// in sec\n",
"theta0=200;\n",
"theta=45;\n",
"V=100;// in V\n",
"Q=(Ig*T0*theta0)/(theta*2*%pi);\n",
"C=(Q/V)*10^6;\n",
"disp(C,'Capacity of the capacitor,C(micro-F) = ')"
   ]
   }
,
{
		   "cell_type": "markdown",
		   "metadata": {},
		   "source": [
			"## Example 5.2: coulomb_sensivity.sce"
		   ]
		  },
  {
"cell_type": "code",
	   "execution_count": null,
	   "metadata": {
	    "collapsed": true
	   },
	   "outputs": [],
"source": [
"//Example 5.2: Coulomb sensitivity\n",
"clc;\n",
"clear;\n",
"close;\n",
"//given data :\n",
"C=1.5*10^-6;// in F\n",
"V=15;// in V\n",
"d1=20;// in cm\n",
"Q=C*V;\n",
"Sb=(d1/Q)*10^-5;\n",
"disp(Sb,'Coulomb sensitivity,Sb(mm/micro-C)')"
   ]
   }
,
{
		   "cell_type": "markdown",
		   "metadata": {},
		   "source": [
			"## Example 5.3_a: logarithmic_decrement.sce"
		   ]
		  },
  {
"cell_type": "code",
	   "execution_count": null,
	   "metadata": {
	    "collapsed": true
	   },
	   "outputs": [],
"source": [
"//Example 5.3.a: Logarithmic increment\n",
"clc;\n",
"clear;\n",
"close;\n",
"//given data :\n",
"theta1=12.5;\n",
"theta2=10;\n",
"lamda=log(theta1/theta2);\n",
"disp(lamda,'Logarithmic increment, = ')"
   ]
   }
,
{
		   "cell_type": "markdown",
		   "metadata": {},
		   "source": [
			"## Example 5.3_b: frequency.sce"
		   ]
		  },
  {
"cell_type": "code",
	   "execution_count": null,
	   "metadata": {
	    "collapsed": true
	   },
	   "outputs": [],
"source": [
"//Example 5.3.b:frequency\n",
"clc;\n",
"clear;\n",
"close;\n",
"//given data :\n",
"theta1=12.5;\n",
"theta2=10;\n",
"lamda=log(theta1/theta2);\n",
"x=lamda^2;//\n",
"y=x/(%pi^2-x);//\n",
"y1=sqrt(y);//\n",
"f=0.125;//Hz\n",
"fo=f/(sqrt(1-y1^2));//Hz\n",
"disp(fo,'undamped frequency is,(Hz)=')"
   ]
   }
,
{
		   "cell_type": "markdown",
		   "metadata": {},
		   "source": [
			"## Example 5.4: flux_density.sce"
		   ]
		  },
  {
"cell_type": "code",
	   "execution_count": null,
	   "metadata": {
	    "collapsed": true
	   },
	   "outputs": [],
"source": [
"//Example 5.3.b: Flux density\n",
"clc;\n",
"clear;\n",
"close;\n",
"//given data :\n",
"I1=5;// in A\n",
"I2=10;// in A\n",
"N1=100;// number of turns\n",
"N2=200;//number of turns\n",
"l=30*10^-2;// in m\n",
"R=200;// in ohm\n",
"theta1=45;// in degree\n",
"theta2=30;// in degree\n",
"As=0.3*10^-4;// in m^2\n",
"M=100*10^-3;// in H\n",
"k=(2*M*I1)/(R*theta1);\n",
"H=(N1*I2)/l;\n",
"fi=(R*k*theta2)/(2*N2);\n",
"B=fi/As;\n",
"mu=H/B;\n",
"disp(B,'Flux density,B(Wb/m^2) = ')\n",
"disp(mu,'permeability,mu(H/m) = ')\n",
"//flux density is calculed wrong in the textbook"
   ]
   }
,
{
		   "cell_type": "markdown",
		   "metadata": {},
		   "source": [
			"## Example 5.5: flux_density.sce"
		   ]
		  },
  {
"cell_type": "code",
	   "execution_count": null,
	   "metadata": {
	    "collapsed": true
	   },
	   "outputs": [],
"source": [
"//Example 5.5: Flux density and relative permeability\n",
"clc;\n",
"clear;\n",
"close;\n",
"//given data :\n",
"format('v',4)\n",
"A=5*10^-4;// in m^2\n",
"d=25*10^-2;// in m\n",
"l=%pi*d;\n",
"N1=150;// turns\n",
"N2=300;// turns\n",
"k=2*10^-6;// coulomb per division\n",
"R=2500;// in ohm\n",
"I=10;// in A\n",
"theta=75;// in division\n",
"mu_0=4*%pi*10^-7;\n",
"B=(k*theta*R)/(2*N2*A);\n",
"disp(B,'Flux density,B(Wb/m^2) = ')\n",
"H=(N1*I)/l;\n",
"mu_r=(B/(mu_0*H));\n",
"disp(mu_r,'Relative permeability, = ')"
   ]
   }
,
{
		   "cell_type": "markdown",
		   "metadata": {},
		   "source": [
			"## Example 5.6: flux_per_pole_and_leakage_coefficient.sce"
		   ]
		  },
  {
"cell_type": "code",
	   "execution_count": null,
	   "metadata": {
	    "collapsed": true
	   },
	   "outputs": [],
"source": [
"//Example 5.6 //flux per pole and leakage cofficient\n",
"clc;\n",
"clear;\n",
"close;\n",
"k=0.15;//micro-C\n",
"th=120;//divisions\n",
"th1=135;//divisions\n",
"r=4500;//ohm\n",
"n=3;//turns\n",
"ft=(k*10^-6*th*r)/n;//Wb\n",
"n1=4;//\n",
"ft1=(k*10^-6*th1*r)/n1;//Wb\n",
"disp(ft,'In case of total flux is,(Wb)=')\n",
"disp(ft1,'In case of useful flux is,(Wb)=')\n",
"lk=ft/ft1;//\n",
"disp(lk,'leakage coefficient is,=')"
   ]
   }
,
{
		   "cell_type": "markdown",
		   "metadata": {},
		   "source": [
			"## Example 5.7: relative_permeability.sce"
		   ]
		  },
  {
"cell_type": "code",
	   "execution_count": null,
	   "metadata": {
	    "collapsed": true
	   },
	   "outputs": [],
"source": [
"//Example 5.7 //relative permeability\n",
"clc;\n",
"clear;\n",
"close;\n",
"n1=320;//turns\n",
"n2=250;//turns\n",
"i=10;//A\n",
"l=32;//cm\n",
"N=(n1*i)/(l*10^-2);//AT/m\n",
"fl=2.5*10^-4;//Wb\n",
"sd=100;//\n",
"k=(fl*i)/sd;//\n",
"sd1=270;///\n",
"mo=4*%pi*10^-7;//\n",
"A=0.35;//cm^2\n",
"ur=((k*sd1)/(2*mo*N*A*10^-4*n2));//\n",
"disp(ur,'relative permeability is,=')"
   ]
   }
,
{
		   "cell_type": "markdown",
		   "metadata": {},
		   "source": [
			"## Example 5.8: resistance.sce"
		   ]
		  },
  {
"cell_type": "code",
	   "execution_count": null,
	   "metadata": {
	    "collapsed": true
	   },
	   "outputs": [],
"source": [
"//Example 5.7 // Shunt resistance\n",
"clc;\n",
"clear;\n",
"close;\n",
"//given data :\n",
"N=800;// turns\n",
"I=10;// in A\n",
"reluctance=150000;// in AT per Wb\n",
"fi=(N*I)/reluctance;\n",
"K=.15*10^-3;// in Wb turns/ division\n",
"rs=0.025;// in ohm\n",
"Ns=1;\n",
"theta=120;//divisions\n",
"S=(K*rs*theta)/((fi*Ns)-(K*theta));\n",
"disp(S,'The shunt resistance,S(ohm) = ')"
   ]
   }
,
{
		   "cell_type": "markdown",
		   "metadata": {},
		   "source": [
			"## Example 5.9: magnetic_potential_difference.sce"
		   ]
		  },
  {
"cell_type": "code",
	   "execution_count": null,
	   "metadata": {
	    "collapsed": true
	   },
	   "outputs": [],
"source": [
"//Example 5.9 // Magnetic pole difference\n",
"clc;\n",
"clear;\n",
"close;\n",
"//given data :\n",
"format('v',4)\n",
"N=150;// turns\n",
"I=1.2;// in A\n",
"theta=300;// divisions\n",
"t=155;//change in mmf in division\n",
"mmf=N*I;\n",
"r=2*mmf;// du to reversal\n",
"K=360/t;\n",
"M=(K*theta);\n",
"disp(M,'The magnetic potential difference between two points,(AT) = ')"
   ]
   }
],
"metadata": {
		  "kernelspec": {
		   "display_name": "Scilab",
		   "language": "scilab",
		   "name": "scilab"
		  },
		  "language_info": {
		   "file_extension": ".sce",
		   "help_links": [
			{
			 "text": "MetaKernel Magics",
			 "url": "https://github.com/calysto/metakernel/blob/master/metakernel/magics/README.md"
			}
		   ],
		   "mimetype": "text/x-octave",
		   "name": "scilab",
		   "version": "0.7.1"
		  }
		 },
		 "nbformat": 4,
		 "nbformat_minor": 0
}
