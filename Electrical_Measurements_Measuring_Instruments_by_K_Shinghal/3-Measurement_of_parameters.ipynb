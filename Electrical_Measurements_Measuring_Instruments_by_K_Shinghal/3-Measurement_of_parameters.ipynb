{
"cells": [
 {
		   "cell_type": "markdown",
	   "metadata": {},
	   "source": [
       "# Chapter 3: Measurement of parameters"
	   ]
	},
{
		   "cell_type": "markdown",
		   "metadata": {},
		   "source": [
			"## Example 3.10: resistance.sce"
		   ]
		  },
  {
"cell_type": "code",
	   "execution_count": null,
	   "metadata": {
	    "collapsed": true
	   },
	   "outputs": [],
"source": [
"//Example 3.10: value of unknown resistance\n",
"clc;\n",
"clear;\n",
"close;\n",
"ra=1200;//ohms\n",
"rb=ra/1600;//ohms\n",
"r1=800*rb;//ohms\n",
"r2=r1/1.25;//ohms\n",
"r3=0.5*rb;//ohms\n",
"rx=((r2/r1)*r3);//ohms\n",
"disp(rx,'unknown resistance is,(Ohm)=')"
   ]
   }
,
{
		   "cell_type": "markdown",
		   "metadata": {},
		   "source": [
			"## Example 3.11: resistance.sce"
		   ]
		  },
  {
"cell_type": "code",
	   "execution_count": null,
	   "metadata": {
	    "collapsed": true
	   },
	   "outputs": [],
"source": [
"//Example 3.11: Unknown resistance\n",
"clc;\n",
"clear;\n",
"close;\n",
"//given data :\n",
"AB=25;// in ohm\n",
"BC=75;// in ohm\n",
"S=6;// in ohm\n",
"R=((AB/BC)*S);\n",
"disp(R,' Unknown resistance,R(ohm) = ')"
   ]
   }
,
{
		   "cell_type": "markdown",
		   "metadata": {},
		   "source": [
			"## Example 3.12: arm_ratio.sce"
		   ]
		  },
  {
"cell_type": "code",
	   "execution_count": null,
	   "metadata": {
	    "collapsed": true
	   },
	   "outputs": [],
"source": [
"//Example 3.12: length\n",
"clc;\n",
"clear;\n",
"close;\n",
"r=0.0250;//ohms\n",
"l=100;//cm\n",
"d=100;//divisions\n",
"r1=r/l;//ohm/cm\n",
"p=10;//ohms\n",
"q=10;//ohms\n",
"x=p/q;//\n",
"r2=1.0125;//ohms\n",
"r3=1;//ohms\n",
"l1=((r3+r)-r2)/(2*r1);//cm\n",
"l2=100-l1;//cm\n",
"disp('In case 1 balance is obtained at '+string(l1)+' and '+string(l2)+' scale divisions')\n",
"p1=9.95;//ohms\n",
"q1=10.05;//ohms\n",
"x1=p1/q1;//\n",
"r2=1.0125;//ohms\n",
"r3=1;//ohms\n",
"l11=((p1*(r3+r))-(q1*r2))/((p1*r1)+(q1*r1));//cm\n",
"l21=100-round(l11);//cm\n",
"disp('In case 2 balance is obtained at '+string(round(l11))+' and '+string(l21)+' cm')"
   ]
   }
,
{
		   "cell_type": "markdown",
		   "metadata": {},
		   "source": [
			"## Example 3.13: resistance.sce"
		   ]
		  },
  {
"cell_type": "code",
	   "execution_count": null,
	   "metadata": {
	    "collapsed": true
	   },
	   "outputs": [],
"source": [
"//Example 3.13: Insolution resistance\n",
"clc;\n",
"clear;\n",
"close;\n",
"//given data :\n",
"V1=125;// in V\n",
"V2=100;// in V\n",
"t=25;// in sec\n",
"C=600*10^-12;// in F\n",
"R=t*10^-6/(C*log(V1/V2));\n",
"disp(round(R),'Insolution resistance,R(M-ohm) = ')"
   ]
   }
,
{
		   "cell_type": "markdown",
		   "metadata": {},
		   "source": [
			"## Example 3.14: resistance.sce"
		   ]
		  },
  {
"cell_type": "code",
	   "execution_count": null,
	   "metadata": {
	    "collapsed": true
	   },
	   "outputs": [],
"source": [
"//Example 3.14: Insolution resistance of the cable\n",
"clc;\n",
"clear;\n",
"close;\n",
"y=10;//Mega ohms\n",
"d=200;//divisioms\n",
"d1=126;//divisions\n",
"d2=100;//divisions\n",
"c=1;//assume\n",
"t=30;//seconds\n",
"x=0.4343\n",
"r=((x*t)/(c*log10(d/d1)));//\n",
"rd=((x*t)/(c*log10(d/d2)));//\n",
"x=rd/r;//\n",
"ro=((y-(10*x))/x);//Mega ohms\n",
"disp(round(ro),'Insolution resistance,R(M-ohm) = ')"
   ]
   }
,
{
		   "cell_type": "markdown",
		   "metadata": {},
		   "source": [
			"## Example 3.15: resistance.sce"
		   ]
		  },
  {
"cell_type": "code",
	   "execution_count": null,
	   "metadata": {
	    "collapsed": true
	   },
	   "outputs": [],
"source": [
"//Example 3.15:High resistance\n",
"clc;\n",
"clear;\n",
"close;\n",
"//given data :\n",
"V1=500;// in V\n",
"V2=300;// in V\n",
"t=60;// in sec\n",
"C=2.5*10^-6;// in F\n",
"R=t*10^-6/(C*log(V1/V2));\n",
"disp(R,'Unknown resistance,R(M-ohm) = ')"
   ]
   }
,
{
		   "cell_type": "markdown",
		   "metadata": {},
		   "source": [
			"## Example 3.16: resistance.sce"
		   ]
		  },
  {
"cell_type": "code",
	   "execution_count": null,
	   "metadata": {
	    "collapsed": true
	   },
	   "outputs": [],
"source": [
"//Example 3.16: Insolution resistance of the cable\n",
"clc;\n",
"clear;\n",
"close;\n",
"US=2.5;//SHUNT\n",
"SD=250;//DIVISIONS\n",
"x=US*SD;//\n",
"sr=350;//scale readomh\n",
"sd1=1000;//shunt\n",
"y=sr*sd1;//\n",
"r=1;//Mega ohms\n",
"ro=(y/x)*r;//mega ohms\n",
"disp(round(ro),'Insolution resistance,R(M-ohm) = ')"
   ]
   }
,
{
		   "cell_type": "markdown",
		   "metadata": {},
		   "source": [
			"## Example 3.17: balanced_bridge.sce"
		   ]
		  },
  {
"cell_type": "code",
	   "execution_count": null,
	   "metadata": {
	    "collapsed": true
	   },
	   "outputs": [],
"source": [
"//Example 3.17: Bridhe Balanced\n",
"clc;\n",
"clear;\n",
"close;\n",
"z1m=400;//ohms\n",
"z1a=50;//degree\n",
"z2m=200;//ohms\n",
"z2a=40;//degree\n",
"z3m=800;//ohms\n",
"z3a=-50;//degree\n",
"z4m=400;//ohms\n",
"z4a=20;//degree\n",
"x=z1m*z4m;//ohms\n",
"y=z2m*z3m;//ohms\n",
"a=z1a+z4a;//degree\n",
"b=z2a+z3a;//degree\n",
"disp('As '+string(x)+'='+string(y)+' (Z1*Z4=Z2*Z3) firts condition is satisfied')\n",
"disp('As '+string(a)+'° ≠ '+string(b)+'° (Sum of angles) second condition is not staisfied (so bridge is not balanced) ')"
   ]
   }
,
{
		   "cell_type": "markdown",
		   "metadata": {},
		   "source": [
			"## Example 3.18: impedence.sce"
		   ]
		  },
  {
"cell_type": "code",
	   "execution_count": null,
	   "metadata": {
	    "collapsed": true
	   },
	   "outputs": [],
"source": [
"//Example 3.18:Resistance \n",
"clc;\n",
"clear;\n",
"close;\n",
"//given data :\n",
"R2=100;// in ohm\n",
"R3=32.7;// in ohm\n",
"R4=100;// in ohm\n",
"R=1.36;// in ohm\n",
"L=47.8;// in mH\n",
"R1=(R2*R3/R4)-R;\n",
"disp(R1,'Resistance,R1(ohm) = ')\n",
"L1=(R2/R4)*L;\n",
"disp(L1,'inductance,L1(mH) = ')"
   ]
   }
,
{
		   "cell_type": "markdown",
		   "metadata": {},
		   "source": [
			"## Example 3.19: resistance_and_inductance.sce"
		   ]
		  },
  {
"cell_type": "code",
	   "execution_count": null,
	   "metadata": {
	    "collapsed": true
	   },
	   "outputs": [],
"source": [
"//Example 3.19:Resistance and Inductance\n",
"clc;\n",
"clear;\n",
"close;\n",
"f=1;//assume\n",
"r1=25;//ohms\n",
"i=50;//MH\n",
"x=r1+%i*(2*%pi*f*(i*10^-3));//\n",
"r2=2;//ohms\n",
"r=real(x)-r2;//ohms\n",
"l=imag(x)/(2*%pi*f);//henry\n",
"disp(r,'resistance is,(ohm)=')\n",
"disp(l*10^3,'inductance is,(mH)=')"
   ]
   }
,
{
		   "cell_type": "markdown",
		   "metadata": {},
		   "source": [
			"## Example 3.1: resistance_and_percentage_error.sce"
		   ]
		  },
  {
"cell_type": "code",
	   "execution_count": null,
	   "metadata": {
	    "collapsed": true
	   },
	   "outputs": [],
"source": [
"//Example 3.1: Resistance and percentage error\n",
"clc;\n",
"clear;\n",
"close;\n",
"//given data :\n",
"V=3.2;// in V\n",
"I=0.4;// in A\n",
"Rv=500;// in ohm\n",
"Xt=V/(I*(1-(V/(I*Rv))));\n",
"Xm=V/I;\n",
"Pe=((Xm-Xt)/Xt)*100;\n",
"disp(Xt,'(a). True value of unknown resistance,Xt(ohm) = ')\n",
"disp(Pe,'(b). % error,(%) =')\n",
"disp(' i.e.'+string(-Pe)+'% 10w')"
   ]
   }
,
{
		   "cell_type": "markdown",
		   "metadata": {},
		   "source": [
			"## Example 3.20: resistance.sce"
		   ]
		  },
  {
"cell_type": "code",
	   "execution_count": null,
	   "metadata": {
	    "collapsed": true
	   },
	   "outputs": [],
"source": [
"//Example 3.20:Resistance \n",
"clc;\n",
"clear;\n",
"close;\n",
"//given data :\n",
"R2=600;// in ohm\n",
"R3=400;// in ohm\n",
"R4=1000;// in ohm\n",
"R1=(R2*R3/R4);\n",
"disp(R1,'Unknown resistance,R1(ohm) = ')"
   ]
   }
,
{
		   "cell_type": "markdown",
		   "metadata": {},
		   "source": [
			"## Example 3.21: impedence.sce"
		   ]
		  },
  {
"cell_type": "code",
	   "execution_count": null,
	   "metadata": {
	    "collapsed": true
	   },
	   "outputs": [],
"source": [
"//Example 3.21:Resistance and inductance\n",
"clc;\n",
"clear;\n",
"close;\n",
"//given data :\n",
"S=900;// in ohm\n",
"P=1.5*10^3;// in ohm\n",
"Q=2*10^3;// in ohm\n",
"Cs=0.2*10^-6;// in F\n",
"rx=S*P/Q;\n",
"disp(rx,'Resistance,rx(ohm) = ')\n",
"L=P*Cs*S*10^3;\n",
"disp(L,'Inductance,L(mH) = ')"
   ]
   }
,
{
		   "cell_type": "markdown",
		   "metadata": {},
		   "source": [
			"## Example 3.22: resistance_and_inductance.sce"
		   ]
		  },
  {
"cell_type": "code",
	   "execution_count": null,
	   "metadata": {
	    "collapsed": true
	   },
	   "outputs": [],
"source": [
"//Example 3.22:Resistance and inductance\n",
"clc;\n",
"clear;\n",
"close;\n",
"//given data :\n",
"S=2000;// in ohm\n",
"P=1000;// in ohm\n",
"Q=S;// in ohm\n",
"C=1*10^-6;// in F\n",
"r=200;// in ohm\n",
"R=P*Q/S;\n",
"disp(R,'Resistance,R(ohm) = ')\n",
"L=(C*P/S)*(r*(Q+S)+(Q*S));\n",
"disp(L,'Inductance,L(H) = ')"
   ]
   }
,
{
		   "cell_type": "markdown",
		   "metadata": {},
		   "source": [
			"## Example 3.23: resistance_and_inductance.sce"
		   ]
		  },
  {
"cell_type": "code",
	   "execution_count": null,
	   "metadata": {
	    "collapsed": true
	   },
	   "outputs": [],
"source": [
"//Example 3.23:Resistance and inductance\n",
"clc;\n",
"clear;\n",
"close;\n",
"//given data :\n",
"R2=250;// in ohm\n",
"R3=100;// in ohm\n",
"R4=200;// in ohm\n",
"r1=43.1;// in ohm\n",
"R1=(R2*R3/R4)-r1;\n",
"r=229.7;// in ohm\n",
"C=1*10^-6;// in F\n",
"disp(R1,'Resistance,R1(ohm) = ')\n",
"L1=(C*R3/R4)*(r*(R4+R2)+(R2*R4));\n",
"disp(L1,'inductance,L1(H) = ')"
   ]
   }
,
{
		   "cell_type": "markdown",
		   "metadata": {},
		   "source": [
			"## Example 3.24: inductance_and_resistance.sce"
		   ]
		  },
  {
"cell_type": "code",
	   "execution_count": null,
	   "metadata": {
	    "collapsed": true
	   },
	   "outputs": [],
"source": [
"//Example 3.24:Resistance and inductance\n",
"clc;\n",
"clear;\n",
"close;\n",
"//given data :\n",
"R2=1000;// in ohm\n",
"R3=500;// in ohm\n",
"R4=1000;// in ohm\n",
"R1=(R2*R3/R4);\n",
"r=100;// in ohm\n",
"C=3*10^-6;// in F\n",
"disp(R1,'Resistance,R1(ohm) = ')\n",
"L=(C*R2/R4)*(r*(R4+R3)+(R3*R4));\n",
"disp(L,'inductance,L(H) = ')"
   ]
   }
,
{
		   "cell_type": "markdown",
		   "metadata": {},
		   "source": [
			"## Example 3.25: resistance_and_inductance.sce"
		   ]
		  },
  {
"cell_type": "code",
	   "execution_count": null,
	   "metadata": {
	    "collapsed": true
	   },
	   "outputs": [],
"source": [
"//Example 3.25:Resistance and inductance\n",
"clc;\n",
"clear;\n",
"close;\n",
"//given data :\n",
"R2=1000;// in ohm\n",
"R3=16800;// in ohm\n",
"R4=833;// in ohm\n",
"C4=0.38*10^-6;// in F\n",
"f=50;// in Hz\n",
"w=2*%pi*f;\n",
"L1=(R2*R3*C4)/(1+w^2*C4^2*R4^2);\n",
"disp(L1,'Inductance,L1(H) = ')\n",
"R1=(R2*R3*R4*w^2*C4^2)/(1+w^2*C4^2*R4^2);\n",
"disp(R1,'Resistance,R1(ohm) = ')"
   ]
   }
,
{
		   "cell_type": "markdown",
		   "metadata": {},
		   "source": [
			"## Example 3.26: resistance_and_inductance.sce"
		   ]
		  },
  {
"cell_type": "code",
	   "execution_count": null,
	   "metadata": {
	    "collapsed": true
	   },
	   "outputs": [],
"source": [
"//Example 3.26:Resistance and inductance\n",
"clc;\n",
"clear;\n",
"close;\n",
"//given data :\n",
"R2=2410;// in ohm\n",
"R3=750;// in ohm\n",
"R4=64.9;// in ohm\n",
"C4=0.35*10^-6;// in F\n",
"f=500;// in Hz\n",
"w=2*%pi*f;\n",
"L1=(R2*R3*C4)/(1+w^2*C4^2*R4^2);\n",
"disp(L1,'Inductance,L1(H) = ')\n",
"R1=(R2*R3*R4*w^2*C4^2)/(1+w^2*C4^2*R4^2);\n",
"disp(R1,'Resistance,R1(ohm) = ')"
   ]
   }
,
{
		   "cell_type": "markdown",
		   "metadata": {},
		   "source": [
			"## Example 3.27: resistance_and_inductance.sce"
		   ]
		  },
  {
"cell_type": "code",
	   "execution_count": null,
	   "metadata": {
	    "collapsed": true
	   },
	   "outputs": [],
"source": [
"//Example 3.27:Resistance and inductance\n",
"clc;\n",
"clear;\n",
"close;\n",
"//given data :\n",
"R3=16800;// in ohm\n",
"R2=1000;// in ohm\n",
"R4=833;// in ohm\n",
"C4=0.38*10^-6;// in F\n",
"f=50;// in Hz\n",
"w=2*%pi*f;\n",
"L1=(R2*R3*C4)/(1+w^2*C4^2*R4^2);\n",
"disp(L1,'Inductance,L1(H) = ')\n",
"R1=(R2*R3*R4*w^2*C4^2)/(1+(w^2*C4^2*R4^2));\n",
"disp(R1,'Resistance,R1(ohm) = ')\n",
"//resistance is calculated wrong in the textbook"
   ]
   }
,
{
		   "cell_type": "markdown",
		   "metadata": {},
		   "source": [
			"## Example 3.28: resistance_and_inductance.sce"
		   ]
		  },
  {
"cell_type": "code",
	   "execution_count": null,
	   "metadata": {
	    "collapsed": true
	   },
	   "outputs": [],
"source": [
"//Example 3.28:Resistance and Inductance\n",
"clc;\n",
"clear;\n",
"close;\n",
"r3=100;//ohms\n",
"c4=0.1;//micro-farads\n",
"r2=834;//ohms\n",
"c2=0.124;//micro farads\n",
"la=r2*r3*c4*10^-3;//mH\n",
"r1=(r3)*(c4/c2);//ohms\n",
"disp(la,'inductance is,(mH)=')\n",
"disp(r1,'resistance is,(ohm)=')"
   ]
   }
,
{
		   "cell_type": "markdown",
		   "metadata": {},
		   "source": [
			"## Example 3.29: capacitance.sce"
		   ]
		  },
  {
"cell_type": "code",
	   "execution_count": null,
	   "metadata": {
	    "collapsed": true
	   },
	   "outputs": [],
"source": [
"//Example 3.29: Phase angle error and Capacitance\n",
"clc;\n",
"clear;\n",
"close;\n",
"//given data :\n",
"C1=1*10^-6;// in F\n",
"R1=1000;// in ohm\n",
"R2=1000;// in ohm\n",
"f=1000;// in Hz\n",
"r1=10;// in ohm\n",
"R3=2000;// in ohm\n",
"R4=2000;/// in ohm\n",
"C2=C1*R1*10^6/R2;\n",
"w=2*%pi*f;\n",
"disp(C2,'Unknown capacitance,C2(micro-F) = ')\n",
"r2=(R2*(R3+r1)-(R1*R4))/R1;\n",
"del1=w*r1*C1*(180/%pi);\n",
"del2=r2*w*C2*10^-6*(180/%pi);\n",
"disp(del1,'Phase angle error,del1(degree) = ')\n",
"disp(del2,'Phase angle error,del2(degree) = ')"
   ]
   }
,
{
		   "cell_type": "markdown",
		   "metadata": {},
		   "source": [
			"## Example 3.2: resistance.sce"
		   ]
		  },
  {
"cell_type": "code",
	   "execution_count": null,
	   "metadata": {
	    "collapsed": true
	   },
	   "outputs": [],
"source": [
"//Example 3.2: Measured value of resistance\n",
"clc;\n",
"clear;\n",
"close;\n",
"//given data :\n",
"a=1;// in ohm\n",
"b=5;// in ohm\n",
"A=(1/a)+(1/b);\n",
"r=1/A;\n",
"I=0.1;// in A\n",
"V=r*I;\n",
"Mr=V/I;\n",
"disp(Mr,'Measured value of resistance,(ohm) = ')"
   ]
   }
,
{
		   "cell_type": "markdown",
		   "metadata": {},
		   "source": [
			"## Example 3.30: capacitance_and_loss_angle.sce"
		   ]
		  },
  {
"cell_type": "code",
	   "execution_count": null,
	   "metadata": {
	    "collapsed": true
	   },
	   "outputs": [],
"source": [
"//Example 3.30: Series resistance and loss angle\n",
"clc;\n",
"clear;\n",
"close;\n",
"//given data :\n",
"R2=100;// in ohm\n",
"R4=309;// in ohm\n",
"C3=100*10^-12;// in F\n",
"C4=0.5*10^-6;// in F\n",
"f=50;// in Hz\n",
"w=2*%pi*f;\n",
"Rs=C4*R2*10^-6/C3;\n",
"disp(Rs,'Series resistance,Rs(M-ohm) = ')\n",
"Cs=R4*C3*10^12/R2;\n",
"del=atand(w*Cs*Rs*10^-6);\n",
"disp(Cs,'capacitance is,(micro-F)=')\n",
"disp(del,'Loss angle,del(degree) = ')"
   ]
   }
,
{
		   "cell_type": "markdown",
		   "metadata": {},
		   "source": [
			"## Example 3.31: capacitance_and_angle.sce"
		   ]
		  },
  {
"cell_type": "code",
	   "execution_count": null,
	   "metadata": {
	    "collapsed": true
	   },
	   "outputs": [],
"source": [
"//Example 3.31: Capacitance, power loss, loss resistance and loss angle\n",
"clc;\n",
"clear;\n",
"close;\n",
"//given data :\n",
"r2=1500/%pi;// in ohm\n",
"r3=120;// in ohm\n",
"C2=0.95*10^-6;//F\n",
"C1=50*10^-12;// F\n",
"Cs=round(C1*r2*10^12/r3);\n",
"f=50;\n",
"w=round(2*%pi*f);\n",
"disp(Cs,' Cable caacitance,Cs(PF) = ')\n",
"rs=(r3/(w^2*C1*10));\n",
"disp(rs*10^-6,'Parallel loss resistance,rs(M-ohm) = ')\n",
"del=atand(100*%pi*C2*r2);//\n",
"disp(del,'loss angle is,(degree)=')\n",
"v=100;//kV\n",
"pl=(v*10^3)^2;//\n",
"disp(pl,'power loss is,=')"
   ]
   }
,
{
		   "cell_type": "markdown",
		   "metadata": {},
		   "source": [
			"## Example 3.32: resistance.sce"
		   ]
		  },
  {
"cell_type": "code",
	   "execution_count": null,
	   "metadata": {
	    "collapsed": true
	   },
	   "outputs": [],
"source": [
"//Example 3.32:frequency and resistance\n",
"clc;\n",
"clear;\n",
"close;\n",
"r1=400;//ohms\n",
"c1=1;//micro farads\n",
"r2=1000;//ohms\n",
"r3=800;//ohms\n",
"c3=0.5;//micro farads\n",
"f=((1/((2*%pi)*sqrt(r1*r3*c1*10^-6*c3*10^-6))));//Hz\n",
"x=((c3/c1)+(r1/r3));//\n",
"r4=r2*x;//ohms\n",
"disp(round(f),'frequency is ,(Hz)=')\n",
"disp(r4,'resistance is ,(ohm)=')"
   ]
   }
,
{
		   "cell_type": "markdown",
		   "metadata": {},
		   "source": [
			"## Example 3.33: resistance_and_frequency.sce"
		   ]
		  },
  {
"cell_type": "code",
	   "execution_count": null,
	   "metadata": {
	    "collapsed": true
	   },
	   "outputs": [],
"source": [
"//Example 3.33:frequency and resistance\n",
"clc;\n",
"clear;\n",
"close;\n",
"r1=200;//ohms\n",
"c1=1;//micro farads\n",
"r3=400;//ohms\n",
"r4=1000;//ohms\n",
"c2=2;//micro farads\n",
"x=((r4/r3)-(c1/c2));//\n",
"r2=r1*x;//ohms\n",
"f=((1/((2*%pi)*sqrt(r1*r2*c1*10^-6*c2*10^-6))));//Hz\n",
"disp(r2,'resistance is ,(ohm)=')\n",
"disp(round(f),'frequency is ,(Hz)=')"
   ]
   }
,
{
		   "cell_type": "markdown",
		   "metadata": {},
		   "source": [
			"## Example 3.34: voltmeter.sce"
		   ]
		  },
  {
"cell_type": "code",
	   "execution_count": null,
	   "metadata": {
	    "collapsed": true
	   },
	   "outputs": [],
"source": [
"//Example 3.34:percentage error and voltmeter readings\n",
"clc;\n",
"clear;\n",
"close;\n",
"v=180;//volts\n",
"i=2;//amperes\n",
"rm2=v/i;//ohms\n",
"rv=2000;//ohms\n",
"iv=v/rv;//amperes\n",
"ir=i-iv;//amperes\n",
"r=v/ir;//ohms\n",
"per=((rm2-r)/r)*100;//\n",
"ra=0.01;//ohms\n",
"vr=i*(ra+r);//volts\n",
"disp(per,'percentage error is,(%)=')\n",
"disp(vr,'voltmeter reading is,(V)=')"
   ]
   }
,
{
		   "cell_type": "markdown",
		   "metadata": {},
		   "source": [
			"## Example 3.35: resistance.sce"
		   ]
		  },
  {
"cell_type": "code",
	   "execution_count": null,
	   "metadata": {
	    "collapsed": true
	   },
	   "outputs": [],
"source": [
"//Example 3.35:unknown resistance\n",
"clc;\n",
"clear;\n",
"close;\n",
"P=100.24;//ohms\n",
"Q=200;//ohms\n",
"S=100.03;//ohms\n",
"x=(P/Q)*S*10^-6;//ohms\n",
"q=200;//ohms\n",
"r=700;//micro ohms\n",
"p=100.31;//ohms\n",
"y=((q*r*10^-6)/(p+q+(r*10^-6)));//ohms\n",
"z=((P/Q)-(p/q));//ohms\n",
"R=x+(y*z);//micro ohms\n",
"disp(R*10^6,'unknown resistance is ,(micro-ohm)=')"
   ]
   }
,
{
		   "cell_type": "markdown",
		   "metadata": {},
		   "source": [
			"## Example 3.36: sensitivity.sce"
		   ]
		  },
  {
"cell_type": "code",
	   "execution_count": null,
	   "metadata": {
	    "collapsed": true
	   },
	   "outputs": [],
"source": [
"//Example 3.36:deflection of galvanometer and the sensivity\n",
"clc;\n",
"clear;\n",
"close;\n",
"P=1000;//ohms\n",
"Q=100;//ohms\n",
"S=200;//ohms\n",
"R1=((P/Q)*S);//ohms\n",
"R=2005;//ohms\n",
"dr=R-R1;//ohms\n",
"e=5;//volts\n",
"eo=e*((R/(R+S))-(P/(P+Q)));//volts\n",
"ro=(((R*S)/(R+S))+((P*Q)/(P+Q)));//ohms\n",
"G=100;//ohms\n",
"ig=eo/(ro+G);//amperes\n",
"si=10;//mm/micro-ampere\n",
"th=si*(ig*10^6);//mm\n",
"sb=th/dr;//mm/ohm\n",
"disp(th,'deflection of the galvanometer is,(mm)=')\n",
"disp(sb,'sensivity of bridge is,(mm/ohm)=')"
   ]
   }
,
{
		   "cell_type": "markdown",
		   "metadata": {},
		   "source": [
			"## Example 3.37: resistance.sce"
		   ]
		  },
  {
"cell_type": "code",
	   "execution_count": null,
	   "metadata": {
	    "collapsed": true
	   },
	   "outputs": [],
"source": [
"//Example 3.37: Insolution resistance of the cable\n",
"clc;\n",
"clear;\n",
"close;\n",
"v1=200;//volts\n",
"v2=125;//volts\n",
"t=30;//seconds\n",
"cr=t/(log(v1/v2));//\n",
"v21=100;//volts\n",
"cr1=t/(log(v1/v21));//\n",
"y=cr1/cr;//\n",
"x=10;//mega ohms\n",
"R=((x/y)-x);//mega ohms\n",
"disp(R,'resistance is,(M-ohm)=')"
   ]
   }
,
{
		   "cell_type": "markdown",
		   "metadata": {},
		   "source": [
			"## Example 3.38: resistance_and_inductance.sce"
		   ]
		  },
  {
"cell_type": "code",
	   "execution_count": null,
	   "metadata": {
	    "collapsed": true
	   },
	   "outputs": [],
"source": [
"//Example 3.38:resistance and inductance\n",
"clc;\n",
"clear;\n",
"close;\n",
"r2=400;//ohms\n",
"r3=400;//ohms\n",
"r4=400;//ohms\n",
"r=500;//ohms\n",
"c=2;//micro farads\n",
"rX=((r2*r3)/r4);//ohms\n",
"l=(((c*10^-6*r2)/r4)*((r*(r3+r4))+(r3*r4)));//H\n",
"disp(rX,'resistance is ,(ohm)=')\n",
"disp(l,'inductance is,(H)=')"
   ]
   }
,
{
		   "cell_type": "markdown",
		   "metadata": {},
		   "source": [
			"## Example 3.39: resistance_and_inductance.sce"
		   ]
		  },
  {
"cell_type": "code",
	   "execution_count": null,
	   "metadata": {
	    "collapsed": true
	   },
	   "outputs": [],
"source": [
"//Example 3.39:resistance and inductance\n",
"clc;\n",
"clear;\n",
"close;\n",
"r2=1000;//ohms\n",
"r3=15000;//ohms\n",
"r4=500;//ohms\n",
"c4=1.59;//micro farads\n",
"f=50;//Hz\n",
"w=2*%pi*f;//\n",
"l=((r2*r3*c4*10^-6)/((1+(w^2*(c4*10^-6)^2*r4^2))));//H\n",
"r=((r2*r3*r4*w^2*(c4*10^-6)^2)/((1+(w^2*(c4*10^-6)^2*r4^2))));//ohms\n",
"disp(l,'inductance is ,(H)=')\n",
"disp(r,'resistance is,(ohm)=')\n",
"//resistance is calculated wrong in the textbook"
   ]
   }
,
{
		   "cell_type": "markdown",
		   "metadata": {},
		   "source": [
			"## Example 3.3: resistance.sce"
		   ]
		  },
  {
"cell_type": "code",
	   "execution_count": null,
	   "metadata": {
	    "collapsed": true
	   },
	   "outputs": [],
"source": [
"//Example 3.3: Resistor\n",
"clc;\n",
"clear;\n",
"close;\n",
"//given data :\n",
"S=0.02;// in ohm\n",
"Vs=0.98;// in V\n",
"Vx=0.735;// in V\n",
"X=(S*Vx)/Vs;\n",
"disp(X,'Resistance of resistor under test,X(ohm) = ')"
   ]
   }
,
{
		   "cell_type": "markdown",
		   "metadata": {},
		   "source": [
			"## Example 3.40: impedence.sce"
		   ]
		  },
  {
"cell_type": "code",
	   "execution_count": null,
	   "metadata": {
	    "collapsed": true
	   },
	   "outputs": [],
"source": [
"//Example 3.40:resistance and capacitance\n",
"clc;\n",
"clear;\n",
"close;\n",
"r2=1000;//ohms\n",
"r4=100;//ohms\n",
"c4=0.1;//micro farads\n",
"c3=1000;//pF\n",
"rs=((c4/(c3*10^-6))*r2);//M-ohm\n",
"cs=((r4/r2)*(c3*10^-6));//micro farads\n",
"disp(rs*10^-7,'resistance is,(M-ohm)=')\n",
"disp(cs*10^6,'capacitance is,(micro-F)')"
   ]
   }
,
{
		   "cell_type": "markdown",
		   "metadata": {},
		   "source": [
			"## Example 3.41: resistance_and_capacitance.sce"
		   ]
		  },
  {
"cell_type": "code",
	   "execution_count": null,
	   "metadata": {
	    "collapsed": true
	   },
	   "outputs": [],
"source": [
"//Example 3.41:resistance and capacitance\n",
"clc;\n",
"clear;\n",
"close;\n",
"r1=140;//ohms\n",
"c1=0.0115*10^-6;//F\n",
"r2=1000;//ohms\n",
"r4=1000;//ohms\n",
"w=7500;//\n",
"x=((1/(w^2*r1*c1)));//\n",
"c3=c1;//\n",
"r3=x/c3;//\n",
"disp(c3*10^6,'capaciatnce is ,(micro-F)=')\n",
"disp(r3*10^-6,'resistance is,(M-ohm)=')"
   ]
   }
,
{
		   "cell_type": "markdown",
		   "metadata": {},
		   "source": [
			"## Example 3.42: limits.sce"
		   ]
		  },
  {
"cell_type": "code",
	   "execution_count": null,
	   "metadata": {
	    "collapsed": true
	   },
	   "outputs": [],
"source": [
"//Example 3.42:resistance\n",
"clc;\n",
"clear;\n",
"close;\n",
"dp=0.08;//±% error \n",
"ds=0.05;//±% error\n",
"dq=dp;//\n",
"dx=dp+ds+dq;//±% percentage error\n",
"x=250;//ohms\n",
"dx1=dx*x;//\n",
"disp('Upper and lower limits of X are '+string(x+dx1)+' ohm and '+string(x-dx1)+' ohm')"
   ]
   }
,
{
		   "cell_type": "markdown",
		   "metadata": {},
		   "source": [
			"## Example 3.43: resistance.sce"
		   ]
		  },
  {
"cell_type": "code",
	   "execution_count": null,
	   "metadata": {
	    "collapsed": true
	   },
	   "outputs": [],
"source": [
"//Example 3.43:resistance\n",
"clc;\n",
"clear;\n",
"close;\n",
"Q=100.5;//ohms\n",
"M=300;//ohms\n",
"S=0.0045;//ohms\n",
"x=(Q/M)*S;//ohms\n",
"r=0.1;//ohms\n",
"m=300.25;//micro ohms\n",
"q=100.6;//ohms\n",
"y=((r*m)/(r+m+q));//ohms\n",
"z=((Q/M)-(q/m));//ohms\n",
"R=x+(y*z);//milli ohms\n",
"disp(R*10^3,'unknown resistance is ,(milli-ohm)=')"
   ]
   }
,
{
		   "cell_type": "markdown",
		   "metadata": {},
		   "source": [
			"## Example 3.44: sensitivity.sce"
		   ]
		  },
  {
"cell_type": "code",
	   "execution_count": null,
	   "metadata": {
	    "collapsed": true
	   },
	   "outputs": [],
"source": [
"//Example 3.44:balance current and bridge sensivity\n",
"clc;\n",
"clear;\n",
"close;\n",
"P=100;//ohms\n",
"Q=1000;//ohms\n",
"S=857;//ohms\n",
"X=((P/Q)*S);//ohms\n",
"E=1.5;//volts\n",
"dx=1/X;//\n",
"rg=50;//ohms\n",
"a1=((rg+(X*(Q+S))/(X+S)));//ohms\n",
"dig=((E*S*X*dx)/((X+S)^2*a1));//\n",
"D=100;//M-ohm\n",
"sb=((dig*D*10^6)/dx);//\n",
"disp(dig*10^6,'balance current is ,(micro-A)=')\n",
"disp(sb*10^-1,'bridge sensivity is,(cm-(ohm/ohm))=')\n",
"//sensivity is calculated wrong in the book"
   ]
   }
,
{
		   "cell_type": "markdown",
		   "metadata": {},
		   "source": [
			"## Example 3.45: insulation_resistance.sce"
		   ]
		  },
  {
"cell_type": "code",
	   "execution_count": null,
	   "metadata": {
	    "collapsed": true
	   },
	   "outputs": [],
"source": [
"//Example 3.45:insulation resistance\n",
"clc;\n",
"clear;\n",
"close;\n",
"x=0.4343;//\n",
"t=60;//seconds\n",
"e=350;//volts\n",
"v=150;//volts\n",
"c=8*10^-4;//micro-F\n",
"x1=((x*t)/(c*log10(e/v)))*10^-3;//M-ohm\n",
"l=1000;//m\n",
"l2=500;//m\n",
"xo=((x1*10^3*l2)/l);//M-ohm\n",
"disp(xo*10^-3,'resistance is,(M-ohm)=')"
   ]
   }
,
{
		   "cell_type": "markdown",
		   "metadata": {},
		   "source": [
			"## Example 3.46: resistance.sce"
		   ]
		  },
  {
"cell_type": "code",
	   "execution_count": null,
	   "metadata": {
	    "collapsed": true
	   },
	   "outputs": [],
"source": [
"//Example 3.46:insulation resistance\n",
"clc;\n",
"clear;\n",
"close;\n",
"v=170;//volts\n",
"e=250;//volts\n",
"t=20;//seconds\n",
"cr1=t/(log(e/v));//\n",
"v1=110;//volts\n",
"e=250;//volts\n",
"t=20;//seconds\n",
"cr2=t/(log(e/v1));//\n",
"x=cr1/cr2;//\n",
"r1=25;//M-ohm\n",
"r2=70;//M-ohm\n",
"y=((r1*r2)/(r1+r2));//\n",
"R=((x*r2*(r1*r2))-(r2*r1*r2))/((r2*(r1+r2))-((r1*r2*x)));//\n",
"disp(R,'resistance is ,(M-ohm)=')"
   ]
   }
,
{
		   "cell_type": "markdown",
		   "metadata": {},
		   "source": [
			"## Example 3.47: insulation_resistance.sce"
		   ]
		  },
  {
"cell_type": "code",
	   "execution_count": null,
	   "metadata": {
	    "collapsed": true
	   },
	   "outputs": [],
"source": [
"//Example 3.47: resistance\n",
"clc;\n",
"clear;\n",
"close;\n",
"em=500;//volts\n",
"ep=50;//volts\n",
"en=150;//volts\n",
"rv=50;//k-ohm\n",
"rp=((em-ep-en)/en)*rv*10^3;//ohm\n",
"rn=((em-ep-en)/ep)*rv*10^3;//\n",
"disp(rp*10^-6,'Rp is,(M-ohm)=')\n",
"disp(rn*10^-6,'Rn is,(M-ohm)=')"
   ]
   }
,
{
		   "cell_type": "markdown",
		   "metadata": {},
		   "source": [
			"## Example 3.49: reading.sce"
		   ]
		  },
  {
"cell_type": "code",
	   "execution_count": null,
	   "metadata": {
	    "collapsed": true
	   },
	   "outputs": [],
"source": [
"//Example 3.49: readings\n",
"clc;\n",
"clear;\n",
"close;\n",
"rp=1;//M-ohm\n",
"rn=2;//M-ohm\n",
"r=50;//killo ohms\n",
"x=((rp*10^6)/(r*10^3));//\n",
"v=500;//volts\n",
"ep=(v)/((rn*x+(rn+rp)));//volts\n",
"en=2*ep;//\n",
"disp(ep,'Ep is ,(V)=')\n",
"disp(en,'En is,(V)=')"
   ]
   }
,
{
		   "cell_type": "markdown",
		   "metadata": {},
		   "source": [
			"## Example 3.4: power_loss.sce"
		   ]
		  },
  {
"cell_type": "code",
	   "execution_count": null,
	   "metadata": {
	    "collapsed": true
	   },
	   "outputs": [],
"source": [
"//Example 3.4: Resistor,current and power loss\n",
"clc;\n",
"clear;\n",
"close;\n",
"//given data :\n",
"S=0.1;// in ohm\n",
"Vs=1.0235;// in V\n",
"Vr=0.4211;// in V\n",
"R=(Vr/Vs)*S;\n",
"disp(R,'Resistance of unknown resistor,R(ohm) = ')\n",
"I=Vs/S;\n",
"disp(I,'Current through the resistor,I(A) = ')\n",
"P=I^2*R;\n",
"disp(P,'Power loss in the unknown resistance,P(W) = ')"
   ]
   }
,
{
		   "cell_type": "markdown",
		   "metadata": {},
		   "source": [
			"## Example 3.50: resistance_and_inductance.sce"
		   ]
		  },
  {
"cell_type": "code",
	   "execution_count": null,
	   "metadata": {
	    "collapsed": true
	   },
	   "outputs": [],
"source": [
"//Example 3.50:Resistance and Inductance\n",
"clc;\n",
"clear;\n",
"close;\n",
"R2=600;//OHMS\n",
"R4=400;//OHMS\n",
"R3=1000;//OHMS\n",
"C3=0.5;//MICRO-f\n",
"r=((R2*R4)/R3);//ohms\n",
"l=R2*R4*C3*10^-6;//H\n",
"disp(r,'resistance is,(ohm)=')\n",
"disp(l,'inductance is,(H)=')"
   ]
   }
,
{
		   "cell_type": "markdown",
		   "metadata": {},
		   "source": [
			"## Example 3.51: percentage_error.sce"
		   ]
		  },
  {
"cell_type": "code",
	   "execution_count": null,
	   "metadata": {
	    "collapsed": true
	   },
	   "outputs": [],
"source": [
"//Example 3.51:Resistance \n",
"clc;\n",
"clear;\n",
"close;\n",
"p=100;//ohms\n",
"q=1000;//ohms\n",
"s=518.8;//ohms\n",
"ep=0.1;//\n",
"eq=0.1;//\n",
"es1=0.05;//\n",
"es2=0.05;//\n",
"es3=0.1;//\n",
"es4=0.5;//\n",
"tes=0.267;//\n",
"pes=(tes/s)*100;//\n",
"ds=0.008;//ohms\n",
"pds=(ds/s)*100;//\n",
"ttos1=pes+pds;//\n",
"ttos2=-pes+pds;//\n",
"m1=ep+eq+ttos1;//\n",
"m2=-ep-eq+ttos2;//\n",
"disp(m1,'The maximum (+ve) percentage error in X,=')\n",
"disp(m2,'The maximum (-ve) percentage error in X,=')\n",
"disp('Therefore limits of percentage error in X is +'+string(m1)+' to '+string(m2)+' ')"
   ]
   }
,
{
		   "cell_type": "markdown",
		   "metadata": {},
		   "source": [
			"## Example 3.52: capacitance_and_resistance.sce"
		   ]
		  },
  {
"cell_type": "code",
	   "execution_count": null,
	   "metadata": {
	    "collapsed": true
	   },
	   "outputs": [],
"source": [
"//Example 3.52:loss angle\n",
"clc;\n",
"clear;\n",
"close;\n",
"r2=2000;//ohms\n",
"r3=2850;//ohms\n",
"r4=0.4;//ohms\n",
"c4=0.5;//micro-F\n",
"R4=4.8;//ohms\n",
"r1=((r2*(R4+r4))/r3);//ohms\n",
"c1=((r3*c4)/r2);//micro-F\n",
"f=450;//Hz\n",
"w=2*%pi*f;//\n",
"d=f*c1*10^-6*r1;//\n",
"ad=atand(d);//\n",
"x=round(ad);//\n",
"disp('loss angle is '+string(x)+' degree and '+string(round(ad*60))+' minutes ')"
   ]
   }
,
{
		   "cell_type": "markdown",
		   "metadata": {},
		   "source": [
			"## Example 3.53: resistance.sce"
		   ]
		  },
  {
"cell_type": "code",
	   "execution_count": null,
	   "metadata": {
	    "collapsed": true
	   },
	   "outputs": [],
"source": [
"//Example 3.53: resistance\n",
"clc;\n",
"clear;\n",
"close;\n",
"em=500;//volts\n",
"i1=0.8;//mA\n",
"r=30;//killo ohms\n",
"i2=0.4;//mA\n",
"ep=i1*r;//volts\n",
"en=i2*r;//volts\n",
"rv=50;//k-ohm\n",
"rp=((em-ep-en)/en)*r*10^3;//ohm\n",
"rn=((em-ep-en)/ep)*r*10^3;//\n",
"disp(rp*10^-6,'R1 is,(M-ohm)=')\n",
"disp(rn*10^-6,'R2 is,(M-ohm)=')"
   ]
   }
,
{
		   "cell_type": "markdown",
		   "metadata": {},
		   "source": [
			"## Example 3.54: capacitance_and_resistance.sce"
		   ]
		  },
  {
"cell_type": "code",
	   "execution_count": null,
	   "metadata": {
	    "collapsed": true
	   },
	   "outputs": [],
"source": [
"//Example 3.54: resistance and capacitance\n",
"clc;\n",
"clear;\n",
"close;\n",
"r2=100;//ohms\n",
"r4=1000;//ohms\n",
"r1=50;//ohms\n",
"f=50;//Hz\n",
"l=0.1;//H\n",
"r3=((r2*r4)/r1)+((r1*r2*r4)/((2*%pi*f)^2*l^2));//ohms\n",
"c3=r1/((2*%pi*f)^2*l*r3);//F\n",
"disp(r3,'resistance is,(ohm)=')\n",
"disp(c3*10^6,'capacitance is ,(micro-F)=')\n",
"//resistance is wrong in the textbook"
   ]
   }
,
{
		   "cell_type": "markdown",
		   "metadata": {},
		   "source": [
			"## Example 3.56: resistance.sce"
		   ]
		  },
  {
"cell_type": "code",
	   "execution_count": null,
	   "metadata": {
	    "collapsed": true
	   },
	   "outputs": [],
"source": [
"//Example 3.54: resistance and inductance\n",
"clc;\n",
"clear;\n",
"close;\n",
"r2=16800;//ohms\n",
"r3=950;//ohms\n",
"r4=1000;//ohms\n",
"f=50;//Hz\n",
"c3=1.57;//micro-F\n",
"x=((r2*r3*r4*(2*%pi*f)^2*(c3*10^-6)^2));//\n",
"y=(1+(((2*%pi*f)^2)*(c3*10^-6)^2*r3^2));//\n",
"r1=x/y;//ohms\n",
"l1=((r2*r4*c3*10^-6)/y);//\n",
"disp(r1,'resistance is,(ohm)=')\n",
"disp(l1,'inductance is,(H)=')\n",
"//resistance is wrong in the textbook"
   ]
   }
,
{
		   "cell_type": "markdown",
		   "metadata": {},
		   "source": [
			"## Example 3.57: capacitance_and_power_factor.sce"
		   ]
		  },
  {
"cell_type": "code",
	   "execution_count": null,
	   "metadata": {
	    "collapsed": true
	   },
	   "outputs": [],
"source": [
"//Example 3.57: resistance , capacitance AND POWER FACTOR\n",
"clc;\n",
"clear;\n",
"close;\n",
"f=50;//Hz\n",
"r2=120;//ohms\n",
"c3=0.4;//micro-F\n",
"c4=106;//pF\n",
"r3=318;//ohms\n",
"r1=((r2*c3*10^-6)/(c4*10^-12));//ohms\n",
"c1=((c4*10^-12*r3)/r2);//pF\n",
"pf=((r1)/(sqrt(r1^2+(1/(2*%pi*f*c1)^2))));//\n",
"disp(round(r1*10^-3),'resistance is,(k-ohm)=')\n",
"disp(round(c1*10^12),'capacitance is ,(p-F)=')\n",
"disp(pf,'power factor is,=')"
   ]
   }
,
{
		   "cell_type": "markdown",
		   "metadata": {},
		   "source": [
			"## Example 3.58: value_of_X.sce"
		   ]
		  },
  {
"cell_type": "code",
	   "execution_count": null,
	   "metadata": {
	    "collapsed": true
	   },
	   "outputs": [],
"source": [
"//Example 3.58: resistance \n",
"clc;\n",
"clear;\n",
"close;\n",
"l1=26;//cm\n",
"l2=24;//cm\n",
"l1d=25.8;//cm\n",
"l2d=23.5;//cm\n",
"s=545;//ohm\n",
"sg=65;//ohm\n",
"sd=((s*sg)/(s+sg));//ohm\n",
"X=((sd*(l1-l2))-s*(l1d-l2d))/(l1-l2-l1d+l2d);//\n",
"disp(X,'X is ,=')"
   ]
   }
,
{
		   "cell_type": "markdown",
		   "metadata": {},
		   "source": [
			"## Example 3.59: capacitance_and_resistance.sce"
		   ]
		  },
  {
"cell_type": "code",
	   "execution_count": null,
	   "metadata": {
	    "collapsed": true
	   },
	   "outputs": [],
"source": [
"//Example 3.59: capacitance and resistance \n",
"clc;\n",
"clear;\n",
"close;\n",
"e1=5000;//volts\n",
"r1=500;//ohm\n",
"l1=0.18;//H\n",
"r2=1000;//ohm\n",
"r4=r2;//ohms\n",
"x=(r1/(e1^2*l1));//\n",
"y=((r2*r2)/(1+((e1^2)*x^2)));//\n",
"c3=((l1/y));//F\n",
"r3=(x/c3);//\n",
"disp(c3*10^6,'capacitance is,(micro-F)=')\n",
"disp(r3,'resistance is,(ohm)=')"
   ]
   }
,
{
		   "cell_type": "markdown",
		   "metadata": {},
		   "source": [
			"## Example 3.5: error.sce"
		   ]
		  },
  {
"cell_type": "code",
	   "execution_count": null,
	   "metadata": {
	    "collapsed": true
	   },
	   "outputs": [],
"source": [
"//Example 3.5: Magnitude of error\n",
"clc;\n",
"clear;\n",
"close;\n",
"//given data :\n",
"p=100.31;// in ohm\n",
"q=200;// in ohm\n",
"P=100.24;// in ohm\n",
"Q=200;// in ohm\n",
"S=100.03*10^-6;// in ohm\n",
"r=700*10^-6;// in ohm\n",
"Y=50;// in micro-ohm\n",
"X=(((P/Q)*S)+(((q*r)/(p+q))*((P/Q)-(p/q))))*10^6;\n",
"Error=Y-X;\n",
"disp(Error,'Magnitude of error,(micro-ohm) = ')"
   ]
   }
,
{
		   "cell_type": "markdown",
		   "metadata": {},
		   "source": [
			"## Example 3.60: capacitance_and_resistance.sce"
		   ]
		  },
  {
"cell_type": "code",
	   "execution_count": null,
	   "metadata": {
	    "collapsed": true
	   },
	   "outputs": [],
"source": [
"//Example 3.60 capacitance and resistance \n",
"clc;\n",
"clear;\n",
"close;\n",
"r2=1000;//ohm\n",
"w=7500;//\n",
"c4=0.0115;//micro-F\n",
"r4=140;//ohms\n",
"r3=1000;//ohms\n",
"x=(1+(w^2*(c4*10^-6)^2*(r4^2)));//\n",
"r1=((r2*x)/(r3*r4*w^2*(c4*10^-6)^2));//ohms\n",
"c1=((r3/r2)*(c4*10^-6))/x;//F\n",
"disp(r1*10^-3,'resistance is ,(k-ohm)=')\n",
"disp(c1*10^6,'capacitance is,(micro-F)=')"
   ]
   }
,
{
		   "cell_type": "markdown",
		   "metadata": {},
		   "source": [
			"## Example 3.61: inductance.sce"
		   ]
		  },
  {
"cell_type": "code",
	   "execution_count": null,
	   "metadata": {
	    "collapsed": true
	   },
	   "outputs": [],
"source": [
"//Example 3.61;resistance and inductance\n",
"clc;\n",
"clear;\n",
"close;\n",
"p=0;//\n",
"r2=10;//ohms\n",
"r4=900;//ohms\n",
"c3=0.9;//micro-F\n",
"c4=0.15;//micro-F\n",
"r=((r2*c3*10^-6)/(c4*10^-6));//ohms\n",
"l=r2*r4*c3*10^-3;//mH\n",
"disp(r,'resistance is ,(ohm)=')\n",
"disp(l,'inductance is ,(mH)=')"
   ]
   }
,
{
		   "cell_type": "markdown",
		   "metadata": {},
		   "source": [
			"## Example 3.62: resistance.sce"
		   ]
		  },
  {
"cell_type": "code",
	   "execution_count": null,
	   "metadata": {
	    "collapsed": true
	   },
	   "outputs": [],
"source": [
"//Example 3.62;resistance \n",
"clc;\n",
"clear;\n",
"close;\n",
"d2=350;//\n",
"f2=1000;//Hz\n",
"s=1;//M-ohm\n",
"d1=250;//\n",
"f1=2.5;//Hz\n",
"X=((d2*f2*s)/(d1*f1));//M-ohm\n",
"l=400;///m\n",
"l1=1000;//m\n",
"x=(X*l)/l1;//M-ohm\n",
"disp(x,'resistance is ,(M-ohm)=')"
   ]
   }
,
{
		   "cell_type": "markdown",
		   "metadata": {},
		   "source": [
			"## Example 3.63: resistance_and_inductance.sce"
		   ]
		  },
  {
"cell_type": "code",
	   "execution_count": null,
	   "metadata": {
	    "collapsed": true
	   },
	   "outputs": [],
"source": [
"//Example 3.63:resistance and inductance\n",
"clc;\n",
"clear;\n",
"close;\n",
"r2=50;//ohms\n",
"r3=100;//ohms\n",
"r4=100;//ohms\n",
"r=2500;//ohms\n",
"c=1;//micro farads\n",
"rX=((r2*r3)/r4);//ohms\n",
"l=(((c*10^-6*r2)/r4)*((r*(r3+r4))+(r3*r4)));//H\n",
"disp(rX,'resistance is ,(ohm)=')\n",
"disp(l,'inductance is,(H)=')"
   ]
   }
,
{
		   "cell_type": "markdown",
		   "metadata": {},
		   "source": [
			"## Example 3.64: permittivity_and_power_factor.sce"
		   ]
		  },
  {
"cell_type": "code",
	   "execution_count": null,
	   "metadata": {
	    "collapsed": true
	   },
	   "outputs": [],
"source": [
"//Example 3.64:permittivity and power factor\n",
"clc;\n",
"clear;\n",
"close;\n",
"r3=350;//ohms\n",
"f=50;//Hz\n",
"r2=250;//ohms\n",
"c3=0.4;//micro-F\n",
"c4=100;//pF\n",
"r1=((r2*c3*10^-6)/(c4*10^-12));//ohms\n",
"c1=((c4*10^-12)*(r3/r2));//F\n",
"l=5;//mm\n",
"l1=10;//cm\n",
"e=((c1*l*10^-3)/((%pi/4)*(l1/100)^2));//\n",
"pf=r1*2*%pi*f*c1;//\n",
"disp(e,'permittivity is,=')\n",
"disp(pf,'power factor is,=')"
   ]
   }
,
{
		   "cell_type": "markdown",
		   "metadata": {},
		   "source": [
			"## Example 3.65: constant.sce"
		   ]
		  },
  {
"cell_type": "code",
	   "execution_count": null,
	   "metadata": {
	    "collapsed": true
	   },
	   "outputs": [],
"source": [
"//Example 3.65:resistance and capacitance\n",
"clc;\n",
"clear;\n",
"close;\n",
"rab=2000;//ohms\n",
"f=1;//kHz\n",
"cab=0.047;//micro-farad\n",
"zab=(1/((1/rab)+(%i*2*%pi*f*10^3*cab*10^-6)));//\n",
"rbc=1000;//ohms\n",
"cbc=0.47;//micro-F\n",
"zbc=rbc-(%i/(2*%pi*f*10^3*cbc*10^-6));//\n",
"cda=0.5;//micro-F\n",
"zda=(-%i/(2*%pi*f*10^3*cda*10^-6));//\n",
"zx=(zda*zbc)/zab;//\n",
"rx=real(zx);//ohms\n",
"cx=-1/(2*%pi*f*10^3*imag(zx));//\n",
"disp(round(rx),'resistance is ,(ohm)=')\n",
"disp(cx*10^6,'capacitance is,(micro-F)=')"
   ]
   }
,
{
		   "cell_type": "markdown",
		   "metadata": {},
		   "source": [
			"## Example 3.66_a: capacitance.sce"
		   ]
		  },
  {
"cell_type": "code",
	   "execution_count": null,
	   "metadata": {
	    "collapsed": true
	   },
	   "outputs": [],
"source": [
"//Example 3.66.a:capacitance\n",
"clc;\n",
"clear;\n",
"close;\n",
"zbc=1000;//ohms\n",
"f=1;//kHz\n",
"cda=0.2;//micro-F\n",
"zab=500;//ohms\n",
"zda=(-%i/(2*%pi*f*10^3*cda*10^-6));//\n",
"zcd=(zbc*zda)/zab;//\n",
"cx=-1/(2*%pi*f*10^3*imag(zcd));//\n",
"disp(cx*10^6,'capacitance is,(micro-F)=')"
   ]
   }
,
{
		   "cell_type": "markdown",
		   "metadata": {},
		   "source": [
			"## Example 3.66_b: voltage.sce"
		   ]
		  },
  {
"cell_type": "code",
	   "execution_count": null,
	   "metadata": {
	    "collapsed": true
	   },
	   "outputs": [],
"source": [
"//Example 3.66.b:voltage\n",
"clc;\n",
"clear;\n",
"close;\n",
"zbc=1000;//ohms\n",
"f=1;//kHz\n",
"cda=0.2*10^-6;//micro-F\n",
"zab=500;//ohms\n",
"zda=(-%i/(2*%pi*f*10^3*cda));//\n",
"zcd=(zbc*zda)/zab;//\n",
"cx=-1/(2*%pi*f*10^3*imag(zcd));//\n",
"rba=1002;//ohms\n",
"v1=10;//volts\n",
"iab=v1/(rba+zab);//amperes\n",
"ibc=iab;//amperes\n",
"ida=v1*%i*2*%pi*f*10^3*((cda*cx)/(cda+cx));//amperes\n",
"icd=ida;//amperes\n",
"vab=(v1*zab)/(rba+zab);//volts\n",
"vab1=icd/(%i*2*%pi*10^3*cda);//volts\n",
"vbd=vab1-vab;//volts\n",
"disp(vbd*10^3,'voltage across the detector is,(mV)=')"
   ]
   }
,
{
		   "cell_type": "markdown",
		   "metadata": {},
		   "source": [
			"## Example 3.66_c: voltage.sce"
		   ]
		  },
  {
"cell_type": "code",
	   "execution_count": null,
	   "metadata": {
	    "collapsed": true
	   },
	   "outputs": [],
"source": [
"//Example 3.66.c:voltage\n",
"clc;\n",
"clear;\n",
"close;\n",
"zbc=1000;//ohms\n",
"f=1;//kHz\n",
"cda=0.2*10^-6;//micro-F\n",
"zab=500;//ohms\n",
"zda=(-%i/(2*%pi*f*10^3*cda));//\n",
"zcd=(zbc*zda)/zab;//\n",
"cx=-1/(2*%pi*f*10^3*imag(zcd));//\n",
"rba=1002;//ohms\n",
"v1=10;//volts\n",
"iba=v1/(zab-(%i/(2*%pi*10^3*cda)));//\n",
"vba=zab*iba;//\n",
"v2=sqrt(real(vba)^2+imag(vba)^2);//volts\n",
"ibc=v1/(rba-(%i/(2*%pi*10^3*cx)));//\n",
"vbc=rba*ibc;//\n",
"v3=sqrt(real(vbc)^2+imag(vbc)^2);//volts\n",
"vac=v3-v2;//\n",
"disp(vac*10^3,'voltage across the detector is,(mV)=')"
   ]
   }
,
{
		   "cell_type": "markdown",
		   "metadata": {},
		   "source": [
			"## Example 3.67: frequency_and_resistance.sce"
		   ]
		  },
  {
"cell_type": "code",
	   "execution_count": null,
	   "metadata": {
	    "collapsed": true
	   },
	   "outputs": [],
"source": [
"//Example 3.67:frequency and resistance\n",
"clc;\n",
"clear;\n",
"close;\n",
"rab=800;//ohm\n",
"cab=0.4;//micro-F\n",
"rbc=500;//ohms\n",
"cbc=1;//micro-F\n",
"rcd=1200;//ohm\n",
"x=cab*10^-6*rab;//\n",
"y=cbc*10^-6*rbc;//\n",
"w=sqrt(1/(x*y));//rad/s\n",
"f=w/(2*%pi);//\n",
"zab=(rab/((1+(%i*w*cab*10^-6*rab))));//ohms\n",
"zbc=rbc+(1/((1+(%i*w*cbc*10^-6*rbc))));//ohms\n",
"zda=(zab*rcd)/zbc;//ohms\n",
"disp(round(f),'frequency is,(Hz)=')\n",
"disp(round(real(zda)),'resistance is,(ohm)=')"
   ]
   }
,
{
		   "cell_type": "markdown",
		   "metadata": {},
		   "source": [
			"## Example 3.68_a: constant.sce"
		   ]
		  },
  {
"cell_type": "code",
	   "execution_count": null,
	   "metadata": {
	    "collapsed": true
	   },
	   "outputs": [],
"source": [
"//Example 3.68.a:resistance and inductance\n",
"clc;\n",
"clear;\n",
"close;\n",
"cab=0.01;//micro-F\n",
"rbc=2.5;//k-ohms\n",
"cbc=1;//micro-F\n",
"rda=7.5*10^3;//ohm\n",
"cda=0.02;//micro-F\n",
"w=50*10^3;//Hz\n",
"zab=(-1/(((%i*w*cab*10^-6*1))));//ohms\n",
"zbc=rbc*10^3;//ohms\n",
"zda=rda+(1/(((%i*w*cda*10^-6))));//ohms\n",
"zcd=(zbc*zda)/zab;//\n",
"r=-real(zcd);//ohms\n",
"l=-imag(zcd)/w;//H\n",
"disp(round(r),'resistance is,(ohm)=')\n",
"disp(l,'inductance is,(H)=')"
   ]
   }
,
{
		   "cell_type": "markdown",
		   "metadata": {},
		   "source": [
			"## Example 3.68_b: resistance.sce"
		   ]
		  },
  {
"cell_type": "code",
	   "execution_count": null,
	   "metadata": {
	    "collapsed": true
	   },
	   "outputs": [],
"source": [
"//Example 3.68.B:resistance and inductance\n",
"clc;\n",
"clear;\n",
"close;\n",
"cab=0.01;//micro-F\n",
"rbc=2.5;//k-ohms\n",
"cbc=1;//micro-F\n",
"rda=7.5*10^3;//ohm\n",
"cda=0.02;//micro-F\n",
"w=50*10^3;//Hz\n",
"zab=(-1/(((%i*w*cab*10^-6*1))));//ohms\n",
"zbc=rbc*10^3;//ohms\n",
"zda1=rda+(1/(((%i*w*cda*10^-6))));//ohms\n",
"zda=zda1/(1+(zda1*%i*w*100*10^-12));//\n",
"zcd=(zbc*zda)/zab;//\n",
"r=-real(zcd);//ohms\n",
"l=-imag(zcd)/w;//H\n",
"disp((r),'resistance is,(ohm)=')\n",
"disp(l,'inductance is,(H)=')"
   ]
   }
,
{
		   "cell_type": "markdown",
		   "metadata": {},
		   "source": [
			"## Example 3.69_a: resistance_and_capacitance.sce"
		   ]
		  },
  {
"cell_type": "code",
	   "execution_count": null,
	   "metadata": {
	    "collapsed": true
	   },
	   "outputs": [],
"source": [
"//Example 3.69.a:resistance and capacitance\n",
"clc;\n",
"clear;\n",
"close;\n",
"zab=521;//ohms\n",
"zbc=1200;//ohms\n",
"rda=12.1;//ohms\n",
"f=10;//kHz\n",
"cda=0.045;//micro-F\n",
"zda=rda-(%i/(2*%pi*f*10^3*cda*10^-6));//\n",
"zcd=(zbc*zda)/zab;//\n",
"disp(real(zcd),'resistance is,(ohm)=')\n",
"c=1/(2*%pi*f*10^3*imag(zcd));//\n",
"disp(-c*10^6,'capcitance is,(micro-F)=')"
   ]
   }
,
{
		   "cell_type": "markdown",
		   "metadata": {},
		   "source": [
			"## Example 3.69_b: error.sce"
		   ]
		  },
  {
"cell_type": "code",
	   "execution_count": null,
	   "metadata": {
	    "collapsed": true
	   },
	   "outputs": [],
"source": [
"//Example 3.69.b:resistance and capacitance\n",
"clc;\n",
"clear;\n",
"close;\n",
"rab=521;//ohms\n",
"lab=2;//micro-H\n",
"cab=550;//pF\n",
"rbc=1200;//ohms\n",
"lbc=5;//micro-H\n",
"cbc=250;//pF\n",
"rda=12.1;//ohms\n",
"rda1=1.5;//m-ohms\n",
"f=10;//kHz\n",
"cda=0.045;//micro-F\n",
"zab=1/((1/(rab+(%i*2*%pi*f*10^4*lab*10^-6)))+(%i*2*%pi*f*10^3*cab*10^-12));//\n",
"zbc=1/((1/(rbc+(%i*2*%pi*f*10^4*lbc*10^-6)))+(%i*2*%pi*f*10^3*cbc*10^-12));//\n",
"zda=rda+((1/((1/rda1*10^-6)+(%i*2*%pi*f*10^3*cda*10^-6))));//;//\n",
"zcd=(zbc*zda)/zab;//\n",
"zab1=521;//ohms\n",
"zbc1=1200;//ohms\n",
"rda1=12.1;//ohms\n",
"f1=10;//kHz\n",
"cda1=0.045;//micro-F\n",
"zda1=rda1-(%i/(2*%pi*f1*10^3*cda1*10^-6));//\n",
"zcd1=(zbc1*zda1)/zab1;//\n",
"c1=1/(2*%pi*f*10^3*imag(zcd1));//\n",
"c=1/(2*%pi*f*10^3*imag(zcd));//\n",
"per=((real(zcd1)-real(zcd))/real(zcd))*100;//\n",
"pec=((imag(zcd1)-imag(zcd))/imag(zcd))*100;//\n",
"disp(per,'error in R is,(%)=')\n",
"disp(pec,'error in C is,(%)=')\n",
"//answer is wrong in the textbook"
   ]
   }
,
{
		   "cell_type": "markdown",
		   "metadata": {},
		   "source": [
			"## Example 3.6: resistance.sce"
		   ]
		  },
  {
"cell_type": "code",
	   "execution_count": null,
	   "metadata": {
	    "collapsed": true
	   },
	   "outputs": [],
"source": [
"//Example 3.6: Unknown resistance\n",
"clc;\n",
"clear;\n",
"close;\n",
"//given data :\n",
"p=100.6;// in ohm\n",
"q=300.25;// in ohm\n",
"P=100.5;// in ohm\n",
"Q=300;// in ohm\n",
"S=0.0045;// in ohm\n",
"r=0.1;// in ohm\n",
"X=(((P/Q)*S)+(((q*r)/(p+q+r))*((P/Q)-(p/q))))*10^3;\n",
"disp(X,'Unknown resistance,X(m-ohm) = ')"
   ]
   }
,
{
		   "cell_type": "markdown",
		   "metadata": {},
		   "source": [
			"## Example 3.70: resistance.sce"
		   ]
		  },
  {
"cell_type": "code",
	   "execution_count": null,
	   "metadata": {
	    "collapsed": true
	   },
	   "outputs": [],
"source": [
"//Example 3.70:resistance \n",
"clc;\n",
"clear;\n",
"close;\n",
"w=5000;//rad/s\n",
"cab=0.2;//micro-F\n",
"zab=(-%i/(w*cab*10^-6));//ohms\n",
"zbc=500;//ohm\n",
"l=0.1;//H\n",
"rcd=50;//ohm\n",
"zcd=rcd+%i*w*l;//ohm\n",
"cda=0.4;//micro-F\n",
"izda=-%i/(w*cda*10^-6);//\n",
"zda=(zab*zcd)/zbc;//\n",
"rs=real(zda);//ohms\n",
"disp(rs,'resistance is ,(ohm)=')"
   ]
   }
,
{
		   "cell_type": "markdown",
		   "metadata": {},
		   "source": [
			"## Example 3.71_a: capacitance.sce"
		   ]
		  },
  {
"cell_type": "code",
	   "execution_count": null,
	   "metadata": {
	    "collapsed": true
	   },
	   "outputs": [],
"source": [
"//Example 3.71.a:resistance and capacitance\n",
"clc;\n",
"clear;\n",
"close;\n",
"c2=0.004;//micro-F\n",
"c3=0.001;//micro-F\n",
"r3=10;//killo ohms\n",
"r4=5;//killo ohms\n",
"f=1;//kHz\n",
"rx=(c3/c2)*r4;//killo ohms\n",
"cx=(r3/r4)*c2;//micro-F\n",
"disp(rx,'resistance is ,(k-ohm)=')\n",
"disp(cx,'capacitance is,(micro-F)=')"
   ]
   }
,
{
		   "cell_type": "markdown",
		   "metadata": {},
		   "source": [
			"## Example 3.71_b: capacitance.sce"
		   ]
		  },
  {
"cell_type": "code",
	   "execution_count": null,
	   "metadata": {
	    "collapsed": true
	   },
	   "outputs": [],
"source": [
"//Example 3.71.b:resistance and capacitance\n",
"clc;\n",
"clear;\n",
"close;\n",
"cl=10^-4;//micro-F\n",
"c2=0.004;//micro-F\n",
"c3=0.001;//micro-F\n",
"r3=10;//killo ohms\n",
"r4=5;//killo ohms\n",
"f=1;//kHz\n",
"rx=((c3+cl)/c2)*r4;//killo ohms\n",
"cx=(r3/r4)*c2;//micro-F\n",
"disp(rx,'resistance is ,(k-ohm)=')\n",
"disp(cx,'capacitance is,(micro-F)=')"
   ]
   }
,
{
		   "cell_type": "markdown",
		   "metadata": {},
		   "source": [
			"## Example 3.72: inductance_resistance_and_impedance.sce"
		   ]
		  },
  {
"cell_type": "code",
	   "execution_count": null,
	   "metadata": {
	    "collapsed": true
	   },
	   "outputs": [],
"source": [
"//Example 3.72:resistance and inductance\n",
"clc;\n",
"clear;\n",
"close;\n",
"r2=100;//ohm\n",
"r4=834;//ohm\n",
"c3=0.1;//micro-F\n",
"l1=r2*r4*c3*10^-3;//mH\n",
"c4=0.124;//micro-F\n",
"r1=(c3/c4)*r2;//\n",
"f=2;//kHz\n",
"z1=sqrt(r1^2+(2*%pi*f*10^3*l1*10^-3)^2);//\n",
"disp(l1,'inductance is ,(mH)=')\n",
"disp(r1,'resistance is,(ohm)=')\n",
"disp(z1,'impedence is ,(ohm)=')"
   ]
   }
,
{
		   "cell_type": "markdown",
		   "metadata": {},
		   "source": [
			"## Example 3.73: value_of_M.sce"
		   ]
		  },
  {
"cell_type": "code",
	   "execution_count": null,
	   "metadata": {
	    "collapsed": true
	   },
	   "outputs": [],
"source": [
"//Example 3.73: inductance\n",
"clc;\n",
"clear;\n",
"close;\n",
"l1=4;//H\n",
"r1=1;//ohm\n",
"r2=1;//ohm\n",
"r3=2;//ohm\n",
"l4=2;//H\n",
"r4=2;//ohm\n",
"M=((r3*l1)-(r2*l4))/(r2+r3);//H\n",
"disp(M,'M is ,(H)=')"
   ]
   }
,
{
		   "cell_type": "markdown",
		   "metadata": {},
		   "source": [
			"## Example 3.74: resistance_and_inductance.sce"
		   ]
		  },
  {
"cell_type": "code",
	   "execution_count": null,
	   "metadata": {
	    "collapsed": true
	   },
	   "outputs": [],
"source": [
"//Example 3.74.a:resistance and inductance\n",
"clc;\n",
"clear;\n",
"close;\n",
"r2=500;//ohms\n",
"r3=300;//ohms\n",
"r4=500;//ohms\n",
"r=150;//ohms\n",
"c=2.5;//nano farads\n",
"rX=((r2*r3)/r4);//ohms\n",
"l=(((c*10^-9*r3)/r4)*((r*(r2+r4))+(r2*r4)));//H\n",
"disp(rX,'resistance is ,(ohm)=')\n",
"disp(l*10^2,'inductance is,(mH)=')"
   ]
   }
,
{
		   "cell_type": "markdown",
		   "metadata": {},
		   "source": [
			"## Example 3.75: current_and_iron_loss.sce"
		   ]
		  },
  {
"cell_type": "code",
	   "execution_count": null,
	   "metadata": {
	    "collapsed": true
	   },
	   "outputs": [],
"source": [
"//Example 3.75:iron loss\n",
"clc;\n",
"clear;\n",
"close;\n",
"r2=18;//ohm\n",
"r4=550;//ohm\n",
"r3=1250;//ohm\n",
"r1=(r2*r4)/r3;//ohm\n",
"c3=0.5;//micro-F\n",
"l1=r2*r4*c3*10^-3;//mH\n",
"r4=550;//ohm\n",
"r31=1125;//ohm\n",
"r11=(r2*r4)/r31;//ohm\n",
"c31=3.85;//micro-F\n",
"l11=r2*r4*c31*10^-3;//mH\n",
"v=50;//volts\n",
"w=4000;//rad/s\n",
"i1=v/(sqrt((r1+r11)^2+(w^2*(l11*10^-3)^2)));//\n",
"tl=i1^2*r11;//W\n",
"cl=i1^2*r1;//W\n",
"il=tl-cl;//\n",
"disp(i1,'current is ,(A)=')\n",
"disp(il,'iron loss is ,(W)=')"
   ]
   }
,
{
		   "cell_type": "markdown",
		   "metadata": {},
		   "source": [
			"## Example 3.77: resistance_and_capacitance.sce"
		   ]
		  },
  {
"cell_type": "code",
	   "execution_count": null,
	   "metadata": {
	    "collapsed": true
	   },
	   "outputs": [],
"source": [
"//Example 3.77:parameters\n",
"clc;\n",
"clear;\n",
"close;\n",
"rab=1000;//ohm\n",
"f=1;//kHz\n",
"cab=0.5;//micro-F\n",
"zab=1/((1/rab)+(%i*2*%pi*f*10^3*cab*10^-6));//\n",
"rbc=1000;//ohm\n",
"zbc=rbc-(%i/(2*%pi*f*10^3*cab*10^-6));//\n",
"rcd=200;//ohm\n",
"lcd=30;//mH\n",
"zcd=rcd+(%i*2*%pi*f*10^3*lcd*10^-3);//\n",
"zda=(zab*zcd)/zbc;//ohm\n",
"R=real(zda);//\n",
"cda=1/(2*%pi*f*10^3*imag(zda));//\n",
"disp(R,'resistance is ,(ohm)=')\n",
"disp(-cda*10^6,'capacitance is ,(micro-F)=')\n",
"x=sqrt(real(zda)^2+imag(zda)^2);//\n",
"rp=x;//ohms\n",
"cp=(((-imag(zda))/real(zda))*10^3)/(2*%pi*rp);//\n",
"disp(rp,'Rp is,(ohm)=')\n",
"disp(cp,'Cp is ,(micro-F)=')\n",
"//Rp and Cp is calculated wrong in the textbook"
   ]
   }
,
{
		   "cell_type": "markdown",
		   "metadata": {},
		   "source": [
			"## Example 3.7: resistance.sce"
		   ]
		  },
  {
"cell_type": "code",
	   "execution_count": null,
	   "metadata": {
	    "collapsed": true
	   },
	   "outputs": [],
"source": [
"//Example 3.7: Unknown resistance\n",
"clc;\n",
"clear;\n",
"close;\n",
"//given data :\n",
"s=0.5;//Mega ohms\n",
"g=10;//killo ohms\n",
"d1=41;//divisions\n",
"d2=51;//divisions\n",
"r=(((s*10^6)+(g*10^3))*(d1/d2))-(g*10^3);//ohms\n",
"disp(r*10^-6,'unknown resistance is,(Mega-ohm)=')"
   ]
   }
,
{
		   "cell_type": "markdown",
		   "metadata": {},
		   "source": [
			"## Example 3.8: resistance.sce"
		   ]
		  },
  {
"cell_type": "code",
	   "execution_count": null,
	   "metadata": {
	    "collapsed": true
	   },
	   "outputs": [],
"source": [
"//Example 3.8: Unknown resistance\n",
"clc;\n",
"clear;\n",
"close;\n",
"//given data :\n",
"P=100;// in ohm\n",
"Q=10;// in ohm\n",
"S=46;// in ohm\n",
"R=((P/Q)*S);\n",
"disp(R,' Unknown resistance,R(ohm) = ')"
   ]
   }
,
{
		   "cell_type": "markdown",
		   "metadata": {},
		   "source": [
			"## Example 3.9: resistance.sce"
		   ]
		  },
  {
"cell_type": "code",
	   "execution_count": null,
	   "metadata": {
	    "collapsed": true
	   },
	   "outputs": [],
"source": [
"//Example 3.9: limiting value of unknown resistance\n",
"clc;\n",
"clear;\n",
"close;\n",
"//given data :\n",
"P=1000;// in ohm\n",
"Q=1000;// in ohm\n",
"S=3154;// in ohm\n",
"R=((P/Q)*S);\n",
"dp=0.05;//percentage error\n",
"dq=0.05;//percentage error\n",
"ds=0.1;//percentage error\n",
"dr=dp+dq+ds;//percentage error\n",
"x=R+((dr*10)*R)/100;//\n",
"disp('limiting value of resistance is '+string(R)+'±'+string(dr)+'% to '+string(round(x))+' ohm')"
   ]
   }
],
"metadata": {
		  "kernelspec": {
		   "display_name": "Scilab",
		   "language": "scilab",
		   "name": "scilab"
		  },
		  "language_info": {
		   "file_extension": ".sce",
		   "help_links": [
			{
			 "text": "MetaKernel Magics",
			 "url": "https://github.com/calysto/metakernel/blob/master/metakernel/magics/README.md"
			}
		   ],
		   "mimetype": "text/x-octave",
		   "name": "scilab",
		   "version": "0.7.1"
		  }
		 },
		 "nbformat": 4,
		 "nbformat_minor": 0
}
