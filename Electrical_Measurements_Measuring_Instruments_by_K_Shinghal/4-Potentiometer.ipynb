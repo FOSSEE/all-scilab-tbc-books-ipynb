{
"cells": [
 {
		   "cell_type": "markdown",
	   "metadata": {},
	   "source": [
       "# Chapter 4: Potentiometer"
	   ]
	},
{
		   "cell_type": "markdown",
		   "metadata": {},
		   "source": [
			"## Example 4.10: power_dissipated_and_mean_stored_energy.sce"
		   ]
		  },
  {
"cell_type": "code",
	   "execution_count": null,
	   "metadata": {
	    "collapsed": true
	   },
	   "outputs": [],
"source": [
"//Example 4.10:power dissipated\n",
"clc;\n",
"clear;\n",
"close;\n",
"r1=0.6-%i*0.24;//V\n",
"r2=0.6+%i*0.4;//V\n",
"r3=-0.1-%i*0.4;//V\n",
"f=50;//Hx\n",
"ir=1000;//ohm\n",
"i1=r1/ir;//A\n",
"pdr=(real(r1)*real(i1))+(imag(r1)*imag(i1));//W\n",
"disp(pdr*10^3,'power dissipated in the resistor is,(mW)=')\n",
"pdC=(real(r1)*real(i1))+(imag(r2)*imag(i1));//W\n",
"disp(pdC*10^3,'power dissipated in the coil is,(mW)=')\n",
"pdc=(real(r3)*real(i1))-(imag(r2)*imag(i1));//W\n",
"disp(pdc*10^3,'power dissipated in the capacitor is,(mW)=')\n",
"imp=(r2/r1)*10^3;//ohm\n",
"rc=imag(imp);//ohm\n",
"indu=rc/(2*%pi*f);//H\n",
"ersl=(1/2)*(imag(i1)^2+real(i1)^2)*indu;//joules\n",
"disp(ersl*10^6,'energy stored in the coil is,(micro-J)=')\n",
"admc=(r1*10^-3)/r3;//ohm^-1\n",
"C=imag(admc)/(2*%pi*f);//\n",
"ersc=(1/2)*(imag(r3)^2+real(r3)^2)*C;//\n",
"disp(ersc*10^6,'energy stored in capacitor is,(micro-J)=')"
   ]
   }
,
{
		   "cell_type": "markdown",
		   "metadata": {},
		   "source": [
			"## Example 4.11: measuring_range_resolution_working_current_and_setting.sce"
		   ]
		  },
  {
"cell_type": "code",
	   "execution_count": null,
	   "metadata": {
	    "collapsed": true
	   },
	   "outputs": [],
"source": [
"//Example 4.11:measuring range,resulution,working current,setting of the rheostata\n",
"clc;\n",
"clear;\n",
"close;\n",
"sd=18;//steps\n",
"v1=0.1;//V\n",
"mr=(sd*v1)+v1;//V\n",
"disp(mr,'measuring range of the potentiometer is,(V)=')\n",
"dv=100;//divisions\n",
"rs=(v1/dv)*(1/2);//mV\n",
"disp(rs*10^3,'resolution is,(mV)=')\n",
"dr=10;//ohm\n",
"cdd=v1/dr;//A\n",
"disp(cdd*10^3,'current through the dial is,(mA)=')\n",
"wbc=6;//V\n",
"rsv=wbc-mr;//V\n",
"sh=rsv/cdd;//ohm\n",
"disp(sh,'setting of the rheostat is,(ohm)=')"
   ]
   }
,
{
		   "cell_type": "markdown",
		   "metadata": {},
		   "source": [
			"## Example 4.12: voltage_and_percentage_error.sce"
		   ]
		  },
  {
"cell_type": "code",
	   "execution_count": null,
	   "metadata": {
	    "collapsed": true
	   },
	   "outputs": [],
"source": [
"//Example 4.12:voltage and percentage error\n",
"clc;\n",
"clear;\n",
"close;\n",
"st=15;//steps\n",
"r1=10;//ohm\n",
"v1=0.1;//V\n",
"r2=10;//ohm\n",
"r3=9.9;//ohm\n",
"v2=0.0185;//V\n",
"acr=(r1*r3)+((r2*v2)/v1);//ohm\n",
"v3=1.0185;//V\n",
"I=v3/acr;//\n",
"n=6;//\n",
"acr1=(n*r3)+(r2*0.0525)/v1;//ohm\n",
"tvr=I*acr1;//V\n",
"vg=0.6525;//\n",
"er=((tvr-vg)/tvr)*100;//\n",
"disp(tvr,'true value of drop across the resistance is,(V)=')\n",
"disp(er,'percentage error is,(%)=')"
   ]
   }
,
{
		   "cell_type": "markdown",
		   "metadata": {},
		   "source": [
			"## Example 4.13: resistanc_and_reactance.sce"
		   ]
		  },
  {
"cell_type": "code",
	   "execution_count": null,
	   "metadata": {
	    "collapsed": true
	   },
	   "outputs": [],
"source": [
"//Example 4.13:resistance and reactance\n",
"clc;\n",
"clear;\n",
"close;\n",
"r1=2;//ohm\n",
"r2=9;//\n",
"imp=r1+%i*r2;//ohm\n",
"mg=sqrt(r1^2+r2^2);//\n",
"th=atand(r2/r1);//\n",
"vm=85;//V\n",
"va=40;//degree\n",
"vm1=90;//V\n",
"va1=45;//degree\n",
"ccm=vm/mg;//A\n",
"cca=va-th;//degree\n",
"impm=vm1/ccm;//ohm\n",
"impa=va1-cca;//degree\n",
"reac=impm*sind(impa);//ohm\n",
"rc=sqrt(impm^2-reac^2);//ohm\n",
"f=50;//Hz\n",
"ind=reac/(2*%pi*f);//\n",
"disp(rc,'reactance is,(ohm)=')\n",
"disp(fix(ind*10^3),'inductance of the coil is,(mH)=')"
   ]
   }
,
{
		   "cell_type": "markdown",
		   "metadata": {},
		   "source": [
			"## Example 4.14: limit_of_error_and_deflection.sce"
		   ]
		  },
  {
"cell_type": "code",
	   "execution_count": null,
	   "metadata": {
	    "collapsed": true
	   },
	   "outputs": [],
"source": [
"//Example 4.14:limit of error,deflection\n",
"clc;\n",
"clear;\n",
"close\n",
"x=17.5;//mm/micro-A\n",
"r1=850;//ohm\n",
"lr=r1*(1/x);//micro V\n",
"disp('limit of error in the reading is ±'+string(lr)+' micro-V')\n",
"v1=2;//V\n",
"r2=80;//\n",
"i1=v1/r2;//A\n",
"v2=0.1;//V\n",
"r3=v2/i1;//ohm\n",
"v3=1.43;//V\n",
"r4=v3/i1;//ohm\n",
"l=50;//cm\n",
"l1=2;//mm\n",
"r5=((l1/10)/l)*r3;//ohm\n",
"fr=r4+r5;//ohm\n",
"fr1=22.784;//\n",
"R=(fr*fr1)/r2;//ohm\n",
"e=i1*fr;//V\n",
"ig=(e-v3)/(r1+R);//A\n",
"dg=ig*x*10^6;//mm\n",
"disp(dg,'deflection of the galvanometer is,(mm)=')"
   ]
   }
,
{
		   "cell_type": "markdown",
		   "metadata": {},
		   "source": [
			"## Example 4.15: current.sce"
		   ]
		  },
  {
"cell_type": "code",
	   "execution_count": null,
	   "metadata": {
	    "collapsed": true
	   },
	   "outputs": [],
"source": [
"//Example 4.15: Current \n",
"clc;\n",
"clear;\n",
"close;\n",
"//given data :\n",
"V1=4.2;// in V\n",
"V2=1.43;// in V\n",
"r1=21.0;// in ohm\n",
"r2=1;// in ohm\n",
"r3=15;// in ohm\n",
"I=V1/r1;// in A\n",
"R=V2/I;// in ohm\n",
"R1=R+r2;\n",
"R2=R-r2;\n",
"R3=round(R1*(r1-R1)/r1);\n",
"R4=R2*(r1-R2)/r1;\n",
"e1=R1*I;\n",
"e2=R2*I;\n",
"I1=(e1-V2)*10^3/(R3+r3);\n",
"I2=(V2-e2)*10^3/(R4+r3);\n",
"disp(I1,'Current in one direction,I1(mA) = ')\n",
"disp(I2,'Current in another direction,I2(mA) = ')"
   ]
   }
,
{
		   "cell_type": "markdown",
		   "metadata": {},
		   "source": [
			"## Example 4.1: resistance.sce"
		   ]
		  },
  {
"cell_type": "code",
	   "execution_count": null,
	   "metadata": {
	    "collapsed": true
	   },
	   "outputs": [],
"source": [
"//Example 4.1: Unknown resistor\n",
"clc;\n",
"clear;\n",
"close;\n",
"//given data :\n",
"Vd=0.83942;// volt-drop in V\n",
"emf=23*10^-6;// in V\n",
"Vds=1.01575;// volt-drop in V\n",
"Rs=0.10014;// in ohm\n",
"Vdt=Vd-emf;// in V\n",
"I=Vds/Rs;\n",
"R=Vdt/I;\n",
"disp(R,'Unknown resistor,R(ohm) = ')"
   ]
   }
,
{
		   "cell_type": "markdown",
		   "metadata": {},
		   "source": [
			"## Example 4.2: emf_and_percentage_error.sce"
		   ]
		  },
  {
"cell_type": "code",
	   "execution_count": null,
	   "metadata": {
	    "collapsed": true
	   },
	   "outputs": [],
"source": [
"//Example 4.2: emf and % error \n",
"clc;\n",
"clear;\n",
"close;\n",
"//given data :\n",
"l=50;// in cm\n",
"l1=70;// in cm\n",
"l2=65;// in cm\n",
"l3=43.5;// in cm\n",
"I=0.45;// in A\n",
"V=1.0183;// in V\n",
"V1=1.35;// in V\n",
"R=2;// in ohm\n",
"Vpl=V/l;// in V/cm\n",
"emf=Vpl*l1;\n",
"disp(emf,'(a). emf of the cell,(V) = ')\n",
"Vr=Vpl*l2;\n",
"P_error1=((V1-Vr)/Vr)*100;\n",
"disp(P_error1 ,'(b). % error (high),(%) = ')\n",
"Ir=(Vpl*l3)/R;// in A\n",
"P_error2=((I-Ir)/Ir)*100;\n",
"disp(P_error2,'(c). % error (high),(%) = ')"
   ]
   }
,
{
		   "cell_type": "markdown",
		   "metadata": {},
		   "source": [
			"## Example 4.3_a: current_and_resistance.sce"
		   ]
		  },
  {
"cell_type": "code",
	   "execution_count": null,
	   "metadata": {
	    "collapsed": true
	   },
	   "outputs": [],
"source": [
"//Example 4.3.a: current and resistance\n",
"clc;\n",
"clear;\n",
"close;\n",
"e1=1.0191;//V\n",
"r1=100;//ohms\n",
"l=2;//m\n",
"I=l/r1;//A\n",
"e2=4;//V\n",
"rh=(e2/I)-r1;//\n",
"disp(I,'current is ,(A)=')\n",
"disp(rh,'resistance is ,(ohm)=')"
   ]
   }
,
{
		   "cell_type": "markdown",
		   "metadata": {},
		   "source": [
			"## Example 4.3_b: current_and_resistance.sce"
		   ]
		  },
  {
"cell_type": "code",
	   "execution_count": null,
	   "metadata": {
	    "collapsed": true
	   },
	   "outputs": [],
"source": [
"//Example 4.3.B: current and resistance\n",
"clc;\n",
"clear;\n",
"close;\n",
"e1=4;//V\n",
"e2=1.0191;//V\n",
"R1=100;//OHM\n",
"R2=49.045;//OHMS\n",
"r3=R1-R2;//ohms\n",
"rg=50;//ohms\n",
"r4=200;//ohms\n",
"A=[r4 -r3;-r3 (r4+rg+r3)];//\n",
"B=[e1;e2];//\n",
"X=A\B;//\n",
"I2=X(2,1)*10^3;//\n",
"disp(I2,'current is ,(mA)=')\n",
"I1=((e1+(r3*10^-5))/r4);//mA\n",
"rp=((e2+(r3*I1)-(r4+rg+r3)*10^-5)/10^-5);//\n",
"disp(rp*10^-2,'resistance is,(k-ohm)=')\n",
"//resistance is calculated wrong innthe textbook"
   ]
   }
,
{
		   "cell_type": "markdown",
		   "metadata": {},
		   "source": [
			"## Example 4.4: resistance.sce"
		   ]
		  },
  {
"cell_type": "code",
	   "execution_count": null,
	   "metadata": {
	    "collapsed": true
	   },
	   "outputs": [],
"source": [
"//Example 4.4: Resistance\n",
"clc;\n",
"clear;\n",
"close;\n",
"//given data :\n",
"emf=1.01892;// in V\n",
"R=1;// in M-ohm\n",
"V=1.01874;// in V\n",
"Ic=V/R;\n",
"Vd=emf-V;\n",
"Ri=Vd/(Ic*10^-6);\n",
"disp(Ri,'internal resistance,Ri(ohm) = ')"
   ]
   }
,
{
		   "cell_type": "markdown",
		   "metadata": {},
		   "source": [
			"## Example 4.5: resistance.sce"
		   ]
		  },
  {
"cell_type": "code",
	   "execution_count": null,
	   "metadata": {
	    "collapsed": true
	   },
	   "outputs": [],
"source": [
"//Example 4.5: Resistance\n",
"clc;\n",
"clear;\n",
"close;\n",
"//given data :\n",
"l=65;// in cm\n",
"V=0.1;// in V\n",
"V1=5.5;// in V\n",
"R=20;// in ohm\n",
"E=V*l;\n",
"I=V1/R;\n",
"Ri=(E-V1)/I;\n",
"disp(Ri,'Internal resistance,Ri(ohm) = ')"
   ]
   }
,
{
		   "cell_type": "markdown",
		   "metadata": {},
		   "source": [
			"## Example 4.6: resistance.sce"
		   ]
		  },
  {
"cell_type": "code",
	   "execution_count": null,
	   "metadata": {
	    "collapsed": true
	   },
	   "outputs": [],
"source": [
"//Example 4.6: Resistance\n",
"clc;\n",
"clear;\n",
"close;\n",
"vr=5;//V\n",
"r=10;//k-ohm\n",
"x=vr*r*10^3;//\n",
"R=x;//\n",
"disp(R*10^-3,'resistance is ,(k-ohm)=')"
   ]
   }
,
{
		   "cell_type": "markdown",
		   "metadata": {},
		   "source": [
			"## Example 4.7: length_of_slide_wire.sce"
		   ]
		  },
  {
"cell_type": "code",
	   "execution_count": null,
	   "metadata": {
	    "collapsed": true
	   },
	   "outputs": [],
"source": [
"//Example 4.7: Length\n",
"clc;\n",
"clear;\n",
"close;\n",
"//given data :\n",
"l=40;// in cm\n",
"r=0.5;// ion ohm\n",
"R=r*l/1;// in ohm\n",
"V=1.2;// in V\n",
"V1=6;// in V\n",
"I=V/R;\n",
"x=V1/(r*I);\n",
"disp(x,'The length of slide wire,x(cm) = ')"
   ]
   }
,
{
		   "cell_type": "markdown",
		   "metadata": {},
		   "source": [
			"## Example 4.8: desig.sce"
		   ]
		  },
  {
"cell_type": "code",
	   "execution_count": null,
	   "metadata": {
	    "collapsed": true
	   },
	   "outputs": [],
"source": [
"//Example 4.8: design\n",
"clc;\n",
"clear;\n",
"close;\n",
"vab=1;//V\n",
"vr=2-vab;//V\n",
"i=50;//mA\n",
"R=vr/(i*10^-3);//ohm\n",
"R1=(vr/10)/(i*10^-3);//ohm\n",
"n=10;//\n",
"tr1=n*R1;//ohm\n",
"r2=2*R1;//\n",
"l=100;//cm\n",
"x=R1/l;//\n",
"disp(R,'resistance R is,(ohm)=')\n",
"disp(R1,'resistance R1 is,(ohm)=')\n",
"disp(r2,'resistance R2 is,(ohm)=')\n",
"disp(x,'resistance per cm of slide wire is ,(ohm/cm)=')"
   ]
   }
,
{
		   "cell_type": "markdown",
		   "metadata": {},
		   "source": [
			"## Example 4.9_a: resistance.sce"
		   ]
		  },
  {
"cell_type": "code",
	   "execution_count": null,
	   "metadata": {
	    "collapsed": true
	   },
	   "outputs": [],
"source": [
"//Example 4.9.a:resistance\n",
"clc;\n",
"clear;\n",
"close;\n",
"st=15;//steps\n",
"r=5;//ohm\n",
"rsw=5.5;//ohm\n",
"tr=(st*r)+rsw;//ohm\n",
"vr=1.61;//V\n",
"i=vr/tr;//A\n",
"e2=1.61;//V\n",
"e1=2.40;//V\n",
"rh=(e1-e2)/i;//ohm \n",
"disp(rh,'resistance is,(ohm)=')"
   ]
   }
,
{
		   "cell_type": "markdown",
		   "metadata": {},
		   "source": [
			"## Example 4.9_b: resolutio.sce"
		   ]
		  },
  {
"cell_type": "code",
	   "execution_count": null,
	   "metadata": {
	    "collapsed": true
	   },
	   "outputs": [],
"source": [
"//Example 4.9.b:resolution\n",
"clc;\n",
"clear;\n",
"close;\n",
"st=15;//steps\n",
"r=5;//ohm\n",
"rsw=5.5;//ohm\n",
"tr=(st*r)+rsw;//ohm\n",
"vr=1.61;//V\n",
"i=vr/tr;//A\n",
"e2=1.61;//V\n",
"e1=2.40;//V\n",
"rh=(e1-e2)/i;//ohm \n",
"trn=11;//turns\n",
"slwr=rsw/trn;//ohm\n",
"vd=slwr*i;//V\n",
"dv=100;//divisions\n",
"vedv=(1/dv)*vd;//\n",
"rs=vedv/5;//\n",
"disp(rs*10^6,'resolution of the instrument is,(micro-V)=')"
   ]
   }
,
{
		   "cell_type": "markdown",
		   "metadata": {},
		   "source": [
			"## Example 4.9_c: error.sce"
		   ]
		  },
  {
"cell_type": "code",
	   "execution_count": null,
	   "metadata": {
	    "collapsed": true
	   },
	   "outputs": [],
"source": [
"//Example 4.9.c:error\n",
"clc;\n",
"clear;\n",
"close;\n",
"st=15;//steps\n",
"r=5;//ohm\n",
"rsw=5.5;//ohm\n",
"tr=(st*r)+rsw;//ohm\n",
"vr=1.61;//V\n",
"i=vr/tr;//A\n",
"e2=1.61;//V\n",
"e1=2.40;//V\n",
"rh=(e1-e2)/i;//ohm \n",
"trn=11;//turns\n",
"slwr=rsw/trn;//ohm\n",
"vd=slwr*i;//V\n",
"dv=100;//divisions\n",
"vedv=(1/dv)*vd;//\n",
"rs=vedv/5;//\n",
"ig=0.05;//micro-A\n",
"vlt=1.1;//V\n",
"ir=50;//ohm\n",
"em=((ig*ir));//\n",
"disp(em,'error is,(micro-V)')"
   ]
   }
],
"metadata": {
		  "kernelspec": {
		   "display_name": "Scilab",
		   "language": "scilab",
		   "name": "scilab"
		  },
		  "language_info": {
		   "file_extension": ".sce",
		   "help_links": [
			{
			 "text": "MetaKernel Magics",
			 "url": "https://github.com/calysto/metakernel/blob/master/metakernel/magics/README.md"
			}
		   ],
		   "mimetype": "text/x-octave",
		   "name": "scilab",
		   "version": "0.7.1"
		  }
		 },
		 "nbformat": 4,
		 "nbformat_minor": 0
}
