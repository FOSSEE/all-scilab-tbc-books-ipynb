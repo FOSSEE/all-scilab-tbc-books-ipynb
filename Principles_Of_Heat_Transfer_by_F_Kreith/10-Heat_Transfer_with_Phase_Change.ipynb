{
"cells": [
 {
		   "cell_type": "markdown",
	   "metadata": {},
	   "source": [
       "# Chapter 10: Heat Transfer with Phase Change"
	   ]
	},
{
		   "cell_type": "markdown",
		   "metadata": {},
		   "source": [
			"## Example 10.1: Water_Boiling_on_Steel_Surface.sce"
		   ]
		  },
  {
"cell_type": "code",
	   "execution_count": null,
	   "metadata": {
	    "collapsed": true
	   },
	   "outputs": [],
"source": [
"\n",
"// Display mode\n",
"mode(0);\n",
"\n",
"// Display warning for floating point exception\n",
"ieee(1);\n",
"\n",
"clc;\n",
"disp('Principles of Heat transfer, Seventh Edition, Frank Kreith, Raj M Manglik and Mark S Bohn, Chapter 10, Example 1')\n",
"//Surface temperature of polished stainless steel surface in degree celcius\n",
"T_s=106;\n",
"//Boiling point of water under at atmospheric pressure in degree celcius\n",
"T_b=100;\n",
"//Value of empirical constant\n",
"C_sf=0.0132;\n",
"//latent heat of vaporization in J/kg\n",
"h_fg=2.25e6;\n",
"//gravitational acceleration in m/s^2\n",
"g=9.81;\n",
"//Value of proportionality factor in British Gravitational system\n",
"g_c=1;\n",
"//density of saturated liquid in kg/m^3\n",
"rho_l=962;\n",
"//density of saturated vapor in kg/m^3\n",
"rho_v=0.60;\n",
"//specific heat of saturated liquid in J/kg K\n",
"c_l=4211;\n",
"//prandtl number of saturated liquid\n",
"Pr_l=1.75;\n",
"//surface tension of the liquid-to-vapor interface in N/m\n",
"sigma=58.8e-3;\n",
"// viscosity of the liquid in kg/ms\n",
"mu_l=2.77e-4;\n",
"//Excess temperature in degree Celcius\n",
"delta_Tx= T_s-T_b;\n",
"\n",
"disp('Heat flux from the surface to the water in W/m^2')\n",
"//Heat flux in W./m2\n",
"q=(c_l*delta_Tx/(C_sf*h_fg*Pr_l))^3*mu_l*h_fg*sqrt((g*(rho_l-rho_v))/(g_c*sigma))\n",
"\n",
"disp('Critical heat flux in W/m^2')\n",
"//Heat flux in W./m2\n",
"q_maxZ=(%pi/24)*sqrt(rho_v)*h_fg*(sigma*g*(rho_l-rho_v)*g_c)^0.25\n",
"\n",
"disp('At 6°C excess temperature the heat flux is less than the critical value; therefore nucleate pool boiling exists')\n",
"disp('For the Teflon-coated stainless steel surface, heat flux in W/m^2')\n",
"//Heat flux in W./m2\n",
"q=29669*(C_sf/0.0058)^3\n",
"disp('Thus for Teflon-coated stainless steel surface there is a remarkable increase in heat flux; however, it is still below the critical value.')"
   ]
   }
,
{
		   "cell_type": "markdown",
		   "metadata": {},
		   "source": [
			"## Example 10.2: Water_Boiling_on_Polished_Surface.sce"
		   ]
		  },
  {
"cell_type": "code",
	   "execution_count": null,
	   "metadata": {
	    "collapsed": true
	   },
	   "outputs": [],
"source": [
"\n",
"// Display mode\n",
"mode(0);\n",
"\n",
"// Display warning for floating point exception\n",
"ieee(1);\n",
"\n",
"clc;\n",
"disp('Principles of Heat transfer, Seventh Edition, Frank Kreith, Raj M Manglik and Mark S Bohn, Chapter 10, Example 2')\n",
"//density of saturated liquid in kg/m^3\n",
"rho_l=962;\n",
"//gravitational acceleration in m/s^2\n",
"g=9.8;\n",
"//latent heat of vaporization in J/kg\n",
"h_fg=2250000;\n",
"//density of saturated vapor in kg/m^3\n",
"rho_v=0.60;\n",
"//Surface temperature of polished stainless steel surface in degree celcius\n",
"T_s=400;\n",
"//Value of proportionality factor in British Gravitational system\n",
"g_c=1;\n",
"//Boiling point of water under at atmospheric pressure in degree celcius\n",
"T_b=100;\n",
"//surface tension of the liquid-to-vapor interface in N/m\n",
"sigma=58.8e-3;\n",
"//Excess temperature in degree Celcius\n",
"delta_Tx= T_s-T_b;\n",
"//Wavelength in m from eq. 10.7\n",
"lamda=2*%pi*sqrt(g_c*sigma/(g*(rho_l-rho_v)));\n",
"//Thermal conductivity in W/mK\n",
"k_c=0.0249;\n",
"//Absolute viscosity in Ns/m^2\n",
"mu_c=12.1e-6;\n",
"//Specific heat in J/kg K\n",
"c_pc=2034;\n",
"//Heat transfer coefficient due to conduction alone in W/m^2 K\n",
"h_c=(0.59)*(((g*(rho_l-rho_v)*rho_v*(k_c^3)*(h_fg+(0.68*c_pc*delta_Tx)))/(lamda*mu_c*delta_Tx))^0.25); // expression obtained assuming diameter D tending to infinity\n",
"//Emissivity\n",
"epsilon_s= 0.05; //since surface is polished and hence heat transfer coefficient due to radiation is negligible\n",
"disp('Heat flux in W/m^2')\n",
"//Heat flux in W/m^2\n",
"q= h_c*delta_Tx"
   ]
   }
,
{
		   "cell_type": "markdown",
		   "metadata": {},
		   "source": [
			"## Example 10.3: Flow_of_n_Butyl_Alcohol.sce"
		   ]
		  },
  {
"cell_type": "code",
	   "execution_count": null,
	   "metadata": {
	    "collapsed": true
	   },
	   "outputs": [],
"source": [
"\n",
"\n",
"// Display mode\n",
"mode(0);\n",
"\n",
"// Display warning for floating point exception\n",
"ieee(1);\n",
"\n",
"clc;\n",
"disp('Principles of Heat transfer, Seventh Edition, Frank Kreith, Raj M Manglik and Mark S Bohn, Chapter 10, Example 3')\n",
"//Flow rate of n-butyl alcohol in kg/hr\n",
"m=161;\n",
"//Internal diameter of copper tube in meters\n",
"D=0.01;\n",
"//Tube wall temperature in degree C\n",
"T=140;\n",
"//surface tension in N/m\n",
"sigma=0.0183;\n",
"//Heat of vaporization in J/kg\n",
"h_fg=591500;\n",
"//atmospheric pressure boiling point in degree C\n",
"T_sat=117.5;\n",
"// saturation pressure corresponding to a saturation temperature of 140°C in atm\n",
"P_sat=2;\n",
"//Density of vapor in kg/m^3\n",
"rho_v=2.3;\n",
"//Viscosity of vapor in kg/m s\n",
"mu_v=.0143e-3;\n",
"//Property values for n-butyl alcohol are taken from Appendix 2, Table 19\n",
"//Density in kg/m^3\n",
"rho_l=737;\n",
"//Absolute viscosity in Ns/m^2\n",
"mu_l=0.39e-3;\n",
"//Specific heat in J/kg K\n",
"c_l=3429;\n",
"//Prandtl number\n",
"Pr_l=8.2;\n",
"//Thermal conductivity in W/m K\n",
"k_l=0.13;\n",
"//Empirical constant\n",
"C_sf=0.00305;// Value taken from table 10.1\n",
"//Mass velocity in kg/m^2 s\n",
"G=(m/3600)*(4/(%pi*0.01^2));\n",
"//Reynolds number for liquid flow\n",
"Re_D=(G*D)/mu_l;\n",
"//The contribution to the heat transfer coefficient due to the two-phase annular flow is [(0.023)*(14590)^0.8*(8.2)^0.4*16.3*(1-x)^0.8*F]\n",
"//Since the vapor pressure changes by 1 atm over the temperature range from saturation temperature to 140°C,so saturation pressure in N/m^2\n",
"delta_p_sat=101300;\n",
"//Therefore the contribution to the heat transfer coefficient from nucleate boiling is\n",
"//h_b= 0.00122*[(0.163^0.79*3429^0.45*737^0.49*1^0.25)/(0.0183^0.5*0.39e-3^0.29*591300^0.24*2.3^0.24)]*(140-117.5)^0.24*(101300)^0.75*S\n",
"//or h_b= 8393S\n",
"//Now 1/Xtt will be calculated by\n",
"//1/Xtt=12.86*(x/(1-x))^0.9\n",
"//Now a table is prepared showing stepwise calculations that track the increase in quality, from x=0 to x=0.5,assuming that the steps delta x are small enough that the heat flux and other parameters are reasonably constant in that step\n",
"disp('The tube length required to reach 50% quality is 1.35 m')"
   ]
   }
,
{
		   "cell_type": "markdown",
		   "metadata": {},
		   "source": [
			"## Example 10.4: Heat_Transfer_Coefficients_For_Tube.sce"
		   ]
		  },
  {
"cell_type": "code",
	   "execution_count": null,
	   "metadata": {
	    "collapsed": true
	   },
	   "outputs": [],
"source": [
"\n",
"// Display mode\n",
"mode(0);\n",
"\n",
"// Display warning for floating point exception\n",
"ieee(1);\n",
"\n",
"clc;\n",
"disp('Principles of Heat transfer, Seventh Edition, Frank Kreith, Raj M Manglik and Mark S Bohn, Chapter 10, Example 4')\n",
"//Outer diameter of the tube in meters\n",
"D=0.013;\n",
"//Acceleration due to gravity in m/s^2\n",
"g=9.81;\n",
"//Length of the tube in meters\n",
"L=1.5;\n",
"//Temperature of saturated vapour in Kelvin\n",
"T_sv=349;\n",
"//Average tube wall temperature in Kelvin\n",
"T_s=325;\n",
"//Average temperature of the condensate film in degree K\n",
"Tf=(T_sv+T_s)/2;\n",
"//Thermal conductivity of liquid in W/m-K\n",
"k_l=0.661;\n",
"//Viscosity of liquid in N s/m^2\n",
"mu_l=4.48e-4;\n",
"//Dendity of liquid in kg/m^3\n",
"rho_l=980.9;\n",
"//Specific heat of liquid in J/kg K\n",
"c_pl=4184;\n",
"//Latent heat of condensation in J/kg\n",
"h_fg=2.349e6;\n",
"//Density of vapor in kg/m^3\n",
"rho_v=0.25;\n",
"//Modified latent heat of condensation in J/kg\n",
"h_fg_dash=h_fg+(3/8)*c_pl*(T_sv-T_s);\n",
"\n",
"disp('Heat transfer coefficient for tube in horizontal position in W/m^2 K')\n",
"//Heat transfer coefficient in W/m2K\n",
"h_c_bar=0.725*(((rho_l*(rho_l-rho_v)*g*h_fg_dash*k_l^3)/(D*mu_l*(T_sv-T_s)))^0.25)\n",
"disp('Heat transfer coefficient for tube in vertical position in W/m^2 K')\n",
"////Heat transfer coefficient in W/m2K\n",
"h_c_bar=0.943*(((rho_l*(rho_l-rho_v)*g*h_fg_dash*k_l^3)/(mu_l*(T_sv-T_s)))^0.25)"
   ]
   }
,
{
		   "cell_type": "markdown",
		   "metadata": {},
		   "source": [
			"## Example 10.5: Condensate_Flow_Determination.sce"
		   ]
		  },
  {
"cell_type": "code",
	   "execution_count": null,
	   "metadata": {
	    "collapsed": true
	   },
	   "outputs": [],
"source": [
"\n",
"// Display mode\n",
"mode(0);\n",
"\n",
"// Display warning for floating point exception\n",
"ieee(1);\n",
"\n",
"clc;\n",
"disp('Principles of Heat transfer, Seventh Edition, Frank Kreith, Raj M Manglik and Mark S Bohn, Chapter 10, Example 5')\n",
"//Acceleration due to gravity in m/s^2\n",
"g=9.81;\n",
"//Length of the tube in meters\n",
"L=1.5;\n",
"//Temperature of saturated vapour in Kelvin\n",
"T_sv=349;\n",
"//Average tube wall temperature in Kelvin\n",
"T_s=325;\n",
"//Average temperature of the condensate film in Kelvin\n",
"Tf=(T_sv+T_s)/2;\n",
"//Thermal conductivity of liquid in W/m-K\n",
"k_l=0.661;\n",
"//Viscosity of liquid in N s/m^2\n",
"mu_l=4.48e-4;\n",
"//Dendity of liquid in kg/m^3\n",
"rho_l=980.9;\n",
"//Specific heat of liquid in J/kg K\n",
"c_pl=4184;\n",
"//Latent heat of condensation in J/kg\n",
"h_fg=2.349e6;\n",
"//Density of vapor in kg/m^3\n",
"rho_v=0.25;\n",
"//Modified latent heat of condensation in J/kg\n",
"h_fg_dash=h_fg+(3/8)*c_pl*(T_sv-T_s);\n",
"\n",
"disp('Reynolds number at the lower edge')\n",
"//Reynolds number\n",
"Re=(4/3)*(((4*k_l*L*(T_sv-T_s)*rho_l^(2/3)*g^(1/3))/(mu_l^(5/3)*h_fg_dash))^0.75)\n",
"disp('Since the Reynolds number at the lower edge of the tube is below 2000, the flow of the condensate is laminar')"
   ]
   }
,
{
		   "cell_type": "markdown",
		   "metadata": {},
		   "source": [
			"## Example 10.6: Heat_Transport_Capability_of_Water.sce"
		   ]
		  },
  {
"cell_type": "code",
	   "execution_count": null,
	   "metadata": {
	    "collapsed": true
	   },
	   "outputs": [],
"source": [
"\n",
"// Display mode\n",
"mode(0);\n",
"\n",
"// Display warning for floating point exception\n",
"ieee(1);\n",
"\n",
"clc;\n",
"disp('Principles of Heat transfer, Seventh Edition, Frank Kreith, Raj M Manglik and Mark S Bohn, Chapter 10, Example 6')\n",
"//Length of Heat pipe in meters\n",
"L_eff=0.30;\n",
"//Temperature of the heat pipe in degree celcius\n",
"T=100;\n",
"//Diameter of the heat pipe in meters\n",
"D=1e-2;\n",
"//Density of water at 100 degree celcius in k/m^3\n",
"rho=958;\n",
"//Viscosity of water in N s/m^2\n",
"mu=279e-6;\n",
"//surface tension of the liquid-to-vapor interface in N/m\n",
"sigma=58.9e-3;\n",
"//latent heat of vaporization in J/kg\n",
"h_fg=2.26e6;\n",
"//Inclination angle in degree\n",
"theta=30;\n",
"//Acceleration due to gravity in meter/sec^2\n",
"g=9.81;\n",
"//Wire diameter for wick in metres\n",
"d=0.0045e-2;\n",
"//So thickness of four layers of wire mesh\n",
"t=4*d;\n",
"//Area of the wick in m^2\n",
"Aw=%pi*D*t;\n",
"//For phosphorus-bronze,heat pipe wick pore size in meters\n",
"r=0.002e-2;\n",
"//For phosphorus-bronze,heat pipe wick permeability in m^2\n",
"K=0.3e-10;\n",
"disp('Maximum liquid flow rate in kg/sec')\n",
"//flow rate in kg/sec\n",
"m_max=((2*sigma/r)-rho*g*L_eff*sind(theta))*((rho*Aw*K)/(mu*L_eff))\n",
"disp('Maximum heat transport capability in Watt')\n",
"//heat transport capability in W\n",
"q_max=m_max*h_fg"
   ]
   }
,
{
		   "cell_type": "markdown",
		   "metadata": {},
		   "source": [
			"## Example 10.7: Forming_of_Ice_Layer.sce"
		   ]
		  },
  {
"cell_type": "code",
	   "execution_count": null,
	   "metadata": {
	    "collapsed": true
	   },
	   "outputs": [],
"source": [
"\n",
"// Display mode\n",
"mode(0);\n",
"\n",
"// Display warning for floating point exception\n",
"ieee(1);\n",
"\n",
"clc;\n",
"disp('Principles of Heat transfer, Seventh Edition, Frank Kreith, Raj M Manglik and Mark S Bohn, Chapter 10, Example 7')\n",
"//Temperature of the brine spray used for internal refrigeration in degree celcius\n",
"T_inf=-11;\n",
"//Required thickness of ice layer in meters\n",
"epsilon= 0.0025;\n",
"//Water-liquid temperature in degree celcius\n",
"T1=4.4;\n",
"//Liquid-surface conductance in W/m^2 K\n",
"h_epsilon=57;\n",
"//Conductance between brine and ice(including metal wall) in W/m^2 K\n",
"h_not=570;\n",
"//Latent heat of fusion for ice in J/Kg\n",
"Lf=333700;\n",
"//Density for ice in Kg/m^3\n",
"rho=918;\n",
"//Thermal conductivity for ice in W/m K\n",
"k=2.32;\n",
"//Freezing point temperature in degree K\n",
"Tfr=0;\n",
"//Dimensionless R, T, epsilon and t are as follows\n",
"//R plus parameter \n",
"R_plus= h_epsilon/h_not;\n",
"//T plus parameter\n",
"T_plus= (T1-Tfr)/(Tfr-T_inf);\n",
"//Epsilon plus parameter\n",
"Epsilon_plus= h_not*epsilon/k;\n",
"//t plus parameter\n",
"t_plus=(Epsilon_plus/(R_plus*T_plus))-((1/(R_plus*T_plus)^2)*log(1+(R_plus*T_plus*Epsilon_plus/(1+R_plus*T_plus))))\n",
"\n",
"disp('Time taken for 0.25cm thick ice layer deposition in sec')\n",
"//time in seconds\n",
"t=t_plus*rho*Lf*k/((h_not)^2*(Tfr-T_inf))"
   ]
   }
],
"metadata": {
		  "kernelspec": {
		   "display_name": "Scilab",
		   "language": "scilab",
		   "name": "scilab"
		  },
		  "language_info": {
		   "file_extension": ".sce",
		   "help_links": [
			{
			 "text": "MetaKernel Magics",
			 "url": "https://github.com/calysto/metakernel/blob/master/metakernel/magics/README.md"
			}
		   ],
		   "mimetype": "text/x-octave",
		   "name": "scilab",
		   "version": "0.7.1"
		  }
		 },
		 "nbformat": 4,
		 "nbformat_minor": 0
}
