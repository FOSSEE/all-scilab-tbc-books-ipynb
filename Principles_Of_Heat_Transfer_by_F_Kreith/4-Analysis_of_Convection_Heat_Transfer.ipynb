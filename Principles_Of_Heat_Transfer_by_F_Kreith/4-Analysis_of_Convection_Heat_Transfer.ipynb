{
"cells": [
 {
		   "cell_type": "markdown",
	   "metadata": {},
	   "source": [
       "# Chapter 4: Analysis of Convection Heat Transfer"
	   ]
	},
{
		   "cell_type": "markdown",
		   "metadata": {},
		   "source": [
			"## Example 4.1: Computation_of_Heat_Transfer_Coefficient.sce"
		   ]
		  },
  {
"cell_type": "code",
	   "execution_count": null,
	   "metadata": {
	    "collapsed": true
	   },
	   "outputs": [],
"source": [
"\n",
"\n",
"// Display mode\n",
"mode(0);\n",
"\n",
"// Display warning for floating point exception\n",
"ieee(1);\n",
"\n",
"clc;\n",
"disp('Principles of Heat Transfer, 7th Ed. Frank Kreith et. al Chapter - 4 Example # 4.1 ')\n",
"\n",
"// Temperature of air in C is given as:\n",
"Tinfinity = 20;\n",
"// Temperature of surface in C is given as:\n",
"Ts = 100;\n",
"// Therefore avaerage temperature in degree C would be:\n",
"Ta = (Ts+Tinfinity)/2;\n",
"// From fig. 4.2 on page 232, it can be easily seen that (deltaT/deltaY) at\n",
"// y=0 is -66.7 K/mm\n",
"// From Table 28 in Appendix 2, at average temperature of air, thermal\n",
"// conductivity in W/m-K is\n",
"k = 0.028;\n",
"\n",
"//Therefore from eq. 4.1\n",
"disp('The heat transfer coefficient is given by, as per Eq. 4.1, in W/m2K')\n",
"// 1000 is added to convert from mm to m\n",
"//heat transfer coefficient in W/m2K\n",
"hc = ((-k*(-66.7))/(Ts-Tinfinity))*1000"
   ]
   }
,
{
		   "cell_type": "markdown",
		   "metadata": {},
		   "source": [
			"## Example 4.2: Theoretical_Problem.sce"
		   ]
		  },
  {
"cell_type": "code",
	   "execution_count": null,
	   "metadata": {
	    "collapsed": true
	   },
	   "outputs": [],
"source": [
"\n",
"\n",
"// Display mode\n",
"mode(0);\n",
"\n",
"// Display warning for floating point exception\n",
"ieee(1);\n",
"\n",
"clc;\n",
"disp('Principles of Heat Transfer, 7th Ed. Frank Kreith et. al Chapter - 4 Example # 4.2 ')\n",
"\n",
"disp('The given example is theoretical and does not involve any numerical computation')\n",
"\n",
"// Local shear stress is given as:\n",
"// tau=0.3*((rho*mu/x)^0.5)*(Uinfinity^1.5)\n",
"\n",
"// Using Local friction coefficient = local shear stress /\n",
"// (0.5*rho*Uinfinity*Uinfinity), we get local friction coefficient as:\n",
"\n",
"//disp('Cfx = 0.6/((ReL*xstar))^0.5')\n",
"\n",
"//Integrating the local value of shear stress over length L and dividing by\n",
"//area i.e. A=L*1, we get average friction coefficient as:\n",
"\n",
"//disp('Cfbar = 1.2/(ReL^0.5)')"
   ]
   }
,
{
		   "cell_type": "markdown",
		   "metadata": {},
		   "source": [
			"## Example 4.3: Flat_Plate_Solar_Collector.sce"
		   ]
		  },
  {
"cell_type": "code",
	   "execution_count": null,
	   "metadata": {
	    "collapsed": true
	   },
	   "outputs": [],
"source": [
"\n",
"\n",
"// Display mode\n",
"mode(0);\n",
"\n",
"// Display warning for floating point exception\n",
"ieee(1);\n",
"\n",
"clc;\n",
"disp('Principles of Heat Transfer, 7th Ed. Frank Kreith et. al Chapter - 4 Example # 4.3 ')\n",
"\n",
"// Width of the collector plate in ft is given:\n",
"b = 1;\n",
"// Surface temperature in F is given:\n",
"Ts = 140;\n",
"// Air temperature in F is given:\n",
"Tinfinity = 60;\n",
"// Air velocity in ft/sec is given as:\n",
"Uinfinity = 10;\n",
"// Average temperature in degree F is given as:\n",
"T = (Ts+Tinfinity)/2;\n",
"// Properties of air at average temperature are as follows\n",
"\n",
"Pr = 0.72; //Prandtl number\n",
"k = 0.0154; // Thermal conductivity in Btu/h ft °F\n",
"mu = 1.285*10-5;  //Viscosity in lbm/ft s\n",
"cp = 0.24; //Specific heat in Btu/lbm °F\n",
"rho = 0.071; //Density in lbm/ft3\n",
"\n",
"// Reynold''s number at x=1ft is\n",
"Re1 = ((Uinfinity*rho)*1)/mu;\n",
"// Reynold''s number at x=9ft is\n",
"Re9 = ((Uinfinity*rho)*1)/mu;\n",
"// Assuming that the critical Reynolds number is 5*10^5, the critical distance is\n",
"//Critical Reynolds number\n",
"Rec = 5*(10^5);\n",
"//Critical distance in ft\n",
"xc = (Rec*mu)/(Uinfinity*rho);\n",
"\n",
"// From Eq. 4.28, and using the data obtained, we get for part a:\n",
"disp('Delta at x=1ft to be 0.0213ft and at x=9ft to be 0.0638ft')\n",
"\n",
"// From Eq. 4.30, and using the data obtained, we get for part b:\n",
"disp('Cfx at x=1ft to be 0.00283 and at x=9ft to be 0.000942')\n",
"\n",
"// From Eq. 4.31, and using the data obtained, we get for part c:\n",
"disp('Cfbar at x=1ft to be 0.00566 and at x=9ft to be 0.00189')\n",
"\n",
"// From Eq. 4.29, and using the data obtained, we get for part d:\n",
"disp('Tau at x=1ft to be 3.12*10^-4 lb/ft^2 and at x=9ft to be 1.04*10^-4 lb/ft^2')\n",
"\n",
"// From Eq. 4.32, and using the data obtained, we get for part e:\n",
"disp('DeltaTH at x=1ft to be 0.0237ft and at x=9ft to be 0.0712ft')\n",
"\n",
"// From Eq. 4.36, and using the data obtained, we get for part f:\n",
"disp('hcx at x=1ft to be 1.08Btu/hft^2°F and at x=9ft to be 0.359Btu/hft^2°F')\n",
"\n",
"// From Eq. 4.39, and using the data obtained, we get for part g:\n",
"disp('hcbar at x=1ft to be 2.18Btu/hft^2°F and at x=9ft to be 0.718Btu/hft^2°F')\n",
"\n",
"// From Eq. 4.35, and using the data obtained, we get for part h:\n",
"disp('q at x=1ft to be 172 Btu/h and at x=9ft to be 517 Btu/h')"
   ]
   }
,
{
		   "cell_type": "markdown",
		   "metadata": {},
		   "source": [
			"## Example 4.4: Heat_Flow_From_Crankcase.sce"
		   ]
		  },
  {
"cell_type": "code",
	   "execution_count": null,
	   "metadata": {
	    "collapsed": true
	   },
	   "outputs": [],
"source": [
"\n",
"\n",
"// Display mode\n",
"mode(0);\n",
"\n",
"// Display warning for floating point exception\n",
"ieee(1);\n",
"\n",
"clc;\n",
"disp('Principles of Heat Transfer, 7th Ed. Frank Kreith et. al Chapter - 4 Example # 4.4 ')\n",
"\n",
"// Length of the crankcase in m is given as\n",
"L = 0.6;\n",
"// Width of the crankcase in m is given as\n",
"b = 0.2;\n",
"// Depth of the crankcase in m is given as\n",
"d = 0.1;\n",
"// Surface temperature in K is given as\n",
"Ts = 350;\n",
"// Air temperature in K is given as\n",
"Tinfinity = 276;\n",
"// Air velocity in m/sec is given as\n",
"Uinfinity = 30;\n",
"// It is stated that  boundary layer is turbulent over the entire surface\n",
"\n",
"//Average air temperature in degree K is\n",
"T = (Ts+Tinfinity)/2;\n",
"// At this average temperature, we get the following for air\n",
"rho = 1.092;//density in kg/m^3\n",
"mu = 0.000019123;//viscosity in SI units\n",
"Pr = 0.71;//Prandtl number\n",
"k = 0.0265;//Thermal conductivity in W/m-K\n",
"\n",
"// Reynold''s number is therefore given as\n",
"ReL = ((rho*Uinfinity)*L)/mu;\n",
"\n",
"//From eq. 4.82, average nusselt number could be given as\n",
"Nu = (0.036*(Pr^(1/3)))*(ReL^0.8);\n",
"\n",
"//We can write from the basic expression, Nu=hc*L/k, that\n",
"//Heat transfer coefficient in W/m^2-K\n",
"hc = (Nu*k)/L;\n",
"\n",
"// The surface area that dissipates heat is 0.28 m2\n",
"disp('Total heat loss from the surface in W is therefore')\n",
"//Heat loss from the surface in W\n",
"q = (hc*0.28)*(Ts-Tinfinity)"
   ]
   }
],
"metadata": {
		  "kernelspec": {
		   "display_name": "Scilab",
		   "language": "scilab",
		   "name": "scilab"
		  },
		  "language_info": {
		   "file_extension": ".sce",
		   "help_links": [
			{
			 "text": "MetaKernel Magics",
			 "url": "https://github.com/calysto/metakernel/blob/master/metakernel/magics/README.md"
			}
		   ],
		   "mimetype": "text/x-octave",
		   "name": "scilab",
		   "version": "0.7.1"
		  }
		 },
		 "nbformat": 4,
		 "nbformat_minor": 0
}
