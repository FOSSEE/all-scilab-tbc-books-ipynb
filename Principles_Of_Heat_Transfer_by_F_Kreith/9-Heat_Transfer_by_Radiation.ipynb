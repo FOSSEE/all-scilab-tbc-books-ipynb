{
"cells": [
 {
		   "cell_type": "markdown",
	   "metadata": {},
	   "source": [
       "# Chapter 9: Heat Transfer by Radiation"
	   ]
	},
{
		   "cell_type": "markdown",
		   "metadata": {},
		   "source": [
			"## Example 9.10: Shape_Factor_Computatio.sce"
		   ]
		  },
  {
"cell_type": "code",
	   "execution_count": null,
	   "metadata": {
	    "collapsed": true
	   },
	   "outputs": [],
"source": [
"\n",
"// Display mode\n",
"mode(0);\n",
"\n",
"// Display warning for floating point exception\n",
"ieee(1);\n",
"\n",
"clc;\n",
"disp('Principles of Heat transfer, Seventh Edition, Frank Kreith, Raj M Manglik and Mark S Bohn, Chapter 9, Example 8')\n",
"//Window area in ft^2\n",
"A1=6*20;\n",
"//Second area in ft^2\n",
"A2=4*20;\n",
"//Assuming A5=A1+A2\n",
"//Area in ft^2\n",
"A5=A1+A2;\n",
"\n",
"//From Fig. 9.27\n",
"//Shape Factors required\n",
"F56=0.19;\n",
"F26=0.32;\n",
"F53=0.08;\n",
"F23=0.19;\n",
"\n",
"disp('Shape factor')\n",
"//Shape factor\n",
"F14=(A5*F56-A2*F26-A5*F53+A2*F23)/A1\n",
"disp('Thus,only about 10% of the light passing through the window will impinge on the floor area A4')"
   ]
   }
,
{
		   "cell_type": "markdown",
		   "metadata": {},
		   "source": [
			"## Example 9.11: Liquid_Oxygen_in_Spherical_Container.sce"
		   ]
		  },
  {
"cell_type": "code",
	   "execution_count": null,
	   "metadata": {
	    "collapsed": true
	   },
	   "outputs": [],
"source": [
"\n",
"\n",
"// Display mode\n",
"mode(0);\n",
"\n",
"// Display warning for floating point exception\n",
"ieee(1);\n",
"\n",
"clc;\n",
"disp('Principles of Heat Transfer, 7th Ed. Frank Kreith et. al Chapter - 9 Example # 9.11 ')\n",
"\n",
"//Absolute boiling temperature of liquid oxygen in R\n",
"T1 = 460-297;\n",
"//Absolute temperature of sphere in R\n",
"T2 = 460+30;\n",
"//Diameter of inner sphere in ft\n",
"D1 = 1;\n",
"//Area of inner sphere in ft2\n",
"A1 = (%pi*D1)*D1;\n",
"//Diameter of outer sphere in ft\n",
"D2 = 1.5;\n",
"//Area of outer sphere in ft2\n",
"A2 = (%pi*D2)*D2;\n",
"//Stefans constant\n",
"sigma = 0.1714;\n",
"//Emissivity of Aluminium\n",
"epsilon1 = 0.03;//Sphere1\n",
"epsilon2 = 0.03;//Sphere2\n",
"\n",
"//Using Eq. 9.74\n",
"disp('Rate of heat flow by radiation to the oxygen in Btu/h is')\n",
"//Rate of heat flow by radiation to the oxygen in Btu/h\n",
"q = ((A1*sigma)*((T1/100)^4-(T2/100)^4))/(1/epsilon1+(A1/A2)*((1-epsilon2)/epsilon2))"
   ]
   }
,
{
		   "cell_type": "markdown",
		   "metadata": {},
		   "source": [
			"## Example 9.12: Radiative_Exchange_Between_Cone_Surfaces.sce"
		   ]
		  },
  {
"cell_type": "code",
	   "execution_count": null,
	   "metadata": {
	    "collapsed": true
	   },
	   "outputs": [],
"source": [
"\n",
"\n",
"// Display mode\n",
"mode(0);\n",
"\n",
"// Display warning for floating point exception\n",
"ieee(1);\n",
"\n",
"clc;\n",
"disp('Principles of Heat Transfer, 7th Ed. Frank Kreith et. al Chapter - 9 Example # 9.12 ')\n",
"\n",
"// Provide all given inputs and constants of the problem\n",
"\n",
"// Stefan–Boltzmann constant (W/m^2/K^4)\n",
"SIGMA = 0.0000000567;\n",
"\n",
"//Area(1)=R1^2*pi in m2\n",
"AR(1,1) = 9*%pi;\n",
"\n",
"// The physical parameters, e.g., shape factor and emissivity, are evaluated.\n",
"\n",
"//All F(i,j) are shape factors.\n",
"F(1,1) = 0;\n",
"F(1,2) = 0.853;\n",
"F(1,3) = 0.147;\n",
"F(2,1) = 0.372;\n",
"F(2,2) = 0.498;\n",
"F(2,3) = 0.13;\n",
"F(3,1) = 0.333;\n",
"F(3,2) = 0.667;\n",
"F(3,3) = 0;\n",
"\n",
"//ESP are emissivity given in the problem\n",
"ESP(1,1) = 0.6;\n",
"ESP(1,3) = 0.9;\n",
"\n",
"//Temperature in degree K\n",
"T(1,1) = 1200;\n",
"//Temperature in degree K\n",
"T(1,3) = 600;\n",
"\n",
"//Emissive Power of blackbody in W/m2\n",
"EB(1,1) = SIGMA*(T(1)^4);\n",
"//Emissive Power of blackbody in W/m2\n",
"EB(1,3) = SIGMA*(T(3)^4);\n",
"\n",
"// The values of the elements of the coefficient matrix A in the equation\n",
"//[A][X]=[B] are specified\n",
"A(1,1) = 1-F(1,1)+ESP(1)/(1-ESP(1));\n",
"A(1,2) = -F(1,2);\n",
"A(1,3) = -F(1,3);\n",
"A(2,1) = -F(2,1);\n",
"A(2,2) = 1-F(2,2);\n",
"A(2,3) = -F(2,3);\n",
"A(3,1) = -F(3,1);\n",
"A(3,2) = -F(3,2);\n",
"A(3,3) = 1-F(3,3)+ESP(3)/(1-ESP(3));\n",
"\n",
"// The values of the right-hand side vector B are specified.\n",
"B(1,1) = (EB(1)*ESP(1))/(1-ESP(1));\n",
"B(1,2) = 0;\n",
"B(3) = (EB(3)*ESP(3))/(1-ESP(3));\n",
"\n",
"// The inversion routine is used to solve for X\n",
"disp('Net radiative exchange between the top and bottom surface in W')\n",
"//Net radiative exchange between the top and bottom surface in W\n",
"X = inv(A)*B'// solutions for J"
   ]
   }
,
{
		   "cell_type": "markdown",
		   "metadata": {},
		   "source": [
			"## Example 9.13: Temperature_of_Surface_of_Cone.sce"
		   ]
		  },
  {
"cell_type": "code",
	   "execution_count": null,
	   "metadata": {
	    "collapsed": true
	   },
	   "outputs": [],
"source": [
"\n",
"\n",
"// Display mode\n",
"mode(0);\n",
"\n",
"// Display warning for floating point exception\n",
"ieee(1);\n",
"\n",
"clc;\n",
"disp('Principles of Heat Transfer, 7th Ed. Frank Kreith et. al Chapter - 9 Example # 9.13 ')\n",
"\n",
"// Provide all given inputs and constants of the problem\n",
"SIGMA = 0.0000000567;// Stefan-Boltzmann constant (W m^2 K^4)\n",
"\n",
"//all F(I,J) are shape factor\n",
"F(1,1) = 0;\n",
"F(1,2) = 0.853;\n",
"F(1,3) = 0.147;\n",
"F(2,1) = 0.372;\n",
"F(2,2) = 0.498;\n",
"F(2,3) = 0.13;\n",
"F(3,1) = 0.333;\n",
"F(3,2) = 0.667;\n",
"F(3,3) = 0;\n",
"\n",
"//Area(1)=R1^2*pi in m2\n",
"AR(1,1) = 9*%pi;\n",
"\n",
"//ESP are total hemispheric emissivity in W/m2\n",
"ESP(1,1) = 0.6;\n",
"ESP(1,3) = 0.9;\n",
"\n",
"//Heat exchange in W\n",
"Q1 = 300000;\n",
"\n",
"//Temperature in degree K\n",
"T(1,3) = 600;\n",
"\n",
"//EB blackbody emissive powers in W/m2\n",
"EB(1,3) = SIGMA*(T(3)^4);\n",
"\n",
"// Evaluate elements of coefficient matrix\n",
"A(1,1) = 1-F(1,1);\n",
"A(1,2) = -F(1,2);\n",
"A(1,3) = -F(1,3);\n",
"A(2,1) = -F(2,1);\n",
"A(2,2) = 1-F(2,2);\n",
"A(2,3) = -F(2,3);\n",
"A(3,1) = 0;\n",
"A(3,2) = 0;\n",
"A(3,3) = 1;\n",
"\n",
"// Evaluate elements of right hand side matrix\n",
"B(1,1) = Q1/AR(1);\n",
"B(1,2) = 0;\n",
"B(3) = EB(3);\n",
"\n",
"// solve the system of equations for X\n",
"X = inv(A)*B';\n",
"\n",
"//Required temperature in degree K\n",
"T(1) = ((X(1)+(Q1*(1-ESP(1)))/(AR(1)*ESP(1)))/SIGMA)^0.25;\n",
"//solution for temperatures\n",
"disp('Temperature of surface 1 for the cone in degree K')\n",
"T1 = T(1)//Value for the required temperature in K"
   ]
   }
,
{
		   "cell_type": "markdown",
		   "metadata": {},
		   "source": [
			"## Example 9.14: Heat_Transfer_Between_Parallel_Plates.sce"
		   ]
		  },
  {
"cell_type": "code",
	   "execution_count": null,
	   "metadata": {
	    "collapsed": true
	   },
	   "outputs": [],
"source": [
"\n",
"\n",
"// Display mode\n",
"mode(0);\n",
"\n",
"// Display warning for floating point exception\n",
"ieee(1);\n",
"\n",
"clc;\n",
"disp('Principles of Heat Transfer, 7th Ed. Frank Kreith et. al Chapter - 9 Example # 9.14 ')\n",
"\n",
"//Absolute temperature of first plate in degree R\n",
"Ta = 2040+460;\n",
"//Absolute temperature of second plate in degree R\n",
"Tb = 540+460;\n",
"//Stefans constant\n",
"sigma = 0.1718;\n",
"\n",
"//For first radiation band, heat transfer is calculated\n",
"//Emissivity of A\n",
"epsilonA = 0.1;\n",
"//Emissivity of B\n",
"epsilonB = 0.9;\n",
"//Shape factor\n",
"Fab = 1/(1/epsilonA+1/epsilonB-1);\n",
"//The percentage of the total radiation within a given band is obtained from Table 9.1.\n",
"//Coefficients of T^4\n",
"A = 0.375;\n",
"//Coefficients of T^4\n",
"B = 0.004;\n",
"\n",
"//Rate of heat transfer in first band in Btu/h ft2\n",
"q1 = (Fab*sigma)*(A*((Ta/100)^4)-B*((Tb/100)^4));\n",
"\n",
"//Similarly for other two bands, heat transfer in Btu/h ft2\n",
"q2 = 23000;\n",
"//heat transfer in Btu/h ft2\n",
"q3 = 1240;\n",
"\n",
"disp('Total rate of radiation heat transfer in Btu/h ft2')\n",
"//heat transfer in Btu/h ft2\n",
"q = q1+q2+q3"
   ]
   }
,
{
		   "cell_type": "markdown",
		   "metadata": {},
		   "source": [
			"## Example 9.15: Emissivity_of_Gaseous_Mixture.sce"
		   ]
		  },
  {
"cell_type": "code",
	   "execution_count": null,
	   "metadata": {
	    "collapsed": true
	   },
	   "outputs": [],
"source": [
"\n",
"\n",
"// Display mode\n",
"mode(0);\n",
"\n",
"// Display warning for floating point exception\n",
"ieee(1);\n",
"\n",
"clc;\n",
"disp('Principles of Heat Transfer, 7th Ed. Frank Kreith et. al Chapter - 9 Example # 9.15 ')\n",
"\n",
"//Temperature in degree K\n",
"T = 800;\n",
"//Diameter of sphere in m\n",
"D = 0.4;\n",
"//Partial pressure of nitrogen in atm\n",
"PN2 = 1;\n",
"//Partial pressure of H2O in atm\n",
"PH2O = 0.4;\n",
"//Partial pressure of CO2 in atm\n",
"PCO2 = 0.6;\n",
"\n",
"//The mean beam length for a spherical mass of gas is obtained from Table 9.7\n",
"//Beam length in m\n",
"L = (2/3)*D;\n",
"\n",
"//The emissivities are given in Figs. 9.46 and 9.47\n",
"//Emissivity of H2O\n",
"epsilonH2O = 0.15;\n",
"//Emissivity of CO2\n",
"epsilonCO2 = 0.125;\n",
"\n",
"//N2 does not radiate appreciably at 800 K, but since the total gas pressure\n",
"//is 2 atm, we must correct the 1-atm values for epsilon.\n",
"//From Figs. 9.48 and 9.49 the pressure correction factors are\n",
"//Pressure correction factor for H2O\n",
"CH2O = 1.62;\n",
"//Pressure correction factor for CO2\n",
"CCO2 = 1.12;\n",
"\n",
"//From fig. 9.50\n",
"//Chnage in emissivity\n",
"deltaEpsilon = 0.014;\n",
"\n",
"//Finally, the emissivity of the mixture can be obtained from Eq. (9.114):\n",
"disp('Emissivity of the mixture is')\n",
"//Emissivity of the mixture\n",
"epsilonMix = CH2O*epsilonH2O+CCO2*epsilonCO2-deltaEpsilon"
   ]
   }
,
{
		   "cell_type": "markdown",
		   "metadata": {},
		   "source": [
			"## Example 9.16: Absorptivity_of_Gaseous_Mixture.sce"
		   ]
		  },
  {
"cell_type": "code",
	   "execution_count": null,
	   "metadata": {
	    "collapsed": true
	   },
	   "outputs": [],
"source": [
"\n",
"\n",
"// Display mode\n",
"mode(0);\n",
"\n",
"// Display warning for floating point exception\n",
"ieee(1);\n",
"\n",
"clc;\n",
"disp('Principles of Heat Transfer, 7th Ed. Frank Kreith et. al Chapter - 9 Example # 9.16 ')\n",
"\n",
"//Total pressure in atm\n",
"Pt = 2;\n",
"//Temperature in degree K\n",
"TH2O = 500;\n",
"//Mean beam length in m\n",
"L = 0.75;\n",
"//Partial pressure of water vapor in atm\n",
"PH2O = 0.4;\n",
"//Source temperature in degree K\n",
"Ts = 1000;\n",
"\n",
"//Since nitrogen is transparent, the absorption in the mixture is due to the water vapor alone.\n",
"\n",
"//Parameters required\n",
"//A Parameter in atm-m\n",
"A = PH2O*L;\n",
"//B Parameter in atm\n",
"B = (Pt+PH2O)/2;\n",
"\n",
"//From Figs. 9.46 and 9.48 we find\n",
"//For water, C factor in SI units\n",
"CH2O = 1.4;\n",
"//Emissivity of water\n",
"epsilonH2O = 0.29;\n",
"\n",
"\n",
"//From Eq. (9.115) the absorptivity of H2O is\n",
"disp('Absorptivity of H2O is')\n",
"alphaH2O = (CH2O*epsilonH2O)*((TH2O/Ts)^0.45)"
   ]
   }
,
{
		   "cell_type": "markdown",
		   "metadata": {},
		   "source": [
			"## Example 9.17: Heat_Flow_From_Flue_Gas.sce"
		   ]
		  },
  {
"cell_type": "code",
	   "execution_count": null,
	   "metadata": {
	    "collapsed": true
	   },
	   "outputs": [],
"source": [
"\n",
"\n",
"// Display mode\n",
"mode(0);\n",
"\n",
"// Display warning for floating point exception\n",
"ieee(1);\n",
"\n",
"clc;\n",
"disp('Principles of Heat Transfer, 7th Ed. Frank Kreith et. al Chapter - 9 Example # 9.17 ')\n",
"\n",
"//Temperature of flue gas in degree F\n",
"Tgas = 2000;\n",
"//Inner-wall surface temperature in degree F\n",
"Tsurface = 1850;\n",
"//Partial pressure of water in atm\n",
"p = 0.05;\n",
"//Convection heat transfer coefficient in Btu/h ft2 F\n",
"h = 1;\n",
"//Length of square duct in ft\n",
"L = 2;\n",
"//Volume in ft3\n",
"V = L*L;\n",
"//Surface area in ft2\n",
"A = 4*L;\n",
"\n",
"//The rate of heat flow from the gas to the wall by convection per unit\n",
"//length in Btu/h ft is\n",
"qc = (h*A)*(Tgas-Tsurface);\n",
"\n",
"//Effective beam length in m\n",
"L = ((0.3058*3.4)*V)/A;\n",
"\n",
"//Product of partial pressure and L\n",
"k = p*L;\n",
"\n",
"//From Fig. 9.46, for pL=0.026 and T=2000F, we find\n",
"\n",
"//Emissivity\n",
"epsilon = 0.035;\n",
"//Absorptivity\n",
"alpha = 0.039;\n",
"//stefans constant\n",
"sigma = 0.171;\n",
"\n",
"//Assuming that the brick surface is black, the net rate of heat flow from the gas to the wall by radiation is, according to Eq. (9.117)\n",
"qr = (sigma*A)*(epsilon*(((Tgas+460)/100)^4)-alpha*(((Tsurface+460)/100)^4));//Btu/h\n",
"\n",
"disp('Total heat flow from the gas to the duct in Btu/h')\n",
"//Total heat flow from the gas to the duct in Btu/h\n",
"q = qc+qr"
   ]
   }
,
{
		   "cell_type": "markdown",
		   "metadata": {},
		   "source": [
			"## Example 9.18: Estimation_of_True_Gas_Temperature.sce"
		   ]
		  },
  {
"cell_type": "code",
	   "execution_count": null,
	   "metadata": {
	    "collapsed": true
	   },
	   "outputs": [],
"source": [
"\n",
"\n",
"// Display mode\n",
"mode(0);\n",
"\n",
"// Display warning for floating point exception\n",
"ieee(1);\n",
"\n",
"clc;\n",
"disp('Principles of Heat Transfer, 7th Ed. Frank Kreith et. al Chapter - 9 Example # 9.18 ')\n",
"\n",
"//Emissivity\n",
"epsilon = 0.8;\n",
"//Stefan's constant\n",
"sigma = 0.1714;\n",
"//Temperature of walls in degree F\n",
"Twall = 440;\n",
"//Temperature indicated ny thermocouple in degree F\n",
"Tt = 940;\n",
"//Heat transfer coefficient in Btu/h ft2 F\n",
"h = 25;\n",
"\n",
"//The temperature of the thermocouple is below the gas temperature because the couple loses heat by radiation to the wall.\n",
"\n",
"//Under steady-state conditions the rate of heat flow by radiation from the thermocouple junction to the wall equals the rate of heat flow by convection from the gas to the couple.\n",
"\n",
"//Using this heat balance, q/A in Btu/h ft2\n",
"q = (epsilon*sigma)*(((Tt+460)/100)^4-((Twall+460)/100)^4);\n",
"\n",
"disp('True gas temperature in degree F')\n",
"//True gas temperature in degree F\n",
"Tg = Tt+q/h"
   ]
   }
,
{
		   "cell_type": "markdown",
		   "metadata": {},
		   "source": [
			"## Example 9.19: Gas_Temperature_Measurement_With_Shielding.sce"
		   ]
		  },
  {
"cell_type": "code",
	   "execution_count": null,
	   "metadata": {
	    "collapsed": true
	   },
	   "outputs": [],
"source": [
"\n",
"\n",
"// Display mode\n",
"mode(0);\n",
"\n",
"// Display warning for floating point exception\n",
"ieee(1);\n",
"\n",
"clc;\n",
"disp('Principles of Heat Transfer, 7th Ed. Frank Kreith et. al Chapter - 9 Example # 9.19 ')\n",
"\n",
"//Emissivity of thermocouple\n",
"epsilonT = 0.8;\n",
"//Emissivity of shield\n",
"epsilonS = 0.3;\n",
"//Stefan''s constant\n",
"sigma = 0.1714;\n",
"//Temperature of walls in degree F\n",
"Tw = 440;\n",
"//Temperature indicated ny thermocouple in degree F\n",
"Tt = 940;\n",
"//Heat transfer coefficient of thermocouple in Btu/h ft2 F\n",
"hrt = 25;\n",
"//Heat transfer coefficient of shield in Btu/h ft2 F\n",
"hrs = 20;\n",
"\n",
"//Area for thermocouple be unity ft2\n",
"At = 1;\n",
"//Corresponding area of shield in ft2\n",
"As = 4;//Inside dia=4*dia of thermocouple\n",
"\n",
"//From Eq. (9.76)\n",
"//View factors Fts and Fsw\n",
"Fts = 1/((1-epsilonT)/(At*epsilonT)+1/At+(1-epsilonS)/(As*epsilonS));\n",
"Fsw = As*epsilonS;\n",
"\n",
"//Assuming a shield temperature of 900°F, we have, according to Eq. (9.118)\n",
"//Temperature in degree F\n",
"Ts = 923;\n",
"\n",
"//Coeffcients for heat balance are as following\n",
"//A parameter Btu/h-F\n",
"A = 9.85;//A=hrt*At\n",
"//B parameter Btu/h-F\n",
"B = 13.7;//B=hrs*As\n",
"\n",
"//Using heat balance\n",
"disp('Correct temperature of gas in degree F')\n",
"//Correct temperature of gas in degree F\n",
"Tg = Ts+(B*(Ts-Tw)-A*(Tt-Ts))/((hrs*2)*As)"
   ]
   }
,
{
		   "cell_type": "markdown",
		   "metadata": {},
		   "source": [
			"## Example 9.1: Analysis_of_Tungsten_Filament.sce"
		   ]
		  },
  {
"cell_type": "code",
	   "execution_count": null,
	   "metadata": {
	    "collapsed": true
	   },
	   "outputs": [],
"source": [
"\n",
"// Display mode\n",
"mode(0);\n",
"\n",
"// Display warning for floating point exception\n",
"ieee(1);\n",
"\n",
"clc;\n",
"disp('Principles of Heat transfer, Seventh Edition, Frank Kreith, Raj M Manglik and Mark S Bohn, Chapter 9, Example 1')\n",
"//Temperature of the tungsten filament in Kelvin\n",
"T=1400;\n",
"\n",
"disp('a)Wavelength at which the monochromatic emissive power of the given tungsten filament is maximum in meters')\n",
"//Wavelength in m\n",
"lamda_max=2.898e-3/T\n",
"\n",
"disp('b)Monochromatic emissive power at calculated maximum wavelength in W/m^3')\n",
"//Emissive power in W/m3\n",
"Eb_max=12.87e-6*(T^5)\n",
"\n",
"//Given wavelength in meters\n",
"lamda=5e-6;\n",
"//Product of wavelength and temperature in m-K\n",
"lamda_T=lamda*T;\n",
"\n",
"disp('c)Monochromatic emissive power at given wavelength in W/m^3')\n",
"//Emissive power in W/m3\n",
"Eb_lamda=Eb_max*(2.898e-3/(lamda_T))^5*(((%e^4.965)-1)/((%e^(0.014388/lamda_T)-1)))\n",
"disp('Thus ,Monochromatic emissive power at 5e-6 m wavelength is 25.4% of the Monochromatic emissive power at maximum wavelength')"
   ]
   }
,
{
		   "cell_type": "markdown",
		   "metadata": {},
		   "source": [
			"## Example 9.2: Transmission_of_Solar_Radiation.sce"
		   ]
		  },
  {
"cell_type": "code",
	   "execution_count": null,
	   "metadata": {
	    "collapsed": true
	   },
	   "outputs": [],
"source": [
"\n",
"// Display mode\n",
"mode(0);\n",
"\n",
"// Display warning for floating point exception\n",
"ieee(1);\n",
"\n",
"clc;\n",
"disp('Principles of Heat transfer, Seventh Edition, Frank Kreith, Raj M Manglik and Mark S Bohn, Chapter 9, Example 2')\n",
"//Temperature at which sun is radiating as a blackbody in K\n",
"T=5800;\n",
"\n",
"//Lower limit of wavelength for which glass is transparent in microns\n",
"lamda_l=0.35;\n",
"//lower limit of product of wavelength and temperature in micron-K\n",
"lamda_l_T=lamda_l*T;\n",
"//Lower limit of wavelength for which glass is transparent in microns\n",
"lamda_u=2.7;\n",
"//lower limit of product of wavelength and temperature in micron-K\n",
"lamda_u_T=lamda_u*T;\n",
"\n",
"// For lamda_T= 2030, ratio of blackbody emission between zero and lamda_l to the total emission in terms of percentage\n",
"r_l=6.7;\n",
"// For lamda_T= 15660, ratio of blackbody emission between zero and lamda_u to the total emission in terms of percentage\n",
"r_u=97;\n",
"\n",
"//Total radiant energy incident upon the glass from the sun in the wavelength range between lamda_l and lamda_u\n",
"total_rad=r_u-r_l;\n",
"disp('Percentage of solar radiation transmitted through the glass in terms of percentage')\n",
"rad_trans=total_rad*0.92    //Since it is given that silica glass transmits 92% of the incident radiation"
   ]
   }
,
{
		   "cell_type": "markdown",
		   "metadata": {},
		   "source": [
			"## Example 9.3: Solid_Angle_Calculation.sce"
		   ]
		  },
  {
"cell_type": "code",
	   "execution_count": null,
	   "metadata": {
	    "collapsed": true
	   },
	   "outputs": [],
"source": [
"\n",
"// Display mode\n",
"mode(0);\n",
"\n",
"// Display warning for floating point exception\n",
"ieee(1);\n",
"\n",
"clc;\n",
"disp('Principles of Heat transfer, Seventh Edition, Frank Kreith, Raj M Manglik and Mark S Bohn, Chapter 9, Example 3')\n",
"//Area of the flat black surface in m^2\n",
"A_1=10e-4;\n",
"//Radiation emitted by the flat black surface in W/m^ sr\n",
"I_1=1000;\n",
"// Another surface having same area as A1 is placed relative to A1 such that length of radiation ray connecting dA_1 and dA_2 in meters\n",
"r=0.5;\n",
"//Area in m^2\n",
"A_2=10e-4;\n",
"// Since both areas are quite small, they can be approximated as differential surface areas and the solid angle can be calculated as\n",
"//d_omega21=dA_n2/r^2 where dA_n2 is the projection of A2 in the direction normal to the incident radiation for dA_1,thus\n",
"\n",
"//Angle between the normal n_2 ant the radiation ray connecting dA_1 and dA_2\n",
"theta_2=30;\n",
"\n",
"//Therefore solid angle in sr\n",
"d_omega21=(A_2*cosd(theta_2)/(r^2));\n",
"\n",
"disp('Irradiation of A_2 by A_1 in watt')\n",
"//Irradiation in W\n",
"q_r12= I_1*A_1*cosd(90-theta_2)*d_omega21"
   ]
   }
,
{
		   "cell_type": "markdown",
		   "metadata": {},
		   "source": [
			"## Example 9.4: Emissivity_of_Aluminium_Surface.sce"
		   ]
		  },
  {
"cell_type": "code",
	   "execution_count": null,
	   "metadata": {
	    "collapsed": true
	   },
	   "outputs": [],
"source": [
"\n",
"// Display mode\n",
"mode(0);\n",
"\n",
"// Display warning for floating point exception\n",
"ieee(1);\n",
"\n",
"clc;\n",
"disp('Principles of Heat transfer, Seventh Edition, Frank Kreith, Raj M Manglik and Mark S Bohn, Chapter 9, Example 4')\n",
"//Hemispherical emissivity of an aluminum paint at wavelengths below 3 microns\n",
"epsilon_lamda_1=0.4;\n",
"//Hemispherical emissivity of an aluminum paint at longer wavelengths\n",
"epsilon_lamda_2=0.8;\n",
"//At room temperature 27 degree celcius, product of lamda and T in micron-K\n",
"lamda_T_1=3*(27+273);\n",
"//At elevated temperature 527 degree celcius, product of lamda and T  in micron-K\n",
"lamda_T_2=3*(527+273);\n",
"//From Table 9.1\n",
"// For lamda_T_1, ratio of blackbody emission between zero and lamda_l to the total emission\n",
"r_1=0.00016;\n",
"// For lamda_T_2, ratio of blackbody emission between zero and lamda_u to the total emission\n",
"r_2=0.14;\n",
"disp('Thus, the emissivity at 27°C')\n",
"//Emissivity\n",
"epsilon=0.8\n",
"disp('emissivity at 527°C')\n",
"//Emissivity at higher temp.\n",
"epsilon=(r_2*epsilon_lamda_1)+(epsilon_lamda_2*0.86)\n",
"disp('The reason for the difference in the total emissivity is that at the higher temperature,the percentage of the total emissive power in the low-emittance region of the paint is appreciable, while at the lower temperature practically all the radiation is emittedat wavelengths above 3 microns')"
   ]
   }
,
{
		   "cell_type": "markdown",
		   "metadata": {},
		   "source": [
			"## Example 9.5: Absorptivity_of_Aluminium_Surface.sce"
		   ]
		  },
  {
"cell_type": "code",
	   "execution_count": null,
	   "metadata": {
	    "collapsed": true
	   },
	   "outputs": [],
"source": [
"\n",
"// Display mode\n",
"mode(0);\n",
"\n",
"// Display warning for floating point exception\n",
"ieee(1);\n",
"\n",
"clc;\n",
"disp('Principles of Heat transfer, Seventh Edition, Frank Kreith, Raj M Manglik and Mark S Bohn, Chapter 9, Example 5')\n",
"//Temperature of the sun in K\n",
"T=5800;\n",
"//For the case of Solar irradiation, value of the product of lamda and T in micron-K\n",
"lamda_T_1=3*T;// value of lamda is taken from Example 9.4\n",
"//From table 9.1\n",
"// For lamda_T_1, ratio of blackbody emission between zero and lamda_l to the total emission\n",
"r_1=0.98;\n",
"//This means that 98% of the solar radiation falls below 3 microns\n",
"//Hemispherical emissivity of an aluminum paint at wavelengths below 3 microns\n",
"epsilon_lamda_1=0.4;\n",
"//Hemispherical emissivity of an aluminum paint at longer wavelengths\n",
"epsilon_lamda_2=0.8;\n",
"disp('Effective absorptivity for first case')\n",
"//Effective absorptivity\n",
"alpha_1=(r_1*epsilon_lamda_1)+(epsilon_lamda_2*0.02)\n",
"//For the case second with source at 800 K, value of the product of lamda and T in micron-K\n",
"lamda_T_2=3*800;\n",
"// For lamda_T_2, ratio of blackbody emission between zero and lamda_l to the total emission\n",
"r_2=0.14;\n",
"disp('Effective absorptivity for second case')\n",
"//Effective absorptivity\n",
"alpha_2=(r_2*epsilon_lamda_1)+(epsilon_lamda_2*0.86)"
   ]
   }
,
{
		   "cell_type": "markdown",
		   "metadata": {},
		   "source": [
			"## Example 9.6: Analysis_of_Painted_Surface.sce"
		   ]
		  },
  {
"cell_type": "code",
	   "execution_count": null,
	   "metadata": {
	    "collapsed": true
	   },
	   "outputs": [],
"source": [
"\n",
"// Display mode\n",
"mode(0);\n",
"\n",
"// Display warning for floating point exception\n",
"ieee(1);\n",
"\n",
"clc;\n",
"disp('Principles of Heat transfer, Seventh Edition, Frank Kreith, Raj M Manglik and Mark S Bohn, Chapter 9, Example 6')\n",
"//Stefan–Boltzmann constant in W/m^2 K^4\n",
"sigma=5.67e-8;\n",
"//Temperature of the painted surface in K\n",
"T=1000;\n",
"//Temperature of the sun in K\n",
"T_s=5800;\n",
"//Given, below 2 microns the emissivity  of the surface is 0.3,so\n",
"lamda_1=2; //wavelength in microns\n",
"epsilon_1=0.3; //emissivity\n",
"\n",
"//Given, between 2 and 4 microns emmisivity is 0.9,so\n",
"lamda_2=4;//wavelength in microns\n",
"epsilon_2=0.9;//emissivity\n",
"\n",
"//Given, above 4 microns emmisivity is 0.5, so\n",
"epsilon_3=0.5;//emissivity\n",
"\n",
"//value of the product of lamda_1 and T in micron-K\n",
"lamda_1_T=2e-3*T;\n",
"\n",
"//From table 9.1\n",
"// For lamda_1_T, ratio of blackbody emission between zero and lamda_l to the total emission\n",
"r_1=0.0667; //1st ratio\n",
"\n",
"//value of the product of lamda_2 and T in micron-K\n",
"lamda_2_T=2e-3*T;\n",
"//From table 9.1\n",
"// For lamda_2_T, ratio of blackbody emission between zero and lamda_l to the total emission\n",
"r_2=0.4809; //2nd ratio\n",
"\n",
"disp('a)Effective emissivity over the entire spectrum')\n",
"//Effective emissivity\n",
"epsilon_bar=epsilon_1*r_1+epsilon_2*(r_2-r_1)+epsilon_3*(1-r_2)\n",
"\n",
"disp('b)Emissive power in W/m^2')\n",
"//Emissive power in W/m^2\n",
"E=epsilon_bar*sigma*T^4\n",
"\n",
"//value of the product of lamda_1 and T_s in micron-K\n",
"lamda_1_T_s=2e-3*T_s;\n",
"//From table 9.1\n",
"// For lamda_1_T_s, ratio of blackbody emission between zero and lamda_l to the total emission\n",
"r_1_s=0.941;\n",
"//value of the product of lamda_2 and T_s in micron-K\n",
"lamda_2_T_s=2e-3*T_s;\n",
"//From table 9.1\n",
"// For lamda_2_T_s, ratio of blackbody emission between zero and lamda_l to the total emission\n",
"r_2_s=0.99;\n",
"disp('c) Average solar absorptivity')\n",
"//Average solar absorptivity\n",
"alpha_s=epsilon_1*r_1_s+epsilon_2*(r_2_s-r_1_s)+epsilon_3*(1-r_2_s)"
   ]
   }
,
{
		   "cell_type": "markdown",
		   "metadata": {},
		   "source": [
			"## Example 9.7: Analysis_of_an_Oxidised_Surface.sce"
		   ]
		  },
  {
"cell_type": "code",
	   "execution_count": null,
	   "metadata": {
	    "collapsed": true
	   },
	   "outputs": [],
"source": [
"\n",
"// Display mode\n",
"mode(0);\n",
"\n",
"// Display warning for floating point exception\n",
"ieee(1);\n",
"\n",
"clc;\n",
"disp('Principles of Heat transfer, Seventh Edition, Frank Kreith, Raj M Manglik and Mark S Bohn, Chapter 9, Example 7')\n",
"//Temperature of the oxidised surface in Kelvin\n",
"T=1800;\n",
"//Area of the oxidised surface in m^2\n",
"A=5e-3;\n",
"//Stefan–Boltzmann constant in W/m^2 K^4\n",
"sigma=5.67e-8;\n",
"disp('a)Emissivity perpendicular to the surface')\n",
"//Emissivity\n",
"epsilon_zero=0.70*cosd(0)\n",
"disp('b)Hemispherical emissivity')\n",
"//Hemispherical emissivity\n",
"epsilon_bar=((-1.4)/3)*((cosd(90))^3-(cosd(0))^3)\n",
"disp('c)Emissive Power in Watt')\n",
"//Emissive Power in W\n",
"E=epsilon_bar*A*sigma*T^4"
   ]
   }
,
{
		   "cell_type": "markdown",
		   "metadata": {},
		   "source": [
			"## Example 9.8: Theoretical_Problem.sce"
		   ]
		  },
  {
"cell_type": "code",
	   "execution_count": null,
	   "metadata": {
	    "collapsed": true
	   },
	   "outputs": [],
"source": [
"// Display mode\n",
"mode(0);\n",
"\n",
"// Display warning for floating point exception\n",
"ieee(1);\n",
"\n",
"clc;\n",
"disp('Principles of Heat transfer, Seventh Edition, Frank Kreith, Raj M Manglik and Mark S Bohn, Chapter 9, Example 8')\n",
"\n",
"// Theoretical Proof\n",
"disp('The given example is theoretical and does not involve any numerical computation')\n",
""
   ]
   }
,
{
		   "cell_type": "markdown",
		   "metadata": {},
		   "source": [
			"## Example 9.9: Shape_Factor_in_Window_Arrangement.sce"
		   ]
		  },
  {
"cell_type": "code",
	   "execution_count": null,
	   "metadata": {
	    "collapsed": true
	   },
	   "outputs": [],
"source": [
"\n",
"// Display mode\n",
"mode(0);\n",
"\n",
"// Display warning for floating point exception\n",
"ieee(1);\n",
"\n",
"clc;\n",
"disp('Principles of Heat transfer, Seventh Edition, Frank Kreith, Raj M Manglik and Mark S Bohn, Chapter 9, Example 9')\n",
"//Window arrangement consists of a long opening with dimensions\n",
"//Height in meters\n",
"h=1;\n",
"//Length in meters\n",
"l=5;\n",
"//width of table in meters\n",
"w=2;\n",
"//Assuming that window and table are sufficiently long and applying crossed string method, we get\n",
"//Distance ab in m\n",
"ab=0;\n",
"//Distance cb in m\n",
"cb=w;\n",
"//Distance ad in m\n",
"ad=h;\n",
"//Distance cd in m\n",
"cd=sqrt(l);\n",
"\n",
"disp('Shape factor between the window and the table')\n",
"//Shape factor between the window and the table\n",
"F_12=0.5*(ad+cb-cd)"
   ]
   }
],
"metadata": {
		  "kernelspec": {
		   "display_name": "Scilab",
		   "language": "scilab",
		   "name": "scilab"
		  },
		  "language_info": {
		   "file_extension": ".sce",
		   "help_links": [
			{
			 "text": "MetaKernel Magics",
			 "url": "https://github.com/calysto/metakernel/blob/master/metakernel/magics/README.md"
			}
		   ],
		   "mimetype": "text/x-octave",
		   "name": "scilab",
		   "version": "0.7.1"
		  }
		 },
		 "nbformat": 4,
		 "nbformat_minor": 0
}
