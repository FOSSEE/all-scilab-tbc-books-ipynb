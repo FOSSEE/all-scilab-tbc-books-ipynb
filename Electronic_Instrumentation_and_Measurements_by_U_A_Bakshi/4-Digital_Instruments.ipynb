{
"cells": [
 {
		   "cell_type": "markdown",
	   "metadata": {},
	   "source": [
       "# Chapter 4: Digital Instruments"
	   ]
	},
{
		   "cell_type": "markdown",
		   "metadata": {},
		   "source": [
			"## Example 4.1: Resolution_and_digital_output.sce"
		   ]
		  },
  {
"cell_type": "code",
	   "execution_count": null,
	   "metadata": {
	    "collapsed": true
	   },
	   "outputs": [],
"source": [
"// Exa 4.1\n",
"format('v',7);clc;clear;close;\n",
"// Given data\n",
"Vi = 5.1;//input voltage in V\n",
"n = 8;// number of bit\n",
"Resolution = 2^n;\n",
"Resolution = Vi/(Resolution-1);// in V/LSB\n",
"Resolution= Resolution*10^3;// in mV/LSB\n",
"disp(Resolution,'The Resolution in mV/LSB is');\n",
"Resolution= Resolution*10^-3;// in V/LSB\n",
"Vi = 1.28;// in V\n",
"D = Vi/Resolution;//digital output in LSBs\n",
"DigitalOutput= dec2bin(round(D));// digital output in binary\n",
"disp(DigitalOutput,'The digital output in binary is :')"
   ]
   }
,
{
		   "cell_type": "markdown",
		   "metadata": {},
		   "source": [
			"## Example 4.2: Quantizing_error.sce"
		   ]
		  },
  {
"cell_type": "code",
	   "execution_count": null,
	   "metadata": {
	    "collapsed": true
	   },
	   "outputs": [],
"source": [
"// Exa 4.2\n",
"format('v',7);clc;clear;close;\n",
"// Given data\n",
"n = 12;//number of bit\n",
"Vi = 4.095;//input voltage in V\n",
"Q_E = Vi/(((2^n)-1)*2);//quantizing error in V\n",
"Q_E = Q_E * 10^3;// in mV\n",
"disp(Q_E,'The quantizing error in mV is');"
   ]
   }
,
{
		   "cell_type": "markdown",
		   "metadata": {},
		   "source": [
			"## Example 4.3: The_value_of_t2.sce"
		   ]
		  },
  {
"cell_type": "code",
	   "execution_count": null,
	   "metadata": {
	    "collapsed": true
	   },
	   "outputs": [],
"source": [
"// Exa 4.3\n",
"format('v',7);clc;clear;close;\n",
"// Given data\n",
"// When Vi=100 mV\n",
"Vi = 100;// in mV\n",
"V_R = 100;// in mV\n",
"t1 = 83.33;// in ms\n",
"t2 = (Vi/V_R)*t1;// in ms\n",
"disp(t2,'When Vi=100 mV, the value of t2 in ms is');\n",
"// When Vi=200 mV\n",
"Vi = 200;// in mV\n",
"t2 = (Vi/V_R)*t1;// in ms\n",
"disp(t2,'When Vi=200 mV, the value of t2 in ms is');"
   ]
   }
,
{
		   "cell_type": "markdown",
		   "metadata": {},
		   "source": [
			"## Example 4.4: Digital_output.sce"
		   ]
		  },
  {
"cell_type": "code",
	   "execution_count": null,
	   "metadata": {
	    "collapsed": true
	   },
	   "outputs": [],
"source": [
"// Exa 4.4\n",
"format('v',7);clc;clear;close;\n",
"// Given data\n",
"t1 = 83.33;// in ms\n",
"V_R = 100;// in mV\n",
"Vi = 100;// in mV\n",
"fc = 12;//clock frequency in kHz\n",
"fc = fc* 10^3;// in Hz\n",
"Digitaloutput = round(fc*t1*(Vi/V_R)*10^-3);//digital output in counts \n",
"disp(Digitaloutput,'The Digital output in counts is');"
   ]
   }
,
{
		   "cell_type": "markdown",
		   "metadata": {},
		   "source": [
			"## Example 4.5: Conversion_time.sce"
		   ]
		  },
  {
"cell_type": "code",
	   "execution_count": null,
	   "metadata": {
	    "collapsed": true
	   },
	   "outputs": [],
"source": [
"// Exa 4.5\n",
"format('v',7);clc;clear;close;\n",
"// Given data\n",
"f = 1;// in MHz\n",
"f = f * 10^6;// in Hz\n",
"T = 1/f;// in sec\n",
"T = T * 10^6;// in µsec\n",
"n = 8;\n",
"// Conversion time \n",
"T_C = T*(n+1);// in µsec\n",
"disp(T_C,'The conversion time in µsec is');"
   ]
   }
,
{
		   "cell_type": "markdown",
		   "metadata": {},
		   "source": [
			"## Example 4.6: Maximum_frequency.sce"
		   ]
		  },
  {
"cell_type": "code",
	   "execution_count": null,
	   "metadata": {
	    "collapsed": true
	   },
	   "outputs": [],
"source": [
"// Exa 4.6\n",
"format('v',7);clc;clear;close;\n",
"// Given data\n",
"n = 8;// number of bit\n",
"T_C = 9;//conversion time in µs\n",
"T_C = T_C * 10^-6;// in s\n",
"// The maximum frequency \n",
"f_max = 1/(2*%pi*T_C*(2^n));// in Hz\n",
"disp(f_max,'The maximum frequency in Hz is');"
   ]
   }
,
{
		   "cell_type": "markdown",
		   "metadata": {},
		   "source": [
			"## Example 4.7: Resolutio.sce"
		   ]
		  },
  {
"cell_type": "code",
	   "execution_count": null,
	   "metadata": {
	    "collapsed": true
	   },
	   "outputs": [],
"source": [
"// Exa 4.7\n",
"format('v',7);clc;clear;close;\n",
"// Given data\n",
"n = 3;// number of bit\n",
"R = 1/(10^n);\n",
"V = 1;// in V\n",
"// For 1V range,\n",
"Resolution = V*R;// in V\n",
"disp(Resolution,'For 1 V range, the resolution in V is');\n",
"// For 50 V range,\n",
"V = 50;// in V\n",
"Resolution = V*R;// in V\n",
"disp(Resolution,'For 50 V range, the resolution in V is');"
   ]
   }
,
{
		   "cell_type": "markdown",
		   "metadata": {},
		   "source": [
			"## Example 4.8: Resolutio.sce"
		   ]
		  },
  {
"cell_type": "code",
	   "execution_count": null,
	   "metadata": {
	    "collapsed": true
	   },
	   "outputs": [],
"source": [
"// Exa 4.8\n",
"clc;clear;close;\n",
"// Given data\n",
"format('v',8)\n",
"n = 4;// number of bit\n",
"R = 1/(10^n);\n",
"disp(R,'Part (i) : The resolution is');\n",
"// There are 5 digit places in 4 1/2 digits, so\n",
"disp('Part (ii) : 11.87 would be displayed as 11.870')\n",
"Reading= 0.5573;\n",
"format('v',7)\n",
"disp(Reading,'Part (iii) : On 1 V range, 0.5573 will be displayed as : ')\n",
"format('v',6)\n",
"disp(Reading,'On 10 V range, 0.5573 will be displayed as : ')\n",
"\n",
""
   ]
   }
],
"metadata": {
		  "kernelspec": {
		   "display_name": "Scilab",
		   "language": "scilab",
		   "name": "scilab"
		  },
		  "language_info": {
		   "file_extension": ".sce",
		   "help_links": [
			{
			 "text": "MetaKernel Magics",
			 "url": "https://github.com/calysto/metakernel/blob/master/metakernel/magics/README.md"
			}
		   ],
		   "mimetype": "text/x-octave",
		   "name": "scilab",
		   "version": "0.7.1"
		  }
		 },
		 "nbformat": 4,
		 "nbformat_minor": 0
}
