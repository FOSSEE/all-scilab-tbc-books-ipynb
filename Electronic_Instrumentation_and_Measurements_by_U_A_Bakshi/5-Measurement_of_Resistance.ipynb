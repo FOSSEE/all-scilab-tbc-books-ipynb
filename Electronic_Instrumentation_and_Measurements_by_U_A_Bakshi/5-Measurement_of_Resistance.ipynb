{
"cells": [
 {
		   "cell_type": "markdown",
	   "metadata": {},
	   "source": [
       "# Chapter 5: Measurement of Resistance"
	   ]
	},
{
		   "cell_type": "markdown",
		   "metadata": {},
		   "source": [
			"## Example 5.10: Required_supply_voltage.sce"
		   ]
		  },
  {
"cell_type": "code",
	   "execution_count": null,
	   "metadata": {
	    "collapsed": true
	   },
	   "outputs": [],
"source": [
"// Exa 5.10\n",
"format('v',7);clc;clear;close;\n",
"// Given data\n",
"R1 = 120;// in ohm\n",
"R2 = 120;// in ohm\n",
"R3 = 120;// in ohm\n",
"R_V = 121;// in ohm\n",
"E_TH = 10;// in mV\n",
"E_TH = E_TH * 10^-3;// in V\n",
"// E_TH = E * ( (R3/(R3+R1)) - (R_V/(R_V+R2)) );\n",
"E = E_TH/((R3/(R3+R1)) - (R_V/(R_V+R2)));//required supply voltage  in V\n",
"disp(E,'The required supply voltage in V is');\n",
"R = 120;// in ohm\n",
"del_r = R_V-R;// in ohm\n",
"// E_TH = (E*del_r)/(4*R);\n",
"E = E_TH*4*R;//The approximation of slightly unbalanced bridge  in V\n",
"disp(E,'The approximation of slightly unbalanced bridge in V is');"
   ]
   }
,
{
		   "cell_type": "markdown",
		   "metadata": {},
		   "source": [
			"## Example 5.11: Maximum_unknown_resistance.sce"
		   ]
		  },
  {
"cell_type": "code",
	   "execution_count": null,
	   "metadata": {
	    "collapsed": true
	   },
	   "outputs": [],
"source": [
"// Exa 5.11\n",
"format('v',7);clc;clear;close;\n",
"// Given data\n",
"R1 = 1000;// in ohm\n",
"R2 = 100;// in ohm\n",
"R3 = 4;// in k ohm\n",
"R3 = R3*10^3;// in ohm\n",
"//At bridge balance, R1*R3 = R2*R4;\n",
"R4 = (R1*R3)/R2;// in ohm\n",
"R4= R4*10^-3;//maximum unknown resistance in k ohm\n",
"disp(R4,'The maximum unknown resistance in kΩ is');\n",
"R4= R4*10^3;// in ohm\n",
"R_TH = ((R1*R2)/(R1+R2)) + ((R3*R4)/(R3+R4));// in ohm\n",
"Si = 70;// in mm/µA\n",
"Si = Si * 10^6;// in mm/A\n",
"theta = 3;// in mm\n",
"E = 10;// in V\n",
"Rg = 80;// in ohm\n",
"// theta = (Si*E*R3*del_R)/((R_TH+Rg)*((R3+R4)^2));\n",
"del_R = (theta*((R_TH+Rg)*((R3+R4)^2)))/(Si*E*R3);// in ohm\n",
"disp(del_R,'The value of del_R in Ω is : ')\n",
"disp('This much unbalance is necessary to cause the deflection of 3 mm')"
   ]
   }
,
{
		   "cell_type": "markdown",
		   "metadata": {},
		   "source": [
			"## Example 5.12: Required_series_resistance.sce"
		   ]
		  },
  {
"cell_type": "code",
	   "execution_count": null,
	   "metadata": {
	    "collapsed": true
	   },
	   "outputs": [],
"source": [
"// Exa 5.12\n",
"format('v',7);clc;clear;close;\n",
"// Given data\n",
"P = 0.4;//power dissipation in each arm in W\n",
"Rarm = 150;// in ohm\n",
"//P = (I^2)*Rarm;\n",
"I = sqrt(P/Rarm);// in A\n",
"//Apply KVL to the loop ABCEFA,  (-I*Rarm) - (I*Rarm) - (2*I) + 25 - (2*I*R) = 0;\n",
"R = ((-I*Rarm) - (I*Rarm) - (2*I) + 25)/(2*I);//required series resistance in ohm\n",
"disp(R,'The required series resistance in Ω is');"
   ]
   }
,
{
		   "cell_type": "markdown",
		   "metadata": {},
		   "source": [
			"## Example 5.13: Unknown_resistance.sce"
		   ]
		  },
  {
"cell_type": "code",
	   "execution_count": null,
	   "metadata": {
	    "collapsed": true
	   },
	   "outputs": [],
"source": [
"// Exa 5.13\n",
"format('v',7);clc;clear;close;\n",
"// Given data\n",
"R1 = 100;// in ohm\n",
"R2 = 1000;// in ohm\n",
"R3 = 0.00377;//standard resistance in ohm\n",
"a = 99.92;// in ohm\n",
"b = 1000.6;// in ohm\n",
"Ry = 0.1;//resistance of link in ohm\n",
"Rx =R1*R3/R2+b*Ry/(Ry+a+b)*(R1/R2-a/b);//unknown resistance in ohm\n",
"Rx = Rx * 10^3;// in mohm\n",
"disp(Rx,'The value of unknown resistance in mΩ is');\n",
"\n",
"// Note: The answer will be in mΩ not MΩ."
   ]
   }
,
{
		   "cell_type": "markdown",
		   "metadata": {},
		   "source": [
			"## Example 5.14: Value_of_R.sce"
		   ]
		  },
  {
"cell_type": "code",
	   "execution_count": null,
	   "metadata": {
	    "collapsed": true
	   },
	   "outputs": [],
"source": [
"// Exa 5.14\n",
"format('v',7);clc;clear;close;\n",
"// Given data\n",
"P = 10;// in ohm\n",
"Q = 10;// in ohm\n",
"S = 10;// in ohm\n",
"// For first balance\n",
"p = 30000;// in ohm\n",
"q = 25000;// in ohm\n",
"R_AB = (P*p)/(P+p);// in ohm\n",
"R_BC = (Q*q)/(Q+q);// in ohm\n",
"// R_AB*R = R_BC*S;\n",
"R = (R_BC/R_AB)*S;// in ohm\n",
"disp(R,'The value of R for first balance in Ω is');\n",
"// For second balance\n",
"p = 15000;// in ohm\n",
"q = 40000;// in ohm\n",
"R_AB = (P*p)/(P+p);// in ohm\n",
"R_BC = (Q*q)/(Q+q);// in ohm\n",
"// R_AB*S = R_BC*R;\n",
"R = (R_AB/R_BC)*S;// in ohm\n",
"disp(R,'The value of R for second balance in Ω is');"
   ]
   }
,
{
		   "cell_type": "markdown",
		   "metadata": {},
		   "source": [
			"## Example 5.15: Unknown_resistance.sce"
		   ]
		  },
  {
"cell_type": "code",
	   "execution_count": null,
	   "metadata": {
	    "collapsed": true
	   },
	   "outputs": [],
"source": [
"// Exa 5.15\n",
"format('v',7);clc;clear;close;\n",
"// Given data\n",
"P = 1000;// in ohm\n",
"Q = 1000;// in ohm\n",
"p = 1000;// in ohm\n",
"q = 1000;// in ohm\n",
"S = 0.001;// in ohm\n",
"R = (P/Q)*S;// in ohm\n",
"disp(R,'The value of unknown resistance in Ω is');\n",
"Rb = 5;// in ohm\n",
"V = 100;// in V\n",
"I = V/(Rb+R+S);// in A\n",
"disp(I,'The current through the unknown resistance in A is');\n",
"R = R*0.1;// in ohm\n",
"// Vac = ( (R+r+S)/(Rb+R+r+S) )*V;\n",
"Vac = ((R+S)/(Rb+R+S))*V;// in V .. correction\n",
"Vab = (P/(P+Q))*Vac;// in V\n",
"Vab = Vab * 10^3;// in mV\n",
"// Vamd = (R + (Pr/(p+q+r)))/(R+S+(((p+q)*r)/(p+q+r)));\n",
"Vamd = (R/(R+S))*Vab*10^-3;// in V\n",
"Vamd = Vamd * 10^3;// in mV\n",
"Vout = Vab - Vamd;//output voltage in mV\n",
"Vout = Vout*10^-3;// in V\n",
"disp(Vout,'The output voltage in V is');"
   ]
   }
,
{
		   "cell_type": "markdown",
		   "metadata": {},
		   "source": [
			"## Example 5.16: Smallest_change_in_resistance.sce"
		   ]
		  },
  {
"cell_type": "code",
	   "execution_count": null,
	   "metadata": {
	    "collapsed": true
	   },
	   "outputs": [],
"source": [
"// Exa 5.16\n",
"format('v',7);clc;clear;close;\n",
"// Given data\n",
"R = 1000;// in ohm\n",
"E = 20;// in V\n",
"Ig = 0.1;// in nA\n",
"Ig = Ig * 10^-9;// in A\n",
"Req = R;// in ohm\n",
"//For small change in resistance, Thevenin's voltage,  V_TH = (E*del_r)/(4*R);\n",
"// Ig = V_TH/Req;\n",
"del_r =  (Ig*4*R*R)/E;//smallest change in resistance in ohm\n",
"del_r= del_r*10^6;// in µΩ\n",
"disp(del_r,'The smallest change in resistance in µΩ is');"
   ]
   }
,
{
		   "cell_type": "markdown",
		   "metadata": {},
		   "source": [
			"## Example 5.1: Value_of_R1_and_R2.sce"
		   ]
		  },
  {
"cell_type": "code",
	   "execution_count": null,
	   "metadata": {
	    "collapsed": true
	   },
	   "outputs": [],
"source": [
"// Exa 5.1\n",
"format('v',7);clc;clear;close;\n",
"// Given data\n",
"Rh = 1000;// in ohm\n",
"Rm = 50;// in ohm\n",
"V = 3;// in V\n",
"Ifsd = 1;// in mA\n",
"Ifsd = Ifsd * 10^-3;// in A\n",
"R1 = Rh - ( (Ifsd*Rm*Rh)/V );// in ohm\n",
"disp(R1,'The value of R1 in Ω is');\n",
"R2 = (Ifsd*Rm*Rh)/(V-(Ifsd*Rh));// in ohm\n",
"disp(R2,'The value of R2 in Ω is');\n",
"// Due to 5 % drop in battery voltage, the voltage becomes\n",
"V = V - (0.05*V);// in V\n",
"R2 = (Ifsd*Rm*Rh)/(V-(Ifsd*Rh));// in ohm\n",
"disp(R2,'Maximum value of R2 in Ω is');"
   ]
   }
,
{
		   "cell_type": "markdown",
		   "metadata": {},
		   "source": [
			"## Example 5.2: Unknown_resistance.sce"
		   ]
		  },
  {
"cell_type": "code",
	   "execution_count": null,
	   "metadata": {
	    "collapsed": true
	   },
	   "outputs": [],
"source": [
"// Exa 5.2\n",
"format('v',7);clc;clear;close;\n",
"// Given data\n",
"R1 = 10;//resistance in k ohm\n",
"R2 = 2;//resistance in k ohm\n",
"R3 = 5;//resistance in k ohm\n",
"Rx = (R1/R2)*R3;//value of unknown resistance in  k ohm\n",
"disp(Rx,'The value of unknown resistance in kΩ is');"
   ]
   }
,
{
		   "cell_type": "markdown",
		   "metadata": {},
		   "source": [
			"## Example 5.3: Current_through_galvanometer.sce"
		   ]
		  },
  {
"cell_type": "code",
	   "execution_count": null,
	   "metadata": {
	    "collapsed": true
	   },
	   "outputs": [],
"source": [
"// Exa 5.3\n",
"format('v',7);clc;clear;close;\n",
"// Given data\n",
"// Values of resistances of the circuit\n",
"R1 = 7;// in k ohm\n",
"R2 = 2;// in k ohm\n",
"R3 = 4;// in k ohm\n",
"R4 = 20;// in k ohm\n",
"Rg = 300;// in ohm\n",
"E = 8;// in V\n",
"//Use Thevenin's equivalent for Ig,  V_TH=V_BD=V_AD-V_AB=( ((E/(R3+R4))*R4) - ((E/(R1+R2))*R1) );\n",
"V_TH = ( ((E/(R3+R4))*R4) - ((E/(R1+R2))*R1) );// in V\n",
"Req = ((R1*R2)/(R1+R2)) + ((R3*R4)/(R3+R4));// in k ohm\n",
"// Current through galvanometer \n",
"Ig = V_TH/((Req*10^3)+Rg);// in A\n",
"Ig = Ig * 10^6;// in µA\n",
"disp(Ig,'The current through galvanometer in µA is');"
   ]
   }
,
{
		   "cell_type": "markdown",
		   "metadata": {},
		   "source": [
			"## Example 5.4: Unknown_resistance.sce"
		   ]
		  },
  {
"cell_type": "code",
	   "execution_count": null,
	   "metadata": {
	    "collapsed": true
	   },
	   "outputs": [],
"source": [
"// Exa 5.4\n",
"format('v',7);clc;clear;close;\n",
"// Given data\n",
"R3 = 100.03;//standard resistance in µohm\n",
"R3 = R3 * 10^-6;// in ohm\n",
"R2 = 100.24;//outer ratio arms resistance in ohm\n",
"R1 = 200;//outer ratio arms resistance in ohm\n",
"b = 100.31;// in ohm\n",
"a = 200;// in ohm\n",
"Ry = 700;// in µohm\n",
"Ry = Ry * 10^-6;// in ohm\n",
"Rx = ((R1*R3)/R2) + ( ((b*Ry)/(Ry+a+b)) * ((R1/R2) - (a/b)) );// in ohm\n",
"Rx = Rx * 10^6;//unknown resistance in µohm\n",
"disp(Rx,'The unknown resistance in µΩ is');"
   ]
   }
,
{
		   "cell_type": "markdown",
		   "metadata": {},
		   "source": [
			"## Example 5.5: Deflection_of_galvanometer.sce"
		   ]
		  },
  {
"cell_type": "code",
	   "execution_count": null,
	   "metadata": {
	    "collapsed": true
	   },
	   "outputs": [],
"source": [
"// Exa 5.5\n",
"format('v',7);clc;clear;close;\n",
"// Given data'\n",
"R1 = 100;// in ohm\n",
"R2 = 1000;// in ohm\n",
"R3 = 200;// in ohm\n",
"R4 = 2000;// in ohm\n",
"Rg = 200;// in ohm\n",
"S = 12;// in mm/µA\n",
"R = 5;// in ohm\n",
"R4 = R4 + R;// in ohm\n",
"E = 10;// in V\n",
"// By Thevenin's equivalent\n",
"V_TH = E*( (R3/(R1+R3)) - (R4/(R2+R4)) );// in V\n",
"Req = ((R1*R3)/(R1+R3)) + ((R2*R4)/(R2+R4));// in ohm\n",
"Ig = abs(V_TH)/(Req+Rg);// in A\n",
"Ig = Ig * 10^6;// in µA\n",
"// S =D/I;\n",
"D = S*Ig;//deflection of the galvanomter  in mm\n",
"disp(D,'The deflection of the galvanomter in mm is');\n",
"\n",
"// Note:In the book the calculated value of V_TH is not correct. Correct value of V_TH is -5.546312 mV not -5.213 mV, So there is some difference between coding and the answer of the book."
   ]
   }
,
{
		   "cell_type": "markdown",
		   "metadata": {},
		   "source": [
			"## Example 5.6: Deflection_of_galvanometer.sce"
		   ]
		  },
  {
"cell_type": "code",
	   "execution_count": null,
	   "metadata": {
	    "collapsed": true
	   },
	   "outputs": [],
"source": [
"// Exa 5.6\n",
"format('v',7);clc;clear;close;\n",
"// Given data\n",
"R1 = 1000;// in ohm\n",
"R2 = 1000;// in ohm\n",
"R3 = 121;// in ohm\n",
"R4 = 119;// in ohm\n",
"Rg = 200;// in ohm\n",
"E = 5;// in V\n",
"S = 1;// in mm/µA\n",
"// Calculation of Thevenin's equivalent due to change in R3 and R4\n",
"V_TH = E*( (R3/(R3+R1)) - (R4/(R4+R2)) );// in V\n",
"Req = ((R1*R3)/(R1+R3)) + ((R2*R4)/(R2+R4));// in ohm\n",
"Ig = V_TH/(Req+Rg);// in A \n",
"Ig = Ig * 10^6;// in µA\n",
"// S = D/I;\n",
"D = S*Ig;//deflection of the galvanometer  in mm\n",
"disp(D,'The deflection of the galvanometer in mm is');"
   ]
   }
,
{
		   "cell_type": "markdown",
		   "metadata": {},
		   "source": [
			"## Example 5.7: Current_through_galvanometer.sce"
		   ]
		  },
  {
"cell_type": "code",
	   "execution_count": null,
	   "metadata": {
	    "collapsed": true
	   },
	   "outputs": [],
"source": [
"// Exa 5.7\n",
"format('v',7);clc;clear;close;\n",
"// Given data\n",
"R = 500;// in ohm\n",
"del_r = 20;// in ohm\n",
"E = 10;// in V\n",
"Rg = 125;// in ohm\n",
"V_TH = (E*del_r)/(4*R);// in V\n",
"Req = R;// in ohm\n",
"// The current through the galvanometer \n",
"Ig = V_TH/(Req+Rg);// in A\n",
"Ig = Ig * 10^6;// in µA\n",
"disp(Ig,'The current through the galvanometer in µA is');"
   ]
   }
,
{
		   "cell_type": "markdown",
		   "metadata": {},
		   "source": [
			"## Example 5.8: Unknown_resistance.sce"
		   ]
		  },
  {
"cell_type": "code",
	   "execution_count": null,
	   "metadata": {
	    "collapsed": true
	   },
	   "outputs": [],
"source": [
"// Exa 5.8\n",
"format('v',7);clc;clear;close;\n",
"// Given data\n",
"// Rx/R2 = Rb/Ra = 1/1200;\n",
"R1 = 10;// in ohm\n",
"// Rx/R2= Rb/Ra= 1/1200\n",
"R2 = R1/0.5;// in ohm\n",
"Rx = R2/1200;//unknown resistance in ohm\n",
"disp(Rx,'The value of unknown resistance in Ω is');"
   ]
   }
,
{
		   "cell_type": "markdown",
		   "metadata": {},
		   "source": [
			"## Example 5.9: Temperature.sce"
		   ]
		  },
  {
"cell_type": "code",
	   "execution_count": null,
	   "metadata": {
	    "collapsed": true
	   },
	   "outputs": [],
"source": [
"// Exa 5.9\n",
"format('v',7);clc;clear;close;\n",
"// Given data\n",
"//format()\n",
"R1 = 10;// in k ohm\n",
"R2 = 10;// in k ohm\n",
"R3 = 10;// in k ohm\n",
"E = 10;// in V\n",
"// R2/R_V = R1/R3;\n",
"R_V = (R2*R3)/R1;// in k ohm\n",
"T=80;// in °C\n",
"Rv=9;// in kΩ\n",
"// Evaluation of error voltage by Thevenin's equivalent voltage\n",
"e = E*( (R3/(R1+R3)) - (Rv/(R2+Rv)) );// in V\n",
"// Evaluation of error voltage by approximation of slightly unbalanced bridge\n",
"del_r = R_V-Rv;// in k ohm\n",
"errorVoltage = (E*del_r)/(4*R1);// in V\n",
"disp(T,'The temperature at which the bridge is balanced in °C is : ');\n",
"disp(e,'The error voltage at 60 °C by Thevenin''s voltage in volts is : ')\n",
"disp(errorVoltage,'The error voltage at 60 °C by approximation of slightly unbalanced bridge in Volts is ');"
   ]
   }
],
"metadata": {
		  "kernelspec": {
		   "display_name": "Scilab",
		   "language": "scilab",
		   "name": "scilab"
		  },
		  "language_info": {
		   "file_extension": ".sce",
		   "help_links": [
			{
			 "text": "MetaKernel Magics",
			 "url": "https://github.com/calysto/metakernel/blob/master/metakernel/magics/README.md"
			}
		   ],
		   "mimetype": "text/x-octave",
		   "name": "scilab",
		   "version": "0.7.1"
		  }
		 },
		 "nbformat": 4,
		 "nbformat_minor": 0
}
