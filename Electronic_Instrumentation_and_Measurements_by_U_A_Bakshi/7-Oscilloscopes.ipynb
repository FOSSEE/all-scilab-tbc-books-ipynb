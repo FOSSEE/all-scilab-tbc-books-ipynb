{
"cells": [
 {
		   "cell_type": "markdown",
	   "metadata": {},
	   "source": [
       "# Chapter 7: Oscilloscopes"
	   ]
	},
{
		   "cell_type": "markdown",
		   "metadata": {},
		   "source": [
			"## Example 7.10: Frequency_of_signal.sce"
		   ]
		  },
  {
"cell_type": "code",
	   "execution_count": null,
	   "metadata": {
	    "collapsed": true
	   },
	   "outputs": [],
"source": [
"// Exa 7.10\n",
"format('v',7);clc;clear;close;\n",
"// Given data\n",
"Vd = 4;// vertical division\n",
"Va = 0.5;//Vertical attenuation in V/Div\n",
"App = Vd*Va;//peak to peak amplitude in V\n",
"disp(App ,'The peak to peak amplitude of the signal in V is');\n",
"TimebyDiv = 2;//time per division in µs/Div\n",
"Hd = 4;// horizontal division\n",
"Time = Hd*TimebyDiv;// in µs\n",
"f = 1/(Time*10^-6);// frequency of signal in Hz\n",
"f = f * 10^-3;// in kHz\n",
"disp(f,'The frequency of signal in kHz is');"
   ]
   }
,
{
		   "cell_type": "markdown",
		   "metadata": {},
		   "source": [
			"## Example 7.11: Parameter_of_a_high_impedance_probe.sce"
		   ]
		  },
  {
"cell_type": "code",
	   "execution_count": null,
	   "metadata": {
	    "collapsed": true
	   },
	   "outputs": [],
"source": [
"// exa 7.11\n",
"format('v',5);clc;clear;close;\n",
"// Given data\n",
"Rin = 2;//resistance in Mohm\n",
"Cin = 50;//capacitance in pF\n",
"Cin = Cin * 10^-12;// in F\n",
"// (R1+Rin)/Rin = 10;\n",
"R1 = 9*Rin;//resistance in Mohm\n",
"disp(R1,'The value of R1 in MΩ is');\n",
"R1 = R1*10^6;// in ohm\n",
"Rin = Rin * 10^6;// in ohm\n",
"// While balance equation with compensating capacitor\n",
"// R1*C1 = Rin*(C2+Cin)\n",
"C1 = (Rin*Cin)/R1;// in F(neglecting C2)\n",
"C1 = C1 * 10^12;// in pF\n",
"disp(C1,'The value of C1 in pF is');"
   ]
   }
,
{
		   "cell_type": "markdown",
		   "metadata": {},
		   "source": [
			"## Example 7.1: Rise_time_of_the_signal.sce"
		   ]
		  },
  {
"cell_type": "code",
	   "execution_count": null,
	   "metadata": {
	    "collapsed": true
	   },
	   "outputs": [],
"source": [
"// Exa 7.1\n",
"format('v',7);clc;clear;close;\n",
"// Given data\n",
"BW = 25;//bandwidth in MHz\n",
"Trd = 20;//rise time in ns\n",
"Trd = Trd * 10^-9;// in s\n",
"// BW = 0.35/Tro;\n",
"Tro = 0.35/(BW*10^6);// in s\n",
"// Trd = sqrt( (Trs^2) + (Tro^2) );\n",
"Trs = sqrt( (Trd^2)-(Tro^2) );// rise time of signal in sec\n",
"Trs = Trs * 10^9;// in ns\n",
"disp(Trs,'The rise time of signal in ns is');"
   ]
   }
,
{
		   "cell_type": "markdown",
		   "metadata": {},
		   "source": [
			"## Example 7.2: Bandwidth_of_CRO.sce"
		   ]
		  },
  {
"cell_type": "code",
	   "execution_count": null,
	   "metadata": {
	    "collapsed": true
	   },
	   "outputs": [],
"source": [
"// Exa 7.2\n",
"format('v',7);clc;clear;close;\n",
"// Given data\n",
"Trs = 17;//rise time in µs\n",
"Trs = Trs * 10^-6;// in s\n",
"Trd = 21;// in µs\n",
"Trd = Trd * 10^-6;// in s\n",
"// Trd = sqrt( (Trs^2) + (Tro^2) );\n",
"Tro = sqrt( (Trd^2)- (Trs^2) );// in sec\n",
"BW = 0.35/Tro;//band width  in Hz\n",
"BW = BW * 10^-3;// in kHz\n",
"disp(BW,'The band width in kHz is');"
   ]
   }
,
{
		   "cell_type": "markdown",
		   "metadata": {},
		   "source": [
			"## Example 7.3: Amplitude_and_rms_value_of_sinusoidal_voltage.sce"
		   ]
		  },
  {
"cell_type": "code",
	   "execution_count": null,
	   "metadata": {
	    "collapsed": true
	   },
	   "outputs": [],
"source": [
"// Exa 7.3\n",
"format('v',7);clc;clear;close;\n",
"// Given data\n",
"subdivision = 1/5;//sub division in units\n",
"positivepeak = 2.6;//positive peak in units\n",
"Vpp = positivepeak + positivepeak;//peak to peak in divisions\n",
"verticalattenuation = 2;//vertical attenuation in mV/div\n",
"verticalattenuation = verticalattenuation * 10^-3;// in V/div\n",
"Vpp = Vpp * verticalattenuation;// in V\n",
"Vpp = Vpp * 10^3;// in mV\n",
"Vm = Vpp/2;;//amplitude of the sinusoidal voltage  in mV\n",
"disp(Vm,'The amplitude of the sinusoidal voltage in mV is');\n",
"V_RMS = Vm/sqrt(2);//r.m.s. value of the sinusoidal voltage in mV\n",
"disp(V_RMS,'The r.m.s. value of the sinusoidal voltage in mV is');"
   ]
   }
,
{
		   "cell_type": "markdown",
		   "metadata": {},
		   "source": [
			"## Example 7.4: rms_value_of_voltage.sce"
		   ]
		  },
  {
"cell_type": "code",
	   "execution_count": null,
	   "metadata": {
	    "collapsed": true
	   },
	   "outputs": [],
"source": [
"// Exa 7.4\n",
"format('v',7);clc;clear;close;\n",
"// Given data\n",
"voltsBYdiv = 2;//volts per division in V/div\n",
"Timebase = 2;//base time in ms/div\n",
"Verticaloccupancy = 3;//Vertical occupancy in cm\n",
"Vpp = voltsBYdiv*Verticaloccupancy;//peak to peak voltage in V\n",
"Vm = Vpp/2;// in V\n",
"V_RMS = Vm/sqrt(2);//r.m.s. value of the voltage in V\n",
"disp(V_RMS,'The r.m.s. value of the voltage in V is');\n",
"Horizontaloccupancy = 2;//Horizontal occupancy in cm\n",
"timeBYdiv = 2;//time per division in mV\n",
"timeBYdiv = timeBYdiv*10^-3;// in V\n",
"T = timeBYdiv*Horizontaloccupancy;// in sec\n",
"f = 1/T;// in Hz\n",
"disp(f,'The frequency in Hz is');"
   ]
   }
,
{
		   "cell_type": "markdown",
		   "metadata": {},
		   "source": [
			"## Example 7.5: Phase_difference.sce"
		   ]
		  },
  {
"cell_type": "code",
	   "execution_count": null,
	   "metadata": {
	    "collapsed": true
	   },
	   "outputs": [],
"source": [
"// Exa 7.5\n",
"format('v',7);clc;clear;close;\n",
"// Given data\n",
"y1 = 8;// in units\n",
"y2 = 10;// in units\n",
"phi = asind(y1/y2);// phase difference in degree\n",
"disp(phi,'The phase difference in degree is');"
   ]
   }
,
{
		   "cell_type": "markdown",
		   "metadata": {},
		   "source": [
			"## Example 7.6: Unknown_frequency_of_vertical_signal.sce"
		   ]
		  },
  {
"cell_type": "code",
	   "execution_count": null,
	   "metadata": {
	    "collapsed": true
	   },
	   "outputs": [],
"source": [
"// Exa 7.6\n",
"format('v',7);clc;clear;close;\n",
"// Given data\n",
"verticaltangencies = 2;// vertical tangencies\n",
"horizontaltangencies = 5;// horizontal tangencies\n",
"f_H = 1;// frequency in kHz\n",
"// f_V/f_H = horizontaltangencies/verticaltangencies;\n",
"f_V = (horizontaltangencies/verticaltangencies)*f_H;//unknown frequency of vertical signal  in kHz\n",
"disp(f_V,'The unknown frequency of vertical signal in kHz is');"
   ]
   }
,
{
		   "cell_type": "markdown",
		   "metadata": {},
		   "source": [
			"## Example 7.7: Compansating_capacitance.sce"
		   ]
		  },
  {
"cell_type": "code",
	   "execution_count": null,
	   "metadata": {
	    "collapsed": true
	   },
	   "outputs": [],
"source": [
"// Exa 7.7\n",
"format('v',6);clc;clear;close;\n",
"// Given data\n",
"Cin = 35;// in pF\n",
"// (R1+Rin)/Rin = 10;\n",
"RinBYR1= 1/9;\n",
"//while balance equation with compensating capacitor\n",
"//  R1*C1 = Rin*(C2+Cin);\n",
"C1= Cin*RinBYR1;//compansating capacitor  in pF\n",
"disp(C1,'The compansating capacitor in pF is');"
   ]
   }
,
{
		   "cell_type": "markdown",
		   "metadata": {},
		   "source": [
			"## Example 7.8: Sampling_rate.sce"
		   ]
		  },
  {
"cell_type": "code",
	   "execution_count": null,
	   "metadata": {
	    "collapsed": true
	   },
	   "outputs": [],
"source": [
"// Exa 7.8\n",
"format('v',7);clc;clear;close;\n",
"// Given data\n",
"n = 10;// number of cycle\n",
"fs = 1;//signal frequency in kHz\n",
"fs = fs * 10^3;// in Hz\n",
"Timeperiod = n/fs;//time period in sec\n",
"Samplingfrequency = 1/Timeperiod;//Sampling frequency in samples/sec\n",
"disp(Samplingfrequency,'The sampling rate for 1 kHz in samples/sec is');\n",
"fs = 10;// in kHz\n",
"fs = fs * 10^3;// in Hz\n",
"Samplingperiod = n/fs;//Sampling period in sec\n",
"Samplingfrequency = 1/Samplingperiod;//sampling rate for 10 kHz in samples/sec\n",
"disp(Samplingfrequency,'The sampling rate for 10 kHz in samples/sec is');"
   ]
   }
,
{
		   "cell_type": "markdown",
		   "metadata": {},
		   "source": [
			"## Example 7.9: Minimum_rise_time_of_the_pulse.sce"
		   ]
		  },
  {
"cell_type": "code",
	   "execution_count": null,
	   "metadata": {
	    "collapsed": true
	   },
	   "outputs": [],
"source": [
"// Exa 7.9\n",
"format('v',7);clc;clear;close;\n",
"// Given data\n",
"Samplingrate = 200;//Sampling rate in MS/s\n",
"Samplingrate = Samplingrate * 10^6;// in S/s\n",
"t_r = 1/Samplingrate;//minimum rise time of pulse in s\n",
"t_r = t_r * 10^9;// in ns\n",
"disp(t_r,'The minimum rise time of pulse in ns is');"
   ]
   }
],
"metadata": {
		  "kernelspec": {
		   "display_name": "Scilab",
		   "language": "scilab",
		   "name": "scilab"
		  },
		  "language_info": {
		   "file_extension": ".sce",
		   "help_links": [
			{
			 "text": "MetaKernel Magics",
			 "url": "https://github.com/calysto/metakernel/blob/master/metakernel/magics/README.md"
			}
		   ],
		   "mimetype": "text/x-octave",
		   "name": "scilab",
		   "version": "0.7.1"
		  }
		 },
		 "nbformat": 4,
		 "nbformat_minor": 0
}
