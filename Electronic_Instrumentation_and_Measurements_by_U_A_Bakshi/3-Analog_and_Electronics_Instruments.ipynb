{
"cells": [
 {
		   "cell_type": "markdown",
	   "metadata": {},
	   "source": [
       "# Chapter 3: Analog and Electronics Instruments"
	   ]
	},
{
		   "cell_type": "markdown",
		   "metadata": {},
		   "source": [
			"## Example 3.10: Series_string_of_multipliers.sce"
		   ]
		  },
  {
"cell_type": "code",
	   "execution_count": null,
	   "metadata": {
	    "collapsed": true
	   },
	   "outputs": [],
"source": [
"// Exa 3.10\n",
"format('v',7);clc;clear;close;\n",
"// Given data\n",
"Rm = 50;//resistance of meter in ohm\n",
"Im = 2;//current in mA\n",
"Im = Im * 10^-3;// in A\n",
"V4 = 10;//voltage in V\n",
"R4 = (V4/Im) - Rm;// in ohm\n",
"R4= R4*10^-3;// in k ohm\n",
"disp(R4,'The value of R4 in kΩ is');\n",
"R4= R4*10^3;// in ohm\n",
"V3 = 50;// in V\n",
"// (R3+R4) = (V3/Im) - Rm;\n",
"R3 = (V3/Im) - Rm-R4;// in ohm\n",
"R3= R3*10^-3;// in k ohm\n",
"disp(R3,'The value of R3 in kΩ is');\n",
"R3= R3*10^3;// in ohm\n",
"V2 = 100;// in V\n",
"//(R2+R3+R4) = (V2/Im) - Rm;\n",
"R2 = (V2/Im) - Rm - R3 - R4;// in ohm\n",
"R2= R2*10^-3;// in k ohm\n",
"disp(R2,'The value of R2 in kΩ is');\n",
"R2= R2*10^3;// in ohm\n",
"V1 = 500;// in V\n",
"// (R1+R2+R3+R4) = (V1/Im) - Rm;\n",
"R1 = (V1/Im) - Rm - R4 - R3 - R2;// in ohm\n",
"R1= R1*10^-3;// in k ohm\n",
"disp(R1,'The value of R1 in kΩ is');"
   ]
   }
,
{
		   "cell_type": "markdown",
		   "metadata": {},
		   "source": [
			"## Example 3.11: Sensitivity_method.sce"
		   ]
		  },
  {
"cell_type": "code",
	   "execution_count": null,
	   "metadata": {
	    "collapsed": true
	   },
	   "outputs": [],
"source": [
"// Exa 3.11\n",
"format('v',7);clc;clear;close;\n",
"// Given data\n",
"Rm = 50;//meter resistance in ohm\n",
"Im = 2;//current in mA\n",
"Im = Im * 10^-3;// in A\n",
"S = 1/Im;//sensitivity in ohm/V\n",
"// Voltage ranges\n",
"V1 = 500;// in V\n",
"V2 = 100;// in V\n",
"V3 = 50;// in V\n",
"V4 = 10;// in V\n",
"R4 = (S*V4) - Rm;// in ohm\n",
"R4= R4*10^-3;// in k ohm\n",
"disp(R4,'The value of R4 in kΩ  is');\n",
"R4= R4*10^3;// in ohm\n",
"R3 = (S*V3) - (Rm+R4);// in ohm\n",
"R3= R3*10^-3;// in k ohm\n",
"disp(R3,'The value of R3 in kΩ is');\n",
"R3= R3*10^3;// in ohm\n",
"R2 = (S*V2) - (Rm+R4+R3);// in ohm\n",
"R2= R2*10^-3;// in k ohm\n",
"disp(R2,'The value of R2 in kΩ is');\n",
"R2= R2*10^3;// in ohm\n",
"R1 = (S*V1) - (Rm+R2+R3+R4);// in ohm\n",
"R1= R1*10^-3;// in k ohm\n",
"disp(R1,'The value of R1 in kΩ is');"
   ]
   }
,
{
		   "cell_type": "markdown",
		   "metadata": {},
		   "source": [
			"## Example 3.12: Multiplier_resistance.sce"
		   ]
		  },
  {
"cell_type": "code",
	   "execution_count": null,
	   "metadata": {
	    "collapsed": true
	   },
	   "outputs": [],
"source": [
"// Exa 3.12\n",
"format('v',7);clc;clear;close;\n",
"// Given data\n",
"Im = 50;//current in µA\n",
"Im = Im * 10^-6;// in A\n",
"S = 1/Im;// in ohm/V\n",
"V = 500;// in V\n",
"Rm = 200;//internal resistance in ohm\n",
"Rs = (S*V) - Rm;//multiplier resistance in ohm\n",
"Rs = Rs * 10^-6;// in Mohm\n",
"disp(Rs,'The value of multiplier resistance in MΩ is');"
   ]
   }
,
{
		   "cell_type": "markdown",
		   "metadata": {},
		   "source": [
			"## Example 3.13: Sensitivity_of_the_meter.sce"
		   ]
		  },
  {
"cell_type": "code",
	   "execution_count": null,
	   "metadata": {
	    "collapsed": true
	   },
	   "outputs": [],
"source": [
"// Exa 3.13\n",
"format('v',7);clc;clear;close;\n",
"// Given data\n",
"Rs = 25;//resistance in k ohm\n",
"Rs = Rs * 10^3;// in ohm\n",
"Rm = 1;//meter resistance in k ohm\n",
"Rm = Rm * 10^3;// in k ohm\n",
"V = 100;//voltage in V\n",
"// Rs = (S*V) - Rm;\n",
"S = (Rs+Rm)/V;//sensitivity in ohm/V\n",
"disp('For meter A:  The value of S is : '+string(S)+' Ω/V')\n",
"Rs = 150;// in  k ohm\n",
"Rs = Rs * 10^3;// in ohm\n",
"V = 1000;// in V\n",
"// Rs = (S*V) - Rm;\n",
"S = (Rs+Rm)/V;// in ohm/V meter B\n",
"disp('For meter B:  The value of S is : '+string(S)+' Ω/V')\n",
"disp('The meter A is more sensitive than meter B')"
   ]
   }
,
{
		   "cell_type": "markdown",
		   "metadata": {},
		   "source": [
			"## Example 3.14: Accuracy_of_the_meter.sce"
		   ]
		  },
  {
"cell_type": "code",
	   "execution_count": null,
	   "metadata": {
	    "collapsed": true
	   },
	   "outputs": [],
"source": [
"// Exa 3.14\n",
"format('v',7);clc;clear;close;\n",
"// Given data\n",
"// Case (i): When voltmeter having a sensitivity of 500 Ω/V\n",
"R1 = 20;// in k ohm\n",
"R2 = 25;// in k ohm\n",
"Vdc = 250;// in V\n",
"V = (Vdc/(R1+R2))*R2;// in V\n",
"Vrange = 150;// in V\n",
"S = 500;// in ohm/V\n",
"R_V = S*Vrange;// in ohm\n",
"R_V = R_V * 10^-3;// in k ohm\n",
"Req = (R2*R_V)/(R2+R_V);// in k ohm\n",
"V = (Req/(Req+R1))*Vdc;// in V voltmeter first\n",
"disp('Case (i): When voltmeter having a sensitivity of 500 Ω/V')\n",
"disp('                The voltmeter will reads : '+string(V)+' V');\n",
"// Case (ii): When voltmeter having a sensitivity of 1000 Ω/V\n",
"S = 10000;// in ohm/V\n",
"R_V = S*Vrange;// in ohm\n",
"R_V = R_V * 10^-3;// in k ohm\n",
"Req = (R2*R_V)/(R2+R_V);// in k ohm\n",
"V = (Req/(Req+R1))*Vdc;// in V  Voltmeter second\n",
"disp('Case (ii): When voltmeter having a sensitivity of 1000 Ω/V')\n",
"disp('                 The voltmeter will reads : '+string(V)+' V');\n",
"disp('Thus the second voltmeter reads more accurately.')"
   ]
   }
,
{
		   "cell_type": "markdown",
		   "metadata": {},
		   "source": [
			"## Example 3.15: Percentage_accuracy.sce"
		   ]
		  },
  {
"cell_type": "code",
	   "execution_count": null,
	   "metadata": {
	    "collapsed": true
	   },
	   "outputs": [],
"source": [
"// Exa 3.15\n",
"format('v',6);clc;clear;close;\n",
"// Given data\n",
"Ra = 5;// in k ohm\n",
"Rb = 1;// in k ohm\n",
"V = 25;// in V \n",
"Vrange = 5;// in V\n",
"S = 1;// in k ohm/V\n",
"// True voltage across Rb \n",
"Vb = (Rb/(Ra+Rb))*V;// in V\n",
"disp(Vb,'The true voltage across Rb in V is');\n",
"R_V = S*Vrange;// in k ohm\n",
"Req = (Rb*R_V)/(Rb+R_V);// in k ohm\n",
"V1 = (Req/(Req+Ra))*V;//reading on the voltmeter 1  in V\n",
"disp(V1,'The reading on the voltmeter 1 in V is');\n",
"S = 20;// in k ohm/V\n",
"R_V = S*Vrange;// in k ohm\n",
"Req = (Rb*R_V)/(Rb+R_V);// in k ohm\n",
"V2 = (Req/(Ra+Req))*V;//reading on the voltmeter 2 in V\n",
"disp(V2,'The reading on the voltmeter 2 in V is');\n",
"PerError1 = ((Vb-V1)/Vb)*100;//percentage error in meter 1 in % \n",
"disp(PerError1,'The percentage error in meter 1 in % is'); \n",
"PerError2 = ((Vb-V2)/Vb)*100;//percentage error in meter 2 in %\n",
"disp(PerError2,'The percentage error in meter 2 in % is');\n",
"PerAccuracy1 = 100 - PerError1;//percentage accuracy of meter 1 in %\n",
"disp(PerAccuracy1,'The percentage accuarcy of meter 1 in % is');\n",
"PerAccuracy2 = 100-PerError2;//percentage accuracy of meter 2 in %\n",
"disp(PerAccuracy2,'The percentage accuracy of meter 2 in % is');\n",
"disp('Thus voltmeter 2 is '+string(PerAccuracy2)+' % accurate while voltmeter 1 is '+string(PerAccuracy1)+' % accurate')"
   ]
   }
,
{
		   "cell_type": "markdown",
		   "metadata": {},
		   "source": [
			"## Example 3.16: Multiplier_resistance.sce"
		   ]
		  },
  {
"cell_type": "code",
	   "execution_count": null,
	   "metadata": {
	    "collapsed": true
	   },
	   "outputs": [],
"source": [
"// Exa 3.16\n",
"format('v',7);clc;clear;close;\n",
"// Given data\n",
"Erms = 10;//r.m.s. range of the voltmeter in V\n",
"Ep = sqrt(2)*Erms;// in V\n",
"Eav = 0.6*Ep;// in V\n",
"Eav = 9;// in V \n",
"Eavoutput = (1/2)*Eav;// in V\n",
"Edc = 0.45*Erms;// in V\n",
"Idc = 1;// in mA\n",
"Idc = Idc * 10^-3;// in A\n",
"Rm = 200;// in W\n",
"Rs = (Edc/Idc) - Rm;//required multiplier resistance in ohm\n",
"Rs = Rs * 10^-3;// in k ohm\n",
"disp(Rs,'The required multiplier resistance in kΩ is');"
   ]
   }
,
{
		   "cell_type": "markdown",
		   "metadata": {},
		   "source": [
			"## Example 3.17: Multiplier_resistance.sce"
		   ]
		  },
  {
"cell_type": "code",
	   "execution_count": null,
	   "metadata": {
	    "collapsed": true
	   },
	   "outputs": [],
"source": [
"// Exa 3.17\n",
"format('v',7);clc;clear;close;\n",
"// Given data\n",
"Idc = 2;//dc current in mA\n",
"Idc = Idc * 10^-3;// in A\n",
"Rm = 500;//meter resistance in ohm\n",
"Erms = 10;//r.m.s value in v\n",
"Eav = 9;//average value in V\n",
"Edc = 0.9*Erms;//dc voltage in V\n",
"Rs = (Edc/Idc) - Rm;//multiplier resistance in ohm\n",
"Rs = Rs * 10^-3;// in k ohm\n",
"disp(Rs,'The multiplier resistance in kΩ is');"
   ]
   }
,
{
		   "cell_type": "markdown",
		   "metadata": {},
		   "source": [
			"## Example 3.18: Error_in_meter_reading.sce"
		   ]
		  },
  {
"cell_type": "code",
	   "execution_count": null,
	   "metadata": {
	    "collapsed": true
	   },
	   "outputs": [],
"source": [
"// Exa 3.18\n",
"format('v',7);clc;clear;close;\n",
"// Given data\n",
"Kf_true = 1;// true value of form factor\n",
"Kf_measured= 1.11;// measured value of form factor\n",
"PerError = ((Kf_true-Kf_measured)/Kf_true)*100;//percentage error in the meter reading in %\n",
"disp(PerError,'The percentage error in the meter reading in % is');"
   ]
   }
,
{
		   "cell_type": "markdown",
		   "metadata": {},
		   "source": [
			"## Example 3.19: Percentage_error_in_reading.sce"
		   ]
		  },
  {
"cell_type": "code",
	   "execution_count": null,
	   "metadata": {
	    "collapsed": true
	   },
	   "outputs": [],
"source": [
"// Exa 3.19\n",
"format('v',5);clc;clear;close;\n",
"// Given data\n",
"V1 = 100;// in V\n",
"V2 = 0;// in V\n",
"e1= 0;// in V\n",
"e2= 100;// in V\n",
"T=2;// in sec\n",
"T1 = 0;// in sec\n",
"T2 = 2;// in sec\n",
"// Slope of ramp\n",
"A= (e2-e1)/(T2-T1);// in V/sec\n",
"e= 'A*t';// in sec\n",
"Erms= sqrt(1/T*integrate('(A*t)^2','t',0,T));// in V\n",
"Eav= 1/T*integrate('(A*t)','t',0,T);// in V\n",
"Kf= Erms/Eav;// form factor\n",
"Kf_sine= 1.11;// form factor of sine wave\n",
"True_reading= 1;// true reading\n",
"Meas_reading= Kf_sine/Kf;// measured reading\n",
"PerError= (True_reading-Meas_reading)/True_reading*100;//percentage error in the reading in %\n",
"disp(PerError,'The percentage error in the reading in % is : ')"
   ]
   }
,
{
		   "cell_type": "markdown",
		   "metadata": {},
		   "source": [
			"## Example 3.1: Deflecting_torque.sce"
		   ]
		  },
  {
"cell_type": "code",
	   "execution_count": null,
	   "metadata": {
	    "collapsed": true
	   },
	   "outputs": [],
"source": [
"// Exa 3.1\n",
"format('v',7);clc;clear;close;\n",
"// Given data\n",
"N = 100;// number o turns\n",
"B = 0.15;//air gap in Wb/m^2\n",
"I = 5;//current in mA\n",
"I = I * 10^-3;// in A\n",
"l= 10;//length in mm\n",
"b = 8;//width in mm\n",
"A = l*b;//area in mm^2\n",
"A = A * 10^-6;// in m^2\n",
"Td = N*B*A*I;//deflecting torque in Nm\n",
"K = 0.2*10^-6;// in Nm/degree\n",
"// Td = Tc= K*theta;\n",
"theta = Td/K;//deflecting in degrees\n",
"disp(theta,'The deflecting in degrees is');"
   ]
   }
,
{
		   "cell_type": "markdown",
		   "metadata": {},
		   "source": [
			"## Example 3.20: Series_resistance.sce"
		   ]
		  },
  {
"cell_type": "code",
	   "execution_count": null,
	   "metadata": {
	    "collapsed": true
	   },
	   "outputs": [],
"source": [
"// Exa 3.20\n",
"format('v',7);clc;clear;close;\n",
"// Given data\n",
"Erms = 200;//r.m.s value in V\n",
"Rm = 100;//meter resistance in ohm\n",
"Idc = 25;//dc current in mA\n",
"Idc= Idc*10^-3;// in A\n",
"Rf = 500;// in ohm\n",
"R_D = 2*Rf;// in ohm\n",
"Edc = 0.9*Erms;// in V\n",
"Rs = (Edc/Idc) - Rm;// in ohm\n",
"R_m = Rm+R_D;// in ohm\n",
"Rs = (Edc/Idc) - R_m;//required series resistance in ohm\n",
"disp(Rs,'The required series resistance in Ω is');"
   ]
   }
,
{
		   "cell_type": "markdown",
		   "metadata": {},
		   "source": [
			"## Example 3.21: Required_resistance.sce"
		   ]
		  },
  {
"cell_type": "code",
	   "execution_count": null,
	   "metadata": {
	    "collapsed": true
	   },
	   "outputs": [],
"source": [
"// Exa 3.21\n",
"format('v',7);clc;clear;close;\n",
"// Given data\n",
"r = 2;//radius in m\n",
"r = r * 10^3;// in mm\n",
"d = 200;//deflection in mm\n",
"To = 3.1415;// in sec   \n",
"J = 2*10^-6;// in kg-m^2\n",
"i = 1;// in µA\n",
"i = i * 10^-6;// in A\n",
"// d = 2*r*theta_f;\n",
"theta_f = d/(2*r);// in rad\n",
"// To = 2*%pi * (sqrt( J/K ));\n",
"K = 4*%pi^2*J/To^2;// in Nm/A\n",
"// theta_f = (G*i)/K;\n",
"G = (theta_f*K)/i;// in Nm/A\n",
"// The required resistance to obtain critical damping \n",
"Rc = G^2/( 2*sqrt(J*K));// in ohm\n",
"Rc = Rc * 10^-3;// in k ohm\n",
"disp(Rc,'The required resistance to obtain critical damping in kΩ is');"
   ]
   }
,
{
		   "cell_type": "markdown",
		   "metadata": {},
		   "source": [
			"## Example 3.22: Relative_damping.sce"
		   ]
		  },
  {
"cell_type": "code",
	   "execution_count": null,
	   "metadata": {
	    "collapsed": true
	   },
	   "outputs": [],
"source": [
"// Exa 3.22\n",
"format('v',6);clc;clear;close;\n",
"// Given data\n",
"theta1 = 128;//first maximum deflection in mm\n",
"theta3 = 90;//second maximum deflection in mm\n",
"theta_f = 70;// in mm\n",
"i = 6.2;// in µA\n",
"// The current sensitivity \n",
"Si = theta_f/i;// in mm/µA\n",
"disp(Si,'The current sensitivity in mm/µA is');\n",
"// The logarithmic decrement \n",
"// Formula %e^(2*lambda)= (theta1-thetaf)/(theta3-thetaf)\n",
"lembda = log((theta1-theta_f)/(theta3-theta_f) )*(1/2);\n",
"disp(lembda,'The logarithmic decrement is');\n",
"// lembda = (%pi*sie)/(sqrt( 1-((sie)^2) ));\n",
"// ((lembda/%pi)^2) = ((sie)^2)/(sqrt( 1-((sie)^2) ));\n",
"sie = lembda/sqrt(lembda^2+%pi^2);// the relative damping\n",
"disp(sie,'The relative damping is');"
   ]
   }
,
{
		   "cell_type": "markdown",
		   "metadata": {},
		   "source": [
			"## Example 3.23: Error.sce"
		   ]
		  },
  {
"cell_type": "code",
	   "execution_count": null,
	   "metadata": {
	    "collapsed": true
	   },
	   "outputs": [],
"source": [
"// Exa 3.23\n",
"format('v',5);clc;clear;close;\n",
"// Given data\n",
"I = 100;// in mA\n",
"Im = 1;// in mA\n",
"Rm = 25;// in ohm\n",
"// m = I/Im = 1 + Rm/Rsh;\n",
"Rsh = Rm/((I/Im) - 1);// in ohm\n",
"del_t = 10;// in °C\n",
"Alpha_c = 0.004;\n",
"Alpha_m = 0.00015;\n",
"// When temperature increase by 10 °C\n",
"R_m = Rm * ( 1 + (Alpha_c*del_t) );// in ohm\n",
"R_sh = Rsh * (1 + (Alpha_m*del_t));// in ohm\n",
"// When I= 100 mA then\n",
"I_m = (R_sh/(R_sh+R_m))*I;// in mA\n",
"// But Im required for full scale deflection\n",
"PerEerror= ((I_m-Im)/Im)*100;// in %\n",
"disp('Part (i) ');\n",
"disp(PerEerror,'The percentage error in % is');\n",
"Rx = 75;// in ohm\n",
"Rtotal = Rm+Rx;// in ohm\n",
"Rsh = Rtotal/((I/Im) - 1);// in ohm\n",
"//R_total =R_m+R_x;\n",
"R_total = R_m + (Rx*(1+(Alpha_m*del_t)));// in ohm\n",
"R_sh = Rsh * (1+( Alpha_m*del_t ));// in ohm\n",
"I_m = (R_sh/(R_sh+R_total))*I;// in mA\n",
"PerEerror = ((I_m-Im)/Im)*100;//percentage error in %\n",
"disp('Part (ii) ');\n",
"disp(PerEerror,'The percentage error in % is');"
   ]
   }
,
{
		   "cell_type": "markdown",
		   "metadata": {},
		   "source": [
			"## Example 3.24: Required_multiplier_to_be_connected_in_series.sce"
		   ]
		  },
  {
"cell_type": "code",
	   "execution_count": null,
	   "metadata": {
	    "collapsed": true
	   },
	   "outputs": [],
"source": [
"// Exa 3.24\n",
"format('v',7);clc;clear;close;\n",
"// Given data\n",
"Im =25;//current in mA\n",
"Im = Im * 10^-3;// in A\n",
"Rm = 10;//resistance in ohm\n",
"I = 20;// in A\n",
"Rsh = (Im*Rm)/(I-Im);//shunt resistance in ohm\n",
"disp(Rsh,'The value of Rsh in Ω is');\n",
"V = 120;// in V\n",
"Rs = (V/Im)-Rm;// in ohm\n",
"disp(Rs,'The value of Rs in Ω is');"
   ]
   }
,
{
		   "cell_type": "markdown",
		   "metadata": {},
		   "source": [
			"## Example 3.25: Values_of_multiplier.sce"
		   ]
		  },
  {
"cell_type": "code",
	   "execution_count": null,
	   "metadata": {
	    "collapsed": true
	   },
	   "outputs": [],
"source": [
"// Exa 3.25\n",
"format('v',7);clc;clear;close;\n",
"// Given data\n",
"Vm = 10;// in mV\n",
"Vm = Vm * 10^-3;// in V\n",
"Rm = 1;// in k ohm\n",
"Rm = Rm * 10^3;// in ohm\n",
"Im = Vm/Rm;// in A\n",
"// Part (i) : For the range of 100 mV\n",
"Vrange = 100;// in mV\n",
"Vrange = Vrange * 10^-3;// in V\n",
"Rs = (Vrange/Im) - Rm;// in ohm\n",
"Rs= Rs*10^-3;// in kohm\n",
"disp('Part (i) For the range of 100 mV')\n",
"// Part (ii) : For the range of 1 V\n",
"disp(Rs,'The value of Rs in kΩ is');\n",
"Vrange = 1;// in V\n",
"Rs = (Vrange/Im) - Rm;// in ohm\n",
"Rs= Rs*10^-3;// in kohm\n",
"disp('Part (i) For the range of 1V')\n",
"disp(Rs,'The value of Rs in kΩ is');"
   ]
   }
,
{
		   "cell_type": "markdown",
		   "metadata": {},
		   "source": [
			"## Example 3.26: Universal_shunt_for_a_PMMC_instrument.sce"
		   ]
		  },
  {
"cell_type": "code",
	   "execution_count": null,
	   "metadata": {
	    "collapsed": true
	   },
	   "outputs": [],
"source": [
"// Exa 3.26\n",
"format('v',7);clc;clear;close;\n",
"// Given data\n",
"Vm = 0.1;//full scale deflection voltage in V\n",
"Rm = 20;//meter resistance in ohm\n",
"Im = Vm/Rm;//current in A\n",
"I1= 10;// in A\n",
"I2= 1;// in A\n",
"I3= 100*10^-3;// in A\n",
"// I1*R1 = Im*(R2+R3+Rm) or   I1*R1 - Im*R2 - Im*R3 = Im*Rm       (i)\n",
"// I2*(R1+R2) = Im*(R3+Rm) or I2*R1 + I2*R2 -Im*R3 = Im*Rm      (ii)\n",
"// I3*(R1+R2+R3) = Im*Rm or   I3*R1 + I3*R2 + I3*R3 = Im*Rm     (iii)\n",
"A= [I1 I2 I3;-Im I2 I3;-Im -Im I3];\n",
"B= [Im*Rm Im*Rm Im*Rm];\n",
"R= B*A^-1;// Solving equation (i), (ii) and (iii) by matrix method\n",
"R1= R(1);// in ohm\n",
"R2= R(2);// in ohm\n",
"R3= R(3);// in ohm\n",
"disp(R1,'The value of R1 in ohm is : ')\n",
"disp(R2,'The value of R2 in ohm is : ')\n",
"disp(R3,'The value of R3 in ohm is : ')"
   ]
   }
,
{
		   "cell_type": "markdown",
		   "metadata": {},
		   "source": [
			"## Example 3.27: Value_of_the_resistance.sce"
		   ]
		  },
  {
"cell_type": "code",
	   "execution_count": null,
	   "metadata": {
	    "collapsed": true
	   },
	   "outputs": [],
"source": [
"// Exa 3.27\n",
"format('v',7);clc;clear;close;\n",
"// Given data\n",
"Im = 10;//current in mA\n",
"Im = Im * 10^-3;// in A\n",
"Rm = 50;//meter resistance in ohm\n",
"I = 5;// in A\n",
"// Value of resistance to be connected in parallel \n",
"Rsh = (Im*Rm)/(I-Im);// in ohm\n",
"disp(Rsh,'The value of resistance to be connected in parallel in Ω is');\n",
"V = 250;// in V\n",
"// The value of resistance to be connected in series \n",
"Rs = (V/Im) - Rm;// in ohm\n",
"disp(Rs,'The value of resistance to be connected in series in Ω is');"
   ]
   }
,
{
		   "cell_type": "markdown",
		   "metadata": {},
		   "source": [
			"## Example 3.28: Shunt_resistance.sce"
		   ]
		  },
  {
"cell_type": "code",
	   "execution_count": null,
	   "metadata": {
	    "collapsed": true
	   },
	   "outputs": [],
"source": [
"// Exa 3.28\n",
"format('v',6);clc;clear;close;\n",
"// Given data\n",
"Im = 1;// in mA\n",
"Im = Im * 10^-3;// in A\n",
"Rm = 100;// in ohm\n",
"I = 100;// in mA\n",
"I = I * 10^-3;// in A\n",
"// For 100 mA range, the value of Rsh to be connected in parallel \n",
"Rsh = (Im*Rm)/(I-Im);// in ohm\n",
"disp(Rsh,'For 100 mA range, the value of Rsh to be connected in parallel in Ω is');\n",
"I = 1;// in A\n",
"// For 1 A range, the value of Rsh to be connected in parallel \n",
"Rsh = (Im*Rm)/(I-Im);// in ohm\n",
"disp(Rsh,'For 1A range, the value of Rsh to be connected in parallel in Ω is');\n",
"V = 1;// in V\n",
"// For 1V range, the value of Rs to be connected in series\n",
"Rs = (V/Im)-Rm;// in ohm\n",
"disp(Rs,'For 1V range, the value of Rs to be connected in series in Ω is');\n",
"V = 100;// in V\n",
"// For 100 V range, the value of Rs to be connected in series\n",
"Rs = (V/Im)-Rm;// in ohm\n",
"Rs= Rs*10^-3;// in k ohm\n",
"disp(Rs,'For 100V range, the value of Rs to be connected in series in kΩ is');"
   ]
   }
,
{
		   "cell_type": "markdown",
		   "metadata": {},
		   "source": [
			"## Example 3.29: Required_shunt.sce"
		   ]
		  },
  {
"cell_type": "code",
	   "execution_count": null,
	   "metadata": {
	    "collapsed": true
	   },
	   "outputs": [],
"source": [
"// Exa 3.29\n",
"format('v',7);clc;clear;close;\n",
"// Given data\n",
"Rm = 100;//meter resistance in ohm\n",
"Im = 2;//current in mA\n",
"Im = Im * 10^-3;// in A\n",
"I = 150;// in mA\n",
"I = I * 10^-3;// in A\n",
"m = I/Im;\n",
"Rsh = Rm/(m-1);//required shunt resistance in ohm\n",
"disp(Rsh,'The value of required shunt resistance in Ω is');\n",
"Pm = ((Im)^2)*Rm;// in W \n",
"Psh = ((I-Im)^2)*Rsh;// in W\n",
"P = Pm+Psh;//power consumption  in W\n",
"P = P * 10^3;// in mW\n",
"disp(P,'The power consumption in mW is');"
   ]
   }
,
{
		   "cell_type": "markdown",
		   "metadata": {},
		   "source": [
			"## Example 3.2: Deflection_of_galvanometer.sce"
		   ]
		  },
  {
"cell_type": "code",
	   "execution_count": null,
	   "metadata": {
	    "collapsed": true
	   },
	   "outputs": [],
"source": [
"// Exa 3.2\n",
"format('v',7);clc;clear;close;\n",
"// Given data\n",
"B = 8*10^-3;//flux density in Wb/m^2\n",
"N = 300;// number of turns\n",
"l = 15;//length in mm\n",
"r = 30;//radius in mm\n",
"K = 2.5*10^-9;//spring constant in Nm/rad\n",
"J = 10*10^-9;// in kg-m^2\n",
"D = 2*10^-9;// in Nm/rads^-1\n",
"Rg = 80;// in ohm\n",
"A = l*r;// in mm^2\n",
"A = A * 10^-6;// in m^2\n",
"G = N*B*A;// in Nm/A\n",
"i = 1;// in µA\n",
"i = i * 10^-6;// in A\n",
"theta_f = (G*i)/K;// in rad\n",
"r = 1;// in m\n",
"r = r * 10^3;// in mm\n",
"d = 2*theta_f*r;//deflection of galvanometer  in mm\n",
"disp(d,'The deflection of galvanometer in mm is');\n",
"Si = d/i;// in mm/A\n",
"Si = Si * 10^-6;//Current sensitivity in mm/µA\n",
"disp(Si,'Current sensitivity in mm/µA is');"
   ]
   }
,
{
		   "cell_type": "markdown",
		   "metadata": {},
		   "source": [
			"## Example 3.30: Magnitude_of_current.sce"
		   ]
		  },
  {
"cell_type": "code",
	   "execution_count": null,
	   "metadata": {
	    "collapsed": true
	   },
	   "outputs": [],
"source": [
"// Exa 3.30\n",
"format('v',7);clc;clear;close;\n",
"// Given data\n",
"std_cell_emf = 1.45;//e.m.f. of standard cell in V\n",
"l = 50;//length in cm\n",
"Vdrop = std_cell_emf /l;//voltage drop per unit length in V/cm\n",
"Vstdresistor = Vdrop*75;//voltage across standard resistor in V\n",
"Stdresistor = 0.1;//standard resistor in ohm\n",
"I = Vstdresistor/Stdresistor;//magnitude of current  in A\n",
"disp(I,'The magnitude of current in A is');"
   ]
   }
,
{
		   "cell_type": "markdown",
		   "metadata": {},
		   "source": [
			"## Example 3.3: Logarithmic_decrement.sce"
		   ]
		  },
  {
"cell_type": "code",
	   "execution_count": null,
	   "metadata": {
	    "collapsed": true
	   },
	   "outputs": [],
"source": [
"// Exa 3.3\n",
"format('v',7);clc;clear;close;\n",
"// Given data\n",
"B = 10*10^-3;// in Wb/m^2\n",
"N = 200;// in turns\n",
"l = 16;// in mm\n",
"K = 12*10^-9;// in Nm/rad\n",
"J = 50*10^-9;// in kg-m^2\n",
"D = 5*10^-9;// in Nm/rads^-1\n",
"R = 120;// in ohm\n",
"A = l^2;// in mm^2\n",
"A = A * 10^-6;// in m^2\n",
"G = N*B*A;// in Nm/A\n",
"i = 1;// in µA\n",
"i = i * 10^-6;// in A\n",
"theta_f = (G*i)/K;// in rad\n",
"r = 1;// in m\n",
"r = r * 10^3;// in mm\n",
"// deflection of the galvanometer \n",
"d = 2*theta_f*r;// in mm\n",
"disp(d,'The deflection of the galvanometer in mm is');\n",
"i = i * 10^6;// in µA\n",
"// Current sensitivity \n",
"Si = d/i;// in mm/µA\n",
"disp(Si,'The current sensitivity in mm/µA is');\n",
"// Voltage sensitivity \n",
"Sv = d/(i*R);// in mm/µV\n",
"disp(Sv,'The voltage sensitivity in mm/µV is');\n",
"So = d/(i*10^-6*10^6);//megaohm sensitivity in Mohm/mm\n",
"disp(So,'The megaohm sensitivity in Mohm/mm is');\n",
"omega_d = (sqrt((4*J*K) - ((D)^2)))/(2*J);// in rad/sec\n",
"f_d = omega_d/(2*%pi);//frequency of damped oscillation  in Hz\n",
"disp(f_d,'The frequency of damped oscillation in Hz is');\n",
"omega_n = sqrt(K/J);\n",
"// period of free oscillation \n",
"To = (2*%pi)/omega_n;// in sec\n",
"disp(To,'The period of free oscillation in sec is');\n",
"Dc = 2*sqrt( J*K );\n",
"// The relative damping \n",
"Epsilon = D/Dc;\n",
"disp(Epsilon,'The relative damping is');\n",
"// The first maximum deflection \n",
"theta1 = theta_f * ( 1 + (%e^(-%pi*Epsilon)/(sqrt(1 - ((Epsilon)^2)))) );// in rad\n",
"theta1 = theta1*2*r;// in mm\n",
"disp(theta1,'The first maximum deflection in mm is');\n",
"// The logarithmic decrement \n",
"lembda = (%pi*Epsilon)/(sqrt(1 - ((Epsilon)^2)));\n",
"disp(lembda,'The logarithmic decrement is');"
   ]
   }
,
{
		   "cell_type": "markdown",
		   "metadata": {},
		   "source": [
			"## Example 3.4: Shunt_resistance.sce"
		   ]
		  },
  {
"cell_type": "code",
	   "execution_count": null,
	   "metadata": {
	    "collapsed": true
	   },
	   "outputs": [],
"source": [
"// Exa 3.4\n",
"format('v',7);clc;clear;close;\n",
"// Given data\n",
"Rm = 100;//internal resistance in ohm\n",
"Im = 2;// in mA\n",
"Im = Im * 10^-3;// in A\n",
"I = 150;// in mA\n",
"I = I * 10^-3;// in A\n",
"Rsh = (Im*Rm)/(I-Im);//shunt resistance in ohm\n",
"disp(Rsh,'The value of shunt resistance in ohm is');\n",
"\n",
"// Note: The calculation in the book is wrong."
   ]
   }
,
{
		   "cell_type": "markdown",
		   "metadata": {},
		   "source": [
			"## Example 3.5: Current_through_shunt.sce"
		   ]
		  },
  {
"cell_type": "code",
	   "execution_count": null,
	   "metadata": {
	    "collapsed": true
	   },
	   "outputs": [],
"source": [
"// Exa 3.5\n",
"format('v',7);clc;clear;close;\n",
"// Given data\n",
"Rsh = 0.01;//shunt resistance in ohm\n",
"Rm = 750;//resistance in ohm\n",
"Vm= 400*10^-3;//voltage in V\n",
"Ish = 50;//current in A\n",
"// Ish*Rsh = voltagedrop;\n",
"Ish = Vm/Rsh;//current through shunt  in A\n",
"disp(Ish,'The current through shunt in A is');\n",
"Ish=50;// in A\n",
"Vsh = Ish*Rsh;// in V\n",
"Im = Vm/Rm;// in A\n",
"// Im*R_m = Vsh;\n",
"R_m = Vsh/Im;//resistance of meter in ohm\n",
"disp(R_m,'The resistance of meter in Ω is');"
   ]
   }
,
{
		   "cell_type": "markdown",
		   "metadata": {},
		   "source": [
			"## Example 3.6: Multirange_dc_milliammeter.sce"
		   ]
		  },
  {
"cell_type": "code",
	   "execution_count": null,
	   "metadata": {
	    "collapsed": true
	   },
	   "outputs": [],
"source": [
"// Exa 3.6\n",
"format('v',7);clc;clear;close;\n",
"// Given data\n",
"// The first range is 0-10 mA\n",
"I1 = 10;//in mA\n",
"Im = 2;// in mA\n",
"Rm = 75;// in ohm\n",
"R1 = (Im*Rm)/(I1-Im);// in ohm\n",
"disp(R1,'The value of R1 in ohm is');\n",
"// Second range is 0-50 mA\n",
"I2 = 50;// in mA\n",
"R2 = (Im*Rm)/(I2-Im);// in ohm\n",
"disp(R2,'The value of R2 in ohm is');\n",
"// The third range is 0-100 mA\n",
"I3 = 100;// in mA\n",
"R3 = (Im*Rm)/(I3-Im);// in ohm\n",
"disp(R3,'The value of R3 in ohm is');"
   ]
   }
,
{
		   "cell_type": "markdown",
		   "metadata": {},
		   "source": [
			"## Example 3.7: Value_of_Current.sce"
		   ]
		  },
  {
"cell_type": "code",
	   "execution_count": null,
	   "metadata": {
	    "collapsed": true
	   },
	   "outputs": [],
"source": [
"// Exa 3.7\n",
"format('v',7);clc;clear;close;\n",
"// Given data\n",
"I1 = 10;// in A\n",
"Im = 1*10^-3;// in A\n",
"Rm = 50;// in ohm\n",
"I2 = 5;// in A\n",
"I3 = 1;// in A\n",
"// I1*R1= Im*(R2+R3+Rm) or I1*R1 - Im*R2 - Im*R3 = Im*Rm       (i)\n",
"// I2*(R1+R2) = Im*(R3+Rm) or I2*R1 + I2*R2 - Im*R3 = Im*Rm     (ii)\n",
"// I3*(R1+R2+R3) = Im*Rm or I3*R1 + I3*R2 + I3*R3 = Im*Rm           (iii)\n",
"// Solving eq (i),(ii) and (iii) by matrix method : \n",
"A= [I1 I2 I3;-Im I2 I3;-Im -Im I3];\n",
"B= [Im*Rm Im*Rm Im*Rm];\n",
"R= B*A^-1;\n",
"R1= R(1);//value of R1 in ohm\n",
"R2= R(2);//value of R2 in ohm\n",
"R3= R(3);//value of R3 in ohm\n",
"disp(R1,'The value of R1 in ohm is : ')\n",
"disp(R2,'The value of R2 in ohm is : ')\n",
"disp(R3,'The value of R3 in ohm is : ')\n",
""
   ]
   }
,
{
		   "cell_type": "markdown",
		   "metadata": {},
		   "source": [
			"## Example 3.8: Required_multiplier_resistance.sce"
		   ]
		  },
  {
"cell_type": "code",
	   "execution_count": null,
	   "metadata": {
	    "collapsed": true
	   },
	   "outputs": [],
"source": [
"// Exa 3.8\n",
"format('v',7);clc;clear;close;\n",
"// Given data\n",
"Rm = 500;//resistance of meter in ohm\n",
"Im = 40;//current in µA\n",
"Im = Im * 10^-6;// in A\n",
"V = 10;//voltage in V\n",
"// The required multiplier resistance \n",
"Rs = (V/Im)-Rm;// in ohm\n",
"Rs = Rs * 10^-3;// in k ohm\n",
"disp(Rs,'The required multiplier resistance in kΩ is');"
   ]
   }
,
{
		   "cell_type": "markdown",
		   "metadata": {},
		   "source": [
			"## Example 3.9: Required_shunt.sce"
		   ]
		  },
  {
"cell_type": "code",
	   "execution_count": null,
	   "metadata": {
	    "collapsed": true
	   },
	   "outputs": [],
"source": [
"// Exa 3.9\n",
"format('v',7);clc;clear;close;\n",
"// Given data\n",
"Im = 20;//current in mA\n",
"Vm = 200;//voltage in mV\n",
"// Vm = Im*Rm;\n",
"Rm = Vm/Im;//resistance in ohm\n",
"I = 200;// in A\n",
"Im = Im * 10^-3;// in A\n",
"Rsh = (Im*Rm)/(I-Im);//required shunt resistance in ohm\n",
"disp(Rsh,'The required shunt resistance in Ω is');\n",
"V = 500;// in V\n",
"Rs = (V/Im)-Rm;//required multiplier resistance in ohm\n",
"Rs = Rs * 10^-3;// in k ohm\n",
"disp(Rs,'The required multiplier resistance in kΩ is');"
   ]
   }
],
"metadata": {
		  "kernelspec": {
		   "display_name": "Scilab",
		   "language": "scilab",
		   "name": "scilab"
		  },
		  "language_info": {
		   "file_extension": ".sce",
		   "help_links": [
			{
			 "text": "MetaKernel Magics",
			 "url": "https://github.com/calysto/metakernel/blob/master/metakernel/magics/README.md"
			}
		   ],
		   "mimetype": "text/x-octave",
		   "name": "scilab",
		   "version": "0.7.1"
		  }
		 },
		 "nbformat": 4,
		 "nbformat_minor": 0
}
