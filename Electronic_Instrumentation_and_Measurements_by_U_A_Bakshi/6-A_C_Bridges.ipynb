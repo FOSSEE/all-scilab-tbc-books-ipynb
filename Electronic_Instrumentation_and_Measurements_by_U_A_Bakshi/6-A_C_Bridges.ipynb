{
"cells": [
 {
		   "cell_type": "markdown",
	   "metadata": {},
	   "source": [
       "# Chapter 6: A C Bridges"
	   ]
	},
{
		   "cell_type": "markdown",
		   "metadata": {},
		   "source": [
			"## Example 6.10: Distributed_capacitance_and_inductance.sce"
		   ]
		  },
  {
"cell_type": "code",
	   "execution_count": null,
	   "metadata": {
	    "collapsed": true
	   },
	   "outputs": [],
"source": [
"// Exa 6.10\n",
"format('v',7);clc;clear;close;\n",
"// Given data\n",
"C1 = 550;// in pF\n",
"C2 = 110;// in pF\n",
"Cd = (C1-(4*C2))/3;// distributed capacitance in pF\n",
"disp(Cd,'The distributed capacitance in pF is');\n",
"Cd = Cd * 10^-12;// in F\n",
"C1 = C1 * 10^-12;// in F\n",
"f1 = 1.5;// in MHz\n",
"f1 = f1 * 10^6;// in Hz\n",
"// f1 = 1/(2*%pi*(sqrt( L*(C1+Cd))));\n",
"L = ((1/(2*%pi*f1))^2) * (1/(C1+Cd));// distributed inductance in H\n",
"L = L * 10^6;// in µH\n",
"disp(L,'The distributed inductance in µH is');"
   ]
   }
,
{
		   "cell_type": "markdown",
		   "metadata": {},
		   "source": [
			"## Example 6.11: Percentage_error_in_reading.sce"
		   ]
		  },
  {
"cell_type": "code",
	   "execution_count": null,
	   "metadata": {
	    "collapsed": true
	   },
	   "outputs": [],
"source": [
"// Exa 6.11\n",
"format('v',7);clc;clear;close;\n",
"// Given data\n",
"f = 1.5;//frequency in MHz\n",
"f = f * 10^6;// in Hz\n",
"C = 60;// in pF\n",
"C = C * 10^-12;// in F\n",
"R = 8;// in ohm\n",
"R_SH = 0.02;// in ohm\n",
"omega = 2*%pi*f;\n",
"Qactual = 1/(omega*C*R);// true value of Q\n",
"Qobserved = 1/(omega*C*(R+R_SH));// observed value of Q\n",
"PerError = ((Qactual-Qobserved)/Qactual) * 100;// Percentage error in %\n",
"disp(PerError,'The Percentage error in % is');"
   ]
   }
,
{
		   "cell_type": "markdown",
		   "metadata": {},
		   "source": [
			"## Example 6.12: Self_capacitance.sce"
		   ]
		  },
  {
"cell_type": "code",
	   "execution_count": null,
	   "metadata": {
	    "collapsed": true
	   },
	   "outputs": [],
"source": [
"// Exa 6.12\n",
"format('v',7);clc;clear;close;\n",
"// Given data\n",
"f1 = 2;//frequency in MHz\n",
"f1 = f1 * 10^6;// in Hz\n",
"C1 = 500;// in pF\n",
"C2 = 60;// in pF\n",
"// f1 = 1/(2*%pi*sqrrt(L*(C1+Cd)))  (i)\n",
"// f2 = 1/(2*%pi*sqrrt(L*(C2+Cd)))  (ii)\n",
"// and f2 = 2.5*f1      (iii)\n",
"//From eq(i),(ii) and (iii)\n",
"Cd = (C1 - (6.25*C2))/5.25;// value of self capacitance in pF\n",
"disp(Cd,'The value of self capacitance in pF is');"
   ]
   }
,
{
		   "cell_type": "markdown",
		   "metadata": {},
		   "source": [
			"## Example 6.13: Percentage_error.sce"
		   ]
		  },
  {
"cell_type": "code",
	   "execution_count": null,
	   "metadata": {
	    "collapsed": true
	   },
	   "outputs": [],
"source": [
"// Exa 6.13\n",
"format('v',7);clc;clear;close;\n",
"// Given data\n",
"f = 1;// in MHz\n",
"f = f * 10^6;// in Hz\n",
"omega = 2*%pi*f;// in rad/sec\n",
"C = 65;// in pF\n",
"C = C * 10^-12;// in F\n",
"R = 10;// in ohm\n",
"R_SH = 0.02;// in ohm\n",
"// Q = X_L/R = X_C/R = 1/(omega*C*R);\n",
"Qactual = 1/(omega*C*R);// True value of Q\n",
"Qmeasured = 1/(omega*C*(R+R_SH));// measured value of Q\n",
"PerError = ((Qactual-Qmeasured)/Qactual)*100;//percentage error in %\n",
"disp(PerError ,'The Percentage error in % is');"
   ]
   }
,
{
		   "cell_type": "markdown",
		   "metadata": {},
		   "source": [
			"## Example 6.14: Self_capacitance.sce"
		   ]
		  },
  {
"cell_type": "code",
	   "execution_count": null,
	   "metadata": {
	    "collapsed": true
	   },
	   "outputs": [],
"source": [
"// Exa 6.14\n",
"format('v',7);clc;clear;close;\n",
"// Given data\n",
"C1 = 450;//capacitance in pF\n",
"C1 = C1 * 10^-12;// in F\n",
"C2 = 60;//capacitance in pF\n",
"C2 = C2 * 10^-12;// in F\n",
"// f1 = 1/(2*%pi*(sqrt(L*(C1+Cd))))     (i)\n",
"// f2 = 1/(2*%pi*(sqrt(L*(C2+Cd))))     (ii)\n",
"// and f2 = 2.5*f1      (iii)\n",
"// from eq(i),(ii) and (iii)\n",
"Cd = (C1 - (6.25*C2))/5.25;// value of self capacitance in F\n",
"Cd = Cd * 10^12;// in pF\n",
"disp(Cd,'The value of self capacitance in pF is');"
   ]
   }
,
{
		   "cell_type": "markdown",
		   "metadata": {},
		   "source": [
			"## Example 6.15: Inductance_and_self_capacitance.sce"
		   ]
		  },
  {
"cell_type": "code",
	   "execution_count": null,
	   "metadata": {
	    "collapsed": true
	   },
	   "outputs": [],
"source": [
"// Exa 6.15\n",
"format('v',7);clc;clear;close;\n",
"// Given data\n",
"f1 = 8;//frequency in MHz\n",
"f1= f1*10^6;// in Hz\n",
"f2 = 12;//frequency in MHz\n",
"f2= f2*10^6;// in Hz\n",
"C1 = 120;//capacitance in pF\n",
"C1 = C1 * 10^-12;// in F\n",
"C2 = 40;//capacitance in pF\n",
"C2 = C2 * 10^-12;// in F\n",
"// f1 = 1/(2*%pi*(sqrt(L*(C1+Cd))))     (i)\n",
"// f2 = 1/(2*%pi*(sqrt(L*(C2+Cd))))     (ii)\n",
"// From eq(i) and (ii)\n",
"Cd= (f2^2*C2-f1^2*C1)/(f1^2-f2^2);// in F\n",
"// From eq(i)\n",
"C=C1+Cd;\n",
"L=1/((C1+Cd)*(2*%pi*f1)^2);// inductance in H\n",
"L= L*10^6;// in µH\n",
"Cd= Cd*10^12;// self capacitance in pF\n",
"disp(Cd,'The self capacitance in pF is');\n",
"disp(L,'The inductance in µH is : ')"
   ]
   }
,
{
		   "cell_type": "markdown",
		   "metadata": {},
		   "source": [
			"## Example 6.16: Inductance_and_self_capacitance.sce"
		   ]
		  },
  {
"cell_type": "code",
	   "execution_count": null,
	   "metadata": {
	    "collapsed": true
	   },
	   "outputs": [],
"source": [
"// Exa 6.16\n",
"format('v',7);clc;clear;close;\n",
"// Given data\n",
"f1 = 1;//frequency in MHz\n",
"f1= f1*10^6;// in Hz\n",
"f2 = 2;//frequency in MHz\n",
"f2= f2*10^6;// in Hz\n",
"C1 = 500;//capacitance in pF\n",
"C1 = C1 * 10^-12;// in F\n",
"C2 = 110;//capacitance in pF\n",
"C2 = C2 * 10^-12;// in F\n",
"// f1 = 1/(2*%pi*(sqrt(L*(C1+Cd))))     (i)\n",
"// f2 = 1/(2*%pi*(sqrt(L*(C2+Cd))))     (ii)\n",
"// From eq(i) and (ii)\n",
"Cd= (f2^2*C2-f1^2*C1)/(f1^2-f2^2);// in F\n",
"// From eq(i)\n",
"C=C1+Cd;\n",
"L=1/((C1+Cd)*(2*%pi*f1)^2);// in H\n",
"L= L*10^6;//inductance in µH\n",
"Cd= Cd*10^12;// self capacitance in pF\n",
"disp(Cd,'The self capacitance in pF is');\n",
"disp(L,'The inductance in µH is : ')"
   ]
   }
,
{
		   "cell_type": "markdown",
		   "metadata": {},
		   "source": [
			"## Example 6.17: Constant_of_arm_CD.sce"
		   ]
		  },
  {
"cell_type": "code",
	   "execution_count": null,
	   "metadata": {
	    "collapsed": true
	   },
	   "outputs": [],
"source": [
"// Exa 6.17\n",
"format('v',7);clc;clear;close;\n",
"// Given data\n",
"f = 1;//frequency in kHz\n",
"f = f * 10^3;// in Hz\n",
"R1 = 400;//resistance in ohm\n",
"R2 = 150;//resistance in ohm\n",
"C2 = 0.2;//capacitance in µF\n",
"C2 = C2 * 10^-6;// in F\n",
"XC2= 1/(2*%pi*f*C2);\n",
"R3 = 100;//resistance in ohm\n",
"L3 = 10;//inductance in mH\n",
"L3 = L3 * 10^-3;// in H\n",
"XL3= 2*%pi*f*L3;\n",
"Z1= R1+%i*0;// in Ω\n",
"Z2= R2-%i*XC2;// in Ω\n",
"Z3= R3+%i*XL3;// in Ω\n",
"Z4= Z2*Z3/Z1;// in Ω\n",
"R4= real(Z4);//resistance in Ω\n",
"XC4= abs(imag(Z4));// in Ω\n",
"C4= 1/(2*%pi*f*XC4);// in F\n",
"C4= C4*10^6;// in µF\n",
"disp('The components of branch CD : ')\n",
"disp('R4= '+string(R4)+' Ω')\n",
"disp('C4= '+string(C4)+' µF')"
   ]
   }
,
{
		   "cell_type": "markdown",
		   "metadata": {},
		   "source": [
			"## Example 6.18: Equivalent_series_circuit_of_unknown_impedance.sce"
		   ]
		  },
  {
"cell_type": "code",
	   "execution_count": null,
	   "metadata": {
	    "collapsed": true
	   },
	   "outputs": [],
"source": [
"// Exa 6.18\n",
"format('v',7);clc;clear;close;\n",
"// Given data\n",
"C3 = 10;//capacitance in µF\n",
"C3 = C3 * 10^-6;// in F\n",
"R1 = 1.2;//resistance in  k ohm\n",
"R1 = R1 * 10^3;// in ohm\n",
"R2 = 100;//resistance in k ohm\n",
"R2 = R2 * 10^3;// in ohm\n",
"R3 = 120;//resistance in k ohm\n",
"R3 = R3 * 10^3;// in ohm\n",
"Rx = (R2*R3)/R1;//resistance of unknown impedance  in ohm\n",
"Rx = Rx * 10^-6;// in M ohm\n",
"disp(Rx,'The resistance of unknown impedance in MΩ is');\n",
"Cx = (R1*C3)/R2;//capacitance of unknown impedance  in F\n",
"Cx = Cx * 10^6;// in µF\n",
"disp(Cx,'The capacitance of unknown impedance in µF is');"
   ]
   }
,
{
		   "cell_type": "markdown",
		   "metadata": {},
		   "source": [
			"## Example 6.19: Constant_of_arm_CD.sce"
		   ]
		  },
  {
"cell_type": "code",
	   "execution_count": null,
	   "metadata": {
	    "collapsed": true
	   },
	   "outputs": [],
"source": [
"// Exa 6.19\n",
"format('v',7);clc;clear;close;\n",
"// Given data\n",
"f = 1000;//frequency in Hz\n",
"C1 = 0.2;//capacitance in µF\n",
"C1 = C1 * 10^-6;// in F\n",
"XC1= 1/(2*%pi*f*C1);\n",
"R2= 500;// in Ω\n",
"R3= 300;// in Ω\n",
"C3= 0.1*10^-6;// in F\n",
"XC3= 1/(2*%pi*f*C3);\n",
"omega = 2*%pi*f;// in rad/sec\n",
"Z1= 0-%i*XC1;// in Ω\n",
"Z2= R2;// in Ω\n",
"Y3= 1/R3+%i*1/XC3;// in Ω\n",
"Z3= R3*XC3/(R3+XC3);// in Ω\n",
"Z4= Z2/(Z1*Y3);// in Ω\n",
"R4= real(Z4);// in Ω\n",
"XL4= abs(imag(Z4));// in Ω\n",
"L4= XL4/(2*%pi*f);// in F\n",
"L4= L4*10^3;// in mH\n",
"disp('The components of branch CD : ')\n",
"disp('Rx= '+string(R4)+' Ω')\n",
"disp('Lx= '+string(L4)+' mH')\n",
"\n",
"\n",
""
   ]
   }
,
{
		   "cell_type": "markdown",
		   "metadata": {},
		   "source": [
			"## Example 6.1: Constant_of_unknown_impedence.sce"
		   ]
		  },
  {
"cell_type": "code",
	   "execution_count": null,
	   "metadata": {
	    "collapsed": true
	   },
	   "outputs": [],
"source": [
"// Exa 6.1\n",
"format('v',7);clc;clear;close;\n",
"// Given data\n",
"Z1 = 50;// in ohm\n",
"Z2 = 250;// in ohm\n",
"Z3 = 200;// in ohm\n",
"theta1 = 80;// in degree\n",
"theta2 = 0;// in degree\n",
"theta3 = 30;// in degree\n",
"//bridge balance equation, Z1*Z4 = Z2*Z3;\n",
"Z4 = (Z2*Z3)/Z1;// in ohm\n",
"//phase angle condition, theta1+theta4 = theta2+theta3;\n",
"theta4 = theta2+theta3-theta1;// in degree\n",
"Z4=Z4*expm(%i*theta4*%pi/180);\n",
"disp('The resistance part of Z4 is '+string(real(Z4))+' Ω while ')\n",
"disp(' it is in series with capacitive reactance of '+string(abs(imag(Z4)))+' Ω')"
   ]
   }
,
{
		   "cell_type": "markdown",
		   "metadata": {},
		   "source": [
			"## Example 6.20: Unknown_impedence.sce"
		   ]
		  },
  {
"cell_type": "code",
	   "execution_count": null,
	   "metadata": {
	    "collapsed": true
	   },
	   "outputs": [],
"source": [
"// Exa 6.20\n",
"format('v',7);clc;clear;close;\n",
"// Given data\n",
"f = 2;// in kHz\n",
"f = f * 10^3;// in Hz\n",
"omega = 2*%pi*f;// in rad/sec\n",
"Z1 = 10;// in k ohm\n",
"Z2 = 50;// in k ohm\n",
"R3 = 100;// in k ohm\n",
"C3 = 100;// in µF\n",
"C3 = C3 * 10^-6;// in F\n",
"XC3= 1/(2*%pi*f*C3);\n",
"Z3= R3-%i*XC3;// in Ω\n",
"// From balance equation, Z1*Z4= Z2*Z3\n",
"Z4= Z2*Z3/Z1;// in Ω\n",
"R4= real(Z4);// in kΩ\n",
"XC4= abs(imag(Z4));// in kΩ\n",
"C4= 1/(2*%pi*f*XC4);// in F\n",
"C4= C4*10^6;// in µF\n",
"disp('The components of branch DC : ')\n",
"disp('Rx= '+string(R4)+' kΩ')\n",
"disp('Cx= '+string(C4)+' µF')\n",
"\n",
""
   ]
   }
,
{
		   "cell_type": "markdown",
		   "metadata": {},
		   "source": [
			"## Example 6.21: Constant_of_Zx.sce"
		   ]
		  },
  {
"cell_type": "code",
	   "execution_count": null,
	   "metadata": {
	    "collapsed": true
	   },
	   "outputs": [],
"source": [
"// Exa 6.21\n",
"format('v',7);clc;clear;close;\n",
"// Given data\n",
"f = 1;// in kHz\n",
"f = f * 10^3;// in Hz\n",
"omega = 2*%pi*f;// in rad/sec\n",
"Z1 = 200;// in ohm\n",
"R2 = 200;// in ohm\n",
"C2 = 5;// in µF\n",
"C2 = C2 * 10^-6;// in F\n",
"XC2= 1/(2*%pi*f*C2);\n",
"Z2= R2-%i*XC2;// in Ω\n",
"R3 = 500;// in ohm\n",
"C3 = 0.2;// in µF\n",
"C3 = C3 * 10^-6;// in F\n",
"XC3= 1/(2*%pi*f*C3);\n",
"Z3= R3-%i*XC3;// in Ω\n",
"// From balance equation, Z1*Z4= Z2*Z3\n",
"Z4= Z2*Z3/Z1;// in Ω\n",
"R4= real(Z4);// in Ω\n",
"XC4= abs(imag(Z4));// in Ω\n",
"C4= 1/(2*%pi*f*XC4);// in F\n",
"C4= C4*10^6;// in µF\n",
"disp('The components of Zx : ')\n",
"disp('Rx= '+string(R4)+' Ω')\n",
"disp('Cx= '+string(C4)+' nF')\n",
"\n",
""
   ]
   }
,
{
		   "cell_type": "markdown",
		   "metadata": {},
		   "source": [
			"## Example 6.22: Constant_of_Zx.sce"
		   ]
		  },
  {
"cell_type": "code",
	   "execution_count": null,
	   "metadata": {
	    "collapsed": true
	   },
	   "outputs": [],
"source": [
"// Exa 6.22\n",
"format('v',7);clc;clear;close;\n",
"// Given data\n",
"f = 1;// in kHz\n",
"f = f * 10^3;// in Hz\n",
"omega = 2*%pi*f;// in rad/sec\n",
"Z1 = 1.65;// in k ohm\n",
"Z2 = 15.3;// in k ohm\n",
"R3 = 2.5;// in k ohm\n",
"C3 = 10;// in µF\n",
"C3 = C3 * 10^-6;// in F\n",
"XC3= 1/(2*%pi*f*C3);\n",
"Z3= R3-%i*XC3;// in Ω\n",
"// From balance equation, Z1*Z4= Z2*Z3\n",
"Z4= Z2*Z3/Z1;// in Ω\n",
"R4= real(Z4);// in kΩ\n",
"XC4= abs(imag(Z4));// in kΩ\n",
"C4= 1/(2*%pi*f*XC4);// in F\n",
"C4= C4*10^6;// in µF\n",
"disp('The components of branch DC : ')\n",
"disp('Rx= '+string(R4)+' kΩ')\n",
"disp('Cx= '+string(C4)+' µF')\n",
"\n",
""
   ]
   }
,
{
		   "cell_type": "markdown",
		   "metadata": {},
		   "source": [
			"## Example 6.23: Inductance_of_Rx_and_Lx_at_balance.sce"
		   ]
		  },
  {
"cell_type": "code",
	   "execution_count": null,
	   "metadata": {
	    "collapsed": true
	   },
	   "outputs": [],
"source": [
"// Exa 6.23\n",
"format('v',7);clc;clear;close;\n",
"// Given data\n",
"f = 1;// in kHz\n",
"f = f * 10^3;// in Hz\n",
"R1 = 600;// in ohm\n",
"C1 = 1;// in µF\n",
"C1 = C1 * 10^-6;// in F\n",
"XC1= 1/(2*%pi*f*C1);\n",
"R2 = 100;// in ohm\n",
"R3 = 1;// in k ohm\n",
"R3 = R3 * 10^3;// in ohm\n",
"omega = 2*%pi*f;// in rad/sec\n",
"Y1= 1/R1+%i*1/XC1;// in Ω\n",
"Z2=R2;// in Ω\n",
"Z3= R3;// in Ω\n",
"// From balance equation, Z1*Z4= Z2*Z3\n",
"Z4= Z2*(Z3*Y1);// in Ω\n",
"R4= real(Z4);// in Ω\n",
"XL4= abs(imag(Z4));// in Ω\n",
"L4= XL4/(2*%pi*f);// in F\n",
"disp('Rx= '+string(R4)+' Ω')\n",
"disp('Lx= '+string(L4)+' H')\n",
"\n",
"\n",
"\n",
"\n",
""
   ]
   }
,
{
		   "cell_type": "markdown",
		   "metadata": {},
		   "source": [
			"## Example 6.24: Unknown_parameters_in_arm_AB.sce"
		   ]
		  },
  {
"cell_type": "code",
	   "execution_count": null,
	   "metadata": {
	    "collapsed": true
	   },
	   "outputs": [],
"source": [
"// Exa 6.24\n",
"format('v',7);clc;clear;close;\n",
"// Given data\n",
"R2 = 842;//resistance in ohm\n",
"C2 = 0.135;//capacitance in µF\n",
"C2 = C2 * 10^-6;// in F\n",
"f=1000;//frequency in Hz\n",
"XC2= 1/(2*%pi*f*C2);\n",
"R3= 10;//resistance in ohm\n",
"C4= 1*10^-6;//capacitance in F\n",
"XC4= 1/(2*%pi*f*C4);\n",
"Z2= R2-%i*XC2;//impedance in ohm\n",
"Z3= R3;//impedance in ohm\n",
"Z4= -%i*XC4;//impedance in ohm\n",
"// From balance equation\n",
"Z1= Z2*Z3/Z4;// in Ω\n",
"R1= real(Z1);// in Ω\n",
"XL1= abs(imag(Z1));// in Ω\n",
"L1= XL1/(2*%pi*f);// in F\n",
"L1= L1*10^3;// in mH\n",
"disp(R1,'The value of R1 in Ω is : ')\n",
"disp(L1,'The value of L1 in mH is : ')\n",
"\n",
"\n",
""
   ]
   }
,
{
		   "cell_type": "markdown",
		   "metadata": {},
		   "source": [
			"## Example 6.25: Resistance_and_inductance_of_coil.sce"
		   ]
		  },
  {
"cell_type": "code",
	   "execution_count": null,
	   "metadata": {
	    "collapsed": true
	   },
	   "outputs": [],
"source": [
"// Exa 6.25\n",
"format('v',7);clc;clear;close;\n",
"// Given data\n",
"L2 = 47.8;//inductance in mH\n",
"R2 = 1.36;//resistance in ohm\n",
"r1 = 32.7;//resistance in ohm\n",
"R1 = 1.36;//resistance in ohm\n",
"//At balance, 100*(r1+J*oemga*L1) = 100*((R2+r2)+(J*omega*L2));\n",
" L1 = L2;// in mH (equating imaginary terms)\n",
"disp(L1,'The inductance of coil in mH is');\n",
"// R2+r2 = r1 (equating real terms)\n",
"r2 = r1-R1;//resistance of coil in ohm\n",
"disp(r2,'The resistance of coil in ohm is');\n",
"\n",
"// Note: In the book the value of L1 is wrong."
   ]
   }
,
{
		   "cell_type": "markdown",
		   "metadata": {},
		   "source": [
			"## Example 6.26: Resistance_and_inductance_of_coil.sce"
		   ]
		  },
  {
"cell_type": "code",
	   "execution_count": null,
	   "metadata": {
	    "collapsed": true
	   },
	   "outputs": [],
"source": [
"// Exa 6.26\n",
"format('v',7);clc;clear;close;\n",
"// Given data\n",
"R=1.36;//resistance in ohm\n",
"r2= 32.7;//resistance in ohm\n",
"L2= 47.8;//inductance in mH\n",
"L2= L2*10^-3;// in H\n",
"f=1000;//frequency in Hz\n",
"XL2=2*%pi*f*L2;// in Ω\n",
"Z3 = 100;// in ohm\n",
"Z4 = 100;// in ohm\n",
"Z2= r2+%i*XL2;// in ohm\n",
"// Under balance condition\n",
"Z1= Z2*Z3/Z4;// in ohm\n",
"R1= real(Z1);\n",
"r1= R1-R;//resistance of the coil in ohm\n",
"XL1= imag(Z1);// in ohm\n",
"L1= XL1/(2*%pi*f);//inductance of the coil in F\n",
"L1= L1*10^3;// in mH\n",
"disp(r1,'The resistance of the coil in Ω is : ')\n",
"disp(L1,'The inductance of the coil in mH is : ')"
   ]
   }
,
{
		   "cell_type": "markdown",
		   "metadata": {},
		   "source": [
			"## Example 6.27: Whether_or_not_the_bridge_is_complete_balance.sce"
		   ]
		  },
  {
"cell_type": "code",
	   "execution_count": null,
	   "metadata": {
	    "collapsed": true
	   },
	   "outputs": [],
"source": [
"// Exa 6.27\n",
"format('v',7);clc;clear;close;\n",
"// Given data\n",
"Z1 = 400;// in ohm\n",
"Z2 = 200;// in ohm\n",
"Z3 = 800;// in ohm\n",
"Z4 = 400;// in ohm\n",
"theta1 = 50;// in degree\n",
"theta2 = 40;// in degree\n",
"theta3 = -50;// in degree\n",
"theta4 = 20;// in degree\n",
"if abs(Z1*Z4)== abs(Z3*Z2) then // Applying the condition of balance for magnitude\n",
"    flag1=1;\n",
"    disp('The condition of balance for magnitude is satisfied')\n",
"else\n",
"    flag1=0\n",
"    disp('The condition of balance for magnitude is not satisfied')\n",
"end\n",
"if theta1+theta4==theta2+theta3 then // Applying the condition of balance for phases\n",
"    flag2=1\n",
"    disp('The condition of balance for phase is also satisfied')\n",
"else\n",
"    flag2=0\n",
"    disp('But the condition of balance for phase is not satisfied')\n",
"end\n",
"if flag1==1 then\n",
"    if flag2==1 then\n",
"        disp('Hence the bridge is under balanced condition')\n",
"    else\n",
"        disp('Hence the bridge is not under balanced condition')\n",
"    end\n",
"else\n",
"        disp('Hence the bridge is not under balanced condition')    \n",
"end"
   ]
   }
,
{
		   "cell_type": "markdown",
		   "metadata": {},
		   "source": [
			"## Example 6.28: Whether_or_not_the_bridge_is_complete_balance.sce"
		   ]
		  },
  {
"cell_type": "code",
	   "execution_count": null,
	   "metadata": {
	    "collapsed": true
	   },
	   "outputs": [],
"source": [
"// Exa 6.28\n",
"format('v',7);clc;clear;close;\n",
"// Given data\n",
"Z1 = 200;// in ohm\n",
"Z2 = 400;// in ohm\n",
"Z3 = 300;// in ohm\n",
"Z4 = 600;// in ohm\n",
"theta1 = 60;// in degree\n",
"theta2 = -60;// in degree\n",
"theta3 = 0;// in degree\n",
"theta4 = 30;// in degree\n",
"if abs(Z1*Z4)== abs(Z3*Z2) then // Applying the condition of balance for magnitude\n",
"    flag1=1;\n",
"    disp('The condition of balance for magnitude is satisfied')\n",
"else\n",
"    flag1=0\n",
"    disp('The condition of balance for magnitude is not satisfied')\n",
"end\n",
"if theta1+theta4==theta2+theta3 then // Applying the condition of balance for phases\n",
"    flag2=1\n",
"    disp('The condition of balance for phase is also satisfied')\n",
"else\n",
"    flag2=0\n",
"    disp('But the condition of balance for phase is not satisfied')\n",
"end\n",
"if flag1==1 then\n",
"    if flag2==1 then\n",
"        disp('Hence the bridge is under balanced condition')\n",
"    else\n",
"        disp('Hence the bridge is not under balanced condition')\n",
"    end\n",
"else\n",
"        disp('Hence the bridge is not under balanced condition')    \n",
"end"
   ]
   }
,
{
		   "cell_type": "markdown",
		   "metadata": {},
		   "source": [
			"## Example 6.29: R_L_and_C_constant_of_arm_CD.sce"
		   ]
		  },
  {
"cell_type": "code",
	   "execution_count": null,
	   "metadata": {
	    "collapsed": true
	   },
	   "outputs": [],
"source": [
"// Exa 6.29\n",
"format('v',7);clc;clear;close;\n",
"// Given data\n",
"f = 1;//frequency in kHz\n",
"f = f * 10^3;// in Hz\n",
"C1 = 0.2;// in µF\n",
"C1 = C1 * 10^-6;// in F\n",
"XC1= 1/(2*%pi*f*C1);// in Ω\n",
"C2 = 0.1;// in µF\n",
"C2 = C2 * 10^-6;// in F\n",
"XC2= 1/(2*%pi*f*C2);// in Ω\n",
"R2= 300;// in Ω\n",
"R3= 500;// in Ω\n",
"Z1= 0-%i*XC1;// in Ω\n",
"Z2= R2*-%i*XC2/(R2-%i*XC2);// in Ω\n",
"Z3=R3;// in Ω\n",
"// For balanced condition\n",
"Z4= Z2*Z3/Z1;// in Ω\n",
"R4= real(Z4);// in Ω\n",
"XL4= imag(Z4);// in Ω\n",
"L4= XL4/(2*%pi*f);// in H\n",
"L4= L4*10^3;// in mH\n",
"disp('Components of arm CD : ')\n",
"disp('L4= '+string(L4)+' mH')\n",
"disp('R4= '+string(R4)+' Ω')"
   ]
   }
,
{
		   "cell_type": "markdown",
		   "metadata": {},
		   "source": [
			"## Example 6.2: Whether_or_not_the_bridge_is_complete_balance.sce"
		   ]
		  },
  {
"cell_type": "code",
	   "execution_count": null,
	   "metadata": {
	    "collapsed": true
	   },
	   "outputs": [],
"source": [
"// Exa 6.2\n",
"format('v',7);clc;clear;close;\n",
"// Given data\n",
"Z1 = 50;// in ohm\n",
"Z2 = 100;// in ohm\n",
"Z3 = 15;// in ohm\n",
"Z4 = 30;// in ohm\n",
"theta1 = 40;// in degree\n",
"theta2 = -90;// in degree\n",
"theta3 = 45;// in degree\n",
"theta4 = 30;// in degree\n",
"if abs(Z1*Z4)== abs(Z3*Z2) then\n",
"    flag1=1;\n",
"    disp('The condition of balance for magnitude is satisfied')\n",
"else\n",
"    flag1=0\n",
"    disp('The condition of balance for magnitude is not satisfied')\n",
"end\n",
"if theta1+theta4==theta2+theta3 then\n",
"    flag2=1\n",
"    disp('The condition of balance for phase is also satisfied')\n",
"else\n",
"    flag2=0\n",
"    disp('But the condition of balance for phase is not satisfied')\n",
"end\n",
"if flag1==1 then\n",
"    if flag2==1 then\n",
"        disp('Hence the bridge is under balanced condition')\n",
"    else\n",
"        disp('Hence the bridge is not under balanced condition')\n",
"    end\n",
"else\n",
"        disp('Hence the bridge is not under balanced condition')    \n",
"end"
   ]
   }
,
{
		   "cell_type": "markdown",
		   "metadata": {},
		   "source": [
			"## Example 6.30: Resistance_and_inductance.sce"
		   ]
		  },
  {
"cell_type": "code",
	   "execution_count": null,
	   "metadata": {
	    "collapsed": true
	   },
	   "outputs": [],
"source": [
"// Exa 6.30\n",
"format('v',7);clc;clear;close;\n",
"// Given data\n",
"R3 = 100;// in ohm\n",
"R4 = 200;// in ohm\n",
"R2 = 250;// in ohm\n",
"C = 1;// in µF\n",
"C = C * 10^-6;// in F\n",
"r = 229.7;// in ohm\n",
"r1 = 43.1;// in ohm\n",
"// Value of unknown resistance for Anderson's bridge\n",
"R1 = ((R2*R3)/R4) - r1;//resistance in ohm\n",
"disp(R1,'The resistance in ohm is');\n",
"L1 = ((C*R3)/R4) * ( ((R2+R4)*r) + (R2*R4) );//inductance in H\n",
"L1 = L1 * 10^3;// in mH\n",
"disp(L1,'The inductance in mH is');\n",
""
   ]
   }
,
{
		   "cell_type": "markdown",
		   "metadata": {},
		   "source": [
			"## Example 6.31: Value_of_C1_and_r1.sce"
		   ]
		  },
  {
"cell_type": "code",
	   "execution_count": null,
	   "metadata": {
	    "collapsed": true
	   },
	   "outputs": [],
"source": [
"// Exa 6.31\n",
"format('v',7);clc;clear;close;\n",
"// Given data\n",
"f = 450;//frequency in Hz\n",
"omega = 2*%pi*f;// in rad/sec\n",
"R2 = 4.8;// in ohm\n",
"R3 = 200;// in ohm\n",
"R4 = 2850;// in ohm\n",
"C2 = 0.5;// in µF\n",
"C2 = C2*10^-6;// in F\n",
"XC2= 1/(2*%pi*f*C2);// in Ω\n",
"r2 = 0.4;// in ohm\n",
"Z2= (R2+r2)-%i*XC2;// in Ω\n",
"Z3= R3;// in Ω\n",
"Z4= R4;// in Ω\n",
"// For balanced condition\n",
"Z1= Z2*Z3/Z4;// in Ω\n",
"r1= real(Z1);// in Ω\n",
"XC1= abs(imag(Z1));// in Ω\n",
"C1= 1/(2*%pi*f*XC1);// in F\n",
"Df= 2*%pi*f*C1*r1;// dissipating factor\n",
"C1= C1*10^6;// in µF\n",
"disp(r1,'The value of r1 in Ω is : ')\n",
"disp(C1,'The value of C1 in µF is : ')\n",
"disp(Df,'The dissipating factor is : ')\n",
"\n",
""
   ]
   }
,
{
		   "cell_type": "markdown",
		   "metadata": {},
		   "source": [
			"## Example 6.32: Effective_impedance_of_the_specimen.sce"
		   ]
		  },
  {
"cell_type": "code",
	   "execution_count": null,
	   "metadata": {
	    "collapsed": true
	   },
	   "outputs": [],
"source": [
"// Exa 6.32\n",
"format('v',7);clc;clear;close;\n",
"// Given data\n",
"f = 2;//frequency in kHz\n",
"f = f * 10^3;// in Hz\n",
"omega = 2*%pi*f;// in rad/sec\n",
"R2 = 834;//resistance in ohm\n",
"C2 = 0.124;//capacitance in µF\n",
"C2 = C2 * 10^-6;// in F\n",
"XC2= 1/(2*%pi*f*C2);// in Ω\n",
"R3= 100;//resistane in Ω\n",
"C4= 0.1*10^-6;//capacitance in F\n",
"XC4= 1/(2*%pi*f*C4);// in Ω\n",
"Z2= R2-%i*XC2;// in Ω\n",
"Z3=R3;// in Ω\n",
"Z4= 0-%i*XC4;// in Ω\n",
"// For balanced condition, effective impedance   \n",
"Z1= Z2*Z3/Z4;//in Ω\n",
"disp(Z1,'The effective impedance in Ω is : ')\n",
"\n",
"\n",
"\n",
""
   ]
   }
,
{
		   "cell_type": "markdown",
		   "metadata": {},
		   "source": [
			"## Example 6.33: Largest_value_of_Rx_and_Lx.sce"
		   ]
		  },
  {
"cell_type": "code",
	   "execution_count": null,
	   "metadata": {
	    "collapsed": true
	   },
	   "outputs": [],
"source": [
"// Exa 6.33\n",
"format('v',7);clc;clear;close;\n",
"// Given data\n",
"R1= 20*10^3;//resistance in ohm\n",
"R2= 50*10^3;//resistance in ohm\n",
"C2= 0.003*10^-6;//capacitance in F\n",
"R4= 10*10^3;//resistance in ohm\n",
"C1= 150*10^-12;//capacitance in F\n",
"omega= 10^6;// in rad/sec\n",
"Z1= R1/(1+%i*omega*C1*R1);// in ohm\n",
"Z2= (1+%i*omega*C2*R2)/(%i*omega*C2);// in ohm\n",
"// At balance condition : Z1*R4 = Z2*(Rx+%i*omega*Lx) or\n",
"// R4= omega^2*R1*C2*(R1*R4*C1-Lx)      (i)\n",
"// R4= R1*(Rx*C2-R4*C1)/(R2*C2)             (ii)\n",
"Rx= R4*(R1*C1+R2*C2)/(R1*C2);// in Ω from eq(ii)\n",
"Lx= R4*(R2*C1-1/(omega^2*R1*C2));// in H from eq (i)\n",
"Rx= Rx*10^-3;// in k ohm\n",
"Lx= Lx*10^3;// in mH\n",
"disp(Rx,'The value of Rx in kΩ is : ')\n",
"disp(Lx,'The value of Lx in mH is : ')\n",
"\n",
"// Note: The calculated value of Rx will be as in kΩ not in only Ω, so the answer in the book is wrong."
   ]
   }
,
{
		   "cell_type": "markdown",
		   "metadata": {},
		   "source": [
			"## Example 6.34: Value_of_R1_and_L1.sce"
		   ]
		  },
  {
"cell_type": "code",
	   "execution_count": null,
	   "metadata": {
	    "collapsed": true
	   },
	   "outputs": [],
"source": [
"// Exa 6.34\n",
"format('v',7);clc;clear;close;\n",
"// Given data\n",
"R2 = 1000;//resistance in Ω\n",
"R3 = 1000;//resistance in Ω\n",
"R4 = 1000;//resistance in Ω\n",
"C4 = 0.5;//capacitance in µF\n",
"C4 = C4 * 10^-6;// in F\n",
"//At balance, (R1+(%i*omega*L1))*(R4/( 1+(%i*omega*C4*R4) )) = R2*R3;\n",
"// R1*R4 + (%i*omega*L1*R4) = (R2*R3) + (%i*omega*R2*R4*C4);\n",
"R1 = (R2*R3)/R4;// in Ω (equating real terms)\n",
"L1 = R2*R3*C4;// in H (equating imaginary terms)\n",
"disp(R1,'The value of R1 in ohm is');\n",
"disp(L1,'The value of L1 in H is');\n",
"\n",
"\n",
"\n",
"\n",
"\n",
""
   ]
   }
,
{
		   "cell_type": "markdown",
		   "metadata": {},
		   "source": [
			"## Example 6.35: Capacitance_power_factor_and_permittivity.sce"
		   ]
		  },
  {
"cell_type": "code",
	   "execution_count": null,
	   "metadata": {
	    "collapsed": true
	   },
	   "outputs": [],
"source": [
"// Exa 6.35\n",
"format('v',7);clc;clear;close;\n",
"// Given data\n",
"R3 = 260;//resistance in ohm\n",
"C4 = 0.5;// in µF\n",
"C4 = C4 * 10^-6;// in F\n",
"C2 = 106;// in pF\n",
"C2 = C2 * 10^-12;// in F\n",
"R4 = 1000/%pi;//resistance in ohm\n",
"r1 = (C4/C2)*R3;//resistance in ohm\n",
"C1 = (R4/R3)*C2;// in F\n",
"Epsilon_o = 8.854*10^-12;\n",
"d = 4.5// in mm\n",
"d = d * 10^-3;// in m\n",
"D= 0.12;// in m\n",
"A= %pi*D^2/4;// in m^2\n",
"disp(r1,'The resistance in Ω is :')\n",
"C1= C1*10^12;// in pF\n",
"disp(C1,'The capacitance in pF is');\n",
"C1= C1*10^-12;// in F\n",
"f = 50;// in Hz\n",
"omega = 2*%pi*f;// in rad/sec\n",
"Pf= omega*C1*r1;// power factor\n",
"disp(Pf,'The power factor is');\n",
"// C1 = Epsilon_r*Epsilon_o*(A/d);\n",
"Epsilon_r = (C1*d)/(Epsilon_o*A);// the relative permittivity \n",
"disp(Epsilon_r,'The relative permittivity is');\n",
"\n",
"// Note: The calculation of evaluating the value of C1 is wrong, so the answer of C1 in the book is wrong. But they putted the correct value of C1 to find the value of relative permittivity"
   ]
   }
,
{
		   "cell_type": "markdown",
		   "metadata": {},
		   "source": [
			"## Example 6.36: Capacitance_and_dielectric_loss_angle_of_capacitor.sce"
		   ]
		  },
  {
"cell_type": "code",
	   "execution_count": null,
	   "metadata": {
	    "collapsed": true
	   },
	   "outputs": [],
"source": [
"// Exa 6.36\n",
"format('v',7);clc;clear;close;\n",
"// Given data\n",
"C2 = 500;// capacitance in nF\n",
"C2 = C2 * 10^-9;// in F\n",
"f = 50;//frequency in Hz\n",
"omega = 2*%pi*f;// in rad/sec\n",
"C4 = 0.148;//capacitance in µF\n",
"C4 = C4 * 10^-6;// in F\n",
"R4 = 72.6;//resistance in ohm\n",
"R3 = 300;//resistance in ohm\n",
"C1 = C2*(R4/R3);// capacitance in F\n",
"C1 = C1 * 10^6;// in µF\n",
"disp(C1,'The capacitance in µF is');\n",
"delta = atand(omega*C4*R4);//dielectric loss angle of capacitance in degree\n",
"disp(delta,'The dielectric loss angle of capacitance in degree is');\n",
"\n",
"// Note: The calculation in the book is wrong, so the answer in the book is wrong."
   ]
   }
,
{
		   "cell_type": "markdown",
		   "metadata": {},
		   "source": [
			"## Example 6.37: Self_capacitance.sce"
		   ]
		  },
  {
"cell_type": "code",
	   "execution_count": null,
	   "metadata": {
	    "collapsed": true
	   },
	   "outputs": [],
"source": [
"// Exa 6.37\n",
"format('v',7);clc;clear;close;\n",
"// Given data\n",
"f1 = 3;//frequency in MHz\n",
"f1 = f1 * 10^6;// in Hz\n",
"C1 = 251;//capacitance in pF\n",
"C1 = C1  * 10^-12;// in F\n",
"f2 = 6;//frequency in MHz\n",
"f2 = f2 * 10^6;// in Hz\n",
"C2 = 50;//capacitance in pF\n",
"C2 = C2 * 10^-12;// in F\n",
"// f1 = 1/(2*%pi*(sqrt(L*(C1+Cd))) )    (i)\n",
"// f2 = 1/(2*%pi*(sqrt(L*(C2+Cd))) )    (ii)\n",
"// From eq(i) and (ii)\n",
"Cd = (C1 - (4*C2))/3;// self capacitance of the coil in F\n",
"Cd = Cd * 10^12;// in pF\n",
"disp(Cd,'The self capacitance of the coil in pF is');"
   ]
   }
,
{
		   "cell_type": "markdown",
		   "metadata": {},
		   "source": [
			"## Example 6.38: Resistance_and_inductance_of_choke_coil.sce"
		   ]
		  },
  {
"cell_type": "code",
	   "execution_count": null,
	   "metadata": {
	    "collapsed": true
	   },
	   "outputs": [],
"source": [
"// Exa 6.38\n",
"format('v',7);clc;clear;close;\n",
"// Given data\n",
"f=500;//frequency in Hz\n",
"R2 = 2410;//resistance in ohm\n",
"R3 = 750;//resistance in ohm\n",
"R4 = 64.5;//resistance in ohm\n",
"R_C4 = 0.4;//resistance in ohm\n",
"C4 = 0.35;//capacitance in µF\n",
"C4 = C4 * 10^-6;// in F\n",
"XC4= 1/(2*%pi*f*C4);// in Ω\n",
"Z4= R4+R_C4-%i*XC4;// in Ω\n",
"Z2= R2;// in Ω\n",
"Z3= R3;// in Ω\n",
"Z1= Z2*Z3/Z4;// in Ω\n",
"R1= real(Z1);//resistance of choke coil  in Ω\n",
"XL1= imag(Z1);// in Ω\n",
"L1= XL1/(2*%pi*f);//inductance of choke coil  in H\n",
"disp(R1,'The resistance of choke coil in Ω is : ')\n",
"disp(L1,'The inductance of choke coil in H is : ')\n",
""
   ]
   }
,
{
		   "cell_type": "markdown",
		   "metadata": {},
		   "source": [
			"## Example 6.39: Value_of_R_and_C.sce"
		   ]
		  },
  {
"cell_type": "code",
	   "execution_count": null,
	   "metadata": {
	    "collapsed": true
	   },
	   "outputs": [],
"source": [
"// Exa 6.39\n",
"format('v',7);clc;clear;close;\n",
"// Given data\n",
"f = 50;// in Hz\n",
"omega = 2*%pi*f;// in rad/sec\n",
"R1 = 50;// in ohm\n",
"L1 = 0.1;// in H\n",
"XL1= 2*%pi*f*L1;// in Ω\n",
"R2= 100;// in Ω\n",
"R3= 1000;// in Ω\n",
"Z1= R1+%i*XL1;// in Ω\n",
"Z2= R2;// in Ω\n",
"Z3= R3;// in Ω\n",
"// The bridge balance condition\n",
"Zx= Z2*Z3/Z1;// in Ω\n",
"// Comparing real part\n",
"Rx= real(Zx);// in Ω\n",
"// Comparing imaginary part\n",
"XCx= abs(imag(Zx));// in Ω\n",
"Cx= 1/(2*%pi*f*XCx);// in F\n",
"disp(Rx,'The value of Rx in Ω is : ')\n",
"disp(Cx*10^6,'The value of Cx in µF is : ')"
   ]
   }
,
{
		   "cell_type": "markdown",
		   "metadata": {},
		   "source": [
			"## Example 6.3: Equivalent_series_circuit_of_unknown_impedance.sce"
		   ]
		  },
  {
"cell_type": "code",
	   "execution_count": null,
	   "metadata": {
	    "collapsed": true
	   },
	   "outputs": [],
"source": [
"// Exa 6.3\n",
"format('v',7);clc;clear;close;\n",
"// Given data\n",
"C3 = 10;// in µF\n",
"C3 = C3*10^-6;// in F\n",
"R1 = 1.2;// in k ohm\n",
"R1 = R1 * 10^3;// in ohm\n",
"R2 = 100;// in k ohm\n",
"R2 = R2 * 10^3;// in ohm\n",
"R3 = 120;// in k ohm\n",
"R3 = R3 * 10^3;// in ohm\n",
"Rx = (R2*R3)/R1;//unknown resistance in ohm\n",
"Rx = Rx * 10^-6;// in M ohm\n",
"disp(Rx,'The value of Rx in MΩ is');\n",
"Cx = (R1*C3)/R2;// in F\n",
"Cx = Cx * 10^6;//unknown capacitance in µF\n",
"disp(Cx,'The value of Cx in µF is');"
   ]
   }
,
{
		   "cell_type": "markdown",
		   "metadata": {},
		   "source": [
			"## Example 6.40: Effective_impedance_of_the_specimen.sce"
		   ]
		  },
  {
"cell_type": "code",
	   "execution_count": null,
	   "metadata": {
	    "collapsed": true
	   },
	   "outputs": [],
"source": [
"// Exa 6.40\n",
"format('v',7);clc;clear;close;\n",
"// Given data\n",
"f = 2;// in kHz\n",
"f = f * 10^3;// in Hz\n",
"R2= 834;// in Ω\n",
"C2= 0.124*10^-6;// in F\n",
"XC2= 1/(2*%pi*f*C2);// in Ω\n",
"R3= 100;// in Ω\n",
"C4 = 0.1;// in µF\n",
"C4 = C4*10^-6;// in F\n",
"XC4= 1/(2*%pi*f*C4);// in Ω\n",
"Z2= R2+%i*XC2;// in Ω\n",
"Z3= R3;// in Ω\n",
"Z4= -%i*XC4;// in Ω\n",
"// The bridge balance condition\n",
"Z1= Z2*Z3/Z4;// in Ω\n",
"mag= abs(Z1);// magnitude of effective impedence in Ω\n",
"theta= atand(imag(Z1),real(Z1));// phase angle of effective impedence in °\n",
"disp(mag,'The magnitude of effective impedence in Ω is : ')\n",
"disp(theta,'The phase angle of effective impedence in ° is')\n",
"\n",
""
   ]
   }
,
{
		   "cell_type": "markdown",
		   "metadata": {},
		   "source": [
			"## Example 6.41: Resistance_and_inductance_of_coil.sce"
		   ]
		  },
  {
"cell_type": "code",
	   "execution_count": null,
	   "metadata": {
	    "collapsed": true
	   },
	   "outputs": [],
"source": [
"// Exa 6.41\n",
"format('v',7);clc;clear;close;\n",
"// Given data\n",
"L1 = 52.6;//inductance in mH\n",
"R2 = 1.68;//resistance in ohm\n",
"// 80*(r1+(J*omega*L1)) = 80*( (R2+r2) + (J*omega*L2) );\n",
"L2 = L1;//inductance of the coil in mH\n",
"disp(L2,'The inductance of the coil in mH is');\n",
"r1 = 28.5;// in ohm\n",
"r2 = r1-R2;//resistance of the coil in ohm\n",
"disp(r2,'The resistance of the coil in ohm is');"
   ]
   }
,
{
		   "cell_type": "markdown",
		   "metadata": {},
		   "source": [
			"## Example 6.42: Value_of_R_and_L.sce"
		   ]
		  },
  {
"cell_type": "code",
	   "execution_count": null,
	   "metadata": {
	    "collapsed": true
	   },
	   "outputs": [],
"source": [
"// Exa 6.42\n",
"format('v',7);clc;clear;close;\n",
"// Given data\n",
"Q = 1;// in k ohm\n",
"Q = Q * 10^3;// in  ohm\n",
"S = Q;// in ohm\n",
"P = 500;// in ohm\n",
"r = 100;// in ohm\n",
"C = 0.5;// in µF\n",
"C = C * 10^-6;// in F\n",
"//Using standard condition, Rx = (R2*R3)/R4;\n",
"Rx = (P*Q)/S;// in ohm\n",
"disp(Rx,'The value of Rx in Ω is');\n",
"//Lx = ((C*R2)/R4) * ( (R3*r) + (R4*r) + (R3*R4) );\n",
"Lx = ((C*P)/S) * ( (Q*r) + (S*r) + (Q*S) );// in H\n",
"disp(Lx,'The value of Lx in H is');"
   ]
   }
,
{
		   "cell_type": "markdown",
		   "metadata": {},
		   "source": [
			"## Example 6.4: Equivalent_series_circuit_of_unknown_impedance.sce"
		   ]
		  },
  {
"cell_type": "code",
	   "execution_count": null,
	   "metadata": {
	    "collapsed": true
	   },
	   "outputs": [],
"source": [
"// Exa 6.4\n",
"format('v',7);clc;clear;close;\n",
"// Given data\n",
"L3 = 8;// in mH\n",
"L3 = L3 * 10^-3;// in H\n",
"R1 = 1;// in k ohm\n",
"R1 = R1 * 10^3;// in ohm\n",
"R2 = 25;// in k ohm\n",
"R2 = R2 * 10^3;// in ohm\n",
"R3 = 50;// in  k ohm\n",
"R3 = R3 * 10^3;// in ohm\n",
"Rx = (R2*R3)/R1;//unknown resistance in ohm\n",
"Rx = Rx * 10^-6;// in M ohm\n",
"disp(Rx,'The value of Rx in MΩ is');\n",
"Lx = (R2*L3)/R1;//unknown inductance in H\n",
"Lx = Lx * 10^3;// in mH\n",
"disp(Lx,'The value of Lx in mH is');"
   ]
   }
,
{
		   "cell_type": "markdown",
		   "metadata": {},
		   "source": [
			"## Example 6.5: Component_of_branch_BC.sce"
		   ]
		  },
  {
"cell_type": "code",
	   "execution_count": null,
	   "metadata": {
	    "collapsed": true
	   },
	   "outputs": [],
"source": [
"// Exa 6.5\n",
"format('v',7);clc;clear;close;\n",
"// Given data\n",
"C1 = 0.5;// in µF\n",
"C1 = C1 * 10^-6;// in µF\n",
"R1 = 1200;// in ohm\n",
"R2 = 700;// in ohm\n",
"R3 = 300;// in ohm\n",
"// From bridge balance equation\n",
"Rx = (R2*R3)/R1;// in ohm\n",
"disp('Component of the brach BC :')\n",
"disp('Rx = '+string(Rx)+' Ω');\n",
"Lx = R2*R3*C1;// in H\n",
"Lx = Lx * 10^3;// in mH\n",
"disp('Lx = '+string(Lx)+' mH');"
   ]
   }
,
{
		   "cell_type": "markdown",
		   "metadata": {},
		   "source": [
			"## Example 6.6: Value_of_Rx_and_Lx.sce"
		   ]
		  },
  {
"cell_type": "code",
	   "execution_count": null,
	   "metadata": {
	    "collapsed": true
	   },
	   "outputs": [],
"source": [
"// Exa 6.6\n",
"format('v',7);clc;clear;close;\n",
"// Given data\n",
"R2 = 1000;//resistance in ohm\n",
"R3 = 500;// resistance in ohm\n",
"R4 = 1000;// resistance in ohm\n",
"C = 3;//capacitance in µF\n",
"C = C * 10^-6;// in F\n",
"r = 100;// in ohm\n",
"Rx = (R2*R3)/R4;//value of Rx in ohm\n",
"disp(Rx,'The value of Rx in Ω is');\n",
"Lx = ((C*R2)/R4)*( (R3*r) + (R4*r) + (R3*R4) );//value of Lx in H\n",
"disp(Lx,'The value of Lx in H is');"
   ]
   }
,
{
		   "cell_type": "markdown",
		   "metadata": {},
		   "source": [
			"## Example 6.7: Unknown_inductance_and_resistance.sce"
		   ]
		  },
  {
"cell_type": "code",
	   "execution_count": null,
	   "metadata": {
	    "collapsed": true
	   },
	   "outputs": [],
"source": [
"// Exa 6.7\n",
"format('v',7);clc;clear;close;\n",
"// Given data\n",
"R1 = 5.1;// in k ohm\n",
"R1 = R1 * 10^3;// in ohm\n",
"R2 = 7.9;// in k ohm\n",
"R2 = R2 * 10^3;// in ohm\n",
"R3 = 790;// in ohm\n",
"C1 = 2;// in µF\n",
"C1 = C1 * 10^-6;// in F\n",
"omega = 1000;// in rad/sec\n",
"Rx = (((omega)^2)*R1*((C1)^2)*R2*R3)/( 1+(((omega)^2) * ((R1)^2)* ((C1)^2)) );// unknown resistance in ohm\n",
"Rx = Rx * 10^-3;// in k ohm\n",
"disp(Rx,'The value of unknown resistance in kΩ is');\n",
"Lx = (R2*R3*C1)/( 1+(((omega)^2) * ((R1)^2)* ((C1)^2)) );// unknown inductance in H\n",
"Lx = Lx * 10^3;// in mH\n",
"disp(Lx,'The value of unknown inductance in mH is');"
   ]
   }
,
{
		   "cell_type": "markdown",
		   "metadata": {},
		   "source": [
			"## Example 6.8: Unknown_capacitance_and_its_dissipation_factor.sce"
		   ]
		  },
  {
"cell_type": "code",
	   "execution_count": null,
	   "metadata": {
	    "collapsed": true
	   },
	   "outputs": [],
"source": [
"// Exa 6.8\n",
"format('v',7);clc;clear;close;\n",
"// Given data\n",
"R1 = 1.2;// in k ohm\n",
"R1 = R1 * 10^3;// in ohm\n",
"R2 = 4.7;// in k ohm\n",
"R2 = R2 * 10^3;// in ohm\n",
"C1 = 1;// in µF\n",
"C1 = C1 * 10^-6;// in F\n",
"C3 = 1;// in µF\n",
"C3 = C3 * 10^-6;// in F\n",
"Rx = (R2*C1)/C3;// unknown resistance in ohm\n",
"Rx = Rx * 10^-3;// in k ohm\n",
"Cx = (R1*C3)/R2;// unknown capacitance in F\n",
"Cx = Cx * 10^6;// in µF\n",
"disp(Rx,'The unknown resistance in kΩ is ')\n",
"disp(Cx,'The unknown capacitance in µF is');\n",
"f = 0.5;// in kHz\n",
"f = f * 10^3;// in Hz\n",
"// omega = 2*%pi*f;\n",
"D = 2*%pi*f*Cx*10^-6*Rx*10^3;// dissipation factor \n",
"disp(D,'The dissipation factor is');"
   ]
   }
,
{
		   "cell_type": "markdown",
		   "metadata": {},
		   "source": [
			"## Example 6.9: Equivalent_parallel_resistance_and_capacitance.sce"
		   ]
		  },
  {
"cell_type": "code",
	   "execution_count": null,
	   "metadata": {
	    "collapsed": true
	   },
	   "outputs": [],
"source": [
"// Exa 6.9\n",
"format('v',7);clc;clear;close;\n",
"// Given data\n",
"R1 = 2.7;// in k ohm\n",
"R1 = R1 * 10^3;// in ohm\n",
"R2 = 22;// in k ohm\n",
"R2 = R2 * 10^3;// in ohm\n",
"R4 = 100;// in k ohm\n",
"R4 = R4 * 10^3;// in ohm\n",
"C1 = 5;// in µF\n",
"C1 = C1 * 10^-6;// in F\n",
"f = 2.2;// in kHz\n",
"f = f * 10^3;// in Hz\n",
"//From omega^2 = 1/(R1*C1*R3*C3);\n",
"// C3 = 1/(R1*C1*R3*(omega^2));     (i)\n",
"// R2/R4 = R1/R3 + C3/C1                   (ii)\n",
"// From eq(i) and (ii)\n",
"R3 = (R4/R2) * (R1 + 1/( ((2*%pi*f)^2)*R1*(C1^2) ));// equivalent parallel resistance in ohm\n",
"R3= R3*10^-3;// in k ohm\n",
"disp(R3,'The equivalent parallel resistance in kΩ is');\n",
"R3= R3*10^3;// in ohm\n",
"C3 = 1/(R1*C1*R3*((2*%pi*f)^2));// equivalent parallel capacitance in F\n",
"C3 = C3 * 10^12;// in pF\n",
"disp(C3,'The equivalent parallel capacitance in pF is');"
   ]
   }
],
"metadata": {
		  "kernelspec": {
		   "display_name": "Scilab",
		   "language": "scilab",
		   "name": "scilab"
		  },
		  "language_info": {
		   "file_extension": ".sce",
		   "help_links": [
			{
			 "text": "MetaKernel Magics",
			 "url": "https://github.com/calysto/metakernel/blob/master/metakernel/magics/README.md"
			}
		   ],
		   "mimetype": "text/x-octave",
		   "name": "scilab",
		   "version": "0.7.1"
		  }
		 },
		 "nbformat": 4,
		 "nbformat_minor": 0
}
