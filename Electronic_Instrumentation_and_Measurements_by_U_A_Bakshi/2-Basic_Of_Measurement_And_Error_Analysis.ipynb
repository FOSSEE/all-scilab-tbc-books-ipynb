{
"cells": [
 {
		   "cell_type": "markdown",
	   "metadata": {},
	   "source": [
       "# Chapter 2: Basic Of Measurement And Error Analysis"
	   ]
	},
{
		   "cell_type": "markdown",
		   "metadata": {},
		   "source": [
			"## Example 2.10: Uncertainly_in_combined_resistance.sce"
		   ]
		  },
  {
"cell_type": "code",
	   "execution_count": null,
	   "metadata": {
	    "collapsed": true
	   },
	   "outputs": [],
"source": [
"// Exa 2.10\n",
"format('v',7);clc;clear;close;\n",
"// Given data\n",
"R1= 100;//resistance in Ω\n",
"Re1= 0.1;//error in Ω\n",
"R2= 50;//resistance in Ω\n",
"Re2= 0.03;//error in Ω\n",
"R= R1+R2;//resistance in Ω\n",
"w= sqrt(Re1^2+Re2^2);\n",
"disp('For Series connection, R= '+string(R)+' ± '+string(w)+' Ω')\n",
"R= R1*R2/(R1+R2);// in Ω\n",
"del_RbyR1= ((R1+R2)*R2-R1*R2)/(R1+R2)^2;\n",
"del_RbyR2= ((R1+R2)*R1-R1*R2)/(R1+R2)^2;\n",
"w= sqrt(del_RbyR1^2*Re1^2+del_RbyR2^2*Re2^2);\n",
"disp('For Parallel connection, R= '+string(R)+' ± '+string(w)+' Ω')\n",
""
   ]
   }
,
{
		   "cell_type": "markdown",
		   "metadata": {},
		   "source": [
			"## Example 2.11: Absolute_error.sce"
		   ]
		  },
  {
"cell_type": "code",
	   "execution_count": null,
	   "metadata": {
	    "collapsed": true
	   },
	   "outputs": [],
"source": [
"// Exa 2.11\n",
"format('v',5);clc;clear;close;\n",
"// Given data\n",
"At = 8.5;//true value in A\n",
"Am = 8.3;//measured value in A\n",
"Absoluteerror = At - Am;//absolute error in A\n",
"disp(Absoluteerror,'The Absolute error in A is');\n",
"// Relative percentage error \n",
"Per_Error = ((At-Am)/At)*100;// %e in %\n",
"disp(Per_Error,'The relative percentage error in % is');"
   ]
   }
,
{
		   "cell_type": "markdown",
		   "metadata": {},
		   "source": [
			"## Example 2.12: True_value_of_the_voltage.sce"
		   ]
		  },
  {
"cell_type": "code",
	   "execution_count": null,
	   "metadata": {
	    "collapsed": true
	   },
	   "outputs": [],
"source": [
"// Exa 2.12\n",
"format('v',7);clc;clear;close;\n",
"// Given data\n",
"Am = 111.5;//measured value in V\n",
"Per_Error = 5.3;// %e in %\n",
"// Per_Error = ((At-Am)/At)*100;\n",
"At = Am/(1 - (Per_Error/100));//true value of voltage  in V\n",
"disp(At,'The true value of voltage in V is');"
   ]
   }
,
{
		   "cell_type": "markdown",
		   "metadata": {},
		   "source": [
			"## Example 2.13: Resolution_of_the_meter.sce"
		   ]
		  },
  {
"cell_type": "code",
	   "execution_count": null,
	   "metadata": {
	    "collapsed": true
	   },
	   "outputs": [],
"source": [
"// Exa 2.13\n",
"format('v',7);clc;clear;close;\n",
"// Given data\n",
"fullscaledivision = 100;//full scale division in V\n",
"n = 200;//number of divisions\n",
"scaledivision = fullscaledivision/n;//scale division in V\n",
"Resolution = 1/2*scaledivision;// in V\n",
"disp(Resolution,'The Resolution of meter in V is');"
   ]
   }
,
{
		   "cell_type": "markdown",
		   "metadata": {},
		   "source": [
			"## Example 2.14: New_reading.sce"
		   ]
		  },
  {
"cell_type": "code",
	   "execution_count": null,
	   "metadata": {
	    "collapsed": true
	   },
	   "outputs": [],
"source": [
"// Exa 2.14\n",
"format('v',6);clc;clear;close;\n",
"// Given data\n",
"V = 150;//voltage in V\n",
"R1 = 50;//resistance in k ohm\n",
"R2 = 100;//resistance in k ohm\n",
"V_AB = R1 * (V/(R1+R2));// in V\n",
"sensitivity = 1;// in k ohm/V\n",
"R = sensitivity*V_AB;// in  k ohm\n",
"V_AB1 = ((R1*R)/(R1+R))*( V/(R2+(R1*R)/(R1+R)) );//voltage reading on the voltmeter  in V\n",
"disp('Part (i) When voltmeter sensitivity is 1 kΩ/volt : ')\n",
"disp(V_AB1,'The voltage reading on the voltmeter in V is : ')\n",
"Per_Error= ((V_AB-V_AB1)/V_AB)*100;// %e in %\n",
"disp(Per_Error,'The percentage error in % is : ')\n",
"sensitivity = 25;// in  k ohm/V\n",
"R = sensitivity*V_AB;// in k ohm\n",
"Rnet = (R1*R)/(R1+R);// assumed for calculation\n",
"V_AB2 = Rnet*( V/(R2+Rnet) );// in V\n",
"disp('Part (ii) When voltmeter sensitivity is 25 kΩ/volt : ')\n",
"disp(V_AB2,'The voltage reading on the voltmeter in V is : ')\n",
"Per_Error = ((V_AB-V_AB2)/V_AB)*100;// %e in %\n",
"disp(Per_Error,'The percentage error in % is : ')\n",
"disp('Thus the voltmeter with low sensitivity shows more error');\n",
"disp(' while voltmeter with high sensitivity shows less error.')"
   ]
   }
,
{
		   "cell_type": "markdown",
		   "metadata": {},
		   "source": [
			"## Example 2.15: Apparent_resistance.sce"
		   ]
		  },
  {
"cell_type": "code",
	   "execution_count": null,
	   "metadata": {
	    "collapsed": true
	   },
	   "outputs": [],
"source": [
"// Exa 2.15\n",
"format('v',6);clc;clear;close;\n",
"// Given data\n",
"V = 80;// in V\n",
"I = 15;// in mA\n",
"I = I * 10^-3;// in A\n",
"R_T = V/I;// in ohm\n",
"R_T = R_T * 10^-3;//apparent resistance in k ohm\n",
"Rapp = R_T;// in k ohm\n",
"disp(Rapp,'The apparent resistance in kΩ is');\n",
"sensitivity = 1.5;// in k ohm\n",
"f_s_reading = 150;//full scale reading in V\n",
"Rv = sensitivity*f_s_reading;// in k ohm\n",
"//R_T = (Rx*Rv)/(Rx+Rv);\n",
"Rx = (R_T*Rv)/(Rv-R_T);//Actual resistance of unknown resistor in k ohm\n",
"disp(Rx,'Actual resistance of unknown resistor in kΩ is');\n",
"At = Rx;// in k ohm\n",
"Am = Rapp;// in k ohm\n",
"PerError = ((At-Am)/At)*100;//Error due to loading effect of voltmeter  in %\n",
"disp(PerError,'Error due to loading effect of voltmeter in % is');\n",
"PerAccu = (1-abs(PerError*10^-2))*100;//Percentage relative accuracy  in %\n",
"disp(PerAccu,'Percentage relative accuracy in % is');"
   ]
   }
,
{
		   "cell_type": "markdown",
		   "metadata": {},
		   "source": [
			"## Example 2.16: Magnitude_of_the_resultant_resistance.sce"
		   ]
		  },
  {
"cell_type": "code",
	   "execution_count": null,
	   "metadata": {
	    "collapsed": true
	   },
	   "outputs": [],
"source": [
"// Exa 2.16\n",
"format('v',7);clc;clear;close;\n",
"// Given data\n",
"// Values of resistance\n",
"R1 = 200;// in ohm\n",
"R2 = 100;// in  ohm\n",
"R3 = 50;// in ohm\n",
"R_T = R1+R2+R3;//resultant resistance in ohm\n",
"// Error in resistance\n",
"e1 = 5;// in %\n",
"e2 = e1;// in %\n",
"e3 = e1;// in %\n",
"a1 = R1;// in ohm\n",
"a2 = R2;// in ohm\n",
"a3 = R3;// in ohm\n",
"Per_e_T = ( ((R1/R_T)*e1) + ((R2/R_T)*e2) + ((R3/R_T)*e3) );// in %\n",
"// Per_e_T= del_R_T/R_T*100;\n",
"del_R_T= Per_e_T*R_T/100;// in Ω\n",
"disp(R_T,'The magnitude of the resultant resistance in Ω is : ')\n",
"disp('The limiting error (in percentage) is : ± '+string(Per_e_T)+' %')\n",
"disp('The limiting error (in ohm) is : ± '+string(del_R_T)+' Ω')"
   ]
   }
,
{
		   "cell_type": "markdown",
		   "metadata": {},
		   "source": [
			"## Example 2.17: Magnitude_of_the_limiting_error.sce"
		   ]
		  },
  {
"cell_type": "code",
	   "execution_count": null,
	   "metadata": {
	    "collapsed": true
	   },
	   "outputs": [],
"source": [
"// Exa 2.17\n",
"format('v',7);clc;clear;close;\n",
"// Given data\n",
"// Values of resistances\n",
"R1 = 36;// in ohm\n",
"R2 = 75;// in ohm\n",
"R_T = (R1*R2)/(R1+R2);// in ohm\n",
"// Error in resistance\n",
"e1 = 5;// in %\n",
"e_1 = e1+e1;// in %      assumed\n",
"e2 = ( ((R1/(R1+R2))*e1) + ((R2/(R1+R2))*e1) );// in %\n",
"e_T = e_1+e2;//limiting error  in %\n",
"// Per_e_T= del_R_T/R_T*100;\n",
"del_R_T= e_T*R_T/100;//limiting error in Ω\n",
"disp('The limiting error (in percentage) is : ± '+string(e_T)+' %')\n",
"disp('The limiting error (in ohm) is : ± '+string(del_R_T)+' Ω')"
   ]
   }
,
{
		   "cell_type": "markdown",
		   "metadata": {},
		   "source": [
			"## Example 2.18: Limiting_error.sce"
		   ]
		  },
  {
"cell_type": "code",
	   "execution_count": null,
	   "metadata": {
	    "collapsed": true
	   },
	   "outputs": [],
"source": [
"// Exa 2.18\n",
"format('v',7);clc;clear;close;\n",
"// Given data\n",
"Error = 2/100;\n",
"Voltmeterrange = 50;//voltmeter range in V\n",
"Ammeterrange = 125;//ammeter range in mA\n",
"A1 = 40;//voltmeter reading in V\n",
"A2 = 125;//ammeter reading in mA\n",
"del_a1 = Error*Voltmeterrange;// in V\n",
"del_a2 = Error*Ammeterrange;// in mA\n",
"e1 =  del_a1/A1;// error in voltage\n",
"e2 = del_a2/A2;// error in current\n",
"e_T= (e1+e2)*100;//limiting error of the power calculated  in %\n",
"disp('The limiting error of the power calculated is : ± '+string(e_T)+' %')\n",
"\n",
""
   ]
   }
,
{
		   "cell_type": "markdown",
		   "metadata": {},
		   "source": [
			"## Example 2.19: Magnitude_of_unknown_resistance.sce"
		   ]
		  },
  {
"cell_type": "code",
	   "execution_count": null,
	   "metadata": {
	    "collapsed": true
	   },
	   "outputs": [],
"source": [
"// Exa 2.19\n",
"format('v',7);clc;clear;close;\n",
"// Given data\n",
"R1 = 120;//resistance in ohm\n",
"e1= 0.1;//error in %\n",
"R2 = 2700;//resistance in ohm\n",
"e2= 0.5;//error in %\n",
"R3 = 470;//resistance in ohm\n",
"e3= 0.5;//error in %\n",
"Rx = (R2*R3)/R1;//magnitude of the unknown resistance in ohm\n",
"disp(Rx,'The magnitude of the unknown resistance in Ω is : ')\n",
"e_T= e1+e2+e3;//limiting error  in %\n",
"// Per_e_T= del_R_T/R_T*100;\n",
"del_Rx= e_T*Rx/100;//limiting error  in Ω\n",
"disp('The limiting error (in percentage) is : ± '+string(e_T)+' %')\n",
"disp('The limiting error (in ohm) is : ± '+string(del_Rx)+' Ω')\n",
"disp('Hence the guaranteed values of the resistance is between')\n",
"disp(string(Rx-del_Rx)+' Ω to '+string(Rx+del_Rx)+' Ω')"
   ]
   }
,
{
		   "cell_type": "markdown",
		   "metadata": {},
		   "source": [
			"## Example 2.1: Calculate_the_precision_of_the_3rd_measurement.sce"
		   ]
		  },
  {
"cell_type": "code",
	   "execution_count": null,
	   "metadata": {
	    "collapsed": true
	   },
	   "outputs": [],
"source": [
"// Exa 2.1\n",
"format('v',6);clc;clear;close;\n",
"// Given data\n",
"// Values of measurements\n",
"x1 = 49;\n",
"x2 = 51;\n",
"x3 = 52;\n",
"x4 = 50;\n",
"x5 = 49;\n",
"n = 5;// numbers of reading\n",
"Xn_bar = (x1+x2+x3+x4+x5)/n;// average value for the set of measurements\n",
"// For n = 3\n",
"P = 1 - abs( (x3-Xn_bar)/x3);// the value of third measurement\n",
"P = P * 100;// in %\n",
"disp(P,'The precision of the 3rd measurement in % is');"
   ]
   }
,
{
		   "cell_type": "markdown",
		   "metadata": {},
		   "source": [
			"## Example 2.20: Mean_and_probable_error.sce"
		   ]
		  },
  {
"cell_type": "code",
	   "execution_count": null,
	   "metadata": {
	    "collapsed": true
	   },
	   "outputs": [],
"source": [
"// Exa 2.20\n",
"format('v',7);clc;clear;close;\n",
"// Given data\n",
"x=[101.2 101.4 101.7 101.3 101.3 101.2 101.0 101.3 101.5 101.1];// measured value\n",
"n = 10;// number of reading\n",
"sigma_x= 0;// initialization of variable\n",
"for i=1:1:n\n",
"    sigma_x= sigma_x+x(i);// sum of readings\n",
"end\n",
"x_bar=sigma_x/n;// mean value\n",
"disp(x_bar,'The arithmatic mean is');\n",
"sigma_d_sq=0;// initialization of variable\n",
"sigma_d=0;// initialization of variable\n",
"for i=1:1:n\n",
"    d(i)=x(i)-x_bar\n",
"    sigma_d= sigma_d+abs(d(i));\n",
"    sigma_d_sq= sigma_d_sq+d(i)*d(i);\n",
"end\n",
"DevFrommean =sigma_d/n;// Deviation from mean \n",
"disp(DevFrommean,'The Deviation from mean is');\n",
"sigma = sqrt( sigma_d_sq/(n-1) );//standard deviation  in V\n",
"disp(sigma,'The standard deviation in V is');\n",
"ProError= 0.6745*sigma;//probable error of one reading  in V\n",
"disp(ProError,'The probable error of one reading in V is : ')\n",
"ProError = 0.6745*sigma;// in V\n",
"e_m = ProError/( sqrt(n-1) );// probable error of mean \n",
"disp(e_m,'The probable error of mean is : ');"
   ]
   }
,
{
		   "cell_type": "markdown",
		   "metadata": {},
		   "source": [
			"## Example 2.21: Mean_and_standard_deviation.sce"
		   ]
		  },
  {
"cell_type": "code",
	   "execution_count": null,
	   "metadata": {
	    "collapsed": true
	   },
	   "outputs": [],
"source": [
"// Exa 2.21\n",
"format('v',7);clc;clear;close;\n",
"// Given data\n",
"x= [29.6 32.4 39.4 28.9 30.0 33.3 31.4 29.5 30.5 31.7 33.0 29.2];// measured value\n",
"n = 12;// number of reading\n",
"sigma_x= 0;// initialization of variable\n",
"for i=1:1:n\n",
"    sigma_x= sigma_x+x(i);// sum of readings\n",
"end\n",
"x_bar=sigma_x/n;// mean value \n",
"disp(x_bar,'The mean value is');\n",
"sorted_x= gsort(x);\n",
"x_median= (sorted_x(n/2)+sorted_x(n/2+1))/2;// median value\n",
"disp(x_median,'The median value is : ')\n",
"sigma_d_sq=0;\n",
"for i=1:1:n\n",
"    d(i)=x(i)-x_bar\n",
"    sigma_d_sq= sigma_d_sq+d(i)*d(i);\n",
"end\n",
"sigma = sqrt( sigma_d_sq/(n-1) );//standard deviation in V\n",
"disp(sigma,'The standard deviation in V is');\n",
""
   ]
   }
,
{
		   "cell_type": "markdown",
		   "metadata": {},
		   "source": [
			"## Example 2.22: Mean_and_range.sce"
		   ]
		  },
  {
"cell_type": "code",
	   "execution_count": null,
	   "metadata": {
	    "collapsed": true
	   },
	   "outputs": [],
"source": [
"// Exa 2.22\n",
"format('v',7);clc;clear;close;\n",
"// Given data\n",
"x= [41.7 42.0 41.8 42.0 42.1 41.9 42.0 41.9 42.5 41.8];// measured value\n",
"n = 10;// number of reading\n",
"sigma_x= 0;// initialization of variable\n",
"for i=1:1:n\n",
"    sigma_x= sigma_x+x(i);// sum of reading\n",
"end\n",
"x_bar=sigma_x/n;// mean\n",
"disp(x_bar,'The mean is');\n",
"sigma_d_sq=0;\n",
"for i=1:1:n\n",
"    d(i)=x(i)-x_bar\n",
"    sigma_d_sq= sigma_d_sq+d(i)*d(i);\n",
"end\n",
"sigma = sqrt( sigma_d_sq/(n-1) );//standard deviation in V\n",
"disp(sigma,'The standard deviation in V is');\n",
"ProError= 0.6745*sigma;//probable error of one reading in V\n",
"disp(ProError,'The probable error of one reading in V is : ')\n",
"ProError = 0.6745*sigma;// in V\n",
"e_m = ProError/( sqrt(n-1) );// probable error of mean\n",
"disp(e_m,'The probable error of mean is : ');\n",
"sorted_x= gsort(x);\n",
"Range= sorted_x(1)-sorted_x(n);// range\n",
"disp('Range = '+string(sorted_x(n))+' to '+string(sorted_x(1))+' = '+string(Range))"
   ]
   }
,
{
		   "cell_type": "markdown",
		   "metadata": {},
		   "source": [
			"## Example 2.23: Limiting_error.sce"
		   ]
		  },
  {
"cell_type": "code",
	   "execution_count": null,
	   "metadata": {
	    "collapsed": true
	   },
	   "outputs": [],
"source": [
"// Exa 2.23\n",
"format('v',7);clc;clear;close;\n",
"// Given data\n",
"Vrange= 600;//range in V\n",
"del_A= 2.5*Vrange/100;//limiting error at full scale in V\n",
"V= 400;//voltage in V\n",
"PerError= del_A/V*100;//percentage error in %\n",
"disp('The limiting error is : ± '+string(PerError)+' %')"
   ]
   }
,
{
		   "cell_type": "markdown",
		   "metadata": {},
		   "source": [
			"## Example 2.24: The_error.sce"
		   ]
		  },
  {
"cell_type": "code",
	   "execution_count": null,
	   "metadata": {
	    "collapsed": true
	   },
	   "outputs": [],
"source": [
"// Exa 2.24\n",
"format('v',7);clc;clear;close;\n",
"// Given data\n",
"At = 6.54;//true value in A\n",
"Am = 6.7;//measured value in A\n",
"AbsError = At-Am;// absolute error\n",
"PerError= ((At-Am)/At)*100;// percentage error\n",
"disp(PerError,'The error in % is');"
   ]
   }
,
{
		   "cell_type": "markdown",
		   "metadata": {},
		   "source": [
			"## Example 2.25: Range_of_reading.sce"
		   ]
		  },
  {
"cell_type": "code",
	   "execution_count": null,
	   "metadata": {
	    "collapsed": true
	   },
	   "outputs": [],
"source": [
"// Exa 2.25\n",
"format('v',7);clc;clear;close;\n",
"// Given data\n",
"Wrange= 500;//wattmeter range in W\n",
"del_A= 1.5*Wrange/100;//limiting error at full scale in W\n",
"P= 50;//power in W\n",
"Pmin= P-del_A;// minimum power in W\n",
"Pmax= P+del_A;// maximum power in W\n",
"disp('The range of the reading is : '+string(Pmin)+' watts to '+string(Pmax)+' watts');"
   ]
   }
,
{
		   "cell_type": "markdown",
		   "metadata": {},
		   "source": [
			"## Example 2.2: Absolute_error.sce"
		   ]
		  },
  {
"cell_type": "code",
	   "execution_count": null,
	   "metadata": {
	    "collapsed": true
	   },
	   "outputs": [],
"source": [
"// Exa 2.2\n",
"format('v',6);clc;clear;close;\n",
"// Given data\n",
"At = 150;// in V\n",
"Am = 149;// in V\n",
"e = At-Am;//absolute error in V\n",
"disp(e,'The absolute error in V is');\n",
"e_r = ((At-Am)/At)*100;// e_r stands for %e_r in %\n",
"disp(e_r,'The percentage error in % is');\n",
"A = 1 - abs( (At-Am)/At );// relative accuracy\n",
"disp(A,'The Relative accuracy is');\n",
"a = A*100;//Relative accuracy  in %\n",
"disp(a,'The percentage accuracy in % is');\n",
"fsd = 200;//full scale reading in V\n",
"// Percentage error \n",
"PerError = ((At-Am)/fsd)*100;// in %\n",
"disp(PerError,'Percentage error expressed as percentage of full scale reading  in % is');"
   ]
   }
,
{
		   "cell_type": "markdown",
		   "metadata": {},
		   "source": [
			"## Example 2.3: Sensitivity_and_deflection_factor.sce"
		   ]
		  },
  {
"cell_type": "code",
	   "execution_count": null,
	   "metadata": {
	    "collapsed": true
	   },
	   "outputs": [],
"source": [
"// Exa 2.4\n",
"format('v',7);clc;clear;close;\n",
"// Given data\n",
"Fullscaledeflection = 30;//full scale deflection in cm\n",
"n = 30;// number of divisions\n",
"scaledivision = Fullscaledeflection/n;//scale division in cm\n",
"scaledivision = scaledivision * 10;// in mm\n",
"Resolution = (1/20)*scaledivision;// in mm\n",
"disp(Resolution,'The Resolution of the scale in mm is');"
   ]
   }
,
{
		   "cell_type": "markdown",
		   "metadata": {},
		   "source": [
			"## Example 2.4: Resolution_of_the_scale.sce"
		   ]
		  },
  {
"cell_type": "code",
	   "execution_count": null,
	   "metadata": {
	    "collapsed": true
	   },
	   "outputs": [],
"source": [
"// Exa 2.4\n",
"format('v',7);clc;clear;close;\n",
"// Given data\n",
"Fullscaledeflection = 30;//full scale deflection in cm\n",
"n = 30;// number of divisions\n",
"scaledivision = Fullscaledeflection/n;//scale division in cm\n",
"scaledivision = scaledivision * 10;// in mm\n",
"Resolution = (1/20)*scaledivision;// in mm\n",
"disp(Resolution,'The Resolution of the scale in mm is');"
   ]
   }
,
{
		   "cell_type": "markdown",
		   "metadata": {},
		   "source": [
			"## Example 2.5: Mean_value_median_value_and_variance.sce"
		   ]
		  },
  {
"cell_type": "code",
	   "execution_count": null,
	   "metadata": {
	    "collapsed": true
	   },
	   "outputs": [],
"source": [
"// Exa 2.5\n",
"format('v',7);clc;clear;close;\n",
"// Given data\n",
"// Reported values for average petrol consumption\n",
"x= [25.5 30.3 31.1 29.6 32.4 39.4 28.9 30.0 33.3 31.4 29.5 30.5 31.7 33.0 29.2];\n",
"n = 15;// number of reading\n",
"sigma_x=0;// initialization of variable\n",
"for i=1:1:15\n",
"    sigma_x= sigma_x+x(i);// sum of reading\n",
"end\n",
"Mean =sigma_x/n;// mean value\n",
"disp(Mean,'The mean value is');\n",
"sorted_x= gsort(x);\n",
"Xmedian = sorted_x((n+1)/2);// median value\n",
"disp(Xmedian,'The median value is');\n",
"sigma_d_sq=0;\n",
"for i=1:1:15\n",
"    d(i)=x(i)-Mean\n",
"    sigma_d_sq= sigma_d_sq+d(i)*d(i);\n",
"end\n",
"sigma = round(sqrt( sigma_d_sq/(n-1) ));// standard deviation\n",
"disp(sigma,'The standard deviation is');\n",
"V = sigma^2;// variance\n",
"disp(V,'The variance is');"
   ]
   }
,
{
		   "cell_type": "markdown",
		   "metadata": {},
		   "source": [
			"## Example 2.6: Mean_and_probable_error.sce"
		   ]
		  },
  {
"cell_type": "code",
	   "execution_count": null,
	   "metadata": {
	    "collapsed": true
	   },
	   "outputs": [],
"source": [
"// Exa 2.6\n",
"format('v',7);clc;clear;close;\n",
"// Given data\n",
"// Value of readings\n",
"x=[147.2 147.4 147.9 148.1 147.7 147.5 147.6 147.4 147.6 147.5] \n",
"n = 10;// number of reading\n",
"sigma_x=0;// initialization of variable\n",
"for i=1:1:n\n",
"    sigma_x= sigma_x+x(i);// sum of readings\n",
"end\n",
"x_bar= sigma_x/n;// mean value \n",
"disp(x_bar,'The arthmatic mean is');\n",
"sigma_d_sq=0;\n",
"for i=1:1:n\n",
"    d(i)=x(i)-x_bar;\n",
"    sigma_d_sq= sigma_d_sq+d(i)*d(i);\n",
"end\n",
"sigma = sqrt( sigma_d_sq/(n-1) );// standard deviation \n",
"disp(sigma,'The standard deviation is');\n",
"// probable error of average of the ten reading \n",
"e_m = 0.6745 * ( sigma/(sqrt(n-1)) );\n",
"disp(e_m,'The probable error of average of the ten reading is');"
   ]
   }
,
{
		   "cell_type": "markdown",
		   "metadata": {},
		   "source": [
			"## Example 2.7: Limiting_error.sce"
		   ]
		  },
  {
"cell_type": "code",
	   "execution_count": null,
	   "metadata": {
	    "collapsed": true
	   },
	   "outputs": [],
"source": [
"// Exa 2.7\n",
"format('v',5);clc;clear;close;\n",
"// Given data\n",
"Vrange=50;//range of voltmeter in V\n",
"V= 15;//instrument reading in V\n",
"// Limiting error at full scale\n",
"del_A= Vrange*1/100;// in V\n",
"// limiting error \n",
"PerE= del_A/V*100;// in %\n",
"disp(PerE,'The limiting error in % is : ')"
   ]
   }
,
{
		   "cell_type": "markdown",
		   "metadata": {},
		   "source": [
			"## Example 2.8: Limiting_error.sce"
		   ]
		  },
  {
"cell_type": "code",
	   "execution_count": null,
	   "metadata": {
	    "collapsed": true
	   },
	   "outputs": [],
"source": [
"// Exa 2.8\n",
"format('v',6);clc;clear;close;\n",
"// Given data\n",
"del_a1 = 0.02;// limiting error in current\n",
"del_a2 = 0.5;// limiting error in resistor\n",
"A1 = 2;\n",
"A2 = 120;\n",
"e1 = del_a1/A1;\n",
"e2 = del_a2/A2;\n",
"n = 2;\n",
"// limiting error \n",
"e_T = (n*e1)+e2;\n",
"e_T_Per= e_T*100;// limiting error in percentage\n",
"disp('The limiting error is ± '+string(e_T)+' or ± '+string(e_T_Per)+' %')"
   ]
   }
,
{
		   "cell_type": "markdown",
		   "metadata": {},
		   "source": [
			"## Example 2.9: Percentage_relative_limiting_error.sce"
		   ]
		  },
  {
"cell_type": "code",
	   "execution_count": null,
	   "metadata": {
	    "collapsed": true
	   },
	   "outputs": [],
"source": [
"// Exa 2.9\n",
"format('v',5);clc;clear;close;\n",
"// Given data\n",
"R1= 15;//value of resistance in Ω\n",
"Re1= R1*5/100;//error in resistance in Ω\n",
"R2= 33;//value of resistance in Ω\n",
"Re2= R2*2/100;//error in resistance in Ω\n",
"R3= 75;//value of resistance in Ω\n",
"Re3= R3*5/100;//error in resistance in Ω\n",
"R_T= R1+R2+R3;//resultant resistance in Ω\n",
"R_T_e= Re1+Re2+Re3;//limiting error in resistance in Ω\n",
"disp('The resultant is '+string(R_T)+' Ω with the limiting error of '+string(R_T_e)+' Ω')\n",
"e_T= R_T_e/R_T*100;// in %\n",
"disp('The percentage relative limiting error in resultant is ± '+string(e_T)+' %')"
   ]
   }
],
"metadata": {
		  "kernelspec": {
		   "display_name": "Scilab",
		   "language": "scilab",
		   "name": "scilab"
		  },
		  "language_info": {
		   "file_extension": ".sce",
		   "help_links": [
			{
			 "text": "MetaKernel Magics",
			 "url": "https://github.com/calysto/metakernel/blob/master/metakernel/magics/README.md"
			}
		   ],
		   "mimetype": "text/x-octave",
		   "name": "scilab",
		   "version": "0.7.1"
		  }
		 },
		 "nbformat": 4,
		 "nbformat_minor": 0
}
