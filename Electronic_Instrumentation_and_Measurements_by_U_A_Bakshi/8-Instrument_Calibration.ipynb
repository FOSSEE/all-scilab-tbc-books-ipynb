{
"cells": [
 {
		   "cell_type": "markdown",
	   "metadata": {},
	   "source": [
       "# Chapter 8: Instrument Calibration"
	   ]
	},
{
		   "cell_type": "markdown",
		   "metadata": {},
		   "source": [
			"## Example 8.1: Accuracy.sce"
		   ]
		  },
  {
"cell_type": "code",
	   "execution_count": null,
	   "metadata": {
	    "collapsed": true
	   },
	   "outputs": [],
"source": [
"// Exa 7.1\n",
"format('v',7);clc;clear;close;\n",
"// Given data\n",
"BW = 25;//bandwidth in MHz\n",
"Trd = 20;//rise time in ns\n",
"Trd = Trd * 10^-9;// in s\n",
"// BW = 0.35/Tro;\n",
"Tro = 0.35/(BW*10^6);// in s\n",
"// Trd = sqrt( (Trs^2) + (Tro^2) );\n",
"Trs = sqrt( (Trd^2)-(Tro^2) );// rise time of signal in sec\n",
"Trs = Trs * 10^9;// in ns\n",
"disp(Trs,'The rise time of signal in ns is');"
   ]
   }
],
"metadata": {
		  "kernelspec": {
		   "display_name": "Scilab",
		   "language": "scilab",
		   "name": "scilab"
		  },
		  "language_info": {
		   "file_extension": ".sce",
		   "help_links": [
			{
			 "text": "MetaKernel Magics",
			 "url": "https://github.com/calysto/metakernel/blob/master/metakernel/magics/README.md"
			}
		   ],
		   "mimetype": "text/x-octave",
		   "name": "scilab",
		   "version": "0.7.1"
		  }
		 },
		 "nbformat": 4,
		 "nbformat_minor": 0
}
