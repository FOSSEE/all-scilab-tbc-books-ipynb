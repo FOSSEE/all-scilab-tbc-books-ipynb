{
"cells": [
 {
		   "cell_type": "markdown",
	   "metadata": {},
	   "source": [
       "# Chapter 11: Special Matrices and gauss seidel"
	   ]
	},
{
		   "cell_type": "markdown",
		   "metadata": {},
		   "source": [
			"## Example 11.1: Tridiagonal_solution_with_Thomas_algorithm.sce"
		   ]
		  },
  {
"cell_type": "code",
	   "execution_count": null,
	   "metadata": {
	    "collapsed": true
	   },
	   "outputs": [],
"source": [
"//clc()\n",
"A = [2.04,-1,0,0;-1,2.04,-1,0;0,-1,2.04,-1;0,0,-1,2.04];\n",
"B = [40.8;0.8;0.8;200.8];\n",
"g = det(A(1,2));\n",
"f1 =det(A(1,1));\n",
"e2 = det(A(2,1))/f1;\n",
"f2 = det(A(1,1)) - e2 * det(A(2,1));\n",
"e3 = det(A(2,1))/f2;\n",
"f3 = det(A(1,1)) - e3 * det(A(2,1));\n",
"e4 = det(A(2,1))/f3;\n",
"f4 = det(A(1,1)) - e4 * det(A(2,1)); \n",
"M = [f1,g,0,0;e2,f2,g,0;0,e3,f3,g;0,0,e4,f4];\n",
"L = [1,0,0,0;det(M(2,1)),1,0,0;0,det(M(3,2)),1,0;0,0,det(M(4,3)),1];\n",
"U = [det(M(1,1)),g,0,0;0,det(M(2,2)),g,0;0,0,det(M(3,3)),g;0,0,0,det(M(4,4))];\n",
"r1 = det(B(1,1));\n",
"r2 = det(B(2,1)) - e2*det(B(1,1));\n",
"r3 = det(B(3,1)) - e3*r2;\n",
"r4= det(B(4,1)) - e4*r3; \n",
"N = [r1;r2;r3;r4];\n",
"T4 = r4/det(U(4,4));\n",
"T3 = (r3 - g*T4)/det(U(3,3));\n",
"T2 = (r2 - g*T3)/det(U(2,2));\n",
"T1 = (r1 - g*T2)/det(U(1,1));\n",
"disp(T1,'T1 = ')\n",
"disp(T2,'T2 = ')\n",
"disp(T3,'T3 = ')\n",
"disp(T4,'T4 = ')"
   ]
   }
,
{
		   "cell_type": "markdown",
		   "metadata": {},
		   "source": [
			"## Example 11.2: Cholesky_Decompositio.sce"
		   ]
		  },
  {
"cell_type": "code",
	   "execution_count": null,
	   "metadata": {
	    "collapsed": true
	   },
	   "outputs": [],
"source": [
"//clc()\n",
"A = [6,15,55;15,55,225;55,225,979];\n",
"sl = 0\n",
"l11 = (det(A(1,1)))^(1/2);\n",
"//for second row\n",
"l21 = (det(A(2,1)))/l11;\n",
"l22 = (det(A(2,2)) - l21^2)^(0.5);\n",
"//for third row\n",
"l31 = (det(A(3,1)))/l11;\n",
"l32 = (det(A(3,2)) - l21*l31)/l22;\n",
"l33 = (det(A(3,3)) - l31^2 - l32^2)^(0.5);\n",
"L = [l11,0,0;l21,l22,0;l31,l32,l33];\n",
"disp(L,'L = ')"
   ]
   }
,
{
		   "cell_type": "markdown",
		   "metadata": {},
		   "source": [
			"## Example 11.3: Gauss_Seidel_method.sce"
		   ]
		  },
  {
"cell_type": "code",
	   "execution_count": null,
	   "metadata": {
	    "collapsed": true
	   },
	   "outputs": [],
"source": [
"//clc()\n",
"//3x - 0.1y - 0.2z = 7.85\n",
"//0.1x + 7y - 0.3z = -19.3\n",
"//0.3x - 0.2y + 10z = 71.4\n",
"Y = 0; \n",
"Z = 0;\n",
"for i = 1:2\n",
"    x(i) = (7.85 +0.1*Y+0.2*Z)/3;\n",
"    X = x(i);\n",
"    y(i) = (-19.3 - 0.1*X +0.3*Z)/7;\n",
"    Y = y(i);\n",
"    z(i) = (71.4 - 0.3*X+0.2*Y)/10;\n",
"    Z = z(i);\n",
"    if i==2 then\n",
"        ex = (x(i) - x(i-1))*100/x(i);\n",
"        ey = (y(i) - y(i-1))*100/y(i);\n",
"        ez = (z(i) - z(i-1))*100/z(i);\n",
"    end\n",
"end\n",
"disp(x(1:2),'x through two iterations =')\n",
"disp(y(1:2),'y through two iterations =')\n",
"disp(z(1:2),'z through two iterations =')\n",
"disp('%',ex,'error of x = ')\n",
"disp('%',ey,'error of y = ')\n",
"disp('%',ez,'error of z = ')"
   ]
   }
,
{
		   "cell_type": "markdown",
		   "metadata": {},
		   "source": [
			"## Example 11.4: Linear_systems.sce"
		   ]
		  },
  {
"cell_type": "code",
	   "execution_count": null,
	   "metadata": {
	    "collapsed": true
	   },
	   "outputs": [],
"source": [
"//clc()\n",
"A = [1,0.5,1/3;1,2/3,1/2;1,3/4,3/5];\n",
"B = [1.833333;2.166667;2.35];\n",
"U = inv(A);\n",
"X = U*B;\n",
"x = det(X(1,1));\n",
"y = det(X(2,1));\n",
"z = det(X(3,1));\n",
"disp(x,'x = ')\n",
"disp(y,'y = ')\n",
"disp(z,'z = ')"
   ]
   }
,
{
		   "cell_type": "markdown",
		   "metadata": {},
		   "source": [
			"## Example 11.5: Manipulate_linear_algebraic_equations.sce"
		   ]
		  },
  {
"cell_type": "code",
	   "execution_count": null,
	   "metadata": {
	    "collapsed": true
	   },
	   "outputs": [],
"source": [
"//clc()\n",
"A = [1,0.5,1/3;1,2/3,1/2;1,3/4,3/5];\n",
"B = [1.833333;2.166667;2.35];\n",
"U = inv(A);\n",
"X = U*B;\n",
"x = det(X(1,1));\n",
"y = det(X(2,1));\n",
"z = det(X(3,1));\n",
"disp(x,'x = ')\n",
"disp(y,'y = ')\n",
"disp(z,'z = ')"
   ]
   }
,
{
		   "cell_type": "markdown",
		   "metadata": {},
		   "source": [
			"## Example 11.6: Analyze_and_solve_Hilbert_matrix.sce"
		   ]
		  },
  {
"cell_type": "code",
	   "execution_count": null,
	   "metadata": {
	    "collapsed": true
	   },
	   "outputs": [],
"source": [
"//clc()\n",
"A = [1,0.5,1/3;1/2,1/3,1/4;1/3,1/4,1/5];\n",
"B = [1.833333;1.083333;0.783333];\n",
"U = inv(A);\n",
"X = U*B;\n",
"x = det(X(1,1));\n",
"y = det(X(2,1));\n",
"z = det(X(3,1));\n",
"disp(x,'x = ')\n",
"disp(y,'y = ')\n",
"disp(z,'z = ')"
   ]
   }
],
"metadata": {
		  "kernelspec": {
		   "display_name": "Scilab",
		   "language": "scilab",
		   "name": "scilab"
		  },
		  "language_info": {
		   "file_extension": ".sce",
		   "help_links": [
			{
			 "text": "MetaKernel Magics",
			 "url": "https://github.com/calysto/metakernel/blob/master/metakernel/magics/README.md"
			}
		   ],
		   "mimetype": "text/x-octave",
		   "name": "scilab",
		   "version": "0.7.1"
		  }
		 },
		 "nbformat": 4,
		 "nbformat_minor": 0
}
