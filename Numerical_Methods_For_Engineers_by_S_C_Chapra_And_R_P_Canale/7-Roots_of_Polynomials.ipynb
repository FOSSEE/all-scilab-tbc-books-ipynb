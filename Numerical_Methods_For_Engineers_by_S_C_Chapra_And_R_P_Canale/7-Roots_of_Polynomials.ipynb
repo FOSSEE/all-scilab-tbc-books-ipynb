{
"cells": [
 {
		   "cell_type": "markdown",
	   "metadata": {},
	   "source": [
       "# Chapter 7: Roots of Polynomials"
	   ]
	},
{
		   "cell_type": "markdown",
		   "metadata": {},
		   "source": [
			"## Example 7.1: Polynomial_Deflation.sce"
		   ]
		  },
  {
"cell_type": "code",
	   "execution_count": null,
	   "metadata": {
	    "collapsed": true
	   },
	   "outputs": [],
"source": [
"clc;\n",
"clear;\n",
"function y=f(x)\n",
"    y=(x-4)*(x+6)\n",
"endfunction\n",
"n=2;\n",
"a(1)=-24;\n",
"a(2)=2;\n",
"a(3)=1;\n",
"t=4;\n",
"r=a(3);\n",
"a(3)=0;\n",
"for i=(n):-1:1\n",
"    s=a(i);\n",
"    a(i)=r;\n",
"    r=s+r*t;\n",
"end\n",
"disp('The quptient is a(1)+a(2)*x where :')\n",
"disp(a(1),'a(1)=')\n",
"disp(a(2),'a(2)=')\n",
"disp(r,'remainder=')"
   ]
   }
,
{
		   "cell_type": "markdown",
		   "metadata": {},
		   "source": [
			"## Example 7.2: Mullers_Method.sce"
		   ]
		  },
  {
"cell_type": "code",
	   "execution_count": null,
	   "metadata": {
	    "collapsed": true
	   },
	   "outputs": [],
"source": [
"clc;\n",
"clear;\n",
"function y=f(x)\n",
"    y=x^3 - 13*x - 12\n",
"endfunction\n",
"\n",
"x1t=-3;\n",
"x2t=-1;\n",
"x3t=4;\n",
"x0=4.5;\n",
"x1=5.5;\n",
"x2=5;\n",
"disp(0,'iteration:')\n",
"disp(x2,'xr:')\n",
"disp('---------------------------------------------')\n",
"for i=1:4\n",
"\n",
"h0=x1-x0;\n",
"h1=x2-x1;\n",
"d0=(f(x1)-f(x0))/(x1-x0);\n",
"d1=(f(x2)-f(x1))/(x2-x1);\n",
"a=(d1-d0)/(h1+h0);\n",
"b=a*h1+d1;\n",
"c=f(x2);\n",
"d=(b^2 - 4*a*c)^0.5;\n",
"if abs(b+d)>abs(b-d) then x3=x2+((-2*c)/(b+d));\n",
"else x3=x2+((-2*c)/(b-d)); end\n",
"ea=abs(x3-x2)*100/x3;\n",
"x0=x1;\n",
"x1=x2;\n",
"x2=x3;\n",
"disp(i,'iteration:')\n",
"disp(x2,'xr:')\n",
"disp(ea,'ea(%):')\n",
"disp('---------------------------------------------')\n",
"end"
   ]
   }
,
{
		   "cell_type": "markdown",
		   "metadata": {},
		   "source": [
			"## Example 7.3: Bairstows_Method.sce"
		   ]
		  },
  {
"cell_type": "code",
	   "execution_count": null,
	   "metadata": {
	    "collapsed": true
	   },
	   "outputs": [],
"source": [
"clc;\n",
"clear;\n",
"function y=f(x)\n",
"    y=x^5-3.5*x^4+2.75*x^3+2.125*x^2-3.875*x+1.25\n",
"endfunction\n",
"r=-1;\n",
"s=-1;\n",
"es=1;//%\n",
"n=6;\n",
"count=1;\n",
"ear=100;\n",
"eas=100;\n",
"a=[1.25 -3.875 2.125 2.75 -3.5 1];\n",
"while (ear>es) and (eas>es)\n",
"  \n",
"    b(n)=a(n);\n",
"    b(n-1)=a(n-1)+r*b(n);\n",
"    for i=n-2:-1:1\n",
"        b(i)=a(i)+r*b(i+1)+s*b(i+2);\n",
"    end\n",
"    c(n)=b(n);\n",
"    c(n-1)=b(n-1)+r*c(n);\n",
"    for i=(n-2):-1:2\n",
"        c(i)=b(i)+r*c(i+1)+s*c(i+2);\n",
"    end\n",
"    //c(3)*dr+c(4)*ds=-b(2)\n",
"    //c(2)*dr+c(3)*ds=-b(1)\n",
"    ds=((-b(1))+(b(2)*c(2)/c(3)))/(c(3)-(c(4)*c(2    )/c(3)));\n",
"    dr=(-b(2)-c(4)*ds)/c(3);\n",
"    r=r+dr;\n",
"    s=s+ds;\n",
"    ear=abs(dr/r)*100;\n",
"    eas=abs(ds/s)*100;\n",
"    disp(count,'Iteration:')\n",
"    disp(dr,'delata r:')\n",
"    disp(ds,'delata s:')\n",
"    disp(r,'r:')\n",
"    disp(s,'s:')\n",
"    disp(ear,'Error in r:')\n",
"    disp(eas,'Error in s:')\n",
"    disp('-----------------------------------------------------')\n",
"    count=count+1;\n",
"end\n",
"x1=(r+(r^2 + 4*s)^0.5)/2;\n",
"x2=(r-(r^2 + 4*s)^0.5)/2;\n",
"bracket=[x1 x2];\n",
"disp(bracket,'The roots are:')\n",
"disp('x^3 - 4*x^2 + 5.25*x - 2.5','The quotient is:')\n",
"disp('-----------------------------------------------------')"
   ]
   }
,
{
		   "cell_type": "markdown",
		   "metadata": {},
		   "source": [
			"## Example 7.4: Locate_single_root.sce"
		   ]
		  },
  {
"cell_type": "code",
	   "execution_count": null,
	   "metadata": {
	    "collapsed": true
	   },
	   "outputs": [],
"source": [
"clc;\n",
"clear;\n",
"function y=f(x)\n",
"    y=x-cos(x)\n",
"endfunction\n",
"x1=0;\n",
"if f(x1)<0 then\n",
"    x2=x1+0.001;\n",
"    while f(x2)<0\n",
"        x2=x2+0.001;\n",
"    end\n",
"elseif x2=x1+0.001;\n",
"    while f(x2)>0\n",
"        x2=x2+0.001;\n",
"    end\n",
"else disp(x1,'The root is=')\n",
"end\n",
"x=x2-(x2-x1)*f(x2)/(f(x2)-f(x1));\n",
"disp(x,'The root is=')"
   ]
   }
,
{
		   "cell_type": "markdown",
		   "metadata": {},
		   "source": [
			"## Example 7.5: Solving_nonlinear_system.sce"
		   ]
		  },
  {
"cell_type": "code",
	   "execution_count": null,
	   "metadata": {
	    "collapsed": true
	   },
	   "outputs": [],
"source": [
"clc;\n",
"clear;\n",
"function z=u(x,y)\n",
"    z=x^2+x*y-10\n",
"endfunction\n",
"function z=v(x,y)\n",
"    z=y+3*x*y^2-57\n",
"endfunction\n",
"x=1;\n",
"y=3.5;\n",
"while u(x,y)~=v(x,y)\n",
"    x=x+1;\n",
"    y=y-0.5;\n",
"end\n",
"disp(x,'x=')\n",
"disp(y,'y=')"
   ]
   }
,
{
		   "cell_type": "markdown",
		   "metadata": {},
		   "source": [
			"## Example 7.6: Root_Locatio.sce"
		   ]
		  },
  {
"cell_type": "code",
	   "execution_count": null,
	   "metadata": {
	    "collapsed": true
	   },
	   "outputs": [],
"source": [
"clc;\n",
"clear;\n",
"x=poly(0,'s');\n",
"p=x^10 -1;\n",
"disp('The roots of the polynomial are:')\n",
"disp(roots(p))"
   ]
   }
,
{
		   "cell_type": "markdown",
		   "metadata": {},
		   "source": [
			"## Example 7.7: Roots_of_Polynomials.sce"
		   ]
		  },
  {
"cell_type": "code",
	   "execution_count": null,
	   "metadata": {
	    "collapsed": true
	   },
	   "outputs": [],
"source": [
"clc;\n",
"clear;\n",
"x=poly(0,'s');\n",
"p=x^5 - 3.5*x^4 +2.75*x^3 +2.125*x^2 - 3.875*x + 1.25;\n",
"disp('The roots of the polynomial are:')\n",
"disp(roots(p))"
   ]
   }
,
{
		   "cell_type": "markdown",
		   "metadata": {},
		   "source": [
			"## Example 7.8: Root_Locatio.sce"
		   ]
		  },
  {
"cell_type": "code",
	   "execution_count": null,
	   "metadata": {
	    "collapsed": true
	   },
	   "outputs": [],
"source": [
"clc;\n",
"clear;\n",
"function y=f(x)\n",
"    y=x-cos(x)\n",
"endfunction\n",
"x1=0;\n",
"if f(x1)<0 then\n",
"    x2=x1+0.00001;\n",
"    while f(x2)<0\n",
"        x2=x2+0.00001;\n",
"    end\n",
"elseif x2=x1+0.00001;\n",
"    while f(x2)>0\n",
"        x2=x2+0.00001;\n",
"    end\n",
"else disp(x1,'The root is=')\n",
"end\n",
"x=x2-(x2-x1)*f(x2)/(f(x2)-f(x1));\n",
"disp(x,'The root is=')"
   ]
   }
],
"metadata": {
		  "kernelspec": {
		   "display_name": "Scilab",
		   "language": "scilab",
		   "name": "scilab"
		  },
		  "language_info": {
		   "file_extension": ".sce",
		   "help_links": [
			{
			 "text": "MetaKernel Magics",
			 "url": "https://github.com/calysto/metakernel/blob/master/metakernel/magics/README.md"
			}
		   ],
		   "mimetype": "text/x-octave",
		   "name": "scilab",
		   "version": "0.7.1"
		  }
		 },
		 "nbformat": 4,
		 "nbformat_minor": 0
}
