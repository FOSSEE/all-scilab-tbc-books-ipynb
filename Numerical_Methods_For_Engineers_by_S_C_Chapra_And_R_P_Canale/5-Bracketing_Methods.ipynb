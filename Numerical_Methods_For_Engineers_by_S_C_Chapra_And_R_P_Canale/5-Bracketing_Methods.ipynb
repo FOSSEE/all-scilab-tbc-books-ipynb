{
"cells": [
 {
		   "cell_type": "markdown",
	   "metadata": {},
	   "source": [
       "# Chapter 5: Bracketing Methods"
	   ]
	},
{
		   "cell_type": "markdown",
		   "metadata": {},
		   "source": [
			"## Example 5.1: Graphical_Approach.sce"
		   ]
		  },
  {
"cell_type": "code",
	   "execution_count": null,
	   "metadata": {
	    "collapsed": true
	   },
	   "outputs": [],
"source": [
"clc;\n",
"clear;\n",
"m=68.1;//kg\n",
"v=40;//m/s\n",
"t=10;//s\n",
"g=9.8;//m/s^2\n",
"function y=f(c)\n",
"    y=g*m*(1-exp(-c*t/m))/c - v;\n",
"endfunction\n",
"disp('For various values of c and f(c) is found as:')\n",
"i=0;\n",
"for c=4:4:20\n",
"    i=i+1;\n",
"    bracket=[c f(c)];\n",
"    disp(bracket)\n",
"    fc(i)=f(c);\n",
"end\n",
"c=[4 8 12 16 20]\n",
"plot2d(c,fc)\n",
"xtitle('f(c) vs c','c','f(c) (m/s)')"
   ]
   }
,
{
		   "cell_type": "markdown",
		   "metadata": {},
		   "source": [
			"## Example 5.2: Computer_Graphics_to_Locate_Roots.sce"
		   ]
		  },
  {
"cell_type": "code",
	   "execution_count": null,
	   "metadata": {
	    "collapsed": true
	   },
	   "outputs": [],
"source": [
"clc;\n",
"clear;\n",
"function y=f(x)\n",
"    y=sin(10*x)+cos(3*x);\n",
"endfunction\n",
"count=1;\n",
"for i=1:0.05:5\n",
"    val(count)=i;\n",
"    func(count)=f(i);\n",
"    count=count+1;\n",
"end\n",
"plot2d(val,func)\n",
"xtitle('x vs f(x)','x','f(x)')"
   ]
   }
,
{
		   "cell_type": "markdown",
		   "metadata": {},
		   "source": [
			"## Example 5.3: Bisectio.sce"
		   ]
		  },
  {
"cell_type": "code",
	   "execution_count": null,
	   "metadata": {
	    "collapsed": true
	   },
	   "outputs": [],
"source": [
"clc;\n",
"clear;\n",
"m=68.1;//kg\n",
"v=40;//m/s\n",
"t=10;//s\n",
"g=9.8;//m/s^2\n",
"function y=f(c)\n",
"    y=g*m*(1-exp(-c*t/m))/c - v;\n",
"endfunction\n",
"x1=12;\n",
"x2=16;\n",
"xt=14.7802;//true value\n",
"e=input('enter the tolerable true percent error=')\n",
"xr=(x1+x2)/2;\n",
"etemp=abs(xr-xt)/xt*100;//error\n",
"while etemp>e\n",
"    if f(x1)*f(xr)>0 then \n",
"        x1=xr;\n",
"        xr=(x1+x2)/2;\n",
"        etemp=abs(xr-xt)/xt*100;\n",
"    end\n",
"    if f(x1)*f(xr)<0 then\n",
"            x2=xr;\n",
"            xr=(x1+x2)/2;\n",
"            etemp=abs(xr-xt)/xt*100;\n",
"    end\n",
"    if f(x1)*f(xr)==0 then break;\n",
"    end\n",
"end\n",
"\n",
"disp(xr,'The result is=')"
   ]
   }
,
{
		   "cell_type": "markdown",
		   "metadata": {},
		   "source": [
			"## Example 5.4: Error_Estimates_for_Bisectio.sce"
		   ]
		  },
  {
"cell_type": "code",
	   "execution_count": null,
	   "metadata": {
	    "collapsed": true
	   },
	   "outputs": [],
"source": [
"clc;\n",
"clear;\n",
"m=68.1;//kg\n",
"v=40;//m/s\n",
"t=10;//s\n",
"g=9.8;//m/s^2\n",
"function y=f(c)\n",
"    y=g*m*(1-exp(-c*t/m))/c - v;\n",
"endfunction\n",
"x1=12;\n",
"x2=16;\n",
"xt=14.7802;//true value\n",
"e=input('enter the tolerable approximate error=')\n",
"xr=(x1+x2)/2;\n",
"i=1;\n",
"et=abs(xr-xt)/xt*100;//error\n",
"disp(i,'Iteration:')\n",
"disp(x1,'xl:')\n",
"disp(x2,'xu:')\n",
"disp(xr,'xr:')\n",
"disp(et,'et(%):')\n",
"disp('----------------------------------------')\n",
"etemp=100;\n",
"while etemp>e\n",
"    if f(x1)*f(xr)>0 then \n",
"        x1=xr;\n",
"        xr=(x1+x2)/2;\n",
"        etemp=abs(xr-x1)/xr*100;\n",
"        et=abs(xr-xt)/xt*100;\n",
"    end\n",
"    if f(x1)*f(xr)<0 then\n",
"            x2=xr;\n",
"            xr=(x1+x2)/2;\n",
"            etemp=abs(xr-x2)/xr*100;\n",
"            et=abs(xr-xt)/xt*100;\n",
"    end\n",
"    if f(x1)*f(xr)==0 then break;\n",
"    end\n",
"i=i+1;\n",
"disp(i,'Iteration:')\n",
"disp(x1,'xl:')\n",
"disp(x2,'xu:')\n",
"disp(xr,'xr:')\n",
"disp(et,'et(%):')\n",
"disp(etemp,'ea(%)')\n",
"disp('----------------------------------------')\n",
"end\n",
"\n",
"disp(xr,'The result is=')"
   ]
   }
,
{
		   "cell_type": "markdown",
		   "metadata": {},
		   "source": [
			"## Example 5.5: False_Positio.sce"
		   ]
		  },
  {
"cell_type": "code",
	   "execution_count": null,
	   "metadata": {
	    "collapsed": true
	   },
	   "outputs": [],
"source": [
"clc;\n",
"clear;\n",
"m=68.1;//kg\n",
"v=40;//m/s\n",
"t=10;//s\n",
"g=9.8;//m/s^2\n",
"function y=f(c)\n",
"    y=g*m*(1-exp(-c*t/m))/c - v;\n",
"endfunction\n",
"x1=12;\n",
"x2=16;\n",
"xt=14.7802;//true value\n",
"e=input('enter the tolerable true percent error=')\n",
"xr=x1-(f(x1)*(x2-x1))/(f(x2)-f(x1));\n",
"etemp=abs(xr-xt)/xt*100;//error\n",
"while etemp>e\n",
"    if f(x1)*f(xr)>0 then \n",
"        x1=xr;\n",
"        xr=x1-(f(x1)*(x2-x1))/(f(x2)-f(x1));\n",
"        etemp=abs(xr-xt)/xt*100;\n",
"    end\n",
"    if f(x1)*f(xr)<0 then\n",
"            x2=xr;\n",
"            xr=x1-(f(x1)*(x2-x1))/(f(x2)-f(x1));\n",
"            etemp=abs(xr-xt)/xt*100;\n",
"    end\n",
"    if f(x1)*f(xr)==0 then break;\n",
"    end\n",
"end\n",
"disp(xr,'The result is=')"
   ]
   }
,
{
		   "cell_type": "markdown",
		   "metadata": {},
		   "source": [
			"## Example 5.6: Bracketing_and_False_Position_Methods.sce"
		   ]
		  },
  {
"cell_type": "code",
	   "execution_count": null,
	   "metadata": {
	    "collapsed": true
	   },
	   "outputs": [],
"source": [
"clc;\n",
"clear;\n",
"function y=f(x)\n",
"    y=x^10 - 1;\n",
"endfunction\n",
"x1=0;\n",
"x2=1.3;\n",
"xt=1;\n",
"\n",
"//using bisection method\n",
"disp('BISECTION METHOD:')\n",
"xr=(x1+x2)/2;\n",
"et=abs(xr-xt)/xt*100;//error\n",
"disp(1,'Iteration:')\n",
"disp(x1,'xl:')\n",
"disp(x2,'xu:')\n",
"disp(xr,'xr:')\n",
"disp(et,'et(%):')\n",
"disp('----------------------------------------')\n",
"for i=2:5\n",
"    if f(x1)*f(xr)>0 then \n",
"        x1=xr;\n",
"        xr=(x1+x2)/2;\n",
"        ea=abs(xr-x1)/xr*100;\n",
"        et=abs(xr-xt)/xt*100;\n",
"    else if f(x1)*f(xr)<0 then\n",
"            x2=xr;\n",
"            xr=(x1+x2)/2;\n",
"            ea=abs(xr-x2)/xr*100;\n",
"            et=abs(xr-xt)/xt*100;\n",
"        end\n",
"    end\n",
"    if f(x1)*f(xr)==0 then break;\n",
"    end\n",
"    disp(i,'Iteration:')\n",
"    disp(x1,'xl:')\n",
"    disp(x2,'xu:')\n",
"    disp(xr,'xr:')\n",
"    disp(et,'et(%):')\n",
"    disp(ea,'ea(%)')\n",
"    disp('----------------------------------------')\n",
"end\n",
"\n",
"//using false position method\n",
"disp('FALSE POSITION METHOD:')\n",
"x1=0;\n",
"x2=1.3;\n",
"xt=1;\n",
"xr=x1-(f(x1)*(x2-x1))/(f(x2)-f(x1));;\n",
"et=abs(xr-xt)/xt*100;//error\n",
"disp(1,'Iteration:')\n",
"disp(x1,'xl:')\n",
"disp(x2,'xu:')\n",
"disp(xr,'xr:')\n",
"disp(et,'et(%):')\n",
"disp('----------------------------------------')\n",
"for i=2:5\n",
"    if f(x1)*f(xr)>0 then \n",
"        x1=xr;\n",
"        xr=x1-(f(x1)*(x2-x1))/(f(x2)-f(x1));\n",
"        ea=abs(xr-x1)/xr*100;\n",
"        et=abs(xr-xt)/xt*100;\n",
"    \n",
"    else if f(x1)*f(xr)<0 then\n",
"            x2=xr;\n",
"            xr=x1-(f(x1)*(x2-x1))/(f(x2)-f(x1));\n",
"            ea=abs(xr-x2)/xr*100;\n",
"            et=abs(xr-xt)/xt*100;\n",
"        end\n",
"    end\n",
"    if f(x1)*f(xr)==0 then break;\n",
"    end\n",
"    disp(i,'Iteration:')\n",
"    disp(x1,'xl:')\n",
"    disp(x2,'xu:')\n",
"    disp(xr,'xr:')\n",
"    disp(et,'et(%):')\n",
"    disp(ea,'ea(%)')\n",
"    disp('----------------------------------------')\n",
"end\n",
""
   ]
   }
],
"metadata": {
		  "kernelspec": {
		   "display_name": "Scilab",
		   "language": "scilab",
		   "name": "scilab"
		  },
		  "language_info": {
		   "file_extension": ".sce",
		   "help_links": [
			{
			 "text": "MetaKernel Magics",
			 "url": "https://github.com/calysto/metakernel/blob/master/metakernel/magics/README.md"
			}
		   ],
		   "mimetype": "text/x-octave",
		   "name": "scilab",
		   "version": "0.7.1"
		  }
		 },
		 "nbformat": 4,
		 "nbformat_minor": 0
}
