{
"cells": [
 {
		   "cell_type": "markdown",
	   "metadata": {},
	   "source": [
       "# Chapter 19: Fourier Approximation"
	   ]
	},
{
		   "cell_type": "markdown",
		   "metadata": {},
		   "source": [
			"## Example 19.1: Least_Square_Fit.sce"
		   ]
		  },
  {
"cell_type": "code",
	   "execution_count": null,
	   "metadata": {
	    "collapsed": true
	   },
	   "outputs": [],
"source": [
"clc;\n",
"clear;\n",
"function y=f(t)\n",
"    y=1.7+cos(4.189*t+1.0472)\n",
"endfunction\n",
"deltat=0.15;\n",
"t1=0;\n",
"t2=1.35;\n",
"omega=4.189;\n",
"del=(t2-t1)/9;\n",
"for i=1:10\n",
"    t(i)=t1+del*(i-1);\n",
"end\n",
"sumy=0;\n",
"suma=0;\n",
"sumb=0;\n",
"for i=1:10\n",
"    y(i)=f(t(i));\n",
"    a(i)=y(i)*cos(omega*t(i));\n",
"    b(i)=y(i)*sin(omega*t(i));\n",
"    sumy=sumy+y(i);\n",
"    suma=suma+a(i);\n",
"    sumb=sumb+b(i);\n",
"end\n",
"A0=sumy/10;\n",
"A1=2*suma/10;\n",
"B1=2*sumb/10;\n",
"disp('The least square fit is y=A0+A1*cos(w0*t)+A2*sin(w0*t), where')\n",
"disp(A0,'A0=')\n",
"disp(A1,'A1=')\n",
"disp(B1,'B1=')\n",
"theta=atan(-B1/A1);\n",
"C1=(A1^2 + B1^2)^0.5;\n",
"disp('Alternatively, the least square fit can be expressed as')\n",
"disp('y=A0+C1*cos(w0*t + theta), where')\n",
"disp(A0,'A0=')\n",
"disp(theta,'Theta=')\n",
"disp(C1,'C1=')\n",
"disp('Or')\n",
"disp('y=A0+C1*sin(w0*t + theta + pi/2), where')\n",
"disp(A0,'A0=')\n",
"disp(theta,'Theta=')\n",
"disp(C1,'C1=')"
   ]
   }
,
{
		   "cell_type": "markdown",
		   "metadata": {},
		   "source": [
			"## Example 19.2: Continuous_Fourier_Series_Approximation.sce"
		   ]
		  },
  {
"cell_type": "code",
	   "execution_count": null,
	   "metadata": {
	    "collapsed": true
	   },
	   "outputs": [],
"source": [
"clc;\n",
"clear;\n",
"a0=0;\n",
"//f(t)=-1 for -T/2 to -T/4\n",
"//f(t)=1 for -T/4 to T/4\n",
"//f(t)=-1 for T/4 to T/2\n",
"//ak=2/T* (integration of f(t)*cos(w0*t) from -T/2 to T/2)\n",
"//ak=2/T*((integration of f(t)*cos(w0*t) from -T/2 to -T/4) + (integration of f(t)*cos(w0*t) from -T/4 to T/4) + (integration of f(t)*cos(w0*t) from T/4 to T/2))\n",
"//Therefore, \n",
"//ak=4/(k*%pi) for k=1,5,9,.....\n",
"//ak=-4/(k*%pi) for k=3,7,11,.....\n",
"//ak=0 for k=even integers\n",
"//similarly we find the b's.\n",
"//all the b's=0\n",
"disp('The fourier approximtion is:')\n",
"disp('4/(%pi)*cos(w)*t) - 4/(3*%pi)*cos(3*(w)*t) + 4/(5*%pi)*cos(5*(w)*t) - 4/(7*%pi)*cos(7*(w)*t) + .....')"
   ]
   }
,
{
		   "cell_type": "markdown",
		   "metadata": {},
		   "source": [
			"## Example 19.3: Trendline.sce"
		   ]
		  },
  {
"cell_type": "code",
	   "execution_count": null,
	   "metadata": {
	    "collapsed": true
	   },
	   "outputs": [],
"source": [
"clc;\n",
"clear;\n",
"x=0.5:0.5:5.5;\n",
"for i=1:11\n",
"    y(i)=0.9846*ln(x(i))+1.0004;\n",
"end\n",
"plot(x,y)\n",
"xtitle('y vs x','x','y')"
   ]
   }
,
{
		   "cell_type": "markdown",
		   "metadata": {},
		   "source": [
			"## Example 19.4: Data_Analysis.sce"
		   ]
		  },
  {
"cell_type": "code",
	   "execution_count": null,
	   "metadata": {
	    "collapsed": true
	   },
	   "outputs": [],
"source": [
"clc;\n",
"clear;\n",
"s=[0.0002 0.0002 0.0005 0.0005 0.001 0.001];\n",
"r=[0.2 0.5 0.2 0.5 0.2 0.5];\n",
"u=[0.25; 0.5; 0.4; 0.75; 0.5; 1];\n",
"logs=log10(s);\n",
"logr=log10(r);\n",
"logu=log10(u);\n",
"for i=1:6\n",
"    m(i,1)=1;\n",
"    m(i,2)=logs(i);\n",
"    m(i,3)=logr(i);\n",
"end\n",
"\n",
"a=m\logu;\n",
"disp(10^a(1),'alpha=')\n",
"disp(a(2),'sigma=')\n",
"disp(a(3),'rho=')"
   ]
   }
,
{
		   "cell_type": "markdown",
		   "metadata": {},
		   "source": [
			"## Example 19.5: Curve_Fitting.sce"
		   ]
		  },
  {
"cell_type": "code",
	   "execution_count": null,
	   "metadata": {
	    "collapsed": true
	   },
	   "outputs": [],
"source": [
"clc;\n",
"clear;\n",
"x=0:10;\n",
"y=sin(x);\n",
"xi=0:.25:10;\n",
"//part a\n",
"yi=interp1(x,y,xi);\n",
"plot2d(xi,yi)\n",
"xtitle('y vs x (part a)','x','y')\n",
"//part b\n",
"//fitting x and y in a fifth order polynomial\n",
"clf();\n",
"p=[0.0008 -0.0290 0.3542 -1.6854 2.586 -0.0915];\n",
"\n",
"for i=1:41\n",
"    yi(i)=p(1)*(xi(i)^5)+p(2)*(xi(i)^4)+p(3)*(xi(i)^3)+p(4)*(xi(i)^2)+p(5)*(xi(i))+p(6);\n",
"end\n",
"plot2d(xi,yi);\n",
"xtitle('y vs x (part b)','x','y')\n",
"//part c\n",
"clf();\n",
"d=splin(x,y)\n",
"yi-interp(xi,x,y,d)\n",
"plot2d(xi,yi)\n",
"xtitle('y vs x (part c)','x','y')"
   ]
   }
,
{
		   "cell_type": "markdown",
		   "metadata": {},
		   "source": [
			"## Example 19.6: Polynomial_Regression.sce"
		   ]
		  },
  {
"cell_type": "code",
	   "execution_count": null,
	   "metadata": {
	    "collapsed": true
	   },
	   "outputs": [],
"source": [
"clc;\n",
"clear;\n",
"x=[0.05 0.12 0.15 0.3 0.45 0.7 0.84 1.05];\n",
"y=[0.957 0.851 0.832 0.72 0.583 0.378 0.295 0.156];\n",
"sx=sum(x);\n",
"sxx=sum(x.*x);\n",
"sx3=sum(x.*x.*x);\n",
"sx4=sum(x.*x.*x.*x);\n",
"sx5=sum(x.*x.*x.*x.*x);\n",
"sx6=sum(x.*x.*x.*x.*x.*x);\n",
"n=8;\n",
"sy=sum(y);\n",
"sxy=sum(x.*y);\n",
"sx2y=sum(x.*x.*y);\n",
"sx3y=sum(x.*x.*x.*y);\n",
"m=[n sx sxx sx3;sx sxx sx3 sx4;sxx sx3 sx4 sx5;sx3 sx4 sx5 sx6];\n",
"p=[sy;sxy;sx2y;sx3y];\n",
"a=m\p;\n",
"disp('The cubic polynomial is y=a0 + a1*x + a2*x^2 + a3*x^3, where a0, a1, a2 and a3 are')\n",
"disp(a)"
   ]
   }
],
"metadata": {
		  "kernelspec": {
		   "display_name": "Scilab",
		   "language": "scilab",
		   "name": "scilab"
		  },
		  "language_info": {
		   "file_extension": ".sce",
		   "help_links": [
			{
			 "text": "MetaKernel Magics",
			 "url": "https://github.com/calysto/metakernel/blob/master/metakernel/magics/README.md"
			}
		   ],
		   "mimetype": "text/x-octave",
		   "name": "scilab",
		   "version": "0.7.1"
		  }
		 },
		 "nbformat": 4,
		 "nbformat_minor": 0
}
