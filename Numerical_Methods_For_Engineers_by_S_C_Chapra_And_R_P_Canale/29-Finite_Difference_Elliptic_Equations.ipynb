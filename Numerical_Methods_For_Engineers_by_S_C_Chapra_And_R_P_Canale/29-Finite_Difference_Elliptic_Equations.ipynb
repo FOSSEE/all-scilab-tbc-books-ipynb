{
"cells": [
 {
		   "cell_type": "markdown",
	   "metadata": {},
	   "source": [
       "# Chapter 29: Finite Difference Elliptic Equations"
	   ]
	},
{
		   "cell_type": "markdown",
		   "metadata": {},
		   "source": [
			"## Example 29.1: Temperature_of_a_heated_plate_with_fixed_boundary_conditions.sce"
		   ]
		  },
  {
"cell_type": "code",
	   "execution_count": null,
	   "metadata": {
	    "collapsed": true
	   },
	   "outputs": [],
"source": [
"//clc()\n",
"wf = 1.5;\n",
"for i = 1:5\n",
"    for j = 1:5\n",
"        T(i,j) = 0;\n",
"        if j == 1 then\n",
"            T(i,j) = 0;//C\n",
"        else\n",
"            if j == 5 then\n",
"                 T(i,j) = 100;//C\n",
"            end\n",
"        end\n",
"        if i == 1 then\n",
"            T(i,j) = 75;//C\n",
"        else\n",
"            if i == 5 then\n",
"                T(i,j) = 50;//C\n",
"            end\n",
"        end\n",
"    end\n",
"end\n",
"e = 100;\n",
"while e>1\n",
"for i=1:5\n",
"    for j = 1:5\n",
"        if i>1 & j>1 & i<5 & j<5 then\n",
"        Tn(i,j) = (T(i + 1,j) + T(i-1,j) + T(i,j+1) + T(i,j-1))/4;\n",
"        Tn(i,j) = wf * Tn(i,j) + (1-wf)*T(i,j);\n",
"            if i==2 & j==2 then\n",
"            e = abs((Tn(i,j) - T(i,j)) * 100/ (Tn(i,j)));\n",
"            end\n",
"        T(i,j) = Tn(i,j);\n",
"        end\n",
"    end\n",
"end\n",
"end\n",
"disp(T(2:4,2:4),'for error < 1, the temperatures are')\n",
""
   ]
   }
,
{
		   "cell_type": "markdown",
		   "metadata": {},
		   "source": [
			"## Example 29.2: Flux_distribution_for_a_heated_plate.sce"
		   ]
		  },
  {
"cell_type": "code",
	   "execution_count": null,
	   "metadata": {
	    "collapsed": true
	   },
	   "outputs": [],
"source": [
"//clc()\n",
"k = 0.49;//cal/(s.cm.C)\n",
"T1 = 33.29755;//C\n",
"T2 = 75;//C\n",
"T3 = 63.21152;//C\n",
"T4 = 0;//C\n",
"qx = -k * (T1 - T2) / (2*10);\n",
"qy = -k * (T3 - T4) / (2*10);\n",
"disp(qx,'qx = ')\n",
"disp(qy,'qy = ')\n",
"q = (qx^2 + qy^2)^0.5;\n",
"t = (atan(qy/qx));\n",
"r = t * 180/(%pi);\n",
"disp(r,'Thus, the flux is direced at the angle')"
   ]
   }
,
{
		   "cell_type": "markdown",
		   "metadata": {},
		   "source": [
			"## Example 29.3: Heated_plate_with_a_insulated_edge.sce"
		   ]
		  },
  {
"cell_type": "code",
	   "execution_count": null,
	   "metadata": {
	    "collapsed": true
	   },
	   "outputs": [],
"source": [
"//clc()\n",
"//since, insulation is done at one end,the general equation becomes(j=0),\n",
"//T(i+1,0) + T(i-1,0) + 2*T(i,1) -2*y*(dT/dy) - 4*T(i,0) = 0\n",
"//the derivative is zero and we get , T(i+1,0) + T(i-1,0) + 2*T(i,1) - 4*T(i,0) = 0\n",
"//the simultaneous equations obtained can be written in matrix form as follows,\n",
"A = [4,-1,0,-2,0,0,0,0,0,0,0,0;-1,4,-1,0,-2,0,0,0,0,0,0,0;0,-1,4,0,0,-2,0,0,0,0,0,0;-1,0,0,4,-1,0,-1,0,0,0,0,0;0,-1,0,-1,4,-1,0,-1,0,0,0,0;0,0,-1,0,-1,4,0,0,-1,0,0,0;0,0,0,-1,0,0,4,-1,0,-1,0,0;0,0,0,0,-1,0,-1,4,-1,0,-1,0;0,0,0,0,0,-1,0,-1,4,0,0,-1;0,0,0,0,0,0,-1,0,0,4,-1,0;0,0,0,0,0,0,0,-1,0,-1,4,-1;0,0,0,0,0,0,0,0,-1,0,-1,4];\n",
"disp(A,'A = ')\n",
"B = [75;0;50;75;0;50;75;0;50;175;100;150];\n",
"disp(B,'B = ')\n",
"T = inv(A)*B;\n",
"T10 = det(T(1,1));\n",
"T20 = det(T(2,1));\n",
"T30 = det(T(3,1));\n",
"T11 = det(T(4,1));\n",
"T21 = det(T(5,1));\n",
"T31 = det(T(6,1));\n",
"T12 = det(T(7,1));\n",
"T22 = det(T(8,1));\n",
"T32 = det(T(9,1));\n",
"T13 = det(T(10,1));\n",
"T23 = det(T(11,1));\n",
"T33 = det(T(12,1));\n",
"disp(T10,'T10 = ')\n",
"disp(T20,'T20 = ')\n",
"disp(T30,'T30 = ')\n",
"disp(T11,'T11 = ')\n",
"disp(T21,'T21 = ')\n",
"disp(T31,'T31 = ')\n",
"disp(T12,'T12 = ')\n",
"disp(T22,'T22 = ')\n",
"disp(T32,'T32 = ')\n",
"disp(T13,'T13 = ')\n",
"disp(T23,'T23 = ')\n",
"disp(T33,'T33 = ')"
   ]
   }
,
{
		   "cell_type": "markdown",
		   "metadata": {},
		   "source": [
			"## Example 29.4: Heated_plate_with_an_irregular_boundary.sce"
		   ]
		  },
  {
"cell_type": "code",
	   "execution_count": null,
	   "metadata": {
	    "collapsed": true
	   },
	   "outputs": [],
"source": [
"//clc()\n",
"//for irregular boundary,\n",
"//x = y\n",
"alpha1 = 0.732;\n",
"beta1 = 0.732;\n",
"alpha2 = 1;\n",
"beta2 = 1;\n",
"//substituting the above value to obtain simultaneous equation we get the following matrix,\n",
"A = [4,-0.845,0,-0.845,0,0,0,0,0;-1,4,-1,0,-1,0,0,0,0;0,-1,4,0,0,-1,0,0,0;-1,0,0,4,-1,0,-1,0,0;0,-1,0,-1,4,-1,0,-1,0;0,0,-1,0,-1,4,0,0,-1;0,0,0,-1,0,0,4,-1,0;0,0,0,0,-1,0,-1,4,-1;0,0,0,0,0,-1,0,-1,4];\n",
"disp(A,'A = ')\n",
"B = [173.2;75;125;75;0;50;175;100;150];\n",
"disp(B,'B = ')\n",
"T = inv(A)*B;\n",
"T11 = det(T(1,1));\n",
"T21 = det(T(2,1));\n",
"T31 = det(T(3,1));\n",
"T12 = det(T(4,1));\n",
"T22 = det(T(5,1));\n",
"T32 = det(T(6,1));\n",
"T13 = det(T(7,1));\n",
"T23 = det(T(8,1));\n",
"T33 = det(T(9,1));\n",
"disp(T11,'T11 = ')\n",
"disp(T21,'T21 = ')\n",
"disp(T31,'T31 = ')\n",
"disp(T12,'T12 = ')\n",
"disp(T22,'T22 = ')\n",
"disp(T32,'T32 = ')\n",
"disp(T13,'T13 = ')\n",
"disp(T23,'T23 = ')\n",
"disp(T33,'T33 = ')"
   ]
   }
],
"metadata": {
		  "kernelspec": {
		   "display_name": "Scilab",
		   "language": "scilab",
		   "name": "scilab"
		  },
		  "language_info": {
		   "file_extension": ".sce",
		   "help_links": [
			{
			 "text": "MetaKernel Magics",
			 "url": "https://github.com/calysto/metakernel/blob/master/metakernel/magics/README.md"
			}
		   ],
		   "mimetype": "text/x-octave",
		   "name": "scilab",
		   "version": "0.7.1"
		  }
		 },
		 "nbformat": 4,
		 "nbformat_minor": 0
}
