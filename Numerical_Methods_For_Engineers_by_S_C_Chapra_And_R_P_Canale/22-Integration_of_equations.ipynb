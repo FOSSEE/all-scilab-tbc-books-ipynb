{
"cells": [
 {
		   "cell_type": "markdown",
	   "metadata": {},
	   "source": [
       "# Chapter 22: Integration of equations"
	   ]
	},
{
		   "cell_type": "markdown",
		   "metadata": {},
		   "source": [
			"## Example 22.1: Error_corrections_of_the_trapezoidal_rule.sce"
		   ]
		  },
  {
"cell_type": "code",
	   "execution_count": null,
	   "metadata": {
	    "collapsed": true
	   },
	   "outputs": [],
"source": [
"//clc()\n",
"h = [0.8,0.4,0.2];\n",
"I = [0.1728,1.0688,1.4848];\n",
"E = [89.5,34.9,9.5];\n",
"I1 = 4 * I(2) / 3 - I(1) / 3;\n",
"t = 1.640533;\n",
"et1 = t - I1 ;\n",
"Et1 = et1 * 100/t;\n",
"disp('%',Et1,'Error of the improved integral for segment 1 and 2 = ')\n",
"I2 = 4 * I(3) / 3 - I(2) / 3;\n",
"et2 = t - I2 ;\n",
"Et2 = et2 * 100/t;\n",
"disp('%',Et2,'Error of the improved integral for segment 4 and 2 = ')\n",
""
   ]
   }
,
{
		   "cell_type": "markdown",
		   "metadata": {},
		   "source": [
			"## Example 22.2: Higher_order_error_correction_of_integral_estimates.sce"
		   ]
		  },
  {
"cell_type": "code",
	   "execution_count": null,
	   "metadata": {
	    "collapsed": true
	   },
	   "outputs": [],
"source": [
"//clc()\n",
"I1 = 1.367467;\n",
"I2 = 1.623467;\n",
"I = 16 * I2 /15 - I1 / 15;\n",
"disp(I,'Obtained integral which is the correct answer till the seventh decimal')"
   ]
   }
,
{
		   "cell_type": "markdown",
		   "metadata": {},
		   "source": [
			"## Example 22.3: Two_point_gauss_legendre_formulae.sce"
		   ]
		  },
  {
"cell_type": "code",
	   "execution_count": null,
	   "metadata": {
	    "collapsed": true
	   },
	   "outputs": [],
"source": [
"//clc()\n",
"//f(x) = 0.2 + 25*x - 200*x^2 + 675*x^3 - 900*x^4 + 400*x^5\n",
"// for using two point gauss legendre formulae, the intervals have to be changed to -1 and 1\n",
"//therefore, x = 0.4 + 0.4 * xd\n",
"//thus the integral is transferred to \n",
"//(0.2 + 25*(0.4+0.4*x) - 200*(0.4 + 0.4*x)^2 + 675*(0.4 + 0.4*x)^3 - 900*(0.4 + 0.4*x)^4 + 400*(0.4 + 0.4*x)^5)*0.4\n",
"//for three point gauss legendre formulae\n",
"x1 = -(1/3) ^ 0.5;\n",
"x2 = (1/3) ^ 0.5;\n",
"I1 = (0.2 + 25*(0.4+0.4*x1) - 200*(0.4 + 0.4*x1)^2 + 675*(0.4 + 0.4*x1)^3 - 900*(0.4 + 0.4*x1)^4 + 400*(0.4 + 0.4*x1)^5)*0.4;\n",
"I2 = (0.2 + 25*(0.4+0.4*x2) - 200*(0.4 + 0.4*x2)^2 + 675*(0.4 + 0.4*x2)^3 - 900*(0.4 + 0.4*x2)^4 + 400*(0.4 + 0.4*x2)^5)*0.4;\n",
"I = I1 + I2;\n",
"disp(I,'Integral obtained using gauss legendre formulae =')\n",
"t = 1.640533;\n",
"e = (t - I)*100/t;\n",
"disp('%',e,'error = ')"
   ]
   }
,
{
		   "cell_type": "markdown",
		   "metadata": {},
		   "source": [
			"## Example 22.4: Three_point_gauss_legendre_method.sce"
		   ]
		  },
  {
"cell_type": "code",
	   "execution_count": null,
	   "metadata": {
	    "collapsed": true
	   },
	   "outputs": [],
"source": [
"//clc()\n",
"//f(x) = 0.2 + 25*x - 200*x^2 + 675*x^3 - 900*x^4 + 400*x^5\n",
"// for using three point gauss legendre formulae, the intervals have to be changed to -1 and 1\n",
"//therefore, x = 0.4 + 0.4 * xd\n",
"//thus the integral is transferred to \n",
"//(0.2 + 25*(0.4+0.4*x) - 200*(0.4 + 0.4*x)^2 + 675*(0.4 + 0.4*x)^3 - 900*(0.4 + 0.4*x)^4 + 400*(0.4 + 0.4*x)^5)*0.4\n",
"//for three point gauss legendre formulae\n",
"x1 = -0.7745967;\n",
"x2 = 0;\n",
"x3 = 0.7745967;\n",
"c0 = 0.5555556;\n",
"c1 = 0.8888889;\n",
"c2 = 0.5555556;\n",
"I1 = (0.2 + 25*(0.4+0.4*x1) - 200*(0.4 + 0.4*x1)^2 + 675*(0.4 + 0.4*x1)^3 - 900*(0.4 + 0.4*x1)^4 + 400*(0.4 + 0.4*x1)^5)*0.4;\n",
"I2 = (0.2 + 25*(0.4+0.4*x2) - 200*(0.4 + 0.4*x2)^2 + 675*(0.4 + 0.4*x2)^3 - 900*(0.4 + 0.4*x2)^4 + 400*(0.4 + 0.4*x2)^5)*0.4;\n",
"I3 = (0.2 + 25*(0.4+0.4*x3) - 200*(0.4 + 0.4*x3)^2 + 675*(0.4 + 0.4*x3)^3 - 900*(0.4 + 0.4*x3)^4 + 400*(0.4 + 0.4*x3)^5)*0.4;\n",
"I = c0 * I1 + c1 * I2 + c2 * I3;\n",
"disp(I,'integral obtained using three point gauss legendre formulae = ')"
   ]
   }
,
{
		   "cell_type": "markdown",
		   "metadata": {},
		   "source": [
			"## Example 22.5: Applying_Gauss_Quadrature_to_the_falling_Parachutist_problem.sce"
		   ]
		  },
  {
"cell_type": "code",
	   "execution_count": null,
	   "metadata": {
	    "collapsed": true
	   },
	   "outputs": [],
"source": [
"//clc()\n",
"//f(t) = g*m*(int(0,10,(1-exp(-c*t/m))))/c\n",
"//for using gauss quadrature method, limits are changed to -1 to 1 by replcing x = 5 + 5*xd\n",
"//the new integral obtained is\n",
"//(1 - exp(-c*(5 + 5*x)/m ))*5\n",
"g = 9.8;\n",
"c = 12.5;\n",
"m = 68.1;\n",
"//for two point method\n",
"x1 = -(1/3)^0.5;\n",
"x2 = (1/3)^0.5;\n",
"I1 = g*m*(1 - exp(-c*(5 + 5*x1)/m ))*5 / c;\n",
"I2 = g*m*(1 - exp(-c*(5 + 5*x2)/m ))*5 / c;\n",
"I = I1 + I2;\n",
"disp(I,'integral by two point method = ')\n",
"x1 = -0.7745967;\n",
"x2 = 0;\n",
"x3 = 0.7745967;\n",
"c0 = 0.5555556;\n",
"c1 = 0.8888889;\n",
"c2 = 0.5555556;\n",
"I1 = g*m*(1 - exp(-c*(5 + 5*x1)/m ))*5 / c;\n",
"I2 = g*m*(1 - exp(-c*(5 + 5*x2)/m ))*5 / c;\n",
"I3 = g*m*(1 - exp(-c*(5 + 5*x3)/m ))*5 / c;\n",
"I = c0*I1 + c1 * I2 + c2 * I3;\n",
"disp(I,'integral by three point method =')\n",
"x1 = -0.861136312;\n",
"x2 = -0.339981044;\n",
"x3 = 0.339981044;\n",
"x4 = 0.861136312;\n",
"c1 = 0.3478548;\n",
"c2 = 0.6521452;\n",
"c3 = 0.6521452;\n",
"c4 = 0.3478548;\n",
"I1 = g*m*(1 - exp(-c*(5 + 5*x1)/m ))*5 / c;\n",
"I2 = g*m*(1 - exp(-c*(5 + 5*x2)/m ))*5 / c;\n",
"I3 = g*m*(1 - exp(-c*(5 + 5*x3)/m ))*5 / c;\n",
"I4 = g*m*(1 - exp(-c*(5 + 5*x4)/m ))*5 / c;\n",
"I = c1*I1 + c2 * I2 + c3 * I3 + c4 * I4;\n",
"disp(I,'integral by four point method =')\n",
"x1 = -0.906179846;\n",
"x2 = -0.538469310;\n",
"x3 = 0;\n",
"x4 = 0.538469310;\n",
"x5 = 0.906179846\n",
"c1 = 0.2369269;\n",
"c2 = 0.4786287;\n",
"c3 = 0.5688889;\n",
"c4 = 0.4786287;\n",
"c5 = 0.2369269; \n",
"I1 = g*m*(1 - exp(-c*(5 + 5*x1)/m ))*5 / c;\n",
"I2 = g*m*(1 - exp(-c*(5 + 5*x2)/m ))*5 / c;\n",
"I3 = g*m*(1 - exp(-c*(5 + 5*x3)/m ))*5 / c;\n",
"I4 = g*m*(1 - exp(-c*(5 + 5*x4)/m ))*5 / c;\n",
"I5 = g*m*(1 - exp(-c*(5 + 5*x5)/m ))*5 / c;\n",
"I = c1*I1 + c2 * I2 + c3 * I3 + c4 * I4 + c5 * I5;\n",
"disp(I,'integral by five point method =')"
   ]
   }
,
{
		   "cell_type": "markdown",
		   "metadata": {},
		   "source": [
			"## Example 22.6: Evaluation_of_improper_integral.sce"
		   ]
		  },
  {
"cell_type": "code",
	   "execution_count": null,
	   "metadata": {
	    "collapsed": true
	   },
	   "outputs": [],
"source": [
"//clc()\n",
"//N(x) = (int(-infinity,-2,exp(-(x^2)/2)) + int(-2,1,exp(-(x^2)/2)))/(2*pi)^0.5\n",
"//first integral can be solved as\n",
"//int(-infinity,-2,exp(-(x^2)/2)) = int(-0.5,0,exp(-1/(2*t^2))/t^2)\n",
"h = 1/8;\n",
"//int(-0.5,0,exp(-1/(2*t^2))/t^2) = h*(f(x-7/16) + f(x-5/16) + f(x-3/16) + f(x-1/16)) \n",
"t1 = -7/16;\n",
"t2 = -5/16;\n",
"t3 = -3/16;\n",
"t4 = -1/16;\n",
"m1 = exp(-1/(2*t1^2))/t1^2;\n",
"m2 = exp(-1/(2*t2^2))/t2^2;\n",
"m3 = exp(-1/(2*t3^2))/t3^2;\n",
"m4 = exp(-1/(2*t4^2))/t4^2;\n",
"I1 = h*(m1 + m2 + m3 + m4);\n",
"disp(I1,'the value of first integral = ')\n",
"//simpsons 1/3rd sule is applied for the second integral\n",
"h1 = 0.5;\n",
"x1 = -2;\n",
"x2 = -1.5;\n",
"x3 = -1;\n",
"x4 = -0.5;\n",
"x5 = 0;\n",
"x6 = 0.5;\n",
"x7 = 1;\n",
"n1 = exp(-(x1^2)/2);\n",
"n2 = exp(-(x2^2)/2);\n",
"n3 = exp(-(x3^2)/2);\n",
"n4 = exp(-(x4^2)/2);\n",
"n5 = exp(-(x5^2)/2);\n",
"n6 = exp(-(x6^2)/2);\n",
"n7 = exp(-(x7^2)/2);\n",
"I2 =(1-(-2)) * (n1 + 4 *(n2 + n4 + n6) + 2*(n3 + n5) + n7)/(18);\n",
"disp(I2,'The value of second integral = ')\n",
"f = (I1 + I2)/(2 * %pi)^0.5;\n",
"disp(f,'Therefore the final result can be computed as ')\n",
"N = 0.8413;\n",
"e = (N - f) * 100 / N;\n",
"disp('%',e,'error = ')"
   ]
   }
],
"metadata": {
		  "kernelspec": {
		   "display_name": "Scilab",
		   "language": "scilab",
		   "name": "scilab"
		  },
		  "language_info": {
		   "file_extension": ".sce",
		   "help_links": [
			{
			 "text": "MetaKernel Magics",
			 "url": "https://github.com/calysto/metakernel/blob/master/metakernel/magics/README.md"
			}
		   ],
		   "mimetype": "text/x-octave",
		   "name": "scilab",
		   "version": "0.7.1"
		  }
		 },
		 "nbformat": 4,
		 "nbformat_minor": 0
}
