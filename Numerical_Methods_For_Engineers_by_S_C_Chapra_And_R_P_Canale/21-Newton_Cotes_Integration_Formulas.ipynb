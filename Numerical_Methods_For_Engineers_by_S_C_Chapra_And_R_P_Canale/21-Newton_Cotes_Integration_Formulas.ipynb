{
"cells": [
 {
		   "cell_type": "markdown",
	   "metadata": {},
	   "source": [
       "# Chapter 21: Newton Cotes Integration Formulas"
	   ]
	},
{
		   "cell_type": "markdown",
		   "metadata": {},
		   "source": [
			"## Example 21.1: Single_trapezoidal_rule.sce"
		   ]
		  },
  {
"cell_type": "code",
	   "execution_count": null,
	   "metadata": {
	    "collapsed": true
	   },
	   "outputs": [],
"source": [
"clc;\n",
"clear;\n",
"function y=f(x)\n",
"    y=(0.2+25*x-200*x^2+675*x^3-900*x^4+400*x^5)\n",
"endfunction\n",
"tval=1.640533;\n",
"a=0;\n",
"b=0.8;\n",
"fa=f(a);\n",
"fb=f(b);\n",
"l=(b-a)*((fa+fb)/2);\n",
"Et=tval-l;//error\n",
"et=Et*100/tval;//percent relative error\n",
"\n",
"//by using approximate error estimate\n",
"\n",
"//the second derivative of f\n",
"function y=g(x)\n",
"    y=-400+4050*x-10800*x^2+8000*x^3\n",
"endfunction\n",
"f2x=intg(0,0.8,g)/(b-a);//average value of second derivative\n",
"Ea=-(1/12)*(f2x)*(b-a)^3;\n",
"disp(Et,'The Error Et=')\n",
"disp('%',et,'The percent relative error et=')\n",
"disp(Ea,'The approximate error estimate without using the true value=')"
   ]
   }
,
{
		   "cell_type": "markdown",
		   "metadata": {},
		   "source": [
			"## Example 21.2: Multiple_trapezoidal_rule.sce"
		   ]
		  },
  {
"cell_type": "code",
	   "execution_count": null,
	   "metadata": {
	    "collapsed": true
	   },
	   "outputs": [],
"source": [
"clc;\n",
"clear;\n",
"function y=f(x)\n",
"    y=(0.2+25*x-200*x^2+675*x^3-900*x^4+400*x^5)\n",
"endfunction\n",
"a=0;\n",
"b=0.8;\n",
"tval=1.640533;\n",
"n=2;\n",
"h=(b-a)/n;\n",
"fa=f(a);\n",
"fb=f(b);\n",
"fh=f(h);\n",
"l=(b-a)*(fa+2*fh+fb)/(2*n);\n",
"Et=tval-l;//error\n",
"et=Et*100/tval;//percent relative error\n",
"\n",
"//by using approximate error estimate\n",
"\n",
"//the second derivative of f\n",
"function y=g(x)\n",
"    y=-400+4050*x-10800*x^2+8000*x^3\n",
"endfunction\n",
"f2x=intg(0,0.8,g)/(b-a);//average value of second derivative\n",
"Ea=-(1/12)*(f2x)*(b-a)^3/(n^2);\n",
"disp(Et,'The Error Et=')\n",
"disp('%',et,'The percent relative error et=')\n",
"disp(Ea,'The approximate error estimate without using the true value=')\n",
""
   ]
   }
,
{
		   "cell_type": "markdown",
		   "metadata": {},
		   "source": [
			"## Example 21.3: Evaluating_Integrals.sce"
		   ]
		  },
  {
"cell_type": "code",
	   "execution_count": null,
	   "metadata": {
	    "collapsed": true
	   },
	   "outputs": [],
"source": [
"clc;\n",
"clear;\n",
"g=9.8;//m/s^2; acceleration due to gravity\n",
"m=68.1;//kg\n",
"c=12.5;//kg/sec; drag coefficient\n",
"function v=f(t)\n",
"    v=g*m*(1-exp(-c*t/m))/c\n",
"endfunction\n",
"tval=289.43515;//m\n",
"a=0;\n",
"b=10;\n",
"fa=f(a);\n",
"fb=f(b);\n",
"for i=10:10:20\n",
"    n=i;\n",
"    h=(b-a)/n;\n",
"    disp(i,'No. of segments=')\n",
"    disp(h,'Segment size=')\n",
"    j=a+h;\n",
"    s=0;\n",
"    while j<b\n",
"        s=s+f(j);\n",
"        j=j+h;\n",
"    end\n",
"    l=(b-a)*(fa+2*s+fb)/(2*n);\n",
"    Et=tval-l;//error\n",
"    et=Et*100/tval;//percent relative error\n",
"    disp('m',l,'Estimated d=')\n",
"    disp(et,'et(%)')\n",
"    disp('---------------------------------------------------------')\n",
"end\n",
"for i=50:50:100\n",
"    n=i;\n",
"    h=(b-a)/n;\n",
"    disp(i,'No. of segments=')\n",
"    disp(h,'Segment size=')\n",
"    j=a+h;\n",
"    s=0;\n",
"    while j<b\n",
"        s=s+f(j);\n",
"        j=j+h;\n",
"    end\n",
"    l=(b-a)*(fa+2*s+fb)/(2*n);\n",
"    Et=tval-l;//error\n",
"    et=Et*100/tval;//percent relative error\n",
"    disp('m',l,'Estimated d=')\n",
"    disp(et,'et(%)')\n",
"    disp('---------------------------------------------------------')\n",
"end\n",
"for i=100:100:200\n",
"    n=i;\n",
"    h=(b-a)/n;\n",
"    disp(i,'No. of segments=')\n",
"    disp(h,'Segment size=')\n",
"    j=a+h;\n",
"    s=0;\n",
"    while j<b\n",
"        s=s+f(j);\n",
"        j=j+h;\n",
"    end\n",
"    l=(b-a)*(fa+2*s+fb)/(2*n);\n",
"    Et=tval-l;//error\n",
"    et=Et*100/tval;//percent relative error\n",
"    disp('m',l,'Estimated d=')\n",
"    disp(et,'et(%)')\n",
"    disp('---------------------------------------------------------')\n",
"end\n",
"for i=200:300:500\n",
"    n=i;\n",
"    h=(b-a)/n;\n",
"    disp(i,'No. of segments=')\n",
"    disp(h,'Segment size=')\n",
"    j=a+h;\n",
"    s=0;\n",
"    while j<b\n",
"        s=s+f(j);\n",
"        j=j+h;\n",
"    end\n",
"    l=(b-a)*(fa+2*s+fb)/(2*n);\n",
"    Et=tval-l;//error\n",
"    et=Et*100/tval;//percent relative error\n",
"    disp('m',l,'Estimated d=')\n",
"    disp(et,'et(%)')\n",
"    disp('---------------------------------------------------------')\n",
"end\n",
"for i=1000:1000:2000\n",
"    n=i;\n",
"    h=(b-a)/n;\n",
"    disp(i,'No. of segments=')\n",
"    disp(h,'Segment size=')\n",
"    j=a+h;\n",
"    s=0;\n",
"    while j<b\n",
"        s=s+f(j);\n",
"        j=j+h;\n",
"    end\n",
"    l=(b-a)*(fa+2*s+fb)/(2*n);\n",
"    Et=tval-l;//error\n",
"    et=Et*100/tval;//percent relative error\n",
"    disp('m',l,'Estimated d=')\n",
"    disp(et,'et(%)')\n",
"    disp('---------------------------------------------------------')\n",
"end\n",
"for i=2000:3000:5000\n",
"    n=i;\n",
"    h=(b-a)/n;\n",
"    disp(i,'No. of segments=')\n",
"    disp(h,'Segment size=')\n",
"    j=a+h;\n",
"    s=0;\n",
"    while j<b\n",
"        s=s+f(j);\n",
"        j=j+h;\n",
"    end\n",
"    l=(b-a)*(fa+2*s+fb)/(2*n);\n",
"    Et=tval-l;//error\n",
"    et=Et*100/tval;//percent relative error\n",
"    disp('m',l,'Estimated d=')\n",
"    disp(et,'et(%)')\n",
"    disp('---------------------------------------------------------')\n",
"end\n",
"for i=5000:5000:10000\n",
"    n=i;\n",
"    h=(b-a)/n;\n",
"    disp(i,'No. of segments=')\n",
"    disp(h,'Segment size=')\n",
"    j=a+h;\n",
"    s=0;\n",
"    while j<b\n",
"        s=s+f(j);\n",
"        j=j+h;\n",
"    end\n",
"    l=(b-a)*(fa+2*s+fb)/(2*n);\n",
"    Et=tval-l;//error\n",
"    et=Et*100/tval;//percent relative error\n",
"    disp('m',l,'Estimated d=')\n",
"    disp(et,'et(%)')\n",
"    disp('---------------------------------------------------------')\n",
"end\n",
"\n",
""
   ]
   }
,
{
		   "cell_type": "markdown",
		   "metadata": {},
		   "source": [
			"## Example 21.4: Single_Simpsons_1_by_3_rule.sce"
		   ]
		  },
  {
"cell_type": "code",
	   "execution_count": null,
	   "metadata": {
	    "collapsed": true
	   },
	   "outputs": [],
"source": [
"clc;\n",
"clear;\n",
"function y=f(x)\n",
"    y=(0.2+25*x-200*x^2+675*x^3-900*x^4+400*x^5)\n",
"endfunction\n",
"a=0;\n",
"b=0.8;\n",
"tval=1.640533;\n",
"n=2;\n",
"h=(b-a)/n;\n",
"fa=f(a);\n",
"fb=f(b);\n",
"fh=f(h);\n",
"l=(b-a)*(fa+4*fh+fb)/(3*n);\n",
"disp(l,'l=')\n",
"Et=tval-l;//error\n",
"et=Et*100/tval;//percent relative error\n",
"\n",
"//by using approximate error estimate\n",
"\n",
"//the fourth derivative of f\n",
"function y=g(x)\n",
"    y=-21600+48000*x\n",
"endfunction\n",
"f4x=intg(0,0.8,g)/(b-a);//average value of fourth derivative\n",
"Ea=-(1/2880)*(f4x)*(b-a)^5;\n",
"disp(Et,'The Error Et=')\n",
"disp('%',et,'The percent relative error et=')\n",
"disp(Ea,'The approximate error estimate without using the true value=')\n",
""
   ]
   }
,
{
		   "cell_type": "markdown",
		   "metadata": {},
		   "source": [
			"## Example 21.5: Multiple_Simpsons_1_by_3_rule.sce"
		   ]
		  },
  {
"cell_type": "code",
	   "execution_count": null,
	   "metadata": {
	    "collapsed": true
	   },
	   "outputs": [],
"source": [
"clc;\n",
"clear;\n",
"function y=f(x)\n",
"    y=(0.2+25*x-200*x^2+675*x^3-900*x^4+400*x^5)\n",
"endfunction\n",
"a=0;\n",
"b=0.8;\n",
"tval=1.640533;\n",
"n=4;\n",
"h=(b-a)/n;\n",
"fa=f(a);\n",
"fb=f(b);\n",
"j=a+h;\n",
"s=0;\n",
"count=1;\n",
"while j<b\n",
"    if (-1)^count==-1 then\n",
"        s=s+4*f(j);\n",
"    else\n",
"        s=s+2*f(j);\n",
"    end\n",
"    count=count+1;\n",
"    j=j+h;\n",
"end\n",
"l=(b-a)*(fa+s+fb)/(3*n);\n",
"disp(l,'l=')\n",
"Et=tval-l;//error\n",
"et=Et*100/tval;//percent relative error\n",
"\n",
"//by using approximate error estimate\n",
"\n",
"//the fourth derivative of f\n",
"function y=g(x)\n",
"    y=-21600+48000*x\n",
"endfunction\n",
"f4x=intg(0,0.8,g)/(b-a);//average value of fourth derivative\n",
"Ea=-(1/(180*4^4))*(f4x)*(b-a)^5;\n",
"disp(Et,'The Error Et=')\n",
"disp('%',et,'The percent relative error et=')\n",
"disp(Ea,'The approximate error estimate without using the true value=')\n",
""
   ]
   }
,
{
		   "cell_type": "markdown",
		   "metadata": {},
		   "source": [
			"## Example 21.6: Simpsons_3_by_8_rule.sce"
		   ]
		  },
  {
"cell_type": "code",
	   "execution_count": null,
	   "metadata": {
	    "collapsed": true
	   },
	   "outputs": [],
"source": [
"clc;\n",
"clear;\n",
"function y=f(x)\n",
"    y=(0.2+25*x-200*x^2+675*x^3-900*x^4+400*x^5)\n",
"endfunction\n",
"a=0;\n",
"b=0.8;\n",
"tval=1.640533;\n",
"//part a\n",
"n=3;\n",
"h=(b-a)/n;\n",
"fa=f(a);\n",
"fb=f(b);\n",
"j=a+h;\n",
"s=0;\n",
"count=1;\n",
"while j<b\n",
"    s=s+3*f(j);\n",
"    count=count+1;\n",
"    j=j+h;\n",
"end\n",
"l=(b-a)*(fa+s+fb)/(8);\n",
"disp('Part A:')\n",
"disp(l,'l=')\n",
"Et=tval-l;//error\n",
"et=Et*100/tval;//percent relative error\n",
"\n",
"//by using approximate error estimate\n",
"\n",
"//the fourth derivative of f\n",
"function y=g(x)\n",
"    y=-21600+48000*x\n",
"endfunction\n",
"f4x=intg(0,0.8,g)/(b-a);//average value of fourth derivative\n",
"Ea=-(1/6480)*(f4x)*(b-a)^5;\n",
"disp(Et,'The Error Et=')\n",
"disp('%',et,'The percent relative error et=')\n",
"disp(Ea,'The approximate error estimate without using the true value=')\n",
"\n",
"//part b\n",
"n=5;\n",
"h=(b-a)/n;\n",
"l1=(a+2*h-a)*(fa+4*f(a+h)+f(a+2*h))/6;\n",
"l2=(a+5*h-a-2*h)*(f(a+2*h)+3*(f(a+3*h)+f(a+4*h))+fb)/8;\n",
"l=l1+l2;\n",
"disp('---------------------------------------------------')\n",
"disp('Part B:')\n",
"disp(l,'l=')\n",
"Et=tval-l;//error\n",
"et=Et*100/tval;//percent relative error\n",
"disp(Et,'The Error Et=')\n",
"disp('%',et,'The percent relative error et=')"
   ]
   }
,
{
		   "cell_type": "markdown",
		   "metadata": {},
		   "source": [
			"## Example 21.7: Unequal_Trapezoidal_segments.sce"
		   ]
		  },
  {
"cell_type": "code",
	   "execution_count": null,
	   "metadata": {
	    "collapsed": true
	   },
	   "outputs": [],
"source": [
"clc;\n",
"clear;\n",
"function y=f(x)\n",
"    y=(0.2+25*x-200*x^2+675*x^3-900*x^4+400*x^5)\n",
"endfunction\n",
"tval=1.640533;\n",
"x=[0 0.12 0.22 0.32 0.36 0.4 0.44 0.54 0.64 0.7 0.8];\n",
"for i=1:11\n",
"    func(i)=f(x(i));\n",
"end\n",
"l=0;\n",
"for i=1:10\n",
"    l=l+(x(i+1)-x(i))*(func(i)+func(i+1))/2;\n",
"end\n",
"disp(l,'l=')\n",
"Et=tval-l;//error\n",
"et=Et*100/tval;//percent relative error\n",
"disp(Et,'The Error Et=')\n",
"disp('%',et,'The percent relative error et=')"
   ]
   }
,
{
		   "cell_type": "markdown",
		   "metadata": {},
		   "source": [
			"## Example 21.8: Simpsons_Uneven_data.sce"
		   ]
		  },
  {
"cell_type": "code",
	   "execution_count": null,
	   "metadata": {
	    "collapsed": true
	   },
	   "outputs": [],
"source": [
"clc;\n",
"clear;\n",
"function y=f(x)\n",
"    y=(0.2+25*x-200*x^2+675*x^3-900*x^4+400*x^5)\n",
"endfunction\n",
"tval=1.640533;\n",
"x=[0 0.12 0.22 0.32 0.36 0.4 0.44 0.54 0.64 0.7 0.8];\n",
"for i=1:11\n",
"    func(i)=f(x(i));\n",
"end\n",
"l1=(x(2)-x(1))*((f(x(1))+f(x(2)))/2);\n",
"l2=(x(4)-x(2))*(f(x(4))+4*f(x(3))+f(x(2)))/6;\n",
"l3=(x(7)-x(4))*(f(x(4))+3*(f(x(5))+f(x(6)))+f(x(7)))/8;\n",
"l4=(x(9)-x(7))*(f(x(7))+4*f(x(8))+f(x(9)))/6;\n",
"l5=(x(10)-x(9))*((f(x(10))+f(x(9)))/2);\n",
"l6=(x(11)-x(10))*((f(x(11))+f(x(10)))/2);\n",
"l=l1+l2+l3+l4+l5+l6;\n",
"disp(l,'l=')\n",
"Et=tval-l;//error\n",
"et=Et*100/tval;//percent relative error\n",
"disp(Et,'The Error Et=')\n",
"disp('%',et,'The percent relative error et=')"
   ]
   }
,
{
		   "cell_type": "markdown",
		   "metadata": {},
		   "source": [
			"## Example 21.9: Average_Temperature_Determination.sce"
		   ]
		  },
  {
"cell_type": "code",
	   "execution_count": null,
	   "metadata": {
	    "collapsed": true
	   },
	   "outputs": [],
"source": [
"clc;\n",
"clear;\n",
"function t=f(x,y)\n",
"    t=2*x*y+2*x-x^2-2*y^2+72\n",
"endfunction\n",
"len=8;//m,length\n",
"wid=6;//m,width\n",
"a=0;\n",
"b=len;\n",
"n=2;\n",
"h=(b-a)/n;\n",
"a1=0;\n",
"b1=wid;\n",
"h1=(b1-a1)/n;\n",
"\n",
"fa=f(a,0);\n",
"fb=f(b,0);\n",
"fh=f(h,0);\n",
"lx1=(b-a)*(fa+2*fh+fb)/(2*n);\n",
"\n",
"fa=f(a,h1);\n",
"fb=f(b,h1);\n",
"fh=f(h,h1);\n",
"lx2=(b-a)*(fa+2*fh+fb)/(2*n);\n",
"\n",
"fa=f(a,b1);\n",
"fb=f(b,b1);\n",
"fh=f(h,b1);\n",
"lx3=(b-a)*(fa+2*fh+fb)/(2*n);\n",
"\n",
"l=(b1-a1)*(lx1+2*lx2+lx3)/(2*n);\n",
"\n",
"avg_temp=l/(len*wid);\n",
"disp(avg_temp,'The average termperature is=')"
   ]
   }
],
"metadata": {
		  "kernelspec": {
		   "display_name": "Scilab",
		   "language": "scilab",
		   "name": "scilab"
		  },
		  "language_info": {
		   "file_extension": ".sce",
		   "help_links": [
			{
			 "text": "MetaKernel Magics",
			 "url": "https://github.com/calysto/metakernel/blob/master/metakernel/magics/README.md"
			}
		   ],
		   "mimetype": "text/x-octave",
		   "name": "scilab",
		   "version": "0.7.1"
		  }
		 },
		 "nbformat": 4,
		 "nbformat_minor": 0
}
