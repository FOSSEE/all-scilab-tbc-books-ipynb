{
"cells": [
 {
		   "cell_type": "markdown",
	   "metadata": {},
	   "source": [
       "# Chapter 25: Runga Kutta methods"
	   ]
	},
{
		   "cell_type": "markdown",
		   "metadata": {},
		   "source": [
			"## Example 25.10: Solving_systems_of_ODE_using_RK_4_method.sce"
		   ]
		  },
  {
"cell_type": "code",
	   "execution_count": null,
	   "metadata": {
	    "collapsed": true
	   },
	   "outputs": [],
"source": [
"//clc()\n",
"//dy1/dx = -0.5*y1\n",
"//dy2/dx = 4 - 0.3*y2 - 0.1*y1\n",
"x1 = 0;\n",
"h =0.5;\n",
"y1(1) = 4;\n",
"y2(1) = 6;\n",
"x = 0:h:2;\n",
"for i = 1:5\n",
"    k11(i) = -0.5*y1(i);\n",
"    k12(i) = 4 - 0.3*y2(i) - 0.1*y1(i);\n",
"    y11 = y1(i) + k11(i) * h/2;\n",
"    y21 = y2(i) + k12(i) * h/2;\n",
"    k21(i) = -0.5*y11;\n",
"    k22(i) = 4 - 0.3*y21 - 0.1*y11;\n",
"    y11 = y1(i) + k21(i) * h/2;\n",
"    y21 = y2(i) + k22(i) * h/2;\n",
"    k31(i) = -0.5*y11;\n",
"    k32(i) = 4 - 0.3*y21 - 0.1*y11;\n",
"    y11 = y1(i) + k31(i) * h;\n",
"    y21 = y2(i) + k32(i) * h;\n",
"    k41(i) = -0.5*y11;\n",
"    k42(i) = 4 - 0.3*y21 - 0.1*y11;\n",
"    y1(i+1) = y1(i) + ( k11(i) + 2*k21(i) + 2*k31(i) + k41(i) )*h / 6;\n",
"    y2(i+1) = y2(i) + ( k12(i) + 2*k22(i) + 2*k32(i) + k42(i) ) *h/ 6;\n",
"end\n",
"disp('using fourth order RK method')\n",
"disp(x,'x =')\n",
"disp(y1(1:5),'y1 = ')\n",
"disp(y2(1:5),'y2 = ')"
   ]
   }
,
{
		   "cell_type": "markdown",
		   "metadata": {},
		   "source": [
			"## Example 25.11: Solving_systems_of_ODEs.sce"
		   ]
		  },
  {
"cell_type": "code",
	   "execution_count": null,
	   "metadata": {
	    "collapsed": true
	   },
	   "outputs": [],
"source": [
"clc;\n",
"clear;\n",
"function yp=f(x,y)\n",
"    yp=[y(2);-16.1*y(1)];\n",
"endfunction\n",
"x=0:0.1:4\n",
"y0=[0.1 0];\n",
"sol=ode(y0,0,x,f);\n",
"count=1;\n",
"disp(sol)\n",
"for i=1:2:81\n",
"    a(count)=sol(i);\n",
"    b(count)=sol(i+1);\n",
"    count=count+1;\n",
"end\n",
"plot(x,a)\n",
"plot(x,b,'.-')\n",
"h1=legend(['y1,y3','y2,y4'])\n",
"xtitle('y vs x','x','y')\n",
"function yp=g(x,y)\n",
"    yp=[y(2);-16.1*sin(y(1))];\n",
"endfunction\n",
"sol=ode(y0,0,x,g);\n",
"count=1;\n",
"disp(sol)\n",
"for i=1:2:81\n",
"    a(count)=sol(i);\n",
"    b(count)=sol(i+1);\n",
"    count=count+1;\n",
"end\n",
"plot(x,a)\n",
"plot(x,b,'.-')\n",
"clf();\n",
"y0=[%pi/4 0];\n",
"sol=ode(y0,0,x,f);\n",
"count=1;\n",
"disp(sol)\n",
"for i=1:2:81\n",
"    a(count)=sol(i);\n",
"    b(count)=sol(i+1);\n",
"    count=count+1;\n",
"end\n",
"plot(x,a)\n",
"plot(x,b,'.-')\n",
"\n",
"xtitle('y vs x','x','y')\n",
"sol=ode(y0,0,x,g);\n",
"count=1;\n",
"disp(sol)\n",
"for i=1:2:81\n",
"    a(count)=sol(i);\n",
"    b(count)=sol(i+1);\n",
"    count=count+1;\n",
"end\n",
"plot(x,a,'o-')\n",
"plot(x,b,'x-')\n",
"h1=legend(['y1','y2','y3','y4'])"
   ]
   }
,
{
		   "cell_type": "markdown",
		   "metadata": {},
		   "source": [
			"## Example 25.12: Adaptive_fourth_order_RK_method.sce"
		   ]
		  },
  {
"cell_type": "code",
	   "execution_count": null,
	   "metadata": {
	    "collapsed": true
	   },
	   "outputs": [],
"source": [
"//clc()\n",
"disp('f(x,y) = 4*exp(0.8*x) - 0.5*y')\n",
"//f'(x,y) = 4*exp(0.8*x) - 0.5*y\n",
"x = 0:2:2;\n",
"y(1) = 2;\n",
"h =2;\n",
"t = 14.84392;\n",
"k1 = 4*exp(0.8*x(1)) - 0.5*y(1);\n",
"x1 = x(1) + h/2;\n",
"y1 = y(1) + k1*h/2;\n",
"k2 = 4*exp(0.8*x1) - 0.5*y1;\n",
"x1 = x(1) + h/2;\n",
"y1 = y(1) + k2*h/2;\n",
"k3 = 4*exp(0.8*x1) - 0.5*y1;\n",
"x1 = x(1) + h;\n",
"y1 = y(1) + k3*h;\n",
"k4 = 4*exp(0.8*x1) - 0.5*y1;\n",
"y(2) = y(1) + (k1 + 2*k2 + 2*k3 + k4)*h/6;\n",
"e = (t - y(2))/(t);\n",
"disp(y(1:2),'y by h = 2 is')\n",
"disp(e,'error = ')\n",
"h = 1;\n",
"x = 0:h:2;\n",
"for i=1:3\n",
"    k1(i) = 4*exp(0.8*x(i)) - 0.5*y(i);\n",
"    x1 = x(i) + h/2;\n",
"    y1 = y(i) + k1(i)*h/2;\n",
"    k2(i) = 4*exp(0.8*x1) - 0.5*y1;\n",
"    x1 = x(i) + h/2;\n",
"    y1 = y(i) + k2(i)*h/2;\n",
"    k3(i) = 4*exp(0.8*x1) - 0.5*y1;\n",
"    x1 = x(i) + h;\n",
"    y1 = y(i) + k3(i)*h;\n",
"    k4(i) = 4*exp(0.8*x1) - 0.5*y1;\n",
"    y(i+1) = y(i) + (k1(i) + 2*k2(i) + 2*k3(i) + k4(i))*h/6;    \n",
"end\n",
"e = (t - (y(3)))/t;\n",
"disp(y(1:3),'y by h = 1 is')\n",
"disp(e,'error = ')"
   ]
   }
,
{
		   "cell_type": "markdown",
		   "metadata": {},
		   "source": [
			"## Example 25.13: Runga_kutta_fehlberg_method.sce"
		   ]
		  },
  {
"cell_type": "code",
	   "execution_count": null,
	   "metadata": {
	    "collapsed": true
	   },
	   "outputs": [],
"source": [
"//clc()\n",
"disp('f(x,y) = 4*exp(0.8*x) - 0.5*y')\n",
"//f'(x,y) = 4*exp(0.8*x) - 0.5*y\n",
"h =2;\n",
"x = 0:h:2;\n",
"y(1) = 2;\n",
"t = 14.84392;\n",
"k1 = 4*exp(0.8*x(1)) - 0.5*y(1);\n",
"x1 = x(1) + h/5;\n",
"y1 = y(1) + k1*h/5;\n",
"k2 = 4*exp(0.8*x1) - 0.5*y1;\n",
"x1 = x(1) + 3*h/10;\n",
"y1 = y(1) + 3*k1*h/40 + 9*k2*h/40;\n",
"k3 = 4*exp(0.8*x1) - 0.5*y1;\n",
"x1 = x(1) + 3*h/5;\n",
"y1 = y(1) + 3*k1*h/10 - 9*k2*h/10 + 6*k3*h/5;\n",
"k4 = 4*exp(0.8*x1) - 0.5*y1;\n",
"x1 = x(1) + h;\n",
"y1 = y(1) -11*k1*h/54 + 5*k2*h/2 - 70*k3*h/27 + 35*k4*h/27;\n",
"k5 = 4*exp(0.8*x1) - 0.5*y1;\n",
"x1 = x(1) + 7*h/8;\n",
"y1 = y(1) + 1631*k1*h/55296 + 175*k2*h/512 + 575*k3*h/13824 + 44275*k4*h/110592 +253*k5*h/4096;\n",
"k6 = 4*exp(0.8*x1) - 0.5*y1;\n",
"y1 = y(1) + (37*k1/378 + 250*k3/621 + 125*k4/594 + 512*k6/1771)*h;\n",
"y2 = y(1) + (2825*k1/27648 + 18575*k3/48384 + 13525*k4/55296 + 277*k5/14336 + k6/4)*h;\n",
"disp(y1,'y ( fourth order prediction ) = ')\n",
"disp(y2,'y ( fifth order prediction ) = ')"
   ]
   }
,
{
		   "cell_type": "markdown",
		   "metadata": {},
		   "source": [
			"## Example 25.14: Adaptive_Fourth_order_RK_scheme.sce"
		   ]
		  },
  {
"cell_type": "code",
	   "execution_count": null,
	   "metadata": {
	    "collapsed": true
	   },
	   "outputs": [],
"source": [
"clc;\n",
"clear;\n",
"function yp=f(x,y)\n",
"    yp=10*exp(-(x-2)^2/(2*(0.075^2)))-0.6*y\n",
"endfunction\n",
"x=0:0.1:4\n",
"y0=0.5;\n",
"sol=ode(y0,0,x,f);\n",
"plot(x,sol)\n",
"xtitle('y vs x','x','y')"
   ]
   }
,
{
		   "cell_type": "markdown",
		   "metadata": {},
		   "source": [
			"## Example 25.1: Eulers_method.sce"
		   ]
		  },
  {
"cell_type": "code",
	   "execution_count": null,
	   "metadata": {
	    "collapsed": true
	   },
	   "outputs": [],
"source": [
"//clc()\n",
"//dy/dx = -2*x^3 + 12*x^2 - 20*x + 8.5\n",
"//therefore, y = -0.5*x^4 + 4*x^3 - 10*x^2 + 8.5 + c\n",
"x1 = 0;\n",
"y1 = 1;\n",
"h = 0.5;\n",
"c =-(-0.5*x1^4 + 4*x1^3 - 10*x1^2 + 8.5*x1 - y1);\n",
"x = 0:0.5:4;\n",
"disp(x,'x = ')\n",
"y = -0.5*x^4 + 4*x^3 - 10*x^2 + 8.5*x + c;\n",
"disp(y,'true values of y = ')\n",
"fxy = -2*x^3 + 12*x^2 - 20*x + 8.5;\n",
"y2(1) = y(1);\n",
"e(1) = (y(1) - y2(1)) * 100 / y(1);\n",
"for i = 2:9\n",
"    y2(i) = y2(i-1) + fxy(i-1)*h;\n",
"    e(i) = (y(i) - y2(i))*100/y(i);\n",
"end\n",
"disp(y2,'y by euler method =')\n",
"disp(e,'error =')"
   ]
   }
,
{
		   "cell_type": "markdown",
		   "metadata": {},
		   "source": [
			"## Example 25.2: Taylor_series_estimate_for_error_by_eulers_method.sce"
		   ]
		  },
  {
"cell_type": "code",
	   "execution_count": null,
	   "metadata": {
	    "collapsed": true
	   },
	   "outputs": [],
"source": [
"//clc()\n",
"//f(x,y) = dy/dx = -2*x^3 + 12*x^2 - 20*x + 8.5\n",
"//f'(x,y) = -6*x^2 + 24*x - 20\n",
"//f'(x,y) = -12*x + 24\n",
"//f''(x,y) = -12\n",
"x = 0;\n",
"Et2 = (-6*x^2 + 24*x - 20) * 0.5^2 / 2;\n",
"Et3 = (-12*x + 24) * (0.5)^3 / 6;\n",
"Et4 = (-12) *(0.5 ^ 4) / 24;\n",
"Et = Et2 + Et3 + Et4;\n",
"disp(Et,'Total truncation error =')"
   ]
   }
,
{
		   "cell_type": "markdown",
		   "metadata": {},
		   "source": [
			"## Example 25.3: Effect_of_reduced_step_size_on_Eulers_method.sce"
		   ]
		  },
  {
"cell_type": "code",
	   "execution_count": null,
	   "metadata": {
	    "collapsed": true
	   },
	   "outputs": [],
"source": [
"//clc()\n",
"//dy/dx = -2*x^3 + 12*x^2 - 20*x + 8.5\n",
"//therefore, y = -0.5*x^4 + 4*x^3 - 10*x^2 + 8.5 + c\n",
"x1 = 0;\n",
"y1 = 1;\n",
"h = 0.25;\n",
"c =-(-0.5*x1^4 + 4*x1^3 - 10*x1^2 + 8.5*x1 - y1);\n",
"x = 0:h:4;\n",
"disp(x,'x = ')\n",
"y = -0.5*x^4 + 4*x^3 - 10*x^2 + 8.5*x + c;\n",
"disp(y,'true values of y = ')\n",
"fxy = -2*x^3 + 12*x^2 - 20*x + 8.5;\n",
"y2(1) = y(1);\n",
"e(1) = (y(1) - y2(1)) * 100 / y(1);\n",
"for i = 2:17\n",
"    y2(i) = y2(i-1) + fxy(i-1)*h;\n",
"    e(i) = (y(i) - y2(i))*100/y(i);\n",
"end\n",
"disp(y2,'y by euler method =')\n",
"disp(e,'error =')"
   ]
   }
,
{
		   "cell_type": "markdown",
		   "metadata": {},
		   "source": [
			"## Example 25.4: Solving_ODEs.sce"
		   ]
		  },
  {
"cell_type": "code",
	   "execution_count": null,
	   "metadata": {
	    "collapsed": true
	   },
	   "outputs": [],
"source": [
"clc;\n",
"clear;\n",
"m=68.1;\n",
"g=9.8;\n",
"c=12.5;\n",
"a=8.3;\n",
"b=2.2;\n",
"vmax=46;\n",
"function yp=f(t,v)\n",
"    yp=g-c*v/m;\n",
"endfunction\n",
"v0=0;\n",
"t=0:15;\n",
"x=ode(v0,0,t,f);\n",
"disp(x)\n",
"plot(t,x,'.-')\n",
"\n",
"function yp=f1(t,v)\n",
"    yp=g-(c/m)*(v+a*(v/vmax)^b)\n",
"endfunction\n",
"x1=ode(v0,0,t,f1);\n",
"plot(t,x1)\n",
"xtitle('velocity vs time','t (s)','v (m/s)')\n",
"h1=legend(['Linear';'Nonlinear'])"
   ]
   }
,
{
		   "cell_type": "markdown",
		   "metadata": {},
		   "source": [
			"## Example 25.5: Heuns_method.sce"
		   ]
		  },
  {
"cell_type": "code",
	   "execution_count": null,
	   "metadata": {
	    "collapsed": true
	   },
	   "outputs": [],
"source": [
"//clc()\n",
"//y' = 4*exp(0.8*x) - 0.5*y\n",
"//y = 4*(exp(0.8*x) - exp(-0.5*x))/1.3 + 2*exp(-0.5*x)\n",
"x = 0:1:4;\n",
"disp(x)\n",
"x1 = 0;\n",
"y1 = 2;\n",
"y2(1) = y1;\n",
"for i = 1:5\n",
"    y(i) = 4*(exp(0.8*x(i)) - exp(-0.5*x(i)))/1.3 + 2*exp(-0.5*x(i));\n",
"    dy(i) = 4*exp(0.8*x(i)) - 0.5*y2(i);\n",
"    y2(i + 1) = y2(i) + dy(i);\n",
"    if i>1 then\n",
"        m(i) = (dy(i) + dy(i-1))/2;\n",
"        y2(i) = y2(i-1) + m(i);\n",
"        dy(i) = 4*exp(0.8*x(i)) - 0.5*y2(i);\n",
"    end\n",
"    e(i) = (y(i) - y2(i)) * 100 / y(i);\n",
"end\n",
"disp(y2(1:5),'By heuns method(1 iteration)')\n",
"disp('%',e(1:5),'error = ')"
   ]
   }
,
{
		   "cell_type": "markdown",
		   "metadata": {},
		   "source": [
			"## Example 25.6: Comparison_of_various_second_order_RK_4_method.sce"
		   ]
		  },
  {
"cell_type": "code",
	   "execution_count": null,
	   "metadata": {
	    "collapsed": true
	   },
	   "outputs": [],
"source": [
"//clc()\n",
"//f'(x,y) = -2*x^3 + 12*x^2 -20*x + 8.5\n",
"//f(x,y) = -x^4 / 2 + 4*x^3 - 10*x^2 + 8.5*x + 1\n",
"h = 0.5;\n",
"x = 0:h:4;\n",
"y1 = -x^4 / 2 + 4*x^3 - 10*x^2 + 8.5*x + 1;\n",
"y(1) = 1;\n",
"disp(x,'x =')\n",
"disp(y1,'true value of y =')\n",
"for i = 1:8\n",
"    k1(i) = -2*x(i)^3 + 12*x(i)^2 -20*x(i) + 8.5;\n",
"    x1(i) = x(i) + h/2;\n",
"    k2(i) = -2*x1(i)^3 + 12*x1(i)^2 -20*x1(i) + 8.5;\n",
"    y(i+1) = y(i) + k2(i)*h;\n",
"    e(i) = (y1(i) - y(i))*100/y1(i);\n",
"end\n",
"disp(y(1:9),'y by midpoint method')\n",
"disp(e,'error = ')\n",
"for i = 1:8\n",
"    k1(i) = -2*x(i)^3 + 12*x(i)^2 -20*x(i) + 8.5;\n",
"    x(i) = x(i) + 3*h/4;\n",
"    k2(i) = -2*x(i)^3 + 12*x(i)^2 -20*x(i) + 8.5;\n",
"    y(i+1) = y(i) + (k1(i)/3 + 2*k2(i)/3)*h;\n",
"    e(i) = (y1(i) - y(i))*100/y1(i);\n",
"end\n",
"disp(y(1:9),'y by second order Ralston RK')\n",
"disp(e,'error = ')\n",
""
   ]
   }
,
{
		   "cell_type": "markdown",
		   "metadata": {},
		   "source": [
			"## Example 25.7: Classical_fourth_order_RK_method.sce"
		   ]
		  },
  {
"cell_type": "code",
	   "execution_count": null,
	   "metadata": {
	    "collapsed": true
	   },
	   "outputs": [],
"source": [
"//clc()\n",
"//f'(x,y) = -2*x^3 + 12*x^2 -20*x + 8.5\n",
"//f(x,y) = -x^4 / 2 + 4*x^3 - 10*x^2 + 8.5*x + 1\n",
"h = 0.5;\n",
"x = 0:h:4;\n",
"y1 = -x^4 / 2 + 4*x^3 - 10*x^2 + 8.5*x + 1;\n",
"y(1) = 1;\n",
"for i=1:8\n",
"     k1(i) = -2*x(i)^3 + 12*x(i)^2 -20*x(i) + 8.5;\n",
"    x1(i) = x(i) + h/2;\n",
"    k2(i) = -2*x1(i)^3 + 12*x1(i)^2 -20*x1(i) + 8.5;\n",
"    k3(i) = -2*x1(i)^3 + 12*x1(i)^2 -20*x1(i) + 8.5;\n",
"    x2(i) = x(i) + h;\n",
"    k4(i) = -2*x2(i)^3 + 12*x2(i)^2 -20*x2(i) + 8.5;\n",
"    y(i+1) = y(i) + (k1(i)+2*k2(i)+2*k3(i)+k4(i))*h/6;\n",
"    e(i) = (y1(i) - y(i))*100/y1(i);\n",
"end\n",
"disp('f(x,y) = -2*x^3 + 12*x^2 -20*x + 8.5')\n",
"disp(y(1:9),'y by fourth order Ralston RK')\n",
"disp('f(x,y) = 4*exp(0.8*x) - 0.5*y')\n",
"x = 0:h:0.5;\n",
"y(1) = 2;\n",
"k1 = 4*(exp(0.8*x(1)))-0.5*y(1);\n",
"x1 = x(1) + 0.5*h;\n",
"y1 = y(1) + 0.5*k1*h;\n",
"k2 = 4*exp(0.8*x1) - 0.5*y1;\n",
"y2 = y(1) + 0.5*k2*h;\n",
"k3 = 4*exp(0.8*x1) - 0.5*y2;\n",
"x1 = x(1) + h;\n",
"y1 = y(1) + k3*h;\n",
"k4 = 4*exp(0.8*x1) - 0.5*y1;\n",
"y(2) = y(1) + (k1+2*k2+2*k3+k4)*h/6;\n",
"disp(y(1:2),'y = ')"
   ]
   }
,
{
		   "cell_type": "markdown",
		   "metadata": {},
		   "source": [
			"## Example 25.8: Comparison_of_Runga_Kutta_methods.sce"
		   ]
		  },
  {
"cell_type": "code",
	   "execution_count": null,
	   "metadata": {
	    "collapsed": true
	   },
	   "outputs": [],
"source": [
"//clc()\n",
"disp('f(x,y) = 4*exp(0.8*x) - 0.5*y')\n",
"h = 1;\n",
"x = 0:h:4;\n",
"y(1) = 2;\n",
"for i = 1:5\n",
"    k1(i) = 4*(exp(0.8*x(i)))-0.5*y(i);\n",
"    x1 = x(i) + h;\n",
"    y1 = y(i) + k1(i)*h;\n",
"    k2(i) = 4*(exp(0.8*x1))-0.5*y1;\n",
"    y(i+1) = y(i) + (k1(i)/2 + k2(i)/2)*h;\n",
"end\n",
"disp(y(1:5),'y(second order RK method) = ')\n",
"for i = 1:5\n",
"    k1(i) = 4*(exp(0.8*x(i)))-0.5*y(i);\n",
"    x1 = x(i) + 0.5*h;\n",
"    y1 = y(i) + 0.5*h*k1(i);\n",
"    k2(i) = 4*(exp(0.8*x1))-0.5*y1;\n",
"    x1 = x(i) + h;\n",
"    y1 = y(i) -k1(i)*h + 2*k2(i)*h;\n",
"    k3(i) = 4*(exp(0.8*x1))-0.5*y1;\n",
"    y(i+1) = y(i) + (k1(i) + 4*k2(i) + k3(i))*h/6;\n",
"end\n",
"disp(y(1:5),'y(third order RK method) = ')\n",
"for i = 1:5\n",
"k1(i) = 4*(exp(0.8*x(i)))-0.5*y(i);\n",
"x1 = x(i) + 0.5*h;\n",
"y1 = y(i) + 0.5*k1(i)*h;\n",
"k2(i) = 4*exp(0.8*x1) - 0.5*y1;\n",
"y2 = y(i) + 0.5*k2(i)*h;\n",
"k3(i) = 4*exp(0.8*x1) - 0.5*y2;\n",
"x1 = x(i) + h;\n",
"y1 = y(i) + k3(i)*h;\n",
"k4(i) = 4*exp(0.8*x1) - 0.5*y1;\n",
"y(i+1) = y(i) + (k1(i)+2*k2(i)+2*k3(i)+k4(i))*h/6;\n",
"end\n",
"disp(y(1:5),'y(fourth order RK method) = ')\n",
"for i = 1:5\n",
"    \n",
"k1(i) = 4*(exp(0.8*x(i)))-0.5*y(i);\n",
"x1 = x(i) + 0.25*h;\n",
"y1 = y(i) + 0.25*k1(i)*h;\n",
"k2(i) = 4*exp(0.8*x1) - 0.5*y1;\n",
"y2 = y(i) + 0.125*k2(i)*h + 0.125*k1(i)*h;\n",
"k3(i) = 4*exp(0.8*x1) - 0.5*y2;\n",
"x1 = x(i) + 0.5*h;\n",
"y1 = y(i) -0.5*k2(i)*h + k3(i)*h;\n",
"k4(i) = 4*exp(0.8*x1) - 0.5*y1;\n",
"x1 = x(i) + 0.75*h;\n",
"y1 = y(i) + 3*k1(i)*h/16 + 9*k4(i)*h/16;\n",
"k5(i) = 4*exp(0.8*x1) - 0.5*y1;\n",
"x1 = x(i) + h;\n",
"y1 = y(i) - 3*k1(i)*h/7 + 2*k2(i)*h/7 + 12*k3(i)*h/7 - 12*k4(i)*h/7 + 8*k5(i)*h/7;\n",
"k6(i) = 4*exp(0.8*x1) - 0.5*y1;\n",
"y(i+1) = y(i) + (7*k1(i)+32*k3(i)+12*k4(i) + 32*k5(i) + 7*k6(i))*h/90;\n",
"end\n",
"disp(y(1:5),'y(fifth order RK method)')"
   ]
   }
,
{
		   "cell_type": "markdown",
		   "metadata": {},
		   "source": [
			"## Example 25.9: Solving_systems_of_ODE_using_Eulers_method.sce"
		   ]
		  },
  {
"cell_type": "code",
	   "execution_count": null,
	   "metadata": {
	    "collapsed": true
	   },
	   "outputs": [],
"source": [
"//clc()\n",
"//dy1/dx = -0.5*y1\n",
"//dy2/dx = 4 - 0.3*y2 - 0.1*y1\n",
"x1 = 0;\n",
"h =0.5;\n",
"y1(1) = 4;\n",
"y2(1) = 6;\n",
"x = 0:h:2;\n",
"for i = 2:5\n",
"    y1(i) = y1(i-1)  -0.5*y1(i-1)*h;\n",
"    y2(i) = y2(i-1) + (4 - 0.3*y2(i-1) - 0.1*y1(i-1))*h;\n",
"end\n",
"disp(x,'x = ')\n",
"disp(y1,'y1 = ')\n",
"disp(y2,'y2 = ')"
   ]
   }
],
"metadata": {
		  "kernelspec": {
		   "display_name": "Scilab",
		   "language": "scilab",
		   "name": "scilab"
		  },
		  "language_info": {
		   "file_extension": ".sce",
		   "help_links": [
			{
			 "text": "MetaKernel Magics",
			 "url": "https://github.com/calysto/metakernel/blob/master/metakernel/magics/README.md"
			}
		   ],
		   "mimetype": "text/x-octave",
		   "name": "scilab",
		   "version": "0.7.1"
		  }
		 },
		 "nbformat": 4,
		 "nbformat_minor": 0
}
