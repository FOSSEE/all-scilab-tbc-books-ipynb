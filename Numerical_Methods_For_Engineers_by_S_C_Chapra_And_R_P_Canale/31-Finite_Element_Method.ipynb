{
"cells": [
 {
		   "cell_type": "markdown",
	   "metadata": {},
	   "source": [
       "# Chapter 31: Finite Element Method"
	   ]
	},
{
		   "cell_type": "markdown",
		   "metadata": {},
		   "source": [
			"## Example 31.1: Analytical_Solution_for_Heated_Rod.sce"
		   ]
		  },
  {
"cell_type": "code",
	   "execution_count": null,
	   "metadata": {
	    "collapsed": true
	   },
	   "outputs": [],
"source": [
"clc;\n",
"clear;\n",
"//d2T/dx2=-10; equation to be solved\n",
"//T(0,t)=40; boundary condition\n",
"//T(10,t)=200; boundary condition\n",
"//f(x)=10; uniform heat source\n",
"//we assume a solution T=a*X^2 + b*x +c\n",
"//differentiating twice we get d2T/dx2=2*a\n",
"a=-10/2;\n",
"//using first boundary condition\n",
"c=40;\n",
"//using second boundary condtion\n",
"b=66;\n",
"//hence final solution T=-5*x^2 + 66*x + 40\n",
"function T=f(x)\n",
"    T=-5*x^2 + 66*x + 40\n",
"endfunction\n",
"count=1;\n",
"for i=0:0.1:11\n",
"    T(count)=f(i);\n",
"    count=count+1;\n",
"end\n",
"x=0:0.1:11\n",
"plot(x,T)\n",
"xtitle('Temperature(T) vs distance(x)','x (cm)','T (units)')\n",
""
   ]
   }
,
{
		   "cell_type": "markdown",
		   "metadata": {},
		   "source": [
			"## Example 31.2: Element_Equation_for_Heated_Rod.sce"
		   ]
		  },
  {
"cell_type": "code",
	   "execution_count": null,
	   "metadata": {
	    "collapsed": true
	   },
	   "outputs": [],
"source": [
"clc;\n",
"clear;\n",
"xf=10;//cm\n",
"xe=2.5;//cm\n",
"//T(0,t)=40; boundary condition\n",
"//T(10,t)=200; boundary condition\n",
"//f(x)=10; uniform heat source\n",
"function y=f(x)\n",
"    y=10*(xe-x)/xe;\n",
"endfunction\n",
"int1=intg(0,xe,f)\n",
"function y=g(x)\n",
"    y=10*(x-0)/xe;\n",
"endfunction\n",
"int2=intg(0,xe,g)\n",
"disp('The results are:')\n",
"disp('0.4*T1-0.4*T2=-(dT/dx)*x1 + c1')\n",
"disp(int1,'where c1=')\n",
"disp('and')\n",
"disp('-0.4*T1+0.4*T2=-(dT/dx)*x2 + c2')\n",
"disp(int2,'where c2=')"
   ]
   }
,
{
		   "cell_type": "markdown",
		   "metadata": {},
		   "source": [
			"## Example 31.3: Temperature_of_a_heated_plate.sce"
		   ]
		  },
  {
"cell_type": "code",
	   "execution_count": null,
	   "metadata": {
	    "collapsed": true
	   },
	   "outputs": [],
"source": [
"//clc()\n",
"wf = 01.5;\n",
"for i = 1:41\n",
"    for j = 1:41\n",
"        T(i,j) = 0;\n",
"        if j == 1 then\n",
"            T(i,j) = 0;//C\n",
"        else\n",
"            if j == 41 then\n",
"                 T(i,j) = 100;//C\n",
"            end\n",
"        end\n",
"        if i == 1 then\n",
"            T(i,j) = 75;//C\n",
"        else\n",
"            if i == 41 then\n",
"                T(i,j) = 50;//C\n",
"            end\n",
"        end\n",
"    end\n",
"end\n",
"e = 100;\n",
"while e>1\n",
"for i=1:41\n",
"    for j = 1:41\n",
"        if i>1 & j>1 & i<41 & j<41 then\n",
"        Tn(i,j) = (T(i + 1,j) + T(i-1,j) + T(i,j+1) + T(i,j-1))/4;\n",
"        Tn(i,j) = wf * Tn(i,j) + (1-wf)*T(i,j);\n",
"            if i==2 & j==2 then\n",
"            e = abs((Tn(i,j) - T(i,j)) * 100/ (Tn(i,j)));\n",
"            end\n",
"        T(i,j) = Tn(i,j);\n",
"        end\n",
"    end\n",
"end\n",
"end\n",
"disp(T,'for error < 1, the temperatures are')\n",
""
   ]
   }
],
"metadata": {
		  "kernelspec": {
		   "display_name": "Scilab",
		   "language": "scilab",
		   "name": "scilab"
		  },
		  "language_info": {
		   "file_extension": ".sce",
		   "help_links": [
			{
			 "text": "MetaKernel Magics",
			 "url": "https://github.com/calysto/metakernel/blob/master/metakernel/magics/README.md"
			}
		   ],
		   "mimetype": "text/x-octave",
		   "name": "scilab",
		   "version": "0.7.1"
		  }
		 },
		 "nbformat": 4,
		 "nbformat_minor": 0
}
