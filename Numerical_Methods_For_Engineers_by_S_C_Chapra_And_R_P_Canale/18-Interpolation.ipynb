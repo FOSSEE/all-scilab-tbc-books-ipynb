{
"cells": [
 {
		   "cell_type": "markdown",
	   "metadata": {},
	   "source": [
       "# Chapter 18: Interpolation"
	   ]
	},
{
		   "cell_type": "markdown",
		   "metadata": {},
		   "source": [
			"## Example 18.10: Cubic_splines.sce"
		   ]
		  },
  {
"cell_type": "code",
	   "execution_count": null,
	   "metadata": {
	    "collapsed": true
	   },
	   "outputs": [],
"source": [
"//clc()\n",
"x = [3,4.5,7,9];\n",
"fx = [2.5,1,2.5,0.5];\n",
"//we get the following equations for cubic splines\n",
"//8*f'(4.5) + 2.5*f'(7) = 9.6\n",
"//2.5*f'(4.5) + 9*f'(7) = -9.6\n",
"//above two equations give \n",
"m = 1.67909;//(m = f'(4.5))\n",
"n = -1.53308;//(n = f'(7))\n",
"//this values can be used to yield the final equation\n",
"//f1(x) = 0.186566 * (x - 3)^3 + 1.66667*(4.5 - x) + 0.246894*(x - 3)\n",
"//in similar manner other equations can be found too\n",
"//f2(x) = 0.111939(7 - x)^3 - 0.102205*(x - 4.5)^3 - 0.299621 * (7 - x) + 1.638783 * (x - 4.5)\n",
"//f3(x) = -0.127757*(9 - x)^3 + 1.761027 *(9 - x) + 0.25*(x - 7)\n",
"x1 = 3:0.1:4.5;\n",
"x2 = 4.5:0.1:7;\n",
"x3 = 7:0.1:9;\n",
"plot2d(x1,0.186566 * (x1 - 3)^3 + 1.66667*(4.5 - x1) + 0.246894*(x1 - 3));\n",
"plot2d(x2,0.111939*(7 - x2)^3 - 0.102205*(x2 - 4.5)^3 - 0.299621 * (7 - x2) + 1.638783 * (x2 - 4.5));\n",
"plot2d(x3,-0.127757*(9 - x3)^3 + 1.761027 *(9 - x3) + 0.25*(x3 - 7));\n",
"xtitle('f(x) vs x','x','f(x)')\n",
"x = 5;\n",
"fx = 0.111939*(7 - x)^3 - 0.102205*(x - 4.5)^3 - 0.299621 * (7 - x) + 1.638783 * (x - 4.5);\n",
"disp(fx,'The value at x = 5 is')"
   ]
   }
,
{
		   "cell_type": "markdown",
		   "metadata": {},
		   "source": [
			"## Example 18.1: Linear_interpolation.sce"
		   ]
		  },
  {
"cell_type": "code",
	   "execution_count": null,
	   "metadata": {
	    "collapsed": true
	   },
	   "outputs": [],
"source": [
"//clc()\n",
"//f1(x) = f0(x) +(f(x1) - f(x0) *(x - x0)/ (x1 - x0)\n",
"x = 2;\n",
"x0 = 1;\n",
"x1 = 6;\n",
"m = 1.791759;\n",
"n = 0;\n",
"r = log(2);\n",
"f = 0 + (m - n) * (x - x0) / (x1 - x0);\n",
"disp(f,'value of ln2 for interpolation region 1 to 6 =')\n",
"e = (r - f) * 100/r;\n",
"disp('%',e,'error by interpolation for interval[1,6] =')\n",
"x2 = 4;\n",
"p = 1.386294;\n",
"f = 0 + (p - n) * (x - x0) / (x2 - x0);\n",
"disp(f,'value of ln2 for interpolation region 1 to 6 =')\n",
"e = (r - f) * 100/r;\n",
"disp('%',e,'error by interpolation for interval[1,6] =')"
   ]
   }
,
{
		   "cell_type": "markdown",
		   "metadata": {},
		   "source": [
			"## Example 18.2: Quadratic_interpolation.sce"
		   ]
		  },
  {
"cell_type": "code",
	   "execution_count": null,
	   "metadata": {
	    "collapsed": true
	   },
	   "outputs": [],
"source": [
"//clc()\n",
"x = 2;\n",
"x0 = 1;\n",
"m = 0;\n",
"x1 = 4;\n",
"n = 1.386294;\n",
"x2 = 6;\n",
"p = 1.791759;\n",
"b0 = m;\n",
"b1 = (n - m)/(x1 - x0);\n",
"b2 = ((p - n)/(x2 - x1) - (n - m)/(x1 - x0))/(x2 - x0);\n",
"disp(b0,'b0 = ')\n",
"disp(b1,'b1 = ')\n",
"disp(b2,'b2 = ')\n",
"f = b0 + b1*(x - x0) + b2*(x - x0)*(x - x1);\n",
"disp(f,'f(2) = ')\n",
"r = log(2);\n",
"e = (r -f)*100/r;\n",
"disp('%',e,'error = ')"
   ]
   }
,
{
		   "cell_type": "markdown",
		   "metadata": {},
		   "source": [
			"## Example 18.3: Newtons_divided_difference_Interpolating_polynomials.sce"
		   ]
		  },
  {
"cell_type": "code",
	   "execution_count": null,
	   "metadata": {
	    "collapsed": true
	   },
	   "outputs": [],
"source": [
"//clc()\n",
"x = 2;\n",
"x0 = 1;\n",
"m = 0;\n",
"x1 = 4;\n",
"n = 1.386294;\n",
"x3 = 5;\n",
"p = 1.609438;\n",
"x2 = 6;\n",
"o = 1.791759;\n",
"f01 = (m - n)/(x0 - x1);\n",
"f12 = (n - o)/(x1 - x2);\n",
"f23 = (p - o)/(x3 - x2);\n",
"f210 =  (f12 - f01)/(x2 - x0);\n",
"f321 = (f23 - f12)/(x3 - x1);\n",
"f0123 = (f321 - f210) / (x3 - x0);\n",
"b0 = m;\n",
"b1 = f01;\n",
"b2 = f210;\n",
"b3 = f0123;\n",
"disp(b0,'b0 = ')\n",
"disp(b1,'b1 = ')\n",
"disp(b2,'b2 = ')\n",
"disp(b3,'b3 = ')\n",
"f = b0 + b1*(x - x0) + b2*(x - x0)*(x - x1) + b3*(x - x0)*(x - x1)*(x - x2);\n",
"disp(f,'f(2) = ')\n",
"r = log(2);\n",
"e = (r -f)*100/r;\n",
"disp('%',e,'error = ')"
   ]
   }
,
{
		   "cell_type": "markdown",
		   "metadata": {},
		   "source": [
			"## Example 18.4: Error_estimation_for_Newtons_polynomial.sce"
		   ]
		  },
  {
"cell_type": "code",
	   "execution_count": null,
	   "metadata": {
	    "collapsed": true
	   },
	   "outputs": [],
"source": [
"//clc()\n",
"x = 2;\n",
"x0 = 1;\n",
"m = 0;\n",
"x1 = 4;\n",
"n = 1.386294;\n",
"x3 = 5;\n",
"p = 1.609438;\n",
"x2 = 6;\n",
"o = 1.791759;\n",
"f01 = (m - n)/(x0 - x1);\n",
"f12 = (n - o)/(x1 - x2);\n",
"f23 = (p - o)/(x3 - x2);\n",
"f210 =  (f12 - f01)/(x2 - x0);\n",
"f321 = (f23 - f12)/(x3 - x1);\n",
"f0123 = (f321 - f210) / (x3 - x0);\n",
"b0 = m;\n",
"b1 = f01;\n",
"b2 = f210;\n",
"b3 = f0123;\n",
"R2 = b3 * (x - x0) * (x - x1)*(x-x2);\n",
"disp(R2,'error R2 = ')"
   ]
   }
,
{
		   "cell_type": "markdown",
		   "metadata": {},
		   "source": [
			"## Example 18.5: Error_Estimates_for_Order_of_Interpolation.sce"
		   ]
		  },
  {
"cell_type": "code",
	   "execution_count": null,
	   "metadata": {
	    "collapsed": true
	   },
	   "outputs": [],
"source": [
"clc;\n",
"clear;\n",
"x=[1 4 6 5 3 1.5 2.5 3.5];\n",
"y=[0 1.3862944 1.7917595 1.6094379 1.0986123 0.4054641 0.9162907 1.2527630];\n",
"n=8;\n",
"for i=1:n\n",
"    fdd(i,1)=y(i);\n",
"end\n",
"for j=2:n\n",
"    for i=1:n-j+1\n",
"        fdd(i,j)=(fdd(i+1,j-1)-fdd(i,j-1))/(x(i+j-1)-x(i));\n",
"    end\n",
"end\n",
"xterm=1;\n",
"yint(1)=fdd(1,1);\n",
"\n",
"for order=2:n\n",
"    xterm=xterm*(2-x(order-1));\n",
"    yint2=yint(order-1)+fdd(1,order)*xterm;\n",
"    Ea(order-1)=yint2-yint(order-1);\n",
"    yint(order)=yint2;\n",
"   \n",
"end\n",
"disp(yint,'F(x)=')\n",
"disp(Ea,'Ea=')\n",
"\n",
""
   ]
   }
,
{
		   "cell_type": "markdown",
		   "metadata": {},
		   "source": [
			"## Example 18.6: Lagrange_interpolating_polynomials.sce"
		   ]
		  },
  {
"cell_type": "code",
	   "execution_count": null,
	   "metadata": {
	    "collapsed": true
	   },
	   "outputs": [],
"source": [
"//clc()\n",
"x = 2;\n",
"x0 = 1;\n",
"m = 0;\n",
"x1 = 4;\n",
"n = 1.386294;\n",
"x2 = 6;\n",
"p = 1.791759;\n",
"f1 = (x - x1)*m/((x0 - x)) + (x- x0) * n/(x1 - x0);\n",
"disp(f1,'first order polynomial f1(2) = ')\n",
"f2 = (x - x1)*(x - x2)*m/((x0 - x1)*(x0 - x2)) + (x - x0)*(x - x2)*n/((x1-x0)*(x1-x2)) + (x - x0)*(x - x1)*p/((x2 - x0)*(x2 - x1));\n",
"disp(f2,'second order polynomial f2(2) = ')"
   ]
   }
,
{
		   "cell_type": "markdown",
		   "metadata": {},
		   "source": [
			"## Example 18.7: Lagrange_interpolation_using_computer.sce"
		   ]
		  },
  {
"cell_type": "code",
	   "execution_count": null,
	   "metadata": {
	    "collapsed": true
	   },
	   "outputs": [],
"source": [
"//clc()\n",
"z = 10;\n",
"x =[1,3,5,7,13];\n",
"v = [800,2310,3090,3940,4755];\n",
"f1 = (z - x(5)) * v(4) / (x(4) - x(5)) + (z - x(4)) * v(5) / (x(5) - x(4));\n",
"f2 = (z - x(4))*(z - x(5)) *v(3)/((x(3) - x(4))*(x(3) - x(5)))+(z - x(3))*(z - x(5)) *v(4)/((x(4) - x(3))*(x(4) - x(5)))+(z - x(4))*(z - x(3)) *v(5)/((x(5) - x(4))*(x(5) - x(3)));\n",
"f3 = (z - x(3))*(z - x(4))*(z - x(5)) *v(2)/((x(2) - x(4))*(x(2) - x(5))*(x(2) - x(3)))+(z - x(4))*(z - x(2))*(z - x(5)) *v(3)/((x(3) - x(2))*(x(3) - x(5))*(x(3) - x(4)))+(z - x(2))*(z - x(3))*(z - x(5)) *v(4)/((x(4) - x(3))*(x(4) - x(2))*(x(4) - x(5)))+ (z - x(3))*(z - x(4))*(z - x(2)) *v(5)/((x(5) - x(4))*(x(5) - x(2))*(x(5) - x(3)));\n",
"f4 = (z - x(2))*(z - x(3))*(z - x(4))*(z - x(5)) *v(1)/((x(1) - x(2))*(x(1) - x(4))*(x(1) - x(5))*(x(1) - x(3)))+ (z - x(1))*(z - x(3))*(z - x(4))*(z - x(5)) *v(2)/((x(2) - x(1))*(x(2) - x(4))*(x(2) - x(5))*(x(2) - x(3)))+(z - x(1))*(z - x(4))*(z - x(2))*(z - x(5)) *v(3)/((x(3) - x(1))*(x(3) - x(2))*(x(3) - x(5))*(x(3) - x(4)))+(z - x(1))*(z - x(2))*(z - x(3))*(z - x(5)) *v(4)/((x(4) - x(1))*(x(4) - x(3))*(x(4) - x(2))*(x(4) - x(5)))+ (z - x(1))*(z - x(3))*(z - x(4))*(z - x(2)) *v(5)/((x(5) - x(1))*(x(5) - x(4))*(x(5) - x(2))*(x(5) - x(3)));\n",
"disp(f1,'Velocity at 10 sec by first order interpolation = ')\n",
"disp(f2,'Velocity at 10 sec by second order interpolation = ')\n",
"disp(f3,'Velocity at 10 sec by third order interpolation = ')\n",
"disp(f4,'Velocity at 10 sec by fourth order interpolation = ')\n",
""
   ]
   }
,
{
		   "cell_type": "markdown",
		   "metadata": {},
		   "source": [
			"## Example 18.8: First_order_splines.sce"
		   ]
		  },
  {
"cell_type": "code",
	   "execution_count": null,
	   "metadata": {
	    "collapsed": true
	   },
	   "outputs": [],
"source": [
"//clc()\n",
"x = [3,4.5,7,9];\n",
"fx = [2.5,1,2.5,0.5];\n",
"m1 = (fx(2) - fx(1))/(x(2) - x(1));\n",
"m2 = (fx(3) - fx(2))/(x(3) - x(2));\n",
"m3 = (fx(4) - fx(3))/(x(4) - x(3));\n",
"x1 = [3,4.5];\n",
"x2 = [4.5,7];\n",
"x3 = [7,9];\n",
"plot2d(x1,m1*x1+5.5);\n",
"plot2d(x2,m2*x2-1.7);\n",
"plot2d(x3,m3*x3+9.5);\n",
"xtitle('f(x) vs x','x','f(x)')\n",
"r = 5\n",
"z = m2*r -1.7;\n",
"disp(z,'The value at x = 5 is')"
   ]
   }
,
{
		   "cell_type": "markdown",
		   "metadata": {},
		   "source": [
			"## Example 18.9: Quadratic_splines.sce"
		   ]
		  },
  {
"cell_type": "code",
	   "execution_count": null,
	   "metadata": {
	    "collapsed": true
	   },
	   "outputs": [],
"source": [
"//clc()\n",
"x = [3,4.5,7,9];\n",
"fx = [2.5,1,2.5,0.5];\n",
"p = 4;\n",
"n = 3;\n",
"uk = n*(p-1);\n",
"c = 2*n - 2;\n",
"//20.25*a1 + 4.5*b1 + c1 = 1\n",
"//20.25*a2 + 4.5*b2 + c2 = 1\n",
"//49*a2 + 7*b2 + c2 = 2.5\n",
"//49*a3 + 7*b3 + c3 = 2.5\n",
"//9a1 + 3b1 + c1 = 2.5\n",
"//81*a3 + 9*b3 + c3 = 0.5\n",
"//9*a1 + b1 = 9*a2 + b2\n",
"//14a2 + b2 = 14 *a3 + b3\n",
"a1 = 0;\n",
"//thus we have above 9 equations and 9 unknowns a1,a2,a3,b1,b2,b3,c1,c2,c3\n",
"//thus we get\n",
"A = [20.25,4.5,1,0,0,0,0,0,0;0,0,0,20.25,4.5,1,0,0,0;0,0,0,49,7,1,0,0,0;0,0,0,0,0,0,49,7,1;9,3,1,0,0,0,0,0,0;0,0,0,0,0,0,81,9,1;9,1,0,-9,-1,0,0,0,0;0,0,0,14,1,0,-14,-1,0;1,0,0,0,0,0,0,0,0];\n",
"disp(A,'A = ')\n",
"B = [1;1;2.5;2.5;2.5;0.5;0;0;0];\n",
"disp(B,'B =')\n",
"X = inv(A)*B;\n",
"a1 = det(X(1,1));\n",
"b1 = det(X(2,1));\n",
"c1 = det(X(3,1));\n",
"a2 = det(X(4,1));\n",
"b2 = det(X(5,1));\n",
"c2 = det(X(6,1));\n",
"a3 = det(X(7,1));\n",
"b3 = det(X(8,1));\n",
"c3 = det(X(9,1));\n",
"disp(a1,'a1 = ')\n",
"disp(b1,'b1 = ')\n",
"disp(c1,'c1 = ')\n",
"disp(a2,'a2 = ')\n",
"disp(b2,'b2 = ')\n",
"disp(c2,'c2 = ')\n",
"disp(a3,'a3 = ')\n",
"disp(b3,'b3 = ')\n",
"disp(c3,'c3 = ')\n",
"//thus,f1(x) = -x + 5.5                         3 < x < 4.5\n",
"//f2(x) = 0.64*x^2 -6.76*x + 18.46              4.5 < x < 7\n",
"//f3(x) = -1.6*x^2 + 24.6*x - 91.3              7 < x < 9\n",
"x1 = 3:0.1:4.5;\n",
"x2 = 4.5:0.1:7;\n",
"x3 = 7:0.1:9;\n",
"plot2d(x1,-x1 + 5.5);\n",
"plot2d(x2,0.64*x2^2 -6.76*x2+ 18.46);\n",
"plot2d(x3,-1.6*x3^2 + 24.6*x3 - 91.3);\n",
"xtitle('f(x) vs x','x','f(x)')\n",
"x = 5;\n",
"fx = 0.64*x^2 -6.76*x + 18.46;\n",
"disp(fx,'The value at x = 5 is')"
   ]
   }
],
"metadata": {
		  "kernelspec": {
		   "display_name": "Scilab",
		   "language": "scilab",
		   "name": "scilab"
		  },
		  "language_info": {
		   "file_extension": ".sce",
		   "help_links": [
			{
			 "text": "MetaKernel Magics",
			 "url": "https://github.com/calysto/metakernel/blob/master/metakernel/magics/README.md"
			}
		   ],
		   "mimetype": "text/x-octave",
		   "name": "scilab",
		   "version": "0.7.1"
		  }
		 },
		 "nbformat": 4,
		 "nbformat_minor": 0
}
