{
"cells": [
 {
		   "cell_type": "markdown",
	   "metadata": {},
	   "source": [
       "# Chapter 2: Programming and Software"
	   ]
	},
{
		   "cell_type": "markdown",
		   "metadata": {},
		   "source": [
			"## Example 2.1: roots_of_quadratic.sce"
		   ]
		  },
  {
"cell_type": "code",
	   "execution_count": null,
	   "metadata": {
	    "collapsed": true
	   },
	   "outputs": [],
"source": [
"clc;\n",
"clear;\n",
"response=1;\n",
"while response==1\n",
"a=input('Input the value of a:')\n",
"b=input('Input the value of b:')\n",
"c=input('Input the value of c:')\n",
"if a==0 then\n",
"    if b~=0 then\n",
"        r1=-c/b;\n",
"        disp(r1,'The root:')\n",
"    else disp('Trivial Solution.')\n",
"    end\n",
"else \n",
"    discr=b^2-4*a*c;\n",
"    if discr>=0 then\n",
"        r1=(-b+sqrt(discr))/(2*a);\n",
"        r2=(-b-sqrt(discr))/(2*a);\n",
"        disp(r2,'and',r1,'The roots are:')\n",
"    else\n",
"        r1=-b/(2*a);\n",
"        r2=r1;\n",
"        i1=sqrt(abs(discr))/(2*a);\n",
"        i2=-i1;\n",
"        disp(r2+i2*sqrt(-1),r1+i1*sqrt(-1),'The roots are:')\n",
"    end\n",
"end\n",
"response=input('Do you want to continue (press 1 for yes and 2 for no)?')\n",
"if response=2 then exit;\n",
"end\n",
"end\n",
"end"
   ]
   }
],
"metadata": {
		  "kernelspec": {
		   "display_name": "Scilab",
		   "language": "scilab",
		   "name": "scilab"
		  },
		  "language_info": {
		   "file_extension": ".sce",
		   "help_links": [
			{
			 "text": "MetaKernel Magics",
			 "url": "https://github.com/calysto/metakernel/blob/master/metakernel/magics/README.md"
			}
		   ],
		   "mimetype": "text/x-octave",
		   "name": "scilab",
		   "version": "0.7.1"
		  }
		 },
		 "nbformat": 4,
		 "nbformat_minor": 0
}
