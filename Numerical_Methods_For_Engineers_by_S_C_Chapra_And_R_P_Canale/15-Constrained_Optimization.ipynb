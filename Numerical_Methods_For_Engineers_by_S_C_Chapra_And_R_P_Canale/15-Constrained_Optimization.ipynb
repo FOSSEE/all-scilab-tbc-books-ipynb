{
"cells": [
 {
		   "cell_type": "markdown",
	   "metadata": {},
	   "source": [
       "# Chapter 15: Constrained Optimization"
	   ]
	},
{
		   "cell_type": "markdown",
		   "metadata": {},
		   "source": [
			"## Example 15.1: Setting_up_LP_problem.sce"
		   ]
		  },
  {
"cell_type": "code",
	   "execution_count": null,
	   "metadata": {
	    "collapsed": true
	   },
	   "outputs": [],
"source": [
"clc;\n",
"clear;\n",
"regular=[7 10 9 150];\n",
"premium=[11 8 6 175];\n",
"res_avail=[77 80];\n",
"//total profit(to be maximized)=z=150*x1+175*x2\n",
"//total gas used=7*x1+11*x2 (has to be less than 77 m^3/week)\n",
"//similarly other constraints are developed\n",
"disp('Maximize z=150*x1+175*x2')\n",
"disp('subject to')\n",
"disp('7*x1+11*x2<=77 (Material constraint)')\n",
"disp('10*x1+8*x2<=80 (Time constraint)')\n",
"disp('x1<=9 (Regular storage constraint)')\n",
"disp('x2<=6 (Premium storage constraint)')\n",
"disp('x1,x2>=0 (Positivity constraint)')"
   ]
   }
,
{
		   "cell_type": "markdown",
		   "metadata": {},
		   "source": [
			"## Example 15.2: Graphical_Solutio.sce"
		   ]
		  },
  {
"cell_type": "code",
	   "execution_count": null,
	   "metadata": {
	    "collapsed": true
	   },
	   "outputs": [],
"source": [
"clc;\n",
"clear;\n",
"for x1=0:8\n",
"    x21(x1+1)=-(7/11)*x1+7;\n",
"    x22(x1+1)=(80-10*x1)/8;\n",
"    x23(x1+1)=6;\n",
"    x24(x1+1)=-150*x1/175;\n",
"    x25(x1+1)=(600-150*x1)/175;\n",
"    x26(x1+1)=(1400-150*x1)/175;\n",
"end\n",
"x1=0:8;\n",
"\n",
"plot(x1,x24,'o-')\n",
"plot(x1,x25,'.-')\n",
"plot(x1,x26,'x-')\n",
"h1=legend(['Z=0';'Z=600';'Z=1400'])\n",
"plot(x1,x21);\n",
"plot(x1,x22);\n",
"plot(x1,x23);\n",
"xtitle('x2 vs x1','x1 (tonnes)','x2 (tonnes)')\n",
""
   ]
   }
,
{
		   "cell_type": "markdown",
		   "metadata": {},
		   "source": [
			"## Example 15.3: Linear_Programming_Problem.sce"
		   ]
		  },
  {
"cell_type": "code",
	   "execution_count": null,
	   "metadata": {
	    "collapsed": true
	   },
	   "outputs": [],
"source": [
"clc;\n",
"clear;\n",
"x1=[4.888889 3.888889];\n",
"x2=[7 11];\n",
"x3=[10 8];\n",
"x4=[150 175];\n",
"x5=[77 80 9 6];\n",
"profit=[x1(1)*x4(1) x1(2)*x4(2)];\n",
"total=[x1(1)*x3(1)+x1(2)*x3(2) x1(1)*x3(1)+x1(2)*x3(2) x1(1) x1(2) profit(1)+profit(2)];\n",
"e=1000;\n",
"\n",
"while e>total(5)\n",
"    if total(1)<=x5(1) then\n",
"        if total(2)<=x5(2) then\n",
"            if total(3)<=x5(3) then\n",
"                if total(4)<=x5(4) then\n",
"                    l=1;\n",
"                end\n",
"            end\n",
"        end\n",
"    end\n",
"    if l==1 then\n",
"        x1(1)=x1(1)+4.888889;\n",
"        x1(2)=x1(2)+3.888889;    \n",
"        profit=[x1(1)*x4(1) x1(2)*x4(2)];\n",
"        total(5)=profit(1)+profit(2);\n",
"    end\n",
"end\n",
"disp(total(5),'The maximized profit is=')"
   ]
   }
,
{
		   "cell_type": "markdown",
		   "metadata": {},
		   "source": [
			"## Example 15.4: Nonlinear_constrained_optimization.sce"
		   ]
		  },
  {
"cell_type": "code",
	   "execution_count": null,
	   "metadata": {
	    "collapsed": true
	   },
	   "outputs": [],
"source": [
"clc;\n",
"clear;\n",
"Mt=2000;//kg\n",
"g=9.8;//m/s^2\n",
"c0=200;//$\n",
"c1=56;//$/m\n",
"c2=0.1;//$/m^2\n",
"vc=20;//m/s\n",
"kc=3;//kg/(s*m^2)\n",
"z0=500;//m\n",
"t=27;\n",
"r=2.943652;\n",
"n=6;\n",
"A=2*%pi*r*r;\n",
"l=(2^0.5)*r;\n",
"c=3*A;\n",
"m=Mt/n;\n",
"function y=f(t)\n",
"    y=(z0+g*m*m/(c*c)*(1-exp(-c*t/m)))*c/(g*m);\n",
"endfunction\n",
"\n",
"    while abs(f(t)-t)>0.00001\n",
"        t=t+0.00001; \n",
"    end\n",
"v=g*m*(1-exp(-c*t/m))/c;\n",
"disp(v,'The final value of velocity=')\n",
"disp(n,'The final no. of load parcels=')\n",
"disp('m',r,'The chute radius=')\n",
"disp((c0+c1*l+c2*A*A)*n,'The minimum cost($)=')"
   ]
   }
,
{
		   "cell_type": "markdown",
		   "metadata": {},
		   "source": [
			"## Example 15.5: One_dimensional_Optimization.sce"
		   ]
		  },
  {
"cell_type": "code",
	   "execution_count": null,
	   "metadata": {
	    "collapsed": true
	   },
	   "outputs": [],
"source": [
"clc;\n",
"clear;\n",
"function y=fx(x)\n",
"    y=-(2*sin(x))+x^2/10\n",
"endfunction\n",
"x=fminsearch(fx,0)\n",
"disp('After maximization:')\n",
"disp(x,'x=')\n",
"disp(fx(x),'f(x)=')"
   ]
   }
,
{
		   "cell_type": "markdown",
		   "metadata": {},
		   "source": [
			"## Example 15.6: Multidimensional_Optimization.sce"
		   ]
		  },
  {
"cell_type": "code",
	   "execution_count": null,
	   "metadata": {
	    "collapsed": true
	   },
	   "outputs": [],
"source": [
"clc;\n",
"clear;\n",
"function f=fx(x)\n",
"    f=-(2*x(1)*x(2)+2*x(1)-x(1)^2-2*x(2)^2)\n",
"endfunction\n",
"x=fminsearch(fx,[-1 1])\n",
"disp('After maximization:')\n",
"disp(x,'x=')\n",
"disp(fx(x),'f(x)=')"
   ]
   }
,
{
		   "cell_type": "markdown",
		   "metadata": {},
		   "source": [
			"## Example 15.7: Locate_Single_Optimum.sce"
		   ]
		  },
  {
"cell_type": "code",
	   "execution_count": null,
	   "metadata": {
	    "collapsed": true
	   },
	   "outputs": [],
"source": [
"clc;\n",
"clear;\n",
"function y=fx(x)\n",
"    y=-(2*sin(x)-x^2/10)\n",
"endfunction\n",
"x=fminsearch(fx,0)\n",
"disp('After maximization:')\n",
"disp(x,'x=')\n",
"disp(fx(x),'f(x)=')"
   ]
   }
],
"metadata": {
		  "kernelspec": {
		   "display_name": "Scilab",
		   "language": "scilab",
		   "name": "scilab"
		  },
		  "language_info": {
		   "file_extension": ".sce",
		   "help_links": [
			{
			 "text": "MetaKernel Magics",
			 "url": "https://github.com/calysto/metakernel/blob/master/metakernel/magics/README.md"
			}
		   ],
		   "mimetype": "text/x-octave",
		   "name": "scilab",
		   "version": "0.7.1"
		  }
		 },
		 "nbformat": 4,
		 "nbformat_minor": 0
}
