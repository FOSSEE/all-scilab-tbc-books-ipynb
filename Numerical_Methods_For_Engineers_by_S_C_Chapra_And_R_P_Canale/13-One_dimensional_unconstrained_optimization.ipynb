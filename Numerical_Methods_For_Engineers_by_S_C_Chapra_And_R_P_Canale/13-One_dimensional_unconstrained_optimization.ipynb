{
"cells": [
 {
		   "cell_type": "markdown",
	   "metadata": {},
	   "source": [
       "# Chapter 13: One dimensional unconstrained optimization"
	   ]
	},
{
		   "cell_type": "markdown",
		   "metadata": {},
		   "source": [
			"## Example 13.1: Golden_section_method.sce"
		   ]
		  },
  {
"cell_type": "code",
	   "execution_count": null,
	   "metadata": {
	    "collapsed": true
	   },
	   "outputs": [],
"source": [
"//clc()\n",
"//f(x) = 2sinx - x^2/10\n",
"xl(1) = 0;\n",
"xu(1) = 4;\n",
"for i = 1:10\n",
"    d(i) = ((5)^(0.5) - 1)*(xu(i) - xl(i))/2;\n",
"    x1(i) = xl(i) + d(i);\n",
"    x2(i) = xu(i) - d(i);\n",
"    m(i) = 2*sin(x1(i)) - (x1(i)^2)/10;\n",
"    n(i) = 2*sin(x2(i)) - (x2(i)^2)/10;\n",
"    if n(i) > m(i) then\n",
"        xu(i+1) = x1(i);\n",
"        xl(i+1) = xl(i);\n",
"    else\n",
"        xl(i+1) = x2(i);\n",
"        xu(i+1) = xu(i);\n",
"    end\n",
"end\n",
"disp(xl,'xl = ')\n",
"disp(x2,'x2 = ')\n",
"disp(x1,'x1 = ')\n",
"disp(xu,'xu = ')"
   ]
   }
,
{
		   "cell_type": "markdown",
		   "metadata": {},
		   "source": [
			"## Example 13.2: Quadratic_interpolation.sce"
		   ]
		  },
  {
"cell_type": "code",
	   "execution_count": null,
	   "metadata": {
	    "collapsed": true
	   },
	   "outputs": [],
"source": [
"//clc()\n",
"//f(x) = 2sinx - x^2/10\n",
"x0(1) = 0;\n",
"x1(1) = 1\n",
"x2(1) = 4;\n",
"for i = 1:6\n",
"    m(i) = 2*sin(x0(i)) - (x0(i)^2)/10;\n",
"    n(i) = 2*sin(x1(i)) - (x1(i)^2)/10; \n",
"    r(i) = 2*sin(x2(i)) - (x2(i)^2)/10;\n",
"    x3(i) = ((m(i)*(x1(i) ^ 2 -x2(i) ^ 2)) + (n(i)*(x2(i) ^ 2 -x0(i) ^ 2)) + (r(i)*(x0(i) ^ 2 -x1(i) ^ 2)))/((2*m(i)*(x1(i) -x2(i)))+(2*n(i)*(x2(i) -x0(i)))+(2*r(i)*(x0(i) -x1(i))));\n",
"    s(i) = 2*sin(x3(i)) - (x3(i)^2)/10;\n",
"    if x1(i) > x3(i) then\n",
"        if n(i)<s(i) then\n",
"            x0(i+1) = x0(i);\n",
"            x1(i+1) = x3(i);\n",
"            x2(i+1) = x1(i);\n",
"        else\n",
"            x0(i+1) = x1(i);\n",
"            x1(i+1) = x3(i);\n",
"            x2(i+1) = x2(i);\n",
"        end\n",
"    else\n",
"        if n(i)>s(i) then\n",
"            x0(i+1) = x0(i);\n",
"            x1(i+1) = x3(i);\n",
"            x2(i+1) = x1(i);\n",
"        else\n",
"            x0(i+1) = x1(i);\n",
"            x1(i+1) = x3(i);\n",
"            x2(i+1) = x2(i);\n",
"        end\n",
"     end\n",
"end\n",
"disp(x0(1:6),'x0 = ')\n",
"disp(x1(1:6),'x1 = ')\n",
"disp(x3(1:6),'x3 = ')\n",
"disp(x2(1:6),'x2 = ')"
   ]
   }
,
{
		   "cell_type": "markdown",
		   "metadata": {},
		   "source": [
			"## Example 13.3: Newtons_method.sce"
		   ]
		  },
  {
"cell_type": "code",
	   "execution_count": null,
	   "metadata": {
	    "collapsed": true
	   },
	   "outputs": [],
"source": [
"//clc()\n",
"//f(x) = 2sinx - x^2/10\n",
"x(1) = 2.5;\n",
"//f'(x) = 2cosx - x/5\n",
"//f'(x) = -2sinx - 1/5\n",
"for i = 2:10\n",
"  x(i) = x(i-1) - (2*cos(x(i-1)) - x(i-1)/5)/(-2*sin(x(i-1)) - 1/5);\n",
"end\n",
"disp(x,'x = ')"
   ]
   }
],
"metadata": {
		  "kernelspec": {
		   "display_name": "Scilab",
		   "language": "scilab",
		   "name": "scilab"
		  },
		  "language_info": {
		   "file_extension": ".sce",
		   "help_links": [
			{
			 "text": "MetaKernel Magics",
			 "url": "https://github.com/calysto/metakernel/blob/master/metakernel/magics/README.md"
			}
		   ],
		   "mimetype": "text/x-octave",
		   "name": "scilab",
		   "version": "0.7.1"
		  }
		 },
		 "nbformat": 4,
		 "nbformat_minor": 0
}
