{
"cells": [
 {
		   "cell_type": "markdown",
	   "metadata": {},
	   "source": [
       "# Chapter 9: Gauss Elimination"
	   ]
	},
{
		   "cell_type": "markdown",
		   "metadata": {},
		   "source": [
			"## Example 9.10: Effect_of_scaling_on_Pivoting_and_round_off.sce"
		   ]
		  },
  {
"cell_type": "code",
	   "execution_count": null,
	   "metadata": {
	    "collapsed": true
	   },
	   "outputs": [],
"source": [
"//clc()\n",
"//2*x1 + 10000*x2 = 10000\n",
"//x1 + x2 = 2\n",
"x1 = 1;\n",
"x2 = 1;\n",
"disp('without scaling, applying forward elimination')\n",
"//x1 is too small and can be neglected\n",
"x21 = 10000/10000;\n",
"x11 = 0;\n",
"e1 = (x1 - x11)*100/x1;\n",
"disp(x21,'x2 = ')\n",
"disp(x11,'x1 = ')\n",
"disp(e1,'error for x1 = ')\n",
"disp('with scaling')\n",
"//0.00002*x1 + x2 = 1\n",
"//now x1 is neglected because of the co efficient\n",
"x22 = 1;\n",
"x12 = 2 - x1;\n",
"disp(x12,'x1 = ')\n",
"disp(x22,'x2 = ')\n",
"//using original co efficient\n",
"//x1 can be neglected\n",
"disp('pivot and retaining original coefficients')\n",
"x22 = 10000/10000;\n",
"x12 = 2 - x1;\n",
"disp(x12,'x1 = ')\n",
"disp(x22,'x2 = ')"
   ]
   }
,
{
		   "cell_type": "markdown",
		   "metadata": {},
		   "source": [
			"## Example 9.11: Solution_of_Linear_Algebraic_Equations.sce"
		   ]
		  },
  {
"cell_type": "code",
	   "execution_count": null,
	   "metadata": {
	    "collapsed": true
	   },
	   "outputs": [],
"source": [
"clc;\n",
"clear;\n",
"a=[70 1 0;60 -1 1;40 0 -1];\n",
"b=[636;518;307];\n",
"x=abs(linsolve(a,b));\n",
"disp('m/s^2',x(1,1),'a=')\n",
"disp('N',x(2,1),'T=')\n",
"disp('N',x(3,1),'R=')"
   ]
   }
,
{
		   "cell_type": "markdown",
		   "metadata": {},
		   "source": [
			"## Example 9.12: Gauss_Jordan_method.sce"
		   ]
		  },
  {
"cell_type": "code",
	   "execution_count": null,
	   "metadata": {
	    "collapsed": true
	   },
	   "outputs": [],
"source": [
"//clc()\n",
"//3*x1 - 0.1*x2 - 0.2*x3 = 7.85\n",
"//0.1*x1 + 7*x2 - 0.3*x3 = -19.3\n",
"//0.3*x1 - 0.2*x2 + 10*x3 = 71.4\n",
"// this can be written in matrix form as\n",
"A = [3,-0.1,-0.2,7.85;0.1,7,-0.3,-19.3;0.3,-0.2,10,71.4];\n",
"disp(A,'Equation in matrix form can be written as')\n",
"X = A(1,:) / det(A(1,1));\n",
"Y = A(2,:) - 0.1*X;\n",
"Z = A(3,:) - 0.3*X;\n",
"Y = Y/det(Y(1,2));\n",
"X = X - Y * det(X(1,2));\n",
"Z = Z - Y * det(Z(1,2));\n",
"Z = Z/det(Z(1,3));\n",
"X = X - Z*det(X(1,3));\n",
"Y = Y - Z*det(Y(1,3));\n",
"A = [X;Y;Z];\n",
"disp(A,'final matrix = ')\n",
"disp(det(A(1,4)),'x1 = ')\n",
"disp(det(A(2,4)),'x2 = ')\n",
"disp(det(A(3,4)),'x3 = ')"
   ]
   }
,
{
		   "cell_type": "markdown",
		   "metadata": {},
		   "source": [
			"## Example 9.1: Graphical_Method_for_two_Equations.sce"
		   ]
		  },
  {
"cell_type": "code",
	   "execution_count": null,
	   "metadata": {
	    "collapsed": true
	   },
	   "outputs": [],
"source": [
"clc;\n",
"clear;\n",
"//the equations are:\n",
"//3*x1 + 2*x2=18 and -x1 + 2*x2=2\n",
"\n",
"//equation 1 becomes,\n",
"//x2=-(3/2)*x1 + 9\n",
"//equation 2 becomes,\n",
"//x2=-(1/2)*x1 + 1\n",
"\n",
"//plotting equation 1\n",
"for x1=1:6\n",
"    x2(x1)=-(3/2)*x1 + 9;\n",
"end\n",
"x1=[1 2 3 4 5 6];\n",
"//plotting equation 2\n",
"for x3=1:6\n",
"    x4(x3)=(1/2)*x3 + 1;\n",
"end\n",
"x3=[1 2 3 4 5 6];\n",
"plot(x1,x2)\n",
"plot(x3,x4)\n",
"xtitle('x2 vs x1','x1','x2')\n",
"//the lines meet at x1=4 amd x2=3\n",
"disp(3,'x2=','and',4,'x1=','The lines meet at=')"
   ]
   }
,
{
		   "cell_type": "markdown",
		   "metadata": {},
		   "source": [
			"## Example 9.2: Deterinants.sce"
		   ]
		  },
  {
"cell_type": "code",
	   "execution_count": null,
	   "metadata": {
	    "collapsed": true
	   },
	   "outputs": [],
"source": [
"clc;\n",
"clear;\n",
"//For fig9.1\n",
"a=[3 2;-1 2];\n",
"disp(determ(a),'The value of determinant for system repesented in fig 9.1 =')\n",
"//For fig9.2 (a)\n",
"a=[-0.5 1;-0.5 1];\n",
"disp(determ(a),'The value of determinant for system repesented in fig 9.2 (a) =')\n",
"//For fig9.2 (b)\n",
"a=[-0.5 1;-1 2];\n",
"disp(determ(a),'The value of determinant for system repesented in fig 9.2 (b) =')\n",
"//For fig9.2 (c)\n",
"a=[-0.5 1;-2.3/5 1];\n",
"disp(determ(a),'The value of determinant for system repesented in fig 9.2 (c) =')"
   ]
   }
,
{
		   "cell_type": "markdown",
		   "metadata": {},
		   "source": [
			"## Example 9.3: Cramers_Rule.sce"
		   ]
		  },
  {
"cell_type": "code",
	   "execution_count": null,
	   "metadata": {
	    "collapsed": true
	   },
	   "outputs": [],
"source": [
"clc;\n",
"clear;\n",
"//the matrix or the system\n",
"b1=-0.01;\n",
"b2=0.67;\n",
"b3=-0.44;\n",
"a=[0.3 0.52 1;0.5 1 1.9;0.1 0.3 0.5];\n",
"a1=[a(2,2) a(2,3);a(3,2) a(3,3)];\n",
"A1=determ(a1);\n",
"a2=[a(2,1) a(2,3);a(3,1) a(3,3)];\n",
"A2=determ(a2);\n",
"a3=[a(2,1) a(2,2);a(3,1) a(3,2)];\n",
"A3=determ(a3);\n",
"D=a(1,1)*A1-a(1,2)*A2+a(1,3)*A3;\n",
"p=[b1 0.52 1;b2 1 1.9;b3 0.3 0.5];\n",
"q=[0.3 b1 1;0.5 b2 1.9;0.1 b3 0.5];\n",
"r=[0.3 0.52 b1;0.5 1 b2;0.1 0.3 b3];\n",
"x1=det(p)/D;\n",
"x2=det(q)/D;\n",
"x3=det(r)/D;\n",
"disp('The values are:')\n",
"disp(x1,'x1=')\n",
"disp(x2,'x2=')\n",
"disp(x3,'x3=')"
   ]
   }
,
{
		   "cell_type": "markdown",
		   "metadata": {},
		   "source": [
			"## Example 9.4: Elimination_of_Unknowns.sce"
		   ]
		  },
  {
"cell_type": "code",
	   "execution_count": null,
	   "metadata": {
	    "collapsed": true
	   },
	   "outputs": [],
"source": [
"clc;\n",
"clear;\n",
"//the equations are:\n",
"//3*x1+2*x2=18\n",
"//-x1+2*x2=2\n",
"a11=3;\n",
"a12=2;\n",
"b1=18;\n",
"a21=-1;\n",
"a22=2;\n",
"b2=2;\n",
"x1=(b1*a22-a12*b2)/(a11*a22-a12*a21);\n",
"x2=(b2*a11-a21*b1)/(a11*a22-a12*a21);\n",
"disp(x1,'x1=')\n",
"disp(x2,'x2=')"
   ]
   }
,
{
		   "cell_type": "markdown",
		   "metadata": {},
		   "source": [
			"## Example 9.5: Naive_Gauss_Elimination.sce"
		   ]
		  },
  {
"cell_type": "code",
	   "execution_count": null,
	   "metadata": {
	    "collapsed": true
	   },
	   "outputs": [],
"source": [
"clc;\n",
"clear;\n",
"n=3;\n",
"b(1)=7.85;\n",
"b(2)=-19.3;\n",
"b(3)=71.4;\n",
"a=[3 -0.1 -0.2;0.1 7 -0.3;0.3 -0.2 10];\n",
"for k=1:n-1\n",
"    for i=k+1:n\n",
"        fact=a(i,k)/a(k,k);\n",
"        for j=k+1:n\n",
"            a(i,j)=a(i,j)-fact*(a(k,j));\n",
"        end\n",
"        b(i)=b(i)-fact*b(k);\n",
"    end\n",
"end\n",
"x(n)=b(n)/a(n,n);\n",
"for i=n-1:-1:1\n",
"    s=b(i);\n",
"    for j=i+1:n\n",
"        s=s-a(i,j)*x(j)\n",
"    end\n",
"    x(i)=b(i)/a(i,i);\n",
"end\n",
"disp(x(1),'x1=')\n",
"disp(x(2),'x2=')\n",
"disp(x(3),'x3=')"
   ]
   }
,
{
		   "cell_type": "markdown",
		   "metadata": {},
		   "source": [
			"## Example 9.6: ill_conditioned_systems.sce"
		   ]
		  },
  {
"cell_type": "code",
	   "execution_count": null,
	   "metadata": {
	    "collapsed": true
	   },
	   "outputs": [],
"source": [
"clc;\n",
"clear;\n",
"a11=1;\n",
"a12=2;\n",
"b1=10;\n",
"a21=1.1;\n",
"a22=2;\n",
"b2=10.4;\n",
"x1=(b1*a22-a12*b2)/(a11*a22-a12*a21);\n",
"x2=(b2*a11-a21*b1)/(a11*a22-a12*a21);\n",
"disp('For the original system:')\n",
"disp(x1,'x1=')\n",
"disp(x2,'x2=')\n",
"a21=1.05;\n",
"x1=(b1*a22-a12*b2)/(a11*a22-a12*a21);\n",
"x2=(b2*a11-a21*b1)/(a11*a22-a12*a21);\n",
"disp('For the new system:')\n",
"disp(x1,'x1=')\n",
"disp(x2,'x2=')"
   ]
   }
,
{
		   "cell_type": "markdown",
		   "metadata": {},
		   "source": [
			"## Example 9.7: Effect_of_Scale_on_Determinant.sce"
		   ]
		  },
  {
"cell_type": "code",
	   "execution_count": null,
	   "metadata": {
	    "collapsed": true
	   },
	   "outputs": [],
"source": [
"clc;\n",
"clear;\n",
"//part a\n",
"a=[3 2;-1 2];\n",
"b1=18;\n",
"b2=2;\n",
"disp(determ(a),'The determinant for part(a)=')\n",
"//part b\n",
"a=[1 2;1.1 2];\n",
"b1=10;\n",
"b2=10.4;\n",
"disp(determ(a),'The determinant for part(b)=')\n",
"//part c\n",
"a1=a*10;\n",
"b1=100;\n",
"b2=104;\n",
"disp(determ(a1),'The determinant for part(c)=')"
   ]
   }
,
{
		   "cell_type": "markdown",
		   "metadata": {},
		   "source": [
			"## Example 9.8: Scaling.sce"
		   ]
		  },
  {
"cell_type": "code",
	   "execution_count": null,
	   "metadata": {
	    "collapsed": true
	   },
	   "outputs": [],
"source": [
"clc;\n",
"clear;\n",
"//part a\n",
"a=[1 0.667;-0.5 1];\n",
"b1=6;\n",
"b2=1;\n",
"disp(determ(a),'The determinant for part(a)=')\n",
"//part b\n",
"a=[0.5 1;0.55 1];\n",
"b1=5;\n",
"b2=5.2;\n",
"disp(determ(a),'The determinant for part(b)=')\n",
"//part c\n",
"b1=5;\n",
"b2=5.2;\n",
"disp(determ(a),'The determinant for part(c)=')"
   ]
   }
,
{
		   "cell_type": "markdown",
		   "metadata": {},
		   "source": [
			"## Example 9.9: Partial_Pivoting.sce"
		   ]
		  },
  {
"cell_type": "code",
	   "execution_count": null,
	   "metadata": {
	    "collapsed": true
	   },
	   "outputs": [],
"source": [
"//clc()\n",
"//0.0003*x1 + 3*x2 = 2.0001\n",
"//1*x1 + 1*x2 = 1\n",
"a11 = 0.000;\n",
"//multiplying first equation by 1/0.0003, we get, x1 + 10000*x2 = 6667\n",
"x2 = (6667-1)/(10000-1);\n",
"x1 = 6667 - 10000*x2;\n",
"disp(x2,'x2 = ')\n",
"disp(x1,'x1 = ')\n",
"disp('The error varies depending on the no. of significant figures used')"
   ]
   }
],
"metadata": {
		  "kernelspec": {
		   "display_name": "Scilab",
		   "language": "scilab",
		   "name": "scilab"
		  },
		  "language_info": {
		   "file_extension": ".sce",
		   "help_links": [
			{
			 "text": "MetaKernel Magics",
			 "url": "https://github.com/calysto/metakernel/blob/master/metakernel/magics/README.md"
			}
		   ],
		   "mimetype": "text/x-octave",
		   "name": "scilab",
		   "version": "0.7.1"
		  }
		 },
		 "nbformat": 4,
		 "nbformat_minor": 0
}
