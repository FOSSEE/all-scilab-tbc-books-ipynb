{
"cells": [
 {
		   "cell_type": "markdown",
	   "metadata": {},
	   "source": [
       "# Chapter 4: Truncation Errors and the Taylor Series"
	   ]
	},
{
		   "cell_type": "markdown",
		   "metadata": {},
		   "source": [
			"## Example 4.1: Polynomial_Taylor_Series.sce"
		   ]
		  },
  {
"cell_type": "code",
	   "execution_count": null,
	   "metadata": {
	    "collapsed": true
	   },
	   "outputs": [],
"source": [
"clc;\n",
"clear;\n",
"function y=f(x)\n",
"    y=-0.1*x^4-0.15*x^3-0.5*x^2-0.25*x+1.2;\n",
"endfunction\n",
"xi=0;\n",
"xf=1;\n",
"h=xf-xi;\n",
"fi=f(xi);//function value at xi\n",
"ffa=f(xf);//actual function value at xf\n",
"\n",
"//for n=0, i.e, zero order approximation\n",
"ff=fi;\n",
"Et(1)=ffa-ff;//truncation error at x=1\n",
"disp(fi,'The value of f at x=0 :')\n",
"disp(ff,'The value of f at x=1 due to zero order approximation :')\n",
"disp(Et(1),'Truncation error :')\n",
"disp('----------------------------------------------')\n",
"\n",
"//for n=1, i.e, first order approximation\n",
"deff('y=f1(x)','y=derivative(f,x,order=4)')\n",
"f1i=f1(xi);//value of first derivative of function at xi\n",
"f1f=fi+f1i*h;//value of first derivative of function at xf\n",
"Et(2)=ffa-f1f;//truncation error at x=1\n",
"disp(f1i,'The value of first derivative of f at x=0 :')\n",
"disp(f1f,'The value of f at x=1 due to first order approximation :')\n",
"disp(Et(2),'Truncation error :')\n",
"disp('----------------------------------------------')\n",
"\n",
"\n",
"//for n=2, i.e, second order approximation\n",
"deff('y=f2(x)','y=derivative(f1,x,order=4)')\n",
"f2i=f2(xi);//value of second derivative of function at xi\n",
"f2f=f1f+f2i*(h^2)/factorial(2);//value of second derivative of function at xf\n",
"Et(3)=ffa-f2f;//truncation error at x=1\n",
"disp(f2i,'The value of second derivative of f at x=0 :')\n",
"disp(f2f,'The value of f at x=1 due to second order approximation :')\n",
"disp(Et(3),'Truncation error :')\n",
"disp('----------------------------------------------')\n",
"\n",
"//for n=3, i.e, third order approximation\n",
"deff('y=f3(x)','y=derivative(f2,x,order=4)')\n",
"f3i=f3(xi);//value of third derivative of function at xi\n",
"f3f=f2f+f3i*(h^3)/factorial(3);//value of third derivative of function at xf\n",
"Et(4)=ffa-f3f;//truncation error at x=1\n",
"disp(f3i,'The value of third derivative of f at x=0 :')\n",
"disp(f3f,'The value of f at x=1 due to third order approximation :')\n",
"disp(Et(4),'Truncation error :')\n",
"disp('----------------------------------------------')\n",
"\n",
"//for n=4, i.e, fourth order approximation\n",
"deff('y=f4(x)','y=derivative(f3,x,order=4)')\n",
"f4i=f4(xi);//value of fourth derivative of function at xi\n",
"f4f=f3f+f4i*(h^4)/factorial(4);//value of fourth derivative of function at xf\n",
"Et(5)=ffa-f4f;//truncation error at x=1\n",
"disp(f4i,'The value of fourth derivative of f at x=0 :')\n",
"disp(f4f,'The value of f at x=1 due to fourth order approximation :')\n",
"disp(Et(5),'Truncation error :')\n",
"disp('----------------------------------------------')\n",
"\n",
"\n",
"\n",
"\n",
"\n",
""
   ]
   }
,
{
		   "cell_type": "markdown",
		   "metadata": {},
		   "source": [
			"## Example 4.2: Taylor_Series_Expansion.sce"
		   ]
		  },
  {
"cell_type": "code",
	   "execution_count": null,
	   "metadata": {
	    "collapsed": true
	   },
	   "outputs": [],
"source": [
"clc;\n",
"clear;\n",
"function y=f(x)\n",
"    y=cos(x)\n",
"endfunction\n",
"xi=%pi/4;\n",
"xf=%pi/3;\n",
"h=xf-xi;\n",
"fi=f(xi);//function value at xi\n",
"ffa=f(xf);//actual function value at xf\n",
"\n",
"//for n=0, i.e, zero order approximation\n",
"ff=fi;\n",
"et(1)=(ffa-ff)*100/ffa;//percent relative error at x=1\n",
"disp(ff,'The value of f at x=1 due to zero order approximation :')\n",
"disp(et(1),'% relative error :')\n",
"disp('----------------------------------------------')\n",
"\n",
"//for n=1, i.e, first order approximation\n",
"deff('y=f1(x)','y=derivative(f,x,order=4)')\n",
"f1i=f1(xi);//value of first derivative of function at xi\n",
"f1f=fi+f1i*h;//value of first derivative of function at xf\n",
"et(2)=(ffa-f1f)*100/ffa;//% relative error at x=1\n",
"disp(f1f,'The value of f at x=1 due to first order approximation :')\n",
"disp(et(2),'% relative error :')\n",
"disp('----------------------------------------------')\n",
"\n",
"\n",
"//for n=2, i.e, second order approximation\n",
"deff('y=f2(x)','y=derivative(f1,x,order=4)')\n",
"f2i=f2(xi);//value of second derivative of function at xi\n",
"f2f=f1f+f2i*(h^2)/factorial(2);//value of second derivative of function at xf\n",
"et(3)=(ffa-f2f)*100/ffa;//% relative error at x=1\n",
"disp(f2f,'The value of f at x=1 due to second order approximation :')\n",
"disp(et(3),'% relative error :')\n",
"disp('----------------------------------------------')\n",
"\n",
"\n",
"//for n=3, i.e, third order approximation\n",
"deff('y=f3(x)','y=derivative(f2,x,order=4)')\n",
"f3i=f3(xi);//value of third derivative of function at xi\n",
"f3f=f2f+f3i*(h^3)/factorial(3);//value of third derivative of function at xf\n",
"et(4)=(ffa-f3f)*100/ffa;//% relative error at x=1\n",
"disp(f3f,'The value of f at x=1 due to third order approximation :')\n",
"disp(et(4),'% relative error :')\n",
"disp('----------------------------------------------')\n",
"\n",
"\n",
"//for n=4, i.e, fourth order approximation\n",
"deff('y=f4(x)','y=derivative(f3,x,order=4)')\n",
"f4i=f4(xi);//value of fourth derivative of function at xi\n",
"f4f=f3f+f4i*(h^4)/factorial(4);//value of fourth derivative of function at xf\n",
"et(5)=(ffa-f4f)*100/ffa;//% relative error at x=1\n",
"disp(f4f,'The value of f at x=1 due to fourth order approximation :')\n",
"disp(et(5),'% relative error :')\n",
"disp('----------------------------------------------')\n",
"\n",
"\n",
"//for n=5, i.e, fifth order approximation\n",
"f5i=(f4(1.1*xi)-f4(0.9*xi))/(2*0.1);//value of fifth derivative of function at xi (central difference method)\n",
"f5f=f4f+f5i*(h^5)/factorial(5);//value of fifth derivative of function at xf\n",
"et(6)=(ffa-f5f)*100/ffa;//% relative error at x=1\n",
"disp(f5f,'The value of f at x=1 due to fifth order approximation :')\n",
"disp(et(6),'% relative error :')\n",
"disp('----------------------------------------------')\n",
"\n",
"\n",
"//for n=6, i.e, sixth order approximation\n",
"deff('y=f6(x)','y=derivative(f5,x,order=4)')\n",
"f6i=(f4(1.1*xi)-2*f4(xi)+f4(0.9*xi))/(0.1^2);//value of sixth derivative of function at xi (central difference method)\n",
"f6f=f5f+f6i*(h^6)/factorial(6);//value of sixth derivative of function at xf\n",
"et(6)=(ffa-f6f)*100/ffa;//% relative error at x=1\n",
"disp(f6f,'The value of f at x=1 due to sixth order approximation :')\n",
"disp(et(6),'% relative error :')\n",
"disp('----------------------------------------------')\n",
"\n",
"\n",
"\n",
"\n",
""
   ]
   }
,
{
		   "cell_type": "markdown",
		   "metadata": {},
		   "source": [
			"## Example 4.3: Effect_of_Nonlinearity_and_Stepsize_on_Taylor_expansion.sce"
		   ]
		  },
  {
"cell_type": "code",
	   "execution_count": null,
	   "metadata": {
	    "collapsed": true
	   },
	   "outputs": [],
"source": [
"clc;\n",
"clear;\n",
"m=input('Input value of m:')\n",
"h=input('Input value of h:')\n",
"function y=f(x)\n",
"    y=x^m\n",
"endfunction\n",
"x1=1;\n",
"x2=x1+h;\n",
"fx1=f(x1);\n",
"fx2=fx1+m*(fx1^(m-1))*h;\n",
"if m==1 then\n",
"    R=0;\n",
"else if m==2 then\n",
"        R=2*(h^2)/factorial(2);\n",
"        end\n",
"     if m==3 then\n",
"        R=(6*(x1)*(h^2)/factorial(2))+(6*(h^3)/factorial(3));\n",
"        end\n",
"     if m==4 then\n",
"        R=(12*(x1^2)*(h^2)/factorial(2))+(24*(x1)*(h^3)/factorial(3))+(24*(h^4)/factorial(4));\n",
"        end\n",
"end\n",
"disp(R,'Remainder:',fx2,'The value by first order approximation:')\n",
"disp(f(x2),'True Value at x2:')"
   ]
   }
,
{
		   "cell_type": "markdown",
		   "metadata": {},
		   "source": [
			"## Example 4.4: Finite_divided_difference_approximation_of_derivatives.sce"
		   ]
		  },
  {
"cell_type": "code",
	   "execution_count": null,
	   "metadata": {
	    "collapsed": true
	   },
	   "outputs": [],
"source": [
"clc;\n",
"clear;\n",
"function y=f(x)\n",
"    y=-0.1*(x^4)-0.15*(x^3)-0.5*(x^2)-0.25*(x)+1.2\n",
"endfunction\n",
"x=0.5;\n",
"h=input('Input h:')\n",
"x1=x-h;\n",
"x2=x+h;\n",
"//forward difference method\n",
"fdx1=(f(x2)-f(x))/h;//derivative at x\n",
"et1=abs((fdx1-derivative(f,x))/derivative(f,x))*100;\n",
"//backward difference method\n",
"fdx2=(f(x)-f(x1))/h;//derivative at x\n",
"et2=abs((fdx2-derivative(f,x))/derivative(f,x))*100;\n",
"//central difference method\n",
"fdx3=(f(x2)-f(x1))/(2*h);//derivative at x\n",
"et3=abs((fdx3-derivative(f,x))/derivative(f,x))*100;\n",
"disp(h,'For h=')\n",
"disp(et1,'and percent error=',fdx1,'Derivative at x by forward difference method=')\n",
"disp(et2,'and percent error=',fdx2,'Derivative at x by backward difference method=')\n",
"disp(et3,'and percent error=',fdx3,'Derivative at x by central difference method=')"
   ]
   }
,
{
		   "cell_type": "markdown",
		   "metadata": {},
		   "source": [
			"## Example 4.5: Error_propagation_in_function_of_single_variable.sce"
		   ]
		  },
  {
"cell_type": "code",
	   "execution_count": null,
	   "metadata": {
	    "collapsed": true
	   },
	   "outputs": [],
"source": [
"clc;\n",
"clear;\n",
"function y=f(x)\n",
"    y=x^3\n",
"endfunction\n",
"x=2.5;\n",
"delta=0.01;\n",
"deltafx=abs(derivative(f,x))*delta;\n",
"fx=f(x);\n",
"disp(fx+deltafx,'and',fx-deltafx,'true value is between')"
   ]
   }
,
{
		   "cell_type": "markdown",
		   "metadata": {},
		   "source": [
			"## Example 4.6: Error_propagation_in_multivariable_function.sce"
		   ]
		  },
  {
"cell_type": "code",
	   "execution_count": null,
	   "metadata": {
	    "collapsed": true
	   },
	   "outputs": [],
"source": [
"clc;\n",
"clear;\n",
"function y=f(F,L,E,I)\n",
"    y=(F*(L^4))/(8*E*I)\n",
"endfunction\n",
"Fbar=50;//lb/ft\n",
"Lbar=30;//ft\n",
"Ebar=1.5*(10^8);//lb/ft^2\n",
"Ibar=0.06;//ft^4\n",
"deltaF=2;//lb/ft\n",
"deltaL=0.1;//ft\n",
"deltaE=0.01*(10^8);//lb/ft^2\n",
"deltaI=0.0006;//ft^4\n",
"ybar=(Fbar*(Lbar^4))/(8*Ebar*Ibar);\n",
"function y=f1(F)\n",
"    y=(F*(Lbar^4))/(8*Ebar*Ibar)\n",
"endfunction\n",
"function y=f2(L)\n",
"    y=(Fbar*(L^4))/(8*Ebar*Ibar)\n",
"endfunction\n",
"function y=f3(E)\n",
"    y=(Fbar*(Lbar^4))/(8*E*Ibar)\n",
"endfunction\n",
"function y=f4(I)\n",
"    y=(Fbar*(Lbar^4))/(8*Ebar*I)\n",
"endfunction\n",
"\n",
"deltay=abs(derivative(f1,Fbar))*deltaF+abs(derivative(f2,Lbar))*deltaL+abs(derivative(f3,Ebar))*deltaE+abs(derivative(f4,Ibar))*deltaI;\n",
"\n",
"disp(ybar+deltay,'and',ybar-deltay,'The value of y is between:')\n",
"ymin=((Fbar-deltaF)*((Lbar-deltaL)^4))/(8*(Ebar+deltaE)*(Ibar+deltaI));\n",
"ymax=((Fbar+deltaF)*((Lbar+deltaL)^4))/(8*(Ebar-deltaE)*(Ibar-deltaI));\n",
"disp(ymin,'ymin is calculated at lower extremes of F, L, E, I values as =')\n",
"disp(ymax,'ymax is calculated at higher extremes of F, L, E, I values as =')"
   ]
   }
,
{
		   "cell_type": "markdown",
		   "metadata": {},
		   "source": [
			"## Example 4.7: Condition_Number.sce"
		   ]
		  },
  {
"cell_type": "code",
	   "execution_count": null,
	   "metadata": {
	    "collapsed": true
	   },
	   "outputs": [],
"source": [
"clc;\n",
"clear;\n",
"function y=f(x)\n",
"    y=tan(x)\n",
"endfunction\n",
"x1bar=(%pi/2)+0.1*(%pi/2);\n",
"x2bar=(%pi/2)+0.01*(%pi/2);\n",
"//computing condition number for x1bar\n",
"condnum1=x1bar*derivative(f,x1bar)/f(x1bar);\n",
"disp(condnum1,'is:',x1bar,'The condition number of function for x=')\n",
"if abs(condnum1)>1 then disp(x1bar,'Function is ill-conditioned for x=')\n",
"end\n",
"//computing condition number for x2bar\n",
"condnum2=x2bar*derivative(f,x2bar)/f(x2bar);\n",
"disp(condnum2,'is:',x2bar,'The condition number of function for x=')\n",
"if abs(condnum2)>1 then disp(x2bar,'Function is ill-conditioned for x=')\n",
"end"
   ]
   }
],
"metadata": {
		  "kernelspec": {
		   "display_name": "Scilab",
		   "language": "scilab",
		   "name": "scilab"
		  },
		  "language_info": {
		   "file_extension": ".sce",
		   "help_links": [
			{
			 "text": "MetaKernel Magics",
			 "url": "https://github.com/calysto/metakernel/blob/master/metakernel/magics/README.md"
			}
		   ],
		   "mimetype": "text/x-octave",
		   "name": "scilab",
		   "version": "0.7.1"
		  }
		 },
		 "nbformat": 4,
		 "nbformat_minor": 0
}
