{
"cells": [
 {
		   "cell_type": "markdown",
	   "metadata": {},
	   "source": [
       "# Chapter 6: Open Methods"
	   ]
	},
{
		   "cell_type": "markdown",
		   "metadata": {},
		   "source": [
			"## Example 6.10: fixed_point_iteration_for_nonlinear_system.sce"
		   ]
		  },
  {
"cell_type": "code",
	   "execution_count": null,
	   "metadata": {
	    "collapsed": true
	   },
	   "outputs": [],
"source": [
"//clc()\n",
"//u(x,y) = x^2 + x*y - 10\n",
"//v(x,y) = y + 3*x*y^2 -57\n",
"for i = 1:4\n",
"    if i == 1 then\n",
"        x(i) = 1.5;\n",
"        y(i) = 3.5;\n",
"    else\n",
"        x(i) = sqrt(10 - (x(i-1))*(y(i-1)));\n",
"        y(i) = sqrt((57 - y(i-1))/(3*x(i)));\n",
"        disp(x(i),'x =')\n",
"        disp(y(i),'y =')\n",
"    end\n",
"end\n",
"disp('Thus the approaching to the true value 0f x = 2 and y = 3')"
   ]
   }
,
{
		   "cell_type": "markdown",
		   "metadata": {},
		   "source": [
			"## Example 6.11: Newton_Raphson_for_a_nonlinear_Problem.sce"
		   ]
		  },
  {
"cell_type": "code",
	   "execution_count": null,
	   "metadata": {
	    "collapsed": true
	   },
	   "outputs": [],
"source": [
"clc;\n",
"clear;\n",
"function z=u(x,y)\n",
"    z=x^2+x*y-10\n",
"endfunction\n",
"function z=v(x,y)\n",
"    z=y+3*x*y^2-57\n",
"endfunction\n",
"x=1.5;\n",
"y=3.5;\n",
"e=[100 100];\n",
"while  e(1)>0.0001 & e(2)>0.0001\n",
"    J=[2*x+y x; 3*y^2 1+6*x*y];\n",
"    deter=determ(J);\n",
"    u1=u(x,y);\n",
"    v1=v(x,y);\n",
"    x=x-((u1*J(2,2)-v1*J(1,2))/deter);\n",
"    y=y-((v1*J(1,1)-u1*J(2,1))/deter);\n",
"    e(1)=abs(2-x);\n",
"    e(2)=abs(3-y);\n",
"end\n",
"bracket=[x y];\n",
"disp(bracket)"
   ]
   }
,
{
		   "cell_type": "markdown",
		   "metadata": {},
		   "source": [
			"## Example 6.1: simple_fixed_point_iteration.sce"
		   ]
		  },
  {
"cell_type": "code",
	   "execution_count": null,
	   "metadata": {
	    "collapsed": true
	   },
	   "outputs": [],
"source": [
"//clc()\n",
"//f(x) = exp(-x) - x;\n",
"//using simple fixed point iteration, Xi+1 = exp(-Xi)\n",
"x = 0;//initial guess\n",
"for i = 1:11\n",
"    if i == 1 then\n",
"        y(i) = x;\n",
"    else\n",
"         y(i) = exp(-y(i-1));\n",
"        e(i) = (y(i) - y(i-1)) * 100 / y(i);\n",
"    end      \n",
"end\n",
"disp(y,'x = ')\n",
"disp('%',e,'e = ')"
   ]
   }
,
{
		   "cell_type": "markdown",
		   "metadata": {},
		   "source": [
			"## Example 6.2: The_Two_curve_graphical_method.sce"
		   ]
		  },
  {
"cell_type": "code",
	   "execution_count": null,
	   "metadata": {
	    "collapsed": true
	   },
	   "outputs": [],
"source": [
"//clc()\n",
"//y1 = x\n",
"//y2 = exp(-x)\n",
"for i = 1:6\n",
"    if i == 1 then\n",
"        x(i) = 0;\n",
"       else   x(i) = x(i-1) + 0.2;\n",
"    end \n",
"    y1(i) = x(i);\n",
"    y2(i) = exp(-x(i));\n",
"end\n",
"disp(x,'x = ')\n",
"disp(y1,'y1 = ')\n",
"disp(y2,'y2 = ')\n",
"plot(x,y1);\n",
"plot(x,y2);\n",
"xtitle('f(x) vs x','x','f(x)')\n",
"// from the graph, we get\n",
"x7 = 5.7;\n",
"disp(x7, 'answer using two curve graphical method =  ');"
   ]
   }
,
{
		   "cell_type": "markdown",
		   "metadata": {},
		   "source": [
			"## Example 6.3: Newton_Raphson_Method.sce"
		   ]
		  },
  {
"cell_type": "code",
	   "execution_count": null,
	   "metadata": {
	    "collapsed": true
	   },
	   "outputs": [],
"source": [
"//clc()\n",
"//f(x) = exp(-x)-x\n",
"//f'(x) = -exp(-x)-1\n",
"for i = 1:5\n",
"    if i == 1 then\n",
"        x(i) = 0;\n",
"    else\n",
"         x(i) = x(i-1) - (exp(-x(i-1))-x(i-1))/(-exp(-x(i-1))-1);\n",
"         et(i) = (x(i) - x(i-1)) * 100 / x(i);\n",
"         x(i-1) = x(i);\n",
"    end\n",
"end\n",
"disp(x)\n",
"disp(et)"
   ]
   }
,
{
		   "cell_type": "markdown",
		   "metadata": {},
		   "source": [
			"## Example 6.4: Error_analysis_of_Newton_Raphson_method.sce"
		   ]
		  },
  {
"cell_type": "code",
	   "execution_count": null,
	   "metadata": {
	    "collapsed": true
	   },
	   "outputs": [],
"source": [
"//clc()\n",
"//f(x) = exp(-x) - x\n",
"//f'(x) = -exp(-x) - 1\n",
"//f'(x) = exp(-x)\n",
"xr = 0.56714329;\n",
"//E(ti+1) = -f'(x)* E(ti) / 2 * f'(x)\n",
"Et0 = 0.56714329;\n",
"Et1 = -exp(-xr)* ((Et0)^2) / (2 * (-exp(-xr) - 1));\n",
"disp('which is close to the true error of 0.06714329',Et1,'Et1 = ')\n",
"Et1true = 0.06714329;\n",
"Et2 =  -exp(-xr)* ((Et1true)^2) / (2 * (-exp(-xr) - 1));\n",
"disp('which is close to the true error of 0.0008323',Et2,'Et2 = ')\n",
"Et2true = 0.0008323;\n",
"Et3 =  -exp(-xr)* ((Et2true)^2) / (2 * (-exp(-xr) - 1));\n",
"disp('which is close to the true error',Et3,'Et3 = ')\n",
"Et4 =  -exp(-xr)* ((Et3)^2) / (2 * (-exp(-xr) - 1));\n",
"disp('which is close to the true error',Et4,'Et4 = ')\n",
"disp('Thus it illustratres that the error of newton raphson method for this case is proportional(by a factor of 0.18095) to the square of the error of the previous iteration')\n",
" "
   ]
   }
,
{
		   "cell_type": "markdown",
		   "metadata": {},
		   "source": [
			"## Example 6.5: slowly_converging_function_with_Newton_Raphson_method.sce"
		   ]
		  },
  {
"cell_type": "code",
	   "execution_count": null,
	   "metadata": {
	    "collapsed": true
	   },
	   "outputs": [],
"source": [
"//clc()\n",
"z = 0.5;\n",
"//f(x) = x^10 - 1\n",
"//f'(x) = 10*x^9\n",
"for i = 1:40\n",
"    if i==1 then\n",
"        y(i) = z;\n",
"    else\n",
"        y(i) = y(i-1) - (y(i-1)^10 - 1)/(10*y(i-1)^9)\n",
"    end\n",
"end\n",
"disp(y)\n",
"disp('Thus, after the first poor prediction, the technique is converging on to the true root of 1 but at a very slow rate')"
   ]
   }
,
{
		   "cell_type": "markdown",
		   "metadata": {},
		   "source": [
			"## Example 6.6: The_secant_method.sce"
		   ]
		  },
  {
"cell_type": "code",
	   "execution_count": null,
	   "metadata": {
	    "collapsed": true
	   },
	   "outputs": [],
"source": [
"//clc()\n",
"funcprot(0)\n",
"//f(x) = exp(-x)-x\n",
"for i = 1:5\n",
"    if i==1 then\n",
"        x(i) = 0;\n",
"    else\n",
"        if i==2 then\n",
"            x(i) = 1;\n",
"        else\n",
"        x(i) =x(i-1) - (exp(-x(i-1))-x(i-1))*(x(i-2) - x(i-1))/((exp(-x(i-2))-x(i-2))-(exp(-x(i-1))-x(i-1)))\n",
"        er(i) = (0.56714329 - x(i)) * 100 / 0.56714329;\n",
"        end\n",
"    end\n",
"end\n",
"disp(x(1:5),'x =')\n",
"disp(er(3:5),'et =')"
   ]
   }
,
{
		   "cell_type": "markdown",
		   "metadata": {},
		   "source": [
			"## Example 6.7: secant_and_false_position_techniques.sce"
		   ]
		  },
  {
"cell_type": "code",
	   "execution_count": null,
	   "metadata": {
	    "collapsed": true
	   },
	   "outputs": [],
"source": [
"//clc()\n",
"funcprot(0)\n",
"//f(x) = log(x)\n",
"disp('secant method')\n",
"for i = 1:4\n",
"    if i==1 then\n",
"        x(i) = 0.5;\n",
"    else\n",
"        if i==2 then\n",
"            x(i) = 5;\n",
"        else\n",
"        x(i) =x(i-1) - log(x(i-1)) * (x(i-2) - x(i-1))/(log(x(i-2)) - log(x(i-1)));\n",
"        end\n",
"    end\n",
"end\n",
"disp(x(1:4),'x =')\n",
"disp('thus, secant method is divergent')\n",
"disp('Now, False position method')\n",
"    xl = 0.5;\n",
"    xu = 5;\n",
"for i = 1:3\n",
"    m = log(xl);\n",
"    n = log(xu);\n",
"    xr = xu - n*(xl - xu)/(m - n);\n",
"    disp(xr,'xr = ')\n",
"    w = log(xr);\n",
"    if m*w < 0 then\n",
"        xu = xr;\n",
"    else\n",
"        xl = xr;\n",
"    end\n",
"end\n",
" \n",
"disp('thus, false position method is convergent')"
   ]
   }
,
{
		   "cell_type": "markdown",
		   "metadata": {},
		   "source": [
			"## Example 6.8: Modified_secant_method.sce"
		   ]
		  },
  {
"cell_type": "code",
	   "execution_count": null,
	   "metadata": {
	    "collapsed": true
	   },
	   "outputs": [],
"source": [
"//clc()\n",
"del = 0.01;\n",
"z = 0.56714329\n",
"x1 = 1;\n",
"//f(x) = exp(-x) - x\n",
"disp(x1,'x1 = ')\n",
"for i = 1:4\n",
"    if i == 1 then\n",
"        x(i) = 1\n",
"    else \n",
"        w = x(i-1);\n",
"        m = exp(-x(i-1)) - x(i-1);\n",
"        x(i-1) = x(i-1)*(1+del);\n",
"        n = exp(-x(i-1)) - x(i-1);\n",
"        x(i) = w - (x(i-1)- w) * m/(n-m);\n",
"        em = (z - x(i))*100/z;\n",
"         disp(x(i),'x = ')\n",
"        disp('%',em,'error = ')\n",
"    end\n",
"end"
   ]
   }
,
{
		   "cell_type": "markdown",
		   "metadata": {},
		   "source": [
			"## Example 6.9: modified_newton_raphson_method.sce"
		   ]
		  },
  {
"cell_type": "code",
	   "execution_count": null,
	   "metadata": {
	    "collapsed": true
	   },
	   "outputs": [],
"source": [
"//clc()\n",
"//f(x) = x^3 - 5*x^2 + 7*x -3\n",
"//f'(x) = 3*x^2 - 10*x + 7\n",
"disp('standard Newton Raphson method')\n",
"for i = 1:7\n",
"    if i == 1 then\n",
"        x(i) = 0;\n",
"    else\n",
"         x(i) = x(i-1) - ((x(i-1))^3 - 5*(x(i-1))^2 + 7*x(i-1) -3)/(3*(x(i-1))^2 - 10*(x(i-1)) + 7);      \n",
"         et(i) = (1 - x(i)) * 100 / 1;\n",
"         disp(x(i),'x = ')\n",
"         disp('%',et(i),'error = ')\n",
"         x(i-1) = x(i);\n",
"    end\n",
"end\n",
"disp('Modified Newton Raphson method')\n",
"//f'(x) = 6*x - 10\n",
"for i = 1:4\n",
"    if i == 1 then\n",
"        x(i) = 0;\n",
"    else\n",
"         x(i) = x(i-1) - ((x(i-1))^3 - 5*(x(i-1))^2 + 7*x(i-1) -3)*((3*(x(i-1))^2 - 10*(x(i-1)) + 7))/((3*(x(i-1))^2 - 10*(x(i-1)) + 7)^2 - ((x(i-1))^3 - 5*(x(i-1))^2 + 7*x(i-1) -3) * (6*x(i-1) - 10));\n",
"         et(i) = (1 - x(i)) * 100 / 1;\n",
"         disp(x(i),'x = ')\n",
"         disp('%',et(i),'error = ')\n",
"         x(i-1) = x(i);\n",
"    end\n",
"end"
   ]
   }
],
"metadata": {
		  "kernelspec": {
		   "display_name": "Scilab",
		   "language": "scilab",
		   "name": "scilab"
		  },
		  "language_info": {
		   "file_extension": ".sce",
		   "help_links": [
			{
			 "text": "MetaKernel Magics",
			 "url": "https://github.com/calysto/metakernel/blob/master/metakernel/magics/README.md"
			}
		   ],
		   "mimetype": "text/x-octave",
		   "name": "scilab",
		   "version": "0.7.1"
		  }
		 },
		 "nbformat": 4,
		 "nbformat_minor": 0
}
