{
"cells": [
 {
		   "cell_type": "markdown",
	   "metadata": {},
	   "source": [
       "# Chapter 27: Boundary Value and Eigen Value problems"
	   ]
	},
{
		   "cell_type": "markdown",
		   "metadata": {},
		   "source": [
			"## Example 27.10_a: Stiff_ODEs.sce"
		   ]
		  },
  {
"cell_type": "code",
	   "execution_count": null,
	   "metadata": {
	    "collapsed": true
	   },
	   "outputs": [],
"source": [
"clc;\n",
"clear;\n",
"function yp=vanderpol(t,y)\n",
"    yp=[y(2);1*(1-y(1)^2)*y(2)-y(1)]\n",
"endfunction\n",
"y0=[1 1];\n",
"t=0:0.1:20;\n",
"sol=ode(y0,0,t,vanderpol);\n",
"count=1;\n",
"for i=1:2:401\n",
"    x(count)=sol(i);\n",
"    count=count+1;\n",
"end\n",
"plot(t,x)\n",
"xtitle('y vs t','t','y')"
   ]
   }
,
{
		   "cell_type": "markdown",
		   "metadata": {},
		   "source": [
			"## Example 27.10_b: Stiff_ODEs.sce"
		   ]
		  },
  {
"cell_type": "code",
	   "execution_count": null,
	   "metadata": {
	    "collapsed": true
	   },
	   "outputs": [],
"source": [
"clc;\n",
"clear;\n",
"clf();\n",
"function yp=vanderpol1(t,y)\n",
"    yp=[y(2);1000*(1-y(1)^2)*y(2)-y(1)]\n",
"endfunction\n",
"t=0:3000;\n",
"yo=[1 1];\n",
"sol=ode(y0,0,t,vanderpol1);\n",
"count=1;\n",
"\n",
"for i=1:2:6001\n",
"    z(count)=sol(i)*-1;\n",
"    count=count+1;\n",
"end\n",
"\n",
"plot(t,z)\n",
"xtitle('y vs t','t','y')"
   ]
   }
,
{
		   "cell_type": "markdown",
		   "metadata": {},
		   "source": [
			"## Example 27.11: Solving_ODEs.sce"
		   ]
		  },
  {
"cell_type": "code",
	   "execution_count": null,
	   "metadata": {
	    "collapsed": true
	   },
	   "outputs": [],
"source": [
"clc;\n",
"clear;\n",
"function yp=predprey(t,y)\n",
"    yp=[1.2*y(1)-0.6*y(1)*y(2);-0.8*y(2)+0.3*y(1)*y(2)];\n",
"endfunction\n",
"t=0:10;\n",
"y0=[2 1];\n",
"sol=ode(y0,0,t,predprey);\n",
"count=0;\n",
"for i=1:2:22\n",
"    disp(count,'istep=')\n",
"    disp(count,'time=')\n",
"    disp(sol(i),'y1=')\n",
"    disp(sol(i+1),'y2=')\n",
"    disp('---------------------------------------------------')\n",
"    count=count+1;\n",
"end\n",
"\n",
""
   ]
   }
,
{
		   "cell_type": "markdown",
		   "metadata": {},
		   "source": [
			"## Example 27.1: The_shooting_method.sce"
		   ]
		  },
  {
"cell_type": "code",
	   "execution_count": null,
	   "metadata": {
	    "collapsed": true
	   },
	   "outputs": [],
"source": [
"//clc()\n",
"l = 10;//m\n",
"h = 0.01;//m^(-2)\n",
"Ta = 20;\n",
"T0 = 40;\n",
"T10 = 200;\n",
"//dT/dx = z\n",
"//dz/dx = h'(T-Ta)\n",
"// we use z = 10 as initial guess and integrating above equations simultaneously, solving using RK4 method, we get T10 = 168.3797\n",
"// similarly, with z = 20, T10 = 285.898\n",
"z01 = 10;\n",
"z02 = 20;\n",
"T10a = 168.3797;\n",
"T10b = 285.898;\n",
"z0 = z01 + (z02 - z01)*(T10 - T10a)/(T10b - T10a);\n",
"disp(z0,'z0 = ')\n",
"disp('this value of z can be used to get the correct value')"
   ]
   }
,
{
		   "cell_type": "markdown",
		   "metadata": {},
		   "source": [
			"## Example 27.2: The_shooting_method_for_non_linear_problems.sce"
		   ]
		  },
  {
"cell_type": "code",
	   "execution_count": null,
	   "metadata": {
	    "collapsed": true
	   },
	   "outputs": [],
"source": [
"//clc()\n",
"z(1) = 10.0035;\n",
"T(1) = 40;\n",
"Ta = 20;\n",
"h = 0.5;\n",
"for i = 1:20\n",
"    k11(i) = z(i);\n",
"    k12(i) = 5*10^-8*(T(i) - Ta)^4;\n",
"    z1 = z(i) + h/2;\n",
"    T1 = T(i) + h/2;\n",
"    k21(i) = z1;\n",
"    k22(i) = 5*10^-8*(T1 - Ta)^4;\n",
"    z1 = z(i) + h/2;\n",
"    T1 = T(i) + h/2;\n",
"    k31(i) = z1;\n",
"    k32(i) = 5*10^-8*(T1 - Ta)^4;\n",
"    z1 = z(i) + h;\n",
"    T1 = T(i) + h;\n",
"    k41(i) = z1;\n",
"    k42(i) = 5*10^-8*(T1 - Ta)^4;\n",
"    T(i+1) = T(i) + ( k11(i) + 2* k21(i) + 2*k31(i) + k41(i))*h/6;\n",
"    z(i+1) = z(i) + ( k12(i) + 2* k22(i) + 2*k32(i) + k42(i))*h/6;\n",
"end\n",
"x=0:0.5:10;\n",
"plot(x,T(1:21))\n",
"xtitle('T vs x','x','T')"
   ]
   }
,
{
		   "cell_type": "markdown",
		   "metadata": {},
		   "source": [
			"## Example 27.3: Finite_Difference_Approximation.sce"
		   ]
		  },
  {
"cell_type": "code",
	   "execution_count": null,
	   "metadata": {
	    "collapsed": true
	   },
	   "outputs": [],
"source": [
"clc;\n",
"clear;\n",
"h=0.01;\n",
"delx=2;\n",
"x=2+h*delx^2;\n",
"a=[x -1 0 0;-1 x -1 0;0 -1 x -1;0 0 -1 x];\n",
"b=[40.8; 0.8; 0.8; 200.8];\n",
"T=linsolve(a,b);\n",
"disp('The temperature at the interior nodes:')\n",
"disp(abs(T))"
   ]
   }
,
{
		   "cell_type": "markdown",
		   "metadata": {},
		   "source": [
			"## Example 27.4: Mass_Spring_System.sce"
		   ]
		  },
  {
"cell_type": "code",
	   "execution_count": null,
	   "metadata": {
	    "collapsed": true
	   },
	   "outputs": [],
"source": [
"clc;\n",
"clear;\n",
"m1=40;//kg\n",
"m2=40;//kg\n",
"k=200;//N/m\n",
"sqw=poly(0,'s');\n",
"p=sqw^2-20*sqw+75;\n",
"r=roots(p);\n",
"f1=(r(1))^0.5;\n",
"f2=(r(2))^0.5;\n",
"Tp1=(2*%pi)/f1;\n",
"Tp2=(2*%pi)/f2;\n",
"//for first mode\n",
"disp('For first mode:')\n",
"disp(Tp1,'Period of oscillation:')\n",
"disp('A1=-A2')\n",
"disp('--------------------------------------------------')\n",
"//for first mode\n",
"disp('For second mode:')\n",
"disp(Tp2,'Period of oscillation:')\n",
"disp('A1=A2')"
   ]
   }
,
{
		   "cell_type": "markdown",
		   "metadata": {},
		   "source": [
			"## Example 27.5: Axially_Loaded_colum.sce"
		   ]
		  },
  {
"cell_type": "code",
	   "execution_count": null,
	   "metadata": {
	    "collapsed": true
	   },
	   "outputs": [],
"source": [
"clc;\n",
"clear;\n",
"E=10*10^9;//Pa\n",
"I=1.25*10^-5;//m^4\n",
"L=3;//m\n",
"for i=1:8\n",
"    p=i*%pi/L;\n",
"    P=i^2*(%pi)^2*E*I/(L^2*1000);\n",
"    disp(i,'n=')\n",
"    disp('m^-2',p,'p=')\n",
"    disp('kN',P,'P=')\n",
"    disp('-----------------------------------------------------')\n",
"end"
   ]
   }
,
{
		   "cell_type": "markdown",
		   "metadata": {},
		   "source": [
			"## Example 27.6: Polynomial_Method.sce"
		   ]
		  },
  {
"cell_type": "code",
	   "execution_count": null,
	   "metadata": {
	    "collapsed": true
	   },
	   "outputs": [],
"source": [
"clc;\n",
"clear;\n",
"E=10*10^9;//Pa\n",
"I=1.25*10^-5;//m^4\n",
"L=3;//m\n",
"true=[1.0472 2.0944 3.1416 4.1888];\n",
"//part a\n",
"h1=3/2;\n",
"p=poly(0,'s')\n",
"a=2-h1^2*p^2;\n",
"x=roots(a);\n",
"e=abs(abs(x(1))-true(1))*100/true(1);\n",
"disp(x,'p=')\n",
"disp(e,'error=')\n",
"disp('------------------------------------------------')\n",
"//part b\n",
"h2=3/3;\n",
"p=poly(0,'s')\n",
"a=(2-h2^2*p^2)^2 - 1;\n",
"x=roots(a);\n",
"e(1)=abs(abs(x(1))-true(2))*100/true(2);\n",
"e(2)=abs(abs(x(2))-true(1))*100/true(1);\n",
"disp(x,'p=')\n",
"disp(e,'error=')\n",
"disp('-------------------------------------------------')\n",
"//part c\n",
"h3=3/4;\n",
"p=poly(0,'s')\n",
"a=(2-h3^2*p^2)^3 - 2*(2-h3^2*p^2);\n",
"x=roots(a);\n",
"e(1)=abs(abs(x(1))-true(3))*100/true(3);\n",
"e(2)=abs(abs(x(2))-true(2))*100/true(2);\n",
"e(3)=abs(abs(x(3))-true(1))*100/true(1);\n",
"disp(x,'p=')\n",
"disp(e,'error=')\n",
"disp('-------------------------------------------------')\n",
"\n",
"\n",
"//part d\n",
"h4=3/5;\n",
"p=poly(0,'s')\n",
"a=(2-h4^2*p^2)^4 - 3*(2-h4^2*p^2)^2 + 1;\n",
"x=roots(a);\n",
"e(1)=abs(abs(x(1))-true(4))*100/true(4);\n",
"e(2)=abs(abs(x(2))-true(3))*100/true(3);\n",
"e(3)=abs(abs(x(3))-true(2))*100/true(2);\n",
"e(4)=abs(abs(x(4))-true(1))*100/true(1);\n",
"disp(x,'p=')\n",
"disp(e,'error=')\n",
"disp('-------------------------------------------------')"
   ]
   }
,
{
		   "cell_type": "markdown",
		   "metadata": {},
		   "source": [
			"## Example 27.7: Power_Method_Highest_Eigenvalue.sce"
		   ]
		  },
  {
"cell_type": "code",
	   "execution_count": null,
	   "metadata": {
	    "collapsed": true
	   },
	   "outputs": [],
"source": [
"clc;\n",
"clear;\n",
"a=[3.556 -1.668 0;-1.778 3.556 -1.778;0 -1.778 3.556];\n",
"b=[1.778;0;1.778];\n",
"ea=100;\n",
"count=1;\n",
"while ea>0.1\n",
"    maxim=b(1);\n",
"    for i=2:3\n",
"        if abs(b(i))>abs(maxim) then\n",
"            maxim=b(i);\n",
"        end\n",
"    end\n",
"    eigen(count)=maxim;\n",
"    b=a*(b./maxim);\n",
"    if count==1 then\n",
"        ea=20;\n",
"        count=count+1;\n",
"        \n",
"    else \n",
"        ea=abs(eigen(count)-eigen(count-1))*100/abs(eigen(count));\n",
"        count=count+1;\n",
"    end\n",
"end\n",
"disp(eigen(count-1),'The largest eigen value')"
   ]
   }
,
{
		   "cell_type": "markdown",
		   "metadata": {},
		   "source": [
			"## Example 27.8: Power_Method_Lowest_Eigenvalue.sce"
		   ]
		  },
  {
"cell_type": "code",
	   "execution_count": null,
	   "metadata": {
	    "collapsed": true
	   },
	   "outputs": [],
"source": [
"clc;\n",
"clear;\n",
"a=[3.556 -1.668 0;-1.778 3.556 -1.778;0 -1.778 3.556];\n",
"b=[1.778;0;1.778];\n",
"ea=100;\n",
"count=1;\n",
"ai=inv(a);\n",
"while ea>4\n",
"    maxim=b(1);\n",
"    for i=2:3\n",
"        if abs(b(i))>abs(maxim) then\n",
"            maxim=b(i);\n",
"        end\n",
"    end\n",
"    eigen(count)=maxim;\n",
"    b=ai*(b./maxim);\n",
"    if count==1 then\n",
"        ea=20;\n",
"        count=count+1;\n",
"        \n",
"    else \n",
"        ea=abs(eigen(count)-eigen(count-1))*100/abs(eigen(count));\n",
"        count=count+1;\n",
"    end\n",
"end\n",
"disp((1/eigen(count-1))^0.5,'The smallest eigen value')"
   ]
   }
,
{
		   "cell_type": "markdown",
		   "metadata": {},
		   "source": [
			"## Example 27.9: Eigenvalues_and_ODEs.sce"
		   ]
		  },
  {
"cell_type": "code",
	   "execution_count": null,
	   "metadata": {
	    "collapsed": true
	   },
	   "outputs": [],
"source": [
"clc;\n",
"clear;\n",
"function yp=predprey(t,y)\n",
"    yp=[1.2*y(1)-0.6*y(1)*y(2);-0.8*y(2)+0.3*y(1)*y(2)];\n",
"endfunction\n",
"t=0:0.1:20;\n",
"y0=[2 1];\n",
"sol=ode(y0,0,t,predprey);\n",
"count=1;\n",
"for i=1:2:401\n",
"    x(count)=sol(i);\n",
"    z(count)=sol(i+1);\n",
"    count=count+1;\n",
"end\n",
"\n",
"plot(t,x)\n",
"plot(t,z)\n",
"xtitle('y vs t', 't','y')\n",
"clf();\n",
"plot(x,z)\n",
"xtitle('space-space plot (y1 vs y2)', 'y1','y2')"
   ]
   }
],
"metadata": {
		  "kernelspec": {
		   "display_name": "Scilab",
		   "language": "scilab",
		   "name": "scilab"
		  },
		  "language_info": {
		   "file_extension": ".sce",
		   "help_links": [
			{
			 "text": "MetaKernel Magics",
			 "url": "https://github.com/calysto/metakernel/blob/master/metakernel/magics/README.md"
			}
		   ],
		   "mimetype": "text/x-octave",
		   "name": "scilab",
		   "version": "0.7.1"
		  }
		 },
		 "nbformat": 4,
		 "nbformat_minor": 0
}
