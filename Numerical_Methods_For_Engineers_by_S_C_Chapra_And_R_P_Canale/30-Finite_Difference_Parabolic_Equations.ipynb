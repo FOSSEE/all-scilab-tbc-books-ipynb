{
"cells": [
 {
		   "cell_type": "markdown",
	   "metadata": {},
	   "source": [
       "# Chapter 30: Finite Difference Parabolic Equations"
	   ]
	},
{
		   "cell_type": "markdown",
		   "metadata": {},
		   "source": [
			"## Example 30.1: Explicit_solution_of_a_one_dimensional_heat_conduction_equation.sce"
		   ]
		  },
  {
"cell_type": "code",
	   "execution_count": null,
	   "metadata": {
	    "collapsed": true
	   },
	   "outputs": [],
"source": [
"//clc()\n",
"l = 10;//cm\n",
"k1 = 0.49;//cal/(s.cm.C)\n",
"x = 2;//cm\n",
"dt = 0.1;//sec\n",
"T0 = 100;//C\n",
"T10 = 50;//C\n",
"C = 0.2174;//cal/(g.C)\n",
"rho = 2.7;//g/cm^3\n",
"k = k1/(C*rho);\n",
"L = k * dt / x^2;\n",
"disp(L,'L =')\n",
"T(1,1) = 100;\n",
"T(1,2) = 0;\n",
"T(1,3) = 0;\n",
"T(1,4) = 0;\n",
"T(1,5) = 0;\n",
"T(1,6) = 50;\n",
"T(2,1) = 100;\n",
"T(2,6) = 50;\n",
"for i = 2:3\n",
"    for j = 2:5\n",
"        T(i,j) = T(i-1,j) + L * (T(i-1,j+1) - 2* T(i-1,j) + T(i-1,j-1));\n",
"    end\n",
"end\n",
"disp(T(2,2),'T11 = ')\n",
"disp(T(2,3),'T12 = ')\n",
"disp(T(2,4),'T13 = ')\n",
"disp(T(2,5),'T14 = ')\n",
"disp(T(3,2),'T21 = ')\n",
"disp(T(3,3),'T22 = ')\n",
"disp(T(3,4),'T23 = ')\n",
"disp(T(3,5),'T24 = ')"
   ]
   }
,
{
		   "cell_type": "markdown",
		   "metadata": {},
		   "source": [
			"## Example 30.2: Simple_implicit_solution_of_a_heat_conduction_equation.sce"
		   ]
		  },
  {
"cell_type": "code",
	   "execution_count": null,
	   "metadata": {
	    "collapsed": true
	   },
	   "outputs": [],
"source": [
"//clc()\n",
"l = 10;//cm\n",
"k1 = 0.49;//cal/(s.cm.C)\n",
"x = 2;//cm\n",
"dt = 0.1;//sec\n",
"C = 0.2174;//cal/(g.C)\n",
"rho = 2.7;//g/cm^3\n",
"k = k1/(C*rho);\n",
"L = k * dt / x^2;\n",
"disp(L,'L =')\n",
"//now, at t = 0, 1.04175 *T'1 + 0.020875 *T'2 = 0 + 0.020875*100\n",
"//similarly getting other simultaneous eqautions,we get the following matrix\n",
"A = [1.04175,-0.020875,0,0;-0.020875,1.04175,-0.020875,0;0,-0.020875,1.04175,-0.020875;0,0,-0.020875,1.04175];\n",
"B = [2.0875;0;0;1.04375];\n",
"X = inv(A) * B;\n",
"T11 = det(X(1,1));\n",
"T12 = det(X(2,1));\n",
"T13 = det(X(3,1));\n",
"T14 = det(X(4,1));\n",
"disp('for t = 0')\n",
"disp(T11,'T11 = ')\n",
"disp(T12,'T12 = ')\n",
"disp(T13,'T13 = ')\n",
"disp(T14,'T14 = ')\n",
"//to solve for t = 0.2, the right hand side vector is modified to D,\n",
"D = [4.09215;0.04059;0.02090;2.04069];\n",
"Y = inv(A)*D;\n",
"T21 = det(Y(1,1));\n",
"T22 = det(Y(2,1));\n",
"T23 = det(Y(3,1));\n",
"T24 = det(Y(4,1));\n",
"disp('for t = 0.2')\n",
"disp(T21,'T21 = ')\n",
"disp(T22,'T22 = ')\n",
"disp(T23,'T23 = ')\n",
"disp(T24,'T24 = ')"
   ]
   }
,
{
		   "cell_type": "markdown",
		   "metadata": {},
		   "source": [
			"## Example 30.3: Crank_Nicolson_solution_to_the_heat_conduction_equation.sce"
		   ]
		  },
  {
"cell_type": "code",
	   "execution_count": null,
	   "metadata": {
	    "collapsed": true
	   },
	   "outputs": [],
"source": [
"//clc()\n",
"//using crank nicolson method, we get simultaneous equations which can be simplified to following matrics\n",
"A = [2.04175,-0.020875,0,0;-0.020875,2.04175,-0.020875,0;0,-0.020875,2.04175,-0.020875;0,0,-0.020875,2.04175];\n",
"B = [4.175;0;0;2.0875];\n",
"X = inv(A)*B;\n",
"disp('at t = 0.1 s')\n",
"disp(det(X(1,1)),'T11 = ')\n",
"disp(det(X(2,1)),'T12 = ')\n",
"disp(det(X(3,1)),'T13 = ')\n",
"disp(det(X(4,1)),'T14 = ')\n",
"C = [8.1801;0.0841;0.0427;4.0901];\n",
"Y = inv(A)*C;\n",
"disp('at t = 0.2 s')\n",
"disp(det(Y(1,1)),'T21 = ')\n",
"disp(det(Y(2,1)),'T22 = ')\n",
"disp(det(Y(3,1)),'T23 = ')\n",
"disp(det(Y(4,1)),'T24 = ')"
   ]
   }
,
{
		   "cell_type": "markdown",
		   "metadata": {},
		   "source": [
			"## Example 30.4: Comparison_of_Analytical_and_Numerical_solution.sce"
		   ]
		  },
  {
"cell_type": "code",
	   "execution_count": null,
	   "metadata": {
	    "collapsed": true
	   },
	   "outputs": [],
"source": [
"//clc()\n",
"x = 2;//cm\n",
"L = 10;//cm\n",
"k = 0.835;//cm^2/s\n",
"t = 10;//s\n",
"n = 1:10000;\n",
"T = 324.* (x/L + sum(2.*((-1)^n).*sin(n.*x/L).*exp(-n^2.* %pi^2.* k.* t / L^2)/(n.*%pi)));\n",
"disp(T,'T[2,10]analytical = ')\n",
"Tex = 64.97;\n",
"disp(Tex,'T[2,10]explicit = ')\n",
"Tim = 64.49;\n",
"disp(Tim,'T[2,10]implicit = ')\n",
"Tcn = 64.73;\n",
"disp(Tcn,'T[2,10]crank-nicolson = ')"
   ]
   }
,
{
		   "cell_type": "markdown",
		   "metadata": {},
		   "source": [
			"## Example 30.5: ADI_Method.sce"
		   ]
		  },
  {
"cell_type": "code",
	   "execution_count": null,
	   "metadata": {
	    "collapsed": true
	   },
	   "outputs": [],
"source": [
"//clc()\n",
"x = 10;//cm\n",
"L = 0.0835;\n",
"t1 = 5;\n",
"//for first step t = 5 is applied to nodes (1,1) , (1,2) and (1,3) to yield following matrices\n",
"A = [2.167,-0.0835,0;-0.0835,2.167,-0.0835;0,-0.0835,2.167];\n",
"B = [6.2625;6.2625;14.6125];\n",
"X = inv(A)*B;\n",
"disp('At t = 5 s')\n",
"disp(det(X(1,1)),'T11 = ')\n",
"disp(det(X(2,1)),'T12 = ')\n",
"disp(det(X(3,1)),'T13 = ')\n",
"//similarly we get,\n",
"T21 = 0.1274;\n",
"T22 = 0.2900;\n",
"T23 = 4.1291;\n",
"T31 = 2.0181;\n",
"T32 = 2.2477;\n",
"T33 = 6.0256;\n",
"disp(T21,'T21 = ')\n",
"disp(T22,'T22 = ')\n",
"disp(T23,'T23 = ')\n",
"disp(T31,'T31 = ')\n",
"disp(T32,'T32 = ')\n",
"disp(T33,'T33 = ')\n",
"C = [13.0639;0.2577;8.0619];\n",
"Y = inv(A)*C;\n",
"disp('At t = 10 s')\n",
"disp(det(Y(1,1)),'T11 = ')\n",
"disp(det(Y(2,1)),'T12 = ')\n",
"disp(det(Y(3,1)),'T13 = ')\n",
"//similarly we get,\n",
"T21 = 6.1683;\n",
"T22 = 0.8238;\n",
"T23 = 4.2359;\n",
"T31 = 13.1120;\n",
"T32 = 8.3207;\n",
"T33 = 11.3606;\n",
"disp(T21,'T21 = ')\n",
"disp(T22,'T22 = ')\n",
"disp(T23,'T23 = ')\n",
"disp(T31,'T31 = ')\n",
"disp(T32,'T32 = ')\n",
"disp(T33,'T33 = ')"
   ]
   }
],
"metadata": {
		  "kernelspec": {
		   "display_name": "Scilab",
		   "language": "scilab",
		   "name": "scilab"
		  },
		  "language_info": {
		   "file_extension": ".sce",
		   "help_links": [
			{
			 "text": "MetaKernel Magics",
			 "url": "https://github.com/calysto/metakernel/blob/master/metakernel/magics/README.md"
			}
		   ],
		   "mimetype": "text/x-octave",
		   "name": "scilab",
		   "version": "0.7.1"
		  }
		 },
		 "nbformat": 4,
		 "nbformat_minor": 0
}
