{
"cells": [
 {
		   "cell_type": "markdown",
	   "metadata": {},
	   "source": [
       "# Chapter 1: Mathematical Modelling and Engineering Problem Solving"
	   ]
	},
{
		   "cell_type": "markdown",
		   "metadata": {},
		   "source": [
			"## Example 1.1: Analytical_Solution_to_Falling_Parachutist_Problem.sce"
		   ]
		  },
  {
"cell_type": "code",
	   "execution_count": null,
	   "metadata": {
	    "collapsed": true
	   },
	   "outputs": [],
"source": [
"clc;\n",
"clear;\n",
"g=9.8;//m/s^2; acceleration due to gravity\n",
"m=68.1;//kg\n",
"c=12.5;//kg/sec; drag coefficient\n",
"count=1;\n",
"for i=0:2:12\n",
"    v(count)=g*m*(1-exp(-c*i/m))/c;\n",
"    disp(v(count),'v(m/s)=',i,'Time(s)=')\n",
"    count=count+1;\n",
"end\n",
"disp(g*m/c,'v(m/s)=','infinity','Time(s)=')"
   ]
   }
,
{
		   "cell_type": "markdown",
		   "metadata": {},
		   "source": [
			"## Example 1.2: Numerical_Solution_to_Falling_Parachutist_Problem.sce"
		   ]
		  },
  {
"cell_type": "code",
	   "execution_count": null,
	   "metadata": {
	    "collapsed": true
	   },
	   "outputs": [],
"source": [
"clc;\n",
"clear;\n",
"g=9.8;//m/s^2; acceleration due to gravity\n",
"m=68.1;//kg\n",
"c=12.5;//kg/sec; drag coefficient\n",
"count=2;\n",
"v(1)=0;\n",
"disp(v(1),'v(m/s)=',0,'Time(s)=')\n",
"for i=2:2:12\n",
"    v(count)=v(count-1)+(g-c*v(count)/m)*(2);\n",
"    disp(v(count),'v(m/s)=',i,'Time(s)=')\n",
"    count=count+1;\n",
"end\n",
"disp(g*m/c,'v(m/s)=','infinity','Time(s)=')"
   ]
   }
],
"metadata": {
		  "kernelspec": {
		   "display_name": "Scilab",
		   "language": "scilab",
		   "name": "scilab"
		  },
		  "language_info": {
		   "file_extension": ".sce",
		   "help_links": [
			{
			 "text": "MetaKernel Magics",
			 "url": "https://github.com/calysto/metakernel/blob/master/metakernel/magics/README.md"
			}
		   ],
		   "mimetype": "text/x-octave",
		   "name": "scilab",
		   "version": "0.7.1"
		  }
		 },
		 "nbformat": 4,
		 "nbformat_minor": 0
}
