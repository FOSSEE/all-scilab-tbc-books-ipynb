{
"cells": [
 {
		   "cell_type": "markdown",
	   "metadata": {},
	   "source": [
       "# Chapter 17: Least squares regression"
	   ]
	},
{
		   "cell_type": "markdown",
		   "metadata": {},
		   "source": [
			"## Example 17.1: Linear_regression.sce"
		   ]
		  },
  {
"cell_type": "code",
	   "execution_count": null,
	   "metadata": {
	    "collapsed": true
	   },
	   "outputs": [],
"source": [
"//clc()\n",
"x = [1,2,3,4,5,6,7];\n",
"y = [0.5,2.5,2,4,3.5,6,5.5];\n",
"n = 7;\n",
"s = 0;\n",
"xsq = 0;\n",
"xsum = 0;\n",
"ysum = 0;\n",
"for i = 1:7\n",
"    s = s + (det(x(1,i)))*(det(y(1,i)));\n",
"    xsq = xsq + (det(x(1,i))^2);\n",
"    xsum = xsum + det(x(1,i));\n",
"    ysum = ysum + det(y(1,i));\n",
"end\n",
"disp(s,'sum of product of x and y =')\n",
"disp(xsq,'sum of square of x = ')\n",
"disp(xsum,'sum of all the x = ')\n",
"disp(ysum,'sum of all the y = ')\n",
"a = xsum/n;\n",
"b = ysum/n;\n",
"a1 = (n*s - xsum*ysum)/(n*xsq -xsum^2);\n",
"a0 = b - a*a1;\n",
"disp(a1,'a1 = ')\n",
"disp(a0,'a0 = ')\n",
"disp('The equation of the line obtained is y = a0 + a1*x')"
   ]
   }
,
{
		   "cell_type": "markdown",
		   "metadata": {},
		   "source": [
			"## Example 17.2: Estimation_of_errors_for_the_linear_least_square_fit.sce"
		   ]
		  },
  {
"cell_type": "code",
	   "execution_count": null,
	   "metadata": {
	    "collapsed": true
	   },
	   "outputs": [],
"source": [
"//clc()\n",
"x = [1,2,3,4,5,6,7];\n",
"y = [0.5,2.5,2,4,3.5,6,5.5];\n",
"n = 7;\n",
"s = 0;\n",
"ssum = 0;\n",
"xsq = 0;\n",
"xsum = 0;\n",
"ysum = 0;\n",
"msum = 0;\n",
"for i = 1:7\n",
"    s = s + (det(x(1,i)))*(det(y(1,i)));\n",
"    xsq = xsq + (det(x(1,i))^2);\n",
"    xsum = xsum + det(x(1,i));\n",
"    ysum = ysum + det(y(1,i));\n",
"end\n",
"a = xsum/n;\n",
"b = ysum/n;\n",
"a1 = (n*s - xsum*ysum)/(n*xsq -xsum^2);\n",
"a0 = b - a*a1;\n",
"for i = 1:7\n",
"    m(i) = (det(y(1,i)) - ysum/7)^2;\n",
"    msum = msum +m(i);\n",
"    si(i) = (det(y(1,i)) - a0 - a1*det(x(1,i)))^2;\n",
"    ssum = ssum + si(i);\n",
"end\n",
"disp(ysum,'sum of all y =')\n",
"disp(m,'(yi - yavg)^2 = ')\n",
"disp(msum,'total (yi - yavg)^2 = ')\n",
"disp(si,'(yi - a0 - a1*x)^2 = ')\n",
"disp(ssum,'total (yi - a0 - a1*x)^2 = ')\n",
"sy = (msum / (n-1))^(0.5);\n",
"sxy = (ssum/(n-2))^(0.5);\n",
"disp(sy,'sy = ')\n",
"disp(sxy,'sxy = ')\n",
"r2 = (msum - ssum)/(msum);\n",
"r = r2^0.5;\n",
"disp(r,'r = ')\n",
"disp('The result indicate that 86.8 percent of the original uncertainty has been explained by linear model')"
   ]
   }
,
{
		   "cell_type": "markdown",
		   "metadata": {},
		   "source": [
			"## Example 17.3_a: linear_regression_using_computer.sce"
		   ]
		  },
  {
"cell_type": "code",
	   "execution_count": null,
	   "metadata": {
	    "collapsed": true
	   },
	   "outputs": [],
"source": [
"//clc()\n",
"s = [1,2,3,4,5,6,7,8,9,10,11,12,13,14,15];\n",
"v = [10,16.3,23,27.5,31,35.6,39,41.5,42.9,45,46,45.5,46,49,50];\n",
"g = 9.8//m/s^2\n",
"m = 68.1;//kg\n",
"c = 12.5//kg/s\n",
"for i = 1:15\n",
"    v1(i) = g*m*(1 - exp(-c*s(i)/m))/c;\n",
"    v2(i) = g*m*s(i)/(c*(3.75+s(i)));\n",
"end\n",
"disp(s,'time = ')\n",
"disp(v,'measured v =')\n",
"disp(v1,'using equation(1.10) v1 = ')\n",
"disp(v2,'using equation((17.3)) v2 =  ')\n",
"plot2d(v,v1);\n",
"xtitle('v vs v1','v','v1');"
   ]
   }
,
{
		   "cell_type": "markdown",
		   "metadata": {},
		   "source": [
			"## Example 17.3_b: linear_regression_using_computer.sce"
		   ]
		  },
  {
"cell_type": "code",
	   "execution_count": null,
	   "metadata": {
	    "collapsed": true
	   },
	   "outputs": [],
"source": [
"//clc()\n",
"s = [1,2,3,4,5,6,7,8,9,10,11,12,13,14,15];\n",
"v = [10,16.3,23,27.5,31,35.6,39,41.5,42.9,45,46,45.5,46,49,50];\n",
"g = 9.8//m/s^2\n",
"m = 68.1;//kg\n",
"c = 12.5//kg/s\n",
"for i = 1:15\n",
"    v1(i) = g*m*(1 - exp(-c*s(i)/m))/c;\n",
"    v2(i) = g*m*s(i)/(c*(3.75+s(i)));\n",
"end\n",
"disp(s,'time = ')\n",
"disp(v,'measured v =')\n",
"disp(v1,'using equation(1.10) v1 = ')\n",
"disp(v2,'using equation((17.3)) v2 =  ')\n",
"plot2d(v,v2);\n",
"xtitle('v vs v2','v','v2');"
   ]
   }
,
{
		   "cell_type": "markdown",
		   "metadata": {},
		   "source": [
			"## Example 17.4: Linearization_of_a_power_function.sce"
		   ]
		  },
  {
"cell_type": "code",
	   "execution_count": null,
	   "metadata": {
	    "collapsed": true
	   },
	   "outputs": [],
"source": [
"//clc()\n",
"//y = a*x^b\n",
"a1 = -0.3000;\n",
"a = 10^(a1);\n",
"b = 1.75;\n",
"disp(a)\n",
"for i=1:5\n",
"    x(i) = i;\n",
"    y(i) = a*x(i)^b;\n",
"    m(i) = log10(x(i));\n",
"    n(i) = log10(y(i));\n",
"end\n",
"disp(x(1:5),'x = ')\n",
"disp(y(1:5),'y = ')\n",
"disp(m(1:5),'m = ')\n",
"disp(n(1:5),'n = ')\n",
"plot2d(x(1:5),y(1:5))\n",
"zoom_rect([0,0,7,7])\n",
"xtitle('y vs x', 'x', 'y')\n",
"plot2d(m(1:5),n(1:5))\n",
"zoom_rect([0,-1,1,1])\n",
"xtitle('log y vs log x', 'log x', 'log y')"
   ]
   }
,
{
		   "cell_type": "markdown",
		   "metadata": {},
		   "source": [
			"## Example 17.5: polynomial_regression.sce"
		   ]
		  },
  {
"cell_type": "code",
	   "execution_count": null,
	   "metadata": {
	    "collapsed": true
	   },
	   "outputs": [],
"source": [
"//clc()\n",
"x = [0,1,2,3,4,5];\n",
"y = [2.1,7.7,13.6,27.2,40.9,61.1];\n",
"sumy = 0;\n",
"sumx = 0;\n",
"m = 2;\n",
"n = 6;\n",
"xsqsum = 0;\n",
"xcsum = 0;\n",
"x4sum = 0;\n",
"xysum = 0;\n",
"x2ysum = 0;\n",
"rsum = 0;\n",
"usum = 0;\n",
"for i=1:6\n",
"    sumy = sumy+y(i);\n",
"    sumx = sumx+x(i);\n",
"    r(i) = (y(i) - s/n)^2;\n",
"    xsqsum = xsqsum + x(i)^2; \n",
"    xcsum = xcsum +x(i)^3;\n",
"    x4sum = x4sum + x(i)^4;\n",
"    xysum = xysum + x(i)*y(i);\n",
"    x2ysum = x2ysum + y(i)*x(i)^2;\n",
"    rsum = r(i) + rsum;\n",
"end\n",
"disp(sumy,'sum y =')\n",
"disp(sumx,'sum x =')\n",
"xavg = sumx/n;\n",
"yavg = sumy/n;\n",
"disp(xavg,'xavg = ')\n",
"disp(yavg,'yavg = ')\n",
"disp(xsqsum,'sum x^2 =')\n",
"disp(xcsum,'sum x^3 =')\n",
"disp(x4sum,'sum x^4 =')\n",
"disp(xysum,'sum x*y =')\n",
"disp(x2ysum,'sum x^2 * y =')\n",
"J = [n,sumx,xsqsum;sumx,xsqsum,xcsum;xsqsum,xcsum,x4sum];\n",
"I = [sumy;xysum;x2ysum];\n",
"X = inv(J) * I;\n",
"a0 = det(X(1,1));\n",
"a1 = det(X(2,1));\n",
"a2 = det(X(3,1));\n",
"for i=1:6\n",
"    u(i) = (y(i) - a0 - a1*x(i) - a2*x(i)^2)^2;\n",
"    usum = usum + u(i);\n",
"end\n",
"disp(r,'(yi - yavg)^2 = ')\n",
"disp(u,'(yi - a0 - a1*x - a2*x^2)^2 = ')\n",
"plot(x,y);\n",
"xtitle('x vs y','x','y');\n",
"syx = (usum/(n-3))^0,5;\n",
"disp(syx,'The standard error of the estimate based on regression polynomial =')\n",
"R2 = (rsum - usum)/(rsum);\n",
"disp('%',R2*100,'Percentage of original uncertainty that has been explained by the model = ')"
   ]
   }
,
{
		   "cell_type": "markdown",
		   "metadata": {},
		   "source": [
			"## Example 17.6: Multiple_linear_regression.sce"
		   ]
		  },
  {
"cell_type": "code",
	   "execution_count": null,
	   "metadata": {
	    "collapsed": true
	   },
	   "outputs": [],
"source": [
"//clc()\n",
"x1 = [0,2,2.5,1,4,7];\n",
"x2 = [0,1,2,3,6,2];\n",
"x1sum = 0;\n",
"x2sum = 0;\n",
"ysum = 0;\n",
"x12sum = 0;\n",
"x22sum = 0;\n",
"x1ysum = 0;\n",
"x2ysum = 0;\n",
"x1x2sum = 0;\n",
"n = 6;\n",
"for i=1:6\n",
"    y(i) = 5 + 4*x1(i) - 3*x2(i);\n",
"    x12(i) = x1(i)^2;\n",
"    x22(i) = x2(i)^2;\n",
"    x1x2(i) = x1(i) * x2(i);\n",
"    x1y(i) = x1(i) * y(i);\n",
"    x2y(i) = x2(i) * y(i);\n",
"    x1sum = x1sum + x1(i);\n",
"    x2sum = x2sum + x2(i);\n",
"    ysum = ysum + y(i);\n",
"    x1ysum = x1ysum + x1y(i);\n",
"    x2ysum = x2ysum + x2y(i);\n",
"    x1x2sum = x1x2sum + x1x2(i);\n",
"    x12sum = x12sum + x12(i);\n",
"    x22sum = x22sum + x22(i);\n",
"end\n",
"X = [n,x1sum,x2sum;x1sum,x12sum,x1x2sum;x2sum,x1x2sum,x22sum];\n",
"Y = [ysum;x1ysum;x2ysum];\n",
"Z = inv(X)*Y;\n",
"a0 = det(Z(1,1));\n",
"a1 = det(Z(2,1));\n",
"a2 = det(Z(3,1));\n",
"disp(a0,'a0 = ')\n",
"disp(a1,'a1 = ')\n",
"disp(a2,'a2 = ')\n",
"disp('Thus, y = a0 + a1*x1 + a2*x2')"
   ]
   }
,
{
		   "cell_type": "markdown",
		   "metadata": {},
		   "source": [
			"## Example 17.7: Confidence_interval_for_linear_regression.sce"
		   ]
		  },
  {
"cell_type": "code",
	   "execution_count": null,
	   "metadata": {
	    "collapsed": true
	   },
	   "outputs": [],
"source": [
"//clc()\n",
"//y = -0.859 + 1.032*x\n",
"Z = [1,10;1,16.3;1,23;1,27.5;1,31;1,35.6;1,39;1,41.5;1,42.9;1,45;1,46;1,45.5;1,46;1,49;1,50];\n",
"for i = 1:15\n",
"    Y(i) = 9.8*68.1*(1-exp(-12.5*i/68.1))/12.5;\n",
"end\n",
"M = Z';\n",
"R = M*Z;\n",
"S = M*Y;\n",
"P = inv(R);\n",
"X = inv(R)*S;\n",
"a0 = det(X(1,1));\n",
"a1 = det(X(2,1));\n",
"disp(a0,'a0 = ')\n",
"disp(a1,'a1 = ')\n",
"sxy = 0.863403;\n",
"sa0 = (det(P(1,1)) * sxy^2)^0.5;\n",
"sa1 = (det(P(2,2)) * sxy^2)^0.5;\n",
"disp(sa0,'standard error of co efficient a0 = ')\n",
"disp(sa1,'standard error of co efficient a1 = ')\n",
"TINV = 2.160368;\n",
"a0 = [a0 - TINV*(sa0),a0 + TINV*(sa0)];\n",
"a1 = [a1 - TINV*(sa1),a1 + TINV*(sa1)];\n",
"disp(a0,'interval of a0 = ')\n",
"disp(a1,'interval of a1 = ')"
   ]
   }
,
{
		   "cell_type": "markdown",
		   "metadata": {},
		   "source": [
			"## Example 17.8: Gauss_Newton_method.sce"
		   ]
		  },
  {
"cell_type": "code",
	   "execution_count": null,
	   "metadata": {
	    "collapsed": true
	   },
	   "outputs": [],
"source": [
"//clc()\n",
"x = [0.25,0.75,1.25,1.75,2.25];\n",
"y = [0.28,0.57,0.68,0.74,0.79];\n",
"a0 = 1;\n",
"a1 = 1;\n",
"sr = 0.0248;\n",
"for i = 1:5\n",
"    pda0(i) = 1 - exp(-a1 * x(i));\n",
"    pda1(i) = a0 * x(i)*exp(-a1*x(i));\n",
"end\n",
"Z0 = [pda0(1),pda1(1);pda0(2),pda1(2);pda0(3),pda1(3);pda0(4),pda1(4);pda0(5),pda1(5)]\n",
"disp(Z0,'Z0 = ')\n",
"R = Z0'*Z0;\n",
"S = inv(R);\n",
"for i = 1:5\n",
"    y1(i) = a0 * (1-exp(-a1*x(i)));\n",
"    D(i) = y(i) - y1(i);\n",
"end\n",
"disp(D,'D = ')\n",
"M = Z0'*D;\n",
"X = S *M;\n",
"disp(X,'X = ')\n",
"a0 = a0 + det(X(1,1));\n",
"a1 = a1 + det(X(2,1));\n",
"disp(a0,'The value of a0 after 1st iteration = ')\n",
"disp(a1,'The value of a1 after 1st iteration = ')"
   ]
   }
],
"metadata": {
		  "kernelspec": {
		   "display_name": "Scilab",
		   "language": "scilab",
		   "name": "scilab"
		  },
		  "language_info": {
		   "file_extension": ".sce",
		   "help_links": [
			{
			 "text": "MetaKernel Magics",
			 "url": "https://github.com/calysto/metakernel/blob/master/metakernel/magics/README.md"
			}
		   ],
		   "mimetype": "text/x-octave",
		   "name": "scilab",
		   "version": "0.7.1"
		  }
		 },
		 "nbformat": 4,
		 "nbformat_minor": 0
}
