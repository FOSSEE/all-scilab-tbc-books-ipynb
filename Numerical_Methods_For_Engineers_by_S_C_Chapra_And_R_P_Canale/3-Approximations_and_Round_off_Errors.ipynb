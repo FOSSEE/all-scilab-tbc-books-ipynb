{
"cells": [
 {
		   "cell_type": "markdown",
	   "metadata": {},
	   "source": [
       "# Chapter 3: Approximations and Round off Errors"
	   ]
	},
{
		   "cell_type": "markdown",
		   "metadata": {},
		   "source": [
			"## Example 3.1: Calculations_of_Errors.sce"
		   ]
		  },
  {
"cell_type": "code",
	   "execution_count": null,
	   "metadata": {
	    "collapsed": true
	   },
	   "outputs": [],
"source": [
"clc;\n",
"clear;\n",
"lbm=9999; //cm, measured length of bridge\n",
"lrm=9;//cm, measured length of rivet\n",
"lbt=10000;//cm, true length of bridge\n",
"lrt=10;//cm,true length of rivet\n",
"//calculating true error below;\n",
"Etb=lbt-lbm;//cm, true error in bridge\n",
"Etr=lrt-lrm;//cm, true error in rivet\n",
"//calculating percent relative error below\n",
"etb=Etb*100/lbt;//percent relative error for bridge\n",
"etr=Etb*100/lrt;//percent relative error for rivet\n",
"disp('a. The true error is')\n",
"disp('for the bridge','cm',Etb)\n",
"disp('for the rivet','cm',Etr)\n",
"disp('b. The percent relative error is')\n",
"disp('for the bridge','%',etb)\n",
"disp('for the rivet','%',etr)"
   ]
   }
,
{
		   "cell_type": "markdown",
		   "metadata": {},
		   "source": [
			"## Example 3.2: Iterative_error_estimatio.sce"
		   ]
		  },
  {
"cell_type": "code",
	   "execution_count": null,
	   "metadata": {
	    "collapsed": true
	   },
	   "outputs": [],
"source": [
"clc;\n",
"clear;\n",
"n=3;//number of significant figures\n",
"es=0.5*(10^(2-n));//percent, specified error criterion\n",
"x=0.5;\n",
"f(1)=1;//first estimate f=e^x = 1\n",
"ft=1.648721;//true value of e^0.5=f\n",
"et(1)=(ft-f(1))*100/ft;\n",
"ea(1)=100;\n",
"i=2;\n",
"while ea(i-1)>=es\n",
"    f(i)=f(i-1)+(x^(i-1))/(factorial(i-1));\n",
"    et(i)=(ft-f(i))*100/ft;\n",
"    ea(i)=(f(i)-f(i-1))*100/f(i);\n",
"    i=i+1;\n",
"end\n",
"for j=1:i-1\n",
"   disp(ea(j),'Approximate estimate of error(%)=',et(j),'True % relative error=',f(j),'Result=',j,'term number=')\n",
"   disp('---------------------------------------------------------------')\n",
"end"
   ]
   }
,
{
		   "cell_type": "markdown",
		   "metadata": {},
		   "source": [
			"## Example 3.3: Range_of_Integers.sce"
		   ]
		  },
  {
"cell_type": "code",
	   "execution_count": null,
	   "metadata": {
	    "collapsed": true
	   },
	   "outputs": [],
"source": [
"n=16;//no of bits\n",
"num=0;\n",
"for i=0:(n-2)\n",
"    num=num+(1*(2^i));\n",
"end\n",
"disp((-1*num),'to',num,'Thus a 16-bit computer word can store decimal integers ranging from')"
   ]
   }
,
{
		   "cell_type": "markdown",
		   "metadata": {},
		   "source": [
			"## Example 3.4: Floating_Point_Numbers.sce"
		   ]
		  },
  {
"cell_type": "code",
	   "execution_count": null,
	   "metadata": {
	    "collapsed": true
	   },
	   "outputs": [],
"source": [
"clc;\n",
"clear;\n",
"n=7;//no. of bits\n",
"//the maximum value of exponents is given by\n",
"max=1*(2^1)+1*(2^0);\n",
"//mantissa is found by\n",
"mantissa=1*(2^-1)+0*(2^-3)+0*(2^-3);\n",
"num=mantissa*(2^(max*-1));//smallest possible positive number for this system\n",
"disp(num,'The smallest possible positive number for this system is')"
   ]
   }
,
{
		   "cell_type": "markdown",
		   "metadata": {},
		   "source": [
			"## Example 3.5: Machine_Epsilon.sce"
		   ]
		  },
  {
"cell_type": "code",
	   "execution_count": null,
	   "metadata": {
	    "collapsed": true
	   },
	   "outputs": [],
"source": [
"clc;\n",
"clear;\n",
"b=2;//base\n",
"t=3;//number of mantissa bits\n",
"E=2^(1-t);//epsilon\n",
"disp(E,'value of epsilon=')"
   ]
   }
,
{
		   "cell_type": "markdown",
		   "metadata": {},
		   "source": [
			"## Example 3.6: Interdependent_Computations.sce"
		   ]
		  },
  {
"cell_type": "code",
	   "execution_count": null,
	   "metadata": {
	    "collapsed": true
	   },
	   "outputs": [],
"source": [
"clc;\n",
"clear;\n",
"num=input('Input a number: ')\n",
"sum=0;\n",
"for i=1:100000\n",
"    sum=sum+num;\n",
"end\n",
"disp(sum,'The number summed up 100,000 times is=')"
   ]
   }
,
{
		   "cell_type": "markdown",
		   "metadata": {},
		   "source": [
			"## Example 3.7: Subtractive_Cancellation.sce"
		   ]
		  },
  {
"cell_type": "code",
	   "execution_count": null,
	   "metadata": {
	    "collapsed": true
	   },
	   "outputs": [],
"source": [
"clc;\n",
"clear;\n",
"a=1;\n",
"b=3000.001;\n",
"c=3;\n",
"//the roots of the quadratic equation x^2+3000.001*x+3=0 are found as\n",
"D=(b^2)-4*a*c;\n",
"x1=(-b+(D^0.5))/(2*a);\n",
"x2=(-b-(D^0.5))/(2*a);\n",
"disp(x2,and,x1,'The roots of the quadratic equation (x^2)+(3000.001*x)+3=0 are = ')"
   ]
   }
,
{
		   "cell_type": "markdown",
		   "metadata": {},
		   "source": [
			"## Example 3.8: Infinite_Series_Evaluation.sce"
		   ]
		  },
  {
"cell_type": "code",
	   "execution_count": null,
	   "metadata": {
	    "collapsed": true
	   },
	   "outputs": [],
"source": [
"clc;\n",
"clear;\n",
"function y=f(x)\n",
"    y=exp(x)\n",
"endfunction\n",
"sum=1;\n",
"test=0;\n",
"i=0;\n",
"term=1;\n",
"x=input('Input value of x:')\n",
"while sum~=test\n",
"    disp(sum,'sum:',term,'term:',i,'i:')\n",
"    disp('-------------------------------------')\n",
"    i=i+1;\n",
"    term=term*x/i;\n",
"    test=sum;\n",
"    sum=sum+term;\n",
"end\n",
"disp(f(x),'Exact Value')"
   ]
   }
],
"metadata": {
		  "kernelspec": {
		   "display_name": "Scilab",
		   "language": "scilab",
		   "name": "scilab"
		  },
		  "language_info": {
		   "file_extension": ".sce",
		   "help_links": [
			{
			 "text": "MetaKernel Magics",
			 "url": "https://github.com/calysto/metakernel/blob/master/metakernel/magics/README.md"
			}
		   ],
		   "mimetype": "text/x-octave",
		   "name": "scilab",
		   "version": "0.7.1"
		  }
		 },
		 "nbformat": 4,
		 "nbformat_minor": 0
}
