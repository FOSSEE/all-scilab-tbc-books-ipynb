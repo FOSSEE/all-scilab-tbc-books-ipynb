{
"cells": [
 {
		   "cell_type": "markdown",
	   "metadata": {},
	   "source": [
       "# Chapter 26: Stiffness and multistep methods"
	   ]
	},
{
		   "cell_type": "markdown",
		   "metadata": {},
		   "source": [
			"## Example 26.1: Explicit_and_Implicit_Euler.sce"
		   ]
		  },
  {
"cell_type": "code",
	   "execution_count": null,
	   "metadata": {
	    "collapsed": true
	   },
	   "outputs": [],
"source": [
"clc;\n",
"clear;\n",
"function yp=f(t,y)\n",
"    yp=-1000*y+3000-2000*exp(-t)\n",
"endfunction\n",
"y0=0;\n",
"//explicit euler\n",
"h1=0.0005;\n",
"y1(1)=y0;\n",
"count=2;\n",
"t=0:0.0001:0.006\n",
"for i=0:0.0001:0.0059\n",
"    y1(count)=y1(count-1)+f(i,y1(count-1))*h1\n",
"    count=count+1;\n",
"end\n",
"plot(t,y1)\n",
"h2=0.0015;\n",
"y2(1)=y0;\n",
"count=2;\n",
"t=0:0.0001:0.006\n",
"for i=0:0.0001:0.0059\n",
"    y2(count)=y2(count-1)+f(i,y2(count-1))*h2\n",
"    count=count+1;\n",
"end\n",
"plot(t,y2,'.-')\n",
"xtitle('y vs t','t','y')\n",
"h=legend(['h-0.0005','h=0.0015'])\n",
"clf();\n",
"//implicit order\n",
"h3=0.05;\n",
"y3(1)=y0;\n",
"count=2;\n",
"t=0:0.01:0.4\n",
"for j=0:0.01:0.39\n",
"    y3(count)=(y3(count-1)+3000*h3-2000*h3*exp(-(j+0.01)))/(1+1000*h3)\n",
"    count=count+1;\n",
"end\n",
"\n",
"plot(t,y3)\n",
"xtitle('y vs t','t','y')"
   ]
   }
,
{
		   "cell_type": "markdown",
		   "metadata": {},
		   "source": [
			"## Example 26.2: Non_self_starting_Heun_method.sce"
		   ]
		  },
  {
"cell_type": "code",
	   "execution_count": null,
	   "metadata": {
	    "collapsed": true
	   },
	   "outputs": [],
"source": [
"//clc()\n",
"disp('f(x,y) = 4*exp(0.8*x) - 0.5*y')\n",
"//f'(x,y) = 4*exp(0.8*x) - 0.5*y\n",
"h = 1;\n",
"x=0:h:4;\n",
"y(1) = 2;\n",
"x1 = -1;\n",
"y1 = -0.3929953;\n",
"y10 = y1 + (4*exp(0.8*x(1)) - 0.5*y(1))*2;\n",
"y11 = y(1) + (4*exp(0.8*x(1)) - 0.5*y(1) + 4*exp(0.8*x(2)) - 0.5*y10)*h/2;\n",
"y12 = y(1) + (3 + 4*exp(0.8*x(2)) - 0.5*y11)*h/2;\n",
"t = 6.360865;\n",
"y20 = y(1) + (4*exp(0.8*x(2)) - 0.5*t) *2;\n",
"y21 = t + (4*exp(0.8*x(2)) - 0.5*t + 4*exp(0.8*x(3)) - 0.5*y20)*h/2;\n",
"disp(y21,'the first corrector yields y = ')\n",
"t = 14.84392\n",
"e = (t - y21)*100/t;\n",
"disp('%',e,'error = ')"
   ]
   }
,
{
		   "cell_type": "markdown",
		   "metadata": {},
		   "source": [
			"## Example 26.3: Estimate_of_per_step_truncation_error.sce"
		   ]
		  },
  {
"cell_type": "code",
	   "execution_count": null,
	   "metadata": {
	    "collapsed": true
	   },
	   "outputs": [],
"source": [
"//clc()\n",
"x1 = 1;\n",
"x2 = 2;\n",
"y1 = 6.194631;\n",
"y2 = 14.84392;\n",
"y10 = 5.607005;\n",
"y11 = 6.360865;\n",
"y20 = 13.44346;\n",
"y21 = 15.30224;\n",
"Ec1 = -(y11 - y10)/5;\n",
"disp(Ec1,'Ec (x = 1) = ')\n",
"e1 = y1 - y11;\n",
"disp(e1,'true error (x = 1) = ')\n",
"Ec2 = -(y21 - y20)/5;\n",
"disp(Ec2,'Ec (x = 2) = ')\n",
"e2 = y2 - y21;\n",
"disp(e2,'true error (x = 2) = ')"
   ]
   }
,
{
		   "cell_type": "markdown",
		   "metadata": {},
		   "source": [
			"## Example 26.4: Effect_of_modifier_on_Predictor_Corrector_results.sce"
		   ]
		  },
  {
"cell_type": "code",
	   "execution_count": null,
	   "metadata": {
	    "collapsed": true
	   },
	   "outputs": [],
"source": [
"//clc()\n",
"//clc()\n",
"x0 = 0;\n",
"x1 = 1;\n",
"x2 = 2;\n",
"y1 = 6.194631;\n",
"y2 = 14.84392;\n",
"y10 = 5.607005;\n",
"y11 = 6.360865;\n",
"y1m = y11 - (y11 - y10)/5;\n",
"e = (y1 - y1m)*100/y1;\n",
"disp(y1m,'ym')\n",
"disp('%',e,'error = ')\n",
"y20 =2+(4*exp(0.8*x1) - 0.5*y1m)*2;\n",
"e2 = (y2 - y20)*100/y2;\n",
"disp(y20,'y20 = ')\n",
"disp('%',e2,'error = ')\n",
"y2o = y20 + 4* (y11 - y10)/5;\n",
"e2 = (y2 - y2o)*100/y2;\n",
"disp(y2o,'y20 = ')\n",
"disp('%',e2,'error = ')\n",
"y21 = 15.21178;\n",
"y23 = y21 - (y21 - y20)/5;\n",
"disp(y23,'y2 = ')\n",
"e3 = (y2 - y23)*100/y2;\n",
"disp('%',e3,'error = ')"
   ]
   }
,
{
		   "cell_type": "markdown",
		   "metadata": {},
		   "source": [
			"## Example 26.5: Milnes_Method.sce"
		   ]
		  },
  {
"cell_type": "code",
	   "execution_count": null,
	   "metadata": {
	    "collapsed": true
	   },
	   "outputs": [],
"source": [
"//clc()\n",
"disp('f(x,y) = 4*exp(0.8*x) - 0.5*y')\n",
"//f'(x,y) = 4*exp(0.8*x) - 0.5*y\n",
"h = 1;\n",
"x = -3:h:4;\n",
"y(1) = -4.547302;\n",
"y(2) = -2.306160;\n",
"y(3) = -0.3929953;\n",
"y(4) = 2;\n",
"y1(4) = 2;\n",
"for  i = 4:7;\n",
"    y(i+1) = y(i-3) + 4*h*(2*(4*exp(0.8*x(i)) - 0.5*y(i)) - 4*exp(0.8*x(i-1)) + 0.5*y(i-1) + 2*(4*exp(0.8*x(i-2)) - 0.5*y(i-2)))/3;\n",
"    y1(i+1) = y(i-1) + h*(4*exp(0.8*x(i-1)) - 0.5*y(i-1) +4 * (4*exp(0.8*x(i)) - 0.5*y(i)) + 4*exp(0.8*x(i+1)) - 0.5*y(i+1))/3;\n",
"end\n",
"disp(x(4:8),'x = ')\n",
"disp(y(4:8),'y0 = ')\n",
"disp(y1(4:8),'corrected y1 = ')"
   ]
   }
,
{
		   "cell_type": "markdown",
		   "metadata": {},
		   "source": [
			"## Example 26.6: Fourth_order_Adams_method.sce"
		   ]
		  },
  {
"cell_type": "code",
	   "execution_count": null,
	   "metadata": {
	    "collapsed": true
	   },
	   "outputs": [],
"source": [
"//clc()\n",
"disp('f(x,y) = 4*exp(0.8*x) - 0.5*y')\n",
"//f'(x,y) = 4*exp(0.8*x) - 0.5*y\n",
"h = 1;\n",
"x = -3:h:4;\n",
"y(1) = -4.547302;\n",
"y(2) = -2.306160;\n",
"y(3) = -0.3929953;\n",
"y(4) = 2;\n",
"m(4) = y(4);\n",
"for i =4:7\n",
"    y(i+1) = y(i) + h *(55* (4*exp(0.8*x(i)) - 0.5*y(i)) / 24 - 59 * (4*exp(0.8*x(i-1)) - 0.5*y(i-1)) / 24 + 37*(4*exp(0.8*x(i-2)) - 0.5*y(i-2))/24 - 9*(4*exp(0.8*x(i-3)) - 0.5*y(i-3))/24);\n",
"    m(i+1) = y(i+1)\n",
"    y(i+1) = y(i) + h*(9*(4*exp(0.8*x(i+1)) - 0.5*y(i+1))/24 +19*(4*exp(0.8*x(i)) - 0.5*y(i))/24 - 5*(4*exp(0.8*x(i-1)) - 0.5*y(i-1))/24 + (4*exp(0.8*x(i-2)) - 0.5*y(i-2))/24);\n",
"end\n",
"disp(x(4:8),'x = ')\n",
"disp(m(4:8),'y0 = ')\n",
"disp(y(4:8),'y1 = ')\n",
""
   ]
   }
,
{
		   "cell_type": "markdown",
		   "metadata": {},
		   "source": [
			"## Example 26.7: stability_of_Milnes_and_Fourth_order_Adams_method.sce"
		   ]
		  },
  {
"cell_type": "code",
	   "execution_count": null,
	   "metadata": {
	    "collapsed": true
	   },
	   "outputs": [],
"source": [
"//clc()\n",
"//dy/dx = -y\n",
"//y = exp(-x)\n",
"h = 0.5;\n",
"x = -1.5:h:10;\n",
"y(1) = exp(-x(1));\n",
"y(2) = exp(-x(2));\n",
"y(3) = exp(-x(3));\n",
"y(4) = 1;\n",
"m(4) = y(4);\n",
"for  i = 4:23;\n",
"    y(i+1) = y(i-3) + 4*h*(2*(-y(i)) + y(i-1) + 2*(-y(i-2)))/3;\n",
"    m(i+1) = y(i+1);\n",
"    y(i+1) = y(i-1) + h*(-y(i-1) +4 * (-y(i)) + (-y(i+1)))/3;\n",
"end\n",
"disp(x(4:24),'x = ')\n",
"disp(m(4:24),'y0(milnes method) = ')\n",
"disp(y(4:24),'corrected y1(milnes method) = ')\n",
"for i =4:23\n",
"    y(i+1) = y(i) + h *(55* (-y(i)) / 24 - 59 * (-y(i-1)) / 24 + 37*(-y(i-2))/24 - 9*(-y(i-3))/24);\n",
"    m(i+1) = y(i+1)\n",
"    y(i+1) = y(i) + h*(9*(-y(i+1))/24 +19*(-y(i))/24 - 5*(-y(i-1))/24 + (-y(i-2))/24);\n",
"end\n",
"disp(m(4:23),'y0(fourth order adams method) = ')\n",
"disp(y(4:23),'y1(fourth order adams method) = ')"
   ]
   }
],
"metadata": {
		  "kernelspec": {
		   "display_name": "Scilab",
		   "language": "scilab",
		   "name": "scilab"
		  },
		  "language_info": {
		   "file_extension": ".sce",
		   "help_links": [
			{
			 "text": "MetaKernel Magics",
			 "url": "https://github.com/calysto/metakernel/blob/master/metakernel/magics/README.md"
			}
		   ],
		   "mimetype": "text/x-octave",
		   "name": "scilab",
		   "version": "0.7.1"
		  }
		 },
		 "nbformat": 4,
		 "nbformat_minor": 0
}
