{
"cells": [
 {
		   "cell_type": "markdown",
	   "metadata": {},
	   "source": [
       "# Chapter 23: Numerical differentiation"
	   ]
	},
{
		   "cell_type": "markdown",
		   "metadata": {},
		   "source": [
			"## Example 23.1: High_accuracy_numerical_differentiation_formulas.sce"
		   ]
		  },
  {
"cell_type": "code",
	   "execution_count": null,
	   "metadata": {
	    "collapsed": true
	   },
	   "outputs": [],
"source": [
"//clc()\n",
"//f(x) = -0.1*x^4 - 0.15*x^3 - 0.5 * x^2 - 0.25 *x + 1.2\n",
"h = 0.25;\n",
"t = -0.9125;\n",
"x = 0:h:1;\n",
"disp(x,'x = ')\n",
"fx = -0.1*x^4 - 0.15*x^3 - 0.5 * x^2 - 0.25 *x + 1.2;\n",
"disp(fx,'f(x) = ')\n",
"fd = (- fx(5) + 4*fx(4) - 3 * fx(3))/(2 * h);\n",
"efd = (t - fd) * 100 / t;\n",
"disp(fd,'by forward difference')\n",
"disp('%',efd,'error in forward difference method = ')\n",
"bd = (3 * fx(3) - 4 * fx(2) + fx(1))/ (2*h);\n",
"ebd = (t - bd) * 100 / t;\n",
"disp(bd,'by backward difference')\n",
"disp('%',ebd,'error in backward difference method = ')\n",
"cdm = (-fx(5) + 8*(fx(4)) -8*fx(2) + fx(1) ) / (12*h);\n",
"ecdm = (t - cdm) * 100 / t;\n",
"disp(cdm,'by central difference')\n",
"disp('%',ecdm,'error in central difference method = ')"
   ]
   }
,
{
		   "cell_type": "markdown",
		   "metadata": {},
		   "source": [
			"## Example 23.2: Richardson_extrapolation.sce"
		   ]
		  },
  {
"cell_type": "code",
	   "execution_count": null,
	   "metadata": {
	    "collapsed": true
	   },
	   "outputs": [],
"source": [
"//clc()\n",
"//f(x) = -0.1*x^4 - 0.15*x^3 - 0.5 * x^2 - 0.25 *x + 1.2\n",
"h = 0.5;\n",
"t = -0.9125;\n",
"x = 0:h:1;\n",
"disp(x,'x with h = 0.5 is')\n",
"fx = -0.1*x^4 - 0.15*x^3 - 0.5 * x^2 - 0.25 *x + 1.2;\n",
"disp(fx,'f(x) with h = 0.5 is')\n",
"cdm = (fx(3) - fx(1))/ 1;\n",
"ecdm = (t - cdm) * 100 / t;\n",
"disp(cdm,'by central difference ( h = 0.5 ) ')\n",
"disp('%',ecdm,'error in central difference method ( h = 0.5 ) = ')\n",
"h1 = 0.25;\n",
"x1 = 0:h1:1;\n",
"disp(x1,'x with h = 0.25 is')\n",
"fx1 = -0.1*x1^4 - 0.15*x1^3 - 0.5 * x1^2 - 0.25 *x1 + 1.2;\n",
"disp(fx1,'fx with h = 0.25 is')\n",
"cdm1 = (fx1(4) - fx1(2))/ (2*h1);\n",
"ecdm1 = (t - cdm1) * 100 / t;\n",
"disp(cdm1,'by central difference ( h = 0.25 ) ')\n",
"disp('%',ecdm1,'error in central difference method ( h = 0.25 ) = ')\n",
"D = 4 * cdm1 /3 - cdm / 3;\n",
"disp(D,'improved estimate =')"
   ]
   }
,
{
		   "cell_type": "markdown",
		   "metadata": {},
		   "source": [
			"## Example 23.3: Differentiating_unequally_spaced_data.sce"
		   ]
		  },
  {
"cell_type": "code",
	   "execution_count": null,
	   "metadata": {
	    "collapsed": true
	   },
	   "outputs": [],
"source": [
"//clc()\n",
"//q(z = 0) = -k*p*C*(dT/dz)/(z = 0)\n",
"k = 3.5 * 10^ - 7;//m^2/s\n",
"p = 1800;//kg/m^3\n",
"C = 840; //(J/(kg.C))\n",
"x = 0;\n",
"fx0 = 13.5;\n",
"fx1 = 12;\n",
"fx2 = 10;\n",
"x0 = 0;\n",
"x1 = 1.25;\n",
"x2 = 3.75;\n",
"dfx = fx0 *(2*x - x1 - x2)/((x0 - x1)*(x0 - x2)) + fx1 *(2*x - x0 - x2)/((x1 - x0)*(x1 - x2)) + fx2 *(2*x - x1 - x0)/((x2 - x1)*(x2 - x0));\n",
"disp('C/cm',dfx,'(dT/dz) = ')\n",
"q = - k * p *C * dfx*100;\n",
"disp('W/m^2',q,'q(z = 0) =')"
   ]
   }
,
{
		   "cell_type": "markdown",
		   "metadata": {},
		   "source": [
			"## Example 23.4: Integration_and_Differentiation.sce"
		   ]
		  },
  {
"cell_type": "code",
	   "execution_count": null,
	   "metadata": {
	    "collapsed": true
	   },
	   "outputs": [],
"source": [
"clc;\n",
"clear;\n",
"function y=f(x)\n",
"    y=0.2+25*x-200*x^2+675*x^3-900*x^4+400*x^5\n",
"endfunction\n",
"a=0;\n",
"b=0.8;\n",
"Q=intg(0,0.8,f);\n",
"disp(Q,'Q=')\n",
"x=[0 0.12 0.22 0.32 0.36 0.4 0.44 0.54 0.64 0.7 0.8];\n",
"y=f(x);\n",
"integral=inttrap(x,y)\n",
"disp(integral,'intergral=')\n",
"disp(diff(x),'diff(x)=')\n",
"d=diff(y)./diff(x);\n",
"disp(d,'d=')"
   ]
   }
,
{
		   "cell_type": "markdown",
		   "metadata": {},
		   "source": [
			"## Example 23.5: Integrate_a_function.sce"
		   ]
		  },
  {
"cell_type": "code",
	   "execution_count": null,
	   "metadata": {
	    "collapsed": true
	   },
	   "outputs": [],
"source": [
"clc;\n",
"clear;\n",
"function y=f(x)\n",
"    y=0.2+25*x-200*x^2+675*x^3-900*x^4+400*x^5\n",
"endfunction\n",
"a=0;\n",
"b=0.8;\n",
"Qt=1.640533;\n",
"Q=intg(0,0.8,f);\n",
"disp(Q,'Computed=')\n",
"disp(abs(Q-Qt)*100/Qt,'Error estimate=')"
   ]
   }
],
"metadata": {
		  "kernelspec": {
		   "display_name": "Scilab",
		   "language": "scilab",
		   "name": "scilab"
		  },
		  "language_info": {
		   "file_extension": ".sce",
		   "help_links": [
			{
			 "text": "MetaKernel Magics",
			 "url": "https://github.com/calysto/metakernel/blob/master/metakernel/magics/README.md"
			}
		   ],
		   "mimetype": "text/x-octave",
		   "name": "scilab",
		   "version": "0.7.1"
		  }
		 },
		 "nbformat": 4,
		 "nbformat_minor": 0
}
