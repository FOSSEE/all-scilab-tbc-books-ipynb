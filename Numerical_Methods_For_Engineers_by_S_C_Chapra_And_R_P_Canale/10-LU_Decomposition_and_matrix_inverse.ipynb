{
"cells": [
 {
		   "cell_type": "markdown",
	   "metadata": {},
	   "source": [
       "# Chapter 10: LU Decomposition and matrix inverse"
	   ]
	},
{
		   "cell_type": "markdown",
		   "metadata": {},
		   "source": [
			"## Example 10.1: LU_decomposition_with_gauss_elimination.sce"
		   ]
		  },
  {
"cell_type": "code",
	   "execution_count": null,
	   "metadata": {
	    "collapsed": true
	   },
	   "outputs": [],
"source": [
"//clc()\n",
"A = [3,-0.1,-0.2;0.1,7,-0.3;0.3,-0.2,10];\n",
"U = A;\n",
"disp(A,'A =')\n",
"m = det(U(1,1));\n",
"n = det(U(2,1));\n",
"a = n/m;\n",
"U(2,:) = U(2,:) - U(1,:) / (m/n);\n",
"n = det(U(3,1));\n",
"b = n/m;\n",
"U(3,:) = U(3,:) - U(1,:) / (m/n);\n",
"m = det(U(2,2));\n",
"n = det(U(3,2));\n",
"c = n/m;\n",
"U(3,:) = U(3,:) - U(2,:) / (m/n);\n",
"disp(U,'U = ')\n",
"L = [1,0,0;a,1,0;b,c,1];\n",
"disp(L,'L calculated based on gauss elimination method = ')"
   ]
   }
,
{
		   "cell_type": "markdown",
		   "metadata": {},
		   "source": [
			"## Example 10.2: The_substitution_steps.sce"
		   ]
		  },
  {
"cell_type": "code",
	   "execution_count": null,
	   "metadata": {
	    "collapsed": true
	   },
	   "outputs": [],
"source": [
"//clc()\n",
"A = [3,-0.1,-0.2;0.1,7,-0.3;0.3,-0.2,10];\n",
"B = [7.85;-19.3;71.4];\n",
"X = inv(A) * B;\n",
"disp(X,'X = ')"
   ]
   }
,
{
		   "cell_type": "markdown",
		   "metadata": {},
		   "source": [
			"## Example 10.3: Matrix_inversion.sce"
		   ]
		  },
  {
"cell_type": "code",
	   "execution_count": null,
	   "metadata": {
	    "collapsed": true
	   },
	   "outputs": [],
"source": [
"//clc()\n",
"A = [3,-0.1,-0.2;0.1,7,-0.3;0.3,-0.2,10];\n",
"//B = inv(A)\n",
"L = [1,0,0;0.033333,1,0;0.1,-0.02713,1];\n",
"U = [3,-0.1,-0.2;0,7.0033,-0.293333;0,0,10.012];\n",
"for i =1:3\n",
"    if i==1 then\n",
"        m = [1;0;0];\n",
"    else\n",
"        if i==2 then\n",
"            m = [0;1;0];\n",
"        else\n",
"            m = [0;0;1];\n",
"        end\n",
"    end\n",
"    d = inv(L) * m;\n",
"    x = inv(U) * d;\n",
"    B(:,i) = x\n",
"end\n",
"disp(B)"
   ]
   }
,
{
		   "cell_type": "markdown",
		   "metadata": {},
		   "source": [
			"## Example 10.4: Matrix_condition_evaluation.sce"
		   ]
		  },
  {
"cell_type": "code",
	   "execution_count": null,
	   "metadata": {
	    "collapsed": true
	   },
	   "outputs": [],
"source": [
"//clc()\n",
"A = [1,1/2,1/3;1/2,1/3,1/4;1/3,1/4,1/5];\n",
"n = det(A(2,1));\n",
"A(2,:) = A(2,:)/n;\n",
"n = det(A(3,1));\n",
"A(3,:) = A(3,:)/n;\n",
"B = inv(A);\n",
"disp(A,'A = ')\n",
"for j = 1:3\n",
"    a = 0;\n",
"for i = 1:3\n",
"    m(i) = det(A(j,i));\n",
"    su(j) = a + m(i);\n",
"    a = su(j);\n",
"end\n",
"end\n",
"if su(1) < su(2) then\n",
"    if su(2) < su(3) then\n",
"        z = su(3);\n",
"    else\n",
"        z = su(2);\n",
"    end\n",
"else\n",
"     if su(1) < su(3) then\n",
"        z = su(3);\n",
"    else\n",
"        z = su(1);\n",
"    end\n",
"end\n",
"for j = 1:3\n",
"    a = 0;\n",
"for i = 1:3\n",
"    m(i) = det(B(j,i));\n",
"    sm(j) = a + abs(m(i));\n",
"    a = sm(j);\n",
"end\n",
"end\n",
"if sm(1) < sm(2) then\n",
"    if sm(2) < sm(3) then\n",
"        y = sm(3);\n",
"    else\n",
"        y = sm(2);\n",
"    end\n",
"else\n",
"     if sm(1) < sm(3) then\n",
"        y = sm(3);\n",
"    else\n",
"        y = sm(1);\n",
"    end\n",
"end\n",
"C = z*y;\n",
"disp(C,'Condition number for the matrix =')"
   ]
   }
],
"metadata": {
		  "kernelspec": {
		   "display_name": "Scilab",
		   "language": "scilab",
		   "name": "scilab"
		  },
		  "language_info": {
		   "file_extension": ".sce",
		   "help_links": [
			{
			 "text": "MetaKernel Magics",
			 "url": "https://github.com/calysto/metakernel/blob/master/metakernel/magics/README.md"
			}
		   ],
		   "mimetype": "text/x-octave",
		   "name": "scilab",
		   "version": "0.7.1"
		  }
		 },
		 "nbformat": 4,
		 "nbformat_minor": 0
}
