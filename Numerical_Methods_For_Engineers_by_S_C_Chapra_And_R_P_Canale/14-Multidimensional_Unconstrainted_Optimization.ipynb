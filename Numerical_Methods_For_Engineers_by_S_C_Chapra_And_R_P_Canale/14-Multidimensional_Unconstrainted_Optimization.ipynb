{
"cells": [
 {
		   "cell_type": "markdown",
	   "metadata": {},
	   "source": [
       "# Chapter 14: Multidimensional Unconstrainted Optimization"
	   ]
	},
{
		   "cell_type": "markdown",
		   "metadata": {},
		   "source": [
			"## Example 14.1: Random_Search_Method.sce"
		   ]
		  },
  {
"cell_type": "code",
	   "execution_count": null,
	   "metadata": {
	    "collapsed": true
	   },
	   "outputs": [],
"source": [
"clc;\n",
"clear;\n",
"function z=f(x,y)\n",
"    z=y-x-(2*(x^2))-(2*x*y)-(y^2);\n",
"endfunction\n",
"x1=-2;\n",
"x2=2;\n",
"y1=1;\n",
"y2=3;\n",
"fmax=-1*10^(-15);\n",
"n=10000;\n",
"for j=1:n\n",
"    r=rand(1,2);\n",
"    x=x1+(x2-x1)*r(1,1);\n",
"    y=y1+(y2-y1)*r(1,2);\n",
"    fn=f(x,y);\n",
"    if fn>fmax then\n",
"        fmax=fn;\n",
"        xmax=x;\n",
"        ymax=y;\n",
"    end\n",
"    if modulo(j,1000)==0 then\n",
"    \n",
"    disp(j,'Iteration:')\n",
"    disp(x,'x:')\n",
"    disp(y,'y:')\n",
"    disp(fn,'function value:')\n",
"    disp('------------------------------------------')\n",
"    end\n",
"end"
   ]
   }
,
{
		   "cell_type": "markdown",
		   "metadata": {},
		   "source": [
			"## Example 14.2: Path_of_Steepest_Descent.sce"
		   ]
		  },
  {
"cell_type": "code",
	   "execution_count": null,
	   "metadata": {
	    "collapsed": true
	   },
	   "outputs": [],
"source": [
"clc;\n",
"clear;\n",
"function z=f(x,y)\n",
"    z=x*y*y\n",
"endfunction\n",
"p1=[2 2];\n",
"elevation=f(p1(1),p1(2));\n",
"dfx=p1(1)*p1(1);\n",
"dfy=2*p1(1)*p1(2);\n",
"theta=atan(dfy/dfx);\n",
"slope=(dfx^2 + dfy^2)^0.5;\n",
"disp(elevation,'Elevation:')\n",
"disp(theta,'Theta:')\n",
"disp(slope,'slope:')"
   ]
   }
,
{
		   "cell_type": "markdown",
		   "metadata": {},
		   "source": [
			"## Example 14.3: 1_D_function_along_Gradient.sce"
		   ]
		  },
  {
"cell_type": "code",
	   "execution_count": null,
	   "metadata": {
	    "collapsed": true
	   },
	   "outputs": [],
"source": [
"clc;\n",
"clear;\n",
"function z=f(x,y)\n",
"    z=2*x*y + 2*x - x^2 - 2*y^2\n",
"endfunction\n",
"x=-1;\n",
"y=1;\n",
"dfx=2*y+2-2*x;\n",
"dfy=2*x-4*y;\n",
"//the function can thus be expressed along h axis as\n",
"//f((x+dfx*h),(y+dfy*h))\n",
"disp('180*h^2 + 72*h - 7','The final equation is=')"
   ]
   }
,
{
		   "cell_type": "markdown",
		   "metadata": {},
		   "source": [
			"## Example 14.4: Optimal_Steepest_Descent.sce"
		   ]
		  },
  {
"cell_type": "code",
	   "execution_count": null,
	   "metadata": {
	    "collapsed": true
	   },
	   "outputs": [],
"source": [
"clc;\n",
"clear;\n",
"function z=f(x,y)\n",
"    z=2*x*y + 2*x - x^2 - 2*y^2\n",
"endfunction\n",
"x=-1;\n",
"y=1;\n",
"d2fx=-2;\n",
"d2fy=-4;\n",
"d2fxy=2;\n",
"\n",
"modH=d2fx*d2fy-(d2fxy)^2;\n",
"\n",
"for i=1:25\n",
"dfx=2*y+2-2*x;\n",
"dfy=2*x - 4*y;\n",
"//the function can thus be expressed along h axis as\n",
"//f((x+dfx*h),(y+dfy*h))\n",
"function d=g(h)\n",
"    d=2*(x+dfx*h)*(y+dfy*h) + 2*(x+dfx*h) - (x+dfx*h)^2 - 2*(y+dfy*h)^2\n",
"endfunction\n",
"//2*dfx*(y+dfy*h)+2*dfy*(x+dfx*h)+2*dfx-2*(x+dfx*h)*dfx-4*(y+dfy*h)*dfy=g'(h)=0\n",
"//2*dfx*y + 2*dfx*dfy*h + 2*dfy*x + 2*dfy*dfx*h + 2*dfx - 2*x*dfx - 2*dfx*dfx*h - 4*y*dfy - 4*dfy*dfy*h=0\n",
"//h(2*dfx*dfy+2*dfy*dfx-2*dfx*dfx-4*dfy*dfy)=-(2*dfx*y+2*dfy*x-2*x*dfx-4*y*dfy)\n",
"h=(2*dfx*y+2*dfy*x-2*x*dfx-4*y*dfy+2*dfx)/(-1*(2*dfx*dfy+2*dfy*dfx-2*dfx*dfx-4*dfy*dfy));\n",
"x=x+dfx*h;\n",
"y=y+dfy*h;\n",
"end\n",
"disp([x y],'The final values are:')"
   ]
   }
],
"metadata": {
		  "kernelspec": {
		   "display_name": "Scilab",
		   "language": "scilab",
		   "name": "scilab"
		  },
		  "language_info": {
		   "file_extension": ".sce",
		   "help_links": [
			{
			 "text": "MetaKernel Magics",
			 "url": "https://github.com/calysto/metakernel/blob/master/metakernel/magics/README.md"
			}
		   ],
		   "mimetype": "text/x-octave",
		   "name": "scilab",
		   "version": "0.7.1"
		  }
		 },
		 "nbformat": 4,
		 "nbformat_minor": 0
}
