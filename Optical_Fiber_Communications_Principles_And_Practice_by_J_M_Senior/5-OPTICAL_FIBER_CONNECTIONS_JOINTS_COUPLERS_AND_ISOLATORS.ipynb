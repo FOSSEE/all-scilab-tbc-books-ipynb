{
"cells": [
 {
		   "cell_type": "markdown",
	   "metadata": {},
	   "source": [
       "# Chapter 5: OPTICAL FIBER CONNECTIONS JOINTS COUPLERS AND ISOLATORS"
	   ]
	},
{
		   "cell_type": "markdown",
		   "metadata": {},
		   "source": [
			"## Example 5.10: Calculation_of_the_grating_period_for_reflection.sce"
		   ]
		  },
  {
"cell_type": "code",
	   "execution_count": null,
	   "metadata": {
	    "collapsed": true
	   },
	   "outputs": [],
"source": [
"//Example 5.10\n",
"//Program to find the grating period for reflection\n",
"\n",
"clear;\n",
"clc ;\n",
"close ;\n",
"\n",
"//Given data\n",
"n=1.46;        //CORE REFRACTIVE INDEX\n",
"lambda_b=1.55; //um - WAVELENGTH\n",
"\n",
"//Grating Period\n",
"lambda=lambda_b/(2*n);\n",
"\n",
"//Displaying the Result in Command Window\n",
"printf('\n\n\t Grating Period is %0.2f um .',lambda);"
   ]
   }
,
{
		   "cell_type": "markdown",
		   "metadata": {},
		   "source": [
			"## Example 5.1: Calculation_of_the_optical_loss_in_decibels_at_the_joint.sce"
		   ]
		  },
  {
"cell_type": "code",
	   "execution_count": null,
	   "metadata": {
	    "collapsed": true
	   },
	   "outputs": [],
"source": [
"//Example 5.1\n",
"//Program to calculate the optical loss in decibels at the joint\n",
"\n",
"clear;\n",
"clc ;\n",
"close ;\n",
"\n",
"//Given data\n",
"n1=1.5;          //CORE REFRACTIVE INDEX\n",
"n=1.0;\n",
"\n",
"//Magnitude of Frensel reflection at the fiber-air interface\n",
"r=((n1-n)/(n1+n))^2;\n",
"\n",
"//Optical Loss\n",
"Loss_fres=-10*log10(1-r);\n",
"\n",
"//Displaying the Results in Command Window\n",
"printf('\n\n\t Optical Loss is %0.2f dB .',Loss_fres);\n",
"printf('\n\n\t Total loss due to Frensel Reflection at the fiber joint is %0.2f dB .',Loss_fres*2);"
   ]
   }
,
{
		   "cell_type": "markdown",
		   "metadata": {},
		   "source": [
			"## Example 5.2: Estimation_of_the_insertion_loss_in_two_given_cases.sce"
		   ]
		  },
  {
"cell_type": "code",
	   "execution_count": null,
	   "metadata": {
	    "collapsed": true
	   },
	   "outputs": [],
"source": [
"//Example 5.2\n",
"//Program to estimate the insertion loss when:\n",
"//(a)there is a small air gap at the joint \n",
"//(b)the joint is considered index matched\n",
"\n",
"clear;\n",
"clc ;\n",
"close ;\n",
"\n",
"//Given data\n",
"n1=1.5;          //CORE REFRACTIVE INDEX\n",
"n=1.0;\n",
"y=5*10^(-6);     //metre - LATERAL MISALIGNMENT\n",
"a=25*10^(-6);    //metre - CORE RADIUS\n",
"\n",
"//(a)Coupling efficiency\n",
"eeta_lat1=16*(n1/n)^2/(1+(n1/n))^4*1/%pi*(2*acos(y/(2*a))-(y/a)*sqrt(1-(y/(2*a))^2));\n",
"//Insertion Loss\n",
"Loss_lat1=-10*log10(eeta_lat1);\n",
"\n",
"//(b)Coupling efficiency\n",
"eeta_lat2=1/%pi*(2*acos(y/(2*a))-(y/a)*sqrt(1-(y/(2*a))^2));\n",
"//Insertion Loss\n",
"Loss_lat2=-10*log10(eeta_lat2);\n",
"\n",
"//Displaying the Results in Command Window\n",
"printf('\n\n\t (a)Insertion Loss (there is a small air gap at the joint) is %0.2f dB .',Loss_lat1);\n",
"printf('\n\n\t (b)Insertion Loss (the joint is considered index matched) is %0.2f dB .',Loss_lat2);"
   ]
   }
,
{
		   "cell_type": "markdown",
		   "metadata": {},
		   "source": [
			"## Example 5.3: Estimation_of_the_insertion_loss_in_two_given_cases.sce"
		   ]
		  },
  {
"cell_type": "code",
	   "execution_count": null,
	   "metadata": {
	    "collapsed": true
	   },
	   "outputs": [],
"source": [
"//Example 5.3\n",
"//Program to estimate the insertion loss when:\n",
"//(a)there is uniform illumination of all guided modes only \n",
"//(b)there is uniform illumination of all guided and leaky modes \n",
"\n",
"clear;\n",
"clc ;\n",
"close ;\n",
"\n",
"//Given data\n",
"y=3*10^(-6);     //metre - LATERAL MISALIGNMENT\n",
"a=25*10^(-6);    //metre - CORE RADIUS\n",
"\n",
"//(a)Misalignment Loss\n",
"Lt1=0.85*(y/a);\n",
"//Coupling efficiency\n",
"eeta_lat1=1-Lt1;\n",
"//Insertion Loss\n",
"Loss_lat1=-10*log10(eeta_lat1);\n",
"\n",
"//(b)Misalignment Loss\n",
"Lt2=0.75*(y/a);\n",
"//Coupling efficiency\n",
"eeta_lat2=1-Lt2;\n",
"//Insertion Loss\n",
"Loss_lat2=-10*log10(eeta_lat2);\n",
"\n",
"//Displaying the Results in Command Window\n",
"printf('\n\n\t (a)Insertion Loss (there is uniform illumination of all guided modes only) is %0.2f dB .',Loss_lat1);\n",
"printf('\n\n\t (b)Insertion Loss (there is uniform illumination of all guided and leaky modes) is %0.2f dB .',Loss_lat2);"
   ]
   }
,
{
		   "cell_type": "markdown",
		   "metadata": {},
		   "source": [
			"## Example 5.4: Estimation_of_the_insertion_loss_in_two_given_cases.sce"
		   ]
		  },
  {
"cell_type": "code",
	   "execution_count": null,
	   "metadata": {
	    "collapsed": true
	   },
	   "outputs": [],
"source": [
"//Example 5.4\n",
"//Program to estimate the insertion loss for\n",
"//NA = 0.2\n",
"//NA = 0.4\n",
"\n",
"clear;\n",
"clc ;\n",
"close ;\n",
"\n",
"//Given data\n",
"n1=1.48;          //CORE REFRACTIVE INDEX\n",
"n=1.0;\n",
"theeta=5;         //degree - ANGULAR MISALIGNMENT\n",
"\n",
"//Calculation for NA = 0.2\n",
"NA=0.2\n",
"eeta_ang1=16*(n1/n)^2/(1+n1/n)^4*(1-n*theeta*%pi/180/(%pi*NA));\n",
"//Insertion Loss\n",
"Loss_ang1=-10*log10(eeta_ang1);\n",
"\n",
"//Calculation for NA = 0.4\n",
"NA=0.4\n",
"eeta_ang2=16*(n1/n)^2/(1+n1/n)^4*(1-n*theeta*%pi/180/(%pi*NA));\n",
"//Insertion Loss\n",
"Loss_ang2=-10*log10(eeta_ang2);\n",
"\n",
"//Displaying the Results in Command Window\n",
"printf('\n\n\t Insertion Loss (NA=0.2) is %0.2f dB .',Loss_ang1);\n",
"printf('\n\n\t Insertion Loss (NA=0.4) is %0.2f dB .',Loss_ang2);"
   ]
   }
,
{
		   "cell_type": "markdown",
		   "metadata": {},
		   "source": [
			"## Example 5.5: EX5_5.sce"
		   ]
		  },
  {
"cell_type": "code",
	   "execution_count": null,
	   "metadata": {
	    "collapsed": true
	   },
	   "outputs": [],
"source": [
"//Example 5.5\n",
"//Program to estimate the total insertion loss of the fiber joint \n",
"//with a lateral misalignment and angular misalignment\n",
"\n",
"clear;\n",
"clc ;\n",
"close ;\n",
"\n",
"//Given data\n",
"V=2.40;        //NORMALIZED FREQUENCY\n",
"n1=1.46;       //CORE REFRACTIVE INDEX\n",
"d=8*10^(-6);   //metre - CORE DIAMETER\n",
"NA=0.1;        //NUMERICAL APERTURE\n",
"y=1*10^(-6);   //metre - LATERAL MISALIGNMENT\n",
"theeta=1;      //degree - ANGULAR MISALIGNMENT\n",
"\n",
"//Normalized Spot Size\n",
"a=d/2;\n",
"omega=a*(0.65+1.62*V^(-3/2)+2.88*V^(-6))/sqrt(2);\n",
"\n",
"//Loss due to lateral offset\n",
"Tl=2.17*(y/omega)^2;\n",
"\n",
"//Loss due to angular misalignment\n",
"Ta=2.17*((theeta*%pi/180)*omega*n1*V/(a*NA))^2;\n",
"\n",
"//Total insertion loss\n",
"Tt=Tl+Ta;\n",
"\n",
"//Displaying the Result in Command Window\n",
"printf('\n\n\t Total Insertion Loss is %0.2f dB .',Tt);"
   ]
   }
,
{
		   "cell_type": "markdown",
		   "metadata": {},
		   "source": [
			"## Example 5.6: Calculation_of_the_loss_at_the_connection_due_to_mode_field_diameter_mismatch.sce"
		   ]
		  },
  {
"cell_type": "code",
	   "execution_count": null,
	   "metadata": {
	    "collapsed": true
	   },
	   "outputs": [],
"source": [
"//Example 5.6\n",
"//Program to calculate the loss at the connection due to mode field \n",
"//diameter mismatch\n",
"\n",
"clear;\n",
"clc ;\n",
"close ;\n",
"\n",
"//Given data\n",
"MFD01=11.2;            //um - MODE FIELD DIAMETER\n",
"MFD02=8.4;             //um - MODE FIELD DIAMETER\n",
"\n",
"//Calculation of Intrinsic Loss\n",
"omega_01=MFD01/2;          \n",
"omega_02=MFD02/2;\n",
"Loss_int=-10*log10(4*(omega_02/omega_01+omega_01/omega_02)^(-2))\n",
"\n",
"//Displaying the Result in Command Window\n",
"printf('\n\n\t Intrinsic Loss is %0.2f dB .',Loss_int);"
   ]
   }
,
{
		   "cell_type": "markdown",
		   "metadata": {},
		   "source": [
			"## Example 5.7: Determination_of_excess_loss_insertion_losses_crosstalk_and_split_ratio.sce"
		   ]
		  },
  {
"cell_type": "code",
	   "execution_count": null,
	   "metadata": {
	    "collapsed": true
	   },
	   "outputs": [],
"source": [
"//Example 5.7\n",
"//Program to determine the excess loss, insertion losses, crosstalk\n",
"//and split ratio\n",
"  \n",
"clear;\n",
"clc ;\n",
"close ;\n",
"\n",
"//Given data\n",
"P1=60*10^(-6);     //Watts - INPUT POWER AT PORT 1 \n",
"P2=0.004*10^(-6);  //Watts - OUTPUT POWER AT PORT 2\n",
"P3=26*10^(-6);     //Watts - OUTPUT POWER AT PORT 3\n",
"P4=27.5*10^(-6);   //Watts - OUTPUT POWER AT PORT 4\n",
"\n",
"//Calculation of Excess Loss\n",
"Excess_loss=10*log10(P1/(P3+P4));\n",
"\n",
"//Calculation of Insertion Loss (ports 1 to 3)\n",
"Insertion_loss3=10*log10(P1/P3);\n",
"\n",
"//Calculation of Insertion Loss (ports 1 to 4)\n",
"Insertion_loss4=10*log10(P1/P4);\n",
"\n",
"//Calculation of Crosstalk\n",
"Crosstalk=10*log10(P2/P1);\n",
"\n",
"//Calculation of Split Ratio\n",
"Split_ratio=P3/(P3+P4)*100;\n",
"\n",
"//Displaying the Results in Command Window\n",
"printf('\n\n\t Excess Loss is %0.2f dB .',Excess_loss);\n",
"printf('\n\n\t Intrinsic Loss (ports 1 to 3) is %0.2f dB .',Insertion_loss3);\n",
"printf('\n\n\t Intrinsic Loss (ports 1 to 4) is %0.2f dB .',Insertion_loss4);\n",
"printf('\n\n\t Crosstalk is %0.1f dB .',Crosstalk);\n",
"printf('\n\n\t Split Ratio is %0.1f percent .',Split_ratio);"
   ]
   }
,
{
		   "cell_type": "markdown",
		   "metadata": {},
		   "source": [
			"## Example 5.8: Determination_of_excess_loss_insertion_losses_crosstalk_and_split_ratio.sce"
		   ]
		  },
  {
"cell_type": "code",
	   "execution_count": null,
	   "metadata": {
	    "collapsed": true
	   },
	   "outputs": [],
"source": [
"//Example 5.8\n",
"//Program to determine the total loss incurred by the star coupler \n",
"//and average insertion loss\n",
"  \n",
"clear;\n",
"clc ;\n",
"close ;\n",
"\n",
"//Given data\n",
"Pi=1*10^(-3);      //Watts - INPUT POWER AT PORT 1 \n",
"Po=14*10^(-6);     //Watts - OUTPUT POWER AT OTHER PORTS\n",
"N=32;              //Ports\n",
"\n",
"//Calculation of Splitting Loss\n",
"Splitting_loss=10*log10(N);\n",
"\n",
"//Calculation of Excess Loss\n",
"Excess_loss=10*log10(Pi/(Po*N));\n",
"\n",
"//Calculation of Total loss\n",
"Total_loss=Splitting_loss+Excess_loss;\n",
"\n",
"//Calculation of Average Insertion Loss \n",
"Insertion_loss=10*log10(Pi/Po);\n",
"\n",
"//Displaying the Results in Command Window\n",
"printf('\n\n\t Total loss is %0.2f dB .',Total_loss);\n",
"printf('\n\n\t Average Insertion Loss is %0.2f dB .',Insertion_loss);"
   ]
   }
,
{
		   "cell_type": "markdown",
		   "metadata": {},
		   "source": [
			"## Example 5.9: Determination_of_the_insertion_loss_associated_with_one_typical_path.sce"
		   ]
		  },
  {
"cell_type": "code",
	   "execution_count": null,
	   "metadata": {
	    "collapsed": true
	   },
	   "outputs": [],
"source": [
"//Example 5.9\n",
"//Program to determine the insertion loss associated with one typical\n",
"//path\n",
"  \n",
"clear;\n",
"clc ;\n",
"close ;\n",
"\n",
"//Given data\n",
"Excess_loss=0.2;   //dB - EXCESS LOSS OF EACH PORT\n",
"Split_ratio=0.5;   //*100 percent - SPLIT RATIO\n",
"N=16;              //PORTS\n",
"M=4;               //For N=16 ports\n",
"Splice_loss=0.1;   //dB - SPLICE LOSS\n",
"\n",
"//Calculation of Total Excess Loss\n",
"Total_Excess_loss=M*Excess_loss+3*Splice_loss;\n",
"\n",
"//Calculation of Splitting Loss\n",
"Splitting_loss=10*log10(N);\n",
"\n",
"//Calculation of Insertion Loss \n",
"Insertion_loss=Splitting_loss+Total_Excess_loss;\n",
"\n",
"//Displaying the Result in Command Window\n",
"printf('\n\n\t Insertion Loss is %0.2f dB .',Insertion_loss);"
   ]
   }
],
"metadata": {
		  "kernelspec": {
		   "display_name": "Scilab",
		   "language": "scilab",
		   "name": "scilab"
		  },
		  "language_info": {
		   "file_extension": ".sce",
		   "help_links": [
			{
			 "text": "MetaKernel Magics",
			 "url": "https://github.com/calysto/metakernel/blob/master/metakernel/magics/README.md"
			}
		   ],
		   "mimetype": "text/x-octave",
		   "name": "scilab",
		   "version": "0.7.1"
		  }
		 },
		 "nbformat": 4,
		 "nbformat_minor": 0
}
