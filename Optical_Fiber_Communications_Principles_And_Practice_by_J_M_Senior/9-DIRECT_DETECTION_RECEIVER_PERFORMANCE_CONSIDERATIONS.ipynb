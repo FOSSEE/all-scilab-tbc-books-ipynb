{
"cells": [
 {
		   "cell_type": "markdown",
	   "metadata": {},
	   "source": [
       "# Chapter 9: DIRECT DETECTION RECEIVER PERFORMANCE CONSIDERATIONS"
	   ]
	},
{
		   "cell_type": "markdown",
		   "metadata": {},
		   "source": [
			"## Example 9.1: EX9_1.sce"
		   ]
		  },
  {
"cell_type": "code",
	   "execution_count": null,
	   "metadata": {
	    "collapsed": true
	   },
	   "outputs": [],
"source": [
"//Example 9.1\n",
"//Note: MAXIMA SCILAB TOOLBOX REQUIRED FOR THIS PROGRAM\n",
"//Program to determine:\n",
"//(a)The theoretical quantum limit at the receiver in terms of quantum\n",
"//efficiency and energy of incident photon\n",
"//(b)The minimum incident optical power\n",
"\n",
"clear;\n",
"clc ;\n",
"close ;\n",
"\n",
"syms h f eeta;\n",
"\n",
"//(a)The theoretical quantum limit at the receiver in terms of quantum\n",
"//efficiency and energy og incident photon\n",
"BER=10^(-9);               //BIT ERROR RATE\n",
"z_min=-log(BER)\n",
"E_min=z_min*h*f/eeta;\n",
"disp(E_min,'(a)The theoretical quantum limit at the receiver in terms of quantum efficiency and energy of incident photon is =');\n",
"printf(' which is equivalent to %0.1f h*f/eeta.',z_min);\n",
"\n",
"//(b)The minimum incident optical power\n",
"h1= 6.626*10^(-34);               //J/K - PLANK's CONSTANT\n",
"f1=2.998*10^14;                   //Hz - FREQUENCY\n",
"Bt=10*10^6;                       //bit/s - SIGNALING RATE\n",
"eeta1=1;                          //*100 percent - QUANTUM EFFICIENCY\n",
"Po_binary=z_min*h1*f1*Bt/(2*eeta1);\n",
"Po=10*log10(Po_binary/10^(-3));\n",
"printf('\n\n (b)The minimum incident optical power is %0.1f pW or %0.1f dBm.',Po_binary/10^(-12),Po);"
   ]
   }
,
{
		   "cell_type": "markdown",
		   "metadata": {},
		   "source": [
			"## Example 9.2: Calculation_of_incident_optical_power_to_achieve_given_SNR.sce"
		   ]
		  },
  {
"cell_type": "code",
	   "execution_count": null,
	   "metadata": {
	    "collapsed": true
	   },
	   "outputs": [],
"source": [
"//Example 9.2\n",
"//Program to calculate incident optical power to achieve given SNR\n",
"\n",
"clear;\n",
"clc ;\n",
"close ;\n",
"\n",
"//Given data\n",
"SNR=50;                          //dB - SIGNAL TO NOISE RATIO GIVEN\n",
"h= 6.626*10^(-34);               //J/K - PLANK's CONSTANT\n",
"Lambda=1*10^(-6);                //metre - OPERATING WAVELENGTH\n",
"c=2.998*10^8;                    //m/s - VELOCITY OF LIGHT IN VACCUM\n",
"B=5*10^6;                        //MHz - POST DETECTION BANDWIDTH\n",
"eeta=1;                          //*100 percent - QUANTUM EFFICIENCY\n",
"\n",
"//Incident optical power to achieve given SNR\n",
"Po=2*h*c*B*10^(SNR/10)/(eeta*Lambda);\n",
"\n",
"//Displaying the Result in Command Window\n",
"printf('\n\n The incident optical power is %0.1f nW or %0.1f dBm.',Po/10^(-9),10*log10(Po/10^(-3)));"
   ]
   }
,
{
		   "cell_type": "markdown",
		   "metadata": {},
		   "source": [
			"## Example 9.3: EX9_3.sce"
		   ]
		  },
  {
"cell_type": "code",
	   "execution_count": null,
	   "metadata": {
	    "collapsed": true
	   },
	   "outputs": [],
"source": [
"//Example 9.3\n",
"//Program to compare the shot noise generated in the photodetector \n",
"//with the thermal noise in the load resistor\n",
"\n",
"clear;\n",
"clc ;\n",
"close ;\n",
"\n",
"//Given data\n",
"Id=3*10^(-9);                    //A - DARK CURRENT\n",
"e=1.602*10^(-19);                //Coulumbs - CHARGE OF AN ELECTRON\n",
"h= 6.626*10^(-34);               //J/K - PLANK's CONSTANT\n",
"Lambda=0.9*10^(-6);              //metre - OPERATING WAVELENGTH\n",
"c=2.998*10^8;                    //m/s - VELOCITY OF LIGHT IN VACCUM\n",
"eeta=0.6;                        //*100 percent - QUANTUM EFFICIENCY\n",
"Po=200*10^(-9);                  //Watt- INCIDENT OPTICAL POWER\n",
"k=1.381*10^(-23);                //m^2 kg/s - BOLTZMANN's CONSTANT\n",
"T=293;                           //Kelvin - TEMPERATURE\n",
"B=5*10^6;                        //Hz - BANDWIDTH OF RECEIVER\n",
"Rl=4*10^3;                       //Ohms - LOAD RESISTANCE\n",
"\n",
"//RMS shot noise current\n",
"Ip=eeta*Po*e*Lambda/(h*c);\n",
"Shot_noise_current=sqrt(2*e*B*(Id+Ip));\n",
"\n",
"//RMS thermal noise current\n",
"Thermal_noise_current=sqrt(4*k*T*B/Rl);\n",
"\n",
"//Displaying the Results in Command Window\n",
"printf('\n\n RMS shot noise current = %0.3f X 10^(-10) A.',Shot_noise_current/10^(-10));\n",
"printf('\n\n RMS thermal noise current = %0.3f X 10^(-9) A.',Thermal_noise_current/10^(-9));"
   ]
   }
,
{
		   "cell_type": "markdown",
		   "metadata": {},
		   "source": [
			"## Example 9.4: Determination_of_SNR_at_the_output_of_the_receiver.sce"
		   ]
		  },
  {
"cell_type": "code",
	   "execution_count": null,
	   "metadata": {
	    "collapsed": true
	   },
	   "outputs": [],
"source": [
"//Example 9.4\n",
"//Program to determine SNR at the output of the receiver\n",
"\n",
"clear;\n",
"clc ;\n",
"close ;\n",
"\n",
"//Given data\n",
"Id=3*10^(-9);                    //A - DARK CURRENT\n",
"e=1.602*10^(-19);                //Coulumbs - CHARGE OF AN ELECTRON\n",
"h= 6.626*10^(-34);               //J/K - PLANK's CONSTANT\n",
"Lambda=0.9*10^(-6);              //metre - OPERATING WAVELENGTH\n",
"c=2.998*10^8;                    //m/s - VELOCITY OF LIGHT IN VACCUM\n",
"eeta=0.6;                        //*100 percent - QUANTUM EFFICIENCY\n",
"Po=200*10^(-9);                  //Watt- INCIDENT OPTICAL POWER\n",
"k=1.381*10^(-23);                //m^2 kg/s - BOLTZMANN's CONSTANT\n",
"T=293;                           //Kelvin - TEMPERATURE\n",
"B=5*10^6;                        //Hz - BANDWIDTH OF RECEIVER\n",
"Rl=4*10^3;                       //Ohms - LOAD RESISTANCE\n",
"Fn=3;                            //dB - AMPLIFIER NOISE FIGURE\n",
"\n",
"//RMS shot noise current\n",
"Ip=eeta*Po*e*Lambda/(h*c);\n",
"Shot_noise_current=sqrt(2*e*B*(Id+Ip));\n",
"//RMS thermal noise current\n",
"Thermal_noise_current=sqrt(4*k*T*B/Rl);\n",
"\n",
"//SNR Calculation\n",
"SNR=Ip^2/(Shot_noise_current^2+Thermal_noise_current^2*10^(Fn/10));\n",
"\n",
"//Displaying the Result in Command Window\n",
"printf('\n\n SNR = %0.2f dB.',10*log10(SNR));"
   ]
   }
,
{
		   "cell_type": "markdown",
		   "metadata": {},
		   "source": [
			"## Example 9.5: EX9_5.sce"
		   ]
		  },
  {
"cell_type": "code",
	   "execution_count": null,
	   "metadata": {
	    "collapsed": true
	   },
	   "outputs": [],
"source": [
"//Example 9.5\n",
"//Program to:\n",
"//(i)Calculate Maximum Load Resistance\n",
"//(ii)Determine Bandwidth Penalty considering amplifier capacitance\n",
"\n",
"clear;\n",
"clc ;\n",
"close ;\n",
"\n",
"//Given data\n",
"Cd=6*10^(-12);           //Farad - PHOTODIODE CAPACITANCE\n",
"Ca=6*10^(-12);           //Farad - AMPLIFIER INPUT CAPACITANCE\n",
"B=8*10^6;                //Hz - POST DETECTION BANDWIDTH\n",
"\n",
"//(i)Maximum Load Resistance\n",
"Rl=1/(2*%pi*Cd*B);\n",
"\n",
"//(ii)Maximum Bandwidth considering amplifier capacitance \n",
"Bm=1/(2*%pi*Rl*(Cd+Ca));\n",
"\n",
"//Displaying the Results in Command Window\n",
"printf('\n\n\t (i)Maximum Load Resistance, Rl(max) = %0.2f kiloOhms.',Rl/10^3);\n",
"printf('\n\n\t(ii)Maximum Bandwidth considering amplifier capacitance, B = %1.0f MHz.',Bm/10^6);"
   ]
   }
,
{
		   "cell_type": "markdown",
		   "metadata": {},
		   "source": [
			"## Example 9.6: Determination_of_the_maximum_SNR_improvement.sce"
		   ]
		  },
  {
"cell_type": "code",
	   "execution_count": null,
	   "metadata": {
	    "collapsed": true
	   },
	   "outputs": [],
"source": [
"//Example 9.6\n",
"//Program to determine the maximum SNR improvement between \n",
"//M=1 and M=Mop\n",
"\n",
"clear;\n",
"clc ;\n",
"close ;\n",
"\n",
"//Given data\n",
"Cd=5*10^(-12);                   //Farad - APD CAPACITANCE\n",
"B=50*10^6;                       //Hz - POST DETECTION BANDWIDTH\n",
"T=291;                           //Kelvin - TEMPERATURE\n",
"k=1.381*10^(-23);                //m^2 kg/s - BOLTZMANN's CONSTANT\n",
"Id=0;                            //A - DARK CURRENT\n",
"x=0.3;\n",
"Fn=1;                            //dB - AMPLIFIER NOISE FIGURE\n",
"e=1.602*10^(-19);                //Coulumbs - CHARGE OF AN ELECTRON\n",
"Ip=10^(-7);                      //A - PHOTOCURRENT\n",
"\n",
"//Maximum Load Resistance\n",
"Rl=1/(2*%pi*Cd*B);\n",
"\n",
"//For M=1\n",
"M=1\n",
"SNR1=Ip^2*M^2/(2*e*B*(Ip+Id)*M^(2+x)+4*k*T*B*Fn/Rl); \n",
"//Displaying the Result in Command Window\n",
"printf('\n\n For M = 1, SNR = %0.2f dB.',10*log10(SNR1));\n",
"\n",
"//For M=Mop\n",
"Mop=(4*k*T/(x*e*Rl*Ip))^(1/(2+x));\n",
"M=Mop;\n",
"SNR2=Ip^2*M^2/(2*e*B*(Ip+Id)*M^(2+x)+4*k*T*B*Fn/Rl); \n",
"//Displaying the Result in Command Window\n",
"printf('\n\n For M = Mopt, SNR = %0.2f dB.',10*log10(SNR2));\n",
"printf('\n\n SNR Improvement = %0.2f dB.',10*log10(SNR2)-10*log10(SNR1));"
   ]
   }
,
{
		   "cell_type": "markdown",
		   "metadata": {},
		   "source": [
			"## Example 9.7: Determination_of_the_optimum_avalanche_multiplication_factor.sce"
		   ]
		  },
  {
"cell_type": "code",
	   "execution_count": null,
	   "metadata": {
	    "collapsed": true
	   },
	   "outputs": [],
"source": [
"//Example 9.7\n",
"//Program to determine the optimum avalanche multiplication factor\n",
"\n",
"clear;\n",
"clc ;\n",
"close ;\n",
"\n",
"//Given data\n",
"Rl=10*10^3;                      //Ohms - LOAD RESISTANCE\n",
"T=120;                           //Kelvin - TEMPERATURE\n",
"SNR=35;                          //dB - SIGNAL TO NOISE RATIO\n",
"Fn=1;                            //dB - AMPLIFIER NOISE FIGURE\n",
"B=10*10^6;                       //Hz - POST DETECTION BANDWIDTH\n",
"x=1;\n",
"k=1.381*10^(-23);                //m^2 kg/s - BOLTZMANN's CONSTANT\n",
"e=1.602*10^(-19);                //Coulumbs - CHARGE OF AN ELECTRON\n",
"\n",
"//As Ip=10*Id, Minimum Photo Current\n",
"Ip=(10^(SNR/10)*(12*k*T*B*10^(Fn/10)/Rl)/(4*k*T*10^(Fn/10)/(1.1*e*Rl))^(2/(2+x)))^(3/4);\n",
" \n",
"//Optimum avalanche multiplication factor\n",
"Mop=(4*k*T*10^(Fn/10)/(e*Rl/10*1.1*Ip))^(1/(2+x));\n",
"\n",
"//Displaying the Result in Command Window\n",
"printf('\n\n Optimum avalanche multiplication factor, Mop = %0.2f.',Mop);"
   ]
   }
,
{
		   "cell_type": "markdown",
		   "metadata": {},
		   "source": [
			"## Example 9.8: EX9_8.sce"
		   ]
		  },
  {
"cell_type": "code",
	   "execution_count": null,
	   "metadata": {
	    "collapsed": true
	   },
	   "outputs": [],
"source": [
"//Example 9.8\n",
"//Program to determine:\n",
"//(a)Maximum bandwidth without equilization\n",
"//(b)Mean square thermal noise current per unit bandwidth\n",
"//(c)(Compare (a) and (b) for transimpedance amplifier\n",
"\n",
"clear;\n",
"clc ;\n",
"close ;\n",
"\n",
"//Given data\n",
"Ra=4*10^6;                     //Ohms - INPUT RESISTANCE\n",
"Rb=4*10^6;                     //Ohms - DETECTOR BIAS RESISTANCE\n",
"Ct=6*10^(-12);                 //Farad - TOTAL CAPACITANCE\n",
"k=1.381*10^(-23);              //m^2 kg/s - BOLTZMANN's CONSTANT\n",
"T=300;                         //Kelvin - TEMPERATURE\n",
"Rf=100*10^3;                   //Ohms - LOAD RESISTANCE\n",
"G=400;                         //OPEN LOOP GAIN OF TRANSIMPEDANCE AMP.\n",
"\n",
"//Total effective load resistance\n",
"Rtl=Rb*Ra/(Rb+Ra);\n",
"\n",
"//(a)Maximum bandwidth without equilization\n",
"B=1/(2*%pi*Rtl*Ct)\n",
"\n",
"//(b)Mean square thermal noise current per unit bandwidth\n",
"it_sq_bar=4*k*T/Rtl;\n",
"\n",
"//(c)(Compare (a) and (b) for transimpedance amplifier\n",
"B1=G/(2*%pi*Rf*Ct)\n",
"it_sq_bar1=4*k*T/Rf;\n",
"\n",
"//Displaying the Results in Command Window\n",
"printf('For High Gain Transimpedance Amplifier:')\n",
"printf('\n\n (a)Maximum bandwidth without equilization, B = %0.2f X 10^4 Hz.',B/10^4);\n",
"printf('\n\n (b)Mean square thermal noise current per unit bandwidth, it_sq_bar = %0.2f X 10^(-27) A^2/Hz.',it_sq_bar/10^(-27));\n",
"printf('\n\n (c)For High Gain Transimpedance Amplifier:')\n",
"printf('\n\n    Maximum bandwidth without equilization, B = %0.2f X 10^8 Hz.',B1/10^8);\n",
"printf('\n\n    Mean square thermal noise current per unit bandwidth, it_sq_bar = %0.2f X 10^(-25) A^2/Hz.',it_sq_bar1/10^(-25));\n",
"printf('\n\n Mean square thermal noise current for transimpedance amplifier is %1.0f times or %1.0f dB greater.',it_sq_bar1/it_sq_bar,10*log10(it_sq_bar1/it_sq_bar));"
   ]
   }
],
"metadata": {
		  "kernelspec": {
		   "display_name": "Scilab",
		   "language": "scilab",
		   "name": "scilab"
		  },
		  "language_info": {
		   "file_extension": ".sce",
		   "help_links": [
			{
			 "text": "MetaKernel Magics",
			 "url": "https://github.com/calysto/metakernel/blob/master/metakernel/magics/README.md"
			}
		   ],
		   "mimetype": "text/x-octave",
		   "name": "scilab",
		   "version": "0.7.1"
		  }
		 },
		 "nbformat": 4,
		 "nbformat_minor": 0
}
