{
"cells": [
 {
		   "cell_type": "markdown",
	   "metadata": {},
	   "source": [
       "# Chapter 10: OPTICAL AMPLIFICATION WAVELENGTH CONVERSION AND REGENERATION"
	   ]
	},
{
		   "cell_type": "markdown",
		   "metadata": {},
		   "source": [
			"## Example 10.1: Determination_of_Refractive_Index_of_active_medium_and_3dB_Spectral_Bandwidth.sce"
		   ]
		  },
  {
"cell_type": "code",
	   "execution_count": null,
	   "metadata": {
	    "collapsed": true
	   },
	   "outputs": [],
"source": [
"//Example 10.1\n",
"//Program to determine the Refractive Index of the Active Medium and\n",
"//the 3dB spectral bandwidth of the device\n",
"\n",
"clear;\n",
"clc ;\n",
"close ;\n",
"\n",
"//Given data\n",
"L=300*10^-6;          //metres - ACTIVE REGION LENGTH\n",
"Lambda=1.5*10^-6;     //metres - PEAK GAIN WAVELENGTH\n",
"Delta_Lambda=1*10^-9; //metres - MODE SPACING\n",
"c= 2.998*10^8;        //m/s - SPEED OF LIGHT\n",
"Gs_dB=4.8;            //dB     - SINGLE PASS GAIN\n",
"R1=0.3;               //INPUT FACET REFRACTIVITY\n",
"R2=0.3;               //OUTPUT FACET REFRACTIVITY\n",
"\n",
"//Refractive Index of the active medium at the peak gain wavelength\n",
"n=(Lambda^2)/(2*Delta_Lambda*L);\n",
"\n",
"//Gain Gs from Gs_dB by taking antilog with base 10\n",
"Gs=10^((1/10)*Gs_dB);\n",
"\n",
"//3dB spectral Bandwidth\n",
"B_fpa=(c/(%pi*n*L))*asin((1-sqrt(R1*R2)*Gs)/(2*sqrt(sqrt(R1*R2)*Gs)));\n",
"\n",
"//Displaying the Results in Command Window\n",
"printf('\n\n\t Refractive Index of the active medium at the peak gain wavelength is %0.2f .',n);\n",
"printf('\n\n\t 3dB spectral Bandwidth is %0.1f GHz .',B_fpa/10^9);"
   ]
   }
,
{
		   "cell_type": "markdown",
		   "metadata": {},
		   "source": [
			"## Example 10.2: Derivation_of_an_approximate_equation_for_the_cavity_gain_of_an_SOA.sce"
		   ]
		  },
  {
"cell_type": "code",
	   "execution_count": null,
	   "metadata": {
	    "collapsed": true
	   },
	   "outputs": [],
"source": [
"//Example 10.2\n",
"//Note: MAXIMA SCILAB TOOLBOX REQUIRED FOR THIS PROGRAM\n",
"//Program to derive an approximate equation for the cavity gain\n",
"//of an SOA\n",
" \n",
"clear;\n",
"clc ;\n",
"close ;\n",
"\n",
"syms R1 R2;\n",
"\n",
"//For 3 dB peak through ratio\n",
"//Let A=sqrt(R1*R2)*Gs\n",
"A=(1-sqrt(0.5))/(1+sqrt(0.5));\n",
"\n",
"//Cavity gain\n",
"G=A/(1-A)^2/sqrt(R1*R2);;\n",
"\n",
"//Displaying the Result in Command Window\n",
"disp(G,'The approximate equation of cavity gain is, G = ')"
   ]
   }
,
{
		   "cell_type": "markdown",
		   "metadata": {},
		   "source": [
			"## Example 10.3: EX10_3.sce"
		   ]
		  },
  {
"cell_type": "code",
	   "execution_count": null,
	   "metadata": {
	    "collapsed": true
	   },
	   "outputs": [],
"source": [
"//Example 10.3\n",
"//Program to determine:\n",
"//(a)The length of the device\n",
"//(b)The ASE noise signal power at the output of the amplifier\n",
"\n",
"clear;\n",
"clc ;\n",
"close ;\n",
"\n",
"//Given data\n",
"Gs_dB=30;            //dB - SINGLE PASS GAIN\n",
"g_bar=200;           //NET GAIN COEFFICIENT\n",
"m=2.2;               //MODE FACTOR\n",
"n_sp=4;              //SPONTANEOUS EMISSION FACTOR\n",
"h= 6.626*10^(-34);   //J/K - PLANK's CONSTANT\n",
"c=2.998*10^8;        //m/s - VELOCITY OF LIGHT IN VACCUM\n",
"B=1*10^(12);         //Hz - OPTICAL BANDWIDTH\n",
"Lambda=1.55*10^(-6); //metre - OPERATING WAVELENGTH\n",
"\n",
"//(a)The length of the device\n",
"L=Gs_dB/(10*g_bar*log10(%e));\n",
"\n",
"//(b)The ASE noise signal power at the output of the amplifier\n",
"Gs=10^(Gs_dB/10);\n",
"f=c/Lambda;\n",
"P_ASE=m*n_sp*(Gs-1)*h*f*B;\n",
"\n",
"//Displaying the Results in Command Window\n",
"printf('\n\n\t (a)The length of the SOA is %0.2f X 10^(-3) m.',L/10^(-3));\n",
"printf('\n\n\t (b)The ASE noise signal power at the output of the amplifier, P_ASE = %0.2f mW.',P_ASE/10^(-3));"
   ]
   }
,
{
		   "cell_type": "markdown",
		   "metadata": {},
		   "source": [
			"## Example 10.4: EX10_4.sce"
		   ]
		  },
  {
"cell_type": "code",
	   "execution_count": null,
	   "metadata": {
	    "collapsed": true
	   },
	   "outputs": [],
"source": [
"//Example 10.4\n",
"//Program to determine: \n",
"//(a)The fiber non-linear coefficient\n",
"//(b)The parametric gain in dB when it is reduced to quadratic gain\n",
"\n",
"clear;\n",
"clc ;\n",
"close ;\n",
"\n",
"//Given data\n",
"L=500;               //metre - LENGTH \n",
"Lambda=1.55*10^(-6); //metre - OPERATING WAVELENGTH\n",
"Pp= 1.4;             //W - SIGNAL POWER   \n",
"Gp_dB=62.2;          //dB - PEAK GAIN\n",
"\n",
"//(a)The fiber non-linear coefficient\n",
"gaamma=(Gp_dB-10*log10(1/4))/(Pp*L)*1/(10*log10((%e)^2));\n",
"\n",
"//(b)The parametric gain in dB when it is reduced to quadratic gain\n",
"Gp_dB1=10*log10((gaamma*Pp*L)^2);\n",
"\n",
"//Displaying the Results in Command Window\n",
"printf('\n\n\t (a)The fiber non-linear coefficient is %0.2f X 10^(-3) per W per km.',gaamma/10^(-3));\n",
"printf('\n\n\t (b)The parametric gain in dB when it is reduced to quadratic gain is %0.1f dB.',Gp_dB1);"
   ]
   }
,
{
		   "cell_type": "markdown",
		   "metadata": {},
		   "source": [
			"## Example 10.5: EX10_5.sce"
		   ]
		  },
  {
"cell_type": "code",
	   "execution_count": null,
	   "metadata": {
	    "collapsed": true
	   },
	   "outputs": [],
"source": [
"//Example 10.5\n",
"//Program to calculate: \n",
"//(a)The frequency chirp variation at the output signal\n",
"//(b)The differential gain required\n",
"\n",
"clear;\n",
"clc ;\n",
"close ;\n",
"\n",
"//Given data\n",
"Lambda=1.55*10^(-6);     //metre - OPERATING WAVELENGTH\n",
"alpha=-1;                //ENHANCEMENT FACTOR\n",
"Pin=0.5*10^(-3);         //Watt - INPUT SIGNAL POWER\n",
"dPin_by_dt=0.01*10^(-6); //metre - INPUT SIGNAL POWER VARIATION\n",
"dnr_by_dn=-1.2*10^(-26); //m^3 - DIFFERENTIAL REFRATIVE INDEX\n",
"\n",
"//(a)The frequency chirp variation at the output signal\n",
"del_f=-alpha/(4*%pi)*1/Pin*dPin_by_dt;\n",
"\n",
"//(b)The differential gain required\n",
"dg_by_dn=4*%pi/Lambda*dnr_by_dn/alpha;\n",
"\n",
"//Displaying the Results in Command Window\n",
"printf('\n\n\t (a)The frequency chirp variation at the output signal is %0.2f X 10^(-6)Hz.',del_f/10^(-6));\n",
"printf('\n\n\t (b)The differential gain required is %0.3f X 10^(-20) m^2.',dg_by_dn/10^(-20));"
   ]
   }
],
"metadata": {
		  "kernelspec": {
		   "display_name": "Scilab",
		   "language": "scilab",
		   "name": "scilab"
		  },
		  "language_info": {
		   "file_extension": ".sce",
		   "help_links": [
			{
			 "text": "MetaKernel Magics",
			 "url": "https://github.com/calysto/metakernel/blob/master/metakernel/magics/README.md"
			}
		   ],
		   "mimetype": "text/x-octave",
		   "name": "scilab",
		   "version": "0.7.1"
		  }
		 },
		 "nbformat": 4,
		 "nbformat_minor": 0
}
