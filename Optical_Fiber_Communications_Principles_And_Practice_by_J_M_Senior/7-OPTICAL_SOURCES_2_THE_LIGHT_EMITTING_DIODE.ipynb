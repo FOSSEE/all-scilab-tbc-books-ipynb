{
"cells": [
 {
		   "cell_type": "markdown",
	   "metadata": {},
	   "source": [
       "# Chapter 7: OPTICAL SOURCES 2 THE LIGHT EMITTING DIODE"
	   ]
	},
{
		   "cell_type": "markdown",
		   "metadata": {},
		   "source": [
			"## Example 7.1: EX7_1.sce"
		   ]
		  },
  {
"cell_type": "code",
	   "execution_count": null,
	   "metadata": {
	    "collapsed": true
	   },
	   "outputs": [],
"source": [
"//Example 7.1\n",
"//Program to determine the total carrier recombination lifetime and\n",
"//the power internally generated within the device\n",
"\n",
"clear;\n",
"clc ;\n",
"close ;\n",
"\n",
"//Given data\n",
"Tau_r=60;          //ns - RADIATIVE RECOMBINATION LIFETIME\n",
"Tau_nr=100;        //ns - NON RADIATIVE RECOMBINATION LIFETIME\n",
"Lambda=0.87*10^-6; //metres - PEAK EMISSION WAVELENGTH\n",
"c= 2.998*10^8;     //m/s - SPEED OF LIGHT\n",
"h= 6.626*10^(-34); //J/K - PLANK's CONSTANT\n",
"e=1.602*10^(-19);  //Coulumbs - CHARGE OF AN ELECTRON\n",
"i=40*10^(-3);      //A - DRIVE CURRENT\n",
"\n",
"//Total carrier recombination lifetime\n",
"Tau=Tau_r*Tau_nr/(Tau_r+Tau_nr);\n",
"\n",
"//Internal quantum efficiency\n",
"eeta_int=Tau/Tau_r;\n",
"\n",
"//Power internally generated within the device\n",
"P_int=eeta_int*h*c*i/(Lambda*e);\n",
"\n",
"//Displaying the Results in Command Window\n",
"printf('\n\n\t Total carrier recombination lifetime is %0.1f ns.',Tau);\n",
"printf('\n\n\t Power internally generated within the device is %0.1f mW .',P_int/10^(-3));"
   ]
   }
,
{
		   "cell_type": "markdown",
		   "metadata": {},
		   "source": [
			"## Example 7.2: EX7_2.sce"
		   ]
		  },
  {
"cell_type": "code",
	   "execution_count": null,
	   "metadata": {
	    "collapsed": true
	   },
	   "outputs": [],
"source": [
"//Example 7.2\n",
"//Program to :\n",
"//(a)Calculate the optical power emitted into air as a percentage of \n",
"//internal optical power\n",
"//(b)Determine the external power efficiency\n",
"\n",
"clear;\n",
"clc ;\n",
"close ;\n",
"\n",
"//Given data\n",
"F=0.68;                  //TRANSMISSION FACTOR\n",
"n=1;\n",
"nx=3.6;                  //REFRACTIVE INDEX OF GaAs\n",
"Pint_by_P=0.5;             //*100 percent - Pe/P\n",
"\n",
"//Percentage optical power emitted\n",
"Pe_by_Pint=F*n^2/(4*nx^2);\n",
"\n",
"//External power efficiency\n",
"eeta_ep=Pe_by_Pint*Pint_by_P;\n",
"\n",
"//Displaying the Results in Command Window\n",
"printf('\n\n\t (a)Percentage optical power emitted is %0.1f percent of generated optical power.',Pe_by_Pint*100);\n",
"printf('\n\n\t (b)External power efficiency is %0.2f percent.',eeta_ep*100);"
   ]
   }
,
{
		   "cell_type": "markdown",
		   "metadata": {},
		   "source": [
			"## Example 7.3: EX7_3.sce"
		   ]
		  },
  {
"cell_type": "code",
	   "execution_count": null,
	   "metadata": {
	    "collapsed": true
	   },
	   "outputs": [],
"source": [
"//Example 7.3\n",
"//Program to calculate the:\n",
"//(a)Coupling Efficieny\n",
"//(b)Optical loss in decibels relative to Pe\n",
"//(c)Optical loss in decibels relative to Pint\n",
"\n",
"clear;\n",
"clc ;\n",
"close ;\n",
"\n",
"//Given data\n",
"NA=0.2;                  //NUMERICAL APERTURE\n",
"F=0.68;                  //TRANSMISSION FACTOR\n",
"n=1;\n",
"nx=3.6;                  //REFRACTIVE INDEX OF GaAs\n",
"\n",
"//(a)Coupling Efficieny\n",
"eeta_c=(NA)^2;\n",
"\n",
"//(b)Optical loss in decibels relative to Pe\n",
"Loss1=-10*log10(eeta_c);\n",
"\n",
"//Percentage optical power emitted\n",
"Pint_by_P=F*n^2/(4*nx^2);\n",
"\n",
"//(c)Optical loss in decibels relative to Pint\n",
"Loss2=-10*log10(eeta_c*Pint_by_P);\n",
"\n",
"//Displaying the Results in Command Window\n",
"printf('\n\n\t (a)Coupling Efficieny is %1.0f percent.',eeta_c*100);\n",
"printf('\n\n\t (b)Optical loss in decibels relative to Pe is %0.1f dB.',Loss1);\n",
"printf('\n\n\t (c)Optical loss in decibels relative to Pint is %0.1f dB.',Loss2);"
   ]
   }
,
{
		   "cell_type": "markdown",
		   "metadata": {},
		   "source": [
			"## Example 7.4: Estimation_of_the_optical_power_coupled_into_the_fiber.sce"
		   ]
		  },
  {
"cell_type": "code",
	   "execution_count": null,
	   "metadata": {
	    "collapsed": true
	   },
	   "outputs": [],
"source": [
"//Example 7.4\n",
"//Program to estimate the optical power coupled into the fiber\n",
"\n",
"clear;\n",
"clc ;\n",
"close ;\n",
"\n",
"//Given data\n",
"d=50*10^(-4);           //cm - EMISSION AREA DIAMETER\n",
"R_D=30;                 //W/sr/cm^2\n",
"NA=0.15;                //NUMERICAL APERTURE\n",
"r=0.01;                 //REFLECTION COEFFICIENT\n",
"\n",
"//Optical power coupled into the fiber\n",
"a=d/2;                       //RADIUS\n",
"A=%pi*a^2;                   //EMISSION AREA\n",
"Pc=%pi*(1-r)*A*R_D*NA^2;\n",
"\n",
"//Displaying the Result in Command Window\n",
"printf('\n\n\t Optical power coupled into the fiber is %0.1f uW.',Pc/10^(-6));"
   ]
   }
,
{
		   "cell_type": "markdown",
		   "metadata": {},
		   "source": [
			"## Example 7.5: Determination_of_the_overall_power_conversion_efficiency.sce"
		   ]
		  },
  {
"cell_type": "code",
	   "execution_count": null,
	   "metadata": {
	    "collapsed": true
	   },
	   "outputs": [],
"source": [
"//Example 7.5\n",
"//Program to determine the overall power conversion efficiency\n",
"\n",
"clear;\n",
"clc ;\n",
"close ;\n",
"\n",
"//Given data\n",
"Pc=190*10^(-6);       //Watts - INPUT OPTICAL POWER\n",
"I=25*10^(-3);         //A - FORWARD CURRENT\n",
"V=1.5;                //V - FORWARD VOLTAGE\n",
"\n",
"//Overall power conversion efficiency\n",
"P=I*V;\n",
"eeta_pc=Pc/P;\n",
"\n",
"//Displaying the Result in Command Window\n",
"printf('\n\n\t Overall power conversion efficiency is %0.1f percent.',eeta_pc*100);"
   ]
   }
,
{
		   "cell_type": "markdown",
		   "metadata": {},
		   "source": [
			"## Example 7.6: EX7_6.sce"
		   ]
		  },
  {
"cell_type": "code",
	   "execution_count": null,
	   "metadata": {
	    "collapsed": true
	   },
	   "outputs": [],
"source": [
"//Example 7.6\n",
"//Compare the electrical and optical bandwidth for an optical fiber \n",
"//commuication system and develop a relationship between the two\n",
"\n",
"clear;\n",
"clc ;\n",
"close ;\n",
"\n",
"//Given data\n",
"Re_dB=3;                   //dB - ELECTRICAL 3 dB POINTS\n",
"Ro_dB=3;                   //dB - OPTICAL 3 dB POINTS\n",
"\n",
"//Electrical Bandwidth\n",
"Iout_by_Iin=sqrt(10^(-Re_dB/10));\n",
"printf('\n\n\t For Electrical Bandwidth, Iout/Iin = %0.3f .',Iout_by_Iin);\n",
"\n",
"//Optical Bandwidth\n",
"Iout_by_Iin=10^(-Ro_dB/10);\n",
"printf('\n\n\t For Optical Bandwidth, Iout/Iin = %0.1f .',Iout_by_Iin);"
   ]
   }
,
{
		   "cell_type": "markdown",
		   "metadata": {},
		   "source": [
			"## Example 7.7: EX7_7.sce"
		   ]
		  },
  {
"cell_type": "code",
	   "execution_count": null,
	   "metadata": {
	    "collapsed": true
	   },
	   "outputs": [],
"source": [
"//Example 7.7\n",
"//Determine the optical output power modulated at frequencies\n",
"//(a)20 MHz\n",
"//(b)100 MHz\n",
"//Also determine electrical and optical bandwidths\n",
"\n",
"clear;\n",
"clc ;\n",
"close ;\n",
"\n",
"//Given data\n",
"P_dc=300*10^(-6);          //Watt - OPTICAL OUTPUT POWER\n",
"tau_i=5*10^(-9);           //s - CARRIER RECOMBINATION LIFETIME\n",
"\n",
"//(a)Optical output power at 20 MHz\n",
"f=20*10^6;             //Hz - OPERATING FREQUENCY\n",
"Pe=P_dc/sqrt(1+(2*%pi*f*tau_i)^2);\n",
"printf('\n\n\t (a)Optical output power at %1.0f MHz, Pe(%1.0f MHz) = %0.2f uW.',f/10^6,f/10^6,Pe/10^(-6));\n",
"\n",
"//(b)Optical output power at 100 MHz\n",
"f=100*10^6;            //Hz - OPERATING FREQUENCY \n",
"Pe=P_dc/sqrt(1+(2*%pi*f*tau_i)^2);\n",
"printf('\n\n\t (b)Optical output power at %1.0f MHz, Pe(%1.0f MHz) = %0.2f uW.',f/10^6,f/10^6,Pe/10^(-6));\n",
"\n",
"//Optical Bandwidth\n",
"Bopt=sqrt(3)/(2*%pi*tau_i);\n",
"printf('\n\n\t Optical Bandwidth, Bopt = %0.1f MHz.',Bopt/10^6);\n",
"\n",
"//Electrical Bandwidth\n",
"B=Bopt/sqrt(2);\n",
"printf('\n\n\t Electrical Bandwidth, B = %0.1f MHz.',B/10^6);"
   ]
   }
,
{
		   "cell_type": "markdown",
		   "metadata": {},
		   "source": [
			"## Example 7.8: Estimation_of_the_CW_operating_lifetime_for_the_given_LED.sce"
		   ]
		  },
  {
"cell_type": "code",
	   "execution_count": null,
	   "metadata": {
	    "collapsed": true
	   },
	   "outputs": [],
"source": [
"//Example 7.8\n",
"//Program to estimate the CW operating lifetime for the given LED\n",
"\n",
"clear;\n",
"clc ;\n",
"close ;\n",
"\n",
"//Given data\n",
"Ea=1*1.602*10^(-19);  //Joules - ACTIVATION ENERGY \n",
"k=1.38*10^(-23);      //m^2 kg/s - BOLTZMANN's CONSTANT\n",
"T=290;                //Kelvin - JUNCTION TEMPERATURE\n",
"Pe_by_Pout=0.67;      //Pe/Pout RATIO\n",
"Beeta_o=1.84*10^7;    //per  h - CONSTANT OF PROPORTIONALITY\n",
"\n",
"//Degradation Rate\n",
"Beeta_r=Beeta_o*exp(-Ea/(k*T));\n",
"\n",
"//CW operating lifetime for the given LED\n",
"t=log(Pe_by_Pout)/-Beeta_r;\n",
"\n",
"//Displaying the Result in Command Window\n",
"printf('\n\n\t CW operating lifetime for the given LED is %0.1f X 10^9 h.',t/10^9);"
   ]
   }
],
"metadata": {
		  "kernelspec": {
		   "display_name": "Scilab",
		   "language": "scilab",
		   "name": "scilab"
		  },
		  "language_info": {
		   "file_extension": ".sce",
		   "help_links": [
			{
			 "text": "MetaKernel Magics",
			 "url": "https://github.com/calysto/metakernel/blob/master/metakernel/magics/README.md"
			}
		   ],
		   "mimetype": "text/x-octave",
		   "name": "scilab",
		   "version": "0.7.1"
		  }
		 },
		 "nbformat": 4,
		 "nbformat_minor": 0
}
