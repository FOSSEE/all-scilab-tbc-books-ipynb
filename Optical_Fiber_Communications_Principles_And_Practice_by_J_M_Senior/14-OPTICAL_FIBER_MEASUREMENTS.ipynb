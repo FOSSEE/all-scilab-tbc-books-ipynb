{
"cells": [
 {
		   "cell_type": "markdown",
	   "metadata": {},
	   "source": [
       "# Chapter 14: OPTICAL FIBER MEASUREMENTS"
	   ]
	},
{
		   "cell_type": "markdown",
		   "metadata": {},
		   "source": [
			"## Example 14.1: EX14_1.sce"
		   ]
		  },
  {
"cell_type": "code",
	   "execution_count": null,
	   "metadata": {
	    "collapsed": true
	   },
	   "outputs": [],
"source": [
"//Example 14.1\n",
"//Program to determine the attenuation per kilometer for the fiber \n",
"//and estimate the accuracy of the result\n",
"\n",
"clear;\n",
"clc ;\n",
"close ;\n",
"\n",
"//Given data\n",
"L1=2*10^3;          //metres - INITIAL LENGTH\n",
"L2=2;               //metres - FINAL LENGTH\n",
"V1=2.1;             //volts - INITIAL OUTPUT VOLTAGE\n",
"V2=10.7;            //volts - FINAL OUTPUT VOLTAGE\n",
"\n",
"//Attenuation per Kilometer\n",
"alpha_dB=10/(L1-L2)*log10(V2/V1);\n",
"\n",
"//Uncertainity in measured attenuation\n",
"Uncertainity=0.2/(L1-L2);\n",
"\n",
"//Displaying the Results in Command Window\n",
"printf('\n\n\t Attenuation is %0.1f dB/km.',alpha_dB*10^3);\n",
"printf('\n\n\t Uncertainity in measured attenuation is +-%0.1f dB.',Uncertainity*10^3);"
   ]
   }
,
{
		   "cell_type": "markdown",
		   "metadata": {},
		   "source": [
			"## Example 14.2: Determination_of_the_absorption_loss_for_the_fiber_under_test.sce"
		   ]
		  },
  {
"cell_type": "code",
	   "execution_count": null,
	   "metadata": {
	    "collapsed": true
	   },
	   "outputs": [],
"source": [
"//Example 14.2\n",
"//Program to determine the absorption loss for the fiber under test\n",
"\n",
"clear;\n",
"clc ;\n",
"close ;\n",
"\n",
"//Given data\n",
"t1=10;               //s - INITIAL TIME\n",
"t2=100;              //s - FINAL TIME\n",
"Tinf_minus_Tt1=0.525;//From Figure 14.6\n",
"Tinf_minus_Tt2=0.021;//From Figure 14.6\n",
"C=1.64*10^4;         //J/degree C - THERMAL CAPACITY PER KILOMETER\n",
"Tinf=4.3*10^(-4);    //degree C - MAXIMUM THERMAL TEMPERATURE RISE  \n",
"Popt=98*10^(-3);     //Watt - OPTICAL POWER  \n",
"\n",
"//Time constant for the calorimeter\n",
"tc=(t2-t1)/(log(Tinf_minus_Tt1)-log(Tinf_minus_Tt2));\n",
"\n",
"//Absorption loss of the test fiber\n",
"alpha_abs=C*Tinf/(Popt*tc);\n",
"\n",
"//Displaying the Results in Command Window\n",
"printf('\n\n\t Time constant for the calorimeter is %0.1f s.',tc);\n",
"printf('\n\n\t Absorption loss of the test fiber is %0.1f dB/km.',alpha_abs);"
   ]
   }
,
{
		   "cell_type": "markdown",
		   "metadata": {},
		   "source": [
			"## Example 14.3: Determination_of_the_loss_due_to_scattering_for_the_fiber.sce"
		   ]
		  },
  {
"cell_type": "code",
	   "execution_count": null,
	   "metadata": {
	    "collapsed": true
	   },
	   "outputs": [],
"source": [
"//Example 14.3\n",
"//Program to determine the loss due to scattering for the fiber\n",
"\n",
"clear;\n",
"clc ;\n",
"close ;\n",
"\n",
"//Given data\n",
"Vsc=6.14*10^(-9);              //V - OPTICAL OUTPUT POWER\n",
"Vopt=153.38*10^(-6);           //V - OPTICAL POWER WITHOUT SCATTERING\n",
"l=2.92;                        //cm - LENGTH OF THE FIBER\n",
"\n",
"//Loss due to scattering for the fiber\n",
"alpha_sc=4.343*10^5/l*Vsc/Vopt;\n",
"\n",
"//Displaying the Result in Command Window\n",
"printf('\n\n\t Loss due to scattering for the fiber is %0.1f dB/km.',alpha_sc);"
   ]
   }
,
{
		   "cell_type": "markdown",
		   "metadata": {},
		   "source": [
			"## Example 14.4: Calculation_of_3_dB_Pulse_Broadening_and_Fiber_Bandwidth_Length_product.sce"
		   ]
		  },
  {
"cell_type": "code",
	   "execution_count": null,
	   "metadata": {
	    "collapsed": true
	   },
	   "outputs": [],
"source": [
"//Example 14.4\n",
"//Program to calculate:\n",
"//(a)3 dB Pulse Broadening in ns/km\n",
"//(b)Fiber Bandwidth-Length product\n",
"\n",
"clear;\n",
"clc ;\n",
"close ;\n",
"\n",
"//Given data\n",
"tau_o=12.6;          //ns - 3 dB width of Output Pulse\n",
"tau_i=0.3;           //ns - 3 dB width of Input Pulse\n",
"L=1.2;               //km - LENGTH\n",
"\n",
"//(a)3 dB Pulse Broadening in ns/km\n",
"tau=sqrt(tau_o^2-tau_i^2)/L;\n",
"\n",
"//(b)Fiber Bandwidth-Length product\n",
"Bopt=0.44/tau;\n",
"\n",
"//Displaying the Results in Command Window\n",
"printf('\n\n\t (a)3 dB Pulse Broadening is %0.1f ns/km.',tau);\n",
"printf('\n\n\t (b)Fiber Bandwidth-Length product is %0.1f MHz km.',Bopt*10^3);"
   ]
   }
,
{
		   "cell_type": "markdown",
		   "metadata": {},
		   "source": [
			"## Example 14.5: Calculation_of_the_Numerical_Aperture_of_the_fiber.sce"
		   ]
		  },
  {
"cell_type": "code",
	   "execution_count": null,
	   "metadata": {
	    "collapsed": true
	   },
	   "outputs": [],
"source": [
"//Example 14.5\n",
"//Program to calculate the Numerical Aperture(NA) of the fiber\n",
"\n",
"clear;\n",
"clc ;\n",
"close ;\n",
"\n",
"//Given data\n",
"D=10;                 //cm - SCREEN POSITION\n",
"A=6.2;                //cm - OUTPUT PATTERN SIZE\n",
"\n",
"// Numerical Aperture(NA) of the fiber\n",
"NA=A/sqrt(A^2+4*D^2);\n",
"\n",
"//Displaying The Results in Command Window\n",
"printf('\n\n\t  The Numerical Aperture(NA) of the fiber is %0.2f .',NA);"
   ]
   }
,
{
		   "cell_type": "markdown",
		   "metadata": {},
		   "source": [
			"## Example 14.6: Determination_of_the_outer_diameter_of_the_optical_fiber_in_micrometer.sce"
		   ]
		  },
  {
"cell_type": "code",
	   "execution_count": null,
	   "metadata": {
	    "collapsed": true
	   },
	   "outputs": [],
"source": [
"//Example 14.6\n",
"//Program to determine outer diameter of the optical fiber in micrometer\n",
"\n",
"clear;\n",
"clc ;\n",
"close ;\n",
"\n",
"//Given data\n",
"l=0.1;                //m - MIRROR POSITION\n",
"d_PHI_by_dt=4;        //rad/s - ANGULAR VELOCITY\n",
"We=300*10^(-6);       //us - WIDTH OF SHADOW PULSE\n",
"\n",
"//Outer diameter of the optical fiber\n",
"d0=We*l*d_PHI_by_dt;\n",
"\n",
"//Displaying the Result in Command Window\n",
"printf('\n\n\t  The Outer diameter of the optical fiber is %1.0f um.',d0*10^6);"
   ]
   }
,
{
		   "cell_type": "markdown",
		   "metadata": {},
		   "source": [
			"## Example 14.7: Conversion_of_optical_signal_powers_to_dBm_and_dBu.sce"
		   ]
		  },
  {
"cell_type": "code",
	   "execution_count": null,
	   "metadata": {
	    "collapsed": true
	   },
	   "outputs": [],
"source": [
"//Example 14.7\n",
"//Program to:\n",
"//(a) Convert optical signal powers to dBm\n",
"//(b) Convert optical signal powers to dBu\n",
"\n",
"clear;\n",
"clc ;\n",
"close ;\n",
"\n",
"//(a)Convert optical signal powers to dBm\n",
"Po=5*10^(-3);      //Watt - GIVEN OPTICAL POWER\n",
"dBm=10*log10(Po/1*10^3);\n",
"printf('\n\n\t  (a)The %1.0f mW of optical power is equivalent to %0.2f dBm.',Po/10^(-3), dBm);\n",
"\n",
"Po=20*10^(-6);     //Watt - GIVEN OPTICAL POWER\n",
"dBm=10*log10(Po/1*10^3);\n",
"printf('\n\n\t     The %1.0f uW of optical power is equivalent to %0.2f dBm.',Po/10^(-6), dBm);\n",
"\n",
"//(b)Convert optical signal powers to dBu\n",
"Po=0.03*10^(-3);   //Watt - GIVEN OPTICAL POWER\n",
"dBm=10*log10(Po/1*10^6);\n",
"printf('\n\n\t  (b)The %0.2f mW of optical power is equivalent to %0.2f dBu.',Po/10^(-3), dBm);\n",
"\n",
"Po=800*10^(-9);    //Watt - GIVEN OPTICAL POWER\n",
"dBm=10*log10(Po/1*10^6);\n",
"printf('\n\n\t     The %1.0f nW of optical power is equivalent to %0.2f dBu.',Po/10^(-9), dBm);"
   ]
   }
,
{
		   "cell_type": "markdown",
		   "metadata": {},
		   "source": [
			"## Example 14.8: EX14_8.sce"
		   ]
		  },
  {
"cell_type": "code",
	   "execution_count": null,
	   "metadata": {
	    "collapsed": true
	   },
	   "outputs": [],
"source": [
"//Example 14.8\n",
"//Program to calculate the ratio in dB of back scattered optical \n",
"//power to the forward optical power at the fiber input\n",
"\n",
"clear;\n",
"clc ;\n",
"close ;\n",
"\n",
"//Given data\n",
"NA=0.2;            //NUMERICAL APERTURE\n",
"gamma_r=0.7*10^-3; //per m - RAYLEIGH SCATTERING COEFFICIENT\n",
"Wo=50*10^(-9);     //s - PULSE DURATION\n",
"c=2.998*10^8;      //m/s - VELOCITY OF LIGHT IN VACCUM\n",
"n1=1.5;            //CORE REFRACTIVE INDEX\n",
"\n",
"//Calculated Ratio Pra(0)/Pi\n",
"Pra0_by_Pi=0.5*NA^2*gamma_r*Wo*c/(4*n1^3);\n",
"\n",
"//Displaying the Result in command window\n",
"printf('\n\n\t  Pra(0)/Pi = %0.1f dB.',10*log10(Pra0_by_Pi));"
   ]
   }
],
"metadata": {
		  "kernelspec": {
		   "display_name": "Scilab",
		   "language": "scilab",
		   "name": "scilab"
		  },
		  "language_info": {
		   "file_extension": ".sce",
		   "help_links": [
			{
			 "text": "MetaKernel Magics",
			 "url": "https://github.com/calysto/metakernel/blob/master/metakernel/magics/README.md"
			}
		   ],
		   "mimetype": "text/x-octave",
		   "name": "scilab",
		   "version": "0.7.1"
		  }
		 },
		 "nbformat": 4,
		 "nbformat_minor": 0
}
