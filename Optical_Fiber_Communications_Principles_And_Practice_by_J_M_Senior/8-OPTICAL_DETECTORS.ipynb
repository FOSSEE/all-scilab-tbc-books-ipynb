{
"cells": [
 {
		   "cell_type": "markdown",
	   "metadata": {},
	   "source": [
       "# Chapter 8: OPTICAL DETECTORS"
	   ]
	},
{
		   "cell_type": "markdown",
		   "metadata": {},
		   "source": [
			"## Example 8.1: Determination_of_the_quantum_efficiency_and_responsivity_of_the_photodiode.sce"
		   ]
		  },
  {
"cell_type": "code",
	   "execution_count": null,
	   "metadata": {
	    "collapsed": true
	   },
	   "outputs": [],
"source": [
"//Example 8.1\n",
"//Program to determine the Quantum efficiency and Responsivity of\n",
"//the photodiode\n",
"\n",
"clear;\n",
"clc ;\n",
"close ;\n",
"\n",
"//Given data\n",
"Lambda=0.85*10^-6;               //metres - WAVELENGTH\n",
"e=1.602*10^(-19);                //Coulumbs - CHARGE OF AN ELECTRON\n",
"h= 6.626*10^(-34);               //J/K - PLANK's CONSTANT\n",
"c=2.998*10^8;                    //m/s - VELOCITY OF LIGHT IN VACCUM\n",
"Ne=1.2*10^11;                    //NUMBER OF ELECTRONS COLLECTED\n",
"Np=3*10^11;                      //NUMBER OF INCIDENT PHOTONS\n",
"\n",
"//Quantum Efficiency\n",
"eeta=Ne/Np;\n",
"\n",
"//Responsivity\n",
"R=eeta*e*Lambda/(h*c);\n",
"\n",
"//Displaying the Results in Command Window\n",
"printf('\n\n\t Quantum Efficiency = %0.1f .',eeta);\n",
"printf('\n\n\t Responsivity, R = %0.3f A/W .',R);"
   ]
   }
,
{
		   "cell_type": "markdown",
		   "metadata": {},
		   "source": [
			"## Example 8.2: Determination_of_operating_wavelength_and_incident_optical_power.sce"
		   ]
		  },
  {
"cell_type": "code",
	   "execution_count": null,
	   "metadata": {
	    "collapsed": true
	   },
	   "outputs": [],
"source": [
"//Example 8.2\n",
"//Program to determine:\n",
"//(a)Operating Wavelength\n",
"//(b)Incident Optical Power\n",
"\n",
"clear;\n",
"clc ;\n",
"close ;\n",
"\n",
"//Given data\n",
"eeta=0.65;                       //*100 percent - QUANTUM EFFICIENCY\n",
"e=1.602*10^(-19);                //Coulumbs - CHARGE OF AN ELECTRON\n",
"h=6.626*10^(-34);                //J/K - PLANK's CONSTANT\n",
"c=2.998*10^8;                    //m/s - VELOCITY OF LIGHT IN VACCUM\n",
"Ip=2.5*10^(-6);                  //A - PHOTOCURRENT\n",
"E=1.5*10^(-19);                  //J - ENERGY OF PHOTONS\n",
"\n",
"//(a)Operating Wavelength\n",
"Lambda=h*c/E;\n",
"\n",
"//Responsivity\n",
"R=eeta*e*Lambda/(h*c);\n",
"\n",
"//(b)Incident Optical Power\n",
"Po=Ip/R;\n",
"\n",
"//Displaying the Results in Command Window\n",
"printf('\n\n\t (a)Operating Wavelength = %0.2f um.',Lambda/10^(-6));\n",
"printf('\n\n\t (b)Incident Optical Power = %0.2f uW.',Po/10^(-6));"
   ]
   }
,
{
		   "cell_type": "markdown",
		   "metadata": {},
		   "source": [
			"## Example 8.3: EX8_3.sce"
		   ]
		  },
  {
"cell_type": "code",
	   "execution_count": null,
	   "metadata": {
	    "collapsed": true
	   },
	   "outputs": [],
"source": [
"//Example 8.3\n",
"//Program to determine the wavelength above which an intrinsic \n",
"//photodetector will cease to operate\n",
"\n",
"clear;\n",
"clc ;\n",
"close ;\n",
"\n",
"//Given data\n",
"e=1.602*10^(-19);                //Coulumbs - CHARGE OF AN ELECTRON\n",
"h=6.626*10^(-34);                //J/K - PLANK's CONSTANT\n",
"c=2.998*10^8;                    //m/s - VELOCITY OF LIGHT IN VACCUM\n",
"Eg=1.43*e;                       //V - BANDGAP ENERGY\n",
"\n",
"//Wavelength determination\n",
"Lambda_c=h*c/Eg;\n",
"\n",
"//Displaying the Result in Command Window\n",
"printf('\n\n\t The wavelength above which an intrinsic photodetector will cease to operate is %0.2f um.',Lambda_c/10^(-6));"
   ]
   }
,
{
		   "cell_type": "markdown",
		   "metadata": {},
		   "source": [
			"## Example 8.4: EX8_4.sce"
		   ]
		  },
  {
"cell_type": "code",
	   "execution_count": null,
	   "metadata": {
	    "collapsed": true
	   },
	   "outputs": [],
"source": [
"//Example 8.4\n",
"//Program to determine:\n",
"//(a)Drift time of the carriers\n",
"//(b)Junction capacitance of the photodiode\n",
"\n",
"clear;\n",
"clc ;\n",
"close ;\n",
"\n",
"//Given data\n",
"w=20*10^(-6);           //metre - WIDTH OF INTRINSIC REGION\n",
"r=500*10^(-6);          //metre - RADIUS\n",
"epsilon_s=10.5*10^(-11);//F/m - PERMITTIVITY\n",
"vd=10^5;                //m/s - DRIFT VELOCITY OF ELECTRONS\n",
"\n",
"//(a)Drift time of the carriers\n",
"t_drift=w/vd;\n",
"\n",
"//(b)Junction capacitance of the photodiode\n",
"A=%pi*r^2;\n",
"Cj=epsilon_s*A/w;\n",
"\n",
"//Displaying the Results in Command Window\n",
"printf('\n\n\t (a)Drift time of the carriers is %1.0f ps.',t_drift/10^(-12));\n",
"printf('\n\n\t (b)Junction capacitance of the photodiode is %1.0f pF.',Cj/10^(-12));"
   ]
   }
,
{
		   "cell_type": "markdown",
		   "metadata": {},
		   "source": [
			"## Example 8.5: Determination_of_maximum_response_time_for_the_device.sce"
		   ]
		  },
  {
"cell_type": "code",
	   "execution_count": null,
	   "metadata": {
	    "collapsed": true
	   },
	   "outputs": [],
"source": [
"//Example 8.5\n",
"//Program to determine maximum response time for the device\n",
"\n",
"clear;\n",
"clc ;\n",
"close ;\n",
"\n",
"//Given data\n",
"w=25*10^(-6);           //metre - WIDTH OF DEPLETION REGION\n",
"vd=3*10^4;              //m/s - DRIFT VELOCITY OF CARRIER\n",
"\n",
"//Maximum 3 dB Bandwidth\n",
"Bw=vd/(2*%pi*w);\n",
"\n",
"//Maximum response time\n",
"t=1/Bw;\n",
"\n",
"//Displaying the Result in Command Window\n",
"printf('\n\n\t Maximum response time for the device is %0.1f ns.',t/10^(-9));"
   ]
   }
,
{
		   "cell_type": "markdown",
		   "metadata": {},
		   "source": [
			"## Example 8.6: Calculation_of_noise_equivalent_power_and_specific_detectivity_for_the_device.sce"
		   ]
		  },
  {
"cell_type": "code",
	   "execution_count": null,
	   "metadata": {
	    "collapsed": true
	   },
	   "outputs": [],
"source": [
"//Example 8.6\n",
"//Program to calculate the noise equivalent power and specific \n",
"//detectivity for the device\n",
"\n",
"clear;\n",
"clc ;\n",
"close ;\n",
"\n",
"//Given data\n",
"Id=8*10^(-9);           //A - DARK CURRENT\n",
"eeta=0.55;              //*100 - QUANTUM EFFICIENCY\n",
"Lambda=1.3*10^(-6);     //metre - OPERATING WAVELENGTH\n",
"A=100*50*(10^(-6))^2;   //m^2 - AREA\n",
"e=1.602*10^(-19);       //Coulumbs - CHARGE OF AN ELECTRON\n",
"h= 6.626*10^(-34);      //J/K - PLANK's CONSTANT\n",
"c=2.998*10^8;           //m/s - VELOCITY OF LIGHT IN VACCUM\n",
"\n",
"//Noise equivalent power\n",
"NEP=h*c*sqrt(2*e*Id)/(eeta*e*Lambda);\n",
"\n",
"//Specific detectivity\n",
"D=sqrt(A)/NEP;\n",
"\n",
"//Displaying the Results in Command Window\n",
"printf('\n\n\t Noise equivalent power = %0.2f X 10^(-14) W.',NEP/10^(-14));\n",
"printf('\n\n\t Specific detectivity = %0.1f X 10^8 m H^(1/2)/W.',D/10^(8));"
   ]
   }
,
{
		   "cell_type": "markdown",
		   "metadata": {},
		   "source": [
			"## Example 8.7: Determination_of_the_multiplication_factor_of_the_photodiode.sce"
		   ]
		  },
  {
"cell_type": "code",
	   "execution_count": null,
	   "metadata": {
	    "collapsed": true
	   },
	   "outputs": [],
"source": [
"//Example 8.7\n",
"//Program to determine the multiplication factor of the photodiode\n",
"\n",
"clear;\n",
"clc ;\n",
"close ;\n",
"\n",
"//Given data\n",
"eeta=0.80;                       //*100 percent - QUANTUM EFFICIENCY\n",
"e=1.602*10^(-19);                //Coulumbs - CHARGE OF AN ELECTRON\n",
"h=6.626*10^(-34);                //J/K - PLANK's CONSTANT\n",
"c=2.998*10^8;                    //m/s - VELOCITY OF LIGHT IN VACCUM\n",
"Lambda=0.9*10^(-6);              //metre - OPERATING WAVELENGTH\n",
"I=11*10^(-6);                    //A - OUTPUT CURRENT\n",
"Po=0.5*10^(-6);                  //Watt - INCIDENT OPTICAL POWER\n",
"\n",
"//Responsivity\n",
"R=eeta*e*Lambda/(h*c);\n",
"//Photocurrent\n",
"Ip=Po*R;\n",
"//Multiplication Factor\n",
"M=I/Ip;\n",
"\n",
"//Displaying the Result in Command Window\n",
"printf('\n\n\t The multiplication factor of the photodiode is approximately %1.0f.',M);"
   ]
   }
,
{
		   "cell_type": "markdown",
		   "metadata": {},
		   "source": [
			"## Example 8.8: Determination_of_optical_gain_of_the_device_and_common_emitter_current_gain.sce"
		   ]
		  },
  {
"cell_type": "code",
	   "execution_count": null,
	   "metadata": {
	    "collapsed": true
	   },
	   "outputs": [],
"source": [
"//Example 8.8\n",
"//Program to determine:\n",
"//(a)Optical gain of the device\n",
"//(b)Common emitter current gain\n",
"\n",
"clear;\n",
"clc ;\n",
"close ;\n",
"\n",
"//Given data\n",
"eeta=0.40;                       //*100 percent - QUANTUM EFFICIENCY\n",
"e=1.602*10^(-19);                //Coulumbs - CHARGE OF AN ELECTRON\n",
"h=6.626*10^(-34);                //J/K - PLANK's CONSTANT\n",
"c=2.998*10^8;                    //m/s - VELOCITY OF LIGHT IN VACCUM\n",
"Lambda=1.26*10^(-6);             //metre - OPERATING WAVELENGTH\n",
"Ic=15*10^(-3);                   //A - COLLECTOR CURRENT\n",
"Po=125*10^(-6);                  //Watt - INCIDENT OPTICAL POWER\n",
"\n",
"//(a)Optical Gain\n",
"Go=h*c*Ic/(Lambda*e*Po);\n",
"\n",
"//(b)Common emitter current gain\n",
"h_FE=Go/eeta;\n",
"\n",
"//Displaying the Results in Command Window\n",
"printf('\n\n\t (a)Optical Gain, Go = %0.1f.',Go);\n",
"printf('\n\n\t (b)Common emitter current Gain, h_FE = %0.1f.',h_FE);"
   ]
   }
,
{
		   "cell_type": "markdown",
		   "metadata": {},
		   "source": [
			"## Example 8.9: Determination_of_the_maximum_3_dB_bandwidth_permitted_by_the_device.sce"
		   ]
		  },
  {
"cell_type": "code",
	   "execution_count": null,
	   "metadata": {
	    "collapsed": true
	   },
	   "outputs": [],
"source": [
"//Example 8.9\n",
"//Program to determine the maximum 3 dB bandwidth permitted by the\n",
"//device\n",
"\n",
"clear;\n",
"clc ;\n",
"close ;\n",
"\n",
"//Given data\n",
"tf=5*10^(-12);          //second - ELECTRON TRANSIT TIME\n",
"G=70;                   //PHOTOCONDUCTIVE GAIN\n",
"\n",
"//Maximum 3 dB bandwidth permitted by the MSM\n",
"Bm=1/(2*%pi*tf*G);\n",
"\n",
"//Displaying the Result in Command Window\n",
"printf('\n\n\t Maximum 3 dB bandwidth permitted by the device is %0.1f MHz.',Bm/10^6);"
   ]
   }
],
"metadata": {
		  "kernelspec": {
		   "display_name": "Scilab",
		   "language": "scilab",
		   "name": "scilab"
		  },
		  "language_info": {
		   "file_extension": ".sce",
		   "help_links": [
			{
			 "text": "MetaKernel Magics",
			 "url": "https://github.com/calysto/metakernel/blob/master/metakernel/magics/README.md"
			}
		   ],
		   "mimetype": "text/x-octave",
		   "name": "scilab",
		   "version": "0.7.1"
		  }
		 },
		 "nbformat": 4,
		 "nbformat_minor": 0
}
