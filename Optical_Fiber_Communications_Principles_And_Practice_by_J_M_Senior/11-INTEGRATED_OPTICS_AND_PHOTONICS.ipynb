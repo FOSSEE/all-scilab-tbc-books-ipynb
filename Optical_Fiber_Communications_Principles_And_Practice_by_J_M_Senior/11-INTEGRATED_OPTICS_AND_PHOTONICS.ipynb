{
"cells": [
 {
		   "cell_type": "markdown",
	   "metadata": {},
	   "source": [
       "# Chapter 11: INTEGRATED OPTICS AND PHOTONICS"
	   ]
	},
{
		   "cell_type": "markdown",
		   "metadata": {},
		   "source": [
			"## Example 11.1: Determination_of_Voltage_required_to_provide_pi_radians_phase_change.sce"
		   ]
		  },
  {
"cell_type": "code",
	   "execution_count": null,
	   "metadata": {
	    "collapsed": true
	   },
	   "outputs": [],
"source": [
"//Example 11.1\n",
"//Program to determine the Voltage required for a phase change of \n",
"//pi radians\n",
"\n",
"clear;\n",
"clc ;\n",
"close ;\n",
"\n",
"//Given data\n",
"L=2*10^-2;            //metres - LENGTH OF THE WAVEGUIDE\n",
"Lambda=1.3*10^-6;     //metres - WAVELENGTH\n",
"d=25*10^-6;           //metres - DISTANCE BETWEEN THE ELECTRODES\n",
"r=30.8*10^-12;        //m/V    - ELECTRO-OPTIC COEFFICIENT\n",
"n1=2.1;               //REFRACTIVE INDEX AT 1.3um WAVELENGTH\n",
"\n",
"//Calculation of the Voltage required for a phase change of pi radians\n",
"V_pi=(Lambda*d)/((n1^3)*r*L);\n",
"\n",
"//Displaying the Result in Command Window\n",
"printf('\n\n\t Voltage required for a phase change of pi radians is %0.1f V.',V_pi);"
   ]
   }
,
{
		   "cell_type": "markdown",
		   "metadata": {},
		   "source": [
			"## Example 11.2: Determination_of_Corrugation_Period_and_Filter_3dB_Bandwidth.sce"
		   ]
		  },
  {
"cell_type": "code",
	   "execution_count": null,
	   "metadata": {
	    "collapsed": true
	   },
	   "outputs": [],
"source": [
"//Example 11.2\n",
"//Program to determine Corrugation Period and Filter's 3dB Bandwidth\n",
"\n",
"clear;\n",
"clc ;\n",
"close ;\n",
"\n",
"//Given data\n",
"L=1*10^-2;            //metres - LENGTH OF THE DEVICE\n",
"Lambda_B=1.52*10^-6;  //metres - CENTRE WAVELENGTH\n",
"Theeta=1;             //Degree - INCIDENT ANGLE\n",
"n1=3.1;               //REFRACTIVE INDEX of InGaAsP\n",
"\n",
"//Calculation of Effective Refractive Index of the Waveguide\n",
"ne=n1*sin(2*Theeta*%pi/180);\n",
"\n",
"//Calculation of the Corrugation Period\n",
"D=(Lambda_B)/(2*ne);\n",
"\n",
"//Calculation of the Filter's 3dB Bandwidth\n",
"delta_Lambda=(D*Lambda_B)/L;\n",
"\n",
"//Displaying the Results in Command Window\n",
"printf('\n\n\t Corrugation Period of the First Order Grating is %0.1f um.',D/10^-6);\n",
"printf('\n\n\t Filters 3dB Bandwidth is %0.1f Armstrong.',delta_Lambda/10^-10);"
   ]
   }
,
{
		   "cell_type": "markdown",
		   "metadata": {},
		   "source": [
			"## Example 11.3: Design_of_a_wavelength_channel_plan_for_a_dense_WDM_Interleaver_Waveband_Filter.sce"
		   ]
		  },
  {
"cell_type": "code",
	   "execution_count": null,
	   "metadata": {
	    "collapsed": true
	   },
	   "outputs": [],
"source": [
"//Example 11.3\n",
"//Program to design a wavelength channel plan for an 8 band, 32 \n",
"//channel dense WDM Interleaver Waveband Filter. Also to determine:\n",
"//(a)Total No. of channel required for each interleaver band filter\n",
"//(b)The overall bandwidth of the filter in each case\n",
"\n",
"clear;\n",
"clc ;\n",
"close ;\n",
"\n",
"//Given data\n",
"number_of_bands=8;          \n",
"M=4;               //TOTAL NUMBER OF CHANNELS IN EACH BAND\n",
"\n",
"//(a)Total No. of channel required for each interleaver band filter \n",
"//(i)N=0\n",
"N=0;\n",
"Cskip0=(number_of_bands-1)*N;\n",
"Ctotal0=number_of_bands*M+Cskip0;\n",
"//Displaying the Result in Command Window\n",
"printf('\n\n\t (a)(i)For 4-skip-0, Ctotal = %d.',Ctotal0);\n",
"\n",
"//(ii)N=1\n",
"N=1;\n",
"Cskip1=(number_of_bands-1)*N;\n",
"Ctotal1=number_of_bands*M+Cskip1;\n",
"//Displaying the Result in Command Window\n",
"printf('\n\n\t   (ii)For 4-skip-1, Ctotal = %d.',Ctotal1);\n",
"\n",
"//(iii)N=2\n",
"N=2;\n",
"Cskip2=(number_of_bands-1)*N;\n",
"Ctotal2=number_of_bands*M+Cskip2;\n",
"//Displaying the Result in Command Window\n",
"printf('\n\n\t  (iii)For 4-skip-2, Ctotal = %d.',Ctotal2);\n",
"\n",
"//Generation of Table 11.1\n",
"printf('\n\n\t\t TABLE 11.1:WAVELENFTH CHANNEL PLAN');\n",
"W1=1552.52;         //nm - WAVELENGTH FOR 1 CHANNEL\n",
"printf('\n\n\t\t (i)4-skip-0');\n",
"for i = 0:Ctotal0-1\n",
"printf('\n\t Number of Channels = %d, Wavelength = %0.2f nm.',i+1,W1+0.8*i);\n",
"end\n",
"printf('\n\n\t\t (ii)4-skip-1');\n",
"for i = 0:Ctotal1-1\n",
"printf('\n\t Number of Channels = %d, Wavelength = %0.2f nm.',i+1,W1+0.8*i);\n",
"end\n",
"printf('\n\n\t\t (iii)4-skip-2');\n",
"for i = 0:Ctotal2-1\n",
"printf('\n\t Number of Channels = %d, Wavelength = %0.2f nm.',i+1,W1+0.8*i);\n",
"end\n",
"\n",
"//(b)The overall bandwidth of the filter in each case taking values \n",
"//from Table 11.1\n",
"//(i)N=0\n",
"W2=1577.32;         //nm - WAVELENGTH FOR 32 CHANNELS\n",
"BW=W2-W1;\n",
"//Displaying the Result in Command Window\n",
"printf('\n\n\n\t (b)(i)For 4-skip-0, Filter Bandwidth = %0.1f nm.',BW);\n",
"\n",
"//(ii)N=1\n",
"W2=1582.92;         //nm - WAVELENGTH FOR 39 CHANNELS\n",
"BW=W2-W1;\n",
"//Displaying the Result in Command Window\n",
"printf('\n\n\t   (ii)For 4-skip-1, Filter Bandwidth = %0.1f nm.',BW);\n",
"\n",
"//(iii)N=2\n",
"W2=1588.52;         //nm - WAVELENGTH FOR 46 CHANNELS\n",
"BW=W2-W1;\n",
"//Displaying the Result in Command Window\n",
"printf('\n\n\t  (iii)For 4-skip-2, Filter Bandwidth = %0.1f nm.',BW);"
   ]
   }
],
"metadata": {
		  "kernelspec": {
		   "display_name": "Scilab",
		   "language": "scilab",
		   "name": "scilab"
		  },
		  "language_info": {
		   "file_extension": ".sce",
		   "help_links": [
			{
			 "text": "MetaKernel Magics",
			 "url": "https://github.com/calysto/metakernel/blob/master/metakernel/magics/README.md"
			}
		   ],
		   "mimetype": "text/x-octave",
		   "name": "scilab",
		   "version": "0.7.1"
		  }
		 },
		 "nbformat": 4,
		 "nbformat_minor": 0
}
