{
"cells": [
 {
		   "cell_type": "markdown",
	   "metadata": {},
	   "source": [
       "# Chapter 12: OPTICAL FIBER SYSTEMS 1 INTENSITY MODULATION AND DIRECT DETECTION"
	   ]
	},
{
		   "cell_type": "markdown",
		   "metadata": {},
		   "source": [
			"## Example 12.10: Estimation_of_ratio_of_SNR_of_the_coaxial_system_to_the_SNR_of_the_fiber_system.sce"
		   ]
		  },
  {
"cell_type": "code",
	   "execution_count": null,
	   "metadata": {
	    "collapsed": true
	   },
	   "outputs": [],
"source": [
"//Example 12.10\n",
"//Program to estimate ratio of SNR of the coaxial system to the SNR\n",
"//of the fiber system\n",
"\n",
"clear;\n",
"clc ;\n",
"close ;\n",
"\n",
"//Given data\n",
"V=5;                  //volts - TRANSMITTER PEAK OUTPUT VOLTAGE\n",
"Zo=100;               //ohms - CABLE IMPEDANCE\n",
"T=290;                //Kelvin - OPERATING TEMPERATURE\n",
"lambda=0.85*10^(-6);  //metre - WAVELENGTH\n",
"K=1.38*10^(-23);      //J/K - BOLTZMANN's CONSTANT\n",
"n=0.7;                //(*100) percent - QUANTUM EFFICIENCY\n",
"Pi=1*10^(-3);         //Watts - OPTICAL POWER\n",
"h=6.626*10^(-34);     //(m^2)Kg/s - PLANK's CONSTANT\n",
"c=2.998*10^8;         //m/s - SPEED OF LIGHT \n",
"\n",
"//Ratio SNR(coax)/SNR(fiber)\n",
"Ratio=V^2*h*c/(2*K*T*Zo*n*Pi*lambda);\n",
"\n",
"//Displaying the Result in Command Window\n",
"printf('\n\n\t SNR(coax)/SNR(fiber) = %d dB.',10*log10(Ratio));"
   ]
   }
,
{
		   "cell_type": "markdown",
		   "metadata": {},
		   "source": [
			"## Example 12.11: Determination_of_the_average_incident_optical_power_required_at_the_receiver.sce"
		   ]
		  },
  {
"cell_type": "code",
	   "execution_count": null,
	   "metadata": {
	    "collapsed": true
	   },
	   "outputs": [],
"source": [
"//Example 12.11\n",
"//Program to determine the average incident optical power required at \n",
"//the receiver \n",
"\n",
"clear;\n",
"clc ;\n",
"close ;\n",
"\n",
"//Given data\n",
"k=1.38*10^(-23);         //J/K - BOLTZMANN's CONSTANT\n",
"e=1.602*10^(-19);        //Coulumbs - CHARGE OF AN ELECTRON\n",
"SNR_dB=55;               //dB - SIGNAL POWER TO RMS NOISE RATIO\n",
"ma=0.8;                  //MODULATION INDEX\n",
"Id=0;                    //A - DARK CURRENT\n",
"T=293;                   //K - OPERATING TEMPERATURE\n",
"B=5*10^6;                //Hz - BANDWIDTH\n",
"Fn_dB=1.5;               //dB - NOISE FIGURE\n",
"Rl=1*10^6;               //Ohms - EFFECTIVE INPUT IMPEDANCE\n",
"R=0.5;                   //A/W - RESPONSIVITIY\n",
"b=0.7;                   //RATIO OF LUMINANCE TO COMPOSITE VIDEO\n",
"SNR=10^(SNR_dB/10);\n",
"Fn=10^(Fn_dB/10);\n",
"\n",
"//Photo-current, Ip=R*Po Ip=Po*R;\n",
"//(SNR)p-p=(2*ma*Ip*b)^2/(2*e*B*(Ip+Id)+(4*k*T*B*Fn/Rl));\n",
"//Rearranging and solving the quadratic equation, Incident Power\n",
"Po=((SNR*2*e*B*R)+sqrt((SNR*2*e*B*R)^2-4*(2*ma*R*b)^2*(SNR*(-4*k*T*B*Fn/Rl))))/(2*(2*ma*R*b)^2);\n",
"\n",
"//Displaying the Result in Command Window\n",
"printf('\n\n\t The average incident optical power required at the receiver is %0.2f uW or %0.1f dBm.',Po/10^(-6),10*log10(Po/10^(-3)));"
   ]
   }
,
{
		   "cell_type": "markdown",
		   "metadata": {},
		   "source": [
			"## Example 12.12: EX12_12.sce"
		   ]
		  },
  {
"cell_type": "code",
	   "execution_count": null,
	   "metadata": {
	    "collapsed": true
	   },
	   "outputs": [],
"source": [
"//Example 12.12\n",
"//Program to determine the average incident optical power required to \n",
"//maintain given SNR\n",
"\n",
"clear;\n",
"clc ;\n",
"close ;\n",
"\n",
"//Given data\n",
"Lambda=1*10^(-6);                //metre - WAVELENGTH \n",
"h= 6.626*10^(-34);               //J/K - PLANK's CONSTANT\n",
"c=2.998*10^8;                    //m/s - VELOCITY OF LIGHT IN VACCUM\n",
"k=1.38*10^(-23);                 //J/K - BOLTZMANN's CONSTANT\n",
"e=1.602*10^(-19);                //Coulumbs - CHARGE OF AN ELECTRON\n",
"eeta=0.6;                        //*100 percent - QUANTUM EFFICIENCY\n",
"SNR_dB=45;                       //dB - CURRENT SNR\n",
"Rl=50*10^3;                      //Ohms - EFFECTIVE LOAD IMPEDANCE\n",
"T=300;                           //K - OPERATING TEMPERATURE\n",
"ma=0.5;                          //MODULATION INDEX\n",
"Fn_dB=6;                         //dB - NOISE FIGURE\n",
"B=10*10^6;                       //Hz - POST DETECTION BANDWIDTH\n",
"\n",
"SNR=10^(SNR_dB/10);\n",
"Fn=10^(Fn_dB/10);\n",
"\n",
"//Average incident optical power required to maintain given SNR\n",
"Po=h*c/(e*eeta*ma^2*Lambda)*sqrt(8*k*T*Fn/Rl)*sqrt(SNR*B);\n",
"\n",
"//Displaying the Result in Command Window\n",
"printf('\n\n\t The average incident optical power required at the receiver is %0.2f uW or %0.1f dBm.',Po/10^(-6),10*log10(Po/10^(-3)));"
   ]
   }
,
{
		   "cell_type": "markdown",
		   "metadata": {},
		   "source": [
			"## Example 12.13: EX12_13.sce"
		   ]
		  },
  {
"cell_type": "code",
	   "execution_count": null,
	   "metadata": {
	    "collapsed": true
	   },
	   "outputs": [],
"source": [
"//Example 12.13\n",
"//Program to:\n",
"//(a)Determine the viability of optical power budget\n",
"//(b)Estimate any possible increase in link length\n",
"\n",
"clear;\n",
"clc ;\n",
"close ;\n",
"\n",
"//Given data\n",
"L=2;                      //km - OPTICAL FIBER LINK LENGTH\n",
"alpha_fc=3.5;             //dB/km - CABLE FIBER LOSS \n",
"alpha_j=0.7;              //dB/km - SPLICE LOSS\n",
"alpha_cr=1.6;             //dB - CONNECTOR LOSS AT RECEIVER\n",
"Ma=4;                     //dB - REQUIRED SAFETY MARGIN\n",
"Pr_dBm=-25;               //dBm - RECEIVER SENSITIVITY\n",
"Pi_dBm=-10;               //dBm - POWER LAUNCHED\n",
"\n",
"//Total System Margin\n",
"Total_system_margin=Pi_dBm-Pr_dBm;\n",
"printf('\n\n\t (a)Total System Margin is %0.1f dB.',Total_system_margin);\n",
"\n",
"//Total System Loss\n",
"Total_system_loss=L*alpha_fc+L*alpha_j+alpha_cr+Ma;\n",
"printf('\n\n\t    Total System Loss is %0.1f dB.',Total_system_loss);\n",
"\n",
"//Excess Power margin\n",
"Excess_power_margin=Total_system_margin-Total_system_loss;\n",
"printf('\n\n\t    Excess Power margin is %0.1f dB.',Excess_power_margin);\n",
"\n",
"//(a)Testing Viability\n",
"if Excess_power_margin >=0 then\n",
"printf('\n\n\t    The system is viable.');\n",
"else\n",
"printf('\n\n\t    The system is not viable.');\n",
"end\n",
"\n",
"//(b)Maximum possible link length\n",
"Pi=0;                     //dBm - LAUNCHED POWER\n",
"Po=-25;                   //dBm - REQUIRED POWER BY APD\n",
"Ma=7;                     //dB - SAFETY MARGIN\n",
"//Optical budget: Pi-Po=(alpha_fc+alpha_j)L+alpha_cr+Ma\n",
"L1=(Pi-Po-alpha_cr-Ma)/(alpha_fc+alpha_j);\n",
"printf('\n\n\t (b)Maximum possible increase in link length is %0.1f km.',L1-L);"
   ]
   }
,
{
		   "cell_type": "markdown",
		   "metadata": {},
		   "source": [
			"## Example 12.14: EX12_14.sce"
		   ]
		  },
  {
"cell_type": "code",
	   "execution_count": null,
	   "metadata": {
	    "collapsed": true
	   },
	   "outputs": [],
"source": [
"//Example 12.14\n",
"//Program to determine whether the combination of components gives\n",
"//an adequate temporal response\n",
"\n",
"clear;\n",
"clc ;\n",
"close ;\n",
"\n",
"//Given data\n",
"L=5;                             //km - LENGTH OF FIBER LINK\n",
"Ts=10*10^(-9);                   //s - SOURCE RISE TIME\n",
"Dn=9*10^(-9);                    //s/km - INTERMODAL RISE TIME\n",
"Dc=2*10^(-9);                    //s/km - CHROMATIC RISE TIME\n",
"Td=3*10^(-9);                    //s - DETECTOR RISE TIME\n",
"Bopt=6*10^6;                     //Hz - REQUIRED OPTICAL BANDWIDTH\n",
"\n",
"Tn=Dn*L;\n",
"Tc=Dc*L;\n",
"\n",
"//Maximum permitted rise time\n",
"Tsyst_max=0.35/Bopt;\n",
"\n",
"//Total system rise time\n",
"Tsyst=1.1*sqrt(Ts^2+Tn^2+Tc^2+Td^2);\n",
"\n",
"//Displaying the Results in Command Window\n",
"printf('\n\n\t Maximum permitted rise time, Tsyst(max) = %0.1f ns.',Tsyst_max/10^(-9));\n",
"printf('\n\n\t Total system rise time, Tsyst = %0.1f ns.',Tsyst/10^(-9));\n",
"printf('\n\n\t Hence system gives adequate temporal response.');"
   ]
   }
,
{
		   "cell_type": "markdown",
		   "metadata": {},
		   "source": [
			"## Example 12.15: EX12_15.sce"
		   ]
		  },
  {
"cell_type": "code",
	   "execution_count": null,
	   "metadata": {
	    "collapsed": true
	   },
	   "outputs": [],
"source": [
"//Example 12.15\n",
"//Note: MAXIMA SCILAB TOOLBOX REQUIRED FOR THIS PROGRAM\n",
"//Program to:\n",
"//(a)Derive an expression for the improvement in post detection SNR\n",
"//(b)Determine the improvement in post detection SNR and Bandwidth\n",
"\n",
"clear;\n",
"clc ;\n",
"close ;\n",
"\n",
"//(a)Derive an expression for the improvement in post detection SNR\n",
"//Symbolic Representation\n",
"syms Pa R Po Ba No Df\n",
"//D-IM OUTPUT SNR\n",
"SNR_DIM=(R*Po)^2*Pa/(2*Ba*No);\n",
"//FM OUTPUT SNR\n",
"SNR_FM=3*Df^2*(R*Po)^2*Pa/(4*Ba*No);\n",
"//SNR IMPROVEMENT\n",
"SNR_imp=SNR_FM/SNR_DIM;\n",
"//SNR IMPROVEMENT IN dB\n",
"SNR_imp_dB=10*log10(SNR_imp);\n",
"disp(SNR_imp,'SNR IMPROVEMENT = ');\n",
"disp(SNR_imp_dB,'SNR IMPROVEMENT IN dB = ');\n",
"printf('\n\n\t The above expression is equivalent to 1.76+20*log10(Df)');\n",
"\n",
"//(b)Determine the improvement in post detection SNR and Bandwidth\n",
"//Given data\n",
"fd1=400*10^3;                //Hz - PEAK FREQUENCY DEVIATION\n",
"Ba1=4*10^3;                  //Hz- BANDWIDTH\n",
"//Frequency Deviation Ratio\n",
"Df1=fd1/Ba1;\n",
"//SNR Improvement expression from part(a)\n",
"SNR_imp_dB1=1.76+20*log10(Df1);\n",
"//Bandwidth\n",
"Bm=2*(Df1+1)*Ba1;\n",
"printf('\n\n\t The SNR Improvement = %0.2f dB.',SNR_imp_dB1);\n",
"printf('\n\n\t The Bandwidth of FM-IM, Bm = %1.0f kHz.',Bm/10^3);"
   ]
   }
,
{
		   "cell_type": "markdown",
		   "metadata": {},
		   "source": [
			"## Example 12.16: Program_to_determine_the_ratio_of_SNRs_of_FM_IM_and_PM_IM_systems.sce"
		   ]
		  },
  {
"cell_type": "code",
	   "execution_count": null,
	   "metadata": {
	    "collapsed": true
	   },
	   "outputs": [],
"source": [
"//Example 12.16\n",
"//Note: MAXIMA SCILAB TOOLBOX REQUIRED FOR THIS PROGRAM\n",
"//Program to determine the ratio of SNRs of FM-IM and PM-IM systems\n",
"\n",
"clear;\n",
"clc ;\n",
"close ;\n",
"\n",
"//Symbolic representation\n",
"syms fd Pa R Po Ac Ba No\n",
"\n",
"//FOR FM-IM \n",
"Df=fd/Ba;   //Frequency Deviation\n",
"SNR_FM=3*Df^2*Pa*(R*Po)^2*Ac^2/2/(2*Ba*No);\n",
"\n",
"//FOR PM-IM\n",
"Dp=fd/Ba;   //Frequency Deviation\n",
"SNR_PM=Df^2*Pa*(R*Po)^2*Ac^2/2/(2*Ba*No);\n",
"\n",
"//Determining Ratio\n",
"Ratio=SNR_FM/SNR_PM;\n",
"\n",
"//Displaying the Result in Command Window\n",
"disp(Ratio,' SNR_FM/SNR_PM = ');"
   ]
   }
,
{
		   "cell_type": "markdown",
		   "metadata": {},
		   "source": [
			"## Example 12.17: EX12_17.sce"
		   ]
		  },
  {
"cell_type": "code",
	   "execution_count": null,
	   "metadata": {
	    "collapsed": true
	   },
	   "outputs": [],
"source": [
"//Example 12.17\n",
"//Program to calculate:\n",
"//(a)The optimium receiver bandwidth\n",
"//(b)The peak to peak signal power to rms noise ratio\n",
"\n",
"clear;\n",
"clc ;\n",
"close ;\n",
"\n",
"//Given data\n",
"Tr=12*10^(-9);              //s - SYSTEM RISE TIME\n",
"fo=20*10^6;                 //Hz - NOMINAL PULSE RATE\n",
"fd=5*10^6;                  //Hz - PEAK TO PEAK FREQUECY DEVIATION\n",
"M=60;                       //APD MULTIPLICATION FACTOR\n",
"R=0.7;                      //APD RESPONSIVITY\n",
"B=6*10^6;                   //Hz - BASEBAND NOISE BANDWIDTH\n",
"Ppo=10^(-7);                //Watt - PEAK OPTICAL POWER\n",
"in_sq_bar=10^(-17);         //A^2 - RECEIVER MEAN SQUARE NOISE CURRENT\n",
"\n",
"//(a)The optimium receiver bandwidth\n",
"Bopt=1/Tr;\n",
"To=1/fo;\n",
"\n",
"//(b)The peak to peak signal power to rms noise ratio\n",
"SNR=3*(To*fd*M*R*Ppo)^2/((2*%pi*Tr*B)^2*in_sq_bar);\n",
"\n",
"//Displaying the Results in Command Window\n",
"printf('\n\n\t (a)The optimium receiver bandwidth is %0.1f MHz.',Bopt/10^6);\n",
"printf('\n\n\t (b)The peak to peak signal power to rms noise ratio is %0.1f dB.',10*log10(SNR));"
   ]
   }
,
{
		   "cell_type": "markdown",
		   "metadata": {},
		   "source": [
			"## Example 12.18: EX12_18.sce"
		   ]
		  },
  {
"cell_type": "code",
	   "execution_count": null,
	   "metadata": {
	    "collapsed": true
	   },
	   "outputs": [],
"source": [
"//Example 12.18\n",
"//Program to form  comparision showing total channel loss against \n",
"//number of nodes for:\n",
"//(i)Bus Distribution System\n",
"//(ii)Star Distribution System\n",
"\n",
"clear;\n",
"clc ;\n",
"close ;\n",
"\n",
"//Given data\n",
"alpha_cr=1;                     //dB - CONNECTOR LOSS\n",
"alpha_fc=5;                     //dB/km - FIBER CABLE LOSS\n",
"L_bu=0.1                        //m - FIBER LENGTH\n",
"L_tr=10;                        //dB - ACCESS COUPLER TAP RATIO\n",
"L_sp=3;                         //dB - SPLITTER LOSS\n",
"L_ac=1;                         //dB - ACCESS COUPLER INSERTION LOSS\n",
"L_st=0.1;                       //m - TOTAL FIBER LENGTH IN STAR ARMS \n",
"L_ex=0;                         //dB - STAR COUPLER EXCESS LOSS\n",
"\n",
"//Bus Distribution System\n",
"N=0:0.01:11;\n",
"Cl_bus=2*alpha_cr+(N-1)*alpha_fc*L_bu+(2*alpha_cr+L_ac)*(N-3)+(2*alpha_cr+L_tr)+L_sp+alpha_cr;\n",
"Hm=abs(Cl_bus);\n",
"figure;\n",
"plot2d(N,Hm,2);\n",
"\n",
"//Star Distribution System\n",
"N=1:0.01:30;\n",
"Cl_star=4*alpha_cr+alpha_fc*L_st+10*log10(N)+L_ex;\n",
"Hm=abs(Cl_star);\n",
"plot2d(N,Hm,5);\n",
"xlabel('Number of Nodes N');\n",
"ylabel('Total Channel Loss Cl(dB)');\n",
"title('CHARACTERISTICS FOR TWO DISTRIBUTION SYSTEMS (BUS AND STAR)');\n",
"xgrid (1);\n",
"h=legend(['LINEAR BUS';'STAR']);"
   ]
   }
,
{
		   "cell_type": "markdown",
		   "metadata": {},
		   "source": [
			"## Example 12.19: Estimation_of_the_maximum_system_length_for_satisfactory_performance.sce"
		   ]
		  },
  {
"cell_type": "code",
	   "execution_count": null,
	   "metadata": {
	    "collapsed": true
	   },
	   "outputs": [],
"source": [
"//Example 12.19\n",
"//Program to estimate the maximum system length for satisfactory \n",
"//performance\n",
"\n",
"clear;\n",
"clc ;\n",
"close ;\n",
"\n",
"//Given data\n",
"SNR_dB=17;              //dB - REQUIRED SNR\n",
"L=100*10^3;             //metre - INTERVAL SPACING\n",
"K=4;                    //FOR AMPLIFIER\n",
"h= 6.626*10^(-34);      //J/K - PLANK's CONSTANT\n",
"c=2.998*10^8;           //m/s - VELOCITY OF LIGHT IN VACCUM\n",
"B=1.2*10^(9);           //bit/s - TRANSMISSION RATE\n",
"Pi_dBm=0;               //dBm - INPUT POWER\n",
"Lambda=1.55*10^(-6);    //metre - OPERATING WAVELENGTH\n",
"alpha_fc=0.22;          //dB/km - FIBER CABLE ATTENUATION\n",
"alpha_j=0.03;           //dB/km - SPLICE LOSS\n",
"\n",
"//Calculation of SNR and Pi\n",
"SNR=10^(SNR_dB/10);\n",
"Pi=10^(Pi_dBm/10)*10^(-3);\n",
"\n",
"//Maximum system length\n",
"Lto=(Pi*Lambda*10^(-(alpha_fc+alpha_j)*L/10/10^3)/(K*h*c*B))/SNR*L;\n",
"\n",
"//Displaying the Result in Command Window\n",
"printf('\n\n\t Maximum system length for satisfactory performance is %1.0f X 10^4 km.',Lto/10^7);"
   ]
   }
,
{
		   "cell_type": "markdown",
		   "metadata": {},
		   "source": [
			"## Example 12.1: Determination_of_bit_rate_and_duration_of_a_Time_slot_Frame_and_Multiframe.sce"
		   ]
		  },
  {
"cell_type": "code",
	   "execution_count": null,
	   "metadata": {
	    "collapsed": true
	   },
	   "outputs": [],
"source": [
"//Example 12.1\n",
"//Program to determine:\n",
"//(a)Bit rate for the system\n",
"//(b)The duration of a time slot\n",
"//(c)The duration of a frame and multiframe\n",
"\n",
"clear;\n",
"clc ;\n",
"close ;\n",
"\n",
"//Given data\n",
"f=8*10^3;            //Hz - SAMPLING RATE\n",
"b=8;                 //bits - SAMPLE SIZE\n",
"T=32;                //NUMBER OF TIME SLOTS\n",
"\n",
"//(a)Bit rate for the system\n",
"Number_of_bits=T*b;\n",
"Bit_rate=f*Number_of_bits\n",
"//(b)The duration of a time slot\n",
"Bit_duration=1/Bit_rate;\n",
"Slot_duration=b*Bit_duration;\n",
"//(c)The duration of a frame and multiframe\n",
"Duration_of_frame=T*Slot_duration;\n",
"Duration_of_multiframe=T/2*Duration_of_frame;\n",
"\n",
"//Displaying The Results in Command Window\n",
"printf('\n\n\t  (a)Bit rate for the system is %0.3f Mbit/s.',Bit_rate/10^6);\n",
"printf('\n\n\t  (b)The duration of a time slot is %0.1f us.',Slot_duration/10^(-6));\n",
"printf('\n\n\t  (c)The duration of a frame is %1.0f us and multiframe is %1.0f ms.',Duration_of_frame/10^(-6),Duration_of_multiframe/10^(-3));"
   ]
   }
,
{
		   "cell_type": "markdown",
		   "metadata": {},
		   "source": [
			"## Example 12.20: Obtain_an_expression_for_the_total_noise_figure_for_the_system.sce"
		   ]
		  },
  {
"cell_type": "code",
	   "execution_count": null,
	   "metadata": {
	    "collapsed": true
	   },
	   "outputs": [],
"source": [
"//Example 12.20\n",
"//Note: MAXIMA SCILAB TOOLBOX REQUIRED FOR THIS PROGRAM\n",
"//Program to obtain an expression for the total noise figure for the\n",
"//system\n",
"\n",
"clear;\n",
"clc ;\n",
"close ;\n",
"\n",
"//Symbolic representation\n",
"syms F G k M;\n",
"\n",
"//Given data\n",
"//F_to = F1*G1 + F2*G2 + F3*G3 +......+ FM*GM\n",
"//For Identical Repeaters : \n",
"//F1*G1 = F2*G2 = F3*G3 =......= FM*GM = F*G(say)\n",
"x=F*G;\n",
"F_to = symsum(x,k,1,M);\n",
"\n",
"//Displaying The Results in Command Window\n",
"disp (F_to,'TOTAL NOISE FIGURE: F_to = ');\n",
"disp ('At the output from the first amplifier repeater, a degradation in SNR of F*G occurs followed by a decrease of 1/M');"
   ]
   }
,
{
		   "cell_type": "markdown",
		   "metadata": {},
		   "source": [
			"## Example 12.21: EX12_21.sce"
		   ]
		  },
  {
"cell_type": "code",
	   "execution_count": null,
	   "metadata": {
	    "collapsed": true
	   },
	   "outputs": [],
"source": [
"//Example 12.21\n",
"//Program to :\n",
"//(a)Calculate second order dispersion coefficient for L1\n",
"//(b)Determine the dispersion slope for L2\n",
"//(c)Verify that periodic dispersion management map will provide\n",
"//sufficient coincidence to facilitate reliable DWDM transmission\n",
"\n",
"clear;\n",
"clc ;\n",
"close ;\n",
"\n",
"//Given data\n",
"L1=160;              //km - PATH LENGTH\n",
"L2=20;               //km - PATH LENGTH\n",
"\n",
"//(a)To calculate second order dispersion coefficient for L1\n",
"Beeta22=17;          //ps/nm/km - 2nd ORDER DISPERSION COEFF. FOR L2\n",
"Beeta21=-Beeta22*L2/L1;\n",
"printf('\n\n\t(a)The second order dispersion coefficient for L1 is %0.3f ps/nm/km',Beeta21);\n",
"\n",
"//(b)To determine the dispersion slope for L2\n",
"S1=0.075;            //ps/nm^2/km - DISPERSION SLOPE FOR L1\n",
"S2=-S1*L1/L2;\n",
"printf('\n\n\t(b)The dispersion slope for L2 is %0.1f ps/nm^2/km',S2);\n",
"\n",
"//(c)To verify that periodic dispersion management map will provide\n",
"//sufficient coincidence to facilitate reliable DWDM transmission\n",
"OP=S1*(L1/L2)+S1*(Beeta22/Beeta21);\n",
"if OP==0 then\n",
"printf('\n\n\t(c)Periodic dispersion management map will provide sufficient coincidence to facilitate reliable DWDM transmission as S1(L1/L2)+S1(Beeta22/Beeta21)=0');\n",
"else\n",
"printf('\n\n\t(c)Periodic dispersion management map will not provide sufficient coincidence to facilitate reliable DWDM transmission as S1(L1/L2)+S1(Beeta22/Beeta21)!=0');\n",
"end"
   ]
   }
,
{
		   "cell_type": "markdown",
		   "metadata": {},
		   "source": [
			"## Example 12.22: EX12_22.sce"
		   ]
		  },
  {
"cell_type": "code",
	   "execution_count": null,
	   "metadata": {
	    "collapsed": true
	   },
	   "outputs": [],
"source": [
"//Example 12.22\n",
"//Program to determine\n",
"//(a)The separation for the soliton pulses to avoid interaction\n",
"//(b)The transmission bit rate of the optical soliton communication\n",
"//system\n",
"\n",
"clear;\n",
"clc ;\n",
"close ;\n",
"\n",
"//Given data\n",
"To=70*10^(-12);                       //s - BIT PERIOD\n",
"tau=6*10^(-12);                       //s - PULSE WIDTH\n",
"Beeta2=-0.5*10^(-12)*10^(-12)*10^(-3);//s^2/km - 2nd ORDER DISPERSION\n",
"                                      //         COEFFICIENT \n",
"La=50*10^3;                           //AMPLIFIER SPACING\n",
"\n",
"//(a)The separation for the soliton pulses to avoid interaction\n",
"qo=1/2*(To/tau);\n",
"//(b)The transmission bit rate of the optical soliton comm. system\n",
"Bt=1/(2*qo)*1/sqrt(abs(Beeta2)*La);\n",
"\n",
"//Displaying the Results in Command Window\n",
"printf('\n\n\t(a)The separation for the soliton pulses to avoid interaction is %0.1f .',qo);\n",
"printf('\n\n\t(b)The maximum bit rate of the optical soliton communication system is much less than %0.2f Gbit/s .',Bt/10^9);"
   ]
   }
,
{
		   "cell_type": "markdown",
		   "metadata": {},
		   "source": [
			"## Example 12.23: Determination_of_the_maximum_transmission_bit_rate_for_the_system.sce"
		   ]
		  },
  {
"cell_type": "code",
	   "execution_count": null,
	   "metadata": {
	    "collapsed": true
	   },
	   "outputs": [],
"source": [
"//Example 12.23\n",
"//Program to determine the maximum transmission bit rate for the \n",
"//system\n",
"\n",
"clear;\n",
"clc ;\n",
"close ;\n",
"\n",
"//Given data\n",
"To=40*10^(-12);                         //s - BIT PERIOD\n",
"tau=4*10^(-12);                         //s - PULSE WIDTH\n",
"Beeta2=-1.25*10^(-12)*10^(-12)*10^(-3); //s^2/km - 2nd ORDER \n",
"                                        //DISPERSION COEFFICIENT \n",
"alpha=0.2*10^(-3);                      //dB/m - ATTENUATION CONSTANT\n",
"\n",
"//The separation for the soliton pulses to avoid interaction\n",
"qo=1/2*(To/tau);\n",
"\n",
"//Maximum transmission bit rate for the system\n",
"Bt=1/(2*qo)*sqrt(alpha/abs(Beeta2));\n",
"\n",
"//Displaying the Result in Command Window\n",
"printf('\n\n\t The maximum bit rate of the ultrashort pulse optical soliton system is significantly greater than %1.0f Gbit/s .',Bt/10^9);"
   ]
   }
,
{
		   "cell_type": "markdown",
		   "metadata": {},
		   "source": [
			"## Example 12.2: Determination_of_required_electrical_and_optical_SNR.sce"
		   ]
		  },
  {
"cell_type": "code",
	   "execution_count": null,
	   "metadata": {
	    "collapsed": true
	   },
	   "outputs": [],
"source": [
"//Example 12.2\n",
"//Program to determine the required electrical and optical SNR\n",
"\n",
"clear;\n",
"clc ;\n",
"close ;\n",
"\n",
"//Given data\n",
"BER=10^(-9);              //BIT ERROR RATE\n",
"\n",
"//Optical SNR\n",
"SNR_op=(erfinv(1-2*BER))*2*sqrt(2); //erfc(x)=1-erf(x)\n",
"\n",
"//Electrical SNR\n",
"SNR_el=((erfinv(1-2*BER))*2*sqrt(2))^2; //erfc(x)=1-erf(x)\n",
"\n",
"//Displaying the Results in Command Window\n",
"printf('\n\n\t  Optical SNR is %1.0f or %0.1f dB.',SNR_op,10*log10(SNR_op));\n",
"printf('\n\n\t  Electrical SNR is %1.0f or %0.1f dB.',SNR_el,10*log10(SNR_el));"
   ]
   }
,
{
		   "cell_type": "markdown",
		   "metadata": {},
		   "source": [
			"## Example 12.3: EX12_3.sce"
		   ]
		  },
  {
"cell_type": "code",
	   "execution_count": null,
	   "metadata": {
	    "collapsed": true
	   },
	   "outputs": [],
"source": [
"//Example 12.3\n",
"//Program to estimate the average number of photons which must be \n",
"//incident on the APD to register a binary one with a BER of 10^(-9) \n",
"\n",
"clear;\n",
"clc ;\n",
"close ;\n",
"\n",
"//Given data\n",
"k=0.02;                //CARRIER IONIZATION RATE\n",
"M=100;                 //MULTIPLICATION FACTOR\n",
"SNR=144;               //SIGNAL TO NOISE RATIO\n",
"Bt=0.6;                //FOR RAISED COSINE PULSE SPECTRUM\n",
"n=0.8;                 //(*100) percent - QUANTUM EFFICIENCY\n",
"\n",
"//Excess avalanche noise factor F(M)\n",
"F=k*M+(2-1/M)*(1-k);\n",
"\n",
"//Average number of photons\n",
"z=2*Bt*ceil(F)/n*SNR;\n",
"\n",
"//Displaying the Result in Command Window\n",
"printf('\n\n\t  The average number of photons which must be incident on the APD is %1.0f photons.',z);"
   ]
   }
,
{
		   "cell_type": "markdown",
		   "metadata": {},
		   "source": [
			"## Example 12.4: EX12_4.sce"
		   ]
		  },
  {
"cell_type": "code",
	   "execution_count": null,
	   "metadata": {
	    "collapsed": true
	   },
	   "outputs": [],
"source": [
"//Example 12.4\n",
"//Program to estimate incident optical power to register binary 1\n",
"//at bit rates of 10 Mbit/s and 140 Mbit/s\n",
"\n",
"clear;\n",
"clc ;\n",
"close ;\n",
"\n",
"//Given data\n",
"BER=10^(-9);                     //BIT ERROR RATE\n",
"e=1.602*10^(-19);                //Coulumbs - CHARGE OF AN ELECTRON\n",
"Lambda=1*10^(-6);                //metre - WAVELENGTH \n",
"h= 6.626*10^(-34);               //J/K - PLANK's CONSTANT\n",
"c=2.998*10^8;                    //m/s - VELOCITY OF LIGHT IN VACCUM\n",
"zm=864;                          //photons - FROM EXAMPLE 12.3\n",
"\n",
"//For 10 Mbit/s\n",
"Bt=10*10^6;                      //bps - BIT RATES\n",
"Po=zm*h*c*Bt/(2*Lambda);\n",
"//Displaying the Result in Command Window\n",
"printf('\n\n\t  Incident optical power for %1.0f Mbit/s is %0.1f pW or %0.1f dBm.',Bt/10^6,Po/10^(-12),10*log10(Po/10^(-3)));\n",
"\n",
"//For 140 Mbit/s\n",
"Bt=140*10^6;                     //bps - BIT RATES\n",
"Po=zm*h*c*Bt/(2*Lambda);\n",
"//Displaying the Result in Command Window\n",
"printf('\n\n\t  Incident optical power for %1.0f Mbit/s is %0.3f nW or %0.1f dBm.',Bt/10^6,Po/10^(-9),10*log10(Po/10^(-3)));"
   ]
   }
,
{
		   "cell_type": "markdown",
		   "metadata": {},
		   "source": [
			"## Example 12.5: Determination_of_the_total_channel_loss_ignoring_dispersion.sce"
		   ]
		  },
  {
"cell_type": "code",
	   "execution_count": null,
	   "metadata": {
	    "collapsed": true
	   },
	   "outputs": [],
"source": [
"//Example 12.5\n",
"//Program to determine the total channel loss ignoring dispersion\n",
"\n",
"clear;\n",
"clc ;\n",
"close ;\n",
"\n",
"//Given data\n",
"alpha_fc=5;                //dB/km - FIBER CABLE ATTENUATION\n",
"alpha_j=2;                 //dB/km - SPLICE LOSS\n",
"alpha_s=3.5;               //dB - SOURCE CONNECTOR LOSS\n",
"alpha_d=2.5;               //dB - DETECTOR CONNECTOR LOSS \n",
"L=4;                       //km - LENGTH OF OPTICAL FIBER LINK\n",
"\n",
"//Total channel loss\n",
"alpha_cr=alpha_s+alpha_d\n",
"C_L=(alpha_fc+alpha_j)*L+alpha_cr;\n",
"\n",
"//Displaying The Result in Command Window\n",
"printf('\n\n\tTotal channel loss, C_L = %1.0f dB',C_L)"
   ]
   }
,
{
		   "cell_type": "markdown",
		   "metadata": {},
		   "source": [
			"## Example 12.6: Estimation_of_the_dispersion_equalization_penalty_for_bit_given_rates.sce"
		   ]
		  },
  {
"cell_type": "code",
	   "execution_count": null,
	   "metadata": {
	    "collapsed": true
	   },
	   "outputs": [],
"source": [
"//Example 12.6\n",
"//Program to estimate the dispersion-equalization penalty for bit \n",
"//rates:\n",
"//(a)25 Mbit/s\n",
"//(b)150 Mbit/s\n",
"\n",
"clear;\n",
"clc ;\n",
"close ;\n",
"\n",
"//Given data\n",
"L=8;                     //km - LENGTH OF FIBER LINK\n",
"sigma=0.6*10^(-9);       //s/km - RMS PULSE BROADENING\n",
"\n",
"\n",
"//(a)For 25 Mbit/s\n",
"Bt=25*10^6;               //bit/sec - BIT RATE\n",
"//Without mode coupling\n",
"sigma_T=sigma*L;\n",
"D_L=2*(2*sigma_T*Bt*sqrt(2))^4;\n",
"printf('\n\n\t (a)For Bt = %1.0f Mbit/s, Without mode coupling, D_L = %0.2f dB',Bt/10^6,D_L);\n",
"//With mode coupling\n",
"sigma_T=sigma*sqrt(L);\n",
"D_L=2*(2*sigma_T*Bt*sqrt(2))^4;\n",
"printf('\n\n\t    For Bt = %1.0f Mbit/s, With mode coupling, D_L = %0.2f X 10^(-4) dB',Bt/10^6,D_L/10^(-4));\n",
"\n",
"//(b)150 Mbit/s\n",
"Bt=150*10^6;              //bit/sec - BIT RATE\n",
"//Without mode coupling\n",
"sigma_T=sigma*L;\n",
"D_L=2*(2*sigma_T*Bt*sqrt(2))^4;\n",
"printf('\n\n\t (b)For Bt = %1.0f Mbit/s, Without mode coupling, D_L = %0.2f dB',Bt/10^6,D_L);\n",
"//With mode coupling\n",
"sigma_T=sigma*sqrt(L);\n",
"D_L=2*(2*sigma_T*Bt*sqrt(2))^4;\n",
"printf('\n\n\t    For Bt = %1.0f Mbit/s, With  mode coupling, D_L = %0.2f dB',Bt/10^6,D_L);"
   ]
   }
,
{
		   "cell_type": "markdown",
		   "metadata": {},
		   "source": [
			"## Example 12.7: EX12_7.sce"
		   ]
		  },
  {
"cell_type": "code",
	   "execution_count": null,
	   "metadata": {
	    "collapsed": true
	   },
	   "outputs": [],
"source": [
"//Example 12.7\n",
"//Program to estimate the maximum bit rate that may be achieved on \n",
"//the link when using NRZ format\n",
"\n",
"clear;\n",
"clc ;\n",
"close ;\n",
"\n",
"//Given data\n",
"L=8;                             //km - LENGTH OF FIBER LINK\n",
"Ts=8*10^(-9);                    //s - SOURCE RISE TIME\n",
"Dn=5*10^(-9);                    //s/km - INTERMODAL RISE TIME\n",
"Dc=1*10^(-9);                    //s/km - INTRAMODAL RISE TIME\n",
"Td=6*10^(-9);                    //s - DETECTOR RISE TIME\n",
"Tn=Dn*L;\n",
"Tc=Dc*L;\n",
"\n",
"//Total Rise Time\n",
"Tsyst=1.1*sqrt(Ts^2+Tn^2+Tc^2+Td^2);\n",
"\n",
"//Maximum bit rate\n",
"Bt= 0.7/Tsyst;\n",
"\n",
"//Displaying the Result in Command Window\n",
"printf('\n\n\t Maximum bit rate, Bt(max) is %0.1f Mbit/s which for NRZ is equivalent to a 3 dB optical bandwidth of %0.1f Mbit/s.',Bt/10^6,Bt/10^6/2);"
   ]
   }
,
{
		   "cell_type": "markdown",
		   "metadata": {},
		   "source": [
			"## Example 12.8: EX12_8.sce"
		   ]
		  },
  {
"cell_type": "code",
	   "execution_count": null,
	   "metadata": {
	    "collapsed": true
	   },
	   "outputs": [],
"source": [
"//Example 12.8\n",
"//Program to estimate:\n",
"//(a)Maximum possible link length without repeaters when operating at 35 Mbit/s \n",
"//(b)Maximum possible link length without repeaters when operating at 400 Mbit/s\n",
"//(c)Reduction in maximum possible link length considering dispersion-equalization penalty\n",
"\n",
"clear;\n",
"clc ;\n",
"close ;\n",
"\n",
"//Given data\n",
"Pi=-3;                    //dBm - POWER LAUNCHED\n",
"alpha_fc=0.4;             //dB/km - CABLE FIBER LOSS \n",
"alpha_j=0.1;              //dB/km - SPLICE LOSS\n",
"alpha_cr=2;               //dB - TOTAL CONNECTOR LOSS\n",
"Ma=7;                     //dB - REQUIRED SAFETY MARGIN\n",
"Dl=1.5;                   //dB - DISPERSION- EQUALIZATION PENALTY\n",
"\n",
"//(a)Maximum possible link length without repeaters when operating at 35 Mbit/s \n",
"Po=-55;                   //dBm - REQUIRED POWER BY APD\n",
"//Optical budget: Pi-Po=(alpha_fc+alpha_j)L+alpha_cr+Ma\n",
"L1=(Pi-Po-alpha_cr-Ma)/(alpha_fc+alpha_j);\n",
"printf('\n\n\t (a)Maximum possible link length without repeaters when operating at 35 Mbit/s is %1.0f km.',L1);\n",
"\n",
"//(b)Maximum possible link length without repeaters when operating at 400 Mbit/s\n",
"Po=-44;                   //dBm - REQUIRED POWER BY APD\n",
"//Optical budget: Pi-Po=(alpha_fc+alpha_j)L+alpha_cr+Ma\n",
"L2=(Pi-Po-alpha_cr-Ma)/(alpha_fc+alpha_j);\n",
"printf('\n\n\t (b)Maximum possible link length without repeaters when operating at 400 Mbit/s is %1.0f km.',L2);\n",
"\n",
"//(c)Reduction in maximum possible link length considering dispersion-equalization penalty\n",
"//Optical budget considering dispersion-equalization penalty:\n",
"//Pi-Po=(alpha_fc+alpha_j)L+alpha_cr+Ma\n",
"L3=(Pi-Po-alpha_cr-Dl-Ma)/(alpha_fc+alpha_j);\n",
"printf('\n\n\t (c)Reduction in maximum possible link length considering dispersion-equalization penalty is %1.0f km.',L2-L3);"
   ]
   }
,
{
		   "cell_type": "markdown",
		   "metadata": {},
		   "source": [
			"## Example 12.9: Determination_of_the_viability_of_optical_power_budget.sce"
		   ]
		  },
  {
"cell_type": "code",
	   "execution_count": null,
	   "metadata": {
	    "collapsed": true
	   },
	   "outputs": [],
"source": [
"//Example 12.9\n",
"//Program to determine the viability of optical power budget\n",
"\n",
"clear;\n",
"clc ;\n",
"close ;\n",
"\n",
"//Given data\n",
"L=7;                      //km - OPTICAL FIBER LINK LENGTH\n",
"alpha_fc=2.6;             //dB/km - CABLE FIBER LOSS \n",
"alpha_j=0.5;              //dB/km - SPLICE LOSS\n",
"alpha_cr=1.5;             //dB - TOTAL CONNECTOR LOSS\n",
"Ma=6;                     //dB - REQUIRED SAFETY MARGIN\n",
"Pr_dBm=-41;               //dBm - RECEIVER SENSITIVITY\n",
"Pi=100*10^(-6);           //Watt - POWER LAUNCHED\n",
"Pi_dBm=10*log10(Pi/10^(-3));\n",
"\n",
"//Total System Margin\n",
"Total_system_margin=Pi_dBm-Pr_dBm;\n",
"printf('\n\n\t Total System Margin is %0.1f dB.',Total_system_margin);\n",
"\n",
"//Total System Loss\n",
"Total_system_loss=L*alpha_fc+(L-1)*alpha_j+alpha_cr+Ma;\n",
"printf('\n\n\t Total System Loss is %0.1f dB.',Total_system_loss);\n",
"\n",
"//Excess Power margin\n",
"Excess_power_margin=Total_system_margin-Total_system_loss;\n",
"printf('\n\n\t Excess Power margin is %0.1f dB.',Excess_power_margin);\n",
"\n",
"//Testing Viability\n",
"if Excess_power_margin >=0 then\n",
"printf('\n\n\t The system is viable.');\n",
"else\n",
"printf('\n\n\t The system is not viable.');\n",
"end"
   ]
   }
],
"metadata": {
		  "kernelspec": {
		   "display_name": "Scilab",
		   "language": "scilab",
		   "name": "scilab"
		  },
		  "language_info": {
		   "file_extension": ".sce",
		   "help_links": [
			{
			 "text": "MetaKernel Magics",
			 "url": "https://github.com/calysto/metakernel/blob/master/metakernel/magics/README.md"
			}
		   ],
		   "mimetype": "text/x-octave",
		   "name": "scilab",
		   "version": "0.7.1"
		  }
		 },
		 "nbformat": 4,
		 "nbformat_minor": 0
}
