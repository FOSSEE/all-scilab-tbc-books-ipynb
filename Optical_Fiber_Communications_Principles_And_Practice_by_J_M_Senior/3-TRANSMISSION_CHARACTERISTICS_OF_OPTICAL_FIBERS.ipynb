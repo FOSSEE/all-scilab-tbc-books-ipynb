{
"cells": [
 {
		   "cell_type": "markdown",
	   "metadata": {},
	   "source": [
       "# Chapter 3: TRANSMISSION CHARACTERISTICS OF OPTICAL FIBERS"
	   ]
	},
{
		   "cell_type": "markdown",
		   "metadata": {},
		   "source": [
			"## Example 3.10: Estimation_of_total_RMS_pulse_broadening_and_BW_Length_product.sce"
		   ]
		  },
  {
"cell_type": "code",
	   "execution_count": null,
	   "metadata": {
	    "collapsed": true
	   },
	   "outputs": [],
"source": [
"//Example 3.10\n",
"//Program to estimate\n",
"//(a)RMS pulse broadening per kilometer\n",
"//(b)Bandwidth-Length product for the fiber\n",
"\n",
"clear;\n",
"clc ;\n",
"close ;\n",
"\n",
"//Given data\n",
"NA=0.3 ;         //NUMERICAL APERTURE\n",
"n1=1.45;         //CORE REFRACTIVE INDEX \n",
"M=250*10^(-6);   //s/km^2 - MATERIAL DISPERSION PARAMETER \n",
"sigma_lambda=50*10^(-9); //metre - RMS SPECTRAL WIDTH\n",
"L=1;             //km - LENGTH OF OPTICAL LINK\n",
"c=2.998*10^8;    //m/s - VELOCITY OF LIGHT IN VACCUM\n",
"\n",
"//RMS pulse broadening /km due to material dispersion\n",
"sigma_m=sigma_lambda*L*M;\n",
"\n",
"//RMS pulse broadening /km due to intermodal dispersion\n",
"sigma_s=L*NA^2/(4*sqrt(3)*n1*c);\n",
"\n",
"//(a)Total RMS pulse broadening /km\n",
"sigma_t=sqrt(sigma_m^2+sigma_s^2);\n",
"\n",
"//(b)Bandwidth-Length product\n",
"BoptXL=0.2/sigma_t;\n",
"\n",
"//Displaying the Results in Command Window\n",
"printf('\n\n\t Total RMS pulse broadening per kilometer is %0.1f ns/km.',sigma_t/10^(-12));\n",
"printf('\n\n\t Bandwidth-Length product is %0.1f MHz km.',BoptXL/10^(9));"
   ]
   }
,
{
		   "cell_type": "markdown",
		   "metadata": {},
		   "source": [
			"## Example 3.11: Comparision_of_total_first_order_dispersion_for_the_fiber.sce"
		   ]
		  },
  {
"cell_type": "code",
	   "execution_count": null,
	   "metadata": {
	    "collapsed": true
	   },
	   "outputs": [],
"source": [
"//Example 3.11\n",
"//Program to compare the total first order dispersion and determine \n",
"//waveguide dispersion\n",
"\n",
"clear;\n",
"clc ;\n",
"close ;\n",
"\n",
"//Given data\n",
"lambda0=1310;           //nm - ZERO DISPERSION WAVELENGTH \n",
"So=0.09*10^(-12);       //s/nm^2/km - DISPERSION SLOPE\n",
"\n",
"//Dt at 1280nm\n",
"lambda1=1280;           //nm - OPERATING WAVELENGTH \n",
"Dt1=lambda1*So/4*(1-(lambda0/lambda1)^4);\n",
"\n",
"//Dt at 1550nm\n",
"lambda2=1550;           //nm - OPERATING WAVELENGTH \n",
"Dt2=lambda2*So/4*(1-(lambda0/lambda2)^4);\n",
"\n",
"//Waveguide Dispersion at 1550nm\n",
"Dm=13.5*10^(-12);       //s/nm/km - MATERIAL DISPERSION \n",
"Dp=0.4*10^(-12);        //s/nm/km - PROFILE DISPERSION\n",
"Dw=Dt2-(Dm+Dp);\n",
"\n",
"//Displaying the Results in Command Window\n",
"printf('\n\n\t Dt(1280nm) = %0.1f ps/nm/km.',Dt1/10^(-12));\n",
"printf('\n\n\t Dt(1550nm) = %0.1f ps/nm/km.',Dt2/10^(-12));\n",
"printf('\n\n\t Dw = %0.1f ps/nm/km.',Dw/10^(-12));"
   ]
   }
,
{
		   "cell_type": "markdown",
		   "metadata": {},
		   "source": [
			"## Example 3.12: EX3_12.sce"
		   ]
		  },
  {
"cell_type": "code",
	   "execution_count": null,
	   "metadata": {
	    "collapsed": true
	   },
	   "outputs": [],
"source": [
"//Example 3.12\n",
"//Program to determine modal birefringence, coherence length and difference between propagation constants for the two orthogonal modes \n",
"\n",
"clear;\n",
"clc ;\n",
"close ;\n",
"\n",
"//Given data\n",
"lambda=0.9*10^(-6);   //metre - PEAK WAVELENGTH \n",
"Lb=9*10^(-2);         //metre - BEAT LENGTH\n",
"del_lambda=1*10^(-9); //metre - SPECTRAL LINE WIDTH\n",
"\n",
"//Modal Birefringence\n",
"Bf=lambda/Lb;\n",
"\n",
"//Coherence Length\n",
"Lbc=lambda^2/(Bf*del_lambda);\n",
"\n",
"//Difference between propagation constants for the two orthogonal \n",
"//modes \n",
"Bx_minus_By=2*%pi/Lb;\n",
"\n",
"//Displaying the Results in Command Window\n",
"printf('\n\n\t The Modal birefringence  is %1.0f X 10^(-5) .',Bf/10^(-5));\n",
"printf('\n\n\t The Coherence Length is %d m.',round(Lbc));\n",
"printf('\n\n\t The difference between propagation constants for the two orthogonal modes is %0.1f .',Bx_minus_By);"
   ]
   }
,
{
		   "cell_type": "markdown",
		   "metadata": {},
		   "source": [
			"## Example 3.13: Determination_of_fiber_birefringence_for_two_given_cases.sce"
		   ]
		  },
  {
"cell_type": "code",
	   "execution_count": null,
	   "metadata": {
	    "collapsed": true
	   },
	   "outputs": [],
"source": [
"//Example 3.13\n",
"//Program to determine fiber birefringence for given beat lengths\n",
"//(1)Lb = 0.7 mm\n",
"//(2)Lb = 80 m\n",
"\n",
"clear;\n",
"clc ;\n",
"close ;\n",
"\n",
"//Given data\n",
"lambda=1.3*10^(-6); //metre - OPERATING WAVELENGTH \n",
"\n",
"//Part (1)\n",
"Lb1=0.7*10^(-3);    //metre - BEAT LENGTH\n",
"Bf1=lambda/Lb1;\n",
"\n",
"//Part (2)\n",
"Lb2=80;             //metre - BEAT LENGTH\n",
"Bf2=lambda/Lb2;\n",
"\n",
"//Displaying the Results in Command Window\n",
"printf('\n\n\t The fiber birefringence for Lb = 0.7 mm is %0.2f X 10^(-3) which is high.',Bf1/10^(-3));\n",
"printf('\n\n\t The fiber birefringence for Lb = 80 m is %0.2f X 10^(-8) which is low.',Bf2/10^(-8));"
   ]
   }
,
{
		   "cell_type": "markdown",
		   "metadata": {},
		   "source": [
			"## Example 3.14: Determination_of_mode_coupling_parameter_for_the_fiber.sce"
		   ]
		  },
  {
"cell_type": "code",
	   "execution_count": null,
	   "metadata": {
	    "collapsed": true
	   },
	   "outputs": [],
"source": [
"//Example 3.14\n",
"//Program to determine the mode coupling parameter for the fiber\n",
"\n",
"clear;\n",
"clc ;\n",
"close ;\n",
"\n",
"//Given data\n",
"L=3.5*10^3;        //metre - LENGTH\n",
"CT=-27;            //dB - POLARIZATION CROSSTALK\n",
"\n",
"//Mode coupling parameter for the fiber\n",
"h=(10^(CT/10))/L; //as tan(h*L)=h*L for small values\n",
"\n",
"//Displaying the Result in Command Window\n",
"printf('\n\n\t The mode coupling parameter for the fiber is %0.1f X 10^(-7)/m.',h/10^(-7));"
   ]
   }
,
{
		   "cell_type": "markdown",
		   "metadata": {},
		   "source": [
			"## Example 3.1: EX3_1.sce"
		   ]
		  },
  {
"cell_type": "code",
	   "execution_count": null,
	   "metadata": {
	    "collapsed": true
	   },
	   "outputs": [],
"source": [
"//Example 3.1\n",
"//Program to Determine \n",
"//(a)Overall signal attenuation\n",
"//(b)Signal attenuation per kilometer\n",
"//(c)Overall signal attenuation for 10 km optical link with splices \n",
"//(d)Numerical Input/Output power ratio\n",
"\n",
"clear;\n",
"clc ;\n",
"close ;\n",
"\n",
"//Given data\n",
"Pi=120;          //uW - INPUT OPTICAL POWER\n",
"Po=3;            //uW - OUTPUT OPTICAL POWER\n",
"L=8;             //km - FIBER LENGTH\n",
"\n",
"//(a)Overall signal attenuation\n",
"Alpha_dB_L=10*log10(Pi/Po);\n",
"\n",
"//(b)Signal attenuation per kilometer\n",
"Alpha_dB=Alpha_dB_L/L;\n",
"\n",
"//(c)Overall signal attenuation for 10 km optical link with splices \n",
"A=Alpha_dB*10+9;\n",
"\n",
"//(d)Numerical Input/Output power ratio\n",
"Pi_by_Po=10^(round(A)/10);\n",
"\n",
"//Displaying the Results in Command Window\n",
"printf('\n\n\t (a)Overall signal attenuation is %1.0f dB.',Alpha_dB_L);\n",
"printf('\n\n\t (b)Signal attenuation per kilometer is %1.0f dB/km.',Alpha_dB);\n",
"printf('\n\n\t (c)Overall signal attenuation for 10 km optical link with splices is %1.0f dB.',A);\n",
"printf('\n\n\t (d)Numerical Input/Output power ratio is %0.1f.',Pi_by_Po);"
   ]
   }
,
{
		   "cell_type": "markdown",
		   "metadata": {},
		   "source": [
			"## Example 3.2: EX3_2.sce"
		   ]
		  },
  {
"cell_type": "code",
	   "execution_count": null,
	   "metadata": {
	    "collapsed": true
	   },
	   "outputs": [],
"source": [
"//Example 3.2\n",
"//Program to Determine Theoretical attenuation in dB/km due to fundamental rayleigh scattering at optical wavelengths:\n",
"//(a)0.63um\n",
"//(b)1.00um\n",
"//(c)1.30um\n",
"\n",
"clear;\n",
"clc ;\n",
"close ;\n",
"\n",
"//Given data\n",
"n=1.46;             //REFRACTIVE INDEX\n",
"p=0.286;            //PHOTOELASTIC COEFFICIENT\n",
"Bc=7*10^(-11);      //m^2/N - ISOTHERMAL COMPRESSIBILITY\n",
"K=1.381*10^(-23);   //J/K - BOLTZMANN's CONSTANT\n",
"Tf=1400;            //Kelvin - FICTIVE TEMPERATURE\n",
"l=1000;             //metre - FIBER LENGTH\n",
"\n",
"//(a)Attenuation in dB/km due to fundamental rayleigh scattering at 0.63um\n",
"lambda=0.63*10^(-6);             //metre - WAVELENGTH\n",
"Gamma_R=8*(%pi)^3*n^8*p^2*Bc*K*Tf/(3*lambda^4);\n",
"L_km1=exp(-Gamma_R*l)\n",
"A1=10*log10(1/L_km1);\n",
"\n",
"//(b)Attenuation in dB/km due to fundamental rayleigh scattering at 1.00um\n",
"lambda=1.00*10^(-6);             //metre - WAVELENGTH\n",
"Gamma_R=8*(%pi)^3*n^8*p^2*Bc*K*Tf/(3*lambda^4);\n",
"L_km2=exp(-Gamma_R*l)\n",
"A2=10*log10(1/L_km2);\n",
"\n",
"//(c)Attenuation in dB/km due to fundamental rayleigh scattering at 1.30um\n",
"lambda=1.30*10^(-6);             //metre - WAVELENGTH\n",
"Gamma_R=8*(%pi)^3*n^8*p^2*Bc*K*Tf/(3*lambda^4);\n",
"L_km3=exp(-Gamma_R*l)\n",
"A3=10*log10(1/L_km3);\n",
"\n",
"//Displaying the Results in Command Window\n",
"printf('\n\n\t (a)Attenuation in dB/km due to fundamental rayleigh scattering at 0.63um = %0.1f dB/km.',A1);\n",
"printf('\n\n\t (b)Attenuation in dB/km due to fundamental rayleigh scattering at 1.00um = %0.1f dB/km.',A2);\n",
"printf('\n\n\t (c)Attenuation in dB/km due to fundamental rayleigh scattering at 1.30um = %0.1f dB/km.',A3);"
   ]
   }
,
{
		   "cell_type": "markdown",
		   "metadata": {},
		   "source": [
			"## Example 3.3: Comparision_of_threshold_optical_powers_for_SBS_and_SRS.sce"
		   ]
		  },
  {
"cell_type": "code",
	   "execution_count": null,
	   "metadata": {
	    "collapsed": true
	   },
	   "outputs": [],
"source": [
"//Example 3.3\n",
"//Program to compare the threshold optical powers for stimulated \n",
"//Brillouin and Raman Scattering\n",
"\n",
"clear;\n",
"clc ;\n",
"close ;\n",
"\n",
"//Given data\n",
"alpha_dB=0.5;       //dB/km - ATTENUATION\n",
"lambda=1.3;         //micrometre - OPERATING WAVELENGTH\n",
"d=6;                //micrometre - FIBER CORE DIAMETER\n",
"nu=0.6;             //GHz    - LASER SOURCE BANDWIDTH    \n",
"\n",
"//Threshold optical power for SBS\n",
"Pb=4.4*10^(-3)*(d^2)*(lambda^2)*alpha_dB*nu;\n",
"\n",
"//Threshold optical power for SRS\n",
"Pr=5.9*10^(-2)*d^2*lambda*alpha_dB;\n",
"\n",
"//Displaying the Results in Command Window\n",
"printf('\n\n\t The threshold optical power for SBS is %0.1f mW.',Pb*10^3);\n",
"printf('\n\n\t The threshold optical power for SRS is %0.2f W.',Pr);"
   ]
   }
,
{
		   "cell_type": "markdown",
		   "metadata": {},
		   "source": [
			"## Example 3.4: Estimation_of_critical_radius_of_curvature.sce"
		   ]
		  },
  {
"cell_type": "code",
	   "execution_count": null,
	   "metadata": {
	    "collapsed": true
	   },
	   "outputs": [],
"source": [
"//Example 3.4\n",
"//Program to estimate critical radius of curvature at which large \n",
"//bending loss occur\n",
"\n",
"clear;\n",
"clc ;\n",
"close ;\n",
"\n",
"//Given data for part (a)\n",
"n1=1.500;        //metre - LENGTH\n",
"delta=0.03;      //*100 percent - RELATIVE REFRACTIVE INDEX DIFFERENCE\n",
"lambda=0.82*10^(-6); //metre - OPERATING WAVELENGTH\n",
"\n",
"//Calculation of the radius of curvature of Multi Mode fiber\n",
"n2=sqrt(n1^2-2*delta*n1^2);\n",
"Rc=3*n1^2*lambda/(4*%pi*(n1^2-n2^2)^(3/2));\n",
"\n",
"//Given data for part (b)\n",
"n1=1.500;        //metre - LENGTH\n",
"delta=0.003;     //*100 percent - RELATIVE REFRACTIVE INDEX DIFFERENCE\n",
"lambda=1.55*10^(-6); //metre - OPERATING WAVELENGTH\n",
"d=8*10^(-6);     //metre - CORE DIAMETER\n",
"\n",
"//Calculation of the radius of curvature of Single Mode fiber\n",
"n2=sqrt(n1^2-2*delta*n1^2);\n",
"a=d/2;\n",
"lambda_c=2*%pi*a*n1*sqrt(2*delta)/2.405;\n",
"Rcs=20*lambda*(2.748-0.996*lambda/lambda_c)^(-3)/(n1-n2)^(3/2);\n",
"\n",
"//Displaying the Results in Command Window\n",
"printf('\n\n\t (a)The radius of curvature of Multi Mode fiber is %1.0f um.',Rc/10^(-6));\n",
"printf('\n\n\t (b)The radius of curvature of Single Mode fiber is %1.0f mm.',Rcs/10^(-3));"
   ]
   }
,
{
		   "cell_type": "markdown",
		   "metadata": {},
		   "source": [
			"## Example 3.5: EX3_5.sce"
		   ]
		  },
  {
"cell_type": "code",
	   "execution_count": null,
	   "metadata": {
	    "collapsed": true
	   },
	   "outputs": [],
"source": [
"//Example 3.5\n",
"//Program to estimate \n",
"//(a)The maximum possible bandwidth on the link assuming no ISI\n",
"//(b)The pulse dispersion per unit length\n",
"//(c)The bandwidth-length product for the fiber\n",
"\n",
"clear;\n",
"clc ;\n",
"close ;\n",
"\n",
"//Given data\n",
"tau=0.1*10^(-6); //second - TOTAL PULSE BROADENING\n",
"L=15;            //km - DISTANCE\n",
"\n",
"//(a)The maximum possible bandwidth on the link assuming no ISI\n",
"B_opt=1/(2*tau);\n",
"\n",
"//(b)The pulse dispersion per unit length\n",
"Dispersion=tau/L;\n",
"\n",
"//(c)The bandwidth-length product for the fiber\n",
"B_optXL=B_opt*L;\n",
"\n",
"//Displaying the Results in Command Window\n",
"printf('\n\n\t (a)The maximum possible bandwidth on the link assuming no ISI is %1.0f MHz.',B_opt/10^6);\n",
"printf('\n\n\t (b)The pulse dispersion per unit length is %0.2f ns/km.',Dispersion/10^(-9));\n",
"printf('\n\n\t (c)The bandwidth-length product for the fiber is %1.0f MHz km.',B_optXL/10^6);"
   ]
   }
,
{
		   "cell_type": "markdown",
		   "metadata": {},
		   "source": [
			"## Example 3.6: Determination_of_Material_Dispersion_Parameter_and_RMS_Pulse_Broadening.sce"
		   ]
		  },
  {
"cell_type": "code",
	   "execution_count": null,
	   "metadata": {
	    "collapsed": true
	   },
	   "outputs": [],
"source": [
"//Example 3.6\n",
"//Program to estimate Material dispersion parameter and rms pulse \n",
"//broadening per kilometer\n",
"clear;\n",
"clc ;\n",
"close ;\n",
"\n",
"//Given data\n",
"lambda=0.85*10^(-6);    //metre - WAVELENGTH\n",
"L=1;                    //km - DISTANCE\n",
"MD=0.025;//MATERIAL DISPERSION = mod(lamda^2*[del^2(n1)/del(lamda)^2) \n",
"c=2.998*10^8;           //m/s - VELOCITY OF LIGHT IN VACCUM\n",
"sigma_lambda=20*10^(-9);//metre - RMS SPECTRAL WIDTH \n",
"\n",
"//Material Dispersion Parameter\n",
"M=MD/(lambda*c);\n",
"\n",
"//R.M.S. pulse broadening per kilometer\n",
"sigma_m=sigma_lambda*L*M;\n",
"\n",
"//Displaying the Results in Command Window\n",
"printf('\n\n\t Material Dispersion Parameter is %0.1f ps/nm/km.',M*10^6);\n",
"printf('\n\n\t R.M.S. pulse broadening per kilometer is %0.2f ns/km.',sigma_m/10^(-12));"
   ]
   }
,
{
		   "cell_type": "markdown",
		   "metadata": {},
		   "source": [
			"## Example 3.7: Estimation_of_RMS_Pulse_Broadening_per_kilometer_for_the_fiber.sce"
		   ]
		  },
  {
"cell_type": "code",
	   "execution_count": null,
	   "metadata": {
	    "collapsed": true
	   },
	   "outputs": [],
"source": [
"//Example 3.7\n",
"//Program to estimate rms pulse broadening per kilometer for the fiber\n",
"\n",
"clear;\n",
"clc ;\n",
"close ;\n",
"\n",
"//Given data\n",
"lambda=0.85*10^(-6);    //metre - WAVELENGTH\n",
"L=1;                    //km - DISTANCE\n",
"MD=0.025;//MATERIAL DISPERSION = mod(lamda^2*[del^2(n1)/del(lamda)^2) \n",
"c=2.998*10^8;           //m/s - VELOCITY OF LIGHT IN VACCUM\n",
"sigma_lambda_by_lambda=0.0012;// sigma_lambda/lambda\n",
"\n",
"//Material Dispersion Parameter\n",
"M=MD/(lambda*c);\n",
"\n",
"//R.M.S. Spectral Width\n",
"sigma_lambda=sigma_lambda_by_lambda*lambda;\n",
"\n",
"//R.M.S. pulse broadening per kilometer\n",
"sigma_m=sigma_lambda*L*M;\n",
"\n",
"//Displaying the Result in Command Window\n",
"printf('\n\n\t R.M.S. pulse broadening per kilometer is %0.2f ns/km.',sigma_m/10^(-12));"
   ]
   }
,
{
		   "cell_type": "markdown",
		   "metadata": {},
		   "source": [
			"## Example 3.8: EX3_8.sce"
		   ]
		  },
  {
"cell_type": "code",
	   "execution_count": null,
	   "metadata": {
	    "collapsed": true
	   },
	   "outputs": [],
"source": [
"//Example 3.8\n",
"//Program to estimate \n",
"//(a)The delay difference between the slowest and fastest modes at the fiber output\n",
"//(b)The rms pulse broadening due to intermodal dispersion on the link\n",
"//(c)The maximum bit rate  \n",
"//(d)Bandwidth-length product corresponding to (c)\n",
"\n",
"clear;\n",
"clc ;\n",
"close ;\n",
"\n",
"//Given data\n",
"delta=0.01;      //*100 percent - RELATIVE REFRACTIVE INDEX DIFFERENCE\n",
"L=6;             //km - LENGTH OF OPTICAL LINK\n",
"n1=1.5;          //CORE REFRACTIVE INDEX \n",
"c=2.998*10^8;    //m/s - VELOCITY OF LIGHT IN VACCUM\n",
"\n",
"//(a)The delay difference between the slowest and fastest modes at the fiber output\n",
"del_Ts=L*n1*delta/c;\n",
"\n",
"//(b)The rms pulse broadening due to intermodal dispersion on the link\n",
"sigma_s=L*n1*delta/(2*sqrt(3)*c);\n",
"\n",
"//(c)The maximum bit rate  \n",
"Bt=1/(2*del_Ts);\n",
"//Improved maximum bit rate  \n",
"Bti=0.2/sigma_s;\n",
"\n",
"//(d)Bandwidth-length product corresponding to (c)\n",
"BoptXL=Bti*L;\n",
"\n",
"//Displaying the Results in Command Window\n",
"printf('\n\n\t (a)The delay difference between the slowest and fastest modes at the fiber output is %1.0f ns.',del_Ts/10^(-12));\n",
"printf('\n\n\t (b)The rms pulse broadening due to intermodal dispersion on the link is %0.1f ns.',sigma_s/10^(-12));\n",
"printf('\n\n\t (c)The maximum bit rate is %0.1f Mbit/s and improved bit rate is %0.1f Mbit/s.',Bt/10^(9),Bti/10^(9));\n",
"printf('\n\n\t (d)Bandwidth-length product is %0.1f MHz km.',BoptXL/10^(9));"
   ]
   }
,
{
		   "cell_type": "markdown",
		   "metadata": {},
		   "source": [
			"## Example 3.9: Comparision_of_RMS_Pulse_Broadening_per_Kilometer_for_two_cases.sce"
		   ]
		  },
  {
"cell_type": "code",
	   "execution_count": null,
	   "metadata": {
	    "collapsed": true
	   },
	   "outputs": [],
"source": [
"//Example 3.9\n",
"//Program to compare rms pulse broadening per kilometer due to \n",
"//intermodal dispersion for multimode step index fiber with that of \n",
"//near parabolic graded index fiber \n",
"\n",
"clear;\n",
"clc ;\n",
"close ;\n",
"\n",
"//Given data\n",
"delta=0.01;      //*100 percent - RELATIVE REFRACTIVE INDEX DIFFERENCE\n",
"L=1;             //km - LENGTH OF OPTICAL LINK\n",
"n1=1.5;          //CORE REFRACTIVE INDEX \n",
"c=2.998*10^8;    //m/s - VELOCITY OF LIGHT IN VACCUM\n",
"\n",
"//RMS pulse broadening /km due to intermodal dispersion for MMSI Fiber\n",
"sigma_s=L*n1*delta/(2*sqrt(3)*c);\n",
"\n",
"//RMS pulse broadening /km for near parabolic graded index fiber\n",
"sigma_g=L*n1*delta^2/(20*sqrt(3)*c);\n",
"\n",
"//Displaying the Results in Command Window\n",
"printf('\n\n\t RMS pulse broadening per kilometer due to intermodal dispersion for MMSI Fiber is %0.1f ns/km.',sigma_s/10^(-12));\n",
"printf('\n\n\t RMS pulse broadening per kilometer for near parabolic graded index fiber is %0.1f ps/km.',sigma_g/10^(-15));"
   ]
   }
],
"metadata": {
		  "kernelspec": {
		   "display_name": "Scilab",
		   "language": "scilab",
		   "name": "scilab"
		  },
		  "language_info": {
		   "file_extension": ".sce",
		   "help_links": [
			{
			 "text": "MetaKernel Magics",
			 "url": "https://github.com/calysto/metakernel/blob/master/metakernel/magics/README.md"
			}
		   ],
		   "mimetype": "text/x-octave",
		   "name": "scilab",
		   "version": "0.7.1"
		  }
		 },
		 "nbformat": 4,
		 "nbformat_minor": 0
}
