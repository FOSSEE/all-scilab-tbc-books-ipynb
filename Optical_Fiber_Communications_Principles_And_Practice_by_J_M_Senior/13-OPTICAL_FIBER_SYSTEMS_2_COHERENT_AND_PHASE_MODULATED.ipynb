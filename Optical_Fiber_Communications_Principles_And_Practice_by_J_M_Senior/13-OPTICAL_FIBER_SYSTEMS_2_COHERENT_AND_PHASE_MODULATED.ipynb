{
"cells": [
 {
		   "cell_type": "markdown",
	   "metadata": {},
	   "source": [
       "# Chapter 13: OPTICAL FIBER SYSTEMS 2 COHERENT AND PHASE MODULATED"
	   ]
	},
{
		   "cell_type": "markdown",
		   "metadata": {},
		   "source": [
			"## Example 13.1: EX13_1.sce"
		   ]
		  },
  {
"cell_type": "code",
	   "execution_count": null,
	   "metadata": {
	    "collapsed": true
	   },
	   "outputs": [],
"source": [
"//Example 13.1\n",
"//Program to estimate the maximum temperature change that could\n",
"//be allowed for the local oscillator laser\n",
"\n",
"clear;\n",
"clc ;\n",
"close ;\n",
"\n",
"//Given data\n",
"IF=1.5*10^6;          //Hz - NOMINAL IF\n",
"del_f=19*10^6;        //Hz/C - OUTPUT FREQUENCY CHANGE\n",
"\n",
"//Maximum temperature change that could be allowed\n",
"f=0.1*IF;\n",
"Max_temp_change=f/del_f;\n",
"\n",
"//Displaying the Result in Command Window\n",
"printf('\n\n\t Maximum temperature change that could be allowed for the local oscillator laser is %0.3f C .',Max_temp_change);"
   ]
   }
,
{
		   "cell_type": "markdown",
		   "metadata": {},
		   "source": [
			"## Example 13.2: Determination_of_the_operating_bandwidth_of_the_receiver.sce"
		   ]
		  },
  {
"cell_type": "code",
	   "execution_count": null,
	   "metadata": {
	    "collapsed": true
	   },
	   "outputs": [],
"source": [
"//Example 13.2\n",
"//Program to determine the operating bandwidth of the receiver\n",
"\n",
"clear;\n",
"clc ;\n",
"close ;\n",
"\n",
"//Given data\n",
"SNL=-85.45;          //dBm - SHOT NOISE LIMIT\n",
"eeta=0.86;           //*100 percent - EFFICIENCY FOR IDEAL RECEIVER\n",
"Lambda=1.54*10^(-6); //metre - OPERATING WAVELENGTH\n",
"SNR=12;              //dB - SIGNAL TO NOISE RATIO\n",
"h= 6.626*10^(-34);   //J/K - PLANK's CONSTANT\n",
"c=2.998*10^8;        //m/s - VELOCITY OF LIGHT IN VACCUM\n",
"\n",
"//Incoming Signal Power\n",
"Ps=10^(SNL/10);\n",
"\n",
"//Operating bandwidth of the receiver\n",
"B=eeta*Ps*Lambda/(h*c*10^(SNR/10));\n",
"\n",
"//Displaying the Result in Command Window\n",
"printf('\n\n\t Operating bandwidth of the receiver, B = %0.1f GHz.',B/10^9);"
   ]
   }
,
{
		   "cell_type": "markdown",
		   "metadata": {},
		   "source": [
			"## Example 13.3: EX13_3.sce"
		   ]
		  },
  {
"cell_type": "code",
	   "execution_count": null,
	   "metadata": {
	    "collapsed": true
	   },
	   "outputs": [],
"source": [
"//Example 13.3\n",
"//Program to calculate the number of received photons per bit for:\n",
"//(a)ASK heterodyne synchronous detection\n",
"//(b)ASK heterodyne asynchronous detection\n",
"//(c)PSK homodyne detection\n",
"\n",
"clear;\n",
"clc ;\n",
"close ;\n",
"\n",
"//Given data\n",
"eeta=1;              //*100 percent - EFFICIENCY FOR IDEAL RECEIVER\n",
"BER=10^(-9);         //BIT ERROR RATE\n",
"\n",
"//Number of received photons per bit for:\n",
"printf('\n\n\t Number of received photons per bit for:');\n",
"//(a)ASK heterodyne synchronous detection\n",
"Np=(erfinv(1-2*BER))^2*4/eeta; //erfc(x)=1-erf(x)\n",
"\n",
"//Displaying the Result in Command Window\n",
"printf('\n\n\t (a)ASK heterodyne synchronous detection = %1.0f.',Np/2);\n",
"\n",
"//(b)ASK heterodyne asynchronous detection\n",
"Np=-log(2*BER)*4/eeta;\n",
"\n",
"//Displaying the Result in Command Window\n",
"printf('\n\n\t (b)ASK heterodyne asynchronous detection = %1.0f.',Np/2);\n",
"\n",
"//(c)PSK homodyne detection\n",
"Np=(erfinv(1-2*BER))^2/2; //erfc(x)=1-erf(x)\n",
"\n",
"//Displaying the Result in Command Window\n",
"printf('\n\n\t (c)PSK homodyne detection = %1.0f.',Np);"
   ]
   }
,
{
		   "cell_type": "markdown",
		   "metadata": {},
		   "source": [
			"## Example 13.4: Calculation_of_the_minimum_incoming_power_level.sce"
		   ]
		  },
  {
"cell_type": "code",
	   "execution_count": null,
	   "metadata": {
	    "collapsed": true
	   },
	   "outputs": [],
"source": [
"//Example 13.4\n",
"//Program to calculate the minimum incoming power level\n",
"\n",
"clear;\n",
"clc ;\n",
"close ;\n",
"\n",
"//Given data\n",
"K=1;                 //CONSTANT FOR HETERODYNE DETECTION \n",
"Z=1;                 //CONSTANT FOR FSK MODULAION SCHEME\n",
"eeta=1;              //*100 percent - QUANTUM EFFICIENCY\n",
"Bt=400*10^6;         //bps - TRANSMISSION RATE\n",
"BER=10^(-9);         //BIT ERROR RATE\n",
"h= 6.626*10^(-34);   //J/K - PLANK's CONSTANT\n",
"c=2.998*10^8;        //m/s - VELOCITY OF LIGHT IN VACCUM\n",
"Lambda=1.55*10^(-6); //metre - OPERATING WAVELENGTH\n",
"\n",
"//Minimum incoming peak power level\n",
"Ps=(erfinv(1-2*BER))^2*2*h*c*Bt/Lambda; //erfc(x)=1-erf(x)\n",
"\n",
"//Displaying the Result in Command Window\n",
"printf('\n\n\t Minimum incoming peak power level is %0.1f nW or %0.1f dBm.',Ps/10^(-9),10*log10(Ps/(1*10^(-3))));"
   ]
   }
,
{
		   "cell_type": "markdown",
		   "metadata": {},
		   "source": [
			"## Example 13.5: EX13_5.sce"
		   ]
		  },
  {
"cell_type": "code",
	   "execution_count": null,
	   "metadata": {
	    "collapsed": true
	   },
	   "outputs": [],
"source": [
"//Example 13.5\n",
"//Program to calculate the absolute maximum repeater spacing for the \n",
"//following ideal receiver types:\n",
"//(a)ASK heterodyne synchronous detection\n",
"//(b)PSK homodyne detection\n",
"\n",
"clear;\n",
"clc ;\n",
"close ;\n",
"\n",
"//Given data\n",
"Np=36;               //Average photons per bit - FROM EXAMPLE 13.3\n",
"h= 6.626*10^(-34);   //J/K - PLANK's CONSTANT\n",
"c=2.998*10^8;        //m/s - VELOCITY OF LIGHT IN VACCUM\n",
"Lambda=1.55*10^(-6); //metre - OPERATING WAVELENGTH\n",
"\n",
"//(a)ASK heterodyne synchronous detection\n",
"Np=36;               //Average photons per bit - FROM EXAMPLE 13.3\n",
"//For 50 Mbit/s Transmission Rate\n",
"Bt=50*10^6;          //bit/sec - GIVEN TRANSMISSION RATE\n",
"Ps=Np*h*c*Bt/Lambda;\n",
"Max_system_margin=4-10*log10(Ps/(1*10^(-3)));\n",
"Max_repeater_spacing=Max_system_margin/0.2;\n",
"//Displaying the Result in Command Window\n",
"printf('\n\n\t (a)ASK : Maximum repeater spacing for %1.0f Mbit/s transmission rate is %1.0f km.',Bt/10^6,Max_repeater_spacing);\n",
"\n",
"//For 1 Gbit/s Transmission Rate\n",
"Bt=1*10^9;          //bit/sec - GIVEN TRANSMISSION RATE\n",
"Ps=Np*h*c*Bt/Lambda;\n",
"Max_system_margin=4-10*log10(Ps/(1*10^(-3)));\n",
"Max_repeater_spacing=Max_system_margin/0.2;\n",
"//Displaying the Result in Command Window\n",
"printf('\n\n\t          Maximum repeater spacing for %1.0f Gbit/s transmission rate is %1.0f km.',Bt/10^9,Max_repeater_spacing);\n",
"\n",
"//(b)PSK homodyne detection\n",
"Np=9;               //Average photons per bit - FROM EXAMPLE 13.3\n",
"//For 50 Mbit/s Transmission Rate\n",
"Bt=50*10^6;          //bit/sec - GIVEN TRANSMISSION RATE\n",
"Ps=Np*h*c*Bt/Lambda;\n",
"Max_system_margin=4-10*log10(Ps/(1*10^(-3)));\n",
"Max_repeater_spacing=Max_system_margin/0.2;\n",
"//Displaying the Result in Command Window\n",
"printf('\n\n\t (b)PSK : Maximum repeater spacing for %1.0f Mbit/s transmission rate is %1.0f km.',Bt/10^6,Max_repeater_spacing);\n",
"\n",
"//For 1 Gbit/s Transmission Rate\n",
"Bt=1*10^9;          //bit/sec - GIVEN TRANSMISSION RATE\n",
"Ps=Np*h*c*Bt/Lambda;\n",
"Max_system_margin=4-10*log10(Ps/(1*10^(-3)));\n",
"Max_repeater_spacing=Max_system_margin/0.2;\n",
"//Displaying the Result in Command Window\n",
"printf('\n\n\t          Maximum repeater spacing for %1.0f Gbit/s transmission rate is %1.0f km.',Bt/10^9,Max_repeater_spacing);"
   ]
   }
,
{
		   "cell_type": "markdown",
		   "metadata": {},
		   "source": [
			"## Example 13.6: EX13_6.sce"
		   ]
		  },
  {
"cell_type": "code",
	   "execution_count": null,
	   "metadata": {
	    "collapsed": true
	   },
	   "outputs": [],
"source": [
"//Example 13.6\n",
"//Program to estimate the minimum transmitter power requirement for \n",
"//an optical coherent WDM\n",
"\n",
"clear;\n",
"clc ;\n",
"close ;\n",
"\n",
"//Given data\n",
"Np=150;              //photons per bit - RECEPTION \n",
"h= 6.626*10^(-34);   //J/K - PLANK's CONSTANT\n",
"c=2.998*10^8;        //m/s - VELOCITY OF LIGHT IN VACCUM\n",
"B_fib=20*10^12;      //Hz - OPTICAL BANDWIDTH\n",
"Lambda=1.3*10^(-6);  //metre - SHORTEST WAVELENGTH\n",
"\n",
"//Minimum transmitter power requirement for an optical coherent WDM\n",
"Ptx=Np*h*c*B_fib/Lambda;\n",
"\n",
"//Displaying the Result in Command Window\n",
"printf('\n\n\t Minimum transmitter power requirement for an optical coherent WDM is %0.1f mW or %1.0f dBm .',Ptx/10^(-3), 10*log10(Ptx/(1*10^(-3))));"
   ]
   }
],
"metadata": {
		  "kernelspec": {
		   "display_name": "Scilab",
		   "language": "scilab",
		   "name": "scilab"
		  },
		  "language_info": {
		   "file_extension": ".sce",
		   "help_links": [
			{
			 "text": "MetaKernel Magics",
			 "url": "https://github.com/calysto/metakernel/blob/master/metakernel/magics/README.md"
			}
		   ],
		   "mimetype": "text/x-octave",
		   "name": "scilab",
		   "version": "0.7.1"
		  }
		 },
		 "nbformat": 4,
		 "nbformat_minor": 0
}
