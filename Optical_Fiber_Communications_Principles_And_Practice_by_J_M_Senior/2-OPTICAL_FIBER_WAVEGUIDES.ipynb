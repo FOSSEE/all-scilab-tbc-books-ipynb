{
"cells": [
 {
		   "cell_type": "markdown",
	   "metadata": {},
	   "source": [
       "# Chapter 2: OPTICAL FIBER WAVEGUIDES"
	   ]
	},
{
		   "cell_type": "markdown",
		   "metadata": {},
		   "source": [
			"## Example 2.10: Estimation_of_fiber_core_diameter_for_a_single_mode_step_index_fiber.sce"
		   ]
		  },
  {
"cell_type": "code",
	   "execution_count": null,
	   "metadata": {
	    "collapsed": true
	   },
	   "outputs": [],
"source": [
"//Example 2.10\n",
"//Program to estimate the fiber core diameter for a single mode \n",
"//step index fiber\n",
"\n",
"clear;\n",
"clc ;\n",
"close ;\n",
"\n",
"//Given data\n",
"V=2.2;                  //NORMALIZED FREQUENCY\n",
"MFD=11.6*10^(-6);       //metre - MODE FIELD DIAMETER \n",
"W0=5.8*10^(-6);\n",
"\n",
"// The fiber core radius\n",
"a=W0/(0.65+1.619*V^(-1.5)+2.879*V^(-6));\n",
"\n",
"//Displaying the Result in Command Window\n",
"printf('\n\n\t The fiber core diameter for a single mode step index fiber is %0.1f um.',2*a*10^6);"
   ]
   }
,
{
		   "cell_type": "markdown",
		   "metadata": {},
		   "source": [
			"## Example 2.11: Determination_of_spot_size_at_the_operating_wavelength_using_ESI_technique.sce"
		   ]
		  },
  {
"cell_type": "code",
	   "execution_count": null,
	   "metadata": {
	    "collapsed": true
	   },
	   "outputs": [],
"source": [
"//Example 2.11\n",
"//Program to determine spot size at the operating wavelength using ESI\n",
"//technique\n",
"\n",
"clear;\n",
"clc ;\n",
"close ;\n",
"\n",
"//Given data\n",
"lambda=1.30*10^(-6);         //metre - OPERATING WAVELENGTH\n",
"lambda_c=1.08*10^(-6);       //metre - CUTOFF WAVELENGTH\n",
"THEETA_min=12;               //degree\n",
"\n",
"// The effective core radius\n",
"a_eff=3.832*lambda/(2*%pi*sin(THEETA_min*%pi/180));\n",
"\n",
"// The effective normalized frequency\n",
"V_eff=2.405*lambda_c/lambda;\n",
"\n",
"// The spot size\n",
"w0=3.81*10^(-6)*(0.6043+1.755*V_eff^(-1.5)+2.78*V_eff^(-6));\n",
"\n",
"//Displaying the Results in Command Window\n",
"printf('\n\n\t The effective core radius is %0.2f um.',a_eff*10^6);\n",
"printf('\n\n\t The effective normalized frequency is %0.2f.',V_eff);\n",
"printf('\n\n\t The spot size at the operating wavelength is %0.2f um.',w0*10^6);"
   ]
   }
,
{
		   "cell_type": "markdown",
		   "metadata": {},
		   "source": [
			"## Example 2.12: Determination_of_relative_refractive_index_difference_using_ESI_technique.sce"
		   ]
		  },
  {
"cell_type": "code",
	   "execution_count": null,
	   "metadata": {
	    "collapsed": true
	   },
	   "outputs": [],
"source": [
"//Example 2.12\n",
"//Program to determine relative refractive index difference using ESI\n",
"//technique\n",
"\n",
"clear;\n",
"clc ;\n",
"close ;\n",
"\n",
"//Given data\n",
"lambda_c=1.19*10^(-6);       //metre - CUTOFF WAVELENGTH\n",
"w0=5.2*10^(-6);              //metre - SPOT SIZE\n",
"n1=1.485;                    //MAXIMUM REFRACTIVE INDEX OF THE CORE\n",
"\n",
"// The ESI core diameter\n",
"d_ESI=1.820*w0;\n",
"\n",
"// The ESI relative index difference\n",
"delta_ESI=(0.293/n1^2)*(lambda_c/d_ESI)^2;\n",
"\n",
"//Displaying the Result in Command Window\n",
"printf('\n\n\t The relative refractive index difference using ESI technique is %0.2f percent.',delta_ESI*10^2);"
   ]
   }
,
{
		   "cell_type": "markdown",
		   "metadata": {},
		   "source": [
			"## Example 2.1: Determination_of_Critical_Angle_NA_and_Acceptance_Angle.sce"
		   ]
		  },
  {
"cell_type": "code",
	   "execution_count": null,
	   "metadata": {
	    "collapsed": true
	   },
	   "outputs": [],
"source": [
"//Example 2.1\n",
"//Program to determine the following:\n",
"//(a) Critical angle at the core-cladding interface\n",
"//(b) NA for the fiber\n",
"//(c) Acceptance angle in air for the fiber\n",
"\n",
"clear;\n",
"clc ;\n",
"close ;\n",
"\n",
"//Given data\n",
"n1=1.50;          //CORE REFRACTIVE INDEX\n",
"n2=1.47;          //CLADDING REFRACTIVE INDEX\n",
"\n",
"//(a) Critical angle at the core-cladding interface in degrees\n",
"PHIc=asin(n2/n1)*180/%pi;\n",
"\n",
"//(b) NA for the fiber\n",
"NA=sqrt(n1*n1-n2*n2);\n",
"\n",
"//(c) Acceptance angle in air for the fiber in degrees\n",
"THEETAa=asin(NA)*180/%pi;\n",
"\n",
"//Displaying The Results in Command Window\n",
"printf('\n\n\t Critical angle at the core-cladding interface is %0.1f degrees.',PHIc);\n",
"printf('\n\n\t NA for the fiber is %0.2f.',NA);\n",
"printf('\n\n\t Acceptance angle in air for the fiber is %0.1f degrees.',THEETAa);"
   ]
   }
,
{
		   "cell_type": "markdown",
		   "metadata": {},
		   "source": [
			"## Example 2.2: Determination_of_NA_Solid_Acceptance_Angle_and_the_Critical_Angle.sce"
		   ]
		  },
  {
"cell_type": "code",
	   "execution_count": null,
	   "metadata": {
	    "collapsed": true
	   },
	   "outputs": [],
"source": [
"//Example 2.2\n",
"//Program to calculate\n",
"//(a) NA \n",
"//(b) Solid Acceptance Angle\n",
"//(c) Critical Angle at the core-cladding interface\n",
"\n",
"clear;\n",
"clc ;\n",
"close ;\n",
"\n",
"//Given data\n",
"n1=1.46;                //CORE REFRACTIVE INDEX\n",
"delta=0.01;             //RELATIVE REFRACTIVE INDEX DIFFERENCE\n",
"\n",
"//Numerical Aperture\n",
"NA=n1*sqrt(2*delta);\n",
"\n",
"//Solid Acceptance Angle in radians\n",
"zeta=%pi*(NA)^2;\n",
"\n",
"//Critical Angle at the core-cladding interface in degrees\n",
"n2=n1*(1-delta);\n",
"PHI_c=asin(n2/n1)*180/%pi;\n",
"\n",
"//Displaying the Results in Command Window\n",
"printf('\n\n\t The Numerical Aperture for the fiber is %0.2f.',NA);\n",
"printf('\n\n\t The Solid Acceptance Angle for the fiber is %0.2f radians.',zeta);\n",
"printf('\n\n\t The Critical Angle at the core-cladding interface for the fiber is %0.1f degrees.',PHI_c);"
   ]
   }
,
{
		   "cell_type": "markdown",
		   "metadata": {},
		   "source": [
			"## Example 2.3: Comparision_of_Acceptance_Angle_for_Meridional_Rays_and_Skew_Rays.sce"
		   ]
		  },
  {
"cell_type": "code",
	   "execution_count": null,
	   "metadata": {
	    "collapsed": true
	   },
	   "outputs": [],
"source": [
"//Example 2.3\n",
"//Program to Compare the acceptance angle for meridional rays and \n",
"//skew rays which change direction by 100 degrees at each reflection\n",
"\n",
"clear;\n",
"clc ;\n",
"close ;\n",
"\n",
"//Given data\n",
"NA=0.4;                //NUMERICAL APERTURE\n",
"GAMMA=100/2;           //degrees - SKEW RAYS CHANGE DIRECTION BY 100 degrees\n",
"\n",
"//Acceptance angle for Meridional rays in degrees\n",
"THEETA_a=asin(NA)*180/%pi;         \n",
"\n",
"//Acceptance angle for Skew rays in degrees\n",
"THEETA_as=asin(NA/cos(GAMMA*%pi/180))*180/%pi;        \n",
"\n",
"//Displaying the Results in Command Window\n",
"printf('\n\n\t Acceptance angle for Meridional rays is %0.1f degrees.',THEETA_a);\n",
"printf('\n\n\t Acceptance angle for Skew rays is %0.1f degrees.',THEETA_as);\n",
"printf('\n\n\t Acceptance angle for Skew rays is about %1.0f degrees greater than Meridional rays.',THEETA_as-THEETA_a);"
   ]
   }
,
{
		   "cell_type": "markdown",
		   "metadata": {},
		   "source": [
			"## Example 2.4: Estimation_of_Normalized_Frequency_and_Number_of_Guided_Modes.sce"
		   ]
		  },
  {
"cell_type": "code",
	   "execution_count": null,
	   "metadata": {
	    "collapsed": true
	   },
	   "outputs": [],
"source": [
"//Example 2.4\n",
"//Program to estimate \n",
"//(a) Normalized frequency for the fiber\n",
"//(b) The Number of guided modes\n",
"\n",
"clear;\n",
"clc ;\n",
"close ;\n",
"\n",
"//Given data\n",
"n1=1.48;                //CORE REFRACTIVE INDEX\n",
"delta=0.015             //RELATIVE REFRACTIVE INDEX DIFFERENCE\n",
"d=80*10^(-6);           //metre - CORE DIAMETER\n",
"lambda=0.85*10^(-6);    //metre - OPERATING WAVELENGTH\n",
"a=d/2;                  //CORE RADIUS\n",
"\n",
"//(a) Normalized frequency for the fiber\n",
"V=2*%pi/lambda*a*n1*sqrt(2*delta);\n",
"\n",
"//(b) The Number of guided modes\n",
"Ms=(V^2)/2;\n",
"\n",
"//Displaying the Results in Command Window\n",
"printf('\n\n\t The Normalized frequency for the fiber is %0.1f.',V);\n",
"printf('\n\n\t The Number of guided modes of the fiber is %d.',ceil(Ms));"
   ]
   }
,
{
		   "cell_type": "markdown",
		   "metadata": {},
		   "source": [
			"## Example 2.5: Estimation_of_total_number_of_Guided_Modes_propagating_in_the_fiber.sce"
		   ]
		  },
  {
"cell_type": "code",
	   "execution_count": null,
	   "metadata": {
	    "collapsed": true
	   },
	   "outputs": [],
"source": [
"//Example 2.5\n",
"//Program to estimate total number of guided modes propagating in the fiber\n",
"\n",
"clear;\n",
"clc ;\n",
"close ;\n",
"\n",
"//Given data\n",
"NA=0.2;                 //NUMERICAL APERTURE\n",
"d=50*10^(-6);           //metre - CORE DIAMETER\n",
"lambda=1*10^(-6);       //metre - OPERATING WAVELENGTH\n",
"a=d/2;                  //CORE RADIUS\n",
"\n",
"//Normalized Frequency for the fiber\n",
"V=2*%pi/lambda*a*NA;\n",
"\n",
"//Mode Volume for parabolic profile\n",
"M=(V^2)/4;\n",
"\n",
"//Displaying the Results in Command Window\n",
"printf('\n\n\t The number of modes supported by fiber is %1.0f.',M);"
   ]
   }
,
{
		   "cell_type": "markdown",
		   "metadata": {},
		   "source": [
			"## Example 2.6: EX2_6.sce"
		   ]
		  },
  {
"cell_type": "code",
	   "execution_count": null,
	   "metadata": {
	    "collapsed": true
	   },
	   "outputs": [],
"source": [
"//Example 2.6\n",
"//Program to estimate \n",
"//(a) The maximum core diameter of an optical fiber for Example 2.4 \n",
"//(b) The new core diameter for single mode operation when the \n",
"//relative refractive index difference is reduced by a factor of 10\n",
"\n",
"clear;\n",
"clc ;\n",
"close ;\n",
"\n",
"//Given data\n",
"V=2.4;                  //Normalized Frequency\n",
"lambda=0.85*10^(-6);    //metre - OPERATING WAVELENGTH\n",
"n1=1.48;                //CORE REFRACTIVE INDEX \n",
"delta=0.015;            //RELATIVE REFRACTIVE INDEX DIFFERENCE\n",
"\n",
"//(a) The maximum core radius of the optical fiber with delta=1.5%\n",
"a1=V*lambda/(2*%pi*n1*sqrt(2*delta));\n",
"\n",
"//(b) The new core radius for single mode operation when the \n",
"//relative refractive index difference is reduced by a factor of 10\n",
"delta=delta/10;\n",
"a2=V*lambda/(2*%pi*n1*sqrt(2*delta));\n",
"\n",
"//Displaying the Results in Command Window\n",
"printf('\n\n\t The maximum core diameter of the optical fiber with delta 1.5 percent is %0.1f micrometre.',2*a1*10^6);\n",
"printf('\n\n\t The new core diameter for single mode operation when the relative refractive index difference is reduced by a factor of 10 is %0.1f micrometre.',2*a2*10^6);"
   ]
   }
,
{
		   "cell_type": "markdown",
		   "metadata": {},
		   "source": [
			"## Example 2.7: EX2_7.sce"
		   ]
		  },
  {
"cell_type": "code",
	   "execution_count": null,
	   "metadata": {
	    "collapsed": true
	   },
	   "outputs": [],
"source": [
"//Example 2.7\n",
"//Program to estimate the maximum core diameter of an optical fiber \n",
"//which allows single mode operation\n",
"\n",
"clear;\n",
"clc ;\n",
"close ;\n",
"\n",
"//Given data\n",
"alpha=2;                //Parabolic Profile\n",
"lambda=1.3*10^(-6);     //metre - OPERATING WAVELENGTH\n",
"n1=1.5;                 //CORE REFRACTIVE INDEX \n",
"delta=0.01;             //RELATIVE REFRACTIVE INDEX DIFFERENCE\n",
"\n",
"//Normalized Frequency for single mode operation\n",
"V=2.4*sqrt(1+2/alpha);\n",
"\n",
"//The maximum core radius for single mode operation\n",
"a=V*lambda/(2*%pi*n1*sqrt(2*delta));\n",
"\n",
"//Displaying the Results in Command Window\n",
"printf('\n\n\t The maximum core diameter of the optical fiber which allows single mode operation is %0.1f micrometre.',2*a*10^6);"
   ]
   }
,
{
		   "cell_type": "markdown",
		   "metadata": {},
		   "source": [
			"## Example 2.8: EX2_8.sce"
		   ]
		  },
  {
"cell_type": "code",
	   "execution_count": null,
	   "metadata": {
	    "collapsed": true
	   },
	   "outputs": [],
"source": [
"//Example 2.8\n",
"//Program to estimate cutoff wavelength for a step index fiber to \n",
"//exhibit single mode operation\n",
"\n",
"clear;\n",
"clc ;\n",
"close ;\n",
"\n",
"//Given data\n",
"a=4.5*10^(-6);          //metre - CORE RADIUS\n",
"n1=1.46;                //CORE REFRACTIVE INDEX \n",
"delta=0.0025;           //RELATIVE REFRACTIVE INDEX DIFFERENCE\n",
"\n",
"// The cutoff wavelength for a step index fiber\n",
"lambda_c=2*%pi*a*n1*sqrt(2*delta)/2.405;\n",
"\n",
"//Displaying The Results in Command Window\n",
"printf('\n\n\t The cutoff wavelength for a step index fiber to exhibit single mode operation is %1.0f nm.',lambda_c*10^9);"
   ]
   }
,
{
		   "cell_type": "markdown",
		   "metadata": {},
		   "source": [
			"## Example 2.9: Deduction_of_an_approximation_for_the_normalized_propagation_constant.sce"
		   ]
		  },
  {
"cell_type": "code",
	   "execution_count": null,
	   "metadata": {
	    "collapsed": true
	   },
	   "outputs": [],
"source": [
"//Example 2.9\n",
"//Note: MAXIMA SCILAB TOOLBOX REQUIRED FOR THIS PROGRAM\n",
"//Program to deduce an approximation for the normalized propagation \n",
"//constant\n",
" \n",
"clear;\n",
"clc ;\n",
"close ;\n",
"\n",
"syms W b V;\n",
"\n",
"//Given data\n",
"//Eigen Value of the single mode step index fiber cladding\n",
"W =1.1428*V-0.9960;\n",
" \n",
"//Normalized propagation constant b(V)\n",
"b= W^2/V^2;\n",
"\n",
"//Display the result in command window\n",
"disp (b,'The normalized propagation constant b(V) is given by');"
   ]
   }
],
"metadata": {
		  "kernelspec": {
		   "display_name": "Scilab",
		   "language": "scilab",
		   "name": "scilab"
		  },
		  "language_info": {
		   "file_extension": ".sce",
		   "help_links": [
			{
			 "text": "MetaKernel Magics",
			 "url": "https://github.com/calysto/metakernel/blob/master/metakernel/magics/README.md"
			}
		   ],
		   "mimetype": "text/x-octave",
		   "name": "scilab",
		   "version": "0.7.1"
		  }
		 },
		 "nbformat": 4,
		 "nbformat_minor": 0
}
