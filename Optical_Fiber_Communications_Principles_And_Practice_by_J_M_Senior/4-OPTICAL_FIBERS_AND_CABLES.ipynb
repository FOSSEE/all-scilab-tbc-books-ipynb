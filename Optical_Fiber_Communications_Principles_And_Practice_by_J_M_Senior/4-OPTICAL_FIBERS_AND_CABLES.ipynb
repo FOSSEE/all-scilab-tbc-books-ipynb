{
"cells": [
 {
		   "cell_type": "markdown",
	   "metadata": {},
	   "source": [
       "# Chapter 4: OPTICAL FIBERS AND CABLES"
	   ]
	},
{
		   "cell_type": "markdown",
		   "metadata": {},
		   "source": [
			"## Example 4.1: Estimation_of_fracture_stress_for_the_fiber_and_percentage_strain_at_the_break.sce"
		   ]
		  },
  {
"cell_type": "code",
	   "execution_count": null,
	   "metadata": {
	    "collapsed": true
	   },
	   "outputs": [],
"source": [
"//Example 4.1\n",
"//Program to determine the following:\n",
"//(a) Fracture Stress in psi for the fiber\n",
"//(b) Percentage Strain at the break\n",
"\n",
"clear;\n",
"clc ;\n",
"close ;\n",
"\n",
"//Given data\n",
"St=2.6*10^6;          //psi    - THEORETICAL COHESIVE STRENGTH\n",
"la=0.16*10^-9;        //metres - BOND DISTANCE\n",
"C=10*10^-9;           //metres - DEPTH OF CRACK\n",
"E= 9*10^10  ;         //N/m^2  - YOUNG'S MODULUS OF SILICA\n",
"\n",
"Gamma_p=(4*la*St^2)/E;\n",
"\n",
"//Fracture Stress for an Elliptical Crack\n",
"Sf_psi=sqrt((2*E*Gamma_p)/(%pi*C));\n",
"\n",
"//Fracture Stress in psi units\n",
"Sf=Sf_psi*6894.76;\n",
"\n",
"//Strain Calculation\n",
"strain=Sf/E;\n",
"\n",
"//Displaying the Results in Command Window\n",
"printf('\n\n\t Fracture Stress for the fiber is %0.2f X 10^9 N/m or %0.2f X 10^5 psi.',Sf/10^9,Sf_psi/10^5);\n",
"printf('\n\n\t Percentage Strain at the break is %d percent.',strain*100);"
   ]
   }
],
"metadata": {
		  "kernelspec": {
		   "display_name": "Scilab",
		   "language": "scilab",
		   "name": "scilab"
		  },
		  "language_info": {
		   "file_extension": ".sce",
		   "help_links": [
			{
			 "text": "MetaKernel Magics",
			 "url": "https://github.com/calysto/metakernel/blob/master/metakernel/magics/README.md"
			}
		   ],
		   "mimetype": "text/x-octave",
		   "name": "scilab",
		   "version": "0.7.1"
		  }
		 },
		 "nbformat": 4,
		 "nbformat_minor": 0
}
