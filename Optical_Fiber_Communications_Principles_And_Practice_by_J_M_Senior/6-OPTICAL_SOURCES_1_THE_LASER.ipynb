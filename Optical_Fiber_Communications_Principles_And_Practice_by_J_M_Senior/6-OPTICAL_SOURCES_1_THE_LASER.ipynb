{
"cells": [
 {
		   "cell_type": "markdown",
	   "metadata": {},
	   "source": [
       "# Chapter 6: OPTICAL SOURCES 1 THE LASER"
	   ]
	},
{
		   "cell_type": "markdown",
		   "metadata": {},
		   "source": [
			"## Example 6.1: EX6_1.sce"
		   ]
		  },
  {
"cell_type": "code",
	   "execution_count": null,
	   "metadata": {
	    "collapsed": true
	   },
	   "outputs": [],
"source": [
"//Example 6.1\n",
"//Program to calculate the ratio of stimulated emission rate to the\n",
"//spontaneous emission rate\n",
"\n",
"clear;\n",
"clc ;\n",
"close ;\n",
"\n",
"//Given data\n",
"Lambda=0.5*10^-6;     //metres - OPERATING WAVELENGTH\n",
"k=1.381*10^(-23);     //m^2 kg/s - BOLTZMANN's CONSTANT\n",
"c= 2.998*10^8;        //m/s - SPEED OF LIGHT\n",
"h=6.626*10^(-34);     //J/K - PLANK's CONSTANT\n",
"T=1000;               //Kelvin - TEMPERATURE\n",
"\n",
"//Average operating frequency\n",
"f=c/Lambda;\n",
"\n",
"//Stimulated Emission Rate/Spontaneous Emission Rate\n",
"Ratio=1/(exp(h*f/(k*T))-1);\n",
"\n",
"//Displaying the Result in Command Window\n",
"printf('\n\n\t Stimulated Emission Rate/Spontaneous Emission Rate =  %0.1f X 10^(-13).',Ratio/10^(-13));"
   ]
   }
,
{
		   "cell_type": "markdown",
		   "metadata": {},
		   "source": [
			"## Example 6.2: EX6_2.sce"
		   ]
		  },
  {
"cell_type": "code",
	   "execution_count": null,
	   "metadata": {
	    "collapsed": true
	   },
	   "outputs": [],
"source": [
"//Example 6.2\n",
"//Program to determine the number of longitudinal modes and their \n",
"//frequency separation in a ruby laser\n",
"\n",
"clear;\n",
"clc ;\n",
"close ;\n",
"\n",
"//Given data\n",
"Lambda=0.55*10^-6;    //metres - PEAK EMISSION WAVELENGTH\n",
"n=1.78;               //REFRACTIVE INDEX\n",
"c= 2.998*10^8;        //m/s - SPEED OF LIGHT\n",
"L=4*10^(-2);          //metres - CRYSTAL LENGTH\n",
"\n",
"//Number of Longitudinal modes\n",
"q=2*n*L/Lambda;\n",
"\n",
"//Frequency separation of the modes\n",
"del_f=c/(2*n*L);\n",
"\n",
"//Displaying the Results in Command Window\n",
"printf('\n\n\t Number of Longitudinal modes is %0.1f X 10^5.',q/10^5);\n",
"printf('\n\n\t Frequency separation of the modes is %0.1f GHz.',del_f/10^9);"
   ]
   }
,
{
		   "cell_type": "markdown",
		   "metadata": {},
		   "source": [
			"## Example 6.3: Calculation_of_laser_gain_coefficient_for_the_cavity.sce"
		   ]
		  },
  {
"cell_type": "code",
	   "execution_count": null,
	   "metadata": {
	    "collapsed": true
	   },
	   "outputs": [],
"source": [
"//Example 6.3\n",
"//Program to calculate laser gain coefficient for the cavity\n",
"\n",
"clear;\n",
"clc ;\n",
"close ;\n",
"\n",
"//Given data\n",
"L=600*10^-4;          //cm - CAVITY LENGTH\n",
"r=0.3;                //*100 percent - REFLECTIVITY\n",
"alpha_bar= 30;        //per cm - LOSSES\n",
"\n",
"//Laser Gain Coefficient\n",
"gth_bar=alpha_bar+1/L*log(1/r);\n",
"\n",
"//Displaying the Result in Command Window\n",
"printf('\n\n\t Laser Gain Coefficient is %1.0f per cm.',gth_bar);"
   ]
   }
,
{
		   "cell_type": "markdown",
		   "metadata": {},
		   "source": [
			"## Example 6.4: EX6_4.sce"
		   ]
		  },
  {
"cell_type": "code",
	   "execution_count": null,
	   "metadata": {
	    "collapsed": true
	   },
	   "outputs": [],
"source": [
"//Example 6.4\n",
"//Program to compare the approximate radiative minority carrier \n",
"//lifetimes in gallium arsenide and silicon\n",
"\n",
"clear;\n",
"clc ;\n",
"close ;\n",
"\n",
"//Given data\n",
"N=10^18;              //per cm^3 - HOLE CONCENTRATION\n",
"Br1=7.21*10^(-10);    //cm^3 / s - RECOMBINATION COEFFICIENT FOR GaAs\n",
"Br2=1.79*10^(-15);    //cm^3 / s - RECOMBINATION COEFFICIENT FOR Si\n",
"\n",
"//Radiative minority carrier lifetime for GaAs\n",
"tau_r1=1/(Br1*N);\n",
"\n",
"//Radiative minority carrier lifetime for Si\n",
"tau_r2=1/(Br2*N);\n",
"\n",
"//Displaying the Results in Command Window\n",
"printf('\n\n\t Radiative minority carrier lifetime for GaAs is %0.2f ns.',tau_r1/10^(-9));\n",
"printf('\n\n\t Radiative minority carrier lifetime for Si is %0.2f ms.',tau_r2/10^(-3));"
   ]
   }
,
{
		   "cell_type": "markdown",
		   "metadata": {},
		   "source": [
			"## Example 6.5: EX6_5.sce"
		   ]
		  },
  {
"cell_type": "code",
	   "execution_count": null,
	   "metadata": {
	    "collapsed": true
	   },
	   "outputs": [],
"source": [
"//Example 6.5\n",
"//Program to determine the threshold current density and the \n",
"//threshold current for the device\n",
"\n",
"clear;\n",
"clc ;\n",
"close ;\n",
"\n",
"//Given data\n",
"n=3.6;                    //REFRACTIVE INDEX OF GaAs\n",
"beeta_bar=21*10^(-3);     //A/cm^3 - GAIN FACTOR\n",
"alpha_bar=10;             //per cm - LOSS COEFFICIENT\n",
"L=250*10^(-4);            //cm - LENGTH OF OPTICAL CAVITY\n",
"W=100*10^(-4);            //cm - WIDTH OF OPTICAL CAVITY\n",
"\n",
"//Reflectivity for normal incidence\n",
"r=((n-1)/(n+1))^2;\n",
"\n",
"//Threshold current density\n",
"Jth=1/beeta_bar*(alpha_bar+1/L*log(1/r));\n",
"\n",
"//Threshold current\n",
"Ith=Jth*W*L;\n",
"\n",
"//Displaying the Results in Command Window\n",
"printf('\n\n\t Threshold current density is %0.2f X 10^3 A/cm^2.',Jth/10^3);\n",
"printf('\n\n\t Threshold current is %0.1f mA.',Ith/10^(-3));"
   ]
   }
,
{
		   "cell_type": "markdown",
		   "metadata": {},
		   "source": [
			"## Example 6.6: Calculation_of_external_power_efficiency_of_the_device.sce"
		   ]
		  },
  {
"cell_type": "code",
	   "execution_count": null,
	   "metadata": {
	    "collapsed": true
	   },
	   "outputs": [],
"source": [
"//Example 6.6\n",
"//Program to calculate the external power efficiency of the device \n",
"\n",
"clear;\n",
"clc ;\n",
"close ;\n",
"\n",
"//Given data\n",
"eeta_t=0.18;          //*100 percent - TOTAL EFFICIENCY\n",
"Eg=1.43;              //eV - ENERGY BAND GAP OF GaAs\n",
"V=2.5;                //Volts - APPLIED VOLTAGE\n",
"\n",
"//External power efficiency of the device\n",
"eeta_ep=eeta_t*Eg/V;\n",
"\n",
"//Displaying the Result in Command Window\n",
"printf('\n\n\t External power efficiency of GaAs device is %1.0f percent.',eeta_ep*100);"
   ]
   }
,
{
		   "cell_type": "markdown",
		   "metadata": {},
		   "source": [
			"## Example 6.7: EX6_7.sce"
		   ]
		  },
  {
"cell_type": "code",
	   "execution_count": null,
	   "metadata": {
	    "collapsed": true
	   },
	   "outputs": [],
"source": [
"//Example 6.7\n",
"//Program to compare the ratio of threshold current densities at 20 C \n",
"//and 80 C for AlGaAs and InGaAsP\n",
"  \n",
"clear;\n",
"clc ;\n",
"close ;\n",
"\n",
"//Given data \n",
"T1=293;               //degree C\n",
"T2=352;               //degree C\n",
"\n",
"//For AlGaAs\n",
"T0=170;               //degree C\n",
"Jth_20=exp(T1/T0);\n",
"Jth_80=exp(T2/T0);\n",
"Ratio=Jth_80/Jth_20;\n",
"\n",
"//Displaying the Result in Command Window\n",
"printf('\n\n\t Ratio of current densities for AlGaAs is %0.2f .',Ratio);\n",
"\n",
"//For InGaAsP\n",
"T0=55;               //degree C\n",
"Jth_20=exp(T1/T0);\n",
"Jth_80=exp(T2/T0);\n",
"Ratio=Jth_80/Jth_20;\n",
"\n",
"//Displaying the Result in Command Window\n",
"printf('\n\n\t Ratio of current densities for InGaAsP is %0.2f .',Ratio);"
   ]
   }
,
{
		   "cell_type": "markdown",
		   "metadata": {},
		   "source": [
			"## Example 6.8: EX6_8.sce"
		   ]
		  },
  {
"cell_type": "code",
	   "execution_count": null,
	   "metadata": {
	    "collapsed": true
	   },
	   "outputs": [],
"source": [
"//Example 6.8\n",
"//Determine the\n",
"//(a)The RMS value of the power fluctuation\n",
"//(b)The RMS noise current at the output of the detector\n",
"\n",
"clear;\n",
"clc ;\n",
"close ;\n",
"\n",
"//Given data \n",
"B=100*10^6;                      //Hz - BANDWIDTH\n",
"S_rinf_by_Pebarsquare=10^(-15);  //per Hz - RIN VALUE\n",
"e=1.602*10^(-19);                //Coulumbs - CHARGE OF AN ELECTRON\n",
"eeta=0.6;                        //*100 percent - QUANTUM EFFICIENCY\n",
"lambda=1.55*10^(-6);             //metre - WAVELENGTH \n",
"h= 6.626*10^(-34);               //J/K - PLANK's CONSTANT\n",
"c=2.998*10^8;                    //m/s - VELOCITY OF LIGHT IN VACCUM\n",
"Pe_bar=2*10^(-3);                //Watt - INCIDENT POWER\n",
"\n",
"//(a)The RMS value of the power fluctuation\n",
"RMS_value=sqrt(S_rinf_by_Pebarsquare*B);\n",
"\n",
"//(b)The RMS noise current at the output of the detector\n",
"RMS_noise_current=e*eeta*lambda/(h*c)*RMS_value*Pe_bar;\n",
"\n",
"//Displaying the Results in Command Window\n",
"printf('\n\n\t (a)The RMS value of the power fluctuation is %0.2f X 10^(-4) W.',RMS_value/10^(-4));\n",
"printf('\n\n\t (b)The RMS noise current at the output of the detector is %0.2f X 10^(-7) A.',RMS_noise_current/10^(-7));"
   ]
   }
],
"metadata": {
		  "kernelspec": {
		   "display_name": "Scilab",
		   "language": "scilab",
		   "name": "scilab"
		  },
		  "language_info": {
		   "file_extension": ".sce",
		   "help_links": [
			{
			 "text": "MetaKernel Magics",
			 "url": "https://github.com/calysto/metakernel/blob/master/metakernel/magics/README.md"
			}
		   ],
		   "mimetype": "text/x-octave",
		   "name": "scilab",
		   "version": "0.7.1"
		  }
		 },
		 "nbformat": 4,
		 "nbformat_minor": 0
}
