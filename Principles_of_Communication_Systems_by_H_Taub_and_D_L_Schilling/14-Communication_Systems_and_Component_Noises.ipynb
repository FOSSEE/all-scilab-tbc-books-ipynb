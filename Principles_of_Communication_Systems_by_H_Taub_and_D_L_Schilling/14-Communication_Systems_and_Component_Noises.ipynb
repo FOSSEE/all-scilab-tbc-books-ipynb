{
"cells": [
 {
		   "cell_type": "markdown",
	   "metadata": {},
	   "source": [
       "# Chapter 14: Communication Systems and Component Noises"
	   ]
	},
{
		   "cell_type": "markdown",
		   "metadata": {},
		   "source": [
			"## Example 14.1: Thermal_noise_voltage.sce"
		   ]
		  },
  {
"cell_type": "code",
	   "execution_count": null,
	   "metadata": {
	    "collapsed": true
	   },
	   "outputs": [],
"source": [
"clc;\n",
"//page 738\n",
"//problem 14.1\n",
"\n",
"//Boltzman constant  k = 1.3806488 × 10-23 m2 kg s-2 K-1\n",
"k = 1.3806488 * 10^-23; \n",
"\n",
"//Let room temperature be 27 C\n",
"T = 27 + 273; \n",
"\n",
"//Bandwidth BW = 10 MHz\n",
"BW = 10 * 10 ^6;\n",
"\n",
"//For (a)\n",
"//Let the equivalent resistance be Ra\n",
"Ra = 10 + 10;\n",
"\n",
"//RMS Noise Voltage be Va\n",
"Va = (4*k*T*Ra*BW)^0.5;\n",
"\n",
"disp('The rms voltage at output a is '+string(Va)+' Volt');\n",
"\n",
"//For (b)\n",
"//Let the equivalent resistance be Rb\n",
"Rb = (10 * 10)/(10+10);\n",
"\n",
"//RMS Noise Voltage be Vb\n",
"Vb = (4*k*T*Rb*BW)^0.5;\n",
"\n",
"disp('The rms voltage at output b is '+string(Vb)+' Volt');\n",
"\n",
"//For (c)\n",
"\n",
"Rc = 10;\n",
"C = 1*10^-9;\n",
"\n",
"//In the textbook, the author has forgotten to multiply the result with T, hence has obtained an erroneous result.\n",
"//The given answer is 28.01uV but the correct answer is found out to be 1.2uV\n",
"\n",
"Vc_square = 2*k*integrate('Rc/(1 + (2*%pi*Rc*C*f)^2)','f',-10^7,10^7);\n",
"Vc = Vc_square^0.5;\n",
"\n",
"disp('The rms voltage at output c is '+string(Vc)+' Volt');\n",
"\n",
"\n",
"\n",
"\n",
""
   ]
   }
,
{
		   "cell_type": "markdown",
		   "metadata": {},
		   "source": [
			"## Example 14.2: Output_Noise_power.sce"
		   ]
		  },
  {
"cell_type": "code",
	   "execution_count": null,
	   "metadata": {
	    "collapsed": true
	   },
	   "outputs": [],
"source": [
"clc;\n",
"//page 741\n",
"//problem 14.2\n",
"\n",
"//The Antenna noise temperature is T_ant = 10 K\n",
"T_ant = 10;\n",
"\n",
"//The reciever noise temperature is Te = 140 K\n",
"Te = 140;\n",
"\n",
"//Midband available gain of reciever gao = 10^10\n",
"gao = 10^10;\n",
"\n",
"//Noise bandwidth is BN = 1.5 * 10^5 Hz\n",
"BN = 1.5 * 10^5;\n",
"\n",
"//Boltzman constant  k = 1.3806488 × 10-23 m2 kg s-2 K-1\n",
"k = 1.3806488 * 10^-23; \n",
"\n",
"//Available noise power at output is pao\n",
"\n",
"pao = gao*k*(T_ant + Te)*BN;\n",
"\n",
"disp('The available output noise power is '+string(pao)+' Watts');\n",
"\n",
"\n",
""
   ]
   }
,
{
		   "cell_type": "markdown",
		   "metadata": {},
		   "source": [
			"## Example 14.3: Transmitted_power_of_antenna.sce"
		   ]
		  },
  {
"cell_type": "code",
	   "execution_count": null,
	   "metadata": {
	    "collapsed": true
	   },
	   "outputs": [],
"source": [
"clc;\n",
"//page 748\n",
"//problem 14.3\n",
"\n",
"//The distance d = 30 * 1.6 * 10^3 m;\n",
"d = 30 * 1.6 * 10^3;\n",
"\n",
"//Frequency f = 4 * 10^9 Hz\n",
"f = 4 * 10^9;\n",
"\n",
"//Wavelength w = c/f m \n",
"w = 3*10^8 / f;\n",
"\n",
"//Transmitter gain KT = 40 dB\n",
"KT = 10^4;\n",
"\n",
"//Reciever gain KT = 40 dB\n",
"KR = 10^4;\n",
"\n",
"//Reciever power PR = 10^-6 Watt\n",
"PR = 10^-6;\n",
"\n",
"//Transmitter power PT\n",
"PT = PR*(4*%pi*d/w)^2/ (KT*KR);\n",
"\n",
"disp('The transmitter output is '+string(PT)+' Watt')\n",
"\n",
"\n",
"\n",
"\n",
"\n",
"\n",
"\n",
"\n",
"\n",
"\n",
"\n",
"\n",
""
   ]
   }
],
"metadata": {
		  "kernelspec": {
		   "display_name": "Scilab",
		   "language": "scilab",
		   "name": "scilab"
		  },
		  "language_info": {
		   "file_extension": ".sce",
		   "help_links": [
			{
			 "text": "MetaKernel Magics",
			 "url": "https://github.com/calysto/metakernel/blob/master/metakernel/magics/README.md"
			}
		   ],
		   "mimetype": "text/x-octave",
		   "name": "scilab",
		   "version": "0.7.1"
		  }
		 },
		 "nbformat": 4,
		 "nbformat_minor": 0
}
