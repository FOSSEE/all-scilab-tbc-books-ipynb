{
"cells": [
 {
		   "cell_type": "markdown",
	   "metadata": {},
	   "source": [
       "# Chapter 13: Information Theory and Coding"
	   ]
	},
{
		   "cell_type": "markdown",
		   "metadata": {},
		   "source": [
			"## Example 13.11: Turbo_code.sce"
		   ]
		  },
  {
"cell_type": "code",
	   "execution_count": null,
	   "metadata": {
	    "collapsed": true
	   },
	   "outputs": [],
"source": [
"clc;\n",
"//page 696\n",
"//problem 13.11\n",
"\n",
"//The output equations are as follows v1 = s1 xor s2 xor s3 & v2 = s1 xor s3\n",
"//the no of bits in output mode(bits_out) is v*(L+K), v = no of outputs for commutatot = 2, L = length of input = 3 & K = no of memeory elements = 3\n",
"v = 2\n",
"L = 3\n",
"K = 3\n",
"bits_out = v*(L+K)\n",
"\n",
"//Taking in, s1, s2 , s3, v1 & v2 as row matrix where each column represents its corresponding input or output, in means input\n",
"in = [0 1 0 1 0 0 0]\n",
"\n",
"s1 = zeros(1,7)\n",
"s2 = zeros(1,7)\n",
"s3 = zeros(1,7)\n",
"v1 = zeros(1,7)\n",
"v2 = zeros(1,7)\n",
"\n",
"\n",
"for i = 2:7\n",
"    s3(i) = s2(i-1)\n",
"    s2(i) = s1(i-1)\n",
"    s1(i) = in(i-1)\n",
"    v1(i-1) = bitxor(s1(i),bitxor(s2(i),s3(i)))\n",
"    v2(i-1) = bitxor(s1(i),s3(i))\n",
"end\n",
"\n",
"//Output matrix is out\n",
"out = zeros(1,12)\n",
"for i = [1 3 5 7 9 11]\n",
"    out(i) = v1((i+3)/2)\n",
"    out(i+1) = v2((i+3)/2)\n",
"end\n",
"\n",
"disp('output is')\n",
"disp(out)"
   ]
   }
,
{
		   "cell_type": "markdown",
		   "metadata": {},
		   "source": [
			"## Example 13.12: Turbo_code.sce"
		   ]
		  },
  {
"cell_type": "code",
	   "execution_count": null,
	   "metadata": {
	    "collapsed": true
	   },
	   "outputs": [],
"source": [
"clc;\n",
"//page 697\n",
"//problem 13.12\n",
"\n",
"//The qeneratr matrix requires impulse response of the coder.\n",
"//This is the ourput generated when the initially reset coder is fed with a single 1.\n",
"//The no of bits in the output code = 2(1+3) = 8\n",
"\n",
"//Taking in, s1, s2 , s3, v1 & v2 as row matrix where each column represents its corresponding input or output, in means input\n",
"in = [0 1 0 0 0]\n",
"\n",
"s1 = zeros(1,5)\n",
"s2 = zeros(1,5)\n",
"s3 = zeros(1,5)\n",
"v1 = zeros(1,5)\n",
"v2 = zeros(1,5)\n",
"\n",
"\n",
"for i = 2:5\n",
"    s3(i) = s2(i-1)\n",
"    s2(i) = s1(i-1)\n",
"    s1(i) = in(i-1)\n",
"    v1(i-1) = bitxor(s1(i),bitxor(s2(i),s3(i)))\n",
"    v2(i-1) = bitxor(s1(i),s3(i))\n",
"end\n",
"\n",
"//Output matrix is out\n",
"out = zeros(1,8)\n",
"for i = [1 3 5 7]\n",
"    out(i) = v1((i+3)/2)\n",
"    out(i+1) = v2((i+3)/2)\n",
"end\n",
"\n",
"disp('impulse response is')\n",
"disp(out)\n",
"\n",
"//Then generator matrix is G\n",
"G = [1 1 1 0 1 1 0 0 0 0 0 0;0 0 1 1 1 0 1 1 0 0 0 0;0 0 0 0 1 1 1 0 1 1 0 0]\n",
"\n",
"//Note that, in G, impulse responses appear in staggered apper in a staggered manner in each row while the rest of the elements are 0.\n",
"\n",
"//Now, output is b_o = b_i*G where input b_i =[1 0 1] \n",
"b_i = [1 0 1]\n",
"\n",
"b_o = b_i*G\n",
"\n",
"//Here multiplication means Exor operation so whereever two occurs it should be changed to 1\n",
"\n",
"for i = 1:12\n",
"        if  b_o(i) > 1 then\n",
"            b_o(i) = 0;\n",
"        end\n",
"end\n",
"\n",
"disp('output is ')\n",
"disp(b_o)\n",
"disp('The output obtained is exactly same as example 13.1')\n",
""
   ]
   }
,
{
		   "cell_type": "markdown",
		   "metadata": {},
		   "source": [
			"## Example 13.14: GO_back_N_algorithm.sce"
		   ]
		  },
  {
"cell_type": "code",
	   "execution_count": null,
	   "metadata": {
	    "collapsed": true
	   },
	   "outputs": [],
"source": [
"clc;\n",
"//page 701\n",
"//problem 13.14\n",
"\n",
"//Given, Tw = 10microsec, BCH(1023973) code is used implies k as 973 & n as 1023, P_A = 0.99, T1 = 40microsec & N = 4\n",
"Tw = 10*10^-6\n",
"k = 973\n",
"n = 1023\n",
"P_A = 0.99\n",
"T1 = 40*10^-6\n",
"N = 4\n",
"\n",
"//efficiency of Stop-and-Wait ARQ(n_SandW) = (k/n)*(P_A/(1+(T1/Tw)))\n",
"n_SandW = (k/n)*(P_A/(1+(T1/Tw)))\n",
"\n",
"//efficiency of Go-Back-N ARQ(n_GBN) = (k/n)*(1/(1+(N*(1-P_A)/P_A)))\n",
"n_GBN = (k/n)*(1/(1+(N*(1-P_A)/P_A)))\n",
"\n",
"//efficiency of Selective Repeat ARQ(n_SR) = (k/n)*P_A\n",
"n_SR = (k/n)*P_A\n",
"\n",
"disp('efficiency of Stop-and-Wait ARQ is '+string(n_SandW))\n",
"disp('efficiency of Go-Back-N ARQ is '+string(n_GBN))\n",
"disp('efficiency of Selective Repeat ARQ is '+string(n_SR))"
   ]
   }
,
{
		   "cell_type": "markdown",
		   "metadata": {},
		   "source": [
			"## Example 13.15: Power_of_a_Transmitter.sce"
		   ]
		  },
  {
"cell_type": "code",
	   "execution_count": null,
	   "metadata": {
	    "collapsed": true
	   },
	   "outputs": [],
"source": [
"clc;\n",
"//page 718\n",
"//problem 13.15\n",
"\n",
"//Bit interval T = 1/10^6 = 10^-6 sec \n",
"T = 10^-6\n",
"\n",
"//White Noise Power Spectral Density n/2 = 10^-9 W/Hz\n",
"n = 2*10^-9\n",
"\n",
"//Power required Ps = Eb/T, where Eb = energy per bit\n",
"\n",
"//For information system feedback system Eb = n\n",
"Ps = n/T\n",
"\n",
"disp('power required for information system feedback system is '+string(Ps)+' Watt')\n",
"\n",
"//For optimal system Ps = (0.69 * n)/T\n",
"Ps = (0.69 * n)/T;\n",
"\n",
"disp('power required for optimal system is '+string(Ps)+' Watt')"
   ]
   }
,
{
		   "cell_type": "markdown",
		   "metadata": {},
		   "source": [
			"## Example 13.16: Probability_of_error_for_Trellis_decoded_modulatio.sce"
		   ]
		  },
  {
"cell_type": "code",
	   "execution_count": null,
	   "metadata": {
	    "collapsed": true
	   },
	   "outputs": [],
"source": [
"clc;\n",
"//page 719\n",
"//problem 13.16\n",
"\n",
"//Given, Eb = 10^-9Joule, n/2 = 10^-9 Watt/Hertz\n",
"Eb = 10^-8\n",
"n = 2*10^-9\n",
"\n",
"//Probability of error for trellis-decoded modulation(Pe) = (1/2)*erfc(sqrt(1.5*Eb/n))\n",
"Pe = (1/2)*erfc(sqrt(1.5*Eb/n))\n",
"\n",
"disp('Probability of error for trellis-decoded modulation is '+string(Pe))\n",
"\n",
"//Probability of error for Qpsk modulation(Pe) = (1/2)*erfc(sqrt(Eb/n))\n",
"Pe = (1/2)*erfc(sqrt(Eb/n))\n",
"\n",
"disp('Probability of error for Qpsk modulation is '+string(Pe))"
   ]
   }
,
{
		   "cell_type": "markdown",
		   "metadata": {},
		   "source": [
			"## Example 13.1: Information_rate_of_source.sce"
		   ]
		  },
  {
"cell_type": "code",
	   "execution_count": null,
	   "metadata": {
	    "collapsed": true
	   },
	   "outputs": [],
"source": [
"clc;\n",
"//page 631\n",
"//problem 13.1\n",
"\n",
"//Given probabilities p1 = p4 = 1/8 & p2 = p3 = 3/8\n",
"p1 = 1/8\n",
"p4 = 1/8\n",
"p2 = 3/8\n",
"p3 = 3/8\n",
"\n",
"//The average information H is p1*log2 (1/p1)+p2*log2 (1/p2)+p3*log2 (1/p3)+p4*log2 (1/p4) bits/message\n",
"H = p1*log2 (1/p1)+p2*log2 (1/p2)+p3*log2 (1/p3)+p4*log2 (1/p4)\n",
"\n",
"//information rate R is r*H bits/sec where r is 2*B\n",
"//R1 = R/B\n",
"R1 = 2*H\n",
"\n",
"disp('The average information is '+string(H)+' bits/message')\n",
"disp('Information rate '+string(R1)+'*B bits/sec')"
   ]
   }
,
{
		   "cell_type": "markdown",
		   "metadata": {},
		   "source": [
			"## Example 13.4: Channel_Capacity.sce"
		   ]
		  },
  {
"cell_type": "code",
	   "execution_count": null,
	   "metadata": {
	    "collapsed": true
	   },
	   "outputs": [],
"source": [
"clc;\n",
"//page 649\n",
"//problem 13.4\n",
"\n",
"//Given bandwidth(B) = 4000Hertz & Noise PSD(n/2) = 10^-9 Watt/Hertz\n",
"B = 4000\n",
"n = 2*10^-9\n",
"\n",
"//Chanel capacity(C) = B*log2 (1+S/(n*B))\n",
"\n",
"//case 1\n",
"//Signal energy(S) =  0.1Joule\n",
"S = 0.1\n",
"\n",
"C = B*log2 (1+S/(n*B))\n",
"\n",
"disp('Channel capacity for bandwidth = 4000Hertz, Noise PSD = 10^-9 Watt/Hertz & Signal energy(S) =  0.1Joule is '+string(C)+' bits/sec')\n",
"\n",
"//case 2\n",
"//Signal energy(S) =  0.001Joule\n",
"S = 0.001\n",
"\n",
"C = B*log2 (1+S/(n*B))\n",
"\n",
"disp('Channel capacity for bandwidth = 4000Hertz, Noise PSD = 10^-9 Watt/Hertz & Signal energy(S) =  0.001Joule is '+string(C)+' bits/sec')\n",
"\n",
"//case 3\n",
"//Signal energy(S) =  0.001Joule & incresed bandwidth(B) = 10000Hertz\n",
"B = 10000\n",
"S = 0.001\n",
"\n",
"C = B*log2 (1+S/(n*B))\n",
"\n",
"disp('Channel capacity for bandwidth = 10000Hertz, Noise PSD = 10^-9 Watt/Hertz & Signal energy(S) =  0.001Joule is '+string(C)+' bits/sec')"
   ]
   }
,
{
		   "cell_type": "markdown",
		   "metadata": {},
		   "source": [
			"## Example 13.8: Probability_of_error.sce"
		   ]
		  },
  {
"cell_type": "code",
	   "execution_count": null,
	   "metadata": {
	    "collapsed": true
	   },
	   "outputs": [],
"source": [
"clc;\n",
"//page 675\n",
"//problem 13.8\n",
"\n",
"//With single parity bit added, the code size = 4. An error evades parity check if any 2 or all symbols ofthe code arrives are erroneous.\n",
"//Probability of any symbol from n are erroneous = nCm*(p^m)*(1-p)^(n-m)\n",
"\n",
"//Thus, the probability of error undetected, P_undeterr = (4C2*(p^2)*(1-p)^2)+4C4*(p^4) = 6*(p^2)*(1-p)^2)+(p^4)\n",
"\n",
"//Probability of error in detection(P_undeterr1) for p = 0.1\n",
"p = 0.1\n",
"P_undeterr1 = 6*(p^2)*((1-p)^2)+(p^4)\n",
"\n",
"disp('Probability of error in detection for p = 0.1 is '+string(P_undeterr1))\n",
"\n",
"//Probability of error in detection(P_undeterr2) for p = 0.01\n",
"p = 0.01\n",
"P_undeterr2 = 6*(p^2)*((1-p)^2)+(p^4)\n",
"\n",
"disp('Probability of error in detection for p = 0.01 is '+string(P_undeterr2))"
   ]
   }
],
"metadata": {
		  "kernelspec": {
		   "display_name": "Scilab",
		   "language": "scilab",
		   "name": "scilab"
		  },
		  "language_info": {
		   "file_extension": ".sce",
		   "help_links": [
			{
			 "text": "MetaKernel Magics",
			 "url": "https://github.com/calysto/metakernel/blob/master/metakernel/magics/README.md"
			}
		   ],
		   "mimetype": "text/x-octave",
		   "name": "scilab",
		   "version": "0.7.1"
		  }
		 },
		 "nbformat": 4,
		 "nbformat_minor": 0
}
