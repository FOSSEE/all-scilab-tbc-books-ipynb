{
"cells": [
 {
		   "cell_type": "markdown",
	   "metadata": {},
	   "source": [
       "# Chapter 15: Spread Spectrum Modulation"
	   ]
	},
{
		   "cell_type": "markdown",
		   "metadata": {},
		   "source": [
			"## Example 15.1: Jamming.sce"
		   ]
		  },
  {
"cell_type": "code",
	   "execution_count": null,
	   "metadata": {
	    "collapsed": true
	   },
	   "outputs": [],
"source": [
"clc;\n",
"//page 764\n",
"//problem 15.1\n",
"\n",
"//Signal Power data rate fb = 100 Kbps\n",
"fb = 10^5;\n",
"\n",
"//Signal Strength Ps = 1 mW\n",
"Ps = 1*10^(-3);\n",
"\n",
"//Chip frequency fs = 100 MHz\n",
"fs = 10^8;\n",
"\n",
"//Noise Spectral Density n = 2*10^(-9) W/Hz\n",
"n = 2*10^(-9);\n",
"\n",
"//Jamming Signal power is Pj = 1 W\n",
"Pj = 1;\n",
"\n",
"//Processing Gain P\n",
"P = fs/fb;\n",
"disp('Processing Gain is '+string(P));\n",
"\n",
"//Bit Interval T\n",
"T = 1/fb;\n",
"disp('Bit Interval is '+string(T)+'s');\n",
"\n",
"//Energy per bit Eb\n",
"Eb = Ps*T;\n",
"disp('Energy per bit is '+string(Eb));\n",
"\n",
"//Error Probability without jamming E_without_jamming\n",
"E_without_jamming = 0.5*erfc((Eb/(n))^0.5);\n",
"disp('Error probability without jamming is '+string(E_without_jamming));\n",
"\n",
"//Error Probability with jamming E_jamming\n",
"E_jamming = 0.5*erfc(((2*Ps*P)/(Pj))^0.5);\n",
"disp('Error probability jamming is '+string(E_jamming));\n",
"\n",
""
   ]
   }
,
{
		   "cell_type": "markdown",
		   "metadata": {},
		   "source": [
			"## Example 15.2: Ranging_using_DS_spread_spectrum.sce"
		   ]
		  },
  {
"cell_type": "code",
	   "execution_count": null,
	   "metadata": {
	    "collapsed": true
	   },
	   "outputs": [],
"source": [
"clc;\n",
"//page 764\n",
"//problem 15.2\n",
"\n",
"//Chip Rate fc = 110 MHz\n",
"fc = 10*10^6;\n",
"Tc = 1/fc;\n",
"\n",
"//Delay D = 0.1 ms\n",
"D = 0.1*10^-3;\n",
"\n",
"//Speed of light c = 3*10^8 Kmps\n",
"c = 3*10^8;\n",
"\n",
"//Estimated Distance d\n",
"d = 0.5*c*D;\n",
"\n",
"//Tolerance Tol\n",
"Tol = 0.5*c*Tc;\n",
"\n",
"disp('The target is between '+string(d-Tol)+' metres and '+string(d+Tol)+' metres of the source.');"
   ]
   }
,
{
		   "cell_type": "markdown",
		   "metadata": {},
		   "source": [
			"## Example 15.3: Sequence_length.sce"
		   ]
		  },
  {
"cell_type": "code",
	   "execution_count": null,
	   "metadata": {
	    "collapsed": true
	   },
	   "outputs": [],
"source": [
"clc;\n",
"//page 769\n",
"//problem 15.3\n",
"\n",
"//Number of Flip Flops N\n",
"N = 13;\n",
"\n",
"//Maximal length of sequence L\n",
"L = 2^N - 1;\n",
"\n",
"//Upper Bound S\n",
"S = (L - 1)/N;\n",
"\n",
"//No of basic sequences and mirror images\n",
"disp('No of basic sequences and mirror images is '+string(S/2)');\n",
""
   ]
   }
],
"metadata": {
		  "kernelspec": {
		   "display_name": "Scilab",
		   "language": "scilab",
		   "name": "scilab"
		  },
		  "language_info": {
		   "file_extension": ".sce",
		   "help_links": [
			{
			 "text": "MetaKernel Magics",
			 "url": "https://github.com/calysto/metakernel/blob/master/metakernel/magics/README.md"
			}
		   ],
		   "mimetype": "text/x-octave",
		   "name": "scilab",
		   "version": "0.7.1"
		  }
		 },
		 "nbformat": 4,
		 "nbformat_minor": 0
}
