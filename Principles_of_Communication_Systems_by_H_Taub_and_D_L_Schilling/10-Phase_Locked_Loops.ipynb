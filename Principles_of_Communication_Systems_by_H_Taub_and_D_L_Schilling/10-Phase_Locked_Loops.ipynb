{
"cells": [
 {
		   "cell_type": "markdown",
	   "metadata": {},
	   "source": [
       "# Chapter 10: Phase Locked Loops"
	   ]
	},
{
		   "cell_type": "markdown",
		   "metadata": {},
		   "source": [
			"## Example 10.3: SNR_of_Phase_Discriminator.sce"
		   ]
		  },
  {
"cell_type": "code",
	   "execution_count": null,
	   "metadata": {
	    "collapsed": true
	   },
	   "outputs": [],
"source": [
"clc;\n",
"//page 520\n",
"//problem 10.3\n",
"\n",
"// Part (a)\n",
"\n",
"//Input SNR SNR_ip\n",
"SNR_ip = 1000;\n",
"\n",
"//Beta B\n",
"B = 10;\n",
"\n",
"//Output SNR SNR_op\n",
"SNR_op = (1.5*(B^2)*SNR_ip)/(1 + (12*B/%pi)*(SNR_ip)*exp(-0.5*(1/(B+1))*(SNR_ip)));\n",
"\n",
"disp('Output SNR  is '+string(10*log10(SNR_op))+' dB');\n",
"\n",
"// Part (b)\n",
"\n",
"//Input SNR SNR_ip\n",
"SNR_ip = 10;\n",
"\n",
"//Output SNR SNR_op\n",
"SNR_op = (1.5*(B^2)*SNR_ip)/(1 + (12*B/%pi)*(SNR_ip)*exp(-0.5*(1/(B+1))*(SNR_ip)));\n",
"\n",
"disp('Output SNR  is '+string(10*log10(SNR_op))+' dB');"
   ]
   }
,
{
		   "cell_type": "markdown",
		   "metadata": {},
		   "source": [
			"## Example 10.5: Channel_Spacing.sce"
		   ]
		  },
  {
"cell_type": "code",
	   "execution_count": null,
	   "metadata": {
	    "collapsed": true
	   },
	   "outputs": [],
"source": [
"clc;\n",
"//page 533\n",
"//problem 10.5\n",
"\n",
"//Given reference frequency is fref = 10 MHz\n",
"fref = 10 * 10^6;\n",
"\n",
"//Given step frequency is fstep = 100 KHz\n",
"fstep = 100 * 10^3;\n",
"\n",
"//Division ratio M\n",
"M = fref/fstep;\n",
"\n",
"//Required output frequency F = 100.6 MHz\n",
"F = 100.6 * 10^6;\n",
"\n",
"N = F/fstep;\n",
"\n",
"//Given P = 64\n",
"P = 64;\n",
"\n",
"//Truncating value B = 15\n",
"B = 15;\n",
"\n",
"A = N - P*B;\n",
"\n",
"disp('The value of A is '+string(A));\n",
"disp('The value of B is '+string(B));\n",
"disp('The value of M is '+string(M));\n",
"\n",
"\n",
""
   ]
   }
,
{
		   "cell_type": "markdown",
		   "metadata": {},
		   "source": [
			"## Example 10.7: Phase_Locked_Loops.sce"
		   ]
		  },
  {
"cell_type": "code",
	   "execution_count": null,
	   "metadata": {
	    "collapsed": true
	   },
	   "outputs": [],
"source": [
"clc;\n",
"//page 534\n",
"//problem 10.7\n",
"\n",
"//Given reference frequency for PLL is fref = 0.48 MHz\n",
"fref = 0.48 * 10^6;\n",
"\n",
"//Frequency divider N = 2000\n",
"N = 2000;\n",
"\n",
"//Output Frequency fout\n",
"fout = fref*N;\n",
"\n",
"//Output Frequency favg\n",
"favg = (2000*15 + 2001*1)*(0.48/16) * 10^6;\n",
"\n",
"disp('Output frequency is '+string(fout)+' Hz');\n",
"\n",
"//Reference frequency is not subdivided before going to comparator and it is an integer divider in the feedback path the frequency resolution fres = 0.48 * 10^6;\n",
"fres = 0.48 * 10^6;\n",
"\n",
"disp('Frequency resolution is '+string(fres)+' Hz');\n",
"\n",
"disp('Output frequency resolution is '+string(favg - fout)+' Hz');\n",
""
   ]
   }
],
"metadata": {
		  "kernelspec": {
		   "display_name": "Scilab",
		   "language": "scilab",
		   "name": "scilab"
		  },
		  "language_info": {
		   "file_extension": ".sce",
		   "help_links": [
			{
			 "text": "MetaKernel Magics",
			 "url": "https://github.com/calysto/metakernel/blob/master/metakernel/magics/README.md"
			}
		   ],
		   "mimetype": "text/x-octave",
		   "name": "scilab",
		   "version": "0.7.1"
		  }
		 },
		 "nbformat": 4,
		 "nbformat_minor": 0
}
