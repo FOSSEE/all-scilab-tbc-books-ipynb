{
"cells": [
 {
		   "cell_type": "markdown",
	   "metadata": {},
	   "source": [
       "# Chapter 7: Mathematical Representation of Noise"
	   ]
	},
{
		   "cell_type": "markdown",
		   "metadata": {},
		   "source": [
			"## Example 7.3: Noise_Power.sce"
		   ]
		  },
  {
"cell_type": "code",
	   "execution_count": null,
	   "metadata": {
	    "collapsed": true
	   },
	   "outputs": [],
"source": [
"clc;\n",
"//page 413  \n",
"//problem 7.3\n",
"\n",
"//The resistance R = 1000 Ohm                                                                               \n",
"R = 10^3;\n",
"\n",
"//The capacitance C = 0.5*10^-6 F\n",
"C = 0.1*10^-6;\n",
"\n",
"//Cutoff frequency for RC filter is f\n",
"f = 1/(2*%pi*R*C)\n",
"\n",
"//White noise power spectral density n\n",
"n = 10^(-9);\n",
"\n",
"//Noise power at filter output P\n",
"P = (%pi/2)*n*f;\n",
"\n",
"disp('Noise power at output filter is '+string(P)+' Watt');\n",
"\n",
"//Noise power at filter output P_new when cutoff frequency is doubled\n",
"P_new = (%pi/2)*n*2*f;\n",
"\n",
"disp('Noise power at output filter when cutoff frequency is doubled is '+string(P_new)+' Watt');\n",
"\n",
"//Ideal Low Pass filter Bandwidth B = 1000 Hz\n",
"B = 1000;\n",
"\n",
"disp('Output Noise Power is '+string(n*B)+' Watt');\n",
"\n",
"disp('Output Noise Power when cut-off frequency is doubled is '+string(2*n*B)+' Watt');\n",
"\n",
"//Proportionality constant T = 0.01\n",
"T = 0.01;\n",
"\n",
"//Output noise power O\n",
"O = n*(B^3)*(T^2)*(4/3)*(%pi)^2;\n",
"\n",
"disp('Output Noise Power when signal is passed through a differentiator passed through ideal low pass filter '+string(O)+' Watt');\n",
"\n",
"O_new = 8*n*(B^3)*(T^2)*(4/3)*(%pi)^2;\n",
"\n",
"disp('Output Noise Power when signal is passed through a differentiator passed through ideal low pass filter and when cut-off frequency is doubled is '+string(O_new)+' Watt');\n",
"\n",
"\n",
"\n",
""
   ]
   }
,
{
		   "cell_type": "markdown",
		   "metadata": {},
		   "source": [
			"## Example 7.4: SNR_at_output_of_equalizer.sce"
		   ]
		  },
  {
"cell_type": "code",
	   "execution_count": null,
	   "metadata": {
	    "collapsed": true
	   },
	   "outputs": [],
"source": [
"clc;\n",
"//page 413\n",
"//problem 7.4\n",
"\n",
"//Given signal strength S = 0.001 W\n",
"S = 0.001;\n",
"\n",
"//Gaussian Noise Magnitude n \n",
"n = 10^(-8);\n",
"\n",
"//Frequency of signal f = 4000 Hz\n",
"F = 4000;\n",
"\n",
"//Noise at equalizer output N\n",
"N = integrate('n*(1+(f^2)/F^2)','f',-F,F);\n",
"\n",
"//Signal to Noise Ratio value is SNR\n",
"SNR = S/N;\n",
"\n",
"disp('SNR value is '+string(10*log10(SNR))+' dB');\n",
""
   ]
   }
],
"metadata": {
		  "kernelspec": {
		   "display_name": "Scilab",
		   "language": "scilab",
		   "name": "scilab"
		  },
		  "language_info": {
		   "file_extension": ".sce",
		   "help_links": [
			{
			 "text": "MetaKernel Magics",
			 "url": "https://github.com/calysto/metakernel/blob/master/metakernel/magics/README.md"
			}
		   ],
		   "mimetype": "text/x-octave",
		   "name": "scilab",
		   "version": "0.7.1"
		  }
		 },
		 "nbformat": 4,
		 "nbformat_minor": 0
}
