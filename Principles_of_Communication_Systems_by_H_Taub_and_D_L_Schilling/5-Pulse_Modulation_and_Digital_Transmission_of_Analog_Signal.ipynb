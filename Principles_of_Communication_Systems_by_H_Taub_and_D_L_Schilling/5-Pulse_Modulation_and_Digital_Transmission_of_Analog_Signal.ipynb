{
"cells": [
 {
		   "cell_type": "markdown",
	   "metadata": {},
	   "source": [
       "# Chapter 5: Pulse Modulation and Digital Transmission of Analog Signal"
	   ]
	},
{
		   "cell_type": "markdown",
		   "metadata": {},
		   "source": [
			"## Example 5.11: SNR_of_a_DM_system.sce"
		   ]
		  },
  {
"cell_type": "code",
	   "execution_count": null,
	   "metadata": {
	    "collapsed": true
	   },
	   "outputs": [],
"source": [
"clc;\n",
"//page 296\n",
"//problem 5.11\n",
"\n",
"//case 1(a)\n",
"//f = 400Hertz, fs = 8000Hertz\n",
"f = 400\n",
"fs = 8000\n",
"\n",
"//We know that maximum signal to noise ratio(SNR_max) = 3*(fs^2)/(8*(pi^2)*(f^2))\n",
"SNR_max = 3*(fs^2)/(8*(%pi^2)*(f^2))\n",
"//SNR_max in decibels is SNR_max_db\n",
"SNR_max_db = 10*log10 (SNR_max)\n",
"\n",
"disp('Maximum signal to noise ratio for f = 400 & fs = 8000 is '+string(SNR_max)+' = '+string(SNR_max_db)+' db')\n",
"\n",
"//case 1(b)\n",
"//f = 400Hertz, fs = 16000Hertz\n",
"f = 400\n",
"fs = 16000\n",
"\n",
"//We know that maximum signal to noise ratio(SNR_max) = 3*(fs^2)/(8*(pi^2)*(f^2))\n",
"SNR_max = 3*(fs^2)/(8*(%pi^2)*(f^2))\n",
"\n",
"//SNR_max in decibels is SNR_max_db\n",
"SNR_max_db = 10*log10 (SNR_max)\n",
"\n",
"//Given solution is 13.8385 dB obtained solution is 17.838515 dB\n",
"\n",
"disp('Maximum signal to noise ratio for f = 400 & fs = 16000 is '+string(SNR_max)+' = '+string(SNR_max_db)+' db')\n",
"\n",
"//case 2(a)\n",
"//f = 400Hertz, fs = 8000Hertz & fc =  1000Hertz\n",
"f = 400\n",
"fs = 8000\n",
"fc = 1000\n",
"\n",
"//If a 1kHz low pass post reconstruction filter is used then maximum signal to noise ratio(SNR_max) = 3*(fs^3)/(8*(pi^2)*(f^2)*fc)\n",
"SNR_max = 3*(fs^3)/(8*(%pi^2)*(f^2)*fc)\n",
"//SNR_max in decibels is SNR_max_db\n",
"SNR_max_db = 10*log10 (SNR_max)\n",
"\n",
"disp('If a 1kHz low pass post reconstruction filter is used then')\n",
"\n",
"disp('Maximum signal to noise ratio for f = 400, fs = 8000 & fc = 1000 is '+string(SNR_max)+' = '+string(SNR_max_db)+' db')\n",
"\n",
"//case 2(b)\n",
"//f = 400Hertz, fs = 16000Hertz & fc =  1000Hertz\n",
"f = 400\n",
"fs = 16000\n",
"fc = 1000\n",
"\n",
"//If a 1kHz low pass post reconstruction filter is used then maximum signal to noise ratio(SNR_max) = 3*(fs^3)/(8*(pi^2)*(f^2)*fc)\n",
"SNR_max = 3*(fs^3)/(8*(%pi^2)*(f^2)*fc)\n",
"//SNR_max in decibels is SNR_max_db\n",
"SNR_max_db = 10*log10 (SNR_max)\n",
"\n",
"disp('Maximum signal to noise ratio for f = 400, fs = 16000 & fc = 1000 is '+string(SNR_max)+' = '+string(SNR_max_db)+' db')"
   ]
   }
,
{
		   "cell_type": "markdown",
		   "metadata": {},
		   "source": [
			"## Example 5.2: Minimum_sampling_rate.sce"
		   ]
		  },
  {
"cell_type": "code",
	   "execution_count": null,
	   "metadata": {
	    "collapsed": true
	   },
	   "outputs": [],
"source": [
"clc;\n",
"//page 247\n",
"//problem 5.2\n",
"\n",
"//Highest frequency(fH) = 10000/2 = 5000 Hz \n",
"fH = 5000\n",
"\n",
"//Lowest frequency(fL) = 6000/2 = 3000 Hz\n",
"fL = 3000\n",
"\n",
"//Minimum sampling frequency from low pass consideration(S_LOW) = 2*fH\n",
"S_LOW = 2*fH\n",
"\n",
"disp('Minimum sampling frequency from low pass consideration is '+string(S_LOW)+' Hz')\n",
"\n",
"//B = fH-fL = 2000 Hz\n",
"B = fH-fL\n",
"\n",
"//k = floor(fH/B) = 2, where floor(x) gives the largest integer that does not exceed x\n",
"k = floor(fH/B)\n",
"\n",
"//The required sampling frequency from band pass consideration(S_BAND) = 2*fH/k\n",
"S_BAND = 2*fH/k\n",
"\n",
"disp('Minimum sampling frequency from band pass consideration is '+string(S_BAND)+' Hz')"
   ]
   }
,
{
		   "cell_type": "markdown",
		   "metadata": {},
		   "source": [
			"## Example 5.3: Calculation_of_Guard_time.sce"
		   ]
		  },
  {
"cell_type": "code",
	   "execution_count": null,
	   "metadata": {
	    "collapsed": true
	   },
	   "outputs": [],
"source": [
"clc;\n",
"//page 259\n",
"//problem 5.3\n",
"\n",
"//Given width of each pulse W = 150 us\n",
"W = 150 * 10^-6\n",
"\n",
"//One cycle is a period,T = 1ms\n",
"T = 1000 * 10^-6\n",
"\n",
"//There are 5 messages multiplexed each utilizeallocated time pulse width = s(T_5) = T/5\n",
"T_5 = T/5\n",
"\n",
"//Gaurd time(GT_5) = allocated time-pulse width = T_5-W\n",
"GT_5 = T_5-W\n",
"\n",
"disp('Gaurd time where 5 messages multiplexed is '+string(GT_5)+' seconds')\n",
"\n",
"//Here there are 10 messages multiplexed each utilizeallocated time pulse width = s(T_10) = T/10\n",
"T_10 = T/10\n",
"\n",
"//Gaurd time(GT_10) = allocated time-pulse width = T_10-norrow pulses width = T_10 -50* 10^-6\n",
"GT_10 = T_10 - 50 * 10^-6\n",
"\n",
"disp('Gaurd time where 10 messages multiplexed is '+string(GT_10)+' seconds')"
   ]
   }
,
{
		   "cell_type": "markdown",
		   "metadata": {},
		   "source": [
			"## Example 5.5: Calculation_of_minimum_number_of_Binary_digits.sce"
		   ]
		  },
  {
"cell_type": "code",
	   "execution_count": null,
	   "metadata": {
	    "collapsed": true
	   },
	   "outputs": [],
"source": [
"clc;\n",
"//page 272\n",
"//problem 5.5\n",
"\n",
"//Let Abe the maximum value of the discrete samples.\n",
"//Error tolerated is 0.1% i.e. 0.001A\n",
"//If D is step size then possible maximum error is D/2\n",
"//Thus D/2 = 0.001A or A/D = 500 = no of levels required(Levels)\n",
"Levels = 500\n",
"\n",
"//minimum no of binary digits required(B) = rounded value to the next higher integer of log2 (Levels)\n",
"B = round(log2 (Levels))\n",
"\n",
"disp('Minimum no of binary digits required '+string(B))"
   ]
   }
,
{
		   "cell_type": "markdown",
		   "metadata": {},
		   "source": [
			"## Example 5.6: Companding.sce"
		   ]
		  },
  {
"cell_type": "code",
	   "execution_count": null,
	   "metadata": {
	    "collapsed": true
	   },
	   "outputs": [],
"source": [
"clc;\n",
"//page 273\n",
"//problem 5.6\n",
"\n",
"//The y axis is uniformly quantized with step size(step_size) = 1/[(2^8)/(2-1)] in both +ve & -ve direction between 1 & -1 when peak of input varies between 1 & -1.\n",
"//The smallest step in x direction occurs nearest to x=0 i.e between y1 = 0 & y2 = step_size\n",
"step_size = 1/[(2^8)/2-1]\n",
"y1 = 0\n",
"y2 = step_size\n",
"\n",
"//Then, y1 = [ln(1+255*x1)]/[ln(1+255)]\n",
"\n",
"x1 = (%e^(y1*log(256)) - 1)/255;\n",
"\n",
"//y2 = [ln(1+255*x2)]/[ln(1+255)]\n",
"x2 = (%e^(y2*log(256)) - 1)/255;\n",
"\n",
"//The smallest step size is 10*(x2-x1)\n",
"disp('The smallest step size is '+string(10*(x2-x1))+' Volts')\n",
"\n",
"//The largest step size occurs when x is at its extreme between y1 = 1-1/127 = 126/127 & y2 = 1\n",
"y1 = 1-1/127\n",
"y2 = 1\n",
"\n",
"//Then, y1 = [ln(1+255*x1)]/[ln(1+255)]\n",
"\n",
"x1 = (%e^(y1*log(256)) - 1)/255;\n",
"\n",
"//y2 = [ln(1+255*x2)]/[ln(1+255)]\n",
"x2 = (%e^(y2*log(256)) - 1)/255;\n",
"\n",
"//The largest step size is 10*(x2-x1)\n",
"disp('The largest step size is '+string(10*(x2-x1))+' Volts')"
   ]
   }
,
{
		   "cell_type": "markdown",
		   "metadata": {},
		   "source": [
			"## Example 5.9: LMS_Algorithm.sce"
		   ]
		  },
  {
"cell_type": "code",
	   "execution_count": null,
	   "metadata": {
	    "collapsed": true
	   },
	   "outputs": [],
"source": [
"clc;\n",
"//page 296\n",
"//problem 5.9\n",
"\n",
"//for error calculation e(n) = m(n) - [^hj(n)*m(n-1)+^hj(n)*m(n-2)+^hj(n)*m(n-3)+ ........+^hj(n)*m(n-N)]\n",
"\n",
"//for coefficient upgradation ^hj(n+1) = ^hj(n)+um(n-j)e(n) where u = learning parameter = 0.1.\n",
"u = 0.1\n",
"\n",
"//Assign m values taking from m = -3 to 5\n",
"//Denoting m(x) as matrix m where each element repesents from n = -3 to 5  \n",
"m = [0 0 0 1 2 3 4 5 6]\n",
"\n",
"//taking e(n) as matrix e, ^hj(n) as matrises h_j\n",
"e = zeros(1,5)\n",
"h_1 = zeros(1,6)\n",
"h_2 = zeros(1,6)\n",
"\n",
"//given ^h1(0)= ^h2(0) = 0\n",
"h_1(1) = 0\n",
"h_2(1) = 0\n",
"\n",
"for i = 1:5\n",
"    e(i) = m(i+3) - h_1(i)*m(i+2) - h_2(i)*m(i+1)\n",
"    h_1(i+1) = h_1(i) + u*m(i+2)*e(i)\n",
"    h_2(i+1) = h_2(i) + u*m(i+1)*e(i)\n",
"end\n",
"\n",
"//here e(3) is given as 1.32 but it is displaying 0.92\n",
"//here ^h2(3) is given as 0.26 but it is displaying 0.46\n",
"\n",
"for i = 1:5\n",
"    disp('e('+string(i-1)+') = '+string(e(i)))\n",
"    disp('^h1('+string(i)+') = '+string(h_1(i+1)))\n",
"    disp('^h2('+string(i)+') = '+string(h_2(i+1)))\n",
"end"
   ]
   }
],
"metadata": {
		  "kernelspec": {
		   "display_name": "Scilab",
		   "language": "scilab",
		   "name": "scilab"
		  },
		  "language_info": {
		   "file_extension": ".sce",
		   "help_links": [
			{
			 "text": "MetaKernel Magics",
			 "url": "https://github.com/calysto/metakernel/blob/master/metakernel/magics/README.md"
			}
		   ],
		   "mimetype": "text/x-octave",
		   "name": "scilab",
		   "version": "0.7.1"
		  }
		 },
		 "nbformat": 4,
		 "nbformat_minor": 0
}
