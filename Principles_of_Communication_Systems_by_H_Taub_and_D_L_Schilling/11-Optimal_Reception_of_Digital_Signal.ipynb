{
"cells": [
 {
		   "cell_type": "markdown",
	   "metadata": {},
	   "source": [
       "# Chapter 11: Optimal Reception of Digital Signal"
	   ]
	},
{
		   "cell_type": "markdown",
		   "metadata": {},
		   "source": [
			"## Example 11.3: Optimal_threshold_and_probability_of_error.sce"
		   ]
		  },
  {
"cell_type": "code",
	   "execution_count": null,
	   "metadata": {
	    "collapsed": true
	   },
	   "outputs": [],
"source": [
"clc;\n",
"//page 558\n",
"//problem 11.3\n",
"\n",
"//Prior probability of s1 P_s1 = 0.4\n",
"P_s1 = 0.4;\n",
"\n",
"//Prior probability of s2 P_s2 = 1 - P_s1\n",
"P_s2 = 1 - P_s1;\n",
"\n",
"//Voltage level V1 = 1\n",
"V1 = 1;\n",
"\n",
"//Voltage level V2 = -1\n",
"V2 = -1;\n",
"\n",
"//Part a\n",
"\n",
"//Noise Variance sigma1 = 10^-3\n",
"sigma1 = 10^-3;\n",
"\n",
"//Descision Threshold lambda1 \n",
"lambda1 = (V1+V2)/2 + (sigma1)*log(P_s2/P_s1)/(V1-V2);\n",
"\n",
"//Probability of error Pe\n",
"Pe = 0.5*(2*P_s1 - P_s1*erfc(((V2-V1)/(2*sigma1*2^0.5)) + (sigma1)*log(P_s2/P_s1)/((V1-V2)*2^0.5)));\n",
"\n",
"disp('The decision threshold is '+string(lambda1)+' V');\n",
"disp('The probability of error is approximately '+string(Pe));\n",
"\n",
"//Part b\n",
"\n",
"//Noise Variance sigma2 = 10^-1\n",
"sigma2 = 10^-1;\n",
"\n",
"//Descision Threshold lambda2\n",
"lambda2 = (V1+V2)/2 + (sigma2)*log(P_s2/P_s1)/(V1-V2);\n",
"\n",
"//Probability of error Pe\n",
"Pe1 = 0.5*(2*P_s1 - P_s1*erfc(((V2-V1)/(2*sigma2*2^0.5)) + (sigma2)*log(P_s2/P_s1)/((V1-V2)*2^0.5)));\n",
"\n",
"//In the textbook Pe has been calulated to be 0.0021 because of the use of a very high precision calculator, unfortunately in scilab the function erfc approximates the output value to a larger extent due to which an exact value cannot be obtained.\n",
"\n",
"disp('The decision threshold is '+string(lambda2)+' V');\n",
"disp('The probability of error is approximately '+string(Pe1));\n",
"\n",
""
   ]
   }
,
{
		   "cell_type": "markdown",
		   "metadata": {},
		   "source": [
			"## Example 11.4: Decision_threshold.sce"
		   ]
		  },
  {
"cell_type": "code",
	   "execution_count": null,
	   "metadata": {
	    "collapsed": true
	   },
	   "outputs": [],
"source": [
"clc;\n",
"//page 559\n",
"//problem 11.4\n",
"\n",
"//Part b\n",
"\n",
"//Voltage level V1 = 1\n",
"V1 = 1;\n",
"\n",
"//Voltage level V2 = -1\n",
"V2 = -1;\n",
"\n",
"//Prior probability of s1 P_s1 = 0.4\n",
"P_s1 = 0.4;\n",
"\n",
"//Prior probability of s2 P_s2 = 1 - P_s1\n",
"P_s2 = 1 - P_s1;\n",
"\n",
"//Cost of selecting s1 when s2 is transmitted C12 = 0.7\n",
"C12 = 0.7;\n",
"\n",
"//Cost of selecting s2 when s1 is transmitted C21 = 1 - C12\n",
"C21 = 1 - C12;\n",
"\n",
"//Noise Variance sigma = 10^-3\n",
"sigma = 10^-3;\n",
"\n",
"//Descision Threshold lambda\n",
"lambda = (V1+V2)/2 + (sigma)*log((C12*P_s2)/(C21*P_s1))/(V1-V2);\n",
"\n",
"disp('The decision threshold is '+string(lambda)+' V');"
   ]
   }
,
{
		   "cell_type": "markdown",
		   "metadata": {},
		   "source": [
			"## Example 11.5: Probability_of_error_of_optimum_filter.sce"
		   ]
		  },
  {
"cell_type": "code",
	   "execution_count": null,
	   "metadata": {
	    "collapsed": true
	   },
	   "outputs": [],
"source": [
"clc;\n",
"//page 567\n",
"//problem 11.5\n",
"\n",
"//The voltage level of reciever is V = 5 mV\n",
"V = 5*10^-3;\n",
"\n",
"//The time required to transfer one bit is T = 1/9600 sec\n",
"T = 9600^-1;\n",
"\n",
"//the signal energy of a bit be Es\n",
"Es = (V^2)*T;\n",
"\n",
"//The power spectral density is n/2 = 10^-9 Watt/hertz\n",
"n = 2*10^-9;\n",
"\n",
"//Probability error for optimal reciever is Pe\n",
"Pe = 0.5*erfc((Es/n)^0.5);\n",
"\n",
"disp('The probability of error is '+string(Pe));\n",
"\n",
"//When the data rate is doubled, the new effective energy per bit is Es_new\n",
"Es_new = (V^2)*(T/2);\n",
"\n",
"//The new probability of error is Pe_new\n",
"Pe_new = 0.5*erfc((Es_new/n)^0.5);\n",
"\n",
"//Percentage increase in error rate is P\n",
"P = 100*(Pe_new - Pe)/Pe;\n",
"\n",
"disp('Percentage increase in error rate is '+string(P));\n",
"\n",
"//Voltage required to restore probability levels, V_new\n",
"V_new = V*2^0.5;\n",
"\n",
"disp('Voltage required to restore the probability levels is '+string(V_new)+' Volts');\n",
"\n",
"\n",
"\n",
"\n",
"\n",
"\n",
"\n",
"\n",
""
   ]
   }
,
{
		   "cell_type": "markdown",
		   "metadata": {},
		   "source": [
			"## Example 11.6: Error_probability_of_BPSK_signal.sce"
		   ]
		  },
  {
"cell_type": "code",
	   "execution_count": null,
	   "metadata": {
	    "collapsed": true
	   },
	   "outputs": [],
"source": [
"clc;\n",
"//page 575\n",
"//problem 11.6\n",
"\n",
"//Amplitude of signal is A = 10 mV\n",
"A = 10*10^-3;\n",
"\n",
"//Power Spectral Density n = 2 * 10^(-9) W/Hz\n",
"n = 2 * 10^(-9);\n",
"\n",
"//Frequency is f = 1 MHz\n",
"f = 1*10^6;\n",
"\n",
"//Data rate is D = 10^4 bps;\n",
"D = 10^4;\n",
"\n",
"//Time taken for a bit to traverse\n",
"T = 1/D;\n",
"\n",
"//Energy per signal element is Es\n",
"Es = A^2/(2*D);\n",
"\n",
"//Probability of error Pe\n",
"Pe = 0.5*erfc((Es/n)^0.5);\n",
"\n",
"disp('Probability of error is '+string(Pe));\n",
"\n",
"//Phase shift phi = %pi/6\n",
"phi = %pi/6;\n",
"\n",
"//Probability of error Pe_local_oscillator\n",
"Pe_local_oscillator = 0.5*erfc(((Es/n)^0.5)*cos(phi));\n",
"\n",
"disp('Probability of error of local oscillator with phase shift is '+string(Pe_local_oscillator));\n",
"\n",
"//Timing error t\n",
"t = 0.1*T;\n",
"\n",
"//Probability of error when there is a synchronization fault Pe_timing_error\n",
"Pe_timing_error = 0.5*erfc(((Es/n)*(1 - 2*(t/T))^2)^0.5);\n",
"\n",
"disp('Probability of error with synchronization fault is '+string(Pe_timing_error));\n",
"\n",
"//Probability of error when both faults occur Pe_both\n",
"Pe_both = 0.5*erfc(((Es/n)*(cos(phi)^2)*(1 - 2*(t/T))^2)^0.5);\n",
"\n",
"disp('Probability of error when both faults occur '+string(Pe_both));\n",
"\n",
"\n",
"\n",
"\n",
""
   ]
   }
,
{
		   "cell_type": "markdown",
		   "metadata": {},
		   "source": [
			"## Example 11.7: Error_probability_of_coherent_FSK_signal.sce"
		   ]
		  },
  {
"cell_type": "code",
	   "execution_count": null,
	   "metadata": {
	    "collapsed": true
	   },
	   "outputs": [],
"source": [
"clc;\n",
"//page 575\n",
"//problem 11.7\n",
"\n",
"//Amplitude of signal is A = 10 mV\n",
"A = 10*10^-3;\n",
"\n",
"//Power Spectral Density n = 2 * 10^(-9) W/Hz\n",
"n = 2 * 10^(-9);\n",
"\n",
"//Data rate is D = 10^4 bps;\n",
"D = 10^4;\n",
"\n",
"//Time taken for a bit to traverse\n",
"T = 1/D;\n",
"\n",
"//Energy per signal element is Es\n",
"Es = A^2/(2*D);\n",
"\n",
"//Probability of error Pe_a\n",
"Pe_a = 0.5*erfc((0.6*Es/n)^0.5);\n",
"disp('Probability of error when offset is small is '+string(Pe_a));\n",
"\n",
"//Probability of error Pe_b\n",
"Pe_b = 0.5*erfc((Es/(2*n))^0.5);\n",
"disp('Probability of error when frequencies used are orthogonal is '+string(Pe_b));\n",
"\n",
"//Probability of error Pe_c\n",
"Pe_c = 0.5*exp(-(Es/(2*n)));\n",
"disp('Probability of error for non coherent detection is '+string(Pe_c));\n",
""
   ]
   }
,
{
		   "cell_type": "markdown",
		   "metadata": {},
		   "source": [
			"## Example 11.8: Error_probability_in_Optimal_Reception.sce"
		   ]
		  },
  {
"cell_type": "code",
	   "execution_count": null,
	   "metadata": {
	    "collapsed": true
	   },
	   "outputs": [],
"source": [
"clc;\n",
"//page 588\n",
"//problem 11.8\n",
"\n",
"//Energy aasosciated with each bit Eb = 5 * 10^(-8) J\n",
"Eb = 5 * 10^(-8);\n",
"\n",
"//Power Spectral Density n = 2 * 10^(-9) W/Hz\n",
"n = 2 * 10^(-9);\n",
"\n",
"//No of symbols M\n",
"M = 16\n",
"\n",
"//No of bits N\n",
"N = log2(M);\n",
"\n",
"//Error limit for 16-PSK is P_16_PSK\n",
"P_16_PSK = erfc(((N*Eb*(%pi)^2)/(((M)^2)*n))^0.5);\n",
"\n",
"disp('Upper limit of error probability of 16 PSK system is '+string(P_16_PSK));\n",
"\n",
"//Error limit for 16-QASK is P_16_QASK\n",
"P_16_QASK = 2*erfc(((0.4*Eb)/(n))^0.5);\n",
"\n",
"disp('Upper limit of error probability of 16 QASK system is '+string(P_16_QASK));\n",
"\n",
"//Error limit for 16-FSK is P_16_FSK\n",
"P_16_FSK = ((2^4 - 1)/2)*erfc(((N*Eb)/(2*n))^0.5);\n",
"\n",
"disp('Upper limit of error probability of 16 FSK system is '+string(P_16_FSK)+', negligibly small');"
   ]
   }
,
{
		   "cell_type": "markdown",
		   "metadata": {},
		   "source": [
			"## Example 11.9: Probability_of_error_of_QPR_System.sce"
		   ]
		  },
  {
"cell_type": "code",
	   "execution_count": null,
	   "metadata": {
	    "collapsed": true
	   },
	   "outputs": [],
"source": [
"clc;\n",
"//page 595\n",
"//problem 11.9\n",
"\n",
"//Energy aasosciated with each bit Eb = 5 * 10^(-8) J\n",
"Eb = 5 * 10^(-8);\n",
"\n",
"//Power Spectral Density n = 2 * 10^(-9) W/Hz\n",
"n = 2 * 10^(-9);\n",
"\n",
"//Probability of error Pe\n",
"Pe = 0.5*erfc(((Eb*(%pi)^2)/(16*n))^0.5);\n",
"\n",
"disp('Probability of error of QPR system is '+string(Pe));\n",
"\n",
"//Given Bandwidth of channel is BW\n",
"BW = 10*10^3;\n",
"\n",
"D = 2*BW;\n",
"\n",
"disp('Data rate is '+string(D)+' bps');\n",
""
   ]
   }
],
"metadata": {
		  "kernelspec": {
		   "display_name": "Scilab",
		   "language": "scilab",
		   "name": "scilab"
		  },
		  "language_info": {
		   "file_extension": ".sce",
		   "help_links": [
			{
			 "text": "MetaKernel Magics",
			 "url": "https://github.com/calysto/metakernel/blob/master/metakernel/magics/README.md"
			}
		   ],
		   "mimetype": "text/x-octave",
		   "name": "scilab",
		   "version": "0.7.1"
		  }
		 },
		 "nbformat": 4,
		 "nbformat_minor": 0
}
