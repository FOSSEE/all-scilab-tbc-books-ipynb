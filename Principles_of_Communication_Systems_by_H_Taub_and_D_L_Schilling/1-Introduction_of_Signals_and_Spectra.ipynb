{
"cells": [
 {
		   "cell_type": "markdown",
	   "metadata": {},
	   "source": [
       "# Chapter 1: Introduction of Signals and Spectra"
	   ]
	},
{
		   "cell_type": "markdown",
		   "metadata": {},
		   "source": [
			"## Example 1.1: Calculation_of_Energy.sce"
		   ]
		  },
  {
"cell_type": "code",
	   "execution_count": null,
	   "metadata": {
	    "collapsed": true
	   },
	   "outputs": [],
"source": [
"clc;\n",
"//page 12\n",
"//problem 1.1\n",
"\n",
"//Given signal u = 2*exp(-3*t) \n",
"\n",
"//Since the function integral does not accept %inf as limit we need to use approximation by changing variables.\n",
"\n",
"//First the signal is to be expressed in terms of 'x'.\n",
"\n",
"function y=Signal(x); \n",
"y=2*exp(-3*x); \n",
"endfunction;\n",
"\n",
"//We then substitute x = tan(z), and then express the given signal wrt 'z' and not 'x'.\n",
"\n",
"function y=Gmodified(z); \n",
"x=tan(z); \n",
"y=(Signal(x))^2/(cos(z))^2; \n",
"endfunction;\n",
"\n",
"E = intg(0,atan(10),Gmodified)\n",
"\n",
"disp(E,'The energy of this signal is ');"
   ]
   }
,
{
		   "cell_type": "markdown",
		   "metadata": {},
		   "source": [
			"## Example 1.2: Calculation_of_Power.sce"
		   ]
		  },
  {
"cell_type": "code",
	   "execution_count": null,
	   "metadata": {
	    "collapsed": true
	   },
	   "outputs": [],
"source": [
"clc;\n",
"//page 12\n",
"//problem 1.2\n",
"\n",
"//Given signal u = 2*sin(0.5*%pi*t) \n",
"\n",
"//Since u is periodic, averaging over -infinity to + infinity will give the same result as averaging over -2 to 2, where 4 is the time period.\n",
"\n",
"t0 = -2;\n",
"t1 = 2;\n",
"E = integrate('(2*sin(0.5*%pi*t))^2','t',t0,t1)/4;\n",
"\n",
"disp(E,'The power of the signal is ');"
   ]
   }
,
{
		   "cell_type": "markdown",
		   "metadata": {},
		   "source": [
			"## Example 1.3: Time_shifting.sce"
		   ]
		  },
  {
"cell_type": "code",
	   "execution_count": null,
	   "metadata": {
	    "collapsed": true
	   },
	   "outputs": [],
"source": [
"clc;\n",
"//page 18\n",
"//problem 1.3\n",
"\n",
"//u1(T) vs T\n",
"T = [-5:0.0082:5];\n",
"u1(T<=0) = 0;\n",
"u1(T>0) = 1;\n",
"xlabel('T');\n",
"ylabel('u(T)')\n",
"\n",
"subplot(131);\n",
"plot2d(T,u1);\n",
"\n",
"//u2(T-t) vs T\n",
"//Shifting the given signal by t units to the right, we get\n",
"//Let us assume the amount of time to be shited is 3 units \n",
"t = 3;\n",
"\n",
"T = [-5:0.0082:5];\n",
"u2(T<=t) = 0;\n",
"u2(T>t) = 1;\n",
"xlabel('T');\n",
"ylabel('u(T - t)')\n",
"\n",
"subplot(132);\n",
"plot2d(T,u2);\n",
"\n",
"//u(t - T) = u(-(T - t))\n",
"\n",
"T = [-5:0.0082:5];\n",
"u3(T>=t) = 0;\n",
"u3(T<t) = 1;\n",
"xlabel('T');\n",
"ylabel('u(t - T)')\n",
"\n",
"subplot(133);\n",
"plot2d(T,u3);"
   ]
   }
,
{
		   "cell_type": "markdown",
		   "metadata": {},
		   "source": [
			"## Example 1.4: Time_shifting.sce"
		   ]
		  },
  {
"cell_type": "code",
	   "execution_count": null,
	   "metadata": {
	    "collapsed": true
	   },
	   "outputs": [],
"source": [
"clc;\n",
"//page 18\n",
"//problem 1.4\n",
"\n",
"//u1(t)\n",
"t = [-5:0.0082:5];\n",
"u1(t<=0) = 0;\n",
"u1(t>0) = 1;\n",
"\n",
"xlabel('t');\n",
"ylabel('u(t)')\n",
"\n",
"subplot(131);\n",
"plot2d(t,u1);\n",
"\n",
"//u2(t-T)\n",
"//Shifting the given signal by t units to the right, we get\n",
"//Let us assume the amount of time to be shited is 3 units \n",
"T = 3;\n",
"\n",
"t = [-5:0.0082:5];\n",
"u2(t<=T) = 0;\n",
"u2(t>T) = 1;\n",
"\n",
"xlabel('t');\n",
"ylabel('u(t-T)')\n",
"\n",
"subplot(132);\n",
"plot2d(t,u2);\n",
"\n",
"\n",
"//u(t) - u(t - T)\n",
"\n",
"t = [-5:0.0082:5];\n",
"u3 = u1 - u2;\n",
"\n",
"xlabel('t');\n",
"ylabel('u(t) - u(t-T)')\n",
"\n",
"subplot(133);\n",
"plot2d(t,u3);\n",
"\n",
"\n",
"\n",
""
   ]
   }
,
{
		   "cell_type": "markdown",
		   "metadata": {},
		   "source": [
			"## Example 1.5: Crosscorrelation_and_Autocorrelation.sce"
		   ]
		  },
  {
"cell_type": "code",
	   "execution_count": null,
	   "metadata": {
	    "collapsed": true
	   },
	   "outputs": [],
"source": [
"clc;\n",
"//page 18\n",
"//problem 1.5\n",
"\n",
"//V1(t) = u(t) - u(t - 5)\n",
"t = [-5:0.1:5];\n",
"V1(t<=0) = 0;\n",
"V1(t>0) = 1;\n",
"\n",
"xlabel('t');\n",
"ylabel('V1(t)')\n",
"subplot(121);\n",
"plot2d(t,V1);\n",
"\n",
"\n",
"//V2(t) = 2*t*(u(t) - u(t - 3))\n",
"t = [0:0.1:3];\n",
"V2 = 2*t;\n",
"\n",
"xlabel('t');\n",
"ylabel('V2(t)')\n",
"subplot(122);\n",
"plot2d(t,V2);\n",
"\n",
"//Autocorrelation R12(0) = R\n",
"\n",
"R = integrate('2*t','t',0,3);\n",
"\n",
"E1 = integrate('1','t',0,5);\n",
"\n",
"//In the textbook, E2 has been computed as 18 instead of 36\n",
"E2 = integrate('4*t^2','t',0,3);\n",
"\n",
"c = R/(E1*E2)^0.5;\n",
"\n",
"disp(R,'The correlation term R12(0) is ');\n",
"disp(E1,'The autocorrelation term R1(0) is ');\n",
"disp(E2,'The autocorrelation term R2(0) is ');\n",
"\n",
"\n",
""
   ]
   }
,
{
		   "cell_type": "markdown",
		   "metadata": {},
		   "source": [
			"## Example 1.6: Autocorrelatio.sce"
		   ]
		  },
  {
"cell_type": "code",
	   "execution_count": null,
	   "metadata": {
	    "collapsed": true
	   },
	   "outputs": [],
"source": [
"clc;\n",
"//page 19\n",
"//problem 1.6\n",
"\n",
"//V1(t) = u(t) - u(t - 5)\n",
"t = [-5:0.1:5];\n",
"V1(t<=0) = 0;\n",
"V1(t>0) = 1;\n",
"\n",
"xlabel('t');\n",
"ylabel('V1(t)')\n",
"subplot(121);\n",
"plot2d(t,V1);\n",
"\n",
"\n",
"//V2(t) = 2*t*(u(t) - u(t - 3))\n",
"t = [0:0.1:3];\n",
"V2 = 2*t;\n",
"\n",
"xlabel('t');\n",
"ylabel('V2(t)')\n",
"subplot(122);\n",
"plot2d(t,V2);\n",
"\n",
"//Autocorrelation R12(1) = Ra\n",
"//The range is t = 0 to 2, as signal V2(t) has been shifted left by one unit, V2(t-1)\n",
"\n",
"Ra = integrate('2*(t+1)','t',0,2);\n",
"\n",
"disp(Ra,'The correlation term R12(1) is ');\n",
"\n",
"//Autocorrelation R12(-1) = Rb\n",
"//The range is t = 1 to 4, as signal V2(t) has been shifted right by one unit, V2(t+1)\n",
"\n",
"Rb = integrate('2*(t-1)','t',1,4);\n",
"\n",
"disp(Rb,'The correlation term R12(-1) is ');\n",
""
   ]
   }
],
"metadata": {
		  "kernelspec": {
		   "display_name": "Scilab",
		   "language": "scilab",
		   "name": "scilab"
		  },
		  "language_info": {
		   "file_extension": ".sce",
		   "help_links": [
			{
			 "text": "MetaKernel Magics",
			 "url": "https://github.com/calysto/metakernel/blob/master/metakernel/magics/README.md"
			}
		   ],
		   "mimetype": "text/x-octave",
		   "name": "scilab",
		   "version": "0.7.1"
		  }
		 },
		 "nbformat": 4,
		 "nbformat_minor": 0
}
