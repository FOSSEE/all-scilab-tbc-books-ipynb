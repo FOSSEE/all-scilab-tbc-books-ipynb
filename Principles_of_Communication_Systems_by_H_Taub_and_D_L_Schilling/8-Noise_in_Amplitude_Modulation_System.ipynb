{
"cells": [
 {
		   "cell_type": "markdown",
	   "metadata": {},
	   "source": [
       "# Chapter 8: Noise in Amplitude Modulation System"
	   ]
	},
{
		   "cell_type": "markdown",
		   "metadata": {},
		   "source": [
			"## Example 8.1: SNR_of_SSB_signal.sce"
		   ]
		  },
  {
"cell_type": "code",
	   "execution_count": null,
	   "metadata": {
	    "collapsed": true
	   },
	   "outputs": [],
"source": [
"clc;\n",
"//page 436\n",
"//problem 8.1\n",
"\n",
"//Given frequency range fc= 1MHz to fc = 1.0005Mhz\n",
"//Single side message bandwidth is fM\n",
"fM= (1.0005 - 1)*10^6;\n",
"disp('Message bandwidth is '+string(fM)+' Hz');\n",
"//The textbook contains a calculation error here. The calculated fM in the textbook is 500kHz instead of 5kHz, following which all the solutions are erroneous  \n",
"\n",
"//Given input signal strength Si= 1mW\n",
"//Let output signal strength be So\n",
"//So=Si/4\n",
"Si= 10^(-3);\n",
"So= Si/4;\n",
"disp('Signal output strength is '+string(So)+' dB');\n",
"\n",
"//Given Power Spectral Density n = 10^-9 W/Hz\n",
"//Let output noise strength be No\n",
"n= 10^-9;\n",
"No= (n*fM)/4;\n",
"disp('Output Noise Strength is '+string(No)+' dB');\n",
"\n",
"//Let SNR at filter output be SNR\n",
"SNR= So / No;\n",
"disp('Output SNR is '+string(SNR)+' dB');\n",
"\n",
"//By reduction of message signal Bandwidth the Output Noise strength changes\n",
"//Let the new output noise strength, bandwidth and SNR be be No_new, fM_new and SNR_new respectively\n",
"fM_new = 75/100*fM;\n",
"No_new = n*fM_new/4;\n",
"SNR_new = So / No_new;\n",
"\n",
"disp('Changed SNR is '+string(SNR_new)+' dB');\n",
"\n",
""
   ]
   }
,
{
		   "cell_type": "markdown",
		   "metadata": {},
		   "source": [
			"## Example 8.2: Signal_strength_and_noise_power_density.sce"
		   ]
		  },
  {
"cell_type": "code",
	   "execution_count": null,
	   "metadata": {
	    "collapsed": true
	   },
	   "outputs": [],
"source": [
"clc;\n",
"//page 436\n",
"//problem 8.2\n",
"\n",
"//Given frequency range fc - fm = 0.995MHz to fc + fm = 1.005Mhz\n",
"//Double side message bandwidth is fM\n",
"fM= (1.005 - 0.995)*10^6 / 2;\n",
"disp('Message bandwidth is '+string(fM)+' Hz');\n",
"//The textbook contains a calculation error here.\n",
"//The calculated fM in the textbook is 500kHz instead of 5kHz,\n",
"//Following which all the solutions obtained here are erroneous.\n",
"\n",
"//Given input signal strength Si= 1mW\n",
"//Let output signal strength be So\n",
"//So=Si/2\n",
"Si= 10^(-3);\n",
"So= Si/2;\n",
"disp('Signal output strength is '+string(So)+' dB');\n",
"\n",
"//Given Power Spectral Density n = 10^-9 W/Hz\n",
"//Let output noise strength be No\n",
"n= 10^-9;\n",
"No= (n*fM)/2;\n",
"disp('Output Noise Strength is '+string(No)+' dB');\n",
"\n",
"//Let SNR at filter output be SNR\n",
"SNR= So / No;\n",
"disp('Output SNR of the DSB-SC wave is '+string(SNR)+' dB');\n",
"\n",
"//By reduction of message signal Bandwidth the Output Noise strength changes\n",
"//Let the new output noise strength, bandwidth and SNR be be No_new, fM_new and SNR_new respectively\n",
"fM_new = 75/100*fM;\n",
"No_new = n*fM_new/4;\n",
"SNR_new = So / No_new;\n",
"disp('Changed SNR is '+string(SNR_new)+' dB');\n",
"\n",
""
   ]
   }
,
{
		   "cell_type": "markdown",
		   "metadata": {},
		   "source": [
			"## Example 8.3: Minimum_transmitter_power.sce"
		   ]
		  },
  {
"cell_type": "code",
	   "execution_count": null,
	   "metadata": {
	    "collapsed": true
	   },
	   "outputs": [],
"source": [
"clc;\n",
"//page 446\n",
"//problem 8.3\n",
"\n",
"//Given bandwidth of signal is fM = 4kHZ\n",
"fM = 4*10^3;\n",
"//Given power spectral density of white noise n = 2*10^-9 W/Hz\n",
"n = 2*10^-9;\n",
"//Also given that minimum output SNR is 40dB\n",
"//Signal undergoes a loss of 30dB\n",
"\n",
"//For SSB:\n",
"// Required minimum output SNR = Si_min_SSB / (n*fM) = 40 dB = 10^4\n",
"Si_min_SSB = (10^4)*n*fM;\n",
"// Required minimum signal strength at transmitter output Si_tran = Si_min * 30 dB\n",
"Si_tran_SSB = Si_min_SSB * 10^3;\n",
"disp('Required minimum SSB signal strength at transmitter output is'+string(Si_tran_SSB)+' W');\n",
"\n",
"//For DSB-SC:\n",
"// Required minimum output SNR = (Si_min_DSB/3) / (n*fM) = 40 dB = 10^4\n",
"Si_min_DSB = 3*(10^4)*n*fM;\n",
"// Required minimum signal strength at transmitter output Si_tran = Si_min * 30 dB\n",
"Si_tran_DSB = Si_min_DSB * 10^3;\n",
"disp('Required minimum DSB signal strength at transmitter output is'+string(Si_tran_DSB)+' W');"
   ]
   }
,
{
		   "cell_type": "markdown",
		   "metadata": {},
		   "source": [
			"## Example 8.4: SNR_of_a_Square_Demodulator.sce"
		   ]
		  },
  {
"cell_type": "code",
	   "execution_count": null,
	   "metadata": {
	    "collapsed": true
	   },
	   "outputs": [],
"source": [
"clc;\n",
"//page 447\n",
"//problem 8.4\n",
"\n",
"//Given bandwidth of signal is fM = 60 kHZ\n",
"fM = 60*10^3;\n",
"\n",
"//Given power spectral density of white noise n = 2*10^-6 W/Hz\n",
"n = 2*10^-6;\n",
"\n",
"//Given time average of square of mssg signal P = 0.1W\n",
"P = 0.1;\n",
"\n",
"//Noise power at input baseband range NM\n",
"NM = n * fM;\n",
"\n",
"//Threshold occurs at carrier power Pc = 2.9 * NM\n",
"Pc_Threshold = 2.9 * NM;\n",
"\n",
"//For carrier power Pc = 10W, output SNR\n",
"Pc = 10;\n",
"SNRo = Pc * P / NM ;\n",
"disp('Output SNR is '+string(SNRo)+' dB');\n",
"\n",
"//Carrier power is reduced by 100 times making the new power Pc_new\n",
"Pc_new = Pc / 100;\n",
"\n",
"//In the given solutions the NM value is 1.2W instead of 0.12W\n",
"//The corect answer is 0.0925926 instead of 0.000926\n",
"SNR_new = (4/3) * P * (Pc_new/NM)^2;\n",
"disp('Output SNR when carrier power is reduced is '+string(SNR_new)+' dB');\n",
"\n",
""
   ]
   }
],
"metadata": {
		  "kernelspec": {
		   "display_name": "Scilab",
		   "language": "scilab",
		   "name": "scilab"
		  },
		  "language_info": {
		   "file_extension": ".sce",
		   "help_links": [
			{
			 "text": "MetaKernel Magics",
			 "url": "https://github.com/calysto/metakernel/blob/master/metakernel/magics/README.md"
			}
		   ],
		   "mimetype": "text/x-octave",
		   "name": "scilab",
		   "version": "0.7.1"
		  }
		 },
		 "nbformat": 4,
		 "nbformat_minor": 0
}
