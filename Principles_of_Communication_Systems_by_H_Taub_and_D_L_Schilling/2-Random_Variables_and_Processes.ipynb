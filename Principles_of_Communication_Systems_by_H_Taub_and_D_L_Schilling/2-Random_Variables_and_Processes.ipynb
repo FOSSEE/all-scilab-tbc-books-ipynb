{
"cells": [
 {
		   "cell_type": "markdown",
	   "metadata": {},
	   "source": [
       "# Chapter 2: Random Variables and Processes"
	   ]
	},
{
		   "cell_type": "markdown",
		   "metadata": {},
		   "source": [
			"## Example 2.10: Probability_of_Error.sce"
		   ]
		  },
  {
"cell_type": "code",
	   "execution_count": null,
	   "metadata": {
	    "collapsed": true
	   },
	   "outputs": [],
"source": [
"clc;\n",
"//page 105\n",
"//problem 2.10\n",
"\n",
"//We know that, Probabilty of error(P_error) for the signal correpted by Gaussian channel variance sigma^2 where signal having voltage levels as 0&V is (1/2)*erfc(V/(2*sqrt(2)*sigma))\n",
"\n",
"//P_error for V = 4 & sigma^2 =2\n",
"V = 4\n",
"sigma = sqrt(2)\n",
"P_error = (1/2)*erfc(V/(2*sqrt(2)*sigma))\n",
"\n",
"disp('Probabilty of error for V = 4 & sigma^2 =2 is '+string(P_error))\n",
"\n",
"//P_error for V = 2 & sigma^2 =2\n",
"V = 2\n",
"sigma = sqrt(2)\n",
"P_error = (1/2)*erfc(V/(2*sqrt(2)*sigma))\n",
"\n",
"disp('Probabilty of error for V = 2 & sigma^2 =2 is '+string(P_error))\n",
"\n",
"//P_error for V = 4 & sigma^2 =4\n",
"V = 4\n",
"sigma = sqrt(4)\n",
"P_error = (1/2)*erfc(V/(2*sqrt(2)*sigma))\n",
"\n",
"disp('Probabilty of error for V = 4 & sigma^2 =4 is '+string(P_error))\n",
"\n",
"//P_error for V = 8 & sigma^2 =2\n",
"V = 8\n",
"sigma = sqrt(2)\n",
"P_error = (1/2)*erfc(V/(2*sqrt(2)*sigma))\n",
"\n",
"disp('Probabilty of error for V = 8 & sigma^2 =2 is '+string(P_error))"
   ]
   }
,
{
		   "cell_type": "markdown",
		   "metadata": {},
		   "source": [
			"## Example 2.11: Probability_of_Error.sce"
		   ]
		  },
  {
"cell_type": "code",
	   "execution_count": null,
	   "metadata": {
	    "collapsed": true
	   },
	   "outputs": [],
"source": [
"clc;\n",
"//page 106\n",
"//problem 2.11\n",
"\n",
"//(a)\n",
"//out of n attempts the probability of message reaching correctly for k times is given by binomial distribution pX(k) = nCk*(q^k)*(1-q)^(n-k) where q is probability of correctly reaching\n",
"\n",
"//Here n = 10, k = 1, q = 0.001\n",
"n = 10\n",
"k = 1\n",
"q = 0.001\n",
"\n",
"//pX(k) is denoted as p_X_1\n",
"//10C1 =10\n",
"p_X_1 = 10*(q^k)*(1-q)^(n-k)\n",
"\n",
"disp('The probability that out of 10 transmissions 9 are corrent and 1 is incorrect is '+string(p_X_1))\n",
"\n",
"//probability that more than two erroneous out of 100 transmissions(p_100_2) = 1-probability of less than or equal to two error in transmission\n",
"//p_100_2 = 1-pX(0)-pX(1)-pX(2)\n",
"//p_100_2 =1-100C0*((0.001)^0)*((1-0.001)^100)-100C1*((0.001)^1)*((1-0.001)^99)-100C0*((0.001)^2)*((1-0.001)^98)\n",
"\n",
"//Since, calculation of above is cumbersome we may use Poisson ditribution to approximate above\n",
"//Poisson distribution = pX(k) = (alfa^k)*(e^-alfa)/k!, where alfa = n*T\n",
"\n",
"//Here n = 100 & q = 0.001\n",
"n = 100\n",
"q = 0.001\n",
"\n",
"alfa = n*q\n",
"\n",
"p_100_2 = 1-(alfa^0)*(%e^-0.1)/factorial(0)-(alfa^1)*(%e^-0.1)/factorial(1)-(alfa^2)*(%e^-0.1)/factorial(2)\n",
"\n",
"disp('probability that more than two erroneous out of 100 transmissions is '+string(p_100_2))\n",
"\n",
"//(c)\n",
"//from(b), required probability i.e probability of more than one are erroneous out of 100 transmission(p_100_1) is\n",
"p_100_1 = 1-(alfa^0)*(%e^-0.1)/factorial(0)-(alfa^1)*(%e^-0.1)/factorial(1)\n",
"\n",
"disp('probability that more than one erroneous out of 100 transmissions is '+string(p_100_1))"
   ]
   }
,
{
		   "cell_type": "markdown",
		   "metadata": {},
		   "source": [
			"## Example 2.13: Probability_of_Error.sce"
		   ]
		  },
  {
"cell_type": "code",
	   "execution_count": null,
	   "metadata": {
	    "collapsed": true
	   },
	   "outputs": [],
"source": [
"clc;\n",
"//page 115\n",
"//problem 2.13\n",
"\n",
"//Given, Error probability is 10^-4 = P_e, no of ecperiments conducted = N = 4*10^5 & estimated probability of error p does not differ from P_e by more than 50%\n",
"P_e = 10^-4\n",
"N = 4*10^5\n",
"\n",
"//Tchebycheff's inequality is P(|p-Pe|>=E)<=P_e/(N*E^2)\n",
"//From given values we can find that E = 50*10^-4\n",
"E = 50*10^-4\n",
"\n",
"//Here R.H.S of Tchebycheff's inequality is denoted as Tc_RHS\n",
"Tc_RHS = P_e/(N*E^2)\n",
"\n",
"//Tc_RHS in persentage is Tc_RHSper\n",
"Tc_RHSper = Tc_RHS/100\n",
"\n",
"//disp(Tc_RHSper,Tc_RHS,'or P(|p-10^-4|>=0.5*10^-2)<=',Tc_RHS,'The probability of estimated probability of error p does not differ from P_e by more than 50% is less than equal to')\n",
"\n",
"//given solution has been computed wrong, obtaines solution is 10^-7\n",
"disp('The probability of estimated probability of error p does not differ from P_e by more than 50% is less than equal to '+string(Tc_RHS)+'or P(|p-10^-4|>=0.5*10^-2)<='+string(Tc_RHS)+' = '+string(Tc_RHSper)+'%')"
   ]
   }
,
{
		   "cell_type": "markdown",
		   "metadata": {},
		   "source": [
			"## Example 2.1: Probability_of_two_Events.sce"
		   ]
		  },
  {
"cell_type": "code",
	   "execution_count": null,
	   "metadata": {
	    "collapsed": true
	   },
	   "outputs": [],
"source": [
"clc;\n",
"//page 85\n",
"//problem 2.1\n",
"\n",
"//A & B are two events occured in sample space S, where P(A) & P(B) are their corresponding probability\n",
"P_S=1\n",
"\n",
"//Given A&B are not mutually exclusive events, \n",
"//Probability of A is 0.2 = P_A\n",
"//Probability of B is 0.4 = P_B\n",
"//Probability of either A or B is 0.5 = P_AUB\n",
"P_A = 0.2\n",
"P_B =  0.4\n",
"P_AUB = 0.5\n",
"\n",
"//Probability of both of A&B jointly occur is P_AinterB = P_A+P_B-P_AUB where inter is intersection\n",
"P_AinterB = P_A+P_B-P_AUB\n",
"\n",
"disp('Probability of both of A&B jointly occur is '+string(P_AinterB))\n",
"\n",
"//Probability of none of AorB are occur is P_NOAB = Total occurence(P_S) - Probability of either AorB(P_AUB)\n",
"P_NOAB = P_S-P_AUB\n",
"\n",
"disp('Probability of none of AorB are occur is '+string(P_NOAB))"
   ]
   }
,
{
		   "cell_type": "markdown",
		   "metadata": {},
		   "source": [
			"## Example 2.2: Bayes_Theorem.sce"
		   ]
		  },
  {
"cell_type": "code",
	   "execution_count": null,
	   "metadata": {
	    "collapsed": true
	   },
	   "outputs": [],
"source": [
"clc;\n",
"//page 86\n",
"//problem 2.2\n",
"\n",
"//Probability that A will occur if B has already occurred(P_AB) = ratio of Probability of joint occurence of  A&B (P_A_B) & Probability of B(P_B)\n",
"//P_A_B(robability of joint occurence) = Probability that A&B both occur(P_AinterB)\n",
"\n",
"//From given values P_AinterB = 0.1 implies P_A_B = 0.1 & P_B = 0.4\n",
"P_AinterB = 0.1\n",
"P_A_B = P_AinterB \n",
"P_B = 0.4\n",
"\n",
"P_AB = P_A_B/P_B\n",
"\n",
"//Similarly\n",
"//Probability that B will occur if A has already occurred(P_BA) = ratio of Probability of joint occurence of  A&B (P_A_B) & Probability of B(P_A)\n",
"\n",
"//From given values P_A = 0.2\n",
"P_A = 0.2\n",
"\n",
"P_BA = P_A_B/P_A\n",
"\n",
"//Bayes theorem says that P_AB = (P_A/P_B)*P_BA\n",
"//After Calculating LHS & RHS if both are equal then bayes theorem is satisfying\n",
"\n",
"//Calculating LHS\n",
"LHS = P_AB\n",
"\n",
"//Calculating RHS\n",
"RHS = (P_A/P_B)*P_BA\n",
"\n",
"disp('P(A/B) = '+string(P_AB) );\n",
"\n",
"if LHS == RHS then\n",
"    disp('LHS = RHS, Hence Bayes theorem is verified' );\n",
"end\n",
"\n",
""
   ]
   }
,
{
		   "cell_type": "markdown",
		   "metadata": {},
		   "source": [
			"## Example 2.5: Optimum_Receiver_Algorithm.sce"
		   ]
		  },
  {
"cell_type": "code",
	   "execution_count": null,
	   "metadata": {
	    "collapsed": true
	   },
	   "outputs": [],
"source": [
"clc;\n",
"//page 95\n",
"//problem 2.5\n",
"\n",
"//Given, The probability that m0 is sent is 0.7 = P_m0\n",
"P_m0 = 0.7\n",
"\n",
"//The probability that m0 is sent is 0.3 = P_m1\n",
"P_m1 = 0.3\n",
"\n",
"//The probability that r0 is received given that m0 is sent is 0.9 = P_r0m0 where r is voltage & m is message\n",
"P_r0m0 = 0.9\n",
"\n",
"//the probability that r1 is received given that m0 is sent is 0.1 = P_r1m0 where r is voltage & m is message\n",
"P_r1m0 = 0.1\n",
"\n",
"//The probability that r1 is received given that m1 is sent is 0.6 = P_r1m1\n",
"P_r1m1 = 0.6\n",
"\n",
"//the probability that r0 is received given that m1 is sent is 0.4 = P_r0m1 where r is voltage & m is message\n",
"P_r0m1 = 0.4\n",
"\n",
"//With the given values check eqations P_r0m0*P_m0(P00) > P_r0m1*P_m1(P01)\n",
"P00 = P_r0m0*P_m0\n",
"P01 = P_r0m1*P_m1\n",
"\n",
"if P00>P01 then\n",
"    disp('as P(r0|m0)*P(m0) > P(r0|m1)*P(m1) is valid, we whould select m0 whenever r0 is received')\n",
"end\n",
"\n",
"//With the given values check eqations P_r1m1*P_m1(P11) > P_r1m0*P_m0(P10)\n",
"P11 = P_r1m1*P_m1\n",
"P10 = P_r1m0*P_m0\n",
"\n",
"if P11>P10 then\n",
"    disp('as P(r1|m1)*P(m1) > P(r1|m0)*P(m0) is valid, we whould select m1 whenever r1 is received')\n",
"end"
   ]
   }
,
{
		   "cell_type": "markdown",
		   "metadata": {},
		   "source": [
			"## Example 2.6: Optimum_Receiver_Algorithm.sce"
		   ]
		  },
  {
"cell_type": "code",
	   "execution_count": null,
	   "metadata": {
	    "collapsed": true
	   },
	   "outputs": [],
"source": [
"clc;\n",
"//page 96\n",
"//problem 2.6\n",
"\n",
"//Given, the probability that r0 is received given that m0 is sent is 0.9 = P_r0m0 where r is voltage & m is message\n",
"P_r0m0 = 0.9\n",
"\n",
"//The probability that m0 is sent is 0.7 = P_m0\n",
"P_m0 = 0.7\n",
"\n",
"//The probability that r1 is received given that m1 is sent is 0.6 = P_r1m1\n",
"P_r1m1 = 0.6\n",
"\n",
"//The probability that m0 is sent is 0.3 = P_m1\n",
"P_m1 = 0.3\n",
"\n",
"//The probability that the transmitted signal is correctly read at receiver is P(c)(P_c) = the probability that m0 was sent when r0 was read(P_r0m0*P_m0) + the probability that m1 was sent when r1 was read(P_r1m1*P_m1)\n",
"\n",
"P_c = P_r0m0*P_m0+P_r1m1*P_m1\n",
"\n",
"//P(e)(P_e) = 1-P(c)\n",
"P_e = 1-P_c\n",
"\n",
"disp('P(e) = '+string(P_e))\n",
"disp('P(c) = '+string(P_c))"
   ]
   }
,
{
		   "cell_type": "markdown",
		   "metadata": {},
		   "source": [
			"## Example 2.7: Optimum_Receiver.sce"
		   ]
		  },
  {
"cell_type": "code",
	   "execution_count": null,
	   "metadata": {
	    "collapsed": true
	   },
	   "outputs": [],
"source": [
"clc;\n",
"//page 96\n",
"//problem 2.7\n",
"\n",
"//Here P(ra|mb) is denoted as P_ramb where a is 0,1,2 & b is 0,1\n",
"//P(X) is denoted as P_X where X is m0, m1, C & E\n",
"\n",
"//From given values P_m0 = 0.6, P_m1 = 0.4, P_r0m0 =0.6, P_r1m1 = 0.7, P_r0m1 = 0, P_r1m0 = 0.2, P_r2m0 = 0.2 & P_r2m1 = 0.3\n",
"P_m0 = 0.6\n",
"P_m1 = 0.4\n",
"P_r0m0 =0.6\n",
"P_r1m1 = 0.7\n",
"P_r0m1 = 0\n",
"P_r1m0 = 0.2\n",
"P_r2m0 = 0.2\n",
"P_r2m1 = 0.3\n",
"\n",
"//(a)\n",
"//Comaparing P(r0|m0)*P(m0) & P(r0|m1)*P(m1) gives result\n",
"LHS = P_r0m0*P_m0\n",
"RHS = P_r0m1*P_m1\n",
"\n",
"disp('As P(r0|m0)*P(m0)['+string(LHS)+'] > P(r0|m1)*P(m1)['+string(RHS)+']')\n",
"disp('we select m0 whenever r0 is received')\n",
"\n",
"//Similarly compare P(r1|m1)*P(m1) & P(r1|m0)*P(m0)\n",
"LHS = P_r1m1*P_m1\n",
"RHS = P_r1m0*P_m0\n",
"\n",
"disp('As P(r1|m1)*P(m1)['+string(LHS)+'] > P(r1|m0)*P(m0)['+string(RHS)+']')\n",
"disp('we select m1 whenever r1 is received')\n",
"\n",
"//compare P(r2|m0)*P(m0) & P(r2|m1)*P(m1)\n",
"LHS = P_r2m0*P_m0\n",
"RHS = P_r2m1*P_m1\n",
"\n",
"disp('As P(r2|m0)*P(m0)['+string(LHS)+'] = P(r2|m1)*P(m1)['+string(RHS)+']')\n",
"disp('We can accordingly make either assignment and we arbitrarily associate r2 with m0')\n",
"\n",
"//(b)\n",
"//The probability of being correct is P(C) = P(r0|m0)*P(m0)+P(r1|m1)*P(m1)+P(r2|m0)*P(m0)\n",
"P_C = P_r0m0*P_m0+P_r1m1*P_m1+P_r2m0*P_m0\n",
"\n",
"//The probability of error is P(E) = 1-P(C)\n",
"P_E = 1 - P_C;\n",
"\n",
"disp('Probability of being correct is P(C) = '+string(P_C)')\n",
"disp('Probability of error is P(E) = '+string(P_E)')"
   ]
   }
,
{
		   "cell_type": "markdown",
		   "metadata": {},
		   "source": [
			"## Example 2.8: Probability_Distribution_Function.sce"
		   ]
		  },
  {
"cell_type": "code",
	   "execution_count": null,
	   "metadata": {
	    "collapsed": true
	   },
	   "outputs": [],
"source": [
"clc;\n",
"//page 99\n",
"//problem 2.8\n",
"\n",
"//Given, probability density function of X is fX_x where fX_x = a*e^(-0.2*x) for x greater than & equal to 0 & = 0 eleswhere\n",
"\n",
"//a = fX_x/(a*e^(-0.2*x))\n",
"//from definition integration of fX_x with limits -infinity to +infinity is 1\n",
"//As per given fX_x, integration of a*e^(-0.2*x) with limits 0 & +inffinity and obtained value be P\n",
"//a = 1/p\n",
"\n",
"P = integrate('%e^(-0.2*x)','x',0,100)\n",
"a = 1/P\n",
"\n",
"disp('a = '+string(a))"
   ]
   }
],
"metadata": {
		  "kernelspec": {
		   "display_name": "Scilab",
		   "language": "scilab",
		   "name": "scilab"
		  },
		  "language_info": {
		   "file_extension": ".sce",
		   "help_links": [
			{
			 "text": "MetaKernel Magics",
			 "url": "https://github.com/calysto/metakernel/blob/master/metakernel/magics/README.md"
			}
		   ],
		   "mimetype": "text/x-octave",
		   "name": "scilab",
		   "version": "0.7.1"
		  }
		 },
		 "nbformat": 4,
		 "nbformat_minor": 0
}
