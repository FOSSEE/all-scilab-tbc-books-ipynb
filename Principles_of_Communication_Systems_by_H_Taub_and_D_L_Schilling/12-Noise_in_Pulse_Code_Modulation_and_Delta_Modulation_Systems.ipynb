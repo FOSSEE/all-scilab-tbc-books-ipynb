{
"cells": [
 {
		   "cell_type": "markdown",
	   "metadata": {},
	   "source": [
       "# Chapter 12: Noise in Pulse Code Modulation and Delta Modulation Systems"
	   ]
	},
{
		   "cell_type": "markdown",
		   "metadata": {},
		   "source": [
			"## Example 12.2: SNR_Optimal_receiver.sce"
		   ]
		  },
  {
"cell_type": "code",
	   "execution_count": null,
	   "metadata": {
	    "collapsed": true
	   },
	   "outputs": [],
"source": [
"clc;\n",
"//page 608\n",
"//problem 12.2\n",
"\n",
"//Baseband cutoff signal fM = 4 kHz\n",
"fM = 4 * 10^3;\n",
"\n",
"//White noise power spectral density n\n",
"n = 2*10^(-9);\n",
"\n",
"// Part (a)\n",
"\n",
"//Input Signal energy Si = 0.001\n",
"Si_a = 0.001;\n",
"\n",
"//No of levels used for PCM Coding M = 8\n",
"M_a = 8;\n",
"\n",
"N_a = log2(M_a);\n",
"\n",
"//Input SNR is SNR_ip\n",
"SNR_ip = Si_a/(n*fM);\n",
"\n",
"//Output SNR is SNR_op\n",
"SNR_op = (2^(2*N_a))/(1 + (2^(2*N_a + 1))*erfc((SNR_ip*(1/(2*N_a))))^0.5);\n",
"\n",
"disp('Input SNR for (a) is '+string(10*log10(SNR_ip))+' dB');\n",
"disp('Output SNR (a) is '+string(10*log10(SNR_op))+' dB');\n",
"\n",
"// Part (b)\n",
"\n",
"//Input Signal energy Si = 0.001\n",
"Si_b = 0.001;\n",
"\n",
"//No of levels used for PCM Coding M = 256\n",
"M_b = 256;\n",
"\n",
"N_b = log2(M_b);\n",
"\n",
"//Input SNR is SNR_ip_b\n",
"SNR_ip_b = Si_b/(n*fM);\n",
"\n",
"//Output SNR is SNR_op_b\n",
"SNR_op_b = (2^(2*N_b))/(1 + (2^(2*N_b + 1))*erfc((SNR_ip_b*(1/(2*N_b))))^0.5);\n",
"\n",
"//Unfortunately in scilab the function erfc approximates the output value to a larger extent due to which an exact value cannot be obtained.\n",
"//The difference in the textbook answer and obatined answer is significant because of converting the answer into dB.\n",
"\n",
"disp('Input SNR for (b) is '+string(10*log10(SNR_ip_b))+' dB');\n",
"disp('Output SNR for (b) is '+string(10*log10(SNR_op_b))+' dB');\n",
"\n",
"// Part (c)\n",
"\n",
"//Input Signal energy Si = 0.01\n",
"Si_c = 0.01;\n",
"\n",
"//No of levels used for PCM Coding M = 256\n",
"M_c = 256;\n",
"\n",
"N_c = log2(M_c);\n",
"\n",
"//Input SNR is SNR_ip_c\n",
"SNR_ip_c = Si_c/(n*fM);\n",
"\n",
"//Output SNR is SNR_op_c\n",
"SNR_op_c = (2^(2*N_c))/(1 + (2^(2*N_c + 1))*erfc((SNR_ip_c*(1/(2*N_c))))^0.5);\n",
"\n",
"disp('Input SNR for (c) is '+string(10*log10(SNR_ip_c))+' dB');\n",
"disp('Output SNR for (c) is '+string(10*log10(SNR_op_c))+' dB');\n",
"\n",
""
   ]
   }
,
{
		   "cell_type": "markdown",
		   "metadata": {},
		   "source": [
			"## Example 12.3: SNR_of_Optimal_reciver.sce"
		   ]
		  },
  {
"cell_type": "code",
	   "execution_count": null,
	   "metadata": {
	    "collapsed": true
	   },
	   "outputs": [],
"source": [
"clc;\n",
"//page 609\n",
"//problem 12.3\n",
"\n",
"//Baseband cutoff signal fM = 4 kHz\n",
"fM = 4 * 10^3;\n",
"\n",
"//White noise power spectral density n\n",
"n = 2*10^(-9);\n",
"\n",
"// Part (a)\n",
"\n",
"//Input Signal energy Si = 0.001\n",
"Si = 0.001;\n",
"\n",
"//No of levels used for PCM Coding M = 8\n",
"M = 8;\n",
"\n",
"N = log2(M);\n",
"\n",
"//Input SNR is SNR_ip\n",
"SNR_ip = Si/(n*fM);\n",
"\n",
"//Output SNR is SNR_op\n",
"SNR_op = (2^(2*N))/(1 + (2^(2*N + 1))*erfc((SNR_ip*(3/(10*N))))^0.5);\n",
"\n",
"disp('Input SNR for (a) is '+string(10*log10(SNR_ip))+' dB');\n",
"disp('Output SNR (a) is '+string(10*log10(SNR_op))+' dB');\n",
"\n",
"// Part (b)\n",
"\n",
"//Input Signal energy Si = 0.001\n",
"Si = 0.001;\n",
"\n",
"//No of levels used for PCM Coding M = 256\n",
"M_b = 256;\n",
"\n",
"N_b = log2(M_b);\n",
"\n",
"//Input SNR is SNR_ip_b\n",
"SNR_ip_b = Si/(n*fM);\n",
"\n",
"//Output SNR is SNR_op_b\n",
"SNR_op_b = (2^(2*N_b))/(1 + (2^(2*N_b + 1))*erfc((SNR_ip_b*(3/(10*N_b))))^0.5);\n",
"\n",
"//Unfortunately in scilab the function erfc approximates the output value to a larger extent due to which an exact value cannot be obtained.\n",
"//The difference in the textbook answer and obatined answer is significant because of converting the answer into dB.\n",
"\n",
"disp('Input SNR for (b) is '+string(10*log10(SNR_ip_b))+' dB');\n",
"disp('Output SNR for (b) is '+string(10*log10(SNR_op_b))+' dB');\n",
"\n",
"// Part (c)\n",
"\n",
"//Input Signal energy Si = 0.01\n",
"Si = 0.01;\n",
"\n",
"//No of levels used for PCM Coding M = 256\n",
"M = 256;\n",
"\n",
"N = log2(M);\n",
"\n",
"//Input SNR is SNR_ip_c\n",
"SNR_ip_c = Si/(n*fM);\n",
"\n",
"//Output SNR is SNR_op_c\n",
"SNR_op_c = (2^(2*N))/(1 + (2^(2*N + 1))*erfc((SNR_ip_c*(3/(10*N))))^0.5);\n",
"\n",
"disp('Input SNR for (c) is '+string(10*log10(SNR_ip_c))+' dB');\n",
"disp('Output SNR for (c) is '+string(10*log10(SNR_op_c))+' dB');\n",
"\n",
""
   ]
   }
,
{
		   "cell_type": "markdown",
		   "metadata": {},
		   "source": [
			"## Example 12.4: Output_SNR_in_DM_including_Thermal_Noise.sce"
		   ]
		  },
  {
"cell_type": "code",
	   "execution_count": null,
	   "metadata": {
	    "collapsed": true
	   },
	   "outputs": [],
"source": [
"clc;\n",
"//page 618\n",
"//problem 12.4\n",
"\n",
"//Upper cut off frequecny fb = 3200 Hz\n",
"fM = 3200;\n",
"\n",
"//Lower cut off frequecny fl = 300 Hz\n",
"fl = 300;\n",
"\n",
"//Data rate fb = 32000 bps\n",
"fb = 32000;\n",
"\n",
"//White noise power spectral density n\n",
"n = 2*10^(-9);\n",
"\n",
"//Input Signal energy Si = 0.001\n",
"Si = 0.001;\n",
"\n",
"//Output SNR is SNR_op\n",
"SNR_op = (0.6*(fb/fM)^3)/(1 + (0.3*(fb^2/(fl*fM)))*erfc(Si/(n*fb)));\n",
"\n",
"disp('Output SNR  is '+string(10*log10(SNR_op))+'dB');\n",
"\n",
"//Data rate fb_n = 32000 bps\n",
"fb_n = 2*32000;\n",
"\n",
"//Output SNR is SNR_op_n\n",
"SNR_op_n = (0.6*(fb_n/fM)^3)/(1 + (0.3*(fb_n^2/(fl*fM)))*erfc(Si/(n*fb_n)));\n",
"\n",
"disp('Output SNR when data rate is doubled is '+string(10*log10(SNR_op_n))+'dB');"
   ]
   }
],
"metadata": {
		  "kernelspec": {
		   "display_name": "Scilab",
		   "language": "scilab",
		   "name": "scilab"
		  },
		  "language_info": {
		   "file_extension": ".sce",
		   "help_links": [
			{
			 "text": "MetaKernel Magics",
			 "url": "https://github.com/calysto/metakernel/blob/master/metakernel/magics/README.md"
			}
		   ],
		   "mimetype": "text/x-octave",
		   "name": "scilab",
		   "version": "0.7.1"
		  }
		 },
		 "nbformat": 4,
		 "nbformat_minor": 0
}
