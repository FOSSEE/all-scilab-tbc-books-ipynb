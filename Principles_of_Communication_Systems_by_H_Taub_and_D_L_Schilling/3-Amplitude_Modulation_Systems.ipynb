{
"cells": [
 {
		   "cell_type": "markdown",
	   "metadata": {},
	   "source": [
       "# Chapter 3: Amplitude Modulation Systems"
	   ]
	},
{
		   "cell_type": "markdown",
		   "metadata": {},
		   "source": [
			"## Example 3.4: Transmission_Power_Efficiency.sce"
		   ]
		  },
  {
"cell_type": "code",
	   "execution_count": null,
	   "metadata": {
	    "collapsed": true
	   },
	   "outputs": [],
"source": [
"clc;\n",
"//page 163\n",
"//problem 3.4\n",
"\n",
"//Transmission power effiency n = {(m^2)/[2+(m^2)]}*100% where m is modulated index\n",
"\n",
"//Given modulated indices are m1 = 0.25, m2 = 0.5 & m3 = 0.75\n",
"\n",
"//Transmission power effiencies are n1, n2 & n3 respectively for m1, m2 & m3\n",
"n1 = {(0.25^2)/[2+(0.25^2)]}*100\n",
"n2 = {(0.5^2)/[2+(0.5^2)]}*100\n",
"n3 = {(0.75^2)/[2+(0.75^2)]}*100\n",
"\n",
"disp('Transmission power effiency for modulated index 0.25 is '+string(n1)+ '%')\n",
"disp('Transmission power effiency for modulated index 0.5 is '+string(n2)+ '%')\n",
"disp('Transmission power effiency for modulated index 0.75 is '+string(n3)+ '%')"
   ]
   }
,
{
		   "cell_type": "markdown",
		   "metadata": {},
		   "source": [
			"## Example 3.7: Calculation_of_L_and_C_of_Power_Amplifier.sce"
		   ]
		  },
  {
"cell_type": "code",
	   "execution_count": null,
	   "metadata": {
	    "collapsed": true
	   },
	   "outputs": [],
"source": [
"clc;\n",
"//page 185\n",
"//problem 3.7\n",
"\n",
"//Given input inmedance of matching networkis R1 = 10 ohm & output impedance of matching networ is R2 = 50 ohm & carrier frequency is fc = 500 KHz\n",
"R1 = 10\n",
"R2 = 50\n",
"fc = 500000\n",
"\n",
"//Wc = 2*pi*fc\n",
"Wc = 2*%pi*fc\n",
"\n",
"//AS R1 = R2*(X2^2)/[(R2^2)+(X2^2)], X2 = 25ohm\n",
"X2 = 25\n",
"\n",
"//AS X1 = (R2^2)*X2/[(R2^2)+(X2^2)] & R1>R2, X1 = -20ohm\n",
"X1 = -20\n",
"\n",
"//|X1| = |jwL| = wL = 20 & |X2| = |1/jwC| = 1/wC = 25, so |X1*X2| = L/C = 500 denotes as LC_div\n",
"LC_div = 500\n",
"\n",
"//Wc^2 = 1/(L*C). LC is denoted as LC_prod\n",
"LC_prod = 1/(Wc^2)\n",
"\n",
"//In the textbook the calculated LC = 10^-3, in reality the value of LC = 1.013D-13\n",
" \n",
"L = sqrt(LC_div*LC_prod)\n",
"\n",
"//In the textbook the calculated L^2 = 50*10^-14, in reality the value of L^2 = 5.066D-11  \n",
" \n",
"C = L/500\n",
"\n",
"//In the textbook the calculated C = 1.4*10^-9, in reality the value of C = 1.424D-08  \n",
"\n",
"disp('Inductance '+string(L)+' H')\n",
"disp('Capacitance '+string(C)+' F')"
   ]
   }
,
{
		   "cell_type": "markdown",
		   "metadata": {},
		   "source": [
			"## Example 3.8: Calculation_of_Gain_and_Power_radiated_of_Antenna.sce"
		   ]
		  },
  {
"cell_type": "code",
	   "execution_count": null,
	   "metadata": {
	    "collapsed": true
	   },
	   "outputs": [],
"source": [
"clc;\n",
"//page 185\n",
"//problem 3.8\n",
"\n",
"//Given ohmnic loss resistance is Ro = 12 Ohm,  \n",
"Ro = 12\n",
"\n",
"//radiation resistance is Rr = 48 Ohm,\n",
"Rr = 48\n",
"\n",
"//directivity is D = 2\n",
"D = 2\n",
"\n",
"//Input current = 0.1*cos[2*pi*(10^6)*t], Amplitude of input current is A = 0.1 Amp\n",
"A = 0.1\n",
"\n",
"//Equivalent resistance = Re = Ro+Rr\n",
"Re = Ro+Rr\n",
"\n",
"//Total power used in antenna = Pin = (A^2)*Re/2\n",
"Pin = (A^2)*Re/2\n",
"\n",
"//Power used in radiation = Prad = (A^2)*Rr/2\n",
"Prad = (A^2)*Rr/2\n",
"\n",
"//Efficiency of the antenna = n = Prad/Pin\n",
"n = Prad/Pin\n",
"\n",
"//Gain of antenna = Ga = efficiency*directivity\n",
"Ga = n*D\n",
"\n",
"disp('Total power used in antenna '+string(Pin)+' Watt')\n",
"disp('Power used in radiation '+string(Prad)+' Watt')\n",
"disp('Efficiency of the antenna '+string(n))\n",
"disp('Gain of antenna '+string(Ga))"
   ]
   }
],
"metadata": {
		  "kernelspec": {
		   "display_name": "Scilab",
		   "language": "scilab",
		   "name": "scilab"
		  },
		  "language_info": {
		   "file_extension": ".sce",
		   "help_links": [
			{
			 "text": "MetaKernel Magics",
			 "url": "https://github.com/calysto/metakernel/blob/master/metakernel/magics/README.md"
			}
		   ],
		   "mimetype": "text/x-octave",
		   "name": "scilab",
		   "version": "0.7.1"
		  }
		 },
		 "nbformat": 4,
		 "nbformat_minor": 0
}
