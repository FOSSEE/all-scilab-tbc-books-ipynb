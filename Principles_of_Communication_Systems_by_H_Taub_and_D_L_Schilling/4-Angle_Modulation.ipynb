{
"cells": [
 {
		   "cell_type": "markdown",
	   "metadata": {},
	   "source": [
       "# Chapter 4: Angle Modulation"
	   ]
	},
{
		   "cell_type": "markdown",
		   "metadata": {},
		   "source": [
			"## Example 4.2: Calculation_of_frequency_parameters.sce"
		   ]
		  },
  {
"cell_type": "code",
	   "execution_count": null,
	   "metadata": {
	    "collapsed": true
	   },
	   "outputs": [],
"source": [
"clc;\n",
"//page 199\n",
"//problem 4.2\n",
"\n",
"//Given angle modulated signal is x = 3*cos[2*pi*(10^6)*t+2*sin(2*pi*10^3*t)]\n",
"\n",
"//So, phase of the angle modulates signal is Q = 2*pi*(10^6*t)+2*sin(2*pi*(10^3)*t)\n",
"\n",
"//Instantaneous frequency = dQ/dt = 2*pi*(10^6)+ 4*pi*(10^3)*sin(2*pi*(10^3)*t)\n",
"\n",
"//For Instantaneous frequency at 0.25ms, Substituting t = 0.25ms in Instantaneous frequency\n",
"//Instantaneous frequency is expressed as f1_rad for frequency in radians per second\n",
"f1_rad = 2*%pi*(10^6)+ 4*%pi*(10^3)*sin(2*%pi*(10^3)*0.00025)\n",
"\n",
"//Instantaneous frequency is expressed as f1_hz for frequency in hertz\n",
"f1_hz = f1_rad/(2*%pi)\n",
"\n",
"disp('the Instantaneous frequency at time t=0.25ms is '+string(f1_rad)+' rad/sec = '+string(f1_hz)+' Hz')\n",
"\n",
"//For Instantaneous frequency at 0.25ms, Substituting t = 0.5ms in Instantaneous frequency \n",
"//Instantaneous frequency is expressed as f2rad for frequency in radians per second\n",
"f2_rad = 2*%pi*(10^6)+ 4*%pi*(10^3)*sin(2*%pi*(10^3)*0.0005)\n",
"\n",
"//Instantaneous frequency is expressed as f2hz for frequency in hertz\n",
"f2_hz = f2_rad/(2*%pi)\n",
"\n",
"disp('the Instantaneous frequency at time t=0.5ms is '+string(f2_rad)+' rad/sec = '+string(f2_hz)+' Hz')\n",
"\n",
"//Maximum phase deviation = max[2*sin(2*pi*(10^3)*t)] = 2*1\n",
"maxDp = 2;\n",
"\n",
"disp('Maximum phase deviation is '+string(maxDp)+' rad')\n",
"\n",
"//Maximum frequency deviation = max[4*pi*(10^3)*sin(2*pi*(10^3)*t)] = 4*pi*(10^3)*1\n",
"maxDf = 4*%pi*(10^3)*1;\n",
"\n",
"disp('Maximum frequency deviation is '+string(maxDf)+' Hz')\n",
"//disp('in rad',maxDf,'Maximum frequency deviation is')\n",
"\n",
"//In the textbook the calculated value of max frequency devaition is = 2000 Hz, in reality the value = 12566.371 Hz   "
   ]
   }
,
{
		   "cell_type": "markdown",
		   "metadata": {},
		   "source": [
			"## Example 4.4: Calculation_of_Bandwidth.sce"
		   ]
		  },
  {
"cell_type": "code",
	   "execution_count": null,
	   "metadata": {
	    "collapsed": true
	   },
	   "outputs": [],
"source": [
"clc;\n",
"//page 208\n",
"//problem 4.4\n",
"\n",
"//Given modulating signal m(t) = 2*sin(2*pi*(10^3)*t), B for phase modulation Bp = 10 & for fequency modulation Bf = 10\n",
"Bp = 10\n",
"Bf = 10\n",
"\n",
"//So Amplitude of modulating signal is Am=2 metres\n",
"Am = 2\n",
"\n",
"//Frequency of modulating signal is fm = 1000 hertz\n",
"fm=1000\n",
"\n",
"//Bandwidth = 2*(1+B)*fm\n",
"\n",
"//Bandwidth for phase modulation with modulating signal m(t) is bw_pm = 2*(1+Bp)*fm\n",
"bw_pm = 2*(1+10)*1000\n",
"\n",
"//Bandwidth for frequency modulation with modulating signal m(t) is bw_fm = 2*(1+Bf)*fm\n",
"bw_fm = 2*(1+10)*1000\n",
"\n",
"disp('Bandwidth for phase modulation '+string(bw_pm)+' Hz')\n",
"disp('Bandwidth for frequency modulation '+string(bw_fm)+' Hz')\n",
"\n",
"//Bandwidth for phase & frequency modulation if frequency of modulating signal is doubled i.e fm = 2000 hertz\n",
"\n",
"//Bp & Bf after frequency of modulating signal is doubled\n",
"\n",
"//Bp = kp*Am, observing the equation as there is no change in amplitude Bp = 10\n",
"Bp = 10\n",
"\n",
"//Bf = kf*Am/fm, observing the equation as there is change in frequency  Bf = 10/2 = 5\n",
"Bf = 5\n",
"\n",
"//Bandwidth for phase modulation if frequency of modulating signal is doubled is bw_double_pm = 2*(1+Bp)*fm\n",
"bw_double_pm = 2*(1+10)*2000\n",
"\n",
"//Bandwidth for frequency modulation if frequency of modulating signal is doubled is bw_double_fm = 2*(1+Bf)*fm\n",
"bw_double_fm = 2*(1+5)*2000\n",
"\n",
"disp('Bandwidth for phase modulation for doubled frequency '+string(bw_double_pm)+' Hz')\n",
"disp('bandwidth for frequency modulation for doubled frequency '+string(bw_double_fm)+' Hz')\n",
"\n",
"//Bandwidth for phase & frequency modulation if amplitude of modulating signal is halfed i.e Am = 1 metre\n",
"\n",
"//Bp & Bf after amplitude of modulating signal is halfed\n",
"\n",
"//Bp = kp*Am, observing the equation as there is change in amplitude Bp = 10/2 = 5\n",
"Bp = 5\n",
"\n",
"//Bf = kf*Am/fm, observing the equation as there is change in amplitude Bf = 5/2 = 2.5\n",
"Bf = 2.5\n",
"\n",
"//Bandwidth for phase modulation if frequency of modulating signal is doubled is bw_halfed_pm = 2*(1+Bp)*fm\n",
"bw_halfed_pm = 2*(1+5)*2000\n",
"\n",
"//Bandwidth for frequency modulation if frequency of modulating signal is doubled is bw_halfed_fm = 2*(1+Bf)*fm\n",
"bw_halfed_fm = 2*(1+2.5)*2000\n",
"\n",
"disp('Bandwidth for phase modulation for halfed amplitude '+string(bw_halfed_pm)+' Hz')\n",
"disp('Bandwidth for frequency modulation for halfed amplitude '+string(bw_halfed_fm)+' Hz')"
   ]
   }
],
"metadata": {
		  "kernelspec": {
		   "display_name": "Scilab",
		   "language": "scilab",
		   "name": "scilab"
		  },
		  "language_info": {
		   "file_extension": ".sce",
		   "help_links": [
			{
			 "text": "MetaKernel Magics",
			 "url": "https://github.com/calysto/metakernel/blob/master/metakernel/magics/README.md"
			}
		   ],
		   "mimetype": "text/x-octave",
		   "name": "scilab",
		   "version": "0.7.1"
		  }
		 },
		 "nbformat": 4,
		 "nbformat_minor": 0
}
