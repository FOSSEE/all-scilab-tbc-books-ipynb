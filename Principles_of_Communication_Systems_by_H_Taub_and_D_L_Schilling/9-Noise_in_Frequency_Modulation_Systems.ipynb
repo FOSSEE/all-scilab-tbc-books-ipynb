{
"cells": [
 {
		   "cell_type": "markdown",
	   "metadata": {},
	   "source": [
       "# Chapter 9: Noise in Frequency Modulation Systems"
	   ]
	},
{
		   "cell_type": "markdown",
		   "metadata": {},
		   "source": [
			"## Example 9.1: SNR_of_an_FM_Limiter_Discriminator_Demodulator.sce"
		   ]
		  },
  {
"cell_type": "code",
	   "execution_count": null,
	   "metadata": {
	    "collapsed": true
	   },
	   "outputs": [],
"source": [
"clc;\n",
"//page 463\n",
"//problem 9.1\n",
"\n",
"//Input signal strength Si = 0.5 W\n",
"Si = 0.5;\n",
"\n",
"//Gaussian Power Spectral Density n = 10^(-10) W/Hz\n",
"n = 10^(-10);\n",
"\n",
"//Baseband cutoff signal fM = 15 kHz\n",
"fM = 15 * 10^3;\n",
"\n",
"//Maximum frequency deviation Df = 60 kHz\n",
"Df = 60 * 10^3;\n",
"\n",
"//Average power of the modulating signal mt = 0.1 W\n",
"mt = 0.1;\n",
"\n",
"SNR = (3/(4*%pi^2))*((Df/fM)^2)*mt^2*(Si/(n*fM));\n",
"\n",
"disp('SNR is '+string(10*log10(SNR))+' dB');\n",
"\n",
"//Part b\n",
"\n",
"//Required SNR at output>40 dB = 10000\n",
"\n",
"//From (a), required Si/0.5 > 10000/4052.8 \n",
"//Or, required Si > 1.2337 W\n",
"//Since, channel loss is 20 dB (=100), \n",
"//Required transmitter power > 1.2337*100 = 123.37 \n",
"\n",
"disp('Required transmitter power > 1.2337 x 100 = 123.37 ');"
   ]
   }
,
{
		   "cell_type": "markdown",
		   "metadata": {},
		   "source": [
			"## Example 9.2: FM_Limiter_Discriminator_Demodulator.sce"
		   ]
		  },
  {
"cell_type": "code",
	   "execution_count": null,
	   "metadata": {
	    "collapsed": true
	   },
	   "outputs": [],
"source": [
"clc;\n",
"//page 464\n",
"//problem 9.2\n",
"\n",
"//Baseband cutoff signal fM = 15 kHz\n",
"fM = 15 * 10^3;\n",
"\n",
"//Maximum frequency deviation Df = 60 kHz\n",
"Df = 60 * 10^3;\n",
"\n",
"//Figure of Merit for FM is G_FM\n",
"G_FM = (3/2)*(Df/fM)^2;\n",
"\n",
"disp('Figure of Merit for FM system is '+string(G_FM));\n",
"\n",
"//Ratio of Figure of Merits of FM and AM systems is R\n",
"R = G_FM/(1/3);\n",
"\n",
"disp('Ratio of Figure of Merits for FM and AM systems is '+string(R));\n",
"\n",
"Df_new = 2*Df;\n",
"\n",
"//Figure of Merit for FM when bandwidth is doubled is G_FM_new\n",
"G_FM_new = (3/2)*(Df_new/fM)^2;\n",
"\n",
"//Ratio of Figure of Merits of FM and AM systems when bandwidth is doubled is R_new\n",
"R_new = G_FM_new/(1/3);\n",
"\n",
"disp('Ratio of Figure of Merits for FM and AM systems when bandwidth is doubled is '+string(R_new));\n",
""
   ]
   }
,
{
		   "cell_type": "markdown",
		   "metadata": {},
		   "source": [
			"## Example 9.3: RC_Filter_Preemphasis_Deemphasis.sce"
		   ]
		  },
  {
"cell_type": "code",
	   "execution_count": null,
	   "metadata": {
	    "collapsed": true
	   },
	   "outputs": [],
"source": [
"clc;\n",
"//page 475\n",
"//problem 9.3\n",
"\n",
"//Resistance R = 1000 Ohm\n",
"R = 10^3;\n",
"\n",
"//Capacitance C = 0.1 * 10^-6 F\n",
"C = 0.1*10^-6;\n",
"\n",
"//Break point for RC filter is f1\n",
"f1 = 1/(2*%pi*R*C)\n",
"\n",
"//Baseband bandwidth of signal fM = 15 kHz\n",
"fM = 15 * 10^3;\n",
"\n",
"Gain = atan(fM/f1)/(3*(f1/fM)*[1 - (f1/fM)*atan(fM/f1)]);\n",
"\n",
"disp('Initial Gain is '+string(10*log10(Gain))+' dB');\n",
"\n",
"//New Baseband bandwidth of signal fM_new = 15 kHz\n",
"fM_new = 2*15 * 10^3;\n",
"\n",
"Gain_new = atan(fM_new/f1)/(3*(f1/fM_new)*[1 - (f1/fM_new)*atan(fM_new/f1)]);\n",
"\n",
"disp('Final Gain is '+string(10*log10(Gain_new))+' dB');\n",
""
   ]
   }
,
{
		   "cell_type": "markdown",
		   "metadata": {},
		   "source": [
			"## Example 9.6: SNR_at_Input.sce"
		   ]
		  },
  {
"cell_type": "code",
	   "execution_count": null,
	   "metadata": {
	    "collapsed": true
	   },
	   "outputs": [],
"source": [
"clc;\n",
"//page 495\n",
"//problem 9.6\n",
"\n",
"//Baseband cutoff signal fM = 15 kHz\n",
"fM = 15 * 10^3;\n",
"\n",
"//Carrier filter bandwidth is B = 60 kHz\n",
"B = 60 * 10^3;\n",
"\n",
"//RMS frequency division Df_RMS = 30 kHz\n",
"Df_RMS = 30 * 10^3;\n",
"\n",
"//Let a = Df_RMS/fM for substitution \n",
"a = Df_RMS/fM;\n",
"\n",
"//Let b = fM/B for substitution \n",
"b = fM/B;\n",
"\n",
"//Let input SNR 1 be I_SNR1 = 10 dB = 10\n",
"I_SNR1 = 10;\n",
"\n",
"//Output SNR is O_SNR1\n",
"O_SNR1 = (3*(a^2)*I_SNR1)/(1+6*((2/%pi)^0.5)*I_SNR1*exp(-(b)*I_SNR1));\n",
"\n",
"disp('Output SNR is '+string(10*log10(O_SNR1))+' dB');\n",
"\n",
"//Let input SNR 2 be I_SNR2 = 20 dB = 100\n",
"I_SNR2 = 100;\n",
"\n",
"//Output SNR is O_SNR2\n",
"O_SNR2 = (3*(a^2)*I_SNR2)/(1+6*((2/%pi)^0.5)*I_SNR2*exp(-(b)*I_SNR2));\n",
"\n",
"//Solution given in the book is 13.5431 which is fallacious, the correct answer is 24.32444\n",
"disp('Output SNR is '+string(10*log10(O_SNR2))+' dB');\n",
"\n",
"//Let input SNR 3 be I_SNR3 = 30 dB = 1000\n",
"I_SNR3 = 1000;\n",
"\n",
"//Output SNR is O_SNR3\n",
"O_SNR3 = (3*(a^2)*I_SNR3)/(1+6*((2/%pi)^0.5)*I_SNR3*exp(-(b)*I_SNR3));\n",
"\n",
"disp('Output SNR is '+string(10*log10(O_SNR3))+' dB');"
   ]
   }
],
"metadata": {
		  "kernelspec": {
		   "display_name": "Scilab",
		   "language": "scilab",
		   "name": "scilab"
		  },
		  "language_info": {
		   "file_extension": ".sce",
		   "help_links": [
			{
			 "text": "MetaKernel Magics",
			 "url": "https://github.com/calysto/metakernel/blob/master/metakernel/magics/README.md"
			}
		   ],
		   "mimetype": "text/x-octave",
		   "name": "scilab",
		   "version": "0.7.1"
		  }
		 },
		 "nbformat": 4,
		 "nbformat_minor": 0
}
