{
"cells": [
 {
		   "cell_type": "markdown",
	   "metadata": {},
	   "source": [
       "# Chapter 2: STRUCTURES OF CONDENSED PHASES"
	   ]
	},
{
		   "cell_type": "markdown",
		   "metadata": {},
		   "source": [
			"## Example 2.10: chapter_2_example_10.sce"
		   ]
		  },
  {
"cell_type": "code",
	   "execution_count": null,
	   "metadata": {
	    "collapsed": true
	   },
	   "outputs": [],
"source": [
"clc\n",
"//initialisation of variables\n",
"g= 10 //gm\n",
"d= 1.038 //gm/mol\n",
"M= 100 //gm\n",
"x= 66.412\n",
"y= 0.127\n",
"z= 0.038\n",
"l= 20 //cm\n",
"//CALCULATIONS\n",
"p= g/(M/d)\n",
"X= x+y-z\n",
"ar= X*l*p/10\n",
"//RESULTS\n",
"printf (' angle ofrotation= %.2f degrees ',ar)"
   ]
   }
,
{
		   "cell_type": "markdown",
		   "metadata": {},
		   "source": [
			"## Example 2.11: chapter_2_example_11.sce"
		   ]
		  },
  {
"cell_type": "code",
	   "execution_count": null,
	   "metadata": {
	    "collapsed": true
	   },
	   "outputs": [],
"source": [
"clc\n",
"//initialisation of variables\n",
"t= 68.9 //sec\n",
"t1= 102.2 //sec\n",
"p1= 0.866 //g/cm^3\n",
"p2= 0.998 //gm/cm^3\n",
"n= 0.01009 //dynesc/cm^2\n",
"//CALCULATIONS\n",
"N= n*t*p1/(t1*p2)\n",
"//RESULTS\n",
"printf (' viscosity of toulene= %.5f dyne sec/cm^2 ',N)"
   ]
   }
,
{
		   "cell_type": "markdown",
		   "metadata": {},
		   "source": [
			"## Example 2.1: chapter_2_example_1.sce"
		   ]
		  },
  {
"cell_type": "code",
	   "execution_count": null,
	   "metadata": {
	    "collapsed": true
	   },
	   "outputs": [],
"source": [
"clc\n",
"//initialisation of variables\n",
"l= 1.5418 //A\n",
"a= 19.076 //degrees\n",
"d2= 1.444 //A\n",
"//CALCULATIONS\n",
"d= l/(2*sind(a))\n",
"a= sqrt(8*d2^2)\n",
"//RESULTS\n",
"printf (' size of cubic unit cell = %.4f A',a)"
   ]
   }
,
{
		   "cell_type": "markdown",
		   "metadata": {},
		   "source": [
			"## Example 2.2: chapter_2_example_2.sce"
		   ]
		  },
  {
"cell_type": "code",
	   "execution_count": null,
	   "metadata": {
	    "collapsed": true
	   },
	   "outputs": [],
"source": [
"clc\n",
"//initialisation of variables\n",
"M= 107.88 //gm\n",
"z= 4\n",
"v= 4.086 //A\n",
"N= 6.023*10^23\n",
"//CALCULATIONS\n",
"d= z*M/(v^3*10^-24*N)\n",
"//RESULTS\n",
"printf (' Density of silver = %.3f gm cm^-3',d)"
   ]
   }
,
{
		   "cell_type": "markdown",
		   "metadata": {},
		   "source": [
			"## Example 2.3: chapter_2_example_3.sce"
		   ]
		  },
  {
"cell_type": "code",
	   "execution_count": null,
	   "metadata": {
	    "collapsed": true
	   },
	   "outputs": [],
"source": [
"clc\n",
"//initialisation of variables\n",
"d= 1.287 //g cm^-3\n",
"a= 123 //A\n",
"z= 4\n",
"//CALCULATIONS\n",
"M= d*6.023*10^23*a^3*10^-24/z\n",
"//RESULTS\n",
"printf (' molecular weight = %.1e gm ',M)"
   ]
   }
,
{
		   "cell_type": "markdown",
		   "metadata": {},
		   "source": [
			"## Example 2.4: chapter_2_example_4.sce"
		   ]
		  },
  {
"cell_type": "code",
	   "execution_count": null,
	   "metadata": {
	    "collapsed": true
	   },
	   "outputs": [],
"source": [
"clc\n",
"//initialisation of variables\n",
"a= 4.086 //A\n",
"//CALCULATIONS\n",
"d= a*sqrt(2)\n",
"r= d/4\n",
"//RESULTS\n",
"printf (' radius of silver atom= %.3f A ',r)"
   ]
   }
,
{
		   "cell_type": "markdown",
		   "metadata": {},
		   "source": [
			"## Example 2.5: chapter_2_example_5.sce"
		   ]
		  },
  {
"cell_type": "code",
	   "execution_count": null,
	   "metadata": {
	    "collapsed": true
	   },
	   "outputs": [],
"source": [
"clc\n",
"//initialisation of variables\n",
"M= 38.3 //mg cm^-1\n",
"d= 13.55 //g cm^-3\n",
"p= 0.9982 //g cm^-3\n",
"g= 980.7 //cm/sec^2\n",
"l= 4.96  //cm\n",
"//CALCULATIONS\n",
"r= sqrt(M*10^-3/(d*%pi))\n",
"R= r*p*g*l/2\n",
"//RESULTS\n",
"printf (' surface tension = %.1f ergs cm^-2 ',R)"
   ]
   }
,
{
		   "cell_type": "markdown",
		   "metadata": {},
		   "source": [
			"## Example 2.6: chapter_2_example_6.sce"
		   ]
		  },
  {
"cell_type": "code",
	   "execution_count": null,
	   "metadata": {
	    "collapsed": true
	   },
	   "outputs": [],
"source": [
"clc\n",
"//initialisation of variables\n",
"r= 1.333\n",
"d= 0.9982 //g cm^-3\n",
"m= 18.02 //gm\n",
"Pm= 74.22 //cc\n",
"k= 8.314*10^7 \n",
"N= 6.023*10^23\n",
"T= 293 //k\n",
"//CALCULATIONS\n",
"Rm= ((r^2-1)/(r^2+2))*m/d\n",
"u= sqrt(9*k*T*(Pm-Rm)/(4*%pi*N^2))\n",
"//RESULTS\n",
"printf (' dipole moment of water = %.2e e.s.u ',u)"
   ]
   }
,
{
		   "cell_type": "markdown",
		   "metadata": {},
		   "source": [
			"## Example 2.7: chapter_2_example_7.sce"
		   ]
		  },
  {
"cell_type": "code",
	   "execution_count": null,
	   "metadata": {
	    "collapsed": true
	   },
	   "outputs": [],
"source": [
"clc\n",
"//initialisation of variables\n",
"a= 1.66*10^-24 //cm^3\n",
"//CALCULATIONS\n",
"r= a^(1/3)/10^-8\n",
"//RESULTS\n",
"printf (' radius = %.2f A ',r)"
   ]
   }
,
{
		   "cell_type": "markdown",
		   "metadata": {},
		   "source": [
			"## Example 2.8: chapter_2_example_8.sce"
		   ]
		  },
  {
"cell_type": "code",
	   "execution_count": null,
	   "metadata": {
	    "collapsed": true
	   },
	   "outputs": [],
"source": [
"clc\n",
"//initialisation of variables\n",
"N= 6.023*10^23 //molecules\n",
"a= 10^-24\n",
"k= 0.89\n",
"cl= 3.60\n",
"M= 74.56 //gms\n",
"d= 1.989 //g/cm^3\n",
"//CACLULATIONS\n",
"Rm= 4*%pi*N*(k+cl)*a/3\n",
"r= Rm*d/M\n",
"n= sqrt((2*r+1)/(1-r))\n",
"//RESULTS\n",
"printf (' index of refraction= %.3f ',n)"
   ]
   }
,
{
		   "cell_type": "markdown",
		   "metadata": {},
		   "source": [
			"## Example 2.9: chapter_2_example_9.sce"
		   ]
		  },
  {
"cell_type": "code",
	   "execution_count": null,
	   "metadata": {
	    "collapsed": true
	   },
	   "outputs": [],
"source": [
"clc\n",
"//initialisation of variables\n",
"v= 3.6 //cc\n",
"v1= 0.89 //cc\n",
"s= 3.146 //A\n",
"//CALCULATIONS\n",
"r= (v/v1)^(1/3)\n",
"r1 = s/(1+r)\n",
"r2 = s-r1\n",
"//RESULTS\n",
"printf (' radius of k+= %.3f A ',r1)\n",
"printf (' \n radius of cl-= %.3f A ',r2)"
   ]
   }
],
"metadata": {
		  "kernelspec": {
		   "display_name": "Scilab",
		   "language": "scilab",
		   "name": "scilab"
		  },
		  "language_info": {
		   "file_extension": ".sce",
		   "help_links": [
			{
			 "text": "MetaKernel Magics",
			 "url": "https://github.com/calysto/metakernel/blob/master/metakernel/magics/README.md"
			}
		   ],
		   "mimetype": "text/x-octave",
		   "name": "scilab",
		   "version": "0.7.1"
		  }
		 },
		 "nbformat": 4,
		 "nbformat_minor": 0
}
