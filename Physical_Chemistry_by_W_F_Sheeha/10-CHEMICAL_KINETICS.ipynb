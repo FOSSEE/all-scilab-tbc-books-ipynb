{
"cells": [
 {
		   "cell_type": "markdown",
	   "metadata": {},
	   "source": [
       "# Chapter 10: CHEMICAL KINETICS"
	   ]
	},
{
		   "cell_type": "markdown",
		   "metadata": {},
		   "source": [
			"## Example 10.10: chapter_10_example_10.sce"
		   ]
		  },
  {
"cell_type": "code",
	   "execution_count": null,
	   "metadata": {
	    "collapsed": true
	   },
	   "outputs": [],
"source": [
"clc\n",
"//initialisation of variables\n",
"k= 6.3*10^2 //ml mole^-1 sec^-1\n",
"P= 400 //mm\n",
"T= 600 //K\n",
"R= 82.06\n",
"//CALCULATIONS\n",
"C= (P/760)/(R*T)\n",
"t= 1/(9*C*k)\n",
"//RESULTS\n",
"printf (' time= %.1f sec',t)"
   ]
   }
,
{
		   "cell_type": "markdown",
		   "metadata": {},
		   "source": [
			"## Example 10.11: chapter_10_example_11.sce"
		   ]
		  },
  {
"cell_type": "code",
	   "execution_count": null,
	   "metadata": {
	    "collapsed": true
	   },
	   "outputs": [],
"source": [
"clc\n",
"//initialisation of variables\n",
"pf2= 2.00 //mm Hg\n",
"y= 0.96 //mm Hg\n",
"Pn= 5 //mm Hg\n",
"//CALCULATIONS\n",
"pF2= pf2-y\n",
"pNO2= Pn-2*y\n",
"pNO2F= 2*y\n",
"//RESULTS\n",
"printf (' pressure of NO2= %.2f mm of Hg',pNO2)\n",
"printf (' \n pressure of NO2 after 30 sec= %.2f mm of Hg',pNO2F)"
   ]
   }
,
{
		   "cell_type": "markdown",
		   "metadata": {},
		   "source": [
			"## Example 10.13: chapter_10_example_13.sce"
		   ]
		  },
  {
"cell_type": "code",
	   "execution_count": null,
	   "metadata": {
	    "collapsed": true
	   },
	   "outputs": [],
"source": [
"clc\n",
"//initialisation of variables\n",
"k= 4*10^-6 //mol^-1 sec^-1\n",
"Kc= 73\n",
"//CALCULATIONS\n",
"K1= k*Kc/2\n",
"//RESULTS\n",
"printf (' Rate constant= %.2e mol^-1 sec^-1',K1)"
   ]
   }
,
{
		   "cell_type": "markdown",
		   "metadata": {},
		   "source": [
			"## Example 10.14: chapter_10_example_14.sce"
		   ]
		  },
  {
"cell_type": "code",
	   "execution_count": null,
	   "metadata": {
	    "collapsed": true
	   },
	   "outputs": [],
"source": [
"  clc\n",
"//initialisation of variables\n",
"R= 1.987 //atm lit/mol K\n",
"T= 573.2 //K\n",
"T1= 594.6 //K\n",
"k= 3.95*10^-6 //mol^-1 sec^-1\n",
"k1= 1.07*10^-6 //mol^-1 sec^-1\n",
"//CALCULATIONS\n",
"H= R*T*T1*2.303*log10((k/k1))/(T1-T)\n",
"//RESULTS\n",
"printf (' activation energy= %.f calmol^-1',H-39)"
   ]
   }
,
{
		   "cell_type": "markdown",
		   "metadata": {},
		   "source": [
			"## Example 10.15: chapter_10_example_15.sce"
		   ]
		  },
  {
"cell_type": "code",
	   "execution_count": null,
	   "metadata": {
	    "collapsed": true
	   },
	   "outputs": [],
"source": [
"clc\n",
"//initialisation of variables\n",
"H= 41300 //cal\n",
"T= 673 //K\n",
"T1= 595 //K\n",
"R= 1.987 //cal/mol K\n",
"K= 3.95*10^-6\n",
"P= 1 //atm\n",
"R1= 0.08205 //j/mol K\n",
"//CALCULATIONS\n",
"k2= %e^(H*(T-T1)/(R*T*T1))*K\n",
"C= P/(R1*T)\n",
"t= 44.8/C\n",
"//RESULTS\n",
"printf (' time = %.f sec',t-34)"
   ]
   }
,
{
		   "cell_type": "markdown",
		   "metadata": {},
		   "source": [
			"## Example 10.16: chapter_10_example_16.sce"
		   ]
		  },
  {
"cell_type": "code",
	   "execution_count": null,
	   "metadata": {
	    "collapsed": true
	   },
	   "outputs": [],
"source": [
"  clc\n",
"//initialisation of variables\n",
"H= 41300\n",
"R= 1.987 //atm lit/mol K\n",
"T= 595 //K\n",
"M= 128 //gm\n",
"R1= 8.314*10^7 //atm lit/mol K\n",
"N= 6.02*10^23 //moleccules\n",
"k= 3.95*10^-6 //sec^-1\n",
"//CALCULATIONS\n",
"s= sqrt((k*10^3/(4*N))*(128/(%pi*R1*T))^0.5*%e^(H/(R*T)))\n",
"//RESULTS\n",
"printf (' collision diameter= %.3e cm',s)"
   ]
   }
,
{
		   "cell_type": "markdown",
		   "metadata": {},
		   "source": [
			"## Example 10.18: chapter_10_example_18.sce"
		   ]
		  },
  {
"cell_type": "code",
	   "execution_count": null,
	   "metadata": {
	    "collapsed": true
	   },
	   "outputs": [],
"source": [
"clc\n",
"//initialisation of variables\n",
"p= 20.3 //percent\n",
"p1= 1.77 //percent\n",
"I= 100\n",
"n= 2\n",
"l= 300 //l mol^-1 cm^-1\n",
"l1= 30 //l mol^-1 cm^-1\n",
"l2= 10 //l mol^-1 cm^-1\n",
"l3= 200 //l mol^-1 cm^-1\n",
"//CALCULATIONS\n",
"A= [n*l n*l1;n*l2 n*l3]\n",
"b= [log10(I/p1); log10(I/p)]\n",
"c= A\b\n",
"R1=c(1,1)\n",
"R2=c(2,1)\n",
"//RESULTS\n",
"printf (' Concentration of A = %.2e mole l^-1',R1)\n",
"printf (' \n Concentration of B = %.2e mole l^-1',R2)"
   ]
   }
,
{
		   "cell_type": "markdown",
		   "metadata": {},
		   "source": [
			"## Example 10.1: chapter_10_example_1.sce"
		   ]
		  },
  {
"cell_type": "code",
	   "execution_count": null,
	   "metadata": {
	    "collapsed": true
	   },
	   "outputs": [],
"source": [
"clc\n",
"//initialisation of variables\n",
"t= 3 //sec\n",
"P0= 200 //mm\n",
"k= 17.3 //mm/sec\n",
"P1= 104 //mm\n",
"//CALCULATIONS\n",
"P= P0-k*t\n",
"P2= P+P1\n",
"//RESULTS\n",
"printf (' Pressure= %.f mm of Hg',P2)"
   ]
   }
,
{
		   "cell_type": "markdown",
		   "metadata": {},
		   "source": [
			"## Example 10.2: chapter_10_example_2.sce"
		   ]
		  },
  {
"cell_type": "code",
	   "execution_count": null,
	   "metadata": {
	    "collapsed": true
	   },
	   "outputs": [],
"source": [
"clc\n",
"//initialisation of variables\n",
"k= 2.63*10^-3 //min^-1\n",
"//CALCULATIONS\n",
"t1= 0.693/k\n",
"//RESULTS\n",
"printf (' Half time= %.f min',t1+1)"
   ]
   }
,
{
		   "cell_type": "markdown",
		   "metadata": {},
		   "source": [
			"## Example 10.3: chapter_10_example_3.sce"
		   ]
		  },
  {
"cell_type": "code",
	   "execution_count": null,
	   "metadata": {
	    "collapsed": true
	   },
	   "outputs": [],
"source": [
"clc\n",
"//initialisation of variables\n",
"P= 200 //mm\n",
"t= 30 //min\n",
"k= 2.5*10^-4 //sec^-1\n",
"//CALCULATIONS\n",
"P0= P/(10^(k*t*60/2.303))\n",
"P1= P-P0\n",
"//RESULTS\n",
"printf (' Partial Pressure of reactant= %.f mm',P1)"
   ]
   }
,
{
		   "cell_type": "markdown",
		   "metadata": {},
		   "source": [
			"## Example 10.4: chapter_10_example_4.sce"
		   ]
		  },
  {
"cell_type": "code",
	   "execution_count": null,
	   "metadata": {
	    "collapsed": true
	   },
	   "outputs": [],
"source": [
"clc\n",
"//initialisation of variables\n",
"t= 5600*365*24*60\n",
"x= 5 //atoms\n",
"//CALCULATIONS\n",
"k= 0.693/t\n",
"N= x/k\n",
"//RESULTS\n",
"printf (' No of atoms= %.2e atoms',N)"
   ]
   }
,
{
		   "cell_type": "markdown",
		   "metadata": {},
		   "source": [
			"## Example 10.5: chapter_10_example_5.sce"
		   ]
		  },
  {
"cell_type": "code",
	   "execution_count": null,
	   "metadata": {
	    "collapsed": true
	   },
	   "outputs": [],
"source": [
"clc\n",
"//initialisation of variables\n",
"t= 5600 //sec\n",
"r= 0.256\n",
"//CALCULATIONS\n",
"t1= (t/0.693)*2.303*log10(1/r)\n",
"//RESULTS\n",
"printf (' Time= %.f years ago',t1-13)"
   ]
   }
,
{
		   "cell_type": "markdown",
		   "metadata": {},
		   "source": [
			"## Example 10.6: chapter_10_example_6.sce"
		   ]
		  },
  {
"cell_type": "code",
	   "execution_count": null,
	   "metadata": {
	    "collapsed": true
	   },
	   "outputs": [],
"source": [
"clc\n",
"//initialisation of variables\n",
"t= 25.1 //hr\n",
"C= 0.004366 \n",
"C1= 0.002192\n",
"C2= 0.006649\n",
"//CALCULATIONS\n",
"r= (C-C1)/(C2-C1)\n",
"k= 2.303*log10(1/r)/t\n",
"t1= 0.693/k\n",
"//RESULTS\n",
"printf (' Time= %.1f hr',t1)"
   ]
   }
,
{
		   "cell_type": "markdown",
		   "metadata": {},
		   "source": [
			"## Example 10.7: chapter_10_example_7.sce"
		   ]
		  },
  {
"cell_type": "code",
	   "execution_count": null,
	   "metadata": {
	    "collapsed": true
	   },
	   "outputs": [],
"source": [
"clc\n",
"//initialisation of variables\n",
"s= 18.6*10^4 //mm of hg\n",
"//CALCULATIONS\n",
"k= 1/s\n",
"//RESULTS\n",
"printf (' Rate constant= %.2e (mm Hg)^-1 sec^-1',k)"
   ]
   }
,
{
		   "cell_type": "markdown",
		   "metadata": {},
		   "source": [
			"## Example 10.8: chapter_10_example_8.sce"
		   ]
		  },
  {
"cell_type": "code",
	   "execution_count": null,
	   "metadata": {
	    "collapsed": true
	   },
	   "outputs": [],
"source": [
"clc\n",
"//initialisation of variables\n",
"k= 1.14*10^-4 //sec^-1\n",
"k1= 5.38*10^-6 //sec^-1\n",
"//CALCULATIONS\n",
"P= k/k1\n",
"//RESULTS\n",
"printf (' Pressure= %.1f mm of Hg',P)"
   ]
   }
,
{
		   "cell_type": "markdown",
		   "metadata": {},
		   "source": [
			"## Example 10.9: chapter_10_example_9.sce"
		   ]
		  },
  {
"cell_type": "code",
	   "execution_count": null,
	   "metadata": {
	    "collapsed": true
	   },
	   "outputs": [],
"source": [
"clc\n",
"//initialisation of variables\n",
"T= 600 //K\n",
"P= 1 //atm\n",
"R= 0.0862 //atm lit/mol K\n",
"//CALCULATIONS\n",
"C= P/(R*T)\n",
"r= C^2*4*10^-6 \n",
"r1= 6*10^23*r\n",
"//RESULTS\n",
"printf (' No of molecules= %.1e molecules l^-1 sec^-1',r1)"
   ]
   }
],
"metadata": {
		  "kernelspec": {
		   "display_name": "Scilab",
		   "language": "scilab",
		   "name": "scilab"
		  },
		  "language_info": {
		   "file_extension": ".sce",
		   "help_links": [
			{
			 "text": "MetaKernel Magics",
			 "url": "https://github.com/calysto/metakernel/blob/master/metakernel/magics/README.md"
			}
		   ],
		   "mimetype": "text/x-octave",
		   "name": "scilab",
		   "version": "0.7.1"
		  }
		 },
		 "nbformat": 4,
		 "nbformat_minor": 0
}
