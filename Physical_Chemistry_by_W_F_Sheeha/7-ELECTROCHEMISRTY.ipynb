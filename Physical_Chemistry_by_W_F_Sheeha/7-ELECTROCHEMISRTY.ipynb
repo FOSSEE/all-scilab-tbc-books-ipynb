{
"cells": [
 {
		   "cell_type": "markdown",
	   "metadata": {},
	   "source": [
       "# Chapter 7: ELECTROCHEMISRTY"
	   ]
	},
{
		   "cell_type": "markdown",
		   "metadata": {},
		   "source": [
			"## Example 7.11: chapter_7_example_11.sce"
		   ]
		  },
  {
"cell_type": "code",
	   "execution_count": null,
	   "metadata": {
	    "collapsed": true
	   },
	   "outputs": [],
"source": [
"clc\n",
"//initialisation of variables\n",
"Ka= 6*10^-10\n",
"C= 10^-1 //moles l^-1\n",
"//CALCULATIONS\n",
"C1= sqrt(Ka*C)\n",
"//RESULTS\n",
"printf (' concentration of hydrogen ion = %.e moles l^-1 ',C1)"
   ]
   }
,
{
		   "cell_type": "markdown",
		   "metadata": {},
		   "source": [
			"## Example 7.13: chapter_7_example_13.sce"
		   ]
		  },
  {
"cell_type": "code",
	   "execution_count": null,
	   "metadata": {
	    "collapsed": true
	   },
	   "outputs": [],
"source": [
"clc\n",
"//initialisation of variables\n",
"Ka= 1.8*10^-5 \n",
"n= 2 //milli moles\n",
"v= 45 //ml\n",
"n1= 0.5//milli moles\n",
"//CALCULATIONS\n",
"x= Ka*v*n1/n\n",
"C= x/v\n",
"//RESULTS\n",
"printf (' concentration of hydrogen ion = %.1e moles l^-1 ',C)"
   ]
   }
,
{
		   "cell_type": "markdown",
		   "metadata": {},
		   "source": [
			"## Example 7.14: chapter_7_example_14.sce"
		   ]
		  },
  {
"cell_type": "code",
	   "execution_count": null,
	   "metadata": {
	    "collapsed": true
	   },
	   "outputs": [],
"source": [
"clc\n",
"//initialisation of variables\n",
"a= 2.4*10^-4\n",
"Ph= 11.54\n",
"//CALCULATIONS\n",
"Ph1= -log10(a)\n",
"a= 10^(-Ph)\n",
"//RESULTS\n",
"printf (' pH of solution = %.2f  ',Ph1)\n",
"printf (' \n activity coefficient = %.1e  ',a)"
   ]
   }
,
{
		   "cell_type": "markdown",
		   "metadata": {},
		   "source": [
			"## Example 7.15: chapter_7_example_15.sce"
		   ]
		  },
  {
"cell_type": "code",
	   "execution_count": null,
	   "metadata": {
	    "collapsed": true
	   },
	   "outputs": [],
"source": [
"clc\n",
"//initialisation of variables\n",
"E= 0.35240 //volts\n",
"F= 96493.1 //coloumb\n",
"n= 2 //electrons\n",
"//CALCULATIONS\n",
"G= -n*F*E\n",
"//RESULTS\n",
"printf (' Gibs free energy = %.f absolute joules ',G-22)"
   ]
   }
,
{
		   "cell_type": "markdown",
		   "metadata": {},
		   "source": [
			"## Example 7.16: chapter_7_example_16.sce"
		   ]
		  },
  {
"cell_type": "code",
	   "execution_count": null,
	   "metadata": {
	    "collapsed": true
	   },
	   "outputs": [],
"source": [
"clc\n",
"//initialisation of variables\n",
"E= 0.35240 //volts\n",
"E1= 0.35321 //volts\n",
"E2= 0.35140 //volts\n",
"T= 25 //C\n",
"T1= 20 //C\n",
"T2= 30 //C\n",
"n= 2 //electrons\n",
"F= 96493.1 //coloumb\n",
"//CALCULATIONS\n",
"r= (E-E1)/(T-T1)\n",
"r1= (E2-E)/(T2-T)\n",
"R= (r+r1)/2\n",
"S= n*F*R\n",
"H= n*F*((273.16+T)*R-E)\n",
"//RESULTS\n",
"printf (' Entropy = %.1f joules deg^-1',S)\n",
"printf (' \n Enthalpy = %.f joules',H-27)"
   ]
   }
,
{
		   "cell_type": "markdown",
		   "metadata": {},
		   "source": [
			"## Example 7.17: chapter_7_example_18.sce"
		   ]
		  },
  {
"cell_type": "code",
	   "execution_count": null,
	   "metadata": {
	    "collapsed": true
	   },
	   "outputs": [],
"source": [
"clc\n",
"//initialisation of variables\n",
"v= 0.11834 //volt\n",
"F= 96493.1 //coloumb\n",
"n= 1 //electron\n",
"R= 8.3144 //J/mol K\n",
"T= 25 //C\n",
"m= 0.1\n",
"m1= 0.9862\n",
"//CALCULATIONS\n",
"G= -n*F*v\n",
"G1= 2*R*(273.16+T)*log(m/m1)\n",
"//RESULTS\n",
"printf (' Gibs free energy = %.f joules',G)\n",
"printf (' \n Gibs free energy = %.f joules',G1)"
   ]
   }
,
{
		   "cell_type": "markdown",
		   "metadata": {},
		   "source": [
			"## Example 7.19: chapter_7_example_19.sce"
		   ]
		  },
  {
"cell_type": "code",
	   "execution_count": null,
	   "metadata": {
	    "collapsed": true
	   },
	   "outputs": [],
"source": [
"clc\n",
"//initialisation of variables\n",
"n= 2 //electrons\n",
"R= 8.314 //J/mol K\n",
"F= 96493 //coloumb\n",
"T= 25 //C\n",
"N2= 3.17*10^-6\n",
"N1= 6.13*10^-3\n",
"//CALCULATIONS\n",
"E= -(R*(273.16+T)*2.3026/(n*F))*log10(N2/N1)\n",
"//RESULTS\n",
"printf (' potential difference = %.5f volt',E)"
   ]
   }
,
{
		   "cell_type": "markdown",
		   "metadata": {},
		   "source": [
			"## Example 7.1: chapter_7_example_1.sce"
		   ]
		  },
  {
"cell_type": "code",
	   "execution_count": null,
	   "metadata": {
	    "collapsed": true
	   },
	   "outputs": [],
"source": [
"clc\n",
"//initialisation of variables\n",
"e= 1.6016*10^-19 //coloumb\n",
"F= 96493 //\n",
"//CALCULATIONS\n",
"N= F/e\n",
"//RESULTS\n",
"printf (' Avagadro number = %.2e ',N)"
   ]
   }
,
{
		   "cell_type": "markdown",
		   "metadata": {},
		   "source": [
			"## Example 7.20: chapter_7_example_20.sce"
		   ]
		  },
  {
"cell_type": "code",
	   "execution_count": null,
	   "metadata": {
	    "collapsed": true
	   },
	   "outputs": [],
"source": [
"clc\n",
"//initialisation of variables\n",
"E= 0.84 //volts\n",
"n= 1 //electron\n",
"F= 96500 //coloumb\n",
"R= 8.314 //J/mol K\n",
"T= 25 //C\n",
"//CALCULATIONS\n",
"K= %e^(E*n*F/(R*(273+T)))\n",
"//RESULTS\n",
"printf (' Equilibrium constant = %.1e ',K)"
   ]
   }
,
{
		   "cell_type": "markdown",
		   "metadata": {},
		   "source": [
			"## Example 7.21: chapter_7_example_21.sce"
		   ]
		  },
  {
"cell_type": "code",
	   "execution_count": null,
	   "metadata": {
	    "collapsed": true
	   },
	   "outputs": [],
"source": [
"clc\n",
"//initialisation of variables\n",
"E= -0.0029 //volts\n",
"V= 0.1 //volts\n",
"V1= 0.05 //volts\n",
"f= 0.05916 //J/mol coloumb\n",
"T= 25 //C\n",
"F= 96500 //coloumb\n",
"R= 8.314 //J/mol K\n",
"//CALCULATIONS  \n",
"e= E+f*log10(V*V1/V1)\n",
"K= %e^(e*F/(R*(273+T)))\n",
"//RESULTS\n",
"printf (' Equilibrium constant = %.1e ',K)"
   ]
   }
,
{
		   "cell_type": "markdown",
		   "metadata": {},
		   "source": [
			"## Example 7.22: chapter_7_example_22.sce"
		   ]
		  },
  {
"cell_type": "code",
	   "execution_count": null,
	   "metadata": {
	    "collapsed": true
	   },
	   "outputs": [],
"source": [
"clc\n",
"//initialisation of variables\n",
"E= 1.0508 //volts\n",
"V= 0.3338 //volts\n",
"a= 0.0796 \n",
"a1= sqrt(0.0490)\n",
"f= 0.05916 //J/mol coloumb\n",
"//CALCULATIONS\n",
"V= E+V+f*log10(a/a1)\n",
"//RESULTS\n",
"printf (' Standard electrode poteential = %.4f volts',V)"
   ]
   }
,
{
		   "cell_type": "markdown",
		   "metadata": {},
		   "source": [
			"## Example 7.23: chapter_7_example_23.sce"
		   ]
		  },
  {
"cell_type": "code",
	   "execution_count": null,
	   "metadata": {
	    "collapsed": true
	   },
	   "outputs": [],
"source": [
"clc\n",
"//initialisation of variables\n",
"V= 1.3595 //volts\n",
"n= 1 //electron\n",
"F= 96493 //coloumb\n",
"//CALCULATIONS\n",
"G= -n*F*V/4.28\n",
"//RESULTS\n",
"printf (' Standard molar free energy = %.f cal',G+10)"
   ]
   }
,
{
		   "cell_type": "markdown",
		   "metadata": {},
		   "source": [
			"## Example 7.25: chapter_7_example_25.sce"
		   ]
		  },
  {
"cell_type": "code",
	   "execution_count": null,
	   "metadata": {
	    "collapsed": true
	   },
	   "outputs": [],
"source": [
"clc\n",
"//initialisation of variables\n",
"V= -0.658 //volt\n",
"V1= -0.3363 //volt\n",
"n= 1 //electron\n",
"F= 96438 //coloumb\n",
"R= 8.314 //j/mol K\n",
"T= 25 //C\n",
"//CLACULATIONS\n",
"V2= V-V1\n",
"Ksp= 10^(V2*n*F/(2.303*R*(273.2+T)))\n",
"//RESULTS\n",
"printf (' Solubility constant = %.1e volt',Ksp)"
   ]
   }
,
{
		   "cell_type": "markdown",
		   "metadata": {},
		   "source": [
			"## Example 7.26: chapter_7_example_26.sce"
		   ]
		  },
  {
"cell_type": "code",
	   "execution_count": null,
	   "metadata": {
	    "collapsed": true
	   },
	   "outputs": [],
"source": [
"clc\n",
"//initialisation of variables\n",
"e= 0\n",
"e1= -0.37\n",
"k= -0.05916 //j/mol\n",
"a= 0.02\n",
"a1- 0.01\n",
"p= 730 //mm of Hg\n",
"//CALCULATIONS\n",
"E= (e-e1)-k*log10(a*sqrt(p/760)/(a1*a))\n",
"//RESULTS\n",
"printf (' cell potential = %.2f volt',E-0.03) "
   ]
   }
,
{
		   "cell_type": "markdown",
		   "metadata": {},
		   "source": [
			"## Example 7.27: chapter_7_example_27.sce"
		   ]
		  },
  {
"cell_type": "code",
	   "execution_count": null,
	   "metadata": {
	    "collapsed": true
	   },
	   "outputs": [],
"source": [
"clc\n",
"//initialisation of variables\n",
"e= 0 //ev\n",
"e1= -0.37 //ev\n",
"k= -0.05916 //j/mol\n",
"a= 0.02\n",
"a1- 0.01\n",
"p= 730 //mm of Hg\n",
"//CALCULATIONS\n",
"E= (e-e1)-k*log10(a*sqrt(p/760)/(a1*a))\n",
"//RESULTS\n",
"printf (' cell potential = %.2f volt',E-0.03) "
   ]
   }
,
{
		   "cell_type": "markdown",
		   "metadata": {},
		   "source": [
			"## Example 7.28: chapter_7_example_28.sce"
		   ]
		  },
  {
"cell_type": "code",
	   "execution_count": null,
	   "metadata": {
	    "collapsed": true
	   },
	   "outputs": [],
"source": [
"clc\n",
"//initialisation of variables\n",
"V= -0.440 //volt\n",
"V1= 0.771 //volt\n",
"F= 96500 //coloumb\n",
"n=2 //electrons\n",
"n1= 1 //electrons\n",
"n2= 3 //electrons\n",
"//CALCULATIONS\n",
"G= -n*F*V\n",
"G1= -n1*F*V1\n",
"G2= G+G1\n",
"V= G2/(n2*F)\n",
"//RESULTS\n",
"printf (' cell potential = %.4f volt',V) "
   ]
   }
,
{
		   "cell_type": "markdown",
		   "metadata": {},
		   "source": [
			"## Example 7.29: chapter_7_example_29.sce"
		   ]
		  },
  {
"cell_type": "code",
	   "execution_count": null,
	   "metadata": {
	    "collapsed": true
	   },
	   "outputs": [],
"source": [
"clc\n",
"//initialisation of variables\n",
"c= 10^-7\n",
"c1= 1\n",
"f= 1\n",
"k= -0.05915 //j/mol\n",
"//CALCULATIONS\n",
"E= (k/f)*log10(c/c1)\n",
"//RESULTS\n",
"printf (' cell potential = %.5f volt',E)"
   ]
   }
,
{
		   "cell_type": "markdown",
		   "metadata": {},
		   "source": [
			"## Example 7.2: chapter_7_example_2.sce"
		   ]
		  },
  {
"cell_type": "code",
	   "execution_count": null,
	   "metadata": {
	    "collapsed": true
	   },
	   "outputs": [],
"source": [
"clc\n",
"//initialisation of variables\n",
"m= 1 //gms\n",
"M= 63.54 //gms\n",
"e= 2 //farady\n",
"F= 96493\n",
"n= 3\n",
"//CALCULATIONS\n",
"t= (m/M)*(e*F/n)\n",
"//RESULTS\n",
"printf (' Time = %.f sec',t)"
   ]
   }
,
{
		   "cell_type": "markdown",
		   "metadata": {},
		   "source": [
			"## Example 7.30: chapter_7_example_30.sce"
		   ]
		  },
  {
"cell_type": "code",
	   "execution_count": null,
	   "metadata": {
	    "collapsed": true
	   },
	   "outputs": [],
"source": [
"clc\n",
"//initialisation of variables\n",
"c= 391\n",
"c1= 129\n",
"f= 1\n",
"k= -0.05915 //j/mol\n",
"//CALCULATIONS\n",
"E= (k/f)*log10(c1/c)\n",
"//RESULS\n",
"printf (' junction potential = %.4f volt',E)"
   ]
   }
,
{
		   "cell_type": "markdown",
		   "metadata": {},
		   "source": [
			"## Example 7.3: chapter_7_example_3.sce"
		   ]
		  },
  {
"cell_type": "code",
	   "execution_count": null,
	   "metadata": {
	    "collapsed": true
	   },
	   "outputs": [],
"source": [
"clc\n",
"//initialisation of variables\n",
"M= 25.01 //gms\n",
"n= 1.0053 //moles\n",
"n1= 6.6*10^-5 //moles\n",
"e= 1.350*10^-3 //coloumbs\n",
"//CALCULATIONS\n",
"x= M/n\n",
"y= n1*x\n",
"nm= y*10^3+e*10^3-(x/10)\n",
"t= nm/(e*10^3)\n",
"//CALCULATIONS\n",
"printf (' transference number = %.3f  ',t)"
   ]
   }
,
{
		   "cell_type": "markdown",
		   "metadata": {},
		   "source": [
			"## Example 7.5: chapter_7_example_5.sce"
		   ]
		  },
  {
"cell_type": "code",
	   "execution_count": null,
	   "metadata": {
	    "collapsed": true
	   },
	   "outputs": [],
"source": [
"clc\n",
"//initialisation of variables\n",
"x= 0.033 //cm\n",
"t= 38.2 //sec\n",
"e= 3.2 //v\n",
"V= 9*10^-3 //dyne sec cm^-2\n",
"k= 78\n",
"//CALCULATIONS\n",
"v= x/t\n",
"u= v/e\n",
"S= -300^2*u*V*4*%pi/k\n",
"//RESULTS\n",
"printf (' electrokinetic potential = %.3f volt ',S)"
   ]
   }
,
{
		   "cell_type": "markdown",
		   "metadata": {},
		   "source": [
			"## Example 7.6: chapter_7_example_6.sce"
		   ]
		  },
  {
"cell_type": "code",
	   "execution_count": null,
	   "metadata": {
	    "collapsed": true
	   },
	   "outputs": [],
"source": [
"clc\n",
"//initialisation of variables\n",
"o= 0.999505 //mho cm^-1\n",
"k= 0.0128560\n",
"i= 97.36 //ohms\n",
"I= 117.18 //ohms\n",
"//CALCULATIONS\n",
"Lsp= k*o\n",
"L1sp= k*i/I\n",
"//RESULTS\n",
"printf (' specific conductivity = %.6f mho cm^-1 ',L1sp)"
   ]
   }
,
{
		   "cell_type": "markdown",
		   "metadata": {},
		   "source": [
			"## Example 7.7: chapter_7_example_7.sce"
		   ]
		  },
  {
"cell_type": "code",
	   "execution_count": null,
	   "metadata": {
	    "collapsed": true
	   },
	   "outputs": [],
"source": [
"clc\n",
"//initialisation of variables\n",
"A= 388.5\n",
"l= 349.8\n",
"a= 0.61\n",
"m= 0.1 //M\n",
"//CALCULATIONS\n",
"L= A-l\n",
"A1= a*A\n",
"Lsp= m*A1/1000\n",
"//RESULTS\n",
"printf (' equivalent conductance of the anion at infinite solution = % 2e mho cm^-2 ',Lsp)"
   ]
   }
,
{
		   "cell_type": "markdown",
		   "metadata": {},
		   "source": [
			"## Example 7.8: chapter_7_example_8.sce"
		   ]
		  },
  {
"cell_type": "code",
	   "execution_count": null,
	   "metadata": {
	    "collapsed": true
	   },
	   "outputs": [],
"source": [
"clc\n",
"//initialisation of variables\n",
"l= 349.82 \n",
"F= 96493.1 //coloumb\n",
"//CALCULATIONS\n",
"u= l/F\n",
"//RESULTS\n",
"printf (' effective mobility = %.3e volt sec^-1  ',u)"
   ]
   }
,
{
		   "cell_type": "markdown",
		   "metadata": {},
		   "source": [
			"## Example 7.9: chapter_7_example_9.sce"
		   ]
		  },
  {
"cell_type": "code",
	   "execution_count": null,
	   "metadata": {
	    "collapsed": true
	   },
	   "outputs": [],
"source": [
"clc\n",
"//initialisation of variables\n",
"G1= -7800 //cal\n",
"G2= -24600 //cal\n",
"G3= -39700 //cal\n",
"R= 1.987 //cal/mol K\n",
"T= 25 //C\n",
"//CALCULATIONS\n",
"G= G1+G2-G3\n",
"Ksp= 10^(-G/(2.303*R*(273.2+T)))\n",
"//RESULTS\n",
"printf (' solubility product constant = % 1e  ',Ksp)"
   ]
   }
],
"metadata": {
		  "kernelspec": {
		   "display_name": "Scilab",
		   "language": "scilab",
		   "name": "scilab"
		  },
		  "language_info": {
		   "file_extension": ".sce",
		   "help_links": [
			{
			 "text": "MetaKernel Magics",
			 "url": "https://github.com/calysto/metakernel/blob/master/metakernel/magics/README.md"
			}
		   ],
		   "mimetype": "text/x-octave",
		   "name": "scilab",
		   "version": "0.7.1"
		  }
		 },
		 "nbformat": 4,
		 "nbformat_minor": 0
}
