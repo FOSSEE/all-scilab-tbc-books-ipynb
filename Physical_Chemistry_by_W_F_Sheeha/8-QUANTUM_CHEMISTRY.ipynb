{
"cells": [
 {
		   "cell_type": "markdown",
	   "metadata": {},
	   "source": [
       "# Chapter 8: QUANTUM CHEMISTRY"
	   ]
	},
{
		   "cell_type": "markdown",
		   "metadata": {},
		   "source": [
			"## Example 8.10: chapter_8_example_10.sce"
		   ]
		  },
  {
"cell_type": "code",
	   "execution_count": null,
	   "metadata": {
	    "collapsed": true
	   },
	   "outputs": [],
"source": [
"clc\n",
"//initialisation of variables\n",
"N= 6*10^23 //molecules\n",
"R= 2.82 //A\n",
"e= 4.8*10^-10 //ev\n",
"n= 9\n",
"z= 1.748\n",
"//CALCULATIONS\n",
"U= (N*z*e^2*(1-(1/n)))*182.2/(R*10^-8*7.63*10^12)\n",
"//RESULTS\n",
"printf (' latice energy = %.1f kcal mole^-1',U)"
   ]
   }
,
{
		   "cell_type": "markdown",
		   "metadata": {},
		   "source": [
			"## Example 8.11: chapter_8_example_11.sce"
		   ]
		  },
  {
"cell_type": "code",
	   "execution_count": null,
	   "metadata": {
	    "collapsed": true
	   },
	   "outputs": [],
"source": [
"clc\n",
"//initialisation of variables\n",
"k= 13\n",
"e= 4.8*10^-10 //ev\n",
"h= 6.624*10^-27 //ergs sec\n",
"N= 6.023*10^23 //molecules\n",
"l= 1836 //A\n",
"//CALCULATIONS\n",
"I= e^4*0.080/(l*N*1.28*10^-13*2*k^2*(h/(2*%pi))^2)\n",
"//RESULTS\n",
"printf (' least energy required for transfer= %.2f ev',I)"
   ]
   }
,
{
		   "cell_type": "markdown",
		   "metadata": {},
		   "source": [
			"## Example 8.12: chapter_8_example_12.sce"
		   ]
		  },
  {
"cell_type": "code",
	   "execution_count": null,
	   "metadata": {
	    "collapsed": true
	   },
	   "outputs": [],
"source": [
"clc\n",
"//initialisation of variables\n",
"i= 54.4 //ev\n",
"i1= 24.6 //ev\n",
"k= 2.5 \n",
"//CALCULATIONS\n",
"I= i/(4*k^2)\n",
"I1= i1/(4*k^2)\n",
"d= I-I1\n",
"//RESULTS\n",
"printf (' difference between first and second potential= %.1f ev',d)"
   ]
   }
,
{
		   "cell_type": "markdown",
		   "metadata": {},
		   "source": [
			"## Example 8.1: chapter_8_example_1.sce"
		   ]
		  },
  {
"cell_type": "code",
	   "execution_count": null,
	   "metadata": {
	    "collapsed": true
	   },
	   "outputs": [],
"source": [
"clc\n",
"//initialisation of variables\n",
"v= 299.8 //V\n",
"e= 4.802*10^-10 //ev\n",
"h= 6.624*10^-27 //ergs sec\n",
"c= 3*10^10 //cm/sec\n",
"//CALCULATIONS\n",
"E= e/v\n",
"l= h*c*10^8/(2*E)\n",
"//RESULTS\n",
"printf (' Wavelength = %.f cm',l+7)"
   ]
   }
,
{
		   "cell_type": "markdown",
		   "metadata": {},
		   "source": [
			"## Example 8.2: chapter_8_example_2.sce"
		   ]
		  },
  {
"cell_type": "code",
	   "execution_count": null,
	   "metadata": {
	    "collapsed": true
	   },
	   "outputs": [],
"source": [
"clc\n",
"//initialisation of variables\n",
"u= 109677.583 //cm^-1\n",
"//RESULTS\n",
"printf (' value of numerical coefficient = %.3f cm',u)"
   ]
   }
,
{
		   "cell_type": "markdown",
		   "metadata": {},
		   "source": [
			"## Example 8.3: chapter_8_example_3.sce"
		   ]
		  },
  {
"cell_type": "code",
	   "execution_count": null,
	   "metadata": {
	    "collapsed": true
	   },
	   "outputs": [],
"source": [
"clc\n",
"//initialisation of variables\n",
"h= 6.6234*10^-27 //ergs sec\n",
"m= 2.59 //gms\n",
"v= 3.35*10^4 //cm sec ^-1\n",
"e= 4.8*10^-10 //ev\n",
"V= 40000 //volts\n",
"M= 300 //gms\n",
"L= 1836 //A\n",
"N= 6*10^23 //molecules\n",
"//CALCULATIONS\n",
"p= m*v\n",
"l= h/p\n",
"E= V*e/M\n",
"P= sqrt(2*E*(1/(L*N)))\n",
"L1= h*10^8/P\n",
"//RESULTS\n",
"printf (' wavelength = %.2e cm',l)\n",
"printf (' \n wavelength = %.4f cm',L1)"
   ]
   }
,
{
		   "cell_type": "markdown",
		   "metadata": {},
		   "source": [
			"## Example 8.4: chapter_8_example_4.sce"
		   ]
		  },
  {
"cell_type": "code",
	   "execution_count": null,
	   "metadata": {
	    "collapsed": true
	   },
	   "outputs": [],
"source": [
"clc\n",
"//initialisation of variables\n",
"h= 6.624*10^-27 //ergs sec\n",
"c= 3*10^10 //cm/sec\n",
"u= 5 //cm^-1\n",
"//CALCULATIONS  \n",
"T= h/(h*2*%pi*c*u)\n",
"//RESULTS\n",
"printf (' lifetime of this excited state = %.e sec',T)"
   ]
   }
,
{
		   "cell_type": "markdown",
		   "metadata": {},
		   "source": [
			"## Example 8.5: chapter_8_example_5.sce"
		   ]
		  },
  {
"cell_type": "code",
	   "execution_count": null,
	   "metadata": {
	    "collapsed": true
	   },
	   "outputs": [],
"source": [
"clc\n",
"//initialisation of variables\n",
"V= 2.5*10^4 //m/sec\n",
"m= 30 //gms\n",
"s= 10*10^-16 //cm^2\n",
"N= 6.023*10^23 //molecules\n",
"T= 300 //K\n",
"k= 8.3*10^7\n",
"//CALCULATIONS\n",
"t= sqrt((m/(%pi*k*T)))*(V/(4*s*N))\n",
"//RESULTS\n",
"printf (' lifetime = %.e sec',t)"
   ]
   }
,
{
		   "cell_type": "markdown",
		   "metadata": {},
		   "source": [
			"## Example 8.7: chapter_8_example_7.sce"
		   ]
		  },
  {
"cell_type": "code",
	   "execution_count": null,
	   "metadata": {
	    "collapsed": true
	   },
	   "outputs": [],
"source": [
"clc\n",
"//initialisation of variables\n",
"h= 6.627*10^-27 //ergssec\n",
"N= 6.023*10^23 //molecules\n",
"c= 2.9979*10^10\n",
"Be= 60.809\n",
"mh= 1.0812 //gms\n",
"//CALCULATIONS\n",
"u= mh/2\n",
"Re= sqrt(h*N/(c*8*%pi^2*Be*u))\n",
"//RESULTS\n",
"printf (' internuclear distances = % 1e cm ',Re)"
   ]
   }
,
{
		   "cell_type": "markdown",
		   "metadata": {},
		   "source": [
			"## Example 8.8: chapter_8_example_8.sce"
		   ]
		  },
  {
"cell_type": "code",
	   "execution_count": null,
	   "metadata": {
	    "collapsed": true
	   },
	   "outputs": [],
"source": [
"clc\n",
"//initialisation of variables\n",
"H= 19.8 //kcal\n",
"H1= -0.8 //kcal\n",
"H2= -29.4 //kcal\n",
"//CALCULATIONS\n",
"H3= -85.8\n",
"H4= -49.2\n",
"H5= -H3+H4\n",
"//RESULTS\n",
"printf (' Resonance energy = %.1f cal',H5)"
   ]
   }
,
{
		   "cell_type": "markdown",
		   "metadata": {},
		   "source": [
			"## Example 8.9: chapter_8_example_9.sce"
		   ]
		  },
  {
"cell_type": "code",
	   "execution_count": null,
	   "metadata": {
	    "collapsed": true
	   },
	   "outputs": [],
"source": [
"clc\n",
"//initialisation of variables\n",
"R= 1.69 //A\n",
"l= 1.49 //A\n",
"r= 0.706\n",
"//CALCULATIONS\n",
"n= (R-l)/r\n",
"//RESULTS\n",
"printf (' no of bonds = %.2f ',n)"
   ]
   }
],
"metadata": {
		  "kernelspec": {
		   "display_name": "Scilab",
		   "language": "scilab",
		   "name": "scilab"
		  },
		  "language_info": {
		   "file_extension": ".sce",
		   "help_links": [
			{
			 "text": "MetaKernel Magics",
			 "url": "https://github.com/calysto/metakernel/blob/master/metakernel/magics/README.md"
			}
		   ],
		   "mimetype": "text/x-octave",
		   "name": "scilab",
		   "version": "0.7.1"
		  }
		 },
		 "nbformat": 4,
		 "nbformat_minor": 0
}
