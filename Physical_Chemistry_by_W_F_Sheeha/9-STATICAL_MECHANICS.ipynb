{
"cells": [
 {
		   "cell_type": "markdown",
	   "metadata": {},
	   "source": [
       "# Chapter 9: STATICAL MECHANICS"
	   ]
	},
{
		   "cell_type": "markdown",
		   "metadata": {},
		   "source": [
			"## Example 9.2: chapter_9_example_2.sce"
		   ]
		  },
  {
"cell_type": "code",
	   "execution_count": null,
	   "metadata": {
	    "collapsed": true
	   },
	   "outputs": [],
"source": [
"clc\n",
"//initialisation of variables\n",
"T= 298.16 //K\n",
"M= 4.003 //gm\n",
"S= 2.3151 //cal mol^-1 deg^-1\n",
"R= 1.987 //cal/molK\n",
"//CALCULATIONS\n",
"S1= 2.5*R*log(T)+1.5*R*log(M)-S\n",
"//RESULTS\n",
"printf (' Absolute Entropy= %.3f cal mol^-1 deg^-1',S1)"
   ]
   }
,
{
		   "cell_type": "markdown",
		   "metadata": {},
		   "source": [
			"## Example 9.3: chapter_9_example_3.sce"
		   ]
		  },
  {
"cell_type": "code",
	   "execution_count": null,
	   "metadata": {
	    "collapsed": true
	   },
	   "outputs": [],
"source": [
"clc\n",
"//initialisation of variables\n",
"h= 6.624*10^-27//erg/sec\n",
"N= 6.023*10^23\n",
"c= 3*10^10 //m/sec\n",
"w= 2359.6 //cm^-1\n",
"T= 2000 //K\n",
"K= 1.380*10^-16\n",
"R= 1.987 //cal mol^-1 k^-1\n",
"//CALCULATIONS\n",
"x= h*c*w/(K*T)\n",
"y= 2.71^x\n",
"H= 3.5*R+(N*h*c*w/(T*4.184*10^7*(y-1)))\n",
"//RESULTS\n",
"printf (' Heat= %.3f cal mol^-1 deg^-1',H)"
   ]
   }
],
"metadata": {
		  "kernelspec": {
		   "display_name": "Scilab",
		   "language": "scilab",
		   "name": "scilab"
		  },
		  "language_info": {
		   "file_extension": ".sce",
		   "help_links": [
			{
			 "text": "MetaKernel Magics",
			 "url": "https://github.com/calysto/metakernel/blob/master/metakernel/magics/README.md"
			}
		   ],
		   "mimetype": "text/x-octave",
		   "name": "scilab",
		   "version": "0.7.1"
		  }
		 },
		 "nbformat": 4,
		 "nbformat_minor": 0
}
