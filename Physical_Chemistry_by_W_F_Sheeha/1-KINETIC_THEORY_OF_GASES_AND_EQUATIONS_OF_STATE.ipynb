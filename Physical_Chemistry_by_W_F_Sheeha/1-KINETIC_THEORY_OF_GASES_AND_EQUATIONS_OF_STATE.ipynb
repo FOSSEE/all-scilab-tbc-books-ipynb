{
"cells": [
 {
		   "cell_type": "markdown",
	   "metadata": {},
	   "source": [
       "# Chapter 1: KINETIC THEORY OF GASES AND EQUATIONS OF STATE"
	   ]
	},
{
		   "cell_type": "markdown",
		   "metadata": {},
		   "source": [
			"## Example 1.10: chapter_1_example_10.sce"
		   ]
		  },
  {
"cell_type": "code",
	   "execution_count": null,
	   "metadata": {
	    "collapsed": true
	   },
	   "outputs": [],
"source": [
"clc\n",
"//initialisation of variables\n",
"M= 28 //gm\n",
"R= 8.314*10^7 //atm l/mol K\n",
"N= 6.023*10^23\n",
"T= 300 //K\n",
"s= 4*10^-8//cm\n",
"//CALCULATIONS\n",
"m= M/N\n",
"k= R/N\n",
"n= (5/16)*sqrt(%pi*m*k*T)/(%pi*s^2)\n",
"//RESULTS\n",
"printf (' viscosity = %.2e poise',n)"
   ]
   }
,
{
		   "cell_type": "markdown",
		   "metadata": {},
		   "source": [
			"## Example 1.12: chapter_1_example_12.sce"
		   ]
		  },
  {
"cell_type": "code",
	   "execution_count": null,
	   "metadata": {
	    "collapsed": true
	   },
	   "outputs": [],
"source": [
"clc\n",
"//initialisation of variables\n",
"n= 3\n",
"R= 2 //cal mol^-1 deg^-1\n",
"//CALCULATIONS\n",
"I= n*R\n",
"//RESULTS\n",
"printf (' Increase in energy = %.f cal mol^-1 deg^-1',I)"
   ]
   }
,
{
		   "cell_type": "markdown",
		   "metadata": {},
		   "source": [
			"## Example 1.13: chapter_1_example_13.sce"
		   ]
		  },
  {
"cell_type": "code",
	   "execution_count": null,
	   "metadata": {
	    "collapsed": true
	   },
	   "outputs": [],
"source": [
"clc\n",
"//initialisation of variables\n",
"k= 1.38*10^-16\n",
"N= 6*10^23 //molecules\n",
"a= 105 //degrees\n",
"l= 0.957 //A\n",
"e= 4.8*10^-10 //ev\n",
"//CALCULATIONS\n",
"u= sqrt(9*k*2.08*10^4/(4*%pi*N))\n",
"uh= u/(2*cosd(a/2))\n",
"z= uh/(l*e*10^-8)\n",
"//RESULTS\n",
"printf (' Dipole moment = %.2e e.s.u.cm',u)\n",
"printf (' \n Dipole moment = %.2e e.s.u.cm',uh)\n",
"printf (' \n percentage of iconic character = %.2f',z)"
   ]
   }
,
{
		   "cell_type": "markdown",
		   "metadata": {},
		   "source": [
			"## Example 1.14: chapter_1_example_14.sce"
		   ]
		  },
  {
"cell_type": "code",
	   "execution_count": null,
	   "metadata": {
	    "collapsed": true
	   },
	   "outputs": [],
"source": [
"clc\n",
"//initialisation of variables\n",
"u= 1.44*10^-18 //e.s.u\n",
"k= 3.8*10^-16 \n",
"T= 273 //k\n",
"N= 6.023*10^23 //molecules\n",
"v= 6 //cc\n",
"Vm= 44.8*10^3 //cc\n",
"//CALCULATIONS\n",
"Pm= v+(4*%pi*N*u^2/(3*3*k*T))\n",
"r= Pm/Vm\n",
"k= (2*r+1)/(1-r)\n",
"//RESULTS\n",
"printf (' dielectric constant = %.5f ',k)"
   ]
   }
,
{
		   "cell_type": "markdown",
		   "metadata": {},
		   "source": [
			"## Example 1.1: chapter_1_example_1.sce"
		   ]
		  },
  {
"cell_type": "code",
	   "execution_count": null,
	   "metadata": {
	    "collapsed": true
	   },
	   "outputs": [],
"source": [
"clc\n",
"//initialisation of variables\n",
"V= 22.394 //l\n",
"m= 32 //gm\n",
"T= 0 //C\n",
"T1= 50 //C\n",
"p= .8 //atm\n",
"//CALCULATIONS\n",
"V1= (T1+273.16)*V/(T+273.16)\n",
"V2= (1/p)*V1\n",
"//RESULTS\n",
"printf (' Volume = %.3f ',V2)"
   ]
   }
,
{
		   "cell_type": "markdown",
		   "metadata": {},
		   "source": [
			"## Example 1.2: chapter_1_example_2.sce"
		   ]
		  },
  {
"cell_type": "code",
	   "execution_count": null,
	   "metadata": {
	    "collapsed": true
	   },
	   "outputs": [],
"source": [
"clc\n",
"//initialisation of variables\n",
"P= 1 //atm\n",
"T= 0 //C\n",
"//CALCULATIONS\n",
"T1= T+2732\n",
"//RESULTS\n",
"printf (' Argon temperature = %.1f K',T1)"
   ]
   }
,
{
		   "cell_type": "markdown",
		   "metadata": {},
		   "source": [
			"## Example 1.3: chapter_1_example_3.sce"
		   ]
		  },
  {
"cell_type": "code",
	   "execution_count": null,
	   "metadata": {
	    "collapsed": true
	   },
	   "outputs": [],
"source": [
"clc\n",
"//initialisation of variables\n",
"x= 0.0820544\n",
"T= 0 //C\n",
"l= 1.7826 //gl^-1atm^-1\n",
"//CALCULATIONS\n",
"M= x*(273.16+T)*l\n",
"//RESULTS\n",
"printf (' Atomic Weight = %.3f gm mole^-1',M)"
   ]
   }
,
{
		   "cell_type": "markdown",
		   "metadata": {},
		   "source": [
			"## Example 1.4: chapter_1_example_4.sce"
		   ]
		  },
  {
"cell_type": "code",
	   "execution_count": null,
	   "metadata": {
	    "collapsed": true
	   },
	   "outputs": [],
"source": [
"clc\n",
"//initialisation of variables\n",
"x= 2\n",
"y= 3\n",
"z= 3\n",
"m1= 12\n",
"m2= 19\n",
"m3= 35.46\n",
"//CALCULATIONS\n",
"M= x*m1+y*m2+z*m3\n",
"//RESULTS\n",
"printf (' Molecular weight = %.2f gms',M)"
   ]
   }
,
{
		   "cell_type": "markdown",
		   "metadata": {},
		   "source": [
			"## Example 1.5: chapter_1_example_5.sce"
		   ]
		  },
  {
"cell_type": "code",
	   "execution_count": null,
	   "metadata": {
	    "collapsed": true
	   },
	   "outputs": [],
"source": [
"clc\n",
"//initialisation of variables\n",
"n= 10 //moles\n",
"R= 0.08205 //atml/molK\n",
"T= 300 //K\n",
"V= 4.86 //l\n",
"b= 0.0643 //ml mol^-1\n",
"a= 5.44 //l^2\n",
"//CALCULATIONS\n",
"P= n*R*T/V\n",
"P1= (n*R*T/(V-n*b))-(a*n^2/V^2)\n",
"//RESULTS\n",
"printf (' Pressure = %.1f atm',P)\n",
"printf ('  \n Pressure = %.1f atm',P1)"
   ]
   }
,
{
		   "cell_type": "markdown",
		   "metadata": {},
		   "source": [
			"## Example 1.6: chapter_1_example_6.sce"
		   ]
		  },
  {
"cell_type": "code",
	   "execution_count": null,
	   "metadata": {
	    "collapsed": true
	   },
	   "outputs": [],
"source": [
"clc\n",
"//initialisation of variables\n",
"n= 10 //moles\n",
"T= 300 //K\n",
"V= 4.86 //l\n",
"R= 0.08205 //atml/molK\n",
"v= 0.1417 //l\n",
"T1= 305.7 //K\n",
"//CALCULATIONS\n",
"b= v/2\n",
"a= 2*v*R*T1\n",
"P= ((n*R*T)/(V-n*b))*2.71^(-a*n/(V*R*T))\n",
"//RESULTS\n",
"printf (' Pressure = %.1f atm',P)"
   ]
   }
,
{
		   "cell_type": "markdown",
		   "metadata": {},
		   "source": [
			"## Example 1.7: chapter_1_example_7.sce"
		   ]
		  },
  {
"cell_type": "code",
	   "execution_count": null,
	   "metadata": {
	    "collapsed": true
	   },
	   "outputs": [],
"source": [
"clc\n",
"//initialisation of variables\n",
"T= 0 //C\n",
"T1= 100 //C\n",
"R= 8.314 //atm lit/mol K\n",
"n= 3\n",
"M= 2.016 //gm\n",
"M1= 28.02 //gm\n",
"M2= 146.1 //gm\n",
"//CALCULATIONS\n",
"u= sqrt(n*R*10^7*(T+273.2)/M)\n",
"u1= sqrt(n*R*10^7*(T+273.2)/M1)\n",
"u2= sqrt(n*R*10^7*(T+273.2)/M2)\n",
"u3= sqrt(n*R*10^7*(T1+273.2)/M)\n",
"u4= sqrt(n*R*10^7*(T1+273.2)/M1)\n",
"u5= sqrt(n*R*10^7*(T1+273.2)/M2)\n",
"//RESULTS\n",
"printf (' root mean square velocity = %.2f cm/sec',u*10^-4)\n",
"printf (' \n root mean square velocity = %.2f cm/sec',u1*10^-4)\n",
"printf (' \n root mean square velocity = %.2f cm/sec',u2*10^-4)\n",
"printf (' \n root mean square velocity = %.2f cm/sec',u3*10^-4)\n",
"printf (' \n root mean square velocity = %.2f cm/sec',u4*10^-4)\n",
"printf (' \n root mean square velocity = %.2f cm/sec',u5*10^-4)"
   ]
   }
,
{
		   "cell_type": "markdown",
		   "metadata": {},
		   "source": [
			"## Example 1.9: chapter_1_example_9.sce"
		   ]
		  },
  {
"cell_type": "code",
	   "execution_count": null,
	   "metadata": {
	    "collapsed": true
	   },
	   "outputs": [],
"source": [
"clc\n",
"//initialisation of variables\n",
"P= 1 //at,\n",
"T= 300 //K\n",
"R= 82.05 //atm l/mol K\n",
"R1= 8.314\n",
"s= 4*10^-8\n",
"s1= 2*10^-8\n",
"m= 4 //gm\n",
"m1= 28 //gm\n",
"//CALCULATIONS\n",
"N= P*6.02*10^23/(R*T)\n",
"n= 2*s1^2*N^2*sqrt(%pi*R1*10^7*T/m)\n",
"n1= 2*s^2*N^2*sqrt(%pi*R1*10^7*T/m1)\n",
"//RESULTS\n",
"printf (' no of collisisons = %.e collisions sec^-1 mol^-1',n)\n",
"printf (' \n no of collisisons = %.2e collisions sec^-1 mol^-1',n1)"
   ]
   }
],
"metadata": {
		  "kernelspec": {
		   "display_name": "Scilab",
		   "language": "scilab",
		   "name": "scilab"
		  },
		  "language_info": {
		   "file_extension": ".sce",
		   "help_links": [
			{
			 "text": "MetaKernel Magics",
			 "url": "https://github.com/calysto/metakernel/blob/master/metakernel/magics/README.md"
			}
		   ],
		   "mimetype": "text/x-octave",
		   "name": "scilab",
		   "version": "0.7.1"
		  }
		 },
		 "nbformat": 4,
		 "nbformat_minor": 0
}
