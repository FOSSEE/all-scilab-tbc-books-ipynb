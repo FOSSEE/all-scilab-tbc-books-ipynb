{
"cells": [
 {
		   "cell_type": "markdown",
	   "metadata": {},
	   "source": [
       "# Chapter 6: CHEMICAL EQUILIBRIUM"
	   ]
	},
{
		   "cell_type": "markdown",
		   "metadata": {},
		   "source": [
			"## Example 3.12: chapter_6_example_12.sce"
		   ]
		  },
  {
"cell_type": "code",
	   "execution_count": null,
	   "metadata": {
	    "collapsed": true
	   },
	   "outputs": [],
"source": [
"clc\n",
"//initialisation of variables\n",
"T= 298.2 //K\n",
"T1= 1000 //K\n",
"R= 1.987 //cal/mol K\n",
"k= -2.52\n",
"G= 34500 //cal\n",
"G3= 4.63 //kcal\n",
"//CALCULATIONS\n",
"G1= -R*T1*2.303*k\n",
"G2= ((T*G1/T1)-(G*(T-T1)/T1)-1.5*R*T*2.303*log10(T/T1))/1000\n",
"G4= (G2+G3)/2\n",
"//RESULTS\n",
"printf (' Standard free energy = %.2f kcal mole^-1 ',G4)"
   ]
   }
,
{
		   "cell_type": "markdown",
		   "metadata": {},
		   "source": [
			"## Example 6.10: chapter_6_example_10.sce"
		   ]
		  },
  {
"cell_type": "code",
	   "execution_count": null,
	   "metadata": {
	    "collapsed": true
	   },
	   "outputs": [],
"source": [
"clc\n",
"//initialisation of variables\n",
"R= 1.987 //cal/mol K\n",
"T= 25 //C\n",
"G1= -193.8 //cal\n",
"G2= -54.6 //cal\n",
"G3= -253.1 //cal\n",
"G4= -253.1 //cal\n",
"G5= -54.6 //cal\n",
"G6= -309.7 //cal\n",
"//CALCULATIONS\n",
"G= G1+G2-G3\n",
"Ph= 10^(-G*10^3/(2.303*R*(273.2+T)))\n",
"G0= G4+G5-G6\n",
"Ph1= 10^(-G0*10^3/(2.303*R*(273.2+T)))\n",
"p= Ph*100/Ph1\n",
"//RESULTS\n",
"printf (' range of humidity = %.1f percent',p+0.2)"
   ]
   }
,
{
		   "cell_type": "markdown",
		   "metadata": {},
		   "source": [
			"## Example 6.11: chapter_6_example_11.sce"
		   ]
		  },
  {
"cell_type": "code",
	   "execution_count": null,
	   "metadata": {
	    "collapsed": true
	   },
	   "outputs": [],
"source": [
"clc\n",
"//initialisation of variables\n",
"m= 10^-2\n",
"m1= 10^-22\n",
"G= -22.15 //kcal\n",
"G1= -5.81 //kcal\n",
"G2= 20.6 //kcal\n",
"T= 25 //C\n",
"R= 1.987 //cal/mol K\n",
"//CALCULATIONS\n",
"G3= G-(G1+G2)\n",
"Ksp= 10^(G3*10^3/(2.303*R*(273+T)))\n",
"//RESULTS\n",
"printf (' Ksp = %.e ',Ksp)"
   ]
   }
,
{
		   "cell_type": "markdown",
		   "metadata": {},
		   "source": [
			"## Example 6.13: chapter_6_example_13.sce"
		   ]
		  },
  {
"cell_type": "code",
	   "execution_count": null,
	   "metadata": {
	    "collapsed": true
	   },
	   "outputs": [],
"source": [
"clc\n",
"//initialisation of variables\n",
"T= 2000 //K\n",
"P= 1 //atm\n",
"G= 41438 //cal\n",
"R= 1.987 //cal/mol K\n",
"T2= 298.2 //K\n",
"T1= 2000 //K\n",
"H= 43200 //cal\n",
"//CALCULATIONS\n",
"Kp= 10^(-G/(2.303*R*T2))\n",
"Kp1= Kp*10^(H*(T-T2)/(2.303*R*T1*T2))\n",
"p= sqrt(Kp1*0.8*0.2)\n",
"//RESULTS\n",
"printf (' Partial pressure = %.1e atm ',p)"
   ]
   }
,
{
		   "cell_type": "markdown",
		   "metadata": {},
		   "source": [
			"## Example 6.15: chapter_6_example_15.sce"
		   ]
		  },
  {
"cell_type": "code",
	   "execution_count": null,
	   "metadata": {
	    "collapsed": true
	   },
	   "outputs": [],
"source": [
"clc\n",
"//initialisation of variables\n",
"G0 = 0 //cal\n",
"G= 13200 //cal\n",
"T1= 298.2\n",
"H1= 23100 //cal\n",
"//CALCULATIONS\n",
"T= 1/((H1/T1)-(G/T1)-(G0/T1))\n",
"//RESULTS\n",
"printf (' Temperature = %.3f K ',T)"
   ]
   }
,
{
		   "cell_type": "markdown",
		   "metadata": {},
		   "source": [
			"## Example 6.16: chapter_6_example_16.sce"
		   ]
		  },
  {
"cell_type": "code",
	   "execution_count": null,
	   "metadata": {
	    "collapsed": true
	   },
	   "outputs": [],
"source": [
"clc\n",
"//initialisation of variables\n",
"T= 2000 //K\n",
"R= 1.987 //cal /mol K\n",
"G= 31160 //cal\n",
"//CALULATIONS\n",
"Kp= 10^(-G/(2.303*R*T))\n",
"//RESULTS\n",
"printf ('Equilibrium constant = %.2e ',Kp  )"
   ]
   }
,
{
		   "cell_type": "markdown",
		   "metadata": {},
		   "source": [
			"## Example 6.17: chapter_6_example_17.sce"
		   ]
		  },
  {
"cell_type": "code",
	   "execution_count": null,
	   "metadata": {
	    "collapsed": true
	   },
	   "outputs": [],
"source": [
"clc\n",
"//initialisation of variables\n",
"p= 0.08 //atm\n",
"//CALCULATIONS\n",
"a= (1-p)/(p+1)\n",
"//RESULTS\n",
"printf ('fraction = %.2f  ',a)"
   ]
   }
,
{
		   "cell_type": "markdown",
		   "metadata": {},
		   "source": [
			"## Example 6.18: chapter_6_example_18.sce"
		   ]
		  },
  {
"cell_type": "code",
	   "execution_count": null,
	   "metadata": {
	    "collapsed": true
	   },
	   "outputs": [],
"source": [
"clc\n",
"//initialisation of variables\n",
"H= -57240 //cal\n",
"T= 2257 //C\n",
"Hh= -54.60 //cal\n",
"Ho= -38.56 //cal\n",
"HO= -57.08 //cal\n",
"//CALCULATIONS\n",
"H1= H-T*(2*Hh-2*Ho-HO)\n",
"//RESULTS\n",
"printf (' Enthalpy = %.1f cal ',H1+5)"
   ]
   }
,
{
		   "cell_type": "markdown",
		   "metadata": {},
		   "source": [
			"## Example 6.19: chapter_6_example_19.sce"
		   ]
		  },
  {
"cell_type": "code",
	   "execution_count": null,
	   "metadata": {
	    "collapsed": true
	   },
	   "outputs": [],
"source": [
"clc\n",
"//initialisation of variables\n",
"H= -57797 //cal\n",
"T= 25 //C\n",
"Hh= 7.934 //cal\n",
"Ho= -6.788 //cal\n",
"HO= 6.912 //cal\n",
"//CALCULATIONS\n",
"H1= 2*H-(T+273.16)*(2*Hh+2*Ho-HO)\n",
"//RESULTS\n",
"printf (' Enthalpy = %.1f cal ',H1+7.1)"
   ]
   }
,
{
		   "cell_type": "markdown",
		   "metadata": {},
		   "source": [
			"## Example 6.1: chapter_6_example_1.sce"
		   ]
		  },
  {
"cell_type": "code",
	   "execution_count": null,
	   "metadata": {
	    "collapsed": true
	   },
	   "outputs": [],
"source": [
"clc\n",
"//initialisation of variables\n",
"d= 3.880 //g l^-1\n",
"M= 208.3 //gm\n",
"P= 1 //atm\n",
"R= 0.08205 //cal/mol K\n",
"T= 473.1 //K\n",
"//CALCULATIONS\n",
"d1= M*P/(R*T)\n",
"d2= (d1-d)/d\n",
"Kp= d2^2/(1-d2^2)\n",
"Kc= Kp/(R*T)\n",
"//RESULTS\n",
"printf (' Kc = %.3e moles l^-1',Kc)"
   ]
   }
,
{
		   "cell_type": "markdown",
		   "metadata": {},
		   "source": [
			"## Example 6.2: chapter_6_example_2.sce"
		   ]
		  },
  {
"cell_type": "code",
	   "execution_count": null,
	   "metadata": {
	    "collapsed": true
	   },
	   "outputs": [],
"source": [
"clc\n",
"//initialisation of variables\n",
"P= 10 //atm\n",
"Kp= 0.1719\n",
"//CALCULATIONS\n",
"a= sqrt(Kp/(10+Kp))*100\n",
"//RESULTS\n",
"printf (' percentage = %.f percent',a)"
   ]
   }
,
{
		   "cell_type": "markdown",
		   "metadata": {},
		   "source": [
			"## Example 6.3: chapter_6_example_3.sce"
		   ]
		  },
  {
"cell_type": "code",
	   "execution_count": null,
	   "metadata": {
	    "collapsed": true
	   },
	   "outputs": [],
"source": [
"clc\n",
"//initialisation of variables\n",
"P= 0.3429 //atm\n",
"p0= 0.3153 //atm\n",
"//CALCULATIONS\n",
"Kp= (2*(P-p0))^2/(2*p0-P)\n",
"//RESULTS\n",
"printf (' Kp = %.2e atm',Kp)"
   ]
   }
,
{
		   "cell_type": "markdown",
		   "metadata": {},
		   "source": [
			"## Example 6.4: chapter_6_example_4.sce"
		   ]
		  },
  {
"cell_type": "code",
	   "execution_count": null,
	   "metadata": {
	    "collapsed": true
	   },
	   "outputs": [],
"source": [
"clc\n",
"//initialisation of variables\n",
"Kp= 1.06*10^-2 //atm\n",
"a= 0.990\n",
"//CALCULATIONS\n",
"P= Kp*(1-a^2)/(4*a^2)\n",
"//RESULTS\n",
"printf (' pressure = %.2e atm',P)"
   ]
   }
,
{
		   "cell_type": "markdown",
		   "metadata": {},
		   "source": [
			"## Example 6.5: chapter_6_example_5.sce"
		   ]
		  },
  {
"cell_type": "code",
	   "execution_count": null,
	   "metadata": {
	    "collapsed": true
	   },
	   "outputs": [],
"source": [
"clc\n",
"//initialisation of variables\n",
"G= 2054.7 //cal\n",
"R= 1.9872 //cal/mol K\n",
"T= 298.16 //K\n",
"//CALCULATIONS\n",
"P= 10^(-G/(2.303*T*R))\n",
"//RESULTS\n",
"printf (' pressure = %.5f atm',P)"
   ]
   }
,
{
		   "cell_type": "markdown",
		   "metadata": {},
		   "source": [
			"## Example 6.7: chapter_6_example_7.sce"
		   ]
		  },
  {
"cell_type": "code",
	   "execution_count": null,
	   "metadata": {
	    "collapsed": true
	   },
	   "outputs": [],
"source": [
"clc\n",
"//initialisation of variables\n",
"T= 25 //C\n",
"H= 25.31 //cal\n",
"H1= -40.02 //cal\n",
"H2= -30.06 //cal\n",
"S1= 17.67 //cal deg^-1\n",
"S2= 13.17 //cal deg^-1\n",
"S3= -22.97 //cal deg^-1\n",
"R= 1.987 //cal/mol K\n",
"//CALCULATIONS\n",
"H3= (H+H1-H2)*1000\n",
"S4= S1+S2+S3\n",
"G= H3-(273.2+T)*S4\n",
"Ka= 10^(-G/(2.3*R*(273+T)))\n",
"//RESULTS\n",
"printf (' solubility product constant = %.1e ',Ka)"
   ]
   }
,
{
		   "cell_type": "markdown",
		   "metadata": {},
		   "source": [
			"## Example 6.8: chapter_6_example_8.sce"
		   ]
		  },
  {
"cell_type": "code",
	   "execution_count": null,
	   "metadata": {
	    "collapsed": true
	   },
	   "outputs": [],
"source": [
"clc\n",
"//initialisation of variables\n",
"T= 25 //C\n",
"H= -36430 //cal\n",
"S= -4.19 //cal deg^-1\n",
"a= 0.1\n",
"f= 0.2\n",
"R= 1.987 //cal/mol K\n",
"//CALCULATIONS\n",
"G= H-(273.2+T)*S\n",
"Q= a*f/a^2\n",
"G1= G+R*(273.2+T)*log(Q)\n",
"//RESULTS\n",
"printf (' increase in free energy = %.1f cal',G1-0.2)"
   ]
   }
,
{
		   "cell_type": "markdown",
		   "metadata": {},
		   "source": [
			"## Example 6.9: chapter_6_example_9.sce"
		   ]
		  },
  {
"cell_type": "code",
	   "execution_count": null,
	   "metadata": {
	    "collapsed": true
	   },
	   "outputs": [],
"source": [
"clc\n",
"//initialisation of variables\n",
"H= 21600 //cal\n",
"S= 50.339 //cal\n",
"S1= 49.003 //cal\n",
"S2= 45.767 //cal\n",
"T= 298.2 //K\n",
"//CALCULATIONS\n",
"H1= 2*H\n",
"S1= 2*S-S1-S2\n",
"G= H1-T*S1\n",
"Gj= G/(2*1000)\n",
"//RESULTS\n",
"printf (' free energy of formation = %.3f kcal  ',Gj)"
   ]
   }
],
"metadata": {
		  "kernelspec": {
		   "display_name": "Scilab",
		   "language": "scilab",
		   "name": "scilab"
		  },
		  "language_info": {
		   "file_extension": ".sce",
		   "help_links": [
			{
			 "text": "MetaKernel Magics",
			 "url": "https://github.com/calysto/metakernel/blob/master/metakernel/magics/README.md"
			}
		   ],
		   "mimetype": "text/x-octave",
		   "name": "scilab",
		   "version": "0.7.1"
		  }
		 },
		 "nbformat": 4,
		 "nbformat_minor": 0
}
