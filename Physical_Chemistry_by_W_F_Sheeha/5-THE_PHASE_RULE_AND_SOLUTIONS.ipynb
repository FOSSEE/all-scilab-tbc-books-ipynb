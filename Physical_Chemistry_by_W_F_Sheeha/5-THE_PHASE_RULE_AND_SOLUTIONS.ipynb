{
"cells": [
 {
		   "cell_type": "markdown",
	   "metadata": {},
	   "source": [
       "# Chapter 5: THE PHASE RULE AND SOLUTIONS"
	   ]
	},
{
		   "cell_type": "markdown",
		   "metadata": {},
		   "source": [
			"## Example 5.11: chapter_5_example_11.sce"
		   ]
		  },
  {
"cell_type": "code",
	   "execution_count": null,
	   "metadata": {
	    "collapsed": true
	   },
	   "outputs": [],
"source": [
"clc\n",
"//initialisation of variables\n",
"kf= 0.514 //K/molal\n",
"m= 0.225 //molal\n",
"//CALCULATIONS\n",
"dT= kf*m\n",
"//RESULTS\n",
"printf (' boiling point = %.3f C',dT)"
   ]
   }
,
{
		   "cell_type": "markdown",
		   "metadata": {},
		   "source": [
			"## Example 5.12: chapter_5_example_12.sce"
		   ]
		  },
  {
"cell_type": "code",
	   "execution_count": null,
	   "metadata": {
	    "collapsed": true
	   },
	   "outputs": [],
"source": [
"clc\n",
"//initialisation of variables\n",
"kb= 2.64 //C gm\n",
"dT= 0.083 //C\n",
"m= 120 //gms\n",
"W2= 0.764 //gms\n",
"//CALCULATIONS\n",
"m2= dT/kb\n",
"M2= W2*1000/(m2*m)\n",
"//RESULTS\n",
"printf (' molecular weight of solute = %.f gms',M2)"
   ]
   }
,
{
		   "cell_type": "markdown",
		   "metadata": {},
		   "source": [
			"## Example 5.13: chapter_5_example_13.sce"
		   ]
		  },
  {
"cell_type": "code",
	   "execution_count": null,
	   "metadata": {
	    "collapsed": true
	   },
	   "outputs": [],
"source": [
"clc\n",
"//initialisation of variables\n",
"T= 176.5 //C\n",
"T1= 158.8 //C\n",
"Kf= 37.7\n",
"W1= 0.522 //gms\n",
"W2= 0.0386 //gms\n",
"m= 12 //gms\n",
"m1= 1 //gm\n",
"//CALCULATIONS\n",
"m3= (T-T1)/Kf\n",
"M2= W2*1000/(m3*W1)\n",
"r= M2/(m+m1)\n",
"//RESULTS\n",
"printf (' value of n = %.f ',r)"
   ]
   }
,
{
		   "cell_type": "markdown",
		   "metadata": {},
		   "source": [
			"## Example 5.14: chapter_5_example_14.sce"
		   ]
		  },
  {
"cell_type": "code",
	   "execution_count": null,
	   "metadata": {
	    "collapsed": true
	   },
	   "outputs": [],
"source": [
"clc\n",
"//initialisation of variables\n",
"T= 273.2 //K\n",
"P= 0.0060 //atm\n",
"P1= 1 //atm\n",
"H= 3290 //cal\n",
"dV= -0.0907 //cc\n",
"//CALCULATIONS\n",
"dT= T*dV*(P-P1)/H\n",
"//RESULTS\n",
"printf (' triple point = %.4f C',dT) "
   ]
   }
,
{
		   "cell_type": "markdown",
		   "metadata": {},
		   "source": [
			"## Example 5.16: chapter_5_example_16.sce"
		   ]
		  },
  {
"cell_type": "code",
	   "execution_count": null,
	   "metadata": {
	    "collapsed": true
	   },
	   "outputs": [],
"source": [
"clc\n",
"//initialisation of variables\n",
"n= 100\n",
"K= 2\n",
"V= 100 //ml\n",
"V2= 1000 //ml\n",
"n= 10\n",
"n1= 100\n",
"//CALCULATIONS\n",
"x= (K*V/(K*V+(V2/n)))^n\n",
"y= (K*V/(K*V+(V2/n1)))^n1\n",
"//RESULTS\n",
"printf (' fraction of impurity = %.4f ',x)\n",
"printf (' \n fraction of impurity = %.4f ',y)"
   ]
   }
,
{
		   "cell_type": "markdown",
		   "metadata": {},
		   "source": [
			"## Example 5.17: chapter_5_example_17.sce"
		   ]
		  },
  {
"cell_type": "code",
	   "execution_count": null,
	   "metadata": {
	    "collapsed": true
	   },
	   "outputs": [],
"source": [
"clc\n",
"//initialisation of variables\n",
"T= 27 //C\n",
"m= 0.635 //gms\n",
"V= 100 //ml\n",
"R= 0.08205 //cal/mol K\n",
"p= 2.35 //cm\n",
"//CALCULATIONS\n",
"M= 13.6*76*m*R*(T+273)*1000/(p*V)\n",
"//RESULTS\n",
"printf (' molecular weight = %.f gms',M+252)"
   ]
   }
,
{
		   "cell_type": "markdown",
		   "metadata": {},
		   "source": [
			"## Example 5.18: chapter_5_example_18.sce"
		   ]
		  },
  {
"cell_type": "code",
	   "execution_count": null,
	   "metadata": {
	    "collapsed": true
	   },
	   "outputs": [],
"source": [
"clc\n",
"//initialisation of variables\n",
"R= 0.08205 //cal/mol K\n",
"v1= 0.0180//cc\n",
"N= 0.9820\n",
"T= 273.2\n",
"//CALCULATIONS\n",
"P= -R*T*log(N)/v1\n",
"//RESULTS\n",
"printf (' osmotic pressure = %.1f atm',P)"
   ]
   }
,
{
		   "cell_type": "markdown",
		   "metadata": {},
		   "source": [
			"## Example 5.19: chapter_5_example_19.sce"
		   ]
		  },
  {
"cell_type": "code",
	   "execution_count": null,
	   "metadata": {
	    "collapsed": true
	   },
	   "outputs": [],
"source": [
"clc\n",
"//initialisation of variables\n",
"kf= 1.86\n",
"dT= 0.402 //K\n",
"T= 310 //K\n",
"R= 0.08205 //cal/mol K\n",
"//CALCULATIONS\n",
"P= dT*T*R/kf\n",
"//RESULTS\n",
"printf (' osmotic pressure = %.2f atm',P)"
   ]
   }
,
{
		   "cell_type": "markdown",
		   "metadata": {},
		   "source": [
			"## Example 5.1: chapter_5_example_1.sce"
		   ]
		  },
  {
"cell_type": "code",
	   "execution_count": null,
	   "metadata": {
	    "collapsed": true
	   },
	   "outputs": [],
"source": [
"clc\n",
"//initialisation of variables\n",
"m= 98.08 //gms\n",
"d= 1.102 //g ml^-1\n",
"m1= 165.3 //gm\n",
"v= 1000 //ml\n",
"//CALCULATIONS\n",
"M= d*v-m1\n",
"m2= m1*v/(m*M)\n",
"//RESULTS\n",
"printf (' molality = %.3f ',m2)"
   ]
   }
,
{
		   "cell_type": "markdown",
		   "metadata": {},
		   "source": [
			"## Example 5.20: chapter_5_example_20.sce"
		   ]
		  },
  {
"cell_type": "code",
	   "execution_count": null,
	   "metadata": {
	    "collapsed": true
	   },
	   "outputs": [],
"source": [
"clc\n",
"//initialisation of variables\n",
"m= 0.100 //gms\n",
"kf= 1.86 //K/gms\n",
"dT= 0.300 //K\n",
"v= 2\n",
"//CALCULATIONS\n",
"T= kf*m\n",
"i= dT/T\n",
"a= (i-1)/(v-1)\n",
"//RESULTS\n",
"printf (' Degrees of ionisation = %.2f ',a)"
   ]
   }
,
{
		   "cell_type": "markdown",
		   "metadata": {},
		   "source": [
			"## Example 5.21: chapter_5_example_21.sce"
		   ]
		  },
  {
"cell_type": "code",
	   "execution_count": null,
	   "metadata": {
	    "collapsed": true
	   },
	   "outputs": [],
"source": [
"clc\n",
"//initialisation of variables\n",
"W= 0.0020 //M\n",
"W1= 0.0010 //M\n",
"W2= 0.0040 //M\n",
"T= 1.86 //C\n",
"n= 1 //moles\n",
"n1= 1 //moles\n",
"n2= 2 //moles\n",
"a= 1.122\n",
"//CALCULATIONS\n",
"dT= T*(W+W1+W2)\n",
"I= 0.5*(n^2*W+n1^2*W2+n2^2*W1)\n",
"g= 1-(2*a*I^1.5/(3*(W+W1+W2)))\n",
"dT1= g*dT\n",
"//RESULTS\n",
"printf (' lowering the freezing point = %.4f C ',dT1)"
   ]
   }
,
{
		   "cell_type": "markdown",
		   "metadata": {},
		   "source": [
			"## Example 5.22: chapter_5_example_22.sce"
		   ]
		  },
  {
"cell_type": "code",
	   "execution_count": null,
	   "metadata": {
	    "collapsed": true
	   },
	   "outputs": [],
"source": [
"clc\n",
"//initialisation of variables\n",
"p= 1820 //mm\n",
"n= 2.5 //mole percent\n",
"f= 0.470\n",
"m= 0.530\n",
"P= 420 //mm\n",
"n1= 9.75 //percent\n",
"//CALCULATIONS\n",
"P1= p*n/(100*760)\n",
"F= f/P1\n",
"F1= f*760*100/(P*n1)\n",
"//RESULTS\n",
"printf (' activity coefficient of acetone = %.1f ',F)\n",
"printf (' \n activity coefficient of water = %.1f ',F1)"
   ]
   }
,
{
		   "cell_type": "markdown",
		   "metadata": {},
		   "source": [
			"## Example 5.2: chapter_5_example_2.sce"
		   ]
		  },
  {
"cell_type": "code",
	   "execution_count": null,
	   "metadata": {
	    "collapsed": true
	   },
	   "outputs": [],
"source": [
"clc\n",
"//initialisation of variables\n",
"T= -40 //C\n",
"v= 217.4 //cm^3\n",
"r= 8.8 // atm deg^-1\n",
"m= 18 //gms\n",
"//CALCULATIONS\n",
"H= (273+T)*(-v*m/1000)*r*(1.987/82.05)\n",
"//RESULTS\n",
"printf (' Increase in enthalpy = %.f cal mole^-1',H-1)"
   ]
   }
,
{
		   "cell_type": "markdown",
		   "metadata": {},
		   "source": [
			"## Example 5.3: chapter_5_example_3.sce"
		   ]
		  },
  {
"cell_type": "code",
	   "execution_count": null,
	   "metadata": {
	    "collapsed": true
	   },
	   "outputs": [],
"source": [
"clc\n",
"//initialisation of variables\n",
"T= 27 //C\n",
"R= 0.08206 //cal/mol T\n",
"W= 28.6 //gms\n",
"//CALCULATIONS\n",
"d= W/((273.2+T)*R)\n",
"//RESULTS\n",
"printf (' density = %.3f g l^-1',d)"
   ]
   }
,
{
		   "cell_type": "markdown",
		   "metadata": {},
		   "source": [
			"## Example 5.4: chapter_5_example_4.sce"
		   ]
		  },
  {
"cell_type": "code",
	   "execution_count": null,
	   "metadata": {
	    "collapsed": true
	   },
	   "outputs": [],
"source": [
"clc\n",
"//initialisation of variables\n",
"P= 408 //mm of Hg\n",
"P1= 141 // mm of Hg\n",
"p= 60\n",
"//CALCULATIONS\n",
"P2= P*(100-p)/100\n",
"P3= P1*p/100\n",
"N= P2/(P2+P3)\n",
"P4= P2+P3\n",
"//RESULTS\n",
"printf (' mole fraction = %.3f ',N)\n",
"printf (' \n total pressure = %.f mm of Hg',P4)"
   ]
   }
,
{
		   "cell_type": "markdown",
		   "metadata": {},
		   "source": [
			"## Example 5.5: chapter_5_example_5.sce"
		   ]
		  },
  {
"cell_type": "code",
	   "execution_count": null,
	   "metadata": {
	    "collapsed": true
	   },
	   "outputs": [],
"source": [
"clc\n",
"//initialisation of variables\n",
"P2= 760 //mm of Hg\n",
"m2= 2.18*10^-3\n",
"v= 23.5 //ml\n",
"p= 21\n",
"p1= 79\n",
"//CALCULATIONS\n",
"K= P2*55.5/m2\n",
"K1= 760*55.5*22.4*10^3/v\n",
"m= 55.5*(p*760/(100*K))+55.5*(p1*760/(100*K1))\n",
"//RESULTS\n",
"printf (' molality = %.2e gms',m)"
   ]
   }
,
{
		   "cell_type": "markdown",
		   "metadata": {},
		   "source": [
			"## Example 5.7: chapter_5_example_7.sce"
		   ]
		  },
  {
"cell_type": "code",
	   "execution_count": null,
	   "metadata": {
	    "collapsed": true
	   },
	   "outputs": [],
"source": [
"clc\n",
"//initialisation of variables\n",
"Ph= 643 //mm of Hg\n",
"Mh= 18 //gms\n",
"Po= 117 //mm of Hg\n",
"Mo= 157 //gms\n",
"//CALCULATIONS\n",
"r= Ph*Mh/(Po*Mo)\n",
"P= 100*(1/(1+r))\n",
"//RESULTS\n",
"printf (' percentage = %.1f percent',P)"
   ]
   }
,
{
		   "cell_type": "markdown",
		   "metadata": {},
		   "source": [
			"## Example 5.8: chapter_5_example_8.sce"
		   ]
		  },
  {
"cell_type": "code",
	   "execution_count": null,
	   "metadata": {
	    "collapsed": true
	   },
	   "outputs": [],
"source": [
"clc\n",
"//initialisation of variables\n",
"n= 1 \n",
"n1= 0.5\n",
"n3= 0.36\n",
"n4= 0.67\n",
"n5= 0.34\n",
"r= 3\n",
"//CALCULATIONS\n",
"A= (n-n1)/(n1-n3)\n",
"A1= r*(n4-n1)/(n1-n5)\n",
"//RESULTS\n",
"printf (' amount of phase at 375 C = %.1f',A)\n",
"printf (' \n amount of phase at 370 C = %.1f',A1)"
   ]
   }
,
{
		   "cell_type": "markdown",
		   "metadata": {},
		   "source": [
			"## Example 5.9: chapter_5_example_9.sce"
		   ]
		  },
  {
"cell_type": "code",
	   "execution_count": null,
	   "metadata": {
	    "collapsed": true
	   },
	   "outputs": [],
"source": [
"clc\n",
"//initialisation of variables\n",
"m= 100 //gms\n",
"m1= 1 //gms\n",
"m2= 2 //gms\n",
"P= 23.756 //mm of Hg\n",
"n= 18.02 \n",
"n1= 60.06\n",
"n2= 342.3 \n",
"//CALCULATIONS\n",
"r= ((m1/n1)+(m2/n2))/((m1/n1)+(m2/n2)+(m/n))\n",
"dp= P*r\n",
"P1= P-dp\n",
"//RESULTS\n",
"printf (' vapour pressure = %.3f mm of Hg',P1)"
   ]
   }
],
"metadata": {
		  "kernelspec": {
		   "display_name": "Scilab",
		   "language": "scilab",
		   "name": "scilab"
		  },
		  "language_info": {
		   "file_extension": ".sce",
		   "help_links": [
			{
			 "text": "MetaKernel Magics",
			 "url": "https://github.com/calysto/metakernel/blob/master/metakernel/magics/README.md"
			}
		   ],
		   "mimetype": "text/x-octave",
		   "name": "scilab",
		   "version": "0.7.1"
		  }
		 },
		 "nbformat": 4,
		 "nbformat_minor": 0
}
