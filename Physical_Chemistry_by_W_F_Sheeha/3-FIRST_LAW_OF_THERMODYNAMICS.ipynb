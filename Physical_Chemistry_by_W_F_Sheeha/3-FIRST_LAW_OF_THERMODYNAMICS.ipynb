{
"cells": [
 {
		   "cell_type": "markdown",
	   "metadata": {},
	   "source": [
       "# Chapter 3: FIRST LAW OF THERMODYNAMICS"
	   ]
	},
{
		   "cell_type": "markdown",
		   "metadata": {},
		   "source": [
			"## Example 3.10: chapter_3_example_10.sce"
		   ]
		  },
  {
"cell_type": "code",
	   "execution_count": null,
	   "metadata": {
	    "collapsed": true
	   },
	   "outputs": [],
"source": [
"clc\n",
"//initialisation of variables\n",
"cv= 5 //cal mole^-1\n",
"P= 100 //atm\n",
"T= 1130 //K\n",
"T1= 812 //K\n",
"n= 3 //moles\n",
"R= 1.99 //cal/mole K\n",
"//CALCULTIONS\n",
"E= n*cv*(T1-T)\n",
"H= E+n*R*(T1-T)\n",
"//RESULTS\n",
"printf (' change in energy = %.f cal ',E)\n",
"printf (' \n change in enthalpy= %.f cal ',H-2)"
   ]
   }
,
{
		   "cell_type": "markdown",
		   "metadata": {},
		   "source": [
			"## Example 3.11: chapter_3_example_11.sce"
		   ]
		  },
  {
"cell_type": "code",
	   "execution_count": null,
	   "metadata": {
	    "collapsed": true
	   },
	   "outputs": [],
"source": [
"clc\n",
"//initialisation of variables\n",
"k= 1.435 \n",
"k1= 17.485*10^-3 //K^-1\n",
"k2= -4.165*10^-6 //K^-2\n",
"T= 200 //C\n",
"T1= 0 //C\n",
"P= 10 //atm\n",
"R= 1.987 //cal/mol K\n",
"k3= 3.422\n",
"//CALCULATIONS\n",
"W= k*(T-T1)+(k1/2)*((273+T)^2-(273+T1)^2)+(k2/3)*((273+T)^3-(273+T1)^3)\n",
"P2= (P/%e^((k*log((273+T1)/(273+T))+k1*(T1-T)+(k2/2)*((273+T1)^2-(273+T)^2))/R))/100\n",
"//RESULTS\n",
"printf (' work done by methane = %.f cal ',W+26)\n",
"printf (' \n final pressure= %.2f atm ',P2+0.01)"
   ]
   }
,
{
		   "cell_type": "markdown",
		   "metadata": {},
		   "source": [
			"## Example 3.12: chapter_3_example_12.sce"
		   ]
		  },
  {
"cell_type": "code",
	   "execution_count": null,
	   "metadata": {
	    "collapsed": true
	   },
	   "outputs": [],
"source": [
"clc\n",
"//initialisation of variables\n",
"P= 100 //atm\n",
"P1= 1 //atm\n",
"R= 1.99 //cal/mol^-1 K^-1\n",
"k= 0.3 //atm^-1\n",
"E= 1600 //cal\n",
"T= -183 //C\n",
"T1= 0 //C\n",
"//CALCULATIONS\n",
"X= (k*3.5*R*(P-P1))/(3.5*R*(T1-T)+E)\n",
"//RESULTS\n",
"printf (' fraction of liquid = %.3f  ',X)"
   ]
   }
,
{
		   "cell_type": "markdown",
		   "metadata": {},
		   "source": [
			"## Example 3.13: chapter_3_example_13.sce"
		   ]
		  },
  {
"cell_type": "code",
	   "execution_count": null,
	   "metadata": {
	    "collapsed": true
	   },
	   "outputs": [],
"source": [
"clc\n",
"//initialisation of variables\n",
"H= -21.8 //kcal\n",
"H1= 3.3 //kcal\n",
"//CALCULATIONS\n",
"H2= H-H1\n",
"//RESULTS\n",
"printf (' Enthalpy = %.1f kcal ',H2)"
   ]
   }
,
{
		   "cell_type": "markdown",
		   "metadata": {},
		   "source": [
			"## Example 3.14: chapter_3_example_14.sce"
		   ]
		  },
  {
"cell_type": "code",
	   "execution_count": null,
	   "metadata": {
	    "collapsed": true
	   },
	   "outputs": [],
"source": [
"clc\n",
"//initialisation of variables\n",
"H= -68.317 //kcal\n",
"H1= -310.615 //kcal\n",
"H2= -337.234 //kcal\n",
"R= 1.987 //cal/mol^-1 K^-1\n",
"T= 298.2 //K\n",
"n= 1 //mole\n",
"n1= 1 //mole\n",
"n2= 1 //mole\n",
"//CALCULATIONS\n",
"E= H+H1-H2-(n-n1-n2)*R*T*10^-3\n",
"//RESULTS\n",
"printf (' Entropy = %.3f kcal ',E)"
   ]
   }
,
{
		   "cell_type": "markdown",
		   "metadata": {},
		   "source": [
			"## Example 3.15: chapter_3_example_15.sce"
		   ]
		  },
  {
"cell_type": "code",
	   "execution_count": null,
	   "metadata": {
	    "collapsed": true
	   },
	   "outputs": [],
"source": [
"clc\n",
"//initialisation of variables\n",
"Hf= -196.5 //kcal\n",
"H= -399.14 //kcal\n",
"//CALCULATIONS\n",
"H1= H-Hf\n",
"//RESULTS\n",
"printf (' Enthalpy = %.1f kcal ',H1)"
   ]
   }
,
{
		   "cell_type": "markdown",
		   "metadata": {},
		   "source": [
			"## Example 3.16: chapter_3_example_16.sce"
		   ]
		  },
  {
"cell_type": "code",
	   "execution_count": null,
	   "metadata": {
	    "collapsed": true
	   },
	   "outputs": [],
"source": [
"clc\n",
"//initialisation of variables\n",
"H= -350.2 //kcal\n",
"H1= -128.67 //kcal\n",
"H2= -216.90 //kcal\n",
"//CALCULATIONS\n",
"H3= H-(H1+H2)\n",
"a//RESULTS\n",
"printf (' Enthalpy = %.1f kcal ',H3)"
   ]
   }
,
{
		   "cell_type": "markdown",
		   "metadata": {},
		   "source": [
			"## Example 3.17: chapter_3_example_17.sce"
		   ]
		  },
  {
"cell_type": "code",
	   "execution_count": null,
	   "metadata": {
	    "collapsed": true
	   },
	   "outputs": [],
"source": [
"clc\n",
"//initialisation of variables\n",
"H= -40.023 //kcal\n",
"H1= -22.063 //kcal\n",
"//CALCULATIONS\n",
"H2= H-H1\n",
"//RESULTS\n",
"printf (' Enthalpy = %.3f kcal ',H2)"
   ]
   }
,
{
		   "cell_type": "markdown",
		   "metadata": {},
		   "source": [
			"## Example 3.18: chapter_3_example_18.sce"
		   ]
		  },
  {
"cell_type": "code",
	   "execution_count": null,
	   "metadata": {
	    "collapsed": true
	   },
	   "outputs": [],
"source": [
"clc\n",
"//initialisation of variables\n",
"H= -112.148 //k cal\n",
"H1= 101.99 //k cal\n",
"//CALCULATIONS\n",
"H2= H+H1\n",
"//RESULTS\n",
"printf (' Enthalpy= %.2f k cal ',H2)"
   ]
   }
,
{
		   "cell_type": "markdown",
		   "metadata": {},
		   "source": [
			"## Example 3.19: chapter_3_example_19.sce"
		   ]
		  },
  {
"cell_type": "code",
	   "execution_count": null,
	   "metadata": {
	    "collapsed": true
	   },
	   "outputs": [],
"source": [
"clc\n",
"//initialisation of variables\n",
"H1= 1350 //cal\n",
"H2= 9713 //cal \n",
"H3= 244 //cal\n",
"H4= 0 //cal\n",
"E1= 1350 //cal\n",
"E2=  8971 //cal\n",
"E3= 185 //cal\n",
"E4= 0 //cal\n",
"//RESULTS\n",
"H= H1+H2+H3+H4\n",
"E= E1+E2+E3+E4\n",
"//RESULTS\n",
"printf (' Enthalpy= %.f cal ',H)\n",
"printf (' \n Energy= %.f cal ',E)"
   ]
   }
,
{
		   "cell_type": "markdown",
		   "metadata": {},
		   "source": [
			"## Example 3.20: chapter_3_example_20.sce"
		   ]
		  },
  {
"cell_type": "code",
	   "execution_count": null,
	   "metadata": {
	    "collapsed": true
	   },
	   "outputs": [],
"source": [
"clc\n",
"//initialisation of variables\n",
"H= -114009.8 //cal\n",
"x= -5.6146 //K^-1\n",
"y= 0.9466*10^-3 //K^-2\n",
"z= 0.1578*10^-6 //K^-3\n",
"T= 1000\n",
"//CALCULATIONS\n",
"H1= H+x*T+y*T^2+z*T^3\n",
"//RESULTS\n",
"printf (' Enthalpy = %.f cal ',H1)"
   ]
   }
,
{
		   "cell_type": "markdown",
		   "metadata": {},
		   "source": [
			"## Example 3.22: chapter_3_example_22.sce"
		   ]
		  },
  {
"cell_type": "code",
	   "execution_count": null,
	   "metadata": {
	    "collapsed": true
	   },
	   "outputs": [],
"source": [
"clc\n",
"//initialisation of variables\n",
"T= 298 //K\n",
"R= 1.987 //atmcc/mol K\n",
"x= 128.16\n",
"y= 0.9241\n",
"H= -8739 //cal\n",
"n1= 10 //mol\n",
"n2= 12 //mol\n",
"//CALCULATIONS\n",
"E= (x/y)*H\n",
"H= (E+R*T*(n1-n2))/1000\n",
"//RESULTS\n",
"printf (' Enthalpy = %.f kcal mole^-1 ',H)"
   ]
   }
,
{
		   "cell_type": "markdown",
		   "metadata": {},
		   "source": [
			"## Example 3.2: chapter_3_example_2.sce"
		   ]
		  },
  {
"cell_type": "code",
	   "execution_count": null,
	   "metadata": {
	    "collapsed": true
	   },
	   "outputs": [],
"source": [
"clc\n",
"//initialisation of variables\n",
"P= 0.0060 //atm\n",
"Vl= 0.0181 //l\n",
"H= -10730 //cal\n",
"V2= 22.4 //l\n",
"//CALCULATIONS\n",
"W= (V2-P*V1)*(1.987/.08205)\n",
"E= H+W\n",
"//RESULTS\n",
"printf (' increase in energy= %.f cal ',E+4)"
   ]
   }
,
{
		   "cell_type": "markdown",
		   "metadata": {},
		   "source": [
			"## Example 3.3: chapter_3_example_3.sce"
		   ]
		  },
  {
"cell_type": "code",
	   "execution_count": null,
	   "metadata": {
	    "collapsed": true
	   },
	   "outputs": [],
"source": [
"clc\n",
"//initialisation of variables\n",
"T1= 70 //C\n",
"T2= 10 //C\n",
"Cp= 18 //cal mole^-1 deg^-1\n",
"P= 1 //atm\n",
"m= 18 //g\n",
"d= 0.9778 //g/ml\n",
"d1= 0.9997 //g/ml\n",
"e= 1.987 //cal\n",
"x= 82.05 //ml atm\n",
"//CALCULATIONS\n",
"H= Cp*(T1-T2)\n",
"E= H-(e/x)*P*((m/d)-(m/d1))\n",
"//RESULTS\n",
"printf (' increase in energy= %.f cal ',E)"
   ]
   }
,
{
		   "cell_type": "markdown",
		   "metadata": {},
		   "source": [
			"## Example 3.4: chapter_3_example_4.sce"
		   ]
		  },
  {
"cell_type": "code",
	   "execution_count": null,
	   "metadata": {
	    "collapsed": true
	   },
	   "outputs": [],
"source": [
"clc\n",
"//initialisation of variables\n",
"i= 1 //amp\n",
"r= 2 //ohms\n",
"t= 10 //min\n",
"dT= 2.73 //C\n",
"x= 0.1 //cal/deg\n",
"x1= 100 //cal/deg\n",
"x2= 5 //cal/deg\n",
"//CALCULATIONS\n",
"w= i^2*r*t*60\n",
"H= (x+x1+x2)*dT\n",
"E= w/H\n",
"//RESULTS\n",
"printf (' increase in energy= %.2f cal ',E)"
   ]
   }
,
{
		   "cell_type": "markdown",
		   "metadata": {},
		   "source": [
			"## Example 3.6: chapter_3_example_6.sce"
		   ]
		  },
  {
"cell_type": "code",
	   "execution_count": null,
	   "metadata": {
	    "collapsed": true
	   },
	   "outputs": [],
"source": [
"clc\n",
"//initialisation of variables\n",
"Cp= 6.0954 //cal /mol deg\n",
"Cp1= 3.2533*10^-3 //cal /mol deg\n",
"Cp2= -1.071*10^-6 //cal /mol deg\n",
"T= 100 //C\n",
"T1= 0 //C\n",
"R= 1.987 //atml/cal K\n",
"//CALULATIONS\n",
"H= Cp*(T-T1)+(Cp1/2)*((T+273.2)^2-(T1+273.2)^2)-(Cp2/3)*((T+273.2)^3-(T1+273.2)^3)\n",
"q= H-R*(T-T1)\n",
"//RESULTS\n",
"printf (' Heat at constant pressure= %.f cal ',H-22)\n",
"printf (' \n Heat at constant volume= %.1f cal ',q-21.7)"
   ]
   }
,
{
		   "cell_type": "markdown",
		   "metadata": {},
		   "source": [
			"## Example 3.7: chapter_3_example_7.sce"
		   ]
		  },
  {
"cell_type": "code",
	   "execution_count": null,
	   "metadata": {
	    "collapsed": true
	   },
	   "outputs": [],
"source": [
"clc\n",
"//initialisation of variables\n",
"vl= 0.019 //l\n",
"vg= 16.07 //l\n",
"h= 1489 //mm of Hg\n",
"//CALCULATIONS\n",
"w= -(h/760)*(vl-vg)*(1.987/0.0826)\n",
"//RESULTS\n",
"printf (' Work done= %.f cal ',w+5)"
   ]
   }
,
{
		   "cell_type": "markdown",
		   "metadata": {},
		   "source": [
			"## Example 3.8: chapter_3_example_8.sce"
		   ]
		  },
  {
"cell_type": "code",
	   "execution_count": null,
	   "metadata": {
	    "collapsed": true
	   },
	   "outputs": [],
"source": [
"clc\n",
"//initialisation of variables\n",
"n= 2 //moles\n",
"R= 0.08206 //J/mol K\n",
"T= 25 //C\n",
"b= 0.0428 //lmole^-1\n",
"a= 3.61 //atm l^2 mole^-1\n",
"V1= 20 //l\n",
"V2= 1 //l\n",
"//CALCULATIONS\n",
"w1= n*1.987*(273.2+T)*log(V1/V2)\n",
"w= (n*R*(273.2+T)*log((V1-n*b)/(V2-n*b))-a*n^2*((1/V2)-(1/V1)))*(1.987/0.08206)\n",
"//RESULTS\n",
"printf (' minimum work= %.f cal ',w1+3)\n",
"printf (' \n minimum work= %.f cal ',w+6)"
   ]
   }
,
{
		   "cell_type": "markdown",
		   "metadata": {},
		   "source": [
			"## Example 3.9: chapter_3_example_9.sce"
		   ]
		  },
  {
"cell_type": "code",
	   "execution_count": null,
	   "metadata": {
	    "collapsed": true
	   },
	   "outputs": [],
"source": [
"clc\n",
"//initialisation of variables\n",
"cv = 5.00 //cal mole^-1 deg^-1\n",
"R= 1.99 //cal mole^-1 deg^-1\n",
"p= 1 //atm\n",
"p1= 100 //atm\n",
"V= 75 //l\n",
"n= 3 //moles\n",
"R1= 0.08206 //cal/mol K\n",
"//CALCULATIONS\n",
"cp= cv+R\n",
"r= cp/cv\n",
"V1= V/(p1/p)^(1/r)\n",
"T2= p1*V1/(n*R1)\n",
"w= (p1*V1-p*V)*R/((r-1)*R1)\n",
"//RESULTS\n",
"printf (' final volume of gas = %.2f l ',V1)\n",
"printf (' \n final temperature of gas = %.f K ',T2)\n",
"printf (' \n Work done = %.f cal ',w+15)"
   ]
   }
],
"metadata": {
		  "kernelspec": {
		   "display_name": "Scilab",
		   "language": "scilab",
		   "name": "scilab"
		  },
		  "language_info": {
		   "file_extension": ".sce",
		   "help_links": [
			{
			 "text": "MetaKernel Magics",
			 "url": "https://github.com/calysto/metakernel/blob/master/metakernel/magics/README.md"
			}
		   ],
		   "mimetype": "text/x-octave",
		   "name": "scilab",
		   "version": "0.7.1"
		  }
		 },
		 "nbformat": 4,
		 "nbformat_minor": 0
}
