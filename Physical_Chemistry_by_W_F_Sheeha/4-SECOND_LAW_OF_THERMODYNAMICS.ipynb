{
"cells": [
 {
		   "cell_type": "markdown",
	   "metadata": {},
	   "source": [
       "# Chapter 4: SECOND LAW OF THERMODYNAMICS"
	   ]
	},
{
		   "cell_type": "markdown",
		   "metadata": {},
		   "source": [
			"## Example 4.10: chapter_4_example_10.sce"
		   ]
		  },
  {
"cell_type": "code",
	   "execution_count": null,
	   "metadata": {
	    "collapsed": true
	   },
	   "outputs": [],
"source": [
"clc\n",
"//initialisation of variables\n",
"a= 1.360 //l^2 atm mole^-1\n",
"b= 0.0317 //l mole^-1\n",
"R= 0.08205 //J/mol K\n",
"R1= 1.987 //cal/mole K\n",
"Cp= 6.9 //cal mole^-1 deg^-1\n",
"T= 273.2 //K\n",
"//CALCULATIONS\n",
"u= ((2*a/(R*T))-b)/(Cp*(R/R1))\n",
"//RESULTS\n",
"printf (' Joule thomson coefficient= %.3f atm^-1',u)"
   ]
   }
,
{
		   "cell_type": "markdown",
		   "metadata": {},
		   "source": [
			"## Example 4.12: chapter_4_example_12.sce"
		   ]
		  },
  {
"cell_type": "code",
	   "execution_count": null,
	   "metadata": {
	    "collapsed": true
	   },
	   "outputs": [],
"source": [
"clc\n",
"//initialisation of variables\n",
"p= 4/3 //atm\n",
"p1= 1 //atm\n",
"R= 1.9872 //cal /mole K\n",
"//CALCULATIONS\n",
"S= 2*R*log(p/p1)\n",
"//RESULTS\n",
"printf (' increase in entropy= %.4f cal deg^-1',S)"
   ]
   }
,
{
		   "cell_type": "markdown",
		   "metadata": {},
		   "source": [
			"## Example 4.14: chapter_4_example_14.sce"
		   ]
		  },
  {
"cell_type": "code",
	   "execution_count": null,
	   "metadata": {
	    "collapsed": true
	   },
	   "outputs": [],
"source": [
"clc\n",
"//initialisation of variables\n",
"T= 25 //C\n",
"T1= 100 //C\n",
"R= 1.9872 //cal /mole K\n",
"p= 1 //atm\n",
"p1= 10 //atm\n",
"//CALCULATIONS\n",
"S= 3.5*R*log((T1+273)/(T+273))\n",
"S1= S+R*log(p/p1)\n",
"//RESULTS\n",
"printf (' increase in entropy= %.2f cal deg^-1',S)\n",
"printf (' \n increase in entropy= %.2f cal deg^-1',S1)"
   ]
   }
,
{
		   "cell_type": "markdown",
		   "metadata": {},
		   "source": [
			"## Example 4.15: chapter_4_example_15.sce"
		   ]
		  },
  {
"cell_type": "code",
	   "execution_count": null,
	   "metadata": {
	    "collapsed": true
	   },
	   "outputs": [],
"source": [
"clc\n",
"//initialisation of variables\n",
"S= 45.77 //cal deg^-1\n",
"T= 25 //C\n",
"T1= 100 //C\n",
"R= 1.9872 //cal /mole K\n",
"//CALCULATIONS\n",
"S0= S+ 3.5*R*log((T1+273)/(T+273))\n",
"//RESULTS\n",
"printf (' absolute entropy= %.2f cal deg^-1',S0)"
   ]
   }
,
{
		   "cell_type": "markdown",
		   "metadata": {},
		   "source": [
			"## Example 4.16: chapter_4_example_16.sce"
		   ]
		  },
  {
"cell_type": "code",
	   "execution_count": null,
	   "metadata": {
	    "collapsed": true
	   },
	   "outputs": [],
"source": [
"clc\n",
"//initialisation of variables\n",
"Cp= 18 //cal deg^-1\n",
"T= 0 //C\n",
"T1= -5 //C\n",
"H2= -1440 //cal\n",
"Cp1= 9 //cal deg^-1\n",
"H= 0\n",
"//CALCULATIONS\n",
"T2= (-Cp*(T-T1)-H2+Cp1*(273.16+T))/Cp1\n",
"S= Cp*log((273.16+T)/(273.16+T1))-(Cp*(T-T1)/(T+273.16))\n",
"//RESULTS\n",
"printf (' CHange in entropy= %.3f cal deg^-1',S+0.001)"
   ]
   }
,
{
		   "cell_type": "markdown",
		   "metadata": {},
		   "source": [
			"## Example 4.18: chapter_4_example_18.sce"
		   ]
		  },
  {
"cell_type": "code",
	   "execution_count": null,
	   "metadata": {
	    "collapsed": true
	   },
	   "outputs": [],
"source": [
"clc\n",
"//initialisation of variables\n",
"H= -57.7979 //cal\n",
"H1= -68.3174 //cal\n",
"S= 45.106 //cal deg^-1\n",
"S1= 16.716 //cal deg^-1\n",
"T= 25 //C\n",
"//CALCULATIONS\n",
"H2= (H-H1)*1000\n",
"S2= S-S1\n",
"G= H2-(273.16+T)*S2\n",
"//RESULTS\n",
"printf (' Gibs free energy= %.1f cal',G)"
   ]
   }
,
{
		   "cell_type": "markdown",
		   "metadata": {},
		   "source": [
			"## Example 4.19: chapter_4_example_19.sce"
		   ]
		  },
  {
"cell_type": "code",
	   "execution_count": null,
	   "metadata": {
	    "collapsed": true
	   },
	   "outputs": [],
"source": [
"clc\n",
"//initialisation of variables\n",
"H= -68317.4 //cal\n",
"S= 16.716 //cal\n",
"S1= 49.003 //cal\n",
"S2= 31.211 //cal\n",
"T= 25 //C\n",
"//CALCULATIONS\n",
"H1= 2*H\n",
"S3= 2*S-(S1+2*S2)\n",
"G= H1-(T+273.16)*S3\n",
"//RESULTS\n",
"printf (' Gibs free energy= %.1f cal',G)"
   ]
   }
,
{
		   "cell_type": "markdown",
		   "metadata": {},
		   "source": [
			"## Example 4.1: chapter_4_example_1.sce"
		   ]
		  },
  {
"cell_type": "code",
	   "execution_count": null,
	   "metadata": {
	    "collapsed": true
	   },
	   "outputs": [],
"source": [
"clc\n",
"//initialisation of variables\n",
"T = 100 //C\n",
"T1= 25 //C\n",
"T2= 150 //C\n",
"T3= 357 //C\n",
"T4= 500 //C\n",
"T5= 2000 //C\n",
"T6= 5*10^6\n",
"T7= 1000 //C\n",
"//CALCULATIONS\n",
"e= (T-T1)/(T+273)\n",
"e1= (T2-T1)/(273+T2)\n",
"e2= (T3-T)/(273+T3)\n",
"e3= (T5-T4)/(T5+273)\n",
"e4= (T6-T7)/T6\n",
"//RESULTS\n",
"printf (' maximum efficiency = %.2f ',e)\n",
"printf (' \n maximum efficiency = %.2f ',e1)\n",
"printf (' \n maximum efficiency = %.2f ',e2)\n",
"printf (' \n maximum efficiency = %.2f ',e3)\n",
"printf (' \n maximum efficiency = %.2f ',e4)"
   ]
   }
,
{
		   "cell_type": "markdown",
		   "metadata": {},
		   "source": [
			"## Example 4.20: chapter_4_example_20.sce"
		   ]
		  },
  {
"cell_type": "code",
	   "execution_count": null,
	   "metadata": {
	    "collapsed": true
	   },
	   "outputs": [],
"source": [
"clc\n",
"//initialisation of variables\n",
"H= -57.7979 //kcal\n",
"H1= -196.5 //kcal"
   ]
   }
,
{
		   "cell_type": "markdown",
		   "metadata": {},
		   "source": [
			"## Example 4.22: chapter_4_example_22.sce"
		   ]
		  },
  {
"cell_type": "code",
	   "execution_count": null,
	   "metadata": {
	    "collapsed": true
	   },
	   "outputs": [],
"source": [
"clc\n",
"//initialisation of variables\n",
"p= 1 //atm\n",
"p1= 3 //atm\n",
"R= 1.987 //cal/mole K\n",
"T= 27 //C\n",
"b= 0.0428 //l mole^-1\n",
"a= 3.61 //l^2 atm mole^-1\n",
"//CALCULATIONS\n",
"G= R*(273+T)*log(p/p1)\n",
"A= R*(273+T)*log(p/p1)\n",
"G1= R*(273+T)*log(p/p1)+(b-(a/(0.08205*(T+273))))*(p-p1)*(R/0.08205)\n",
"//RESULTS\n",
"printf (' Gibs free energy= %.f cal',G)\n",
"printf (' \n Value of A= %.f cal',A)\n",
"printf (' \n Gibs free energy= %.f cal',G1)\n",
"printf (' \n Value of A= %.f cal',A)"
   ]
   }
,
{
		   "cell_type": "markdown",
		   "metadata": {},
		   "source": [
			"## Example 4.24: chapter_4_example_24.sce"
		   ]
		  },
  {
"cell_type": "code",
	   "execution_count": null,
	   "metadata": {
	    "collapsed": true
	   },
	   "outputs": [],
"source": [
"clc\n",
"//initialisation of variables\n",
"b= 0.0386 //l^2 atm mole^-1\n",
"a= 1.348 //l mole^-1\n",
"R= 0.08205 //cal /mole K\n",
"T= 25 //C\n",
"a1= 3.61 //l^2 atm mole^-1\n",
"b1= 0.0428 //l mole^-1\n",
"P= 50 //atm\n",
"P1= 1 //atm\n",
"//CALCULATIONS\n",
"Bn= b-(a/(R*(273.2+T)))\n",
"Bc= b1-(a1/(R*(273.2+T))) \n",
"Fn= P1^(Bn*P1/(R*(273.2+T)))\n",
"Fc= P1^(Bc*P1/(R*(273.2+T)))\n",
"Fn1= P*%e^(Bn*P/(R*(273.2+T)))\n",
"Fc1= P*%e^(Bc*P/(R*(273.2+T)))\n",
"//RESULTS\n",
"printf (' Fugacity of N2= %.2f atm',Fn1)\n",
"printf (' \n Fugacity of CO1= %.2f atm',Fc1)"
   ]
   }
,
{
		   "cell_type": "markdown",
		   "metadata": {},
		   "source": [
			"## Example 4.25: chapter_4_example_25.sce"
		   ]
		  },
  {
"cell_type": "code",
	   "execution_count": null,
	   "metadata": {
	    "collapsed": true
	   },
	   "outputs": [],
"source": [
"clc\n",
"//initialisation of variables\n",
"P1= 23.756 //atm\n",
"T= 25 //C\n",
"P2= 1 //atm\n",
"P3= 10 //atm\n",
"P4= 100 //atm\n",
"R= 82.02 //J/mole K\n",
"v= 18.07 //ml\n",
"//CALCULATIONS\n",
"p1= P1/760\n",
"p2= 10^(log10(P1)+(v*(P2-p1)/(2.303*R*(273.2+T))))\n",
"p3= 10^(log10(P1)+(v*(P3-p1)/(2.303*R*(273.2+T))))\n",
"p4= 10^(log10(P1)+(v*(P4-p1)/(2.303*R*(273.2+T))))\n",
"x= -(P1-p2)*100/P1\n",
"x1= -(P1-p3)*100/P1\n",
"x2= -(P1-p4)*100/P1\n",
"//RESULTS\n",
"printf (' Increase in pressure= %.2f percent',x)\n",
"printf (' \n Increase in pressure= %.2f percent',x1)\n",
"printf (' \n Increase in pressure= %.1f percent',x2)"
   ]
   }
,
{
		   "cell_type": "markdown",
		   "metadata": {},
		   "source": [
			"## Example 4.26: chapter_4_example_26.sce"
		   ]
		  },
  {
"cell_type": "code",
	   "execution_count": null,
	   "metadata": {
	    "collapsed": true
	   },
	   "outputs": [],
"source": [
"clc\n",
"//initialisation of variables\n",
"H= 1436.3 //cal mole^-1\n",
"d= 0.9999 //g ml^-1\n",
"d1= 0.9168 //g ml^-1\n",
"P= 1 //atm\n",
"m= 18.02 //gm\n",
"R= 1.987 //cal/mole K\n",
"T= 2 //C\n",
"//CALCULATIONS\n",
"V= (p/d)-(p/d1)\n",
"H1= H*82.05/(m*R) \n",
"P1= H1*(-T)/(273*V)\n",
"//RESULTS\n",
"printf (' pressure required to decrease= %.f atm',P1)"
   ]
   }
,
{
		   "cell_type": "markdown",
		   "metadata": {},
		   "source": [
			"## Example 4.27: chapter_4_example_27.sce"
		   ]
		  },
  {
"cell_type": "code",
	   "execution_count": null,
	   "metadata": {
	    "collapsed": true
	   },
	   "outputs": [],
"source": [
"clc\n",
"//initialisation of variables\n",
"H= 540 //cal gram ^-1\n",
"T= 95 //C\n",
"T1= 100 //C\n",
"m= 18 //gms\n",
"R= 1.987 //cal /mole K\n",
"P= 760 //mm of Hg\n",
"//CALCULATIONS\n",
"H1= m*H\n",
"P1= P/(10^(H1*(T1-T)/(2.303*R*(273+T)*(273+T1))))\n",
"//RESULTS\n",
"printf (' heat of vapourisation= %.f mm of Hg',P1)"
   ]
   }
,
{
		   "cell_type": "markdown",
		   "metadata": {},
		   "source": [
			"## Example 4.28: chapter_4_example_28.sce"
		   ]
		  },
  {
"cell_type": "code",
	   "execution_count": null,
	   "metadata": {
	    "collapsed": true
	   },
	   "outputs": [],
"source": [
"clc\n",
"//initialisation of variables\n",
"H= 9720 //cal mole^-1\n",
"P= 1 //atm\n",
"R= 1.987 //cal /mole K\n",
"T= 100 //C\n",
"T1= 95 //C\n",
"//CALCULATIONS\n",
"r= P*H/(R*(273+T)^2)\n",
"dP= r*(T1-T)\n",
"P1= (P+dP)*626/0.824\n",
"//RESULTS\n",
"printf (' vapour pressure= %.f atm',P1)"
   ]
   }
,
{
		   "cell_type": "markdown",
		   "metadata": {},
		   "source": [
			"## Example 4.29: chapter_4_example_29.sce"
		   ]
		  },
  {
"cell_type": "code",
	   "execution_count": null,
	   "metadata": {
	    "collapsed": true
	   },
	   "outputs": [],
"source": [
"clc\n",
"//initialisation of variables\n",
"G= 145 //cal\n",
"R= 1.987 //cal/mole K\n",
"T= 95 //C\n",
"//CALCULATIONS\n",
"P= 10^(-G/(2.303*R*(273+T)))*(624/0.820)\n",
"//RESULTS\n",
"printf (' vapour pressure= %.f atm',P)"
   ]
   }
,
{
		   "cell_type": "markdown",
		   "metadata": {},
		   "source": [
			"## Example 4.2: chapter_4_example_2.sce"
		   ]
		  },
  {
"cell_type": "code",
	   "execution_count": null,
	   "metadata": {
	    "collapsed": true
	   },
	   "outputs": [],
"source": [
"clc\n",
"//initialisation of variables\n",
"T= 20 //C\n",
"T1= -10 //C\n",
"q= 1000 //cal\n",
"//CALCULATIONS\n",
"e= (273+T1)/(T-T1)\n",
"w= (T-T1)*q/(273+T1)\n",
"//RESULTS\n",
"printf (' maximum efficiency = %.1f ',e)\n",
"printf (' \n minimum work = %.f cal',w)"
   ]
   }
,
{
		   "cell_type": "markdown",
		   "metadata": {},
		   "source": [
			"## Example 4.30: chapter_4_example_30.sce"
		   ]
		  },
  {
"cell_type": "code",
	   "execution_count": null,
	   "metadata": {
	    "collapsed": true
	   },
	   "outputs": [],
"source": [
"clc\n",
"//initialisation of variables\n",
"R= 1.987 //cal/mole K\n",
"T1= 25 //C\n",
"T2= 76.8 //C\n",
"P2= 760 //mm\n",
"P1= 115 //mm\n",
"//CALCULATIONS\n",
"H= 2.303*R*(273.2+T1)*(273.2+T2)*log10(P2/P1)/(T2-T1)\n",
"//RESULTS\n",
"printf (' molar heat of vapourisation= %.3f cal mole^-1',H)"
   ]
   }
,
{
		   "cell_type": "markdown",
		   "metadata": {},
		   "source": [
			"## Example 4.3: chapter_4_example_3.sce"
		   ]
		  },
  {
"cell_type": "code",
	   "execution_count": null,
	   "metadata": {
	    "collapsed": true
	   },
	   "outputs": [],
"source": [
"clc\n",
"//initialisation of variables\n",
"T= 1000 //K\n",
"T1= 400 ///K\n",
"w= 1000 //cal\n",
"E= 0 //cal\n",
"//CALCULATIONS\n",
"q= w-E\n",
"W= q*(T-T1)/T\n",
"q1= W-q\n",
"W1= -q1\n",
"//RESULTS\n",
"printf (' net work done by gas= %.1f cal',w)\n",
"printf (' \n net work done on gas = %.f cal',W1)"
   ]
   }
,
{
		   "cell_type": "markdown",
		   "metadata": {},
		   "source": [
			"## Example 4.4: chapter_4_example_4.sce"
		   ]
		  },
  {
"cell_type": "code",
	   "execution_count": null,
	   "metadata": {
	    "collapsed": true
	   },
	   "outputs": [],
"source": [
"clc\n",
"//initialisation of variables\n",
"Hv= 9720 //cal mole^-1\n",
"Hv1= 30900 //cal mole^-1\n",
"Tb= 373 //K\n",
"Tb1= 1029 //K\n",
"//CALCULATIONS\n",
"Sv= Hv/Tb\n",
"Sv1= Hv1/Tb1\n",
"//RESULTS\n",
"printf (' Entropy= %.f cal mole deg^-1',Sv)\n",
"printf (' \n Entropy = %.f cal mole deg^-1',Sv1)"
   ]
   }
,
{
		   "cell_type": "markdown",
		   "metadata": {},
		   "source": [
			"## Example 4.5: chapter_4_example_5.sce"
		   ]
		  },
  {
"cell_type": "code",
	   "execution_count": null,
	   "metadata": {
	    "collapsed": true
	   },
	   "outputs": [],
"source": [
"clc\n",
"//initialisation of variables\n",
"T= 300 //K\n",
"T1= 400 //K\n",
"k= 6.0954\n",
"k1= 3.2533*10^-3\n",
"k2= -1.0171*10^-6\n",
"R= 1.98719 //cal/mol K\n",
"//CALCULATIONS\n",
"S= 2*(k*log(T1/T)+k1*(T1-T)+k2*(T1^2-T^2)/2)\n",
"S1= S-2*R*log(T1/T)\n",
"//RESULTS\n",
"printf (' Entropy= %.4f cal  deg^-1',S)\n",
"printf (' \n Entropy = %.4f cal  deg^-1',S1)"
   ]
   }
,
{
		   "cell_type": "markdown",
		   "metadata": {},
		   "source": [
			"## Example 4.8: chapter_4_example_8.sce"
		   ]
		  },
  {
"cell_type": "code",
	   "execution_count": null,
	   "metadata": {
	    "collapsed": true
	   },
	   "outputs": [],
"source": [
"clc\n",
"//initialisation of variables\n",
"T1= 273.16 //K\n",
"R= 1.987 //cal /mol K\n",
"R1= 0.08205 //J /mol K\n",
"n= 10 //moles\n",
"V1= 22.4 //lit\n",
"a= 1.36\n",
"Cv= 4.9\n",
"//CALCULATIONS\n",
"T2= T1-(R*a*(n-1)/(R1*n*Cv*V1))\n",
"//RESULTS\n",
"printf (' temperature= %.2f K',T2)"
   ]
   }
,
{
		   "cell_type": "markdown",
		   "metadata": {},
		   "source": [
			"## Example 4.9: chapter_4_example_9.sce"
		   ]
		  },
  {
"cell_type": "code",
	   "execution_count": null,
	   "metadata": {
	    "collapsed": true
	   },
	   "outputs": [],
"source": [
"clc\n",
"//initialisation of variables\n",
"a= 1.360 //l^2 atm mole^-1\n",
"b= 0.0317 //l mole^-1\n",
"R= 0.08205 //J/mol K\n",
"//CALCULATIONS\n",
"T= 2*a/(b*R)\n",
"//RESULTS\n",
"printf (' Temperature= %.f K',T-6)"
   ]
   }
],
"metadata": {
		  "kernelspec": {
		   "display_name": "Scilab",
		   "language": "scilab",
		   "name": "scilab"
		  },
		  "language_info": {
		   "file_extension": ".sce",
		   "help_links": [
			{
			 "text": "MetaKernel Magics",
			 "url": "https://github.com/calysto/metakernel/blob/master/metakernel/magics/README.md"
			}
		   ],
		   "mimetype": "text/x-octave",
		   "name": "scilab",
		   "version": "0.7.1"
		  }
		 },
		 "nbformat": 4,
		 "nbformat_minor": 0
}
