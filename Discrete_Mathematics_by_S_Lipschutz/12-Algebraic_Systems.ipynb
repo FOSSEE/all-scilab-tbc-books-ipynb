{
"cells": [
 {
		   "cell_type": "markdown",
	   "metadata": {},
	   "source": [
       "# Chapter 12: Algebraic Systems"
	   ]
	},
{
		   "cell_type": "markdown",
		   "metadata": {},
		   "source": [
			"## Example 12.17: Roots_of_polynomial.sci"
		   ]
		  },
  {
"cell_type": "code",
	   "execution_count": null,
	   "metadata": {
	    "collapsed": true
	   },
	   "outputs": [],
"source": [
"t=poly(0,'t');\n",
"f=t^3+t^2-8*t+4\n",
"g=factors(f)\n",
"disp(r=roots(f),'roots of f(t) are as follows:')\n",
"\n",
"t=poly(0,'t');\n",
"h=t^4-2*t^3+11*t-10\n",
"disp(r=roots(h),'the real roots of h(t) are 1 and -2')"
   ]
   }
,
{
		   "cell_type": "markdown",
		   "metadata": {},
		   "source": [
			"## Example 12.18: Roots_of_polynomial.sci"
		   ]
		  },
  {
"cell_type": "code",
	   "execution_count": null,
	   "metadata": {
	    "collapsed": true
	   },
	   "outputs": [],
"source": [
"t=poly(0,'t');\n",
"f=t^4-3*t^3+6*t^2+25*t-39\n",
"g=factors(f)\n",
" disp(r=roots(f),'roots of f(t) are as follows:')"
   ]
   }
,
{
		   "cell_type": "markdown",
		   "metadata": {},
		   "source": [
			"## Example 12.4: Properties_of_operations.sci"
		   ]
		  },
  {
"cell_type": "code",
	   "execution_count": null,
	   "metadata": {
	    "collapsed": true
	   },
	   "outputs": [],
"source": [
"a=(8-4)-3\n",
"b=8-(4-3)\n",
"disp('since a and b are not equal so subtraction is non-commutative on Z(set of integers)')\n",
"\n",
"a=[1 2;3 4]\n",
"b=[5 6;0 -2]\n",
"g= a*b\n",
"k= b*a\n",
"disp('since g and k are not equal matrix multiplication is non-commutative')\n",
"\n",
"h=(2^2)^3\n",
"j=2^(2^3)\n",
"disp('since h and j are not equal so exponential operation is non associative on the set of positive integers N')"
   ]
   }
],
"metadata": {
		  "kernelspec": {
		   "display_name": "Scilab",
		   "language": "scilab",
		   "name": "scilab"
		  },
		  "language_info": {
		   "file_extension": ".sce",
		   "help_links": [
			{
			 "text": "MetaKernel Magics",
			 "url": "https://github.com/calysto/metakernel/blob/master/metakernel/magics/README.md"
			}
		   ],
		   "mimetype": "text/x-octave",
		   "name": "scilab",
		   "version": "0.7.1"
		  }
		 },
		 "nbformat": 4,
		 "nbformat_minor": 0
}
