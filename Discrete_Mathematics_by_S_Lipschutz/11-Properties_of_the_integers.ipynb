{
"cells": [
 {
		   "cell_type": "markdown",
	   "metadata": {},
	   "source": [
       "# Chapter 11: Properties of the integers"
	   ]
	},
{
		   "cell_type": "markdown",
		   "metadata": {},
		   "source": [
			"## Example 11.12: Congruence_relation.sci"
		   ]
		  },
  {
"cell_type": "code",
	   "execution_count": null,
	   "metadata": {
	    "collapsed": true
	   },
	   "outputs": [],
"source": [
"x=poly(0,'x');\n",
"g=3*x^2-7*x+5\n",
"m=horner(g,2)  //value of polynomial at 2\n",
"n=horner(g,8)  //value of polynomial at 8\n",
"j=m-n\n",
"disp(n,'for n = ')\n",
"if(modulo(j,6)==0) then\n",
"mprintf('%i is congruent to %i(mod 6)',m,n)\n",
"end"
   ]
   }
,
{
		   "cell_type": "markdown",
		   "metadata": {},
		   "source": [
			"## Example 11.19: Linear_congruence_equation.sci"
		   ]
		  },
  {
"cell_type": "code",
	   "execution_count": null,
	   "metadata": {
	    "collapsed": true
	   },
	   "outputs": [],
"source": [
"disp('solving for the congruence equation 8x @ 12(mod 28) ,where @ is the sign for congruence')\n",
"a=8;\n",
"b=12;\n",
"m=28;\n",
"V= int32([a,m]);\n",
"d= gcd(V);\n",
"a1= a/d;\n",
"b1= b/d;\n",
"m1= m/d;\n",
" \n",
"function yd= f(x)\n",
"yd= (a1*x)-b1\n",
"endfunction\n",
" \n",
" disp('k is the unique solution of the equation ')\n",
"for i=0 : m1\n",
"x=i;\n",
"p=f(x);\n",
"if(modulo(p,m1) == 0)\n",
"k=x\n",
"break;\n",
"end\n",
"end\n",
"\n",
"s1=k;\n",
"s2=k+m1;\n",
"s3=k+(m1*2);\n",
"s4=k+(m1*3);\n",
" disp('solutions of the original equation at d=4')\n",
"disp(s1)\n",
"disp(s2)\n",
"disp(s3)\n",
"disp(s4)"
   ]
   }
,
{
		   "cell_type": "markdown",
		   "metadata": {},
		   "source": [
			"## Example 11.2: Division_algorithm.sci"
		   ]
		  },
  {
"cell_type": "code",
	   "execution_count": null,
	   "metadata": {
	    "collapsed": true
	   },
	   "outputs": [],
"source": [
"disp('Division Algorithm')\n",
"a=4461;  //dividend\n",
"b=16;    //divisor\n",
"r=modulo(a,b)  //remainder\n",
"k=fix(a/b)    //quotient\n",
"j=b*k+r  //dividend=divisor*quotient+remainder\n",
"\n",
"a=-262;  //dividend\n",
"b=3;    //divisor\n",
"k=fix(a/b)  //remainder\n",
"r=modulo(a,b)    //quotient\n",
"j=b*k+r  //dividend=divisor*quotient+remainder\n",
"disp('a and j have equal values.Hence division algorithm is proved')"
   ]
   }
,
{
		   "cell_type": "markdown",
		   "metadata": {},
		   "source": [
			"## Example 11.4: Primes.sci"
		   ]
		  },
  {
"cell_type": "code",
	   "execution_count": null,
	   "metadata": {
	    "collapsed": true
	   },
	   "outputs": [],
"source": [
"disp('Divisibility and Primes')\n",
"x=50;\n",
"disp('prime numbers less than 50 are')\n",
"y=primes(x)\n",
"\n",
"disp('the prime factorisation of 21,24 and 1729 respectively are:')\n",
"k=factor(21)\n",
"l=factor(24)\n",
"n=factor(1729)"
   ]
   }
,
{
		   "cell_type": "markdown",
		   "metadata": {},
		   "source": [
			"## Example 11.5: Greatest_Common_Divisor.sci"
		   ]
		  },
  {
"cell_type": "code",
	   "execution_count": null,
	   "metadata": {
	    "collapsed": true
	   },
	   "outputs": [],
"source": [
"disp('the GCD of the following numbers is:')\n",
"V=int32([12,18]);\n",
"[thegcd]=gcd(V)\n",
"V=int32([12,-18]);\n",
"[thegcd]=gcd(V)\n",
"V=int32([12,-16]);\n",
"[thegcd]=gcd(V)\n",
"V=int32([29,15]);\n",
"[thegcd]=gcd(V)\n",
"V=int32([14,49]);\n",
"[thegcd]=gcd(V)"
   ]
   }
,
{
		   "cell_type": "markdown",
		   "metadata": {},
		   "source": [
			"## Example 11.6: Euclidean_algorithm.sci"
		   ]
		  },
  {
"cell_type": "code",
	   "execution_count": null,
	   "metadata": {
	    "collapsed": true
	   },
	   "outputs": [],
"source": [
"disp('Euclidean Algorithm')\n",
"a=[540,168,36,24];\n",
"b=[168,36,24,12];\n",
"for i=1:4\n",
"V=int32([a(i),b(i)]);\n",
"thegcd=[];\n",
"thegcd(i)=gcd(V);\n",
"disp(thegcd(i))\n",
"end\n",
"\n",
"function []=myf(dividend,divisor)\n",
"quotient=floor(dividend/divisor);\n",
"rem=modulo(dividend,divisor);\n",
"k=quotient*divisor+rem;\n",
"disp(k)\n",
"if(rem~=0) then\n",
"     myf(divisor,rem) \n",
"end\n",
"endfunction\n",
"\n",
"myf(540,168)\n",
"\n",
"disp('for the equation 540*x+168*y=12,we are given')\n",
"a=540;\n",
"b=168;\n",
"c=24;\n",
"d=36;\n",
"d=a-3*b;     //Eqn (1)\n",
"c=b-4*d;      //Eqn (2)\n",
"k=d-1*c;    //Eqn (3)\n",
"5*d-1*b;      //Eqn (4)\n",
"k=d-b+4*d;     //substituting value of c in Eqn (3) from Eqn (2) \n",
"r=5*a-16*b;    \n",
"if(r==k) then\n",
"    disp('x=5 and y=16');    \n",
"end"
   ]
   }
,
{
		   "cell_type": "markdown",
		   "metadata": {},
		   "source": [
			"## Example 11.9: Fundamental_theorem_of_Arithmetic.sci"
		   ]
		  },
  {
"cell_type": "code",
	   "execution_count": null,
	   "metadata": {
	    "collapsed": true
	   },
	   "outputs": [],
"source": [
"a=2^4*3^3*7*11*13\n",
"b=2^3*3^2*5^2*11*17\n",
"V=int32([a,b]);\n",
"[d]=gcd(V)\n",
"lcm1=2^4*3^3*5^2*7*11*13*17   //lcm is the product of those primes which appear in either a or b"
   ]
   }
],
"metadata": {
		  "kernelspec": {
		   "display_name": "Scilab",
		   "language": "scilab",
		   "name": "scilab"
		  },
		  "language_info": {
		   "file_extension": ".sce",
		   "help_links": [
			{
			 "text": "MetaKernel Magics",
			 "url": "https://github.com/calysto/metakernel/blob/master/metakernel/magics/README.md"
			}
		   ],
		   "mimetype": "text/x-octave",
		   "name": "scilab",
		   "version": "0.7.1"
		  }
		 },
		 "nbformat": 4,
		 "nbformat_minor": 0
}
