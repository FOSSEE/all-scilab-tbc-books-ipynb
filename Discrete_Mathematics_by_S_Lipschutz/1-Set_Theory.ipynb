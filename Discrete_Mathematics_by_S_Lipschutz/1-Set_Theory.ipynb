{
"cells": [
 {
		   "cell_type": "markdown",
	   "metadata": {},
	   "source": [
       "# Chapter 1: Set Theory"
	   ]
	},
{
		   "cell_type": "markdown",
		   "metadata": {},
		   "source": [
			"## Example 1.13: Power_sets.sci"
		   ]
		  },
  {
"cell_type": "code",
	   "execution_count": null,
	   "metadata": {
	    "collapsed": true
	   },
	   "outputs": [],
"source": [
"x=10; //number of members of set X\n",
"P=2^x //number of members of the power set of X\n",
"q=P-1;//x itself is not the proper subset.Hence it isn't counted\n",
"disp(q,'number of members of powerset P which are proper subsets of x are:')"
   ]
   }
,
{
		   "cell_type": "markdown",
		   "metadata": {},
		   "source": [
			"## Example 1.14: Power_sets.sci"
		   ]
		  },
  {
"cell_type": "code",
	   "execution_count": null,
	   "metadata": {
	    "collapsed": true
	   },
	   "outputs": [],
"source": [
"A=[1,2,3,4,5];  //eatables for salad preparation 1=onion,2=tomato,3=carrot,4=cabbage,5=cucumber\n",
"p=length(A);   //total number of eatables available  \n",
"n=2^p-1;  //no salad can be made without atleast one of the eatables.Hence null set isn't counted\n",
"disp(n,'number of different salads that can be prepared using the given eatables')"
   ]
   }
,
{
		   "cell_type": "markdown",
		   "metadata": {},
		   "source": [
			"## Example 1.18: Mathematical_induction.sci"
		   ]
		  },
  {
"cell_type": "code",
	   "execution_count": null,
	   "metadata": {
	    "collapsed": true
	   },
	   "outputs": [],
"source": [
"U1=1;  //given\n",
"U2=5;  //given\n",
"P=[];\n",
"for i=1:2\n",
"P(i)=3^i-2^i;  \n",
"disp(P(i))\n",
"end \n",
"disp('P(1)=U(1) and P(2)=U(2)');\n",
"disp('hence Un=3^n-2^n for all n belonging to N');"
   ]
   }
,
{
		   "cell_type": "markdown",
		   "metadata": {},
		   "source": [
			"## Example 1.8: inclusion_exclusion_principle.sci"
		   ]
		  },
  {
"cell_type": "code",
	   "execution_count": null,
	   "metadata": {
	    "collapsed": true
	   },
	   "outputs": [],
"source": [
"disp('To find:number of mathematics students taking atleast one of the languages French(F),German(G) and Russian(R)')\n",
"F=65; //number of students studying French\n",
"G=45;  // number of students studying German\n",
"R=42;  //number of students studying Russian\n",
"FandG=20;  //number of students studying French and German\n",
"FandR=25;  //number of students studying French and Russian\n",
"GandR=15;   //number of students studying German and Russian\n",
"FandGandR=8; //number of students studying French,German and Russian\n",
" //By inclusion-exclusion principle\n",
" ForGorR=F+G+R-FandG-FandR-GandR+FandGandR;\n",
"disp(ForGorR,'the number of students studying atleast one of the languages :')"
   ]
   }
,
{
		   "cell_type": "markdown",
		   "metadata": {},
		   "source": [
			"## Example 1.9: Inclusion_exclusion_principle.sci"
		   ]
		  },
  {
"cell_type": "code",
	   "execution_count": null,
	   "metadata": {
	    "collapsed": true
	   },
	   "outputs": [],
"source": [
"disp('In a college,120 mathematics students can opt for either French(F),German(G) or Russian(R)')\n",
"n=120;  //total number of students\n",
"F=65;  //number of students studying French\n",
"G=45;  //number of students studying German\n",
"R=42;  //number of students studying Russian\n",
"FandG=20;  //number of students studying French and German\n",
"FandR=25;  //number of students studying French and Russian\n",
"GandR=15;  //number of students studying German and Russian\n",
"FandGandR=8;  //number of students studying French,German and Russian\n",
"disp('using inclusion-exclusion principle:')\n",
"ForGorR=F+G+R-FandG-FandR-GandR+FandGandR; \n",
"disp(ForGorR,'number of students studying French or German or Russian')\n",
"FGnR=FandG-FandGandR;  \n",
"disp(FGnR,'number of students studying French and German but not Russian')\n",
"FRnG=FandR-FandGandR ;\n",
"disp(FRnG,'number of students studying French and Russian but not German')\n",
"GRnF=GandR-FandGandR ; \n",
"disp(GRnF,'number of students studying German and Russian but not French')\n",
"OF=F-FGnR-FandGandR-FRnG ; \n",
"disp(OF,'number of students studying  Only French')\n",
"OG=G-FGnR-FandGandR-GRnF;  \n",
"disp(OG,'number of students studying  Only German')\n",
"OR=R-FRnG-FandGandR-GRnF;  \n",
"disp(OR,'number of students studying  Only Russian')\n",
"k=n-ForGorR; \n",
"disp(k,'number of students not studying any of the languages')"
   ]
   }
],
"metadata": {
		  "kernelspec": {
		   "display_name": "Scilab",
		   "language": "scilab",
		   "name": "scilab"
		  },
		  "language_info": {
		   "file_extension": ".sce",
		   "help_links": [
			{
			 "text": "MetaKernel Magics",
			 "url": "https://github.com/calysto/metakernel/blob/master/metakernel/magics/README.md"
			}
		   ],
		   "mimetype": "text/x-octave",
		   "name": "scilab",
		   "version": "0.7.1"
		  }
		 },
		 "nbformat": 4,
		 "nbformat_minor": 0
}
