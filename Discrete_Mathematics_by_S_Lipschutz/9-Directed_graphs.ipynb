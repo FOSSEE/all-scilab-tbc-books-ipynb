{
"cells": [
 {
		   "cell_type": "markdown",
	   "metadata": {},
	   "source": [
       "# Chapter 9: Directed graphs"
	   ]
	},
{
		   "cell_type": "markdown",
		   "metadata": {},
		   "source": [
			"## Example 9.6: Adjacency_matrix.sci"
		   ]
		  },
  {
"cell_type": "code",
	   "execution_count": null,
	   "metadata": {
	    "collapsed": true
	   },
	   "outputs": [],
"source": [
"A=[0 0 0 1;1 0 1 1;1 0 0 1;1 0 1 0];\n",
"disp(A,'adjacency matrix of graph G is')\n",
"A2=A^2\n",
"A3=A^3\n",
"disp('the number of ones in A is equal to the number of edges  in the graph i.e 8')"
   ]
   }
,
{
		   "cell_type": "markdown",
		   "metadata": {},
		   "source": [
			"## Example 9.8: Path_matrix.sci"
		   ]
		  },
  {
"cell_type": "code",
	   "execution_count": null,
	   "metadata": {
	    "collapsed": true
	   },
	   "outputs": [],
"source": [
"A=[0 0 0 1;1 0 1 1;1 0 0 1;1 0 1 0];\n",
"disp(A,'adjacency matrix of graph G is')\n",
"A4=A^4;\n",
"A3=A^3;\n",
"A2=A^2;\n",
"B4=A+A2+A3+A4;\n",
"B4=[4 11 7 7 0 0 0 0 3 7 4 4 4 11 7 7];\n",
"for i=1:16\n",
"if(B4(i)~=0) then\n",
"B4(i)=1;\n",
"end\n",
"end\n",
"disp(B4,'Replacing non zero entries of B4 with 1 ,we get path (reachability) matrix P is:')\n",
"disp('there are zero entries in P,therefore the graph is not strongly connected')"
   ]
   }
],
"metadata": {
		  "kernelspec": {
		   "display_name": "Scilab",
		   "language": "scilab",
		   "name": "scilab"
		  },
		  "language_info": {
		   "file_extension": ".sce",
		   "help_links": [
			{
			 "text": "MetaKernel Magics",
			 "url": "https://github.com/calysto/metakernel/blob/master/metakernel/magics/README.md"
			}
		   ],
		   "mimetype": "text/x-octave",
		   "name": "scilab",
		   "version": "0.7.1"
		  }
		 },
		 "nbformat": 4,
		 "nbformat_minor": 0
}
