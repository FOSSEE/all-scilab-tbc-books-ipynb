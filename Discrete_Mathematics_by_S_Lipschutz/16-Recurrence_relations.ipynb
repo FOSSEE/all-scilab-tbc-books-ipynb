{
"cells": [
 {
		   "cell_type": "markdown",
	   "metadata": {},
	   "source": [
       "# Chapter 16: Recurrence relations"
	   ]
	},
{
		   "cell_type": "markdown",
		   "metadata": {},
		   "source": [
			"## Example 16.14: Linear_homogenous_recurrence_relations_with_constant_coefficients.sci"
		   ]
		  },
  {
"cell_type": "code",
	   "execution_count": null,
	   "metadata": {
	    "collapsed": true
	   },
	   "outputs": [],
"source": [
"a=[];\n",
"a(1)=1;  //initial condition\n",
"a(2)=2;  //initial condition\n",
" disp('for recurrence relation a(n)=5*a(n-1)-4*a(n-2)+n^2') //this is a second order recurrence relation with constant coefficients.It is non homogenous because of the n^2\n",
"for n=3:4\n",
"a(n)=5*a(n-1)-4*a(n-2)+n^2;\n",
"mprintf('Value of a(%i) is: %i \n',n,a(n))\n",
"end\n",
" \n",
"a=[];\n",
"a(1)=1;   //initial condition\n",
"a(2)=2;   //initial condition\n",
"disp('for recurrence relation a(n)=2*a(n-1)*a(n-2)+n^2')  //this recurrence relation is not linear\n",
"for n=3:4\n",
"a(n)=2*a(n-1)*a(n-2)+n^2;\n",
"mprintf('Value of a(%i) is: %i \n',n,a(n))\n",
"end\n",
" \n",
"a=[];\n",
"a(1)=1;    //initial condition\n",
"a(2)=2;    //initial condition\n",
"disp('for recurrence relation a(n)=n*a(n-1)+3*a(n-2)')   //this is a homogenous linear second order recurrence relation without constant coefficients because the coefficient of a[n-1] is n,not a constant\n",
"for n=3:4\n",
"a(n)=n*a(n-1)+3*a(n-2);\n",
"mprintf('Value of a(%i) is: %i \n',n,a(n))\n",
"end\n",
"\n",
" \n",
"a=[];\n",
"a(1)=1;      //initial condition\n",
"a(2)=2;      //initial condition\n",
"a(3)=1;      //initial condition\n",
"disp('for recurrence relation a(n)=2*a(n-1)+5*a(n-2)-6*a(n-3)') //this is a homogenous linear third order recurrence relation with constant coefficients.Thus we need three,not two,initial conditions to yield a unique solution of the recurrence relation\n",
"for n=4:6\n",
"a(n)=2*a(n-1)+5*a(n-2)-6*a(n-3);\n",
"mprintf('Value of a(%i) is: %i \n',n,a(n))\n",
"end"
   ]
   }
,
{
		   "cell_type": "markdown",
		   "metadata": {},
		   "source": [
			"## Example 16.15: Solving_linear_homogenous_recurrence_relations_with_constant_coefficients.sci"
		   ]
		  },
  {
"cell_type": "code",
	   "execution_count": null,
	   "metadata": {
	    "collapsed": true
	   },
	   "outputs": [],
"source": [
"disp('recurrence relation of Fibonacci numbers f[n]=f[n-1]+f[n-2]')  \n",
"x=poly(0,'x');\n",
"g=x^2-x-1;\n",
"disp(g,'characterstic equation of the recurrence relation is:')\n",
"j=[];  \n",
"j=roots(g);\n",
"disp(j,'roots of the characterstic equation j1,j2')\n",
"disp('for general equation fn=Ar^n+Br^n,values of Aand B respectively are calculated as:')\n",
"disp('initial condition at n=0 and n=1 respectively are:')\n",
"f1=1;  \n",
"f2=1;  \n",
"//putting the values of f1 and f2 we get the equations to solve \n",
"D=[ 1.6180340 -0.618034;(1.6180340)^2  (-0.618034)^2];\n",
"K=[1 1]';\n",
"c=[];\n",
"c=D\K;\n",
"A=c(1)\n",
"B=c(2)\n",
"\n",
"disp('thus the solution is f[n]=0.4472136*((1.618034)^n-(- 0.4472136)^n)]')"
   ]
   }
,
{
		   "cell_type": "markdown",
		   "metadata": {},
		   "source": [
			"## Example 16.16: Solving_linear_homogenous_recurrence_relations_with_constant_coefficients.sci"
		   ]
		  },
  {
"cell_type": "code",
	   "execution_count": null,
	   "metadata": {
	    "collapsed": true
	   },
	   "outputs": [],
"source": [
"disp('The recurrence relation t[n]=3t[n-1]+4t[n-2]')\n",
"x=poly(0,'x');\n",
"g=x^2-3*x-4;\n",
"disp(g,'characterstic polynomial equation for the above recurrence relation') \n",
"j=[];  \n",
"j=roots(g); \n",
"disp(j,'roots of the characterstic equation j1,j2')\n",
"disp('general solution t[n]=c1*(-1)^n+c2*4^n)') \n",
"disp('initial condition at n=0 and n=1 respectively are:')\n",
"t0=0;\n",
"t1=5;\n",
"//putting the values of t0 and t1 we get the equations to solve\n",
"D=[1 1;-1 4]\n",
"K=[0 5]'\n",
"c=[];\n",
"c=D\K;\n",
"c1=c(1)\n",
"c2=c(2)\n",
"disp('thus the solution is t{n}=4^n-(-1)^n')"
   ]
   }
,
{
		   "cell_type": "markdown",
		   "metadata": {},
		   "source": [
			"## Example 16.17: Solving_linear_homogenous_recurrence_relations_with_constant_coefficients.sci"
		   ]
		  },
  {
"cell_type": "code",
	   "execution_count": null,
	   "metadata": {
	    "collapsed": true
	   },
	   "outputs": [],
"source": [
"disp('The recurrence relation t[n]=4(t[n-1]-t[n-2])')\n",
"x=poly(0,'x');\n",
"disp(g=x^2-4*x+4,'characterstic polynomial equation for the above recurrence relation') \n",
"j=[];  \n",
"j=roots(g);\n",
"disp(j,'roots of the characterstic equation j1,j2')\n",
"disp('the general solution is t[n]=n*2^n) \n",
"disp('initial condition at n=0 and n=1 respectively are:')\n",
"t0=1;\n",
"t1=1;\n",
"//putting the values of t0 and t1 we get the equations to solve\n",
"D=[1 0;2 2]\n",
"K=[1 1]'\n",
"c=linsolve(D,K)\n",
"D=[1 0;2 2]\n",
"K=[1 1]'\n",
"c=[];\n",
"c=D\K;\n",
"c1=c(1)\n",
"c2=c(2)\n",
"disp('thus the solution is t{n}=2*n-n*2^(n-1)')"
   ]
   }
,
{
		   "cell_type": "markdown",
		   "metadata": {},
		   "source": [
			"## Example 16.18: Solving_linear_homogenous_recurrence_relations_with_constant_coefficients.sci"
		   ]
		  },
  {
"cell_type": "code",
	   "execution_count": null,
	   "metadata": {
	    "collapsed": true
	   },
	   "outputs": [],
"source": [
"disp('The recurrence relation a[n]=2*a[n-1]-3a[n-2]')\n",
"x=poly(0,'x');\n",
"disp(g=x^2-2*x-3,'characterstic polynomial equation for the above recurrence relation') \n",
"j=[];  \n",
"j=roots(g);\n",
"disp(j,'roots of the characterstic equation j1,j2')\n",
"disp('the general solution is a[n]=c1*3^n+c2*(-1)^n') \n",
"disp('initial condition at n=0 and n=1 respectively are:')\n",
"//putting the values of t0 and t1 we get the equations to solve\n",
"a0=1;\n",
"a1=2;\n",
"D=[1 1;3 -1]\n",
"K=[1 2]'\n",
"c=[];\n",
"c=D\K;\n",
"c1=c(1)\n",
"c2=c(2)\n",
"disp('thus the solution is a[n]=0.75*(3^n)+0.25*(1^n)')"
   ]
   }
,
{
		   "cell_type": "markdown",
		   "metadata": {},
		   "source": [
			"## Example 16.19: Solving_general_homogenous_linear_recurrence_relations.sci"
		   ]
		  },
  {
"cell_type": "code",
	   "execution_count": null,
	   "metadata": {
	    "collapsed": true
	   },
	   "outputs": [],
"source": [
"disp('The recurrence relation a[n]=11*a[n-1]-39*a[n-2]+45*a[n-3]')\n",
"x=poly(0,'x');\n",
"disp(g=x^3-11*x^2+39*x-45,'characterstic polynomial equation for the above recurrence relation') \n",
"j=[]; \n",
"j=roots(g);\n",
"disp(j,'roots of the characterstic equation j1,j2')\n",
"disp('hence the general solution is:a[n]=c1*(3^n)+c2*n*(3^n)+c3*(5^n)')\n",
"disp('initial condition at n=0 and n=1 respectively are:')\n",
"//putting the values of t0 and t1 we get the equations to solve\n",
"a0=5;\n",
"a1=11;\n",
"a2=25;\n",
"D=[1 0 1;3 3 5;9 18 25];\n",
"K=[5 11 25]'\n",
"c=[];\n",
"c=D\K;\n",
"c1=c(1)\n",
"c2=c(2)\n",
"c3=c(3)\n",
"disp('thus the solution is a[n]=(4-2*n)*(3^n)+5^n')"
   ]
   }
],
"metadata": {
		  "kernelspec": {
		   "display_name": "Scilab",
		   "language": "scilab",
		   "name": "scilab"
		  },
		  "language_info": {
		   "file_extension": ".sce",
		   "help_links": [
			{
			 "text": "MetaKernel Magics",
			 "url": "https://github.com/calysto/metakernel/blob/master/metakernel/magics/README.md"
			}
		   ],
		   "mimetype": "text/x-octave",
		   "name": "scilab",
		   "version": "0.7.1"
		  }
		 },
		 "nbformat": 4,
		 "nbformat_minor": 0
}
