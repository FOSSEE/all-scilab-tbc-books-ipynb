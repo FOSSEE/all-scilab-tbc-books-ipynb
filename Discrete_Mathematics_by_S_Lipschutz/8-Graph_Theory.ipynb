{
"cells": [
 {
		   "cell_type": "markdown",
	   "metadata": {},
	   "source": [
       "# Chapter 8: Graph Theory"
	   ]
	},
{
		   "cell_type": "markdown",
		   "metadata": {},
		   "source": [
			"## Example 8.1: Paths_and_connectivity.sci"
		   ]
		  },
  {
"cell_type": "code",
	   "execution_count": null,
	   "metadata": {
	    "collapsed": true
	   },
	   "outputs": [],
"source": [
"// refer to page 8.6\n",
"disp('given a graph with 6 nodes viz. node1,node2....node6')\n",
"A=[0 1 0 1 1 0;1 0 1 0 1 0;0 1 0 0 0 1;1 0 0 0 0 0;1 1 0 0 0 0;0 0 1 0 0 0];\n",
"disp(A,'The adjacency matrix for A is')\n",
"disp('sequence A is a path from node4 to node6; but it is not a trail since the edge from node1 to node2 is used twice')\n",
"B=[0 0 0 1 1 0;0 0 0 0 1 1;0 0 0 0 0 0;1 0 0 0 0 0;1 1 0 0 0 0;0 1 0 0 0 0];\n",
"disp(B,'The adjacency matrix for B is')\n",
"disp('sequence B is not a path since there is no edge from node2 to node6 is used twice')\n",
"C=[0 0 0 1 1 0;0 0 1 0 1 0;0 1 0 0 1 0;1 0 0 0 0 0;1 1 1 0 0 1;0 0 0 0 1 0];\n",
"disp(C,'The adjacency matrix for C is')\n",
"disp('sequence C is a trail since is no edge is used twice')\n",
"D=[0 0 0 1 1 0;0 0 0 0 0 0;0 0 0 0 1 1;1 0 0 0 0 0;1 0 1 0 0 0;0 0 1 0 0 0];\n",
"disp(D,'The adjacency matrix for D is')\n",
"disp('sequence D is a simple path from node4 to node6')"
   ]
   }
,
{
		   "cell_type": "markdown",
		   "metadata": {},
		   "source": [
			"## Example 8.2: Minimum_spanning_tree.sci"
		   ]
		  },
  {
"cell_type": "code",
	   "execution_count": null,
	   "metadata": {
	    "collapsed": true
	   },
	   "outputs": [],
"source": [
"disp('to find:minimal spanning tree')\n",
"disp('the adjacency matrix for the weighted graph(nodeA,nodeB...nodeF) of 6 nodes is :')\n",
"K=[0 0 7 0 4 7;0 0 8 3 7 5;7 8 0 0 6 0;0 3 0 0 0 4;4 7 6 0 0 0;7 5 0 4 0 0]\n",
"disp('edges of the graph')\n",
"AC=7;  \n",
"AE=4;\n",
"AF=7;\n",
"BC=8;\n",
"BD=3;\n",
"BE=7;\n",
"BF=5;\n",
"CE=6;\n",
"DF=4;\n",
"M=[AC,AE,AF,BC,BD,BE,BF,CE,DF];  //set of all edges\n",
"V=int32(M);\n",
"L=gsort(V) //edges sorted in decreasing order of their weights\n",
"disp('deleting edges without disconnecting the graph until 5 edges remain')\n",
"N=[BE,CE,AE,DF,BD];  //edges in minimum spanning tree\n",
"Sum=sum(N);\n",
"disp(Sum,'weight of the minimal spanning tree is')\n",
"\n",
"\n",
"disp('another method of finding a minimal spanning tree is :')\n",
"K=gsort(V,'g','i')   //edges sorted in increasing order\n",
"N2=[BD,AE,DF,CE,AF];  //edges in minimum spanning tree\n",
"Sum2=sum(N2);\n",
"disp(Sum2,'weight of the minimal spanning tree is')"
   ]
   }
],
"metadata": {
		  "kernelspec": {
		   "display_name": "Scilab",
		   "language": "scilab",
		   "name": "scilab"
		  },
		  "language_info": {
		   "file_extension": ".sce",
		   "help_links": [
			{
			 "text": "MetaKernel Magics",
			 "url": "https://github.com/calysto/metakernel/blob/master/metakernel/magics/README.md"
			}
		   ],
		   "mimetype": "text/x-octave",
		   "name": "scilab",
		   "version": "0.7.1"
		  }
		 },
		 "nbformat": 4,
		 "nbformat_minor": 0
}
