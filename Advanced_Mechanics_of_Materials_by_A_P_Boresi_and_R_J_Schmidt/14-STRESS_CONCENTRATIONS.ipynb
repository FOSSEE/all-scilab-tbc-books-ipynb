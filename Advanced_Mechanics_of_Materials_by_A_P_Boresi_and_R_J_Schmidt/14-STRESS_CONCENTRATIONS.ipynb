{
"cells": [
 {
		   "cell_type": "markdown",
	   "metadata": {},
	   "source": [
       "# Chapter 14: STRESS CONCENTRATIONS"
	   ]
	},
{
		   "cell_type": "markdown",
		   "metadata": {},
		   "source": [
			"## Example 14.1: Example1.sce"
		   ]
		  },
  {
"cell_type": "code",
	   "execution_count": null,
	   "metadata": {
	    "collapsed": true
	   },
	   "outputs": [],
"source": [
"clc\n",
"// initialization of variables\n",
"clear\n",
"// part (a)\n",
"ab_r=100\n",
"Sigma_1=-20 //MPa\n",
"Sigma_2=-75 //MPa\n",
"alphao=0.01 //rad\n",
"//calculations\n",
"A=(Sigma_1+Sigma_2)/(Sigma_1-Sigma_2)\n",
"th=1/2*acos((A*sinh(2*alphao)-1/2*(sinh(2*alphao)+cosh(2*alphao)))/A)\n",
"printf('pat (a)')\n",
"printf('\n theta = %.4f rad',th)\n",
"//part (b)\n",
"S_bb=-(Sigma_1-Sigma_2)^2/(2*(Sigma_1+Sigma_2))*(1+cosh(2*alphao)/sinh(2*alphao))\n",
"printf('\n part (b)')\n",
"printf('\n Maximum tensile stress = %d MPa',S_bb)\n",
"//part (c)\n",
"Beta=exp(2*alphao)*cosh(2*alphao)-2*A^2*(sinh(2*alphao))^2\n",
"Beta=1/2*acos(Beta/(exp(2*alphao)))\n",
"printf('\n part (c)')\n",
"printf('\n Beta = %.4f rad',Beta)"
   ]
   }
,
{
		   "cell_type": "markdown",
		   "metadata": {},
		   "source": [
			"## Example 14.2: Example2.sce"
		   ]
		  },
  {
"cell_type": "code",
	   "execution_count": null,
	   "metadata": {
	    "collapsed": true
	   },
	   "outputs": [],
"source": [
"clc\n",
"// initialization of variables\n",
"clear\n",
"S_u=420 //MPa\n",
"SF=4.00\n",
"D=110 //mm\n",
"d=50.0 //mm\n",
"w=20 //mm\n",
"rho=10.0 //mm\n",
"SF=4.0\n",
"//calculations\n",
"t=(D-d)/2\n",
"tr=t/rho\n",
"rd=rho/d\n",
"S_cs=1+2*sqrt(tr)\n",
"A=w*d\n",
"Pf=S_u*A/1.83\n",
"P=Pf/SF\n",
"printf('P = %.1f kN',P/10^3)\n",
""
   ]
   }
,
{
		   "cell_type": "markdown",
		   "metadata": {},
		   "source": [
			"## Example 14.3: Example3.sce"
		   ]
		  },
  {
"cell_type": "code",
	   "execution_count": null,
	   "metadata": {
	    "collapsed": true
	   },
	   "outputs": [],
"source": [
"clc\n",
"// initialization of variables\n",
"clear\n",
"//part(a)\n",
"H=200 //mm\n",
"h=100 //mm\n",
"rho=10 //mm\n",
"Sigma_u=250 //MPa\n",
"P=1.5 //kN\n",
"L=1.4 //m\n",
"b=40 //mm\n",
"P=P*10^3\n",
"L=L*10^3\n",
"Hr=H/h\n",
"rh=rho/h\n",
"S_cc=1.77\n",
"c=h/2\n",
"I=b*h^3/12\n",
"S_max=S_cc*P*L*c/I\n",
"printf('part (a)')\n",
"printf('\n Flexural design stress = %.1f MPa',S_max)\n",
"//part (b)\n",
"SF=Sigma_u*I/(S_cc*P*L*c)\n",
"printf('\n part (b)')\n",
"printf('\n SF =%.2f ',SF)\n",
""
   ]
   }
],
"metadata": {
		  "kernelspec": {
		   "display_name": "Scilab",
		   "language": "scilab",
		   "name": "scilab"
		  },
		  "language_info": {
		   "file_extension": ".sce",
		   "help_links": [
			{
			 "text": "MetaKernel Magics",
			 "url": "https://github.com/calysto/metakernel/blob/master/metakernel/magics/README.md"
			}
		   ],
		   "mimetype": "text/x-octave",
		   "name": "scilab",
		   "version": "0.7.1"
		  }
		 },
		 "nbformat": 4,
		 "nbformat_minor": 0
}
