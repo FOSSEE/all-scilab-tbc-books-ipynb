{
"cells": [
 {
		   "cell_type": "markdown",
	   "metadata": {},
	   "source": [
       "# Chapter 12: ELASTIC AND INELSTIC STABILITY OF COLUMNS"
	   ]
	},
{
		   "cell_type": "markdown",
		   "metadata": {},
		   "source": [
			"## Example 12.3: Example3.sce"
		   ]
		  },
  {
"cell_type": "code",
	   "execution_count": null,
	   "metadata": {
	    "collapsed": true
	   },
	   "outputs": [],
"source": [
"clc\n",
"// initialization of variables\n",
"clear\n",
"b=25 //mm\n",
"L=250 //mm\n",
"E_T=31 //GPa\n",
"Sigma_T=262 //MPa // From the curve\n",
"r=b/sqrt(12)\n",
"Q=%pi^2*E_T/((L/r)^2)\n",
"// Since this is not close enough, increment E_T\n",
"E_T=31.6 //GPa\n",
"Q=%pi^2*E_T/((L/r)^2)\n",
"P_T=Q*b^2\n",
"printf('Buckling load is %d kN',P_T)"
   ]
   }
,
{
		   "cell_type": "markdown",
		   "metadata": {},
		   "source": [
			"## Example 12.5: Example5.sce"
		   ]
		  },
  {
"cell_type": "code",
	   "execution_count": null,
	   "metadata": {
	    "collapsed": true
	   },
	   "outputs": [],
"source": [
"clc\n",
"// initialization of variables\n",
"clear\n",
"L=1 //m\n",
"b=40 //mm\n",
"h=75 //mm\n",
"SF=2.5\n",
"K=1\n",
"L=L*10^3\n",
"Iy=b*h^3/12\n",
"A=b*h\n",
"ry=sqrt(Iy/A)\n",
"K_y=K*L/ry\n",
"rz=b/sqrt(12)\n",
"K=0.5\n",
"K_z=K*L/rz\n",
"S_cr=229 //MPa\n",
"P_cr=S_cr*A\n",
"P=P_cr/SF\n",
"printf('P = %d kN',P/10^3)"
   ]
   }
],
"metadata": {
		  "kernelspec": {
		   "display_name": "Scilab",
		   "language": "scilab",
		   "name": "scilab"
		  },
		  "language_info": {
		   "file_extension": ".sce",
		   "help_links": [
			{
			 "text": "MetaKernel Magics",
			 "url": "https://github.com/calysto/metakernel/blob/master/metakernel/magics/README.md"
			}
		   ],
		   "mimetype": "text/x-octave",
		   "name": "scilab",
		   "version": "0.7.1"
		  }
		 },
		 "nbformat": 4,
		 "nbformat_minor": 0
}
