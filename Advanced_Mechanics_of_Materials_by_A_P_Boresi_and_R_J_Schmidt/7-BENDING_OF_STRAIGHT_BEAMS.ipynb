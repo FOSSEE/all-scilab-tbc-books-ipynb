{
"cells": [
 {
		   "cell_type": "markdown",
	   "metadata": {},
	   "source": [
       "# Chapter 7: BENDING OF STRAIGHT BEAMS"
	   ]
	},
{
		   "cell_type": "markdown",
		   "metadata": {},
		   "source": [
			"## Example 7.1: Example1.sce"
		   ]
		  },
  {
"cell_type": "code",
	   "execution_count": null,
	   "metadata": {
	    "collapsed": true
	   },
	   "outputs": [],
"source": [
"clc\n",
"// initialization of variables\n",
"clear\n",
"E=200 //G Pa\n",
"Y=250 //M Pa\n",
"SF=1.9\n",
"w=1 //kN/m\n",
"L=3 //m\n",
"S_max=Y\n",
"// Calculations\n",
"E=E*10^9\n",
"Y=Y*10^6\n",
"w=w*10^3\n",
"Mx=-SF*w*L^2/2\n",
"S_max=S_max*10^6\n",
"k=2 // c_max=h/k\n",
"//Formula to be used\n",
"// S_max=abs(Mx)*c_max/Ix\n",
"// Note that c_max=h/2 and Ix=h^4/24\n",
"h=(abs(Mx)*24/(k*S_max))^(1/3)\n",
"printf('h = %.4f m',h)"
   ]
   }
,
{
		   "cell_type": "markdown",
		   "metadata": {},
		   "source": [
			"## Example 7.2: Example2.sce"
		   ]
		  },
  {
"cell_type": "code",
	   "execution_count": null,
	   "metadata": {
	    "collapsed": true
	   },
	   "outputs": [],
"source": [
"clc\n",
"// initialization of variables\n",
"clear\n",
"P1=1.5 //kN\n",
"P2=4.5 //kN\n",
"// part (a)\n",
"A=1000 //mm^2\n",
"A1=500 //mm^2\n",
"A2=500 //mm^2\n",
"//calculation\n",
"A=A*10^-6\n",
"A1=A1*10^-6\n",
"A2=A2*10^-6\n",
"y1=25*10^-3\n",
"y2=55*10^-3\n",
"c1=(A1*y1+A2*y2)/A\n",
"c2=60*10^-3-c1 // c1+c2=60 mm\n",
"y_1=c1-25*10^-3\n",
"y_2=c2-5*10^-3\n",
"b1=50*10^-3\n",
"h1=10*10^-3\n",
"h2=50*10^-3\n",
"b2=10*10^-3\n",
"Ix=1/12*b1*h1^3 + A1*y_1^2 + 1/12*b2*h2^3 + A2*y_2^2\n",
"printf('part (a)')\n",
"R1=2550 //N\n",
"Vy=750 //N\n",
"Mx=975 //N.m\n",
"S_zzT=Mx*c1/Ix\n",
"S_zzC=Mx*(-c2)/Ix\n",
"printf('\n Maximum Tensile stress = %.1f MPa',S_zzT/10^6)\n",
"printf('\n Maximum Compressive stress = %.1f MPa',S_zzC/10^6)"
   ]
   }
,
{
		   "cell_type": "markdown",
		   "metadata": {},
		   "source": [
			"## Example 7.3: Example3.sce"
		   ]
		  },
  {
"cell_type": "code",
	   "execution_count": null,
	   "metadata": {
	    "collapsed": true
	   },
	   "outputs": [],
"source": [
"clc\n",
"// initialization of variables\n",
"clear\n",
"P=12 //kN\n",
"Phi=%pi/3\n",
"// calculations\n",
"L=3 //m\n",
"P=12 //kN\n",
"A=10000 //mm^2\n",
"Ix=39.69*10^6 //mm^4\n",
"yo=82 //mm\n",
"Iy=30.73*10^6 //mm^4\n",
"Ixy=0\n",
"P=P*10^3\n",
"Ix=Ix*10^-12\n",
"Iy=Iy*10^-12\n",
"alpha=atan(-Ix/(Iy*tan(Phi)))\n",
"M=-L*P\n",
"Mx=M*sin(Phi)\n",
"yA=-118*10^-3 //m\n",
"xA=-70*10^-3 //m\n",
"xB=-xA\n",
"yB=82*10^-3 //m\n",
"S_A=Mx*(yA-xA*tan(alpha))/(Ix-Ixy*tan(alpha))\n",
"S_B=Mx*(yB-xB*tan(alpha))/(Ix-Ixy*tan(alpha))\n",
"printf(' Sigma A = %.1f M Pa \n',S_A/10^6)\n",
"printf(' Sigma B = %.1f M Pa',S_B/10^6)"
   ]
   }
,
{
		   "cell_type": "markdown",
		   "metadata": {},
		   "source": [
			"## Example 7.4: Example4.sce"
		   ]
		  },
  {
"cell_type": "code",
	   "execution_count": null,
	   "metadata": {
	    "collapsed": true
	   },
	   "outputs": [],
"source": [
"clc\n",
"// initialization of variables\n",
"clear\n",
"P=4 //kN\n",
"L=1.2 //m\n",
"A=1900 //mm^2\n",
"Ix=2.783*10^6 //mm^4\n",
"Iy=1.003*10^6 //mm^4\n",
"Ixy=-0.973*10^6 //mm^4\n",
"P=P*10^3\n",
"Ix=Ix*10^-12\n",
"Iy=Iy*10^-12\n",
"Ixy=Ixy*10^-12\n",
"A=1900 //mm^2\n",
"xo=19.74 //mm\n",
"yo=39.74 //mm\n",
"Phi=2*%pi/3\n",
"Nr=Ixy-Ix/tan(Phi)\n",
"Dr=Iy-Ixy/tan(Phi)\n",
"alpha=atan(Nr/Dr)\n",
"M=L*P\n",
"Mx=M*sin(Phi)\n",
"yA=39.74*10^-3 //m\n",
"xA=-60.26*10^-3 //m\n",
"xB=19.74*10^-3\n",
"yB=-80.26*10^-3 //m\n",
"S_A=Mx*(yA-xA*tan(alpha))/(Ix-Ixy*tan(alpha))\n",
"S_B=Mx*(yB-xB*tan(alpha))/(Ix-Ixy*tan(alpha))\n",
"printf('part (a)')\n",
"printf('\n Sigma A = %.1f M Pa \n',S_A/10^6)\n",
"printf(' Sigma B = %.1f M Pa',S_B/10^6)\n",
"\n",
"// part (b)\n",
"th=1/2*atan(-2*Ixy/(Ix-Iy))\n",
"th1=0.415 //rad\n",
"th2=-1.156 //rad\n",
"IX=Ix*(cos(th1))^2+Iy*(sin(th1))^2-2*Ixy*sin(th1)*cos(th1)\n",
"IY=Ix+Iy-IX\n",
"Phi=2*%pi/3-th1\n",
"alphA=-IX/(IY*tan(Phi))\n",
"alpha=alphA+th1\n",
"XA=xA*cos(th1)+yA*sin(th1)\n",
"YA=yA*cos(th1)-xA*sin(th1)\n",
"XB=xB*cos(th1)+yB*sin(th1)\n",
"YB=yB*cos(th1)-xB*sin(th1)\n",
"MX=M*sin(Phi)\n",
"MY=-M*cos(Phi)\n",
"S_A=MX*YA/IX-MY*XA/IY\n",
"S_B=MX*YB/IX-MY*XB/IY\n",
"printf('\n part (b)')\n",
"printf('\n Sigma A = %.1f M Pa \n',S_A/10^6)\n",
"printf(' Sigma B = %.1f M Pa',S_B/10^6)"
   ]
   }
,
{
		   "cell_type": "markdown",
		   "metadata": {},
		   "source": [
			"## Example 7.5: Example5.sce"
		   ]
		  },
  {
"cell_type": "code",
	   "execution_count": null,
	   "metadata": {
	    "collapsed": true
	   },
	   "outputs": [],
"source": [
"clc\n",
"// initialization of variables\n",
"clear\n",
"A=3085.9 //mm^2\n",
"Ix=29.94e-6 //m^4\n",
"Iy=4.167e-6 //m^4\n",
"Ixy=0\n",
"ybar=207.64 //mm\n",
"tau_max=165e6 //Pa\n",
"//calculations\n",
"A=A*1e-6\n",
"ybar=ybar*1e-3\n",
"Mxk=-6.1*cos(%pi/6) // Mx=Mxk*P\n",
"Myk=-6.1*sin(%pi/6) //My=Myk*P\n",
"// Equation to be followed\n",
"// S_zz=Mx*y/Ix-My*x/Iy\n",
"// At A x=100 mm  y=-92.36 mm \n",
"x=100e-3\n",
"y=-92.36e-3\n",
"S_zzA=Mxk*y/Ix-Myk*x/Iy //Sigma_zz=S_zz*P\n",
"// At B x=-100 mm  y=-92.36 mm \n",
"x=-100e-3\n",
"y=-92.36e-3\n",
"S_zzB=Mxk*y/Ix-Myk*x/Iy //Sigma_zz=S_zz*P\n",
"// At C x=-3.125 mm  y=207.64 mm \n",
"x=-3.125e-3\n",
"y=207.64e-3\n",
"S_zzC=Mxk*y/Ix-Myk*x/Iy //Sigma_zz=S_zz*P\n",
"// To find P\n",
"P=2*tau_max/max(S_zzA,S_zzB,S_zzC)\n",
"printf('P = %.2f kN',P/10^3)"
   ]
   }
,
{
		   "cell_type": "markdown",
		   "metadata": {},
		   "source": [
			"## Example 7.6: Example6.sce"
		   ]
		  },
  {
"cell_type": "code",
	   "execution_count": null,
	   "metadata": {
	    "collapsed": true
	   },
	   "outputs": [],
"source": [
"clc\n",
"// initialization of variables\n",
"clear\n",
"P=35 //kN\n",
"Phi=5*%pi/9\n",
"E=72e9 //Pa\n",
"L=3 //m\n",
"Ix=39.69*10^6 //mm^4\n",
"Iy=30.73*10^6 //mm^4\n",
"Ixy=0\n",
"//calculations\n",
"P=P*1e3\n",
"Ix=Ix*10^-12\n",
"Iy=Iy*10^-12\n",
"alpha=atan(-Ix/(Iy*tan(Phi)))\n",
"M=P*L/4\n",
"Mx=M*sin(Phi)\n",
"yA=-118*10^-3 //m\n",
"xA=70*10^-3 //m\n",
"xB=-xA\n",
"yB=82*10^-3 //m\n",
"S_comp=Mx*(yA-xA*tan(alpha))/(Ix-Ixy*tan(alpha))\n",
"S_tens=Mx*(yB-xB*tan(alpha))/(Ix-Ixy*tan(alpha))\n",
"printf(' Tensile strength = %.1f M Pa \n',S_tens/10^6)\n",
"printf(' Compressive Strength = %.1f M Pa',S_comp/10^6)\n",
"v=P*L^3*sin(Phi)/(48*E*Ix)\n",
"u=-v*tan(alpha)\n",
"delta=sqrt(u^2+v^2)\n",
"printf('\n The total deflection is %.2f mm',delta*10^3)"
   ]
   }
,
{
		   "cell_type": "markdown",
		   "metadata": {},
		   "source": [
			"## Example 7.7: Example7.sce"
		   ]
		  },
  {
"cell_type": "code",
	   "execution_count": null,
	   "metadata": {
	    "collapsed": true
	   },
	   "outputs": [],
"source": [
"clc\n",
"// initialization of variables\n",
"clear\n",
"L=3 //m\n",
"Ix=56.43e6 //mm^4\n",
"Iy=18.11e6 //mm^4\n",
"Ixy=22.72e6 //mm^4\n",
"Phi=%pi/3\n",
"E=200e9 //Pa\n",
"Y=300e6 //Pa\n",
"//calculations\n",
"Ix=Ix*10^-12\n",
"Iy=Iy*10^-12\n",
"Ixy=Ixy*10^-12\n",
"yA=-120*10^-3 //m\n",
"xA=-91*10^-3 //m\n",
"Nr=Ixy-Ix/tan(Phi)\n",
"Dr=Iy-Ixy/tan(Phi)\n",
"alpha=atan(Nr/Dr)\n",
"// M=-L*P To know P we do the following\n",
"Mxk=-L*sin(Phi)//Mx=Mxk*P\n",
"P=Y*(Ix-Ixy*tan(alpha))/(Mxk*(yA-xA*tan(alpha)))\n",
"printf('P = %.2f kN \n',P/10^3)\n",
"v=P*L^3*sin(Phi)/(3*E*(Ix-Ixy*tan(alpha)))\n",
"u=-v*tan(alpha)\n",
"delta=sqrt(u^2+v^2)\n",
"printf(' deflection = %.2f mm',delta*10^3)\n",
"// Wrong calculation starting from v in Textbook\n",
""
   ]
   }
,
{
		   "cell_type": "markdown",
		   "metadata": {},
		   "source": [
			"## Example 7.8: Example8.sce"
		   ]
		  },
  {
"cell_type": "code",
	   "execution_count": null,
	   "metadata": {
	    "collapsed": true
	   },
	   "outputs": [],
"source": [
"clc\n",
"// initialization of variables\n",
"clear\n",
"Ix=937e+06 //mm^4\n",
"Iy=18.7e+6 //mm^4\n",
"Ixy=0\n",
"yA=305 //mm\n",
"xA=90.5 //mm\n",
"Phi=1.5533 //rad\n",
"//calculations\n",
"Ix=Ix*10^-12\n",
"Iy=Iy*10^-12\n",
"Ixy=Ixy*10^-12\n",
"yA=yA*10^-3 //m\n",
"xA=xA*10^-3 //m\n",
"alpha=atan(-Ix/(Iy*tan(Phi)))\n",
"Mxk=sin(Phi) // Mx=Mxk*M\n",
"Sigma_Ak1=Mxk*(yA-xA*tan(alpha))/(Ix-Ixy*tan(alpha)) \n",
"//Sigma_A=Aigma_Ak*M\n",
"// When the plane of the loads coincide with the y axes\n",
"Sigma_Ak2=yA/Ix\n",
"ratio=Sigma_Ak1/Sigma_Ak2\n",
"percent=(ratio-1)*100\n",
"printf('alpha = %.3f rad',alpha)\n",
"printf('\n The maximum stress in the beam is increased %.1f percent when the plane of the loads is merely 1 degre from the symmetrical vertical plane',percent)\n",
"// Wrong alpha given in the textbook"
   ]
   }
,
{
		   "cell_type": "markdown",
		   "metadata": {},
		   "source": [
			"## Example 7.9: Example9.sce"
		   ]
		  },
  {
"cell_type": "code",
	   "execution_count": null,
	   "metadata": {
	    "collapsed": true
	   },
	   "outputs": [],
"source": [
"clc\n",
"// initialization of variables\n",
"clear\n",
"Y=280 //MPa\n",
"AB=40 //mm\n",
"BC=60 //mm\n",
"//calculations\n",
"Y=Y*10^6\n",
"alpha=atan(BC/AB)\n",
"C11=20/3 //mm\n",
"C12=-10 //mm\n",
"C21=-20/3 //mm\n",
"C22=10 //mm\n",
"Beta=atan((C11-C21)/(C22-C12))\n",
"Phi=%pi/2+Beta\n",
"d=sqrt((AB/2-C11)^2+(BC/2-C22)^2)\n",
"d=d*10^-3 //m\n",
"At=1/2*AB*BC/2*10^-6\n",
"Mp=At*Y*d\n",
"printf('Mp = %.3f kN.m',Mp/10^3)"
   ]
   }
],
"metadata": {
		  "kernelspec": {
		   "display_name": "Scilab",
		   "language": "scilab",
		   "name": "scilab"
		  },
		  "language_info": {
		   "file_extension": ".sce",
		   "help_links": [
			{
			 "text": "MetaKernel Magics",
			 "url": "https://github.com/calysto/metakernel/blob/master/metakernel/magics/README.md"
			}
		   ],
		   "mimetype": "text/x-octave",
		   "name": "scilab",
		   "version": "0.7.1"
		  }
		 },
		 "nbformat": 4,
		 "nbformat_minor": 0
}
