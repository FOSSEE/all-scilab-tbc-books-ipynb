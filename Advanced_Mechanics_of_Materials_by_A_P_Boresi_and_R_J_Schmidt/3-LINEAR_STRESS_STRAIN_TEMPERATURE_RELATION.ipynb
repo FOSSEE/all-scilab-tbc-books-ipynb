{
"cells": [
 {
		   "cell_type": "markdown",
	   "metadata": {},
	   "source": [
       "# Chapter 3: LINEAR STRESS STRAIN TEMPERATURE RELATION"
	   ]
	},
{
		   "cell_type": "markdown",
		   "metadata": {},
		   "source": [
			"## Example 3.1: Example1.sce"
		   ]
		  },
  {
"cell_type": "code",
	   "execution_count": null,
	   "metadata": {
	    "collapsed": true
	   },
	   "outputs": [],
"source": [
"clc\n",
"// initialization of variables\n",
"clear\n",
"// part (a)\n",
"E=72 // G Pa\n",
"v=0.33 // Poisoon's ratio\n",
"h=2 // mm\n",
"R=600 // mm\n",
"//calculations\n",
"sig_cir=E*h/(2*(1-v^2)*R)\n",
"// results\n",
"printf('\n part (a) \n')\n",
"printf(' The maximum circumferential stress is %.d M Pa',sig_cir*10^3)"
   ]
   }
,
{
		   "cell_type": "markdown",
		   "metadata": {},
		   "source": [
			"## Example 3.7: Example7.sce"
		   ]
		  },
  {
"cell_type": "code",
	   "execution_count": null,
	   "metadata": {
	    "collapsed": true
	   },
	   "outputs": [],
"source": [
"clc\n",
"// initialization of variables\n",
"clear\n",
"tR=0.02 // t/R ration\n",
"E_A=69 //G Pa\n",
"v_A=0.33  // Poisson's ratio\n",
"alpha_A=21.6*10^-6 // /degree Celcius (Coefficient of expansion)\n",
"E_S=207 // G Pa\n",
"v_S=0.280\n",
"alpha_S=10.8*10^-6 // /degree Celcius (Coefficient of expansion)\n",
"// calculations\n",
"// Sig_LA=a*p+b*delT+c*sig_thS\n",
"// Sig_LS=v_S*Sig_thS+d*delT\n",
"E_S=E_S*10^9\n",
"E_A=E_A*10^9\n",
"a=1/tR*E_A/E_S\n",
"b=-2/3*alpha_S*E_S\n",
"c=-E_A/E_S\n",
"d=-alpha_S*E_S\n",
"// SigthS=e*p+f*delT\n",
"// SigthA=g*p+h*delT\n",
"e=37.16\n",
"f=0.8639*10^6\n",
"g=1/tR-e\n",
"h=-f\n",
"// results\n",
"p=689.4 // kPa\n",
"delT=100 // degree Celcius\n",
"p=p*10^3 // Pa\n",
"SigthA=g*p+h*delT\n",
"SigthS=e*p+f*delT\n",
"Sig_LA=a*p+b*delT+c*SigthS\n",
"Sig_LS=v_S*SigthS+d*delT\n",
"printf('Thus, for p = %.1f k Pa and delT = %.d degree celcius \n',p/10^3,delT)\n",
"printf(' SigthA = %.1f M Pa,   Sig_LA = %.d M Pa \n',SigthA/10^6,Sig_LA/10^6)\n",
"printf(' SigthS = %.1f M Pa,   Sig_LS = %.d M Pa',SigthS/10^6,Sig_LS/10^6)"
   ]
   }
,
{
		   "cell_type": "markdown",
		   "metadata": {},
		   "source": [
			"## Example 3.8: Example8.sce"
		   ]
		  },
  {
"cell_type": "code",
	   "execution_count": null,
	   "metadata": {
	    "collapsed": true
	   },
	   "outputs": [],
"source": [
"clc\n",
"// initialization of variables\n",
"clear\n",
"// Material constants\n",
"Ex=14700 // M Pa\n",
"Ey=1000 // M Pa\n",
"Ez=735 // M Pa\n",
"Gxy=941 // M Pa\n",
"Gxz=1147 // M Pa\n",
"Gyz=103 // M pa\n",
"Vxy=0.292\n",
"Vxz=0.449\n",
"Vyz=0.39\n",
"// Stresses at a point\n",
"Sxx=7 // M pa\n",
"Syy=2.1 // M Pa\n",
"Szz=-2.8 //M Pa\n",
"Sxy=1.4 // M Pa\n",
"Sxz=0 //M Pa\n",
"Syz=0 // M Pa\n",
"// part (a)\n",
"th=1/2*atan(2*Sxy/(Sxx-Syy))*180/%pi\n",
"I1=Sxx+Syy+Szz\n",
"I2=Sxx*Syy-Sxy^2+Szz*Sxx-Sxz^2+Szz*Syy-Syz^2\n",
"M=[Sxx Sxy Sxz\n",
"   Sxy Syy Syz\n",
"   Sxz Syz Szz]\n",
"I3=det(M)   \n",
"p=[1 -I1 I2 -I3]\n",
"S=roots(p)\n",
"// results\n",
"printf('Part (a) \n')\n",
"printf('The maximum principal stress is S1 = %.2f M Pa', S(1))\n",
"printf('\n and occurs in direction th = %.1f degrees',th)\n",
"printf('\n and the intermediate principal stress S2 = %.2f M Pa occurs in the direction th = %.1f degrees \n',S(3),th+90)\n",
"printf(' The minimum principal stress is S3 = Szz = %.1f M Pa', S(2))\n",
"Ex=Ex*10^6\n",
"Ey=Ey*10^6\n",
"Ez=Ez*10^6\n",
"Gxy=Gxy*10^6\n",
"Gxz=Gxz*10^6\n",
"Gyz=Gyz*10^6\n",
"// part (b) is to find strains\n",
"Exx=Sxx/Ex-Vxy*Syy/Ey-Vxz*Szz/Ez\n",
"Eyy=-Vxy*Sxx/Ex+Syy/Ey-Vyz*Szz/Ez\n",
"Ezz=-Vxz*Sxx/Ex-Vyz*Syy/Ey+Szz/Ez\n",
"Exy=Sxy/Gxy\n",
"Exz=Sxz/Gxz\n",
"Eyz=Syz/Gyz\n",
"printf('\n Part (b)')\n",
"printf('\n The srains are')\n",
"printf('\n Exx = %.2e ,   Eyy = %.2e ,  Ezz = %.4e',Exx,Eyy,Ezz)\n",
"printf('\n Exy = %.4e ,  Exz = %.2d ,  Eyz = %.2d',Exy,Exz,Eyz)\n",
"// Wrong Exx value in the textbook\n",
"th=1/2*atan(Exy/(Exx-Eyy))\n",
"th=th*180/%pi\n",
"th2=th+90\n",
"printf('\n part (c)')\n",
"printf('\n theta = %.2f  or theta = %.2f degrees',th,th2)\n",
"// Wrong theta too since Ex given in textbook is wrong"
   ]
   }
],
"metadata": {
		  "kernelspec": {
		   "display_name": "Scilab",
		   "language": "scilab",
		   "name": "scilab"
		  },
		  "language_info": {
		   "file_extension": ".sce",
		   "help_links": [
			{
			 "text": "MetaKernel Magics",
			 "url": "https://github.com/calysto/metakernel/blob/master/metakernel/magics/README.md"
			}
		   ],
		   "mimetype": "text/x-octave",
		   "name": "scilab",
		   "version": "0.7.1"
		  }
		 },
		 "nbformat": 4,
		 "nbformat_minor": 0
}
