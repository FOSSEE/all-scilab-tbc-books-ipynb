{
"cells": [
 {
		   "cell_type": "markdown",
	   "metadata": {},
	   "source": [
       "# Chapter 11: THE THICK WALL CYLLINDER"
	   ]
	},
{
		   "cell_type": "markdown",
		   "metadata": {},
		   "source": [
			"## Example 11.1: Example1.sce"
		   ]
		  },
  {
"cell_type": "code",
	   "execution_count": null,
	   "metadata": {
	    "collapsed": true
	   },
	   "outputs": [],
"source": [
"clc\n",
"// initialization of variables\n",
"clear\n",
"E=200 //GPa\n",
"v=0.29\n",
"Di=20 //mm\n",
"Do=100 //mm\n",
"a=10 //mm\n",
"b=50 //mm\n",
"p1=300 //MPa\n",
"//calculations\n",
"// S_rr=p1*(a^2*(r^2-b^2))/(r^2*(b^2-a^2))\n",
"// S_th=p1*(a^2*(r^2+b^2))/(r^2*(b^2-a^2))\n",
"r=10\n",
"S_rr=p1*(a^2*(r^2-b^2))/(r^2*(b^2-a^2))\n",
"S_th=p1*(a^2*(r^2+b^2))/(r^2*(b^2-a^2))\n",
"printf('r = %d mm',r)\n",
"printf('\n Radial stress = %.1f MPa',S_rr)\n",
"printf('\n circumferential stress = %.1f MPa',S_th)\n",
"r=25\n",
"S_rr=p1*(a^2*(r^2-b^2))/(r^2*(b^2-a^2))\n",
"S_th=p1*(a^2*(r^2+b^2))/(r^2*(b^2-a^2))\n",
"printf('\n r = %d mm',r)\n",
"printf('\n Radial stress = %.1f MPa',S_rr)\n",
"printf('\n circumferential stress = %.1f MPa',S_th)\n",
"r=50\n",
"S_rr=p1*(a^2*(r^2-b^2))/(r^2*(b^2-a^2))\n",
"S_th=p1*(a^2*(r^2+b^2))/(r^2*(b^2-a^2))\n",
"printf('\n r = %d mm',r)\n",
"printf('\n Radial stress = %.1f MPa',S_rr)\n",
"printf('\n circumferential stress = %.1f MPa',S_th)"
   ]
   }
,
{
		   "cell_type": "markdown",
		   "metadata": {},
		   "source": [
			"## Example 11.2: Example2.sce"
		   ]
		  },
  {
"cell_type": "code",
	   "execution_count": null,
	   "metadata": {
	    "collapsed": true
	   },
	   "outputs": [],
"source": [
"clc\n",
"// initialization of variables\n",
"clear\n",
"E=72 //GPa\n",
"v=0.33\n",
"Di=200 //mm\n",
"Do=800 //mm\n",
"a=100 //mm\n",
"r=a\n",
"b=Do/2 //mm\n",
"p1=150 //MPa\n",
"E=E*10^3\n",
"S_rr=p1*(a^2*(r^2-b^2))/(r^2*(b^2-a^2))\n",
"S_th=p1*(a^2*(r^2+b^2))/(r^2*(b^2-a^2))\n",
"S_zz=p1*a^2/(b^2-a^2)\n",
"tau_max=(S_th-S_rr)/2\n",
"u_a=p1*a/(E*(b^2-a^2))*((1-2*v)*a^2+(1+v)*b^2)\n",
"printf('Radial stress = %.1f MPa',S_rr)\n",
"printf('\n circumferential stress = %.1f MPa',S_th)\n",
"printf('\n Normal stress = %d MPa',S_zz)\n",
"printf('\n Maximum shear stress = %d MPa',tau_max)\n",
"printf('\n u|r=a = %.4f mm',u_a)"
   ]
   }
,
{
		   "cell_type": "markdown",
		   "metadata": {},
		   "source": [
			"## Example 11.3: Example3.sce"
		   ]
		  },
  {
"cell_type": "code",
	   "execution_count": null,
	   "metadata": {
	    "collapsed": true
	   },
	   "outputs": [],
"source": [
"clc\n",
"// initialization of variables\n",
"clear\n",
"E=200 //GPa\n",
"a=10 //mm\n",
"v=0.29\n",
"ci=25.072 //mm\n",
"co=25 //mm\n",
"b=50 //mm\n",
"rr=0.072 //mm\n",
"re=0.025 //mm\n",
"alpha=0.0000117 // per celcius\n",
"//calculations\n",
"E=E*10^3\n",
"p1=300 //MPa\n",
"term1=co/(E*(b^2-co^2))*((1-v)*co^2+(1+v)*b^2)\n",
"term2=-ci/(E*(ci^2-a^2))*((-(1-v)*ci^2)-(1+v)*a^2)\n",
"ps=rr/(term1+term2)\n",
"\n",
"// Inner cylinder p1=0 p2=ps a=10 b=25 \n",
"// outer cylinder p1=ps p2=0 a=25 b=50 \n",
"// S_rr=(p1*a^2-p2*b^2)/(b^2-a^2)-(a^2*b^2)/(r^2*(b^2-a^2))*(p1-p2)\n",
"// S_th=(p1*a^2-p2*b^2)/(b^2-a^2)+(a^2*b^2)/(r^2*(b^2-a^2))*(p1-p2)\n",
"// results\n",
"// residual stresses for inner cylinder\n",
"p1=0\n",
"p2=ps\n",
"r=10\n",
"a=10 \n",
"b=25\n",
"S_rri1=(p1*a^2-p2*b^2)/(b^2-a^2)-(a^2*b^2)/(r^2*(b^2-a^2))*(p1-p2)\n",
"S_thi1=(p1*a^2-p2*b^2)/(b^2-a^2)+(a^2*b^2)/(r^2*(b^2-a^2))*(p1-p2)\n",
"printf('\n Inner cylinder')\n",
"printf('\n r = %d mm',r)\n",
"printf('\n S_rr|R = %d MPa,   S_th|R = %.1f MPa',S_rri1,S_thi1)\n",
"r=25\n",
"S_rri2=(p1*a^2-p2*b^2)/(b^2-a^2)-(a^2*b^2)/(r^2*(b^2-a^2))*(p1-p2)\n",
"S_thi2=(p1*a^2-p2*b^2)/(b^2-a^2)+(a^2*b^2)/(r^2*(b^2-a^2))*(p1-p2)\n",
"printf('\n r = %d mm',r)\n",
"printf('\n S_rr|R = %.1f MPa,   S_th|R = %.1f MPa',S_rri2,S_thi2)\n",
"// residual stresses for outer cylinder\n",
"p1=ps\n",
"p2=0\n",
"a=25 \n",
"b=50\n",
"r=25\n",
"S_rro1=(p1*a^2-p2*b^2)/(b^2-a^2)-(a^2*b^2)/(r^2*(b^2-a^2))*(p1-p2)\n",
"S_tho1=(p1*a^2-p2*b^2)/(b^2-a^2)+(a^2*b^2)/(r^2*(b^2-a^2))*(p1-p2)\n",
"printf('\n')\n",
"printf('\n Outer cylinder')\n",
"printf('\n r = %d mm',r)\n",
"printf('\n S_rr|R = %d MPa,   S_th|R = %.1f MPa',S_rro1,S_tho1)\n",
"r=50\n",
"S_rro2=(p1*a^2-p2*b^2)/(b^2-a^2)-(a^2*b^2)/(r^2*(b^2-a^2))*(p1-p2)\n",
"S_tho2=(p1*a^2-p2*b^2)/(b^2-a^2)+(a^2*b^2)/(r^2*(b^2-a^2))*(p1-p2)\n",
"printf('\n r = %d mm',r)\n",
"printf('\n S_rr|R = %.1f MPa,   S_th|R = %.1f MPa',S_rro2,S_tho2)\n",
"// AN internal pressure of 300 MPa\n",
"a=10 //mm\n",
"b=50 //mm\n",
"p1=300 //MPa\n",
"r=10\n",
"S_rr=p1*(a^2*(r^2-b^2))/(r^2*(b^2-a^2))\n",
"S_th=p1*(a^2*(r^2+b^2))/(r^2*(b^2-a^2))\n",
"S_rr1=S_rr+S_rri1\n",
"S_th1=S_th+S_thi1\n",
"printf('\n')\n",
"printf('\n Inner cylinder')\n",
"printf('\n r = %d mm',r)\n",
"printf('\n S_rr = %.1f MPa,   S_th = %.1f MPa',S_rr1,S_th1)\n",
"r=25\n",
"S_rr=p1*(a^2*(r^2-b^2))/(r^2*(b^2-a^2))\n",
"S_th=p1*(a^2*(r^2+b^2))/(r^2*(b^2-a^2))\n",
"S_rr2=S_rr+S_rri2\n",
"S_th2=S_th+S_thi2\n",
"printf('\n r = %d mm',r)\n",
"printf('\n S_rr = %.1f MPa,   S_th = %.1f MPa',S_rr2,S_th2)\n",
"// Outer Cyllinder\n",
"S_rr1=S_rr+S_rro1\n",
"S_th1=S_th+S_tho1\n",
"printf('\n')\n",
"printf('\n Outer cylinder')\n",
"printf('\n r = %d mm',r)\n",
"printf('\n S_rr = %.1f MPa,   S_th = %.1f MPa',S_rr1,S_th1)\n",
"r=50\n",
"S_rr=p1*(a^2*(r^2-b^2))/(r^2*(b^2-a^2))\n",
"S_th=p1*(a^2*(r^2+b^2))/(r^2*(b^2-a^2))\n",
"S_rr2=S_rr+S_rro2\n",
"S_th2=S_th+S_tho2\n",
"printf('\n r = %d mm',r)\n",
"printf('\n S_rr = %.1f MPa,   S_th = %.1f MPa',S_rr2,S_th2)\n",
"//delT=u/(r*alpha)\n",
"u=rr+re\n",
"r=25\n",
"delT=u/(r*alpha)\n",
"printf('\n delT = %.1f degree Celcius',delT)\n",
"\n",
"\n",
""
   ]
   }
,
{
		   "cell_type": "markdown",
		   "metadata": {},
		   "source": [
			"## Example 11.4: Example4.sce"
		   ]
		  },
  {
"cell_type": "code",
	   "execution_count": null,
	   "metadata": {
	    "collapsed": true
	   },
	   "outputs": [],
"source": [
"clc\n",
"// initialization of variables\n",
"clear\n",
"SF=1.75\n",
"p1=300 //MPa\n",
"S_rr=-SF*p1\n",
"S_th=SF*325\n",
"Y=1/sqrt(2)*sqrt((S_th-S_rr)^2+S_rr^2+S_th^2)\n",
"printf(' Y = %.1f MPa',Y)"
   ]
   }
,
{
		   "cell_type": "markdown",
		   "metadata": {},
		   "source": [
			"## Example 11.5: Example5.sce"
		   ]
		  },
  {
"cell_type": "code",
	   "execution_count": null,
	   "metadata": {
	    "collapsed": true
	   },
	   "outputs": [],
"source": [
"clc\n",
"// initialization of variables\n",
"clear\n",
"p1=300 //MPa\n",
"SF=1.75\n",
"S_rr=SF*p1\n",
"S_th=SF*325-550.2 //Values are obtained from running Ex11_3.sce\n",
"Y1=1/sqrt(2)*sqrt((S_th-S_rr)^2+S_rr^2+S_th^2)\n",
"S_rr1=37.5\n",
"S_rre=-189.1\n",
"S_th1=62.5\n",
"S_the=315.1\n",
"// ABove values are obtained from running the codes Ex11_1 and Ex11_3.sce\n",
"S_rr=-SF*S_rr1+S_rre\n",
"S_th=SF*S_th1+S_the\n",
"Y2=1/sqrt(2)*sqrt((S_th-S_rr)^2+S_rr^2+S_th^2)\n",
"if(Y2>Y1)\n",
"    Y=Y2\n",
"end\n",
"printf(' Y = %.1f MPa',Y)"
   ]
   }
,
{
		   "cell_type": "markdown",
		   "metadata": {},
		   "source": [
			"## Example 11.6: Example6.sce"
		   ]
		  },
  {
"cell_type": "code",
	   "execution_count": null,
	   "metadata": {
	    "collapsed": true
	   },
	   "outputs": [],
"source": [
"clc\n",
"// initialization of variables\n",
"clear\n",
"SF=1.8\n",
"a=20 //mm\n",
"b=40 //mm\n",
"Y=450 //MPa\n",
"//part (a)\n",
"tau_Y=Y/sqrt(3)\n",
"Pp=2*tau_Y*log(b/a)\n",
"S_th=2*tau_Y*(1-log(b/a))\n",
"S_rr=-Pp\n",
"S_zz=(S_th+S_rr)/2\n",
"printf('part (a)')\n",
"printf('\n S_th = %.1f MPa',S_th)\n",
"printf('\n S_zz = %.1f MPa',S_zz)\n",
"// part (b)\n",
"S_thR=S_th-Pp*(b^2+a^2)/(b^2-a^2)\n",
"S_zzR=S_zz-Pp*(a^2)/(b^2-a^2)\n",
"S_thR=S_thR/2\n",
"S_zzR=S_zzR/2\n",
"printf('\n part (b)')\n",
"printf('\n S_th|R = %.1f MPa',S_thR)\n",
"printf('\n S_zz|R = %.1f MPa',S_zzR)\n",
"// par (c)\n",
"// We need to find out p1. To do that let it be unity\n",
"p1=1\n",
"S_thR=-S_thR\n",
"S_zzR=-S_zzR\n",
"S_rr=-SF*p1\n",
"S_th=SF*p1*(b^2+a^2)/(b^2-a^2)\n",
"S_zz=SF*p1*a^2/(b^2-a^2)\n",
"// 2Y^2=(s_th-S_rr)^2+(S_rr-S_zz)^2+(S_zz-S_th)^2\n",
"// S_th=S_th*p1-S_thR\n",
"// S_zz=S_zz*p1-S_zzR\n",
"// a*p1^2+b*p+c=0\n",
"a=(S_th+SF)^2+(-SF-S_zz)^2+(S_zz-S_th)^2\n",
"c=S_thR^2+S_zzR^2+(S_thR-S_zzR)^2\n",
"b=-2*(S_th+SF)*S_thR+2*S_zzR*(-SF-S_zz)+2*(S_zz-S_th)*(S_thR-S_zzR)\n",
"c=c-2*Y^2\n",
"p11=roots([a b c])\n",
"p12=roots([a 0 -2*Y^2])\n",
"p11=p11(1)\n",
"p12=p12(1)\n",
"printf('\n Internal working pressure is %.1f MPa,',p11)\n",
"printf('\n Without residual stresses %.1f MPa',p12)\n",
"\n",
"\n",
"\n",
"\n",
""
   ]
   }
,
{
		   "cell_type": "markdown",
		   "metadata": {},
		   "source": [
			"## Example 11.8: Example8.sce"
		   ]
		  },
  {
"cell_type": "code",
	   "execution_count": null,
	   "metadata": {
	    "collapsed": true
	   },
	   "outputs": [],
"source": [
"clc\n",
"// initialization of variables\n",
"clear\n",
"a=100 //mm\n",
"b=300 //mm\n",
"Y=620 //MPa\n",
"E=200 //GPa\n",
"S_zz=0\n",
"v=0.29\n",
"rho=7.85e+03 //kg/m^3\n",
"// part (a)\n",
"S_thmax=Y\n",
"Wy=sqrt(4*Y/(rho*((3+v)*b^2+(1-v)*a^2)))\n",
"printf('part (a)')\n",
"printf('\n Omega_y =%d rad/s',Wy*10^6)\n",
"// part (b)\n",
"Wp=sqrt(3*Y/(rho*(b^2+a*b+a^2)))\n",
"ratio=Wp/Wy\n",
"printf('\n Omega_p = %d rad/s',Wp*10^6)\n",
"printf('\n ratio = %.2f',ratio)"
   ]
   }
,
{
		   "cell_type": "markdown",
		   "metadata": {},
		   "source": [
			"## Example 11.9: Example9.sce"
		   ]
		  },
  {
"cell_type": "code",
	   "execution_count": null,
	   "metadata": {
	    "collapsed": true
	   },
	   "outputs": [],
"source": [
"clc\n",
"// initialization of variables\n",
"clear\n",
"a=100 //mm\n",
"b=300 //mm\n",
"v=0.29\n",
"a=a*10^-3\n",
"b=b*10^-3\n",
"printf('r     S_rr|R/Y     S_th|R/Y     (S_th/R-S_rr/R)/Y')\n",
"for i=1:21\n",
"    r=0.09+0.01*i\n",
"S_rrR=((r-a)/r - 3/(b^2+a*b+a^2)*((r^3-a^3)/(3*r) + (3+v)/8*(a^2+b^2-r^2-a^2*b^2/r^2)))\n",
"S_thR=(1- 3/(8*(b^2+a*b+a^2)) * ((3+v)*(a^2+b^2+a^2*b^2/r^2) - (1+3*v)*r^2)) \n",
"printf('\n %.2f     %.5f     %.5f     %.5f',r,S_rrR,S_thR,S_rrR-S_thR)\n",
"end"
   ]
   }
],
"metadata": {
		  "kernelspec": {
		   "display_name": "Scilab",
		   "language": "scilab",
		   "name": "scilab"
		  },
		  "language_info": {
		   "file_extension": ".sce",
		   "help_links": [
			{
			 "text": "MetaKernel Magics",
			 "url": "https://github.com/calysto/metakernel/blob/master/metakernel/magics/README.md"
			}
		   ],
		   "mimetype": "text/x-octave",
		   "name": "scilab",
		   "version": "0.7.1"
		  }
		 },
		 "nbformat": 4,
		 "nbformat_minor": 0
}
