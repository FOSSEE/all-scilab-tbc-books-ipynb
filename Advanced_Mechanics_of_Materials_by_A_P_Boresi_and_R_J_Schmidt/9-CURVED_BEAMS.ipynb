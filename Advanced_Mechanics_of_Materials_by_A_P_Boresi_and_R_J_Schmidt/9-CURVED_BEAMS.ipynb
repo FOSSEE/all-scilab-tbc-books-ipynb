{
"cells": [
 {
		   "cell_type": "markdown",
	   "metadata": {},
	   "source": [
       "# Chapter 9: CURVED BEAMS"
	   ]
	},
{
		   "cell_type": "markdown",
		   "metadata": {},
		   "source": [
			"## Example 9.10: Example10.sce"
		   ]
		  },
  {
"cell_type": "code",
	   "execution_count": null,
	   "metadata": {
	    "collapsed": true
	   },
	   "outputs": [],
"source": [
"clc\n",
"// initialization of variables\n",
"clear\n",
"P=11.2 //kN\n",
"E=200 //GPa\n",
"v=0.3\n",
"Ix=181.7e+03 //mm^4\n",
"k1=0.643\n",
"b1=34.7 //mm\n",
"h1=10 //mm\n",
"b2=40 //mm\n",
"h2=10 //mm\n",
"t=10 //mm\n",
"h=50 //mm\n",
"E=E*10^3\n",
"A=b1*h1+b2*h2\n",
"R=(b1*h1*35+b2*h2*60)/A\n",
"Am=b1*log(40/30)+h1*log(80/40)\n",
"G=E/(2*(1+v))\n",
"Aw=t*h\n",
"P=P*10^3\n",
"delta_P=2*P*100/(Aw*G) + 2*P/(E*3*Ix)*100^3 + P*48.4*%pi/(2*Aw*G) + P*48.4*%pi/(2*A*E) + P*16.9/(A*(48.4*16.9-A)*E)*(100^2*%pi+%pi/2*(48.4)^2+2*100*2*48.4)\n",
"printf('seperation = %.3f mm',delta_P)\n",
""
   ]
   }
,
{
		   "cell_type": "markdown",
		   "metadata": {},
		   "source": [
			"## Example 9.1: Example1.sce"
		   ]
		  },
  {
"cell_type": "code",
	   "execution_count": null,
	   "metadata": {
	    "collapsed": true
	   },
	   "outputs": [],
"source": [
"clc\n",
"// initialization of variables\n",
"clear\n",
"a=30 //mm\n",
"c=80 //mm\n",
"b=50 //mm\n",
"P=9.5 //kN\n",
"d=100 //mm position of P\n",
"//calculations\n",
"P=P*10^3\n",
"A=b^2\n",
"A=b*(c-a)\n",
"Am=b*log(c/a)\n",
"R=(a+c)/2\n",
"p=d+R\n",
"Mx=p*P\n",
"r=a\n",
"S_thB=P/A+(Mx*(A-r*Am))/(A*r*(R*Am-A))\n",
"r=c\n",
"S_thC=P/A+(Mx*(A-r*Am))/(A*r*(R*Am-A))\n",
"printf('The maximum tensile stress is (at point B) = %.1f MPa',S_thB)\n",
"printf('\n The maximum cpmpressive stress is (at point C) = %.1f MPa',S_thC)"
   ]
   }
,
{
		   "cell_type": "markdown",
		   "metadata": {},
		   "source": [
			"## Example 9.2: Example2.sce"
		   ]
		  },
  {
"cell_type": "code",
	   "execution_count": null,
	   "metadata": {
	    "collapsed": true
	   },
	   "outputs": [],
"source": [
"clc\n",
"// initialization of variables\n",
"clear\n",
"// part (c)\n",
"r_A=1.47 //m\n",
"theta=%pi\n",
"// S_th=-125*cos(theta)+(14.2857-9.5250*r)/r*(1-cos(theta))*10^5 //kPa\n",
"r=r_A\n",
"S_th=-125*cos(theta)+(14.2857-9.5250*r)/r*(1-cos(theta))*10^5 //kPa\n",
"S_A=S_th\n",
"\n",
"r_B=1.53 //m\n",
"r=r_B\n",
"S_th=-125*cos(theta)+(14.2857-9.5250*r)/r*(1-cos(theta))*10^5 //kPa\n",
"S_B=S_th\n",
"printf('part (c)')\n",
"printf('\n The tensile stress at A is %.2f MPa',S_A/1000)\n",
"printf('\n The compressive stress at B is %.2f MPa',S_B/1000)\n",
"\n",
"// part (d)\n",
"theta=%pi/2\n",
"r=r_A\n",
"S_th=-125*cos(theta)+(14.2857-9.5250*r)/r*(1-cos(theta))*10^5 //kPa\n",
"S_A=S_th\n",
"r=r_B\n",
"S_th=-125*cos(theta)+(14.2857-9.5250*r)/r*(1-cos(theta))*10^5 //kPa\n",
"S_B=S_th\n",
"printf('\n part (d)')\n",
"printf('\n The tensile stress at A is %.2f MPa',S_A/1000)\n",
"printf('\n The compressive stress at B is %.2f MPa',S_B/1000)\n",
"\n",
"//part (e)\n",
""
   ]
   }
,
{
		   "cell_type": "markdown",
		   "metadata": {},
		   "source": [
			"## Example 9.3: Example3.sce"
		   ]
		  },
  {
"cell_type": "code",
	   "execution_count": null,
	   "metadata": {
	    "collapsed": true
	   },
	   "outputs": [],
"source": [
"clc\n",
"// initialization of variables\n",
"clear\n",
"Y=500 //MPa\n",
"SF=2.00\n",
"A1=1658.76 //mm^2\n",
"R1=73.81 //mm\n",
"Am1=22.64 //mm\n",
"A2=6100 //mm^2\n",
"R2=126.62 //mm\n",
"Am2=50.57 //mm\n",
"A3=115.27 //mm^2\n",
"R3=186.01 //mm\n",
"Am3=0.62 //mm\n",
"A=A1+A2+A3\n",
"Am=Am1+Am2+Am3\n",
"R=(A1*R1+A2*R2+A3*R3)/A\n",
"rB=60 //mm\n",
"rC=rB+24+100+5 //follows from figure\n",
"//P unknown, so put unity to solve for it later\n",
"P=1\n",
"Mx=116.37*P\n",
"r=rB\n",
"S_thB=P/A+(Mx*(A-r*Am))/(A*r*(R*Am-A))\n",
"r=rC\n",
"S_thC=P/A+(Mx*(A-r*Am))/(A*r*(R*Am-A))\n",
"S_th=max(abs(S_thB),abs(S_thC))\n",
"Pf=Y/S_th\n",
"P=Pf/SF\n",
"printf('P = %.d N',P)"
   ]
   }
,
{
		   "cell_type": "markdown",
		   "metadata": {},
		   "source": [
			"## Example 9.4: Example4.sce"
		   ]
		  },
  {
"cell_type": "code",
	   "execution_count": null,
	   "metadata": {
	    "collapsed": true
	   },
	   "outputs": [],
"source": [
"clc\n",
"// initialization of variables\n",
"clear\n",
"// part (b)\n",
"// Following is the formula used in evaluating the circumferential stress\n",
"// Nr=(ro+ri)*(ro-ri-r*log(ro/ri))\n",
"// Dr=r*((ro+ri)*log(ro/ri)-2*(ro-ri))\n",
"// S_th=P*((sin(th)-th*cos(th))/(%pi*(r0-ri)*t))*(1+Nr/Dr)\n",
"ri=60 //mm\n",
"ro=180 //mm\n",
"t=50 //mm\n",
"th=%pi/2\n",
"// For, maximum tensile stress r=ri\n",
"r=ri\n",
"Nr=(ro+ri)*(ro-ri-r*log(ro/ri))\n",
"Dr=r*((ro+ri)*log(ro/ri)-2*(ro-ri))\n",
"// Question was asked in terms of P, so let it be unity\n",
"P=1\n",
"S_th=P*((sin(th)-th*cos(th))/(%pi*(ro-ri)*t))*(1+Nr/Dr)\n",
"S_max1=S_th\n",
"// For maximum compressive stress r=ro\n",
"r=ro\n",
"Nr=(ro+ri)*(ro-ri-r*log(ro/ri))\n",
"Dr=r*((ro+ri)*log(ro/ri)-2*(ro-ri))\n",
"S_th=P*((sin(th)-th*cos(th))/(%pi*(ro-ri)*t))*(1+Nr/Dr)\n",
"S_max2=S_th\n",
"printf('part (b)')\n",
"printf('\n for theta=90 degrees')\n",
"printf('\n Maximum tensile stress = %.6f P',S_max1)\n",
"printf('\n Maximum compressive stress = %.6f P',S_max2)\n",
"\n",
"\n",
"th=%pi\n",
"// For, maximum tensile stress r=ri\n",
"r=ri\n",
"Nr=(ro+ri)*(ro-ri-r*log(ro/ri))\n",
"Dr=r*((ro+ri)*log(ro/ri)-2*(ro-ri))\n",
"// Question was asked in terms of P, so let it be unity\n",
"P=1\n",
"S_th=P*((sin(th)-th*cos(th))/(%pi*(ro-ri)*t))*(1+Nr/Dr)\n",
"S_max1=S_th\n",
"// For maximum compressive stress r=ro\n",
"r=ro\n",
"Nr=(ro+ri)*(ro-ri-r*log(ro/ri))\n",
"Dr=r*((ro+ri)*log(ro/ri)-2*(ro-ri))\n",
"S_th=P*((sin(th)-th*cos(th))/(%pi*(ro-ri)*t))*(1+Nr/Dr)\n",
"S_max2=S_th\n",
"printf('\n for theta=180 degrees')\n",
"printf('\n Maximum tensile stress = %.6f P',S_max1)\n",
"printf('\n Maximum compressive stress = %.6f P',S_max2)\n",
"\n",
"//part(c)\n",
"S_thMax=340 //MPa\n",
"SF=2.2\n",
"P=S_thMax/(SF*S_max1)\n",
"printf('\n part(c)')\n",
"printf('\n The maximum allowable load is %.2f kN',P/1000)"
   ]
   }
,
{
		   "cell_type": "markdown",
		   "metadata": {},
		   "source": [
			"## Example 9.5: Example5.sce"
		   ]
		  },
  {
"cell_type": "code",
	   "execution_count": null,
	   "metadata": {
	    "collapsed": true
	   },
	   "outputs": [],
"source": [
"clc\n",
"// initialization of variables\n",
"clear\n",
"P=120 //kN\n",
"b1=120 //mm\n",
"b2=120 //mm\n",
"h1=48 //mm\n",
"h2=24 //mm\n",
"P=P*10^3\n",
"A=h1*b1+b2*h2\n",
"R=(b1*h1*96+b2*h2*180)/A\n",
"Am=b1*log(b1/72)+h2*log(240/b2)\n",
"r=72\n",
"Mx=364*P\n",
"S_thB=P/A+(Mx*(A-r*Am))/(A*r*(R*Am-A))\n",
"\n",
"r1=120 //mm\n",
"t=24 //mm\n",
"A1=h1*r1\n",
"Am1=r1*log(r1/r)\n",
"S_rr=(A*Am1-A1*Am)*Mx/(t*r1*A*(R*Am-A))\n",
"printf('Circumferential stress is %.1f MPa',S_thB)\n",
"printf('\n Radial stress is %.1f MPa',S_rr)"
   ]
   }
,
{
		   "cell_type": "markdown",
		   "metadata": {},
		   "source": [
			"## Example 9.6: Example6.sce"
		   ]
		  },
  {
"cell_type": "code",
	   "execution_count": null,
	   "metadata": {
	    "collapsed": true
	   },
	   "outputs": [],
"source": [
"clc\n",
"// initialization of variables\n",
"clear\n",
"Mo=96 //kN\n",
"P=120 //kN\n",
"b1=150 //mm\n",
"h1=60 //mm\n",
"b2=120 //mm\n",
"h2=50 //mm\n",
"b3=b1\n",
"h3=40 //mm\n",
"ro=80 //mm\n",
"r1=140 //mm\n",
"r2=260 //mm\n",
"r3=300 //mm\n",
"// calculations\n",
"Mo=Mo*10^6 // N.mm\n",
"P=P*10^3 // N\n",
"A=b1*h1+b2*h2+b3*h3\n",
"Am=b1*log(r1/ro)+h2*log(r2/r1)+b3*log(r3/r2)\n",
"R=(b1*h1*110+b2*h2*200+b3*h3*280)/A\n",
"Mx=Mo+P*R\n",
"r=80 //mm\n",
"S_th=P/A+(Mx*(A-r*Am))/(A*r*(R*Am-A))\n",
"\n",
"A1=9000 //mm^2\n",
"r1=140 //mm\n",
"t=50 //mm\n",
"Am1=b1*log(r1/ro)\n",
"N=120000\n",
"S_rr=A1*N/(A*t*r1) + (A*Am1-A1*Am)*Mx/(t*r1*A*(R*Am-A))\n",
"printf('Circumferential stress is %.2f MPa',S_th)\n",
"printf('\n Radial stress at B1 is %.2f MPa',S_rr)\n",
"// to find radial stress at C; \n",
"A1=b1*h1+b2*h2\n",
"Am1=b1*log(r1/ro)+h2*log(r2/r1)\n",
"r1=260 //mm\n",
"t=50 //mm\n",
"S_rr=A1*N/(A*t*r1) + (A*Am1-A1*Am)*Mx/(t*r1*A*(R*Am-A))\n",
"printf('\n Radial stress at C1 is %.2f MPa',S_rr)"
   ]
   }
,
{
		   "cell_type": "markdown",
		   "metadata": {},
		   "source": [
			"## Example 9.7: Example7.sce"
		   ]
		  },
  {
"cell_type": "code",
	   "execution_count": null,
	   "metadata": {
	    "collapsed": true
	   },
	   "outputs": [],
"source": [
"clc\n",
"// initialization of variables\n",
"clear\n",
"l=15 //m\n",
"R=10 //m\n",
"d=0.8 //m\n",
"b=0.13 //m\n",
"Po=2400 //N/m\n",
"P=4800 //N/m\n",
"//calculations\n",
"a=R-d/2\n",
"c=R+d/2\n",
"A=b*d\n",
"Am=b*log(c/a)\n",
"Mx=(Po+P)*l^2/8\n",
"S_thMax=Mx*(A-a*Am)/(A*a*(R*Am-A))\n",
"// To find out max radial stress\n",
"// Nr=d*log(r/a)-(r-a)*log(c/a)\n",
"// Dr=r*d*(R*log(c/a)-d)\n",
"// S_rr=Mx/b*Nr/Dr\n",
"r=a*exp(1-(a/d*log(c/a)))\n",
"Nr=d*log(r/a)-(r-a)*log(c/a)\n",
"Dr=r*d*(R*log(c/a)-d)\n",
"S_rrMax=Mx/b*Nr/Dr\n",
"printf('\n part (a)')\n",
"printf('\n Maximum circumferential stress is %.1f MPa',S_thMax/10^6)\n",
"printf('\n Maximum radial stress is %.3f MPa',S_rrMax/10^6)\n",
"// part (b)\n",
"Ix=b*d^3/12\n",
"S_th=Mx*d/(2*Ix)\n",
"printf('\n part (b)')\n",
"printf('\n Maximum circumferential stress using straight beam formula is %.1f MPa',S_th/10^6)"
   ]
   }
,
{
		   "cell_type": "markdown",
		   "metadata": {},
		   "source": [
			"## Example 9.8: Example8.sce"
		   ]
		  },
  {
"cell_type": "code",
	   "execution_count": null,
	   "metadata": {
	    "collapsed": true
	   },
	   "outputs": [],
"source": [
"clc\n",
"// initialization of variables\n",
"clear\n",
"// part(a)\n",
"Y=280 //MPa\n",
"A=4000 //mm^2\n",
"Am=44.99 //mm\n",
"R=100.0 //mm\n",
"r=180 //mm\n",
"r=60 //mm\n",
"// Mx is not yet known take it as unity\n",
"Mx=1 //unity\n",
"r=180\n",
"S_thMax=Mx*(A-r*Am)/(A*r*(R*Am-A))\n",
"Mx=Y/(abs(S_thMax))\n",
"printf('part(a)')\n",
"printf('\n Mx = %.2f kN.m',Mx/10^6)\n",
"// part(b)\n",
"k1=1.143\n",
"t_w=20\n",
"b_p=40\n",
"alpha=0.651\n",
"Beta=1.711\n",
"r=60 //mm\n",
"b1=2*alpha*b_p+t_w\n",
"A=b1*t_w+t_w*R\n",
"R=(b1*t_w*70+t_w*R*130)/A\n",
"Am=b1*log(80/r)+t_w*log(180/80)\n",
"// Mx not yet known teke it as unity\n",
"Mx=1\n",
"S_thMax=Mx*(A-r*Am)/(A*r*(R*Am-A))\n",
"r=70 //mm\n",
"S_thbar=Mx*(A-r*Am)/(A*r*(R*Am-A))\n",
"S_xx=-Beta*S_thbar\n",
"//tau_max=Y/2=(S_thMax-S_xx)/2\n",
"Mx=Y/(S_thMax-S_xx)\n",
"printf('\n part (b)')\n",
"printf('\n Mx = %.2f kN.m',Mx/10^6)\n",
""
   ]
   }
,
{
		   "cell_type": "markdown",
		   "metadata": {},
		   "source": [
			"## Example 9.9: Example9.sce"
		   ]
		  },
  {
"cell_type": "code",
	   "execution_count": null,
	   "metadata": {
	    "collapsed": true
	   },
	   "outputs": [],
"source": [
"clc\n",
"// initialization of variables\n",
"clear\n",
"E=72 //GPa\n",
"t=60 //mm\n",
"M=24 //kN.m\n",
"//part(a)\n",
"ro=100 //mm\n",
"r1=150 //mm\n",
"A=t*r1\n",
"Am=t*log((ro+r1)/ro)\n",
"R=ro+r1/2\n",
"E=E*10^3\n",
"Mx=M*10^6\n",
"Phi=Am*Mx*%pi/(A*(R*Am-A)*E)\n",
"printf('part(a)')\n",
"printf('\n Phi = %.5f rad',Phi)\n",
"//part(b)\n",
"//Mx=Mx+P*R*sin(th)\n",
"delta_P=Am*Mx*R*2/(A*(R*Am-A)*E)\n",
"printf('\n part(b)')\n",
"printf('\n deflection = %.3f mm',delta_P)"
   ]
   }
],
"metadata": {
		  "kernelspec": {
		   "display_name": "Scilab",
		   "language": "scilab",
		   "name": "scilab"
		  },
		  "language_info": {
		   "file_extension": ".sce",
		   "help_links": [
			{
			 "text": "MetaKernel Magics",
			 "url": "https://github.com/calysto/metakernel/blob/master/metakernel/magics/README.md"
			}
		   ],
		   "mimetype": "text/x-octave",
		   "name": "scilab",
		   "version": "0.7.1"
		  }
		 },
		 "nbformat": 4,
		 "nbformat_minor": 0
}
