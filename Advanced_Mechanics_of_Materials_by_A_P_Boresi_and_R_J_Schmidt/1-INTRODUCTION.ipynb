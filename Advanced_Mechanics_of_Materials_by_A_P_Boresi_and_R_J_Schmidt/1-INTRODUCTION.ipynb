{
"cells": [
 {
		   "cell_type": "markdown",
	   "metadata": {},
	   "source": [
       "# Chapter 1: INTRODUCTION"
	   ]
	},
{
		   "cell_type": "markdown",
		   "metadata": {},
		   "source": [
			"## Example 1.1: Example1.sce"
		   ]
		  },
  {
"cell_type": "code",
	   "execution_count": null,
	   "metadata": {
	    "collapsed": true
	   },
	   "outputs": [],
"source": [
"clc\n",
"// initialization of variables\n",
"clear\n",
"// part (a)\n",
"a=700 // M Pa from figure 1.8\n",
"b=100 // M Pafrom figure 1.8\n",
"m=1/6 // from figure 1.8\n",
"Y=450 // M Pa from figure 1.9\n",
"//calculations\n",
"sigma_u=a+m*b\n",
"// results\n",
"printf('\n part (a) \n')\n",
"printf(' The ultimate strength is sigma = %.f M Pa',sigma_u)\n",
"printf('\n and the yield strength is Y = %.f M Pa',Y)\n",
"\n",
"// part (b)\n",
"c1=62 // from figure 1.8\n",
"d1=0.025 // from figure 1.8\n",
"c2=27 // from figure 1.10a\n",
"d2=0.04 // from figure 1.10a\n",
"// calculations\n",
"U_f1=c1*b*d1*10^6\n",
"U_f2=c2*b*d2*10^6\n",
"// results\n",
"printf('\n part (b)')\n",
"printf('\n The modulus of toughness for alloy steel is Uf = %.3e N/m^2',U_f1)\n",
"printf('\n and structural steel is Uf = %.3e N/m^2',U_f2)"
   ]
   }
,
{
		   "cell_type": "markdown",
		   "metadata": {},
		   "source": [
			"## Example 1.2: Example2.sce"
		   ]
		  },
  {
"cell_type": "code",
	   "execution_count": null,
	   "metadata": {
	    "collapsed": true
	   },
	   "outputs": [],
"source": [
"clc\n",
"// initialization of variables\n",
"clear\n",
"sigma=500 // Stress M Pa\n",
"eps=0.0073 // Strain\n",
"sigma_A=343 // M Pa from figure 1.9\n",
"eps_A=0.00172 // from figure 1.9\n",
"// part (a)\n",
"E=sigma_A/eps_A\n",
"\n",
"// part (B)\n",
"eps_e=sigma/E\n",
"eps_p=eps-eps_e\n",
"// results\n",
"printf(' part (a) \n')\n",
"printf(' The modulus of elasticity of the rod is E = %.d G Pa',E/1000)\n",
"printf('\n part (b)')\n",
"printf('\n the permanent strain is = %.4f',eps_p)\n",
"printf('\n and the strain recovered is = %.4f',eps_e)"
   ]
   }
,
{
		   "cell_type": "markdown",
		   "metadata": {},
		   "source": [
			"## Example 1.3: Example3.sce"
		   ]
		  },
  {
"cell_type": "code",
	   "execution_count": null,
	   "metadata": {
	    "collapsed": true
	   },
	   "outputs": [],
"source": [
"clc\n",
"// initialization of variables\n",
"clear\n",
"D=25 // kN\n",
"L=60 // kN\n",
"W=30 //kN\n",
"Y=250 // M Pa\n",
"safety=5/3 // AISC, 1989\n",
"// calculations\n",
"Q=(D+L+W)*10^3 // converted to N\n",
"A=safety*Q/Y\n",
"r=sqrt(A/%pi)+0.5 // additional 0.5 mm is for extra safety\n",
"d=2*r // diameter\n",
"// results\n",
"printf('Part (a) \n ')\n",
"printf('A rod of %.d mm in diameter, with a cross sectional area of %.d mm^2, is adequate',d,%pi*d^2/4)\n",
"// The diameter is correct as given in the textbook. Area doesn't match due to rounding off error and partly because it's a design problem."
   ]
   }
],
"metadata": {
		  "kernelspec": {
		   "display_name": "Scilab",
		   "language": "scilab",
		   "name": "scilab"
		  },
		  "language_info": {
		   "file_extension": ".sce",
		   "help_links": [
			{
			 "text": "MetaKernel Magics",
			 "url": "https://github.com/calysto/metakernel/blob/master/metakernel/magics/README.md"
			}
		   ],
		   "mimetype": "text/x-octave",
		   "name": "scilab",
		   "version": "0.7.1"
		  }
		 },
		 "nbformat": 4,
		 "nbformat_minor": 0
}
