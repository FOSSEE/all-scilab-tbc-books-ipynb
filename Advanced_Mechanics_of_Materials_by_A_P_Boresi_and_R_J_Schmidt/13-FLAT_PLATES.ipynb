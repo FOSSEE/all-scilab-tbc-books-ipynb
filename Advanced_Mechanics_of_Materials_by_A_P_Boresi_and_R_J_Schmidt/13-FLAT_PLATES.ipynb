{
"cells": [
 {
		   "cell_type": "markdown",
	   "metadata": {},
	   "source": [
       "# Chapter 13: FLAT PLATES"
	   ]
	},
{
		   "cell_type": "markdown",
		   "metadata": {},
		   "source": [
			"## Example 13.2: Example2.sce"
		   ]
		  },
  {
"cell_type": "code",
	   "execution_count": null,
	   "metadata": {
	    "collapsed": true
	   },
	   "outputs": [],
"source": [
"clc\n",
"// initialization of variables\n",
"clear\n",
"d=3.6 //m\n",
"w=2.7 //m\n",
"ha=3.0 //m\n",
"b=0.9 //m\n",
"a=1.2 //m\n",
"v=0.29\n",
"E=200 //GPa\n",
"p=ha*9.8\n",
"//part (a)\n",
"S_w=124 //MPa\n",
"b_a=b/a\n",
"M=0.04*p*b^2*10^3\n",
"h=sqrt(6*M/S_w)\n",
"printf('part (a)')\n",
"printf('\n h = %.2f mm',h)\n",
"// part (b)\n",
"C=0.032/(1+b_a^4)\n",
"p=p*10^3\n",
"E=E*10^9\n",
"b=b*10^3\n",
"w_max=C*(1-v^2)*p*b^4/(E*h^3)\n",
"printf('\n part (b)')\n",
"printf('\n w_max = %.2f mm',w_max)\n",
""
   ]
   }
,
{
		   "cell_type": "markdown",
		   "metadata": {},
		   "source": [
			"## Example 13.3: Example3.sce"
		   ]
		  },
  {
"cell_type": "code",
	   "execution_count": null,
	   "metadata": {
	    "collapsed": true
	   },
	   "outputs": [],
"source": [
"clc\n",
"// initialization of variables\n",
"clear\n",
"E=200 //GPa\n",
"v=0.29\n",
"Y=315 //MPa\n",
"h=10 //mm\n",
"D=200 //mm\n",
"SF=2.0\n",
"//part (a)\n",
"a=D/2\n",
"E=E*10^3\n",
"Py=1 // Since unknown\n",
"S_maxk=3/4*Py*a^2/h^2\n",
"Py=Y/S_maxk\n",
"w_max=3/16*(1-v^2)*Py*a^4/(E*h^3)\n",
"printf('Py = %.2f MPa',Py)\n",
"printf('\n W_max = %.3f mm',w_max)\n",
"// part (b)\n",
"Pw=Py/SF\n",
"printf('\n part (b)')\n",
"printf('\n Pw = %.2f MPa',Pw)"
   ]
   }
,
{
		   "cell_type": "markdown",
		   "metadata": {},
		   "source": [
			"## Example 13.4: Example4.sce"
		   ]
		  },
  {
"cell_type": "code",
	   "execution_count": null,
	   "metadata": {
	    "collapsed": true
	   },
	   "outputs": [],
"source": [
"clc\n",
"// initialization of variables\n",
"clear\n",
"D=500 //mm\n",
"h=5 //mm\n",
"Sigma=288 //MPa\n",
"E=72 //GPa\n",
"SF=2\n",
"//part (a)\n",
"a=D/2\n",
"E=E*10^3\n",
"f=Sigma*a^2/(E*h^2)\n",
"// w_max/h has to be 2.4 since f=10\n",
"Pr=50\n",
"p=Pr*E*h^4/a^4\n",
"p=p/2\n",
"printf('part (a)')\n",
"printf('\n Allowable pressure = %d kPa',p*10^3)\n",
"// part (b)\n",
"q=p*a^4/(E*h^4)\n",
"// Corresponding w_max/h = 1.8\n",
"w_max=1.8*h\n",
"printf('\n part (b)')\n",
"printf('\n W_max = %.2f mm',w_max)"
   ]
   }
],
"metadata": {
		  "kernelspec": {
		   "display_name": "Scilab",
		   "language": "scilab",
		   "name": "scilab"
		  },
		  "language_info": {
		   "file_extension": ".sce",
		   "help_links": [
			{
			 "text": "MetaKernel Magics",
			 "url": "https://github.com/calysto/metakernel/blob/master/metakernel/magics/README.md"
			}
		   ],
		   "mimetype": "text/x-octave",
		   "name": "scilab",
		   "version": "0.7.1"
		  }
		 },
		 "nbformat": 4,
		 "nbformat_minor": 0
}
