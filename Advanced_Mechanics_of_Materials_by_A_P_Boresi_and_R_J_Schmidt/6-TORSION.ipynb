{
"cells": [
 {
		   "cell_type": "markdown",
	   "metadata": {},
	   "source": [
       "# Chapter 6: TORSION"
	   ]
	},
{
		   "cell_type": "markdown",
		   "metadata": {},
		   "source": [
			"## Example 6.10: Example10.sce"
		   ]
		  },
  {
"cell_type": "code",
	   "execution_count": null,
	   "metadata": {
	    "collapsed": true
	   },
	   "outputs": [],
"source": [
"clc\n",
"// initialization of variables\n",
"clear\n",
"G=26 //GPa\n",
"tau_max=40.0 //MPa\n",
"t1=4.5 //mm\n",
"t3=1.5 //mm\n",
"t2=3 //mm\n",
"l1=3*60 //mm\n",
"l3=60 //mm\n",
"r2=30 //mm\n",
"\n",
"//calculations\n",
"// 1 indicates coefficient of q1\n",
"// 2 indicates coefficient of q2\n",
"\n",
"l2=r2*%pi\n",
"G=G*10^3\n",
"A1=l3^2\n",
"A2=%pi*r2^2/2\n",
"T1=2*A1\n",
"T2=2*A2\n",
"tha1=l1/t1+l3/t3\n",
"tha1=tha1/(2*G*A1)\n",
"tha2=-l3/t3\n",
"tha2=tha2/(2*G*A1)\n",
"thb1=-l3/t3\n",
"thb1=thb1/(2*G*A2)\n",
"thb2=l2/t2+l3/t3\n",
"thb2=thb2/(2*G*A2)\n",
"// Since tha=thb\n",
"Qr=(thb2-tha2)/(tha1-thb1)\n",
"printf('q1/q2 = %.3f ',Qr)\n",
"q2=tau_max*t2\n",
"q1=Qr*q2\n",
"qdif=q1-q2\n",
"tau_1=q1/t1\n",
"tau_2=q2/t2\n",
"tau_3=qdif/t3\n",
"T=2*A1*q1+2*A2*q2\n",
"th=tha1*q1+tha2*q2\n",
"printf('\n T = %.3f kN.m',T/10^6)\n",
"printf('\n theta = %.4f rad/m',th*10^3)"
   ]
   }
,
{
		   "cell_type": "markdown",
		   "metadata": {},
		   "source": [
			"## Example 6.1: Example1.sce"
		   ]
		  },
  {
"cell_type": "code",
	   "execution_count": null,
	   "metadata": {
	    "collapsed": true
	   },
	   "outputs": [],
"source": [
"clc\n",
"// initialization of variables\n",
"clear\n",
"// part (a)\n",
"a=22 //mm\n",
"b=25 //mm\n",
"T=500 //N m\n",
"// calculations\n",
"a=a*10^-3\n",
"b=b*10^-3\n",
"J=%pi*(b^4-a^4)/2\n",
"tau_max=T*b/J\n",
"printf(' part (a) \n')\n",
"printf(' Maximum shear stress in shaft = %.1f M Pa ',tau_max/10^6)\n",
"// part (b)\n",
"G=77 //GPa\n",
"G=G*10^9\n",
"th=T/(G*J)\n",
"printf('\n part (b)')\n",
"printf('\n The angle of twist per unit length is = %.4f rad/m',th)"
   ]
   }
,
{
		   "cell_type": "markdown",
		   "metadata": {},
		   "source": [
			"## Example 6.2: Example2.sce"
		   ]
		  },
  {
"cell_type": "code",
	   "execution_count": null,
	   "metadata": {
	    "collapsed": true
	   },
	   "outputs": [],
"source": [
"clc\n",
"// initialization of variables\n",
"clear\n",
"T=113 //Nm\n",
"L1=1 //m\n",
"L2=1.27 //m\n",
"Y=414 //MPa\n",
"G=77 //GPa\n",
"SF=2\n",
"// part (a)\n",
"T1=T*2\n",
"T2=T\n",
"Y=Y*10^6\n",
"G=G*10^9\n",
"tau_max=0.25*Y\n",
"r1=(2*T1/(%pi*tau_max))^(1/3)\n",
"d1=2*r1\n",
"r2=(2*T2/(%pi*tau_max))^(1/3)\n",
"d2=2*r2\n",
"inch=25.4 //mm\n",
"printf(' part (a) \n')\n",
"printf(' d1 = %.2f mm   d2 = %.2f mm',d1*10^3,d2*10^3)\n",
"printf('\n Since the dimensons are not standard, we choose d1 = %.1f mm and d2 = %.2f mm',inch,0.75*inch)\n",
"// part (b)\n",
"d1=inch*10^-3\n",
"r1=d1/2\n",
"d2=0.75*inch*10^-3\n",
"r2=d2/2\n",
"J1=%pi*r1^4/2\n",
"th1=T1/(G*J1)\n",
"J2=%pi*r2^4/2\n",
"th2=T2/(G*J2)\n",
"beta_c=L1*th1+L2*th2\n",
"bet_deg=beta_c*180/%pi\n",
"printf('\n part (b)')\n",
"printf('\n The angle of twist = %.3f rad = %.1f degrees',beta_c,bet_deg)\n",
"// Change is answer for US people convenience"
   ]
   }
,
{
		   "cell_type": "markdown",
		   "metadata": {},
		   "source": [
			"## Example 6.3: Example3.sce"
		   ]
		  },
  {
"cell_type": "code",
	   "execution_count": null,
	   "metadata": {
	    "collapsed": true
	   },
	   "outputs": [],
"source": [
"clc\n",
"// initialization of variables\n",
"clear\n",
"tau_Y=190 //MPa\n",
"G=27 //GPa\n",
"L=2 //m\n",
"Do=60 //mm\n",
"Di=40 //mm\n",
"SF=2 // Factor of safety\n",
"// Angle of twist can't be greater than 0.2 rad\n",
"thM=0.2 //rad\n",
"Do=Do*10^-3\n",
"Di=Di*10^-3\n",
"G=G*10^9\n",
"tau_Y=tau_Y*10^6\n",
"J=%pi/2*((Do/2)^4-(Di/2)^4)\n",
"T=tau_Y*J*2/(Do*SF)\n",
"printf(' part (a)')\n",
"printf('\n Design torque T = %.3f kN.m',T/10^3)\n",
"\n",
"// part (b)\n",
"T=G*J*thM/SF\n",
"printf('\n part (a)')\n",
"printf('\n Design torque limited by angle of twist is T = %.3f kN.m',T/10^3)"
   ]
   }
,
{
		   "cell_type": "markdown",
		   "metadata": {},
		   "source": [
			"## Example 6.4: Example4.sce"
		   ]
		  },
  {
"cell_type": "code",
	   "execution_count": null,
	   "metadata": {
	    "collapsed": true
	   },
	   "outputs": [],
"source": [
"clc\n",
"// initialization of variables\n",
"clear\n",
"// Material specifications\n",
"G=77.5 //GPa\n",
"// Following values of torsion are obtained from figure\n",
"Toa=-12.5 //kN\n",
"Tab=-8.5 //kN\n",
"Tbc=1.5 //kN\n",
"D1=10 //cm\n",
"D2 =5 //cm\n",
"D3 =D1 //cm\n",
"Loa=500 //mm\n",
"Lab=400 //mm\n",
"Lbc=300 //mm\n",
"//calculations\n",
"G=G*10^9\n",
"Toa=Toa*10^3\n",
"Tab=Tab*10^3\n",
"Tbc=Tbc*10^3\n",
"D1=D1*10^-2\n",
"D2=D2*10^-2\n",
"D3=D3*10^-2\n",
"Loa=Loa*10^-3\n",
"Lab=Lab*10^-3\n",
"Lbc=Lbc*10^-3\n",
"r1=D1/2\n",
"Joa=%pi*r1^4/2\n",
"tauOA=-Toa*D1/(2*Joa)\n",
"r2=D2/2\n",
"r3=D3/2\n",
"Jbc=%pi*r2^4/2\n",
"Jab=%pi*r3^4/2\n",
"tauBC=Tbc*D2/(2*Jbc)\n",
"tau=max(tauOA,tauBC)\n",
"printf('The maximum shear stress is = %.2f M Pa in segment OA',tau/10^6)\n",
"// part (b)\n",
"psiA=Toa*Loa/(G*Joa)\n",
"psiBA=Tab*Lab/(G*Jab)\n",
"psiB=psiA+psiBA\n",
"psiCB=Tbc*Lbc/(G*Jbc)\n",
"psiC=psiB+psiCB\n",
"printf('\n PsiA = %.5f rad  PsiB = %.5f rad  PsiC = %.5f rad ',psiA,psiB,psiC)\n",
""
   ]
   }
,
{
		   "cell_type": "markdown",
		   "metadata": {},
		   "source": [
			"## Example 6.5: Example5.sce"
		   ]
		  },
  {
"cell_type": "code",
	   "execution_count": null,
	   "metadata": {
	    "collapsed": true
	   },
	   "outputs": [],
"source": [
"clc\n",
"// initialization of variables\n",
"clear\n",
"// Shaft specifications\n",
"Pi=100 //kW\n",
"f1=100 //Hz\n",
"f2=10 //Hz\n",
"tau_Y=220 //MPa\n",
"SF=2.5 // Safety factor\n",
"Po=100 //kW\n",
"//calculations\n",
"Pi=Pi*10^3\n",
"tau_Y=tau_Y*10^6\n",
"Po=Po*10^3\n",
"Tin=Pi/(2*%pi*f1)\n",
"Tout=Po/(2*%pi*f2)\n",
"Din=(16*SF*Tin/(tau_Y*%pi))^(1/3)\n",
"Dout=(16*SF*Tout/(tau_Y*%pi))^(1/3)\n",
"printf(' Din = %.2f mm  and Dout = %.2f mm',Din*10^3,Dout*10^3)"
   ]
   }
,
{
		   "cell_type": "markdown",
		   "metadata": {},
		   "source": [
			"## Example 6.7: Example7.sce"
		   ]
		  },
  {
"cell_type": "code",
	   "execution_count": null,
	   "metadata": {
	    "collapsed": true
	   },
	   "outputs": [],
"source": [
"clc\n",
"// initialization of variables\n",
"clear\n",
"// Flange specifications\n",
"T=5000 //Nm\n",
"b_f=266 //mm\n",
"d=779 //mm\n",
"t_w=16.5 //mm\n",
"t_f=30 //mm\n",
"G=200 // GPa\n",
"// calculations\n",
"b_f=b_f*10^-3\n",
"d=d*10^-3\n",
"t_w=t_w*10^-3\n",
"t_f=t_f*10^-3\n",
"G=G*10^9\n",
"//calculations\n",
"k1=0.308 // flange (b/h)<10\n",
"Jf=2*k1*b_f*t_f^3\n",
"k1=0.333 // web (b/h)>10\n",
"Jw=k1*(d-2*t_f)*t_w^3\n",
"J=Jf+Jw\n",
"// part (a)\n",
"hmax=0.015\n",
"tau_max=2*T*hmax/J\n",
"printf('part (a)\n')\n",
"printf(' Maximum shear stress is = %.2f MPa',tau_max/10^6)\n",
"// part (b)\n",
"th=T/(G*J)\n",
"printf('\n part (b)')\n",
"printf(' \n The angle of twist per unit length is = %.5f rad/m',th)"
   ]
   }
,
{
		   "cell_type": "markdown",
		   "metadata": {},
		   "source": [
			"## Example 6.8: Example8.sce"
		   ]
		  },
  {
"cell_type": "code",
	   "execution_count": null,
	   "metadata": {
	    "collapsed": true
	   },
	   "outputs": [],
"source": [
"clc\n",
"// initialization of variables\n",
"clear\n",
"// Rod dimensions and material properties\n",
"b1=60 //mm\n",
"l1=3 //m\n",
"l2=1.5 //m\n",
"h1=40 //mm\n",
"b2=40 //mm\n",
"h2=30 //mm\n",
"G=77.5 //GPa\n",
"T1=750 //Nm\n",
"T2=400 //Nm\n",
"//calculations\n",
"b1=b1*10^-3\n",
"h1=h1*10^-3\n",
"b2=b2*10^-3\n",
"h2=h2*10^-3\n",
"G=G*10^9\n",
"// for the left portion of the rod\n",
"k1l=0.196 \n",
"k2l=0.231\n",
"// for the right portion of the rod\n",
"k1r=0.178\n",
"k2r=0.223\n",
"T=T1+T2\n",
"tau_maxL=T/(k2l*b1*(h1)^2)\n",
"tau_maxR=T2/(k2r*b2*(h2)^2)\n",
"tau_max=max(tau_maxL,tau_maxR)\n",
"J1=b1*h1^3/12+h1*b1^3/12\n",
"J2=b2*h2^3/12+h2*b2^3/12\n",
"bet=T*l1/(G*J1)+T2*l2/(G*J2)\n",
"printf(' The maximum shear stress is = %.1f MPa',tau_max/10^6)\n",
"printf('\n twist = %.4f rad',bet)\n",
"//wrong answer for twist in the text"
   ]
   }
,
{
		   "cell_type": "markdown",
		   "metadata": {},
		   "source": [
			"## Example 6.9: Example9.sce"
		   ]
		  },
  {
"cell_type": "code",
	   "execution_count": null,
	   "metadata": {
	    "collapsed": true
	   },
	   "outputs": [],
"source": [
"clc\n",
"// initialization of variables\n",
"clear\n",
"Do=22 //mm\n",
"Di=18 //mm\n",
"Dm=20 //mm\n",
"tD=0.1 // t/D\n",
"//part (a)\n",
"tau=70 //MPa\n",
"G=77.5 //GPa\n",
"//calculations\n",
"Do=Do*10^-3\n",
"Di=Di*10^-3\n",
"Dm=Dm*10^-3\n",
"tau=tau*10^6\n",
"G=G*10^9\n",
"A=%pi*Dm^2/4\n",
"t=Dm*tD\n",
"T1=2*A*tau*t\n",
"th1=tau*%pi*Dm/(2*G*A)\n",
"J=%pi/32*(Do^4-Di^4)\n",
"r=Dm/2\n",
"T2=tau*J/r\n",
"th2=tau/(G*r)\n",
"printf('part (a)\n')\n",
"printf(' Using formula_1 T = %.2f Nm theta = %.7f rad/mm ',T1,th1*10^-3)\n",
"printf('\n Using formula_2 T = %.2f Nm theta = %.7f rad/mm ',T2,th2*10^-3)\n",
"//part (b)\n",
"h=1 //mm\n",
"h=h*10^-3\n",
"b=10*%pi\n",
"b=b*10^-3\n",
"T=8*b*h^2*tau/3\n",
"th=tau/(2*G*h)\n",
"printf('\n part (b)')\n",
"printf('\n T = %.3f N.m    theta = %.7f rad/mm ',T,th*10^-3)"
   ]
   }
],
"metadata": {
		  "kernelspec": {
		   "display_name": "Scilab",
		   "language": "scilab",
		   "name": "scilab"
		  },
		  "language_info": {
		   "file_extension": ".sce",
		   "help_links": [
			{
			 "text": "MetaKernel Magics",
			 "url": "https://github.com/calysto/metakernel/blob/master/metakernel/magics/README.md"
			}
		   ],
		   "mimetype": "text/x-octave",
		   "name": "scilab",
		   "version": "0.7.1"
		  }
		 },
		 "nbformat": 4,
		 "nbformat_minor": 0
}
