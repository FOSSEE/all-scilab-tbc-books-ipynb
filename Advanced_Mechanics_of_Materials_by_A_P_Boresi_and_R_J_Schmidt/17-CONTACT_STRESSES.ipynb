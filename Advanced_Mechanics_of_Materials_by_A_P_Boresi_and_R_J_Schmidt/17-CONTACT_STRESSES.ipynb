{
"cells": [
 {
		   "cell_type": "markdown",
	   "metadata": {},
	   "source": [
       "# Chapter 17: CONTACT STRESSES"
	   ]
	},
{
		   "cell_type": "markdown",
		   "metadata": {},
		   "source": [
			"## Example 17.1: Example1.sce"
		   ]
		  },
  {
"cell_type": "code",
	   "execution_count": null,
	   "metadata": {
	    "collapsed": true
	   },
	   "outputs": [],
"source": [
"clc\n",
"// initialization of variables\n",
"clear\n",
"E1=200 //GPa\n",
"E2=200 //Gpa\n",
"v1=0.29\n",
"v2=0.29\n",
"R1=60 //mm\n",
"R11=130 //mm\n",
"R2=80 //mm\n",
"R22=200 //mm\n",
"th=%pi/3\n",
"P=4.5 //kN\n",
"P=P*10^3\n",
"E=E1*10^3\n",
"B=1/4*(1/R1+1/R2+1/R11+1/R22)+1/4*((1/R1+1/R2-1/R11-1/R22)^2 - 4*(1/R1-1/R11)*(1/R2-1/R22)*(sin(th)^2))^(1/2)\n",
"A=1/4*(1/R1+1/R2+1/R11+1/R22)-1/4*((1/R1+1/R2-1/R11-1/R22)^2 - 4*(1/R1-1/R11)*(1/R2-1/R22)*(sin(th)^2))^(1/2)\n",
"Del=2*(1-v1^2)/(E*(A+B))\n",
"BAr=B/A\n",
"Cb=0.77\n",
"Cs=0.724\n",
"Ct=0.24\n",
"Cg=0.22\n",
"Cz=0.53\n",
"Cd=2.10\n",
"b=Cb*(P*Del)^(1/3)\n",
"br=b/Del\n",
"S_max=-Cs*br\n",
"tau_max=Ct*br\n",
"tau_oct=Cg*br\n",
"Zs=Cz*b\n",
"delta=Cd*P/%pi*((A+B)/br)\n",
"printf('Sigma_max = %d MPa',S_max)\n",
"printf('\n tau_max = %d MPa',tau_max)\n",
"printf('\n tau_oct_max = %d MPa',tau_oct)\n",
"printf('\n Zs = %.2f mm',Zs)\n",
"printf('\n delta = %.3f mm',delta)\n",
"// S_max doesn't match due to round off error\n",
"\n",
""
   ]
   }
,
{
		   "cell_type": "markdown",
		   "metadata": {},
		   "source": [
			"## Example 17.2: Example2.sce"
		   ]
		  },
  {
"cell_type": "code",
	   "execution_count": null,
	   "metadata": {
	    "collapsed": true
	   },
	   "outputs": [],
"source": [
"clc\n",
"// initialization of variables\n",
"clear\n",
"E=200 //GPa\n",
"v=0.29\n",
"Y=1600 //MPa\n",
"Po=4.2 //kN\n",
"Omega=3000 //rpm\n",
"th=%pi/3\n",
"P=1.75 //kN\n",
"R1=4.76 //mm\n",
"R11=R1\n",
"R2=-4.86 //mm\n",
"R22=18.24 //mm\n",
"//part (a)\n",
"E=E*10^3\n",
"Po=Po*10^3\n",
"P=P*10^3\n",
"B=1/4*(1/R1+1/R2+1/R11+1/R22)+1/4*((1/R1+1/R2-1/R11-1/R22)^2 - 4*(1/R1-1/R11)*(1/R2-1/R22)*(sin(th)^2))^(1/2)\n",
"A=1/4*(1/R1+1/R2+1/R11+1/R22)-1/4*((1/R1+1/R2-1/R11-1/R22)^2 - 4*(1/R1-1/R11)*(1/R2-1/R22)*(sin(th)^2))^(1/2)\n",
"Del=2*(1-v^2)/(E*(A+B))\n",
"BAr=B/A\n",
"Cb=0.32\n",
"k=0.075\n",
"Cs=1.00\n",
"Ct=0.3\n",
"Cg=0.27\n",
"Cz=0.78\n",
"b=Cb*(P*Del)^(1/3)\n",
"a=b/k\n",
"br=b/Del\n",
"S_max=-Cs*br\n",
"tau_max=Ct*br\n",
"tau_oct=Cg*br\n",
"Zs=Cz*b\n",
"tauo=0.486*b/(2*Del)\n",
"Zo=0.41*b\n",
"printf('b = %.4f mm',b)\n",
"printf('\n a = %.3f mm',a)\n",
"printf('\n b/Delta = %d MPa',br)\n",
"printf('\n Sigma_max = %d MPa',S_max)\n",
"printf('\n tau_max = %d MPa',tau_max)\n",
"printf('\n tau_oct_max = %d MPa',tau_oct)\n",
"printf('\n Zs = %.3f mm',Zs)\n",
"printf('\n Tau_0 = %d MPa',tauo)\n",
"printf('\n Zo = %.3f mm',Zo)\n",
"\n",
"// part (b)\n",
"tau_oY=sqrt(2)*Y/3\n",
"Py = 1/Del*(tau_oY/(Cg*Cb)*Del)^3\n",
"printf('\n part (b)')\n",
"printf('\n P_Y = %d N',Py)\n",
"SF=Py/P\n",
"printf('\n SF = %.2f ',SF)\n",
"\n",
"\n",
""
   ]
   }
,
{
		   "cell_type": "markdown",
		   "metadata": {},
		   "source": [
			"## Example 17.3: Example3.sce"
		   ]
		  },
  {
"cell_type": "code",
	   "execution_count": null,
	   "metadata": {
	    "collapsed": true
	   },
	   "outputs": [],
"source": [
"clc\n",
"// initialization of variables\n",
"clear\n",
"E=200 //GPa\n",
"v=0.29\n",
"R=40 //mm\n",
"h=20 //mm\n",
"P=24.1 //kN\n",
"S_max=1445 //MPa\n",
"tau_max=433 //MPa\n",
"tau_octM=361 //MPa\n",
"//calculations\n",
"E=E*10^3\n",
"P=P*10^3\n",
"Del=2*R*(1-v^2)/E\n",
"b=sqrt(2*P*Del/(h*%pi))\n",
"br=b/Del\n",
"S_maxT=2*b/(9*Del)\n",
"S_maxC=-1.13*br\n",
"tau_max=0.31*br\n",
"tau_octM=0.255*br\n",
"printf('Sigma_max (tension) = %d MPa',S_maxT)\n",
"printf('\n Sigma_max (compression) = %d MPa',S_maxC)\n",
"printf('\n tau_max = %d MPa',tau_max)\n",
"printf('\n tau_oct_max = %d MPa',tau_octM)"
   ]
   }
],
"metadata": {
		  "kernelspec": {
		   "display_name": "Scilab",
		   "language": "scilab",
		   "name": "scilab"
		  },
		  "language_info": {
		   "file_extension": ".sce",
		   "help_links": [
			{
			 "text": "MetaKernel Magics",
			 "url": "https://github.com/calysto/metakernel/blob/master/metakernel/magics/README.md"
			}
		   ],
		   "mimetype": "text/x-octave",
		   "name": "scilab",
		   "version": "0.7.1"
		  }
		 },
		 "nbformat": 4,
		 "nbformat_minor": 0
}
