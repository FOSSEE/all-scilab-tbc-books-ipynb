{
"cells": [
 {
		   "cell_type": "markdown",
	   "metadata": {},
	   "source": [
       "# Chapter 8: SHEAR CENTER FOR THIN WALL BEAM CROSS SECTIONS"
	   ]
	},
{
		   "cell_type": "markdown",
		   "metadata": {},
		   "source": [
			"## Example 8.1: Example1.sce"
		   ]
		  },
  {
"cell_type": "code",
	   "execution_count": null,
	   "metadata": {
	    "collapsed": true
	   },
	   "outputs": [],
"source": [
"clc\n",
"// initialization of variables\n",
"clear\n",
"t=4 //mm\n",
"// calculations\n",
"l1=100 //mm See figure\n",
"l2=50 //mm See figure\n",
"ybar=125 //mm\n",
"t=t*10^-3\n",
"ybar=ybar*10^-3\n",
"l1=l1*10^-3\n",
"l2=l2*10^-3\n",
"Ix=2*t*(2*(l1+l2))^3/12-t*(2*l1)^3/12\n",
"qAk=l1*t*ybar // qA=qAk*V\n",
"qBk=qAk+l1*t*l1/2\n",
"qave=qAk+2/3*(qBk-qAk)\n",
"F2k=200*qave*10^-3 //F2=F2k*V\n",
"DO=100/tan(30*%pi/180) // from figure\n",
"// Now we need to solve the following equation\n",
"// (DO-e)*V=DO*F2\n",
"e=DO*(1-F2k/Ix)\n",
"printf('e = %.1f mm',e)"
   ]
   }
,
{
		   "cell_type": "markdown",
		   "metadata": {},
		   "source": [
			"## Example 8.2: Chapter8_Example_2.sce"
		   ]
		  },
  {
"cell_type": "code",
	   "execution_count": null,
	   "metadata": {
	    "collapsed": true
	   },
	   "outputs": [],
"source": [
"clc\n",
"// initialization of variables\n",
"clear\n",
"// Defining the legs\n",
"a=50 //mm  Top horizontal leg\n",
"b=100 //mm Verical leg\n",
"c=100 //mm bottom leg\n",
"t=4 //mm\n",
"Ix=1.734e6 //mm^4\n",
"Iy=0.876e6 //mm^4\n",
"Ixy=-0.5e6 //mm^4\n",
"I=[Ix Ixy\n",
"   Ixy Iy]\n",
"theta=1/2*atan(-2*Ixy/(Ix-Iy))\n",
"Q=[cos(theta) -sin(theta)\n",
"   sin(theta) cos(theta)]\n",
"I_1=Q*I*Q' // I_1=[IX IXY| IXY IY]\n",
"// Finding out the centroidal coordinates\n",
"// We have x_bar = Summation(Ai*Xi)/Summation(Ai)\n",
"// We take D as reference\n",
"Aa=a*t\n",
"Ab=b*t\n",
"Ac=c*t\n",
"A=Aa+Ab+Ac\n",
"x_D=((Ac*c/2)+(Aa*a/2))/A\n",
"y_D=((Ab*b/2)+(Aa*b))/A\n",
"//Finding out B coordinates\n",
"xb=a-x_D\n",
"yb=b-y_D\n",
"x=[xb;yb]\n",
"X=Q'*x //New coordinates of B in transformed system\n",
"function y=f(l),\n",
"    y=t*l/I_1(1)*(X(2)+1/2*l*sin(theta)),\n",
"endfunction\n",
"F3=intg(0,a,f) // This is the coefficient of VY\n",
"e_X=b*F3\n",
"printf('eX = %.2f mm',e_X)\n",
"// To find eY\n",
"function y1=g(l),\n",
"    y1=t*l/I_1(4)*(X(1)-1/2*l*cos(theta)),\n",
"endfunction\n",
"F3=intg(0,a,g) // This is the coefficient of VX\n",
"e_Y=b*F3\n",
"printf('\n eY = %.2f mm',e_Y)\n",
"XC=Q'*[x_D\n",
"       y_D]\n",
"XC=XC+[e_X\n",
"      -e_Y]\n",
"printf('\n In terms of intial coordinates, the shear center C is located at \n XC = %.2f mm',XC(1))\n",
"printf('\n YC = %.2f mm',XC(2))    \n",
"xC=Q*XC\n",
"printf('\n The x and y coordinates of shear center C are \n xC = %.2f mm',xC(1))\n",
"printf('\n yC = %.2f mm',xC(2))   "
   ]
   }
,
{
		   "cell_type": "markdown",
		   "metadata": {},
		   "source": [
			"## Example 8.3: Example3.sce"
		   ]
		  },
  {
"cell_type": "code",
	   "execution_count": null,
	   "metadata": {
	    "collapsed": true
	   },
	   "outputs": [],
"source": [
"clc\n",
"// initialization of variables\n",
"clear\n",
"t1=1 //mm\n",
"t2=2 //mm\n",
"oT=9.67 //mm distance between base and the centroid of each T-ection\n",
"y2_bar=100+10+1+oT //mm  (follwos from the figure)\n",
"A1=400 //mm^2\n",
"y1_bar=100 //mm\n",
"A2=324 //mm^2\n",
"Ix=2*A1*y1_bar^2+2*A2*y2_bar^2\n",
"q1k=A2*y2_bar //q1=q1k*Vy/Ix\n",
"F1k=(oT+t1/2)*q1k  // Fi=Fik*Vy/Ix\n",
"F2k=60*q1k\n",
"F3k=(10+t1/2)*q1k\n",
"q2k=q1k+(A1*y1_bar)\n",
"F4k=(10+t2/2)*q2k\n",
"F5k=200*q2k\n",
"V_pk=2*(F1k+2*F3k+F5k)/Ix // V_p=V_pk*Vy\n",
"e=(-2*F1k*71-2*F3k*11+F2k*221+F4k*200)/Ix\n",
"printf('e = %.2f mm',e)"
   ]
   }
,
{
		   "cell_type": "markdown",
		   "metadata": {},
		   "source": [
			"## Example 8.4: Example4.sce"
		   ]
		  },
  {
"cell_type": "code",
	   "execution_count": null,
	   "metadata": {
	    "collapsed": true
	   },
	   "outputs": [],
"source": [
"clc\n",
"// initialization of variables\n",
"clear\n",
"b=300 //mm\n",
"h=500 //mm\n",
"t1=20 //mm\n",
"t2=10 //mm\n",
"t3=t2\n",
"Ix=687.5e+06 //mm^4\n",
"q_P=b*t2*h/2\n",
"q_Q=q_P+h/2*t1*h/4\n",
"q_S=h/2*t3*h/4\n",
"q_A=-1/(h/t1+b/t2+h/t3+b/t2)*((-q_P-2/3*(q_Q-q_P))*h/t1-q_P/2*b/t2+2/3*q_S*h/t3-q_P/2*b/t2)\n",
"e=1/Ix*((444.4+2/3*625)*b*h+444.4/2*177.76*h-q_A/(1000*2)*122.24*h)\n",
"V1=(q_P-q_A+2/3*(q_Q-q_P))*h\n",
"V2=(q_A+2/3*q_S)*h\n",
"V=V1+V2\n",
"printf('e = %d mm',e*10^3)\n",
"printf('\n V = %d kN',V/1000)"
   ]
   }
,
{
		   "cell_type": "markdown",
		   "metadata": {},
		   "source": [
			"## Example 8.5: Example5.sce"
		   ]
		  },
  {
"cell_type": "code",
	   "execution_count": null,
	   "metadata": {
	    "collapsed": true
	   },
	   "outputs": [],
"source": [
"clc\n",
"// initialization of variables\n",
"clear\n",
"a=500 //mm\n",
"b=a\n",
"t1=5 //mm\n",
"t2=10 //mm\n",
"t3=20 //mm\n",
"// calculations\n",
"Ix=2343.75e+06//mm^4\n",
"q_B=b*t2*a/2\n",
"q_C=q_B+a/2*t1*a/4\n",
"q_S=a/2*t3*a/4\n",
"q_G=2*b*t2*a/2\n",
"q_H=q_G+a/2*t3*a/4\n",
"// th_L = th_R = 0  \n",
"// Writing the above in following form\n",
"//Ab=c ; b={q_A q_F}\n",
"A11=a/t1+b/t2+a/t3+b/t2\n",
"A12=a/t3\n",
"c1=(q_B+2/3*(q_C-q_B))*a/t1 + 1/2*q_B*b/t2 - 2/3*q_S*a/t3 + 1/2*q_B*b/t2\n",
"A21=A12\n",
"A22=a/t3+2*b/t2+a/t3+2*b/t2\n",
"c2=(q_G+2/3*(q_H-q_G))*a/t3+1/2*q_G*2*b/t2-2/3*q_S*a/t3+1/2*q_G*2*b/t2\n",
"A=[A11 A12\n",
"   A21 A22]\n",
"c=[c1\n",
"   c2]\n",
"b=inv(A)*c\n",
"q_A=b(1)/1000 //kN/mm\n",
"q_F=b(2)/1000 //kN/mm\n",
"q_B=q_B/1000\n",
"q_C=q_C/1000\n",
"q_S=q_S/1000\n",
"q_G=q_G/1000\n",
"q_H=q_H/1000\n",
"b=a // rewriting to it's initival value\n",
" // To find out e, balance the moments     \n",
" e=-((q_B-q_A+2/3*(q_C-q_A-(q_B-q_A)))*a*b + 1/2*(q_B-q_A)*219.1*a - 1/2*q_A*280.9*a + 1/2*q_F*471.9*a -1/2*(q_G-q_F)*528.1*a-(q_G-q_F+2/3*(q_H-q_F-(q_G-q_F)))*a*2*b)\n",
"e=e/Ix\n",
" printf('e = %.1f mm',e*10^3)\n",
" // Wrong answer in the text"
   ]
   }
],
"metadata": {
		  "kernelspec": {
		   "display_name": "Scilab",
		   "language": "scilab",
		   "name": "scilab"
		  },
		  "language_info": {
		   "file_extension": ".sce",
		   "help_links": [
			{
			 "text": "MetaKernel Magics",
			 "url": "https://github.com/calysto/metakernel/blob/master/metakernel/magics/README.md"
			}
		   ],
		   "mimetype": "text/x-octave",
		   "name": "scilab",
		   "version": "0.7.1"
		  }
		 },
		 "nbformat": 4,
		 "nbformat_minor": 0
}
