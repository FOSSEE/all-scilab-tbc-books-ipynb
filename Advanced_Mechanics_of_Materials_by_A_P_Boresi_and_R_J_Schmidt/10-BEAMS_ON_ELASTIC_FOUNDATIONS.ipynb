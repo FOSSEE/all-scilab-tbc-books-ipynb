{
"cells": [
 {
		   "cell_type": "markdown",
	   "metadata": {},
	   "source": [
       "# Chapter 10: BEAMS ON ELASTIC FOUNDATIONS"
	   ]
	},
{
		   "cell_type": "markdown",
		   "metadata": {},
		   "source": [
			"## Example 10.1: Example1.sce"
		   ]
		  },
  {
"cell_type": "code",
	   "execution_count": null,
	   "metadata": {
	    "collapsed": true
	   },
	   "outputs": [],
"source": [
"clc\n",
"// initialization of variables\n",
"clear\n",
"//part(a)\n",
"E=200 //GPa\n",
"d=184 //mm\n",
"c=99.1 //mm\n",
"Ix=36.9e+06//mm^4\n",
"k=14.0 //N/mm^2\n",
"P=170 //kN\n",
"//calculations\n",
"E=E*10^3\n",
"P=P*10^3\n",
"Beta=(k/(4*E*Ix))^(1/4)\n",
"y_max=P*Beta/(2*k)\n",
"M_max=P/(4*Beta)\n",
"S_max=M_max*c/Ix\n",
"printf('part (a)')\n",
"printf('\n y_max = %.3f mm',y_max)\n",
"printf('\n M_max = %.2f kN.m',M_max/10^6)\n",
"printf('\n S_max = %.1f MPa',S_max)\n",
"// part (b)\n",
"z1=1.7//m\n",
"z1=z1*10^3 //mm\n",
"z2=2*z1\n",
"// A_bz=exp(-Beta*z)*(sin(Beta*z)+cos(Beta*z))\n",
"// C_bz=exp(-Beta*z)*(-sin(Beta*z)+cos(Beta*z))\n",
"A_bzo=1\n",
"C_bzo=1\n",
"A_bz1=exp(-Beta*z1)*(sin(Beta*z1)+cos(Beta*z1))\n",
"A_bz2=exp(-Beta*z2)*(sin(Beta*z2)+cos(Beta*z2))\n",
"C_bz1=exp(-Beta*z1)*(-sin(Beta*z1)+cos(Beta*z1))\n",
"C_bz2=exp(-Beta*z2)*(-sin(Beta*z2)+cos(Beta*z2))\n",
"y_end=P*Beta/(2*k)*(A_bzo+A_bz1+A_bz2)\n",
"M_end=P/(4*Beta)*(C_bzo+C_bz1+C_bz2)\n",
"y_center=P*Beta/(2*k)*(A_bzo+2*A_bz1)\n",
"M_center=P/(4*Beta)*(C_bzo+2*C_bz1)\n",
"y_max=max(y_end,y_center)\n",
"M_max=max(M_end,M_center)\n",
"S_max=M_max*c/Ix\n",
"printf('\n part(b)')\n",
"printf('\n y_max = %.3f mm',y_max)\n",
"printf('\n M_max = %.2f kN.m',M_max/10^6)\n",
"printf('\n S_max = %.1f MPa',S_max)"
   ]
   }
,
{
		   "cell_type": "markdown",
		   "metadata": {},
		   "source": [
			"## Example 10.2: Example2.sce"
		   ]
		  },
  {
"cell_type": "code",
	   "execution_count": null,
	   "metadata": {
	    "collapsed": true
	   },
	   "outputs": [],
"source": [
"clc\n",
"// initialization of variables\n",
"clear\n",
"d=100 //mm\n",
"Ix=2.45e+06 //mm^4\n",
"E=72 //GPa\n",
"L=6.8 //m\n",
"K=110 //N/mm\n",
"l=1.1 //m\n",
"P=12 //kN\n",
"//calculations\n",
"E=E*10^3\n",
"P=P*10^3\n",
"l=l*10^3\n",
"k=K/l\n",
"L1=7*l\n",
"Beta=(k/(4*E*Ix))^(1/4)\n",
"if(l<%pi/(4*Beta))\n",
"if(L1>3*%pi/(2*Beta))\n",
"    y_max=P*Beta/(2*k)\n",
"    M_max=P/(4*Beta)\n",
"    S_max=M_max*d/(2*Ix)\n",
"end\n",
"end\n",
"printf('y_max = %.3f mm',y_max)\n",
"printf('\n M_max = %.2f kN.m',M_max/10^6)\n",
"printf('\n S_max = %.1f MPa',S_max)\n",
"A_bl=exp(-Beta*l)*(sin(Beta*l)+cos(Beta*l))\n",
"A_2bl=exp(-Beta*2*l)*(sin(Beta*2*l)+cos(Beta*2*l))\n",
"A_3bl=exp(-Beta*3*l)*(sin(Beta*3*l)+cos(Beta*3*l))\n",
"    y_C=P*Beta/(2*k)*A_bl\n",
"    y_B=P*Beta/(2*k)*A_2bl\n",
"    y_A=P*Beta/(2*k)*A_3bl\n",
"printf('\n y_C = %.2f mm',y_C)\n",
"printf('\n y_B = %.2f mm',y_B)\n",
"printf('\n y_A = %.2f mm',y_A)"
   ]
   }
,
{
		   "cell_type": "markdown",
		   "metadata": {},
		   "source": [
			"## Example 10.4: Example4.sce"
		   ]
		  },
  {
"cell_type": "code",
	   "execution_count": null,
	   "metadata": {
	    "collapsed": true
	   },
	   "outputs": [],
"source": [
"clc\n",
"// initialization of variables\n",
"clear\n",
"E=10 //GPa\n",
"h=200 //mm\n",
"b=100 //mm\n",
"ko=0.04 //N/mm^3\n",
"w=35 //N/mm\n",
"L1=3.61 //m\n",
"//calculations\n",
"E=E*10^3\n",
"L1=L1*10^3\n",
"k=b*ko\n",
"Ix=b*h^3/12\n",
"Beta=(k/(4*E*Ix))^(1/4)\n",
"ba=2.00 // ba = Beta*a  based on the discussion\n",
"//D_bz=exp(-Beta*z)*sin(Beta*z)\n",
"D_ba=exp(-ba)*cos(ba)\n",
"y_max=w/k*(1-D_ba)\n",
"ba=0.777 //Beta*a\n",
"bb=4.777 //Beta*b\n",
"B_ba=exp(-ba)*sin(ba)\n",
"B_bb=exp(-bb)*sin(bb)\n",
"M_max=abs(-w*(B_ba-B_bb)/(4*Beta^2))\n",
"c=h/2\n",
"S_max=M_max*c/Ix\n",
"// calculation of M_H\n",
"ba=%pi/4 //Beta*a\n",
"bb=4-%pi/4 //Beta*b\n",
"B_ba=exp(-ba)*sin(ba)\n",
"B_bb=exp(-bb)*sin(bb)\n",
"M_H=w/(4*Beta^2)*(B_ba+B_bb)\n",
"printf('y_max = %.3f mm',y_max)\n",
"printf('\n M_max = %.3f kN.m',M_max/10^6)\n",
"printf('\n S_max = %.3f MPa',S_max)\n",
"printf('\n M_H = %.3f kN.m',M_H/10^6)"
   ]
   }
,
{
		   "cell_type": "markdown",
		   "metadata": {},
		   "source": [
			"## Example 10.5: Example5.sce"
		   ]
		  },
  {
"cell_type": "code",
	   "execution_count": null,
	   "metadata": {
	    "collapsed": true
	   },
	   "outputs": [],
"source": [
"clc\n",
"// initialization of variables\n",
"clear\n",
"E=200 //GPa\n",
"h=102 //mm\n",
"b=68 //mm\n",
"Ix=2.53e+06 //mm^4\n",
"L1=4 //m\n",
"ko=0.35 //N/mm^3\n",
"P=30.0 //kN\n",
"//calculations\n",
"E=E*10^3\n",
"P=P*10^3\n",
"L1=L1*10^3\n",
"k=b*ko\n",
"Beta=(k/(4*E*Ix))^(1/4)\n",
"if(L1>3*%pi/(2*Beta))\n",
"    y_max=2*P*Beta/k\n",
"   M_max=-0.3224*P/Beta\n",
"   S_max=abs(M_max*h/(2*Ix))\n",
"end\n",
"z=%pi/(4*Beta)\n",
"printf('y_max = %.2f mm',y_max)\n",
"printf('\n M_max = %.2f kN.m',M_max/10^6)\n",
"printf('\n S_max = %.1f MPa',S_max)\n",
"printf('\n Location of Sigma_max is z = %d mm',z) \n",
"    "
   ]
   }
,
{
		   "cell_type": "markdown",
		   "metadata": {},
		   "source": [
			"## Example 10.6: Example6.sce"
		   ]
		  },
  {
"cell_type": "code",
	   "execution_count": null,
	   "metadata": {
	    "collapsed": true
	   },
	   "outputs": [],
"source": [
"clc\n",
"// initialization of variables\n",
"clear\n",
"P=30.0 //kN\n",
"a=500 //mm\n",
"h=102 //mm\n",
"b=68 //mm\n",
"k=23.8 //N/mm^2\n",
"Beta=0.001852\n",
"Ix=2.53e+06 //mm^4\n",
"//calculations\n",
"P=P*10^3\n",
"C_ba=exp(-Beta*a)*(-sin(Beta*a)+cos(Beta*a))\n",
"D_ba=exp(-Beta*a)*cos(Beta*a)\n",
"// y = P*Beta/(2*k)*(A_bz+2*D_ba*D_baz+C_ba*C_baz))\n",
"// Mx = P/(4*Beta)*(C_bz-2*D_ba*B_baz-C_ba*A_baz)\n",
"A_ba=exp(-Beta*a)*(sin(Beta*a)+cos(Beta*a))\n",
"B_ba=exp(-Beta*a)*sin(Beta*a)\n",
"C_ba=exp(-Beta*a)*(-sin(Beta*a)+cos(Beta*a))\n",
"D_ba=exp(-Beta*a)*cos(Beta*a)\n",
"z1=424 //mm\n",
"z=z1-a\n",
"A_bz=exp(-Beta*z)*(sin(Beta*z)+cos(Beta*z))\n",
"B_bz=exp(-Beta*z)*sin(Beta*z)\n",
"C_bz=exp(-Beta*z)*(-sin(Beta*z)+cos(Beta*z))\n",
"D_bz=exp(-Beta*z)*cos(Beta*z)\n",
"// to find out X_baz\n",
"z=a+z\n",
"A_baz=exp(-Beta*z)*(sin(Beta*z)+cos(Beta*z))\n",
"B_baz=exp(-Beta*z)*sin(Beta*z)\n",
"C_baz=exp(-Beta*z)*(-sin(Beta*z)+cos(Beta*z))\n",
"D_baz=exp(-Beta*z)*cos(Beta*z)\n",
"y_max = P*Beta/(2*k)*(A_bz+2*D_ba*D_baz+C_ba*C_baz)\n",
"printf('y_max = %.4f mm',y_max)\n",
"// For M_max\n",
"z1=500 //mm\n",
"z=z1-a\n",
"A_bz=exp(-Beta*z)*(sin(Beta*z)+cos(Beta*z))\n",
"B_bz=exp(-Beta*z)*sin(Beta*z)\n",
"C_bz=exp(-Beta*z)*(-sin(Beta*z)+cos(Beta*z))\n",
"D_bz=exp(-Beta*z)*cos(Beta*z)\n",
"// to find out X_baz\n",
"z=a+z\n",
"A_baz=exp(-Beta*z)*(sin(Beta*z)+cos(Beta*z))\n",
"B_baz=exp(-Beta*z)*sin(Beta*z)\n",
"C_baz=exp(-Beta*z)*(-sin(Beta*z)+cos(Beta*z))\n",
"D_baz=exp(-Beta*z)*cos(Beta*z)\n",
"M_max = P/(4*Beta)*(C_bz-2*D_ba*B_baz-C_ba*A_baz)\n",
"printf('\n M_max = %d N.mm',M_max)\n",
"S_max=M_max*h/(2*Ix)\n",
"printf('\n Sigma_max = %.1f MPa',S_max)"
   ]
   }
,
{
		   "cell_type": "markdown",
		   "metadata": {},
		   "source": [
			"## Example 10.7: Example7.sce"
		   ]
		  },
  {
"cell_type": "code",
	   "execution_count": null,
	   "metadata": {
	    "collapsed": true
	   },
	   "outputs": [],
"source": [
"clc\n",
"// initialization of variables\n",
"clear\n",
"D=30 //m\n",
"t=10 //m\n",
"h=20 //mm\n",
"E=200 //GPa\n",
"v=0.29\n",
"rho=900 //kg/m^3\n",
"//calculations\n",
"//part (a)\n",
"E=E*10^3\n",
"a=D/2*10^3\n",
"p=t*10^3*9.807*rho*10^-9\n",
"S_th=p*a/h\n",
"tau_max=S_th/2\n",
"printf('part (a)')\n",
"printf('\n Maximum shear stress= %.2f MPa',tau_max)\n",
"// part (b)\n",
"k=E*h/(a^2)\n",
"Beta=(3*(1-v^2)/(h^2*a^2))^(1/4)\n",
"L1=3*%pi/(4*Beta) //L1=L/2\n",
"u=S_th*a/E\n",
"w=2*k*u/(Beta)\n",
"M_max=w/(4*Beta)\n",
"Szz_max=M_max*(h/2)/(h^3/12)\n",
"Sth_max=v*Szz_max\n",
"tau_max=Szz_max/2\n",
"u_b=w*(1-v)*a/(2*E*h)\n",
"printf('\n part (b)')\n",
"printf('\n Maximum shear stress= %.2f MPa',tau_max)\n",
"printf('\n u_bottom = %.3f mm',u_b)\n",
"// part (c)\n",
"w=u*k/(2*Beta)\n",
"z=%pi/(4*Beta)\n",
"B_bz=exp(-Beta*z)*sin(Beta*z)\n",
"M_max=-w*B_bz/Beta\n",
"c=6\n",
"I=h^2\n",
"Szz_max=(M_max*c/I)\n",
"S_th1=v*(Szz_max)\n",
"k=0.3224\n",
"S_th2=(1-k)*S_th\n",
"Sigma_th=S_th1+S_th2\n",
"tau_max=(Sigma_th-Szz_max)/2\n",
"printf('\n part (c)')\n",
"printf('\n Maximum shear stress= %.2f MPa',tau_max)\n",
""
   ]
   }
],
"metadata": {
		  "kernelspec": {
		   "display_name": "Scilab",
		   "language": "scilab",
		   "name": "scilab"
		  },
		  "language_info": {
		   "file_extension": ".sce",
		   "help_links": [
			{
			 "text": "MetaKernel Magics",
			 "url": "https://github.com/calysto/metakernel/blob/master/metakernel/magics/README.md"
			}
		   ],
		   "mimetype": "text/x-octave",
		   "name": "scilab",
		   "version": "0.7.1"
		  }
		 },
		 "nbformat": 4,
		 "nbformat_minor": 0
}
