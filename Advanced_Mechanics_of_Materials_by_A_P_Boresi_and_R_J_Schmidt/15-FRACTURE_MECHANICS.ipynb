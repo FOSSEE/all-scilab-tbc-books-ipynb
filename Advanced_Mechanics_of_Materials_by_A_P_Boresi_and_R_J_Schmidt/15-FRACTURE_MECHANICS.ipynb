{
"cells": [
 {
		   "cell_type": "markdown",
	   "metadata": {},
	   "source": [
       "# Chapter 15: FRACTURE MECHANICS"
	   ]
	},
{
		   "cell_type": "markdown",
		   "metadata": {},
		   "source": [
			"## Example 15.2: Example2.sce"
		   ]
		  },
  {
"cell_type": "code",
	   "execution_count": null,
	   "metadata": {
	    "collapsed": true
	   },
	   "outputs": [],
"source": [
"clc\n",
"// initialization of variables\n",
"clear\n",
"d=250 //mm\n",
"c=30 //mm\n",
"t=25 //mm\n",
"// part (a)\n",
"a=5 //mm\n",
"lambda=a/(2*c)\n",
"f1l=1.22 //from the tble\n",
"f2l=1.02\n",
"//We don't know P yet so say P=1 \n",
"P=1\n",
"Sfl=P/(t*2*c)*f1l+3*280*P*f2l/(2*t*c^2)\n",
"K_IC=59*sqrt(1000)\n",
"P=K_IC/(Sfl*sqrt(a*%pi))\n",
"printf('part (a)')\n",
"printf('\n P = %.1f kN',P/10^3)\n",
"// part (b)\n",
"a=10 //mm\n",
"lambda=a/(2*c)\n",
"f1l=1.33 //from the tble\n",
"f2l=1.05\n",
"// We don't know P yet so say P=1 \n",
"P=1\n",
"Sfl=P/(t*2*c)*f1l+3*280*P*f2l/(2*t*c^2)\n",
"K_IC=59*sqrt(1000)\n",
"P=K_IC/(Sfl*sqrt(a*%pi))\n",
"printf('\n part (b)')\n",
"printf('\n P = %.1f kN',P/10^3)"
   ]
   }
,
{
		   "cell_type": "markdown",
		   "metadata": {},
		   "source": [
			"## Example 15.3: Example3.sce"
		   ]
		  },
  {
"cell_type": "code",
	   "execution_count": null,
	   "metadata": {
	    "collapsed": true
	   },
	   "outputs": [],
"source": [
"clc\n",
"// initialization of variables\n",
"clear\n",
"a=100/2 //mm\n",
"Y=1500 //MPa\n",
"t=6 //mm\n",
"w=800 //mmm\n",
"c=200 //mm\n",
"a_c=a/c\n",
"fl=1.045\n",
"w=w*10^-3\n",
"t=t*10^-3\n",
"a=a*10^-3\n",
"A=w*t\n",
"Sigma=1/A\n",
"K_I=Sigma*sqrt(%pi*a)*fl\n",
"printf('part (a)')\n",
"printf('\n K_I = %.2f MPa sqrt(m)',K_I)"
   ]
   }
,
{
		   "cell_type": "markdown",
		   "metadata": {},
		   "source": [
			"## Example 15.4: Example4.sce"
		   ]
		  },
  {
"cell_type": "code",
	   "execution_count": null,
	   "metadata": {
	    "collapsed": true
	   },
	   "outputs": [],
"source": [
"clc\n",
"// initialization of variables\n",
"clear\n",
"S_u=1300 //MPa\n",
"K_C=69 // MPa sqrt(m)\n",
"SF=2.2\n",
"//calculations\n",
"S_c=S_u/2.2\n",
"a=1/%pi*(K_C/S_c)^2\n",
"printf('a = %.2f mm',a*10^3)"
   ]
   }
,
{
		   "cell_type": "markdown",
		   "metadata": {},
		   "source": [
			"## Example 15.5: Example5.sce"
		   ]
		  },
  {
"cell_type": "code",
	   "execution_count": null,
	   "metadata": {
	    "collapsed": true
	   },
	   "outputs": [],
"source": [
"clc\n",
"// initialization of variables\n",
"clear\n",
"// For 30 mm crack\n",
"a=30/2 // mm  crack\n",
"S_30 =600 //MPa\n",
"a=a*10^-3\n",
"C=S_30*sqrt(a)\n",
"// For 120 mm crack\n",
"a=120/2\n",
"a=a*10^-3\n",
"S_120=C/sqrt(a)\n",
"printf('Sigma_120 = %d MPa',S_120)\n",
""
   ]
   }
],
"metadata": {
		  "kernelspec": {
		   "display_name": "Scilab",
		   "language": "scilab",
		   "name": "scilab"
		  },
		  "language_info": {
		   "file_extension": ".sce",
		   "help_links": [
			{
			 "text": "MetaKernel Magics",
			 "url": "https://github.com/calysto/metakernel/blob/master/metakernel/magics/README.md"
			}
		   ],
		   "mimetype": "text/x-octave",
		   "name": "scilab",
		   "version": "0.7.1"
		  }
		 },
		 "nbformat": 4,
		 "nbformat_minor": 0
}
