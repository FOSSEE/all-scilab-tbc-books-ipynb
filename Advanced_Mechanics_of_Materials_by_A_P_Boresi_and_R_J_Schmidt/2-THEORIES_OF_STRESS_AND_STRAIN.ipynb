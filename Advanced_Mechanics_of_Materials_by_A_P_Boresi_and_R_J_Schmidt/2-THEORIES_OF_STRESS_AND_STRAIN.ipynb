{
"cells": [
 {
		   "cell_type": "markdown",
	   "metadata": {},
	   "source": [
       "# Chapter 2: THEORIES OF STRESS AND STRAIN"
	   ]
	},
{
		   "cell_type": "markdown",
		   "metadata": {},
		   "source": [
			"## Example 2.1: Example1.sce"
		   ]
		  },
  {
"cell_type": "code",
	   "execution_count": null,
	   "metadata": {
	    "collapsed": true
	   },
	   "outputs": [],
"source": [
"clc\n",
"// initialization of variables\n",
"clear\n",
"sig_xx=-10 // MPa\n",
"sig_yy=30 // MPa\n",
"sig_xy=15 // MPa\n",
"sig_xz=0 // MPa\n",
"sig_yz=0 // MPa\n",
"sig_zz=0 //MPa\n",
"I1=sig_xx+sig_yy+sig_zz\n",
"I2=sig_xx*sig_yy-sig_xy^2+sig_zz*sig_xx-sig_xz^2+sig_zz*sig_yy-sig_yz^2\n",
"M=[sig_xx sig_xy sig_xz\n",
"   sig_xy sig_yy sig_yz\n",
"   sig_xz sig_yz sig_zz]\n",
"I3=det(M)  \n",
"p=[1 -I1 I2 -I3]\n",
"sigma=roots(p)\n",
"printf('I1 = %d  I2 = %d  I3 = %d  ',I1,I2,I3)\n",
"printf('\n Sigma_1 = %d  Sigma_2 = %d  SIgma_3 = %d ',sigma(1),sigma(3),sigma(2))\n",
"// We have:\n",
"// {S_xx-S S_xy S_xz\n",
"//  S_xy S_yy-S S_yz\n",
"//  S_xz S_yz S_zz-S}*{l m n}=0\n",
"// Substituting for Sigma_1\n",
"a1=sig_xx-sigma(1)\n",
"a2=sig_xy\n",
"a3=sig_xz\n",
"b1=sig_xy\n",
"b2=sig_yy-sigma(1)\n",
"b3=sig_yz  \n",
"c1=sig_xz \n",
"c2=sig_yz\n",
"c3=sig_zz-sigma(1)\n",
"// You can solve it using the matrices but since the system is imcoplete we get\n",
"n1=0\n",
"//bl*11+b2*m1=0\n",
"// This implies m1=-b1/b2*l1\n",
"// We also have l1^2+m1^2+n1^2=1\n",
"l1=1/sqrt(1+(b1/b2)^2)\n",
"m1=-b1/b2*l1\n",
"printf('\n N1 = %.4fi + %.4fj',l1,m1)\n",
"printf('\n or \n N1 = %.4fi + %.4fj',-l1,-m1)\n",
"// Similarly Substituting for Sigma_2\n",
"a1=sig_xx-sigma(3)\n",
"a2=sig_xy\n",
"a3=sig_xz\n",
"b1=sig_xy\n",
"b2=sig_yy-sigma(3)\n",
"b3=sig_yz  \n",
"c1=sig_xz \n",
"c2=sig_yz\n",
"c3=sig_zz-sigma(3)\n",
"// here, l2 = m2 = 0\n",
"l2=0\n",
"m2=0\n",
"n2=sqrt(1)\n",
"printf('\n N2 = %.4fk',n2)\n",
"printf('\n or \n N2 = %.4fk',-n2)\n",
"// Similarly Substituting for Sigma_3\n",
"a1=sig_xx-sigma(2)\n",
"a2=sig_xy\n",
"a3=sig_xz\n",
"b1=sig_xy\n",
"b2=sig_yy-sigma(2)\n",
"b3=sig_yz  \n",
"c1=sig_xz \n",
"c2=sig_yz\n",
"c3=sig_zz-sigma(2)\n",
"// On solving, we get \n",
"l3=1/sqrt(1+(b1/b2)^2)\n",
"m3=-b1/b2*l3\n",
"n3=0\n",
"printf('\n N3 = %.4fi + %.4fj',l3,m3)\n",
"printf('\n or \n N3 = %.4fi + %.4fj',-l3,-m3)\n",
"\n",
""
   ]
   }
,
{
		   "cell_type": "markdown",
		   "metadata": {},
		   "source": [
			"## Example 2.2: Example2.sce"
		   ]
		  },
  {
"cell_type": "code",
	   "execution_count": null,
	   "metadata": {
	    "collapsed": true
	   },
	   "outputs": [],
"source": [
"clc\n",
"// initialization of variables\n",
"clear\n",
"sig_xx=20 // MPa\n",
"sig_yy=10 // MPa\n",
"sig_xy=30 // MPa\n",
"sig_xz=-10 // MPa\n",
"sig_yz=80 // MPa\n",
"I2=-7800 // (MPa)^2\n",
"// part (a)\n",
"// Assume sig_zz=k and evaluate determinants to solve for k\n",
"det1=sig_xx*sig_yy-sig_xy^2\n",
"//det2=k*sig_xx-sig_xz^2\n",
"//det3=k*sig_yy-sig_yz^2\n",
"k=(I2-det1+sig_xz^2+sig_yz^2)/(sig_xx+sig_yy)\n",
"sig_zz=k\n",
"I1=sig_xx+sig_yy+sig_zz\n",
"M=[sig_xx sig_xy sig_xz\n",
"   sig_xy sig_yy sig_yz\n",
"   sig_xz sig_yz sig_zz]\n",
"I3=det(M)   \n",
"// p=poly([1 -I1 I2 -I3], 'x')\n",
"p=[1 -I1 I2 -I3]\n",
"sigma=roots(p)\n",
"// results\n",
"printf('\n part (a) \n')\n",
"printf(' The unknown stress component is = %.d M Pa and the stress invariants I1, I2, I3 are respectively %.d , %.d , %.d ',sig_zz,I1,I2,I3)\n",
"printf('\n The principal stresses are sigma1= %.3f , sigma2=%.3f , sigma3=%.3f M Pa',sigma(2),sigma(3),sigma(1))"
   ]
   }
,
{
		   "cell_type": "markdown",
		   "metadata": {},
		   "source": [
			"## Example 2.4: Example4.sce"
		   ]
		  },
  {
"cell_type": "code",
	   "execution_count": null,
	   "metadata": {
	    "collapsed": true
	   },
	   "outputs": [],
"source": [
"clc\n",
"// initialization of variables\n",
"clear\n",
"sig_xx=120 // MPa\n",
"sig_yy=55 // MPa\n",
"sig_xy=-55 // MPa\n",
"sig_xz=-75 // MPa\n",
"sig_yz=33 // MPa\n",
"sig_zz=-85 // MPa\n",
"// Direction cosines at point A\n",
"lA=1/sqrt(3)\n",
"mA=1/sqrt(3)\n",
"nA=1/sqrt(3)\n",
"// Direction cosines at point B\n",
"lB=1/sqrt(2)\n",
"mB=1/sqrt(2)\n",
"nB=0\n",
"// calculations\n",
"I1=sig_xx+sig_yy+sig_zz\n",
"I2=sig_xx*sig_yy-sig_xy^2+sig_zz*sig_xx-sig_xz^2+sig_zz*sig_yy-sig_yz^2\n",
"M=[sig_xx sig_xy sig_xz\n",
"   sig_xy sig_yy sig_yz\n",
"   sig_xz sig_yz sig_zz]\n",
"I3=det(M)   \n",
"p=[1 -I1 I2 -I3]\n",
"sig=roots(p)\n",
"sig=gsort(sig)\n",
"sigma(1)=sig(1) \n",
"sigma(3)=sig(2)\n",
"sigma(2)=sig(3)\n",
"// results\n",
"printf('\n The principal stresses are sigma1= %.3f , sigma2=%.3f , sigma3=%.3f M Pa',sigma(1),sigma(2),sigma(3))\n",
"// Finding about the circles\n",
"C11=(sigma(2)+sigma(3))/2\n",
"C21=(sigma(1)+sigma(3))/2\n",
"C31=(sigma(1)+sigma(2))/2\n",
"C12=0\n",
"C22=0\n",
"C32=0\n",
"R1=(sigma(2)-sigma(3))/2\n",
"R2=(sigma(1)-sigma(3))/2\n",
"R3=(sigma(1)-sigma(2))/2\n",
"SnnA=lA^2*sigma(1)+mA^2*sigma(2)+nA^2*sigma(3)\n",
"SnsA=sqrt(lA^2*sigma(1)^2+mA^2*sigma(2)^2+nA^2*sigma(3)^2-SnnA^2)\n",
"SnnB=lB^2*sigma(1)+mB^2*sigma(2)+nB^2*sigma(3)\n",
"SnsB=sqrt(lB^2*sigma(1)^2+mB^2*sigma(2)^2+nB^2*sigma(3)^2-SnnB^2)\n",
"printf('\n The details of circles are given below')\n",
"printf('\n C1 : (%.2f M Pa, %.e)  R1 = %.2f M Pa \n',C11,C12,R1)\n",
"printf('\n C2 : (%.2f M Pa, %.e)  R2 = %.2f M Pa \n',C21,C22,R2)\n",
"printf('\n C3 : (%.2f M Pa, %.e)  R3 = %.2f M Pa \n',C31,C32,R3)\n",
"printf('\n at point A')\n",
"printf('\n Normal stress = %.d M Pa and shear stress = %.2f M Pa',SnnA,SnsA)\n",
"printf('\n at point B')\n",
"printf('\n Normal stress = %.d M Pa and shear stress = %.2f M Pa',SnnB,SnsB)\n",
""
   ]
   }
,
{
		   "cell_type": "markdown",
		   "metadata": {},
		   "source": [
			"## Example 2.5: Example5.sce"
		   ]
		  },
  {
"cell_type": "code",
	   "execution_count": null,
	   "metadata": {
	    "collapsed": true
	   },
	   "outputs": [],
"source": [
"clc\n",
"// initialization of variables\n",
"clear\n",
"sig_xx=80 // MPa\n",
"sig_yy=60 // MPa\n",
"sig_xy=20 // MPa\n",
"sig_xz=40 // MPa\n",
"sig_yz=10 // MPa\n",
"sig_zz=20 // MPa\n",
"// Direction cosines at point A\n",
"l=1/sqrt(6)\n",
"m=2/sqrt(6)\n",
"n=1/sqrt(6)\n",
"// calculations\n",
"SpX=sig_xx*l+sig_xy*m+sig_xz*n\n",
"SpY=sig_xy*l+sig_yy*m+sig_yz*n\n",
"SpZ=sig_xz*l+sig_yz*m+sig_zz*n\n",
"// result\n",
"printf('part (a)')\n",
"printf('\n The stress vector is = %.3f i + %.3f j + %.3f k',SpX,SpY,SpZ)\n",
"// part b\n",
"I1=sig_xx+sig_yy+sig_zz\n",
"I2=sig_xx*sig_yy-sig_xy^2+sig_zz*sig_xx-sig_xz^2+sig_zz*sig_yy-sig_yz^2\n",
"M=[sig_xx sig_xy sig_xz\n",
"   sig_xy sig_yy sig_yz\n",
"   sig_xz sig_yz sig_zz]\n",
"I3=det(M)   \n",
"p=[1 -I1 I2 -I3]\n",
"sigma=roots(p)\n",
"tau_max=(sigma(1)-sigma(3))/2\n",
"tau_oct=sqrt((sigma(1)-sigma(2))^2+(sigma(1)-sigma(3))^2+(sigma(2)-sigma(3))^2)*1/3\n",
"n=tau_max/tau_oct\n",
"printf('\n part (b)')\n",
"printf('\n The principal stresses are sigma1= %.3f , sigma2=%.3f , sigma3=%.3f M Pa',sigma(1),sigma(2),sigma(3))\n",
"printf('\n and maximum shear stress is = %d M Pa',tau_max)\n",
"printf('\n part (c)')\n",
"printf('\n octahedral shear stress is %.3f MPa ',tau_oct)\n",
"printf('\n Comparing tau_oct and tau_max, we see that \n')\n",
"printf(' tau_max = %.3f tau_oct',n)"
   ]
   }
,
{
		   "cell_type": "markdown",
		   "metadata": {},
		   "source": [
			"## Example 2.7: Example7.sce"
		   ]
		  },
  {
"cell_type": "code",
	   "execution_count": null,
	   "metadata": {
	    "collapsed": true
	   },
	   "outputs": [],
"source": [
"clc\n",
"// initialization of variables\n",
"clear\n",
"tau_max=160 //MPa\n",
"S_max=0\n",
"//S_min=-S_o\n",
"S_min=S_max-2*tau_max\n",
"S_o=-S_min\n",
"printf('part (a)')\n",
"printf('\n Sigma_o = %d MPa',S_o)"
   ]
   }
],
"metadata": {
		  "kernelspec": {
		   "display_name": "Scilab",
		   "language": "scilab",
		   "name": "scilab"
		  },
		  "language_info": {
		   "file_extension": ".sce",
		   "help_links": [
			{
			 "text": "MetaKernel Magics",
			 "url": "https://github.com/calysto/metakernel/blob/master/metakernel/magics/README.md"
			}
		   ],
		   "mimetype": "text/x-octave",
		   "name": "scilab",
		   "version": "0.7.1"
		  }
		 },
		 "nbformat": 4,
		 "nbformat_minor": 0
}
