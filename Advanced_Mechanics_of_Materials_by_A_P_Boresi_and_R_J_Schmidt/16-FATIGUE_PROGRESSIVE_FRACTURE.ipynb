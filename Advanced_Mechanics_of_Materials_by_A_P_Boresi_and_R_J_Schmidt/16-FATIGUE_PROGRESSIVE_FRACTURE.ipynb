{
"cells": [
 {
		   "cell_type": "markdown",
	   "metadata": {},
	   "source": [
       "# Chapter 16: FATIGUE PROGRESSIVE FRACTURE"
	   ]
	},
{
		   "cell_type": "markdown",
		   "metadata": {},
		   "source": [
			"## Example 16.1: Example1.sce"
		   ]
		  },
  {
"cell_type": "code",
	   "execution_count": null,
	   "metadata": {
	    "collapsed": true
	   },
	   "outputs": [],
"source": [
"clc\n",
"// initialization of variables\n",
"clear\n",
"Y=345 //MPa\n",
"S_u=586 //MPa\n",
"d=20 //mm\n",
"R=800 //mm\n",
"//part (a)\n",
"SF=1.8\n",
"N=1e+07\n",
"S_am=290 //MPa\n",
"// P_max not yet known. take it as unity until an equation to be solved is encountered\n",
"P_max=1\n",
"c=d/2\n",
"M=SF/2*P_max*R //M=T\n",
"I=%pi*c^4/4\n",
"Sigma=M*c/I\n",
"J=%pi*c^4/2\n",
"tau=M*c/J\n",
"S_max=315 //MPa\n",
"// P_max^2*(3*(tau/S_max)^2+(Sigmaa/S_max)^2)=1\n",
"P_max=sqrt(1/((3*(tau/S_max)^2)+(Sigma/S_max)^2))\n",
"P_min=-5/6*P_max\n",
"printf('part(a)')\n",
"printf('\n P_max = %d N',P_max)\n",
"printf('\n P_min = %d N',P_min)\n",
"\n",
"\n",
""
   ]
   }
,
{
		   "cell_type": "markdown",
		   "metadata": {},
		   "source": [
			"## Example 16.2: Example2.sce"
		   ]
		  },
  {
"cell_type": "code",
	   "execution_count": null,
	   "metadata": {
	    "collapsed": true
	   },
	   "outputs": [],
"source": [
"clc\n",
"// initialization of variables\n",
"clear\n",
"b=10 //mm\n",
"M=1\n",
"t=50 //mm\n",
"rho=5 //mm\n",
"h=25 //mm\n",
"c=60 //mm\n",
"SF=4.0\n",
"//part (a)\n",
"S_cc=2.8\n",
"q=0.94\n",
"S_ce=1+q*(S_cc-1)\n",
"// M is not known. take it as unity\n",
"S_n=3*M*t/(2*h*(c^3-t^3))\n",
"S_e=S_ce*S_n\n",
"printf('part (a)')\n",
"printf('\n Effective stress = %.1e M',S_e)\n",
"//part (b)\n",
"S_max=172 //MPa\n",
"S_w=S_max/SF\n",
"M=S_w/S_e\n",
"printf('\n part (b)')\n",
"printf('\n M =%.1f N.m',M/10^3)\n",
""
   ]
   }
,
{
		   "cell_type": "markdown",
		   "metadata": {},
		   "source": [
			"## Example 16.3: Example3.sce"
		   ]
		  },
  {
"cell_type": "code",
	   "execution_count": null,
	   "metadata": {
	    "collapsed": true
	   },
	   "outputs": [],
"source": [
"clc\n",
"// initialization of variables\n",
"clear\n",
"rho=0.75 //mm\n",
"S_n=32.97e-06 // M\n",
"S_cc=6.1\n",
"q=0.69\n",
"S_ce=1+q*(S_cc-1)\n",
"// M is not known. take it as unity\n",
"M=1\n",
"S_e=S_ce*S_n\n",
"printf('part (a)')\n",
"printf('\n Effective stress = %.1e M',S_e)\n",
"// part (b)\n",
"S_w=43 //MPa\n",
"M=S_w/S_e\n",
"printf('\n part (b)')\n",
"printf('\n M =%.1f N.m',M/10^3)\n",
""
   ]
   }
,
{
		   "cell_type": "markdown",
		   "metadata": {},
		   "source": [
			"## Example 16.4: Example4.sce"
		   ]
		  },
  {
"cell_type": "code",
	   "execution_count": null,
	   "metadata": {
	    "collapsed": true
	   },
	   "outputs": [],
"source": [
"clc\n",
"// initialization of variables\n",
"clear\n",
"E=72 //Gpa\n",
"v=0.33\n",
"S_u=470 //MPa\n",
"Y=330 //MPa\n",
"S_an=190 //MPa\n",
"N=1e+06 //cycles\n",
"T=10 //mm\n",
"D=59 //mm\n",
"d=50 //mm\n",
"t=3 //mm\n",
"rho=t\n",
"P_min=20 //kN\n",
"q=0.95\n",
"//calculations\n",
"P_min=P_min*10^3\n",
"S_cc=1.90\n",
"S_ce=1+q*(S_cc-1)\n",
"A=T*d\n",
"S_nMin=P_min/A\n",
"S_nam=S_an/S_ce\n",
"//(S_na/S_nam)+(S_nm/S_u)^2=1\n",
"// S_nm^2=S_nMin^2+S_na^2+2*S_na*S_nMin\n",
"c=S_nMin^2-S_u^2\n",
"a=1\n",
"b=2*S_nMin+S_u^2/S_nam\n",
"S_na=roots([a b c])\n",
"S_na=S_na(2)\n",
"// Solving gives S_na\n",
"S_nm=S_nMin+S_na\n",
"S_nMax=S_nMin+2*S_na\n",
"P_max=A*S_nMax\n",
"S_max=S_nm+S_ce*S_na\n",
"S_min=S_nm-S_ce*S_na\n",
"printf('P_max = %.1f kN',P_max/10^3)\n",
"printf('\n S_max = %.1f MPa',S_max)\n",
"printf('\n S_min = %.1f MPa',S_min)\n",
"\n",
"\n",
"\n",
""
   ]
   }
,
{
		   "cell_type": "markdown",
		   "metadata": {},
		   "source": [
			"## Example 16.5: Example5.sce"
		   ]
		  },
  {
"cell_type": "code",
	   "execution_count": null,
	   "metadata": {
	    "collapsed": true
	   },
	   "outputs": [],
"source": [
"clc\n",
"// initialization of variables\n",
"clear\n",
"// Equation given: E_l =E_p + E_e\n",
"// E_p = 0.58*(2N)^-0.57\n",
"// E_e=0.0062*(2N)^-0.09\n",
"// Part (a)\n",
"function [f]=func(N)\n",
"    f = 0.58*(2*N)^(-0.57)+0.0062*(2*N)^(-0.09)-0.01;\n",
"endfunction\n",
"\n",
"Nc=6390\n",
"N=Nc\n",
"E_p = 0.58*(2*N)^-0.57\n",
"E_e = 0.0062*(2*N)^-0.09\n",
"E_l=E_p+E_e\n",
"printf('Part (a)')\n",
"printf('\n Total strain = %.5f ',E_l)\n",
"//part (b)\n",
"N=1/2*10^6\n",
"E_p = 0.58*(2*N)^-0.57\n",
"E_e = 0.0062*(2*N)^-0.09\n",
"E_l=E_p+E_e\n",
"printf('\n Part (b)')\n",
"printf('\n Total strain = %.5f ',E_l)\n",
"// part (c)\n",
"E_l=0.01\n",
"// In order to solve for N We have to solve a non-linear equation\n",
"\n",
"N = 1;//initial guess\n",
"f = 1;//initial guess\n",
"while(abs(f)>0.000001),\n",
"    f = func(N);    \n",
"    if f>0 then\n",
"        N = N+1;\n",
"    elseif f<0 then\n",
"        N = N-1;\n",
"    end\n",
"end\n",
"printf('\n N = %d cycles.',N);"
   ]
   }
],
"metadata": {
		  "kernelspec": {
		   "display_name": "Scilab",
		   "language": "scilab",
		   "name": "scilab"
		  },
		  "language_info": {
		   "file_extension": ".sce",
		   "help_links": [
			{
			 "text": "MetaKernel Magics",
			 "url": "https://github.com/calysto/metakernel/blob/master/metakernel/magics/README.md"
			}
		   ],
		   "mimetype": "text/x-octave",
		   "name": "scilab",
		   "version": "0.7.1"
		  }
		 },
		 "nbformat": 4,
		 "nbformat_minor": 0
}
