{
"cells": [
 {
		   "cell_type": "markdown",
	   "metadata": {},
	   "source": [
       "# Chapter 4: INELASTIC MATERIAL BEHAVIOR"
	   ]
	},
{
		   "cell_type": "markdown",
		   "metadata": {},
		   "source": [
			"## Example 4.1: Example1.sce"
		   ]
		  },
  {
"cell_type": "code",
	   "execution_count": null,
	   "metadata": {
	    "collapsed": true
	   },
	   "outputs": [],
"source": [
"clc\n",
"// initialization of variables\n",
"clear\n",
"P=170 //kN\n",
"A=645 // (mm)^2\n",
"// part (a)\n",
"E=211.4 // G Pa (from figure)\n",
"Y=252.6 // M Pa (from figure)\n",
"Beta=0.0799 // G Pa (from figure)\n",
"Ey=Y/E\n",
"// The stress strain law given is\n",
"// Sigma= E*eps  for eps< Ey\n",
"// Sigma= (1-Beta)*Y + Beta*E*eps  otherwise\n",
"\n",
"// part (b)\n",
"th=atan(1.8/2.4)// radians\n",
"F=P/(2*cos(th))\n",
"F=F*10^3 //N\n",
"A=A*10^-6 //m^2\n",
"E=E*10^9 //Pa\n",
"Y=Y*10^6 //Pa\n",
"L=3.0 //m\n",
"Sigma=F/A\n",
"if(Sigma<Y)\n",
"    eps=Sigma/E\n",
"else\n",
"   eps=(Sigma-(1-Beta)*Y )/(Beta*E) \n",
"end\n",
"u=eps*L/cos(th)\n",
"u=u*10^3 //mm\n",
"// results\n",
"printf('part (b)\n')\n",
"printf(' Deflection = %.3f mm',u)\n",
"\n",
"// part (c)\n",
"P=270 //kN\n",
"F=P/(2*cos(th))\n",
"F=F*10^3 //N\n",
"Sigma=F/A\n",
"if(Sigma<Y)\n",
"    eps=Sigma/E\n",
"else\n",
"   eps=(Sigma-(1-Beta)*Y )/(Beta*E) \n",
"end\n",
"u=eps*L/cos(th)\n",
"u=u*10^3 //mm\n",
"// results\n",
"printf('\n part (c)\n')\n",
"printf(' Deflection = %.3f mm for P = %.d kN',u,P)\n",
"\n",
"P=300 //kN\n",
"F=P/(2*cos(th))\n",
"F=F*10^3 //N\n",
"Sigma=F/A\n",
"if(Sigma<Y)\n",
"    eps=Sigma/E\n",
"else\n",
"   eps=(Sigma-(1-Beta)*Y )/(Beta*E) \n",
"end\n",
"u=eps*L/cos(th)\n",
"u=u*10^3 //mm\n",
"// results\n",
"printf('\n Deflection = %.3f mm for P = %.d kN',u,P)\n",
""
   ]
   }
,
{
		   "cell_type": "markdown",
		   "metadata": {},
		   "source": [
			"## Example 4.2: Example2.sce"
		   ]
		  },
  {
"cell_type": "code",
	   "execution_count": null,
	   "metadata": {
	    "collapsed": true
	   },
	   "outputs": [],
"source": [
"clc\n",
"// initialization of variables\n",
"clear\n",
"// Material properties\n",
"E=200 //GPa\n",
"A=100 //mm^2\n",
"Y1=500 //M Pa\n",
"Y2=250 // MPa\n",
"// calculations\n",
"E=E*10^9 // Pa\n",
"A=A*10^-6 //m^2\n",
"Y1=Y1*10^6 // Pa\n",
"Y2=Y2*10^6 //Pa\n",
"L_FG=1 //m\n",
"L_CD=2 // m\n",
"P1=Y2*A\n",
"e=P1*L_FG/(E*A)\n",
"e_FG=e\n",
"e_CD=e\n",
"P2=E*A*e_FG/L_FG\n",
"P3=E*A*e_CD/L_CD\n",
"Py=2*P1+2*P2+P3\n",
"//results\n",
"printf('part (a) \n')\n",
"printf(' Yield Load Py = %.1f kN and the displacement is %.2f mm',Py/10^3,e*10^3)\n",
"\n",
"// part(b)\n",
"P4=Y1*A\n",
"e=P4*L_FG/(E*A)\n",
"P5=E*A*e/L_CD\n",
"P=2*P1+2*P4+P5\n",
"printf('\n part (b) \n')\n",
"printf(' Yield Load P = %.1f kN and the displacement is %.2f mm',P/10^3,e*10^3)\n",
"// Fully plastic load\n",
"P6=Y2*A*2\n",
"Pp=2*P1+2*P4+P6\n",
"e_CD=P6*L_CD/(E*A)\n",
"printf('\n Fully Plastic Load Pp = %.1f kN and the displacement is %.2f mm',Pp/10^3,e_CD*10^3)\n",
""
   ]
   }
,
{
		   "cell_type": "markdown",
		   "metadata": {},
		   "source": [
			"## Example 4.3: Example3.sce"
		   ]
		  },
  {
"cell_type": "code",
	   "execution_count": null,
	   "metadata": {
	    "collapsed": true
	   },
	   "outputs": [],
"source": [
"clc\n",
"// initialization of variables\n",
"clear\n",
"// Stresses\n",
"Sxx=100 // MPa\n",
"Syy=-14 // MPa\n",
"Sxy=50 // MPa\n",
"Y=300 // MPa\n",
"// part (a)\n",
"Szz=0 // MPa\n",
"Syz=0 //MPa\n",
"Sxz=0 // MPa\n",
"// To calculate principal stresses\n",
"I1=Sxx+Syy+Szz\n",
"I2=Sxx*Syy-Sxy^2+Szz*Sxx-Sxz^2+Szz*Syy-Syz^2\n",
"M=[Sxx Sxy Sxz\n",
"   Sxy Syy Syz\n",
"   Sxz Syz Szz]\n",
"I3=det(M)   \n",
"p=[1 -I1 I2 -I3]\n",
"Sigma=roots(p)\n",
"Smax=Sigma(1)\n",
"Smin=Sigma(2)\n",
"// Smax=max(Sigma)\n",
"// Smin=min(Sigma)\n",
"tau_max=Y/2\n",
"SF=tau_max*2/(Smax-Smin)\n",
"printf('part (a)\n')\n",
"printf(' SF = %.2f if the material obeys Tresca criterion',SF)\n",
"\n",
"// part (b)\n",
"SF=sqrt(2)*Y/sqrt((Smax^2)+(Smin^2)+(Smin-Smax)^2)\n",
"printf('\n part (b)')\n",
"printf('\n SF = %.2f if the material obeys von Mises criterion',SF)"
   ]
   }
],
"metadata": {
		  "kernelspec": {
		   "display_name": "Scilab",
		   "language": "scilab",
		   "name": "scilab"
		  },
		  "language_info": {
		   "file_extension": ".sce",
		   "help_links": [
			{
			 "text": "MetaKernel Magics",
			 "url": "https://github.com/calysto/metakernel/blob/master/metakernel/magics/README.md"
			}
		   ],
		   "mimetype": "text/x-octave",
		   "name": "scilab",
		   "version": "0.7.1"
		  }
		 },
		 "nbformat": 4,
		 "nbformat_minor": 0
}
