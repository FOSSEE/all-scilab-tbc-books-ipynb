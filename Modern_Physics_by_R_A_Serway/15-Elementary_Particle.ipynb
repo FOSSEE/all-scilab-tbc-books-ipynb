{
"cells": [
 {
		   "cell_type": "markdown",
	   "metadata": {},
	   "source": [
       "# Chapter 15: Elementary Particle"
	   ]
	},
{
		   "cell_type": "markdown",
		   "metadata": {},
		   "source": [
			"## Example 15.2: Checking_Baryon_Numbers.sce"
		   ]
		  },
  {
"cell_type": "code",
	   "execution_count": null,
	   "metadata": {
	    "collapsed": true
	   },
	   "outputs": [],
"source": [
"// Scilab code Ex15.2: Pg 560 (2005)\n",
"clc; clear;\n",
"// Data for Reaction 1\n",
"R1 = cell(6,2);  // Declare a 6X2 cell\n",
"R1(1,1).entries = 'p';\n",
"R1(2,1).entries = 'n';\n",
"R1(3,1).entries = 'p';\n",
"R1(4,1).entries = 'p';\n",
"R1(5,1).entries = 'n';\n",
"R1(6,1).entries = 'p_bar';\n",
"R1(1,2).entries = 1;\n",
"R1(2,2).entries = 1;\n",
"R1(3,2).entries = 1;\n",
"R1(4,2).entries = 1;\n",
"R1(5,2).entries = 1;\n",
"R1(6,2).entries = -1;\n",
"// Data for reaction 2\n",
"R2 = cell(5,2);  // Declare a 5X2 cell\n",
"R2(1,1).entries = 'p';\n",
"R2(2,1).entries = 'n';\n",
"R2(3,1).entries = 'p';\n",
"R2(4,1).entries = 'p';\n",
"R2(5,1).entries = 'p_bar';\n",
"R2(1,2).entries = 1;\n",
"R2(2,2).entries = 1;\n",
"R2(3,2).entries = 1;\n",
"R2(4,2).entries = 1;\n",
"R2(5,2).entries = -1;\n",
"// Check baryon number conservation for first reaction\n",
"if (R1(1,2).entries+R1(2,2).entries) == (R1(3,2).entries+R1(4,2).entries+R1(5,2).entries+R1(6,2).entries) then\n",
"    printf('\nThe reaction %s + %s --> %s + %s + %s + %s can occur (B is conserved)', R1(1,1).entries, R1(2,1).entries, R1(3,1).entries, R1(4,1).entries, R1(5,1).entries, R1(6,1).entries);\n",
"else\n",
"    printf('\nThe reaction %s + %s --> %s + %s + %s + %s cannot occur (B is not conserved)', R1(1,1).entries, R1(2,1).entries, R1(3,1).entries, R1(4,1).entries, R1(5,1).entries, R1(6,1).entries);\n",
"end\n",
"// Check baryon number conservation for second reaction\n",
"if R2(1,2).entries+R2(2,2).entries == R2(3,2).entries+R2(4,2).entries+R2(5,2).entries then\n",
"    printf('\nThe reaction %s + %s --> %s + %s + %s can occur (B is conserved)', R2(1,1).entries, R2(2,1).entries, R2(3,1).entries, R2(4,1).entries, R2(5,1).entries);\n",
"else\n",
"    printf('\nThe reaction %s + %s --> %s + %s + %s cannot occur (B is not conserved)', R2(1,1).entries, R2(2,1).entries, R2(3,1).entries, R2(4,1).entries, R2(5,1).entries);\n",
"end\n",
"\n",
"// Result\n",
"// The reaction p + n --> p + p + n + p_bar can occur (B is conserved)\n",
"// The reaction p + n --> p + p + p_bar cannot occur (B is not conserved) "
   ]
   }
,
{
		   "cell_type": "markdown",
		   "metadata": {},
		   "source": [
			"## Example 15.3: Checking_Lepton_Numbers.sce"
		   ]
		  },
  {
"cell_type": "code",
	   "execution_count": null,
	   "metadata": {
	    "collapsed": true
	   },
	   "outputs": [],
"source": [
"// Scilab code Ex15.3: Pg 561 (2005)\n",
"clc; clear;\n",
"// Data for Reaction 1\n",
"R1 = cell(4,3);  // Declare a 4X3 cell\n",
"R1(1,1).entries = 'mu';\n",
"R1(2,1).entries = 'e-';\n",
"R1(3,1).entries = 'nue_bar';\n",
"R1(4,1).entries = 'nu_mu';\n",
"R1(1,2).entries = 1;    // Muon number for mu\n",
"R1(2,2).entries = 0;    // Muon number for e-\n",
"R1(3,2).entries = 0;    // Muon number for nue_bar\n",
"R1(4,2).entries = 1;    // Muon number for nu_mu\n",
"R1(1,3).entries = 0;    // Lepton number for mu\n",
"R1(2,3).entries = 1;    // Lepton number for e-\n",
"R1(3,3).entries = -1;    // Lepton number for nue_bar\n",
"R1(4,3).entries = 0;    // Lepton number for nu_mu\n",
"// Data for Reaction 2\n",
"R2 = cell(4,3);  // Declare a 4X3 cell\n",
"R2(1,1).entries = 'Pi+';\n",
"R2(2,1).entries = 'mu+';\n",
"R2(3,1).entries = 'nu_mu';\n",
"R2(4,1).entries = 'nu_e';\n",
"R2(1,2).entries = 0;    // Muon number for Pi+\n",
"R2(2,2).entries = -1;    // Muon number for mu+\n",
"R2(3,2).entries = 1;    // Muon number for nu_mu\n",
"R2(4,2).entries = 0;    // Muon number for nu_e\n",
"R2(1,3).entries = 0;    // Lepton number for Pi+\n",
"R2(2,3).entries = 0;    // Lepton number for mu+\n",
"R2(3,3).entries = 0;    // Lepton number for nu_mu\n",
"R2(4,3).entries = 1;    // Lepton number for nu_e\n",
"// Check lepton number conservation for first reaction\n",
"if (R1(1,2).entries== R1(2,2).entries+R1(3,2).entries+R1(4,2).entries) & (R1(1,3).entries == R1(2,3).entries+R1(3,3).entries+R1(4,3).entries) then\n",
"    printf('\nThe reaction %s --> %s + %s + %s can occur (Both L_mu and L_e are conserved)', R1(1,1).entries, R1(2,1).entries, R1(3,1).entries, R1(4,1).entries);\n",
"else\n",
"    printf('\nThe reaction %s + %s --> %s + %s + %s + %s cannot occur (L_mu and L_e are not conserved)', R1(1,1).entries, R1(2,1).entries, R1(3,1).entries, R1(4,1).entries);\n",
"end\n",
"// Check lepton number conservation for second reaction\n",
"if (R2(1,2).entries== R2(2,2).entries+R2(3,2).entries+R2(4,2).entries) & (R2(1,3).entries == R2(2,3).entries+R2(3,3).entries+R2(4,3).entries) then\n",
"    printf('\nThe reaction %s --> %s + %s + %s can occur (Both L_mu and L_e are conserved)', R2(1,1).entries, R2(2,1).entries, R2(3,1).entries, R2(4,1).entries);\n",
"else\n",
"    printf('\nThe reaction %s --> %s + %s + %s cannot occur (L_mu is conserved but L_e is not conserved)', R2(1,1).entries, R2(2,1).entries, R2(3,1).entries, R2(4,1).entries);\n",
"end\n",
"\n",
"// Result\n",
"// The reaction mu --> e- + nue_bar + nu_mu can occur (Both L_mu and L_e are conserved)\n",
"// The reaction Pi+ --> mu+ + nu_mu + nu_e cannot occur (L_mu is conserved but L_e is not conserved0 "
   ]
   }
,
{
		   "cell_type": "markdown",
		   "metadata": {},
		   "source": [
			"## Example 15.4: Conservation_of_strangeness.sce"
		   ]
		  },
  {
"cell_type": "code",
	   "execution_count": null,
	   "metadata": {
	    "collapsed": true
	   },
	   "outputs": [],
"source": [
"// Scilab code Ex15.4: Pg 563 (2005)\n",
"clc; clear;\n",
"// Data for Reaction 1\n",
"R1 = cell(4,2);  // Declare a 4X2 cell\n",
"R1(1,1).entries = 'Pi0';\n",
"R1(2,1).entries = 'n';\n",
"R1(3,1).entries = 'K+';\n",
"R1(4,1).entries = 'sigma-';\n",
"R1(1,2).entries = 0;    // Strangeness number for Pi0\n",
"R1(2,2).entries = 0;    // Strangeness number for n\n",
"R1(3,2).entries = 1;    // Strangeness number for K+\n",
"R1(4,2).entries = -1;    // Strangeness number for sigma-\n",
"// Data for Reaction 2\n",
"R2 = cell(4,2);  // Declare a 4X2 cell\n",
"R2(1,1).entries = 'Pi-';\n",
"R2(2,1).entries = 'p';\n",
"R2(3,1).entries = 'Pi-';\n",
"R2(4,1).entries = 'sigma+';\n",
"R2(1,2).entries = 0;    // Strangeness number for Pi-\n",
"R2(2,2).entries = -1;    // Strangeness number for p\n",
"R2(3,2).entries = 1;    // Strangeness number for pi-\n",
"R2(4,2).entries = 0;    // Strangeness number for sigma+\n",
"// Check strangeness number conservation for first reaction\n",
"if R1(1,2).entries + R1(2,2).entries == R1(3,2).entries+R1(4,2).entries then\n",
"    printf('\nThe reaction %s + %s --> %s + %s can occur (Strangness is conserved)', R1(1,1).entries, R1(2,1).entries, R1(3,1).entries, R1(4,1).entries);\n",
"else\n",
"    printf('\nThe reaction %s + %s --> %s + %s cannot occur (Strangness is not conserved)', R1(1,1).entries, R1(2,1).entries, R1(3,1).entries, R1(4,1).entries);\n",
"end\n",
"// Check strangeness number conservation for second reaction\n",
"if R2(1,2).entries + R2(2,2).entries == R2(3,2).entries+R2(4,2).entries then\n",
"    printf('\nThe reaction %s + %s --> %s + %s can occur (Strangness is conserved)', R2(1,1).entries, R2(2,1).entries, R2(3,1).entries, R2(4,1).entries);\n",
"else\n",
"    printf('\nThe reaction %s + %s --> %s + %s cannot occur (Strangness is not conserved)', R2(1,1).entries, R2(2,1).entries, R2(3,1).entries, R2(4,1).entries);\n",
"end\n",
"\n",
"// Result\n",
"// The reaction Pi0 + n --> K+ + sigma- can occur (Strangness is conserved)\n",
"// The reaction Pi- + p --> Pi- + sigma+ cannot occur (Strangness is not conserved)"
   ]
   }
,
{
		   "cell_type": "markdown",
		   "metadata": {},
		   "source": [
			"## Example 15.5: Making_virtual_particle_real.sce"
		   ]
		  },
  {
"cell_type": "code",
	   "execution_count": null,
	   "metadata": {
	    "collapsed": true
	   },
	   "outputs": [],
"source": [
"// Scilab code Ex15.5: Pg 570 (2005)\n",
"clc; clear;\n",
"m_pi = 135;     // Mass of pion, MeV/c^2\n",
"m_p = 938.3;     // Mass op proton, MeV/c^2\n",
"// For simplification, let velocity of light be unity\n",
"c = 1;       // Velocity of light, m/s\n",
"// Simplifying  K_th = (m_3 + m_4 + m_5 + ....)^2*c^2 - (m_1 + m_2)^2*c^2, we get\n",
"K_th = 2*m_pi*c^(2) + ((m_pi*c)^2/(2*m_p));     // Required kinetic energy of proton, MeV\n",
"printf('\nRequired kinetic energy of proton = %3d MeV', ceil(K_th));\n",
"\n",
"// Result\n",
"// Required kinetic energy of proton = 280 MeV "
   ]
   }
],
"metadata": {
		  "kernelspec": {
		   "display_name": "Scilab",
		   "language": "scilab",
		   "name": "scilab"
		  },
		  "language_info": {
		   "file_extension": ".sce",
		   "help_links": [
			{
			 "text": "MetaKernel Magics",
			 "url": "https://github.com/calysto/metakernel/blob/master/metakernel/magics/README.md"
			}
		   ],
		   "mimetype": "text/x-octave",
		   "name": "scilab",
		   "version": "0.7.1"
		  }
		 },
		 "nbformat": 4,
		 "nbformat_minor": 0
}
